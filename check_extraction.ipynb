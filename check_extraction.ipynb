{
 "cells": [
  {
   "cell_type": "code",
   "execution_count": 4,
   "metadata": {},
   "outputs": [],
   "source": [
    "import os\n",
    "from datetime import datetime\n",
    "plate = 9\n",
    "directory = \"/scratch/shared/mrozemul/Fiji.app/\" \n",
    "listdir=os.listdir(directory) \n",
    "list_dir_interest=[name for name in listdir if name.split('_')[-1]==f'Plate{0 if plate<10 else \"\"}{plate}']\n",
    "ss=[name.split('_')[0] for name in list_dir_interest]\n",
    "ff=[name.split('_')[1] for name in list_dir_interest]\n",
    "dates_datetime=[datetime(year=int(ss[i][:4]),month=int(ss[i][4:6]),day=int(ss[i][6:8]),hour=int(ff[i][0:2]),minute=int(ff[i][2:4])) for i in range(len(list_dir_interest))]\n",
    "dates_datetime.sort()\n",
    "dates_datetime_chosen=dates_datetime\n",
    "dates = [f'{0 if date.month<10 else \"\"}{date.month}{0 if date.day<10 else \"\"}{date.day}_{0 if date.hour<10 else \"\"}{date.hour}{0 if date.minute<10 else \"\"}{date.minute}' for date in dates_datetime_chosen]"
   ]
  },
  {
   "cell_type": "code",
   "execution_count": 5,
   "metadata": {},
   "outputs": [
    {
     "data": {
      "text/plain": [
       "[datetime.datetime(2020, 7, 14, 14, 15),\n",
       " datetime.datetime(2020, 7, 14, 15, 34),\n",
       " datetime.datetime(2020, 7, 14, 19, 34),\n",
       " datetime.datetime(2020, 7, 14, 23, 34),\n",
       " datetime.datetime(2020, 7, 15, 3, 34),\n",
       " datetime.datetime(2020, 7, 15, 7, 34),\n",
       " datetime.datetime(2020, 7, 15, 11, 34),\n",
       " datetime.datetime(2020, 7, 15, 15, 34),\n",
       " datetime.datetime(2020, 7, 15, 19, 34),\n",
       " datetime.datetime(2020, 7, 15, 23, 34),\n",
       " datetime.datetime(2020, 7, 16, 3, 34),\n",
       " datetime.datetime(2020, 7, 16, 7, 34),\n",
       " datetime.datetime(2020, 7, 16, 11, 34),\n",
       " datetime.datetime(2020, 7, 18, 9, 25),\n",
       " datetime.datetime(2020, 7, 18, 13, 25),\n",
       " datetime.datetime(2020, 7, 18, 17, 25),\n",
       " datetime.datetime(2020, 7, 18, 21, 25),\n",
       " datetime.datetime(2020, 7, 19, 1, 25),\n",
       " datetime.datetime(2020, 7, 19, 5, 25),\n",
       " datetime.datetime(2020, 7, 19, 9, 25),\n",
       " datetime.datetime(2020, 7, 19, 13, 25),\n",
       " datetime.datetime(2020, 7, 19, 17, 25),\n",
       " datetime.datetime(2020, 7, 19, 21, 25),\n",
       " datetime.datetime(2020, 7, 20, 1, 25),\n",
       " datetime.datetime(2020, 7, 20, 5, 25),\n",
       " datetime.datetime(2020, 7, 20, 12, 20),\n",
       " datetime.datetime(2020, 7, 20, 16, 58),\n",
       " datetime.datetime(2020, 7, 20, 20, 20),\n",
       " datetime.datetime(2020, 7, 21, 0, 20),\n",
       " datetime.datetime(2020, 7, 21, 4, 20),\n",
       " datetime.datetime(2020, 7, 21, 8, 20),\n",
       " datetime.datetime(2020, 7, 21, 12, 21),\n",
       " datetime.datetime(2020, 7, 21, 16, 21),\n",
       " datetime.datetime(2020, 7, 21, 20, 21),\n",
       " datetime.datetime(2020, 7, 22, 0, 21),\n",
       " datetime.datetime(2020, 7, 22, 4, 21),\n",
       " datetime.datetime(2020, 7, 22, 8, 21),\n",
       " datetime.datetime(2020, 7, 22, 12, 21),\n",
       " datetime.datetime(2020, 7, 23, 8, 21),\n",
       " datetime.datetime(2020, 7, 23, 12, 21),\n",
       " datetime.datetime(2020, 7, 23, 16, 21),\n",
       " datetime.datetime(2020, 7, 23, 20, 21),\n",
       " datetime.datetime(2020, 7, 24, 0, 21),\n",
       " datetime.datetime(2020, 7, 24, 4, 21),\n",
       " datetime.datetime(2020, 7, 24, 8, 21),\n",
       " datetime.datetime(2020, 7, 24, 12, 21),\n",
       " datetime.datetime(2020, 7, 24, 16, 21),\n",
       " datetime.datetime(2020, 7, 24, 20, 21)]"
      ]
     },
     "execution_count": 5,
     "metadata": {},
     "output_type": "execute_result"
    }
   ],
   "source": [
    "dates_datetime"
   ]
  }
 ],
 "metadata": {
  "kernelspec": {
   "display_name": "Python 3",
   "language": "python",
   "name": "python3"
  },
  "language_info": {
   "codemirror_mode": {
    "name": "ipython",
    "version": 3
   },
   "file_extension": ".py",
   "mimetype": "text/x-python",
   "name": "python",
   "nbconvert_exporter": "python",
   "pygments_lexer": "ipython3",
   "version": "3.7.8"
  }
 },
 "nbformat": 4,
 "nbformat_minor": 4
}

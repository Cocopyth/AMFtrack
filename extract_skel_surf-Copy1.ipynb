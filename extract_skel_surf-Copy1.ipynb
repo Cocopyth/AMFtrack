{
 "cells": [
  {
   "cell_type": "code",
   "execution_count": 10,
   "metadata": {},
   "outputs": [
    {
     "name": "stdout",
     "output_type": "stream",
     "text": [
      "Directory  /scratch/shared/mrozemul/Fiji.app/20200816_1257_Plate03/Analysis  already exists\n"
     ]
    }
   ],
   "source": [
    "%matplotlib widget\n",
    "from util import get_path\n",
    "import pandas as pd\n",
    "import networkx as nx\n",
    "import numpy as np\n",
    "import matplotlib.pyplot as plt\n",
    "from extract_graph import generate_nx_graph, transform_list, generate_skeleton, generate_nx_graph_from_skeleton, from_connection_tab, from_nx_to_tab\n",
    "from node_id import whole_movement_identification, second_identification\n",
    "import ast\n",
    "from plotutil import plot_t_tp1, compress_skeleton\n",
    "from scipy import sparse\n",
    "from sparse_util import dilate, zhangSuen\n",
    "from realign import realign\n",
    "from datetime import datetime,timedelta\n",
    "from node_id import orient\n",
    "import pickle\n",
    "from matplotlib.widgets import CheckButtons\n",
    "import scipy.io as sio\n",
    "import imageio\n",
    "from pymatreader import read_mat\n",
    "from matplotlib import colors\n",
    "from copy import deepcopy,copy\n",
    "from collections import Counter\n",
    "import cv2 \n",
    "import imageio\n",
    "import matplotlib.pyplot as plt\n",
    "import numpy as np\n",
    "from skimage.filters import frangi\n",
    "from skimage.morphology import thin\n",
    "from skimage import data, filters\n",
    "from random import choice\n",
    "import scipy.sparse\n",
    "import os\n",
    "from time import time\n",
    "from skimage.feature import hessian_matrix_det\n",
    "import sys\n",
    "from extract_graph import dic_to_sparse, from_sparse_to_graph, generate_nx_graph, prune_graph, from_nx_to_tab, from_nx_to_tab_matlab,sparse_to_doc, connections_pixel_list_to_tab, transform_list, clean_degree_4\n",
    "from sparse_util import dilate, zhangSuen\n",
    "\n",
    "\n",
    "i = 15\n",
    "plate = 3\n",
    "directory = \"/scratch/shared/mrozemul/Fiji.app/\" \n",
    "listdir=os.listdir(directory) \n",
    "list_dir_interest=[name for name in listdir if name.split('_')[-1]==f'Plate{0 if plate<10 else \"\"}{plate}']\n",
    "ss=[name.split('_')[0] for name in list_dir_interest]\n",
    "ff=[name.split('_')[1] for name in list_dir_interest]\n",
    "dates_datetime=[datetime(year=int(ss[i][:4]),month=int(ss[i][4:6]),day=int(ss[i][6:8]),hour=int(ff[i][0:2]),minute=int(ff[i][2:4])) for i in range(len(list_dir_interest))]\n",
    "dates_datetime.sort()\n",
    "dates_datetime_chosen=dates_datetime\n",
    "dates = [f'{0 if date.month<10 else \"\"}{date.month}{0 if date.day<10 else \"\"}{date.day}_{0 if date.hour<10 else \"\"}{date.hour}{0 if date.minute<10 else \"\"}{date.minute}' for date in dates_datetime_chosen]\n",
    "date =dates [i]\n",
    "directory_name=f'2020{date}_Plate{0 if plate<10 else \"\"}{plate}'\n",
    "path_snap='/scratch/shared/mrozemul/Fiji.app/'+directory_name\n",
    "path_tile=path_snap+'/Img/TileConfiguration.txt.registered'\n",
    "try:\n",
    "    tileconfig = pd.read_table(path_tile,sep=';',skiprows=4,header=None,converters={2 : ast.literal_eval},skipinitialspace=True)\n",
    "except:\n",
    "    print('error_name')\n",
    "    path_tile=path_snap+'/Img/TileConfiguration.registered.txt'\n",
    "    tileconfig = pd.read_table(path_tile,sep=';',skiprows=4,header=None,converters={2 : ast.literal_eval},skipinitialspace=True)\n",
    "dirName = path_snap+'/Analysis'\n",
    "shape = (3000,4096)\n",
    "try:\n",
    "    os.mkdir(path_snap+'/Analysis') \n",
    "    print(\"Directory \" , dirName ,  \" Created \")\n",
    "except FileExistsError:\n",
    "    print(\"Directory \" , dirName ,  \" already exists\")  \n",
    "t=time()\n",
    "xs =[c[0] for c in tileconfig[2]]\n",
    "ys =[c[1] for c in tileconfig[2]]\n",
    "dim = (int(np.max(ys)-np.min(ys))+4096,int(np.max(xs)-np.min(xs))+4096)\n",
    "ims = []\n",
    "for name in tileconfig[0]:\n",
    "#     ims.append(imageio.imread('//sun.amolf.nl/shimizu-data/home-folder/oyartegalvez/Drive_AMFtopology/PRINCE'+date_plate+plate_str+'/Img/'+name))\n",
    "    ims.append(imageio.imread(f'{name}'))\n",
    "mask = np.zeros(dim,dtype=np.uint8)\n",
    "for index,im in enumerate(ims):\n",
    "    im_cropped = im\n",
    "    im_blurred =cv2.blur(im_cropped, (100, 100))\n",
    "    boundaries = int(tileconfig[2][index][0]-np.min(xs)),int(tileconfig[2][index][1]-np.min(ys))\n",
    "    mask[boundaries[1]:boundaries[1]+shape[0],boundaries[0]:boundaries[0]+shape[1]] += im_blurred>70\n",
    "\n",
    "\n",
    "          "
   ]
  },
  {
   "cell_type": "code",
   "execution_count": 13,
   "metadata": {},
   "outputs": [],
   "source": [
    "skel_info = read_mat(path_snap+'/Analysis/skeleton.mat')\n",
    "skel = skel_info['skeleton']\n"
   ]
  },
  {
   "cell_type": "code",
   "execution_count": 14,
   "metadata": {},
   "outputs": [
    {
     "data": {
      "text/plain": [
       "<23719x43841 sparse matrix of type '<class 'numpy.uint8'>'\n",
       "\twith 1421955 stored elements in Compressed Sparse Column format>"
      ]
     },
     "execution_count": 14,
     "metadata": {},
     "output_type": "execute_result"
    }
   ],
   "source": [
    "skel"
   ]
  },
  {
   "cell_type": "code",
   "execution_count": 11,
   "metadata": {},
   "outputs": [],
   "source": [
    "masker = mask>0\n",
    "kernel = np.ones((100,100),np.uint8)\n",
    "output = 1-cv2.dilate(1-masker.astype(np.uint8),kernel,iterations = 1)"
   ]
  },
  {
   "cell_type": "code",
   "execution_count": 15,
   "metadata": {},
   "outputs": [],
   "source": [
    "result = output*np.array(skel.todense())"
   ]
  },
  {
   "cell_type": "code",
   "execution_count": 16,
   "metadata": {},
   "outputs": [],
   "source": [
    "sparse_result = scipy.sparse.csc_matrix(result)"
   ]
  },
  {
   "cell_type": "code",
   "execution_count": 17,
   "metadata": {},
   "outputs": [],
   "source": [
    "mask_compressed= cv2.resize(output,(dim[1]//5,dim[0]//5))"
   ]
  },
  {
   "cell_type": "code",
   "execution_count": 3,
   "metadata": {},
   "outputs": [],
   "source": [
    "sio.savemat(path_snap+'/Analysis/mask.mat',{'mask' : mask_compressed})"
   ]
  },
  {
   "cell_type": "code",
   "execution_count": 18,
   "metadata": {},
   "outputs": [],
   "source": [
    "skel_compressed = cv2.resize(result,(dim[1]//5,dim[0]//5))"
   ]
  },
  {
   "cell_type": "code",
   "execution_count": 19,
   "metadata": {},
   "outputs": [
    {
     "data": {
      "application/vnd.jupyter.widget-view+json": {
       "model_id": "4e36c7bd725d49189f80ad8b30a6b743",
       "version_major": 2,
       "version_minor": 0
      },
      "text/plain": [
       "Canvas(toolbar=Toolbar(toolitems=[('Home', 'Reset original view', 'home', 'home'), ('Back', 'Back to previous …"
      ]
     },
     "metadata": {},
     "output_type": "display_data"
    }
   ],
   "source": [
    "plt.close('all')\n",
    "plot_t_tp1([],[],None,None,mask_compressed>0,skel_compressed)"
   ]
  },
  {
   "cell_type": "code",
   "execution_count": 58,
   "metadata": {},
   "outputs": [
    {
     "data": {
      "application/vnd.jupyter.widget-view+json": {
       "model_id": "a6daba0cfea64b77a7b8f1f37df49240",
       "version_major": 2,
       "version_minor": 0
      },
      "text/plain": [
       "Canvas(toolbar=Toolbar(toolitems=[('Home', 'Reset original view', 'home', 'home'), ('Back', 'Back to previous …"
      ]
     },
     "metadata": {},
     "output_type": "display_data"
    },
    {
     "data": {
      "text/plain": [
       "<matplotlib.image.AxesImage at 0x2b115efb0490>"
      ]
     },
     "execution_count": 58,
     "metadata": {},
     "output_type": "execute_result"
    }
   ],
   "source": [
    "plt.close('all')\n",
    "fig=plt.figure(figsize=(10,9))\n",
    "ax = fig.add_subplot(111)\n",
    "ax.imshow(skel_compressed)"
   ]
  },
  {
   "cell_type": "code",
   "execution_count": 11,
   "metadata": {},
   "outputs": [
    {
     "data": {
      "application/vnd.jupyter.widget-view+json": {
       "model_id": "d87df2bf885840549f264aa3b0599d79",
       "version_major": 2,
       "version_minor": 0
      },
      "text/plain": [
       "Canvas(toolbar=Toolbar(toolitems=[('Home', 'Reset original view', 'home', 'home'), ('Back', 'Back to previous …"
      ]
     },
     "metadata": {},
     "output_type": "display_data"
    },
    {
     "data": {
      "text/plain": [
       "<matplotlib.image.AxesImage at 0x2b117483d310>"
      ]
     },
     "execution_count": 11,
     "metadata": {},
     "output_type": "execute_result"
    }
   ],
   "source": [
    "plt.close('all')\n",
    "fig=plt.figure(figsize=(10,9))\n",
    "ax = fig.add_subplot(111)\n",
    "mask = 1-(mask_compressed>0)\n",
    "kernel = np.ones((50,50),np.uint8)\n",
    "output = cv2.dilate(mask.astype(np.uint8),kernel,iterations = 1)\n",
    "ax.imshow(output)"
   ]
  },
  {
   "cell_type": "code",
   "execution_count": 121,
   "metadata": {},
   "outputs": [
    {
     "name": "stdout",
     "output_type": "stream",
     "text": [
      "0\n"
     ]
    },
    {
     "data": {
      "application/vnd.jupyter.widget-view+json": {
       "model_id": "23d17a444ff24d298a2c115171288636",
       "version_major": 2,
       "version_minor": 0
      },
      "text/plain": [
       "Canvas(toolbar=Toolbar(toolitems=[('Home', 'Reset original view', 'home', 'home'), ('Back', 'Back to previous …"
      ]
     },
     "metadata": {},
     "output_type": "display_data"
    }
   ],
   "source": [
    "plt.close('all')\n",
    "for index,im in enumerate(ims[37:38]):\n",
    "    print(index)\n",
    "    im_cropped = im\n",
    "    im_blurred =cv2.blur(im_cropped, (100, 100))\n",
    "#     im_back_rem = (im_cropped+1)/(im_blurred+1)*120\n",
    "#     frangised = frangi(im_back_rem,sigmas=range(5,20,4))*255\n",
    "    \n",
    "# #         meijered = meijering(im_back_rem,sigmas=range(1,10,4))*255\n",
    "#     # # frangised = cv2.normalize(frangised, None, 0, 255, cv2.NORM_MINMAX)\n",
    "#     hessian = abs(hessian_matrix_det(im_back_rem,sigma = 20, approximate=True,))\n",
    "#     borders = np.zeros(hessian.shape)\n",
    "#     width =100\n",
    "#     borders[0:width,:]=1\n",
    "#     borders[-width:,:]=1\n",
    "#     borders[:,0:width]=1\n",
    "#     borders[:,-width:]=1\n",
    "#     hessian = cv2.blur(hessian, (20, 20))*(1-borders)\n",
    "# #         transformed = (frangised+cv2.normalize(hessian, None, 0, 255, cv2.NORM_MINMAX)/4-im_back_rem+120)*(im_blurred>=35)\n",
    "#     transformed = (frangised-im_back_rem+120)*(im_blurred>=35)\n",
    "    fig=plt.figure(figsize=(10,9))\n",
    "    ax = fig.add_subplot(111)\n",
    "    ax.imshow(im_blurred)\n",
    "#     ax.imshow(transformed)"
   ]
  },
  {
   "cell_type": "code",
   "execution_count": 122,
   "metadata": {},
   "outputs": [
    {
     "name": "stdout",
     "output_type": "stream",
     "text": [
      "0\n"
     ]
    },
    {
     "data": {
      "application/vnd.jupyter.widget-view+json": {
       "model_id": "f9a4d65b220f4b14b476a516059456ec",
       "version_major": 2,
       "version_minor": 0
      },
      "text/plain": [
       "Canvas(toolbar=Toolbar(toolitems=[('Home', 'Reset original view', 'home', 'home'), ('Back', 'Back to previous …"
      ]
     },
     "metadata": {},
     "output_type": "display_data"
    },
    {
     "name": "stdout",
     "output_type": "stream",
     "text": [
      "1\n"
     ]
    },
    {
     "data": {
      "application/vnd.jupyter.widget-view+json": {
       "model_id": "b905d72e330e4af58b1612fdc9d748e7",
       "version_major": 2,
       "version_minor": 0
      },
      "text/plain": [
       "Canvas(toolbar=Toolbar(toolitems=[('Home', 'Reset original view', 'home', 'home'), ('Back', 'Back to previous …"
      ]
     },
     "metadata": {},
     "output_type": "display_data"
    }
   ],
   "source": [
    "plt.close('all')\n",
    "for index,im in enumerate(ims[65:67]):\n",
    "    print(index)\n",
    "    im_cropped = im\n",
    "    im_blurred =cv2.blur(im_cropped, (100, 100))\n",
    "#     im_back_rem = (im_cropped+1)/(im_blurred+1)*120\n",
    "#     frangised = frangi(im_back_rem,sigmas=range(5,20,4))*255\n",
    "    \n",
    "# #         meijered = meijering(im_back_rem,sigmas=range(1,10,4))*255\n",
    "#     # # frangised = cv2.normalize(frangised, None, 0, 255, cv2.NORM_MINMAX)\n",
    "#     hessian = abs(hessian_matrix_det(im_back_rem,sigma = 20, approximate=True,))\n",
    "#     borders = np.zeros(hessian.shape)\n",
    "#     width =100\n",
    "#     borders[0:width,:]=1\n",
    "#     borders[-width:,:]=1\n",
    "#     borders[:,0:width]=1\n",
    "#     borders[:,-width:]=1\n",
    "#     hessian = cv2.blur(hessian, (20, 20))*(1-borders)\n",
    "# #         transformed = (frangised+cv2.normalize(hessian, None, 0, 255, cv2.NORM_MINMAX)/4-im_back_rem+120)*(im_blurred>=35)\n",
    "#     transformed = (frangised-im_back_rem+120)*(im_blurred>=35)\n",
    "    fig=plt.figure(figsize=(10,9))\n",
    "    ax = fig.add_subplot(111)\n",
    "    ax.imshow(im_blurred)\n",
    "#     ax.imshow(transformed)"
   ]
  },
  {
   "cell_type": "code",
   "execution_count": 93,
   "metadata": {},
   "outputs": [
    {
     "data": {
      "application/vnd.jupyter.widget-view+json": {
       "model_id": "925e5da4f9c74780b1596acc95e9a560",
       "version_major": 2,
       "version_minor": 0
      },
      "text/plain": [
       "Canvas(toolbar=Toolbar(toolitems=[('Home', 'Reset original view', 'home', 'home'), ('Back', 'Back to previous …"
      ]
     },
     "metadata": {},
     "output_type": "display_data"
    },
    {
     "data": {
      "text/plain": [
       "<matplotlib.image.AxesImage at 0x2b11284e9090>"
      ]
     },
     "execution_count": 93,
     "metadata": {},
     "output_type": "execute_result"
    }
   ],
   "source": [
    "# im_blurred2 =cv2.blur(transformed, (200, 200))\n",
    "fig=plt.figure(figsize=(10,9))\n",
    "ax = fig.add_subplot(111)\n",
    "ax.imshow(im_blurred2)"
   ]
  },
  {
   "cell_type": "code",
   "execution_count": 91,
   "metadata": {},
   "outputs": [
    {
     "name": "stdout",
     "output_type": "stream",
     "text": [
      "0\n"
     ]
    },
    {
     "data": {
      "application/vnd.jupyter.widget-view+json": {
       "model_id": "7bb683cf3538400387aa1fbceb1faca0",
       "version_major": 2,
       "version_minor": 0
      },
      "text/plain": [
       "Canvas(toolbar=Toolbar(toolitems=[('Home', 'Reset original view', 'home', 'home'), ('Back', 'Back to previous …"
      ]
     },
     "metadata": {},
     "output_type": "display_data"
    },
    {
     "name": "stdout",
     "output_type": "stream",
     "text": [
      "1\n"
     ]
    },
    {
     "data": {
      "application/vnd.jupyter.widget-view+json": {
       "model_id": "c4b77fc90fab4a5aacb371227bff4fcd",
       "version_major": 2,
       "version_minor": 0
      },
      "text/plain": [
       "Canvas(toolbar=Toolbar(toolitems=[('Home', 'Reset original view', 'home', 'home'), ('Back', 'Back to previous …"
      ]
     },
     "metadata": {},
     "output_type": "display_data"
    }
   ],
   "source": [
    "plt.close('all')\n",
    "for index,im in enumerate(ims[65:67]):\n",
    "    print(index)\n",
    "    im_cropped = im\n",
    "    im_blurred =cv2.blur(im_cropped, (200, 200))\n",
    "    im_back_rem = (im_cropped+1)/(im_blurred+1)*120\n",
    "    frangised = frangi(im_back_rem,sigmas=range(5,20,4))*255\n",
    "    \n",
    "#         meijered = meijering(im_back_rem,sigmas=range(1,10,4))*255\n",
    "    # # frangised = cv2.normalize(frangised, None, 0, 255, cv2.NORM_MINMAX)\n",
    "    hessian = abs(hessian_matrix_det(im_back_rem,sigma = 20, approximate=True,))\n",
    "    borders = np.zeros(hessian.shape)\n",
    "    width =100\n",
    "    borders[0:width,:]=1\n",
    "    borders[-width:,:]=1\n",
    "    borders[:,0:width]=1\n",
    "    borders[:,-width:]=1\n",
    "    hessian = cv2.blur(hessian, (20, 20))*(1-borders)\n",
    "#         transformed = (frangised+cv2.normalize(hessian, None, 0, 255, cv2.NORM_MINMAX)/4-im_back_rem+120)*(im_blurred>=35)\n",
    "    transformed = (frangised-im_back_rem+120)*(im_blurred>=35)\n",
    "    fig=plt.figure(figsize=(10,9))\n",
    "    ax = fig.add_subplot(111)\n",
    "    ax.imshow(im_blurred)\n",
    "    ax.imshow(transformed)"
   ]
  },
  {
   "cell_type": "code",
   "execution_count": 92,
   "metadata": {},
   "outputs": [
    {
     "data": {
      "application/vnd.jupyter.widget-view+json": {
       "model_id": "32d8e9450d7041cc9f04eb7eca1e0748",
       "version_major": 2,
       "version_minor": 0
      },
      "text/plain": [
       "Canvas(toolbar=Toolbar(toolitems=[('Home', 'Reset original view', 'home', 'home'), ('Back', 'Back to previous …"
      ]
     },
     "metadata": {},
     "output_type": "display_data"
    },
    {
     "data": {
      "text/plain": [
       "<matplotlib.image.AxesImage at 0x2b1128283dd0>"
      ]
     },
     "execution_count": 92,
     "metadata": {},
     "output_type": "execute_result"
    }
   ],
   "source": [
    "im_blurred3 =cv2.blur(transformed, (200, 200))\n",
    "fig=plt.figure(figsize=(10,9))\n",
    "ax = fig.add_subplot(111)\n",
    "ax.imshow(im_blurred3)"
   ]
  },
  {
   "cell_type": "code",
   "execution_count": 23,
   "metadata": {},
   "outputs": [],
   "source": [
    "%matplotlib widget\n",
    "from util import get_path\n",
    "import pandas as pd\n",
    "import networkx as nx\n",
    "import numpy as np\n",
    "import matplotlib.pyplot as plt\n",
    "from extract_graph import generate_nx_graph, transform_list, generate_skeleton, generate_nx_graph_from_skeleton, from_connection_tab, from_nx_to_tab\n",
    "from node_id import whole_movement_identification, second_identification\n",
    "import ast\n",
    "from plotutil import plot_t_tp1, compress_skeleton\n",
    "from scipy import sparse\n",
    "from sparse_util import dilate, zhangSuen\n",
    "from realign import realign\n",
    "from datetime import datetime,timedelta\n",
    "from node_id import orient\n",
    "import pickle\n",
    "from matplotlib.widgets import CheckButtons\n",
    "import scipy.io as sio\n",
    "import imageio\n",
    "from pymatreader import read_mat\n",
    "from matplotlib import colors\n",
    "from copy import deepcopy,copy\n",
    "from collections import Counter\n",
    "import cv2 \n",
    "import imageio\n",
    "import matplotlib.pyplot as plt\n",
    "import numpy as np\n",
    "from skimage.filters import frangi\n",
    "from skimage.morphology import thin\n",
    "from skimage import data, filters\n",
    "from random import choice\n",
    "import scipy.sparse"
   ]
  },
  {
   "cell_type": "code",
   "execution_count": 2,
   "metadata": {},
   "outputs": [
    {
     "name": "stdout",
     "output_type": "stream",
     "text": [
      "time= 5.005275726318359\n"
     ]
    }
   ],
   "source": [
    "from time import time,sleep\n",
    "t=time()\n",
    "sleep(5)\n",
    "print('time=',time()-t)"
   ]
  },
  {
   "cell_type": "code",
   "execution_count": 24,
   "metadata": {},
   "outputs": [],
   "source": [
    "date = '0701_1557'\n",
    "date_plate = f'/2020{date}'\n",
    "plate = 13\n",
    "plate_str = f'_Plate{plate}'\n",
    "path_tile='//sun.amolf.nl/shimizu-data/home-folder/oyartegalvez/Drive_AMFtopology/PRINCE'+date_plate+plate_str+'/Img/TileConfiguration.registered.txt'\n",
    "tileconfig = pd.read_table(path_tile,sep=';',skiprows=4,header=None,converters={2 : ast.literal_eval},skipinitialspace=True)\n",
    "ims = []\n",
    "for name in tileconfig[0]:\n",
    "#     ims.append(imageio.imread('//sun.amolf.nl/shimizu-data/home-folder/oyartegalvez/Drive_AMFtopology/PRINCE'+date_plate+plate_str+'/Img/'+name))\n",
    "    ims.append(np.load(f'Temp\\{name}.npy'))"
   ]
  },
  {
   "cell_type": "code",
   "execution_count": 17,
   "metadata": {},
   "outputs": [],
   "source": [
    "skel = np.zeros(dim,dtype=np.uint8)\n",
    "shape = (3000,4096)\n",
    "for index,im in enumerate(ims):\n",
    "    sparse_dilated = scipy.sparse.load_npz(f'Temp/sparse_matrix{tileconfig[0][index][:-4]}.npz').todense()\n",
    "    boundaries = int(tileconfig[2][index][0]-np.min(xs)),int(tileconfig[2][index][1]-np.min(ys))\n",
    "#     print(boundaries)\n",
    "#     print(skel[boundaries[1]:boundaries[1]+shape[0],boundaries[0]:boundaries[0]+shape[1]].shape,sparse_dilated.shape)\n",
    "    skel[boundaries[1]:boundaries[1]+shape[0],boundaries[0]:boundaries[0]+shape[1]] += sparse_dilated"
   ]
  },
  {
   "cell_type": "code",
   "execution_count": 18,
   "metadata": {},
   "outputs": [],
   "source": [
    "skel=np.array(255-255*(skel>0),dtype=np.uint8)"
   ]
  },
  {
   "cell_type": "code",
   "execution_count": 21,
   "metadata": {},
   "outputs": [
    {
     "data": {
      "text/plain": [
       "(551466781, 758094965)"
      ]
     },
     "execution_count": 21,
     "metadata": {},
     "output_type": "execute_result"
    }
   ],
   "source": [
    "np.sum(skel>0),np.sum(skel<=0)"
   ]
  },
  {
   "cell_type": "code",
   "execution_count": 30,
   "metadata": {},
   "outputs": [],
   "source": [
    "import scipy.sparse\n",
    "skel = np.zeros(dim,dtype=bool)\n",
    "for index,im in enumerate(ims):\n",
    "    im_cropped = im\n",
    "    im_blurred =cv2.blur(im_cropped, (200, 200))\n",
    "    im_back_rem = (im_cropped+1)/(im_blurred+1)\n",
    "    im_back_rem = cv2.normalize(im_back_rem, None, 0, 255, cv2.NORM_MINMAX)\n",
    "    im_back_rem_inv = cv2.normalize(255-im_back_rem, None, 0, 255, cv2.NORM_MINMAX)\n",
    "#     frangised = frangi(im_back_rem,sigmas=range(1,20,4))\n",
    "#     frangised = cv2.normalize(frangised, None, 0, 255, cv2.NORM_MINMAX)\n",
    "#     transformed = cv2.normalize(frangised-im_back_rem, None, 0, 255, cv2.NORM_MINMAX)\n",
    "    transformed = cv2.normalize(-im_back_rem, None, 0, 255, cv2.NORM_MINMAX)\n",
    "    low = 180\n",
    "    high = 200\n",
    "    lowt = (transformed > low).astype(int)\n",
    "    hight = (transformed > high).astype(int)\n",
    "    hyst = filters.apply_hysteresis_threshold(transformed, low, high)\n",
    "    kernel = np.ones((3,3),np.uint8)\n",
    "    dilation = cv2.dilate(hyst.astype(np.uint8) * 255,kernel,iterations = 1)\n",
    "    for i in range(3):\n",
    "        dilation=cv2.erode(dilation.astype(np.uint8) * 255,kernel,iterations = 1)\n",
    "        dilation = cv2.dilate(dilation.astype(np.uint8) * 255,kernel,iterations = 1)\n",
    "    dilated = dilation>0\n",
    "    sparse_dilated = scipy.sparse.csc_matrix(dilated)\n",
    "#     np.save(f'Temp\\dilated{tileconfig[0][i]}',dilated)\n",
    "    boundaries = int(tileconfig[2][index][0]-np.min(xs)),int(tileconfig[2][index][1]-np.min(ys))\n",
    "#     print(boundaries)\n",
    "#     print(skel[boundaries[1]:boundaries[1]+shape[0],boundaries[0]:boundaries[0]+shape[1]].shape,sparse_dilated.shape)\n",
    "    if np.mean(sparse_dilated)<=0.5:\n",
    "        skel[boundaries[1]:boundaries[1]+shape[0],boundaries[0]:boundaries[0]+shape[1]] += sparse_dilated\n",
    "#     skeletonized = thin(dilated)\n",
    "#     break"
   ]
  },
  {
   "cell_type": "code",
   "execution_count": 31,
   "metadata": {},
   "outputs": [
    {
     "data": {
      "text/plain": [
       "13091473"
      ]
     },
     "execution_count": 31,
     "metadata": {},
     "output_type": "execute_result"
    }
   ],
   "source": [
    "np.sum(skel>0)"
   ]
  },
  {
   "cell_type": "code",
   "execution_count": 32,
   "metadata": {},
   "outputs": [
    {
     "data": {
      "text/plain": [
       "1296470273"
      ]
     },
     "execution_count": 32,
     "metadata": {},
     "output_type": "execute_result"
    }
   ],
   "source": [
    "np.sum(skel<=0)"
   ]
  },
  {
   "cell_type": "code",
   "execution_count": null,
   "metadata": {},
   "outputs": [],
   "source": [
    "skeletonized = cv2.ximgproc.thinning(np.array(255*(skel[10000:20000,10000:20000]>0),dtype=np.uint8))"
   ]
  },
  {
   "cell_type": "code",
   "execution_count": 28,
   "metadata": {},
   "outputs": [
    {
     "data": {
      "application/vnd.jupyter.widget-view+json": {
       "model_id": "89c6253abc9b40198a0a19f95cff1b98",
       "version_major": 2,
       "version_minor": 0
      },
      "text/plain": [
       "Canvas(toolbar=Toolbar(toolitems=[('Home', 'Reset original view', 'home', 'home'), ('Back', 'Back to previous …"
      ]
     },
     "metadata": {},
     "output_type": "display_data"
    },
    {
     "data": {
      "text/plain": [
       "<matplotlib.image.AxesImage at 0x1c4db2f1148>"
      ]
     },
     "execution_count": 28,
     "metadata": {},
     "output_type": "execute_result"
    }
   ],
   "source": [
    "plt.close('all')\n",
    "fig=plt.figure(figsize=(10,9))\n",
    "ax = fig.add_subplot(111)\n",
    "ax.imshow(skel[0:10000,10000:20000])"
   ]
  },
  {
   "cell_type": "code",
   "execution_count": 3,
   "metadata": {},
   "outputs": [],
   "source": [
    "xs =[c[0] for c in tileconfig[2]]\n",
    "ys =[c[1] for c in tileconfig[2]]"
   ]
  },
  {
   "cell_type": "code",
   "execution_count": 4,
   "metadata": {},
   "outputs": [],
   "source": [
    "dim = (int(np.max(ys)-np.min(ys))+4096,int(np.max(xs)-np.min(xs))+4096)"
   ]
  },
  {
   "cell_type": "code",
   "execution_count": 5,
   "metadata": {},
   "outputs": [],
   "source": [
    "skel = np.zeros(dim,dtype=bool)"
   ]
  },
  {
   "cell_type": "code",
   "execution_count": 6,
   "metadata": {},
   "outputs": [],
   "source": [
    "shape = (3000,4096)\n",
    "for index,im in enumerate(ims):\n",
    "    sparse_dilated = scipy.sparse.load_npz(f'Temp/sparse_matrix{tileconfig[0][index][:-4]}.npz').todense()\n",
    "    boundaries = int(tileconfig[2][index][0]-np.min(xs)),int(tileconfig[2][index][1]-np.min(ys))\n",
    "#     print(boundaries)\n",
    "#     print(skel[boundaries[1]:boundaries[1]+shape[0],boundaries[0]:boundaries[0]+shape[1]].shape,sparse_dilated.shape)\n",
    "    skel[boundaries[1]:boundaries[1]+shape[0],boundaries[0]:boundaries[0]+shape[1]] += sparse_dilated"
   ]
  },
  {
   "cell_type": "code",
   "execution_count": 8,
   "metadata": {},
   "outputs": [],
   "source": [
    "im = choice(ims)\n",
    "im_cropped = im\n",
    "im_blurred =cv2.blur(im_cropped, (200, 200))\n",
    "im_back_rem = (im_cropped+1)/(im_blurred+1)\n",
    "im_back_rem = cv2.normalize(im_back_rem, None, 0, 255, cv2.NORM_MINMAX)\n",
    "im_back_rem_inv = cv2.normalize(255-im_back_rem, None, 0, 255, cv2.NORM_MINMAX)\n",
    "#     frangised = frangi(im_back_rem,sigmas=range(1,20,4))\n",
    "#     frangised = cv2.normalize(frangised, None, 0, 255, cv2.NORM_MINMAX)\n",
    "#     transformed = cv2.normalize(frangised-im_back_rem, None, 0, 255, cv2.NORM_MINMAX)\n",
    "transformed = cv2.normalize(-im_back_rem, None, 0, 255, cv2.NORM_MINMAX)"
   ]
  },
  {
   "cell_type": "code",
   "execution_count": 9,
   "metadata": {},
   "outputs": [
    {
     "data": {
      "application/vnd.jupyter.widget-view+json": {
       "model_id": "68cb3611b1e545ce8ad9d8a064b09320",
       "version_major": 2,
       "version_minor": 0
      },
      "text/plain": [
       "Canvas(toolbar=Toolbar(toolitems=[('Home', 'Reset original view', 'home', 'home'), ('Back', 'Back to previous …"
      ]
     },
     "metadata": {},
     "output_type": "display_data"
    },
    {
     "data": {
      "text/plain": [
       "<matplotlib.image.AxesImage at 0x1c4db49aa08>"
      ]
     },
     "execution_count": 9,
     "metadata": {},
     "output_type": "execute_result"
    }
   ],
   "source": [
    "plt.close('all')\n",
    "fig=plt.figure(figsize=(10,9))\n",
    "ax = fig.add_subplot(111)\n",
    "ax.imshow(transformed)"
   ]
  },
  {
   "cell_type": "code",
   "execution_count": 27,
   "metadata": {},
   "outputs": [
    {
     "data": {
      "text/plain": [
       "1309.561858"
      ]
     },
     "execution_count": 27,
     "metadata": {},
     "output_type": "execute_result"
    }
   ],
   "source": [
    "sys.getsizeof(skel)/(10**6)"
   ]
  },
  {
   "cell_type": "code",
   "execution_count": null,
   "metadata": {},
   "outputs": [],
   "source": [
    "skeletonized = thin(skel)"
   ]
  },
  {
   "cell_type": "code",
   "execution_count": 111,
   "metadata": {},
   "outputs": [],
   "source": [
    "scipy.sparse.save_npz(f'Temp/sparse_matrix{tileconfig[0][i]}.npz', sparse_dilated)\n"
   ]
  },
  {
   "cell_type": "code",
   "execution_count": 56,
   "metadata": {},
   "outputs": [],
   "source": [
    "values = [np.mean(im) for im in ims]"
   ]
  },
  {
   "cell_type": "code",
   "execution_count": 57,
   "metadata": {},
   "outputs": [
    {
     "data": {
      "application/vnd.jupyter.widget-view+json": {
       "model_id": "d508525cb7b142449074346c60c51db8",
       "version_major": 2,
       "version_minor": 0
      },
      "text/plain": [
       "Canvas(toolbar=Toolbar(toolitems=[('Home', 'Reset original view', 'home', 'home'), ('Back', 'Back to previous …"
      ]
     },
     "metadata": {},
     "output_type": "display_data"
    },
    {
     "data": {
      "text/plain": [
       "(array([33.,  2.,  4.,  5.,  8.,  8., 10.,  7., 32., 41.]),\n",
       " array([  0.        ,  15.46855857,  30.93711714,  46.40567571,\n",
       "         61.87423428,  77.34279285,  92.81135142, 108.27990999,\n",
       "        123.74846855, 139.21702712, 154.68558569]),\n",
       " <BarContainer object of 10 artists>)"
      ]
     },
     "execution_count": 57,
     "metadata": {},
     "output_type": "execute_result"
    }
   ],
   "source": [
    "fig=plt.figure(figsize=(10,9))\n",
    "ax = fig.add_subplot(111)\n",
    "ax.hist(values)"
   ]
  },
  {
   "cell_type": "code",
   "execution_count": 107,
   "metadata": {},
   "outputs": [
    {
     "name": "stdout",
     "output_type": "stream",
     "text": [
      "11.942084879557292\n"
     ]
    },
    {
     "data": {
      "application/vnd.jupyter.widget-view+json": {
       "model_id": "6e1c91ef6583483e980b8566c72b6463",
       "version_major": 2,
       "version_minor": 0
      },
      "text/plain": [
       "Canvas(toolbar=Toolbar(toolitems=[('Home', 'Reset original view', 'home', 'home'), ('Back', 'Back to previous …"
      ]
     },
     "metadata": {},
     "output_type": "display_data"
    },
    {
     "data": {
      "text/plain": [
       "<matplotlib.image.AxesImage at 0x2991b6ab6c8>"
      ]
     },
     "execution_count": 107,
     "metadata": {},
     "output_type": "execute_result"
    }
   ],
   "source": [
    "plt.close('all')\n",
    "im = choice(ims)\n",
    "print(np.mean(im))\n",
    "fig=plt.figure(figsize=(10,9))\n",
    "ax = fig.add_subplot(111)\n",
    "ax.imshow(im)"
   ]
  },
  {
   "cell_type": "code",
   "execution_count": null,
   "metadata": {},
   "outputs": [],
   "source": [
    "im_cropped = im\n",
    "im_blurred =cv2.blur(im_cropped, (200, 200))\n",
    "im_back_rem = (im_cropped+1)/(im_blurred+1)\n",
    "im_back_rem = cv2.normalize(im_back_rem, None, 0, 255, cv2.NORM_MINMAX)\n",
    "im_back_rem_inv = cv2.normalize(255-im_back_rem, None, 0, 255, cv2.NORM_MINMAX)\n",
    "frangised = frangi(im_back_rem,sigmas=range(1,20,4))\n",
    "frangised = cv2.normalize(frangised, None, 0, 255, cv2.NORM_MINMAX)\n",
    "transformed = cv2.normalize(frangised-im_back_rem, None, 0, 255, cv2.NORM_MINMAX)\n",
    "low = 100\n",
    "high = 200\n",
    "lowt = (transformed > low).astype(int)\n",
    "hight = (transformed > high).astype(int)\n",
    "hyst = filters.apply_hysteresis_threshold(transformed, low, high)\n",
    "kernel = np.ones((3,3),np.uint8)\n",
    "dilation = cv2.dilate(hyst.astype(np.uint8) * 255,kernel,iterations = 1)\n",
    "for i in range(3):\n",
    "    dilation=cv2.erode(dilation.astype(np.uint8) * 255,kernel,iterations = 1)\n",
    "    dilation = cv2.dilate(dilation.astype(np.uint8) * 255,kernel,iterations = 1)\n",
    "dilated = dilation>0\n",
    "skeletonized = thin(dilated)"
   ]
  },
  {
   "cell_type": "code",
   "execution_count": 108,
   "metadata": {},
   "outputs": [],
   "source": [
    "im_cropped = im\n",
    "im_blurred =cv2.blur(im_cropped, (200, 200))\n",
    "im_back_rem = (im_cropped+1)/(im_blurred+1)\n",
    "im_back_rem = cv2.normalize(im_back_rem, None, 0, 255, cv2.NORM_MINMAX)"
   ]
  },
  {
   "cell_type": "code",
   "execution_count": 109,
   "metadata": {},
   "outputs": [
    {
     "data": {
      "application/vnd.jupyter.widget-view+json": {
       "model_id": "96b38c994c3f4d96a82b626aac092ba9",
       "version_major": 2,
       "version_minor": 0
      },
      "text/plain": [
       "Canvas(toolbar=Toolbar(toolitems=[('Home', 'Reset original view', 'home', 'home'), ('Back', 'Back to previous …"
      ]
     },
     "metadata": {},
     "output_type": "display_data"
    },
    {
     "data": {
      "text/plain": [
       "<matplotlib.image.AxesImage at 0x299179a5308>"
      ]
     },
     "execution_count": 109,
     "metadata": {},
     "output_type": "execute_result"
    }
   ],
   "source": [
    "fig=plt.figure(figsize=(10,9))\n",
    "ax = fig.add_subplot(111)\n",
    "ax.imshow(im_back_rem)"
   ]
  },
  {
   "cell_type": "code",
   "execution_count": 55,
   "metadata": {},
   "outputs": [
    {
     "data": {
      "application/vnd.jupyter.widget-view+json": {
       "model_id": "150764b8796a4eb5b92624216f08219c",
       "version_major": 2,
       "version_minor": 0
      },
      "text/plain": [
       "Canvas(toolbar=Toolbar(toolitems=[('Home', 'Reset original view', 'home', 'home'), ('Back', 'Back to previous …"
      ]
     },
     "metadata": {},
     "output_type": "display_data"
    },
    {
     "data": {
      "text/plain": [
       "<matplotlib.image.AxesImage at 0x29926f08c08>"
      ]
     },
     "execution_count": 55,
     "metadata": {},
     "output_type": "execute_result"
    }
   ],
   "source": [
    "fig=plt.figure(figsize=(10,9))\n",
    "ax = fig.add_subplot(111)\n",
    "ax.imshow(skeletonized)"
   ]
  },
  {
   "cell_type": "code",
   "execution_count": 1,
   "metadata": {},
   "outputs": [],
   "source": [
    "%matplotlib widget\n",
    "from util import get_path\n",
    "import pandas as pd\n",
    "import networkx as nx\n",
    "import numpy as np\n",
    "import matplotlib.pyplot as plt\n",
    "from extract_graph import generate_nx_graph, transform_list, generate_skeleton, generate_nx_graph_from_skeleton, from_connection_tab, from_nx_to_tab\n",
    "from node_id import whole_movement_identification, second_identification\n",
    "import ast\n",
    "from plotutil import plot_t_tp1, compress_skeleton\n",
    "from scipy import sparse\n",
    "from sparse_util import dilate, zhangSuen\n",
    "from realign import realign\n",
    "from datetime import datetime,timedelta\n",
    "from node_id import orient\n",
    "import pickle\n",
    "from matplotlib.widgets import CheckButtons\n",
    "import scipy.io as sio\n",
    "import imageio\n",
    "from pymatreader import read_mat\n",
    "from matplotlib import colors\n",
    "from copy import deepcopy,copy\n",
    "from collections import Counter\n",
    "import cv2 \n",
    "import imageio\n",
    "import matplotlib.pyplot as plt\n",
    "import numpy as np\n",
    "from skimage.filters import frangi\n",
    "from skimage.morphology import thin\n",
    "from skimage import data, filters\n",
    "from random import choice\n",
    "import scipy.sparse\n",
    "import os\n",
    "from time import time\n",
    "from skimage.feature import hessian_matrix_det\n",
    "import sys\n",
    "from extract_graph import dic_to_sparse, from_sparse_to_graph, generate_nx_graph, prune_graph, from_nx_to_tab, from_nx_to_tab_matlab,sparse_to_doc, connections_pixel_list_to_tab, transform_list, clean_degree_4\n",
    "from sparse_util import dilate, zhangSuen\n"
   ]
  },
  {
   "cell_type": "code",
   "execution_count": 22,
   "metadata": {},
   "outputs": [
    {
     "data": {
      "text/plain": [
       "(datetime.datetime(2020, 7, 20, 5, 25), datetime.datetime(2020, 7, 20, 12, 20))"
      ]
     },
     "execution_count": 22,
     "metadata": {},
     "output_type": "execute_result"
    }
   ],
   "source": [
    "dates_datetime_chosen=dates_datetime\n",
    "dates_datetime_chosen[24],dates_datetime_chosen[25]"
   ]
  },
  {
   "cell_type": "code",
   "execution_count": 59,
   "metadata": {},
   "outputs": [],
   "source": [
    "plate = 9\n",
    "directory = \"/scratch/shared/mrozemul/Fiji.app/\" \n",
    "listdir=os.listdir(directory) \n",
    "list_dir_interest=[name for name in listdir if name.split('_')[-1]==f'Plate{0 if plate<10 else \"\"}{plate}']\n",
    "ss=[name.split('_')[0] for name in list_dir_interest]\n",
    "ff=[name.split('_')[1] for name in list_dir_interest]\n",
    "dates_datetime=[datetime(year=int(ss[i][:4]),month=int(ss[i][4:6]),day=int(ss[i][6:8]),hour=int(ff[i][0:2]),minute=int(ff[i][2:4])) for i in range(len(list_dir_interest))]\n",
    "dates_datetime.sort()\n",
    "dates_datetime_chosen=dates_datetime[9:20]\n",
    "dates = [f'{0 if date.month<10 else \"\"}{date.month}{0 if date.day<10 else \"\"}{date.day}_{0 if date.hour<10 else \"\"}{date.hour}{0 if date.minute<10 else \"\"}{date.minute}' for date in dates_datetime_chosen]\n",
    "dilateds=[]\n",
    "skels = []\n",
    "skel_docs = []\n",
    "graph_pos=[]\n",
    "contours=[]\n",
    "half_circles=[]\n",
    "for date in dates:\n",
    "    directory_name=f'2020{date}_Plate{0 if plate<10 else \"\"}{plate}'\n",
    "    path_snap='/scratch/shared/mrozemul/Fiji.app/'+directory_name\n",
    "    skel_info = read_mat(path_snap+'/Analysis/skeleton.mat')\n",
    "    skel = skel_info['skeleton']\n",
    "    contour = skel_info['contour']\n",
    "    half_circle = skel_info['half_circle']\n",
    "    skels.append(skel)\n",
    "    skel_doc = sparse_to_doc(skel)\n",
    "    skel_docs.append(skel_doc)\n",
    "    contours.append(contour)\n",
    "    half_circles.append(half_circle)"
   ]
  },
  {
   "cell_type": "code",
   "execution_count": 3,
   "metadata": {},
   "outputs": [],
   "source": [
    "def find_circle(x,y):\n",
    "    x_m = np.mean(x)\n",
    "    y_m = np.mean(y)\n",
    "\n",
    "    # calculation of the reduced coordinates\n",
    "    u = x - x_m\n",
    "    v = y - y_m\n",
    "\n",
    "    # linear system defining the center (uc, vc) in reduced coordinates:\n",
    "    #    Suu * uc +  Suv * vc = (Suuu + Suvv)/2\n",
    "    #    Suv * uc +  Svv * vc = (Suuv + Svvv)/2\n",
    "    Suv  = np.sum(u*v)\n",
    "    Suu  = np.sum(u**2)\n",
    "    Svv  = np.sum(v**2)\n",
    "    Suuv = np.sum(u**2 * v)\n",
    "    Suvv = np.sum(u * v**2)\n",
    "    Suuu = np.sum(u**3)\n",
    "    Svvv = np.sum(v**3)\n",
    "\n",
    "    # Solving the linear system\n",
    "    A = np.array([ [ Suu, Suv ], [Suv, Svv]])\n",
    "    B = np.array([ Suuu + Suvv, Svvv + Suuv ])/2.0\n",
    "    uc, vc = np.linalg.solve(A, B)\n",
    "\n",
    "    xc_1 = x_m + uc\n",
    "    yc_1 = y_m + vc\n",
    "\n",
    "    # Calcul des distances au centre (xc_1, yc_1)\n",
    "    Ri_1     = np.sqrt((x-xc_1)**2 + (y-yc_1)**2)\n",
    "    R_1      = np.mean(Ri_1)\n",
    "    residu_1 = np.sum((Ri_1-R_1)**2)\n",
    "    return(R_1,xc_1,yc_1)"
   ]
  },
  {
   "cell_type": "code",
   "execution_count": 11,
   "metadata": {},
   "outputs": [
    {
     "data": {
      "text/plain": [
       "(21958.296326947304, 22681.210945141072, 23907.54454197127)"
      ]
     },
     "execution_count": 11,
     "metadata": {},
     "output_type": "execute_result"
    }
   ],
   "source": [
    "find_circle(*half_circles[2].nonzero())"
   ]
  },
  {
   "cell_type": "code",
   "execution_count": 83,
   "metadata": {},
   "outputs": [],
   "source": [
    "X = np.array(contours[i].nonzero())\n",
    "Y = np.array(contours[i+1].nonzero())\n",
    "X=np.transpose(np.array([x for x in np.transpose(X) if np.linalg.norm(x-np.array([xc_12,yc_12]))<R_12-100 and x[0]>=xc_12-1000 and x[0]<=xc_12+1000]))\n",
    "Y=np.transpose(np.array([x for x in np.transpose(Y) if np.linalg.norm(x-np.array([xc_13,yc_13]))<R_13-100 and x[0]>=xc_13-1000 and x[0]<=xc_13+1000]))"
   ]
  },
  {
   "cell_type": "code",
   "execution_count": 87,
   "metadata": {},
   "outputs": [],
   "source": [
    "def estimate_coef(x, y): \n",
    "    # number of observations/points \n",
    "    n = np.size(x) \n",
    "  \n",
    "    # mean of x and y vector \n",
    "    m_x, m_y = np.mean(x), np.mean(y) \n",
    "  \n",
    "    # calculating cross-deviation and deviation about x \n",
    "    SS_xy = np.sum(y*x) - n*m_y*m_x \n",
    "    SS_xx = np.sum(x*x) - n*m_x*m_x \n",
    "  \n",
    "    # calculating regression coefficients \n",
    "    b_1 = SS_xy / SS_xx \n",
    "    b_0 = m_y - b_1*m_x \n",
    "  \n",
    "    return(b_0, b_1) "
   ]
  },
  {
   "cell_type": "code",
   "execution_count": 89,
   "metadata": {},
   "outputs": [],
   "source": [
    "xs,ys = X[0,:],X[1,:]"
   ]
  },
  {
   "cell_type": "code",
   "execution_count": 104,
   "metadata": {},
   "outputs": [
    {
     "data": {
      "text/plain": [
       "array([24155, 24155, 24155, ..., 25161, 25161, 25167], dtype=int32)"
      ]
     },
     "execution_count": 104,
     "metadata": {},
     "output_type": "execute_result"
    }
   ],
   "source": [
    "xs"
   ]
  },
  {
   "cell_type": "code",
   "execution_count": 99,
   "metadata": {},
   "outputs": [],
   "source": [
    "b,a=estimate_coef(xs,ys)"
   ]
  },
  {
   "cell_type": "code",
   "execution_count": 107,
   "metadata": {},
   "outputs": [],
   "source": [
    "x0 = np.mean(xs)-1000"
   ]
  },
  {
   "cell_type": "code",
   "execution_count": 115,
   "metadata": {},
   "outputs": [
    {
     "data": {
      "text/plain": [
       "(24055.55844942221, 274.6272854784148)"
      ]
     },
     "execution_count": 115,
     "metadata": {},
     "output_type": "execute_result"
    }
   ],
   "source": [
    "A12"
   ]
  },
  {
   "cell_type": "code",
   "execution_count": 117,
   "metadata": {},
   "outputs": [
    {
     "data": {
      "text/plain": [
       "array([  274.62728548, 24055.55844942])"
      ]
     },
     "execution_count": 117,
     "metadata": {},
     "output_type": "execute_result"
    }
   ],
   "source": [
    "np.flip(A12)"
   ]
  },
  {
   "cell_type": "code",
   "execution_count": 121,
   "metadata": {},
   "outputs": [
    {
     "data": {
      "application/vnd.jupyter.widget-view+json": {
       "model_id": "1b2ae7a4664c46158ccf0fd2d4a3a239",
       "version_major": 2,
       "version_minor": 0
      },
      "text/plain": [
       "Canvas(toolbar=Toolbar(toolitems=[('Home', 'Reset original view', 'home', 'home'), ('Back', 'Back to previous …"
      ]
     },
     "metadata": {},
     "output_type": "display_data"
    },
    {
     "data": {
      "application/vnd.jupyter.widget-view+json": {
       "model_id": "2622bdd6f8c44bb3a1b4ba2d5c43093a",
       "version_major": 2,
       "version_minor": 0
      },
      "text/plain": [
       "Canvas(toolbar=Toolbar(toolitems=[('Home', 'Reset original view', 'home', 'home'), ('Back', 'Back to previous …"
      ]
     },
     "metadata": {},
     "output_type": "display_data"
    },
    {
     "name": "stdout",
     "output_type": "stream",
     "text": [
      "[[ 9.99999984e-01  1.81621222e-04]\n",
      " [-1.81621222e-04  9.99999984e-01]]\n"
     ]
    },
    {
     "data": {
      "application/vnd.jupyter.widget-view+json": {
       "model_id": "28ad6cbf817a48d693ba3c5e1123f045",
       "version_major": 2,
       "version_minor": 0
      },
      "text/plain": [
       "Canvas(toolbar=Toolbar(toolitems=[('Home', 'Reset original view', 'home', 'home'), ('Back', 'Back to previous …"
      ]
     },
     "metadata": {},
     "output_type": "display_data"
    },
    {
     "name": "stdout",
     "output_type": "stream",
     "text": [
      "(3, 95420) (3, 95839)\n",
      "registration::RegistrationResult with fitness=9.998638e-01, inlier_rmse=1.622588e+01, and correspondence_set size of 95407\n",
      "Access transformation to get result.\n",
      "[[ 9.99999975e-01 -2.21617010e-04]\n",
      " [ 2.21617010e-04  9.99999975e-01]] [-234.19502434  -15.28528775]\n"
     ]
    },
    {
     "data": {
      "application/vnd.jupyter.widget-view+json": {
       "model_id": "128269d819d64bc4b04972359a95b598",
       "version_major": 2,
       "version_minor": 0
      },
      "text/plain": [
       "Canvas(toolbar=Toolbar(toolitems=[('Home', 'Reset original view', 'home', 'home'), ('Back', 'Back to previous …"
      ]
     },
     "metadata": {},
     "output_type": "display_data"
    },
    {
     "data": {
      "text/plain": [
       "<matplotlib.collections.PathCollection at 0x2b7d8f949f90>"
      ]
     },
     "execution_count": 121,
     "metadata": {},
     "output_type": "execute_result"
    }
   ],
   "source": [
    "plt.close('all')\n",
    "i=6\n",
    "R_12,xc_12,yc_12 = find_circle(*half_circles[i].nonzero())\n",
    "R_13,xc_13,yc_13 = find_circle(*half_circles[i+1].nonzero())\n",
    "X = np.array(contours[i].nonzero())\n",
    "Y = np.array(contours[i+1].nonzero())\n",
    "X=np.transpose(np.array([x for x in np.transpose(X) if np.linalg.norm(x-np.array([xc_12,yc_12]))<R_12-100 and x[0]>=xc_12-1000 and x[0]<=xc_12+1000]))\n",
    "Y=np.transpose(np.array([x for x in np.transpose(Y) if np.linalg.norm(x-np.array([xc_13,yc_13]))<R_13-100 and x[0]>=xc_13-1000 and x[0]<=xc_13+1000]))\n",
    "fig=plt.figure(figsize=(10,9))\n",
    "ax = fig.add_subplot(111)\n",
    "ax.scatter(X[0,:],X[1,:])\n",
    "ax.scatter(Y[0,:],Y[1,:])\n",
    "p = Point(xc_12,yc_12)\n",
    "c = p.buffer(R_12).boundary\n",
    "xs,ys = X[0,:],X[1,:]\n",
    "b,a=estimate_coef(xs,ys)\n",
    "x0 = np.mean(xs)\n",
    "x1 = int(x0 - 1000)\n",
    "y1 = int(a*x1+b)\n",
    "x2 = int(x0 + 1000)\n",
    "y2 = int(a*x2+b)\n",
    "ax.axline((x1,y1),(x2,y2))\n",
    "\n",
    "l = LineString([(x1,y1), (x2, y2)])\n",
    "inter = c.intersection(l)\n",
    "\n",
    "A12=inter.geoms[0].coords[0]\n",
    "B12 = inter.geoms[1].coords[0]\n",
    "A12,B12 = np.flip(A12),np.flip(B12)\n",
    "p = Point(xc_13,yc_13)\n",
    "c = p.buffer(R_13).boundary\n",
    "xs,ys = Y[0,:],Y[1,:]\n",
    "b,a=estimate_coef(xs,ys)\n",
    "x0 = np.mean(xs)\n",
    "x1 = int(x0 - 1000)\n",
    "y1 = int(a*x1+b)\n",
    "x2 = int(x0 + 1000)\n",
    "y2 = int(a*x2+b)\n",
    "ax.axline((x1,y1),(x2,y2),color='red')\n",
    "\n",
    "l = LineString([(x1,y1), (x2, y2)])\n",
    "inter = c.intersection(l)\n",
    "\n",
    "A13=inter.geoms[0].coords[0]\n",
    "B13 = inter.geoms[1].coords[0]\n",
    "A13,B13 = np.flip(A13),np.flip(B13)\n",
    "\n",
    "listeA,listeB = [A12,B12,(yc_12,xc_12)],[A13,B13,(yc_13,xc_13)]\n",
    "H=np.dot(np.transpose(np.array(listeA)-np.mean(listeA,axis=0)),np.array(listeB)-np.mean(listeB,axis=0))\n",
    "U,S,V=np.linalg.svd(H)\n",
    "R=np.dot(V,np.transpose(U))\n",
    "if np.linalg.det(R)<0:\n",
    "    R *= np.array([[1,-1],[1,-1]])\n",
    "t=np.mean(listeB,axis=0)-np.dot(R,np.mean(listeA,axis=0))\n",
    "X = np.array(contours[i].nonzero())\n",
    "Y = np.array(contours[i+1].nonzero())\n",
    "# X=np.transpose(np.array([x for x in np.transpose(X) if np.linalg.norm(x-np.array([xc_12,yc_12]))<R_12-500 and x[0]>=xc_12-5000]))\n",
    "# Y=np.transpose(np.array([x for x in np.transpose(Y) if np.linalg.norm(x-np.array([xc_13,yc_13]))<R_13-500 and x[0]>=xc_13-5000]))\n",
    "\n",
    "fig=plt.figure(figsize=(10,9))\n",
    "ax = fig.add_subplot(111)\n",
    "ax.scatter(X[0,:],X[1,:])\n",
    "ax.scatter(Y[0,:],Y[1,:])\n",
    "ax.scatter(np.transpose(np.array(listeA))[1,:],np.transpose(np.array(listeA))[0,:])\n",
    "ax.scatter(np.transpose(np.array(listeB))[1,:],np.transpose(np.array(listeB))[0,:])\n",
    "# theta=lines13[0][0,1]-lines12[0][0,1]\n",
    "\n",
    "# # Rot_init = np.array([[ np.cos(theta), np.sin(theta)],[ -np.sin(theta),  np.cos(theta)]])\n",
    "# # new_center = np.dot(Rot_init,np.array([xc_12,yc_12]))\n",
    "# # t_init=np.array([ xc_13-new_center[0], yc_13-new_center[1]])\n",
    "Rot_init = R\n",
    "t_init=np.array((t[1],t[0]))\n",
    "# t_init = t\n",
    "# theta=0\n",
    "print(Rot_init)\n",
    "Xex = np.transpose(np.transpose(np.dot(Rot_init,X))+t_init)\n",
    "fig=plt.figure(figsize=(10,9))\n",
    "ax = fig.add_subplot(111)\n",
    "ax.scatter(Xex[0,:],Xex[1,:])\n",
    "ax.scatter(Y[0,:],Y[1,:])\n",
    "# theta=lines13[0][0,1]-lines12[0][0,1]\n",
    "# theta=0\n",
    "# Rot_init = np.array([[ np.cos(theta), -np.sin(theta)],[ np.sin(theta),  np.cos(theta)]])\n",
    "# Xex = np.transpose(np.transpose(np.dot(Rot_init,X))+t_init)\n",
    "# fig=plt.figure(figsize=(10,9))\n",
    "# ax = fig.add_subplot(111)\n",
    "# ax.scatter(Xex[0,:],Xex[1,:])\n",
    "# ax.scatter(Y[0,:],Y[1,:])\n",
    "X = np.insert(X, 2, values=0, axis=0) \n",
    "Y = np.insert(Y, 2, values=0, axis=0) \n",
    "\n",
    "print(X.shape,Y.shape)\n",
    "vectorX = o3d.utility.Vector3dVector(np.transpose(X))\n",
    "vectorY = o3d.utility.Vector3dVector(np.transpose(Y))\n",
    "source = o3d.geometry.PointCloud(vectorX)\n",
    "target = o3d.geometry.PointCloud(vectorY)\n",
    "threshold = 200\n",
    "\n",
    "trans_init = np.asarray([[Rot_init[0,0], Rot_init[0,1], 0, t_init[0]],\n",
    "                         [Rot_init[1,0], Rot_init[1,1], 0, t_init[1]],\n",
    "                         [0, 0, 1, 0], [0.0, 0.0, 0.0, 1.0]])\n",
    "\n",
    "reg_p2p = o3d.registration.registration_icp(\n",
    "    source, target, threshold, trans_init,\n",
    "    o3d.registration.TransformationEstimationPointToPoint())\n",
    "print(reg_p2p)\n",
    "Rfound = reg_p2p.transformation[0:2,0:2]\n",
    "tfound = reg_p2p.transformation[0:2,3]\n",
    "print(Rfound,tfound)\n",
    "X,Y=X[0:2,:],Y[0:2,:]\n",
    "Yrep=np.transpose(np.transpose(np.dot(Rfound,X))+tfound)\n",
    "fig=plt.figure(figsize=(10,9))\n",
    "ax = fig.add_subplot(111)\n",
    "ax.scatter(np.transpose(Yrep)[:,0],np.transpose(Yrep)[:,1])\n",
    "ax.scatter(np.transpose(Y)[:,0],np.transpose(Y)[:,1])"
   ]
  },
  {
   "cell_type": "code",
   "execution_count": 61,
   "metadata": {},
   "outputs": [
    {
     "data": {
      "application/vnd.jupyter.widget-view+json": {
       "model_id": "e6027cf8ed084b0096381c6e689fd92c",
       "version_major": 2,
       "version_minor": 0
      },
      "text/plain": [
       "Canvas(toolbar=Toolbar(toolitems=[('Home', 'Reset original view', 'home', 'home'), ('Back', 'Back to previous …"
      ]
     },
     "metadata": {},
     "output_type": "display_data"
    }
   ],
   "source": [
    "plt.close('all')\n",
    "X = np.array(contours[i].nonzero())\n",
    "Y = np.array(contours[i+1].nonzero())\n",
    "X=np.transpose(np.array([x for x in np.transpose(X) if np.linalg.norm(x-np.array([xc_12,yc_12]))<R_12-100 and x[0]>=xc_12-1000 and x[0]<=xc_12+1000]))\n",
    "Y=np.transpose(np.array([x for x in np.transpose(Y) if np.linalg.norm(x-np.array([xc_13,yc_13]))<R_13-100 and x[0]>=xc_13-1000 and x[0]<=xc_13+1000]))\n",
    "border12 = np.zeros(contours[i].shape,dtype=np.uint8)\n",
    "for x in np.transpose(X):\n",
    "    border12[x[0],x[1]]=1\n",
    "border13 = np.zeros(contours[i+1].shape,dtype=np.uint8)\n",
    "for x in np.transpose(Y):\n",
    "    border13[x[0],x[1]]=1\n",
    "fig=plt.figure(figsize=(10,9))\n",
    "ax = fig.add_subplot(111)\n",
    "ax.scatter(X[0,:],X[1,:])\n",
    "ax.scatter(Y[0,:],Y[1,:])\n",
    "lines12 = cv2.HoughLines(border12,500,np.pi/180,5000)\n",
    "for rho,theta in lines12[:1,0,:]:\n",
    "    a = np.cos(theta)\n",
    "    b = np.sin(theta)\n",
    "    x0 = a*rho\n",
    "    y0 = b*rho\n",
    "    x1 = int(x0 + 10000*(-b))\n",
    "    y1 = int(y0 + 10000*(a))\n",
    "    x2 = int(x0 - 10000*(-b))\n",
    "    y2 = int(y0 - 10000*(a))\n",
    "    ax.axline((y1,x1),(y2,x2))\n",
    "#     cv2.line(img,(x1,y1),(x2,y2),(0,0,255),2)\n",
    "lines13 = cv2.HoughLines(border13,500,np.pi/180,5000)\n",
    "for rho,theta in lines13[:1,0,:]:\n",
    "    a = np.cos(theta)\n",
    "    b = np.sin(theta)\n",
    "    x0 = a*rho\n",
    "    y0 = b*rho\n",
    "    x1 = int(x0 + 10000*(-b))\n",
    "    y1 = int(y0 + 10000*(a))\n",
    "    x2 = int(x0 - 10000*(-b))\n",
    "    y2 = int(y0 - 10000*(a))\n",
    "    ax.axline((y1,x1),(y2,x2),color='red')"
   ]
  },
  {
   "cell_type": "code",
   "execution_count": 66,
   "metadata": {},
   "outputs": [],
   "source": [
    "from shapely.geometry import LineString\n",
    "from shapely.geometry import Point\n",
    "\n",
    "p = Point(yc_12,xc_12)\n",
    "c = p.buffer(R_12).boundary\n",
    "for rho,theta in lines12[0]:\n",
    "    a = np.cos(theta)\n",
    "    b = np.sin(theta)\n",
    "    x0 = a*rho\n",
    "    y0 = b*rho\n",
    "    x1 = int(x0 + 100000*(-b))\n",
    "    y1 = int(y0 + 100000*(a))\n",
    "    x2 = int(x0 - 100000*(-b))\n",
    "    y2 = int(y0 - 100000*(a))\n",
    "l = LineString([(x1,y1), (x2, y2)])\n",
    "inter = c.intersection(l)\n",
    "\n",
    "A12=inter.geoms[0].coords[0]\n",
    "B12 = inter.geoms[1].coords[0]\n",
    "p = Point(yc_13,xc_13)\n",
    "c = p.buffer(R_13).boundary\n",
    "for rho,theta in lines13[0]:\n",
    "    a = np.cos(theta)\n",
    "    b = np.sin(theta)\n",
    "    x0 = a*rho\n",
    "    y0 = b*rho\n",
    "    x1 = int(x0 + 100000*(-b))\n",
    "    y1 = int(y0 + 100000*(a))\n",
    "    x2 = int(x0 - 100000*(-b))\n",
    "    y2 = int(y0 - 100000*(a))\n",
    "l = LineString([(x1,y1), (x2, y2)])\n",
    "inter = c.intersection(l)\n",
    "\n",
    "A13=inter.geoms[0].coords[0]\n",
    "B13 = inter.geoms[1].coords[0]\n",
    "listeA,listeB = [A12,B12,(yc_12,xc_12)],[A13,B13,(yc_13,xc_13)]\n",
    "H=np.dot(np.transpose(np.array(listeA)-np.mean(listeA,axis=0)),np.array(listeB)-np.mean(listeB,axis=0))\n",
    "U,S,V=np.linalg.svd(H)\n",
    "R=np.dot(V,np.transpose(U))\n",
    "if np.linalg.det(R)<0:\n",
    "    R *= np.array([[1,-1],[1,-1]])\n",
    "t=np.mean(listeB,axis=0)-np.dot(R,np.mean(listeA,axis=0))"
   ]
  },
  {
   "cell_type": "code",
   "execution_count": 45,
   "metadata": {},
   "outputs": [
    {
     "data": {
      "text/plain": [
       "(21878.86390883651, 21871.48245270054)"
      ]
     },
     "execution_count": 45,
     "metadata": {},
     "output_type": "execute_result"
    }
   ],
   "source": [
    "np.linalg.norm(np.array((yc_12,xc_12))-A12),np.linalg.norm(np.array((yc_12,xc_12))-B12)"
   ]
  },
  {
   "cell_type": "code",
   "execution_count": 67,
   "metadata": {},
   "outputs": [
    {
     "data": {
      "text/plain": [
       "(array([[ 1.00000000e+00, -2.83539931e-06],\n",
       "        [ 2.83539931e-06,  1.00000000e+00]]),\n",
       " array([  1.93774309, 423.67234531]))"
      ]
     },
     "execution_count": 67,
     "metadata": {},
     "output_type": "execute_result"
    }
   ],
   "source": [
    "R,t"
   ]
  },
  {
   "cell_type": "code",
   "execution_count": 70,
   "metadata": {},
   "outputs": [
    {
     "data": {
      "application/vnd.jupyter.widget-view+json": {
       "model_id": "6cee945389354d22af9889691d09f9e7",
       "version_major": 2,
       "version_minor": 0
      },
      "text/plain": [
       "Canvas(toolbar=Toolbar(toolitems=[('Home', 'Reset original view', 'home', 'home'), ('Back', 'Back to previous …"
      ]
     },
     "metadata": {},
     "output_type": "display_data"
    },
    {
     "name": "stdout",
     "output_type": "stream",
     "text": [
      "[[ 1.00000000e+00 -2.83539931e-06]\n",
      " [ 2.83539931e-06  1.00000000e+00]]\n"
     ]
    },
    {
     "data": {
      "application/vnd.jupyter.widget-view+json": {
       "model_id": "7c06e39ee51c42b98557b8dafea248e0",
       "version_major": 2,
       "version_minor": 0
      },
      "text/plain": [
       "Canvas(toolbar=Toolbar(toolitems=[('Home', 'Reset original view', 'home', 'home'), ('Back', 'Back to previous …"
      ]
     },
     "metadata": {},
     "output_type": "display_data"
    },
    {
     "name": "stdout",
     "output_type": "stream",
     "text": [
      "(3, 96518) (3, 95420)\n",
      "registration::RegistrationResult with fitness=9.998549e-01, inlier_rmse=1.525358e+01, and correspondence_set size of 96504\n",
      "Access transformation to get result.\n",
      "[[ 9.99999913e-01  4.16546865e-04]\n",
      " [-4.16546865e-04  9.99999913e-01]] [200.98464458  24.74981011]\n"
     ]
    },
    {
     "data": {
      "application/vnd.jupyter.widget-view+json": {
       "model_id": "f134f8c3256f423f8139a7ae9078d29c",
       "version_major": 2,
       "version_minor": 0
      },
      "text/plain": [
       "Canvas(toolbar=Toolbar(toolitems=[('Home', 'Reset original view', 'home', 'home'), ('Back', 'Back to previous …"
      ]
     },
     "metadata": {},
     "output_type": "display_data"
    },
    {
     "data": {
      "text/plain": [
       "<matplotlib.collections.PathCollection at 0x2b7b1c867dd0>"
      ]
     },
     "execution_count": 70,
     "metadata": {},
     "output_type": "execute_result"
    }
   ],
   "source": [
    "\n",
    "import open3d as o3d\n",
    "plt.close('all')\n",
    "X = np.array(contours[i].nonzero())\n",
    "Y = np.array(contours[i+1].nonzero())\n",
    "# X=np.transpose(np.array([x for x in np.transpose(X) if np.linalg.norm(x-np.array([xc_12,yc_12]))<R_12-500 and x[0]>=xc_12-5000]))\n",
    "# Y=np.transpose(np.array([x for x in np.transpose(Y) if np.linalg.norm(x-np.array([xc_13,yc_13]))<R_13-500 and x[0]>=xc_13-5000]))\n",
    "\n",
    "fig=plt.figure(figsize=(10,9))\n",
    "ax = fig.add_subplot(111)\n",
    "ax.scatter(X[0,:],X[1,:])\n",
    "ax.scatter(Y[0,:],Y[1,:])\n",
    "ax.scatter(np.transpose(np.array(listeA))[1,:],np.transpose(np.array(listeA))[0,:])\n",
    "ax.scatter(np.transpose(np.array(listeB))[1,:],np.transpose(np.array(listeB))[0,:])\n",
    "# theta=lines13[0][0,1]-lines12[0][0,1]\n",
    "\n",
    "# # Rot_init = np.array([[ np.cos(theta), np.sin(theta)],[ -np.sin(theta),  np.cos(theta)]])\n",
    "# # new_center = np.dot(Rot_init,np.array([xc_12,yc_12]))\n",
    "# # t_init=np.array([ xc_13-new_center[0], yc_13-new_center[1]])\n",
    "Rot_init = R\n",
    "t_init=np.array((t[1],t[0]))\n",
    "# t_init = t\n",
    "# theta=0\n",
    "print(Rot_init)\n",
    "Xex = np.transpose(np.transpose(np.dot(Rot_init,X))+t_init)\n",
    "fig=plt.figure(figsize=(10,9))\n",
    "ax = fig.add_subplot(111)\n",
    "ax.scatter(Xex[0,:],Xex[1,:])\n",
    "ax.scatter(Y[0,:],Y[1,:])\n",
    "# theta=lines13[0][0,1]-lines12[0][0,1]\n",
    "# theta=0\n",
    "# Rot_init = np.array([[ np.cos(theta), -np.sin(theta)],[ np.sin(theta),  np.cos(theta)]])\n",
    "# Xex = np.transpose(np.transpose(np.dot(Rot_init,X))+t_init)\n",
    "# fig=plt.figure(figsize=(10,9))\n",
    "# ax = fig.add_subplot(111)\n",
    "# ax.scatter(Xex[0,:],Xex[1,:])\n",
    "# ax.scatter(Y[0,:],Y[1,:])\n",
    "X = np.insert(X, 2, values=0, axis=0) \n",
    "Y = np.insert(Y, 2, values=0, axis=0) \n",
    "\n",
    "print(X.shape,Y.shape)\n",
    "vectorX = o3d.utility.Vector3dVector(np.transpose(X))\n",
    "vectorY = o3d.utility.Vector3dVector(np.transpose(Y))\n",
    "source = o3d.geometry.PointCloud(vectorX)\n",
    "target = o3d.geometry.PointCloud(vectorY)\n",
    "threshold = 200\n",
    "\n",
    "trans_init = np.asarray([[Rot_init[0,0], Rot_init[0,1], 0, t_init[0]],\n",
    "                         [Rot_init[1,0], Rot_init[1,1], 0, t_init[1]],\n",
    "                         [0, 0, 1, 0], [0.0, 0.0, 0.0, 1.0]])\n",
    "\n",
    "reg_p2p = o3d.registration.registration_icp(\n",
    "    source, target, threshold, trans_init,\n",
    "    o3d.registration.TransformationEstimationPointToPoint())\n",
    "print(reg_p2p)\n",
    "Rfound = reg_p2p.transformation[0:2,0:2]\n",
    "tfound = reg_p2p.transformation[0:2,3]\n",
    "print(Rfound,tfound)\n",
    "X,Y=X[0:2,:],Y[0:2,:]\n",
    "Yrep=np.transpose(np.transpose(np.dot(Rfound,X))+tfound)\n",
    "fig=plt.figure(figsize=(10,9))\n",
    "ax = fig.add_subplot(111)\n",
    "ax.scatter(np.transpose(Yrep)[:,0],np.transpose(Yrep)[:,1])\n",
    "ax.scatter(np.transpose(Y)[:,0],np.transpose(Y)[:,1])"
   ]
  },
  {
   "cell_type": "code",
   "execution_count": 263,
   "metadata": {},
   "outputs": [
    {
     "data": {
      "application/vnd.jupyter.widget-view+json": {
       "model_id": "c943ff8891024fb98c9afe1072d3710d",
       "version_major": 2,
       "version_minor": 0
      },
      "text/plain": [
       "Canvas(toolbar=Toolbar(toolitems=[('Home', 'Reset original view', 'home', 'home'), ('Back', 'Back to previous …"
      ]
     },
     "metadata": {},
     "output_type": "display_data"
    }
   ],
   "source": [
    "plt.close('all')\n",
    "X = np.array(contour12.nonzero())\n",
    "Y = np.array(contour13.nonzero())\n",
    "X=np.transpose(np.array([x for x in np.transpose(X) if np.linalg.norm(x-np.array([xc_12,yc_12]))<R_12-500 and x[0]>=xc_12-1000 and x[0]<=xc_12+1000]))\n",
    "Y=np.transpose(np.array([x for x in np.transpose(Y) if np.linalg.norm(x-np.array([xc_13,yc_13]))<R_13-500 and x[0]>=xc_13-1000 and x[0]<=xc_13+1000]))\n",
    "border12 = np.zeros(contour12.shape,dtype=np.uint8)\n",
    "for x in np.transpose(X):\n",
    "    border12[x[0],x[1]]=1\n",
    "border13 = np.zeros(contour13.shape,dtype=np.uint8)\n",
    "for x in np.transpose(Y):\n",
    "    border13[x[0],x[1]]=1\n",
    "fig=plt.figure(figsize=(10,9))\n",
    "ax = fig.add_subplot(111)\n",
    "ax.scatter(X[0,:],X[1,:])\n",
    "ax.scatter(Y[0,:],Y[1,:])\n",
    "lines12 = cv2.HoughLines(border12,200,np.pi/180,5000)\n",
    "for rho,theta in lines12[:1,0,:]:\n",
    "    a = np.cos(theta)\n",
    "    b = np.sin(theta)\n",
    "    x0 = a*rho\n",
    "    y0 = b*rho\n",
    "    x1 = int(x0 + 10000*(-b))\n",
    "    y1 = int(y0 + 10000*(a))\n",
    "    x2 = int(x0 - 10000*(-b))\n",
    "    y2 = int(y0 - 10000*(a))\n",
    "    ax.axline((y1,x1),(y2,x2))\n",
    "#     cv2.line(img,(x1,y1),(x2,y2),(0,0,255),2)\n",
    "lines13 = cv2.HoughLines(border13,200,np.pi/180,5000)\n",
    "for rho,theta in lines13[:1,0,:]:\n",
    "    a = np.cos(theta)\n",
    "    b = np.sin(theta)\n",
    "    x0 = a*rho\n",
    "    y0 = b*rho\n",
    "    x1 = int(x0 + 10000*(-b))\n",
    "    y1 = int(y0 + 10000*(a))\n",
    "    x2 = int(x0 - 10000*(-b))\n",
    "    y2 = int(y0 - 10000*(a))\n",
    "    ax.axline((y1,x1),(y2,x2),color='red')\n",
    "#     cv2.line(img,(x1,y1),(x2,y2),(0,0,255),2)\n",
    "\n",
    "# cv2.imwrite('houghlines3.jpg',img)"
   ]
  },
  {
   "cell_type": "code",
   "execution_count": 258,
   "metadata": {},
   "outputs": [
    {
     "data": {
      "text/plain": [
       "matrix([[0, 0, 0, ..., 0, 0, 0],\n",
       "        [0, 0, 0, ..., 0, 0, 0],\n",
       "        [0, 0, 0, ..., 0, 0, 0],\n",
       "        ...,\n",
       "        [0, 0, 0, ..., 0, 0, 0],\n",
       "        [0, 0, 0, ..., 0, 0, 0],\n",
       "        [0, 0, 0, ..., 0, 0, 0]], dtype=uint8)"
      ]
     },
     "execution_count": 258,
     "metadata": {},
     "output_type": "execute_result"
    }
   ],
   "source": [
    "contour12.todense()"
   ]
  },
  {
   "cell_type": "code",
   "execution_count": 252,
   "metadata": {},
   "outputs": [
    {
     "data": {
      "text/plain": [
       "[23636, 44962]"
      ]
     },
     "execution_count": 252,
     "metadata": {},
     "output_type": "execute_result"
    }
   ],
   "source": [
    "list(np.transpose(X)[-1])"
   ]
  },
  {
   "cell_type": "code",
   "execution_count": 253,
   "metadata": {},
   "outputs": [
    {
     "ename": "SyntaxError",
     "evalue": "invalid syntax (<ipython-input-253-44c2e49d52c5>, line 1)",
     "output_type": "error",
     "traceback": [
      "\u001b[0;36m  File \u001b[0;32m\"<ipython-input-253-44c2e49d52c5>\"\u001b[0;36m, line \u001b[0;32m1\u001b[0m\n\u001b[0;31m    border12[*list(np.transpose(X)[-1])]\u001b[0m\n\u001b[0m             ^\u001b[0m\n\u001b[0;31mSyntaxError\u001b[0m\u001b[0;31m:\u001b[0m invalid syntax\n"
     ]
    }
   ],
   "source": [
    "border12[list(np.transpose(X)[-1])]"
   ]
  },
  {
   "cell_type": "code",
   "execution_count": 239,
   "metadata": {},
   "outputs": [
    {
     "name": "stdout",
     "output_type": "stream",
     "text": [
      "[21804  4031]\n"
     ]
    }
   ],
   "source": [
    "for x in np.transpose(X):\n",
    "    print(x)\n",
    "    break"
   ]
  },
  {
   "cell_type": "code",
   "execution_count": 220,
   "metadata": {},
   "outputs": [
    {
     "data": {
      "text/plain": [
       "array([[[2.4125000e+04, 1.5707964e+00]],\n",
       "\n",
       "       [[2.3625000e+04, 1.5882496e+00]],\n",
       "\n",
       "       [[2.1975000e+04, 1.6231562e+00]],\n",
       "\n",
       "       [[2.2625000e+04, 1.5882496e+00]],\n",
       "\n",
       "       [[2.4875000e+04, 1.5707964e+00]],\n",
       "\n",
       "       [[2.5075000e+04, 1.5358897e+00]]], dtype=float32)"
      ]
     },
     "execution_count": 220,
     "metadata": {},
     "output_type": "execute_result"
    }
   ],
   "source": [
    "lines12"
   ]
  },
  {
   "cell_type": "code",
   "execution_count": 149,
   "metadata": {},
   "outputs": [
    {
     "data": {
      "text/plain": [
       "(0.017455009955542805, 24503.732)"
      ]
     },
     "execution_count": 149,
     "metadata": {},
     "output_type": "execute_result"
    }
   ],
   "source": [
    "theta = lines12[0][0,1]\n",
    "rho = lines12[0][0,0]\n",
    "a12 = -1/np.tan(theta)\n",
    "b12 = rho/np.sin(theta)\n",
    "a12,b12"
   ]
  },
  {
   "cell_type": "code",
   "execution_count": 152,
   "metadata": {},
   "outputs": [
    {
     "name": "stdout",
     "output_type": "stream",
     "text": [
      "Collecting shapely\n",
      "  Downloading Shapely-1.7.1-cp37-cp37m-manylinux1_x86_64.whl (1.0 MB)\n",
      "\u001b[K     |████████████████████████████████| 1.0 MB 13.2 MB/s eta 0:00:01\n",
      "\u001b[?25hInstalling collected packages: shapely\n",
      "Successfully installed shapely-1.7.1\n"
     ]
    }
   ],
   "source": [
    "!pip install shapely"
   ]
  },
  {
   "cell_type": "code",
   "execution_count": 264,
   "metadata": {},
   "outputs": [],
   "source": [
    "from shapely.geometry import LineString\n",
    "from shapely.geometry import Point\n",
    "\n",
    "p = Point(xc_12,yc_12)\n",
    "c = p.buffer(R_12).boundary\n",
    "for rho,theta in lines12[0]:\n",
    "    a = np.cos(theta)\n",
    "    b = np.sin(theta)\n",
    "    x0 = a*rho\n",
    "    y0 = b*rho\n",
    "    x1 = int(x0 + 100000*(-b))\n",
    "    y1 = int(y0 + 100000*(a))\n",
    "    x2 = int(x0 - 100000*(-b))\n",
    "    y2 = int(y0 - 100000*(a))\n",
    "l = LineString([(x1,y1), (x2, y2)])\n",
    "i = c.intersection(l)\n",
    "\n",
    "A12=i.geoms[0].coords[0]\n",
    "B12 = i.geoms[1].coords[0]"
   ]
  },
  {
   "cell_type": "code",
   "execution_count": 265,
   "metadata": {},
   "outputs": [],
   "source": [
    "p = Point(xc_13,yc_13)\n",
    "c = p.buffer(R_13).boundary\n",
    "for rho,theta in lines13[0]:\n",
    "    a = np.cos(theta)\n",
    "    b = np.sin(theta)\n",
    "    x0 = a*rho\n",
    "    y0 = b*rho\n",
    "    x1 = int(x0 + 100000*(-b))\n",
    "    y1 = int(y0 + 100000*(a))\n",
    "    x2 = int(x0 - 100000*(-b))\n",
    "    y2 = int(y0 - 100000*(a))\n",
    "l = LineString([(x1,y1), (x2, y2)])\n",
    "i = c.intersection(l)\n",
    "\n",
    "A13=i.geoms[0].coords[0]\n",
    "B13 = i.geoms[1].coords[0]"
   ]
  },
  {
   "cell_type": "code",
   "execution_count": 267,
   "metadata": {},
   "outputs": [
    {
     "data": {
      "text/plain": [
       "((802.134591953749, 22616.884510728756),\n",
       " (44509.32873714838, 23379.693283922246),\n",
       " (2639.3748141469514, 24449.49935040293),\n",
       " (47310.35606712032, 25229.13271460559))"
      ]
     },
     "execution_count": 267,
     "metadata": {},
     "output_type": "execute_result"
    }
   ],
   "source": [
    "A12,B12,A13,B13"
   ]
  },
  {
   "cell_type": "code",
   "execution_count": 225,
   "metadata": {},
   "outputs": [
    {
     "data": {
      "application/vnd.jupyter.widget-view+json": {
       "model_id": "2cf9866902cb408d8569a604f792652b",
       "version_major": 2,
       "version_minor": 0
      },
      "text/plain": [
       "Canvas(toolbar=Toolbar(toolitems=[('Home', 'Reset original view', 'home', 'home'), ('Back', 'Back to previous …"
      ]
     },
     "metadata": {},
     "output_type": "display_data"
    },
    {
     "data": {
      "text/plain": [
       "<matplotlib.collections.PathCollection at 0x2b74be29b690>"
      ]
     },
     "execution_count": 225,
     "metadata": {},
     "output_type": "execute_result"
    }
   ],
   "source": [
    "fig=plt.figure(figsize=(10,9))\n",
    "ax = fig.add_subplot(111)\n",
    "ax.scatter(np.transpose(np.array(listeA))[0,:],np.transpose(np.array(listeA))[1,:])\n",
    "ax.scatter(np.transpose(np.array(listeB))[0,:],np.transpose(np.array(listeB))[1,:])\n"
   ]
  },
  {
   "cell_type": "code",
   "execution_count": 176,
   "metadata": {},
   "outputs": [
    {
     "data": {
      "text/plain": [
       "(array([[ 2814.8856582 , 24552.58840094],\n",
       "        [47595.17216992, 25334.12553882],\n",
       "        [25236.29461139, 22885.12034923]]),\n",
       " [(991.7912525238436, 20730.102691401513),\n",
       "  (45743.44343470322, 23075.405199304238),\n",
       "  (23216.95990126062, 24822.30668275114)])"
      ]
     },
     "execution_count": 176,
     "metadata": {},
     "output_type": "execute_result"
    }
   ],
   "source": [
    "np.array(listeA),listeB"
   ]
  },
  {
   "cell_type": "code",
   "execution_count": 173,
   "metadata": {},
   "outputs": [
    {
     "data": {
      "text/plain": [
       "array([25205.02891406, 24943.35696988])"
      ]
     },
     "execution_count": 173,
     "metadata": {},
     "output_type": "execute_result"
    }
   ],
   "source": [
    "np.mean(listeA,axis=0)"
   ]
  },
  {
   "cell_type": "code",
   "execution_count": 200,
   "metadata": {},
   "outputs": [],
   "source": [
    "listeA,listeB = [A12,B12,(xc_12,yc_12)],[A13,B13,(xc_13,yc_13)]\n",
    "H=np.dot(np.transpose(np.array(listeA)-np.mean(listeA,axis=0)),np.array(listeB)-np.mean(listeB,axis=0))\n",
    "U,S,V=np.linalg.svd(H)\n",
    "R=np.dot(V,np.transpose(U))\n",
    "if np.linalg.det(R)<0:\n",
    "    R *= np.array([[1,-1],[1,-1]])\n",
    "t=np.mean(listeB,axis=0)-np.dot(R,np.mean(listeA,axis=0))"
   ]
  },
  {
   "cell_type": "code",
   "execution_count": 201,
   "metadata": {},
   "outputs": [
    {
     "data": {
      "text/plain": [
       "(array([[ 0.99939097,  0.03489528],\n",
       "        [-0.03489528,  0.99939097]]), array([-2729.16031862,  -486.6663274 ]))"
      ]
     },
     "execution_count": 201,
     "metadata": {},
     "output_type": "execute_result"
    }
   ],
   "source": [
    "R,t"
   ]
  },
  {
   "cell_type": "code",
   "execution_count": 202,
   "metadata": {},
   "outputs": [
    {
     "data": {
      "text/plain": [
       "(array([  940.78049997, 23952.74268433]),\n",
       " (991.7912525238436, 20730.102691401513))"
      ]
     },
     "execution_count": 202,
     "metadata": {},
     "output_type": "execute_result"
    }
   ],
   "source": [
    "np.dot(R,A12)+t,A13"
   ]
  },
  {
   "cell_type": "code",
   "execution_count": 203,
   "metadata": {},
   "outputs": [
    {
     "data": {
      "text/plain": [
       "(array([45721.06662021, 23171.18311581]),\n",
       " (45743.44343470322, 23075.405199304238))"
      ]
     },
     "execution_count": 203,
     "metadata": {},
     "output_type": "execute_result"
    }
   ],
   "source": [
    "np.dot(R,B12)+t,B13"
   ]
  },
  {
   "cell_type": "code",
   "execution_count": 204,
   "metadata": {},
   "outputs": [
    {
     "data": {
      "text/plain": [
       "(array([23290.34746831, 21503.88877332]),\n",
       " (23216.95990126062, 24822.30668275114))"
      ]
     },
     "execution_count": 204,
     "metadata": {},
     "output_type": "execute_result"
    }
   ],
   "source": [
    "np.dot(R,(xc_12,yc_12))+t,(xc_13,yc_13)"
   ]
  },
  {
   "cell_type": "code",
   "execution_count": 179,
   "metadata": {},
   "outputs": [
    {
     "data": {
      "text/plain": [
       "array([25215.45081317, 24257.27809633])"
      ]
     },
     "execution_count": 179,
     "metadata": {},
     "output_type": "execute_result"
    }
   ],
   "source": [
    "np.mean(listeA,axis=0)"
   ]
  },
  {
   "cell_type": "code",
   "execution_count": 122,
   "metadata": {},
   "outputs": [
    {
     "data": {
      "text/plain": [
       "(0.99939084, -0.034899537)"
      ]
     },
     "execution_count": 122,
     "metadata": {},
     "output_type": "execute_result"
    }
   ],
   "source": [
    "np.cos(lines12[0][0,1]-lines13[0][0,1]),np.sin(lines12[0][0,1]-lines13[0][0,1])"
   ]
  },
  {
   "cell_type": "code",
   "execution_count": 142,
   "metadata": {},
   "outputs": [
    {
     "data": {
      "text/plain": [
       "24500.0"
      ]
     },
     "execution_count": 142,
     "metadata": {},
     "output_type": "execute_result"
    }
   ],
   "source": [
    "lines12[0][0,0]"
   ]
  },
  {
   "cell_type": "code",
   "execution_count": 143,
   "metadata": {},
   "outputs": [
    {
     "data": {
      "text/plain": [
       "array([-2802.64187569,  2831.86200672])"
      ]
     },
     "execution_count": 143,
     "metadata": {},
     "output_type": "execute_result"
    }
   ],
   "source": [
    "t_init"
   ]
  },
  {
   "cell_type": "code",
   "execution_count": 141,
   "metadata": {},
   "outputs": [
    {
     "data": {
      "text/plain": [
       "3850.0"
      ]
     },
     "execution_count": 141,
     "metadata": {},
     "output_type": "execute_result"
    }
   ],
   "source": [
    "lines12[0][0,0]-lines13[0][0,0]"
   ]
  },
  {
   "cell_type": "code",
   "execution_count": 38,
   "metadata": {},
   "outputs": [],
   "source": [
    "plate = 9\n",
    "directory = \"/scratch/shared/mrozemul/Fiji.app/\" \n",
    "listdir=os.listdir(directory) \n",
    "list_dir_interest=[name for name in listdir if name.split('_')[-1]==f'Plate{0 if plate<10 else \"\"}{plate}']\n",
    "ss=[name.split('_')[0] for name in list_dir_interest]\n",
    "ff=[name.split('_')[1] for name in list_dir_interest]\n",
    "dates_datetime=[datetime(year=int(ss[i][:4]),month=int(ss[i][4:6]),day=int(ss[i][6:8]),hour=int(ff[i][0:2]),minute=int(ff[i][2:4])) for i in range(len(list_dir_interest))]\n",
    "dates_datetime.sort()\n",
    "dates_datetime_chosen=dates_datetime[12:14]\n",
    "dates = [f'{0 if date.month<10 else \"\"}{date.month}{0 if date.day<10 else \"\"}{date.day}_{0 if date.hour<10 else \"\"}{date.hour}{0 if date.minute<10 else \"\"}{date.minute}' for date in dates_datetime_chosen]\n",
    "dilateds=[]\n",
    "skels = []\n",
    "skel_docs = []\n",
    "graph_pos=[]\n",
    "contours=[]\n",
    "half_circles=[]\n",
    "for date in dates:\n",
    "    directory_name=f'2020{date}_Plate{0 if plate<10 else \"\"}{plate}'\n",
    "    path_snap='/scratch/shared/mrozemul/Fiji.app/'+directory_name\n",
    "    skel_info = read_mat(path_snap+'/Analysis/skeleton.mat')\n",
    "    skel = skel_info['skeleton']\n",
    "#     contour = skel_info['contour']\n",
    "#     half_circle = skel_info['half_circle']\n",
    "    skels.append(skel)\n",
    "    skel_doc = sparse_to_doc(skel)\n",
    "    skel_docs.append(skel_doc)\n",
    "\n"
   ]
  },
  {
   "cell_type": "code",
   "execution_count": null,
   "metadata": {},
   "outputs": [],
   "source": [
    "skeleton1,skeleton2 = skel_docs[0],skel_docs[1]\n",
    "\n",
    "# t_init=np.array([1936,-2019])\n",
    "# Rot_init= np.array([[ 0.99999938, -0.00111566],\n",
    "#  [ 0.00111566,  0.99999938]])\n",
    "# nx_graph1,pos1 = generate_nx_graph(from_sparse_to_graph(skeleton1))\n",
    "# nx_graph2,pos2 = generate_nx_graph(from_sparse_to_graph(skeleton2))"
   ]
  },
  {
   "cell_type": "code",
   "execution_count": 130,
   "metadata": {},
   "outputs": [
    {
     "data": {
      "text/plain": [
       "-0.000174141272"
      ]
     },
     "execution_count": 130,
     "metadata": {},
     "output_type": "execute_result"
    }
   ],
   "source": [
    "Rot_init = np.array([[ 9.99999985e-01, -1.74141272e-04],[ 1.74141272e-04,  9.99999985e-01]])\n",
    "Rot_init[0,1]"
   ]
  },
  {
   "cell_type": "code",
   "execution_count": 51,
   "metadata": {},
   "outputs": [
    {
     "data": {
      "application/vnd.jupyter.widget-view+json": {
       "model_id": "fd53106d9f7b472c9422b423295c0fe0",
       "version_major": 2,
       "version_minor": 0
      },
      "text/plain": [
       "Canvas(toolbar=Toolbar(toolitems=[('Home', 'Reset original view', 'home', 'home'), ('Back', 'Back to previous …"
      ]
     },
     "metadata": {},
     "output_type": "display_data"
    }
   ],
   "source": [
    "plt.close('all')\n",
    "plot_t_tp1([],[],None,None,contour12[0:8000,25000:38000].todense(),contour13[0+1081:8000+1081,25000-2312:38000-2312].todense())\n"
   ]
  },
  {
   "cell_type": "code",
   "execution_count": 43,
   "metadata": {},
   "outputs": [
    {
     "data": {
      "application/vnd.jupyter.widget-view+json": {
       "model_id": "d09c96def3de44faa1ad3ea5b7da500d",
       "version_major": 2,
       "version_minor": 0
      },
      "text/plain": [
       "Canvas(toolbar=Toolbar(toolitems=[('Home', 'Reset original view', 'home', 'home'), ('Back', 'Back to previous …"
      ]
     },
     "metadata": {},
     "output_type": "display_data"
    }
   ],
   "source": [
    "plt.close('all')\n",
    "plot_t_tp1([],[],None,None,contour12[2312:8000,28000:35000].todense(),contour13[2312:8000,28000:35000].todense())\n"
   ]
  },
  {
   "cell_type": "code",
   "execution_count": 154,
   "metadata": {},
   "outputs": [],
   "source": [
    "x_m = np.mean(x)\n",
    "y_m = np.mean(y)\n",
    "\n",
    "# calculation of the reduced coordinates\n",
    "u = x - x_m\n",
    "v = y - y_m\n",
    "\n",
    "# linear system defining the center (uc, vc) in reduced coordinates:\n",
    "#    Suu * uc +  Suv * vc = (Suuu + Suvv)/2\n",
    "#    Suv * uc +  Svv * vc = (Suuv + Svvv)/2\n",
    "Suv  = np.sum(u*v)\n",
    "Suu  = np.sum(u**2)\n",
    "Svv  = np.sum(v**2)\n",
    "Suuv = np.sum(u**2 * v)\n",
    "Suvv = np.sum(u * v**2)\n",
    "Suuu = np.sum(u**3)\n",
    "Svvv = np.sum(v**3)\n",
    "\n",
    "# Solving the linear system\n",
    "A = np.array([ [ Suu, Suv ], [Suv, Svv]])\n",
    "B = np.array([ Suuu + Suvv, Svvv + Suuv ])/2.0\n",
    "uc, vc = np.linalg.solve(A, B)\n",
    "\n",
    "xc_1 = x_m + uc\n",
    "yc_1 = y_m + vc\n",
    "\n",
    "# Calcul des distances au centre (xc_1, yc_1)\n",
    "Ri_1     = np.sqrt((x-xc_1)**2 + (y-yc_1)**2)\n",
    "R_1      = np.mean(Ri_1)\n",
    "residu_1 = np.sum((Ri_1-R_1)**2)"
   ]
  },
  {
   "cell_type": "code",
   "execution_count": 156,
   "metadata": {},
   "outputs": [
    {
     "data": {
      "text/plain": [
       "(19132.812873300543, 25965.719356081285, 18857.46056358615)"
      ]
     },
     "execution_count": 156,
     "metadata": {},
     "output_type": "execute_result"
    }
   ],
   "source": [
    "xc_1,yc_1, R_1"
   ]
  },
  {
   "cell_type": "code",
   "execution_count": 126,
   "metadata": {},
   "outputs": [
    {
     "data": {
      "text/plain": [
       "0"
      ]
     },
     "execution_count": 126,
     "metadata": {},
     "output_type": "execute_result"
    }
   ],
   "source": [
    "np.sum(laplacian>=5)"
   ]
  },
  {
   "cell_type": "code",
   "execution_count": 112,
   "metadata": {},
   "outputs": [],
   "source": [
    "for x in range(ims12[2].shape[0]):\n",
    "    for y in range(ims12[2].shape[1]):\n",
    "        "
   ]
  },
  {
   "cell_type": "code",
   "execution_count": 102,
   "metadata": {},
   "outputs": [],
   "source": [
    "X = np.random.randint(0,ims12[2].shape[0],1000)"
   ]
  },
  {
   "cell_type": "code",
   "execution_count": 103,
   "metadata": {},
   "outputs": [],
   "source": [
    "transit = []\n",
    "for x in X:\n",
    "    if ims12[12][x,-1]<=4:\n",
    "        for y in range (ims12[2].shape[1]):\n",
    "            if ims12[12][x,y]>4:\n",
    "                transit.append((x,y))\n",
    "                break"
   ]
  },
  {
   "cell_type": "code",
   "execution_count": 107,
   "metadata": {},
   "outputs": [
    {
     "data": {
      "text/plain": [
       "(3000, 4096)"
      ]
     },
     "execution_count": 107,
     "metadata": {},
     "output_type": "execute_result"
    }
   ],
   "source": [
    "ims12[12].shape"
   ]
  },
  {
   "cell_type": "code",
   "execution_count": 69,
   "metadata": {},
   "outputs": [
    {
     "data": {
      "text/plain": [
       "array([[  1,   1,   1, ...,   1,   1,   1],\n",
       "       [  1,   1,   1, ...,   1,   1,   1],\n",
       "       [  1,   1,   1, ...,   1,   1,   1],\n",
       "       ...,\n",
       "       [110, 110, 110, ...,  89,  89,  89],\n",
       "       [110, 110, 110, ...,  89,  89,  89],\n",
       "       [110, 110, 110, ...,  89,  89,  89]], dtype=uint8)"
      ]
     },
     "execution_count": 69,
     "metadata": {},
     "output_type": "execute_result"
    }
   ],
   "source": [
    "blurred"
   ]
  },
  {
   "cell_type": "code",
   "execution_count": 65,
   "metadata": {},
   "outputs": [
    {
     "data": {
      "application/vnd.jupyter.widget-view+json": {
       "model_id": "ea8bc5ff240a41d881e365ef4f0a398d",
       "version_major": 2,
       "version_minor": 0
      },
      "text/plain": [
       "Canvas(toolbar=Toolbar(toolitems=[('Home', 'Reset original view', 'home', 'home'), ('Back', 'Back to previous …"
      ]
     },
     "metadata": {},
     "output_type": "display_data"
    },
    {
     "data": {
      "text/plain": [
       "<matplotlib.image.AxesImage at 0x2b0f1c038310>"
      ]
     },
     "execution_count": 65,
     "metadata": {},
     "output_type": "execute_result"
    }
   ],
   "source": [
    "plt.close('all')\n",
    "fig=plt.figure(figsize=(10,9))\n",
    "ax = fig.add_subplot(111)\n",
    "ax.imshow(cv2.blur(ims12[2], (200, 200)))"
   ]
  },
  {
   "cell_type": "code",
   "execution_count": null,
   "metadata": {},
   "outputs": [],
   "source": []
  },
  {
   "cell_type": "code",
   "execution_count": 10,
   "metadata": {},
   "outputs": [
    {
     "data": {
      "application/vnd.jupyter.widget-view+json": {
       "model_id": "b32b402219344a6b967c5007cb719a0e",
       "version_major": 2,
       "version_minor": 0
      },
      "text/plain": [
       "Canvas(toolbar=Toolbar(toolitems=[('Home', 'Reset original view', 'home', 'home'), ('Back', 'Back to previous …"
      ]
     },
     "metadata": {},
     "output_type": "display_data"
    },
    {
     "data": {
      "text/plain": [
       "<matplotlib.image.AxesImage at 0x2b0fd735a490>"
      ]
     },
     "execution_count": 10,
     "metadata": {},
     "output_type": "execute_result"
    }
   ],
   "source": [
    "fig=plt.figure(figsize=(10,9))\n",
    "ax = fig.add_subplot(111)\n",
    "ax.imshow(cv2.blur(ims12[-1], (200, 200)))"
   ]
  },
  {
   "cell_type": "code",
   "execution_count": 20,
   "metadata": {},
   "outputs": [
    {
     "data": {
      "text/plain": [
       "<matplotlib.image.AxesImage at 0x2b92ef3e24d0>"
      ]
     },
     "execution_count": 20,
     "metadata": {},
     "output_type": "execute_result"
    },
    {
     "data": {
      "image/png": "[encoded data removed]",
      "text/plain": [
       "<Figure size 720x648 with 1 Axes>"
      ]
     },
     "metadata": {
      "needs_background": "light"
     },
     "output_type": "display_data"
    }
   ],
   "source": [
    "plt.close('all')\n",
    "fig=plt.figure(figsize=(10,9))\n",
    "ax = fig.add_subplot(111)\n",
    "ax.imshow(ims13[64])"
   ]
  },
  {
   "cell_type": "code",
   "execution_count": 1,
   "metadata": {},
   "outputs": [
    {
     "name": "stdout",
     "output_type": "stream",
     "text": [
      "Directory  /scratch/shared/mrozemul/Fiji.app/20200814_0857_Plate03/Analysis  already exists\n"
     ]
    }
   ],
   "source": [
    "%matplotlib widget\n",
    "from util import get_path\n",
    "import pandas as pd\n",
    "import networkx as nx\n",
    "import numpy as np\n",
    "import matplotlib.pyplot as plt\n",
    "from extract_graph import generate_nx_graph, transform_list, generate_skeleton, generate_nx_graph_from_skeleton, from_connection_tab, from_nx_to_tab\n",
    "from node_id import whole_movement_identification, second_identification\n",
    "import ast\n",
    "from plotutil import plot_t_tp1, compress_skeleton\n",
    "from scipy import sparse\n",
    "from sparse_util import dilate, zhangSuen\n",
    "from realign import realign\n",
    "from datetime import datetime,timedelta\n",
    "from node_id import orient\n",
    "import pickle\n",
    "from matplotlib.widgets import CheckButtons\n",
    "import scipy.io as sio\n",
    "import imageio\n",
    "from pymatreader import read_mat\n",
    "from matplotlib import colors\n",
    "from copy import deepcopy,copy\n",
    "from collections import Counter\n",
    "import cv2 \n",
    "import imageio\n",
    "import matplotlib.pyplot as plt\n",
    "import numpy as np\n",
    "from skimage.filters import frangi\n",
    "from skimage.morphology import thin\n",
    "from skimage import data, filters\n",
    "from random import choice\n",
    "import scipy.sparse\n",
    "import os\n",
    "from time import time\n",
    "from skimage.feature import hessian_matrix_det\n",
    "import sys\n",
    "from extract_graph import dic_to_sparse, from_sparse_to_graph, generate_nx_graph, prune_graph, from_nx_to_tab, from_nx_to_tab_matlab,sparse_to_doc, connections_pixel_list_to_tab, transform_list, clean_degree_4\n",
    "from sparse_util import dilate, zhangSuen\n",
    "\n",
    "\n",
    "i = 2\n",
    "plate = 3\n",
    "directory = \"/scratch/shared/mrozemul/Fiji.app/\" \n",
    "listdir=os.listdir(directory) \n",
    "list_dir_interest=[name for name in listdir if name.split('_')[-1]==f'Plate{0 if plate<10 else \"\"}{plate}']\n",
    "ss=[name.split('_')[0] for name in list_dir_interest]\n",
    "ff=[name.split('_')[1] for name in list_dir_interest]\n",
    "dates_datetime=[datetime(year=int(ss[i][:4]),month=int(ss[i][4:6]),day=int(ss[i][6:8]),hour=int(ff[i][0:2]),minute=int(ff[i][2:4])) for i in range(len(list_dir_interest))]\n",
    "dates_datetime.sort()\n",
    "dates_datetime_chosen=dates_datetime\n",
    "dates = [f'{0 if date.month<10 else \"\"}{date.month}{0 if date.day<10 else \"\"}{date.day}_{0 if date.hour<10 else \"\"}{date.hour}{0 if date.minute<10 else \"\"}{date.minute}' for date in dates_datetime_chosen]\n",
    "date =dates [i]\n",
    "directory_name=f'2020{date}_Plate{0 if plate<10 else \"\"}{plate}'\n",
    "path_snap='/scratch/shared/mrozemul/Fiji.app/'+directory_name\n",
    "path_tile=path_snap+'/Img/TileConfiguration.txt.registered'\n",
    "try:\n",
    "    tileconfig = pd.read_table(path_tile,sep=';',skiprows=4,header=None,converters={2 : ast.literal_eval},skipinitialspace=True)\n",
    "except:\n",
    "    print('error_name')\n",
    "    path_tile=path_snap+'/Img/TileConfiguration.registered.txt'\n",
    "    tileconfig = pd.read_table(path_tile,sep=';',skiprows=4,header=None,converters={2 : ast.literal_eval},skipinitialspace=True)\n",
    "dirName = path_snap+'/Analysis'\n",
    "shape = (3000,4096)\n",
    "try:\n",
    "    os.mkdir(path_snap+'/Analysis') \n",
    "    print(\"Directory \" , dirName ,  \" Created \")\n",
    "except FileExistsError:\n",
    "    print(\"Directory \" , dirName ,  \" already exists\")  \n",
    "t=time()\n",
    "xs =[c[0] for c in tileconfig[2]]\n",
    "ys =[c[1] for c in tileconfig[2]]\n",
    "dim = (int(np.max(ys)-np.min(ys))+4096,int(np.max(xs)-np.min(xs))+4096)\n",
    "ims = []\n",
    "for name in tileconfig[0]:\n",
    "#     ims.append(imageio.imread('//sun.amolf.nl/shimizu-data/home-folder/oyartegalvez/Drive_AMFtopology/PRINCE'+date_plate+plate_str+'/Img/'+name))\n",
    "    ims.append(imageio.imread(f'{name}'))\n",
    "mask = np.zeros(dim,dtype=np.uint8)\n",
    "for index,im in enumerate(ims):\n",
    "    im_cropped = im\n",
    "    im_blurred =cv2.blur(im_cropped, (100, 100))\n",
    "    boundaries = int(tileconfig[2][index][0]-np.min(xs)),int(tileconfig[2][index][1]-np.min(ys))\n",
    "    mask[boundaries[1]:boundaries[1]+shape[0],boundaries[0]:boundaries[0]+shape[1]] += im_blurred>70\n",
    "    \n",
    "skel_info = read_mat(path_snap+'/Analysis/skeleton.mat')\n",
    "skel = skel_info['skeleton']\n",
    "masker = mask>0\n",
    "kernel = np.ones((100,100),np.uint8)\n",
    "output = 1-cv2.dilate(1-masker.astype(np.uint8),kernel,iterations = 1)\n",
    "result = output*np.array(skel.todense())\n",
    "sio.savemat(path_snap+'/Analysis/skeleton_masked.mat',{'skeleton' : scipy.sparse.csc_matrix(result)})"
   ]
  }
 ],
 "metadata": {
  "kernelspec": {
   "display_name": "Python 3",
   "language": "python",
   "name": "python3"
  },
  "language_info": {
   "codemirror_mode": {
    "name": "ipython",
    "version": 3
   },
   "file_extension": ".py",
   "mimetype": "text/x-python",
   "name": "python",
   "nbconvert_exporter": "python",
   "pygments_lexer": "ipython3",
   "version": "3.7.8"
  }
 },
 "nbformat": 4,
 "nbformat_minor": 4
}

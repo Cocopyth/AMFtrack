{
 "cells": [
  {
   "cell_type": "code",
   "execution_count": 23,
   "metadata": {},
   "outputs": [],
   "source": [
    "%matplotlib widget\n",
    "from util import get_path\n",
    "import pandas as pd\n",
    "import networkx as nx\n",
    "import numpy as np\n",
    "import matplotlib.pyplot as plt\n",
    "from extract_graph import generate_nx_graph, transform_list, generate_skeleton, generate_nx_graph_from_skeleton, from_connection_tab, from_nx_to_tab\n",
    "from node_id import whole_movement_identification, second_identification\n",
    "import ast\n",
    "from plotutil import plot_t_tp1, compress_skeleton\n",
    "from scipy import sparse\n",
    "from sparse_util import dilate, zhangSuen\n",
    "from realign import realign\n",
    "from datetime import datetime,timedelta\n",
    "from node_id import orient\n",
    "import pickle\n",
    "from matplotlib.widgets import CheckButtons\n",
    "import scipy.io as sio\n",
    "import imageio\n",
    "from pymatreader import read_mat\n",
    "from matplotlib import colors\n",
    "from copy import deepcopy,copy\n",
    "from collections import Counter\n",
    "import cv2 \n",
    "import imageio\n",
    "import matplotlib.pyplot as plt\n",
    "import numpy as np\n",
    "from skimage.filters import frangi\n",
    "from skimage.morphology import thin\n",
    "from skimage import data, filters\n",
    "from random import choice\n",
    "import scipy.sparse"
   ]
  },
  {
   "cell_type": "code",
   "execution_count": 24,
   "metadata": {},
   "outputs": [],
   "source": [
    "date = '0701_1557'\n",
    "date_plate = f'/2020{date}'\n",
    "plate = 13\n",
    "plate_str = f'_Plate{plate}'\n",
    "path_tile='//sun.amolf.nl/shimizu-data/home-folder/oyartegalvez/Drive_AMFtopology/PRINCE'+date_plate+plate_str+'/Img/TileConfiguration.registered.txt'\n",
    "tileconfig = pd.read_table(path_tile,sep=';',skiprows=4,header=None,converters={2 : ast.literal_eval},skipinitialspace=True)\n",
    "ims = []\n",
    "for name in tileconfig[0]:\n",
    "#     ims.append(imageio.imread('//sun.amolf.nl/shimizu-data/home-folder/oyartegalvez/Drive_AMFtopology/PRINCE'+date_plate+plate_str+'/Img/'+name))\n",
    "    ims.append(np.load(f'Temp\\{name}.npy'))"
   ]
  },
  {
   "cell_type": "code",
   "execution_count": 17,
   "metadata": {},
   "outputs": [],
   "source": [
    "skel = np.zeros(dim,dtype=np.uint8)\n",
    "shape = (3000,4096)\n",
    "for index,im in enumerate(ims):\n",
    "    sparse_dilated = scipy.sparse.load_npz(f'Temp/sparse_matrix{tileconfig[0][index][:-4]}.npz').todense()\n",
    "    boundaries = int(tileconfig[2][index][0]-np.min(xs)),int(tileconfig[2][index][1]-np.min(ys))\n",
    "#     print(boundaries)\n",
    "#     print(skel[boundaries[1]:boundaries[1]+shape[0],boundaries[0]:boundaries[0]+shape[1]].shape,sparse_dilated.shape)\n",
    "    skel[boundaries[1]:boundaries[1]+shape[0],boundaries[0]:boundaries[0]+shape[1]] += sparse_dilated"
   ]
  },
  {
   "cell_type": "code",
   "execution_count": 18,
   "metadata": {},
   "outputs": [],
   "source": [
    "skel=np.array(255-255*(skel>0),dtype=np.uint8)"
   ]
  },
  {
   "cell_type": "code",
   "execution_count": 21,
   "metadata": {},
   "outputs": [
    {
     "data": {
      "text/plain": [
       "(551466781, 758094965)"
      ]
     },
     "execution_count": 21,
     "metadata": {},
     "output_type": "execute_result"
    }
   ],
   "source": [
    "np.sum(skel>0),np.sum(skel<=0)"
   ]
  },
  {
   "cell_type": "code",
   "execution_count": 30,
   "metadata": {},
   "outputs": [],
   "source": [
    "import scipy.sparse\n",
    "skel = np.zeros(dim,dtype=bool)\n",
    "for index,im in enumerate(ims):\n",
    "    im_cropped = im\n",
    "    im_blurred =cv2.blur(im_cropped, (200, 200))\n",
    "    im_back_rem = (im_cropped+1)/(im_blurred+1)\n",
    "    im_back_rem = cv2.normalize(im_back_rem, None, 0, 255, cv2.NORM_MINMAX)\n",
    "    im_back_rem_inv = cv2.normalize(255-im_back_rem, None, 0, 255, cv2.NORM_MINMAX)\n",
    "#     frangised = frangi(im_back_rem,sigmas=range(1,20,4))\n",
    "#     frangised = cv2.normalize(frangised, None, 0, 255, cv2.NORM_MINMAX)\n",
    "#     transformed = cv2.normalize(frangised-im_back_rem, None, 0, 255, cv2.NORM_MINMAX)\n",
    "    transformed = cv2.normalize(-im_back_rem, None, 0, 255, cv2.NORM_MINMAX)\n",
    "    low = 180\n",
    "    high = 200\n",
    "    lowt = (transformed > low).astype(int)\n",
    "    hight = (transformed > high).astype(int)\n",
    "    hyst = filters.apply_hysteresis_threshold(transformed, low, high)\n",
    "    kernel = np.ones((3,3),np.uint8)\n",
    "    dilation = cv2.dilate(hyst.astype(np.uint8) * 255,kernel,iterations = 1)\n",
    "    for i in range(3):\n",
    "        dilation=cv2.erode(dilation.astype(np.uint8) * 255,kernel,iterations = 1)\n",
    "        dilation = cv2.dilate(dilation.astype(np.uint8) * 255,kernel,iterations = 1)\n",
    "    dilated = dilation>0\n",
    "    sparse_dilated = scipy.sparse.csc_matrix(dilated)\n",
    "#     np.save(f'Temp\\dilated{tileconfig[0][i]}',dilated)\n",
    "    boundaries = int(tileconfig[2][index][0]-np.min(xs)),int(tileconfig[2][index][1]-np.min(ys))\n",
    "#     print(boundaries)\n",
    "#     print(skel[boundaries[1]:boundaries[1]+shape[0],boundaries[0]:boundaries[0]+shape[1]].shape,sparse_dilated.shape)\n",
    "    if np.mean(sparse_dilated)<=0.5:\n",
    "        skel[boundaries[1]:boundaries[1]+shape[0],boundaries[0]:boundaries[0]+shape[1]] += sparse_dilated\n",
    "#     skeletonized = thin(dilated)\n",
    "#     break"
   ]
  },
  {
   "cell_type": "code",
   "execution_count": 31,
   "metadata": {},
   "outputs": [
    {
     "data": {
      "text/plain": [
       "13091473"
      ]
     },
     "execution_count": 31,
     "metadata": {},
     "output_type": "execute_result"
    }
   ],
   "source": [
    "np.sum(skel>0)"
   ]
  },
  {
   "cell_type": "code",
   "execution_count": 32,
   "metadata": {},
   "outputs": [
    {
     "data": {
      "text/plain": [
       "1296470273"
      ]
     },
     "execution_count": 32,
     "metadata": {},
     "output_type": "execute_result"
    }
   ],
   "source": [
    "np.sum(skel<=0)"
   ]
  },
  {
   "cell_type": "code",
   "execution_count": null,
   "metadata": {},
   "outputs": [],
   "source": [
    "skeletonized = cv2.ximgproc.thinning(np.array(255*(skel[10000:20000,10000:20000]>0),dtype=np.uint8))"
   ]
  },
  {
   "cell_type": "code",
   "execution_count": 28,
   "metadata": {},
   "outputs": [
    {
     "data": {
      "application/vnd.jupyter.widget-view+json": {
       "model_id": "89c6253abc9b40198a0a19f95cff1b98",
       "version_major": 2,
       "version_minor": 0
      },
      "text/plain": [
       "Canvas(toolbar=Toolbar(toolitems=[('Home', 'Reset original view', 'home', 'home'), ('Back', 'Back to previous …"
      ]
     },
     "metadata": {},
     "output_type": "display_data"
    },
    {
     "data": {
      "text/plain": [
       "<matplotlib.image.AxesImage at 0x1c4db2f1148>"
      ]
     },
     "execution_count": 28,
     "metadata": {},
     "output_type": "execute_result"
    }
   ],
   "source": [
    "plt.close('all')\n",
    "fig=plt.figure(figsize=(10,9))\n",
    "ax = fig.add_subplot(111)\n",
    "ax.imshow(skel[0:10000,10000:20000])"
   ]
  },
  {
   "cell_type": "code",
   "execution_count": 3,
   "metadata": {},
   "outputs": [],
   "source": [
    "xs =[c[0] for c in tileconfig[2]]\n",
    "ys =[c[1] for c in tileconfig[2]]"
   ]
  },
  {
   "cell_type": "code",
   "execution_count": 4,
   "metadata": {},
   "outputs": [],
   "source": [
    "dim = (int(np.max(ys)-np.min(ys))+4096,int(np.max(xs)-np.min(xs))+4096)"
   ]
  },
  {
   "cell_type": "code",
   "execution_count": 5,
   "metadata": {},
   "outputs": [],
   "source": [
    "skel = np.zeros(dim,dtype=bool)"
   ]
  },
  {
   "cell_type": "code",
   "execution_count": 6,
   "metadata": {},
   "outputs": [],
   "source": [
    "shape = (3000,4096)\n",
    "for index,im in enumerate(ims):\n",
    "    sparse_dilated = scipy.sparse.load_npz(f'Temp/sparse_matrix{tileconfig[0][index][:-4]}.npz').todense()\n",
    "    boundaries = int(tileconfig[2][index][0]-np.min(xs)),int(tileconfig[2][index][1]-np.min(ys))\n",
    "#     print(boundaries)\n",
    "#     print(skel[boundaries[1]:boundaries[1]+shape[0],boundaries[0]:boundaries[0]+shape[1]].shape,sparse_dilated.shape)\n",
    "    skel[boundaries[1]:boundaries[1]+shape[0],boundaries[0]:boundaries[0]+shape[1]] += sparse_dilated"
   ]
  },
  {
   "cell_type": "code",
   "execution_count": 8,
   "metadata": {},
   "outputs": [],
   "source": [
    "im = choice(ims)\n",
    "im_cropped = im\n",
    "im_blurred =cv2.blur(im_cropped, (200, 200))\n",
    "im_back_rem = (im_cropped+1)/(im_blurred+1)\n",
    "im_back_rem = cv2.normalize(im_back_rem, None, 0, 255, cv2.NORM_MINMAX)\n",
    "im_back_rem_inv = cv2.normalize(255-im_back_rem, None, 0, 255, cv2.NORM_MINMAX)\n",
    "#     frangised = frangi(im_back_rem,sigmas=range(1,20,4))\n",
    "#     frangised = cv2.normalize(frangised, None, 0, 255, cv2.NORM_MINMAX)\n",
    "#     transformed = cv2.normalize(frangised-im_back_rem, None, 0, 255, cv2.NORM_MINMAX)\n",
    "transformed = cv2.normalize(-im_back_rem, None, 0, 255, cv2.NORM_MINMAX)"
   ]
  },
  {
   "cell_type": "code",
   "execution_count": 9,
   "metadata": {},
   "outputs": [
    {
     "data": {
      "application/vnd.jupyter.widget-view+json": {
       "model_id": "68cb3611b1e545ce8ad9d8a064b09320",
       "version_major": 2,
       "version_minor": 0
      },
      "text/plain": [
       "Canvas(toolbar=Toolbar(toolitems=[('Home', 'Reset original view', 'home', 'home'), ('Back', 'Back to previous …"
      ]
     },
     "metadata": {},
     "output_type": "display_data"
    },
    {
     "data": {
      "text/plain": [
       "<matplotlib.image.AxesImage at 0x1c4db49aa08>"
      ]
     },
     "execution_count": 9,
     "metadata": {},
     "output_type": "execute_result"
    }
   ],
   "source": [
    "plt.close('all')\n",
    "fig=plt.figure(figsize=(10,9))\n",
    "ax = fig.add_subplot(111)\n",
    "ax.imshow(transformed)"
   ]
  },
  {
   "cell_type": "code",
   "execution_count": 27,
   "metadata": {},
   "outputs": [
    {
     "data": {
      "text/plain": [
       "1309.561858"
      ]
     },
     "execution_count": 27,
     "metadata": {},
     "output_type": "execute_result"
    }
   ],
   "source": [
    "sys.getsizeof(skel)/(10**6)"
   ]
  },
  {
   "cell_type": "code",
   "execution_count": null,
   "metadata": {},
   "outputs": [],
   "source": [
    "skeletonized = thin(skel)"
   ]
  },
  {
   "cell_type": "code",
   "execution_count": 111,
   "metadata": {},
   "outputs": [],
   "source": [
    "scipy.sparse.save_npz(f'Temp/sparse_matrix{tileconfig[0][i]}.npz', sparse_dilated)\n"
   ]
  },
  {
   "cell_type": "code",
   "execution_count": 56,
   "metadata": {},
   "outputs": [],
   "source": [
    "values = [np.mean(im) for im in ims]"
   ]
  },
  {
   "cell_type": "code",
   "execution_count": 57,
   "metadata": {},
   "outputs": [
    {
     "data": {
      "application/vnd.jupyter.widget-view+json": {
       "model_id": "d508525cb7b142449074346c60c51db8",
       "version_major": 2,
       "version_minor": 0
      },
      "text/plain": [
       "Canvas(toolbar=Toolbar(toolitems=[('Home', 'Reset original view', 'home', 'home'), ('Back', 'Back to previous …"
      ]
     },
     "metadata": {},
     "output_type": "display_data"
    },
    {
     "data": {
      "text/plain": [
       "(array([33.,  2.,  4.,  5.,  8.,  8., 10.,  7., 32., 41.]),\n",
       " array([  0.        ,  15.46855857,  30.93711714,  46.40567571,\n",
       "         61.87423428,  77.34279285,  92.81135142, 108.27990999,\n",
       "        123.74846855, 139.21702712, 154.68558569]),\n",
       " <BarContainer object of 10 artists>)"
      ]
     },
     "execution_count": 57,
     "metadata": {},
     "output_type": "execute_result"
    }
   ],
   "source": [
    "fig=plt.figure(figsize=(10,9))\n",
    "ax = fig.add_subplot(111)\n",
    "ax.hist(values)"
   ]
  },
  {
   "cell_type": "code",
   "execution_count": 107,
   "metadata": {},
   "outputs": [
    {
     "name": "stdout",
     "output_type": "stream",
     "text": [
      "11.942084879557292\n"
     ]
    },
    {
     "data": {
      "application/vnd.jupyter.widget-view+json": {
       "model_id": "6e1c91ef6583483e980b8566c72b6463",
       "version_major": 2,
       "version_minor": 0
      },
      "text/plain": [
       "Canvas(toolbar=Toolbar(toolitems=[('Home', 'Reset original view', 'home', 'home'), ('Back', 'Back to previous …"
      ]
     },
     "metadata": {},
     "output_type": "display_data"
    },
    {
     "data": {
      "text/plain": [
       "<matplotlib.image.AxesImage at 0x2991b6ab6c8>"
      ]
     },
     "execution_count": 107,
     "metadata": {},
     "output_type": "execute_result"
    }
   ],
   "source": [
    "plt.close('all')\n",
    "im = choice(ims)\n",
    "print(np.mean(im))\n",
    "fig=plt.figure(figsize=(10,9))\n",
    "ax = fig.add_subplot(111)\n",
    "ax.imshow(im)"
   ]
  },
  {
   "cell_type": "code",
   "execution_count": null,
   "metadata": {},
   "outputs": [],
   "source": [
    "im_cropped = im\n",
    "im_blurred =cv2.blur(im_cropped, (200, 200))\n",
    "im_back_rem = (im_cropped+1)/(im_blurred+1)\n",
    "im_back_rem = cv2.normalize(im_back_rem, None, 0, 255, cv2.NORM_MINMAX)\n",
    "im_back_rem_inv = cv2.normalize(255-im_back_rem, None, 0, 255, cv2.NORM_MINMAX)\n",
    "frangised = frangi(im_back_rem,sigmas=range(1,20,4))\n",
    "frangised = cv2.normalize(frangised, None, 0, 255, cv2.NORM_MINMAX)\n",
    "transformed = cv2.normalize(frangised-im_back_rem, None, 0, 255, cv2.NORM_MINMAX)\n",
    "low = 100\n",
    "high = 200\n",
    "lowt = (transformed > low).astype(int)\n",
    "hight = (transformed > high).astype(int)\n",
    "hyst = filters.apply_hysteresis_threshold(transformed, low, high)\n",
    "kernel = np.ones((3,3),np.uint8)\n",
    "dilation = cv2.dilate(hyst.astype(np.uint8) * 255,kernel,iterations = 1)\n",
    "for i in range(3):\n",
    "    dilation=cv2.erode(dilation.astype(np.uint8) * 255,kernel,iterations = 1)\n",
    "    dilation = cv2.dilate(dilation.astype(np.uint8) * 255,kernel,iterations = 1)\n",
    "dilated = dilation>0\n",
    "skeletonized = thin(dilated)"
   ]
  },
  {
   "cell_type": "code",
   "execution_count": 108,
   "metadata": {},
   "outputs": [],
   "source": [
    "im_cropped = im\n",
    "im_blurred =cv2.blur(im_cropped, (200, 200))\n",
    "im_back_rem = (im_cropped+1)/(im_blurred+1)\n",
    "im_back_rem = cv2.normalize(im_back_rem, None, 0, 255, cv2.NORM_MINMAX)"
   ]
  },
  {
   "cell_type": "code",
   "execution_count": 109,
   "metadata": {},
   "outputs": [
    {
     "data": {
      "application/vnd.jupyter.widget-view+json": {
       "model_id": "96b38c994c3f4d96a82b626aac092ba9",
       "version_major": 2,
       "version_minor": 0
      },
      "text/plain": [
       "Canvas(toolbar=Toolbar(toolitems=[('Home', 'Reset original view', 'home', 'home'), ('Back', 'Back to previous …"
      ]
     },
     "metadata": {},
     "output_type": "display_data"
    },
    {
     "data": {
      "text/plain": [
       "<matplotlib.image.AxesImage at 0x299179a5308>"
      ]
     },
     "execution_count": 109,
     "metadata": {},
     "output_type": "execute_result"
    }
   ],
   "source": [
    "fig=plt.figure(figsize=(10,9))\n",
    "ax = fig.add_subplot(111)\n",
    "ax.imshow(im_back_rem)"
   ]
  },
  {
   "cell_type": "code",
   "execution_count": 55,
   "metadata": {},
   "outputs": [
    {
     "data": {
      "application/vnd.jupyter.widget-view+json": {
       "model_id": "150764b8796a4eb5b92624216f08219c",
       "version_major": 2,
       "version_minor": 0
      },
      "text/plain": [
       "Canvas(toolbar=Toolbar(toolitems=[('Home', 'Reset original view', 'home', 'home'), ('Back', 'Back to previous …"
      ]
     },
     "metadata": {},
     "output_type": "display_data"
    },
    {
     "data": {
      "text/plain": [
       "<matplotlib.image.AxesImage at 0x29926f08c08>"
      ]
     },
     "execution_count": 55,
     "metadata": {},
     "output_type": "execute_result"
    }
   ],
   "source": [
    "fig=plt.figure(figsize=(10,9))\n",
    "ax = fig.add_subplot(111)\n",
    "ax.imshow(skeletonized)"
   ]
  }
 ],
 "metadata": {
  "kernelspec": {
   "display_name": "cleanMsc",
   "language": "python",
   "name": "cleanmsc"
  },
  "language_info": {
   "codemirror_mode": {
    "name": "ipython",
    "version": 3
   },
   "file_extension": ".py",
   "mimetype": "text/x-python",
   "name": "python",
   "nbconvert_exporter": "python",
   "pygments_lexer": "ipython3",
   "version": "3.7.9"
  }
 },
 "nbformat": 4,
 "nbformat_minor": 4
}

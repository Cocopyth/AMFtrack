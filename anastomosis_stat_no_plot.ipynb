{
 "cells": [
  {
   "cell_type": "code",
   "execution_count": 5,
   "metadata": {},
   "outputs": [],
   "source": [
    "from util import get_path\n",
    "import pandas as pd\n",
    "import networkx as nx\n",
    "import numpy as np\n",
    "import matplotlib.pyplot as plt\n",
    "from extract_graph import generate_nx_graph, transform_list, generate_skeleton, generate_nx_graph_from_skeleton, from_connection_tab\n",
    "from node_id import whole_movement_identification, second_identification\n",
    "import ast\n",
    "from plotutil import plot_t_tp1, compress_skeleton\n",
    "from scipy import sparse\n",
    "from sparse_util import dilate, zhangSuen\n",
    "from realign import realign\n",
    "from datetime import datetime,timedelta\n",
    "from node_id import orient\n",
    "import pickle\n",
    "from matplotlib.widgets import CheckButtons\n",
    "import scipy.io as sio\n",
    "import imageio\n",
    "from pymatreader import read_mat\n",
    "import os\n",
    "from experiment_class import Experiment\n",
    "import cv2"
   ]
  },
  {
   "cell_type": "code",
   "execution_count": 2,
   "metadata": {},
   "outputs": [],
   "source": [
    "plate = 13\n",
    "directory='//sun.amolf.nl/shimizu-data/home-folder/oyartegalvez/Drive_AMFtopology/PRINCE'\n",
    "listdir=os.listdir(directory) \n",
    "list_dir_interest=[name for name in listdir if name.split('_')[-1]==f'Plate{0 if plate<10 else \"\"}{plate}']\n",
    "ss=[name.split('_')[0] for name in list_dir_interest]\n",
    "ff=[name.split('_')[1] for name in list_dir_interest]\n",
    "dates_datetime=[datetime(year=int(ss[i][:4]),month=int(ss[i][4:6]),day=int(ss[i][6:8]),hour=int(ff[i][0:2]),minute=int(ff[i][2:4])) for i in range(len(list_dir_interest))]\n",
    "dates_datetime.sort()\n",
    "dates_datetime_chosen=dates_datetime[1:25]\n",
    "dates = [f'{0 if date.month<10 else \"\"}{date.month}{0 if date.day<10 else \"\"}{date.day}_{0 if date.hour<10 else \"\"}{date.hour}{0 if date.minute<10 else \"\"}{date.minute}' for date in dates_datetime_chosen]"
   ]
  },
  {
   "cell_type": "code",
   "execution_count": 3,
   "metadata": {},
   "outputs": [],
   "source": [
    "exp = Experiment(13)\n",
    "exp.load(dates,local=False,raw=False)"
   ]
  },
  {
   "cell_type": "code",
   "execution_count": 4,
   "metadata": {},
   "outputs": [],
   "source": [
    "tip_track={}\n",
    "for node in exp.nodes:\n",
    "    for t in range(len(exp.dates)):\n",
    "        if node.is_in(t) and node.degree(t)==1:\n",
    "            track = []\n",
    "            for tsup in range(t,len(exp.dates)):\n",
    "                if node.is_in(tsup):\n",
    "                    track.append(node.pos(tsup))\n",
    "            tip_track[node.label] = track\n",
    "            break\n",
    "tip_growth={tip : [np.linalg.norm(tip_track[tip][i+1]-tip_track[tip][i]) for i in range(len(tip_track[tip])-1)] for tip in tip_track.keys()}\n",
    "tip_of_interest=[tip for tip in tip_growth.keys() if np.any(np.array(tip_growth[tip])>=100)]"
   ]
  },
  {
   "cell_type": "code",
   "execution_count": null,
   "metadata": {},
   "outputs": [],
   "source": [
    "tip=choice(tip_of_interest)\n",
    "node_interest=tip\n",
    "poss = exp.positions\n",
    "ts = [t for t in range(len(poss)) if exp.get_node(tip).is_in(t)]"
   ]
  },
  {
   "cell_type": "code",
   "execution_count": null,
   "metadata": {},
   "outputs": [],
   "source": [
    "tip=choice(tip_of_interest)\n",
    "node_interest=tip\n",
    "poss = exp.positions\n",
    "ts = [t for ti in range(len(poss)) if exp.get_node(tip).is_in(t)]\n",
    "pos_problem=[poss[i][node_interest] for i in ts]\n",
    "xbegin=[pos_problem[i][0]-1500 for i in ts]\n",
    "ybegin=[pos_problem[i][1]-1500 for i in ts]\n",
    "xend=[pos_problem[i][0]+1500 for i in ts]\n",
    "yend=[pos_problem[i][1]+1500 for i in ts]\n",
    "skeletons_small=[]\n",
    "for i in ts:\n",
    "    skeletons_small.append(exp.skeletons[i][xbegin[i]:xend[i],ybegin[i]:yend[i]])\n",
    "node_smalls=[]\n",
    "for i in ts:\n",
    "    node_smalls.append([node for node in exp.nx_graph[i].nodes if (xbegin[i]<poss[i][node][0]<xend[i] and ybegin[i]<poss[i][node][1]<yend[i] and nx_graph.degree(node)>=1)])\n",
    "kernel = np.ones((5,5),np.uint8)\n",
    "skeletons_small_dilated=[cv2.dilate(skeleton.todense().astype(np.uint8),kernel,iterations = 1) for skeleton in skeletons_small]\n",
    "for tp1 in range(len(growths)):\n",
    "    plot_t_tp1(node_smalls[tp1],node_smalls[tp1],poss[tp1],poss[tp1],skeletons_small_dilated[tp1],skeletons_small_dilated[tp1],shift=(xbegin[tp1],ybegin[tp1]),save=f'Data/video_test/network_timestep_{tp1}',time=f't={4*tp1}h')\n",
    "images = []\n",
    "for t in range(len(growths)):\n",
    "    images.append(imageio.imread(f'Data/video_test/network_timestep_{t}.png'))\n",
    "imageio.mimsave(f'Data/video_test/{node_interest}movie_track.gif', images,duration=1)"
   ]
  }
 ],
 "metadata": {
  "kernelspec": {
   "display_name": "cleanMsc",
   "language": "python",
   "name": "cleanmsc"
  },
  "language_info": {
   "codemirror_mode": {
    "name": "ipython",
    "version": 3
   },
   "file_extension": ".py",
   "mimetype": "text/x-python",
   "name": "python",
   "nbconvert_exporter": "python",
   "pygments_lexer": "ipython3",
   "version": "3.7.9"
  }
 },
 "nbformat": 4,
 "nbformat_minor": 4
}

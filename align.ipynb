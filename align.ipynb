{
 "cells": [
  {
   "cell_type": "code",
   "execution_count": 7,
   "metadata": {},
   "outputs": [],
   "source": [
    "%matplotlib widget\n",
    "from util import get_path\n",
    "import pandas as pd\n",
    "import networkx as nx\n",
    "import numpy as np\n",
    "import matplotlib.pyplot as plt\n",
    "from extract_graph import generate_nx_graph, transform_list, generate_skeleton, generate_nx_graph_from_skeleton, from_connection_tab, from_nx_to_tab\n",
    "from node_id import whole_movement_identification, second_identification\n",
    "import ast\n",
    "from plotutil import plot_t_tp1, compress_skeleton\n",
    "from scipy import sparse\n",
    "from sparse_util import dilate, zhangSuen\n",
    "from realign import realign, realign_final\n",
    "from datetime import datetime,timedelta\n",
    "from node_id import orient\n",
    "import pickle\n",
    "from matplotlib.widgets import CheckButtons\n",
    "import scipy.io as sio\n",
    "import imageio\n",
    "from pymatreader import read_mat\n",
    "from matplotlib import colors\n",
    "from copy import deepcopy,copy\n",
    "from collections import Counter\n",
    "import cv2 \n",
    "import imageio\n",
    "import matplotlib.pyplot as plt\n",
    "import numpy as np\n",
    "from skimage.filters import frangi\n",
    "from skimage.morphology import thin\n",
    "from skimage import data, filters\n",
    "from random import choice\n",
    "import scipy.sparse\n",
    "import os\n",
    "from time import time\n",
    "from extract_graph import dic_to_sparse, from_sparse_to_graph, generate_nx_graph, prune_graph, from_nx_to_tab, from_nx_to_tab_matlab,sparse_to_doc, connections_pixel_list_to_tab, transform_list, clean_degree_4\n",
    "from time import sleep\n",
    "from pycpd import RigidRegistration, DeformableRegistration\n",
    "import open3d as o3d"
   ]
  },
  {
   "cell_type": "code",
   "execution_count": 13,
   "metadata": {},
   "outputs": [
    {
     "name": "stdout",
     "output_type": "stream",
     "text": [
      "Iteration:1\n",
      "ML:105181.251; \tML change (error):105181.251; \tSigma^2:19885575.350; \tSigma^2 change:40808598.892\n",
      "[                                                                        ]\n",
      "Iteration:2\n",
      "ML: 98237.267; \tML change (error):  6943.983; \tSigma^2:11894719.796; \tSigma^2 change:7990855.553\n",
      "[=                                                                       ]\n",
      "Iteration:3\n",
      "ML: 96128.298; \tML change (error):  2108.970; \tSigma^2:8185497.702; \tSigma^2 change:3709222.095\n",
      "[==                                                                      ]\n",
      "Iteration:4\n",
      "ML: 94874.923; \tML change (error):  1253.374; \tSigma^2:5987488.437; \tSigma^2 change:2198009.265\n",
      "[==                                                                      ]\n",
      "Iteration:5\n",
      "ML: 93951.526; \tML change (error):   923.397; \tSigma^2:4543338.418; \tSigma^2 change:1444150.018\n",
      "[===                                                                     ]\n",
      "Iteration:6\n",
      "ML: 93212.000; \tML change (error):   739.527; \tSigma^2:3542083.147; \tSigma^2 change:1001255.272\n",
      "[====                                                                    ]\n",
      "Iteration:7\n",
      "ML: 92600.444; \tML change (error):   611.555; \tSigma^2:2824474.148; \tSigma^2 change:717608.999\n",
      "[=====                                                                   ]\n",
      "Iteration:8\n",
      "ML: 92088.293; \tML change (error):   512.151; \tSigma^2:2296745.011; \tSigma^2 change:527729.137\n",
      "[=====                                                                   ]\n",
      "Iteration:9\n",
      "ML: 91655.869; \tML change (error):   432.424; \tSigma^2:1899788.395; \tSigma^2 change:396956.616\n",
      "[======                                                                  ]\n",
      "Iteration:10\n",
      "ML: 91287.873; \tML change (error):   367.996; \tSigma^2:1594875.896; \tSigma^2 change:304912.499\n",
      "[=======                                                                 ]\n",
      "Iteration:11\n",
      "ML: 90971.721; \tML change (error):   316.152; \tSigma^2:1355938.751; \tSigma^2 change:238937.145\n",
      "[=======                                                                 ]\n",
      "Iteration:12\n",
      "ML: 90696.857; \tML change (error):   274.863; \tSigma^2:1165129.286; \tSigma^2 change:190809.465\n",
      "[========                                                                ]\n",
      "Iteration:13\n",
      "ML: 90454.618; \tML change (error):   242.239; \tSigma^2:1010128.679; \tSigma^2 change:155000.608\n",
      "[=========                                                               ]\n",
      "Iteration:14\n",
      "ML: 90238.284; \tML change (error):   216.334; \tSigma^2:882381.566; \tSigma^2 change:127747.113\n",
      "[==========                                                              ]\n",
      "Iteration:15\n",
      "ML: 90042.928; \tML change (error):   195.356; \tSigma^2:775811.448; \tSigma^2 change:106570.118\n",
      "[==========                                                              ]\n",
      "Iteration:16\n",
      "ML: 89864.890; \tML change (error):   178.038; \tSigma^2:685963.334; \tSigma^2 change: 89848.114\n",
      "[===========                                                             ]\n",
      "Iteration:17\n",
      "ML: 89701.304; \tML change (error):   163.586; \tSigma^2:609503.170; \tSigma^2 change: 76460.164\n",
      "[============                                                            ]\n",
      "Iteration:18\n",
      "ML: 89549.897; \tML change (error):   151.407; \tSigma^2:543908.355; \tSigma^2 change: 65594.815\n",
      "[============                                                            ]\n",
      "Iteration:19\n",
      "ML: 89408.906; \tML change (error):   140.991; \tSigma^2:487251.013; \tSigma^2 change: 56657.342\n",
      "[=============                                                           ]\n",
      "Iteration:20\n",
      "ML: 89277.001; \tML change (error):   131.905; \tSigma^2:438037.126; \tSigma^2 change: 49213.887\n",
      "[==============                                                          ]\n",
      "Iteration:21\n",
      "ML: 89153.197; \tML change (error):   123.805; \tSigma^2:395088.375; \tSigma^2 change: 42948.751\n",
      "[===============                                                         ]\n",
      "Iteration:22\n",
      "ML: 89036.753; \tML change (error):   116.444; \tSigma^2:357459.098; \tSigma^2 change: 37629.277\n",
      "[===============                                                         ]\n",
      "Iteration:23\n",
      "ML: 88927.105; \tML change (error):   109.648; \tSigma^2:324379.167; \tSigma^2 change: 33079.931\n",
      "[================                                                        ]\n",
      "Iteration:24\n",
      "ML: 88823.814; \tML change (error):   103.291; \tSigma^2:295213.952; \tSigma^2 change: 29165.215\n",
      "[=================                                                       ]\n",
      "Iteration:25\n",
      "ML: 88726.533; \tML change (error):    97.280; \tSigma^2:269435.308; \tSigma^2 change: 25778.644\n",
      "[==================                                                      ]\n",
      "Iteration:26\n",
      "ML: 88634.989; \tML change (error):    91.544; \tSigma^2:246599.939; \tSigma^2 change: 22835.369\n",
      "[==================                                                      ]\n",
      "Iteration:27\n",
      "ML: 88548.959; \tML change (error):    86.030; \tSigma^2:226332.944; \tSigma^2 change: 20266.996\n",
      "[===================                                                     ]\n",
      "Iteration:28\n",
      "ML: 88468.259; \tML change (error):    80.700; \tSigma^2:208315.116; \tSigma^2 change: 18017.828\n",
      "[====================                                                    ]\n",
      "Iteration:29\n",
      "ML: 88392.731; \tML change (error):    75.528; \tSigma^2:192273.029; \tSigma^2 change: 16042.087\n",
      "[====================                                                    ]\n",
      "Iteration:30\n",
      "ML: 88322.234; \tML change (error):    70.497; \tSigma^2:177971.214; \tSigma^2 change: 14301.815\n",
      "[=====================                                                   ]\n",
      "Iteration:31\n",
      "ML: 88256.634; \tML change (error):    65.601; \tSigma^2:165205.941; \tSigma^2 change: 12765.273\n",
      "[======================                                                  ]\n",
      "Iteration:32\n",
      "ML: 88195.796; \tML change (error):    60.838; \tSigma^2:153800.222; \tSigma^2 change: 11405.719\n",
      "[=======================                                                 ]\n",
      "Iteration:33\n",
      "ML: 88139.582; \tML change (error):    56.213; \tSigma^2:143599.753; \tSigma^2 change: 10200.468\n",
      "[=======================                                                 ]\n",
      "Iteration:34\n",
      "ML: 88087.847; \tML change (error):    51.735; \tSigma^2:134469.588; \tSigma^2 change:  9130.165\n",
      "[========================                                                ]\n",
      "Iteration:35\n",
      "ML: 88040.433; \tML change (error):    47.414; \tSigma^2:126291.365; \tSigma^2 change:  8178.223\n",
      "[=========================                                               ]\n",
      "Iteration:36\n",
      "ML: 87997.171; \tML change (error):    43.263; \tSigma^2:118960.989; \tSigma^2 change:  7330.375\n",
      "[=========================                                               ]\n",
      "Iteration:37\n",
      "ML: 87957.876; \tML change (error):    39.294; \tSigma^2:112386.682; \tSigma^2 change:  6574.307\n",
      "[==========================                                              ]\n",
      "Iteration:38\n",
      "ML: 87922.355; \tML change (error):    35.522; \tSigma^2:106487.329; \tSigma^2 change:  5899.353\n",
      "[===========================                                             ]\n",
      "Iteration:39\n",
      "ML: 87890.398; \tML change (error):    31.957; \tSigma^2:101191.091; \tSigma^2 change:  5296.239\n",
      "[============================                                            ]\n",
      "Iteration:40\n",
      "ML: 87861.788; \tML change (error):    28.610; \tSigma^2: 96434.221; \tSigma^2 change:  4756.870\n",
      "[============================                                            ]\n",
      "Iteration:41\n",
      "ML: 87836.298; \tML change (error):    25.489; \tSigma^2: 92160.067; \tSigma^2 change:  4274.154\n",
      "[=============================                                           ]\n",
      "Iteration:42\n",
      "ML: 87813.699; \tML change (error):    22.599; \tSigma^2: 88318.213; \tSigma^2 change:  3841.854\n",
      "[==============================                                          ]\n",
      "Iteration:43\n",
      "ML: 87793.760; \tML change (error):    19.940; \tSigma^2: 84863.745; \tSigma^2 change:  3454.468\n",
      "[==============================                                          ]\n",
      "Iteration:44\n",
      "ML: 87776.250; \tML change (error):    17.510; \tSigma^2: 81756.610; \tSigma^2 change:  3107.135\n",
      "[===============================                                         ]\n",
      "Iteration:45\n",
      "ML: 87760.944; \tML change (error):    15.306; \tSigma^2: 78961.063; \tSigma^2 change:  2795.547\n",
      "[================================                                        ]\n",
      "Iteration:46\n",
      "ML: 87747.625; \tML change (error):    13.319; \tSigma^2: 76445.176; \tSigma^2 change:  2515.887\n",
      "[=================================                                       ]\n",
      "Iteration:47\n",
      "ML: 87736.085; \tML change (error):    11.540; \tSigma^2: 74180.411; \tSigma^2 change:  2264.764\n",
      "[=================================                                       ]\n",
      "Iteration:48\n",
      "ML: 87726.129; \tML change (error):     9.956; \tSigma^2: 72141.246; \tSigma^2 change:  2039.166\n",
      "[==================================                                      ]\n",
      "Iteration:49\n",
      "ML: 87717.575; \tML change (error):     8.555; \tSigma^2: 70304.833; \tSigma^2 change:  1836.413\n",
      "[===================================                                     ]\n",
      "Iteration:50\n",
      "ML: 87710.252; \tML change (error):     7.322; \tSigma^2: 68650.711; \tSigma^2 change:  1654.121\n",
      "[====================================                                    ]\n",
      "Iteration:51\n",
      "ML: 87704.008; \tML change (error):     6.245; \tSigma^2: 67160.544; \tSigma^2 change:  1490.167\n",
      "[====================================                                    ]\n",
      "Iteration:52\n",
      "ML: 87698.701; \tML change (error):     5.307; \tSigma^2: 65817.885; \tSigma^2 change:  1342.659\n",
      "[=====================================                                   ]\n",
      "Iteration:53\n",
      "ML: 87694.206; \tML change (error):     4.495; \tSigma^2: 64607.980; \tSigma^2 change:  1209.906\n",
      "[======================================                                  ]\n",
      "Iteration:54\n",
      "ML: 87690.410; \tML change (error):     3.795; \tSigma^2: 63517.579; \tSigma^2 change:  1090.401\n",
      "[======================================                                  ]\n",
      "Iteration:55\n",
      "ML: 87687.215; \tML change (error):     3.195; \tSigma^2: 62534.782; \tSigma^2 change:   982.796\n",
      "[=======================================                                 ]\n",
      "Iteration:56\n",
      "ML: 87684.532; \tML change (error):     2.683; \tSigma^2: 61648.896; \tSigma^2 change:   885.887\n",
      "[========================================                                ]\n",
      "Iteration:57\n",
      "ML: 87682.286; \tML change (error):     2.247; \tSigma^2: 60850.302; \tSigma^2 change:   798.593\n",
      "[=========================================                               ]\n",
      "Iteration:58\n",
      "ML: 87680.409; \tML change (error):     1.877; \tSigma^2: 60130.355; \tSigma^2 change:   719.948\n",
      "[=========================================                               ]\n",
      "Iteration:59\n",
      "ML: 87678.844; \tML change (error):     1.564; \tSigma^2: 59481.270; \tSigma^2 change:   649.085\n",
      "[==========================================                              ]\n",
      "Iteration:60\n",
      "ML: 87677.543; \tML change (error):     1.301; \tSigma^2: 58896.045; \tSigma^2 change:   585.225\n",
      "[===========================================                             ]\n",
      "Iteration:61\n",
      "ML: 87676.463; \tML change (error):     1.081; \tSigma^2: 58368.374; \tSigma^2 change:   527.671\n",
      "[===========================================                             ]\n",
      "Iteration:62\n",
      "ML: 87675.567; \tML change (error):     0.896; \tSigma^2: 57892.578; \tSigma^2 change:   475.795\n",
      "[============================================                            ]\n",
      "Iteration:63\n",
      "ML: 87674.826; \tML change (error):     0.741; \tSigma^2: 57463.545; \tSigma^2 change:   429.033\n",
      "[=============================================                           ]\n",
      "Iteration:64\n",
      "ML: 87674.214; \tML change (error):     0.612; \tSigma^2: 57076.667; \tSigma^2 change:   386.879\n",
      "[==============================================                          ]\n",
      "Iteration:65\n",
      "ML: 87673.709; \tML change (error):     0.505; \tSigma^2: 56727.792; \tSigma^2 change:   348.875\n",
      "[==============================================                          ]\n",
      "Iteration:66\n",
      "ML: 87673.292; \tML change (error):     0.416; \tSigma^2: 56413.181; \tSigma^2 change:   314.611\n",
      "[===============================================                         ]\n",
      "Iteration:67\n",
      "ML: 87672.950; \tML change (error):     0.343; \tSigma^2: 56129.463; \tSigma^2 change:   283.718\n",
      "[================================================                        ]\n",
      "Iteration:68\n",
      "ML: 87672.668; \tML change (error):     0.282; \tSigma^2: 55873.599; \tSigma^2 change:   255.864\n",
      "[================================================                        ]\n",
      "Iteration:69\n",
      "ML: 87672.437; \tML change (error):     0.231; \tSigma^2: 55642.852; \tSigma^2 change:   230.747\n",
      "[=================================================                       ]\n",
      "Iteration:70\n",
      "ML: 87672.247; \tML change (error):     0.190; \tSigma^2: 55434.752; \tSigma^2 change:   208.100\n",
      "[==================================================                      ]\n",
      "Iteration:71\n",
      "ML: 87672.091; \tML change (error):     0.156; \tSigma^2: 55247.075; \tSigma^2 change:   187.678\n",
      "[===================================================                     ]\n",
      "Iteration:72\n",
      "ML: 87671.963; \tML change (error):     0.128; \tSigma^2: 55077.813; \tSigma^2 change:   169.262\n",
      "[===================================================                     ]\n",
      "Iteration:73\n",
      "ML: 87671.859; \tML change (error):     0.105; \tSigma^2: 54925.159; \tSigma^2 change:   152.655\n",
      "[====================================================                    ]\n",
      "Iteration:74\n",
      "ML: 87671.773; \tML change (error):     0.086; \tSigma^2: 54787.480; \tSigma^2 change:   137.678\n",
      "[=====================================================                   ]\n",
      "Iteration:75\n",
      "ML: 87671.703; \tML change (error):     0.070; \tSigma^2: 54663.307; \tSigma^2 change:   124.173\n",
      "[======================================================                  ]\n",
      "Iteration:76\n",
      "ML: 87671.646; \tML change (error):     0.057; \tSigma^2: 54551.314; \tSigma^2 change:   111.993\n",
      "[======================================================                  ]\n",
      "Iteration:77\n",
      "ML: 87671.599; \tML change (error):     0.047; \tSigma^2: 54450.305; \tSigma^2 change:   101.009\n",
      "[=======================================================                 ]\n",
      "Iteration:78\n",
      "ML: 87671.561; \tML change (error):     0.038; \tSigma^2: 54359.202; \tSigma^2 change:    91.103\n",
      "[========================================================                ]\n",
      "Iteration:79\n",
      "ML: 87671.529; \tML change (error):     0.031; \tSigma^2: 54277.033; \tSigma^2 change:    82.169\n",
      "[========================================================                ]\n",
      "Iteration:80\n",
      "ML: 87671.504; \tML change (error):     0.025; \tSigma^2: 54202.921; \tSigma^2 change:    74.112\n",
      "[=========================================================               ]\n",
      "Iteration:81\n",
      "ML: 87671.483; \tML change (error):     0.021; \tSigma^2: 54136.075; \tSigma^2 change:    66.846\n",
      "[==========================================================              ]\n",
      "Iteration:82\n",
      "ML: 87671.466; \tML change (error):     0.017; \tSigma^2: 54075.783; \tSigma^2 change:    60.292\n",
      "[===========================================================             ]\n",
      "Iteration:83\n",
      "ML: 87671.452; \tML change (error):     0.014; \tSigma^2: 54021.402; \tSigma^2 change:    54.381\n",
      "[===========================================================             ]\n",
      "Iteration:84\n",
      "ML: 87671.441; \tML change (error):     0.011; \tSigma^2: 53972.352; \tSigma^2 change:    49.050\n",
      "[============================================================            ]\n",
      "Iteration:85\n",
      "ML: 87671.432; \tML change (error):     0.009; \tSigma^2: 53928.110; \tSigma^2 change:    44.242\n",
      "[=============================================================           ]\n",
      "Iteration:86\n",
      "ML: 87671.424; \tML change (error):     0.008; \tSigma^2: 53888.204; \tSigma^2 change:    39.906\n",
      "[=============================================================           ]\n",
      "Iteration:87\n",
      "ML: 87671.418; \tML change (error):     0.006; \tSigma^2: 53852.209; \tSigma^2 change:    35.995\n",
      "[==============================================================          ]\n",
      "Iteration:88\n",
      "ML: 87671.413; \tML change (error):     0.005; \tSigma^2: 53819.742; \tSigma^2 change:    32.467\n",
      "[===============================================================         ]\n",
      "Iteration:89\n",
      "ML: 87671.409; \tML change (error):     0.004; \tSigma^2: 53790.457; \tSigma^2 change:    29.285\n",
      "[================================================================        ]\n",
      "Iteration:90\n",
      "ML: 87671.406; \tML change (error):     0.003; \tSigma^2: 53764.041; \tSigma^2 change:    26.415\n",
      "[================================================================        ]\n",
      "Iteration:91\n",
      "ML: 87671.403; \tML change (error):     0.003; \tSigma^2: 53740.214; \tSigma^2 change:    23.827\n",
      "[=================================================================       ]\n",
      "Iteration:92\n",
      "ML: 87671.401; \tML change (error):     0.002; \tSigma^2: 53718.722; \tSigma^2 change:    21.492\n",
      "[==================================================================      ]\n",
      "Iteration:93\n",
      "ML: 87671.399; \tML change (error):     0.002; \tSigma^2: 53699.335; \tSigma^2 change:    19.387\n",
      "[==================================================================      ]\n",
      "Iteration:94\n",
      "ML: 87671.398; \tML change (error):     0.001; \tSigma^2: 53681.848; \tSigma^2 change:    17.487\n",
      "[===================================================================     ]\n",
      "Iteration:95\n",
      "ML: 87671.397; \tML change (error):     0.001; \tSigma^2: 53666.074; \tSigma^2 change:    15.774\n",
      "[====================================================================    ]\n",
      "Iteration:96\n",
      "ML: 87671.396; \tML change (error):     0.001; \tSigma^2: 53651.845; \tSigma^2 change:    14.229\n",
      "[=====================================================================   ]\n",
      "Iteration:97\n",
      "ML: 87671.395; \tML change (error):     0.001; \tSigma^2: 53639.010; \tSigma^2 change:    12.835\n",
      "[=====================================================================   ]\n",
      "Iteration:98\n",
      "ML: 87671.394; \tML change (error):     0.001; \tSigma^2: 53627.432; \tSigma^2 change:    11.578\n",
      "[======================================================================  ]\n",
      "Iteration:99\n",
      "ML: 87671.394; \tML change (error):     0.001; \tSigma^2: 53616.989; \tSigma^2 change:    10.444\n",
      "[======================================================================= ]\n",
      "Iteration:100\n",
      "ML: 87671.393; \tML change (error):     0.000; \tSigma^2: 53607.568; \tSigma^2 change:     9.421\n",
      "[========================================================================]\n",
      "========================================================================\n",
      "Registration Performance Metrics\n",
      "========================================================================\n",
      "Time to initialize EM: 0.3427724838256836\n",
      "Time to initialize registration: 3.361701965332031e-05\n",
      "Average Expectation Time:                    5.8469 +/- 0.3011\n",
      "Average Maximization Time:                   0.0012 +/- 0.0002\n",
      "Maximization Times - Per individual step\n",
      "Average Update Transform Time:               0.0006 +/- 0.0002\n",
      "Average Transform Time:                      0.0002 +/- 0.0000\n",
      "Average Update Variance Time:                0.0004 +/- 0.0000\n",
      "\n",
      "Number of iterations performed:          100\n",
      "Error at time of finish:                 0.0004253586375853047\n",
      "[13633.949421]\n",
      "[14866.769186]\n"
     ]
    },
    {
     "data": {
      "application/vnd.jupyter.widget-view+json": {
       "model_id": "c7bb6208de2149bbae2c988c36ad9379",
       "version_major": 2,
       "version_minor": 0
      },
      "text/plain": [
       "Canvas(toolbar=Toolbar(toolitems=[('Home', 'Reset original view', 'home', 'home'), ('Back', 'Back to previous …"
      ]
     },
     "metadata": {},
     "output_type": "display_data"
    },
    {
     "data": {
      "application/vnd.jupyter.widget-view+json": {
       "model_id": "beb4efb02e924039b18a35af5ad04b45",
       "version_major": 2,
       "version_minor": 0
      },
      "text/plain": [
       "Canvas(toolbar=Toolbar(toolitems=[('Home', 'Reset original view', 'home', 'home'), ('Back', 'Back to previous …"
      ]
     },
     "metadata": {},
     "output_type": "display_data"
    },
    {
     "name": "stdout",
     "output_type": "stream",
     "text": [
      "(3, 8115) (3, 8589)\n",
      "registration::RegistrationResult with fitness=9.996303e-01, inlier_rmse=1.432281e+01, and correspondence_set size of 8112\n",
      "Access transformation to get result.\n",
      "[[ 9.99999979e-01  2.06116401e-04]\n",
      " [-2.06116401e-04  9.99999979e-01]] [  1.09463193 -22.7894256 ]\n"
     ]
    },
    {
     "data": {
      "application/vnd.jupyter.widget-view+json": {
       "model_id": "7363255634244584843d1870711c822b",
       "version_major": 2,
       "version_minor": 0
      },
      "text/plain": [
       "Canvas(toolbar=Toolbar(toolitems=[('Home', 'Reset original view', 'home', 'home'), ('Back', 'Back to previous …"
      ]
     },
     "metadata": {},
     "output_type": "display_data"
    }
   ],
   "source": [
    "from util import get_path\n",
    "import pandas as pd\n",
    "import networkx as nx\n",
    "import numpy as np\n",
    "import matplotlib.pyplot as plt\n",
    "from extract_graph import generate_nx_graph, transform_list, generate_skeleton, generate_nx_graph_from_skeleton, from_connection_tab, from_nx_to_tab\n",
    "from node_id import whole_movement_identification, second_identification\n",
    "import ast\n",
    "from plotutil import plot_t_tp1, compress_skeleton\n",
    "from scipy import sparse\n",
    "from sparse_util import dilate, zhangSuen\n",
    "from realign import realign, realign_final\n",
    "from datetime import datetime,timedelta\n",
    "from node_id import orient\n",
    "import pickle\n",
    "from matplotlib.widgets import CheckButtons\n",
    "import scipy.io as sio\n",
    "import imageio\n",
    "from pymatreader import read_mat\n",
    "from matplotlib import colors\n",
    "from copy import deepcopy,copy\n",
    "from collections import Counter\n",
    "import cv2 \n",
    "import imageio\n",
    "import matplotlib.pyplot as plt\n",
    "import numpy as np\n",
    "from skimage.filters import frangi\n",
    "from skimage.morphology import thin\n",
    "from skimage import data, filters\n",
    "from random import choice\n",
    "import scipy.sparse\n",
    "import os\n",
    "from time import time\n",
    "from extract_graph import dic_to_sparse, from_sparse_to_graph, generate_nx_graph, prune_graph, from_nx_to_tab, from_nx_to_tab_matlab,sparse_to_doc, connections_pixel_list_to_tab, transform_list, clean_degree_4\n",
    "from time import sleep\n",
    "from pycpd import RigidRegistration, DeformableRegistration\n",
    "import open3d as o3d\n",
    "from cycpd import rigid_registration\n",
    "import sys\n",
    "\n",
    "\n",
    "i = 18\n",
    "plate = 9\n",
    "directory = \"/scratch/shared/mrozemul/Fiji.app/\" \n",
    "listdir=os.listdir(directory) \n",
    "list_dir_interest=[name for name in listdir if name.split('_')[-1]==f'Plate{0 if plate<10 else \"\"}{plate}']\n",
    "ss=[name.split('_')[0] for name in list_dir_interest]\n",
    "ff=[name.split('_')[1] for name in list_dir_interest]\n",
    "dates_datetime=[datetime(year=int(ss[i][:4]),month=int(ss[i][4:6]),day=int(ss[i][6:8]),hour=int(ff[i][0:2]),minute=int(ff[i][2:4])) for i in range(len(list_dir_interest))]\n",
    "dates_datetime.sort()\n",
    "dates_datetime_chosen=dates_datetime[i:i+2]\n",
    "dates = [f'{0 if date.month<10 else \"\"}{date.month}{0 if date.day<10 else \"\"}{date.day}_{0 if date.hour<10 else \"\"}{date.hour}{0 if date.minute<10 else \"\"}{date.minute}' for date in dates_datetime_chosen]\n",
    "dilateds=[]\n",
    "skels = []\n",
    "skel_docs = []\n",
    "for date in dates:\n",
    "    directory_name=f'2020{date}_Plate{0 if plate<10 else \"\"}{plate}'\n",
    "    path_snap='/scratch/shared/mrozemul/Fiji.app/'+directory_name\n",
    "    skel_info = read_mat(path_snap+'/Analysis/skeleton.mat')\n",
    "    skel = skel_info['skeleton']\n",
    "    skels.append(skel)\n",
    "    skel_doc = sparse_to_doc(skel)\n",
    "    skel_docs.append(skel_doc)\n",
    "skeleton1,skeleton2 = skel_docs[0],skel_docs[1]\n",
    "skelet_pos = np.array(list(skeleton1.keys()))\n",
    "samples = np.random.choice(skelet_pos.shape[0],len(skeleton2.keys())//100)\n",
    "X = np.transpose(skelet_pos[samples,:])\n",
    "skelet_pos = np.array(list(skeleton2.keys()))\n",
    "samples = np.random.choice(skelet_pos.shape[0],len(skeleton2.keys())//100)\n",
    "Y = np.transpose(skelet_pos[samples,:])\n",
    "reg = rigid_registration(**{'X': np.transpose(X.astype(float)), 'Y': np.transpose(Y.astype(float)),'scale': False})\n",
    "out = reg.register()\n",
    "Rfound = reg.R[0:2,0:2]\n",
    "tfound= np.dot(Rfound,reg.t[0:2])\n",
    "nx_graph1,pos1 = generate_nx_graph(from_sparse_to_graph(skeleton1))\n",
    "nx_graph2,pos2 = generate_nx_graph(from_sparse_to_graph(skeleton2))\n",
    "pruned1 = prune_graph(nx_graph1)\n",
    "pruned2 = prune_graph(nx_graph2)\n",
    "t_init=-tfound\n",
    "Rot_init= Rfound\n",
    "X = np.transpose(np.array([pos1[node] for node in pruned1 if pruned1.degree(node)==3]))\n",
    "Y = np.transpose(np.array([pos2[node] for node in pruned2 if pruned2.degree(node)==3]))\n",
    "fig=plt.figure(figsize=(10,9))\n",
    "ax = fig.add_subplot(111)\n",
    "ax.scatter(X[0,:],X[1,:])\n",
    "ax.scatter(Y[0,:],Y[1,:])\n",
    "Xex = np.transpose(np.transpose(np.dot(Rot_init,X))+t_init)\n",
    "fig=plt.figure(figsize=(10,9))\n",
    "ax = fig.add_subplot(111)\n",
    "ax.scatter(Xex[0,:],Xex[1,:])\n",
    "ax.scatter(Y[0,:],Y[1,:])\n",
    "X = np.insert(X, 2, values=0, axis=0) \n",
    "Y = np.insert(Y, 2, values=0, axis=0) \n",
    "print(X.shape,Y.shape)\n",
    "vectorX = o3d.utility.Vector3dVector(np.transpose(X))\n",
    "vectorY = o3d.utility.Vector3dVector(np.transpose(Y))\n",
    "source = o3d.geometry.PointCloud(vectorX)\n",
    "target = o3d.geometry.PointCloud(vectorY)\n",
    "threshold = 200\n",
    "trans_init = np.asarray([[Rot_init[0,0], Rot_init[0,1], 0, t_init[0]],\n",
    "                         [Rot_init[1,0], Rot_init[1,1], 0, t_init[1]],\n",
    "                         [0, 0, 1, 0], [0.0, 0.0, 0.0, 1.0]])\n",
    "reg_p2p = o3d.registration.registration_icp(\n",
    "    source, target, threshold, trans_init,\n",
    "    o3d.registration.TransformationEstimationPointToPoint())\n",
    "print(reg_p2p)\n",
    "Rfound = reg_p2p.transformation[0:2,0:2]\n",
    "tfound = reg_p2p.transformation[0:2,3]\n",
    "print(Rfound,tfound)\n",
    "X,Y=X[0:2,:],Y[0:2,:]\n",
    "Yrep=np.transpose(np.transpose(np.dot(Rfound,X))+tfound)\n",
    "fig=plt.figure(figsize=(10,9))\n",
    "ax = fig.add_subplot(111)\n",
    "ax.scatter(np.transpose(Yrep)[:,0],np.transpose(Yrep)[:,1])\n",
    "ax.scatter(np.transpose(Y)[:,0],np.transpose(Y)[:,1])\n",
    "sio.savemat(path_snap+'/Analysis/transform.mat',{'R' : Rfound,'t' : tfound})"
   ]
  },
  {
   "cell_type": "code",
   "execution_count": 14,
   "metadata": {},
   "outputs": [],
   "source": [
    "transform = sio.loadmat(path_snap+'/Analysis/transform.mat')\n",
    "R,t = transform['R'],transform['t']"
   ]
  },
  {
   "cell_type": "code",
   "execution_count": 18,
   "metadata": {},
   "outputs": [
    {
     "data": {
      "text/plain": [
       "1.09463192611742"
      ]
     },
     "execution_count": 18,
     "metadata": {},
     "output_type": "execute_result"
    }
   ],
   "source": [
    "tfound[0]"
   ]
  },
  {
   "cell_type": "code",
   "execution_count": 15,
   "metadata": {},
   "outputs": [
    {
     "data": {
      "text/plain": [
       "(array([[ 9.99999979e-01,  2.06116401e-04],\n",
       "        [-2.06116401e-04,  9.99999979e-01]]),\n",
       " array([[  1.09463193, -22.7894256 ]]))"
      ]
     },
     "execution_count": 15,
     "metadata": {},
     "output_type": "execute_result"
    }
   ],
   "source": [
    "R,t"
   ]
  },
  {
   "cell_type": "code",
   "execution_count": 16,
   "metadata": {},
   "outputs": [
    {
     "data": {
      "text/plain": [
       "[datetime.datetime(2020, 7, 19, 5, 25), datetime.datetime(2020, 7, 19, 9, 25)]"
      ]
     },
     "execution_count": 16,
     "metadata": {},
     "output_type": "execute_result"
    }
   ],
   "source": [
    "dates_datetime_chosen"
   ]
  },
  {
   "cell_type": "code",
   "execution_count": 8,
   "metadata": {},
   "outputs": [
    {
     "data": {
      "application/vnd.jupyter.widget-view+json": {
       "model_id": "798eda269cc14219ae2b6e88337b541a",
       "version_major": 2,
       "version_minor": 0
      },
      "text/plain": [
       "Canvas(toolbar=Toolbar(toolitems=[('Home', 'Reset original view', 'home', 'home'), ('Back', 'Back to previous …"
      ]
     },
     "metadata": {},
     "output_type": "display_data"
    },
    {
     "data": {
      "text/plain": [
       "<matplotlib.collections.PathCollection at 0x2b5749ec83d0>"
      ]
     },
     "execution_count": 8,
     "metadata": {},
     "output_type": "execute_result"
    }
   ],
   "source": [
    "%matplotlib widget\n",
    "\n",
    "Yrep=np.transpose(np.transpose(np.dot(R,X))+t)\n",
    "fig=plt.figure(figsize=(10,9))\n",
    "ax = fig.add_subplot(111)\n",
    "ax.scatter(np.transpose(Yrep)[:,0],np.transpose(Yrep)[:,1])\n",
    "ax.scatter(np.transpose(Y)[:,0],np.transpose(Y)[:,1])"
   ]
  },
  {
   "cell_type": "code",
   "execution_count": 8,
   "metadata": {},
   "outputs": [],
   "source": [
    "plate = 9\n",
    "directory = \"/scratch/shared/mrozemul/Fiji.app/\" \n",
    "listdir=os.listdir(directory) \n",
    "list_dir_interest=[name for name in listdir if name.split('_')[-1]==f'Plate{0 if plate<10 else \"\"}{plate}']\n",
    "ss=[name.split('_')[0] for name in list_dir_interest]\n",
    "ff=[name.split('_')[1] for name in list_dir_interest]\n",
    "dates_datetime=[datetime(year=int(ss[i][:4]),month=int(ss[i][4:6]),day=int(ss[i][6:8]),hour=int(ff[i][0:2]),minute=int(ff[i][2:4])) for i in range(len(list_dir_interest))]\n",
    "dates_datetime.sort()\n",
    "dates_datetime_chosen=dates_datetime"
   ]
  },
  {
   "cell_type": "code",
   "execution_count": 15,
   "metadata": {},
   "outputs": [
    {
     "data": {
      "text/plain": [
       "(datetime.datetime(2020, 7, 16, 11, 34), datetime.datetime(2020, 7, 18, 9, 25))"
      ]
     },
     "execution_count": 15,
     "metadata": {},
     "output_type": "execute_result"
    }
   ],
   "source": [
    "dates_datetime_chosen[12],dates_datetime_chosen[13]"
   ]
  },
  {
   "cell_type": "code",
   "execution_count": 24,
   "metadata": {},
   "outputs": [],
   "source": [
    "import pandas as pd\n",
    "import networkx as nx\n",
    "import numpy as np\n",
    "from extract_graph import generate_nx_graph, transform_list, generate_skeleton, generate_nx_graph_from_skeleton, from_nx_to_tab\n",
    "from node_id import whole_movement_identification\n",
    "import ast\n",
    "from plotutil import plot_t_tp1\n",
    "from scipy import sparse\n",
    "from sparse_util import dilate, zhangSuen\n",
    "from scipy.optimize import minimize\n",
    "from time import time\n",
    "from extract_graph import dic_to_sparse, from_sparse_to_graph, generate_nx_graph, prune_graph, from_nx_to_tab, from_nx_to_tab_matlab,sparse_to_doc, connections_pixel_list_to_tab, transform_list, clean_degree_4\n",
    "import open3d as o3d\n",
    "\n",
    "\n",
    "def transform_skeleton(skeleton_doc,Rot,trans):\n",
    "    transformed_skeleton={}\n",
    "    transformed_keys = np.round(np.transpose(np.dot(Rot,np.transpose(np.array(list(skeleton_doc.keys())))))+trans).astype(np.int)\n",
    "    i=0\n",
    "    for pixel in list(transformed_keys):\n",
    "        i+=1\n",
    "        transformed_skeleton[(pixel[0],pixel[1])]=1\n",
    "    return(transformed_skeleton)\n",
    "\n",
    "def realign(skeleton1,nx_graphB,posB,convergence_threshold,window=500,maxdist=50,save=''):\n",
    "    converged=False\n",
    "    nx_graphA,posA=generate_nx_graph_from_skeleton(skeleton1) \n",
    "    t0=np.array([0,0])\n",
    "    R0=np.identity(2)\n",
    "    while not converged:\n",
    "        listeA,listeB = find_common_group_nodes(nx_graphA,nx_graphB,posA,posB,R0,t0,maxdist=maxdist,window=window)\n",
    "        H=np.dot(np.transpose(np.array(listeA)-np.mean(listeA,axis=0)),np.array(listeB)-np.mean(listeB,axis=0))\n",
    "        U,S,V=np.linalg.svd(H)\n",
    "        R=np.dot(V,np.transpose(U))\n",
    "        t=np.mean(listeB,axis=0)-np.dot(R,np.mean(listeA,axis=0))\n",
    "        print(\"number_common_nodes_found :\",len(listeA))\n",
    "        if np.linalg.norm(t)<=convergence_threshold:\n",
    "            converged=True\n",
    "        R0=np.dot(R,R0)\n",
    "        t0=t+t0\n",
    "    skeleton_transformed=transform_skeleton(skeleton1,R0,t0)\n",
    "    skeleton_transformed=dilate(skeleton_transformed)\n",
    "    skeleton_transformed=dilate(skeleton_transformed)\n",
    "    skeleton_transformed=zhangSuen(skeleton_transformed)\n",
    "    if len(save)>=0:\n",
    "        from_nx_to_tab(*generate_nx_graph_from_skeleton(skeleton_transformed)).to_csv(save+'_raw_aligned_skeleton.csv')\n",
    "        np.savetxt(save+'rot.txt',R0)\n",
    "        np.savetxt(save+'trans.txt',t0)\n",
    "    print(\"R0=\",R0,'t0=',t0)\n",
    "    return(skeleton_transformed)\n",
    "\n",
    "\n",
    "\n",
    "def find_common_group_nodes(Sa,Sb,degree3_nodesa,degree3_nodesb,posa,posb,R0,t0,window=500,maxdist=50):\n",
    "    common_nodes_a = []\n",
    "    common_nodes_b = []\n",
    "    common_centroida = []\n",
    "    common_centroidb = []\n",
    "    t=time()\n",
    "    posarottrans = {key : np.round(np.transpose(np.dot(R0,np.transpose(np.array(posa[key])))+t0)).astype(np.int) for key in degree3_nodesa}\n",
    "#     print(\"rotating translating\",time()-t)\n",
    "    for node in degree3_nodesa:\n",
    "        t=time()\n",
    "        posanchor=posarottrans[node]\n",
    "        potential_surroundinga=Sa[posanchor[0]-2*window:posanchor[0]+2*window,posanchor[1]-2*window:posanchor[1]+2*window]\n",
    "        potential_surroundingb=Sb[posanchor[0]-2*window:posanchor[0]+2*window,posanchor[1]-2*window:posanchor[1]+2*window]\n",
    "#         print(\"candidates\",len(potential_surroundinga.data))\n",
    "#         print(\"finding_potential_surrounding\",time()-t)\n",
    "        t=time()\n",
    "        surrounding_nodesa=[node for node in potential_surroundinga.data if \n",
    "                            (posanchor[0]-window<posarottrans[int(node)][0]<posanchor[0]+window and posanchor[1]-window<posarottrans[int(node)][1]<posanchor[1]+window \n",
    "                             )]\n",
    "        surrounding_nodesb=[node for node in potential_surroundingb.data if \n",
    "                    (posanchor[0]-window<posb[int(node)][0]<posanchor[0]+window and posanchor[1]-window<posb[int(node)][1]<posanchor[1]+window \n",
    "                    )]\n",
    "#         print(\"finding_surrounding\",time()-t)\n",
    "        t=time()\n",
    "        if len(surrounding_nodesa)==len(surrounding_nodesb):\n",
    "            possurroundinga=[posarottrans[node] for node in surrounding_nodesa]\n",
    "            possurroundingb=[posb[node] for node in surrounding_nodesb]\n",
    "            centroida= np.mean(possurroundinga,axis=0)\n",
    "            centroidb= np.mean(possurroundingb,axis=0)\n",
    "            if np.linalg.norm(centroida-centroidb)<=maxdist:\n",
    "                common_centroida.append(centroida)\n",
    "                common_centroidb.append(centroidb)\n",
    "    return(common_centroida,common_centroidb)\n",
    "\n",
    "def realign2(skeleton1,skeleton2,convergence_threshold,window=500,maxdist=50,save=''):\n",
    "    converged=False\n",
    "    tim=time()\n",
    "    nx_graphA,posA=generate_nx_graph_from_skeleton(skeleton1)\n",
    "    nx_graphB,posB=generate_nx_graph_from_skeleton(skeleton2)\n",
    "    print(\"generate_nx_graph_from_skeleton, t=\",tim-time())\n",
    "    tim=time()\n",
    "    t0=np.array([0,0])\n",
    "    R0=np.identity(2)\n",
    "    degree3_nodesa = [node for node in nx_graphA if nx_graphA.degree(node)==3]\n",
    "    degree3_nodesb = [node for node in nx_graphB if nx_graphB.degree(node)==3]\n",
    "    print(\"lennodes=\",len(degree3_nodesa))\n",
    "    Sa=sparse.csr_matrix((26296, 49559))\n",
    "    Sb=sparse.csr_matrix((26296, 49559))\n",
    "    for node in degree3_nodesa:\n",
    "        Sa[posA[node][0],posA[node][1]]=node\n",
    "    for node in degree3_nodesb:\n",
    "        Sb[posB[node][0],posB[node][1]]=node\n",
    "    while not converged:\n",
    "        listeA,listeB = find_common_group_nodes(Sa,Sb,degree3_nodesa,degree3_nodesb,posA,posB,R0,t0,maxdist=maxdist,window=window)\n",
    "        H=np.dot(np.transpose(np.array(listeA)-np.mean(listeA,axis=0)),np.array(listeB)-np.mean(listeB,axis=0))\n",
    "        U,S,V=np.linalg.svd(H)\n",
    "        R=np.dot(V,np.transpose(U))\n",
    "        t=np.mean(listeB,axis=0)-np.dot(R,np.mean(listeA,axis=0))\n",
    "        print(\"number_common_nodes_found :\",len(listeA))\n",
    "        if np.linalg.norm(t)<=convergence_threshold:\n",
    "            converged=True\n",
    "        R0=np.dot(R,R0)\n",
    "        t0=t+t0\n",
    "    print(\"Find R and T, t=\",tim-time())\n",
    "    tim=time()\n",
    "    skeleton_transformed=transform_skeleton(skeleton1,R0,t0)\n",
    "    skeleton_transformed=dilate(skeleton_transformed)\n",
    "    skeleton_transformed=zhangSuen(skeleton_transformed)\n",
    "    print(\"transform, dilate and thin, t=\",tim-time())\n",
    "    tim=time()\n",
    "    if len(save)>=0:\n",
    "        from_nx_to_tab(*generate_nx_graph_from_skeleton(skeleton_transformed)).to_csv(save+'_raw_aligned_skeleton.csv')\n",
    "        np.savetxt(save+'rot.txt',R0)\n",
    "        np.savetxt(save+'trans.txt',t0)\n",
    "    print(\"R0=\",R0,'t0=',t0)\n",
    "    return(skeleton_transformed)\n",
    "\n",
    "def reconnect(skeleton):\n",
    "    skeleton_transformed=dilate(skeleton)\n",
    "    skeleton_transformed=zhangSuen(skeleton_transformed)\n",
    "    return(skeleton_transformed)\n",
    "\n",
    "\n",
    "def shift(skeleton1,skeleton2):\n",
    "    skeleton1_dilated = dilate(dilate(skeleton1)).astype(np.float)\n",
    "    skeleton2_dilated = dilate(dilate(skeleton2)).astype(np.float)\n",
    "    def distance(shift):\n",
    "        distance=0\n",
    "#         print(shift)\n",
    "        for pixel in skeleton1_dilated.keys():\n",
    "#             print(pixel[0]+shift[0],pixel[1]+shift[1])\n",
    "            if (skeleton2_dilated.shape[0]>np.ceil(pixel[0]+shift[0])>=0 and skeleton2_dilated.shape[1]>np.ceil(pixel[1]+shift[1])>=0):\n",
    "                shifted_pixel = (int(pixel[0]+shift[0]),int(pixel[1]+shift[1]))\n",
    "                shifted_pixel_next = (np.ceil(pixel[0]+shift[0]),np.ceil(pixel[1]+shift[1]))\n",
    "#                 print(shifted_pixel)\n",
    "                prop=1/2*(pixel[0]+shift[0]-int(pixel[0]+shift[0])+pixel[1]+shift[1]-int(pixel[1]+shift[1]))\n",
    "                float_value=(1-prop)*skeleton2_dilated[shifted_pixel[0],shifted_pixel[1]]+prop*(skeleton2_dilated[shifted_pixel_next[0],shifted_pixel_next[1]])\n",
    "                distance+=abs(skeleton1_dilated[pixel]-float_value)\n",
    "            else:\n",
    "                distance+=1\n",
    "#         for pixel in skeleton2_dilated.keys():\n",
    "#             if (skeleton2_dilated.shape[0]>pixel[0]-shift[0]>=0 and skeleton2_dilated.shape[1]>pixel[1]-shift[1]>=0):\n",
    "#                 shifted_pixel = (int(pixel[0]-shift[0]),int(pixel[1]-shift[1]))\n",
    "#                 distance+=abs(skeleton1_dilated[shifted_pixel[0],shifted_pixel[1]]^skeleton2_dilated[pixel])\n",
    "#             else:\n",
    "#                 distance+=1\n",
    "#         print(distance)\n",
    "        return distance\n",
    "    return(minimize(distance,np.array([10,10]), method='nelder-mead',options={'xatol': 1, 'disp': True,'fatol':0.1}))\n",
    "\n",
    "\n",
    "def realign_final(skeleton1,skeleton2,t_init=np.array([0,0]),Rot_init=np.array([[1,0],[0,1]])):\n",
    "    nx_graph1,pos1 = generate_nx_graph(from_sparse_to_graph(skeleton1))\n",
    "    nx_graph2,pos2 = generate_nx_graph(from_sparse_to_graph(skeleton2))\n",
    "    pruned1 = prune_graph(nx_graph1)\n",
    "    pruned2 = prune_graph(nx_graph2)\n",
    "    X = np.transpose(np.array([pos1[node] for node in pruned1 if pruned1.degree(node)==3]))\n",
    "    Y = np.transpose(np.array([pos2[node] for node in pruned2 if pruned2.degree(node)==3]))\n",
    "    Xex = np.transpose(np.transpose(np.dot(Rot_init,X))+t_init)\n",
    "    fig=plt.figure(figsize=(10,9))\n",
    "    ax = fig.add_subplot(111)\n",
    "    ax.scatter(Xex[0,:],Xex[1,:])\n",
    "    ax.scatter(Y[0,:],Y[1,:])\n",
    "    X = np.insert(X, 2, values=0, axis=0) \n",
    "    Y = np.insert(Y, 2, values=0, axis=0) \n",
    "    print(X.shape,Y.shape)\n",
    "    vectorX = o3d.utility.Vector3dVector(np.transpose(X))\n",
    "    vectorY = o3d.utility.Vector3dVector(np.transpose(Y))\n",
    "    source = o3d.geometry.PointCloud(vectorX)\n",
    "    target = o3d.geometry.PointCloud(vectorY)\n",
    "    threshold = 200\n",
    "    trans_init = np.asarray([[Rot_init[0,0], Rot_init[0,1], 0, t_init[0]],\n",
    "                             [Rot_init[1,0], Rot_init[1,1], 0, t_init[1]],\n",
    "                             [0, 0, 1, 0], [0.0, 0.0, 0.0, 1.0]])\n",
    "    reg_p2p = o3d.registration.registration_icp(\n",
    "        source, target, threshold, trans_init,\n",
    "        o3d.registration.TransformationEstimationPointToPoint())\n",
    "    print(reg_p2p)\n",
    "    Rfound = reg_p2p.transformation[0:2,0:2]\n",
    "    tfound = reg_p2p.transformation[0:2,3]\n",
    "    print(Rfound,tfound)\n",
    "    X,Y=X[0:2,:],Y[0:2,:]\n",
    "    Yrep=np.transpose(np.transpose(np.dot(Rfound,X))+tfound)\n",
    "    fig=plt.figure(figsize=(10,9))\n",
    "    ax = fig.add_subplot(111)\n",
    "    ax.scatter(np.transpose(Y)[:,0],np.transpose(Y)[:,1])\n",
    "    ax.scatter(np.transpose(Yrep)[:,0],np.transpose(Yrep)[:,1])\n",
    "    skel_transformed = transform_skeleton(skeleton1,Rfound,tfound)\n",
    "    skel_mat = np.zeros((30000, 50000),dtype=np.uint8)\n",
    "    for pixel in skel_transformed.keys():\n",
    "        skel_mat[pixel]=1\n",
    "    return(skel_mat,skel_transformed,Rfound,tfound)\n",
    "\n",
    "def find_circle(x,y):\n",
    "    x_m = np.mean(x)\n",
    "    y_m = np.mean(y)\n",
    "\n",
    "    # calculation of the reduced coordinates\n",
    "    u = x - x_m\n",
    "    v = y - y_m\n",
    "\n",
    "    # linear system defining the center (uc, vc) in reduced coordinates:\n",
    "    #    Suu * uc +  Suv * vc = (Suuu + Suvv)/2\n",
    "    #    Suv * uc +  Svv * vc = (Suuv + Svvv)/2\n",
    "    Suv  = np.sum(u*v)\n",
    "    Suu  = np.sum(u**2)\n",
    "    Svv  = np.sum(v**2)\n",
    "    Suuv = np.sum(u**2 * v)\n",
    "    Suvv = np.sum(u * v**2)\n",
    "    Suuu = np.sum(u**3)\n",
    "    Svvv = np.sum(v**3)\n",
    "\n",
    "    # Solving the linear system\n",
    "    A = np.array([ [ Suu, Suv ], [Suv, Svv]])\n",
    "    B = np.array([ Suuu + Suvv, Svvv + Suuv ])/2.0\n",
    "    uc, vc = np.linalg.solve(A, B)\n",
    "\n",
    "    xc_1 = x_m + uc\n",
    "    yc_1 = y_m + vc\n",
    "\n",
    "    # Calcul des distances au centre (xc_1, yc_1)\n",
    "    Ri_1     = np.sqrt((x-xc_1)**2 + (y-yc_1)**2)\n",
    "    R_1      = np.mean(Ri_1)\n",
    "    residu_1 = np.sum((Ri_1-R_1)**2)\n",
    "    return(R_1,xc_1,yc_1)"
   ]
  },
  {
   "cell_type": "code",
   "execution_count": 28,
   "metadata": {},
   "outputs": [],
   "source": [
    "plate = 9\n",
    "directory = \"/scratch/shared/mrozemul/Fiji.app/\" \n",
    "listdir=os.listdir(directory) \n",
    "list_dir_interest=[name for name in listdir if name.split('_')[-1]==f'Plate{0 if plate<10 else \"\"}{plate}']\n",
    "ss=[name.split('_')[0] for name in list_dir_interest]\n",
    "ff=[name.split('_')[1] for name in list_dir_interest]\n",
    "dates_datetime=[datetime(year=int(ss[i][:4]),month=int(ss[i][4:6]),day=int(ss[i][6:8]),hour=int(ff[i][0:2]),minute=int(ff[i][2:4])) for i in range(len(list_dir_interest))]\n",
    "dates_datetime.sort()\n",
    "dates_datetime_chosen=dates_datetime[12:14]\n",
    "dates = [f'{0 if date.month<10 else \"\"}{date.month}{0 if date.day<10 else \"\"}{date.day}_{0 if date.hour<10 else \"\"}{date.hour}{0 if date.minute<10 else \"\"}{date.minute}' for date in dates_datetime_chosen]\n",
    "dilateds=[]\n",
    "skels = []\n",
    "skel_docs = []\n",
    "graph_pos=[]\n",
    "contours=[]\n",
    "half_circles=[]\n",
    "for date in dates:\n",
    "    directory_name=f'2020{date}_Plate{0 if plate<10 else \"\"}{plate}'\n",
    "    path_snap='/scratch/shared/mrozemul/Fiji.app/'+directory_name\n",
    "    skel_info = read_mat(path_snap+'/Analysis/skeleton.mat')\n",
    "    skel = skel_info['skeleton']\n",
    "#     contour = skel_info['contour']\n",
    "#     half_circle = skel_info['half_circle']\n",
    "    skels.append(skel)\n",
    "    skel_doc = sparse_to_doc(skel)\n",
    "    skel_docs.append(skel_doc)\n",
    "    contours.append(contour)\n",
    "    half_circles.append(half_circle)\n",
    "#     nx_graph,pos = generate_nx_graph(from_sparse_to_graph(skel_doc))\n",
    "#     graph_pos.append((nx_graph,pos))\n",
    "skel_doc = skel_docs[0]\n",
    "skel_aligned_t = skels[0].todense()\n",
    "skel_sparse = scipy.sparse.csc_matrix(skels[0])\n",
    "directory_name=f'2020{dates[0]}_Plate{0 if plate<10 else \"\"}{plate}'\n",
    "path_snap='/scratch/shared/mrozemul/Fiji.app/'+directory_name\n",
    "sio.savemat(path_snap+'/Analysis/skeleton_realigned.mat',{'skeleton' : skel_sparse,'R' : np.array([[1,0],[0,1]]),'t' : np.array([0,0])})\n",
    "for i,skel in enumerate(skel_docs[1:]):\n",
    "    directory_name=f'2020{dates[i+1]}_Plate{0 if plate<10 else \"\"}{plate}'\n",
    "    path_snap='/scratch/shared/mrozemul/Fiji.app/'+directory_name\n",
    "    contour1,contour2 = contours[i],contours[i-1]\n",
    "    half_circle1,half_circle2 = half_circles[i],half_circles[i-1]\n",
    "    R1,xc1,yc1 = find_circle(*half_circle1.nonzero())\n",
    "    R2,xc2,yc2 = find_circle(*half_circle2.nonzero())\n",
    "    #prealignment based on half circle\n",
    "    X = np.array(contour1.nonzero())\n",
    "    Y = np.array(contour2.nonzero())\n",
    "    fig=plt.figure(figsize=(10,9))\n",
    "    ax = fig.add_subplot(111)\n",
    "    ax.scatter(X[0,:],X[1,:])\n",
    "    ax.scatter(Y[0,:],Y[1,:])\n",
    "    X = np.insert(X, 2, values=0, axis=0) \n",
    "    Y = np.insert(Y, 2, values=0, axis=0) \n",
    "    print(X.shape,Y.shape)\n",
    "    vectorX = o3d.utility.Vector3dVector(np.transpose(X))\n",
    "    vectorY = o3d.utility.Vector3dVector(np.transpose(Y))\n",
    "    source = o3d.geometry.PointCloud(vectorX)\n",
    "    target = o3d.geometry.PointCloud(vectorY)\n",
    "    threshold = 200\n",
    "    t_init=np.array([ xc_1-xc_2, yc_1-yc_2])\n",
    "    Rot_init = np.array([[ 1, 0],[ 0,  1]])\n",
    "    trans_init = np.asarray([[Rot_init[0,0], Rot_init[0,1], 0, t_init[0]],\n",
    "                             [Rot_init[1,0], Rot_init[1,1], 0, t_init[1]],\n",
    "                             [0, 0, 1, 0], [0.0, 0.0, 0.0, 1.0]])\n",
    "\n",
    "    reg_p2p = o3d.registration.registration_icp(\n",
    "        source, target, threshold, trans_init,\n",
    "        o3d.registration.TransformationEstimationPointToPoint())\n",
    "    print(reg_p2p)\n",
    "    Rfound = reg_p2p.transformation[0:2,0:2]\n",
    "    tfound = reg_p2p.transformation[0:2,3]\n",
    "    print(Rfound,tfound)\n",
    "    X,Y=X[0:2,:],Y[0:2,:]\n",
    "    Yrep=np.transpose(np.transpose(np.dot(Rfound,X))+tfound)\n",
    "    fig=plt.figure(figsize=(10,9))\n",
    "    ax = fig.add_subplot(111)\n",
    "    ax.scatter(np.transpose(Yrep)[:,0],np.transpose(Yrep)[:,1])\n",
    "    ax.scatter(np.transpose(Y)[:,0],np.transpose(Y)[:,1])\n",
    "    skel_aligned,skel_doc,R,t = realign_final(skel,skel_doc)\n",
    "    contours[i] = transform_skeleton(contours[i],R,t)\n",
    "    half_circles[i] = transform_skeleton(half_circles[i],R,t)\n",
    "    skel_sparse = scipy.sparse.csc_matrix(skel_aligned)\n",
    "    sio.savemat(path_snap+'/Analysis/skeleton_realigned.mat',{'skeleton' : skel_sparse,'R' : R,'t' : t})\n",
    "    plot_t_tp1([],[],None,None,skel_aligned[19000:21000,44000:46000],skel_aligned_t[19000:21000,44000:46000])\n",
    "    skel_aligned_t = skel_aligned"
   ]
  },
  {
   "cell_type": "code",
   "execution_count": 30,
   "metadata": {},
   "outputs": [
    {
     "name": "stdout",
     "output_type": "stream",
     "text": [
      "[4937.82736]\n",
      "[10913.437609]\n"
     ]
    },
    {
     "ename": "ValueError",
     "evalue": "operands could not be broadcast together with shapes (2,4908) (2,) ",
     "output_type": "error",
     "traceback": [
      "\u001b[0;31m---------------------------------------------------------------------------\u001b[0m",
      "\u001b[0;31mValueError\u001b[0m                                Traceback (most recent call last)",
      "\u001b[0;32m<ipython-input-30-c7335b2e6481>\u001b[0m in \u001b[0;36m<module>\u001b[0;34m()\u001b[0m\n\u001b[1;32m      1\u001b[0m skel_aligned,skel_doc,R,t = realign_final(skel_docs[0],skel_docs[1], t_init=np.array([1936,-2019]),Rot_init= np.array([[ 0.99999938, -0.00111566],\n\u001b[0;32m----> 2\u001b[0;31m  [ 0.00111566,  0.99999938]]))\n\u001b[0m\u001b[1;32m      3\u001b[0m \u001b[0;34m\u001b[0m\u001b[0m\n",
      "\u001b[0;32m<ipython-input-24-0552b4c74977>\u001b[0m in \u001b[0;36mrealign_final\u001b[0;34m(skeleton1, skeleton2, t_init, Rot_init)\u001b[0m\n\u001b[1;32m    170\u001b[0m     \u001b[0mX\u001b[0m \u001b[0;34m=\u001b[0m \u001b[0mnp\u001b[0m\u001b[0;34m.\u001b[0m\u001b[0mtranspose\u001b[0m\u001b[0;34m(\u001b[0m\u001b[0mnp\u001b[0m\u001b[0;34m.\u001b[0m\u001b[0marray\u001b[0m\u001b[0;34m(\u001b[0m\u001b[0;34m[\u001b[0m\u001b[0mpos1\u001b[0m\u001b[0;34m[\u001b[0m\u001b[0mnode\u001b[0m\u001b[0;34m]\u001b[0m \u001b[0;32mfor\u001b[0m \u001b[0mnode\u001b[0m \u001b[0;32min\u001b[0m \u001b[0mpruned1\u001b[0m \u001b[0;32mif\u001b[0m \u001b[0mpruned1\u001b[0m\u001b[0;34m.\u001b[0m\u001b[0mdegree\u001b[0m\u001b[0;34m(\u001b[0m\u001b[0mnode\u001b[0m\u001b[0;34m)\u001b[0m\u001b[0;34m==\u001b[0m\u001b[0;36m3\u001b[0m\u001b[0;34m]\u001b[0m\u001b[0;34m)\u001b[0m\u001b[0;34m)\u001b[0m\u001b[0;34m\u001b[0m\u001b[0;34m\u001b[0m\u001b[0m\n\u001b[1;32m    171\u001b[0m     \u001b[0mY\u001b[0m \u001b[0;34m=\u001b[0m \u001b[0mnp\u001b[0m\u001b[0;34m.\u001b[0m\u001b[0mtranspose\u001b[0m\u001b[0;34m(\u001b[0m\u001b[0mnp\u001b[0m\u001b[0;34m.\u001b[0m\u001b[0marray\u001b[0m\u001b[0;34m(\u001b[0m\u001b[0;34m[\u001b[0m\u001b[0mpos2\u001b[0m\u001b[0;34m[\u001b[0m\u001b[0mnode\u001b[0m\u001b[0;34m]\u001b[0m \u001b[0;32mfor\u001b[0m \u001b[0mnode\u001b[0m \u001b[0;32min\u001b[0m \u001b[0mpruned2\u001b[0m \u001b[0;32mif\u001b[0m \u001b[0mpruned2\u001b[0m\u001b[0;34m.\u001b[0m\u001b[0mdegree\u001b[0m\u001b[0;34m(\u001b[0m\u001b[0mnode\u001b[0m\u001b[0;34m)\u001b[0m\u001b[0;34m==\u001b[0m\u001b[0;36m3\u001b[0m\u001b[0;34m]\u001b[0m\u001b[0;34m)\u001b[0m\u001b[0;34m)\u001b[0m\u001b[0;34m\u001b[0m\u001b[0;34m\u001b[0m\u001b[0m\n\u001b[0;32m--> 172\u001b[0;31m     \u001b[0mXex\u001b[0m\u001b[0;34m=\u001b[0m\u001b[0mnp\u001b[0m\u001b[0;34m.\u001b[0m\u001b[0mtranspose\u001b[0m\u001b[0;34m(\u001b[0m\u001b[0mnp\u001b[0m\u001b[0;34m.\u001b[0m\u001b[0mtranspose\u001b[0m\u001b[0;34m(\u001b[0m\u001b[0mnp\u001b[0m\u001b[0;34m.\u001b[0m\u001b[0mdot\u001b[0m\u001b[0;34m(\u001b[0m\u001b[0mRot_init\u001b[0m\u001b[0;34m,\u001b[0m\u001b[0mX\u001b[0m\u001b[0;34m)\u001b[0m\u001b[0;34m+\u001b[0m\u001b[0mt_init\u001b[0m\u001b[0;34m)\u001b[0m\u001b[0;34m)\u001b[0m\u001b[0;34m\u001b[0m\u001b[0;34m\u001b[0m\u001b[0m\n\u001b[0m\u001b[1;32m    173\u001b[0m     \u001b[0mfig\u001b[0m\u001b[0;34m=\u001b[0m\u001b[0mplt\u001b[0m\u001b[0;34m.\u001b[0m\u001b[0mfigure\u001b[0m\u001b[0;34m(\u001b[0m\u001b[0mfigsize\u001b[0m\u001b[0;34m=\u001b[0m\u001b[0;34m(\u001b[0m\u001b[0;36m10\u001b[0m\u001b[0;34m,\u001b[0m\u001b[0;36m9\u001b[0m\u001b[0;34m)\u001b[0m\u001b[0;34m)\u001b[0m\u001b[0;34m\u001b[0m\u001b[0;34m\u001b[0m\u001b[0m\n\u001b[1;32m    174\u001b[0m     \u001b[0max\u001b[0m \u001b[0;34m=\u001b[0m \u001b[0mfig\u001b[0m\u001b[0;34m.\u001b[0m\u001b[0madd_subplot\u001b[0m\u001b[0;34m(\u001b[0m\u001b[0;36m111\u001b[0m\u001b[0;34m)\u001b[0m\u001b[0;34m\u001b[0m\u001b[0;34m\u001b[0m\u001b[0m\n",
      "\u001b[0;31mValueError\u001b[0m: operands could not be broadcast together with shapes (2,4908) (2,) "
     ]
    }
   ],
   "source": [
    "skel_aligned,skel_doc,R,t = realign_final(skel_docs[0],skel_docs[1], t_init=np.array([1936,-2019]),Rot_init= np.array([[ 0.99999938, -0.00111566],\n",
    " [ 0.00111566,  0.99999938]]))\n",
    "\n"
   ]
  },
  {
   "cell_type": "code",
   "execution_count": 40,
   "metadata": {},
   "outputs": [
    {
     "data": {
      "application/vnd.jupyter.widget-view+json": {
       "model_id": "79e66d0baaa443438b88874c20c74801",
       "version_major": 2,
       "version_minor": 0
      },
      "text/plain": [
       "Canvas(toolbar=Toolbar(toolitems=[('Home', 'Reset original view', 'home', 'home'), ('Back', 'Back to previous …"
      ]
     },
     "metadata": {},
     "output_type": "display_data"
    },
    {
     "data": {
      "application/vnd.jupyter.widget-view+json": {
       "model_id": "73474714f48b462c8d4f9013733515cf",
       "version_major": 2,
       "version_minor": 0
      },
      "text/plain": [
       "Canvas(toolbar=Toolbar(toolitems=[('Home', 'Reset original view', 'home', 'home'), ('Back', 'Back to previous …"
      ]
     },
     "metadata": {},
     "output_type": "display_data"
    },
    {
     "name": "stdout",
     "output_type": "stream",
     "text": [
      "(3, 4908) (3, 7337)\n",
      "registration::RegistrationResult with fitness=8.088835e-02, inlier_rmse=1.386270e+01, and correspondence_set size of 397\n",
      "Access transformation to get result.\n",
      "[[ 9.99999533e-01 -9.68449308e-04]\n",
      " [ 9.68449308e-04  9.99999533e-01]] [ 1923.4725809 -2012.1459129]\n"
     ]
    },
    {
     "data": {
      "application/vnd.jupyter.widget-view+json": {
       "model_id": "8f96e00e361a4f5fafb841c6e4e657f3",
       "version_major": 2,
       "version_minor": 0
      },
      "text/plain": [
       "Canvas(toolbar=Toolbar(toolitems=[('Home', 'Reset original view', 'home', 'home'), ('Back', 'Back to previous …"
      ]
     },
     "metadata": {},
     "output_type": "display_data"
    }
   ],
   "source": [
    "plt.close('all')\n",
    "# skeleton1,skeleton2 = skel_docs[0],skel_docs[1]\n",
    "t_init=np.array([1936,-2019])\n",
    "Rot_init= np.array([[ 0.99999938, -0.00111566],\n",
    " [ 0.00111566,  0.99999938]])\n",
    "# nx_graph1,pos1 = generate_nx_graph(from_sparse_to_graph(skeleton1))\n",
    "# nx_graph2,pos2 = generate_nx_graph(from_sparse_to_graph(skeleton2))\n",
    "# pruned1 = prune_graph(nx_graph1)\n",
    "# pruned2 = prune_graph(nx_graph2)\n",
    "X = np.transpose(np.array([pos1[node] for node in pruned1 if pruned1.degree(node)==3]))\n",
    "Y = np.transpose(np.array([pos2[node] for node in pruned2 if pruned2.degree(node)==3]))\n",
    "fig=plt.figure(figsize=(10,9))\n",
    "ax = fig.add_subplot(111)\n",
    "ax.scatter(X[0,:],X[1,:])\n",
    "ax.scatter(Y[0,:],Y[1,:])\n",
    "Xex = np.transpose(np.transpose(np.dot(Rot_init,X))+t_init)\n",
    "fig=plt.figure(figsize=(10,9))\n",
    "ax = fig.add_subplot(111)\n",
    "ax.scatter(Xex[0,:],Xex[1,:])\n",
    "ax.scatter(Y[0,:],Y[1,:])\n",
    "X = np.insert(X, 2, values=0, axis=0) \n",
    "Y = np.insert(Y, 2, values=0, axis=0) \n",
    "print(X.shape,Y.shape)\n",
    "vectorX = o3d.utility.Vector3dVector(np.transpose(X))\n",
    "vectorY = o3d.utility.Vector3dVector(np.transpose(Y))\n",
    "source = o3d.geometry.PointCloud(vectorX)\n",
    "target = o3d.geometry.PointCloud(vectorY)\n",
    "threshold = 20\n",
    "trans_init = np.asarray([[Rot_init[0,0], Rot_init[0,1], 0, t_init[0]],\n",
    "                         [Rot_init[1,0], Rot_init[1,1], 0, t_init[1]],\n",
    "                         [0, 0, 1, 0], [0.0, 0.0, 0.0, 1.0]])\n",
    "reg_p2p = o3d.registration.registration_icp(\n",
    "    source, target, threshold, trans_init,\n",
    "    o3d.registration.TransformationEstimationPointToPoint())\n",
    "print(reg_p2p)\n",
    "Rfound = reg_p2p.transformation[0:2,0:2]\n",
    "tfound = reg_p2p.transformation[0:2,3]\n",
    "print(Rfound,tfound)\n",
    "X,Y=X[0:2,:],Y[0:2,:]\n",
    "Yrep=np.transpose(np.transpose(np.dot(Rfound,X))+tfound)\n",
    "fig=plt.figure(figsize=(10,9))\n",
    "ax = fig.add_subplot(111)\n",
    "ax.scatter(np.transpose(Yrep)[:,0],np.transpose(Yrep)[:,1])\n",
    "ax.scatter(np.transpose(Y)[:,0],np.transpose(Y)[:,1])\n",
    "\n",
    "skel_transformed = transform_skeleton(skeleton1,Rfound,tfound)\n",
    "skel_mat = np.zeros((30000, 50000),dtype=np.uint8)\n",
    "for pixel in skel_transformed.keys():\n",
    "    skel_mat[pixel]=1\n"
   ]
  },
  {
   "cell_type": "code",
   "execution_count": 21,
   "metadata": {},
   "outputs": [
    {
     "data": {
      "application/vnd.jupyter.widget-view+json": {
       "model_id": "8a983d10e02b44489abef89bc08e1ef1",
       "version_major": 2,
       "version_minor": 0
      },
      "text/plain": [
       "Canvas(toolbar=Toolbar(toolitems=[('Home', 'Reset original view', 'home', 'home'), ('Back', 'Back to previous …"
      ]
     },
     "metadata": {},
     "output_type": "display_data"
    }
   ],
   "source": [
    "%matplotlib widget\n",
    "plot_t_tp1([],[],None,None,skel_aligned[19000:21000,44000:46000],skels[1][19000:21000,44000:46000].todense())\n"
   ]
  },
  {
   "cell_type": "code",
   "execution_count": null,
   "metadata": {},
   "outputs": [],
   "source": [
    "skel_docs[1]"
   ]
  },
  {
   "cell_type": "code",
   "execution_count": 25,
   "metadata": {},
   "outputs": [],
   "source": [
    "X=np.array(get_degree3_nodes(skel_docs[0]))\n",
    "Y = np.array(get_degree3_nodes(skel_docs[1]))\n"
   ]
  },
  {
   "cell_type": "code",
   "execution_count": 28,
   "metadata": {},
   "outputs": [
    {
     "data": {
      "application/vnd.jupyter.widget-view+json": {
       "model_id": "7a791fcc8c454de5a302115594d585c4",
       "version_major": 2,
       "version_minor": 0
      },
      "text/plain": [
       "Canvas(toolbar=Toolbar(toolitems=[('Home', 'Reset original view', 'home', 'home'), ('Back', 'Back to previous …"
      ]
     },
     "metadata": {},
     "output_type": "display_data"
    },
    {
     "name": "stdout",
     "output_type": "stream",
     "text": [
      "(3, 5219) (3, 7779)\n",
      "registration::RegistrationResult with fitness=1.149646e-03, inlier_rmse=9.666348e-02, and correspondence_set size of 6\n",
      "Access transformation to get result.\n",
      "[[ 9.99999966e-01 -2.63180600e-04]\n",
      " [ 2.63180600e-04  9.99999966e-01]] [ 1772.54157915 -1143.34802684]\n"
     ]
    },
    {
     "data": {
      "application/vnd.jupyter.widget-view+json": {
       "model_id": "40f8ac33128e4e5f94db8b7a5c3fce1e",
       "version_major": 2,
       "version_minor": 0
      },
      "text/plain": [
       "Canvas(toolbar=Toolbar(toolitems=[('Home', 'Reset original view', 'home', 'home'), ('Back', 'Back to previous …"
      ]
     },
     "metadata": {},
     "output_type": "display_data"
    },
    {
     "data": {
      "text/plain": [
       "<matplotlib.collections.PathCollection at 0x2b3e7cca4710>"
      ]
     },
     "execution_count": 28,
     "metadata": {},
     "output_type": "execute_result"
    }
   ],
   "source": [
    "X = np.transpose(X)\n",
    "Y=np.transpose(Y)\n",
    "fig=plt.figure(figsize=(10,9))\n",
    "ax = fig.add_subplot(111)\n",
    "ax.scatter(X[0,:],X[1,:])\n",
    "ax.scatter(Y[0,:],Y[1,:])\n",
    "X = np.insert(X, 2, values=0, axis=0) \n",
    "Y = np.insert(Y, 2, values=0, axis=0) \n",
    "print(X.shape,Y.shape)\n",
    "vectorX = o3d.utility.Vector3dVector(np.transpose(X))\n",
    "vectorY = o3d.utility.Vector3dVector(np.transpose(Y))\n",
    "source = o3d.geometry.PointCloud(vectorX)\n",
    "target = o3d.geometry.PointCloud(vectorY)\n",
    "threshold = 0.2\n",
    "t_init=np.array([ 1774.73372876, -1144.44026333])\n",
    "Rot_init = np.array([[ 9.99999951e-01, -3.15042571e-04],[ 3.15042571e-04,  9.99999951e-01]])\n",
    "trans_init = np.asarray([[Rot_init[0,0], Rot_init[0,1], 0, t_init[0]],\n",
    "                         [Rot_init[1,0], Rot_init[1,1], 0, t_init[1]],\n",
    "                         [0, 0, 1, 0], [0.0, 0.0, 0.0, 1.0]])\n",
    "\n",
    "reg_p2p = o3d.registration.registration_icp(\n",
    "    source, target, threshold, trans_init,\n",
    "    o3d.registration.TransformationEstimationPointToPoint())\n",
    "print(reg_p2p)\n",
    "Rfound = reg_p2p.transformation[0:2,0:2]\n",
    "tfound = reg_p2p.transformation[0:2,3]\n",
    "print(Rfound,tfound)\n",
    "X,Y=X[0:2,:],Y[0:2,:]\n",
    "Yrep=np.transpose(np.transpose(np.dot(Rfound,X))+tfound)\n",
    "fig=plt.figure(figsize=(10,9))\n",
    "ax = fig.add_subplot(111)\n",
    "ax.scatter(np.transpose(Yrep)[:,0],np.transpose(Yrep)[:,1])\n",
    "ax.scatter(np.transpose(Y)[:,0],np.transpose(Y)[:,1])"
   ]
  },
  {
   "cell_type": "code",
   "execution_count": 19,
   "metadata": {},
   "outputs": [
    {
     "data": {
      "application/vnd.jupyter.widget-view+json": {
       "model_id": "adf01205e5034c49bf15e60153edb6c6",
       "version_major": 2,
       "version_minor": 0
      },
      "text/plain": [
       "Canvas(toolbar=Toolbar(toolitems=[('Home', 'Reset original view', 'home', 'home'), ('Back', 'Back to previous …"
      ]
     },
     "metadata": {},
     "output_type": "display_data"
    }
   ],
   "source": [
    "for pixel in skel_doc.keys():\n",
    "    skel_aligned[pixel]=1\n",
    "plot_t_tp1([],[],None,None,skel_aligned[19000:21000,44000:46000],skel_aligned[19000:21000,44000:46000])"
   ]
  },
  {
   "cell_type": "code",
   "execution_count": 16,
   "metadata": {},
   "outputs": [
    {
     "data": {
      "text/plain": [
       "matrix([[0, 0, 0, ..., 0, 0, 0],\n",
       "        [0, 0, 0, ..., 0, 0, 0],\n",
       "        [0, 0, 0, ..., 0, 0, 0],\n",
       "        ...,\n",
       "        [0, 0, 0, ..., 0, 0, 0],\n",
       "        [0, 0, 0, ..., 0, 0, 0],\n",
       "        [0, 0, 0, ..., 0, 0, 0]], dtype=uint8)"
      ]
     },
     "execution_count": 16,
     "metadata": {},
     "output_type": "execute_result"
    }
   ],
   "source": [
    "skels[1].todense()"
   ]
  },
  {
   "cell_type": "code",
   "execution_count": 69,
   "metadata": {},
   "outputs": [],
   "source": [
    "plt.close('all')"
   ]
  },
  {
   "cell_type": "code",
   "execution_count": 6,
   "metadata": {},
   "outputs": [
    {
     "data": {
      "application/vnd.jupyter.widget-view+json": {
       "model_id": "bcec32e18e6c4127a3cae27d487bca63",
       "version_major": 2,
       "version_minor": 0
      },
      "text/plain": [
       "Canvas(toolbar=Toolbar(toolitems=[('Home', 'Reset original view', 'home', 'home'), ('Back', 'Back to previous …"
      ]
     },
     "metadata": {},
     "output_type": "display_data"
    }
   ],
   "source": [
    "plot_t_tp1([],[],None,None,skels[1][20000:24000,31000:35000].todense(),skels[1][20000:24000,31000:35000].todense())\n"
   ]
  },
  {
   "cell_type": "code",
   "execution_count": 40,
   "metadata": {},
   "outputs": [
    {
     "data": {
      "application/vnd.jupyter.widget-view+json": {
       "model_id": "4e0774fd0de24dfea6e4ce4cd659929b",
       "version_major": 2,
       "version_minor": 0
      },
      "text/plain": [
       "Canvas(toolbar=Toolbar(toolitems=[('Home', 'Reset original view', 'home', 'home'), ('Back', 'Back to previous …"
      ]
     },
     "metadata": {},
     "output_type": "display_data"
    }
   ],
   "source": [
    "plot_t_tp1([],[],None,None,skels[0][15000:19000,38000:42000].todense(),skels[1][15000:19000,38000:42000].todense())\n"
   ]
  },
  {
   "cell_type": "code",
   "execution_count": 1,
   "metadata": {},
   "outputs": [
    {
     "ename": "NameError",
     "evalue": "name 'plt' is not defined",
     "output_type": "error",
     "traceback": [
      "\u001b[0;31m---------------------------------------------------------------------------\u001b[0m",
      "\u001b[0;31mNameError\u001b[0m                                 Traceback (most recent call last)",
      "\u001b[0;32m<ipython-input-1-028121587e8c>\u001b[0m in \u001b[0;36m<module>\u001b[0;34m()\u001b[0m\n\u001b[0;32m----> 1\u001b[0;31m \u001b[0mplt\u001b[0m\u001b[0;34m.\u001b[0m\u001b[0mclose\u001b[0m\u001b[0;34m(\u001b[0m\u001b[0;34m'all'\u001b[0m\u001b[0;34m)\u001b[0m\u001b[0;34m\u001b[0m\u001b[0;34m\u001b[0m\u001b[0m\n\u001b[0m\u001b[1;32m      2\u001b[0m \u001b[0mplot_t_tp1\u001b[0m\u001b[0;34m(\u001b[0m\u001b[0;34m[\u001b[0m\u001b[0;34m]\u001b[0m\u001b[0;34m,\u001b[0m\u001b[0;34m[\u001b[0m\u001b[0;34m]\u001b[0m\u001b[0;34m,\u001b[0m\u001b[0;32mNone\u001b[0m\u001b[0;34m,\u001b[0m\u001b[0;32mNone\u001b[0m\u001b[0;34m,\u001b[0m\u001b[0mskel_aligned\u001b[0m\u001b[0;34m[\u001b[0m\u001b[0;36m19000\u001b[0m\u001b[0;34m:\u001b[0m\u001b[0;36m21000\u001b[0m\u001b[0;34m,\u001b[0m\u001b[0;36m44000\u001b[0m\u001b[0;34m:\u001b[0m\u001b[0;36m46000\u001b[0m\u001b[0;34m]\u001b[0m\u001b[0;34m,\u001b[0m\u001b[0mskel_aligned_t\u001b[0m\u001b[0;34m[\u001b[0m\u001b[0;36m19000\u001b[0m\u001b[0;34m:\u001b[0m\u001b[0;36m21000\u001b[0m\u001b[0;34m,\u001b[0m\u001b[0;36m44000\u001b[0m\u001b[0;34m:\u001b[0m\u001b[0;36m46000\u001b[0m\u001b[0;34m]\u001b[0m\u001b[0;34m)\u001b[0m\u001b[0;34m\u001b[0m\u001b[0;34m\u001b[0m\u001b[0m\n",
      "\u001b[0;31mNameError\u001b[0m: name 'plt' is not defined"
     ]
    }
   ],
   "source": [
    "plt.close('all')\n",
    "plot_t_tp1([],[],None,None,skel_aligned[19000:21000,44000:46000],skel_aligned_t[19000:21000,44000:46000])\n"
   ]
  },
  {
   "cell_type": "code",
   "execution_count": null,
   "metadata": {},
   "outputs": [],
   "source": [
    "    plot_t_tp1([],[],None,None,skel_aligned[19000:21000,44000:46000],skel_aligned_t[19000:21000,44000:46000])\n"
   ]
  },
  {
   "cell_type": "code",
   "execution_count": 74,
   "metadata": {},
   "outputs": [
    {
     "data": {
      "text/plain": [
       "array([[1., 0., 0., 0.],\n",
       "       [0., 1., 0., 0.],\n",
       "       [0., 0., 1., 0.],\n",
       "       [0., 0., 0., 1.]])"
      ]
     },
     "execution_count": 74,
     "metadata": {},
     "output_type": "execute_result"
    }
   ],
   "source": [
    "R\n",
    "trans_init"
   ]
  },
  {
   "cell_type": "code",
   "execution_count": 52,
   "metadata": {},
   "outputs": [
    {
     "data": {
      "text/plain": [
       "[<26387x50121 sparse matrix of type '<class 'numpy.uint8'>'\n",
       " \twith 1017225 stored elements in Compressed Sparse Column format>,\n",
       " <26217x49608 sparse matrix of type '<class 'numpy.uint8'>'\n",
       " \twith 1031982 stored elements in Compressed Sparse Column format>]"
      ]
     },
     "execution_count": 52,
     "metadata": {},
     "output_type": "execute_result"
    }
   ],
   "source": [
    "skels"
   ]
  },
  {
   "cell_type": "code",
   "execution_count": 8,
   "metadata": {},
   "outputs": [
    {
     "data": {
      "text/plain": [
       "64"
      ]
     },
     "execution_count": 8,
     "metadata": {},
     "output_type": "execute_result"
    }
   ],
   "source": [
    "import sys\n",
    "sys.getsizeof(skels[0])"
   ]
  },
  {
   "cell_type": "code",
   "execution_count": 7,
   "metadata": {},
   "outputs": [
    {
     "name": "stdout",
     "output_type": "stream",
     "text": [
      "[1465.453887]\n",
      "cleaning, number of nodes before 4217\n",
      "number of unsolved cases 208\n",
      "number of unsolved cases 110\n",
      "number of unsolved cases 102\n",
      "number of unsolved cases 102\n",
      "end cleaning, number of nodes after 3493\n",
      "[1564.79882]\n",
      "cleaning, number of nodes before 4292\n",
      "number of unsolved cases 173\n",
      "number of unsolved cases 90\n",
      "number of unsolved cases 83\n",
      "number of unsolved cases 83\n",
      "number of unsolved cases 83\n",
      "number of unsolved cases 83\n",
      "end cleaning, number of nodes after 3613\n",
      "[2003.15984]\n",
      "cleaning, number of nodes before 4840\n",
      "number of unsolved cases 144\n",
      "number of unsolved cases 59\n",
      "number of unsolved cases 54\n",
      "number of unsolved cases 54\n",
      "end cleaning, number of nodes after 4006\n",
      "[2568.74304]\n",
      "cleaning, number of nodes before 5520\n",
      "number of unsolved cases 276\n",
      "number of unsolved cases 114\n",
      "number of unsolved cases 98\n",
      "number of unsolved cases 89\n",
      "number of unsolved cases 87\n",
      "number of unsolved cases 83\n",
      "number of unsolved cases 83\n",
      "end cleaning, number of nodes after 4535\n"
     ]
    }
   ],
   "source": [
    "plate = 9\n",
    "directory = \"/scratch/shared/mrozemul/Fiji.app/\" \n",
    "listdir=os.listdir(directory) \n",
    "list_dir_interest=[name for name in listdir if name.split('_')[-1]==f'Plate{0 if plate<10 else \"\"}{plate}']\n",
    "ss=[name.split('_')[0] for name in list_dir_interest]\n",
    "ff=[name.split('_')[1] for name in list_dir_interest]\n",
    "dates_datetime=[datetime(year=int(ss[i][:4]),month=int(ss[i][4:6]),day=int(ss[i][6:8]),hour=int(ff[i][0:2]),minute=int(ff[i][2:4])) for i in range(len(list_dir_interest))]\n",
    "dates_datetime.sort()\n",
    "dates_datetime_chosen=dates_datetime[4:8]\n",
    "dates = [f'{0 if date.month<10 else \"\"}{date.month}{0 if date.day<10 else \"\"}{date.day}_{0 if date.hour<10 else \"\"}{date.hour}{0 if date.minute<10 else \"\"}{date.minute}' for date in dates_datetime_chosen]\n",
    "skels_aligned = []\n",
    "for date in dates:\n",
    "    directory_name=f'2020{date}_Plate{0 if plate<10 else \"\"}{plate}'\n",
    "    path_snap='/scratch/shared/mrozemul/Fiji.app/'+directory_name\n",
    "    dilated = read_mat(path_snap+'/Analysis/dilated.mat')['dilated']\n",
    "    skel = read_mat(path_snap+'/Analysis/skeleton_realigned.mat')['skeleton']\n",
    "    skels_aligned.append(scipy.sparse.dok_matrix(skel))\n",
    "nx_graph_poss=[generate_nx_graph(from_sparse_to_graph(skeleton)) for skeleton in skels_aligned]\n",
    "nx_graphs_aligned=[nx_graph_pos[0] for nx_graph_pos in nx_graph_poss]\n",
    "poss_aligned=[nx_graph_pos[1] for nx_graph_pos in nx_graph_poss]\n",
    "nx_graph_pruned=[clean_degree_4(prune_graph(nx_graph),poss_aligned[i])[0] for i,nx_graph in enumerate(nx_graphs_aligned)]"
   ]
  },
  {
   "cell_type": "code",
   "execution_count": 10,
   "metadata": {},
   "outputs": [],
   "source": [
    "import pickle\n",
    "for i,g in enumerate(nx_graph_pruned):\n",
    "    directory_name=f'2020{dates[i]}_Plate{0 if plate<10 else \"\"}{plate}'\n",
    "    path_snap='/scratch/shared/mrozemul/Fiji.app/'+directory_name\n",
    "    path_save = path_snap +'/Analysis/nx_graph_pruned.p'\n",
    "    pos = poss_aligned[i]\n",
    "    pickle.dump((g,pos),open( path_save, \"wb\" ))\n",
    "    "
   ]
  },
  {
   "cell_type": "code",
   "execution_count": 11,
   "metadata": {},
   "outputs": [],
   "source": [
    "nx_graph_pos_retrieved=[]\n",
    "for date in dates:\n",
    "    directory_name=f'2020{date}_Plate{0 if plate<10 else \"\"}{plate}'\n",
    "    path_snap='/scratch/shared/mrozemul/Fiji.app/'+directory_name\n",
    "    path_save = path_snap +'/Analysis/nx_graph_pruned.p'\n",
    "    (g,pos) = pickle.load(open( path_save, \"rb\" ))\n",
    "    nx_graph_pos_retrieved.append((g,pos))"
   ]
  },
  {
   "cell_type": "code",
   "execution_count": 40,
   "metadata": {},
   "outputs": [
    {
     "data": {
      "application/vnd.jupyter.widget-view+json": {
       "model_id": "7b15f37d9a064515ae213c4e1ee4e32f",
       "version_major": 2,
       "version_minor": 0
      },
      "text/plain": [
       "Canvas(toolbar=Toolbar(toolitems=[('Home', 'Reset original view', 'home', 'home'), ('Back', 'Back to previous …"
      ]
     },
     "metadata": {},
     "output_type": "display_data"
    }
   ],
   "source": [
    "plot_t_tp1([],[],None,None,skel_aligned_dense[1][19000:21000,44000:46000],skel_aligned_dense[2][19000:21000,44000:46000])"
   ]
  },
  {
   "cell_type": "code",
   "execution_count": 32,
   "metadata": {},
   "outputs": [],
   "source": [
    "skels_aligned[1]"
   ]
  },
  {
   "cell_type": "code",
   "execution_count": 6,
   "metadata": {},
   "outputs": [
    {
     "data": {
      "text/plain": [
       "<26316x49503 sparse matrix of type '<class 'numpy.uint8'>'\n",
       "\twith 465757 stored elements in Compressed Sparse Column format>"
      ]
     },
     "execution_count": 6,
     "metadata": {},
     "output_type": "execute_result"
    }
   ],
   "source": [
    "scipy.sparse.csc_matrix(skel)"
   ]
  },
  {
   "cell_type": "code",
   "execution_count": 3,
   "metadata": {},
   "outputs": [
    {
     "data": {
      "application/vnd.jupyter.widget-view+json": {
       "model_id": "bae8edbcf58d47c0ad023f99ff769af0",
       "version_major": 2,
       "version_minor": 0
      },
      "text/plain": [
       "Canvas(toolbar=Toolbar(toolitems=[('Home', 'Reset original view', 'home', 'home'), ('Back', 'Back to previous …"
      ]
     },
     "metadata": {},
     "output_type": "display_data"
    },
    {
     "name": "stdout",
     "output_type": "stream",
     "text": [
      "(3, 2763) (3, 3131)\n",
      "registration::RegistrationResult with fitness=9.290626e-01, inlier_rmse=5.239506e+00, and correspondence_set size of 2567\n",
      "Access transformation to get result.\n",
      "[[ 9.99999893e-01 -4.63437568e-04]\n",
      " [ 4.63437568e-04  9.99999893e-01]] [ 19.51041473 -32.80502458]\n"
     ]
    },
    {
     "data": {
      "application/vnd.jupyter.widget-view+json": {
       "model_id": "713090bf18474897b03ea0376477efbb",
       "version_major": 2,
       "version_minor": 0
      },
      "text/plain": [
       "Canvas(toolbar=Toolbar(toolitems=[('Home', 'Reset original view', 'home', 'home'), ('Back', 'Back to previous …"
      ]
     },
     "metadata": {},
     "output_type": "display_data"
    },
    {
     "data": {
      "text/plain": [
       "<matplotlib.collections.PathCollection at 0x2ab21f6036d0>"
      ]
     },
     "execution_count": 3,
     "metadata": {},
     "output_type": "execute_result"
    }
   ],
   "source": [
    "pos_t = graph_pos[0][1]\n",
    "pos_tp1 = graph_pos[1][1]\n",
    "pruned=[]\n",
    "\n",
    "X = np.transpose(np.array([pos_t[node] for node in pruned[0] if pruned[0].degree(node)==3]))\n",
    "Y = np.transpose(np.array([pos_tp1[node] for node in pruned[1] if pruned[1].degree(node)==3]))\n",
    "# X=[]\n",
    "# Y=[]\n",
    "# num=5\n",
    "# nodesX=[choice([node for node in pruned[0] if pruned[0].degree(node)==3]) for i in range(num)]\n",
    "# nodesY = [choice([node for node in pruned[1] if pruned[1].degree(node)==3]) for i in range(num)]\n",
    "# window = 200\n",
    "# g = pruned[0]\n",
    "# for node in nodesX:\n",
    "#     pos = pos_t[node]\n",
    "#     xy = skels[0][max(0,pos[0]-window):pos[0]+window,max(0,pos[1]-window):pos[1]+window].nonzero()\n",
    "#     xy2 = skels[1][max(0,pos[0]-window):pos[0]+window,max(0,pos[1]-window):pos[1]+window].nonzero()\n",
    "#     for i,x in enumerate(xy[0]):\n",
    "#         y = xy[1][i]\n",
    "#         X.append((pos[0]-window+x,pos[1]-window+y))\n",
    "#         if i<len(xy2[0]):\n",
    "#             x2,y2 = xy2[0][i],xy2[1][i]\n",
    "#             Y.append((pos[0]-window+x2,pos[1]-window+y2))\n",
    "# X=np.transpose(np.array(X))\n",
    "# Y=np.transpose(np.array(Y))\n",
    "X.shape,Y.shape\n",
    "fig=plt.figure(figsize=(10,9))\n",
    "\n",
    "ax = fig.add_subplot(111)\n",
    "ax.scatter(X[0,:],X[1,:])\n",
    "ax.scatter(Y[0,:],Y[1,:])\n",
    "X = np.insert(X, 2, values=0, axis=0) \n",
    "Y = np.insert(Y, 2, values=0, axis=0) \n",
    "print(X.shape,Y.shape)\n",
    "vectorX = o3d.utility.Vector3dVector(np.transpose(X))\n",
    "vectorY = o3d.utility.Vector3dVector(np.transpose(Y))\n",
    "source = o3d.geometry.PointCloud(vectorX)\n",
    "target = o3d.geometry.PointCloud(vectorY)\n",
    "threshold = 20\n",
    "trans_init = np.asarray([[1, 0, 0, 0],\n",
    "                         [0, 1, 0, 0],\n",
    "                         [0, 0, 1, 0], [0.0, 0.0, 0.0, 1.0]])\n",
    "reg_p2p = o3d.registration.registration_icp(\n",
    "    source, target, threshold, trans_init,\n",
    "    o3d.registration.TransformationEstimationPointToPoint())\n",
    "print(reg_p2p)\n",
    "Rfound = reg_p2p.transformation[0:2,0:2]\n",
    "tfound = reg_p2p.transformation[0:2,3]\n",
    "print(Rfound,tfound)\n",
    "X,Y=X[0:2,:],Y[0:2,:]\n",
    "Yrep=np.transpose(np.transpose(np.dot(Rfound,X))+tfound)\n",
    "fig=plt.figure(figsize=(10,9))\n",
    "ax = fig.add_subplot(111)\n",
    "ax.scatter(np.transpose(Y)[:,0],np.transpose(Y)[:,1])\n",
    "ax.scatter(np.transpose(Yrep)[:,0],np.transpose(Yrep)[:,1])"
   ]
  },
  {
   "cell_type": "code",
   "execution_count": 14,
   "metadata": {},
   "outputs": [
    {
     "data": {
      "text/plain": [
       "array([[ 9.99999893e-01,  4.63437568e-04],\n",
       "       [-4.63437568e-04,  9.99999893e-01]])"
      ]
     },
     "execution_count": 14,
     "metadata": {},
     "output_type": "execute_result"
    }
   ],
   "source": [
    "np.linalg.inv(Rfound)"
   ]
  },
  {
   "cell_type": "code",
   "execution_count": 7,
   "metadata": {},
   "outputs": [],
   "source": [
    "skel_transformed = transform_skeleton(skel_docs[0],Rfound,tfound)"
   ]
  },
  {
   "cell_type": "code",
   "execution_count": 7,
   "metadata": {},
   "outputs": [],
   "source": [
    "def prune_graph(nx_graph,threshold=100):\n",
    "    #should implement threshold!\n",
    "    S = [nx_graph.subgraph(c).copy() for c in nx.connected_components(nx_graph)]\n",
    "    selected = [g for g in S if g.size(weight=\"weight\")*len(g.nodes)/10**6>=threshold]\n",
    "    len_connected=[(nx_graph.size(weight=\"weight\")*len(nx_graph.nodes)/10**6) for nx_graph in selected]\n",
    "    print(len_connected)\n",
    "    G = selected[0]\n",
    "    for g in selected[1:]:\n",
    "        G = nx.compose(G,g)\n",
    "    return(G)\n",
    "def transform_skeleton(skeleton_doc,Rot,trans):\n",
    "    transformed_skeleton={}\n",
    "    transformed_keys = np.round(np.transpose(np.dot(Rot,np.transpose(np.array(list(skeleton_doc.keys())))))+trans).astype(np.int)\n",
    "    i=0\n",
    "    for pixel in list(transformed_keys):\n",
    "        i+=1\n",
    "        transformed_skeleton[(pixel[0],pixel[1])]=1\n",
    "    return(transformed_skeleton)"
   ]
  },
  {
   "cell_type": "code",
   "execution_count": 27,
   "metadata": {},
   "outputs": [],
   "source": [
    "def realign_final(skeleton1,skeleton2):\n",
    "    nx_graph1,pos1 = generate_nx_graph(from_sparse_to_graph(skeleton1))\n",
    "    nx_graph2,pos2 = generate_nx_graph(from_sparse_to_graph(skeleton2))\n",
    "    pruned1 = prune_graph(nx_graph1)\n",
    "    pruned2 = prune_graph(nx_graph2)\n",
    "    X = np.transpose(np.array([pos1[node] for node in pruned1 if pruned1.degree(node)==3]))\n",
    "    Y = np.transpose(np.array([pos2[node] for node in pruned2 if pruned2.degree(node)==3]))\n",
    "#     fig=plt.figure(figsize=(10,9))\n",
    "\n",
    "#     ax = fig.add_subplot(111)\n",
    "#     ax.scatter(X[0,:],X[1,:])\n",
    "#     ax.scatter(Y[0,:],Y[1,:])\n",
    "    X = np.insert(X, 2, values=0, axis=0) \n",
    "    Y = np.insert(Y, 2, values=0, axis=0) \n",
    "    print(X.shape,Y.shape)\n",
    "    vectorX = o3d.utility.Vector3dVector(np.transpose(X))\n",
    "    vectorY = o3d.utility.Vector3dVector(np.transpose(Y))\n",
    "    source = o3d.geometry.PointCloud(vectorX)\n",
    "    target = o3d.geometry.PointCloud(vectorY)\n",
    "    threshold = 20\n",
    "    trans_init = np.asarray([[1, 0, 0, 0],\n",
    "                             [0, 1, 0, 0],\n",
    "                             [0, 0, 1, 0], [0.0, 0.0, 0.0, 1.0]])\n",
    "    reg_p2p = o3d.registration.registration_icp(\n",
    "        source, target, threshold, trans_init,\n",
    "        o3d.registration.TransformationEstimationPointToPoint())\n",
    "    print(reg_p2p)\n",
    "    Rfound = reg_p2p.transformation[0:2,0:2]\n",
    "    tfound = reg_p2p.transformation[0:2,3]\n",
    "    print(Rfound,tfound)\n",
    "    X,Y=X[0:2,:],Y[0:2,:]\n",
    "    Yrep=np.transpose(np.transpose(np.dot(Rfound,X))+tfound)\n",
    "#     fig=plt.figure(figsize=(10,9))\n",
    "#     ax = fig.add_subplot(111)\n",
    "#     ax.scatter(np.transpose(Y)[:,0],np.transpose(Y)[:,1])\n",
    "#     ax.scatter(np.transpose(Yrep)[:,0],np.transpose(Yrep)[:,1])\n",
    "    skel_transformed = transform_skeleton(skeleton1,Rfound,tfound)\n",
    "    skel_mat = np.zeros((26322, 49527),dtype=np.uint8)\n",
    "    for pixel in skel_transformed.keys():\n",
    "        skel_mat[pixel]=1\n",
    "    return(skel_mat,skel_doc,Rfound,tfound)"
   ]
  },
  {
   "cell_type": "code",
   "execution_count": 15,
   "metadata": {},
   "outputs": [
    {
     "name": "stdout",
     "output_type": "stream",
     "text": [
      "[1993.99993]\n",
      "[1581.43881]\n"
     ]
    },
    {
     "data": {
      "application/vnd.jupyter.widget-view+json": {
       "model_id": "c098929c076741ea98fa4b00d8e20a44",
       "version_major": 2,
       "version_minor": 0
      },
      "text/plain": [
       "Canvas(toolbar=Toolbar(toolitems=[('Home', 'Reset original view', 'home', 'home'), ('Back', 'Back to previous …"
      ]
     },
     "metadata": {},
     "output_type": "display_data"
    },
    {
     "name": "stdout",
     "output_type": "stream",
     "text": [
      "(3, 3131) (3, 2763)\n",
      "registration::RegistrationResult with fitness=8.272118e-01, inlier_rmse=5.422845e+00, and correspondence_set size of 2590\n",
      "Access transformation to get result.\n",
      "[[ 9.99999904e-01  4.39147129e-04]\n",
      " [-4.39147129e-04  9.99999904e-01]] [-18.47679909  32.34018681]\n"
     ]
    },
    {
     "data": {
      "application/vnd.jupyter.widget-view+json": {
       "model_id": "9921b5d11af945deb0529c7eb77fe186",
       "version_major": 2,
       "version_minor": 0
      },
      "text/plain": [
       "Canvas(toolbar=Toolbar(toolitems=[('Home', 'Reset original view', 'home', 'home'), ('Back', 'Back to previous …"
      ]
     },
     "metadata": {},
     "output_type": "display_data"
    }
   ],
   "source": [
    "final_realigned = realign_final(skel_docs[1],skel_docs[0])"
   ]
  },
  {
   "cell_type": "code",
   "execution_count": 18,
   "metadata": {},
   "outputs": [
    {
     "data": {
      "application/vnd.jupyter.widget-view+json": {
       "model_id": "4b1fb0657ab44d90879324754be02a3e",
       "version_major": 2,
       "version_minor": 0
      },
      "text/plain": [
       "Canvas(toolbar=Toolbar(toolitems=[('Home', 'Reset original view', 'home', 'home'), ('Back', 'Back to previous …"
      ]
     },
     "metadata": {},
     "output_type": "display_data"
    }
   ],
   "source": [
    "skel_mat = np.zeros(skels[0].shape,dtype=np.uint8)\n",
    "for pixel in skel_transformed.keys():\n",
    "    skel_mat[pixel]=1\n",
    "# plt.close('all')\n",
    "plot_t_tp1([],[],None,None,final_realigned[0][19000:21000,44000:46000],skels[0][19000:21000,44000:46000])"
   ]
  },
  {
   "cell_type": "code",
   "execution_count": 22,
   "metadata": {},
   "outputs": [],
   "source": [
    "def get_neighbours(pixel,non_zero_pixel):\n",
    "    x=pixel[0]\n",
    "    y=pixel[1]\n",
    "    primary_neighbours = {(x+1,y),(x-1,y),(x,y+1),(x,y-1)}\n",
    "    secondary_neighbours = {(x+1,y-1),(x+1,y+1),(x-1,y+1),(x-1,y-1)}\n",
    "    num_neighbours = 0\n",
    "    actual_neighbours = []\n",
    "    for neighbour in primary_neighbours:\n",
    "        if neighbour in non_zero_pixel:\n",
    "            num_neighbours +=1\n",
    "            xp=neighbour[0]\n",
    "            yp=neighbour[1]\n",
    "            primary_neighboursp = {(xp+1,yp),(xp-1,yp),(xp,yp+1),(xp,yp-1)}\n",
    "            for neighbourp in primary_neighboursp:\n",
    "                secondary_neighbours.discard(neighbourp)\n",
    "            actual_neighbours.append(neighbour)\n",
    "    for neighbour in secondary_neighbours:\n",
    "        if neighbour in non_zero_pixel:\n",
    "            num_neighbours +=1\n",
    "            actual_neighbours.append(neighbour)\n",
    "    return(actual_neighbours,num_neighbours)\n",
    "def get_degree3_nodes(skel):\n",
    "    deg_3=[]\n",
    "    non_zero= skel.keys()\n",
    "    for pixel in non_zero:\n",
    "        n, num = get_neighbours(pixel,non_zero)\n",
    "        if num ==3:\n",
    "            deg_3.append(pixel)\n",
    "    return(deg_3)"
   ]
  },
  {
   "cell_type": "code",
   "execution_count": 20,
   "metadata": {},
   "outputs": [],
   "source": [
    "def get_degree3_nodes(skel):\n",
    "    deg_3=[]\n",
    "    non_zero= skel.keys()\n",
    "    for pixel in non_zero:\n",
    "        n, num = get_neighbours(pixel,non_zero)\n",
    "        if num ==3:\n",
    "            deg_3.append(pixel)\n",
    "    return(deg_3)"
   ]
  },
  {
   "cell_type": "code",
   "execution_count": 3,
   "metadata": {},
   "outputs": [],
   "source": [
    "pos_t = graph_pos[0][1]\n",
    "pos_tp1 = graph_pos[1][1]\n"
   ]
  },
  {
   "cell_type": "code",
   "execution_count": 4,
   "metadata": {},
   "outputs": [],
   "source": [
    "pruned=[]\n",
    "for nx_graph,pos in graph_pos:\n",
    "    S = [nx_graph.subgraph(c).copy() for c in nx.connected_components(nx_graph)]\n",
    "    selected = [g for g in S if g.size(weight=\"weight\")*len(g.nodes)/10**6>=100]\n",
    "    pruned.append(selected[0])"
   ]
  },
  {
   "cell_type": "code",
   "execution_count": 34,
   "metadata": {},
   "outputs": [
    {
     "data": {
      "text/plain": [
       "38720"
      ]
     },
     "execution_count": 34,
     "metadata": {},
     "output_type": "execute_result"
    }
   ],
   "source": [
    "pos[1]-window"
   ]
  },
  {
   "cell_type": "code",
   "execution_count": 51,
   "metadata": {},
   "outputs": [
    {
     "data": {
      "text/plain": [
       "(4335, 3940)"
      ]
     },
     "execution_count": 51,
     "metadata": {},
     "output_type": "execute_result"
    }
   ],
   "source": [
    "len(X),len(Y)"
   ]
  },
  {
   "cell_type": "code",
   "execution_count": 38,
   "metadata": {},
   "outputs": [
    {
     "ename": "NameError",
     "evalue": "name 'get_importance' is not defined",
     "output_type": "error",
     "traceback": [
      "\u001b[0;31m---------------------------------------------------------------------------\u001b[0m",
      "\u001b[0;31mNameError\u001b[0m                                 Traceback (most recent call last)",
      "\u001b[0;32m<ipython-input-38-7483de5f2bee>\u001b[0m in \u001b[0;36m<module>\u001b[0;34m()\u001b[0m\n\u001b[0;32m----> 1\u001b[0;31m \u001b[0mX\u001b[0m \u001b[0;34m=\u001b[0m \u001b[0mnp\u001b[0m\u001b[0;34m.\u001b[0m\u001b[0mtranspose\u001b[0m\u001b[0;34m(\u001b[0m\u001b[0mnp\u001b[0m\u001b[0;34m.\u001b[0m\u001b[0marray\u001b[0m\u001b[0;34m(\u001b[0m\u001b[0;34m[\u001b[0m\u001b[0mpos_t\u001b[0m\u001b[0;34m[\u001b[0m\u001b[0mnode\u001b[0m\u001b[0;34m]\u001b[0m \u001b[0;32mfor\u001b[0m \u001b[0mnode\u001b[0m \u001b[0;32min\u001b[0m \u001b[0mpruned\u001b[0m\u001b[0;34m[\u001b[0m\u001b[0;36m0\u001b[0m\u001b[0;34m]\u001b[0m \u001b[0;32mif\u001b[0m \u001b[0mpruned\u001b[0m\u001b[0;34m[\u001b[0m\u001b[0;36m0\u001b[0m\u001b[0;34m]\u001b[0m\u001b[0;34m.\u001b[0m\u001b[0mdegree\u001b[0m\u001b[0;34m(\u001b[0m\u001b[0mnode\u001b[0m\u001b[0;34m)\u001b[0m\u001b[0;34m==\u001b[0m\u001b[0;36m3\u001b[0m \u001b[0;32mand\u001b[0m \u001b[0mget_importance\u001b[0m\u001b[0;34m(\u001b[0m\u001b[0mpruned\u001b[0m\u001b[0;34m[\u001b[0m\u001b[0;36m0\u001b[0m\u001b[0;34m]\u001b[0m\u001b[0;34m,\u001b[0m\u001b[0mnode\u001b[0m\u001b[0;34m)\u001b[0m\u001b[0;34m>=\u001b[0m\u001b[0;36m10\u001b[0m\u001b[0;34m]\u001b[0m\u001b[0;34m)\u001b[0m\u001b[0;34m)\u001b[0m\u001b[0;34m\u001b[0m\u001b[0;34m\u001b[0m\u001b[0m\n\u001b[0m\u001b[1;32m      2\u001b[0m \u001b[0mY\u001b[0m \u001b[0;34m=\u001b[0m \u001b[0mnp\u001b[0m\u001b[0;34m.\u001b[0m\u001b[0mtranspose\u001b[0m\u001b[0;34m(\u001b[0m\u001b[0mnp\u001b[0m\u001b[0;34m.\u001b[0m\u001b[0marray\u001b[0m\u001b[0;34m(\u001b[0m\u001b[0;34m[\u001b[0m\u001b[0mpos_tp1\u001b[0m\u001b[0;34m[\u001b[0m\u001b[0mnode\u001b[0m\u001b[0;34m]\u001b[0m \u001b[0;32mfor\u001b[0m \u001b[0mnode\u001b[0m \u001b[0;32min\u001b[0m \u001b[0mpruned\u001b[0m\u001b[0;34m[\u001b[0m\u001b[0;36m1\u001b[0m\u001b[0;34m]\u001b[0m \u001b[0;32mif\u001b[0m \u001b[0mpruned\u001b[0m\u001b[0;34m[\u001b[0m\u001b[0;36m1\u001b[0m\u001b[0;34m]\u001b[0m\u001b[0;34m.\u001b[0m\u001b[0mdegree\u001b[0m\u001b[0;34m(\u001b[0m\u001b[0mnode\u001b[0m\u001b[0;34m)\u001b[0m\u001b[0;34m==\u001b[0m\u001b[0;36m3\u001b[0m \u001b[0;32mand\u001b[0m \u001b[0mget_importance\u001b[0m\u001b[0;34m(\u001b[0m\u001b[0mpruned\u001b[0m\u001b[0;34m[\u001b[0m\u001b[0;36m1\u001b[0m\u001b[0;34m]\u001b[0m\u001b[0;34m,\u001b[0m\u001b[0mnode\u001b[0m\u001b[0;34m)\u001b[0m\u001b[0;34m>=\u001b[0m\u001b[0;36m10\u001b[0m\u001b[0;34m]\u001b[0m\u001b[0;34m)\u001b[0m\u001b[0;34m)\u001b[0m\u001b[0;34m\u001b[0m\u001b[0;34m\u001b[0m\u001b[0m\n\u001b[1;32m      3\u001b[0m \u001b[0mX\u001b[0m\u001b[0;34m.\u001b[0m\u001b[0mshape\u001b[0m\u001b[0;34m,\u001b[0m\u001b[0mY\u001b[0m\u001b[0;34m.\u001b[0m\u001b[0mshape\u001b[0m\u001b[0;34m\u001b[0m\u001b[0;34m\u001b[0m\u001b[0m\n",
      "\u001b[0;32m<ipython-input-38-7483de5f2bee>\u001b[0m in \u001b[0;36m<listcomp>\u001b[0;34m(.0)\u001b[0m\n\u001b[0;32m----> 1\u001b[0;31m \u001b[0mX\u001b[0m \u001b[0;34m=\u001b[0m \u001b[0mnp\u001b[0m\u001b[0;34m.\u001b[0m\u001b[0mtranspose\u001b[0m\u001b[0;34m(\u001b[0m\u001b[0mnp\u001b[0m\u001b[0;34m.\u001b[0m\u001b[0marray\u001b[0m\u001b[0;34m(\u001b[0m\u001b[0;34m[\u001b[0m\u001b[0mpos_t\u001b[0m\u001b[0;34m[\u001b[0m\u001b[0mnode\u001b[0m\u001b[0;34m]\u001b[0m \u001b[0;32mfor\u001b[0m \u001b[0mnode\u001b[0m \u001b[0;32min\u001b[0m \u001b[0mpruned\u001b[0m\u001b[0;34m[\u001b[0m\u001b[0;36m0\u001b[0m\u001b[0;34m]\u001b[0m \u001b[0;32mif\u001b[0m \u001b[0mpruned\u001b[0m\u001b[0;34m[\u001b[0m\u001b[0;36m0\u001b[0m\u001b[0;34m]\u001b[0m\u001b[0;34m.\u001b[0m\u001b[0mdegree\u001b[0m\u001b[0;34m(\u001b[0m\u001b[0mnode\u001b[0m\u001b[0;34m)\u001b[0m\u001b[0;34m==\u001b[0m\u001b[0;36m3\u001b[0m \u001b[0;32mand\u001b[0m \u001b[0mget_importance\u001b[0m\u001b[0;34m(\u001b[0m\u001b[0mpruned\u001b[0m\u001b[0;34m[\u001b[0m\u001b[0;36m0\u001b[0m\u001b[0;34m]\u001b[0m\u001b[0;34m,\u001b[0m\u001b[0mnode\u001b[0m\u001b[0;34m)\u001b[0m\u001b[0;34m>=\u001b[0m\u001b[0;36m10\u001b[0m\u001b[0;34m]\u001b[0m\u001b[0;34m)\u001b[0m\u001b[0;34m)\u001b[0m\u001b[0;34m\u001b[0m\u001b[0;34m\u001b[0m\u001b[0m\n\u001b[0m\u001b[1;32m      2\u001b[0m \u001b[0mY\u001b[0m \u001b[0;34m=\u001b[0m \u001b[0mnp\u001b[0m\u001b[0;34m.\u001b[0m\u001b[0mtranspose\u001b[0m\u001b[0;34m(\u001b[0m\u001b[0mnp\u001b[0m\u001b[0;34m.\u001b[0m\u001b[0marray\u001b[0m\u001b[0;34m(\u001b[0m\u001b[0;34m[\u001b[0m\u001b[0mpos_tp1\u001b[0m\u001b[0;34m[\u001b[0m\u001b[0mnode\u001b[0m\u001b[0;34m]\u001b[0m \u001b[0;32mfor\u001b[0m \u001b[0mnode\u001b[0m \u001b[0;32min\u001b[0m \u001b[0mpruned\u001b[0m\u001b[0;34m[\u001b[0m\u001b[0;36m1\u001b[0m\u001b[0;34m]\u001b[0m \u001b[0;32mif\u001b[0m \u001b[0mpruned\u001b[0m\u001b[0;34m[\u001b[0m\u001b[0;36m1\u001b[0m\u001b[0;34m]\u001b[0m\u001b[0;34m.\u001b[0m\u001b[0mdegree\u001b[0m\u001b[0;34m(\u001b[0m\u001b[0mnode\u001b[0m\u001b[0;34m)\u001b[0m\u001b[0;34m==\u001b[0m\u001b[0;36m3\u001b[0m \u001b[0;32mand\u001b[0m \u001b[0mget_importance\u001b[0m\u001b[0;34m(\u001b[0m\u001b[0mpruned\u001b[0m\u001b[0;34m[\u001b[0m\u001b[0;36m1\u001b[0m\u001b[0;34m]\u001b[0m\u001b[0;34m,\u001b[0m\u001b[0mnode\u001b[0m\u001b[0;34m)\u001b[0m\u001b[0;34m>=\u001b[0m\u001b[0;36m10\u001b[0m\u001b[0;34m]\u001b[0m\u001b[0;34m)\u001b[0m\u001b[0;34m)\u001b[0m\u001b[0;34m\u001b[0m\u001b[0;34m\u001b[0m\u001b[0m\n\u001b[1;32m      3\u001b[0m \u001b[0mX\u001b[0m\u001b[0;34m.\u001b[0m\u001b[0mshape\u001b[0m\u001b[0;34m,\u001b[0m\u001b[0mY\u001b[0m\u001b[0;34m.\u001b[0m\u001b[0mshape\u001b[0m\u001b[0;34m\u001b[0m\u001b[0;34m\u001b[0m\u001b[0m\n",
      "\u001b[0;31mNameError\u001b[0m: name 'get_importance' is not defined"
     ]
    }
   ],
   "source": [
    "X = np.transpose(np.array([pos_t[node] for node in pruned[0] if pruned[0].degree(node)==3 and get_importance(pruned[0],node)>=10]))\n",
    "Y = np.transpose(np.array([pos_tp1[node] for node in pruned[1] if pruned[1].degree(node)==3 and get_importance(pruned[1],node)>=10]))\n",
    "X.shape,Y.shape"
   ]
  },
  {
   "cell_type": "code",
   "execution_count": 9,
   "metadata": {},
   "outputs": [
    {
     "data": {
      "text/plain": [
       "((2, 2763), (2, 3131))"
      ]
     },
     "execution_count": 9,
     "metadata": {},
     "output_type": "execute_result"
    }
   ],
   "source": [
    "X = np.transpose(np.array([pos_t[node] for node in pruned[0] if pruned[0].degree(node)==3]))\n",
    "Y = np.transpose(np.array([pos_tp1[node] for node in pruned[1] if pruned[1].degree(node)==3]))\n",
    "X.shape,Y.shape"
   ]
  },
  {
   "cell_type": "code",
   "execution_count": 78,
   "metadata": {},
   "outputs": [],
   "source": [
    "def get_importance(g,node):\n",
    "    score = np.inf\n",
    "    for edge in g.edges(node):\n",
    "        score =  min(score,g.get_edge_data(*edge)['weight'])\n",
    "    return(score)"
   ]
  },
  {
   "cell_type": "code",
   "execution_count": 80,
   "metadata": {},
   "outputs": [],
   "source": [
    "importance = []\n",
    "g=pruned[0]\n",
    "for node in g:\n",
    "    importance.append(get_importance(g,node))"
   ]
  },
  {
   "cell_type": "code",
   "execution_count": null,
   "metadata": {},
   "outputs": [],
   "source": [
    "fig=plt.figure(figsize=(14,11))\n",
    "ax = fig.add_subplot(111)\n",
    "ax.hist(importance,10)"
   ]
  },
  {
   "cell_type": "code",
   "execution_count": 4,
   "metadata": {},
   "outputs": [],
   "source": [
    "num=1\n",
    "nodesX=[choice([node for node in pruned[0] if pruned[0].degree(node)==3]) for i in range(num)]\n",
    "nodesY = [choice([node for node in pruned[1] if pruned[1].degree(node)==3]) for i in range(num)]"
   ]
  },
  {
   "cell_type": "code",
   "execution_count": 5,
   "metadata": {},
   "outputs": [
    {
     "ename": "NameError",
     "evalue": "name 'pos_t' is not defined",
     "output_type": "error",
     "traceback": [
      "\u001b[0;31m---------------------------------------------------------------------------\u001b[0m",
      "\u001b[0;31mNameError\u001b[0m                                 Traceback (most recent call last)",
      "\u001b[0;32m<ipython-input-5-fea960248bb0>\u001b[0m in \u001b[0;36m<module>\u001b[0;34m()\u001b[0m\n\u001b[1;32m      4\u001b[0m \u001b[0mg\u001b[0m \u001b[0;34m=\u001b[0m \u001b[0mpruned\u001b[0m\u001b[0;34m[\u001b[0m\u001b[0;36m0\u001b[0m\u001b[0;34m]\u001b[0m\u001b[0;34m\u001b[0m\u001b[0;34m\u001b[0m\u001b[0m\n\u001b[1;32m      5\u001b[0m \u001b[0;32mfor\u001b[0m \u001b[0mnode\u001b[0m \u001b[0;32min\u001b[0m \u001b[0mnodesX\u001b[0m\u001b[0;34m:\u001b[0m\u001b[0;34m\u001b[0m\u001b[0;34m\u001b[0m\u001b[0m\n\u001b[0;32m----> 6\u001b[0;31m     \u001b[0mpos\u001b[0m \u001b[0;34m=\u001b[0m \u001b[0mpos_t\u001b[0m\u001b[0;34m[\u001b[0m\u001b[0mnode\u001b[0m\u001b[0;34m]\u001b[0m\u001b[0;34m\u001b[0m\u001b[0;34m\u001b[0m\u001b[0m\n\u001b[0m\u001b[1;32m      7\u001b[0m     \u001b[0mxy\u001b[0m \u001b[0;34m=\u001b[0m \u001b[0mskels\u001b[0m\u001b[0;34m[\u001b[0m\u001b[0;36m0\u001b[0m\u001b[0;34m]\u001b[0m\u001b[0;34m[\u001b[0m\u001b[0mmax\u001b[0m\u001b[0;34m(\u001b[0m\u001b[0;36m0\u001b[0m\u001b[0;34m,\u001b[0m\u001b[0mpos\u001b[0m\u001b[0;34m[\u001b[0m\u001b[0;36m0\u001b[0m\u001b[0;34m]\u001b[0m\u001b[0;34m-\u001b[0m\u001b[0mwindow\u001b[0m\u001b[0;34m)\u001b[0m\u001b[0;34m:\u001b[0m\u001b[0mpos\u001b[0m\u001b[0;34m[\u001b[0m\u001b[0;36m0\u001b[0m\u001b[0;34m]\u001b[0m\u001b[0;34m+\u001b[0m\u001b[0mwindow\u001b[0m\u001b[0;34m,\u001b[0m\u001b[0mmax\u001b[0m\u001b[0;34m(\u001b[0m\u001b[0;36m0\u001b[0m\u001b[0;34m,\u001b[0m\u001b[0mpos\u001b[0m\u001b[0;34m[\u001b[0m\u001b[0;36m1\u001b[0m\u001b[0;34m]\u001b[0m\u001b[0;34m-\u001b[0m\u001b[0mwindow\u001b[0m\u001b[0;34m)\u001b[0m\u001b[0;34m:\u001b[0m\u001b[0mpos\u001b[0m\u001b[0;34m[\u001b[0m\u001b[0;36m1\u001b[0m\u001b[0;34m]\u001b[0m\u001b[0;34m+\u001b[0m\u001b[0mwindow\u001b[0m\u001b[0;34m]\u001b[0m\u001b[0;34m.\u001b[0m\u001b[0mnonzero\u001b[0m\u001b[0;34m(\u001b[0m\u001b[0;34m)\u001b[0m\u001b[0;34m\u001b[0m\u001b[0;34m\u001b[0m\u001b[0m\n\u001b[1;32m      8\u001b[0m     \u001b[0mxy2\u001b[0m \u001b[0;34m=\u001b[0m \u001b[0mskels\u001b[0m\u001b[0;34m[\u001b[0m\u001b[0;36m1\u001b[0m\u001b[0;34m]\u001b[0m\u001b[0;34m[\u001b[0m\u001b[0mmax\u001b[0m\u001b[0;34m(\u001b[0m\u001b[0;36m0\u001b[0m\u001b[0;34m,\u001b[0m\u001b[0mpos\u001b[0m\u001b[0;34m[\u001b[0m\u001b[0;36m0\u001b[0m\u001b[0;34m]\u001b[0m\u001b[0;34m-\u001b[0m\u001b[0mwindow\u001b[0m\u001b[0;34m)\u001b[0m\u001b[0;34m:\u001b[0m\u001b[0mpos\u001b[0m\u001b[0;34m[\u001b[0m\u001b[0;36m0\u001b[0m\u001b[0;34m]\u001b[0m\u001b[0;34m+\u001b[0m\u001b[0mwindow\u001b[0m\u001b[0;34m,\u001b[0m\u001b[0mmax\u001b[0m\u001b[0;34m(\u001b[0m\u001b[0;36m0\u001b[0m\u001b[0;34m,\u001b[0m\u001b[0mpos\u001b[0m\u001b[0;34m[\u001b[0m\u001b[0;36m1\u001b[0m\u001b[0;34m]\u001b[0m\u001b[0;34m-\u001b[0m\u001b[0mwindow\u001b[0m\u001b[0;34m)\u001b[0m\u001b[0;34m:\u001b[0m\u001b[0mpos\u001b[0m\u001b[0;34m[\u001b[0m\u001b[0;36m1\u001b[0m\u001b[0;34m]\u001b[0m\u001b[0;34m+\u001b[0m\u001b[0mwindow\u001b[0m\u001b[0;34m]\u001b[0m\u001b[0;34m.\u001b[0m\u001b[0mnonzero\u001b[0m\u001b[0;34m(\u001b[0m\u001b[0;34m)\u001b[0m\u001b[0;34m\u001b[0m\u001b[0;34m\u001b[0m\u001b[0m\n",
      "\u001b[0;31mNameError\u001b[0m: name 'pos_t' is not defined"
     ]
    }
   ],
   "source": [
    "X=[]\n",
    "Y=[]\n",
    "window = 200\n",
    "g = pruned[0]\n",
    "for node in nodesX:\n",
    "    pos = pos_t[node]\n",
    "    xy = skels[0][max(0,pos[0]-window):pos[0]+window,max(0,pos[1]-window):pos[1]+window].nonzero()\n",
    "    xy2 = skels[1][max(0,pos[0]-window):pos[0]+window,max(0,pos[1]-window):pos[1]+window].nonzero()\n",
    "    for i,x in enumerate(xy[0]):\n",
    "        y = xy[1][i]\n",
    "        X.append((pos[0]-window+x,pos[1]-window+y))\n",
    "        if i<len(xy2[0]):\n",
    "            x2,y2 = xy2[0][i],xy2[1][i]\n",
    "            Y.append((pos[0]-window+x2,pos[1]-window+y2))\n"
   ]
  },
  {
   "cell_type": "code",
   "execution_count": 6,
   "metadata": {},
   "outputs": [],
   "source": []
  },
  {
   "cell_type": "code",
   "execution_count": 10,
   "metadata": {},
   "outputs": [
    {
     "data": {
      "text/plain": [
       "((3, 2763), (3, 3131))"
      ]
     },
     "execution_count": 10,
     "metadata": {},
     "output_type": "execute_result"
    }
   ],
   "source": [
    "X = np.insert(X, 2, values=0, axis=0) \n",
    "Y = np.insert(Y, 2, values=0, axis=0) \n",
    "X.shape,Y.shape\n"
   ]
  },
  {
   "cell_type": "code",
   "execution_count": 4,
   "metadata": {},
   "outputs": [
    {
     "name": "stdout",
     "output_type": "stream",
     "text": [
      "[[ 0.9966081 -0.0822939]\n",
      " [ 0.0822939  0.9966081]] [[0.11547774]\n",
      " [0.37731306]]\n"
     ]
    },
    {
     "data": {
      "application/vnd.jupyter.widget-view+json": {
       "model_id": "7091bfc7ba0d43008d28bd1c626fba01",
       "version_major": 2,
       "version_minor": 0
      },
      "text/plain": [
       "Canvas(toolbar=Toolbar(toolitems=[('Home', 'Reset original view', 'home', 'home'), ('Back', 'Back to previous …"
      ]
     },
     "metadata": {},
     "output_type": "display_data"
    },
    {
     "name": "stdout",
     "output_type": "stream",
     "text": [
      "registration::RegistrationResult with fitness=1.000000e+00, inlier_rmse=9.583941e-01, and correspondence_set size of 4000\n",
      "Access transformation to get result.\n",
      "Transformation is:\n",
      "[[ 0.9968446  -0.07937788  0.         -1.40800181]\n",
      " [ 0.07937788  0.9968446   0.          1.7217043 ]\n",
      " [ 0.          0.          1.          0.        ]\n",
      " [ 0.          0.          0.          1.        ]]\n"
     ]
    }
   ],
   "source": [
    "X = []\n",
    "dimx = 1000\n",
    "dimy = 1000\n",
    "for i in range(dimx):\n",
    "    X.append((i,0))\n",
    "    X.append((i,dimy))\n",
    "for i in range(dimy):\n",
    "    X.append((dimx,i))\n",
    "    X.append((0,i))\n",
    "X=np.transpose(np.array(X))\n",
    "angle = np.random.uniform(0,np.pi/16)\n",
    "R=np.array([[np.cos(angle),-np.sin(angle)],[np.sin(angle),np.cos(angle)]])\n",
    "t = np.random.uniform(0,1,(2,1))\n",
    "print(R,t)\n",
    "Y=np.transpose(np.transpose(np.dot(R,X))+np.transpose(t))\n",
    "np.random.shuffle(np.transpose(Y))\n",
    "fig=plt.figure(figsize=(10,9))\n",
    "\n",
    "ax = fig.add_subplot(111)\n",
    "ax.scatter(X[0,:],X[1,:])\n",
    "ax.scatter(Y[0,:],Y[1,:])\n",
    "X = np.insert(X, 2, values=0, axis=0) \n",
    "Y = np.insert(Y, 2, values=0, axis=0) \n",
    "vectorX = o3d.utility.Vector3dVector(np.transpose(X))\n",
    "vectorY = o3d.utility.Vector3dVector(np.transpose(Y))\n",
    "source = o3d.geometry.PointCloud(vectorX)\n",
    "target = o3d.geometry.PointCloud(vectorY)\n",
    "threshold = 20\n",
    "trans_init = np.asarray([[1, 0, 0, 0],\n",
    "                         [0, 1, 0, 0],\n",
    "                         [0, 0, 1, 0], [0.0, 0.0, 0.0, 1.0]])\n",
    "reg_p2p = o3d.registration.registration_icp(\n",
    "    source, target, threshold, trans_init,\n",
    "    o3d.registration.TransformationEstimationPointToPoint())\n",
    "print(reg_p2p)\n",
    "print(\"Transformation is:\")\n",
    "print(reg_p2p.transformation)"
   ]
  },
  {
   "cell_type": "code",
   "execution_count": 92,
   "metadata": {},
   "outputs": [
    {
     "data": {
      "text/plain": [
       "((2, 2014), (2, 2014))"
      ]
     },
     "execution_count": 92,
     "metadata": {},
     "output_type": "execute_result"
    }
   ],
   "source": [
    "X.shape,Y.shape"
   ]
  },
  {
   "cell_type": "code",
   "execution_count": null,
   "metadata": {},
   "outputs": [
    {
     "data": {
      "application/vnd.jupyter.widget-view+json": {
       "model_id": "6adba99f5f034df39f32b3a5a589610c",
       "version_major": 2,
       "version_minor": 0
      },
      "text/plain": [
       "Canvas(toolbar=Toolbar(toolitems=[('Home', 'Reset original view', 'home', 'home'), ('Back', 'Back to previous …"
      ]
     },
     "metadata": {},
     "output_type": "display_data"
    }
   ],
   "source": [
    "fig=plt.figure(figsize=(10,9))\n",
    "ax = fig.add_subplot(111)\n",
    "ax.scatter(X[0,:],X[1,:])\n",
    "ax.scatter(Y[0,:],Y[1,:])\n",
    "reg = RigidRegistration(R=np.array([[1,0],[0,1]]),t=np.array([[0,0]]),**{'X': np.transpose(X), 'Y': np.transpose(Y)})\n",
    "out = reg.register()\n",
    "Rfound = reg.R\n",
    "tfound= reg.t\n",
    "print(Rfound,tfound)\n",
    "Yrep=np.transpose(np.transpose(np.dot(Rfound,np.transpose(np.transpose(X))))-tfound)\n",
    "fig=plt.figure(figsize=(10,9))\n",
    "ax = fig.add_subplot(111)\n",
    "ax.scatter(np.transpose(Y)[:,0],np.transpose(Y)[:,1])\n",
    "ax.scatter(np.transpose(Yrep)[:,0],np.transpose(Yrep)[:,1])"
   ]
  },
  {
   "cell_type": "code",
   "execution_count": 54,
   "metadata": {},
   "outputs": [],
   "source": [
    "def realign_final(skeleton1,skeleton2):\n",
    "    nx_graph1,pos1 = generate_nx_graph(from_sparse_to_graph(skeleton1))\n",
    "    nx_graph2,pos2 = generate_nx_graph(from_sparse_to_graph(skeleton2))\n",
    "    pruned1 = prune_graph(nx_graph1)\n",
    "    pruned2 = prune_graph(nx_graph2)\n",
    "    X = np.transpose(np.array([pos1[node] for node in pruned1 if pruned1.degree(node)==3]))\n",
    "    Y = np.transpose(np.array([pos2[node] for node in pruned2 if pruned2.degree(node)==3]))\n",
    "    reg = RigidRegistration(R=np.array([[1,0],[0,1]]),t=np.array([[0,0]]),**{'X': np.transpose(X), 'Y': np.transpose(Y)})\n",
    "    out = reg.register()\n",
    "    Rfound = reg.R\n",
    "    tfound= reg.t\n",
    "    skel_transformed = transform_skeleton(skeleton2,Rfound,tfound)\n",
    "    skel_mat = np.zeros((26322, 49527),dtype=np.uint8)\n",
    "    for pixel in skel_transformed.keys():\n",
    "        skel_mat[pixel]=1\n",
    "    return(skel_mat,Rfound,tfound)"
   ]
  },
  {
   "cell_type": "code",
   "execution_count": 104,
   "metadata": {},
   "outputs": [
    {
     "name": "stdout",
     "output_type": "stream",
     "text": [
      "[700.88858]\n",
      "[1012.7436]\n"
     ]
    }
   ],
   "source": [
    "\n",
    "def transform_skeleton(skeleton_doc,Rot,trans):\n",
    "    transformed_skeleton={}\n",
    "    transformed_keys = (np.round(np.transpose(np.dot(np.linalg.inv(Rot),np.transpose(np.array(list(skeleton_doc.keys())))))+trans).astype(np.int))\n",
    "    i=0\n",
    "    for pixel in list(transformed_keys):\n",
    "        i+=1\n",
    "        transformed_skeleton[(pixel[0],pixel[1])]=1\n",
    "    return(transformed_skeleton)\n",
    "def transform_skeleton(skeleton_doc,Rot,trans):\n",
    "    transformed_skeleton={}\n",
    "    transformed_keys = (np.round(np.transpose(np.dot(np.linalg.inv(Rot),np.transpose(np.array(list(skeleton_doc.keys())))))+trans).astype(np.int))\n",
    "    i=0\n",
    "    for pixel in list(transformed_keys):\n",
    "        i+=1\n",
    "        transformed_skeleton[(pixel[0],pixel[1])]=1\n",
    "    return(transformed_skeleton)\n",
    "skel_mat3 = realign_final(skel_docs[0],skel_docs[1])"
   ]
  },
  {
   "cell_type": "code",
   "execution_count": 122,
   "metadata": {},
   "outputs": [],
   "source": [
    "skel_mat = np.zeros(skels[0].shape,dtype=np.uint8)\n",
    "for pixel in skel_transformed.keys():\n",
    "    skel_mat[pixel]=1"
   ]
  },
  {
   "cell_type": "code",
   "execution_count": 123,
   "metadata": {},
   "outputs": [
    {
     "data": {
      "application/vnd.jupyter.widget-view+json": {
       "model_id": "19893a18cdcb419db4ce2a9d533dcda1",
       "version_major": 2,
       "version_minor": 0
      },
      "text/plain": [
       "Canvas(toolbar=Toolbar(toolitems=[('Home', 'Reset original view', 'home', 'home'), ('Back', 'Back to previous …"
      ]
     },
     "metadata": {},
     "output_type": "display_data"
    }
   ],
   "source": [
    "plt.close('all')\n",
    "plot_t_tp1([],[],None,None,skel_mat[19000:21000,44000:46000],skels[0][19000:21000,44000:46000])"
   ]
  },
  {
   "cell_type": "code",
   "execution_count": 48,
   "metadata": {},
   "outputs": [
    {
     "data": {
      "application/vnd.jupyter.widget-view+json": {
       "model_id": "86965481e7e04eac9dc0a6c9ff4032c5",
       "version_major": 2,
       "version_minor": 0
      },
      "text/plain": [
       "Canvas(toolbar=Toolbar(toolitems=[('Home', 'Reset original view', 'home', 'home'), ('Back', 'Back to previous …"
      ]
     },
     "metadata": {},
     "output_type": "display_data"
    }
   ],
   "source": [
    "plt.close('all')\n",
    "plot_t_tp1([],[],None,None,skel_mat[19000:21000,44000:46000],skels[1][19000:21000,44000:46000])"
   ]
  },
  {
   "cell_type": "code",
   "execution_count": 51,
   "metadata": {},
   "outputs": [
    {
     "data": {
      "application/vnd.jupyter.widget-view+json": {
       "model_id": "edbae2795c2f4b6bb5932f28cdca0423",
       "version_major": 2,
       "version_minor": 0
      },
      "text/plain": [
       "Canvas(toolbar=Toolbar(toolitems=[('Home', 'Reset original view', 'home', 'home'), ('Back', 'Back to previous …"
      ]
     },
     "metadata": {},
     "output_type": "display_data"
    }
   ],
   "source": [
    "plot_t_tp1([],[],None,None,skel_mat2[19000:21000,44000:46000],skels[1][19000:21000,44000:46000])"
   ]
  },
  {
   "cell_type": "code",
   "execution_count": 16,
   "metadata": {},
   "outputs": [
    {
     "data": {
      "application/vnd.jupyter.widget-view+json": {
       "model_id": "1cde227f3fa84d46a8546885a7a84bf9",
       "version_major": 2,
       "version_minor": 0
      },
      "text/plain": [
       "Canvas(toolbar=Toolbar(toolitems=[('Home', 'Reset original view', 'home', 'home'), ('Back', 'Back to previous …"
      ]
     },
     "metadata": {},
     "output_type": "display_data"
    }
   ],
   "source": [
    "plot_t_tp1([],[],None,None,skels[0][19000:21000,44000:46000],skels[1][19000:21000,44000:46000])"
   ]
  },
  {
   "cell_type": "code",
   "execution_count": 27,
   "metadata": {},
   "outputs": [],
   "source": [
    "import pandas as pd\n",
    "import networkx as nx\n",
    "import numpy as np\n",
    "from extract_graph import generate_nx_graph, transform_list, generate_skeleton, generate_nx_graph_from_skeleton, from_nx_to_tab\n",
    "from node_id import whole_movement_identification\n",
    "import ast\n",
    "from plotutil import plot_t_tp1\n",
    "from scipy import sparse\n",
    "from sparse_util import dilate, zhangSuen\n",
    "from scipy.optimize import minimize\n",
    "from time import time\n",
    "\n",
    "\n",
    "def transform_skeleton(skeleton_doc,Rot,trans):\n",
    "    transformed_skeleton={}\n",
    "    transformed_keys = np.round(np.transpose(np.dot(Rot,np.transpose(np.array(list(skeleton_doc.keys())))))+trans).astype(np.int)\n",
    "    i=0\n",
    "    for pixel in list(transformed_keys):\n",
    "        i+=1\n",
    "        transformed_skeleton[(pixel[0],pixel[1])]=1\n",
    "    return(transformed_skeleton)\n",
    "\n",
    "def realign(skeleton1,nx_graphB,posB,convergence_threshold,window=500,maxdist=50,save=''):\n",
    "    converged=False\n",
    "    nx_graphA,posA=generate_nx_graph_from_skeleton(skeleton1) \n",
    "    t0=np.array([0,0])\n",
    "    R0=np.identity(2)\n",
    "    while not converged:\n",
    "        listeA,listeB = find_common_group_nodes(nx_graphA,nx_graphB,posA,posB,R0,t0,maxdist=maxdist,window=window)\n",
    "        H=np.dot(np.transpose(np.array(listeA)-np.mean(listeA,axis=0)),np.array(listeB)-np.mean(listeB,axis=0))\n",
    "        U,S,V=np.linalg.svd(H)\n",
    "        R=np.dot(V,np.transpose(U))\n",
    "        t=np.mean(listeB,axis=0)-np.dot(R,np.mean(listeA,axis=0))\n",
    "        print(\"number_common_nodes_found :\",len(listeA))\n",
    "        if np.linalg.norm(t)<=convergence_threshold:\n",
    "            converged=True\n",
    "        R0=np.dot(R,R0)\n",
    "        t0=t+t0\n",
    "    skeleton_transformed=transform_skeleton(skeleton1,R0,t0)\n",
    "    skeleton_transformed=dilate(skeleton_transformed)\n",
    "    skeleton_transformed=dilate(skeleton_transformed)\n",
    "    skeleton_transformed=zhangSuen(skeleton_transformed)\n",
    "    if len(save)>=0:\n",
    "        from_nx_to_tab(*generate_nx_graph_from_skeleton(skeleton_transformed)).to_csv(save+'_raw_aligned_skeleton.csv')\n",
    "        np.savetxt(save+'rot.txt',R0)\n",
    "        np.savetxt(save+'trans.txt',t0)\n",
    "    print(\"R0=\",R0,'t0=',t0)\n",
    "    return(skeleton_transformed)\n",
    "\n",
    "def find_common_group_nodes(Sa,Sb,degree3_nodesa,degree3_nodesb,posa,posb,R0,t0,window=500,maxdist=50):\n",
    "    common_nodes_a = []\n",
    "    common_nodes_b = []\n",
    "    common_centroida = []\n",
    "    common_centroidb = []\n",
    "    t=time()\n",
    "    posarottrans = {key : np.round(np.transpose(np.dot(R0,np.transpose(np.array(posa[key])))+t0)).astype(np.int) for key in degree3_nodesa}\n",
    "#     print(\"rotating translating\",time()-t)\n",
    "    for node in degree3_nodesa:\n",
    "        t=time()\n",
    "        posanchor=posarottrans[node]\n",
    "        potential_surroundinga=Sa[posanchor[0]-2*window:posanchor[0]+2*window,posanchor[1]-2*window:posanchor[1]+2*window]\n",
    "        potential_surroundingb=Sb[posanchor[0]-2*window:posanchor[0]+2*window,posanchor[1]-2*window:posanchor[1]+2*window]\n",
    "#         print(\"candidates\",len(potential_surroundinga.data))\n",
    "#         print(\"finding_potential_surrounding\",time()-t)\n",
    "        t=time()\n",
    "        surrounding_nodesa=[node for node in potential_surroundinga.data if \n",
    "                            (posanchor[0]-window<posarottrans[int(node)][0]<posanchor[0]+window and posanchor[1]-window<posarottrans[int(node)][1]<posanchor[1]+window \n",
    "                             )]\n",
    "        surrounding_nodesb=[node for node in potential_surroundingb.data if \n",
    "                    (posanchor[0]-window<posb[int(node)][0]<posanchor[0]+window and posanchor[1]-window<posb[int(node)][1]<posanchor[1]+window \n",
    "                    )]\n",
    "#         print(\"finding_surrounding\",time()-t)\n",
    "        t=time()\n",
    "        if len(surrounding_nodesa)==len(surrounding_nodesb):\n",
    "            possurroundinga=[posarottrans[node] for node in surrounding_nodesa]\n",
    "            possurroundingb=[posb[node] for node in surrounding_nodesb]\n",
    "            centroida= np.mean(possurroundinga,axis=0)\n",
    "            centroidb= np.mean(possurroundingb,axis=0)\n",
    "            if np.linalg.norm(centroida-centroidb)<=maxdist:\n",
    "                common_centroida.append(centroida)\n",
    "                common_centroidb.append(centroidb)\n",
    "    return(common_centroida,common_centroidb)\n",
    "\n",
    "def realign2(skeleton1,skeleton2,convergence_threshold,window=500,maxdist=50,save=''):\n",
    "    converged=False\n",
    "    tim=time()\n",
    "    nx_graphA,posA=generate_nx_graph_from_skeleton(skeleton1)\n",
    "    nx_graphB,posB=generate_nx_graph_from_skeleton(skeleton2)\n",
    "    print(\"generate_nx_graph_from_skeleton, t=\",tim-time())\n",
    "    tim=time()\n",
    "    t0=np.array([0,0])\n",
    "    R0=np.identity(2)\n",
    "    degree3_nodesa = [node for node in nx_graphA if nx_graphA.degree(node)==3]\n",
    "    degree3_nodesb = [node for node in nx_graphB if nx_graphB.degree(node)==3]\n",
    "    print(\"lennodes=\",len(degree3_nodesa))\n",
    "    Sa=sparse.csr_matrix((26296, 49559))\n",
    "    Sb=sparse.csr_matrix((26296, 49559))\n",
    "    for node in degree3_nodesa:\n",
    "        Sa[posA[node][0],posA[node][1]]=node\n",
    "    for node in degree3_nodesb:\n",
    "        Sb[posB[node][0],posB[node][1]]=node\n",
    "    while not converged:\n",
    "        listeA,listeB = find_common_group_nodes(Sa,Sb,degree3_nodesa,degree3_nodesb,posA,posB,R0,t0,maxdist=maxdist,window=window)\n",
    "        H=np.dot(np.transpose(np.array(listeA)-np.mean(listeA,axis=0)),np.array(listeB)-np.mean(listeB,axis=0))\n",
    "        U,S,V=np.linalg.svd(H)\n",
    "        R=np.dot(V,np.transpose(U))\n",
    "        t=np.mean(listeB,axis=0)-np.dot(R,np.mean(listeA,axis=0))\n",
    "        print(\"number_common_nodes_found :\",len(listeA))\n",
    "        if np.linalg.norm(t)<=convergence_threshold:\n",
    "            converged=True\n",
    "        R0=np.dot(R,R0)\n",
    "        t0=t+t0\n",
    "    print(\"Find R and T, t=\",tim-time())\n",
    "    tim=time()\n",
    "    skeleton_transformed=transform_skeleton(skeleton1,R0,t0)\n",
    "    skeleton_transformed=dilate(skeleton_transformed)\n",
    "    skeleton_transformed=zhangSuen(skeleton_transformed)\n",
    "    print(\"transform, dilate and thin, t=\",tim-time())\n",
    "    tim=time()\n",
    "    if len(save)>=0:\n",
    "        from_nx_to_tab(*generate_nx_graph_from_skeleton(skeleton_transformed)).to_csv(save+'_raw_aligned_skeleton.csv')\n",
    "        np.savetxt(save+'rot.txt',R0)\n",
    "        np.savetxt(save+'trans.txt',t0)\n",
    "    print(\"R0=\",R0,'t0=',t0)\n",
    "    return(skeleton_transformed)\n",
    "\n",
    "def reconnect(skeleton):\n",
    "    skeleton_transformed=dilate(skeleton)\n",
    "    skeleton_transformed=zhangSuen(skeleton_transformed)\n",
    "    return(skeleton_transformed)\n",
    "\n",
    "\n",
    "def shift(skeleton1,skeleton2):\n",
    "    skeleton1_dilated = dilate(dilate(skeleton1)).astype(np.float)\n",
    "    skeleton2_dilated = dilate(dilate(skeleton2)).astype(np.float)\n",
    "    def distance(shift):\n",
    "        distance=0\n",
    "#         print(shift)\n",
    "        for pixel in skeleton1_dilated.keys():\n",
    "#             print(pixel[0]+shift[0],pixel[1]+shift[1])\n",
    "            if (skeleton2_dilated.shape[0]>np.ceil(pixel[0]+shift[0])>=0 and skeleton2_dilated.shape[1]>np.ceil(pixel[1]+shift[1])>=0):\n",
    "                shifted_pixel = (int(pixel[0]+shift[0]),int(pixel[1]+shift[1]))\n",
    "                shifted_pixel_next = (np.ceil(pixel[0]+shift[0]),np.ceil(pixel[1]+shift[1]))\n",
    "#                 print(shifted_pixel)\n",
    "                prop=1/2*(pixel[0]+shift[0]-int(pixel[0]+shift[0])+pixel[1]+shift[1]-int(pixel[1]+shift[1]))\n",
    "                float_value=(1-prop)*skeleton2_dilated[shifted_pixel[0],shifted_pixel[1]]+prop*(skeleton2_dilated[shifted_pixel_next[0],shifted_pixel_next[1]])\n",
    "                distance+=abs(skeleton1_dilated[pixel]-float_value)\n",
    "            else:\n",
    "                distance+=1\n",
    "#         for pixel in skeleton2_dilated.keys():\n",
    "#             if (skeleton2_dilated.shape[0]>pixel[0]-shift[0]>=0 and skeleton2_dilated.shape[1]>pixel[1]-shift[1]>=0):\n",
    "#                 shifted_pixel = (int(pixel[0]-shift[0]),int(pixel[1]-shift[1]))\n",
    "#                 distance+=abs(skeleton1_dilated[shifted_pixel[0],shifted_pixel[1]]^skeleton2_dilated[pixel])\n",
    "#             else:\n",
    "#                 distance+=1\n",
    "#         print(distance)\n",
    "        return distance\n",
    "    return(minimize(distance,np.array([10,10]), method='nelder-mead',options={'xatol': 1, 'disp': True,'fatol':0.1}))"
   ]
  },
  {
   "cell_type": "code",
   "execution_count": null,
   "metadata": {},
   "outputs": [],
   "source": []
  }
 ],
 "metadata": {
  "kernelspec": {
   "display_name": "Python 3",
   "language": "python",
   "name": "python3"
  },
  "language_info": {
   "codemirror_mode": {
    "name": "ipython",
    "version": 3
   },
   "file_extension": ".py",
   "mimetype": "text/x-python",
   "name": "python",
   "nbconvert_exporter": "python",
   "pygments_lexer": "ipython3",
   "version": "3.7.8"
  }
 },
 "nbformat": 4,
 "nbformat_minor": 4
}

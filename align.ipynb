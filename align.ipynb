{
 "cells": [
  {
   "cell_type": "code",
   "execution_count": 5,
   "metadata": {},
   "outputs": [
    {
     "name": "stdout",
     "output_type": "stream",
     "text": [
      "========\n",
      "Matching plate 22 at dates [datetime.datetime(2020, 12, 12, 3, 1), datetime.datetime(2020, 12, 12, 7, 1)]\n",
      "========\n",
      "2020-12-12 03:01:00\n",
      "2020-12-12 07:01:00\n"
     ]
    }
   ],
   "source": [
    "%matplotlib widget\n",
    "\n",
    "from util import get_path, get_dates_datetime, get_dirname\n",
    "import pandas as pd\n",
    "import networkx as nx\n",
    "import numpy as np\n",
    "import matplotlib.pyplot as plt\n",
    "from extract_graph import (\n",
    "    generate_nx_graph,\n",
    "    transform_list,\n",
    "    generate_skeleton,\n",
    "    generate_nx_graph_from_skeleton,\n",
    "    from_connection_tab,\n",
    "    from_nx_to_tab,\n",
    ")\n",
    "from node_id import whole_movement_identification, second_identification\n",
    "import ast\n",
    "from plotutil import plot_t_tp1, compress_skeleton\n",
    "from scipy import sparse\n",
    "from sparse_util import dilate, zhangSuen\n",
    "from realign import realign, realign_final\n",
    "from datetime import datetime, timedelta\n",
    "from node_id import orient\n",
    "import pickle\n",
    "from matplotlib.widgets import CheckButtons\n",
    "import scipy.io as sio\n",
    "import imageio\n",
    "from pymatreader import read_mat\n",
    "from matplotlib import colors\n",
    "from copy import deepcopy, copy\n",
    "from collections import Counter\n",
    "import cv2\n",
    "import imageio\n",
    "import matplotlib.pyplot as plt\n",
    "import numpy as np\n",
    "from skimage.filters import frangi\n",
    "from skimage.morphology import thin\n",
    "from skimage import data, filters\n",
    "from random import choice\n",
    "import scipy.sparse\n",
    "import os\n",
    "from time import time\n",
    "from extract_graph import (\n",
    "    dic_to_sparse,\n",
    "    from_sparse_to_graph,\n",
    "    generate_nx_graph,\n",
    "    prune_graph,\n",
    "    from_nx_to_tab,\n",
    "    from_nx_to_tab_matlab,\n",
    "    sparse_to_doc,\n",
    "    connections_pixel_list_to_tab,\n",
    "    transform_list,\n",
    "    clean_degree_4,\n",
    "    get_degree3_nodes,\n",
    ")\n",
    "from time import sleep\n",
    "from pycpd import RigidRegistration, DeformableRegistration\n",
    "import open3d as o3d\n",
    "from cycpd import rigid_registration\n",
    "import sys\n",
    "i = 26\n",
    "plate = 22\n",
    "thresh = 100000\n",
    "directory = \"/projects/0/einf914/data/\"\n",
    "\n",
    "dates_datetime = get_dates_datetime(directory,plate)\n",
    "dates_datetime.sort()\n",
    "dates_datetime_chosen = dates_datetime[i : i + 2]\n",
    "print(\"========\")\n",
    "print(f\"Matching plate {plate} at dates {dates_datetime_chosen}\")\n",
    "print(\"========\")\n",
    "dates = dates_datetime_chosen\n",
    "kernel = np.ones((5,5),np.uint8)\n",
    "itera = 1\n",
    "dilateds = []\n",
    "skels2 = []\n",
    "skels = []\n",
    "skel_docs = []\n",
    "for date in dates:\n",
    "    print (date)\n",
    "    directory_name = get_dirname(date, plate)\n",
    "    path_snap = directory + directory_name\n",
    "    skel_info = read_mat(path_snap + \"/Analysis/skeleton_pruned.mat\")\n",
    "    skel_info2 = read_mat(path_snap+'/Analysis/skeleton_pruned_compressed.mat')\n",
    "    skel = skel_info[\"skeleton\"]\n",
    "    skel2 = skel_info2['skeleton']\n",
    "    skels2.append(cv2.dilate(skel2.astype(np.uint8),kernel,iterations = itera))\n",
    "    skels.append(skel)\n",
    "    skel_doc = sparse_to_doc(skel)\n",
    "    skel_docs.append(skel_doc)\n",
    "\n"
   ]
  },
  {
   "cell_type": "code",
   "execution_count": 6,
   "metadata": {},
   "outputs": [
    {
     "data": {
      "application/vnd.jupyter.widget-view+json": {
       "model_id": "8113540bb3da4fc28409cf8b1704ba67",
       "version_major": 2,
       "version_minor": 0
      },
      "text/plain": [
       "Canvas(toolbar=Toolbar(toolitems=[('Home', 'Reset original view', 'home', 'home'), ('Back', 'Back to previous …"
      ]
     },
     "metadata": {},
     "output_type": "display_data"
    }
   ],
   "source": [
    "plt.close('all')\n",
    "start = 0\n",
    "finish = start +1\n",
    "for i in range(start,finish):\n",
    "    plot_t_tp1([],[],None,None,skels2[i],skels2[i+1])"
   ]
  },
  {
   "cell_type": "code",
   "execution_count": 17,
   "metadata": {
    "collapsed": true,
    "jupyter": {
     "outputs_hidden": true
    }
   },
   "outputs": [
    {
     "name": "stdout",
     "output_type": "stream",
     "text": [
      "Iteration:1\n",
      "ML: 17200.991; \tML change (error): 17200.991; \tSigma^2:13453960.647; \tSigma^2 change:18660922.898\n",
      "[                                                                        ]\n",
      "Iteration:2\n",
      "ML: 16430.505; \tML change (error):   770.485; \tSigma^2:7051075.036; \tSigma^2 change:6402885.611\n",
      "[=                                                                       ]\n",
      "Iteration:3\n",
      "ML: 15968.945; \tML change (error):   461.560; \tSigma^2:4248790.151; \tSigma^2 change:2802284.885\n",
      "[==                                                                      ]\n",
      "Iteration:4\n",
      "ML: 15668.512; \tML change (error):   300.433; \tSigma^2:2856613.510; \tSigma^2 change:1392176.641\n",
      "[==                                                                      ]\n",
      "Iteration:5\n",
      "ML: 15473.911; \tML change (error):   194.601; \tSigma^2:2086804.939; \tSigma^2 change:769808.572\n",
      "[===                                                                     ]\n",
      "Iteration:6\n",
      "ML: 15346.623; \tML change (error):   127.288; \tSigma^2:1623000.657; \tSigma^2 change:463804.281\n",
      "[====                                                                    ]\n",
      "Iteration:7\n",
      "ML: 15262.060; \tML change (error):    84.563; \tSigma^2:1324600.878; \tSigma^2 change:298399.779\n",
      "[=====                                                                   ]\n",
      "Iteration:8\n",
      "ML: 15205.251; \tML change (error):    56.810; \tSigma^2:1123477.901; \tSigma^2 change:201122.977\n",
      "[=====                                                                   ]\n",
      "Iteration:9\n",
      "ML: 15167.132; \tML change (error):    38.119; \tSigma^2:983660.790; \tSigma^2 change:139817.111\n",
      "[======                                                                  ]\n",
      "Iteration:10\n",
      "ML: 15141.903; \tML change (error):    25.229; \tSigma^2:884493.164; \tSigma^2 change: 99167.625\n",
      "[=======                                                                 ]\n",
      "Iteration:11\n",
      "ML: 15125.563; \tML change (error):    16.340; \tSigma^2:813231.079; \tSigma^2 change: 71262.086\n",
      "[=======                                                                 ]\n",
      "Iteration:12\n",
      "ML: 15115.239; \tML change (error):    10.324; \tSigma^2:761573.915; \tSigma^2 change: 51657.164\n",
      "[========                                                                ]\n",
      "Iteration:13\n",
      "ML: 15108.871; \tML change (error):     6.367; \tSigma^2:723904.808; \tSigma^2 change: 37669.107\n",
      "[=========                                                               ]\n",
      "Iteration:14\n",
      "ML: 15105.029; \tML change (error):     3.842; \tSigma^2:696322.028; \tSigma^2 change: 27582.780\n",
      "[==========                                                              ]\n",
      "Iteration:15\n",
      "ML: 15102.753; \tML change (error):     2.276; \tSigma^2:676065.804; \tSigma^2 change: 20256.224\n",
      "[==========                                                              ]\n",
      "Iteration:16\n",
      "ML: 15101.425; \tML change (error):     1.328; \tSigma^2:661159.202; \tSigma^2 change: 14906.602\n",
      "[===========                                                             ]\n",
      "Iteration:17\n",
      "ML: 15100.658; \tML change (error):     0.766; \tSigma^2:650173.252; \tSigma^2 change: 10985.949\n",
      "[============                                                            ]\n",
      "Iteration:18\n",
      "ML: 15100.220; \tML change (error):     0.438; \tSigma^2:642068.371; \tSigma^2 change:  8104.882\n",
      "[============                                                            ]\n",
      "Iteration:19\n",
      "ML: 15099.971; \tML change (error):     0.249; \tSigma^2:636084.710; \tSigma^2 change:  5983.661\n",
      "[=============                                                           ]\n",
      "Iteration:20\n",
      "ML: 15099.829; \tML change (error):     0.141; \tSigma^2:631665.004; \tSigma^2 change:  4419.706\n",
      "[==============                                                          ]\n",
      "Iteration:21\n",
      "ML: 15099.750; \tML change (error):     0.080; \tSigma^2:628399.546; \tSigma^2 change:  3265.458\n",
      "[===============                                                         ]\n",
      "Iteration:22\n",
      "ML: 15099.705; \tML change (error):     0.045; \tSigma^2:625986.569; \tSigma^2 change:  2412.977\n",
      "[===============                                                         ]\n",
      "Iteration:23\n",
      "ML: 15099.679; \tML change (error):     0.026; \tSigma^2:624203.514; \tSigma^2 change:  1783.055\n",
      "[================                                                        ]\n",
      "Iteration:24\n",
      "ML: 15099.665; \tML change (error):     0.014; \tSigma^2:622886.078; \tSigma^2 change:  1317.436\n",
      "[=================                                                       ]\n",
      "Iteration:25\n",
      "ML: 15099.656; \tML change (error):     0.008; \tSigma^2:621912.879; \tSigma^2 change:   973.199\n",
      "[==================                                                      ]\n",
      "Iteration:26\n",
      "ML: 15099.652; \tML change (error):     0.005; \tSigma^2:621194.198; \tSigma^2 change:   718.682\n",
      "[==================                                                      ]\n",
      "Iteration:27\n",
      "ML: 15099.649; \tML change (error):     0.003; \tSigma^2:620663.693; \tSigma^2 change:   530.505\n",
      "[===================                                                     ]\n",
      "Iteration:28\n",
      "ML: 15099.647; \tML change (error):     0.002; \tSigma^2:620272.300; \tSigma^2 change:   391.393\n",
      "[====================                                                    ]\n",
      "Iteration:29\n",
      "ML: 15099.646; \tML change (error):     0.001; \tSigma^2:619983.727; \tSigma^2 change:   288.573\n",
      "[====================                                                    ]\n",
      "Iteration:30\n",
      "ML: 15099.646; \tML change (error):     0.001; \tSigma^2:619771.126; \tSigma^2 change:   212.601\n",
      "[=====================                                                   ]\n",
      "Iteration:31\n",
      "ML: 15099.646; \tML change (error):     0.000; \tSigma^2:619614.640; \tSigma^2 change:   156.486\n",
      "[======================                                                  ]\n",
      "Iteration:32\n",
      "ML: 15099.645; \tML change (error):     0.000; \tSigma^2:619499.582; \tSigma^2 change:   115.059\n",
      "[=======================                                                 ]\n",
      "Iteration:33\n",
      "ML: 15099.645; \tML change (error):     0.000; \tSigma^2:619415.090; \tSigma^2 change:    84.492\n",
      "[=======================                                                 ]\n",
      "Iteration:34\n",
      "ML: 15099.645; \tML change (error):     0.000; \tSigma^2:619353.136; \tSigma^2 change:    61.954\n",
      "[========================                                                ]\n",
      "Iteration:35\n",
      "ML: 15099.645; \tML change (error):     0.000; \tSigma^2:619307.787; \tSigma^2 change:    45.349\n",
      "[=========================                                               ]\n",
      "Iteration:36\n",
      "ML: 15099.645; \tML change (error):     0.000; \tSigma^2:619274.658; \tSigma^2 change:    33.128\n",
      "[=========================                                               ]\n",
      "Iteration:37\n",
      "ML: 15099.645; \tML change (error):     0.000; \tSigma^2:619250.516; \tSigma^2 change:    24.143\n",
      "[==========================                                              ]\n",
      "Iteration:38\n",
      "ML: 15099.645; \tML change (error):     0.000; \tSigma^2:619232.970; \tSigma^2 change:    17.546\n",
      "[===========================                                             ]\n",
      "Iteration:39\n",
      "ML: 15099.645; \tML change (error):     0.000; \tSigma^2:619220.261; \tSigma^2 change:    12.709\n",
      "[============================                                            ]\n",
      "========================================================================\n",
      "Registration Performance Metrics\n",
      "========================================================================\n",
      "Time to initialize EM: 0.00698089599609375\n",
      "Time to initialize registration: 4.9114227294921875e-05\n",
      "Average Expectation Time:                    0.1100 +/- 0.0020\n",
      "Average Maximization Time:                   0.0008 +/- 0.0002\n",
      "Maximization Times - Per individual step\n",
      "Average Update Transform Time:               0.0005 +/- 0.0002\n",
      "Average Transform Time:                      0.0001 +/- 0.0001\n",
      "Average Update Variance Time:                0.0002 +/- 0.0000\n",
      "\n",
      "Number of iterations performed:          39\n",
      "Error at time of finish:                 9.941773896571249e-06\n",
      "========\n",
      "Failed to match plate 22 at dates [datetime.datetime(2020, 12, 12, 3, 1), datetime.datetime(2020, 12, 12, 7, 1)]\n",
      "========\n",
      "Iteration:1\n",
      "ML: 17977.800; \tML change (error): 17977.800; \tSigma^2:13514935.950; \tSigma^2 change:18646739.195\n",
      "[                                                                        ]\n",
      "Iteration:2\n",
      "ML: 17143.914; \tML change (error):   833.886; \tSigma^2:6928060.346; \tSigma^2 change:6586875.604\n",
      "[=                                                                       ]\n",
      "Iteration:3\n",
      "ML: 16624.744; \tML change (error):   519.170; \tSigma^2:4028704.758; \tSigma^2 change:2899355.588\n",
      "[==                                                                      ]\n",
      "Iteration:4\n",
      "ML: 16264.658; \tML change (error):   360.086; \tSigma^2:2588654.151; \tSigma^2 change:1440050.607\n",
      "[==                                                                      ]\n",
      "Iteration:5\n",
      "ML: 16011.728; \tML change (error):   252.931; \tSigma^2:1786961.028; \tSigma^2 change:801693.123\n",
      "[===                                                                     ]\n",
      "Iteration:6\n",
      "ML: 15825.630; \tML change (error):   186.097; \tSigma^2:1296284.336; \tSigma^2 change:490676.693\n",
      "[====                                                                    ]\n",
      "Iteration:7\n",
      "ML: 15680.688; \tML change (error):   144.943; \tSigma^2:972889.916; \tSigma^2 change:323394.419\n",
      "[=====                                                                   ]\n",
      "Iteration:8\n",
      "ML: 15561.420; \tML change (error):   119.268; \tSigma^2:747430.984; \tSigma^2 change:225458.932\n",
      "[=====                                                                   ]\n",
      "Iteration:9\n",
      "ML: 15458.447; \tML change (error):   102.973; \tSigma^2:583360.704; \tSigma^2 change:164070.280\n",
      "[======                                                                  ]\n",
      "Iteration:10\n",
      "ML: 15365.737; \tML change (error):    92.710; \tSigma^2:459859.436; \tSigma^2 change:123501.269\n",
      "[=======                                                                 ]\n",
      "Iteration:11\n",
      "ML: 15279.008; \tML change (error):    86.729; \tSigma^2:364398.203; \tSigma^2 change: 95461.232\n",
      "[=======                                                                 ]\n",
      "Iteration:12\n",
      "ML: 15194.998; \tML change (error):    84.010; \tSigma^2:289181.353; \tSigma^2 change: 75216.851\n",
      "[========                                                                ]\n",
      "Iteration:13\n",
      "ML: 15111.216; \tML change (error):    83.782; \tSigma^2:229229.002; \tSigma^2 change: 59952.351\n",
      "[=========                                                               ]\n",
      "Iteration:14\n",
      "ML: 15025.904; \tML change (error):    85.312; \tSigma^2:181240.595; \tSigma^2 change: 47988.407\n",
      "[==========                                                              ]\n",
      "Iteration:15\n",
      "ML: 14938.058; \tML change (error):    87.846; \tSigma^2:142898.578; \tSigma^2 change: 38342.017\n",
      "[==========                                                              ]\n",
      "Iteration:16\n",
      "ML: 14847.441; \tML change (error):    90.617; \tSigma^2:112442.728; \tSigma^2 change: 30455.851\n",
      "[===========                                                             ]\n",
      "Iteration:17\n",
      "ML: 14754.467; \tML change (error):    92.974; \tSigma^2: 88418.423; \tSigma^2 change: 24024.305\n",
      "[============                                                            ]\n",
      "Iteration:18\n",
      "ML: 14659.908; \tML change (error):    94.559; \tSigma^2: 69576.682; \tSigma^2 change: 18841.741\n",
      "[============                                                            ]\n",
      "Iteration:19\n",
      "ML: 14564.780; \tML change (error):    95.128; \tSigma^2: 54894.909; \tSigma^2 change: 14681.773\n",
      "[=============                                                           ]\n",
      "Iteration:20\n",
      "ML: 14470.939; \tML change (error):    93.841; \tSigma^2: 43584.173; \tSigma^2 change: 11310.736\n",
      "[==============                                                          ]\n",
      "Iteration:21\n",
      "ML: 14381.736; \tML change (error):    89.203; \tSigma^2: 35015.981; \tSigma^2 change:  8568.192\n",
      "[===============                                                         ]\n",
      "Iteration:22\n",
      "ML: 14301.619; \tML change (error):    80.117; \tSigma^2: 28649.949; \tSigma^2 change:  6366.031\n",
      "[===============                                                         ]\n",
      "Iteration:23\n",
      "ML: 14234.668; \tML change (error):    66.951; \tSigma^2: 24004.712; \tSigma^2 change:  4645.237\n",
      "[================                                                        ]\n",
      "Iteration:24\n",
      "ML: 14182.996; \tML change (error):    51.672; \tSigma^2: 20665.020; \tSigma^2 change:  3339.692\n",
      "[=================                                                       ]\n",
      "Iteration:25\n",
      "ML: 14146.193; \tML change (error):    36.803; \tSigma^2: 18291.654; \tSigma^2 change:  2373.366\n",
      "[==================                                                      ]\n",
      "Iteration:26\n",
      "ML: 14121.902; \tML change (error):    24.291; \tSigma^2: 16619.356; \tSigma^2 change:  1672.298\n",
      "[==================                                                      ]\n",
      "Iteration:27\n",
      "ML: 14106.919; \tML change (error):    14.983; \tSigma^2: 15447.871; \tSigma^2 change:  1171.485\n",
      "[===================                                                     ]\n",
      "Iteration:28\n",
      "ML: 14098.186; \tML change (error):     8.733; \tSigma^2: 14630.310; \tSigma^2 change:   817.561\n",
      "[====================                                                    ]\n",
      "Iteration:29\n",
      "ML: 14093.322; \tML change (error):     4.864; \tSigma^2: 14061.128; \tSigma^2 change:   569.182\n",
      "[====================                                                    ]\n",
      "Iteration:30\n",
      "ML: 14090.707; \tML change (error):     2.616; \tSigma^2: 13665.477; \tSigma^2 change:   395.651\n",
      "[=====================                                                   ]\n",
      "Iteration:31\n",
      "ML: 14089.337; \tML change (error):     1.370; \tSigma^2: 13390.710; \tSigma^2 change:   274.768\n",
      "[======================                                                  ]\n",
      "Iteration:32\n",
      "ML: 14088.633; \tML change (error):     0.704; \tSigma^2: 13199.985; \tSigma^2 change:   190.724\n",
      "[=======================                                                 ]\n",
      "Iteration:33\n",
      "ML: 14088.276; \tML change (error):     0.357; \tSigma^2: 13067.618; \tSigma^2 change:   132.367\n",
      "[=======================                                                 ]\n",
      "Iteration:34\n",
      "ML: 14088.096; \tML change (error):     0.179; \tSigma^2: 12975.742; \tSigma^2 change:    91.876\n",
      "[========================                                                ]\n",
      "Iteration:35\n",
      "ML: 14088.007; \tML change (error):     0.089; \tSigma^2: 12911.952; \tSigma^2 change:    63.790\n",
      "[=========================                                               ]\n",
      "Iteration:36\n",
      "ML: 14087.962; \tML change (error):     0.044; \tSigma^2: 12867.643; \tSigma^2 change:    44.309\n",
      "[=========================                                               ]\n",
      "Iteration:37\n",
      "ML: 14087.940; \tML change (error):     0.022; \tSigma^2: 12836.849; \tSigma^2 change:    30.794\n",
      "[==========================                                              ]\n",
      "Iteration:38\n",
      "ML: 14087.930; \tML change (error):     0.011; \tSigma^2: 12815.435; \tSigma^2 change:    21.414\n",
      "[===========================                                             ]\n",
      "Iteration:39\n",
      "ML: 14087.924; \tML change (error):     0.005; \tSigma^2: 12800.534; \tSigma^2 change:    14.901\n",
      "[============================                                            ]\n",
      "Iteration:40\n",
      "ML: 14087.921; \tML change (error):     0.003; \tSigma^2: 12790.159; \tSigma^2 change:    10.376\n",
      "[============================                                            ]\n",
      "Iteration:41\n",
      "ML: 14087.920; \tML change (error):     0.001; \tSigma^2: 12782.929; \tSigma^2 change:     7.229\n",
      "[=============================                                           ]\n",
      "Iteration:42\n",
      "ML: 14087.919; \tML change (error):     0.001; \tSigma^2: 12777.889; \tSigma^2 change:     5.040\n",
      "[==============================                                          ]\n",
      "Iteration:43\n",
      "ML: 14087.919; \tML change (error):     0.000; \tSigma^2: 12774.373; \tSigma^2 change:     3.517\n",
      "[==============================                                          ]\n",
      "Iteration:44\n",
      "ML: 14087.919; \tML change (error):     0.000; \tSigma^2: 12771.918; \tSigma^2 change:     2.455\n",
      "[===============================                                         ]\n",
      "Iteration:45\n",
      "ML: 14087.919; \tML change (error):     0.000; \tSigma^2: 12770.203; \tSigma^2 change:     1.715\n",
      "[================================                                        ]\n",
      "Iteration:46\n",
      "ML: 14087.919; \tML change (error):     0.000; \tSigma^2: 12769.004; \tSigma^2 change:     1.198\n",
      "[=================================                                       ]\n",
      "Iteration:47\n",
      "ML: 14087.919; \tML change (error):     0.000; \tSigma^2: 12768.166; \tSigma^2 change:     0.838\n",
      "[=================================                                       ]\n",
      "Iteration:48\n",
      "ML: 14087.919; \tML change (error):     0.000; \tSigma^2: 12767.580; \tSigma^2 change:     0.586\n",
      "[==================================                                      ]\n",
      "========================================================================\n",
      "Registration Performance Metrics\n",
      "========================================================================\n",
      "Time to initialize EM: 0.0076487064361572266\n",
      "Time to initialize registration: 6.0558319091796875e-05\n",
      "Average Expectation Time:                    0.1232 +/- 0.0318\n",
      "Average Maximization Time:                   0.0008 +/- 0.0004\n",
      "Maximization Times - Per individual step\n",
      "Average Update Transform Time:               0.0005 +/- 0.0001\n",
      "Average Transform Time:                      0.0002 +/- 0.0003\n",
      "Average Update Variance Time:                0.0002 +/- 0.0000\n",
      "\n",
      "Number of iterations performed:          48\n",
      "Error at time of finish:                 9.623441656003706e-06\n",
      "(3, 877) (3, 828)\n",
      "registration::RegistrationResult with fitness=9.190422e-01, inlier_rmse=4.305591e+01, and correspondence_set size of 806\n",
      "Access transformation to get result.\n",
      "[[ 0.9999992  -0.00126555]\n",
      " [ 0.00126555  0.9999992 ]] [-849.18678094  -32.79148993]\n"
     ]
    }
   ],
   "source": [
    "isnan = True\n",
    "for order in [(0,1),(1,0)]:\n",
    "    skeleton1, skeleton2 = skel_docs[order[0]], skel_docs[order[1]]\n",
    "    skelet_pos = np.array(list(skeleton1.keys()))\n",
    "    samples = np.random.choice(skelet_pos.shape[0], len(skeleton2.keys()) // 100)\n",
    "    X = np.transpose(skelet_pos[samples, :])\n",
    "    skelet_pos = np.array(list(skeleton2.keys()))\n",
    "    samples = np.random.choice(skelet_pos.shape[0], len(skeleton2.keys()) // 100)\n",
    "    Y = np.transpose(skelet_pos[samples, :])\n",
    "    reg = rigid_registration(\n",
    "        **{\n",
    "            \"X\": np.transpose(X.astype(float)),\n",
    "            \"Y\": np.transpose(Y.astype(float)),\n",
    "            \"scale\": False,\n",
    "        }\n",
    "    )\n",
    "    out = reg.register()\n",
    "    Rfound = reg.R[0:2, 0:2]\n",
    "    tfound = np.dot(Rfound, reg.t[0:2])\n",
    "    if order == (0,1):\n",
    "        t_init = -tfound\n",
    "        Rot_init = Rfound\n",
    "    else:\n",
    "        Rot_init,t_init = np.linalg.inv(Rfound), np.dot(np.linalg.inv(Rfound),tfound)\n",
    "    sigma2 = reg.sigma2\n",
    "    if sigma2>=thresh:\n",
    "        print(\"========\")\n",
    "        print(f\"Failed to match plate {plate} at dates {dates_datetime_chosen}\")\n",
    "        print(\"========\")\n",
    "        continue\n",
    "    isnan = np.isnan(tfound[0])\n",
    "    if isnan:\n",
    "        continue\n",
    "#     X = np.transpose(\n",
    "#         np.array([pos1[node] for node in pruned1 if pruned1.degree(node) == 3])\n",
    "#     )\n",
    "#     Y = np.transpose(\n",
    "#         np.array([pos2[node] for node in pruned2 if pruned2.degree(node) == 3])\n",
    "#     )\n",
    "    skeleton1, skeleton2 = skel_docs[0], skel_docs[1]\n",
    "    X = np.transpose(\n",
    "        np.array(get_degree3_nodes(skeleton1))\n",
    "    )\n",
    "    Y = np.transpose(\n",
    "        np.array(get_degree3_nodes(skeleton2))\n",
    "    )\n",
    "    # fig=plt.figure(figsize=(10,9))\n",
    "    # ax = fig.add_subplot(111)\n",
    "    # ax.scatter(X[0,:],X[1,:])\n",
    "    # ax.scatter(Y[0,:],Y[1,:])\n",
    "#     Xex = np.transpose(np.transpose(np.dot(Rot_init, X)) + t_init)\n",
    "    # fig=plt.figure(figsize=(10,9))\n",
    "    # ax = fig.add_subplot(111)\n",
    "    # ax.scatter(Xex[0,:],Xex[1,:])\n",
    "    # ax.scatter(Y[0,:],Y[1,:])\n",
    "    X = np.insert(X, 2, values=0, axis=0)\n",
    "    Y = np.insert(Y, 2, values=0, axis=0)\n",
    "    print(X.shape, Y.shape)\n",
    "    vectorX = o3d.utility.Vector3dVector(np.transpose(X))\n",
    "    vectorY = o3d.utility.Vector3dVector(np.transpose(Y))\n",
    "    source = o3d.geometry.PointCloud(vectorX)\n",
    "    target = o3d.geometry.PointCloud(vectorY)\n",
    "    threshold = 200\n",
    "    trans_init = np.asarray(\n",
    "        [\n",
    "            [Rot_init[0, 0], Rot_init[0, 1], 0, t_init[0]],\n",
    "            [Rot_init[1, 0], Rot_init[1, 1], 0, t_init[1]],\n",
    "            [0, 0, 1, 0],\n",
    "            [0.0, 0.0, 0.0, 1.0],\n",
    "        ]\n",
    "    )\n",
    "    reg_p2p = o3d.registration.registration_icp(\n",
    "        source,\n",
    "        target,\n",
    "        threshold,\n",
    "        trans_init,\n",
    "        o3d.registration.TransformationEstimationPointToPoint(),\n",
    "    )\n",
    "    print(reg_p2p)\n",
    "    Rfound = reg_p2p.transformation[0:2, 0:2]\n",
    "    tfound = reg_p2p.transformation[0:2, 3]\n",
    "    print(Rfound, tfound)\n",
    "    X, Y = X[0:2, :], Y[0:2, :]\n",
    "    Yrep = np.transpose(np.transpose(np.dot(Rfound, X)) + tfound)\n",
    "    # fig=plt.figure(figsize=(10,9))\n",
    "    # ax = fig.add_subplot(111)\n",
    "    # ax.scatter(np.transpose(Yrep)[:,0],np.transpose(Yrep)[:,1])\n",
    "    # ax.scatter(np.transpose(Y)[:,0],np.transpose(Y)[:,1])\n",
    "    break\n",
    "\n",
    "if not isnan:    \n",
    "    sio.savemat(path_snap + \"/Analysis/transform.mat\", {\"R\": Rfound, \"t\": tfound})\n",
    "else :    \n",
    "    sio.savemat(path_snap + \"/Analysis/transform_corrupt.mat\", {\"R\": np.array([[1,0],[0,1]]), \"t\": np.array([0,0])})"
   ]
  },
  {
   "cell_type": "code",
   "execution_count": 18,
   "metadata": {},
   "outputs": [
    {
     "data": {
      "application/vnd.jupyter.widget-view+json": {
       "model_id": "9790085b35774575baafc57baac7814e",
       "version_major": 2,
       "version_minor": 0
      },
      "text/plain": [
       "Canvas(toolbar=Toolbar(toolitems=[('Home', 'Reset original view', 'home', 'home'), ('Back', 'Back to previous …"
      ]
     },
     "metadata": {},
     "output_type": "display_data"
    },
    {
     "data": {
      "text/plain": [
       "<matplotlib.collections.PathCollection at 0x2b4a941c5310>"
      ]
     },
     "execution_count": 18,
     "metadata": {},
     "output_type": "execute_result"
    }
   ],
   "source": [
    "skeleton1, skeleton2 = skel_docs[0], skel_docs[1]\n",
    "skelet_pos = np.array(list(skeleton1.keys()))\n",
    "samples = np.random.choice(skelet_pos.shape[0], len(skeleton2.keys()) // 100)\n",
    "X = np.transpose(skelet_pos[samples, :])\n",
    "skelet_pos = np.array(list(skeleton2.keys()))\n",
    "samples = np.random.choice(skelet_pos.shape[0], len(skeleton2.keys()) // 100)\n",
    "Y = np.transpose(skelet_pos[samples, :])\n",
    "fig=plt.figure(figsize=(10,9))\n",
    "ax = fig.add_subplot(111)\n",
    "R,t = Rfound, tfound\n",
    "# R,t = np.linalg.inv(Rfound), np.dot(np.linalg.inv(Rfound),tfound)\n",
    "Yrep=np.transpose(np.transpose(np.dot(R,X))+t)\n",
    "ax.scatter(np.transpose(Yrep)[:,0],np.transpose(Yrep)[:,1])\n",
    "ax.scatter(np.transpose(Y)[:,0],np.transpose(Y)[:,1])"
   ]
  },
  {
   "cell_type": "code",
   "execution_count": 14,
   "metadata": {},
   "outputs": [],
   "source": [
    "transform = sio.loadmat(path_snap+'/Analysis/transform.mat')\n",
    "R,t = transform['R'],transform['t']"
   ]
  },
  {
   "cell_type": "code",
   "execution_count": 18,
   "metadata": {},
   "outputs": [
    {
     "data": {
      "text/plain": [
       "1.09463192611742"
      ]
     },
     "execution_count": 18,
     "metadata": {},
     "output_type": "execute_result"
    }
   ],
   "source": [
    "tfound[0]"
   ]
  },
  {
   "cell_type": "code",
   "execution_count": 15,
   "metadata": {},
   "outputs": [
    {
     "data": {
      "text/plain": [
       "(array([[ 9.99999979e-01,  2.06116401e-04],\n",
       "        [-2.06116401e-04,  9.99999979e-01]]),\n",
       " array([[  1.09463193, -22.7894256 ]]))"
      ]
     },
     "execution_count": 15,
     "metadata": {},
     "output_type": "execute_result"
    }
   ],
   "source": [
    "R,t"
   ]
  },
  {
   "cell_type": "code",
   "execution_count": 16,
   "metadata": {},
   "outputs": [
    {
     "data": {
      "text/plain": [
       "[datetime.datetime(2020, 7, 19, 5, 25), datetime.datetime(2020, 7, 19, 9, 25)]"
      ]
     },
     "execution_count": 16,
     "metadata": {},
     "output_type": "execute_result"
    }
   ],
   "source": [
    "dates_datetime_chosen"
   ]
  },
  {
   "cell_type": "code",
   "execution_count": 8,
   "metadata": {},
   "outputs": [
    {
     "data": {
      "application/vnd.jupyter.widget-view+json": {
       "model_id": "798eda269cc14219ae2b6e88337b541a",
       "version_major": 2,
       "version_minor": 0
      },
      "text/plain": [
       "Canvas(toolbar=Toolbar(toolitems=[('Home', 'Reset original view', 'home', 'home'), ('Back', 'Back to previous …"
      ]
     },
     "metadata": {},
     "output_type": "display_data"
    },
    {
     "data": {
      "text/plain": [
       "<matplotlib.collections.PathCollection at 0x2b5749ec83d0>"
      ]
     },
     "execution_count": 8,
     "metadata": {},
     "output_type": "execute_result"
    }
   ],
   "source": [
    "%matplotlib widget\n",
    "\n",
    "Yrep=np.transpose(np.transpose(np.dot(R,X))+t)\n",
    "fig=plt.figure(figsize=(10,9))\n",
    "ax = fig.add_subplot(111)\n",
    "ax.scatter(np.transpose(Yrep)[:,0],np.transpose(Yrep)[:,1])\n",
    "ax.scatter(np.transpose(Y)[:,0],np.transpose(Y)[:,1])"
   ]
  },
  {
   "cell_type": "code",
   "execution_count": 8,
   "metadata": {},
   "outputs": [],
   "source": [
    "plate = 9\n",
    "directory = \"/scratch/shared/mrozemul/Fiji.app/\" \n",
    "listdir=os.listdir(directory) \n",
    "list_dir_interest=[name for name in listdir if name.split('_')[-1]==f'Plate{0 if plate<10 else \"\"}{plate}']\n",
    "ss=[name.split('_')[0] for name in list_dir_interest]\n",
    "ff=[name.split('_')[1] for name in list_dir_interest]\n",
    "dates_datetime=[datetime(year=int(ss[i][:4]),month=int(ss[i][4:6]),day=int(ss[i][6:8]),hour=int(ff[i][0:2]),minute=int(ff[i][2:4])) for i in range(len(list_dir_interest))]\n",
    "dates_datetime.sort()\n",
    "dates_datetime_chosen=dates_datetime"
   ]
  },
  {
   "cell_type": "code",
   "execution_count": 15,
   "metadata": {},
   "outputs": [
    {
     "data": {
      "text/plain": [
       "(datetime.datetime(2020, 7, 16, 11, 34), datetime.datetime(2020, 7, 18, 9, 25))"
      ]
     },
     "execution_count": 15,
     "metadata": {},
     "output_type": "execute_result"
    }
   ],
   "source": [
    "dates_datetime_chosen[12],dates_datetime_chosen[13]"
   ]
  },
  {
   "cell_type": "code",
   "execution_count": 24,
   "metadata": {},
   "outputs": [],
   "source": [
    "import pandas as pd\n",
    "import networkx as nx\n",
    "import numpy as np\n",
    "from extract_graph import generate_nx_graph, transform_list, generate_skeleton, generate_nx_graph_from_skeleton, from_nx_to_tab\n",
    "from node_id import whole_movement_identification\n",
    "import ast\n",
    "from plotutil import plot_t_tp1\n",
    "from scipy import sparse\n",
    "from sparse_util import dilate, zhangSuen\n",
    "from scipy.optimize import minimize\n",
    "from time import time\n",
    "from extract_graph import dic_to_sparse, from_sparse_to_graph, generate_nx_graph, prune_graph, from_nx_to_tab, from_nx_to_tab_matlab,sparse_to_doc, connections_pixel_list_to_tab, transform_list, clean_degree_4\n",
    "import open3d as o3d\n",
    "\n",
    "\n",
    "def transform_skeleton(skeleton_doc,Rot,trans):\n",
    "    transformed_skeleton={}\n",
    "    transformed_keys = np.round(np.transpose(np.dot(Rot,np.transpose(np.array(list(skeleton_doc.keys())))))+trans).astype(np.int)\n",
    "    i=0\n",
    "    for pixel in list(transformed_keys):\n",
    "        i+=1\n",
    "        transformed_skeleton[(pixel[0],pixel[1])]=1\n",
    "    return(transformed_skeleton)\n",
    "\n",
    "def realign(skeleton1,nx_graphB,posB,convergence_threshold,window=500,maxdist=50,save=''):\n",
    "    converged=False\n",
    "    nx_graphA,posA=generate_nx_graph_from_skeleton(skeleton1) \n",
    "    t0=np.array([0,0])\n",
    "    R0=np.identity(2)\n",
    "    while not converged:\n",
    "        listeA,listeB = find_common_group_nodes(nx_graphA,nx_graphB,posA,posB,R0,t0,maxdist=maxdist,window=window)\n",
    "        H=np.dot(np.transpose(np.array(listeA)-np.mean(listeA,axis=0)),np.array(listeB)-np.mean(listeB,axis=0))\n",
    "        U,S,V=np.linalg.svd(H)\n",
    "        R=np.dot(V,np.transpose(U))\n",
    "        t=np.mean(listeB,axis=0)-np.dot(R,np.mean(listeA,axis=0))\n",
    "        print(\"number_common_nodes_found :\",len(listeA))\n",
    "        if np.linalg.norm(t)<=convergence_threshold:\n",
    "            converged=True\n",
    "        R0=np.dot(R,R0)\n",
    "        t0=t+t0\n",
    "    skeleton_transformed=transform_skeleton(skeleton1,R0,t0)\n",
    "    skeleton_transformed=dilate(skeleton_transformed)\n",
    "    skeleton_transformed=dilate(skeleton_transformed)\n",
    "    skeleton_transformed=zhangSuen(skeleton_transformed)\n",
    "    if len(save)>=0:\n",
    "        from_nx_to_tab(*generate_nx_graph_from_skeleton(skeleton_transformed)).to_csv(save+'_raw_aligned_skeleton.csv')\n",
    "        np.savetxt(save+'rot.txt',R0)\n",
    "        np.savetxt(save+'trans.txt',t0)\n",
    "    print(\"R0=\",R0,'t0=',t0)\n",
    "    return(skeleton_transformed)\n",
    "\n",
    "\n",
    "\n",
    "def find_common_group_nodes(Sa,Sb,degree3_nodesa,degree3_nodesb,posa,posb,R0,t0,window=500,maxdist=50):\n",
    "    common_nodes_a = []\n",
    "    common_nodes_b = []\n",
    "    common_centroida = []\n",
    "    common_centroidb = []\n",
    "    t=time()\n",
    "    posarottrans = {key : np.round(np.transpose(np.dot(R0,np.transpose(np.array(posa[key])))+t0)).astype(np.int) for key in degree3_nodesa}\n",
    "#     print(\"rotating translating\",time()-t)\n",
    "    for node in degree3_nodesa:\n",
    "        t=time()\n",
    "        posanchor=posarottrans[node]\n",
    "        potential_surroundinga=Sa[posanchor[0]-2*window:posanchor[0]+2*window,posanchor[1]-2*window:posanchor[1]+2*window]\n",
    "        potential_surroundingb=Sb[posanchor[0]-2*window:posanchor[0]+2*window,posanchor[1]-2*window:posanchor[1]+2*window]\n",
    "#         print(\"candidates\",len(potential_surroundinga.data))\n",
    "#         print(\"finding_potential_surrounding\",time()-t)\n",
    "        t=time()\n",
    "        surrounding_nodesa=[node for node in potential_surroundinga.data if \n",
    "                            (posanchor[0]-window<posarottrans[int(node)][0]<posanchor[0]+window and posanchor[1]-window<posarottrans[int(node)][1]<posanchor[1]+window \n",
    "                             )]\n",
    "        surrounding_nodesb=[node for node in potential_surroundingb.data if \n",
    "                    (posanchor[0]-window<posb[int(node)][0]<posanchor[0]+window and posanchor[1]-window<posb[int(node)][1]<posanchor[1]+window \n",
    "                    )]\n",
    "#         print(\"finding_surrounding\",time()-t)\n",
    "        t=time()\n",
    "        if len(surrounding_nodesa)==len(surrounding_nodesb):\n",
    "            possurroundinga=[posarottrans[node] for node in surrounding_nodesa]\n",
    "            possurroundingb=[posb[node] for node in surrounding_nodesb]\n",
    "            centroida= np.mean(possurroundinga,axis=0)\n",
    "            centroidb= np.mean(possurroundingb,axis=0)\n",
    "            if np.linalg.norm(centroida-centroidb)<=maxdist:\n",
    "                common_centroida.append(centroida)\n",
    "                common_centroidb.append(centroidb)\n",
    "    return(common_centroida,common_centroidb)\n",
    "\n",
    "def realign2(skeleton1,skeleton2,convergence_threshold,window=500,maxdist=50,save=''):\n",
    "    converged=False\n",
    "    tim=time()\n",
    "    nx_graphA,posA=generate_nx_graph_from_skeleton(skeleton1)\n",
    "    nx_graphB,posB=generate_nx_graph_from_skeleton(skeleton2)\n",
    "    print(\"generate_nx_graph_from_skeleton, t=\",tim-time())\n",
    "    tim=time()\n",
    "    t0=np.array([0,0])\n",
    "    R0=np.identity(2)\n",
    "    degree3_nodesa = [node for node in nx_graphA if nx_graphA.degree(node)==3]\n",
    "    degree3_nodesb = [node for node in nx_graphB if nx_graphB.degree(node)==3]\n",
    "    print(\"lennodes=\",len(degree3_nodesa))\n",
    "    Sa=sparse.csr_matrix((26296, 49559))\n",
    "    Sb=sparse.csr_matrix((26296, 49559))\n",
    "    for node in degree3_nodesa:\n",
    "        Sa[posA[node][0],posA[node][1]]=node\n",
    "    for node in degree3_nodesb:\n",
    "        Sb[posB[node][0],posB[node][1]]=node\n",
    "    while not converged:\n",
    "        listeA,listeB = find_common_group_nodes(Sa,Sb,degree3_nodesa,degree3_nodesb,posA,posB,R0,t0,maxdist=maxdist,window=window)\n",
    "        H=np.dot(np.transpose(np.array(listeA)-np.mean(listeA,axis=0)),np.array(listeB)-np.mean(listeB,axis=0))\n",
    "        U,S,V=np.linalg.svd(H)\n",
    "        R=np.dot(V,np.transpose(U))\n",
    "        t=np.mean(listeB,axis=0)-np.dot(R,np.mean(listeA,axis=0))\n",
    "        print(\"number_common_nodes_found :\",len(listeA))\n",
    "        if np.linalg.norm(t)<=convergence_threshold:\n",
    "            converged=True\n",
    "        R0=np.dot(R,R0)\n",
    "        t0=t+t0\n",
    "    print(\"Find R and T, t=\",tim-time())\n",
    "    tim=time()\n",
    "    skeleton_transformed=transform_skeleton(skeleton1,R0,t0)\n",
    "    skeleton_transformed=dilate(skeleton_transformed)\n",
    "    skeleton_transformed=zhangSuen(skeleton_transformed)\n",
    "    print(\"transform, dilate and thin, t=\",tim-time())\n",
    "    tim=time()\n",
    "    if len(save)>=0:\n",
    "        from_nx_to_tab(*generate_nx_graph_from_skeleton(skeleton_transformed)).to_csv(save+'_raw_aligned_skeleton.csv')\n",
    "        np.savetxt(save+'rot.txt',R0)\n",
    "        np.savetxt(save+'trans.txt',t0)\n",
    "    print(\"R0=\",R0,'t0=',t0)\n",
    "    return(skeleton_transformed)\n",
    "\n",
    "def reconnect(skeleton):\n",
    "    skeleton_transformed=dilate(skeleton)\n",
    "    skeleton_transformed=zhangSuen(skeleton_transformed)\n",
    "    return(skeleton_transformed)\n",
    "\n",
    "\n",
    "def shift(skeleton1,skeleton2):\n",
    "    skeleton1_dilated = dilate(dilate(skeleton1)).astype(np.float)\n",
    "    skeleton2_dilated = dilate(dilate(skeleton2)).astype(np.float)\n",
    "    def distance(shift):\n",
    "        distance=0\n",
    "#         print(shift)\n",
    "        for pixel in skeleton1_dilated.keys():\n",
    "#             print(pixel[0]+shift[0],pixel[1]+shift[1])\n",
    "            if (skeleton2_dilated.shape[0]>np.ceil(pixel[0]+shift[0])>=0 and skeleton2_dilated.shape[1]>np.ceil(pixel[1]+shift[1])>=0):\n",
    "                shifted_pixel = (int(pixel[0]+shift[0]),int(pixel[1]+shift[1]))\n",
    "                shifted_pixel_next = (np.ceil(pixel[0]+shift[0]),np.ceil(pixel[1]+shift[1]))\n",
    "#                 print(shifted_pixel)\n",
    "                prop=1/2*(pixel[0]+shift[0]-int(pixel[0]+shift[0])+pixel[1]+shift[1]-int(pixel[1]+shift[1]))\n",
    "                float_value=(1-prop)*skeleton2_dilated[shifted_pixel[0],shifted_pixel[1]]+prop*(skeleton2_dilated[shifted_pixel_next[0],shifted_pixel_next[1]])\n",
    "                distance+=abs(skeleton1_dilated[pixel]-float_value)\n",
    "            else:\n",
    "                distance+=1\n",
    "#         for pixel in skeleton2_dilated.keys():\n",
    "#             if (skeleton2_dilated.shape[0]>pixel[0]-shift[0]>=0 and skeleton2_dilated.shape[1]>pixel[1]-shift[1]>=0):\n",
    "#                 shifted_pixel = (int(pixel[0]-shift[0]),int(pixel[1]-shift[1]))\n",
    "#                 distance+=abs(skeleton1_dilated[shifted_pixel[0],shifted_pixel[1]]^skeleton2_dilated[pixel])\n",
    "#             else:\n",
    "#                 distance+=1\n",
    "#         print(distance)\n",
    "        return distance\n",
    "    return(minimize(distance,np.array([10,10]), method='nelder-mead',options={'xatol': 1, 'disp': True,'fatol':0.1}))\n",
    "\n",
    "\n",
    "def realign_final(skeleton1,skeleton2,t_init=np.array([0,0]),Rot_init=np.array([[1,0],[0,1]])):\n",
    "    nx_graph1,pos1 = generate_nx_graph(from_sparse_to_graph(skeleton1))\n",
    "    nx_graph2,pos2 = generate_nx_graph(from_sparse_to_graph(skeleton2))\n",
    "    pruned1 = prune_graph(nx_graph1)\n",
    "    pruned2 = prune_graph(nx_graph2)\n",
    "    X = np.transpose(np.array([pos1[node] for node in pruned1 if pruned1.degree(node)==3]))\n",
    "    Y = np.transpose(np.array([pos2[node] for node in pruned2 if pruned2.degree(node)==3]))\n",
    "    Xex = np.transpose(np.transpose(np.dot(Rot_init,X))+t_init)\n",
    "    fig=plt.figure(figsize=(10,9))\n",
    "    ax = fig.add_subplot(111)\n",
    "    ax.scatter(Xex[0,:],Xex[1,:])\n",
    "    ax.scatter(Y[0,:],Y[1,:])\n",
    "    X = np.insert(X, 2, values=0, axis=0) \n",
    "    Y = np.insert(Y, 2, values=0, axis=0) \n",
    "    print(X.shape,Y.shape)\n",
    "    vectorX = o3d.utility.Vector3dVector(np.transpose(X))\n",
    "    vectorY = o3d.utility.Vector3dVector(np.transpose(Y))\n",
    "    source = o3d.geometry.PointCloud(vectorX)\n",
    "    target = o3d.geometry.PointCloud(vectorY)\n",
    "    threshold = 200\n",
    "    trans_init = np.asarray([[Rot_init[0,0], Rot_init[0,1], 0, t_init[0]],\n",
    "                             [Rot_init[1,0], Rot_init[1,1], 0, t_init[1]],\n",
    "                             [0, 0, 1, 0], [0.0, 0.0, 0.0, 1.0]])\n",
    "    reg_p2p = o3d.registration.registration_icp(\n",
    "        source, target, threshold, trans_init,\n",
    "        o3d.registration.TransformationEstimationPointToPoint())\n",
    "    print(reg_p2p)\n",
    "    Rfound = reg_p2p.transformation[0:2,0:2]\n",
    "    tfound = reg_p2p.transformation[0:2,3]\n",
    "    print(Rfound,tfound)\n",
    "    X,Y=X[0:2,:],Y[0:2,:]\n",
    "    Yrep=np.transpose(np.transpose(np.dot(Rfound,X))+tfound)\n",
    "    fig=plt.figure(figsize=(10,9))\n",
    "    ax = fig.add_subplot(111)\n",
    "    ax.scatter(np.transpose(Y)[:,0],np.transpose(Y)[:,1])\n",
    "    ax.scatter(np.transpose(Yrep)[:,0],np.transpose(Yrep)[:,1])\n",
    "    skel_transformed = transform_skeleton(skeleton1,Rfound,tfound)\n",
    "    skel_mat = np.zeros((30000, 50000),dtype=np.uint8)\n",
    "    for pixel in skel_transformed.keys():\n",
    "        skel_mat[pixel]=1\n",
    "    return(skel_mat,skel_transformed,Rfound,tfound)\n",
    "\n",
    "def find_circle(x,y):\n",
    "    x_m = np.mean(x)\n",
    "    y_m = np.mean(y)\n",
    "\n",
    "    # calculation of the reduced coordinates\n",
    "    u = x - x_m\n",
    "    v = y - y_m\n",
    "\n",
    "    # linear system defining the center (uc, vc) in reduced coordinates:\n",
    "    #    Suu * uc +  Suv * vc = (Suuu + Suvv)/2\n",
    "    #    Suv * uc +  Svv * vc = (Suuv + Svvv)/2\n",
    "    Suv  = np.sum(u*v)\n",
    "    Suu  = np.sum(u**2)\n",
    "    Svv  = np.sum(v**2)\n",
    "    Suuv = np.sum(u**2 * v)\n",
    "    Suvv = np.sum(u * v**2)\n",
    "    Suuu = np.sum(u**3)\n",
    "    Svvv = np.sum(v**3)\n",
    "\n",
    "    # Solving the linear system\n",
    "    A = np.array([ [ Suu, Suv ], [Suv, Svv]])\n",
    "    B = np.array([ Suuu + Suvv, Svvv + Suuv ])/2.0\n",
    "    uc, vc = np.linalg.solve(A, B)\n",
    "\n",
    "    xc_1 = x_m + uc\n",
    "    yc_1 = y_m + vc\n",
    "\n",
    "    # Calcul des distances au centre (xc_1, yc_1)\n",
    "    Ri_1     = np.sqrt((x-xc_1)**2 + (y-yc_1)**2)\n",
    "    R_1      = np.mean(Ri_1)\n",
    "    residu_1 = np.sum((Ri_1-R_1)**2)\n",
    "    return(R_1,xc_1,yc_1)"
   ]
  },
  {
   "cell_type": "code",
   "execution_count": 28,
   "metadata": {},
   "outputs": [],
   "source": [
    "plate = 9\n",
    "directory = \"/scratch/shared/mrozemul/Fiji.app/\" \n",
    "listdir=os.listdir(directory) \n",
    "list_dir_interest=[name for name in listdir if name.split('_')[-1]==f'Plate{0 if plate<10 else \"\"}{plate}']\n",
    "ss=[name.split('_')[0] for name in list_dir_interest]\n",
    "ff=[name.split('_')[1] for name in list_dir_interest]\n",
    "dates_datetime=[datetime(year=int(ss[i][:4]),month=int(ss[i][4:6]),day=int(ss[i][6:8]),hour=int(ff[i][0:2]),minute=int(ff[i][2:4])) for i in range(len(list_dir_interest))]\n",
    "dates_datetime.sort()\n",
    "dates_datetime_chosen=dates_datetime[12:14]\n",
    "dates = [f'{0 if date.month<10 else \"\"}{date.month}{0 if date.day<10 else \"\"}{date.day}_{0 if date.hour<10 else \"\"}{date.hour}{0 if date.minute<10 else \"\"}{date.minute}' for date in dates_datetime_chosen]\n",
    "dilateds=[]\n",
    "skels = []\n",
    "skel_docs = []\n",
    "graph_pos=[]\n",
    "contours=[]\n",
    "half_circles=[]\n",
    "for date in dates:\n",
    "    directory_name=f'2020{date}_Plate{0 if plate<10 else \"\"}{plate}'\n",
    "    path_snap='/scratch/shared/mrozemul/Fiji.app/'+directory_name\n",
    "    skel_info = read_mat(path_snap+'/Analysis/skeleton.mat')\n",
    "    skel = skel_info['skeleton']\n",
    "#     contour = skel_info['contour']\n",
    "#     half_circle = skel_info['half_circle']\n",
    "    skels.append(skel)\n",
    "    skel_doc = sparse_to_doc(skel)\n",
    "    skel_docs.append(skel_doc)\n",
    "    contours.append(contour)\n",
    "    half_circles.append(half_circle)\n",
    "#     nx_graph,pos = generate_nx_graph(from_sparse_to_graph(skel_doc))\n",
    "#     graph_pos.append((nx_graph,pos))\n",
    "skel_doc = skel_docs[0]\n",
    "skel_aligned_t = skels[0].todense()\n",
    "skel_sparse = scipy.sparse.csc_matrix(skels[0])\n",
    "directory_name=f'2020{dates[0]}_Plate{0 if plate<10 else \"\"}{plate}'\n",
    "path_snap='/scratch/shared/mrozemul/Fiji.app/'+directory_name\n",
    "sio.savemat(path_snap+'/Analysis/skeleton_realigned.mat',{'skeleton' : skel_sparse,'R' : np.array([[1,0],[0,1]]),'t' : np.array([0,0])})\n",
    "for i,skel in enumerate(skel_docs[1:]):\n",
    "    directory_name=f'2020{dates[i+1]}_Plate{0 if plate<10 else \"\"}{plate}'\n",
    "    path_snap='/scratch/shared/mrozemul/Fiji.app/'+directory_name\n",
    "    contour1,contour2 = contours[i],contours[i-1]\n",
    "    half_circle1,half_circle2 = half_circles[i],half_circles[i-1]\n",
    "    R1,xc1,yc1 = find_circle(*half_circle1.nonzero())\n",
    "    R2,xc2,yc2 = find_circle(*half_circle2.nonzero())\n",
    "    #prealignment based on half circle\n",
    "    X = np.array(contour1.nonzero())\n",
    "    Y = np.array(contour2.nonzero())\n",
    "    fig=plt.figure(figsize=(10,9))\n",
    "    ax = fig.add_subplot(111)\n",
    "    ax.scatter(X[0,:],X[1,:])\n",
    "    ax.scatter(Y[0,:],Y[1,:])\n",
    "    X = np.insert(X, 2, values=0, axis=0) \n",
    "    Y = np.insert(Y, 2, values=0, axis=0) \n",
    "    print(X.shape,Y.shape)\n",
    "    vectorX = o3d.utility.Vector3dVector(np.transpose(X))\n",
    "    vectorY = o3d.utility.Vector3dVector(np.transpose(Y))\n",
    "    source = o3d.geometry.PointCloud(vectorX)\n",
    "    target = o3d.geometry.PointCloud(vectorY)\n",
    "    threshold = 200\n",
    "    t_init=np.array([ xc_1-xc_2, yc_1-yc_2])\n",
    "    Rot_init = np.array([[ 1, 0],[ 0,  1]])\n",
    "    trans_init = np.asarray([[Rot_init[0,0], Rot_init[0,1], 0, t_init[0]],\n",
    "                             [Rot_init[1,0], Rot_init[1,1], 0, t_init[1]],\n",
    "                             [0, 0, 1, 0], [0.0, 0.0, 0.0, 1.0]])\n",
    "\n",
    "    reg_p2p = o3d.registration.registration_icp(\n",
    "        source, target, threshold, trans_init,\n",
    "        o3d.registration.TransformationEstimationPointToPoint())\n",
    "    print(reg_p2p)\n",
    "    Rfound = reg_p2p.transformation[0:2,0:2]\n",
    "    tfound = reg_p2p.transformation[0:2,3]\n",
    "    print(Rfound,tfound)\n",
    "    X,Y=X[0:2,:],Y[0:2,:]\n",
    "    Yrep=np.transpose(np.transpose(np.dot(Rfound,X))+tfound)\n",
    "    fig=plt.figure(figsize=(10,9))\n",
    "    ax = fig.add_subplot(111)\n",
    "    ax.scatter(np.transpose(Yrep)[:,0],np.transpose(Yrep)[:,1])\n",
    "    ax.scatter(np.transpose(Y)[:,0],np.transpose(Y)[:,1])\n",
    "    skel_aligned,skel_doc,R,t = realign_final(skel,skel_doc)\n",
    "    contours[i] = transform_skeleton(contours[i],R,t)\n",
    "    half_circles[i] = transform_skeleton(half_circles[i],R,t)\n",
    "    skel_sparse = scipy.sparse.csc_matrix(skel_aligned)\n",
    "    sio.savemat(path_snap+'/Analysis/skeleton_realigned.mat',{'skeleton' : skel_sparse,'R' : R,'t' : t})\n",
    "    plot_t_tp1([],[],None,None,skel_aligned[19000:21000,44000:46000],skel_aligned_t[19000:21000,44000:46000])\n",
    "    skel_aligned_t = skel_aligned"
   ]
  },
  {
   "cell_type": "code",
   "execution_count": 30,
   "metadata": {},
   "outputs": [
    {
     "name": "stdout",
     "output_type": "stream",
     "text": [
      "[4937.82736]\n",
      "[10913.437609]\n"
     ]
    },
    {
     "ename": "ValueError",
     "evalue": "operands could not be broadcast together with shapes (2,4908) (2,) ",
     "output_type": "error",
     "traceback": [
      "\u001b[0;31m---------------------------------------------------------------------------\u001b[0m",
      "\u001b[0;31mValueError\u001b[0m                                Traceback (most recent call last)",
      "\u001b[0;32m<ipython-input-30-c7335b2e6481>\u001b[0m in \u001b[0;36m<module>\u001b[0;34m()\u001b[0m\n\u001b[1;32m      1\u001b[0m skel_aligned,skel_doc,R,t = realign_final(skel_docs[0],skel_docs[1], t_init=np.array([1936,-2019]),Rot_init= np.array([[ 0.99999938, -0.00111566],\n\u001b[0;32m----> 2\u001b[0;31m  [ 0.00111566,  0.99999938]]))\n\u001b[0m\u001b[1;32m      3\u001b[0m \u001b[0;34m\u001b[0m\u001b[0m\n",
      "\u001b[0;32m<ipython-input-24-0552b4c74977>\u001b[0m in \u001b[0;36mrealign_final\u001b[0;34m(skeleton1, skeleton2, t_init, Rot_init)\u001b[0m\n\u001b[1;32m    170\u001b[0m     \u001b[0mX\u001b[0m \u001b[0;34m=\u001b[0m \u001b[0mnp\u001b[0m\u001b[0;34m.\u001b[0m\u001b[0mtranspose\u001b[0m\u001b[0;34m(\u001b[0m\u001b[0mnp\u001b[0m\u001b[0;34m.\u001b[0m\u001b[0marray\u001b[0m\u001b[0;34m(\u001b[0m\u001b[0;34m[\u001b[0m\u001b[0mpos1\u001b[0m\u001b[0;34m[\u001b[0m\u001b[0mnode\u001b[0m\u001b[0;34m]\u001b[0m \u001b[0;32mfor\u001b[0m \u001b[0mnode\u001b[0m \u001b[0;32min\u001b[0m \u001b[0mpruned1\u001b[0m \u001b[0;32mif\u001b[0m \u001b[0mpruned1\u001b[0m\u001b[0;34m.\u001b[0m\u001b[0mdegree\u001b[0m\u001b[0;34m(\u001b[0m\u001b[0mnode\u001b[0m\u001b[0;34m)\u001b[0m\u001b[0;34m==\u001b[0m\u001b[0;36m3\u001b[0m\u001b[0;34m]\u001b[0m\u001b[0;34m)\u001b[0m\u001b[0;34m)\u001b[0m\u001b[0;34m\u001b[0m\u001b[0;34m\u001b[0m\u001b[0m\n\u001b[1;32m    171\u001b[0m     \u001b[0mY\u001b[0m \u001b[0;34m=\u001b[0m \u001b[0mnp\u001b[0m\u001b[0;34m.\u001b[0m\u001b[0mtranspose\u001b[0m\u001b[0;34m(\u001b[0m\u001b[0mnp\u001b[0m\u001b[0;34m.\u001b[0m\u001b[0marray\u001b[0m\u001b[0;34m(\u001b[0m\u001b[0;34m[\u001b[0m\u001b[0mpos2\u001b[0m\u001b[0;34m[\u001b[0m\u001b[0mnode\u001b[0m\u001b[0;34m]\u001b[0m \u001b[0;32mfor\u001b[0m \u001b[0mnode\u001b[0m \u001b[0;32min\u001b[0m \u001b[0mpruned2\u001b[0m \u001b[0;32mif\u001b[0m \u001b[0mpruned2\u001b[0m\u001b[0;34m.\u001b[0m\u001b[0mdegree\u001b[0m\u001b[0;34m(\u001b[0m\u001b[0mnode\u001b[0m\u001b[0;34m)\u001b[0m\u001b[0;34m==\u001b[0m\u001b[0;36m3\u001b[0m\u001b[0;34m]\u001b[0m\u001b[0;34m)\u001b[0m\u001b[0;34m)\u001b[0m\u001b[0;34m\u001b[0m\u001b[0;34m\u001b[0m\u001b[0m\n\u001b[0;32m--> 172\u001b[0;31m     \u001b[0mXex\u001b[0m\u001b[0;34m=\u001b[0m\u001b[0mnp\u001b[0m\u001b[0;34m.\u001b[0m\u001b[0mtranspose\u001b[0m\u001b[0;34m(\u001b[0m\u001b[0mnp\u001b[0m\u001b[0;34m.\u001b[0m\u001b[0mtranspose\u001b[0m\u001b[0;34m(\u001b[0m\u001b[0mnp\u001b[0m\u001b[0;34m.\u001b[0m\u001b[0mdot\u001b[0m\u001b[0;34m(\u001b[0m\u001b[0mRot_init\u001b[0m\u001b[0;34m,\u001b[0m\u001b[0mX\u001b[0m\u001b[0;34m)\u001b[0m\u001b[0;34m+\u001b[0m\u001b[0mt_init\u001b[0m\u001b[0;34m)\u001b[0m\u001b[0;34m)\u001b[0m\u001b[0;34m\u001b[0m\u001b[0;34m\u001b[0m\u001b[0m\n\u001b[0m\u001b[1;32m    173\u001b[0m     \u001b[0mfig\u001b[0m\u001b[0;34m=\u001b[0m\u001b[0mplt\u001b[0m\u001b[0;34m.\u001b[0m\u001b[0mfigure\u001b[0m\u001b[0;34m(\u001b[0m\u001b[0mfigsize\u001b[0m\u001b[0;34m=\u001b[0m\u001b[0;34m(\u001b[0m\u001b[0;36m10\u001b[0m\u001b[0;34m,\u001b[0m\u001b[0;36m9\u001b[0m\u001b[0;34m)\u001b[0m\u001b[0;34m)\u001b[0m\u001b[0;34m\u001b[0m\u001b[0;34m\u001b[0m\u001b[0m\n\u001b[1;32m    174\u001b[0m     \u001b[0max\u001b[0m \u001b[0;34m=\u001b[0m \u001b[0mfig\u001b[0m\u001b[0;34m.\u001b[0m\u001b[0madd_subplot\u001b[0m\u001b[0;34m(\u001b[0m\u001b[0;36m111\u001b[0m\u001b[0;34m)\u001b[0m\u001b[0;34m\u001b[0m\u001b[0;34m\u001b[0m\u001b[0m\n",
      "\u001b[0;31mValueError\u001b[0m: operands could not be broadcast together with shapes (2,4908) (2,) "
     ]
    }
   ],
   "source": [
    "skel_aligned,skel_doc,R,t = realign_final(skel_docs[0],skel_docs[1], t_init=np.array([1936,-2019]),Rot_init= np.array([[ 0.99999938, -0.00111566],\n",
    " [ 0.00111566,  0.99999938]]))\n",
    "\n"
   ]
  },
  {
   "cell_type": "code",
   "execution_count": 40,
   "metadata": {},
   "outputs": [
    {
     "data": {
      "application/vnd.jupyter.widget-view+json": {
       "model_id": "79e66d0baaa443438b88874c20c74801",
       "version_major": 2,
       "version_minor": 0
      },
      "text/plain": [
       "Canvas(toolbar=Toolbar(toolitems=[('Home', 'Reset original view', 'home', 'home'), ('Back', 'Back to previous …"
      ]
     },
     "metadata": {},
     "output_type": "display_data"
    },
    {
     "data": {
      "application/vnd.jupyter.widget-view+json": {
       "model_id": "73474714f48b462c8d4f9013733515cf",
       "version_major": 2,
       "version_minor": 0
      },
      "text/plain": [
       "Canvas(toolbar=Toolbar(toolitems=[('Home', 'Reset original view', 'home', 'home'), ('Back', 'Back to previous …"
      ]
     },
     "metadata": {},
     "output_type": "display_data"
    },
    {
     "name": "stdout",
     "output_type": "stream",
     "text": [
      "(3, 4908) (3, 7337)\n",
      "registration::RegistrationResult with fitness=8.088835e-02, inlier_rmse=1.386270e+01, and correspondence_set size of 397\n",
      "Access transformation to get result.\n",
      "[[ 9.99999533e-01 -9.68449308e-04]\n",
      " [ 9.68449308e-04  9.99999533e-01]] [ 1923.4725809 -2012.1459129]\n"
     ]
    },
    {
     "data": {
      "application/vnd.jupyter.widget-view+json": {
       "model_id": "8f96e00e361a4f5fafb841c6e4e657f3",
       "version_major": 2,
       "version_minor": 0
      },
      "text/plain": [
       "Canvas(toolbar=Toolbar(toolitems=[('Home', 'Reset original view', 'home', 'home'), ('Back', 'Back to previous …"
      ]
     },
     "metadata": {},
     "output_type": "display_data"
    }
   ],
   "source": [
    "plt.close('all')\n",
    "# skeleton1,skeleton2 = skel_docs[0],skel_docs[1]\n",
    "t_init=np.array([1936,-2019])\n",
    "Rot_init= np.array([[ 0.99999938, -0.00111566],\n",
    " [ 0.00111566,  0.99999938]])\n",
    "# nx_graph1,pos1 = generate_nx_graph(from_sparse_to_graph(skeleton1))\n",
    "# nx_graph2,pos2 = generate_nx_graph(from_sparse_to_graph(skeleton2))\n",
    "# pruned1 = prune_graph(nx_graph1)\n",
    "# pruned2 = prune_graph(nx_graph2)\n",
    "X = np.transpose(np.array([pos1[node] for node in pruned1 if pruned1.degree(node)==3]))\n",
    "Y = np.transpose(np.array([pos2[node] for node in pruned2 if pruned2.degree(node)==3]))\n",
    "fig=plt.figure(figsize=(10,9))\n",
    "ax = fig.add_subplot(111)\n",
    "ax.scatter(X[0,:],X[1,:])\n",
    "ax.scatter(Y[0,:],Y[1,:])\n",
    "Xex = np.transpose(np.transpose(np.dot(Rot_init,X))+t_init)\n",
    "fig=plt.figure(figsize=(10,9))\n",
    "ax = fig.add_subplot(111)\n",
    "ax.scatter(Xex[0,:],Xex[1,:])\n",
    "ax.scatter(Y[0,:],Y[1,:])\n",
    "X = np.insert(X, 2, values=0, axis=0) \n",
    "Y = np.insert(Y, 2, values=0, axis=0) \n",
    "print(X.shape,Y.shape)\n",
    "vectorX = o3d.utility.Vector3dVector(np.transpose(X))\n",
    "vectorY = o3d.utility.Vector3dVector(np.transpose(Y))\n",
    "source = o3d.geometry.PointCloud(vectorX)\n",
    "target = o3d.geometry.PointCloud(vectorY)\n",
    "threshold = 20\n",
    "trans_init = np.asarray([[Rot_init[0,0], Rot_init[0,1], 0, t_init[0]],\n",
    "                         [Rot_init[1,0], Rot_init[1,1], 0, t_init[1]],\n",
    "                         [0, 0, 1, 0], [0.0, 0.0, 0.0, 1.0]])\n",
    "reg_p2p = o3d.registration.registration_icp(\n",
    "    source, target, threshold, trans_init,\n",
    "    o3d.registration.TransformationEstimationPointToPoint())\n",
    "print(reg_p2p)\n",
    "Rfound = reg_p2p.transformation[0:2,0:2]\n",
    "tfound = reg_p2p.transformation[0:2,3]\n",
    "print(Rfound,tfound)\n",
    "X,Y=X[0:2,:],Y[0:2,:]\n",
    "Yrep=np.transpose(np.transpose(np.dot(Rfound,X))+tfound)\n",
    "fig=plt.figure(figsize=(10,9))\n",
    "ax = fig.add_subplot(111)\n",
    "ax.scatter(np.transpose(Yrep)[:,0],np.transpose(Yrep)[:,1])\n",
    "ax.scatter(np.transpose(Y)[:,0],np.transpose(Y)[:,1])\n",
    "\n",
    "skel_transformed = transform_skeleton(skeleton1,Rfound,tfound)\n",
    "skel_mat = np.zeros((30000, 50000),dtype=np.uint8)\n",
    "for pixel in skel_transformed.keys():\n",
    "    skel_mat[pixel]=1\n"
   ]
  },
  {
   "cell_type": "code",
   "execution_count": 21,
   "metadata": {},
   "outputs": [
    {
     "data": {
      "application/vnd.jupyter.widget-view+json": {
       "model_id": "8a983d10e02b44489abef89bc08e1ef1",
       "version_major": 2,
       "version_minor": 0
      },
      "text/plain": [
       "Canvas(toolbar=Toolbar(toolitems=[('Home', 'Reset original view', 'home', 'home'), ('Back', 'Back to previous …"
      ]
     },
     "metadata": {},
     "output_type": "display_data"
    }
   ],
   "source": [
    "%matplotlib widget\n",
    "plot_t_tp1([],[],None,None,skel_aligned[19000:21000,44000:46000],skels[1][19000:21000,44000:46000].todense())\n"
   ]
  },
  {
   "cell_type": "code",
   "execution_count": null,
   "metadata": {},
   "outputs": [],
   "source": [
    "skel_docs[1]"
   ]
  },
  {
   "cell_type": "code",
   "execution_count": 25,
   "metadata": {},
   "outputs": [],
   "source": [
    "X=np.array(get_degree3_nodes(skel_docs[0]))\n",
    "Y = np.array(get_degree3_nodes(skel_docs[1]))\n"
   ]
  },
  {
   "cell_type": "code",
   "execution_count": 28,
   "metadata": {},
   "outputs": [
    {
     "data": {
      "application/vnd.jupyter.widget-view+json": {
       "model_id": "7a791fcc8c454de5a302115594d585c4",
       "version_major": 2,
       "version_minor": 0
      },
      "text/plain": [
       "Canvas(toolbar=Toolbar(toolitems=[('Home', 'Reset original view', 'home', 'home'), ('Back', 'Back to previous …"
      ]
     },
     "metadata": {},
     "output_type": "display_data"
    },
    {
     "name": "stdout",
     "output_type": "stream",
     "text": [
      "(3, 5219) (3, 7779)\n",
      "registration::RegistrationResult with fitness=1.149646e-03, inlier_rmse=9.666348e-02, and correspondence_set size of 6\n",
      "Access transformation to get result.\n",
      "[[ 9.99999966e-01 -2.63180600e-04]\n",
      " [ 2.63180600e-04  9.99999966e-01]] [ 1772.54157915 -1143.34802684]\n"
     ]
    },
    {
     "data": {
      "application/vnd.jupyter.widget-view+json": {
       "model_id": "40f8ac33128e4e5f94db8b7a5c3fce1e",
       "version_major": 2,
       "version_minor": 0
      },
      "text/plain": [
       "Canvas(toolbar=Toolbar(toolitems=[('Home', 'Reset original view', 'home', 'home'), ('Back', 'Back to previous …"
      ]
     },
     "metadata": {},
     "output_type": "display_data"
    },
    {
     "data": {
      "text/plain": [
       "<matplotlib.collections.PathCollection at 0x2b3e7cca4710>"
      ]
     },
     "execution_count": 28,
     "metadata": {},
     "output_type": "execute_result"
    }
   ],
   "source": [
    "X = np.transpose(X)\n",
    "Y=np.transpose(Y)\n",
    "fig=plt.figure(figsize=(10,9))\n",
    "ax = fig.add_subplot(111)\n",
    "ax.scatter(X[0,:],X[1,:])\n",
    "ax.scatter(Y[0,:],Y[1,:])\n",
    "X = np.insert(X, 2, values=0, axis=0) \n",
    "Y = np.insert(Y, 2, values=0, axis=0) \n",
    "print(X.shape,Y.shape)\n",
    "vectorX = o3d.utility.Vector3dVector(np.transpose(X))\n",
    "vectorY = o3d.utility.Vector3dVector(np.transpose(Y))\n",
    "source = o3d.geometry.PointCloud(vectorX)\n",
    "target = o3d.geometry.PointCloud(vectorY)\n",
    "threshold = 0.2\n",
    "t_init=np.array([ 1774.73372876, -1144.44026333])\n",
    "Rot_init = np.array([[ 9.99999951e-01, -3.15042571e-04],[ 3.15042571e-04,  9.99999951e-01]])\n",
    "trans_init = np.asarray([[Rot_init[0,0], Rot_init[0,1], 0, t_init[0]],\n",
    "                         [Rot_init[1,0], Rot_init[1,1], 0, t_init[1]],\n",
    "                         [0, 0, 1, 0], [0.0, 0.0, 0.0, 1.0]])\n",
    "\n",
    "reg_p2p = o3d.registration.registration_icp(\n",
    "    source, target, threshold, trans_init,\n",
    "    o3d.registration.TransformationEstimationPointToPoint())\n",
    "print(reg_p2p)\n",
    "Rfound = reg_p2p.transformation[0:2,0:2]\n",
    "tfound = reg_p2p.transformation[0:2,3]\n",
    "print(Rfound,tfound)\n",
    "X,Y=X[0:2,:],Y[0:2,:]\n",
    "Yrep=np.transpose(np.transpose(np.dot(Rfound,X))+tfound)\n",
    "fig=plt.figure(figsize=(10,9))\n",
    "ax = fig.add_subplot(111)\n",
    "ax.scatter(np.transpose(Yrep)[:,0],np.transpose(Yrep)[:,1])\n",
    "ax.scatter(np.transpose(Y)[:,0],np.transpose(Y)[:,1])"
   ]
  },
  {
   "cell_type": "code",
   "execution_count": 19,
   "metadata": {},
   "outputs": [
    {
     "data": {
      "application/vnd.jupyter.widget-view+json": {
       "model_id": "adf01205e5034c49bf15e60153edb6c6",
       "version_major": 2,
       "version_minor": 0
      },
      "text/plain": [
       "Canvas(toolbar=Toolbar(toolitems=[('Home', 'Reset original view', 'home', 'home'), ('Back', 'Back to previous …"
      ]
     },
     "metadata": {},
     "output_type": "display_data"
    }
   ],
   "source": [
    "for pixel in skel_doc.keys():\n",
    "    skel_aligned[pixel]=1\n",
    "plot_t_tp1([],[],None,None,skel_aligned[19000:21000,44000:46000],skel_aligned[19000:21000,44000:46000])"
   ]
  },
  {
   "cell_type": "code",
   "execution_count": 16,
   "metadata": {},
   "outputs": [
    {
     "data": {
      "text/plain": [
       "matrix([[0, 0, 0, ..., 0, 0, 0],\n",
       "        [0, 0, 0, ..., 0, 0, 0],\n",
       "        [0, 0, 0, ..., 0, 0, 0],\n",
       "        ...,\n",
       "        [0, 0, 0, ..., 0, 0, 0],\n",
       "        [0, 0, 0, ..., 0, 0, 0],\n",
       "        [0, 0, 0, ..., 0, 0, 0]], dtype=uint8)"
      ]
     },
     "execution_count": 16,
     "metadata": {},
     "output_type": "execute_result"
    }
   ],
   "source": [
    "skels[1].todense()"
   ]
  },
  {
   "cell_type": "code",
   "execution_count": 69,
   "metadata": {},
   "outputs": [],
   "source": [
    "plt.close('all')"
   ]
  },
  {
   "cell_type": "code",
   "execution_count": 6,
   "metadata": {},
   "outputs": [
    {
     "data": {
      "application/vnd.jupyter.widget-view+json": {
       "model_id": "bcec32e18e6c4127a3cae27d487bca63",
       "version_major": 2,
       "version_minor": 0
      },
      "text/plain": [
       "Canvas(toolbar=Toolbar(toolitems=[('Home', 'Reset original view', 'home', 'home'), ('Back', 'Back to previous …"
      ]
     },
     "metadata": {},
     "output_type": "display_data"
    }
   ],
   "source": [
    "plot_t_tp1([],[],None,None,skels[1][20000:24000,31000:35000].todense(),skels[1][20000:24000,31000:35000].todense())\n"
   ]
  },
  {
   "cell_type": "code",
   "execution_count": 40,
   "metadata": {},
   "outputs": [
    {
     "data": {
      "application/vnd.jupyter.widget-view+json": {
       "model_id": "4e0774fd0de24dfea6e4ce4cd659929b",
       "version_major": 2,
       "version_minor": 0
      },
      "text/plain": [
       "Canvas(toolbar=Toolbar(toolitems=[('Home', 'Reset original view', 'home', 'home'), ('Back', 'Back to previous …"
      ]
     },
     "metadata": {},
     "output_type": "display_data"
    }
   ],
   "source": [
    "plot_t_tp1([],[],None,None,skels[0][15000:19000,38000:42000].todense(),skels[1][15000:19000,38000:42000].todense())\n"
   ]
  },
  {
   "cell_type": "code",
   "execution_count": 1,
   "metadata": {},
   "outputs": [
    {
     "ename": "NameError",
     "evalue": "name 'plt' is not defined",
     "output_type": "error",
     "traceback": [
      "\u001b[0;31m---------------------------------------------------------------------------\u001b[0m",
      "\u001b[0;31mNameError\u001b[0m                                 Traceback (most recent call last)",
      "\u001b[0;32m<ipython-input-1-028121587e8c>\u001b[0m in \u001b[0;36m<module>\u001b[0;34m()\u001b[0m\n\u001b[0;32m----> 1\u001b[0;31m \u001b[0mplt\u001b[0m\u001b[0;34m.\u001b[0m\u001b[0mclose\u001b[0m\u001b[0;34m(\u001b[0m\u001b[0;34m'all'\u001b[0m\u001b[0;34m)\u001b[0m\u001b[0;34m\u001b[0m\u001b[0;34m\u001b[0m\u001b[0m\n\u001b[0m\u001b[1;32m      2\u001b[0m \u001b[0mplot_t_tp1\u001b[0m\u001b[0;34m(\u001b[0m\u001b[0;34m[\u001b[0m\u001b[0;34m]\u001b[0m\u001b[0;34m,\u001b[0m\u001b[0;34m[\u001b[0m\u001b[0;34m]\u001b[0m\u001b[0;34m,\u001b[0m\u001b[0;32mNone\u001b[0m\u001b[0;34m,\u001b[0m\u001b[0;32mNone\u001b[0m\u001b[0;34m,\u001b[0m\u001b[0mskel_aligned\u001b[0m\u001b[0;34m[\u001b[0m\u001b[0;36m19000\u001b[0m\u001b[0;34m:\u001b[0m\u001b[0;36m21000\u001b[0m\u001b[0;34m,\u001b[0m\u001b[0;36m44000\u001b[0m\u001b[0;34m:\u001b[0m\u001b[0;36m46000\u001b[0m\u001b[0;34m]\u001b[0m\u001b[0;34m,\u001b[0m\u001b[0mskel_aligned_t\u001b[0m\u001b[0;34m[\u001b[0m\u001b[0;36m19000\u001b[0m\u001b[0;34m:\u001b[0m\u001b[0;36m21000\u001b[0m\u001b[0;34m,\u001b[0m\u001b[0;36m44000\u001b[0m\u001b[0;34m:\u001b[0m\u001b[0;36m46000\u001b[0m\u001b[0;34m]\u001b[0m\u001b[0;34m)\u001b[0m\u001b[0;34m\u001b[0m\u001b[0;34m\u001b[0m\u001b[0m\n",
      "\u001b[0;31mNameError\u001b[0m: name 'plt' is not defined"
     ]
    }
   ],
   "source": [
    "plt.close('all')\n",
    "plot_t_tp1([],[],None,None,skel_aligned[19000:21000,44000:46000],skel_aligned_t[19000:21000,44000:46000])\n"
   ]
  },
  {
   "cell_type": "code",
   "execution_count": null,
   "metadata": {},
   "outputs": [],
   "source": [
    "    plot_t_tp1([],[],None,None,skel_aligned[19000:21000,44000:46000],skel_aligned_t[19000:21000,44000:46000])\n"
   ]
  },
  {
   "cell_type": "code",
   "execution_count": 74,
   "metadata": {},
   "outputs": [
    {
     "data": {
      "text/plain": [
       "array([[1., 0., 0., 0.],\n",
       "       [0., 1., 0., 0.],\n",
       "       [0., 0., 1., 0.],\n",
       "       [0., 0., 0., 1.]])"
      ]
     },
     "execution_count": 74,
     "metadata": {},
     "output_type": "execute_result"
    }
   ],
   "source": [
    "R\n",
    "trans_init"
   ]
  },
  {
   "cell_type": "code",
   "execution_count": 52,
   "metadata": {},
   "outputs": [
    {
     "data": {
      "text/plain": [
       "[<26387x50121 sparse matrix of type '<class 'numpy.uint8'>'\n",
       " \twith 1017225 stored elements in Compressed Sparse Column format>,\n",
       " <26217x49608 sparse matrix of type '<class 'numpy.uint8'>'\n",
       " \twith 1031982 stored elements in Compressed Sparse Column format>]"
      ]
     },
     "execution_count": 52,
     "metadata": {},
     "output_type": "execute_result"
    }
   ],
   "source": [
    "skels"
   ]
  },
  {
   "cell_type": "code",
   "execution_count": 8,
   "metadata": {},
   "outputs": [
    {
     "data": {
      "text/plain": [
       "64"
      ]
     },
     "execution_count": 8,
     "metadata": {},
     "output_type": "execute_result"
    }
   ],
   "source": [
    "import sys\n",
    "sys.getsizeof(skels[0])"
   ]
  },
  {
   "cell_type": "code",
   "execution_count": 7,
   "metadata": {},
   "outputs": [
    {
     "name": "stdout",
     "output_type": "stream",
     "text": [
      "[1465.453887]\n",
      "cleaning, number of nodes before 4217\n",
      "number of unsolved cases 208\n",
      "number of unsolved cases 110\n",
      "number of unsolved cases 102\n",
      "number of unsolved cases 102\n",
      "end cleaning, number of nodes after 3493\n",
      "[1564.79882]\n",
      "cleaning, number of nodes before 4292\n",
      "number of unsolved cases 173\n",
      "number of unsolved cases 90\n",
      "number of unsolved cases 83\n",
      "number of unsolved cases 83\n",
      "number of unsolved cases 83\n",
      "number of unsolved cases 83\n",
      "end cleaning, number of nodes after 3613\n",
      "[2003.15984]\n",
      "cleaning, number of nodes before 4840\n",
      "number of unsolved cases 144\n",
      "number of unsolved cases 59\n",
      "number of unsolved cases 54\n",
      "number of unsolved cases 54\n",
      "end cleaning, number of nodes after 4006\n",
      "[2568.74304]\n",
      "cleaning, number of nodes before 5520\n",
      "number of unsolved cases 276\n",
      "number of unsolved cases 114\n",
      "number of unsolved cases 98\n",
      "number of unsolved cases 89\n",
      "number of unsolved cases 87\n",
      "number of unsolved cases 83\n",
      "number of unsolved cases 83\n",
      "end cleaning, number of nodes after 4535\n"
     ]
    }
   ],
   "source": [
    "plate = 9\n",
    "directory = \"/scratch/shared/mrozemul/Fiji.app/\" \n",
    "listdir=os.listdir(directory) \n",
    "list_dir_interest=[name for name in listdir if name.split('_')[-1]==f'Plate{0 if plate<10 else \"\"}{plate}']\n",
    "ss=[name.split('_')[0] for name in list_dir_interest]\n",
    "ff=[name.split('_')[1] for name in list_dir_interest]\n",
    "dates_datetime=[datetime(year=int(ss[i][:4]),month=int(ss[i][4:6]),day=int(ss[i][6:8]),hour=int(ff[i][0:2]),minute=int(ff[i][2:4])) for i in range(len(list_dir_interest))]\n",
    "dates_datetime.sort()\n",
    "dates_datetime_chosen=dates_datetime[4:8]\n",
    "dates = [f'{0 if date.month<10 else \"\"}{date.month}{0 if date.day<10 else \"\"}{date.day}_{0 if date.hour<10 else \"\"}{date.hour}{0 if date.minute<10 else \"\"}{date.minute}' for date in dates_datetime_chosen]\n",
    "skels_aligned = []\n",
    "for date in dates:\n",
    "    directory_name=f'2020{date}_Plate{0 if plate<10 else \"\"}{plate}'\n",
    "    path_snap='/scratch/shared/mrozemul/Fiji.app/'+directory_name\n",
    "    dilated = read_mat(path_snap+'/Analysis/dilated.mat')['dilated']\n",
    "    skel = read_mat(path_snap+'/Analysis/skeleton_realigned.mat')['skeleton']\n",
    "    skels_aligned.append(scipy.sparse.dok_matrix(skel))\n",
    "nx_graph_poss=[generate_nx_graph(from_sparse_to_graph(skeleton)) for skeleton in skels_aligned]\n",
    "nx_graphs_aligned=[nx_graph_pos[0] for nx_graph_pos in nx_graph_poss]\n",
    "poss_aligned=[nx_graph_pos[1] for nx_graph_pos in nx_graph_poss]\n",
    "nx_graph_pruned=[clean_degree_4(prune_graph(nx_graph),poss_aligned[i])[0] for i,nx_graph in enumerate(nx_graphs_aligned)]"
   ]
  },
  {
   "cell_type": "code",
   "execution_count": 10,
   "metadata": {},
   "outputs": [],
   "source": [
    "import pickle\n",
    "for i,g in enumerate(nx_graph_pruned):\n",
    "    directory_name=f'2020{dates[i]}_Plate{0 if plate<10 else \"\"}{plate}'\n",
    "    path_snap='/scratch/shared/mrozemul/Fiji.app/'+directory_name\n",
    "    path_save = path_snap +'/Analysis/nx_graph_pruned.p'\n",
    "    pos = poss_aligned[i]\n",
    "    pickle.dump((g,pos),open( path_save, \"wb\" ))\n",
    "    "
   ]
  },
  {
   "cell_type": "code",
   "execution_count": 11,
   "metadata": {},
   "outputs": [],
   "source": [
    "nx_graph_pos_retrieved=[]\n",
    "for date in dates:\n",
    "    directory_name=f'2020{date}_Plate{0 if plate<10 else \"\"}{plate}'\n",
    "    path_snap='/scratch/shared/mrozemul/Fiji.app/'+directory_name\n",
    "    path_save = path_snap +'/Analysis/nx_graph_pruned.p'\n",
    "    (g,pos) = pickle.load(open( path_save, \"rb\" ))\n",
    "    nx_graph_pos_retrieved.append((g,pos))"
   ]
  },
  {
   "cell_type": "code",
   "execution_count": 40,
   "metadata": {},
   "outputs": [
    {
     "data": {
      "application/vnd.jupyter.widget-view+json": {
       "model_id": "7b15f37d9a064515ae213c4e1ee4e32f",
       "version_major": 2,
       "version_minor": 0
      },
      "text/plain": [
       "Canvas(toolbar=Toolbar(toolitems=[('Home', 'Reset original view', 'home', 'home'), ('Back', 'Back to previous …"
      ]
     },
     "metadata": {},
     "output_type": "display_data"
    }
   ],
   "source": [
    "plot_t_tp1([],[],None,None,skel_aligned_dense[1][19000:21000,44000:46000],skel_aligned_dense[2][19000:21000,44000:46000])"
   ]
  },
  {
   "cell_type": "code",
   "execution_count": 32,
   "metadata": {},
   "outputs": [],
   "source": [
    "skels_aligned[1]"
   ]
  },
  {
   "cell_type": "code",
   "execution_count": 6,
   "metadata": {},
   "outputs": [
    {
     "data": {
      "text/plain": [
       "<26316x49503 sparse matrix of type '<class 'numpy.uint8'>'\n",
       "\twith 465757 stored elements in Compressed Sparse Column format>"
      ]
     },
     "execution_count": 6,
     "metadata": {},
     "output_type": "execute_result"
    }
   ],
   "source": [
    "scipy.sparse.csc_matrix(skel)"
   ]
  },
  {
   "cell_type": "code",
   "execution_count": 3,
   "metadata": {},
   "outputs": [
    {
     "data": {
      "application/vnd.jupyter.widget-view+json": {
       "model_id": "bae8edbcf58d47c0ad023f99ff769af0",
       "version_major": 2,
       "version_minor": 0
      },
      "text/plain": [
       "Canvas(toolbar=Toolbar(toolitems=[('Home', 'Reset original view', 'home', 'home'), ('Back', 'Back to previous …"
      ]
     },
     "metadata": {},
     "output_type": "display_data"
    },
    {
     "name": "stdout",
     "output_type": "stream",
     "text": [
      "(3, 2763) (3, 3131)\n",
      "registration::RegistrationResult with fitness=9.290626e-01, inlier_rmse=5.239506e+00, and correspondence_set size of 2567\n",
      "Access transformation to get result.\n",
      "[[ 9.99999893e-01 -4.63437568e-04]\n",
      " [ 4.63437568e-04  9.99999893e-01]] [ 19.51041473 -32.80502458]\n"
     ]
    },
    {
     "data": {
      "application/vnd.jupyter.widget-view+json": {
       "model_id": "713090bf18474897b03ea0376477efbb",
       "version_major": 2,
       "version_minor": 0
      },
      "text/plain": [
       "Canvas(toolbar=Toolbar(toolitems=[('Home', 'Reset original view', 'home', 'home'), ('Back', 'Back to previous …"
      ]
     },
     "metadata": {},
     "output_type": "display_data"
    },
    {
     "data": {
      "text/plain": [
       "<matplotlib.collections.PathCollection at 0x2ab21f6036d0>"
      ]
     },
     "execution_count": 3,
     "metadata": {},
     "output_type": "execute_result"
    }
   ],
   "source": [
    "pos_t = graph_pos[0][1]\n",
    "pos_tp1 = graph_pos[1][1]\n",
    "pruned=[]\n",
    "\n",
    "X = np.transpose(np.array([pos_t[node] for node in pruned[0] if pruned[0].degree(node)==3]))\n",
    "Y = np.transpose(np.array([pos_tp1[node] for node in pruned[1] if pruned[1].degree(node)==3]))\n",
    "# X=[]\n",
    "# Y=[]\n",
    "# num=5\n",
    "# nodesX=[choice([node for node in pruned[0] if pruned[0].degree(node)==3]) for i in range(num)]\n",
    "# nodesY = [choice([node for node in pruned[1] if pruned[1].degree(node)==3]) for i in range(num)]\n",
    "# window = 200\n",
    "# g = pruned[0]\n",
    "# for node in nodesX:\n",
    "#     pos = pos_t[node]\n",
    "#     xy = skels[0][max(0,pos[0]-window):pos[0]+window,max(0,pos[1]-window):pos[1]+window].nonzero()\n",
    "#     xy2 = skels[1][max(0,pos[0]-window):pos[0]+window,max(0,pos[1]-window):pos[1]+window].nonzero()\n",
    "#     for i,x in enumerate(xy[0]):\n",
    "#         y = xy[1][i]\n",
    "#         X.append((pos[0]-window+x,pos[1]-window+y))\n",
    "#         if i<len(xy2[0]):\n",
    "#             x2,y2 = xy2[0][i],xy2[1][i]\n",
    "#             Y.append((pos[0]-window+x2,pos[1]-window+y2))\n",
    "# X=np.transpose(np.array(X))\n",
    "# Y=np.transpose(np.array(Y))\n",
    "X.shape,Y.shape\n",
    "fig=plt.figure(figsize=(10,9))\n",
    "\n",
    "ax = fig.add_subplot(111)\n",
    "ax.scatter(X[0,:],X[1,:])\n",
    "ax.scatter(Y[0,:],Y[1,:])\n",
    "X = np.insert(X, 2, values=0, axis=0) \n",
    "Y = np.insert(Y, 2, values=0, axis=0) \n",
    "print(X.shape,Y.shape)\n",
    "vectorX = o3d.utility.Vector3dVector(np.transpose(X))\n",
    "vectorY = o3d.utility.Vector3dVector(np.transpose(Y))\n",
    "source = o3d.geometry.PointCloud(vectorX)\n",
    "target = o3d.geometry.PointCloud(vectorY)\n",
    "threshold = 20\n",
    "trans_init = np.asarray([[1, 0, 0, 0],\n",
    "                         [0, 1, 0, 0],\n",
    "                         [0, 0, 1, 0], [0.0, 0.0, 0.0, 1.0]])\n",
    "reg_p2p = o3d.registration.registration_icp(\n",
    "    source, target, threshold, trans_init,\n",
    "    o3d.registration.TransformationEstimationPointToPoint())\n",
    "print(reg_p2p)\n",
    "Rfound = reg_p2p.transformation[0:2,0:2]\n",
    "tfound = reg_p2p.transformation[0:2,3]\n",
    "print(Rfound,tfound)\n",
    "X,Y=X[0:2,:],Y[0:2,:]\n",
    "Yrep=np.transpose(np.transpose(np.dot(Rfound,X))+tfound)\n",
    "fig=plt.figure(figsize=(10,9))\n",
    "ax = fig.add_subplot(111)\n",
    "ax.scatter(np.transpose(Y)[:,0],np.transpose(Y)[:,1])\n",
    "ax.scatter(np.transpose(Yrep)[:,0],np.transpose(Yrep)[:,1])"
   ]
  },
  {
   "cell_type": "code",
   "execution_count": 14,
   "metadata": {},
   "outputs": [
    {
     "data": {
      "text/plain": [
       "array([[ 9.99999893e-01,  4.63437568e-04],\n",
       "       [-4.63437568e-04,  9.99999893e-01]])"
      ]
     },
     "execution_count": 14,
     "metadata": {},
     "output_type": "execute_result"
    }
   ],
   "source": [
    "np.linalg.inv(Rfound)"
   ]
  },
  {
   "cell_type": "code",
   "execution_count": 7,
   "metadata": {},
   "outputs": [],
   "source": [
    "skel_transformed = transform_skeleton(skel_docs[0],Rfound,tfound)"
   ]
  },
  {
   "cell_type": "code",
   "execution_count": 7,
   "metadata": {},
   "outputs": [],
   "source": [
    "def prune_graph(nx_graph,threshold=100):\n",
    "    #should implement threshold!\n",
    "    S = [nx_graph.subgraph(c).copy() for c in nx.connected_components(nx_graph)]\n",
    "    selected = [g for g in S if g.size(weight=\"weight\")*len(g.nodes)/10**6>=threshold]\n",
    "    len_connected=[(nx_graph.size(weight=\"weight\")*len(nx_graph.nodes)/10**6) for nx_graph in selected]\n",
    "    print(len_connected)\n",
    "    G = selected[0]\n",
    "    for g in selected[1:]:\n",
    "        G = nx.compose(G,g)\n",
    "    return(G)\n",
    "def transform_skeleton(skeleton_doc,Rot,trans):\n",
    "    transformed_skeleton={}\n",
    "    transformed_keys = np.round(np.transpose(np.dot(Rot,np.transpose(np.array(list(skeleton_doc.keys())))))+trans).astype(np.int)\n",
    "    i=0\n",
    "    for pixel in list(transformed_keys):\n",
    "        i+=1\n",
    "        transformed_skeleton[(pixel[0],pixel[1])]=1\n",
    "    return(transformed_skeleton)"
   ]
  },
  {
   "cell_type": "code",
   "execution_count": 27,
   "metadata": {},
   "outputs": [],
   "source": [
    "def realign_final(skeleton1,skeleton2):\n",
    "    nx_graph1,pos1 = generate_nx_graph(from_sparse_to_graph(skeleton1))\n",
    "    nx_graph2,pos2 = generate_nx_graph(from_sparse_to_graph(skeleton2))\n",
    "    pruned1 = prune_graph(nx_graph1)\n",
    "    pruned2 = prune_graph(nx_graph2)\n",
    "    X = np.transpose(np.array([pos1[node] for node in pruned1 if pruned1.degree(node)==3]))\n",
    "    Y = np.transpose(np.array([pos2[node] for node in pruned2 if pruned2.degree(node)==3]))\n",
    "#     fig=plt.figure(figsize=(10,9))\n",
    "\n",
    "#     ax = fig.add_subplot(111)\n",
    "#     ax.scatter(X[0,:],X[1,:])\n",
    "#     ax.scatter(Y[0,:],Y[1,:])\n",
    "    X = np.insert(X, 2, values=0, axis=0) \n",
    "    Y = np.insert(Y, 2, values=0, axis=0) \n",
    "    print(X.shape,Y.shape)\n",
    "    vectorX = o3d.utility.Vector3dVector(np.transpose(X))\n",
    "    vectorY = o3d.utility.Vector3dVector(np.transpose(Y))\n",
    "    source = o3d.geometry.PointCloud(vectorX)\n",
    "    target = o3d.geometry.PointCloud(vectorY)\n",
    "    threshold = 20\n",
    "    trans_init = np.asarray([[1, 0, 0, 0],\n",
    "                             [0, 1, 0, 0],\n",
    "                             [0, 0, 1, 0], [0.0, 0.0, 0.0, 1.0]])\n",
    "    reg_p2p = o3d.registration.registration_icp(\n",
    "        source, target, threshold, trans_init,\n",
    "        o3d.registration.TransformationEstimationPointToPoint())\n",
    "    print(reg_p2p)\n",
    "    Rfound = reg_p2p.transformation[0:2,0:2]\n",
    "    tfound = reg_p2p.transformation[0:2,3]\n",
    "    print(Rfound,tfound)\n",
    "    X,Y=X[0:2,:],Y[0:2,:]\n",
    "    Yrep=np.transpose(np.transpose(np.dot(Rfound,X))+tfound)\n",
    "#     fig=plt.figure(figsize=(10,9))\n",
    "#     ax = fig.add_subplot(111)\n",
    "#     ax.scatter(np.transpose(Y)[:,0],np.transpose(Y)[:,1])\n",
    "#     ax.scatter(np.transpose(Yrep)[:,0],np.transpose(Yrep)[:,1])\n",
    "    skel_transformed = transform_skeleton(skeleton1,Rfound,tfound)\n",
    "    skel_mat = np.zeros((26322, 49527),dtype=np.uint8)\n",
    "    for pixel in skel_transformed.keys():\n",
    "        skel_mat[pixel]=1\n",
    "    return(skel_mat,skel_doc,Rfound,tfound)"
   ]
  },
  {
   "cell_type": "code",
   "execution_count": 15,
   "metadata": {},
   "outputs": [
    {
     "name": "stdout",
     "output_type": "stream",
     "text": [
      "[1993.99993]\n",
      "[1581.43881]\n"
     ]
    },
    {
     "data": {
      "application/vnd.jupyter.widget-view+json": {
       "model_id": "c098929c076741ea98fa4b00d8e20a44",
       "version_major": 2,
       "version_minor": 0
      },
      "text/plain": [
       "Canvas(toolbar=Toolbar(toolitems=[('Home', 'Reset original view', 'home', 'home'), ('Back', 'Back to previous …"
      ]
     },
     "metadata": {},
     "output_type": "display_data"
    },
    {
     "name": "stdout",
     "output_type": "stream",
     "text": [
      "(3, 3131) (3, 2763)\n",
      "registration::RegistrationResult with fitness=8.272118e-01, inlier_rmse=5.422845e+00, and correspondence_set size of 2590\n",
      "Access transformation to get result.\n",
      "[[ 9.99999904e-01  4.39147129e-04]\n",
      " [-4.39147129e-04  9.99999904e-01]] [-18.47679909  32.34018681]\n"
     ]
    },
    {
     "data": {
      "application/vnd.jupyter.widget-view+json": {
       "model_id": "9921b5d11af945deb0529c7eb77fe186",
       "version_major": 2,
       "version_minor": 0
      },
      "text/plain": [
       "Canvas(toolbar=Toolbar(toolitems=[('Home', 'Reset original view', 'home', 'home'), ('Back', 'Back to previous …"
      ]
     },
     "metadata": {},
     "output_type": "display_data"
    }
   ],
   "source": [
    "final_realigned = realign_final(skel_docs[1],skel_docs[0])"
   ]
  },
  {
   "cell_type": "code",
   "execution_count": 18,
   "metadata": {},
   "outputs": [
    {
     "data": {
      "application/vnd.jupyter.widget-view+json": {
       "model_id": "4b1fb0657ab44d90879324754be02a3e",
       "version_major": 2,
       "version_minor": 0
      },
      "text/plain": [
       "Canvas(toolbar=Toolbar(toolitems=[('Home', 'Reset original view', 'home', 'home'), ('Back', 'Back to previous …"
      ]
     },
     "metadata": {},
     "output_type": "display_data"
    }
   ],
   "source": [
    "skel_mat = np.zeros(skels[0].shape,dtype=np.uint8)\n",
    "for pixel in skel_transformed.keys():\n",
    "    skel_mat[pixel]=1\n",
    "# plt.close('all')\n",
    "plot_t_tp1([],[],None,None,final_realigned[0][19000:21000,44000:46000],skels[0][19000:21000,44000:46000])"
   ]
  },
  {
   "cell_type": "code",
   "execution_count": 22,
   "metadata": {},
   "outputs": [],
   "source": [
    "def get_neighbours(pixel,non_zero_pixel):\n",
    "    x=pixel[0]\n",
    "    y=pixel[1]\n",
    "    primary_neighbours = {(x+1,y),(x-1,y),(x,y+1),(x,y-1)}\n",
    "    secondary_neighbours = {(x+1,y-1),(x+1,y+1),(x-1,y+1),(x-1,y-1)}\n",
    "    num_neighbours = 0\n",
    "    actual_neighbours = []\n",
    "    for neighbour in primary_neighbours:\n",
    "        if neighbour in non_zero_pixel:\n",
    "            num_neighbours +=1\n",
    "            xp=neighbour[0]\n",
    "            yp=neighbour[1]\n",
    "            primary_neighboursp = {(xp+1,yp),(xp-1,yp),(xp,yp+1),(xp,yp-1)}\n",
    "            for neighbourp in primary_neighboursp:\n",
    "                secondary_neighbours.discard(neighbourp)\n",
    "            actual_neighbours.append(neighbour)\n",
    "    for neighbour in secondary_neighbours:\n",
    "        if neighbour in non_zero_pixel:\n",
    "            num_neighbours +=1\n",
    "            actual_neighbours.append(neighbour)\n",
    "    return(actual_neighbours,num_neighbours)\n",
    "def get_degree3_nodes(skel):\n",
    "    deg_3=[]\n",
    "    non_zero= skel.keys()\n",
    "    for pixel in non_zero:\n",
    "        n, num = get_neighbours(pixel,non_zero)\n",
    "        if num ==3:\n",
    "            deg_3.append(pixel)\n",
    "    return(deg_3)"
   ]
  },
  {
   "cell_type": "code",
   "execution_count": 20,
   "metadata": {},
   "outputs": [],
   "source": [
    "def get_degree3_nodes(skel):\n",
    "    deg_3=[]\n",
    "    non_zero= skel.keys()\n",
    "    for pixel in non_zero:\n",
    "        n, num = get_neighbours(pixel,non_zero)\n",
    "        if num ==3:\n",
    "            deg_3.append(pixel)\n",
    "    return(deg_3)"
   ]
  },
  {
   "cell_type": "code",
   "execution_count": 3,
   "metadata": {},
   "outputs": [],
   "source": [
    "pos_t = graph_pos[0][1]\n",
    "pos_tp1 = graph_pos[1][1]\n"
   ]
  },
  {
   "cell_type": "code",
   "execution_count": 4,
   "metadata": {},
   "outputs": [],
   "source": [
    "pruned=[]\n",
    "for nx_graph,pos in graph_pos:\n",
    "    S = [nx_graph.subgraph(c).copy() for c in nx.connected_components(nx_graph)]\n",
    "    selected = [g for g in S if g.size(weight=\"weight\")*len(g.nodes)/10**6>=100]\n",
    "    pruned.append(selected[0])"
   ]
  },
  {
   "cell_type": "code",
   "execution_count": 34,
   "metadata": {},
   "outputs": [
    {
     "data": {
      "text/plain": [
       "38720"
      ]
     },
     "execution_count": 34,
     "metadata": {},
     "output_type": "execute_result"
    }
   ],
   "source": [
    "pos[1]-window"
   ]
  },
  {
   "cell_type": "code",
   "execution_count": 51,
   "metadata": {},
   "outputs": [
    {
     "data": {
      "text/plain": [
       "(4335, 3940)"
      ]
     },
     "execution_count": 51,
     "metadata": {},
     "output_type": "execute_result"
    }
   ],
   "source": [
    "len(X),len(Y)"
   ]
  },
  {
   "cell_type": "code",
   "execution_count": 38,
   "metadata": {},
   "outputs": [
    {
     "ename": "NameError",
     "evalue": "name 'get_importance' is not defined",
     "output_type": "error",
     "traceback": [
      "\u001b[0;31m---------------------------------------------------------------------------\u001b[0m",
      "\u001b[0;31mNameError\u001b[0m                                 Traceback (most recent call last)",
      "\u001b[0;32m<ipython-input-38-7483de5f2bee>\u001b[0m in \u001b[0;36m<module>\u001b[0;34m()\u001b[0m\n\u001b[0;32m----> 1\u001b[0;31m \u001b[0mX\u001b[0m \u001b[0;34m=\u001b[0m \u001b[0mnp\u001b[0m\u001b[0;34m.\u001b[0m\u001b[0mtranspose\u001b[0m\u001b[0;34m(\u001b[0m\u001b[0mnp\u001b[0m\u001b[0;34m.\u001b[0m\u001b[0marray\u001b[0m\u001b[0;34m(\u001b[0m\u001b[0;34m[\u001b[0m\u001b[0mpos_t\u001b[0m\u001b[0;34m[\u001b[0m\u001b[0mnode\u001b[0m\u001b[0;34m]\u001b[0m \u001b[0;32mfor\u001b[0m \u001b[0mnode\u001b[0m \u001b[0;32min\u001b[0m \u001b[0mpruned\u001b[0m\u001b[0;34m[\u001b[0m\u001b[0;36m0\u001b[0m\u001b[0;34m]\u001b[0m \u001b[0;32mif\u001b[0m \u001b[0mpruned\u001b[0m\u001b[0;34m[\u001b[0m\u001b[0;36m0\u001b[0m\u001b[0;34m]\u001b[0m\u001b[0;34m.\u001b[0m\u001b[0mdegree\u001b[0m\u001b[0;34m(\u001b[0m\u001b[0mnode\u001b[0m\u001b[0;34m)\u001b[0m\u001b[0;34m==\u001b[0m\u001b[0;36m3\u001b[0m \u001b[0;32mand\u001b[0m \u001b[0mget_importance\u001b[0m\u001b[0;34m(\u001b[0m\u001b[0mpruned\u001b[0m\u001b[0;34m[\u001b[0m\u001b[0;36m0\u001b[0m\u001b[0;34m]\u001b[0m\u001b[0;34m,\u001b[0m\u001b[0mnode\u001b[0m\u001b[0;34m)\u001b[0m\u001b[0;34m>=\u001b[0m\u001b[0;36m10\u001b[0m\u001b[0;34m]\u001b[0m\u001b[0;34m)\u001b[0m\u001b[0;34m)\u001b[0m\u001b[0;34m\u001b[0m\u001b[0;34m\u001b[0m\u001b[0m\n\u001b[0m\u001b[1;32m      2\u001b[0m \u001b[0mY\u001b[0m \u001b[0;34m=\u001b[0m \u001b[0mnp\u001b[0m\u001b[0;34m.\u001b[0m\u001b[0mtranspose\u001b[0m\u001b[0;34m(\u001b[0m\u001b[0mnp\u001b[0m\u001b[0;34m.\u001b[0m\u001b[0marray\u001b[0m\u001b[0;34m(\u001b[0m\u001b[0;34m[\u001b[0m\u001b[0mpos_tp1\u001b[0m\u001b[0;34m[\u001b[0m\u001b[0mnode\u001b[0m\u001b[0;34m]\u001b[0m \u001b[0;32mfor\u001b[0m \u001b[0mnode\u001b[0m \u001b[0;32min\u001b[0m \u001b[0mpruned\u001b[0m\u001b[0;34m[\u001b[0m\u001b[0;36m1\u001b[0m\u001b[0;34m]\u001b[0m \u001b[0;32mif\u001b[0m \u001b[0mpruned\u001b[0m\u001b[0;34m[\u001b[0m\u001b[0;36m1\u001b[0m\u001b[0;34m]\u001b[0m\u001b[0;34m.\u001b[0m\u001b[0mdegree\u001b[0m\u001b[0;34m(\u001b[0m\u001b[0mnode\u001b[0m\u001b[0;34m)\u001b[0m\u001b[0;34m==\u001b[0m\u001b[0;36m3\u001b[0m \u001b[0;32mand\u001b[0m \u001b[0mget_importance\u001b[0m\u001b[0;34m(\u001b[0m\u001b[0mpruned\u001b[0m\u001b[0;34m[\u001b[0m\u001b[0;36m1\u001b[0m\u001b[0;34m]\u001b[0m\u001b[0;34m,\u001b[0m\u001b[0mnode\u001b[0m\u001b[0;34m)\u001b[0m\u001b[0;34m>=\u001b[0m\u001b[0;36m10\u001b[0m\u001b[0;34m]\u001b[0m\u001b[0;34m)\u001b[0m\u001b[0;34m)\u001b[0m\u001b[0;34m\u001b[0m\u001b[0;34m\u001b[0m\u001b[0m\n\u001b[1;32m      3\u001b[0m \u001b[0mX\u001b[0m\u001b[0;34m.\u001b[0m\u001b[0mshape\u001b[0m\u001b[0;34m,\u001b[0m\u001b[0mY\u001b[0m\u001b[0;34m.\u001b[0m\u001b[0mshape\u001b[0m\u001b[0;34m\u001b[0m\u001b[0;34m\u001b[0m\u001b[0m\n",
      "\u001b[0;32m<ipython-input-38-7483de5f2bee>\u001b[0m in \u001b[0;36m<listcomp>\u001b[0;34m(.0)\u001b[0m\n\u001b[0;32m----> 1\u001b[0;31m \u001b[0mX\u001b[0m \u001b[0;34m=\u001b[0m \u001b[0mnp\u001b[0m\u001b[0;34m.\u001b[0m\u001b[0mtranspose\u001b[0m\u001b[0;34m(\u001b[0m\u001b[0mnp\u001b[0m\u001b[0;34m.\u001b[0m\u001b[0marray\u001b[0m\u001b[0;34m(\u001b[0m\u001b[0;34m[\u001b[0m\u001b[0mpos_t\u001b[0m\u001b[0;34m[\u001b[0m\u001b[0mnode\u001b[0m\u001b[0;34m]\u001b[0m \u001b[0;32mfor\u001b[0m \u001b[0mnode\u001b[0m \u001b[0;32min\u001b[0m \u001b[0mpruned\u001b[0m\u001b[0;34m[\u001b[0m\u001b[0;36m0\u001b[0m\u001b[0;34m]\u001b[0m \u001b[0;32mif\u001b[0m \u001b[0mpruned\u001b[0m\u001b[0;34m[\u001b[0m\u001b[0;36m0\u001b[0m\u001b[0;34m]\u001b[0m\u001b[0;34m.\u001b[0m\u001b[0mdegree\u001b[0m\u001b[0;34m(\u001b[0m\u001b[0mnode\u001b[0m\u001b[0;34m)\u001b[0m\u001b[0;34m==\u001b[0m\u001b[0;36m3\u001b[0m \u001b[0;32mand\u001b[0m \u001b[0mget_importance\u001b[0m\u001b[0;34m(\u001b[0m\u001b[0mpruned\u001b[0m\u001b[0;34m[\u001b[0m\u001b[0;36m0\u001b[0m\u001b[0;34m]\u001b[0m\u001b[0;34m,\u001b[0m\u001b[0mnode\u001b[0m\u001b[0;34m)\u001b[0m\u001b[0;34m>=\u001b[0m\u001b[0;36m10\u001b[0m\u001b[0;34m]\u001b[0m\u001b[0;34m)\u001b[0m\u001b[0;34m)\u001b[0m\u001b[0;34m\u001b[0m\u001b[0;34m\u001b[0m\u001b[0m\n\u001b[0m\u001b[1;32m      2\u001b[0m \u001b[0mY\u001b[0m \u001b[0;34m=\u001b[0m \u001b[0mnp\u001b[0m\u001b[0;34m.\u001b[0m\u001b[0mtranspose\u001b[0m\u001b[0;34m(\u001b[0m\u001b[0mnp\u001b[0m\u001b[0;34m.\u001b[0m\u001b[0marray\u001b[0m\u001b[0;34m(\u001b[0m\u001b[0;34m[\u001b[0m\u001b[0mpos_tp1\u001b[0m\u001b[0;34m[\u001b[0m\u001b[0mnode\u001b[0m\u001b[0;34m]\u001b[0m \u001b[0;32mfor\u001b[0m \u001b[0mnode\u001b[0m \u001b[0;32min\u001b[0m \u001b[0mpruned\u001b[0m\u001b[0;34m[\u001b[0m\u001b[0;36m1\u001b[0m\u001b[0;34m]\u001b[0m \u001b[0;32mif\u001b[0m \u001b[0mpruned\u001b[0m\u001b[0;34m[\u001b[0m\u001b[0;36m1\u001b[0m\u001b[0;34m]\u001b[0m\u001b[0;34m.\u001b[0m\u001b[0mdegree\u001b[0m\u001b[0;34m(\u001b[0m\u001b[0mnode\u001b[0m\u001b[0;34m)\u001b[0m\u001b[0;34m==\u001b[0m\u001b[0;36m3\u001b[0m \u001b[0;32mand\u001b[0m \u001b[0mget_importance\u001b[0m\u001b[0;34m(\u001b[0m\u001b[0mpruned\u001b[0m\u001b[0;34m[\u001b[0m\u001b[0;36m1\u001b[0m\u001b[0;34m]\u001b[0m\u001b[0;34m,\u001b[0m\u001b[0mnode\u001b[0m\u001b[0;34m)\u001b[0m\u001b[0;34m>=\u001b[0m\u001b[0;36m10\u001b[0m\u001b[0;34m]\u001b[0m\u001b[0;34m)\u001b[0m\u001b[0;34m)\u001b[0m\u001b[0;34m\u001b[0m\u001b[0;34m\u001b[0m\u001b[0m\n\u001b[1;32m      3\u001b[0m \u001b[0mX\u001b[0m\u001b[0;34m.\u001b[0m\u001b[0mshape\u001b[0m\u001b[0;34m,\u001b[0m\u001b[0mY\u001b[0m\u001b[0;34m.\u001b[0m\u001b[0mshape\u001b[0m\u001b[0;34m\u001b[0m\u001b[0;34m\u001b[0m\u001b[0m\n",
      "\u001b[0;31mNameError\u001b[0m: name 'get_importance' is not defined"
     ]
    }
   ],
   "source": [
    "X = np.transpose(np.array([pos_t[node] for node in pruned[0] if pruned[0].degree(node)==3 and get_importance(pruned[0],node)>=10]))\n",
    "Y = np.transpose(np.array([pos_tp1[node] for node in pruned[1] if pruned[1].degree(node)==3 and get_importance(pruned[1],node)>=10]))\n",
    "X.shape,Y.shape"
   ]
  },
  {
   "cell_type": "code",
   "execution_count": 9,
   "metadata": {},
   "outputs": [
    {
     "data": {
      "text/plain": [
       "((2, 2763), (2, 3131))"
      ]
     },
     "execution_count": 9,
     "metadata": {},
     "output_type": "execute_result"
    }
   ],
   "source": [
    "X = np.transpose(np.array([pos_t[node] for node in pruned[0] if pruned[0].degree(node)==3]))\n",
    "Y = np.transpose(np.array([pos_tp1[node] for node in pruned[1] if pruned[1].degree(node)==3]))\n",
    "X.shape,Y.shape"
   ]
  },
  {
   "cell_type": "code",
   "execution_count": 78,
   "metadata": {},
   "outputs": [],
   "source": [
    "def get_importance(g,node):\n",
    "    score = np.inf\n",
    "    for edge in g.edges(node):\n",
    "        score =  min(score,g.get_edge_data(*edge)['weight'])\n",
    "    return(score)"
   ]
  },
  {
   "cell_type": "code",
   "execution_count": 80,
   "metadata": {},
   "outputs": [],
   "source": [
    "importance = []\n",
    "g=pruned[0]\n",
    "for node in g:\n",
    "    importance.append(get_importance(g,node))"
   ]
  },
  {
   "cell_type": "code",
   "execution_count": null,
   "metadata": {},
   "outputs": [],
   "source": [
    "fig=plt.figure(figsize=(14,11))\n",
    "ax = fig.add_subplot(111)\n",
    "ax.hist(importance,10)"
   ]
  },
  {
   "cell_type": "code",
   "execution_count": 4,
   "metadata": {},
   "outputs": [],
   "source": [
    "num=1\n",
    "nodesX=[choice([node for node in pruned[0] if pruned[0].degree(node)==3]) for i in range(num)]\n",
    "nodesY = [choice([node for node in pruned[1] if pruned[1].degree(node)==3]) for i in range(num)]"
   ]
  },
  {
   "cell_type": "code",
   "execution_count": 5,
   "metadata": {},
   "outputs": [
    {
     "ename": "NameError",
     "evalue": "name 'pos_t' is not defined",
     "output_type": "error",
     "traceback": [
      "\u001b[0;31m---------------------------------------------------------------------------\u001b[0m",
      "\u001b[0;31mNameError\u001b[0m                                 Traceback (most recent call last)",
      "\u001b[0;32m<ipython-input-5-fea960248bb0>\u001b[0m in \u001b[0;36m<module>\u001b[0;34m()\u001b[0m\n\u001b[1;32m      4\u001b[0m \u001b[0mg\u001b[0m \u001b[0;34m=\u001b[0m \u001b[0mpruned\u001b[0m\u001b[0;34m[\u001b[0m\u001b[0;36m0\u001b[0m\u001b[0;34m]\u001b[0m\u001b[0;34m\u001b[0m\u001b[0;34m\u001b[0m\u001b[0m\n\u001b[1;32m      5\u001b[0m \u001b[0;32mfor\u001b[0m \u001b[0mnode\u001b[0m \u001b[0;32min\u001b[0m \u001b[0mnodesX\u001b[0m\u001b[0;34m:\u001b[0m\u001b[0;34m\u001b[0m\u001b[0;34m\u001b[0m\u001b[0m\n\u001b[0;32m----> 6\u001b[0;31m     \u001b[0mpos\u001b[0m \u001b[0;34m=\u001b[0m \u001b[0mpos_t\u001b[0m\u001b[0;34m[\u001b[0m\u001b[0mnode\u001b[0m\u001b[0;34m]\u001b[0m\u001b[0;34m\u001b[0m\u001b[0;34m\u001b[0m\u001b[0m\n\u001b[0m\u001b[1;32m      7\u001b[0m     \u001b[0mxy\u001b[0m \u001b[0;34m=\u001b[0m \u001b[0mskels\u001b[0m\u001b[0;34m[\u001b[0m\u001b[0;36m0\u001b[0m\u001b[0;34m]\u001b[0m\u001b[0;34m[\u001b[0m\u001b[0mmax\u001b[0m\u001b[0;34m(\u001b[0m\u001b[0;36m0\u001b[0m\u001b[0;34m,\u001b[0m\u001b[0mpos\u001b[0m\u001b[0;34m[\u001b[0m\u001b[0;36m0\u001b[0m\u001b[0;34m]\u001b[0m\u001b[0;34m-\u001b[0m\u001b[0mwindow\u001b[0m\u001b[0;34m)\u001b[0m\u001b[0;34m:\u001b[0m\u001b[0mpos\u001b[0m\u001b[0;34m[\u001b[0m\u001b[0;36m0\u001b[0m\u001b[0;34m]\u001b[0m\u001b[0;34m+\u001b[0m\u001b[0mwindow\u001b[0m\u001b[0;34m,\u001b[0m\u001b[0mmax\u001b[0m\u001b[0;34m(\u001b[0m\u001b[0;36m0\u001b[0m\u001b[0;34m,\u001b[0m\u001b[0mpos\u001b[0m\u001b[0;34m[\u001b[0m\u001b[0;36m1\u001b[0m\u001b[0;34m]\u001b[0m\u001b[0;34m-\u001b[0m\u001b[0mwindow\u001b[0m\u001b[0;34m)\u001b[0m\u001b[0;34m:\u001b[0m\u001b[0mpos\u001b[0m\u001b[0;34m[\u001b[0m\u001b[0;36m1\u001b[0m\u001b[0;34m]\u001b[0m\u001b[0;34m+\u001b[0m\u001b[0mwindow\u001b[0m\u001b[0;34m]\u001b[0m\u001b[0;34m.\u001b[0m\u001b[0mnonzero\u001b[0m\u001b[0;34m(\u001b[0m\u001b[0;34m)\u001b[0m\u001b[0;34m\u001b[0m\u001b[0;34m\u001b[0m\u001b[0m\n\u001b[1;32m      8\u001b[0m     \u001b[0mxy2\u001b[0m \u001b[0;34m=\u001b[0m \u001b[0mskels\u001b[0m\u001b[0;34m[\u001b[0m\u001b[0;36m1\u001b[0m\u001b[0;34m]\u001b[0m\u001b[0;34m[\u001b[0m\u001b[0mmax\u001b[0m\u001b[0;34m(\u001b[0m\u001b[0;36m0\u001b[0m\u001b[0;34m,\u001b[0m\u001b[0mpos\u001b[0m\u001b[0;34m[\u001b[0m\u001b[0;36m0\u001b[0m\u001b[0;34m]\u001b[0m\u001b[0;34m-\u001b[0m\u001b[0mwindow\u001b[0m\u001b[0;34m)\u001b[0m\u001b[0;34m:\u001b[0m\u001b[0mpos\u001b[0m\u001b[0;34m[\u001b[0m\u001b[0;36m0\u001b[0m\u001b[0;34m]\u001b[0m\u001b[0;34m+\u001b[0m\u001b[0mwindow\u001b[0m\u001b[0;34m,\u001b[0m\u001b[0mmax\u001b[0m\u001b[0;34m(\u001b[0m\u001b[0;36m0\u001b[0m\u001b[0;34m,\u001b[0m\u001b[0mpos\u001b[0m\u001b[0;34m[\u001b[0m\u001b[0;36m1\u001b[0m\u001b[0;34m]\u001b[0m\u001b[0;34m-\u001b[0m\u001b[0mwindow\u001b[0m\u001b[0;34m)\u001b[0m\u001b[0;34m:\u001b[0m\u001b[0mpos\u001b[0m\u001b[0;34m[\u001b[0m\u001b[0;36m1\u001b[0m\u001b[0;34m]\u001b[0m\u001b[0;34m+\u001b[0m\u001b[0mwindow\u001b[0m\u001b[0;34m]\u001b[0m\u001b[0;34m.\u001b[0m\u001b[0mnonzero\u001b[0m\u001b[0;34m(\u001b[0m\u001b[0;34m)\u001b[0m\u001b[0;34m\u001b[0m\u001b[0;34m\u001b[0m\u001b[0m\n",
      "\u001b[0;31mNameError\u001b[0m: name 'pos_t' is not defined"
     ]
    }
   ],
   "source": [
    "X=[]\n",
    "Y=[]\n",
    "window = 200\n",
    "g = pruned[0]\n",
    "for node in nodesX:\n",
    "    pos = pos_t[node]\n",
    "    xy = skels[0][max(0,pos[0]-window):pos[0]+window,max(0,pos[1]-window):pos[1]+window].nonzero()\n",
    "    xy2 = skels[1][max(0,pos[0]-window):pos[0]+window,max(0,pos[1]-window):pos[1]+window].nonzero()\n",
    "    for i,x in enumerate(xy[0]):\n",
    "        y = xy[1][i]\n",
    "        X.append((pos[0]-window+x,pos[1]-window+y))\n",
    "        if i<len(xy2[0]):\n",
    "            x2,y2 = xy2[0][i],xy2[1][i]\n",
    "            Y.append((pos[0]-window+x2,pos[1]-window+y2))\n"
   ]
  },
  {
   "cell_type": "code",
   "execution_count": 6,
   "metadata": {},
   "outputs": [],
   "source": []
  },
  {
   "cell_type": "code",
   "execution_count": 10,
   "metadata": {},
   "outputs": [
    {
     "data": {
      "text/plain": [
       "((3, 2763), (3, 3131))"
      ]
     },
     "execution_count": 10,
     "metadata": {},
     "output_type": "execute_result"
    }
   ],
   "source": [
    "X = np.insert(X, 2, values=0, axis=0) \n",
    "Y = np.insert(Y, 2, values=0, axis=0) \n",
    "X.shape,Y.shape\n"
   ]
  },
  {
   "cell_type": "code",
   "execution_count": 4,
   "metadata": {},
   "outputs": [
    {
     "name": "stdout",
     "output_type": "stream",
     "text": [
      "[[ 0.9966081 -0.0822939]\n",
      " [ 0.0822939  0.9966081]] [[0.11547774]\n",
      " [0.37731306]]\n"
     ]
    },
    {
     "data": {
      "application/vnd.jupyter.widget-view+json": {
       "model_id": "7091bfc7ba0d43008d28bd1c626fba01",
       "version_major": 2,
       "version_minor": 0
      },
      "text/plain": [
       "Canvas(toolbar=Toolbar(toolitems=[('Home', 'Reset original view', 'home', 'home'), ('Back', 'Back to previous …"
      ]
     },
     "metadata": {},
     "output_type": "display_data"
    },
    {
     "name": "stdout",
     "output_type": "stream",
     "text": [
      "registration::RegistrationResult with fitness=1.000000e+00, inlier_rmse=9.583941e-01, and correspondence_set size of 4000\n",
      "Access transformation to get result.\n",
      "Transformation is:\n",
      "[[ 0.9968446  -0.07937788  0.         -1.40800181]\n",
      " [ 0.07937788  0.9968446   0.          1.7217043 ]\n",
      " [ 0.          0.          1.          0.        ]\n",
      " [ 0.          0.          0.          1.        ]]\n"
     ]
    }
   ],
   "source": [
    "X = []\n",
    "dimx = 1000\n",
    "dimy = 1000\n",
    "for i in range(dimx):\n",
    "    X.append((i,0))\n",
    "    X.append((i,dimy))\n",
    "for i in range(dimy):\n",
    "    X.append((dimx,i))\n",
    "    X.append((0,i))\n",
    "X=np.transpose(np.array(X))\n",
    "angle = np.random.uniform(0,np.pi/16)\n",
    "R=np.array([[np.cos(angle),-np.sin(angle)],[np.sin(angle),np.cos(angle)]])\n",
    "t = np.random.uniform(0,1,(2,1))\n",
    "print(R,t)\n",
    "Y=np.transpose(np.transpose(np.dot(R,X))+np.transpose(t))\n",
    "np.random.shuffle(np.transpose(Y))\n",
    "fig=plt.figure(figsize=(10,9))\n",
    "\n",
    "ax = fig.add_subplot(111)\n",
    "ax.scatter(X[0,:],X[1,:])\n",
    "ax.scatter(Y[0,:],Y[1,:])\n",
    "X = np.insert(X, 2, values=0, axis=0) \n",
    "Y = np.insert(Y, 2, values=0, axis=0) \n",
    "vectorX = o3d.utility.Vector3dVector(np.transpose(X))\n",
    "vectorY = o3d.utility.Vector3dVector(np.transpose(Y))\n",
    "source = o3d.geometry.PointCloud(vectorX)\n",
    "target = o3d.geometry.PointCloud(vectorY)\n",
    "threshold = 20\n",
    "trans_init = np.asarray([[1, 0, 0, 0],\n",
    "                         [0, 1, 0, 0],\n",
    "                         [0, 0, 1, 0], [0.0, 0.0, 0.0, 1.0]])\n",
    "reg_p2p = o3d.registration.registration_icp(\n",
    "    source, target, threshold, trans_init,\n",
    "    o3d.registration.TransformationEstimationPointToPoint())\n",
    "print(reg_p2p)\n",
    "print(\"Transformation is:\")\n",
    "print(reg_p2p.transformation)"
   ]
  },
  {
   "cell_type": "code",
   "execution_count": 92,
   "metadata": {},
   "outputs": [
    {
     "data": {
      "text/plain": [
       "((2, 2014), (2, 2014))"
      ]
     },
     "execution_count": 92,
     "metadata": {},
     "output_type": "execute_result"
    }
   ],
   "source": [
    "X.shape,Y.shape"
   ]
  },
  {
   "cell_type": "code",
   "execution_count": null,
   "metadata": {},
   "outputs": [
    {
     "data": {
      "application/vnd.jupyter.widget-view+json": {
       "model_id": "6adba99f5f034df39f32b3a5a589610c",
       "version_major": 2,
       "version_minor": 0
      },
      "text/plain": [
       "Canvas(toolbar=Toolbar(toolitems=[('Home', 'Reset original view', 'home', 'home'), ('Back', 'Back to previous …"
      ]
     },
     "metadata": {},
     "output_type": "display_data"
    }
   ],
   "source": [
    "fig=plt.figure(figsize=(10,9))\n",
    "ax = fig.add_subplot(111)\n",
    "ax.scatter(X[0,:],X[1,:])\n",
    "ax.scatter(Y[0,:],Y[1,:])\n",
    "reg = RigidRegistration(R=np.array([[1,0],[0,1]]),t=np.array([[0,0]]),**{'X': np.transpose(X), 'Y': np.transpose(Y)})\n",
    "out = reg.register()\n",
    "Rfound = reg.R\n",
    "tfound= reg.t\n",
    "print(Rfound,tfound)\n",
    "Yrep=np.transpose(np.transpose(np.dot(Rfound,np.transpose(np.transpose(X))))-tfound)\n",
    "fig=plt.figure(figsize=(10,9))\n",
    "ax = fig.add_subplot(111)\n",
    "ax.scatter(np.transpose(Y)[:,0],np.transpose(Y)[:,1])\n",
    "ax.scatter(np.transpose(Yrep)[:,0],np.transpose(Yrep)[:,1])"
   ]
  },
  {
   "cell_type": "code",
   "execution_count": 54,
   "metadata": {},
   "outputs": [],
   "source": [
    "def realign_final(skeleton1,skeleton2):\n",
    "    nx_graph1,pos1 = generate_nx_graph(from_sparse_to_graph(skeleton1))\n",
    "    nx_graph2,pos2 = generate_nx_graph(from_sparse_to_graph(skeleton2))\n",
    "    pruned1 = prune_graph(nx_graph1)\n",
    "    pruned2 = prune_graph(nx_graph2)\n",
    "    X = np.transpose(np.array([pos1[node] for node in pruned1 if pruned1.degree(node)==3]))\n",
    "    Y = np.transpose(np.array([pos2[node] for node in pruned2 if pruned2.degree(node)==3]))\n",
    "    reg = RigidRegistration(R=np.array([[1,0],[0,1]]),t=np.array([[0,0]]),**{'X': np.transpose(X), 'Y': np.transpose(Y)})\n",
    "    out = reg.register()\n",
    "    Rfound = reg.R\n",
    "    tfound= reg.t\n",
    "    skel_transformed = transform_skeleton(skeleton2,Rfound,tfound)\n",
    "    skel_mat = np.zeros((26322, 49527),dtype=np.uint8)\n",
    "    for pixel in skel_transformed.keys():\n",
    "        skel_mat[pixel]=1\n",
    "    return(skel_mat,Rfound,tfound)"
   ]
  },
  {
   "cell_type": "code",
   "execution_count": 104,
   "metadata": {},
   "outputs": [
    {
     "name": "stdout",
     "output_type": "stream",
     "text": [
      "[700.88858]\n",
      "[1012.7436]\n"
     ]
    }
   ],
   "source": [
    "\n",
    "def transform_skeleton(skeleton_doc,Rot,trans):\n",
    "    transformed_skeleton={}\n",
    "    transformed_keys = (np.round(np.transpose(np.dot(np.linalg.inv(Rot),np.transpose(np.array(list(skeleton_doc.keys())))))+trans).astype(np.int))\n",
    "    i=0\n",
    "    for pixel in list(transformed_keys):\n",
    "        i+=1\n",
    "        transformed_skeleton[(pixel[0],pixel[1])]=1\n",
    "    return(transformed_skeleton)\n",
    "def transform_skeleton(skeleton_doc,Rot,trans):\n",
    "    transformed_skeleton={}\n",
    "    transformed_keys = (np.round(np.transpose(np.dot(np.linalg.inv(Rot),np.transpose(np.array(list(skeleton_doc.keys())))))+trans).astype(np.int))\n",
    "    i=0\n",
    "    for pixel in list(transformed_keys):\n",
    "        i+=1\n",
    "        transformed_skeleton[(pixel[0],pixel[1])]=1\n",
    "    return(transformed_skeleton)\n",
    "skel_mat3 = realign_final(skel_docs[0],skel_docs[1])"
   ]
  },
  {
   "cell_type": "code",
   "execution_count": 122,
   "metadata": {},
   "outputs": [],
   "source": [
    "skel_mat = np.zeros(skels[0].shape,dtype=np.uint8)\n",
    "for pixel in skel_transformed.keys():\n",
    "    skel_mat[pixel]=1"
   ]
  },
  {
   "cell_type": "code",
   "execution_count": 123,
   "metadata": {},
   "outputs": [
    {
     "data": {
      "application/vnd.jupyter.widget-view+json": {
       "model_id": "19893a18cdcb419db4ce2a9d533dcda1",
       "version_major": 2,
       "version_minor": 0
      },
      "text/plain": [
       "Canvas(toolbar=Toolbar(toolitems=[('Home', 'Reset original view', 'home', 'home'), ('Back', 'Back to previous …"
      ]
     },
     "metadata": {},
     "output_type": "display_data"
    }
   ],
   "source": [
    "plt.close('all')\n",
    "plot_t_tp1([],[],None,None,skel_mat[19000:21000,44000:46000],skels[0][19000:21000,44000:46000])"
   ]
  },
  {
   "cell_type": "code",
   "execution_count": 48,
   "metadata": {},
   "outputs": [
    {
     "data": {
      "application/vnd.jupyter.widget-view+json": {
       "model_id": "86965481e7e04eac9dc0a6c9ff4032c5",
       "version_major": 2,
       "version_minor": 0
      },
      "text/plain": [
       "Canvas(toolbar=Toolbar(toolitems=[('Home', 'Reset original view', 'home', 'home'), ('Back', 'Back to previous …"
      ]
     },
     "metadata": {},
     "output_type": "display_data"
    }
   ],
   "source": [
    "plt.close('all')\n",
    "plot_t_tp1([],[],None,None,skel_mat[19000:21000,44000:46000],skels[1][19000:21000,44000:46000])"
   ]
  },
  {
   "cell_type": "code",
   "execution_count": 51,
   "metadata": {},
   "outputs": [
    {
     "data": {
      "application/vnd.jupyter.widget-view+json": {
       "model_id": "edbae2795c2f4b6bb5932f28cdca0423",
       "version_major": 2,
       "version_minor": 0
      },
      "text/plain": [
       "Canvas(toolbar=Toolbar(toolitems=[('Home', 'Reset original view', 'home', 'home'), ('Back', 'Back to previous …"
      ]
     },
     "metadata": {},
     "output_type": "display_data"
    }
   ],
   "source": [
    "plot_t_tp1([],[],None,None,skel_mat2[19000:21000,44000:46000],skels[1][19000:21000,44000:46000])"
   ]
  },
  {
   "cell_type": "code",
   "execution_count": 16,
   "metadata": {},
   "outputs": [
    {
     "data": {
      "application/vnd.jupyter.widget-view+json": {
       "model_id": "1cde227f3fa84d46a8546885a7a84bf9",
       "version_major": 2,
       "version_minor": 0
      },
      "text/plain": [
       "Canvas(toolbar=Toolbar(toolitems=[('Home', 'Reset original view', 'home', 'home'), ('Back', 'Back to previous …"
      ]
     },
     "metadata": {},
     "output_type": "display_data"
    }
   ],
   "source": [
    "plot_t_tp1([],[],None,None,skels[0][19000:21000,44000:46000],skels[1][19000:21000,44000:46000])"
   ]
  },
  {
   "cell_type": "code",
   "execution_count": 27,
   "metadata": {},
   "outputs": [],
   "source": [
    "import pandas as pd\n",
    "import networkx as nx\n",
    "import numpy as np\n",
    "from extract_graph import generate_nx_graph, transform_list, generate_skeleton, generate_nx_graph_from_skeleton, from_nx_to_tab\n",
    "from node_id import whole_movement_identification\n",
    "import ast\n",
    "from plotutil import plot_t_tp1\n",
    "from scipy import sparse\n",
    "from sparse_util import dilate, zhangSuen\n",
    "from scipy.optimize import minimize\n",
    "from time import time\n",
    "\n",
    "\n",
    "def transform_skeleton(skeleton_doc,Rot,trans):\n",
    "    transformed_skeleton={}\n",
    "    transformed_keys = np.round(np.transpose(np.dot(Rot,np.transpose(np.array(list(skeleton_doc.keys())))))+trans).astype(np.int)\n",
    "    i=0\n",
    "    for pixel in list(transformed_keys):\n",
    "        i+=1\n",
    "        transformed_skeleton[(pixel[0],pixel[1])]=1\n",
    "    return(transformed_skeleton)\n",
    "\n",
    "def realign(skeleton1,nx_graphB,posB,convergence_threshold,window=500,maxdist=50,save=''):\n",
    "    converged=False\n",
    "    nx_graphA,posA=generate_nx_graph_from_skeleton(skeleton1) \n",
    "    t0=np.array([0,0])\n",
    "    R0=np.identity(2)\n",
    "    while not converged:\n",
    "        listeA,listeB = find_common_group_nodes(nx_graphA,nx_graphB,posA,posB,R0,t0,maxdist=maxdist,window=window)\n",
    "        H=np.dot(np.transpose(np.array(listeA)-np.mean(listeA,axis=0)),np.array(listeB)-np.mean(listeB,axis=0))\n",
    "        U,S,V=np.linalg.svd(H)\n",
    "        R=np.dot(V,np.transpose(U))\n",
    "        t=np.mean(listeB,axis=0)-np.dot(R,np.mean(listeA,axis=0))\n",
    "        print(\"number_common_nodes_found :\",len(listeA))\n",
    "        if np.linalg.norm(t)<=convergence_threshold:\n",
    "            converged=True\n",
    "        R0=np.dot(R,R0)\n",
    "        t0=t+t0\n",
    "    skeleton_transformed=transform_skeleton(skeleton1,R0,t0)\n",
    "    skeleton_transformed=dilate(skeleton_transformed)\n",
    "    skeleton_transformed=dilate(skeleton_transformed)\n",
    "    skeleton_transformed=zhangSuen(skeleton_transformed)\n",
    "    if len(save)>=0:\n",
    "        from_nx_to_tab(*generate_nx_graph_from_skeleton(skeleton_transformed)).to_csv(save+'_raw_aligned_skeleton.csv')\n",
    "        np.savetxt(save+'rot.txt',R0)\n",
    "        np.savetxt(save+'trans.txt',t0)\n",
    "    print(\"R0=\",R0,'t0=',t0)\n",
    "    return(skeleton_transformed)\n",
    "\n",
    "def find_common_group_nodes(Sa,Sb,degree3_nodesa,degree3_nodesb,posa,posb,R0,t0,window=500,maxdist=50):\n",
    "    common_nodes_a = []\n",
    "    common_nodes_b = []\n",
    "    common_centroida = []\n",
    "    common_centroidb = []\n",
    "    t=time()\n",
    "    posarottrans = {key : np.round(np.transpose(np.dot(R0,np.transpose(np.array(posa[key])))+t0)).astype(np.int) for key in degree3_nodesa}\n",
    "#     print(\"rotating translating\",time()-t)\n",
    "    for node in degree3_nodesa:\n",
    "        t=time()\n",
    "        posanchor=posarottrans[node]\n",
    "        potential_surroundinga=Sa[posanchor[0]-2*window:posanchor[0]+2*window,posanchor[1]-2*window:posanchor[1]+2*window]\n",
    "        potential_surroundingb=Sb[posanchor[0]-2*window:posanchor[0]+2*window,posanchor[1]-2*window:posanchor[1]+2*window]\n",
    "#         print(\"candidates\",len(potential_surroundinga.data))\n",
    "#         print(\"finding_potential_surrounding\",time()-t)\n",
    "        t=time()\n",
    "        surrounding_nodesa=[node for node in potential_surroundinga.data if \n",
    "                            (posanchor[0]-window<posarottrans[int(node)][0]<posanchor[0]+window and posanchor[1]-window<posarottrans[int(node)][1]<posanchor[1]+window \n",
    "                             )]\n",
    "        surrounding_nodesb=[node for node in potential_surroundingb.data if \n",
    "                    (posanchor[0]-window<posb[int(node)][0]<posanchor[0]+window and posanchor[1]-window<posb[int(node)][1]<posanchor[1]+window \n",
    "                    )]\n",
    "#         print(\"finding_surrounding\",time()-t)\n",
    "        t=time()\n",
    "        if len(surrounding_nodesa)==len(surrounding_nodesb):\n",
    "            possurroundinga=[posarottrans[node] for node in surrounding_nodesa]\n",
    "            possurroundingb=[posb[node] for node in surrounding_nodesb]\n",
    "            centroida= np.mean(possurroundinga,axis=0)\n",
    "            centroidb= np.mean(possurroundingb,axis=0)\n",
    "            if np.linalg.norm(centroida-centroidb)<=maxdist:\n",
    "                common_centroida.append(centroida)\n",
    "                common_centroidb.append(centroidb)\n",
    "    return(common_centroida,common_centroidb)\n",
    "\n",
    "def realign2(skeleton1,skeleton2,convergence_threshold,window=500,maxdist=50,save=''):\n",
    "    converged=False\n",
    "    tim=time()\n",
    "    nx_graphA,posA=generate_nx_graph_from_skeleton(skeleton1)\n",
    "    nx_graphB,posB=generate_nx_graph_from_skeleton(skeleton2)\n",
    "    print(\"generate_nx_graph_from_skeleton, t=\",tim-time())\n",
    "    tim=time()\n",
    "    t0=np.array([0,0])\n",
    "    R0=np.identity(2)\n",
    "    degree3_nodesa = [node for node in nx_graphA if nx_graphA.degree(node)==3]\n",
    "    degree3_nodesb = [node for node in nx_graphB if nx_graphB.degree(node)==3]\n",
    "    print(\"lennodes=\",len(degree3_nodesa))\n",
    "    Sa=sparse.csr_matrix((26296, 49559))\n",
    "    Sb=sparse.csr_matrix((26296, 49559))\n",
    "    for node in degree3_nodesa:\n",
    "        Sa[posA[node][0],posA[node][1]]=node\n",
    "    for node in degree3_nodesb:\n",
    "        Sb[posB[node][0],posB[node][1]]=node\n",
    "    while not converged:\n",
    "        listeA,listeB = find_common_group_nodes(Sa,Sb,degree3_nodesa,degree3_nodesb,posA,posB,R0,t0,maxdist=maxdist,window=window)\n",
    "        H=np.dot(np.transpose(np.array(listeA)-np.mean(listeA,axis=0)),np.array(listeB)-np.mean(listeB,axis=0))\n",
    "        U,S,V=np.linalg.svd(H)\n",
    "        R=np.dot(V,np.transpose(U))\n",
    "        t=np.mean(listeB,axis=0)-np.dot(R,np.mean(listeA,axis=0))\n",
    "        print(\"number_common_nodes_found :\",len(listeA))\n",
    "        if np.linalg.norm(t)<=convergence_threshold:\n",
    "            converged=True\n",
    "        R0=np.dot(R,R0)\n",
    "        t0=t+t0\n",
    "    print(\"Find R and T, t=\",tim-time())\n",
    "    tim=time()\n",
    "    skeleton_transformed=transform_skeleton(skeleton1,R0,t0)\n",
    "    skeleton_transformed=dilate(skeleton_transformed)\n",
    "    skeleton_transformed=zhangSuen(skeleton_transformed)\n",
    "    print(\"transform, dilate and thin, t=\",tim-time())\n",
    "    tim=time()\n",
    "    if len(save)>=0:\n",
    "        from_nx_to_tab(*generate_nx_graph_from_skeleton(skeleton_transformed)).to_csv(save+'_raw_aligned_skeleton.csv')\n",
    "        np.savetxt(save+'rot.txt',R0)\n",
    "        np.savetxt(save+'trans.txt',t0)\n",
    "    print(\"R0=\",R0,'t0=',t0)\n",
    "    return(skeleton_transformed)\n",
    "\n",
    "def reconnect(skeleton):\n",
    "    skeleton_transformed=dilate(skeleton)\n",
    "    skeleton_transformed=zhangSuen(skeleton_transformed)\n",
    "    return(skeleton_transformed)\n",
    "\n",
    "\n",
    "def shift(skeleton1,skeleton2):\n",
    "    skeleton1_dilated = dilate(dilate(skeleton1)).astype(np.float)\n",
    "    skeleton2_dilated = dilate(dilate(skeleton2)).astype(np.float)\n",
    "    def distance(shift):\n",
    "        distance=0\n",
    "#         print(shift)\n",
    "        for pixel in skeleton1_dilated.keys():\n",
    "#             print(pixel[0]+shift[0],pixel[1]+shift[1])\n",
    "            if (skeleton2_dilated.shape[0]>np.ceil(pixel[0]+shift[0])>=0 and skeleton2_dilated.shape[1]>np.ceil(pixel[1]+shift[1])>=0):\n",
    "                shifted_pixel = (int(pixel[0]+shift[0]),int(pixel[1]+shift[1]))\n",
    "                shifted_pixel_next = (np.ceil(pixel[0]+shift[0]),np.ceil(pixel[1]+shift[1]))\n",
    "#                 print(shifted_pixel)\n",
    "                prop=1/2*(pixel[0]+shift[0]-int(pixel[0]+shift[0])+pixel[1]+shift[1]-int(pixel[1]+shift[1]))\n",
    "                float_value=(1-prop)*skeleton2_dilated[shifted_pixel[0],shifted_pixel[1]]+prop*(skeleton2_dilated[shifted_pixel_next[0],shifted_pixel_next[1]])\n",
    "                distance+=abs(skeleton1_dilated[pixel]-float_value)\n",
    "            else:\n",
    "                distance+=1\n",
    "#         for pixel in skeleton2_dilated.keys():\n",
    "#             if (skeleton2_dilated.shape[0]>pixel[0]-shift[0]>=0 and skeleton2_dilated.shape[1]>pixel[1]-shift[1]>=0):\n",
    "#                 shifted_pixel = (int(pixel[0]-shift[0]),int(pixel[1]-shift[1]))\n",
    "#                 distance+=abs(skeleton1_dilated[shifted_pixel[0],shifted_pixel[1]]^skeleton2_dilated[pixel])\n",
    "#             else:\n",
    "#                 distance+=1\n",
    "#         print(distance)\n",
    "        return distance\n",
    "    return(minimize(distance,np.array([10,10]), method='nelder-mead',options={'xatol': 1, 'disp': True,'fatol':0.1}))"
   ]
  },
  {
   "cell_type": "code",
   "execution_count": null,
   "metadata": {},
   "outputs": [],
   "source": []
  }
 ],
 "metadata": {
  "kernelspec": {
   "display_name": "Python 3",
   "language": "python",
   "name": "python3"
  },
  "language_info": {
   "codemirror_mode": {
    "name": "ipython",
    "version": 3
   },
   "file_extension": ".py",
   "mimetype": "text/x-python",
   "name": "python",
   "nbconvert_exporter": "python",
   "pygments_lexer": "ipython3",
   "version": "3.7.7"
  }
 },
 "nbformat": 4,
 "nbformat_minor": 4
}

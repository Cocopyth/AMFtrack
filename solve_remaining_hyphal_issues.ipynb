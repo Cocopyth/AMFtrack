{
 "cells": [
  {
   "cell_type": "code",
   "execution_count": 1,
   "metadata": {},
   "outputs": [],
   "source": [
    "%matplotlib widget\n",
    "from util import get_path\n",
    "import pandas as pd\n",
    "import networkx as nx\n",
    "import numpy as np\n",
    "import matplotlib.pyplot as plt\n",
    "from extract_graph import generate_nx_graph, transform_list, generate_skeleton, generate_nx_graph_from_skeleton, from_connection_tab\n",
    "from node_id import whole_movement_identification, second_identification\n",
    "import ast\n",
    "from plotutil import plot_t_tp1, compress_skeleton\n",
    "from scipy import sparse\n",
    "from sparse_util import dilate, zhangSuen\n",
    "from realign import realign\n",
    "from datetime import datetime,timedelta\n",
    "from node_id import orient\n",
    "import pickle\n",
    "from matplotlib.widgets import CheckButtons\n",
    "import scipy.io as sio\n",
    "import imageio\n",
    "from pymatreader import read_mat\n",
    "import os\n",
    "from matplotlib import colors\n",
    "from random import choice\n",
    "from experiment_class import Experiment,clean_exp_with_hyphaes\n",
    "from hyphae_id import clean_and_relabel, get_mother, save_hyphaes"
   ]
  },
  {
   "cell_type": "code",
   "execution_count": 62,
   "metadata": {},
   "outputs": [],
   "source": [
    "plate = 130\n",
    "exp_clean = pickle.load( open( f'Data/'+f\"experiment_{plate}.pick\", \"rb\" ) )"
   ]
  },
  {
   "cell_type": "code",
   "execution_count": 63,
   "metadata": {},
   "outputs": [],
   "source": [
    "def resolve_ambiguity_two_ends(hyphaes,bottom_threshold=0.98):\n",
    "    root_hyph={}\n",
    "    hyphae_two_ends=[hyph for hyph in hyphaes if hyph.root.degree(hyph.ts[0])==1]\n",
    "    print(len(hyphae_two_ends))\n",
    "    to_remove = []\n",
    "    x_boundaries = hyphaes[0].experiment.boundaries_x\n",
    "    y_boundaries = hyphaes[0].experiment.boundaries_y\n",
    "    for hyph in hyphae_two_ends:\n",
    "        t0 = hyph.ts[0]\n",
    "        if not hyph.root.pos(t0)[0]>=bottom_threshold*x_boundaries[1]:\n",
    "            nodes,edges  = hyph.get_nodes_within(t0)\n",
    "            mini = np.inf\n",
    "            found = False\n",
    "            for i,edge in enumerate(edges):\n",
    "                if edge.end.degree(t0) >=4:\n",
    "                    if edge.end.degree(t0)>=5:\n",
    "                        print(hyph,edge.end, hyph.ts)\n",
    "                    else:\n",
    "                        next_edge = edges[i+1]\n",
    "                        angle = np.cos((edge.orientation_end(t0,50)-next_edge.orientation_begin(t0,50))/360*2*np.pi)\n",
    "                        if angle<mini:\n",
    "                            found= True\n",
    "                            maxi=angle\n",
    "                            root_candidate = edge.end\n",
    "            if found:\n",
    "                root_hyph[hyph] = root_candidate\n",
    "    ends = {hyph.end : hyph for hyph in hyphaes}\n",
    "    for hyph in root_hyph.keys():\n",
    "        if hyph.root in ends:\n",
    "            ends[hyph.root].root = root_hyph[hyph]\n",
    "        hyph.root = root_hyph[hyph]\n",
    "    for hyph in hyphaes[0].experiment.hyphaes:\n",
    "        hyph.update_ts()\n",
    "    return(root_hyph)"
   ]
  },
  {
   "cell_type": "code",
   "execution_count": 88,
   "metadata": {},
   "outputs": [],
   "source": [
    "from experiment_class import Node\n",
    "def solve_degree4(exp):\n",
    "    hyphae_with_degree4 = {}\n",
    "    exp_clean= clean_exp_with_hyphaes(exp)\n",
    "    nx_graph_cleans = [nx.Graph.copy(nx_g) for nx_g in exp.nx_graph]\n",
    "    exp_clean.nx_graph = nx_graph_cleans\n",
    "    for hyph in exp.hyphaes:\n",
    "        t0 = hyph.ts[-1]\n",
    "        nodes,edges = hyph.get_nodes_within(t0)\n",
    "        hyphae_with_degree4[hyph]=[]\n",
    "        for node in nodes:\n",
    "            if exp.get_node(node).degree(t0)>=4:\n",
    "                hyphae_with_degree4[hyph].append(exp.get_node(node))\n",
    "    roots = [hyph.root for hyph in exp.hyphaes]\n",
    "    ends = [hyph.end for hyph in exp.hyphaes]\n",
    "    solved_node = []\n",
    "    solved = []\n",
    "    for hyph in hyphae_with_degree4.keys():\n",
    "        for node in hyphae_with_degree4[hyph]:\n",
    "            if node not in roots and node not in ends and node not in solved_node:\n",
    "                for t in node.ts():\n",
    "                    solved.append((t,node.neighbours(t)))\n",
    "                    solved_node.append(node)\n",
    "                    if node.degree(t)==4:\n",
    "                        pairs = []\n",
    "                        for edge in node.edges(t):\n",
    "                            mini=np.inf\n",
    "                            for edge_candidate in node.edges(t):\n",
    "                                angle=np.cos((edge.orientation_begin(t,100)-edge_candidate.orientation_begin(t,100))/360*2*np.pi)\n",
    "                                if angle<mini:\n",
    "                                    winner = edge_candidate\n",
    "                                    mini=angle\n",
    "                            if (edge,winner) not in pairs and (winner, edge) not in pairs:\n",
    "                                pairs.append((edge,winner))\n",
    "                        for pair in pairs:\n",
    "                            right_n = pair[0].end\n",
    "                            left_n = pair[1].end\n",
    "                            right_edge = pair[0].pixel_list(t)\n",
    "                            left_edge = list(reversed(pair[1].pixel_list(t)))\n",
    "                            pixel_list = left_edge+right_edge[1:]\n",
    "                            info={'weight':len(pixel_list),'pixel_list':pixel_list}\n",
    "                            if right_n!=left_n:\n",
    "                                exp_clean.nx_graph[t].add_edges_from([(left_n.label,right_n.label,info)])\n",
    "                        exp_clean.nx_graph[t].remove_node(node.label)\n",
    "                        if len(list(nx.connected_components(exp_clean.nx_graph[t])))>=2:\n",
    "                            print(pairs)\n",
    "                            print(t,node,len(list(nx.connected_components(exp_clean.nx_graph[t]))))\n",
    "    exp_clean.nodes = []\n",
    "    labels = {int(node) for g in exp_clean.nx_graph for node in g}\n",
    "    for label in labels:\n",
    "        exp_clean.nodes.append(Node(label,exp_clean))\n",
    "    exp_clean_relabeled= clean_exp_with_hyphaes(exp_clean)\n",
    "    print(len(solved))\n",
    "    return(exp_clean_relabeled,solved)"
   ]
  },
  {
   "cell_type": "code",
   "execution_count": 68,
   "metadata": {},
   "outputs": [
    {
     "name": "stdout",
     "output_type": "stream",
     "text": [
      "79\n",
      "(Node(3679), Node(2354)) 2348 [4]\n",
      "(Node(5931), Node(4056)) 5930 [12]\n",
      "(Node(8897), Node(6619)) 8378 [21, 22]\n"
     ]
    }
   ],
   "source": [
    "solve_two_ends = resolve_ambiguity_two_ends(exp_clean.hyphaes)"
   ]
  },
  {
   "cell_type": "code",
   "execution_count": null,
   "metadata": {},
   "outputs": [],
   "source": [
    "[(Edge(207,143), Edge(207,227)), (Edge(207,185), Edge(207,217))]"
   ]
  },
  {
   "cell_type": "code",
   "execution_count": null,
   "metadata": {},
   "outputs": [],
   "source": [
    "exp_new,solved = solve_degree4(exp_clean)"
   ]
  },
  {
   "cell_type": "code",
   "execution_count": 80,
   "metadata": {},
   "outputs": [
    {
     "data": {
      "text/plain": [
       "[4, 5, 6, 7, 8, 9, 10, 11, 12, 13, 14, 15, 16, 17, 18, 19, 20, 21, 22]"
      ]
     },
     "execution_count": 80,
     "metadata": {},
     "output_type": "execute_result"
    }
   ],
   "source": [
    "plt.close('all')\n",
    "exp_clean.get_node(207).ts()"
   ]
  },
  {
   "cell_type": "code",
   "execution_count": 85,
   "metadata": {},
   "outputs": [
    {
     "data": {
      "application/vnd.jupyter.widget-view+json": {
       "model_id": "2c9bb8049d684d3e89bff2313703927f",
       "version_major": 2,
       "version_minor": 0
      },
      "text/plain": [
       "Canvas(toolbar=Toolbar(toolitems=[('Home', 'Reset original view', 'home', 'home'), ('Back', 'Back to previous …"
      ]
     },
     "metadata": {},
     "output_type": "display_data"
    }
   ],
   "source": [
    "exp_clean.plot([4,8,12],[[207,143,227,185,217]]*3)"
   ]
  },
  {
   "cell_type": "code",
   "execution_count": 28,
   "metadata": {},
   "outputs": [
    {
     "data": {
      "application/vnd.jupyter.widget-view+json": {
       "model_id": "6316333cdaec4f0185f604cdfadfba45",
       "version_major": 2,
       "version_minor": 0
      },
      "text/plain": [
       "Canvas(toolbar=Toolbar(toolitems=[('Home', 'Reset original view', 'home', 'home'), ('Back', 'Back to previous …"
      ]
     },
     "metadata": {},
     "output_type": "display_data"
    }
   ],
   "source": [
    "exp_clean.plot([0,10,20],[[118,144,146,144,134,144,155]]*3)"
   ]
  }
 ],
 "metadata": {
  "kernelspec": {
   "display_name": "cleanMsc",
   "language": "python",
   "name": "cleanmsc"
  },
  "language_info": {
   "codemirror_mode": {
    "name": "ipython",
    "version": 3
   },
   "file_extension": ".py",
   "mimetype": "text/x-python",
   "name": "python",
   "nbconvert_exporter": "python",
   "pygments_lexer": "ipython3",
   "version": "3.7.9"
  }
 },
 "nbformat": 4,
 "nbformat_minor": 4
}

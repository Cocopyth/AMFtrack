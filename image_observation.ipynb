{
 "cells": [
  {
   "cell_type": "code",
   "execution_count": 2,
   "metadata": {},
   "outputs": [],
   "source": [
    "%matplotlib widget\n",
    "import numpy as np\n",
    "import matplotlib.pyplot as plt\n",
    "import matplotlib.cm as cm\n",
    "from PIL import Image\n",
    "from scipy import sparse\n",
    "import cv2\n",
    "from pymatreader import read_mat\n",
    "# from extract_graph import dic_to_sparse\n",
    "from util import get_path\n",
    "from plotutil import show_im,overlap, show_im_rgb"
   ]
  },
  {
   "cell_type": "code",
   "execution_count": 3,
   "metadata": {},
   "outputs": [],
   "source": [
    "plate=13\n",
    "date1='0703_1157'\n",
    "date2='0703_1557'\n",
    "date3='0703_1957'\n",
    "row=6\n",
    "column=10\n",
    "# im = Image.open(get_path(date1,plate,False,row,column))\n",
    "# imtab1=np.array(im)\n",
    "# im = Image.open(get_path(date2,plate,False,row,column))\n",
    "# imtab2=np.array(im)\n",
    "# im = Image.open(get_path(date3,plate,False,row,column))\n",
    "# imtab3=np.array(im)"
   ]
  },
  {
   "cell_type": "code",
   "execution_count": 19,
   "metadata": {},
   "outputs": [],
   "source": [
    "imtab1=np.load(f'Data/imbackrem_{date1}_{plate}_{row}_{column}.npy')\n",
    "imtab2=np.load(f'Data/imbackrem_{date2}_{plate}_{row}_{column}.npy')\n",
    "imtab3=np.load(f'Data/imbackrem_{date3}_{plate}_{row}_{column}.npy')\n",
    "skeleton1=np.load(f'Data/skeletonized_{date1}_{plate}_{row}_{column}.npy')\n",
    "skeleton2=np.load(f'Data/skeletonized_{date2}_{plate}_{row}_{column}.npy')\n",
    "skeleton3=np.load(f'Data/skeletonized_{date3}_{plate}_{row}_{column}.npy')\n",
    "frangi1=np.load(f'Data/frangised_{date1}_{plate}_{row}_{column}.npy')\n",
    "frangi2=np.load(f'Data/frangised_{date2}_{plate}_{row}_{column}.npy')\n",
    "frangi3=np.load(f'Data/frangised_{date3}_{plate}_{row}_{column}.npy')\n",
    "dilated1=np.load(f'Data/dilated_{date1}_{plate}_{row}_{column}.npy')\n",
    "dilated2=np.load(f'Data/dilated_{date2}_{plate}_{row}_{column}.npy')\n",
    "# dilated3=np.load(f'Data/dilated_{date3}_{plate}_{row}_{column}.npy')\n",
    "skeletonclean1=np.load(f'Data/skeletonizedpruned_{date1}_{plate}_{row}_{column}.npy')\n",
    "skeletonclean2=np.load(f'Data/skeletonizedpruned_{date2}_{plate}_{row}_{column}.npy')\n",
    "skeletonclean3=np.load(f'Data/skeletonizedpruned_{date3}_{plate}_{row}_{column}.npy')\n",
    "width2=np.load(f'Data/width_{date2}_{plate}_{row}_{column}.npy')"
   ]
  },
  {
   "cell_type": "code",
   "execution_count": 5,
   "metadata": {},
   "outputs": [],
   "source": [
    "pixel_conversion_factor = 1.725"
   ]
  },
  {
   "cell_type": "code",
   "execution_count": 23,
   "metadata": {},
   "outputs": [],
   "source": [
    "kernel = np.ones((3,3),np.uint8)\n",
    "width2 = cv2.dilate(width2,kernel,iterations = 2)"
   ]
  },
  {
   "cell_type": "code",
   "execution_count": 29,
   "metadata": {},
   "outputs": [
    {
     "data": {
      "application/vnd.jupyter.widget-view+json": {
       "model_id": "283eb7b26be543c4846ad4c8960607d7",
       "version_major": 2,
       "version_minor": 0
      },
      "text/plain": [
       "Canvas(toolbar=Toolbar(toolitems=[('Home', 'Reset original view', 'home', 'home'), ('Back', 'Back to previous …"
      ]
     },
     "metadata": {},
     "output_type": "display_data"
    }
   ],
   "source": [
    "overlap(imtab1,imtab2)"
   ]
  },
  {
   "cell_type": "code",
   "execution_count": 30,
   "metadata": {},
   "outputs": [
    {
     "data": {
      "application/vnd.jupyter.widget-view+json": {
       "model_id": "db46ec9dda90407d8770731c0f558150",
       "version_major": 2,
       "version_minor": 0
      },
      "text/plain": [
       "Canvas(toolbar=Toolbar(toolitems=[('Home', 'Reset original view', 'home', 'home'), ('Back', 'Back to previous …"
      ]
     },
     "metadata": {},
     "output_type": "display_data"
    }
   ],
   "source": [
    "overlap(imtab2,imtab3)"
   ]
  },
  {
   "cell_type": "code",
   "execution_count": 11,
   "metadata": {},
   "outputs": [
    {
     "data": {
      "application/vnd.jupyter.widget-view+json": {
       "model_id": "d287d64094a541debb5ac8631665474d",
       "version_major": 2,
       "version_minor": 0
      },
      "text/plain": [
       "Canvas(toolbar=Toolbar(toolitems=[('Home', 'Reset original view', 'home', 'home'), ('Back', 'Back to previous …"
      ]
     },
     "metadata": {},
     "output_type": "display_data"
    }
   ],
   "source": [
    "overlap(skeletonclean1,imtab1)"
   ]
  },
  {
   "cell_type": "code",
   "execution_count": 13,
   "metadata": {},
   "outputs": [
    {
     "data": {
      "application/vnd.jupyter.widget-view+json": {
       "model_id": "88172ba90bf04b87bda2209d31e55e7d",
       "version_major": 2,
       "version_minor": 0
      },
      "text/plain": [
       "Canvas(toolbar=Toolbar(toolitems=[('Home', 'Reset original view', 'home', 'home'), ('Back', 'Back to previous …"
      ]
     },
     "metadata": {},
     "output_type": "display_data"
    }
   ],
   "source": [
    "overlap(skeletonclean2,imtab2)"
   ]
  },
  {
   "cell_type": "code",
   "execution_count": 7,
   "metadata": {},
   "outputs": [
    {
     "data": {
      "application/vnd.jupyter.widget-view+json": {
       "model_id": "44b496b9671547e9ae56525855447f48",
       "version_major": 2,
       "version_minor": 0
      },
      "text/plain": [
       "Canvas(toolbar=Toolbar(toolitems=[('Home', 'Reset original view', 'home', 'home'), ('Back', 'Back to previous …"
      ]
     },
     "metadata": {},
     "output_type": "display_data"
    }
   ],
   "source": [
    "show_im(dilated1)"
   ]
  },
  {
   "cell_type": "code",
   "execution_count": null,
   "metadata": {},
   "outputs": [],
   "source": [
    "X = 10*np.random.rand(5,3)\n",
    "\n",
    "fig = plt.figure()\n",
    "ax = fig.add_subplot(111)\n",
    "ax.imshow(X, cmap=cm.jet, interpolation='nearest')\n",
    "\n",
    "numrows, numcols = X.shape\n",
    "def format_coord(x, y):\n",
    "    col = int(x+0.5)\n",
    "    row = int(y+0.5)\n",
    "    if col>=0 and col<numcols and row>=0 and row<numrows:\n",
    "        z = X[row,col]\n",
    "        return 'x=%1.4f, y=%1.4f, z=%1.4f'%(x, y, z)\n",
    "    else:\n",
    "        return 'x=%1.4f, y=%1.4f'%(x, y)\n",
    "\n",
    "ax.format_coord = format_coord\n",
    "plt.show()"
   ]
  }
 ],
 "metadata": {
  "kernelspec": {
   "display_name": "cleanMsc",
   "language": "python",
   "name": "cleanmsc"
  },
  "language_info": {
   "codemirror_mode": {
    "name": "ipython",
    "version": 3
   },
   "file_extension": ".py",
   "mimetype": "text/x-python",
   "name": "python",
   "nbconvert_exporter": "python",
   "pygments_lexer": "ipython3",
   "version": "3.7.8"
  }
 },
 "nbformat": 4,
 "nbformat_minor": 4
}

{
 "cells": [
  {
   "cell_type": "code",
   "execution_count": 1,
   "metadata": {},
   "outputs": [],
   "source": [
    "%matplotlib widget\n",
    "import numpy as np\n",
    "import matplotlib.pyplot as plt\n",
    "import matplotlib.cm as cm\n",
    "from PIL import Image\n",
    "from scipy import sparse\n",
    "import cv2\n",
    "from pymatreader import read_mat\n",
    "# from extract_graph import dic_to_sparse\n",
    "from util import get_path\n",
    "from plotutil import show_im,overlap, show_im_rgb"
   ]
  },
  {
   "cell_type": "code",
   "execution_count": 2,
   "metadata": {},
   "outputs": [],
   "source": [
    "plate=13\n",
    "date1='0703_1157'\n",
    "date2='0703_1557'\n",
    "date3='0703_1957'\n",
    "row=6\n",
    "column=10\n",
    "# im = Image.open(get_path(date1,plate,False,row,column))\n",
    "# imtab1=np.array(im)\n",
    "# im = Image.open(get_path(date2,plate,False,row,column))\n",
    "# imtab2=np.array(im)\n",
    "# im = Image.open(get_path(date3,plate,False,row,column))\n",
    "# imtab3=np.array(im)"
   ]
  },
  {
   "cell_type": "code",
   "execution_count": 3,
   "metadata": {},
   "outputs": [],
   "source": [
    "imtab1=np.load(f'Data/imbackrem_{date1}_{plate}_{row}_{column}.npy')\n",
    "imtab2=np.load(f'Data/imbackrem_{date2}_{plate}_{row}_{column}.npy')\n",
    "imtab3=np.load(f'Data/imbackrem_{date3}_{plate}_{row}_{column}.npy')\n",
    "skeleton1=np.load(f'Data/skeletonized_{date1}_{plate}_{row}_{column}.npy')\n",
    "skeleton2=np.load(f'Data/skeletonized_{date2}_{plate}_{row}_{column}.npy')\n",
    "skeleton3=np.load(f'Data/skeletonized_{date3}_{plate}_{row}_{column}.npy')\n",
    "frangi1=np.load(f'Data/frangised_{date1}_{plate}_{row}_{column}.npy')\n",
    "frangi2=np.load(f'Data/frangised_{date2}_{plate}_{row}_{column}.npy')\n",
    "frangi3=np.load(f'Data/frangised_{date3}_{plate}_{row}_{column}.npy')\n",
    "dilated1=np.load(f'Data/dilated_{date1}_{plate}_{row}_{column}.npy')\n",
    "dilated2=np.load(f'Data/dilated_{date2}_{plate}_{row}_{column}.npy')\n",
    "# dilated3=np.load(f'Data/dilated_{date3}_{plate}_{row}_{column}.npy')\n",
    "skeletonclean1=np.load(f'Data/skeletonizedpruned_{date1}_{plate}_{row}_{column}.npy')\n",
    "skeletonclean2=np.load(f'Data/skeletonizedpruned_{date2}_{plate}_{row}_{column}.npy')\n",
    "skeletonclean3=np.load(f'Data/skeletonizedpruned_{date3}_{plate}_{row}_{column}.npy')\n",
    "width2=np.load(f'Data/width_{date2}_{plate}_{row}_{column}.npy')"
   ]
  },
  {
   "cell_type": "code",
   "execution_count": 4,
   "metadata": {},
   "outputs": [
    {
     "data": {
      "application/vnd.jupyter.widget-view+json": {
       "model_id": "a61fbcae2b684ff8835f8f1aaeeab830",
       "version_major": 2,
       "version_minor": 0
      },
      "text/plain": [
       "Canvas(toolbar=Toolbar(toolitems=[('Home', 'Reset original view', 'home', 'home'), ('Back', 'Back to previous …"
      ]
     },
     "metadata": {},
     "output_type": "display_data"
    }
   ],
   "source": [
    "overlap(width2,imtab2)"
   ]
  },
  {
   "cell_type": "code",
   "execution_count": null,
   "metadata": {},
   "outputs": [],
   "source": [
    "show_im(imtab1)\n",
    "show_im(imtab2)\n",
    "show_im(imtab3)"
   ]
  },
  {
   "cell_type": "code",
   "execution_count": 5,
   "metadata": {},
   "outputs": [
    {
     "ename": "NameError",
     "evalue": "name 'show_skel' is not defined",
     "output_type": "error",
     "traceback": [
      "\u001b[1;31m---------------------------------------------------------------------------\u001b[0m",
      "\u001b[1;31mNameError\u001b[0m                                 Traceback (most recent call last)",
      "\u001b[1;32m<ipython-input-5-a689d4e9b8d2>\u001b[0m in \u001b[0;36m<module>\u001b[1;34m\u001b[0m\n\u001b[1;32m----> 1\u001b[1;33m \u001b[0mshow_skel\u001b[0m\u001b[1;33m(\u001b[0m\u001b[0mmatrix1\u001b[0m\u001b[1;33m)\u001b[0m\u001b[1;33m\u001b[0m\u001b[1;33m\u001b[0m\u001b[0m\n\u001b[0m\u001b[0;32m      2\u001b[0m \u001b[0mshow_skel\u001b[0m\u001b[1;33m(\u001b[0m\u001b[0mmatrix2\u001b[0m\u001b[1;33m)\u001b[0m\u001b[1;33m\u001b[0m\u001b[1;33m\u001b[0m\u001b[0m\n\u001b[0;32m      3\u001b[0m \u001b[0mshow_skel\u001b[0m\u001b[1;33m(\u001b[0m\u001b[0mmatrix3\u001b[0m\u001b[1;33m)\u001b[0m\u001b[1;33m\u001b[0m\u001b[1;33m\u001b[0m\u001b[0m\n",
      "\u001b[1;31mNameError\u001b[0m: name 'show_skel' is not defined"
     ]
    }
   ],
   "source": [
    "show_skel(matrix1)\n",
    "show_skel(matrix2)\n",
    "show_skel(matrix3)"
   ]
  },
  {
   "cell_type": "code",
   "execution_count": null,
   "metadata": {},
   "outputs": [],
   "source": [
    "X = 10*np.random.rand(5,3)\n",
    "\n",
    "fig = plt.figure()\n",
    "ax = fig.add_subplot(111)\n",
    "ax.imshow(X, cmap=cm.jet, interpolation='nearest')\n",
    "\n",
    "numrows, numcols = X.shape\n",
    "def format_coord(x, y):\n",
    "    col = int(x+0.5)\n",
    "    row = int(y+0.5)\n",
    "    if col>=0 and col<numcols and row>=0 and row<numrows:\n",
    "        z = X[row,col]\n",
    "        return 'x=%1.4f, y=%1.4f, z=%1.4f'%(x, y, z)\n",
    "    else:\n",
    "        return 'x=%1.4f, y=%1.4f'%(x, y)\n",
    "\n",
    "ax.format_coord = format_coord\n",
    "plt.show()"
   ]
  }
 ],
 "metadata": {
  "kernelspec": {
   "display_name": "cleanMsc",
   "language": "python",
   "name": "cleanmsc"
  },
  "language_info": {
   "codemirror_mode": {
    "name": "ipython",
    "version": 3
   },
   "file_extension": ".py",
   "mimetype": "text/x-python",
   "name": "python",
   "nbconvert_exporter": "python",
   "pygments_lexer": "ipython3",
   "version": "3.7.8"
  }
 },
 "nbformat": 4,
 "nbformat_minor": 4
}

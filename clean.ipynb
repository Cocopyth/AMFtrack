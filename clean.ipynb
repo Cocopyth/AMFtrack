{
 "cells": [
  {
   "cell_type": "code",
   "execution_count": 2,
   "metadata": {},
   "outputs": [],
   "source": [
    "%matplotlib widget\n",
    "import pandas as pd\n",
    "import networkx as nx\n",
    "import numpy as np\n",
    "import matplotlib.pyplot as plt\n",
    "from util import get_path, get_dates_datetime, get_dirname\n",
    "\n",
    "from extract_graph import generate_nx_graph, transform_list, generate_skeleton, generate_nx_graph_from_skeleton, from_connection_tab, from_nx_to_tab\n",
    "from node_id import whole_movement_identification, second_identification\n",
    "import ast\n",
    "from plotutil import plot_t_tp1, compress_skeleton\n",
    "from scipy import sparse\n",
    "from sparse_util import dilate, zhangSuen\n",
    "from realign import realign\n",
    "from datetime import datetime,timedelta\n",
    "from node_id import orient\n",
    "import pickle\n",
    "from matplotlib.widgets import CheckButtons\n",
    "import scipy.io as sio\n",
    "import imageio\n",
    "from pymatreader import read_mat\n",
    "from matplotlib import colors\n",
    "from copy import deepcopy,copy\n",
    "from collections import Counter\n",
    "import cv2 \n",
    "import imageio\n",
    "import matplotlib.pyplot as plt\n",
    "import numpy as np\n",
    "from skimage.filters import frangi, meijering\n",
    "from skimage.morphology import thin\n",
    "from skimage import data, filters\n",
    "from random import choice\n",
    "import scipy.sparse\n",
    "import os\n",
    "from time import time\n",
    "from extract_graph import dic_to_sparse, from_sparse_to_graph, generate_nx_graph, prune_graph, from_nx_to_tab, from_nx_to_tab_matlab,sparse_to_doc, connections_pixel_list_to_tab, transform_list, clean_degree_4\n",
    "from time import sleep\n",
    "from skimage.feature import hessian_matrix_det\n",
    "from experiment_class_surf import Experiment,clean_exp_with_hyphaes\n",
    "from hyphae_id_surf import clean_and_relabel, get_mother, save_hyphaes, resolve_ambiguity_two_ends,solve_degree4, clean_obvious_fake_tips\n",
    "from subprocess import call\n"
   ]
  },
  {
   "cell_type": "code",
   "execution_count": 4,
   "metadata": {},
   "outputs": [
    {
     "data": {
      "text/plain": [
       "121"
      ]
     },
     "execution_count": 4,
     "metadata": {},
     "output_type": "execute_result"
    }
   ],
   "source": [
    "plate = 22\n",
    "from directory import directory, run_parallel, find_state, check_state\n",
    "# directory = \"/scratch/shared/mrozemul/Fiji.app/\"\n",
    "listdir = os.listdir(directory) \n",
    "list_dir_interest = [name for name in listdir if name.split('_')[-1]==f'Plate{0 if plate<10 else \"\"}{plate}']\n",
    "dates_datetime = get_dates_datetime(directory,plate)\n",
    "len(list_dir_interest)"
   ]
  },
  {
   "cell_type": "code",
   "execution_count": 5,
   "metadata": {},
   "outputs": [
    {
     "name": "stdout",
     "output_type": "stream",
     "text": [
      "begin = 2020-12-07 18:49:00 \n",
      "  end = 2020-12-27 19:50:00\n"
     ]
    }
   ],
   "source": [
    "begin = 0\n",
    "end = 120\n",
    "print('begin =', dates_datetime[begin], '\\n  end =', dates_datetime[end])"
   ]
  },
  {
   "cell_type": "code",
   "execution_count": 6,
   "metadata": {
    "collapsed": true,
    "jupyter": {
     "outputs_hidden": true
    }
   },
   "outputs": [
    {
     "data": {
      "text/plain": [
       "([(datetime.datetime(2020, 12, 7, 18, 49), 0),\n",
       "  (datetime.datetime(2020, 12, 7, 22, 49), 1),\n",
       "  (datetime.datetime(2020, 12, 8, 2, 49), 2),\n",
       "  (datetime.datetime(2020, 12, 8, 6, 49), 3),\n",
       "  (datetime.datetime(2020, 12, 8, 10, 50), 4),\n",
       "  (datetime.datetime(2020, 12, 8, 14, 50), 5),\n",
       "  (datetime.datetime(2020, 12, 8, 18, 50), 6),\n",
       "  (datetime.datetime(2020, 12, 8, 22, 50), 7),\n",
       "  (datetime.datetime(2020, 12, 9, 2, 50), 8),\n",
       "  (datetime.datetime(2020, 12, 9, 6, 50), 9),\n",
       "  (datetime.datetime(2020, 12, 9, 11, 23), 10),\n",
       "  (datetime.datetime(2020, 12, 9, 14, 59), 11),\n",
       "  (datetime.datetime(2020, 12, 9, 18, 58), 12),\n",
       "  (datetime.datetime(2020, 12, 9, 22, 58), 13),\n",
       "  (datetime.datetime(2020, 12, 10, 2, 58), 14),\n",
       "  (datetime.datetime(2020, 12, 10, 6, 58), 15),\n",
       "  (datetime.datetime(2020, 12, 10, 11, 4), 16),\n",
       "  (datetime.datetime(2020, 12, 10, 15, 4), 17),\n",
       "  (datetime.datetime(2020, 12, 10, 19, 3), 18),\n",
       "  (datetime.datetime(2020, 12, 10, 23, 3), 19),\n",
       "  (datetime.datetime(2020, 12, 11, 3, 3), 20),\n",
       "  (datetime.datetime(2020, 12, 11, 7, 3), 21),\n",
       "  (datetime.datetime(2020, 12, 11, 11, 2), 22),\n",
       "  (datetime.datetime(2020, 12, 11, 15, 1), 23),\n",
       "  (datetime.datetime(2020, 12, 11, 19, 1), 24),\n",
       "  (datetime.datetime(2020, 12, 11, 23, 1), 25),\n",
       "  (datetime.datetime(2020, 12, 12, 3, 1), 26),\n",
       "  (datetime.datetime(2020, 12, 12, 7, 1), 27),\n",
       "  (datetime.datetime(2020, 12, 12, 11, 1), 28),\n",
       "  (datetime.datetime(2020, 12, 12, 15, 1), 29),\n",
       "  (datetime.datetime(2020, 12, 12, 19, 1), 30),\n",
       "  (datetime.datetime(2020, 12, 12, 23, 1), 31),\n",
       "  (datetime.datetime(2020, 12, 13, 3, 1), 32),\n",
       "  (datetime.datetime(2020, 12, 13, 7, 1), 33),\n",
       "  (datetime.datetime(2020, 12, 13, 11, 1), 34),\n",
       "  (datetime.datetime(2020, 12, 13, 15, 1), 35),\n",
       "  (datetime.datetime(2020, 12, 13, 19, 1), 36),\n",
       "  (datetime.datetime(2020, 12, 13, 23, 1), 37),\n",
       "  (datetime.datetime(2020, 12, 14, 3, 1), 38),\n",
       "  (datetime.datetime(2020, 12, 14, 7, 1), 39),\n",
       "  (datetime.datetime(2020, 12, 14, 11, 2), 40),\n",
       "  (datetime.datetime(2020, 12, 14, 15, 13), 41),\n",
       "  (datetime.datetime(2020, 12, 14, 19, 12), 42),\n",
       "  (datetime.datetime(2020, 12, 14, 23, 12), 43),\n",
       "  (datetime.datetime(2020, 12, 15, 3, 12), 44),\n",
       "  (datetime.datetime(2020, 12, 15, 7, 12), 45),\n",
       "  (datetime.datetime(2020, 12, 15, 11, 12), 46),\n",
       "  (datetime.datetime(2020, 12, 15, 15, 12), 47),\n",
       "  (datetime.datetime(2020, 12, 15, 19, 12), 48),\n",
       "  (datetime.datetime(2020, 12, 15, 23, 12), 49),\n",
       "  (datetime.datetime(2020, 12, 16, 3, 12), 50),\n",
       "  (datetime.datetime(2020, 12, 16, 7, 12), 51),\n",
       "  (datetime.datetime(2020, 12, 16, 11, 12), 52),\n",
       "  (datetime.datetime(2020, 12, 16, 15, 11), 53),\n",
       "  (datetime.datetime(2020, 12, 16, 19, 12), 54),\n",
       "  (datetime.datetime(2020, 12, 16, 23, 12), 55),\n",
       "  (datetime.datetime(2020, 12, 17, 3, 12), 56),\n",
       "  (datetime.datetime(2020, 12, 17, 7, 12), 57),\n",
       "  (datetime.datetime(2020, 12, 17, 11, 14), 58),\n",
       "  (datetime.datetime(2020, 12, 17, 15, 30), 59),\n",
       "  (datetime.datetime(2020, 12, 17, 19, 31), 60),\n",
       "  (datetime.datetime(2020, 12, 17, 23, 31), 61),\n",
       "  (datetime.datetime(2020, 12, 18, 3, 30), 62),\n",
       "  (datetime.datetime(2020, 12, 18, 7, 30), 63),\n",
       "  (datetime.datetime(2020, 12, 18, 11, 30), 64),\n",
       "  (datetime.datetime(2020, 12, 18, 15, 29), 65),\n",
       "  (datetime.datetime(2020, 12, 18, 19, 29), 66),\n",
       "  (datetime.datetime(2020, 12, 18, 23, 26), 67),\n",
       "  (datetime.datetime(2020, 12, 19, 3, 26), 68),\n",
       "  (datetime.datetime(2020, 12, 19, 7, 26), 69),\n",
       "  (datetime.datetime(2020, 12, 19, 11, 26), 70),\n",
       "  (datetime.datetime(2020, 12, 19, 15, 26), 71),\n",
       "  (datetime.datetime(2020, 12, 19, 19, 25), 72),\n",
       "  (datetime.datetime(2020, 12, 19, 23, 25), 73),\n",
       "  (datetime.datetime(2020, 12, 20, 3, 25), 74),\n",
       "  (datetime.datetime(2020, 12, 20, 7, 25), 75),\n",
       "  (datetime.datetime(2020, 12, 20, 11, 25), 76),\n",
       "  (datetime.datetime(2020, 12, 20, 15, 25), 77),\n",
       "  (datetime.datetime(2020, 12, 20, 19, 25), 78),\n",
       "  (datetime.datetime(2020, 12, 20, 23, 25), 79),\n",
       "  (datetime.datetime(2020, 12, 21, 3, 25), 80),\n",
       "  (datetime.datetime(2020, 12, 21, 7, 25), 81),\n",
       "  (datetime.datetime(2020, 12, 21, 11, 25), 82),\n",
       "  (datetime.datetime(2020, 12, 21, 15, 25), 83),\n",
       "  (datetime.datetime(2020, 12, 21, 19, 25), 84),\n",
       "  (datetime.datetime(2020, 12, 21, 23, 25), 85),\n",
       "  (datetime.datetime(2020, 12, 22, 3, 25), 86),\n",
       "  (datetime.datetime(2020, 12, 22, 7, 25), 87),\n",
       "  (datetime.datetime(2020, 12, 22, 11, 25), 88),\n",
       "  (datetime.datetime(2020, 12, 22, 15, 25), 89),\n",
       "  (datetime.datetime(2020, 12, 22, 19, 25), 90),\n",
       "  (datetime.datetime(2020, 12, 22, 23, 25), 91),\n",
       "  (datetime.datetime(2020, 12, 23, 3, 25), 92),\n",
       "  (datetime.datetime(2020, 12, 23, 7, 25), 93),\n",
       "  (datetime.datetime(2020, 12, 23, 11, 25), 94),\n",
       "  (datetime.datetime(2020, 12, 23, 15, 25), 95),\n",
       "  (datetime.datetime(2020, 12, 23, 19, 25), 96),\n",
       "  (datetime.datetime(2020, 12, 23, 23, 25), 97),\n",
       "  (datetime.datetime(2020, 12, 24, 3, 25), 98),\n",
       "  (datetime.datetime(2020, 12, 24, 7, 25), 99),\n",
       "  (datetime.datetime(2020, 12, 24, 11, 29), 100),\n",
       "  (datetime.datetime(2020, 12, 24, 15, 28), 101),\n",
       "  (datetime.datetime(2020, 12, 24, 19, 28), 102),\n",
       "  (datetime.datetime(2020, 12, 24, 23, 28), 103),\n",
       "  (datetime.datetime(2020, 12, 25, 3, 27), 104),\n",
       "  (datetime.datetime(2020, 12, 25, 7, 28), 105),\n",
       "  (datetime.datetime(2020, 12, 25, 11, 28), 106),\n",
       "  (datetime.datetime(2020, 12, 25, 15, 28), 107),\n",
       "  (datetime.datetime(2020, 12, 25, 19, 28), 108),\n",
       "  (datetime.datetime(2020, 12, 25, 23, 28), 109),\n",
       "  (datetime.datetime(2020, 12, 26, 3, 28), 110),\n",
       "  (datetime.datetime(2020, 12, 26, 7, 28), 111),\n",
       "  (datetime.datetime(2020, 12, 26, 11, 49), 112),\n",
       "  (datetime.datetime(2020, 12, 26, 15, 50), 113),\n",
       "  (datetime.datetime(2020, 12, 26, 19, 50), 114),\n",
       "  (datetime.datetime(2020, 12, 26, 23, 50), 115),\n",
       "  (datetime.datetime(2020, 12, 27, 3, 50), 116),\n",
       "  (datetime.datetime(2020, 12, 27, 7, 50), 117),\n",
       "  (datetime.datetime(2020, 12, 27, 11, 50), 118),\n",
       "  (datetime.datetime(2020, 12, 27, 15, 50), 119),\n",
       "  (datetime.datetime(2020, 12, 27, 19, 50), 120)],\n",
       " '/Analysis/skeleton_pruned_compressed.mat')"
      ]
     },
     "execution_count": 6,
     "metadata": {},
     "output_type": "execute_result"
    }
   ],
   "source": [
    "find_state(plate,begin,end)"
   ]
  },
  {
   "cell_type": "code",
   "execution_count": null,
   "metadata": {},
   "outputs": [],
   "source": [
    "begin = 0\n",
    "end = 120\n",
    "dates_datetime = get_dates_datetime(directory,plate)\n",
    "dates_datetime_chosen=dates_datetime[begin:end+1]\n",
    "dates = dates_datetime_chosen\n",
    "skels = []\n",
    "ims = []\n",
    "kernel = np.ones((5,5),np.uint8)\n",
    "itera = 1\n",
    "for date in dates:\n",
    "    directory_name = get_dirname(date,plate)\n",
    "    path_snap=directory+directory_name\n",
    "    skel_info = read_mat(path_snap+'/Analysis/dilated.mat')\n",
    "    skel = skel_info['dilated']\n",
    "    skel_sparse = sparse.lil_matrix(skel)\n",
    "    call(f'rm {path_snap}/Analysis/dilated.mat',shell=True)\n",
    "    sio.savemat(path_snap+'/Analysis/dilated.mat',{'dilated' : skel_sparse})"
   ]
  },
  {
   "cell_type": "code",
   "execution_count": null,
   "metadata": {},
   "outputs": [],
   "source": [
    "dates_datetime_chosen = dates_datetime[begin:end+1]\n",
    "dates = dates_datetime_chosen\n",
    "for date in dates:\n",
    "    directory_name = get_dirname(date, plate)\n",
    "    path_snap = directory+directory_name\n",
    "    call(f'rm -r {path_snap}',shell=True)"
   ]
  },
  {
   "cell_type": "code",
   "execution_count": null,
   "metadata": {},
   "outputs": [],
   "source": [
    "num_parallel = 120\n",
    "time = '1:00'\n",
    "args = [plate]\n",
    "run_parallel('clean.py',args, begin, end, num_parallel, time, 'clean')"
   ]
  }
 ],
 "metadata": {
  "kernelspec": {
   "display_name": "Python 3",
   "language": "python",
   "name": "python3"
  },
  "language_info": {
   "codemirror_mode": {
    "name": "ipython",
    "version": 3
   },
   "file_extension": ".py",
   "mimetype": "text/x-python",
   "name": "python",
   "nbconvert_exporter": "python",
   "pygments_lexer": "ipython3",
   "version": "3.7.7"
  }
 },
 "nbformat": 4,
 "nbformat_minor": 4
}

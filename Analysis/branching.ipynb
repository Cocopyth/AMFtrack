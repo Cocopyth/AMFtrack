{
 "cells": [
  {
   "cell_type": "code",
   "execution_count": 1,
   "metadata": {},
   "outputs": [],
   "source": [
    "import sys  \n",
    "sys.path.insert(0, '/home/cbisot/pycode/MscThesis/')\n",
    "%matplotlib widget\n",
    "from util import get_path, get_dates_datetime\n",
    "import pandas as pd\n",
    "import networkx as nx\n",
    "import numpy as np\n",
    "import matplotlib.pyplot as plt\n",
    "from extract_graph import generate_nx_graph, transform_list, generate_skeleton, generate_nx_graph_from_skeleton, from_connection_tab, from_nx_to_tab\n",
    "from node_id import whole_movement_identification, second_identification\n",
    "import ast\n",
    "from plotutil import plot_t_tp1, compress_skeleton\n",
    "from scipy import sparse\n",
    "from sparse_util import dilate, zhangSuen\n",
    "from realign import realign\n",
    "from datetime import datetime,timedelta\n",
    "from node_id import orient\n",
    "import pickle\n",
    "from matplotlib.widgets import CheckButtons\n",
    "import scipy.io as sio\n",
    "import imageio\n",
    "from pymatreader import read_mat\n",
    "from matplotlib import colors\n",
    "from copy import deepcopy,copy\n",
    "from collections import Counter\n",
    "import cv2 \n",
    "import imageio\n",
    "import matplotlib.pyplot as plt\n",
    "import numpy as np\n",
    "from skimage.filters import frangi, meijering\n",
    "from skimage.morphology import thin\n",
    "from skimage import data, filters\n",
    "from random import choice\n",
    "import scipy.sparse\n",
    "import os\n",
    "from time import time\n",
    "from extract_graph import dic_to_sparse, from_sparse_to_graph, generate_nx_graph, prune_graph, from_nx_to_tab, from_nx_to_tab_matlab,sparse_to_doc, connections_pixel_list_to_tab, transform_list, clean_degree_4\n",
    "from time import sleep\n",
    "from skimage.feature import hessian_matrix_det\n",
    "from experiment_class_surf import Experiment,clean_exp_with_hyphaes\n",
    "from hyphae_id_surf import clean_and_relabel, get_mother, save_hyphaes, resolve_ambiguity_two_ends,solve_degree4, clean_obvious_fake_tips, get_pixel_growth_and_new_children\n",
    "from subprocess import call\n",
    "import open3d as o3d\n",
    "import sklearn\n",
    "from Analysis.util import get_time, get_length_um\n",
    "from experiment_class_surf import Edge,Node"
   ]
  },
  {
   "cell_type": "code",
   "execution_count": 23,
   "metadata": {},
   "outputs": [
    {
     "name": "stdout",
     "output_type": "stream",
     "text": [
      "begin = 2020-07-01 15:57:00 \n",
      "  end = 2020-07-04 19:57:00\n"
     ]
    }
   ],
   "source": [
    "from directory import directory\n",
    "\n",
    "# exp_inst = [(40,0,37),(13,0,19),(3,0,19)]\n",
    "exp_inst = [(13,0,19)]\n",
    "\n",
    "experiments = []\n",
    "for inst in exp_inst:\n",
    "    plate = inst[0]\n",
    "    begin = inst[1]\n",
    "    end = inst[2]\n",
    "    dates_datetime = get_dates_datetime(directory,plate)\n",
    "    print('begin =',dates_datetime[begin],'\\n  end =',dates_datetime[end])\n",
    "    dates_datetime_chosen=dates_datetime[begin:end+1]\n",
    "    dates = dates_datetime_chosen\n",
    "    exp = pickle.load( open(f'{directory}/Analysis_Plate{plate}_{dates[0]}_{dates[-1]}/experiment_{plate}.pick', \"rb\" ) )\n",
    "    experiments.append(exp)"
   ]
  },
  {
   "cell_type": "code",
   "execution_count": 24,
   "metadata": {},
   "outputs": [],
   "source": [
    "exp = experiments[0]\n",
    "# exp13 = experiments[1]\n",
    "# exp3 = experiments[2]"
   ]
  },
  {
   "cell_type": "code",
   "execution_count": 25,
   "metadata": {},
   "outputs": [],
   "source": [
    "def get_length_um_edge(edge,t):\n",
    "    pixel_conversion_factor = 1.725\n",
    "    length_edge = 0\n",
    "    pixels = edge.pixel_list(t)\n",
    "    for i in range(len(pixels) // 10 + 1):\n",
    "        if i * 10 <= len(pixels) - 1:\n",
    "            length_edge += np.linalg.norm(\n",
    "                np.array(pixels[i * 10])\n",
    "                - np.array(pixels[min((i + 1) * 10, len(pixels) - 1)])\n",
    "            )\n",
    "    #         length_edge+=np.linalg.norm(np.array(pixels[len(pixels)//10-1*10-1])-np.array(pixels[-1]))\n",
    "    return length_edge * pixel_conversion_factor"
   ]
  },
  {
   "cell_type": "code",
   "execution_count": 26,
   "metadata": {},
   "outputs": [],
   "source": [
    "def get_length_um_node_list(node_list,exp,t):\n",
    "    total_length = 0\n",
    "    for i in range(len(node_list)-1):\n",
    "        nodea=Node(node_list[i],exp)\n",
    "        nodeb=Node(node_list[i+1],exp)\n",
    "        edge_obj =Edge(nodea,nodeb,exp)\n",
    "        total_length += get_length_um_edge(edge_obj,t)\n",
    "    return(total_length)\n",
    "        "
   ]
  },
  {
   "cell_type": "code",
   "execution_count": 27,
   "metadata": {},
   "outputs": [],
   "source": [
    "def estimate_bas_freq(exp,samples,t0,thresh_growth=150,thresh_length=1000):\n",
    "    select_hyph = {}\n",
    "    for hyph in exp.hyphaes:\n",
    "        select_hyph[hyph] = []\n",
    "        for i,t in enumerate(hyph.ts[:-1]):\n",
    "            tp1=hyph.ts[i+1]\n",
    "            pixels,nodes = get_pixel_growth_and_new_children(hyph,t,tp1)\n",
    "            length = np.sum([get_length_um(seg) for seg in pixels])/get_time(exp,t,tp1)\n",
    "            select_hyph[hyph].append((t,hyph.ts[i+1],length,pixels,nodes))\n",
    "    max_growths = []\n",
    "    lengths = []\n",
    "    branch_frequ = []\n",
    "    hyph_l = []\n",
    "    RH = []\n",
    "    BAS = []\n",
    "    hyph_info = {}\n",
    "    for hyph in exp.hyphaes:\n",
    "        growths = [c[2] for c in select_hyph[hyph]]\n",
    "        ts = [c[0] for c in select_hyph[hyph]]\n",
    "        tp1s = [c[1] for c in select_hyph[hyph]]\n",
    "        if len(growths)>0:\n",
    "            length = hyph.get_length_um(hyph.ts[-1])\n",
    "            nodes = hyph.get_nodes_within(hyph.ts[-1])[0]\n",
    "            max_growth = np.max(growths)\n",
    "            total_growth = np.sum([growth * get_time(exp,ts[i],tp1s[i]) for i,growth in enumerate(growths)])\n",
    "            if max_growth>=thresh_growth  and length>=thresh_length:\n",
    "                RH.append(hyph)\n",
    "            else:\n",
    "                BAS.append(hyph)\n",
    "            lengths.append(length)\n",
    "            max_growths.append(max_growth)\n",
    "            branch_frequ.append((len(nodes)-1)/(length+1))\n",
    "            hyph_l.append(hyph)\n",
    "            hyph_info[hyph]={'max_growth':max_growth,'length_total':length,'total_growth':total_growth,'nodes':nodes}\n",
    "    bas_frequ=[]\n",
    "    bas_roots = [hyph.root for hyph in BAS]\n",
    "    for k in range(samples):\n",
    "        node1 = Node(choice(list(exp.nx_graph[t0].nodes)),exp)\n",
    "        node2 = Node(choice(list(exp.nx_graph[t0].nodes)),exp)\n",
    "        if np.linalg.norm(node1.pos(t0)-node2.pos(t0))>=5000:\n",
    "            nodes = nx.shortest_path(exp.nx_graph[t0], source = node1.label, target = node2.label)\n",
    "#             exp.plot([t],[nodes])\n",
    "            bass=[]\n",
    "            for node in nodes:\n",
    "                if exp.get_node(node) in  bas_roots:\n",
    "                    bass.append(hyph)\n",
    "        #             print(hyph)\n",
    "        #             if hyph.ts[0] in rh.ts:\n",
    "        #                 print(hyph,hyph_info[hyph],hyph in BAS)\n",
    "        #                 hyph.end.show_source_image(hyph.ts[-1],hyph.ts[-1])\n",
    "            bas_frequ.append(len(bass)/get_length_um_node_list(nodes,exp,t0)*10000)\n",
    "    return(bas_frequ)"
   ]
  },
  {
   "cell_type": "code",
   "execution_count": 28,
   "metadata": {},
   "outputs": [],
   "source": [
    "bas_frequ = estimate_bas_freq(exp,200,19,thresh_growth=100,thresh_length=2000)"
   ]
  },
  {
   "cell_type": "code",
   "execution_count": 29,
   "metadata": {},
   "outputs": [
    {
     "data": {
      "application/vnd.jupyter.widget-view+json": {
       "model_id": "319453e626fe4c0a9aff4d9751e14082",
       "version_major": 2,
       "version_minor": 0
      },
      "text/plain": [
       "Canvas(toolbar=Toolbar(toolitems=[('Home', 'Reset original view', 'home', 'home'), ('Back', 'Back to previous …"
      ]
     },
     "metadata": {},
     "output_type": "display_data"
    },
    {
     "data": {
      "text/plain": [
       "(array([0.01459043, 0.02918086, 0.05836171, 0.04377129, 0.27721814,\n",
       "        0.204266  , 0.43771286, 0.37935114, 0.39394157, 0.21885643,\n",
       "        0.11672343, 0.08754257, 0.07295214, 0.102133  , 0.02918086,\n",
       "        0.04377129, 0.02918086, 0.01459043, 0.        , 0.02918086]),\n",
       " array([ 5.72524924,  6.11247004,  6.49969085,  6.88691166,  7.27413246,\n",
       "         7.66135327,  8.04857408,  8.43579488,  8.82301569,  9.2102365 ,\n",
       "         9.5974573 ,  9.98467811, 10.37189892, 10.75911972, 11.14634053,\n",
       "        11.53356133, 11.92078214, 12.30800295, 12.69522375, 13.08244456,\n",
       "        13.46966537]),\n",
       " <a list of 20 Patch objects>)"
      ]
     },
     "execution_count": 29,
     "metadata": {},
     "output_type": "execute_result"
    }
   ],
   "source": [
    "fig=plt.figure(figsize=(10,9))\n",
    "ax = fig.add_subplot(111)\n",
    "ax.set_xlabel('bas_frequ (bas/mm)')\n",
    "ax.set_ylabel('density')\n",
    "# ax.set_xlim((0,2))\n",
    "ax.hist(np.array(bas_frequ),20,density=True)"
   ]
  },
  {
   "cell_type": "code",
   "execution_count": 21,
   "metadata": {},
   "outputs": [
    {
     "data": {
      "text/plain": [
       "(8.881609370900788, 1.7020854242027799)"
      ]
     },
     "execution_count": 21,
     "metadata": {},
     "output_type": "execute_result"
    }
   ],
   "source": [
    "np.mean(bas_frequ),np.std(bas_frequ)"
   ]
  },
  {
   "cell_type": "code",
   "execution_count": null,
   "metadata": {},
   "outputs": [],
   "source": [
    "bas_frequ = estimate_bas_freq(exp13,200,19,thresh_growth=100,thresh_length=2000)"
   ]
  },
  {
   "cell_type": "code",
   "execution_count": null,
   "metadata": {},
   "outputs": [],
   "source": [
    "fig=plt.figure(figsize=(10,9))\n",
    "ax = fig.add_subplot(111)\n",
    "ax.set_xlabel('bas_frequ (bas/mm)')\n",
    "ax.set_ylabel('density')\n",
    "# ax.set_xlim((0,2))\n",
    "ax.hist(np.array(bas_frequ),10,density=True)"
   ]
  },
  {
   "cell_type": "code",
   "execution_count": null,
   "metadata": {},
   "outputs": [],
   "source": [
    "np.mean(bas_frequ),np.std(bas_frequ)"
   ]
  },
  {
   "cell_type": "code",
   "execution_count": null,
   "metadata": {},
   "outputs": [],
   "source": [
    "plt.close('all')\n",
    "bas_frequ = estimate_bas_freq(exp3,200,19,thresh_growth=100,thresh_length=2000)"
   ]
  },
  {
   "cell_type": "code",
   "execution_count": null,
   "metadata": {},
   "outputs": [],
   "source": [
    "fig=plt.figure(figsize=(10,9))\n",
    "ax = fig.add_subplot(111)\n",
    "ax.set_xlabel('bas_frequ (bas/mm)')\n",
    "ax.set_ylabel('density')\n",
    "# ax.set_xlim((0,2))\n",
    "ax.hist(np.array(bas_frequ),10,density=True)"
   ]
  },
  {
   "cell_type": "code",
   "execution_count": null,
   "metadata": {},
   "outputs": [],
   "source": [
    "np.mean(bas_frequ),np.std(bas_frequ)"
   ]
  },
  {
   "cell_type": "code",
   "execution_count": null,
   "metadata": {},
   "outputs": [],
   "source": [
    "exp = exp40\n",
    "select_hyph = {}\n",
    "for hyph in exp.hyphaes:\n",
    "    select_hyph[hyph] = []\n",
    "    for i,t in enumerate(hyph.ts[:-1]):\n",
    "        tp1=hyph.ts[i+1]\n",
    "        pixels,nodes = get_pixel_growth_and_new_children(hyph,t,tp1)\n",
    "        length = np.sum([get_length_um(seg) for seg in pixels])/get_time(exp,t,tp1)\n",
    "        select_hyph[hyph].append((t,hyph.ts[i+1],length,pixels,nodes))"
   ]
  },
  {
   "cell_type": "code",
   "execution_count": 12,
   "metadata": {},
   "outputs": [],
   "source": [
    "max_growths = []\n",
    "lengths = []\n",
    "branch_frequ = []\n",
    "hyph_l = []\n",
    "RH=[]\n",
    "BAS=[]\n",
    "thresh_growth = 150\n",
    "thresh_length = 1000\n",
    "hyph_info = {}\n",
    "for hyph in exp.hyphaes:\n",
    "    growths = [c[2] for c in select_hyph[hyph]]\n",
    "    ts = [c[0] for c in select_hyph[hyph]]\n",
    "    tp1s = [c[1] for c in select_hyph[hyph]]\n",
    "    if len(growths)>0:\n",
    "        length = hyph.get_length_um(hyph.ts[-1])\n",
    "        nodes = hyph.get_nodes_within(hyph.ts[-1])[0]\n",
    "        max_growth = np.max(growths)\n",
    "        total_growth = np.sum([growth * get_time(exp,ts[i],tp1s[i]) for i,growth in enumerate(growths)])\n",
    "        if max_growth>=thresh_growth  and length>=thresh_length:\n",
    "            RH.append(hyph)\n",
    "        else:\n",
    "            BAS.append(hyph)\n",
    "        lengths.append(length)\n",
    "        max_growths.append(max_growth)\n",
    "        branch_frequ.append((len(nodes)-1)/(length+1))\n",
    "        hyph_l.append(hyph)\n",
    "        hyph_info[hyph]={'max_growth':max_growth,'length_total':length,'total_growth':total_growth,'nodes':nodes}"
   ]
  },
  {
   "cell_type": "code",
   "execution_count": 65,
   "metadata": {},
   "outputs": [],
   "source": [
    "last_t = len(exp.nx_graph)-1\n",
    "node1 = Node(choice(list(exp.nx_graph[last_t].nodes)),exp)\n",
    "node2 = Node(choice(list(exp.nx_graph[last_t].nodes)),exp)"
   ]
  },
  {
   "cell_type": "code",
   "execution_count": null,
   "metadata": {},
   "outputs": [],
   "source": [
    "plt.close('all')\n",
    "nodes = nx.shortest_path(exp.nx_graph[-1], source = node1.label, target = node2.label)\n",
    "exp.plot([last_t],[nodes])"
   ]
  },
  {
   "cell_type": "code",
   "execution_count": 67,
   "metadata": {},
   "outputs": [
    {
     "data": {
      "text/plain": [
       "9.18428587716088"
      ]
     },
     "execution_count": 67,
     "metadata": {},
     "output_type": "execute_result"
    }
   ],
   "source": [
    "last_t = len(exp.nx_graph)-1\n",
    "bass=[]\n",
    "for node in nodes:\n",
    "    for hyph in exp.hyphaes:\n",
    "        if exp.get_node(node)==hyph.root:\n",
    "            if hyph in BAS:\n",
    "                bass.append(hyph)\n",
    "                break\n",
    "#             print(hyph)\n",
    "#             if hyph.ts[0] in rh.ts:\n",
    "#                 print(hyph,hyph_info[hyph],hyph in BAS)\n",
    "#                 hyph.end.show_source_image(hyph.ts[-1],hyph.ts[-1])\n",
    "len(bass)/get_length_um_node_list(nodes,exp,last_t)*10000\n"
   ]
  },
  {
   "cell_type": "code",
   "execution_count": null,
   "metadata": {},
   "outputs": [],
   "source": [
    "bas_frequ = estimate_bas_freq(exp,samples,t,thresh_growth=150,thresh_length=1000)"
   ]
  },
  {
   "cell_type": "code",
   "execution_count": null,
   "metadata": {},
   "outputs": [],
   "source": [
    "edge = choice(list(exp.nx_graph[-1].edges))"
   ]
  },
  {
   "cell_type": "code",
   "execution_count": 21,
   "metadata": {},
   "outputs": [],
   "source": [
    "for bas in BAS:\n",
    "    result = bas.get_nodes_within(bas.ts[-1])\n",
    "    break"
   ]
  },
  {
   "cell_type": "code",
   "execution_count": 33,
   "metadata": {},
   "outputs": [],
   "source": []
  },
  {
   "cell_type": "code",
   "execution_count": null,
   "metadata": {},
   "outputs": [],
   "source": [
    "edge"
   ]
  },
  {
   "cell_type": "code",
   "execution_count": 56,
   "metadata": {},
   "outputs": [],
   "source": [
    "bas_frequ=[]\n",
    "for rh in RH:\n",
    "    bass=[]\n",
    "    for node in rh.get_nodes_within(rh.ts[-1])[0][1:-1]:\n",
    "        for hyph in exp.hyphaes:\n",
    "            if exp.get_node(node)==hyph.root:\n",
    "                if hyph in BAS:\n",
    "                    bass.append(hyph)\n",
    "                    break\n",
    "    #             print(hyph)\n",
    "    #             if hyph.ts[0] in rh.ts:\n",
    "#                 print(hyph,hyph_info[hyph],hyph in BAS)\n",
    "#                 hyph.end.show_source_image(hyph.ts[-1],hyph.ts[-1])\n",
    "    bas_frequ.append(len(bass)/hyph_info[rh]['length_total'])\n",
    "            "
   ]
  },
  {
   "cell_type": "code",
   "execution_count": 58,
   "metadata": {
    "collapsed": true,
    "jupyter": {
     "outputs_hidden": true
    }
   },
   "outputs": [
    {
     "data": {
      "text/plain": [
       "[0.00017338764807121762,\n",
       " 4.953932802034789e-05,\n",
       " 4.953932802034789e-05,\n",
       " 4.953932802034789e-05,\n",
       " 4.953932802034789e-05,\n",
       " 4.953932802034789e-05,\n",
       " 7.430899203052184e-05,\n",
       " 4.953932802034789e-05,\n",
       " 2.4769664010173946e-05,\n",
       " 2.4769664010173946e-05,\n",
       " 4.953932802034789e-05,\n",
       " 9.907865604069578e-05,\n",
       " 0.0005697022722340007,\n",
       " 2.4769664010173946e-05,\n",
       " 2.4769664010173946e-05,\n",
       " 4.953932802034789e-05,\n",
       " 2.4769664010173946e-05,\n",
       " 4.953932802034789e-05,\n",
       " 0.0,\n",
       " 4.953932802034789e-05,\n",
       " 9.907865604069578e-05,\n",
       " 9.907865604069578e-05,\n",
       " 7.430899203052184e-05,\n",
       " 9.907865604069578e-05,\n",
       " 0.0,\n",
       " 9.907865604069578e-05,\n",
       " 4.953932802034789e-05,\n",
       " 2.4769664010173946e-05,\n",
       " 7.430899203052184e-05,\n",
       " 9.907865604069578e-05,\n",
       " 2.4769664010173946e-05,\n",
       " 0.0,\n",
       " 0.0,\n",
       " 2.4769664010173946e-05,\n",
       " 4.953932802034789e-05,\n",
       " 2.4769664010173946e-05,\n",
       " 2.4769664010173946e-05,\n",
       " 0.00017338764807121762,\n",
       " 4.953932802034789e-05,\n",
       " 0.00017338764807121762,\n",
       " 9.907865604069578e-05,\n",
       " 4.953932802034789e-05,\n",
       " 2.4769664010173946e-05,\n",
       " 0.00017338764807121762,\n",
       " 4.953932802034789e-05,\n",
       " 0.00014861798406104367,\n",
       " 0.00014861798406104367,\n",
       " 9.907865604069578e-05,\n",
       " 9.907865604069578e-05,\n",
       " 0.0003220056321322613,\n",
       " 0.00014861798406104367,\n",
       " 0.00012384832005086973,\n",
       " 9.907865604069578e-05,\n",
       " 0.00012384832005086973,\n",
       " 2.4769664010173946e-05,\n",
       " 7.430899203052184e-05,\n",
       " 0.00012384832005086973,\n",
       " 2.4769664010173946e-05,\n",
       " 4.953932802034789e-05,\n",
       " 2.4769664010173946e-05,\n",
       " 2.4769664010173946e-05,\n",
       " 0.00012384832005086973,\n",
       " 4.953932802034789e-05,\n",
       " 7.430899203052184e-05,\n",
       " 0.00014861798406104367,\n",
       " 0.0,\n",
       " 0.00019815731208139157,\n",
       " 4.953932802034789e-05,\n",
       " 0.00012384832005086973,\n",
       " 7.430899203052184e-05,\n",
       " 9.907865604069578e-05,\n",
       " 0.0,\n",
       " 7.430899203052184e-05,\n",
       " 4.953932802034789e-05,\n",
       " 2.4769664010173946e-05,\n",
       " 2.4769664010173946e-05,\n",
       " 7.430899203052184e-05,\n",
       " 9.907865604069578e-05,\n",
       " 7.430899203052184e-05,\n",
       " 7.430899203052184e-05,\n",
       " 0.0002229269760915655,\n",
       " 0.00014861798406104367,\n",
       " 0.00017338764807121762,\n",
       " 9.907865604069578e-05,\n",
       " 0.00012384832005086973,\n",
       " 9.907865604069578e-05,\n",
       " 0.0005201629442136528,\n",
       " 9.907865604069578e-05,\n",
       " 0.0,\n",
       " 2.4769664010173946e-05,\n",
       " 0.0,\n",
       " 2.4769664010173946e-05,\n",
       " 0.00017338764807121762,\n",
       " 2.4769664010173946e-05,\n",
       " 7.430899203052184e-05,\n",
       " 9.907865604069578e-05,\n",
       " 9.907865604069578e-05,\n",
       " 0.00029723596812208735,\n",
       " 0.00012384832005086973,\n",
       " 0.00019815731208139157,\n",
       " 0.00017338764807121762,\n",
       " 0.0002724663041119134,\n",
       " 4.953932802034789e-05,\n",
       " 2.4769664010173946e-05,\n",
       " 0.0,\n",
       " 0.0002724663041119134,\n",
       " 7.430899203052184e-05,\n",
       " 2.4769664010173946e-05,\n",
       " 0.00019815731208139157,\n",
       " 0.00019815731208139157,\n",
       " 7.430899203052184e-05,\n",
       " 0.00017338764807121762,\n",
       " 7.430899203052184e-05,\n",
       " 4.953932802034789e-05,\n",
       " 0.0,\n",
       " 2.4769664010173946e-05,\n",
       " 4.953932802034789e-05,\n",
       " 0.0,\n",
       " 0.00019815731208139157,\n",
       " 7.430899203052184e-05,\n",
       " 0.0,\n",
       " 0.00019815731208139157,\n",
       " 0.00014861798406104367,\n",
       " 4.953932802034789e-05,\n",
       " 0.0,\n",
       " 2.4769664010173946e-05,\n",
       " 2.4769664010173946e-05,\n",
       " 0.0,\n",
       " 4.953932802034789e-05,\n",
       " 4.953932802034789e-05,\n",
       " 2.4769664010173946e-05,\n",
       " 7.430899203052184e-05,\n",
       " 0.0,\n",
       " 2.4769664010173946e-05,\n",
       " 9.907865604069578e-05,\n",
       " 7.430899203052184e-05,\n",
       " 4.953932802034789e-05,\n",
       " 2.4769664010173946e-05,\n",
       " 0.00012384832005086973,\n",
       " 4.953932802034789e-05,\n",
       " 2.4769664010173946e-05,\n",
       " 0.0,\n",
       " 7.430899203052184e-05,\n",
       " 0.0,\n",
       " 9.907865604069578e-05,\n",
       " 2.4769664010173946e-05,\n",
       " 0.0]"
      ]
     },
     "execution_count": 58,
     "metadata": {},
     "output_type": "execute_result"
    }
   ],
   "source": [
    "bas_frequ"
   ]
  },
  {
   "cell_type": "code",
   "execution_count": null,
   "metadata": {},
   "outputs": [],
   "source": [
    "fig=plt.figure(figsize=(10,9))\n",
    "ax = fig.add_subplot(111)\n",
    "ax.set_xlabel('bas_frequ (bas/mm)')\n",
    "ax.set_ylabel('density')\n",
    "# ax.set_xlim((0,2))\n",
    "ax.hist(np.array(bas_frequ)*10000,10,density=True)"
   ]
  },
  {
   "cell_type": "code",
   "execution_count": 8,
   "metadata": {},
   "outputs": [
    {
     "data": {
      "text/plain": [
       "126"
      ]
     },
     "execution_count": 8,
     "metadata": {},
     "output_type": "execute_result"
    }
   ],
   "source": [
    "len(RH)"
   ]
  },
  {
   "cell_type": "code",
   "execution_count": 174,
   "metadata": {},
   "outputs": [
    {
     "data": {
      "text/plain": [
       "[27, 28, 29, 30, 31, 32, 33, 34, 35, 36, 37]"
      ]
     },
     "execution_count": 174,
     "metadata": {},
     "output_type": "execute_result"
    }
   ],
   "source": [
    "rh = choice(RH)\n",
    "rh.ts"
   ]
  },
  {
   "cell_type": "code",
   "execution_count": 175,
   "metadata": {
    "collapsed": true,
    "jupyter": {
     "outputs_hidden": true
    }
   },
   "outputs": [
    {
     "data": {
      "application/vnd.jupyter.widget-view+json": {
       "model_id": "01bc180f28f04281be8682be10fb6fa2",
       "version_major": 2,
       "version_minor": 0
      },
      "text/plain": [
       "Canvas(toolbar=Toolbar(toolitems=[('Home', 'Reset original view', 'home', 'home'), ('Back', 'Back to previous …"
      ]
     },
     "metadata": {},
     "output_type": "display_data"
    },
    {
     "data": {
      "text/plain": [
       "[<matplotlib.lines.Line2D at 0x2b28bc18aa10>]"
      ]
     },
     "execution_count": 175,
     "metadata": {},
     "output_type": "execute_result"
    }
   ],
   "source": [
    "plt.close('all')\n",
    "t0 = select_hyph[rh][0][0]\n",
    "times=[get_time(exp,t0,c[0]) for c in select_hyph[rh]]\n",
    "speeds = [c[2] for c in select_hyph[rh]]\n",
    "plt.close('all')\n",
    "fig=plt.figure(figsize=(8,8))\n",
    "ax = fig.add_subplot(111)\n",
    "ax.set_xlabel('time (hour)')\n",
    "ax.set_ylabel('speed (um/hour)')\n",
    "ax.plot(times,speeds)"
   ]
  },
  {
   "cell_type": "code",
   "execution_count": 176,
   "metadata": {},
   "outputs": [
    {
     "data": {
      "text/plain": [
       "[9110, 9873, 9865, 9855, 9109]"
      ]
     },
     "execution_count": 176,
     "metadata": {},
     "output_type": "execute_result"
    }
   ],
   "source": [
    "rh.get_nodes_within(rh.ts[-1])[0]"
   ]
  },
  {
   "cell_type": "code",
   "execution_count": 177,
   "metadata": {
    "collapsed": true,
    "jupyter": {
     "outputs_hidden": true
    }
   },
   "outputs": [
    {
     "data": {
      "application/vnd.jupyter.widget-view+json": {
       "model_id": "9a1f226f8b9e4337b266f7ee9c24d73c",
       "version_major": 2,
       "version_minor": 0
      },
      "text/plain": [
       "Canvas(toolbar=Toolbar(toolitems=[('Home', 'Reset original view', 'home', 'home'), ('Back', 'Back to previous …"
      ]
     },
     "metadata": {},
     "output_type": "display_data"
    }
   ],
   "source": [
    "plt.close('all')\n",
    "exp.plot(rh.ts,[rh.get_nodes_within(rh.ts[-1])[0]+[]]*len(rh.ts))"
   ]
  },
  {
   "cell_type": "code",
   "execution_count": 178,
   "metadata": {
    "collapsed": true,
    "jupyter": {
     "outputs_hidden": true
    }
   },
   "outputs": [
    {
     "name": "stdout",
     "output_type": "stream",
     "text": [
      "(Node(9862), Node(9873)) (68.55772085948638, 432.47828936436974, 148.6429469009527, [9873, 14704, 9862]) True\n"
     ]
    },
    {
     "data": {
      "application/vnd.jupyter.widget-view+json": {
       "model_id": "9fe612d8f6b2452abd04c24c0423f3c0",
       "version_major": 2,
       "version_minor": 0
      },
      "text/plain": [
       "Canvas(toolbar=Toolbar(toolitems=[('Home', 'Reset original view', 'home', 'home'), ('Back', 'Back to previous …"
      ]
     },
     "metadata": {},
     "output_type": "display_data"
    },
    {
     "name": "stdout",
     "output_type": "stream",
     "text": [
      "(Node(11846), Node(9865)) (0.0, 139.72161256677649, 0.0, [9865, 11165, 11846]) True\n"
     ]
    },
    {
     "data": {
      "application/vnd.jupyter.widget-view+json": {
       "model_id": "c17ea1d88bb94733b84126f6122ef259",
       "version_major": 2,
       "version_minor": 0
      },
      "text/plain": [
       "Canvas(toolbar=Toolbar(toolitems=[('Home', 'Reset original view', 'home', 'home'), ('Back', 'Back to previous …"
      ]
     },
     "metadata": {},
     "output_type": "display_data"
    }
   ],
   "source": [
    "plt.close('all')\n",
    "for node in rh.get_nodes_within(rh.ts[-1])[0][1:-1]:\n",
    "    for hyph in exp.hyphaes:\n",
    "        if exp.get_node(node)==hyph.root:\n",
    "#             print(hyph)\n",
    "#             if hyph.ts[0] in rh.ts:\n",
    "            print(hyph,hyph_info[hyph],hyph in BAS)\n",
    "            hyph.end.show_source_image(hyph.ts[-1],hyph.ts[-1])"
   ]
  },
  {
   "cell_type": "code",
   "execution_count": 26,
   "metadata": {},
   "outputs": [
    {
     "data": {
      "text/plain": [
       "(7.646535511603008, 5.143899884825599)"
      ]
     },
     "execution_count": 26,
     "metadata": {},
     "output_type": "execute_result"
    }
   ],
   "source": [
    "np.mean(bas_frequ)*10000,np.std(bas_frequ)*10000"
   ]
  },
  {
   "cell_type": "code",
   "execution_count": 25,
   "metadata": {},
   "outputs": [
    {
     "data": {
      "text/plain": [
       "(8.98550841574617, 4.786839847744506)"
      ]
     },
     "execution_count": 25,
     "metadata": {},
     "output_type": "execute_result"
    }
   ],
   "source": [
    "np.mean(bas_frequ)*10000,np.std(bas_frequ)*10000"
   ]
  },
  {
   "cell_type": "code",
   "execution_count": 9,
   "metadata": {},
   "outputs": [
    {
     "data": {
      "text/plain": [
       "(4.84338132339359, 3.625468207834553)"
      ]
     },
     "execution_count": 9,
     "metadata": {},
     "output_type": "execute_result"
    }
   ],
   "source": [
    "np.mean(bas_frequ)*10000,np.std(bas_frequ)*10000"
   ]
  },
  {
   "cell_type": "code",
   "execution_count": 2,
   "metadata": {},
   "outputs": [
    {
     "data": {
      "text/plain": [
       "105984.0"
      ]
     },
     "execution_count": 2,
     "metadata": {},
     "output_type": "execute_result"
    }
   ],
   "source": [
    "15*4096*1.725"
   ]
  },
  {
   "cell_type": "code",
   "execution_count": 92,
   "metadata": {},
   "outputs": [
    {
     "data": {
      "application/vnd.jupyter.widget-view+json": {
       "model_id": "77a30174a660453d9ba1b015664ba515",
       "version_major": 2,
       "version_minor": 0
      },
      "text/plain": [
       "Canvas(toolbar=Toolbar(toolitems=[('Home', 'Reset original view', 'home', 'home'), ('Back', 'Back to previous …"
      ]
     },
     "metadata": {},
     "output_type": "display_data"
    }
   ],
   "source": [
    "plt.close('all')\n",
    "exp.plot(rh.ts,[[rh.end.label,rh.root.label]]*len(rh.ts))"
   ]
  },
  {
   "cell_type": "code",
   "execution_count": 160,
   "metadata": {},
   "outputs": [
    {
     "data": {
      "text/plain": [
       "[16, 17, 18, 19, 20, 21, 22, 23, 24, 25, 26, 27, 28]"
      ]
     },
     "execution_count": 160,
     "metadata": {},
     "output_type": "execute_result"
    }
   ],
   "source": [
    "rh.end.ts()"
   ]
  },
  {
   "cell_type": "code",
   "execution_count": 159,
   "metadata": {},
   "outputs": [
    {
     "data": {
      "application/vnd.jupyter.widget-view+json": {
       "model_id": "6e9f6488a02642af970f74f8b0cd59f5",
       "version_major": 2,
       "version_minor": 0
      },
      "text/plain": [
       "Canvas(toolbar=Toolbar(toolitems=[('Home', 'Reset original view', 'home', 'home'), ('Back', 'Back to previous …"
      ]
     },
     "metadata": {},
     "output_type": "display_data"
    }
   ],
   "source": [
    "rh.end.show_source_image(rh.ts[-1],rh.ts[-1]+1)"
   ]
  },
  {
   "cell_type": "code",
   "execution_count": 40,
   "metadata": {},
   "outputs": [
    {
     "data": {
      "text/plain": [
       "9823"
      ]
     },
     "execution_count": 40,
     "metadata": {},
     "output_type": "execute_result"
    }
   ],
   "source": [
    "edge"
   ]
  },
  {
   "cell_type": "code",
   "execution_count": 45,
   "metadata": {},
   "outputs": [],
   "source": [
    "edge = choice(list(exp.nx_graph[-1].edges))\n",
    "edge_obj =Edge(Node(edge[0],exp),Node(edge[1],exp),exp)"
   ]
  },
  {
   "cell_type": "code",
   "execution_count": 49,
   "metadata": {},
   "outputs": [
    {
     "data": {
      "text/plain": [
       "998"
      ]
     },
     "execution_count": 49,
     "metadata": {},
     "output_type": "execute_result"
    }
   ],
   "source": [
    "edge[0]"
   ]
  }
 ],
 "metadata": {
  "kernelspec": {
   "display_name": "Python 3",
   "language": "python",
   "name": "python3"
  },
  "language_info": {
   "codemirror_mode": {
    "name": "ipython",
    "version": 3
   },
   "file_extension": ".py",
   "mimetype": "text/x-python",
   "name": "python",
   "nbconvert_exporter": "python",
   "pygments_lexer": "ipython3",
   "version": "3.7.7"
  }
 },
 "nbformat": 4,
 "nbformat_minor": 4
}

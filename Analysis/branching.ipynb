{
 "cells": [
  {
   "cell_type": "code",
   "execution_count": 1,
   "metadata": {},
   "outputs": [],
   "source": [
    "import sys  \n",
    "sys.path.insert(0, '/home/cbisot/pycode/MscThesis/')\n",
    "%matplotlib widget\n",
    "from util import get_path, get_dates_datetime\n",
    "import pandas as pd\n",
    "import networkx as nx\n",
    "import numpy as np\n",
    "import matplotlib.pyplot as plt\n",
    "from extract_graph import generate_nx_graph, transform_list, generate_skeleton, generate_nx_graph_from_skeleton, from_connection_tab, from_nx_to_tab\n",
    "from node_id import whole_movement_identification, second_identification\n",
    "import ast\n",
    "from plotutil import plot_t_tp1, compress_skeleton\n",
    "from scipy import sparse\n",
    "from sparse_util import dilate, zhangSuen\n",
    "from realign import realign\n",
    "from datetime import datetime,timedelta\n",
    "from node_id import orient\n",
    "import pickle\n",
    "from matplotlib.widgets import CheckButtons\n",
    "import scipy.io as sio\n",
    "import imageio\n",
    "from pymatreader import read_mat\n",
    "from matplotlib import colors\n",
    "from copy import deepcopy,copy\n",
    "from collections import Counter\n",
    "import cv2 \n",
    "import imageio\n",
    "import matplotlib.pyplot as plt\n",
    "import numpy as np\n",
    "from skimage.filters import frangi, meijering\n",
    "from skimage.morphology import thin\n",
    "from skimage import data, filters\n",
    "from random import choice\n",
    "import scipy.sparse\n",
    "import os\n",
    "from time import time\n",
    "from extract_graph import dic_to_sparse, from_sparse_to_graph, generate_nx_graph, prune_graph, from_nx_to_tab, from_nx_to_tab_matlab,sparse_to_doc, connections_pixel_list_to_tab, transform_list, clean_degree_4\n",
    "from time import sleep\n",
    "from skimage.feature import hessian_matrix_det\n",
    "from experiment_class_surf import Experiment,clean_exp_with_hyphaes\n",
    "from hyphae_id_surf import clean_and_relabel, get_mother, save_hyphaes, resolve_ambiguity_two_ends,solve_degree4, clean_obvious_fake_tips, get_pixel_growth_and_new_children\n",
    "from subprocess import call\n",
    "import open3d as o3d\n",
    "import sklearn\n",
    "from Analysis.util import *\n",
    "from experiment_class_surf import Edge,Node\n",
    "from directory import directory, path_code\n",
    "from Analysis.data_info import *\n",
    "from statsmodels.stats import weightstats as stests\n"
   ]
  },
  {
   "cell_type": "code",
   "execution_count": 2,
   "metadata": {},
   "outputs": [],
   "source": [
    "results={}\n",
    "for treatment in treatments.keys():\n",
    "    insts = treatments[treatment]\n",
    "    for inst in insts:\n",
    "        results[inst] = pickle.load(open(f'{path_code}/MscThesis/Results/bas_{inst}.pick', \"rb\"))"
   ]
  },
  {
   "cell_type": "code",
   "execution_count": 3,
   "metadata": {},
   "outputs": [],
   "source": [
    "column_names = [\"plate\",\"inst\", \"treatment\", \"bas_frequ\"]\n",
    "infos = pd.DataFrame(columns=column_names)\n",
    "for treatment in treatments.keys():\n",
    "    insts = treatments[treatment]\n",
    "    for inst in insts:\n",
    "        bas_frequs = results[inst]\n",
    "        new_line = pd.DataFrame(\n",
    "            {   \"plate\": [plate_number[inst]],\n",
    "                \"inst\": [inst],\n",
    "                \"treatment\": [treatment],\n",
    "                \"bas_frequ\": [np.mean(bas_frequs)],\n",
    "            }\n",
    "        )  # index 0 for\n",
    "        # mothers need to be modified to resolve multi mother issue\n",
    "        infos = infos.append(new_line, ignore_index=True)"
   ]
  },
  {
   "cell_type": "code",
   "execution_count": 7,
   "metadata": {},
   "outputs": [
    {
     "data": {
      "text/html": [
       "<div>\n",
       "<style scoped>\n",
       "    .dataframe tbody tr th:only-of-type {\n",
       "        vertical-align: middle;\n",
       "    }\n",
       "\n",
       "    .dataframe tbody tr th {\n",
       "        vertical-align: top;\n",
       "    }\n",
       "\n",
       "    .dataframe thead th {\n",
       "        text-align: right;\n",
       "    }\n",
       "</style>\n",
       "<table border=\"1\" class=\"dataframe\">\n",
       "  <thead>\n",
       "    <tr style=\"text-align: right;\">\n",
       "      <th></th>\n",
       "      <th>plate</th>\n",
       "      <th>inst</th>\n",
       "      <th>treatment</th>\n",
       "      <th>bas_frequ</th>\n",
       "    </tr>\n",
       "  </thead>\n",
       "  <tbody>\n",
       "    <tr>\n",
       "      <th>0</th>\n",
       "      <td>298</td>\n",
       "      <td>(13, 0, 19)</td>\n",
       "      <td>25</td>\n",
       "      <td>9.235245</td>\n",
       "    </tr>\n",
       "    <tr>\n",
       "      <th>1</th>\n",
       "      <td>94</td>\n",
       "      <td>(39, 404, 464)</td>\n",
       "      <td>25</td>\n",
       "      <td>9.950555</td>\n",
       "    </tr>\n",
       "    <tr>\n",
       "      <th>2</th>\n",
       "      <td>69</td>\n",
       "      <td>(40, 0, 37)</td>\n",
       "      <td>25</td>\n",
       "      <td>9.241097</td>\n",
       "    </tr>\n",
       "    <tr>\n",
       "      <th>3</th>\n",
       "      <td>420</td>\n",
       "      <td>(33, 5, 25)</td>\n",
       "      <td>baits</td>\n",
       "      <td>10.873742</td>\n",
       "    </tr>\n",
       "    <tr>\n",
       "      <th>4</th>\n",
       "      <td>433</td>\n",
       "      <td>(39, 151, 165)</td>\n",
       "      <td>baits</td>\n",
       "      <td>15.350915</td>\n",
       "    </tr>\n",
       "    <tr>\n",
       "      <th>5</th>\n",
       "      <td>399</td>\n",
       "      <td>(14, 0, 11)</td>\n",
       "      <td>baits</td>\n",
       "      <td>12.513601</td>\n",
       "    </tr>\n",
       "    <tr>\n",
       "      <th>6</th>\n",
       "      <td>42</td>\n",
       "      <td>(26, 30, 53)</td>\n",
       "      <td>30</td>\n",
       "      <td>11.821524</td>\n",
       "    </tr>\n",
       "    <tr>\n",
       "      <th>7</th>\n",
       "      <td>48</td>\n",
       "      <td>(22, 8, 26)</td>\n",
       "      <td>30</td>\n",
       "      <td>9.742247</td>\n",
       "    </tr>\n",
       "    <tr>\n",
       "      <th>8</th>\n",
       "      <td>60</td>\n",
       "      <td>(24, 105, 110)</td>\n",
       "      <td>30</td>\n",
       "      <td>8.254480</td>\n",
       "    </tr>\n",
       "  </tbody>\n",
       "</table>\n",
       "</div>"
      ],
      "text/plain": [
       "  plate            inst treatment  bas_frequ\n",
       "0   298     (13, 0, 19)        25   9.235245\n",
       "1    94  (39, 404, 464)        25   9.950555\n",
       "2    69     (40, 0, 37)        25   9.241097\n",
       "3   420     (33, 5, 25)     baits  10.873742\n",
       "4   433  (39, 151, 165)     baits  15.350915\n",
       "5   399     (14, 0, 11)     baits  12.513601\n",
       "6    42    (26, 30, 53)        30  11.821524\n",
       "7    48     (22, 8, 26)        30   9.742247\n",
       "8    60  (24, 105, 110)        30   8.254480"
      ]
     },
     "execution_count": 7,
     "metadata": {},
     "output_type": "execute_result"
    }
   ],
   "source": [
    "infos"
   ]
  },
  {
   "cell_type": "code",
   "execution_count": 4,
   "metadata": {},
   "outputs": [
    {
     "name": "stderr",
     "output_type": "stream",
     "text": [
      "/home/cbisot/anaconda3/envs/test/lib/python3.7/site-packages/matplotlib/__init__.py:880: MatplotlibDeprecationWarning: \n",
      "nbagg.transparent\n",
      "  version, key, obj_type=\"rcparam\", alternative=alt_key)\n"
     ]
    },
    {
     "data": {
      "application/vnd.jupyter.widget-view+json": {
       "model_id": "abd7facb36b64849bc67c173e336778d",
       "version_major": 2,
       "version_minor": 0
      },
      "text/plain": [
       "Canvas(toolbar=Toolbar(toolitems=[('Home', 'Reset original view', 'home', 'home'), ('Back', 'Back to previous …"
      ]
     },
     "metadata": {},
     "output_type": "display_data"
    }
   ],
   "source": [
    "fig, ax = plt.subplots(nrows=1, ncols=1, figsize=(9, 4))\n",
    "bplot1 = infos.boxplot(column = ['bas_frequ'],by=\"treatment\",figsize =(9,8),ax =ax,patch_artist=True)\n",
    "colors = ['lightblue'] + ['pink']+['lightgreen']\n",
    "for i,(artist, col) in enumerate(zip(ax.artists, colors)):\n",
    "    artist.set_edgecolor(col)\n",
    "    artist.set_facecolor(col) \n",
    "ax.set_xlabel('Treatment')\n",
    "ax.set_ylabel('BAS frequency ($BAS.cm^{-1}$)')\n",
    "plt.show()"
   ]
  },
  {
   "cell_type": "code",
   "execution_count": 16,
   "metadata": {},
   "outputs": [],
   "source": [
    "mapping = {298: 0,94 : 0, 69:0, 420 : 2, 433 : 2, 399:2, 42: 1, 48: 1,60:1}\n",
    "key = infos['plate'].map(mapping)"
   ]
  },
  {
   "cell_type": "code",
   "execution_count": 18,
   "metadata": {},
   "outputs": [
    {
     "data": {
      "application/vnd.jupyter.widget-view+json": {
       "model_id": "3be64828e35e4e199094a4aab12d8033",
       "version_major": 2,
       "version_minor": 0
      },
      "text/plain": [
       "Canvas(toolbar=Toolbar(toolitems=[('Home', 'Reset original view', 'home', 'home'), ('Back', 'Back to previous …"
      ]
     },
     "metadata": {},
     "output_type": "display_data"
    }
   ],
   "source": [
    "fig, ax = plt.subplots(nrows=1, ncols=1, figsize=(9, 4))\n",
    "bplot1 = infos.iloc[key.argsort()].plot.bar(x=\"plate\", y='bas_frequ',figsize =(9,8),ax =ax, color = ['lightblue']*3  + ['pink']*3 +['lightgreen']*3,legend=False)\n",
    "# colors = ['lightblue'] + ['pink']+['lightgreen']\n",
    "# for i,(artist, col) in enumerate(zip(ax.artists, colors)):\n",
    "#     artist.set_edgecolor(col)\n",
    "#     artist.set_facecolor(col) \n",
    "ax.set_xlabel('Plate number')\n",
    "ax.set_ylabel('BAS frequency ($BAS.cm^{-1}$)')\n",
    "plt.show()"
   ]
  },
  {
   "cell_type": "code",
   "execution_count": 21,
   "metadata": {},
   "outputs": [
    {
     "data": {
      "text/plain": [
       "0.6621235504678156"
      ]
     },
     "execution_count": 21,
     "metadata": {},
     "output_type": "execute_result"
    }
   ],
   "source": [
    "ztest ,pval1 = stests.ztest(infos.loc[infos[\"treatment\"] == \"25\"]['bas_frequ'],infos.loc[infos[\"treatment\"] == \"30\"]['bas_frequ'], value=0,alternative='two-sided')\n",
    "pval1"
   ]
  },
  {
   "cell_type": "code",
   "execution_count": 4,
   "metadata": {},
   "outputs": [
    {
     "name": "stdout",
     "output_type": "stream",
     "text": [
      "begin = 2020-12-08 10:57:00 \n",
      "  end = 2020-12-10 11:07:00\n"
     ]
    },
    {
     "name": "stderr",
     "output_type": "stream",
     "text": [
      "/home/cbisot/anaconda3/envs/test/lib/python3.7/site-packages/matplotlib/__init__.py:880: MatplotlibDeprecationWarning: \n",
      "nbagg.transparent\n",
      "  version, key, obj_type=\"rcparam\", alternative=alt_key)\n"
     ]
    },
    {
     "data": {
      "application/vnd.jupyter.widget-view+json": {
       "model_id": "48be8c57d7f3479dbcdfd08398b23f4c",
       "version_major": 2,
       "version_minor": 0
      },
      "text/plain": [
       "Canvas(toolbar=Toolbar(toolitems=[('Home', 'Reset original view', 'home', 'home'), ('Back', 'Back to previous …"
      ]
     },
     "metadata": {},
     "output_type": "display_data"
    },
    {
     "data": {
      "text/plain": [
       "(5.463183153628295, 1.610400934218557)"
      ]
     },
     "execution_count": 4,
     "metadata": {},
     "output_type": "execute_result"
    }
   ],
   "source": [
    "bas_frequ,bass = estimate_bas_freq((24,104,116),200,0,criter)\n",
    "fig=plt.figure(figsize=(10,9))\n",
    "ax = fig.add_subplot(111)\n",
    "ax.set_xlabel('bas_frequ (bas/mm)')\n",
    "ax.set_ylabel('density')\n",
    "# ax.set_xlim((0,2))\n",
    "ax.set_title(f'mean = {round(np.nanmean(bas_frequ),max(2,-int(np.log10(np.nanmean(bas_frequ)))+2))}, std = {round(np.nanstd(bas_frequ),max(2,-int(np.log10(np.nanstd(bas_frequ)))+2))}')\n",
    "\n",
    "ax.hist(np.array(bas_frequ),10,density=True)\n",
    "np.mean(bas_frequ),np.std(bas_frequ)"
   ]
  },
  {
   "cell_type": "code",
   "execution_count": 5,
   "metadata": {},
   "outputs": [
    {
     "name": "stdout",
     "output_type": "stream",
     "text": [
      "begin = 2020-07-01 15:57:00 \n",
      "  end = 2020-07-04 19:57:00\n",
      "begin = 2020-11-23 15:01:00 \n",
      "  end = 2020-11-26 03:02:00\n",
      "begin = 2020-11-19 20:21:00 \n",
      "  end = 2020-11-25 18:06:00\n"
     ]
    }
   ],
   "source": [
    "inst_25 = [(13,0,19),(39,404,464),(40,0,37)]\n",
    "bas_frequs_25 = estimate_bas_freq_mult(inst_25,1000,0,criter)\n",
    "bas_frequ_25=[np.mean(bas_frequ) for bas_frequ in bas_frequs_25]"
   ]
  },
  {
   "cell_type": "code",
   "execution_count": 8,
   "metadata": {},
   "outputs": [],
   "source": [
    "pickle.dump(bas_frequ_25, open(f'{path_code}/MscThesis/Results/bas_{treatment}.pick', \"wb\"))"
   ]
  },
  {
   "cell_type": "code",
   "execution_count": 24,
   "metadata": {},
   "outputs": [
    {
     "name": "stderr",
     "output_type": "stream",
     "text": [
      "/home/cbisot/anaconda3/envs/test/lib/python3.7/site-packages/matplotlib/__init__.py:880: MatplotlibDeprecationWarning: \n",
      "nbagg.transparent\n",
      "  version, key, obj_type=\"rcparam\", alternative=alt_key)\n"
     ]
    },
    {
     "data": {
      "application/vnd.jupyter.widget-view+json": {
       "model_id": "b05094b0843d43adaa5d731edf8ce037",
       "version_major": 2,
       "version_minor": 0
      },
      "text/plain": [
       "Canvas(toolbar=Toolbar(toolitems=[('Home', 'Reset original view', 'home', 'home'), ('Back', 'Back to previous …"
      ]
     },
     "metadata": {},
     "output_type": "display_data"
    },
    {
     "data": {
      "text/plain": [
       "(9.426201243726451, 0.2715255985498475)"
      ]
     },
     "execution_count": 24,
     "metadata": {},
     "output_type": "execute_result"
    }
   ],
   "source": [
    "fig=plt.figure(figsize=(10,9))\n",
    "ax = fig.add_subplot(111)\n",
    "ax.set_xlabel('bas_frequ (bas/mm)')\n",
    "ax.set_ylabel('density')\n",
    "# ax.set_xlim((0,2))\n",
    "ax.set_title(f'mean = {round(np.nanmean(bas_frequ_25),max(2,-int(np.log10(np.nanmean(bas_frequ_25)))+2))}, std = {round(np.nanstd(bas_frequ_25),max(2,-int(np.log10(np.nanstd(bas_frequ_25)))+2))}')\n",
    "\n",
    "ax.hist(np.array(bas_frequ_25),10,density=True)\n",
    "np.mean(bas_frequ_25),np.std(bas_frequ_25)"
   ]
  },
  {
   "cell_type": "code",
   "execution_count": null,
   "metadata": {},
   "outputs": [
    {
     "name": "stdout",
     "output_type": "stream",
     "text": [
      "begin = 2020-09-29 15:17:00 \n",
      "  end = 2020-10-03 19:34:00\n"
     ]
    }
   ],
   "source": [
    "treatment = 'baits'\n",
    "inst_bait = treatments[treatment]\n",
    "bas_frequs_bait = estimate_bas_freq_mult(inst_bait,1000,0,criter)\n",
    "bas_frequ_bait=[np.mean(bas_frequ) for bas_frequ in bas_frequs_bait]"
   ]
  },
  {
   "cell_type": "code",
   "execution_count": null,
   "metadata": {},
   "outputs": [],
   "source": [
    "pickle.dump(bas_frequ_bait, open(f'{path_code}/MscThesis/Results/bas_{treatment}.pick', \"wb\"))"
   ]
  },
  {
   "cell_type": "code",
   "execution_count": 21,
   "metadata": {},
   "outputs": [
    {
     "data": {
      "application/vnd.jupyter.widget-view+json": {
       "model_id": "0a079198defe4126b235240a67037b2e",
       "version_major": 2,
       "version_minor": 0
      },
      "text/plain": [
       "Canvas(toolbar=Toolbar(toolitems=[('Home', 'Reset original view', 'home', 'home'), ('Back', 'Back to previous …"
      ]
     },
     "metadata": {},
     "output_type": "display_data"
    },
    {
     "data": {
      "text/plain": [
       "(13.004325494685883, 2.864767750796865)"
      ]
     },
     "execution_count": 21,
     "metadata": {},
     "output_type": "execute_result"
    }
   ],
   "source": [
    "fig=plt.figure(figsize=(10,9))\n",
    "ax = fig.add_subplot(111)\n",
    "ax.set_xlabel('bas_frequ (bas/mm)')\n",
    "ax.set_ylabel('density')\n",
    "# ax.set_xlim((0,2))\n",
    "ax.set_title(f'mean = {round(np.nanmean(bas_frequ_bait),max(2,-int(np.log10(np.nanmean(bas_frequ_bait)))+2))}, std = {round(np.nanstd(bas_frequ_bait),max(2,-int(np.log10(np.nanstd(bas_frequ_bait)))+2))}')\n",
    "\n",
    "ax.hist(np.array(bas_frequ_bait),10,density=True)\n",
    "np.mean(bas_frequ_bait),np.std(bas_frequ_bait)"
   ]
  },
  {
   "cell_type": "code",
   "execution_count": null,
   "metadata": {},
   "outputs": [
    {
     "name": "stdout",
     "output_type": "stream",
     "text": [
      "begin = 2020-09-29 15:17:00 \n",
      "  end = 2020-10-03 19:34:00\n"
     ]
    }
   ],
   "source": [
    "inst_30 = [(26,30,53),(22,8,26),(24,105,110)]\n",
    "bas_frequs_30 = estimate_bas_freq_mult(inst_bait,1000,0,criter)\n",
    "bas_frequ_30=[np.mean(bas_frequ) for bas_frequ in bas_frequs_30]"
   ]
  },
  {
   "cell_type": "code",
   "execution_count": 9,
   "metadata": {},
   "outputs": [
    {
     "name": "stderr",
     "output_type": "stream",
     "text": [
      "/home/cbisot/anaconda3/envs/test/lib/python3.7/site-packages/matplotlib/__init__.py:880: MatplotlibDeprecationWarning: \n",
      "nbagg.transparent\n",
      "  version, key, obj_type=\"rcparam\", alternative=alt_key)\n"
     ]
    },
    {
     "data": {
      "application/vnd.jupyter.widget-view+json": {
       "model_id": "5535e62682bc4c369d1e939bab4cbdcd",
       "version_major": 2,
       "version_minor": 0
      },
      "text/plain": [
       "Canvas(toolbar=Toolbar(toolitems=[('Home', 'Reset original view', 'home', 'home'), ('Back', 'Back to previous …"
      ]
     },
     "metadata": {},
     "output_type": "display_data"
    },
    {
     "data": {
      "text/plain": [
       "(13.049226448227035, 2.8916423120372134)"
      ]
     },
     "execution_count": 9,
     "metadata": {},
     "output_type": "execute_result"
    }
   ],
   "source": [
    "plt.close('all')\n",
    "fig=plt.figure(figsize=(10,9))\n",
    "ax = fig.add_subplot(111)\n",
    "ax.set_xlabel('bas_frequ (bas/mm)')\n",
    "ax.set_ylabel('density')\n",
    "# ax.set_xlim((0,2))\n",
    "ax.set_title(f'mean = {round(np.nanmean(bas_frequ_30),max(2,-int(np.log10(np.nanmean(bas_frequ_30)))+2))}, std = {round(np.nanstd(bas_frequ_30),max(2,-int(np.log10(np.nanstd(bas_frequ_30)))+2))}')\n",
    "\n",
    "ax.hist(np.array(bas_frequ_30),10,density=True)\n",
    "np.mean(bas_frequ_30),np.std(bas_frequ_30)"
   ]
  },
  {
   "cell_type": "code",
   "execution_count": 19,
   "metadata": {},
   "outputs": [
    {
     "name": "stdout",
     "output_type": "stream",
     "text": [
      "0.04952564573481898\n"
     ]
    }
   ],
   "source": [
    "from scipy import stats\n",
    "from statsmodels.stats import weightstats as stests\n",
    "ztest ,pval1 = stests.ztest(bas_frequ_25, [frequ +0.1 for frequ in bas_frequ_25], value=0,alternative='two-sided')\n",
    "print(float(pval1))"
   ]
  },
  {
   "cell_type": "code",
   "execution_count": 11,
   "metadata": {},
   "outputs": [
    {
     "data": {
      "text/plain": [
       "0.0"
      ]
     },
     "execution_count": 11,
     "metadata": {},
     "output_type": "execute_result"
    }
   ],
   "source": [
    "pval1"
   ]
  },
  {
   "cell_type": "code",
   "execution_count": 13,
   "metadata": {},
   "outputs": [
    {
     "data": {
      "application/vnd.jupyter.widget-view+json": {
       "model_id": "3f8d10be9f8d4a7ab4456d475b10e767",
       "version_major": 2,
       "version_minor": 0
      },
      "text/plain": [
       "Canvas(toolbar=Toolbar(toolitems=[('Home', 'Reset original view', 'home', 'home'), ('Back', 'Back to previous …"
      ]
     },
     "metadata": {},
     "output_type": "display_data"
    },
    {
     "data": {
      "text/plain": [
       "(9.440654195896956, 1.8183353721940376)"
      ]
     },
     "execution_count": 13,
     "metadata": {},
     "output_type": "execute_result"
    }
   ],
   "source": [
    "fig=plt.figure(figsize=(10,9))\n",
    "ax = fig.add_subplot(111)\n",
    "ax.set_xlabel('bas_frequ (bas/mm)')\n",
    "ax.set_ylabel('density')\n",
    "# ax.set_xlim((0,2))\n",
    "# ax.set_title(f'mean = {round(np.nanmean(bas_frequ),max(2,-int(np.log10(np.nanmean(bas_frequ)))+2))}, std = {round(np.nanstd(bas_frequ),max(2,-int(np.log10(np.nanstd(bas_frequ)))+2))}')\n",
    "\n",
    "ax.hist(np.array(bas_frequ_25),30,density=True)\n",
    "np.mean(bas_frequ_25),np.std(bas_frequ_25)"
   ]
  },
  {
   "cell_type": "code",
   "execution_count": 14,
   "metadata": {},
   "outputs": [
    {
     "data": {
      "application/vnd.jupyter.widget-view+json": {
       "model_id": "e4d14a5f8d5f43a59f3175e967156399",
       "version_major": 2,
       "version_minor": 0
      },
      "text/plain": [
       "Canvas(toolbar=Toolbar(toolitems=[('Home', 'Reset original view', 'home', 'home'), ('Back', 'Back to previous …"
      ]
     },
     "metadata": {},
     "output_type": "display_data"
    },
    {
     "data": {
      "text/plain": [
       "(13.02672488187662, 2.8492445230602517)"
      ]
     },
     "execution_count": 14,
     "metadata": {},
     "output_type": "execute_result"
    }
   ],
   "source": [
    "fig=plt.figure(figsize=(10,9))\n",
    "ax = fig.add_subplot(111)\n",
    "ax.set_xlabel('bas_frequ (bas/mm)')\n",
    "ax.set_ylabel('density')\n",
    "# ax.set_xlim((0,2))\n",
    "ax.set_title(f'mean = {round(np.nanmean(bas_frequ_bait),max(2,-int(np.log10(np.nanmean(bas_frequ_bait)))+2))}, std = {round(np.nanstd(bas_frequ_bait),max(2,-int(np.log10(np.nanstd(bas_frequ_bait)))+2))}')\n",
    "\n",
    "ax.hist(np.array(bas_frequ_bait),30,density=True)\n",
    "np.mean(bas_frequ_bait),np.std(bas_frequ_bait)"
   ]
  },
  {
   "cell_type": "code",
   "execution_count": 16,
   "metadata": {},
   "outputs": [
    {
     "ename": "TypeError",
     "evalue": "estimate_bas_freq() got an unexpected keyword argument 'thresh_growth'",
     "output_type": "error",
     "traceback": [
      "\u001b[0;31m---------------------------------------------------------------------------\u001b[0m",
      "\u001b[0;31mTypeError\u001b[0m                                 Traceback (most recent call last)",
      "\u001b[0;32m<ipython-input-16-ed2592678556>\u001b[0m in \u001b[0;36m<module>\u001b[0;34m\u001b[0m\n\u001b[0;32m----> 1\u001b[0;31m \u001b[0mbas_frequ\u001b[0m \u001b[0;34m=\u001b[0m \u001b[0mestimate_bas_freq\u001b[0m\u001b[0;34m(\u001b[0m\u001b[0;34m(\u001b[0m\u001b[0;36m22\u001b[0m\u001b[0;34m,\u001b[0m\u001b[0;36m8\u001b[0m\u001b[0;34m,\u001b[0m\u001b[0;36m40\u001b[0m\u001b[0;34m)\u001b[0m\u001b[0;34m,\u001b[0m\u001b[0;36m200\u001b[0m\u001b[0;34m,\u001b[0m\u001b[0;36m32\u001b[0m\u001b[0;34m,\u001b[0m\u001b[0mthresh_growth\u001b[0m\u001b[0;34m=\u001b[0m\u001b[0;36m100\u001b[0m\u001b[0;34m,\u001b[0m\u001b[0mthresh_length\u001b[0m\u001b[0;34m=\u001b[0m\u001b[0;36m2000\u001b[0m\u001b[0;34m)\u001b[0m\u001b[0;34m\u001b[0m\u001b[0;34m\u001b[0m\u001b[0m\n\u001b[0m\u001b[1;32m      2\u001b[0m \u001b[0mfig\u001b[0m\u001b[0;34m=\u001b[0m\u001b[0mplt\u001b[0m\u001b[0;34m.\u001b[0m\u001b[0mfigure\u001b[0m\u001b[0;34m(\u001b[0m\u001b[0mfigsize\u001b[0m\u001b[0;34m=\u001b[0m\u001b[0;34m(\u001b[0m\u001b[0;36m10\u001b[0m\u001b[0;34m,\u001b[0m\u001b[0;36m9\u001b[0m\u001b[0;34m)\u001b[0m\u001b[0;34m)\u001b[0m\u001b[0;34m\u001b[0m\u001b[0;34m\u001b[0m\u001b[0m\n\u001b[1;32m      3\u001b[0m \u001b[0max\u001b[0m \u001b[0;34m=\u001b[0m \u001b[0mfig\u001b[0m\u001b[0;34m.\u001b[0m\u001b[0madd_subplot\u001b[0m\u001b[0;34m(\u001b[0m\u001b[0;36m111\u001b[0m\u001b[0;34m)\u001b[0m\u001b[0;34m\u001b[0m\u001b[0;34m\u001b[0m\u001b[0m\n\u001b[1;32m      4\u001b[0m \u001b[0max\u001b[0m\u001b[0;34m.\u001b[0m\u001b[0mset_xlabel\u001b[0m\u001b[0;34m(\u001b[0m\u001b[0;34m'bas_frequ (bas/mm)'\u001b[0m\u001b[0;34m)\u001b[0m\u001b[0;34m\u001b[0m\u001b[0;34m\u001b[0m\u001b[0m\n\u001b[1;32m      5\u001b[0m \u001b[0max\u001b[0m\u001b[0;34m.\u001b[0m\u001b[0mset_ylabel\u001b[0m\u001b[0;34m(\u001b[0m\u001b[0;34m'density'\u001b[0m\u001b[0;34m)\u001b[0m\u001b[0;34m\u001b[0m\u001b[0;34m\u001b[0m\u001b[0m\n",
      "\u001b[0;31mTypeError\u001b[0m: estimate_bas_freq() got an unexpected keyword argument 'thresh_growth'"
     ]
    }
   ],
   "source": [
    "bas_frequ = estimate_bas_freq((22,8,40),200,32,thresh_growth=100,thresh_length=2000)\n",
    "fig=plt.figure(figsize=(10,9))\n",
    "ax = fig.add_subplot(111)\n",
    "ax.set_xlabel('bas_frequ (bas/mm)')\n",
    "ax.set_ylabel('density')\n",
    "# ax.set_xlim((0,2))\n",
    "ax.hist(np.array(bas_frequ),10,density=True)\n",
    "np.mean(bas_frequ),np.std(bas_frequ)"
   ]
  },
  {
   "cell_type": "code",
   "execution_count": 7,
   "metadata": {},
   "outputs": [
    {
     "name": "stdout",
     "output_type": "stream",
     "text": [
      "begin = 2020-11-19 20:21:00 \n",
      "  end = 2020-11-25 18:06:00\n"
     ]
    },
    {
     "data": {
      "application/vnd.jupyter.widget-view+json": {
       "model_id": "896d83bda8f5494d83887af1836f4f5f",
       "version_major": 2,
       "version_minor": 0
      },
      "text/plain": [
       "Canvas(toolbar=Toolbar(toolitems=[('Home', 'Reset original view', 'home', 'home'), ('Back', 'Back to previous …"
      ]
     },
     "metadata": {},
     "output_type": "display_data"
    },
    {
     "data": {
      "text/plain": [
       "(8.867135937119885, 1.8493503388176769)"
      ]
     },
     "execution_count": 7,
     "metadata": {},
     "output_type": "execute_result"
    }
   ],
   "source": [
    "plt.close('all')\n",
    "bas_frequ = estimate_bas_freq((40,0,37),200,37,thresh_growth=100,thresh_length=2000)\n",
    "fig=plt.figure(figsize=(10,9))\n",
    "ax = fig.add_subplot(111)\n",
    "ax.set_xlabel('bas_frequ (bas/mm)')\n",
    "ax.set_ylabel('density')\n",
    "# ax.set_xlim((0,2))\n",
    "ax.hist(np.array(bas_frequ),10,density=True)\n",
    "np.mean(bas_frequ),np.std(bas_frequ)"
   ]
  },
  {
   "cell_type": "code",
   "execution_count": 5,
   "metadata": {},
   "outputs": [
    {
     "name": "stdout",
     "output_type": "stream",
     "text": [
      "begin = 2020-09-22 13:17:00 \n",
      "  end = 2020-09-24 09:18:00\n"
     ]
    },
    {
     "name": "stderr",
     "output_type": "stream",
     "text": [
      "/home/cbisot/anaconda3/envs/test/lib/python3.7/site-packages/matplotlib/__init__.py:880: MatplotlibDeprecationWarning: \n",
      "nbagg.transparent\n",
      "  version, key, obj_type=\"rcparam\", alternative=alt_key)\n"
     ]
    },
    {
     "data": {
      "application/vnd.jupyter.widget-view+json": {
       "model_id": "74f63094d64440b1ad423cb3e50b06bb",
       "version_major": 2,
       "version_minor": 0
      },
      "text/plain": [
       "Canvas(toolbar=Toolbar(toolitems=[('Home', 'Reset original view', 'home', 'home'), ('Back', 'Back to previous …"
      ]
     },
     "metadata": {},
     "output_type": "display_data"
    },
    {
     "data": {
      "text/plain": [
       "(11.208314438938416, 1.8799025437903125)"
      ]
     },
     "execution_count": 5,
     "metadata": {},
     "output_type": "execute_result"
    }
   ],
   "source": [
    "plt.close('all')\n",
    "bas_frequ = estimate_bas_freq((14,0,11),200,11,thresh_growth=100,thresh_length=2000)\n",
    "fig=plt.figure(figsize=(10,9))\n",
    "ax = fig.add_subplot(111)\n",
    "ax.set_xlabel('bas_frequ (bas/mm)')\n",
    "ax.set_ylabel('density')\n",
    "# ax.set_xlim((0,2))\n",
    "ax.hist(np.array(bas_frequ),10,density=True)\n",
    "np.mean(bas_frequ),np.std(bas_frequ)"
   ]
  },
  {
   "cell_type": "code",
   "execution_count": 22,
   "metadata": {},
   "outputs": [
    {
     "name": "stdout",
     "output_type": "stream",
     "text": [
      "begin = 2020-11-19 20:21:00 \n",
      "  end = 2020-11-25 18:06:00\n"
     ]
    },
    {
     "name": "stderr",
     "output_type": "stream",
     "text": [
      "/home/cbisot/anaconda3/envs/test/lib/python3.7/site-packages/matplotlib/__init__.py:880: MatplotlibDeprecationWarning: \n",
      "nbagg.transparent\n",
      "  version, key, obj_type=\"rcparam\", alternative=alt_key)\n"
     ]
    },
    {
     "data": {
      "application/vnd.jupyter.widget-view+json": {
       "model_id": "f7b08d27c8ca4714bc8d95e00c8fee02",
       "version_major": 2,
       "version_minor": 0
      },
      "text/plain": [
       "Canvas(toolbar=Toolbar(toolitems=[('Home', 'Reset original view', 'home', 'home'), ('Back', 'Back to previous …"
      ]
     },
     "metadata": {},
     "output_type": "display_data"
    },
    {
     "data": {
      "text/plain": [
       "(7.591662423057042, 1.7687556954421941)"
      ]
     },
     "execution_count": 22,
     "metadata": {},
     "output_type": "execute_result"
    }
   ],
   "source": [
    "plt.close('all')\n",
    "bas_frequ = estimate_bas_freq((40,0,37),200,14,thresh_growth=100,thresh_length=2000)\n",
    "fig=plt.figure(figsize=(10,9))\n",
    "ax = fig.add_subplot(111)\n",
    "ax.set_xlabel('bas_frequ (bas/mm)')\n",
    "ax.set_ylabel('density')\n",
    "# ax.set_xlim((0,2))\n",
    "ax.hist(np.array(bas_frequ),10,density=True)\n",
    "np.mean(bas_frequ),np.std(bas_frequ)"
   ]
  },
  {
   "cell_type": "code",
   "execution_count": 23,
   "metadata": {},
   "outputs": [
    {
     "name": "stdout",
     "output_type": "stream",
     "text": [
      "begin = 2020-11-19 20:21:00 \n",
      "  end = 2020-11-25 18:06:00\n"
     ]
    },
    {
     "data": {
      "application/vnd.jupyter.widget-view+json": {
       "model_id": "944ad28ca4a142f190d82f066018f549",
       "version_major": 2,
       "version_minor": 0
      },
      "text/plain": [
       "Canvas(toolbar=Toolbar(toolitems=[('Home', 'Reset original view', 'home', 'home'), ('Back', 'Back to previous …"
      ]
     },
     "metadata": {},
     "output_type": "display_data"
    },
    {
     "data": {
      "text/plain": [
       "(8.621952773924042, 1.6727404255092702)"
      ]
     },
     "execution_count": 23,
     "metadata": {},
     "output_type": "execute_result"
    }
   ],
   "source": [
    "plt.close('all')\n",
    "bas_frequ = estimate_bas_freq((40,0,37),200,25,thresh_growth=100,thresh_length=2000)\n",
    "fig=plt.figure(figsize=(10,9))\n",
    "ax = fig.add_subplot(111)\n",
    "ax.set_xlabel('bas_frequ (bas/mm)')\n",
    "ax.set_ylabel('density')\n",
    "# ax.set_xlim((0,2))\n",
    "ax.hist(np.array(bas_frequ),10,density=True)\n",
    "np.mean(bas_frequ),np.std(bas_frequ)"
   ]
  },
  {
   "cell_type": "code",
   "execution_count": 21,
   "metadata": {},
   "outputs": [
    {
     "data": {
      "text/plain": [
       "(8.881609370900788, 1.7020854242027799)"
      ]
     },
     "execution_count": 21,
     "metadata": {},
     "output_type": "execute_result"
    }
   ],
   "source": [
    "np.mean(bas_frequ),np.std(bas_frequ)"
   ]
  },
  {
   "cell_type": "code",
   "execution_count": 30,
   "metadata": {},
   "outputs": [
    {
     "data": {
      "text/plain": [
       "(8.848599190223075, 1.2962101797045344)"
      ]
     },
     "execution_count": 30,
     "metadata": {},
     "output_type": "execute_result"
    }
   ],
   "source": [
    "np.mean(bas_frequ),np.std(bas_frequ)"
   ]
  },
  {
   "cell_type": "code",
   "execution_count": 38,
   "metadata": {},
   "outputs": [
    {
     "data": {
      "text/plain": [
       "(5.860878046636485, 1.4179177234175342)"
      ]
     },
     "execution_count": 38,
     "metadata": {},
     "output_type": "execute_result"
    }
   ],
   "source": [
    "np.mean(bas_frequ),np.std(bas_frequ)"
   ]
  },
  {
   "cell_type": "code",
   "execution_count": null,
   "metadata": {},
   "outputs": [],
   "source": [
    "bas_frequ = estimate_bas_freq(exp13,200,19,thresh_growth=100,thresh_length=2000)"
   ]
  },
  {
   "cell_type": "code",
   "execution_count": null,
   "metadata": {},
   "outputs": [],
   "source": [
    "fig=plt.figure(figsize=(10,9))\n",
    "ax = fig.add_subplot(111)\n",
    "ax.set_xlabel('bas_frequ (bas/mm)')\n",
    "ax.set_ylabel('density')\n",
    "# ax.set_xlim((0,2))\n",
    "ax.hist(np.array(bas_frequ),10,density=True)"
   ]
  },
  {
   "cell_type": "code",
   "execution_count": null,
   "metadata": {},
   "outputs": [],
   "source": [
    "np.mean(bas_frequ),np.std(bas_frequ)"
   ]
  },
  {
   "cell_type": "code",
   "execution_count": null,
   "metadata": {},
   "outputs": [],
   "source": [
    "plt.close('all')\n",
    "bas_frequ = estimate_bas_freq(exp3,200,19,thresh_growth=100,thresh_length=2000)"
   ]
  },
  {
   "cell_type": "code",
   "execution_count": null,
   "metadata": {},
   "outputs": [],
   "source": [
    "fig=plt.figure(figsize=(10,9))\n",
    "ax = fig.add_subplot(111)\n",
    "ax.set_xlabel('bas_frequ (bas/mm)')\n",
    "ax.set_ylabel('density')\n",
    "# ax.set_xlim((0,2))\n",
    "ax.hist(np.array(bas_frequ),10,density=True)"
   ]
  },
  {
   "cell_type": "code",
   "execution_count": null,
   "metadata": {},
   "outputs": [],
   "source": [
    "np.mean(bas_frequ),np.std(bas_frequ)"
   ]
  },
  {
   "cell_type": "code",
   "execution_count": 6,
   "metadata": {},
   "outputs": [
    {
     "name": "stdout",
     "output_type": "stream",
     "text": [
      "begin = 2020-09-28 16:15:00 \n",
      "  end = 2020-10-05 11:00:00\n"
     ]
    }
   ],
   "source": [
    "inst = 33,0,26\n",
    "plate = inst[0]\n",
    "begin = inst[1]\n",
    "end = inst[2]\n",
    "dates_datetime = get_dates_datetime(directory,plate)\n",
    "print('begin =',dates_datetime[begin],'\\n  end =',dates_datetime[end])\n",
    "dates_datetime_chosen=dates_datetime[begin:end+1]\n",
    "dates = dates_datetime_chosen\n",
    "exp = pickle.load( open(f'{directory}/Analysis_Plate{plate}_{dates[0]}_{dates[-1]}/experiment_{plate}.pick', \"rb\" ) )"
   ]
  },
  {
   "cell_type": "code",
   "execution_count": 7,
   "metadata": {},
   "outputs": [],
   "source": [
    "select_hyph = {}\n",
    "for hyph in exp.hyphaes:\n",
    "    select_hyph[hyph] = []\n",
    "    for i,t in enumerate(hyph.ts[:-1]):\n",
    "        tp1=hyph.ts[i+1]\n",
    "        pixels,nodes = get_pixel_growth_and_new_children(hyph,t,tp1)\n",
    "        length = np.sum([get_length_um(seg) for seg in pixels])/get_time(exp,t,tp1)\n",
    "        select_hyph[hyph].append((t,hyph.ts[i+1],length,pixels,nodes))"
   ]
  },
  {
   "cell_type": "code",
   "execution_count": 8,
   "metadata": {},
   "outputs": [],
   "source": [
    "max_growths = []\n",
    "lengths = []\n",
    "branch_frequ = []\n",
    "hyph_l = []\n",
    "RH=[]\n",
    "BAS=[]\n",
    "thresh_growth = 100\n",
    "thresh_length = 2000\n",
    "hyph_info = {}\n",
    "for hyph in exp.hyphaes:\n",
    "    growths = [c[2] for c in select_hyph[hyph]]\n",
    "    ts = [c[0] for c in select_hyph[hyph]]\n",
    "    tp1s = [c[1] for c in select_hyph[hyph]]\n",
    "    if len(growths)>0:\n",
    "        length = hyph.get_length_um(hyph.ts[-1])\n",
    "        nodes = hyph.get_nodes_within(hyph.ts[-1])[0]\n",
    "        max_growth = np.max(growths)\n",
    "        total_growth = np.sum([growth * get_time(exp,ts[i],tp1s[i]) for i,growth in enumerate(growths)])\n",
    "        if max_growth>=thresh_growth  and length>=thresh_length:\n",
    "            RH.append(hyph)\n",
    "        else:\n",
    "            BAS.append(hyph)\n",
    "        lengths.append(length)\n",
    "        max_growths.append(max_growth)\n",
    "        branch_frequ.append((len(nodes)-1)/(length+1))\n",
    "        hyph_l.append(hyph)\n",
    "        hyph_info[hyph]={'max_growth':max_growth,'length_total':length,'total_growth':total_growth,'nodes':nodes}"
   ]
  },
  {
   "cell_type": "code",
   "execution_count": 9,
   "metadata": {},
   "outputs": [],
   "source": [
    "last_t = len(exp.nx_graph)-1\n",
    "node1 = Node(choice(list(exp.nx_graph[last_t].nodes)),exp)\n",
    "node2 = Node(choice(list(exp.nx_graph[last_t].nodes)),exp)"
   ]
  },
  {
   "cell_type": "code",
   "execution_count": 11,
   "metadata": {},
   "outputs": [
    {
     "data": {
      "text/plain": [
       "(Node(46657), Node(43667))"
      ]
     },
     "execution_count": 11,
     "metadata": {},
     "output_type": "execute_result"
    }
   ],
   "source": [
    "node1,node2"
   ]
  },
  {
   "cell_type": "code",
   "execution_count": 14,
   "metadata": {},
   "outputs": [
    {
     "data": {
      "text/plain": [
       "3"
      ]
     },
     "execution_count": 14,
     "metadata": {},
     "output_type": "execute_result"
    }
   ],
   "source": [
    "Node(36431,exp).degree(last_t)"
   ]
  },
  {
   "cell_type": "code",
   "execution_count": 16,
   "metadata": {},
   "outputs": [
    {
     "data": {
      "text/plain": [
       "[datetime.datetime(2020, 9, 28, 16, 15),\n",
       " datetime.datetime(2020, 9, 28, 20, 15),\n",
       " datetime.datetime(2020, 9, 29, 0, 16),\n",
       " datetime.datetime(2020, 9, 29, 4, 15),\n",
       " datetime.datetime(2020, 9, 29, 8, 15),\n",
       " datetime.datetime(2020, 9, 29, 15, 17),\n",
       " datetime.datetime(2020, 9, 29, 19, 16),\n",
       " datetime.datetime(2020, 9, 29, 23, 17),\n",
       " datetime.datetime(2020, 9, 30, 19, 17),\n",
       " datetime.datetime(2020, 9, 30, 23, 17),\n",
       " datetime.datetime(2020, 10, 1, 7, 17),\n",
       " datetime.datetime(2020, 10, 1, 11, 35),\n",
       " datetime.datetime(2020, 10, 1, 15, 34),\n",
       " datetime.datetime(2020, 10, 1, 19, 34),\n",
       " datetime.datetime(2020, 10, 1, 23, 34),\n",
       " datetime.datetime(2020, 10, 2, 3, 34),\n",
       " datetime.datetime(2020, 10, 2, 7, 34),\n",
       " datetime.datetime(2020, 10, 2, 11, 34),\n",
       " datetime.datetime(2020, 10, 2, 15, 34),\n",
       " datetime.datetime(2020, 10, 2, 19, 34),\n",
       " datetime.datetime(2020, 10, 2, 23, 34),\n",
       " datetime.datetime(2020, 10, 3, 3, 34),\n",
       " datetime.datetime(2020, 10, 3, 7, 34),\n",
       " datetime.datetime(2020, 10, 3, 11, 34),\n",
       " datetime.datetime(2020, 10, 3, 15, 34),\n",
       " datetime.datetime(2020, 10, 3, 19, 34),\n",
       " datetime.datetime(2020, 10, 5, 11, 0)]"
      ]
     },
     "execution_count": 16,
     "metadata": {},
     "output_type": "execute_result"
    }
   ],
   "source": [
    "exp.dates"
   ]
  },
  {
   "cell_type": "code",
   "execution_count": 15,
   "metadata": {},
   "outputs": [
    {
     "name": "stderr",
     "output_type": "stream",
     "text": [
      "/home/cbisot/anaconda3/envs/test/lib/python3.7/site-packages/matplotlib/__init__.py:880: MatplotlibDeprecationWarning: \n",
      "nbagg.transparent\n",
      "  version, key, obj_type=\"rcparam\", alternative=alt_key)\n"
     ]
    },
    {
     "data": {
      "application/vnd.jupyter.widget-view+json": {
       "model_id": "6cbe36066b6441ceb50d84f492f49e47",
       "version_major": 2,
       "version_minor": 0
      },
      "text/plain": [
       "Canvas(toolbar=Toolbar(toolitems=[('Home', 'Reset original view', 'home', 'home'), ('Back', 'Back to previous …"
      ]
     },
     "metadata": {},
     "output_type": "display_data"
    }
   ],
   "source": [
    "plt.close('all')\n",
    "nodes = nx.shortest_path(exp.nx_graph[-1], source = node1.label, target = node2.label)\n",
    "exp.plot([last_t],[nodes])"
   ]
  },
  {
   "cell_type": "code",
   "execution_count": 67,
   "metadata": {},
   "outputs": [
    {
     "data": {
      "text/plain": [
       "9.18428587716088"
      ]
     },
     "execution_count": 67,
     "metadata": {},
     "output_type": "execute_result"
    }
   ],
   "source": [
    "last_t = len(exp.nx_graph)-1\n",
    "bass=[]\n",
    "for node in nodes:\n",
    "    for hyph in exp.hyphaes:\n",
    "        if exp.get_node(node)==hyph.root:\n",
    "            if hyph in BAS:\n",
    "                bass.append(hyph)\n",
    "                hyph.end.show_source_image(hyph.ts[-1],hyph.ts[-1])\n",
    "len(bass)/get_length_um_node_list(nodes,exp,last_t)*10000\n"
   ]
  },
  {
   "cell_type": "code",
   "execution_count": null,
   "metadata": {},
   "outputs": [],
   "source": [
    "bas_frequ = estimate_bas_freq(exp,samples,t,thresh_growth=150,thresh_length=1000)"
   ]
  },
  {
   "cell_type": "code",
   "execution_count": null,
   "metadata": {},
   "outputs": [],
   "source": [
    "edge = choice(list(exp.nx_graph[-1].edges))"
   ]
  },
  {
   "cell_type": "code",
   "execution_count": 21,
   "metadata": {},
   "outputs": [],
   "source": [
    "for bas in BAS:\n",
    "    result = bas.get_nodes_within(bas.ts[-1])\n",
    "    break"
   ]
  },
  {
   "cell_type": "code",
   "execution_count": 33,
   "metadata": {},
   "outputs": [],
   "source": []
  },
  {
   "cell_type": "code",
   "execution_count": null,
   "metadata": {},
   "outputs": [],
   "source": [
    "edge"
   ]
  },
  {
   "cell_type": "code",
   "execution_count": 56,
   "metadata": {},
   "outputs": [],
   "source": [
    "bas_frequ=[]\n",
    "for rh in RH:\n",
    "    bass=[]\n",
    "    for node in rh.get_nodes_within(rh.ts[-1])[0][1:-1]:\n",
    "        for hyph in exp.hyphaes:\n",
    "            if exp.get_node(node)==hyph.root:\n",
    "                if hyph in BAS:\n",
    "                    bass.append(hyph)\n",
    "                    break\n",
    "    #             print(hyph)\n",
    "    #             if hyph.ts[0] in rh.ts:\n",
    "#                 print(hyph,hyph_info[hyph],hyph in BAS)\n",
    "#                 hyph.end.show_source_image(hyph.ts[-1],hyph.ts[-1])\n",
    "    bas_frequ.append(len(bass)/hyph_info[rh]['length_total'])\n",
    "            "
   ]
  },
  {
   "cell_type": "code",
   "execution_count": 57,
   "metadata": {},
   "outputs": [
    {
     "data": {
      "text/plain": [
       "[0.0009122727654370715,\n",
       " 0.00028670026287244547,\n",
       " 0.0009578442600032728,\n",
       " 0.0013020471611031223,\n",
       " 0.001326741715756687,\n",
       " 0.0003003334594429773,\n",
       " 0.0006402714171057274,\n",
       " 0.0009102818532015862,\n",
       " 0.0011218383112101356,\n",
       " 0.0007882483743865315,\n",
       " 0.0016954735999182588,\n",
       " 0.0,\n",
       " 0.000912836307092113,\n",
       " 0.000247549378106453,\n",
       " 0.00022801921308447938,\n",
       " 0.0008117649416916064,\n",
       " 0.0027472228445821175,\n",
       " 0.0,\n",
       " 0.0022354396266294685,\n",
       " 0.0005645697310763812,\n",
       " 0.0008549715308009903,\n",
       " 0.0,\n",
       " 0.0006072330900587639,\n",
       " 0.0016995668275699184,\n",
       " 0.0]"
      ]
     },
     "execution_count": 57,
     "metadata": {},
     "output_type": "execute_result"
    }
   ],
   "source": [
    "bas_frequ"
   ]
  },
  {
   "cell_type": "code",
   "execution_count": 58,
   "metadata": {},
   "outputs": [
    {
     "data": {
      "application/vnd.jupyter.widget-view+json": {
       "model_id": "f0b191a5bf8245e8bc04dfbd21f8200b",
       "version_major": 2,
       "version_minor": 0
      },
      "text/plain": [
       "Canvas(toolbar=Toolbar(toolitems=[('Home', 'Reset original view', 'home', 'home'), ('Back', 'Back to previous …"
      ]
     },
     "metadata": {},
     "output_type": "display_data"
    },
    {
     "data": {
      "text/plain": [
       "(array([0.08736095, 0.02912032, 0.07280079, 0.07280079, 0.04368048,\n",
       "        0.        , 0.02912032, 0.        , 0.01456016, 0.01456016]),\n",
       " array([ 0.        ,  2.74722284,  5.49444569,  8.24166853, 10.98889138,\n",
       "        13.73611422, 16.48333707, 19.23055991, 21.97778276, 24.7250056 ,\n",
       "        27.47222845]),\n",
       " <a list of 10 Patch objects>)"
      ]
     },
     "execution_count": 58,
     "metadata": {},
     "output_type": "execute_result"
    }
   ],
   "source": [
    "fig=plt.figure(figsize=(10,9))\n",
    "ax = fig.add_subplot(111)\n",
    "ax.set_xlabel('bas_frequ (bas/mm)')\n",
    "ax.set_ylabel('density')\n",
    "# ax.set_xlim((0,2))\n",
    "ax.hist(np.array(bas_frequ)*10000,10,density=True)"
   ]
  },
  {
   "cell_type": "code",
   "execution_count": 8,
   "metadata": {},
   "outputs": [
    {
     "data": {
      "text/plain": [
       "126"
      ]
     },
     "execution_count": 8,
     "metadata": {},
     "output_type": "execute_result"
    }
   ],
   "source": [
    "len(RH)"
   ]
  },
  {
   "cell_type": "code",
   "execution_count": 174,
   "metadata": {},
   "outputs": [
    {
     "data": {
      "text/plain": [
       "[27, 28, 29, 30, 31, 32, 33, 34, 35, 36, 37]"
      ]
     },
     "execution_count": 174,
     "metadata": {},
     "output_type": "execute_result"
    }
   ],
   "source": [
    "rh = choice(RH)\n",
    "rh.ts"
   ]
  },
  {
   "cell_type": "code",
   "execution_count": 175,
   "metadata": {
    "collapsed": true,
    "jupyter": {
     "outputs_hidden": true
    }
   },
   "outputs": [
    {
     "data": {
      "application/vnd.jupyter.widget-view+json": {
       "model_id": "01bc180f28f04281be8682be10fb6fa2",
       "version_major": 2,
       "version_minor": 0
      },
      "text/plain": [
       "Canvas(toolbar=Toolbar(toolitems=[('Home', 'Reset original view', 'home', 'home'), ('Back', 'Back to previous …"
      ]
     },
     "metadata": {},
     "output_type": "display_data"
    },
    {
     "data": {
      "text/plain": [
       "[<matplotlib.lines.Line2D at 0x2b28bc18aa10>]"
      ]
     },
     "execution_count": 175,
     "metadata": {},
     "output_type": "execute_result"
    }
   ],
   "source": [
    "plt.close('all')\n",
    "t0 = select_hyph[rh][0][0]\n",
    "times=[get_time(exp,t0,c[0]) for c in select_hyph[rh]]\n",
    "speeds = [c[2] for c in select_hyph[rh]]\n",
    "plt.close('all')\n",
    "fig=plt.figure(figsize=(8,8))\n",
    "ax = fig.add_subplot(111)\n",
    "ax.set_xlabel('time (hour)')\n",
    "ax.set_ylabel('speed (um/hour)')\n",
    "ax.plot(times,speeds)"
   ]
  },
  {
   "cell_type": "code",
   "execution_count": 176,
   "metadata": {},
   "outputs": [
    {
     "data": {
      "text/plain": [
       "[9110, 9873, 9865, 9855, 9109]"
      ]
     },
     "execution_count": 176,
     "metadata": {},
     "output_type": "execute_result"
    }
   ],
   "source": [
    "rh.get_nodes_within(rh.ts[-1])[0]"
   ]
  },
  {
   "cell_type": "code",
   "execution_count": 177,
   "metadata": {
    "collapsed": true,
    "jupyter": {
     "outputs_hidden": true
    }
   },
   "outputs": [
    {
     "data": {
      "application/vnd.jupyter.widget-view+json": {
       "model_id": "9a1f226f8b9e4337b266f7ee9c24d73c",
       "version_major": 2,
       "version_minor": 0
      },
      "text/plain": [
       "Canvas(toolbar=Toolbar(toolitems=[('Home', 'Reset original view', 'home', 'home'), ('Back', 'Back to previous …"
      ]
     },
     "metadata": {},
     "output_type": "display_data"
    }
   ],
   "source": [
    "plt.close('all')\n",
    "exp.plot(rh.ts,[rh.get_nodes_within(rh.ts[-1])[0]+[]]*len(rh.ts))"
   ]
  },
  {
   "cell_type": "code",
   "execution_count": 178,
   "metadata": {
    "collapsed": true,
    "jupyter": {
     "outputs_hidden": true
    }
   },
   "outputs": [
    {
     "name": "stdout",
     "output_type": "stream",
     "text": [
      "(Node(9862), Node(9873)) (68.55772085948638, 432.47828936436974, 148.6429469009527, [9873, 14704, 9862]) True\n"
     ]
    },
    {
     "data": {
      "application/vnd.jupyter.widget-view+json": {
       "model_id": "9fe612d8f6b2452abd04c24c0423f3c0",
       "version_major": 2,
       "version_minor": 0
      },
      "text/plain": [
       "Canvas(toolbar=Toolbar(toolitems=[('Home', 'Reset original view', 'home', 'home'), ('Back', 'Back to previous …"
      ]
     },
     "metadata": {},
     "output_type": "display_data"
    },
    {
     "name": "stdout",
     "output_type": "stream",
     "text": [
      "(Node(11846), Node(9865)) (0.0, 139.72161256677649, 0.0, [9865, 11165, 11846]) True\n"
     ]
    },
    {
     "data": {
      "application/vnd.jupyter.widget-view+json": {
       "model_id": "c17ea1d88bb94733b84126f6122ef259",
       "version_major": 2,
       "version_minor": 0
      },
      "text/plain": [
       "Canvas(toolbar=Toolbar(toolitems=[('Home', 'Reset original view', 'home', 'home'), ('Back', 'Back to previous …"
      ]
     },
     "metadata": {},
     "output_type": "display_data"
    }
   ],
   "source": [
    "plt.close('all')\n",
    "for node in rh.get_nodes_within(rh.ts[-1])[0][1:-1]:\n",
    "    for hyph in exp.hyphaes:\n",
    "        if exp.get_node(node)==hyph.root:\n",
    "#             print(hyph)\n",
    "#             if hyph.ts[0] in rh.ts:\n",
    "            print(hyph,hyph_info[hyph],hyph in BAS)\n",
    "            hyph.end.show_source_image(hyph.ts[-1],hyph.ts[-1])"
   ]
  },
  {
   "cell_type": "code",
   "execution_count": 26,
   "metadata": {},
   "outputs": [
    {
     "data": {
      "text/plain": [
       "(7.646535511603008, 5.143899884825599)"
      ]
     },
     "execution_count": 26,
     "metadata": {},
     "output_type": "execute_result"
    }
   ],
   "source": [
    "np.mean(bas_frequ)*10000,np.std(bas_frequ)*10000"
   ]
  },
  {
   "cell_type": "code",
   "execution_count": 25,
   "metadata": {},
   "outputs": [
    {
     "data": {
      "text/plain": [
       "(8.98550841574617, 4.786839847744506)"
      ]
     },
     "execution_count": 25,
     "metadata": {},
     "output_type": "execute_result"
    }
   ],
   "source": [
    "np.mean(bas_frequ)*10000,np.std(bas_frequ)*10000"
   ]
  },
  {
   "cell_type": "code",
   "execution_count": 9,
   "metadata": {},
   "outputs": [
    {
     "data": {
      "text/plain": [
       "(4.84338132339359, 3.625468207834553)"
      ]
     },
     "execution_count": 9,
     "metadata": {},
     "output_type": "execute_result"
    }
   ],
   "source": [
    "np.mean(bas_frequ)*10000,np.std(bas_frequ)*10000"
   ]
  },
  {
   "cell_type": "code",
   "execution_count": 2,
   "metadata": {},
   "outputs": [
    {
     "data": {
      "text/plain": [
       "105984.0"
      ]
     },
     "execution_count": 2,
     "metadata": {},
     "output_type": "execute_result"
    }
   ],
   "source": [
    "15*4096*1.725"
   ]
  },
  {
   "cell_type": "code",
   "execution_count": 92,
   "metadata": {},
   "outputs": [
    {
     "data": {
      "application/vnd.jupyter.widget-view+json": {
       "model_id": "77a30174a660453d9ba1b015664ba515",
       "version_major": 2,
       "version_minor": 0
      },
      "text/plain": [
       "Canvas(toolbar=Toolbar(toolitems=[('Home', 'Reset original view', 'home', 'home'), ('Back', 'Back to previous …"
      ]
     },
     "metadata": {},
     "output_type": "display_data"
    }
   ],
   "source": [
    "plt.close('all')\n",
    "exp.plot(rh.ts,[[rh.end.label,rh.root.label]]*len(rh.ts))"
   ]
  },
  {
   "cell_type": "code",
   "execution_count": 160,
   "metadata": {},
   "outputs": [
    {
     "data": {
      "text/plain": [
       "[16, 17, 18, 19, 20, 21, 22, 23, 24, 25, 26, 27, 28]"
      ]
     },
     "execution_count": 160,
     "metadata": {},
     "output_type": "execute_result"
    }
   ],
   "source": [
    "rh.end.ts()"
   ]
  },
  {
   "cell_type": "code",
   "execution_count": 159,
   "metadata": {},
   "outputs": [
    {
     "data": {
      "application/vnd.jupyter.widget-view+json": {
       "model_id": "6e9f6488a02642af970f74f8b0cd59f5",
       "version_major": 2,
       "version_minor": 0
      },
      "text/plain": [
       "Canvas(toolbar=Toolbar(toolitems=[('Home', 'Reset original view', 'home', 'home'), ('Back', 'Back to previous …"
      ]
     },
     "metadata": {},
     "output_type": "display_data"
    }
   ],
   "source": [
    "rh.end.show_source_image(rh.ts[-1],rh.ts[-1]+1)"
   ]
  },
  {
   "cell_type": "code",
   "execution_count": 40,
   "metadata": {},
   "outputs": [
    {
     "data": {
      "text/plain": [
       "9823"
      ]
     },
     "execution_count": 40,
     "metadata": {},
     "output_type": "execute_result"
    }
   ],
   "source": [
    "edge"
   ]
  },
  {
   "cell_type": "code",
   "execution_count": 45,
   "metadata": {},
   "outputs": [],
   "source": [
    "edge = choice(list(exp.nx_graph[-1].edges))\n",
    "edge_obj =Edge(Node(edge[0],exp),Node(edge[1],exp),exp)"
   ]
  },
  {
   "cell_type": "code",
   "execution_count": 49,
   "metadata": {},
   "outputs": [
    {
     "data": {
      "text/plain": [
       "998"
      ]
     },
     "execution_count": 49,
     "metadata": {},
     "output_type": "execute_result"
    }
   ],
   "source": [
    "edge[0]"
   ]
  }
 ],
 "metadata": {
  "kernelspec": {
   "display_name": "Python 3",
   "language": "python",
   "name": "python3"
  },
  "language_info": {
   "codemirror_mode": {
    "name": "ipython",
    "version": 3
   },
   "file_extension": ".py",
   "mimetype": "text/x-python",
   "name": "python",
   "nbconvert_exporter": "python",
   "pygments_lexer": "ipython3",
   "version": "3.7.7"
  }
 },
 "nbformat": 4,
 "nbformat_minor": 4
}

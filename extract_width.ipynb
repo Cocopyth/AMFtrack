{
 "cells": [
  {
   "cell_type": "code",
   "execution_count": null,
   "metadata": {},
   "outputs": [],
   "source": [
    "%matplotlib widget\n",
    "from util import get_path\n",
    "import pandas as pd\n",
    "import networkx as nx\n",
    "import numpy as np\n",
    "import matplotlib.pyplot as plt\n",
    "from extract_graph import generate_nx_graph, transform_list, generate_skeleton, generate_nx_graph_from_skeleton, from_connection_tab\n",
    "from node_id import reconnect_degree_2\n",
    "import ast\n",
    "from plotutil import plot_t_tp1, compress_skeleton\n",
    "from scipy import sparse\n",
    "from sparse_util import dilate, zhangSuen\n",
    "from realign import realign\n",
    "from datetime import datetime,timedelta\n",
    "from node_id import orient\n",
    "import pickle\n",
    "from matplotlib.widgets import CheckButtons\n",
    "import scipy.io as sio\n",
    "import imageio\n",
    "from pymatreader import read_mat\n",
    "import os\n",
    "from matplotlib import colors\n",
    "from random import choice\n",
    "from experiment_class_surf import Experiment,clean_exp_with_hyphaes\n",
    "from hyphae_id import clean_and_relabel, get_mother, save_hyphaes, resolve_ambiguity_two_ends, solve_degree4, clean_obvious_fake_tips\n",
    "from extract_graph import prune_graph\n",
    "from skimage.measure import profile_line\n",
    "import math\n",
    "from Analysis.util import *\n",
    "from directory import directory, path_code\n",
    "from Analysis.data_info import *\n",
    "from extract_width import *"
   ]
  },
  {
   "cell_type": "code",
   "execution_count": null,
   "metadata": {},
   "outputs": [],
   "source": [
    "directory = \"/projects/0/einf914/data/\""
   ]
  },
  {
   "cell_type": "code",
   "execution_count": null,
   "metadata": {},
   "outputs": [],
   "source": [
    "exp = get_exp((40,0,37),directory)\n",
    "# exp_copy = Experiment(40,directory)"
   ]
  },
  {
   "cell_type": "code",
   "execution_count": 41,
   "metadata": {
    "collapsed": true,
    "jupyter": {
     "outputs_hidden": true
    }
   },
   "outputs": [
    {
     "name": "stdout",
     "output_type": "stream",
     "text": [
      "149\n",
      "(14, 20)\n",
      "34.060956030904535\n",
      "(21, 20)\n",
      "20.412199102785838\n",
      "(20, 19)\n",
      "23.92461937487765\n",
      "(20, 67)\n",
      "34.485723746252184\n",
      "(6, 15)\n",
      "35.02825022321903\n",
      "(15, 16)\n",
      "0.0\n",
      "(15, 25)\n",
      "35.09983307251886\n",
      "(147, 129)\n",
      "12.255486697543368\n",
      "(129, 125)\n",
      "20.39304202002261\n",
      "(129, 130)\n",
      "44.47933884297521\n",
      "(25, 24)\n",
      "0.0\n",
      "(25, 32)\n",
      "37.40697138588558\n",
      "(10, 8)\n",
      "23.795302378371893\n",
      "(8, 7)\n",
      "23.81865618129266\n",
      "(8, 9)\n",
      "27.33861612625362\n",
      "(9, 4)\n",
      "31.42348013319164\n",
      "(9, 33)\n",
      "36.280194262986534\n",
      "(126, 125)\n",
      "0.0\n",
      "(128, 125)\n",
      "42.45630957433768\n",
      "(125, 122)\n",
      "44.45771168426942\n",
      "(120, 122)\n",
      "42.68964016747695\n",
      "(122, 107)\n",
      "35.64104370769046\n",
      "(122, 119)\n",
      "30.67554932201258\n",
      "(4, 3)\n",
      "30.55476323743468\n",
      "(4, 5)\n",
      "0.0\n",
      "(148, 144)\n",
      "45.929034613434204\n",
      "(144, 145)\n",
      "31.470693410223923\n",
      "(144, 141)\n",
      "47.74492100120772\n",
      "(107, 84)\n",
      "39.46216028488071\n",
      "(107, 111)\n",
      "23.934607387854456\n",
      "(119, 111)\n",
      "30.670085737803262\n",
      "(119, 113)\n",
      "34.86472164808603\n",
      "(84, 71)\n",
      "36.51026019535725\n",
      "(84, 80)\n",
      "30.649328994747783\n",
      "(111, 108)\n",
      "23.905464018887734\n",
      "(71, 67)\n",
      "37.338236265199534\n",
      "(71, 68)\n",
      "29.02198832469729\n",
      "(67, 68)\n",
      "44.301234954604716\n",
      "(67, 61)\n",
      "33.95327345463774\n",
      "(68, 80)\n",
      "30.100172976481687\n",
      "(145, 149)\n",
      "21.683913562950394\n",
      "(145, 140)\n",
      "33.06179136928512\n",
      "(141, 113)\n",
      "41.916405769923465\n",
      "(141, 140)\n",
      "39.272834196027645\n",
      "(108, 98)\n",
      "21.27291524081587\n",
      "(108, 106)\n",
      "27.281462162430024\n",
      "(57, 58)\n",
      "18.716999358494697\n",
      "(57, 61)\n",
      "40.06793738127506\n",
      "(57, 32)\n",
      "36.98615200478417\n",
      "(61, 62)\n",
      "0.0\n",
      "(61, 63)\n",
      "62.98465550859921\n",
      "(113, 106)\n",
      "39.058450986065296\n",
      "(113, 112)\n",
      "22.150617477302358\n",
      "(99, 100)\n",
      "25.579946391831797\n",
      "(100, 105)\n",
      "45.93597977820727\n",
      "(100, 96)\n",
      "39.047618717678084\n",
      "(32, 29)\n",
      "206.5682698404925\n",
      "(32, 37)\n",
      "46.04390350529724\n",
      "(106, 105)\n",
      "37.481841884763085\n",
      "(106, 112)\n",
      "25.494966833969883\n",
      "(105, 112)\n",
      "25.47378574460261\n",
      "(96, 90)\n",
      "31.690692503682858\n",
      "(96, 80)\n",
      "38.19048282410677\n",
      "(38, 37)\n",
      "0.0\n",
      "(37, 36)\n",
      "42.615363413537914\n",
      "(37, 39)\n",
      "37.62721479711766\n",
      "(90, 85)\n",
      "34.105118809323635\n",
      "(90, 97)\n",
      "32.637765293668764\n",
      "(112, 114)\n",
      "56.08892703473375\n",
      "(66, 65)\n",
      "8.549559939282581\n",
      "(66, 43)\n",
      "38.98636850112846\n",
      "(66, 80)\n",
      "36.62259155494576\n",
      "(80, 78)\n",
      "33.993289111959854\n",
      "(78, 75)\n",
      "20.5153777610181\n",
      "(78, 77)\n",
      "23.78459620063027\n",
      "(114, 116)\n",
      "30.666961542078884\n",
      "(114, 127)\n",
      "25.56544372539313\n",
      "(41, 39)\n",
      "3.416018355977284\n",
      "(39, 40)\n",
      "54.51904274147358\n",
      "(39, 42)\n",
      "35.702832602778166\n",
      "(116, 124)\n",
      "27.182395657863164\n",
      "(116, 115)\n",
      "33.976817784111994\n",
      "(127, 135)\n",
      "30.678532470471755\n",
      "(127, 124)\n",
      "30.593960200763863\n",
      "(43, 42)\n",
      "32.42503288744983\n",
      "(43, 34)\n",
      "35.69295356755784\n",
      "(42, 44)\n",
      "25.54864279717038\n",
      "(33, 34)\n",
      "39.09092978121614\n",
      "(33, 13)\n",
      "40.318669421597804\n",
      "(135, 140)\n",
      "33.28876211568696\n",
      "(135, 124)\n",
      "28.350733343467283\n",
      "(77, 76)\n",
      "44.34631969264287\n",
      "(77, 72)\n",
      "30.637289802258916\n",
      "(140, 134)\n",
      "44.85324033369913\n",
      "(115, 110)\n",
      "8.553719008264464\n",
      "(115, 118)\n",
      "56.317162383465494\n",
      "(134, 131)\n",
      "11.8988861753861\n",
      "(134, 123)\n",
      "44.29548271431134\n",
      "(34, 35)\n",
      "0.0\n",
      "(1, 2)\n",
      "33.23103045981169\n",
      "(2, 0)\n",
      "37.796672278236436\n",
      "(2, 13)\n",
      "41.70665599037967\n",
      "(85, 86)\n",
      "15.298567939782128\n",
      "(85, 82)\n",
      "51.27417680524504\n",
      "(97, 86)\n",
      "35.42228288860663\n",
      "(97, 123)\n",
      "35.23824619058519\n",
      "(13, 11)\n",
      "39.05994723832635\n",
      "(123, 88)\n",
      "44.90551555204167\n",
      "(86, 82)\n",
      "119.17269454777352\n",
      "(82, 56)\n",
      "34.58706637358498\n",
      "(82, 60)\n",
      "40.97126320674248\n",
      "(56, 55)\n",
      "15.377971571017662\n",
      "(56, 48)\n",
      "34.33401772930169\n",
      "(60, 59)\n",
      "46.00527336201717\n",
      "(60, 64)\n",
      "41.27919249832316\n",
      "(88, 87)\n",
      "44.40823862770469\n",
      "(88, 103)\n",
      "42.525334346884414\n",
      "(59, 49)\n",
      "37.744879441565445\n",
      "(59, 54)\n",
      "44.69383310450259\n",
      "(64, 87)\n",
      "44.63773885033292\n",
      "(64, 54)\n",
      "43.84518699594544\n",
      "(87, 74)\n",
      "46.25787676940259\n",
      "(54, 53)\n",
      "54.47321557500472\n",
      "(74, 73)\n",
      "47.882527496476804\n",
      "(74, 79)\n",
      "37.590597173598724\n",
      "(53, 50)\n",
      "39.251355600597165\n",
      "(53, 51)\n",
      "41.383878126868126\n",
      "(50, 31)\n",
      "43.833813573822695\n",
      "(50, 51)\n",
      "28.86128340002293\n",
      "(30, 31)\n",
      "42.76859504132232\n",
      "(31, 27)\n",
      "44.14078637650566\n",
      "(51, 45)\n",
      "66.31213928173075\n",
      "(45, 28)\n",
      "41.50189019279909\n",
      "(45, 26)\n",
      "44.99227067574017\n",
      "(146, 136)\n",
      "26.658224736481486\n",
      "(73, 79)\n",
      "17.92665726548193\n",
      "(73, 52)\n",
      "46.21657443127315\n",
      "(79, 89)\n",
      "42.615239519548034\n",
      "(136, 138)\n",
      "25.454354262756084\n",
      "(136, 103)\n",
      "32.38575151727602\n",
      "(89, 91)\n",
      "15.333480771039442\n",
      "(89, 92)\n",
      "28.849452499446027\n",
      "(138, 137)\n",
      "45.852814340284695\n",
      "(138, 139)\n",
      "0.0\n",
      "(103, 104)\n",
      "35.8381942440235\n",
      "(95, 92)\n",
      "0.0\n",
      "(92, 94)\n",
      "20.39597346717591\n",
      "(104, 101)\n",
      "0.0\n",
      "(104, 117)\n",
      "40.897466825199174\n"
     ]
    }
   ],
   "source": [
    "t = 0\n",
    "edge_test = get_width_info(exp,t)"
   ]
  },
  {
   "cell_type": "code",
   "execution_count": 3,
   "metadata": {},
   "outputs": [],
   "source": [
    "# exp_copy.copy(exp)\n",
    "# labels = {node for g in exp_copy.nx_graph for node in g}\n",
    "# exp_copy.nodes=[]\n",
    "# for label in labels:\n",
    "#     exp_copy.nodes.append(Node(label,exp_copy))"
   ]
  },
  {
   "cell_type": "code",
   "execution_count": 61,
   "metadata": {
    "collapsed": true,
    "jupyter": {
     "outputs_hidden": true
    }
   },
   "outputs": [
    {
     "data": {
      "application/vnd.jupyter.widget-view+json": {
       "model_id": "8ef03d655d7542e48edee446c4c7a1a2",
       "version_major": 2,
       "version_minor": 0
      },
      "text/plain": [
       "Canvas(toolbar=Toolbar(toolitems=[('Home', 'Reset original view', 'home', 'home'), ('Back', 'Back to previous …"
      ]
     },
     "metadata": {},
     "output_type": "display_data"
    },
    {
     "data": {
      "application/vnd.jupyter.widget-view+json": {
       "model_id": "1c3ee95356af4f12bb3ae7c3953c56be",
       "version_major": 2,
       "version_minor": 0
      },
      "text/plain": [
       "Canvas(toolbar=Toolbar(toolitems=[('Home', 'Reset original view', 'home', 'home'), ('Back', 'Back to previous …"
      ]
     },
     "metadata": {},
     "output_type": "display_data"
    }
   ],
   "source": [
    "plt.close('all')\n",
    "edge_exp.end.show_source_image(10,10)\n",
    "edge_exp.begin.show_source_image(10,10)"
   ]
  },
  {
   "cell_type": "code",
   "execution_count": 4,
   "metadata": {},
   "outputs": [],
   "source": [
    "edge = choice(list(exp.nx_graph[10].edges))\n",
    "edge_exp = Edge(Node(edge[0],exp),Node(edge[1],exp),exp)\n",
    "# edge_exp = Edge(Node(366,exp),Node(188,exp),exp)"
   ]
  },
  {
   "cell_type": "code",
   "execution_count": null,
   "metadata": {},
   "outputs": [],
   "source": [
    "plt.close('all')\n",
    "\n",
    "get_width_edge(edge_exp,50,10,False,threshold_averaging  = 5)"
   ]
  },
  {
   "cell_type": "code",
   "execution_count": 4,
   "metadata": {},
   "outputs": [],
   "source": [
    "def get_source_image(experiment,pos,t,local,force_selection = None):\n",
    "    x,y=pos[0],pos[1]\n",
    "    ims,posimg=experiment.find_image_pos(x,y,t,local)\n",
    "    if force_selection is None:\n",
    "        dist_border=[min([posimg[1][i],3000-posimg[1][i],posimg[0][i],4096-posimg[0][i]]) for i in range(posimg[0].shape[0])]\n",
    "        j=np.argmax(dist_border)\n",
    "    else:\n",
    "        dist_last=[np.linalg.norm(np.array((posimg[1][i],posimg[0][i])) - np.array(force_selection)) for i in range(posimg[0].shape[0])]\n",
    "        j=np.argmin(dist_last)\n",
    "    return(ims[j],(posimg[1][j],posimg[0][j]))"
   ]
  },
  {
   "cell_type": "code",
   "execution_count": 76,
   "metadata": {},
   "outputs": [],
   "source": [
    "def get_width_pixel(edge,index,im,pivot,before,after,t,size = 20,width_factor = 60,averaging_size = 100,threshold_averaging = 10):\n",
    "    imtab=im\n",
    "#     print(imtab.shape)\n",
    "#     print(int(max(0,pivot[0]-averaging_size)),int(pivot[0]+averaging_size))\n",
    "    threshold = np.mean(imtab[int(max(0,pivot[0]-averaging_size)):int(pivot[0]+averaging_size),int(max(0,pivot[1]-averaging_size)):int(pivot[1]+averaging_size)]-threshold_averaging)\n",
    "    orientation=np.array(before)-np.array(after)\n",
    "    perpendicular = [1,-orientation[0]/orientation[1]] if orientation[1]!=0 else [0,1]\n",
    "    perpendicular_norm=np.array(perpendicular)/np.sqrt(perpendicular[0]**2+perpendicular[1]**2)\n",
    "    point1=np.around(np.array(pivot)+width_factor*perpendicular_norm)\n",
    "    point2=np.around(np.array(pivot)-width_factor*perpendicular_norm)\n",
    "    point1=point1.astype(int)\n",
    "    point2=point2.astype(int)\n",
    "#     p = profile_line(imtab, point1, point2,mode='constant')\n",
    "#     fig = plt.figure()\n",
    "#     ax = fig.add_subplot(111)\n",
    "#     ax.plot(p)\n",
    "#     derivative = [p[i+1]-p[i] for i in range(len(p)-1)]\n",
    "#     fig = plt.figure()\n",
    "#     ax = fig.add_subplot(111)\n",
    "#     ax.plot([np.mean(derivative[5*i:5*i+5]) for i in range(len(derivative)//5)])\n",
    "    problem=False\n",
    "    arg = len(p)//2\n",
    "    if p[arg]>threshold:\n",
    "        arg = np.argmin(p)\n",
    "#     we_plot=randrange(1000)\n",
    "    while  p[arg]<=threshold:\n",
    "        if arg<=0:\n",
    "#             we_plot=50\n",
    "            problem=True\n",
    "            break\n",
    "        arg-=1\n",
    "    begin = arg\n",
    "    arg = len(p)//2\n",
    "    if p[arg]>threshold:\n",
    "        arg = np.argmin(p)\n",
    "    while  p[arg]<=threshold:\n",
    "        if arg>=len(p)-1:\n",
    "#             we_plot=50\n",
    "            problem=True\n",
    "            break\n",
    "        arg+=1\n",
    "    end = arg\n",
    "#     print(end-begin,len(p))\n",
    "    return(np.linalg.norm(point1-point2)*(end-begin)/len(p))"
   ]
  },
  {
   "cell_type": "code",
   "execution_count": 79,
   "metadata": {},
   "outputs": [],
   "source": [
    "def get_width_edge(edge,resolution,t,local=False, threshold_averaging = 10):\n",
    "    pixel_conversion_factor = 1.725\n",
    "    pixel_list = edge.pixel_list(t)\n",
    "    pixels = []\n",
    "    indexes = []\n",
    "    source_images = []\n",
    "    poss = []\n",
    "    widths={}\n",
    "    if len(pixel_list)>3*resolution:\n",
    "        for i in range(0,len(pixel_list)//resolution):\n",
    "            index = i*resolution\n",
    "            indexes.append(index)\n",
    "            pixel = pixel_list[index]\n",
    "            pixels.append(pixel)\n",
    "            source_img,pos = get_source_image(edge.experiment,pixel,t,local)\n",
    "            source_images.append(source_img)\n",
    "            poss.append(pos)\n",
    "    else:\n",
    "        indexes = [0,len(pixel_list)//2,len(pixel_list)-1]\n",
    "        for index in indexes:\n",
    "            pixel = pixel_list[index]\n",
    "            pixels.append(pixel)\n",
    "            source_img,pos = get_source_image(edge.experiment,pixel,t,local)\n",
    "            source_images.append(source_img)\n",
    "            poss.append(pos)\n",
    "#     print(indexes)\n",
    "    for i, index in enumerate(indexes[1:-1]):\n",
    "        source_img = source_images[i+1]\n",
    "        pivot = poss[i+1]\n",
    "        _,before = get_source_image(edge.experiment,pixels[i],t,local,pivot)\n",
    "        _,after = get_source_image(edge.experiment,pixels[i+2],t,local,pivot)\n",
    "        plot_t_tp1([0,1,2],[],{0 : pivot,1 : before, 2 : after},None,source_img,source_img)\n",
    "        width = get_width_pixel(edge,index,source_img,pivot,before,after,t,threshold_averaging = threshold_averaging)\n",
    "#         print(width*pixel_conversion_factor)\n",
    "        widths[pixel_list[index]]=width*pixel_conversion_factor\n",
    "    edge.experiment.nx_graph[t].get_edge_data(edge.begin.label,edge.end.label)['width'] = widths\n",
    "    return(widths)      "
   ]
  },
  {
   "cell_type": "code",
   "execution_count": 39,
   "metadata": {},
   "outputs": [],
   "source": [
    "def get_width_info(experiment,t,resolution = 50):\n",
    "    edge_width={}\n",
    "    graph = experiment.nx_graph[t]\n",
    "#     print(len(list(graph.edges)))\n",
    "    for edge in graph.edges:\n",
    "#         print(edge)\n",
    "        edge_exp = Edge(Node(edge[0],experiment),Node(edge[1],experiment),experiment)\n",
    "        mean = np.mean(list(get_width_edge(edge_exp,resolution,t).values()))\n",
    "        print(np.mean(list(get_width_edge(edge_exp,resolution,t).values())))\n",
    "        edge_width[edge]=mean\n",
    "    return(edge_width)"
   ]
  },
  {
   "cell_type": "code",
   "execution_count": null,
   "metadata": {},
   "outputs": [],
   "source": []
  },
  {
   "cell_type": "code",
   "execution_count": 55,
   "metadata": {},
   "outputs": [
    {
     "data": {
      "text/plain": [
       "206.5682698404925"
      ]
     },
     "execution_count": 55,
     "metadata": {},
     "output_type": "execute_result"
    }
   ],
   "source": [
    "max_width = np.max(list(edge_test.values()))\n",
    "max_width"
   ]
  },
  {
   "cell_type": "code",
   "execution_count": 58,
   "metadata": {
    "collapsed": true,
    "jupyter": {
     "outputs_hidden": true
    }
   },
   "outputs": [
    {
     "data": {
      "text/plain": [
       "array([[3.62553e-01, 3.24300e-03, 6.49245e-01, 1.00000e+00],\n",
       "       [2.54627e-01, 1.38820e-02, 6.15419e-01, 1.00000e+00],\n",
       "       [2.80648e-01, 1.14880e-02, 6.25038e-01, 1.00000e+00],\n",
       "       [3.62553e-01, 3.24300e-03, 6.49245e-01, 1.00000e+00],\n",
       "       [3.68733e-01, 2.72400e-03, 6.50601e-01, 1.00000e+00],\n",
       "       [5.03830e-02, 2.98030e-02, 5.27975e-01, 1.00000e+00],\n",
       "       [3.68733e-01, 2.72400e-03, 6.50601e-01, 1.00000e+00],\n",
       "       [1.86213e-01, 1.88030e-02, 5.87228e-01, 1.00000e+00],\n",
       "       [2.54627e-01, 1.38820e-02, 6.15419e-01, 1.00000e+00],\n",
       "       [4.41732e-01, 1.54000e-03, 6.60069e-01, 1.00000e+00],\n",
       "       [5.03830e-02, 2.98030e-02, 5.27975e-01, 1.00000e+00],\n",
       "       [3.87183e-01, 1.43400e-03, 6.54177e-01, 1.00000e+00],\n",
       "       [2.80648e-01, 1.14880e-02, 6.25038e-01, 1.00000e+00],\n",
       "       [2.80648e-01, 1.14880e-02, 6.25038e-01, 1.00000e+00],\n",
       "       [3.06210e-01, 8.90200e-03, 6.33694e-01, 1.00000e+00],\n",
       "       [3.37683e-01, 5.61800e-03, 6.43049e-01, 1.00000e+00],\n",
       "       [3.74897e-01, 2.24500e-03, 6.51876e-01, 1.00000e+00],\n",
       "       [5.03830e-02, 2.98030e-02, 5.27975e-01, 1.00000e+00],\n",
       "       [4.23689e-01, 6.46000e-04, 6.58956e-01, 1.00000e+00],\n",
       "       [4.41732e-01, 1.54000e-03, 6.60069e-01, 1.00000e+00],\n",
       "       [4.23689e-01, 6.46000e-04, 6.58956e-01, 1.00000e+00],\n",
       "       [3.74897e-01, 2.24500e-03, 6.51876e-01, 1.00000e+00],\n",
       "       [3.37683e-01, 5.61800e-03, 6.43049e-01, 1.00000e+00],\n",
       "       [3.31426e-01, 6.26100e-03, 6.41316e-01, 1.00000e+00],\n",
       "       [5.03830e-02, 2.98030e-02, 5.27975e-01, 1.00000e+00],\n",
       "       [4.47714e-01, 2.08000e-03, 6.60240e-01, 1.00000e+00],\n",
       "       [3.43925e-01, 4.99100e-03, 6.44710e-01, 1.00000e+00],\n",
       "       [4.65550e-01, 4.54500e-03, 6.60139e-01, 1.00000e+00],\n",
       "       [3.99411e-01, 8.59000e-04, 6.56133e-01, 1.00000e+00],\n",
       "       [2.80648e-01, 1.14880e-02, 6.25038e-01, 1.00000e+00],\n",
       "       [3.37683e-01, 5.61800e-03, 6.43049e-01, 1.00000e+00],\n",
       "       [3.68733e-01, 2.72400e-03, 6.50601e-01, 1.00000e+00],\n",
       "       [3.81047e-01, 1.81400e-03, 6.53068e-01, 1.00000e+00],\n",
       "       [3.31426e-01, 6.26100e-03, 6.41316e-01, 1.00000e+00],\n",
       "       [2.80648e-01, 1.14880e-02, 6.25038e-01, 1.00000e+00],\n",
       "       [3.87183e-01, 1.43400e-03, 6.54177e-01, 1.00000e+00],\n",
       "       [3.18856e-01, 7.57600e-03, 6.37640e-01, 1.00000e+00],\n",
       "       [4.35734e-01, 1.12700e-03, 6.59797e-01, 1.00000e+00],\n",
       "       [3.62553e-01, 3.24300e-03, 6.49245e-01, 1.00000e+00],\n",
       "       [3.31426e-01, 6.26100e-03, 6.41316e-01, 1.00000e+00],\n",
       "       [2.61183e-01, 1.33080e-02, 6.17911e-01, 1.00000e+00],\n",
       "       [3.50150e-01, 4.38200e-03, 6.46298e-01, 1.00000e+00],\n",
       "       [4.17642e-01, 5.64000e-04, 6.58390e-01, 1.00000e+00],\n",
       "       [3.99411e-01, 8.59000e-04, 6.56133e-01, 1.00000e+00],\n",
       "       [2.61183e-01, 1.33080e-02, 6.17911e-01, 1.00000e+00],\n",
       "       [3.06210e-01, 8.90200e-03, 6.33694e-01, 1.00000e+00],\n",
       "       [2.41396e-01, 1.49790e-02, 6.10259e-01, 1.00000e+00],\n",
       "       [4.05503e-01, 6.78000e-04, 6.56977e-01, 1.00000e+00],\n",
       "       [3.81047e-01, 1.81400e-03, 6.53068e-01, 1.00000e+00],\n",
       "       [5.03830e-02, 2.98030e-02, 5.27975e-01, 1.00000e+00],\n",
       "       [5.73632e-01, 6.00280e-02, 6.37349e-01, 1.00000e+00],\n",
       "       [3.99411e-01, 8.59000e-04, 6.56133e-01, 1.00000e+00],\n",
       "       [2.67703e-01, 1.27160e-02, 6.20346e-01, 1.00000e+00],\n",
       "       [2.93478e-01, 1.02130e-02, 6.29490e-01, 1.00000e+00],\n",
       "       [4.47714e-01, 2.08000e-03, 6.60240e-01, 1.00000e+00],\n",
       "       [3.99411e-01, 8.59000e-04, 6.56133e-01, 1.00000e+00],\n",
       "       [9.40015e-01, 9.75158e-01, 1.31326e-01, 1.00000e+00],\n",
       "       [4.53677e-01, 2.75500e-03, 6.60310e-01, 1.00000e+00],\n",
       "       [3.87183e-01, 1.43400e-03, 6.54177e-01, 1.00000e+00],\n",
       "       [2.93478e-01, 1.02130e-02, 6.29490e-01, 1.00000e+00],\n",
       "       [2.93478e-01, 1.02130e-02, 6.29490e-01, 1.00000e+00],\n",
       "       [3.43925e-01, 4.99100e-03, 6.44710e-01, 1.00000e+00],\n",
       "       [3.93304e-01, 1.11400e-03, 6.55199e-01, 1.00000e+00],\n",
       "       [5.03830e-02, 2.98030e-02, 5.27975e-01, 1.00000e+00],\n",
       "       [4.23689e-01, 6.46000e-04, 6.58956e-01, 1.00000e+00],\n",
       "       [3.87183e-01, 1.43400e-03, 6.54177e-01, 1.00000e+00],\n",
       "       [3.62553e-01, 3.24300e-03, 6.49245e-01, 1.00000e+00],\n",
       "       [3.50150e-01, 4.38200e-03, 6.46298e-01, 1.00000e+00],\n",
       "       [5.23633e-01, 2.45320e-02, 6.52901e-01, 1.00000e+00],\n",
       "       [1.48607e-01, 2.11540e-02, 5.70562e-01, 1.00000e+00],\n",
       "       [3.99411e-01, 8.59000e-04, 6.56133e-01, 1.00000e+00],\n",
       "       [3.81047e-01, 1.81400e-03, 6.53068e-01, 1.00000e+00],\n",
       "       [3.62553e-01, 3.24300e-03, 6.49245e-01, 1.00000e+00],\n",
       "       [2.54627e-01, 1.38820e-02, 6.15419e-01, 1.00000e+00],\n",
       "       [2.80648e-01, 1.14880e-02, 6.25038e-01, 1.00000e+00],\n",
       "       [3.37683e-01, 5.61800e-03, 6.43049e-01, 1.00000e+00],\n",
       "       [2.93478e-01, 1.02130e-02, 6.29490e-01, 1.00000e+00],\n",
       "       [9.63790e-02, 2.51650e-02, 5.47103e-01, 1.00000e+00],\n",
       "       [5.12206e-01, 1.88330e-02, 6.55209e-01, 1.00000e+00],\n",
       "       [3.74897e-01, 2.24500e-03, 6.51876e-01, 1.00000e+00],\n",
       "       [3.06210e-01, 8.90200e-03, 6.33694e-01, 1.00000e+00],\n",
       "       [3.62553e-01, 3.24300e-03, 6.49245e-01, 1.00000e+00],\n",
       "       [3.37683e-01, 5.61800e-03, 6.43049e-01, 1.00000e+00],\n",
       "       [3.31426e-01, 6.26100e-03, 6.41316e-01, 1.00000e+00],\n",
       "       [3.50150e-01, 4.38200e-03, 6.46298e-01, 1.00000e+00],\n",
       "       [3.74897e-01, 2.24500e-03, 6.51876e-01, 1.00000e+00],\n",
       "       [2.93478e-01, 1.02130e-02, 6.29490e-01, 1.00000e+00],\n",
       "       [3.99411e-01, 8.59000e-04, 6.56133e-01, 1.00000e+00],\n",
       "       [4.05503e-01, 6.78000e-04, 6.56977e-01, 1.00000e+00],\n",
       "       [3.56359e-01, 3.79800e-03, 6.47810e-01, 1.00000e+00],\n",
       "       [3.18856e-01, 7.57600e-03, 6.37640e-01, 1.00000e+00],\n",
       "       [4.35734e-01, 1.12700e-03, 6.59797e-01, 1.00000e+00],\n",
       "       [3.31426e-01, 6.26100e-03, 6.41316e-01, 1.00000e+00],\n",
       "       [4.41732e-01, 1.54000e-03, 6.60069e-01, 1.00000e+00],\n",
       "       [1.48607e-01, 2.11540e-02, 5.70562e-01, 1.00000e+00],\n",
       "       [5.23633e-01, 2.45320e-02, 6.52901e-01, 1.00000e+00],\n",
       "       [1.78950e-01, 1.92520e-02, 5.84054e-01, 1.00000e+00],\n",
       "       [4.35734e-01, 1.12700e-03, 6.59797e-01, 1.00000e+00],\n",
       "       [5.03830e-02, 2.98030e-02, 5.27975e-01, 1.00000e+00],\n",
       "       [3.56359e-01, 3.79800e-03, 6.47810e-01, 1.00000e+00],\n",
       "       [3.87183e-01, 1.43400e-03, 6.54177e-01, 1.00000e+00],\n",
       "       [4.17642e-01, 5.64000e-04, 6.58390e-01, 1.00000e+00],\n",
       "       [2.07435e-01, 1.74420e-02, 5.96333e-01, 1.00000e+00],\n",
       "       [4.89055e-01, 1.01270e-02, 6.58534e-01, 1.00000e+00],\n",
       "       [3.68733e-01, 2.72400e-03, 6.50601e-01, 1.00000e+00],\n",
       "       [3.68733e-01, 2.72400e-03, 6.50601e-01, 1.00000e+00],\n",
       "       [3.99411e-01, 8.59000e-04, 6.56133e-01, 1.00000e+00],\n",
       "       [4.41732e-01, 1.54000e-03, 6.60069e-01, 1.00000e+00],\n",
       "       [8.62927e-01, 3.65119e-01, 4.03519e-01, 1.00000e+00],\n",
       "       [3.62553e-01, 3.24300e-03, 6.49245e-01, 1.00000e+00],\n",
       "       [4.11580e-01, 5.77000e-04, 6.57730e-01, 1.00000e+00],\n",
       "       [2.14350e-01, 1.69730e-02, 5.99239e-01, 1.00000e+00],\n",
       "       [3.62553e-01, 3.24300e-03, 6.49245e-01, 1.00000e+00],\n",
       "       [4.53677e-01, 2.75500e-03, 6.60310e-01, 1.00000e+00],\n",
       "       [4.17642e-01, 5.64000e-04, 6.58390e-01, 1.00000e+00],\n",
       "       [4.41732e-01, 1.54000e-03, 6.60069e-01, 1.00000e+00],\n",
       "       [4.23689e-01, 6.46000e-04, 6.58956e-01, 1.00000e+00],\n",
       "       [3.87183e-01, 1.43400e-03, 6.54177e-01, 1.00000e+00],\n",
       "       [4.41732e-01, 1.54000e-03, 6.60069e-01, 1.00000e+00],\n",
       "       [4.41732e-01, 1.54000e-03, 6.60069e-01, 1.00000e+00],\n",
       "       [4.35734e-01, 1.12700e-03, 6.59797e-01, 1.00000e+00],\n",
       "       [4.53677e-01, 2.75500e-03, 6.60310e-01, 1.00000e+00],\n",
       "       [5.12206e-01, 1.88330e-02, 6.55209e-01, 1.00000e+00],\n",
       "       [4.65550e-01, 4.54500e-03, 6.60139e-01, 1.00000e+00],\n",
       "       [3.87183e-01, 1.43400e-03, 6.54177e-01, 1.00000e+00],\n",
       "       [3.99411e-01, 8.59000e-04, 6.56133e-01, 1.00000e+00],\n",
       "       [4.17642e-01, 5.64000e-04, 6.58390e-01, 1.00000e+00],\n",
       "       [4.35734e-01, 1.12700e-03, 6.59797e-01, 1.00000e+00],\n",
       "       [3.18856e-01, 7.57600e-03, 6.37640e-01, 1.00000e+00],\n",
       "       [4.29719e-01, 8.31000e-04, 6.59425e-01, 1.00000e+00],\n",
       "       [4.35734e-01, 1.12700e-03, 6.59797e-01, 1.00000e+00],\n",
       "       [5.95011e-01, 7.71900e-02, 6.27917e-01, 1.00000e+00],\n",
       "       [4.17642e-01, 5.64000e-04, 6.58390e-01, 1.00000e+00],\n",
       "       [4.41732e-01, 1.54000e-03, 6.60069e-01, 1.00000e+00],\n",
       "       [3.06210e-01, 8.90200e-03, 6.33694e-01, 1.00000e+00],\n",
       "       [2.34715e-01, 1.55020e-02, 6.07592e-01, 1.00000e+00],\n",
       "       [4.53677e-01, 2.75500e-03, 6.60310e-01, 1.00000e+00],\n",
       "       [4.23689e-01, 6.46000e-04, 6.58956e-01, 1.00000e+00],\n",
       "       [2.93478e-01, 1.02130e-02, 6.29490e-01, 1.00000e+00],\n",
       "       [3.50150e-01, 4.38200e-03, 6.46298e-01, 1.00000e+00],\n",
       "       [2.14350e-01, 1.69730e-02, 5.99239e-01, 1.00000e+00],\n",
       "       [3.18856e-01, 7.57600e-03, 6.37640e-01, 1.00000e+00],\n",
       "       [4.47714e-01, 2.08000e-03, 6.60240e-01, 1.00000e+00],\n",
       "       [5.03830e-02, 2.98030e-02, 5.27975e-01, 1.00000e+00],\n",
       "       [3.74897e-01, 2.24500e-03, 6.51876e-01, 1.00000e+00],\n",
       "       [5.03830e-02, 2.98030e-02, 5.27975e-01, 1.00000e+00],\n",
       "       [2.54627e-01, 1.38820e-02, 6.15419e-01, 1.00000e+00],\n",
       "       [5.03830e-02, 2.98030e-02, 5.27975e-01, 1.00000e+00],\n",
       "       [4.11580e-01, 5.77000e-04, 6.57730e-01, 1.00000e+00]])"
      ]
     },
     "execution_count": 58,
     "metadata": {},
     "output_type": "execute_result"
    }
   ],
   "source": [
    "plt.cm.get_cmap('plasma')([width/max_width for width in edge_test.values()])"
   ]
  },
  {
   "cell_type": "code",
   "execution_count": 74,
   "metadata": {},
   "outputs": [
    {
     "data": {
      "application/vnd.jupyter.widget-view+json": {
       "model_id": "40865097312848c88332a51399ed5db7",
       "version_major": 2,
       "version_minor": 0
      },
      "text/plain": [
       "Canvas(toolbar=Toolbar(toolitems=[('Home', 'Reset original view', 'home', 'home'), ('Back', 'Back to previous …"
      ]
     },
     "metadata": {},
     "output_type": "display_data"
    }
   ],
   "source": [
    "plt.close('all')\n",
    "t=0\n",
    "fig = plt.figure()\n",
    "ax = fig.add_subplot(111)\n",
    "graph = exp.nx_graph[t]\n",
    "for edge in graph.edges:\n",
    "    edge_exp = Edge(Node(edge[0],exp),Node(edge[1],exp),exp)\n",
    "    begin = edge_exp.begin.pos(t)\n",
    "    end = edge_exp.end.pos(t)\n",
    "    ax.plot((begin[1],end[1]), (begin[0],end[0]),color = plt.cm.get_cmap('plasma')(edge_test[edge]/60))\n",
    "# plt.colorbar()"
   ]
  },
  {
   "cell_type": "code",
   "execution_count": 75,
   "metadata": {},
   "outputs": [
    {
     "data": {
      "application/vnd.jupyter.widget-view+json": {
       "model_id": "dbf48aac0dec4ca08137facda0d952ad",
       "version_major": 2,
       "version_minor": 0
      },
      "text/plain": [
       "Canvas(toolbar=Toolbar(toolitems=[('Home', 'Reset original view', 'home', 'home'), ('Back', 'Back to previous …"
      ]
     },
     "metadata": {},
     "output_type": "display_data"
    }
   ],
   "source": [
    "exp.plot_raw(0)"
   ]
  },
  {
   "cell_type": "code",
   "execution_count": null,
   "metadata": {},
   "outputs": [],
   "source": [
    "edge_test.experiment.nx_graph[t].get_edge_data(edge_test.begin.label,edge_test.end.label)"
   ]
  },
  {
   "cell_type": "code",
   "execution_count": 323,
   "metadata": {},
   "outputs": [
    {
     "data": {
      "application/vnd.jupyter.widget-view+json": {
       "model_id": "3a8eeeaa138c4544817116bcb409adcb",
       "version_major": 2,
       "version_minor": 0
      },
      "text/plain": [
       "Canvas(toolbar=Toolbar(toolitems=[('Home', 'Reset original view', 'home', 'home'), ('Back', 'Back to previous …"
      ]
     },
     "metadata": {},
     "output_type": "display_data"
    },
    {
     "name": "stdout",
     "output_type": "stream",
     "text": [
      "(3000, 4096)\n",
      "1711 1911\n"
     ]
    },
    {
     "data": {
      "application/vnd.jupyter.widget-view+json": {
       "model_id": "31d1a298681f475c990c02d381e68a35",
       "version_major": 2,
       "version_minor": 0
      },
      "text/plain": [
       "Canvas(toolbar=Toolbar(toolitems=[('Home', 'Reset original view', 'home', 'home'), ('Back', 'Back to previous …"
      ]
     },
     "metadata": {},
     "output_type": "display_data"
    },
    {
     "data": {
      "application/vnd.jupyter.widget-view+json": {
       "model_id": "e1a736018e324bcd91b466f4bd826bd2",
       "version_major": 2,
       "version_minor": 0
      },
      "text/plain": [
       "Canvas(toolbar=Toolbar(toolitems=[('Home', 'Reset original view', 'home', 'home'), ('Back', 'Back to previous …"
      ]
     },
     "metadata": {},
     "output_type": "display_data"
    },
    {
     "name": "stdout",
     "output_type": "stream",
     "text": [
      "24 143.053775\n"
     ]
    },
    {
     "data": {
      "text/plain": [
       "{(8717, 7032): 40.86386931802906}"
      ]
     },
     "execution_count": 323,
     "metadata": {},
     "output_type": "execute_result"
    }
   ],
   "source": [
    "plt.close('all')\n",
    "get_width_edge(edge_test,50,4,True,threshold_averaging  = 5)"
   ]
  },
  {
   "cell_type": "code",
   "execution_count": 224,
   "metadata": {},
   "outputs": [
    {
     "data": {
      "application/vnd.jupyter.widget-view+json": {
       "model_id": "4c336b9c5f43407b8bcedb1c4eab136c",
       "version_major": 2,
       "version_minor": 0
      },
      "text/plain": [
       "Canvas(toolbar=Toolbar(toolitems=[('Home', 'Reset original view', 'home', 'home'), ('Back', 'Back to previous …"
      ]
     },
     "metadata": {},
     "output_type": "display_data"
    }
   ],
   "source": [
    "exp_2.plot([4],[[edge_test.end.label,edge_test.begin.label]])"
   ]
  },
  {
   "cell_type": "code",
   "execution_count": null,
   "metadata": {},
   "outputs": [],
   "source": [
    "# node = choice(exp_2.nodes)\n",
    "# node.ts()"
   ]
  },
  {
   "cell_type": "code",
   "execution_count": 139,
   "metadata": {},
   "outputs": [
    {
     "data": {
      "text/plain": [
       "Edge(1679,1823)"
      ]
     },
     "execution_count": 139,
     "metadata": {},
     "output_type": "execute_result"
    }
   ],
   "source": [
    "edge_test"
   ]
  },
  {
   "cell_type": "code",
   "execution_count": 138,
   "metadata": {},
   "outputs": [],
   "source": [
    "edge_test = node.neighbours(4)[0].edges(4)[0].end.edges(4)[0]"
   ]
  }
 ],
 "metadata": {
  "kernelspec": {
   "display_name": "Python 3",
   "language": "python",
   "name": "python3"
  },
  "language_info": {
   "codemirror_mode": {
    "name": "ipython",
    "version": 3
   },
   "file_extension": ".py",
   "mimetype": "text/x-python",
   "name": "python",
   "nbconvert_exporter": "python",
   "pygments_lexer": "ipython3",
   "version": "3.7.7"
  }
 },
 "nbformat": 4,
 "nbformat_minor": 4
}

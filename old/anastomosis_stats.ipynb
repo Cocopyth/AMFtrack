{
 "cells": [
  {
   "cell_type": "code",
   "execution_count": 4,
   "metadata": {},
   "outputs": [],
   "source": [
    "plate = 13\n",
    "directory = (\n",
    "    \"//sun.amolf.nl/shimizu-data/home-folder/oyartegalvez/Drive_AMFtopology/PRINCE\"\n",
    ")\n",
    "listdir = os.listdir(directory)\n",
    "list_dir_interest = [\n",
    "    name\n",
    "    for name in listdir\n",
    "    if name.split(\"_\")[-1] == f'Plate{0 if plate<10 else \"\"}{plate}'\n",
    "]\n",
    "ss = [name.split(\"_\")[0] for name in list_dir_interest]\n",
    "ff = [name.split(\"_\")[1] for name in list_dir_interest]\n",
    "dates_datetime = [\n",
    "    datetime(\n",
    "        year=int(ss[i][:4]),\n",
    "        month=int(ss[i][4:6]),\n",
    "        day=int(ss[i][6:8]),\n",
    "        hour=int(ff[i][0:2]),\n",
    "        minute=int(ff[i][2:4]),\n",
    "    )\n",
    "    for i in range(len(list_dir_interest))\n",
    "]\n",
    "dates_datetime.sort()\n",
    "dates_datetime_chosen = dates_datetime[1:25]\n",
    "dates = [\n",
    "    f'{0 if date.month<10 else \"\"}{date.month}{0 if date.day<10 else \"\"}{date.day}_{0 if date.hour<10 else \"\"}{date.hour}{0 if date.minute<10 else \"\"}{date.minute}'\n",
    "    for date in dates_datetime_chosen\n",
    "]"
   ]
  },
  {
   "cell_type": "code",
   "execution_count": null,
   "metadata": {},
   "outputs": [],
   "source": []
  },
  {
   "cell_type": "code",
   "execution_count": 5,
   "metadata": {},
   "outputs": [],
   "source": [
    "def pinpoint_anastomosis(expe, t):\n",
    "    nx_graph_tm1 = expe.nx_graph[t]\n",
    "    nx_grapht = expe.nx_graph[t + 1]\n",
    "    from_tip = expe.connections[t]\n",
    "    pos_tm1 = expe.positions[t]\n",
    "    anastomosis = []\n",
    "    origins = []\n",
    "    tips = [node for node in nx_graph_tm1.nodes if nx_graph_tm1.degree(node) == 1]\n",
    "    number_anastomosis = 0\n",
    "\n",
    "    def dist_branch(node, nx_graph, pos):\n",
    "        mini = np.inf\n",
    "        for edge in nx_graph.edges:\n",
    "            pixel_list = nx_graph.get_edge_data(*edge)[\"pixel_list\"]\n",
    "            if np.linalg.norm(np.array(pixel_list[0]) - np.array(pos[node])) <= 5000:\n",
    "                distance = np.min(\n",
    "                    np.linalg.norm(np.array(pixel_list) - np.array(pos[node]), axis=1)\n",
    "                )\n",
    "                if distance < mini:\n",
    "                    mini = distance\n",
    "        return mini\n",
    "\n",
    "    def count_neighbors_is_from_root(equ_list, nx_graph, root):\n",
    "        count = 0\n",
    "        for neighbor in nx_graph.neighbors(root):\n",
    "            if neighbor in equ_list:\n",
    "                count += 1\n",
    "        return count\n",
    "\n",
    "    for tip in tips:\n",
    "        #         print(tip)\n",
    "        consequence = from_tip[tip]\n",
    "        for node in consequence:\n",
    "            if (\n",
    "                node in nx_grapht.nodes\n",
    "                and nx_grapht.degree(node) >= 3\n",
    "                and count_neighbors_is_from_root(consequence, nx_grapht, node) < 2\n",
    "            ):\n",
    "                #                 if node==2753:\n",
    "                #                     print(count_neighbors_is_from_root(consequence,nx_grapht,node))\n",
    "                #                     print(list(nx_grapht.neighbors(node)))\n",
    "                anastomosis.append(node)\n",
    "                origins.append(tip)\n",
    "                number_anastomosis += 1\n",
    "        if (\n",
    "            tip not in nx_grapht.nodes\n",
    "            and dist_branch(tip, nx_grapht, pos_tm1) <= 30\n",
    "            and nx_graph_tm1.get_edge_data(*list(nx_graph_tm1.edges(tip))[0])[\"weight\"]\n",
    "            >= 20\n",
    "        ):\n",
    "            origins.append(tip)\n",
    "            number_anastomosis += 1 / 2\n",
    "    return (anastomosis, origins, number_anastomosis)"
   ]
  },
  {
   "cell_type": "code",
   "execution_count": 6,
   "metadata": {},
   "outputs": [],
   "source": [
    "exp2 = pickle.load(open(f\"Data/\" + f\"experiment_{13}.pick\", \"rb\"))"
   ]
  },
  {
   "cell_type": "code",
   "execution_count": 7,
   "metadata": {},
   "outputs": [],
   "source": [
    "exp = Experiment(13)\n",
    "exp.copy(exp2)"
   ]
  },
  {
   "cell_type": "code",
   "execution_count": 4,
   "metadata": {},
   "outputs": [],
   "source": [
    "exp.pickle_save()"
   ]
  },
  {
   "cell_type": "code",
   "execution_count": 8,
   "metadata": {},
   "outputs": [],
   "source": [
    "exp = Experiment(13)\n",
    "exp.pickle_load()"
   ]
  },
  {
   "cell_type": "code",
   "execution_count": 8,
   "metadata": {},
   "outputs": [],
   "source": [
    "tip_track = {}\n",
    "tip_ts = {}\n",
    "for node in exp.nodes:\n",
    "    for t in range(len(exp.dates)):\n",
    "        if node.is_in(t) and node.degree(t) == 1:\n",
    "            track = []\n",
    "            for tsup in range(t, len(exp.dates)):\n",
    "                if node.is_in(tsup):\n",
    "                    track.append(node.pos(tsup))\n",
    "            tip_track[node.label] = track\n",
    "            tip_ts[node.label] = t\n",
    "            break"
   ]
  },
  {
   "cell_type": "code",
   "execution_count": 15,
   "metadata": {},
   "outputs": [],
   "source": [
    "def get_angle(pos1, pos2):\n",
    "    vector = pos2 - pos1\n",
    "    unit_vector = vector / np.linalg.norm(vector)\n",
    "    vertical_vector = np.array([-1, 0])\n",
    "    dot_product = np.dot(vertical_vector, unit_vector)\n",
    "    if (\n",
    "        vertical_vector[1] * vector[0] - vertical_vector[0] * vector[1] >= 0\n",
    "    ):  # determinant\n",
    "        angle = np.arccos(dot_product) / (2 * np.pi) * 360\n",
    "    else:\n",
    "        angle = -np.arccos(dot_product) / (2 * np.pi) * 360\n",
    "    return angle\n",
    "\n",
    "\n",
    "def becomes_degree3(node):\n",
    "    node_obj = exp.get_node(node)\n",
    "    for t in range(len(exp.nx_graph)):\n",
    "        if node_obj.is_in(t) and node_obj.degree(t) == 3:\n",
    "            return (True, t)\n",
    "    return (False, None)"
   ]
  },
  {
   "cell_type": "code",
   "execution_count": 10,
   "metadata": {},
   "outputs": [],
   "source": [
    "tip_growth = {\n",
    "    tip: [\n",
    "        np.linalg.norm(tip_track[tip][i + 1] - tip_track[tip][i])\n",
    "        for i in range(len(tip_track[tip]) - 1)\n",
    "    ]\n",
    "    for tip in tip_track.keys()\n",
    "}"
   ]
  },
  {
   "cell_type": "code",
   "execution_count": 11,
   "metadata": {},
   "outputs": [],
   "source": [
    "tip_of_interest = [\n",
    "    tip for tip in tip_growth.keys() if np.any(np.array(tip_growth[tip]) >= 100)\n",
    "]"
   ]
  },
  {
   "cell_type": "code",
   "execution_count": 16,
   "metadata": {},
   "outputs": [],
   "source": [
    "min_growth = 30\n",
    "anastomose = [tip for tip in tip_of_interest if becomes_degree3(tip)[0]]\n",
    "stop = [tip for tip in tip_of_interest if not becomes_degree3(tip)[0]]\n",
    "stop_with_long_growth = [tip for tip in stop if np.sum(tip_growth[tip]) > 500]\n",
    "anastomose_with_long_growth = [\n",
    "    tip for tip in anastomose if np.sum(tip_growth[tip]) > 500\n",
    "]\n",
    "angles = {\n",
    "    tip: [\n",
    "        get_angle(tip_track[tip][i + 1], tip_track[tip][i])\n",
    "        for i in range(len(tip_track[tip]) - 1)\n",
    "        if tip_growth[tip][i] >= min_growth\n",
    "    ]\n",
    "    for tip in stop\n",
    "}"
   ]
  },
  {
   "cell_type": "code",
   "execution_count": 17,
   "metadata": {},
   "outputs": [],
   "source": [
    "angles_last = {\n",
    "    tipi: [angles[tipi][i + 1] - angles[tipi][i] for i in range(len(angles[tipi]) - 1)]\n",
    "    for tipi in angles.keys()\n",
    "}"
   ]
  },
  {
   "cell_type": "code",
   "execution_count": 18,
   "metadata": {},
   "outputs": [],
   "source": [
    "tis = {\n",
    "    tip: [i for i in range(len(tip_track[tip]) - 1) if tip_growth[tip][i] >= min_growth]\n",
    "    for tip in stop\n",
    "}"
   ]
  },
  {
   "cell_type": "code",
   "execution_count": 19,
   "metadata": {},
   "outputs": [],
   "source": [
    "tips_for_angle = [\n",
    "    tip\n",
    "    for tip in stop\n",
    "    if len(angles[tip]) >= 4 and not np.any(np.abs(np.array(angles_last[tip])) >= 90)\n",
    "]"
   ]
  },
  {
   "cell_type": "code",
   "execution_count": 20,
   "metadata": {},
   "outputs": [
    {
     "data": {
      "text/plain": [
       "47"
      ]
     },
     "execution_count": 20,
     "metadata": {},
     "output_type": "execute_result"
    }
   ],
   "source": [
    "len(tips_for_angle)"
   ]
  },
  {
   "cell_type": "code",
   "execution_count": 22,
   "metadata": {},
   "outputs": [
    {
     "data": {
      "application/vnd.jupyter.widget-view+json": {
       "model_id": "b456ecb22c56493e8b8bda4158ee52b0",
       "version_major": 2,
       "version_minor": 0
      },
      "text/plain": [
       "Canvas(toolbar=Toolbar(toolitems=[('Home', 'Reset original view', 'home', 'home'), ('Back', 'Back to previous …"
      ]
     },
     "metadata": {},
     "output_type": "display_data"
    }
   ],
   "source": [
    "fig = plt.figure()\n",
    "ax = fig.add_subplot(111)\n",
    "ax.set_xlabel(\"time (h)\")\n",
    "ax.set_ylabel(\"angle_from_begining(°)\")\n",
    "for tip in tips_for_angle[0:10]:\n",
    "    if len(angles[tip]) >= 1 and not np.any(np.abs(np.array(angles_last[tip])) >= 90):\n",
    "        (spotting,) = ax.plot(\n",
    "            np.array(tis[tip]) * 4,\n",
    "            (np.array(angles[tip]) - angles[tip][0] + 180) % 360 - 180,\n",
    "        )\n",
    "        spotting.set_label(str(tip))\n",
    "ax.legend()\n",
    "plt.show()"
   ]
  },
  {
   "cell_type": "code",
   "execution_count": 258,
   "metadata": {},
   "outputs": [
    {
     "data": {
      "application/vnd.jupyter.widget-view+json": {
       "model_id": "1ebcf94b2d7342418cadb6c5a8c12110",
       "version_major": 2,
       "version_minor": 0
      },
      "text/plain": [
       "Canvas(toolbar=Toolbar(toolitems=[('Home', 'Reset original view', 'home', 'home'), ('Back', 'Back to previous …"
      ]
     },
     "metadata": {},
     "output_type": "display_data"
    }
   ],
   "source": [
    "distances = {\n",
    "    tip: [\n",
    "        np.linalg.norm(tip_track[tip][t] - tip_track[tip][tis[tip][0]])\n",
    "        for t in tis[tip]\n",
    "    ]\n",
    "    for tip in tips_for_angle\n",
    "}\n",
    "fig = plt.figure()\n",
    "ax = fig.add_subplot(111)\n",
    "ax.set_xlabel(\"distance (log(mm))\")\n",
    "ax.set_ylabel(\"angle_from_begining(°)\")\n",
    "for tip in tips_for_angle:\n",
    "    if len(angles[tip]) >= 1 and not np.any(np.abs(np.array(angles_last[tip])) >= 90):\n",
    "        (spotting,) = ax.plot(\n",
    "            np.log(np.array(distances[tip]) * 1.725 / 1000 + 1),\n",
    "            (np.array(angles[tip]) - angles[tip][0] + 180) % 360 - 180,\n",
    "        )\n",
    "        spotting.set_label(str(tip))\n",
    "ax.legend()\n",
    "plt.show()"
   ]
  },
  {
   "cell_type": "code",
   "execution_count": 233,
   "metadata": {},
   "outputs": [],
   "source": []
  },
  {
   "cell_type": "code",
   "execution_count": 256,
   "metadata": {},
   "outputs": [],
   "source": [
    "plt.close(\"all\")"
   ]
  },
  {
   "cell_type": "code",
   "execution_count": 350,
   "metadata": {},
   "outputs": [
    {
     "data": {
      "application/vnd.jupyter.widget-view+json": {
       "model_id": "7ea9c9fda3254081b876301c49beff7e",
       "version_major": 2,
       "version_minor": 0
      },
      "text/plain": [
       "Canvas(toolbar=Toolbar(toolitems=[('Home', 'Reset original view', 'home', 'home'), ('Back', 'Back to previous …"
      ]
     },
     "metadata": {},
     "output_type": "display_data"
    },
    {
     "data": {
      "text/plain": [
       "(array([ 2.,  3., 14., 10.,  9.,  4.,  3.,  2.]),\n",
       " array([-24.8969913 , -16.65779887,  -8.41860644,  -0.17941401,\n",
       "          8.05977842,  16.29897085,  24.53816329,  32.77735572,\n",
       "         41.01654815]),\n",
       " <BarContainer object of 8 artists>)"
      ]
     },
     "execution_count": 350,
     "metadata": {},
     "output_type": "execute_result"
    }
   ],
   "source": [
    "angle_distrib = [\n",
    "    (np.array(angles[tip])[1] - angles[tip][0] + 180) % 360 - 180\n",
    "    for tip in tips_for_angle\n",
    "]\n",
    "fig = plt.figure()\n",
    "ax = fig.add_subplot(111)\n",
    "ax.hist(angle_distrib, 8)"
   ]
  },
  {
   "cell_type": "code",
   "execution_count": 361,
   "metadata": {},
   "outputs": [
    {
     "data": {
      "application/vnd.jupyter.widget-view+json": {
       "model_id": "a14feb123e394cbabf623c9116214012",
       "version_major": 2,
       "version_minor": 0
      },
      "text/plain": [
       "Canvas(toolbar=Toolbar(toolitems=[('Home', 'Reset original view', 'home', 'home'), ('Back', 'Back to previous …"
      ]
     },
     "metadata": {},
     "output_type": "display_data"
    }
   ],
   "source": [
    "tip = 3481\n",
    "node_interest = tip\n",
    "poss = exp.positions\n",
    "ts = [t for t in range(len(poss)) if exp.get_node(tip).is_in(t)]\n",
    "pos_problem = [poss[i][node_interest] for i in ts]\n",
    "xbegin = [pos_problem[i][0] - 1500 for i in range(len(ts))]\n",
    "ybegin = [pos_problem[i][1] - 1500 for i in range(len(ts))]\n",
    "xend = [pos_problem[i][0] + 1500 for i in range(len(ts))]\n",
    "yend = [pos_problem[i][1] + 1500 for i in range(len(ts))]\n",
    "skeletons_small = []\n",
    "for i in range(len(ts)):\n",
    "    skeletons_small.append(\n",
    "        exp.skeletons[ts[i]][xbegin[i] : xend[i], ybegin[i] : yend[i]]\n",
    "    )\n",
    "if ts[-1] < len(exp.skeletons) - 1:\n",
    "    skeletons_small.append(\n",
    "        exp.skeletons[ts[-1] + 1][xbegin[-1] : xend[-1], ybegin[-1] : yend[-1]]\n",
    "    )\n",
    "node_smalls = []\n",
    "for i in range(len(ts)):\n",
    "    node_smalls.append(\n",
    "        [\n",
    "            node\n",
    "            for node in exp.nx_graph[ts[i]].nodes\n",
    "            if (\n",
    "                xbegin[i] < poss[ts[i]][node][0] < xend[i]\n",
    "                and ybegin[i] < poss[ts[i]][node][1] < yend[i]\n",
    "                and exp.nx_graph[ts[i]].degree(node) >= 1\n",
    "            )\n",
    "        ]\n",
    "    )\n",
    "kernel = np.ones((5, 5), np.uint8)\n",
    "skeletons_small_dilated = [\n",
    "    cv2.dilate(skeleton.todense().astype(np.uint8), kernel, iterations=1)\n",
    "    for skeleton in skeletons_small\n",
    "]\n",
    "for tp1 in range(len(node_smalls)):\n",
    "    plot_t_tp1(\n",
    "        [node_interest],\n",
    "        [node_interest],\n",
    "        poss[ts[tp1]],\n",
    "        poss[ts[tp1]],\n",
    "        skeletons_small_dilated[tp1],\n",
    "        skeletons_small_dilated[tp1],\n",
    "        shift=(xbegin[tp1], ybegin[tp1]),\n",
    "        save=f\"Data/video_test/network_timestep_{tp1}\",\n",
    "        time=f\"t={4*tp1}h\",\n",
    "    )\n",
    "    clear_output(wait=True)\n",
    "if ts[-1] < len(exp.skeletons) - 1:\n",
    "    plot_t_tp1(\n",
    "        [],\n",
    "        [],\n",
    "        poss[ts[-1] + 1],\n",
    "        poss[ts[-1] + 1],\n",
    "        skeletons_small_dilated[-1],\n",
    "        skeletons_small_dilated[-1],\n",
    "        shift=(xbegin[-1], ybegin[-1]),\n",
    "        save=f\"Data/video_test/network_timestep_{len(node_smalls)}\",\n",
    "        time=f\"t={len(node_smalls)}h\",\n",
    "    )\n",
    "    clear_output(wait=True)\n",
    "images = []\n",
    "for t in range(len(node_smalls)):\n",
    "    images.append(imageio.imread(f\"Data/video_test/network_timestep_{t}.png\"))\n",
    "if ts[-1] < len(exp.skeletons) - 1:\n",
    "    images.append(\n",
    "        imageio.imread(f\"Data/video_test/network_timestep_{len(node_smalls)}.png\")\n",
    "    )\n",
    "imageio.mimsave(\n",
    "    f\"Data/video_test/tips_for_angle/{node_interest}movie_track.gif\", images, duration=1\n",
    ")"
   ]
  },
  {
   "cell_type": "code",
   "execution_count": 362,
   "metadata": {},
   "outputs": [
    {
     "data": {
      "application/vnd.jupyter.widget-view+json": {
       "model_id": "6811fb9885664f9a9bc7482f86643aa6",
       "version_major": 2,
       "version_minor": 0
      },
      "text/plain": [
       "Canvas(toolbar=Toolbar(toolitems=[('Home', 'Reset original view', 'home', 'home'), ('Back', 'Back to previous …"
      ]
     },
     "metadata": {},
     "output_type": "display_data"
    }
   ],
   "source": [
    "tip = 3481\n",
    "fig = plt.figure()\n",
    "ax = fig.add_subplot(111)\n",
    "ax.set_xlabel(\"distance (mm)\")\n",
    "ax.set_ylabel(\"angle_from_begining(°)\")\n",
    "for tip in [tip]:\n",
    "    if len(angles[tip]) >= 1 and not np.any(np.abs(np.array(angles_last[tip])) >= 90):\n",
    "        (spotting,) = ax.plot(\n",
    "            np.array(distances[tip]) * 1.725 / 1000 + 1,\n",
    "            (np.array(angles[tip]) - angles[tip][0] + 180) % 360 - 180,\n",
    "        )\n",
    "#         spotting.set_label(str(tip))\n",
    "# ax.legend()\n",
    "plt.show()"
   ]
  },
  {
   "cell_type": "code",
   "execution_count": 363,
   "metadata": {},
   "outputs": [],
   "source": [
    "angles_interest = (\n",
    "    ((np.array(angles[tip]) - angles[tip][0] + 180) % 360 - 180) / 360 * 2 * np.pi\n",
    ")\n",
    "distances_interest = np.array(distances[tip]) * 1.725 / 1000 + 1\n",
    "dist = []\n",
    "cosins = []\n",
    "for i, angle in enumerate(angles_interest):\n",
    "    for j in range(i + 1, len(angles_interest)):\n",
    "        dist.append(distances_interest[j] - distances_interest[i])\n",
    "        cosins.append(np.cos(angles_interest[j] - angles_interest[i]))"
   ]
  },
  {
   "cell_type": "code",
   "execution_count": 364,
   "metadata": {},
   "outputs": [],
   "source": [
    "num_slices = len(distances[tip]) // 2\n",
    "slices = [\n",
    "    (i * max(dist) / num_slices, (i + 1) * max(dist) / num_slices)\n",
    "    for i in range(num_slices)\n",
    "]\n",
    "end_slice = [slico[1] for slico in slices]\n",
    "slice_cosins = [\n",
    "    [cos for k, cos in enumerate(cosins) if slico[0] <= dist[k] < slico[1]]\n",
    "    for slico in slices\n",
    "]"
   ]
  },
  {
   "cell_type": "code",
   "execution_count": 365,
   "metadata": {},
   "outputs": [],
   "source": [
    "slice_cosins_av = [np.mean(slice_cos) for slice_cos in slice_cosins]\n",
    "slice_size = [len(slice_cos) for slice_cos in slice_cosins]"
   ]
  },
  {
   "cell_type": "code",
   "execution_count": 289,
   "metadata": {},
   "outputs": [],
   "source": [
    "plt.close(\"all\")"
   ]
  },
  {
   "cell_type": "code",
   "execution_count": 366,
   "metadata": {},
   "outputs": [
    {
     "data": {
      "application/vnd.jupyter.widget-view+json": {
       "model_id": "839928b852124099aac386082bfd7c5e",
       "version_major": 2,
       "version_minor": 0
      },
      "text/plain": [
       "Canvas(toolbar=Toolbar(toolitems=[('Home', 'Reset original view', 'home', 'home'), ('Back', 'Back to previous …"
      ]
     },
     "metadata": {},
     "output_type": "display_data"
    }
   ],
   "source": [
    "fig = plt.figure()\n",
    "ax = fig.add_subplot(111)\n",
    "ax.set_xlabel(\"distance (mm)\")\n",
    "ax.set_ylabel(\"angle_from_begining(°)\")\n",
    "ax.scatter(end_slice, np.array(slice_cosins_av))\n",
    "#         spotting.set_label(str(tip))\n",
    "# ax.legend()\n",
    "plt.show()"
   ]
  },
  {
   "cell_type": "code",
   "execution_count": 367,
   "metadata": {},
   "outputs": [
    {
     "data": {
      "text/plain": [
       "14.260874212046609"
      ]
     },
     "execution_count": 367,
     "metadata": {},
     "output_type": "execute_result"
    }
   ],
   "source": [
    "regr = linear_model.LinearRegression()\n",
    "regr.fit(\n",
    "    np.array(end_slice).reshape(-1, 1),\n",
    "    np.log(np.array(slice_cosins_av)).reshape(-1, 1),\n",
    "    sample_weight=slice_size,\n",
    ")\n",
    "fit = regr.predict(np.array(end_slice).reshape(-1, 1))\n",
    "-1 / regr.coef_[0][0]"
   ]
  },
  {
   "cell_type": "code",
   "execution_count": 369,
   "metadata": {},
   "outputs": [
    {
     "data": {
      "application/vnd.jupyter.widget-view+json": {
       "model_id": "f0fb858255ee4c128469233e0284538a",
       "version_major": 2,
       "version_minor": 0
      },
      "text/plain": [
       "Canvas(toolbar=Toolbar(toolitems=[('Home', 'Reset original view', 'home', 'home'), ('Back', 'Back to previous …"
      ]
     },
     "metadata": {},
     "output_type": "display_data"
    }
   ],
   "source": [
    "fig = plt.figure()\n",
    "ax = fig.add_subplot(111)\n",
    "ax.set_xlabel(\"distance (mm)\")\n",
    "ax.set_ylabel(\"angle_from_begining(°)\")\n",
    "ax.scatter(end_slice, np.log(np.array(slice_cosins_av)))\n",
    "plt.plot(end_slice, fit)\n",
    "#         spotting.set_label(str(tip))\n",
    "# ax.legend()\n",
    "plt.show()"
   ]
  },
  {
   "cell_type": "code",
   "execution_count": 348,
   "metadata": {},
   "outputs": [],
   "source": [
    "plt.close(\"all\")"
   ]
  },
  {
   "cell_type": "code",
   "execution_count": null,
   "metadata": {},
   "outputs": [],
   "source": []
  },
  {
   "cell_type": "code",
   "execution_count": 97,
   "metadata": {},
   "outputs": [
    {
     "data": {
      "application/vnd.jupyter.widget-view+json": {
       "model_id": "e19fbf3eebdc4db0a21c2fde8609d89c",
       "version_major": 2,
       "version_minor": 0
      },
      "text/plain": [
       "Canvas(toolbar=Toolbar(toolitems=[('Home', 'Reset original view', 'home', 'home'), ('Back', 'Back to previous …"
      ]
     },
     "metadata": {},
     "output_type": "display_data"
    }
   ],
   "source": [
    "fig = plt.figure()\n",
    "ax = fig.add_subplot(111)\n",
    "ax.set_xlabel(\"time (h)\")\n",
    "ax.set_ylabel(\"growth (mm/day)\")\n",
    "for i in range(20):\n",
    "    tip = choice(tip_of_interest)\n",
    "    (spotting,) = ax.plot(\n",
    "        np.array(range(len(tip_growth[tip]))) * 4,\n",
    "        np.array(tip_growth[tip]) * 1.725 / 4 * 24 / 1000,\n",
    "    )\n",
    "    spotting.set_label(str(tip))\n",
    "ax.legend()\n",
    "plt.show()"
   ]
  },
  {
   "cell_type": "code",
   "execution_count": 20,
   "metadata": {},
   "outputs": [],
   "source": [
    "def becomes_degree3(node):\n",
    "    node_obj = exp.get_node(node)\n",
    "    for t in range(len(exp.nx_graph)):\n",
    "        if node_obj.is_in(t) and node_obj.degree(t) == 3:\n",
    "            return (True, t)\n",
    "    return (False, None)"
   ]
  },
  {
   "cell_type": "code",
   "execution_count": 26,
   "metadata": {},
   "outputs": [],
   "source": [
    "time_anas = {tip: becomes_degree3(tip)[1] for tip in anastomose}"
   ]
  },
  {
   "cell_type": "code",
   "execution_count": 79,
   "metadata": {},
   "outputs": [],
   "source": [
    "def is_crossing(tip_an):\n",
    "    time = time_anas[tip_an]\n",
    "    tip_obj = exp.get_node(tip_an)\n",
    "    edges = tip_obj.edges(time - 1)\n",
    "    print(edges)\n",
    "    assert len(edges) == 1\n",
    "    orient = (edges[0].orientation_whole(time - 1)) + 180 % 360\n",
    "    print(\"orien\", orient)\n",
    "    neighbours = tip_obj.neighbours(time + 1)\n",
    "    if tip_obj.degree(time + 1) >= 4:\n",
    "        print(\"degree4\")\n",
    "        mini = np.inf\n",
    "        for edge in tip_obj.edges(time + 1):\n",
    "            candidate = abs(edge.orientation_whole(time + 1) % 360 - orient)\n",
    "            if candidate < mini:\n",
    "                mini = candidate\n",
    "                continuity = edge.end\n",
    "        return (mini, continuity)\n",
    "    else:\n",
    "        mini = np.inf\n",
    "        for neighbour in neighbours:\n",
    "            candidate = np.linalg.norm(neighbour.pos(time + 1) - tip_obj.pos(time + 1))\n",
    "            if candidate < mini:\n",
    "                mini = candidate\n",
    "                continuity = edge.end"
   ]
  },
  {
   "cell_type": "code",
   "execution_count": 81,
   "metadata": {},
   "outputs": [
    {
     "ename": "KeyError",
     "evalue": "2652",
     "output_type": "error",
     "traceback": [
      "\u001b[1;31m---------------------------------------------------------------------------\u001b[0m",
      "\u001b[1;31mKeyError\u001b[0m                                  Traceback (most recent call last)",
      "\u001b[1;32m<ipython-input-81-b4103e98c45a>\u001b[0m in \u001b[0;36m<module>\u001b[1;34m\u001b[0m\n\u001b[0;32m      1\u001b[0m \u001b[0mtip_int\u001b[0m \u001b[1;33m=\u001b[0m \u001b[1;36m2652\u001b[0m\u001b[1;33m\u001b[0m\u001b[1;33m\u001b[0m\u001b[0m\n\u001b[1;32m----> 2\u001b[1;33m \u001b[0mis_crossing\u001b[0m\u001b[1;33m(\u001b[0m\u001b[0mtip_int\u001b[0m\u001b[1;33m)\u001b[0m\u001b[1;33m\u001b[0m\u001b[1;33m\u001b[0m\u001b[0m\n\u001b[0m",
      "\u001b[1;32m<ipython-input-79-d0834d9affd4>\u001b[0m in \u001b[0;36mis_crossing\u001b[1;34m(tip_an)\u001b[0m\n\u001b[0;32m      1\u001b[0m \u001b[1;32mdef\u001b[0m \u001b[0mis_crossing\u001b[0m\u001b[1;33m(\u001b[0m\u001b[0mtip_an\u001b[0m\u001b[1;33m)\u001b[0m\u001b[1;33m:\u001b[0m\u001b[1;33m\u001b[0m\u001b[1;33m\u001b[0m\u001b[0m\n\u001b[1;32m----> 2\u001b[1;33m     \u001b[0mtime\u001b[0m \u001b[1;33m=\u001b[0m \u001b[0mtime_anas\u001b[0m\u001b[1;33m[\u001b[0m\u001b[0mtip_an\u001b[0m\u001b[1;33m]\u001b[0m\u001b[1;33m\u001b[0m\u001b[1;33m\u001b[0m\u001b[0m\n\u001b[0m\u001b[0;32m      3\u001b[0m     \u001b[0mtip_obj\u001b[0m \u001b[1;33m=\u001b[0m \u001b[0mexp\u001b[0m\u001b[1;33m.\u001b[0m\u001b[0mget_node\u001b[0m\u001b[1;33m(\u001b[0m\u001b[0mtip_an\u001b[0m\u001b[1;33m)\u001b[0m\u001b[1;33m\u001b[0m\u001b[1;33m\u001b[0m\u001b[0m\n\u001b[0;32m      4\u001b[0m     \u001b[0medges\u001b[0m \u001b[1;33m=\u001b[0m \u001b[0mtip_obj\u001b[0m\u001b[1;33m.\u001b[0m\u001b[0medges\u001b[0m\u001b[1;33m(\u001b[0m\u001b[0mtime\u001b[0m\u001b[1;33m-\u001b[0m\u001b[1;36m1\u001b[0m\u001b[1;33m)\u001b[0m\u001b[1;33m\u001b[0m\u001b[1;33m\u001b[0m\u001b[0m\n\u001b[0;32m      5\u001b[0m     \u001b[0mprint\u001b[0m\u001b[1;33m(\u001b[0m\u001b[0medges\u001b[0m\u001b[1;33m)\u001b[0m\u001b[1;33m\u001b[0m\u001b[1;33m\u001b[0m\u001b[0m\n",
      "\u001b[1;31mKeyError\u001b[0m: 2652"
     ]
    }
   ],
   "source": [
    "tip_int = 2652\n",
    "is_crossing(tip_int)"
   ]
  },
  {
   "cell_type": "code",
   "execution_count": 76,
   "metadata": {},
   "outputs": [],
   "source": [
    "plt.close(\"all\")"
   ]
  },
  {
   "cell_type": "code",
   "execution_count": 112,
   "metadata": {},
   "outputs": [
    {
     "data": {
      "text/plain": [
       "4209"
      ]
     },
     "execution_count": 112,
     "metadata": {},
     "output_type": "execute_result"
    }
   ],
   "source": [
    "tip"
   ]
  },
  {
   "cell_type": "code",
   "execution_count": 77,
   "metadata": {},
   "outputs": [
    {
     "data": {
      "text/plain": [
       "10"
      ]
     },
     "execution_count": 77,
     "metadata": {},
     "output_type": "execute_result"
    }
   ],
   "source": [
    "ts"
   ]
  },
  {
   "cell_type": "code",
   "execution_count": 198,
   "metadata": {},
   "outputs": [],
   "source": [
    "plt.close(\"all\")"
   ]
  },
  {
   "cell_type": "code",
   "execution_count": 61,
   "metadata": {},
   "outputs": [
    {
     "data": {
      "text/plain": [
       "True"
      ]
     },
     "execution_count": 61,
     "metadata": {},
     "output_type": "execute_result"
    }
   ],
   "source": [
    "exp.get_node(tip).is_in(5)"
   ]
  },
  {
   "cell_type": "code",
   "execution_count": null,
   "metadata": {},
   "outputs": [],
   "source": [
    "exp.positions"
   ]
  },
  {
   "cell_type": "code",
   "execution_count": 75,
   "metadata": {},
   "outputs": [
    {
     "data": {
      "text/plain": [
       "154"
      ]
     },
     "execution_count": 75,
     "metadata": {},
     "output_type": "execute_result"
    }
   ],
   "source": [
    "choice(anastomose)"
   ]
  },
  {
   "cell_type": "code",
   "execution_count": 199,
   "metadata": {},
   "outputs": [
    {
     "data": {
      "application/vnd.jupyter.widget-view+json": {
       "model_id": "ae239b7da77c4e2cb1523fe9f6923cb5",
       "version_major": 2,
       "version_minor": 0
      },
      "text/plain": [
       "Canvas(toolbar=Toolbar(toolitems=[('Home', 'Reset original view', 'home', 'home'), ('Back', 'Back to previous …"
      ]
     },
     "metadata": {},
     "output_type": "display_data"
    }
   ],
   "source": [
    "fig = plt.figure()\n",
    "ax = fig.add_subplot(111)\n",
    "ax.set_xlabel(\"time (h)\")\n",
    "ax.set_ylabel(\"growth (mm/day)\")\n",
    "(spotting,) = ax.plot(\n",
    "    np.array(range(len(tip_growth[tip]))) * 4,\n",
    "    np.array(tip_growth[tip]) * 1.725 / 4 * 24 / 1000,\n",
    ")\n",
    "spotting.set_label(str(tip))\n",
    "ax.legend()\n",
    "plt.show()"
   ]
  },
  {
   "cell_type": "code",
   "execution_count": 78,
   "metadata": {},
   "outputs": [
    {
     "data": {
      "application/vnd.jupyter.widget-view+json": {
       "model_id": "d95977e5ba2545cd8f4aa7d93ea3296a",
       "version_major": 2,
       "version_minor": 0
      },
      "text/plain": [
       "Canvas(toolbar=Toolbar(toolitems=[('Home', 'Reset original view', 'home', 'home'), ('Back', 'Back to previous …"
      ]
     },
     "metadata": {},
     "output_type": "display_data"
    }
   ],
   "source": [
    "for i in range(10):\n",
    "    tip = choice(anastomose)\n",
    "    node_interest = tip\n",
    "    poss = exp.positions\n",
    "    ts = [t for t in range(len(poss)) if exp.get_node(tip).is_in(t)]\n",
    "    pos_problem = [poss[i][node_interest] for i in ts]\n",
    "    xbegin = [pos_problem[i][0] - 1500 for i in range(len(ts))]\n",
    "    ybegin = [pos_problem[i][1] - 1500 for i in range(len(ts))]\n",
    "    xend = [pos_problem[i][0] + 1500 for i in range(len(ts))]\n",
    "    yend = [pos_problem[i][1] + 1500 for i in range(len(ts))]\n",
    "    skeletons_small = []\n",
    "    for i in range(len(ts)):\n",
    "        skeletons_small.append(\n",
    "            exp.skeletons[ts[i]][xbegin[i] : xend[i], ybegin[i] : yend[i]]\n",
    "        )\n",
    "    if ts[-1] < len(exp.skeletons) - 1:\n",
    "        skeletons_small.append(\n",
    "            exp.skeletons[ts[-1] + 1][xbegin[-1] : xend[-1], ybegin[-1] : yend[-1]]\n",
    "        )\n",
    "    node_smalls = []\n",
    "    for i in range(len(ts)):\n",
    "        node_smalls.append(\n",
    "            [\n",
    "                node\n",
    "                for node in exp.nx_graph[ts[i]].nodes\n",
    "                if (\n",
    "                    xbegin[i] < poss[ts[i]][node][0] < xend[i]\n",
    "                    and ybegin[i] < poss[ts[i]][node][1] < yend[i]\n",
    "                    and exp.nx_graph[ts[i]].degree(node) >= 1\n",
    "                )\n",
    "            ]\n",
    "        )\n",
    "    kernel = np.ones((5, 5), np.uint8)\n",
    "    skeletons_small_dilated = [\n",
    "        cv2.dilate(skeleton.todense().astype(np.uint8), kernel, iterations=1)\n",
    "        for skeleton in skeletons_small\n",
    "    ]\n",
    "    for tp1 in range(len(node_smalls)):\n",
    "        plot_t_tp1(\n",
    "            [node_interest],\n",
    "            [node_interest],\n",
    "            poss[ts[tp1]],\n",
    "            poss[ts[tp1]],\n",
    "            skeletons_small_dilated[tp1],\n",
    "            skeletons_small_dilated[tp1],\n",
    "            shift=(xbegin[tp1], ybegin[tp1]),\n",
    "            save=f\"Data/video_test/network_timestep_{tp1}\",\n",
    "            time=f\"t={4*tp1}h\",\n",
    "        )\n",
    "        clear_output(wait=True)\n",
    "    if ts[-1] < len(exp.skeletons) - 1:\n",
    "        plot_t_tp1(\n",
    "            [],\n",
    "            [],\n",
    "            poss[ts[-1] + 1],\n",
    "            poss[ts[-1] + 1],\n",
    "            skeletons_small_dilated[-1],\n",
    "            skeletons_small_dilated[-1],\n",
    "            shift=(xbegin[-1], ybegin[-1]),\n",
    "            save=f\"Data/video_test/network_timestep_{len(node_smalls)}\",\n",
    "            time=f\"t={len(node_smalls)}h\",\n",
    "        )\n",
    "        clear_output(wait=True)\n",
    "    images = []\n",
    "    for t in range(len(node_smalls)):\n",
    "        images.append(imageio.imread(f\"Data/video_test/network_timestep_{t}.png\"))\n",
    "    if ts[-1] < len(exp.skeletons) - 1:\n",
    "        images.append(\n",
    "            imageio.imread(f\"Data/video_test/network_timestep_{len(node_smalls)}.png\")\n",
    "        )\n",
    "    imageio.mimsave(\n",
    "        f\"Data/video_test/anast/{node_interest}movie_track.gif\", images, duration=1\n",
    "    )\n",
    "    plt.close(\"all\")\n",
    "# fig = plt.figure()\n",
    "# ax = fig.add_subplot(111)\n",
    "# ax.set_xlabel('time (h)')\n",
    "# ax.set_ylabel('growth (mm/day)')\n",
    "# spotting,=ax.plot(np.array(range(len(tip_growth[tip])))*4,np.array(tip_growth[tip])*1.725/4*24/1000)\n",
    "# spotting.set_label(str(tip))\n",
    "# ax.legend()\n",
    "# plt.show()"
   ]
  },
  {
   "cell_type": "code",
   "execution_count": null,
   "metadata": {},
   "outputs": [],
   "source": [
    "for i in range(10):\n",
    "    tip = choice(stop_with_long_growth)\n",
    "    node_interest = tip\n",
    "    poss = exp.positions\n",
    "    ts = [t for t in range(len(poss)) if exp.get_node(tip).is_in(t)]\n",
    "    pos_problem = [poss[i][node_interest] for i in ts]\n",
    "    xbegin = [pos_problem[i][0] - 1500 for i in range(len(ts))]\n",
    "    ybegin = [pos_problem[i][1] - 1500 for i in range(len(ts))]\n",
    "    xend = [pos_problem[i][0] + 1500 for i in range(len(ts))]\n",
    "    yend = [pos_problem[i][1] + 1500 for i in range(len(ts))]\n",
    "    skeletons_small = []\n",
    "    for i in range(len(ts)):\n",
    "        skeletons_small.append(\n",
    "            exp.skeletons[ts[i]][xbegin[i] : xend[i], ybegin[i] : yend[i]]\n",
    "        )\n",
    "    if ts[-1] < len(exp.skeletons) - 1:\n",
    "        skeletons_small.append(\n",
    "            exp.skeletons[ts[-1] + 1][xbegin[-1] : xend[-1], ybegin[-1] : yend[-1]]\n",
    "        )\n",
    "    node_smalls = []\n",
    "    for i in range(len(ts)):\n",
    "        node_smalls.append(\n",
    "            [\n",
    "                node\n",
    "                for node in exp.nx_graph[ts[i]].nodes\n",
    "                if (\n",
    "                    xbegin[i] < poss[ts[i]][node][0] < xend[i]\n",
    "                    and ybegin[i] < poss[ts[i]][node][1] < yend[i]\n",
    "                    and exp.nx_graph[ts[i]].degree(node) >= 1\n",
    "                )\n",
    "            ]\n",
    "        )\n",
    "    kernel = np.ones((5, 5), np.uint8)\n",
    "    skeletons_small_dilated = [\n",
    "        cv2.dilate(skeleton.todense().astype(np.uint8), kernel, iterations=1)\n",
    "        for skeleton in skeletons_small\n",
    "    ]\n",
    "    for tp1 in range(len(node_smalls)):\n",
    "        plot_t_tp1(\n",
    "            [node_interest],\n",
    "            [node_interest],\n",
    "            poss[ts[tp1]],\n",
    "            poss[ts[tp1]],\n",
    "            skeletons_small_dilated[tp1],\n",
    "            skeletons_small_dilated[tp1],\n",
    "            shift=(xbegin[tp1], ybegin[tp1]),\n",
    "            save=f\"Data/video_test/network_timestep_{tp1}\",\n",
    "            time=f\"t={4*tp1}h\",\n",
    "        )\n",
    "        clear_output(wait=True)\n",
    "    if ts[-1] < len(exp.skeletons) - 1:\n",
    "        plot_t_tp1(\n",
    "            [],\n",
    "            [],\n",
    "            poss[ts[-1] + 1],\n",
    "            poss[ts[-1] + 1],\n",
    "            skeletons_small_dilated[-1],\n",
    "            skeletons_small_dilated[-1],\n",
    "            shift=(xbegin[-1], ybegin[-1]),\n",
    "            save=f\"Data/video_test/network_timestep_{tp1}\",\n",
    "            time=f\"t={len(node_smalls)}h\",\n",
    "        )\n",
    "        clear_output(wait=True)\n",
    "    images = []\n",
    "    for t in range(len(node_smalls)):\n",
    "        images.append(imageio.imread(f\"Data/video_test/network_timestep_{t}.png\"))\n",
    "    if ts[-1] < len(exp.skeletons) - 1:\n",
    "        images.append(\n",
    "            imageio.imread(f\"Data/video_test/network_timestep_{len(node_smalls)}.png\")\n",
    "        )\n",
    "    imageio.mimsave(\n",
    "        f\"Data/video_test/stop_long/{node_interest}movie_track.gif\", images, duration=1\n",
    "    )\n",
    "    plt.close(\"all\")\n",
    "# fig = plt.figure()\n",
    "# ax = fig.add_subplot(111)\n",
    "# ax.set_xlabel('time (h)')\n",
    "# ax.set_ylabel('growth (mm/day)')\n",
    "# spotting,=ax.plot(np.array(range(len(tip_growth[tip])))*4,np.array(tip_growth[tip])*1.725/4*24/1000)\n",
    "# spotting.set_label(str(tip))\n",
    "# ax.legend()\n",
    "# plt.show()"
   ]
  },
  {
   "cell_type": "code",
   "execution_count": 209,
   "metadata": {},
   "outputs": [
    {
     "data": {
      "text/plain": [
       "0.3105"
      ]
     },
     "execution_count": 209,
     "metadata": {},
     "output_type": "execute_result"
    }
   ],
   "source": [
    "30 * 1.725 / 4 * 24 / 1000"
   ]
  },
  {
   "cell_type": "code",
   "execution_count": 206,
   "metadata": {},
   "outputs": [
    {
     "data": {
      "text/plain": [
       "1968"
      ]
     },
     "execution_count": 206,
     "metadata": {},
     "output_type": "execute_result"
    }
   ],
   "source": [
    "choice(stop)"
   ]
  },
  {
   "cell_type": "code",
   "execution_count": null,
   "metadata": {},
   "outputs": [],
   "source": [
    "exp.save()"
   ]
  },
  {
   "cell_type": "code",
   "execution_count": 28,
   "metadata": {},
   "outputs": [],
   "source": [
    "L = pinpoint_anastomosis(exp, t)[1]"
   ]
  },
  {
   "cell_type": "code",
   "execution_count": 57,
   "metadata": {},
   "outputs": [
    {
     "data": {
      "text/plain": [
       "array([12970, 18220])"
      ]
     },
     "execution_count": 57,
     "metadata": {},
     "output_type": "execute_result"
    }
   ],
   "source": [
    "node = 64\n",
    "node_obj = ex\n",
    "p2.get_node(node)\n",
    "node_obj.pos(t)"
   ]
  },
  {
   "cell_type": "code",
   "execution_count": 52,
   "metadata": {},
   "outputs": [
    {
     "data": {
      "application/vnd.jupyter.widget-view+json": {
       "model_id": "654a5c7254c2419a8db4b810c7729009",
       "version_major": 2,
       "version_minor": 0
      },
      "text/plain": [
       "Canvas(toolbar=Toolbar(toolitems=[('Home', 'Reset original view', 'home', 'home'), ('Back', 'Back to previous …"
      ]
     },
     "metadata": {},
     "output_type": "display_data"
    }
   ],
   "source": [
    "for node in L:\n",
    "    node = 830\n",
    "    node_obj = exp2.get_node(node)\n",
    "    imtm1, posstm1 = exp2.find_image_pos(\n",
    "        node_obj.pos(t)[0], node_obj.pos(t)[1], t, local=False\n",
    "    )\n",
    "    imt, posst = exp2.find_image_pos(\n",
    "        node_obj.pos(t)[0], node_obj.pos(t)[1], t + 1, local=False\n",
    "    )\n",
    "    i = 0\n",
    "    plot_t_tp1(\n",
    "        [node], [], {node: (posstm1[1][i], posstm1[0][i])}, None, imtm1[i], imt[i]\n",
    "    )\n",
    "    break"
   ]
  },
  {
   "cell_type": "code",
   "execution_count": 61,
   "metadata": {},
   "outputs": [
    {
     "data": {
      "application/vnd.jupyter.widget-view+json": {
       "model_id": "001f88a8f58e48d2ab695d7e35f10496",
       "version_major": 2,
       "version_minor": 0
      },
      "text/plain": [
       "Canvas(toolbar=Toolbar(toolitems=[('Home', 'Reset original view', 'home', 'home'), ('Back', 'Back to previous …"
      ]
     },
     "metadata": {},
     "output_type": "display_data"
    }
   ],
   "source": [
    "t = 0\n",
    "exp2.plot([t, t + 1], [pinpoint_anastomosis(exp2, t)[1]] * 2)"
   ]
  },
  {
   "cell_type": "code",
   "execution_count": 59,
   "metadata": {},
   "outputs": [
    {
     "data": {
      "text/plain": [
       "(23625, 14540)"
      ]
     },
     "execution_count": 59,
     "metadata": {},
     "output_type": "execute_result"
    }
   ],
   "source": [
    "4725 * 5, 2908 * 5"
   ]
  },
  {
   "cell_type": "code",
   "execution_count": 18,
   "metadata": {},
   "outputs": [],
   "source": [
    "anas_result = [pinpoint_anastomosis(exp2, i) for i in range(len(dates) - 1)]\n",
    "anastomosiss = [ana_result[0] for ana_result in anas_result]\n",
    "origins = [ana_result[1] for ana_result in anas_result]\n",
    "number_an = [ana_result[2] for ana_result in anas_result]"
   ]
  },
  {
   "cell_type": "code",
   "execution_count": 22,
   "metadata": {},
   "outputs": [],
   "source": [
    "degree4_nodes = [\n",
    "    [node for node in nx_graph.nodes if nx_graph.degree(node) == 4]\n",
    "    for nx_graph in exp2.nx_graph\n",
    "]\n",
    "numberdegree4 = [len(liste) for liste in degree4_nodes]\n",
    "number_anastomosis_theory = [\n",
    "    2 + len(nx_graph.edges) - len(nx_graph.nodes) - numberdegree4[i]\n",
    "    for i, nx_graph in enumerate(exp2.nx_graph)\n",
    "]\n",
    "number_anastomosis_spot = [number_anastomosis_theory[0]] + [\n",
    "    number_anastomosis_theory[0] + np.cumsum(number_an)[i]\n",
    "    for i in range(len(anastomosiss))\n",
    "]\n",
    "per_frame_anastomosis_theory = [\n",
    "    number_anastomosis_theory[i + 1] - number_anastomosis_theory[i]\n",
    "    for i in range(len(number_anastomosis_theory) - 1)\n",
    "]\n",
    "per_frame_anastomosis_spot = [\n",
    "    number_anastomosis_spot[i + 1] - number_anastomosis_spot[i]\n",
    "    for i in range(len(number_anastomosis_theory) - 1)\n",
    "]"
   ]
  },
  {
   "cell_type": "code",
   "execution_count": 25,
   "metadata": {},
   "outputs": [
    {
     "data": {
      "application/vnd.jupyter.widget-view+json": {
       "model_id": "c4cdc03f380641ff8620f19015897e18",
       "version_major": 2,
       "version_minor": 0
      },
      "text/plain": [
       "Canvas(toolbar=Toolbar(toolitems=[('Home', 'Reset original view', 'home', 'home'), ('Back', 'Back to previous …"
      ]
     },
     "metadata": {},
     "output_type": "display_data"
    }
   ],
   "source": [
    "fig = plt.figure()\n",
    "ax = fig.add_subplot(111)\n",
    "ax.set_xlabel(\"time (h)\")\n",
    "ax.set_ylabel(\"number anastomosis per frame\")\n",
    "(theory,) = ax.plot(per_frame_anastomosis_theory[:-6])\n",
    "theory.set_label(\"theory\")\n",
    "(spotting,) = ax.plot(per_frame_anastomosis_spot[:-6])\n",
    "spotting.set_label(\"frame spotting\")\n",
    "ax.legend()\n",
    "plt.show()"
   ]
  },
  {
   "cell_type": "code",
   "execution_count": 27,
   "metadata": {},
   "outputs": [
    {
     "data": {
      "application/vnd.jupyter.widget-view+json": {
       "model_id": "6113694995814fe792d6f0c0e5a077a5",
       "version_major": 2,
       "version_minor": 0
      },
      "text/plain": [
       "Canvas(toolbar=Toolbar(toolitems=[('Home', 'Reset original view', 'home', 'home'), ('Back', 'Back to previous …"
      ]
     },
     "metadata": {},
     "output_type": "display_data"
    }
   ],
   "source": [
    "fig = plt.figure()\n",
    "ax = fig.add_subplot(111)\n",
    "ax.set_xlabel(\"time (h)\")\n",
    "ax.set_ylabel(\"total number of anastomosis\")\n",
    "(theory,) = ax.plot(number_anastomosis_theory[:-6])\n",
    "theory.set_label(\"theory\")\n",
    "(spotting,) = ax.plot(number_anastomosis_spot[:-6])\n",
    "spotting.set_label(\"frame spotting\")\n",
    "ax.legend()\n",
    "plt.show()"
   ]
  },
  {
   "cell_type": "code",
   "execution_count": 26,
   "metadata": {},
   "outputs": [],
   "source": [
    "plt.close(\"all\")"
   ]
  }
 ],
 "metadata": {
  "kernelspec": {
   "display_name": "cleanMsc",
   "language": "python",
   "name": "cleanmsc"
  },
  "language_info": {
   "codemirror_mode": {
    "name": "ipython",
    "version": 3
   },
   "file_extension": ".py",
   "mimetype": "text/x-python",
   "name": "python",
   "nbconvert_exporter": "python",
   "pygments_lexer": "ipython3",
   "version": "3.7.9"
  }
 },
 "nbformat": 4,
 "nbformat_minor": 4
}

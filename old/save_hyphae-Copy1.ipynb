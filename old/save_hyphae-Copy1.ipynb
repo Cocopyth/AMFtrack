{
 "cells": [
  {
   "cell_type": "code",
   "execution_count": 1,
   "metadata": {},
   "outputs": [],
   "source": [
    "%matplotlib widget\n",
    "from util import get_path\n",
    "import pandas as pd\n",
    "import networkx as nx\n",
    "import numpy as np\n",
    "import matplotlib.pyplot as plt\n",
    "from extract_graph import generate_nx_graph, transform_list, generate_skeleton, generate_nx_graph_from_skeleton, from_connection_tab\n",
    "from node_id import whole_movement_identification, second_identification\n",
    "import ast\n",
    "from plotutil import plot_t_tp1, compress_skeleton\n",
    "from scipy import sparse\n",
    "from sparse_util import dilate, zhangSuen\n",
    "from realign import realign\n",
    "from datetime import datetime,timedelta\n",
    "from node_id import orient\n",
    "import pickle\n",
    "from matplotlib.widgets import CheckButtons\n",
    "import scipy.io as sio\n",
    "import imageio\n",
    "from pymatreader import read_mat\n",
    "import os\n",
    "from matplotlib import colors\n",
    "from random import choice\n",
    "from experiment_class import Experiment,clean_exp_with_hyphaes\n",
    "from hyphae_id import relabel_nodes_after_amb, resolve_ambiguity"
   ]
  },
  {
   "cell_type": "code",
   "execution_count": 2,
   "metadata": {},
   "outputs": [],
   "source": [
    "plate = 13\n",
    "directory='//sun.amolf.nl/shimizu-data/home-folder/oyartegalvez/Drive_AMFtopology/PRINCE'\n",
    "listdir=os.listdir(directory) \n",
    "list_dir_interest=[name for name in listdir if name.split('_')[-1]==f'Plate{0 if plate<10 else \"\"}{plate}']\n",
    "ss=[name.split('_')[0] for name in list_dir_interest]\n",
    "ff=[name.split('_')[1] for name in list_dir_interest]\n",
    "dates_datetime=[datetime(year=int(ss[i][:4]),month=int(ss[i][4:6]),day=int(ss[i][6:8]),hour=int(ff[i][0:2]),minute=int(ff[i][2:4])) for i in range(len(list_dir_interest))]\n",
    "dates_datetime.sort()\n",
    "dates_datetime_chosen=dates_datetime[1:25]\n",
    "dates = [f'{0 if date.month<10 else \"\"}{date.month}{0 if date.day<10 else \"\"}{date.day}_{0 if date.hour<10 else \"\"}{date.hour}{0 if date.minute<10 else \"\"}{date.minute}' for date in dates_datetime_chosen]"
   ]
  },
  {
   "cell_type": "code",
   "execution_count": 3,
   "metadata": {},
   "outputs": [],
   "source": [
    "exp= Experiment(13)\n",
    "exp.load(dates,local=False,raw=False)"
   ]
  },
  {
   "cell_type": "code",
   "execution_count": 4,
   "metadata": {},
   "outputs": [
    {
     "name": "stdout",
     "output_type": "stream",
     "text": [
      "before getting hyphaes True\n",
      "0.0\n",
      "0.0658544616397761\n",
      "0.1317089232795522\n",
      "0.1975633849193283\n",
      "0.2634178465591044\n",
      "0.3292723081988805\n",
      "0.3951267698386566\n",
      "0.4609812314784327\n",
      "0.5268356931182088\n",
      "0.5926901547579848\n",
      "0.658544616397761\n",
      "0.724399078037537\n",
      "0.7902535396773132\n",
      "0.8561080013170892\n",
      "0.9219624629568653\n",
      "0.9878169245966414\n",
      "after getting hyphaes True\n",
      "removing  1824  nodes\n"
     ]
    }
   ],
   "source": [
    "exp_clean= clean_exp_with_hyphaes(exp)"
   ]
  },
  {
   "cell_type": "code",
   "execution_count": null,
   "metadata": {},
   "outputs": [],
   "source": [
    "from experiment_class import Node\n",
    "equ_class,ambig,connection=resolve_ambiguity(exp_clean.hyphaes)\n",
    "new_graph,newposs = relabel_nodes_after_amb(connection,exp_clean.nx_graph,exp_clean.positions)\n",
    "exp_relabeled = Experiment(13)\n",
    "exp_relabeled.copy(exp_clean)\n",
    "exp_relabeled.nx_graph = new_graph\n",
    "exp_relabeled.positions = newposs\n",
    "exp_relabeled.nodes=[]\n",
    "labels = {int(node) for g in exp_relabeled.nx_graph for node in g}\n",
    "for label in labels:\n",
    "    exp_relabeled.nodes.append(Node(label,exp_relabeled))\n",
    "exp_clean_relabeled= clean_exp_with_hyphaes(exp_relabeled)"
   ]
  },
  {
   "cell_type": "code",
   "execution_count": null,
   "metadata": {},
   "outputs": [],
   "source": [
    "get_mother(exp_clean_relabeled.hyphaes)"
   ]
  },
  {
   "cell_type": "code",
   "execution_count": null,
   "metadata": {},
   "outputs": [],
   "source": [
    "hyphs,gr_inf = save_hyphaes(exp_clean_relabeled)\n",
    "exp_clean_relabeled.save()"
   ]
  },
  {
   "cell_type": "code",
   "execution_count": null,
   "metadata": {},
   "outputs": [],
   "source": [
    "exp_clean_relabeled= clean_exp_with_hyphaes(exp_clean_relabeled)"
   ]
  },
  {
   "cell_type": "code",
   "execution_count": 6,
   "metadata": {},
   "outputs": [],
   "source": [
    "disapeared = [node for node in exp_relabeled.nodes if node not in exp_clean_relabeled.nodes]"
   ]
  },
  {
   "cell_type": "code",
   "execution_count": 7,
   "metadata": {},
   "outputs": [
    {
     "data": {
      "text/plain": [
       "79"
      ]
     },
     "execution_count": 7,
     "metadata": {},
     "output_type": "execute_result"
    }
   ],
   "source": [
    "len(disapeared)"
   ]
  },
  {
   "cell_type": "code",
   "execution_count": 12,
   "metadata": {},
   "outputs": [
    {
     "name": "stdout",
     "output_type": "stream",
     "text": [
      "[17]\n"
     ]
    }
   ],
   "source": [
    "node = choice(disapeared)\n",
    "print(node.ts())\n",
    "plt.close('all')"
   ]
  },
  {
   "cell_type": "code",
   "execution_count": 19,
   "metadata": {},
   "outputs": [],
   "source": [
    "def get_mother(hyphaes):\n",
    "    nodes_within={hyphae.end : {} for hyphae in hyphaes}\n",
    "    for  i,hyphae in enumerate(hyphaes):\n",
    "        if i%500==0:\n",
    "            print(i/len(hyphaes))\n",
    "        mothers=[]\n",
    "        t0 = hyphae.ts[0]\n",
    "        for hyph in hyphaes:\n",
    "            if t0 in hyph.ts and hyph.end != hyphae.end:\n",
    "                if t0 in nodes_within[hyph.end].keys():\n",
    "                    nodes_within_hyph = nodes_within[hyph.end][t0]\n",
    "                else:\n",
    "                    nodes_within_hyph = hyph.get_nodes_within(t0)[0]\n",
    "                    nodes_within[hyph.end][t0]= nodes_within_hyph\n",
    "                if hyphae.root.label in nodes_within_hyph:\n",
    "                    mothers.append(hyph)\n",
    "        hyphae.mother = mothers"
   ]
  },
  {
   "cell_type": "code",
   "execution_count": 387,
   "metadata": {},
   "outputs": [],
   "source": [
    "def get_pixel_growth_and_new_children(hyphae,t1,t2):\n",
    "    assert t1<t2, \"t1 should be strictly inferior to t2\"\n",
    "    edges = hyphae.get_nodes_within(t2)[1]\n",
    "    mini = np.inf\n",
    "    if t1 not in hyphae.ts:\n",
    "        pixels = []\n",
    "        nodes = [hyphae.root]\n",
    "        for edge in edges:\n",
    "            pixels.append(edge.pixel_list(t2))\n",
    "            nodes.append(edge.end)\n",
    "        return(pixels,nodes)\n",
    "    else : \n",
    "        if len(edges)==0:\n",
    "            print(hyphae.root,hyphae.end)\n",
    "            return([],[])\n",
    "        for i,edge in enumerate(edges):\n",
    "            distance = np.min(np.linalg.norm(hyphae.end.pos(t1)-np.array(edge.pixel_list(t2)),axis=1))\n",
    "            if distance < mini :\n",
    "                index = i\n",
    "                mini = distance\n",
    "                last_edge = edge\n",
    "                index_nearest_pixel=np.argmin(np.linalg.norm(hyphae.end.pos(t1)-np.array(edge.pixel_list(t2)),axis=1))\n",
    "        pixels = [last_edge.pixel_list(t2)[index_nearest_pixel:]]\n",
    "        nodes=[-1,last_edge.end]\n",
    "        for edge in edges[index+1:]:\n",
    "            pixels.append(edge.pixel_list(t2))\n",
    "            nodes.append(edge.end)\n",
    "        return(pixels,nodes)\n",
    "    \n",
    "    "
   ]
  },
  {
   "cell_type": "code",
   "execution_count": 393,
   "metadata": {},
   "outputs": [],
   "source": [
    "def save_hyphaes(exp,path = 'Data/'):\n",
    "    column_names_hyphaes = ['end','root', 'ts','mother']\n",
    "    column_names_growth_info = ['hyphae','t','t+1','nodes_in_hyphae', 'segment_of_growth_t_t+1','node_list_t_t+1']\n",
    "    hyphaes = pd.DataFrame(columns=column_names_hyphaes)\n",
    "    growth_info = pd.DataFrame(columns = column_names_growth_info)\n",
    "    for hyph in exp.hyphaes:\n",
    "        new_line_hyphae=pd.DataFrame({'end' : [hyph.end.label],'root' :[hyph.root.label], 'ts': [hyph.ts],'mother' : [-1 if len(hyph.mother)==0 else hyph.mother[0].end.label]}) #index 0 for \n",
    "        #mothers need to be modified to resolve multi mother issue\n",
    "        hyphaes=hyphaes.append(new_line_hyphae,ignore_index=True)\n",
    "        for index in range(len(hyph.ts[:-1])):\n",
    "            t = hyph.ts[index]\n",
    "            tp1 = hyph.ts[index+1]\n",
    "            pixels,nodes = get_pixel_growth_and_new_children(hyph,t,tp1)\n",
    "            new_line_growth=pd.DataFrame({'hyphae' : [hyph.end],'t' : [t],'t+1' : [tp1],'nodes_in_hyphae' :[hyph.get_nodes_within(t)], 'segment_of_growth_t_t+1' : [pixels],'node_list_t_t+1':[nodes]})\n",
    "            growth_info.append(new_line_growth,ignore_index = True)\n",
    "    path='Data/'\n",
    "    hyphs.to_csv(path + f'hyphaes_{exp.plate}_{exp.dates[0]}_{exp.dates[-1]}.csv')\n",
    "    gr_inf.to_csv(path + f'growth_info_{exp.plate}_{exp.dates[0]}_{exp.dates[-1]}.csv')\n",
    "    sio.savemat(path+f'hyphaes_{exp.plate}_{exp.dates[0]}_{exp.dates[-1]}.mat', {name: col.values for name, col in hyphs.items()})\n",
    "    sio.savemat(path+f'growth_info_{exp.plate}_{exp.dates[0]}_{exp.dates[-1]}.mat', {name: col.values for name, col in gr_inf.items()})\n",
    "    return(hyphaes,growth_info)"
   ]
  },
  {
   "cell_type": "code",
   "execution_count": null,
   "metadata": {},
   "outputs": [],
   "source": [
    "# def prune_graph(nx_graph,threshold=150):\n",
    "#     S = [nx_graph.subgraph(c).copy() for c in nx.connected_components(nx_graph)]\n",
    "#     len_connected=[len(nx_graph.nodes) for nx_graph in S]\n",
    "#     return(len_connected)\n",
    "# for i,nx_g in enumerate(exp_clean_relabeled.nx_graph):\n",
    "#     print(prune_graph(nx_g))"
   ]
  },
  {
   "cell_type": "code",
   "execution_count": 392,
   "metadata": {},
   "outputs": [],
   "source": [
    "path='Data/'\n",
    "hyphs.to_csv(path + f'hyphaes_{exp.plate}_{exp.dates[0]}_{exp.dates[-1]}.csv')\n",
    "gr_inf.to_csv(path + f'growth_info_{exp.plate}_{exp.dates[0]}_{exp.dates[-1]}.csv')\n",
    "sio.savemat(path+f'hyphaes_{exp.plate}_{exp.dates[0]}_{exp.dates[-1]}.mat', {name: col.values for name, col in hyphs.items()})\n",
    "sio.savemat(path+f'growth_info_{exp.plate}_{exp.dates[0]}_{exp.dates[-1]}.mat', {name: col.values for name, col in gr_inf.items()})"
   ]
  },
  {
   "cell_type": "code",
   "execution_count": 343,
   "metadata": {},
   "outputs": [
    {
     "data": {
      "application/vnd.jupyter.widget-view+json": {
       "model_id": "0401e05095234d469dfb0f2aea3bc410",
       "version_major": 2,
       "version_minor": 0
      },
      "text/plain": [
       "Canvas(toolbar=Toolbar(toolitems=[('Home', 'Reset original view', 'home', 'home'), ('Back', 'Back to previous …"
      ]
     },
     "metadata": {},
     "output_type": "display_data"
    }
   ],
   "source": [
    "exp_clean_relabeled.plot([6,7],[[hyph.end.label,hyph.root.label]]*2)"
   ]
  },
  {
   "cell_type": "code",
   "execution_count": 31,
   "metadata": {},
   "outputs": [],
   "source": [
    "has_mother = [hypha for hypha in exp_clean_relabeled.hyphaes if len(hypha.mother)>=1]"
   ]
  },
  {
   "cell_type": "code",
   "execution_count": 30,
   "metadata": {},
   "outputs": [
    {
     "data": {
      "text/plain": [
       "2655"
      ]
     },
     "execution_count": 30,
     "metadata": {},
     "output_type": "execute_result"
    }
   ],
   "source": [
    "len(exp_clean_relabeled.hyphaes)"
   ]
  },
  {
   "cell_type": "code",
   "execution_count": 66,
   "metadata": {},
   "outputs": [],
   "source": [
    "doesn_have_mother =  [hypha for hypha in exp_clean_relabeled.hyphaes if len(hypha.mother)==0]"
   ]
  },
  {
   "cell_type": "code",
   "execution_count": 168,
   "metadata": {},
   "outputs": [
    {
     "data": {
      "text/plain": [
       "(Hyphae(134,367),\n",
       " [0,\n",
       "  1,\n",
       "  2,\n",
       "  3,\n",
       "  4,\n",
       "  5,\n",
       "  6,\n",
       "  7,\n",
       "  8,\n",
       "  9,\n",
       "  10,\n",
       "  11,\n",
       "  12,\n",
       "  13,\n",
       "  14,\n",
       "  15,\n",
       "  16,\n",
       "  17,\n",
       "  18,\n",
       "  19,\n",
       "  20,\n",
       "  21,\n",
       "  22,\n",
       "  23])"
      ]
     },
     "execution_count": 168,
     "metadata": {},
     "output_type": "execute_result"
    }
   ],
   "source": [
    "hyphae = choice(doesn_have_mother)\n",
    "plt.close('all')\n",
    "hyphae,hyphae.ts"
   ]
  },
  {
   "cell_type": "code",
   "execution_count": 179,
   "metadata": {},
   "outputs": [
    {
     "data": {
      "text/plain": [
       "[Hyphae(21,5394), Hyphae(134,367)]"
      ]
     },
     "execution_count": 179,
     "metadata": {},
     "output_type": "execute_result"
    }
   ],
   "source": [
    "t=8\n",
    "hypo=[hyph for hyph in exp_clean_relabeled.hyphaes if t in hyph.ts and 367 in hyph.get_nodes_within(t)[0]][]"
   ]
  },
  {
   "cell_type": "code",
   "execution_count": 184,
   "metadata": {},
   "outputs": [
    {
     "name": "stdout",
     "output_type": "stream",
     "text": [
      "8 3\n",
      "9 3\n",
      "10 3\n",
      "11 3\n",
      "12 3\n",
      "13 3\n",
      "14 3\n",
      "15 3\n",
      "16 3\n",
      "17 3\n",
      "18 3\n",
      "19 3\n",
      "20 3\n",
      "21 3\n",
      "22 3\n"
     ]
    }
   ],
   "source": [
    "for t in range(23):\n",
    "    if exp_clean_relabeled.get_node(5394).is_in(t):\n",
    "        print(t,exp_clean_relabeled.get_node(5394).degree(t))"
   ]
  },
  {
   "cell_type": "code",
   "execution_count": 187,
   "metadata": {},
   "outputs": [
    {
     "name": "stdout",
     "output_type": "stream",
     "text": [
      "0 4\n",
      "1 3\n",
      "2 4\n",
      "3 3\n",
      "4 3\n",
      "5 3\n",
      "6 4\n",
      "7 4\n",
      "8 3\n",
      "9 3\n",
      "10 3\n",
      "11 3\n",
      "12 3\n",
      "13 3\n",
      "14 3\n",
      "15 3\n",
      "16 3\n",
      "17 3\n",
      "18 3\n",
      "19 3\n",
      "20 3\n",
      "21 3\n",
      "22 3\n"
     ]
    }
   ],
   "source": [
    "for t in range(23):\n",
    "    if exp_clean_relabeled.get_node(417).is_in(t):\n",
    "        print(t,exp_clean_relabeled.get_node(417).degree(t))"
   ]
  },
  {
   "cell_type": "code",
   "execution_count": 196,
   "metadata": {},
   "outputs": [
    {
     "data": {
      "text/plain": [
       "21"
      ]
     },
     "execution_count": 196,
     "metadata": {},
     "output_type": "execute_result"
    }
   ],
   "source": [
    "len(exp_clean_relabeled.get_node(5394).edges(8)[2].pixel_list(8))"
   ]
  },
  {
   "cell_type": "code",
   "execution_count": 198,
   "metadata": {},
   "outputs": [
    {
     "data": {
      "text/plain": [
       "3"
      ]
     },
     "execution_count": 198,
     "metadata": {},
     "output_type": "execute_result"
    }
   ],
   "source": [
    "exp_clean_relabeled.get_node(5394).edges(8)[0].begin.degree(8)"
   ]
  },
  {
   "cell_type": "code",
   "execution_count": 209,
   "metadata": {},
   "outputs": [],
   "source": [
    "def clean_degree_4(nx_graph,pos,thresh=30):\n",
    "    nx_graph_clean = nx.Graph.copy(nx_graph)\n",
    "    remaining_to_fuse=True\n",
    "    while remaining_to_fuse:\n",
    "        remaining_to_fuse=False\n",
    "        to_fuse=[]\n",
    "        for edge in nx_graph_clean.edges:\n",
    "            if nx_graph_clean.get_edge_data(*edge)['weight']<=thresh and nx_graph_clean.degree(edge[0])==3 and nx_graph_clean.degree(edge[1])==3:\n",
    "                to_fuse.append(edge)\n",
    "        nodes_to_fuse = [edge[0] for edge in to_fuse]+[edge[1] for edge in to_fuse]\n",
    "        occurence_count = Counter(nodes_to_fuse) \n",
    "        difficult_cases=[]\n",
    "#         for edge in to_fuse:\n",
    "#             node1=edge[0]\n",
    "#             node2=edge[1]\n",
    "#             if occurence_count[node1]!=1 and occurence_count[node2]!=1:\n",
    "#                 difficult_cases.append(edge)\n",
    "#             else:\n",
    "#                 remaining_to_fuse=True\n",
    "#                 if occurence_count[node1]==1:\n",
    "#                     pivot = node2\n",
    "#                     fuser = node1\n",
    "#                 else:\n",
    "#                     pivot = node1\n",
    "#                     fuser = node2\n",
    "#                 neighbours = list(nx_graph_clean.neighbors(fuser))\n",
    "#                 for neighbour in neighbours:\n",
    "#                     right_n = pivot\n",
    "#                     left_n = neighbour\n",
    "#                     right_edge = nx_graph_clean.get_edge_data(fuser,right_n)['pixel_list']\n",
    "#                     left_edge = nx_graph_clean.get_edge_data(fuser,left_n)['pixel_list']\n",
    "#                     if np.any(right_edge[0]!=pos[fuser]):\n",
    "#                         right_edge = list(reversed(right_edge))\n",
    "#                     if np.any(left_edge[-1]!=pos[fuser]):\n",
    "#                         left_edge = list(reversed(left_edge))\n",
    "#                     pixel_list = left_edge+right_edge[1:]\n",
    "#                     info={'weight':len(pixel_list),'pixel_list':pixel_list}\n",
    "#                     if right_n!=left_n:\n",
    "#                         connection_data=nx_graph_clean.get_edge_data(right_n,left_n)\n",
    "#                         if connection_data is None or connection_data['weight']>=info['weight']:\n",
    "#                             if not connection_data is None:\n",
    "#                                 nx_graph_clean.remove_edge(right_n,left_n)\n",
    "#                             nx_graph_clean.add_edges_from([(right_n,left_n,info)])\n",
    "#                 nx_graph_clean.remove_node(fuser)\n",
    "#         print(len(difficult_cases))\n",
    "#     print(len(nx_graph_clean.nodes))\n",
    "#     return(nx_graph_clean,difficult_cases)\n",
    "    return(occurence_count)"
   ]
  },
  {
   "cell_type": "code",
   "execution_count": 210,
   "metadata": {},
   "outputs": [],
   "source": [
    "to_f = clean_degree_4(exp.nx_graph[8],exp.positions[8])"
   ]
  },
  {
   "cell_type": "code",
   "execution_count": 213,
   "metadata": {},
   "outputs": [
    {
     "data": {
      "text/plain": [
       "215"
      ]
     },
     "execution_count": 213,
     "metadata": {},
     "output_type": "execute_result"
    }
   ],
   "source": [
    "len(to_f.keys())"
   ]
  },
  {
   "cell_type": "code",
   "execution_count": 189,
   "metadata": {},
   "outputs": [
    {
     "data": {
      "text/plain": [
       "28.600699292150182"
      ]
     },
     "execution_count": 189,
     "metadata": {},
     "output_type": "execute_result"
    }
   ],
   "source": [
    "np.linalg.norm(exp_clean_relabeled.get_node(5394).pos(10)-exp_clean_relabeled.get_node(417).pos(10))"
   ]
  },
  {
   "cell_type": "code",
   "execution_count": 186,
   "metadata": {},
   "outputs": [
    {
     "data": {
      "application/vnd.jupyter.widget-view+json": {
       "model_id": "3facfc3cec46406bad90f446c89712d7",
       "version_major": 2,
       "version_minor": 0
      },
      "text/plain": [
       "Canvas(toolbar=Toolbar(toolitems=[('Home', 'Reset original view', 'home', 'home'), ('Back', 'Back to previous …"
      ]
     },
     "metadata": {},
     "output_type": "display_data"
    }
   ],
   "source": [
    "exp.plot([6,7,8],[[hyphae.end.label,hyphae.root.label,21,5394,367,359,417]]*3)"
   ]
  },
  {
   "cell_type": "code",
   "execution_count": 149,
   "metadata": {},
   "outputs": [
    {
     "data": {
      "application/vnd.jupyter.widget-view+json": {
       "model_id": "c608822b8fd04e7f83e99d9becc3e8d7",
       "version_major": 2,
       "version_minor": 0
      },
      "text/plain": [
       "Canvas(toolbar=Toolbar(toolitems=[('Home', 'Reset original view', 'home', 'home'), ('Back', 'Back to previous …"
      ]
     },
     "metadata": {},
     "output_type": "display_data"
    }
   ],
   "source": [
    "exp_clean_relabeled.plot([11,12,13],[[hyphae.end.label,hyphae.root.label]]*3)"
   ]
  },
  {
   "cell_type": "code",
   "execution_count": 64,
   "metadata": {},
   "outputs": [
    {
     "data": {
      "text/plain": [
       "(Hyphae(3336,3335),\n",
       " [3, 4, 5, 6, 7, 8, 9, 10, 11, 12, 13, 14, 15, 16, 17, 18, 19, 20, 21, 22, 23],\n",
       " [Hyphae(37,48)],\n",
       " [0,\n",
       "  1,\n",
       "  2,\n",
       "  3,\n",
       "  4,\n",
       "  5,\n",
       "  6,\n",
       "  7,\n",
       "  8,\n",
       "  9,\n",
       "  10,\n",
       "  11,\n",
       "  12,\n",
       "  13,\n",
       "  14,\n",
       "  15,\n",
       "  16,\n",
       "  17,\n",
       "  18,\n",
       "  19,\n",
       "  20,\n",
       "  21,\n",
       "  22,\n",
       "  23])"
      ]
     },
     "execution_count": 64,
     "metadata": {},
     "output_type": "execute_result"
    }
   ],
   "source": [
    "hyphae = choice(has_mother)\n",
    "plt.close('all')\n",
    "hyphae,hyphae.ts,hyphae.mother, hyphae.mother[0].ts"
   ]
  },
  {
   "cell_type": "code",
   "execution_count": 65,
   "metadata": {},
   "outputs": [
    {
     "data": {
      "application/vnd.jupyter.widget-view+json": {
       "model_id": "78db0a25ab81452989308ded2b80dd7b",
       "version_major": 2,
       "version_minor": 0
      },
      "text/plain": [
       "Canvas(toolbar=Toolbar(toolitems=[('Home', 'Reset original view', 'home', 'home'), ('Back', 'Back to previous …"
      ]
     },
     "metadata": {},
     "output_type": "display_data"
    }
   ],
   "source": [
    "exp_clean_relabeled.plot([2,3,4],[[hyphae.end.label,hyphae.root.label,hyphae.mother[0].end.label,hyphae.mother[0].root.label]]*3)"
   ]
  },
  {
   "cell_type": "code",
   "execution_count": 13,
   "metadata": {},
   "outputs": [
    {
     "data": {
      "application/vnd.jupyter.widget-view+json": {
       "model_id": "32e84facc4bb467fbd3763c0701d9f79",
       "version_major": 2,
       "version_minor": 0
      },
      "text/plain": [
       "Canvas(toolbar=Toolbar(toolitems=[('Home', 'Reset original view', 'home', 'home'), ('Back', 'Back to previous …"
      ]
     },
     "metadata": {},
     "output_type": "display_data"
    }
   ],
   "source": [
    "exp_clean.plot([17,18],[[node.label]])"
   ]
  },
  {
   "cell_type": "code",
   "execution_count": 11,
   "metadata": {},
   "outputs": [
    {
     "data": {
      "application/vnd.jupyter.widget-view+json": {
       "model_id": "280bde084bb543a2adb6b9de70f84767",
       "version_major": 2,
       "version_minor": 0
      },
      "text/plain": [
       "Canvas(toolbar=Toolbar(toolitems=[('Home', 'Reset original view', 'home', 'home'), ('Back', 'Back to previous …"
      ]
     },
     "metadata": {},
     "output_type": "display_data"
    }
   ],
   "source": [
    "exp_clean_relabeled.plot([17,18],[[node.label]])"
   ]
  },
  {
   "cell_type": "code",
   "execution_count": null,
   "metadata": {},
   "outputs": [],
   "source": [
    "def final_clean(exp):\n",
    "    cleaning= True\n",
    "    while cleaning:\n",
    "        exp_clean= clean_exp_with_hyphaes(exp)\n",
    "        equ_class,ambig,connection=resolve_ambiguity(exp_clean.hyphaes)\n",
    "        new_graph,newposs = relabel_nodes_after_amb(connection,exp_clean.nx_graph,exp_clean.positions)\n",
    "        exp_relabeled = Experiment(13)\n",
    "        exp_relabeled.copy(exp_clean)\n",
    "        exp_relabeled.nx_graph = new_graph\n",
    "        exp_relabeled.positions = newposs\n",
    "        exp_relabeled.nodes=[]\n",
    "        labels = {int(node) for g in exp_relabeled.nx_graph for node in g}\n",
    "        for label in labels:\n",
    "            exp_relabeled.nodes.append(Node(label,exp_relabeled))\n",
    "        exp=exp_relabeled"
   ]
  },
  {
   "cell_type": "code",
   "execution_count": 5,
   "metadata": {},
   "outputs": [],
   "source": [
    "for hyphae in exp_clean.hyphaes:\n",
    "    hyphae.update_ts()"
   ]
  },
  {
   "cell_type": "code",
   "execution_count": 11,
   "metadata": {},
   "outputs": [],
   "source": [
    "def get_disapearing_roots(hyphaes):\n",
    "    problems=[]\n",
    "    for hyph in hyphaes:\n",
    "        for t in hyph.ts:\n",
    "            if t not in hyph.root.ts() or t not in hyph.end.ts():\n",
    "                problems.append(hyph)\n",
    "                continue\n",
    "    return(problems)"
   ]
  },
  {
   "cell_type": "code",
   "execution_count": 146,
   "metadata": {},
   "outputs": [
    {
     "data": {
      "text/plain": [
       "3006"
      ]
     },
     "execution_count": 146,
     "metadata": {},
     "output_type": "execute_result"
    }
   ],
   "source": [
    "len(connection.keys())"
   ]
  },
  {
   "cell_type": "code",
   "execution_count": 65,
   "metadata": {},
   "outputs": [
    {
     "data": {
      "text/plain": [
       "429"
      ]
     },
     "execution_count": 65,
     "metadata": {},
     "output_type": "execute_result"
    }
   ],
   "source": [
    "len([label for label in connection.keys() if connection[label]!=label])"
   ]
  },
  {
   "cell_type": "code",
   "execution_count": 193,
   "metadata": {},
   "outputs": [],
   "source": []
  },
  {
   "cell_type": "code",
   "execution_count": null,
   "metadata": {},
   "outputs": [],
   "source": [
    "new_graph,newposs = relabel_nodes_after_amb(connection,exp_clean.nx_graph,exp_clean.positions)"
   ]
  },
  {
   "cell_type": "code",
   "execution_count": null,
   "metadata": {},
   "outputs": [],
   "source": [
    "labels = {int(node) for g in exp_relabeled.nx_graph for node in g}"
   ]
  },
  {
   "cell_type": "code",
   "execution_count": null,
   "metadata": {},
   "outputs": [
    {
     "name": "stdout",
     "output_type": "stream",
     "text": [
      "before getting hyphaes True\n",
      "0.0\n",
      "0.06422607578676943\n",
      "0.12845215157353887\n",
      "0.1926782273603083\n",
      "0.25690430314707774\n",
      "0.32113037893384716\n",
      "0.3853564547206166\n",
      "0.449582530507386\n",
      "0.5138086062941555\n",
      "0.5780346820809249\n",
      "0.6422607578676943\n",
      "0.7064868336544637\n",
      "0.7707129094412332\n",
      "0.8349389852280026\n",
      "0.899165061014772\n",
      "0.9633911368015414\n",
      "after getting hyphaes True\n",
      "removing  158  nodes\n",
      "removing False\n",
      "before pruning True\n",
      "after pruning True\n"
     ]
    }
   ],
   "source": [
    "exp_relabeled = Experiment(13)\n",
    "exp_relabeled.copy(exp_clean)\n",
    "exp_relabeled.nx_graph = new_graph\n",
    "exp_relabeled.positions = newposs\n",
    "exp_relabeled.nodes=[]\n",
    "labels = {int(node) for g in exp_relabeled.nx_graph for node in g}\n",
    "for label in labels:\n",
    "    exp_relabeled.nodes.append(Node(label,exp_relabeled))\n",
    "exp_clean_relabeled= clean_exp_with_hyphaes(exp_relabeled)"
   ]
  },
  {
   "cell_type": "code",
   "execution_count": 186,
   "metadata": {},
   "outputs": [
    {
     "data": {
      "text/plain": [
       "(8536, 9044, 11036)"
      ]
     },
     "execution_count": 186,
     "metadata": {},
     "output_type": "execute_result"
    }
   ],
   "source": [
    "len(exp_clean_relabeled.nodes),len(exp_clean.nodes),len(exp.nodes)"
   ]
  },
  {
   "cell_type": "code",
   "execution_count": 187,
   "metadata": {},
   "outputs": [],
   "source": [
    "disapeared = [node for node in exp_clean_relabeled.nodes if node not in exp_clean.nodes]"
   ]
  },
  {
   "cell_type": "code",
   "execution_count": 191,
   "metadata": {},
   "outputs": [],
   "source": [
    "labels = [node.label for node in exp_clean_relabeled.nodes]\n",
    "labels2 = [node.label for node in exp_clean.nodes]\n"
   ]
  },
  {
   "cell_type": "code",
   "execution_count": 192,
   "metadata": {},
   "outputs": [
    {
     "data": {
      "text/plain": [
       "(13051.53725398313, 5449.03339230429)"
      ]
     },
     "execution_count": 192,
     "metadata": {},
     "output_type": "execute_result"
    }
   ],
   "source": [
    "np.mean(labels),np.mean(labels2)"
   ]
  },
  {
   "cell_type": "code",
   "execution_count": 188,
   "metadata": {},
   "outputs": [
    {
     "data": {
      "text/plain": [
       "5959"
      ]
     },
     "execution_count": 188,
     "metadata": {},
     "output_type": "execute_result"
    }
   ],
   "source": [
    "len(disapeared)"
   ]
  },
  {
   "cell_type": "code",
   "execution_count": 156,
   "metadata": {},
   "outputs": [
    {
     "data": {
      "text/plain": [
       "[7, 8, 9, 10, 11, 12, 13, 14, 15, 16, 17, 18, 19, 20, 21, 22, 23]"
      ]
     },
     "execution_count": 156,
     "metadata": {},
     "output_type": "execute_result"
    }
   ],
   "source": [
    "exp_relabeled_clean_relabeled.get_node(38060).ts()"
   ]
  },
  {
   "cell_type": "code",
   "execution_count": 162,
   "metadata": {},
   "outputs": [
    {
     "data": {
      "application/vnd.jupyter.widget-view+json": {
       "model_id": "27ee989faf304dc7bf3638d04f3b74d9",
       "version_major": 2,
       "version_minor": 0
      },
      "text/plain": [
       "Canvas(toolbar=Toolbar(toolitems=[('Home', 'Reset original view', 'home', 'home'), ('Back', 'Back to previous …"
      ]
     },
     "metadata": {},
     "output_type": "display_data"
    }
   ],
   "source": [
    "exp_relabeled_clean_relabeled.plot([20,21],[[38060,42610,38015,38017,42600]])"
   ]
  },
  {
   "cell_type": "code",
   "execution_count": 169,
   "metadata": {},
   "outputs": [
    {
     "name": "stdout",
     "output_type": "stream",
     "text": [
      "before getting hyphaes False\n",
      "0.0\n",
      "0.07507507507507508\n",
      "0.15015015015015015\n",
      "0.22522522522522523\n",
      "0.3003003003003003\n",
      "0.37537537537537535\n",
      "20 38060 42610\n",
      "20 38060 38015\n",
      "20 38060 38017\n",
      "20 38060 42600\n",
      "20 38060 42610\n",
      "20 38060 38015\n",
      "20 38060 38017\n",
      "20 38060 42600\n",
      "20 38060 42610\n",
      "20 38060 38015\n",
      "20 38060 38017\n",
      "0.45045045045045046\n",
      "0.5255255255255256\n",
      "0.6006006006006006\n",
      "0.6756756756756757\n",
      "0.7507507507507507\n",
      "20 9496 38017\n",
      "20 9496 42600\n",
      "20 9496 42610\n",
      "20 9496 38015\n",
      "20 9496 38017\n",
      "20 9496 42600\n",
      "20 9496 42610\n",
      "20 9496 38015\n",
      "20 9496 38017\n",
      "20 9496 42600\n",
      "20 9496 42610\n",
      "0.8258258258258259\n",
      "0.9009009009009009\n",
      "0.975975975975976\n",
      "after getting hyphaes False\n",
      "removing  110  nodes\n",
      "removing False\n",
      "before pruning False\n",
      "after pruning False\n",
      "before changing nx_graph False\n",
      "after changing nx_graph False\n"
     ]
    }
   ],
   "source": [
    "equ_class,ambig,connection=resolve_ambiguity(exp_clean_relabeled.hyphaes)\n",
    "new_graph,newposs = relabel_nodes_after_amb(connection,exp_clean_relabeled.nx_graph,exp_clean_relabeled.positions)\n",
    "exp_relabeled_clean_relabeled = Experiment(13)\n",
    "exp_relabeled_clean_relabeled.copy(exp_clean_relabeled)\n",
    "exp_relabeled_clean_relabeled.nx_graph = new_graph\n",
    "exp_relabeled_clean_relabeled.positions = newposs\n",
    "exp_relabeled_clean_relabeled.nodes=[]\n",
    "labels = {int(node) for g in exp_relabeled_clean_relabeled.nx_graph for node in g}\n",
    "for label in labels:\n",
    "    exp_relabeled_clean_relabeled.nodes.append(Node(label,exp_relabeled_clean_relabeled))\n",
    "exp_clean_relabeled_clean_relabeled= clean_exp_with_hyphaes(exp_relabeled_clean_relabeled)"
   ]
  },
  {
   "cell_type": "code",
   "execution_count": null,
   "metadata": {},
   "outputs": [],
   "source": [
    "exp_clean_relabeled_clean_relabeled.hyphaes"
   ]
  },
  {
   "cell_type": "code",
   "execution_count": 172,
   "metadata": {},
   "outputs": [
    {
     "name": "stdout",
     "output_type": "stream",
     "text": [
      "before getting hyphaes False\n",
      "0.0\n",
      "0.07507507507507508\n",
      "0.15015015015015015\n",
      "0.22522522522522523\n",
      "0.3003003003003003\n",
      "0.37537537537537535\n",
      "0.45045045045045046\n",
      "0.5255255255255256\n",
      "0.6006006006006006\n",
      "0.6756756756756757\n",
      "0.7507507507507507\n",
      "0.8258258258258259\n",
      "20 9496 82161\n",
      "20 9496 86744\n",
      "20 9496 86754\n",
      "20 9496 82159\n",
      "20 9496 82161\n",
      "20 9496 86744\n",
      "20 9496 86754\n",
      "20 9496 82159\n",
      "20 9496 82161\n",
      "20 9496 86744\n",
      "20 9496 86754\n",
      "0.9009009009009009\n",
      "0.975975975975976\n",
      "20 82204 86754\n",
      "20 82204 82159\n",
      "20 82204 82161\n",
      "20 82204 86744\n",
      "20 82204 86754\n",
      "20 82204 82159\n",
      "20 82204 82161\n",
      "20 82204 86744\n",
      "20 82204 86754\n",
      "20 82204 82159\n",
      "20 82204 82161\n",
      "after getting hyphaes False\n",
      "removing  106  nodes\n",
      "removing False\n",
      "before pruning False\n",
      "after pruning False\n",
      "before changing nx_graph False\n",
      "after changing nx_graph False\n"
     ]
    }
   ],
   "source": [
    "equ_class,ambig,connection=resolve_ambiguity(exp_clean_relabeled_clean_relabeled.hyphaes)\n",
    "new_graph,newposs = relabel_nodes_after_amb(connection,exp_clean_relabeled_clean_relabeled.nx_graph,exp_clean_relabeled_clean_relabeled.positions)\n",
    "exp_relabeled_clean_relabeled.nx_graph = new_graph\n",
    "exp_relabeled_clean_relabeled.positions = newposs\n",
    "exp_relabeled_clean_relabeled.nodes=[]\n",
    "labels = {int(node) for g in exp_relabeled_clean_relabeled.nx_graph for node in g}\n",
    "for label in labels:\n",
    "    exp_relabeled_clean_relabeled.nodes.append(Node(label,exp_relabeled_clean_relabeled))\n",
    "exp_clean_relabeled_clean_relabeled= clean_exp_with_hyphaes(exp_relabeled_clean_relabeled)"
   ]
  },
  {
   "cell_type": "code",
   "execution_count": 174,
   "metadata": {},
   "outputs": [],
   "source": [
    "disapearing = [node for node in exp_clean_relabeled.nodes if node not in exp_clean_relabeled_clean_relabeled.nodes]"
   ]
  },
  {
   "cell_type": "code",
   "execution_count": 176,
   "metadata": {},
   "outputs": [
    {
     "data": {
      "text/plain": [
       "Node(19031)"
      ]
     },
     "execution_count": 176,
     "metadata": {},
     "output_type": "execute_result"
    }
   ],
   "source": [
    "choice(disapearing)"
   ]
  },
  {
   "cell_type": "code",
   "execution_count": 83,
   "metadata": {},
   "outputs": [],
   "source": [
    "relabeled = [label for label in connection.keys() if connection[label]!=label]"
   ]
  },
  {
   "cell_type": "code",
   "execution_count": 93,
   "metadata": {},
   "outputs": [],
   "source": [
    "label = connection[choice(relabeled)]\n",
    "exp_relabeled.get_node(label).ts(),exp_clean.get_node(label).ts()\n",
    "plt.close('all')"
   ]
  },
  {
   "cell_type": "code",
   "execution_count": 96,
   "metadata": {},
   "outputs": [
    {
     "data": {
      "application/vnd.jupyter.widget-view+json": {
       "model_id": "11d12bde8243445d90db42772f5a9f75",
       "version_major": 2,
       "version_minor": 0
      },
      "text/plain": [
       "Canvas(toolbar=Toolbar(toolitems=[('Home', 'Reset original view', 'home', 'home'), ('Back', 'Back to previous …"
      ]
     },
     "metadata": {},
     "output_type": "display_data"
    }
   ],
   "source": [
    "exp_relabeled.plot([14,15,16],[[label]]*3)"
   ]
  },
  {
   "cell_type": "code",
   "execution_count": 14,
   "metadata": {},
   "outputs": [],
   "source": [
    "solved={x for liste in connection.values() for x in liste}.union({key for key in connection.keys() if len(connection[key])>=1})"
   ]
  },
  {
   "cell_type": "code",
   "execution_count": 15,
   "metadata": {},
   "outputs": [
    {
     "data": {
      "text/plain": [
       "695"
      ]
     },
     "execution_count": 15,
     "metadata": {},
     "output_type": "execute_result"
    }
   ],
   "source": [
    "len(solved)"
   ]
  },
  {
   "cell_type": "code",
   "execution_count": 16,
   "metadata": {},
   "outputs": [
    {
     "data": {
      "text/plain": [
       "1178"
      ]
     },
     "execution_count": 16,
     "metadata": {},
     "output_type": "execute_result"
    }
   ],
   "source": [
    "len(ambig)"
   ]
  },
  {
   "cell_type": "code",
   "execution_count": 310,
   "metadata": {},
   "outputs": [],
   "source": [
    "hard_ambig = [ambi for ambi in ambig if len(set(ambi[0].ts).intersection(set(ambi[1].ts)))>=1]"
   ]
  },
  {
   "cell_type": "code",
   "execution_count": null,
   "metadata": {},
   "outputs": [],
   "source": [
    "set(ambig[0][1].ts)"
   ]
  },
  {
   "cell_type": "code",
   "execution_count": 22,
   "metadata": {},
   "outputs": [],
   "source": [
    "weird= [ambi for ambi in ambig if len(set(ambi[0].ts).intersection(set(ambi[1].ts)))==0 if ambi[0] not in solved]"
   ]
  },
  {
   "cell_type": "code",
   "execution_count": 470,
   "metadata": {},
   "outputs": [],
   "source": [
    "inter=[c for c in hard_ambig if len(c[0].ts)>=2 and len(c[1].ts)>=2]"
   ]
  },
  {
   "cell_type": "code",
   "execution_count": 23,
   "metadata": {},
   "outputs": [
    {
     "data": {
      "text/plain": [
       "19"
      ]
     },
     "execution_count": 23,
     "metadata": {},
     "output_type": "execute_result"
    }
   ],
   "source": [
    "len(weird)"
   ]
  },
  {
   "cell_type": "code",
   "execution_count": 97,
   "metadata": {},
   "outputs": [],
   "source": [
    "hyphaes_prob=choice(weird)\n",
    "plt.close('all')"
   ]
  },
  {
   "cell_type": "code",
   "execution_count": 98,
   "metadata": {},
   "outputs": [
    {
     "data": {
      "text/plain": [
       "([1, 2, 3, 4, 5, 6, 7, 8], [17, 18, 19, 20, 21, 22, 23])"
      ]
     },
     "execution_count": 98,
     "metadata": {},
     "output_type": "execute_result"
    }
   ],
   "source": [
    "hyphaes_prob[0].ts,hyphaes_prob[1].ts"
   ]
  },
  {
   "cell_type": "code",
   "execution_count": 102,
   "metadata": {},
   "outputs": [
    {
     "data": {
      "text/plain": [
       "(Hyphae(2933,2948), Hyphae(8452,2948))"
      ]
     },
     "execution_count": 102,
     "metadata": {},
     "output_type": "execute_result"
    }
   ],
   "source": [
    "hyphaes_prob[0],hyphaes_prob[1]"
   ]
  },
  {
   "cell_type": "code",
   "execution_count": 101,
   "metadata": {},
   "outputs": [],
   "source": [
    "boundaries = [node.label for mother in hyphaes_prob for node in [mother.end,mother.root]]"
   ]
  },
  {
   "cell_type": "code",
   "execution_count": 53,
   "metadata": {},
   "outputs": [
    {
     "data": {
      "text/plain": [
       "259.1100152444903"
      ]
     },
     "execution_count": 53,
     "metadata": {},
     "output_type": "execute_result"
    }
   ],
   "source": [
    "np.linalg.norm(hyphaes_prob[0].end.pos(19)-hyphaes_prob[1].end.pos(20))"
   ]
  },
  {
   "cell_type": "code",
   "execution_count": 536,
   "metadata": {},
   "outputs": [],
   "source": [
    "added_labels = [node.label for node in hyphaes_prob[0].end.neighbours(9)]+[node.label for node in hyphaes_prob[0].end.neighbours(9)[1].neighbours(10)]"
   ]
  },
  {
   "cell_type": "code",
   "execution_count": 557,
   "metadata": {},
   "outputs": [],
   "source": [
    "added_labels = [node.label for node in hyphaes_prob[0].end.neighbours(6)]"
   ]
  },
  {
   "cell_type": "code",
   "execution_count": 52,
   "metadata": {},
   "outputs": [
    {
     "data": {
      "text/plain": [
       "array([ 974, 4607], dtype=int32)"
      ]
     },
     "execution_count": 52,
     "metadata": {},
     "output_type": "execute_result"
    }
   ],
   "source": [
    "exp_clean.get_node(9080).pos(19)//5"
   ]
  },
  {
   "cell_type": "code",
   "execution_count": 50,
   "metadata": {},
   "outputs": [
    {
     "data": {
      "text/plain": [
       "[9080, 9079, 9379, 9079]"
      ]
     },
     "execution_count": 50,
     "metadata": {},
     "output_type": "execute_result"
    }
   ],
   "source": [
    "boundaries"
   ]
  },
  {
   "cell_type": "code",
   "execution_count": 561,
   "metadata": {},
   "outputs": [],
   "source": [
    "plt.close('all')"
   ]
  },
  {
   "cell_type": "code",
   "execution_count": 69,
   "metadata": {},
   "outputs": [
    {
     "data": {
      "text/plain": [
       "[10]"
      ]
     },
     "execution_count": 69,
     "metadata": {},
     "output_type": "execute_result"
    }
   ],
   "source": [
    "hyphaes_prob[1].end.ts()"
   ]
  },
  {
   "cell_type": "code",
   "execution_count": 106,
   "metadata": {},
   "outputs": [
    {
     "data": {
      "text/plain": [
       "True"
      ]
     },
     "execution_count": 106,
     "metadata": {},
     "output_type": "execute_result"
    }
   ],
   "source": [
    "exp_clean.get_node(8452) in solved"
   ]
  },
  {
   "cell_type": "code",
   "execution_count": 100,
   "metadata": {},
   "outputs": [
    {
     "data": {
      "application/vnd.jupyter.widget-view+json": {
       "model_id": "61e9398d734549da8fac2c6e2913699e",
       "version_major": 2,
       "version_minor": 0
      },
      "text/plain": [
       "Canvas(toolbar=Toolbar(toolitems=[('Home', 'Reset original view', 'home', 'home'), ('Back', 'Back to previous …"
      ]
     },
     "metadata": {},
     "output_type": "display_data"
    }
   ],
   "source": [
    "exp_clean.plot([8,17],[boundaries]*2)"
   ]
  },
  {
   "cell_type": "code",
   "execution_count": 103,
   "metadata": {},
   "outputs": [
    {
     "data": {
      "application/vnd.jupyter.widget-view+json": {
       "model_id": "5886343869714603963d83dbc0193ba3",
       "version_major": 2,
       "version_minor": 0
      },
      "text/plain": [
       "Canvas(toolbar=Toolbar(toolitems=[('Home', 'Reset original view', 'home', 'home'), ('Back', 'Back to previous …"
      ]
     },
     "metadata": {},
     "output_type": "display_data"
    }
   ],
   "source": [
    "exp.plot([8,17],[boundaries]*2)"
   ]
  },
  {
   "cell_type": "code",
   "execution_count": 104,
   "metadata": {},
   "outputs": [
    {
     "data": {
      "application/vnd.jupyter.widget-view+json": {
       "model_id": "90b40083b388412e9c2a80afaeb000af",
       "version_major": 2,
       "version_minor": 0
      },
      "text/plain": [
       "Canvas(toolbar=Toolbar(toolitems=[('Home', 'Reset original view', 'home', 'home'), ('Back', 'Back to previous …"
      ]
     },
     "metadata": {},
     "output_type": "display_data"
    }
   ],
   "source": [
    "node=hyphaes_prob[0].end\n",
    "node.show_source_image(8)"
   ]
  },
  {
   "cell_type": "code",
   "execution_count": 462,
   "metadata": {},
   "outputs": [
    {
     "data": {
      "application/vnd.jupyter.widget-view+json": {
       "model_id": "14fbb725fc35479c9ebab156c26f7e40",
       "version_major": 2,
       "version_minor": 0
      },
      "text/plain": [
       "Canvas(toolbar=Toolbar(toolitems=[('Home', 'Reset original view', 'home', 'home'), ('Back', 'Back to previous …"
      ]
     },
     "metadata": {},
     "output_type": "display_data"
    }
   ],
   "source": [
    "node=hyphaes_prob[1].end\n",
    "node.show_source_image(22)"
   ]
  },
  {
   "cell_type": "code",
   "execution_count": 107,
   "metadata": {},
   "outputs": [
    {
     "data": {
      "text/plain": [
       "(3448, 0)"
      ]
     },
     "execution_count": 107,
     "metadata": {},
     "output_type": "execute_result"
    }
   ],
   "source": [
    "len(exp_clean.hyphaes),len(ambig)"
   ]
  },
  {
   "cell_type": "code",
   "execution_count": 108,
   "metadata": {},
   "outputs": [],
   "source": [
    "hyphae=choice(exp_clean.hyphaes)\n",
    "plt.close('all')"
   ]
  },
  {
   "cell_type": "code",
   "execution_count": null,
   "metadata": {},
   "outputs": [],
   "source": []
  },
  {
   "cell_type": "code",
   "execution_count": 214,
   "metadata": {},
   "outputs": [],
   "source": [
    "def get_mother(hyphaes):\n",
    "    nodes_within={hyphae.end : {} for hyphae in hyphaes}\n",
    "    for  i,hyphae in enumerate(hyphaes):\n",
    "        if i%500==0:\n",
    "            print(i/len(hyphaes))\n",
    "        mothers=[]\n",
    "        t0 = hyphae.ts[0]\n",
    "        for hyph in hyphaes:\n",
    "            if t0 in hyph.ts and hyph.end != hyphae.end:\n",
    "                if t0 in nodes_within[hyph.end].keys():\n",
    "                    nodes_within_hyph = nodes_within[hyph.end][t0]\n",
    "                else:\n",
    "                    nodes_within_hyph = hyph.get_nodes_within(t0)[0]\n",
    "                    nodes_within[hyph.end][t0]= nodes_within_hyph\n",
    "                if hyphae.end.label == 5464:\n",
    "                    if hyph.end.label == 1622:\n",
    "                        print(nodes_within_hyph)\n",
    "                if hyphae.root.label in nodes_within_hyph:\n",
    "                    mothers.append(hyph)\n",
    "        hyphae.mother = mothers\n",
    "                    \n",
    "#     candidate_mother=[]\n",
    "#     for hyphae in hyph.experiment.hyphaes:\n",
    "#         if hyphae.end != hyph.end:\n",
    "#             found = False\n",
    "#             for t in hyphae.ts:\n",
    "#                 if hyphae.root.is_in(t):\n",
    "#                     if hyph.root.label in hyphae.get_nodes_within(t)[0] and hyph.root.label != hyphae.root.label and not found and hyphae.end.pos(t)[0]<19500:\n",
    "#                         candidate_mother.append(hyphae)\n",
    "#                         found = True\n",
    "#     return(candidate_mother)"
   ]
  },
  {
   "cell_type": "code",
   "execution_count": 116,
   "metadata": {},
   "outputs": [],
   "source": [
    "# def get_mother(hyph):\n",
    "#     candidate_mother=[]\n",
    "#     for hyphae in hyph.experiment.hyphaes:\n",
    "#         if hyphae.end != hyph.end:\n",
    "#             found = False\n",
    "#             for t in hyphae.ts:\n",
    "#                 if hyphae.root.is_in(t):\n",
    "#                     if hyph.root.label in hyphae.get_nodes_within(t)[0] and hyph.root.label != hyphae.root.label and not found and hyphae.end.pos(t)[0]<19500:\n",
    "#                         candidate_mother.append(hyphae)\n",
    "#                         found = True\n",
    "#     return(candidate_mother)"
   ]
  },
  {
   "cell_type": "code",
   "execution_count": 168,
   "metadata": {},
   "outputs": [
    {
     "ename": "TypeError",
     "evalue": "'Hyphae' object is not iterable",
     "output_type": "error",
     "traceback": [
      "\u001b[1;31m---------------------------------------------------------------------------\u001b[0m",
      "\u001b[1;31mTypeError\u001b[0m                                 Traceback (most recent call last)",
      "\u001b[1;32m<ipython-input-168-766c93516227>\u001b[0m in \u001b[0;36m<module>\u001b[1;34m\u001b[0m\n\u001b[0;32m      2\u001b[0m     \u001b[0mhyphae\u001b[0m\u001b[1;33m=\u001b[0m\u001b[0mchoice\u001b[0m\u001b[1;33m(\u001b[0m\u001b[0mexp_clean\u001b[0m\u001b[1;33m.\u001b[0m\u001b[0mhyphaes\u001b[0m\u001b[1;33m)\u001b[0m\u001b[1;33m\u001b[0m\u001b[1;33m\u001b[0m\u001b[0m\n\u001b[0;32m      3\u001b[0m     \u001b[1;32mif\u001b[0m \u001b[0mlen\u001b[0m\u001b[1;33m(\u001b[0m\u001b[0mhyphae\u001b[0m\u001b[1;33m.\u001b[0m\u001b[0mts\u001b[0m\u001b[1;33m)\u001b[0m\u001b[1;33m>=\u001b[0m\u001b[1;36m2\u001b[0m\u001b[1;33m:\u001b[0m\u001b[1;33m\u001b[0m\u001b[1;33m\u001b[0m\u001b[0m\n\u001b[1;32m----> 4\u001b[1;33m         \u001b[0mmothers\u001b[0m \u001b[1;33m=\u001b[0m \u001b[0mget_mother\u001b[0m\u001b[1;33m(\u001b[0m\u001b[0mhyphae\u001b[0m\u001b[1;33m)\u001b[0m\u001b[1;33m\u001b[0m\u001b[1;33m\u001b[0m\u001b[0m\n\u001b[0m\u001b[0;32m      5\u001b[0m         \u001b[0mprint\u001b[0m\u001b[1;33m(\u001b[0m\u001b[0mmothers\u001b[0m\u001b[1;33m)\u001b[0m\u001b[1;33m\u001b[0m\u001b[1;33m\u001b[0m\u001b[0m\n\u001b[0;32m      6\u001b[0m         \u001b[1;32mif\u001b[0m \u001b[0mlen\u001b[0m\u001b[1;33m(\u001b[0m\u001b[0mmothers\u001b[0m\u001b[1;33m)\u001b[0m\u001b[1;33m>=\u001b[0m\u001b[1;36m2\u001b[0m\u001b[1;33m:\u001b[0m\u001b[1;33m\u001b[0m\u001b[1;33m\u001b[0m\u001b[0m\n",
      "\u001b[1;32m<ipython-input-167-ba9c5f8ac83c>\u001b[0m in \u001b[0;36mget_mother\u001b[1;34m(hyphaes)\u001b[0m\n\u001b[0;32m      1\u001b[0m \u001b[1;32mdef\u001b[0m \u001b[0mget_mother\u001b[0m\u001b[1;33m(\u001b[0m\u001b[0mhyphaes\u001b[0m\u001b[1;33m)\u001b[0m\u001b[1;33m:\u001b[0m\u001b[1;33m\u001b[0m\u001b[1;33m\u001b[0m\u001b[0m\n\u001b[1;32m----> 2\u001b[1;33m     \u001b[0mnodes_within\u001b[0m\u001b[1;33m=\u001b[0m\u001b[1;33m{\u001b[0m\u001b[0mhyphae\u001b[0m\u001b[1;33m.\u001b[0m\u001b[0mend\u001b[0m \u001b[1;33m:\u001b[0m \u001b[1;33m{\u001b[0m\u001b[1;33m}\u001b[0m \u001b[1;32mfor\u001b[0m \u001b[0mhyphae\u001b[0m \u001b[1;32min\u001b[0m \u001b[0mhyphaes\u001b[0m\u001b[1;33m}\u001b[0m\u001b[1;33m\u001b[0m\u001b[1;33m\u001b[0m\u001b[0m\n\u001b[0m\u001b[0;32m      3\u001b[0m     \u001b[1;32mfor\u001b[0m  \u001b[0mi\u001b[0m\u001b[1;33m,\u001b[0m\u001b[0mhyphae\u001b[0m \u001b[1;32min\u001b[0m \u001b[0menumerate\u001b[0m\u001b[1;33m(\u001b[0m\u001b[0mhyphaes\u001b[0m\u001b[1;33m)\u001b[0m\u001b[1;33m:\u001b[0m\u001b[1;33m\u001b[0m\u001b[1;33m\u001b[0m\u001b[0m\n\u001b[0;32m      4\u001b[0m         \u001b[1;32mif\u001b[0m \u001b[0mi\u001b[0m\u001b[1;33m%\u001b[0m\u001b[1;36m500\u001b[0m\u001b[1;33m==\u001b[0m\u001b[1;36m0\u001b[0m\u001b[1;33m:\u001b[0m\u001b[1;33m\u001b[0m\u001b[1;33m\u001b[0m\u001b[0m\n\u001b[0;32m      5\u001b[0m             \u001b[0mprint\u001b[0m\u001b[1;33m(\u001b[0m\u001b[0mi\u001b[0m\u001b[1;33m/\u001b[0m\u001b[0mlen\u001b[0m\u001b[1;33m(\u001b[0m\u001b[0mhyphaes\u001b[0m\u001b[1;33m)\u001b[0m\u001b[1;33m)\u001b[0m\u001b[1;33m\u001b[0m\u001b[1;33m\u001b[0m\u001b[0m\n",
      "\u001b[1;31mTypeError\u001b[0m: 'Hyphae' object is not iterable"
     ]
    }
   ],
   "source": [
    "# for i in range(20):\n",
    "#     hyphae=choice(exp_clean.hyphaes)\n",
    "#     if len(hyphae.ts)>=2:\n",
    "#         mothers = get_mother(hyphae)\n",
    "#         print(mothers)\n",
    "#         if len(mothers)>=2:\n",
    "#             break"
   ]
  },
  {
   "cell_type": "code",
   "execution_count": 215,
   "metadata": {},
   "outputs": [
    {
     "name": "stdout",
     "output_type": "stream",
     "text": [
      "0.0\n",
      "0.14501160092807425\n",
      "0.2900232018561485\n",
      "0.43503480278422274\n",
      "[2322, 2147, 2074, 4843, 4842, 4840, 4838, 5465, 5466, 1622]\n",
      "0.580046403712297\n",
      "0.7250580046403712\n",
      "0.8700696055684455\n"
     ]
    }
   ],
   "source": [
    "get_mother(exp_clean.hyphaes)"
   ]
  },
  {
   "cell_type": "code",
   "execution_count": 216,
   "metadata": {},
   "outputs": [
    {
     "data": {
      "text/plain": [
       "630"
      ]
     },
     "execution_count": 216,
     "metadata": {},
     "output_type": "execute_result"
    }
   ],
   "source": [
    "ambiguous_mothers = [hyphae for hyphae in exp_clean.hyphaes if len(hyphae.mother)>=2]"
   ]
  },
  {
   "cell_type": "code",
   "execution_count": 217,
   "metadata": {},
   "outputs": [
    {
     "data": {
      "text/plain": [
       "679"
      ]
     },
     "execution_count": 217,
     "metadata": {},
     "output_type": "execute_result"
    }
   ],
   "source": [
    "no_moter = [hyphae for hyphae in exp_clean.hyphaes if len(hyphae.mother)==0]"
   ]
  },
  {
   "cell_type": "code",
   "execution_count": 218,
   "metadata": {},
   "outputs": [
    {
     "data": {
      "text/plain": [
       "3448"
      ]
     },
     "execution_count": 218,
     "metadata": {},
     "output_type": "execute_result"
    }
   ],
   "source": [
    "len(exp_clean.hyphaes)"
   ]
  },
  {
   "cell_type": "code",
   "execution_count": 228,
   "metadata": {},
   "outputs": [],
   "source": [
    "hyphae = choice(exp_clean.hyphaes)"
   ]
  },
  {
   "cell_type": "code",
   "execution_count": 222,
   "metadata": {},
   "outputs": [
    {
     "data": {
      "text/plain": [
       "Hyphae(7054,7063)"
      ]
     },
     "execution_count": 222,
     "metadata": {},
     "output_type": "execute_result"
    }
   ],
   "source": [
    "hyphae"
   ]
  },
  {
   "cell_type": "code",
   "execution_count": 229,
   "metadata": {},
   "outputs": [
    {
     "data": {
      "text/plain": [
       "[Hyphae(127,491), Hyphae(235,225)]"
      ]
     },
     "execution_count": 229,
     "metadata": {},
     "output_type": "execute_result"
    }
   ],
   "source": [
    "mothers =hyphae.mother\n",
    "mothers"
   ]
  },
  {
   "cell_type": "code",
   "execution_count": 230,
   "metadata": {},
   "outputs": [],
   "source": [
    "nodes = [node for mother in mothers for node in mother.get_nodes_within(mother.ts[0])[0]]+hyphae.get_nodes_within(hyphae.ts[0])[0]"
   ]
  },
  {
   "cell_type": "code",
   "execution_count": 234,
   "metadata": {},
   "outputs": [
    {
     "data": {
      "text/plain": [
       "Hyphae(3099,225)"
      ]
     },
     "execution_count": 234,
     "metadata": {},
     "output_type": "execute_result"
    }
   ],
   "source": [
    "hyphae"
   ]
  },
  {
   "cell_type": "code",
   "execution_count": 231,
   "metadata": {},
   "outputs": [
    {
     "data": {
      "text/plain": [
       "[2, 3, 4, 5, 6, 7]"
      ]
     },
     "execution_count": 231,
     "metadata": {},
     "output_type": "execute_result"
    }
   ],
   "source": [
    "hyphae.ts"
   ]
  },
  {
   "cell_type": "code",
   "execution_count": 232,
   "metadata": {},
   "outputs": [
    {
     "data": {
      "text/plain": [
       "([0, 1, 2, 3, 4, 5, 6, 7], [0, 1, 2, 3])"
      ]
     },
     "execution_count": 232,
     "metadata": {},
     "output_type": "execute_result"
    }
   ],
   "source": [
    "mothers[0].ts,mothers[1].ts"
   ]
  },
  {
   "cell_type": "code",
   "execution_count": 195,
   "metadata": {},
   "outputs": [],
   "source": [
    "hyphae_moth =[hyph for hyph in exp_clean.hyphaes if hyph.end.label == 1622][0]"
   ]
  },
  {
   "cell_type": "code",
   "execution_count": 199,
   "metadata": {},
   "outputs": [
    {
     "data": {
      "text/plain": [
       "([2322, 2147, 2074, 4843, 4842, 4840, 4838, 5465, 5466, 1622],\n",
       " [Edge(2322,2147),\n",
       "  Edge(2147,2074),\n",
       "  Edge(2074,4843),\n",
       "  Edge(4843,4842),\n",
       "  Edge(4842,4840),\n",
       "  Edge(4840,4838),\n",
       "  Edge(4838,5465),\n",
       "  Edge(5465,5466),\n",
       "  Edge(5466,1622)])"
      ]
     },
     "execution_count": 199,
     "metadata": {},
     "output_type": "execute_result"
    }
   ],
   "source": [
    "hyphae_moth.get_nodes_within(8)"
   ]
  },
  {
   "cell_type": "code",
   "execution_count": 235,
   "metadata": {},
   "outputs": [
    {
     "data": {
      "application/vnd.jupyter.widget-view+json": {
       "model_id": "071c2821cada4204aa19df26015327dc",
       "version_major": 2,
       "version_minor": 0
      },
      "text/plain": [
       "Canvas(toolbar=Toolbar(toolitems=[('Home', 'Reset original view', 'home', 'home'), ('Back', 'Back to previous …"
      ]
     },
     "metadata": {},
     "output_type": "display_data"
    }
   ],
   "source": [
    "exp_clean.plot([7,8],[[]+nodes]*2)"
   ]
  },
  {
   "cell_type": "code",
   "execution_count": 237,
   "metadata": {},
   "outputs": [],
   "source": [
    "plt.close('all')"
   ]
  },
  {
   "cell_type": "code",
   "execution_count": 238,
   "metadata": {},
   "outputs": [
    {
     "data": {
      "application/vnd.jupyter.widget-view+json": {
       "model_id": "27ef0397f31944d4867f47728442f9aa",
       "version_major": 2,
       "version_minor": 0
      },
      "text/plain": [
       "Canvas(toolbar=Toolbar(toolitems=[('Home', 'Reset original view', 'home', 'home'), ('Back', 'Back to previous …"
      ]
     },
     "metadata": {},
     "output_type": "display_data"
    }
   ],
   "source": [
    "exp_clean.plot([3,4],[boundaries]*2)"
   ]
  },
  {
   "cell_type": "code",
   "execution_count": 236,
   "metadata": {},
   "outputs": [],
   "source": [
    "boundaries = [node.label for mother in mothers for node in [mother.end,mother.root]]+[hyphae.end.label,hyphae.root.label]"
   ]
  },
  {
   "cell_type": "code",
   "execution_count": 158,
   "metadata": {},
   "outputs": [
    {
     "data": {
      "text/plain": [
       "(Hyphae(10019,8934),\n",
       " [Hyphae(6893,7102),\n",
       "  Hyphae(8934,7656),\n",
       "  Hyphae(10324,7102),\n",
       "  Hyphae(10867,7102)])"
      ]
     },
     "execution_count": 158,
     "metadata": {},
     "output_type": "execute_result"
    }
   ],
   "source": [
    "hyphae,mothers"
   ]
  },
  {
   "cell_type": "code",
   "execution_count": 159,
   "metadata": {},
   "outputs": [
    {
     "data": {
      "text/plain": [
       "[13, 14, 15, 16, 17, 18, 19, 20, 21, 22, 23]"
      ]
     },
     "execution_count": 159,
     "metadata": {},
     "output_type": "execute_result"
    }
   ],
   "source": [
    "mothers[0].ts"
   ]
  },
  {
   "cell_type": "code",
   "execution_count": null,
   "metadata": {},
   "outputs": [],
   "source": [
    "exp_clean.get_node(1354).ts()"
   ]
  },
  {
   "cell_type": "code",
   "execution_count": null,
   "metadata": {},
   "outputs": [],
   "source": [
    "exp.get_node(1354).ts()"
   ]
  },
  {
   "cell_type": "code",
   "execution_count": 81,
   "metadata": {},
   "outputs": [
    {
     "data": {
      "text/plain": [
       "([6, 7], [6, 7, 8, 9, 10, 11, 12, 13, 14, 15, 16, 17, 18, 19, 20, 21, 22, 23])"
      ]
     },
     "execution_count": 81,
     "metadata": {},
     "output_type": "execute_result"
    }
   ],
   "source": [
    "hyphae.root.ts(),hyphae.end.ts()"
   ]
  },
  {
   "cell_type": "code",
   "execution_count": null,
   "metadata": {},
   "outputs": [],
   "source": [
    "hyphae.sorted(set(hyphae.end.ts()).intersection(set(hyphae.root.ts())))"
   ]
  },
  {
   "cell_type": "code",
   "execution_count": 44,
   "metadata": {},
   "outputs": [
    {
     "data": {
      "text/plain": [
       "Hyphae(7714,7716)"
      ]
     },
     "execution_count": 44,
     "metadata": {},
     "output_type": "execute_result"
    }
   ],
   "source": [
    "hyphae"
   ]
  },
  {
   "cell_type": "code",
   "execution_count": 153,
   "metadata": {},
   "outputs": [
    {
     "data": {
      "text/plain": [
       "[15, 17, 18]"
      ]
     },
     "execution_count": 153,
     "metadata": {},
     "output_type": "execute_result"
    }
   ],
   "source": [
    "hyphae.root.ts()"
   ]
  },
  {
   "cell_type": "code",
   "execution_count": 41,
   "metadata": {},
   "outputs": [
    {
     "data": {
      "application/vnd.jupyter.widget-view+json": {
       "model_id": "55497480b8db4c82adec4e6a58113830",
       "version_major": 2,
       "version_minor": 0
      },
      "text/plain": [
       "Canvas(toolbar=Toolbar(toolitems=[('Home', 'Reset original view', 'home', 'home'), ('Back', 'Back to previous …"
      ]
     },
     "metadata": {},
     "output_type": "display_data"
    }
   ],
   "source": [
    "exp_clean.plot([15,16,17],[[hyphae.root.label,hyphae.end.label]]*3)"
   ]
  },
  {
   "cell_type": "code",
   "execution_count": 43,
   "metadata": {},
   "outputs": [
    {
     "data": {
      "application/vnd.jupyter.widget-view+json": {
       "model_id": "2931de99b2c84096879b5d81ec5167f3",
       "version_major": 2,
       "version_minor": 0
      },
      "text/plain": [
       "Canvas(toolbar=Toolbar(toolitems=[('Home', 'Reset original view', 'home', 'home'), ('Back', 'Back to previous …"
      ]
     },
     "metadata": {},
     "output_type": "display_data"
    }
   ],
   "source": [
    "exp.plot([15,16,17],[[hyphae.root.label,hyphae.end.label]]*3)"
   ]
  },
  {
   "cell_type": "code",
   "execution_count": 140,
   "metadata": {},
   "outputs": [],
   "source": [
    "def clean_exp_with_hyphaes(experiment):\n",
    "    ts={}\n",
    "    nx_graph_cleans = [nx.Graph.copy(nx_g) for nx_g in experiment.nx_graph]\n",
    "    exp_clean = Experiment(experiment.plate)\n",
    "    exp_clean.copy(experiment)\n",
    "    labels = {node for g in exp_clean.nx_graph for node in g}\n",
    "    exp_clean.nodes=[]\n",
    "    for label in labels:\n",
    "        exp_clean.nodes.append(Node(label,exp_clean))\n",
    "    for node in exp_clean.nodes:\n",
    "        ts[node.label]=[]\n",
    "        for t in range(len(nx_graph_cleans)):\n",
    "            if node.is_in(t):\n",
    "                ts[node.label].append(t)\n",
    "    hyphaes,problems = get_hyphae(exp_clean)\n",
    "    to_remove=[]\n",
    "    safe_nodes = set()\n",
    "    for hyphae in hyphaes:\n",
    "        for t in hyphae.end.ts():\n",
    "            if t in hyphae.root.ts():\n",
    "                for node in hyphae.get_nodes_within(t)[0]:\n",
    "                    safe_nodes.add(node)\n",
    "    for node in experiment.nodes:\n",
    "        posit = node.pos(ts[node.label][0])\n",
    "        if len(ts[node.label])==1 and ts[node.label][0]!=len(experiment.nx_graph)-1 and node.label not in safe_nodes:\n",
    "            to_remove.append(node.label)\n",
    "    return(to_remove)"
   ]
  },
  {
   "cell_type": "code",
   "execution_count": 49,
   "metadata": {},
   "outputs": [
    {
     "name": "stdout",
     "output_type": "stream",
     "text": [
      "before getting hyphaes True\n",
      "0.0\n",
      "0.05735589331803843\n",
      "0.11471178663607685\n",
      "0.1720676799541153\n",
      "0.2294235732721537\n",
      "0.28677946659019216\n",
      "0.3441353599082306\n",
      "0.401491253226269\n",
      "0.4588471465443074\n",
      "0.5162030398623458\n",
      "0.5735589331803843\n",
      "0.6309148264984227\n",
      "0.6882707198164612\n",
      "0.7456266131344995\n",
      "0.802982506452538\n",
      "0.8603383997705765\n",
      "0.9176942930886148\n",
      "0.9750501864066533\n",
      "after getting hyphaes True\n",
      "removing  1627  nodes\n",
      "removing False\n"
     ]
    },
    {
     "ename": "TypeError",
     "evalue": "append() takes exactly one argument (2 given)",
     "output_type": "error",
     "traceback": [
      "\u001b[1;31m---------------------------------------------------------------------------\u001b[0m",
      "\u001b[1;31mTypeError\u001b[0m                                 Traceback (most recent call last)",
      "\u001b[1;32m<ipython-input-49-739975e557db>\u001b[0m in \u001b[0;36m<module>\u001b[1;34m\u001b[0m\n\u001b[1;32m----> 1\u001b[1;33m \u001b[0mto_rem\u001b[0m \u001b[1;33m=\u001b[0m \u001b[0mclean_exp_with_hyphaes\u001b[0m\u001b[1;33m(\u001b[0m\u001b[0mexp\u001b[0m\u001b[1;33m)\u001b[0m\u001b[1;33m\u001b[0m\u001b[1;33m\u001b[0m\u001b[0m\n\u001b[0m",
      "\u001b[1;32m<ipython-input-48-8169520cecfb>\u001b[0m in \u001b[0;36mclean_exp_with_hyphaes\u001b[1;34m(experiment)\u001b[0m\n\u001b[0;32m    550\u001b[0m             \u001b[1;32mif\u001b[0m \u001b[0mnx_graph_clean\u001b[0m\u001b[1;33m.\u001b[0m\u001b[0mdegree\u001b[0m\u001b[1;33m(\u001b[0m\u001b[0mneighbour\u001b[0m\u001b[1;33m)\u001b[0m\u001b[1;33m>=\u001b[0m\u001b[1;36m3\u001b[0m\u001b[1;33m:\u001b[0m\u001b[1;33m\u001b[0m\u001b[1;33m\u001b[0m\u001b[0m\n\u001b[0;32m    551\u001b[0m                 \u001b[0mcandidate_to_fuse\u001b[0m\u001b[1;33m.\u001b[0m\u001b[0mappend\u001b[0m\u001b[1;33m(\u001b[0m\u001b[0mneighbour\u001b[0m\u001b[1;33m)\u001b[0m\u001b[1;33m\u001b[0m\u001b[1;33m\u001b[0m\u001b[0m\n\u001b[1;32m--> 552\u001b[1;33m                 \u001b[0mweight_candidate\u001b[0m\u001b[1;33m.\u001b[0m\u001b[0mappend\u001b[0m\u001b[1;33m(\u001b[0m\u001b[0mlen\u001b[0m\u001b[1;33m(\u001b[0m\u001b[0mnx_graph_clean\u001b[0m\u001b[1;33m.\u001b[0m\u001b[0mget_edge_data\u001b[0m\u001b[1;33m(\u001b[0m\u001b[0mnode\u001b[0m\u001b[1;33m,\u001b[0m\u001b[0mneighbour\u001b[0m\u001b[1;33m)\u001b[0m\u001b[1;33m[\u001b[0m\u001b[1;34m'pixel_list'\u001b[0m\u001b[1;33m]\u001b[0m\u001b[1;33m)\u001b[0m\u001b[1;33m-\u001b[0m\u001b[1;36m100\u001b[0m\u001b[1;33m*\u001b[0m\u001b[1;33m(\u001b[0m\u001b[0mneighbour\u001b[0m \u001b[1;32min\u001b[0m \u001b[0mroots\u001b[0m\u001b[1;33m)\u001b[0m\u001b[1;33m,\u001b[0m\u001b[1;33m-\u001b[0m\u001b[1;36m100\u001b[0m\u001b[1;33m*\u001b[0m\u001b[1;33m(\u001b[0m\u001b[0mneighbour\u001b[0m \u001b[1;32min\u001b[0m \u001b[0mtips\u001b[0m\u001b[1;33m)\u001b[0m\u001b[1;33m)\u001b[0m\u001b[1;33m\u001b[0m\u001b[1;33m\u001b[0m\u001b[0m\n\u001b[0m\u001b[0;32m    553\u001b[0m         \u001b[1;32mif\u001b[0m \u001b[0mlen\u001b[0m\u001b[1;33m(\u001b[0m\u001b[0mweight_candidate\u001b[0m\u001b[1;33m)\u001b[0m\u001b[1;33m==\u001b[0m\u001b[1;36m0\u001b[0m\u001b[1;33m:\u001b[0m\u001b[1;33m\u001b[0m\u001b[1;33m\u001b[0m\u001b[0m\n\u001b[0;32m    554\u001b[0m             \u001b[1;32mcontinue\u001b[0m\u001b[1;33m\u001b[0m\u001b[1;33m\u001b[0m\u001b[0m\n",
      "\u001b[1;31mTypeError\u001b[0m: append() takes exactly one argument (2 given)"
     ]
    }
   ],
   "source": [
    "to_rem = clean_exp_with_hyphaes(exp)"
   ]
  },
  {
   "cell_type": "code",
   "execution_count": 129,
   "metadata": {},
   "outputs": [],
   "source": [
    "for node in to_rem:\n",
    "    if len(exp_clean.get_node(node).ts())>=2:\n",
    "        print (node)"
   ]
  },
  {
   "cell_type": "code",
   "execution_count": 96,
   "metadata": {},
   "outputs": [
    {
     "data": {
      "text/plain": [
       "3713081631934410656"
      ]
     },
     "execution_count": 96,
     "metadata": {},
     "output_type": "execute_result"
    }
   ],
   "source": [
    "c=(1,2)\n",
    "c.__hash__()"
   ]
  },
  {
   "cell_type": "code",
   "execution_count": 18,
   "metadata": {},
   "outputs": [
    {
     "data": {
      "application/vnd.jupyter.widget-view+json": {
       "model_id": "3d64287d596d40d6a1379d9007830a50",
       "version_major": 2,
       "version_minor": 0
      },
      "text/plain": [
       "Canvas(toolbar=Toolbar(toolitems=[('Home', 'Reset original view', 'home', 'home'), ('Back', 'Back to previous …"
      ]
     },
     "metadata": {},
     "output_type": "display_data"
    }
   ],
   "source": [
    "node_obj=Node(hyphae.root.label,exp_clean)\n",
    "node_obj.show_source_image(hyphae.root.ts()[0])"
   ]
  },
  {
   "cell_type": "code",
   "execution_count": 79,
   "metadata": {},
   "outputs": [],
   "source": [
    "i=np.argmax([np.mean(im) for im in ims])"
   ]
  },
  {
   "cell_type": "code",
   "execution_count": 80,
   "metadata": {},
   "outputs": [
    {
     "data": {
      "application/vnd.jupyter.widget-view+json": {
       "model_id": "da02c3d572c04bc0bf5295879f0ac727",
       "version_major": 2,
       "version_minor": 0
      },
      "text/plain": [
       "Canvas(toolbar=Toolbar(toolitems=[('Home', 'Reset original view', 'home', 'home'), ('Back', 'Back to previous …"
      ]
     },
     "metadata": {},
     "output_type": "display_data"
    }
   ],
   "source": [
    "plot_t_tp1([0],[],{0 : (posimg[1][i],posimg[0][i])},None,ims[i],ims[i])"
   ]
  },
  {
   "cell_type": "code",
   "execution_count": 37,
   "metadata": {},
   "outputs": [
    {
     "data": {
      "text/plain": [
       "([13592, 12239], [Edge(13592,12239)])"
      ]
     },
     "execution_count": 37,
     "metadata": {},
     "output_type": "execute_result"
    }
   ],
   "source": [
    "hyphae.get_nodes_within(21)"
   ]
  },
  {
   "cell_type": "code",
   "execution_count": 34,
   "metadata": {},
   "outputs": [
    {
     "data": {
      "text/plain": [
       "[Node(12473)]"
      ]
     },
     "execution_count": 34,
     "metadata": {},
     "output_type": "execute_result"
    }
   ],
   "source": [
    "hyphae.end.neighbours(20)"
   ]
  },
  {
   "cell_type": "code",
   "execution_count": 57,
   "metadata": {},
   "outputs": [
    {
     "data": {
      "text/plain": [
       "Hyphae(6610,6825)"
      ]
     },
     "execution_count": 57,
     "metadata": {},
     "output_type": "execute_result"
    }
   ],
   "source": [
    "hyphae"
   ]
  },
  {
   "cell_type": "code",
   "execution_count": 50,
   "metadata": {},
   "outputs": [
    {
     "data": {
      "text/plain": [
       "53.53503525729669"
      ]
     },
     "execution_count": 50,
     "metadata": {},
     "output_type": "execute_result"
    }
   ],
   "source": [
    "np.linalg.norm(exp.get_node(12239).neighbours(21)[0].pos(21)-exp.get_node(12239).neighbours(20)[0].pos(20))"
   ]
  },
  {
   "cell_type": "code",
   "execution_count": 7,
   "metadata": {},
   "outputs": [
    {
     "ename": "AttributeError",
     "evalue": "'list' object has no attribute 'label'",
     "output_type": "error",
     "traceback": [
      "\u001b[1;31m---------------------------------------------------------------------------\u001b[0m",
      "\u001b[1;31mAttributeError\u001b[0m                            Traceback (most recent call last)",
      "\u001b[1;32m<ipython-input-7-f4766919bd5c>\u001b[0m in \u001b[0;36m<module>\u001b[1;34m\u001b[0m\n\u001b[0;32m      1\u001b[0m \u001b[0mhyphae\u001b[0m \u001b[1;33m=\u001b[0m \u001b[0mchoice\u001b[0m\u001b[1;33m(\u001b[0m\u001b[0mexp_clean\u001b[0m\u001b[1;33m.\u001b[0m\u001b[0mhyphaes\u001b[0m\u001b[1;33m)\u001b[0m\u001b[1;33m\u001b[0m\u001b[1;33m\u001b[0m\u001b[0m\n\u001b[1;32m----> 2\u001b[1;33m \u001b[0mhyphae\u001b[0m\u001b[1;33m.\u001b[0m\u001b[0mget_mother\u001b[0m\u001b[1;33m(\u001b[0m\u001b[1;33m)\u001b[0m\u001b[1;33m\u001b[0m\u001b[1;33m\u001b[0m\u001b[0m\n\u001b[0m\u001b[0;32m      3\u001b[0m \u001b[0mhyphae\u001b[0m\u001b[1;33m.\u001b[0m\u001b[0mmother\u001b[0m\u001b[1;33m\u001b[0m\u001b[1;33m\u001b[0m\u001b[0m\n",
      "\u001b[1;32m~\\Documents\\WUR\\MsC Thesis\\code\\experiment_class.py\u001b[0m in \u001b[0;36mget_mother\u001b[1;34m(self)\u001b[0m\n\u001b[0;32m    436\u001b[0m         \u001b[1;32mfor\u001b[0m \u001b[0mhyphae\u001b[0m \u001b[1;32min\u001b[0m \u001b[0mself\u001b[0m\u001b[1;33m.\u001b[0m\u001b[0mexperiment\u001b[0m\u001b[1;33m.\u001b[0m\u001b[0mhyphaes\u001b[0m\u001b[1;33m:\u001b[0m\u001b[1;33m\u001b[0m\u001b[1;33m\u001b[0m\u001b[0m\n\u001b[0;32m    437\u001b[0m             \u001b[1;32mfor\u001b[0m \u001b[0mt\u001b[0m \u001b[1;32min\u001b[0m \u001b[0mhyphae\u001b[0m\u001b[1;33m.\u001b[0m\u001b[0mts\u001b[0m\u001b[1;33m:\u001b[0m\u001b[1;33m\u001b[0m\u001b[1;33m\u001b[0m\u001b[0m\n\u001b[1;32m--> 438\u001b[1;33m                 \u001b[1;32mif\u001b[0m \u001b[0mself\u001b[0m\u001b[1;33m.\u001b[0m\u001b[0mroot\u001b[0m \u001b[1;32min\u001b[0m \u001b[0mhyphae\u001b[0m\u001b[1;33m.\u001b[0m\u001b[0mget_nodes_within\u001b[0m\u001b[1;33m(\u001b[0m\u001b[0mt\u001b[0m\u001b[1;33m)\u001b[0m\u001b[1;33m:\u001b[0m\u001b[1;33m\u001b[0m\u001b[1;33m\u001b[0m\u001b[0m\n\u001b[0m\u001b[0;32m    439\u001b[0m                     \u001b[0mcandidate_mother\u001b[0m\u001b[1;33m.\u001b[0m\u001b[0mappend\u001b[0m\u001b[1;33m(\u001b[0m\u001b[0mhyphae\u001b[0m\u001b[1;33m)\u001b[0m\u001b[1;33m\u001b[0m\u001b[1;33m\u001b[0m\u001b[0m\n\u001b[0;32m    440\u001b[0m         \u001b[0mself\u001b[0m\u001b[1;33m.\u001b[0m\u001b[0mmother\u001b[0m \u001b[1;33m=\u001b[0m \u001b[0mcandidate_mother\u001b[0m\u001b[1;33m\u001b[0m\u001b[1;33m\u001b[0m\u001b[0m\n",
      "\u001b[1;32m~\\Documents\\WUR\\MsC Thesis\\code\\experiment_class.py\u001b[0m in \u001b[0;36m__eq__\u001b[1;34m(self, other)\u001b[0m\n\u001b[0;32m    277\u001b[0m         \u001b[0mself\u001b[0m\u001b[1;33m.\u001b[0m\u001b[0mlabel\u001b[0m \u001b[1;33m=\u001b[0m \u001b[0mlabel\u001b[0m\u001b[1;33m\u001b[0m\u001b[1;33m\u001b[0m\u001b[0m\n\u001b[0;32m    278\u001b[0m     \u001b[1;32mdef\u001b[0m \u001b[0m__eq__\u001b[0m\u001b[1;33m(\u001b[0m\u001b[0mself\u001b[0m\u001b[1;33m,\u001b[0m \u001b[0mother\u001b[0m\u001b[1;33m)\u001b[0m\u001b[1;33m:\u001b[0m\u001b[1;33m\u001b[0m\u001b[1;33m\u001b[0m\u001b[0m\n\u001b[1;32m--> 279\u001b[1;33m         \u001b[1;32mreturn\u001b[0m\u001b[1;33m(\u001b[0m\u001b[0mself\u001b[0m\u001b[1;33m.\u001b[0m\u001b[0mlabel\u001b[0m\u001b[1;33m==\u001b[0m\u001b[0mother\u001b[0m\u001b[1;33m.\u001b[0m\u001b[0mlabel\u001b[0m\u001b[1;33m)\u001b[0m\u001b[1;33m\u001b[0m\u001b[1;33m\u001b[0m\u001b[0m\n\u001b[0m\u001b[0;32m    280\u001b[0m     \u001b[1;32mdef\u001b[0m \u001b[0m__repr__\u001b[0m\u001b[1;33m(\u001b[0m\u001b[0mself\u001b[0m\u001b[1;33m)\u001b[0m\u001b[1;33m:\u001b[0m\u001b[1;33m\u001b[0m\u001b[1;33m\u001b[0m\u001b[0m\n\u001b[0;32m    281\u001b[0m         \u001b[1;32mreturn\u001b[0m \u001b[1;33m(\u001b[0m\u001b[1;34mf'Node({self.label})'\u001b[0m\u001b[1;33m)\u001b[0m\u001b[1;33m\u001b[0m\u001b[1;33m\u001b[0m\u001b[0m\n",
      "\u001b[1;31mAttributeError\u001b[0m: 'list' object has no attribute 'label'"
     ]
    }
   ],
   "source": [
    "# hyphae = choice(exp_clean.hyphaes)\n",
    "# hyphae.get_mother()\n",
    "# hyphae.mother"
   ]
  },
  {
   "cell_type": "code",
   "execution_count": 8,
   "metadata": {},
   "outputs": [],
   "source": [
    "def get_mother(hyph):\n",
    "    candidate_mother=[]\n",
    "    problem=[]\n",
    "    for hyphae in hyph.experiment.hyphaes:\n",
    "        if hyphae.end != hyph.end:\n",
    "            found = False\n",
    "            for t in hyphae.ts():\n",
    "                if hyphae.root.is_in(t):\n",
    "                    if hyph.root.label in hyphae.get_nodes_within(t)[0] and hyph.root.label != hyphae.root.label and found == False and hyphae.end.pos(t)[0]<19500:\n",
    "                        candidate_mother.append(hyphae)\n",
    "                        found = True\n",
    "                else:\n",
    "                    problem.append((hyphae,t))\n",
    "    return(candidate_mother,problem)"
   ]
  },
  {
   "cell_type": "code",
   "execution_count": null,
   "metadata": {},
   "outputs": [],
   "source": [
    "hyphae.experiment.hyphaes"
   ]
  },
  {
   "cell_type": "code",
   "execution_count": 108,
   "metadata": {},
   "outputs": [
    {
     "data": {
      "text/plain": [
       "[2, 3]"
      ]
     },
     "execution_count": 108,
     "metadata": {},
     "output_type": "execute_result"
    }
   ],
   "source": [
    "sorted(set([1,2,3]).intersection(set([2,3,4])))"
   ]
  },
  {
   "cell_type": "code",
   "execution_count": 16,
   "metadata": {},
   "outputs": [],
   "source": [
    "from util import get_path\n",
    "import pandas as pd\n",
    "import networkx as nx\n",
    "import numpy as np\n",
    "import matplotlib.pyplot as plt\n",
    "from extract_graph import generate_nx_graph, transform_list, generate_skeleton, generate_nx_graph_from_skeleton, from_connection_tab\n",
    "from node_id import whole_movement_identification, second_identification\n",
    "import ast\n",
    "from plotutil import plot_t_tp1, compress_skeleton\n",
    "from scipy import sparse\n",
    "from sparse_util import dilate, zhangSuen\n",
    "from realign import realign\n",
    "from datetime import datetime,timedelta\n",
    "from node_id import orient\n",
    "import pickle\n",
    "from matplotlib.widgets import CheckButtons\n",
    "import scipy.io as sio\n",
    "import imageio\n",
    "from pymatreader import read_mat\n",
    "from matplotlib import colors\n",
    "from copy import deepcopy,copy\n",
    "from collections import Counter\n",
    "class Experiment():\n",
    "    def __init__(self,plate):\n",
    "        self.plate = plate\n",
    "        self.path_param = '//sun.amolf.nl/shimizu-data/home-folder/oyartegalvez/Drive_AMFtopology/PRINCE/Plate13_20200627/InitialParameters.mat'\n",
    "    def load(self,dates,local=False,pickle=False,raw=False):\n",
    "        self.dates=dates\n",
    "        self.raw=raw\n",
    "        if local:\n",
    "            paths=[f'Data/graph_{date}_{self.plate}_full_labeled.csv' for date in dates]\n",
    "            paths_connection = [f'Data/connection_{date}_{self.plate}.csv' for date in dates[:-1]]\n",
    "        else:\n",
    "            paths = [get_path(date,self.plate,True,extension='_full_labeled.csv') for date in dates]\n",
    "            paths_connection = [get_path(date,self.plate,True,extension='_connection.csv') for date in dates[:-1]]\n",
    "        if raw:\n",
    "            nx_graph_poss=[]\n",
    "            for date in dates:\n",
    "                nx_graph_poss.append(generate_nx_graph(pd.read_csv(get_path(date,self.plate,True,extension='_raw_aligned_skeleton.csv'),\n",
    "                                                converters={'origin_pos' : transform_list,'end_pos' : transform_list,'pixel_list' : ast.literal_eval}),labeled=True))\n",
    "        else:\n",
    "            nx_graph_poss=[]\n",
    "            for path in paths:\n",
    "                nx_graph_poss.append(generate_nx_graph(pd.read_csv(path,\n",
    "                                    converters={'origin_pos' : transform_list,'end_pos' : transform_list,\n",
    "                                                'pixel_list' : ast.literal_eval}),labeled=True))\n",
    "        from_tip_growth_pattern=[]\n",
    "        for path in paths_connection:\n",
    "            from_tip_growth_pattern.append(from_connection_tab(pd.read_csv(path)))\n",
    "        nx_graphs=[nx_graph_pos[0] for nx_graph_pos in nx_graph_poss]\n",
    "        poss = [nx_graph_pos[1] for nx_graph_pos in nx_graph_poss]\n",
    "        nx_graph_clean=[]\n",
    "        for graph in nx_graphs:\n",
    "            S = [graph.subgraph(c).copy() for c in nx.connected_components(graph)]\n",
    "            len_connected=[len(nx_graph.nodes) for nx_graph in S]\n",
    "            nx_graph_clean.append(S[np.argmax(len_connected)])\n",
    "        skeletons=[]\n",
    "        for nx_graph in nx_graph_clean:\n",
    "            skeletons.append(generate_skeleton(nx_graph,dim=(20800, 46000)))\n",
    "        connections = [c[0] for c in from_tip_growth_pattern]\n",
    "        growth_patterns = [c[1] for c in from_tip_growth_pattern]\n",
    "        self.positions=poss\n",
    "        self.nx_graph=nx_graph_clean\n",
    "        self.connections = connections\n",
    "        self.growth_patterns = growth_patterns\n",
    "        self.skeletons=skeletons\n",
    "        self.hyphaes=None\n",
    "        labels = {node for g in self.nx_graph for node in g}\n",
    "        self.nodes=[]\n",
    "        for label in labels:\n",
    "            self.nodes.append(Node(label,self))\n",
    "        \n",
    "    def copy(self,experiment):\n",
    "        self.positions=experiment.positions\n",
    "        self.nx_graph=experiment.nx_graph\n",
    "        self.connections = experiment.connections\n",
    "        self.growth_patterns = experiment.growth_patterns\n",
    "        self.skeletons=experiment.skeletons\n",
    "        self.dates=experiment.dates\n",
    "        self.plate=experiment.plate\n",
    "        self.nodes = None\n",
    "        self.hyphaes=None\n",
    "    def save(self,path=f'Data/'):\n",
    "        from_tip_growth_pattern_tab=[]\n",
    "        for date in self.dates[:-1]:\n",
    "            from_tip_growth_pattern_tab.append(pd.read_csv(get_path(date,self.plate,True,extension='_connection.csv')))\n",
    "        for i, date in enumerate(self.dates[:-1]):\n",
    "            from_tip_growth_pattern_tab[i].to_csv(path+f'connection_{date}_{self.plate}.csv')\n",
    "        tabs_labeled=[]\n",
    "        for date in self.dates:\n",
    "            tabs_labeled.append(pd.read_csv(get_path(date,self.plate,True,extension='_full_labeled.csv'),\n",
    "                                        converters={'origin_pos' : transform_list,\n",
    "                                                    'end_pos' : transform_list,'pixel_list' : ast.literal_eval}))\n",
    "        for i, date in enumerate(self.dates):\n",
    "            tabs_labeled[i].to_csv(path+f'graph_{date}_{self.plate}_full_labeled.csv')\n",
    "            sio.savemat(path+f'graph_{date}_{self.plate}_full_labeled.mat', {name: col.values for name, col in tabs_labeled[i].items()})\n",
    "    def pickle_save(self):\n",
    "        pickle.dump(self,open( f'Data/'+f\"experiment_{self.plate}.pick\", \"wb\" ))\n",
    "    def pickle_load(self):\n",
    "        self = pickle.load( open( f'Data/'+f\"experiment_{self.plate}.pick\", \"rb\" ) )\n",
    "    def get_node(self,label):\n",
    "        return(Node(label,self))\n",
    "    def get_edge(self,begin,end):\n",
    "        return(Edge(begin,end,self))\n",
    "    def compress_skeleton(self,t,factor):\n",
    "        shape=self.skeletons[t].shape\n",
    "        final_picture = np.zeros(shape=(shape[0]//factor,shape[1]//factor))\n",
    "        for pixel in self.skeletons[t].keys():\n",
    "            x=min(round(pixel[0]/factor),shape[0]//factor-1)\n",
    "            y=min(round(pixel[1]/factor),shape[1]//factor-1)\n",
    "            final_picture[x,y]+=1\n",
    "        return(final_picture>=1)\n",
    "    def load_images(self,t):\n",
    "        date = self.dates[t]\n",
    "        date_plate = f'/2020{date}'\n",
    "        plate_str = f'_Plate{self.plate}'\n",
    "        path_tile='//sun.amolf.nl/shimizu-data/home-folder/oyartegalvez/Drive_AMFtopology/PRINCE'+date_plate+plate_str+'/Img/TileConfiguration.registered.txt'\n",
    "        tileconfig = pd.read_table(path_tile,sep=';',skiprows=4,header=None,converters={2 : ast.literal_eval},skipinitialspace=True)\n",
    "        for name in tileconfig[0]:\n",
    "            im=imageio.imread('//sun.amolf.nl/shimizu-data/home-folder/oyartegalvez/Drive_AMFtopology/PRINCE'+date_plate+plate_str+'/Img/'+name)\n",
    "            np.save('Temp/'+name,im)\n",
    "    def get_growing_tips(self,t,threshold=80):\n",
    "        growths = {tip : sum([len(branch) for branch in self.growth_patterns[t][tip]]) for tip in self.growth_patterns[t].keys()}\n",
    "        growing_tips = [node for node in growths.keys() if growths[node]>=threshold]\n",
    "        return(growing_tips)\n",
    "    def pinpoint_anastomosis(self,t):\n",
    "        nx_graph_tm1 = self.nx_graph[t]\n",
    "        nx_grapht = self.nx_graph[t+1]\n",
    "        from_tip = self.connections[t]\n",
    "        pos_tm1 = self.positions[t]\n",
    "        anastomosis=[]\n",
    "        origins=[]\n",
    "        tips = [node for node in nx_graph_tm1.nodes if nx_graph_tm1.degree(node)==1]\n",
    "        number_anastomosis = 0\n",
    "        def dist_branch(node,nx_graph,pos):\n",
    "            mini=np.inf\n",
    "            for edge in nx_graph.edges:\n",
    "                pixel_list=nx_graph.get_edge_data(*edge)['pixel_list']\n",
    "                if np.linalg.norm(np.array(pixel_list[0])-np.array(pos[node]))<=5000:\n",
    "                    distance=np.min(np.linalg.norm(np.array(pixel_list)-np.array(pos[node]),axis=1))\n",
    "                    if distance<mini:\n",
    "                        mini=distance\n",
    "            return(mini)\n",
    "        def count_neighbors_is_from_root(equ_list,nx_graph,root):\n",
    "            count=0\n",
    "            for neighbor in nx_graph.neighbors(root):\n",
    "                if neighbor in equ_list:\n",
    "                    count+=1\n",
    "            return(count)\n",
    "        for tip in tips:\n",
    "    #         print(tip)\n",
    "            consequence = from_tip[tip]\n",
    "            for node in consequence:\n",
    "                if node in nx_grapht.nodes and nx_grapht.degree(node)>=3 and count_neighbors_is_from_root(consequence,nx_grapht,node)<2:\n",
    "    #                 if node==2753:\n",
    "    #                     print(count_neighbors_is_from_root(consequence,nx_grapht,node))\n",
    "    #                     print(list(nx_grapht.neighbors(node)))\n",
    "                    anastomosis.append(node)\n",
    "                    origins.append(tip)\n",
    "                    number_anastomosis+=1\n",
    "            if tip not in nx_grapht.nodes and dist_branch(tip,nx_grapht,pos_tm1)<=30 and nx_graph_tm1.get_edge_data(*list(nx_graph_tm1.edges(tip))[0])['weight']>=20:\n",
    "                origins.append(tip)\n",
    "                number_anastomosis+=1/2\n",
    "        return(anastomosis,origins,number_anastomosis)\n",
    "    def find_image_pos(self,ys,xs,t,local=False):\n",
    "        params=read_mat(self.path_param)\n",
    "        x1=params['x1']\n",
    "        x2=params['x2']\n",
    "        y0=params['y0']\n",
    "        Sf=params['Sf']\n",
    "        L0center=params['L0center']\n",
    "        date = self.dates[t]\n",
    "        date_plate = f'/2020{date}'\n",
    "        plate_str = f'_Plate{self.plate}'\n",
    "        findingbaits = read_mat('//sun.amolf.nl/shimizu-data/home-folder/oyartegalvez/Drive_AMFtopology/PRINCE'+date_plate+plate_str+'/Analysis/FindingBaits.mat')\n",
    "        Rcenter=findingbaits['Rcenter']\n",
    "        Rradii = findingbaits['Rradii']\n",
    "        Lcenter = findingbaits['Lcenter']\n",
    "        t = findingbaits['t']\n",
    "        Lradii = findingbaits['Lradii']\n",
    "        path_tile='//sun.amolf.nl/shimizu-data/home-folder/oyartegalvez/Drive_AMFtopology/PRINCE'+date_plate+plate_str+'/Img/TileConfiguration.registered.txt'\n",
    "        tileconfig = pd.read_table(path_tile,sep=';',skiprows=4,header=None,converters={2 : ast.literal_eval},skipinitialspace=True)\n",
    "        xs_yss=list(tileconfig[2])\n",
    "        xes= [xs_ys[0] for xs_ys in xs_yss]\n",
    "        yes= [xs_ys[1] for xs_ys in xs_yss]\n",
    "        cmin=np.min(xes)\n",
    "        cmax=np.max(xes)\n",
    "        rmin = np.min(yes)\n",
    "        rmax = np.max(yes)\n",
    "        S0     = [rmax+3000+abs(rmin),cmax+4096+abs(cmin)]\n",
    "        theta  = np.arctan((Rcenter[1]-Lcenter[1])/(Rcenter[0]-Lcenter[0]))\n",
    "        Sry    =  S0[0]*np.cos(abs(theta))+S0[1]*np.sin(abs(theta))\n",
    "        C = np.tan(-np.arctan((ys + y0 - 1 - L0center[1] - np.sqrt(Lcenter[0]**2+(S0[0]-Lcenter[1])**2)\n",
    "                               *np.sin(np.arctan((S0[0]-Lcenter[1])/Lcenter[0])+theta))/\n",
    "                              (xs + (x2+x1)/2 - (Sf[0]-y0) - 1 - L0center[0] + np.sqrt(Lcenter[0]**2+(S0[0]-Lcenter[1])**2)\n",
    "                               *np.cos(np.arctan((S0[0]-Lcenter[1])/Lcenter[0])+theta))) - theta)\n",
    "        ximg = - (ys + y0 - 1 - L0center[1] - np.sqrt(Lcenter[0]**2+(S0[0]-Lcenter[1])**2)\n",
    "                  *np.sin(np.arctan((S0[0]-Lcenter[1])/Lcenter[0])+theta))/(np.sqrt(1+C**2)*np.sin(np.arctan(C)+theta)) \n",
    "        yimg = S0[0] - C*ximg\n",
    "        def find(xsub,ysub,x,y):\n",
    "            indexes=[]\n",
    "            for i in range(len(xsub)):\n",
    "                if x>=xsub[i]-cmin and x<xsub[i]-cmin+4096 and y>=ysub[i]-rmin and y < ysub[i]-rmin+3000:\n",
    "                    indexes.append(i)\n",
    "            return(indexes)\n",
    "        indsImg = find(xes,yes,ximg,yimg)\n",
    "        possImg  = [ximg-np.array(xes)[indsImg]+cmin+1, yimg-np.array(yes)[indsImg]+rmin+1]\n",
    "        paths=[]\n",
    "        for index in indsImg:\n",
    "            if local:\n",
    "                paths.append('Temp/'+tileconfig[0][index]+'.npy')\n",
    "            else:\n",
    "                paths.append('//sun.amolf.nl/shimizu-data/home-folder/oyartegalvez/Drive_AMFtopology/PRINCE'+date_plate+plate_str+'/Img/'+tileconfig[0][index])\n",
    "        if local:\n",
    "             ims = [np.load(path) for path in paths]\n",
    "        else:\n",
    "            ims = [imageio.imread(path) for path in paths]\n",
    "        return(ims,possImg)\n",
    "    def plot(self,ts,node_lists=[], shift=(0,0),compress=5,save='',time=None):\n",
    "        global check\n",
    "        right = 0.90\n",
    "        top = 0.90\n",
    "        if len(save)>=1:\n",
    "            fig=plt.figure(figsize=(14,12))\n",
    "            size = 10\n",
    "        else:\n",
    "            fig = plt.figure()\n",
    "            size = 5\n",
    "        ax = fig.add_subplot(111)\n",
    "        scale=1/len(ts)\n",
    "        power=len(ts)\n",
    "        compressed_images=[]\n",
    "        for i,t in enumerate(ts):\n",
    "            compressed_images.append(self.compress_skeleton(t,compress))\n",
    "        visibility = [True for t in ts]\n",
    "        final_image=scale*compressed_images[0]*visibility[0]\n",
    "        for i,compressed_image in enumerate(compressed_images[1:]):\n",
    "            final_image=np.power(final_image**power+((i+2)*scale*compressed_image*visibility[i+1])**power,1/power)\n",
    "        l1=ax.imshow(final_image, cmap='plasma',interpolation='none',vmin=0,vmax=1)\n",
    "        rax = plt.axes([0.05, 0.4, 0.1, 0.15])\n",
    "        labels=[f'{4*t}h' for t in ts]\n",
    "        check = CheckButtons(rax, labels, visibility)\n",
    "        def func(label):\n",
    "            index = labels.index(label)\n",
    "            visibility[index]= not visibility[index]\n",
    "            final_image=visibility[0]*scale*compressed_images[0]\n",
    "            for i,compressed_image in enumerate(compressed_images[1:]):\n",
    "                final_image=np.power(final_image**power+visibility[i+1]*((i+2)*scale*compressed_image)**power,1/power)\n",
    "            l1.set_data(final_image)\n",
    "            plt.draw()\n",
    "\n",
    "        check.on_clicked(func)\n",
    "        if len(node_lists)>0:\n",
    "            for i,node_list in enumerate(node_lists):\n",
    "                grey=(i+1)/len(labels)\n",
    "                bbox = dict(boxstyle=\"circle\", fc=colors.rgb2hex((grey,grey,grey)))\n",
    "#             ax.text(right, top, time,\n",
    "#                 horizontalalignment='right',\n",
    "#                 verticalalignment='bottom',\n",
    "#                 transform=ax.transAxes,color='white')\n",
    "                for node in node_list:\n",
    "#                     print(self.positions[ts[i]])\n",
    "                    if node in self.positions[ts[i]].keys():\n",
    "                        t = ax.text((self.positions[ts[i]][node][1]-shift[1])//compress, (self.positions[ts[i]][node][0]-shift[0])//compress, str(node), ha=\"center\", va=\"center\",\n",
    "                                    size=size,\n",
    "                                    bbox=bbox)\n",
    "        if len(save)>=1:\n",
    "            plt.savefig(save)\n",
    "            plt.close(fig)\n",
    "        else:\n",
    "            plt.show()\n",
    "        \n",
    "        \n",
    "\n",
    "class Node():\n",
    "    def __init__(self,label,experiment):\n",
    "        self.experiment = experiment\n",
    "        self.label = label\n",
    "    def __eq__(self, other): \n",
    "        return(self.label==other.label)\n",
    "    def __repr__(self):\n",
    "        return (f'Node({self.label})')\n",
    "    def __str__(self):\n",
    "        return str(self.label)\n",
    "    def __hash__(self):\n",
    "        return self.label\n",
    "    def neighbours(self,t):\n",
    "        return([self.experiment.get_node(node) for node in self.experiment.nx_graph[t].neighbors(self.label)])\n",
    "    def is_in(self,t):\n",
    "        return(self.label in self.experiment.nx_graph[t].nodes)\n",
    "    def degree(self,t):\n",
    "        return(self.experiment.nx_graph[t].degree(self.label))\n",
    "    def edges(self,t):\n",
    "        return([self.experiment.get_edge(self,neighbour) for neighbour in self.neighbours(t)])\n",
    "    def pos(self,t):\n",
    "        return(self.experiment.positions[t][self.label])\n",
    "    def ts(self):\n",
    "        return([t for t in range(len(self.experiment.nx_graph)) if self.is_in(t)])\n",
    "    def show_source_image(self,t):\n",
    "        pos = self.pos(t)\n",
    "        x,y=pos[0],pos[1]\n",
    "        ims,posimg=self.experiment.find_image_pos(x,y,t)\n",
    "        i=np.argmax([np.mean(im) for im in ims])\n",
    "        plot_t_tp1([0],[],{0 : (posimg[1][i],posimg[0][i])},None,ims[i],ims[i])\n",
    "\n",
    "class Edge():\n",
    "    def __init__(self,begin,end,experiment):\n",
    "        self.begin=begin\n",
    "        self.end = end\n",
    "        self.experiment = experiment\n",
    "    def __repr__(self):\n",
    "        return (f'Edge({self.begin},{self.end})')\n",
    "    def __str__(self):\n",
    "        return str((self.begin,self.end))\n",
    "    def is_in(self,t):\n",
    "        return((self.begin.label,self.end.label) in self.experiment.nx_graph[t].edges)\n",
    "    def pixel_list(self,t):\n",
    "        return(orient(self.experiment.nx_graph[t].get_edge_data(self.begin.label,self.end.label)['pixel_list'],self.begin.pos(t)))\n",
    "    def orientation_whole(self,t):\n",
    "        pixel_list = np.array(self.pixel_list(t))\n",
    "        vector = pixel_list[-1]-pixel_list[0]\n",
    "        unit_vector = vector/np.linalg.norm(vector)\n",
    "        vertical_vector=np.array([-1,0])\n",
    "        dot_product = np.dot(vertical_vector,unit_vector)\n",
    "        if vertical_vector[1]*vector[0]-vertical_vector[0]*vector[1]>=0: #determinant\n",
    "            angle = np.arccos(dot_product)/(2*np.pi)*360\n",
    "        else:\n",
    "            angle = -np.arccos(dot_product)/(2*np.pi)*360\n",
    "        return(angle)\n",
    "    def orientation_begin(self,t,length=20):\n",
    "        pixel_list = np.array(self.pixel_list(t))\n",
    "        vector = pixel_list[min(length,len(pixel_list)-1)]-pixel_list[0]\n",
    "        unit_vector = vector/np.linalg.norm(vector)\n",
    "        vertical_vector=np.array([-1,0])\n",
    "        dot_product = np.dot(vertical_vector,unit_vector)\n",
    "        if vertical_vector[1]*vector[0]-vertical_vector[0]*vector[1]>=0: #determinant\n",
    "            angle = np.arccos(dot_product)/(2*np.pi)*360\n",
    "        else:\n",
    "            angle = -np.arccos(dot_product)/(2*np.pi)*360\n",
    "        return(angle)\n",
    "    def orientation_end(self,t,length=20):\n",
    "        pixel_list = np.array(self.pixel_list(t))\n",
    "        vector = pixel_list[-1]-pixel_list[max(0,len(pixel_list)-1-length)]\n",
    "        unit_vector = vector/np.linalg.norm(vector)\n",
    "        vertical_vector=np.array([-1,0])\n",
    "        dot_product = np.dot(vertical_vector,unit_vector)\n",
    "        if vertical_vector[1]*vector[0]-vertical_vector[0]*vector[1]>=0: #determinant\n",
    "            angle = np.arccos(dot_product)/(2*np.pi)*360\n",
    "        else:\n",
    "            angle = -np.arccos(dot_product)/(2*np.pi)*360\n",
    "        return(angle)\n",
    "        \n",
    "\n",
    "class Hyphae():\n",
    "    def __init__(self,tip):\n",
    "        self.experiment = tip.experiment\n",
    "        self.ts = tip.ts()\n",
    "        self.end = tip\n",
    "        self.root = None\n",
    "        self.mother = None\n",
    "    def __eq__(self, other): \n",
    "        return(self.end.label==other.end.label)\n",
    "    def __repr__(self):\n",
    "        return (f'Hyphae({self.end},{self.root})')\n",
    "    def __str__(self):\n",
    "        return str((self.end,self.root))\n",
    "    def __hash__(self):\n",
    "        return self.end.label\n",
    "    def get_edges(self,t,length=20):\n",
    "        first_neighbour = self.end.neighbours(t)[0]\n",
    "        last_node = self.end\n",
    "        current_node = first_neighbour\n",
    "        current_edge = Edge(last_node,current_node,self.experiment)\n",
    "        moving_on_hyphae = True\n",
    "        edges = [current_edge]\n",
    "        nodes = [last_node,current_node]\n",
    "        i=0\n",
    "        while moving_on_hyphae:\n",
    "            i+=1\n",
    "            if i>=100:\n",
    "                print(t,self.end,current_node)\n",
    "            if i>=110:\n",
    "                break\n",
    "#                 print ('moving',current_node)\n",
    "            if current_node.degree(t)<2:\n",
    "#                     print(current_node.degree(t),current_node)\n",
    "                moving_on_hyphae=False\n",
    "            else:\n",
    "                maxi=-np.inf\n",
    "                orientation = current_edge.orientation_end(t,length)\n",
    "                for neighbours_t in current_node.neighbours(t):\n",
    "#                     print (neighbours_t)\n",
    "                    candidate_edge = Edge(current_node,neighbours_t,self.experiment)\n",
    "                    orientation_candidate = candidate_edge.orientation_begin(t,length)\n",
    "                    angle = np.cos((orientation-orientation_candidate)/360*2*np.pi)\n",
    "                    if angle>maxi:\n",
    "                        maxi=angle\n",
    "                        next_node_candidate=neighbours_t\n",
    "#                     print(maxi,next_node_candidate)\n",
    "                candidate_edge = Edge(current_node,next_node_candidate,self.experiment)\n",
    "                orientation_candidate = candidate_edge.orientation_begin(t,length)\n",
    "                maxi_compet=-np.inf\n",
    "#                     print('compet')\n",
    "                for neighbours_t in current_node.neighbours(t):\n",
    "                    if neighbours_t!=last_node:\n",
    "                        competitor_edge = Edge(neighbours_t,current_node,self.experiment)\n",
    "                        orientation_competitor = competitor_edge.orientation_end(t,length)\n",
    "                        angle = np.cos((orientation_competitor-orientation_candidate)/360*2*np.pi)\n",
    "                        if angle>maxi_compet:\n",
    "                            maxi_compet=angle\n",
    "                            competitor = neighbours_t\n",
    "#                             print(neighbours_t,angle)\n",
    "#                     print(maxi_compet,competitor)\n",
    "                if maxi_compet>maxi:\n",
    "                    moving_on_hyphae =False\n",
    "                else:\n",
    "                    last_node,current_node = current_node,next_node_candidate\n",
    "                    current_edge = Edge(last_node,current_node,self.experiment)\n",
    "                    edges.append(current_edge)\n",
    "                    nodes.append(current_node)\n",
    "#         while moving:\n",
    "#             c= move_hyphae(llast_node,ccurrent_node)\n",
    "#             edges += c[0]\n",
    "#             nodes += c[1]\n",
    "#             competitor = c[2]\n",
    "# #             print('moving back', nodes[-1],competitor)\n",
    "#             move_backward = move_hyphae(nodes[-1],competitor)\n",
    "#             end_node_move_backward = move_backward[1][-1]\n",
    "#             if end_node_move_backward in nodes:\n",
    "# #                 print('restarting',competitor,nodes[-1])\n",
    "#                 llast_node,ccurrent_node = c[2],nodes[-1]\n",
    "#             else:\n",
    "#                 moving=False\n",
    "        root = nodes[-1]\n",
    "        edges = edges\n",
    "        nodes = nodes\n",
    "        return(root,edges,nodes)\n",
    "    \n",
    "    def get_nodes_within(self,t):\n",
    "        nodes = nx.shortest_path(self.experiment.nx_graph[t],source=self.root.label,target=self.end.label,weight=\"weight\")\n",
    "        edges = [Edge(self.experiment.get_node(nodes[i]),self.experiment.get_node(nodes[i+1]),self.experiment) for i in range(len(nodes)-1)]\n",
    "        return(nodes,edges)\n",
    "    def get_mother(self):\n",
    "        candidate_mother=[]\n",
    "        for hyphae in self.experiment.hyphaes:\n",
    "            for t in hyphae.ts:\n",
    "                if self.root in hyphae.get_nodes_within(t):\n",
    "                    candidate_mother.append(hyphae)\n",
    "        self.mother = candidate_mother\n",
    "    def update_ts(self):\n",
    "        self.ts = sorted(set(self.end.ts()).intersection(set(self.root.ts())))\n",
    "\n",
    "def get_hyphae(experiment):\n",
    "    tips = [node for node in experiment.nodes if node.degree(node.ts()[0])==1 and node.pos(node.ts()[0])[0]<=19500]\n",
    "    problems=[]\n",
    "    hyphaes=[]\n",
    "#     for i in range(20):\n",
    "    for i,tip in enumerate(tips):\n",
    "        if i%200==0:\n",
    "            print(i/len(tips))\n",
    "#         tip = choice(tips)\n",
    "        hyphae = Hyphae(tip)\n",
    "        roots = []\n",
    "        for t in tip.ts():\n",
    "#             print(t,tip)\n",
    "            if tip.degree(t)==1:\n",
    "                root,edges,nodes = hyphae.get_edges(t,50)\n",
    "                roots.append(root)\n",
    "        occurence_count = Counter(roots)\n",
    "        if len(occurence_count.values())>=2 and occurence_count.most_common(2)[0][0]!=roots[0] and occurence_count.most_common(2)[1][1]/occurence_count.most_common(2)[0][1]>=0.75:\n",
    "            problems.append(tip)\n",
    "        else:\n",
    "            hyphae.root = occurence_count.most_common(2)[0][0]\n",
    "            hyphae.ts = sorted(set(hyphae.ts).intersection(set(hyphae.root.ts())))\n",
    "            hyphaes.append(hyphae)\n",
    "    return(hyphaes,problems)\n",
    "\n",
    "def reconnect_degree_2(nx_graph,pos):\n",
    "    degree_2_nodes = [node for node in nx_graph.nodes if nx_graph.degree(node)==2]\n",
    "    while len(degree_2_nodes)>0:\n",
    "        node = degree_2_nodes.pop()\n",
    "        neighbours = list(nx_graph.neighbors(node))\n",
    "        right_n = neighbours[0]\n",
    "        left_n = neighbours[1]\n",
    "        right_edge = nx_graph.get_edge_data(node,right_n)['pixel_list']\n",
    "        left_edge = nx_graph.get_edge_data(node,left_n)['pixel_list']\n",
    "        if np.any(right_edge[0]!=pos[node]):\n",
    "            right_edge = list(reversed(right_edge))\n",
    "        if np.any(left_edge[-1]!=pos[node]):\n",
    "            left_edge = list(reversed(left_edge))\n",
    "        pixel_list = left_edge+right_edge[1:]\n",
    "        info={'weight':len(pixel_list),'pixel_list':pixel_list}\n",
    "        if right_n!=left_n:\n",
    "            connection_data=nx_graph.get_edge_data(right_n,left_n)\n",
    "            if connection_data is None or connection_data['weight']>=info['weight']:\n",
    "                if not connection_data is None:\n",
    "                    nx_graph.remove_edge(right_n,left_n)\n",
    "                nx_graph.add_edges_from([(right_n,left_n,info)])\n",
    "        nx_graph.remove_node(node)\n",
    "        degree_2_nodes = [node for node in nx_graph.nodes if nx_graph.degree(node)==2]\n",
    "\n",
    "def clean_exp_with_hyphaes(experiment):\n",
    "    ts={}\n",
    "    nx_graph_cleans = [nx.Graph.copy(nx_g) for nx_g in experiment.nx_graph]\n",
    "    exp_clean = Experiment(experiment.plate)\n",
    "    exp_clean.copy(experiment)\n",
    "    labels = {node for g in exp_clean.nx_graph for node in g}\n",
    "    exp_clean.nodes=[]\n",
    "    for label in labels:\n",
    "        exp_clean.nodes.append(Node(label,exp_clean))\n",
    "    for node in exp_clean.nodes:\n",
    "        ts[node.label]=[]\n",
    "        for t in range(len(nx_graph_cleans)):\n",
    "            if node.is_in(t):\n",
    "                ts[node.label].append(t)\n",
    "    print('before getting hyphaes',3 in exp_clean.get_node(1354).ts())\n",
    "    hyphaes,problems = get_hyphae(exp_clean)\n",
    "    print('after getting hyphaes', 3 in exp_clean.get_node(1354).ts())\n",
    "    to_remove=[]\n",
    "    safe_nodes = set()\n",
    "    roots=set()\n",
    "    tips=set()\n",
    "    for hyphae in hyphaes:\n",
    "        roots.add(hyphae.root.label)\n",
    "        tips.add(hyphae.end.label)\n",
    "        for t in hyphae.end.ts():\n",
    "            if t in hyphae.root.ts():\n",
    "                for node in hyphae.get_nodes_within(t)[0]:\n",
    "                    safe_nodes.add(node)\n",
    "    for node in experiment.nodes:\n",
    "        posit = node.pos(ts[node.label][0])\n",
    "        if len(ts[node.label])==1 and ts[node.label][0]!=len(exp_clean.nx_graph)-1 and node.label not in safe_nodes:\n",
    "            to_remove.append(node.label)\n",
    "#     return(to_remove)\n",
    "    print('removing ',len(to_remove),' nodes')\n",
    "    print('removing', 1354 in to_remove)\n",
    "    for node in to_remove:\n",
    "        t= ts[node][0]\n",
    "        pos = exp_clean.positions[t]\n",
    "        nx_graph_clean = nx_graph_cleans[t]\n",
    "#         if t ==3:\n",
    "#             print('before everythin',node,node_to_fuse,1354 in nx_graph_clean)\n",
    "        if nx_graph_clean.degree(node)<=2:\n",
    "            continue\n",
    "#         print('cleaning',node)\n",
    "        neighbours = list(nx_graph_clean.neighbors(node))\n",
    "        candidate_to_fuse=[]\n",
    "        weight_candidate=[]\n",
    "        for neighbour in neighbours:\n",
    "            if nx_graph_clean.degree(neighbour)>=3:\n",
    "                candidate_to_fuse.append(neighbour)\n",
    "                weight_candidate.append(len(nx_graph_clean.get_edge_data(node,neighbour)['pixel_list'])-100*(neighbour in roots)-100*(neighbour in tips))\n",
    "        if len(weight_candidate)==0:\n",
    "            continue\n",
    "        node_to_fuse=candidate_to_fuse[np.argmin(weight_candidate)]\n",
    "        if nx_graph_clean.degree(node)==1 and node_to_fuse not in to_remove:\n",
    "            print(pos[node])\n",
    "            continue\n",
    "        for neighbour in neighbours:\n",
    "            right_n = node_to_fuse\n",
    "            left_n = neighbour\n",
    "            right_edge = nx_graph_clean.get_edge_data(node,right_n)['pixel_list']\n",
    "            left_edge = nx_graph_clean.get_edge_data(node,left_n)['pixel_list']\n",
    "            if np.any(right_edge[0]!=pos[node]):\n",
    "                right_edge = list(reversed(right_edge))\n",
    "            if np.any(left_edge[-1]!=pos[node]):\n",
    "                left_edge = list(reversed(left_edge))\n",
    "            pixel_list = left_edge+right_edge[1:]\n",
    "            info={'weight':len(pixel_list),'pixel_list':pixel_list}\n",
    "            if right_n!=left_n:\n",
    "                connection_data=nx_graph_clean.get_edge_data(right_n,left_n)\n",
    "                if connection_data is None or connection_data['weight']>=info['weight']:\n",
    "                    if not connection_data is None:\n",
    "                        nx_graph_clean.remove_edge(right_n,left_n)\n",
    "                    nx_graph_clean.add_edges_from([(right_n,left_n,info)])\n",
    "#         if t ==3:\n",
    "#             print('before removinb node',node,node_to_fuse,1354 in nx_graph_clean)\n",
    "        nx_graph_clean.remove_node(node)\n",
    "#         if t ==3:\n",
    "#             print('after removinb node',node,node_to_fuse,1354 in nx_graph_clean)\n",
    "        nx_graph_cleans[t]=nx_graph_clean\n",
    "    for t,nx_graph in enumerate(nx_graph_cleans):\n",
    "        pos = exp_clean.positions[t]\n",
    "        reconnect_degree_2(nx_graph,pos)\n",
    "    print('before pruning', 1354 in nx_graph_cleans[3])\n",
    "    nx_graph_pruned=[]\n",
    "    for graph in nx_graph_cleans:\n",
    "        S = [graph.subgraph(c).copy() for c in nx.connected_components(graph)]\n",
    "        len_connected=[len(nx_graph.nodes) for nx_graph in S]\n",
    "        nx_graph_pruned.append(S[np.argmax(len_connected)])\n",
    "    print('after pruning', 1354 in nx_graph_pruned[3])\n",
    "    skeletons=[]\n",
    "    for nx_graph in nx_graph_pruned:\n",
    "        skeletons.append(generate_skeleton(nx_graph,dim=(20800, 46000)))\n",
    "    print('before changing nx_graph',3 in exp_clean.get_node(1354).ts())\n",
    "    exp_clean.nx_graph=nx_graph_pruned\n",
    "    print('after changing nx_graph',3 in exp_clean.get_node(1354).ts())\n",
    "    exp_clean.skeletons=skeletons\n",
    "    labels = {node for g in exp_clean.nx_graph for node in g}\n",
    "    exp_clean.nodes=[]\n",
    "    for hyphae in hyphaes:\n",
    "        hyphae.update_ts()\n",
    "    exp_clean.hyphaes = hyphaes\n",
    "    for label in labels:\n",
    "        exp_clean.nodes.append(Node(label,exp_clean))\n",
    "    return(exp_clean)"
   ]
  },
  {
   "cell_type": "code",
   "execution_count": 29,
   "metadata": {},
   "outputs": [
    {
     "data": {
      "text/plain": [
       "100"
      ]
     },
     "execution_count": 29,
     "metadata": {},
     "output_type": "execute_result"
    }
   ],
   "source": [
    "100*True"
   ]
  },
  {
   "cell_type": "code",
   "execution_count": 15,
   "metadata": {},
   "outputs": [
    {
     "data": {
      "text/plain": [
       "True"
      ]
     },
     "execution_count": 15,
     "metadata": {},
     "output_type": "execute_result"
    }
   ],
   "source": [
    "3 in exp.get_node(1354).ts()"
   ]
  }
 ],
 "metadata": {
  "kernelspec": {
   "display_name": "cleanMsc",
   "language": "python",
   "name": "cleanmsc"
  },
  "language_info": {
   "codemirror_mode": {
    "name": "ipython",
    "version": 3
   },
   "file_extension": ".py",
   "mimetype": "text/x-python",
   "name": "python",
   "nbconvert_exporter": "python",
   "pygments_lexer": "ipython3",
   "version": "3.7.9"
  }
 },
 "nbformat": 4,
 "nbformat_minor": 4
}

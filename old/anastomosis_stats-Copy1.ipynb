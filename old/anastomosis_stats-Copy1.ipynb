{
 "cells": [
  {
   "cell_type": "code",
   "execution_count": 4,
   "metadata": {},
   "outputs": [],
   "source": [
    "%matplotlib widget\n",
    "from util import get_path\n",
    "import pandas as pd\n",
    "import networkx as nx\n",
    "import numpy as np\n",
    "import matplotlib.pyplot as plt\n",
    "from extract_graph import generate_nx_graph, transform_list, generate_skeleton, generate_nx_graph_from_skeleton, from_connection_tab\n",
    "from node_id import whole_movement_identification, second_identification\n",
    "import ast\n",
    "from plotutil import plot_t_tp1, compress_skeleton\n",
    "from scipy import sparse\n",
    "from sparse_util import dilate, zhangSuen\n",
    "from realign import realign\n",
    "from datetime import datetime,timedelta\n",
    "from node_id import orient\n",
    "import pickle\n",
    "from matplotlib.widgets import CheckButtons\n",
    "import scipy.io as sio\n",
    "import imageio\n",
    "from pymatreader import read_mat\n",
    "import os\n",
    "from experiment_class import Experiment\n",
    "import cv2\n",
    "from IPython.display import clear_output\n",
    "from random import choice\n",
    "from sklearn import datasets, linear_model"
   ]
  },
  {
   "cell_type": "code",
   "execution_count": 5,
   "metadata": {},
   "outputs": [],
   "source": [
    "plate = 13\n",
    "directory='//sun.amolf.nl/shimizu-data/home-folder/oyartegalvez/Drive_AMFtopology/PRINCE'\n",
    "listdir=os.listdir(directory) \n",
    "list_dir_interest=[name for name in listdir if name.split('_')[-1]==f'Plate{0 if plate<10 else \"\"}{plate}']\n",
    "ss=[name.split('_')[0] for name in list_dir_interest]\n",
    "ff=[name.split('_')[1] for name in list_dir_interest]\n",
    "dates_datetime=[datetime(year=int(ss[i][:4]),month=int(ss[i][4:6]),day=int(ss[i][6:8]),hour=int(ff[i][0:2]),minute=int(ff[i][2:4])) for i in range(len(list_dir_interest))]\n",
    "dates_datetime.sort()\n",
    "dates_datetime_chosen=dates_datetime[1:25]\n",
    "dates = [f'{0 if date.month<10 else \"\"}{date.month}{0 if date.day<10 else \"\"}{date.day}_{0 if date.hour<10 else \"\"}{date.hour}{0 if date.minute<10 else \"\"}{date.minute}' for date in dates_datetime_chosen]"
   ]
  },
  {
   "cell_type": "code",
   "execution_count": 6,
   "metadata": {},
   "outputs": [],
   "source": [
    "def pinpoint_anastomosis(expe,t):\n",
    "    nx_graph_tm1 = expe.nx_graph[t]\n",
    "    nx_grapht = expe.nx_graph[t+1]\n",
    "    from_tip = expe.connections[t]\n",
    "    pos_tm1 = expe.positions[t]\n",
    "    anastomosis=[]\n",
    "    origins=[]\n",
    "    tips = [node for node in nx_graph_tm1.nodes if nx_graph_tm1.degree(node)==1]\n",
    "    number_anastomosis = 0\n",
    "    def dist_branch(node,nx_graph,pos):\n",
    "        mini=np.inf\n",
    "        for edge in nx_graph.edges:\n",
    "            pixel_list=nx_graph.get_edge_data(*edge)['pixel_list']\n",
    "            if np.linalg.norm(np.array(pixel_list[0])-np.array(pos[node]))<=5000:\n",
    "                distance=np.min(np.linalg.norm(np.array(pixel_list)-np.array(pos[node]),axis=1))\n",
    "                if distance<mini:\n",
    "                    mini=distance\n",
    "        return(mini)\n",
    "    def count_neighbors_is_from_root(equ_list,nx_graph,root):\n",
    "        count=0\n",
    "        for neighbor in nx_graph.neighbors(root):\n",
    "            if neighbor in equ_list:\n",
    "                count+=1\n",
    "        return(count)\n",
    "    for tip in tips:\n",
    "#         print(tip)\n",
    "        consequence = from_tip[tip]\n",
    "        for node in consequence:\n",
    "            if node in nx_grapht.nodes and nx_grapht.degree(node)>=3 and count_neighbors_is_from_root(consequence,nx_grapht,node)<2:\n",
    "#                 if node==2753:\n",
    "#                     print(count_neighbors_is_from_root(consequence,nx_grapht,node))\n",
    "#                     print(list(nx_grapht.neighbors(node)))\n",
    "                anastomosis.append(node)\n",
    "                origins.append(tip)\n",
    "                number_anastomosis+=1\n",
    "        if tip not in nx_grapht.nodes and dist_branch(tip,nx_grapht,pos_tm1)<=30 and nx_graph_tm1.get_edge_data(*list(nx_graph_tm1.edges(tip))[0])['weight']>=20:\n",
    "            origins.append(tip)\n",
    "            number_anastomosis+=1/2\n",
    "    return(anastomosis,origins,number_anastomosis)"
   ]
  },
  {
   "cell_type": "code",
   "execution_count": 7,
   "metadata": {},
   "outputs": [],
   "source": [
    "exp = Experiment(13)\n",
    "exp.load(dates,local=True,raw=False)"
   ]
  },
  {
   "cell_type": "code",
   "execution_count": 10,
   "metadata": {},
   "outputs": [],
   "source": [
    "exp = pickle.load( open( f'Data/'+f\"experiment_{13}.pick\", \"rb\" ) )"
   ]
  },
  {
   "cell_type": "code",
   "execution_count": 259,
   "metadata": {},
   "outputs": [],
   "source": [
    "def clean_exp(experiment):\n",
    "    ts={}\n",
    "    for node in experiment.nodes:\n",
    "        ts[node.label]=[]\n",
    "        for t in range(len(experiment.nx_graph)):\n",
    "            if node.is_in(t):\n",
    "                ts[node.label].append(t)\n",
    "    to_remove=[]\n",
    "    for node in experiment.nodes:\n",
    "        posit = node.pos(ts[node.label][0])\n",
    "        if len(ts[node.label])==1 and ts[node.label][0]!=len(experiment.nx_graph)-1 and posit[0]<19000 and posit[1]>2000:\n",
    "            to_remove.append(node.label)\n",
    "    return(to_remove,ts)\n",
    "                "
   ]
  },
  {
   "cell_type": "code",
   "execution_count": 260,
   "metadata": {},
   "outputs": [],
   "source": [
    "to_look,tis = clean_exp(exp)"
   ]
  },
  {
   "cell_type": "code",
   "execution_count": 261,
   "metadata": {},
   "outputs": [
    {
     "data": {
      "text/plain": [
       "4446"
      ]
     },
     "execution_count": 261,
     "metadata": {},
     "output_type": "execute_result"
    }
   ],
   "source": [
    "len(to_look)"
   ]
  },
  {
   "cell_type": "code",
   "execution_count": 177,
   "metadata": {},
   "outputs": [
    {
     "data": {
      "text/plain": [
       "3.766"
      ]
     },
     "execution_count": 177,
     "metadata": {},
     "output_type": "execute_result"
    }
   ],
   "source": [
    "np.mean(number_tips)"
   ]
  },
  {
   "cell_type": "code",
   "execution_count": 251,
   "metadata": {},
   "outputs": [
    {
     "data": {
      "text/plain": [
       "array([18855,   885])"
      ]
     },
     "execution_count": 251,
     "metadata": {},
     "output_type": "execute_result"
    }
   ],
   "source": [
    "exp.get_node(node).pos(1)"
   ]
  },
  {
   "cell_type": "code",
   "execution_count": 271,
   "metadata": {},
   "outputs": [],
   "source": [
    "node=choice(to_look)"
   ]
  },
  {
   "cell_type": "code",
   "execution_count": 272,
   "metadata": {},
   "outputs": [
    {
     "data": {
      "application/vnd.jupyter.widget-view+json": {
       "model_id": "b41987b93fb645bb96bec1f3f71c1ee7",
       "version_major": 2,
       "version_minor": 0
      },
      "text/plain": [
       "Canvas(toolbar=Toolbar(toolitems=[('Home', 'Reset original view', 'home', 'home'), ('Back', 'Back to previous …"
      ]
     },
     "metadata": {},
     "output_type": "display_data"
    }
   ],
   "source": [
    "exp.plot([tis[node][0],tis[node][0]+1,tis[node][0]+2],node_lists=[[node]],compress=5)"
   ]
  },
  {
   "cell_type": "code",
   "execution_count": 268,
   "metadata": {},
   "outputs": [],
   "source": [
    "plt.close('all')"
   ]
  },
  {
   "cell_type": "code",
   "execution_count": 215,
   "metadata": {},
   "outputs": [
    {
     "data": {
      "application/vnd.jupyter.widget-view+json": {
       "model_id": "01416eaf1df240188d5dea77f3729876",
       "version_major": 2,
       "version_minor": 0
      },
      "text/plain": [
       "Canvas(toolbar=Toolbar(toolitems=[('Home', 'Reset original view', 'home', 'home'), ('Back', 'Back to previous …"
      ]
     },
     "metadata": {},
     "output_type": "display_data"
    }
   ],
   "source": [
    "exp.plot([18,19,20],node_lists=[[11698]]*3,compress=5)"
   ]
  },
  {
   "cell_type": "code",
   "execution_count": 212,
   "metadata": {},
   "outputs": [
    {
     "name": "stdout",
     "output_type": "stream",
     "text": [
      "18\n",
      "19\n",
      "20\n",
      "21\n",
      "22\n"
     ]
    }
   ],
   "source": [
    "for i in range(24):\n",
    "    if exp.get_node(11698).is_in(i):\n",
    "        print(i)"
   ]
  },
  {
   "cell_type": "code",
   "execution_count": 213,
   "metadata": {},
   "outputs": [
    {
     "data": {
      "text/plain": [
       "array([9357, 7821])"
      ]
     },
     "execution_count": 213,
     "metadata": {},
     "output_type": "execute_result"
    }
   ],
   "source": [
    "exp.get_node(11698).pos(18)"
   ]
  },
  {
   "cell_type": "code",
   "execution_count": 7,
   "metadata": {},
   "outputs": [],
   "source": [
    "tip_track={}\n",
    "tip_ts={}\n",
    "for node in exp.nodes:\n",
    "    for t in range(len(exp.dates)):\n",
    "        if node.is_in(t) and node.degree(t)==1:\n",
    "            track = []\n",
    "            for tsup in range(t,len(exp.dates)):\n",
    "                if node.is_in(tsup):\n",
    "                    track.append(node.pos(tsup))\n",
    "            tip_track[node.label] = track\n",
    "            tip_ts[node.label] = t\n",
    "            break\n",
    "tip_growth={tip : [np.linalg.norm(tip_track[tip][i+1]-tip_track[tip][i]) for i in range(len(tip_track[tip])-1)] for tip in tip_track.keys()}\n",
    "tip_of_interest=[tip for tip in tip_growth.keys() if np.any(np.array(tip_growth[tip])>=100)]"
   ]
  },
  {
   "cell_type": "code",
   "execution_count": 8,
   "metadata": {},
   "outputs": [],
   "source": [
    "tip=choice(tip_of_interest)\n",
    "node_interest=tip\n",
    "poss = exp.positions\n",
    "ts = [t for t in range(len(poss)) if exp.get_node(tip).is_in(t)]"
   ]
  },
  {
   "cell_type": "code",
   "execution_count": 9,
   "metadata": {},
   "outputs": [
    {
     "data": {
      "application/vnd.jupyter.widget-view+json": {
       "model_id": "c335b47e9de5430589d8848c03c432c4",
       "version_major": 2,
       "version_minor": 0
      },
      "text/plain": [
       "Canvas(toolbar=Toolbar(toolitems=[('Home', 'Reset original view', 'home', 'home'), ('Back', 'Back to previous …"
      ]
     },
     "metadata": {},
     "output_type": "display_data"
    }
   ],
   "source": [
    "fig = plt.figure()\n",
    "ax = fig.add_subplot(111)\n",
    "ax.set_xlabel('time (h)')\n",
    "ax.set_ylabel('growth (mm/day)')\n",
    "for i in range(20):\n",
    "    tip=choice(tip_of_interest)\n",
    "    spotting,=ax.plot(np.array(range(len(tip_growth[tip])))*4,np.array(tip_growth[tip])*1.725/4*24/1000)\n",
    "    spotting.set_label(str(tip))\n",
    "ax.legend()\n",
    "plt.show()"
   ]
  },
  {
   "cell_type": "code",
   "execution_count": 12,
   "metadata": {},
   "outputs": [],
   "source": [
    "def get_angle(pos1,pos2):\n",
    "    vector = pos2-pos1\n",
    "    unit_vector = vector/np.linalg.norm(vector)\n",
    "    vertical_vector=np.array([-1,0])\n",
    "    dot_product = np.dot(vertical_vector,unit_vector)\n",
    "    if vertical_vector[1]*vector[0]-vertical_vector[0]*vector[1]>=0: #determinant\n",
    "        angle = np.arccos(dot_product)/(2*np.pi)*360\n",
    "    else:\n",
    "        angle = -np.arccos(dot_product)/(2*np.pi)*360\n",
    "    return(angle)\n",
    "\n",
    "def becomes_degree3(node):\n",
    "    node_obj = exp.get_node(node)\n",
    "    for t in range(len(exp.nx_graph)):\n",
    "        if node_obj.is_in(t) and node_obj.degree(t)==3:\n",
    "            return(True,t)\n",
    "    return(False,None)"
   ]
  },
  {
   "cell_type": "code",
   "execution_count": 21,
   "metadata": {},
   "outputs": [],
   "source": [
    "min_growth=30\n",
    "anastomose = [tip for tip in tip_of_interest if becomes_degree3(tip)[0]]\n",
    "stop = [tip for tip in tip_of_interest if not becomes_degree3(tip)[0]]\n",
    "stop_with_long_growth=[tip for tip in stop if np.sum(tip_growth[tip])>500]\n",
    "anastomose_with_long_growth=[tip for tip in anastomose if np.sum(tip_growth[tip])>500]\n",
    "angles = {tip : [get_angle(tip_track[tip][i+1],tip_track[tip][i]) for i in range(len(tip_track[tip])-1) if tip_growth[tip][i]>=min_growth] for tip in stop}\n",
    "angles_last = {tipi : [angles[tipi][i+1]-angles[tipi][i] for i in range(len(angles[tipi])-1)] for tipi in angles.keys()}\n",
    "tis = {tip : [i for i in range(len(tip_track[tip])-1) if tip_growth[tip][i]>=min_growth] for tip in stop}\n",
    "tips_for_angle=[tip for tip in stop if len(angles[tip])>=4 and not np.any(np.abs(np.array(angles_last[tip]))>=90)]\n",
    "distances = {tip : [np.linalg.norm(tip_track[tip][t]-tip_track[tip][tis[tip][0]]) for t in tis[tip]] for tip in tips_for_angle}\n"
   ]
  },
  {
   "cell_type": "code",
   "execution_count": 16,
   "metadata": {},
   "outputs": [
    {
     "data": {
      "text/plain": [
       "55"
      ]
     },
     "execution_count": 16,
     "metadata": {},
     "output_type": "execute_result"
    }
   ],
   "source": [
    "len(tips_for_angle)"
   ]
  },
  {
   "cell_type": "code",
   "execution_count": 63,
   "metadata": {},
   "outputs": [
    {
     "data": {
      "application/vnd.jupyter.widget-view+json": {
       "model_id": "e3bf0693a1a741a8984b1fb9a85bc406",
       "version_major": 2,
       "version_minor": 0
      },
      "text/plain": [
       "Canvas(toolbar=Toolbar(toolitems=[('Home', 'Reset original view', 'home', 'home'), ('Back', 'Back to previous …"
      ]
     },
     "metadata": {},
     "output_type": "display_data"
    }
   ],
   "source": [
    "fig = plt.figure()\n",
    "ax = fig.add_subplot(111)\n",
    "ax.set_xlabel('time (h)')\n",
    "ax.set_ylabel('angle_from_begining(°)')\n",
    "for tip in tips_for_angle[0:10]:\n",
    "    if len(angles[tip])>=1 and not np.any(np.abs(np.array(angles_last[tip]))>=90):\n",
    "        spotting,=ax.plot(np.array(tis[tip])*4,(np.array(angles[tip])-angles[tip][0]+180)%360-180)\n",
    "        spotting.set_label(str(tip))\n",
    "ax.legend()\n",
    "plt.show()"
   ]
  },
  {
   "cell_type": "code",
   "execution_count": 18,
   "metadata": {},
   "outputs": [],
   "source": [
    "plt.close('all')"
   ]
  },
  {
   "cell_type": "code",
   "execution_count": 64,
   "metadata": {},
   "outputs": [
    {
     "data": {
      "application/vnd.jupyter.widget-view+json": {
       "model_id": "29cd9faf227f4c32934d5ff39e552644",
       "version_major": 2,
       "version_minor": 0
      },
      "text/plain": [
       "Canvas(toolbar=Toolbar(toolitems=[('Home', 'Reset original view', 'home', 'home'), ('Back', 'Back to previous …"
      ]
     },
     "metadata": {},
     "output_type": "display_data"
    }
   ],
   "source": [
    "tip=79\n",
    "node_interest=tip\n",
    "poss = exp.positions\n",
    "ts = [t for t in range(len(poss)) if exp.get_node(tip).is_in(t)]\n",
    "pos_problem=[poss[i][node_interest] for i in ts]\n",
    "xbegin=[pos_problem[i][0]-1500 for i in range(len(ts))]\n",
    "ybegin=[pos_problem[i][1]-1500 for i in range(len(ts))]\n",
    "xend=[pos_problem[i][0]+1500 for i in range(len(ts))]\n",
    "yend=[pos_problem[i][1]+1500 for i in range(len(ts))]\n",
    "skeletons_small=[]\n",
    "for i in range(len(ts)):\n",
    "    skeletons_small.append(exp.skeletons[ts[i]][xbegin[i]:xend[i],ybegin[i]:yend[i]])\n",
    "if ts[-1]<len(exp.skeletons)-1:\n",
    "    skeletons_small.append(exp.skeletons[ts[-1]+1][xbegin[-1]:xend[-1],ybegin[-1]:yend[-1]])\n",
    "node_smalls=[]\n",
    "for i in range(len(ts)):\n",
    "    node_smalls.append([node for node in exp.nx_graph[ts[i]].nodes if (xbegin[i]<poss[ts[i]][node][0]<xend[i] and ybegin[i]<poss[ts[i]][node][1]<yend[i] and exp.nx_graph[ts[i]].degree(node)>=1)])\n",
    "kernel = np.ones((5,5),np.uint8)\n",
    "skeletons_small_dilated=[cv2.dilate(skeleton.todense().astype(np.uint8),kernel,iterations = 1) for skeleton in skeletons_small]\n",
    "for tp1 in range(len(node_smalls)):\n",
    "    plot_t_tp1([node_interest],[node_interest],poss[ts[tp1]],poss[ts[tp1]],skeletons_small_dilated[tp1],skeletons_small_dilated[tp1],shift=(xbegin[tp1],ybegin[tp1]),save=f'Data/video_test/network_timestep_{tp1}',time=f't={4*tp1}h')\n",
    "    clear_output(wait=True)\n",
    "if ts[-1]<len(exp.skeletons)-1:\n",
    "    plot_t_tp1([],[],poss[ts[-1]+1],poss[ts[-1]+1],skeletons_small_dilated[-1],skeletons_small_dilated[-1],shift=(xbegin[-1],ybegin[-1]),save=f'Data/video_test/network_timestep_{len(node_smalls)}',time=f't={len(node_smalls)}h')\n",
    "    clear_output(wait=True)\n",
    "images = []\n",
    "for t in range(len(node_smalls)):\n",
    "    images.append(imageio.imread(f'Data/video_test/network_timestep_{t}.png'))\n",
    "if ts[-1]<len(exp.skeletons)-1:\n",
    "    images.append(imageio.imread(f'Data/video_test/network_timestep_{len(node_smalls)}.png'))\n",
    "imageio.mimsave(f'Data/video_test/tips_for_angle/{node_interest}movie_track.gif', images,duration=1)"
   ]
  },
  {
   "cell_type": "code",
   "execution_count": 65,
   "metadata": {},
   "outputs": [
    {
     "data": {
      "application/vnd.jupyter.widget-view+json": {
       "model_id": "161de8c7671043b6b58499f28553fe76",
       "version_major": 2,
       "version_minor": 0
      },
      "text/plain": [
       "Canvas(toolbar=Toolbar(toolitems=[('Home', 'Reset original view', 'home', 'home'), ('Back', 'Back to previous …"
      ]
     },
     "metadata": {},
     "output_type": "display_data"
    }
   ],
   "source": [
    "fig = plt.figure()\n",
    "ax = fig.add_subplot(111)\n",
    "ax.set_xlabel('distance (mm)')\n",
    "ax.set_ylabel('angle_from_begining(°)')\n",
    "for tip in [tip]:\n",
    "    if len(angles[tip])>=1 and not np.any(np.abs(np.array(angles_last[tip]))>=90):\n",
    "        spotting,=ax.plot(np.array(distances[tip])*1.725/1000+1,(np.array(angles[tip])-angles[tip][0]+180)%360-180)\n",
    "#         spotting.set_label(str(tip))\n",
    "# ax.legend()\n",
    "plt.show()"
   ]
  },
  {
   "cell_type": "code",
   "execution_count": 66,
   "metadata": {},
   "outputs": [
    {
     "name": "stdout",
     "output_type": "stream",
     "text": [
      "3165.5831279573613\n"
     ]
    },
    {
     "data": {
      "application/vnd.jupyter.widget-view+json": {
       "model_id": "cf4b2f0894974f3c859e29a3a8961660",
       "version_major": 2,
       "version_minor": 0
      },
      "text/plain": [
       "Canvas(toolbar=Toolbar(toolitems=[('Home', 'Reset original view', 'home', 'home'), ('Back', 'Back to previous …"
      ]
     },
     "metadata": {},
     "output_type": "display_data"
    }
   ],
   "source": [
    "angles_interest = ((np.array(angles[tip])-angles[tip][0]+180)%360-180)/360*2*np.pi\n",
    "distances_interest = np.array(distances[tip])*1.725/1000+1\n",
    "dist=[]\n",
    "cosins = []\n",
    "for i,angle in enumerate(angles_interest):\n",
    "    for j in range(i+1,len(angles_interest)):\n",
    "        dist.append(distances_interest[j]-distances_interest[i])\n",
    "        cosins.append(np.cos(angles_interest[j]-angles_interest[i]))\n",
    "num_slices=len(distances[tip])//2\n",
    "slices = [(i*max(dist)/num_slices,(i+1)*max(dist)/num_slices) for i in range(num_slices)]\n",
    "end_slice = [slico[1] for slico in slices]\n",
    "slice_cosins = [[cos for k,cos in enumerate(cosins) if slico[0]<=dist[k]<slico[1]] for slico in slices]\n",
    "slice_cosins_av=[np.mean(slice_cos) for slice_cos in slice_cosins]\n",
    "slice_size = [len(slice_cos) for slice_cos in slice_cosins]\n",
    "regr = linear_model.LinearRegression()\n",
    "regr.fit(np.array(end_slice).reshape(-1,1),np.log(np.array(slice_cosins_av)).reshape(-1,1),sample_weight=slice_size)\n",
    "fit = regr.predict(np.array(end_slice).reshape(-1,1))\n",
    "print(-1/regr.coef_[0][0])\n",
    "fig = plt.figure()\n",
    "ax = fig.add_subplot(111)\n",
    "ax.set_xlabel('distance (mm)')\n",
    "ax.set_ylabel('angle_from_begining(log(°))')\n",
    "ax.scatter(end_slice,np.log(np.array(slice_cosins_av)))\n",
    "plt.plot(end_slice,fit)\n",
    "#         spotting.set_label(str(tip))\n",
    "# ax.legend()\n",
    "plt.show()"
   ]
  },
  {
   "cell_type": "code",
   "execution_count": 59,
   "metadata": {},
   "outputs": [],
   "source": [
    "persistence_lenghts={}\n",
    "for tip in tips_for_angle:    \n",
    "    angles_interest = ((np.array(angles[tip])-angles[tip][0]+180)%360-180)/360*2*np.pi\n",
    "    distances_interest = np.array(distances[tip])*1.725/1000+1\n",
    "    dist=[]\n",
    "    cosins = []\n",
    "    for i,angle in enumerate(angles_interest):\n",
    "        for j in range(i+1,len(angles_interest)):\n",
    "            dist.append(distances_interest[j]-distances_interest[i])\n",
    "            cosins.append(np.cos(angles_interest[j]-angles_interest[i]))\n",
    "    num_slices=len(distances[tip])//2\n",
    "    slices = [(i*max(dist)/num_slices,(i+1)*max(dist)/num_slices) for i in range(num_slices)]\n",
    "    end_slice = [slico[1] for slico in slices]\n",
    "    slice_cosins = [[cos for k,cos in enumerate(cosins) if slico[0]<=dist[k]<slico[1]] for slico in slices]\n",
    "    slice_cosins_av=[np.mean(slice_cos) for slice_cos in slice_cosins]\n",
    "    slice_size = [len(slice_cos) for slice_cos in slice_cosins]\n",
    "    regr = linear_model.LinearRegression()\n",
    "    regr.fit(np.array(end_slice).reshape(-1,1),np.log(np.array(slice_cosins_av)).reshape(-1,1),sample_weight=slice_size)\n",
    "    fit = regr.predict(np.array(end_slice).reshape(-1,1))\n",
    "    if regr.coef_[0][0]<0:\n",
    "        persistence_lenghts[tip]=-1/regr.coef_[0][0]"
   ]
  },
  {
   "cell_type": "code",
   "execution_count": null,
   "metadata": {},
   "outputs": [],
   "source": [
    "# persistence_lenghts.remove(np.max(persistence_lenghts))\n",
    "# persistence_lenghts.remove(np.min(persistence_lenghts))\n",
    "persistence_lenghts"
   ]
  },
  {
   "cell_type": "code",
   "execution_count": 68,
   "metadata": {},
   "outputs": [
    {
     "data": {
      "application/vnd.jupyter.widget-view+json": {
       "model_id": "b15916cf114a442ab028cb54ba98d37d",
       "version_major": 2,
       "version_minor": 0
      },
      "text/plain": [
       "Canvas(toolbar=Toolbar(toolitems=[('Home', 'Reset original view', 'home', 'home'), ('Back', 'Back to previous …"
      ]
     },
     "metadata": {},
     "output_type": "display_data"
    },
    {
     "data": {
      "text/plain": [
       "(array([ 3.,  7., 17.,  6.,  6.,  4.,  0.,  1.,  0.,  1.]),\n",
       " array([-0.13519238,  0.33862752,  0.81244741,  1.28626731,  1.7600872 ,\n",
       "         2.23390709,  2.70772699,  3.18154688,  3.65536678,  4.12918667,\n",
       "         4.60300656]),\n",
       " <BarContainer object of 10 artists>)"
      ]
     },
     "execution_count": 68,
     "metadata": {},
     "output_type": "execute_result"
    }
   ],
   "source": [
    "fig = plt.figure()\n",
    "ax = fig.add_subplot(111)\n",
    "ax.set_ylabel('Number in this category')\n",
    "ax.set_xlabel('log10(persistence_length) (log(mm))')\n",
    "ax.hist(np.log10(list(persistence_lenghts.values())))"
   ]
  },
  {
   "cell_type": "code",
   "execution_count": 69,
   "metadata": {},
   "outputs": [],
   "source": [
    "plt.close('all')"
   ]
  },
  {
   "cell_type": "code",
   "execution_count": 70,
   "metadata": {},
   "outputs": [
    {
     "data": {
      "application/vnd.jupyter.widget-view+json": {
       "model_id": "e815159d40c64fcbb35d40f8d4da9a1f",
       "version_major": 2,
       "version_minor": 0
      },
      "text/plain": [
       "Canvas(toolbar=Toolbar(toolitems=[('Home', 'Reset original view', 'home', 'home'), ('Back', 'Back to previous …"
      ]
     },
     "metadata": {},
     "output_type": "display_data"
    }
   ],
   "source": [
    "for i in range(10):\n",
    "    tip=choice(anastomose)\n",
    "    node_interest=tip\n",
    "    poss = exp.positions\n",
    "    ts = [t for t in range(len(poss)) if exp.get_node(tip).is_in(t)]\n",
    "    pos_problem=[poss[i][node_interest] for i in ts]\n",
    "    xbegin=[pos_problem[i][0]-1500 for i in range(len(ts))]\n",
    "    ybegin=[pos_problem[i][1]-1500 for i in range(len(ts))]\n",
    "    xend=[pos_problem[i][0]+1500 for i in range(len(ts))]\n",
    "    yend=[pos_problem[i][1]+1500 for i in range(len(ts))]\n",
    "    skeletons_small=[]\n",
    "    for i in range(len(ts)):\n",
    "        skeletons_small.append(exp.skeletons[ts[i]][xbegin[i]:xend[i],ybegin[i]:yend[i]])\n",
    "    if ts[-1]<len(exp.skeletons)-1:\n",
    "        skeletons_small.append(exp.skeletons[ts[-1]+1][xbegin[-1]:xend[-1],ybegin[-1]:yend[-1]])\n",
    "    node_smalls=[]\n",
    "    for i in range(len(ts)):\n",
    "        node_smalls.append([node for node in exp.nx_graph[ts[i]].nodes if (xbegin[i]<poss[ts[i]][node][0]<xend[i] and ybegin[i]<poss[ts[i]][node][1]<yend[i] and exp.nx_graph[ts[i]].degree(node)>=1)])\n",
    "    kernel = np.ones((5,5),np.uint8)\n",
    "    skeletons_small_dilated=[cv2.dilate(skeleton.todense().astype(np.uint8),kernel,iterations = 1) for skeleton in skeletons_small]\n",
    "    for tp1 in range(len(node_smalls)):\n",
    "        plot_t_tp1([node_interest],[node_interest],poss[ts[tp1]],poss[ts[tp1]],skeletons_small_dilated[tp1],skeletons_small_dilated[tp1],shift=(xbegin[tp1],ybegin[tp1]),save=f'Data/video_test/network_timestep_{tp1}',time=f't={4*tp1}h')\n",
    "        clear_output(wait=True)\n",
    "    if ts[-1]<len(exp.skeletons)-1:\n",
    "        plot_t_tp1([],[],poss[ts[-1]+1],poss[ts[-1]+1],skeletons_small_dilated[-1],skeletons_small_dilated[-1],shift=(xbegin[-1],ybegin[-1]),save=f'Data/video_test/network_timestep_{len(node_smalls)}',time=f't={len(node_smalls)}h')\n",
    "        clear_output(wait=True)\n",
    "    images = []\n",
    "    for t in range(len(node_smalls)):\n",
    "        images.append(imageio.imread(f'Data/video_test/network_timestep_{t}.png'))\n",
    "    if ts[-1]<len(exp.skeletons)-1:\n",
    "        images.append(imageio.imread(f'Data/video_test/network_timestep_{len(node_smalls)}.png'))\n",
    "    imageio.mimsave(f'Data/video_test/anast_no_clean/{node_interest}movie_track.gif', images,duration=1)\n",
    "    plt.close('all')"
   ]
  },
  {
   "cell_type": "code",
   "execution_count": 73,
   "metadata": {},
   "outputs": [
    {
     "data": {
      "application/vnd.jupyter.widget-view+json": {
       "model_id": "4bb91e683d9242eaab7ab9f60d16d79d",
       "version_major": 2,
       "version_minor": 0
      },
      "text/plain": [
       "Canvas(toolbar=Toolbar(toolitems=[('Home', 'Reset original view', 'home', 'home'), ('Back', 'Back to previous …"
      ]
     },
     "metadata": {},
     "output_type": "display_data"
    }
   ],
   "source": [
    "tip=choice(anastomose)\n",
    "node_interest=tip\n",
    "poss = exp.positions\n",
    "ts = [t for t in range(len(poss)) if exp.get_node(tip).is_in(t)]\n",
    "pos_problem=[poss[i][node_interest] for i in ts]\n",
    "xbegin=[pos_problem[i][0]-1500 for i in range(len(ts))]\n",
    "ybegin=[pos_problem[i][1]-1500 for i in range(len(ts))]\n",
    "xend=[pos_problem[i][0]+1500 for i in range(len(ts))]\n",
    "yend=[pos_problem[i][1]+1500 for i in range(len(ts))]\n",
    "skeletons_small=[]\n",
    "for i in range(len(ts)):\n",
    "    skeletons_small.append(exp.skeletons[ts[i]][xbegin[i]:xend[i],ybegin[i]:yend[i]])\n",
    "if ts[-1]<len(exp.skeletons)-1:\n",
    "    skeletons_small.append(exp.skeletons[ts[-1]+1][xbegin[-1]:xend[-1],ybegin[-1]:yend[-1]])\n",
    "node_smalls=[]\n",
    "for i in range(len(ts)):\n",
    "    node_smalls.append([node for node in exp.nx_graph[ts[i]].nodes if (xbegin[i]<poss[ts[i]][node][0]<xend[i] and ybegin[i]<poss[ts[i]][node][1]<yend[i] and exp.nx_graph[ts[i]].degree(node)>=1)])\n",
    "kernel = np.ones((5,5),np.uint8)\n",
    "skeletons_small_dilated=[cv2.dilate(skeleton.todense().astype(np.uint8),kernel,iterations = 1) for skeleton in skeletons_small]\n",
    "for tp1 in range(len(node_smalls)):\n",
    "    plot_t_tp1(node_smalls[tp1],node_smalls[tp1],poss[ts[tp1]],poss[ts[tp1]],skeletons_small_dilated[tp1],skeletons_small_dilated[tp1],shift=(xbegin[tp1],ybegin[tp1]),save=f'Data/video_test/network_timestep_{tp1}',time=f't={4*tp1}h')\n",
    "    clear_output(wait=True)\n",
    "if ts[-1]<len(exp.skeletons)-1:\n",
    "    plot_t_tp1([],[],poss[ts[-1]+1],poss[ts[-1]+1],skeletons_small_dilated[-1],skeletons_small_dilated[-1],shift=(xbegin[-1],ybegin[-1]),save=f'Data/video_test/network_timestep_{tp1}',time=f't={len(node_smalls)}h')\n",
    "    clear_output(wait=True)\n",
    "images = []\n",
    "for t in range(len(node_smalls)):\n",
    "    images.append(imageio.imread(f'Data/video_test/network_timestep_{t}.png'))\n",
    "if ts[-1]<len(exp.skeletons)-1:\n",
    "    images.append(imageio.imread(f'Data/video_test/network_timestep_{len(node_smalls)}.png'))\n",
    "imageio.mimsave(f'Data/video_test/{node_interest}movie_track.gif', images,duration=1)"
   ]
  },
  {
   "cell_type": "code",
   "execution_count": 74,
   "metadata": {},
   "outputs": [
    {
     "data": {
      "text/plain": [
       "4847"
      ]
     },
     "execution_count": 74,
     "metadata": {},
     "output_type": "execute_result"
    }
   ],
   "source": [
    "tip"
   ]
  },
  {
   "cell_type": "code",
   "execution_count": 199,
   "metadata": {},
   "outputs": [
    {
     "data": {
      "application/vnd.jupyter.widget-view+json": {
       "model_id": "ae239b7da77c4e2cb1523fe9f6923cb5",
       "version_major": 2,
       "version_minor": 0
      },
      "text/plain": [
       "Canvas(toolbar=Toolbar(toolitems=[('Home', 'Reset original view', 'home', 'home'), ('Back', 'Back to previous …"
      ]
     },
     "metadata": {},
     "output_type": "display_data"
    }
   ],
   "source": [
    "fig = plt.figure()\n",
    "ax = fig.add_subplot(111)\n",
    "ax.set_xlabel('time (h)')\n",
    "ax.set_ylabel('growth (mm/day)')\n",
    "spotting,=ax.plot(np.array(range(len(tip_growth[tip])))*4,np.array(tip_growth[tip])*1.725/4*24/1000)\n",
    "spotting.set_label(str(tip))\n",
    "ax.legend()\n",
    "plt.show()"
   ]
  },
  {
   "cell_type": "code",
   "execution_count": 15,
   "metadata": {},
   "outputs": [
    {
     "data": {
      "application/vnd.jupyter.widget-view+json": {
       "model_id": "6f4aa4598bd641c39f4b0ec50b1ba679",
       "version_major": 2,
       "version_minor": 0
      },
      "text/plain": [
       "Canvas(toolbar=Toolbar(toolitems=[('Home', 'Reset original view', 'home', 'home'), ('Back', 'Back to previous …"
      ]
     },
     "metadata": {},
     "output_type": "display_data"
    }
   ],
   "source": [
    "for i in range(10):\n",
    "    tip=choice(stop)\n",
    "    node_interest=tip\n",
    "    poss = exp.positions\n",
    "    ts = [t for t in range(len(poss)) if exp.get_node(tip).is_in(t)]\n",
    "    pos_problem=[poss[i][node_interest] for i in ts]\n",
    "    xbegin=[pos_problem[i][0]-1500 for i in range(len(ts))]\n",
    "    ybegin=[pos_problem[i][1]-1500 for i in range(len(ts))]\n",
    "    xend=[pos_problem[i][0]+1500 for i in range(len(ts))]\n",
    "    yend=[pos_problem[i][1]+1500 for i in range(len(ts))]\n",
    "    skeletons_small=[]\n",
    "    for i in range(len(ts)):\n",
    "        skeletons_small.append(exp.skeletons[ts[i]][xbegin[i]:xend[i],ybegin[i]:yend[i]])\n",
    "    if ts[-1]<len(exp.skeletons)-1:\n",
    "        skeletons_small.append(exp.skeletons[ts[-1]+1][xbegin[-1]:xend[-1],ybegin[-1]:yend[-1]])\n",
    "    node_smalls=[]\n",
    "    for i in range(len(ts)):\n",
    "        node_smalls.append([node for node in exp.nx_graph[ts[i]].nodes if (xbegin[i]<poss[ts[i]][node][0]<xend[i] and ybegin[i]<poss[ts[i]][node][1]<yend[i] and exp.nx_graph[ts[i]].degree(node)>=1)])\n",
    "    kernel = np.ones((5,5),np.uint8)\n",
    "    skeletons_small_dilated=[cv2.dilate(skeleton.todense().astype(np.uint8),kernel,iterations = 1) for skeleton in skeletons_small]\n",
    "    for tp1 in range(len(node_smalls)):\n",
    "        plot_t_tp1([node_interest],[node_interest],poss[ts[tp1]],poss[ts[tp1]],skeletons_small_dilated[tp1],skeletons_small_dilated[tp1],shift=(xbegin[tp1],ybegin[tp1]),save=f'Data/video_test/network_timestep_{tp1}',time=f't={4*tp1}h')\n",
    "        clear_output(wait=True)\n",
    "    if ts[-1]<len(exp.skeletons)-1:\n",
    "        plot_t_tp1([],[],poss[ts[-1]+1],poss[ts[-1]+1],skeletons_small_dilated[-1],skeletons_small_dilated[-1],shift=(xbegin[-1],ybegin[-1]),save=f'Data/video_test/network_timestep_{len(node_smalls)}',time=f't={len(node_smalls)}h')\n",
    "        clear_output(wait=True)\n",
    "    images = []\n",
    "    for t in range(len(node_smalls)):\n",
    "        images.append(imageio.imread(f'Data/video_test/network_timestep_{t}.png'))\n",
    "    if ts[-1]<len(exp.skeletons)-1:\n",
    "        images.append(imageio.imread(f'Data/video_test/network_timestep_{len(node_smalls)}.png'))\n",
    "    imageio.mimsave(f'Data/video_test/stop_no_clean/{node_interest}movie_track.gif', images,duration=1)\n",
    "    plt.close('all')\n",
    "# fig = plt.figure()\n",
    "# ax = fig.add_subplot(111)\n",
    "# ax.set_xlabel('time (h)')\n",
    "# ax.set_ylabel('growth (mm/day)')\n",
    "# spotting,=ax.plot(np.array(range(len(tip_growth[tip])))*4,np.array(tip_growth[tip])*1.725/4*24/1000)\n",
    "# spotting.set_label(str(tip))\n",
    "# ax.legend()\n",
    "# plt.show()"
   ]
  },
  {
   "cell_type": "code",
   "execution_count": null,
   "metadata": {},
   "outputs": [],
   "source": [
    "for i in range(10):\n",
    "    tip=choice(stop_with_long_growth)\n",
    "    node_interest=tip\n",
    "    poss = exp.positions\n",
    "    ts = [t for t in range(len(poss)) if exp.get_node(tip).is_in(t)]\n",
    "    pos_problem=[poss[i][node_interest] for i in ts]\n",
    "    xbegin=[pos_problem[i][0]-1500 for i in range(len(ts))]\n",
    "    ybegin=[pos_problem[i][1]-1500 for i in range(len(ts))]\n",
    "    xend=[pos_problem[i][0]+1500 for i in range(len(ts))]\n",
    "    yend=[pos_problem[i][1]+1500 for i in range(len(ts))]\n",
    "    skeletons_small=[]\n",
    "    for i in range(len(ts)):\n",
    "        skeletons_small.append(exp.skeletons[ts[i]][xbegin[i]:xend[i],ybegin[i]:yend[i]])\n",
    "    if ts[-1]<len(exp.skeletons)-1:\n",
    "        skeletons_small.append(exp.skeletons[ts[-1]+1][xbegin[-1]:xend[-1],ybegin[-1]:yend[-1]])\n",
    "    node_smalls=[]\n",
    "    for i in range(len(ts)):\n",
    "        node_smalls.append([node for node in exp.nx_graph[ts[i]].nodes if (xbegin[i]<poss[ts[i]][node][0]<xend[i] and ybegin[i]<poss[ts[i]][node][1]<yend[i] and exp.nx_graph[ts[i]].degree(node)>=1)])\n",
    "    kernel = np.ones((5,5),np.uint8)\n",
    "    skeletons_small_dilated=[cv2.dilate(skeleton.todense().astype(np.uint8),kernel,iterations = 1) for skeleton in skeletons_small]\n",
    "    for tp1 in range(len(node_smalls)):\n",
    "        plot_t_tp1([node_interest],[node_interest],poss[ts[tp1]],poss[ts[tp1]],skeletons_small_dilated[tp1],skeletons_small_dilated[tp1],shift=(xbegin[tp1],ybegin[tp1]),save=f'Data/video_test/network_timestep_{tp1}',time=f't={4*tp1}h')\n",
    "        clear_output(wait=True)\n",
    "    if ts[-1]<len(exp.skeletons)-1:\n",
    "        plot_t_tp1([],[],poss[ts[-1]+1],poss[ts[-1]+1],skeletons_small_dilated[-1],skeletons_small_dilated[-1],shift=(xbegin[-1],ybegin[-1]),save=f'Data/video_test/network_timestep_{tp1}',time=f't={len(node_smalls)}h')\n",
    "        clear_output(wait=True)\n",
    "    images = []\n",
    "    for t in range(len(node_smalls)):\n",
    "        images.append(imageio.imread(f'Data/video_test/network_timestep_{t}.png'))\n",
    "    if ts[-1]<len(exp.skeletons)-1:\n",
    "        images.append(imageio.imread(f'Data/video_test/network_timestep_{len(node_smalls)}.png'))\n",
    "    imageio.mimsave(f'Data/video_test/stop_long/{node_interest}movie_track.gif', images,duration=1)\n",
    "    plt.close('all')\n",
    "# fig = plt.figure()\n",
    "# ax = fig.add_subplot(111)\n",
    "# ax.set_xlabel('time (h)')\n",
    "# ax.set_ylabel('growth (mm/day)')\n",
    "# spotting,=ax.plot(np.array(range(len(tip_growth[tip])))*4,np.array(tip_growth[tip])*1.725/4*24/1000)\n",
    "# spotting.set_label(str(tip))\n",
    "# ax.legend()\n",
    "# plt.show()"
   ]
  },
  {
   "cell_type": "code",
   "execution_count": 209,
   "metadata": {},
   "outputs": [
    {
     "data": {
      "text/plain": [
       "0.3105"
      ]
     },
     "execution_count": 209,
     "metadata": {},
     "output_type": "execute_result"
    }
   ],
   "source": [
    "30*1.725/4*24/1000"
   ]
  },
  {
   "cell_type": "code",
   "execution_count": 206,
   "metadata": {},
   "outputs": [
    {
     "data": {
      "text/plain": [
       "1968"
      ]
     },
     "execution_count": 206,
     "metadata": {},
     "output_type": "execute_result"
    }
   ],
   "source": [
    "choice(stop)"
   ]
  },
  {
   "cell_type": "code",
   "execution_count": null,
   "metadata": {},
   "outputs": [],
   "source": [
    "exp.save()"
   ]
  },
  {
   "cell_type": "code",
   "execution_count": 37,
   "metadata": {},
   "outputs": [],
   "source": [
    "exp2=Experiment(13)\n",
    "exp2.copy(exp)"
   ]
  },
  {
   "cell_type": "code",
   "execution_count": 28,
   "metadata": {},
   "outputs": [],
   "source": [
    "L=pinpoint_anastomosis(exp,t)[1]"
   ]
  },
  {
   "cell_type": "code",
   "execution_count": 57,
   "metadata": {},
   "outputs": [
    {
     "data": {
      "text/plain": [
       "array([12970, 18220])"
      ]
     },
     "execution_count": 57,
     "metadata": {},
     "output_type": "execute_result"
    }
   ],
   "source": [
    "node=64\n",
    "node_obj=ex\n",
    "p2.get_node(node)\n",
    "node_obj.pos(t)"
   ]
  },
  {
   "cell_type": "code",
   "execution_count": 52,
   "metadata": {},
   "outputs": [
    {
     "data": {
      "application/vnd.jupyter.widget-view+json": {
       "model_id": "654a5c7254c2419a8db4b810c7729009",
       "version_major": 2,
       "version_minor": 0
      },
      "text/plain": [
       "Canvas(toolbar=Toolbar(toolitems=[('Home', 'Reset original view', 'home', 'home'), ('Back', 'Back to previous …"
      ]
     },
     "metadata": {},
     "output_type": "display_data"
    }
   ],
   "source": [
    "for node in L:\n",
    "    node=830\n",
    "    node_obj=exp2.get_node(node)\n",
    "    imtm1,posstm1=exp2.find_image_pos(node_obj.pos(t)[0],node_obj.pos(t)[1],t,local=False)\n",
    "    imt,posst=exp2.find_image_pos(node_obj.pos(t)[0],node_obj.pos(t)[1],t+1,local=False)\n",
    "    i=0\n",
    "    plot_t_tp1([node],[],{node:(posstm1[1][i],posstm1[0][i])},None,imtm1[i],imt[i])\n",
    "    break"
   ]
  },
  {
   "cell_type": "code",
   "execution_count": 61,
   "metadata": {},
   "outputs": [
    {
     "data": {
      "application/vnd.jupyter.widget-view+json": {
       "model_id": "001f88a8f58e48d2ab695d7e35f10496",
       "version_major": 2,
       "version_minor": 0
      },
      "text/plain": [
       "Canvas(toolbar=Toolbar(toolitems=[('Home', 'Reset original view', 'home', 'home'), ('Back', 'Back to previous …"
      ]
     },
     "metadata": {},
     "output_type": "display_data"
    }
   ],
   "source": [
    "t=0\n",
    "exp2.plot([t,t+1],[pinpoint_anastomosis(exp2,t)[1]]*2)"
   ]
  },
  {
   "cell_type": "code",
   "execution_count": 59,
   "metadata": {},
   "outputs": [
    {
     "data": {
      "text/plain": [
       "(23625, 14540)"
      ]
     },
     "execution_count": 59,
     "metadata": {},
     "output_type": "execute_result"
    }
   ],
   "source": [
    "4725*5,2908*5"
   ]
  },
  {
   "cell_type": "code",
   "execution_count": 18,
   "metadata": {},
   "outputs": [],
   "source": [
    "anas_result=[pinpoint_anastomosis(exp2,i) for i in range (len(dates)-1)]\n",
    "anastomosiss=[ana_result[0] for ana_result in anas_result]\n",
    "origins=[ana_result[1] for ana_result in anas_result]\n",
    "number_an = [ana_result[2] for ana_result in anas_result]"
   ]
  },
  {
   "cell_type": "code",
   "execution_count": 22,
   "metadata": {},
   "outputs": [],
   "source": [
    "degree4_nodes = [[node for node in nx_graph.nodes if nx_graph.degree(node)==4] for nx_graph in exp2.nx_graph]\n",
    "numberdegree4=[len(liste) for liste in degree4_nodes]\n",
    "number_anastomosis_theory=[2+len(nx_graph.edges)-len(nx_graph.nodes)-numberdegree4[i] for i,nx_graph in enumerate(exp2.nx_graph)]\n",
    "number_anastomosis_spot = [number_anastomosis_theory[0]]+[number_anastomosis_theory[0]+np.cumsum(number_an)[i] for i in range(len(anastomosiss))] \n",
    "per_frame_anastomosis_theory=[number_anastomosis_theory[i+1]-number_anastomosis_theory[i] for i in range(len(number_anastomosis_theory)-1)]\n",
    "per_frame_anastomosis_spot=[number_anastomosis_spot[i+1]-number_anastomosis_spot[i] for i in range(len(number_anastomosis_theory)-1)]"
   ]
  },
  {
   "cell_type": "code",
   "execution_count": 25,
   "metadata": {},
   "outputs": [
    {
     "data": {
      "application/vnd.jupyter.widget-view+json": {
       "model_id": "c4cdc03f380641ff8620f19015897e18",
       "version_major": 2,
       "version_minor": 0
      },
      "text/plain": [
       "Canvas(toolbar=Toolbar(toolitems=[('Home', 'Reset original view', 'home', 'home'), ('Back', 'Back to previous …"
      ]
     },
     "metadata": {},
     "output_type": "display_data"
    }
   ],
   "source": [
    "fig = plt.figure()\n",
    "ax = fig.add_subplot(111)\n",
    "ax.set_xlabel('time (h)')\n",
    "ax.set_ylabel('number anastomosis per frame')\n",
    "theory,=ax.plot(per_frame_anastomosis_theory[:-6])\n",
    "theory.set_label('theory')\n",
    "spotting,=ax.plot(per_frame_anastomosis_spot[:-6])\n",
    "spotting.set_label('frame spotting')\n",
    "ax.legend()\n",
    "plt.show()"
   ]
  },
  {
   "cell_type": "code",
   "execution_count": 27,
   "metadata": {},
   "outputs": [
    {
     "data": {
      "application/vnd.jupyter.widget-view+json": {
       "model_id": "6113694995814fe792d6f0c0e5a077a5",
       "version_major": 2,
       "version_minor": 0
      },
      "text/plain": [
       "Canvas(toolbar=Toolbar(toolitems=[('Home', 'Reset original view', 'home', 'home'), ('Back', 'Back to previous …"
      ]
     },
     "metadata": {},
     "output_type": "display_data"
    }
   ],
   "source": [
    "fig = plt.figure()\n",
    "ax = fig.add_subplot(111)\n",
    "ax.set_xlabel('time (h)')\n",
    "ax.set_ylabel('total number of anastomosis')\n",
    "theory,=ax.plot(number_anastomosis_theory[:-6])\n",
    "theory.set_label('theory')\n",
    "spotting,=ax.plot(number_anastomosis_spot[:-6])\n",
    "spotting.set_label('frame spotting')\n",
    "ax.legend()\n",
    "plt.show()"
   ]
  },
  {
   "cell_type": "code",
   "execution_count": 26,
   "metadata": {},
   "outputs": [],
   "source": [
    "plt.close('all')"
   ]
  }
 ],
 "metadata": {
  "kernelspec": {
   "display_name": "cleanMsc",
   "language": "python",
   "name": "cleanmsc"
  },
  "language_info": {
   "codemirror_mode": {
    "name": "ipython",
    "version": 3
   },
   "file_extension": ".py",
   "mimetype": "text/x-python",
   "name": "python",
   "nbconvert_exporter": "python",
   "pygments_lexer": "ipython3",
   "version": "3.7.9"
  }
 },
 "nbformat": 4,
 "nbformat_minor": 4
}

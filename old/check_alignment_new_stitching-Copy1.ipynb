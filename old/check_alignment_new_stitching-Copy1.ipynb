{
 "cells": [
  {
   "cell_type": "code",
   "execution_count": 1,
   "metadata": {},
   "outputs": [],
   "source": [
    "%matplotlib widget\n",
    "from util.sys import get_path\n",
    "import pandas as pd\n",
    "import networkx as nx\n",
    "import numpy as np\n",
    "import matplotlib.pyplot as plt\n",
    "from extract_graph import (\n",
    "    generate_nx_graph,\n",
    "    transform_list,\n",
    "    generate_skeleton,\n",
    "    generate_nx_graph_from_skeleton,\n",
    "    from_connection_tab,\n",
    ")\n",
    "from node_id import whole_movement_identification, second_identification\n",
    "import ast\n",
    "from plotutil import plot_t_tp1, compress_skeleton\n",
    "from scipy import sparse\n",
    "from sparse_util import dilate, zhangSuen\n",
    "from realign import realign\n",
    "from datetime import datetime, timedelta\n",
    "from node_id import orient\n",
    "import pickle\n",
    "from matplotlib.widgets import CheckButtons\n",
    "import scipy.io as sio\n",
    "import imageio\n",
    "from pymatreader import read_mat\n",
    "import os\n",
    "from experiment_class import Experiment\n",
    "import cv2\n",
    "from IPython.display import clear_output\n",
    "from random import choice\n",
    "from sklearn import datasets, linear_model"
   ]
  },
  {
   "cell_type": "code",
   "execution_count": 2,
   "metadata": {},
   "outputs": [],
   "source": [
    "plate = 13\n",
    "directory = (\n",
    "    \"//sun.amolf.nl/shimizu-data/home-folder/oyartegalvez/Drive_AMFtopology/PRINCE\"\n",
    ")\n",
    "listdir = os.listdir(directory)\n",
    "list_dir_interest = [\n",
    "    name\n",
    "    for name in listdir\n",
    "    if name.split(\"_\")[-1] == f'Plate{0 if plate<10 else \"\"}{plate}'\n",
    "]\n",
    "ss = [name.split(\"_\")[0] for name in list_dir_interest]\n",
    "ff = [name.split(\"_\")[1] for name in list_dir_interest]\n",
    "dates_datetime = [\n",
    "    datetime(\n",
    "        year=int(ss[i][:4]),\n",
    "        month=int(ss[i][4:6]),\n",
    "        day=int(ss[i][6:8]),\n",
    "        hour=int(ff[i][0:2]),\n",
    "        minute=int(ff[i][2:4]),\n",
    "    )\n",
    "    for i in range(len(list_dir_interest))\n",
    "]\n",
    "dates_datetime.sort()\n",
    "dates_datetime_chosen = dates_datetime[1:25]\n",
    "dates = [\n",
    "    f'{0 if date.month<10 else \"\"}{date.month}{0 if date.day<10 else \"\"}{date.day}_{0 if date.hour<10 else \"\"}{date.hour}{0 if date.minute<10 else \"\"}{date.minute}'\n",
    "    for date in dates_datetime_chosen\n",
    "]"
   ]
  },
  {
   "cell_type": "code",
   "execution_count": 3,
   "metadata": {},
   "outputs": [],
   "source": [
    "exp = Experiment(13)\n",
    "exp.load(dates, local=True, raw=True)"
   ]
  },
  {
   "cell_type": "code",
   "execution_count": 4,
   "metadata": {},
   "outputs": [
    {
     "data": {
      "application/vnd.jupyter.widget-view+json": {
       "model_id": "b747de25de12473f87d261bb15a6d9ef",
       "version_major": 2,
       "version_minor": 0
      },
      "text/plain": [
       "Canvas(toolbar=Toolbar(toolitems=[('Home', 'Reset original view', 'home', 'home'), ('Back', 'Back to previous …"
      ]
     },
     "metadata": {},
     "output_type": "display_data"
    }
   ],
   "source": [
    "exp.plot(list(range(len(dates))), [])"
   ]
  }
 ],
 "metadata": {
  "kernelspec": {
   "display_name": "cleanMsc",
   "language": "python",
   "name": "cleanmsc"
  },
  "language_info": {
   "codemirror_mode": {
    "name": "ipython",
    "version": 3
   },
   "file_extension": ".py",
   "mimetype": "text/x-python",
   "name": "python",
   "nbconvert_exporter": "python",
   "pygments_lexer": "ipython3",
   "version": "3.7.9"
  }
 },
 "nbformat": 4,
 "nbformat_minor": 4
}

{
 "cells": [
  {
   "cell_type": "code",
   "execution_count": 1,
   "metadata": {},
   "outputs": [],
   "source": [
    "from util import get_path\n",
    "import pandas as pd\n",
    "import networkx as nx\n",
    "import numpy as np\n",
    "import matplotlib.pyplot as plt\n",
    "from extract_graph import generate_nx_graph, transform_list, generate_skeleton, generate_nx_graph_from_skeleton, from_connection_tab\n",
    "from node_id import whole_movement_identification, second_identification\n",
    "import ast\n",
    "from plotutil import plot_t_tp1, compress_skeleton\n",
    "from scipy import sparse\n",
    "from sparse_util import dilate, zhangSuen\n",
    "from realign import realign\n",
    "from datetime import datetime,timedelta"
   ]
  },
  {
   "cell_type": "code",
   "execution_count": 17,
   "metadata": {},
   "outputs": [],
   "source": [
    "plate = 13\n",
    "date_init = datetime(2020,7,1,19,57)\n",
    "dates_datetime = [date_init+timedelta(hours=4)*i for i in range(24)]\n",
    "dates = [f'{0 if date.month<10 else \"\"}{date.month}{0 if date.day<10 else \"\"}{date.day}_{0 if date.hour<10 else \"\"}{date.hour}{0 if date.minute<10 else \"\"}{date.minute}' for date in dates_datetime]"
   ]
  },
  {
   "cell_type": "code",
   "execution_count": 12,
   "metadata": {},
   "outputs": [
    {
     "data": {
      "text/plain": [
       "'0701_1957'"
      ]
     },
     "execution_count": 12,
     "metadata": {},
     "output_type": "execute_result"
    }
   ],
   "source": [
    "dates[0]"
   ]
  },
  {
   "cell_type": "code",
   "execution_count": 21,
   "metadata": {},
   "outputs": [],
   "source": [
    "class Experiment():\n",
    "    def __init__(self,plate):\n",
    "        self.plate = plate\n",
    "    def load(self,dates,local=False):\n",
    "        self.dates=dates\n",
    "        if local:\n",
    "            paths=[f'Data/graph_{date}_{plate}_full_labeled.csv' for date in dates]\n",
    "            paths_connection = [f'Data/graph_{date}_{plate}_connection.csv' for date in dates[:-1]]\n",
    "        else:\n",
    "            paths = [get_path(date,self.plate,True,extension='_full_labeled.csv') for date in dates]\n",
    "            paths_connection = [get_path(date,plate,True,extension='_connection.csv') for date in dates[:-1]]\n",
    "        nx_graph_poss=[]\n",
    "        for path in paths:\n",
    "            nx_graph_poss.append(generate_nx_graph(pd.read_csv(path,\n",
    "                                converters={'origin_pos' : transform_list,'end_pos' : transform_list,\n",
    "                                            'pixel_list' : ast.literal_eval}),labeled=True))\n",
    "        from_tip_growth_pattern=[]\n",
    "        for path in paths_connection:\n",
    "            from_tip_growth_pattern.append(from_connection_tab(pd.read_csv(path)))\n",
    "        nx_graphs=[nx_graph_pos[0] for nx_graph_pos in nx_graph_poss]\n",
    "        poss = [nx_graph_pos[1] for nx_graph_pos in nx_graph_poss]\n",
    "        nx_graph_clean=[]\n",
    "        for graph in nx_graphs:\n",
    "            S = [graph.subgraph(c).copy() for c in nx.connected_components(graph)]\n",
    "            len_connected=[len(nx_graph.nodes) for nx_graph in S]\n",
    "            nx_graph_clean.append(S[np.argmax(len_connected)])\n",
    "        connections = [c[0] for c in from_tip_growth_pattern]\n",
    "        growth_patterns = [c[1] for c in from_tip_growth_pattern]\n",
    "        self.positions=poss\n",
    "        self.nx_graph=nx_graph_clean\n",
    "        self.connections = connections\n",
    "        self.growth_patterns = growth_patterns\n",
    "    def save(self,path=f'Data/'):\n",
    "        print('wow')\n",
    "        from_tip_growth_pattern_tab=[]\n",
    "        for date in self.dates[:-1]:\n",
    "            from_tip_growth_pattern_tab.append(pd.read_csv(get_path(date,plate,True,extension='_connection.csv')))\n",
    "        for i, date in enumerate(self.dates[:-1]):\n",
    "            from_tip_growth_pattern_tab[i].to_csv(path+f'connection_{date}_{plate}.csv')\n",
    "        tabs_labeled=[]\n",
    "        for date in self.dates:\n",
    "            tabs_labeled.append(pd.read_csv(get_path(date,plate,True,extension='_full_labeled.csv'),\n",
    "                                        converters={'origin_pos' : transform_list,'end_pos' : transform_list,'pixel_list' : ast.literal_eval}))\n",
    "        for i, date in enumerate(self.dates):\n",
    "            tabs_labeled[i].to_csv(path+f'graph_{date}_{plate}_full_labeled.csv')\n",
    "    \n",
    "            \n",
    "        "
   ]
  },
  {
   "cell_type": "code",
   "execution_count": 22,
   "metadata": {},
   "outputs": [],
   "source": [
    "experiment = Experiment(13)"
   ]
  },
  {
   "cell_type": "code",
   "execution_count": null,
   "metadata": {},
   "outputs": [],
   "source": [
    "experiment.load(dates)"
   ]
  },
  {
   "cell_type": "code",
   "execution_count": 16,
   "metadata": {},
   "outputs": [
    {
     "data": {
      "text/plain": [
       "array([9248, 6724])"
      ]
     },
     "execution_count": 16,
     "metadata": {},
     "output_type": "execute_result"
    }
   ],
   "source": [
    "experiment.positions[0][0]"
   ]
  },
  {
   "cell_type": "code",
   "execution_count": null,
   "metadata": {},
   "outputs": [],
   "source": [
    "experiment.save()"
   ]
  }
 ],
 "metadata": {
  "kernelspec": {
   "display_name": "cleanMsc",
   "language": "python",
   "name": "cleanmsc"
  },
  "language_info": {
   "codemirror_mode": {
    "name": "ipython",
    "version": 3
   },
   "file_extension": ".py",
   "mimetype": "text/x-python",
   "name": "python",
   "nbconvert_exporter": "python",
   "pygments_lexer": "ipython3",
   "version": "3.7.9"
  }
 },
 "nbformat": 4,
 "nbformat_minor": 4
}

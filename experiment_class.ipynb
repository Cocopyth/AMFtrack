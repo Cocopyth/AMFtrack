{
 "cells": [
  {
   "cell_type": "code",
   "execution_count": 1,
   "metadata": {},
   "outputs": [],
   "source": [
    "%matplotlib widget\n",
    "from util import get_path\n",
    "import pandas as pd\n",
    "import networkx as nx\n",
    "import numpy as np\n",
    "import matplotlib.pyplot as plt\n",
    "from extract_graph import generate_nx_graph, transform_list, generate_skeleton, generate_nx_graph_from_skeleton, from_connection_tab\n",
    "from node_id import whole_movement_identification, second_identification\n",
    "import ast\n",
    "from plotutil import plot_t_tp1, compress_skeleton\n",
    "from scipy import sparse\n",
    "from sparse_util import dilate, zhangSuen\n",
    "from realign import realign\n",
    "from datetime import datetime,timedelta\n",
    "from node_id import orient\n",
    "import pickle\n",
    "from matplotlib.widgets import CheckButtons\n",
    "import scipy.io as sio\n",
    "import imageio\n",
    "from pymatreader import read_mat\n"
   ]
  },
  {
   "cell_type": "code",
   "execution_count": 2,
   "metadata": {},
   "outputs": [],
   "source": [
    "plate = 13\n",
    "date_init = datetime(2020,7,1,19,57)\n",
    "dates_datetime = [date_init+timedelta(hours=4)*i for i in range(4)]\n",
    "dates = [f'{0 if date.month<10 else \"\"}{date.month}{0 if date.day<10 else \"\"}{date.day}_{0 if date.hour<10 else \"\"}{date.hour}{0 if date.minute<10 else \"\"}{date.minute}' for date in dates_datetime]"
   ]
  },
  {
   "cell_type": "code",
   "execution_count": 3,
   "metadata": {},
   "outputs": [],
   "source": [
    "class Experiment():\n",
    "    def __init__(self,plate):\n",
    "        self.plate = plate\n",
    "        self.path_param = '//sun.amolf.nl/shimizu-data/home-folder/oyartegalvez/Drive_AMFtopology/PRINCE/Plate13_20200627/InitialParameters.mat'\n",
    "    def load(self,dates,local=False,pickle=False,raw=False):\n",
    "        self.dates=dates\n",
    "        self.raw=raw\n",
    "        if local:\n",
    "            paths=[f'Data/graph_{date}_{plate}_full_labeled.csv' for date in dates]\n",
    "            paths_connection = [f'Data/connection_{date}_{plate}.csv' for date in dates[:-1]]\n",
    "        else:\n",
    "            paths = [get_path(date,self.plate,True,extension='_full_labeled.csv') for date in dates]\n",
    "            paths_connection = [get_path(date,plate,True,extension='_connection.csv') for date in dates[:-1]]\n",
    "        if raw:\n",
    "            nx_graph_poss=[]\n",
    "            for date in dates:\n",
    "                nx_graph_poss.append(generate_nx_graph(pd.read_csv(get_path(date,plate,True,extension='_raw_aligned_skeleton.csv'),\n",
    "                                                converters={'origin_pos' : transform_list,'end_pos' : transform_list,'pixel_list' : ast.literal_eval}),labeled=True))\n",
    "        else:\n",
    "            nx_graph_poss=[]\n",
    "            for path in paths:\n",
    "                nx_graph_poss.append(generate_nx_graph(pd.read_csv(path,\n",
    "                                    converters={'origin_pos' : transform_list,'end_pos' : transform_list,\n",
    "                                                'pixel_list' : ast.literal_eval}),labeled=True))\n",
    "        from_tip_growth_pattern=[]\n",
    "        for path in paths_connection:\n",
    "            from_tip_growth_pattern.append(from_connection_tab(pd.read_csv(path)))\n",
    "        nx_graphs=[nx_graph_pos[0] for nx_graph_pos in nx_graph_poss]\n",
    "        poss = [nx_graph_pos[1] for nx_graph_pos in nx_graph_poss]\n",
    "        nx_graph_clean=[]\n",
    "        for graph in nx_graphs:\n",
    "            S = [graph.subgraph(c).copy() for c in nx.connected_components(graph)]\n",
    "            len_connected=[len(nx_graph.nodes) for nx_graph in S]\n",
    "            nx_graph_clean.append(S[np.argmax(len_connected)])\n",
    "        skeletons=[]\n",
    "        for nx_graph in nx_graph_clean:\n",
    "            skeletons.append(generate_skeleton(nx_graph,dim=(20800, 46000)))\n",
    "        connections = [c[0] for c in from_tip_growth_pattern]\n",
    "        growth_patterns = [c[1] for c in from_tip_growth_pattern]\n",
    "        self.positions=poss\n",
    "        self.nx_graph=nx_graph_clean\n",
    "        self.connections = connections\n",
    "        self.growth_patterns = growth_patterns\n",
    "        self.skeletons=skeletons\n",
    "        labels = {node for g in self.nx_graph for node in g}\n",
    "        self.nodes=[]\n",
    "        for label in labels:\n",
    "            self.nodes.append(Node(label,self))\n",
    "        \n",
    "    def copy(self,experiment):\n",
    "        self.positions=experiment.positions\n",
    "        self.nx_graph=experiment.nx_graph\n",
    "        self.connections = experiment.connections\n",
    "        self.growth_patterns = experiment.growth_patterns\n",
    "        self.skeletons=experiment.skeletons\n",
    "        self.dates=experiment.dates\n",
    "        self.plate=experiment.plate\n",
    "    def save(self,path=f'Data/'):\n",
    "        from_tip_growth_pattern_tab=[]\n",
    "        for date in self.dates[:-1]:\n",
    "            from_tip_growth_pattern_tab.append(pd.read_csv(get_path(date,plate,True,extension='_connection.csv')))\n",
    "        for i, date in enumerate(self.dates[:-1]):\n",
    "            from_tip_growth_pattern_tab[i].to_csv(path+f'connection_{date}_{plate}.csv')\n",
    "        tabs_labeled=[]\n",
    "        for date in self.dates:\n",
    "            tabs_labeled.append(pd.read_csv(get_path(date,plate,True,extension='_full_labeled.csv'),\n",
    "                                        converters={'origin_pos' : transform_list,\n",
    "                                                    'end_pos' : transform_list,'pixel_list' : ast.literal_eval}))\n",
    "        for i, date in enumerate(self.dates):\n",
    "            tabs_labeled[i].to_csv(path+f'graph_{date}_{plate}_full_labeled.csv')\n",
    "            sio.savemat(path+f'graph_{date}_{plate}_full_labeled.mat', {name: col.values for name, col in tabs_labeled[i].items()})\n",
    "    def pickle_save(self):\n",
    "        pickle.dump(self,open( f'Data/'+f\"experiment_{plate}.pick\", \"wb\" ))\n",
    "    def pickle_load(self):\n",
    "        self = pickle.load( open( f'Data/'+f\"experiment_{plate}.pick\", \"rb\" ) )\n",
    "    def get_node(self,label):\n",
    "        return(Node(label,self))\n",
    "    def get_edge(self,begin,end):\n",
    "        return(Edge(begin,end,self))\n",
    "    def compress_skeleton(self,t,factor):\n",
    "        shape=self.skeletons[t].shape\n",
    "        final_picture = np.zeros(shape=(shape[0]//factor,shape[1]//factor))\n",
    "        for pixel in self.skeletons[t].keys():\n",
    "            x=min(round(pixel[0]/factor),shape[0]//factor-1)\n",
    "            y=min(round(pixel[1]/factor),shape[1]//factor-1)\n",
    "            final_picture[x,y]+=1\n",
    "        return(final_picture>=1)\n",
    "    def load_images(self,t):\n",
    "        date = self.dates[t]\n",
    "        date_plate = f'/2020{date}'\n",
    "        plate_str = f'_Plate{self.plate}'\n",
    "        path_tile='//sun.amolf.nl/shimizu-data/home-folder/oyartegalvez/Drive_AMFtopology/PRINCE'+date_plate+plate_str+'/Img/TileConfiguration.registered.txt'\n",
    "        tileconfig = pd.read_table(path_tile,sep=';',skiprows=4,header=None,converters={2 : ast.literal_eval},skipinitialspace=True)\n",
    "        for name in tileconfig[0]:\n",
    "            im=imageio.imread('//sun.amolf.nl/shimizu-data/home-folder/oyartegalvez/Drive_AMFtopology/PRINCE'+date_plate+plate_str+'/Img/'+name)\n",
    "            np.save('Temp/'+name,im)\n",
    "    def find_image_pos(self,xs,ys,t,local=False):\n",
    "        params=read_mat(self.path_param)\n",
    "        x1=params['x1']\n",
    "        x2=params['x2']\n",
    "        y0=params['y0']\n",
    "        Sf=params['Sf']\n",
    "        L0center=params['L0center']\n",
    "        date = self.dates[t]\n",
    "        date_plate = f'/2020{date}'\n",
    "        plate_str = f'_Plate{self.plate}'\n",
    "        findingbaits = read_mat('//sun.amolf.nl/shimizu-data/home-folder/oyartegalvez/Drive_AMFtopology/PRINCE'+date_plate+plate_str+'/Analysis/FindingBaits.mat')\n",
    "        Rcenter=findingbaits['Rcenter']\n",
    "        Rradii = findingbaits['Rradii']\n",
    "        Lcenter = findingbaits['Lcenter']\n",
    "        t = findingbaits['t']\n",
    "        Lradii = findingbaits['Lradii']\n",
    "        path_tile='//sun.amolf.nl/shimizu-data/home-folder/oyartegalvez/Drive_AMFtopology/PRINCE'+date_plate+plate_str+'/Img/TileConfiguration.registered.txt'\n",
    "        tileconfig = pd.read_table(path_tile,sep=';',skiprows=4,header=None,converters={2 : ast.literal_eval},skipinitialspace=True)\n",
    "        xs_yss=list(tileconfig[2])\n",
    "        xes= [xs_ys[0] for xs_ys in xs_yss]\n",
    "        yes= [xs_ys[1] for xs_ys in xs_yss]\n",
    "        cmin=np.min(xes)\n",
    "        cmax=np.max(xes)\n",
    "        rmin = np.min(yes)\n",
    "        rmax = np.max(yes)\n",
    "        S0     = [rmax+3000+abs(rmin),cmax+4096+abs(cmin)]\n",
    "        theta  = np.arctan((Rcenter[1]-Lcenter[1])/(Rcenter[0]-Lcenter[0]))\n",
    "        Sry    =  S0[0]*np.cos(abs(theta))+S0[1]*np.sin(abs(theta))\n",
    "        C = np.tan(-np.arctan((ys + y0 - 1 - L0center[1] - np.sqrt(Lcenter[0]**2+(S0[0]-Lcenter[1])**2)\n",
    "                               *np.sin(np.arctan((S0[0]-Lcenter[1])/Lcenter[0])+theta))/\n",
    "                              (xs + (x2+x1)/2 - (Sf[0]-y0) - 1 - L0center[0] + np.sqrt(Lcenter[0]**2+(S0[0]-Lcenter[1])**2)\n",
    "                               *np.cos(np.arctan((S0[0]-Lcenter[1])/Lcenter[0])+theta))) - theta)\n",
    "        ximg = - (ys + y0 - 1 - L0center[1] - np.sqrt(Lcenter[0]**2+(S0[0]-Lcenter[1])**2)\n",
    "                  *np.sin(np.arctan((S0[0]-Lcenter[1])/Lcenter[0])+theta))/(np.sqrt(1+C**2)*np.sin(np.arctan(C)+theta)) \n",
    "        yimg = S0[0] - C*ximg\n",
    "        def find(xsub,ysub,x,y):\n",
    "            indexes=[]\n",
    "            for i in range(len(xsub)):\n",
    "                if x>=xsub[i]-cmin and x<xsub[i]-cmin+4096 and y>=ysub[i]-rmin and y < ysub[i]-rmin+3000:\n",
    "                    indexes.append(i)\n",
    "            return(indexes)\n",
    "        indsImg = find(xes,yes,ximg,yimg)\n",
    "        possImg  = [ximg-np.array(xes)[indsImg]+cmin+1, yimg-np.array(yes)[indsImg]+rmin+1]\n",
    "        paths=[]\n",
    "        for index in indsImg:\n",
    "            if local:\n",
    "                paths.append('Temp/'+tileconfig[0][index]+'.npy')\n",
    "            else:\n",
    "                paths.append('//sun.amolf.nl/shimizu-data/home-folder/oyartegalvez/Drive_AMFtopology/PRINCE'+date_plate+plate_str+'/Img/'+tileconfig[0][index])\n",
    "        if local:\n",
    "             ims = [np.load(path) for path in paths]\n",
    "        else:\n",
    "            ims = [imageio.imread(path) for path in paths]\n",
    "        return(ims,possImg)\n",
    "    def plot(self,ts,labels=[],relabel_t=lambda x:x,relabel_tp1=lambda x:x, shift=(0,0),compress=5,save='',time=None):\n",
    "        global check\n",
    "        right = 0.90\n",
    "        top = 0.90\n",
    "        if len(save)>=1:\n",
    "            fig=plt.figure(figsize=(14,12))\n",
    "            size = 10\n",
    "        else:\n",
    "            fig = plt.figure()\n",
    "            size = 5\n",
    "        ax = fig.add_subplot(111)\n",
    "        scale=1/len(ts)\n",
    "        power=len(ts)\n",
    "        compressed_images=[]\n",
    "        for i,t in enumerate(ts):\n",
    "            compressed_images.append(self.compress_skeleton(t,compress))\n",
    "        visibility = [True for t in ts]\n",
    "        final_image=scale*compressed_images[0]*visibility[0]\n",
    "        for i,compressed_image in enumerate(compressed_images[1:]):\n",
    "            final_image=np.power(final_image**power+((i+2)*scale*compressed_image*visibility[i+1])**power,1/power)\n",
    "        l1=ax.imshow(final_image, cmap='plasma',interpolation='none',vmin=0,vmax=1)\n",
    "        rax = plt.axes([0.05, 0.4, 0.1, 0.15])\n",
    "        labels=[f'{4*t}h' for t in ts]\n",
    "        check = CheckButtons(rax, labels, visibility)\n",
    "        def func(label):\n",
    "            index = labels.index(label)\n",
    "            visibility[index]= not visibility[index]\n",
    "            final_image=visibility[0]*scale*compressed_images[0]\n",
    "            for i,compressed_image in enumerate(compressed_images[1:]):\n",
    "                final_image=np.power(final_image**power+visibility[i+1]*((i+2)*scale*compressed_image)**power,1/power)\n",
    "            l1.set_data(final_image)\n",
    "            plt.draw()\n",
    "\n",
    "        check.on_clicked(func)\n",
    "\n",
    "#         bbox_props1 = dict(boxstyle=\"circle\", fc=\"grey\")\n",
    "#         bbox_props2 = dict(boxstyle=\"circle\", fc=\"white\")\n",
    "#         ax.text(right, top, time,\n",
    "#             horizontalalignment='right',\n",
    "#             verticalalignment='bottom',\n",
    "#             transform=ax.transAxes,color='white')\n",
    "#         for node in node_list_t:\n",
    "#             t = ax.text((pos_t[node][1]-shift[1])//compress, (pos_t[node][0]-shift[0])//compress, str(relabel_t(node)), ha=\"center\", va=\"center\",\n",
    "#                         size=size,\n",
    "#                         bbox=bbox_props1)\n",
    "#         for node in node_list_tp1:\n",
    "#             if node in pos_tp1.keys():\n",
    "#                 t = ax.text((pos_tp1[node][1]-shift[1])//compress, (pos_tp1[node][0]-shift[0])//compress, str(relabel_tp1(node)), ha=\"center\", va=\"center\",\n",
    "#                             size=size,\n",
    "#                             bbox=bbox_props2)\n",
    "        if len(save)>=1:\n",
    "            plt.savefig(save)\n",
    "            plt.close(fig)\n",
    "        else:\n",
    "            plt.show()\n",
    "        \n",
    "\n",
    "class Node():\n",
    "    def __init__(self,label,experiment):\n",
    "        self.experiment = experiment\n",
    "        self.label = label\n",
    "    def __repr__(self):\n",
    "        return (f'Node({self.label})')\n",
    "    def __str__(self):\n",
    "        return str(self.label)\n",
    "    def neighbours(self,t):\n",
    "        return([self.experiment.get_node(node) for node in self.experiment.nx_graph[t].neighbors(self.label)])\n",
    "    def is_in(self,t):\n",
    "        return(self.label in self.experiment.nx_graph[t].nodes)\n",
    "    def degree(self,t):\n",
    "        return(self.experiment.nx_graph[t].degree(self.label))\n",
    "    def edges(self,t):\n",
    "        return([self.experiment.get_edge(self,neighbour) for neighbour in self.neighbours(t)])\n",
    "    def pos(self,t):\n",
    "        return(self.experiment.positions[t][self.label])\n",
    "\n",
    "class Edge():\n",
    "    def __init__(self,begin,end,experiment):\n",
    "        self.begin=begin\n",
    "        self.end = end\n",
    "        self.experiment = experiment\n",
    "    def __repr__(self):\n",
    "        return (f'Edge({self.begin},{self.end})')\n",
    "    def __str__(self):\n",
    "        return str((self.begin,self.end))\n",
    "    def is_in(self,t):\n",
    "        return((self.begin,self.end) in self.experiment.nx_graph[t].edges)\n",
    "    def pixel_list(self,t):\n",
    "        return(orient(self.experiment.nx_graph[t].get_edge_data(self.begin.label,self.end.label)['pixel_list'],self.begin.pos(t)))\n",
    "    def orientation_whole(self,t):\n",
    "        pixel_list = np.array(self.pixel_list(t))\n",
    "        vector = pixel_list[-1]-pixel_list[0]\n",
    "        unit_vector = vector/np.linalg.norm(vector)\n",
    "        vertical_vector=np.array([-1,0])\n",
    "        dot_product = np.dot(vertical_vector,unit_vector)\n",
    "        if vertical_vector[1]*vector[0]-vertical_vector[0]*vector[1]>=0: #determinant\n",
    "            angle = np.arccos(dot_product)/(2*np.pi)*360\n",
    "        else:\n",
    "            angle = -np.arccos(dot_product)/(2*np.pi)*360\n",
    "        return(angle)\n",
    "        "
   ]
  },
  {
   "cell_type": "code",
   "execution_count": 5,
   "metadata": {},
   "outputs": [],
   "source": [
    "exp = Experiment(13)"
   ]
  },
  {
   "cell_type": "code",
   "execution_count": 6,
   "metadata": {},
   "outputs": [],
   "source": [
    "exp.load(dates,local=False,raw=True)"
   ]
  },
  {
   "cell_type": "code",
   "execution_count": 21,
   "metadata": {},
   "outputs": [
    {
     "data": {
      "text/plain": [
       "2953"
      ]
     },
     "execution_count": 21,
     "metadata": {},
     "output_type": "execute_result"
    }
   ],
   "source": [
    "len(experiment.nx_graph[0].nodes)"
   ]
  },
  {
   "cell_type": "code",
   "execution_count": 8,
   "metadata": {},
   "outputs": [],
   "source": [
    "experiment_updated= Experiment(13)\n",
    "experiment_updated.load(dates,local=False,raw=False)"
   ]
  },
  {
   "cell_type": "code",
   "execution_count": 17,
   "metadata": {},
   "outputs": [
    {
     "name": "stdout",
     "output_type": "stream",
     "text": [
      "wow\n"
     ]
    }
   ],
   "source": [
    "experiment_updated.save()"
   ]
  },
  {
   "cell_type": "code",
   "execution_count": 88,
   "metadata": {},
   "outputs": [],
   "source": [
    "# experiment_updated= Experiment(13)\n",
    "# experiment_updated.copy(experiment)"
   ]
  },
  {
   "cell_type": "code",
   "execution_count": 29,
   "metadata": {},
   "outputs": [],
   "source": [
    "ims,poss=experiment_updated.find_image_pos(5384,15468,0,local=True)"
   ]
  },
  {
   "cell_type": "code",
   "execution_count": 30,
   "metadata": {},
   "outputs": [
    {
     "data": {
      "text/plain": [
       "2"
      ]
     },
     "execution_count": 30,
     "metadata": {},
     "output_type": "execute_result"
    }
   ],
   "source": [
    "len(ims)"
   ]
  },
  {
   "cell_type": "code",
   "execution_count": 31,
   "metadata": {},
   "outputs": [
    {
     "data": {
      "application/vnd.jupyter.widget-view+json": {
       "model_id": "4f94db158cc64f8184c095d4eab52ae4",
       "version_major": 2,
       "version_minor": 0
      },
      "text/plain": [
       "Canvas(toolbar=Toolbar(toolitems=[('Home', 'Reset original view', 'home', 'home'), ('Back', 'Back to previous …"
      ]
     },
     "metadata": {},
     "output_type": "display_data"
    }
   ],
   "source": [
    "i=1\n",
    "plot_t_tp1([0],[],{0:(poss[1][i],poss[0][i])},None,ims[i],ims[i])"
   ]
  },
  {
   "cell_type": "code",
   "execution_count": null,
   "metadata": {},
   "outputs": [],
   "source": [
    "[14350 15103]"
   ]
  },
  {
   "cell_type": "code",
   "execution_count": 97,
   "metadata": {},
   "outputs": [
    {
     "data": {
      "text/plain": [
       "(3093.6, 1076.8)"
      ]
     },
     "execution_count": 97,
     "metadata": {},
     "output_type": "execute_result"
    }
   ],
   "source": [
    "15468/5,5384/5"
   ]
  },
  {
   "cell_type": "code",
   "execution_count": 26,
   "metadata": {},
   "outputs": [],
   "source": [
    "plt.close('all')"
   ]
  },
  {
   "cell_type": "code",
   "execution_count": 12,
   "metadata": {},
   "outputs": [
    {
     "data": {
      "application/vnd.jupyter.widget-view+json": {
       "model_id": "c8845f5050924a3593e79609d3fc664b",
       "version_major": 2,
       "version_minor": 0
      },
      "text/plain": [
       "Canvas(toolbar=Toolbar(toolitems=[('Home', 'Reset original view', 'home', 'home'), ('Back', 'Back to previous …"
      ]
     },
     "metadata": {},
     "output_type": "display_data"
    },
    {
     "name": "stdout",
     "output_type": "stream",
     "text": [
      "0.0040756688963210705\n",
      "0.004225752508361204\n",
      "0.004315713837792642\n"
     ]
    }
   ],
   "source": [
    "exp.plot([0,1,2],compress=5)"
   ]
  },
  {
   "cell_type": "code",
   "execution_count": 13,
   "metadata": {},
   "outputs": [
    {
     "data": {
      "application/vnd.jupyter.widget-view+json": {
       "model_id": "be86b89b2f9f4215ab42ee82fa3ac1ec",
       "version_major": 2,
       "version_minor": 0
      },
      "text/plain": [
       "Canvas(toolbar=Toolbar(toolitems=[('Home', 'Reset original view', 'home', 'home'), ('Back', 'Back to previous …"
      ]
     },
     "metadata": {},
     "output_type": "display_data"
    },
    {
     "name": "stdout",
     "output_type": "stream",
     "text": [
      "0.00390928093645485\n",
      "0.003942386078595318\n",
      "0.004090327132107024\n"
     ]
    }
   ],
   "source": [
    "experiment_updated.plot([0,1,2],compress=5)"
   ]
  },
  {
   "cell_type": "code",
   "execution_count": 19,
   "metadata": {},
   "outputs": [],
   "source": [
    "plt.close('all')"
   ]
  },
  {
   "cell_type": "code",
   "execution_count": null,
   "metadata": {},
   "outputs": [],
   "source": [
    "[17131  2149]\n",
    "[17131  2172]\n",
    "[17132  2125]\n",
    "[14406 15168]\n",
    "[17133 28106]\n",
    "[17138 25352]\n",
    "[16152 13771]\n",
    "[17142  6483]\n",
    "[16160 16226]\n",
    "[14426 15145]\n",
    "[14446 15167]\n",
    "[19509 42399]\n",
    "[17151  2169]\n",
    "[17154 28150]\n",
    "[17155  2134]\n",
    "[14417  6078]\n",
    "[17138 25352]"
   ]
  },
  {
   "cell_type": "code",
   "execution_count": 36,
   "metadata": {},
   "outputs": [
    {
     "data": {
      "text/plain": [
       "(5070.4, 3427.6)"
      ]
     },
     "execution_count": 36,
     "metadata": {},
     "output_type": "execute_result"
    }
   ],
   "source": [
    "25352/5,17138 /5"
   ]
  },
  {
   "cell_type": "code",
   "execution_count": 37,
   "metadata": {},
   "outputs": [
    {
     "data": {
      "application/vnd.jupyter.widget-view+json": {
       "model_id": "05f9222904044c0fadc35edd6b92707b",
       "version_major": 2,
       "version_minor": 0
      },
      "text/plain": [
       "Canvas(toolbar=Toolbar(toolitems=[('Home', 'Reset original view', 'home', 'home'), ('Back', 'Back to previous …"
      ]
     },
     "metadata": {},
     "output_type": "display_data"
    }
   ],
   "source": [
    "experiment.plot([2],compress=5)"
   ]
  },
  {
   "cell_type": "code",
   "execution_count": 75,
   "metadata": {},
   "outputs": [],
   "source": [
    "experiment_updated.load_images(0)"
   ]
  },
  {
   "cell_type": "code",
   "execution_count": 247,
   "metadata": {},
   "outputs": [
    {
     "data": {
      "text/plain": [
       "<__main__.Experiment at 0x24160d6ccc8>"
      ]
     },
     "execution_count": 247,
     "metadata": {},
     "output_type": "execute_result"
    }
   ],
   "source": [
    "experiment_updated"
   ]
  },
  {
   "cell_type": "code",
   "execution_count": 264,
   "metadata": {},
   "outputs": [],
   "source": [
    "experiment_updated.pickle_save()"
   ]
  },
  {
   "cell_type": "code",
   "execution_count": 19,
   "metadata": {},
   "outputs": [],
   "source": [
    "experiment_updated.pickle_load()"
   ]
  },
  {
   "cell_type": "code",
   "execution_count": 124,
   "metadata": {},
   "outputs": [
    {
     "data": {
      "text/plain": [
       "62.300527191945015"
      ]
     },
     "execution_count": 124,
     "metadata": {},
     "output_type": "execute_result"
    }
   ],
   "source": [
    "experiment.get_node(19).edges(0)[1].orientation_whole(0)"
   ]
  },
  {
   "cell_type": "code",
   "execution_count": 120,
   "metadata": {},
   "outputs": [
    {
     "data": {
      "text/plain": [
       "[Edge(19,25), Edge(19,16), Edge(19,20)]"
      ]
     },
     "execution_count": 120,
     "metadata": {},
     "output_type": "execute_result"
    }
   ],
   "source": [
    "experiment.get_node(19).edges(0)"
   ]
  },
  {
   "cell_type": "code",
   "execution_count": 44,
   "metadata": {},
   "outputs": [
    {
     "data": {
      "text/plain": [
       "[2]"
      ]
     },
     "execution_count": 44,
     "metadata": {},
     "output_type": "execute_result"
    }
   ],
   "source": [
    "list(experiment.nodes[].neighbours(0))"
   ]
  },
  {
   "cell_type": "code",
   "execution_count": 16,
   "metadata": {},
   "outputs": [
    {
     "data": {
      "text/plain": [
       "array([9248, 6724])"
      ]
     },
     "execution_count": 16,
     "metadata": {},
     "output_type": "execute_result"
    }
   ],
   "source": [
    "experiment.positions[0][0]"
   ]
  },
  {
   "cell_type": "code",
   "execution_count": 72,
   "metadata": {},
   "outputs": [
    {
     "name": "stdout",
     "output_type": "stream",
     "text": [
      "wow\n"
     ]
    }
   ],
   "source": [
    "experiment.save()"
   ]
  },
  {
   "cell_type": "code",
   "execution_count": 139,
   "metadata": {},
   "outputs": [
    {
     "data": {
      "text/plain": [
       "[37, 235, 140]"
      ]
     },
     "execution_count": 139,
     "metadata": {},
     "output_type": "execute_result"
    }
   ],
   "source": [
    "np.random.seed(1)\n",
    "random_color()"
   ]
  },
  {
   "cell_type": "code",
   "execution_count": 133,
   "metadata": {},
   "outputs": [],
   "source": [
    "import random\n",
    "def random_color():\n",
    "    return list(np.random.choice(range(256), size=3))"
   ]
  },
  {
   "cell_type": "code",
   "execution_count": 237,
   "metadata": {},
   "outputs": [],
   "source": [
    "import sys\n",
    "\n",
    "def get_size(obj, seen=None):\n",
    "    \"\"\"Recursively finds size of objects\"\"\"\n",
    "    size = sys.getsizeof(obj)\n",
    "    if seen is None:\n",
    "        seen = set()\n",
    "    obj_id = id(obj)\n",
    "    if obj_id in seen:\n",
    "        return 0\n",
    "    # Important mark as seen *before* entering recursion to gracefully handle\n",
    "    # self-referential objects\n",
    "    seen.add(obj_id)\n",
    "    if isinstance(obj, dict):\n",
    "        size += sum([get_size(v, seen) for v in obj.values()])\n",
    "        size += sum([get_size(k, seen) for k in obj.keys()])\n",
    "    elif hasattr(obj, '__dict__'):\n",
    "        size += get_size(obj.__dict__, seen)\n",
    "    elif hasattr(obj, '__iter__') and not isinstance(obj, (str, bytes, bytearray)):\n",
    "        size += sum([get_size(i, seen) for i in obj])\n",
    "    return size"
   ]
  },
  {
   "cell_type": "code",
   "execution_count": 15,
   "metadata": {},
   "outputs": [],
   "source": [
    "def plotiplot():\n",
    "    t = np.arange(0.0, 2.0, 0.01)\n",
    "    s0 = np.sin(2*np.pi*t)\n",
    "    s1 = np.sin(4*np.pi*t)\n",
    "    s2 = np.sin(6*np.pi*t)\n",
    "\n",
    "    fig, ax = plt.subplots()\n",
    "    l0, = ax.plot(t, s0, visible=False, lw=2, color='k', label='2 Hz')\n",
    "    l1, = ax.plot(t, s1, lw=2, color='r', label='4 Hz')\n",
    "    l2, = ax.plot(t, s2, lw=2, color='g', label='6 Hz')\n",
    "    plt.subplots_adjust(left=0.2)\n",
    "\n",
    "    lines = [l0, l1, l2]\n",
    "\n",
    "    # Make checkbuttons with all plotted lines with correct visibility\n",
    "    rax = plt.axes([0.05, 0.4, 0.1, 0.15])\n",
    "    labels = [str(line.get_label()) for line in lines]\n",
    "    visibility = [line.get_visible() for line in lines]\n",
    "    check = CheckButtons(rax, labels, visibility)\n",
    "\n",
    "\n",
    "    def func(label):\n",
    "        index = labels.index(label)\n",
    "        lines[index].set_visible(not lines[index].get_visible())\n",
    "        plt.draw()\n",
    "\n",
    "    check.on_clicked(func)\n",
    "\n",
    "#     plt.show()"
   ]
  },
  {
   "cell_type": "code",
   "execution_count": 16,
   "metadata": {},
   "outputs": [
    {
     "data": {
      "application/vnd.jupyter.widget-view+json": {
       "model_id": "26af607875af4d58a23a30ab718c88d6",
       "version_major": 2,
       "version_minor": 0
      },
      "text/plain": [
       "Canvas(toolbar=Toolbar(toolitems=[('Home', 'Reset original view', 'home', 'home'), ('Back', 'Back to previous …"
      ]
     },
     "metadata": {},
     "output_type": "display_data"
    }
   ],
   "source": [
    "plotiplot()\n",
    "plt.show()"
   ]
  },
  {
   "cell_type": "code",
   "execution_count": 10,
   "metadata": {},
   "outputs": [],
   "source": [
    "a1=np.array([[1,0],[0,0]])\n",
    "a2=np.array([[0,1],[0,0]])\n",
    "visibility = [True for i in range(2)]\n",
    "def plotitplo():\n",
    "    fig = plt.figure()\n",
    "    ax = fig.add_subplot(111)\n",
    "    compressed=[a1,a2]\n",
    "    l1=ax.imshow(a1+a2)\n",
    "    rax = plt.axes([0.05, 0.4, 0.1, 0.15])\n",
    "    labels=[f'{4*i}h' for i in range(2)]\n",
    "    check = CheckButtons(rax, labels, visibility)\n",
    "    def func(label):\n",
    "        index = labels.index(label)\n",
    "        check.set_active(index)\n",
    "        visib=check.get_status()\n",
    "        image_final=compressed[0]*visib[0]\n",
    "        for i, a in enumerate(compressed[1:]):\n",
    "            image_final+=a*visib[i+1]\n",
    "        l1.set_data(image_final)\n",
    "        plt.draw()\n",
    "\n",
    "    check.on_clicked(func)\n",
    "\n",
    "#     plt.show()"
   ]
  },
  {
   "cell_type": "code",
   "execution_count": 12,
   "metadata": {},
   "outputs": [
    {
     "data": {
      "application/vnd.jupyter.widget-view+json": {
       "model_id": "bd848600f7c441f5baca4b9852f445ed",
       "version_major": 2,
       "version_minor": 0
      },
      "text/plain": [
       "Canvas(toolbar=Toolbar(toolitems=[('Home', 'Reset original view', 'home', 'home'), ('Back', 'Back to previous …"
      ]
     },
     "metadata": {},
     "output_type": "display_data"
    }
   ],
   "source": [
    "plotitplo()\n",
    "plt.show()"
   ]
  },
  {
   "cell_type": "code",
   "execution_count": 1,
   "metadata": {},
   "outputs": [
    {
     "ename": "NameError",
     "evalue": "name 'np' is not defined",
     "output_type": "error",
     "traceback": [
      "\u001b[1;31m---------------------------------------------------------------------------\u001b[0m",
      "\u001b[1;31mNameError\u001b[0m                                 Traceback (most recent call last)",
      "\u001b[1;32m<ipython-input-1-d32bb237489c>\u001b[0m in \u001b[0;36m<module>\u001b[1;34m\u001b[0m\n\u001b[1;32m----> 1\u001b[1;33m \u001b[0ma1\u001b[0m\u001b[1;33m=\u001b[0m\u001b[0mnp\u001b[0m\u001b[1;33m.\u001b[0m\u001b[0marray\u001b[0m\u001b[1;33m(\u001b[0m\u001b[1;33m[\u001b[0m\u001b[1;33m[\u001b[0m\u001b[1;36m1\u001b[0m\u001b[1;33m,\u001b[0m\u001b[1;36m0\u001b[0m\u001b[1;33m]\u001b[0m\u001b[1;33m,\u001b[0m\u001b[1;33m[\u001b[0m\u001b[1;36m0\u001b[0m\u001b[1;33m,\u001b[0m\u001b[1;36m0\u001b[0m\u001b[1;33m]\u001b[0m\u001b[1;33m]\u001b[0m\u001b[1;33m)\u001b[0m\u001b[1;33m\u001b[0m\u001b[1;33m\u001b[0m\u001b[0m\n\u001b[0m\u001b[0;32m      2\u001b[0m \u001b[0ma2\u001b[0m\u001b[1;33m=\u001b[0m\u001b[0mnp\u001b[0m\u001b[1;33m.\u001b[0m\u001b[0marray\u001b[0m\u001b[1;33m(\u001b[0m\u001b[1;33m[\u001b[0m\u001b[1;33m[\u001b[0m\u001b[1;36m0\u001b[0m\u001b[1;33m,\u001b[0m\u001b[1;36m1\u001b[0m\u001b[1;33m]\u001b[0m\u001b[1;33m,\u001b[0m\u001b[1;33m[\u001b[0m\u001b[1;36m0\u001b[0m\u001b[1;33m,\u001b[0m\u001b[1;36m0\u001b[0m\u001b[1;33m]\u001b[0m\u001b[1;33m]\u001b[0m\u001b[1;33m)\u001b[0m\u001b[1;33m\u001b[0m\u001b[1;33m\u001b[0m\u001b[0m\n\u001b[0;32m      3\u001b[0m \u001b[0mvisibility\u001b[0m \u001b[1;33m=\u001b[0m \u001b[1;33m[\u001b[0m\u001b[1;32mTrue\u001b[0m \u001b[1;32mfor\u001b[0m \u001b[0mi\u001b[0m \u001b[1;32min\u001b[0m \u001b[0mrange\u001b[0m\u001b[1;33m(\u001b[0m\u001b[1;36m2\u001b[0m\u001b[1;33m)\u001b[0m\u001b[1;33m]\u001b[0m\u001b[1;33m\u001b[0m\u001b[1;33m\u001b[0m\u001b[0m\n\u001b[0;32m      4\u001b[0m \u001b[0mfig\u001b[0m \u001b[1;33m=\u001b[0m \u001b[0mplt\u001b[0m\u001b[1;33m.\u001b[0m\u001b[0mfigure\u001b[0m\u001b[1;33m(\u001b[0m\u001b[1;33m)\u001b[0m\u001b[1;33m\u001b[0m\u001b[1;33m\u001b[0m\u001b[0m\n\u001b[0;32m      5\u001b[0m \u001b[0max\u001b[0m \u001b[1;33m=\u001b[0m \u001b[0mfig\u001b[0m\u001b[1;33m.\u001b[0m\u001b[0madd_subplot\u001b[0m\u001b[1;33m(\u001b[0m\u001b[1;36m111\u001b[0m\u001b[1;33m)\u001b[0m\u001b[1;33m\u001b[0m\u001b[1;33m\u001b[0m\u001b[0m\n",
      "\u001b[1;31mNameError\u001b[0m: name 'np' is not defined"
     ]
    }
   ],
   "source": [
    "a1=np.array([[1,0],[0,0]])\n",
    "a2=np.array([[0,1],[0,0]])\n",
    "visibility = [True for i in range(2)]\n",
    "fig = plt.figure()\n",
    "ax = fig.add_subplot(111)\n",
    "compressed=[a1,a2]\n",
    "l1=ax.imshow(a1+a2)\n",
    "rax = plt.axes([0.05, 0.4, 0.1, 0.15])\n",
    "labels=[f'{4*i}h' for i in range(2)]\n",
    "check = CheckButtons(rax, labels, [True for i in range(2)])\n",
    "# check.set_active(0)\n",
    "def func(label):\n",
    "    index = labels.index(label)\n",
    "    check.set_active(index)\n",
    "    visib=check.get_status()\n",
    "    image_final=compressed[0]*visib[0]\n",
    "    for i, a in enumerate(compressed[1:]):\n",
    "        image_final+=a*visib[i+1]\n",
    "    l1.set_data(image_final)\n",
    "    plt.draw()\n",
    "    \n",
    "check.on_clicked(func)\n",
    "\n",
    "plt.show()"
   ]
  },
  {
   "cell_type": "code",
   "execution_count": 24,
   "metadata": {},
   "outputs": [
    {
     "data": {
      "text/plain": [
       "[True, True]"
      ]
     },
     "execution_count": 24,
     "metadata": {},
     "output_type": "execute_result"
    }
   ],
   "source": [
    "visibility"
   ]
  },
  {
   "cell_type": "code",
   "execution_count": 2,
   "metadata": {},
   "outputs": [
    {
     "ename": "NameError",
     "evalue": "name 'Variable' is not defined",
     "output_type": "error",
     "traceback": [
      "\u001b[1;31m---------------------------------------------------------------------------\u001b[0m",
      "\u001b[1;31mNameError\u001b[0m                                 Traceback (most recent call last)",
      "\u001b[1;32m<ipython-input-2-531c40c8e985>\u001b[0m in \u001b[0;36m<module>\u001b[1;34m\u001b[0m\n\u001b[1;32m----> 1\u001b[1;33m \u001b[0mVariable\u001b[0m\u001b[1;33m(\u001b[0m\u001b[1;33m)\u001b[0m\u001b[1;33m\u001b[0m\u001b[1;33m\u001b[0m\u001b[0m\n\u001b[0m",
      "\u001b[1;31mNameError\u001b[0m: name 'Variable' is not defined"
     ]
    }
   ],
   "source": [
    "Variable()"
   ]
  }
 ],
 "metadata": {
  "kernelspec": {
   "display_name": "cleanMsc",
   "language": "python",
   "name": "cleanmsc"
  },
  "language_info": {
   "codemirror_mode": {
    "name": "ipython",
    "version": 3
   },
   "file_extension": ".py",
   "mimetype": "text/x-python",
   "name": "python",
   "nbconvert_exporter": "python",
   "pygments_lexer": "ipython3",
   "version": "3.7.9"
  }
 },
 "nbformat": 4,
 "nbformat_minor": 4
}

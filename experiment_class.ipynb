{
 "cells": [
  {
   "cell_type": "code",
   "execution_count": 208,
   "metadata": {},
   "outputs": [],
   "source": [
    "%matplotlib widget\n",
    "from util import get_path\n",
    "import pandas as pd\n",
    "import networkx as nx\n",
    "import numpy as np\n",
    "import matplotlib.pyplot as plt\n",
    "from extract_graph import generate_nx_graph, transform_list, generate_skeleton, generate_nx_graph_from_skeleton, from_connection_tab\n",
    "from node_id import whole_movement_identification, second_identification\n",
    "import ast\n",
    "from plotutil import plot_t_tp1, compress_skeleton\n",
    "from scipy import sparse\n",
    "from sparse_util import dilate, zhangSuen\n",
    "from realign import realign\n",
    "from datetime import datetime,timedelta\n",
    "from node_id import orient\n",
    "import pickle"
   ]
  },
  {
   "cell_type": "code",
   "execution_count": 255,
   "metadata": {},
   "outputs": [],
   "source": [
    "plate = 13\n",
    "date_init = datetime(2020,7,1,19,57)\n",
    "dates_datetime = [date_init+timedelta(hours=4)*i for i in range(24)]\n",
    "dates = [f'{0 if date.month<10 else \"\"}{date.month}{0 if date.day<10 else \"\"}{date.day}_{0 if date.hour<10 else \"\"}{date.hour}{0 if date.minute<10 else \"\"}{date.minute}' for date in dates_datetime]"
   ]
  },
  {
   "cell_type": "code",
   "execution_count": 12,
   "metadata": {},
   "outputs": [
    {
     "data": {
      "text/plain": [
       "'0701_1957'"
      ]
     },
     "execution_count": 12,
     "metadata": {},
     "output_type": "execute_result"
    }
   ],
   "source": [
    "dates[0]"
   ]
  },
  {
   "cell_type": "code",
   "execution_count": 252,
   "metadata": {},
   "outputs": [],
   "source": [
    "class Experiment():\n",
    "    def __init__(self,plate):\n",
    "        self.plate = plate\n",
    "    def load(self,dates,local=False,pickle=False):\n",
    "        self.dates=dates\n",
    "        if local:\n",
    "            paths=[f'Data/graph_{date}_{plate}_full_labeled.csv' for date in dates]\n",
    "            paths_connection = [f'Data/graph_{date}_{plate}_connection.csv' for date in dates[:-1]]\n",
    "        else:\n",
    "            paths = [get_path(date,self.plate,True,extension='_full_labeled.csv') for date in dates]\n",
    "            paths_connection = [get_path(date,plate,True,extension='_connection.csv') for date in dates[:-1]]\n",
    "        nx_graph_poss=[]\n",
    "        for path in paths:\n",
    "            nx_graph_poss.append(generate_nx_graph(pd.read_csv(path,\n",
    "                                converters={'origin_pos' : transform_list,'end_pos' : transform_list,\n",
    "                                            'pixel_list' : ast.literal_eval}),labeled=True))\n",
    "        from_tip_growth_pattern=[]\n",
    "        for path in paths_connection:\n",
    "            from_tip_growth_pattern.append(from_connection_tab(pd.read_csv(path)))\n",
    "        nx_graphs=[nx_graph_pos[0] for nx_graph_pos in nx_graph_poss]\n",
    "        poss = [nx_graph_pos[1] for nx_graph_pos in nx_graph_poss]\n",
    "        nx_graph_clean=[]\n",
    "        for graph in nx_graphs:\n",
    "            S = [graph.subgraph(c).copy() for c in nx.connected_components(graph)]\n",
    "            len_connected=[len(nx_graph.nodes) for nx_graph in S]\n",
    "            nx_graph_clean.append(S[np.argmax(len_connected)])\n",
    "        skeletons=[]\n",
    "        for nx_graph in nx_graph_clean:\n",
    "            skeletons.append(generate_skeleton(nx_graph,dim=(20800, 46000)))\n",
    "        connections = [c[0] for c in from_tip_growth_pattern]\n",
    "        growth_patterns = [c[1] for c in from_tip_growth_pattern]\n",
    "        self.positions=poss\n",
    "        self.nx_graph=nx_graph_clean\n",
    "        self.connections = connections\n",
    "        self.growth_patterns = growth_patterns\n",
    "        self.skeletons=skeletons\n",
    "        labels = {node for g in self.nx_graph for node in g}\n",
    "        self.nodes=[]\n",
    "        for label in labels:\n",
    "            self.nodes.append(Node(label,self))\n",
    "        \n",
    "    def copy(self,experiment):\n",
    "        self.positions=experiment.positions\n",
    "        self.nx_graph=experiment.nx_graph\n",
    "        self.connections = experiment.connections\n",
    "        self.growth_patterns = experiment.growth_patterns\n",
    "        self.skeletons=experiment.skeletons\n",
    "    def save(self,path=f'Data/'):\n",
    "        print('wow')\n",
    "        from_tip_growth_pattern_tab=[]\n",
    "        for date in self.dates[:-1]:\n",
    "            from_tip_growth_pattern_tab.append(pd.read_csv(get_path(date,plate,True,extension='_connection.csv')))\n",
    "        for i, date in enumerate(self.dates[:-1]):\n",
    "            from_tip_growth_pattern_tab[i].to_csv(path+f'connection_{date}_{plate}.csv')\n",
    "        tabs_labeled=[]\n",
    "        for date in self.dates:\n",
    "            tabs_labeled.append(pd.read_csv(get_path(date,plate,True,extension='_full_labeled.csv'),\n",
    "                                        converters={'origin_pos' : transform_list,'end_pos' : transform_list,'pixel_list' : ast.literal_eval}))\n",
    "        for i, date in enumerate(self.dates):\n",
    "            tabs_labeled[i].to_csv(path+f'graph_{date}_{plate}_full_labeled.csv')\n",
    "            sio.savemat(path+f'graph_{date}_{plate}_full_labeled.mat', {name: col.values for name, col in tabs_labeled[i].items()})\n",
    "    def pickle_save(self):\n",
    "        pickle.dump(self,open( f'Data/'+f\"experiment_{plate}.pick\", \"wb\" ))\n",
    "    def pickle_load(self):\n",
    "        self = pickle.load( open( f'Data/'+f\"experiment_{plate}.pick\", \"rb\" ) )\n",
    "    def get_node(self,label):\n",
    "        return(Node(label,self))\n",
    "    def get_edge(self,begin,end):\n",
    "        return(Edge(begin,end,self))\n",
    "    def compress_skeleton(self,t,factor):\n",
    "        shape=self.skeletons[t].shape\n",
    "        final_picture = np.zeros(shape=(shape[0]//factor,shape[1]//factor))\n",
    "        for pixel in self.skeletons[t].keys():\n",
    "            x=min(round(pixel[0]/factor),shape[0]//factor-1)\n",
    "            y=min(round(pixel[1]/factor),shape[1]//factor-1)\n",
    "            final_picture[x,y]+=1\n",
    "        return(final_picture>=1)\n",
    "    def plot(self,ts,labels=[],relabel_t=lambda x:x,relabel_tp1=lambda x:x, shift=(0,0),compress=1,save='',time=None,power=4):\n",
    "        right = 0.90\n",
    "        top = 0.90\n",
    "        if len(save)>=1:\n",
    "            fig=plt.figure(figsize=(14,12))\n",
    "            size = 10\n",
    "        else:\n",
    "            fig = plt.figure()\n",
    "            size = 5\n",
    "        ax = fig.add_subplot(111)\n",
    "        np.random.seed(0)\n",
    "        scale=1/len(ts)\n",
    "        final_image=scale*experiment.compress_skeleton(ts[0],compress)\n",
    "        for i,t in enumerate(ts[1:]):\n",
    "            final_image=np.power(final_image**power+((i+2)*scale*experiment.compress_skeleton(t,compress))**power,1/power)\n",
    "        ax.imshow(final_image, cmap='plasma',interpolation='none',vmin=0,vmax=1)\n",
    "#         bbox_props1 = dict(boxstyle=\"circle\", fc=\"grey\")\n",
    "#         bbox_props2 = dict(boxstyle=\"circle\", fc=\"white\")\n",
    "#         ax.text(right, top, time,\n",
    "#             horizontalalignment='right',\n",
    "#             verticalalignment='bottom',\n",
    "#             transform=ax.transAxes,color='white')\n",
    "#         for node in node_list_t:\n",
    "#             t = ax.text((pos_t[node][1]-shift[1])//compress, (pos_t[node][0]-shift[0])//compress, str(relabel_t(node)), ha=\"center\", va=\"center\",\n",
    "#                         size=size,\n",
    "#                         bbox=bbox_props1)\n",
    "#         for node in node_list_tp1:\n",
    "#             if node in pos_tp1.keys():\n",
    "#                 t = ax.text((pos_tp1[node][1]-shift[1])//compress, (pos_tp1[node][0]-shift[0])//compress, str(relabel_tp1(node)), ha=\"center\", va=\"center\",\n",
    "#                             size=size,\n",
    "#                             bbox=bbox_props2)\n",
    "        if len(save)>=1:\n",
    "            plt.savefig(save)\n",
    "            plt.close(fig)\n",
    "        else:\n",
    "            plt.show()\n",
    "        \n",
    "\n",
    "class Node():\n",
    "    def __init__(self,label,experiment):\n",
    "        self.experiment = experiment\n",
    "        self.label = label\n",
    "    def __repr__(self):\n",
    "        return (f'Node({self.label})')\n",
    "    def __str__(self):\n",
    "        return str(self.label)\n",
    "    def neighbours(self,t):\n",
    "        return([self.experiment.get_node(node) for node in self.experiment.nx_graph[t].neighbors(self.label)])\n",
    "    def is_in(self,t):\n",
    "        return(self.label in self.experiment.nx_graph[t].nodes)\n",
    "    def degree(self,t):\n",
    "        return(self.experiment.nx_graph[t].degree(self.label))\n",
    "    def edges(self,t):\n",
    "        return([self.experiment.get_edge(self,neighbour) for neighbour in self.neighbours(t)])\n",
    "    def pos(self,t):\n",
    "        return(self.experiment.positions[t][self.label])\n",
    "\n",
    "class Edge():\n",
    "    def __init__(self,begin,end,experiment):\n",
    "        self.begin=begin\n",
    "        self.end = end\n",
    "        self.experiment = experiment\n",
    "    def __repr__(self):\n",
    "        return (f'Edge({self.begin},{self.end})')\n",
    "    def __str__(self):\n",
    "        return str((self.begin,self.end))\n",
    "    def is_in(self,t):\n",
    "        return((self.begin,self.end) in self.experiment.nx_graph[t].edges)\n",
    "    def pixel_list(self,t):\n",
    "        return(orient(self.experiment.nx_graph[t].get_edge_data(self.begin.label,self.end.label)['pixel_list'],self.begin.pos(t)))\n",
    "    def orientation_whole(self,t):\n",
    "        pixel_list = np.array(self.pixel_list(t))\n",
    "        vector = pixel_list[-1]-pixel_list[0]\n",
    "        unit_vector = vector/np.linalg.norm(vector)\n",
    "        vertical_vector=np.array([-1,0])\n",
    "        dot_product = np.dot(vertical_vector,unit_vector)\n",
    "        if vertical_vector[1]*vector[0]-vertical_vector[0]*vector[1]>=0: #determinant\n",
    "            angle = np.arccos(dot_product)/(2*np.pi)*360\n",
    "        else:\n",
    "            angle = -np.arccos(dot_product)/(2*np.pi)*360\n",
    "        return(angle)\n",
    "        "
   ]
  },
  {
   "cell_type": "code",
   "execution_count": 256,
   "metadata": {},
   "outputs": [],
   "source": [
    "experiment = Experiment(13)"
   ]
  },
  {
   "cell_type": "code",
   "execution_count": 258,
   "metadata": {},
   "outputs": [],
   "source": [
    "experiment.load(dates,local=False)"
   ]
  },
  {
   "cell_type": "code",
   "execution_count": 259,
   "metadata": {},
   "outputs": [],
   "source": [
    "experiment_updated= Experiment(13)\n",
    "experiment_updated.copy(experiment)"
   ]
  },
  {
   "cell_type": "code",
   "execution_count": 260,
   "metadata": {},
   "outputs": [
    {
     "data": {
      "application/vnd.jupyter.widget-view+json": {
       "model_id": "d569f6def7464cf9b81ac401c150daae",
       "version_major": 2,
       "version_minor": 0
      },
      "text/plain": [
       "Canvas(toolbar=Toolbar(toolitems=[('Home', 'Reset original view', 'home', 'home'), ('Back', 'Back to previous …"
      ]
     },
     "metadata": {},
     "output_type": "display_data"
    }
   ],
   "source": [
    "# fig=plt.figure(figsize=(9,9))\n",
    "# ax = fig.add_subplot(111)\n",
    "# np.random.seed(0)\n",
    "# for t in ts:\n",
    "#     color = list(np.random.choice(range(256), size=3))\n",
    "experiment_updated.plot([0,1,2,3,4,5,6],compress=5)\n",
    "# ax.imshow(0.8*experiment.compress_skeleton(1,5),cmap='plasma',interpolation='none',vmin=0,vmax=1)\n",
    "# plt.show()"
   ]
  },
  {
   "cell_type": "code",
   "execution_count": 247,
   "metadata": {},
   "outputs": [
    {
     "data": {
      "text/plain": [
       "<__main__.Experiment at 0x24160d6ccc8>"
      ]
     },
     "execution_count": 247,
     "metadata": {},
     "output_type": "execute_result"
    }
   ],
   "source": [
    "experiment_updated"
   ]
  },
  {
   "cell_type": "code",
   "execution_count": 243,
   "metadata": {},
   "outputs": [],
   "source": [
    "experiment_updated.pickle_save()"
   ]
  },
  {
   "cell_type": "code",
   "execution_count": 246,
   "metadata": {},
   "outputs": [],
   "source": [
    "experiment_updated.pickle_load()"
   ]
  },
  {
   "cell_type": "code",
   "execution_count": 221,
   "metadata": {},
   "outputs": [],
   "source": [
    "plt.close('all')"
   ]
  },
  {
   "cell_type": "code",
   "execution_count": 124,
   "metadata": {},
   "outputs": [
    {
     "data": {
      "text/plain": [
       "62.300527191945015"
      ]
     },
     "execution_count": 124,
     "metadata": {},
     "output_type": "execute_result"
    }
   ],
   "source": [
    "experiment.get_node(19).edges(0)[1].orientation_whole(0)"
   ]
  },
  {
   "cell_type": "code",
   "execution_count": 120,
   "metadata": {},
   "outputs": [
    {
     "data": {
      "text/plain": [
       "[Edge(19,25), Edge(19,16), Edge(19,20)]"
      ]
     },
     "execution_count": 120,
     "metadata": {},
     "output_type": "execute_result"
    }
   ],
   "source": [
    "experiment.get_node(19).edges(0)"
   ]
  },
  {
   "cell_type": "code",
   "execution_count": 44,
   "metadata": {},
   "outputs": [
    {
     "data": {
      "text/plain": [
       "[2]"
      ]
     },
     "execution_count": 44,
     "metadata": {},
     "output_type": "execute_result"
    }
   ],
   "source": [
    "list(experiment.nodes[].neighbours(0))"
   ]
  },
  {
   "cell_type": "code",
   "execution_count": 16,
   "metadata": {},
   "outputs": [
    {
     "data": {
      "text/plain": [
       "array([9248, 6724])"
      ]
     },
     "execution_count": 16,
     "metadata": {},
     "output_type": "execute_result"
    }
   ],
   "source": [
    "experiment.positions[0][0]"
   ]
  },
  {
   "cell_type": "code",
   "execution_count": 24,
   "metadata": {},
   "outputs": [
    {
     "name": "stdout",
     "output_type": "stream",
     "text": [
      "wow\n"
     ]
    }
   ],
   "source": [
    "experiment.save()"
   ]
  },
  {
   "cell_type": "code",
   "execution_count": 139,
   "metadata": {},
   "outputs": [
    {
     "data": {
      "text/plain": [
       "[37, 235, 140]"
      ]
     },
     "execution_count": 139,
     "metadata": {},
     "output_type": "execute_result"
    }
   ],
   "source": [
    "np.random.seed(1)\n",
    "random_color()"
   ]
  },
  {
   "cell_type": "code",
   "execution_count": 133,
   "metadata": {},
   "outputs": [],
   "source": [
    "import random\n",
    "def random_color():\n",
    "    return list(np.random.choice(range(256), size=3))"
   ]
  },
  {
   "cell_type": "code",
   "execution_count": 237,
   "metadata": {},
   "outputs": [],
   "source": [
    "import sys\n",
    "\n",
    "def get_size(obj, seen=None):\n",
    "    \"\"\"Recursively finds size of objects\"\"\"\n",
    "    size = sys.getsizeof(obj)\n",
    "    if seen is None:\n",
    "        seen = set()\n",
    "    obj_id = id(obj)\n",
    "    if obj_id in seen:\n",
    "        return 0\n",
    "    # Important mark as seen *before* entering recursion to gracefully handle\n",
    "    # self-referential objects\n",
    "    seen.add(obj_id)\n",
    "    if isinstance(obj, dict):\n",
    "        size += sum([get_size(v, seen) for v in obj.values()])\n",
    "        size += sum([get_size(k, seen) for k in obj.keys()])\n",
    "    elif hasattr(obj, '__dict__'):\n",
    "        size += get_size(obj.__dict__, seen)\n",
    "    elif hasattr(obj, '__iter__') and not isinstance(obj, (str, bytes, bytearray)):\n",
    "        size += sum([get_size(i, seen) for i in obj])\n",
    "    return size"
   ]
  }
 ],
 "metadata": {
  "kernelspec": {
   "display_name": "cleanMsc",
   "language": "python",
   "name": "cleanmsc"
  },
  "language_info": {
   "codemirror_mode": {
    "name": "ipython",
    "version": 3
   },
   "file_extension": ".py",
   "mimetype": "text/x-python",
   "name": "python",
   "nbconvert_exporter": "python",
   "pygments_lexer": "ipython3",
   "version": "3.7.9"
  }
 },
 "nbformat": 4,
 "nbformat_minor": 4
}

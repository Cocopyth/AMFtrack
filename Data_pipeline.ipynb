{
 "cells": [
  {
   "cell_type": "code",
   "execution_count": 1,
   "metadata": {},
   "outputs": [],
   "source": [
    "%matplotlib widget\n",
    "import pandas as pd\n",
    "import networkx as nx\n",
    "import numpy as np\n",
    "import matplotlib.pyplot as plt\n",
    "from util import get_path, get_dates_datetime, get_dirname, get_plate_number, get_postion_number\n",
    "\n",
    "from extract_graph import generate_nx_graph, transform_list, generate_skeleton, generate_nx_graph_from_skeleton, from_connection_tab, from_nx_to_tab\n",
    "from node_id import whole_movement_identification, second_identification\n",
    "import ast\n",
    "from plotutil import plot_t_tp1, compress_skeleton\n",
    "from scipy import sparse\n",
    "from sparse_util import dilate, zhangSuen\n",
    "from realign import realign\n",
    "from datetime import datetime,timedelta\n",
    "from node_id import orient\n",
    "import pickle\n",
    "from matplotlib.widgets import CheckButtons\n",
    "import scipy.io as sio\n",
    "import imageio\n",
    "from pymatreader import read_mat\n",
    "from matplotlib import colors\n",
    "from copy import deepcopy,copy\n",
    "from collections import Counter\n",
    "import cv2 \n",
    "import imageio\n",
    "import matplotlib.pyplot as plt\n",
    "import numpy as np\n",
    "from skimage.filters import frangi, meijering\n",
    "from skimage.morphology import thin\n",
    "from skimage import data, filters\n",
    "from random import choice\n",
    "import scipy.sparse\n",
    "import os\n",
    "from time import time\n",
    "from extract_graph import dic_to_sparse, from_sparse_to_graph, generate_nx_graph, prune_graph, from_nx_to_tab, from_nx_to_tab_matlab,sparse_to_doc, connections_pixel_list_to_tab, transform_list, clean_degree_4\n",
    "from time import sleep\n",
    "from skimage.feature import hessian_matrix_det\n",
    "from experiment_class_surf import Experiment,clean_exp_with_hyphaes\n",
    "from hyphae_id_surf import clean_and_relabel, get_mother, save_hyphaes, resolve_ambiguity_two_ends,solve_degree4, clean_obvious_fake_tips\n",
    "from subprocess import call\n"
   ]
  },
  {
   "cell_type": "markdown",
   "metadata": {},
   "source": [
    "***Chose plate number and directory of interest where the folders with images are***"
   ]
  },
  {
   "cell_type": "code",
   "execution_count": 2,
   "metadata": {},
   "outputs": [
    {
     "name": "stdout",
     "output_type": "stream",
     "text": [
      "6\n"
     ]
    },
    {
     "data": {
      "text/plain": [
       "179"
      ]
     },
     "execution_count": 2,
     "metadata": {},
     "output_type": "execute_result"
    }
   ],
   "source": [
    "plate_number = 330\n",
    "plate = get_postion_number(plate_number)\n",
    "print(plate)\n",
    "from directory import directory, run_parallel, find_state\n",
    "directory = \"/projects/0/einf914/data/\"\n",
    "listdir = os.listdir(directory)\n",
    "list_dir_interest = [name for name in listdir if name.split('_')[-1]==f'Plate{0 if plate<10 else \"\"}{plate}']\n",
    "dates_datetime = get_dates_datetime(directory,plate)\n",
    "len(list_dir_interest)"
   ]
  },
  {
   "cell_type": "code",
   "execution_count": 50,
   "metadata": {},
   "outputs": [
    {
     "data": {
      "text/plain": [
       "'20200929_2212_Plate04'"
      ]
     },
     "execution_count": 50,
     "metadata": {},
     "output_type": "execute_result"
    }
   ],
   "source": [
    "get_dirname(dates_datetime[1], plate)"
   ]
  },
  {
   "cell_type": "code",
   "execution_count": 3,
   "metadata": {},
   "outputs": [
    {
     "name": "stdout",
     "output_type": "stream",
     "text": [
      "0 330\n"
     ]
    }
   ],
   "source": [
    "plate_number = get_plate_number(plate,dates_datetime[0])\n",
    "print(0,plate_number)\n",
    "for i in range(len(list_dir_interest)):\n",
    "    new_plate_number = get_plate_number(plate,dates_datetime[i])\n",
    "    if plate_number!=new_plate_number:\n",
    "        plate_number=new_plate_number\n",
    "        print(i,plate_number)\n"
   ]
  },
  {
   "cell_type": "markdown",
   "metadata": {},
   "source": [
    "***Chose timestep to begin with and folder to end with***"
   ]
  },
  {
   "cell_type": "code",
   "execution_count": 4,
   "metadata": {},
   "outputs": [
    {
     "name": "stdout",
     "output_type": "stream",
     "text": [
      "begin = 2020-08-14 01:00:00 \n",
      "  end = 2020-09-12 19:58:00\n"
     ]
    }
   ],
   "source": [
    "begin = 0\n",
    "end = 123\n",
    "print('begin =', dates_datetime[begin], '\\n  end =', dates_datetime[end])"
   ]
  },
  {
   "cell_type": "code",
   "execution_count": 5,
   "metadata": {
    "collapsed": true,
    "jupyter": {
     "outputs_hidden": true
    }
   },
   "outputs": [
    {
     "name": "stdout",
     "output_type": "stream",
     "text": [
      "(datetime.datetime(2020, 8, 25, 5, 2), 20) alignment failed\n"
     ]
    },
    {
     "data": {
      "text/plain": [
       "('/Analysis/skeleton_realigned_compressed.mat',\n",
       " [(datetime.datetime(2020, 8, 14, 1, 0), 0),\n",
       "  (datetime.datetime(2020, 8, 14, 5, 0), 1),\n",
       "  (datetime.datetime(2020, 8, 14, 9, 0), 2),\n",
       "  (datetime.datetime(2020, 8, 14, 13, 0), 3),\n",
       "  (datetime.datetime(2020, 8, 14, 17, 0), 4),\n",
       "  (datetime.datetime(2020, 8, 14, 21, 0), 5),\n",
       "  (datetime.datetime(2020, 8, 15, 1, 0), 6),\n",
       "  (datetime.datetime(2020, 8, 15, 5, 0), 7),\n",
       "  (datetime.datetime(2020, 8, 15, 9, 0), 8),\n",
       "  (datetime.datetime(2020, 8, 15, 13, 0), 9),\n",
       "  (datetime.datetime(2020, 8, 15, 17, 0), 10),\n",
       "  (datetime.datetime(2020, 8, 15, 21, 0), 11),\n",
       "  (datetime.datetime(2020, 8, 16, 1, 0), 12),\n",
       "  (datetime.datetime(2020, 8, 16, 5, 0), 13),\n",
       "  (datetime.datetime(2020, 8, 16, 9, 0), 14),\n",
       "  (datetime.datetime(2020, 8, 16, 13, 0), 15),\n",
       "  (datetime.datetime(2020, 8, 16, 17, 0), 16),\n",
       "  (datetime.datetime(2020, 8, 16, 21, 0), 17),\n",
       "  (datetime.datetime(2020, 8, 17, 1, 0), 18),\n",
       "  (datetime.datetime(2020, 8, 17, 5, 0), 19),\n",
       "  (datetime.datetime(2020, 8, 25, 5, 2), 20),\n",
       "  (datetime.datetime(2020, 8, 25, 9, 2), 21),\n",
       "  (datetime.datetime(2020, 8, 25, 13, 16), 22),\n",
       "  (datetime.datetime(2020, 8, 25, 17, 16), 23),\n",
       "  (datetime.datetime(2020, 8, 25, 21, 16), 24),\n",
       "  (datetime.datetime(2020, 8, 26, 1, 16), 25),\n",
       "  (datetime.datetime(2020, 8, 26, 5, 16), 26),\n",
       "  (datetime.datetime(2020, 8, 26, 9, 16), 27),\n",
       "  (datetime.datetime(2020, 8, 26, 13, 16), 28),\n",
       "  (datetime.datetime(2020, 8, 26, 17, 19), 29),\n",
       "  (datetime.datetime(2020, 8, 26, 21, 19), 30),\n",
       "  (datetime.datetime(2020, 8, 27, 1, 19), 31),\n",
       "  (datetime.datetime(2020, 8, 27, 5, 19), 32),\n",
       "  (datetime.datetime(2020, 8, 27, 9, 19), 33),\n",
       "  (datetime.datetime(2020, 8, 27, 13, 19), 34),\n",
       "  (datetime.datetime(2020, 8, 27, 17, 19), 35),\n",
       "  (datetime.datetime(2020, 8, 27, 21, 19), 36),\n",
       "  (datetime.datetime(2020, 8, 28, 1, 19), 37),\n",
       "  (datetime.datetime(2020, 8, 28, 5, 19), 38),\n",
       "  (datetime.datetime(2020, 8, 28, 9, 19), 39),\n",
       "  (datetime.datetime(2020, 8, 28, 13, 19), 40),\n",
       "  (datetime.datetime(2020, 8, 28, 17, 19), 41),\n",
       "  (datetime.datetime(2020, 8, 28, 21, 19), 42),\n",
       "  (datetime.datetime(2020, 8, 29, 1, 20), 43),\n",
       "  (datetime.datetime(2020, 8, 29, 5, 20), 44),\n",
       "  (datetime.datetime(2020, 8, 29, 9, 20), 45),\n",
       "  (datetime.datetime(2020, 8, 29, 13, 20), 46),\n",
       "  (datetime.datetime(2020, 8, 29, 17, 20), 47),\n",
       "  (datetime.datetime(2020, 8, 29, 21, 20), 48),\n",
       "  (datetime.datetime(2020, 8, 30, 1, 20), 49),\n",
       "  (datetime.datetime(2020, 8, 30, 5, 20), 50),\n",
       "  (datetime.datetime(2020, 8, 30, 9, 20), 51),\n",
       "  (datetime.datetime(2020, 8, 30, 13, 20), 52),\n",
       "  (datetime.datetime(2020, 8, 30, 17, 19), 53),\n",
       "  (datetime.datetime(2020, 8, 30, 21, 20), 54),\n",
       "  (datetime.datetime(2020, 8, 31, 1, 20), 55),\n",
       "  (datetime.datetime(2020, 8, 31, 5, 20), 56),\n",
       "  (datetime.datetime(2020, 8, 31, 9, 20), 57),\n",
       "  (datetime.datetime(2020, 8, 31, 13, 20), 58),\n",
       "  (datetime.datetime(2020, 8, 31, 17, 20), 59),\n",
       "  (datetime.datetime(2020, 8, 31, 21, 20), 60),\n",
       "  (datetime.datetime(2020, 9, 1, 1, 20), 61),\n",
       "  (datetime.datetime(2020, 9, 1, 5, 20), 62),\n",
       "  (datetime.datetime(2020, 9, 1, 9, 20), 63),\n",
       "  (datetime.datetime(2020, 9, 2, 0, 0), 64),\n",
       "  (datetime.datetime(2020, 9, 2, 4, 0), 65),\n",
       "  (datetime.datetime(2020, 9, 2, 8, 1), 66),\n",
       "  (datetime.datetime(2020, 9, 2, 12, 0), 67),\n",
       "  (datetime.datetime(2020, 9, 2, 16, 0), 68),\n",
       "  (datetime.datetime(2020, 9, 2, 20, 0), 69),\n",
       "  (datetime.datetime(2020, 9, 3, 0, 0), 70),\n",
       "  (datetime.datetime(2020, 9, 3, 4, 1), 71),\n",
       "  (datetime.datetime(2020, 9, 3, 8, 1), 72),\n",
       "  (datetime.datetime(2020, 9, 3, 12, 1), 73),\n",
       "  (datetime.datetime(2020, 9, 3, 16, 1), 74),\n",
       "  (datetime.datetime(2020, 9, 3, 20, 0), 75),\n",
       "  (datetime.datetime(2020, 9, 4, 0, 1), 76),\n",
       "  (datetime.datetime(2020, 9, 4, 4, 0), 77),\n",
       "  (datetime.datetime(2020, 9, 4, 8, 0), 78),\n",
       "  (datetime.datetime(2020, 9, 4, 12, 0), 79),\n",
       "  (datetime.datetime(2020, 9, 4, 16, 0), 80),\n",
       "  (datetime.datetime(2020, 9, 4, 20, 1), 81),\n",
       "  (datetime.datetime(2020, 9, 5, 0, 0), 82),\n",
       "  (datetime.datetime(2020, 9, 5, 4, 1), 83),\n",
       "  (datetime.datetime(2020, 9, 5, 8, 1), 84),\n",
       "  (datetime.datetime(2020, 9, 5, 12, 1), 85),\n",
       "  (datetime.datetime(2020, 9, 5, 15, 59), 86),\n",
       "  (datetime.datetime(2020, 9, 5, 19, 59), 87),\n",
       "  (datetime.datetime(2020, 9, 5, 23, 59), 88),\n",
       "  (datetime.datetime(2020, 9, 6, 3, 59), 89),\n",
       "  (datetime.datetime(2020, 9, 6, 7, 59), 90),\n",
       "  (datetime.datetime(2020, 9, 6, 11, 59), 91),\n",
       "  (datetime.datetime(2020, 9, 7, 15, 58), 92),\n",
       "  (datetime.datetime(2020, 9, 7, 19, 58), 93),\n",
       "  (datetime.datetime(2020, 9, 7, 23, 58), 94),\n",
       "  (datetime.datetime(2020, 9, 8, 3, 58), 95),\n",
       "  (datetime.datetime(2020, 9, 8, 7, 58), 96),\n",
       "  (datetime.datetime(2020, 9, 8, 11, 58), 97),\n",
       "  (datetime.datetime(2020, 9, 8, 15, 58), 98),\n",
       "  (datetime.datetime(2020, 9, 8, 19, 58), 99),\n",
       "  (datetime.datetime(2020, 9, 8, 23, 58), 100),\n",
       "  (datetime.datetime(2020, 9, 9, 3, 58), 101),\n",
       "  (datetime.datetime(2020, 9, 9, 7, 58), 102),\n",
       "  (datetime.datetime(2020, 9, 9, 11, 58), 103),\n",
       "  (datetime.datetime(2020, 9, 9, 15, 58), 104),\n",
       "  (datetime.datetime(2020, 9, 9, 19, 58), 105),\n",
       "  (datetime.datetime(2020, 9, 9, 23, 58), 106),\n",
       "  (datetime.datetime(2020, 9, 10, 3, 58), 107),\n",
       "  (datetime.datetime(2020, 9, 10, 7, 58), 108),\n",
       "  (datetime.datetime(2020, 9, 10, 11, 58), 109),\n",
       "  (datetime.datetime(2020, 9, 10, 15, 58), 110),\n",
       "  (datetime.datetime(2020, 9, 10, 19, 58), 111),\n",
       "  (datetime.datetime(2020, 9, 10, 23, 58), 112),\n",
       "  (datetime.datetime(2020, 9, 11, 3, 58), 113),\n",
       "  (datetime.datetime(2020, 9, 11, 7, 58), 114),\n",
       "  (datetime.datetime(2020, 9, 11, 11, 58), 115),\n",
       "  (datetime.datetime(2020, 9, 11, 15, 58), 116),\n",
       "  (datetime.datetime(2020, 9, 11, 19, 58), 117),\n",
       "  (datetime.datetime(2020, 9, 11, 23, 58), 118),\n",
       "  (datetime.datetime(2020, 9, 12, 3, 58), 119),\n",
       "  (datetime.datetime(2020, 9, 12, 7, 58), 120),\n",
       "  (datetime.datetime(2020, 9, 12, 11, 58), 121),\n",
       "  (datetime.datetime(2020, 9, 12, 15, 58), 122),\n",
       "  (datetime.datetime(2020, 9, 12, 19, 58), 123)])"
      ]
     },
     "execution_count": 5,
     "metadata": {},
     "output_type": "execute_result"
    }
   ],
   "source": [
    "find_state(plate, begin, end, directory)"
   ]
  },
  {
   "cell_type": "markdown",
   "metadata": {},
   "source": [
    "***Skeletonization***\n",
    "- Only 4 skeletonization processes can be run in parallel on one node"
   ]
  },
  {
   "cell_type": "code",
   "execution_count": 225,
   "metadata": {},
   "outputs": [],
   "source": [
    "num_parallel = 4\n",
    "time = '3:00:00'\n",
    "low = 30\n",
    "high = 80\n",
    "extend = 30\n",
    "args=[plate, low, high, extend,directory]\n",
    "run_parallel('extract_skel_surf.py',args,begin,end,num_parallel,time,'skeletonization')"
   ]
  },
  {
   "cell_type": "markdown",
   "metadata": {},
   "source": [
    "***Compress raw image***"
   ]
  },
  {
   "cell_type": "code",
   "execution_count": 228,
   "metadata": {},
   "outputs": [],
   "source": [
    "num_parallel = 4\n",
    "time = '2:00'\n",
    "args = [plate, directory]\n",
    "run_parallel('compress_image.py',args, begin, end, num_parallel, time, 'compress')"
   ]
  },
  {
   "cell_type": "markdown",
   "metadata": {},
   "source": [
    "***Check Skeletonization***\n",
    "- The first cell loads the skeleton and the compressed raw image\n",
    "- The second cell shows the overlap of the skeleton and the raw image"
   ]
  },
  {
   "cell_type": "code",
   "execution_count": 196,
   "metadata": {},
   "outputs": [],
   "source": [
    "start = 0\n",
    "finish = start +2\n",
    "dates_datetime = get_dates_datetime(directory,plate)\n",
    "dates_datetime_chosen=dates_datetime[start:finish+1]\n",
    "dates = dates_datetime_chosen\n",
    "skels = []\n",
    "ims = []\n",
    "kernel = np.ones((5,5),np.uint8)\n",
    "itera = 1\n",
    "for date in dates:\n",
    "    directory_name = get_dirname(date,plate)\n",
    "    path_snap=directory+directory_name\n",
    "    skel_info = read_mat(path_snap+'/Analysis/skeleton_compressed.mat')\n",
    "    skel = skel_info['skeleton']\n",
    "    skels.append(cv2.dilate(skel.astype(np.uint8),kernel,iterations = itera))\n",
    "    im = read_mat(path_snap+'/Analysis/raw_image.mat')['raw']\n",
    "    ims.append(im)"
   ]
  },
  {
   "cell_type": "markdown",
   "metadata": {},
   "source": [
    "- Chose start and finish to display the overlap of the skeleton and the raw image : no more than 10 at a time or jupyter will crash.\n",
    "- For display purpose, everything is compressed so connectivity may be lost\n",
    "- colors are just a feature of compression"
   ]
  },
  {
   "cell_type": "code",
   "execution_count": 199,
   "metadata": {},
   "outputs": [
    {
     "data": {
      "application/vnd.jupyter.widget-view+json": {
       "model_id": "30fb0149eb324521a019ebbbadcac2b3",
       "version_major": 2,
       "version_minor": 0
      },
      "text/plain": [
       "Canvas(toolbar=Toolbar(toolitems=[('Home', 'Reset original view', 'home', 'home'), ('Back', 'Back to previous …"
      ]
     },
     "metadata": {},
     "output_type": "display_data"
    }
   ],
   "source": [
    "plt.close('all')\n",
    "start = 0\n",
    "finish = start + 1\n",
    "for i in range(start,finish):\n",
    "    plot_t_tp1([], [], None, None, skels[i]*0, ims[i])"
   ]
  },
  {
   "cell_type": "markdown",
   "metadata": {},
   "source": [
    "***Check specific image***\n",
    "- If something wrong is noticed in one of the skeletons one can chose to look closer at one of the images and the skeletonization process\n",
    "- chose ***i*** equal to the timestep where something wrong has been noticed "
   ]
  },
  {
   "cell_type": "code",
   "execution_count": 229,
   "metadata": {},
   "outputs": [],
   "source": [
    "#chose i equal to the timestep where something wrong has been noticed \n",
    "i = 122\n",
    "\n",
    "dates_datetime = get_dates_datetime(directory,plate)\n",
    "dates = dates_datetime\n",
    "\n",
    "date =dates [i]\n",
    "directory_name = get_dirname(date,plate)\n",
    "path_snap=directory+directory_name\n",
    "path_tile=path_snap+'/Img/TileConfiguration.txt.registered'\n",
    "try:\n",
    "    tileconfig = pd.read_table(path_tile,sep=';',skiprows=4,header=None,converters={2 : ast.literal_eval},skipinitialspace=True)\n",
    "except:\n",
    "    print('error_name')\n",
    "    path_tile=path_snap+'/Img/TileConfiguration.registered.txt'\n",
    "    tileconfig = pd.read_table(path_tile,sep=';',skiprows=4,header=None,converters={2 : ast.literal_eval},skipinitialspace=True)\n",
    "xs =[c[0] for c in tileconfig[2]]\n",
    "ys =[c[1] for c in tileconfig[2]]\n",
    "dim = (int(np.max(ys)-np.min(ys))+4096,int(np.max(xs)-np.min(xs))+4096)\n",
    "ims = []\n",
    "for name in tileconfig[0]:\n",
    "    imname = '/Img/'+name.split('/')[-1]\n",
    "    ims.append(imageio.imread(directory+directory_name+imname))\n"
   ]
  },
  {
   "cell_type": "code",
   "execution_count": 232,
   "metadata": {},
   "outputs": [
    {
     "data": {
      "text/html": [
       "<div>\n",
       "<style scoped>\n",
       "    .dataframe tbody tr th:only-of-type {\n",
       "        vertical-align: middle;\n",
       "    }\n",
       "\n",
       "    .dataframe tbody tr th {\n",
       "        vertical-align: top;\n",
       "    }\n",
       "\n",
       "    .dataframe thead th {\n",
       "        text-align: right;\n",
       "    }\n",
       "</style>\n",
       "<table border=\"1\" class=\"dataframe\">\n",
       "  <thead>\n",
       "    <tr style=\"text-align: right;\">\n",
       "      <th></th>\n",
       "      <th>0</th>\n",
       "      <th>1</th>\n",
       "      <th>2</th>\n",
       "    </tr>\n",
       "  </thead>\n",
       "  <tbody>\n",
       "    <tr>\n",
       "      <th>0</th>\n",
       "      <td>/scratch/shared/AMF914/Fiji.app/20200918_0837_...</td>\n",
       "      <td>NaN</td>\n",
       "      <td>(0.0, 0.0)</td>\n",
       "    </tr>\n",
       "  </tbody>\n",
       "</table>\n",
       "</div>"
      ],
      "text/plain": [
       "                                                   0   1           2\n",
       "0  /scratch/shared/AMF914/Fiji.app/20200918_0837_... NaN  (0.0, 0.0)"
      ]
     },
     "execution_count": 232,
     "metadata": {},
     "output_type": "execute_result"
    }
   ],
   "source": [
    "tileconfig"
   ]
  },
  {
   "cell_type": "markdown",
   "metadata": {},
   "source": [
    "- Chose a x,y position where you want to see how the skeletonization process went (x is the scale on the left on the images and y is the bottom scale)\n",
    "- You can chose to display different part of the filter par commenting/uncommenting"
   ]
  },
  {
   "cell_type": "code",
   "execution_count": 10,
   "metadata": {
    "collapsed": true,
    "jupyter": {
     "outputs_hidden": true,
     "source_hidden": true
    }
   },
   "outputs": [
    {
     "name": "stdout",
     "output_type": "stream",
     "text": [
      "93\n",
      "Raw image\n"
     ]
    },
    {
     "data": {
      "application/vnd.jupyter.widget-view+json": {
       "model_id": "f032d38c7ddc4b3bad8a50796c9301cf",
       "version_major": 2,
       "version_minor": 0
      },
      "text/plain": [
       "Canvas(toolbar=Toolbar(toolitems=[('Home', 'Reset original view', 'home', 'home'), ('Back', 'Back to previous …"
      ]
     },
     "metadata": {},
     "output_type": "display_data"
    },
    {
     "name": "stdout",
     "output_type": "stream",
     "text": [
      "Raw image with background removed\n"
     ]
    },
    {
     "data": {
      "application/vnd.jupyter.widget-view+json": {
       "model_id": "5b1d58ce6af74f3ba4023a42a767d06a",
       "version_major": 2,
       "version_minor": 0
      },
      "text/plain": [
       "Canvas(toolbar=Toolbar(toolitems=[('Home', 'Reset original view', 'home', 'home'), ('Back', 'Back to previous …"
      ]
     },
     "metadata": {},
     "output_type": "display_data"
    },
    {
     "name": "stdout",
     "output_type": "stream",
     "text": [
      "frangised image\n"
     ]
    },
    {
     "data": {
      "application/vnd.jupyter.widget-view+json": {
       "model_id": "dcd5564bc57748db9e52244ba0c6d60b",
       "version_major": 2,
       "version_minor": 0
      },
      "text/plain": [
       "Canvas(toolbar=Toolbar(toolitems=[('Home', 'Reset original view', 'home', 'home'), ('Back', 'Back to previous …"
      ]
     },
     "metadata": {},
     "output_type": "display_data"
    },
    {
     "name": "stdout",
     "output_type": "stream",
     "text": [
      "final transformed image\n"
     ]
    },
    {
     "data": {
      "application/vnd.jupyter.widget-view+json": {
       "model_id": "f7d3d1bad7d74d6bb3e1a10f81ed4212",
       "version_major": 2,
       "version_minor": 0
      },
      "text/plain": [
       "Canvas(toolbar=Toolbar(toolitems=[('Home', 'Reset original view', 'home', 'home'), ('Back', 'Back to previous …"
      ]
     },
     "metadata": {},
     "output_type": "display_data"
    },
    {
     "name": "stdout",
     "output_type": "stream",
     "text": [
      "threhsolded image\n"
     ]
    },
    {
     "data": {
      "application/vnd.jupyter.widget-view+json": {
       "model_id": "b9b7743a821b4844ad7ac6f3eee862ca",
       "version_major": 2,
       "version_minor": 0
      },
      "text/plain": [
       "Canvas(toolbar=Toolbar(toolitems=[('Home', 'Reset original view', 'home', 'home'), ('Back', 'Back to previous …"
      ]
     },
     "metadata": {},
     "output_type": "display_data"
    },
    {
     "name": "stdout",
     "output_type": "stream",
     "text": [
      "threhsolded image\n"
     ]
    },
    {
     "data": {
      "application/vnd.jupyter.widget-view+json": {
       "model_id": "af426b13d2ad47ddb18cf5304d2084a2",
       "version_major": 2,
       "version_minor": 0
      },
      "text/plain": [
       "Canvas(toolbar=Toolbar(toolitems=[('Home', 'Reset original view', 'home', 'home'), ('Back', 'Back to previous …"
      ]
     },
     "metadata": {},
     "output_type": "display_data"
    },
    {
     "name": "stdout",
     "output_type": "stream",
     "text": [
      "extended tips\n"
     ]
    },
    {
     "data": {
      "application/vnd.jupyter.widget-view+json": {
       "model_id": "2b8a0220c4c949509e1dbf1777ade9f6",
       "version_major": 2,
       "version_minor": 0
      },
      "text/plain": [
       "Canvas(toolbar=Toolbar(toolitems=[('Home', 'Reset original view', 'home', 'home'), ('Back', 'Back to previous …"
      ]
     },
     "metadata": {},
     "output_type": "display_data"
    },
    {
     "name": "stdout",
     "output_type": "stream",
     "text": [
      "final_skel\n"
     ]
    },
    {
     "data": {
      "application/vnd.jupyter.widget-view+json": {
       "model_id": "82897944de8b471da67d06bf2ce107ab",
       "version_major": 2,
       "version_minor": 0
      },
      "text/plain": [
       "Canvas(toolbar=Toolbar(toolitems=[('Home', 'Reset original view', 'home', 'home'), ('Back', 'Back to previous …"
      ]
     },
     "metadata": {},
     "output_type": "display_data"
    },
    {
     "name": "stdout",
     "output_type": "stream",
     "text": [
      "94\n",
      "Raw image\n"
     ]
    },
    {
     "data": {
      "application/vnd.jupyter.widget-view+json": {
       "model_id": "17a5f02c363f4875a2430e15056fe3e6",
       "version_major": 2,
       "version_minor": 0
      },
      "text/plain": [
       "Canvas(toolbar=Toolbar(toolitems=[('Home', 'Reset original view', 'home', 'home'), ('Back', 'Back to previous …"
      ]
     },
     "metadata": {},
     "output_type": "display_data"
    },
    {
     "name": "stdout",
     "output_type": "stream",
     "text": [
      "Raw image with background removed\n"
     ]
    },
    {
     "data": {
      "application/vnd.jupyter.widget-view+json": {
       "model_id": "d314980dd37a416ebe61b61815563a20",
       "version_major": 2,
       "version_minor": 0
      },
      "text/plain": [
       "Canvas(toolbar=Toolbar(toolitems=[('Home', 'Reset original view', 'home', 'home'), ('Back', 'Back to previous …"
      ]
     },
     "metadata": {},
     "output_type": "display_data"
    },
    {
     "name": "stdout",
     "output_type": "stream",
     "text": [
      "frangised image\n"
     ]
    },
    {
     "data": {
      "application/vnd.jupyter.widget-view+json": {
       "model_id": "fc7de963f9c0461a81a0f5aafd7058d9",
       "version_major": 2,
       "version_minor": 0
      },
      "text/plain": [
       "Canvas(toolbar=Toolbar(toolitems=[('Home', 'Reset original view', 'home', 'home'), ('Back', 'Back to previous …"
      ]
     },
     "metadata": {},
     "output_type": "display_data"
    },
    {
     "name": "stdout",
     "output_type": "stream",
     "text": [
      "final transformed image\n"
     ]
    },
    {
     "data": {
      "application/vnd.jupyter.widget-view+json": {
       "model_id": "2d142699edd94da6ab6e2b7698df13b8",
       "version_major": 2,
       "version_minor": 0
      },
      "text/plain": [
       "Canvas(toolbar=Toolbar(toolitems=[('Home', 'Reset original view', 'home', 'home'), ('Back', 'Back to previous …"
      ]
     },
     "metadata": {},
     "output_type": "display_data"
    },
    {
     "name": "stdout",
     "output_type": "stream",
     "text": [
      "threhsolded image\n"
     ]
    },
    {
     "data": {
      "application/vnd.jupyter.widget-view+json": {
       "model_id": "bb894d4eacb74195868e85ac09e4594a",
       "version_major": 2,
       "version_minor": 0
      },
      "text/plain": [
       "Canvas(toolbar=Toolbar(toolitems=[('Home', 'Reset original view', 'home', 'home'), ('Back', 'Back to previous …"
      ]
     },
     "metadata": {},
     "output_type": "display_data"
    },
    {
     "name": "stdout",
     "output_type": "stream",
     "text": [
      "threhsolded image\n"
     ]
    },
    {
     "data": {
      "application/vnd.jupyter.widget-view+json": {
       "model_id": "9f466a1e1eee4d098a2509b5922a07cb",
       "version_major": 2,
       "version_minor": 0
      },
      "text/plain": [
       "Canvas(toolbar=Toolbar(toolitems=[('Home', 'Reset original view', 'home', 'home'), ('Back', 'Back to previous …"
      ]
     },
     "metadata": {},
     "output_type": "display_data"
    },
    {
     "name": "stdout",
     "output_type": "stream",
     "text": [
      "extended tips\n"
     ]
    },
    {
     "data": {
      "application/vnd.jupyter.widget-view+json": {
       "model_id": "c345e59bf1b54a0588ae12196f7042a2",
       "version_major": 2,
       "version_minor": 0
      },
      "text/plain": [
       "Canvas(toolbar=Toolbar(toolitems=[('Home', 'Reset original view', 'home', 'home'), ('Back', 'Back to previous …"
      ]
     },
     "metadata": {},
     "output_type": "display_data"
    },
    {
     "name": "stdout",
     "output_type": "stream",
     "text": [
      "final_skel\n"
     ]
    },
    {
     "data": {
      "application/vnd.jupyter.widget-view+json": {
       "model_id": "cd758833135b4e1d9249181cc06a75fa",
       "version_major": 2,
       "version_minor": 0
      },
      "text/plain": [
       "Canvas(toolbar=Toolbar(toolitems=[('Home', 'Reset original view', 'home', 'home'), ('Back', 'Back to previous …"
      ]
     },
     "metadata": {},
     "output_type": "display_data"
    }
   ],
   "source": [
    "plt.close('all')\n",
    "\n",
    "#chose a spot where to look closer at\n",
    "linex  = 4200\n",
    "liney = 1500\n",
    "\n",
    "shape = (3000,4096)\n",
    "linex *= 5\n",
    "liney *= 5\n",
    "for index,im in enumerate(ims):\n",
    "    boundaries = int(tileconfig[2][index][0]-np.min(xs)),int(tileconfig[2][index][1]-np.min(ys))\n",
    "    if boundaries[1]<=linex< boundaries[1]+shape[0] and boundaries[0]<=liney< boundaries[0]+shape[1]:\n",
    "        print(index)\n",
    "        im_cropped = im\n",
    "        im_blurred =cv2.blur(im_cropped, (200, 200))\n",
    "        im_back_rem = (im_cropped+1)/(im_blurred+1)*120\n",
    "        im_back_rem[im_back_rem>=130]=130\n",
    "        # # im_back_rem = im_cropped*1.0\n",
    "        # # # im_back_rem = cv2.normalize(im_back_rem, None, 0, 255, cv2.NORM_MINMAX)\n",
    "        frangised = frangi(im_back_rem,sigmas=range(1,20,4))*255\n",
    "        # # frangised = cv2.normalize(frangised, None, 0, 255, cv2.NORM_MINMAX)\n",
    "        hessian = hessian_matrix_det(im_back_rem,sigma = 20)\n",
    "        blur_hessian = cv2.blur(abs(hessian), (20, 20))\n",
    "    #     transformed = (frangised+cv2.normalize(blur_hessian, None, 0, 255, cv2.NORM_MINMAX)-im_back_rem+120)*(im_blurred>=35)\n",
    "    #     transformed = (frangised+cv2.normalize(abs(hessian), None, 0, 255, cv2.NORM_MINMAX)-im_back_rem+120)*(im_blurred>=35)\n",
    "        transformed = (frangised-im_back_rem+120)*(im_blurred>=35)\n",
    "        low = 40\n",
    "        high = 80\n",
    "        lowt = (transformed > low).astype(int)\n",
    "        hight = (transformed > high).astype(int)\n",
    "        hyst = filters.apply_hysteresis_threshold(transformed, low, high)\n",
    "        kernel = np.ones((3,3),np.uint8)\n",
    "        dilation = cv2.dilate(hyst.astype(np.uint8) * 255,kernel,iterations = 1)\n",
    "        for i in range(3):\n",
    "            dilation=cv2.erode(dilation.astype(np.uint8) * 255,kernel,iterations = 1)\n",
    "            dilation = cv2.dilate(dilation.astype(np.uint8) * 255,kernel,iterations = 1)\n",
    "        dilated = dilation>0\n",
    "        \n",
    "        nb_components, output, stats, centroids = cv2.connectedComponentsWithStats(dilated.astype(np.uint8), connectivity=8)\n",
    "        #connectedComponentswithStats yields every seperated component with information on each of them, such as size\n",
    "        #the following part is just taking out the background which is also considered a component, but most of the time we don't want that.\n",
    "        sizes = stats[1:, -1]; nb_components = nb_components - 1\n",
    "\n",
    "        # minimum size of particles we want to keep (number of pixels)\n",
    "        #here, it's a fixed value, but you can set it as you want, eg the mean of the sizes or whatever\n",
    "        min_size = 4000  \n",
    "\n",
    "        #your answer image\n",
    "        img2 = np.zeros((dilated.shape))\n",
    "        #for every component in the image, you keep it only if it's above min_size\n",
    "        for i in range(0, nb_components):\n",
    "            if sizes[i] >= min_size:\n",
    "                img2[output == i + 1] = 1\n",
    "        skeletonized = cv2.ximgproc.thinning(np.array(255*img2,dtype=np.uint8))\n",
    "        nx_g = generate_nx_graph(from_sparse_to_graph(scipy.sparse.dok_matrix(skeletonized)))\n",
    "        g,pos= nx_g\n",
    "        tips = [node for node in g.nodes if g.degree(node)==1]\n",
    "        dilated_bis = np.copy(img2)\n",
    "        for tip in tips:\n",
    "            branch = np.array(orient(g.get_edge_data(*list(g.edges(tip))[0])['pixel_list'],pos[tip]))\n",
    "            orientation = branch[0]-branch[min(branch.shape[0]-1,20)]\n",
    "            orientation = orientation/(np.linalg.norm(orientation))\n",
    "            window = 20\n",
    "            x,y = pos[tip][0],pos[tip][1]\n",
    "            if x-window>=0 and x+window< dilated.shape[0] and y-window>=0 and y+window< dilated.shape[1]:\n",
    "                shape_tip = dilated[x-window:x+window,y-window:y+window]\n",
    "                dist = 20\n",
    "                for i in range(dist):\n",
    "                    pixel = (pos[tip]+orientation*i).astype(int)\n",
    "                    xp,yp = pixel[0],pixel[1]\n",
    "                    if xp-window>=0 and xp+window< dilated.shape[0] and yp-window>=0 and yp+window< dilated.shape[1]:\n",
    "                        dilated_bis[xp-window:xp+window,yp-window:yp+window]+=shape_tip\n",
    "        dilation = cv2.dilate(dilated_bis.astype(np.uint8) * 255,kernel,iterations = 1)\n",
    "        for i in range(3):\n",
    "            dilation=cv2.erode(dilation.astype(np.uint8) * 255,kernel,iterations = 1)\n",
    "            dilation = cv2.dilate(dilation.astype(np.uint8) * 255,kernel,iterations = 1)\n",
    "        skeletonized = cv2.ximgproc.thinning(np.array(255*(dilation>0),dtype=np.uint8))\n",
    "        print('Raw image')\n",
    "        fig=plt.figure(figsize=(10,9))\n",
    "        ax = fig.add_subplot(111)\n",
    "        ax.imshow(im)\n",
    "        print('Raw image with background removed')\n",
    "        fig=plt.figure(figsize=(10,9))\n",
    "        ax = fig.add_subplot(111)\n",
    "        ax.imshow(im_back_rem)\n",
    "        print('frangised image')\n",
    "        fig=plt.figure(figsize=(10,9))\n",
    "        ax = fig.add_subplot(111)\n",
    "        ax.imshow(frangised)\n",
    "        print('final transformed image')\n",
    "        fig=plt.figure(figsize=(10,9))\n",
    "        ax = fig.add_subplot(111)\n",
    "        ax.imshow(transformed)\n",
    "        print('threhsolded image')\n",
    "        fig=plt.figure(figsize=(10,9))\n",
    "        ax = fig.add_subplot(111)\n",
    "        ax.imshow(dilated>0)\n",
    "        print('threhsolded image')\n",
    "        fig=plt.figure(figsize=(10,9))\n",
    "        \n",
    "        ax = fig.add_subplot(111)\n",
    "        ax.imshow(img2>0)\n",
    "        print('extended tips')\n",
    "        fig=plt.figure(figsize=(10,9))\n",
    "        ax = fig.add_subplot(111)\n",
    "        ax.imshow(dilated_bis)\n",
    "        print('final_skel')\n",
    "#         fig=plt.figure(figsize=(10,9))\n",
    "#         ax = fig.add_subplot(111)\n",
    "#         ax.imshow(cv2.normalize(abs(hessian), None, 0, 255, cv2.NORM_MINMAX)-255*dilated)\n",
    "        plot_t_tp1([],[],None,None,skeletonized,im_back_rem)"
   ]
  },
  {
   "cell_type": "markdown",
   "metadata": {},
   "source": [
    "***Mask baits and border of the petri dish***"
   ]
  },
  {
   "cell_type": "code",
   "execution_count": 13,
   "metadata": {},
   "outputs": [],
   "source": [
    "num_parallel = 4\n",
    "time = '5:00'\n",
    "thresh = 80\n",
    "args=[plate,thresh, directory]\n",
    "run_parallel('mask_skel.py',args,begin,end,num_parallel,time,'mask')"
   ]
  },
  {
   "cell_type": "markdown",
   "metadata": {},
   "source": [
    "***Check Masking***"
   ]
  },
  {
   "cell_type": "code",
   "execution_count": 11,
   "metadata": {},
   "outputs": [],
   "source": [
    "start = 0\n",
    "finish = start +2\n",
    "dates_datetime = get_dates_datetime(directory,plate)\n",
    "dates_datetime_chosen=dates_datetime[start:finish+1]\n",
    "dates = dates_datetime_chosen\n",
    "skels = []\n",
    "ims = []\n",
    "masks = []\n",
    "kernel = np.ones((5,5),np.uint8)\n",
    "itera = 1\n",
    "for date in dates:\n",
    "    directory_name = get_dirname(date,plate)\n",
    "    path_snap = directory + directory_name\n",
    "    skel_info = read_mat(path_snap+'/Analysis/skeleton_masked_compressed.mat')\n",
    "    skel = skel_info['skeleton']\n",
    "    skels.append(cv2.dilate(skel.astype(np.uint8),kernel,iterations = itera))\n",
    "    mask_info = read_mat(path_snap+'/Analysis/mask.mat')\n",
    "    mask = mask_info['mask']\n",
    "    masks.append(mask)\n",
    "    im = read_mat(path_snap+'/Analysis/raw_image.mat')['raw']\n",
    "    ims.append(im)"
   ]
  },
  {
   "cell_type": "code",
   "execution_count": 12,
   "metadata": {},
   "outputs": [
    {
     "data": {
      "application/vnd.jupyter.widget-view+json": {
       "model_id": "f39f5af18cef4a10a25b36b3ea4e58bc",
       "version_major": 2,
       "version_minor": 0
      },
      "text/plain": [
       "Canvas(toolbar=Toolbar(toolitems=[('Home', 'Reset original view', 'home', 'home'), ('Back', 'Back to previous …"
      ]
     },
     "metadata": {},
     "output_type": "display_data"
    },
    {
     "data": {
      "application/vnd.jupyter.widget-view+json": {
       "model_id": "17bb536ccf17407dac2a3c79a8299d1e",
       "version_major": 2,
       "version_minor": 0
      },
      "text/plain": [
       "Canvas(toolbar=Toolbar(toolitems=[('Home', 'Reset original view', 'home', 'home'), ('Back', 'Back to previous …"
      ]
     },
     "metadata": {},
     "output_type": "display_data"
    }
   ],
   "source": [
    "plt.close('all')\n",
    "start = 0\n",
    "finish = start +2\n",
    "for i in range(start,finish):\n",
    "    plot_t_tp1([], [], None, None, masks[i], ims[i])"
   ]
  },
  {
   "cell_type": "code",
   "execution_count": 200,
   "metadata": {},
   "outputs": [
    {
     "data": {
      "text/plain": [
       "6.0"
      ]
     },
     "execution_count": 200,
     "metadata": {},
     "output_type": "execute_result"
    }
   ],
   "source": [
    "90/15"
   ]
  },
  {
   "cell_type": "markdown",
   "metadata": {},
   "source": [
    "***Prune Graph***"
   ]
  },
  {
   "cell_type": "code",
   "execution_count": 73,
   "metadata": {},
   "outputs": [],
   "source": [
    "num_parallel = 20\n",
    "time = '50:00'\n",
    "threshold = 0.1\n",
    "args = [plate,threshold, directory]\n",
    "run_parallel('prune_skel.py',args,begin,end,num_parallel,time,'prune_graph')"
   ]
  },
  {
   "cell_type": "markdown",
   "metadata": {},
   "source": [
    "***Check Pruned Graphs***"
   ]
  },
  {
   "cell_type": "code",
   "execution_count": 9,
   "metadata": {},
   "outputs": [],
   "source": [
    "start = 0\n",
    "finish = start +2\n",
    "dates_datetime = get_dates_datetime(directory,plate)\n",
    "dates_datetime_chosen=dates_datetime[start:finish+1]\n",
    "dates = dates_datetime_chosen\n",
    "skels = []\n",
    "ims = []\n",
    "kernel = np.ones((5,5),np.uint8)\n",
    "itera = 1\n",
    "for date in dates:\n",
    "    directory_name = get_dirname(date,plate)\n",
    "    path_snap=directory+directory_name\n",
    "    skel_info = read_mat(path_snap+'/Analysis/skeleton_pruned_compressed.mat')\n",
    "    skel = skel_info['skeleton']\n",
    "    skels.append(cv2.dilate(skel.astype(np.uint8),kernel,iterations = itera))\n",
    "    im = read_mat(path_snap+'/Analysis/raw_image.mat')['raw']\n",
    "    ims.append(im)"
   ]
  },
  {
   "cell_type": "code",
   "execution_count": 10,
   "metadata": {},
   "outputs": [
    {
     "data": {
      "application/vnd.jupyter.widget-view+json": {
       "model_id": "e2f8ec1d26154d669bfede172fed787a",
       "version_major": 2,
       "version_minor": 0
      },
      "text/plain": [
       "Canvas(toolbar=Toolbar(toolitems=[('Home', 'Reset original view', 'home', 'home'), ('Back', 'Back to previous …"
      ]
     },
     "metadata": {},
     "output_type": "display_data"
    },
    {
     "data": {
      "application/vnd.jupyter.widget-view+json": {
       "model_id": "0c318398a41a43008b5a33cae63d9298",
       "version_major": 2,
       "version_minor": 0
      },
      "text/plain": [
       "Canvas(toolbar=Toolbar(toolitems=[('Home', 'Reset original view', 'home', 'home'), ('Back', 'Back to previous …"
      ]
     },
     "metadata": {},
     "output_type": "display_data"
    }
   ],
   "source": [
    "plt.close('all')\n",
    "start = 0\n",
    "finish = start +2\n",
    "for i in range(start,finish):\n",
    "    plot_t_tp1([],[],None,None,skels[i],skels[i])"
   ]
  },
  {
   "cell_type": "code",
   "execution_count": 65,
   "metadata": {
    "jupyter": {
     "source_hidden": true
    }
   },
   "outputs": [
    {
     "data": {
      "application/vnd.jupyter.widget-view+json": {
       "model_id": "79550dae467747e19c9e11948c4eb427",
       "version_major": 2,
       "version_minor": 0
      },
      "text/plain": [
       "Canvas(toolbar=Toolbar(toolitems=[('Home', 'Reset original view', 'home', 'home'), ('Back', 'Back to previous …"
      ]
     },
     "metadata": {},
     "output_type": "display_data"
    }
   ],
   "source": [
    "plt.close('all')\n",
    "kernel = np.ones((5,5),np.uint8)\n",
    "for i in range(len(compressed)-1):\n",
    "    plot_t_tp1([],[],None,None,cv2.dilate(compressed[i].astype(np.uint8),kernel,iterations = 2),cv2.dilate(compressed[i+1].astype(np.uint8),kernel,iterations = 2))"
   ]
  },
  {
   "cell_type": "markdown",
   "metadata": {},
   "source": [
    "***Realign***"
   ]
  },
  {
   "cell_type": "code",
   "execution_count": 159,
   "metadata": {},
   "outputs": [],
   "source": [
    "num_parallel =16\n",
    "time = '1:00:00'\n",
    "thresh = 10000\n",
    "args=[plate, thresh, directory]\n",
    "run_parallel('final_alignment.py',args,begin,end,num_parallel,time,'realign')"
   ]
  },
  {
   "cell_type": "markdown",
   "metadata": {},
   "source": [
    "***Check Alignment***"
   ]
  },
  {
   "cell_type": "code",
   "execution_count": 180,
   "metadata": {},
   "outputs": [],
   "source": [
    "plt.close('all')\n",
    "start = 151\n",
    "finish = start +2\n",
    "dates_datetime = get_dates_datetime(directory,plate)\n",
    "dates_datetime_chosen=dates_datetime[start:finish+1]\n",
    "dates = dates_datetime_chosen\n",
    "dilateds=[]\n",
    "skels = []\n",
    "skel_docs = []\n",
    "Rs=[]\n",
    "ts=[]\n",
    "for date in dates[1:]:\n",
    "    directory_name = get_dirname(date,plate)\n",
    "    path_snap=directory+directory_name\n",
    "    skel_info = read_mat(path_snap+'/Analysis/skeleton.mat')\n",
    "    skel = skel_info['skeleton']\n",
    "    skels.append(skel)\n",
    "    skel_doc = sparse_to_doc(skel)\n",
    "    skel_docs.append(skel_doc)\n",
    "    transform = sio.loadmat(path_snap+'/Analysis/transform.mat')\n",
    "    R,t = transform['R'],transform['t']\n",
    "    Rs.append(R)\n",
    "    ts.append(t)\n",
    "# start = 0\n",
    "# for j in range(start,start + 5):\n",
    "#     print(dates[j],j+begin)\n",
    "#     skeleton1,skeleton2 = skel_docs[j],skel_docs[j+1]\n",
    "#     R,t = Rs[j],ts[j]\n",
    "#     skelet_pos = np.array(list(skeleton1.keys()))\n",
    "#     samples = np.random.choice(skelet_pos.shape[0],20000)\n",
    "#     X = np.transpose(skelet_pos[samples,:])\n",
    "#     skelet_pos = np.array(list(skeleton2.keys()))\n",
    "#     samples = np.random.choice(skelet_pos.shape[0],20000)\n",
    "#     Y = np.transpose(skelet_pos[samples,:])\n",
    "#     fig=plt.figure(figsize=(10,9))\n",
    "#     ax = fig.add_subplot(111)\n",
    "#     Yrep=np.transpose(np.transpose(np.dot(R,X))+t)\n",
    "#     ax.scatter(np.transpose(Yrep)[:,0],np.transpose(Yrep)[:,1])\n",
    "#     ax.scatter(np.transpose(Y)[:,0],np.transpose(Y)[:,1])"
   ]
  },
  {
   "cell_type": "markdown",
   "metadata": {},
   "source": [
    "***Create realigned Skeleton***"
   ]
  },
  {
   "cell_type": "code",
   "execution_count": 190,
   "metadata": {},
   "outputs": [],
   "source": [
    "num_parallel = 12\n",
    "time = '1:00:00'\n",
    "args = [plate, begin, end, directory]\n",
    "run_parallel('realign_surf.py', args, begin, end, num_parallel, time, 'create_realign')"
   ]
  },
  {
   "cell_type": "markdown",
   "metadata": {},
   "source": [
    "***Check Fine Alignment***"
   ]
  },
  {
   "cell_type": "code",
   "execution_count": 35,
   "metadata": {},
   "outputs": [],
   "source": [
    "start = 5\n",
    "finish = start +10\n",
    "dates_datetime = get_dates_datetime(directory,plate)\n",
    "dates_datetime_chosen=dates_datetime[start:finish+1]\n",
    "dates = dates_datetime_chosen\n",
    "skels = []\n",
    "ims = []\n",
    "kernel = np.ones((5, 5), np.uint8)\n",
    "itera = 1\n",
    "for date in dates:\n",
    "    directory_name = get_dirname(date,plate)\n",
    "    path_snap = directory + directory_name\n",
    "    skel_info = read_mat(path_snap+'/Analysis/skeleton_realigned_compressed.mat')\n",
    "    skel = skel_info['skeleton']\n",
    "#     skels.append(skel)\n",
    "    skels.append(cv2.dilate(skel.astype(np.uint8),kernel,iterations = itera))\n",
    "    im = read_mat(path_snap+'/Analysis/raw_image.mat')['raw']\n",
    "    ims.append(im)\n"
   ]
  },
  {
   "cell_type": "code",
   "execution_count": 36,
   "metadata": {},
   "outputs": [
    {
     "data": {
      "application/vnd.jupyter.widget-view+json": {
       "model_id": "017b652a358a4c86a418d386b15f33fa",
       "version_major": 2,
       "version_minor": 0
      },
      "text/plain": [
       "Canvas(toolbar=Toolbar(toolitems=[('Home', 'Reset original view', 'home', 'home'), ('Back', 'Back to previous …"
      ]
     },
     "metadata": {},
     "output_type": "display_data"
    }
   ],
   "source": [
    "plt.close('all')\n",
    "start = 4\n",
    "finish = start + 1\n",
    "for i in range(start, finish):\n",
    "    plot_t_tp1([],[],None,None,skels[i],skels[i+1])"
   ]
  },
  {
   "cell_type": "code",
   "execution_count": null,
   "metadata": {
    "jupyter": {
     "source_hidden": true
    }
   },
   "outputs": [],
   "source": [
    "plt.close('all')\n",
    "directory = \"/scratch/shared/mrozemul/Fiji.app/\" \n",
    "listdir=os.listdir(directory) \n",
    "list_dir_interest=[name for name in listdir if name.split('_')[-1]==f'Plate{0 if plate<10 else \"\"}{plate}']\n",
    "ss=[name.split('_')[0] for name in list_dir_interest]\n",
    "ff=[name.split('_')[1] for name in list_dir_interest]\n",
    "dates_datetime=[datetime(year=int(ss[i][:4]),month=int(ss[i][4:6]),day=int(ss[i][6:8]),hour=int(ff[i][0:2]),minute=int(ff[i][2:4])) for i in range(len(list_dir_interest))]\n",
    "dates_datetime.sort()\n",
    "begin = 0\n",
    "end = 20\n",
    "dates_datetime_chosen=dates_datetime[begin:end]\n",
    "dates = [f'{0 if date.month<10 else \"\"}{date.month}{0 if date.day<10 else \"\"}{date.day}_{0 if date.hour<10 else \"\"}{date.hour}{0 if date.minute<10 else \"\"}{date.minute}' for date in dates_datetime_chosen]\n",
    "zone = (13000,13000+5000+3000,20000,20000+5000+4096)\n",
    "skels_aligned = []\n",
    "for i,date in enumerate(dates):\n",
    "    directory_name=f'2020{dates[i]}_Plate{0 if plate<10 else \"\"}{plate}'\n",
    "    path_snap='/scratch/shared/mrozemul/Fiji.app/'+directory_name\n",
    "    skels_aligned.append(sio.loadmat(path_snap+'/Analysis/skeleton_realigned.mat')['skeleton'])\n",
    "for i in range(11,13):\n",
    "    plot_t_tp1([],[],None,None,skels_aligned[i][zone[0]:zone[1],zone[2]:zone[3]].todense(),skels_aligned[i+1][zone[0]:zone[1],zone[2]:zone[3]].todense())"
   ]
  },
  {
   "cell_type": "code",
   "execution_count": 20,
   "metadata": {
    "jupyter": {
     "source_hidden": true
    }
   },
   "outputs": [
    {
     "data": {
      "application/vnd.jupyter.widget-view+json": {
       "model_id": "fb707a339c0844d78c56bdeb44b449c6",
       "version_major": 2,
       "version_minor": 0
      },
      "text/plain": [
       "Canvas(toolbar=Toolbar(toolitems=[('Home', 'Reset original view', 'home', 'home'), ('Back', 'Back to previous …"
      ]
     },
     "metadata": {},
     "output_type": "display_data"
    },
    {
     "data": {
      "text/plain": [
       "<matplotlib.image.AxesImage at 0x2b197ba65c10>"
      ]
     },
     "execution_count": 20,
     "metadata": {},
     "output_type": "execute_result"
    }
   ],
   "source": [
    "plt.close('all')\n",
    "zone = (6000,13000,12000,22000)\n",
    "fig=plt.figure(figsize=(10,9))\n",
    "ax = fig.add_subplot(111)\n",
    "ax.imshow(skels_aligned[11][zone[0]:zone[1],zone[2]:zone[3]].todense())"
   ]
  },
  {
   "cell_type": "markdown",
   "metadata": {},
   "source": [
    "***Create graphs***"
   ]
  },
  {
   "cell_type": "code",
   "execution_count": 6,
   "metadata": {},
   "outputs": [],
   "source": [
    "num_parallel = 5\n",
    "time = '30:00'\n",
    "args=[plate, directory]\n",
    "run_parallel('extract_nx_graph.py',args,begin,end,num_parallel,time,'extract_nx')"
   ]
  },
  {
   "cell_type": "markdown",
   "metadata": {},
   "source": [
    "***Identify Nodes***"
   ]
  },
  {
   "cell_type": "code",
   "execution_count": 35,
   "metadata": {},
   "outputs": [],
   "source": [
    "num_parallel = 1\n",
    "time = '24:00:00'\n",
    "args=[plate,begin,end, directory]\n",
    "run_parallel('extract_nodes_surf.py',args,0,0,num_parallel,time,'node_id')"
   ]
  },
  {
   "cell_type": "markdown",
   "metadata": {},
   "source": [
    "***Check Node Id***"
   ]
  },
  {
   "cell_type": "code",
   "execution_count": 20,
   "metadata": {},
   "outputs": [],
   "source": [
    "dates_datetime = get_dates_datetime(directory,plate)\n",
    "dates_datetime_chosen = dates_datetime[begin:end+1]\n",
    "dates = dates_datetime_chosen\n",
    "exp = Experiment(plate)\n",
    "exp.load(dates)"
   ]
  },
  {
   "cell_type": "code",
   "execution_count": 21,
   "metadata": {},
   "outputs": [
    {
     "data": {
      "application/vnd.jupyter.widget-view+json": {
       "model_id": "dd74237c34fb4ac9a5809622ea8600a1",
       "version_major": 2,
       "version_minor": 0
      },
      "text/plain": [
       "Canvas(toolbar=Toolbar(toolitems=[('Home', 'Reset original view', 'home', 'home'), ('Back', 'Back to previous …"
      ]
     },
     "metadata": {},
     "output_type": "display_data"
    }
   ],
   "source": [
    "plt.close('all')\n",
    "t = 2\n",
    "nodes = np.random.choice(exp.nx_graph[t].nodes, 100)\n",
    "# exp.plot([t,t+1,t+2],[list(nodes)]*3)\n",
    "exp.plot([t,t+1,t+2],[nodes]*3)"
   ]
  },
  {
   "cell_type": "markdown",
   "metadata": {},
   "source": [
    "***Hyphae extraction***"
   ]
  },
  {
   "cell_type": "code",
   "execution_count": 6,
   "metadata": {},
   "outputs": [],
   "source": [
    "num_parallel = 1\n",
    "time = '2:00:00'\n",
    "args = [plate, begin, end, directory]\n",
    "run_parallel('hyphae_extraction.py',args,0,0,num_parallel,time,'hyphae')"
   ]
  },
  {
   "cell_type": "code",
   "execution_count": null,
   "metadata": {},
   "outputs": [],
   "source": []
  },
  {
   "cell_type": "markdown",
   "metadata": {},
   "source": [
    "***Check Hyphae***"
   ]
  },
  {
   "cell_type": "code",
   "execution_count": 6,
   "metadata": {},
   "outputs": [],
   "source": [
    "dates_datetime = get_dates_datetime(directory,plate)\n",
    "dates_datetime_chosen=dates_datetime[begin:end+1]\n",
    "dates = dates_datetime\n",
    "exp = pickle.load( open(f'{directory}Analysis_Plate{plate}_{dates[0]}_{dates[-1]}/experiment_{plate}.pick', \"rb\" ) )"
   ]
  },
  {
   "cell_type": "code",
   "execution_count": 17,
   "metadata": {},
   "outputs": [
    {
     "data": {
      "text/plain": [
       "[14, 15, 16, 17]"
      ]
     },
     "execution_count": 17,
     "metadata": {},
     "output_type": "execute_result"
    }
   ],
   "source": [
    "hyph = choice(exp.hyphaes)\n",
    "hyph.ts"
   ]
  },
  {
   "cell_type": "code",
   "execution_count": 18,
   "metadata": {},
   "outputs": [
    {
     "name": "stderr",
     "output_type": "stream",
     "text": [
      "/home/cbisot/anaconda3/envs/test/lib/python3.7/site-packages/matplotlib/__init__.py:880: MatplotlibDeprecationWarning: \n",
      "nbagg.transparent\n",
      "  version, key, obj_type=\"rcparam\", alternative=alt_key)\n"
     ]
    },
    {
     "data": {
      "application/vnd.jupyter.widget-view+json": {
       "model_id": "2e05c4fd35d74bc1a5a577a4701049db",
       "version_major": 2,
       "version_minor": 0
      },
      "text/plain": [
       "Canvas(toolbar=Toolbar(toolitems=[('Home', 'Reset original view', 'home', 'home'), ('Back', 'Back to previous …"
      ]
     },
     "metadata": {},
     "output_type": "display_data"
    }
   ],
   "source": [
    "plt.close('all')\n",
    "hyph.end.show_source_image(hyph.ts[-1],hyph.ts[-1])"
   ]
  },
  {
   "cell_type": "code",
   "execution_count": 19,
   "metadata": {},
   "outputs": [
    {
     "data": {
      "application/vnd.jupyter.widget-view+json": {
       "model_id": "ca00c5a74d4841fb9514084136fa0f48",
       "version_major": 2,
       "version_minor": 0
      },
      "text/plain": [
       "Canvas(toolbar=Toolbar(toolitems=[('Home', 'Reset original view', 'home', 'home'), ('Back', 'Back to previous …"
      ]
     },
     "metadata": {},
     "output_type": "display_data"
    }
   ],
   "source": [
    "plt.close('all')\n",
    "exp.plot([0,hyph.ts[-2],hyph.ts[-1]],[[hyph.root.label,hyph.end.label]]*3)"
   ]
  }
 ],
 "metadata": {
  "kernelspec": {
   "display_name": "Python 3",
   "language": "python",
   "name": "python3"
  },
  "language_info": {
   "codemirror_mode": {
    "name": "ipython",
    "version": 3
   },
   "file_extension": ".py",
   "mimetype": "text/x-python",
   "name": "python",
   "nbconvert_exporter": "python",
   "pygments_lexer": "ipython3",
   "version": "3.7.7"
  }
 },
 "nbformat": 4,
 "nbformat_minor": 4
}

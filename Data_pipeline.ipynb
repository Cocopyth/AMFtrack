{
 "cells": [
  {
   "cell_type": "code",
   "execution_count": 1,
   "metadata": {},
   "outputs": [],
   "source": [
    "%matplotlib widget\n",
    "import pandas as pd\n",
    "import networkx as nx\n",
    "import numpy as np\n",
    "import matplotlib.pyplot as plt\n",
    "from util import get_path, get_dates_datetime, get_dirname\n",
    "\n",
    "from extract_graph import generate_nx_graph, transform_list, generate_skeleton, generate_nx_graph_from_skeleton, from_connection_tab, from_nx_to_tab\n",
    "from node_id import whole_movement_identification, second_identification\n",
    "import ast\n",
    "from plotutil import plot_t_tp1, compress_skeleton\n",
    "from scipy import sparse\n",
    "from sparse_util import dilate, zhangSuen\n",
    "from realign import realign\n",
    "from datetime import datetime,timedelta\n",
    "from node_id import orient\n",
    "import pickle\n",
    "from matplotlib.widgets import CheckButtons\n",
    "import scipy.io as sio\n",
    "import imageio\n",
    "from pymatreader import read_mat\n",
    "from matplotlib import colors\n",
    "from copy import deepcopy,copy\n",
    "from collections import Counter\n",
    "import cv2 \n",
    "import imageio\n",
    "import matplotlib.pyplot as plt\n",
    "import numpy as np\n",
    "from skimage.filters import frangi, meijering\n",
    "from skimage.morphology import thin\n",
    "from skimage import data, filters\n",
    "from random import choice\n",
    "import scipy.sparse\n",
    "import os\n",
    "from time import time\n",
    "from extract_graph import dic_to_sparse, from_sparse_to_graph, generate_nx_graph, prune_graph, from_nx_to_tab, from_nx_to_tab_matlab,sparse_to_doc, connections_pixel_list_to_tab, transform_list, clean_degree_4\n",
    "from time import sleep\n",
    "from skimage.feature import hessian_matrix_det\n",
    "from experiment_class_surf import Experiment,clean_exp_with_hyphaes\n",
    "from hyphae_id_surf import clean_and_relabel, get_mother, save_hyphaes, resolve_ambiguity_two_ends,solve_degree4, clean_obvious_fake_tips\n",
    "from subprocess import call\n"
   ]
  },
  {
   "cell_type": "markdown",
   "metadata": {},
   "source": [
    "***Chose plate number and directory of interest where the folders with images are***"
   ]
  },
  {
   "cell_type": "code",
   "execution_count": 2,
   "metadata": {},
   "outputs": [
    {
     "data": {
      "text/plain": [
       "253"
      ]
     },
     "execution_count": 2,
     "metadata": {},
     "output_type": "execute_result"
    }
   ],
   "source": [
    "plate = 8\n",
    "from directory import directory, run_parallel, find_state\n",
    "# from directory import directory, run_parallel, find_state\n",
    "listdir = os.listdir(directory)\n",
    "list_dir_interest = [name for name in listdir if name.split('_')[-1]==f'Plate{0 if plate<10 else \"\"}{plate}']\n",
    "dates_datetime = get_dates_datetime(directory,plate)\n",
    "len(list_dir_interest)"
   ]
  },
  {
   "cell_type": "markdown",
   "metadata": {},
   "source": [
    "***Chose timestep to begin with and folder to end with***"
   ]
  },
  {
   "cell_type": "code",
   "execution_count": 4,
   "metadata": {},
   "outputs": [
    {
     "name": "stdout",
     "output_type": "stream",
     "text": [
      "begin = 2020-09-29 14:22:00 \n",
      "  end = 2020-10-01 14:29:00\n"
     ]
    }
   ],
   "source": [
    "begin = 0\n",
    "end = 4#len(list_dir_interest)-1\n",
    "print('begin =', dates_datetime[begin], '\\n  end =', dates_datetime[end])"
   ]
  },
  {
   "cell_type": "code",
   "execution_count": 4,
   "metadata": {
    "collapsed": true,
    "jupyter": {
     "outputs_hidden": true
    }
   },
   "outputs": [
    {
     "data": {
      "text/plain": [
       "([(datetime.datetime(2020, 9, 29, 14, 22), 0),\n",
       "  (datetime.datetime(2020, 9, 29, 22, 22), 1),\n",
       "  (datetime.datetime(2020, 9, 30, 22, 22), 2),\n",
       "  (datetime.datetime(2020, 10, 1, 10, 29), 3),\n",
       "  (datetime.datetime(2020, 10, 1, 14, 29), 4),\n",
       "  (datetime.datetime(2020, 10, 1, 18, 29), 5),\n",
       "  (datetime.datetime(2020, 10, 1, 22, 29), 6),\n",
       "  (datetime.datetime(2020, 10, 2, 2, 29), 7),\n",
       "  (datetime.datetime(2020, 10, 2, 6, 29), 8),\n",
       "  (datetime.datetime(2020, 10, 2, 10, 29), 9),\n",
       "  (datetime.datetime(2020, 10, 2, 14, 29), 10),\n",
       "  (datetime.datetime(2020, 10, 2, 18, 29), 11),\n",
       "  (datetime.datetime(2020, 10, 2, 22, 29), 12),\n",
       "  (datetime.datetime(2020, 10, 3, 2, 29), 13),\n",
       "  (datetime.datetime(2020, 10, 3, 6, 29), 14),\n",
       "  (datetime.datetime(2020, 10, 3, 10, 29), 15),\n",
       "  (datetime.datetime(2020, 10, 3, 14, 29), 16),\n",
       "  (datetime.datetime(2020, 10, 3, 18, 29), 17),\n",
       "  (datetime.datetime(2020, 10, 3, 22, 29), 18),\n",
       "  (datetime.datetime(2020, 10, 5, 9, 57), 19),\n",
       "  (datetime.datetime(2020, 10, 5, 13, 58), 20),\n",
       "  (datetime.datetime(2020, 10, 5, 18, 1), 21),\n",
       "  (datetime.datetime(2020, 10, 5, 22, 1), 22),\n",
       "  (datetime.datetime(2020, 10, 6, 2, 1), 23),\n",
       "  (datetime.datetime(2020, 10, 6, 6, 1), 24),\n",
       "  (datetime.datetime(2020, 10, 6, 10, 1), 25),\n",
       "  (datetime.datetime(2020, 10, 6, 14, 0), 26),\n",
       "  (datetime.datetime(2020, 10, 6, 18, 1), 27),\n",
       "  (datetime.datetime(2020, 10, 6, 22, 1), 28),\n",
       "  (datetime.datetime(2020, 10, 7, 2, 1), 29),\n",
       "  (datetime.datetime(2020, 10, 7, 6, 1), 30),\n",
       "  (datetime.datetime(2020, 10, 7, 10, 2), 31),\n",
       "  (datetime.datetime(2020, 10, 7, 14, 1), 32),\n",
       "  (datetime.datetime(2020, 10, 7, 18, 1), 33),\n",
       "  (datetime.datetime(2020, 10, 7, 22, 1), 34),\n",
       "  (datetime.datetime(2020, 10, 8, 2, 1), 35),\n",
       "  (datetime.datetime(2020, 10, 8, 6, 1), 36),\n",
       "  (datetime.datetime(2020, 10, 8, 9, 58), 37),\n",
       "  (datetime.datetime(2020, 10, 8, 14, 0), 38),\n",
       "  (datetime.datetime(2020, 10, 8, 18, 1), 39),\n",
       "  (datetime.datetime(2020, 10, 8, 22, 1), 40),\n",
       "  (datetime.datetime(2020, 10, 9, 2, 1), 41),\n",
       "  (datetime.datetime(2020, 10, 9, 6, 1), 42),\n",
       "  (datetime.datetime(2020, 10, 9, 10, 1), 43),\n",
       "  (datetime.datetime(2020, 10, 9, 14, 1), 44),\n",
       "  (datetime.datetime(2020, 10, 9, 18, 1), 45),\n",
       "  (datetime.datetime(2020, 10, 9, 22, 1), 46),\n",
       "  (datetime.datetime(2020, 10, 10, 2, 1), 47),\n",
       "  (datetime.datetime(2020, 10, 10, 6, 1), 48),\n",
       "  (datetime.datetime(2020, 10, 10, 10, 1), 49),\n",
       "  (datetime.datetime(2020, 10, 10, 14, 1), 50),\n",
       "  (datetime.datetime(2020, 10, 10, 18, 1), 51),\n",
       "  (datetime.datetime(2020, 10, 10, 22, 1), 52),\n",
       "  (datetime.datetime(2020, 10, 11, 10, 1), 53),\n",
       "  (datetime.datetime(2020, 10, 11, 14, 1), 54),\n",
       "  (datetime.datetime(2020, 10, 11, 18, 1), 55),\n",
       "  (datetime.datetime(2020, 10, 11, 22, 1), 56),\n",
       "  (datetime.datetime(2020, 10, 12, 2, 1), 57),\n",
       "  (datetime.datetime(2020, 10, 12, 6, 1), 58),\n",
       "  (datetime.datetime(2020, 10, 12, 10, 1), 59),\n",
       "  (datetime.datetime(2020, 10, 12, 14, 1), 60),\n",
       "  (datetime.datetime(2020, 10, 12, 18, 1), 61),\n",
       "  (datetime.datetime(2020, 10, 12, 22, 1), 62),\n",
       "  (datetime.datetime(2020, 10, 13, 2, 1), 63),\n",
       "  (datetime.datetime(2020, 10, 13, 6, 1), 64),\n",
       "  (datetime.datetime(2020, 10, 13, 10, 1), 65),\n",
       "  (datetime.datetime(2020, 10, 14, 6, 1), 66),\n",
       "  (datetime.datetime(2020, 10, 14, 10, 1), 67),\n",
       "  (datetime.datetime(2020, 10, 14, 18, 1), 68),\n",
       "  (datetime.datetime(2020, 10, 14, 22, 1), 69),\n",
       "  (datetime.datetime(2020, 10, 15, 2, 1), 70),\n",
       "  (datetime.datetime(2020, 10, 15, 6, 1), 71),\n",
       "  (datetime.datetime(2020, 10, 15, 10, 1), 72),\n",
       "  (datetime.datetime(2020, 10, 15, 14, 1), 73),\n",
       "  (datetime.datetime(2020, 10, 15, 18, 1), 74),\n",
       "  (datetime.datetime(2020, 10, 15, 22, 1), 75),\n",
       "  (datetime.datetime(2020, 10, 16, 2, 1), 76),\n",
       "  (datetime.datetime(2020, 10, 16, 6, 1), 77),\n",
       "  (datetime.datetime(2020, 10, 16, 10, 1), 78),\n",
       "  (datetime.datetime(2020, 10, 16, 14, 1), 79),\n",
       "  (datetime.datetime(2020, 10, 16, 18, 1), 80),\n",
       "  (datetime.datetime(2020, 10, 16, 22, 1), 81),\n",
       "  (datetime.datetime(2020, 10, 17, 2, 1), 82),\n",
       "  (datetime.datetime(2020, 10, 17, 6, 1), 83),\n",
       "  (datetime.datetime(2020, 10, 17, 10, 1), 84),\n",
       "  (datetime.datetime(2020, 10, 17, 14, 1), 85),\n",
       "  (datetime.datetime(2020, 10, 17, 18, 1), 86),\n",
       "  (datetime.datetime(2020, 10, 17, 22, 2), 87),\n",
       "  (datetime.datetime(2020, 10, 18, 2, 2), 88),\n",
       "  (datetime.datetime(2020, 10, 18, 6, 2), 89),\n",
       "  (datetime.datetime(2020, 10, 18, 10, 2), 90),\n",
       "  (datetime.datetime(2020, 10, 18, 14, 2), 91),\n",
       "  (datetime.datetime(2020, 10, 18, 18, 1), 92),\n",
       "  (datetime.datetime(2020, 10, 18, 22, 1), 93),\n",
       "  (datetime.datetime(2020, 10, 19, 2, 2), 94),\n",
       "  (datetime.datetime(2020, 10, 19, 6, 2), 95),\n",
       "  (datetime.datetime(2020, 10, 19, 10, 2), 96),\n",
       "  (datetime.datetime(2020, 10, 19, 14, 2), 97),\n",
       "  (datetime.datetime(2020, 10, 19, 18, 1), 98),\n",
       "  (datetime.datetime(2020, 10, 19, 22, 2), 99),\n",
       "  (datetime.datetime(2020, 10, 20, 6, 2), 100),\n",
       "  (datetime.datetime(2020, 10, 20, 10, 2), 101),\n",
       "  (datetime.datetime(2020, 10, 20, 14, 2), 102),\n",
       "  (datetime.datetime(2020, 10, 20, 18, 2), 103),\n",
       "  (datetime.datetime(2020, 10, 20, 22, 2), 104),\n",
       "  (datetime.datetime(2020, 10, 21, 2, 1), 105),\n",
       "  (datetime.datetime(2020, 10, 21, 6, 2), 106),\n",
       "  (datetime.datetime(2020, 10, 21, 10, 2), 107),\n",
       "  (datetime.datetime(2020, 10, 21, 14, 2), 108),\n",
       "  (datetime.datetime(2020, 10, 21, 18, 1), 109),\n",
       "  (datetime.datetime(2020, 10, 21, 22, 2), 110),\n",
       "  (datetime.datetime(2020, 10, 22, 2, 2), 111),\n",
       "  (datetime.datetime(2020, 10, 22, 6, 2), 112),\n",
       "  (datetime.datetime(2020, 10, 22, 14, 1), 113),\n",
       "  (datetime.datetime(2020, 10, 22, 18, 2), 114),\n",
       "  (datetime.datetime(2020, 10, 22, 22, 1), 115),\n",
       "  (datetime.datetime(2020, 10, 23, 2, 1), 116),\n",
       "  (datetime.datetime(2020, 10, 23, 6, 2), 117),\n",
       "  (datetime.datetime(2020, 10, 23, 10, 55), 118),\n",
       "  (datetime.datetime(2020, 10, 23, 14, 55), 119),\n",
       "  (datetime.datetime(2020, 10, 23, 18, 55), 120),\n",
       "  (datetime.datetime(2020, 10, 23, 22, 55), 121),\n",
       "  (datetime.datetime(2020, 10, 24, 2, 55), 122),\n",
       "  (datetime.datetime(2020, 10, 24, 6, 55), 123),\n",
       "  (datetime.datetime(2020, 10, 24, 10, 55), 124),\n",
       "  (datetime.datetime(2020, 10, 24, 14, 55), 125),\n",
       "  (datetime.datetime(2020, 10, 24, 18, 55), 126),\n",
       "  (datetime.datetime(2020, 10, 24, 22, 55), 127),\n",
       "  (datetime.datetime(2020, 10, 25, 2, 55), 128),\n",
       "  (datetime.datetime(2020, 10, 25, 6, 55), 129),\n",
       "  (datetime.datetime(2020, 10, 25, 10, 56), 130),\n",
       "  (datetime.datetime(2020, 10, 25, 14, 56), 131),\n",
       "  (datetime.datetime(2020, 10, 25, 18, 56), 132),\n",
       "  (datetime.datetime(2020, 10, 25, 22, 56), 133),\n",
       "  (datetime.datetime(2020, 10, 26, 10, 59), 134),\n",
       "  (datetime.datetime(2020, 10, 26, 15, 0), 135),\n",
       "  (datetime.datetime(2020, 10, 26, 19, 35), 136),\n",
       "  (datetime.datetime(2020, 10, 26, 23, 35), 137),\n",
       "  (datetime.datetime(2020, 10, 27, 3, 35), 138),\n",
       "  (datetime.datetime(2020, 10, 27, 7, 35), 139),\n",
       "  (datetime.datetime(2020, 10, 27, 11, 36), 140),\n",
       "  (datetime.datetime(2020, 10, 27, 15, 35), 141),\n",
       "  (datetime.datetime(2020, 10, 27, 19, 35), 142),\n",
       "  (datetime.datetime(2020, 10, 27, 23, 36), 143),\n",
       "  (datetime.datetime(2020, 10, 28, 3, 36), 144),\n",
       "  (datetime.datetime(2020, 10, 28, 7, 36), 145),\n",
       "  (datetime.datetime(2020, 10, 28, 11, 36), 146),\n",
       "  (datetime.datetime(2020, 10, 28, 15, 36), 147),\n",
       "  (datetime.datetime(2020, 10, 28, 23, 36), 148),\n",
       "  (datetime.datetime(2020, 10, 29, 3, 36), 149),\n",
       "  (datetime.datetime(2020, 10, 29, 7, 36), 150),\n",
       "  (datetime.datetime(2020, 10, 29, 11, 36), 151)],\n",
       " '/Analysis/skeleton_compressed.mat')"
      ]
     },
     "execution_count": 4,
     "metadata": {},
     "output_type": "execute_result"
    }
   ],
   "source": [
    "find_state(plate,begin,end)"
   ]
  },
  {
   "cell_type": "code",
   "execution_count": 5,
   "metadata": {},
   "outputs": [],
   "source": [
    "dates_datetime_chosen = dates_datetime[begin:end+1]\n",
    "dates = dates_datetime_chosen\n",
    "for date in dates:\n",
    "    directory_name = get_dirname(date, plate)\n",
    "    path_snap = directory+directory_name\n",
    "    path_tile = path_snap+'/Img/TileConfiguration.txt.registered'\n",
    "    try:\n",
    "        tileconfig = pd.read_table(path_tile,sep=';',skiprows=4,header=None,converters={2 : ast.literal_eval},skipinitialspace=True)\n",
    "    except:\n",
    "        try:\n",
    "            # print('error_name')\n",
    "            path_tile = path_snap+'/Img/TileConfiguration.registered.txt'\n",
    "            tileconfig = pd.read_table(path_tile,sep=';',skiprows=4,header=None,converters={2 : ast.literal_eval},skipinitialspace=True)\n",
    "        except:\n",
    "            print(date)\n",
    "            print('no stitched')"
   ]
  },
  {
   "cell_type": "markdown",
   "metadata": {},
   "source": [
    "***Skeletonization***\n",
    "- Only 4 skeletonization processes can be run in parallel on one node"
   ]
  },
  {
   "cell_type": "code",
   "execution_count": 5,
   "metadata": {},
   "outputs": [],
   "source": [
    "num_parallel = 4\n",
    "time = '3:00:00'\n",
    "low = 30\n",
    "high = 80\n",
    "extend = 30\n",
    "args=[plate, low, high, extend,directory]\n",
    "run_parallel('extract_skel_surf.py',args,begin,end,num_parallel,time,'skeletonization')"
   ]
  },
  {
   "cell_type": "markdown",
   "metadata": {},
   "source": [
    "***Check Skeletonization***\n",
    "- The first cell loads the skeleton and the compressed raw image\n",
    "- The second cell shows the overlap of the skeleton and the raw image"
   ]
  },
  {
   "cell_type": "markdown",
   "metadata": {},
   "source": [
    "***Compress raw image***"
   ]
  },
  {
   "cell_type": "code",
   "execution_count": 36,
   "metadata": {},
   "outputs": [],
   "source": [
    "num_parallel = 4\n",
    "time = '2:00'\n",
    "args = [plate, directory]\n",
    "run_parallel('compress_image.py',args, begin, end, num_parallel, time, 'compress')"
   ]
  },
  {
   "cell_type": "code",
   "execution_count": 15,
   "metadata": {
    "collapsed": true,
    "jupyter": {
     "outputs_hidden": true
    }
   },
   "outputs": [
    {
     "ename": "OSError",
     "evalue": "The file /scratch/shared/AMF914/Fiji.app/20200826_1802_Plate35/Analysis/skeleton_compressed.mat does not exist.",
     "output_type": "error",
     "traceback": [
      "\u001b[0;31m---------------------------------------------------------------------------\u001b[0m",
      "\u001b[0;31mOSError\u001b[0m                                   Traceback (most recent call last)",
      "\u001b[0;32m<ipython-input-15-d0acdfab38e8>\u001b[0m in \u001b[0;36m<module>\u001b[0;34m\u001b[0m\n\u001b[1;32m      9\u001b[0m     \u001b[0mdirectory_name\u001b[0m \u001b[0;34m=\u001b[0m \u001b[0mget_dirname\u001b[0m\u001b[0;34m(\u001b[0m\u001b[0mdate\u001b[0m\u001b[0;34m,\u001b[0m\u001b[0mplate\u001b[0m\u001b[0;34m)\u001b[0m\u001b[0;34m\u001b[0m\u001b[0;34m\u001b[0m\u001b[0m\n\u001b[1;32m     10\u001b[0m     \u001b[0mpath_snap\u001b[0m\u001b[0;34m=\u001b[0m\u001b[0mdirectory\u001b[0m\u001b[0;34m+\u001b[0m\u001b[0mdirectory_name\u001b[0m\u001b[0;34m\u001b[0m\u001b[0;34m\u001b[0m\u001b[0m\n\u001b[0;32m---> 11\u001b[0;31m     \u001b[0mskel_info\u001b[0m \u001b[0;34m=\u001b[0m \u001b[0mread_mat\u001b[0m\u001b[0;34m(\u001b[0m\u001b[0mpath_snap\u001b[0m\u001b[0;34m+\u001b[0m\u001b[0;34m'/Analysis/skeleton_compressed.mat'\u001b[0m\u001b[0;34m)\u001b[0m\u001b[0;34m\u001b[0m\u001b[0;34m\u001b[0m\u001b[0m\n\u001b[0m\u001b[1;32m     12\u001b[0m     \u001b[0mskel\u001b[0m \u001b[0;34m=\u001b[0m \u001b[0mskel_info\u001b[0m\u001b[0;34m[\u001b[0m\u001b[0;34m'skeleton'\u001b[0m\u001b[0;34m]\u001b[0m\u001b[0;34m\u001b[0m\u001b[0;34m\u001b[0m\u001b[0m\n\u001b[1;32m     13\u001b[0m     \u001b[0mskels\u001b[0m\u001b[0;34m.\u001b[0m\u001b[0mappend\u001b[0m\u001b[0;34m(\u001b[0m\u001b[0mcv2\u001b[0m\u001b[0;34m.\u001b[0m\u001b[0mdilate\u001b[0m\u001b[0;34m(\u001b[0m\u001b[0mskel\u001b[0m\u001b[0;34m.\u001b[0m\u001b[0mastype\u001b[0m\u001b[0;34m(\u001b[0m\u001b[0mnp\u001b[0m\u001b[0;34m.\u001b[0m\u001b[0muint8\u001b[0m\u001b[0;34m)\u001b[0m\u001b[0;34m,\u001b[0m\u001b[0mkernel\u001b[0m\u001b[0;34m,\u001b[0m\u001b[0miterations\u001b[0m \u001b[0;34m=\u001b[0m \u001b[0mitera\u001b[0m\u001b[0;34m)\u001b[0m\u001b[0;34m)\u001b[0m\u001b[0;34m\u001b[0m\u001b[0;34m\u001b[0m\u001b[0m\n",
      "\u001b[0;32m~/anaconda3/envs/test/lib/python3.7/site-packages/pymatreader/pymatreader.py\u001b[0m in \u001b[0;36mread_mat\u001b[0;34m(filename, variable_names, ignore_fields, uint16_codec)\u001b[0m\n\u001b[1;32m     74\u001b[0m \u001b[0;34m\u001b[0m\u001b[0m\n\u001b[1;32m     75\u001b[0m     \u001b[0;32mif\u001b[0m \u001b[0;32mnot\u001b[0m \u001b[0mos\u001b[0m\u001b[0;34m.\u001b[0m\u001b[0mpath\u001b[0m\u001b[0;34m.\u001b[0m\u001b[0mexists\u001b[0m\u001b[0;34m(\u001b[0m\u001b[0mfilename\u001b[0m\u001b[0;34m)\u001b[0m\u001b[0;34m:\u001b[0m\u001b[0;34m\u001b[0m\u001b[0;34m\u001b[0m\u001b[0m\n\u001b[0;32m---> 76\u001b[0;31m         \u001b[0;32mraise\u001b[0m \u001b[0mIOError\u001b[0m\u001b[0;34m(\u001b[0m\u001b[0;34m'The file %s does not exist.'\u001b[0m \u001b[0;34m%\u001b[0m \u001b[0;34m(\u001b[0m\u001b[0mfilename\u001b[0m\u001b[0;34m,\u001b[0m\u001b[0;34m)\u001b[0m\u001b[0;34m)\u001b[0m\u001b[0;34m\u001b[0m\u001b[0;34m\u001b[0m\u001b[0m\n\u001b[0m\u001b[1;32m     77\u001b[0m \u001b[0;34m\u001b[0m\u001b[0m\n\u001b[1;32m     78\u001b[0m     \u001b[0;32mif\u001b[0m \u001b[0mignore_fields\u001b[0m \u001b[0;32mis\u001b[0m \u001b[0;32mNone\u001b[0m\u001b[0;34m:\u001b[0m\u001b[0;34m\u001b[0m\u001b[0;34m\u001b[0m\u001b[0m\n",
      "\u001b[0;31mOSError\u001b[0m: The file /scratch/shared/AMF914/Fiji.app/20200826_1802_Plate35/Analysis/skeleton_compressed.mat does not exist."
     ]
    }
   ],
   "source": [
    "dates_datetime = get_dates_datetime(directory,plate)\n",
    "dates_datetime_chosen=dates_datetime[begin:end+1]\n",
    "dates = dates_datetime_chosen\n",
    "skels = []\n",
    "ims = []\n",
    "kernel = np.ones((5,5),np.uint8)\n",
    "itera = 1\n",
    "for date in dates:\n",
    "    directory_name = get_dirname(date,plate)\n",
    "    path_snap=directory+directory_name\n",
    "    skel_info = read_mat(path_snap+'/Analysis/skeleton_compressed.mat')\n",
    "    skel = skel_info['skeleton']\n",
    "    skels.append(cv2.dilate(skel.astype(np.uint8),kernel,iterations = itera))\n",
    "    im = read_mat(path_snap+'/Analysis/raw_image.mat')['raw']\n",
    "    ims.append(im)"
   ]
  },
  {
   "cell_type": "markdown",
   "metadata": {},
   "source": [
    "- Chose start and finish to display the overlap of the skeleton and the raw image : no more than 10 at a time or jupyter will crash.\n",
    "- For display purpose, everything is compressed so connectivity may be lost\n",
    "- colors are just a feature of compression"
   ]
  },
  {
   "cell_type": "code",
   "execution_count": 7,
   "metadata": {},
   "outputs": [
    {
     "data": {
      "application/vnd.jupyter.widget-view+json": {
       "model_id": "487d7b9d4656489680c1cb195fc1aa2d",
       "version_major": 2,
       "version_minor": 0
      },
      "text/plain": [
       "Canvas(toolbar=Toolbar(toolitems=[('Home', 'Reset original view', 'home', 'home'), ('Back', 'Back to previous …"
      ]
     },
     "metadata": {},
     "output_type": "display_data"
    },
    {
     "data": {
      "application/vnd.jupyter.widget-view+json": {
       "model_id": "e8f0f477417444049f61fe0d5515da19",
       "version_major": 2,
       "version_minor": 0
      },
      "text/plain": [
       "Canvas(toolbar=Toolbar(toolitems=[('Home', 'Reset original view', 'home', 'home'), ('Back', 'Back to previous …"
      ]
     },
     "metadata": {},
     "output_type": "display_data"
    }
   ],
   "source": [
    "plt.close('all')\n",
    "start = 0\n",
    "finish = start + 2\n",
    "for i in range(start,finish):\n",
    "    plot_t_tp1([], [], None, None, skels[i], ims[i])"
   ]
  },
  {
   "cell_type": "markdown",
   "metadata": {},
   "source": [
    "***Check specific image***\n",
    "- If something wrong is noticed in one of the skeletons one can chose to look closer at one of the images and the skeletonization process\n",
    "- chose ***i*** equal to the timestep where something wrong has been noticed "
   ]
  },
  {
   "cell_type": "code",
   "execution_count": 8,
   "metadata": {
    "jupyter": {
     "source_hidden": true
    }
   },
   "outputs": [],
   "source": [
    "#chose i equal to the timestep where something wrong has been noticed \n",
    "i = 0\n",
    "\n",
    "dates_datetime = get_dates_datetime(directory,plate)\n",
    "dates = dates_datetime\n",
    "\n",
    "date =dates [i]\n",
    "directory_name = get_dirname(date,plate)\n",
    "path_snap=directory+directory_name\n",
    "path_tile=path_snap+'/Img/TileConfiguration.txt.registered'\n",
    "try:\n",
    "    tileconfig = pd.read_table(path_tile,sep=';',skiprows=4,header=None,converters={2 : ast.literal_eval},skipinitialspace=True)\n",
    "except:\n",
    "    print('error_name')\n",
    "    path_tile=path_snap+'/Img/TileConfiguration.registered.txt'\n",
    "    tileconfig = pd.read_table(path_tile,sep=';',skiprows=4,header=None,converters={2 : ast.literal_eval},skipinitialspace=True)\n",
    "xs =[c[0] for c in tileconfig[2]]\n",
    "ys =[c[1] for c in tileconfig[2]]\n",
    "dim = (int(np.max(ys)-np.min(ys))+4096,int(np.max(xs)-np.min(xs))+4096)\n",
    "ims = []\n",
    "for name in tileconfig[0]:\n",
    "    imname = '/Img/'+name.split('/')[-1]\n",
    "    ims.append(imageio.imread(directory+directory_name+imname))\n"
   ]
  },
  {
   "cell_type": "markdown",
   "metadata": {},
   "source": [
    "- Chose a x,y position where you want to see how the skeletonization process went (x is the scale on the left on the images and y is the bottom scale)\n",
    "- You can chose to display different part of the filter par commenting/uncommenting"
   ]
  },
  {
   "cell_type": "code",
   "execution_count": 10,
   "metadata": {
    "collapsed": true,
    "jupyter": {
     "outputs_hidden": true,
     "source_hidden": true
    }
   },
   "outputs": [
    {
     "name": "stdout",
     "output_type": "stream",
     "text": [
      "93\n",
      "Raw image\n"
     ]
    },
    {
     "data": {
      "application/vnd.jupyter.widget-view+json": {
       "model_id": "f032d38c7ddc4b3bad8a50796c9301cf",
       "version_major": 2,
       "version_minor": 0
      },
      "text/plain": [
       "Canvas(toolbar=Toolbar(toolitems=[('Home', 'Reset original view', 'home', 'home'), ('Back', 'Back to previous …"
      ]
     },
     "metadata": {},
     "output_type": "display_data"
    },
    {
     "name": "stdout",
     "output_type": "stream",
     "text": [
      "Raw image with background removed\n"
     ]
    },
    {
     "data": {
      "application/vnd.jupyter.widget-view+json": {
       "model_id": "5b1d58ce6af74f3ba4023a42a767d06a",
       "version_major": 2,
       "version_minor": 0
      },
      "text/plain": [
       "Canvas(toolbar=Toolbar(toolitems=[('Home', 'Reset original view', 'home', 'home'), ('Back', 'Back to previous …"
      ]
     },
     "metadata": {},
     "output_type": "display_data"
    },
    {
     "name": "stdout",
     "output_type": "stream",
     "text": [
      "frangised image\n"
     ]
    },
    {
     "data": {
      "application/vnd.jupyter.widget-view+json": {
       "model_id": "dcd5564bc57748db9e52244ba0c6d60b",
       "version_major": 2,
       "version_minor": 0
      },
      "text/plain": [
       "Canvas(toolbar=Toolbar(toolitems=[('Home', 'Reset original view', 'home', 'home'), ('Back', 'Back to previous …"
      ]
     },
     "metadata": {},
     "output_type": "display_data"
    },
    {
     "name": "stdout",
     "output_type": "stream",
     "text": [
      "final transformed image\n"
     ]
    },
    {
     "data": {
      "application/vnd.jupyter.widget-view+json": {
       "model_id": "f7d3d1bad7d74d6bb3e1a10f81ed4212",
       "version_major": 2,
       "version_minor": 0
      },
      "text/plain": [
       "Canvas(toolbar=Toolbar(toolitems=[('Home', 'Reset original view', 'home', 'home'), ('Back', 'Back to previous …"
      ]
     },
     "metadata": {},
     "output_type": "display_data"
    },
    {
     "name": "stdout",
     "output_type": "stream",
     "text": [
      "threhsolded image\n"
     ]
    },
    {
     "data": {
      "application/vnd.jupyter.widget-view+json": {
       "model_id": "b9b7743a821b4844ad7ac6f3eee862ca",
       "version_major": 2,
       "version_minor": 0
      },
      "text/plain": [
       "Canvas(toolbar=Toolbar(toolitems=[('Home', 'Reset original view', 'home', 'home'), ('Back', 'Back to previous …"
      ]
     },
     "metadata": {},
     "output_type": "display_data"
    },
    {
     "name": "stdout",
     "output_type": "stream",
     "text": [
      "threhsolded image\n"
     ]
    },
    {
     "data": {
      "application/vnd.jupyter.widget-view+json": {
       "model_id": "af426b13d2ad47ddb18cf5304d2084a2",
       "version_major": 2,
       "version_minor": 0
      },
      "text/plain": [
       "Canvas(toolbar=Toolbar(toolitems=[('Home', 'Reset original view', 'home', 'home'), ('Back', 'Back to previous …"
      ]
     },
     "metadata": {},
     "output_type": "display_data"
    },
    {
     "name": "stdout",
     "output_type": "stream",
     "text": [
      "extended tips\n"
     ]
    },
    {
     "data": {
      "application/vnd.jupyter.widget-view+json": {
       "model_id": "2b8a0220c4c949509e1dbf1777ade9f6",
       "version_major": 2,
       "version_minor": 0
      },
      "text/plain": [
       "Canvas(toolbar=Toolbar(toolitems=[('Home', 'Reset original view', 'home', 'home'), ('Back', 'Back to previous …"
      ]
     },
     "metadata": {},
     "output_type": "display_data"
    },
    {
     "name": "stdout",
     "output_type": "stream",
     "text": [
      "final_skel\n"
     ]
    },
    {
     "data": {
      "application/vnd.jupyter.widget-view+json": {
       "model_id": "82897944de8b471da67d06bf2ce107ab",
       "version_major": 2,
       "version_minor": 0
      },
      "text/plain": [
       "Canvas(toolbar=Toolbar(toolitems=[('Home', 'Reset original view', 'home', 'home'), ('Back', 'Back to previous …"
      ]
     },
     "metadata": {},
     "output_type": "display_data"
    },
    {
     "name": "stdout",
     "output_type": "stream",
     "text": [
      "94\n",
      "Raw image\n"
     ]
    },
    {
     "data": {
      "application/vnd.jupyter.widget-view+json": {
       "model_id": "17a5f02c363f4875a2430e15056fe3e6",
       "version_major": 2,
       "version_minor": 0
      },
      "text/plain": [
       "Canvas(toolbar=Toolbar(toolitems=[('Home', 'Reset original view', 'home', 'home'), ('Back', 'Back to previous …"
      ]
     },
     "metadata": {},
     "output_type": "display_data"
    },
    {
     "name": "stdout",
     "output_type": "stream",
     "text": [
      "Raw image with background removed\n"
     ]
    },
    {
     "data": {
      "application/vnd.jupyter.widget-view+json": {
       "model_id": "d314980dd37a416ebe61b61815563a20",
       "version_major": 2,
       "version_minor": 0
      },
      "text/plain": [
       "Canvas(toolbar=Toolbar(toolitems=[('Home', 'Reset original view', 'home', 'home'), ('Back', 'Back to previous …"
      ]
     },
     "metadata": {},
     "output_type": "display_data"
    },
    {
     "name": "stdout",
     "output_type": "stream",
     "text": [
      "frangised image\n"
     ]
    },
    {
     "data": {
      "application/vnd.jupyter.widget-view+json": {
       "model_id": "fc7de963f9c0461a81a0f5aafd7058d9",
       "version_major": 2,
       "version_minor": 0
      },
      "text/plain": [
       "Canvas(toolbar=Toolbar(toolitems=[('Home', 'Reset original view', 'home', 'home'), ('Back', 'Back to previous …"
      ]
     },
     "metadata": {},
     "output_type": "display_data"
    },
    {
     "name": "stdout",
     "output_type": "stream",
     "text": [
      "final transformed image\n"
     ]
    },
    {
     "data": {
      "application/vnd.jupyter.widget-view+json": {
       "model_id": "2d142699edd94da6ab6e2b7698df13b8",
       "version_major": 2,
       "version_minor": 0
      },
      "text/plain": [
       "Canvas(toolbar=Toolbar(toolitems=[('Home', 'Reset original view', 'home', 'home'), ('Back', 'Back to previous …"
      ]
     },
     "metadata": {},
     "output_type": "display_data"
    },
    {
     "name": "stdout",
     "output_type": "stream",
     "text": [
      "threhsolded image\n"
     ]
    },
    {
     "data": {
      "application/vnd.jupyter.widget-view+json": {
       "model_id": "bb894d4eacb74195868e85ac09e4594a",
       "version_major": 2,
       "version_minor": 0
      },
      "text/plain": [
       "Canvas(toolbar=Toolbar(toolitems=[('Home', 'Reset original view', 'home', 'home'), ('Back', 'Back to previous …"
      ]
     },
     "metadata": {},
     "output_type": "display_data"
    },
    {
     "name": "stdout",
     "output_type": "stream",
     "text": [
      "threhsolded image\n"
     ]
    },
    {
     "data": {
      "application/vnd.jupyter.widget-view+json": {
       "model_id": "9f466a1e1eee4d098a2509b5922a07cb",
       "version_major": 2,
       "version_minor": 0
      },
      "text/plain": [
       "Canvas(toolbar=Toolbar(toolitems=[('Home', 'Reset original view', 'home', 'home'), ('Back', 'Back to previous …"
      ]
     },
     "metadata": {},
     "output_type": "display_data"
    },
    {
     "name": "stdout",
     "output_type": "stream",
     "text": [
      "extended tips\n"
     ]
    },
    {
     "data": {
      "application/vnd.jupyter.widget-view+json": {
       "model_id": "c345e59bf1b54a0588ae12196f7042a2",
       "version_major": 2,
       "version_minor": 0
      },
      "text/plain": [
       "Canvas(toolbar=Toolbar(toolitems=[('Home', 'Reset original view', 'home', 'home'), ('Back', 'Back to previous …"
      ]
     },
     "metadata": {},
     "output_type": "display_data"
    },
    {
     "name": "stdout",
     "output_type": "stream",
     "text": [
      "final_skel\n"
     ]
    },
    {
     "data": {
      "application/vnd.jupyter.widget-view+json": {
       "model_id": "cd758833135b4e1d9249181cc06a75fa",
       "version_major": 2,
       "version_minor": 0
      },
      "text/plain": [
       "Canvas(toolbar=Toolbar(toolitems=[('Home', 'Reset original view', 'home', 'home'), ('Back', 'Back to previous …"
      ]
     },
     "metadata": {},
     "output_type": "display_data"
    }
   ],
   "source": [
    "plt.close('all')\n",
    "\n",
    "#chose a spot where to look closer at\n",
    "linex  = 4200\n",
    "liney = 1500\n",
    "\n",
    "shape = (3000,4096)\n",
    "linex *= 5\n",
    "liney *= 5\n",
    "for index,im in enumerate(ims):\n",
    "    boundaries = int(tileconfig[2][index][0]-np.min(xs)),int(tileconfig[2][index][1]-np.min(ys))\n",
    "    if boundaries[1]<=linex< boundaries[1]+shape[0] and boundaries[0]<=liney< boundaries[0]+shape[1]:\n",
    "        print(index)\n",
    "        im_cropped = im\n",
    "        im_blurred =cv2.blur(im_cropped, (200, 200))\n",
    "        im_back_rem = (im_cropped+1)/(im_blurred+1)*120\n",
    "        im_back_rem[im_back_rem>=130]=130\n",
    "        # # im_back_rem = im_cropped*1.0\n",
    "        # # # im_back_rem = cv2.normalize(im_back_rem, None, 0, 255, cv2.NORM_MINMAX)\n",
    "        frangised = frangi(im_back_rem,sigmas=range(1,20,4))*255\n",
    "        # # frangised = cv2.normalize(frangised, None, 0, 255, cv2.NORM_MINMAX)\n",
    "        hessian = hessian_matrix_det(im_back_rem,sigma = 20)\n",
    "        blur_hessian = cv2.blur(abs(hessian), (20, 20))\n",
    "    #     transformed = (frangised+cv2.normalize(blur_hessian, None, 0, 255, cv2.NORM_MINMAX)-im_back_rem+120)*(im_blurred>=35)\n",
    "    #     transformed = (frangised+cv2.normalize(abs(hessian), None, 0, 255, cv2.NORM_MINMAX)-im_back_rem+120)*(im_blurred>=35)\n",
    "        transformed = (frangised-im_back_rem+120)*(im_blurred>=35)\n",
    "        low = 40\n",
    "        high = 80\n",
    "        lowt = (transformed > low).astype(int)\n",
    "        hight = (transformed > high).astype(int)\n",
    "        hyst = filters.apply_hysteresis_threshold(transformed, low, high)\n",
    "        kernel = np.ones((3,3),np.uint8)\n",
    "        dilation = cv2.dilate(hyst.astype(np.uint8) * 255,kernel,iterations = 1)\n",
    "        for i in range(3):\n",
    "            dilation=cv2.erode(dilation.astype(np.uint8) * 255,kernel,iterations = 1)\n",
    "            dilation = cv2.dilate(dilation.astype(np.uint8) * 255,kernel,iterations = 1)\n",
    "        dilated = dilation>0\n",
    "        \n",
    "        nb_components, output, stats, centroids = cv2.connectedComponentsWithStats(dilated.astype(np.uint8), connectivity=8)\n",
    "        #connectedComponentswithStats yields every seperated component with information on each of them, such as size\n",
    "        #the following part is just taking out the background which is also considered a component, but most of the time we don't want that.\n",
    "        sizes = stats[1:, -1]; nb_components = nb_components - 1\n",
    "\n",
    "        # minimum size of particles we want to keep (number of pixels)\n",
    "        #here, it's a fixed value, but you can set it as you want, eg the mean of the sizes or whatever\n",
    "        min_size = 4000  \n",
    "\n",
    "        #your answer image\n",
    "        img2 = np.zeros((dilated.shape))\n",
    "        #for every component in the image, you keep it only if it's above min_size\n",
    "        for i in range(0, nb_components):\n",
    "            if sizes[i] >= min_size:\n",
    "                img2[output == i + 1] = 1\n",
    "        skeletonized = cv2.ximgproc.thinning(np.array(255*img2,dtype=np.uint8))\n",
    "        nx_g = generate_nx_graph(from_sparse_to_graph(scipy.sparse.dok_matrix(skeletonized)))\n",
    "        g,pos= nx_g\n",
    "        tips = [node for node in g.nodes if g.degree(node)==1]\n",
    "        dilated_bis = np.copy(img2)\n",
    "        for tip in tips:\n",
    "            branch = np.array(orient(g.get_edge_data(*list(g.edges(tip))[0])['pixel_list'],pos[tip]))\n",
    "            orientation = branch[0]-branch[min(branch.shape[0]-1,20)]\n",
    "            orientation = orientation/(np.linalg.norm(orientation))\n",
    "            window = 20\n",
    "            x,y = pos[tip][0],pos[tip][1]\n",
    "            if x-window>=0 and x+window< dilated.shape[0] and y-window>=0 and y+window< dilated.shape[1]:\n",
    "                shape_tip = dilated[x-window:x+window,y-window:y+window]\n",
    "                dist = 20\n",
    "                for i in range(dist):\n",
    "                    pixel = (pos[tip]+orientation*i).astype(int)\n",
    "                    xp,yp = pixel[0],pixel[1]\n",
    "                    if xp-window>=0 and xp+window< dilated.shape[0] and yp-window>=0 and yp+window< dilated.shape[1]:\n",
    "                        dilated_bis[xp-window:xp+window,yp-window:yp+window]+=shape_tip\n",
    "        dilation = cv2.dilate(dilated_bis.astype(np.uint8) * 255,kernel,iterations = 1)\n",
    "        for i in range(3):\n",
    "            dilation=cv2.erode(dilation.astype(np.uint8) * 255,kernel,iterations = 1)\n",
    "            dilation = cv2.dilate(dilation.astype(np.uint8) * 255,kernel,iterations = 1)\n",
    "        skeletonized = cv2.ximgproc.thinning(np.array(255*(dilation>0),dtype=np.uint8))\n",
    "        print('Raw image')\n",
    "        fig=plt.figure(figsize=(10,9))\n",
    "        ax = fig.add_subplot(111)\n",
    "        ax.imshow(im)\n",
    "        print('Raw image with background removed')\n",
    "        fig=plt.figure(figsize=(10,9))\n",
    "        ax = fig.add_subplot(111)\n",
    "        ax.imshow(im_back_rem)\n",
    "        print('frangised image')\n",
    "        fig=plt.figure(figsize=(10,9))\n",
    "        ax = fig.add_subplot(111)\n",
    "        ax.imshow(frangised)\n",
    "        print('final transformed image')\n",
    "        fig=plt.figure(figsize=(10,9))\n",
    "        ax = fig.add_subplot(111)\n",
    "        ax.imshow(transformed)\n",
    "        print('threhsolded image')\n",
    "        fig=plt.figure(figsize=(10,9))\n",
    "        ax = fig.add_subplot(111)\n",
    "        ax.imshow(dilated>0)\n",
    "        print('threhsolded image')\n",
    "        fig=plt.figure(figsize=(10,9))\n",
    "        \n",
    "        ax = fig.add_subplot(111)\n",
    "        ax.imshow(img2>0)\n",
    "        print('extended tips')\n",
    "        fig=plt.figure(figsize=(10,9))\n",
    "        ax = fig.add_subplot(111)\n",
    "        ax.imshow(dilated_bis)\n",
    "        print('final_skel')\n",
    "#         fig=plt.figure(figsize=(10,9))\n",
    "#         ax = fig.add_subplot(111)\n",
    "#         ax.imshow(cv2.normalize(abs(hessian), None, 0, 255, cv2.NORM_MINMAX)-255*dilated)\n",
    "        plot_t_tp1([],[],None,None,skeletonized,im_back_rem)"
   ]
  },
  {
   "cell_type": "markdown",
   "metadata": {},
   "source": [
    "***Mask baits and border of the petri dish***"
   ]
  },
  {
   "cell_type": "code",
   "execution_count": 24,
   "metadata": {},
   "outputs": [],
   "source": [
    "num_parallel = 4\n",
    "time = '5:00'\n",
    "thresh = 30\n",
    "args=[plate,thresh, directory]\n",
    "run_parallel('mask_skel.py',args,begin,end,num_parallel,time,'mask')"
   ]
  },
  {
   "cell_type": "markdown",
   "metadata": {},
   "source": [
    "***Check Masking***"
   ]
  },
  {
   "cell_type": "code",
   "execution_count": 6,
   "metadata": {},
   "outputs": [],
   "source": [
    "dates_datetime = get_dates_datetime(directory,plate)\n",
    "dates_datetime_chosen=dates_datetime[begin:end+1]\n",
    "dates = dates_datetime_chosen\n",
    "skels = []\n",
    "ims = []\n",
    "masks = []\n",
    "kernel = np.ones((5,5),np.uint8)\n",
    "itera = 1\n",
    "for date in dates:\n",
    "    directory_name = get_dirname(date,plate)\n",
    "    path_snap = directory + directory_name\n",
    "    skel_info = read_mat(path_snap+'/Analysis/skeleton_masked_compressed.mat')\n",
    "    skel = skel_info['skeleton']\n",
    "    skels.append(cv2.dilate(skel.astype(np.uint8),kernel,iterations = itera))\n",
    "    mask_info = read_mat(path_snap+'/Analysis/mask.mat')\n",
    "    mask = mask_info['mask']\n",
    "    masks.append(mask)\n",
    "    im = read_mat(path_snap+'/Analysis/raw_image.mat')['raw']\n",
    "    ims.append(im)"
   ]
  },
  {
   "cell_type": "code",
   "execution_count": 8,
   "metadata": {},
   "outputs": [
    {
     "data": {
      "application/vnd.jupyter.widget-view+json": {
       "model_id": "5a4cba2c0c3249e2a7bf6d2ea5448aae",
       "version_major": 2,
       "version_minor": 0
      },
      "text/plain": [
       "Canvas(toolbar=Toolbar(toolitems=[('Home', 'Reset original view', 'home', 'home'), ('Back', 'Back to previous …"
      ]
     },
     "metadata": {},
     "output_type": "display_data"
    },
    {
     "data": {
      "application/vnd.jupyter.widget-view+json": {
       "model_id": "6c67b554e73649dc81843826ad6685b1",
       "version_major": 2,
       "version_minor": 0
      },
      "text/plain": [
       "Canvas(toolbar=Toolbar(toolitems=[('Home', 'Reset original view', 'home', 'home'), ('Back', 'Back to previous …"
      ]
     },
     "metadata": {},
     "output_type": "display_data"
    }
   ],
   "source": [
    "plt.close('all')\n",
    "start = 0\n",
    "finish = start +2\n",
    "for i in range(start,finish):\n",
    "    plot_t_tp1([], [], None, None, masks[i], ims[i])"
   ]
  },
  {
   "cell_type": "markdown",
   "metadata": {},
   "source": [
    "***Prune Graph***"
   ]
  },
  {
   "cell_type": "code",
   "execution_count": 9,
   "metadata": {},
   "outputs": [],
   "source": [
    "num_parallel = 20\n",
    "time = '30:00'\n",
    "threshold = 1\n",
    "args = [plate,threshold, directory]\n",
    "run_parallel('prune_skel.py',args,begin,end,num_parallel,time,'prune_graph')"
   ]
  },
  {
   "cell_type": "markdown",
   "metadata": {},
   "source": [
    "***Check Pruned Graphs***"
   ]
  },
  {
   "cell_type": "code",
   "execution_count": 14,
   "metadata": {},
   "outputs": [],
   "source": [
    "dates_datetime = get_dates_datetime(directory,plate)\n",
    "dates_datetime_chosen=dates_datetime[begin:end+1]\n",
    "dates = dates_datetime_chosen\n",
    "skels = []\n",
    "ims = []\n",
    "kernel = np.ones((5,5),np.uint8)\n",
    "itera = 1\n",
    "for date in dates:\n",
    "    directory_name = get_dirname(date,plate)\n",
    "    path_snap=directory+directory_name\n",
    "    skel_info = read_mat(path_snap+'/Analysis/skeleton_pruned_compressed.mat')\n",
    "    skel = skel_info['skeleton']\n",
    "    skels.append(cv2.dilate(skel.astype(np.uint8),kernel,iterations = itera))\n",
    "    im = read_mat(path_snap+'/Analysis/raw_image.mat')['raw']\n",
    "    ims.append(im)"
   ]
  },
  {
   "cell_type": "code",
   "execution_count": 16,
   "metadata": {},
   "outputs": [
    {
     "data": {
      "application/vnd.jupyter.widget-view+json": {
       "model_id": "8627bed22868437595d8f44e112932c3",
       "version_major": 2,
       "version_minor": 0
      },
      "text/plain": [
       "Canvas(toolbar=Toolbar(toolitems=[('Home', 'Reset original view', 'home', 'home'), ('Back', 'Back to previous …"
      ]
     },
     "metadata": {},
     "output_type": "display_data"
    },
    {
     "data": {
      "application/vnd.jupyter.widget-view+json": {
       "model_id": "1d2c00c442764ed6a8acc2ff3c728e24",
       "version_major": 2,
       "version_minor": 0
      },
      "text/plain": [
       "Canvas(toolbar=Toolbar(toolitems=[('Home', 'Reset original view', 'home', 'home'), ('Back', 'Back to previous …"
      ]
     },
     "metadata": {},
     "output_type": "display_data"
    },
    {
     "data": {
      "application/vnd.jupyter.widget-view+json": {
       "model_id": "1c5f3e600723450d97642158a95d5413",
       "version_major": 2,
       "version_minor": 0
      },
      "text/plain": [
       "Canvas(toolbar=Toolbar(toolitems=[('Home', 'Reset original view', 'home', 'home'), ('Back', 'Back to previous …"
      ]
     },
     "metadata": {},
     "output_type": "display_data"
    },
    {
     "data": {
      "application/vnd.jupyter.widget-view+json": {
       "model_id": "4ba0a1282eea4ad98ef692b2725b60b5",
       "version_major": 2,
       "version_minor": 0
      },
      "text/plain": [
       "Canvas(toolbar=Toolbar(toolitems=[('Home', 'Reset original view', 'home', 'home'), ('Back', 'Back to previous …"
      ]
     },
     "metadata": {},
     "output_type": "display_data"
    }
   ],
   "source": [
    "plt.close('all')\n",
    "start = 0\n",
    "finish = start +4\n",
    "for i in range(start,finish):\n",
    "    plot_t_tp1([],[],None,None,skels[i],ims[i])"
   ]
  },
  {
   "cell_type": "code",
   "execution_count": 65,
   "metadata": {
    "jupyter": {
     "source_hidden": true
    }
   },
   "outputs": [
    {
     "data": {
      "application/vnd.jupyter.widget-view+json": {
       "model_id": "79550dae467747e19c9e11948c4eb427",
       "version_major": 2,
       "version_minor": 0
      },
      "text/plain": [
       "Canvas(toolbar=Toolbar(toolitems=[('Home', 'Reset original view', 'home', 'home'), ('Back', 'Back to previous …"
      ]
     },
     "metadata": {},
     "output_type": "display_data"
    }
   ],
   "source": [
    "plt.close('all')\n",
    "kernel = np.ones((5,5),np.uint8)\n",
    "for i in range(len(compressed)-1):\n",
    "    plot_t_tp1([],[],None,None,cv2.dilate(compressed[i].astype(np.uint8),kernel,iterations = 2),cv2.dilate(compressed[i+1].astype(np.uint8),kernel,iterations = 2))"
   ]
  },
  {
   "cell_type": "markdown",
   "metadata": {},
   "source": [
    "***Realign***"
   ]
  },
  {
   "cell_type": "code",
   "execution_count": 79,
   "metadata": {},
   "outputs": [],
   "source": [
    "num_parallel = 8\n",
    "time = '2:00:00'\n",
    "args=[plate, directory]\n",
    "run_parallel('final_alignment.py',args,begin,end,num_parallel,time,'realign')"
   ]
  },
  {
   "cell_type": "markdown",
   "metadata": {},
   "source": [
    "***Check Alignment***"
   ]
  },
  {
   "cell_type": "code",
   "execution_count": 6,
   "metadata": {},
   "outputs": [],
   "source": [
    "plt.close('all')\n",
    "dates_datetime = get_dates_datetime(directory,plate)\n",
    "dates_datetime_chosen=dates_datetime[begin:end+1]\n",
    "dates = dates_datetime_chosen\n",
    "dilateds=[]\n",
    "skels = []\n",
    "skel_docs = []\n",
    "Rs=[]\n",
    "ts=[]\n",
    "for date in dates[1:]:\n",
    "    directory_name = get_dirname(date,plate)\n",
    "    path_snap=directory+directory_name\n",
    "    skel_info = read_mat(path_snap+'/Analysis/skeleton.mat')\n",
    "    skel = skel_info['skeleton']\n",
    "    skels.append(skel)\n",
    "    skel_doc = sparse_to_doc(skel)\n",
    "    skel_docs.append(skel_doc)\n",
    "    transform = sio.loadmat(path_snap+'/Analysis/transform.mat')\n",
    "    R,t = transform['R'],transform['t']\n",
    "    Rs.append(R)\n",
    "    ts.append(t)\n",
    "# start = 0\n",
    "# for j in range(start,start + 5):\n",
    "#     print(dates[j],j+begin)\n",
    "#     skeleton1,skeleton2 = skel_docs[j],skel_docs[j+1]\n",
    "#     R,t = Rs[j],ts[j]\n",
    "#     skelet_pos = np.array(list(skeleton1.keys()))\n",
    "#     samples = np.random.choice(skelet_pos.shape[0],20000)\n",
    "#     X = np.transpose(skelet_pos[samples,:])\n",
    "#     skelet_pos = np.array(list(skeleton2.keys()))\n",
    "#     samples = np.random.choice(skelet_pos.shape[0],20000)\n",
    "#     Y = np.transpose(skelet_pos[samples,:])\n",
    "#     fig=plt.figure(figsize=(10,9))\n",
    "#     ax = fig.add_subplot(111)\n",
    "#     Yrep=np.transpose(np.transpose(np.dot(R,X))+t)\n",
    "#     ax.scatter(np.transpose(Yrep)[:,0],np.transpose(Yrep)[:,1])\n",
    "#     ax.scatter(np.transpose(Y)[:,0],np.transpose(Y)[:,1])"
   ]
  },
  {
   "cell_type": "markdown",
   "metadata": {},
   "source": [
    "***Create realigned Skeleton***"
   ]
  },
  {
   "cell_type": "code",
   "execution_count": 8,
   "metadata": {},
   "outputs": [],
   "source": [
    "num_parallel = 4\n",
    "time = '1:00:00'\n",
    "args = [plate, begin, end, directory]\n",
    "run_parallel('realign_surf.py', args, begin, end, num_parallel, time, 'create_realign')"
   ]
  },
  {
   "cell_type": "markdown",
   "metadata": {},
   "source": [
    "***Check Fine Alignment***"
   ]
  },
  {
   "cell_type": "code",
   "execution_count": 7,
   "metadata": {},
   "outputs": [
    {
     "ename": "OSError",
     "evalue": "The file /scratch/shared/AMF914/Fiji.app/20200814_0136_Plate39/Analysis/skeleton_realigned_compressed.mat does not exist.",
     "output_type": "error",
     "traceback": [
      "\u001b[0;31m---------------------------------------------------------------------------\u001b[0m",
      "\u001b[0;31mOSError\u001b[0m                                   Traceback (most recent call last)",
      "\u001b[0;32m<ipython-input-7-1d17c81e2562>\u001b[0m in \u001b[0;36m<module>\u001b[0;34m\u001b[0m\n\u001b[1;32m      9\u001b[0m     \u001b[0mdirectory_name\u001b[0m \u001b[0;34m=\u001b[0m \u001b[0mget_dirname\u001b[0m\u001b[0;34m(\u001b[0m\u001b[0mdate\u001b[0m\u001b[0;34m,\u001b[0m\u001b[0mplate\u001b[0m\u001b[0;34m)\u001b[0m\u001b[0;34m\u001b[0m\u001b[0;34m\u001b[0m\u001b[0m\n\u001b[1;32m     10\u001b[0m     \u001b[0mpath_snap\u001b[0m \u001b[0;34m=\u001b[0m \u001b[0mdirectory\u001b[0m \u001b[0;34m+\u001b[0m \u001b[0mdirectory_name\u001b[0m\u001b[0;34m\u001b[0m\u001b[0;34m\u001b[0m\u001b[0m\n\u001b[0;32m---> 11\u001b[0;31m     \u001b[0mskel_info\u001b[0m \u001b[0;34m=\u001b[0m \u001b[0mread_mat\u001b[0m\u001b[0;34m(\u001b[0m\u001b[0mpath_snap\u001b[0m\u001b[0;34m+\u001b[0m\u001b[0;34m'/Analysis/skeleton_realigned_compressed.mat'\u001b[0m\u001b[0;34m)\u001b[0m\u001b[0;34m\u001b[0m\u001b[0;34m\u001b[0m\u001b[0m\n\u001b[0m\u001b[1;32m     12\u001b[0m     \u001b[0mskel\u001b[0m \u001b[0;34m=\u001b[0m \u001b[0mskel_info\u001b[0m\u001b[0;34m[\u001b[0m\u001b[0;34m'skeleton'\u001b[0m\u001b[0;34m]\u001b[0m\u001b[0;34m\u001b[0m\u001b[0;34m\u001b[0m\u001b[0m\n\u001b[1;32m     13\u001b[0m     \u001b[0mskels\u001b[0m\u001b[0;34m.\u001b[0m\u001b[0mappend\u001b[0m\u001b[0;34m(\u001b[0m\u001b[0mskel\u001b[0m\u001b[0;34m)\u001b[0m\u001b[0;34m\u001b[0m\u001b[0;34m\u001b[0m\u001b[0m\n",
      "\u001b[0;32m~/anaconda3/envs/test/lib/python3.7/site-packages/pymatreader/pymatreader.py\u001b[0m in \u001b[0;36mread_mat\u001b[0;34m(filename, variable_names, ignore_fields, uint16_codec)\u001b[0m\n\u001b[1;32m     74\u001b[0m \u001b[0;34m\u001b[0m\u001b[0m\n\u001b[1;32m     75\u001b[0m     \u001b[0;32mif\u001b[0m \u001b[0;32mnot\u001b[0m \u001b[0mos\u001b[0m\u001b[0;34m.\u001b[0m\u001b[0mpath\u001b[0m\u001b[0;34m.\u001b[0m\u001b[0mexists\u001b[0m\u001b[0;34m(\u001b[0m\u001b[0mfilename\u001b[0m\u001b[0;34m)\u001b[0m\u001b[0;34m:\u001b[0m\u001b[0;34m\u001b[0m\u001b[0;34m\u001b[0m\u001b[0m\n\u001b[0;32m---> 76\u001b[0;31m         \u001b[0;32mraise\u001b[0m \u001b[0mIOError\u001b[0m\u001b[0;34m(\u001b[0m\u001b[0;34m'The file %s does not exist.'\u001b[0m \u001b[0;34m%\u001b[0m \u001b[0;34m(\u001b[0m\u001b[0mfilename\u001b[0m\u001b[0;34m,\u001b[0m\u001b[0;34m)\u001b[0m\u001b[0;34m)\u001b[0m\u001b[0;34m\u001b[0m\u001b[0;34m\u001b[0m\u001b[0m\n\u001b[0m\u001b[1;32m     77\u001b[0m \u001b[0;34m\u001b[0m\u001b[0m\n\u001b[1;32m     78\u001b[0m     \u001b[0;32mif\u001b[0m \u001b[0mignore_fields\u001b[0m \u001b[0;32mis\u001b[0m \u001b[0;32mNone\u001b[0m\u001b[0;34m:\u001b[0m\u001b[0;34m\u001b[0m\u001b[0;34m\u001b[0m\u001b[0m\n",
      "\u001b[0;31mOSError\u001b[0m: The file /scratch/shared/AMF914/Fiji.app/20200814_0136_Plate39/Analysis/skeleton_realigned_compressed.mat does not exist."
     ]
    }
   ],
   "source": [
    "dates_datetime = get_dates_datetime(directory, plate)\n",
    "dates_datetime_chosen = dates_datetime[begin:end+1]\n",
    "dates = dates_datetime_chosen\n",
    "skels = []\n",
    "ims = []\n",
    "kernel = np.ones((5, 5), np.uint8)\n",
    "itera = 1\n",
    "for date in dates:\n",
    "    directory_name = get_dirname(date,plate)\n",
    "    path_snap = directory + directory_name\n",
    "    skel_info = read_mat(path_snap+'/Analysis/skeleton_realigned_compressed.mat')\n",
    "    skel = skel_info['skeleton']\n",
    "    skels.append(skel)\n",
    "    im = read_mat(path_snap+'/Analysis/raw_image.mat')['raw']\n",
    "    ims.append(im)\n"
   ]
  },
  {
   "cell_type": "code",
   "execution_count": 19,
   "metadata": {},
   "outputs": [
    {
     "data": {
      "application/vnd.jupyter.widget-view+json": {
       "model_id": "dd44afd63abb441f8781d2323170dff3",
       "version_major": 2,
       "version_minor": 0
      },
      "text/plain": [
       "Canvas(toolbar=Toolbar(toolitems=[('Home', 'Reset original view', 'home', 'home'), ('Back', 'Back to previous …"
      ]
     },
     "metadata": {},
     "output_type": "display_data"
    },
    {
     "data": {
      "application/vnd.jupyter.widget-view+json": {
       "model_id": "5f82001ec170462ca99256a85e8764d6",
       "version_major": 2,
       "version_minor": 0
      },
      "text/plain": [
       "Canvas(toolbar=Toolbar(toolitems=[('Home', 'Reset original view', 'home', 'home'), ('Back', 'Back to previous …"
      ]
     },
     "metadata": {},
     "output_type": "display_data"
    }
   ],
   "source": [
    "plt.close('all')\n",
    "start = 15\n",
    "finish = start + 2\n",
    "for i in range(start, finish):\n",
    "    plot_t_tp1([],[],None,None,skels[i],skels[i+1])"
   ]
  },
  {
   "cell_type": "code",
   "execution_count": null,
   "metadata": {
    "jupyter": {
     "source_hidden": true
    }
   },
   "outputs": [],
   "source": [
    "plt.close('all')\n",
    "directory = \"/scratch/shared/mrozemul/Fiji.app/\" \n",
    "listdir=os.listdir(directory) \n",
    "list_dir_interest=[name for name in listdir if name.split('_')[-1]==f'Plate{0 if plate<10 else \"\"}{plate}']\n",
    "ss=[name.split('_')[0] for name in list_dir_interest]\n",
    "ff=[name.split('_')[1] for name in list_dir_interest]\n",
    "dates_datetime=[datetime(year=int(ss[i][:4]),month=int(ss[i][4:6]),day=int(ss[i][6:8]),hour=int(ff[i][0:2]),minute=int(ff[i][2:4])) for i in range(len(list_dir_interest))]\n",
    "dates_datetime.sort()\n",
    "begin = 0\n",
    "end = 20\n",
    "dates_datetime_chosen=dates_datetime[begin:end]\n",
    "dates = [f'{0 if date.month<10 else \"\"}{date.month}{0 if date.day<10 else \"\"}{date.day}_{0 if date.hour<10 else \"\"}{date.hour}{0 if date.minute<10 else \"\"}{date.minute}' for date in dates_datetime_chosen]\n",
    "zone = (13000,13000+5000+3000,20000,20000+5000+4096)\n",
    "skels_aligned = []\n",
    "for i,date in enumerate(dates):\n",
    "    directory_name=f'2020{dates[i]}_Plate{0 if plate<10 else \"\"}{plate}'\n",
    "    path_snap='/scratch/shared/mrozemul/Fiji.app/'+directory_name\n",
    "    skels_aligned.append(sio.loadmat(path_snap+'/Analysis/skeleton_realigned.mat')['skeleton'])\n",
    "for i in range(11,13):\n",
    "    plot_t_tp1([],[],None,None,skels_aligned[i][zone[0]:zone[1],zone[2]:zone[3]].todense(),skels_aligned[i+1][zone[0]:zone[1],zone[2]:zone[3]].todense())"
   ]
  },
  {
   "cell_type": "code",
   "execution_count": 20,
   "metadata": {
    "jupyter": {
     "source_hidden": true
    }
   },
   "outputs": [
    {
     "data": {
      "application/vnd.jupyter.widget-view+json": {
       "model_id": "fb707a339c0844d78c56bdeb44b449c6",
       "version_major": 2,
       "version_minor": 0
      },
      "text/plain": [
       "Canvas(toolbar=Toolbar(toolitems=[('Home', 'Reset original view', 'home', 'home'), ('Back', 'Back to previous …"
      ]
     },
     "metadata": {},
     "output_type": "display_data"
    },
    {
     "data": {
      "text/plain": [
       "<matplotlib.image.AxesImage at 0x2b197ba65c10>"
      ]
     },
     "execution_count": 20,
     "metadata": {},
     "output_type": "execute_result"
    }
   ],
   "source": [
    "plt.close('all')\n",
    "zone = (6000,13000,12000,22000)\n",
    "fig=plt.figure(figsize=(10,9))\n",
    "ax = fig.add_subplot(111)\n",
    "ax.imshow(skels_aligned[11][zone[0]:zone[1],zone[2]:zone[3]].todense())"
   ]
  },
  {
   "cell_type": "markdown",
   "metadata": {},
   "source": [
    "***Create graphs***"
   ]
  },
  {
   "cell_type": "code",
   "execution_count": 6,
   "metadata": {},
   "outputs": [],
   "source": [
    "num_parallel = 5\n",
    "time = '30:00'\n",
    "args=[plate, directory]\n",
    "run_parallel('extract_nx_graph.py',args,begin,end,num_parallel,time,'extract_nx')"
   ]
  },
  {
   "cell_type": "markdown",
   "metadata": {},
   "source": [
    "***Identify Nodes***"
   ]
  },
  {
   "cell_type": "code",
   "execution_count": 35,
   "metadata": {},
   "outputs": [],
   "source": [
    "num_parallel = 1\n",
    "time = '24:00:00'\n",
    "args=[plate,begin,end, directory]\n",
    "run_parallel('extract_nodes_surf.py',args,0,0,num_parallel,time,'node_id')"
   ]
  },
  {
   "cell_type": "markdown",
   "metadata": {},
   "source": [
    "***Check Node Id***"
   ]
  },
  {
   "cell_type": "code",
   "execution_count": 20,
   "metadata": {},
   "outputs": [],
   "source": [
    "dates_datetime = get_dates_datetime(directory,plate)\n",
    "dates_datetime_chosen = dates_datetime[begin:end+1]\n",
    "dates = dates_datetime_chosen\n",
    "exp = Experiment(plate)\n",
    "exp.load(dates)"
   ]
  },
  {
   "cell_type": "code",
   "execution_count": 21,
   "metadata": {},
   "outputs": [
    {
     "data": {
      "application/vnd.jupyter.widget-view+json": {
       "model_id": "dd74237c34fb4ac9a5809622ea8600a1",
       "version_major": 2,
       "version_minor": 0
      },
      "text/plain": [
       "Canvas(toolbar=Toolbar(toolitems=[('Home', 'Reset original view', 'home', 'home'), ('Back', 'Back to previous …"
      ]
     },
     "metadata": {},
     "output_type": "display_data"
    }
   ],
   "source": [
    "plt.close('all')\n",
    "t = 2\n",
    "nodes = np.random.choice(exp.nx_graph[t].nodes, 100)\n",
    "# exp.plot([t,t+1,t+2],[list(nodes)]*3)\n",
    "exp.plot([t,t+1,t+2],[nodes]*3)"
   ]
  },
  {
   "cell_type": "markdown",
   "metadata": {},
   "source": [
    "***Hyphae extraction***"
   ]
  },
  {
   "cell_type": "code",
   "execution_count": 41,
   "metadata": {},
   "outputs": [],
   "source": [
    "num_parallel = 1\n",
    "time = '2:00:00'\n",
    "args = [plate, begin, end, directory]\n",
    "run_parallel('hyphae_extraction.py',args,0,0,num_parallel,time,'hyphae')"
   ]
  },
  {
   "cell_type": "markdown",
   "metadata": {},
   "source": [
    "***Check Hyphae***"
   ]
  },
  {
   "cell_type": "code",
   "execution_count": 6,
   "metadata": {},
   "outputs": [],
   "source": [
    "dates_datetime = get_dates_datetime(directory,plate)\n",
    "dates_datetime_chosen=dates_datetime[begin:end+1]\n",
    "dates = dates_datetime\n",
    "exp = pickle.load( open(f'{directory}Analysis_Plate{plate}_{dates[0]}_{dates[-1]}/experiment_{plate}.pick', \"rb\" ) )"
   ]
  },
  {
   "cell_type": "code",
   "execution_count": 17,
   "metadata": {},
   "outputs": [
    {
     "data": {
      "text/plain": [
       "[14, 15, 16, 17]"
      ]
     },
     "execution_count": 17,
     "metadata": {},
     "output_type": "execute_result"
    }
   ],
   "source": [
    "hyph = choice(exp.hyphaes)\n",
    "hyph.ts"
   ]
  },
  {
   "cell_type": "code",
   "execution_count": 18,
   "metadata": {},
   "outputs": [
    {
     "name": "stderr",
     "output_type": "stream",
     "text": [
      "/home/cbisot/anaconda3/envs/test/lib/python3.7/site-packages/matplotlib/__init__.py:880: MatplotlibDeprecationWarning: \n",
      "nbagg.transparent\n",
      "  version, key, obj_type=\"rcparam\", alternative=alt_key)\n"
     ]
    },
    {
     "data": {
      "application/vnd.jupyter.widget-view+json": {
       "model_id": "2e05c4fd35d74bc1a5a577a4701049db",
       "version_major": 2,
       "version_minor": 0
      },
      "text/plain": [
       "Canvas(toolbar=Toolbar(toolitems=[('Home', 'Reset original view', 'home', 'home'), ('Back', 'Back to previous …"
      ]
     },
     "metadata": {},
     "output_type": "display_data"
    }
   ],
   "source": [
    "plt.close('all')\n",
    "hyph.end.show_source_image(hyph.ts[-1],hyph.ts[-1])"
   ]
  },
  {
   "cell_type": "code",
   "execution_count": 19,
   "metadata": {},
   "outputs": [
    {
     "data": {
      "application/vnd.jupyter.widget-view+json": {
       "model_id": "ca00c5a74d4841fb9514084136fa0f48",
       "version_major": 2,
       "version_minor": 0
      },
      "text/plain": [
       "Canvas(toolbar=Toolbar(toolitems=[('Home', 'Reset original view', 'home', 'home'), ('Back', 'Back to previous …"
      ]
     },
     "metadata": {},
     "output_type": "display_data"
    }
   ],
   "source": [
    "plt.close('all')\n",
    "exp.plot([0,hyph.ts[-2],hyph.ts[-1]],[[hyph.root.label,hyph.end.label]]*3)"
   ]
  }
 ],
 "metadata": {
  "kernelspec": {
   "display_name": "Python 3",
   "language": "python",
   "name": "python3"
  },
  "language_info": {
   "codemirror_mode": {
    "name": "ipython",
    "version": 3
   },
   "file_extension": ".py",
   "mimetype": "text/x-python",
   "name": "python",
   "nbconvert_exporter": "python",
   "pygments_lexer": "ipython3",
   "version": "3.7.7"
  }
 },
 "nbformat": 4,
 "nbformat_minor": 4
}

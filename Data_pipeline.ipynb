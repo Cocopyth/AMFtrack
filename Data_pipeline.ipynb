{
 "cells": [
  {
   "cell_type": "code",
   "execution_count": 1,
   "metadata": {},
   "outputs": [],
   "source": [
    "%matplotlib widget\n",
    "import pandas as pd\n",
    "import networkx as nx\n",
    "import numpy as np\n",
    "import matplotlib.pyplot as plt\n",
    "from util import get_path, get_dates_datetime, get_dirname\n",
    "\n",
    "from extract_graph import generate_nx_graph, transform_list, generate_skeleton, generate_nx_graph_from_skeleton, from_connection_tab, from_nx_to_tab\n",
    "from node_id import whole_movement_identification, second_identification\n",
    "import ast\n",
    "from plotutil import plot_t_tp1, compress_skeleton\n",
    "from scipy import sparse\n",
    "from sparse_util import dilate, zhangSuen\n",
    "from realign import realign\n",
    "from datetime import datetime,timedelta\n",
    "from node_id import orient\n",
    "import pickle\n",
    "from matplotlib.widgets import CheckButtons\n",
    "import scipy.io as sio\n",
    "import imageio\n",
    "from pymatreader import read_mat\n",
    "from matplotlib import colors\n",
    "from copy import deepcopy,copy\n",
    "from collections import Counter\n",
    "import cv2 \n",
    "import imageio\n",
    "import matplotlib.pyplot as plt\n",
    "import numpy as np\n",
    "from skimage.filters import frangi, meijering\n",
    "from skimage.morphology import thin\n",
    "from skimage import data, filters\n",
    "from random import choice\n",
    "import scipy.sparse\n",
    "import os\n",
    "from time import time\n",
    "from extract_graph import dic_to_sparse, from_sparse_to_graph, generate_nx_graph, prune_graph, from_nx_to_tab, from_nx_to_tab_matlab,sparse_to_doc, connections_pixel_list_to_tab, transform_list, clean_degree_4\n",
    "from time import sleep\n",
    "from skimage.feature import hessian_matrix_det\n",
    "from experiment_class_surf import Experiment,clean_exp_with_hyphaes\n",
    "from hyphae_id_surf import clean_and_relabel, get_mother, save_hyphaes, resolve_ambiguity_two_ends,solve_degree4, clean_obvious_fake_tips\n",
    "from subprocess import call\n"
   ]
  },
  {
   "cell_type": "markdown",
   "metadata": {},
   "source": [
    "***Chose plate number and directory of interest where the folders with images are***"
   ]
  },
  {
   "cell_type": "code",
   "execution_count": 48,
   "metadata": {},
   "outputs": [
    {
     "data": {
      "text/plain": [
       "571"
      ]
     },
     "execution_count": 48,
     "metadata": {},
     "output_type": "execute_result"
    }
   ],
   "source": [
    "plate = 39\n",
    "from directory import directory, run_parallel, find_state, check_state\n",
    "# directory = \"/scratch/shared/mrozemul/Fiji.app/\"\n",
    "listdir = os.listdir(directory) \n",
    "list_dir_interest = [name for name in listdir if name.split('_')[-1]==f'Plate{0 if plate<10 else \"\"}{plate}']\n",
    "dates_datetime = get_dates_datetime(directory,plate)\n",
    "len(list_dir_interest)"
   ]
  },
  {
   "cell_type": "code",
   "execution_count": 19,
   "metadata": {
    "collapsed": true,
    "jupyter": {
     "outputs_hidden": true
    }
   },
   "outputs": [
    {
     "data": {
      "text/plain": [
       "['20201017_1526_Plate33',\n",
       " '20201005_1500_Plate33',\n",
       " '20201106_1243_Plate33',\n",
       " '20201108_1244_Plate33',\n",
       " '20201027_2041_Plate33',\n",
       " '20201003_1534_Plate33',\n",
       " '20201001_1534_Plate33',\n",
       " '20201108_2044_Plate33',\n",
       " '20201116_0043_Plate33',\n",
       " '20201011_2252_Plate33',\n",
       " '20201114_0845_Plate33',\n",
       " '20201026_1205_Plate33',\n",
       " '20201028_0844_Plate33',\n",
       " '20201014_0723_Plate33',\n",
       " '20201009_2252_Plate33',\n",
       " '20201104_0044_Plate33',\n",
       " '20201012_1452_Plate33',\n",
       " '20201019_0327_Plate33',\n",
       " '20201024_1205_Plate33',\n",
       " '20201022_1520_Plate33',\n",
       " '20201101_0443_Plate33',\n",
       " '20201105_2044_Plate33',\n",
       " '20201107_1644_Plate33',\n",
       " '20201109_2037_Plate33',\n",
       " '20201007_0304_Plate33',\n",
       " '20201116_0443_Plate33',\n",
       " '20200929_1517_Plate33',\n",
       " '20201030_1243_Plate33',\n",
       " '20201012_0652_Plate33',\n",
       " '20201112_1245_Plate33',\n",
       " '20201029_2044_Plate33',\n",
       " '20201010_2252_Plate33',\n",
       " '20201005_1100_Plate33',\n",
       " '20201104_1243_Plate33',\n",
       " '20201104_0844_Plate33',\n",
       " '20201009_1452_Plate33',\n",
       " '20201011_1452_Plate33',\n",
       " '20201007_1107_Plate33',\n",
       " '20201016_1926_Plate33',\n",
       " '20201105_1245_Plate33',\n",
       " '20201010_1852_Plate33',\n",
       " '20201027_0041_Plate33',\n",
       " '20201030_1644_Plate33',\n",
       " '20201025_1208_Plate33',\n",
       " '20201019_1520_Plate33',\n",
       " '20201008_1042_Plate33',\n",
       " '20201031_0843_Plate33',\n",
       " '20201010_0652_Plate33',\n",
       " '20201028_1644_Plate33',\n",
       " '20201031_1243_Plate33',\n",
       " '20201016_1126_Plate33',\n",
       " '20201113_0445_Plate33',\n",
       " '20201105_1645_Plate33',\n",
       " '20201016_0326_Plate33',\n",
       " '20201017_0726_Plate33',\n",
       " '20201020_1920_Plate33',\n",
       " '20201023_1604_Plate33',\n",
       " '20201015_1526_Plate33',\n",
       " '20201115_2043_Plate33',\n",
       " '20201021_0320_Plate33',\n",
       " '20201104_1645_Plate33',\n",
       " '20201003_0734_Plate33',\n",
       " '20201030_0044_Plate33',\n",
       " '20201112_0443_Plate33',\n",
       " '20201029_0844_Plate33',\n",
       " '20201016_2326_Plate33',\n",
       " '20201009_0652_Plate33',\n",
       " '20201018_1927_Plate33',\n",
       " '20201115_0853_Plate33',\n",
       " '20201001_1135_Plate33',\n",
       " '20201012_1051_Plate33',\n",
       " '20200929_2317_Plate33',\n",
       " '20200930_2317_Plate33',\n",
       " '20201109_0444_Plate33',\n",
       " '20201109_0044_Plate33',\n",
       " '20201023_2004_Plate33',\n",
       " '20200928_2015_Plate33',\n",
       " '20201009_1052_Plate33',\n",
       " '20201002_2334_Plate33',\n",
       " '20201006_1503_Plate33',\n",
       " '20201006_0705_Plate33',\n",
       " '20201006_2304_Plate33',\n",
       " '20201106_0844_Plate33',\n",
       " '20201106_0444_Plate33',\n",
       " '20200929_0016_Plate33',\n",
       " '20201104_2044_Plate33',\n",
       " '20201107_1244_Plate33',\n",
       " '20201111_0844_Plate33',\n",
       " '20201018_0327_Plate33',\n",
       " '20201021_0720_Plate33',\n",
       " '20201019_0727_Plate33',\n",
       " '20201007_1507_Plate33',\n",
       " '20201005_1903_Plate33',\n",
       " '20201107_0044_Plate33',\n",
       " '20201020_1120_Plate33',\n",
       " '20201013_0252_Plate33',\n",
       " '20201009_0252_Plate33',\n",
       " '20201001_0717_Plate33',\n",
       " '20200930_1917_Plate33',\n",
       " '20201030_0843_Plate33',\n",
       " '20201029_1243_Plate33',\n",
       " '20201020_0320_Plate33',\n",
       " '20200929_0415_Plate33',\n",
       " '20201015_2326_Plate33',\n",
       " '20201102_1243_Plate33',\n",
       " '20201023_0320_Plate33',\n",
       " '20201024_1605_Plate33',\n",
       " '20201108_1644_Plate33',\n",
       " '20201020_1520_Plate33',\n",
       " '20201110_1236_Plate33',\n",
       " '20201008_1852_Plate33',\n",
       " '20201020_0721_Plate33',\n",
       " '20201114_1653_Plate33',\n",
       " '20200929_0815_Plate33',\n",
       " '20201011_0652_Plate33',\n",
       " '20201022_0720_Plate33',\n",
       " '20201111_0043_Plate33',\n",
       " '20201108_0044_Plate33',\n",
       " '20201021_1920_Plate33',\n",
       " '20201028_1244_Plate33',\n",
       " '20201115_0454_Plate33',\n",
       " '20201113_1253_Plate33',\n",
       " '20201105_0844_Plate33',\n",
       " '20201102_2043_Plate33',\n",
       " '20201108_0444_Plate33',\n",
       " '20201024_0005_Plate33',\n",
       " '20201103_1244_Plate33',\n",
       " '20201011_1052_Plate33',\n",
       " '20201010_1452_Plate33',\n",
       " '20201115_1643_Plate33',\n",
       " '20201001_2334_Plate33',\n",
       " '20201024_2006_Plate33',\n",
       " '20201029_0044_Plate33',\n",
       " '20201110_0437_Plate33',\n",
       " '20201101_0843_Plate33',\n",
       " '20201102_0844_Plate33',\n",
       " '20201105_0044_Plate33',\n",
       " '20201102_0043_Plate33',\n",
       " '20201112_0853_Plate33',\n",
       " '20201031_1644_Plate33',\n",
       " '20201112_1644_Plate33',\n",
       " '20201017_0326_Plate33',\n",
       " '20201111_0443_Plate33',\n",
       " '20201019_1920_Plate33',\n",
       " '20201016_1525_Plate33',\n",
       " '20201023_0720_Plate33',\n",
       " '20201003_0334_Plate33',\n",
       " '20201003_1134_Plate33',\n",
       " '20201002_1534_Plate33',\n",
       " '20201104_0444_Plate33',\n",
       " '20201101_0044_Plate33',\n",
       " '20201021_2320_Plate33',\n",
       " '20201025_0807_Plate33',\n",
       " '20201012_0252_Plate33',\n",
       " '20201015_0723_Plate33',\n",
       " '20201006_0304_Plate33',\n",
       " '20201115_0053_Plate33',\n",
       " '20201110_2043_Plate33',\n",
       " '20201006_1904_Plate33',\n",
       " '20201114_2053_Plate33',\n",
       " '20201022_0320_Plate33',\n",
       " '20201112_0043_Plate33',\n",
       " '20201026_1610_Plate33',\n",
       " '20201107_0844_Plate33',\n",
       " '20200929_1916_Plate33',\n",
       " '20201103_0044_Plate33',\n",
       " '20201014_0323_Plate33',\n",
       " '20201022_2320_Plate33',\n",
       " '20201002_0734_Plate33',\n",
       " '20201024_0806_Plate33',\n",
       " '20201111_2043_Plate33',\n",
       " '20201110_0836_Plate33',\n",
       " '20201109_0844_Plate33',\n",
       " '20201026_0008_Plate33',\n",
       " '20201003_1934_Plate33',\n",
       " '20201101_2043_Plate33',\n",
       " '20201002_1134_Plate33',\n",
       " '20201113_0045_Plate33',\n",
       " '20201030_2044_Plate33',\n",
       " '20201011_1852_Plate33',\n",
       " '20201103_0932_Plate33',\n",
       " '20201025_0005_Plate33',\n",
       " '20201015_1123_Plate33',\n",
       " '20201101_1644_Plate33',\n",
       " '20201010_1052_Plate33',\n",
       " '20201106_0044_Plate33',\n",
       " '20201108_0843_Plate33',\n",
       " '20201018_2327_Plate33',\n",
       " '20201106_2044_Plate33',\n",
       " '20201012_1852_Plate33',\n",
       " '20201107_0444_Plate33',\n",
       " '20201008_0707_Plate33',\n",
       " '20201016_0726_Plate33',\n",
       " '20201031_0444_Plate33',\n",
       " '20201112_2045_Plate33',\n",
       " '20201105_0445_Plate33',\n",
       " '20201014_2323_Plate33',\n",
       " '20201031_0043_Plate33',\n",
       " '20201024_0405_Plate33',\n",
       " '20201110_1644_Plate33',\n",
       " '20201017_1126_Plate33',\n",
       " '20201027_1243_Plate33',\n",
       " '20201015_1926_Plate33',\n",
       " '20201025_0305_Plate33',\n",
       " '20201029_0444_Plate33',\n",
       " '20201014_1523_Plate33',\n",
       " '20201028_0043_Plate33',\n",
       " '20201010_0252_Plate33',\n",
       " '20201027_1642_Plate33',\n",
       " '20201019_1126_Plate33',\n",
       " '20201007_1907_Plate33',\n",
       " '20201006_1105_Plate33',\n",
       " '20201103_2044_Plate33',\n",
       " '20201102_1644_Plate33',\n",
       " '20201025_1608_Plate33',\n",
       " '20201002_1934_Plate33',\n",
       " '20201012_2252_Plate33',\n",
       " '20201019_2320_Plate33',\n",
       " '20201008_0306_Plate33',\n",
       " '20201022_1920_Plate33',\n",
       " '20201018_1527_Plate33',\n",
       " '20201021_1120_Plate33',\n",
       " '20201106_1645_Plate33',\n",
       " '20201007_0705_Plate33',\n",
       " '20201111_1643_Plate33',\n",
       " '20201025_2008_Plate33',\n",
       " '20201009_1851_Plate33',\n",
       " '20201002_0334_Plate33',\n",
       " '20201021_1520_Plate33',\n",
       " '20201109_1637_Plate33',\n",
       " '20201013_1052_Plate33',\n",
       " '20201001_1934_Plate33',\n",
       " '20201015_0323_Plate33',\n",
       " '20201020_2320_Plate33',\n",
       " '20201017_2327_Plate33',\n",
       " '20201031_2044_Plate33',\n",
       " '20201030_0444_Plate33',\n",
       " '20201026_2041_Plate33',\n",
       " '20201028_2043_Plate33',\n",
       " '20201101_1243_Plate33',\n",
       " '20201107_2044_Plate33',\n",
       " '20201110_0036_Plate33',\n",
       " '20201102_0443_Plate33',\n",
       " '20201116_0843_Plate33',\n",
       " '20201023_1205_Plate33',\n",
       " '20201005_2303_Plate33',\n",
       " '20201007_2306_Plate33',\n",
       " '20201027_0842_Plate33',\n",
       " '20201027_0441_Plate33',\n",
       " '20201008_2252_Plate33',\n",
       " '20201114_1253_Plate33',\n",
       " '20201113_0845_Plate33',\n",
       " '20201103_1644_Plate33',\n",
       " '20201017_1926_Plate33',\n",
       " '20201115_1253_Plate33',\n",
       " '20201109_1245_Plate33',\n",
       " '20201029_1643_Plate33',\n",
       " '20201014_1923_Plate33',\n",
       " '20201103_0443_Plate33',\n",
       " '20200928_1615_Plate33',\n",
       " '20201008_1451_Plate33',\n",
       " '20201018_0727_Plate33',\n",
       " '20201028_0444_Plate33',\n",
       " '20201018_1127_Plate33']"
      ]
     },
     "execution_count": 19,
     "metadata": {},
     "output_type": "execute_result"
    }
   ],
   "source": [
    "list_dir_interest"
   ]
  },
  {
   "cell_type": "markdown",
   "metadata": {},
   "source": [
    "***Chose timestep to begin with and folder to end with***"
   ]
  },
  {
   "cell_type": "code",
   "execution_count": 49,
   "metadata": {},
   "outputs": [
    {
     "name": "stdout",
     "output_type": "stream",
     "text": [
      "begin = 2020-11-23 15:01:00 \n",
      "  end = 2020-11-27 19:12:00\n"
     ]
    }
   ],
   "source": [
    "begin = 404\n",
    "end = 504\n",
    "print('begin =', dates_datetime[begin], '\\n  end =', dates_datetime[end])"
   ]
  },
  {
   "cell_type": "code",
   "execution_count": 23,
   "metadata": {
    "collapsed": true,
    "jupyter": {
     "outputs_hidden": true
    }
   },
   "outputs": [
    {
     "data": {
      "text/plain": [
       "[datetime.datetime(2020, 9, 22, 13, 17),\n",
       " datetime.datetime(2020, 9, 22, 17, 17),\n",
       " datetime.datetime(2020, 9, 22, 21, 17),\n",
       " datetime.datetime(2020, 9, 23, 1, 17),\n",
       " datetime.datetime(2020, 9, 23, 5, 17),\n",
       " datetime.datetime(2020, 9, 23, 9, 17),\n",
       " datetime.datetime(2020, 9, 23, 13, 17),\n",
       " datetime.datetime(2020, 9, 23, 17, 17),\n",
       " datetime.datetime(2020, 9, 23, 21, 17),\n",
       " datetime.datetime(2020, 9, 24, 1, 18),\n",
       " datetime.datetime(2020, 9, 24, 5, 18),\n",
       " datetime.datetime(2020, 9, 24, 9, 18)]"
      ]
     },
     "execution_count": 23,
     "metadata": {},
     "output_type": "execute_result"
    }
   ],
   "source": [
    "dates_datetime[begin:end]"
   ]
  },
  {
   "cell_type": "code",
   "execution_count": 92,
   "metadata": {
    "collapsed": true,
    "jupyter": {
     "outputs_hidden": true
    }
   },
   "outputs": [
    {
     "data": {
      "text/plain": [
       "([(datetime.datetime(2020, 12, 7, 18, 39), 0),\n",
       "  (datetime.datetime(2020, 12, 7, 22, 39), 1),\n",
       "  (datetime.datetime(2020, 12, 8, 2, 39), 2),\n",
       "  (datetime.datetime(2020, 12, 8, 6, 39), 3),\n",
       "  (datetime.datetime(2020, 12, 8, 10, 40), 4),\n",
       "  (datetime.datetime(2020, 12, 8, 14, 40), 5),\n",
       "  (datetime.datetime(2020, 12, 8, 18, 40), 6),\n",
       "  (datetime.datetime(2020, 12, 8, 22, 40), 7),\n",
       "  (datetime.datetime(2020, 12, 9, 2, 40), 8),\n",
       "  (datetime.datetime(2020, 12, 9, 6, 40), 9),\n",
       "  (datetime.datetime(2020, 12, 9, 11, 13), 10),\n",
       "  (datetime.datetime(2020, 12, 9, 14, 49), 11),\n",
       "  (datetime.datetime(2020, 12, 9, 18, 48), 12),\n",
       "  (datetime.datetime(2020, 12, 9, 22, 48), 13),\n",
       "  (datetime.datetime(2020, 12, 10, 2, 48), 14),\n",
       "  (datetime.datetime(2020, 12, 10, 6, 48), 15),\n",
       "  (datetime.datetime(2020, 12, 10, 10, 54), 16),\n",
       "  (datetime.datetime(2020, 12, 10, 14, 53), 17),\n",
       "  (datetime.datetime(2020, 12, 10, 18, 53), 18),\n",
       "  (datetime.datetime(2020, 12, 10, 22, 52), 19),\n",
       "  (datetime.datetime(2020, 12, 11, 2, 53), 20),\n",
       "  (datetime.datetime(2020, 12, 11, 6, 53), 21),\n",
       "  (datetime.datetime(2020, 12, 11, 10, 52), 22),\n",
       "  (datetime.datetime(2020, 12, 11, 14, 51), 23),\n",
       "  (datetime.datetime(2020, 12, 11, 18, 51), 24),\n",
       "  (datetime.datetime(2020, 12, 11, 22, 51), 25),\n",
       "  (datetime.datetime(2020, 12, 12, 2, 51), 26),\n",
       "  (datetime.datetime(2020, 12, 12, 6, 51), 27),\n",
       "  (datetime.datetime(2020, 12, 12, 10, 51), 28),\n",
       "  (datetime.datetime(2020, 12, 12, 14, 51), 29),\n",
       "  (datetime.datetime(2020, 12, 12, 18, 51), 30),\n",
       "  (datetime.datetime(2020, 12, 12, 22, 51), 31),\n",
       "  (datetime.datetime(2020, 12, 13, 2, 51), 32),\n",
       "  (datetime.datetime(2020, 12, 13, 6, 51), 33),\n",
       "  (datetime.datetime(2020, 12, 13, 10, 51), 34),\n",
       "  (datetime.datetime(2020, 12, 13, 14, 51), 35),\n",
       "  (datetime.datetime(2020, 12, 13, 18, 51), 36),\n",
       "  (datetime.datetime(2020, 12, 13, 22, 51), 37),\n",
       "  (datetime.datetime(2020, 12, 14, 2, 51), 38),\n",
       "  (datetime.datetime(2020, 12, 14, 6, 51), 39),\n",
       "  (datetime.datetime(2020, 12, 14, 10, 52), 40),\n",
       "  (datetime.datetime(2020, 12, 14, 15, 3), 41),\n",
       "  (datetime.datetime(2020, 12, 14, 19, 2), 42),\n",
       "  (datetime.datetime(2020, 12, 14, 23, 2), 43),\n",
       "  (datetime.datetime(2020, 12, 15, 3, 2), 44),\n",
       "  (datetime.datetime(2020, 12, 15, 7, 2), 45),\n",
       "  (datetime.datetime(2020, 12, 15, 11, 2), 46),\n",
       "  (datetime.datetime(2020, 12, 15, 15, 2), 47),\n",
       "  (datetime.datetime(2020, 12, 15, 19, 2), 48),\n",
       "  (datetime.datetime(2020, 12, 15, 23, 2), 49),\n",
       "  (datetime.datetime(2020, 12, 16, 3, 2), 50),\n",
       "  (datetime.datetime(2020, 12, 16, 7, 2), 51),\n",
       "  (datetime.datetime(2020, 12, 16, 11, 2), 52),\n",
       "  (datetime.datetime(2020, 12, 16, 15, 1), 53),\n",
       "  (datetime.datetime(2020, 12, 16, 19, 2), 54),\n",
       "  (datetime.datetime(2020, 12, 16, 23, 2), 55),\n",
       "  (datetime.datetime(2020, 12, 17, 3, 2), 56),\n",
       "  (datetime.datetime(2020, 12, 17, 7, 1), 57),\n",
       "  (datetime.datetime(2020, 12, 17, 11, 4), 58),\n",
       "  (datetime.datetime(2020, 12, 17, 15, 20), 59),\n",
       "  (datetime.datetime(2020, 12, 17, 19, 21), 60),\n",
       "  (datetime.datetime(2020, 12, 17, 23, 20), 61),\n",
       "  (datetime.datetime(2020, 12, 18, 3, 20), 62),\n",
       "  (datetime.datetime(2020, 12, 18, 7, 20), 63),\n",
       "  (datetime.datetime(2020, 12, 18, 11, 20), 64),\n",
       "  (datetime.datetime(2020, 12, 18, 15, 19), 65),\n",
       "  (datetime.datetime(2020, 12, 18, 19, 19), 66),\n",
       "  (datetime.datetime(2020, 12, 18, 23, 16), 67),\n",
       "  (datetime.datetime(2020, 12, 19, 3, 16), 68),\n",
       "  (datetime.datetime(2020, 12, 19, 7, 16), 69),\n",
       "  (datetime.datetime(2020, 12, 19, 11, 16), 70),\n",
       "  (datetime.datetime(2020, 12, 19, 15, 16), 71),\n",
       "  (datetime.datetime(2020, 12, 19, 19, 15), 72),\n",
       "  (datetime.datetime(2020, 12, 19, 23, 15), 73),\n",
       "  (datetime.datetime(2020, 12, 20, 3, 15), 74),\n",
       "  (datetime.datetime(2020, 12, 20, 7, 15), 75),\n",
       "  (datetime.datetime(2020, 12, 20, 11, 15), 76),\n",
       "  (datetime.datetime(2020, 12, 20, 15, 15), 77),\n",
       "  (datetime.datetime(2020, 12, 20, 19, 15), 78),\n",
       "  (datetime.datetime(2020, 12, 20, 23, 15), 79),\n",
       "  (datetime.datetime(2020, 12, 21, 3, 15), 80),\n",
       "  (datetime.datetime(2020, 12, 21, 7, 15), 81),\n",
       "  (datetime.datetime(2020, 12, 21, 11, 15), 82),\n",
       "  (datetime.datetime(2020, 12, 21, 15, 15), 83),\n",
       "  (datetime.datetime(2020, 12, 21, 19, 15), 84),\n",
       "  (datetime.datetime(2020, 12, 21, 23, 15), 85),\n",
       "  (datetime.datetime(2020, 12, 22, 3, 15), 86),\n",
       "  (datetime.datetime(2020, 12, 22, 7, 15), 87),\n",
       "  (datetime.datetime(2020, 12, 22, 11, 15), 88),\n",
       "  (datetime.datetime(2020, 12, 22, 15, 15), 89),\n",
       "  (datetime.datetime(2020, 12, 22, 19, 15), 90),\n",
       "  (datetime.datetime(2020, 12, 22, 23, 15), 91),\n",
       "  (datetime.datetime(2020, 12, 23, 3, 15), 92),\n",
       "  (datetime.datetime(2020, 12, 23, 7, 15), 93),\n",
       "  (datetime.datetime(2020, 12, 23, 11, 15), 94),\n",
       "  (datetime.datetime(2020, 12, 23, 15, 15), 95),\n",
       "  (datetime.datetime(2020, 12, 23, 19, 15), 96),\n",
       "  (datetime.datetime(2020, 12, 23, 23, 15), 97),\n",
       "  (datetime.datetime(2020, 12, 24, 3, 15), 98),\n",
       "  (datetime.datetime(2020, 12, 24, 7, 15), 99),\n",
       "  (datetime.datetime(2020, 12, 24, 11, 19), 100),\n",
       "  (datetime.datetime(2020, 12, 24, 15, 18), 101),\n",
       "  (datetime.datetime(2020, 12, 24, 19, 18), 102),\n",
       "  (datetime.datetime(2020, 12, 24, 23, 18), 103),\n",
       "  (datetime.datetime(2020, 12, 25, 3, 17), 104),\n",
       "  (datetime.datetime(2020, 12, 25, 7, 18), 105),\n",
       "  (datetime.datetime(2020, 12, 25, 11, 18), 106),\n",
       "  (datetime.datetime(2020, 12, 25, 15, 18), 107),\n",
       "  (datetime.datetime(2020, 12, 25, 19, 18), 108),\n",
       "  (datetime.datetime(2020, 12, 25, 23, 18), 109),\n",
       "  (datetime.datetime(2020, 12, 26, 3, 18), 110),\n",
       "  (datetime.datetime(2020, 12, 26, 7, 18), 111),\n",
       "  (datetime.datetime(2020, 12, 26, 11, 39), 112),\n",
       "  (datetime.datetime(2020, 12, 26, 15, 40), 113),\n",
       "  (datetime.datetime(2020, 12, 26, 19, 40), 114),\n",
       "  (datetime.datetime(2020, 12, 26, 23, 40), 115),\n",
       "  (datetime.datetime(2020, 12, 27, 3, 40), 116),\n",
       "  (datetime.datetime(2020, 12, 27, 7, 40), 117),\n",
       "  (datetime.datetime(2020, 12, 27, 11, 40), 118),\n",
       "  (datetime.datetime(2020, 12, 27, 15, 40), 119),\n",
       "  (datetime.datetime(2020, 12, 27, 19, 40), 120)],\n",
       " '/Analysis/skeleton_pruned_compressed.mat')"
      ]
     },
     "execution_count": 92,
     "metadata": {},
     "output_type": "execute_result"
    }
   ],
   "source": [
    "find_state(plate,begin,end)"
   ]
  },
  {
   "cell_type": "markdown",
   "metadata": {},
   "source": [
    "***Compress raw image***"
   ]
  },
  {
   "cell_type": "code",
   "execution_count": 10,
   "metadata": {},
   "outputs": [],
   "source": [
    "num_parallel = 4\n",
    "time = '2:00'\n",
    "args = [plate]\n",
    "run_parallel('compress_image.py',args, begin, end, num_parallel, time, 'compress')"
   ]
  },
  {
   "cell_type": "markdown",
   "metadata": {},
   "source": [
    "***Skeletonization***\n",
    "- Only 4 skeletonization processes can be run in parallel on one node"
   ]
  },
  {
   "cell_type": "code",
   "execution_count": 11,
   "metadata": {},
   "outputs": [],
   "source": [
    "num_parallel = 4\n",
    "time = '3:00:00'\n",
    "low = 30\n",
    "high = 80\n",
    "extend = 30\n",
    "args=[plate, low, high, extend]\n",
    "run_parallel('extract_skel_surf.py',args,begin,end,num_parallel,time,'skeletonization')"
   ]
  },
  {
   "cell_type": "markdown",
   "metadata": {},
   "source": [
    "***Check Skeletonization***\n",
    "- The first cell loads the skeleton and the compressed raw image\n",
    "- The second cell shows the overlap of the skeleton and the raw image"
   ]
  },
  {
   "cell_type": "code",
   "execution_count": 99,
   "metadata": {},
   "outputs": [],
   "source": [
    "begin = 100\n",
    "end = 102\n",
    "dates_datetime = get_dates_datetime(directory,plate)\n",
    "dates_datetime_chosen=dates_datetime[begin:end+1]\n",
    "dates = dates_datetime_chosen\n",
    "skels = []\n",
    "ims = []\n",
    "kernel = np.ones((5,5),np.uint8)\n",
    "itera = 1\n",
    "for date in dates:\n",
    "    directory_name = get_dirname(date,plate)\n",
    "    path_snap=directory+directory_name\n",
    "    skel_info = read_mat(path_snap+'/Analysis/skeleton_compressed.mat')\n",
    "    skel = skel_info['skeleton']\n",
    "    skels.append(cv2.dilate(skel.astype(np.uint8),kernel,iterations = itera))\n",
    "    im = read_mat(path_snap+'/Analysis/raw_image.mat')['raw']\n",
    "    ims.append(im)"
   ]
  },
  {
   "cell_type": "markdown",
   "metadata": {},
   "source": [
    "- Chose start and finish to display the overlap of the skeleton and the raw image : no more than 10 at a time or jupyter will crash.\n",
    "- For display purpose, everything is compressed so connectivity may be lost\n",
    "- colors are just a feature of compression"
   ]
  },
  {
   "cell_type": "code",
   "execution_count": 100,
   "metadata": {},
   "outputs": [
    {
     "data": {
      "application/vnd.jupyter.widget-view+json": {
       "model_id": "7628e5852a3942efaa124abeeb0c3078",
       "version_major": 2,
       "version_minor": 0
      },
      "text/plain": [
       "Canvas(toolbar=Toolbar(toolitems=[('Home', 'Reset original view', 'home', 'home'), ('Back', 'Back to previous …"
      ]
     },
     "metadata": {},
     "output_type": "display_data"
    },
    {
     "data": {
      "application/vnd.jupyter.widget-view+json": {
       "model_id": "9f81ef652e004380a775fd639125f5c9",
       "version_major": 2,
       "version_minor": 0
      },
      "text/plain": [
       "Canvas(toolbar=Toolbar(toolitems=[('Home', 'Reset original view', 'home', 'home'), ('Back', 'Back to previous …"
      ]
     },
     "metadata": {},
     "output_type": "display_data"
    }
   ],
   "source": [
    "plt.close('all')\n",
    "start = 0\n",
    "finish = start + 2\n",
    "for i in range(start,finish):\n",
    "    plot_t_tp1([], [], None, None, skels[i], ims[i])"
   ]
  },
  {
   "cell_type": "markdown",
   "metadata": {},
   "source": [
    "***Check specific image***\n",
    "- If something wrong is noticed in one of the skeletons one can chose to look closer at one of the images and the skeletonization process\n",
    "- chose ***i*** equal to the timestep where something wrong has been noticed "
   ]
  },
  {
   "cell_type": "code",
   "execution_count": 10,
   "metadata": {
    "jupyter": {
     "source_hidden": true
    }
   },
   "outputs": [],
   "source": [
    "#chose i equal to the timestep where something wrong has been noticed \n",
    "i = 84\n",
    "\n",
    "dates_datetime = get_dates_datetime(directory,plate)\n",
    "dates = dates_datetime\n",
    "\n",
    "date =dates [i]\n",
    "directory_name = get_dirname(date,plate)\n",
    "path_snap=directory+directory_name\n",
    "path_tile=path_snap+'/Img/TileConfiguration.txt.registered'\n",
    "try:\n",
    "    tileconfig = pd.read_table(path_tile,sep=';',skiprows=4,header=None,converters={2 : ast.literal_eval},skipinitialspace=True)\n",
    "except:\n",
    "    print('error_name')\n",
    "    path_tile=path_snap+'/Img/TileConfiguration.registered.txt'\n",
    "    tileconfig = pd.read_table(path_tile,sep=';',skiprows=4,header=None,converters={2 : ast.literal_eval},skipinitialspace=True)\n",
    "xs =[c[0] for c in tileconfig[2]]\n",
    "ys =[c[1] for c in tileconfig[2]]\n",
    "dim = (int(np.max(ys)-np.min(ys))+4096,int(np.max(xs)-np.min(xs))+4096)\n",
    "ims = []\n",
    "for name in tileconfig[0]:\n",
    "    imname = '/Img/'+name.split('/')[-1]\n",
    "    ims.append(imageio.imread(directory+directory_name+imname))\n"
   ]
  },
  {
   "cell_type": "markdown",
   "metadata": {},
   "source": [
    "- Chose a x,y position where you want to see how the skeletonization process went (x is the scale on the left on the images and y is the bottom scale)\n",
    "- You can chose to display different part of the filter par commenting/uncommenting"
   ]
  },
  {
   "cell_type": "code",
   "execution_count": 75,
   "metadata": {
    "collapsed": true,
    "jupyter": {
     "outputs_hidden": true,
     "source_hidden": true
    }
   },
   "outputs": [
    {
     "name": "stdout",
     "output_type": "stream",
     "text": [
      "81\n",
      "Raw image\n"
     ]
    },
    {
     "data": {
      "application/vnd.jupyter.widget-view+json": {
       "model_id": "10d4e5ccd52d427aa2f4852fa7d83704",
       "version_major": 2,
       "version_minor": 0
      },
      "text/plain": [
       "Canvas(toolbar=Toolbar(toolitems=[('Home', 'Reset original view', 'home', 'home'), ('Back', 'Back to previous …"
      ]
     },
     "metadata": {},
     "output_type": "display_data"
    },
    {
     "name": "stdout",
     "output_type": "stream",
     "text": [
      "Raw image with background removed\n"
     ]
    },
    {
     "data": {
      "application/vnd.jupyter.widget-view+json": {
       "model_id": "857df7ee16ae4bf48d7d7f3bc0dbe278",
       "version_major": 2,
       "version_minor": 0
      },
      "text/plain": [
       "Canvas(toolbar=Toolbar(toolitems=[('Home', 'Reset original view', 'home', 'home'), ('Back', 'Back to previous …"
      ]
     },
     "metadata": {},
     "output_type": "display_data"
    },
    {
     "name": "stdout",
     "output_type": "stream",
     "text": [
      "frangised image\n"
     ]
    },
    {
     "data": {
      "application/vnd.jupyter.widget-view+json": {
       "model_id": "46ec8c598b9e427b8e8b9a1d7efebf24",
       "version_major": 2,
       "version_minor": 0
      },
      "text/plain": [
       "Canvas(toolbar=Toolbar(toolitems=[('Home', 'Reset original view', 'home', 'home'), ('Back', 'Back to previous …"
      ]
     },
     "metadata": {},
     "output_type": "display_data"
    },
    {
     "name": "stdout",
     "output_type": "stream",
     "text": [
      "final transformed image\n"
     ]
    },
    {
     "data": {
      "application/vnd.jupyter.widget-view+json": {
       "model_id": "9f4eacd94cb840929d9e27cdbf967840",
       "version_major": 2,
       "version_minor": 0
      },
      "text/plain": [
       "Canvas(toolbar=Toolbar(toolitems=[('Home', 'Reset original view', 'home', 'home'), ('Back', 'Back to previous …"
      ]
     },
     "metadata": {},
     "output_type": "display_data"
    },
    {
     "name": "stdout",
     "output_type": "stream",
     "text": [
      "threhsolded image\n"
     ]
    },
    {
     "data": {
      "application/vnd.jupyter.widget-view+json": {
       "model_id": "78766f205148404faf2b809809d1a305",
       "version_major": 2,
       "version_minor": 0
      },
      "text/plain": [
       "Canvas(toolbar=Toolbar(toolitems=[('Home', 'Reset original view', 'home', 'home'), ('Back', 'Back to previous …"
      ]
     },
     "metadata": {},
     "output_type": "display_data"
    },
    {
     "name": "stdout",
     "output_type": "stream",
     "text": [
      "threhsolded image\n"
     ]
    },
    {
     "data": {
      "application/vnd.jupyter.widget-view+json": {
       "model_id": "66315a90b5d443a582f2e91b7455a20a",
       "version_major": 2,
       "version_minor": 0
      },
      "text/plain": [
       "Canvas(toolbar=Toolbar(toolitems=[('Home', 'Reset original view', 'home', 'home'), ('Back', 'Back to previous …"
      ]
     },
     "metadata": {},
     "output_type": "display_data"
    },
    {
     "name": "stdout",
     "output_type": "stream",
     "text": [
      "extended tips\n"
     ]
    },
    {
     "data": {
      "application/vnd.jupyter.widget-view+json": {
       "model_id": "778890c2e73345babba150a9034bcc31",
       "version_major": 2,
       "version_minor": 0
      },
      "text/plain": [
       "Canvas(toolbar=Toolbar(toolitems=[('Home', 'Reset original view', 'home', 'home'), ('Back', 'Back to previous …"
      ]
     },
     "metadata": {},
     "output_type": "display_data"
    },
    {
     "name": "stdout",
     "output_type": "stream",
     "text": [
      "final_skel\n"
     ]
    },
    {
     "data": {
      "application/vnd.jupyter.widget-view+json": {
       "model_id": "2ff70cdb1ac246a180f92ed353db7e6b",
       "version_major": 2,
       "version_minor": 0
      },
      "text/plain": [
       "Canvas(toolbar=Toolbar(toolitems=[('Home', 'Reset original view', 'home', 'home'), ('Back', 'Back to previous …"
      ]
     },
     "metadata": {},
     "output_type": "display_data"
    }
   ],
   "source": [
    "### plt.close('all')\n",
    "\n",
    "#chose a spot where to look closer at\n",
    "linex  = 3700\n",
    "liney = 3200\n",
    "\n",
    "shape = (3000,4096)\n",
    "linex *= 5\n",
    "liney *= 5\n",
    "for index,im in enumerate(ims):\n",
    "    boundaries = int(tileconfig[2][index][0]-np.min(xs)),int(tileconfig[2][index][1]-np.min(ys))\n",
    "    if boundaries[1]<=linex< boundaries[1]+shape[0] and boundaries[0]<=liney< boundaries[0]+shape[1]:\n",
    "        print(index)\n",
    "        im_cropped = im\n",
    "        im_blurred =cv2.blur(im_cropped, (200, 200))\n",
    "        im_back_rem = (im_cropped+1)/(im_blurred+1)*120\n",
    "        im_back_rem[im_back_rem>=130]=130\n",
    "        # # im_back_rem = im_cropped*1.0\n",
    "        # # # im_back_rem = cv2.normalize(im_back_rem, None, 0, 255, cv2.NORM_MINMAX)\n",
    "        frangised = frangi(im_back_rem,sigmas=range(1,20,4))*255\n",
    "        # # frangised = cv2.normalize(frangised, None, 0, 255, cv2.NORM_MINMAX)\n",
    "        hessian = hessian_matrix_det(im_back_rem,sigma = 20)\n",
    "        blur_hessian = cv2.blur(abs(hessian), (20, 20))\n",
    "    #     transformed = (frangised+cv2.normalize(blur_hessian, None, 0, 255, cv2.NORM_MINMAX)-im_back_rem+120)*(im_blurred>=35)\n",
    "    #     transformed = (frangised+cv2.normalize(abs(hessian), None, 0, 255, cv2.NORM_MINMAX)-im_back_rem+120)*(im_blurred>=35)\n",
    "        transformed = (frangised-im_back_rem+120)*(im_blurred>=35)\n",
    "        low = 40\n",
    "        high = 80\n",
    "        lowt = (transformed > low).astype(int)\n",
    "        hight = (transformed > high).astype(int)\n",
    "        hyst = filters.apply_hysteresis_threshold(transformed, low, high)\n",
    "        kernel = np.ones((3,3),np.uint8)\n",
    "        dilation = cv2.dilate(hyst.astype(np.uint8) * 255,kernel,iterations = 1)\n",
    "        for i in range(3):\n",
    "            dilation=cv2.erode(dilation.astype(np.uint8) * 255,kernel,iterations = 1)\n",
    "            dilation = cv2.dilate(dilation.astype(np.uint8) * 255,kernel,iterations = 1)\n",
    "        dilated = dilation>0\n",
    "        \n",
    "        nb_components, output, stats, centroids = cv2.connectedComponentsWithStats(dilated.astype(np.uint8), connectivity=8)\n",
    "        #connectedComponentswithStats yields every seperated component with information on each of them, such as size\n",
    "        #the following part is just taking out the background which is also considered a component, but most of the time we don't want that.\n",
    "        sizes = stats[1:, -1]; nb_components = nb_components - 1\n",
    "\n",
    "        # minimum size of particles we want to keep (number of pixels)\n",
    "        #here, it's a fixed value, but you can set it as you want, eg the mean of the sizes or whatever\n",
    "        min_size = 4000  \n",
    "\n",
    "        #your answer image\n",
    "        img2 = np.zeros((dilated.shape))\n",
    "        #for every component in the image, you keep it only if it's above min_size\n",
    "        for i in range(0, nb_components):\n",
    "            if sizes[i] >= min_size:\n",
    "                img2[output == i + 1] = 1\n",
    "        skeletonized = cv2.ximgproc.thinning(np.array(255*img2,dtype=np.uint8))\n",
    "        nx_g = generate_nx_graph(from_sparse_to_graph(scipy.sparse.dok_matrix(skeletonized)))\n",
    "        g,pos= nx_g\n",
    "        tips = [node for node in g.nodes if g.degree(node)==1]\n",
    "        dilated_bis = np.copy(img2)\n",
    "        for tip in tips:\n",
    "            branch = np.array(orient(g.get_edge_data(*list(g.edges(tip))[0])['pixel_list'],pos[tip]))\n",
    "            orientation = branch[0]-branch[min(branch.shape[0]-1,20)]\n",
    "            orientation = orientation/(np.linalg.norm(orientation))\n",
    "            window = 20\n",
    "            x,y = pos[tip][0],pos[tip][1]\n",
    "            if x-window>=0 and x+window< dilated.shape[0] and y-window>=0 and y+window< dilated.shape[1]:\n",
    "                shape_tip = dilated[x-window:x+window,y-window:y+window]\n",
    "                dist = 20\n",
    "                for i in range(dist):\n",
    "                    pixel = (pos[tip]+orientation*i).astype(int)\n",
    "                    xp,yp = pixel[0],pixel[1]\n",
    "                    if xp-window>=0 and xp+window< dilated.shape[0] and yp-window>=0 and yp+window< dilated.shape[1]:\n",
    "                        dilated_bis[xp-window:xp+window,yp-window:yp+window]+=shape_tip\n",
    "        dilation = cv2.dilate(dilated_bis.astype(np.uint8) * 255,kernel,iterations = 2)\n",
    "        for i in range(3):\n",
    "            dilation=cv2.erode(dilation.astype(np.uint8) * 255,kernel,iterations = 2)\n",
    "            dilation = cv2.dilate(dilation.astype(np.uint8) * 255,kernel,iterations = 2)\n",
    "        skeletonized = cv2.ximgproc.thinning(np.array(255*(dilation>0),dtype=np.uint8))\n",
    "        print('Raw image')\n",
    "        fig=plt.figure(figsize=(10,9))\n",
    "        ax = fig.add_subplot(111)\n",
    "        ax.imshow(im)\n",
    "        print('Raw image with background removed')\n",
    "        fig=plt.figure(figsize=(10,9))\n",
    "        ax = fig.add_subplot(111)\n",
    "        ax.imshow(im_back_rem)\n",
    "        print('frangised image')\n",
    "        fig=plt.figure(figsize=(10,9))\n",
    "        ax = fig.add_subplot(111)\n",
    "        ax.imshow(frangised)\n",
    "        print('final transformed image')\n",
    "        fig=plt.figure(figsize=(10,9))\n",
    "        ax = fig.add_subplot(111)\n",
    "        ax.imshow(transformed)\n",
    "        print('threhsolded image')\n",
    "        fig=plt.figure(figsize=(10,9))\n",
    "        ax = fig.add_subplot(111)\n",
    "        ax.imshow(dilated>0)\n",
    "        print('threhsolded image')\n",
    "        fig=plt.figure(figsize=(10,9))\n",
    "        \n",
    "        ax = fig.add_subplot(111)\n",
    "        ax.imshow(img2>0)\n",
    "        print('extended tips')\n",
    "        fig=plt.figure(figsize=(10,9))\n",
    "        ax = fig.add_subplot(111)\n",
    "        ax.imshow(dilated_bis)\n",
    "        print('final_skel')\n",
    "#         fig=plt.figure(figsize=(10,9))\n",
    "#         ax = fig.add_subplot(111)\n",
    "#         ax.imshow(cv2.normalize(abs(hessian), None, 0, 255, cv2.NORM_MINMAX)-255*dilated)\n",
    "        plot_t_tp1([],[],None,None,skeletonized,im_back_rem)"
   ]
  },
  {
   "cell_type": "markdown",
   "metadata": {},
   "source": [
    "***Mask baits and border of the petri dish***"
   ]
  },
  {
   "cell_type": "code",
   "execution_count": 98,
   "metadata": {},
   "outputs": [],
   "source": [
    "num_parallel = 4\n",
    "time = '5:00'\n",
    "thresh = 40\n",
    "args=[plate,thresh]\n",
    "run_parallel('mask_skel.py',args,begin,end,num_parallel,time,'mask')"
   ]
  },
  {
   "cell_type": "markdown",
   "metadata": {},
   "source": [
    "***Check Masking***"
   ]
  },
  {
   "cell_type": "code",
   "execution_count": 4,
   "metadata": {},
   "outputs": [],
   "source": [
    "begin = 0\n",
    "end = 2\n",
    "dates_datetime = get_dates_datetime(directory,plate)\n",
    "dates_datetime_chosen=dates_datetime[begin:end+1]\n",
    "dates = dates_datetime_chosen\n",
    "skels = []\n",
    "ims = []\n",
    "masks = []\n",
    "kernel = np.ones((5,5),np.uint8)\n",
    "itera = 1\n",
    "for date in dates:\n",
    "    directory_name = get_dirname(date,plate)\n",
    "    path_snap = directory + directory_name\n",
    "    skel_info = read_mat(path_snap+'/Analysis/skeleton_masked_compressed.mat')\n",
    "    skel = skel_info['skeleton']\n",
    "    skels.append(cv2.dilate(skel.astype(np.uint8),kernel,iterations = itera))\n",
    "    mask_info = read_mat(path_snap+'/Analysis/mask.mat')\n",
    "    mask = mask_info['mask']\n",
    "    masks.append(mask)\n",
    "    im = read_mat(path_snap+'/Analysis/raw_image.mat')['raw']\n",
    "    ims.append(im)"
   ]
  },
  {
   "cell_type": "code",
   "execution_count": 96,
   "metadata": {},
   "outputs": [
    {
     "data": {
      "application/vnd.jupyter.widget-view+json": {
       "model_id": "52ef63e32ac14f068c42fa7aae67df49",
       "version_major": 2,
       "version_minor": 0
      },
      "text/plain": [
       "Canvas(toolbar=Toolbar(toolitems=[('Home', 'Reset original view', 'home', 'home'), ('Back', 'Back to previous …"
      ]
     },
     "metadata": {},
     "output_type": "display_data"
    },
    {
     "data": {
      "application/vnd.jupyter.widget-view+json": {
       "model_id": "a875e5a190d64dc3bde2b0d447893b8b",
       "version_major": 2,
       "version_minor": 0
      },
      "text/plain": [
       "Canvas(toolbar=Toolbar(toolitems=[('Home', 'Reset original view', 'home', 'home'), ('Back', 'Back to previous …"
      ]
     },
     "metadata": {},
     "output_type": "display_data"
    }
   ],
   "source": [
    "plt.close('all')\n",
    "start = 0\n",
    "finish = start +2\n",
    "for i in range(start,finish):\n",
    "    plot_t_tp1([], [], None, None, masks[i], ims[i])"
   ]
  },
  {
   "cell_type": "markdown",
   "metadata": {},
   "source": [
    "***Prune Graph***"
   ]
  },
  {
   "cell_type": "code",
   "execution_count": 41,
   "metadata": {},
   "outputs": [],
   "source": [
    "num_parallel = 20\n",
    "time = '2:00:00'\n",
    "threshold = 0.1\n",
    "args = [plate,threshold]\n",
    "run_parallel('prune_skel.py',args,begin,end,num_parallel,time,'prune_graph')"
   ]
  },
  {
   "cell_type": "markdown",
   "metadata": {},
   "source": [
    "***Check Pruned Graphs***"
   ]
  },
  {
   "cell_type": "code",
   "execution_count": 38,
   "metadata": {},
   "outputs": [
    {
     "ename": "OSError",
     "evalue": "The file /scratch/shared/AMF914/Fiji.app/20201207_1849_Plate22/Analysis/skeleton_pruned_compressed.mat does not exist.",
     "output_type": "error",
     "traceback": [
      "\u001b[0;31m---------------------------------------------------------------------------\u001b[0m",
      "\u001b[0;31mOSError\u001b[0m                                   Traceback (most recent call last)",
      "\u001b[0;32m<ipython-input-38-9498d19c998a>\u001b[0m in \u001b[0;36m<module>\u001b[0;34m\u001b[0m\n\u001b[1;32m     11\u001b[0m     \u001b[0mdirectory_name\u001b[0m \u001b[0;34m=\u001b[0m \u001b[0mget_dirname\u001b[0m\u001b[0;34m(\u001b[0m\u001b[0mdate\u001b[0m\u001b[0;34m,\u001b[0m\u001b[0mplate\u001b[0m\u001b[0;34m)\u001b[0m\u001b[0;34m\u001b[0m\u001b[0;34m\u001b[0m\u001b[0m\n\u001b[1;32m     12\u001b[0m     \u001b[0mpath_snap\u001b[0m\u001b[0;34m=\u001b[0m\u001b[0mdirectory\u001b[0m\u001b[0;34m+\u001b[0m\u001b[0mdirectory_name\u001b[0m\u001b[0;34m\u001b[0m\u001b[0;34m\u001b[0m\u001b[0m\n\u001b[0;32m---> 13\u001b[0;31m     \u001b[0mskel_info\u001b[0m \u001b[0;34m=\u001b[0m \u001b[0mread_mat\u001b[0m\u001b[0;34m(\u001b[0m\u001b[0mpath_snap\u001b[0m\u001b[0;34m+\u001b[0m\u001b[0;34m'/Analysis/skeleton_pruned_compressed.mat'\u001b[0m\u001b[0;34m)\u001b[0m\u001b[0;34m\u001b[0m\u001b[0;34m\u001b[0m\u001b[0m\n\u001b[0m\u001b[1;32m     14\u001b[0m     \u001b[0mskel\u001b[0m \u001b[0;34m=\u001b[0m \u001b[0mskel_info\u001b[0m\u001b[0;34m[\u001b[0m\u001b[0;34m'skeleton'\u001b[0m\u001b[0;34m]\u001b[0m\u001b[0;34m\u001b[0m\u001b[0;34m\u001b[0m\u001b[0m\n\u001b[1;32m     15\u001b[0m     \u001b[0mskels\u001b[0m\u001b[0;34m.\u001b[0m\u001b[0mappend\u001b[0m\u001b[0;34m(\u001b[0m\u001b[0mcv2\u001b[0m\u001b[0;34m.\u001b[0m\u001b[0mdilate\u001b[0m\u001b[0;34m(\u001b[0m\u001b[0mskel\u001b[0m\u001b[0;34m.\u001b[0m\u001b[0mastype\u001b[0m\u001b[0;34m(\u001b[0m\u001b[0mnp\u001b[0m\u001b[0;34m.\u001b[0m\u001b[0muint8\u001b[0m\u001b[0;34m)\u001b[0m\u001b[0;34m,\u001b[0m\u001b[0mkernel\u001b[0m\u001b[0;34m,\u001b[0m\u001b[0miterations\u001b[0m \u001b[0;34m=\u001b[0m \u001b[0mitera\u001b[0m\u001b[0;34m)\u001b[0m\u001b[0;34m)\u001b[0m\u001b[0;34m\u001b[0m\u001b[0;34m\u001b[0m\u001b[0m\n",
      "\u001b[0;32m~/anaconda3/envs/test/lib/python3.7/site-packages/pymatreader/pymatreader.py\u001b[0m in \u001b[0;36mread_mat\u001b[0;34m(filename, variable_names, ignore_fields, uint16_codec)\u001b[0m\n\u001b[1;32m     74\u001b[0m \u001b[0;34m\u001b[0m\u001b[0m\n\u001b[1;32m     75\u001b[0m     \u001b[0;32mif\u001b[0m \u001b[0;32mnot\u001b[0m \u001b[0mos\u001b[0m\u001b[0;34m.\u001b[0m\u001b[0mpath\u001b[0m\u001b[0;34m.\u001b[0m\u001b[0mexists\u001b[0m\u001b[0;34m(\u001b[0m\u001b[0mfilename\u001b[0m\u001b[0;34m)\u001b[0m\u001b[0;34m:\u001b[0m\u001b[0;34m\u001b[0m\u001b[0;34m\u001b[0m\u001b[0m\n\u001b[0;32m---> 76\u001b[0;31m         \u001b[0;32mraise\u001b[0m \u001b[0mIOError\u001b[0m\u001b[0;34m(\u001b[0m\u001b[0;34m'The file %s does not exist.'\u001b[0m \u001b[0;34m%\u001b[0m \u001b[0;34m(\u001b[0m\u001b[0mfilename\u001b[0m\u001b[0;34m,\u001b[0m\u001b[0;34m)\u001b[0m\u001b[0;34m)\u001b[0m\u001b[0;34m\u001b[0m\u001b[0;34m\u001b[0m\u001b[0m\n\u001b[0m\u001b[1;32m     77\u001b[0m \u001b[0;34m\u001b[0m\u001b[0m\n\u001b[1;32m     78\u001b[0m     \u001b[0;32mif\u001b[0m \u001b[0mignore_fields\u001b[0m \u001b[0;32mis\u001b[0m \u001b[0;32mNone\u001b[0m\u001b[0;34m:\u001b[0m\u001b[0;34m\u001b[0m\u001b[0;34m\u001b[0m\u001b[0m\n",
      "\u001b[0;31mOSError\u001b[0m: The file /scratch/shared/AMF914/Fiji.app/20201207_1849_Plate22/Analysis/skeleton_pruned_compressed.mat does not exist."
     ]
    }
   ],
   "source": [
    "begin = 0\n",
    "end = 2\n",
    "dates_datetime = get_dates_datetime(directory,plate)\n",
    "dates_datetime_chosen=dates_datetime[begin:end+1]\n",
    "dates = dates_datetime_chosen\n",
    "skels = []\n",
    "ims = []\n",
    "kernel = np.ones((5,5),np.uint8)\n",
    "itera = 1\n",
    "for date in dates:\n",
    "    directory_name = get_dirname(date,plate)\n",
    "    path_snap=directory+directory_name\n",
    "    skel_info = read_mat(path_snap+'/Analysis/skeleton_pruned_compressed.mat')\n",
    "    skel = skel_info['skeleton']\n",
    "    skels.append(cv2.dilate(skel.astype(np.uint8),kernel,iterations = itera))\n",
    "    im = read_mat(path_snap+'/Analysis/raw_image.mat')['raw']\n",
    "    ims.append(im)"
   ]
  },
  {
   "cell_type": "code",
   "execution_count": 39,
   "metadata": {},
   "outputs": [
    {
     "ename": "IndexError",
     "evalue": "list index out of range",
     "output_type": "error",
     "traceback": [
      "\u001b[0;31m---------------------------------------------------------------------------\u001b[0m",
      "\u001b[0;31mIndexError\u001b[0m                                Traceback (most recent call last)",
      "\u001b[0;32m<ipython-input-39-6572b2f90c60>\u001b[0m in \u001b[0;36m<module>\u001b[0;34m\u001b[0m\n\u001b[1;32m      3\u001b[0m \u001b[0mfinish\u001b[0m \u001b[0;34m=\u001b[0m \u001b[0mstart\u001b[0m \u001b[0;34m+\u001b[0m \u001b[0;36m3\u001b[0m\u001b[0;34m\u001b[0m\u001b[0;34m\u001b[0m\u001b[0m\n\u001b[1;32m      4\u001b[0m \u001b[0;32mfor\u001b[0m \u001b[0mi\u001b[0m \u001b[0;32min\u001b[0m \u001b[0mrange\u001b[0m\u001b[0;34m(\u001b[0m\u001b[0mstart\u001b[0m\u001b[0;34m,\u001b[0m\u001b[0mfinish\u001b[0m\u001b[0;34m)\u001b[0m\u001b[0;34m:\u001b[0m\u001b[0;34m\u001b[0m\u001b[0;34m\u001b[0m\u001b[0m\n\u001b[0;32m----> 5\u001b[0;31m     \u001b[0mplot_t_tp1\u001b[0m\u001b[0;34m(\u001b[0m\u001b[0;34m[\u001b[0m\u001b[0;34m]\u001b[0m\u001b[0;34m,\u001b[0m\u001b[0;34m[\u001b[0m\u001b[0;34m]\u001b[0m\u001b[0;34m,\u001b[0m\u001b[0;32mNone\u001b[0m\u001b[0;34m,\u001b[0m\u001b[0;32mNone\u001b[0m\u001b[0;34m,\u001b[0m\u001b[0mskels\u001b[0m\u001b[0;34m[\u001b[0m\u001b[0mi\u001b[0m\u001b[0;34m]\u001b[0m\u001b[0;34m,\u001b[0m\u001b[0mims\u001b[0m\u001b[0;34m[\u001b[0m\u001b[0mi\u001b[0m\u001b[0;34m]\u001b[0m\u001b[0;34m)\u001b[0m\u001b[0;34m\u001b[0m\u001b[0;34m\u001b[0m\u001b[0m\n\u001b[0m",
      "\u001b[0;31mIndexError\u001b[0m: list index out of range"
     ]
    }
   ],
   "source": [
    "plt.close('all')\n",
    "start = 0\n",
    "finish = start + 3\n",
    "for i in range(start,finish):\n",
    "    plot_t_tp1([],[],None,None,skels[i],ims[i])"
   ]
  },
  {
   "cell_type": "code",
   "execution_count": 65,
   "metadata": {
    "jupyter": {
     "source_hidden": true
    }
   },
   "outputs": [
    {
     "data": {
      "application/vnd.jupyter.widget-view+json": {
       "model_id": "79550dae467747e19c9e11948c4eb427",
       "version_major": 2,
       "version_minor": 0
      },
      "text/plain": [
       "Canvas(toolbar=Toolbar(toolitems=[('Home', 'Reset original view', 'home', 'home'), ('Back', 'Back to previous …"
      ]
     },
     "metadata": {},
     "output_type": "display_data"
    }
   ],
   "source": [
    "plt.close('all')\n",
    "kernel = np.ones((5,5),np.uint8)\n",
    "for i in range(len(compressed)-1):\n",
    "    plot_t_tp1([],[],None,None,cv2.dilate(compressed[i].astype(np.uint8),kernel,iterations = 2),cv2.dilate(compressed[i+1].astype(np.uint8),kernel,iterations = 2))"
   ]
  },
  {
   "cell_type": "markdown",
   "metadata": {},
   "source": [
    "***Realign***"
   ]
  },
  {
   "cell_type": "code",
   "execution_count": 76,
   "metadata": {},
   "outputs": [],
   "source": [
    "num_parallel = 8\n",
    "time = '2:00:00'\n",
    "thresh = 100000\n",
    "args=[plate,thresh]\n",
    "run_parallel('final_alignment.py',args,begin,end,num_parallel,time,'realign')"
   ]
  },
  {
   "cell_type": "markdown",
   "metadata": {},
   "source": [
    "***Check Alignment***"
   ]
  },
  {
   "cell_type": "code",
   "execution_count": 21,
   "metadata": {},
   "outputs": [],
   "source": [
    "plt.close('all')\n",
    "dates_datetime = get_dates_datetime(directory,plate)\n",
    "dates_datetime_chosen=dates_datetime[begin:end+1]\n",
    "dates = dates_datetime_chosen\n",
    "dilateds=[]\n",
    "skels = []\n",
    "skel_docs = []\n",
    "Rs=[]\n",
    "ts=[]\n",
    "for date in dates[1:]:\n",
    "    directory_name = get_dirname(date,plate)\n",
    "    path_snap=directory+directory_name\n",
    "    skel_info = read_mat(path_snap+'/Analysis/skeleton_pruned.mat')\n",
    "    skel = skel_info['skeleton']\n",
    "    skels.append(skel)\n",
    "    skel_doc = sparse_to_doc(skel)\n",
    "    skel_docs.append(skel_doc)\n",
    "    transform = sio.loadmat(path_snap+'/Analysis/transform.mat')\n",
    "    R,t = transform['R'],transform['t']\n",
    "    Rs.append(R)\n",
    "    ts.append(t)\n"
   ]
  },
  {
   "cell_type": "code",
   "execution_count": 22,
   "metadata": {
    "collapsed": true,
    "jupyter": {
     "outputs_hidden": true
    }
   },
   "outputs": [
    {
     "name": "stdout",
     "output_type": "stream",
     "text": [
      "2020-11-26 06:06:00 40\n"
     ]
    },
    {
     "data": {
      "application/vnd.jupyter.widget-view+json": {
       "model_id": "2a09f070dfc94e76a21cb75f3f8b2086",
       "version_major": 2,
       "version_minor": 0
      },
      "text/plain": [
       "Canvas(toolbar=Toolbar(toolitems=[('Home', 'Reset original view', 'home', 'home'), ('Back', 'Back to previous …"
      ]
     },
     "metadata": {},
     "output_type": "display_data"
    },
    {
     "name": "stdout",
     "output_type": "stream",
     "text": [
      "2020-11-26 10:06:00 41\n"
     ]
    },
    {
     "data": {
      "application/vnd.jupyter.widget-view+json": {
       "model_id": "095bdf0546fd44a494b84c1661095852",
       "version_major": 2,
       "version_minor": 0
      },
      "text/plain": [
       "Canvas(toolbar=Toolbar(toolitems=[('Home', 'Reset original view', 'home', 'home'), ('Back', 'Back to previous …"
      ]
     },
     "metadata": {},
     "output_type": "display_data"
    },
    {
     "name": "stdout",
     "output_type": "stream",
     "text": [
      "2020-11-26 14:12:00 42\n"
     ]
    },
    {
     "data": {
      "application/vnd.jupyter.widget-view+json": {
       "model_id": "2b9fc5d5731740d796957ff537c4d4f6",
       "version_major": 2,
       "version_minor": 0
      },
      "text/plain": [
       "Canvas(toolbar=Toolbar(toolitems=[('Home', 'Reset original view', 'home', 'home'), ('Back', 'Back to previous …"
      ]
     },
     "metadata": {},
     "output_type": "display_data"
    },
    {
     "name": "stdout",
     "output_type": "stream",
     "text": [
      "2020-11-26 18:12:00 43\n"
     ]
    },
    {
     "data": {
      "application/vnd.jupyter.widget-view+json": {
       "model_id": "b8683f86f98349a79abe76874f72c674",
       "version_major": 2,
       "version_minor": 0
      },
      "text/plain": [
       "Canvas(toolbar=Toolbar(toolitems=[('Home', 'Reset original view', 'home', 'home'), ('Back', 'Back to previous …"
      ]
     },
     "metadata": {},
     "output_type": "display_data"
    },
    {
     "name": "stdout",
     "output_type": "stream",
     "text": [
      "2020-11-26 22:12:00 44\n"
     ]
    },
    {
     "data": {
      "application/vnd.jupyter.widget-view+json": {
       "model_id": "5a8ae00ba8c74a54ba0d37f63ba20135",
       "version_major": 2,
       "version_minor": 0
      },
      "text/plain": [
       "Canvas(toolbar=Toolbar(toolitems=[('Home', 'Reset original view', 'home', 'home'), ('Back', 'Back to previous …"
      ]
     },
     "metadata": {},
     "output_type": "display_data"
    },
    {
     "name": "stdout",
     "output_type": "stream",
     "text": [
      "2020-11-27 02:12:00 45\n"
     ]
    },
    {
     "data": {
      "application/vnd.jupyter.widget-view+json": {
       "model_id": "00d310f3a9bf4e15b0badbcff906809d",
       "version_major": 2,
       "version_minor": 0
      },
      "text/plain": [
       "Canvas(toolbar=Toolbar(toolitems=[('Home', 'Reset original view', 'home', 'home'), ('Back', 'Back to previous …"
      ]
     },
     "metadata": {},
     "output_type": "display_data"
    },
    {
     "name": "stdout",
     "output_type": "stream",
     "text": [
      "2020-11-27 06:12:00 46\n"
     ]
    },
    {
     "data": {
      "application/vnd.jupyter.widget-view+json": {
       "model_id": "5cdbf719380941358a3c8e2bc01f7e13",
       "version_major": 2,
       "version_minor": 0
      },
      "text/plain": [
       "Canvas(toolbar=Toolbar(toolitems=[('Home', 'Reset original view', 'home', 'home'), ('Back', 'Back to previous …"
      ]
     },
     "metadata": {},
     "output_type": "display_data"
    },
    {
     "name": "stdout",
     "output_type": "stream",
     "text": [
      "2020-11-27 10:14:00 47\n"
     ]
    },
    {
     "data": {
      "application/vnd.jupyter.widget-view+json": {
       "model_id": "3d7377c9f9d2423183034e97edc706d4",
       "version_major": 2,
       "version_minor": 0
      },
      "text/plain": [
       "Canvas(toolbar=Toolbar(toolitems=[('Home', 'Reset original view', 'home', 'home'), ('Back', 'Back to previous …"
      ]
     },
     "metadata": {},
     "output_type": "display_data"
    },
    {
     "name": "stdout",
     "output_type": "stream",
     "text": [
      "2020-11-27 14:13:00 48\n"
     ]
    },
    {
     "data": {
      "application/vnd.jupyter.widget-view+json": {
       "model_id": "0cdb6fbfac234cf5a9fb39fca19d8ae7",
       "version_major": 2,
       "version_minor": 0
      },
      "text/plain": [
       "Canvas(toolbar=Toolbar(toolitems=[('Home', 'Reset original view', 'home', 'home'), ('Back', 'Back to previous …"
      ]
     },
     "metadata": {},
     "output_type": "display_data"
    },
    {
     "name": "stdout",
     "output_type": "stream",
     "text": [
      "2020-11-27 18:16:00 49\n"
     ]
    },
    {
     "data": {
      "application/vnd.jupyter.widget-view+json": {
       "model_id": "82f454352c994fdda51ec481bfd2c214",
       "version_major": 2,
       "version_minor": 0
      },
      "text/plain": [
       "Canvas(toolbar=Toolbar(toolitems=[('Home', 'Reset original view', 'home', 'home'), ('Back', 'Back to previous …"
      ]
     },
     "metadata": {},
     "output_type": "display_data"
    },
    {
     "name": "stdout",
     "output_type": "stream",
     "text": [
      "2020-11-27 22:16:00 50\n"
     ]
    },
    {
     "data": {
      "application/vnd.jupyter.widget-view+json": {
       "model_id": "ae4063f468ec4d04ba2c240e452876eb",
       "version_major": 2,
       "version_minor": 0
      },
      "text/plain": [
       "Canvas(toolbar=Toolbar(toolitems=[('Home', 'Reset original view', 'home', 'home'), ('Back', 'Back to previous …"
      ]
     },
     "metadata": {},
     "output_type": "display_data"
    },
    {
     "name": "stdout",
     "output_type": "stream",
     "text": [
      "2020-11-28 02:16:00 51\n"
     ]
    },
    {
     "data": {
      "application/vnd.jupyter.widget-view+json": {
       "model_id": "004c8adf373340eda0749d0624dc11b3",
       "version_major": 2,
       "version_minor": 0
      },
      "text/plain": [
       "Canvas(toolbar=Toolbar(toolitems=[('Home', 'Reset original view', 'home', 'home'), ('Back', 'Back to previous …"
      ]
     },
     "metadata": {},
     "output_type": "display_data"
    },
    {
     "name": "stdout",
     "output_type": "stream",
     "text": [
      "2020-11-28 06:16:00 52\n"
     ]
    },
    {
     "data": {
      "application/vnd.jupyter.widget-view+json": {
       "model_id": "5302aee847164d478b03a293584c0f34",
       "version_major": 2,
       "version_minor": 0
      },
      "text/plain": [
       "Canvas(toolbar=Toolbar(toolitems=[('Home', 'Reset original view', 'home', 'home'), ('Back', 'Back to previous …"
      ]
     },
     "metadata": {},
     "output_type": "display_data"
    },
    {
     "name": "stdout",
     "output_type": "stream",
     "text": [
      "2020-11-28 10:16:00 53\n"
     ]
    },
    {
     "data": {
      "application/vnd.jupyter.widget-view+json": {
       "model_id": "aa1681a3771b4c41a16376dc9e300a6e",
       "version_major": 2,
       "version_minor": 0
      },
      "text/plain": [
       "Canvas(toolbar=Toolbar(toolitems=[('Home', 'Reset original view', 'home', 'home'), ('Back', 'Back to previous …"
      ]
     },
     "metadata": {},
     "output_type": "display_data"
    },
    {
     "name": "stdout",
     "output_type": "stream",
     "text": [
      "2020-11-28 14:16:00 54\n"
     ]
    },
    {
     "data": {
      "application/vnd.jupyter.widget-view+json": {
       "model_id": "56e034d28f60441d8c4fc991a683d0d2",
       "version_major": 2,
       "version_minor": 0
      },
      "text/plain": [
       "Canvas(toolbar=Toolbar(toolitems=[('Home', 'Reset original view', 'home', 'home'), ('Back', 'Back to previous …"
      ]
     },
     "metadata": {},
     "output_type": "display_data"
    },
    {
     "name": "stdout",
     "output_type": "stream",
     "text": [
      "2020-11-28 18:16:00 55\n"
     ]
    },
    {
     "data": {
      "application/vnd.jupyter.widget-view+json": {
       "model_id": "beb9ead5857946aeb6c3120c7e3b172c",
       "version_major": 2,
       "version_minor": 0
      },
      "text/plain": [
       "Canvas(toolbar=Toolbar(toolitems=[('Home', 'Reset original view', 'home', 'home'), ('Back', 'Back to previous …"
      ]
     },
     "metadata": {},
     "output_type": "display_data"
    },
    {
     "name": "stdout",
     "output_type": "stream",
     "text": [
      "2020-11-28 22:16:00 56\n"
     ]
    },
    {
     "data": {
      "application/vnd.jupyter.widget-view+json": {
       "model_id": "63e1e2d7061e4a318a83515755f72753",
       "version_major": 2,
       "version_minor": 0
      },
      "text/plain": [
       "Canvas(toolbar=Toolbar(toolitems=[('Home', 'Reset original view', 'home', 'home'), ('Back', 'Back to previous …"
      ]
     },
     "metadata": {},
     "output_type": "display_data"
    },
    {
     "name": "stdout",
     "output_type": "stream",
     "text": [
      "2020-11-29 02:16:00 57\n"
     ]
    },
    {
     "data": {
      "application/vnd.jupyter.widget-view+json": {
       "model_id": "25b6ac238b2345e88041378aa024c5df",
       "version_major": 2,
       "version_minor": 0
      },
      "text/plain": [
       "Canvas(toolbar=Toolbar(toolitems=[('Home', 'Reset original view', 'home', 'home'), ('Back', 'Back to previous …"
      ]
     },
     "metadata": {},
     "output_type": "display_data"
    },
    {
     "name": "stdout",
     "output_type": "stream",
     "text": [
      "2020-11-29 06:16:00 58\n"
     ]
    },
    {
     "data": {
      "application/vnd.jupyter.widget-view+json": {
       "model_id": "1028941b72094231a624d15e516b55be",
       "version_major": 2,
       "version_minor": 0
      },
      "text/plain": [
       "Canvas(toolbar=Toolbar(toolitems=[('Home', 'Reset original view', 'home', 'home'), ('Back', 'Back to previous …"
      ]
     },
     "metadata": {},
     "output_type": "display_data"
    },
    {
     "name": "stdout",
     "output_type": "stream",
     "text": [
      "2020-11-29 14:16:00 59\n"
     ]
    },
    {
     "data": {
      "application/vnd.jupyter.widget-view+json": {
       "model_id": "ecc36508b81e41c1b83cc36785a6d4b4",
       "version_major": 2,
       "version_minor": 0
      },
      "text/plain": [
       "Canvas(toolbar=Toolbar(toolitems=[('Home', 'Reset original view', 'home', 'home'), ('Back', 'Back to previous …"
      ]
     },
     "metadata": {},
     "output_type": "display_data"
    }
   ],
   "source": [
    "plt.close('all')\n",
    "start = 0\n",
    "for j in range(start,start + 20):\n",
    "    print(dates[j],j+begin)\n",
    "    skeleton1,skeleton2 = skel_docs[j],skel_docs[j+1]\n",
    "    R,t = Rs[j+1],ts[j+1]\n",
    "    skelet_pos = np.array(list(skeleton1.keys()))\n",
    "    samples = np.random.choice(skelet_pos.shape[0],20000)\n",
    "    X = np.transpose(skelet_pos[samples,:])\n",
    "    skelet_pos = np.array(list(skeleton2.keys()))\n",
    "    samples = np.random.choice(skelet_pos.shape[0],20000)\n",
    "    Y = np.transpose(skelet_pos[samples,:])\n",
    "    fig=plt.figure(figsize=(10,9))\n",
    "    ax = fig.add_subplot(111)\n",
    "    Yrep=np.transpose(np.transpose(np.dot(R,X))+t)\n",
    "#     ax.scatter(np.transpose(X)[:,0],np.transpose(X)[:,1])\n",
    "    ax.scatter(np.transpose(Yrep)[:,0],np.transpose(Yrep)[:,1])\n",
    "    ax.scatter(np.transpose(Y)[:,0],np.transpose(Y)[:,1])"
   ]
  },
  {
   "cell_type": "markdown",
   "metadata": {},
   "source": [
    "***Create realigned Skeleton***"
   ]
  },
  {
   "cell_type": "code",
   "execution_count": 10,
   "metadata": {},
   "outputs": [],
   "source": [
    "num_parallel = 10\n",
    "time = '50:00'\n",
    "args = [plate, begin, end]\n",
    "run_parallel('realign_surf.py', args, begin, end, num_parallel, time, 'create_realign')"
   ]
  },
  {
   "cell_type": "markdown",
   "metadata": {},
   "source": [
    "***Check Fine Alignment***"
   ]
  },
  {
   "cell_type": "code",
   "execution_count": 15,
   "metadata": {},
   "outputs": [
    {
     "ename": "OSError",
     "evalue": "The file /scratch/shared/AMF914/Fiji.app/20201123_0421_Plate40/Analysis/skeleton_realigned_compressed.mat does not exist.",
     "output_type": "error",
     "traceback": [
      "\u001b[0;31m---------------------------------------------------------------------------\u001b[0m",
      "\u001b[0;31mOSError\u001b[0m                                   Traceback (most recent call last)",
      "\u001b[0;32m<ipython-input-15-1d17c81e2562>\u001b[0m in \u001b[0;36m<module>\u001b[0;34m\u001b[0m\n\u001b[1;32m      9\u001b[0m     \u001b[0mdirectory_name\u001b[0m \u001b[0;34m=\u001b[0m \u001b[0mget_dirname\u001b[0m\u001b[0;34m(\u001b[0m\u001b[0mdate\u001b[0m\u001b[0;34m,\u001b[0m\u001b[0mplate\u001b[0m\u001b[0;34m)\u001b[0m\u001b[0;34m\u001b[0m\u001b[0;34m\u001b[0m\u001b[0m\n\u001b[1;32m     10\u001b[0m     \u001b[0mpath_snap\u001b[0m \u001b[0;34m=\u001b[0m \u001b[0mdirectory\u001b[0m \u001b[0;34m+\u001b[0m \u001b[0mdirectory_name\u001b[0m\u001b[0;34m\u001b[0m\u001b[0;34m\u001b[0m\u001b[0m\n\u001b[0;32m---> 11\u001b[0;31m     \u001b[0mskel_info\u001b[0m \u001b[0;34m=\u001b[0m \u001b[0mread_mat\u001b[0m\u001b[0;34m(\u001b[0m\u001b[0mpath_snap\u001b[0m\u001b[0;34m+\u001b[0m\u001b[0;34m'/Analysis/skeleton_realigned_compressed.mat'\u001b[0m\u001b[0;34m)\u001b[0m\u001b[0;34m\u001b[0m\u001b[0;34m\u001b[0m\u001b[0m\n\u001b[0m\u001b[1;32m     12\u001b[0m     \u001b[0mskel\u001b[0m \u001b[0;34m=\u001b[0m \u001b[0mskel_info\u001b[0m\u001b[0;34m[\u001b[0m\u001b[0;34m'skeleton'\u001b[0m\u001b[0;34m]\u001b[0m\u001b[0;34m\u001b[0m\u001b[0;34m\u001b[0m\u001b[0m\n\u001b[1;32m     13\u001b[0m     \u001b[0mskels\u001b[0m\u001b[0;34m.\u001b[0m\u001b[0mappend\u001b[0m\u001b[0;34m(\u001b[0m\u001b[0mskel\u001b[0m\u001b[0;34m)\u001b[0m\u001b[0;34m\u001b[0m\u001b[0;34m\u001b[0m\u001b[0m\n",
      "\u001b[0;32m~/anaconda3/envs/test/lib/python3.7/site-packages/pymatreader/pymatreader.py\u001b[0m in \u001b[0;36mread_mat\u001b[0;34m(filename, variable_names, ignore_fields, uint16_codec)\u001b[0m\n\u001b[1;32m     74\u001b[0m \u001b[0;34m\u001b[0m\u001b[0m\n\u001b[1;32m     75\u001b[0m     \u001b[0;32mif\u001b[0m \u001b[0;32mnot\u001b[0m \u001b[0mos\u001b[0m\u001b[0;34m.\u001b[0m\u001b[0mpath\u001b[0m\u001b[0;34m.\u001b[0m\u001b[0mexists\u001b[0m\u001b[0;34m(\u001b[0m\u001b[0mfilename\u001b[0m\u001b[0;34m)\u001b[0m\u001b[0;34m:\u001b[0m\u001b[0;34m\u001b[0m\u001b[0;34m\u001b[0m\u001b[0m\n\u001b[0;32m---> 76\u001b[0;31m         \u001b[0;32mraise\u001b[0m \u001b[0mIOError\u001b[0m\u001b[0;34m(\u001b[0m\u001b[0;34m'The file %s does not exist.'\u001b[0m \u001b[0;34m%\u001b[0m \u001b[0;34m(\u001b[0m\u001b[0mfilename\u001b[0m\u001b[0;34m,\u001b[0m\u001b[0;34m)\u001b[0m\u001b[0;34m)\u001b[0m\u001b[0;34m\u001b[0m\u001b[0;34m\u001b[0m\u001b[0m\n\u001b[0m\u001b[1;32m     77\u001b[0m \u001b[0;34m\u001b[0m\u001b[0m\n\u001b[1;32m     78\u001b[0m     \u001b[0;32mif\u001b[0m \u001b[0mignore_fields\u001b[0m \u001b[0;32mis\u001b[0m \u001b[0;32mNone\u001b[0m\u001b[0;34m:\u001b[0m\u001b[0;34m\u001b[0m\u001b[0;34m\u001b[0m\u001b[0m\n",
      "\u001b[0;31mOSError\u001b[0m: The file /scratch/shared/AMF914/Fiji.app/20201123_0421_Plate40/Analysis/skeleton_realigned_compressed.mat does not exist."
     ]
    }
   ],
   "source": [
    "dates_datetime = get_dates_datetime(directory, plate)\n",
    "dates_datetime_chosen = dates_datetime[begin:end+1]\n",
    "dates = dates_datetime_chosen\n",
    "skels = []\n",
    "ims = []\n",
    "kernel = np.ones((5, 5), np.uint8)\n",
    "itera = 1\n",
    "for date in dates:\n",
    "    directory_name = get_dirname(date,plate)\n",
    "    path_snap = directory + directory_name\n",
    "    skel_info = read_mat(path_snap+'/Analysis/skeleton_realigned_compressed.mat')\n",
    "    skel = skel_info['skeleton']\n",
    "    skels.append(skel)\n",
    "    im = read_mat(path_snap+'/Analysis/raw_image.mat')['raw']\n",
    "    ims.append(im)\n"
   ]
  },
  {
   "cell_type": "code",
   "execution_count": 35,
   "metadata": {},
   "outputs": [
    {
     "data": {
      "application/vnd.jupyter.widget-view+json": {
       "model_id": "144dfe06a7b24d4da854fc7db2266a91",
       "version_major": 2,
       "version_minor": 0
      },
      "text/plain": [
       "Canvas(toolbar=Toolbar(toolitems=[('Home', 'Reset original view', 'home', 'home'), ('Back', 'Back to previous …"
      ]
     },
     "metadata": {},
     "output_type": "display_data"
    },
    {
     "data": {
      "application/vnd.jupyter.widget-view+json": {
       "model_id": "f11b7e5c1cfc4dfe9f687af3024f1e82",
       "version_major": 2,
       "version_minor": 0
      },
      "text/plain": [
       "Canvas(toolbar=Toolbar(toolitems=[('Home', 'Reset original view', 'home', 'home'), ('Back', 'Back to previous …"
      ]
     },
     "metadata": {},
     "output_type": "display_data"
    }
   ],
   "source": [
    "plt.close('all')\n",
    "start = 20\n",
    "finish = start + \n",
    "for i in range(start, finish):\n",
    "    plot_t_tp1([],[],None,None,skels[i],skels[i+1])"
   ]
  },
  {
   "cell_type": "code",
   "execution_count": null,
   "metadata": {
    "jupyter": {
     "source_hidden": true
    }
   },
   "outputs": [],
   "source": [
    "plt.close('all')\n",
    "directory = \"/scratch/shared/mrozemul/Fiji.app/\" \n",
    "listdir=os.listdir(directory) \n",
    "list_dir_interest=[name for name in listdir if name.split('_')[-1]==f'Plate{0 if plate<10 else \"\"}{plate}']\n",
    "ss=[name.split('_')[0] for name in list_dir_interest]\n",
    "ff=[name.split('_')[1] for name in list_dir_interest]\n",
    "dates_datetime=[datetime(year=int(ss[i][:4]),month=int(ss[i][4:6]),day=int(ss[i][6:8]),hour=int(ff[i][0:2]),minute=int(ff[i][2:4])) for i in range(len(list_dir_interest))]\n",
    "dates_datetime.sort()\n",
    "begin = 0\n",
    "end = 20\n",
    "dates_datetime_chosen=dates_datetime[begin:end]\n",
    "dates = [f'{0 if date.month<10 else \"\"}{date.month}{0 if date.day<10 else \"\"}{date.day}_{0 if date.hour<10 else \"\"}{date.hour}{0 if date.minute<10 else \"\"}{date.minute}' for date in dates_datetime_chosen]\n",
    "zone = (13000,13000+5000+3000,20000,20000+5000+4096)\n",
    "skels_aligned = []\n",
    "for i,date in enumerate(dates):\n",
    "    directory_name=f'2020{dates[i]}_Plate{0 if plate<10 else \"\"}{plate}'\n",
    "    path_snap='/scratch/shared/mrozemul/Fiji.app/'+directory_name\n",
    "    skels_aligned.append(sio.loadmat(path_snap+'/Analysis/skeleton_realigned.mat')['skeleton'])\n",
    "for i in range(11,13):\n",
    "    plot_t_tp1([],[],None,None,skels_aligned[i][zone[0]:zone[1],zone[2]:zone[3]].todense(),skels_aligned[i+1][zone[0]:zone[1],zone[2]:zone[3]].todense())"
   ]
  },
  {
   "cell_type": "code",
   "execution_count": 20,
   "metadata": {
    "jupyter": {
     "source_hidden": true
    }
   },
   "outputs": [
    {
     "data": {
      "application/vnd.jupyter.widget-view+json": {
       "model_id": "fb707a339c0844d78c56bdeb44b449c6",
       "version_major": 2,
       "version_minor": 0
      },
      "text/plain": [
       "Canvas(toolbar=Toolbar(toolitems=[('Home', 'Reset original view', 'home', 'home'), ('Back', 'Back to previous …"
      ]
     },
     "metadata": {},
     "output_type": "display_data"
    },
    {
     "data": {
      "text/plain": [
       "<matplotlib.image.AxesImage at 0x2b197ba65c10>"
      ]
     },
     "execution_count": 20,
     "metadata": {},
     "output_type": "execute_result"
    }
   ],
   "source": [
    "plt.close('all')\n",
    "zone = (6000,13000,12000,22000)\n",
    "fig=plt.figure(figsize=(10,9))\n",
    "ax = fig.add_subplot(111)\n",
    "ax.imshow(skels_aligned[11][zone[0]:zone[1],zone[2]:zone[3]].todense())"
   ]
  },
  {
   "cell_type": "markdown",
   "metadata": {},
   "source": [
    "***Create graphs***"
   ]
  },
  {
   "cell_type": "code",
   "execution_count": 24,
   "metadata": {},
   "outputs": [],
   "source": [
    "num_parallel = 5\n",
    "time = '30:00'\n",
    "args=[plate]\n",
    "run_parallel('extract_nx_graph.py',args,begin,end,num_parallel,time,'extract_nx')"
   ]
  },
  {
   "cell_type": "markdown",
   "metadata": {},
   "source": [
    "***Identify Nodes***"
   ]
  },
  {
   "cell_type": "code",
   "execution_count": 18,
   "metadata": {},
   "outputs": [],
   "source": [
    "num_parallel = 1\n",
    "time = '24:00:00'\n",
    "args=[plate,begin,end]\n",
    "run_parallel('extract_nodes_surf.py',args,0,0,num_parallel,time,'node_id')"
   ]
  },
  {
   "cell_type": "markdown",
   "metadata": {},
   "source": [
    "***Check Node Id***"
   ]
  },
  {
   "cell_type": "code",
   "execution_count": 44,
   "metadata": {},
   "outputs": [],
   "source": [
    "dates_datetime = get_dates_datetime(directory,plate)\n",
    "dates_datetime_chosen = dates_datetime[begin:end+1]\n",
    "dates = dates_datetime_chosen\n",
    "exp = Experiment(plate)\n",
    "exp.load(dates)"
   ]
  },
  {
   "cell_type": "code",
   "execution_count": 46,
   "metadata": {},
   "outputs": [
    {
     "data": {
      "application/vnd.jupyter.widget-view+json": {
       "model_id": "f6cadd99d73a40349943519bbca1bf41",
       "version_major": 2,
       "version_minor": 0
      },
      "text/plain": [
       "Canvas(toolbar=Toolbar(toolitems=[('Home', 'Reset original view', 'home', 'home'), ('Back', 'Back to previous …"
      ]
     },
     "metadata": {},
     "output_type": "display_data"
    }
   ],
   "source": [
    "plt.close('all')\n",
    "t = 0\n",
    "nodes = np.random.choice(exp.nx_graph[t].nodes, 100)\n",
    "# exp.plot([8,13,14],[[794]]*3)\n",
    "exp.plot([t,t+1,t+2],[nodes]*3)"
   ]
  },
  {
   "cell_type": "markdown",
   "metadata": {},
   "source": [
    "***Hyphae extraction***"
   ]
  },
  {
   "cell_type": "code",
   "execution_count": 50,
   "metadata": {},
   "outputs": [],
   "source": [
    "num_parallel = 1\n",
    "time = '6:00:00'\n",
    "args = [plate, begin, end]\n",
    "run_parallel('hyphae_extraction.py',args,0,0,num_parallel,time,'hyphae')"
   ]
  },
  {
   "cell_type": "markdown",
   "metadata": {},
   "source": [
    "***Check Hyphae***"
   ]
  },
  {
   "cell_type": "code",
   "execution_count": 4,
   "metadata": {},
   "outputs": [
    {
     "name": "stdout",
     "output_type": "stream",
     "text": [
      "begin = 2020-11-19 20:21:00 \n",
      "  end = 2020-11-23 00:21:00\n"
     ]
    },
    {
     "ename": "FileNotFoundError",
     "evalue": "[Errno 2] No such file or directory: '/scratch/shared/AMF914/Fiji.app/Analysis_Plate40_2020-11-19 20:21:00_2021-01-10 11:50:00/experiment_40.pick'",
     "output_type": "error",
     "traceback": [
      "\u001b[0;31m---------------------------------------------------------------------------\u001b[0m",
      "\u001b[0;31mFileNotFoundError\u001b[0m                         Traceback (most recent call last)",
      "\u001b[0;32m<ipython-input-4-df80a6175d88>\u001b[0m in \u001b[0;36m<module>\u001b[0;34m\u001b[0m\n\u001b[1;32m      5\u001b[0m \u001b[0mdates_datetime_chosen\u001b[0m\u001b[0;34m=\u001b[0m\u001b[0mdates_datetime\u001b[0m\u001b[0;34m[\u001b[0m\u001b[0mbegin\u001b[0m\u001b[0;34m:\u001b[0m\u001b[0mend\u001b[0m\u001b[0;34m+\u001b[0m\u001b[0;36m1\u001b[0m\u001b[0;34m]\u001b[0m\u001b[0;34m\u001b[0m\u001b[0;34m\u001b[0m\u001b[0m\n\u001b[1;32m      6\u001b[0m \u001b[0mdates\u001b[0m \u001b[0;34m=\u001b[0m \u001b[0mdates_datetime\u001b[0m\u001b[0;34m\u001b[0m\u001b[0;34m\u001b[0m\u001b[0m\n\u001b[0;32m----> 7\u001b[0;31m \u001b[0mexp\u001b[0m \u001b[0;34m=\u001b[0m \u001b[0mpickle\u001b[0m\u001b[0;34m.\u001b[0m\u001b[0mload\u001b[0m\u001b[0;34m(\u001b[0m \u001b[0mopen\u001b[0m\u001b[0;34m(\u001b[0m\u001b[0;34mf'{directory}Analysis_Plate{plate}_{dates[0]}_{dates[-1]}/experiment_{plate}.pick'\u001b[0m\u001b[0;34m,\u001b[0m \u001b[0;34m\"rb\"\u001b[0m \u001b[0;34m)\u001b[0m \u001b[0;34m)\u001b[0m\u001b[0;34m\u001b[0m\u001b[0;34m\u001b[0m\u001b[0m\n\u001b[0m",
      "\u001b[0;31mFileNotFoundError\u001b[0m: [Errno 2] No such file or directory: '/scratch/shared/AMF914/Fiji.app/Analysis_Plate40_2020-11-19 20:21:00_2021-01-10 11:50:00/experiment_40.pick'"
     ]
    }
   ],
   "source": [
    "from directory import directory\n",
    "\n",
    "dates_datetime = get_dates_datetime(directory,plate)\n",
    "print('begin =',dates_datetime[begin],'\\n  end =',dates_datetime[end])\n",
    "dates_datetime_chosen=dates_datetime[begin:end+1]\n",
    "dates = dates_datetime\n",
    "exp = pickle.load( open(f'{directory}Analysis_Plate{plate}_{dates[0]}_{dates[-1]}/experiment_{plate}.pick', \"rb\" ) )"
   ]
  },
  {
   "cell_type": "code",
   "execution_count": 17,
   "metadata": {},
   "outputs": [
    {
     "data": {
      "text/plain": [
       "[14, 15, 16, 17]"
      ]
     },
     "execution_count": 17,
     "metadata": {},
     "output_type": "execute_result"
    }
   ],
   "source": [
    "hyph = choice(exp.hyphaes)\n",
    "hyph.ts"
   ]
  },
  {
   "cell_type": "code",
   "execution_count": 18,
   "metadata": {},
   "outputs": [
    {
     "name": "stderr",
     "output_type": "stream",
     "text": [
      "/home/cbisot/anaconda3/envs/test/lib/python3.7/site-packages/matplotlib/__init__.py:880: MatplotlibDeprecationWarning: \n",
      "nbagg.transparent\n",
      "  version, key, obj_type=\"rcparam\", alternative=alt_key)\n"
     ]
    },
    {
     "data": {
      "application/vnd.jupyter.widget-view+json": {
       "model_id": "2e05c4fd35d74bc1a5a577a4701049db",
       "version_major": 2,
       "version_minor": 0
      },
      "text/plain": [
       "Canvas(toolbar=Toolbar(toolitems=[('Home', 'Reset original view', 'home', 'home'), ('Back', 'Back to previous …"
      ]
     },
     "metadata": {},
     "output_type": "display_data"
    }
   ],
   "source": [
    "plt.close('all')\n",
    "hyph.end.show_source_image(hyph.ts[-1],hyph.ts[-1])"
   ]
  },
  {
   "cell_type": "code",
   "execution_count": 19,
   "metadata": {},
   "outputs": [
    {
     "data": {
      "application/vnd.jupyter.widget-view+json": {
       "model_id": "ca00c5a74d4841fb9514084136fa0f48",
       "version_major": 2,
       "version_minor": 0
      },
      "text/plain": [
       "Canvas(toolbar=Toolbar(toolitems=[('Home', 'Reset original view', 'home', 'home'), ('Back', 'Back to previous …"
      ]
     },
     "metadata": {},
     "output_type": "display_data"
    }
   ],
   "source": [
    "plt.close('all')\n",
    "exp.plot([0,hyph.ts[-2],hyph.ts[-1]],[[hyph.root.label,hyph.end.label]]*3)"
   ]
  }
 ],
 "metadata": {
  "kernelspec": {
   "display_name": "Python 3",
   "language": "python",
   "name": "python3"
  },
  "language_info": {
   "codemirror_mode": {
    "name": "ipython",
    "version": 3
   },
   "file_extension": ".py",
   "mimetype": "text/x-python",
   "name": "python",
   "nbconvert_exporter": "python",
   "pygments_lexer": "ipython3",
   "version": "3.7.7"
  }
 },
 "nbformat": 4,
 "nbformat_minor": 4
}

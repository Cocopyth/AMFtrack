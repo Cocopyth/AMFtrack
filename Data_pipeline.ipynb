{
 "cells": [
  {
   "cell_type": "code",
   "execution_count": 1,
   "metadata": {},
   "outputs": [],
   "source": [
    "%matplotlib widget\n",
    "from util import get_path, get_dates_datetime\n",
    "import pandas as pd\n",
    "import networkx as nx\n",
    "import numpy as np\n",
    "import matplotlib.pyplot as plt\n",
    "from extract_graph import generate_nx_graph, transform_list, generate_skeleton, generate_nx_graph_from_skeleton, from_connection_tab, from_nx_to_tab\n",
    "from node_id import whole_movement_identification, second_identification\n",
    "import ast\n",
    "from plotutil import plot_t_tp1, compress_skeleton\n",
    "from scipy import sparse\n",
    "from sparse_util import dilate, zhangSuen\n",
    "from realign import realign\n",
    "from datetime import datetime,timedelta\n",
    "from node_id import orient\n",
    "import pickle\n",
    "from matplotlib.widgets import CheckButtons\n",
    "import scipy.io as sio\n",
    "import imageio\n",
    "from pymatreader import read_mat\n",
    "from matplotlib import colors\n",
    "from copy import deepcopy,copy\n",
    "from collections import Counter\n",
    "import cv2 \n",
    "import imageio\n",
    "import matplotlib.pyplot as plt\n",
    "import numpy as np\n",
    "from skimage.filters import frangi, meijering\n",
    "from skimage.morphology import thin\n",
    "from skimage import data, filters\n",
    "from random import choice\n",
    "import scipy.sparse\n",
    "import os\n",
    "from time import time\n",
    "from extract_graph import dic_to_sparse, from_sparse_to_graph, generate_nx_graph, prune_graph, from_nx_to_tab, from_nx_to_tab_matlab,sparse_to_doc, connections_pixel_list_to_tab, transform_list, clean_degree_4\n",
    "from time import sleep\n",
    "from skimage.feature import hessian_matrix_det\n",
    "from experiment_class_surf import Experiment,clean_exp_with_hyphaes\n",
    "from hyphae_id_surf import clean_and_relabel, get_mother, save_hyphaes, resolve_ambiguity_two_ends,solve_degree4, clean_obvious_fake_tips\n"
   ]
  },
  {
   "cell_type": "markdown",
   "metadata": {},
   "source": [
    "***Chose plate number***"
   ]
  },
  {
   "cell_type": "code",
   "execution_count": 2,
   "metadata": {},
   "outputs": [],
   "source": [
    "plate = 3"
   ]
  },
  {
   "cell_type": "markdown",
   "metadata": {},
   "source": [
    "***Chose directory of interest where the folders with images are***\n",
    "\n",
    "- the output of this  cell is the number of folders of interest where images can be found"
   ]
  },
  {
   "cell_type": "code",
   "execution_count": 3,
   "metadata": {},
   "outputs": [
    {
     "data": {
      "text/plain": [
       "20"
      ]
     },
     "execution_count": 3,
     "metadata": {},
     "output_type": "execute_result"
    }
   ],
   "source": [
    "directory = \"/scratch/shared/mrozemul/Fiji.app/\" \n",
    "listdir=os.listdir(directory) \n",
    "list_dir_interest=[name for name in listdir if name.split('_')[-1]==f'Plate{0 if plate<10 else \"\"}{plate}']\n",
    "len(list_dir_interest)"
   ]
  },
  {
   "cell_type": "markdown",
   "metadata": {},
   "source": [
    "***Chose timestep to begin with and folder to end with***"
   ]
  },
  {
   "cell_type": "code",
   "execution_count": 4,
   "metadata": {},
   "outputs": [
    {
     "name": "stdout",
     "output_type": "stream",
     "text": [
      "begin = 2020-08-14 00:57:00 \n",
      "  end = 2020-08-17 04:57:00\n"
     ]
    }
   ],
   "source": [
    "dates_datetime = get_dates_datetime(directory,plate)\n",
    "begin = 0\n",
    "end = 19\n",
    "print('begin =',dates_datetime[begin],'\\n  end =',dates_datetime[end])"
   ]
  },
  {
   "cell_type": "markdown",
   "metadata": {},
   "source": [
    "***Compress raw image***"
   ]
  },
  {
   "cell_type": "code",
   "execution_count": 31,
   "metadata": {
    "collapsed": true,
    "jupyter": {
     "outputs_hidden": true,
     "source_hidden": true
    }
   },
   "outputs": [
    {
     "name": "stdout",
     "output_type": "stream",
     "text": [
      "Submitted batch job 9449576\n",
      "Submitted batch job 9449577\n",
      "Submitted batch job 9449578\n",
      "Submitted batch job 9449579\n",
      "Submitted batch job 9449580\n"
     ]
    }
   ],
   "source": [
    "num_parallel = 4\n",
    "begin_skel = begin//num_parallel\n",
    "end_skel = (end+1)//num_parallel\n",
    "for j in range(begin_skel,end_skel):\n",
    "    ide=int(datetime.now().timestamp())\n",
    "    start = num_parallel*j\n",
    "    stop = num_parallel*j+num_parallel-1\n",
    "    my_file = open(\"/scratch/shared/mrozemul/Fiji.app/extract_skel.sh\", \"w\")\n",
    "    my_file.write(\"#!/bin/bash \\n#Set job requirements \\n#SBATCH -N 1 \\n#SBATCH -t 2:00\\n#SBATCH -p normal\\n\")\n",
    "    my_file.write(f'#SBATCH -o \"/home/mrozemul/Corentin/MscThesis/slurm/compress_{plate}_{4*j}_{4*j+3}_{ide}.out\" \\n')\n",
    "    my_file.write(f'for i in `seq {4*j} {4*j+3}`; do\\n')\n",
    "    my_file.write(f'\\t python /home/mrozemul/Corentin/MscThesis/compress_image.py $i {plate} &\\n')\n",
    "    my_file.write('done\\n')\n",
    "    my_file.write('wait\\n')\n",
    "    my_file.close()\n",
    "    !sbatch /scratch/shared/mrozemul/Fiji.app/extract_skel.sh"
   ]
  },
  {
   "cell_type": "markdown",
   "metadata": {},
   "source": [
    "***Skeletonization***\n",
    "- Only 4 skeletonization processes can be run in parallel on one node"
   ]
  },
  {
   "cell_type": "code",
   "execution_count": 13,
   "metadata": {
    "collapsed": true,
    "jupyter": {
     "outputs_hidden": true
    }
   },
   "outputs": [
    {
     "name": "stdout",
     "output_type": "stream",
     "text": [
      "Submitted batch job 9449524\n",
      "Submitted batch job 9449525\n",
      "Submitted batch job 9449526\n",
      "Submitted batch job 9449527\n",
      "Submitted batch job 9449528\n"
     ]
    }
   ],
   "source": [
    "num_parallel = 4\n",
    "begin_skel = begin//num_parallel\n",
    "end_skel = (end+1)//num_parallel\n",
    "for j in range(begin_skel,end_skel):\n",
    "    ide=int(datetime.now().timestamp())\n",
    "    start = num_parallel*j\n",
    "    stop = num_parallel*j+num_parallel-1\n",
    "    my_file = open(f'{directory}extract_skel.sh', \"w\")\n",
    "    my_file.write(\"#!/bin/bash \\n#Set job requirements \\n#SBATCH -N 1 \\n#SBATCH -t 2:00:00\\n#SBATCH -p normal\\n\")\n",
    "    my_file.write(f'#SBATCH -o \"/home/mrozemul/Corentin/MscThesis/slurm/skeletonization_{plate}_{start}_{stop}_{ide}.out\" \\n')\n",
    "    my_file.write(f'for i in `seq {start} {stop}`; do\\n')\n",
    "    my_file.write(f'\\t python ~/Corentin/MscThesis/extract_skel_surf.py $i {plate} &\\n')\n",
    "    my_file.write('done\\n')\n",
    "    my_file.write('wait\\n')\n",
    "    my_file.close()\n",
    "# !srun -t 2:00:00 --pty /scratch/shared/mrozemul/Fiji.app/extract_skel.sh\n",
    "    !sbatch /scratch/shared/mrozemul/Fiji.app/extract_skel.sh"
   ]
  },
  {
   "cell_type": "markdown",
   "metadata": {},
   "source": [
    "***Check Skeletonization***\n",
    "- The first cell loads the skeleton and the compressed raw image\n",
    "- The second cell shows the overlap of the skeleton and the raw image"
   ]
  },
  {
   "cell_type": "code",
   "execution_count": 46,
   "metadata": {},
   "outputs": [],
   "source": [
    "dates_datetime = get_dates_datetime(directory,plate)\n",
    "dates_datetime_chosen=dates_datetime[begin:end+1]\n",
    "dates = [f'{0 if date.month<10 else \"\"}{date.month}{0 if date.day<10 else \"\"}{date.day}_{0 if date.hour<10 else \"\"}{date.hour}{0 if date.minute<10 else \"\"}{date.minute}' for date in dates_datetime_chosen]\n",
    "skels = []\n",
    "ims = []\n",
    "kernel = np.ones((5,5),np.uint8)\n",
    "itera = 1\n",
    "for date in dates:\n",
    "    directory_name=f'2020{date}_Plate{0 if plate<10 else \"\"}{plate}'\n",
    "    path_snap=directory+directory_name\n",
    "    skel_info = read_mat(path_snap+'/Analysis/skeleton_compressed.mat')\n",
    "    skel = skel_info['skeleton']\n",
    "    skels.append(cv2.dilate(skel.astype(np.uint8),kernel,iterations = itera))\n",
    "    im = read_mat(path_snap+'/Analysis/raw_image.mat')['raw']\n",
    "    ims.append(im)"
   ]
  },
  {
   "cell_type": "markdown",
   "metadata": {},
   "source": [
    "- Chose start and finish to display the overlap of the skeleton and the raw image : no more than 10 at a time or jupyter will crash.\n",
    "- For display purpose, everything is compressed so connectivity may be lost\n",
    "- colors are just a feature of compression"
   ]
  },
  {
   "cell_type": "code",
   "execution_count": 47,
   "metadata": {},
   "outputs": [
    {
     "data": {
      "application/vnd.jupyter.widget-view+json": {
       "model_id": "1449429856504cab83aa36794564fcf4",
       "version_major": 2,
       "version_minor": 0
      },
      "text/plain": [
       "Canvas(toolbar=Toolbar(toolitems=[('Home', 'Reset original view', 'home', 'home'), ('Back', 'Back to previous …"
      ]
     },
     "metadata": {},
     "output_type": "display_data"
    },
    {
     "data": {
      "application/vnd.jupyter.widget-view+json": {
       "model_id": "b2256fda7acc45fbb7e9984fb3272b6a",
       "version_major": 2,
       "version_minor": 0
      },
      "text/plain": [
       "Canvas(toolbar=Toolbar(toolitems=[('Home', 'Reset original view', 'home', 'home'), ('Back', 'Back to previous …"
      ]
     },
     "metadata": {},
     "output_type": "display_data"
    },
    {
     "data": {
      "application/vnd.jupyter.widget-view+json": {
       "model_id": "81523e82c26a4c2cb6f95af5c4964a97",
       "version_major": 2,
       "version_minor": 0
      },
      "text/plain": [
       "Canvas(toolbar=Toolbar(toolitems=[('Home', 'Reset original view', 'home', 'home'), ('Back', 'Back to previous …"
      ]
     },
     "metadata": {},
     "output_type": "display_data"
    },
    {
     "data": {
      "application/vnd.jupyter.widget-view+json": {
       "model_id": "5acb9bc7c9ab4a719c4518c0fa17b3b9",
       "version_major": 2,
       "version_minor": 0
      },
      "text/plain": [
       "Canvas(toolbar=Toolbar(toolitems=[('Home', 'Reset original view', 'home', 'home'), ('Back', 'Back to previous …"
      ]
     },
     "metadata": {},
     "output_type": "display_data"
    },
    {
     "data": {
      "application/vnd.jupyter.widget-view+json": {
       "model_id": "963ac6d1543b4c9a820f7d1ffa90ba3e",
       "version_major": 2,
       "version_minor": 0
      },
      "text/plain": [
       "Canvas(toolbar=Toolbar(toolitems=[('Home', 'Reset original view', 'home', 'home'), ('Back', 'Back to previous …"
      ]
     },
     "metadata": {},
     "output_type": "display_data"
    }
   ],
   "source": [
    "plt.close('all')\n",
    "start = 0\n",
    "finish = start +5\n",
    "for i in range(start,finish):\n",
    "    plot_t_tp1([],[],None,None,skels[i],ims[i])"
   ]
  },
  {
   "cell_type": "markdown",
   "metadata": {},
   "source": [
    "***Check specific image***\n",
    "- If something wrong is noticed in one of the skeletons one can chose to look closer at one of the images\n",
    "- chose ***i*** equal to the timestep where something wrong has been noticed "
   ]
  },
  {
   "cell_type": "code",
   "execution_count": 5,
   "metadata": {},
   "outputs": [],
   "source": [
    "#chose i equal to the timestep where something wrong has been noticed \n",
    "i = 0\n",
    "\n",
    "dates_datetime = get_dates_datetime(directory,plate)\n",
    "dates_datetime_chosen=dates_datetime\n",
    "dates = [f'{0 if date.month<10 else \"\"}{date.month}{0 if date.day<10 else \"\"}{date.day}_{0 if date.hour<10 else \"\"}{date.hour}{0 if date.minute<10 else \"\"}{date.minute}' for date in dates_datetime_chosen]\n",
    "date =dates [i]\n",
    "directory_name=f'2020{date}_Plate{0 if plate<10 else \"\"}{plate}'\n",
    "path_snap=directory+directory_name\n",
    "path_tile=path_snap+'/Img/TileConfiguration.txt.registered'\n",
    "try:\n",
    "    tileconfig = pd.read_table(path_tile,sep=';',skiprows=4,header=None,converters={2 : ast.literal_eval},skipinitialspace=True)\n",
    "except:\n",
    "    print('error_name')\n",
    "    path_tile=path_snap+'/Img/TileConfiguration.registered.txt'\n",
    "    tileconfig = pd.read_table(path_tile,sep=';',skiprows=4,header=None,converters={2 : ast.literal_eval},skipinitialspace=True)\n",
    "t=time()\n",
    "xs =[c[0] for c in tileconfig[2]]\n",
    "ys =[c[1] for c in tileconfig[2]]\n",
    "dim = (int(np.max(ys)-np.min(ys))+4096,int(np.max(xs)-np.min(xs))+4096)\n",
    "ims = []\n",
    "for name in tileconfig[0]:\n",
    "#     ims.append(imageio.imread('//sun.amolf.nl/shimizu-data/home-folder/oyartegalvez/Drive_AMFtopology/PRINCE'+date_plate+plate_str+'/Img/'+name))\n",
    "    ims.append(imageio.imread(f'{name}'))\n"
   ]
  },
  {
   "cell_type": "markdown",
   "metadata": {},
   "source": [
    "- Chose a x,y position where you want to see how the skeletonization process went (x is the scale on the left on the images and y is the bottom scale)\n",
    "- You can chose to display different part of the filter par commenting/uncommenting"
   ]
  },
  {
   "cell_type": "code",
   "execution_count": 6,
   "metadata": {},
   "outputs": [
    {
     "name": "stdout",
     "output_type": "stream",
     "text": [
      "79\n",
      "Raw image\n",
      "Raw image with background removed\n"
     ]
    },
    {
     "data": {
      "application/vnd.jupyter.widget-view+json": {
       "model_id": "a0e507d5cb2b431f8a996fe0dbdf1622",
       "version_major": 2,
       "version_minor": 0
      },
      "text/plain": [
       "Canvas(toolbar=Toolbar(toolitems=[('Home', 'Reset original view', 'home', 'home'), ('Back', 'Back to previous …"
      ]
     },
     "metadata": {},
     "output_type": "display_data"
    },
    {
     "data": {
      "application/vnd.jupyter.widget-view+json": {
       "model_id": "791b5b0c744c481c939927dbe3c8fd62",
       "version_major": 2,
       "version_minor": 0
      },
      "text/plain": [
       "Canvas(toolbar=Toolbar(toolitems=[('Home', 'Reset original view', 'home', 'home'), ('Back', 'Back to previous …"
      ]
     },
     "metadata": {},
     "output_type": "display_data"
    },
    {
     "data": {
      "application/vnd.jupyter.widget-view+json": {
       "model_id": "7865b143ec5646a2bfe230201572231c",
       "version_major": 2,
       "version_minor": 0
      },
      "text/plain": [
       "Canvas(toolbar=Toolbar(toolitems=[('Home', 'Reset original view', 'home', 'home'), ('Back', 'Back to previous …"
      ]
     },
     "metadata": {},
     "output_type": "display_data"
    }
   ],
   "source": [
    "plt.close('all')\n",
    "\n",
    "#chose a spot where to look closer at\n",
    "linex  = 3500\n",
    "liney = 1500\n",
    "\n",
    "shape = (3000,4096)\n",
    "linex *= 5\n",
    "liney *= 5\n",
    "for index,im in enumerate(ims):\n",
    "    boundaries = int(tileconfig[2][index][0]-np.min(xs)),int(tileconfig[2][index][1]-np.min(ys))\n",
    "    if boundaries[1]<=linex< boundaries[1]+shape[0] and boundaries[0]<=liney< boundaries[0]+shape[1]:\n",
    "        print(index)\n",
    "        im_cropped = im\n",
    "        im_blurred =cv2.blur(im_cropped, (200, 200))\n",
    "        im_back_rem = (im_cropped+1)/(im_blurred+1)*120\n",
    "        # # im_back_rem = im_cropped*1.0\n",
    "        # # # im_back_rem = cv2.normalize(im_back_rem, None, 0, 255, cv2.NORM_MINMAX)\n",
    "        frangised = frangi(im_back_rem,sigmas=range(1,20,4))*255\n",
    "        # # frangised = cv2.normalize(frangised, None, 0, 255, cv2.NORM_MINMAX)\n",
    "        hessian = hessian_matrix_det(im_back_rem,sigma = 20)\n",
    "        blur_hessian = cv2.blur(abs(hessian), (20, 20))\n",
    "        #     transformed = (frangised+cv2.normalize(blur_hessian, None, 0, 255, cv2.NORM_MINMAX)-im_back_rem+120)*(im_blurred>=35)\n",
    "        #     transformed = (frangised+cv2.normalize(abs(hessian), None, 0, 255, cv2.NORM_MINMAX)-im_back_rem+120)*(im_blurred>=35)\n",
    "        transformed = (frangised-im_back_rem+120)*(im_blurred>=35)\n",
    "        low = 20\n",
    "        high = 100\n",
    "        lowt = (transformed > low).astype(int)\n",
    "        hight = (transformed > high).astype(int)\n",
    "        hyst = filters.apply_hysteresis_threshold(transformed, low, high)\n",
    "        kernel = np.ones((3,3),np.uint8)\n",
    "        dilation = cv2.dilate(hyst.astype(np.uint8) * 255,kernel,iterations = 1)\n",
    "        for i in range(3):\n",
    "            dilation=cv2.erode(dilation.astype(np.uint8) * 255,kernel,iterations = 1)\n",
    "            dilation = cv2.dilate(dilation.astype(np.uint8) * 255,kernel,iterations = 1)\n",
    "        dilated = dilation>0\n",
    "        skeletonized = cv2.ximgproc.thinning(np.array(255*dilated,dtype=np.uint8))\n",
    "#         hessian = hessian_matrix_det(dilated,sigma = 15)\n",
    "#         hessian = cv2.normalize(-hessian, None, 0, 255, cv2.NORM_MINMAX)\n",
    "#         kernel = np.ones((5,5),np.uint8)\n",
    "#         junction_connecter = hessian>165\n",
    "#         junction_connecter =  cv2.dilate(junction_connecter.astype(np.uint8) * 255,kernel,iterations = 5)\n",
    "\n",
    "        print('Raw image')\n",
    "#         fig=plt.figure(figsize=(10,9))\n",
    "#         ax = fig.add_subplot(111)\n",
    "#         ax.imshow(im)\n",
    "        print('Raw image with background removed')\n",
    "        fig=plt.figure(figsize=(10,9))\n",
    "        ax = fig.add_subplot(111)\n",
    "        ax.imshow(im_back_rem)\n",
    "#         print('frangised image')\n",
    "#         fig=plt.figure(figsize=(10,9))\n",
    "#         ax = fig.add_subplot(111)\n",
    "#         ax.imshow(frangised)\n",
    "#         print('final transformed image')\n",
    "        fig=plt.figure(figsize=(10,9))\n",
    "        ax = fig.add_subplot(111)\n",
    "        ax.imshow(transformed)\n",
    "#         print('threhsolded image')\n",
    "#         fig=plt.figure(figsize=(10,9))\n",
    "#         ax = fig.add_subplot(111)\n",
    "#         ax.imshow(dilated-junction_connecter>0)\n",
    "        fig=plt.figure(figsize=(10,9))\n",
    "        ax = fig.add_subplot(111)\n",
    "        ax.imshow(dilated)\n",
    "#         fig=plt.figure(figsize=(10,9))\n",
    "#         ax = fig.add_subplot(111)\n",
    "#         ax.imshow(cv2.normalize(abs(hessian), None, 0, 255, cv2.NORM_MINMAX)-255*dilated)\n",
    "        plot_t_tp1([],[],None,None,dilated,skeletonized)"
   ]
  },
  {
   "cell_type": "code",
   "execution_count": 41,
   "metadata": {},
   "outputs": [
    {
     "data": {
      "application/vnd.jupyter.widget-view+json": {
       "model_id": "32ad060a0e6641b7a911f0b0919bfb61",
       "version_major": 2,
       "version_minor": 0
      },
      "text/plain": [
       "Canvas(toolbar=Toolbar(toolitems=[('Home', 'Reset original view', 'home', 'home'), ('Back', 'Back to previous …"
      ]
     },
     "metadata": {},
     "output_type": "display_data"
    },
    {
     "data": {
      "text/plain": [
       "<matplotlib.image.AxesImage at 0x2b9e92330d90>"
      ]
     },
     "execution_count": 41,
     "metadata": {},
     "output_type": "execute_result"
    }
   ],
   "source": [
    "plt.close('all')\n",
    "transformed = (frangised-im_back_rem+120)*(im_blurred>=35)\n",
    "fig=plt.figure(figsize=(10,9))\n",
    "ax = fig.add_subplot(111)\n",
    "test=np.copy(im_back_rem)\n",
    "test[test >= 130] =130\n",
    "# im_back_rem = (im_cropped+1)/(im_blurred+1)*120\n",
    "ax.imshow(test)"
   ]
  },
  {
   "cell_type": "code",
   "execution_count": 22,
   "metadata": {},
   "outputs": [],
   "source": [
    "hessian = hessian_matrix_det(frangised,sigma = 15)\n",
    "hessian = cv2.normalize(-hessian, None, 0, 255, cv2.NORM_MINMAX)"
   ]
  },
  {
   "cell_type": "code",
   "execution_count": 28,
   "metadata": {},
   "outputs": [
    {
     "data": {
      "application/vnd.jupyter.widget-view+json": {
       "model_id": "c00d25f9777c40fcb23705b9b171980b",
       "version_major": 2,
       "version_minor": 0
      },
      "text/plain": [
       "Canvas(toolbar=Toolbar(toolitems=[('Home', 'Reset original view', 'home', 'home'), ('Back', 'Back to previous …"
      ]
     },
     "metadata": {},
     "output_type": "display_data"
    },
    {
     "data": {
      "text/plain": [
       "<matplotlib.image.AxesImage at 0x2b9e91c0ae10>"
      ]
     },
     "execution_count": 28,
     "metadata": {},
     "output_type": "execute_result"
    }
   ],
   "source": [
    "fig=plt.figure(figsize=(10,9))\n",
    "ax = fig.add_subplot(111)\n",
    "ax.imshow(transformed)"
   ]
  },
  {
   "cell_type": "code",
   "execution_count": 57,
   "metadata": {},
   "outputs": [
    {
     "data": {
      "application/vnd.jupyter.widget-view+json": {
       "model_id": "c7d565adb2a440b5983edc062a946d0c",
       "version_major": 2,
       "version_minor": 0
      },
      "text/plain": [
       "Canvas(toolbar=Toolbar(toolitems=[('Home', 'Reset original view', 'home', 'home'), ('Back', 'Back to previous …"
      ]
     },
     "metadata": {},
     "output_type": "display_data"
    },
    {
     "data": {
      "text/plain": [
       "<matplotlib.image.AxesImage at 0x2b31728e8310>"
      ]
     },
     "execution_count": 57,
     "metadata": {},
     "output_type": "execute_result"
    }
   ],
   "source": [
    "fig=plt.figure(figsize=(10,9))\n",
    "ax = fig.add_subplot(111)\n",
    "ax.imshow(hessian)"
   ]
  },
  {
   "cell_type": "markdown",
   "metadata": {},
   "source": [
    "***Mask baits and border of the petri dish***"
   ]
  },
  {
   "cell_type": "code",
   "execution_count": 14,
   "metadata": {},
   "outputs": [
    {
     "name": "stdout",
     "output_type": "stream",
     "text": [
      "Submitted batch job 9448827\n",
      "Submitted batch job 9448828\n",
      "Submitted batch job 9448829\n",
      "Submitted batch job 9448830\n",
      "Submitted batch job 9448831\n",
      "Submitted batch job 9448832\n"
     ]
    }
   ],
   "source": [
    "for j in range(0,6):\n",
    "    ide=int(datetime.now().timestamp())\n",
    "    my_file = open(\"/scratch/shared/mrozemul/Fiji.app/extract_skel.sh\", \"w\")\n",
    "    my_file.write(\"#!/bin/bash \\n#Set job requirements \\n#SBATCH -N 1 \\n#SBATCH -t 5:00\\n#SBATCH -p normal\\n\")\n",
    "    my_file.write(f'#SBATCH -o \"/home/mrozemul/Corentin/MscThesis/slurm/mask_{plate}_{4*j}_{4*j+3}_{ide}.out\" \\n')\n",
    "    my_file.write(f'for i in `seq {4*j} {4*j+3}`; do\\n')\n",
    "    my_file.write(f'\\t python /home/mrozemul/Corentin/MscThesis/mask_skel.py $i {plate} &\\n')\n",
    "    my_file.write('done\\n')\n",
    "    my_file.write('wait\\n')\n",
    "    my_file.close()\n",
    "    !sbatch /scratch/shared/mrozemul/Fiji.app/extract_skel.sh"
   ]
  },
  {
   "cell_type": "markdown",
   "metadata": {},
   "source": [
    "***Realign***"
   ]
  },
  {
   "cell_type": "code",
   "execution_count": 4,
   "metadata": {},
   "outputs": [
    {
     "name": "stdout",
     "output_type": "stream",
     "text": [
      "Submitted batch job 9446451\n",
      "Submitted batch job 9446452\n",
      "Submitted batch job 9446453\n",
      "Submitted batch job 9446454\n",
      "Submitted batch job 9446455\n",
      "Submitted batch job 9446456\n",
      "Submitted batch job 9446457\n",
      "Submitted batch job 9446458\n"
     ]
    }
   ],
   "source": [
    "for j in range(0,8):\n",
    "    ide=int(datetime.now().timestamp())\n",
    "    my_file = open(\"/scratch/shared/mrozemul/Fiji.app/align.sh\", \"w\")\n",
    "    my_file.write(\"#!/bin/bash \\n#Set job requirements \\n#SBATCH -N 1 \\n#SBATCH -t 2:00:00\\n#SBATCH -p normal\\n\")\n",
    "    my_file.write(f'for i in `seq {8*j} {8*j+7}`; do\\n')\n",
    "    my_file.write(f'\\t python ~/Corentin/MscThesis/final_alignment.py $i {plate} &\\n')\n",
    "    my_file.write('done\\n')\n",
    "    my_file.write('wait\\n')\n",
    "    my_file.close()\n",
    "# !srun -t 2:00:00 --pty /scratch/shared/mrozemul/Fiji.app/align.sh\n",
    "    !sbatch /scratch/shared/mrozemul/Fiji.app/align.sh"
   ]
  },
  {
   "cell_type": "markdown",
   "metadata": {},
   "source": [
    "***Check Alignment***"
   ]
  },
  {
   "cell_type": "code",
   "execution_count": 87,
   "metadata": {},
   "outputs": [],
   "source": [
    "plt.close('all')\n",
    "directory = \"/scratch/shared/mrozemul/Fiji.app/\" \n",
    "listdir=os.listdir(directory) \n",
    "list_dir_interest=[name for name in listdir if name.split('_')[-1]==f'Plate{0 if plate<10 else \"\"}{plate}']\n",
    "ss=[name.split('_')[0] for name in list_dir_interest]\n",
    "ff=[name.split('_')[1] for name in list_dir_interest]\n",
    "dates_datetime=[datetime(year=int(ss[i][:4]),month=int(ss[i][4:6]),day=int(ss[i][6:8]),hour=int(ff[i][0:2]),minute=int(ff[i][2:4])) for i in range(len(list_dir_interest))]\n",
    "dates_datetime.sort()\n",
    "dates_datetime_chosen=dates_datetime[begin:end+1]\n",
    "dates = [f'{0 if date.month<10 else \"\"}{date.month}{0 if date.day<10 else \"\"}{date.day}_{0 if date.hour<10 else \"\"}{date.hour}{0 if date.minute<10 else \"\"}{date.minute}' for date in dates_datetime_chosen]\n",
    "dilateds=[]\n",
    "skels = []\n",
    "skel_docs = []\n",
    "directory_name=f'2020{dates[0]}_Plate{0 if plate<10 else \"\"}{plate}'\n",
    "path_snap='/scratch/shared/mrozemul/Fiji.app/'+directory_name\n",
    "skel_info = read_mat(path_snap+'/Analysis/skeleton.mat')\n",
    "skel = skel_info['skeleton']\n",
    "skels.append(skel)\n",
    "skel_doc = sparse_to_doc(skel)\n",
    "skel_docs.append(skel_doc)\n",
    "Rs=[]\n",
    "ts=[]\n",
    "for date in dates[1:]:\n",
    "    directory_name=f'2020{date}_Plate{0 if plate<10 else \"\"}{plate}'\n",
    "    path_snap='/scratch/shared/mrozemul/Fiji.app/'+directory_name\n",
    "    skel_info = read_mat(path_snap+'/Analysis/skeleton.mat')\n",
    "    skel = skel_info['skeleton']\n",
    "    skels.append(skel)\n",
    "    skel_doc = sparse_to_doc(skel)\n",
    "    skel_docs.append(skel_doc)\n",
    "    transform = sio.loadmat(path_snap+'/Analysis/transform.mat')\n",
    "    R,t = transform['R'],transform['t']\n",
    "    Rs.append(R)\n",
    "    ts.append(t)\n",
    "# start = 0\n",
    "# for j in range(start,start + 5):\n",
    "#     print(dates[j],j+begin)\n",
    "#     skeleton1,skeleton2 = skel_docs[j],skel_docs[j+1]\n",
    "#     R,t = Rs[j],ts[j]\n",
    "#     skelet_pos = np.array(list(skeleton1.keys()))\n",
    "#     samples = np.random.choice(skelet_pos.shape[0],20000)\n",
    "#     X = np.transpose(skelet_pos[samples,:])\n",
    "#     skelet_pos = np.array(list(skeleton2.keys()))\n",
    "#     samples = np.random.choice(skelet_pos.shape[0],20000)\n",
    "#     Y = np.transpose(skelet_pos[samples,:])\n",
    "#     fig=plt.figure(figsize=(10,9))\n",
    "#     ax = fig.add_subplot(111)\n",
    "#     Yrep=np.transpose(np.transpose(np.dot(R,X))+t)\n",
    "#     ax.scatter(np.transpose(Yrep)[:,0],np.transpose(Yrep)[:,1])\n",
    "#     ax.scatter(np.transpose(Y)[:,0],np.transpose(Y)[:,1])"
   ]
  },
  {
   "cell_type": "markdown",
   "metadata": {},
   "source": [
    "***Create realigned Skeleton***"
   ]
  },
  {
   "cell_type": "code",
   "execution_count": 57,
   "metadata": {},
   "outputs": [
    {
     "name": "stdout",
     "output_type": "stream",
     "text": [
      "Submitted batch job 9449002\n",
      "Submitted batch job 9449003\n",
      "Submitted batch job 9449004\n",
      "Submitted batch job 9449005\n"
     ]
    }
   ],
   "source": [
    "num_parallel = 5\n",
    "begin_skel = begin//num_parallel\n",
    "end_skel = (end+1)//num_parallel\n",
    "for j in range(begin_skel,end_skel):\n",
    "    start = num_parallel*j\n",
    "    stop = num_parallel*j+num_parallel-1\n",
    "    my_file = open(\"/scratch/shared/mrozemul/Fiji.app/align_skelt.sh\", \"w\")\n",
    "    my_file.write(\"#!/bin/bash \\n#Set job requirements \\n#SBATCH -N 1 \\n#SBATCH -t 1:00:00\\n#SBATCH -p normal\\n\")\n",
    "    my_file.write(f'#SBATCH -o \"/home/mrozemul/Corentin/MscThesis/slurm/create_realign_{plate}_{start}_{stop}_{ide}.out\" \\n')\n",
    "    my_file.write(f'for i in `seq {start} {stop}`; do\\n')\n",
    "    my_file.write(f'python ~/Corentin/MscThesis/realign_surf.py {plate} {begin} {end} $i &\\n')\n",
    "    my_file.write('done\\n')\n",
    "    my_file.write('wait\\n')\n",
    "    my_file.close()\n",
    "# !srun -t 2:00:00 --pty /scratch/shared/mrozemul/Fiji.app/align_skelt.sh\n",
    "    !sbatch /scratch/shared/mrozemul/Fiji.app/align_skelt.sh"
   ]
  },
  {
   "cell_type": "markdown",
   "metadata": {},
   "source": [
    "***Check Fine Alignment***"
   ]
  },
  {
   "cell_type": "code",
   "execution_count": 5,
   "metadata": {},
   "outputs": [
    {
     "data": {
      "application/vnd.jupyter.widget-view+json": {
       "model_id": "48feefa0a7114216a131231dbb7b16b8",
       "version_major": 2,
       "version_minor": 0
      },
      "text/plain": [
       "Canvas(toolbar=Toolbar(toolitems=[('Home', 'Reset original view', 'home', 'home'), ('Back', 'Back to previous …"
      ]
     },
     "metadata": {},
     "output_type": "display_data"
    },
    {
     "data": {
      "application/vnd.jupyter.widget-view+json": {
       "model_id": "677134a911a044e49bbf1bcacd284c8a",
       "version_major": 2,
       "version_minor": 0
      },
      "text/plain": [
       "Canvas(toolbar=Toolbar(toolitems=[('Home', 'Reset original view', 'home', 'home'), ('Back', 'Back to previous …"
      ]
     },
     "metadata": {},
     "output_type": "display_data"
    }
   ],
   "source": [
    "plt.close('all')\n",
    "directory = \"/scratch/shared/mrozemul/Fiji.app/\" \n",
    "listdir=os.listdir(directory) \n",
    "list_dir_interest=[name for name in listdir if name.split('_')[-1]==f'Plate{0 if plate<10 else \"\"}{plate}']\n",
    "ss=[name.split('_')[0] for name in list_dir_interest]\n",
    "ff=[name.split('_')[1] for name in list_dir_interest]\n",
    "dates_datetime=[datetime(year=int(ss[i][:4]),month=int(ss[i][4:6]),day=int(ss[i][6:8]),hour=int(ff[i][0:2]),minute=int(ff[i][2:4])) for i in range(len(list_dir_interest))]\n",
    "dates_datetime.sort()\n",
    "begin = 0\n",
    "end = 20\n",
    "dates_datetime_chosen=dates_datetime[begin:end]\n",
    "dates = [f'{0 if date.month<10 else \"\"}{date.month}{0 if date.day<10 else \"\"}{date.day}_{0 if date.hour<10 else \"\"}{date.hour}{0 if date.minute<10 else \"\"}{date.minute}' for date in dates_datetime_chosen]\n",
    "zone = (13000,13000+5000+3000,20000,20000+5000+4096)\n",
    "skels_aligned = []\n",
    "for i,date in enumerate(dates):\n",
    "    directory_name=f'2020{dates[i]}_Plate{0 if plate<10 else \"\"}{plate}'\n",
    "    path_snap='/scratch/shared/mrozemul/Fiji.app/'+directory_name\n",
    "    skels_aligned.append(sio.loadmat(path_snap+'/Analysis/skeleton_realigned.mat')['skeleton'])\n",
    "for i in range(11,13):\n",
    "    plot_t_tp1([],[],None,None,skels_aligned[i][zone[0]:zone[1],zone[2]:zone[3]].todense(),skels_aligned[i+1][zone[0]:zone[1],zone[2]:zone[3]].todense())"
   ]
  },
  {
   "cell_type": "code",
   "execution_count": 20,
   "metadata": {},
   "outputs": [
    {
     "data": {
      "application/vnd.jupyter.widget-view+json": {
       "model_id": "fb707a339c0844d78c56bdeb44b449c6",
       "version_major": 2,
       "version_minor": 0
      },
      "text/plain": [
       "Canvas(toolbar=Toolbar(toolitems=[('Home', 'Reset original view', 'home', 'home'), ('Back', 'Back to previous …"
      ]
     },
     "metadata": {},
     "output_type": "display_data"
    },
    {
     "data": {
      "text/plain": [
       "<matplotlib.image.AxesImage at 0x2b197ba65c10>"
      ]
     },
     "execution_count": 20,
     "metadata": {},
     "output_type": "execute_result"
    }
   ],
   "source": [
    "plt.close('all')\n",
    "zone = (6000,13000,12000,22000)\n",
    "fig=plt.figure(figsize=(10,9))\n",
    "ax = fig.add_subplot(111)\n",
    "ax.imshow(skels_aligned[11][zone[0]:zone[1],zone[2]:zone[3]].todense())"
   ]
  },
  {
   "cell_type": "markdown",
   "metadata": {},
   "source": [
    "***Prune Graph***"
   ]
  },
  {
   "cell_type": "code",
   "execution_count": 58,
   "metadata": {},
   "outputs": [
    {
     "name": "stdout",
     "output_type": "stream",
     "text": [
      "Submitted batch job 9449098\n"
     ]
    }
   ],
   "source": [
    "threshold = 1\n",
    "num_parallel = 20\n",
    "begin_skel = begin//num_parallel\n",
    "end_skel = (end+1)//num_parallel\n",
    "for j in range(begin_skel,end_skel):\n",
    "    ide=int(datetime.now().timestamp())\n",
    "    start = num_parallel*j\n",
    "    stop = num_parallel*j+num_parallel-1\n",
    "    my_file = open(\"/scratch/shared/mrozemul/Fiji.app/nx_graph_extr.sh\", \"w\")\n",
    "    my_file.write(\"#!/bin/bash \\n#Set job requirements \\n#SBATCH -N 1 \\n#SBATCH -t 20:00\\n#SBATCH -p normal\\n\")\n",
    "    my_file.write(f'#SBATCH -o \"/home/mrozemul/Corentin/MscThesis/slurm/prune_graph_{plate}_{start}_{stop}_{ide}.out\" \\n')\n",
    "    my_file.write(f'for i in `seq {start} {stop}`; do\\n')\n",
    "    my_file.write(f'\\t python ~/Corentin/MscThesis/extract_nx_graph.py {plate} $i {threshold}&\\n')\n",
    "    my_file.write('done\\n')\n",
    "    my_file.write('wait\\n')\n",
    "    my_file.close()\n",
    "    !sbatch /scratch/shared/mrozemul/Fiji.app/nx_graph_extr.sh\n",
    "# !srun -t 2:00:00 --pty /scratch/shared/mrozemul/Fiji.app/nx_graph_extr.sh\n"
   ]
  },
  {
   "cell_type": "markdown",
   "metadata": {},
   "source": [
    "***Check Pruned Graphs***"
   ]
  },
  {
   "cell_type": "code",
   "execution_count": 64,
   "metadata": {},
   "outputs": [],
   "source": [
    "start = 0\n",
    "stop = 2\n",
    "directory = \"/scratch/shared/mrozemul/Fiji.app/\" \n",
    "listdir=os.listdir(directory) \n",
    "list_dir_interest=[name for name in listdir if name.split('_')[-1]==f'Plate{0 if plate<10 else \"\"}{plate}']\n",
    "ss=[name.split('_')[0] for name in list_dir_interest]\n",
    "ff=[name.split('_')[1] for name in list_dir_interest]\n",
    "dates_datetime=[datetime(year=int(ss[i][:4]),month=int(ss[i][4:6]),day=int(ss[i][6:8]),hour=int(ff[i][0:2]),minute=int(ff[i][2:4])) for i in range(len(list_dir_interest))]\n",
    "dates_datetime.sort()\n",
    "dates_datetime_chosen=dates_datetime[start:stop]\n",
    "dates = [f'{0 if date.month<10 else \"\"}{date.month}{0 if date.day<10 else \"\"}{date.day}_{0 if date.hour<10 else \"\"}{date.hour}{0 if date.minute<10 else \"\"}{date.minute}' for date in dates_datetime_chosen]\n",
    "nx_graph_pos = []\n",
    "skeletons = []\n",
    "for date in dates:\n",
    "    directory_name=f'2020{date}_Plate{0 if plate<10 else \"\"}{plate}'\n",
    "    path_snap='/scratch/shared/mrozemul/Fiji.app/'+directory_name\n",
    "    path_save = path_snap +'/Analysis/nx_graph_pruned.p'\n",
    "    nx_graph_pos.append(pickle.load(open( path_save, \"rb\" )))\n",
    "    skeletons.append(scipy.sparse.dok_matrix(sio.loadmat(path_snap+'/Analysis/skeleton_realigned_pruned.mat')['skeleton']))\n",
    "compressed = [compress_skeleton(skeleton,5) for skeleton in skeletons]"
   ]
  },
  {
   "cell_type": "code",
   "execution_count": 65,
   "metadata": {},
   "outputs": [
    {
     "data": {
      "application/vnd.jupyter.widget-view+json": {
       "model_id": "79550dae467747e19c9e11948c4eb427",
       "version_major": 2,
       "version_minor": 0
      },
      "text/plain": [
       "Canvas(toolbar=Toolbar(toolitems=[('Home', 'Reset original view', 'home', 'home'), ('Back', 'Back to previous …"
      ]
     },
     "metadata": {},
     "output_type": "display_data"
    }
   ],
   "source": [
    "plt.close('all')\n",
    "kernel = np.ones((5,5),np.uint8)\n",
    "for i in range(len(compressed)-1):\n",
    "    plot_t_tp1([],[],None,None,cv2.dilate(compressed[i].astype(np.uint8),kernel,iterations = 2),cv2.dilate(compressed[i+1].astype(np.uint8),kernel,iterations = 2))"
   ]
  },
  {
   "cell_type": "markdown",
   "metadata": {},
   "source": [
    "***Identify Nodes***"
   ]
  },
  {
   "cell_type": "code",
   "execution_count": 39,
   "metadata": {},
   "outputs": [
    {
     "name": "stdout",
     "output_type": "stream",
     "text": [
      "Submitted batch job 9449628\n"
     ]
    }
   ],
   "source": [
    "ide=int(datetime.now().timestamp())\n",
    "my_file = open(\"/scratch/shared/mrozemul/Fiji.app/extract_nodes.sh\", \"w\")\n",
    "my_file.write(\"#!/bin/bash \\n#Set job requirements \\n#SBATCH -N 1 \\n#SBATCH -t 24:00:00\\n#SBATCH -p normal\\n\")\n",
    "my_file.write(f'#SBATCH -o \"/home/mrozemul/Corentin/MscThesis/slurm/node_id_{plate}_{begin}_{end}_{ide}.out\" \\n')\n",
    "my_file.write(f'python ~/Corentin/MscThesis/extract_nodes_surf.py {plate} {begin} {end+1}&\\n')\n",
    "my_file.write('wait\\n')\n",
    "my_file.close()\n",
    "!sbatch /scratch/shared/mrozemul/Fiji.app/extract_nodes.sh\n",
    "# !srun -t 2:00:00 --pty /scratch/shared/mrozemul/Fiji.app/extract_nodes.sh"
   ]
  },
  {
   "cell_type": "markdown",
   "metadata": {},
   "source": [
    "***Check Node Id***"
   ]
  },
  {
   "cell_type": "code",
   "execution_count": 9,
   "metadata": {},
   "outputs": [],
   "source": [
    "plate = 3"
   ]
  },
  {
   "cell_type": "code",
   "execution_count": 28,
   "metadata": {},
   "outputs": [],
   "source": [
    "begin = 0\n",
    "end = 5\n",
    "directory = \"/scratch/shared/mrozemul/Fiji.app/\" \n",
    "listdir=os.listdir(directory) \n",
    "list_dir_interest=[name for name in listdir if name.split('_')[-1]==f'Plate{0 if plate<10 else \"\"}{plate}']\n",
    "ss=[name.split('_')[0] for name in list_dir_interest]\n",
    "ff=[name.split('_')[1] for name in list_dir_interest]\n",
    "dates_datetime=[datetime(year=int(ss[i][:4]),month=int(ss[i][4:6]),day=int(ss[i][6:8]),hour=int(ff[i][0:2]),minute=int(ff[i][2:4])) for i in range(len(list_dir_interest))]\n",
    "dates_datetime.sort()\n",
    "dates_datetime_chosen=dates_datetime[begin:end]\n",
    "dates = [f'{0 if date.month<10 else \"\"}{date.month}{0 if date.day<10 else \"\"}{date.day}_{0 if date.hour<10 else \"\"}{date.hour}{0 if date.minute<10 else \"\"}{date.minute}' for date in dates_datetime_chosen]\n",
    "exp= Experiment(plate)\n",
    "exp.load(dates)"
   ]
  },
  {
   "cell_type": "code",
   "execution_count": 29,
   "metadata": {},
   "outputs": [
    {
     "data": {
      "application/vnd.jupyter.widget-view+json": {
       "model_id": "7c4f0ef1d0a64976ab3b7cd94756c606",
       "version_major": 2,
       "version_minor": 0
      },
      "text/plain": [
       "Canvas(toolbar=Toolbar(toolitems=[('Home', 'Reset original view', 'home', 'home'), ('Back', 'Back to previous …"
      ]
     },
     "metadata": {},
     "output_type": "display_data"
    }
   ],
   "source": [
    "plt.close('all')\n",
    "t = 2\n",
    "nodes = np.random.choice(exp.nx_graph[t].nodes,100)\n",
    "# exp.plot([t,t+1,t+2],[list(nodes)]*3)\n",
    "exp.plot([t,t+1,t+2],[[5673]]*3)"
   ]
  },
  {
   "cell_type": "markdown",
   "metadata": {},
   "source": [
    "***Hyphae extraction***"
   ]
  },
  {
   "cell_type": "code",
   "execution_count": 33,
   "metadata": {},
   "outputs": [],
   "source": [
    "plate = 3"
   ]
  },
  {
   "cell_type": "code",
   "execution_count": 34,
   "metadata": {},
   "outputs": [
    {
     "name": "stdout",
     "output_type": "stream",
     "text": [
      "Submitted batch job 9448603\n"
     ]
    }
   ],
   "source": [
    "ide=int(datetime.now().timestamp())\n",
    "my_file = open(\"/scratch/shared/mrozemul/Fiji.app/extract_hyphae.sh\", \"w\")\n",
    "my_file.write(\"#!/bin/bash \\n#Set job requirements \\n#SBATCH -N 1 \\n#SBATCH -t 2:00:00\\n#SBATCH -p normal\\n\")\n",
    "my_file.write(f'#SBATCH -o \"/home/mrozemul/Corentin/MscThesis/slurm/node_id_{plate}_{begin}_{end}_{ide}.out\" \\n')\n",
    "my_file.write(f'python ~/Corentin/MscThesis/hyphae_extraction.py {plate} {begin} {end+1}&\\n')\n",
    "my_file.write('wait\\n')\n",
    "my_file.close()\n",
    "# !srun -t 2:00:00 --pty /scratch/shared/mrozemul/Fiji.app/extract_hyphae.sh\n",
    "!sbatch /scratch/shared/mrozemul/Fiji.app/extract_hyphae.sh"
   ]
  },
  {
   "cell_type": "markdown",
   "metadata": {},
   "source": [
    "***Check Hyphae***"
   ]
  },
  {
   "cell_type": "code",
   "execution_count": 15,
   "metadata": {},
   "outputs": [],
   "source": [
    "begin = 0\n",
    "end = 20\n",
    "directory = \"/scratch/shared/mrozemul/Fiji.app/\" \n",
    "listdir=os.listdir(directory) \n",
    "list_dir_interest=[name for name in listdir if name.split('_')[-1]==f'Plate{0 if plate<10 else \"\"}{plate}']\n",
    "ss=[name.split('_')[0] for name in list_dir_interest]\n",
    "ff=[name.split('_')[1] for name in list_dir_interest]\n",
    "dates_datetime=[datetime(year=int(ss[i][:4]),month=int(ss[i][4:6]),day=int(ss[i][6:8]),hour=int(ff[i][0:2]),minute=int(ff[i][2:4])) for i in range(len(list_dir_interest))]\n",
    "dates_datetime.sort()\n",
    "dates_datetime_chosen=dates_datetime[begin:end]\n",
    "dates = [f'{0 if date.month<10 else \"\"}{date.month}{0 if date.day<10 else \"\"}{date.day}_{0 if date.hour<10 else \"\"}{date.hour}{0 if date.minute<10 else \"\"}{date.minute}' for date in dates_datetime_chosen]\n",
    "exp = pickle.load( open(f'/scratch/shared/mrozemul/Fiji.app/Analysis_Plate{plate}_{dates[0]}_{dates[-1]}/experiment_{plate}.pick', \"rb\" ) )"
   ]
  },
  {
   "cell_type": "code",
   "execution_count": 16,
   "metadata": {},
   "outputs": [
    {
     "data": {
      "text/plain": [
       "9249"
      ]
     },
     "execution_count": 16,
     "metadata": {},
     "output_type": "execute_result"
    }
   ],
   "source": [
    "len(exp.nodes)"
   ]
  },
  {
   "cell_type": "code",
   "execution_count": 51,
   "metadata": {},
   "outputs": [
    {
     "data": {
      "text/plain": [
       "[8, 9, 10, 11, 12, 13, 14, 15, 16, 17, 18, 19]"
      ]
     },
     "execution_count": 51,
     "metadata": {},
     "output_type": "execute_result"
    }
   ],
   "source": [
    "hyph = choice(exp.hyphaes)\n",
    "hyph.ts"
   ]
  },
  {
   "cell_type": "code",
   "execution_count": 52,
   "metadata": {},
   "outputs": [
    {
     "data": {
      "text/plain": [
       "[8, 9, 10, 11, 12, 13, 14, 15, 16, 17, 18, 19]"
      ]
     },
     "execution_count": 52,
     "metadata": {},
     "output_type": "execute_result"
    }
   ],
   "source": [
    "hyph.end.ts()"
   ]
  },
  {
   "cell_type": "code",
   "execution_count": 53,
   "metadata": {},
   "outputs": [
    {
     "data": {
      "application/vnd.jupyter.widget-view+json": {
       "model_id": "69339f7b063148c8b5e447059a78ee92",
       "version_major": 2,
       "version_minor": 0
      },
      "text/plain": [
       "Canvas(toolbar=Toolbar(toolitems=[('Home', 'Reset original view', 'home', 'home'), ('Back', 'Back to previous …"
      ]
     },
     "metadata": {},
     "output_type": "display_data"
    }
   ],
   "source": [
    "plt.close('all')\n",
    "hyph.end.show_source_image(hyph.ts[-1],hyph.ts[-1])"
   ]
  },
  {
   "cell_type": "code",
   "execution_count": 56,
   "metadata": {},
   "outputs": [
    {
     "data": {
      "application/vnd.jupyter.widget-view+json": {
       "model_id": "5c6a83a83bd34d93b1431e1e81044768",
       "version_major": 2,
       "version_minor": 0
      },
      "text/plain": [
       "Canvas(toolbar=Toolbar(toolitems=[('Home', 'Reset original view', 'home', 'home'), ('Back', 'Back to previous …"
      ]
     },
     "metadata": {},
     "output_type": "display_data"
    }
   ],
   "source": [
    "plt.close('all')\n",
    "exp.plot([0,hyph.ts[-2],hyph.ts[-1]],[[hyph.root.label,hyph.end.label]]*3)"
   ]
  }
 ],
 "metadata": {
  "kernelspec": {
   "display_name": "Python 3",
   "language": "python",
   "name": "python3"
  },
  "language_info": {
   "codemirror_mode": {
    "name": "ipython",
    "version": 3
   },
   "file_extension": ".py",
   "mimetype": "text/x-python",
   "name": "python",
   "nbconvert_exporter": "python",
   "pygments_lexer": "ipython3",
   "version": "3.7.8"
  }
 },
 "nbformat": 4,
 "nbformat_minor": 4
}

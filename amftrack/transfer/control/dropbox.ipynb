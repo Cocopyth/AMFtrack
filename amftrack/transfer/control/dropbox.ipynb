{
 "cells": [
  {
   "cell_type": "markdown",
   "metadata": {},
   "source": [
    "**To transfer data from surfsara to dropbox**\n",
    "- select the path where the data is\n"
   ]
  },
  {
   "cell_type": "code",
   "execution_count": 1,
   "metadata": {
    "jupyter": {
     "source_hidden": true
    },
    "tags": []
   },
   "outputs": [
    {
     "name": "stderr",
     "output_type": "stream",
     "text": [
      "/gpfs/home2/cbisot/pycode/AMFtrack/amftrack/util/dbx.py:3: TqdmExperimentalWarning: Using `tqdm.autonotebook.tqdm` in notebook mode. Use `tqdm.tqdm` instead to force console mode (e.g. in jupyter console)\n",
      "  from tqdm.autonotebook import tqdm\n"
     ]
    }
   ],
   "source": [
    "%matplotlib widget\n",
    "%load_ext autoreload\n",
    "%autoreload 2\n",
    "from IPython.display import clear_output\n",
    "import os\n",
    "import sys\n",
    "\n",
    "# sys.path.insert(0, os.getenv('HOME')+'/pycode/MscThesis/')\n",
    "# sys.path.insert(0,r'C:\\Users\\coren\\Documents\\PhD\\Code\\AMFtrack')\n",
    "\n",
    "import pandas as pd\n",
    "from amftrack.util.sys import (\n",
    "    get_dates_datetime,\n",
    "    get_dirname,\n",
    "    temp_path,\n",
    "    get_data_info,\n",
    "    update_plate_info,\n",
    "    get_current_folders,\n",
    "    get_folders_by_plate_id,\n",
    ")\n",
    "\n",
    "\n",
    "import ast\n",
    "from amftrack.plotutil import plot_t_tp1\n",
    "from scipy import sparse\n",
    "from datetime import datetime\n",
    "import pickle\n",
    "import scipy.io as sio\n",
    "from pymatreader import read_mat\n",
    "from matplotlib import colors\n",
    "import cv2\n",
    "import imageio\n",
    "import matplotlib.pyplot as plt\n",
    "import numpy as np\n",
    "from skimage.filters import frangi\n",
    "from skimage import filters\n",
    "from random import choice\n",
    "import scipy.sparse\n",
    "import os\n",
    "from amftrack.pipeline.functions.image_processing.extract_graph import (\n",
    "    from_sparse_to_graph,\n",
    "    generate_nx_graph,\n",
    "    sparse_to_doc,\n",
    ")\n",
    "from skimage.feature import hessian_matrix_det\n",
    "\n",
    "# from amftrack.pipeline.functions.image_processing.experiment_class_surf import Experiment\n",
    "from amftrack.pipeline.launching.run_super import (\n",
    "    run_parallel_transfer,\n",
    "    directory_scratch,\n",
    "    directory_project,\n",
    "    directory_archive,\n",
    "    run_parallel_transfer_to_archive,\n",
    ")\n",
    "import dropbox\n",
    "from amftrack.util.dbx import upload_folders, load_dbx, download, get_dropbox_folders\n",
    "from subprocess import call\n",
    "import logging\n",
    "\n",
    "logging.basicConfig(stream=sys.stdout, level=logging.debug)"
   ]
  },
  {
   "cell_type": "code",
   "execution_count": 2,
   "metadata": {},
   "outputs": [],
   "source": [
    "# directory_origin = '/projects/0/einf914/agg/'\n",
    "directory_origin = directory_project\n",
    "# directory_origin = \"/scratch-local/cbisot/\""
   ]
  },
  {
   "cell_type": "markdown",
   "metadata": {},
   "source": [
    "- get the folders at this path and select the folders of interest"
   ]
  },
  {
   "cell_type": "code",
   "execution_count": 23,
   "metadata": {},
   "outputs": [
    {
     "data": {
      "application/vnd.jupyter.widget-view+json": {
       "model_id": "865a945cf6da4b4f876508669300d0b4",
       "version_major": 2,
       "version_minor": 0
      },
      "text/plain": [
       "analysed:   0%|          | 0/3149 [00:00<?, ?it/s]"
      ]
     },
     "metadata": {},
     "output_type": "display_data"
    }
   ],
   "source": [
    "update_plate_info(directory_origin, local=True)\n",
    "all_folders = get_current_folders(directory_origin, local=True)\n",
    "folders = all_folders.loc[all_folders[\"Plate\"] != \"931\"]"
   ]
  },
  {
   "cell_type": "code",
   "execution_count": 24,
   "metadata": {},
   "outputs": [
    {
     "data": {
      "text/html": [
       "<div>\n",
       "<style scoped>\n",
       "    .dataframe tbody tr th:only-of-type {\n",
       "        vertical-align: middle;\n",
       "    }\n",
       "\n",
       "    .dataframe tbody tr th {\n",
       "        vertical-align: top;\n",
       "    }\n",
       "\n",
       "    .dataframe thead th {\n",
       "        text-align: right;\n",
       "    }\n",
       "</style>\n",
       "<table border=\"1\" class=\"dataframe\">\n",
       "  <thead>\n",
       "    <tr style=\"text-align: right;\">\n",
       "      <th></th>\n",
       "      <th>total_path</th>\n",
       "      <th>Plate</th>\n",
       "      <th>PrincePos</th>\n",
       "      <th>root</th>\n",
       "      <th>strain</th>\n",
       "      <th>medium</th>\n",
       "      <th>split</th>\n",
       "      <th>Pbait</th>\n",
       "      <th>CrossDate</th>\n",
       "      <th>Temperature</th>\n",
       "      <th>...</th>\n",
       "      <th>/Analysis/transform.mat</th>\n",
       "      <th>/Analysis/transform_corrupt.mat</th>\n",
       "      <th>/Analysis/skeleton_realigned_compressed.mat</th>\n",
       "      <th>/Analysis/nx_graph_pruned.p</th>\n",
       "      <th>/Analysis/nx_graph_pruned_width.p</th>\n",
       "      <th>/Analysis/nx_graph_pruned_labeled.p</th>\n",
       "      <th>date</th>\n",
       "      <th>folder</th>\n",
       "      <th>unique_id</th>\n",
       "      <th>datetime</th>\n",
       "    </tr>\n",
       "  </thead>\n",
       "  <tbody>\n",
       "  </tbody>\n",
       "</table>\n",
       "<p>0 rows × 24 columns</p>\n",
       "</div>"
      ],
      "text/plain": [
       "Empty DataFrame\n",
       "Columns: [total_path, Plate, PrincePos, root, strain, medium, split, Pbait, CrossDate, Temperature, /Img/TileConfiguration.txt.registered, /Analysis/skeleton_compressed.mat, /Analysis/skeleton_masked_compressed.mat, /Analysis/skeleton_pruned_compressed.mat, /Analysis/transform.mat, /Analysis/transform_corrupt.mat, /Analysis/skeleton_realigned_compressed.mat, /Analysis/nx_graph_pruned.p, /Analysis/nx_graph_pruned_width.p, /Analysis/nx_graph_pruned_labeled.p, date, folder, unique_id, datetime]\n",
       "Index: []\n",
       "\n",
       "[0 rows x 24 columns]"
      ]
     },
     "execution_count": 24,
     "metadata": {},
     "output_type": "execute_result"
    }
   ],
   "source": [
    "folders"
   ]
  },
  {
   "cell_type": "markdown",
   "metadata": {},
   "source": [
    "- use the 'toward_drop.py' function including the folders of interest and using dir_drop as a parameter indicating where in dropbox the data should go\n",
    "- The delete parameter indicates wether the data should be deleted from the path of origin after succesfull upload on dropbox"
   ]
  },
  {
   "cell_type": "code",
   "execution_count": 20,
   "metadata": {
    "tags": []
   },
   "outputs": [],
   "source": [
    "dir_drop = \"DATA/PRINCE\"\n",
    "delete = True\n",
    "run_parallel_transfer(\n",
    "    \"toward_drop.py\",\n",
    "    [dir_drop, delete],\n",
    "    folders,\n",
    "    1,\n",
    "    \"30:00\",\n",
    "    \"staging\",\n",
    "    cpus=1,\n",
    "    node=\"staging\",\n",
    ")\n",
    "clear_output(wait=False)"
   ]
  },
  {
   "cell_type": "markdown",
   "metadata": {},
   "source": [
    "**To transfer data from dropbox to surfsara**\n",
    "- select the folders of interest within the folders of dropbox"
   ]
  },
  {
   "cell_type": "code",
   "execution_count": 2,
   "metadata": {
    "collapsed": true,
    "jupyter": {
     "outputs_hidden": true
    },
    "tags": []
   },
   "outputs": [
    {
     "name": "stdout",
     "output_type": "stream",
     "text": [
      "2022-06-08 17:08:57,355-[INFO]- dropbox:388 -> Refreshing access token.\n",
      "2022-06-08 17:08:57,596-[INFO]- dropbox:477 -> Request to files/list_folder\n",
      "2022-06-08 17:08:58,769-[INFO]- dropbox:477 -> Request to files/list_folder/continue\n",
      "2022-06-08 17:08:59,684-[INFO]- dropbox:477 -> Request to files/list_folder/continue\n",
      "2022-06-08 17:09:01,240-[INFO]- dropbox:477 -> Request to files/list_folder/continue\n",
      "2022-06-08 17:09:02,275-[INFO]- dropbox:477 -> Request to files/list_folder/continue\n",
      "2022-06-08 17:09:03,840-[INFO]- dropbox:477 -> Request to files/list_folder/continue\n",
      "2022-06-08 17:09:05,528-[INFO]- dropbox:477 -> Request to files/list_folder/continue\n",
      "2022-06-08 17:09:06,467-[INFO]- dropbox:477 -> Request to files/list_folder/continue\n",
      "2022-06-08 17:09:07,553-[INFO]- dropbox:477 -> Request to files/list_folder/continue\n",
      "2022-06-08 17:09:08,547-[INFO]- dropbox:477 -> Request to files/list_folder/continue\n",
      "2022-06-08 17:09:09,793-[INFO]- dropbox:477 -> Request to files/list_folder/continue\n",
      "2022-06-08 17:09:11,959-[INFO]- dropbox:477 -> Request to files/list_folder/continue\n",
      "2022-06-08 17:09:12,993-[INFO]- dropbox:477 -> Request to files/list_folder/continue\n",
      "2022-06-08 17:09:14,044-[INFO]- dropbox:477 -> Request to files/list_folder/continue\n",
      "2022-06-08 17:09:15,130-[INFO]- dropbox:477 -> Request to files/list_folder/continue\n",
      "2022-06-08 17:09:16,763-[INFO]- dropbox:477 -> Request to files/list_folder/continue\n",
      "2022-06-08 17:09:19,201-[INFO]- dropbox:477 -> Request to files/list_folder/continue\n",
      "2022-06-08 17:09:20,534-[INFO]- dropbox:477 -> Request to files/list_folder/continue\n",
      "2022-06-08 17:09:21,902-[INFO]- dropbox:477 -> Request to files/list_folder/continue\n",
      "2022-06-08 17:09:22,848-[INFO]- dropbox:477 -> Request to files/list_folder/continue\n",
      "2022-06-08 17:09:23,923-[INFO]- dropbox:477 -> Request to files/list_folder/continue\n",
      "2022-06-08 17:09:25,369-[INFO]- dropbox:477 -> Request to files/list_folder/continue\n",
      "2022-06-08 17:09:26,438-[INFO]- dropbox:477 -> Request to files/list_folder/continue\n",
      "2022-06-08 17:09:27,485-[INFO]- dropbox:477 -> Request to files/list_folder/continue\n",
      "2022-06-08 17:09:28,492-[INFO]- dropbox:477 -> Request to files/list_folder/continue\n",
      "2022-06-08 17:09:29,452-[INFO]- dropbox:477 -> Request to files/list_folder/continue\n",
      "2022-06-08 17:09:30,486-[INFO]- dropbox:477 -> Request to files/list_folder/continue\n",
      "2022-06-08 17:09:31,577-[INFO]- dropbox:477 -> Request to files/list_folder/continue\n",
      "2022-06-08 17:09:32,551-[INFO]- dropbox:477 -> Request to files/list_folder/continue\n",
      "2022-06-08 17:09:33,538-[INFO]- dropbox:477 -> Request to files/list_folder/continue\n",
      "2022-06-08 17:09:34,506-[INFO]- dropbox:477 -> Request to files/list_folder/continue\n",
      "2022-06-08 17:09:35,690-[INFO]- dropbox:477 -> Request to files/list_folder/continue\n",
      "2022-06-08 17:09:36,698-[INFO]- dropbox:477 -> Request to files/list_folder/continue\n",
      "2022-06-08 17:09:37,817-[INFO]- dropbox:477 -> Request to files/list_folder/continue\n",
      "2022-06-08 17:09:38,812-[INFO]- dropbox:477 -> Request to files/list_folder/continue\n",
      "2022-06-08 17:09:39,783-[INFO]- dropbox:477 -> Request to files/list_folder/continue\n",
      "2022-06-08 17:09:41,078-[INFO]- dropbox:477 -> Request to files/list_folder/continue\n",
      "2022-06-08 17:09:42,033-[INFO]- dropbox:477 -> Request to files/list_folder/continue\n",
      "2022-06-08 17:09:43,071-[INFO]- dropbox:477 -> Request to files/list_folder/continue\n",
      "2022-06-08 17:09:44,140-[INFO]- dropbox:477 -> Request to files/list_folder/continue\n",
      "2022-06-08 17:09:45,137-[INFO]- dropbox:477 -> Request to files/list_folder/continue\n",
      "2022-06-08 17:09:46,165-[INFO]- dropbox:477 -> Request to files/list_folder/continue\n",
      "2022-06-08 17:09:47,280-[INFO]- dropbox:477 -> Request to files/list_folder/continue\n",
      "2022-06-08 17:09:48,162-[INFO]- dropbox:477 -> Request to files/list_folder/continue\n",
      "2022-06-08 17:09:49,063-[INFO]- dropbox:477 -> Request to files/list_folder/continue\n",
      "2022-06-08 17:09:49,947-[INFO]- dropbox:477 -> Request to files/list_folder/continue\n",
      "2022-06-08 17:09:50,853-[INFO]- dropbox:477 -> Request to files/list_folder/continue\n",
      "2022-06-08 17:09:51,756-[INFO]- dropbox:477 -> Request to files/list_folder/continue\n",
      "2022-06-08 17:09:52,804-[INFO]- dropbox:477 -> Request to files/list_folder/continue\n",
      "2022-06-08 17:09:53,708-[INFO]- dropbox:477 -> Request to files/list_folder/continue\n",
      "2022-06-08 17:09:54,637-[INFO]- dropbox:477 -> Request to files/list_folder/continue\n",
      "2022-06-08 17:09:55,589-[INFO]- dropbox:477 -> Request to files/list_folder/continue\n",
      "2022-06-08 17:09:56,489-[INFO]- dropbox:477 -> Request to files/list_folder/continue\n",
      "2022-06-08 17:09:57,306-[INFO]- dropbox:477 -> Request to files/list_folder/continue\n",
      "2022-06-08 17:09:58,543-[INFO]- dropbox:477 -> Request to files/list_folder/continue\n",
      "2022-06-08 17:09:59,867-[INFO]- dropbox:477 -> Request to files/list_folder/continue\n",
      "2022-06-08 17:10:00,718-[INFO]- dropbox:477 -> Request to files/list_folder/continue\n",
      "2022-06-08 17:10:01,540-[INFO]- dropbox:477 -> Request to files/list_folder/continue\n",
      "2022-06-08 17:10:02,394-[INFO]- dropbox:477 -> Request to files/list_folder/continue\n",
      "2022-06-08 17:10:03,525-[INFO]- dropbox:477 -> Request to files/list_folder/continue\n",
      "2022-06-08 17:10:04,825-[INFO]- dropbox:477 -> Request to files/list_folder/continue\n",
      "2022-06-08 17:10:06,064-[INFO]- dropbox:477 -> Request to files/list_folder/continue\n",
      "2022-06-08 17:10:07,044-[INFO]- dropbox:477 -> Request to files/list_folder/continue\n",
      "2022-06-08 17:10:08,365-[INFO]- dropbox:477 -> Request to files/list_folder/continue\n",
      "2022-06-08 17:10:09,612-[INFO]- dropbox:477 -> Request to files/list_folder/continue\n",
      "2022-06-08 17:10:11,111-[INFO]- dropbox:477 -> Request to files/list_folder/continue\n",
      "2022-06-08 17:10:12,011-[INFO]- dropbox:477 -> Request to files/list_folder/continue\n",
      "2022-06-08 17:10:12,769-[INFO]- dropbox:477 -> Request to files/list_folder/continue\n",
      "2022-06-08 17:10:13,606-[INFO]- dropbox:477 -> Request to files/list_folder/continue\n",
      "2022-06-08 17:10:14,501-[INFO]- dropbox:477 -> Request to files/list_folder/continue\n",
      "2022-06-08 17:10:16,395-[INFO]- dropbox:477 -> Request to files/list_folder/continue\n",
      "2022-06-08 17:10:17,332-[INFO]- dropbox:477 -> Request to files/list_folder/continue\n",
      "2022-06-08 17:10:19,167-[INFO]- dropbox:477 -> Request to files/list_folder/continue\n",
      "2022-06-08 17:10:20,360-[INFO]- dropbox:477 -> Request to files/list_folder/continue\n",
      "2022-06-08 17:10:22,357-[INFO]- dropbox:477 -> Request to files/list_folder/continue\n",
      "2022-06-08 17:10:23,799-[INFO]- dropbox:477 -> Request to files/list_folder/continue\n",
      "2022-06-08 17:10:25,156-[INFO]- dropbox:477 -> Request to files/list_folder/continue\n",
      "2022-06-08 17:10:27,019-[INFO]- dropbox:477 -> Request to files/list_folder/continue\n",
      "2022-06-08 17:10:28,915-[INFO]- dropbox:477 -> Request to files/list_folder/continue\n",
      "2022-06-08 17:10:30,442-[INFO]- dropbox:477 -> Request to files/list_folder/continue\n",
      "2022-06-08 17:10:31,489-[INFO]- dropbox:477 -> Request to files/list_folder/continue\n",
      "2022-06-08 17:10:32,519-[INFO]- dropbox:477 -> Request to files/list_folder/continue\n",
      "2022-06-08 17:10:33,569-[INFO]- dropbox:477 -> Request to files/list_folder/continue\n",
      "2022-06-08 17:10:35,841-[INFO]- dropbox:477 -> Request to files/list_folder/continue\n",
      "2022-06-08 17:10:37,566-[INFO]- dropbox:477 -> Request to files/list_folder/continue\n",
      "2022-06-08 17:10:39,188-[INFO]- dropbox:477 -> Request to files/list_folder/continue\n",
      "2022-06-08 17:10:40,167-[INFO]- dropbox:477 -> Request to files/list_folder/continue\n",
      "2022-06-08 17:10:41,153-[INFO]- dropbox:477 -> Request to files/list_folder/continue\n",
      "2022-06-08 17:10:42,970-[INFO]- dropbox:477 -> Request to files/list_folder/continue\n",
      "2022-06-08 17:10:43,967-[INFO]- dropbox:477 -> Request to files/list_folder/continue\n",
      "2022-06-08 17:10:45,506-[INFO]- dropbox:477 -> Request to files/list_folder/continue\n",
      "2022-06-08 17:10:46,616-[INFO]- dropbox:477 -> Request to files/list_folder/continue\n",
      "2022-06-08 17:10:47,785-[INFO]- dropbox:477 -> Request to files/list_folder/continue\n",
      "2022-06-08 17:10:48,917-[INFO]- dropbox:477 -> Request to files/list_folder/continue\n",
      "2022-06-08 17:10:50,859-[INFO]- dropbox:477 -> Request to files/list_folder/continue\n",
      "2022-06-08 17:10:51,923-[INFO]- dropbox:477 -> Request to files/list_folder/continue\n",
      "2022-06-08 17:10:53,041-[INFO]- dropbox:477 -> Request to files/list_folder/continue\n",
      "2022-06-08 17:10:54,176-[INFO]- dropbox:477 -> Request to files/list_folder/continue\n",
      "2022-06-08 17:10:55,380-[INFO]- dropbox:477 -> Request to files/list_folder/continue\n",
      "2022-06-08 17:10:56,561-[INFO]- dropbox:477 -> Request to files/list_folder/continue\n",
      "2022-06-08 17:10:57,608-[INFO]- dropbox:477 -> Request to files/list_folder/continue\n",
      "2022-06-08 17:10:58,606-[INFO]- dropbox:477 -> Request to files/list_folder/continue\n",
      "2022-06-08 17:10:59,773-[INFO]- dropbox:477 -> Request to files/list_folder/continue\n",
      "2022-06-08 17:11:00,851-[INFO]- dropbox:477 -> Request to files/list_folder/continue\n",
      "2022-06-08 17:11:01,950-[INFO]- dropbox:477 -> Request to files/list_folder/continue\n",
      "2022-06-08 17:11:02,931-[INFO]- dropbox:477 -> Request to files/list_folder/continue\n",
      "2022-06-08 17:11:03,969-[INFO]- dropbox:477 -> Request to files/list_folder/continue\n",
      "2022-06-08 17:11:05,467-[INFO]- dropbox:477 -> Request to files/list_folder/continue\n",
      "2022-06-08 17:11:06,970-[INFO]- dropbox:477 -> Request to files/list_folder/continue\n",
      "2022-06-08 17:11:08,214-[INFO]- dropbox:477 -> Request to files/list_folder/continue\n",
      "2022-06-08 17:11:09,505-[INFO]- dropbox:477 -> Request to files/list_folder/continue\n",
      "2022-06-08 17:11:10,994-[INFO]- dropbox:477 -> Request to files/list_folder/continue\n",
      "2022-06-08 17:11:12,061-[INFO]- dropbox:477 -> Request to files/list_folder/continue\n",
      "2022-06-08 17:11:13,147-[INFO]- dropbox:477 -> Request to files/list_folder/continue\n",
      "2022-06-08 17:11:14,283-[INFO]- dropbox:477 -> Request to files/list_folder/continue\n",
      "2022-06-08 17:11:15,324-[INFO]- dropbox:477 -> Request to files/list_folder/continue\n",
      "2022-06-08 17:11:16,368-[INFO]- dropbox:477 -> Request to files/list_folder/continue\n",
      "2022-06-08 17:11:17,375-[INFO]- dropbox:477 -> Request to files/list_folder/continue\n",
      "2022-06-08 17:11:18,934-[INFO]- dropbox:477 -> Request to files/list_folder/continue\n",
      "2022-06-08 17:11:19,992-[INFO]- dropbox:477 -> Request to files/list_folder/continue\n",
      "2022-06-08 17:11:20,972-[INFO]- dropbox:477 -> Request to files/list_folder/continue\n",
      "2022-06-08 17:11:22,008-[INFO]- dropbox:477 -> Request to files/list_folder/continue\n",
      "2022-06-08 17:11:24,097-[INFO]- dropbox:477 -> Request to files/list_folder/continue\n",
      "2022-06-08 17:11:25,649-[INFO]- dropbox:477 -> Request to files/list_folder/continue\n",
      "2022-06-08 17:11:26,654-[INFO]- dropbox:477 -> Request to files/list_folder/continue\n",
      "2022-06-08 17:11:27,894-[INFO]- dropbox:477 -> Request to files/list_folder/continue\n",
      "2022-06-08 17:11:29,000-[INFO]- dropbox:477 -> Request to files/list_folder/continue\n",
      "2022-06-08 17:11:30,164-[INFO]- dropbox:477 -> Request to files/list_folder/continue\n",
      "2022-06-08 17:11:31,509-[INFO]- dropbox:477 -> Request to files/list_folder/continue\n",
      "2022-06-08 17:11:32,605-[INFO]- dropbox:477 -> Request to files/list_folder/continue\n",
      "2022-06-08 17:11:33,659-[INFO]- dropbox:477 -> Request to files/list_folder/continue\n",
      "2022-06-08 17:11:35,924-[INFO]- dropbox:477 -> Request to files/list_folder/continue\n",
      "2022-06-08 17:11:36,616-[INFO]- dropbox:477 -> Request to files/list_folder/continue\n",
      "2022-06-08 17:11:38,080-[INFO]- dropbox:477 -> Request to files/list_folder/continue\n",
      "2022-06-08 17:11:39,388-[INFO]- dropbox:477 -> Request to files/list_folder/continue\n",
      "2022-06-08 17:11:41,094-[INFO]- dropbox:477 -> Request to files/list_folder/continue\n",
      "2022-06-08 17:11:43,020-[INFO]- dropbox:477 -> Request to files/list_folder/continue\n",
      "2022-06-08 17:11:44,144-[INFO]- dropbox:477 -> Request to files/list_folder/continue\n",
      "2022-06-08 17:11:45,851-[INFO]- dropbox:477 -> Request to files/list_folder/continue\n",
      "2022-06-08 17:11:47,157-[INFO]- dropbox:477 -> Request to files/list_folder/continue\n",
      "2022-06-08 17:11:48,289-[INFO]- dropbox:477 -> Request to files/list_folder/continue\n",
      "2022-06-08 17:11:50,042-[INFO]- dropbox:477 -> Request to files/list_folder/continue\n",
      "2022-06-08 17:11:51,776-[INFO]- dropbox:477 -> Request to files/list_folder/continue\n",
      "2022-06-08 17:11:52,790-[INFO]- dropbox:477 -> Request to files/list_folder/continue\n",
      "2022-06-08 17:11:53,840-[INFO]- dropbox:477 -> Request to files/list_folder/continue\n",
      "2022-06-08 17:11:55,628-[INFO]- dropbox:477 -> Request to files/list_folder/continue\n",
      "2022-06-08 17:11:56,715-[INFO]- dropbox:477 -> Request to files/list_folder/continue\n",
      "2022-06-08 17:11:57,318-[INFO]- dropbox:477 -> Request to files/list_folder/continue\n",
      "2022-06-08 17:11:58,109-[INFO]- dropbox:477 -> Request to files/list_folder/continue\n",
      "2022-06-08 17:11:59,385-[INFO]- dropbox:477 -> Request to files/list_folder/continue\n",
      "2022-06-08 17:12:01,435-[INFO]- dropbox:477 -> Request to files/list_folder/continue\n",
      "2022-06-08 17:12:02,645-[INFO]- dropbox:477 -> Request to files/list_folder/continue\n",
      "2022-06-08 17:12:04,365-[INFO]- dropbox:477 -> Request to files/list_folder/continue\n",
      "2022-06-08 17:12:05,601-[INFO]- dropbox:477 -> Request to files/list_folder/continue\n",
      "2022-06-08 17:12:06,862-[INFO]- dropbox:477 -> Request to files/list_folder/continue\n",
      "2022-06-08 17:12:08,137-[INFO]- dropbox:477 -> Request to files/list_folder/continue\n",
      "2022-06-08 17:12:09,230-[INFO]- dropbox:477 -> Request to files/list_folder/continue\n",
      "2022-06-08 17:12:10,390-[INFO]- dropbox:477 -> Request to files/list_folder/continue\n",
      "2022-06-08 17:12:11,770-[INFO]- dropbox:477 -> Request to files/list_folder/continue\n",
      "2022-06-08 17:12:12,998-[INFO]- dropbox:477 -> Request to files/list_folder/continue\n",
      "2022-06-08 17:12:14,349-[INFO]- dropbox:477 -> Request to files/list_folder/continue\n",
      "2022-06-08 17:12:15,651-[INFO]- dropbox:477 -> Request to files/list_folder/continue\n",
      "2022-06-08 17:12:16,589-[INFO]- dropbox:477 -> Request to files/list_folder/continue\n"
     ]
    }
   ],
   "source": [
    "all_folders_drop = get_dropbox_folders(\"/DATA/PRINCE\", True)"
   ]
  },
  {
   "cell_type": "code",
   "execution_count": 3,
   "metadata": {
    "tags": []
   },
   "outputs": [],
   "source": [
    "# folders_drop = all_folders_drop.loc[all_folders_drop['CrossDate'].between(\"20181015\",\"20201015\")]\n",
    "folders_drop = all_folders_drop.loc[all_folders_drop[\"Plate\"] == \"931\"]"
   ]
  },
  {
   "cell_type": "code",
   "execution_count": 6,
   "metadata": {
    "collapsed": true,
    "jupyter": {
     "outputs_hidden": true
    },
    "tags": []
   },
   "outputs": [
    {
     "data": {
      "text/html": [
       "<div>\n",
       "<style scoped>\n",
       "    .dataframe tbody tr th:only-of-type {\n",
       "        vertical-align: middle;\n",
       "    }\n",
       "\n",
       "    .dataframe tbody tr th {\n",
       "        vertical-align: top;\n",
       "    }\n",
       "\n",
       "    .dataframe thead th {\n",
       "        text-align: right;\n",
       "    }\n",
       "</style>\n",
       "<table border=\"1\" class=\"dataframe\">\n",
       "  <thead>\n",
       "    <tr style=\"text-align: right;\">\n",
       "      <th></th>\n",
       "      <th>folder</th>\n",
       "      <th>size</th>\n",
       "      <th>change_date</th>\n",
       "      <th>tot_path_drop</th>\n",
       "      <th>Plate</th>\n",
       "      <th>CrossDate</th>\n",
       "      <th>unique_id</th>\n",
       "    </tr>\n",
       "  </thead>\n",
       "  <tbody>\n",
       "    <tr>\n",
       "      <th>7600</th>\n",
       "      <td>20220411_1910_Plate05</td>\n",
       "      <td>NaN</td>\n",
       "      <td>2022-05-20 19:33:17</td>\n",
       "      <td>data/prince/931_20220402/20220411_1910_plate05</td>\n",
       "      <td>931</td>\n",
       "      <td>20220402</td>\n",
       "      <td>931_20220402</td>\n",
       "    </tr>\n",
       "    <tr>\n",
       "      <th>7601</th>\n",
       "      <td>20220416_1136_Plate05</td>\n",
       "      <td>NaN</td>\n",
       "      <td>2022-05-20 19:29:14</td>\n",
       "      <td>data/prince/931_20220402/20220416_1136_plate05</td>\n",
       "      <td>931</td>\n",
       "      <td>20220402</td>\n",
       "      <td>931_20220402</td>\n",
       "    </tr>\n",
       "    <tr>\n",
       "      <th>7602</th>\n",
       "      <td>20220419_1143_Plate05</td>\n",
       "      <td>NaN</td>\n",
       "      <td>2022-05-20 19:29:12</td>\n",
       "      <td>data/prince/931_20220402/20220419_1143_plate05</td>\n",
       "      <td>931</td>\n",
       "      <td>20220402</td>\n",
       "      <td>931_20220402</td>\n",
       "    </tr>\n",
       "    <tr>\n",
       "      <th>7603</th>\n",
       "      <td>20220417_2139_Plate05</td>\n",
       "      <td>NaN</td>\n",
       "      <td>2022-05-20 19:24:59</td>\n",
       "      <td>data/prince/931_20220402/20220417_2139_plate05</td>\n",
       "      <td>931</td>\n",
       "      <td>20220402</td>\n",
       "      <td>931_20220402</td>\n",
       "    </tr>\n",
       "    <tr>\n",
       "      <th>7604</th>\n",
       "      <td>20220426_0110_Plate05</td>\n",
       "      <td>NaN</td>\n",
       "      <td>2022-05-20 19:24:57</td>\n",
       "      <td>data/prince/931_20220402/20220426_0110_plate05</td>\n",
       "      <td>931</td>\n",
       "      <td>20220402</td>\n",
       "      <td>931_20220402</td>\n",
       "    </tr>\n",
       "    <tr>\n",
       "      <th>...</th>\n",
       "      <td>...</td>\n",
       "      <td>...</td>\n",
       "      <td>...</td>\n",
       "      <td>...</td>\n",
       "      <td>...</td>\n",
       "      <td>...</td>\n",
       "      <td>...</td>\n",
       "    </tr>\n",
       "    <tr>\n",
       "      <th>7839</th>\n",
       "      <td>20220418_1339_Plate05</td>\n",
       "      <td>NaN</td>\n",
       "      <td>2022-05-20 09:40:22</td>\n",
       "      <td>data/prince/931_20220402/20220418_1339_plate05</td>\n",
       "      <td>931</td>\n",
       "      <td>20220402</td>\n",
       "      <td>931_20220402</td>\n",
       "    </tr>\n",
       "    <tr>\n",
       "      <th>7840</th>\n",
       "      <td>20220411_2310_Plate05</td>\n",
       "      <td>NaN</td>\n",
       "      <td>2022-05-20 09:38:03</td>\n",
       "      <td>data/prince/931_20220402/20220411_2310_plate05</td>\n",
       "      <td>931</td>\n",
       "      <td>20220402</td>\n",
       "      <td>931_20220402</td>\n",
       "    </tr>\n",
       "    <tr>\n",
       "      <th>7841</th>\n",
       "      <td>20220412_0910_Plate05</td>\n",
       "      <td>NaN</td>\n",
       "      <td>2022-05-20 09:33:44</td>\n",
       "      <td>data/prince/931_20220402/20220412_0910_plate05</td>\n",
       "      <td>931</td>\n",
       "      <td>20220402</td>\n",
       "      <td>931_20220402</td>\n",
       "    </tr>\n",
       "    <tr>\n",
       "      <th>7842</th>\n",
       "      <td>20220428_1728_Plate22</td>\n",
       "      <td>NaN</td>\n",
       "      <td>2022-05-20 09:31:46</td>\n",
       "      <td>data/prince/931_20220402/20220428_1728_plate22</td>\n",
       "      <td>931</td>\n",
       "      <td>20220402</td>\n",
       "      <td>931_20220402</td>\n",
       "    </tr>\n",
       "    <tr>\n",
       "      <th>7843</th>\n",
       "      <td>20220416_0336_Plate05</td>\n",
       "      <td>NaN</td>\n",
       "      <td>2022-05-20 09:31:43</td>\n",
       "      <td>data/prince/931_20220402/20220416_0336_plate05</td>\n",
       "      <td>931</td>\n",
       "      <td>20220402</td>\n",
       "      <td>931_20220402</td>\n",
       "    </tr>\n",
       "  </tbody>\n",
       "</table>\n",
       "<p>244 rows × 7 columns</p>\n",
       "</div>"
      ],
      "text/plain": [
       "                     folder size         change_date  \\\n",
       "7600  20220411_1910_Plate05  NaN 2022-05-20 19:33:17   \n",
       "7601  20220416_1136_Plate05  NaN 2022-05-20 19:29:14   \n",
       "7602  20220419_1143_Plate05  NaN 2022-05-20 19:29:12   \n",
       "7603  20220417_2139_Plate05  NaN 2022-05-20 19:24:59   \n",
       "7604  20220426_0110_Plate05  NaN 2022-05-20 19:24:57   \n",
       "...                     ...  ...                 ...   \n",
       "7839  20220418_1339_Plate05  NaN 2022-05-20 09:40:22   \n",
       "7840  20220411_2310_Plate05  NaN 2022-05-20 09:38:03   \n",
       "7841  20220412_0910_Plate05  NaN 2022-05-20 09:33:44   \n",
       "7842  20220428_1728_Plate22  NaN 2022-05-20 09:31:46   \n",
       "7843  20220416_0336_Plate05  NaN 2022-05-20 09:31:43   \n",
       "\n",
       "                                       tot_path_drop Plate CrossDate  \\\n",
       "7600  data/prince/931_20220402/20220411_1910_plate05   931  20220402   \n",
       "7601  data/prince/931_20220402/20220416_1136_plate05   931  20220402   \n",
       "7602  data/prince/931_20220402/20220419_1143_plate05   931  20220402   \n",
       "7603  data/prince/931_20220402/20220417_2139_plate05   931  20220402   \n",
       "7604  data/prince/931_20220402/20220426_0110_plate05   931  20220402   \n",
       "...                                              ...   ...       ...   \n",
       "7839  data/prince/931_20220402/20220418_1339_plate05   931  20220402   \n",
       "7840  data/prince/931_20220402/20220411_2310_plate05   931  20220402   \n",
       "7841  data/prince/931_20220402/20220412_0910_plate05   931  20220402   \n",
       "7842  data/prince/931_20220402/20220428_1728_plate22   931  20220402   \n",
       "7843  data/prince/931_20220402/20220416_0336_plate05   931  20220402   \n",
       "\n",
       "         unique_id  \n",
       "7600  931_20220402  \n",
       "7601  931_20220402  \n",
       "7602  931_20220402  \n",
       "7603  931_20220402  \n",
       "7604  931_20220402  \n",
       "...            ...  \n",
       "7839  931_20220402  \n",
       "7840  931_20220402  \n",
       "7841  931_20220402  \n",
       "7842  931_20220402  \n",
       "7843  931_20220402  \n",
       "\n",
       "[244 rows x 7 columns]"
      ]
     },
     "execution_count": 6,
     "metadata": {},
     "output_type": "execute_result"
    }
   ],
   "source": [
    "folders_drop"
   ]
  },
  {
   "cell_type": "markdown",
   "metadata": {},
   "source": [
    "- select the path where the folders should go"
   ]
  },
  {
   "cell_type": "code",
   "execution_count": 4,
   "metadata": {},
   "outputs": [],
   "source": [
    "# directory_targ = '/projects/0/einf914/agg/'\n",
    "directory_targ = directory_project\n",
    "# directory_targ = \"/scratch-local/cbisot/\""
   ]
  },
  {
   "cell_type": "markdown",
   "metadata": {},
   "source": [
    "- use the 'from_drop.py' function including the folders of interest"
   ]
  },
  {
   "cell_type": "code",
   "execution_count": 5,
   "metadata": {
    "tags": []
   },
   "outputs": [],
   "source": [
    "run_parallel_transfer(\n",
    "    \"from_drop.py\",\n",
    "    [directory_targ],\n",
    "    folders_drop,\n",
    "    1,\n",
    "    \"30:00\",\n",
    "    \"staging\",\n",
    "    cpus=1,\n",
    "    node=\"staging\",\n",
    ")\n",
    "clear_output(wait=False)"
   ]
  },
  {
   "cell_type": "markdown",
   "metadata": {},
   "source": [
    "**To transfer data from dropbox to archive**\n",
    "- use the 'from_drop.py' function including the folders of interest\n"
   ]
  },
  {
   "cell_type": "code",
   "execution_count": 4,
   "metadata": {},
   "outputs": [],
   "source": [
    "folders = all_folders.loc[all_folders[\"Plate\"].isin([792, 94])]"
   ]
  },
  {
   "cell_type": "code",
   "execution_count": 48,
   "metadata": {},
   "outputs": [
    {
     "data": {
      "text/plain": [
       "1858"
      ]
     },
     "execution_count": 48,
     "metadata": {},
     "output_type": "execute_result"
    }
   ],
   "source": [
    "len(folders)"
   ]
  },
  {
   "cell_type": "code",
   "execution_count": 47,
   "metadata": {
    "collapsed": true,
    "jupyter": {
     "outputs_hidden": true
    },
    "tags": []
   },
   "outputs": [
    {
     "name": "stderr",
     "output_type": "stream",
     "text": [
      "sbatch: Single node jobs run on a shared node by default. Add --exclusive if you want to use a node exclusively.\n",
      "sbatch: You will be charged for 0.03125 node. A full node consists of 32 CPU cores, 240000 MiB of memory and 0 GPUs and can be shared by up to 32 jobs.\n",
      "sbatch: Single node jobs run on a shared node by default. Add --exclusive if you want to use a node exclusively.\n",
      "sbatch: You will be charged for 0.03125 node. A full node consists of 32 CPU cores, 240000 MiB of memory and 0 GPUs and can be shared by up to 32 jobs.\n",
      "sbatch: Single node jobs run on a shared node by default. Add --exclusive if you want to use a node exclusively.\n",
      "sbatch: You will be charged for 0.03125 node. A full node consists of 32 CPU cores, 240000 MiB of memory and 0 GPUs and can be shared by up to 32 jobs.\n",
      "sbatch: Single node jobs run on a shared node by default. Add --exclusive if you want to use a node exclusively.\n",
      "sbatch: You will be charged for 0.03125 node. A full node consists of 32 CPU cores, 240000 MiB of memory and 0 GPUs and can be shared by up to 32 jobs.\n"
     ]
    },
    {
     "name": "stdout",
     "output_type": "stream",
     "text": [
      "Submitted batch job 418130\n",
      "Submitted batch job 418131\n",
      "Submitted batch job 418132\n",
      "Submitted batch job 418133\n"
     ]
    },
    {
     "name": "stderr",
     "output_type": "stream",
     "text": [
      "sbatch: Single node jobs run on a shared node by default. Add --exclusive if you want to use a node exclusively.\n",
      "sbatch: You will be charged for 0.03125 node. A full node consists of 32 CPU cores, 240000 MiB of memory and 0 GPUs and can be shared by up to 32 jobs.\n",
      "sbatch: Single node jobs run on a shared node by default. Add --exclusive if you want to use a node exclusively.\n",
      "sbatch: You will be charged for 0.03125 node. A full node consists of 32 CPU cores, 240000 MiB of memory and 0 GPUs and can be shared by up to 32 jobs.\n",
      "sbatch: Single node jobs run on a shared node by default. Add --exclusive if you want to use a node exclusively.\n",
      "sbatch: You will be charged for 0.03125 node. A full node consists of 32 CPU cores, 240000 MiB of memory and 0 GPUs and can be shared by up to 32 jobs.\n",
      "sbatch: Single node jobs run on a shared node by default. Add --exclusive if you want to use a node exclusively.\n",
      "sbatch: You will be charged for 0.03125 node. A full node consists of 32 CPU cores, 240000 MiB of memory and 0 GPUs and can be shared by up to 32 jobs.\n"
     ]
    },
    {
     "name": "stdout",
     "output_type": "stream",
     "text": [
      "Submitted batch job 418134\n",
      "Submitted batch job 418135\n",
      "Submitted batch job 418136\n",
      "Submitted batch job 418138\n"
     ]
    },
    {
     "name": "stderr",
     "output_type": "stream",
     "text": [
      "sbatch: Single node jobs run on a shared node by default. Add --exclusive if you want to use a node exclusively.\n",
      "sbatch: You will be charged for 0.03125 node. A full node consists of 32 CPU cores, 240000 MiB of memory and 0 GPUs and can be shared by up to 32 jobs.\n",
      "sbatch: Single node jobs run on a shared node by default. Add --exclusive if you want to use a node exclusively.\n",
      "sbatch: You will be charged for 0.03125 node. A full node consists of 32 CPU cores, 240000 MiB of memory and 0 GPUs and can be shared by up to 32 jobs.\n",
      "sbatch: Single node jobs run on a shared node by default. Add --exclusive if you want to use a node exclusively.\n",
      "sbatch: You will be charged for 0.03125 node. A full node consists of 32 CPU cores, 240000 MiB of memory and 0 GPUs and can be shared by up to 32 jobs.\n",
      "sbatch: Single node jobs run on a shared node by default. Add --exclusive if you want to use a node exclusively.\n",
      "sbatch: You will be charged for 0.03125 node. A full node consists of 32 CPU cores, 240000 MiB of memory and 0 GPUs and can be shared by up to 32 jobs.\n"
     ]
    },
    {
     "name": "stdout",
     "output_type": "stream",
     "text": [
      "Submitted batch job 418139\n",
      "Submitted batch job 418140\n",
      "Submitted batch job 418141\n",
      "Submitted batch job 418142\n"
     ]
    },
    {
     "name": "stderr",
     "output_type": "stream",
     "text": [
      "sbatch: Single node jobs run on a shared node by default. Add --exclusive if you want to use a node exclusively.\n",
      "sbatch: You will be charged for 0.03125 node. A full node consists of 32 CPU cores, 240000 MiB of memory and 0 GPUs and can be shared by up to 32 jobs.\n",
      "sbatch: Single node jobs run on a shared node by default. Add --exclusive if you want to use a node exclusively.\n",
      "sbatch: You will be charged for 0.03125 node. A full node consists of 32 CPU cores, 240000 MiB of memory and 0 GPUs and can be shared by up to 32 jobs.\n",
      "sbatch: Single node jobs run on a shared node by default. Add --exclusive if you want to use a node exclusively.\n",
      "sbatch: You will be charged for 0.03125 node. A full node consists of 32 CPU cores, 240000 MiB of memory and 0 GPUs and can be shared by up to 32 jobs.\n",
      "sbatch: Single node jobs run on a shared node by default. Add --exclusive if you want to use a node exclusively.\n",
      "sbatch: You will be charged for 0.03125 node. A full node consists of 32 CPU cores, 240000 MiB of memory and 0 GPUs and can be shared by up to 32 jobs.\n"
     ]
    },
    {
     "name": "stdout",
     "output_type": "stream",
     "text": [
      "Submitted batch job 418143\n",
      "Submitted batch job 418144\n",
      "Submitted batch job 418145\n",
      "Submitted batch job 418146\n"
     ]
    },
    {
     "name": "stderr",
     "output_type": "stream",
     "text": [
      "sbatch: Single node jobs run on a shared node by default. Add --exclusive if you want to use a node exclusively.\n",
      "sbatch: You will be charged for 0.03125 node. A full node consists of 32 CPU cores, 240000 MiB of memory and 0 GPUs and can be shared by up to 32 jobs.\n",
      "sbatch: Single node jobs run on a shared node by default. Add --exclusive if you want to use a node exclusively.\n",
      "sbatch: You will be charged for 0.03125 node. A full node consists of 32 CPU cores, 240000 MiB of memory and 0 GPUs and can be shared by up to 32 jobs.\n",
      "sbatch: Single node jobs run on a shared node by default. Add --exclusive if you want to use a node exclusively.\n",
      "sbatch: You will be charged for 0.03125 node. A full node consists of 32 CPU cores, 240000 MiB of memory and 0 GPUs and can be shared by up to 32 jobs.\n",
      "sbatch: Single node jobs run on a shared node by default. Add --exclusive if you want to use a node exclusively.\n",
      "sbatch: You will be charged for 0.03125 node. A full node consists of 32 CPU cores, 240000 MiB of memory and 0 GPUs and can be shared by up to 32 jobs.\n"
     ]
    },
    {
     "name": "stdout",
     "output_type": "stream",
     "text": [
      "Submitted batch job 418147\n",
      "Submitted batch job 418148\n",
      "Submitted batch job 418149\n",
      "Submitted batch job 418150\n"
     ]
    },
    {
     "name": "stderr",
     "output_type": "stream",
     "text": [
      "sbatch: Single node jobs run on a shared node by default. Add --exclusive if you want to use a node exclusively.\n",
      "sbatch: You will be charged for 0.03125 node. A full node consists of 32 CPU cores, 240000 MiB of memory and 0 GPUs and can be shared by up to 32 jobs.\n",
      "sbatch: Single node jobs run on a shared node by default. Add --exclusive if you want to use a node exclusively.\n",
      "sbatch: You will be charged for 0.03125 node. A full node consists of 32 CPU cores, 240000 MiB of memory and 0 GPUs and can be shared by up to 32 jobs.\n",
      "sbatch: Single node jobs run on a shared node by default. Add --exclusive if you want to use a node exclusively.\n",
      "sbatch: You will be charged for 0.03125 node. A full node consists of 32 CPU cores, 240000 MiB of memory and 0 GPUs and can be shared by up to 32 jobs.\n",
      "sbatch: Single node jobs run on a shared node by default. Add --exclusive if you want to use a node exclusively.\n",
      "sbatch: You will be charged for 0.03125 node. A full node consists of 32 CPU cores, 240000 MiB of memory and 0 GPUs and can be shared by up to 32 jobs.\n"
     ]
    },
    {
     "name": "stdout",
     "output_type": "stream",
     "text": [
      "Submitted batch job 418151\n",
      "Submitted batch job 418152\n",
      "Submitted batch job 418153\n",
      "Submitted batch job 418154\n"
     ]
    },
    {
     "name": "stderr",
     "output_type": "stream",
     "text": [
      "sbatch: Single node jobs run on a shared node by default. Add --exclusive if you want to use a node exclusively.\n",
      "sbatch: You will be charged for 0.03125 node. A full node consists of 32 CPU cores, 240000 MiB of memory and 0 GPUs and can be shared by up to 32 jobs.\n",
      "sbatch: Single node jobs run on a shared node by default. Add --exclusive if you want to use a node exclusively.\n",
      "sbatch: You will be charged for 0.03125 node. A full node consists of 32 CPU cores, 240000 MiB of memory and 0 GPUs and can be shared by up to 32 jobs.\n",
      "sbatch: Single node jobs run on a shared node by default. Add --exclusive if you want to use a node exclusively.\n",
      "sbatch: You will be charged for 0.03125 node. A full node consists of 32 CPU cores, 240000 MiB of memory and 0 GPUs and can be shared by up to 32 jobs.\n",
      "sbatch: Single node jobs run on a shared node by default. Add --exclusive if you want to use a node exclusively.\n",
      "sbatch: You will be charged for 0.03125 node. A full node consists of 32 CPU cores, 240000 MiB of memory and 0 GPUs and can be shared by up to 32 jobs.\n"
     ]
    },
    {
     "name": "stdout",
     "output_type": "stream",
     "text": [
      "Submitted batch job 418155\n",
      "Submitted batch job 418156\n",
      "Submitted batch job 418157\n",
      "Submitted batch job 418158\n",
      "Submitted batch job 418160\n",
      "Submitted batch job 418161\n",
      "Submitted batch job 418162\n",
      "Submitted batch job 418163\n"
     ]
    },
    {
     "name": "stderr",
     "output_type": "stream",
     "text": [
      "sbatch: Single node jobs run on a shared node by default. Add --exclusive if you want to use a node exclusively.\n",
      "sbatch: You will be charged for 0.03125 node. A full node consists of 32 CPU cores, 240000 MiB of memory and 0 GPUs and can be shared by up to 32 jobs.\n",
      "sbatch: Single node jobs run on a shared node by default. Add --exclusive if you want to use a node exclusively.\n",
      "sbatch: You will be charged for 0.03125 node. A full node consists of 32 CPU cores, 240000 MiB of memory and 0 GPUs and can be shared by up to 32 jobs.\n",
      "sbatch: Single node jobs run on a shared node by default. Add --exclusive if you want to use a node exclusively.\n",
      "sbatch: You will be charged for 0.03125 node. A full node consists of 32 CPU cores, 240000 MiB of memory and 0 GPUs and can be shared by up to 32 jobs.\n",
      "sbatch: Single node jobs run on a shared node by default. Add --exclusive if you want to use a node exclusively.\n",
      "sbatch: You will be charged for 0.03125 node. A full node consists of 32 CPU cores, 240000 MiB of memory and 0 GPUs and can be shared by up to 32 jobs.\n",
      "sbatch: Single node jobs run on a shared node by default. Add --exclusive if you want to use a node exclusively.\n",
      "sbatch: You will be charged for 0.03125 node. A full node consists of 32 CPU cores, 240000 MiB of memory and 0 GPUs and can be shared by up to 32 jobs.\n",
      "sbatch: Single node jobs run on a shared node by default. Add --exclusive if you want to use a node exclusively.\n",
      "sbatch: You will be charged for 0.03125 node. A full node consists of 32 CPU cores, 240000 MiB of memory and 0 GPUs and can be shared by up to 32 jobs.\n",
      "sbatch: Single node jobs run on a shared node by default. Add --exclusive if you want to use a node exclusively.\n",
      "sbatch: You will be charged for 0.03125 node. A full node consists of 32 CPU cores, 240000 MiB of memory and 0 GPUs and can be shared by up to 32 jobs.\n",
      "sbatch: Single node jobs run on a shared node by default. Add --exclusive if you want to use a node exclusively.\n",
      "sbatch: You will be charged for 0.03125 node. A full node consists of 32 CPU cores, 240000 MiB of memory and 0 GPUs and can be shared by up to 32 jobs.\n"
     ]
    },
    {
     "name": "stdout",
     "output_type": "stream",
     "text": [
      "Submitted batch job 418164\n",
      "Submitted batch job 418165\n",
      "Submitted batch job 418166\n",
      "Submitted batch job 418167\n",
      "Submitted batch job 418168\n",
      "Submitted batch job 418169\n",
      "Submitted batch job 418170\n",
      "Submitted batch job 418171\n"
     ]
    },
    {
     "name": "stderr",
     "output_type": "stream",
     "text": [
      "sbatch: Single node jobs run on a shared node by default. Add --exclusive if you want to use a node exclusively.\n",
      "sbatch: You will be charged for 0.03125 node. A full node consists of 32 CPU cores, 240000 MiB of memory and 0 GPUs and can be shared by up to 32 jobs.\n",
      "sbatch: Single node jobs run on a shared node by default. Add --exclusive if you want to use a node exclusively.\n",
      "sbatch: You will be charged for 0.03125 node. A full node consists of 32 CPU cores, 240000 MiB of memory and 0 GPUs and can be shared by up to 32 jobs.\n",
      "sbatch: Single node jobs run on a shared node by default. Add --exclusive if you want to use a node exclusively.\n",
      "sbatch: You will be charged for 0.03125 node. A full node consists of 32 CPU cores, 240000 MiB of memory and 0 GPUs and can be shared by up to 32 jobs.\n",
      "sbatch: Single node jobs run on a shared node by default. Add --exclusive if you want to use a node exclusively.\n",
      "sbatch: You will be charged for 0.03125 node. A full node consists of 32 CPU cores, 240000 MiB of memory and 0 GPUs and can be shared by up to 32 jobs.\n",
      "sbatch: Single node jobs run on a shared node by default. Add --exclusive if you want to use a node exclusively.\n",
      "sbatch: You will be charged for 0.03125 node. A full node consists of 32 CPU cores, 240000 MiB of memory and 0 GPUs and can be shared by up to 32 jobs.\n",
      "sbatch: Single node jobs run on a shared node by default. Add --exclusive if you want to use a node exclusively.\n",
      "sbatch: You will be charged for 0.03125 node. A full node consists of 32 CPU cores, 240000 MiB of memory and 0 GPUs and can be shared by up to 32 jobs.\n",
      "sbatch: Single node jobs run on a shared node by default. Add --exclusive if you want to use a node exclusively.\n",
      "sbatch: You will be charged for 0.03125 node. A full node consists of 32 CPU cores, 240000 MiB of memory and 0 GPUs and can be shared by up to 32 jobs.\n",
      "sbatch: Single node jobs run on a shared node by default. Add --exclusive if you want to use a node exclusively.\n",
      "sbatch: You will be charged for 0.03125 node. A full node consists of 32 CPU cores, 240000 MiB of memory and 0 GPUs and can be shared by up to 32 jobs.\n"
     ]
    },
    {
     "name": "stdout",
     "output_type": "stream",
     "text": [
      "Submitted batch job 418172\n",
      "Submitted batch job 418173\n",
      "Submitted batch job 418174\n",
      "Submitted batch job 418175\n"
     ]
    },
    {
     "name": "stderr",
     "output_type": "stream",
     "text": [
      "sbatch: Single node jobs run on a shared node by default. Add --exclusive if you want to use a node exclusively.\n",
      "sbatch: You will be charged for 0.03125 node. A full node consists of 32 CPU cores, 240000 MiB of memory and 0 GPUs and can be shared by up to 32 jobs.\n",
      "sbatch: Single node jobs run on a shared node by default. Add --exclusive if you want to use a node exclusively.\n",
      "sbatch: You will be charged for 0.03125 node. A full node consists of 32 CPU cores, 240000 MiB of memory and 0 GPUs and can be shared by up to 32 jobs.\n",
      "sbatch: Single node jobs run on a shared node by default. Add --exclusive if you want to use a node exclusively.\n",
      "sbatch: You will be charged for 0.03125 node. A full node consists of 32 CPU cores, 240000 MiB of memory and 0 GPUs and can be shared by up to 32 jobs.\n",
      "sbatch: Single node jobs run on a shared node by default. Add --exclusive if you want to use a node exclusively.\n",
      "sbatch: You will be charged for 0.03125 node. A full node consists of 32 CPU cores, 240000 MiB of memory and 0 GPUs and can be shared by up to 32 jobs.\n"
     ]
    },
    {
     "name": "stdout",
     "output_type": "stream",
     "text": [
      "Submitted batch job 418176\n",
      "Submitted batch job 418177\n",
      "Submitted batch job 418178\n",
      "Submitted batch job 418179\n"
     ]
    },
    {
     "name": "stderr",
     "output_type": "stream",
     "text": [
      "sbatch: Single node jobs run on a shared node by default. Add --exclusive if you want to use a node exclusively.\n",
      "sbatch: You will be charged for 0.03125 node. A full node consists of 32 CPU cores, 240000 MiB of memory and 0 GPUs and can be shared by up to 32 jobs.\n",
      "sbatch: Single node jobs run on a shared node by default. Add --exclusive if you want to use a node exclusively.\n",
      "sbatch: You will be charged for 0.03125 node. A full node consists of 32 CPU cores, 240000 MiB of memory and 0 GPUs and can be shared by up to 32 jobs.\n",
      "sbatch: Single node jobs run on a shared node by default. Add --exclusive if you want to use a node exclusively.\n",
      "sbatch: You will be charged for 0.03125 node. A full node consists of 32 CPU cores, 240000 MiB of memory and 0 GPUs and can be shared by up to 32 jobs.\n",
      "sbatch: Single node jobs run on a shared node by default. Add --exclusive if you want to use a node exclusively.\n",
      "sbatch: You will be charged for 0.03125 node. A full node consists of 32 CPU cores, 240000 MiB of memory and 0 GPUs and can be shared by up to 32 jobs.\n"
     ]
    },
    {
     "name": "stdout",
     "output_type": "stream",
     "text": [
      "Submitted batch job 418180\n",
      "Submitted batch job 418182\n",
      "Submitted batch job 418183\n",
      "Submitted batch job 418184\n",
      "Submitted batch job 418185\n",
      "Submitted batch job 418186\n",
      "Submitted batch job 418187\n",
      "Submitted batch job 418188\n"
     ]
    },
    {
     "name": "stderr",
     "output_type": "stream",
     "text": [
      "sbatch: Single node jobs run on a shared node by default. Add --exclusive if you want to use a node exclusively.\n",
      "sbatch: You will be charged for 0.03125 node. A full node consists of 32 CPU cores, 240000 MiB of memory and 0 GPUs and can be shared by up to 32 jobs.\n",
      "sbatch: Single node jobs run on a shared node by default. Add --exclusive if you want to use a node exclusively.\n",
      "sbatch: You will be charged for 0.03125 node. A full node consists of 32 CPU cores, 240000 MiB of memory and 0 GPUs and can be shared by up to 32 jobs.\n",
      "sbatch: Single node jobs run on a shared node by default. Add --exclusive if you want to use a node exclusively.\n",
      "sbatch: You will be charged for 0.03125 node. A full node consists of 32 CPU cores, 240000 MiB of memory and 0 GPUs and can be shared by up to 32 jobs.\n",
      "sbatch: Single node jobs run on a shared node by default. Add --exclusive if you want to use a node exclusively.\n",
      "sbatch: You will be charged for 0.03125 node. A full node consists of 32 CPU cores, 240000 MiB of memory and 0 GPUs and can be shared by up to 32 jobs.\n"
     ]
    },
    {
     "name": "stdout",
     "output_type": "stream",
     "text": [
      "Submitted batch job 418189\n",
      "Submitted batch job 418190\n",
      "Submitted batch job 418191\n",
      "Submitted batch job 418192\n"
     ]
    },
    {
     "name": "stderr",
     "output_type": "stream",
     "text": [
      "sbatch: Single node jobs run on a shared node by default. Add --exclusive if you want to use a node exclusively.\n",
      "sbatch: You will be charged for 0.03125 node. A full node consists of 32 CPU cores, 240000 MiB of memory and 0 GPUs and can be shared by up to 32 jobs.\n",
      "sbatch: Single node jobs run on a shared node by default. Add --exclusive if you want to use a node exclusively.\n",
      "sbatch: You will be charged for 0.03125 node. A full node consists of 32 CPU cores, 240000 MiB of memory and 0 GPUs and can be shared by up to 32 jobs.\n",
      "sbatch: Single node jobs run on a shared node by default. Add --exclusive if you want to use a node exclusively.\n",
      "sbatch: You will be charged for 0.03125 node. A full node consists of 32 CPU cores, 240000 MiB of memory and 0 GPUs and can be shared by up to 32 jobs.\n",
      "sbatch: Single node jobs run on a shared node by default. Add --exclusive if you want to use a node exclusively.\n",
      "sbatch: You will be charged for 0.03125 node. A full node consists of 32 CPU cores, 240000 MiB of memory and 0 GPUs and can be shared by up to 32 jobs.\n"
     ]
    },
    {
     "name": "stdout",
     "output_type": "stream",
     "text": [
      "Submitted batch job 418193\n",
      "Submitted batch job 418194\n",
      "Submitted batch job 418195\n",
      "Submitted batch job 418196\n"
     ]
    },
    {
     "name": "stderr",
     "output_type": "stream",
     "text": [
      "sbatch: Single node jobs run on a shared node by default. Add --exclusive if you want to use a node exclusively.\n",
      "sbatch: You will be charged for 0.03125 node. A full node consists of 32 CPU cores, 240000 MiB of memory and 0 GPUs and can be shared by up to 32 jobs.\n",
      "sbatch: Single node jobs run on a shared node by default. Add --exclusive if you want to use a node exclusively.\n",
      "sbatch: You will be charged for 0.03125 node. A full node consists of 32 CPU cores, 240000 MiB of memory and 0 GPUs and can be shared by up to 32 jobs.\n",
      "sbatch: Single node jobs run on a shared node by default. Add --exclusive if you want to use a node exclusively.\n",
      "sbatch: You will be charged for 0.03125 node. A full node consists of 32 CPU cores, 240000 MiB of memory and 0 GPUs and can be shared by up to 32 jobs.\n",
      "sbatch: Single node jobs run on a shared node by default. Add --exclusive if you want to use a node exclusively.\n",
      "sbatch: You will be charged for 0.03125 node. A full node consists of 32 CPU cores, 240000 MiB of memory and 0 GPUs and can be shared by up to 32 jobs.\n",
      "sbatch: Single node jobs run on a shared node by default. Add --exclusive if you want to use a node exclusively.\n",
      "sbatch: You will be charged for 0.03125 node. A full node consists of 32 CPU cores, 240000 MiB of memory and 0 GPUs and can be shared by up to 32 jobs.\n",
      "sbatch: Single node jobs run on a shared node by default. Add --exclusive if you want to use a node exclusively.\n",
      "sbatch: You will be charged for 0.03125 node. A full node consists of 32 CPU cores, 240000 MiB of memory and 0 GPUs and can be shared by up to 32 jobs.\n",
      "sbatch: Single node jobs run on a shared node by default. Add --exclusive if you want to use a node exclusively.\n",
      "sbatch: You will be charged for 0.03125 node. A full node consists of 32 CPU cores, 240000 MiB of memory and 0 GPUs and can be shared by up to 32 jobs.\n",
      "sbatch: Single node jobs run on a shared node by default. Add --exclusive if you want to use a node exclusively.\n",
      "sbatch: You will be charged for 0.03125 node. A full node consists of 32 CPU cores, 240000 MiB of memory and 0 GPUs and can be shared by up to 32 jobs.\n"
     ]
    },
    {
     "name": "stdout",
     "output_type": "stream",
     "text": [
      "Submitted batch job 418197\n",
      "Submitted batch job 418198\n",
      "Submitted batch job 418199\n",
      "Submitted batch job 418200\n"
     ]
    },
    {
     "name": "stderr",
     "output_type": "stream",
     "text": [
      "sbatch: Single node jobs run on a shared node by default. Add --exclusive if you want to use a node exclusively.\n",
      "sbatch: You will be charged for 0.03125 node. A full node consists of 32 CPU cores, 240000 MiB of memory and 0 GPUs and can be shared by up to 32 jobs.\n",
      "sbatch: Single node jobs run on a shared node by default. Add --exclusive if you want to use a node exclusively.\n",
      "sbatch: You will be charged for 0.03125 node. A full node consists of 32 CPU cores, 240000 MiB of memory and 0 GPUs and can be shared by up to 32 jobs.\n",
      "sbatch: Single node jobs run on a shared node by default. Add --exclusive if you want to use a node exclusively.\n",
      "sbatch: You will be charged for 0.03125 node. A full node consists of 32 CPU cores, 240000 MiB of memory and 0 GPUs and can be shared by up to 32 jobs.\n",
      "sbatch: Single node jobs run on a shared node by default. Add --exclusive if you want to use a node exclusively.\n",
      "sbatch: You will be charged for 0.03125 node. A full node consists of 32 CPU cores, 240000 MiB of memory and 0 GPUs and can be shared by up to 32 jobs.\n"
     ]
    },
    {
     "name": "stdout",
     "output_type": "stream",
     "text": [
      "Submitted batch job 418201\n",
      "Submitted batch job 418203\n",
      "Submitted batch job 418204\n",
      "Submitted batch job 418205\n"
     ]
    },
    {
     "name": "stderr",
     "output_type": "stream",
     "text": [
      "sbatch: Single node jobs run on a shared node by default. Add --exclusive if you want to use a node exclusively.\n",
      "sbatch: You will be charged for 0.03125 node. A full node consists of 32 CPU cores, 240000 MiB of memory and 0 GPUs and can be shared by up to 32 jobs.\n",
      "sbatch: Single node jobs run on a shared node by default. Add --exclusive if you want to use a node exclusively.\n",
      "sbatch: You will be charged for 0.03125 node. A full node consists of 32 CPU cores, 240000 MiB of memory and 0 GPUs and can be shared by up to 32 jobs.\n",
      "sbatch: Single node jobs run on a shared node by default. Add --exclusive if you want to use a node exclusively.\n",
      "sbatch: You will be charged for 0.03125 node. A full node consists of 32 CPU cores, 240000 MiB of memory and 0 GPUs and can be shared by up to 32 jobs.\n",
      "sbatch: Single node jobs run on a shared node by default. Add --exclusive if you want to use a node exclusively.\n",
      "sbatch: You will be charged for 0.03125 node. A full node consists of 32 CPU cores, 240000 MiB of memory and 0 GPUs and can be shared by up to 32 jobs.\n"
     ]
    },
    {
     "name": "stdout",
     "output_type": "stream",
     "text": [
      "Submitted batch job 418206\n",
      "Submitted batch job 418207\n",
      "Submitted batch job 418208\n",
      "Submitted batch job 418209\n"
     ]
    },
    {
     "name": "stderr",
     "output_type": "stream",
     "text": [
      "sbatch: Single node jobs run on a shared node by default. Add --exclusive if you want to use a node exclusively.\n",
      "sbatch: You will be charged for 0.03125 node. A full node consists of 32 CPU cores, 240000 MiB of memory and 0 GPUs and can be shared by up to 32 jobs.\n",
      "sbatch: Single node jobs run on a shared node by default. Add --exclusive if you want to use a node exclusively.\n",
      "sbatch: You will be charged for 0.03125 node. A full node consists of 32 CPU cores, 240000 MiB of memory and 0 GPUs and can be shared by up to 32 jobs.\n",
      "sbatch: Single node jobs run on a shared node by default. Add --exclusive if you want to use a node exclusively.\n",
      "sbatch: You will be charged for 0.03125 node. A full node consists of 32 CPU cores, 240000 MiB of memory and 0 GPUs and can be shared by up to 32 jobs.\n",
      "sbatch: Single node jobs run on a shared node by default. Add --exclusive if you want to use a node exclusively.\n",
      "sbatch: You will be charged for 0.03125 node. A full node consists of 32 CPU cores, 240000 MiB of memory and 0 GPUs and can be shared by up to 32 jobs.\n"
     ]
    },
    {
     "name": "stdout",
     "output_type": "stream",
     "text": [
      "Submitted batch job 418210\n",
      "Submitted batch job 418211\n",
      "Submitted batch job 418212\n",
      "Submitted batch job 418213\n"
     ]
    },
    {
     "name": "stderr",
     "output_type": "stream",
     "text": [
      "sbatch: Single node jobs run on a shared node by default. Add --exclusive if you want to use a node exclusively.\n",
      "sbatch: You will be charged for 0.03125 node. A full node consists of 32 CPU cores, 240000 MiB of memory and 0 GPUs and can be shared by up to 32 jobs.\n",
      "sbatch: Single node jobs run on a shared node by default. Add --exclusive if you want to use a node exclusively.\n",
      "sbatch: You will be charged for 0.03125 node. A full node consists of 32 CPU cores, 240000 MiB of memory and 0 GPUs and can be shared by up to 32 jobs.\n",
      "sbatch: Single node jobs run on a shared node by default. Add --exclusive if you want to use a node exclusively.\n",
      "sbatch: You will be charged for 0.03125 node. A full node consists of 32 CPU cores, 240000 MiB of memory and 0 GPUs and can be shared by up to 32 jobs.\n",
      "sbatch: Single node jobs run on a shared node by default. Add --exclusive if you want to use a node exclusively.\n",
      "sbatch: You will be charged for 0.03125 node. A full node consists of 32 CPU cores, 240000 MiB of memory and 0 GPUs and can be shared by up to 32 jobs.\n"
     ]
    },
    {
     "name": "stdout",
     "output_type": "stream",
     "text": [
      "Submitted batch job 418214\n",
      "Submitted batch job 418215\n",
      "Submitted batch job 418216\n",
      "Submitted batch job 418217\n"
     ]
    },
    {
     "name": "stderr",
     "output_type": "stream",
     "text": [
      "sbatch: Single node jobs run on a shared node by default. Add --exclusive if you want to use a node exclusively.\n",
      "sbatch: You will be charged for 0.03125 node. A full node consists of 32 CPU cores, 240000 MiB of memory and 0 GPUs and can be shared by up to 32 jobs.\n",
      "sbatch: Single node jobs run on a shared node by default. Add --exclusive if you want to use a node exclusively.\n",
      "sbatch: You will be charged for 0.03125 node. A full node consists of 32 CPU cores, 240000 MiB of memory and 0 GPUs and can be shared by up to 32 jobs.\n",
      "sbatch: Single node jobs run on a shared node by default. Add --exclusive if you want to use a node exclusively.\n",
      "sbatch: You will be charged for 0.03125 node. A full node consists of 32 CPU cores, 240000 MiB of memory and 0 GPUs and can be shared by up to 32 jobs.\n",
      "sbatch: Single node jobs run on a shared node by default. Add --exclusive if you want to use a node exclusively.\n",
      "sbatch: You will be charged for 0.03125 node. A full node consists of 32 CPU cores, 240000 MiB of memory and 0 GPUs and can be shared by up to 32 jobs.\n"
     ]
    },
    {
     "name": "stdout",
     "output_type": "stream",
     "text": [
      "Submitted batch job 418218\n",
      "Submitted batch job 418219\n",
      "Submitted batch job 418220\n",
      "Submitted batch job 418221\n"
     ]
    },
    {
     "name": "stderr",
     "output_type": "stream",
     "text": [
      "sbatch: Single node jobs run on a shared node by default. Add --exclusive if you want to use a node exclusively.\n",
      "sbatch: You will be charged for 0.03125 node. A full node consists of 32 CPU cores, 240000 MiB of memory and 0 GPUs and can be shared by up to 32 jobs.\n",
      "sbatch: Single node jobs run on a shared node by default. Add --exclusive if you want to use a node exclusively.\n",
      "sbatch: You will be charged for 0.03125 node. A full node consists of 32 CPU cores, 240000 MiB of memory and 0 GPUs and can be shared by up to 32 jobs.\n",
      "sbatch: Single node jobs run on a shared node by default. Add --exclusive if you want to use a node exclusively.\n",
      "sbatch: You will be charged for 0.03125 node. A full node consists of 32 CPU cores, 240000 MiB of memory and 0 GPUs and can be shared by up to 32 jobs.\n",
      "sbatch: Single node jobs run on a shared node by default. Add --exclusive if you want to use a node exclusively.\n",
      "sbatch: You will be charged for 0.03125 node. A full node consists of 32 CPU cores, 240000 MiB of memory and 0 GPUs and can be shared by up to 32 jobs.\n",
      "sbatch: Single node jobs run on a shared node by default. Add --exclusive if you want to use a node exclusively.\n",
      "sbatch: You will be charged for 0.03125 node. A full node consists of 32 CPU cores, 240000 MiB of memory and 0 GPUs and can be shared by up to 32 jobs.\n"
     ]
    },
    {
     "name": "stdout",
     "output_type": "stream",
     "text": [
      "Submitted batch job 418222\n",
      "Submitted batch job 418224\n",
      "Submitted batch job 418225\n",
      "Submitted batch job 418226\n",
      "Submitted batch job 418227\n"
     ]
    },
    {
     "name": "stderr",
     "output_type": "stream",
     "text": [
      "sbatch: Single node jobs run on a shared node by default. Add --exclusive if you want to use a node exclusively.\n",
      "sbatch: You will be charged for 0.03125 node. A full node consists of 32 CPU cores, 240000 MiB of memory and 0 GPUs and can be shared by up to 32 jobs.\n",
      "sbatch: Single node jobs run on a shared node by default. Add --exclusive if you want to use a node exclusively.\n",
      "sbatch: You will be charged for 0.03125 node. A full node consists of 32 CPU cores, 240000 MiB of memory and 0 GPUs and can be shared by up to 32 jobs.\n",
      "sbatch: Single node jobs run on a shared node by default. Add --exclusive if you want to use a node exclusively.\n",
      "sbatch: You will be charged for 0.03125 node. A full node consists of 32 CPU cores, 240000 MiB of memory and 0 GPUs and can be shared by up to 32 jobs.\n",
      "sbatch: Single node jobs run on a shared node by default. Add --exclusive if you want to use a node exclusively.\n",
      "sbatch: You will be charged for 0.03125 node. A full node consists of 32 CPU cores, 240000 MiB of memory and 0 GPUs and can be shared by up to 32 jobs.\n"
     ]
    },
    {
     "name": "stdout",
     "output_type": "stream",
     "text": [
      "Submitted batch job 418228\n",
      "Submitted batch job 418229\n",
      "Submitted batch job 418230\n",
      "Submitted batch job 418231\n"
     ]
    },
    {
     "name": "stderr",
     "output_type": "stream",
     "text": [
      "sbatch: Single node jobs run on a shared node by default. Add --exclusive if you want to use a node exclusively.\n",
      "sbatch: You will be charged for 0.03125 node. A full node consists of 32 CPU cores, 240000 MiB of memory and 0 GPUs and can be shared by up to 32 jobs.\n",
      "sbatch: Single node jobs run on a shared node by default. Add --exclusive if you want to use a node exclusively.\n",
      "sbatch: You will be charged for 0.03125 node. A full node consists of 32 CPU cores, 240000 MiB of memory and 0 GPUs and can be shared by up to 32 jobs.\n",
      "sbatch: Single node jobs run on a shared node by default. Add --exclusive if you want to use a node exclusively.\n",
      "sbatch: You will be charged for 0.03125 node. A full node consists of 32 CPU cores, 240000 MiB of memory and 0 GPUs and can be shared by up to 32 jobs.\n",
      "sbatch: Single node jobs run on a shared node by default. Add --exclusive if you want to use a node exclusively.\n",
      "sbatch: You will be charged for 0.03125 node. A full node consists of 32 CPU cores, 240000 MiB of memory and 0 GPUs and can be shared by up to 32 jobs.\n"
     ]
    },
    {
     "name": "stdout",
     "output_type": "stream",
     "text": [
      "Submitted batch job 418232\n",
      "Submitted batch job 418233\n",
      "Submitted batch job 418234\n",
      "Submitted batch job 418235\n"
     ]
    },
    {
     "name": "stderr",
     "output_type": "stream",
     "text": [
      "sbatch: Single node jobs run on a shared node by default. Add --exclusive if you want to use a node exclusively.\n",
      "sbatch: You will be charged for 0.03125 node. A full node consists of 32 CPU cores, 240000 MiB of memory and 0 GPUs and can be shared by up to 32 jobs.\n",
      "sbatch: Single node jobs run on a shared node by default. Add --exclusive if you want to use a node exclusively.\n",
      "sbatch: You will be charged for 0.03125 node. A full node consists of 32 CPU cores, 240000 MiB of memory and 0 GPUs and can be shared by up to 32 jobs.\n",
      "sbatch: Single node jobs run on a shared node by default. Add --exclusive if you want to use a node exclusively.\n",
      "sbatch: You will be charged for 0.03125 node. A full node consists of 32 CPU cores, 240000 MiB of memory and 0 GPUs and can be shared by up to 32 jobs.\n",
      "sbatch: Single node jobs run on a shared node by default. Add --exclusive if you want to use a node exclusively.\n",
      "sbatch: You will be charged for 0.03125 node. A full node consists of 32 CPU cores, 240000 MiB of memory and 0 GPUs and can be shared by up to 32 jobs.\n"
     ]
    },
    {
     "name": "stdout",
     "output_type": "stream",
     "text": [
      "Submitted batch job 418236\n",
      "Submitted batch job 418237\n",
      "Submitted batch job 418238\n",
      "Submitted batch job 418239\n"
     ]
    },
    {
     "name": "stderr",
     "output_type": "stream",
     "text": [
      "sbatch: Single node jobs run on a shared node by default. Add --exclusive if you want to use a node exclusively.\n",
      "sbatch: You will be charged for 0.03125 node. A full node consists of 32 CPU cores, 240000 MiB of memory and 0 GPUs and can be shared by up to 32 jobs.\n",
      "sbatch: Single node jobs run on a shared node by default. Add --exclusive if you want to use a node exclusively.\n",
      "sbatch: You will be charged for 0.03125 node. A full node consists of 32 CPU cores, 240000 MiB of memory and 0 GPUs and can be shared by up to 32 jobs.\n",
      "sbatch: Single node jobs run on a shared node by default. Add --exclusive if you want to use a node exclusively.\n",
      "sbatch: You will be charged for 0.03125 node. A full node consists of 32 CPU cores, 240000 MiB of memory and 0 GPUs and can be shared by up to 32 jobs.\n",
      "sbatch: Single node jobs run on a shared node by default. Add --exclusive if you want to use a node exclusively.\n",
      "sbatch: You will be charged for 0.03125 node. A full node consists of 32 CPU cores, 240000 MiB of memory and 0 GPUs and can be shared by up to 32 jobs.\n"
     ]
    },
    {
     "name": "stdout",
     "output_type": "stream",
     "text": [
      "Submitted batch job 418240\n",
      "Submitted batch job 418241\n",
      "Submitted batch job 418242\n",
      "Submitted batch job 418243\n"
     ]
    },
    {
     "name": "stderr",
     "output_type": "stream",
     "text": [
      "sbatch: Single node jobs run on a shared node by default. Add --exclusive if you want to use a node exclusively.\n",
      "sbatch: You will be charged for 0.03125 node. A full node consists of 32 CPU cores, 240000 MiB of memory and 0 GPUs and can be shared by up to 32 jobs.\n",
      "sbatch: Single node jobs run on a shared node by default. Add --exclusive if you want to use a node exclusively.\n",
      "sbatch: You will be charged for 0.03125 node. A full node consists of 32 CPU cores, 240000 MiB of memory and 0 GPUs and can be shared by up to 32 jobs.\n",
      "sbatch: Single node jobs run on a shared node by default. Add --exclusive if you want to use a node exclusively.\n",
      "sbatch: You will be charged for 0.03125 node. A full node consists of 32 CPU cores, 240000 MiB of memory and 0 GPUs and can be shared by up to 32 jobs.\n",
      "sbatch: Single node jobs run on a shared node by default. Add --exclusive if you want to use a node exclusively.\n",
      "sbatch: You will be charged for 0.03125 node. A full node consists of 32 CPU cores, 240000 MiB of memory and 0 GPUs and can be shared by up to 32 jobs.\n"
     ]
    },
    {
     "name": "stdout",
     "output_type": "stream",
     "text": [
      "Submitted batch job 418244\n",
      "Submitted batch job 418246\n",
      "Submitted batch job 418247\n",
      "Submitted batch job 418248\n"
     ]
    },
    {
     "name": "stderr",
     "output_type": "stream",
     "text": [
      "sbatch: Single node jobs run on a shared node by default. Add --exclusive if you want to use a node exclusively.\n",
      "sbatch: You will be charged for 0.03125 node. A full node consists of 32 CPU cores, 240000 MiB of memory and 0 GPUs and can be shared by up to 32 jobs.\n",
      "sbatch: Single node jobs run on a shared node by default. Add --exclusive if you want to use a node exclusively.\n",
      "sbatch: You will be charged for 0.03125 node. A full node consists of 32 CPU cores, 240000 MiB of memory and 0 GPUs and can be shared by up to 32 jobs.\n",
      "sbatch: Single node jobs run on a shared node by default. Add --exclusive if you want to use a node exclusively.\n",
      "sbatch: You will be charged for 0.03125 node. A full node consists of 32 CPU cores, 240000 MiB of memory and 0 GPUs and can be shared by up to 32 jobs.\n",
      "sbatch: Single node jobs run on a shared node by default. Add --exclusive if you want to use a node exclusively.\n",
      "sbatch: You will be charged for 0.03125 node. A full node consists of 32 CPU cores, 240000 MiB of memory and 0 GPUs and can be shared by up to 32 jobs.\n"
     ]
    },
    {
     "name": "stdout",
     "output_type": "stream",
     "text": [
      "Submitted batch job 418249\n",
      "Submitted batch job 418250\n",
      "Submitted batch job 418251\n",
      "Submitted batch job 418252\n"
     ]
    },
    {
     "name": "stderr",
     "output_type": "stream",
     "text": [
      "sbatch: Single node jobs run on a shared node by default. Add --exclusive if you want to use a node exclusively.\n",
      "sbatch: You will be charged for 0.03125 node. A full node consists of 32 CPU cores, 240000 MiB of memory and 0 GPUs and can be shared by up to 32 jobs.\n",
      "sbatch: Single node jobs run on a shared node by default. Add --exclusive if you want to use a node exclusively.\n",
      "sbatch: You will be charged for 0.03125 node. A full node consists of 32 CPU cores, 240000 MiB of memory and 0 GPUs and can be shared by up to 32 jobs.\n",
      "sbatch: Single node jobs run on a shared node by default. Add --exclusive if you want to use a node exclusively.\n",
      "sbatch: You will be charged for 0.03125 node. A full node consists of 32 CPU cores, 240000 MiB of memory and 0 GPUs and can be shared by up to 32 jobs.\n",
      "sbatch: Single node jobs run on a shared node by default. Add --exclusive if you want to use a node exclusively.\n",
      "sbatch: You will be charged for 0.03125 node. A full node consists of 32 CPU cores, 240000 MiB of memory and 0 GPUs and can be shared by up to 32 jobs.\n"
     ]
    },
    {
     "name": "stdout",
     "output_type": "stream",
     "text": [
      "Submitted batch job 418253\n",
      "Submitted batch job 418254\n",
      "Submitted batch job 418255\n",
      "Submitted batch job 418256\n"
     ]
    },
    {
     "name": "stderr",
     "output_type": "stream",
     "text": [
      "sbatch: Single node jobs run on a shared node by default. Add --exclusive if you want to use a node exclusively.\n",
      "sbatch: You will be charged for 0.03125 node. A full node consists of 32 CPU cores, 240000 MiB of memory and 0 GPUs and can be shared by up to 32 jobs.\n",
      "sbatch: Single node jobs run on a shared node by default. Add --exclusive if you want to use a node exclusively.\n",
      "sbatch: You will be charged for 0.03125 node. A full node consists of 32 CPU cores, 240000 MiB of memory and 0 GPUs and can be shared by up to 32 jobs.\n",
      "sbatch: Single node jobs run on a shared node by default. Add --exclusive if you want to use a node exclusively.\n",
      "sbatch: You will be charged for 0.03125 node. A full node consists of 32 CPU cores, 240000 MiB of memory and 0 GPUs and can be shared by up to 32 jobs.\n",
      "sbatch: Single node jobs run on a shared node by default. Add --exclusive if you want to use a node exclusively.\n",
      "sbatch: You will be charged for 0.03125 node. A full node consists of 32 CPU cores, 240000 MiB of memory and 0 GPUs and can be shared by up to 32 jobs.\n"
     ]
    },
    {
     "name": "stdout",
     "output_type": "stream",
     "text": [
      "Submitted batch job 418257\n",
      "Submitted batch job 418258\n",
      "Submitted batch job 418259\n",
      "Submitted batch job 418260\n",
      "Submitted batch job 418261\n",
      "Submitted batch job 418262\n",
      "Submitted batch job 418263\n",
      "Submitted batch job 418264\n"
     ]
    },
    {
     "name": "stderr",
     "output_type": "stream",
     "text": [
      "sbatch: Single node jobs run on a shared node by default. Add --exclusive if you want to use a node exclusively.\n",
      "sbatch: You will be charged for 0.03125 node. A full node consists of 32 CPU cores, 240000 MiB of memory and 0 GPUs and can be shared by up to 32 jobs.\n",
      "sbatch: Single node jobs run on a shared node by default. Add --exclusive if you want to use a node exclusively.\n",
      "sbatch: You will be charged for 0.03125 node. A full node consists of 32 CPU cores, 240000 MiB of memory and 0 GPUs and can be shared by up to 32 jobs.\n",
      "sbatch: Single node jobs run on a shared node by default. Add --exclusive if you want to use a node exclusively.\n",
      "sbatch: You will be charged for 0.03125 node. A full node consists of 32 CPU cores, 240000 MiB of memory and 0 GPUs and can be shared by up to 32 jobs.\n",
      "sbatch: Single node jobs run on a shared node by default. Add --exclusive if you want to use a node exclusively.\n",
      "sbatch: You will be charged for 0.03125 node. A full node consists of 32 CPU cores, 240000 MiB of memory and 0 GPUs and can be shared by up to 32 jobs.\n",
      "sbatch: Single node jobs run on a shared node by default. Add --exclusive if you want to use a node exclusively.\n",
      "sbatch: You will be charged for 0.03125 node. A full node consists of 32 CPU cores, 240000 MiB of memory and 0 GPUs and can be shared by up to 32 jobs.\n",
      "sbatch: Single node jobs run on a shared node by default. Add --exclusive if you want to use a node exclusively.\n",
      "sbatch: You will be charged for 0.03125 node. A full node consists of 32 CPU cores, 240000 MiB of memory and 0 GPUs and can be shared by up to 32 jobs.\n",
      "sbatch: Single node jobs run on a shared node by default. Add --exclusive if you want to use a node exclusively.\n",
      "sbatch: You will be charged for 0.03125 node. A full node consists of 32 CPU cores, 240000 MiB of memory and 0 GPUs and can be shared by up to 32 jobs.\n",
      "sbatch: Single node jobs run on a shared node by default. Add --exclusive if you want to use a node exclusively.\n",
      "sbatch: You will be charged for 0.03125 node. A full node consists of 32 CPU cores, 240000 MiB of memory and 0 GPUs and can be shared by up to 32 jobs.\n"
     ]
    },
    {
     "name": "stdout",
     "output_type": "stream",
     "text": [
      "Submitted batch job 418265\n",
      "Submitted batch job 418266\n",
      "Submitted batch job 418268\n",
      "Submitted batch job 418269\n"
     ]
    },
    {
     "name": "stderr",
     "output_type": "stream",
     "text": [
      "sbatch: Single node jobs run on a shared node by default. Add --exclusive if you want to use a node exclusively.\n",
      "sbatch: You will be charged for 0.03125 node. A full node consists of 32 CPU cores, 240000 MiB of memory and 0 GPUs and can be shared by up to 32 jobs.\n",
      "sbatch: Single node jobs run on a shared node by default. Add --exclusive if you want to use a node exclusively.\n",
      "sbatch: You will be charged for 0.03125 node. A full node consists of 32 CPU cores, 240000 MiB of memory and 0 GPUs and can be shared by up to 32 jobs.\n",
      "sbatch: Single node jobs run on a shared node by default. Add --exclusive if you want to use a node exclusively.\n",
      "sbatch: You will be charged for 0.03125 node. A full node consists of 32 CPU cores, 240000 MiB of memory and 0 GPUs and can be shared by up to 32 jobs.\n",
      "sbatch: Single node jobs run on a shared node by default. Add --exclusive if you want to use a node exclusively.\n",
      "sbatch: You will be charged for 0.03125 node. A full node consists of 32 CPU cores, 240000 MiB of memory and 0 GPUs and can be shared by up to 32 jobs.\n"
     ]
    },
    {
     "name": "stdout",
     "output_type": "stream",
     "text": [
      "Submitted batch job 418270\n",
      "Submitted batch job 418271\n",
      "Submitted batch job 418272\n",
      "Submitted batch job 418273\n"
     ]
    },
    {
     "name": "stderr",
     "output_type": "stream",
     "text": [
      "sbatch: Single node jobs run on a shared node by default. Add --exclusive if you want to use a node exclusively.\n",
      "sbatch: You will be charged for 0.03125 node. A full node consists of 32 CPU cores, 240000 MiB of memory and 0 GPUs and can be shared by up to 32 jobs.\n",
      "sbatch: Single node jobs run on a shared node by default. Add --exclusive if you want to use a node exclusively.\n",
      "sbatch: You will be charged for 0.03125 node. A full node consists of 32 CPU cores, 240000 MiB of memory and 0 GPUs and can be shared by up to 32 jobs.\n",
      "sbatch: Single node jobs run on a shared node by default. Add --exclusive if you want to use a node exclusively.\n",
      "sbatch: You will be charged for 0.03125 node. A full node consists of 32 CPU cores, 240000 MiB of memory and 0 GPUs and can be shared by up to 32 jobs.\n",
      "sbatch: Single node jobs run on a shared node by default. Add --exclusive if you want to use a node exclusively.\n",
      "sbatch: You will be charged for 0.03125 node. A full node consists of 32 CPU cores, 240000 MiB of memory and 0 GPUs and can be shared by up to 32 jobs.\n"
     ]
    },
    {
     "name": "stdout",
     "output_type": "stream",
     "text": [
      "Submitted batch job 418274\n",
      "Submitted batch job 418275\n",
      "Submitted batch job 418276\n",
      "Submitted batch job 418277\n"
     ]
    },
    {
     "name": "stderr",
     "output_type": "stream",
     "text": [
      "sbatch: Single node jobs run on a shared node by default. Add --exclusive if you want to use a node exclusively.\n",
      "sbatch: You will be charged for 0.03125 node. A full node consists of 32 CPU cores, 240000 MiB of memory and 0 GPUs and can be shared by up to 32 jobs.\n",
      "sbatch: Single node jobs run on a shared node by default. Add --exclusive if you want to use a node exclusively.\n",
      "sbatch: You will be charged for 0.03125 node. A full node consists of 32 CPU cores, 240000 MiB of memory and 0 GPUs and can be shared by up to 32 jobs.\n",
      "sbatch: Single node jobs run on a shared node by default. Add --exclusive if you want to use a node exclusively.\n",
      "sbatch: You will be charged for 0.03125 node. A full node consists of 32 CPU cores, 240000 MiB of memory and 0 GPUs and can be shared by up to 32 jobs.\n",
      "sbatch: Single node jobs run on a shared node by default. Add --exclusive if you want to use a node exclusively.\n",
      "sbatch: You will be charged for 0.03125 node. A full node consists of 32 CPU cores, 240000 MiB of memory and 0 GPUs and can be shared by up to 32 jobs.\n"
     ]
    },
    {
     "name": "stdout",
     "output_type": "stream",
     "text": [
      "Submitted batch job 418278\n",
      "Submitted batch job 418279\n",
      "Submitted batch job 418280\n",
      "Submitted batch job 418281\n",
      "Submitted batch job 418282\n",
      "Submitted batch job 418283\n",
      "Submitted batch job 418284\n",
      "Submitted batch job 418285\n"
     ]
    },
    {
     "name": "stderr",
     "output_type": "stream",
     "text": [
      "sbatch: Single node jobs run on a shared node by default. Add --exclusive if you want to use a node exclusively.\n",
      "sbatch: You will be charged for 0.03125 node. A full node consists of 32 CPU cores, 240000 MiB of memory and 0 GPUs and can be shared by up to 32 jobs.\n",
      "sbatch: Single node jobs run on a shared node by default. Add --exclusive if you want to use a node exclusively.\n",
      "sbatch: You will be charged for 0.03125 node. A full node consists of 32 CPU cores, 240000 MiB of memory and 0 GPUs and can be shared by up to 32 jobs.\n",
      "sbatch: Single node jobs run on a shared node by default. Add --exclusive if you want to use a node exclusively.\n",
      "sbatch: You will be charged for 0.03125 node. A full node consists of 32 CPU cores, 240000 MiB of memory and 0 GPUs and can be shared by up to 32 jobs.\n",
      "sbatch: Single node jobs run on a shared node by default. Add --exclusive if you want to use a node exclusively.\n",
      "sbatch: You will be charged for 0.03125 node. A full node consists of 32 CPU cores, 240000 MiB of memory and 0 GPUs and can be shared by up to 32 jobs.\n",
      "sbatch: Single node jobs run on a shared node by default. Add --exclusive if you want to use a node exclusively.\n",
      "sbatch: You will be charged for 0.03125 node. A full node consists of 32 CPU cores, 240000 MiB of memory and 0 GPUs and can be shared by up to 32 jobs.\n",
      "sbatch: Single node jobs run on a shared node by default. Add --exclusive if you want to use a node exclusively.\n",
      "sbatch: You will be charged for 0.03125 node. A full node consists of 32 CPU cores, 240000 MiB of memory and 0 GPUs and can be shared by up to 32 jobs.\n",
      "sbatch: Single node jobs run on a shared node by default. Add --exclusive if you want to use a node exclusively.\n",
      "sbatch: You will be charged for 0.03125 node. A full node consists of 32 CPU cores, 240000 MiB of memory and 0 GPUs and can be shared by up to 32 jobs.\n",
      "sbatch: Single node jobs run on a shared node by default. Add --exclusive if you want to use a node exclusively.\n",
      "sbatch: You will be charged for 0.03125 node. A full node consists of 32 CPU cores, 240000 MiB of memory and 0 GPUs and can be shared by up to 32 jobs.\n"
     ]
    },
    {
     "name": "stdout",
     "output_type": "stream",
     "text": [
      "Submitted batch job 418286\n",
      "Submitted batch job 418287\n",
      "Submitted batch job 418288\n",
      "Submitted batch job 418290\n"
     ]
    },
    {
     "name": "stderr",
     "output_type": "stream",
     "text": [
      "sbatch: Single node jobs run on a shared node by default. Add --exclusive if you want to use a node exclusively.\n",
      "sbatch: You will be charged for 0.03125 node. A full node consists of 32 CPU cores, 240000 MiB of memory and 0 GPUs and can be shared by up to 32 jobs.\n",
      "sbatch: Single node jobs run on a shared node by default. Add --exclusive if you want to use a node exclusively.\n",
      "sbatch: You will be charged for 0.03125 node. A full node consists of 32 CPU cores, 240000 MiB of memory and 0 GPUs and can be shared by up to 32 jobs.\n",
      "sbatch: Single node jobs run on a shared node by default. Add --exclusive if you want to use a node exclusively.\n",
      "sbatch: You will be charged for 0.03125 node. A full node consists of 32 CPU cores, 240000 MiB of memory and 0 GPUs and can be shared by up to 32 jobs.\n",
      "sbatch: Single node jobs run on a shared node by default. Add --exclusive if you want to use a node exclusively.\n",
      "sbatch: You will be charged for 0.03125 node. A full node consists of 32 CPU cores, 240000 MiB of memory and 0 GPUs and can be shared by up to 32 jobs.\n"
     ]
    },
    {
     "name": "stdout",
     "output_type": "stream",
     "text": [
      "Submitted batch job 418291\n",
      "Submitted batch job 418292\n",
      "Submitted batch job 418293\n",
      "Submitted batch job 418294\n"
     ]
    },
    {
     "name": "stderr",
     "output_type": "stream",
     "text": [
      "sbatch: Single node jobs run on a shared node by default. Add --exclusive if you want to use a node exclusively.\n",
      "sbatch: You will be charged for 0.03125 node. A full node consists of 32 CPU cores, 240000 MiB of memory and 0 GPUs and can be shared by up to 32 jobs.\n",
      "sbatch: Single node jobs run on a shared node by default. Add --exclusive if you want to use a node exclusively.\n",
      "sbatch: You will be charged for 0.03125 node. A full node consists of 32 CPU cores, 240000 MiB of memory and 0 GPUs and can be shared by up to 32 jobs.\n",
      "sbatch: Single node jobs run on a shared node by default. Add --exclusive if you want to use a node exclusively.\n",
      "sbatch: You will be charged for 0.03125 node. A full node consists of 32 CPU cores, 240000 MiB of memory and 0 GPUs and can be shared by up to 32 jobs.\n",
      "sbatch: Single node jobs run on a shared node by default. Add --exclusive if you want to use a node exclusively.\n",
      "sbatch: You will be charged for 0.03125 node. A full node consists of 32 CPU cores, 240000 MiB of memory and 0 GPUs and can be shared by up to 32 jobs.\n"
     ]
    },
    {
     "name": "stdout",
     "output_type": "stream",
     "text": [
      "Submitted batch job 418295\n",
      "Submitted batch job 418296\n",
      "Submitted batch job 418297\n",
      "Submitted batch job 418298\n"
     ]
    },
    {
     "name": "stderr",
     "output_type": "stream",
     "text": [
      "sbatch: Single node jobs run on a shared node by default. Add --exclusive if you want to use a node exclusively.\n",
      "sbatch: You will be charged for 0.03125 node. A full node consists of 32 CPU cores, 240000 MiB of memory and 0 GPUs and can be shared by up to 32 jobs.\n"
     ]
    },
    {
     "name": "stdout",
     "output_type": "stream",
     "text": [
      "Submitted batch job 418299\n"
     ]
    },
    {
     "name": "stderr",
     "output_type": "stream",
     "text": [
      "sbatch: Single node jobs run on a shared node by default. Add --exclusive if you want to use a node exclusively.\n",
      "sbatch: You will be charged for 0.03125 node. A full node consists of 32 CPU cores, 240000 MiB of memory and 0 GPUs and can be shared by up to 32 jobs.\n",
      "sbatch: Single node jobs run on a shared node by default. Add --exclusive if you want to use a node exclusively.\n",
      "sbatch: You will be charged for 0.03125 node. A full node consists of 32 CPU cores, 240000 MiB of memory and 0 GPUs and can be shared by up to 32 jobs.\n"
     ]
    },
    {
     "name": "stdout",
     "output_type": "stream",
     "text": [
      "Submitted batch job 418300\n",
      "Submitted batch job 418302\n"
     ]
    },
    {
     "name": "stderr",
     "output_type": "stream",
     "text": [
      "sbatch: Single node jobs run on a shared node by default. Add --exclusive if you want to use a node exclusively.\n",
      "sbatch: You will be charged for 0.03125 node. A full node consists of 32 CPU cores, 240000 MiB of memory and 0 GPUs and can be shared by up to 32 jobs.\n",
      "sbatch: Single node jobs run on a shared node by default. Add --exclusive if you want to use a node exclusively.\n",
      "sbatch: You will be charged for 0.03125 node. A full node consists of 32 CPU cores, 240000 MiB of memory and 0 GPUs and can be shared by up to 32 jobs.\n",
      "sbatch: Single node jobs run on a shared node by default. Add --exclusive if you want to use a node exclusively.\n",
      "sbatch: You will be charged for 0.03125 node. A full node consists of 32 CPU cores, 240000 MiB of memory and 0 GPUs and can be shared by up to 32 jobs.\n",
      "sbatch: Single node jobs run on a shared node by default. Add --exclusive if you want to use a node exclusively.\n",
      "sbatch: You will be charged for 0.03125 node. A full node consists of 32 CPU cores, 240000 MiB of memory and 0 GPUs and can be shared by up to 32 jobs.\n"
     ]
    },
    {
     "name": "stdout",
     "output_type": "stream",
     "text": [
      "Submitted batch job 418303\n",
      "Submitted batch job 418304\n",
      "Submitted batch job 418305\n",
      "Submitted batch job 418306\n"
     ]
    },
    {
     "name": "stderr",
     "output_type": "stream",
     "text": [
      "sbatch: Single node jobs run on a shared node by default. Add --exclusive if you want to use a node exclusively.\n",
      "sbatch: You will be charged for 0.03125 node. A full node consists of 32 CPU cores, 240000 MiB of memory and 0 GPUs and can be shared by up to 32 jobs.\n",
      "sbatch: Single node jobs run on a shared node by default. Add --exclusive if you want to use a node exclusively.\n",
      "sbatch: You will be charged for 0.03125 node. A full node consists of 32 CPU cores, 240000 MiB of memory and 0 GPUs and can be shared by up to 32 jobs.\n",
      "sbatch: Single node jobs run on a shared node by default. Add --exclusive if you want to use a node exclusively.\n",
      "sbatch: You will be charged for 0.03125 node. A full node consists of 32 CPU cores, 240000 MiB of memory and 0 GPUs and can be shared by up to 32 jobs.\n",
      "sbatch: Single node jobs run on a shared node by default. Add --exclusive if you want to use a node exclusively.\n",
      "sbatch: You will be charged for 0.03125 node. A full node consists of 32 CPU cores, 240000 MiB of memory and 0 GPUs and can be shared by up to 32 jobs.\n"
     ]
    },
    {
     "name": "stdout",
     "output_type": "stream",
     "text": [
      "Submitted batch job 418307\n",
      "Submitted batch job 418308\n",
      "Submitted batch job 418309\n",
      "Submitted batch job 418310\n"
     ]
    },
    {
     "name": "stderr",
     "output_type": "stream",
     "text": [
      "sbatch: Single node jobs run on a shared node by default. Add --exclusive if you want to use a node exclusively.\n",
      "sbatch: You will be charged for 0.03125 node. A full node consists of 32 CPU cores, 240000 MiB of memory and 0 GPUs and can be shared by up to 32 jobs.\n",
      "sbatch: Single node jobs run on a shared node by default. Add --exclusive if you want to use a node exclusively.\n",
      "sbatch: You will be charged for 0.03125 node. A full node consists of 32 CPU cores, 240000 MiB of memory and 0 GPUs and can be shared by up to 32 jobs.\n",
      "sbatch: Single node jobs run on a shared node by default. Add --exclusive if you want to use a node exclusively.\n",
      "sbatch: You will be charged for 0.03125 node. A full node consists of 32 CPU cores, 240000 MiB of memory and 0 GPUs and can be shared by up to 32 jobs.\n",
      "sbatch: Single node jobs run on a shared node by default. Add --exclusive if you want to use a node exclusively.\n",
      "sbatch: You will be charged for 0.03125 node. A full node consists of 32 CPU cores, 240000 MiB of memory and 0 GPUs and can be shared by up to 32 jobs.\n"
     ]
    },
    {
     "name": "stdout",
     "output_type": "stream",
     "text": [
      "Submitted batch job 418311\n",
      "Submitted batch job 418312\n",
      "Submitted batch job 418313\n",
      "Submitted batch job 418314\n"
     ]
    },
    {
     "name": "stderr",
     "output_type": "stream",
     "text": [
      "sbatch: Single node jobs run on a shared node by default. Add --exclusive if you want to use a node exclusively.\n",
      "sbatch: You will be charged for 0.03125 node. A full node consists of 32 CPU cores, 240000 MiB of memory and 0 GPUs and can be shared by up to 32 jobs.\n",
      "sbatch: Single node jobs run on a shared node by default. Add --exclusive if you want to use a node exclusively.\n",
      "sbatch: You will be charged for 0.03125 node. A full node consists of 32 CPU cores, 240000 MiB of memory and 0 GPUs and can be shared by up to 32 jobs.\n",
      "sbatch: Single node jobs run on a shared node by default. Add --exclusive if you want to use a node exclusively.\n",
      "sbatch: You will be charged for 0.03125 node. A full node consists of 32 CPU cores, 240000 MiB of memory and 0 GPUs and can be shared by up to 32 jobs.\n",
      "sbatch: Single node jobs run on a shared node by default. Add --exclusive if you want to use a node exclusively.\n",
      "sbatch: You will be charged for 0.03125 node. A full node consists of 32 CPU cores, 240000 MiB of memory and 0 GPUs and can be shared by up to 32 jobs.\n"
     ]
    },
    {
     "name": "stdout",
     "output_type": "stream",
     "text": [
      "Submitted batch job 418315\n",
      "Submitted batch job 418316\n",
      "Submitted batch job 418317\n",
      "Submitted batch job 418318\n"
     ]
    },
    {
     "name": "stderr",
     "output_type": "stream",
     "text": [
      "sbatch: Single node jobs run on a shared node by default. Add --exclusive if you want to use a node exclusively.\n",
      "sbatch: You will be charged for 0.03125 node. A full node consists of 32 CPU cores, 240000 MiB of memory and 0 GPUs and can be shared by up to 32 jobs.\n",
      "sbatch: Single node jobs run on a shared node by default. Add --exclusive if you want to use a node exclusively.\n",
      "sbatch: You will be charged for 0.03125 node. A full node consists of 32 CPU cores, 240000 MiB of memory and 0 GPUs and can be shared by up to 32 jobs.\n",
      "sbatch: Single node jobs run on a shared node by default. Add --exclusive if you want to use a node exclusively.\n",
      "sbatch: You will be charged for 0.03125 node. A full node consists of 32 CPU cores, 240000 MiB of memory and 0 GPUs and can be shared by up to 32 jobs.\n",
      "sbatch: Single node jobs run on a shared node by default. Add --exclusive if you want to use a node exclusively.\n",
      "sbatch: You will be charged for 0.03125 node. A full node consists of 32 CPU cores, 240000 MiB of memory and 0 GPUs and can be shared by up to 32 jobs.\n"
     ]
    },
    {
     "name": "stdout",
     "output_type": "stream",
     "text": [
      "Submitted batch job 418319\n",
      "Submitted batch job 418320\n",
      "Submitted batch job 418321\n",
      "Submitted batch job 418323\n"
     ]
    },
    {
     "name": "stderr",
     "output_type": "stream",
     "text": [
      "sbatch: Single node jobs run on a shared node by default. Add --exclusive if you want to use a node exclusively.\n",
      "sbatch: You will be charged for 0.03125 node. A full node consists of 32 CPU cores, 240000 MiB of memory and 0 GPUs and can be shared by up to 32 jobs.\n",
      "sbatch: Single node jobs run on a shared node by default. Add --exclusive if you want to use a node exclusively.\n",
      "sbatch: You will be charged for 0.03125 node. A full node consists of 32 CPU cores, 240000 MiB of memory and 0 GPUs and can be shared by up to 32 jobs.\n",
      "sbatch: Single node jobs run on a shared node by default. Add --exclusive if you want to use a node exclusively.\n",
      "sbatch: You will be charged for 0.03125 node. A full node consists of 32 CPU cores, 240000 MiB of memory and 0 GPUs and can be shared by up to 32 jobs.\n",
      "sbatch: Single node jobs run on a shared node by default. Add --exclusive if you want to use a node exclusively.\n",
      "sbatch: You will be charged for 0.03125 node. A full node consists of 32 CPU cores, 240000 MiB of memory and 0 GPUs and can be shared by up to 32 jobs.\n"
     ]
    },
    {
     "name": "stdout",
     "output_type": "stream",
     "text": [
      "Submitted batch job 418324\n",
      "Submitted batch job 418325\n",
      "Submitted batch job 418326\n",
      "Submitted batch job 418327\n"
     ]
    },
    {
     "name": "stderr",
     "output_type": "stream",
     "text": [
      "sbatch: Single node jobs run on a shared node by default. Add --exclusive if you want to use a node exclusively.\n",
      "sbatch: You will be charged for 0.03125 node. A full node consists of 32 CPU cores, 240000 MiB of memory and 0 GPUs and can be shared by up to 32 jobs.\n",
      "sbatch: Single node jobs run on a shared node by default. Add --exclusive if you want to use a node exclusively.\n",
      "sbatch: You will be charged for 0.03125 node. A full node consists of 32 CPU cores, 240000 MiB of memory and 0 GPUs and can be shared by up to 32 jobs.\n",
      "sbatch: Single node jobs run on a shared node by default. Add --exclusive if you want to use a node exclusively.\n",
      "sbatch: You will be charged for 0.03125 node. A full node consists of 32 CPU cores, 240000 MiB of memory and 0 GPUs and can be shared by up to 32 jobs.\n",
      "sbatch: Single node jobs run on a shared node by default. Add --exclusive if you want to use a node exclusively.\n",
      "sbatch: You will be charged for 0.03125 node. A full node consists of 32 CPU cores, 240000 MiB of memory and 0 GPUs and can be shared by up to 32 jobs.\n"
     ]
    },
    {
     "name": "stdout",
     "output_type": "stream",
     "text": [
      "Submitted batch job 418328\n",
      "Submitted batch job 418329\n",
      "Submitted batch job 418330\n",
      "Submitted batch job 418331\n"
     ]
    },
    {
     "name": "stderr",
     "output_type": "stream",
     "text": [
      "sbatch: Single node jobs run on a shared node by default. Add --exclusive if you want to use a node exclusively.\n",
      "sbatch: You will be charged for 0.03125 node. A full node consists of 32 CPU cores, 240000 MiB of memory and 0 GPUs and can be shared by up to 32 jobs.\n",
      "sbatch: Single node jobs run on a shared node by default. Add --exclusive if you want to use a node exclusively.\n",
      "sbatch: You will be charged for 0.03125 node. A full node consists of 32 CPU cores, 240000 MiB of memory and 0 GPUs and can be shared by up to 32 jobs.\n",
      "sbatch: Single node jobs run on a shared node by default. Add --exclusive if you want to use a node exclusively.\n",
      "sbatch: You will be charged for 0.03125 node. A full node consists of 32 CPU cores, 240000 MiB of memory and 0 GPUs and can be shared by up to 32 jobs.\n",
      "sbatch: Single node jobs run on a shared node by default. Add --exclusive if you want to use a node exclusively.\n",
      "sbatch: You will be charged for 0.03125 node. A full node consists of 32 CPU cores, 240000 MiB of memory and 0 GPUs and can be shared by up to 32 jobs.\n"
     ]
    },
    {
     "name": "stdout",
     "output_type": "stream",
     "text": [
      "Submitted batch job 418332\n",
      "Submitted batch job 418333\n",
      "Submitted batch job 418334\n",
      "Submitted batch job 418335\n"
     ]
    },
    {
     "name": "stderr",
     "output_type": "stream",
     "text": [
      "sbatch: Single node jobs run on a shared node by default. Add --exclusive if you want to use a node exclusively.\n",
      "sbatch: You will be charged for 0.03125 node. A full node consists of 32 CPU cores, 240000 MiB of memory and 0 GPUs and can be shared by up to 32 jobs.\n",
      "sbatch: Single node jobs run on a shared node by default. Add --exclusive if you want to use a node exclusively.\n",
      "sbatch: You will be charged for 0.03125 node. A full node consists of 32 CPU cores, 240000 MiB of memory and 0 GPUs and can be shared by up to 32 jobs.\n",
      "sbatch: Single node jobs run on a shared node by default. Add --exclusive if you want to use a node exclusively.\n",
      "sbatch: You will be charged for 0.03125 node. A full node consists of 32 CPU cores, 240000 MiB of memory and 0 GPUs and can be shared by up to 32 jobs.\n",
      "sbatch: Single node jobs run on a shared node by default. Add --exclusive if you want to use a node exclusively.\n",
      "sbatch: You will be charged for 0.03125 node. A full node consists of 32 CPU cores, 240000 MiB of memory and 0 GPUs and can be shared by up to 32 jobs.\n"
     ]
    },
    {
     "name": "stdout",
     "output_type": "stream",
     "text": [
      "Submitted batch job 418336\n",
      "Submitted batch job 418337\n",
      "Submitted batch job 418338\n",
      "Submitted batch job 418339\n",
      "Submitted batch job 418340\n",
      "Submitted batch job 418341\n",
      "Submitted batch job 418342\n",
      "Submitted batch job 418344\n"
     ]
    },
    {
     "name": "stderr",
     "output_type": "stream",
     "text": [
      "sbatch: Single node jobs run on a shared node by default. Add --exclusive if you want to use a node exclusively.\n",
      "sbatch: You will be charged for 0.03125 node. A full node consists of 32 CPU cores, 240000 MiB of memory and 0 GPUs and can be shared by up to 32 jobs.\n",
      "sbatch: Single node jobs run on a shared node by default. Add --exclusive if you want to use a node exclusively.\n",
      "sbatch: You will be charged for 0.03125 node. A full node consists of 32 CPU cores, 240000 MiB of memory and 0 GPUs and can be shared by up to 32 jobs.\n",
      "sbatch: Single node jobs run on a shared node by default. Add --exclusive if you want to use a node exclusively.\n",
      "sbatch: You will be charged for 0.03125 node. A full node consists of 32 CPU cores, 240000 MiB of memory and 0 GPUs and can be shared by up to 32 jobs.\n",
      "sbatch: Single node jobs run on a shared node by default. Add --exclusive if you want to use a node exclusively.\n",
      "sbatch: You will be charged for 0.03125 node. A full node consists of 32 CPU cores, 240000 MiB of memory and 0 GPUs and can be shared by up to 32 jobs.\n",
      "sbatch: Single node jobs run on a shared node by default. Add --exclusive if you want to use a node exclusively.\n",
      "sbatch: You will be charged for 0.03125 node. A full node consists of 32 CPU cores, 240000 MiB of memory and 0 GPUs and can be shared by up to 32 jobs.\n",
      "sbatch: Single node jobs run on a shared node by default. Add --exclusive if you want to use a node exclusively.\n",
      "sbatch: You will be charged for 0.03125 node. A full node consists of 32 CPU cores, 240000 MiB of memory and 0 GPUs and can be shared by up to 32 jobs.\n",
      "sbatch: Single node jobs run on a shared node by default. Add --exclusive if you want to use a node exclusively.\n",
      "sbatch: You will be charged for 0.03125 node. A full node consists of 32 CPU cores, 240000 MiB of memory and 0 GPUs and can be shared by up to 32 jobs.\n",
      "sbatch: Single node jobs run on a shared node by default. Add --exclusive if you want to use a node exclusively.\n",
      "sbatch: You will be charged for 0.03125 node. A full node consists of 32 CPU cores, 240000 MiB of memory and 0 GPUs and can be shared by up to 32 jobs.\n"
     ]
    },
    {
     "name": "stdout",
     "output_type": "stream",
     "text": [
      "Submitted batch job 418345\n",
      "Submitted batch job 418346\n",
      "Submitted batch job 418347\n",
      "Submitted batch job 418348\n"
     ]
    },
    {
     "name": "stderr",
     "output_type": "stream",
     "text": [
      "sbatch: Single node jobs run on a shared node by default. Add --exclusive if you want to use a node exclusively.\n",
      "sbatch: You will be charged for 0.03125 node. A full node consists of 32 CPU cores, 240000 MiB of memory and 0 GPUs and can be shared by up to 32 jobs.\n",
      "sbatch: Single node jobs run on a shared node by default. Add --exclusive if you want to use a node exclusively.\n",
      "sbatch: You will be charged for 0.03125 node. A full node consists of 32 CPU cores, 240000 MiB of memory and 0 GPUs and can be shared by up to 32 jobs.\n",
      "sbatch: Single node jobs run on a shared node by default. Add --exclusive if you want to use a node exclusively.\n",
      "sbatch: You will be charged for 0.03125 node. A full node consists of 32 CPU cores, 240000 MiB of memory and 0 GPUs and can be shared by up to 32 jobs.\n",
      "sbatch: Single node jobs run on a shared node by default. Add --exclusive if you want to use a node exclusively.\n",
      "sbatch: You will be charged for 0.03125 node. A full node consists of 32 CPU cores, 240000 MiB of memory and 0 GPUs and can be shared by up to 32 jobs.\n"
     ]
    },
    {
     "name": "stdout",
     "output_type": "stream",
     "text": [
      "Submitted batch job 418349\n",
      "Submitted batch job 418350\n",
      "Submitted batch job 418351\n",
      "Submitted batch job 418352\n"
     ]
    },
    {
     "name": "stderr",
     "output_type": "stream",
     "text": [
      "sbatch: Single node jobs run on a shared node by default. Add --exclusive if you want to use a node exclusively.\n",
      "sbatch: You will be charged for 0.03125 node. A full node consists of 32 CPU cores, 240000 MiB of memory and 0 GPUs and can be shared by up to 32 jobs.\n",
      "sbatch: Single node jobs run on a shared node by default. Add --exclusive if you want to use a node exclusively.\n",
      "sbatch: You will be charged for 0.03125 node. A full node consists of 32 CPU cores, 240000 MiB of memory and 0 GPUs and can be shared by up to 32 jobs.\n",
      "sbatch: Single node jobs run on a shared node by default. Add --exclusive if you want to use a node exclusively.\n",
      "sbatch: You will be charged for 0.03125 node. A full node consists of 32 CPU cores, 240000 MiB of memory and 0 GPUs and can be shared by up to 32 jobs.\n",
      "sbatch: Single node jobs run on a shared node by default. Add --exclusive if you want to use a node exclusively.\n",
      "sbatch: You will be charged for 0.03125 node. A full node consists of 32 CPU cores, 240000 MiB of memory and 0 GPUs and can be shared by up to 32 jobs.\n"
     ]
    },
    {
     "name": "stdout",
     "output_type": "stream",
     "text": [
      "Submitted batch job 418353\n",
      "Submitted batch job 418354\n",
      "Submitted batch job 418355\n",
      "Submitted batch job 418356\n"
     ]
    },
    {
     "name": "stderr",
     "output_type": "stream",
     "text": [
      "sbatch: Single node jobs run on a shared node by default. Add --exclusive if you want to use a node exclusively.\n",
      "sbatch: You will be charged for 0.03125 node. A full node consists of 32 CPU cores, 240000 MiB of memory and 0 GPUs and can be shared by up to 32 jobs.\n",
      "sbatch: Single node jobs run on a shared node by default. Add --exclusive if you want to use a node exclusively.\n",
      "sbatch: You will be charged for 0.03125 node. A full node consists of 32 CPU cores, 240000 MiB of memory and 0 GPUs and can be shared by up to 32 jobs.\n",
      "sbatch: Single node jobs run on a shared node by default. Add --exclusive if you want to use a node exclusively.\n",
      "sbatch: You will be charged for 0.03125 node. A full node consists of 32 CPU cores, 240000 MiB of memory and 0 GPUs and can be shared by up to 32 jobs.\n",
      "sbatch: Single node jobs run on a shared node by default. Add --exclusive if you want to use a node exclusively.\n",
      "sbatch: You will be charged for 0.03125 node. A full node consists of 32 CPU cores, 240000 MiB of memory and 0 GPUs and can be shared by up to 32 jobs.\n"
     ]
    },
    {
     "name": "stdout",
     "output_type": "stream",
     "text": [
      "Submitted batch job 418357\n",
      "Submitted batch job 418358\n",
      "Submitted batch job 418359\n",
      "Submitted batch job 418360\n"
     ]
    },
    {
     "name": "stderr",
     "output_type": "stream",
     "text": [
      "sbatch: Single node jobs run on a shared node by default. Add --exclusive if you want to use a node exclusively.\n",
      "sbatch: You will be charged for 0.03125 node. A full node consists of 32 CPU cores, 240000 MiB of memory and 0 GPUs and can be shared by up to 32 jobs.\n",
      "sbatch: Single node jobs run on a shared node by default. Add --exclusive if you want to use a node exclusively.\n",
      "sbatch: You will be charged for 0.03125 node. A full node consists of 32 CPU cores, 240000 MiB of memory and 0 GPUs and can be shared by up to 32 jobs.\n",
      "sbatch: Single node jobs run on a shared node by default. Add --exclusive if you want to use a node exclusively.\n",
      "sbatch: You will be charged for 0.03125 node. A full node consists of 32 CPU cores, 240000 MiB of memory and 0 GPUs and can be shared by up to 32 jobs.\n",
      "sbatch: Single node jobs run on a shared node by default. Add --exclusive if you want to use a node exclusively.\n",
      "sbatch: You will be charged for 0.03125 node. A full node consists of 32 CPU cores, 240000 MiB of memory and 0 GPUs and can be shared by up to 32 jobs.\n"
     ]
    },
    {
     "name": "stdout",
     "output_type": "stream",
     "text": [
      "Submitted batch job 418361\n",
      "Submitted batch job 418362\n",
      "Submitted batch job 418363\n",
      "Submitted batch job 418364\n"
     ]
    },
    {
     "name": "stderr",
     "output_type": "stream",
     "text": [
      "sbatch: Single node jobs run on a shared node by default. Add --exclusive if you want to use a node exclusively.\n",
      "sbatch: You will be charged for 0.03125 node. A full node consists of 32 CPU cores, 240000 MiB of memory and 0 GPUs and can be shared by up to 32 jobs.\n",
      "sbatch: Single node jobs run on a shared node by default. Add --exclusive if you want to use a node exclusively.\n",
      "sbatch: You will be charged for 0.03125 node. A full node consists of 32 CPU cores, 240000 MiB of memory and 0 GPUs and can be shared by up to 32 jobs.\n",
      "sbatch: Single node jobs run on a shared node by default. Add --exclusive if you want to use a node exclusively.\n",
      "sbatch: You will be charged for 0.03125 node. A full node consists of 32 CPU cores, 240000 MiB of memory and 0 GPUs and can be shared by up to 32 jobs.\n",
      "sbatch: Single node jobs run on a shared node by default. Add --exclusive if you want to use a node exclusively.\n",
      "sbatch: You will be charged for 0.03125 node. A full node consists of 32 CPU cores, 240000 MiB of memory and 0 GPUs and can be shared by up to 32 jobs.\n"
     ]
    },
    {
     "name": "stdout",
     "output_type": "stream",
     "text": [
      "Submitted batch job 418366\n",
      "Submitted batch job 418367\n",
      "Submitted batch job 418368\n",
      "Submitted batch job 418369\n"
     ]
    },
    {
     "name": "stderr",
     "output_type": "stream",
     "text": [
      "sbatch: Single node jobs run on a shared node by default. Add --exclusive if you want to use a node exclusively.\n",
      "sbatch: You will be charged for 0.03125 node. A full node consists of 32 CPU cores, 240000 MiB of memory and 0 GPUs and can be shared by up to 32 jobs.\n",
      "sbatch: Single node jobs run on a shared node by default. Add --exclusive if you want to use a node exclusively.\n",
      "sbatch: You will be charged for 0.03125 node. A full node consists of 32 CPU cores, 240000 MiB of memory and 0 GPUs and can be shared by up to 32 jobs.\n",
      "sbatch: Single node jobs run on a shared node by default. Add --exclusive if you want to use a node exclusively.\n",
      "sbatch: You will be charged for 0.03125 node. A full node consists of 32 CPU cores, 240000 MiB of memory and 0 GPUs and can be shared by up to 32 jobs.\n",
      "sbatch: Single node jobs run on a shared node by default. Add --exclusive if you want to use a node exclusively.\n",
      "sbatch: You will be charged for 0.03125 node. A full node consists of 32 CPU cores, 240000 MiB of memory and 0 GPUs and can be shared by up to 32 jobs.\n"
     ]
    },
    {
     "name": "stdout",
     "output_type": "stream",
     "text": [
      "Submitted batch job 418370\n",
      "Submitted batch job 418371\n",
      "Submitted batch job 418372\n",
      "Submitted batch job 418373\n"
     ]
    },
    {
     "name": "stderr",
     "output_type": "stream",
     "text": [
      "sbatch: Single node jobs run on a shared node by default. Add --exclusive if you want to use a node exclusively.\n",
      "sbatch: You will be charged for 0.03125 node. A full node consists of 32 CPU cores, 240000 MiB of memory and 0 GPUs and can be shared by up to 32 jobs.\n",
      "sbatch: Single node jobs run on a shared node by default. Add --exclusive if you want to use a node exclusively.\n",
      "sbatch: You will be charged for 0.03125 node. A full node consists of 32 CPU cores, 240000 MiB of memory and 0 GPUs and can be shared by up to 32 jobs.\n",
      "sbatch: Single node jobs run on a shared node by default. Add --exclusive if you want to use a node exclusively.\n",
      "sbatch: You will be charged for 0.03125 node. A full node consists of 32 CPU cores, 240000 MiB of memory and 0 GPUs and can be shared by up to 32 jobs.\n",
      "sbatch: Single node jobs run on a shared node by default. Add --exclusive if you want to use a node exclusively.\n",
      "sbatch: You will be charged for 0.03125 node. A full node consists of 32 CPU cores, 240000 MiB of memory and 0 GPUs and can be shared by up to 32 jobs.\n"
     ]
    },
    {
     "name": "stdout",
     "output_type": "stream",
     "text": [
      "Submitted batch job 418374\n",
      "Submitted batch job 418375\n",
      "Submitted batch job 418376\n",
      "Submitted batch job 418377\n"
     ]
    },
    {
     "name": "stderr",
     "output_type": "stream",
     "text": [
      "sbatch: Single node jobs run on a shared node by default. Add --exclusive if you want to use a node exclusively.\n",
      "sbatch: You will be charged for 0.03125 node. A full node consists of 32 CPU cores, 240000 MiB of memory and 0 GPUs and can be shared by up to 32 jobs.\n",
      "sbatch: Single node jobs run on a shared node by default. Add --exclusive if you want to use a node exclusively.\n",
      "sbatch: You will be charged for 0.03125 node. A full node consists of 32 CPU cores, 240000 MiB of memory and 0 GPUs and can be shared by up to 32 jobs.\n",
      "sbatch: Single node jobs run on a shared node by default. Add --exclusive if you want to use a node exclusively.\n",
      "sbatch: You will be charged for 0.03125 node. A full node consists of 32 CPU cores, 240000 MiB of memory and 0 GPUs and can be shared by up to 32 jobs.\n",
      "sbatch: Single node jobs run on a shared node by default. Add --exclusive if you want to use a node exclusively.\n",
      "sbatch: You will be charged for 0.03125 node. A full node consists of 32 CPU cores, 240000 MiB of memory and 0 GPUs and can be shared by up to 32 jobs.\n"
     ]
    },
    {
     "name": "stdout",
     "output_type": "stream",
     "text": [
      "Submitted batch job 418378\n",
      "Submitted batch job 418379\n",
      "Submitted batch job 418380\n",
      "Submitted batch job 418381\n",
      "Submitted batch job 418382\n",
      "Submitted batch job 418383\n",
      "Submitted batch job 418384\n",
      "Submitted batch job 418385\n"
     ]
    },
    {
     "name": "stderr",
     "output_type": "stream",
     "text": [
      "sbatch: Single node jobs run on a shared node by default. Add --exclusive if you want to use a node exclusively.\n",
      "sbatch: You will be charged for 0.03125 node. A full node consists of 32 CPU cores, 240000 MiB of memory and 0 GPUs and can be shared by up to 32 jobs.\n",
      "sbatch: Single node jobs run on a shared node by default. Add --exclusive if you want to use a node exclusively.\n",
      "sbatch: You will be charged for 0.03125 node. A full node consists of 32 CPU cores, 240000 MiB of memory and 0 GPUs and can be shared by up to 32 jobs.\n",
      "sbatch: Single node jobs run on a shared node by default. Add --exclusive if you want to use a node exclusively.\n",
      "sbatch: You will be charged for 0.03125 node. A full node consists of 32 CPU cores, 240000 MiB of memory and 0 GPUs and can be shared by up to 32 jobs.\n",
      "sbatch: Single node jobs run on a shared node by default. Add --exclusive if you want to use a node exclusively.\n",
      "sbatch: You will be charged for 0.03125 node. A full node consists of 32 CPU cores, 240000 MiB of memory and 0 GPUs and can be shared by up to 32 jobs.\n",
      "sbatch: Single node jobs run on a shared node by default. Add --exclusive if you want to use a node exclusively.\n",
      "sbatch: You will be charged for 0.03125 node. A full node consists of 32 CPU cores, 240000 MiB of memory and 0 GPUs and can be shared by up to 32 jobs.\n",
      "sbatch: Single node jobs run on a shared node by default. Add --exclusive if you want to use a node exclusively.\n",
      "sbatch: You will be charged for 0.03125 node. A full node consists of 32 CPU cores, 240000 MiB of memory and 0 GPUs and can be shared by up to 32 jobs.\n",
      "sbatch: Single node jobs run on a shared node by default. Add --exclusive if you want to use a node exclusively.\n",
      "sbatch: You will be charged for 0.03125 node. A full node consists of 32 CPU cores, 240000 MiB of memory and 0 GPUs and can be shared by up to 32 jobs.\n",
      "sbatch: Single node jobs run on a shared node by default. Add --exclusive if you want to use a node exclusively.\n",
      "sbatch: You will be charged for 0.03125 node. A full node consists of 32 CPU cores, 240000 MiB of memory and 0 GPUs and can be shared by up to 32 jobs.\n"
     ]
    },
    {
     "name": "stdout",
     "output_type": "stream",
     "text": [
      "Submitted batch job 418386\n",
      "Submitted batch job 418388\n",
      "Submitted batch job 418389\n",
      "Submitted batch job 418390\n"
     ]
    },
    {
     "name": "stderr",
     "output_type": "stream",
     "text": [
      "sbatch: Single node jobs run on a shared node by default. Add --exclusive if you want to use a node exclusively.\n",
      "sbatch: You will be charged for 0.03125 node. A full node consists of 32 CPU cores, 240000 MiB of memory and 0 GPUs and can be shared by up to 32 jobs.\n",
      "sbatch: Single node jobs run on a shared node by default. Add --exclusive if you want to use a node exclusively.\n",
      "sbatch: You will be charged for 0.03125 node. A full node consists of 32 CPU cores, 240000 MiB of memory and 0 GPUs and can be shared by up to 32 jobs.\n",
      "sbatch: Single node jobs run on a shared node by default. Add --exclusive if you want to use a node exclusively.\n",
      "sbatch: You will be charged for 0.03125 node. A full node consists of 32 CPU cores, 240000 MiB of memory and 0 GPUs and can be shared by up to 32 jobs.\n",
      "sbatch: Single node jobs run on a shared node by default. Add --exclusive if you want to use a node exclusively.\n",
      "sbatch: You will be charged for 0.03125 node. A full node consists of 32 CPU cores, 240000 MiB of memory and 0 GPUs and can be shared by up to 32 jobs.\n"
     ]
    },
    {
     "name": "stdout",
     "output_type": "stream",
     "text": [
      "Submitted batch job 418391\n",
      "Submitted batch job 418392\n",
      "Submitted batch job 418393\n",
      "Submitted batch job 418394\n"
     ]
    },
    {
     "name": "stderr",
     "output_type": "stream",
     "text": [
      "sbatch: Single node jobs run on a shared node by default. Add --exclusive if you want to use a node exclusively.\n",
      "sbatch: You will be charged for 0.03125 node. A full node consists of 32 CPU cores, 240000 MiB of memory and 0 GPUs and can be shared by up to 32 jobs.\n",
      "sbatch: Single node jobs run on a shared node by default. Add --exclusive if you want to use a node exclusively.\n",
      "sbatch: You will be charged for 0.03125 node. A full node consists of 32 CPU cores, 240000 MiB of memory and 0 GPUs and can be shared by up to 32 jobs.\n",
      "sbatch: Single node jobs run on a shared node by default. Add --exclusive if you want to use a node exclusively.\n",
      "sbatch: You will be charged for 0.03125 node. A full node consists of 32 CPU cores, 240000 MiB of memory and 0 GPUs and can be shared by up to 32 jobs.\n",
      "sbatch: Single node jobs run on a shared node by default. Add --exclusive if you want to use a node exclusively.\n",
      "sbatch: You will be charged for 0.03125 node. A full node consists of 32 CPU cores, 240000 MiB of memory and 0 GPUs and can be shared by up to 32 jobs.\n"
     ]
    },
    {
     "name": "stdout",
     "output_type": "stream",
     "text": [
      "Submitted batch job 418395\n",
      "Submitted batch job 418396\n",
      "Submitted batch job 418397\n",
      "Submitted batch job 418398\n"
     ]
    },
    {
     "name": "stderr",
     "output_type": "stream",
     "text": [
      "sbatch: Single node jobs run on a shared node by default. Add --exclusive if you want to use a node exclusively.\n",
      "sbatch: You will be charged for 0.03125 node. A full node consists of 32 CPU cores, 240000 MiB of memory and 0 GPUs and can be shared by up to 32 jobs.\n",
      "sbatch: Single node jobs run on a shared node by default. Add --exclusive if you want to use a node exclusively.\n",
      "sbatch: You will be charged for 0.03125 node. A full node consists of 32 CPU cores, 240000 MiB of memory and 0 GPUs and can be shared by up to 32 jobs.\n",
      "sbatch: Single node jobs run on a shared node by default. Add --exclusive if you want to use a node exclusively.\n",
      "sbatch: You will be charged for 0.03125 node. A full node consists of 32 CPU cores, 240000 MiB of memory and 0 GPUs and can be shared by up to 32 jobs.\n",
      "sbatch: Single node jobs run on a shared node by default. Add --exclusive if you want to use a node exclusively.\n",
      "sbatch: You will be charged for 0.03125 node. A full node consists of 32 CPU cores, 240000 MiB of memory and 0 GPUs and can be shared by up to 32 jobs.\n"
     ]
    },
    {
     "name": "stdout",
     "output_type": "stream",
     "text": [
      "Submitted batch job 418399\n",
      "Submitted batch job 418400\n",
      "Submitted batch job 418401\n",
      "Submitted batch job 418402\n",
      "Submitted batch job 418403\n",
      "Submitted batch job 418404\n",
      "Submitted batch job 418405\n",
      "Submitted batch job 418406\n"
     ]
    },
    {
     "name": "stderr",
     "output_type": "stream",
     "text": [
      "sbatch: Single node jobs run on a shared node by default. Add --exclusive if you want to use a node exclusively.\n",
      "sbatch: You will be charged for 0.03125 node. A full node consists of 32 CPU cores, 240000 MiB of memory and 0 GPUs and can be shared by up to 32 jobs.\n",
      "sbatch: Single node jobs run on a shared node by default. Add --exclusive if you want to use a node exclusively.\n",
      "sbatch: You will be charged for 0.03125 node. A full node consists of 32 CPU cores, 240000 MiB of memory and 0 GPUs and can be shared by up to 32 jobs.\n",
      "sbatch: Single node jobs run on a shared node by default. Add --exclusive if you want to use a node exclusively.\n",
      "sbatch: You will be charged for 0.03125 node. A full node consists of 32 CPU cores, 240000 MiB of memory and 0 GPUs and can be shared by up to 32 jobs.\n",
      "sbatch: Single node jobs run on a shared node by default. Add --exclusive if you want to use a node exclusively.\n",
      "sbatch: You will be charged for 0.03125 node. A full node consists of 32 CPU cores, 240000 MiB of memory and 0 GPUs and can be shared by up to 32 jobs.\n",
      "sbatch: Single node jobs run on a shared node by default. Add --exclusive if you want to use a node exclusively.\n",
      "sbatch: You will be charged for 0.03125 node. A full node consists of 32 CPU cores, 240000 MiB of memory and 0 GPUs and can be shared by up to 32 jobs.\n",
      "sbatch: Single node jobs run on a shared node by default. Add --exclusive if you want to use a node exclusively.\n",
      "sbatch: You will be charged for 0.03125 node. A full node consists of 32 CPU cores, 240000 MiB of memory and 0 GPUs and can be shared by up to 32 jobs.\n",
      "sbatch: Single node jobs run on a shared node by default. Add --exclusive if you want to use a node exclusively.\n",
      "sbatch: You will be charged for 0.03125 node. A full node consists of 32 CPU cores, 240000 MiB of memory and 0 GPUs and can be shared by up to 32 jobs.\n",
      "sbatch: Single node jobs run on a shared node by default. Add --exclusive if you want to use a node exclusively.\n",
      "sbatch: You will be charged for 0.03125 node. A full node consists of 32 CPU cores, 240000 MiB of memory and 0 GPUs and can be shared by up to 32 jobs.\n"
     ]
    },
    {
     "name": "stdout",
     "output_type": "stream",
     "text": [
      "Submitted batch job 418407\n",
      "Submitted batch job 418408\n",
      "Submitted batch job 418409\n",
      "Submitted batch job 418411\n"
     ]
    },
    {
     "name": "stderr",
     "output_type": "stream",
     "text": [
      "sbatch: Single node jobs run on a shared node by default. Add --exclusive if you want to use a node exclusively.\n",
      "sbatch: You will be charged for 0.03125 node. A full node consists of 32 CPU cores, 240000 MiB of memory and 0 GPUs and can be shared by up to 32 jobs.\n",
      "sbatch: Single node jobs run on a shared node by default. Add --exclusive if you want to use a node exclusively.\n",
      "sbatch: You will be charged for 0.03125 node. A full node consists of 32 CPU cores, 240000 MiB of memory and 0 GPUs and can be shared by up to 32 jobs.\n",
      "sbatch: Single node jobs run on a shared node by default. Add --exclusive if you want to use a node exclusively.\n",
      "sbatch: You will be charged for 0.03125 node. A full node consists of 32 CPU cores, 240000 MiB of memory and 0 GPUs and can be shared by up to 32 jobs.\n"
     ]
    },
    {
     "name": "stdout",
     "output_type": "stream",
     "text": [
      "Submitted batch job 418412\n",
      "Submitted batch job 418413\n",
      "Submitted batch job 418414\n"
     ]
    },
    {
     "name": "stderr",
     "output_type": "stream",
     "text": [
      "sbatch: Single node jobs run on a shared node by default. Add --exclusive if you want to use a node exclusively.\n",
      "sbatch: You will be charged for 0.03125 node. A full node consists of 32 CPU cores, 240000 MiB of memory and 0 GPUs and can be shared by up to 32 jobs.\n",
      "sbatch: Single node jobs run on a shared node by default. Add --exclusive if you want to use a node exclusively.\n",
      "sbatch: You will be charged for 0.03125 node. A full node consists of 32 CPU cores, 240000 MiB of memory and 0 GPUs and can be shared by up to 32 jobs.\n",
      "sbatch: Single node jobs run on a shared node by default. Add --exclusive if you want to use a node exclusively.\n",
      "sbatch: You will be charged for 0.03125 node. A full node consists of 32 CPU cores, 240000 MiB of memory and 0 GPUs and can be shared by up to 32 jobs.\n",
      "sbatch: Single node jobs run on a shared node by default. Add --exclusive if you want to use a node exclusively.\n",
      "sbatch: You will be charged for 0.03125 node. A full node consists of 32 CPU cores, 240000 MiB of memory and 0 GPUs and can be shared by up to 32 jobs.\n"
     ]
    },
    {
     "name": "stdout",
     "output_type": "stream",
     "text": [
      "Submitted batch job 418415\n",
      "Submitted batch job 418416\n",
      "Submitted batch job 418417\n",
      "Submitted batch job 418418\n"
     ]
    },
    {
     "name": "stderr",
     "output_type": "stream",
     "text": [
      "sbatch: Single node jobs run on a shared node by default. Add --exclusive if you want to use a node exclusively.\n",
      "sbatch: You will be charged for 0.03125 node. A full node consists of 32 CPU cores, 240000 MiB of memory and 0 GPUs and can be shared by up to 32 jobs.\n",
      "sbatch: Single node jobs run on a shared node by default. Add --exclusive if you want to use a node exclusively.\n",
      "sbatch: You will be charged for 0.03125 node. A full node consists of 32 CPU cores, 240000 MiB of memory and 0 GPUs and can be shared by up to 32 jobs.\n",
      "sbatch: Single node jobs run on a shared node by default. Add --exclusive if you want to use a node exclusively.\n",
      "sbatch: You will be charged for 0.03125 node. A full node consists of 32 CPU cores, 240000 MiB of memory and 0 GPUs and can be shared by up to 32 jobs.\n",
      "sbatch: Single node jobs run on a shared node by default. Add --exclusive if you want to use a node exclusively.\n",
      "sbatch: You will be charged for 0.03125 node. A full node consists of 32 CPU cores, 240000 MiB of memory and 0 GPUs and can be shared by up to 32 jobs.\n"
     ]
    },
    {
     "name": "stdout",
     "output_type": "stream",
     "text": [
      "Submitted batch job 418419\n",
      "Submitted batch job 418420\n",
      "Submitted batch job 418421\n",
      "Submitted batch job 418422\n"
     ]
    },
    {
     "name": "stderr",
     "output_type": "stream",
     "text": [
      "sbatch: Single node jobs run on a shared node by default. Add --exclusive if you want to use a node exclusively.\n",
      "sbatch: You will be charged for 0.03125 node. A full node consists of 32 CPU cores, 240000 MiB of memory and 0 GPUs and can be shared by up to 32 jobs.\n",
      "sbatch: Single node jobs run on a shared node by default. Add --exclusive if you want to use a node exclusively.\n",
      "sbatch: You will be charged for 0.03125 node. A full node consists of 32 CPU cores, 240000 MiB of memory and 0 GPUs and can be shared by up to 32 jobs.\n",
      "sbatch: Single node jobs run on a shared node by default. Add --exclusive if you want to use a node exclusively.\n",
      "sbatch: You will be charged for 0.03125 node. A full node consists of 32 CPU cores, 240000 MiB of memory and 0 GPUs and can be shared by up to 32 jobs.\n",
      "sbatch: Single node jobs run on a shared node by default. Add --exclusive if you want to use a node exclusively.\n",
      "sbatch: You will be charged for 0.03125 node. A full node consists of 32 CPU cores, 240000 MiB of memory and 0 GPUs and can be shared by up to 32 jobs.\n"
     ]
    },
    {
     "name": "stdout",
     "output_type": "stream",
     "text": [
      "Submitted batch job 418423\n",
      "Submitted batch job 418424\n",
      "Submitted batch job 418425\n",
      "Submitted batch job 418426\n"
     ]
    },
    {
     "name": "stderr",
     "output_type": "stream",
     "text": [
      "sbatch: Single node jobs run on a shared node by default. Add --exclusive if you want to use a node exclusively.\n",
      "sbatch: You will be charged for 0.03125 node. A full node consists of 32 CPU cores, 240000 MiB of memory and 0 GPUs and can be shared by up to 32 jobs.\n",
      "sbatch: Single node jobs run on a shared node by default. Add --exclusive if you want to use a node exclusively.\n",
      "sbatch: You will be charged for 0.03125 node. A full node consists of 32 CPU cores, 240000 MiB of memory and 0 GPUs and can be shared by up to 32 jobs.\n",
      "sbatch: Single node jobs run on a shared node by default. Add --exclusive if you want to use a node exclusively.\n",
      "sbatch: You will be charged for 0.03125 node. A full node consists of 32 CPU cores, 240000 MiB of memory and 0 GPUs and can be shared by up to 32 jobs.\n",
      "sbatch: Single node jobs run on a shared node by default. Add --exclusive if you want to use a node exclusively.\n",
      "sbatch: You will be charged for 0.03125 node. A full node consists of 32 CPU cores, 240000 MiB of memory and 0 GPUs and can be shared by up to 32 jobs.\n"
     ]
    },
    {
     "name": "stdout",
     "output_type": "stream",
     "text": [
      "Submitted batch job 418427\n",
      "Submitted batch job 418428\n",
      "Submitted batch job 418429\n",
      "Submitted batch job 418431\n"
     ]
    },
    {
     "name": "stderr",
     "output_type": "stream",
     "text": [
      "sbatch: Single node jobs run on a shared node by default. Add --exclusive if you want to use a node exclusively.\n",
      "sbatch: You will be charged for 0.03125 node. A full node consists of 32 CPU cores, 240000 MiB of memory and 0 GPUs and can be shared by up to 32 jobs.\n",
      "sbatch: Single node jobs run on a shared node by default. Add --exclusive if you want to use a node exclusively.\n",
      "sbatch: You will be charged for 0.03125 node. A full node consists of 32 CPU cores, 240000 MiB of memory and 0 GPUs and can be shared by up to 32 jobs.\n",
      "sbatch: Single node jobs run on a shared node by default. Add --exclusive if you want to use a node exclusively.\n",
      "sbatch: You will be charged for 0.03125 node. A full node consists of 32 CPU cores, 240000 MiB of memory and 0 GPUs and can be shared by up to 32 jobs.\n",
      "sbatch: Single node jobs run on a shared node by default. Add --exclusive if you want to use a node exclusively.\n",
      "sbatch: You will be charged for 0.03125 node. A full node consists of 32 CPU cores, 240000 MiB of memory and 0 GPUs and can be shared by up to 32 jobs.\n"
     ]
    },
    {
     "name": "stdout",
     "output_type": "stream",
     "text": [
      "Submitted batch job 418432\n",
      "Submitted batch job 418433\n",
      "Submitted batch job 418434\n",
      "Submitted batch job 418435\n"
     ]
    },
    {
     "name": "stderr",
     "output_type": "stream",
     "text": [
      "sbatch: Single node jobs run on a shared node by default. Add --exclusive if you want to use a node exclusively.\n",
      "sbatch: You will be charged for 0.03125 node. A full node consists of 32 CPU cores, 240000 MiB of memory and 0 GPUs and can be shared by up to 32 jobs.\n",
      "sbatch: Single node jobs run on a shared node by default. Add --exclusive if you want to use a node exclusively.\n",
      "sbatch: You will be charged for 0.03125 node. A full node consists of 32 CPU cores, 240000 MiB of memory and 0 GPUs and can be shared by up to 32 jobs.\n",
      "sbatch: Single node jobs run on a shared node by default. Add --exclusive if you want to use a node exclusively.\n",
      "sbatch: You will be charged for 0.03125 node. A full node consists of 32 CPU cores, 240000 MiB of memory and 0 GPUs and can be shared by up to 32 jobs.\n",
      "sbatch: Single node jobs run on a shared node by default. Add --exclusive if you want to use a node exclusively.\n",
      "sbatch: You will be charged for 0.03125 node. A full node consists of 32 CPU cores, 240000 MiB of memory and 0 GPUs and can be shared by up to 32 jobs.\n"
     ]
    },
    {
     "name": "stdout",
     "output_type": "stream",
     "text": [
      "Submitted batch job 418436\n",
      "Submitted batch job 418437\n",
      "Submitted batch job 418438\n",
      "Submitted batch job 418439\n"
     ]
    },
    {
     "name": "stderr",
     "output_type": "stream",
     "text": [
      "sbatch: Single node jobs run on a shared node by default. Add --exclusive if you want to use a node exclusively.\n",
      "sbatch: You will be charged for 0.03125 node. A full node consists of 32 CPU cores, 240000 MiB of memory and 0 GPUs and can be shared by up to 32 jobs.\n",
      "sbatch: Single node jobs run on a shared node by default. Add --exclusive if you want to use a node exclusively.\n",
      "sbatch: You will be charged for 0.03125 node. A full node consists of 32 CPU cores, 240000 MiB of memory and 0 GPUs and can be shared by up to 32 jobs.\n",
      "sbatch: Single node jobs run on a shared node by default. Add --exclusive if you want to use a node exclusively.\n",
      "sbatch: You will be charged for 0.03125 node. A full node consists of 32 CPU cores, 240000 MiB of memory and 0 GPUs and can be shared by up to 32 jobs.\n",
      "sbatch: Single node jobs run on a shared node by default. Add --exclusive if you want to use a node exclusively.\n",
      "sbatch: You will be charged for 0.03125 node. A full node consists of 32 CPU cores, 240000 MiB of memory and 0 GPUs and can be shared by up to 32 jobs.\n"
     ]
    },
    {
     "name": "stdout",
     "output_type": "stream",
     "text": [
      "Submitted batch job 418440\n",
      "Submitted batch job 418441\n",
      "Submitted batch job 418442\n",
      "Submitted batch job 418443\n",
      "Submitted batch job 418444\n",
      "Submitted batch job 418445\n",
      "Submitted batch job 418446\n",
      "Submitted batch job 418447\n"
     ]
    },
    {
     "name": "stderr",
     "output_type": "stream",
     "text": [
      "sbatch: Single node jobs run on a shared node by default. Add --exclusive if you want to use a node exclusively.\n",
      "sbatch: You will be charged for 0.03125 node. A full node consists of 32 CPU cores, 240000 MiB of memory and 0 GPUs and can be shared by up to 32 jobs.\n",
      "sbatch: Single node jobs run on a shared node by default. Add --exclusive if you want to use a node exclusively.\n",
      "sbatch: You will be charged for 0.03125 node. A full node consists of 32 CPU cores, 240000 MiB of memory and 0 GPUs and can be shared by up to 32 jobs.\n",
      "sbatch: Single node jobs run on a shared node by default. Add --exclusive if you want to use a node exclusively.\n",
      "sbatch: You will be charged for 0.03125 node. A full node consists of 32 CPU cores, 240000 MiB of memory and 0 GPUs and can be shared by up to 32 jobs.\n",
      "sbatch: Single node jobs run on a shared node by default. Add --exclusive if you want to use a node exclusively.\n",
      "sbatch: You will be charged for 0.03125 node. A full node consists of 32 CPU cores, 240000 MiB of memory and 0 GPUs and can be shared by up to 32 jobs.\n",
      "sbatch: Single node jobs run on a shared node by default. Add --exclusive if you want to use a node exclusively.\n",
      "sbatch: You will be charged for 0.03125 node. A full node consists of 32 CPU cores, 240000 MiB of memory and 0 GPUs and can be shared by up to 32 jobs.\n",
      "sbatch: Single node jobs run on a shared node by default. Add --exclusive if you want to use a node exclusively.\n",
      "sbatch: You will be charged for 0.03125 node. A full node consists of 32 CPU cores, 240000 MiB of memory and 0 GPUs and can be shared by up to 32 jobs.\n",
      "sbatch: Single node jobs run on a shared node by default. Add --exclusive if you want to use a node exclusively.\n",
      "sbatch: You will be charged for 0.03125 node. A full node consists of 32 CPU cores, 240000 MiB of memory and 0 GPUs and can be shared by up to 32 jobs.\n",
      "sbatch: Single node jobs run on a shared node by default. Add --exclusive if you want to use a node exclusively.\n",
      "sbatch: You will be charged for 0.03125 node. A full node consists of 32 CPU cores, 240000 MiB of memory and 0 GPUs and can be shared by up to 32 jobs.\n"
     ]
    },
    {
     "name": "stdout",
     "output_type": "stream",
     "text": [
      "Submitted batch job 418448\n",
      "Submitted batch job 418449\n",
      "Submitted batch job 418450\n",
      "Submitted batch job 418452\n"
     ]
    },
    {
     "name": "stderr",
     "output_type": "stream",
     "text": [
      "sbatch: Single node jobs run on a shared node by default. Add --exclusive if you want to use a node exclusively.\n",
      "sbatch: You will be charged for 0.03125 node. A full node consists of 32 CPU cores, 240000 MiB of memory and 0 GPUs and can be shared by up to 32 jobs.\n",
      "sbatch: Single node jobs run on a shared node by default. Add --exclusive if you want to use a node exclusively.\n",
      "sbatch: You will be charged for 0.03125 node. A full node consists of 32 CPU cores, 240000 MiB of memory and 0 GPUs and can be shared by up to 32 jobs.\n",
      "sbatch: Single node jobs run on a shared node by default. Add --exclusive if you want to use a node exclusively.\n",
      "sbatch: You will be charged for 0.03125 node. A full node consists of 32 CPU cores, 240000 MiB of memory and 0 GPUs and can be shared by up to 32 jobs.\n",
      "sbatch: Single node jobs run on a shared node by default. Add --exclusive if you want to use a node exclusively.\n",
      "sbatch: You will be charged for 0.03125 node. A full node consists of 32 CPU cores, 240000 MiB of memory and 0 GPUs and can be shared by up to 32 jobs.\n"
     ]
    },
    {
     "name": "stdout",
     "output_type": "stream",
     "text": [
      "Submitted batch job 418453\n",
      "Submitted batch job 418454\n",
      "Submitted batch job 418455\n",
      "Submitted batch job 418456\n"
     ]
    },
    {
     "name": "stderr",
     "output_type": "stream",
     "text": [
      "sbatch: Single node jobs run on a shared node by default. Add --exclusive if you want to use a node exclusively.\n",
      "sbatch: You will be charged for 0.03125 node. A full node consists of 32 CPU cores, 240000 MiB of memory and 0 GPUs and can be shared by up to 32 jobs.\n",
      "sbatch: Single node jobs run on a shared node by default. Add --exclusive if you want to use a node exclusively.\n",
      "sbatch: You will be charged for 0.03125 node. A full node consists of 32 CPU cores, 240000 MiB of memory and 0 GPUs and can be shared by up to 32 jobs.\n",
      "sbatch: Single node jobs run on a shared node by default. Add --exclusive if you want to use a node exclusively.\n",
      "sbatch: You will be charged for 0.03125 node. A full node consists of 32 CPU cores, 240000 MiB of memory and 0 GPUs and can be shared by up to 32 jobs.\n",
      "sbatch: Single node jobs run on a shared node by default. Add --exclusive if you want to use a node exclusively.\n",
      "sbatch: You will be charged for 0.03125 node. A full node consists of 32 CPU cores, 240000 MiB of memory and 0 GPUs and can be shared by up to 32 jobs.\n"
     ]
    },
    {
     "name": "stdout",
     "output_type": "stream",
     "text": [
      "Submitted batch job 418457\n",
      "Submitted batch job 418458\n",
      "Submitted batch job 418459\n",
      "Submitted batch job 418460\n"
     ]
    },
    {
     "name": "stderr",
     "output_type": "stream",
     "text": [
      "sbatch: Single node jobs run on a shared node by default. Add --exclusive if you want to use a node exclusively.\n",
      "sbatch: You will be charged for 0.03125 node. A full node consists of 32 CPU cores, 240000 MiB of memory and 0 GPUs and can be shared by up to 32 jobs.\n",
      "sbatch: Single node jobs run on a shared node by default. Add --exclusive if you want to use a node exclusively.\n",
      "sbatch: You will be charged for 0.03125 node. A full node consists of 32 CPU cores, 240000 MiB of memory and 0 GPUs and can be shared by up to 32 jobs.\n",
      "sbatch: Single node jobs run on a shared node by default. Add --exclusive if you want to use a node exclusively.\n",
      "sbatch: You will be charged for 0.03125 node. A full node consists of 32 CPU cores, 240000 MiB of memory and 0 GPUs and can be shared by up to 32 jobs.\n"
     ]
    },
    {
     "name": "stdout",
     "output_type": "stream",
     "text": [
      "Submitted batch job 418461\n",
      "Submitted batch job 418462\n",
      "Submitted batch job 418463\n",
      "Submitted batch job 418464\n",
      "Submitted batch job 418465\n"
     ]
    },
    {
     "name": "stderr",
     "output_type": "stream",
     "text": [
      "sbatch: Single node jobs run on a shared node by default. Add --exclusive if you want to use a node exclusively.\n",
      "sbatch: You will be charged for 0.03125 node. A full node consists of 32 CPU cores, 240000 MiB of memory and 0 GPUs and can be shared by up to 32 jobs.\n",
      "sbatch: Single node jobs run on a shared node by default. Add --exclusive if you want to use a node exclusively.\n",
      "sbatch: You will be charged for 0.03125 node. A full node consists of 32 CPU cores, 240000 MiB of memory and 0 GPUs and can be shared by up to 32 jobs.\n"
     ]
    },
    {
     "name": "stdout",
     "output_type": "stream",
     "text": [
      "Submitted batch job 418466\n",
      "Submitted batch job 418467\n"
     ]
    },
    {
     "name": "stderr",
     "output_type": "stream",
     "text": [
      "sbatch: Single node jobs run on a shared node by default. Add --exclusive if you want to use a node exclusively.\n",
      "sbatch: You will be charged for 0.03125 node. A full node consists of 32 CPU cores, 240000 MiB of memory and 0 GPUs and can be shared by up to 32 jobs.\n",
      "sbatch: Single node jobs run on a shared node by default. Add --exclusive if you want to use a node exclusively.\n",
      "sbatch: You will be charged for 0.03125 node. A full node consists of 32 CPU cores, 240000 MiB of memory and 0 GPUs and can be shared by up to 32 jobs.\n",
      "sbatch: Single node jobs run on a shared node by default. Add --exclusive if you want to use a node exclusively.\n",
      "sbatch: You will be charged for 0.03125 node. A full node consists of 32 CPU cores, 240000 MiB of memory and 0 GPUs and can be shared by up to 32 jobs.\n",
      "sbatch: Single node jobs run on a shared node by default. Add --exclusive if you want to use a node exclusively.\n",
      "sbatch: You will be charged for 0.03125 node. A full node consists of 32 CPU cores, 240000 MiB of memory and 0 GPUs and can be shared by up to 32 jobs.\n",
      "sbatch: Single node jobs run on a shared node by default. Add --exclusive if you want to use a node exclusively.\n",
      "sbatch: You will be charged for 0.03125 node. A full node consists of 32 CPU cores, 240000 MiB of memory and 0 GPUs and can be shared by up to 32 jobs.\n",
      "sbatch: Single node jobs run on a shared node by default. Add --exclusive if you want to use a node exclusively.\n",
      "sbatch: You will be charged for 0.03125 node. A full node consists of 32 CPU cores, 240000 MiB of memory and 0 GPUs and can be shared by up to 32 jobs.\n"
     ]
    },
    {
     "name": "stdout",
     "output_type": "stream",
     "text": [
      "Submitted batch job 418468\n",
      "Submitted batch job 418469\n",
      "Submitted batch job 418470\n",
      "Submitted batch job 418471\n",
      "Submitted batch job 418472\n"
     ]
    },
    {
     "name": "stderr",
     "output_type": "stream",
     "text": [
      "sbatch: Single node jobs run on a shared node by default. Add --exclusive if you want to use a node exclusively.\n",
      "sbatch: You will be charged for 0.03125 node. A full node consists of 32 CPU cores, 240000 MiB of memory and 0 GPUs and can be shared by up to 32 jobs.\n"
     ]
    },
    {
     "name": "stdout",
     "output_type": "stream",
     "text": [
      "Submitted batch job 418473\n",
      "Submitted batch job 418474\n",
      "Submitted batch job 418475\n"
     ]
    },
    {
     "name": "stderr",
     "output_type": "stream",
     "text": [
      "sbatch: Single node jobs run on a shared node by default. Add --exclusive if you want to use a node exclusively.\n",
      "sbatch: You will be charged for 0.03125 node. A full node consists of 32 CPU cores, 240000 MiB of memory and 0 GPUs and can be shared by up to 32 jobs.\n",
      "sbatch: Single node jobs run on a shared node by default. Add --exclusive if you want to use a node exclusively.\n",
      "sbatch: You will be charged for 0.03125 node. A full node consists of 32 CPU cores, 240000 MiB of memory and 0 GPUs and can be shared by up to 32 jobs.\n",
      "sbatch: Single node jobs run on a shared node by default. Add --exclusive if you want to use a node exclusively.\n",
      "sbatch: You will be charged for 0.03125 node. A full node consists of 32 CPU cores, 240000 MiB of memory and 0 GPUs and can be shared by up to 32 jobs.\n",
      "sbatch: Single node jobs run on a shared node by default. Add --exclusive if you want to use a node exclusively.\n",
      "sbatch: You will be charged for 0.03125 node. A full node consists of 32 CPU cores, 240000 MiB of memory and 0 GPUs and can be shared by up to 32 jobs.\n",
      "sbatch: Single node jobs run on a shared node by default. Add --exclusive if you want to use a node exclusively.\n",
      "sbatch: You will be charged for 0.03125 node. A full node consists of 32 CPU cores, 240000 MiB of memory and 0 GPUs and can be shared by up to 32 jobs.\n",
      "sbatch: Single node jobs run on a shared node by default. Add --exclusive if you want to use a node exclusively.\n",
      "sbatch: You will be charged for 0.03125 node. A full node consists of 32 CPU cores, 240000 MiB of memory and 0 GPUs and can be shared by up to 32 jobs.\n"
     ]
    },
    {
     "name": "stdout",
     "output_type": "stream",
     "text": [
      "Submitted batch job 418477\n",
      "Submitted batch job 418478\n",
      "Submitted batch job 418479\n"
     ]
    },
    {
     "name": "stderr",
     "output_type": "stream",
     "text": [
      "sbatch: Single node jobs run on a shared node by default. Add --exclusive if you want to use a node exclusively.\n",
      "sbatch: You will be charged for 0.03125 node. A full node consists of 32 CPU cores, 240000 MiB of memory and 0 GPUs and can be shared by up to 32 jobs.\n",
      "sbatch: Single node jobs run on a shared node by default. Add --exclusive if you want to use a node exclusively.\n",
      "sbatch: You will be charged for 0.03125 node. A full node consists of 32 CPU cores, 240000 MiB of memory and 0 GPUs and can be shared by up to 32 jobs.\n",
      "sbatch: Single node jobs run on a shared node by default. Add --exclusive if you want to use a node exclusively.\n",
      "sbatch: You will be charged for 0.03125 node. A full node consists of 32 CPU cores, 240000 MiB of memory and 0 GPUs and can be shared by up to 32 jobs.\n",
      "sbatch: Single node jobs run on a shared node by default. Add --exclusive if you want to use a node exclusively.\n",
      "sbatch: You will be charged for 0.03125 node. A full node consists of 32 CPU cores, 240000 MiB of memory and 0 GPUs and can be shared by up to 32 jobs.\n"
     ]
    },
    {
     "name": "stdout",
     "output_type": "stream",
     "text": [
      "Submitted batch job 418480\n",
      "Submitted batch job 418481\n",
      "Submitted batch job 418482\n",
      "Submitted batch job 418483\n"
     ]
    },
    {
     "name": "stderr",
     "output_type": "stream",
     "text": [
      "sbatch: Single node jobs run on a shared node by default. Add --exclusive if you want to use a node exclusively.\n",
      "sbatch: You will be charged for 0.03125 node. A full node consists of 32 CPU cores, 240000 MiB of memory and 0 GPUs and can be shared by up to 32 jobs.\n",
      "sbatch: Single node jobs run on a shared node by default. Add --exclusive if you want to use a node exclusively.\n",
      "sbatch: You will be charged for 0.03125 node. A full node consists of 32 CPU cores, 240000 MiB of memory and 0 GPUs and can be shared by up to 32 jobs.\n",
      "sbatch: Single node jobs run on a shared node by default. Add --exclusive if you want to use a node exclusively.\n",
      "sbatch: You will be charged for 0.03125 node. A full node consists of 32 CPU cores, 240000 MiB of memory and 0 GPUs and can be shared by up to 32 jobs.\n",
      "sbatch: Single node jobs run on a shared node by default. Add --exclusive if you want to use a node exclusively.\n",
      "sbatch: You will be charged for 0.03125 node. A full node consists of 32 CPU cores, 240000 MiB of memory and 0 GPUs and can be shared by up to 32 jobs.\n"
     ]
    },
    {
     "name": "stdout",
     "output_type": "stream",
     "text": [
      "Submitted batch job 418484\n",
      "Submitted batch job 418485\n",
      "Submitted batch job 418486\n",
      "Submitted batch job 418487\n"
     ]
    },
    {
     "name": "stderr",
     "output_type": "stream",
     "text": [
      "sbatch: Single node jobs run on a shared node by default. Add --exclusive if you want to use a node exclusively.\n",
      "sbatch: You will be charged for 0.03125 node. A full node consists of 32 CPU cores, 240000 MiB of memory and 0 GPUs and can be shared by up to 32 jobs.\n",
      "sbatch: Single node jobs run on a shared node by default. Add --exclusive if you want to use a node exclusively.\n",
      "sbatch: You will be charged for 0.03125 node. A full node consists of 32 CPU cores, 240000 MiB of memory and 0 GPUs and can be shared by up to 32 jobs.\n",
      "sbatch: Single node jobs run on a shared node by default. Add --exclusive if you want to use a node exclusively.\n",
      "sbatch: You will be charged for 0.03125 node. A full node consists of 32 CPU cores, 240000 MiB of memory and 0 GPUs and can be shared by up to 32 jobs.\n",
      "sbatch: Single node jobs run on a shared node by default. Add --exclusive if you want to use a node exclusively.\n",
      "sbatch: You will be charged for 0.03125 node. A full node consists of 32 CPU cores, 240000 MiB of memory and 0 GPUs and can be shared by up to 32 jobs.\n"
     ]
    },
    {
     "name": "stdout",
     "output_type": "stream",
     "text": [
      "Submitted batch job 418488\n",
      "Submitted batch job 418489\n",
      "Submitted batch job 418490\n",
      "Submitted batch job 418491\n"
     ]
    },
    {
     "name": "stderr",
     "output_type": "stream",
     "text": [
      "sbatch: Single node jobs run on a shared node by default. Add --exclusive if you want to use a node exclusively.\n",
      "sbatch: You will be charged for 0.03125 node. A full node consists of 32 CPU cores, 240000 MiB of memory and 0 GPUs and can be shared by up to 32 jobs.\n",
      "sbatch: Single node jobs run on a shared node by default. Add --exclusive if you want to use a node exclusively.\n",
      "sbatch: You will be charged for 0.03125 node. A full node consists of 32 CPU cores, 240000 MiB of memory and 0 GPUs and can be shared by up to 32 jobs.\n",
      "sbatch: Single node jobs run on a shared node by default. Add --exclusive if you want to use a node exclusively.\n",
      "sbatch: You will be charged for 0.03125 node. A full node consists of 32 CPU cores, 240000 MiB of memory and 0 GPUs and can be shared by up to 32 jobs.\n",
      "sbatch: Single node jobs run on a shared node by default. Add --exclusive if you want to use a node exclusively.\n",
      "sbatch: You will be charged for 0.03125 node. A full node consists of 32 CPU cores, 240000 MiB of memory and 0 GPUs and can be shared by up to 32 jobs.\n"
     ]
    },
    {
     "name": "stdout",
     "output_type": "stream",
     "text": [
      "Submitted batch job 418492\n",
      "Submitted batch job 418493\n",
      "Submitted batch job 418494\n",
      "Submitted batch job 418495\n"
     ]
    },
    {
     "name": "stderr",
     "output_type": "stream",
     "text": [
      "sbatch: Single node jobs run on a shared node by default. Add --exclusive if you want to use a node exclusively.\n",
      "sbatch: You will be charged for 0.03125 node. A full node consists of 32 CPU cores, 240000 MiB of memory and 0 GPUs and can be shared by up to 32 jobs.\n",
      "sbatch: Single node jobs run on a shared node by default. Add --exclusive if you want to use a node exclusively.\n",
      "sbatch: You will be charged for 0.03125 node. A full node consists of 32 CPU cores, 240000 MiB of memory and 0 GPUs and can be shared by up to 32 jobs.\n",
      "sbatch: Single node jobs run on a shared node by default. Add --exclusive if you want to use a node exclusively.\n",
      "sbatch: You will be charged for 0.03125 node. A full node consists of 32 CPU cores, 240000 MiB of memory and 0 GPUs and can be shared by up to 32 jobs.\n",
      "sbatch: Single node jobs run on a shared node by default. Add --exclusive if you want to use a node exclusively.\n",
      "sbatch: You will be charged for 0.03125 node. A full node consists of 32 CPU cores, 240000 MiB of memory and 0 GPUs and can be shared by up to 32 jobs.\n",
      "sbatch: Single node jobs run on a shared node by default. Add --exclusive if you want to use a node exclusively.\n",
      "sbatch: You will be charged for 0.03125 node. A full node consists of 32 CPU cores, 240000 MiB of memory and 0 GPUs and can be shared by up to 32 jobs.\n"
     ]
    },
    {
     "name": "stdout",
     "output_type": "stream",
     "text": [
      "Submitted batch job 418496\n",
      "Submitted batch job 418497\n",
      "Submitted batch job 418499\n",
      "Submitted batch job 418500\n",
      "Submitted batch job 418501\n"
     ]
    },
    {
     "name": "stderr",
     "output_type": "stream",
     "text": [
      "sbatch: Single node jobs run on a shared node by default. Add --exclusive if you want to use a node exclusively.\n",
      "sbatch: You will be charged for 0.03125 node. A full node consists of 32 CPU cores, 240000 MiB of memory and 0 GPUs and can be shared by up to 32 jobs.\n",
      "sbatch: Single node jobs run on a shared node by default. Add --exclusive if you want to use a node exclusively.\n",
      "sbatch: You will be charged for 0.03125 node. A full node consists of 32 CPU cores, 240000 MiB of memory and 0 GPUs and can be shared by up to 32 jobs.\n",
      "sbatch: Single node jobs run on a shared node by default. Add --exclusive if you want to use a node exclusively.\n",
      "sbatch: You will be charged for 0.03125 node. A full node consists of 32 CPU cores, 240000 MiB of memory and 0 GPUs and can be shared by up to 32 jobs.\n",
      "sbatch: Single node jobs run on a shared node by default. Add --exclusive if you want to use a node exclusively.\n",
      "sbatch: You will be charged for 0.03125 node. A full node consists of 32 CPU cores, 240000 MiB of memory and 0 GPUs and can be shared by up to 32 jobs.\n"
     ]
    },
    {
     "name": "stdout",
     "output_type": "stream",
     "text": [
      "Submitted batch job 418502\n",
      "Submitted batch job 418503\n",
      "Submitted batch job 418504\n",
      "Submitted batch job 418505\n"
     ]
    },
    {
     "name": "stderr",
     "output_type": "stream",
     "text": [
      "sbatch: Single node jobs run on a shared node by default. Add --exclusive if you want to use a node exclusively.\n",
      "sbatch: You will be charged for 0.03125 node. A full node consists of 32 CPU cores, 240000 MiB of memory and 0 GPUs and can be shared by up to 32 jobs.\n",
      "sbatch: Single node jobs run on a shared node by default. Add --exclusive if you want to use a node exclusively.\n",
      "sbatch: You will be charged for 0.03125 node. A full node consists of 32 CPU cores, 240000 MiB of memory and 0 GPUs and can be shared by up to 32 jobs.\n",
      "sbatch: Single node jobs run on a shared node by default. Add --exclusive if you want to use a node exclusively.\n",
      "sbatch: You will be charged for 0.03125 node. A full node consists of 32 CPU cores, 240000 MiB of memory and 0 GPUs and can be shared by up to 32 jobs.\n",
      "sbatch: Single node jobs run on a shared node by default. Add --exclusive if you want to use a node exclusively.\n",
      "sbatch: You will be charged for 0.03125 node. A full node consists of 32 CPU cores, 240000 MiB of memory and 0 GPUs and can be shared by up to 32 jobs.\n"
     ]
    },
    {
     "name": "stdout",
     "output_type": "stream",
     "text": [
      "Submitted batch job 418506\n",
      "Submitted batch job 418507\n",
      "Submitted batch job 418508\n",
      "Submitted batch job 418509\n"
     ]
    },
    {
     "name": "stderr",
     "output_type": "stream",
     "text": [
      "sbatch: Single node jobs run on a shared node by default. Add --exclusive if you want to use a node exclusively.\n",
      "sbatch: You will be charged for 0.03125 node. A full node consists of 32 CPU cores, 240000 MiB of memory and 0 GPUs and can be shared by up to 32 jobs.\n",
      "sbatch: Single node jobs run on a shared node by default. Add --exclusive if you want to use a node exclusively.\n",
      "sbatch: You will be charged for 0.03125 node. A full node consists of 32 CPU cores, 240000 MiB of memory and 0 GPUs and can be shared by up to 32 jobs.\n",
      "sbatch: Single node jobs run on a shared node by default. Add --exclusive if you want to use a node exclusively.\n",
      "sbatch: You will be charged for 0.03125 node. A full node consists of 32 CPU cores, 240000 MiB of memory and 0 GPUs and can be shared by up to 32 jobs.\n",
      "sbatch: Single node jobs run on a shared node by default. Add --exclusive if you want to use a node exclusively.\n",
      "sbatch: You will be charged for 0.03125 node. A full node consists of 32 CPU cores, 240000 MiB of memory and 0 GPUs and can be shared by up to 32 jobs.\n",
      "sbatch: Single node jobs run on a shared node by default. Add --exclusive if you want to use a node exclusively.\n",
      "sbatch: You will be charged for 0.03125 node. A full node consists of 32 CPU cores, 240000 MiB of memory and 0 GPUs and can be shared by up to 32 jobs.\n"
     ]
    },
    {
     "name": "stdout",
     "output_type": "stream",
     "text": [
      "Submitted batch job 418510\n",
      "Submitted batch job 418511\n",
      "Submitted batch job 418512\n",
      "Submitted batch job 418513\n",
      "Submitted batch job 418514\n"
     ]
    },
    {
     "name": "stderr",
     "output_type": "stream",
     "text": [
      "sbatch: Single node jobs run on a shared node by default. Add --exclusive if you want to use a node exclusively.\n",
      "sbatch: You will be charged for 0.03125 node. A full node consists of 32 CPU cores, 240000 MiB of memory and 0 GPUs and can be shared by up to 32 jobs.\n",
      "sbatch: Single node jobs run on a shared node by default. Add --exclusive if you want to use a node exclusively.\n",
      "sbatch: You will be charged for 0.03125 node. A full node consists of 32 CPU cores, 240000 MiB of memory and 0 GPUs and can be shared by up to 32 jobs.\n",
      "sbatch: Single node jobs run on a shared node by default. Add --exclusive if you want to use a node exclusively.\n",
      "sbatch: You will be charged for 0.03125 node. A full node consists of 32 CPU cores, 240000 MiB of memory and 0 GPUs and can be shared by up to 32 jobs.\n",
      "sbatch: Single node jobs run on a shared node by default. Add --exclusive if you want to use a node exclusively.\n",
      "sbatch: You will be charged for 0.03125 node. A full node consists of 32 CPU cores, 240000 MiB of memory and 0 GPUs and can be shared by up to 32 jobs.\n"
     ]
    },
    {
     "name": "stdout",
     "output_type": "stream",
     "text": [
      "Submitted batch job 418515\n",
      "Submitted batch job 418516\n",
      "Submitted batch job 418517\n",
      "Submitted batch job 418518\n"
     ]
    },
    {
     "name": "stderr",
     "output_type": "stream",
     "text": [
      "sbatch: Single node jobs run on a shared node by default. Add --exclusive if you want to use a node exclusively.\n",
      "sbatch: You will be charged for 0.03125 node. A full node consists of 32 CPU cores, 240000 MiB of memory and 0 GPUs and can be shared by up to 32 jobs.\n"
     ]
    },
    {
     "name": "stdout",
     "output_type": "stream",
     "text": [
      "Submitted batch job 418519\n"
     ]
    },
    {
     "name": "stderr",
     "output_type": "stream",
     "text": [
      "sbatch: Single node jobs run on a shared node by default. Add --exclusive if you want to use a node exclusively.\n",
      "sbatch: You will be charged for 0.03125 node. A full node consists of 32 CPU cores, 240000 MiB of memory and 0 GPUs and can be shared by up to 32 jobs.\n",
      "sbatch: Single node jobs run on a shared node by default. Add --exclusive if you want to use a node exclusively.\n",
      "sbatch: You will be charged for 0.03125 node. A full node consists of 32 CPU cores, 240000 MiB of memory and 0 GPUs and can be shared by up to 32 jobs.\n",
      "sbatch: Single node jobs run on a shared node by default. Add --exclusive if you want to use a node exclusively.\n",
      "sbatch: You will be charged for 0.03125 node. A full node consists of 32 CPU cores, 240000 MiB of memory and 0 GPUs and can be shared by up to 32 jobs.\n",
      "sbatch: Single node jobs run on a shared node by default. Add --exclusive if you want to use a node exclusively.\n",
      "sbatch: You will be charged for 0.03125 node. A full node consists of 32 CPU cores, 240000 MiB of memory and 0 GPUs and can be shared by up to 32 jobs.\n"
     ]
    },
    {
     "name": "stdout",
     "output_type": "stream",
     "text": [
      "Submitted batch job 418527\n",
      "Submitted batch job 418528\n",
      "Submitted batch job 418529\n",
      "Submitted batch job 418530\n"
     ]
    },
    {
     "name": "stderr",
     "output_type": "stream",
     "text": [
      "sbatch: Single node jobs run on a shared node by default. Add --exclusive if you want to use a node exclusively.\n",
      "sbatch: You will be charged for 0.03125 node. A full node consists of 32 CPU cores, 240000 MiB of memory and 0 GPUs and can be shared by up to 32 jobs.\n",
      "sbatch: Single node jobs run on a shared node by default. Add --exclusive if you want to use a node exclusively.\n",
      "sbatch: You will be charged for 0.03125 node. A full node consists of 32 CPU cores, 240000 MiB of memory and 0 GPUs and can be shared by up to 32 jobs.\n",
      "sbatch: Single node jobs run on a shared node by default. Add --exclusive if you want to use a node exclusively.\n",
      "sbatch: You will be charged for 0.03125 node. A full node consists of 32 CPU cores, 240000 MiB of memory and 0 GPUs and can be shared by up to 32 jobs.\n",
      "sbatch: Single node jobs run on a shared node by default. Add --exclusive if you want to use a node exclusively.\n",
      "sbatch: You will be charged for 0.03125 node. A full node consists of 32 CPU cores, 240000 MiB of memory and 0 GPUs and can be shared by up to 32 jobs.\n"
     ]
    },
    {
     "name": "stdout",
     "output_type": "stream",
     "text": [
      "Submitted batch job 418531\n",
      "Submitted batch job 418532\n",
      "Submitted batch job 418533\n",
      "Submitted batch job 418534\n"
     ]
    },
    {
     "name": "stderr",
     "output_type": "stream",
     "text": [
      "sbatch: Single node jobs run on a shared node by default. Add --exclusive if you want to use a node exclusively.\n",
      "sbatch: You will be charged for 0.03125 node. A full node consists of 32 CPU cores, 240000 MiB of memory and 0 GPUs and can be shared by up to 32 jobs.\n",
      "sbatch: Single node jobs run on a shared node by default. Add --exclusive if you want to use a node exclusively.\n",
      "sbatch: You will be charged for 0.03125 node. A full node consists of 32 CPU cores, 240000 MiB of memory and 0 GPUs and can be shared by up to 32 jobs.\n",
      "sbatch: Single node jobs run on a shared node by default. Add --exclusive if you want to use a node exclusively.\n",
      "sbatch: You will be charged for 0.03125 node. A full node consists of 32 CPU cores, 240000 MiB of memory and 0 GPUs and can be shared by up to 32 jobs.\n",
      "sbatch: Single node jobs run on a shared node by default. Add --exclusive if you want to use a node exclusively.\n",
      "sbatch: You will be charged for 0.03125 node. A full node consists of 32 CPU cores, 240000 MiB of memory and 0 GPUs and can be shared by up to 32 jobs.\n"
     ]
    },
    {
     "name": "stdout",
     "output_type": "stream",
     "text": [
      "Submitted batch job 418535\n",
      "Submitted batch job 418536\n",
      "Submitted batch job 418537\n",
      "Submitted batch job 418538\n"
     ]
    },
    {
     "name": "stderr",
     "output_type": "stream",
     "text": [
      "sbatch: Single node jobs run on a shared node by default. Add --exclusive if you want to use a node exclusively.\n",
      "sbatch: You will be charged for 0.03125 node. A full node consists of 32 CPU cores, 240000 MiB of memory and 0 GPUs and can be shared by up to 32 jobs.\n",
      "sbatch: Single node jobs run on a shared node by default. Add --exclusive if you want to use a node exclusively.\n",
      "sbatch: You will be charged for 0.03125 node. A full node consists of 32 CPU cores, 240000 MiB of memory and 0 GPUs and can be shared by up to 32 jobs.\n",
      "sbatch: Single node jobs run on a shared node by default. Add --exclusive if you want to use a node exclusively.\n",
      "sbatch: You will be charged for 0.03125 node. A full node consists of 32 CPU cores, 240000 MiB of memory and 0 GPUs and can be shared by up to 32 jobs.\n",
      "sbatch: Single node jobs run on a shared node by default. Add --exclusive if you want to use a node exclusively.\n",
      "sbatch: You will be charged for 0.03125 node. A full node consists of 32 CPU cores, 240000 MiB of memory and 0 GPUs and can be shared by up to 32 jobs.\n"
     ]
    },
    {
     "name": "stdout",
     "output_type": "stream",
     "text": [
      "Submitted batch job 418539\n",
      "Submitted batch job 418540\n",
      "Submitted batch job 418541\n",
      "Submitted batch job 418542\n",
      "Submitted batch job 418543\n",
      "Submitted batch job 418544\n",
      "Submitted batch job 418545\n",
      "Submitted batch job 418546\n"
     ]
    },
    {
     "name": "stderr",
     "output_type": "stream",
     "text": [
      "sbatch: Single node jobs run on a shared node by default. Add --exclusive if you want to use a node exclusively.\n",
      "sbatch: You will be charged for 0.03125 node. A full node consists of 32 CPU cores, 240000 MiB of memory and 0 GPUs and can be shared by up to 32 jobs.\n",
      "sbatch: Single node jobs run on a shared node by default. Add --exclusive if you want to use a node exclusively.\n",
      "sbatch: You will be charged for 0.03125 node. A full node consists of 32 CPU cores, 240000 MiB of memory and 0 GPUs and can be shared by up to 32 jobs.\n",
      "sbatch: Single node jobs run on a shared node by default. Add --exclusive if you want to use a node exclusively.\n",
      "sbatch: You will be charged for 0.03125 node. A full node consists of 32 CPU cores, 240000 MiB of memory and 0 GPUs and can be shared by up to 32 jobs.\n",
      "sbatch: Single node jobs run on a shared node by default. Add --exclusive if you want to use a node exclusively.\n",
      "sbatch: You will be charged for 0.03125 node. A full node consists of 32 CPU cores, 240000 MiB of memory and 0 GPUs and can be shared by up to 32 jobs.\n"
     ]
    }
   ],
   "source": [
    "unzip = \"False\"\n",
    "flatten = False\n",
    "dir_drop = \"prince_data\"\n",
    "\n",
    "directory_targ = os.path.join(directory_scratch, \"temp\") + \"/\"\n",
    "directory = directory_targ\n",
    "run_parallel_transfer(\n",
    "    \"from_drop.py\",\n",
    "    [directory_targ, dir_drop, unzip, flatten],\n",
    "    folders,\n",
    "    5,\n",
    "    \"10:00\",\n",
    "    \"staging\",\n",
    "    cpus=1,\n",
    "    node=\"staging\",\n",
    "    name_job=\"archiving.sh\",\n",
    ")\n",
    "run_parallel_transfer_to_archive(\n",
    "    folders, directory, \"2:00:00\", \"staging\", name_job=\"archiving.sh\"\n",
    ")"
   ]
  },
  {
   "cell_type": "code",
   "execution_count": 6,
   "metadata": {
    "collapsed": true,
    "jupyter": {
     "outputs_hidden": true
    },
    "tags": []
   },
   "outputs": [
    {
     "name": "stderr",
     "output_type": "stream",
     "text": [
      "sbatch: Single node jobs run on a shared node by default. Add --exclusive if you want to use a node exclusively.\n",
      "sbatch: Single node jobs run on a shared node by default. Add --exclusive if you want to use a node exclusively.\n",
      "sbatch: Single node jobs run on a shared node by default. Add --exclusive if you want to use a node exclusively.\n",
      "sbatch: Single node jobs run on a shared node by default. Add --exclusive if you want to use a node exclusively.\n"
     ]
    },
    {
     "name": "stdout",
     "output_type": "stream",
     "text": [
      "Submitted batch job 374733\n",
      "Submitted batch job 374734\n",
      "Submitted batch job 374735\n",
      "Submitted batch job 374736\n",
      "Submitted batch job 374737\n",
      "Submitted batch job 374738\n",
      "Submitted batch job 374739\n",
      "Submitted batch job 374740\n"
     ]
    },
    {
     "name": "stderr",
     "output_type": "stream",
     "text": [
      "sbatch: Single node jobs run on a shared node by default. Add --exclusive if you want to use a node exclusively.\n",
      "sbatch: Single node jobs run on a shared node by default. Add --exclusive if you want to use a node exclusively.\n",
      "sbatch: Single node jobs run on a shared node by default. Add --exclusive if you want to use a node exclusively.\n",
      "sbatch: Single node jobs run on a shared node by default. Add --exclusive if you want to use a node exclusively.\n",
      "sbatch: Single node jobs run on a shared node by default. Add --exclusive if you want to use a node exclusively.\n",
      "sbatch: Single node jobs run on a shared node by default. Add --exclusive if you want to use a node exclusively.\n",
      "sbatch: Single node jobs run on a shared node by default. Add --exclusive if you want to use a node exclusively.\n",
      "sbatch: Single node jobs run on a shared node by default. Add --exclusive if you want to use a node exclusively.\n"
     ]
    },
    {
     "name": "stdout",
     "output_type": "stream",
     "text": [
      "Submitted batch job 374741\n",
      "Submitted batch job 374742\n",
      "Submitted batch job 374743\n",
      "Submitted batch job 374744\n"
     ]
    },
    {
     "name": "stderr",
     "output_type": "stream",
     "text": [
      "sbatch: Single node jobs run on a shared node by default. Add --exclusive if you want to use a node exclusively.\n",
      "sbatch: Single node jobs run on a shared node by default. Add --exclusive if you want to use a node exclusively.\n",
      "sbatch: Single node jobs run on a shared node by default. Add --exclusive if you want to use a node exclusively.\n",
      "sbatch: Single node jobs run on a shared node by default. Add --exclusive if you want to use a node exclusively.\n"
     ]
    },
    {
     "name": "stdout",
     "output_type": "stream",
     "text": [
      "Submitted batch job 374745\n",
      "Submitted batch job 374746\n",
      "Submitted batch job 374747\n",
      "Submitted batch job 374748\n",
      "Submitted batch job 374749\n",
      "Submitted batch job 374750\n",
      "Submitted batch job 374751\n",
      "Submitted batch job 374752\n"
     ]
    },
    {
     "name": "stderr",
     "output_type": "stream",
     "text": [
      "sbatch: Single node jobs run on a shared node by default. Add --exclusive if you want to use a node exclusively.\n",
      "sbatch: Single node jobs run on a shared node by default. Add --exclusive if you want to use a node exclusively.\n",
      "sbatch: Single node jobs run on a shared node by default. Add --exclusive if you want to use a node exclusively.\n",
      "sbatch: Single node jobs run on a shared node by default. Add --exclusive if you want to use a node exclusively.\n"
     ]
    }
   ],
   "source": [
    "run_parallel_transfer_to_archive(\n",
    "    folders, directory, \"10:00\", \"staging\", name_job=\"archiving_no_wait.sh\"\n",
    ")"
   ]
  },
  {
   "cell_type": "code",
   "execution_count": 12,
   "metadata": {},
   "outputs": [
    {
     "name": "stdout",
     "output_type": "stream",
     "text": [
      "Submitted batch job 242022\n"
     ]
    },
    {
     "name": "stderr",
     "output_type": "stream",
     "text": [
      "sbatch: Single node jobs run on a shared node by default. Add --exclusive if you want to use a node exclusively.\n"
     ]
    }
   ],
   "source": [
    "must_zip = True\n",
    "must_unzip = False\n",
    "run_parallel_transfer(\n",
    "    \"within_surf.py\",\n",
    "    [directory, directory_targ, must_zip, must_unzip],\n",
    "    folders,\n",
    "    5,\n",
    "    \"10:00\",\n",
    "    \"staging\",\n",
    "    cpus=1,\n",
    "    node=\"staging\",\n",
    ")"
   ]
  },
  {
   "cell_type": "code",
   "execution_count": 51,
   "metadata": {},
   "outputs": [],
   "source": [
    "def get_dropbox_folders_new(dir_drop: str) -> pd.DataFrame:\n",
    "    data = []\n",
    "    dbx = load_dbx()\n",
    "    response = dbx.files_list_folder(dir_drop, recursive=True)\n",
    "    # for fil in response.entries:\n",
    "    listfiles = []\n",
    "    listjson = []\n",
    "    while response.has_more:\n",
    "        listfiles += [\n",
    "            file for file in response.entries if file.name.split(\"/\")[-1] == \"param.m\"\n",
    "        ]\n",
    "        response = dbx.files_list_folder_continue(response.cursor)\n",
    "    listfiles += [\n",
    "        file for file in response.entries if file.name.split(\"/\")[-1] == \"param.m\"\n",
    "    ]\n",
    "    # print([((file.path_lower.split(\".\")[0]) + \"_info.json\") for file in listfiles if (file.name.split(\".\")[-1] == \"zip\") &\n",
    "    #        (((file.path_lower.split(\".\")[0]) + \"_info.json\") not in listjson)])\n",
    "    listfiles.reverse()\n",
    "    names = [file.path_lower.split(\"/\")[-2] for file in listfiles]\n",
    "    path_drop = [os.path.join(*file.path_lower.split(\"/\")[:-1]) for file in listfiles]\n",
    "    id_uniques = [path.split(\"/\")[-2] for path in path_drop]\n",
    "    plate_num = [idi.split(\"_\")[0] for idi in id_uniques]\n",
    "    date_cross = [idi.split(\"_\")[1] for idi in id_uniques]\n",
    "    sizes = [file.size / 10**9 for file in listfiles]\n",
    "    modified = [file.client_modified for file in listfiles]\n",
    "    df = pd.DataFrame(\n",
    "        (names, sizes, modified, path_drop, plate_num, date_cross, id_uniques)\n",
    "    ).transpose()\n",
    "    df = df.rename(\n",
    "        columns={\n",
    "            0: \"folder\",\n",
    "            1: \"size\",\n",
    "            2: \"change_date\",\n",
    "            3: \"tot_path_drop\",\n",
    "            4: \"Plate\",\n",
    "            5: \"CrossDate\",\n",
    "            6: \"unique_id\",\n",
    "        }\n",
    "    )\n",
    "    return df"
   ]
  },
  {
   "cell_type": "code",
   "execution_count": 52,
   "metadata": {},
   "outputs": [
    {
     "name": "stdout",
     "output_type": "stream",
     "text": [
      "2022-05-18 12:32:45,427-[INFO]- dropbox:388 -> Refreshing access token.\n",
      "2022-05-18 12:32:45,577-[INFO]- dropbox:477 -> Request to files/list_folder\n",
      "2022-05-18 12:32:46,459-[INFO]- dropbox:477 -> Request to files/list_folder/continue\n",
      "2022-05-18 12:32:47,417-[INFO]- dropbox:477 -> Request to files/list_folder/continue\n"
     ]
    }
   ],
   "source": [
    "all_folders_drop_new = get_dropbox_folders_new(\"/DATA/PRINCE\")"
   ]
  },
  {
   "cell_type": "code",
   "execution_count": 53,
   "metadata": {},
   "outputs": [
    {
     "data": {
      "text/html": [
       "<div>\n",
       "<style scoped>\n",
       "    .dataframe tbody tr th:only-of-type {\n",
       "        vertical-align: middle;\n",
       "    }\n",
       "\n",
       "    .dataframe tbody tr th {\n",
       "        vertical-align: top;\n",
       "    }\n",
       "\n",
       "    .dataframe thead th {\n",
       "        text-align: right;\n",
       "    }\n",
       "</style>\n",
       "<table border=\"1\" class=\"dataframe\">\n",
       "  <thead>\n",
       "    <tr style=\"text-align: right;\">\n",
       "      <th></th>\n",
       "      <th>folder</th>\n",
       "      <th>size</th>\n",
       "      <th>change_date</th>\n",
       "      <th>tot_path_drop</th>\n",
       "      <th>Plate</th>\n",
       "      <th>CrossDate</th>\n",
       "      <th>unique_id</th>\n",
       "    </tr>\n",
       "  </thead>\n",
       "  <tbody>\n",
       "    <tr>\n",
       "      <th>0</th>\n",
       "      <td>20201204_2123_plate39</td>\n",
       "      <td>4.1e-07</td>\n",
       "      <td>2022-05-17 09:03:06</td>\n",
       "      <td>data/prince/94_20201123/20201204_2123_plate39</td>\n",
       "      <td>94</td>\n",
       "      <td>20201123</td>\n",
       "      <td>94_20201123</td>\n",
       "    </tr>\n",
       "    <tr>\n",
       "      <th>1</th>\n",
       "      <td>20201204_1723_plate39</td>\n",
       "      <td>4.1e-07</td>\n",
       "      <td>2022-05-17 09:03:04</td>\n",
       "      <td>data/prince/94_20201123/20201204_1723_plate39</td>\n",
       "      <td>94</td>\n",
       "      <td>20201123</td>\n",
       "      <td>94_20201123</td>\n",
       "    </tr>\n",
       "    <tr>\n",
       "      <th>2</th>\n",
       "      <td>20201205_0123_plate39</td>\n",
       "      <td>4.1e-07</td>\n",
       "      <td>2022-05-17 09:03:03</td>\n",
       "      <td>data/prince/94_20201123/20201205_0123_plate39</td>\n",
       "      <td>94</td>\n",
       "      <td>20201123</td>\n",
       "      <td>94_20201123</td>\n",
       "    </tr>\n",
       "    <tr>\n",
       "      <th>3</th>\n",
       "      <td>20201204_1323_plate39</td>\n",
       "      <td>4.1e-07</td>\n",
       "      <td>2022-05-17 09:03:02</td>\n",
       "      <td>data/prince/94_20201123/20201204_1323_plate39</td>\n",
       "      <td>94</td>\n",
       "      <td>20201123</td>\n",
       "      <td>94_20201123</td>\n",
       "    </tr>\n",
       "    <tr>\n",
       "      <th>4</th>\n",
       "      <td>20201205_0523_plate39</td>\n",
       "      <td>4.1e-07</td>\n",
       "      <td>2022-05-17 09:03:02</td>\n",
       "      <td>data/prince/94_20201123/20201205_0523_plate39</td>\n",
       "      <td>94</td>\n",
       "      <td>20201123</td>\n",
       "      <td>94_20201123</td>\n",
       "    </tr>\n",
       "    <tr>\n",
       "      <th>...</th>\n",
       "      <td>...</td>\n",
       "      <td>...</td>\n",
       "      <td>...</td>\n",
       "      <td>...</td>\n",
       "      <td>...</td>\n",
       "      <td>...</td>\n",
       "      <td>...</td>\n",
       "    </tr>\n",
       "    <tr>\n",
       "      <th>164</th>\n",
       "      <td>20201123_2200_plate39</td>\n",
       "      <td>4.1e-07</td>\n",
       "      <td>2022-05-16 15:49:31</td>\n",
       "      <td>data/prince/94_20201123/20201123_2200_plate39</td>\n",
       "      <td>94</td>\n",
       "      <td>20201123</td>\n",
       "      <td>94_20201123</td>\n",
       "    </tr>\n",
       "    <tr>\n",
       "      <th>165</th>\n",
       "      <td>20201123_1601_plate39</td>\n",
       "      <td>4.1e-07</td>\n",
       "      <td>2022-05-16 15:49:29</td>\n",
       "      <td>data/prince/94_20201123/20201123_1601_plate39</td>\n",
       "      <td>94</td>\n",
       "      <td>20201123</td>\n",
       "      <td>94_20201123</td>\n",
       "    </tr>\n",
       "    <tr>\n",
       "      <th>166</th>\n",
       "      <td>20201123_1701_plate39</td>\n",
       "      <td>4.1e-07</td>\n",
       "      <td>2022-05-16 15:49:28</td>\n",
       "      <td>data/prince/94_20201123/20201123_1701_plate39</td>\n",
       "      <td>94</td>\n",
       "      <td>20201123</td>\n",
       "      <td>94_20201123</td>\n",
       "    </tr>\n",
       "    <tr>\n",
       "      <th>167</th>\n",
       "      <td>20201123_1400_plate39</td>\n",
       "      <td>4.1e-07</td>\n",
       "      <td>2022-05-16 15:49:27</td>\n",
       "      <td>data/prince/94_20201123/20201123_1400_plate39</td>\n",
       "      <td>94</td>\n",
       "      <td>20201123</td>\n",
       "      <td>94_20201123</td>\n",
       "    </tr>\n",
       "    <tr>\n",
       "      <th>168</th>\n",
       "      <td>20201123_1501_plate39</td>\n",
       "      <td>4.1e-07</td>\n",
       "      <td>2022-05-16 15:49:27</td>\n",
       "      <td>data/prince/94_20201123/20201123_1501_plate39</td>\n",
       "      <td>94</td>\n",
       "      <td>20201123</td>\n",
       "      <td>94_20201123</td>\n",
       "    </tr>\n",
       "  </tbody>\n",
       "</table>\n",
       "<p>169 rows × 7 columns</p>\n",
       "</div>"
      ],
      "text/plain": [
       "                    folder     size         change_date  \\\n",
       "0    20201204_2123_plate39  4.1e-07 2022-05-17 09:03:06   \n",
       "1    20201204_1723_plate39  4.1e-07 2022-05-17 09:03:04   \n",
       "2    20201205_0123_plate39  4.1e-07 2022-05-17 09:03:03   \n",
       "3    20201204_1323_plate39  4.1e-07 2022-05-17 09:03:02   \n",
       "4    20201205_0523_plate39  4.1e-07 2022-05-17 09:03:02   \n",
       "..                     ...      ...                 ...   \n",
       "164  20201123_2200_plate39  4.1e-07 2022-05-16 15:49:31   \n",
       "165  20201123_1601_plate39  4.1e-07 2022-05-16 15:49:29   \n",
       "166  20201123_1701_plate39  4.1e-07 2022-05-16 15:49:28   \n",
       "167  20201123_1400_plate39  4.1e-07 2022-05-16 15:49:27   \n",
       "168  20201123_1501_plate39  4.1e-07 2022-05-16 15:49:27   \n",
       "\n",
       "                                     tot_path_drop Plate CrossDate  \\\n",
       "0    data/prince/94_20201123/20201204_2123_plate39    94  20201123   \n",
       "1    data/prince/94_20201123/20201204_1723_plate39    94  20201123   \n",
       "2    data/prince/94_20201123/20201205_0123_plate39    94  20201123   \n",
       "3    data/prince/94_20201123/20201204_1323_plate39    94  20201123   \n",
       "4    data/prince/94_20201123/20201205_0523_plate39    94  20201123   \n",
       "..                                             ...   ...       ...   \n",
       "164  data/prince/94_20201123/20201123_2200_plate39    94  20201123   \n",
       "165  data/prince/94_20201123/20201123_1601_plate39    94  20201123   \n",
       "166  data/prince/94_20201123/20201123_1701_plate39    94  20201123   \n",
       "167  data/prince/94_20201123/20201123_1400_plate39    94  20201123   \n",
       "168  data/prince/94_20201123/20201123_1501_plate39    94  20201123   \n",
       "\n",
       "       unique_id  \n",
       "0    94_20201123  \n",
       "1    94_20201123  \n",
       "2    94_20201123  \n",
       "3    94_20201123  \n",
       "4    94_20201123  \n",
       "..           ...  \n",
       "164  94_20201123  \n",
       "165  94_20201123  \n",
       "166  94_20201123  \n",
       "167  94_20201123  \n",
       "168  94_20201123  \n",
       "\n",
       "[169 rows x 7 columns]"
      ]
     },
     "execution_count": 53,
     "metadata": {},
     "output_type": "execute_result"
    }
   ],
   "source": [
    "all_folders_drop_new"
   ]
  },
  {
   "cell_type": "code",
   "execution_count": 60,
   "metadata": {},
   "outputs": [],
   "source": [
    "directory_targ2 = os.path.join(directory_scratch, \"temptemp\") + \"/\""
   ]
  },
  {
   "cell_type": "code",
   "execution_count": 106,
   "metadata": {},
   "outputs": [
    {
     "name": "stdout",
     "output_type": "stream",
     "text": [
      "2022-05-18 14:42:40,500-[INFO]- dropbox:388 -> Refreshing access token.\n",
      "2022-05-18 14:42:40,675-[INFO]- dropbox:477 -> Request to files/list_folder\n"
     ]
    }
   ],
   "source": [
    "dbx = load_dbx()\n",
    "\n",
    "path = \"/\" + all_folders_drop_new.iloc[0][\"tot_path_drop\"]\n",
    "response = dbx.files_list_folder(path, recursive=False)\n",
    "listfiles = []\n",
    "listjson = []\n",
    "while response.has_more:\n",
    "    listfiles += [file for file in response.entries]\n",
    "    response = dbx.files_list_folder_continue(response.cursor)\n",
    "listfiles += [file for file in response.entries]"
   ]
  },
  {
   "cell_type": "code",
   "execution_count": 107,
   "metadata": {
    "collapsed": true,
    "jupyter": {
     "outputs_hidden": true
    },
    "tags": []
   },
   "outputs": [
    {
     "data": {
      "text/plain": [
       "[FileMetadata(client_modified=datetime.datetime(2022, 5, 17, 9, 3, 6), content_hash='c51bd427fc91a8869dd28bd0453ceac525009c1b9c7ee3bfae79278b539ec129', export_info=NOT_SET, file_lock_info=NOT_SET, has_explicit_shared_members=NOT_SET, id='id:tRFPXS1OOAQAAAAAAAC7wg', is_downloadable=True, media_info=NOT_SET, name='param.m', parent_shared_folder_id='10269534512', path_display='/DATA/PRINCE/94_20201123/20201204_2123_Plate39/param.m', path_lower='/data/prince/94_20201123/20201204_2123_plate39/param.m', property_groups=NOT_SET, rev='015df3168bbf6cc00000002641ca930', server_modified=datetime.datetime(2022, 5, 17, 9, 3, 7), sharing_info=FileSharingInfo(modified_by='dbid:AABIDXJq597-uS2e5SgTFZ0vARb3NPh-G8s', parent_shared_folder_id='10269534512', read_only=False), size=410, symlink_info=NOT_SET),\n",
       " FileMetadata(client_modified=datetime.datetime(2022, 5, 17, 9, 9, 25), content_hash='28e3d41e0b306f8d053bb4ee8d5964d4aa13c64b1fd67df360f691617289cffd', export_info=NOT_SET, file_lock_info=NOT_SET, has_explicit_shared_members=NOT_SET, id='id:tRFPXS1OOAQAAAAAAAC8HA', is_downloadable=True, media_info=NOT_SET, name='StitchedImage.tif', parent_shared_folder_id='10269534512', path_display='/DATA/PRINCE/94_20201123/20201204_2123_Plate39/StitchedImage.tif', path_lower='/data/prince/94_20201123/20201204_2123_plate39/stitchedimage.tif', property_groups=NOT_SET, rev='015df317f49ccf900000002641ca930', server_modified=datetime.datetime(2022, 5, 17, 9, 9, 25), sharing_info=FileSharingInfo(modified_by='dbid:AABIDXJq597-uS2e5SgTFZ0vARb3NPh-G8s', parent_shared_folder_id='10269534512', read_only=False), size=3458548, symlink_info=NOT_SET),\n",
       " FileMetadata(client_modified=datetime.datetime(2022, 5, 17, 9, 9, 27), content_hash='27cbadabb4979bc88ba3d187ff3830e88f4e0c2d3435f764a9a4d043bea1d824', export_info=NOT_SET, file_lock_info=NOT_SET, has_explicit_shared_members=NOT_SET, id='id:tRFPXS1OOAQAAAAAAAC8HQ', is_downloadable=True, media_info=NOT_SET, name='PrinceMeasurement.csv', parent_shared_folder_id='10269534512', path_display='/DATA/PRINCE/94_20201123/20201204_2123_Plate39/PrinceMeasurement.csv', path_lower='/data/prince/94_20201123/20201204_2123_plate39/princemeasurement.csv', property_groups=NOT_SET, rev='015df317f6b917b00000002641ca930', server_modified=datetime.datetime(2022, 5, 17, 9, 9, 27), sharing_info=FileSharingInfo(modified_by='dbid:AABIDXJq597-uS2e5SgTFZ0vARb3NPh-G8s', parent_shared_folder_id='10269534512', read_only=False), size=6241, symlink_info=NOT_SET),\n",
       " FileMetadata(client_modified=datetime.datetime(2022, 5, 17, 17, 36, 34), content_hash='cab6bac136e56a105ae8ec78310b4d6a5389e29ef5da3412668d2dee31694fd6', export_info=NOT_SET, file_lock_info=NOT_SET, has_explicit_shared_members=NOT_SET, id='id:tRFPXS1OOAQAAAAAAAC70g', is_downloadable=True, media_info=NOT_SET, name='Analysis.zip', parent_shared_folder_id='10269534512', path_display='/DATA/PRINCE/94_20201123/20201204_2123_Plate39/Analysis.zip', path_lower='/data/prince/94_20201123/20201204_2123_plate39/analysis.zip', property_groups=NOT_SET, rev='015df3894febf3a00000002641ca930', server_modified=datetime.datetime(2022, 5, 17, 17, 36, 34), sharing_info=FileSharingInfo(modified_by='dbid:AABIDXJq597-uS2e5SgTFZ0vARb3NPh-G8s', parent_shared_folder_id='10269534512', read_only=False), size=134959101, symlink_info=NOT_SET),\n",
       " FileMetadata(client_modified=datetime.datetime(2022, 5, 17, 17, 38, 45), content_hash='eda10c577ea2c4813aab2713864b7c272d4aab4e8034859863ba864b133402aa', export_info=NOT_SET, file_lock_info=NOT_SET, has_explicit_shared_members=NOT_SET, id='id:tRFPXS1OOAQAAAAAAAC8Fg', is_downloadable=True, media_info=NOT_SET, name='Img.zip', parent_shared_folder_id='10269534512', path_display='/DATA/PRINCE/94_20201123/20201204_2123_Plate39/Img.zip', path_lower='/data/prince/94_20201123/20201204_2123_plate39/img.zip', property_groups=NOT_SET, rev='015df389cd4deda00000002641ca930', server_modified=datetime.datetime(2022, 5, 17, 17, 38, 45), sharing_info=FileSharingInfo(modified_by='dbid:AABIDXJq597-uS2e5SgTFZ0vARb3NPh-G8s', parent_shared_folder_id='10269534512', read_only=False), size=770100964, symlink_info=NOT_SET)]"
      ]
     },
     "execution_count": 107,
     "metadata": {},
     "output_type": "execute_result"
    }
   ],
   "source": [
    "listfiles"
   ]
  },
  {
   "cell_type": "code",
   "execution_count": 109,
   "metadata": {},
   "outputs": [
    {
     "data": {
      "text/plain": [
       "['/data/prince/94_20201123/20201204_2123_plate39/param.m',\n",
       " '/data/prince/94_20201123/20201204_2123_plate39/stitchedimage.tif',\n",
       " '/data/prince/94_20201123/20201204_2123_plate39/princemeasurement.csv',\n",
       " '/data/prince/94_20201123/20201204_2123_plate39/analysis.zip',\n",
       " '/data/prince/94_20201123/20201204_2123_plate39/img.zip']"
      ]
     },
     "execution_count": 109,
     "metadata": {},
     "output_type": "execute_result"
    }
   ],
   "source": [
    "[file.path_lower for file in listfiles]"
   ]
  },
  {
   "cell_type": "code",
   "execution_count": 113,
   "metadata": {},
   "outputs": [],
   "source": [
    "def download_folders_drop(folders_drop: pd.DataFrame, directory_target):\n",
    "    dbx = load_dbx()\n",
    "    for index, row in folders_drop.iterrows():\n",
    "        path = \"/\" + row[\"tot_path_drop\"]\n",
    "        response = dbx.files_list_folder(path, recursive=False)\n",
    "        listfiles = []\n",
    "        while response.has_more:\n",
    "            listfiles += [file for file in response.entries]\n",
    "            response = dbx.files_list_folder_continue(response.cursor)\n",
    "        listfiles += [file for file in response.entries]\n",
    "        folder = row[\"folder\"]\n",
    "        path_folder = os.path.join(directory_target, folder)\n",
    "        if not os.path.exists(path_folder):\n",
    "            os.mkdir(path_folder)\n",
    "        for file in listfiles:\n",
    "            path_drop = file.path_lower\n",
    "            path_local = os.path.join(\n",
    "                directory_target, folder, path_drop.split(\"/\")[-1]\n",
    "            )\n",
    "            print(path_drop, path_local)\n",
    "\n",
    "            download(path_drop, path_local, unzip=(path_drop[-4:] == \".zip\"))"
   ]
  },
  {
   "cell_type": "code",
   "execution_count": 114,
   "metadata": {
    "collapsed": true,
    "jupyter": {
     "outputs_hidden": true
    },
    "tags": []
   },
   "outputs": [
    {
     "name": "stdout",
     "output_type": "stream",
     "text": [
      "2022-05-18 14:46:27,627-[INFO]- dropbox:388 -> Refreshing access token.\n",
      "2022-05-18 14:46:27,775-[INFO]- dropbox:477 -> Request to files/list_folder\n",
      "/data/prince/94_20201123/20201204_2123_plate39/param.m /scratch-shared/amftrack/temptemp/20201204_2123_plate39/param.m\n",
      "2022-05-18 14:46:28,158-[INFO]- dropbox:388 -> Refreshing access token.\n",
      "2022-05-18 14:46:28,358-[INFO]- dropbox:477 -> Request to files/download\n",
      "/data/prince/94_20201123/20201204_2123_plate39/stitchedimage.tif /scratch-shared/amftrack/temptemp/20201204_2123_plate39/stitchedimage.tif\n",
      "2022-05-18 14:46:29,835-[INFO]- dropbox:388 -> Refreshing access token.\n",
      "2022-05-18 14:46:29,987-[INFO]- dropbox:477 -> Request to files/download\n",
      "/data/prince/94_20201123/20201204_2123_plate39/princemeasurement.csv /scratch-shared/amftrack/temptemp/20201204_2123_plate39/princemeasurement.csv\n",
      "2022-05-18 14:46:30,741-[INFO]- dropbox:388 -> Refreshing access token.\n",
      "2022-05-18 14:46:30,899-[INFO]- dropbox:477 -> Request to files/download\n",
      "/data/prince/94_20201123/20201204_2123_plate39/analysis.zip /scratch-shared/amftrack/temptemp/20201204_2123_plate39/analysis.zip\n",
      "2022-05-18 14:46:31,652-[INFO]- dropbox:388 -> Refreshing access token.\n",
      "2022-05-18 14:46:31,810-[INFO]- dropbox:477 -> Request to files/download\n",
      "/data/prince/94_20201123/20201204_2123_plate39/img.zip /scratch-shared/amftrack/temptemp/20201204_2123_plate39/img.zip\n",
      "2022-05-18 14:46:44,217-[INFO]- dropbox:388 -> Refreshing access token.\n",
      "2022-05-18 14:46:44,413-[INFO]- dropbox:477 -> Request to files/download\n",
      "2022-05-18 14:47:28,934-[INFO]- dropbox:477 -> Request to files/list_folder\n",
      "/data/prince/94_20201123/20201204_1723_plate39/param.m /scratch-shared/amftrack/temptemp/20201204_1723_plate39/param.m\n",
      "2022-05-18 14:47:29,412-[INFO]- dropbox:388 -> Refreshing access token.\n",
      "2022-05-18 14:47:29,573-[INFO]- dropbox:477 -> Request to files/download\n",
      "/data/prince/94_20201123/20201204_1723_plate39/stitchedimage.tif /scratch-shared/amftrack/temptemp/20201204_1723_plate39/stitchedimage.tif\n",
      "2022-05-18 14:47:30,007-[INFO]- dropbox:388 -> Refreshing access token.\n",
      "2022-05-18 14:47:30,150-[INFO]- dropbox:477 -> Request to files/download\n",
      "/data/prince/94_20201123/20201204_1723_plate39/princemeasurement.csv /scratch-shared/amftrack/temptemp/20201204_1723_plate39/princemeasurement.csv\n",
      "2022-05-18 14:47:31,704-[INFO]- dropbox:388 -> Refreshing access token.\n",
      "2022-05-18 14:47:31,853-[INFO]- dropbox:477 -> Request to files/download\n",
      "/data/prince/94_20201123/20201204_1723_plate39/analysis.zip /scratch-shared/amftrack/temptemp/20201204_1723_plate39/analysis.zip\n",
      "2022-05-18 14:47:32,296-[INFO]- dropbox:388 -> Refreshing access token.\n",
      "2022-05-18 14:47:32,454-[INFO]- dropbox:477 -> Request to files/download\n",
      "/data/prince/94_20201123/20201204_1723_plate39/img.zip /scratch-shared/amftrack/temptemp/20201204_1723_plate39/img.zip\n",
      "2022-05-18 14:47:42,767-[INFO]- dropbox:388 -> Refreshing access token.\n",
      "2022-05-18 14:47:42,913-[INFO]- dropbox:477 -> Request to files/download\n",
      "2022-05-18 14:48:24,761-[INFO]- dropbox:477 -> Request to files/list_folder\n",
      "/data/prince/94_20201123/20201205_0123_plate39/param.m /scratch-shared/amftrack/temptemp/20201205_0123_plate39/param.m\n",
      "2022-05-18 14:48:25,096-[INFO]- dropbox:388 -> Refreshing access token.\n",
      "2022-05-18 14:48:25,248-[INFO]- dropbox:477 -> Request to files/download\n",
      "/data/prince/94_20201123/20201205_0123_plate39/stitchedimage.tif /scratch-shared/amftrack/temptemp/20201205_0123_plate39/stitchedimage.tif\n",
      "2022-05-18 14:48:25,978-[INFO]- dropbox:388 -> Refreshing access token.\n",
      "2022-05-18 14:48:26,199-[INFO]- dropbox:477 -> Request to files/download\n",
      "/data/prince/94_20201123/20201205_0123_plate39/princemeasurement.csv /scratch-shared/amftrack/temptemp/20201205_0123_plate39/princemeasurement.csv\n",
      "2022-05-18 14:48:27,294-[INFO]- dropbox:388 -> Refreshing access token.\n",
      "2022-05-18 14:48:27,435-[INFO]- dropbox:477 -> Request to files/download\n",
      "/data/prince/94_20201123/20201205_0123_plate39/analysis.zip /scratch-shared/amftrack/temptemp/20201205_0123_plate39/analysis.zip\n",
      "2022-05-18 14:48:28,102-[INFO]- dropbox:388 -> Refreshing access token.\n",
      "2022-05-18 14:48:28,271-[INFO]- dropbox:477 -> Request to files/download\n",
      "/data/prince/94_20201123/20201205_0123_plate39/img.zip /scratch-shared/amftrack/temptemp/20201205_0123_plate39/img.zip\n",
      "2022-05-18 14:48:39,258-[INFO]- dropbox:388 -> Refreshing access token.\n",
      "2022-05-18 14:48:39,402-[INFO]- dropbox:477 -> Request to files/download\n",
      "2022-05-18 14:49:38,558-[INFO]- dropbox:477 -> Request to files/list_folder\n",
      "/data/prince/94_20201123/20201204_1323_plate39/param.m /scratch-shared/amftrack/temptemp/20201204_1323_plate39/param.m\n",
      "2022-05-18 14:49:38,876-[INFO]- dropbox:388 -> Refreshing access token.\n",
      "2022-05-18 14:49:39,015-[INFO]- dropbox:477 -> Request to files/download\n",
      "/data/prince/94_20201123/20201204_1323_plate39/stitchedimage.tif /scratch-shared/amftrack/temptemp/20201204_1323_plate39/stitchedimage.tif\n",
      "2022-05-18 14:49:39,719-[INFO]- dropbox:388 -> Refreshing access token.\n",
      "2022-05-18 14:49:39,882-[INFO]- dropbox:477 -> Request to files/download\n",
      "/data/prince/94_20201123/20201204_1323_plate39/princemeasurement.csv /scratch-shared/amftrack/temptemp/20201204_1323_plate39/princemeasurement.csv\n",
      "2022-05-18 14:49:40,532-[INFO]- dropbox:388 -> Refreshing access token.\n",
      "2022-05-18 14:49:40,685-[INFO]- dropbox:477 -> Request to files/download\n",
      "/data/prince/94_20201123/20201204_1323_plate39/analysis.zip /scratch-shared/amftrack/temptemp/20201204_1323_plate39/analysis.zip\n",
      "2022-05-18 14:49:41,340-[INFO]- dropbox:388 -> Refreshing access token.\n",
      "2022-05-18 14:49:41,490-[INFO]- dropbox:477 -> Request to files/download\n",
      "/data/prince/94_20201123/20201204_1323_plate39/img.zip /scratch-shared/amftrack/temptemp/20201204_1323_plate39/img.zip\n",
      "2022-05-18 14:49:52,239-[INFO]- dropbox:388 -> Refreshing access token.\n",
      "2022-05-18 14:49:52,422-[INFO]- dropbox:477 -> Request to files/download\n",
      "2022-05-18 14:50:45,364-[INFO]- dropbox:477 -> Request to files/list_folder\n",
      "/data/prince/94_20201123/20201205_0523_plate39/param.m /scratch-shared/amftrack/temptemp/20201205_0523_plate39/param.m\n",
      "2022-05-18 14:50:45,749-[INFO]- dropbox:388 -> Refreshing access token.\n",
      "2022-05-18 14:50:45,942-[INFO]- dropbox:477 -> Request to files/download\n",
      "/data/prince/94_20201123/20201205_0523_plate39/stitchedimage.tif /scratch-shared/amftrack/temptemp/20201205_0523_plate39/stitchedimage.tif\n",
      "2022-05-18 14:50:47,101-[INFO]- dropbox:388 -> Refreshing access token.\n",
      "2022-05-18 14:50:47,250-[INFO]- dropbox:477 -> Request to files/download\n",
      "/data/prince/94_20201123/20201205_0523_plate39/princemeasurement.csv /scratch-shared/amftrack/temptemp/20201205_0523_plate39/princemeasurement.csv\n",
      "2022-05-18 14:50:48,829-[INFO]- dropbox:388 -> Refreshing access token.\n",
      "2022-05-18 14:50:49,026-[INFO]- dropbox:477 -> Request to files/download\n",
      "/data/prince/94_20201123/20201205_0523_plate39/analysis.zip /scratch-shared/amftrack/temptemp/20201205_0523_plate39/analysis.zip\n",
      "2022-05-18 14:50:50,369-[INFO]- dropbox:388 -> Refreshing access token.\n",
      "2022-05-18 14:50:50,535-[INFO]- dropbox:477 -> Request to files/download\n",
      "/data/prince/94_20201123/20201205_0523_plate39/img.zip /scratch-shared/amftrack/temptemp/20201205_0523_plate39/img.zip\n",
      "2022-05-18 14:51:04,046-[INFO]- dropbox:388 -> Refreshing access token.\n",
      "2022-05-18 14:51:04,187-[INFO]- dropbox:477 -> Request to files/download\n",
      "2022-05-18 14:51:49,023-[INFO]- dropbox:477 -> Request to files/list_folder\n",
      "/data/prince/94_20201123/20201202_2206_plate39/param.m /scratch-shared/amftrack/temptemp/20201202_2206_plate39/param.m\n",
      "2022-05-18 14:51:49,566-[INFO]- dropbox:388 -> Refreshing access token.\n",
      "2022-05-18 14:51:49,718-[INFO]- dropbox:477 -> Request to files/download\n",
      "/data/prince/94_20201123/20201202_2206_plate39/stitchedimage.tif /scratch-shared/amftrack/temptemp/20201202_2206_plate39/stitchedimage.tif\n",
      "2022-05-18 14:51:50,374-[INFO]- dropbox:388 -> Refreshing access token.\n",
      "2022-05-18 14:51:50,522-[INFO]- dropbox:477 -> Request to files/download\n",
      "/data/prince/94_20201123/20201202_2206_plate39/princemeasurement.csv /scratch-shared/amftrack/temptemp/20201202_2206_plate39/princemeasurement.csv\n",
      "2022-05-18 14:51:51,357-[INFO]- dropbox:388 -> Refreshing access token.\n",
      "2022-05-18 14:51:51,507-[INFO]- dropbox:477 -> Request to files/download\n",
      "/data/prince/94_20201123/20201202_2206_plate39/analysis.zip /scratch-shared/amftrack/temptemp/20201202_2206_plate39/analysis.zip\n",
      "2022-05-18 14:51:51,950-[INFO]- dropbox:388 -> Refreshing access token.\n",
      "2022-05-18 14:51:52,100-[INFO]- dropbox:477 -> Request to files/download\n",
      "/data/prince/94_20201123/20201202_2206_plate39/img.zip /scratch-shared/amftrack/temptemp/20201202_2206_plate39/img.zip\n",
      "2022-05-18 14:52:00,573-[INFO]- dropbox:388 -> Refreshing access token.\n",
      "2022-05-18 14:52:00,719-[INFO]- dropbox:477 -> Request to files/download\n",
      "2022-05-18 14:52:43,471-[INFO]- dropbox:477 -> Request to files/list_folder\n",
      "/data/prince/94_20201123/20201203_1005_plate39/param.m /scratch-shared/amftrack/temptemp/20201203_1005_plate39/param.m\n",
      "2022-05-18 14:52:44,024-[INFO]- dropbox:388 -> Refreshing access token.\n",
      "2022-05-18 14:52:44,186-[INFO]- dropbox:477 -> Request to files/download\n",
      "/data/prince/94_20201123/20201203_1005_plate39/stitchedimage.tif /scratch-shared/amftrack/temptemp/20201203_1005_plate39/stitchedimage.tif\n",
      "2022-05-18 14:52:44,950-[INFO]- dropbox:388 -> Refreshing access token.\n",
      "2022-05-18 14:52:45,090-[INFO]- dropbox:477 -> Request to files/download\n",
      "/data/prince/94_20201123/20201203_1005_plate39/princemeasurement.csv /scratch-shared/amftrack/temptemp/20201203_1005_plate39/princemeasurement.csv\n",
      "2022-05-18 14:52:45,839-[INFO]- dropbox:388 -> Refreshing access token.\n",
      "2022-05-18 14:52:45,985-[INFO]- dropbox:477 -> Request to files/download\n",
      "/data/prince/94_20201123/20201203_1005_plate39/analysis.zip /scratch-shared/amftrack/temptemp/20201203_1005_plate39/analysis.zip\n",
      "2022-05-18 14:52:46,630-[INFO]- dropbox:388 -> Refreshing access token.\n",
      "2022-05-18 14:52:46,780-[INFO]- dropbox:477 -> Request to files/download\n",
      "/data/prince/94_20201123/20201203_1005_plate39/img.zip /scratch-shared/amftrack/temptemp/20201203_1005_plate39/img.zip\n",
      "2022-05-18 14:52:56,053-[INFO]- dropbox:388 -> Refreshing access token.\n",
      "2022-05-18 14:52:56,201-[INFO]- dropbox:477 -> Request to files/download\n",
      "2022-05-18 14:53:36,811-[INFO]- dropbox:477 -> Request to files/list_folder\n",
      "/data/prince/94_20201123/20201203_0606_plate39/param.m /scratch-shared/amftrack/temptemp/20201203_0606_plate39/param.m\n",
      "2022-05-18 14:53:37,113-[INFO]- dropbox:388 -> Refreshing access token.\n",
      "2022-05-18 14:53:37,254-[INFO]- dropbox:477 -> Request to files/download\n",
      "/data/prince/94_20201123/20201203_0606_plate39/stitchedimage.tif /scratch-shared/amftrack/temptemp/20201203_0606_plate39/stitchedimage.tif\n",
      "2022-05-18 14:53:37,843-[INFO]- dropbox:388 -> Refreshing access token.\n",
      "2022-05-18 14:53:37,990-[INFO]- dropbox:477 -> Request to files/download\n",
      "/data/prince/94_20201123/20201203_0606_plate39/princemeasurement.csv /scratch-shared/amftrack/temptemp/20201203_0606_plate39/princemeasurement.csv\n",
      "2022-05-18 14:53:39,336-[INFO]- dropbox:388 -> Refreshing access token.\n",
      "2022-05-18 14:53:39,482-[INFO]- dropbox:477 -> Request to files/download\n",
      "/data/prince/94_20201123/20201203_0606_plate39/analysis.zip /scratch-shared/amftrack/temptemp/20201203_0606_plate39/analysis.zip\n",
      "2022-05-18 14:53:40,380-[INFO]- dropbox:388 -> Refreshing access token.\n",
      "2022-05-18 14:53:40,564-[INFO]- dropbox:477 -> Request to files/download\n",
      "/data/prince/94_20201123/20201203_0606_plate39/img.zip /scratch-shared/amftrack/temptemp/20201203_0606_plate39/img.zip\n",
      "2022-05-18 14:53:50,535-[INFO]- dropbox:388 -> Refreshing access token.\n",
      "2022-05-18 14:53:50,676-[INFO]- dropbox:477 -> Request to files/download\n",
      "2022-05-18 14:54:31,322-[INFO]- dropbox:477 -> Request to files/list_folder\n",
      "/data/prince/94_20201123/20201202_1805_plate39/param.m /scratch-shared/amftrack/temptemp/20201202_1805_plate39/param.m\n",
      "2022-05-18 14:54:31,684-[INFO]- dropbox:388 -> Refreshing access token.\n",
      "2022-05-18 14:54:31,863-[INFO]- dropbox:477 -> Request to files/download\n",
      "/data/prince/94_20201123/20201202_1805_plate39/stitchedimage.tif /scratch-shared/amftrack/temptemp/20201202_1805_plate39/stitchedimage.tif\n",
      "2022-05-18 14:54:32,515-[INFO]- dropbox:388 -> Refreshing access token.\n",
      "2022-05-18 14:54:32,691-[INFO]- dropbox:477 -> Request to files/download\n",
      "/data/prince/94_20201123/20201202_1805_plate39/princemeasurement.csv /scratch-shared/amftrack/temptemp/20201202_1805_plate39/princemeasurement.csv\n",
      "2022-05-18 14:54:33,790-[INFO]- dropbox:388 -> Refreshing access token.\n",
      "2022-05-18 14:54:33,951-[INFO]- dropbox:477 -> Request to files/download\n",
      "/data/prince/94_20201123/20201202_1805_plate39/analysis.zip /scratch-shared/amftrack/temptemp/20201202_1805_plate39/analysis.zip\n",
      "2022-05-18 14:54:34,586-[INFO]- dropbox:388 -> Refreshing access token.\n",
      "2022-05-18 14:54:34,728-[INFO]- dropbox:477 -> Request to files/download\n",
      "/data/prince/94_20201123/20201202_1805_plate39/img.zip /scratch-shared/amftrack/temptemp/20201202_1805_plate39/img.zip\n",
      "2022-05-18 14:54:46,145-[INFO]- dropbox:388 -> Refreshing access token.\n",
      "2022-05-18 14:54:46,301-[INFO]- dropbox:477 -> Request to files/download\n",
      "2022-05-18 14:55:36,593-[INFO]- dropbox:477 -> Request to files/list_folder\n",
      "/data/prince/94_20201123/20201203_0206_plate39/param.m /scratch-shared/amftrack/temptemp/20201203_0206_plate39/param.m\n",
      "2022-05-18 14:55:36,910-[INFO]- dropbox:388 -> Refreshing access token.\n",
      "2022-05-18 14:55:37,077-[INFO]- dropbox:477 -> Request to files/download\n",
      "/data/prince/94_20201123/20201203_0206_plate39/stitchedimage.tif /scratch-shared/amftrack/temptemp/20201203_0206_plate39/stitchedimage.tif\n",
      "2022-05-18 14:55:37,679-[INFO]- dropbox:388 -> Refreshing access token.\n",
      "2022-05-18 14:55:37,823-[INFO]- dropbox:477 -> Request to files/download\n",
      "/data/prince/94_20201123/20201203_0206_plate39/princemeasurement.csv /scratch-shared/amftrack/temptemp/20201203_0206_plate39/princemeasurement.csv\n",
      "2022-05-18 14:55:39,062-[INFO]- dropbox:388 -> Refreshing access token.\n",
      "2022-05-18 14:55:39,206-[INFO]- dropbox:477 -> Request to files/download\n",
      "/data/prince/94_20201123/20201203_0206_plate39/analysis.zip /scratch-shared/amftrack/temptemp/20201203_0206_plate39/analysis.zip\n",
      "2022-05-18 14:55:40,014-[INFO]- dropbox:388 -> Refreshing access token.\n",
      "2022-05-18 14:55:40,180-[INFO]- dropbox:477 -> Request to files/download\n",
      "/data/prince/94_20201123/20201203_0206_plate39/img.zip /scratch-shared/amftrack/temptemp/20201203_0206_plate39/img.zip\n",
      "2022-05-18 14:55:48,307-[INFO]- dropbox:388 -> Refreshing access token.\n",
      "2022-05-18 14:55:48,439-[INFO]- dropbox:477 -> Request to files/download\n",
      "2022-05-18 14:56:37,286-[INFO]- dropbox:477 -> Request to files/list_folder\n",
      "/data/prince/94_20201123/20201203_2206_plate39/param.m /scratch-shared/amftrack/temptemp/20201203_2206_plate39/param.m\n",
      "2022-05-18 14:56:37,654-[INFO]- dropbox:388 -> Refreshing access token.\n",
      "2022-05-18 14:56:37,839-[INFO]- dropbox:477 -> Request to files/download\n",
      "/data/prince/94_20201123/20201203_2206_plate39/stitchedimage.tif /scratch-shared/amftrack/temptemp/20201203_2206_plate39/stitchedimage.tif\n",
      "2022-05-18 14:56:38,513-[INFO]- dropbox:388 -> Refreshing access token.\n",
      "2022-05-18 14:56:38,678-[INFO]- dropbox:477 -> Request to files/download\n",
      "/data/prince/94_20201123/20201203_2206_plate39/princemeasurement.csv /scratch-shared/amftrack/temptemp/20201203_2206_plate39/princemeasurement.csv\n",
      "2022-05-18 14:56:40,098-[INFO]- dropbox:388 -> Refreshing access token.\n",
      "2022-05-18 14:56:40,254-[INFO]- dropbox:477 -> Request to files/download\n",
      "/data/prince/94_20201123/20201203_2206_plate39/analysis.zip /scratch-shared/amftrack/temptemp/20201203_2206_plate39/analysis.zip\n",
      "2022-05-18 14:56:40,859-[INFO]- dropbox:388 -> Refreshing access token.\n",
      "2022-05-18 14:56:41,003-[INFO]- dropbox:477 -> Request to files/download\n",
      "/data/prince/94_20201123/20201203_2206_plate39/img.zip /scratch-shared/amftrack/temptemp/20201203_2206_plate39/img.zip\n",
      "2022-05-18 14:56:52,123-[INFO]- dropbox:388 -> Refreshing access token.\n",
      "2022-05-18 14:56:52,279-[INFO]- dropbox:477 -> Request to files/download\n",
      "2022-05-18 14:57:43,906-[INFO]- dropbox:477 -> Request to files/list_folder\n",
      "/data/prince/94_20201123/20201204_0606_plate39/param.m /scratch-shared/amftrack/temptemp/20201204_0606_plate39/param.m\n",
      "2022-05-18 14:57:44,237-[INFO]- dropbox:388 -> Refreshing access token.\n",
      "2022-05-18 14:57:44,385-[INFO]- dropbox:477 -> Request to files/download\n",
      "/data/prince/94_20201123/20201204_0606_plate39/stitchedimage.tif /scratch-shared/amftrack/temptemp/20201204_0606_plate39/stitchedimage.tif\n",
      "2022-05-18 14:57:44,841-[INFO]- dropbox:388 -> Refreshing access token.\n",
      "2022-05-18 14:57:45,030-[INFO]- dropbox:477 -> Request to files/download\n",
      "/data/prince/94_20201123/20201204_0606_plate39/princemeasurement.csv /scratch-shared/amftrack/temptemp/20201204_0606_plate39/princemeasurement.csv\n",
      "2022-05-18 14:57:46,400-[INFO]- dropbox:388 -> Refreshing access token.\n",
      "2022-05-18 14:57:46,550-[INFO]- dropbox:477 -> Request to files/download\n",
      "/data/prince/94_20201123/20201204_0606_plate39/analysis.zip /scratch-shared/amftrack/temptemp/20201204_0606_plate39/analysis.zip\n",
      "2022-05-18 14:57:46,977-[INFO]- dropbox:388 -> Refreshing access token.\n",
      "2022-05-18 14:57:47,136-[INFO]- dropbox:477 -> Request to files/download\n",
      "/data/prince/94_20201123/20201204_0606_plate39/img.zip /scratch-shared/amftrack/temptemp/20201204_0606_plate39/img.zip\n",
      "2022-05-18 14:57:57,700-[INFO]- dropbox:388 -> Refreshing access token.\n",
      "2022-05-18 14:57:57,833-[INFO]- dropbox:477 -> Request to files/download\n",
      "2022-05-18 14:58:38,208-[INFO]- dropbox:477 -> Request to files/list_folder\n",
      "/data/prince/94_20201123/20201203_1806_plate39/param.m /scratch-shared/amftrack/temptemp/20201203_1806_plate39/param.m\n",
      "2022-05-18 14:58:38,508-[INFO]- dropbox:388 -> Refreshing access token.\n",
      "2022-05-18 14:58:38,648-[INFO]- dropbox:477 -> Request to files/download\n",
      "/data/prince/94_20201123/20201203_1806_plate39/stitchedimage.tif /scratch-shared/amftrack/temptemp/20201203_1806_plate39/stitchedimage.tif\n",
      "2022-05-18 14:58:39,058-[INFO]- dropbox:388 -> Refreshing access token.\n",
      "2022-05-18 14:58:39,222-[INFO]- dropbox:477 -> Request to files/download\n",
      "/data/prince/94_20201123/20201203_1806_plate39/princemeasurement.csv /scratch-shared/amftrack/temptemp/20201203_1806_plate39/princemeasurement.csv\n",
      "2022-05-18 14:58:40,372-[INFO]- dropbox:388 -> Refreshing access token.\n",
      "2022-05-18 14:58:40,537-[INFO]- dropbox:477 -> Request to files/download\n",
      "/data/prince/94_20201123/20201203_1806_plate39/analysis.zip /scratch-shared/amftrack/temptemp/20201203_1806_plate39/analysis.zip\n",
      "2022-05-18 14:58:41,258-[INFO]- dropbox:388 -> Refreshing access token.\n",
      "2022-05-18 14:58:41,412-[INFO]- dropbox:477 -> Request to files/download\n",
      "/data/prince/94_20201123/20201203_1806_plate39/img.zip /scratch-shared/amftrack/temptemp/20201203_1806_plate39/img.zip\n",
      "2022-05-18 14:58:51,990-[INFO]- dropbox:388 -> Refreshing access token.\n",
      "2022-05-18 14:58:52,145-[INFO]- dropbox:477 -> Request to files/download\n",
      "2022-05-18 14:59:34,123-[INFO]- dropbox:477 -> Request to files/list_folder\n",
      "/data/prince/94_20201123/20201204_0206_plate39/param.m /scratch-shared/amftrack/temptemp/20201204_0206_plate39/param.m\n",
      "2022-05-18 14:59:34,510-[INFO]- dropbox:388 -> Refreshing access token.\n",
      "2022-05-18 14:59:34,688-[INFO]- dropbox:477 -> Request to files/download\n",
      "/data/prince/94_20201123/20201204_0206_plate39/stitchedimage.tif /scratch-shared/amftrack/temptemp/20201204_0206_plate39/stitchedimage.tif\n",
      "2022-05-18 14:59:35,152-[INFO]- dropbox:388 -> Refreshing access token.\n",
      "2022-05-18 14:59:35,288-[INFO]- dropbox:477 -> Request to files/download\n",
      "/data/prince/94_20201123/20201204_0206_plate39/princemeasurement.csv /scratch-shared/amftrack/temptemp/20201204_0206_plate39/princemeasurement.csv\n",
      "2022-05-18 14:59:36,032-[INFO]- dropbox:388 -> Refreshing access token.\n",
      "2022-05-18 14:59:36,234-[INFO]- dropbox:477 -> Request to files/download\n",
      "/data/prince/94_20201123/20201204_0206_plate39/analysis.zip /scratch-shared/amftrack/temptemp/20201204_0206_plate39/analysis.zip\n",
      "2022-05-18 14:59:36,840-[INFO]- dropbox:388 -> Refreshing access token.\n",
      "2022-05-18 14:59:37,011-[INFO]- dropbox:477 -> Request to files/download\n",
      "/data/prince/94_20201123/20201204_0206_plate39/img.zip /scratch-shared/amftrack/temptemp/20201204_0206_plate39/img.zip\n",
      "2022-05-18 14:59:45,934-[INFO]- dropbox:388 -> Refreshing access token.\n",
      "2022-05-18 14:59:46,115-[INFO]- dropbox:477 -> Request to files/download\n",
      "2022-05-18 15:00:28,439-[INFO]- dropbox:477 -> Request to files/list_folder\n",
      "/data/prince/94_20201123/20201203_1405_plate39/param.m /scratch-shared/amftrack/temptemp/20201203_1405_plate39/param.m\n",
      "2022-05-18 15:00:28,870-[INFO]- dropbox:388 -> Refreshing access token.\n",
      "2022-05-18 15:00:29,036-[INFO]- dropbox:477 -> Request to files/download\n",
      "/data/prince/94_20201123/20201203_1405_plate39/stitchedimage.tif /scratch-shared/amftrack/temptemp/20201203_1405_plate39/stitchedimage.tif\n",
      "2022-05-18 15:00:29,745-[INFO]- dropbox:388 -> Refreshing access token.\n",
      "2022-05-18 15:00:29,897-[INFO]- dropbox:477 -> Request to files/download\n",
      "/data/prince/94_20201123/20201203_1405_plate39/princemeasurement.csv /scratch-shared/amftrack/temptemp/20201203_1405_plate39/princemeasurement.csv\n",
      "2022-05-18 15:00:30,957-[INFO]- dropbox:388 -> Refreshing access token.\n",
      "2022-05-18 15:00:31,107-[INFO]- dropbox:477 -> Request to files/download\n",
      "/data/prince/94_20201123/20201203_1405_plate39/analysis.zip /scratch-shared/amftrack/temptemp/20201203_1405_plate39/analysis.zip\n",
      "2022-05-18 15:00:31,641-[INFO]- dropbox:388 -> Refreshing access token.\n",
      "2022-05-18 15:00:31,818-[INFO]- dropbox:477 -> Request to files/download\n",
      "/data/prince/94_20201123/20201203_1405_plate39/img.zip /scratch-shared/amftrack/temptemp/20201203_1405_plate39/img.zip\n",
      "2022-05-18 15:00:41,274-[INFO]- dropbox:388 -> Refreshing access token.\n",
      "2022-05-18 15:00:41,432-[INFO]- dropbox:477 -> Request to files/download\n",
      "2022-05-18 15:01:24,509-[INFO]- dropbox:477 -> Request to files/list_folder\n",
      "/data/prince/94_20201123/20201126_1102_plate39/param.m /scratch-shared/amftrack/temptemp/20201126_1102_plate39/param.m\n",
      "2022-05-18 15:01:24,913-[INFO]- dropbox:388 -> Refreshing access token.\n",
      "2022-05-18 15:01:25,056-[INFO]- dropbox:477 -> Request to files/download\n",
      "/data/prince/94_20201123/20201126_1102_plate39/stitchedimage.tif /scratch-shared/amftrack/temptemp/20201126_1102_plate39/stitchedimage.tif\n",
      "2022-05-18 15:01:25,511-[INFO]- dropbox:388 -> Refreshing access token.\n",
      "2022-05-18 15:01:25,656-[INFO]- dropbox:477 -> Request to files/download\n",
      "/data/prince/94_20201123/20201126_1102_plate39/princemeasurement.csv /scratch-shared/amftrack/temptemp/20201126_1102_plate39/princemeasurement.csv\n",
      "2022-05-18 15:01:26,787-[INFO]- dropbox:388 -> Refreshing access token.\n",
      "2022-05-18 15:01:26,932-[INFO]- dropbox:477 -> Request to files/download\n",
      "/data/prince/94_20201123/20201126_1102_plate39/analysis.zip /scratch-shared/amftrack/temptemp/20201126_1102_plate39/analysis.zip\n",
      "2022-05-18 15:01:27,560-[INFO]- dropbox:388 -> Refreshing access token.\n",
      "2022-05-18 15:01:27,731-[INFO]- dropbox:477 -> Request to files/download\n",
      "/data/prince/94_20201123/20201126_1102_plate39/img.zip /scratch-shared/amftrack/temptemp/20201126_1102_plate39/img.zip\n",
      "2022-05-18 15:01:34,595-[INFO]- dropbox:388 -> Refreshing access token.\n",
      "2022-05-18 15:01:34,733-[INFO]- dropbox:477 -> Request to files/download\n"
     ]
    },
    {
     "ename": "KeyboardInterrupt",
     "evalue": "",
     "output_type": "error",
     "traceback": [
      "\u001b[0;31m---------------------------------------------------------------------------\u001b[0m",
      "\u001b[0;31mKeyboardInterrupt\u001b[0m                         Traceback (most recent call last)",
      "\u001b[0;32m/scratch-local/cbisot/ipykernel_928921/3950166342.py\u001b[0m in \u001b[0;36m<module>\u001b[0;34m\u001b[0m\n\u001b[0;32m----> 1\u001b[0;31m \u001b[0mdownload_folders_drop\u001b[0m\u001b[0;34m(\u001b[0m\u001b[0mall_folders_drop_new\u001b[0m\u001b[0;34m,\u001b[0m\u001b[0mdirectory_targ2\u001b[0m\u001b[0;34m)\u001b[0m\u001b[0;34m\u001b[0m\u001b[0;34m\u001b[0m\u001b[0m\n\u001b[0m",
      "\u001b[0;32m/scratch-local/cbisot/ipykernel_928921/386490798.py\u001b[0m in \u001b[0;36mdownload_folders_drop\u001b[0;34m(folders_drop, directory_target)\u001b[0m\n\u001b[1;32m     22\u001b[0m             \u001b[0mprint\u001b[0m\u001b[0;34m(\u001b[0m\u001b[0mpath_drop\u001b[0m\u001b[0;34m,\u001b[0m \u001b[0mpath_local\u001b[0m\u001b[0;34m)\u001b[0m\u001b[0;34m\u001b[0m\u001b[0;34m\u001b[0m\u001b[0m\n\u001b[1;32m     23\u001b[0m \u001b[0;34m\u001b[0m\u001b[0m\n\u001b[0;32m---> 24\u001b[0;31m             \u001b[0mdownload\u001b[0m\u001b[0;34m(\u001b[0m\u001b[0mpath_drop\u001b[0m\u001b[0;34m,\u001b[0m \u001b[0mpath_local\u001b[0m\u001b[0;34m,\u001b[0m \u001b[0munzip\u001b[0m\u001b[0;34m=\u001b[0m\u001b[0;34m(\u001b[0m\u001b[0mpath_drop\u001b[0m\u001b[0;34m[\u001b[0m\u001b[0;34m-\u001b[0m\u001b[0;36m4\u001b[0m\u001b[0;34m:\u001b[0m\u001b[0;34m]\u001b[0m \u001b[0;34m==\u001b[0m \u001b[0;34m\".zip\"\u001b[0m\u001b[0;34m)\u001b[0m\u001b[0;34m)\u001b[0m\u001b[0;34m\u001b[0m\u001b[0;34m\u001b[0m\u001b[0m\n\u001b[0m",
      "\u001b[0;32m/gpfs/home2/cbisot/pycode/AMFtrack/amftrack/util/dbx.py\u001b[0m in \u001b[0;36mdownload\u001b[0;34m(file_path, target_path, end, catch_exception, unzip)\u001b[0m\n\u001b[1;32m    124\u001b[0m             \u001b[0;32mwith\u001b[0m \u001b[0mopen\u001b[0m\u001b[0;34m(\u001b[0m\u001b[0mtarget_path\u001b[0m\u001b[0;34m,\u001b[0m \u001b[0;34m\"wb\"\u001b[0m\u001b[0;34m)\u001b[0m \u001b[0;32mas\u001b[0m \u001b[0mf\u001b[0m\u001b[0;34m:\u001b[0m\u001b[0;34m\u001b[0m\u001b[0;34m\u001b[0m\u001b[0m\n\u001b[1;32m    125\u001b[0m                 \u001b[0mmetadata\u001b[0m\u001b[0;34m,\u001b[0m \u001b[0mres\u001b[0m \u001b[0;34m=\u001b[0m \u001b[0mdbx\u001b[0m\u001b[0;34m.\u001b[0m\u001b[0mfiles_download\u001b[0m\u001b[0;34m(\u001b[0m\u001b[0mpath\u001b[0m\u001b[0;34m=\u001b[0m\u001b[0;34mf'{file_path}{end}'\u001b[0m\u001b[0;34m)\u001b[0m\u001b[0;34m\u001b[0m\u001b[0;34m\u001b[0m\u001b[0m\n\u001b[0;32m--> 126\u001b[0;31m                 \u001b[0mf\u001b[0m\u001b[0;34m.\u001b[0m\u001b[0mwrite\u001b[0m\u001b[0;34m(\u001b[0m\u001b[0mres\u001b[0m\u001b[0;34m.\u001b[0m\u001b[0mcontent\u001b[0m\u001b[0;34m)\u001b[0m\u001b[0;34m\u001b[0m\u001b[0;34m\u001b[0m\u001b[0m\n\u001b[0m\u001b[1;32m    127\u001b[0m         \u001b[0;32mexcept\u001b[0m \u001b[0;34m(\u001b[0m\u001b[0mrequests\u001b[0m\u001b[0;34m.\u001b[0m\u001b[0mexceptions\u001b[0m\u001b[0;34m.\u001b[0m\u001b[0mRequestException\u001b[0m\u001b[0;34m,\u001b[0m\u001b[0mdropbox\u001b[0m\u001b[0;34m.\u001b[0m\u001b[0mexceptions\u001b[0m\u001b[0;34m.\u001b[0m\u001b[0mApiError\u001b[0m\u001b[0;34m)\u001b[0m \u001b[0;32mas\u001b[0m \u001b[0me\u001b[0m\u001b[0;34m:\u001b[0m\u001b[0;34m\u001b[0m\u001b[0;34m\u001b[0m\u001b[0m\n\u001b[1;32m    128\u001b[0m             \u001b[0;32mif\u001b[0m \u001b[0mcatch_exception\u001b[0m\u001b[0;34m:\u001b[0m\u001b[0;34m\u001b[0m\u001b[0;34m\u001b[0m\u001b[0m\n",
      "\u001b[0;32m~/miniconda3/envs/amftrack/lib/python3.7/site-packages/requests/models.py\u001b[0m in \u001b[0;36mcontent\u001b[0;34m(self)\u001b[0m\n\u001b[1;32m    834\u001b[0m                 \u001b[0mself\u001b[0m\u001b[0;34m.\u001b[0m\u001b[0m_content\u001b[0m \u001b[0;34m=\u001b[0m \u001b[0;32mNone\u001b[0m\u001b[0;34m\u001b[0m\u001b[0;34m\u001b[0m\u001b[0m\n\u001b[1;32m    835\u001b[0m             \u001b[0;32melse\u001b[0m\u001b[0;34m:\u001b[0m\u001b[0;34m\u001b[0m\u001b[0;34m\u001b[0m\u001b[0m\n\u001b[0;32m--> 836\u001b[0;31m                 \u001b[0mself\u001b[0m\u001b[0;34m.\u001b[0m\u001b[0m_content\u001b[0m \u001b[0;34m=\u001b[0m \u001b[0;34mb''\u001b[0m\u001b[0;34m.\u001b[0m\u001b[0mjoin\u001b[0m\u001b[0;34m(\u001b[0m\u001b[0mself\u001b[0m\u001b[0;34m.\u001b[0m\u001b[0miter_content\u001b[0m\u001b[0;34m(\u001b[0m\u001b[0mCONTENT_CHUNK_SIZE\u001b[0m\u001b[0;34m)\u001b[0m\u001b[0;34m)\u001b[0m \u001b[0;32mor\u001b[0m \u001b[0;34mb''\u001b[0m\u001b[0;34m\u001b[0m\u001b[0;34m\u001b[0m\u001b[0m\n\u001b[0m\u001b[1;32m    837\u001b[0m \u001b[0;34m\u001b[0m\u001b[0m\n\u001b[1;32m    838\u001b[0m         \u001b[0mself\u001b[0m\u001b[0;34m.\u001b[0m\u001b[0m_content_consumed\u001b[0m \u001b[0;34m=\u001b[0m \u001b[0;32mTrue\u001b[0m\u001b[0;34m\u001b[0m\u001b[0;34m\u001b[0m\u001b[0m\n",
      "\u001b[0;32m~/miniconda3/envs/amftrack/lib/python3.7/site-packages/requests/models.py\u001b[0m in \u001b[0;36mgenerate\u001b[0;34m()\u001b[0m\n\u001b[1;32m    756\u001b[0m             \u001b[0;32mif\u001b[0m \u001b[0mhasattr\u001b[0m\u001b[0;34m(\u001b[0m\u001b[0mself\u001b[0m\u001b[0;34m.\u001b[0m\u001b[0mraw\u001b[0m\u001b[0;34m,\u001b[0m \u001b[0;34m'stream'\u001b[0m\u001b[0;34m)\u001b[0m\u001b[0;34m:\u001b[0m\u001b[0;34m\u001b[0m\u001b[0;34m\u001b[0m\u001b[0m\n\u001b[1;32m    757\u001b[0m                 \u001b[0;32mtry\u001b[0m\u001b[0;34m:\u001b[0m\u001b[0;34m\u001b[0m\u001b[0;34m\u001b[0m\u001b[0m\n\u001b[0;32m--> 758\u001b[0;31m                     \u001b[0;32mfor\u001b[0m \u001b[0mchunk\u001b[0m \u001b[0;32min\u001b[0m \u001b[0mself\u001b[0m\u001b[0;34m.\u001b[0m\u001b[0mraw\u001b[0m\u001b[0;34m.\u001b[0m\u001b[0mstream\u001b[0m\u001b[0;34m(\u001b[0m\u001b[0mchunk_size\u001b[0m\u001b[0;34m,\u001b[0m \u001b[0mdecode_content\u001b[0m\u001b[0;34m=\u001b[0m\u001b[0;32mTrue\u001b[0m\u001b[0;34m)\u001b[0m\u001b[0;34m:\u001b[0m\u001b[0;34m\u001b[0m\u001b[0;34m\u001b[0m\u001b[0m\n\u001b[0m\u001b[1;32m    759\u001b[0m                         \u001b[0;32myield\u001b[0m \u001b[0mchunk\u001b[0m\u001b[0;34m\u001b[0m\u001b[0;34m\u001b[0m\u001b[0m\n\u001b[1;32m    760\u001b[0m                 \u001b[0;32mexcept\u001b[0m \u001b[0mProtocolError\u001b[0m \u001b[0;32mas\u001b[0m \u001b[0me\u001b[0m\u001b[0;34m:\u001b[0m\u001b[0;34m\u001b[0m\u001b[0;34m\u001b[0m\u001b[0m\n",
      "\u001b[0;32m~/miniconda3/envs/amftrack/lib/python3.7/site-packages/urllib3/response.py\u001b[0m in \u001b[0;36mstream\u001b[0;34m(self, amt, decode_content)\u001b[0m\n\u001b[1;32m    574\u001b[0m         \u001b[0;32melse\u001b[0m\u001b[0;34m:\u001b[0m\u001b[0;34m\u001b[0m\u001b[0;34m\u001b[0m\u001b[0m\n\u001b[1;32m    575\u001b[0m             \u001b[0;32mwhile\u001b[0m \u001b[0;32mnot\u001b[0m \u001b[0mis_fp_closed\u001b[0m\u001b[0;34m(\u001b[0m\u001b[0mself\u001b[0m\u001b[0;34m.\u001b[0m\u001b[0m_fp\u001b[0m\u001b[0;34m)\u001b[0m\u001b[0;34m:\u001b[0m\u001b[0;34m\u001b[0m\u001b[0;34m\u001b[0m\u001b[0m\n\u001b[0;32m--> 576\u001b[0;31m                 \u001b[0mdata\u001b[0m \u001b[0;34m=\u001b[0m \u001b[0mself\u001b[0m\u001b[0;34m.\u001b[0m\u001b[0mread\u001b[0m\u001b[0;34m(\u001b[0m\u001b[0mamt\u001b[0m\u001b[0;34m=\u001b[0m\u001b[0mamt\u001b[0m\u001b[0;34m,\u001b[0m \u001b[0mdecode_content\u001b[0m\u001b[0;34m=\u001b[0m\u001b[0mdecode_content\u001b[0m\u001b[0;34m)\u001b[0m\u001b[0;34m\u001b[0m\u001b[0;34m\u001b[0m\u001b[0m\n\u001b[0m\u001b[1;32m    577\u001b[0m \u001b[0;34m\u001b[0m\u001b[0m\n\u001b[1;32m    578\u001b[0m                 \u001b[0;32mif\u001b[0m \u001b[0mdata\u001b[0m\u001b[0;34m:\u001b[0m\u001b[0;34m\u001b[0m\u001b[0;34m\u001b[0m\u001b[0m\n",
      "\u001b[0;32m~/miniconda3/envs/amftrack/lib/python3.7/site-packages/urllib3/response.py\u001b[0m in \u001b[0;36mread\u001b[0;34m(self, amt, decode_content, cache_content)\u001b[0m\n\u001b[1;32m    517\u001b[0m             \u001b[0;32melse\u001b[0m\u001b[0;34m:\u001b[0m\u001b[0;34m\u001b[0m\u001b[0;34m\u001b[0m\u001b[0m\n\u001b[1;32m    518\u001b[0m                 \u001b[0mcache_content\u001b[0m \u001b[0;34m=\u001b[0m \u001b[0;32mFalse\u001b[0m\u001b[0;34m\u001b[0m\u001b[0;34m\u001b[0m\u001b[0m\n\u001b[0;32m--> 519\u001b[0;31m                 \u001b[0mdata\u001b[0m \u001b[0;34m=\u001b[0m \u001b[0mself\u001b[0m\u001b[0;34m.\u001b[0m\u001b[0m_fp\u001b[0m\u001b[0;34m.\u001b[0m\u001b[0mread\u001b[0m\u001b[0;34m(\u001b[0m\u001b[0mamt\u001b[0m\u001b[0;34m)\u001b[0m \u001b[0;32mif\u001b[0m \u001b[0;32mnot\u001b[0m \u001b[0mfp_closed\u001b[0m \u001b[0;32melse\u001b[0m \u001b[0;34mb\"\"\u001b[0m\u001b[0;34m\u001b[0m\u001b[0;34m\u001b[0m\u001b[0m\n\u001b[0m\u001b[1;32m    520\u001b[0m                 if (\n\u001b[1;32m    521\u001b[0m                     \u001b[0mamt\u001b[0m \u001b[0;34m!=\u001b[0m \u001b[0;36m0\u001b[0m \u001b[0;32mand\u001b[0m \u001b[0;32mnot\u001b[0m \u001b[0mdata\u001b[0m\u001b[0;34m\u001b[0m\u001b[0;34m\u001b[0m\u001b[0m\n",
      "\u001b[0;32m~/miniconda3/envs/amftrack/lib/python3.7/http/client.py\u001b[0m in \u001b[0;36mread\u001b[0;34m(self, amt)\u001b[0m\n\u001b[1;32m    463\u001b[0m             \u001b[0;31m# Amount is given, implement using readinto\u001b[0m\u001b[0;34m\u001b[0m\u001b[0;34m\u001b[0m\u001b[0;34m\u001b[0m\u001b[0m\n\u001b[1;32m    464\u001b[0m             \u001b[0mb\u001b[0m \u001b[0;34m=\u001b[0m \u001b[0mbytearray\u001b[0m\u001b[0;34m(\u001b[0m\u001b[0mamt\u001b[0m\u001b[0;34m)\u001b[0m\u001b[0;34m\u001b[0m\u001b[0;34m\u001b[0m\u001b[0m\n\u001b[0;32m--> 465\u001b[0;31m             \u001b[0mn\u001b[0m \u001b[0;34m=\u001b[0m \u001b[0mself\u001b[0m\u001b[0;34m.\u001b[0m\u001b[0mreadinto\u001b[0m\u001b[0;34m(\u001b[0m\u001b[0mb\u001b[0m\u001b[0;34m)\u001b[0m\u001b[0;34m\u001b[0m\u001b[0;34m\u001b[0m\u001b[0m\n\u001b[0m\u001b[1;32m    466\u001b[0m             \u001b[0;32mreturn\u001b[0m \u001b[0mmemoryview\u001b[0m\u001b[0;34m(\u001b[0m\u001b[0mb\u001b[0m\u001b[0;34m)\u001b[0m\u001b[0;34m[\u001b[0m\u001b[0;34m:\u001b[0m\u001b[0mn\u001b[0m\u001b[0;34m]\u001b[0m\u001b[0;34m.\u001b[0m\u001b[0mtobytes\u001b[0m\u001b[0;34m(\u001b[0m\u001b[0;34m)\u001b[0m\u001b[0;34m\u001b[0m\u001b[0;34m\u001b[0m\u001b[0m\n\u001b[1;32m    467\u001b[0m         \u001b[0;32melse\u001b[0m\u001b[0;34m:\u001b[0m\u001b[0;34m\u001b[0m\u001b[0;34m\u001b[0m\u001b[0m\n",
      "\u001b[0;32m~/miniconda3/envs/amftrack/lib/python3.7/http/client.py\u001b[0m in \u001b[0;36mreadinto\u001b[0;34m(self, b)\u001b[0m\n\u001b[1;32m    507\u001b[0m         \u001b[0;31m# connection, and the user is reading more bytes than will be provided\u001b[0m\u001b[0;34m\u001b[0m\u001b[0;34m\u001b[0m\u001b[0;34m\u001b[0m\u001b[0m\n\u001b[1;32m    508\u001b[0m         \u001b[0;31m# (for example, reading in 1k chunks)\u001b[0m\u001b[0;34m\u001b[0m\u001b[0;34m\u001b[0m\u001b[0;34m\u001b[0m\u001b[0m\n\u001b[0;32m--> 509\u001b[0;31m         \u001b[0mn\u001b[0m \u001b[0;34m=\u001b[0m \u001b[0mself\u001b[0m\u001b[0;34m.\u001b[0m\u001b[0mfp\u001b[0m\u001b[0;34m.\u001b[0m\u001b[0mreadinto\u001b[0m\u001b[0;34m(\u001b[0m\u001b[0mb\u001b[0m\u001b[0;34m)\u001b[0m\u001b[0;34m\u001b[0m\u001b[0;34m\u001b[0m\u001b[0m\n\u001b[0m\u001b[1;32m    510\u001b[0m         \u001b[0;32mif\u001b[0m \u001b[0;32mnot\u001b[0m \u001b[0mn\u001b[0m \u001b[0;32mand\u001b[0m \u001b[0mb\u001b[0m\u001b[0;34m:\u001b[0m\u001b[0;34m\u001b[0m\u001b[0;34m\u001b[0m\u001b[0m\n\u001b[1;32m    511\u001b[0m             \u001b[0;31m# Ideally, we would raise IncompleteRead if the content-length\u001b[0m\u001b[0;34m\u001b[0m\u001b[0;34m\u001b[0m\u001b[0;34m\u001b[0m\u001b[0m\n",
      "\u001b[0;32m~/miniconda3/envs/amftrack/lib/python3.7/socket.py\u001b[0m in \u001b[0;36mreadinto\u001b[0;34m(self, b)\u001b[0m\n\u001b[1;32m    587\u001b[0m         \u001b[0;32mwhile\u001b[0m \u001b[0;32mTrue\u001b[0m\u001b[0;34m:\u001b[0m\u001b[0;34m\u001b[0m\u001b[0;34m\u001b[0m\u001b[0m\n\u001b[1;32m    588\u001b[0m             \u001b[0;32mtry\u001b[0m\u001b[0;34m:\u001b[0m\u001b[0;34m\u001b[0m\u001b[0;34m\u001b[0m\u001b[0m\n\u001b[0;32m--> 589\u001b[0;31m                 \u001b[0;32mreturn\u001b[0m \u001b[0mself\u001b[0m\u001b[0;34m.\u001b[0m\u001b[0m_sock\u001b[0m\u001b[0;34m.\u001b[0m\u001b[0mrecv_into\u001b[0m\u001b[0;34m(\u001b[0m\u001b[0mb\u001b[0m\u001b[0;34m)\u001b[0m\u001b[0;34m\u001b[0m\u001b[0;34m\u001b[0m\u001b[0m\n\u001b[0m\u001b[1;32m    590\u001b[0m             \u001b[0;32mexcept\u001b[0m \u001b[0mtimeout\u001b[0m\u001b[0;34m:\u001b[0m\u001b[0;34m\u001b[0m\u001b[0;34m\u001b[0m\u001b[0m\n\u001b[1;32m    591\u001b[0m                 \u001b[0mself\u001b[0m\u001b[0;34m.\u001b[0m\u001b[0m_timeout_occurred\u001b[0m \u001b[0;34m=\u001b[0m \u001b[0;32mTrue\u001b[0m\u001b[0;34m\u001b[0m\u001b[0;34m\u001b[0m\u001b[0m\n",
      "\u001b[0;32m~/miniconda3/envs/amftrack/lib/python3.7/ssl.py\u001b[0m in \u001b[0;36mrecv_into\u001b[0;34m(self, buffer, nbytes, flags)\u001b[0m\n\u001b[1;32m   1069\u001b[0m                   \u001b[0;34m\"non-zero flags not allowed in calls to recv_into() on %s\"\u001b[0m \u001b[0;34m%\u001b[0m\u001b[0;34m\u001b[0m\u001b[0;34m\u001b[0m\u001b[0m\n\u001b[1;32m   1070\u001b[0m                   self.__class__)\n\u001b[0;32m-> 1071\u001b[0;31m             \u001b[0;32mreturn\u001b[0m \u001b[0mself\u001b[0m\u001b[0;34m.\u001b[0m\u001b[0mread\u001b[0m\u001b[0;34m(\u001b[0m\u001b[0mnbytes\u001b[0m\u001b[0;34m,\u001b[0m \u001b[0mbuffer\u001b[0m\u001b[0;34m)\u001b[0m\u001b[0;34m\u001b[0m\u001b[0;34m\u001b[0m\u001b[0m\n\u001b[0m\u001b[1;32m   1072\u001b[0m         \u001b[0;32melse\u001b[0m\u001b[0;34m:\u001b[0m\u001b[0;34m\u001b[0m\u001b[0;34m\u001b[0m\u001b[0m\n\u001b[1;32m   1073\u001b[0m             \u001b[0;32mreturn\u001b[0m \u001b[0msuper\u001b[0m\u001b[0;34m(\u001b[0m\u001b[0;34m)\u001b[0m\u001b[0;34m.\u001b[0m\u001b[0mrecv_into\u001b[0m\u001b[0;34m(\u001b[0m\u001b[0mbuffer\u001b[0m\u001b[0;34m,\u001b[0m \u001b[0mnbytes\u001b[0m\u001b[0;34m,\u001b[0m \u001b[0mflags\u001b[0m\u001b[0;34m)\u001b[0m\u001b[0;34m\u001b[0m\u001b[0;34m\u001b[0m\u001b[0m\n",
      "\u001b[0;32m~/miniconda3/envs/amftrack/lib/python3.7/ssl.py\u001b[0m in \u001b[0;36mread\u001b[0;34m(self, len, buffer)\u001b[0m\n\u001b[1;32m    927\u001b[0m         \u001b[0;32mtry\u001b[0m\u001b[0;34m:\u001b[0m\u001b[0;34m\u001b[0m\u001b[0;34m\u001b[0m\u001b[0m\n\u001b[1;32m    928\u001b[0m             \u001b[0;32mif\u001b[0m \u001b[0mbuffer\u001b[0m \u001b[0;32mis\u001b[0m \u001b[0;32mnot\u001b[0m \u001b[0;32mNone\u001b[0m\u001b[0;34m:\u001b[0m\u001b[0;34m\u001b[0m\u001b[0;34m\u001b[0m\u001b[0m\n\u001b[0;32m--> 929\u001b[0;31m                 \u001b[0;32mreturn\u001b[0m \u001b[0mself\u001b[0m\u001b[0;34m.\u001b[0m\u001b[0m_sslobj\u001b[0m\u001b[0;34m.\u001b[0m\u001b[0mread\u001b[0m\u001b[0;34m(\u001b[0m\u001b[0mlen\u001b[0m\u001b[0;34m,\u001b[0m \u001b[0mbuffer\u001b[0m\u001b[0;34m)\u001b[0m\u001b[0;34m\u001b[0m\u001b[0;34m\u001b[0m\u001b[0m\n\u001b[0m\u001b[1;32m    930\u001b[0m             \u001b[0;32melse\u001b[0m\u001b[0;34m:\u001b[0m\u001b[0;34m\u001b[0m\u001b[0;34m\u001b[0m\u001b[0m\n\u001b[1;32m    931\u001b[0m                 \u001b[0;32mreturn\u001b[0m \u001b[0mself\u001b[0m\u001b[0;34m.\u001b[0m\u001b[0m_sslobj\u001b[0m\u001b[0;34m.\u001b[0m\u001b[0mread\u001b[0m\u001b[0;34m(\u001b[0m\u001b[0mlen\u001b[0m\u001b[0;34m)\u001b[0m\u001b[0;34m\u001b[0m\u001b[0;34m\u001b[0m\u001b[0m\n",
      "\u001b[0;31mKeyboardInterrupt\u001b[0m: "
     ]
    }
   ],
   "source": [
    "download_folders_drop(all_folders_drop_new, directory_targ2)"
   ]
  },
  {
   "cell_type": "code",
   "execution_count": 8,
   "metadata": {},
   "outputs": [
    {
     "data": {
      "application/vnd.jupyter.widget-view+json": {
       "model_id": "a07de0865b66438cba20bcabaa0f6308",
       "version_major": 2,
       "version_minor": 0
      },
      "text/plain": [
       "analysed:   0%|          | 0/7379 [00:00<?, ?it/s]"
      ]
     },
     "metadata": {},
     "output_type": "display_data"
    },
    {
     "ename": "KeyboardInterrupt",
     "evalue": "",
     "output_type": "error",
     "traceback": [
      "\u001b[0;31m---------------------------------------------------------------------------\u001b[0m",
      "\u001b[0;31mKeyboardInterrupt\u001b[0m                         Traceback (most recent call last)",
      "\u001b[0;32m~/temp/ipykernel_1755354/2721024256.py\u001b[0m in \u001b[0;36m<module>\u001b[0;34m\u001b[0m\n\u001b[1;32m     17\u001b[0m \u001b[0mdir_drop\u001b[0m \u001b[0;34m=\u001b[0m \u001b[0;34m\"DATA/PRINCE\"\u001b[0m\u001b[0;34m\u001b[0m\u001b[0;34m\u001b[0m\u001b[0m\n\u001b[1;32m     18\u001b[0m \u001b[0msuffix_data_info\u001b[0m \u001b[0;34m=\u001b[0m \u001b[0mstr\u001b[0m\u001b[0;34m(\u001b[0m\u001b[0mtime_ns\u001b[0m\u001b[0;34m(\u001b[0m\u001b[0;34m)\u001b[0m\u001b[0;34m)\u001b[0m\u001b[0;34m\u001b[0m\u001b[0;34m\u001b[0m\u001b[0m\n\u001b[0;32m---> 19\u001b[0;31m \u001b[0mupdate_plate_info\u001b[0m\u001b[0;34m(\u001b[0m\u001b[0mdirectory_origin\u001b[0m\u001b[0;34m,\u001b[0m \u001b[0mlocal\u001b[0m\u001b[0;34m=\u001b[0m\u001b[0;32mTrue\u001b[0m\u001b[0;34m,\u001b[0m\u001b[0mstrong_constraint\u001b[0m\u001b[0;34m=\u001b[0m\u001b[0;32mFalse\u001b[0m\u001b[0;34m,\u001b[0m\u001b[0msuffix_data_info\u001b[0m \u001b[0;34m=\u001b[0m \u001b[0msuffix_data_info\u001b[0m\u001b[0;34m)\u001b[0m\u001b[0;34m\u001b[0m\u001b[0;34m\u001b[0m\u001b[0m\n\u001b[0m\u001b[1;32m     20\u001b[0m \u001b[0mall_folders_origin\u001b[0m \u001b[0;34m=\u001b[0m \u001b[0mget_current_folders\u001b[0m\u001b[0;34m(\u001b[0m\u001b[0mdirectory_origin\u001b[0m\u001b[0;34m,\u001b[0m \u001b[0mlocal\u001b[0m\u001b[0;34m=\u001b[0m\u001b[0;32mTrue\u001b[0m\u001b[0;34m)\u001b[0m\u001b[0;34m\u001b[0m\u001b[0;34m\u001b[0m\u001b[0m\n\u001b[1;32m     21\u001b[0m \u001b[0;34m\u001b[0m\u001b[0m\n",
      "\u001b[0;32m~/pycode/MscThesis/amftrack/util/sys.py\u001b[0m in \u001b[0;36mupdate_plate_info\u001b[0;34m(directory, local, strong_constraint, suffix_data_info)\u001b[0m\n\u001b[1;32m    250\u001b[0m             \u001b[0mpath_snap\u001b[0m \u001b[0;34m=\u001b[0m \u001b[0mos\u001b[0m\u001b[0;34m.\u001b[0m\u001b[0mpath\u001b[0m\u001b[0;34m.\u001b[0m\u001b[0mjoin\u001b[0m\u001b[0;34m(\u001b[0m\u001b[0mdirectory\u001b[0m\u001b[0;34m,\u001b[0m \u001b[0mfolder\u001b[0m\u001b[0;34m)\u001b[0m\u001b[0;34m\u001b[0m\u001b[0;34m\u001b[0m\u001b[0m\n\u001b[1;32m    251\u001b[0m             \u001b[0;32mif\u001b[0m \u001b[0mos\u001b[0m\u001b[0;34m.\u001b[0m\u001b[0mpath\u001b[0m\u001b[0;34m.\u001b[0m\u001b[0mexists\u001b[0m\u001b[0;34m(\u001b[0m\u001b[0mos\u001b[0m\u001b[0;34m.\u001b[0m\u001b[0mpath\u001b[0m\u001b[0;34m.\u001b[0m\u001b[0mjoin\u001b[0m\u001b[0;34m(\u001b[0m\u001b[0mpath_snap\u001b[0m\u001b[0;34m,\u001b[0m\u001b[0;34m'Img'\u001b[0m\u001b[0;34m)\u001b[0m\u001b[0;34m)\u001b[0m\u001b[0;34m:\u001b[0m\u001b[0;34m\u001b[0m\u001b[0;34m\u001b[0m\u001b[0m\n\u001b[0;32m--> 252\u001b[0;31m                 \u001b[0msub_list_files\u001b[0m \u001b[0;34m=\u001b[0m \u001b[0mos\u001b[0m\u001b[0;34m.\u001b[0m\u001b[0mlistdir\u001b[0m\u001b[0;34m(\u001b[0m\u001b[0mos\u001b[0m\u001b[0;34m.\u001b[0m\u001b[0mpath\u001b[0m\u001b[0;34m.\u001b[0m\u001b[0mjoin\u001b[0m\u001b[0;34m(\u001b[0m\u001b[0mpath_snap\u001b[0m\u001b[0;34m,\u001b[0m\u001b[0;34m'Img'\u001b[0m\u001b[0;34m)\u001b[0m\u001b[0;34m)\u001b[0m\u001b[0;34m\u001b[0m\u001b[0;34m\u001b[0m\u001b[0m\n\u001b[0m\u001b[1;32m    253\u001b[0m                 \u001b[0mis_real_folder\u001b[0m \u001b[0;34m=\u001b[0m \u001b[0mos\u001b[0m\u001b[0;34m.\u001b[0m\u001b[0mpath\u001b[0m\u001b[0;34m.\u001b[0m\u001b[0misfile\u001b[0m\u001b[0;34m(\u001b[0m\u001b[0mos\u001b[0m\u001b[0;34m.\u001b[0m\u001b[0mpath\u001b[0m\u001b[0;34m.\u001b[0m\u001b[0mjoin\u001b[0m\u001b[0;34m(\u001b[0m\u001b[0mpath_snap\u001b[0m\u001b[0;34m,\u001b[0m \u001b[0;34m\"param.m\"\u001b[0m\u001b[0;34m)\u001b[0m\u001b[0;34m)\u001b[0m\u001b[0;34m\u001b[0m\u001b[0;34m\u001b[0m\u001b[0m\n\u001b[1;32m    254\u001b[0m                 \u001b[0;32mif\u001b[0m \u001b[0mstrong_constraint\u001b[0m\u001b[0;34m:\u001b[0m\u001b[0;34m\u001b[0m\u001b[0;34m\u001b[0m\u001b[0m\n",
      "\u001b[0;31mKeyboardInterrupt\u001b[0m: "
     ]
    }
   ],
   "source": [
    "import os\n",
    "import sys\n",
    "\n",
    "\n",
    "# sys.path.insert(0,r'C:\\Users\\coren\\Documents\\PhD\\Code\\AMFtrack')\n",
    "\n",
    "import pandas as pd\n",
    "from amftrack.util.sys import (\n",
    "    update_plate_info,\n",
    "    get_current_folders,\n",
    ")\n",
    "\n",
    "from datetime import datetime, timedelta\n",
    "from amftrack.util.dbx import upload_folders\n",
    "from time import time_ns\n",
    "directory_origin = r\"/mnt/sun-temp/TEMP/PRINCE_syncing/\"\n",
    "dir_drop = \"DATA/PRINCE\"\n",
    "suffix_data_info = str(time_ns())\n",
    "update_plate_info(directory_origin, local=True,strong_constraint=False,suffix_data_info = suffix_data_info)\n",
    "all_folders_origin = get_current_folders(directory_origin, local=True)\n",
    "\n",
    "all_folders_origin[\"date_datetime\"] = pd.to_datetime(\n",
    "    all_folders_origin[\"date\"].astype(str), format=\"%d.%m.%Y, %H:%M:\"\n",
    ")\n",
    "selection = (datetime.now() - all_folders_origin[\"date_datetime\"]) <= timedelta(days=3)\n",
    "current_prince = all_folders_origin.loc[selection]\n",
    "plates_in_prince = current_prince['unique_id'].unique()\n",
    "old_folders = all_folders_origin.loc[all_folders_origin['unique_id'].isin(plates_in_prince)==False]\n",
    "\n",
    "old_folders[\"Plate\"] = (\n",
    "    old_folders[\"Plate\"].str.replace(\"R\", \"66666\").str.replace(\"[^0-9]\", \"\")\n",
    ")\n"
   ]
  },
  {
   "cell_type": "code",
   "execution_count": 6,
   "metadata": {},
   "outputs": [],
   "source": [
    "old_folders = old_folders.loc[old_folders['PrincePos'].astype(int)%2==0]"
   ]
  },
  {
   "cell_type": "code",
   "execution_count": 7,
   "metadata": {},
   "outputs": [
    {
     "data": {
      "text/html": [
       "<div>\n",
       "<style scoped>\n",
       "    .dataframe tbody tr th:only-of-type {\n",
       "        vertical-align: middle;\n",
       "    }\n",
       "\n",
       "    .dataframe tbody tr th {\n",
       "        vertical-align: top;\n",
       "    }\n",
       "\n",
       "    .dataframe thead th {\n",
       "        text-align: right;\n",
       "    }\n",
       "</style>\n",
       "<table border=\"1\" class=\"dataframe\">\n",
       "  <thead>\n",
       "    <tr style=\"text-align: right;\">\n",
       "      <th></th>\n",
       "      <th>total_path</th>\n",
       "      <th>Plate</th>\n",
       "      <th>PrincePos</th>\n",
       "      <th>root</th>\n",
       "      <th>strain</th>\n",
       "      <th>medium</th>\n",
       "      <th>split</th>\n",
       "      <th>Pbait</th>\n",
       "      <th>CrossDate</th>\n",
       "      <th>Temperature</th>\n",
       "      <th>...</th>\n",
       "      <th>/Analysis/transform_corrupt.mat</th>\n",
       "      <th>/Analysis/skeleton_realigned_compressed.mat</th>\n",
       "      <th>/Analysis/nx_graph_pruned.p</th>\n",
       "      <th>/Analysis/nx_graph_pruned_width.p</th>\n",
       "      <th>/Analysis/nx_graph_pruned_labeled.p</th>\n",
       "      <th>date</th>\n",
       "      <th>folder</th>\n",
       "      <th>unique_id</th>\n",
       "      <th>datetime</th>\n",
       "      <th>date_datetime</th>\n",
       "    </tr>\n",
       "  </thead>\n",
       "  <tbody>\n",
       "    <tr>\n",
       "      <th>13</th>\n",
       "      <td>/mnt/sun-temp/TEMP/PRINCE_syncing/20220615_131...</td>\n",
       "      <td>30</td>\n",
       "      <td>12</td>\n",
       "      <td>'Carrot'</td>\n",
       "      <td>'Agg'</td>\n",
       "      <td>'001P100N200C'</td>\n",
       "      <td>'Y'</td>\n",
       "      <td>'-'</td>\n",
       "      <td>20220509</td>\n",
       "      <td>25</td>\n",
       "      <td>...</td>\n",
       "      <td>False</td>\n",
       "      <td>False</td>\n",
       "      <td>False</td>\n",
       "      <td>False</td>\n",
       "      <td>False</td>\n",
       "      <td>15.06.2022, 13:13:</td>\n",
       "      <td>20220615_1313_Plate12</td>\n",
       "      <td>30_20220509</td>\n",
       "      <td>2022-06-15 13:13:00</td>\n",
       "      <td>2022-06-15 13:13:00</td>\n",
       "    </tr>\n",
       "    <tr>\n",
       "      <th>15</th>\n",
       "      <td>/mnt/sun-temp/TEMP/PRINCE_syncing/20220617_110...</td>\n",
       "      <td>22</td>\n",
       "      <td>10</td>\n",
       "      <td>'Carrot'</td>\n",
       "      <td>'Agg'</td>\n",
       "      <td>'001P100N100C'</td>\n",
       "      <td>'Y'</td>\n",
       "      <td>'-'</td>\n",
       "      <td>20220522</td>\n",
       "      <td>25</td>\n",
       "      <td>...</td>\n",
       "      <td>False</td>\n",
       "      <td>False</td>\n",
       "      <td>False</td>\n",
       "      <td>False</td>\n",
       "      <td>False</td>\n",
       "      <td>17.06.2022, 11:04:</td>\n",
       "      <td>20220617_1104_Plate10</td>\n",
       "      <td>22_20220522</td>\n",
       "      <td>2022-06-17 11:04:00</td>\n",
       "      <td>2022-06-17 11:04:00</td>\n",
       "    </tr>\n",
       "    <tr>\n",
       "      <th>27</th>\n",
       "      <td>/mnt/sun-temp/TEMP/PRINCE_syncing/20220531_233...</td>\n",
       "      <td>22</td>\n",
       "      <td>10</td>\n",
       "      <td>'Carrot'</td>\n",
       "      <td>'Agg'</td>\n",
       "      <td>'001P100N100C'</td>\n",
       "      <td>'Y'</td>\n",
       "      <td>'-'</td>\n",
       "      <td>20220522</td>\n",
       "      <td>25</td>\n",
       "      <td>...</td>\n",
       "      <td>False</td>\n",
       "      <td>False</td>\n",
       "      <td>False</td>\n",
       "      <td>False</td>\n",
       "      <td>False</td>\n",
       "      <td>31.05.2022, 23:37:</td>\n",
       "      <td>20220531_2337_Plate10</td>\n",
       "      <td>22_20220522</td>\n",
       "      <td>2022-05-31 23:37:00</td>\n",
       "      <td>2022-05-31 23:37:00</td>\n",
       "    </tr>\n",
       "    <tr>\n",
       "      <th>35</th>\n",
       "      <td>/mnt/sun-temp/TEMP/PRINCE_syncing/20220524_221...</td>\n",
       "      <td>22</td>\n",
       "      <td>10</td>\n",
       "      <td>'Carrot'</td>\n",
       "      <td>'Agg'</td>\n",
       "      <td>'001P100N100C'</td>\n",
       "      <td>'Y'</td>\n",
       "      <td>'-'</td>\n",
       "      <td>20220522</td>\n",
       "      <td>25</td>\n",
       "      <td>...</td>\n",
       "      <td>False</td>\n",
       "      <td>False</td>\n",
       "      <td>False</td>\n",
       "      <td>False</td>\n",
       "      <td>False</td>\n",
       "      <td>24.05.2022, 22:16:</td>\n",
       "      <td>20220524_2216_Plate10</td>\n",
       "      <td>22_20220522</td>\n",
       "      <td>2022-05-24 22:16:00</td>\n",
       "      <td>2022-05-24 22:16:00</td>\n",
       "    </tr>\n",
       "    <tr>\n",
       "      <th>52</th>\n",
       "      <td>/mnt/sun-temp/TEMP/PRINCE_syncing/20220602_194...</td>\n",
       "      <td>30</td>\n",
       "      <td>12</td>\n",
       "      <td>'Carrot'</td>\n",
       "      <td>'Agg'</td>\n",
       "      <td>'001P100N200C'</td>\n",
       "      <td>'Y'</td>\n",
       "      <td>'-'</td>\n",
       "      <td>20220509</td>\n",
       "      <td>25</td>\n",
       "      <td>...</td>\n",
       "      <td>False</td>\n",
       "      <td>False</td>\n",
       "      <td>False</td>\n",
       "      <td>False</td>\n",
       "      <td>False</td>\n",
       "      <td>02.06.2022, 19:47:</td>\n",
       "      <td>20220602_1947_Plate12</td>\n",
       "      <td>30_20220509</td>\n",
       "      <td>2022-06-02 19:47:00</td>\n",
       "      <td>2022-06-02 19:47:00</td>\n",
       "    </tr>\n",
       "    <tr>\n",
       "      <th>...</th>\n",
       "      <td>...</td>\n",
       "      <td>...</td>\n",
       "      <td>...</td>\n",
       "      <td>...</td>\n",
       "      <td>...</td>\n",
       "      <td>...</td>\n",
       "      <td>...</td>\n",
       "      <td>...</td>\n",
       "      <td>...</td>\n",
       "      <td>...</td>\n",
       "      <td>...</td>\n",
       "      <td>...</td>\n",
       "      <td>...</td>\n",
       "      <td>...</td>\n",
       "      <td>...</td>\n",
       "      <td>...</td>\n",
       "      <td>...</td>\n",
       "      <td>...</td>\n",
       "      <td>...</td>\n",
       "      <td>...</td>\n",
       "      <td>...</td>\n",
       "    </tr>\n",
       "    <tr>\n",
       "      <th>7453</th>\n",
       "      <td>/mnt/sun-temp/TEMP/PRINCE_syncing/20220526_023...</td>\n",
       "      <td>1040</td>\n",
       "      <td>22</td>\n",
       "      <td>'Carrot'</td>\n",
       "      <td>'A5'</td>\n",
       "      <td>'001P100N100C'</td>\n",
       "      <td>'Y'</td>\n",
       "      <td>'-'</td>\n",
       "      <td>20220502</td>\n",
       "      <td>25</td>\n",
       "      <td>...</td>\n",
       "      <td>False</td>\n",
       "      <td>False</td>\n",
       "      <td>False</td>\n",
       "      <td>False</td>\n",
       "      <td>False</td>\n",
       "      <td>26.05.2022, 02:36:</td>\n",
       "      <td>20220526_0236_Plate22</td>\n",
       "      <td>1040_20220502</td>\n",
       "      <td>2022-05-26 02:36:00</td>\n",
       "      <td>2022-05-26 02:36:00</td>\n",
       "    </tr>\n",
       "    <tr>\n",
       "      <th>7461</th>\n",
       "      <td>/mnt/sun-temp/TEMP/PRINCE_syncing/20220605_215...</td>\n",
       "      <td>1039</td>\n",
       "      <td>18</td>\n",
       "      <td>'Carrot'</td>\n",
       "      <td>'C2'</td>\n",
       "      <td>'001P100N200C'</td>\n",
       "      <td>'Y'</td>\n",
       "      <td>'-'</td>\n",
       "      <td>20220516</td>\n",
       "      <td>25</td>\n",
       "      <td>...</td>\n",
       "      <td>False</td>\n",
       "      <td>False</td>\n",
       "      <td>False</td>\n",
       "      <td>False</td>\n",
       "      <td>False</td>\n",
       "      <td>05.06.2022, 21:52:</td>\n",
       "      <td>20220605_2152_Plate18</td>\n",
       "      <td>1039_20220516</td>\n",
       "      <td>2022-06-05 21:52:00</td>\n",
       "      <td>2022-06-05 21:52:00</td>\n",
       "    </tr>\n",
       "    <tr>\n",
       "      <th>7463</th>\n",
       "      <td>/mnt/sun-temp/TEMP/PRINCE_syncing/20220521_054...</td>\n",
       "      <td>1039</td>\n",
       "      <td>18</td>\n",
       "      <td>'Carrot'</td>\n",
       "      <td>'C2'</td>\n",
       "      <td>'001P100N200C'</td>\n",
       "      <td>'Y'</td>\n",
       "      <td>'-'</td>\n",
       "      <td>20220516</td>\n",
       "      <td>25</td>\n",
       "      <td>...</td>\n",
       "      <td>False</td>\n",
       "      <td>False</td>\n",
       "      <td>False</td>\n",
       "      <td>False</td>\n",
       "      <td>False</td>\n",
       "      <td>21.05.2022, 05:40:</td>\n",
       "      <td>20220521_0540_Plate18</td>\n",
       "      <td>1039_20220516</td>\n",
       "      <td>2022-05-21 05:40:00</td>\n",
       "      <td>2022-05-21 05:40:00</td>\n",
       "    </tr>\n",
       "    <tr>\n",
       "      <th>7466</th>\n",
       "      <td>/mnt/sun-temp/TEMP/PRINCE_syncing/20220530_192...</td>\n",
       "      <td>1039</td>\n",
       "      <td>18</td>\n",
       "      <td>'Carrot'</td>\n",
       "      <td>'C2'</td>\n",
       "      <td>'001P100N200C'</td>\n",
       "      <td>'Y'</td>\n",
       "      <td>'-'</td>\n",
       "      <td>20220516</td>\n",
       "      <td>25</td>\n",
       "      <td>...</td>\n",
       "      <td>False</td>\n",
       "      <td>False</td>\n",
       "      <td>False</td>\n",
       "      <td>False</td>\n",
       "      <td>False</td>\n",
       "      <td>30.05.2022, 19:20:</td>\n",
       "      <td>20220530_1920_Plate18</td>\n",
       "      <td>1039_20220516</td>\n",
       "      <td>2022-05-30 19:20:00</td>\n",
       "      <td>2022-05-30 19:20:00</td>\n",
       "    </tr>\n",
       "    <tr>\n",
       "      <th>7468</th>\n",
       "      <td>/mnt/sun-temp/TEMP/PRINCE_syncing/20220617_030...</td>\n",
       "      <td>22</td>\n",
       "      <td>10</td>\n",
       "      <td>'Carrot'</td>\n",
       "      <td>'Agg'</td>\n",
       "      <td>'001P100N100C'</td>\n",
       "      <td>'Y'</td>\n",
       "      <td>'-'</td>\n",
       "      <td>20220522</td>\n",
       "      <td>25</td>\n",
       "      <td>...</td>\n",
       "      <td>False</td>\n",
       "      <td>False</td>\n",
       "      <td>False</td>\n",
       "      <td>False</td>\n",
       "      <td>False</td>\n",
       "      <td>17.06.2022, 03:04:</td>\n",
       "      <td>20220617_0304_Plate10</td>\n",
       "      <td>22_20220522</td>\n",
       "      <td>2022-06-17 03:04:00</td>\n",
       "      <td>2022-06-17 03:04:00</td>\n",
       "    </tr>\n",
       "  </tbody>\n",
       "</table>\n",
       "<p>1741 rows × 25 columns</p>\n",
       "</div>"
      ],
      "text/plain": [
       "                                             total_path Plate PrincePos  \\\n",
       "13    /mnt/sun-temp/TEMP/PRINCE_syncing/20220615_131...    30        12   \n",
       "15    /mnt/sun-temp/TEMP/PRINCE_syncing/20220617_110...    22        10   \n",
       "27    /mnt/sun-temp/TEMP/PRINCE_syncing/20220531_233...    22        10   \n",
       "35    /mnt/sun-temp/TEMP/PRINCE_syncing/20220524_221...    22        10   \n",
       "52    /mnt/sun-temp/TEMP/PRINCE_syncing/20220602_194...    30        12   \n",
       "...                                                 ...   ...       ...   \n",
       "7453  /mnt/sun-temp/TEMP/PRINCE_syncing/20220526_023...  1040        22   \n",
       "7461  /mnt/sun-temp/TEMP/PRINCE_syncing/20220605_215...  1039        18   \n",
       "7463  /mnt/sun-temp/TEMP/PRINCE_syncing/20220521_054...  1039        18   \n",
       "7466  /mnt/sun-temp/TEMP/PRINCE_syncing/20220530_192...  1039        18   \n",
       "7468  /mnt/sun-temp/TEMP/PRINCE_syncing/20220617_030...    22        10   \n",
       "\n",
       "          root strain          medium split Pbait CrossDate Temperature  ...  \\\n",
       "13    'Carrot'  'Agg'  '001P100N200C'   'Y'   '-'  20220509          25  ...   \n",
       "15    'Carrot'  'Agg'  '001P100N100C'   'Y'   '-'  20220522          25  ...   \n",
       "27    'Carrot'  'Agg'  '001P100N100C'   'Y'   '-'  20220522          25  ...   \n",
       "35    'Carrot'  'Agg'  '001P100N100C'   'Y'   '-'  20220522          25  ...   \n",
       "52    'Carrot'  'Agg'  '001P100N200C'   'Y'   '-'  20220509          25  ...   \n",
       "...        ...    ...             ...   ...   ...       ...         ...  ...   \n",
       "7453  'Carrot'   'A5'  '001P100N100C'   'Y'   '-'  20220502          25  ...   \n",
       "7461  'Carrot'   'C2'  '001P100N200C'   'Y'   '-'  20220516          25  ...   \n",
       "7463  'Carrot'   'C2'  '001P100N200C'   'Y'   '-'  20220516          25  ...   \n",
       "7466  'Carrot'   'C2'  '001P100N200C'   'Y'   '-'  20220516          25  ...   \n",
       "7468  'Carrot'  'Agg'  '001P100N100C'   'Y'   '-'  20220522          25  ...   \n",
       "\n",
       "     /Analysis/transform_corrupt.mat  \\\n",
       "13                             False   \n",
       "15                             False   \n",
       "27                             False   \n",
       "35                             False   \n",
       "52                             False   \n",
       "...                              ...   \n",
       "7453                           False   \n",
       "7461                           False   \n",
       "7463                           False   \n",
       "7466                           False   \n",
       "7468                           False   \n",
       "\n",
       "     /Analysis/skeleton_realigned_compressed.mat /Analysis/nx_graph_pruned.p  \\\n",
       "13                                         False                       False   \n",
       "15                                         False                       False   \n",
       "27                                         False                       False   \n",
       "35                                         False                       False   \n",
       "52                                         False                       False   \n",
       "...                                          ...                         ...   \n",
       "7453                                       False                       False   \n",
       "7461                                       False                       False   \n",
       "7463                                       False                       False   \n",
       "7466                                       False                       False   \n",
       "7468                                       False                       False   \n",
       "\n",
       "     /Analysis/nx_graph_pruned_width.p /Analysis/nx_graph_pruned_labeled.p  \\\n",
       "13                               False                               False   \n",
       "15                               False                               False   \n",
       "27                               False                               False   \n",
       "35                               False                               False   \n",
       "52                               False                               False   \n",
       "...                                ...                                 ...   \n",
       "7453                             False                               False   \n",
       "7461                             False                               False   \n",
       "7463                             False                               False   \n",
       "7466                             False                               False   \n",
       "7468                             False                               False   \n",
       "\n",
       "                    date                 folder      unique_id  \\\n",
       "13    15.06.2022, 13:13:  20220615_1313_Plate12    30_20220509   \n",
       "15    17.06.2022, 11:04:  20220617_1104_Plate10    22_20220522   \n",
       "27    31.05.2022, 23:37:  20220531_2337_Plate10    22_20220522   \n",
       "35    24.05.2022, 22:16:  20220524_2216_Plate10    22_20220522   \n",
       "52    02.06.2022, 19:47:  20220602_1947_Plate12    30_20220509   \n",
       "...                  ...                    ...            ...   \n",
       "7453  26.05.2022, 02:36:  20220526_0236_Plate22  1040_20220502   \n",
       "7461  05.06.2022, 21:52:  20220605_2152_Plate18  1039_20220516   \n",
       "7463  21.05.2022, 05:40:  20220521_0540_Plate18  1039_20220516   \n",
       "7466  30.05.2022, 19:20:  20220530_1920_Plate18  1039_20220516   \n",
       "7468  17.06.2022, 03:04:  20220617_0304_Plate10    22_20220522   \n",
       "\n",
       "                datetime       date_datetime  \n",
       "13   2022-06-15 13:13:00 2022-06-15 13:13:00  \n",
       "15   2022-06-17 11:04:00 2022-06-17 11:04:00  \n",
       "27   2022-05-31 23:37:00 2022-05-31 23:37:00  \n",
       "35   2022-05-24 22:16:00 2022-05-24 22:16:00  \n",
       "52   2022-06-02 19:47:00 2022-06-02 19:47:00  \n",
       "...                  ...                 ...  \n",
       "7453 2022-05-26 02:36:00 2022-05-26 02:36:00  \n",
       "7461 2022-06-05 21:52:00 2022-06-05 21:52:00  \n",
       "7463 2022-05-21 05:40:00 2022-05-21 05:40:00  \n",
       "7466 2022-05-30 19:20:00 2022-05-30 19:20:00  \n",
       "7468 2022-06-17 03:04:00 2022-06-17 03:04:00  \n",
       "\n",
       "[1741 rows x 25 columns]"
      ]
     },
     "execution_count": 7,
     "metadata": {},
     "output_type": "execute_result"
    }
   ],
   "source": [
    "old_folders"
   ]
  }
 ],
 "metadata": {
  "kernelspec": {
   "display_name": "Python 3 (ipykernel)",
   "language": "python",
   "name": "python3"
  },
  "language_info": {
   "codemirror_mode": {
    "name": "ipython",
    "version": 3
   },
   "file_extension": ".py",
   "mimetype": "text/x-python",
   "name": "python",
   "nbconvert_exporter": "python",
   "pygments_lexer": "ipython3",
   "version": "3.9.7"
  }
 },
 "nbformat": 4,
 "nbformat_minor": 4
}

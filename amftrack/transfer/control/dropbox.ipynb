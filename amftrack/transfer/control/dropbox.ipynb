{
    "cells": [{
            "cell_type": "code",
            "execution_count": 3,
            "metadata": {},
            "outputs": [{
                "name": "stdout",
                "output_type": "stream",
                "text": [
                    "The autoreload extension is already loaded. To reload it, use:\n",
                    "  %reload_ext autoreload\n"
                ]
            }],
            "source": [
                "%matplotlib widget\n",
                "%load_ext autoreload\n",
                "%autoreload 2\n",
                "import os  \n",
                "import sys  \n",
                "sys.path.insert(0, os.getenv('HOME')+'/pycode/MscThesis/')\n",
                "# sys.path.insert(0,r'C:\\Users\\coren\\Documents\\PhD\\Code\\AMFtrack')\n",
                "\n",
                "import pandas as pd\n",
                "from amftrack.util.sys import get_dates_datetime, get_dirname, temp_path, get_data_info, update_plate_info, \\\n",
                "get_current_folders, get_folders_by_plate_id\n",
                "\n",
                "\n",
                "import ast\n",
                "from amftrack.plotutil import plot_t_tp1\n",
                "from scipy import sparse\n",
                "from datetime import datetime\n",
                "import pickle\n",
                "import scipy.io as sio\n",
                "from pymatreader import read_mat\n",
                "from matplotlib import colors\n",
                "import cv2\n",
                "import imageio\n",
                "import matplotlib.pyplot as plt\n",
                "import numpy as np\n",
                "from skimage.filters import frangi\n",
                "from skimage import filters\n",
                "from random import choice\n",
                "import scipy.sparse\n",
                "import os\n",
                "from amftrack.pipeline.functions.image_processing.extract_graph import from_sparse_to_graph, generate_nx_graph, sparse_to_doc\n",
                "from skimage.feature import hessian_matrix_det\n",
                "from amftrack.pipeline.functions.image_processing.experiment_class_surf import Experiment\n",
                "from amftrack.pipeline.paths.directory import run_parallel_transfer, find_state, directory_scratch, directory_project, directory_archive, run_parallel_transfer_to_archive\n",
                "import dropbox\n",
                "from amftrack.transfer.functions.transfer import upload,download\n",
                "from subprocess import call"
            ]
        },
        {
            "cell_type": "code",
            "execution_count": 5,
            "metadata": {
                "tags": []
            },
            "outputs": [{
                "data": {
                    "application/vnd.jupyter.widget-view+json": {
                        "model_id": "57f2d51f67c44087b4294bac975d660e",
                        "version_major": 2,
                        "version_minor": 0
                    },
                    "text/plain": [
                        "analysed:   0%|          | 0/5725 [00:00<?, ?it/s]"
                    ]
                },
                "metadata": {},
                "output_type": "display_data"
            }],
            "source": [
                "directory = directory_project\n",
                "all_folders_drop= get_current_folders(\"dropbox\",True)\n",
                "\n",
                "update_plate_info(directory)\n",
                "all_folders_project = get_current_folders(directory_project)\n"
            ]
        },
        {
            "cell_type": "code",
            "execution_count": 6,
            "metadata": {
                "tags": []
            },
            "outputs": [],
            "source": [
                "folders = all_folders_project.loc[all_folders_project[\"Plate\"]==\"94\"]"
            ]
        },
        {
            "cell_type": "code",
            "execution_count": 15,
            "metadata": {},
            "outputs": [],
            "source": [
                "fold = list(folders['folder'])\n",
                "fold.sort()\n",
                "select = fold[:3]\n",
                "folders = folders.loc[folders['folder'].isin(select)]"
            ]
        },
        {
            "cell_type": "code",
            "execution_count": 16,
            "metadata": {},
            "outputs": [{
                "data": {
                    "text/html": [
                        "<div>\n",
                        "<style scoped>\n",
                        "    .dataframe tbody tr th:only-of-type {\n",
                        "        vertical-align: middle;\n",
                        "    }\n",
                        "\n",
                        "    .dataframe tbody tr th {\n",
                        "        vertical-align: top;\n",
                        "    }\n",
                        "\n",
                        "    .dataframe thead th {\n",
                        "        text-align: right;\n",
                        "    }\n",
                        "</style>\n",
                        "<table border=\"1\" class=\"dataframe\">\n",
                        "  <thead>\n",
                        "    <tr style=\"text-align: right;\">\n",
                        "      <th></th>\n",
                        "      <th>total_path</th>\n",
                        "      <th>Plate</th>\n",
                        "      <th>PrincePos</th>\n",
                        "      <th>root</th>\n",
                        "      <th>strain</th>\n",
                        "      <th>medium</th>\n",
                        "      <th>split</th>\n",
                        "      <th>Pbait</th>\n",
                        "      <th>CrossDate</th>\n",
                        "      <th>Temperature</th>\n",
                        "      <th>...</th>\n",
                        "      <th>/Analysis/skeleton_pruned_compressed.mat</th>\n",
                        "      <th>/Analysis/transform.mat</th>\n",
                        "      <th>/Analysis/transform_corrupt.mat</th>\n",
                        "      <th>/Analysis/skeleton_realigned_compressed.mat</th>\n",
                        "      <th>/Analysis/nx_graph_pruned.p</th>\n",
                        "      <th>/Analysis/nx_graph_pruned_width.p</th>\n",
                        "      <th>/Analysis/nx_graph_pruned_labeled.p</th>\n",
                        "      <th>date</th>\n",
                        "      <th>folder</th>\n",
                        "      <th>Temp</th>\n",
                        "    </tr>\n",
                        "  </thead>\n",
                        "  <tbody>\n",
                        "    <tr>\n",
                        "      <th>8626</th>\n",
                        "      <td>/projects/0/einf914/data/20201123_1400_Plate39</td>\n",
                        "      <td>94</td>\n",
                        "      <td>39</td>\n",
                        "      <td>'Carrot'</td>\n",
                        "      <td>'A5'</td>\n",
                        "      <td>'001P100N'</td>\n",
                        "      <td>'Y'</td>\n",
                        "      <td>NaN</td>\n",
                        "      <td>'20201123'</td>\n",
                        "      <td>NaN</td>\n",
                        "      <td>...</td>\n",
                        "      <td>True</td>\n",
                        "      <td>True</td>\n",
                        "      <td>False</td>\n",
                        "      <td>True</td>\n",
                        "      <td>True</td>\n",
                        "      <td>True</td>\n",
                        "      <td>True</td>\n",
                        "      <td>23.11.2020, 14:00:</td>\n",
                        "      <td>20201123_1400_Plate39</td>\n",
                        "      <td>'25'</td>\n",
                        "    </tr>\n",
                        "    <tr>\n",
                        "      <th>8655</th>\n",
                        "      <td>/projects/0/einf914/data/20201123_1253_Plate39</td>\n",
                        "      <td>94</td>\n",
                        "      <td>39</td>\n",
                        "      <td>'Carrot'</td>\n",
                        "      <td>'A5'</td>\n",
                        "      <td>'001P100N'</td>\n",
                        "      <td>'Y'</td>\n",
                        "      <td>NaN</td>\n",
                        "      <td>'20201123'</td>\n",
                        "      <td>NaN</td>\n",
                        "      <td>...</td>\n",
                        "      <td>True</td>\n",
                        "      <td>False</td>\n",
                        "      <td>False</td>\n",
                        "      <td>True</td>\n",
                        "      <td>True</td>\n",
                        "      <td>True</td>\n",
                        "      <td>True</td>\n",
                        "      <td>23.11.2020, 12:53:</td>\n",
                        "      <td>20201123_1253_Plate39</td>\n",
                        "      <td>'25'</td>\n",
                        "    </tr>\n",
                        "    <tr>\n",
                        "      <th>9635</th>\n",
                        "      <td>/projects/0/einf914/data/20201123_1501_Plate39</td>\n",
                        "      <td>94</td>\n",
                        "      <td>39</td>\n",
                        "      <td>'Carrot'</td>\n",
                        "      <td>'A5'</td>\n",
                        "      <td>'001P100N'</td>\n",
                        "      <td>'Y'</td>\n",
                        "      <td>NaN</td>\n",
                        "      <td>'20201123'</td>\n",
                        "      <td>NaN</td>\n",
                        "      <td>...</td>\n",
                        "      <td>True</td>\n",
                        "      <td>True</td>\n",
                        "      <td>False</td>\n",
                        "      <td>True</td>\n",
                        "      <td>True</td>\n",
                        "      <td>True</td>\n",
                        "      <td>True</td>\n",
                        "      <td>23.11.2020, 15:01:</td>\n",
                        "      <td>20201123_1501_Plate39</td>\n",
                        "      <td>'25'</td>\n",
                        "    </tr>\n",
                        "  </tbody>\n",
                        "</table>\n",
                        "<p>3 rows × 23 columns</p>\n",
                        "</div>"
                    ],
                    "text/plain": [
                        "                                          total_path Plate PrincePos  \\\n",
                        "8626  /projects/0/einf914/data/20201123_1400_Plate39    94        39   \n",
                        "8655  /projects/0/einf914/data/20201123_1253_Plate39    94        39   \n",
                        "9635  /projects/0/einf914/data/20201123_1501_Plate39    94        39   \n",
                        "\n",
                        "          root strain      medium split Pbait   CrossDate Temperature  ...  \\\n",
                        "8626  'Carrot'   'A5'  '001P100N'   'Y'   NaN  '20201123'         NaN  ...   \n",
                        "8655  'Carrot'   'A5'  '001P100N'   'Y'   NaN  '20201123'         NaN  ...   \n",
                        "9635  'Carrot'   'A5'  '001P100N'   'Y'   NaN  '20201123'         NaN  ...   \n",
                        "\n",
                        "     /Analysis/skeleton_pruned_compressed.mat /Analysis/transform.mat  \\\n",
                        "8626                                     True                    True   \n",
                        "8655                                     True                   False   \n",
                        "9635                                     True                    True   \n",
                        "\n",
                        "     /Analysis/transform_corrupt.mat  \\\n",
                        "8626                           False   \n",
                        "8655                           False   \n",
                        "9635                           False   \n",
                        "\n",
                        "     /Analysis/skeleton_realigned_compressed.mat /Analysis/nx_graph_pruned.p  \\\n",
                        "8626                                        True                        True   \n",
                        "8655                                        True                        True   \n",
                        "9635                                        True                        True   \n",
                        "\n",
                        "     /Analysis/nx_graph_pruned_width.p /Analysis/nx_graph_pruned_labeled.p  \\\n",
                        "8626                              True                                True   \n",
                        "8655                              True                                True   \n",
                        "9635                              True                                True   \n",
                        "\n",
                        "                    date                 folder  Temp  \n",
                        "8626  23.11.2020, 14:00:  20201123_1400_Plate39  '25'  \n",
                        "8655  23.11.2020, 12:53:  20201123_1253_Plate39  '25'  \n",
                        "9635  23.11.2020, 15:01:  20201123_1501_Plate39  '25'  \n",
                        "\n",
                        "[3 rows x 23 columns]"
                    ]
                },
                "execution_count": 16,
                "metadata": {},
                "output_type": "execute_result"
            }],
            "source": [
                "folders"
            ]
        },
        {
            "cell_type": "code",
            "execution_count": 44,
            "metadata": {},
            "outputs": [],
            "source": [
                "folders = all_folders_project.loc[all_folders_project['folder'].isin(all_folders_online['folder'])==False]"
            ]
        },
        {
            "cell_type": "code",
            "execution_count": 36,
            "metadata": {},
            "outputs": [{
                "data": {
                    "text/plain": [
                        "(436, 436)"
                    ]
                },
                "execution_count": 36,
                "metadata": {},
                "output_type": "execute_result"
            }],
            "source": [
                "len(all_folders['folder'].unique()),len(all_folders)"
            ]
        },
        {
            "cell_type": "code",
            "execution_count": 45,
            "metadata": {},
            "outputs": [{
                "data": {
                    "text/plain": [
                        "0"
                    ]
                },
                "execution_count": 45,
                "metadata": {},
                "output_type": "execute_result"
            }],
            "source": [
                "len(folders)"
            ]
        },
        {
            "cell_type": "code",
            "execution_count": 50,
            "metadata": {},
            "outputs": [],
            "source": [
                "folders = all_folders.loc[all_folders['total_path']==\"/projects/0/einf914/agg/20210908_1008_Plate22\"]"
            ]
        },
        {
            "cell_type": "code",
            "execution_count": 6,
            "metadata": {},
            "outputs": [],
            "source": [
                "folders = all_folders_drop.loc[all_folders_drop['folder']==\"20220316_0208_Plate01\"]"
            ]
        },
        {
            "cell_type": "code",
            "execution_count": 7,
            "metadata": {},
            "outputs": [{
                "data": {
                    "text/html": [
                        "<div>\n",
                        "<style scoped>\n",
                        "    .dataframe tbody tr th:only-of-type {\n",
                        "        vertical-align: middle;\n",
                        "    }\n",
                        "\n",
                        "    .dataframe tbody tr th {\n",
                        "        vertical-align: top;\n",
                        "    }\n",
                        "\n",
                        "    .dataframe thead th {\n",
                        "        text-align: right;\n",
                        "    }\n",
                        "</style>\n",
                        "<table border=\"1\" class=\"dataframe\">\n",
                        "  <thead>\n",
                        "    <tr style=\"text-align: right;\">\n",
                        "      <th></th>\n",
                        "      <th>folder</th>\n",
                        "      <th>size</th>\n",
                        "      <th>change_date</th>\n",
                        "    </tr>\n",
                        "  </thead>\n",
                        "  <tbody>\n",
                        "    <tr>\n",
                        "      <th>18</th>\n",
                        "      <td>20220316_0208_Plate01</td>\n",
                        "      <td>0.909955</td>\n",
                        "      <td>2022-03-23 09:58:38</td>\n",
                        "    </tr>\n",
                        "  </tbody>\n",
                        "</table>\n",
                        "</div>"
                    ],
                    "text/plain": [
                        "                   folder      size         change_date\n",
                        "18  20220316_0208_Plate01  0.909955 2022-03-23 09:58:38"
                    ]
                },
                "execution_count": 7,
                "metadata": {},
                "output_type": "execute_result"
            }],
            "source": [
                "folders"
            ]
        },
        {
            "cell_type": "code",
            "execution_count": 6,
            "metadata": {
                "tags": []
            },
            "outputs": [],
            "source": [
                "folders['Plate'] = (folders['Plate'].fillna(758)).astype(int)\n",
                "folders['CrossDate'] = (folders['CrossDate'].fillna(20211007)).astype(int)"
            ]
        },
        {
            "cell_type": "code",
            "execution_count": 36,
            "metadata": {},
            "outputs": [{
                "data": {
                    "text/plain": [
                        "7710    756_20210907\n",
                        "7711    756_20210907\n",
                        "7712    756_20210907\n",
                        "7713    758_20211007\n",
                        "7714    756_20210907\n",
                        "            ...     \n",
                        "8357    737_20210901\n",
                        "8358    737_20210901\n",
                        "8359    737_20210901\n",
                        "8360    737_20210901\n",
                        "8361    737_20210901\n",
                        "Length: 436, dtype: object"
                    ]
                },
                "execution_count": 36,
                "metadata": {},
                "output_type": "execute_result"
            }],
            "source": [
                "(folders['Plate'].astype(str) + \"_\" + folders['CrossDate'].astype(str))"
            ]
        },
        {
            "cell_type": "code",
            "execution_count": 5,
            "metadata": {},
            "outputs": [],
            "source": [
                "directory_targ = os.path.join(directory_scratch,'temp')+'/'\n",
                "# # directory_targ = os.path.join(directory_archive,'Prince_Data')+'/'\n",
                "# directory_targ = '/projects/0/einf914/agg/'\n",
                "# directory_targ = directory_project\n"
            ]
        },
        {
            "cell_type": "markdown",
            "metadata": {},
            "source": [
                "**To transfer data from surfsara to dropbox**\n",
                "- use the 'toward_drop.py' function including the folders of interest and using dir_drop as a parameter indicating where in dropbox the data should go\n"
            ]
        },
        {
            "cell_type": "code",
            "execution_count": 17,
            "metadata": {
                "tags": []
            },
            "outputs": [{
                    "name": "stdout",
                    "output_type": "stream",
                    "text": [
                        "Submitted batch job 695240\n"
                    ]
                },
                {
                    "name": "stderr",
                    "output_type": "stream",
                    "text": [
                        "sbatch: Single node jobs run on a shared node by default. Add --exclusive if you want to use a node exclusively.\n",
                        "sbatch: You will be charged for 0.03125 node. A full node consists of 32 CPU cores, 240000 MiB of memory and 0 GPUs and can be shared by up to 32 jobs.\n"
                    ]
                }
            ],
            "source": [
                "dir_drop = 'prince_data'\n",
                "run_parallel_transfer('toward_drop.py',[directory,dir_drop],folders,5,'2:00:00','staging',cpus = 1,node = 'staging')"
            ]
        },
        {
            "cell_type": "markdown",
            "metadata": {},
            "source": [
                "**To transfer data from dropbox to surfsara**\n",
                "- use the 'from_drop.py' function including the folders of interest\n",
                "- unzip argument decides if folders must also be unzipped\n",
                "- flatten argument decides if folders must be flatten to respect snellius paralell computing logic or kept in a folder for transfer to archive for example"
            ]
        },
        {
            "cell_type": "code",
            "execution_count": 9,
            "metadata": {
                "tags": []
            },
            "outputs": [{
                    "name": "stdout",
                    "output_type": "stream",
                    "text": [
                        "Submitted batch job 639383\n"
                    ]
                },
                {
                    "name": "stderr",
                    "output_type": "stream",
                    "text": [
                        "sbatch: Single node jobs run on a shared node by default. Add --exclusive if you want to use a node exclusively.\n",
                        "sbatch: You will be charged for 0.03125 node. A full node consists of 32 CPU cores, 240000 MiB of memory and 0 GPUs and can be shared by up to 32 jobs.\n"
                    ]
                }
            ],
            "source": [
                "dir_drop = 'prince_data'\n",
                "unzip = True\n",
                "flatten = True\n",
                "run_parallel_transfer('from_drop.py',[directory_targ,dir_drop,unzip,flatten],folders,5,'50:00','staging',cpus = 1,node = 'staging')"
            ]
        },
        {
            "cell_type": "code",
            "execution_count": 34,
            "metadata": {},
            "outputs": [],
            "source": [
                "from amftrack.transfer.functions.transfer import download, zip_file,unzip_file\n",
                "\n",
                "unzip_file('/scratch-shared/amftrack/temp/20210901_2139_Plate34.zip','/projects/0/einf914/data/agg/20210901_2139_Plate34')"
            ]
        },
        {
            "cell_type": "markdown",
            "metadata": {},
            "source": [
                "**To transfer data from dropbox to archive**\n",
                "- use the 'from_drop.py' function including the folders of interest\n"
            ]
        },
        {
            "cell_type": "code",
            "execution_count": 4,
            "metadata": {},
            "outputs": [],
            "source": [
                "folders = all_folders.loc[all_folders['Plate'].isin([792,94])]"
            ]
        },
        {
            "cell_type": "code",
            "execution_count": 48,
            "metadata": {},
            "outputs": [{
                "data": {
                    "text/plain": [
                        "1858"
                    ]
                },
                "execution_count": 48,
                "metadata": {},
                "output_type": "execute_result"
            }],
            "source": [
                "len(folders)"
            ]
        },
        {
            "cell_type": "code",
            "execution_count": 47,
            "metadata": {
                "collapsed": true,
                "jupyter": {
                    "outputs_hidden": true
                },
                "tags": []
            },
            "outputs": [{
                    "name": "stderr",
                    "output_type": "stream",
                    "text": [
                        "sbatch: Single node jobs run on a shared node by default. Add --exclusive if you want to use a node exclusively.\n",
                        "sbatch: You will be charged for 0.03125 node. A full node consists of 32 CPU cores, 240000 MiB of memory and 0 GPUs and can be shared by up to 32 jobs.\n",
                        "sbatch: Single node jobs run on a shared node by default. Add --exclusive if you want to use a node exclusively.\n",
                        "sbatch: You will be charged for 0.03125 node. A full node consists of 32 CPU cores, 240000 MiB of memory and 0 GPUs and can be shared by up to 32 jobs.\n",
                        "sbatch: Single node jobs run on a shared node by default. Add --exclusive if you want to use a node exclusively.\n",
                        "sbatch: You will be charged for 0.03125 node. A full node consists of 32 CPU cores, 240000 MiB of memory and 0 GPUs and can be shared by up to 32 jobs.\n",
                        "sbatch: Single node jobs run on a shared node by default. Add --exclusive if you want to use a node exclusively.\n",
                        "sbatch: You will be charged for 0.03125 node. A full node consists of 32 CPU cores, 240000 MiB of memory and 0 GPUs and can be shared by up to 32 jobs.\n"
                    ]
                },
                {
                    "name": "stdout",
                    "output_type": "stream",
                    "text": [
                        "Submitted batch job 418130\n",
                        "Submitted batch job 418131\n",
                        "Submitted batch job 418132\n",
                        "Submitted batch job 418133\n"
                    ]
                },
                {
                    "name": "stderr",
                    "output_type": "stream",
                    "text": [
                        "sbatch: Single node jobs run on a shared node by default. Add --exclusive if you want to use a node exclusively.\n",
                        "sbatch: You will be charged for 0.03125 node. A full node consists of 32 CPU cores, 240000 MiB of memory and 0 GPUs and can be shared by up to 32 jobs.\n",
                        "sbatch: Single node jobs run on a shared node by default. Add --exclusive if you want to use a node exclusively.\n",
                        "sbatch: You will be charged for 0.03125 node. A full node consists of 32 CPU cores, 240000 MiB of memory and 0 GPUs and can be shared by up to 32 jobs.\n",
                        "sbatch: Single node jobs run on a shared node by default. Add --exclusive if you want to use a node exclusively.\n",
                        "sbatch: You will be charged for 0.03125 node. A full node consists of 32 CPU cores, 240000 MiB of memory and 0 GPUs and can be shared by up to 32 jobs.\n",
                        "sbatch: Single node jobs run on a shared node by default. Add --exclusive if you want to use a node exclusively.\n",
                        "sbatch: You will be charged for 0.03125 node. A full node consists of 32 CPU cores, 240000 MiB of memory and 0 GPUs and can be shared by up to 32 jobs.\n"
                    ]
                },
                {
                    "name": "stdout",
                    "output_type": "stream",
                    "text": [
                        "Submitted batch job 418134\n",
                        "Submitted batch job 418135\n",
                        "Submitted batch job 418136\n",
                        "Submitted batch job 418138\n"
                    ]
                },
                {
                    "name": "stderr",
                    "output_type": "stream",
                    "text": [
                        "sbatch: Single node jobs run on a shared node by default. Add --exclusive if you want to use a node exclusively.\n",
                        "sbatch: You will be charged for 0.03125 node. A full node consists of 32 CPU cores, 240000 MiB of memory and 0 GPUs and can be shared by up to 32 jobs.\n",
                        "sbatch: Single node jobs run on a shared node by default. Add --exclusive if you want to use a node exclusively.\n",
                        "sbatch: You will be charged for 0.03125 node. A full node consists of 32 CPU cores, 240000 MiB of memory and 0 GPUs and can be shared by up to 32 jobs.\n",
                        "sbatch: Single node jobs run on a shared node by default. Add --exclusive if you want to use a node exclusively.\n",
                        "sbatch: You will be charged for 0.03125 node. A full node consists of 32 CPU cores, 240000 MiB of memory and 0 GPUs and can be shared by up to 32 jobs.\n",
                        "sbatch: Single node jobs run on a shared node by default. Add --exclusive if you want to use a node exclusively.\n",
                        "sbatch: You will be charged for 0.03125 node. A full node consists of 32 CPU cores, 240000 MiB of memory and 0 GPUs and can be shared by up to 32 jobs.\n"
                    ]
                },
                {
                    "name": "stdout",
                    "output_type": "stream",
                    "text": [
                        "Submitted batch job 418139\n",
                        "Submitted batch job 418140\n",
                        "Submitted batch job 418141\n",
                        "Submitted batch job 418142\n"
                    ]
                },
                {
                    "name": "stderr",
                    "output_type": "stream",
                    "text": [
                        "sbatch: Single node jobs run on a shared node by default. Add --exclusive if you want to use a node exclusively.\n",
                        "sbatch: You will be charged for 0.03125 node. A full node consists of 32 CPU cores, 240000 MiB of memory and 0 GPUs and can be shared by up to 32 jobs.\n",
                        "sbatch: Single node jobs run on a shared node by default. Add --exclusive if you want to use a node exclusively.\n",
                        "sbatch: You will be charged for 0.03125 node. A full node consists of 32 CPU cores, 240000 MiB of memory and 0 GPUs and can be shared by up to 32 jobs.\n",
                        "sbatch: Single node jobs run on a shared node by default. Add --exclusive if you want to use a node exclusively.\n",
                        "sbatch: You will be charged for 0.03125 node. A full node consists of 32 CPU cores, 240000 MiB of memory and 0 GPUs and can be shared by up to 32 jobs.\n",
                        "sbatch: Single node jobs run on a shared node by default. Add --exclusive if you want to use a node exclusively.\n",
                        "sbatch: You will be charged for 0.03125 node. A full node consists of 32 CPU cores, 240000 MiB of memory and 0 GPUs and can be shared by up to 32 jobs.\n"
                    ]
                },
                {
                    "name": "stdout",
                    "output_type": "stream",
                    "text": [
                        "Submitted batch job 418143\n",
                        "Submitted batch job 418144\n",
                        "Submitted batch job 418145\n",
                        "Submitted batch job 418146\n"
                    ]
                },
                {
                    "name": "stderr",
                    "output_type": "stream",
                    "text": [
                        "sbatch: Single node jobs run on a shared node by default. Add --exclusive if you want to use a node exclusively.\n",
                        "sbatch: You will be charged for 0.03125 node. A full node consists of 32 CPU cores, 240000 MiB of memory and 0 GPUs and can be shared by up to 32 jobs.\n",
                        "sbatch: Single node jobs run on a shared node by default. Add --exclusive if you want to use a node exclusively.\n",
                        "sbatch: You will be charged for 0.03125 node. A full node consists of 32 CPU cores, 240000 MiB of memory and 0 GPUs and can be shared by up to 32 jobs.\n",
                        "sbatch: Single node jobs run on a shared node by default. Add --exclusive if you want to use a node exclusively.\n",
                        "sbatch: You will be charged for 0.03125 node. A full node consists of 32 CPU cores, 240000 MiB of memory and 0 GPUs and can be shared by up to 32 jobs.\n",
                        "sbatch: Single node jobs run on a shared node by default. Add --exclusive if you want to use a node exclusively.\n",
                        "sbatch: You will be charged for 0.03125 node. A full node consists of 32 CPU cores, 240000 MiB of memory and 0 GPUs and can be shared by up to 32 jobs.\n"
                    ]
                },
                {
                    "name": "stdout",
                    "output_type": "stream",
                    "text": [
                        "Submitted batch job 418147\n",
                        "Submitted batch job 418148\n",
                        "Submitted batch job 418149\n",
                        "Submitted batch job 418150\n"
                    ]
                },
                {
                    "name": "stderr",
                    "output_type": "stream",
                    "text": [
                        "sbatch: Single node jobs run on a shared node by default. Add --exclusive if you want to use a node exclusively.\n",
                        "sbatch: You will be charged for 0.03125 node. A full node consists of 32 CPU cores, 240000 MiB of memory and 0 GPUs and can be shared by up to 32 jobs.\n",
                        "sbatch: Single node jobs run on a shared node by default. Add --exclusive if you want to use a node exclusively.\n",
                        "sbatch: You will be charged for 0.03125 node. A full node consists of 32 CPU cores, 240000 MiB of memory and 0 GPUs and can be shared by up to 32 jobs.\n",
                        "sbatch: Single node jobs run on a shared node by default. Add --exclusive if you want to use a node exclusively.\n",
                        "sbatch: You will be charged for 0.03125 node. A full node consists of 32 CPU cores, 240000 MiB of memory and 0 GPUs and can be shared by up to 32 jobs.\n",
                        "sbatch: Single node jobs run on a shared node by default. Add --exclusive if you want to use a node exclusively.\n",
                        "sbatch: You will be charged for 0.03125 node. A full node consists of 32 CPU cores, 240000 MiB of memory and 0 GPUs and can be shared by up to 32 jobs.\n"
                    ]
                },
                {
                    "name": "stdout",
                    "output_type": "stream",
                    "text": [
                        "Submitted batch job 418151\n",
                        "Submitted batch job 418152\n",
                        "Submitted batch job 418153\n",
                        "Submitted batch job 418154\n"
                    ]
                },
                {
                    "name": "stderr",
                    "output_type": "stream",
                    "text": [
                        "sbatch: Single node jobs run on a shared node by default. Add --exclusive if you want to use a node exclusively.\n",
                        "sbatch: You will be charged for 0.03125 node. A full node consists of 32 CPU cores, 240000 MiB of memory and 0 GPUs and can be shared by up to 32 jobs.\n",
                        "sbatch: Single node jobs run on a shared node by default. Add --exclusive if you want to use a node exclusively.\n",
                        "sbatch: You will be charged for 0.03125 node. A full node consists of 32 CPU cores, 240000 MiB of memory and 0 GPUs and can be shared by up to 32 jobs.\n",
                        "sbatch: Single node jobs run on a shared node by default. Add --exclusive if you want to use a node exclusively.\n",
                        "sbatch: You will be charged for 0.03125 node. A full node consists of 32 CPU cores, 240000 MiB of memory and 0 GPUs and can be shared by up to 32 jobs.\n",
                        "sbatch: Single node jobs run on a shared node by default. Add --exclusive if you want to use a node exclusively.\n",
                        "sbatch: You will be charged for 0.03125 node. A full node consists of 32 CPU cores, 240000 MiB of memory and 0 GPUs and can be shared by up to 32 jobs.\n"
                    ]
                },
                {
                    "name": "stdout",
                    "output_type": "stream",
                    "text": [
                        "Submitted batch job 418155\n",
                        "Submitted batch job 418156\n",
                        "Submitted batch job 418157\n",
                        "Submitted batch job 418158\n",
                        "Submitted batch job 418160\n",
                        "Submitted batch job 418161\n",
                        "Submitted batch job 418162\n",
                        "Submitted batch job 418163\n"
                    ]
                },
                {
                    "name": "stderr",
                    "output_type": "stream",
                    "text": [
                        "sbatch: Single node jobs run on a shared node by default. Add --exclusive if you want to use a node exclusively.\n",
                        "sbatch: You will be charged for 0.03125 node. A full node consists of 32 CPU cores, 240000 MiB of memory and 0 GPUs and can be shared by up to 32 jobs.\n",
                        "sbatch: Single node jobs run on a shared node by default. Add --exclusive if you want to use a node exclusively.\n",
                        "sbatch: You will be charged for 0.03125 node. A full node consists of 32 CPU cores, 240000 MiB of memory and 0 GPUs and can be shared by up to 32 jobs.\n",
                        "sbatch: Single node jobs run on a shared node by default. Add --exclusive if you want to use a node exclusively.\n",
                        "sbatch: You will be charged for 0.03125 node. A full node consists of 32 CPU cores, 240000 MiB of memory and 0 GPUs and can be shared by up to 32 jobs.\n",
                        "sbatch: Single node jobs run on a shared node by default. Add --exclusive if you want to use a node exclusively.\n",
                        "sbatch: You will be charged for 0.03125 node. A full node consists of 32 CPU cores, 240000 MiB of memory and 0 GPUs and can be shared by up to 32 jobs.\n",
                        "sbatch: Single node jobs run on a shared node by default. Add --exclusive if you want to use a node exclusively.\n",
                        "sbatch: You will be charged for 0.03125 node. A full node consists of 32 CPU cores, 240000 MiB of memory and 0 GPUs and can be shared by up to 32 jobs.\n",
                        "sbatch: Single node jobs run on a shared node by default. Add --exclusive if you want to use a node exclusively.\n",
                        "sbatch: You will be charged for 0.03125 node. A full node consists of 32 CPU cores, 240000 MiB of memory and 0 GPUs and can be shared by up to 32 jobs.\n",
                        "sbatch: Single node jobs run on a shared node by default. Add --exclusive if you want to use a node exclusively.\n",
                        "sbatch: You will be charged for 0.03125 node. A full node consists of 32 CPU cores, 240000 MiB of memory and 0 GPUs and can be shared by up to 32 jobs.\n",
                        "sbatch: Single node jobs run on a shared node by default. Add --exclusive if you want to use a node exclusively.\n",
                        "sbatch: You will be charged for 0.03125 node. A full node consists of 32 CPU cores, 240000 MiB of memory and 0 GPUs and can be shared by up to 32 jobs.\n"
                    ]
                },
                {
                    "name": "stdout",
                    "output_type": "stream",
                    "text": [
                        "Submitted batch job 418164\n",
                        "Submitted batch job 418165\n",
                        "Submitted batch job 418166\n",
                        "Submitted batch job 418167\n",
                        "Submitted batch job 418168\n",
                        "Submitted batch job 418169\n",
                        "Submitted batch job 418170\n",
                        "Submitted batch job 418171\n"
                    ]
                },
                {
                    "name": "stderr",
                    "output_type": "stream",
                    "text": [
                        "sbatch: Single node jobs run on a shared node by default. Add --exclusive if you want to use a node exclusively.\n",
                        "sbatch: You will be charged for 0.03125 node. A full node consists of 32 CPU cores, 240000 MiB of memory and 0 GPUs and can be shared by up to 32 jobs.\n",
                        "sbatch: Single node jobs run on a shared node by default. Add --exclusive if you want to use a node exclusively.\n",
                        "sbatch: You will be charged for 0.03125 node. A full node consists of 32 CPU cores, 240000 MiB of memory and 0 GPUs and can be shared by up to 32 jobs.\n",
                        "sbatch: Single node jobs run on a shared node by default. Add --exclusive if you want to use a node exclusively.\n",
                        "sbatch: You will be charged for 0.03125 node. A full node consists of 32 CPU cores, 240000 MiB of memory and 0 GPUs and can be shared by up to 32 jobs.\n",
                        "sbatch: Single node jobs run on a shared node by default. Add --exclusive if you want to use a node exclusively.\n",
                        "sbatch: You will be charged for 0.03125 node. A full node consists of 32 CPU cores, 240000 MiB of memory and 0 GPUs and can be shared by up to 32 jobs.\n",
                        "sbatch: Single node jobs run on a shared node by default. Add --exclusive if you want to use a node exclusively.\n",
                        "sbatch: You will be charged for 0.03125 node. A full node consists of 32 CPU cores, 240000 MiB of memory and 0 GPUs and can be shared by up to 32 jobs.\n",
                        "sbatch: Single node jobs run on a shared node by default. Add --exclusive if you want to use a node exclusively.\n",
                        "sbatch: You will be charged for 0.03125 node. A full node consists of 32 CPU cores, 240000 MiB of memory and 0 GPUs and can be shared by up to 32 jobs.\n",
                        "sbatch: Single node jobs run on a shared node by default. Add --exclusive if you want to use a node exclusively.\n",
                        "sbatch: You will be charged for 0.03125 node. A full node consists of 32 CPU cores, 240000 MiB of memory and 0 GPUs and can be shared by up to 32 jobs.\n",
                        "sbatch: Single node jobs run on a shared node by default. Add --exclusive if you want to use a node exclusively.\n",
                        "sbatch: You will be charged for 0.03125 node. A full node consists of 32 CPU cores, 240000 MiB of memory and 0 GPUs and can be shared by up to 32 jobs.\n"
                    ]
                },
                {
                    "name": "stdout",
                    "output_type": "stream",
                    "text": [
                        "Submitted batch job 418172\n",
                        "Submitted batch job 418173\n",
                        "Submitted batch job 418174\n",
                        "Submitted batch job 418175\n"
                    ]
                },
                {
                    "name": "stderr",
                    "output_type": "stream",
                    "text": [
                        "sbatch: Single node jobs run on a shared node by default. Add --exclusive if you want to use a node exclusively.\n",
                        "sbatch: You will be charged for 0.03125 node. A full node consists of 32 CPU cores, 240000 MiB of memory and 0 GPUs and can be shared by up to 32 jobs.\n",
                        "sbatch: Single node jobs run on a shared node by default. Add --exclusive if you want to use a node exclusively.\n",
                        "sbatch: You will be charged for 0.03125 node. A full node consists of 32 CPU cores, 240000 MiB of memory and 0 GPUs and can be shared by up to 32 jobs.\n",
                        "sbatch: Single node jobs run on a shared node by default. Add --exclusive if you want to use a node exclusively.\n",
                        "sbatch: You will be charged for 0.03125 node. A full node consists of 32 CPU cores, 240000 MiB of memory and 0 GPUs and can be shared by up to 32 jobs.\n",
                        "sbatch: Single node jobs run on a shared node by default. Add --exclusive if you want to use a node exclusively.\n",
                        "sbatch: You will be charged for 0.03125 node. A full node consists of 32 CPU cores, 240000 MiB of memory and 0 GPUs and can be shared by up to 32 jobs.\n"
                    ]
                },
                {
                    "name": "stdout",
                    "output_type": "stream",
                    "text": [
                        "Submitted batch job 418176\n",
                        "Submitted batch job 418177\n",
                        "Submitted batch job 418178\n",
                        "Submitted batch job 418179\n"
                    ]
                },
                {
                    "name": "stderr",
                    "output_type": "stream",
                    "text": [
                        "sbatch: Single node jobs run on a shared node by default. Add --exclusive if you want to use a node exclusively.\n",
                        "sbatch: You will be charged for 0.03125 node. A full node consists of 32 CPU cores, 240000 MiB of memory and 0 GPUs and can be shared by up to 32 jobs.\n",
                        "sbatch: Single node jobs run on a shared node by default. Add --exclusive if you want to use a node exclusively.\n",
                        "sbatch: You will be charged for 0.03125 node. A full node consists of 32 CPU cores, 240000 MiB of memory and 0 GPUs and can be shared by up to 32 jobs.\n",
                        "sbatch: Single node jobs run on a shared node by default. Add --exclusive if you want to use a node exclusively.\n",
                        "sbatch: You will be charged for 0.03125 node. A full node consists of 32 CPU cores, 240000 MiB of memory and 0 GPUs and can be shared by up to 32 jobs.\n",
                        "sbatch: Single node jobs run on a shared node by default. Add --exclusive if you want to use a node exclusively.\n",
                        "sbatch: You will be charged for 0.03125 node. A full node consists of 32 CPU cores, 240000 MiB of memory and 0 GPUs and can be shared by up to 32 jobs.\n"
                    ]
                },
                {
                    "name": "stdout",
                    "output_type": "stream",
                    "text": [
                        "Submitted batch job 418180\n",
                        "Submitted batch job 418182\n",
                        "Submitted batch job 418183\n",
                        "Submitted batch job 418184\n",
                        "Submitted batch job 418185\n",
                        "Submitted batch job 418186\n",
                        "Submitted batch job 418187\n",
                        "Submitted batch job 418188\n"
                    ]
                },
                {
                    "name": "stderr",
                    "output_type": "stream",
                    "text": [
                        "sbatch: Single node jobs run on a shared node by default. Add --exclusive if you want to use a node exclusively.\n",
                        "sbatch: You will be charged for 0.03125 node. A full node consists of 32 CPU cores, 240000 MiB of memory and 0 GPUs and can be shared by up to 32 jobs.\n",
                        "sbatch: Single node jobs run on a shared node by default. Add --exclusive if you want to use a node exclusively.\n",
                        "sbatch: You will be charged for 0.03125 node. A full node consists of 32 CPU cores, 240000 MiB of memory and 0 GPUs and can be shared by up to 32 jobs.\n",
                        "sbatch: Single node jobs run on a shared node by default. Add --exclusive if you want to use a node exclusively.\n",
                        "sbatch: You will be charged for 0.03125 node. A full node consists of 32 CPU cores, 240000 MiB of memory and 0 GPUs and can be shared by up to 32 jobs.\n",
                        "sbatch: Single node jobs run on a shared node by default. Add --exclusive if you want to use a node exclusively.\n",
                        "sbatch: You will be charged for 0.03125 node. A full node consists of 32 CPU cores, 240000 MiB of memory and 0 GPUs and can be shared by up to 32 jobs.\n"
                    ]
                },
                {
                    "name": "stdout",
                    "output_type": "stream",
                    "text": [
                        "Submitted batch job 418189\n",
                        "Submitted batch job 418190\n",
                        "Submitted batch job 418191\n",
                        "Submitted batch job 418192\n"
                    ]
                },
                {
                    "name": "stderr",
                    "output_type": "stream",
                    "text": [
                        "sbatch: Single node jobs run on a shared node by default. Add --exclusive if you want to use a node exclusively.\n",
                        "sbatch: You will be charged for 0.03125 node. A full node consists of 32 CPU cores, 240000 MiB of memory and 0 GPUs and can be shared by up to 32 jobs.\n",
                        "sbatch: Single node jobs run on a shared node by default. Add --exclusive if you want to use a node exclusively.\n",
                        "sbatch: You will be charged for 0.03125 node. A full node consists of 32 CPU cores, 240000 MiB of memory and 0 GPUs and can be shared by up to 32 jobs.\n",
                        "sbatch: Single node jobs run on a shared node by default. Add --exclusive if you want to use a node exclusively.\n",
                        "sbatch: You will be charged for 0.03125 node. A full node consists of 32 CPU cores, 240000 MiB of memory and 0 GPUs and can be shared by up to 32 jobs.\n",
                        "sbatch: Single node jobs run on a shared node by default. Add --exclusive if you want to use a node exclusively.\n",
                        "sbatch: You will be charged for 0.03125 node. A full node consists of 32 CPU cores, 240000 MiB of memory and 0 GPUs and can be shared by up to 32 jobs.\n"
                    ]
                },
                {
                    "name": "stdout",
                    "output_type": "stream",
                    "text": [
                        "Submitted batch job 418193\n",
                        "Submitted batch job 418194\n",
                        "Submitted batch job 418195\n",
                        "Submitted batch job 418196\n"
                    ]
                },
                {
                    "name": "stderr",
                    "output_type": "stream",
                    "text": [
                        "sbatch: Single node jobs run on a shared node by default. Add --exclusive if you want to use a node exclusively.\n",
                        "sbatch: You will be charged for 0.03125 node. A full node consists of 32 CPU cores, 240000 MiB of memory and 0 GPUs and can be shared by up to 32 jobs.\n",
                        "sbatch: Single node jobs run on a shared node by default. Add --exclusive if you want to use a node exclusively.\n",
                        "sbatch: You will be charged for 0.03125 node. A full node consists of 32 CPU cores, 240000 MiB of memory and 0 GPUs and can be shared by up to 32 jobs.\n",
                        "sbatch: Single node jobs run on a shared node by default. Add --exclusive if you want to use a node exclusively.\n",
                        "sbatch: You will be charged for 0.03125 node. A full node consists of 32 CPU cores, 240000 MiB of memory and 0 GPUs and can be shared by up to 32 jobs.\n",
                        "sbatch: Single node jobs run on a shared node by default. Add --exclusive if you want to use a node exclusively.\n",
                        "sbatch: You will be charged for 0.03125 node. A full node consists of 32 CPU cores, 240000 MiB of memory and 0 GPUs and can be shared by up to 32 jobs.\n",
                        "sbatch: Single node jobs run on a shared node by default. Add --exclusive if you want to use a node exclusively.\n",
                        "sbatch: You will be charged for 0.03125 node. A full node consists of 32 CPU cores, 240000 MiB of memory and 0 GPUs and can be shared by up to 32 jobs.\n",
                        "sbatch: Single node jobs run on a shared node by default. Add --exclusive if you want to use a node exclusively.\n",
                        "sbatch: You will be charged for 0.03125 node. A full node consists of 32 CPU cores, 240000 MiB of memory and 0 GPUs and can be shared by up to 32 jobs.\n",
                        "sbatch: Single node jobs run on a shared node by default. Add --exclusive if you want to use a node exclusively.\n",
                        "sbatch: You will be charged for 0.03125 node. A full node consists of 32 CPU cores, 240000 MiB of memory and 0 GPUs and can be shared by up to 32 jobs.\n",
                        "sbatch: Single node jobs run on a shared node by default. Add --exclusive if you want to use a node exclusively.\n",
                        "sbatch: You will be charged for 0.03125 node. A full node consists of 32 CPU cores, 240000 MiB of memory and 0 GPUs and can be shared by up to 32 jobs.\n"
                    ]
                },
                {
                    "name": "stdout",
                    "output_type": "stream",
                    "text": [
                        "Submitted batch job 418197\n",
                        "Submitted batch job 418198\n",
                        "Submitted batch job 418199\n",
                        "Submitted batch job 418200\n"
                    ]
                },
                {
                    "name": "stderr",
                    "output_type": "stream",
                    "text": [
                        "sbatch: Single node jobs run on a shared node by default. Add --exclusive if you want to use a node exclusively.\n",
                        "sbatch: You will be charged for 0.03125 node. A full node consists of 32 CPU cores, 240000 MiB of memory and 0 GPUs and can be shared by up to 32 jobs.\n",
                        "sbatch: Single node jobs run on a shared node by default. Add --exclusive if you want to use a node exclusively.\n",
                        "sbatch: You will be charged for 0.03125 node. A full node consists of 32 CPU cores, 240000 MiB of memory and 0 GPUs and can be shared by up to 32 jobs.\n",
                        "sbatch: Single node jobs run on a shared node by default. Add --exclusive if you want to use a node exclusively.\n",
                        "sbatch: You will be charged for 0.03125 node. A full node consists of 32 CPU cores, 240000 MiB of memory and 0 GPUs and can be shared by up to 32 jobs.\n",
                        "sbatch: Single node jobs run on a shared node by default. Add --exclusive if you want to use a node exclusively.\n",
                        "sbatch: You will be charged for 0.03125 node. A full node consists of 32 CPU cores, 240000 MiB of memory and 0 GPUs and can be shared by up to 32 jobs.\n"
                    ]
                },
                {
                    "name": "stdout",
                    "output_type": "stream",
                    "text": [
                        "Submitted batch job 418201\n",
                        "Submitted batch job 418203\n",
                        "Submitted batch job 418204\n",
                        "Submitted batch job 418205\n"
                    ]
                },
                {
                    "name": "stderr",
                    "output_type": "stream",
                    "text": [
                        "sbatch: Single node jobs run on a shared node by default. Add --exclusive if you want to use a node exclusively.\n",
                        "sbatch: You will be charged for 0.03125 node. A full node consists of 32 CPU cores, 240000 MiB of memory and 0 GPUs and can be shared by up to 32 jobs.\n",
                        "sbatch: Single node jobs run on a shared node by default. Add --exclusive if you want to use a node exclusively.\n",
                        "sbatch: You will be charged for 0.03125 node. A full node consists of 32 CPU cores, 240000 MiB of memory and 0 GPUs and can be shared by up to 32 jobs.\n",
                        "sbatch: Single node jobs run on a shared node by default. Add --exclusive if you want to use a node exclusively.\n",
                        "sbatch: You will be charged for 0.03125 node. A full node consists of 32 CPU cores, 240000 MiB of memory and 0 GPUs and can be shared by up to 32 jobs.\n",
                        "sbatch: Single node jobs run on a shared node by default. Add --exclusive if you want to use a node exclusively.\n",
                        "sbatch: You will be charged for 0.03125 node. A full node consists of 32 CPU cores, 240000 MiB of memory and 0 GPUs and can be shared by up to 32 jobs.\n"
                    ]
                },
                {
                    "name": "stdout",
                    "output_type": "stream",
                    "text": [
                        "Submitted batch job 418206\n",
                        "Submitted batch job 418207\n",
                        "Submitted batch job 418208\n",
                        "Submitted batch job 418209\n"
                    ]
                },
                {
                    "name": "stderr",
                    "output_type": "stream",
                    "text": [
                        "sbatch: Single node jobs run on a shared node by default. Add --exclusive if you want to use a node exclusively.\n",
                        "sbatch: You will be charged for 0.03125 node. A full node consists of 32 CPU cores, 240000 MiB of memory and 0 GPUs and can be shared by up to 32 jobs.\n",
                        "sbatch: Single node jobs run on a shared node by default. Add --exclusive if you want to use a node exclusively.\n",
                        "sbatch: You will be charged for 0.03125 node. A full node consists of 32 CPU cores, 240000 MiB of memory and 0 GPUs and can be shared by up to 32 jobs.\n",
                        "sbatch: Single node jobs run on a shared node by default. Add --exclusive if you want to use a node exclusively.\n",
                        "sbatch: You will be charged for 0.03125 node. A full node consists of 32 CPU cores, 240000 MiB of memory and 0 GPUs and can be shared by up to 32 jobs.\n",
                        "sbatch: Single node jobs run on a shared node by default. Add --exclusive if you want to use a node exclusively.\n",
                        "sbatch: You will be charged for 0.03125 node. A full node consists of 32 CPU cores, 240000 MiB of memory and 0 GPUs and can be shared by up to 32 jobs.\n"
                    ]
                },
                {
                    "name": "stdout",
                    "output_type": "stream",
                    "text": [
                        "Submitted batch job 418210\n",
                        "Submitted batch job 418211\n",
                        "Submitted batch job 418212\n",
                        "Submitted batch job 418213\n"
                    ]
                },
                {
                    "name": "stderr",
                    "output_type": "stream",
                    "text": [
                        "sbatch: Single node jobs run on a shared node by default. Add --exclusive if you want to use a node exclusively.\n",
                        "sbatch: You will be charged for 0.03125 node. A full node consists of 32 CPU cores, 240000 MiB of memory and 0 GPUs and can be shared by up to 32 jobs.\n",
                        "sbatch: Single node jobs run on a shared node by default. Add --exclusive if you want to use a node exclusively.\n",
                        "sbatch: You will be charged for 0.03125 node. A full node consists of 32 CPU cores, 240000 MiB of memory and 0 GPUs and can be shared by up to 32 jobs.\n",
                        "sbatch: Single node jobs run on a shared node by default. Add --exclusive if you want to use a node exclusively.\n",
                        "sbatch: You will be charged for 0.03125 node. A full node consists of 32 CPU cores, 240000 MiB of memory and 0 GPUs and can be shared by up to 32 jobs.\n",
                        "sbatch: Single node jobs run on a shared node by default. Add --exclusive if you want to use a node exclusively.\n",
                        "sbatch: You will be charged for 0.03125 node. A full node consists of 32 CPU cores, 240000 MiB of memory and 0 GPUs and can be shared by up to 32 jobs.\n"
                    ]
                },
                {
                    "name": "stdout",
                    "output_type": "stream",
                    "text": [
                        "Submitted batch job 418214\n",
                        "Submitted batch job 418215\n",
                        "Submitted batch job 418216\n",
                        "Submitted batch job 418217\n"
                    ]
                },
                {
                    "name": "stderr",
                    "output_type": "stream",
                    "text": [
                        "sbatch: Single node jobs run on a shared node by default. Add --exclusive if you want to use a node exclusively.\n",
                        "sbatch: You will be charged for 0.03125 node. A full node consists of 32 CPU cores, 240000 MiB of memory and 0 GPUs and can be shared by up to 32 jobs.\n",
                        "sbatch: Single node jobs run on a shared node by default. Add --exclusive if you want to use a node exclusively.\n",
                        "sbatch: You will be charged for 0.03125 node. A full node consists of 32 CPU cores, 240000 MiB of memory and 0 GPUs and can be shared by up to 32 jobs.\n",
                        "sbatch: Single node jobs run on a shared node by default. Add --exclusive if you want to use a node exclusively.\n",
                        "sbatch: You will be charged for 0.03125 node. A full node consists of 32 CPU cores, 240000 MiB of memory and 0 GPUs and can be shared by up to 32 jobs.\n",
                        "sbatch: Single node jobs run on a shared node by default. Add --exclusive if you want to use a node exclusively.\n",
                        "sbatch: You will be charged for 0.03125 node. A full node consists of 32 CPU cores, 240000 MiB of memory and 0 GPUs and can be shared by up to 32 jobs.\n"
                    ]
                },
                {
                    "name": "stdout",
                    "output_type": "stream",
                    "text": [
                        "Submitted batch job 418218\n",
                        "Submitted batch job 418219\n",
                        "Submitted batch job 418220\n",
                        "Submitted batch job 418221\n"
                    ]
                },
                {
                    "name": "stderr",
                    "output_type": "stream",
                    "text": [
                        "sbatch: Single node jobs run on a shared node by default. Add --exclusive if you want to use a node exclusively.\n",
                        "sbatch: You will be charged for 0.03125 node. A full node consists of 32 CPU cores, 240000 MiB of memory and 0 GPUs and can be shared by up to 32 jobs.\n",
                        "sbatch: Single node jobs run on a shared node by default. Add --exclusive if you want to use a node exclusively.\n",
                        "sbatch: You will be charged for 0.03125 node. A full node consists of 32 CPU cores, 240000 MiB of memory and 0 GPUs and can be shared by up to 32 jobs.\n",
                        "sbatch: Single node jobs run on a shared node by default. Add --exclusive if you want to use a node exclusively.\n",
                        "sbatch: You will be charged for 0.03125 node. A full node consists of 32 CPU cores, 240000 MiB of memory and 0 GPUs and can be shared by up to 32 jobs.\n",
                        "sbatch: Single node jobs run on a shared node by default. Add --exclusive if you want to use a node exclusively.\n",
                        "sbatch: You will be charged for 0.03125 node. A full node consists of 32 CPU cores, 240000 MiB of memory and 0 GPUs and can be shared by up to 32 jobs.\n",
                        "sbatch: Single node jobs run on a shared node by default. Add --exclusive if you want to use a node exclusively.\n",
                        "sbatch: You will be charged for 0.03125 node. A full node consists of 32 CPU cores, 240000 MiB of memory and 0 GPUs and can be shared by up to 32 jobs.\n"
                    ]
                },
                {
                    "name": "stdout",
                    "output_type": "stream",
                    "text": [
                        "Submitted batch job 418222\n",
                        "Submitted batch job 418224\n",
                        "Submitted batch job 418225\n",
                        "Submitted batch job 418226\n",
                        "Submitted batch job 418227\n"
                    ]
                },
                {
                    "name": "stderr",
                    "output_type": "stream",
                    "text": [
                        "sbatch: Single node jobs run on a shared node by default. Add --exclusive if you want to use a node exclusively.\n",
                        "sbatch: You will be charged for 0.03125 node. A full node consists of 32 CPU cores, 240000 MiB of memory and 0 GPUs and can be shared by up to 32 jobs.\n",
                        "sbatch: Single node jobs run on a shared node by default. Add --exclusive if you want to use a node exclusively.\n",
                        "sbatch: You will be charged for 0.03125 node. A full node consists of 32 CPU cores, 240000 MiB of memory and 0 GPUs and can be shared by up to 32 jobs.\n",
                        "sbatch: Single node jobs run on a shared node by default. Add --exclusive if you want to use a node exclusively.\n",
                        "sbatch: You will be charged for 0.03125 node. A full node consists of 32 CPU cores, 240000 MiB of memory and 0 GPUs and can be shared by up to 32 jobs.\n",
                        "sbatch: Single node jobs run on a shared node by default. Add --exclusive if you want to use a node exclusively.\n",
                        "sbatch: You will be charged for 0.03125 node. A full node consists of 32 CPU cores, 240000 MiB of memory and 0 GPUs and can be shared by up to 32 jobs.\n"
                    ]
                },
                {
                    "name": "stdout",
                    "output_type": "stream",
                    "text": [
                        "Submitted batch job 418228\n",
                        "Submitted batch job 418229\n",
                        "Submitted batch job 418230\n",
                        "Submitted batch job 418231\n"
                    ]
                },
                {
                    "name": "stderr",
                    "output_type": "stream",
                    "text": [
                        "sbatch: Single node jobs run on a shared node by default. Add --exclusive if you want to use a node exclusively.\n",
                        "sbatch: You will be charged for 0.03125 node. A full node consists of 32 CPU cores, 240000 MiB of memory and 0 GPUs and can be shared by up to 32 jobs.\n",
                        "sbatch: Single node jobs run on a shared node by default. Add --exclusive if you want to use a node exclusively.\n",
                        "sbatch: You will be charged for 0.03125 node. A full node consists of 32 CPU cores, 240000 MiB of memory and 0 GPUs and can be shared by up to 32 jobs.\n",
                        "sbatch: Single node jobs run on a shared node by default. Add --exclusive if you want to use a node exclusively.\n",
                        "sbatch: You will be charged for 0.03125 node. A full node consists of 32 CPU cores, 240000 MiB of memory and 0 GPUs and can be shared by up to 32 jobs.\n",
                        "sbatch: Single node jobs run on a shared node by default. Add --exclusive if you want to use a node exclusively.\n",
                        "sbatch: You will be charged for 0.03125 node. A full node consists of 32 CPU cores, 240000 MiB of memory and 0 GPUs and can be shared by up to 32 jobs.\n"
                    ]
                },
                {
                    "name": "stdout",
                    "output_type": "stream",
                    "text": [
                        "Submitted batch job 418232\n",
                        "Submitted batch job 418233\n",
                        "Submitted batch job 418234\n",
                        "Submitted batch job 418235\n"
                    ]
                },
                {
                    "name": "stderr",
                    "output_type": "stream",
                    "text": [
                        "sbatch: Single node jobs run on a shared node by default. Add --exclusive if you want to use a node exclusively.\n",
                        "sbatch: You will be charged for 0.03125 node. A full node consists of 32 CPU cores, 240000 MiB of memory and 0 GPUs and can be shared by up to 32 jobs.\n",
                        "sbatch: Single node jobs run on a shared node by default. Add --exclusive if you want to use a node exclusively.\n",
                        "sbatch: You will be charged for 0.03125 node. A full node consists of 32 CPU cores, 240000 MiB of memory and 0 GPUs and can be shared by up to 32 jobs.\n",
                        "sbatch: Single node jobs run on a shared node by default. Add --exclusive if you want to use a node exclusively.\n",
                        "sbatch: You will be charged for 0.03125 node. A full node consists of 32 CPU cores, 240000 MiB of memory and 0 GPUs and can be shared by up to 32 jobs.\n",
                        "sbatch: Single node jobs run on a shared node by default. Add --exclusive if you want to use a node exclusively.\n",
                        "sbatch: You will be charged for 0.03125 node. A full node consists of 32 CPU cores, 240000 MiB of memory and 0 GPUs and can be shared by up to 32 jobs.\n"
                    ]
                },
                {
                    "name": "stdout",
                    "output_type": "stream",
                    "text": [
                        "Submitted batch job 418236\n",
                        "Submitted batch job 418237\n",
                        "Submitted batch job 418238\n",
                        "Submitted batch job 418239\n"
                    ]
                },
                {
                    "name": "stderr",
                    "output_type": "stream",
                    "text": [
                        "sbatch: Single node jobs run on a shared node by default. Add --exclusive if you want to use a node exclusively.\n",
                        "sbatch: You will be charged for 0.03125 node. A full node consists of 32 CPU cores, 240000 MiB of memory and 0 GPUs and can be shared by up to 32 jobs.\n",
                        "sbatch: Single node jobs run on a shared node by default. Add --exclusive if you want to use a node exclusively.\n",
                        "sbatch: You will be charged for 0.03125 node. A full node consists of 32 CPU cores, 240000 MiB of memory and 0 GPUs and can be shared by up to 32 jobs.\n",
                        "sbatch: Single node jobs run on a shared node by default. Add --exclusive if you want to use a node exclusively.\n",
                        "sbatch: You will be charged for 0.03125 node. A full node consists of 32 CPU cores, 240000 MiB of memory and 0 GPUs and can be shared by up to 32 jobs.\n",
                        "sbatch: Single node jobs run on a shared node by default. Add --exclusive if you want to use a node exclusively.\n",
                        "sbatch: You will be charged for 0.03125 node. A full node consists of 32 CPU cores, 240000 MiB of memory and 0 GPUs and can be shared by up to 32 jobs.\n"
                    ]
                },
                {
                    "name": "stdout",
                    "output_type": "stream",
                    "text": [
                        "Submitted batch job 418240\n",
                        "Submitted batch job 418241\n",
                        "Submitted batch job 418242\n",
                        "Submitted batch job 418243\n"
                    ]
                },
                {
                    "name": "stderr",
                    "output_type": "stream",
                    "text": [
                        "sbatch: Single node jobs run on a shared node by default. Add --exclusive if you want to use a node exclusively.\n",
                        "sbatch: You will be charged for 0.03125 node. A full node consists of 32 CPU cores, 240000 MiB of memory and 0 GPUs and can be shared by up to 32 jobs.\n",
                        "sbatch: Single node jobs run on a shared node by default. Add --exclusive if you want to use a node exclusively.\n",
                        "sbatch: You will be charged for 0.03125 node. A full node consists of 32 CPU cores, 240000 MiB of memory and 0 GPUs and can be shared by up to 32 jobs.\n",
                        "sbatch: Single node jobs run on a shared node by default. Add --exclusive if you want to use a node exclusively.\n",
                        "sbatch: You will be charged for 0.03125 node. A full node consists of 32 CPU cores, 240000 MiB of memory and 0 GPUs and can be shared by up to 32 jobs.\n",
                        "sbatch: Single node jobs run on a shared node by default. Add --exclusive if you want to use a node exclusively.\n",
                        "sbatch: You will be charged for 0.03125 node. A full node consists of 32 CPU cores, 240000 MiB of memory and 0 GPUs and can be shared by up to 32 jobs.\n"
                    ]
                },
                {
                    "name": "stdout",
                    "output_type": "stream",
                    "text": [
                        "Submitted batch job 418244\n",
                        "Submitted batch job 418246\n",
                        "Submitted batch job 418247\n",
                        "Submitted batch job 418248\n"
                    ]
                },
                {
                    "name": "stderr",
                    "output_type": "stream",
                    "text": [
                        "sbatch: Single node jobs run on a shared node by default. Add --exclusive if you want to use a node exclusively.\n",
                        "sbatch: You will be charged for 0.03125 node. A full node consists of 32 CPU cores, 240000 MiB of memory and 0 GPUs and can be shared by up to 32 jobs.\n",
                        "sbatch: Single node jobs run on a shared node by default. Add --exclusive if you want to use a node exclusively.\n",
                        "sbatch: You will be charged for 0.03125 node. A full node consists of 32 CPU cores, 240000 MiB of memory and 0 GPUs and can be shared by up to 32 jobs.\n",
                        "sbatch: Single node jobs run on a shared node by default. Add --exclusive if you want to use a node exclusively.\n",
                        "sbatch: You will be charged for 0.03125 node. A full node consists of 32 CPU cores, 240000 MiB of memory and 0 GPUs and can be shared by up to 32 jobs.\n",
                        "sbatch: Single node jobs run on a shared node by default. Add --exclusive if you want to use a node exclusively.\n",
                        "sbatch: You will be charged for 0.03125 node. A full node consists of 32 CPU cores, 240000 MiB of memory and 0 GPUs and can be shared by up to 32 jobs.\n"
                    ]
                },
                {
                    "name": "stdout",
                    "output_type": "stream",
                    "text": [
                        "Submitted batch job 418249\n",
                        "Submitted batch job 418250\n",
                        "Submitted batch job 418251\n",
                        "Submitted batch job 418252\n"
                    ]
                },
                {
                    "name": "stderr",
                    "output_type": "stream",
                    "text": [
                        "sbatch: Single node jobs run on a shared node by default. Add --exclusive if you want to use a node exclusively.\n",
                        "sbatch: You will be charged for 0.03125 node. A full node consists of 32 CPU cores, 240000 MiB of memory and 0 GPUs and can be shared by up to 32 jobs.\n",
                        "sbatch: Single node jobs run on a shared node by default. Add --exclusive if you want to use a node exclusively.\n",
                        "sbatch: You will be charged for 0.03125 node. A full node consists of 32 CPU cores, 240000 MiB of memory and 0 GPUs and can be shared by up to 32 jobs.\n",
                        "sbatch: Single node jobs run on a shared node by default. Add --exclusive if you want to use a node exclusively.\n",
                        "sbatch: You will be charged for 0.03125 node. A full node consists of 32 CPU cores, 240000 MiB of memory and 0 GPUs and can be shared by up to 32 jobs.\n",
                        "sbatch: Single node jobs run on a shared node by default. Add --exclusive if you want to use a node exclusively.\n",
                        "sbatch: You will be charged for 0.03125 node. A full node consists of 32 CPU cores, 240000 MiB of memory and 0 GPUs and can be shared by up to 32 jobs.\n"
                    ]
                },
                {
                    "name": "stdout",
                    "output_type": "stream",
                    "text": [
                        "Submitted batch job 418253\n",
                        "Submitted batch job 418254\n",
                        "Submitted batch job 418255\n",
                        "Submitted batch job 418256\n"
                    ]
                },
                {
                    "name": "stderr",
                    "output_type": "stream",
                    "text": [
                        "sbatch: Single node jobs run on a shared node by default. Add --exclusive if you want to use a node exclusively.\n",
                        "sbatch: You will be charged for 0.03125 node. A full node consists of 32 CPU cores, 240000 MiB of memory and 0 GPUs and can be shared by up to 32 jobs.\n",
                        "sbatch: Single node jobs run on a shared node by default. Add --exclusive if you want to use a node exclusively.\n",
                        "sbatch: You will be charged for 0.03125 node. A full node consists of 32 CPU cores, 240000 MiB of memory and 0 GPUs and can be shared by up to 32 jobs.\n",
                        "sbatch: Single node jobs run on a shared node by default. Add --exclusive if you want to use a node exclusively.\n",
                        "sbatch: You will be charged for 0.03125 node. A full node consists of 32 CPU cores, 240000 MiB of memory and 0 GPUs and can be shared by up to 32 jobs.\n",
                        "sbatch: Single node jobs run on a shared node by default. Add --exclusive if you want to use a node exclusively.\n",
                        "sbatch: You will be charged for 0.03125 node. A full node consists of 32 CPU cores, 240000 MiB of memory and 0 GPUs and can be shared by up to 32 jobs.\n"
                    ]
                },
                {
                    "name": "stdout",
                    "output_type": "stream",
                    "text": [
                        "Submitted batch job 418257\n",
                        "Submitted batch job 418258\n",
                        "Submitted batch job 418259\n",
                        "Submitted batch job 418260\n",
                        "Submitted batch job 418261\n",
                        "Submitted batch job 418262\n",
                        "Submitted batch job 418263\n",
                        "Submitted batch job 418264\n"
                    ]
                },
                {
                    "name": "stderr",
                    "output_type": "stream",
                    "text": [
                        "sbatch: Single node jobs run on a shared node by default. Add --exclusive if you want to use a node exclusively.\n",
                        "sbatch: You will be charged for 0.03125 node. A full node consists of 32 CPU cores, 240000 MiB of memory and 0 GPUs and can be shared by up to 32 jobs.\n",
                        "sbatch: Single node jobs run on a shared node by default. Add --exclusive if you want to use a node exclusively.\n",
                        "sbatch: You will be charged for 0.03125 node. A full node consists of 32 CPU cores, 240000 MiB of memory and 0 GPUs and can be shared by up to 32 jobs.\n",
                        "sbatch: Single node jobs run on a shared node by default. Add --exclusive if you want to use a node exclusively.\n",
                        "sbatch: You will be charged for 0.03125 node. A full node consists of 32 CPU cores, 240000 MiB of memory and 0 GPUs and can be shared by up to 32 jobs.\n",
                        "sbatch: Single node jobs run on a shared node by default. Add --exclusive if you want to use a node exclusively.\n",
                        "sbatch: You will be charged for 0.03125 node. A full node consists of 32 CPU cores, 240000 MiB of memory and 0 GPUs and can be shared by up to 32 jobs.\n",
                        "sbatch: Single node jobs run on a shared node by default. Add --exclusive if you want to use a node exclusively.\n",
                        "sbatch: You will be charged for 0.03125 node. A full node consists of 32 CPU cores, 240000 MiB of memory and 0 GPUs and can be shared by up to 32 jobs.\n",
                        "sbatch: Single node jobs run on a shared node by default. Add --exclusive if you want to use a node exclusively.\n",
                        "sbatch: You will be charged for 0.03125 node. A full node consists of 32 CPU cores, 240000 MiB of memory and 0 GPUs and can be shared by up to 32 jobs.\n",
                        "sbatch: Single node jobs run on a shared node by default. Add --exclusive if you want to use a node exclusively.\n",
                        "sbatch: You will be charged for 0.03125 node. A full node consists of 32 CPU cores, 240000 MiB of memory and 0 GPUs and can be shared by up to 32 jobs.\n",
                        "sbatch: Single node jobs run on a shared node by default. Add --exclusive if you want to use a node exclusively.\n",
                        "sbatch: You will be charged for 0.03125 node. A full node consists of 32 CPU cores, 240000 MiB of memory and 0 GPUs and can be shared by up to 32 jobs.\n"
                    ]
                },
                {
                    "name": "stdout",
                    "output_type": "stream",
                    "text": [
                        "Submitted batch job 418265\n",
                        "Submitted batch job 418266\n",
                        "Submitted batch job 418268\n",
                        "Submitted batch job 418269\n"
                    ]
                },
                {
                    "name": "stderr",
                    "output_type": "stream",
                    "text": [
                        "sbatch: Single node jobs run on a shared node by default. Add --exclusive if you want to use a node exclusively.\n",
                        "sbatch: You will be charged for 0.03125 node. A full node consists of 32 CPU cores, 240000 MiB of memory and 0 GPUs and can be shared by up to 32 jobs.\n",
                        "sbatch: Single node jobs run on a shared node by default. Add --exclusive if you want to use a node exclusively.\n",
                        "sbatch: You will be charged for 0.03125 node. A full node consists of 32 CPU cores, 240000 MiB of memory and 0 GPUs and can be shared by up to 32 jobs.\n",
                        "sbatch: Single node jobs run on a shared node by default. Add --exclusive if you want to use a node exclusively.\n",
                        "sbatch: You will be charged for 0.03125 node. A full node consists of 32 CPU cores, 240000 MiB of memory and 0 GPUs and can be shared by up to 32 jobs.\n",
                        "sbatch: Single node jobs run on a shared node by default. Add --exclusive if you want to use a node exclusively.\n",
                        "sbatch: You will be charged for 0.03125 node. A full node consists of 32 CPU cores, 240000 MiB of memory and 0 GPUs and can be shared by up to 32 jobs.\n"
                    ]
                },
                {
                    "name": "stdout",
                    "output_type": "stream",
                    "text": [
                        "Submitted batch job 418270\n",
                        "Submitted batch job 418271\n",
                        "Submitted batch job 418272\n",
                        "Submitted batch job 418273\n"
                    ]
                },
                {
                    "name": "stderr",
                    "output_type": "stream",
                    "text": [
                        "sbatch: Single node jobs run on a shared node by default. Add --exclusive if you want to use a node exclusively.\n",
                        "sbatch: You will be charged for 0.03125 node. A full node consists of 32 CPU cores, 240000 MiB of memory and 0 GPUs and can be shared by up to 32 jobs.\n",
                        "sbatch: Single node jobs run on a shared node by default. Add --exclusive if you want to use a node exclusively.\n",
                        "sbatch: You will be charged for 0.03125 node. A full node consists of 32 CPU cores, 240000 MiB of memory and 0 GPUs and can be shared by up to 32 jobs.\n",
                        "sbatch: Single node jobs run on a shared node by default. Add --exclusive if you want to use a node exclusively.\n",
                        "sbatch: You will be charged for 0.03125 node. A full node consists of 32 CPU cores, 240000 MiB of memory and 0 GPUs and can be shared by up to 32 jobs.\n",
                        "sbatch: Single node jobs run on a shared node by default. Add --exclusive if you want to use a node exclusively.\n",
                        "sbatch: You will be charged for 0.03125 node. A full node consists of 32 CPU cores, 240000 MiB of memory and 0 GPUs and can be shared by up to 32 jobs.\n"
                    ]
                },
                {
                    "name": "stdout",
                    "output_type": "stream",
                    "text": [
                        "Submitted batch job 418274\n",
                        "Submitted batch job 418275\n",
                        "Submitted batch job 418276\n",
                        "Submitted batch job 418277\n"
                    ]
                },
                {
                    "name": "stderr",
                    "output_type": "stream",
                    "text": [
                        "sbatch: Single node jobs run on a shared node by default. Add --exclusive if you want to use a node exclusively.\n",
                        "sbatch: You will be charged for 0.03125 node. A full node consists of 32 CPU cores, 240000 MiB of memory and 0 GPUs and can be shared by up to 32 jobs.\n",
                        "sbatch: Single node jobs run on a shared node by default. Add --exclusive if you want to use a node exclusively.\n",
                        "sbatch: You will be charged for 0.03125 node. A full node consists of 32 CPU cores, 240000 MiB of memory and 0 GPUs and can be shared by up to 32 jobs.\n",
                        "sbatch: Single node jobs run on a shared node by default. Add --exclusive if you want to use a node exclusively.\n",
                        "sbatch: You will be charged for 0.03125 node. A full node consists of 32 CPU cores, 240000 MiB of memory and 0 GPUs and can be shared by up to 32 jobs.\n",
                        "sbatch: Single node jobs run on a shared node by default. Add --exclusive if you want to use a node exclusively.\n",
                        "sbatch: You will be charged for 0.03125 node. A full node consists of 32 CPU cores, 240000 MiB of memory and 0 GPUs and can be shared by up to 32 jobs.\n"
                    ]
                },
                {
                    "name": "stdout",
                    "output_type": "stream",
                    "text": [
                        "Submitted batch job 418278\n",
                        "Submitted batch job 418279\n",
                        "Submitted batch job 418280\n",
                        "Submitted batch job 418281\n",
                        "Submitted batch job 418282\n",
                        "Submitted batch job 418283\n",
                        "Submitted batch job 418284\n",
                        "Submitted batch job 418285\n"
                    ]
                },
                {
                    "name": "stderr",
                    "output_type": "stream",
                    "text": [
                        "sbatch: Single node jobs run on a shared node by default. Add --exclusive if you want to use a node exclusively.\n",
                        "sbatch: You will be charged for 0.03125 node. A full node consists of 32 CPU cores, 240000 MiB of memory and 0 GPUs and can be shared by up to 32 jobs.\n",
                        "sbatch: Single node jobs run on a shared node by default. Add --exclusive if you want to use a node exclusively.\n",
                        "sbatch: You will be charged for 0.03125 node. A full node consists of 32 CPU cores, 240000 MiB of memory and 0 GPUs and can be shared by up to 32 jobs.\n",
                        "sbatch: Single node jobs run on a shared node by default. Add --exclusive if you want to use a node exclusively.\n",
                        "sbatch: You will be charged for 0.03125 node. A full node consists of 32 CPU cores, 240000 MiB of memory and 0 GPUs and can be shared by up to 32 jobs.\n",
                        "sbatch: Single node jobs run on a shared node by default. Add --exclusive if you want to use a node exclusively.\n",
                        "sbatch: You will be charged for 0.03125 node. A full node consists of 32 CPU cores, 240000 MiB of memory and 0 GPUs and can be shared by up to 32 jobs.\n",
                        "sbatch: Single node jobs run on a shared node by default. Add --exclusive if you want to use a node exclusively.\n",
                        "sbatch: You will be charged for 0.03125 node. A full node consists of 32 CPU cores, 240000 MiB of memory and 0 GPUs and can be shared by up to 32 jobs.\n",
                        "sbatch: Single node jobs run on a shared node by default. Add --exclusive if you want to use a node exclusively.\n",
                        "sbatch: You will be charged for 0.03125 node. A full node consists of 32 CPU cores, 240000 MiB of memory and 0 GPUs and can be shared by up to 32 jobs.\n",
                        "sbatch: Single node jobs run on a shared node by default. Add --exclusive if you want to use a node exclusively.\n",
                        "sbatch: You will be charged for 0.03125 node. A full node consists of 32 CPU cores, 240000 MiB of memory and 0 GPUs and can be shared by up to 32 jobs.\n",
                        "sbatch: Single node jobs run on a shared node by default. Add --exclusive if you want to use a node exclusively.\n",
                        "sbatch: You will be charged for 0.03125 node. A full node consists of 32 CPU cores, 240000 MiB of memory and 0 GPUs and can be shared by up to 32 jobs.\n"
                    ]
                },
                {
                    "name": "stdout",
                    "output_type": "stream",
                    "text": [
                        "Submitted batch job 418286\n",
                        "Submitted batch job 418287\n",
                        "Submitted batch job 418288\n",
                        "Submitted batch job 418290\n"
                    ]
                },
                {
                    "name": "stderr",
                    "output_type": "stream",
                    "text": [
                        "sbatch: Single node jobs run on a shared node by default. Add --exclusive if you want to use a node exclusively.\n",
                        "sbatch: You will be charged for 0.03125 node. A full node consists of 32 CPU cores, 240000 MiB of memory and 0 GPUs and can be shared by up to 32 jobs.\n",
                        "sbatch: Single node jobs run on a shared node by default. Add --exclusive if you want to use a node exclusively.\n",
                        "sbatch: You will be charged for 0.03125 node. A full node consists of 32 CPU cores, 240000 MiB of memory and 0 GPUs and can be shared by up to 32 jobs.\n",
                        "sbatch: Single node jobs run on a shared node by default. Add --exclusive if you want to use a node exclusively.\n",
                        "sbatch: You will be charged for 0.03125 node. A full node consists of 32 CPU cores, 240000 MiB of memory and 0 GPUs and can be shared by up to 32 jobs.\n",
                        "sbatch: Single node jobs run on a shared node by default. Add --exclusive if you want to use a node exclusively.\n",
                        "sbatch: You will be charged for 0.03125 node. A full node consists of 32 CPU cores, 240000 MiB of memory and 0 GPUs and can be shared by up to 32 jobs.\n"
                    ]
                },
                {
                    "name": "stdout",
                    "output_type": "stream",
                    "text": [
                        "Submitted batch job 418291\n",
                        "Submitted batch job 418292\n",
                        "Submitted batch job 418293\n",
                        "Submitted batch job 418294\n"
                    ]
                },
                {
                    "name": "stderr",
                    "output_type": "stream",
                    "text": [
                        "sbatch: Single node jobs run on a shared node by default. Add --exclusive if you want to use a node exclusively.\n",
                        "sbatch: You will be charged for 0.03125 node. A full node consists of 32 CPU cores, 240000 MiB of memory and 0 GPUs and can be shared by up to 32 jobs.\n",
                        "sbatch: Single node jobs run on a shared node by default. Add --exclusive if you want to use a node exclusively.\n",
                        "sbatch: You will be charged for 0.03125 node. A full node consists of 32 CPU cores, 240000 MiB of memory and 0 GPUs and can be shared by up to 32 jobs.\n",
                        "sbatch: Single node jobs run on a shared node by default. Add --exclusive if you want to use a node exclusively.\n",
                        "sbatch: You will be charged for 0.03125 node. A full node consists of 32 CPU cores, 240000 MiB of memory and 0 GPUs and can be shared by up to 32 jobs.\n",
                        "sbatch: Single node jobs run on a shared node by default. Add --exclusive if you want to use a node exclusively.\n",
                        "sbatch: You will be charged for 0.03125 node. A full node consists of 32 CPU cores, 240000 MiB of memory and 0 GPUs and can be shared by up to 32 jobs.\n"
                    ]
                },
                {
                    "name": "stdout",
                    "output_type": "stream",
                    "text": [
                        "Submitted batch job 418295\n",
                        "Submitted batch job 418296\n",
                        "Submitted batch job 418297\n",
                        "Submitted batch job 418298\n"
                    ]
                },
                {
                    "name": "stderr",
                    "output_type": "stream",
                    "text": [
                        "sbatch: Single node jobs run on a shared node by default. Add --exclusive if you want to use a node exclusively.\n",
                        "sbatch: You will be charged for 0.03125 node. A full node consists of 32 CPU cores, 240000 MiB of memory and 0 GPUs and can be shared by up to 32 jobs.\n"
                    ]
                },
                {
                    "name": "stdout",
                    "output_type": "stream",
                    "text": [
                        "Submitted batch job 418299\n"
                    ]
                },
                {
                    "name": "stderr",
                    "output_type": "stream",
                    "text": [
                        "sbatch: Single node jobs run on a shared node by default. Add --exclusive if you want to use a node exclusively.\n",
                        "sbatch: You will be charged for 0.03125 node. A full node consists of 32 CPU cores, 240000 MiB of memory and 0 GPUs and can be shared by up to 32 jobs.\n",
                        "sbatch: Single node jobs run on a shared node by default. Add --exclusive if you want to use a node exclusively.\n",
                        "sbatch: You will be charged for 0.03125 node. A full node consists of 32 CPU cores, 240000 MiB of memory and 0 GPUs and can be shared by up to 32 jobs.\n"
                    ]
                },
                {
                    "name": "stdout",
                    "output_type": "stream",
                    "text": [
                        "Submitted batch job 418300\n",
                        "Submitted batch job 418302\n"
                    ]
                },
                {
                    "name": "stderr",
                    "output_type": "stream",
                    "text": [
                        "sbatch: Single node jobs run on a shared node by default. Add --exclusive if you want to use a node exclusively.\n",
                        "sbatch: You will be charged for 0.03125 node. A full node consists of 32 CPU cores, 240000 MiB of memory and 0 GPUs and can be shared by up to 32 jobs.\n",
                        "sbatch: Single node jobs run on a shared node by default. Add --exclusive if you want to use a node exclusively.\n",
                        "sbatch: You will be charged for 0.03125 node. A full node consists of 32 CPU cores, 240000 MiB of memory and 0 GPUs and can be shared by up to 32 jobs.\n",
                        "sbatch: Single node jobs run on a shared node by default. Add --exclusive if you want to use a node exclusively.\n",
                        "sbatch: You will be charged for 0.03125 node. A full node consists of 32 CPU cores, 240000 MiB of memory and 0 GPUs and can be shared by up to 32 jobs.\n",
                        "sbatch: Single node jobs run on a shared node by default. Add --exclusive if you want to use a node exclusively.\n",
                        "sbatch: You will be charged for 0.03125 node. A full node consists of 32 CPU cores, 240000 MiB of memory and 0 GPUs and can be shared by up to 32 jobs.\n"
                    ]
                },
                {
                    "name": "stdout",
                    "output_type": "stream",
                    "text": [
                        "Submitted batch job 418303\n",
                        "Submitted batch job 418304\n",
                        "Submitted batch job 418305\n",
                        "Submitted batch job 418306\n"
                    ]
                },
                {
                    "name": "stderr",
                    "output_type": "stream",
                    "text": [
                        "sbatch: Single node jobs run on a shared node by default. Add --exclusive if you want to use a node exclusively.\n",
                        "sbatch: You will be charged for 0.03125 node. A full node consists of 32 CPU cores, 240000 MiB of memory and 0 GPUs and can be shared by up to 32 jobs.\n",
                        "sbatch: Single node jobs run on a shared node by default. Add --exclusive if you want to use a node exclusively.\n",
                        "sbatch: You will be charged for 0.03125 node. A full node consists of 32 CPU cores, 240000 MiB of memory and 0 GPUs and can be shared by up to 32 jobs.\n",
                        "sbatch: Single node jobs run on a shared node by default. Add --exclusive if you want to use a node exclusively.\n",
                        "sbatch: You will be charged for 0.03125 node. A full node consists of 32 CPU cores, 240000 MiB of memory and 0 GPUs and can be shared by up to 32 jobs.\n",
                        "sbatch: Single node jobs run on a shared node by default. Add --exclusive if you want to use a node exclusively.\n",
                        "sbatch: You will be charged for 0.03125 node. A full node consists of 32 CPU cores, 240000 MiB of memory and 0 GPUs and can be shared by up to 32 jobs.\n"
                    ]
                },
                {
                    "name": "stdout",
                    "output_type": "stream",
                    "text": [
                        "Submitted batch job 418307\n",
                        "Submitted batch job 418308\n",
                        "Submitted batch job 418309\n",
                        "Submitted batch job 418310\n"
                    ]
                },
                {
                    "name": "stderr",
                    "output_type": "stream",
                    "text": [
                        "sbatch: Single node jobs run on a shared node by default. Add --exclusive if you want to use a node exclusively.\n",
                        "sbatch: You will be charged for 0.03125 node. A full node consists of 32 CPU cores, 240000 MiB of memory and 0 GPUs and can be shared by up to 32 jobs.\n",
                        "sbatch: Single node jobs run on a shared node by default. Add --exclusive if you want to use a node exclusively.\n",
                        "sbatch: You will be charged for 0.03125 node. A full node consists of 32 CPU cores, 240000 MiB of memory and 0 GPUs and can be shared by up to 32 jobs.\n",
                        "sbatch: Single node jobs run on a shared node by default. Add --exclusive if you want to use a node exclusively.\n",
                        "sbatch: You will be charged for 0.03125 node. A full node consists of 32 CPU cores, 240000 MiB of memory and 0 GPUs and can be shared by up to 32 jobs.\n",
                        "sbatch: Single node jobs run on a shared node by default. Add --exclusive if you want to use a node exclusively.\n",
                        "sbatch: You will be charged for 0.03125 node. A full node consists of 32 CPU cores, 240000 MiB of memory and 0 GPUs and can be shared by up to 32 jobs.\n"
                    ]
                },
                {
                    "name": "stdout",
                    "output_type": "stream",
                    "text": [
                        "Submitted batch job 418311\n",
                        "Submitted batch job 418312\n",
                        "Submitted batch job 418313\n",
                        "Submitted batch job 418314\n"
                    ]
                },
                {
                    "name": "stderr",
                    "output_type": "stream",
                    "text": [
                        "sbatch: Single node jobs run on a shared node by default. Add --exclusive if you want to use a node exclusively.\n",
                        "sbatch: You will be charged for 0.03125 node. A full node consists of 32 CPU cores, 240000 MiB of memory and 0 GPUs and can be shared by up to 32 jobs.\n",
                        "sbatch: Single node jobs run on a shared node by default. Add --exclusive if you want to use a node exclusively.\n",
                        "sbatch: You will be charged for 0.03125 node. A full node consists of 32 CPU cores, 240000 MiB of memory and 0 GPUs and can be shared by up to 32 jobs.\n",
                        "sbatch: Single node jobs run on a shared node by default. Add --exclusive if you want to use a node exclusively.\n",
                        "sbatch: You will be charged for 0.03125 node. A full node consists of 32 CPU cores, 240000 MiB of memory and 0 GPUs and can be shared by up to 32 jobs.\n",
                        "sbatch: Single node jobs run on a shared node by default. Add --exclusive if you want to use a node exclusively.\n",
                        "sbatch: You will be charged for 0.03125 node. A full node consists of 32 CPU cores, 240000 MiB of memory and 0 GPUs and can be shared by up to 32 jobs.\n"
                    ]
                },
                {
                    "name": "stdout",
                    "output_type": "stream",
                    "text": [
                        "Submitted batch job 418315\n",
                        "Submitted batch job 418316\n",
                        "Submitted batch job 418317\n",
                        "Submitted batch job 418318\n"
                    ]
                },
                {
                    "name": "stderr",
                    "output_type": "stream",
                    "text": [
                        "sbatch: Single node jobs run on a shared node by default. Add --exclusive if you want to use a node exclusively.\n",
                        "sbatch: You will be charged for 0.03125 node. A full node consists of 32 CPU cores, 240000 MiB of memory and 0 GPUs and can be shared by up to 32 jobs.\n",
                        "sbatch: Single node jobs run on a shared node by default. Add --exclusive if you want to use a node exclusively.\n",
                        "sbatch: You will be charged for 0.03125 node. A full node consists of 32 CPU cores, 240000 MiB of memory and 0 GPUs and can be shared by up to 32 jobs.\n",
                        "sbatch: Single node jobs run on a shared node by default. Add --exclusive if you want to use a node exclusively.\n",
                        "sbatch: You will be charged for 0.03125 node. A full node consists of 32 CPU cores, 240000 MiB of memory and 0 GPUs and can be shared by up to 32 jobs.\n",
                        "sbatch: Single node jobs run on a shared node by default. Add --exclusive if you want to use a node exclusively.\n",
                        "sbatch: You will be charged for 0.03125 node. A full node consists of 32 CPU cores, 240000 MiB of memory and 0 GPUs and can be shared by up to 32 jobs.\n"
                    ]
                },
                {
                    "name": "stdout",
                    "output_type": "stream",
                    "text": [
                        "Submitted batch job 418319\n",
                        "Submitted batch job 418320\n",
                        "Submitted batch job 418321\n",
                        "Submitted batch job 418323\n"
                    ]
                },
                {
                    "name": "stderr",
                    "output_type": "stream",
                    "text": [
                        "sbatch: Single node jobs run on a shared node by default. Add --exclusive if you want to use a node exclusively.\n",
                        "sbatch: You will be charged for 0.03125 node. A full node consists of 32 CPU cores, 240000 MiB of memory and 0 GPUs and can be shared by up to 32 jobs.\n",
                        "sbatch: Single node jobs run on a shared node by default. Add --exclusive if you want to use a node exclusively.\n",
                        "sbatch: You will be charged for 0.03125 node. A full node consists of 32 CPU cores, 240000 MiB of memory and 0 GPUs and can be shared by up to 32 jobs.\n",
                        "sbatch: Single node jobs run on a shared node by default. Add --exclusive if you want to use a node exclusively.\n",
                        "sbatch: You will be charged for 0.03125 node. A full node consists of 32 CPU cores, 240000 MiB of memory and 0 GPUs and can be shared by up to 32 jobs.\n",
                        "sbatch: Single node jobs run on a shared node by default. Add --exclusive if you want to use a node exclusively.\n",
                        "sbatch: You will be charged for 0.03125 node. A full node consists of 32 CPU cores, 240000 MiB of memory and 0 GPUs and can be shared by up to 32 jobs.\n"
                    ]
                },
                {
                    "name": "stdout",
                    "output_type": "stream",
                    "text": [
                        "Submitted batch job 418324\n",
                        "Submitted batch job 418325\n",
                        "Submitted batch job 418326\n",
                        "Submitted batch job 418327\n"
                    ]
                },
                {
                    "name": "stderr",
                    "output_type": "stream",
                    "text": [
                        "sbatch: Single node jobs run on a shared node by default. Add --exclusive if you want to use a node exclusively.\n",
                        "sbatch: You will be charged for 0.03125 node. A full node consists of 32 CPU cores, 240000 MiB of memory and 0 GPUs and can be shared by up to 32 jobs.\n",
                        "sbatch: Single node jobs run on a shared node by default. Add --exclusive if you want to use a node exclusively.\n",
                        "sbatch: You will be charged for 0.03125 node. A full node consists of 32 CPU cores, 240000 MiB of memory and 0 GPUs and can be shared by up to 32 jobs.\n",
                        "sbatch: Single node jobs run on a shared node by default. Add --exclusive if you want to use a node exclusively.\n",
                        "sbatch: You will be charged for 0.03125 node. A full node consists of 32 CPU cores, 240000 MiB of memory and 0 GPUs and can be shared by up to 32 jobs.\n",
                        "sbatch: Single node jobs run on a shared node by default. Add --exclusive if you want to use a node exclusively.\n",
                        "sbatch: You will be charged for 0.03125 node. A full node consists of 32 CPU cores, 240000 MiB of memory and 0 GPUs and can be shared by up to 32 jobs.\n"
                    ]
                },
                {
                    "name": "stdout",
                    "output_type": "stream",
                    "text": [
                        "Submitted batch job 418328\n",
                        "Submitted batch job 418329\n",
                        "Submitted batch job 418330\n",
                        "Submitted batch job 418331\n"
                    ]
                },
                {
                    "name": "stderr",
                    "output_type": "stream",
                    "text": [
                        "sbatch: Single node jobs run on a shared node by default. Add --exclusive if you want to use a node exclusively.\n",
                        "sbatch: You will be charged for 0.03125 node. A full node consists of 32 CPU cores, 240000 MiB of memory and 0 GPUs and can be shared by up to 32 jobs.\n",
                        "sbatch: Single node jobs run on a shared node by default. Add --exclusive if you want to use a node exclusively.\n",
                        "sbatch: You will be charged for 0.03125 node. A full node consists of 32 CPU cores, 240000 MiB of memory and 0 GPUs and can be shared by up to 32 jobs.\n",
                        "sbatch: Single node jobs run on a shared node by default. Add --exclusive if you want to use a node exclusively.\n",
                        "sbatch: You will be charged for 0.03125 node. A full node consists of 32 CPU cores, 240000 MiB of memory and 0 GPUs and can be shared by up to 32 jobs.\n",
                        "sbatch: Single node jobs run on a shared node by default. Add --exclusive if you want to use a node exclusively.\n",
                        "sbatch: You will be charged for 0.03125 node. A full node consists of 32 CPU cores, 240000 MiB of memory and 0 GPUs and can be shared by up to 32 jobs.\n"
                    ]
                },
                {
                    "name": "stdout",
                    "output_type": "stream",
                    "text": [
                        "Submitted batch job 418332\n",
                        "Submitted batch job 418333\n",
                        "Submitted batch job 418334\n",
                        "Submitted batch job 418335\n"
                    ]
                },
                {
                    "name": "stderr",
                    "output_type": "stream",
                    "text": [
                        "sbatch: Single node jobs run on a shared node by default. Add --exclusive if you want to use a node exclusively.\n",
                        "sbatch: You will be charged for 0.03125 node. A full node consists of 32 CPU cores, 240000 MiB of memory and 0 GPUs and can be shared by up to 32 jobs.\n",
                        "sbatch: Single node jobs run on a shared node by default. Add --exclusive if you want to use a node exclusively.\n",
                        "sbatch: You will be charged for 0.03125 node. A full node consists of 32 CPU cores, 240000 MiB of memory and 0 GPUs and can be shared by up to 32 jobs.\n",
                        "sbatch: Single node jobs run on a shared node by default. Add --exclusive if you want to use a node exclusively.\n",
                        "sbatch: You will be charged for 0.03125 node. A full node consists of 32 CPU cores, 240000 MiB of memory and 0 GPUs and can be shared by up to 32 jobs.\n",
                        "sbatch: Single node jobs run on a shared node by default. Add --exclusive if you want to use a node exclusively.\n",
                        "sbatch: You will be charged for 0.03125 node. A full node consists of 32 CPU cores, 240000 MiB of memory and 0 GPUs and can be shared by up to 32 jobs.\n"
                    ]
                },
                {
                    "name": "stdout",
                    "output_type": "stream",
                    "text": [
                        "Submitted batch job 418336\n",
                        "Submitted batch job 418337\n",
                        "Submitted batch job 418338\n",
                        "Submitted batch job 418339\n",
                        "Submitted batch job 418340\n",
                        "Submitted batch job 418341\n",
                        "Submitted batch job 418342\n",
                        "Submitted batch job 418344\n"
                    ]
                },
                {
                    "name": "stderr",
                    "output_type": "stream",
                    "text": [
                        "sbatch: Single node jobs run on a shared node by default. Add --exclusive if you want to use a node exclusively.\n",
                        "sbatch: You will be charged for 0.03125 node. A full node consists of 32 CPU cores, 240000 MiB of memory and 0 GPUs and can be shared by up to 32 jobs.\n",
                        "sbatch: Single node jobs run on a shared node by default. Add --exclusive if you want to use a node exclusively.\n",
                        "sbatch: You will be charged for 0.03125 node. A full node consists of 32 CPU cores, 240000 MiB of memory and 0 GPUs and can be shared by up to 32 jobs.\n",
                        "sbatch: Single node jobs run on a shared node by default. Add --exclusive if you want to use a node exclusively.\n",
                        "sbatch: You will be charged for 0.03125 node. A full node consists of 32 CPU cores, 240000 MiB of memory and 0 GPUs and can be shared by up to 32 jobs.\n",
                        "sbatch: Single node jobs run on a shared node by default. Add --exclusive if you want to use a node exclusively.\n",
                        "sbatch: You will be charged for 0.03125 node. A full node consists of 32 CPU cores, 240000 MiB of memory and 0 GPUs and can be shared by up to 32 jobs.\n",
                        "sbatch: Single node jobs run on a shared node by default. Add --exclusive if you want to use a node exclusively.\n",
                        "sbatch: You will be charged for 0.03125 node. A full node consists of 32 CPU cores, 240000 MiB of memory and 0 GPUs and can be shared by up to 32 jobs.\n",
                        "sbatch: Single node jobs run on a shared node by default. Add --exclusive if you want to use a node exclusively.\n",
                        "sbatch: You will be charged for 0.03125 node. A full node consists of 32 CPU cores, 240000 MiB of memory and 0 GPUs and can be shared by up to 32 jobs.\n",
                        "sbatch: Single node jobs run on a shared node by default. Add --exclusive if you want to use a node exclusively.\n",
                        "sbatch: You will be charged for 0.03125 node. A full node consists of 32 CPU cores, 240000 MiB of memory and 0 GPUs and can be shared by up to 32 jobs.\n",
                        "sbatch: Single node jobs run on a shared node by default. Add --exclusive if you want to use a node exclusively.\n",
                        "sbatch: You will be charged for 0.03125 node. A full node consists of 32 CPU cores, 240000 MiB of memory and 0 GPUs and can be shared by up to 32 jobs.\n"
                    ]
                },
                {
                    "name": "stdout",
                    "output_type": "stream",
                    "text": [
                        "Submitted batch job 418345\n",
                        "Submitted batch job 418346\n",
                        "Submitted batch job 418347\n",
                        "Submitted batch job 418348\n"
                    ]
                },
                {
                    "name": "stderr",
                    "output_type": "stream",
                    "text": [
                        "sbatch: Single node jobs run on a shared node by default. Add --exclusive if you want to use a node exclusively.\n",
                        "sbatch: You will be charged for 0.03125 node. A full node consists of 32 CPU cores, 240000 MiB of memory and 0 GPUs and can be shared by up to 32 jobs.\n",
                        "sbatch: Single node jobs run on a shared node by default. Add --exclusive if you want to use a node exclusively.\n",
                        "sbatch: You will be charged for 0.03125 node. A full node consists of 32 CPU cores, 240000 MiB of memory and 0 GPUs and can be shared by up to 32 jobs.\n",
                        "sbatch: Single node jobs run on a shared node by default. Add --exclusive if you want to use a node exclusively.\n",
                        "sbatch: You will be charged for 0.03125 node. A full node consists of 32 CPU cores, 240000 MiB of memory and 0 GPUs and can be shared by up to 32 jobs.\n",
                        "sbatch: Single node jobs run on a shared node by default. Add --exclusive if you want to use a node exclusively.\n",
                        "sbatch: You will be charged for 0.03125 node. A full node consists of 32 CPU cores, 240000 MiB of memory and 0 GPUs and can be shared by up to 32 jobs.\n"
                    ]
                },
                {
                    "name": "stdout",
                    "output_type": "stream",
                    "text": [
                        "Submitted batch job 418349\n",
                        "Submitted batch job 418350\n",
                        "Submitted batch job 418351\n",
                        "Submitted batch job 418352\n"
                    ]
                },
                {
                    "name": "stderr",
                    "output_type": "stream",
                    "text": [
                        "sbatch: Single node jobs run on a shared node by default. Add --exclusive if you want to use a node exclusively.\n",
                        "sbatch: You will be charged for 0.03125 node. A full node consists of 32 CPU cores, 240000 MiB of memory and 0 GPUs and can be shared by up to 32 jobs.\n",
                        "sbatch: Single node jobs run on a shared node by default. Add --exclusive if you want to use a node exclusively.\n",
                        "sbatch: You will be charged for 0.03125 node. A full node consists of 32 CPU cores, 240000 MiB of memory and 0 GPUs and can be shared by up to 32 jobs.\n",
                        "sbatch: Single node jobs run on a shared node by default. Add --exclusive if you want to use a node exclusively.\n",
                        "sbatch: You will be charged for 0.03125 node. A full node consists of 32 CPU cores, 240000 MiB of memory and 0 GPUs and can be shared by up to 32 jobs.\n",
                        "sbatch: Single node jobs run on a shared node by default. Add --exclusive if you want to use a node exclusively.\n",
                        "sbatch: You will be charged for 0.03125 node. A full node consists of 32 CPU cores, 240000 MiB of memory and 0 GPUs and can be shared by up to 32 jobs.\n"
                    ]
                },
                {
                    "name": "stdout",
                    "output_type": "stream",
                    "text": [
                        "Submitted batch job 418353\n",
                        "Submitted batch job 418354\n",
                        "Submitted batch job 418355\n",
                        "Submitted batch job 418356\n"
                    ]
                },
                {
                    "name": "stderr",
                    "output_type": "stream",
                    "text": [
                        "sbatch: Single node jobs run on a shared node by default. Add --exclusive if you want to use a node exclusively.\n",
                        "sbatch: You will be charged for 0.03125 node. A full node consists of 32 CPU cores, 240000 MiB of memory and 0 GPUs and can be shared by up to 32 jobs.\n",
                        "sbatch: Single node jobs run on a shared node by default. Add --exclusive if you want to use a node exclusively.\n",
                        "sbatch: You will be charged for 0.03125 node. A full node consists of 32 CPU cores, 240000 MiB of memory and 0 GPUs and can be shared by up to 32 jobs.\n",
                        "sbatch: Single node jobs run on a shared node by default. Add --exclusive if you want to use a node exclusively.\n",
                        "sbatch: You will be charged for 0.03125 node. A full node consists of 32 CPU cores, 240000 MiB of memory and 0 GPUs and can be shared by up to 32 jobs.\n",
                        "sbatch: Single node jobs run on a shared node by default. Add --exclusive if you want to use a node exclusively.\n",
                        "sbatch: You will be charged for 0.03125 node. A full node consists of 32 CPU cores, 240000 MiB of memory and 0 GPUs and can be shared by up to 32 jobs.\n"
                    ]
                },
                {
                    "name": "stdout",
                    "output_type": "stream",
                    "text": [
                        "Submitted batch job 418357\n",
                        "Submitted batch job 418358\n",
                        "Submitted batch job 418359\n",
                        "Submitted batch job 418360\n"
                    ]
                },
                {
                    "name": "stderr",
                    "output_type": "stream",
                    "text": [
                        "sbatch: Single node jobs run on a shared node by default. Add --exclusive if you want to use a node exclusively.\n",
                        "sbatch: You will be charged for 0.03125 node. A full node consists of 32 CPU cores, 240000 MiB of memory and 0 GPUs and can be shared by up to 32 jobs.\n",
                        "sbatch: Single node jobs run on a shared node by default. Add --exclusive if you want to use a node exclusively.\n",
                        "sbatch: You will be charged for 0.03125 node. A full node consists of 32 CPU cores, 240000 MiB of memory and 0 GPUs and can be shared by up to 32 jobs.\n",
                        "sbatch: Single node jobs run on a shared node by default. Add --exclusive if you want to use a node exclusively.\n",
                        "sbatch: You will be charged for 0.03125 node. A full node consists of 32 CPU cores, 240000 MiB of memory and 0 GPUs and can be shared by up to 32 jobs.\n",
                        "sbatch: Single node jobs run on a shared node by default. Add --exclusive if you want to use a node exclusively.\n",
                        "sbatch: You will be charged for 0.03125 node. A full node consists of 32 CPU cores, 240000 MiB of memory and 0 GPUs and can be shared by up to 32 jobs.\n"
                    ]
                },
                {
                    "name": "stdout",
                    "output_type": "stream",
                    "text": [
                        "Submitted batch job 418361\n",
                        "Submitted batch job 418362\n",
                        "Submitted batch job 418363\n",
                        "Submitted batch job 418364\n"
                    ]
                },
                {
                    "name": "stderr",
                    "output_type": "stream",
                    "text": [
                        "sbatch: Single node jobs run on a shared node by default. Add --exclusive if you want to use a node exclusively.\n",
                        "sbatch: You will be charged for 0.03125 node. A full node consists of 32 CPU cores, 240000 MiB of memory and 0 GPUs and can be shared by up to 32 jobs.\n",
                        "sbatch: Single node jobs run on a shared node by default. Add --exclusive if you want to use a node exclusively.\n",
                        "sbatch: You will be charged for 0.03125 node. A full node consists of 32 CPU cores, 240000 MiB of memory and 0 GPUs and can be shared by up to 32 jobs.\n",
                        "sbatch: Single node jobs run on a shared node by default. Add --exclusive if you want to use a node exclusively.\n",
                        "sbatch: You will be charged for 0.03125 node. A full node consists of 32 CPU cores, 240000 MiB of memory and 0 GPUs and can be shared by up to 32 jobs.\n",
                        "sbatch: Single node jobs run on a shared node by default. Add --exclusive if you want to use a node exclusively.\n",
                        "sbatch: You will be charged for 0.03125 node. A full node consists of 32 CPU cores, 240000 MiB of memory and 0 GPUs and can be shared by up to 32 jobs.\n"
                    ]
                },
                {
                    "name": "stdout",
                    "output_type": "stream",
                    "text": [
                        "Submitted batch job 418366\n",
                        "Submitted batch job 418367\n",
                        "Submitted batch job 418368\n",
                        "Submitted batch job 418369\n"
                    ]
                },
                {
                    "name": "stderr",
                    "output_type": "stream",
                    "text": [
                        "sbatch: Single node jobs run on a shared node by default. Add --exclusive if you want to use a node exclusively.\n",
                        "sbatch: You will be charged for 0.03125 node. A full node consists of 32 CPU cores, 240000 MiB of memory and 0 GPUs and can be shared by up to 32 jobs.\n",
                        "sbatch: Single node jobs run on a shared node by default. Add --exclusive if you want to use a node exclusively.\n",
                        "sbatch: You will be charged for 0.03125 node. A full node consists of 32 CPU cores, 240000 MiB of memory and 0 GPUs and can be shared by up to 32 jobs.\n",
                        "sbatch: Single node jobs run on a shared node by default. Add --exclusive if you want to use a node exclusively.\n",
                        "sbatch: You will be charged for 0.03125 node. A full node consists of 32 CPU cores, 240000 MiB of memory and 0 GPUs and can be shared by up to 32 jobs.\n",
                        "sbatch: Single node jobs run on a shared node by default. Add --exclusive if you want to use a node exclusively.\n",
                        "sbatch: You will be charged for 0.03125 node. A full node consists of 32 CPU cores, 240000 MiB of memory and 0 GPUs and can be shared by up to 32 jobs.\n"
                    ]
                },
                {
                    "name": "stdout",
                    "output_type": "stream",
                    "text": [
                        "Submitted batch job 418370\n",
                        "Submitted batch job 418371\n",
                        "Submitted batch job 418372\n",
                        "Submitted batch job 418373\n"
                    ]
                },
                {
                    "name": "stderr",
                    "output_type": "stream",
                    "text": [
                        "sbatch: Single node jobs run on a shared node by default. Add --exclusive if you want to use a node exclusively.\n",
                        "sbatch: You will be charged for 0.03125 node. A full node consists of 32 CPU cores, 240000 MiB of memory and 0 GPUs and can be shared by up to 32 jobs.\n",
                        "sbatch: Single node jobs run on a shared node by default. Add --exclusive if you want to use a node exclusively.\n",
                        "sbatch: You will be charged for 0.03125 node. A full node consists of 32 CPU cores, 240000 MiB of memory and 0 GPUs and can be shared by up to 32 jobs.\n",
                        "sbatch: Single node jobs run on a shared node by default. Add --exclusive if you want to use a node exclusively.\n",
                        "sbatch: You will be charged for 0.03125 node. A full node consists of 32 CPU cores, 240000 MiB of memory and 0 GPUs and can be shared by up to 32 jobs.\n",
                        "sbatch: Single node jobs run on a shared node by default. Add --exclusive if you want to use a node exclusively.\n",
                        "sbatch: You will be charged for 0.03125 node. A full node consists of 32 CPU cores, 240000 MiB of memory and 0 GPUs and can be shared by up to 32 jobs.\n"
                    ]
                },
                {
                    "name": "stdout",
                    "output_type": "stream",
                    "text": [
                        "Submitted batch job 418374\n",
                        "Submitted batch job 418375\n",
                        "Submitted batch job 418376\n",
                        "Submitted batch job 418377\n"
                    ]
                },
                {
                    "name": "stderr",
                    "output_type": "stream",
                    "text": [
                        "sbatch: Single node jobs run on a shared node by default. Add --exclusive if you want to use a node exclusively.\n",
                        "sbatch: You will be charged for 0.03125 node. A full node consists of 32 CPU cores, 240000 MiB of memory and 0 GPUs and can be shared by up to 32 jobs.\n",
                        "sbatch: Single node jobs run on a shared node by default. Add --exclusive if you want to use a node exclusively.\n",
                        "sbatch: You will be charged for 0.03125 node. A full node consists of 32 CPU cores, 240000 MiB of memory and 0 GPUs and can be shared by up to 32 jobs.\n",
                        "sbatch: Single node jobs run on a shared node by default. Add --exclusive if you want to use a node exclusively.\n",
                        "sbatch: You will be charged for 0.03125 node. A full node consists of 32 CPU cores, 240000 MiB of memory and 0 GPUs and can be shared by up to 32 jobs.\n",
                        "sbatch: Single node jobs run on a shared node by default. Add --exclusive if you want to use a node exclusively.\n",
                        "sbatch: You will be charged for 0.03125 node. A full node consists of 32 CPU cores, 240000 MiB of memory and 0 GPUs and can be shared by up to 32 jobs.\n"
                    ]
                },
                {
                    "name": "stdout",
                    "output_type": "stream",
                    "text": [
                        "Submitted batch job 418378\n",
                        "Submitted batch job 418379\n",
                        "Submitted batch job 418380\n",
                        "Submitted batch job 418381\n",
                        "Submitted batch job 418382\n",
                        "Submitted batch job 418383\n",
                        "Submitted batch job 418384\n",
                        "Submitted batch job 418385\n"
                    ]
                },
                {
                    "name": "stderr",
                    "output_type": "stream",
                    "text": [
                        "sbatch: Single node jobs run on a shared node by default. Add --exclusive if you want to use a node exclusively.\n",
                        "sbatch: You will be charged for 0.03125 node. A full node consists of 32 CPU cores, 240000 MiB of memory and 0 GPUs and can be shared by up to 32 jobs.\n",
                        "sbatch: Single node jobs run on a shared node by default. Add --exclusive if you want to use a node exclusively.\n",
                        "sbatch: You will be charged for 0.03125 node. A full node consists of 32 CPU cores, 240000 MiB of memory and 0 GPUs and can be shared by up to 32 jobs.\n",
                        "sbatch: Single node jobs run on a shared node by default. Add --exclusive if you want to use a node exclusively.\n",
                        "sbatch: You will be charged for 0.03125 node. A full node consists of 32 CPU cores, 240000 MiB of memory and 0 GPUs and can be shared by up to 32 jobs.\n",
                        "sbatch: Single node jobs run on a shared node by default. Add --exclusive if you want to use a node exclusively.\n",
                        "sbatch: You will be charged for 0.03125 node. A full node consists of 32 CPU cores, 240000 MiB of memory and 0 GPUs and can be shared by up to 32 jobs.\n",
                        "sbatch: Single node jobs run on a shared node by default. Add --exclusive if you want to use a node exclusively.\n",
                        "sbatch: You will be charged for 0.03125 node. A full node consists of 32 CPU cores, 240000 MiB of memory and 0 GPUs and can be shared by up to 32 jobs.\n",
                        "sbatch: Single node jobs run on a shared node by default. Add --exclusive if you want to use a node exclusively.\n",
                        "sbatch: You will be charged for 0.03125 node. A full node consists of 32 CPU cores, 240000 MiB of memory and 0 GPUs and can be shared by up to 32 jobs.\n",
                        "sbatch: Single node jobs run on a shared node by default. Add --exclusive if you want to use a node exclusively.\n",
                        "sbatch: You will be charged for 0.03125 node. A full node consists of 32 CPU cores, 240000 MiB of memory and 0 GPUs and can be shared by up to 32 jobs.\n",
                        "sbatch: Single node jobs run on a shared node by default. Add --exclusive if you want to use a node exclusively.\n",
                        "sbatch: You will be charged for 0.03125 node. A full node consists of 32 CPU cores, 240000 MiB of memory and 0 GPUs and can be shared by up to 32 jobs.\n"
                    ]
                },
                {
                    "name": "stdout",
                    "output_type": "stream",
                    "text": [
                        "Submitted batch job 418386\n",
                        "Submitted batch job 418388\n",
                        "Submitted batch job 418389\n",
                        "Submitted batch job 418390\n"
                    ]
                },
                {
                    "name": "stderr",
                    "output_type": "stream",
                    "text": [
                        "sbatch: Single node jobs run on a shared node by default. Add --exclusive if you want to use a node exclusively.\n",
                        "sbatch: You will be charged for 0.03125 node. A full node consists of 32 CPU cores, 240000 MiB of memory and 0 GPUs and can be shared by up to 32 jobs.\n",
                        "sbatch: Single node jobs run on a shared node by default. Add --exclusive if you want to use a node exclusively.\n",
                        "sbatch: You will be charged for 0.03125 node. A full node consists of 32 CPU cores, 240000 MiB of memory and 0 GPUs and can be shared by up to 32 jobs.\n",
                        "sbatch: Single node jobs run on a shared node by default. Add --exclusive if you want to use a node exclusively.\n",
                        "sbatch: You will be charged for 0.03125 node. A full node consists of 32 CPU cores, 240000 MiB of memory and 0 GPUs and can be shared by up to 32 jobs.\n",
                        "sbatch: Single node jobs run on a shared node by default. Add --exclusive if you want to use a node exclusively.\n",
                        "sbatch: You will be charged for 0.03125 node. A full node consists of 32 CPU cores, 240000 MiB of memory and 0 GPUs and can be shared by up to 32 jobs.\n"
                    ]
                },
                {
                    "name": "stdout",
                    "output_type": "stream",
                    "text": [
                        "Submitted batch job 418391\n",
                        "Submitted batch job 418392\n",
                        "Submitted batch job 418393\n",
                        "Submitted batch job 418394\n"
                    ]
                },
                {
                    "name": "stderr",
                    "output_type": "stream",
                    "text": [
                        "sbatch: Single node jobs run on a shared node by default. Add --exclusive if you want to use a node exclusively.\n",
                        "sbatch: You will be charged for 0.03125 node. A full node consists of 32 CPU cores, 240000 MiB of memory and 0 GPUs and can be shared by up to 32 jobs.\n",
                        "sbatch: Single node jobs run on a shared node by default. Add --exclusive if you want to use a node exclusively.\n",
                        "sbatch: You will be charged for 0.03125 node. A full node consists of 32 CPU cores, 240000 MiB of memory and 0 GPUs and can be shared by up to 32 jobs.\n",
                        "sbatch: Single node jobs run on a shared node by default. Add --exclusive if you want to use a node exclusively.\n",
                        "sbatch: You will be charged for 0.03125 node. A full node consists of 32 CPU cores, 240000 MiB of memory and 0 GPUs and can be shared by up to 32 jobs.\n",
                        "sbatch: Single node jobs run on a shared node by default. Add --exclusive if you want to use a node exclusively.\n",
                        "sbatch: You will be charged for 0.03125 node. A full node consists of 32 CPU cores, 240000 MiB of memory and 0 GPUs and can be shared by up to 32 jobs.\n"
                    ]
                },
                {
                    "name": "stdout",
                    "output_type": "stream",
                    "text": [
                        "Submitted batch job 418395\n",
                        "Submitted batch job 418396\n",
                        "Submitted batch job 418397\n",
                        "Submitted batch job 418398\n"
                    ]
                },
                {
                    "name": "stderr",
                    "output_type": "stream",
                    "text": [
                        "sbatch: Single node jobs run on a shared node by default. Add --exclusive if you want to use a node exclusively.\n",
                        "sbatch: You will be charged for 0.03125 node. A full node consists of 32 CPU cores, 240000 MiB of memory and 0 GPUs and can be shared by up to 32 jobs.\n",
                        "sbatch: Single node jobs run on a shared node by default. Add --exclusive if you want to use a node exclusively.\n",
                        "sbatch: You will be charged for 0.03125 node. A full node consists of 32 CPU cores, 240000 MiB of memory and 0 GPUs and can be shared by up to 32 jobs.\n",
                        "sbatch: Single node jobs run on a shared node by default. Add --exclusive if you want to use a node exclusively.\n",
                        "sbatch: You will be charged for 0.03125 node. A full node consists of 32 CPU cores, 240000 MiB of memory and 0 GPUs and can be shared by up to 32 jobs.\n",
                        "sbatch: Single node jobs run on a shared node by default. Add --exclusive if you want to use a node exclusively.\n",
                        "sbatch: You will be charged for 0.03125 node. A full node consists of 32 CPU cores, 240000 MiB of memory and 0 GPUs and can be shared by up to 32 jobs.\n"
                    ]
                },
                {
                    "name": "stdout",
                    "output_type": "stream",
                    "text": [
                        "Submitted batch job 418399\n",
                        "Submitted batch job 418400\n",
                        "Submitted batch job 418401\n",
                        "Submitted batch job 418402\n",
                        "Submitted batch job 418403\n",
                        "Submitted batch job 418404\n",
                        "Submitted batch job 418405\n",
                        "Submitted batch job 418406\n"
                    ]
                },
                {
                    "name": "stderr",
                    "output_type": "stream",
                    "text": [
                        "sbatch: Single node jobs run on a shared node by default. Add --exclusive if you want to use a node exclusively.\n",
                        "sbatch: You will be charged for 0.03125 node. A full node consists of 32 CPU cores, 240000 MiB of memory and 0 GPUs and can be shared by up to 32 jobs.\n",
                        "sbatch: Single node jobs run on a shared node by default. Add --exclusive if you want to use a node exclusively.\n",
                        "sbatch: You will be charged for 0.03125 node. A full node consists of 32 CPU cores, 240000 MiB of memory and 0 GPUs and can be shared by up to 32 jobs.\n",
                        "sbatch: Single node jobs run on a shared node by default. Add --exclusive if you want to use a node exclusively.\n",
                        "sbatch: You will be charged for 0.03125 node. A full node consists of 32 CPU cores, 240000 MiB of memory and 0 GPUs and can be shared by up to 32 jobs.\n",
                        "sbatch: Single node jobs run on a shared node by default. Add --exclusive if you want to use a node exclusively.\n",
                        "sbatch: You will be charged for 0.03125 node. A full node consists of 32 CPU cores, 240000 MiB of memory and 0 GPUs and can be shared by up to 32 jobs.\n",
                        "sbatch: Single node jobs run on a shared node by default. Add --exclusive if you want to use a node exclusively.\n",
                        "sbatch: You will be charged for 0.03125 node. A full node consists of 32 CPU cores, 240000 MiB of memory and 0 GPUs and can be shared by up to 32 jobs.\n",
                        "sbatch: Single node jobs run on a shared node by default. Add --exclusive if you want to use a node exclusively.\n",
                        "sbatch: You will be charged for 0.03125 node. A full node consists of 32 CPU cores, 240000 MiB of memory and 0 GPUs and can be shared by up to 32 jobs.\n",
                        "sbatch: Single node jobs run on a shared node by default. Add --exclusive if you want to use a node exclusively.\n",
                        "sbatch: You will be charged for 0.03125 node. A full node consists of 32 CPU cores, 240000 MiB of memory and 0 GPUs and can be shared by up to 32 jobs.\n",
                        "sbatch: Single node jobs run on a shared node by default. Add --exclusive if you want to use a node exclusively.\n",
                        "sbatch: You will be charged for 0.03125 node. A full node consists of 32 CPU cores, 240000 MiB of memory and 0 GPUs and can be shared by up to 32 jobs.\n"
                    ]
                },
                {
                    "name": "stdout",
                    "output_type": "stream",
                    "text": [
                        "Submitted batch job 418407\n",
                        "Submitted batch job 418408\n",
                        "Submitted batch job 418409\n",
                        "Submitted batch job 418411\n"
                    ]
                },
                {
                    "name": "stderr",
                    "output_type": "stream",
                    "text": [
                        "sbatch: Single node jobs run on a shared node by default. Add --exclusive if you want to use a node exclusively.\n",
                        "sbatch: You will be charged for 0.03125 node. A full node consists of 32 CPU cores, 240000 MiB of memory and 0 GPUs and can be shared by up to 32 jobs.\n",
                        "sbatch: Single node jobs run on a shared node by default. Add --exclusive if you want to use a node exclusively.\n",
                        "sbatch: You will be charged for 0.03125 node. A full node consists of 32 CPU cores, 240000 MiB of memory and 0 GPUs and can be shared by up to 32 jobs.\n",
                        "sbatch: Single node jobs run on a shared node by default. Add --exclusive if you want to use a node exclusively.\n",
                        "sbatch: You will be charged for 0.03125 node. A full node consists of 32 CPU cores, 240000 MiB of memory and 0 GPUs and can be shared by up to 32 jobs.\n"
                    ]
                },
                {
                    "name": "stdout",
                    "output_type": "stream",
                    "text": [
                        "Submitted batch job 418412\n",
                        "Submitted batch job 418413\n",
                        "Submitted batch job 418414\n"
                    ]
                },
                {
                    "name": "stderr",
                    "output_type": "stream",
                    "text": [
                        "sbatch: Single node jobs run on a shared node by default. Add --exclusive if you want to use a node exclusively.\n",
                        "sbatch: You will be charged for 0.03125 node. A full node consists of 32 CPU cores, 240000 MiB of memory and 0 GPUs and can be shared by up to 32 jobs.\n",
                        "sbatch: Single node jobs run on a shared node by default. Add --exclusive if you want to use a node exclusively.\n",
                        "sbatch: You will be charged for 0.03125 node. A full node consists of 32 CPU cores, 240000 MiB of memory and 0 GPUs and can be shared by up to 32 jobs.\n",
                        "sbatch: Single node jobs run on a shared node by default. Add --exclusive if you want to use a node exclusively.\n",
                        "sbatch: You will be charged for 0.03125 node. A full node consists of 32 CPU cores, 240000 MiB of memory and 0 GPUs and can be shared by up to 32 jobs.\n",
                        "sbatch: Single node jobs run on a shared node by default. Add --exclusive if you want to use a node exclusively.\n",
                        "sbatch: You will be charged for 0.03125 node. A full node consists of 32 CPU cores, 240000 MiB of memory and 0 GPUs and can be shared by up to 32 jobs.\n"
                    ]
                },
                {
                    "name": "stdout",
                    "output_type": "stream",
                    "text": [
                        "Submitted batch job 418415\n",
                        "Submitted batch job 418416\n",
                        "Submitted batch job 418417\n",
                        "Submitted batch job 418418\n"
                    ]
                },
                {
                    "name": "stderr",
                    "output_type": "stream",
                    "text": [
                        "sbatch: Single node jobs run on a shared node by default. Add --exclusive if you want to use a node exclusively.\n",
                        "sbatch: You will be charged for 0.03125 node. A full node consists of 32 CPU cores, 240000 MiB of memory and 0 GPUs and can be shared by up to 32 jobs.\n",
                        "sbatch: Single node jobs run on a shared node by default. Add --exclusive if you want to use a node exclusively.\n",
                        "sbatch: You will be charged for 0.03125 node. A full node consists of 32 CPU cores, 240000 MiB of memory and 0 GPUs and can be shared by up to 32 jobs.\n",
                        "sbatch: Single node jobs run on a shared node by default. Add --exclusive if you want to use a node exclusively.\n",
                        "sbatch: You will be charged for 0.03125 node. A full node consists of 32 CPU cores, 240000 MiB of memory and 0 GPUs and can be shared by up to 32 jobs.\n",
                        "sbatch: Single node jobs run on a shared node by default. Add --exclusive if you want to use a node exclusively.\n",
                        "sbatch: You will be charged for 0.03125 node. A full node consists of 32 CPU cores, 240000 MiB of memory and 0 GPUs and can be shared by up to 32 jobs.\n"
                    ]
                },
                {
                    "name": "stdout",
                    "output_type": "stream",
                    "text": [
                        "Submitted batch job 418419\n",
                        "Submitted batch job 418420\n",
                        "Submitted batch job 418421\n",
                        "Submitted batch job 418422\n"
                    ]
                },
                {
                    "name": "stderr",
                    "output_type": "stream",
                    "text": [
                        "sbatch: Single node jobs run on a shared node by default. Add --exclusive if you want to use a node exclusively.\n",
                        "sbatch: You will be charged for 0.03125 node. A full node consists of 32 CPU cores, 240000 MiB of memory and 0 GPUs and can be shared by up to 32 jobs.\n",
                        "sbatch: Single node jobs run on a shared node by default. Add --exclusive if you want to use a node exclusively.\n",
                        "sbatch: You will be charged for 0.03125 node. A full node consists of 32 CPU cores, 240000 MiB of memory and 0 GPUs and can be shared by up to 32 jobs.\n",
                        "sbatch: Single node jobs run on a shared node by default. Add --exclusive if you want to use a node exclusively.\n",
                        "sbatch: You will be charged for 0.03125 node. A full node consists of 32 CPU cores, 240000 MiB of memory and 0 GPUs and can be shared by up to 32 jobs.\n",
                        "sbatch: Single node jobs run on a shared node by default. Add --exclusive if you want to use a node exclusively.\n",
                        "sbatch: You will be charged for 0.03125 node. A full node consists of 32 CPU cores, 240000 MiB of memory and 0 GPUs and can be shared by up to 32 jobs.\n"
                    ]
                },
                {
                    "name": "stdout",
                    "output_type": "stream",
                    "text": [
                        "Submitted batch job 418423\n",
                        "Submitted batch job 418424\n",
                        "Submitted batch job 418425\n",
                        "Submitted batch job 418426\n"
                    ]
                },
                {
                    "name": "stderr",
                    "output_type": "stream",
                    "text": [
                        "sbatch: Single node jobs run on a shared node by default. Add --exclusive if you want to use a node exclusively.\n",
                        "sbatch: You will be charged for 0.03125 node. A full node consists of 32 CPU cores, 240000 MiB of memory and 0 GPUs and can be shared by up to 32 jobs.\n",
                        "sbatch: Single node jobs run on a shared node by default. Add --exclusive if you want to use a node exclusively.\n",
                        "sbatch: You will be charged for 0.03125 node. A full node consists of 32 CPU cores, 240000 MiB of memory and 0 GPUs and can be shared by up to 32 jobs.\n",
                        "sbatch: Single node jobs run on a shared node by default. Add --exclusive if you want to use a node exclusively.\n",
                        "sbatch: You will be charged for 0.03125 node. A full node consists of 32 CPU cores, 240000 MiB of memory and 0 GPUs and can be shared by up to 32 jobs.\n",
                        "sbatch: Single node jobs run on a shared node by default. Add --exclusive if you want to use a node exclusively.\n",
                        "sbatch: You will be charged for 0.03125 node. A full node consists of 32 CPU cores, 240000 MiB of memory and 0 GPUs and can be shared by up to 32 jobs.\n"
                    ]
                },
                {
                    "name": "stdout",
                    "output_type": "stream",
                    "text": [
                        "Submitted batch job 418427\n",
                        "Submitted batch job 418428\n",
                        "Submitted batch job 418429\n",
                        "Submitted batch job 418431\n"
                    ]
                },
                {
                    "name": "stderr",
                    "output_type": "stream",
                    "text": [
                        "sbatch: Single node jobs run on a shared node by default. Add --exclusive if you want to use a node exclusively.\n",
                        "sbatch: You will be charged for 0.03125 node. A full node consists of 32 CPU cores, 240000 MiB of memory and 0 GPUs and can be shared by up to 32 jobs.\n",
                        "sbatch: Single node jobs run on a shared node by default. Add --exclusive if you want to use a node exclusively.\n",
                        "sbatch: You will be charged for 0.03125 node. A full node consists of 32 CPU cores, 240000 MiB of memory and 0 GPUs and can be shared by up to 32 jobs.\n",
                        "sbatch: Single node jobs run on a shared node by default. Add --exclusive if you want to use a node exclusively.\n",
                        "sbatch: You will be charged for 0.03125 node. A full node consists of 32 CPU cores, 240000 MiB of memory and 0 GPUs and can be shared by up to 32 jobs.\n",
                        "sbatch: Single node jobs run on a shared node by default. Add --exclusive if you want to use a node exclusively.\n",
                        "sbatch: You will be charged for 0.03125 node. A full node consists of 32 CPU cores, 240000 MiB of memory and 0 GPUs and can be shared by up to 32 jobs.\n"
                    ]
                },
                {
                    "name": "stdout",
                    "output_type": "stream",
                    "text": [
                        "Submitted batch job 418432\n",
                        "Submitted batch job 418433\n",
                        "Submitted batch job 418434\n",
                        "Submitted batch job 418435\n"
                    ]
                },
                {
                    "name": "stderr",
                    "output_type": "stream",
                    "text": [
                        "sbatch: Single node jobs run on a shared node by default. Add --exclusive if you want to use a node exclusively.\n",
                        "sbatch: You will be charged for 0.03125 node. A full node consists of 32 CPU cores, 240000 MiB of memory and 0 GPUs and can be shared by up to 32 jobs.\n",
                        "sbatch: Single node jobs run on a shared node by default. Add --exclusive if you want to use a node exclusively.\n",
                        "sbatch: You will be charged for 0.03125 node. A full node consists of 32 CPU cores, 240000 MiB of memory and 0 GPUs and can be shared by up to 32 jobs.\n",
                        "sbatch: Single node jobs run on a shared node by default. Add --exclusive if you want to use a node exclusively.\n",
                        "sbatch: You will be charged for 0.03125 node. A full node consists of 32 CPU cores, 240000 MiB of memory and 0 GPUs and can be shared by up to 32 jobs.\n",
                        "sbatch: Single node jobs run on a shared node by default. Add --exclusive if you want to use a node exclusively.\n",
                        "sbatch: You will be charged for 0.03125 node. A full node consists of 32 CPU cores, 240000 MiB of memory and 0 GPUs and can be shared by up to 32 jobs.\n"
                    ]
                },
                {
                    "name": "stdout",
                    "output_type": "stream",
                    "text": [
                        "Submitted batch job 418436\n",
                        "Submitted batch job 418437\n",
                        "Submitted batch job 418438\n",
                        "Submitted batch job 418439\n"
                    ]
                },
                {
                    "name": "stderr",
                    "output_type": "stream",
                    "text": [
                        "sbatch: Single node jobs run on a shared node by default. Add --exclusive if you want to use a node exclusively.\n",
                        "sbatch: You will be charged for 0.03125 node. A full node consists of 32 CPU cores, 240000 MiB of memory and 0 GPUs and can be shared by up to 32 jobs.\n",
                        "sbatch: Single node jobs run on a shared node by default. Add --exclusive if you want to use a node exclusively.\n",
                        "sbatch: You will be charged for 0.03125 node. A full node consists of 32 CPU cores, 240000 MiB of memory and 0 GPUs and can be shared by up to 32 jobs.\n",
                        "sbatch: Single node jobs run on a shared node by default. Add --exclusive if you want to use a node exclusively.\n",
                        "sbatch: You will be charged for 0.03125 node. A full node consists of 32 CPU cores, 240000 MiB of memory and 0 GPUs and can be shared by up to 32 jobs.\n",
                        "sbatch: Single node jobs run on a shared node by default. Add --exclusive if you want to use a node exclusively.\n",
                        "sbatch: You will be charged for 0.03125 node. A full node consists of 32 CPU cores, 240000 MiB of memory and 0 GPUs and can be shared by up to 32 jobs.\n"
                    ]
                },
                {
                    "name": "stdout",
                    "output_type": "stream",
                    "text": [
                        "Submitted batch job 418440\n",
                        "Submitted batch job 418441\n",
                        "Submitted batch job 418442\n",
                        "Submitted batch job 418443\n",
                        "Submitted batch job 418444\n",
                        "Submitted batch job 418445\n",
                        "Submitted batch job 418446\n",
                        "Submitted batch job 418447\n"
                    ]
                },
                {
                    "name": "stderr",
                    "output_type": "stream",
                    "text": [
                        "sbatch: Single node jobs run on a shared node by default. Add --exclusive if you want to use a node exclusively.\n",
                        "sbatch: You will be charged for 0.03125 node. A full node consists of 32 CPU cores, 240000 MiB of memory and 0 GPUs and can be shared by up to 32 jobs.\n",
                        "sbatch: Single node jobs run on a shared node by default. Add --exclusive if you want to use a node exclusively.\n",
                        "sbatch: You will be charged for 0.03125 node. A full node consists of 32 CPU cores, 240000 MiB of memory and 0 GPUs and can be shared by up to 32 jobs.\n",
                        "sbatch: Single node jobs run on a shared node by default. Add --exclusive if you want to use a node exclusively.\n",
                        "sbatch: You will be charged for 0.03125 node. A full node consists of 32 CPU cores, 240000 MiB of memory and 0 GPUs and can be shared by up to 32 jobs.\n",
                        "sbatch: Single node jobs run on a shared node by default. Add --exclusive if you want to use a node exclusively.\n",
                        "sbatch: You will be charged for 0.03125 node. A full node consists of 32 CPU cores, 240000 MiB of memory and 0 GPUs and can be shared by up to 32 jobs.\n",
                        "sbatch: Single node jobs run on a shared node by default. Add --exclusive if you want to use a node exclusively.\n",
                        "sbatch: You will be charged for 0.03125 node. A full node consists of 32 CPU cores, 240000 MiB of memory and 0 GPUs and can be shared by up to 32 jobs.\n",
                        "sbatch: Single node jobs run on a shared node by default. Add --exclusive if you want to use a node exclusively.\n",
                        "sbatch: You will be charged for 0.03125 node. A full node consists of 32 CPU cores, 240000 MiB of memory and 0 GPUs and can be shared by up to 32 jobs.\n",
                        "sbatch: Single node jobs run on a shared node by default. Add --exclusive if you want to use a node exclusively.\n",
                        "sbatch: You will be charged for 0.03125 node. A full node consists of 32 CPU cores, 240000 MiB of memory and 0 GPUs and can be shared by up to 32 jobs.\n",
                        "sbatch: Single node jobs run on a shared node by default. Add --exclusive if you want to use a node exclusively.\n",
                        "sbatch: You will be charged for 0.03125 node. A full node consists of 32 CPU cores, 240000 MiB of memory and 0 GPUs and can be shared by up to 32 jobs.\n"
                    ]
                },
                {
                    "name": "stdout",
                    "output_type": "stream",
                    "text": [
                        "Submitted batch job 418448\n",
                        "Submitted batch job 418449\n",
                        "Submitted batch job 418450\n",
                        "Submitted batch job 418452\n"
                    ]
                },
                {
                    "name": "stderr",
                    "output_type": "stream",
                    "text": [
                        "sbatch: Single node jobs run on a shared node by default. Add --exclusive if you want to use a node exclusively.\n",
                        "sbatch: You will be charged for 0.03125 node. A full node consists of 32 CPU cores, 240000 MiB of memory and 0 GPUs and can be shared by up to 32 jobs.\n",
                        "sbatch: Single node jobs run on a shared node by default. Add --exclusive if you want to use a node exclusively.\n",
                        "sbatch: You will be charged for 0.03125 node. A full node consists of 32 CPU cores, 240000 MiB of memory and 0 GPUs and can be shared by up to 32 jobs.\n",
                        "sbatch: Single node jobs run on a shared node by default. Add --exclusive if you want to use a node exclusively.\n",
                        "sbatch: You will be charged for 0.03125 node. A full node consists of 32 CPU cores, 240000 MiB of memory and 0 GPUs and can be shared by up to 32 jobs.\n",
                        "sbatch: Single node jobs run on a shared node by default. Add --exclusive if you want to use a node exclusively.\n",
                        "sbatch: You will be charged for 0.03125 node. A full node consists of 32 CPU cores, 240000 MiB of memory and 0 GPUs and can be shared by up to 32 jobs.\n"
                    ]
                },
                {
                    "name": "stdout",
                    "output_type": "stream",
                    "text": [
                        "Submitted batch job 418453\n",
                        "Submitted batch job 418454\n",
                        "Submitted batch job 418455\n",
                        "Submitted batch job 418456\n"
                    ]
                },
                {
                    "name": "stderr",
                    "output_type": "stream",
                    "text": [
                        "sbatch: Single node jobs run on a shared node by default. Add --exclusive if you want to use a node exclusively.\n",
                        "sbatch: You will be charged for 0.03125 node. A full node consists of 32 CPU cores, 240000 MiB of memory and 0 GPUs and can be shared by up to 32 jobs.\n",
                        "sbatch: Single node jobs run on a shared node by default. Add --exclusive if you want to use a node exclusively.\n",
                        "sbatch: You will be charged for 0.03125 node. A full node consists of 32 CPU cores, 240000 MiB of memory and 0 GPUs and can be shared by up to 32 jobs.\n",
                        "sbatch: Single node jobs run on a shared node by default. Add --exclusive if you want to use a node exclusively.\n",
                        "sbatch: You will be charged for 0.03125 node. A full node consists of 32 CPU cores, 240000 MiB of memory and 0 GPUs and can be shared by up to 32 jobs.\n",
                        "sbatch: Single node jobs run on a shared node by default. Add --exclusive if you want to use a node exclusively.\n",
                        "sbatch: You will be charged for 0.03125 node. A full node consists of 32 CPU cores, 240000 MiB of memory and 0 GPUs and can be shared by up to 32 jobs.\n"
                    ]
                },
                {
                    "name": "stdout",
                    "output_type": "stream",
                    "text": [
                        "Submitted batch job 418457\n",
                        "Submitted batch job 418458\n",
                        "Submitted batch job 418459\n",
                        "Submitted batch job 418460\n"
                    ]
                },
                {
                    "name": "stderr",
                    "output_type": "stream",
                    "text": [
                        "sbatch: Single node jobs run on a shared node by default. Add --exclusive if you want to use a node exclusively.\n",
                        "sbatch: You will be charged for 0.03125 node. A full node consists of 32 CPU cores, 240000 MiB of memory and 0 GPUs and can be shared by up to 32 jobs.\n",
                        "sbatch: Single node jobs run on a shared node by default. Add --exclusive if you want to use a node exclusively.\n",
                        "sbatch: You will be charged for 0.03125 node. A full node consists of 32 CPU cores, 240000 MiB of memory and 0 GPUs and can be shared by up to 32 jobs.\n",
                        "sbatch: Single node jobs run on a shared node by default. Add --exclusive if you want to use a node exclusively.\n",
                        "sbatch: You will be charged for 0.03125 node. A full node consists of 32 CPU cores, 240000 MiB of memory and 0 GPUs and can be shared by up to 32 jobs.\n"
                    ]
                },
                {
                    "name": "stdout",
                    "output_type": "stream",
                    "text": [
                        "Submitted batch job 418461\n",
                        "Submitted batch job 418462\n",
                        "Submitted batch job 418463\n",
                        "Submitted batch job 418464\n",
                        "Submitted batch job 418465\n"
                    ]
                },
                {
                    "name": "stderr",
                    "output_type": "stream",
                    "text": [
                        "sbatch: Single node jobs run on a shared node by default. Add --exclusive if you want to use a node exclusively.\n",
                        "sbatch: You will be charged for 0.03125 node. A full node consists of 32 CPU cores, 240000 MiB of memory and 0 GPUs and can be shared by up to 32 jobs.\n",
                        "sbatch: Single node jobs run on a shared node by default. Add --exclusive if you want to use a node exclusively.\n",
                        "sbatch: You will be charged for 0.03125 node. A full node consists of 32 CPU cores, 240000 MiB of memory and 0 GPUs and can be shared by up to 32 jobs.\n"
                    ]
                },
                {
                    "name": "stdout",
                    "output_type": "stream",
                    "text": [
                        "Submitted batch job 418466\n",
                        "Submitted batch job 418467\n"
                    ]
                },
                {
                    "name": "stderr",
                    "output_type": "stream",
                    "text": [
                        "sbatch: Single node jobs run on a shared node by default. Add --exclusive if you want to use a node exclusively.\n",
                        "sbatch: You will be charged for 0.03125 node. A full node consists of 32 CPU cores, 240000 MiB of memory and 0 GPUs and can be shared by up to 32 jobs.\n",
                        "sbatch: Single node jobs run on a shared node by default. Add --exclusive if you want to use a node exclusively.\n",
                        "sbatch: You will be charged for 0.03125 node. A full node consists of 32 CPU cores, 240000 MiB of memory and 0 GPUs and can be shared by up to 32 jobs.\n",
                        "sbatch: Single node jobs run on a shared node by default. Add --exclusive if you want to use a node exclusively.\n",
                        "sbatch: You will be charged for 0.03125 node. A full node consists of 32 CPU cores, 240000 MiB of memory and 0 GPUs and can be shared by up to 32 jobs.\n",
                        "sbatch: Single node jobs run on a shared node by default. Add --exclusive if you want to use a node exclusively.\n",
                        "sbatch: You will be charged for 0.03125 node. A full node consists of 32 CPU cores, 240000 MiB of memory and 0 GPUs and can be shared by up to 32 jobs.\n",
                        "sbatch: Single node jobs run on a shared node by default. Add --exclusive if you want to use a node exclusively.\n",
                        "sbatch: You will be charged for 0.03125 node. A full node consists of 32 CPU cores, 240000 MiB of memory and 0 GPUs and can be shared by up to 32 jobs.\n",
                        "sbatch: Single node jobs run on a shared node by default. Add --exclusive if you want to use a node exclusively.\n",
                        "sbatch: You will be charged for 0.03125 node. A full node consists of 32 CPU cores, 240000 MiB of memory and 0 GPUs and can be shared by up to 32 jobs.\n"
                    ]
                },
                {
                    "name": "stdout",
                    "output_type": "stream",
                    "text": [
                        "Submitted batch job 418468\n",
                        "Submitted batch job 418469\n",
                        "Submitted batch job 418470\n",
                        "Submitted batch job 418471\n",
                        "Submitted batch job 418472\n"
                    ]
                },
                {
                    "name": "stderr",
                    "output_type": "stream",
                    "text": [
                        "sbatch: Single node jobs run on a shared node by default. Add --exclusive if you want to use a node exclusively.\n",
                        "sbatch: You will be charged for 0.03125 node. A full node consists of 32 CPU cores, 240000 MiB of memory and 0 GPUs and can be shared by up to 32 jobs.\n"
                    ]
                },
                {
                    "name": "stdout",
                    "output_type": "stream",
                    "text": [
                        "Submitted batch job 418473\n",
                        "Submitted batch job 418474\n",
                        "Submitted batch job 418475\n"
                    ]
                },
                {
                    "name": "stderr",
                    "output_type": "stream",
                    "text": [
                        "sbatch: Single node jobs run on a shared node by default. Add --exclusive if you want to use a node exclusively.\n",
                        "sbatch: You will be charged for 0.03125 node. A full node consists of 32 CPU cores, 240000 MiB of memory and 0 GPUs and can be shared by up to 32 jobs.\n",
                        "sbatch: Single node jobs run on a shared node by default. Add --exclusive if you want to use a node exclusively.\n",
                        "sbatch: You will be charged for 0.03125 node. A full node consists of 32 CPU cores, 240000 MiB of memory and 0 GPUs and can be shared by up to 32 jobs.\n",
                        "sbatch: Single node jobs run on a shared node by default. Add --exclusive if you want to use a node exclusively.\n",
                        "sbatch: You will be charged for 0.03125 node. A full node consists of 32 CPU cores, 240000 MiB of memory and 0 GPUs and can be shared by up to 32 jobs.\n",
                        "sbatch: Single node jobs run on a shared node by default. Add --exclusive if you want to use a node exclusively.\n",
                        "sbatch: You will be charged for 0.03125 node. A full node consists of 32 CPU cores, 240000 MiB of memory and 0 GPUs and can be shared by up to 32 jobs.\n",
                        "sbatch: Single node jobs run on a shared node by default. Add --exclusive if you want to use a node exclusively.\n",
                        "sbatch: You will be charged for 0.03125 node. A full node consists of 32 CPU cores, 240000 MiB of memory and 0 GPUs and can be shared by up to 32 jobs.\n",
                        "sbatch: Single node jobs run on a shared node by default. Add --exclusive if you want to use a node exclusively.\n",
                        "sbatch: You will be charged for 0.03125 node. A full node consists of 32 CPU cores, 240000 MiB of memory and 0 GPUs and can be shared by up to 32 jobs.\n"
                    ]
                },
                {
                    "name": "stdout",
                    "output_type": "stream",
                    "text": [
                        "Submitted batch job 418477\n",
                        "Submitted batch job 418478\n",
                        "Submitted batch job 418479\n"
                    ]
                },
                {
                    "name": "stderr",
                    "output_type": "stream",
                    "text": [
                        "sbatch: Single node jobs run on a shared node by default. Add --exclusive if you want to use a node exclusively.\n",
                        "sbatch: You will be charged for 0.03125 node. A full node consists of 32 CPU cores, 240000 MiB of memory and 0 GPUs and can be shared by up to 32 jobs.\n",
                        "sbatch: Single node jobs run on a shared node by default. Add --exclusive if you want to use a node exclusively.\n",
                        "sbatch: You will be charged for 0.03125 node. A full node consists of 32 CPU cores, 240000 MiB of memory and 0 GPUs and can be shared by up to 32 jobs.\n",
                        "sbatch: Single node jobs run on a shared node by default. Add --exclusive if you want to use a node exclusively.\n",
                        "sbatch: You will be charged for 0.03125 node. A full node consists of 32 CPU cores, 240000 MiB of memory and 0 GPUs and can be shared by up to 32 jobs.\n",
                        "sbatch: Single node jobs run on a shared node by default. Add --exclusive if you want to use a node exclusively.\n",
                        "sbatch: You will be charged for 0.03125 node. A full node consists of 32 CPU cores, 240000 MiB of memory and 0 GPUs and can be shared by up to 32 jobs.\n"
                    ]
                },
                {
                    "name": "stdout",
                    "output_type": "stream",
                    "text": [
                        "Submitted batch job 418480\n",
                        "Submitted batch job 418481\n",
                        "Submitted batch job 418482\n",
                        "Submitted batch job 418483\n"
                    ]
                },
                {
                    "name": "stderr",
                    "output_type": "stream",
                    "text": [
                        "sbatch: Single node jobs run on a shared node by default. Add --exclusive if you want to use a node exclusively.\n",
                        "sbatch: You will be charged for 0.03125 node. A full node consists of 32 CPU cores, 240000 MiB of memory and 0 GPUs and can be shared by up to 32 jobs.\n",
                        "sbatch: Single node jobs run on a shared node by default. Add --exclusive if you want to use a node exclusively.\n",
                        "sbatch: You will be charged for 0.03125 node. A full node consists of 32 CPU cores, 240000 MiB of memory and 0 GPUs and can be shared by up to 32 jobs.\n",
                        "sbatch: Single node jobs run on a shared node by default. Add --exclusive if you want to use a node exclusively.\n",
                        "sbatch: You will be charged for 0.03125 node. A full node consists of 32 CPU cores, 240000 MiB of memory and 0 GPUs and can be shared by up to 32 jobs.\n",
                        "sbatch: Single node jobs run on a shared node by default. Add --exclusive if you want to use a node exclusively.\n",
                        "sbatch: You will be charged for 0.03125 node. A full node consists of 32 CPU cores, 240000 MiB of memory and 0 GPUs and can be shared by up to 32 jobs.\n"
                    ]
                },
                {
                    "name": "stdout",
                    "output_type": "stream",
                    "text": [
                        "Submitted batch job 418484\n",
                        "Submitted batch job 418485\n",
                        "Submitted batch job 418486\n",
                        "Submitted batch job 418487\n"
                    ]
                },
                {
                    "name": "stderr",
                    "output_type": "stream",
                    "text": [
                        "sbatch: Single node jobs run on a shared node by default. Add --exclusive if you want to use a node exclusively.\n",
                        "sbatch: You will be charged for 0.03125 node. A full node consists of 32 CPU cores, 240000 MiB of memory and 0 GPUs and can be shared by up to 32 jobs.\n",
                        "sbatch: Single node jobs run on a shared node by default. Add --exclusive if you want to use a node exclusively.\n",
                        "sbatch: You will be charged for 0.03125 node. A full node consists of 32 CPU cores, 240000 MiB of memory and 0 GPUs and can be shared by up to 32 jobs.\n",
                        "sbatch: Single node jobs run on a shared node by default. Add --exclusive if you want to use a node exclusively.\n",
                        "sbatch: You will be charged for 0.03125 node. A full node consists of 32 CPU cores, 240000 MiB of memory and 0 GPUs and can be shared by up to 32 jobs.\n",
                        "sbatch: Single node jobs run on a shared node by default. Add --exclusive if you want to use a node exclusively.\n",
                        "sbatch: You will be charged for 0.03125 node. A full node consists of 32 CPU cores, 240000 MiB of memory and 0 GPUs and can be shared by up to 32 jobs.\n"
                    ]
                },
                {
                    "name": "stdout",
                    "output_type": "stream",
                    "text": [
                        "Submitted batch job 418488\n",
                        "Submitted batch job 418489\n",
                        "Submitted batch job 418490\n",
                        "Submitted batch job 418491\n"
                    ]
                },
                {
                    "name": "stderr",
                    "output_type": "stream",
                    "text": [
                        "sbatch: Single node jobs run on a shared node by default. Add --exclusive if you want to use a node exclusively.\n",
                        "sbatch: You will be charged for 0.03125 node. A full node consists of 32 CPU cores, 240000 MiB of memory and 0 GPUs and can be shared by up to 32 jobs.\n",
                        "sbatch: Single node jobs run on a shared node by default. Add --exclusive if you want to use a node exclusively.\n",
                        "sbatch: You will be charged for 0.03125 node. A full node consists of 32 CPU cores, 240000 MiB of memory and 0 GPUs and can be shared by up to 32 jobs.\n",
                        "sbatch: Single node jobs run on a shared node by default. Add --exclusive if you want to use a node exclusively.\n",
                        "sbatch: You will be charged for 0.03125 node. A full node consists of 32 CPU cores, 240000 MiB of memory and 0 GPUs and can be shared by up to 32 jobs.\n",
                        "sbatch: Single node jobs run on a shared node by default. Add --exclusive if you want to use a node exclusively.\n",
                        "sbatch: You will be charged for 0.03125 node. A full node consists of 32 CPU cores, 240000 MiB of memory and 0 GPUs and can be shared by up to 32 jobs.\n"
                    ]
                },
                {
                    "name": "stdout",
                    "output_type": "stream",
                    "text": [
                        "Submitted batch job 418492\n",
                        "Submitted batch job 418493\n",
                        "Submitted batch job 418494\n",
                        "Submitted batch job 418495\n"
                    ]
                },
                {
                    "name": "stderr",
                    "output_type": "stream",
                    "text": [
                        "sbatch: Single node jobs run on a shared node by default. Add --exclusive if you want to use a node exclusively.\n",
                        "sbatch: You will be charged for 0.03125 node. A full node consists of 32 CPU cores, 240000 MiB of memory and 0 GPUs and can be shared by up to 32 jobs.\n",
                        "sbatch: Single node jobs run on a shared node by default. Add --exclusive if you want to use a node exclusively.\n",
                        "sbatch: You will be charged for 0.03125 node. A full node consists of 32 CPU cores, 240000 MiB of memory and 0 GPUs and can be shared by up to 32 jobs.\n",
                        "sbatch: Single node jobs run on a shared node by default. Add --exclusive if you want to use a node exclusively.\n",
                        "sbatch: You will be charged for 0.03125 node. A full node consists of 32 CPU cores, 240000 MiB of memory and 0 GPUs and can be shared by up to 32 jobs.\n",
                        "sbatch: Single node jobs run on a shared node by default. Add --exclusive if you want to use a node exclusively.\n",
                        "sbatch: You will be charged for 0.03125 node. A full node consists of 32 CPU cores, 240000 MiB of memory and 0 GPUs and can be shared by up to 32 jobs.\n",
                        "sbatch: Single node jobs run on a shared node by default. Add --exclusive if you want to use a node exclusively.\n",
                        "sbatch: You will be charged for 0.03125 node. A full node consists of 32 CPU cores, 240000 MiB of memory and 0 GPUs and can be shared by up to 32 jobs.\n"
                    ]
                },
                {
                    "name": "stdout",
                    "output_type": "stream",
                    "text": [
                        "Submitted batch job 418496\n",
                        "Submitted batch job 418497\n",
                        "Submitted batch job 418499\n",
                        "Submitted batch job 418500\n",
                        "Submitted batch job 418501\n"
                    ]
                },
                {
                    "name": "stderr",
                    "output_type": "stream",
                    "text": [
                        "sbatch: Single node jobs run on a shared node by default. Add --exclusive if you want to use a node exclusively.\n",
                        "sbatch: You will be charged for 0.03125 node. A full node consists of 32 CPU cores, 240000 MiB of memory and 0 GPUs and can be shared by up to 32 jobs.\n",
                        "sbatch: Single node jobs run on a shared node by default. Add --exclusive if you want to use a node exclusively.\n",
                        "sbatch: You will be charged for 0.03125 node. A full node consists of 32 CPU cores, 240000 MiB of memory and 0 GPUs and can be shared by up to 32 jobs.\n",
                        "sbatch: Single node jobs run on a shared node by default. Add --exclusive if you want to use a node exclusively.\n",
                        "sbatch: You will be charged for 0.03125 node. A full node consists of 32 CPU cores, 240000 MiB of memory and 0 GPUs and can be shared by up to 32 jobs.\n",
                        "sbatch: Single node jobs run on a shared node by default. Add --exclusive if you want to use a node exclusively.\n",
                        "sbatch: You will be charged for 0.03125 node. A full node consists of 32 CPU cores, 240000 MiB of memory and 0 GPUs and can be shared by up to 32 jobs.\n"
                    ]
                },
                {
                    "name": "stdout",
                    "output_type": "stream",
                    "text": [
                        "Submitted batch job 418502\n",
                        "Submitted batch job 418503\n",
                        "Submitted batch job 418504\n",
                        "Submitted batch job 418505\n"
                    ]
                },
                {
                    "name": "stderr",
                    "output_type": "stream",
                    "text": [
                        "sbatch: Single node jobs run on a shared node by default. Add --exclusive if you want to use a node exclusively.\n",
                        "sbatch: You will be charged for 0.03125 node. A full node consists of 32 CPU cores, 240000 MiB of memory and 0 GPUs and can be shared by up to 32 jobs.\n",
                        "sbatch: Single node jobs run on a shared node by default. Add --exclusive if you want to use a node exclusively.\n",
                        "sbatch: You will be charged for 0.03125 node. A full node consists of 32 CPU cores, 240000 MiB of memory and 0 GPUs and can be shared by up to 32 jobs.\n",
                        "sbatch: Single node jobs run on a shared node by default. Add --exclusive if you want to use a node exclusively.\n",
                        "sbatch: You will be charged for 0.03125 node. A full node consists of 32 CPU cores, 240000 MiB of memory and 0 GPUs and can be shared by up to 32 jobs.\n",
                        "sbatch: Single node jobs run on a shared node by default. Add --exclusive if you want to use a node exclusively.\n",
                        "sbatch: You will be charged for 0.03125 node. A full node consists of 32 CPU cores, 240000 MiB of memory and 0 GPUs and can be shared by up to 32 jobs.\n"
                    ]
                },
                {
                    "name": "stdout",
                    "output_type": "stream",
                    "text": [
                        "Submitted batch job 418506\n",
                        "Submitted batch job 418507\n",
                        "Submitted batch job 418508\n",
                        "Submitted batch job 418509\n"
                    ]
                },
                {
                    "name": "stderr",
                    "output_type": "stream",
                    "text": [
                        "sbatch: Single node jobs run on a shared node by default. Add --exclusive if you want to use a node exclusively.\n",
                        "sbatch: You will be charged for 0.03125 node. A full node consists of 32 CPU cores, 240000 MiB of memory and 0 GPUs and can be shared by up to 32 jobs.\n",
                        "sbatch: Single node jobs run on a shared node by default. Add --exclusive if you want to use a node exclusively.\n",
                        "sbatch: You will be charged for 0.03125 node. A full node consists of 32 CPU cores, 240000 MiB of memory and 0 GPUs and can be shared by up to 32 jobs.\n",
                        "sbatch: Single node jobs run on a shared node by default. Add --exclusive if you want to use a node exclusively.\n",
                        "sbatch: You will be charged for 0.03125 node. A full node consists of 32 CPU cores, 240000 MiB of memory and 0 GPUs and can be shared by up to 32 jobs.\n",
                        "sbatch: Single node jobs run on a shared node by default. Add --exclusive if you want to use a node exclusively.\n",
                        "sbatch: You will be charged for 0.03125 node. A full node consists of 32 CPU cores, 240000 MiB of memory and 0 GPUs and can be shared by up to 32 jobs.\n",
                        "sbatch: Single node jobs run on a shared node by default. Add --exclusive if you want to use a node exclusively.\n",
                        "sbatch: You will be charged for 0.03125 node. A full node consists of 32 CPU cores, 240000 MiB of memory and 0 GPUs and can be shared by up to 32 jobs.\n"
                    ]
                },
                {
                    "name": "stdout",
                    "output_type": "stream",
                    "text": [
                        "Submitted batch job 418510\n",
                        "Submitted batch job 418511\n",
                        "Submitted batch job 418512\n",
                        "Submitted batch job 418513\n",
                        "Submitted batch job 418514\n"
                    ]
                },
                {
                    "name": "stderr",
                    "output_type": "stream",
                    "text": [
                        "sbatch: Single node jobs run on a shared node by default. Add --exclusive if you want to use a node exclusively.\n",
                        "sbatch: You will be charged for 0.03125 node. A full node consists of 32 CPU cores, 240000 MiB of memory and 0 GPUs and can be shared by up to 32 jobs.\n",
                        "sbatch: Single node jobs run on a shared node by default. Add --exclusive if you want to use a node exclusively.\n",
                        "sbatch: You will be charged for 0.03125 node. A full node consists of 32 CPU cores, 240000 MiB of memory and 0 GPUs and can be shared by up to 32 jobs.\n",
                        "sbatch: Single node jobs run on a shared node by default. Add --exclusive if you want to use a node exclusively.\n",
                        "sbatch: You will be charged for 0.03125 node. A full node consists of 32 CPU cores, 240000 MiB of memory and 0 GPUs and can be shared by up to 32 jobs.\n",
                        "sbatch: Single node jobs run on a shared node by default. Add --exclusive if you want to use a node exclusively.\n",
                        "sbatch: You will be charged for 0.03125 node. A full node consists of 32 CPU cores, 240000 MiB of memory and 0 GPUs and can be shared by up to 32 jobs.\n"
                    ]
                },
                {
                    "name": "stdout",
                    "output_type": "stream",
                    "text": [
                        "Submitted batch job 418515\n",
                        "Submitted batch job 418516\n",
                        "Submitted batch job 418517\n",
                        "Submitted batch job 418518\n"
                    ]
                },
                {
                    "name": "stderr",
                    "output_type": "stream",
                    "text": [
                        "sbatch: Single node jobs run on a shared node by default. Add --exclusive if you want to use a node exclusively.\n",
                        "sbatch: You will be charged for 0.03125 node. A full node consists of 32 CPU cores, 240000 MiB of memory and 0 GPUs and can be shared by up to 32 jobs.\n"
                    ]
                },
                {
                    "name": "stdout",
                    "output_type": "stream",
                    "text": [
                        "Submitted batch job 418519\n"
                    ]
                },
                {
                    "name": "stderr",
                    "output_type": "stream",
                    "text": [
                        "sbatch: Single node jobs run on a shared node by default. Add --exclusive if you want to use a node exclusively.\n",
                        "sbatch: You will be charged for 0.03125 node. A full node consists of 32 CPU cores, 240000 MiB of memory and 0 GPUs and can be shared by up to 32 jobs.\n",
                        "sbatch: Single node jobs run on a shared node by default. Add --exclusive if you want to use a node exclusively.\n",
                        "sbatch: You will be charged for 0.03125 node. A full node consists of 32 CPU cores, 240000 MiB of memory and 0 GPUs and can be shared by up to 32 jobs.\n",
                        "sbatch: Single node jobs run on a shared node by default. Add --exclusive if you want to use a node exclusively.\n",
                        "sbatch: You will be charged for 0.03125 node. A full node consists of 32 CPU cores, 240000 MiB of memory and 0 GPUs and can be shared by up to 32 jobs.\n",
                        "sbatch: Single node jobs run on a shared node by default. Add --exclusive if you want to use a node exclusively.\n",
                        "sbatch: You will be charged for 0.03125 node. A full node consists of 32 CPU cores, 240000 MiB of memory and 0 GPUs and can be shared by up to 32 jobs.\n"
                    ]
                },
                {
                    "name": "stdout",
                    "output_type": "stream",
                    "text": [
                        "Submitted batch job 418527\n",
                        "Submitted batch job 418528\n",
                        "Submitted batch job 418529\n",
                        "Submitted batch job 418530\n"
                    ]
                },
                {
                    "name": "stderr",
                    "output_type": "stream",
                    "text": [
                        "sbatch: Single node jobs run on a shared node by default. Add --exclusive if you want to use a node exclusively.\n",
                        "sbatch: You will be charged for 0.03125 node. A full node consists of 32 CPU cores, 240000 MiB of memory and 0 GPUs and can be shared by up to 32 jobs.\n",
                        "sbatch: Single node jobs run on a shared node by default. Add --exclusive if you want to use a node exclusively.\n",
                        "sbatch: You will be charged for 0.03125 node. A full node consists of 32 CPU cores, 240000 MiB of memory and 0 GPUs and can be shared by up to 32 jobs.\n",
                        "sbatch: Single node jobs run on a shared node by default. Add --exclusive if you want to use a node exclusively.\n",
                        "sbatch: You will be charged for 0.03125 node. A full node consists of 32 CPU cores, 240000 MiB of memory and 0 GPUs and can be shared by up to 32 jobs.\n",
                        "sbatch: Single node jobs run on a shared node by default. Add --exclusive if you want to use a node exclusively.\n",
                        "sbatch: You will be charged for 0.03125 node. A full node consists of 32 CPU cores, 240000 MiB of memory and 0 GPUs and can be shared by up to 32 jobs.\n"
                    ]
                },
                {
                    "name": "stdout",
                    "output_type": "stream",
                    "text": [
                        "Submitted batch job 418531\n",
                        "Submitted batch job 418532\n",
                        "Submitted batch job 418533\n",
                        "Submitted batch job 418534\n"
                    ]
                },
                {
                    "name": "stderr",
                    "output_type": "stream",
                    "text": [
                        "sbatch: Single node jobs run on a shared node by default. Add --exclusive if you want to use a node exclusively.\n",
                        "sbatch: You will be charged for 0.03125 node. A full node consists of 32 CPU cores, 240000 MiB of memory and 0 GPUs and can be shared by up to 32 jobs.\n",
                        "sbatch: Single node jobs run on a shared node by default. Add --exclusive if you want to use a node exclusively.\n",
                        "sbatch: You will be charged for 0.03125 node. A full node consists of 32 CPU cores, 240000 MiB of memory and 0 GPUs and can be shared by up to 32 jobs.\n",
                        "sbatch: Single node jobs run on a shared node by default. Add --exclusive if you want to use a node exclusively.\n",
                        "sbatch: You will be charged for 0.03125 node. A full node consists of 32 CPU cores, 240000 MiB of memory and 0 GPUs and can be shared by up to 32 jobs.\n",
                        "sbatch: Single node jobs run on a shared node by default. Add --exclusive if you want to use a node exclusively.\n",
                        "sbatch: You will be charged for 0.03125 node. A full node consists of 32 CPU cores, 240000 MiB of memory and 0 GPUs and can be shared by up to 32 jobs.\n"
                    ]
                },
                {
                    "name": "stdout",
                    "output_type": "stream",
                    "text": [
                        "Submitted batch job 418535\n",
                        "Submitted batch job 418536\n",
                        "Submitted batch job 418537\n",
                        "Submitted batch job 418538\n"
                    ]
                },
                {
                    "name": "stderr",
                    "output_type": "stream",
                    "text": [
                        "sbatch: Single node jobs run on a shared node by default. Add --exclusive if you want to use a node exclusively.\n",
                        "sbatch: You will be charged for 0.03125 node. A full node consists of 32 CPU cores, 240000 MiB of memory and 0 GPUs and can be shared by up to 32 jobs.\n",
                        "sbatch: Single node jobs run on a shared node by default. Add --exclusive if you want to use a node exclusively.\n",
                        "sbatch: You will be charged for 0.03125 node. A full node consists of 32 CPU cores, 240000 MiB of memory and 0 GPUs and can be shared by up to 32 jobs.\n",
                        "sbatch: Single node jobs run on a shared node by default. Add --exclusive if you want to use a node exclusively.\n",
                        "sbatch: You will be charged for 0.03125 node. A full node consists of 32 CPU cores, 240000 MiB of memory and 0 GPUs and can be shared by up to 32 jobs.\n",
                        "sbatch: Single node jobs run on a shared node by default. Add --exclusive if you want to use a node exclusively.\n",
                        "sbatch: You will be charged for 0.03125 node. A full node consists of 32 CPU cores, 240000 MiB of memory and 0 GPUs and can be shared by up to 32 jobs.\n"
                    ]
                },
                {
                    "name": "stdout",
                    "output_type": "stream",
                    "text": [
                        "Submitted batch job 418539\n",
                        "Submitted batch job 418540\n",
                        "Submitted batch job 418541\n",
                        "Submitted batch job 418542\n",
                        "Submitted batch job 418543\n",
                        "Submitted batch job 418544\n",
                        "Submitted batch job 418545\n",
                        "Submitted batch job 418546\n"
                    ]
                },
                {
                    "name": "stderr",
                    "output_type": "stream",
                    "text": [
                        "sbatch: Single node jobs run on a shared node by default. Add --exclusive if you want to use a node exclusively.\n",
                        "sbatch: You will be charged for 0.03125 node. A full node consists of 32 CPU cores, 240000 MiB of memory and 0 GPUs and can be shared by up to 32 jobs.\n",
                        "sbatch: Single node jobs run on a shared node by default. Add --exclusive if you want to use a node exclusively.\n",
                        "sbatch: You will be charged for 0.03125 node. A full node consists of 32 CPU cores, 240000 MiB of memory and 0 GPUs and can be shared by up to 32 jobs.\n",
                        "sbatch: Single node jobs run on a shared node by default. Add --exclusive if you want to use a node exclusively.\n",
                        "sbatch: You will be charged for 0.03125 node. A full node consists of 32 CPU cores, 240000 MiB of memory and 0 GPUs and can be shared by up to 32 jobs.\n",
                        "sbatch: Single node jobs run on a shared node by default. Add --exclusive if you want to use a node exclusively.\n",
                        "sbatch: You will be charged for 0.03125 node. A full node consists of 32 CPU cores, 240000 MiB of memory and 0 GPUs and can be shared by up to 32 jobs.\n"
                    ]
                }
            ],
            "source": [
                "unzip = 'False'\n",
                "flatten = False\n",
                "dir_drop = 'prince_data'\n",
                "\n",
                "directory_targ = os.path.join(directory_scratch,'temp')+'/'\n",
                "directory = directory_targ\n",
                "run_parallel_transfer('from_drop.py',[directory_targ,dir_drop,unzip,flatten],folders,5,'10:00','staging',cpus = 1,node = 'staging',name_job='archiving.sh')\n",
                "run_parallel_transfer_to_archive(folders,directory,'2:00:00','staging',name_job='archiving.sh')"
            ]
        },
        {
            "cell_type": "code",
            "execution_count": 6,
            "metadata": {
                "collapsed": true,
                "jupyter": {
                    "outputs_hidden": true
                },
                "tags": []
            },
            "outputs": [{
                    "name": "stderr",
                    "output_type": "stream",
                    "text": [
                        "sbatch: Single node jobs run on a shared node by default. Add --exclusive if you want to use a node exclusively.\n",
                        "sbatch: Single node jobs run on a shared node by default. Add --exclusive if you want to use a node exclusively.\n",
                        "sbatch: Single node jobs run on a shared node by default. Add --exclusive if you want to use a node exclusively.\n",
                        "sbatch: Single node jobs run on a shared node by default. Add --exclusive if you want to use a node exclusively.\n"
                    ]
                },
                {
                    "name": "stdout",
                    "output_type": "stream",
                    "text": [
                        "Submitted batch job 374733\n",
                        "Submitted batch job 374734\n",
                        "Submitted batch job 374735\n",
                        "Submitted batch job 374736\n",
                        "Submitted batch job 374737\n",
                        "Submitted batch job 374738\n",
                        "Submitted batch job 374739\n",
                        "Submitted batch job 374740\n"
                    ]
                },
                {
                    "name": "stderr",
                    "output_type": "stream",
                    "text": [
                        "sbatch: Single node jobs run on a shared node by default. Add --exclusive if you want to use a node exclusively.\n",
                        "sbatch: Single node jobs run on a shared node by default. Add --exclusive if you want to use a node exclusively.\n",
                        "sbatch: Single node jobs run on a shared node by default. Add --exclusive if you want to use a node exclusively.\n",
                        "sbatch: Single node jobs run on a shared node by default. Add --exclusive if you want to use a node exclusively.\n",
                        "sbatch: Single node jobs run on a shared node by default. Add --exclusive if you want to use a node exclusively.\n",
                        "sbatch: Single node jobs run on a shared node by default. Add --exclusive if you want to use a node exclusively.\n",
                        "sbatch: Single node jobs run on a shared node by default. Add --exclusive if you want to use a node exclusively.\n",
                        "sbatch: Single node jobs run on a shared node by default. Add --exclusive if you want to use a node exclusively.\n"
                    ]
                },
                {
                    "name": "stdout",
                    "output_type": "stream",
                    "text": [
                        "Submitted batch job 374741\n",
                        "Submitted batch job 374742\n",
                        "Submitted batch job 374743\n",
                        "Submitted batch job 374744\n"
                    ]
                },
                {
                    "name": "stderr",
                    "output_type": "stream",
                    "text": [
                        "sbatch: Single node jobs run on a shared node by default. Add --exclusive if you want to use a node exclusively.\n",
                        "sbatch: Single node jobs run on a shared node by default. Add --exclusive if you want to use a node exclusively.\n",
                        "sbatch: Single node jobs run on a shared node by default. Add --exclusive if you want to use a node exclusively.\n",
                        "sbatch: Single node jobs run on a shared node by default. Add --exclusive if you want to use a node exclusively.\n"
                    ]
                },
                {
                    "name": "stdout",
                    "output_type": "stream",
                    "text": [
                        "Submitted batch job 374745\n",
                        "Submitted batch job 374746\n",
                        "Submitted batch job 374747\n",
                        "Submitted batch job 374748\n",
                        "Submitted batch job 374749\n",
                        "Submitted batch job 374750\n",
                        "Submitted batch job 374751\n",
                        "Submitted batch job 374752\n"
                    ]
                },
                {
                    "name": "stderr",
                    "output_type": "stream",
                    "text": [
                        "sbatch: Single node jobs run on a shared node by default. Add --exclusive if you want to use a node exclusively.\n",
                        "sbatch: Single node jobs run on a shared node by default. Add --exclusive if you want to use a node exclusively.\n",
                        "sbatch: Single node jobs run on a shared node by default. Add --exclusive if you want to use a node exclusively.\n",
                        "sbatch: Single node jobs run on a shared node by default. Add --exclusive if you want to use a node exclusively.\n"
                    ]
                }
            ],
            "source": [
                "run_parallel_transfer_to_archive(folders,directory,'10:00','staging',name_job='archiving_no_wait.sh')"
            ]
        },
        {
            "cell_type": "code",
            "execution_count": 12,
            "metadata": {},
            "outputs": [{
                    "name": "stdout",
                    "output_type": "stream",
                    "text": [
                        "Submitted batch job 242022\n"
                    ]
                },
                {
                    "name": "stderr",
                    "output_type": "stream",
                    "text": [
                        "sbatch: Single node jobs run on a shared node by default. Add --exclusive if you want to use a node exclusively.\n"
                    ]
                }
            ],
            "source": [
                "must_zip = True\n",
                "must_unzip = False\n",
                "run_parallel_transfer('within_surf.py',[directory,directory_targ,must_zip,must_unzip],folders,5,'10:00','staging',cpus = 1,node = 'staging')"
            ]
        },
        {
            "cell_type": "code",
            "execution_count": 7,
            "metadata": {},
            "outputs": [],
            "source": [
                "plates = set(folders['Plate'].values)"
            ]
        },
        {
            "cell_type": "code",
            "execution_count": 10,
            "metadata": {},
            "outputs": [{
                    "name": "stderr",
                    "output_type": "stream",
                    "text": [
                        "tar: /archive/cbisot/prince_data/94_20201123.tar: Cannot open: No such file or directory\n",
                        "tar: Error is not recoverable: exiting now\n"
                    ]
                },
                {
                    "data": {
                        "text/plain": [
                            "2"
                        ]
                    },
                    "execution_count": 10,
                    "metadata": {},
                    "output_type": "execute_result"
                }
            ],
            "source": [
                "call(f\"tar cvf /archive/cbisot/prince_data/94_20201123.tar {directory_targ}94_20201123*\", shell=True)"
            ]
        },
        {
            "cell_type": "code",
            "execution_count": null,
            "metadata": {},
            "outputs": [],
            "source": [
                "def transfer_parallel_whole_plate(code, args, folders, num_parallel, time, name,cpus = 128,node = 'thin'):\n",
                "    op_id = time_ns()\n",
                "    folders.to_json(f'{temp_path}/{op_id}.json')# temporary file\n",
                "    plates = set(folders['Plate'].values)\n",
                "    length = len(plates)\n",
                "    begin_skel = 0\n",
                "    end_skel = length // num_parallel + 1\n",
                "    args_str = [str(arg) for arg in args]\n",
                "    arg_str = \" \".join(args_str)\n",
                "    arg_str_out = \"_\".join([str(arg) for arg in args if type(arg)!=str])\n",
                "    for j in range(begin_skel, end_skel):\n",
                "        start = num_parallel * j\n",
                "        stop = num_parallel * j + num_parallel - 1\n",
                "        ide = time_ns()\n",
                "        my_file = open(path_job, \"w\")\n",
                "        my_file.write(\n",
                "            f\"#!/bin/bash \\n#Set job requirements \\n#SBATCH --nodes=1 \\n#SBATCH -t {time}\\n #SBATCH --ntask=1 \\n#SBATCH --cpus-per-task={cpus}\\n#SBATCH -p {node} \\n\"\n",
                "        )\n",
                "        my_file.write(\n",
                "            f'#SBATCH -o \"{path_code}slurm/{name}_{arg_str_out}_{start}_{stop}_{ide}.out\" \\n'\n",
                "        )\n",
                "        my_file.write(f\"source /home/cbisot/miniconda3/etc/profile.d/conda.sh\\n\")\n",
                "        my_file.write(f\"conda activate amftrack\\n\")\n",
                "        my_file.write(f\"for i in `seq {start} {stop}`; do\\n\")\n",
                "        my_file.write(f\"\\t python {path_code}amftrack/pipeline/scripts/image_processing/{code} {arg_str} {op_id} $i &\\n\")\n",
                "        my_file.write(\"done\\n\")\n",
                "        my_file.write(\"wait\\n\")\n",
                "        my_file.close()\n",
                "        call(f\"sbatch {path_job}\", shell=True)"
            ]
        },
        {
            "cell_type": "code",
            "execution_count": 8,
            "metadata": {},
            "outputs": [],
            "source": [
                "def run_parallel_transfer(code, args, folders, num_parallel, time, name,cpus = 1,node = 'staging',name_job='transfer.sh'):\n",
                "    path_job = f'{path_bash}{name_job}'\n",
                "    op_id = time_ns()\n",
                "    folders.to_json(f'{temp_path}/{op_id}.json')# temporary file\n",
                "    length = len(folders)\n",
                "    begin_skel = 0\n",
                "    end_skel = length // num_parallel + 1\n",
                "    args_str = [str(arg) for arg in args]\n",
                "    arg_str = \" \".join(args_str)\n",
                "    arg_str_out = \"_\".join([str(arg) for arg in args if type(arg)!=str])\n",
                "    for j in range(begin_skel, end_skel):\n",
                "        start = num_parallel * j\n",
                "        stop = num_parallel * j + num_parallel - 1\n",
                "        ide = time_ns()\n",
                "        my_file = open(path_job, \"w\")\n",
                "        my_file.write(\n",
                "            f\"#!/bin/bash \\n#Set job requirements \\n#SBATCH --nodes=1 \\n#SBATCH -t {time}\\n #SBATCH --ntask=1 \\n#SBATCH --cpus-per-task={cpus}\\n#SBATCH -p {node} \\n\"\n",
                "        )\n",
                "        my_file.write(\n",
                "            f'#SBATCH -o \"{path_code}slurm/{name}_{arg_str_out}_{start}_{stop}_{ide}.out\" \\n'\n",
                "        )\n",
                "        my_file.write(f\"source /home/cbisot/miniconda3/etc/profile.d/conda.sh\\n\")\n",
                "        my_file.write(f\"conda activate amftrack\\n\")\n",
                "        my_file.write(f\"for i in `seq {start} {stop}`; do\\n\")\n",
                "        my_file.write(f\"\\t python {path_code}amftrack/transfer/scripts/{code} {arg_str} {op_id} $i &\\n\")\n",
                "        my_file.write(\"done\\n\")\n",
                "        my_file.write(\"wait\\n\")\n",
                "        my_file.close()\n",
                "        call(f\"sbatch {path_job}\", shell=True)"
            ]
        }
    ],
    "metadata": {
        "kernelspec": {
            "display_name": "Python 3 (ipykernel)",
            "language": "python",
            "name": "python3"
        },
        "language_info": {
            "codemirror_mode": {
                "name": "ipython",
                "version": 3
            },
            "file_extension": ".py",
            "mimetype": "text/x-python",
            "name": "python",
            "nbconvert_exporter": "python",
            "pygments_lexer": "ipython3",
            "version": "3.7.11"
        }
    },
    "nbformat": 4,
    "nbformat_minor": 4
}
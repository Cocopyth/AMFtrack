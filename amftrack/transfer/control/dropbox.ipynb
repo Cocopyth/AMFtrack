{
 "cells": [
  {
   "cell_type": "code",
   "execution_count": 11,
   "metadata": {},
   "outputs": [
    {
     "name": "stdout",
     "output_type": "stream",
     "text": [
      "The autoreload extension is already loaded. To reload it, use:\n",
      "  %reload_ext autoreload\n"
     ]
    }
   ],
   "source": [
    "%matplotlib widget\n",
    "%load_ext autoreload\n",
    "%autoreload 2\n",
    "import os  \n",
    "import sys  \n",
    "sys.path.insert(0, os.getenv('HOME')+'/pycode/MscThesis/')\n",
    "# sys.path.insert(0,r'C:\\Users\\coren\\Documents\\PhD\\Code\\AMFtrack')\n",
    "\n",
    "import pandas as pd\n",
    "from amftrack.util.sys import get_dates_datetime, get_dirname, temp_path, get_data_info, update_plate_info, \\\n",
    "get_current_folders, get_folders_by_plate_id\n",
    "\n",
    "\n",
    "import ast\n",
    "from amftrack.plotutil import plot_t_tp1\n",
    "from scipy import sparse\n",
    "from datetime import datetime\n",
    "import pickle\n",
    "import scipy.io as sio\n",
    "from pymatreader import read_mat\n",
    "from matplotlib import colors\n",
    "import cv2\n",
    "import imageio\n",
    "import matplotlib.pyplot as plt\n",
    "import numpy as np\n",
    "from skimage.filters import frangi\n",
    "from skimage import filters\n",
    "from random import choice\n",
    "import scipy.sparse\n",
    "import os\n",
    "from amftrack.pipeline.functions.image_processing.extract_graph import from_sparse_to_graph, generate_nx_graph, sparse_to_doc\n",
    "from skimage.feature import hessian_matrix_det\n",
    "from amftrack.pipeline.functions.image_processing.experiment_class_surf import Experiment\n",
    "from amftrack.pipeline.launching.run_super import run_parallel_transfer, find_state, directory_scratch, directory_project, directory_archive, run_parallel_transfer_to_archive\n",
    "import dropbox\n",
    "from amftrack.util.dbx import upload_folders\n",
    "from subprocess import call\n",
    "import logging\n",
    "logging.basicConfig(stream=sys.stdout, level=logging.debug)\n"
   ]
  },
  {
   "cell_type": "code",
   "execution_count": 14,
   "metadata": {},
   "outputs": [
    {
     "data": {
      "text/plain": [
       "'/scratch-shared/amftrack/'"
      ]
     },
     "execution_count": 14,
     "metadata": {},
     "output_type": "execute_result"
    }
   ],
   "source": [
    "directory_scratch"
   ]
  },
  {
   "cell_type": "code",
   "execution_count": 17,
   "metadata": {
    "tags": []
   },
   "outputs": [
    {
     "data": {
      "application/vnd.jupyter.widget-view+json": {
       "model_id": "60e2d73a824e4aa4978f5e5bd04f8b6f",
       "version_major": 2,
       "version_minor": 0
      },
      "text/plain": [
       "analysed:   0%|          | 0/4 [00:00<?, ?it/s]"
      ]
     },
     "metadata": {},
     "output_type": "display_data"
    }
   ],
   "source": [
    "directory = directory_project\n",
    "directory = directory_scratch\n",
    "\n",
    "# all_folders_drop= get_current_folders(\"dropbox\",True)\n",
    "\n",
    "update_plate_info(directory,local=True)\n",
    "all_folders_project = get_current_folders(directory,local=True)\n"
   ]
  },
  {
   "cell_type": "code",
   "execution_count": 20,
   "metadata": {},
   "outputs": [],
   "source": [
    "folders = all_folders_project"
   ]
  },
  {
   "cell_type": "code",
   "execution_count": 18,
   "metadata": {
    "tags": []
   },
   "outputs": [],
   "source": [
    "folders = all_folders_project.loc[all_folders_project[\"Plate\"]==\"94\"]"
   ]
  },
  {
   "cell_type": "code",
   "execution_count": 11,
   "metadata": {},
   "outputs": [],
   "source": [
    "directory_targ = os.path.join(directory_scratch,'temp')+'/'\n",
    "# # directory_targ = os.path.join(directory_archive,'Prince_Data')+'/'\n",
    "# directory_targ = '/projects/0/einf914/agg/'\n",
    "# directory_targ = directory_project\n"
   ]
  },
  {
   "cell_type": "markdown",
   "metadata": {},
   "source": [
    "**To transfer data from surfsara to dropbox**\n",
    "- use the 'toward_drop.py' function including the folders of interest and using dir_drop as a parameter indicating where in dropbox the data should go\n"
   ]
  },
  {
   "cell_type": "code",
   "execution_count": 21,
   "metadata": {
    "tags": []
   },
   "outputs": [
    {
     "name": "stdout",
     "output_type": "stream",
     "text": [
      "Submitted batch job 921149\n"
     ]
    },
    {
     "name": "stderr",
     "output_type": "stream",
     "text": [
      "sbatch: Single node jobs run on a shared node by default. Add --exclusive if you want to use a node exclusively.\n",
      "sbatch: You will be charged for 0.03125 node. A full node consists of 32 CPU cores, 240000 MiB of memory and 0 GPUs and can be shared by up to 32 jobs.\n"
     ]
    }
   ],
   "source": [
    "dir_drop = 'test'\n",
    "delete = True\n",
    "run_parallel_transfer('toward_drop.py',[dir_drop,delete],folders,5,'2:00:00','staging',cpus = 1,node = 'staging')"
   ]
  },
  {
   "cell_type": "markdown",
   "metadata": {},
   "source": [
    "**To transfer data from dropbox to surfsara**\n",
    "- use the 'from_drop.py' function including the folders of interest\n",
    "- unzip argument decides if folders must also be unzipped\n",
    "- flatten argument decides if folders must be flatten to respect snellius paralell computing logic or kept in a folder for transfer to archive for example"
   ]
  },
  {
   "cell_type": "code",
   "execution_count": 9,
   "metadata": {
    "tags": []
   },
   "outputs": [
    {
     "name": "stdout",
     "output_type": "stream",
     "text": [
      "Submitted batch job 639383\n"
     ]
    },
    {
     "name": "stderr",
     "output_type": "stream",
     "text": [
      "sbatch: Single node jobs run on a shared node by default. Add --exclusive if you want to use a node exclusively.\n",
      "sbatch: You will be charged for 0.03125 node. A full node consists of 32 CPU cores, 240000 MiB of memory and 0 GPUs and can be shared by up to 32 jobs.\n"
     ]
    }
   ],
   "source": [
    "dir_drop = 'prince_data'\n",
    "unzip = True\n",
    "flatten = True\n",
    "run_parallel_transfer('from_drop.py',[directory_targ,dir_drop,unzip,flatten],folders,5,'50:00','staging',cpus = 1,node = 'staging')"
   ]
  },
  {
   "cell_type": "code",
   "execution_count": 34,
   "metadata": {},
   "outputs": [],
   "source": [
    "from amftrack.transfer.functions.transfer import download, zip_file,unzip_file\n",
    "\n",
    "unzip_file('/scratch-shared/amftrack/temp/20210901_2139_Plate34.zip','/projects/0/einf914/data/agg/20210901_2139_Plate34')"
   ]
  },
  {
   "cell_type": "markdown",
   "metadata": {},
   "source": [
    "**To transfer data from dropbox to archive**\n",
    "- use the 'from_drop.py' function including the folders of interest\n"
   ]
  },
  {
   "cell_type": "code",
   "execution_count": 4,
   "metadata": {},
   "outputs": [],
   "source": [
    "folders = all_folders.loc[all_folders['Plate'].isin([792,94])]"
   ]
  },
  {
   "cell_type": "code",
   "execution_count": 48,
   "metadata": {},
   "outputs": [
    {
     "data": {
      "text/plain": [
       "1858"
      ]
     },
     "execution_count": 48,
     "metadata": {},
     "output_type": "execute_result"
    }
   ],
   "source": [
    "len(folders)"
   ]
  },
  {
   "cell_type": "code",
   "execution_count": 47,
   "metadata": {
    "collapsed": true,
    "jupyter": {
     "outputs_hidden": true
    },
    "tags": []
   },
   "outputs": [
    {
     "name": "stderr",
     "output_type": "stream",
     "text": [
      "sbatch: Single node jobs run on a shared node by default. Add --exclusive if you want to use a node exclusively.\n",
      "sbatch: You will be charged for 0.03125 node. A full node consists of 32 CPU cores, 240000 MiB of memory and 0 GPUs and can be shared by up to 32 jobs.\n",
      "sbatch: Single node jobs run on a shared node by default. Add --exclusive if you want to use a node exclusively.\n",
      "sbatch: You will be charged for 0.03125 node. A full node consists of 32 CPU cores, 240000 MiB of memory and 0 GPUs and can be shared by up to 32 jobs.\n",
      "sbatch: Single node jobs run on a shared node by default. Add --exclusive if you want to use a node exclusively.\n",
      "sbatch: You will be charged for 0.03125 node. A full node consists of 32 CPU cores, 240000 MiB of memory and 0 GPUs and can be shared by up to 32 jobs.\n",
      "sbatch: Single node jobs run on a shared node by default. Add --exclusive if you want to use a node exclusively.\n",
      "sbatch: You will be charged for 0.03125 node. A full node consists of 32 CPU cores, 240000 MiB of memory and 0 GPUs and can be shared by up to 32 jobs.\n"
     ]
    },
    {
     "name": "stdout",
     "output_type": "stream",
     "text": [
      "Submitted batch job 418130\n",
      "Submitted batch job 418131\n",
      "Submitted batch job 418132\n",
      "Submitted batch job 418133\n"
     ]
    },
    {
     "name": "stderr",
     "output_type": "stream",
     "text": [
      "sbatch: Single node jobs run on a shared node by default. Add --exclusive if you want to use a node exclusively.\n",
      "sbatch: You will be charged for 0.03125 node. A full node consists of 32 CPU cores, 240000 MiB of memory and 0 GPUs and can be shared by up to 32 jobs.\n",
      "sbatch: Single node jobs run on a shared node by default. Add --exclusive if you want to use a node exclusively.\n",
      "sbatch: You will be charged for 0.03125 node. A full node consists of 32 CPU cores, 240000 MiB of memory and 0 GPUs and can be shared by up to 32 jobs.\n",
      "sbatch: Single node jobs run on a shared node by default. Add --exclusive if you want to use a node exclusively.\n",
      "sbatch: You will be charged for 0.03125 node. A full node consists of 32 CPU cores, 240000 MiB of memory and 0 GPUs and can be shared by up to 32 jobs.\n",
      "sbatch: Single node jobs run on a shared node by default. Add --exclusive if you want to use a node exclusively.\n",
      "sbatch: You will be charged for 0.03125 node. A full node consists of 32 CPU cores, 240000 MiB of memory and 0 GPUs and can be shared by up to 32 jobs.\n"
     ]
    },
    {
     "name": "stdout",
     "output_type": "stream",
     "text": [
      "Submitted batch job 418134\n",
      "Submitted batch job 418135\n",
      "Submitted batch job 418136\n",
      "Submitted batch job 418138\n"
     ]
    },
    {
     "name": "stderr",
     "output_type": "stream",
     "text": [
      "sbatch: Single node jobs run on a shared node by default. Add --exclusive if you want to use a node exclusively.\n",
      "sbatch: You will be charged for 0.03125 node. A full node consists of 32 CPU cores, 240000 MiB of memory and 0 GPUs and can be shared by up to 32 jobs.\n",
      "sbatch: Single node jobs run on a shared node by default. Add --exclusive if you want to use a node exclusively.\n",
      "sbatch: You will be charged for 0.03125 node. A full node consists of 32 CPU cores, 240000 MiB of memory and 0 GPUs and can be shared by up to 32 jobs.\n",
      "sbatch: Single node jobs run on a shared node by default. Add --exclusive if you want to use a node exclusively.\n",
      "sbatch: You will be charged for 0.03125 node. A full node consists of 32 CPU cores, 240000 MiB of memory and 0 GPUs and can be shared by up to 32 jobs.\n",
      "sbatch: Single node jobs run on a shared node by default. Add --exclusive if you want to use a node exclusively.\n",
      "sbatch: You will be charged for 0.03125 node. A full node consists of 32 CPU cores, 240000 MiB of memory and 0 GPUs and can be shared by up to 32 jobs.\n"
     ]
    },
    {
     "name": "stdout",
     "output_type": "stream",
     "text": [
      "Submitted batch job 418139\n",
      "Submitted batch job 418140\n",
      "Submitted batch job 418141\n",
      "Submitted batch job 418142\n"
     ]
    },
    {
     "name": "stderr",
     "output_type": "stream",
     "text": [
      "sbatch: Single node jobs run on a shared node by default. Add --exclusive if you want to use a node exclusively.\n",
      "sbatch: You will be charged for 0.03125 node. A full node consists of 32 CPU cores, 240000 MiB of memory and 0 GPUs and can be shared by up to 32 jobs.\n",
      "sbatch: Single node jobs run on a shared node by default. Add --exclusive if you want to use a node exclusively.\n",
      "sbatch: You will be charged for 0.03125 node. A full node consists of 32 CPU cores, 240000 MiB of memory and 0 GPUs and can be shared by up to 32 jobs.\n",
      "sbatch: Single node jobs run on a shared node by default. Add --exclusive if you want to use a node exclusively.\n",
      "sbatch: You will be charged for 0.03125 node. A full node consists of 32 CPU cores, 240000 MiB of memory and 0 GPUs and can be shared by up to 32 jobs.\n",
      "sbatch: Single node jobs run on a shared node by default. Add --exclusive if you want to use a node exclusively.\n",
      "sbatch: You will be charged for 0.03125 node. A full node consists of 32 CPU cores, 240000 MiB of memory and 0 GPUs and can be shared by up to 32 jobs.\n"
     ]
    },
    {
     "name": "stdout",
     "output_type": "stream",
     "text": [
      "Submitted batch job 418143\n",
      "Submitted batch job 418144\n",
      "Submitted batch job 418145\n",
      "Submitted batch job 418146\n"
     ]
    },
    {
     "name": "stderr",
     "output_type": "stream",
     "text": [
      "sbatch: Single node jobs run on a shared node by default. Add --exclusive if you want to use a node exclusively.\n",
      "sbatch: You will be charged for 0.03125 node. A full node consists of 32 CPU cores, 240000 MiB of memory and 0 GPUs and can be shared by up to 32 jobs.\n",
      "sbatch: Single node jobs run on a shared node by default. Add --exclusive if you want to use a node exclusively.\n",
      "sbatch: You will be charged for 0.03125 node. A full node consists of 32 CPU cores, 240000 MiB of memory and 0 GPUs and can be shared by up to 32 jobs.\n",
      "sbatch: Single node jobs run on a shared node by default. Add --exclusive if you want to use a node exclusively.\n",
      "sbatch: You will be charged for 0.03125 node. A full node consists of 32 CPU cores, 240000 MiB of memory and 0 GPUs and can be shared by up to 32 jobs.\n",
      "sbatch: Single node jobs run on a shared node by default. Add --exclusive if you want to use a node exclusively.\n",
      "sbatch: You will be charged for 0.03125 node. A full node consists of 32 CPU cores, 240000 MiB of memory and 0 GPUs and can be shared by up to 32 jobs.\n"
     ]
    },
    {
     "name": "stdout",
     "output_type": "stream",
     "text": [
      "Submitted batch job 418147\n",
      "Submitted batch job 418148\n",
      "Submitted batch job 418149\n",
      "Submitted batch job 418150\n"
     ]
    },
    {
     "name": "stderr",
     "output_type": "stream",
     "text": [
      "sbatch: Single node jobs run on a shared node by default. Add --exclusive if you want to use a node exclusively.\n",
      "sbatch: You will be charged for 0.03125 node. A full node consists of 32 CPU cores, 240000 MiB of memory and 0 GPUs and can be shared by up to 32 jobs.\n",
      "sbatch: Single node jobs run on a shared node by default. Add --exclusive if you want to use a node exclusively.\n",
      "sbatch: You will be charged for 0.03125 node. A full node consists of 32 CPU cores, 240000 MiB of memory and 0 GPUs and can be shared by up to 32 jobs.\n",
      "sbatch: Single node jobs run on a shared node by default. Add --exclusive if you want to use a node exclusively.\n",
      "sbatch: You will be charged for 0.03125 node. A full node consists of 32 CPU cores, 240000 MiB of memory and 0 GPUs and can be shared by up to 32 jobs.\n",
      "sbatch: Single node jobs run on a shared node by default. Add --exclusive if you want to use a node exclusively.\n",
      "sbatch: You will be charged for 0.03125 node. A full node consists of 32 CPU cores, 240000 MiB of memory and 0 GPUs and can be shared by up to 32 jobs.\n"
     ]
    },
    {
     "name": "stdout",
     "output_type": "stream",
     "text": [
      "Submitted batch job 418151\n",
      "Submitted batch job 418152\n",
      "Submitted batch job 418153\n",
      "Submitted batch job 418154\n"
     ]
    },
    {
     "name": "stderr",
     "output_type": "stream",
     "text": [
      "sbatch: Single node jobs run on a shared node by default. Add --exclusive if you want to use a node exclusively.\n",
      "sbatch: You will be charged for 0.03125 node. A full node consists of 32 CPU cores, 240000 MiB of memory and 0 GPUs and can be shared by up to 32 jobs.\n",
      "sbatch: Single node jobs run on a shared node by default. Add --exclusive if you want to use a node exclusively.\n",
      "sbatch: You will be charged for 0.03125 node. A full node consists of 32 CPU cores, 240000 MiB of memory and 0 GPUs and can be shared by up to 32 jobs.\n",
      "sbatch: Single node jobs run on a shared node by default. Add --exclusive if you want to use a node exclusively.\n",
      "sbatch: You will be charged for 0.03125 node. A full node consists of 32 CPU cores, 240000 MiB of memory and 0 GPUs and can be shared by up to 32 jobs.\n",
      "sbatch: Single node jobs run on a shared node by default. Add --exclusive if you want to use a node exclusively.\n",
      "sbatch: You will be charged for 0.03125 node. A full node consists of 32 CPU cores, 240000 MiB of memory and 0 GPUs and can be shared by up to 32 jobs.\n"
     ]
    },
    {
     "name": "stdout",
     "output_type": "stream",
     "text": [
      "Submitted batch job 418155\n",
      "Submitted batch job 418156\n",
      "Submitted batch job 418157\n",
      "Submitted batch job 418158\n",
      "Submitted batch job 418160\n",
      "Submitted batch job 418161\n",
      "Submitted batch job 418162\n",
      "Submitted batch job 418163\n"
     ]
    },
    {
     "name": "stderr",
     "output_type": "stream",
     "text": [
      "sbatch: Single node jobs run on a shared node by default. Add --exclusive if you want to use a node exclusively.\n",
      "sbatch: You will be charged for 0.03125 node. A full node consists of 32 CPU cores, 240000 MiB of memory and 0 GPUs and can be shared by up to 32 jobs.\n",
      "sbatch: Single node jobs run on a shared node by default. Add --exclusive if you want to use a node exclusively.\n",
      "sbatch: You will be charged for 0.03125 node. A full node consists of 32 CPU cores, 240000 MiB of memory and 0 GPUs and can be shared by up to 32 jobs.\n",
      "sbatch: Single node jobs run on a shared node by default. Add --exclusive if you want to use a node exclusively.\n",
      "sbatch: You will be charged for 0.03125 node. A full node consists of 32 CPU cores, 240000 MiB of memory and 0 GPUs and can be shared by up to 32 jobs.\n",
      "sbatch: Single node jobs run on a shared node by default. Add --exclusive if you want to use a node exclusively.\n",
      "sbatch: You will be charged for 0.03125 node. A full node consists of 32 CPU cores, 240000 MiB of memory and 0 GPUs and can be shared by up to 32 jobs.\n",
      "sbatch: Single node jobs run on a shared node by default. Add --exclusive if you want to use a node exclusively.\n",
      "sbatch: You will be charged for 0.03125 node. A full node consists of 32 CPU cores, 240000 MiB of memory and 0 GPUs and can be shared by up to 32 jobs.\n",
      "sbatch: Single node jobs run on a shared node by default. Add --exclusive if you want to use a node exclusively.\n",
      "sbatch: You will be charged for 0.03125 node. A full node consists of 32 CPU cores, 240000 MiB of memory and 0 GPUs and can be shared by up to 32 jobs.\n",
      "sbatch: Single node jobs run on a shared node by default. Add --exclusive if you want to use a node exclusively.\n",
      "sbatch: You will be charged for 0.03125 node. A full node consists of 32 CPU cores, 240000 MiB of memory and 0 GPUs and can be shared by up to 32 jobs.\n",
      "sbatch: Single node jobs run on a shared node by default. Add --exclusive if you want to use a node exclusively.\n",
      "sbatch: You will be charged for 0.03125 node. A full node consists of 32 CPU cores, 240000 MiB of memory and 0 GPUs and can be shared by up to 32 jobs.\n"
     ]
    },
    {
     "name": "stdout",
     "output_type": "stream",
     "text": [
      "Submitted batch job 418164\n",
      "Submitted batch job 418165\n",
      "Submitted batch job 418166\n",
      "Submitted batch job 418167\n",
      "Submitted batch job 418168\n",
      "Submitted batch job 418169\n",
      "Submitted batch job 418170\n",
      "Submitted batch job 418171\n"
     ]
    },
    {
     "name": "stderr",
     "output_type": "stream",
     "text": [
      "sbatch: Single node jobs run on a shared node by default. Add --exclusive if you want to use a node exclusively.\n",
      "sbatch: You will be charged for 0.03125 node. A full node consists of 32 CPU cores, 240000 MiB of memory and 0 GPUs and can be shared by up to 32 jobs.\n",
      "sbatch: Single node jobs run on a shared node by default. Add --exclusive if you want to use a node exclusively.\n",
      "sbatch: You will be charged for 0.03125 node. A full node consists of 32 CPU cores, 240000 MiB of memory and 0 GPUs and can be shared by up to 32 jobs.\n",
      "sbatch: Single node jobs run on a shared node by default. Add --exclusive if you want to use a node exclusively.\n",
      "sbatch: You will be charged for 0.03125 node. A full node consists of 32 CPU cores, 240000 MiB of memory and 0 GPUs and can be shared by up to 32 jobs.\n",
      "sbatch: Single node jobs run on a shared node by default. Add --exclusive if you want to use a node exclusively.\n",
      "sbatch: You will be charged for 0.03125 node. A full node consists of 32 CPU cores, 240000 MiB of memory and 0 GPUs and can be shared by up to 32 jobs.\n",
      "sbatch: Single node jobs run on a shared node by default. Add --exclusive if you want to use a node exclusively.\n",
      "sbatch: You will be charged for 0.03125 node. A full node consists of 32 CPU cores, 240000 MiB of memory and 0 GPUs and can be shared by up to 32 jobs.\n",
      "sbatch: Single node jobs run on a shared node by default. Add --exclusive if you want to use a node exclusively.\n",
      "sbatch: You will be charged for 0.03125 node. A full node consists of 32 CPU cores, 240000 MiB of memory and 0 GPUs and can be shared by up to 32 jobs.\n",
      "sbatch: Single node jobs run on a shared node by default. Add --exclusive if you want to use a node exclusively.\n",
      "sbatch: You will be charged for 0.03125 node. A full node consists of 32 CPU cores, 240000 MiB of memory and 0 GPUs and can be shared by up to 32 jobs.\n",
      "sbatch: Single node jobs run on a shared node by default. Add --exclusive if you want to use a node exclusively.\n",
      "sbatch: You will be charged for 0.03125 node. A full node consists of 32 CPU cores, 240000 MiB of memory and 0 GPUs and can be shared by up to 32 jobs.\n"
     ]
    },
    {
     "name": "stdout",
     "output_type": "stream",
     "text": [
      "Submitted batch job 418172\n",
      "Submitted batch job 418173\n",
      "Submitted batch job 418174\n",
      "Submitted batch job 418175\n"
     ]
    },
    {
     "name": "stderr",
     "output_type": "stream",
     "text": [
      "sbatch: Single node jobs run on a shared node by default. Add --exclusive if you want to use a node exclusively.\n",
      "sbatch: You will be charged for 0.03125 node. A full node consists of 32 CPU cores, 240000 MiB of memory and 0 GPUs and can be shared by up to 32 jobs.\n",
      "sbatch: Single node jobs run on a shared node by default. Add --exclusive if you want to use a node exclusively.\n",
      "sbatch: You will be charged for 0.03125 node. A full node consists of 32 CPU cores, 240000 MiB of memory and 0 GPUs and can be shared by up to 32 jobs.\n",
      "sbatch: Single node jobs run on a shared node by default. Add --exclusive if you want to use a node exclusively.\n",
      "sbatch: You will be charged for 0.03125 node. A full node consists of 32 CPU cores, 240000 MiB of memory and 0 GPUs and can be shared by up to 32 jobs.\n",
      "sbatch: Single node jobs run on a shared node by default. Add --exclusive if you want to use a node exclusively.\n",
      "sbatch: You will be charged for 0.03125 node. A full node consists of 32 CPU cores, 240000 MiB of memory and 0 GPUs and can be shared by up to 32 jobs.\n"
     ]
    },
    {
     "name": "stdout",
     "output_type": "stream",
     "text": [
      "Submitted batch job 418176\n",
      "Submitted batch job 418177\n",
      "Submitted batch job 418178\n",
      "Submitted batch job 418179\n"
     ]
    },
    {
     "name": "stderr",
     "output_type": "stream",
     "text": [
      "sbatch: Single node jobs run on a shared node by default. Add --exclusive if you want to use a node exclusively.\n",
      "sbatch: You will be charged for 0.03125 node. A full node consists of 32 CPU cores, 240000 MiB of memory and 0 GPUs and can be shared by up to 32 jobs.\n",
      "sbatch: Single node jobs run on a shared node by default. Add --exclusive if you want to use a node exclusively.\n",
      "sbatch: You will be charged for 0.03125 node. A full node consists of 32 CPU cores, 240000 MiB of memory and 0 GPUs and can be shared by up to 32 jobs.\n",
      "sbatch: Single node jobs run on a shared node by default. Add --exclusive if you want to use a node exclusively.\n",
      "sbatch: You will be charged for 0.03125 node. A full node consists of 32 CPU cores, 240000 MiB of memory and 0 GPUs and can be shared by up to 32 jobs.\n",
      "sbatch: Single node jobs run on a shared node by default. Add --exclusive if you want to use a node exclusively.\n",
      "sbatch: You will be charged for 0.03125 node. A full node consists of 32 CPU cores, 240000 MiB of memory and 0 GPUs and can be shared by up to 32 jobs.\n"
     ]
    },
    {
     "name": "stdout",
     "output_type": "stream",
     "text": [
      "Submitted batch job 418180\n",
      "Submitted batch job 418182\n",
      "Submitted batch job 418183\n",
      "Submitted batch job 418184\n",
      "Submitted batch job 418185\n",
      "Submitted batch job 418186\n",
      "Submitted batch job 418187\n",
      "Submitted batch job 418188\n"
     ]
    },
    {
     "name": "stderr",
     "output_type": "stream",
     "text": [
      "sbatch: Single node jobs run on a shared node by default. Add --exclusive if you want to use a node exclusively.\n",
      "sbatch: You will be charged for 0.03125 node. A full node consists of 32 CPU cores, 240000 MiB of memory and 0 GPUs and can be shared by up to 32 jobs.\n",
      "sbatch: Single node jobs run on a shared node by default. Add --exclusive if you want to use a node exclusively.\n",
      "sbatch: You will be charged for 0.03125 node. A full node consists of 32 CPU cores, 240000 MiB of memory and 0 GPUs and can be shared by up to 32 jobs.\n",
      "sbatch: Single node jobs run on a shared node by default. Add --exclusive if you want to use a node exclusively.\n",
      "sbatch: You will be charged for 0.03125 node. A full node consists of 32 CPU cores, 240000 MiB of memory and 0 GPUs and can be shared by up to 32 jobs.\n",
      "sbatch: Single node jobs run on a shared node by default. Add --exclusive if you want to use a node exclusively.\n",
      "sbatch: You will be charged for 0.03125 node. A full node consists of 32 CPU cores, 240000 MiB of memory and 0 GPUs and can be shared by up to 32 jobs.\n"
     ]
    },
    {
     "name": "stdout",
     "output_type": "stream",
     "text": [
      "Submitted batch job 418189\n",
      "Submitted batch job 418190\n",
      "Submitted batch job 418191\n",
      "Submitted batch job 418192\n"
     ]
    },
    {
     "name": "stderr",
     "output_type": "stream",
     "text": [
      "sbatch: Single node jobs run on a shared node by default. Add --exclusive if you want to use a node exclusively.\n",
      "sbatch: You will be charged for 0.03125 node. A full node consists of 32 CPU cores, 240000 MiB of memory and 0 GPUs and can be shared by up to 32 jobs.\n",
      "sbatch: Single node jobs run on a shared node by default. Add --exclusive if you want to use a node exclusively.\n",
      "sbatch: You will be charged for 0.03125 node. A full node consists of 32 CPU cores, 240000 MiB of memory and 0 GPUs and can be shared by up to 32 jobs.\n",
      "sbatch: Single node jobs run on a shared node by default. Add --exclusive if you want to use a node exclusively.\n",
      "sbatch: You will be charged for 0.03125 node. A full node consists of 32 CPU cores, 240000 MiB of memory and 0 GPUs and can be shared by up to 32 jobs.\n",
      "sbatch: Single node jobs run on a shared node by default. Add --exclusive if you want to use a node exclusively.\n",
      "sbatch: You will be charged for 0.03125 node. A full node consists of 32 CPU cores, 240000 MiB of memory and 0 GPUs and can be shared by up to 32 jobs.\n"
     ]
    },
    {
     "name": "stdout",
     "output_type": "stream",
     "text": [
      "Submitted batch job 418193\n",
      "Submitted batch job 418194\n",
      "Submitted batch job 418195\n",
      "Submitted batch job 418196\n"
     ]
    },
    {
     "name": "stderr",
     "output_type": "stream",
     "text": [
      "sbatch: Single node jobs run on a shared node by default. Add --exclusive if you want to use a node exclusively.\n",
      "sbatch: You will be charged for 0.03125 node. A full node consists of 32 CPU cores, 240000 MiB of memory and 0 GPUs and can be shared by up to 32 jobs.\n",
      "sbatch: Single node jobs run on a shared node by default. Add --exclusive if you want to use a node exclusively.\n",
      "sbatch: You will be charged for 0.03125 node. A full node consists of 32 CPU cores, 240000 MiB of memory and 0 GPUs and can be shared by up to 32 jobs.\n",
      "sbatch: Single node jobs run on a shared node by default. Add --exclusive if you want to use a node exclusively.\n",
      "sbatch: You will be charged for 0.03125 node. A full node consists of 32 CPU cores, 240000 MiB of memory and 0 GPUs and can be shared by up to 32 jobs.\n",
      "sbatch: Single node jobs run on a shared node by default. Add --exclusive if you want to use a node exclusively.\n",
      "sbatch: You will be charged for 0.03125 node. A full node consists of 32 CPU cores, 240000 MiB of memory and 0 GPUs and can be shared by up to 32 jobs.\n",
      "sbatch: Single node jobs run on a shared node by default. Add --exclusive if you want to use a node exclusively.\n",
      "sbatch: You will be charged for 0.03125 node. A full node consists of 32 CPU cores, 240000 MiB of memory and 0 GPUs and can be shared by up to 32 jobs.\n",
      "sbatch: Single node jobs run on a shared node by default. Add --exclusive if you want to use a node exclusively.\n",
      "sbatch: You will be charged for 0.03125 node. A full node consists of 32 CPU cores, 240000 MiB of memory and 0 GPUs and can be shared by up to 32 jobs.\n",
      "sbatch: Single node jobs run on a shared node by default. Add --exclusive if you want to use a node exclusively.\n",
      "sbatch: You will be charged for 0.03125 node. A full node consists of 32 CPU cores, 240000 MiB of memory and 0 GPUs and can be shared by up to 32 jobs.\n",
      "sbatch: Single node jobs run on a shared node by default. Add --exclusive if you want to use a node exclusively.\n",
      "sbatch: You will be charged for 0.03125 node. A full node consists of 32 CPU cores, 240000 MiB of memory and 0 GPUs and can be shared by up to 32 jobs.\n"
     ]
    },
    {
     "name": "stdout",
     "output_type": "stream",
     "text": [
      "Submitted batch job 418197\n",
      "Submitted batch job 418198\n",
      "Submitted batch job 418199\n",
      "Submitted batch job 418200\n"
     ]
    },
    {
     "name": "stderr",
     "output_type": "stream",
     "text": [
      "sbatch: Single node jobs run on a shared node by default. Add --exclusive if you want to use a node exclusively.\n",
      "sbatch: You will be charged for 0.03125 node. A full node consists of 32 CPU cores, 240000 MiB of memory and 0 GPUs and can be shared by up to 32 jobs.\n",
      "sbatch: Single node jobs run on a shared node by default. Add --exclusive if you want to use a node exclusively.\n",
      "sbatch: You will be charged for 0.03125 node. A full node consists of 32 CPU cores, 240000 MiB of memory and 0 GPUs and can be shared by up to 32 jobs.\n",
      "sbatch: Single node jobs run on a shared node by default. Add --exclusive if you want to use a node exclusively.\n",
      "sbatch: You will be charged for 0.03125 node. A full node consists of 32 CPU cores, 240000 MiB of memory and 0 GPUs and can be shared by up to 32 jobs.\n",
      "sbatch: Single node jobs run on a shared node by default. Add --exclusive if you want to use a node exclusively.\n",
      "sbatch: You will be charged for 0.03125 node. A full node consists of 32 CPU cores, 240000 MiB of memory and 0 GPUs and can be shared by up to 32 jobs.\n"
     ]
    },
    {
     "name": "stdout",
     "output_type": "stream",
     "text": [
      "Submitted batch job 418201\n",
      "Submitted batch job 418203\n",
      "Submitted batch job 418204\n",
      "Submitted batch job 418205\n"
     ]
    },
    {
     "name": "stderr",
     "output_type": "stream",
     "text": [
      "sbatch: Single node jobs run on a shared node by default. Add --exclusive if you want to use a node exclusively.\n",
      "sbatch: You will be charged for 0.03125 node. A full node consists of 32 CPU cores, 240000 MiB of memory and 0 GPUs and can be shared by up to 32 jobs.\n",
      "sbatch: Single node jobs run on a shared node by default. Add --exclusive if you want to use a node exclusively.\n",
      "sbatch: You will be charged for 0.03125 node. A full node consists of 32 CPU cores, 240000 MiB of memory and 0 GPUs and can be shared by up to 32 jobs.\n",
      "sbatch: Single node jobs run on a shared node by default. Add --exclusive if you want to use a node exclusively.\n",
      "sbatch: You will be charged for 0.03125 node. A full node consists of 32 CPU cores, 240000 MiB of memory and 0 GPUs and can be shared by up to 32 jobs.\n",
      "sbatch: Single node jobs run on a shared node by default. Add --exclusive if you want to use a node exclusively.\n",
      "sbatch: You will be charged for 0.03125 node. A full node consists of 32 CPU cores, 240000 MiB of memory and 0 GPUs and can be shared by up to 32 jobs.\n"
     ]
    },
    {
     "name": "stdout",
     "output_type": "stream",
     "text": [
      "Submitted batch job 418206\n",
      "Submitted batch job 418207\n",
      "Submitted batch job 418208\n",
      "Submitted batch job 418209\n"
     ]
    },
    {
     "name": "stderr",
     "output_type": "stream",
     "text": [
      "sbatch: Single node jobs run on a shared node by default. Add --exclusive if you want to use a node exclusively.\n",
      "sbatch: You will be charged for 0.03125 node. A full node consists of 32 CPU cores, 240000 MiB of memory and 0 GPUs and can be shared by up to 32 jobs.\n",
      "sbatch: Single node jobs run on a shared node by default. Add --exclusive if you want to use a node exclusively.\n",
      "sbatch: You will be charged for 0.03125 node. A full node consists of 32 CPU cores, 240000 MiB of memory and 0 GPUs and can be shared by up to 32 jobs.\n",
      "sbatch: Single node jobs run on a shared node by default. Add --exclusive if you want to use a node exclusively.\n",
      "sbatch: You will be charged for 0.03125 node. A full node consists of 32 CPU cores, 240000 MiB of memory and 0 GPUs and can be shared by up to 32 jobs.\n",
      "sbatch: Single node jobs run on a shared node by default. Add --exclusive if you want to use a node exclusively.\n",
      "sbatch: You will be charged for 0.03125 node. A full node consists of 32 CPU cores, 240000 MiB of memory and 0 GPUs and can be shared by up to 32 jobs.\n"
     ]
    },
    {
     "name": "stdout",
     "output_type": "stream",
     "text": [
      "Submitted batch job 418210\n",
      "Submitted batch job 418211\n",
      "Submitted batch job 418212\n",
      "Submitted batch job 418213\n"
     ]
    },
    {
     "name": "stderr",
     "output_type": "stream",
     "text": [
      "sbatch: Single node jobs run on a shared node by default. Add --exclusive if you want to use a node exclusively.\n",
      "sbatch: You will be charged for 0.03125 node. A full node consists of 32 CPU cores, 240000 MiB of memory and 0 GPUs and can be shared by up to 32 jobs.\n",
      "sbatch: Single node jobs run on a shared node by default. Add --exclusive if you want to use a node exclusively.\n",
      "sbatch: You will be charged for 0.03125 node. A full node consists of 32 CPU cores, 240000 MiB of memory and 0 GPUs and can be shared by up to 32 jobs.\n",
      "sbatch: Single node jobs run on a shared node by default. Add --exclusive if you want to use a node exclusively.\n",
      "sbatch: You will be charged for 0.03125 node. A full node consists of 32 CPU cores, 240000 MiB of memory and 0 GPUs and can be shared by up to 32 jobs.\n",
      "sbatch: Single node jobs run on a shared node by default. Add --exclusive if you want to use a node exclusively.\n",
      "sbatch: You will be charged for 0.03125 node. A full node consists of 32 CPU cores, 240000 MiB of memory and 0 GPUs and can be shared by up to 32 jobs.\n"
     ]
    },
    {
     "name": "stdout",
     "output_type": "stream",
     "text": [
      "Submitted batch job 418214\n",
      "Submitted batch job 418215\n",
      "Submitted batch job 418216\n",
      "Submitted batch job 418217\n"
     ]
    },
    {
     "name": "stderr",
     "output_type": "stream",
     "text": [
      "sbatch: Single node jobs run on a shared node by default. Add --exclusive if you want to use a node exclusively.\n",
      "sbatch: You will be charged for 0.03125 node. A full node consists of 32 CPU cores, 240000 MiB of memory and 0 GPUs and can be shared by up to 32 jobs.\n",
      "sbatch: Single node jobs run on a shared node by default. Add --exclusive if you want to use a node exclusively.\n",
      "sbatch: You will be charged for 0.03125 node. A full node consists of 32 CPU cores, 240000 MiB of memory and 0 GPUs and can be shared by up to 32 jobs.\n",
      "sbatch: Single node jobs run on a shared node by default. Add --exclusive if you want to use a node exclusively.\n",
      "sbatch: You will be charged for 0.03125 node. A full node consists of 32 CPU cores, 240000 MiB of memory and 0 GPUs and can be shared by up to 32 jobs.\n",
      "sbatch: Single node jobs run on a shared node by default. Add --exclusive if you want to use a node exclusively.\n",
      "sbatch: You will be charged for 0.03125 node. A full node consists of 32 CPU cores, 240000 MiB of memory and 0 GPUs and can be shared by up to 32 jobs.\n"
     ]
    },
    {
     "name": "stdout",
     "output_type": "stream",
     "text": [
      "Submitted batch job 418218\n",
      "Submitted batch job 418219\n",
      "Submitted batch job 418220\n",
      "Submitted batch job 418221\n"
     ]
    },
    {
     "name": "stderr",
     "output_type": "stream",
     "text": [
      "sbatch: Single node jobs run on a shared node by default. Add --exclusive if you want to use a node exclusively.\n",
      "sbatch: You will be charged for 0.03125 node. A full node consists of 32 CPU cores, 240000 MiB of memory and 0 GPUs and can be shared by up to 32 jobs.\n",
      "sbatch: Single node jobs run on a shared node by default. Add --exclusive if you want to use a node exclusively.\n",
      "sbatch: You will be charged for 0.03125 node. A full node consists of 32 CPU cores, 240000 MiB of memory and 0 GPUs and can be shared by up to 32 jobs.\n",
      "sbatch: Single node jobs run on a shared node by default. Add --exclusive if you want to use a node exclusively.\n",
      "sbatch: You will be charged for 0.03125 node. A full node consists of 32 CPU cores, 240000 MiB of memory and 0 GPUs and can be shared by up to 32 jobs.\n",
      "sbatch: Single node jobs run on a shared node by default. Add --exclusive if you want to use a node exclusively.\n",
      "sbatch: You will be charged for 0.03125 node. A full node consists of 32 CPU cores, 240000 MiB of memory and 0 GPUs and can be shared by up to 32 jobs.\n",
      "sbatch: Single node jobs run on a shared node by default. Add --exclusive if you want to use a node exclusively.\n",
      "sbatch: You will be charged for 0.03125 node. A full node consists of 32 CPU cores, 240000 MiB of memory and 0 GPUs and can be shared by up to 32 jobs.\n"
     ]
    },
    {
     "name": "stdout",
     "output_type": "stream",
     "text": [
      "Submitted batch job 418222\n",
      "Submitted batch job 418224\n",
      "Submitted batch job 418225\n",
      "Submitted batch job 418226\n",
      "Submitted batch job 418227\n"
     ]
    },
    {
     "name": "stderr",
     "output_type": "stream",
     "text": [
      "sbatch: Single node jobs run on a shared node by default. Add --exclusive if you want to use a node exclusively.\n",
      "sbatch: You will be charged for 0.03125 node. A full node consists of 32 CPU cores, 240000 MiB of memory and 0 GPUs and can be shared by up to 32 jobs.\n",
      "sbatch: Single node jobs run on a shared node by default. Add --exclusive if you want to use a node exclusively.\n",
      "sbatch: You will be charged for 0.03125 node. A full node consists of 32 CPU cores, 240000 MiB of memory and 0 GPUs and can be shared by up to 32 jobs.\n",
      "sbatch: Single node jobs run on a shared node by default. Add --exclusive if you want to use a node exclusively.\n",
      "sbatch: You will be charged for 0.03125 node. A full node consists of 32 CPU cores, 240000 MiB of memory and 0 GPUs and can be shared by up to 32 jobs.\n",
      "sbatch: Single node jobs run on a shared node by default. Add --exclusive if you want to use a node exclusively.\n",
      "sbatch: You will be charged for 0.03125 node. A full node consists of 32 CPU cores, 240000 MiB of memory and 0 GPUs and can be shared by up to 32 jobs.\n"
     ]
    },
    {
     "name": "stdout",
     "output_type": "stream",
     "text": [
      "Submitted batch job 418228\n",
      "Submitted batch job 418229\n",
      "Submitted batch job 418230\n",
      "Submitted batch job 418231\n"
     ]
    },
    {
     "name": "stderr",
     "output_type": "stream",
     "text": [
      "sbatch: Single node jobs run on a shared node by default. Add --exclusive if you want to use a node exclusively.\n",
      "sbatch: You will be charged for 0.03125 node. A full node consists of 32 CPU cores, 240000 MiB of memory and 0 GPUs and can be shared by up to 32 jobs.\n",
      "sbatch: Single node jobs run on a shared node by default. Add --exclusive if you want to use a node exclusively.\n",
      "sbatch: You will be charged for 0.03125 node. A full node consists of 32 CPU cores, 240000 MiB of memory and 0 GPUs and can be shared by up to 32 jobs.\n",
      "sbatch: Single node jobs run on a shared node by default. Add --exclusive if you want to use a node exclusively.\n",
      "sbatch: You will be charged for 0.03125 node. A full node consists of 32 CPU cores, 240000 MiB of memory and 0 GPUs and can be shared by up to 32 jobs.\n",
      "sbatch: Single node jobs run on a shared node by default. Add --exclusive if you want to use a node exclusively.\n",
      "sbatch: You will be charged for 0.03125 node. A full node consists of 32 CPU cores, 240000 MiB of memory and 0 GPUs and can be shared by up to 32 jobs.\n"
     ]
    },
    {
     "name": "stdout",
     "output_type": "stream",
     "text": [
      "Submitted batch job 418232\n",
      "Submitted batch job 418233\n",
      "Submitted batch job 418234\n",
      "Submitted batch job 418235\n"
     ]
    },
    {
     "name": "stderr",
     "output_type": "stream",
     "text": [
      "sbatch: Single node jobs run on a shared node by default. Add --exclusive if you want to use a node exclusively.\n",
      "sbatch: You will be charged for 0.03125 node. A full node consists of 32 CPU cores, 240000 MiB of memory and 0 GPUs and can be shared by up to 32 jobs.\n",
      "sbatch: Single node jobs run on a shared node by default. Add --exclusive if you want to use a node exclusively.\n",
      "sbatch: You will be charged for 0.03125 node. A full node consists of 32 CPU cores, 240000 MiB of memory and 0 GPUs and can be shared by up to 32 jobs.\n",
      "sbatch: Single node jobs run on a shared node by default. Add --exclusive if you want to use a node exclusively.\n",
      "sbatch: You will be charged for 0.03125 node. A full node consists of 32 CPU cores, 240000 MiB of memory and 0 GPUs and can be shared by up to 32 jobs.\n",
      "sbatch: Single node jobs run on a shared node by default. Add --exclusive if you want to use a node exclusively.\n",
      "sbatch: You will be charged for 0.03125 node. A full node consists of 32 CPU cores, 240000 MiB of memory and 0 GPUs and can be shared by up to 32 jobs.\n"
     ]
    },
    {
     "name": "stdout",
     "output_type": "stream",
     "text": [
      "Submitted batch job 418236\n",
      "Submitted batch job 418237\n",
      "Submitted batch job 418238\n",
      "Submitted batch job 418239\n"
     ]
    },
    {
     "name": "stderr",
     "output_type": "stream",
     "text": [
      "sbatch: Single node jobs run on a shared node by default. Add --exclusive if you want to use a node exclusively.\n",
      "sbatch: You will be charged for 0.03125 node. A full node consists of 32 CPU cores, 240000 MiB of memory and 0 GPUs and can be shared by up to 32 jobs.\n",
      "sbatch: Single node jobs run on a shared node by default. Add --exclusive if you want to use a node exclusively.\n",
      "sbatch: You will be charged for 0.03125 node. A full node consists of 32 CPU cores, 240000 MiB of memory and 0 GPUs and can be shared by up to 32 jobs.\n",
      "sbatch: Single node jobs run on a shared node by default. Add --exclusive if you want to use a node exclusively.\n",
      "sbatch: You will be charged for 0.03125 node. A full node consists of 32 CPU cores, 240000 MiB of memory and 0 GPUs and can be shared by up to 32 jobs.\n",
      "sbatch: Single node jobs run on a shared node by default. Add --exclusive if you want to use a node exclusively.\n",
      "sbatch: You will be charged for 0.03125 node. A full node consists of 32 CPU cores, 240000 MiB of memory and 0 GPUs and can be shared by up to 32 jobs.\n"
     ]
    },
    {
     "name": "stdout",
     "output_type": "stream",
     "text": [
      "Submitted batch job 418240\n",
      "Submitted batch job 418241\n",
      "Submitted batch job 418242\n",
      "Submitted batch job 418243\n"
     ]
    },
    {
     "name": "stderr",
     "output_type": "stream",
     "text": [
      "sbatch: Single node jobs run on a shared node by default. Add --exclusive if you want to use a node exclusively.\n",
      "sbatch: You will be charged for 0.03125 node. A full node consists of 32 CPU cores, 240000 MiB of memory and 0 GPUs and can be shared by up to 32 jobs.\n",
      "sbatch: Single node jobs run on a shared node by default. Add --exclusive if you want to use a node exclusively.\n",
      "sbatch: You will be charged for 0.03125 node. A full node consists of 32 CPU cores, 240000 MiB of memory and 0 GPUs and can be shared by up to 32 jobs.\n",
      "sbatch: Single node jobs run on a shared node by default. Add --exclusive if you want to use a node exclusively.\n",
      "sbatch: You will be charged for 0.03125 node. A full node consists of 32 CPU cores, 240000 MiB of memory and 0 GPUs and can be shared by up to 32 jobs.\n",
      "sbatch: Single node jobs run on a shared node by default. Add --exclusive if you want to use a node exclusively.\n",
      "sbatch: You will be charged for 0.03125 node. A full node consists of 32 CPU cores, 240000 MiB of memory and 0 GPUs and can be shared by up to 32 jobs.\n"
     ]
    },
    {
     "name": "stdout",
     "output_type": "stream",
     "text": [
      "Submitted batch job 418244\n",
      "Submitted batch job 418246\n",
      "Submitted batch job 418247\n",
      "Submitted batch job 418248\n"
     ]
    },
    {
     "name": "stderr",
     "output_type": "stream",
     "text": [
      "sbatch: Single node jobs run on a shared node by default. Add --exclusive if you want to use a node exclusively.\n",
      "sbatch: You will be charged for 0.03125 node. A full node consists of 32 CPU cores, 240000 MiB of memory and 0 GPUs and can be shared by up to 32 jobs.\n",
      "sbatch: Single node jobs run on a shared node by default. Add --exclusive if you want to use a node exclusively.\n",
      "sbatch: You will be charged for 0.03125 node. A full node consists of 32 CPU cores, 240000 MiB of memory and 0 GPUs and can be shared by up to 32 jobs.\n",
      "sbatch: Single node jobs run on a shared node by default. Add --exclusive if you want to use a node exclusively.\n",
      "sbatch: You will be charged for 0.03125 node. A full node consists of 32 CPU cores, 240000 MiB of memory and 0 GPUs and can be shared by up to 32 jobs.\n",
      "sbatch: Single node jobs run on a shared node by default. Add --exclusive if you want to use a node exclusively.\n",
      "sbatch: You will be charged for 0.03125 node. A full node consists of 32 CPU cores, 240000 MiB of memory and 0 GPUs and can be shared by up to 32 jobs.\n"
     ]
    },
    {
     "name": "stdout",
     "output_type": "stream",
     "text": [
      "Submitted batch job 418249\n",
      "Submitted batch job 418250\n",
      "Submitted batch job 418251\n",
      "Submitted batch job 418252\n"
     ]
    },
    {
     "name": "stderr",
     "output_type": "stream",
     "text": [
      "sbatch: Single node jobs run on a shared node by default. Add --exclusive if you want to use a node exclusively.\n",
      "sbatch: You will be charged for 0.03125 node. A full node consists of 32 CPU cores, 240000 MiB of memory and 0 GPUs and can be shared by up to 32 jobs.\n",
      "sbatch: Single node jobs run on a shared node by default. Add --exclusive if you want to use a node exclusively.\n",
      "sbatch: You will be charged for 0.03125 node. A full node consists of 32 CPU cores, 240000 MiB of memory and 0 GPUs and can be shared by up to 32 jobs.\n",
      "sbatch: Single node jobs run on a shared node by default. Add --exclusive if you want to use a node exclusively.\n",
      "sbatch: You will be charged for 0.03125 node. A full node consists of 32 CPU cores, 240000 MiB of memory and 0 GPUs and can be shared by up to 32 jobs.\n",
      "sbatch: Single node jobs run on a shared node by default. Add --exclusive if you want to use a node exclusively.\n",
      "sbatch: You will be charged for 0.03125 node. A full node consists of 32 CPU cores, 240000 MiB of memory and 0 GPUs and can be shared by up to 32 jobs.\n"
     ]
    },
    {
     "name": "stdout",
     "output_type": "stream",
     "text": [
      "Submitted batch job 418253\n",
      "Submitted batch job 418254\n",
      "Submitted batch job 418255\n",
      "Submitted batch job 418256\n"
     ]
    },
    {
     "name": "stderr",
     "output_type": "stream",
     "text": [
      "sbatch: Single node jobs run on a shared node by default. Add --exclusive if you want to use a node exclusively.\n",
      "sbatch: You will be charged for 0.03125 node. A full node consists of 32 CPU cores, 240000 MiB of memory and 0 GPUs and can be shared by up to 32 jobs.\n",
      "sbatch: Single node jobs run on a shared node by default. Add --exclusive if you want to use a node exclusively.\n",
      "sbatch: You will be charged for 0.03125 node. A full node consists of 32 CPU cores, 240000 MiB of memory and 0 GPUs and can be shared by up to 32 jobs.\n",
      "sbatch: Single node jobs run on a shared node by default. Add --exclusive if you want to use a node exclusively.\n",
      "sbatch: You will be charged for 0.03125 node. A full node consists of 32 CPU cores, 240000 MiB of memory and 0 GPUs and can be shared by up to 32 jobs.\n",
      "sbatch: Single node jobs run on a shared node by default. Add --exclusive if you want to use a node exclusively.\n",
      "sbatch: You will be charged for 0.03125 node. A full node consists of 32 CPU cores, 240000 MiB of memory and 0 GPUs and can be shared by up to 32 jobs.\n"
     ]
    },
    {
     "name": "stdout",
     "output_type": "stream",
     "text": [
      "Submitted batch job 418257\n",
      "Submitted batch job 418258\n",
      "Submitted batch job 418259\n",
      "Submitted batch job 418260\n",
      "Submitted batch job 418261\n",
      "Submitted batch job 418262\n",
      "Submitted batch job 418263\n",
      "Submitted batch job 418264\n"
     ]
    },
    {
     "name": "stderr",
     "output_type": "stream",
     "text": [
      "sbatch: Single node jobs run on a shared node by default. Add --exclusive if you want to use a node exclusively.\n",
      "sbatch: You will be charged for 0.03125 node. A full node consists of 32 CPU cores, 240000 MiB of memory and 0 GPUs and can be shared by up to 32 jobs.\n",
      "sbatch: Single node jobs run on a shared node by default. Add --exclusive if you want to use a node exclusively.\n",
      "sbatch: You will be charged for 0.03125 node. A full node consists of 32 CPU cores, 240000 MiB of memory and 0 GPUs and can be shared by up to 32 jobs.\n",
      "sbatch: Single node jobs run on a shared node by default. Add --exclusive if you want to use a node exclusively.\n",
      "sbatch: You will be charged for 0.03125 node. A full node consists of 32 CPU cores, 240000 MiB of memory and 0 GPUs and can be shared by up to 32 jobs.\n",
      "sbatch: Single node jobs run on a shared node by default. Add --exclusive if you want to use a node exclusively.\n",
      "sbatch: You will be charged for 0.03125 node. A full node consists of 32 CPU cores, 240000 MiB of memory and 0 GPUs and can be shared by up to 32 jobs.\n",
      "sbatch: Single node jobs run on a shared node by default. Add --exclusive if you want to use a node exclusively.\n",
      "sbatch: You will be charged for 0.03125 node. A full node consists of 32 CPU cores, 240000 MiB of memory and 0 GPUs and can be shared by up to 32 jobs.\n",
      "sbatch: Single node jobs run on a shared node by default. Add --exclusive if you want to use a node exclusively.\n",
      "sbatch: You will be charged for 0.03125 node. A full node consists of 32 CPU cores, 240000 MiB of memory and 0 GPUs and can be shared by up to 32 jobs.\n",
      "sbatch: Single node jobs run on a shared node by default. Add --exclusive if you want to use a node exclusively.\n",
      "sbatch: You will be charged for 0.03125 node. A full node consists of 32 CPU cores, 240000 MiB of memory and 0 GPUs and can be shared by up to 32 jobs.\n",
      "sbatch: Single node jobs run on a shared node by default. Add --exclusive if you want to use a node exclusively.\n",
      "sbatch: You will be charged for 0.03125 node. A full node consists of 32 CPU cores, 240000 MiB of memory and 0 GPUs and can be shared by up to 32 jobs.\n"
     ]
    },
    {
     "name": "stdout",
     "output_type": "stream",
     "text": [
      "Submitted batch job 418265\n",
      "Submitted batch job 418266\n",
      "Submitted batch job 418268\n",
      "Submitted batch job 418269\n"
     ]
    },
    {
     "name": "stderr",
     "output_type": "stream",
     "text": [
      "sbatch: Single node jobs run on a shared node by default. Add --exclusive if you want to use a node exclusively.\n",
      "sbatch: You will be charged for 0.03125 node. A full node consists of 32 CPU cores, 240000 MiB of memory and 0 GPUs and can be shared by up to 32 jobs.\n",
      "sbatch: Single node jobs run on a shared node by default. Add --exclusive if you want to use a node exclusively.\n",
      "sbatch: You will be charged for 0.03125 node. A full node consists of 32 CPU cores, 240000 MiB of memory and 0 GPUs and can be shared by up to 32 jobs.\n",
      "sbatch: Single node jobs run on a shared node by default. Add --exclusive if you want to use a node exclusively.\n",
      "sbatch: You will be charged for 0.03125 node. A full node consists of 32 CPU cores, 240000 MiB of memory and 0 GPUs and can be shared by up to 32 jobs.\n",
      "sbatch: Single node jobs run on a shared node by default. Add --exclusive if you want to use a node exclusively.\n",
      "sbatch: You will be charged for 0.03125 node. A full node consists of 32 CPU cores, 240000 MiB of memory and 0 GPUs and can be shared by up to 32 jobs.\n"
     ]
    },
    {
     "name": "stdout",
     "output_type": "stream",
     "text": [
      "Submitted batch job 418270\n",
      "Submitted batch job 418271\n",
      "Submitted batch job 418272\n",
      "Submitted batch job 418273\n"
     ]
    },
    {
     "name": "stderr",
     "output_type": "stream",
     "text": [
      "sbatch: Single node jobs run on a shared node by default. Add --exclusive if you want to use a node exclusively.\n",
      "sbatch: You will be charged for 0.03125 node. A full node consists of 32 CPU cores, 240000 MiB of memory and 0 GPUs and can be shared by up to 32 jobs.\n",
      "sbatch: Single node jobs run on a shared node by default. Add --exclusive if you want to use a node exclusively.\n",
      "sbatch: You will be charged for 0.03125 node. A full node consists of 32 CPU cores, 240000 MiB of memory and 0 GPUs and can be shared by up to 32 jobs.\n",
      "sbatch: Single node jobs run on a shared node by default. Add --exclusive if you want to use a node exclusively.\n",
      "sbatch: You will be charged for 0.03125 node. A full node consists of 32 CPU cores, 240000 MiB of memory and 0 GPUs and can be shared by up to 32 jobs.\n",
      "sbatch: Single node jobs run on a shared node by default. Add --exclusive if you want to use a node exclusively.\n",
      "sbatch: You will be charged for 0.03125 node. A full node consists of 32 CPU cores, 240000 MiB of memory and 0 GPUs and can be shared by up to 32 jobs.\n"
     ]
    },
    {
     "name": "stdout",
     "output_type": "stream",
     "text": [
      "Submitted batch job 418274\n",
      "Submitted batch job 418275\n",
      "Submitted batch job 418276\n",
      "Submitted batch job 418277\n"
     ]
    },
    {
     "name": "stderr",
     "output_type": "stream",
     "text": [
      "sbatch: Single node jobs run on a shared node by default. Add --exclusive if you want to use a node exclusively.\n",
      "sbatch: You will be charged for 0.03125 node. A full node consists of 32 CPU cores, 240000 MiB of memory and 0 GPUs and can be shared by up to 32 jobs.\n",
      "sbatch: Single node jobs run on a shared node by default. Add --exclusive if you want to use a node exclusively.\n",
      "sbatch: You will be charged for 0.03125 node. A full node consists of 32 CPU cores, 240000 MiB of memory and 0 GPUs and can be shared by up to 32 jobs.\n",
      "sbatch: Single node jobs run on a shared node by default. Add --exclusive if you want to use a node exclusively.\n",
      "sbatch: You will be charged for 0.03125 node. A full node consists of 32 CPU cores, 240000 MiB of memory and 0 GPUs and can be shared by up to 32 jobs.\n",
      "sbatch: Single node jobs run on a shared node by default. Add --exclusive if you want to use a node exclusively.\n",
      "sbatch: You will be charged for 0.03125 node. A full node consists of 32 CPU cores, 240000 MiB of memory and 0 GPUs and can be shared by up to 32 jobs.\n"
     ]
    },
    {
     "name": "stdout",
     "output_type": "stream",
     "text": [
      "Submitted batch job 418278\n",
      "Submitted batch job 418279\n",
      "Submitted batch job 418280\n",
      "Submitted batch job 418281\n",
      "Submitted batch job 418282\n",
      "Submitted batch job 418283\n",
      "Submitted batch job 418284\n",
      "Submitted batch job 418285\n"
     ]
    },
    {
     "name": "stderr",
     "output_type": "stream",
     "text": [
      "sbatch: Single node jobs run on a shared node by default. Add --exclusive if you want to use a node exclusively.\n",
      "sbatch: You will be charged for 0.03125 node. A full node consists of 32 CPU cores, 240000 MiB of memory and 0 GPUs and can be shared by up to 32 jobs.\n",
      "sbatch: Single node jobs run on a shared node by default. Add --exclusive if you want to use a node exclusively.\n",
      "sbatch: You will be charged for 0.03125 node. A full node consists of 32 CPU cores, 240000 MiB of memory and 0 GPUs and can be shared by up to 32 jobs.\n",
      "sbatch: Single node jobs run on a shared node by default. Add --exclusive if you want to use a node exclusively.\n",
      "sbatch: You will be charged for 0.03125 node. A full node consists of 32 CPU cores, 240000 MiB of memory and 0 GPUs and can be shared by up to 32 jobs.\n",
      "sbatch: Single node jobs run on a shared node by default. Add --exclusive if you want to use a node exclusively.\n",
      "sbatch: You will be charged for 0.03125 node. A full node consists of 32 CPU cores, 240000 MiB of memory and 0 GPUs and can be shared by up to 32 jobs.\n",
      "sbatch: Single node jobs run on a shared node by default. Add --exclusive if you want to use a node exclusively.\n",
      "sbatch: You will be charged for 0.03125 node. A full node consists of 32 CPU cores, 240000 MiB of memory and 0 GPUs and can be shared by up to 32 jobs.\n",
      "sbatch: Single node jobs run on a shared node by default. Add --exclusive if you want to use a node exclusively.\n",
      "sbatch: You will be charged for 0.03125 node. A full node consists of 32 CPU cores, 240000 MiB of memory and 0 GPUs and can be shared by up to 32 jobs.\n",
      "sbatch: Single node jobs run on a shared node by default. Add --exclusive if you want to use a node exclusively.\n",
      "sbatch: You will be charged for 0.03125 node. A full node consists of 32 CPU cores, 240000 MiB of memory and 0 GPUs and can be shared by up to 32 jobs.\n",
      "sbatch: Single node jobs run on a shared node by default. Add --exclusive if you want to use a node exclusively.\n",
      "sbatch: You will be charged for 0.03125 node. A full node consists of 32 CPU cores, 240000 MiB of memory and 0 GPUs and can be shared by up to 32 jobs.\n"
     ]
    },
    {
     "name": "stdout",
     "output_type": "stream",
     "text": [
      "Submitted batch job 418286\n",
      "Submitted batch job 418287\n",
      "Submitted batch job 418288\n",
      "Submitted batch job 418290\n"
     ]
    },
    {
     "name": "stderr",
     "output_type": "stream",
     "text": [
      "sbatch: Single node jobs run on a shared node by default. Add --exclusive if you want to use a node exclusively.\n",
      "sbatch: You will be charged for 0.03125 node. A full node consists of 32 CPU cores, 240000 MiB of memory and 0 GPUs and can be shared by up to 32 jobs.\n",
      "sbatch: Single node jobs run on a shared node by default. Add --exclusive if you want to use a node exclusively.\n",
      "sbatch: You will be charged for 0.03125 node. A full node consists of 32 CPU cores, 240000 MiB of memory and 0 GPUs and can be shared by up to 32 jobs.\n",
      "sbatch: Single node jobs run on a shared node by default. Add --exclusive if you want to use a node exclusively.\n",
      "sbatch: You will be charged for 0.03125 node. A full node consists of 32 CPU cores, 240000 MiB of memory and 0 GPUs and can be shared by up to 32 jobs.\n",
      "sbatch: Single node jobs run on a shared node by default. Add --exclusive if you want to use a node exclusively.\n",
      "sbatch: You will be charged for 0.03125 node. A full node consists of 32 CPU cores, 240000 MiB of memory and 0 GPUs and can be shared by up to 32 jobs.\n"
     ]
    },
    {
     "name": "stdout",
     "output_type": "stream",
     "text": [
      "Submitted batch job 418291\n",
      "Submitted batch job 418292\n",
      "Submitted batch job 418293\n",
      "Submitted batch job 418294\n"
     ]
    },
    {
     "name": "stderr",
     "output_type": "stream",
     "text": [
      "sbatch: Single node jobs run on a shared node by default. Add --exclusive if you want to use a node exclusively.\n",
      "sbatch: You will be charged for 0.03125 node. A full node consists of 32 CPU cores, 240000 MiB of memory and 0 GPUs and can be shared by up to 32 jobs.\n",
      "sbatch: Single node jobs run on a shared node by default. Add --exclusive if you want to use a node exclusively.\n",
      "sbatch: You will be charged for 0.03125 node. A full node consists of 32 CPU cores, 240000 MiB of memory and 0 GPUs and can be shared by up to 32 jobs.\n",
      "sbatch: Single node jobs run on a shared node by default. Add --exclusive if you want to use a node exclusively.\n",
      "sbatch: You will be charged for 0.03125 node. A full node consists of 32 CPU cores, 240000 MiB of memory and 0 GPUs and can be shared by up to 32 jobs.\n",
      "sbatch: Single node jobs run on a shared node by default. Add --exclusive if you want to use a node exclusively.\n",
      "sbatch: You will be charged for 0.03125 node. A full node consists of 32 CPU cores, 240000 MiB of memory and 0 GPUs and can be shared by up to 32 jobs.\n"
     ]
    },
    {
     "name": "stdout",
     "output_type": "stream",
     "text": [
      "Submitted batch job 418295\n",
      "Submitted batch job 418296\n",
      "Submitted batch job 418297\n",
      "Submitted batch job 418298\n"
     ]
    },
    {
     "name": "stderr",
     "output_type": "stream",
     "text": [
      "sbatch: Single node jobs run on a shared node by default. Add --exclusive if you want to use a node exclusively.\n",
      "sbatch: You will be charged for 0.03125 node. A full node consists of 32 CPU cores, 240000 MiB of memory and 0 GPUs and can be shared by up to 32 jobs.\n"
     ]
    },
    {
     "name": "stdout",
     "output_type": "stream",
     "text": [
      "Submitted batch job 418299\n"
     ]
    },
    {
     "name": "stderr",
     "output_type": "stream",
     "text": [
      "sbatch: Single node jobs run on a shared node by default. Add --exclusive if you want to use a node exclusively.\n",
      "sbatch: You will be charged for 0.03125 node. A full node consists of 32 CPU cores, 240000 MiB of memory and 0 GPUs and can be shared by up to 32 jobs.\n",
      "sbatch: Single node jobs run on a shared node by default. Add --exclusive if you want to use a node exclusively.\n",
      "sbatch: You will be charged for 0.03125 node. A full node consists of 32 CPU cores, 240000 MiB of memory and 0 GPUs and can be shared by up to 32 jobs.\n"
     ]
    },
    {
     "name": "stdout",
     "output_type": "stream",
     "text": [
      "Submitted batch job 418300\n",
      "Submitted batch job 418302\n"
     ]
    },
    {
     "name": "stderr",
     "output_type": "stream",
     "text": [
      "sbatch: Single node jobs run on a shared node by default. Add --exclusive if you want to use a node exclusively.\n",
      "sbatch: You will be charged for 0.03125 node. A full node consists of 32 CPU cores, 240000 MiB of memory and 0 GPUs and can be shared by up to 32 jobs.\n",
      "sbatch: Single node jobs run on a shared node by default. Add --exclusive if you want to use a node exclusively.\n",
      "sbatch: You will be charged for 0.03125 node. A full node consists of 32 CPU cores, 240000 MiB of memory and 0 GPUs and can be shared by up to 32 jobs.\n",
      "sbatch: Single node jobs run on a shared node by default. Add --exclusive if you want to use a node exclusively.\n",
      "sbatch: You will be charged for 0.03125 node. A full node consists of 32 CPU cores, 240000 MiB of memory and 0 GPUs and can be shared by up to 32 jobs.\n",
      "sbatch: Single node jobs run on a shared node by default. Add --exclusive if you want to use a node exclusively.\n",
      "sbatch: You will be charged for 0.03125 node. A full node consists of 32 CPU cores, 240000 MiB of memory and 0 GPUs and can be shared by up to 32 jobs.\n"
     ]
    },
    {
     "name": "stdout",
     "output_type": "stream",
     "text": [
      "Submitted batch job 418303\n",
      "Submitted batch job 418304\n",
      "Submitted batch job 418305\n",
      "Submitted batch job 418306\n"
     ]
    },
    {
     "name": "stderr",
     "output_type": "stream",
     "text": [
      "sbatch: Single node jobs run on a shared node by default. Add --exclusive if you want to use a node exclusively.\n",
      "sbatch: You will be charged for 0.03125 node. A full node consists of 32 CPU cores, 240000 MiB of memory and 0 GPUs and can be shared by up to 32 jobs.\n",
      "sbatch: Single node jobs run on a shared node by default. Add --exclusive if you want to use a node exclusively.\n",
      "sbatch: You will be charged for 0.03125 node. A full node consists of 32 CPU cores, 240000 MiB of memory and 0 GPUs and can be shared by up to 32 jobs.\n",
      "sbatch: Single node jobs run on a shared node by default. Add --exclusive if you want to use a node exclusively.\n",
      "sbatch: You will be charged for 0.03125 node. A full node consists of 32 CPU cores, 240000 MiB of memory and 0 GPUs and can be shared by up to 32 jobs.\n",
      "sbatch: Single node jobs run on a shared node by default. Add --exclusive if you want to use a node exclusively.\n",
      "sbatch: You will be charged for 0.03125 node. A full node consists of 32 CPU cores, 240000 MiB of memory and 0 GPUs and can be shared by up to 32 jobs.\n"
     ]
    },
    {
     "name": "stdout",
     "output_type": "stream",
     "text": [
      "Submitted batch job 418307\n",
      "Submitted batch job 418308\n",
      "Submitted batch job 418309\n",
      "Submitted batch job 418310\n"
     ]
    },
    {
     "name": "stderr",
     "output_type": "stream",
     "text": [
      "sbatch: Single node jobs run on a shared node by default. Add --exclusive if you want to use a node exclusively.\n",
      "sbatch: You will be charged for 0.03125 node. A full node consists of 32 CPU cores, 240000 MiB of memory and 0 GPUs and can be shared by up to 32 jobs.\n",
      "sbatch: Single node jobs run on a shared node by default. Add --exclusive if you want to use a node exclusively.\n",
      "sbatch: You will be charged for 0.03125 node. A full node consists of 32 CPU cores, 240000 MiB of memory and 0 GPUs and can be shared by up to 32 jobs.\n",
      "sbatch: Single node jobs run on a shared node by default. Add --exclusive if you want to use a node exclusively.\n",
      "sbatch: You will be charged for 0.03125 node. A full node consists of 32 CPU cores, 240000 MiB of memory and 0 GPUs and can be shared by up to 32 jobs.\n",
      "sbatch: Single node jobs run on a shared node by default. Add --exclusive if you want to use a node exclusively.\n",
      "sbatch: You will be charged for 0.03125 node. A full node consists of 32 CPU cores, 240000 MiB of memory and 0 GPUs and can be shared by up to 32 jobs.\n"
     ]
    },
    {
     "name": "stdout",
     "output_type": "stream",
     "text": [
      "Submitted batch job 418311\n",
      "Submitted batch job 418312\n",
      "Submitted batch job 418313\n",
      "Submitted batch job 418314\n"
     ]
    },
    {
     "name": "stderr",
     "output_type": "stream",
     "text": [
      "sbatch: Single node jobs run on a shared node by default. Add --exclusive if you want to use a node exclusively.\n",
      "sbatch: You will be charged for 0.03125 node. A full node consists of 32 CPU cores, 240000 MiB of memory and 0 GPUs and can be shared by up to 32 jobs.\n",
      "sbatch: Single node jobs run on a shared node by default. Add --exclusive if you want to use a node exclusively.\n",
      "sbatch: You will be charged for 0.03125 node. A full node consists of 32 CPU cores, 240000 MiB of memory and 0 GPUs and can be shared by up to 32 jobs.\n",
      "sbatch: Single node jobs run on a shared node by default. Add --exclusive if you want to use a node exclusively.\n",
      "sbatch: You will be charged for 0.03125 node. A full node consists of 32 CPU cores, 240000 MiB of memory and 0 GPUs and can be shared by up to 32 jobs.\n",
      "sbatch: Single node jobs run on a shared node by default. Add --exclusive if you want to use a node exclusively.\n",
      "sbatch: You will be charged for 0.03125 node. A full node consists of 32 CPU cores, 240000 MiB of memory and 0 GPUs and can be shared by up to 32 jobs.\n"
     ]
    },
    {
     "name": "stdout",
     "output_type": "stream",
     "text": [
      "Submitted batch job 418315\n",
      "Submitted batch job 418316\n",
      "Submitted batch job 418317\n",
      "Submitted batch job 418318\n"
     ]
    },
    {
     "name": "stderr",
     "output_type": "stream",
     "text": [
      "sbatch: Single node jobs run on a shared node by default. Add --exclusive if you want to use a node exclusively.\n",
      "sbatch: You will be charged for 0.03125 node. A full node consists of 32 CPU cores, 240000 MiB of memory and 0 GPUs and can be shared by up to 32 jobs.\n",
      "sbatch: Single node jobs run on a shared node by default. Add --exclusive if you want to use a node exclusively.\n",
      "sbatch: You will be charged for 0.03125 node. A full node consists of 32 CPU cores, 240000 MiB of memory and 0 GPUs and can be shared by up to 32 jobs.\n",
      "sbatch: Single node jobs run on a shared node by default. Add --exclusive if you want to use a node exclusively.\n",
      "sbatch: You will be charged for 0.03125 node. A full node consists of 32 CPU cores, 240000 MiB of memory and 0 GPUs and can be shared by up to 32 jobs.\n",
      "sbatch: Single node jobs run on a shared node by default. Add --exclusive if you want to use a node exclusively.\n",
      "sbatch: You will be charged for 0.03125 node. A full node consists of 32 CPU cores, 240000 MiB of memory and 0 GPUs and can be shared by up to 32 jobs.\n"
     ]
    },
    {
     "name": "stdout",
     "output_type": "stream",
     "text": [
      "Submitted batch job 418319\n",
      "Submitted batch job 418320\n",
      "Submitted batch job 418321\n",
      "Submitted batch job 418323\n"
     ]
    },
    {
     "name": "stderr",
     "output_type": "stream",
     "text": [
      "sbatch: Single node jobs run on a shared node by default. Add --exclusive if you want to use a node exclusively.\n",
      "sbatch: You will be charged for 0.03125 node. A full node consists of 32 CPU cores, 240000 MiB of memory and 0 GPUs and can be shared by up to 32 jobs.\n",
      "sbatch: Single node jobs run on a shared node by default. Add --exclusive if you want to use a node exclusively.\n",
      "sbatch: You will be charged for 0.03125 node. A full node consists of 32 CPU cores, 240000 MiB of memory and 0 GPUs and can be shared by up to 32 jobs.\n",
      "sbatch: Single node jobs run on a shared node by default. Add --exclusive if you want to use a node exclusively.\n",
      "sbatch: You will be charged for 0.03125 node. A full node consists of 32 CPU cores, 240000 MiB of memory and 0 GPUs and can be shared by up to 32 jobs.\n",
      "sbatch: Single node jobs run on a shared node by default. Add --exclusive if you want to use a node exclusively.\n",
      "sbatch: You will be charged for 0.03125 node. A full node consists of 32 CPU cores, 240000 MiB of memory and 0 GPUs and can be shared by up to 32 jobs.\n"
     ]
    },
    {
     "name": "stdout",
     "output_type": "stream",
     "text": [
      "Submitted batch job 418324\n",
      "Submitted batch job 418325\n",
      "Submitted batch job 418326\n",
      "Submitted batch job 418327\n"
     ]
    },
    {
     "name": "stderr",
     "output_type": "stream",
     "text": [
      "sbatch: Single node jobs run on a shared node by default. Add --exclusive if you want to use a node exclusively.\n",
      "sbatch: You will be charged for 0.03125 node. A full node consists of 32 CPU cores, 240000 MiB of memory and 0 GPUs and can be shared by up to 32 jobs.\n",
      "sbatch: Single node jobs run on a shared node by default. Add --exclusive if you want to use a node exclusively.\n",
      "sbatch: You will be charged for 0.03125 node. A full node consists of 32 CPU cores, 240000 MiB of memory and 0 GPUs and can be shared by up to 32 jobs.\n",
      "sbatch: Single node jobs run on a shared node by default. Add --exclusive if you want to use a node exclusively.\n",
      "sbatch: You will be charged for 0.03125 node. A full node consists of 32 CPU cores, 240000 MiB of memory and 0 GPUs and can be shared by up to 32 jobs.\n",
      "sbatch: Single node jobs run on a shared node by default. Add --exclusive if you want to use a node exclusively.\n",
      "sbatch: You will be charged for 0.03125 node. A full node consists of 32 CPU cores, 240000 MiB of memory and 0 GPUs and can be shared by up to 32 jobs.\n"
     ]
    },
    {
     "name": "stdout",
     "output_type": "stream",
     "text": [
      "Submitted batch job 418328\n",
      "Submitted batch job 418329\n",
      "Submitted batch job 418330\n",
      "Submitted batch job 418331\n"
     ]
    },
    {
     "name": "stderr",
     "output_type": "stream",
     "text": [
      "sbatch: Single node jobs run on a shared node by default. Add --exclusive if you want to use a node exclusively.\n",
      "sbatch: You will be charged for 0.03125 node. A full node consists of 32 CPU cores, 240000 MiB of memory and 0 GPUs and can be shared by up to 32 jobs.\n",
      "sbatch: Single node jobs run on a shared node by default. Add --exclusive if you want to use a node exclusively.\n",
      "sbatch: You will be charged for 0.03125 node. A full node consists of 32 CPU cores, 240000 MiB of memory and 0 GPUs and can be shared by up to 32 jobs.\n",
      "sbatch: Single node jobs run on a shared node by default. Add --exclusive if you want to use a node exclusively.\n",
      "sbatch: You will be charged for 0.03125 node. A full node consists of 32 CPU cores, 240000 MiB of memory and 0 GPUs and can be shared by up to 32 jobs.\n",
      "sbatch: Single node jobs run on a shared node by default. Add --exclusive if you want to use a node exclusively.\n",
      "sbatch: You will be charged for 0.03125 node. A full node consists of 32 CPU cores, 240000 MiB of memory and 0 GPUs and can be shared by up to 32 jobs.\n"
     ]
    },
    {
     "name": "stdout",
     "output_type": "stream",
     "text": [
      "Submitted batch job 418332\n",
      "Submitted batch job 418333\n",
      "Submitted batch job 418334\n",
      "Submitted batch job 418335\n"
     ]
    },
    {
     "name": "stderr",
     "output_type": "stream",
     "text": [
      "sbatch: Single node jobs run on a shared node by default. Add --exclusive if you want to use a node exclusively.\n",
      "sbatch: You will be charged for 0.03125 node. A full node consists of 32 CPU cores, 240000 MiB of memory and 0 GPUs and can be shared by up to 32 jobs.\n",
      "sbatch: Single node jobs run on a shared node by default. Add --exclusive if you want to use a node exclusively.\n",
      "sbatch: You will be charged for 0.03125 node. A full node consists of 32 CPU cores, 240000 MiB of memory and 0 GPUs and can be shared by up to 32 jobs.\n",
      "sbatch: Single node jobs run on a shared node by default. Add --exclusive if you want to use a node exclusively.\n",
      "sbatch: You will be charged for 0.03125 node. A full node consists of 32 CPU cores, 240000 MiB of memory and 0 GPUs and can be shared by up to 32 jobs.\n",
      "sbatch: Single node jobs run on a shared node by default. Add --exclusive if you want to use a node exclusively.\n",
      "sbatch: You will be charged for 0.03125 node. A full node consists of 32 CPU cores, 240000 MiB of memory and 0 GPUs and can be shared by up to 32 jobs.\n"
     ]
    },
    {
     "name": "stdout",
     "output_type": "stream",
     "text": [
      "Submitted batch job 418336\n",
      "Submitted batch job 418337\n",
      "Submitted batch job 418338\n",
      "Submitted batch job 418339\n",
      "Submitted batch job 418340\n",
      "Submitted batch job 418341\n",
      "Submitted batch job 418342\n",
      "Submitted batch job 418344\n"
     ]
    },
    {
     "name": "stderr",
     "output_type": "stream",
     "text": [
      "sbatch: Single node jobs run on a shared node by default. Add --exclusive if you want to use a node exclusively.\n",
      "sbatch: You will be charged for 0.03125 node. A full node consists of 32 CPU cores, 240000 MiB of memory and 0 GPUs and can be shared by up to 32 jobs.\n",
      "sbatch: Single node jobs run on a shared node by default. Add --exclusive if you want to use a node exclusively.\n",
      "sbatch: You will be charged for 0.03125 node. A full node consists of 32 CPU cores, 240000 MiB of memory and 0 GPUs and can be shared by up to 32 jobs.\n",
      "sbatch: Single node jobs run on a shared node by default. Add --exclusive if you want to use a node exclusively.\n",
      "sbatch: You will be charged for 0.03125 node. A full node consists of 32 CPU cores, 240000 MiB of memory and 0 GPUs and can be shared by up to 32 jobs.\n",
      "sbatch: Single node jobs run on a shared node by default. Add --exclusive if you want to use a node exclusively.\n",
      "sbatch: You will be charged for 0.03125 node. A full node consists of 32 CPU cores, 240000 MiB of memory and 0 GPUs and can be shared by up to 32 jobs.\n",
      "sbatch: Single node jobs run on a shared node by default. Add --exclusive if you want to use a node exclusively.\n",
      "sbatch: You will be charged for 0.03125 node. A full node consists of 32 CPU cores, 240000 MiB of memory and 0 GPUs and can be shared by up to 32 jobs.\n",
      "sbatch: Single node jobs run on a shared node by default. Add --exclusive if you want to use a node exclusively.\n",
      "sbatch: You will be charged for 0.03125 node. A full node consists of 32 CPU cores, 240000 MiB of memory and 0 GPUs and can be shared by up to 32 jobs.\n",
      "sbatch: Single node jobs run on a shared node by default. Add --exclusive if you want to use a node exclusively.\n",
      "sbatch: You will be charged for 0.03125 node. A full node consists of 32 CPU cores, 240000 MiB of memory and 0 GPUs and can be shared by up to 32 jobs.\n",
      "sbatch: Single node jobs run on a shared node by default. Add --exclusive if you want to use a node exclusively.\n",
      "sbatch: You will be charged for 0.03125 node. A full node consists of 32 CPU cores, 240000 MiB of memory and 0 GPUs and can be shared by up to 32 jobs.\n"
     ]
    },
    {
     "name": "stdout",
     "output_type": "stream",
     "text": [
      "Submitted batch job 418345\n",
      "Submitted batch job 418346\n",
      "Submitted batch job 418347\n",
      "Submitted batch job 418348\n"
     ]
    },
    {
     "name": "stderr",
     "output_type": "stream",
     "text": [
      "sbatch: Single node jobs run on a shared node by default. Add --exclusive if you want to use a node exclusively.\n",
      "sbatch: You will be charged for 0.03125 node. A full node consists of 32 CPU cores, 240000 MiB of memory and 0 GPUs and can be shared by up to 32 jobs.\n",
      "sbatch: Single node jobs run on a shared node by default. Add --exclusive if you want to use a node exclusively.\n",
      "sbatch: You will be charged for 0.03125 node. A full node consists of 32 CPU cores, 240000 MiB of memory and 0 GPUs and can be shared by up to 32 jobs.\n",
      "sbatch: Single node jobs run on a shared node by default. Add --exclusive if you want to use a node exclusively.\n",
      "sbatch: You will be charged for 0.03125 node. A full node consists of 32 CPU cores, 240000 MiB of memory and 0 GPUs and can be shared by up to 32 jobs.\n",
      "sbatch: Single node jobs run on a shared node by default. Add --exclusive if you want to use a node exclusively.\n",
      "sbatch: You will be charged for 0.03125 node. A full node consists of 32 CPU cores, 240000 MiB of memory and 0 GPUs and can be shared by up to 32 jobs.\n"
     ]
    },
    {
     "name": "stdout",
     "output_type": "stream",
     "text": [
      "Submitted batch job 418349\n",
      "Submitted batch job 418350\n",
      "Submitted batch job 418351\n",
      "Submitted batch job 418352\n"
     ]
    },
    {
     "name": "stderr",
     "output_type": "stream",
     "text": [
      "sbatch: Single node jobs run on a shared node by default. Add --exclusive if you want to use a node exclusively.\n",
      "sbatch: You will be charged for 0.03125 node. A full node consists of 32 CPU cores, 240000 MiB of memory and 0 GPUs and can be shared by up to 32 jobs.\n",
      "sbatch: Single node jobs run on a shared node by default. Add --exclusive if you want to use a node exclusively.\n",
      "sbatch: You will be charged for 0.03125 node. A full node consists of 32 CPU cores, 240000 MiB of memory and 0 GPUs and can be shared by up to 32 jobs.\n",
      "sbatch: Single node jobs run on a shared node by default. Add --exclusive if you want to use a node exclusively.\n",
      "sbatch: You will be charged for 0.03125 node. A full node consists of 32 CPU cores, 240000 MiB of memory and 0 GPUs and can be shared by up to 32 jobs.\n",
      "sbatch: Single node jobs run on a shared node by default. Add --exclusive if you want to use a node exclusively.\n",
      "sbatch: You will be charged for 0.03125 node. A full node consists of 32 CPU cores, 240000 MiB of memory and 0 GPUs and can be shared by up to 32 jobs.\n"
     ]
    },
    {
     "name": "stdout",
     "output_type": "stream",
     "text": [
      "Submitted batch job 418353\n",
      "Submitted batch job 418354\n",
      "Submitted batch job 418355\n",
      "Submitted batch job 418356\n"
     ]
    },
    {
     "name": "stderr",
     "output_type": "stream",
     "text": [
      "sbatch: Single node jobs run on a shared node by default. Add --exclusive if you want to use a node exclusively.\n",
      "sbatch: You will be charged for 0.03125 node. A full node consists of 32 CPU cores, 240000 MiB of memory and 0 GPUs and can be shared by up to 32 jobs.\n",
      "sbatch: Single node jobs run on a shared node by default. Add --exclusive if you want to use a node exclusively.\n",
      "sbatch: You will be charged for 0.03125 node. A full node consists of 32 CPU cores, 240000 MiB of memory and 0 GPUs and can be shared by up to 32 jobs.\n",
      "sbatch: Single node jobs run on a shared node by default. Add --exclusive if you want to use a node exclusively.\n",
      "sbatch: You will be charged for 0.03125 node. A full node consists of 32 CPU cores, 240000 MiB of memory and 0 GPUs and can be shared by up to 32 jobs.\n",
      "sbatch: Single node jobs run on a shared node by default. Add --exclusive if you want to use a node exclusively.\n",
      "sbatch: You will be charged for 0.03125 node. A full node consists of 32 CPU cores, 240000 MiB of memory and 0 GPUs and can be shared by up to 32 jobs.\n"
     ]
    },
    {
     "name": "stdout",
     "output_type": "stream",
     "text": [
      "Submitted batch job 418357\n",
      "Submitted batch job 418358\n",
      "Submitted batch job 418359\n",
      "Submitted batch job 418360\n"
     ]
    },
    {
     "name": "stderr",
     "output_type": "stream",
     "text": [
      "sbatch: Single node jobs run on a shared node by default. Add --exclusive if you want to use a node exclusively.\n",
      "sbatch: You will be charged for 0.03125 node. A full node consists of 32 CPU cores, 240000 MiB of memory and 0 GPUs and can be shared by up to 32 jobs.\n",
      "sbatch: Single node jobs run on a shared node by default. Add --exclusive if you want to use a node exclusively.\n",
      "sbatch: You will be charged for 0.03125 node. A full node consists of 32 CPU cores, 240000 MiB of memory and 0 GPUs and can be shared by up to 32 jobs.\n",
      "sbatch: Single node jobs run on a shared node by default. Add --exclusive if you want to use a node exclusively.\n",
      "sbatch: You will be charged for 0.03125 node. A full node consists of 32 CPU cores, 240000 MiB of memory and 0 GPUs and can be shared by up to 32 jobs.\n",
      "sbatch: Single node jobs run on a shared node by default. Add --exclusive if you want to use a node exclusively.\n",
      "sbatch: You will be charged for 0.03125 node. A full node consists of 32 CPU cores, 240000 MiB of memory and 0 GPUs and can be shared by up to 32 jobs.\n"
     ]
    },
    {
     "name": "stdout",
     "output_type": "stream",
     "text": [
      "Submitted batch job 418361\n",
      "Submitted batch job 418362\n",
      "Submitted batch job 418363\n",
      "Submitted batch job 418364\n"
     ]
    },
    {
     "name": "stderr",
     "output_type": "stream",
     "text": [
      "sbatch: Single node jobs run on a shared node by default. Add --exclusive if you want to use a node exclusively.\n",
      "sbatch: You will be charged for 0.03125 node. A full node consists of 32 CPU cores, 240000 MiB of memory and 0 GPUs and can be shared by up to 32 jobs.\n",
      "sbatch: Single node jobs run on a shared node by default. Add --exclusive if you want to use a node exclusively.\n",
      "sbatch: You will be charged for 0.03125 node. A full node consists of 32 CPU cores, 240000 MiB of memory and 0 GPUs and can be shared by up to 32 jobs.\n",
      "sbatch: Single node jobs run on a shared node by default. Add --exclusive if you want to use a node exclusively.\n",
      "sbatch: You will be charged for 0.03125 node. A full node consists of 32 CPU cores, 240000 MiB of memory and 0 GPUs and can be shared by up to 32 jobs.\n",
      "sbatch: Single node jobs run on a shared node by default. Add --exclusive if you want to use a node exclusively.\n",
      "sbatch: You will be charged for 0.03125 node. A full node consists of 32 CPU cores, 240000 MiB of memory and 0 GPUs and can be shared by up to 32 jobs.\n"
     ]
    },
    {
     "name": "stdout",
     "output_type": "stream",
     "text": [
      "Submitted batch job 418366\n",
      "Submitted batch job 418367\n",
      "Submitted batch job 418368\n",
      "Submitted batch job 418369\n"
     ]
    },
    {
     "name": "stderr",
     "output_type": "stream",
     "text": [
      "sbatch: Single node jobs run on a shared node by default. Add --exclusive if you want to use a node exclusively.\n",
      "sbatch: You will be charged for 0.03125 node. A full node consists of 32 CPU cores, 240000 MiB of memory and 0 GPUs and can be shared by up to 32 jobs.\n",
      "sbatch: Single node jobs run on a shared node by default. Add --exclusive if you want to use a node exclusively.\n",
      "sbatch: You will be charged for 0.03125 node. A full node consists of 32 CPU cores, 240000 MiB of memory and 0 GPUs and can be shared by up to 32 jobs.\n",
      "sbatch: Single node jobs run on a shared node by default. Add --exclusive if you want to use a node exclusively.\n",
      "sbatch: You will be charged for 0.03125 node. A full node consists of 32 CPU cores, 240000 MiB of memory and 0 GPUs and can be shared by up to 32 jobs.\n",
      "sbatch: Single node jobs run on a shared node by default. Add --exclusive if you want to use a node exclusively.\n",
      "sbatch: You will be charged for 0.03125 node. A full node consists of 32 CPU cores, 240000 MiB of memory and 0 GPUs and can be shared by up to 32 jobs.\n"
     ]
    },
    {
     "name": "stdout",
     "output_type": "stream",
     "text": [
      "Submitted batch job 418370\n",
      "Submitted batch job 418371\n",
      "Submitted batch job 418372\n",
      "Submitted batch job 418373\n"
     ]
    },
    {
     "name": "stderr",
     "output_type": "stream",
     "text": [
      "sbatch: Single node jobs run on a shared node by default. Add --exclusive if you want to use a node exclusively.\n",
      "sbatch: You will be charged for 0.03125 node. A full node consists of 32 CPU cores, 240000 MiB of memory and 0 GPUs and can be shared by up to 32 jobs.\n",
      "sbatch: Single node jobs run on a shared node by default. Add --exclusive if you want to use a node exclusively.\n",
      "sbatch: You will be charged for 0.03125 node. A full node consists of 32 CPU cores, 240000 MiB of memory and 0 GPUs and can be shared by up to 32 jobs.\n",
      "sbatch: Single node jobs run on a shared node by default. Add --exclusive if you want to use a node exclusively.\n",
      "sbatch: You will be charged for 0.03125 node. A full node consists of 32 CPU cores, 240000 MiB of memory and 0 GPUs and can be shared by up to 32 jobs.\n",
      "sbatch: Single node jobs run on a shared node by default. Add --exclusive if you want to use a node exclusively.\n",
      "sbatch: You will be charged for 0.03125 node. A full node consists of 32 CPU cores, 240000 MiB of memory and 0 GPUs and can be shared by up to 32 jobs.\n"
     ]
    },
    {
     "name": "stdout",
     "output_type": "stream",
     "text": [
      "Submitted batch job 418374\n",
      "Submitted batch job 418375\n",
      "Submitted batch job 418376\n",
      "Submitted batch job 418377\n"
     ]
    },
    {
     "name": "stderr",
     "output_type": "stream",
     "text": [
      "sbatch: Single node jobs run on a shared node by default. Add --exclusive if you want to use a node exclusively.\n",
      "sbatch: You will be charged for 0.03125 node. A full node consists of 32 CPU cores, 240000 MiB of memory and 0 GPUs and can be shared by up to 32 jobs.\n",
      "sbatch: Single node jobs run on a shared node by default. Add --exclusive if you want to use a node exclusively.\n",
      "sbatch: You will be charged for 0.03125 node. A full node consists of 32 CPU cores, 240000 MiB of memory and 0 GPUs and can be shared by up to 32 jobs.\n",
      "sbatch: Single node jobs run on a shared node by default. Add --exclusive if you want to use a node exclusively.\n",
      "sbatch: You will be charged for 0.03125 node. A full node consists of 32 CPU cores, 240000 MiB of memory and 0 GPUs and can be shared by up to 32 jobs.\n",
      "sbatch: Single node jobs run on a shared node by default. Add --exclusive if you want to use a node exclusively.\n",
      "sbatch: You will be charged for 0.03125 node. A full node consists of 32 CPU cores, 240000 MiB of memory and 0 GPUs and can be shared by up to 32 jobs.\n"
     ]
    },
    {
     "name": "stdout",
     "output_type": "stream",
     "text": [
      "Submitted batch job 418378\n",
      "Submitted batch job 418379\n",
      "Submitted batch job 418380\n",
      "Submitted batch job 418381\n",
      "Submitted batch job 418382\n",
      "Submitted batch job 418383\n",
      "Submitted batch job 418384\n",
      "Submitted batch job 418385\n"
     ]
    },
    {
     "name": "stderr",
     "output_type": "stream",
     "text": [
      "sbatch: Single node jobs run on a shared node by default. Add --exclusive if you want to use a node exclusively.\n",
      "sbatch: You will be charged for 0.03125 node. A full node consists of 32 CPU cores, 240000 MiB of memory and 0 GPUs and can be shared by up to 32 jobs.\n",
      "sbatch: Single node jobs run on a shared node by default. Add --exclusive if you want to use a node exclusively.\n",
      "sbatch: You will be charged for 0.03125 node. A full node consists of 32 CPU cores, 240000 MiB of memory and 0 GPUs and can be shared by up to 32 jobs.\n",
      "sbatch: Single node jobs run on a shared node by default. Add --exclusive if you want to use a node exclusively.\n",
      "sbatch: You will be charged for 0.03125 node. A full node consists of 32 CPU cores, 240000 MiB of memory and 0 GPUs and can be shared by up to 32 jobs.\n",
      "sbatch: Single node jobs run on a shared node by default. Add --exclusive if you want to use a node exclusively.\n",
      "sbatch: You will be charged for 0.03125 node. A full node consists of 32 CPU cores, 240000 MiB of memory and 0 GPUs and can be shared by up to 32 jobs.\n",
      "sbatch: Single node jobs run on a shared node by default. Add --exclusive if you want to use a node exclusively.\n",
      "sbatch: You will be charged for 0.03125 node. A full node consists of 32 CPU cores, 240000 MiB of memory and 0 GPUs and can be shared by up to 32 jobs.\n",
      "sbatch: Single node jobs run on a shared node by default. Add --exclusive if you want to use a node exclusively.\n",
      "sbatch: You will be charged for 0.03125 node. A full node consists of 32 CPU cores, 240000 MiB of memory and 0 GPUs and can be shared by up to 32 jobs.\n",
      "sbatch: Single node jobs run on a shared node by default. Add --exclusive if you want to use a node exclusively.\n",
      "sbatch: You will be charged for 0.03125 node. A full node consists of 32 CPU cores, 240000 MiB of memory and 0 GPUs and can be shared by up to 32 jobs.\n",
      "sbatch: Single node jobs run on a shared node by default. Add --exclusive if you want to use a node exclusively.\n",
      "sbatch: You will be charged for 0.03125 node. A full node consists of 32 CPU cores, 240000 MiB of memory and 0 GPUs and can be shared by up to 32 jobs.\n"
     ]
    },
    {
     "name": "stdout",
     "output_type": "stream",
     "text": [
      "Submitted batch job 418386\n",
      "Submitted batch job 418388\n",
      "Submitted batch job 418389\n",
      "Submitted batch job 418390\n"
     ]
    },
    {
     "name": "stderr",
     "output_type": "stream",
     "text": [
      "sbatch: Single node jobs run on a shared node by default. Add --exclusive if you want to use a node exclusively.\n",
      "sbatch: You will be charged for 0.03125 node. A full node consists of 32 CPU cores, 240000 MiB of memory and 0 GPUs and can be shared by up to 32 jobs.\n",
      "sbatch: Single node jobs run on a shared node by default. Add --exclusive if you want to use a node exclusively.\n",
      "sbatch: You will be charged for 0.03125 node. A full node consists of 32 CPU cores, 240000 MiB of memory and 0 GPUs and can be shared by up to 32 jobs.\n",
      "sbatch: Single node jobs run on a shared node by default. Add --exclusive if you want to use a node exclusively.\n",
      "sbatch: You will be charged for 0.03125 node. A full node consists of 32 CPU cores, 240000 MiB of memory and 0 GPUs and can be shared by up to 32 jobs.\n",
      "sbatch: Single node jobs run on a shared node by default. Add --exclusive if you want to use a node exclusively.\n",
      "sbatch: You will be charged for 0.03125 node. A full node consists of 32 CPU cores, 240000 MiB of memory and 0 GPUs and can be shared by up to 32 jobs.\n"
     ]
    },
    {
     "name": "stdout",
     "output_type": "stream",
     "text": [
      "Submitted batch job 418391\n",
      "Submitted batch job 418392\n",
      "Submitted batch job 418393\n",
      "Submitted batch job 418394\n"
     ]
    },
    {
     "name": "stderr",
     "output_type": "stream",
     "text": [
      "sbatch: Single node jobs run on a shared node by default. Add --exclusive if you want to use a node exclusively.\n",
      "sbatch: You will be charged for 0.03125 node. A full node consists of 32 CPU cores, 240000 MiB of memory and 0 GPUs and can be shared by up to 32 jobs.\n",
      "sbatch: Single node jobs run on a shared node by default. Add --exclusive if you want to use a node exclusively.\n",
      "sbatch: You will be charged for 0.03125 node. A full node consists of 32 CPU cores, 240000 MiB of memory and 0 GPUs and can be shared by up to 32 jobs.\n",
      "sbatch: Single node jobs run on a shared node by default. Add --exclusive if you want to use a node exclusively.\n",
      "sbatch: You will be charged for 0.03125 node. A full node consists of 32 CPU cores, 240000 MiB of memory and 0 GPUs and can be shared by up to 32 jobs.\n",
      "sbatch: Single node jobs run on a shared node by default. Add --exclusive if you want to use a node exclusively.\n",
      "sbatch: You will be charged for 0.03125 node. A full node consists of 32 CPU cores, 240000 MiB of memory and 0 GPUs and can be shared by up to 32 jobs.\n"
     ]
    },
    {
     "name": "stdout",
     "output_type": "stream",
     "text": [
      "Submitted batch job 418395\n",
      "Submitted batch job 418396\n",
      "Submitted batch job 418397\n",
      "Submitted batch job 418398\n"
     ]
    },
    {
     "name": "stderr",
     "output_type": "stream",
     "text": [
      "sbatch: Single node jobs run on a shared node by default. Add --exclusive if you want to use a node exclusively.\n",
      "sbatch: You will be charged for 0.03125 node. A full node consists of 32 CPU cores, 240000 MiB of memory and 0 GPUs and can be shared by up to 32 jobs.\n",
      "sbatch: Single node jobs run on a shared node by default. Add --exclusive if you want to use a node exclusively.\n",
      "sbatch: You will be charged for 0.03125 node. A full node consists of 32 CPU cores, 240000 MiB of memory and 0 GPUs and can be shared by up to 32 jobs.\n",
      "sbatch: Single node jobs run on a shared node by default. Add --exclusive if you want to use a node exclusively.\n",
      "sbatch: You will be charged for 0.03125 node. A full node consists of 32 CPU cores, 240000 MiB of memory and 0 GPUs and can be shared by up to 32 jobs.\n",
      "sbatch: Single node jobs run on a shared node by default. Add --exclusive if you want to use a node exclusively.\n",
      "sbatch: You will be charged for 0.03125 node. A full node consists of 32 CPU cores, 240000 MiB of memory and 0 GPUs and can be shared by up to 32 jobs.\n"
     ]
    },
    {
     "name": "stdout",
     "output_type": "stream",
     "text": [
      "Submitted batch job 418399\n",
      "Submitted batch job 418400\n",
      "Submitted batch job 418401\n",
      "Submitted batch job 418402\n",
      "Submitted batch job 418403\n",
      "Submitted batch job 418404\n",
      "Submitted batch job 418405\n",
      "Submitted batch job 418406\n"
     ]
    },
    {
     "name": "stderr",
     "output_type": "stream",
     "text": [
      "sbatch: Single node jobs run on a shared node by default. Add --exclusive if you want to use a node exclusively.\n",
      "sbatch: You will be charged for 0.03125 node. A full node consists of 32 CPU cores, 240000 MiB of memory and 0 GPUs and can be shared by up to 32 jobs.\n",
      "sbatch: Single node jobs run on a shared node by default. Add --exclusive if you want to use a node exclusively.\n",
      "sbatch: You will be charged for 0.03125 node. A full node consists of 32 CPU cores, 240000 MiB of memory and 0 GPUs and can be shared by up to 32 jobs.\n",
      "sbatch: Single node jobs run on a shared node by default. Add --exclusive if you want to use a node exclusively.\n",
      "sbatch: You will be charged for 0.03125 node. A full node consists of 32 CPU cores, 240000 MiB of memory and 0 GPUs and can be shared by up to 32 jobs.\n",
      "sbatch: Single node jobs run on a shared node by default. Add --exclusive if you want to use a node exclusively.\n",
      "sbatch: You will be charged for 0.03125 node. A full node consists of 32 CPU cores, 240000 MiB of memory and 0 GPUs and can be shared by up to 32 jobs.\n",
      "sbatch: Single node jobs run on a shared node by default. Add --exclusive if you want to use a node exclusively.\n",
      "sbatch: You will be charged for 0.03125 node. A full node consists of 32 CPU cores, 240000 MiB of memory and 0 GPUs and can be shared by up to 32 jobs.\n",
      "sbatch: Single node jobs run on a shared node by default. Add --exclusive if you want to use a node exclusively.\n",
      "sbatch: You will be charged for 0.03125 node. A full node consists of 32 CPU cores, 240000 MiB of memory and 0 GPUs and can be shared by up to 32 jobs.\n",
      "sbatch: Single node jobs run on a shared node by default. Add --exclusive if you want to use a node exclusively.\n",
      "sbatch: You will be charged for 0.03125 node. A full node consists of 32 CPU cores, 240000 MiB of memory and 0 GPUs and can be shared by up to 32 jobs.\n",
      "sbatch: Single node jobs run on a shared node by default. Add --exclusive if you want to use a node exclusively.\n",
      "sbatch: You will be charged for 0.03125 node. A full node consists of 32 CPU cores, 240000 MiB of memory and 0 GPUs and can be shared by up to 32 jobs.\n"
     ]
    },
    {
     "name": "stdout",
     "output_type": "stream",
     "text": [
      "Submitted batch job 418407\n",
      "Submitted batch job 418408\n",
      "Submitted batch job 418409\n",
      "Submitted batch job 418411\n"
     ]
    },
    {
     "name": "stderr",
     "output_type": "stream",
     "text": [
      "sbatch: Single node jobs run on a shared node by default. Add --exclusive if you want to use a node exclusively.\n",
      "sbatch: You will be charged for 0.03125 node. A full node consists of 32 CPU cores, 240000 MiB of memory and 0 GPUs and can be shared by up to 32 jobs.\n",
      "sbatch: Single node jobs run on a shared node by default. Add --exclusive if you want to use a node exclusively.\n",
      "sbatch: You will be charged for 0.03125 node. A full node consists of 32 CPU cores, 240000 MiB of memory and 0 GPUs and can be shared by up to 32 jobs.\n",
      "sbatch: Single node jobs run on a shared node by default. Add --exclusive if you want to use a node exclusively.\n",
      "sbatch: You will be charged for 0.03125 node. A full node consists of 32 CPU cores, 240000 MiB of memory and 0 GPUs and can be shared by up to 32 jobs.\n"
     ]
    },
    {
     "name": "stdout",
     "output_type": "stream",
     "text": [
      "Submitted batch job 418412\n",
      "Submitted batch job 418413\n",
      "Submitted batch job 418414\n"
     ]
    },
    {
     "name": "stderr",
     "output_type": "stream",
     "text": [
      "sbatch: Single node jobs run on a shared node by default. Add --exclusive if you want to use a node exclusively.\n",
      "sbatch: You will be charged for 0.03125 node. A full node consists of 32 CPU cores, 240000 MiB of memory and 0 GPUs and can be shared by up to 32 jobs.\n",
      "sbatch: Single node jobs run on a shared node by default. Add --exclusive if you want to use a node exclusively.\n",
      "sbatch: You will be charged for 0.03125 node. A full node consists of 32 CPU cores, 240000 MiB of memory and 0 GPUs and can be shared by up to 32 jobs.\n",
      "sbatch: Single node jobs run on a shared node by default. Add --exclusive if you want to use a node exclusively.\n",
      "sbatch: You will be charged for 0.03125 node. A full node consists of 32 CPU cores, 240000 MiB of memory and 0 GPUs and can be shared by up to 32 jobs.\n",
      "sbatch: Single node jobs run on a shared node by default. Add --exclusive if you want to use a node exclusively.\n",
      "sbatch: You will be charged for 0.03125 node. A full node consists of 32 CPU cores, 240000 MiB of memory and 0 GPUs and can be shared by up to 32 jobs.\n"
     ]
    },
    {
     "name": "stdout",
     "output_type": "stream",
     "text": [
      "Submitted batch job 418415\n",
      "Submitted batch job 418416\n",
      "Submitted batch job 418417\n",
      "Submitted batch job 418418\n"
     ]
    },
    {
     "name": "stderr",
     "output_type": "stream",
     "text": [
      "sbatch: Single node jobs run on a shared node by default. Add --exclusive if you want to use a node exclusively.\n",
      "sbatch: You will be charged for 0.03125 node. A full node consists of 32 CPU cores, 240000 MiB of memory and 0 GPUs and can be shared by up to 32 jobs.\n",
      "sbatch: Single node jobs run on a shared node by default. Add --exclusive if you want to use a node exclusively.\n",
      "sbatch: You will be charged for 0.03125 node. A full node consists of 32 CPU cores, 240000 MiB of memory and 0 GPUs and can be shared by up to 32 jobs.\n",
      "sbatch: Single node jobs run on a shared node by default. Add --exclusive if you want to use a node exclusively.\n",
      "sbatch: You will be charged for 0.03125 node. A full node consists of 32 CPU cores, 240000 MiB of memory and 0 GPUs and can be shared by up to 32 jobs.\n",
      "sbatch: Single node jobs run on a shared node by default. Add --exclusive if you want to use a node exclusively.\n",
      "sbatch: You will be charged for 0.03125 node. A full node consists of 32 CPU cores, 240000 MiB of memory and 0 GPUs and can be shared by up to 32 jobs.\n"
     ]
    },
    {
     "name": "stdout",
     "output_type": "stream",
     "text": [
      "Submitted batch job 418419\n",
      "Submitted batch job 418420\n",
      "Submitted batch job 418421\n",
      "Submitted batch job 418422\n"
     ]
    },
    {
     "name": "stderr",
     "output_type": "stream",
     "text": [
      "sbatch: Single node jobs run on a shared node by default. Add --exclusive if you want to use a node exclusively.\n",
      "sbatch: You will be charged for 0.03125 node. A full node consists of 32 CPU cores, 240000 MiB of memory and 0 GPUs and can be shared by up to 32 jobs.\n",
      "sbatch: Single node jobs run on a shared node by default. Add --exclusive if you want to use a node exclusively.\n",
      "sbatch: You will be charged for 0.03125 node. A full node consists of 32 CPU cores, 240000 MiB of memory and 0 GPUs and can be shared by up to 32 jobs.\n",
      "sbatch: Single node jobs run on a shared node by default. Add --exclusive if you want to use a node exclusively.\n",
      "sbatch: You will be charged for 0.03125 node. A full node consists of 32 CPU cores, 240000 MiB of memory and 0 GPUs and can be shared by up to 32 jobs.\n",
      "sbatch: Single node jobs run on a shared node by default. Add --exclusive if you want to use a node exclusively.\n",
      "sbatch: You will be charged for 0.03125 node. A full node consists of 32 CPU cores, 240000 MiB of memory and 0 GPUs and can be shared by up to 32 jobs.\n"
     ]
    },
    {
     "name": "stdout",
     "output_type": "stream",
     "text": [
      "Submitted batch job 418423\n",
      "Submitted batch job 418424\n",
      "Submitted batch job 418425\n",
      "Submitted batch job 418426\n"
     ]
    },
    {
     "name": "stderr",
     "output_type": "stream",
     "text": [
      "sbatch: Single node jobs run on a shared node by default. Add --exclusive if you want to use a node exclusively.\n",
      "sbatch: You will be charged for 0.03125 node. A full node consists of 32 CPU cores, 240000 MiB of memory and 0 GPUs and can be shared by up to 32 jobs.\n",
      "sbatch: Single node jobs run on a shared node by default. Add --exclusive if you want to use a node exclusively.\n",
      "sbatch: You will be charged for 0.03125 node. A full node consists of 32 CPU cores, 240000 MiB of memory and 0 GPUs and can be shared by up to 32 jobs.\n",
      "sbatch: Single node jobs run on a shared node by default. Add --exclusive if you want to use a node exclusively.\n",
      "sbatch: You will be charged for 0.03125 node. A full node consists of 32 CPU cores, 240000 MiB of memory and 0 GPUs and can be shared by up to 32 jobs.\n",
      "sbatch: Single node jobs run on a shared node by default. Add --exclusive if you want to use a node exclusively.\n",
      "sbatch: You will be charged for 0.03125 node. A full node consists of 32 CPU cores, 240000 MiB of memory and 0 GPUs and can be shared by up to 32 jobs.\n"
     ]
    },
    {
     "name": "stdout",
     "output_type": "stream",
     "text": [
      "Submitted batch job 418427\n",
      "Submitted batch job 418428\n",
      "Submitted batch job 418429\n",
      "Submitted batch job 418431\n"
     ]
    },
    {
     "name": "stderr",
     "output_type": "stream",
     "text": [
      "sbatch: Single node jobs run on a shared node by default. Add --exclusive if you want to use a node exclusively.\n",
      "sbatch: You will be charged for 0.03125 node. A full node consists of 32 CPU cores, 240000 MiB of memory and 0 GPUs and can be shared by up to 32 jobs.\n",
      "sbatch: Single node jobs run on a shared node by default. Add --exclusive if you want to use a node exclusively.\n",
      "sbatch: You will be charged for 0.03125 node. A full node consists of 32 CPU cores, 240000 MiB of memory and 0 GPUs and can be shared by up to 32 jobs.\n",
      "sbatch: Single node jobs run on a shared node by default. Add --exclusive if you want to use a node exclusively.\n",
      "sbatch: You will be charged for 0.03125 node. A full node consists of 32 CPU cores, 240000 MiB of memory and 0 GPUs and can be shared by up to 32 jobs.\n",
      "sbatch: Single node jobs run on a shared node by default. Add --exclusive if you want to use a node exclusively.\n",
      "sbatch: You will be charged for 0.03125 node. A full node consists of 32 CPU cores, 240000 MiB of memory and 0 GPUs and can be shared by up to 32 jobs.\n"
     ]
    },
    {
     "name": "stdout",
     "output_type": "stream",
     "text": [
      "Submitted batch job 418432\n",
      "Submitted batch job 418433\n",
      "Submitted batch job 418434\n",
      "Submitted batch job 418435\n"
     ]
    },
    {
     "name": "stderr",
     "output_type": "stream",
     "text": [
      "sbatch: Single node jobs run on a shared node by default. Add --exclusive if you want to use a node exclusively.\n",
      "sbatch: You will be charged for 0.03125 node. A full node consists of 32 CPU cores, 240000 MiB of memory and 0 GPUs and can be shared by up to 32 jobs.\n",
      "sbatch: Single node jobs run on a shared node by default. Add --exclusive if you want to use a node exclusively.\n",
      "sbatch: You will be charged for 0.03125 node. A full node consists of 32 CPU cores, 240000 MiB of memory and 0 GPUs and can be shared by up to 32 jobs.\n",
      "sbatch: Single node jobs run on a shared node by default. Add --exclusive if you want to use a node exclusively.\n",
      "sbatch: You will be charged for 0.03125 node. A full node consists of 32 CPU cores, 240000 MiB of memory and 0 GPUs and can be shared by up to 32 jobs.\n",
      "sbatch: Single node jobs run on a shared node by default. Add --exclusive if you want to use a node exclusively.\n",
      "sbatch: You will be charged for 0.03125 node. A full node consists of 32 CPU cores, 240000 MiB of memory and 0 GPUs and can be shared by up to 32 jobs.\n"
     ]
    },
    {
     "name": "stdout",
     "output_type": "stream",
     "text": [
      "Submitted batch job 418436\n",
      "Submitted batch job 418437\n",
      "Submitted batch job 418438\n",
      "Submitted batch job 418439\n"
     ]
    },
    {
     "name": "stderr",
     "output_type": "stream",
     "text": [
      "sbatch: Single node jobs run on a shared node by default. Add --exclusive if you want to use a node exclusively.\n",
      "sbatch: You will be charged for 0.03125 node. A full node consists of 32 CPU cores, 240000 MiB of memory and 0 GPUs and can be shared by up to 32 jobs.\n",
      "sbatch: Single node jobs run on a shared node by default. Add --exclusive if you want to use a node exclusively.\n",
      "sbatch: You will be charged for 0.03125 node. A full node consists of 32 CPU cores, 240000 MiB of memory and 0 GPUs and can be shared by up to 32 jobs.\n",
      "sbatch: Single node jobs run on a shared node by default. Add --exclusive if you want to use a node exclusively.\n",
      "sbatch: You will be charged for 0.03125 node. A full node consists of 32 CPU cores, 240000 MiB of memory and 0 GPUs and can be shared by up to 32 jobs.\n",
      "sbatch: Single node jobs run on a shared node by default. Add --exclusive if you want to use a node exclusively.\n",
      "sbatch: You will be charged for 0.03125 node. A full node consists of 32 CPU cores, 240000 MiB of memory and 0 GPUs and can be shared by up to 32 jobs.\n"
     ]
    },
    {
     "name": "stdout",
     "output_type": "stream",
     "text": [
      "Submitted batch job 418440\n",
      "Submitted batch job 418441\n",
      "Submitted batch job 418442\n",
      "Submitted batch job 418443\n",
      "Submitted batch job 418444\n",
      "Submitted batch job 418445\n",
      "Submitted batch job 418446\n",
      "Submitted batch job 418447\n"
     ]
    },
    {
     "name": "stderr",
     "output_type": "stream",
     "text": [
      "sbatch: Single node jobs run on a shared node by default. Add --exclusive if you want to use a node exclusively.\n",
      "sbatch: You will be charged for 0.03125 node. A full node consists of 32 CPU cores, 240000 MiB of memory and 0 GPUs and can be shared by up to 32 jobs.\n",
      "sbatch: Single node jobs run on a shared node by default. Add --exclusive if you want to use a node exclusively.\n",
      "sbatch: You will be charged for 0.03125 node. A full node consists of 32 CPU cores, 240000 MiB of memory and 0 GPUs and can be shared by up to 32 jobs.\n",
      "sbatch: Single node jobs run on a shared node by default. Add --exclusive if you want to use a node exclusively.\n",
      "sbatch: You will be charged for 0.03125 node. A full node consists of 32 CPU cores, 240000 MiB of memory and 0 GPUs and can be shared by up to 32 jobs.\n",
      "sbatch: Single node jobs run on a shared node by default. Add --exclusive if you want to use a node exclusively.\n",
      "sbatch: You will be charged for 0.03125 node. A full node consists of 32 CPU cores, 240000 MiB of memory and 0 GPUs and can be shared by up to 32 jobs.\n",
      "sbatch: Single node jobs run on a shared node by default. Add --exclusive if you want to use a node exclusively.\n",
      "sbatch: You will be charged for 0.03125 node. A full node consists of 32 CPU cores, 240000 MiB of memory and 0 GPUs and can be shared by up to 32 jobs.\n",
      "sbatch: Single node jobs run on a shared node by default. Add --exclusive if you want to use a node exclusively.\n",
      "sbatch: You will be charged for 0.03125 node. A full node consists of 32 CPU cores, 240000 MiB of memory and 0 GPUs and can be shared by up to 32 jobs.\n",
      "sbatch: Single node jobs run on a shared node by default. Add --exclusive if you want to use a node exclusively.\n",
      "sbatch: You will be charged for 0.03125 node. A full node consists of 32 CPU cores, 240000 MiB of memory and 0 GPUs and can be shared by up to 32 jobs.\n",
      "sbatch: Single node jobs run on a shared node by default. Add --exclusive if you want to use a node exclusively.\n",
      "sbatch: You will be charged for 0.03125 node. A full node consists of 32 CPU cores, 240000 MiB of memory and 0 GPUs and can be shared by up to 32 jobs.\n"
     ]
    },
    {
     "name": "stdout",
     "output_type": "stream",
     "text": [
      "Submitted batch job 418448\n",
      "Submitted batch job 418449\n",
      "Submitted batch job 418450\n",
      "Submitted batch job 418452\n"
     ]
    },
    {
     "name": "stderr",
     "output_type": "stream",
     "text": [
      "sbatch: Single node jobs run on a shared node by default. Add --exclusive if you want to use a node exclusively.\n",
      "sbatch: You will be charged for 0.03125 node. A full node consists of 32 CPU cores, 240000 MiB of memory and 0 GPUs and can be shared by up to 32 jobs.\n",
      "sbatch: Single node jobs run on a shared node by default. Add --exclusive if you want to use a node exclusively.\n",
      "sbatch: You will be charged for 0.03125 node. A full node consists of 32 CPU cores, 240000 MiB of memory and 0 GPUs and can be shared by up to 32 jobs.\n",
      "sbatch: Single node jobs run on a shared node by default. Add --exclusive if you want to use a node exclusively.\n",
      "sbatch: You will be charged for 0.03125 node. A full node consists of 32 CPU cores, 240000 MiB of memory and 0 GPUs and can be shared by up to 32 jobs.\n",
      "sbatch: Single node jobs run on a shared node by default. Add --exclusive if you want to use a node exclusively.\n",
      "sbatch: You will be charged for 0.03125 node. A full node consists of 32 CPU cores, 240000 MiB of memory and 0 GPUs and can be shared by up to 32 jobs.\n"
     ]
    },
    {
     "name": "stdout",
     "output_type": "stream",
     "text": [
      "Submitted batch job 418453\n",
      "Submitted batch job 418454\n",
      "Submitted batch job 418455\n",
      "Submitted batch job 418456\n"
     ]
    },
    {
     "name": "stderr",
     "output_type": "stream",
     "text": [
      "sbatch: Single node jobs run on a shared node by default. Add --exclusive if you want to use a node exclusively.\n",
      "sbatch: You will be charged for 0.03125 node. A full node consists of 32 CPU cores, 240000 MiB of memory and 0 GPUs and can be shared by up to 32 jobs.\n",
      "sbatch: Single node jobs run on a shared node by default. Add --exclusive if you want to use a node exclusively.\n",
      "sbatch: You will be charged for 0.03125 node. A full node consists of 32 CPU cores, 240000 MiB of memory and 0 GPUs and can be shared by up to 32 jobs.\n",
      "sbatch: Single node jobs run on a shared node by default. Add --exclusive if you want to use a node exclusively.\n",
      "sbatch: You will be charged for 0.03125 node. A full node consists of 32 CPU cores, 240000 MiB of memory and 0 GPUs and can be shared by up to 32 jobs.\n",
      "sbatch: Single node jobs run on a shared node by default. Add --exclusive if you want to use a node exclusively.\n",
      "sbatch: You will be charged for 0.03125 node. A full node consists of 32 CPU cores, 240000 MiB of memory and 0 GPUs and can be shared by up to 32 jobs.\n"
     ]
    },
    {
     "name": "stdout",
     "output_type": "stream",
     "text": [
      "Submitted batch job 418457\n",
      "Submitted batch job 418458\n",
      "Submitted batch job 418459\n",
      "Submitted batch job 418460\n"
     ]
    },
    {
     "name": "stderr",
     "output_type": "stream",
     "text": [
      "sbatch: Single node jobs run on a shared node by default. Add --exclusive if you want to use a node exclusively.\n",
      "sbatch: You will be charged for 0.03125 node. A full node consists of 32 CPU cores, 240000 MiB of memory and 0 GPUs and can be shared by up to 32 jobs.\n",
      "sbatch: Single node jobs run on a shared node by default. Add --exclusive if you want to use a node exclusively.\n",
      "sbatch: You will be charged for 0.03125 node. A full node consists of 32 CPU cores, 240000 MiB of memory and 0 GPUs and can be shared by up to 32 jobs.\n",
      "sbatch: Single node jobs run on a shared node by default. Add --exclusive if you want to use a node exclusively.\n",
      "sbatch: You will be charged for 0.03125 node. A full node consists of 32 CPU cores, 240000 MiB of memory and 0 GPUs and can be shared by up to 32 jobs.\n"
     ]
    },
    {
     "name": "stdout",
     "output_type": "stream",
     "text": [
      "Submitted batch job 418461\n",
      "Submitted batch job 418462\n",
      "Submitted batch job 418463\n",
      "Submitted batch job 418464\n",
      "Submitted batch job 418465\n"
     ]
    },
    {
     "name": "stderr",
     "output_type": "stream",
     "text": [
      "sbatch: Single node jobs run on a shared node by default. Add --exclusive if you want to use a node exclusively.\n",
      "sbatch: You will be charged for 0.03125 node. A full node consists of 32 CPU cores, 240000 MiB of memory and 0 GPUs and can be shared by up to 32 jobs.\n",
      "sbatch: Single node jobs run on a shared node by default. Add --exclusive if you want to use a node exclusively.\n",
      "sbatch: You will be charged for 0.03125 node. A full node consists of 32 CPU cores, 240000 MiB of memory and 0 GPUs and can be shared by up to 32 jobs.\n"
     ]
    },
    {
     "name": "stdout",
     "output_type": "stream",
     "text": [
      "Submitted batch job 418466\n",
      "Submitted batch job 418467\n"
     ]
    },
    {
     "name": "stderr",
     "output_type": "stream",
     "text": [
      "sbatch: Single node jobs run on a shared node by default. Add --exclusive if you want to use a node exclusively.\n",
      "sbatch: You will be charged for 0.03125 node. A full node consists of 32 CPU cores, 240000 MiB of memory and 0 GPUs and can be shared by up to 32 jobs.\n",
      "sbatch: Single node jobs run on a shared node by default. Add --exclusive if you want to use a node exclusively.\n",
      "sbatch: You will be charged for 0.03125 node. A full node consists of 32 CPU cores, 240000 MiB of memory and 0 GPUs and can be shared by up to 32 jobs.\n",
      "sbatch: Single node jobs run on a shared node by default. Add --exclusive if you want to use a node exclusively.\n",
      "sbatch: You will be charged for 0.03125 node. A full node consists of 32 CPU cores, 240000 MiB of memory and 0 GPUs and can be shared by up to 32 jobs.\n",
      "sbatch: Single node jobs run on a shared node by default. Add --exclusive if you want to use a node exclusively.\n",
      "sbatch: You will be charged for 0.03125 node. A full node consists of 32 CPU cores, 240000 MiB of memory and 0 GPUs and can be shared by up to 32 jobs.\n",
      "sbatch: Single node jobs run on a shared node by default. Add --exclusive if you want to use a node exclusively.\n",
      "sbatch: You will be charged for 0.03125 node. A full node consists of 32 CPU cores, 240000 MiB of memory and 0 GPUs and can be shared by up to 32 jobs.\n",
      "sbatch: Single node jobs run on a shared node by default. Add --exclusive if you want to use a node exclusively.\n",
      "sbatch: You will be charged for 0.03125 node. A full node consists of 32 CPU cores, 240000 MiB of memory and 0 GPUs and can be shared by up to 32 jobs.\n"
     ]
    },
    {
     "name": "stdout",
     "output_type": "stream",
     "text": [
      "Submitted batch job 418468\n",
      "Submitted batch job 418469\n",
      "Submitted batch job 418470\n",
      "Submitted batch job 418471\n",
      "Submitted batch job 418472\n"
     ]
    },
    {
     "name": "stderr",
     "output_type": "stream",
     "text": [
      "sbatch: Single node jobs run on a shared node by default. Add --exclusive if you want to use a node exclusively.\n",
      "sbatch: You will be charged for 0.03125 node. A full node consists of 32 CPU cores, 240000 MiB of memory and 0 GPUs and can be shared by up to 32 jobs.\n"
     ]
    },
    {
     "name": "stdout",
     "output_type": "stream",
     "text": [
      "Submitted batch job 418473\n",
      "Submitted batch job 418474\n",
      "Submitted batch job 418475\n"
     ]
    },
    {
     "name": "stderr",
     "output_type": "stream",
     "text": [
      "sbatch: Single node jobs run on a shared node by default. Add --exclusive if you want to use a node exclusively.\n",
      "sbatch: You will be charged for 0.03125 node. A full node consists of 32 CPU cores, 240000 MiB of memory and 0 GPUs and can be shared by up to 32 jobs.\n",
      "sbatch: Single node jobs run on a shared node by default. Add --exclusive if you want to use a node exclusively.\n",
      "sbatch: You will be charged for 0.03125 node. A full node consists of 32 CPU cores, 240000 MiB of memory and 0 GPUs and can be shared by up to 32 jobs.\n",
      "sbatch: Single node jobs run on a shared node by default. Add --exclusive if you want to use a node exclusively.\n",
      "sbatch: You will be charged for 0.03125 node. A full node consists of 32 CPU cores, 240000 MiB of memory and 0 GPUs and can be shared by up to 32 jobs.\n",
      "sbatch: Single node jobs run on a shared node by default. Add --exclusive if you want to use a node exclusively.\n",
      "sbatch: You will be charged for 0.03125 node. A full node consists of 32 CPU cores, 240000 MiB of memory and 0 GPUs and can be shared by up to 32 jobs.\n",
      "sbatch: Single node jobs run on a shared node by default. Add --exclusive if you want to use a node exclusively.\n",
      "sbatch: You will be charged for 0.03125 node. A full node consists of 32 CPU cores, 240000 MiB of memory and 0 GPUs and can be shared by up to 32 jobs.\n",
      "sbatch: Single node jobs run on a shared node by default. Add --exclusive if you want to use a node exclusively.\n",
      "sbatch: You will be charged for 0.03125 node. A full node consists of 32 CPU cores, 240000 MiB of memory and 0 GPUs and can be shared by up to 32 jobs.\n"
     ]
    },
    {
     "name": "stdout",
     "output_type": "stream",
     "text": [
      "Submitted batch job 418477\n",
      "Submitted batch job 418478\n",
      "Submitted batch job 418479\n"
     ]
    },
    {
     "name": "stderr",
     "output_type": "stream",
     "text": [
      "sbatch: Single node jobs run on a shared node by default. Add --exclusive if you want to use a node exclusively.\n",
      "sbatch: You will be charged for 0.03125 node. A full node consists of 32 CPU cores, 240000 MiB of memory and 0 GPUs and can be shared by up to 32 jobs.\n",
      "sbatch: Single node jobs run on a shared node by default. Add --exclusive if you want to use a node exclusively.\n",
      "sbatch: You will be charged for 0.03125 node. A full node consists of 32 CPU cores, 240000 MiB of memory and 0 GPUs and can be shared by up to 32 jobs.\n",
      "sbatch: Single node jobs run on a shared node by default. Add --exclusive if you want to use a node exclusively.\n",
      "sbatch: You will be charged for 0.03125 node. A full node consists of 32 CPU cores, 240000 MiB of memory and 0 GPUs and can be shared by up to 32 jobs.\n",
      "sbatch: Single node jobs run on a shared node by default. Add --exclusive if you want to use a node exclusively.\n",
      "sbatch: You will be charged for 0.03125 node. A full node consists of 32 CPU cores, 240000 MiB of memory and 0 GPUs and can be shared by up to 32 jobs.\n"
     ]
    },
    {
     "name": "stdout",
     "output_type": "stream",
     "text": [
      "Submitted batch job 418480\n",
      "Submitted batch job 418481\n",
      "Submitted batch job 418482\n",
      "Submitted batch job 418483\n"
     ]
    },
    {
     "name": "stderr",
     "output_type": "stream",
     "text": [
      "sbatch: Single node jobs run on a shared node by default. Add --exclusive if you want to use a node exclusively.\n",
      "sbatch: You will be charged for 0.03125 node. A full node consists of 32 CPU cores, 240000 MiB of memory and 0 GPUs and can be shared by up to 32 jobs.\n",
      "sbatch: Single node jobs run on a shared node by default. Add --exclusive if you want to use a node exclusively.\n",
      "sbatch: You will be charged for 0.03125 node. A full node consists of 32 CPU cores, 240000 MiB of memory and 0 GPUs and can be shared by up to 32 jobs.\n",
      "sbatch: Single node jobs run on a shared node by default. Add --exclusive if you want to use a node exclusively.\n",
      "sbatch: You will be charged for 0.03125 node. A full node consists of 32 CPU cores, 240000 MiB of memory and 0 GPUs and can be shared by up to 32 jobs.\n",
      "sbatch: Single node jobs run on a shared node by default. Add --exclusive if you want to use a node exclusively.\n",
      "sbatch: You will be charged for 0.03125 node. A full node consists of 32 CPU cores, 240000 MiB of memory and 0 GPUs and can be shared by up to 32 jobs.\n"
     ]
    },
    {
     "name": "stdout",
     "output_type": "stream",
     "text": [
      "Submitted batch job 418484\n",
      "Submitted batch job 418485\n",
      "Submitted batch job 418486\n",
      "Submitted batch job 418487\n"
     ]
    },
    {
     "name": "stderr",
     "output_type": "stream",
     "text": [
      "sbatch: Single node jobs run on a shared node by default. Add --exclusive if you want to use a node exclusively.\n",
      "sbatch: You will be charged for 0.03125 node. A full node consists of 32 CPU cores, 240000 MiB of memory and 0 GPUs and can be shared by up to 32 jobs.\n",
      "sbatch: Single node jobs run on a shared node by default. Add --exclusive if you want to use a node exclusively.\n",
      "sbatch: You will be charged for 0.03125 node. A full node consists of 32 CPU cores, 240000 MiB of memory and 0 GPUs and can be shared by up to 32 jobs.\n",
      "sbatch: Single node jobs run on a shared node by default. Add --exclusive if you want to use a node exclusively.\n",
      "sbatch: You will be charged for 0.03125 node. A full node consists of 32 CPU cores, 240000 MiB of memory and 0 GPUs and can be shared by up to 32 jobs.\n",
      "sbatch: Single node jobs run on a shared node by default. Add --exclusive if you want to use a node exclusively.\n",
      "sbatch: You will be charged for 0.03125 node. A full node consists of 32 CPU cores, 240000 MiB of memory and 0 GPUs and can be shared by up to 32 jobs.\n"
     ]
    },
    {
     "name": "stdout",
     "output_type": "stream",
     "text": [
      "Submitted batch job 418488\n",
      "Submitted batch job 418489\n",
      "Submitted batch job 418490\n",
      "Submitted batch job 418491\n"
     ]
    },
    {
     "name": "stderr",
     "output_type": "stream",
     "text": [
      "sbatch: Single node jobs run on a shared node by default. Add --exclusive if you want to use a node exclusively.\n",
      "sbatch: You will be charged for 0.03125 node. A full node consists of 32 CPU cores, 240000 MiB of memory and 0 GPUs and can be shared by up to 32 jobs.\n",
      "sbatch: Single node jobs run on a shared node by default. Add --exclusive if you want to use a node exclusively.\n",
      "sbatch: You will be charged for 0.03125 node. A full node consists of 32 CPU cores, 240000 MiB of memory and 0 GPUs and can be shared by up to 32 jobs.\n",
      "sbatch: Single node jobs run on a shared node by default. Add --exclusive if you want to use a node exclusively.\n",
      "sbatch: You will be charged for 0.03125 node. A full node consists of 32 CPU cores, 240000 MiB of memory and 0 GPUs and can be shared by up to 32 jobs.\n",
      "sbatch: Single node jobs run on a shared node by default. Add --exclusive if you want to use a node exclusively.\n",
      "sbatch: You will be charged for 0.03125 node. A full node consists of 32 CPU cores, 240000 MiB of memory and 0 GPUs and can be shared by up to 32 jobs.\n"
     ]
    },
    {
     "name": "stdout",
     "output_type": "stream",
     "text": [
      "Submitted batch job 418492\n",
      "Submitted batch job 418493\n",
      "Submitted batch job 418494\n",
      "Submitted batch job 418495\n"
     ]
    },
    {
     "name": "stderr",
     "output_type": "stream",
     "text": [
      "sbatch: Single node jobs run on a shared node by default. Add --exclusive if you want to use a node exclusively.\n",
      "sbatch: You will be charged for 0.03125 node. A full node consists of 32 CPU cores, 240000 MiB of memory and 0 GPUs and can be shared by up to 32 jobs.\n",
      "sbatch: Single node jobs run on a shared node by default. Add --exclusive if you want to use a node exclusively.\n",
      "sbatch: You will be charged for 0.03125 node. A full node consists of 32 CPU cores, 240000 MiB of memory and 0 GPUs and can be shared by up to 32 jobs.\n",
      "sbatch: Single node jobs run on a shared node by default. Add --exclusive if you want to use a node exclusively.\n",
      "sbatch: You will be charged for 0.03125 node. A full node consists of 32 CPU cores, 240000 MiB of memory and 0 GPUs and can be shared by up to 32 jobs.\n",
      "sbatch: Single node jobs run on a shared node by default. Add --exclusive if you want to use a node exclusively.\n",
      "sbatch: You will be charged for 0.03125 node. A full node consists of 32 CPU cores, 240000 MiB of memory and 0 GPUs and can be shared by up to 32 jobs.\n",
      "sbatch: Single node jobs run on a shared node by default. Add --exclusive if you want to use a node exclusively.\n",
      "sbatch: You will be charged for 0.03125 node. A full node consists of 32 CPU cores, 240000 MiB of memory and 0 GPUs and can be shared by up to 32 jobs.\n"
     ]
    },
    {
     "name": "stdout",
     "output_type": "stream",
     "text": [
      "Submitted batch job 418496\n",
      "Submitted batch job 418497\n",
      "Submitted batch job 418499\n",
      "Submitted batch job 418500\n",
      "Submitted batch job 418501\n"
     ]
    },
    {
     "name": "stderr",
     "output_type": "stream",
     "text": [
      "sbatch: Single node jobs run on a shared node by default. Add --exclusive if you want to use a node exclusively.\n",
      "sbatch: You will be charged for 0.03125 node. A full node consists of 32 CPU cores, 240000 MiB of memory and 0 GPUs and can be shared by up to 32 jobs.\n",
      "sbatch: Single node jobs run on a shared node by default. Add --exclusive if you want to use a node exclusively.\n",
      "sbatch: You will be charged for 0.03125 node. A full node consists of 32 CPU cores, 240000 MiB of memory and 0 GPUs and can be shared by up to 32 jobs.\n",
      "sbatch: Single node jobs run on a shared node by default. Add --exclusive if you want to use a node exclusively.\n",
      "sbatch: You will be charged for 0.03125 node. A full node consists of 32 CPU cores, 240000 MiB of memory and 0 GPUs and can be shared by up to 32 jobs.\n",
      "sbatch: Single node jobs run on a shared node by default. Add --exclusive if you want to use a node exclusively.\n",
      "sbatch: You will be charged for 0.03125 node. A full node consists of 32 CPU cores, 240000 MiB of memory and 0 GPUs and can be shared by up to 32 jobs.\n"
     ]
    },
    {
     "name": "stdout",
     "output_type": "stream",
     "text": [
      "Submitted batch job 418502\n",
      "Submitted batch job 418503\n",
      "Submitted batch job 418504\n",
      "Submitted batch job 418505\n"
     ]
    },
    {
     "name": "stderr",
     "output_type": "stream",
     "text": [
      "sbatch: Single node jobs run on a shared node by default. Add --exclusive if you want to use a node exclusively.\n",
      "sbatch: You will be charged for 0.03125 node. A full node consists of 32 CPU cores, 240000 MiB of memory and 0 GPUs and can be shared by up to 32 jobs.\n",
      "sbatch: Single node jobs run on a shared node by default. Add --exclusive if you want to use a node exclusively.\n",
      "sbatch: You will be charged for 0.03125 node. A full node consists of 32 CPU cores, 240000 MiB of memory and 0 GPUs and can be shared by up to 32 jobs.\n",
      "sbatch: Single node jobs run on a shared node by default. Add --exclusive if you want to use a node exclusively.\n",
      "sbatch: You will be charged for 0.03125 node. A full node consists of 32 CPU cores, 240000 MiB of memory and 0 GPUs and can be shared by up to 32 jobs.\n",
      "sbatch: Single node jobs run on a shared node by default. Add --exclusive if you want to use a node exclusively.\n",
      "sbatch: You will be charged for 0.03125 node. A full node consists of 32 CPU cores, 240000 MiB of memory and 0 GPUs and can be shared by up to 32 jobs.\n"
     ]
    },
    {
     "name": "stdout",
     "output_type": "stream",
     "text": [
      "Submitted batch job 418506\n",
      "Submitted batch job 418507\n",
      "Submitted batch job 418508\n",
      "Submitted batch job 418509\n"
     ]
    },
    {
     "name": "stderr",
     "output_type": "stream",
     "text": [
      "sbatch: Single node jobs run on a shared node by default. Add --exclusive if you want to use a node exclusively.\n",
      "sbatch: You will be charged for 0.03125 node. A full node consists of 32 CPU cores, 240000 MiB of memory and 0 GPUs and can be shared by up to 32 jobs.\n",
      "sbatch: Single node jobs run on a shared node by default. Add --exclusive if you want to use a node exclusively.\n",
      "sbatch: You will be charged for 0.03125 node. A full node consists of 32 CPU cores, 240000 MiB of memory and 0 GPUs and can be shared by up to 32 jobs.\n",
      "sbatch: Single node jobs run on a shared node by default. Add --exclusive if you want to use a node exclusively.\n",
      "sbatch: You will be charged for 0.03125 node. A full node consists of 32 CPU cores, 240000 MiB of memory and 0 GPUs and can be shared by up to 32 jobs.\n",
      "sbatch: Single node jobs run on a shared node by default. Add --exclusive if you want to use a node exclusively.\n",
      "sbatch: You will be charged for 0.03125 node. A full node consists of 32 CPU cores, 240000 MiB of memory and 0 GPUs and can be shared by up to 32 jobs.\n",
      "sbatch: Single node jobs run on a shared node by default. Add --exclusive if you want to use a node exclusively.\n",
      "sbatch: You will be charged for 0.03125 node. A full node consists of 32 CPU cores, 240000 MiB of memory and 0 GPUs and can be shared by up to 32 jobs.\n"
     ]
    },
    {
     "name": "stdout",
     "output_type": "stream",
     "text": [
      "Submitted batch job 418510\n",
      "Submitted batch job 418511\n",
      "Submitted batch job 418512\n",
      "Submitted batch job 418513\n",
      "Submitted batch job 418514\n"
     ]
    },
    {
     "name": "stderr",
     "output_type": "stream",
     "text": [
      "sbatch: Single node jobs run on a shared node by default. Add --exclusive if you want to use a node exclusively.\n",
      "sbatch: You will be charged for 0.03125 node. A full node consists of 32 CPU cores, 240000 MiB of memory and 0 GPUs and can be shared by up to 32 jobs.\n",
      "sbatch: Single node jobs run on a shared node by default. Add --exclusive if you want to use a node exclusively.\n",
      "sbatch: You will be charged for 0.03125 node. A full node consists of 32 CPU cores, 240000 MiB of memory and 0 GPUs and can be shared by up to 32 jobs.\n",
      "sbatch: Single node jobs run on a shared node by default. Add --exclusive if you want to use a node exclusively.\n",
      "sbatch: You will be charged for 0.03125 node. A full node consists of 32 CPU cores, 240000 MiB of memory and 0 GPUs and can be shared by up to 32 jobs.\n",
      "sbatch: Single node jobs run on a shared node by default. Add --exclusive if you want to use a node exclusively.\n",
      "sbatch: You will be charged for 0.03125 node. A full node consists of 32 CPU cores, 240000 MiB of memory and 0 GPUs and can be shared by up to 32 jobs.\n"
     ]
    },
    {
     "name": "stdout",
     "output_type": "stream",
     "text": [
      "Submitted batch job 418515\n",
      "Submitted batch job 418516\n",
      "Submitted batch job 418517\n",
      "Submitted batch job 418518\n"
     ]
    },
    {
     "name": "stderr",
     "output_type": "stream",
     "text": [
      "sbatch: Single node jobs run on a shared node by default. Add --exclusive if you want to use a node exclusively.\n",
      "sbatch: You will be charged for 0.03125 node. A full node consists of 32 CPU cores, 240000 MiB of memory and 0 GPUs and can be shared by up to 32 jobs.\n"
     ]
    },
    {
     "name": "stdout",
     "output_type": "stream",
     "text": [
      "Submitted batch job 418519\n"
     ]
    },
    {
     "name": "stderr",
     "output_type": "stream",
     "text": [
      "sbatch: Single node jobs run on a shared node by default. Add --exclusive if you want to use a node exclusively.\n",
      "sbatch: You will be charged for 0.03125 node. A full node consists of 32 CPU cores, 240000 MiB of memory and 0 GPUs and can be shared by up to 32 jobs.\n",
      "sbatch: Single node jobs run on a shared node by default. Add --exclusive if you want to use a node exclusively.\n",
      "sbatch: You will be charged for 0.03125 node. A full node consists of 32 CPU cores, 240000 MiB of memory and 0 GPUs and can be shared by up to 32 jobs.\n",
      "sbatch: Single node jobs run on a shared node by default. Add --exclusive if you want to use a node exclusively.\n",
      "sbatch: You will be charged for 0.03125 node. A full node consists of 32 CPU cores, 240000 MiB of memory and 0 GPUs and can be shared by up to 32 jobs.\n",
      "sbatch: Single node jobs run on a shared node by default. Add --exclusive if you want to use a node exclusively.\n",
      "sbatch: You will be charged for 0.03125 node. A full node consists of 32 CPU cores, 240000 MiB of memory and 0 GPUs and can be shared by up to 32 jobs.\n"
     ]
    },
    {
     "name": "stdout",
     "output_type": "stream",
     "text": [
      "Submitted batch job 418527\n",
      "Submitted batch job 418528\n",
      "Submitted batch job 418529\n",
      "Submitted batch job 418530\n"
     ]
    },
    {
     "name": "stderr",
     "output_type": "stream",
     "text": [
      "sbatch: Single node jobs run on a shared node by default. Add --exclusive if you want to use a node exclusively.\n",
      "sbatch: You will be charged for 0.03125 node. A full node consists of 32 CPU cores, 240000 MiB of memory and 0 GPUs and can be shared by up to 32 jobs.\n",
      "sbatch: Single node jobs run on a shared node by default. Add --exclusive if you want to use a node exclusively.\n",
      "sbatch: You will be charged for 0.03125 node. A full node consists of 32 CPU cores, 240000 MiB of memory and 0 GPUs and can be shared by up to 32 jobs.\n",
      "sbatch: Single node jobs run on a shared node by default. Add --exclusive if you want to use a node exclusively.\n",
      "sbatch: You will be charged for 0.03125 node. A full node consists of 32 CPU cores, 240000 MiB of memory and 0 GPUs and can be shared by up to 32 jobs.\n",
      "sbatch: Single node jobs run on a shared node by default. Add --exclusive if you want to use a node exclusively.\n",
      "sbatch: You will be charged for 0.03125 node. A full node consists of 32 CPU cores, 240000 MiB of memory and 0 GPUs and can be shared by up to 32 jobs.\n"
     ]
    },
    {
     "name": "stdout",
     "output_type": "stream",
     "text": [
      "Submitted batch job 418531\n",
      "Submitted batch job 418532\n",
      "Submitted batch job 418533\n",
      "Submitted batch job 418534\n"
     ]
    },
    {
     "name": "stderr",
     "output_type": "stream",
     "text": [
      "sbatch: Single node jobs run on a shared node by default. Add --exclusive if you want to use a node exclusively.\n",
      "sbatch: You will be charged for 0.03125 node. A full node consists of 32 CPU cores, 240000 MiB of memory and 0 GPUs and can be shared by up to 32 jobs.\n",
      "sbatch: Single node jobs run on a shared node by default. Add --exclusive if you want to use a node exclusively.\n",
      "sbatch: You will be charged for 0.03125 node. A full node consists of 32 CPU cores, 240000 MiB of memory and 0 GPUs and can be shared by up to 32 jobs.\n",
      "sbatch: Single node jobs run on a shared node by default. Add --exclusive if you want to use a node exclusively.\n",
      "sbatch: You will be charged for 0.03125 node. A full node consists of 32 CPU cores, 240000 MiB of memory and 0 GPUs and can be shared by up to 32 jobs.\n",
      "sbatch: Single node jobs run on a shared node by default. Add --exclusive if you want to use a node exclusively.\n",
      "sbatch: You will be charged for 0.03125 node. A full node consists of 32 CPU cores, 240000 MiB of memory and 0 GPUs and can be shared by up to 32 jobs.\n"
     ]
    },
    {
     "name": "stdout",
     "output_type": "stream",
     "text": [
      "Submitted batch job 418535\n",
      "Submitted batch job 418536\n",
      "Submitted batch job 418537\n",
      "Submitted batch job 418538\n"
     ]
    },
    {
     "name": "stderr",
     "output_type": "stream",
     "text": [
      "sbatch: Single node jobs run on a shared node by default. Add --exclusive if you want to use a node exclusively.\n",
      "sbatch: You will be charged for 0.03125 node. A full node consists of 32 CPU cores, 240000 MiB of memory and 0 GPUs and can be shared by up to 32 jobs.\n",
      "sbatch: Single node jobs run on a shared node by default. Add --exclusive if you want to use a node exclusively.\n",
      "sbatch: You will be charged for 0.03125 node. A full node consists of 32 CPU cores, 240000 MiB of memory and 0 GPUs and can be shared by up to 32 jobs.\n",
      "sbatch: Single node jobs run on a shared node by default. Add --exclusive if you want to use a node exclusively.\n",
      "sbatch: You will be charged for 0.03125 node. A full node consists of 32 CPU cores, 240000 MiB of memory and 0 GPUs and can be shared by up to 32 jobs.\n",
      "sbatch: Single node jobs run on a shared node by default. Add --exclusive if you want to use a node exclusively.\n",
      "sbatch: You will be charged for 0.03125 node. A full node consists of 32 CPU cores, 240000 MiB of memory and 0 GPUs and can be shared by up to 32 jobs.\n"
     ]
    },
    {
     "name": "stdout",
     "output_type": "stream",
     "text": [
      "Submitted batch job 418539\n",
      "Submitted batch job 418540\n",
      "Submitted batch job 418541\n",
      "Submitted batch job 418542\n",
      "Submitted batch job 418543\n",
      "Submitted batch job 418544\n",
      "Submitted batch job 418545\n",
      "Submitted batch job 418546\n"
     ]
    },
    {
     "name": "stderr",
     "output_type": "stream",
     "text": [
      "sbatch: Single node jobs run on a shared node by default. Add --exclusive if you want to use a node exclusively.\n",
      "sbatch: You will be charged for 0.03125 node. A full node consists of 32 CPU cores, 240000 MiB of memory and 0 GPUs and can be shared by up to 32 jobs.\n",
      "sbatch: Single node jobs run on a shared node by default. Add --exclusive if you want to use a node exclusively.\n",
      "sbatch: You will be charged for 0.03125 node. A full node consists of 32 CPU cores, 240000 MiB of memory and 0 GPUs and can be shared by up to 32 jobs.\n",
      "sbatch: Single node jobs run on a shared node by default. Add --exclusive if you want to use a node exclusively.\n",
      "sbatch: You will be charged for 0.03125 node. A full node consists of 32 CPU cores, 240000 MiB of memory and 0 GPUs and can be shared by up to 32 jobs.\n",
      "sbatch: Single node jobs run on a shared node by default. Add --exclusive if you want to use a node exclusively.\n",
      "sbatch: You will be charged for 0.03125 node. A full node consists of 32 CPU cores, 240000 MiB of memory and 0 GPUs and can be shared by up to 32 jobs.\n"
     ]
    }
   ],
   "source": [
    "unzip = 'False'\n",
    "flatten = False\n",
    "dir_drop = 'prince_data'\n",
    "\n",
    "directory_targ = os.path.join(directory_scratch,'temp')+'/'\n",
    "directory = directory_targ\n",
    "run_parallel_transfer('from_drop.py',[directory_targ,dir_drop,unzip,flatten],folders,5,'10:00','staging',cpus = 1,node = 'staging',name_job='archiving.sh')\n",
    "run_parallel_transfer_to_archive(folders,directory,'2:00:00','staging',name_job='archiving.sh')"
   ]
  },
  {
   "cell_type": "code",
   "execution_count": 6,
   "metadata": {
    "collapsed": true,
    "jupyter": {
     "outputs_hidden": true
    },
    "tags": []
   },
   "outputs": [
    {
     "name": "stderr",
     "output_type": "stream",
     "text": [
      "sbatch: Single node jobs run on a shared node by default. Add --exclusive if you want to use a node exclusively.\n",
      "sbatch: Single node jobs run on a shared node by default. Add --exclusive if you want to use a node exclusively.\n",
      "sbatch: Single node jobs run on a shared node by default. Add --exclusive if you want to use a node exclusively.\n",
      "sbatch: Single node jobs run on a shared node by default. Add --exclusive if you want to use a node exclusively.\n"
     ]
    },
    {
     "name": "stdout",
     "output_type": "stream",
     "text": [
      "Submitted batch job 374733\n",
      "Submitted batch job 374734\n",
      "Submitted batch job 374735\n",
      "Submitted batch job 374736\n",
      "Submitted batch job 374737\n",
      "Submitted batch job 374738\n",
      "Submitted batch job 374739\n",
      "Submitted batch job 374740\n"
     ]
    },
    {
     "name": "stderr",
     "output_type": "stream",
     "text": [
      "sbatch: Single node jobs run on a shared node by default. Add --exclusive if you want to use a node exclusively.\n",
      "sbatch: Single node jobs run on a shared node by default. Add --exclusive if you want to use a node exclusively.\n",
      "sbatch: Single node jobs run on a shared node by default. Add --exclusive if you want to use a node exclusively.\n",
      "sbatch: Single node jobs run on a shared node by default. Add --exclusive if you want to use a node exclusively.\n",
      "sbatch: Single node jobs run on a shared node by default. Add --exclusive if you want to use a node exclusively.\n",
      "sbatch: Single node jobs run on a shared node by default. Add --exclusive if you want to use a node exclusively.\n",
      "sbatch: Single node jobs run on a shared node by default. Add --exclusive if you want to use a node exclusively.\n",
      "sbatch: Single node jobs run on a shared node by default. Add --exclusive if you want to use a node exclusively.\n"
     ]
    },
    {
     "name": "stdout",
     "output_type": "stream",
     "text": [
      "Submitted batch job 374741\n",
      "Submitted batch job 374742\n",
      "Submitted batch job 374743\n",
      "Submitted batch job 374744\n"
     ]
    },
    {
     "name": "stderr",
     "output_type": "stream",
     "text": [
      "sbatch: Single node jobs run on a shared node by default. Add --exclusive if you want to use a node exclusively.\n",
      "sbatch: Single node jobs run on a shared node by default. Add --exclusive if you want to use a node exclusively.\n",
      "sbatch: Single node jobs run on a shared node by default. Add --exclusive if you want to use a node exclusively.\n",
      "sbatch: Single node jobs run on a shared node by default. Add --exclusive if you want to use a node exclusively.\n"
     ]
    },
    {
     "name": "stdout",
     "output_type": "stream",
     "text": [
      "Submitted batch job 374745\n",
      "Submitted batch job 374746\n",
      "Submitted batch job 374747\n",
      "Submitted batch job 374748\n",
      "Submitted batch job 374749\n",
      "Submitted batch job 374750\n",
      "Submitted batch job 374751\n",
      "Submitted batch job 374752\n"
     ]
    },
    {
     "name": "stderr",
     "output_type": "stream",
     "text": [
      "sbatch: Single node jobs run on a shared node by default. Add --exclusive if you want to use a node exclusively.\n",
      "sbatch: Single node jobs run on a shared node by default. Add --exclusive if you want to use a node exclusively.\n",
      "sbatch: Single node jobs run on a shared node by default. Add --exclusive if you want to use a node exclusively.\n",
      "sbatch: Single node jobs run on a shared node by default. Add --exclusive if you want to use a node exclusively.\n"
     ]
    }
   ],
   "source": [
    "run_parallel_transfer_to_archive(folders,directory,'10:00','staging',name_job='archiving_no_wait.sh')"
   ]
  },
  {
   "cell_type": "code",
   "execution_count": 12,
   "metadata": {},
   "outputs": [
    {
     "name": "stdout",
     "output_type": "stream",
     "text": [
      "Submitted batch job 242022\n"
     ]
    },
    {
     "name": "stderr",
     "output_type": "stream",
     "text": [
      "sbatch: Single node jobs run on a shared node by default. Add --exclusive if you want to use a node exclusively.\n"
     ]
    }
   ],
   "source": [
    "must_zip = True\n",
    "must_unzip = False\n",
    "run_parallel_transfer('within_surf.py',[directory,directory_targ,must_zip,must_unzip],folders,5,'10:00','staging',cpus = 1,node = 'staging')"
   ]
  },
  {
   "cell_type": "code",
   "execution_count": 7,
   "metadata": {},
   "outputs": [],
   "source": [
    "plates = set(folders['Plate'].values)"
   ]
  },
  {
   "cell_type": "code",
   "execution_count": 10,
   "metadata": {},
   "outputs": [
    {
     "name": "stderr",
     "output_type": "stream",
     "text": [
      "tar: /archive/cbisot/prince_data/94_20201123.tar: Cannot open: No such file or directory\n",
      "tar: Error is not recoverable: exiting now\n"
     ]
    },
    {
     "data": {
      "text/plain": [
       "2"
      ]
     },
     "execution_count": 10,
     "metadata": {},
     "output_type": "execute_result"
    }
   ],
   "source": [
    "call(f\"tar cvf /archive/cbisot/prince_data/94_20201123.tar {directory_targ}94_20201123*\", shell=True)"
   ]
  },
  {
   "cell_type": "code",
   "execution_count": null,
   "metadata": {},
   "outputs": [],
   "source": [
    "def transfer_parallel_whole_plate(code, args, folders, num_parallel, time, name,cpus = 128,node = 'thin'):\n",
    "    op_id = time_ns()\n",
    "    folders.to_json(f'{temp_path}/{op_id}.json')# temporary file\n",
    "    plates = set(folders['Plate'].values)\n",
    "    length = len(plates)\n",
    "    begin_skel = 0\n",
    "    end_skel = length // num_parallel + 1\n",
    "    args_str = [str(arg) for arg in args]\n",
    "    arg_str = \" \".join(args_str)\n",
    "    arg_str_out = \"_\".join([str(arg) for arg in args if type(arg)!=str])\n",
    "    for j in range(begin_skel, end_skel):\n",
    "        start = num_parallel * j\n",
    "        stop = num_parallel * j + num_parallel - 1\n",
    "        ide = time_ns()\n",
    "        my_file = open(path_job, \"w\")\n",
    "        my_file.write(\n",
    "            f\"#!/bin/bash \\n#Set job requirements \\n#SBATCH --nodes=1 \\n#SBATCH -t {time}\\n #SBATCH --ntask=1 \\n#SBATCH --cpus-per-task={cpus}\\n#SBATCH -p {node} \\n\"\n",
    "        )\n",
    "        my_file.write(\n",
    "            f'#SBATCH -o \"{path_code}slurm/{name}_{arg_str_out}_{start}_{stop}_{ide}.out\" \\n'\n",
    "        )\n",
    "        my_file.write(f\"source /home/cbisot/miniconda3/etc/profile.d/conda.sh\\n\")\n",
    "        my_file.write(f\"conda activate amftrack\\n\")\n",
    "        my_file.write(f\"for i in `seq {start} {stop}`; do\\n\")\n",
    "        my_file.write(f\"\\t python {path_code}amftrack/pipeline/scripts/image_processing/{code} {arg_str} {op_id} $i &\\n\")\n",
    "        my_file.write(\"done\\n\")\n",
    "        my_file.write(\"wait\\n\")\n",
    "        my_file.close()\n",
    "        call(f\"sbatch {path_job}\", shell=True)"
   ]
  },
  {
   "cell_type": "code",
   "execution_count": 11,
   "metadata": {},
   "outputs": [
    {
     "name": "stdout",
     "output_type": "stream",
     "text": [
      "param.m c51bd427fc91a8869dd28bd0453ceac525009c1b9c7ee3bfae79278b539ec129\n",
      "Analysis.zip ec46f97fea264eebc2fd9e2c608e71729aa4e61e6f34fe460b3bcb8d054d7d7d\n",
      "Img.zip 6cc480fa0c5e53f6799b169aa711ad501b02f8d9c533b9ce78ba256ae0caa981\n",
      "StitchedImage.tif ed1f3b02b099e6871735d6b450b9248e4d090b8a00eedeabdd33f0d8d96e66b8\n",
      "PrinceMeasurement.csv dea1bb564af80efdf67c9912e6c2611e272bf1d3685217fb7ac7ebeb13fdc7a7\n"
     ]
    }
   ],
   "source": [
    "for file in listfiles:\n",
    "    print (file.name,file.content_hash)"
   ]
  },
  {
   "cell_type": "code",
   "execution_count": 20,
   "metadata": {},
   "outputs": [],
   "source": [
    "folders = folders.loc[folders['folder']==\"20201124_1202_Plate39\"]"
   ]
  },
  {
   "cell_type": "code",
   "execution_count": 37,
   "metadata": {},
   "outputs": [],
   "source": [
    "from amftrack.util.dbx import upload_zip,upload,zip_file"
   ]
  },
  {
   "cell_type": "code",
   "execution_count": 51,
   "metadata": {},
   "outputs": [],
   "source": [
    "from time import time_ns\n",
    "def upload_zip(path_total,target,catch_exception=False):\n",
    "    '''\n",
    "    Handles upload of files and folders taking only a path as an argument. If the total path is a\n",
    "    file it is uploaded directly. Otherwise the folder is zipped and uploaded. Upload of individual files is\n",
    "    inneficient.\n",
    "     '''\n",
    "    if os.path.isdir(path_total):\n",
    "        stamp = time_ns()\n",
    "        path_zip = f'{temp_path}/{stamp}.zip'\n",
    "        print(path_zip,target)\n",
    "        zip_file(path_total, path_zip)\n",
    "        upload(path_zip, target,\n",
    "               chunk_size=256 * 1024 * 1024,catch_exception=catch_exception)\n",
    "        # os.remove(path_zip)\n",
    "\n",
    "    else:\n",
    "        upload(path_total, target,\n",
    "               chunk_size=256 * 1024 * 1024,catch_exception=catch_exception)"
   ]
  },
  {
   "cell_type": "code",
   "execution_count": 60,
   "metadata": {},
   "outputs": [
    {
     "data": {
      "text/plain": [
       "29    20201123\n",
       "Name: CrossDate, dtype: object"
      ]
     },
     "execution_count": 60,
     "metadata": {},
     "output_type": "execute_result"
    }
   ],
   "source": [
    "run_info['CrossDate'].str.replace(\"'\",\"\")"
   ]
  },
  {
   "cell_type": "code",
   "execution_count": 61,
   "metadata": {},
   "outputs": [
    {
     "data": {
      "application/vnd.jupyter.widget-view+json": {
       "model_id": "320e56fdd4494dea8621218740f2e097",
       "version_major": 2,
       "version_minor": 0
      },
      "text/plain": [
       "transferred:   0%|          | 0/1 [00:00<?, ?it/s]"
      ]
     },
     "metadata": {},
     "output_type": "display_data"
    },
    {
     "name": "stdout",
     "output_type": "stream",
     "text": [
      "2022-05-13 17:21:51,534-[INFO]- dropbox:388 -> Refreshing access token.\n",
      "2022-05-13 17:21:51,789-[INFO]- dropbox:477 -> Request to files/upload\n",
      "/scratch-shared/amftrack/temp/1652455313416874865.zip /test/94_20201123/20201124_1202_Plate39/Analysis.zip\n"
     ]
    },
    {
     "data": {
      "application/vnd.jupyter.widget-view+json": {
       "model_id": "",
       "version_major": 2,
       "version_minor": 0
      },
      "text/plain": [
       "zipping:   0%|          | 0/16 [00:00<?, ?it/s]"
      ]
     },
     "metadata": {},
     "output_type": "display_data"
    },
    {
     "name": "stdout",
     "output_type": "stream",
     "text": [
      "2022-05-13 17:22:03,594-[INFO]- dropbox:388 -> Refreshing access token.\n",
      "2022-05-13 17:22:03,852-[INFO]- dropbox:477 -> Request to files/upload\n",
      "/scratch-shared/amftrack/temp/1652455327049142316.zip /test/94_20201123/20201124_1202_Plate39/Img.zip\n"
     ]
    },
    {
     "data": {
      "application/vnd.jupyter.widget-view+json": {
       "model_id": "",
       "version_major": 2,
       "version_minor": 0
      },
      "text/plain": [
       "zipping:   0%|          | 0/152 [00:00<?, ?it/s]"
      ]
     },
     "metadata": {},
     "output_type": "display_data"
    },
    {
     "data": {
      "application/vnd.jupyter.widget-view+json": {
       "model_id": "",
       "version_major": 2,
       "version_minor": 0
      },
      "text/plain": [
       "Uploaded:   0%|          | 0/835234945 [00:00<?, ?it/s]"
      ]
     },
     "metadata": {},
     "output_type": "display_data"
    },
    {
     "name": "stdout",
     "output_type": "stream",
     "text": [
      "2022-05-13 17:23:33,597-[INFO]- dropbox:388 -> Refreshing access token.\n",
      "2022-05-13 17:23:33,815-[INFO]- dropbox:477 -> Request to files/upload_session/start\n",
      "2022-05-13 17:23:39,987-[INFO]- dropbox:477 -> Request to files/upload_session/append\n",
      "2022-05-13 17:23:49,135-[INFO]- dropbox:477 -> Request to files/upload_session/append\n",
      "2022-05-13 17:23:57,067-[INFO]- dropbox:477 -> Request to files/upload_session/finish\n",
      "2022-05-13 17:24:00,149-[INFO]- dropbox:388 -> Refreshing access token.\n",
      "2022-05-13 17:24:00,362-[INFO]- dropbox:477 -> Request to files/upload\n",
      "2022-05-13 17:24:01,906-[INFO]- dropbox:388 -> Refreshing access token.\n",
      "2022-05-13 17:24:02,141-[INFO]- dropbox:477 -> Request to files/upload\n"
     ]
    }
   ],
   "source": [
    "from tqdm.autonotebook import tqdm\n",
    "dir_drop = 'test'\n",
    "run_info = folders.copy()\n",
    "folder_list = list(run_info['folder'])\n",
    "with tqdm(total=len(folder_list), desc=\"transferred\") as pbar:\n",
    "    for folder in folder_list:\n",
    "        directory_name = folder\n",
    "        run_info['unique_id'] = run_info['Plate'].astype(int).astype(str) + \"_\" + run_info['CrossDate'].str.replace(\"'\",\"\").astype(int).astype(str)\n",
    "        line = run_info.loc[run_info['folder'] == directory_name]\n",
    "        id_unique = line['unique_id'].iloc[0]\n",
    "\n",
    "        path_snap = line['total_path'].iloc[0]\n",
    "        for subfolder in os.listdir(path_snap):\n",
    "            path_total = os.path.join(path_snap, subfolder)\n",
    "            suffix = '.zip' if os.path.isdir(path_total) else ''\n",
    "            target = f'/{dir_drop}/{id_unique}/{directory_name}/{subfolder}{suffix}'\n",
    "            upload_zip(path_total,target)\n",
    "        os.remove(path_info)\n",
    "        pbar.update(1)\n",
    "        break"
   ]
  },
  {
   "cell_type": "code",
   "execution_count": 9,
   "metadata": {},
   "outputs": [],
   "source": [
    "%matplotlib widget\n",
    "%load_ext autoreload\n",
    "%autoreload 2\n",
    "from amftrack.util.file import hash_file,compute_dropbox_hash"
   ]
  },
  {
   "cell_type": "code",
   "execution_count": 9,
   "metadata": {},
   "outputs": [],
   "source": [
    "path_zip = '/scratch-shared/amftrack/temp/1652455327049142316.zip'\n",
    "target = \"/test/94_20201123/20201124_1202_Plate39/Img.zip\"\n",
    "# upload(path_zip, target,\n",
    "#                chunk_size=256 * 1024 * 1024)"
   ]
  },
  {
   "cell_type": "code",
   "execution_count": 13,
   "metadata": {},
   "outputs": [
    {
     "data": {
      "text/plain": [
       "('af11dc71b6d98d0ad0a3974515ee6d6d998a88d3c60c9971ac79d2e3111683b0',\n",
       " 'c51bd427fc91a8869dd28bd0453ceac525009c1b9c7ee3bfae79278b539ec129')"
      ]
     },
     "execution_count": 13,
     "metadata": {},
     "output_type": "execute_result"
    }
   ],
   "source": [
    "\n",
    "compute_dropbox_hash(path_zip),compute_dropbox_hash(\"/projects/0/einf914/data/20201124_1202_Plate39/param.m\")"
   ]
  },
  {
   "cell_type": "code",
   "execution_count": 10,
   "metadata": {},
   "outputs": [
    {
     "name": "stdout",
     "output_type": "stream",
     "text": [
      "2022-05-16 08:41:17,944-[INFO]- dropbox:388 -> Refreshing access token.\n",
      "2022-05-16 08:41:18,152-[INFO]- dropbox:477 -> Request to files/get_metadata\n"
     ]
    },
    {
     "data": {
      "text/plain": [
       "('c51bd427fc91a8869dd28bd0453ceac525009c1b9c7ee3bfae79278b539ec129',\n",
       " 'c51bd427fc91a8869dd28bd0453ceac525009c1b9c7ee3bfae79278b539ec129')"
      ]
     },
     "execution_count": 10,
     "metadata": {},
     "output_type": "execute_result"
    }
   ],
   "source": [
    "from amftrack.util.dbx import load_dbx\n",
    "dir_drop=\"/test/94_'20201123'/20201124_1202_Plate39/param.m\"\n",
    "dbx = load_dbx()\n",
    "response = dbx.files_get_metadata(dir_drop)\n",
    "response.content_hash,compute_dropbox_hash(\"/projects/0/einf914/data/20201124_1202_Plate39/param.m\")"
   ]
  },
  {
   "cell_type": "code",
   "execution_count": 6,
   "metadata": {},
   "outputs": [
    {
     "data": {
      "text/plain": [
       "'c51bd427fc91a8869dd28bd0453ceac525009c1b9c7ee3bfae79278b539ec129'"
      ]
     },
     "execution_count": 6,
     "metadata": {},
     "output_type": "execute_result"
    }
   ],
   "source": []
  },
  {
   "cell_type": "code",
   "execution_count": 74,
   "metadata": {},
   "outputs": [
    {
     "data": {
      "text/plain": [
       "('6cac77b01d2cc27c014129a2cae001c06925ea0bf7235703b9bfad792456d1ab', 64)"
      ]
     },
     "execution_count": 74,
     "metadata": {},
     "output_type": "execute_result"
    }
   ],
   "source": [
    "hashe = hash_file(\"/projects/0/einf914/data/20201124_1202_Plate39/param.m\")\n",
    "hashe,len(hashe)"
   ]
  }
 ],
 "metadata": {
  "kernelspec": {
   "display_name": "Python 3 (ipykernel)",
   "language": "python",
   "name": "python3"
  },
  "language_info": {
   "codemirror_mode": {
    "name": "ipython",
    "version": 3
   },
   "file_extension": ".py",
   "mimetype": "text/x-python",
   "name": "python",
   "nbconvert_exporter": "python",
   "pygments_lexer": "ipython3",
   "version": "3.7.11"
  }
 },
 "nbformat": 4,
 "nbformat_minor": 4
}

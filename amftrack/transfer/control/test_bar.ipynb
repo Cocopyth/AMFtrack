{
 "cells": [
  {
   "cell_type": "code",
   "execution_count": 20,
   "id": "3cf5602b-b315-4b0f-9846-537c37d288de",
   "metadata": {},
   "outputs": [
    {
     "name": "stdout",
     "output_type": "stream",
     "text": [
      "The autoreload extension is already loaded. To reload it, use:\n",
      "  %reload_ext autoreload\n"
     ]
    }
   ],
   "source": [
    "%matplotlib widget\n",
    "%load_ext autoreload\n",
    "%autoreload 2\n",
    "import os  \n",
    "import sys  \n",
    "sys.path.insert(0, os.getenv('HOME')+'/pycode/MscThesis/')\n",
    "# sys.path.insert(0,r'C:\\Users\\coren\\Documents\\PhD\\Code\\AMFtrack')\n",
    "\n",
    "import pandas as pd\n",
    "from amftrack.util.sys import get_dates_datetime, get_dirname, get_data_info, update_plate_info, \\\n",
    "get_current_folders, get_folders_by_plate_id\n",
    "\n",
    "\n",
    "import ast\n",
    "from amftrack.plotutil import plot_t_tp1\n",
    "from scipy import sparse\n",
    "from datetime import datetime\n",
    "import pickle\n",
    "import scipy.io as sio\n",
    "from pymatreader import read_mat\n",
    "from matplotlib import colors\n",
    "import cv2\n",
    "import imageio\n",
    "import matplotlib.pyplot as plt\n",
    "import numpy as np\n",
    "from skimage.filters import frangi\n",
    "from skimage import filters\n",
    "from random import choice\n",
    "import scipy.sparse\n",
    "import os\n",
    "from amftrack.pipeline.functions.image_processing.extract_graph import from_sparse_to_graph, generate_nx_graph, sparse_to_doc\n",
    "from skimage.feature import hessian_matrix_det\n",
    "from amftrack.pipeline.functions.image_processing.experiment_class_surf import Experiment\n",
    "from amftrack.pipeline.paths.directory import run_parallel_transfer, find_state, directory_scratch, directory_project, directory_archive\n",
    "import dropbox\n",
    "from amftrack.transfer.functions.transfer import upload\n",
    "from subprocess import call\n",
    "from tqdm import tqdm\n",
    "from time import sleep"
   ]
  },
  {
   "cell_type": "code",
   "execution_count": 9,
   "id": "50923a98-9ee7-49be-b571-947c9f437602",
   "metadata": {},
   "outputs": [
    {
     "name": "stdout",
     "output_type": "stream",
     "text": [
      "a\n"
     ]
    }
   ],
   "source": [
    "import subprocess\n",
    "command=[\"sleep\",\"10s\"]\n",
    "process = subprocess.run(command)\n",
    "print('a')"
   ]
  },
  {
   "cell_type": "code",
   "execution_count": 8,
   "id": "0449b92e-88be-43b8-97e1-f19f39cae190",
   "metadata": {},
   "outputs": [
    {
     "data": {
      "text/plain": [
       "CompletedProcess(args=['sleep', '10s'], returncode=0)"
      ]
     },
     "execution_count": 8,
     "metadata": {},
     "output_type": "execute_result"
    }
   ],
   "source": [
    "subprocess.run([\"sleep\", \"10s\"])"
   ]
  },
  {
   "cell_type": "code",
   "execution_count": 26,
   "id": "3c9a6b60-c247-46ea-9360-df5483f4f5c8",
   "metadata": {
    "collapsed": true,
    "jupyter": {
     "outputs_hidden": true
    },
    "tags": []
   },
   "outputs": [
    {
     "name": "stderr",
     "output_type": "stream",
     "text": [
      "/home/ipausers/bisot/pycode/MscThesis/amftrack/transfer/functions/transfer.py:1: TqdmExperimentalWarning: Using `tqdm.autonotebook.tqdm` in notebook mode. Use `tqdm.tqdm` instead to force console mode (e.g. in jupyter console)\n",
      "  from tqdm.autonotebook import tqdm\n"
     ]
    },
    {
     "data": {
      "application/vnd.jupyter.widget-view+json": {
       "model_id": "5627d0c2f2cc499888c5c1dfa72a6c63",
       "version_major": 2,
       "version_minor": 0
      },
      "text/plain": [
       "analysed:   0%|          | 0/249 [00:00<?, ?it/s]"
      ]
     },
     "metadata": {},
     "output_type": "display_data"
    },
    {
     "data": {
      "text/html": [
       "<div>\n",
       "<style scoped>\n",
       "    .dataframe tbody tr th:only-of-type {\n",
       "        vertical-align: middle;\n",
       "    }\n",
       "\n",
       "    .dataframe tbody tr th {\n",
       "        vertical-align: top;\n",
       "    }\n",
       "\n",
       "    .dataframe thead th {\n",
       "        text-align: right;\n",
       "    }\n",
       "</style>\n",
       "<table border=\"1\" class=\"dataframe\">\n",
       "  <thead>\n",
       "    <tr style=\"text-align: right;\">\n",
       "      <th></th>\n",
       "      <th>total_path</th>\n",
       "      <th>Plate</th>\n",
       "      <th>PrincePos</th>\n",
       "      <th>root</th>\n",
       "      <th>strain</th>\n",
       "      <th>medium</th>\n",
       "      <th>split</th>\n",
       "      <th>Pbait</th>\n",
       "      <th>CrossDate</th>\n",
       "      <th>/Img/TileConfiguration.txt.registered</th>\n",
       "      <th>...</th>\n",
       "      <th>/Analysis/transform.mat</th>\n",
       "      <th>/Analysis/transform_corrupt.mat</th>\n",
       "      <th>/Analysis/skeleton_realigned_compressed.mat</th>\n",
       "      <th>/Analysis/nx_graph_pruned.p</th>\n",
       "      <th>/Analysis/nx_graph_pruned_width.p</th>\n",
       "      <th>/Analysis/nx_graph_pruned_labeled.p</th>\n",
       "      <th>date</th>\n",
       "      <th>folder</th>\n",
       "      <th>Temp</th>\n",
       "      <th>unique_id</th>\n",
       "    </tr>\n",
       "  </thead>\n",
       "  <tbody>\n",
       "    <tr>\n",
       "      <th>6913</th>\n",
       "      <td>/projects/0/einf914/data/20201124_0000_Plate39</td>\n",
       "      <td>94</td>\n",
       "      <td>39</td>\n",
       "      <td>Carrot</td>\n",
       "      <td>A5</td>\n",
       "      <td>001P100N</td>\n",
       "      <td>Y</td>\n",
       "      <td>NaN</td>\n",
       "      <td>20201123</td>\n",
       "      <td>True</td>\n",
       "      <td>...</td>\n",
       "      <td>True</td>\n",
       "      <td>False</td>\n",
       "      <td>True</td>\n",
       "      <td>True</td>\n",
       "      <td>True</td>\n",
       "      <td>True</td>\n",
       "      <td>24.11.2020, 00:00:</td>\n",
       "      <td>20201124_0000_Plate39</td>\n",
       "      <td>25.0</td>\n",
       "      <td>9420201123</td>\n",
       "    </tr>\n",
       "    <tr>\n",
       "      <th>6994</th>\n",
       "      <td>/projects/0/einf914/data/20201210_1156_Plate39</td>\n",
       "      <td>94</td>\n",
       "      <td>39</td>\n",
       "      <td>Carrot</td>\n",
       "      <td>A5</td>\n",
       "      <td>001P100N</td>\n",
       "      <td>Y</td>\n",
       "      <td>NaN</td>\n",
       "      <td>20201123</td>\n",
       "      <td>True</td>\n",
       "      <td>...</td>\n",
       "      <td>False</td>\n",
       "      <td>True</td>\n",
       "      <td>True</td>\n",
       "      <td>True</td>\n",
       "      <td>True</td>\n",
       "      <td>False</td>\n",
       "      <td>10.12.2020, 11:56:</td>\n",
       "      <td>20201210_1156_Plate39</td>\n",
       "      <td>25.0</td>\n",
       "      <td>9420201123</td>\n",
       "    </tr>\n",
       "    <tr>\n",
       "      <th>5992</th>\n",
       "      <td>/projects/0/einf914/data/20201124_0301_Plate39</td>\n",
       "      <td>94</td>\n",
       "      <td>39</td>\n",
       "      <td>Carrot</td>\n",
       "      <td>A5</td>\n",
       "      <td>001P100N</td>\n",
       "      <td>Y</td>\n",
       "      <td>NaN</td>\n",
       "      <td>20201123</td>\n",
       "      <td>True</td>\n",
       "      <td>...</td>\n",
       "      <td>True</td>\n",
       "      <td>False</td>\n",
       "      <td>True</td>\n",
       "      <td>True</td>\n",
       "      <td>True</td>\n",
       "      <td>True</td>\n",
       "      <td>24.11.2020, 03:01:</td>\n",
       "      <td>20201124_0301_Plate39</td>\n",
       "      <td>25.0</td>\n",
       "      <td>9420201123</td>\n",
       "    </tr>\n",
       "    <tr>\n",
       "      <th>6671</th>\n",
       "      <td>/projects/0/einf914/data/20201123_2300_Plate39</td>\n",
       "      <td>94</td>\n",
       "      <td>39</td>\n",
       "      <td>Carrot</td>\n",
       "      <td>A5</td>\n",
       "      <td>001P100N</td>\n",
       "      <td>Y</td>\n",
       "      <td>NaN</td>\n",
       "      <td>20201123</td>\n",
       "      <td>True</td>\n",
       "      <td>...</td>\n",
       "      <td>True</td>\n",
       "      <td>False</td>\n",
       "      <td>True</td>\n",
       "      <td>True</td>\n",
       "      <td>True</td>\n",
       "      <td>True</td>\n",
       "      <td>23.11.2020, 23:00:</td>\n",
       "      <td>20201123_2300_Plate39</td>\n",
       "      <td>25.0</td>\n",
       "      <td>9420201123</td>\n",
       "    </tr>\n",
       "    <tr>\n",
       "      <th>7268</th>\n",
       "      <td>/projects/0/einf914/data/20201124_1001_Plate39</td>\n",
       "      <td>94</td>\n",
       "      <td>39</td>\n",
       "      <td>Carrot</td>\n",
       "      <td>A5</td>\n",
       "      <td>001P100N</td>\n",
       "      <td>Y</td>\n",
       "      <td>NaN</td>\n",
       "      <td>20201123</td>\n",
       "      <td>True</td>\n",
       "      <td>...</td>\n",
       "      <td>True</td>\n",
       "      <td>False</td>\n",
       "      <td>True</td>\n",
       "      <td>True</td>\n",
       "      <td>True</td>\n",
       "      <td>True</td>\n",
       "      <td>24.11.2020, 10:01:</td>\n",
       "      <td>20201124_1001_Plate39</td>\n",
       "      <td>25.0</td>\n",
       "      <td>9420201123</td>\n",
       "    </tr>\n",
       "    <tr>\n",
       "      <th>...</th>\n",
       "      <td>...</td>\n",
       "      <td>...</td>\n",
       "      <td>...</td>\n",
       "      <td>...</td>\n",
       "      <td>...</td>\n",
       "      <td>...</td>\n",
       "      <td>...</td>\n",
       "      <td>...</td>\n",
       "      <td>...</td>\n",
       "      <td>...</td>\n",
       "      <td>...</td>\n",
       "      <td>...</td>\n",
       "      <td>...</td>\n",
       "      <td>...</td>\n",
       "      <td>...</td>\n",
       "      <td>...</td>\n",
       "      <td>...</td>\n",
       "      <td>...</td>\n",
       "      <td>...</td>\n",
       "      <td>...</td>\n",
       "      <td>...</td>\n",
       "    </tr>\n",
       "    <tr>\n",
       "      <th>6842</th>\n",
       "      <td>/projects/0/einf914/data/20210930_2123_Plate21</td>\n",
       "      <td>792</td>\n",
       "      <td>21</td>\n",
       "      <td>Carrot</td>\n",
       "      <td>A5</td>\n",
       "      <td>001P100N</td>\n",
       "      <td>Y</td>\n",
       "      <td>-</td>\n",
       "      <td>20210915</td>\n",
       "      <td>True</td>\n",
       "      <td>...</td>\n",
       "      <td>True</td>\n",
       "      <td>False</td>\n",
       "      <td>True</td>\n",
       "      <td>True</td>\n",
       "      <td>True</td>\n",
       "      <td>False</td>\n",
       "      <td>30.09.2021, 21:23:</td>\n",
       "      <td>20210930_2123_Plate21</td>\n",
       "      <td>NaN</td>\n",
       "      <td>79220210915</td>\n",
       "    </tr>\n",
       "    <tr>\n",
       "      <th>6350</th>\n",
       "      <td>/projects/0/einf914/data/20211005_0904_Plate21</td>\n",
       "      <td>792</td>\n",
       "      <td>21</td>\n",
       "      <td>Carrot</td>\n",
       "      <td>A5</td>\n",
       "      <td>001P100N</td>\n",
       "      <td>Y</td>\n",
       "      <td>-</td>\n",
       "      <td>20210915</td>\n",
       "      <td>True</td>\n",
       "      <td>...</td>\n",
       "      <td>True</td>\n",
       "      <td>False</td>\n",
       "      <td>True</td>\n",
       "      <td>True</td>\n",
       "      <td>True</td>\n",
       "      <td>False</td>\n",
       "      <td>05.10.2021, 09:04:</td>\n",
       "      <td>20211005_0904_Plate21</td>\n",
       "      <td>NaN</td>\n",
       "      <td>79220210915</td>\n",
       "    </tr>\n",
       "    <tr>\n",
       "      <th>6591</th>\n",
       "      <td>/projects/0/einf914/data/20211007_1548_Plate21</td>\n",
       "      <td>792</td>\n",
       "      <td>21</td>\n",
       "      <td>Carrot</td>\n",
       "      <td>A5</td>\n",
       "      <td>001P100N</td>\n",
       "      <td>Y</td>\n",
       "      <td>-</td>\n",
       "      <td>20210915</td>\n",
       "      <td>True</td>\n",
       "      <td>...</td>\n",
       "      <td>True</td>\n",
       "      <td>False</td>\n",
       "      <td>True</td>\n",
       "      <td>True</td>\n",
       "      <td>True</td>\n",
       "      <td>False</td>\n",
       "      <td>07.10.2021, 15:48:</td>\n",
       "      <td>20211007_1548_Plate21</td>\n",
       "      <td>NaN</td>\n",
       "      <td>79220210915</td>\n",
       "    </tr>\n",
       "    <tr>\n",
       "      <th>7684</th>\n",
       "      <td>/projects/0/einf914/data/20210928_0308_Plate21</td>\n",
       "      <td>792</td>\n",
       "      <td>21</td>\n",
       "      <td>Carrot</td>\n",
       "      <td>A5</td>\n",
       "      <td>001P100N</td>\n",
       "      <td>Y</td>\n",
       "      <td>-</td>\n",
       "      <td>20210915</td>\n",
       "      <td>True</td>\n",
       "      <td>...</td>\n",
       "      <td>True</td>\n",
       "      <td>False</td>\n",
       "      <td>True</td>\n",
       "      <td>True</td>\n",
       "      <td>True</td>\n",
       "      <td>False</td>\n",
       "      <td>28.09.2021, 03:08:</td>\n",
       "      <td>20210928_0308_Plate21</td>\n",
       "      <td>NaN</td>\n",
       "      <td>79220210915</td>\n",
       "    </tr>\n",
       "    <tr>\n",
       "      <th>7116</th>\n",
       "      <td>/projects/0/einf914/data/20210929_2112_Plate21</td>\n",
       "      <td>792</td>\n",
       "      <td>21</td>\n",
       "      <td>Carrot</td>\n",
       "      <td>A5</td>\n",
       "      <td>001P100N</td>\n",
       "      <td>Y</td>\n",
       "      <td>-</td>\n",
       "      <td>20210915</td>\n",
       "      <td>True</td>\n",
       "      <td>...</td>\n",
       "      <td>True</td>\n",
       "      <td>False</td>\n",
       "      <td>True</td>\n",
       "      <td>True</td>\n",
       "      <td>True</td>\n",
       "      <td>False</td>\n",
       "      <td>29.09.2021, 21:12:</td>\n",
       "      <td>20210929_2112_Plate21</td>\n",
       "      <td>NaN</td>\n",
       "      <td>79220210915</td>\n",
       "    </tr>\n",
       "  </tbody>\n",
       "</table>\n",
       "<p>249 rows × 23 columns</p>\n",
       "</div>"
      ],
      "text/plain": [
       "                                          total_path  Plate  PrincePos  \\\n",
       "6913  /projects/0/einf914/data/20201124_0000_Plate39     94         39   \n",
       "6994  /projects/0/einf914/data/20201210_1156_Plate39     94         39   \n",
       "5992  /projects/0/einf914/data/20201124_0301_Plate39     94         39   \n",
       "6671  /projects/0/einf914/data/20201123_2300_Plate39     94         39   \n",
       "7268  /projects/0/einf914/data/20201124_1001_Plate39     94         39   \n",
       "...                                              ...    ...        ...   \n",
       "6842  /projects/0/einf914/data/20210930_2123_Plate21    792         21   \n",
       "6350  /projects/0/einf914/data/20211005_0904_Plate21    792         21   \n",
       "6591  /projects/0/einf914/data/20211007_1548_Plate21    792         21   \n",
       "7684  /projects/0/einf914/data/20210928_0308_Plate21    792         21   \n",
       "7116  /projects/0/einf914/data/20210929_2112_Plate21    792         21   \n",
       "\n",
       "        root strain    medium split Pbait  CrossDate  \\\n",
       "6913  Carrot     A5  001P100N     Y   NaN   20201123   \n",
       "6994  Carrot     A5  001P100N     Y   NaN   20201123   \n",
       "5992  Carrot     A5  001P100N     Y   NaN   20201123   \n",
       "6671  Carrot     A5  001P100N     Y   NaN   20201123   \n",
       "7268  Carrot     A5  001P100N     Y   NaN   20201123   \n",
       "...      ...    ...       ...   ...   ...        ...   \n",
       "6842  Carrot     A5  001P100N     Y     -   20210915   \n",
       "6350  Carrot     A5  001P100N     Y     -   20210915   \n",
       "6591  Carrot     A5  001P100N     Y     -   20210915   \n",
       "7684  Carrot     A5  001P100N     Y     -   20210915   \n",
       "7116  Carrot     A5  001P100N     Y     -   20210915   \n",
       "\n",
       "      /Img/TileConfiguration.txt.registered  ...  /Analysis/transform.mat  \\\n",
       "6913                                   True  ...                     True   \n",
       "6994                                   True  ...                    False   \n",
       "5992                                   True  ...                     True   \n",
       "6671                                   True  ...                     True   \n",
       "7268                                   True  ...                     True   \n",
       "...                                     ...  ...                      ...   \n",
       "6842                                   True  ...                     True   \n",
       "6350                                   True  ...                     True   \n",
       "6591                                   True  ...                     True   \n",
       "7684                                   True  ...                     True   \n",
       "7116                                   True  ...                     True   \n",
       "\n",
       "      /Analysis/transform_corrupt.mat  \\\n",
       "6913                            False   \n",
       "6994                             True   \n",
       "5992                            False   \n",
       "6671                            False   \n",
       "7268                            False   \n",
       "...                               ...   \n",
       "6842                            False   \n",
       "6350                            False   \n",
       "6591                            False   \n",
       "7684                            False   \n",
       "7116                            False   \n",
       "\n",
       "      /Analysis/skeleton_realigned_compressed.mat  \\\n",
       "6913                                         True   \n",
       "6994                                         True   \n",
       "5992                                         True   \n",
       "6671                                         True   \n",
       "7268                                         True   \n",
       "...                                           ...   \n",
       "6842                                         True   \n",
       "6350                                         True   \n",
       "6591                                         True   \n",
       "7684                                         True   \n",
       "7116                                         True   \n",
       "\n",
       "      /Analysis/nx_graph_pruned.p  /Analysis/nx_graph_pruned_width.p  \\\n",
       "6913                         True                               True   \n",
       "6994                         True                               True   \n",
       "5992                         True                               True   \n",
       "6671                         True                               True   \n",
       "7268                         True                               True   \n",
       "...                           ...                                ...   \n",
       "6842                         True                               True   \n",
       "6350                         True                               True   \n",
       "6591                         True                               True   \n",
       "7684                         True                               True   \n",
       "7116                         True                               True   \n",
       "\n",
       "      /Analysis/nx_graph_pruned_labeled.p                date  \\\n",
       "6913                                 True  24.11.2020, 00:00:   \n",
       "6994                                False  10.12.2020, 11:56:   \n",
       "5992                                 True  24.11.2020, 03:01:   \n",
       "6671                                 True  23.11.2020, 23:00:   \n",
       "7268                                 True  24.11.2020, 10:01:   \n",
       "...                                   ...                 ...   \n",
       "6842                                False  30.09.2021, 21:23:   \n",
       "6350                                False  05.10.2021, 09:04:   \n",
       "6591                                False  07.10.2021, 15:48:   \n",
       "7684                                False  28.09.2021, 03:08:   \n",
       "7116                                False  29.09.2021, 21:12:   \n",
       "\n",
       "                     folder  Temp    unique_id  \n",
       "6913  20201124_0000_Plate39  25.0   9420201123  \n",
       "6994  20201210_1156_Plate39  25.0   9420201123  \n",
       "5992  20201124_0301_Plate39  25.0   9420201123  \n",
       "6671  20201123_2300_Plate39  25.0   9420201123  \n",
       "7268  20201124_1001_Plate39  25.0   9420201123  \n",
       "...                     ...   ...          ...  \n",
       "6842  20210930_2123_Plate21   NaN  79220210915  \n",
       "6350  20211005_0904_Plate21   NaN  79220210915  \n",
       "6591  20211007_1548_Plate21   NaN  79220210915  \n",
       "7684  20210928_0308_Plate21   NaN  79220210915  \n",
       "7116  20210929_2112_Plate21   NaN  79220210915  \n",
       "\n",
       "[249 rows x 23 columns]"
      ]
     },
     "execution_count": 26,
     "metadata": {},
     "output_type": "execute_result"
    }
   ],
   "source": [
    "get_current_folders('dropbox')"
   ]
  },
  {
   "cell_type": "code",
   "execution_count": 24,
   "id": "d4115bb6-fa9b-4c4e-a40b-ba12aa3879c1",
   "metadata": {},
   "outputs": [
    {
     "data": {
      "application/vnd.jupyter.widget-view+json": {
       "model_id": "118203a621a242d2a5bc5d801d7829d7",
       "version_major": 2,
       "version_minor": 0
      },
      "text/plain": [
       "1st loop:   0%|          | 0/3 [00:00<?, ?it/s]"
      ]
     },
     "metadata": {},
     "output_type": "display_data"
    },
    {
     "data": {
      "application/vnd.jupyter.widget-view+json": {
       "model_id": "",
       "version_major": 2,
       "version_minor": 0
      },
      "text/plain": [
       "2nd loop:   0%|          | 0/100 [00:00<?, ?it/s]"
      ]
     },
     "metadata": {},
     "output_type": "display_data"
    },
    {
     "data": {
      "application/vnd.jupyter.widget-view+json": {
       "model_id": "",
       "version_major": 2,
       "version_minor": 0
      },
      "text/plain": [
       "2nd loop:   0%|          | 0/100 [00:00<?, ?it/s]"
      ]
     },
     "metadata": {},
     "output_type": "display_data"
    },
    {
     "data": {
      "application/vnd.jupyter.widget-view+json": {
       "model_id": "",
       "version_major": 2,
       "version_minor": 0
      },
      "text/plain": [
       "2nd loop:   0%|          | 0/100 [00:00<?, ?it/s]"
      ]
     },
     "metadata": {},
     "output_type": "display_data"
    }
   ],
   "source": [
    "from tqdm.notebook import trange, tqdm\n",
    "from time import sleep\n",
    "\n",
    "for i in trange(3, desc='1st loop'):\n",
    "    for j in tqdm(range(100), desc='2nd loop', leave=False):\n",
    "        sleep(0.1)"
   ]
  },
  {
   "cell_type": "code",
   "execution_count": 2,
   "id": "5a137a04-b2a4-468c-9bc5-b8a8badf3c74",
   "metadata": {},
   "outputs": [],
   "source": [
    "path_bash = os.getenv('HOME')+\"/bash/\"\n",
    "path_job = f'{path_bash}transfer.sh'\n",
    "\n",
    "# call(f\"RES=$(sbatch {path_job})\", shell=True)"
   ]
  },
  {
   "cell_type": "code",
   "execution_count": 25,
   "id": "c6e3515a-65c8-4bac-ba1d-733083ed7d9c",
   "metadata": {},
   "outputs": [
    {
     "name": "stderr",
     "output_type": "stream",
     "text": [
      "sbatch: Single node jobs run on a shared node by default. Add --exclusive if you want to use a node exclusively.\n",
      "/bin/sh: Submitted: command not found\n"
     ]
    },
    {
     "data": {
      "text/plain": [
       "127"
      ]
     },
     "execution_count": 25,
     "metadata": {},
     "output_type": "execute_result"
    }
   ],
   "source": [
    "call(f\"$(sbatch {path_job})\", shell=True)"
   ]
  },
  {
   "cell_type": "code",
   "execution_count": 10,
   "id": "32e4cb1a-bf7e-4d30-bb18-26c87905b758",
   "metadata": {},
   "outputs": [
    {
     "data": {
      "text/plain": [
       "'(sbatch /home/cbisot/bash/transfer.sh)'"
      ]
     },
     "execution_count": 10,
     "metadata": {},
     "output_type": "execute_result"
    }
   ],
   "source": [
    "f\"(sbatch {path_job})\""
   ]
  },
  {
   "cell_type": "code",
   "execution_count": 3,
   "id": "ff41be1a-365c-4d89-a6ca-a1813c9ca9a2",
   "metadata": {},
   "outputs": [
    {
     "name": "stderr",
     "output_type": "stream",
     "text": [
      "sbatch: Single node jobs run on a shared node by default. Add --exclusive if you want to use a node exclusively.\n"
     ]
    }
   ],
   "source": [
    "import subprocess\n",
    "output = subprocess.check_output([\"sbatch\", f\"{path_job}\"])"
   ]
  },
  {
   "cell_type": "code",
   "execution_count": 9,
   "id": "d8b4bab0-ef53-4235-bd6b-be9ab514a299",
   "metadata": {},
   "outputs": [
    {
     "data": {
      "text/plain": [
       "'24841'"
      ]
     },
     "execution_count": 9,
     "metadata": {},
     "output_type": "execute_result"
    }
   ],
   "source": [
    "string = output.decode(\"utf-8\") \n",
    "string.split(' ')[-1][:-2]"
   ]
  },
  {
   "cell_type": "code",
   "execution_count": 24,
   "id": "a9d6805d-8d1d-40de-a7fe-0dcbc793efdf",
   "metadata": {},
   "outputs": [],
   "source": [
    "stra = os.getenv('RES')\n",
    "stra"
   ]
  }
 ],
 "metadata": {
  "kernelspec": {
   "display_name": "Python 3 (ipykernel)",
   "language": "python",
   "name": "python3"
  },
  "language_info": {
   "codemirror_mode": {
    "name": "ipython",
    "version": 3
   },
   "file_extension": ".py",
   "mimetype": "text/x-python",
   "name": "python",
   "nbconvert_exporter": "python",
   "pygments_lexer": "ipython3",
   "version": "3.9.7"
  }
 },
 "nbformat": 4,
 "nbformat_minor": 5
}

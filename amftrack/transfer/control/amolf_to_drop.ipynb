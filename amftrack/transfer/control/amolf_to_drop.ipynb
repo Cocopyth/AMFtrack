{
 "cells": [
  {
   "cell_type": "code",
   "execution_count": null,
   "id": "e2236e36-1e25-43a2-8863-38d5d16473f6",
   "metadata": {},
   "outputs": [],
   "source": [
    "# %matplotlib widget\n",
    "# %load_ext autoreload\n",
    "# %autoreload 2\n",
    "import os  \n",
    "import sys  \n",
    "sys.path.insert(0, os.getenv('HOME')+'/pycode/MscThesis/')\n",
    "# sys.path.insert(0,r'C:\\Users\\coren\\Documents\\PhD\\Code\\AMFtrack')\n",
    "\n",
    "import pandas as pd\n",
    "from amftrack.util.sys import get_dates_datetime, get_dirname, temp_path, get_data_info, update_plate_info, \\\n",
    "get_current_folders, get_folders_by_plate_id\n",
    "\n",
    "\n",
    "import ast\n",
    "from amftrack.plotutil import plot_t_tp1\n",
    "from scipy import sparse\n",
    "from datetime import datetime\n",
    "import pickle\n",
    "import scipy.io as sio\n",
    "from pymatreader import read_mat\n",
    "from matplotlib import colors\n",
    "import cv2\n",
    "import imageio\n",
    "import matplotlib.pyplot as plt\n",
    "import numpy as np\n",
    "from skimage.filters import frangi\n",
    "from skimage import filters\n",
    "from random import choice\n",
    "impo scipy.sparse\n",
    "import os\n",
    "from amftrack.pipeline.functions.image_processing.extract_graph import from_sparse_to_graph, generate_nx_graph, sparse_to_doc\n",
    "from skimage.feature import hessian_matrix_det\n",
    "from amftrack.pipeline.functions.image_processing.experiment_class_surf import Experiment\n",
    "from amftrack.pipeline.paths.directory import run_parallel_transfer, find_state, directory_scratch, directory_project, directory_archive\n",
    "import dropbox\n",
    "from amftrack.transfer.functions.transfer import upload, zip_file\n",
    "from subprocess import call\n",
    "from tqdm.autonotebook import tqdm\n",
    "from decouple import Config, RepositoryEnv\n",
    "\n",
    "DOTENV_FILE = os.path.dirname(os.path.dirname(os.path.abspath(''))) + \"/local.env\"\n",
    "env_config = Config(RepositoryEnv(DOTENV_FILE))"
   ]
  },
  {
   "cell_type": "code",
   "execution_count": 80,
   "id": "bfc0e59b-0b2f-49f5-b8bb-0d25e698c571",
   "metadata": {},
   "outputs": [
    {
     "data": {
      "application/vnd.jupyter.widget-view+json": {
       "model_id": "8d2e181aaf134dbf8abfa92c166b0264",
       "version_major": 2,
       "version_minor": 0
      },
      "text/plain": [
       "analysed:   0%|          | 0/137 [00:00<?, ?it/s]"
      ]
     },
     "metadata": {},
     "output_type": "display_data"
    }
   ],
   "source": [
    "directory = r'/mnt/sun-temp/TEMP/PRINCE_analysis/'\n",
    "\n",
    "update_plate_info(directory,local=True)\n",
    "all_folders = get_current_folders(directory,local=True)"
   ]
  },
  {
   "cell_type": "code",
   "execution_count": 82,
   "id": "911a75f1-5625-4e33-b676-77158c73dcd6",
   "metadata": {},
   "outputs": [],
   "source": [
    "folders = all_folders.loc[all_folders['folder']=='20220510_0339_Plate03']"
   ]
  },
  {
   "cell_type": "code",
   "execution_count": 83,
   "id": "ee1206e6-5537-4de9-9272-a459c85257db",
   "metadata": {},
   "outputs": [],
   "source": [
    "dir_drop = \"test\""
   ]
  },
  {
   "cell_type": "code",
   "execution_count": 84,
   "id": "520093a7-438f-48ca-be2a-2b6ea42309ee",
   "metadata": {
    "tags": []
   },
   "outputs": [
    {
     "data": {
      "application/vnd.jupyter.widget-view+json": {
       "model_id": "e87515b765db43b8871b1b8a810ea40c",
       "version_major": 2,
       "version_minor": 0
      },
      "text/plain": [
       "transferred:   0%|          | 0/1 [00:00<?, ?it/s]"
      ]
     },
     "metadata": {},
     "output_type": "display_data"
    },
    {
     "data": {
      "application/vnd.jupyter.widget-view+json": {
       "model_id": "",
       "version_major": 2,
       "version_minor": 0
      },
      "text/plain": [
       "zipping:   0%|          | 0/150 [00:00<?, ?it/s]"
      ]
     },
     "metadata": {},
     "output_type": "display_data"
    },
    {
     "ename": "TypeError",
     "evalue": "upload() missing 1 required positional argument: 'target_path'",
     "output_type": "error",
     "traceback": [
      "\u001b[0;31m---------------------------------------------------------------------------\u001b[0m",
      "\u001b[0;31mTypeError\u001b[0m                                 Traceback (most recent call last)",
      "\u001b[0;32m~/temp/ipykernel_3427811/1480777384.py\u001b[0m in \u001b[0;36m<module>\u001b[0;34m\u001b[0m\n\u001b[1;32m     15\u001b[0m             \u001b[0mline\u001b[0m\u001b[0;34m.\u001b[0m\u001b[0mto_json\u001b[0m\u001b[0;34m(\u001b[0m\u001b[0mpath_info\u001b[0m\u001b[0;34m)\u001b[0m\u001b[0;34m\u001b[0m\u001b[0;34m\u001b[0m\u001b[0m\n\u001b[1;32m     16\u001b[0m             \u001b[0mzip_file\u001b[0m\u001b[0;34m(\u001b[0m\u001b[0mos\u001b[0m\u001b[0;34m.\u001b[0m\u001b[0mpath\u001b[0m\u001b[0;34m.\u001b[0m\u001b[0mjoin\u001b[0m\u001b[0;34m(\u001b[0m\u001b[0mpath_snap\u001b[0m\u001b[0;34m,\u001b[0m\u001b[0msubfolder\u001b[0m\u001b[0;34m)\u001b[0m\u001b[0;34m,\u001b[0m\u001b[0mpath_zip\u001b[0m\u001b[0;34m)\u001b[0m\u001b[0;34m\u001b[0m\u001b[0;34m\u001b[0m\u001b[0m\n\u001b[0;32m---> 17\u001b[0;31m             \u001b[0mupload\u001b[0m\u001b[0;34m(\u001b[0m\u001b[0mpath_zip\u001b[0m\u001b[0;34m,\u001b[0m\u001b[0;34mf'/{dir_drop}/{id_unique}/{directory_name}/{subfolder}.zip'\u001b[0m\u001b[0;34m,\u001b[0m\u001b[0mchunk_size\u001b[0m\u001b[0;34m=\u001b[0m\u001b[0;36m256\u001b[0m \u001b[0;34m*\u001b[0m \u001b[0;36m1024\u001b[0m \u001b[0;34m*\u001b[0m \u001b[0;36m1024\u001b[0m\u001b[0;34m)\u001b[0m\u001b[0;34m\u001b[0m\u001b[0;34m\u001b[0m\u001b[0m\n\u001b[0m\u001b[1;32m     18\u001b[0m         \u001b[0mupload\u001b[0m\u001b[0;34m(\u001b[0m\u001b[0mpath_info\u001b[0m\u001b[0;34m,\u001b[0m\u001b[0;34mf'/{dir_drop}/{id_unique}/{directory_name}_info.json'\u001b[0m\u001b[0;34m,\u001b[0m\u001b[0mchunk_size\u001b[0m\u001b[0;34m=\u001b[0m\u001b[0;36m256\u001b[0m \u001b[0;34m*\u001b[0m \u001b[0;36m1024\u001b[0m \u001b[0;34m*\u001b[0m \u001b[0;36m1024\u001b[0m\u001b[0;34m)\u001b[0m\u001b[0;34m\u001b[0m\u001b[0;34m\u001b[0m\u001b[0m\n\u001b[1;32m     19\u001b[0m         \u001b[0mos\u001b[0m\u001b[0;34m.\u001b[0m\u001b[0mremove\u001b[0m\u001b[0;34m(\u001b[0m\u001b[0mpath_info\u001b[0m\u001b[0;34m)\u001b[0m\u001b[0;34m\u001b[0m\u001b[0;34m\u001b[0m\u001b[0m\n",
      "\u001b[0;31mTypeError\u001b[0m: upload() missing 1 required positional argument: 'target_path'"
     ]
    }
   ],
   "source": [
    "run_info = folders.copy()\n",
    "folder_list = list(run_info['folder'])\n",
    "with tqdm(total=len(folder_list), desc=\"transferred\") as pbar:\n",
    "    for folder in folder_list:\n",
    "        directory_name = folder\n",
    "        run_info['unique_id'] = run_info['Plate'].astype(str) + \"_\" + run_info['CrossDate'].astype(str)\n",
    "        line = run_info.loc[run_info['folder']==directory_name]\n",
    "        id_unique = line['unique_id'].iloc[0]\n",
    "\n",
    "        path_snap=directory+directory_name\n",
    "        path_info =f'{temp_path}/{directory_name}_info.json'\n",
    "        \n",
    "        for subfolder in [\"Img\",\"Analysis\"]:\n",
    "            path_zip =f'{temp_path}/{directory_name}_{subfolder}.zip'\n",
    "            line.to_json(path_info)\n",
    "            zip_file(os.path.join(path_snap,subfolder),path_zip)\n",
    "            upload(path_zip,f'/{dir_drop}/{id_unique}/{directory_name}/{subfolder}.zip',chunk_size=256 * 1024 * 1024)\n",
    "        upload(path_info,f'/{dir_drop}/{id_unique}/{directory_name}_info.json',chunk_size=256 * 1024 * 1024)\n",
    "        os.remove(path_info) \n",
    "        os.remove(path_zip)\n",
    "        pbar.update(1)"
   ]
  },
  {
   "cell_type": "code",
   "execution_count": null,
   "id": "9fee53b5-9eb3-4d09-b645-6bb3de940df3",
   "metadata": {},
   "outputs": [],
   "source": [
    "DOTENV_FILE"
   ]
  },
  {
   "cell_type": "code",
   "execution_count": null,
   "id": "1ce190fa-87db-4fb7-b4e7-da75f7802e91",
   "metadata": {
    "tags": []
   },
   "outputs": [],
   "source": [
    "directory = '/mnt/sun-temp/TEMP/PRINCE_syncing/'\n",
    "all_folders = get_current_folders(directory)\n",
    "folders = all_folders.loc[all_folders['Plate']=='860']"
   ]
  },
  {
   "cell_type": "code",
   "execution_count": null,
   "id": "da76fe2b-c66a-4420-aea5-57c6c017875d",
   "metadata": {
    "tags": []
   },
   "outputs": [],
   "source": [
    "p = dropbox.common.PathRoot.namespace_id(\"<TEAM_FOLDER_ID>\")\n",
    "dbx = dropbox.Dropbox(API, timeout=900).with_path_root(p)"
   ]
  },
  {
   "cell_type": "code",
   "execution_count": null,
   "id": "739f8597-239d-4449-a3ea-3e6c165d7741",
   "metadata": {},
   "outputs": [],
   "source": [
    "dbx = dropbox.DropboxTeam(app_key = \"///\",\n",
    "            app_secret = \"///\", oauth2_refresh_token = '///-//')\n",
    "for entry in dbx.team_team_folder_list().team_folders:\n",
    "    print(entry)\n",
    "p = dropbox.common.PathRoot.namespace_id(\"///\")\n",
    "dbx = dbx.with_path_root(p)\n",
    "dbx = dbx.as_user(\"///-///\")"
   ]
  },
  {
   "cell_type": "code",
   "execution_count": null,
   "id": "b963349d-7e69-4187-96c6-24db32c9dca6",
   "metadata": {
    "tags": []
   },
   "outputs": [],
   "source": [
    "dbx.team_members_list_v2()"
   ]
  },
  {
   "cell_type": "code",
   "execution_count": null,
   "id": "9b7ff27e-5937-4c36-b9fb-d96bb03bc140",
   "metadata": {
    "tags": []
   },
   "outputs": [],
   "source": [
    "dbx.files_upload(open(\"automated_stitch.py\", \"rb\").read(), \"/DATA/test\", mode=dropbox.files.WriteMode.overwrite)"
   ]
  },
  {
   "cell_type": "code",
   "execution_count": null,
   "id": "1eefb12f-c217-4580-8c77-d7a1a28bf804",
   "metadata": {},
   "outputs": [],
   "source": []
  },
  {
   "cell_type": "code",
   "execution_count": null,
   "id": "39ffe260-9af3-4c7c-a6bb-e5f4a950e1dc",
   "metadata": {
    "tags": []
   },
   "outputs": [],
   "source": [
    "for entry in dbx.team_namespaces_list().namespaces:\n",
    "    print(entry.namespace_id +\" / \"+entry.name)"
   ]
  },
  {
   "cell_type": "code",
   "execution_count": null,
   "id": "51ae8581-5e45-4f58-9f26-c706bcb44e8b",
   "metadata": {},
   "outputs": [],
   "source": [
    "p = dropbox.common.PathRoot.namespace_id(\"\")\n",
    "dbx = dbx.with_path_root(p)"
   ]
  },
  {
   "cell_type": "code",
   "execution_count": null,
   "id": "fedf10fd-3758-4c1b-92ef-a223d4f3f478",
   "metadata": {
    "tags": []
   },
   "outputs": [],
   "source": [
    "for entry in dbx.team_namespaces_list().namespaces:\n",
    "    print(entry.namespace_id +\" / \"+entry.name)"
   ]
  },
  {
   "cell_type": "code",
   "execution_count": 76,
   "id": "0a95ab32-3bc2-4c88-8543-1aeee668c70d",
   "metadata": {
    "tags": []
   },
   "outputs": [
    {
     "name": "stdout",
     "output_type": "stream",
     "text": [
      "1. Go to: https://www.dropbox.com/oauth2/authorize?response_type=code&client_id=gm3xirr1cgdjfhi&token_access_type=offline&code_challenge=1F8bJvz6vGuWhdKnTF4Jq4PsuJbQBJo0w9QdkBNDMDs&code_challenge_method=S256\n",
      "2. Click \"Allow\" (you might have to log in first).\n",
      "3. Copy the authorization code.\n"
     ]
    },
    {
     "name": "stdin",
     "output_type": "stream",
     "text": [
      "Enter the authorization code here:  x9vxVXoO1WcAAAAAAAAB-Wqfee0rzWhTmzEvIfh0ZTg\n"
     ]
    },
    {
     "name": "stdout",
     "output_type": "stream",
     "text": [
      "<dropbox.dropbox_client.Dropbox object at 0x7f1a470d1a00>\n",
      "<dropbox.dropbox_client.Dropbox object at 0x7f1a470d1a00> Successfully set up client!\n"
     ]
    }
   ],
   "source": [
    "import dropbox\n",
    "from dropbox import DropboxOAuth2FlowNoRedirect\n",
    "\n",
    "'''\n",
    "Populate your app key in order to run this locally\n",
    "'''\n",
    "APP_KEY = \"gm3xirr1cgdjfhi\"\n",
    "\n",
    "auth_flow = DropboxOAuth2FlowNoRedirect(APP_KEY, use_pkce=True, token_access_type='offline')\n",
    "\n",
    "authorize_url = auth_flow.start()\n",
    "print(\"1. Go to: \" + authorize_url)\n",
    "print(\"2. Click \\\"Allow\\\" (you might have to log in first).\")\n",
    "print(\"3. Copy the authorization code.\")\n",
    "auth_code = input(\"Enter the authorization code here: \").strip()\n",
    "\n",
    "try:\n",
    "    oauth_result = auth_flow.finish(auth_code)\n",
    "except Exception as e:\n",
    "    print('Error: %s' % (e,))\n",
    "    exit(1)\n",
    "\n",
    "with dropbox.Dropbox(oauth2_refresh_token=oauth_result.refresh_token, app_key=APP_KEY) as dbx:\n",
    "    print(dbx)\n",
    "    # # p = dropbox.common.PathRoot.namespace_id(\"<TEAM_FOLDER_ID>\")\n",
    "    # dbx = dbx.with_path_root(p)    \n",
    "    print(dbx,\"Successfully set up client!\")"
   ]
  },
  {
   "cell_type": "code",
   "execution_count": 79,
   "id": "a3fbd89e-b63d-4173-97f2-c39987c232c4",
   "metadata": {},
   "outputs": [
    {
     "data": {
      "text/plain": [
       "'JTGUKclu02UAAAAAAAAAATreksjJSYkv2dIaRosB73NCVqZMgRvnDAaBWQAjV5w-'"
      ]
     },
     "execution_count": 79,
     "metadata": {},
     "output_type": "execute_result"
    }
   ],
   "source": [
    "oauth_result.refresh_token"
   ]
  },
  {
   "cell_type": "code",
   "execution_count": null,
   "id": "e7ebbca6-6c43-4e74-91b2-3d8d7e84984f",
   "metadata": {},
   "outputs": [],
   "source": [
    "with dropbox.Dropbox(oauth2_refresh_token=oauth_result.refresh_token, app_key=APP_KEY) as dbx:\n",
    "    # # p = dropbox.common.PathRoot.namespace_id(\"<TEAM_FOLDER_ID>\")\n",
    "    # dbx = dbx.with_path_root(p)    \n",
    "    print(dbx,\"Successfully set up client!\")"
   ]
  },
  {
   "cell_type": "code",
   "execution_count": null,
   "id": "0056047c-888a-4579-bba5-4c531d7c9b5c",
   "metadata": {
    "tags": []
   },
   "outputs": [],
   "source": [
    "env_config = Config(RepositoryEnv(DOTENV_FILE))\n",
    "dir_drop = '/test'\n",
    "# API = env_config.get(\"API_KEY\")\n",
    "API = \"\"\n",
    "temp_path = env_config.get(\"TEMP_PATH\")\n"
   ]
  },
  {
   "cell_type": "code",
   "execution_count": null,
   "id": "9bc95fec-ee6a-4780-94e5-409bccfafc09",
   "metadata": {
    "tags": []
   },
   "outputs": [],
   "source": [
    "with open(\"sync_prince.py\", \"rb\") as f:\n",
    "    dbx.files_upload(f.read(), '/test/test.py', mode=dropbox.files.WriteMode.overwrite)"
   ]
  },
  {
   "cell_type": "code",
   "execution_count": null,
   "id": "3dc8a27a-a935-4cfa-a7ff-2119d9e6b131",
   "metadata": {
    "tags": []
   },
   "outputs": [],
   "source": [
    "upload(API,\"sync_prince.py\",'/test/test.py')"
   ]
  },
  {
   "cell_type": "code",
   "execution_count": null,
   "id": "ab84d5fd-f3aa-4296-acac-49cc61ff6a6f",
   "metadata": {},
   "outputs": [],
   "source": [
    "os.path.join(path_snap,subfolder)"
   ]
  }
 ],
 "metadata": {
  "kernelspec": {
   "display_name": "Python 3 (ipykernel)",
   "language": "python",
   "name": "python3"
  },
  "language_info": {
   "codemirror_mode": {
    "name": "ipython",
    "version": 3
   },
   "file_extension": ".py",
   "mimetype": "text/x-python",
   "name": "python",
   "nbconvert_exporter": "python",
   "pygments_lexer": "ipython3",
   "version": "3.9.7"
  }
 },
 "nbformat": 4,
 "nbformat_minor": 5
}

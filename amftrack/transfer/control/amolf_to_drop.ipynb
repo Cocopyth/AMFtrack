{
 "cells": [
  {
   "cell_type": "code",
   "execution_count": 2,
   "id": "e2236e36-1e25-43a2-8863-38d5d16473f6",
   "metadata": {},
   "outputs": [],
   "source": [
    "# %matplotlib widget\n",
    "# %load_ext autoreload\n",
    "# %autoreload 2\n",
    "import os  \n",
    "import sys  \n",
    "sys.path.insert(0, os.getenv('HOME')+'/pycode/MscThesis/')\n",
    "# sys.path.insert(0,r'C:\\Users\\coren\\Documents\\PhD\\Code\\AMFtrack')\n",
    "\n",
    "import pandas as pd\n",
    "from amftrack.util.sys import get_dates_datetime, get_dirname, temp_path, get_data_info, update_plate_info, \\\n",
    "get_current_folders, get_folders_by_plate_id\n",
    "\n",
    "\n",
    "import ast\n",
    "from amftrack.plotutil import plot_t_tp1\n",
    "from scipy import sparse\n",
    "from datetime import datetime\n",
    "import pickle\n",
    "import scipy.io as sio\n",
    "from pymatreader import read_mat\n",
    "from matplotlib import colors\n",
    "import cv2\n",
    "import imageio\n",
    "import matplotlib.pyplot as plt\n",
    "import numpy as np\n",
    "from skimage.filters import frangi\n",
    "from skimage import filters\n",
    "from random import choice\n",
    "import scipy.sparse\n",
    "import os\n",
    "from amftrack.pipeline.functions.image_processing.extract_graph import from_sparse_to_graph, generate_nx_graph, sparse_to_doc\n",
    "from skimage.feature import hessian_matrix_det\n",
    "from amftrack.pipeline.functions.image_processing.experiment_class_surf import Experiment\n",
    "from amftrack.pipeline.paths.directory import run_parallel_transfer, find_state, directory_scratch, directory_project, directory_archive\n",
    "import dropbox\n",
    "from amftrack.transfer.functions.transfer import upload, zip_file\n",
    "from subprocess import call\n",
    "from tqdm.autonotebook import tqdm\n",
    "from decouple import Config, RepositoryEnv\n",
    "\n",
    "DOTENV_FILE = os.path.dirname(os.path.dirname(os.path.abspath(''))) + \"/local.env\"\n",
    "env_config = Config(RepositoryEnv(DOTENV_FILE))"
   ]
  },
  {
   "cell_type": "code",
   "execution_count": 3,
   "id": "9fee53b5-9eb3-4d09-b645-6bb3de940df3",
   "metadata": {},
   "outputs": [
    {
     "data": {
      "text/plain": [
       "'/home/ipausers/bisot/pycode/MscThesis/amftrack/local.env'"
      ]
     },
     "execution_count": 3,
     "metadata": {},
     "output_type": "execute_result"
    }
   ],
   "source": [
    "DOTENV_FILE"
   ]
  },
  {
   "cell_type": "code",
   "execution_count": 4,
   "id": "1ce190fa-87db-4fb7-b4e7-da75f7802e91",
   "metadata": {
    "tags": []
   },
   "outputs": [],
   "source": [
    "directory = '/mnt/sun-temp/TEMP/PRINCE_syncing/'\n",
    "all_folders = get_current_folders(directory)\n",
    "folders = all_folders.loc[all_folders['Plate']=='860']"
   ]
  },
  {
   "cell_type": "code",
   "execution_count": 25,
   "id": "da76fe2b-c66a-4420-aea5-57c6c017875d",
   "metadata": {
    "collapsed": true,
    "jupyter": {
     "outputs_hidden": true
    },
    "tags": []
   },
   "outputs": [
    {
     "ename": "ValueError",
     "evalue": "path_root must be an instance of PathRoot",
     "output_type": "error",
     "traceback": [
      "\u001b[0;31m---------------------------------------------------------------------------\u001b[0m",
      "\u001b[0;31mValueError\u001b[0m                                Traceback (most recent call last)",
      "\u001b[0;32m~/temp/ipykernel_866726/2133391693.py\u001b[0m in \u001b[0;36m<module>\u001b[0;34m\u001b[0m\n\u001b[0;32m----> 1\u001b[0;31m \u001b[0mdbx\u001b[0m \u001b[0;34m=\u001b[0m \u001b[0mdropbox\u001b[0m\u001b[0;34m.\u001b[0m\u001b[0mDropbox\u001b[0m\u001b[0;34m(\u001b[0m\u001b[0mAPI\u001b[0m\u001b[0;34m,\u001b[0m \u001b[0mtimeout\u001b[0m\u001b[0;34m=\u001b[0m\u001b[0;36m900\u001b[0m\u001b[0;34m)\u001b[0m\u001b[0;34m.\u001b[0m\u001b[0mwith_path_root\u001b[0m\u001b[0;34m(\u001b[0m\u001b[0;34m\"\"\u001b[0m\u001b[0;34m)\u001b[0m\u001b[0;34m\u001b[0m\u001b[0;34m\u001b[0m\u001b[0m\n\u001b[0m",
      "\u001b[0;32m~/miniconda3/envs/amftrack/lib/python3.9/site-packages/dropbox/dropbox_client.py\u001b[0m in \u001b[0;36mwith_path_root\u001b[0;34m(self, path_root)\u001b[0m\n\u001b[1;32m    686\u001b[0m \u001b[0;34m\u001b[0m\u001b[0m\n\u001b[1;32m    687\u001b[0m         \u001b[0;32mif\u001b[0m \u001b[0;32mnot\u001b[0m \u001b[0misinstance\u001b[0m\u001b[0;34m(\u001b[0m\u001b[0mpath_root\u001b[0m\u001b[0;34m,\u001b[0m \u001b[0mPathRoot\u001b[0m\u001b[0;34m)\u001b[0m\u001b[0;34m:\u001b[0m\u001b[0;34m\u001b[0m\u001b[0;34m\u001b[0m\u001b[0m\n\u001b[0;32m--> 688\u001b[0;31m             \u001b[0;32mraise\u001b[0m \u001b[0mValueError\u001b[0m\u001b[0;34m(\u001b[0m\u001b[0;34m\"path_root must be an instance of PathRoot\"\u001b[0m\u001b[0;34m)\u001b[0m\u001b[0;34m\u001b[0m\u001b[0;34m\u001b[0m\u001b[0m\n\u001b[0m\u001b[1;32m    689\u001b[0m \u001b[0;34m\u001b[0m\u001b[0m\n\u001b[1;32m    690\u001b[0m         \u001b[0mnew_headers\u001b[0m \u001b[0;34m=\u001b[0m \u001b[0mself\u001b[0m\u001b[0;34m.\u001b[0m\u001b[0m_headers\u001b[0m\u001b[0;34m.\u001b[0m\u001b[0mcopy\u001b[0m\u001b[0;34m(\u001b[0m\u001b[0;34m)\u001b[0m \u001b[0;32mif\u001b[0m \u001b[0mself\u001b[0m\u001b[0;34m.\u001b[0m\u001b[0m_headers\u001b[0m \u001b[0;32melse\u001b[0m \u001b[0;34m{\u001b[0m\u001b[0;34m}\u001b[0m\u001b[0;34m\u001b[0m\u001b[0;34m\u001b[0m\u001b[0m\n",
      "\u001b[0;31mValueError\u001b[0m: path_root must be an instance of PathRoot"
     ]
    }
   ],
   "source": [
    "p = dropbox.common.PathRoot.namespace_id(\"<TEAM_FOLDER_ID>\")\n",
    "dbx = dropbox.Dropbox(API, timeout=900).with_path_root(p)"
   ]
  },
  {
   "cell_type": "code",
   "execution_count": 18,
   "id": "739f8597-239d-4449-a3ea-3e6c165d7741",
   "metadata": {},
   "outputs": [],
   "source": [
    "dbx = dropbox.Dropbox(app_key = \"nr0yly4qchgn8mb\",\n",
    "            app_secret = \"5txb65rtycw7euv\", oauth2_refresh_token = 'dXL7p4GVDQUAAAAAAAAA4Kb15YrA5LLXz1AMr7Xhng4')"
   ]
  },
  {
   "cell_type": "code",
   "execution_count": 20,
   "id": "899bc00f-1e91-4f11-9b3b-45366d792778",
   "metadata": {},
   "outputs": [
    {
     "name": "stdout",
     "output_type": "stream",
     "text": [
      "{\"access_token\": \"sl.BGBtXKEVO_cf1XyuOhsv3zj_MbJKkJ0D2T7zz70ZztCNSoak6lqxOxNs2nvf8hy2X04uuuXZXipV9bb4MqDrY263hZZkOgKag4lP1dxiAcCXYQjaelooV7eAHvPxWFz2-uQGIYM\", \"token_type\": \"bearer\", \"expires_in\": 14400, \"scope\": \"account_info.read files.content.read files.content.write files.metadata.read files.metadata.write\", \"uid\": \"3881053136\", \"account_id\": \"dbid:AABIDXJq597-uS2e5SgTFZ0vARb3NPh-G8s\"}\n"
     ]
    }
   ],
   "source": [
    "# import requests\n",
    "\n",
    "# app_key = \"nr0yly4qchgn8mb\"\n",
    "# app_secret = \"5txb65rtycw7euv\"\n",
    "\n",
    "# # build the authorization URL:\n",
    "# authorization_url = \"https://www.dropbox.com/oauth2/authorize?client_id=%s&response_type=code\" % app_key\n",
    "\n",
    "# # send the user to the authorization URL:\n",
    "# print ('Go to the following URL and allow access:')\n",
    "# print(authorization_url)\n",
    "\n",
    "# get the authorization code from the user:\n",
    "authorization_code = \"dXL7p4GVDQUAAAAAAAAA4Kb15YrA5LLXz1AMr7Xhng4\"\n",
    "\n",
    "# exchange the authorization code for an access token:\n",
    "token_url = \"https://api.dropboxapi.com/oauth2/token\"\n",
    "params = {\n",
    "    \"code\": authorization_code,\n",
    "    \"grant_type\": \"authorization_code\",\n",
    "    \"client_id\": app_key,\n",
    "    \"client_secret\": app_secret\n",
    "}\n",
    "r = requests.post(token_url, data=params)\n",
    "print(r.text)"
   ]
  },
  {
   "cell_type": "code",
   "execution_count": 25,
   "id": "35a69200-9e00-432f-b3c1-3eb1abc00f67",
   "metadata": {},
   "outputs": [
    {
     "data": {
      "text/plain": [
       "'BKO7AIMPASAAAAAAAAAAAScV2k7pBzWireMMbryRw1cKlnldbp2I0divkm3qgdrm'"
      ]
     },
     "execution_count": 25,
     "metadata": {},
     "output_type": "execute_result"
    }
   ],
   "source": [
    "oauth_result.refresh_token"
   ]
  },
  {
   "cell_type": "code",
   "execution_count": null,
   "id": "0a95ab32-3bc2-4c88-8543-1aeee668c70d",
   "metadata": {},
   "outputs": [
    {
     "name": "stdout",
     "output_type": "stream",
     "text": [
      "1. Go to: https://www.dropbox.com/oauth2/authorize?response_type=code&client_id=nr0yly4qchgn8mb&token_access_type=offline&code_challenge=XLdM8ez2fjanTbpGoCgxN85mFW6hsoO9wUJ1NZ4-Mu8&code_challenge_method=S256\n",
      "2. Click \"Allow\" (you might have to log in first).\n",
      "3. Copy the authorization code.\n"
     ]
    }
   ],
   "source": [
    "import dropbox\n",
    "from dropbox import DropboxOAuth2FlowNoRedirect\n",
    "\n",
    "'''\n",
    "Populate your app key in order to run this locally\n",
    "'''\n",
    "APP_KEY = \"nr0yly4qchgn8mb\"\n",
    "\n",
    "auth_flow = DropboxOAuth2FlowNoRedirect(APP_KEY, use_pkce=True, token_access_type='offline')\n",
    "\n",
    "authorize_url = auth_flow.start()\n",
    "print(\"1. Go to: \" + authorize_url)\n",
    "print(\"2. Click \\\"Allow\\\" (you might have to log in first).\")\n",
    "print(\"3. Copy the authorization code.\")\n",
    "auth_code = input(\"Enter the authorization code here: \").strip()\n",
    "\n",
    "try:\n",
    "    oauth_result = auth_flow.finish(auth_code)\n",
    "except Exception as e:\n",
    "    print('Error: %s' % (e,))\n",
    "    exit(1)\n",
    "\n",
    "with dropbox.Dropbox(oauth2_refresh_token=oauth_result.refresh_token, app_key=APP_KEY) as dbx:\n",
    "    dbx.users_get_current_account()\n",
    "    print(\"Successfully set up client!\")"
   ]
  },
  {
   "cell_type": "code",
   "execution_count": 22,
   "id": "1eefb12f-c217-4580-8c77-d7a1a28bf804",
   "metadata": {},
   "outputs": [
    {
     "data": {
      "text/plain": [
       "OAuth2FlowNoRedirectResult(sl.BGCoDYjR-CfbD5rTinR4C70ZFeoVvfDA5PsIIyTh4o3FsUGrZrwYmaLmwClzff9gsafp7fzbno5O90MEm3nsVb2tdkPpQ94rYgEfQ2G0sCi-EXFiJI9qutCwUYc7z7oAmxVbjbM, dbid:AABIDXJq597-uS2e5SgTFZ0vARb3NPh-G8s, 3881053136, BKO7AIMPASAAAAAAAAAAAScV2k7pBzWireMMbryRw1cKlnldbp2I0divkm3qgdrm, 2022-04-19 17:37:56.702663, account_info.read files.content.read files.content.write files.metadata.read files.metadata.write)"
      ]
     },
     "execution_count": 22,
     "metadata": {},
     "output_type": "execute_result"
    }
   ],
   "source": [
    "oauth_result"
   ]
  },
  {
   "cell_type": "code",
   "execution_count": 7,
   "id": "0056047c-888a-4579-bba5-4c531d7c9b5c",
   "metadata": {
    "tags": []
   },
   "outputs": [],
   "source": [
    "env_config = Config(RepositoryEnv(DOTENV_FILE))\n",
    "dir_drop = '/test'\n",
    "# API = env_config.get(\"API_KEY\")\n",
    "API = \"sl.BFxtWRWbjzZfa0GiP8qvfsmDLs-SsK34r2G09NRfOUTvz3jDk_rwFpfD6Ig7Q9SbYcPOkMN44jErViOYV0jHCMUIFGQGOEVeyIKSRb8K_qHguDYOpyS2G2USOw1018N_Chu4vfk\"\n",
    "temp_path = env_config.get(\"TEMP_PATH\")\n"
   ]
  },
  {
   "cell_type": "code",
   "execution_count": 19,
   "id": "9bc95fec-ee6a-4780-94e5-409bccfafc09",
   "metadata": {},
   "outputs": [
    {
     "ename": "AuthError",
     "evalue": "AuthError('6dd9819542984703815e71b9c9c85da6', AuthError('invalid_access_token', None))",
     "output_type": "error",
     "traceback": [
      "\u001b[0;31m---------------------------------------------------------------------------\u001b[0m",
      "\u001b[0;31mAuthError\u001b[0m                                 Traceback (most recent call last)",
      "\u001b[0;32m~/temp/ipykernel_1891992/2753640492.py\u001b[0m in \u001b[0;36m<module>\u001b[0;34m\u001b[0m\n\u001b[1;32m      1\u001b[0m \u001b[0;32mwith\u001b[0m \u001b[0mopen\u001b[0m\u001b[0;34m(\u001b[0m\u001b[0;34m\"sync_prince.py\"\u001b[0m\u001b[0;34m,\u001b[0m \u001b[0;34m\"rb\"\u001b[0m\u001b[0;34m)\u001b[0m \u001b[0;32mas\u001b[0m \u001b[0mf\u001b[0m\u001b[0;34m:\u001b[0m\u001b[0;34m\u001b[0m\u001b[0;34m\u001b[0m\u001b[0m\n\u001b[0;32m----> 2\u001b[0;31m     \u001b[0mdbx\u001b[0m\u001b[0;34m.\u001b[0m\u001b[0mfiles_upload\u001b[0m\u001b[0;34m(\u001b[0m\u001b[0mf\u001b[0m\u001b[0;34m.\u001b[0m\u001b[0mread\u001b[0m\u001b[0;34m(\u001b[0m\u001b[0;34m)\u001b[0m\u001b[0;34m,\u001b[0m \u001b[0;34m'/test/test.py'\u001b[0m\u001b[0;34m,\u001b[0m \u001b[0mmode\u001b[0m\u001b[0;34m=\u001b[0m\u001b[0mdropbox\u001b[0m\u001b[0;34m.\u001b[0m\u001b[0mfiles\u001b[0m\u001b[0;34m.\u001b[0m\u001b[0mWriteMode\u001b[0m\u001b[0;34m.\u001b[0m\u001b[0moverwrite\u001b[0m\u001b[0;34m)\u001b[0m\u001b[0;34m\u001b[0m\u001b[0;34m\u001b[0m\u001b[0m\n\u001b[0m",
      "\u001b[0;32m~/miniconda3/envs/amftrack/lib/python3.9/site-packages/dropbox/base.py\u001b[0m in \u001b[0;36mfiles_upload\u001b[0;34m(self, f, path, mode, autorename, client_modified, mute, property_groups, strict_conflict)\u001b[0m\n\u001b[1;32m   2929\u001b[0m                                \u001b[0mproperty_groups\u001b[0m\u001b[0;34m,\u001b[0m\u001b[0;34m\u001b[0m\u001b[0;34m\u001b[0m\u001b[0m\n\u001b[1;32m   2930\u001b[0m                                strict_conflict)\n\u001b[0;32m-> 2931\u001b[0;31m         r = self.request(\n\u001b[0m\u001b[1;32m   2932\u001b[0m             \u001b[0mfiles\u001b[0m\u001b[0;34m.\u001b[0m\u001b[0mupload\u001b[0m\u001b[0;34m,\u001b[0m\u001b[0;34m\u001b[0m\u001b[0;34m\u001b[0m\u001b[0m\n\u001b[1;32m   2933\u001b[0m             \u001b[0;34m'files'\u001b[0m\u001b[0;34m,\u001b[0m\u001b[0;34m\u001b[0m\u001b[0;34m\u001b[0m\u001b[0m\n",
      "\u001b[0;32m~/miniconda3/envs/amftrack/lib/python3.9/site-packages/dropbox/dropbox_client.py\u001b[0m in \u001b[0;36mrequest\u001b[0;34m(self, route, namespace, request_arg, request_binary, timeout)\u001b[0m\n\u001b[1;32m    299\u001b[0m         \"\"\"\n\u001b[1;32m    300\u001b[0m \u001b[0;34m\u001b[0m\u001b[0m\n\u001b[0;32m--> 301\u001b[0;31m         \u001b[0mself\u001b[0m\u001b[0;34m.\u001b[0m\u001b[0mcheck_and_refresh_access_token\u001b[0m\u001b[0;34m(\u001b[0m\u001b[0;34m)\u001b[0m\u001b[0;34m\u001b[0m\u001b[0;34m\u001b[0m\u001b[0m\n\u001b[0m\u001b[1;32m    302\u001b[0m \u001b[0;34m\u001b[0m\u001b[0m\n\u001b[1;32m    303\u001b[0m         \u001b[0mhost\u001b[0m \u001b[0;34m=\u001b[0m \u001b[0mroute\u001b[0m\u001b[0;34m.\u001b[0m\u001b[0mattrs\u001b[0m\u001b[0;34m[\u001b[0m\u001b[0;34m'host'\u001b[0m\u001b[0;34m]\u001b[0m \u001b[0;32mor\u001b[0m \u001b[0;34m'api'\u001b[0m\u001b[0;34m\u001b[0m\u001b[0;34m\u001b[0m\u001b[0m\n",
      "\u001b[0;32m~/miniconda3/envs/amftrack/lib/python3.9/site-packages/dropbox/dropbox_client.py\u001b[0m in \u001b[0;36mcheck_and_refresh_access_token\u001b[0;34m(self)\u001b[0m\n\u001b[1;32m    367\u001b[0m         \u001b[0mneeds_token\u001b[0m \u001b[0;34m=\u001b[0m \u001b[0;32mnot\u001b[0m \u001b[0mself\u001b[0m\u001b[0;34m.\u001b[0m\u001b[0m_oauth2_access_token\u001b[0m\u001b[0;34m\u001b[0m\u001b[0;34m\u001b[0m\u001b[0m\n\u001b[1;32m    368\u001b[0m         \u001b[0;32mif\u001b[0m \u001b[0;34m(\u001b[0m\u001b[0mneeds_refresh\u001b[0m \u001b[0;32mor\u001b[0m \u001b[0mneeds_token\u001b[0m\u001b[0;34m)\u001b[0m \u001b[0;32mand\u001b[0m \u001b[0mcan_refresh\u001b[0m\u001b[0;34m:\u001b[0m\u001b[0;34m\u001b[0m\u001b[0;34m\u001b[0m\u001b[0m\n\u001b[0;32m--> 369\u001b[0;31m             \u001b[0mself\u001b[0m\u001b[0;34m.\u001b[0m\u001b[0mrefresh_access_token\u001b[0m\u001b[0;34m(\u001b[0m\u001b[0mscope\u001b[0m\u001b[0;34m=\u001b[0m\u001b[0mself\u001b[0m\u001b[0;34m.\u001b[0m\u001b[0m_scope\u001b[0m\u001b[0;34m)\u001b[0m\u001b[0;34m\u001b[0m\u001b[0;34m\u001b[0m\u001b[0m\n\u001b[0m\u001b[1;32m    370\u001b[0m \u001b[0;34m\u001b[0m\u001b[0m\n\u001b[1;32m    371\u001b[0m     \u001b[0;32mdef\u001b[0m \u001b[0mrefresh_access_token\u001b[0m\u001b[0;34m(\u001b[0m\u001b[0mself\u001b[0m\u001b[0;34m,\u001b[0m \u001b[0mhost\u001b[0m\u001b[0;34m=\u001b[0m\u001b[0mAPI_HOST\u001b[0m\u001b[0;34m,\u001b[0m \u001b[0mscope\u001b[0m\u001b[0;34m=\u001b[0m\u001b[0;32mNone\u001b[0m\u001b[0;34m)\u001b[0m\u001b[0;34m:\u001b[0m\u001b[0;34m\u001b[0m\u001b[0;34m\u001b[0m\u001b[0m\n",
      "\u001b[0;32m~/miniconda3/envs/amftrack/lib/python3.9/site-packages/dropbox/dropbox_client.py\u001b[0m in \u001b[0;36mrefresh_access_token\u001b[0;34m(self, host, scope)\u001b[0m\n\u001b[1;32m    406\u001b[0m             err = stone_serializers.json_compat_obj_decode(\n\u001b[1;32m    407\u001b[0m                 AuthError_validator, 'invalid_access_token')\n\u001b[0;32m--> 408\u001b[0;31m             \u001b[0;32mraise\u001b[0m \u001b[0mAuthError\u001b[0m\u001b[0;34m(\u001b[0m\u001b[0mrequest_id\u001b[0m\u001b[0;34m,\u001b[0m \u001b[0merr\u001b[0m\u001b[0;34m)\u001b[0m\u001b[0;34m\u001b[0m\u001b[0;34m\u001b[0m\u001b[0m\n\u001b[0m\u001b[1;32m    409\u001b[0m         \u001b[0mres\u001b[0m\u001b[0;34m.\u001b[0m\u001b[0mraise_for_status\u001b[0m\u001b[0;34m(\u001b[0m\u001b[0;34m)\u001b[0m\u001b[0;34m\u001b[0m\u001b[0;34m\u001b[0m\u001b[0m\n\u001b[1;32m    410\u001b[0m \u001b[0;34m\u001b[0m\u001b[0m\n",
      "\u001b[0;31mAuthError\u001b[0m: AuthError('6dd9819542984703815e71b9c9c85da6', AuthError('invalid_access_token', None))"
     ]
    }
   ],
   "source": [
    "with open(\"sync_prince.py\", \"rb\") as f:\n",
    "    dbx.files_upload(f.read(), '/test/test.py', mode=dropbox.files.WriteMode.overwrite)"
   ]
  },
  {
   "cell_type": "code",
   "execution_count": 9,
   "id": "3dc8a27a-a935-4cfa-a7ff-2119d9e6b131",
   "metadata": {},
   "outputs": [
    {
     "name": "stderr",
     "output_type": "stream",
     "text": [
      "Unable to refresh access token without                 refresh token and app key\n"
     ]
    },
    {
     "ename": "AuthError",
     "evalue": "AuthError('062ddc4437b749c7807831d37da078ea', AuthError('expired_access_token', None))",
     "output_type": "error",
     "traceback": [
      "\u001b[0;31m---------------------------------------------------------------------------\u001b[0m",
      "\u001b[0;31mAuthError\u001b[0m                                 Traceback (most recent call last)",
      "\u001b[0;32m~/temp/ipykernel_1891992/276837745.py\u001b[0m in \u001b[0;36m<module>\u001b[0;34m\u001b[0m\n\u001b[0;32m----> 1\u001b[0;31m \u001b[0mupload\u001b[0m\u001b[0;34m(\u001b[0m\u001b[0mAPI\u001b[0m\u001b[0;34m,\u001b[0m\u001b[0;34m\"sync_prince.py\"\u001b[0m\u001b[0;34m,\u001b[0m\u001b[0;34m'/test/test.py'\u001b[0m\u001b[0;34m)\u001b[0m\u001b[0;34m\u001b[0m\u001b[0;34m\u001b[0m\u001b[0m\n\u001b[0m",
      "\u001b[0;32m~/pycode/MscThesis/amftrack/transfer/functions/transfer.py\u001b[0m in \u001b[0;36mupload\u001b[0;34m(access_token, file_path, target_path, timeout, chunk_size)\u001b[0m\n\u001b[1;32m     46\u001b[0m             \u001b[0;32mtry\u001b[0m\u001b[0;34m:\u001b[0m\u001b[0;34m\u001b[0m\u001b[0;34m\u001b[0m\u001b[0m\n\u001b[1;32m     47\u001b[0m                 \u001b[0;32mif\u001b[0m \u001b[0mfile_size\u001b[0m \u001b[0;34m<=\u001b[0m \u001b[0mchunk_size\u001b[0m\u001b[0;34m:\u001b[0m\u001b[0;34m\u001b[0m\u001b[0;34m\u001b[0m\u001b[0m\n\u001b[0;32m---> 48\u001b[0;31m                     \u001b[0mdbx\u001b[0m\u001b[0;34m.\u001b[0m\u001b[0mfiles_upload\u001b[0m\u001b[0;34m(\u001b[0m\u001b[0mf\u001b[0m\u001b[0;34m.\u001b[0m\u001b[0mread\u001b[0m\u001b[0;34m(\u001b[0m\u001b[0;34m)\u001b[0m\u001b[0;34m,\u001b[0m \u001b[0mtarget_path\u001b[0m\u001b[0;34m,\u001b[0m \u001b[0mmode\u001b[0m\u001b[0;34m=\u001b[0m\u001b[0mdropbox\u001b[0m\u001b[0;34m.\u001b[0m\u001b[0mfiles\u001b[0m\u001b[0;34m.\u001b[0m\u001b[0mWriteMode\u001b[0m\u001b[0;34m.\u001b[0m\u001b[0moverwrite\u001b[0m\u001b[0;34m)\u001b[0m\u001b[0;34m\u001b[0m\u001b[0;34m\u001b[0m\u001b[0m\n\u001b[0m\u001b[1;32m     49\u001b[0m                     \u001b[0;31m#Overwriting files by default\u001b[0m\u001b[0;34m\u001b[0m\u001b[0;34m\u001b[0m\u001b[0m\n\u001b[1;32m     50\u001b[0m                 \u001b[0;32melse\u001b[0m\u001b[0;34m:\u001b[0m\u001b[0;34m\u001b[0m\u001b[0;34m\u001b[0m\u001b[0m\n",
      "\u001b[0;32m~/miniconda3/envs/amftrack/lib/python3.9/site-packages/dropbox/base.py\u001b[0m in \u001b[0;36mfiles_upload\u001b[0;34m(self, f, path, mode, autorename, client_modified, mute, property_groups, strict_conflict)\u001b[0m\n\u001b[1;32m   2929\u001b[0m                                \u001b[0mproperty_groups\u001b[0m\u001b[0;34m,\u001b[0m\u001b[0;34m\u001b[0m\u001b[0;34m\u001b[0m\u001b[0m\n\u001b[1;32m   2930\u001b[0m                                strict_conflict)\n\u001b[0;32m-> 2931\u001b[0;31m         r = self.request(\n\u001b[0m\u001b[1;32m   2932\u001b[0m             \u001b[0mfiles\u001b[0m\u001b[0;34m.\u001b[0m\u001b[0mupload\u001b[0m\u001b[0;34m,\u001b[0m\u001b[0;34m\u001b[0m\u001b[0;34m\u001b[0m\u001b[0m\n\u001b[1;32m   2933\u001b[0m             \u001b[0;34m'files'\u001b[0m\u001b[0;34m,\u001b[0m\u001b[0;34m\u001b[0m\u001b[0;34m\u001b[0m\u001b[0m\n",
      "\u001b[0;32m~/miniconda3/envs/amftrack/lib/python3.9/site-packages/dropbox/dropbox_client.py\u001b[0m in \u001b[0;36mrequest\u001b[0;34m(self, route, namespace, request_arg, request_binary, timeout)\u001b[0m\n\u001b[1;32m    321\u001b[0m             \u001b[0mtimeout\u001b[0m \u001b[0;34m=\u001b[0m \u001b[0mrequest_arg\u001b[0m\u001b[0;34m.\u001b[0m\u001b[0mtimeout\u001b[0m \u001b[0;34m+\u001b[0m \u001b[0;36m90\u001b[0m\u001b[0;34m\u001b[0m\u001b[0;34m\u001b[0m\u001b[0m\n\u001b[1;32m    322\u001b[0m \u001b[0;34m\u001b[0m\u001b[0m\n\u001b[0;32m--> 323\u001b[0;31m         res = self.request_json_string_with_retry(host,\n\u001b[0m\u001b[1;32m    324\u001b[0m                                                   \u001b[0mroute_name\u001b[0m\u001b[0;34m,\u001b[0m\u001b[0;34m\u001b[0m\u001b[0;34m\u001b[0m\u001b[0m\n\u001b[1;32m    325\u001b[0m                                                   \u001b[0mroute_style\u001b[0m\u001b[0;34m,\u001b[0m\u001b[0;34m\u001b[0m\u001b[0;34m\u001b[0m\u001b[0m\n",
      "\u001b[0;32m~/miniconda3/envs/amftrack/lib/python3.9/site-packages/dropbox/dropbox_client.py\u001b[0m in \u001b[0;36mrequest_json_string_with_retry\u001b[0;34m(self, host, route_name, route_style, request_json_arg, auth_type, request_binary, timeout)\u001b[0m\n\u001b[1;32m    477\u001b[0m             \u001b[0mself\u001b[0m\u001b[0;34m.\u001b[0m\u001b[0m_logger\u001b[0m\u001b[0;34m.\u001b[0m\u001b[0minfo\u001b[0m\u001b[0;34m(\u001b[0m\u001b[0;34m'Request to %s'\u001b[0m\u001b[0;34m,\u001b[0m \u001b[0mroute_name\u001b[0m\u001b[0;34m)\u001b[0m\u001b[0;34m\u001b[0m\u001b[0;34m\u001b[0m\u001b[0m\n\u001b[1;32m    478\u001b[0m             \u001b[0;32mtry\u001b[0m\u001b[0;34m:\u001b[0m\u001b[0;34m\u001b[0m\u001b[0;34m\u001b[0m\u001b[0m\n\u001b[0;32m--> 479\u001b[0;31m                 return self.request_json_string(host,\n\u001b[0m\u001b[1;32m    480\u001b[0m                                                 \u001b[0mroute_name\u001b[0m\u001b[0;34m,\u001b[0m\u001b[0;34m\u001b[0m\u001b[0;34m\u001b[0m\u001b[0m\n\u001b[1;32m    481\u001b[0m                                                 \u001b[0mroute_style\u001b[0m\u001b[0;34m,\u001b[0m\u001b[0;34m\u001b[0m\u001b[0;34m\u001b[0m\u001b[0m\n",
      "\u001b[0;32m~/miniconda3/envs/amftrack/lib/python3.9/site-packages/dropbox/dropbox_client.py\u001b[0m in \u001b[0;36mrequest_json_string\u001b[0;34m(self, host, func_name, route_style, request_json_arg, auth_type, request_binary, timeout)\u001b[0m\n\u001b[1;32m    609\u001b[0m             err = stone_serializers.json_compat_obj_decode(\n\u001b[1;32m    610\u001b[0m                 AuthError_validator, r.json()['error'])\n\u001b[0;32m--> 611\u001b[0;31m             \u001b[0;32mraise\u001b[0m \u001b[0mAuthError\u001b[0m\u001b[0;34m(\u001b[0m\u001b[0mrequest_id\u001b[0m\u001b[0;34m,\u001b[0m \u001b[0merr\u001b[0m\u001b[0;34m)\u001b[0m\u001b[0;34m\u001b[0m\u001b[0;34m\u001b[0m\u001b[0m\n\u001b[0m\u001b[1;32m    612\u001b[0m         \u001b[0;32melif\u001b[0m \u001b[0mr\u001b[0m\u001b[0;34m.\u001b[0m\u001b[0mstatus_code\u001b[0m \u001b[0;34m==\u001b[0m \u001b[0mHTTP_STATUS_INVALID_PATH_ROOT\u001b[0m\u001b[0;34m:\u001b[0m\u001b[0;34m\u001b[0m\u001b[0;34m\u001b[0m\u001b[0m\n\u001b[1;32m    613\u001b[0m             err = stone_serializers.json_compat_obj_decode(\n",
      "\u001b[0;31mAuthError\u001b[0m: AuthError('062ddc4437b749c7807831d37da078ea', AuthError('expired_access_token', None))"
     ]
    }
   ],
   "source": [
    "upload(API,\"sync_prince.py\",'/test/test.py')"
   ]
  },
  {
   "cell_type": "code",
   "execution_count": 22,
   "id": "520093a7-438f-48ca-be2a-2b6ea42309ee",
   "metadata": {
    "tags": []
   },
   "outputs": [
    {
     "data": {
      "application/vnd.jupyter.widget-view+json": {
       "model_id": "27189ed401da4b16ac4cb1ba7781682d",
       "version_major": 2,
       "version_minor": 0
      },
      "text/plain": [
       "transferred:   0%|          | 0/115 [00:00<?, ?it/s]"
      ]
     },
     "metadata": {},
     "output_type": "display_data"
    },
    {
     "data": {
      "application/vnd.jupyter.widget-view+json": {
       "model_id": "",
       "version_major": 2,
       "version_minor": 0
      },
      "text/plain": [
       "zipping:   0%|          | 0/128 [00:00<?, ?it/s]"
      ]
     },
     "metadata": {},
     "output_type": "display_data"
    },
    {
     "data": {
      "application/vnd.jupyter.widget-view+json": {
       "model_id": "f4bbe90d91804116b07c68155dc9c49d",
       "version_major": 2,
       "version_minor": 0
      },
      "text/plain": [
       "Uploaded:   0%|          | 0/856440590 [00:00<?, ?it/s]"
      ]
     },
     "metadata": {},
     "output_type": "display_data"
    },
    {
     "name": "stdout",
     "output_type": "stream",
     "text": [
      "error\n"
     ]
    },
    {
     "ename": "KeyboardInterrupt",
     "evalue": "",
     "output_type": "error",
     "traceback": [
      "\u001b[0;31m---------------------------------------------------------------------------\u001b[0m",
      "\u001b[0;31mApiError\u001b[0m                                  Traceback (most recent call last)",
      "\u001b[0;32m~/pycode/MscThesis/amftrack/transfer/functions/transfer.py\u001b[0m in \u001b[0;36mupload\u001b[0;34m(access_token, file_path, target_path, timeout, chunk_size)\u001b[0m\n\u001b[1;32m     63\u001b[0m                                 \u001b[0;32mif\u001b[0m \u001b[0;34m(\u001b[0m\u001b[0mfile_size\u001b[0m \u001b[0;34m-\u001b[0m \u001b[0mf\u001b[0m\u001b[0;34m.\u001b[0m\u001b[0mtell\u001b[0m\u001b[0;34m(\u001b[0m\u001b[0;34m)\u001b[0m\u001b[0;34m)\u001b[0m \u001b[0;34m<=\u001b[0m \u001b[0mchunk_size\u001b[0m\u001b[0;34m:\u001b[0m\u001b[0;34m\u001b[0m\u001b[0;34m\u001b[0m\u001b[0m\n\u001b[0;32m---> 64\u001b[0;31m                                     dbx.files_upload_session_finish(\n\u001b[0m\u001b[1;32m     65\u001b[0m                                             \u001b[0mf\u001b[0m\u001b[0;34m.\u001b[0m\u001b[0mread\u001b[0m\u001b[0;34m(\u001b[0m\u001b[0mchunk_size\u001b[0m\u001b[0;34m)\u001b[0m\u001b[0;34m,\u001b[0m \u001b[0mcursor\u001b[0m\u001b[0;34m,\u001b[0m \u001b[0mcommit\u001b[0m\u001b[0;34m\u001b[0m\u001b[0;34m\u001b[0m\u001b[0m\n",
      "\u001b[0;32m~/miniconda3/envs/amftrack/lib/python3.9/site-packages/dropbox/base.py\u001b[0m in \u001b[0;36mfiles_upload_session_finish\u001b[0;34m(self, f, cursor, commit)\u001b[0m\n\u001b[1;32m   3042\u001b[0m                                            commit)\n\u001b[0;32m-> 3043\u001b[0;31m         r = self.request(\n\u001b[0m\u001b[1;32m   3044\u001b[0m             \u001b[0mfiles\u001b[0m\u001b[0;34m.\u001b[0m\u001b[0mupload_session_finish\u001b[0m\u001b[0;34m,\u001b[0m\u001b[0;34m\u001b[0m\u001b[0;34m\u001b[0m\u001b[0m\n",
      "\u001b[0;32m~/miniconda3/envs/amftrack/lib/python3.9/site-packages/dropbox/dropbox_client.py\u001b[0m in \u001b[0;36mrequest\u001b[0;34m(self, route, namespace, request_arg, request_binary, timeout)\u001b[0m\n\u001b[1;32m    347\u001b[0m         \u001b[0;32mif\u001b[0m \u001b[0misinstance\u001b[0m\u001b[0;34m(\u001b[0m\u001b[0mres\u001b[0m\u001b[0;34m,\u001b[0m \u001b[0mRouteErrorResult\u001b[0m\u001b[0;34m)\u001b[0m\u001b[0;34m:\u001b[0m\u001b[0;34m\u001b[0m\u001b[0;34m\u001b[0m\u001b[0m\n\u001b[0;32m--> 348\u001b[0;31m             raise ApiError(res.request_id,\n\u001b[0m\u001b[1;32m    349\u001b[0m                            \u001b[0mdeserialized_result\u001b[0m\u001b[0;34m,\u001b[0m\u001b[0;34m\u001b[0m\u001b[0;34m\u001b[0m\u001b[0m\n",
      "\u001b[0;31mApiError\u001b[0m: ApiError('5b073a3fc3e5420db4b1bc0917ce1cca', UploadSessionFinishError('path', WriteError('malformed_path', None)))",
      "\nDuring handling of the above exception, another exception occurred:\n",
      "\u001b[0;31mKeyboardInterrupt\u001b[0m                         Traceback (most recent call last)",
      "\u001b[0;32m~/temp/ipykernel_866726/2070108153.py\u001b[0m in \u001b[0;36m<module>\u001b[0;34m\u001b[0m\n\u001b[1;32m     15\u001b[0m             \u001b[0mline\u001b[0m\u001b[0;34m.\u001b[0m\u001b[0mto_json\u001b[0m\u001b[0;34m(\u001b[0m\u001b[0mpath_info\u001b[0m\u001b[0;34m)\u001b[0m\u001b[0;34m\u001b[0m\u001b[0;34m\u001b[0m\u001b[0m\n\u001b[1;32m     16\u001b[0m             \u001b[0mzip_file\u001b[0m\u001b[0;34m(\u001b[0m\u001b[0mos\u001b[0m\u001b[0;34m.\u001b[0m\u001b[0mpath\u001b[0m\u001b[0;34m.\u001b[0m\u001b[0mjoin\u001b[0m\u001b[0;34m(\u001b[0m\u001b[0mpath_snap\u001b[0m\u001b[0;34m,\u001b[0m\u001b[0msubfolder\u001b[0m\u001b[0;34m)\u001b[0m\u001b[0;34m,\u001b[0m\u001b[0mpath_zip\u001b[0m\u001b[0;34m)\u001b[0m\u001b[0;34m\u001b[0m\u001b[0;34m\u001b[0m\u001b[0m\n\u001b[0;32m---> 17\u001b[0;31m             \u001b[0mupload\u001b[0m\u001b[0;34m(\u001b[0m\u001b[0mAPI\u001b[0m\u001b[0;34m,\u001b[0m\u001b[0mpath_zip\u001b[0m\u001b[0;34m,\u001b[0m\u001b[0;34mf'/{dir_drop}/{id_unique}/{directory_name}/{subfolder}.zip'\u001b[0m\u001b[0;34m,\u001b[0m\u001b[0mchunk_size\u001b[0m\u001b[0;34m=\u001b[0m\u001b[0;36m256\u001b[0m \u001b[0;34m*\u001b[0m \u001b[0;36m1024\u001b[0m \u001b[0;34m*\u001b[0m \u001b[0;36m1024\u001b[0m\u001b[0;34m)\u001b[0m\u001b[0;34m\u001b[0m\u001b[0;34m\u001b[0m\u001b[0m\n\u001b[0m\u001b[1;32m     18\u001b[0m         \u001b[0mupload\u001b[0m\u001b[0;34m(\u001b[0m\u001b[0mAPI\u001b[0m\u001b[0;34m,\u001b[0m\u001b[0mpath_info\u001b[0m\u001b[0;34m,\u001b[0m\u001b[0;34mf'/{dir_drop}/{id_unique}/{directory_name}_info.json'\u001b[0m\u001b[0;34m,\u001b[0m\u001b[0mchunk_size\u001b[0m\u001b[0;34m=\u001b[0m\u001b[0;36m256\u001b[0m \u001b[0;34m*\u001b[0m \u001b[0;36m1024\u001b[0m \u001b[0;34m*\u001b[0m \u001b[0;36m1024\u001b[0m\u001b[0;34m)\u001b[0m\u001b[0;34m\u001b[0m\u001b[0;34m\u001b[0m\u001b[0m\n\u001b[1;32m     19\u001b[0m         \u001b[0mos\u001b[0m\u001b[0;34m.\u001b[0m\u001b[0mremove\u001b[0m\u001b[0;34m(\u001b[0m\u001b[0mpath_info\u001b[0m\u001b[0;34m)\u001b[0m\u001b[0;34m\u001b[0m\u001b[0;34m\u001b[0m\u001b[0m\n",
      "\u001b[0;32m~/pycode/MscThesis/amftrack/transfer/functions/transfer.py\u001b[0m in \u001b[0;36mupload\u001b[0;34m(access_token, file_path, target_path, timeout, chunk_size)\u001b[0m\n\u001b[1;32m     75\u001b[0m             \u001b[0;32mexcept\u001b[0m \u001b[0;34m(\u001b[0m\u001b[0mrequests\u001b[0m\u001b[0;34m.\u001b[0m\u001b[0mexceptions\u001b[0m\u001b[0;34m.\u001b[0m\u001b[0mRequestException\u001b[0m\u001b[0;34m,\u001b[0m\u001b[0mdropbox\u001b[0m\u001b[0;34m.\u001b[0m\u001b[0mexceptions\u001b[0m\u001b[0;34m.\u001b[0m\u001b[0mApiError\u001b[0m\u001b[0;34m)\u001b[0m \u001b[0;32mas\u001b[0m \u001b[0me\u001b[0m\u001b[0;34m:\u001b[0m\u001b[0;34m\u001b[0m\u001b[0;34m\u001b[0m\u001b[0m\n\u001b[1;32m     76\u001b[0m                 \u001b[0mprint\u001b[0m\u001b[0;34m(\u001b[0m\u001b[0;34m\"error\"\u001b[0m\u001b[0;34m)\u001b[0m\u001b[0;34m\u001b[0m\u001b[0;34m\u001b[0m\u001b[0m\n\u001b[0;32m---> 77\u001b[0;31m                 \u001b[0msleep\u001b[0m\u001b[0;34m(\u001b[0m\u001b[0;36m60\u001b[0m\u001b[0;34m)\u001b[0m\u001b[0;34m\u001b[0m\u001b[0;34m\u001b[0m\u001b[0m\n\u001b[0m\u001b[1;32m     78\u001b[0m                 \u001b[0;32mcontinue\u001b[0m\u001b[0;34m\u001b[0m\u001b[0;34m\u001b[0m\u001b[0m\n\u001b[1;32m     79\u001b[0m             \u001b[0;32mbreak\u001b[0m\u001b[0;34m\u001b[0m\u001b[0;34m\u001b[0m\u001b[0m\n",
      "\u001b[0;31mKeyboardInterrupt\u001b[0m: "
     ]
    }
   ],
   "source": [
    "run_info = folders.copy()\n",
    "folder_list = list(run_info['folder'])\n",
    "with tqdm(total=len(folder_list), desc=\"transferred\") as pbar:\n",
    "    for folder in folder_list:\n",
    "        directory_name = folder\n",
    "        run_info['unique_id'] = run_info['Plate'].astype(str) + \"_\" + run_info['CrossDate'].astype(str)\n",
    "        line = run_info.loc[run_info['folder']==directory_name]\n",
    "        id_unique = line['unique_id'].iloc[0]\n",
    "\n",
    "        path_snap=directory+directory_name\n",
    "        path_info =f'{temp_path}/{directory_name}_info.json'\n",
    "        \n",
    "        for subfolder in [\"Img\",\"Analysis\"]:\n",
    "            path_zip =f'{temp_path}/{directory_name}_{subfolder}.zip'\n",
    "            line.to_json(path_info)\n",
    "            zip_file(os.path.join(path_snap,subfolder),path_zip)\n",
    "            upload(API,path_zip,f'/{dir_drop}/{id_unique}/{directory_name}/{subfolder}.zip',chunk_size=256 * 1024 * 1024)\n",
    "        upload(API,path_info,f'/{dir_drop}/{id_unique}/{directory_name}_info.json',chunk_size=256 * 1024 * 1024)\n",
    "        os.remove(path_info) \n",
    "        os.remove(path_zip)\n",
    "        pbar.update(1)"
   ]
  },
  {
   "cell_type": "code",
   "execution_count": 20,
   "id": "ab84d5fd-f3aa-4296-acac-49cc61ff6a6f",
   "metadata": {},
   "outputs": [
    {
     "data": {
      "text/plain": [
       "'/mnt/sun-temp/TEMP/PRINCE_syncing/20220321_0838_Plate11/Img'"
      ]
     },
     "execution_count": 20,
     "metadata": {},
     "output_type": "execute_result"
    }
   ],
   "source": [
    "os.path.join(path_snap,subfolder)"
   ]
  }
 ],
 "metadata": {
  "kernelspec": {
   "display_name": "Python 3 (ipykernel)",
   "language": "python",
   "name": "python3"
  },
  "language_info": {
   "codemirror_mode": {
    "name": "ipython",
    "version": 3
   },
   "file_extension": ".py",
   "mimetype": "text/x-python",
   "name": "python",
   "nbconvert_exporter": "python",
   "pygments_lexer": "ipython3",
   "version": "3.9.7"
  }
 },
 "nbformat": 4,
 "nbformat_minor": 5
}

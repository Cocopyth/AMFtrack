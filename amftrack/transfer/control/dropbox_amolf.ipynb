{
 "cells": [
  {
   "cell_type": "code",
   "execution_count": 1,
   "metadata": {
    "tags": []
   },
   "outputs": [
    {
     "name": "stderr",
     "output_type": "stream",
     "text": [
      "/home/ipausers/bisot/miniconda3/envs/amftrack/lib/python3.9/site-packages/scipy/__init__.py:146: UserWarning: A NumPy version >=1.16.5 and <1.23.0 is required for this version of SciPy (detected version 1.23.1\n",
      "  warnings.warn(f\"A NumPy version >={np_minversion} and <{np_maxversion}\"\n",
      "/home/ipausers/bisot/pycode/MscThesis/amftrack/util/dbx.py:3: TqdmExperimentalWarning: Using `tqdm.autonotebook.tqdm` in notebook mode. Use `tqdm.tqdm` instead to force console mode (e.g. in jupyter console)\n",
      "  from tqdm.autonotebook import tqdm\n"
     ]
    }
   ],
   "source": [
    "%matplotlib widget\n",
    "%load_ext autoreload\n",
    "%autoreload 2\n",
    "from IPython.display import clear_output\n",
    "import os\n",
    "import sys\n",
    "\n",
    "# sys.path.insert(0, os.getenv('HOME')+'/pycode/MscThesis/')\n",
    "# sys.path.insert(0,r'C:\\Users\\coren\\Documents\\PhD\\Code\\AMFtrack')\n",
    "\n",
    "import pandas as pd\n",
    "from amftrack.util.sys import (\n",
    "    get_dates_datetime,\n",
    "    get_dirname,\n",
    "    temp_path,\n",
    "    get_data_info,\n",
    "    update_plate_info,\n",
    "    get_current_folders,\n",
    "    get_folders_by_plate_id,\n",
    ")\n",
    "\n",
    "\n",
    "import ast\n",
    "from amftrack.plotutil import plot_t_tp1\n",
    "from scipy import sparse\n",
    "from datetime import datetime\n",
    "import pickle\n",
    "import scipy.io as sio\n",
    "from pymatreader import read_mat\n",
    "from matplotlib import colors\n",
    "import cv2\n",
    "import imageio\n",
    "import matplotlib.pyplot as plt\n",
    "import numpy as np\n",
    "from skimage.filters import frangi\n",
    "from skimage import filters\n",
    "from random import choice\n",
    "import scipy.sparse\n",
    "import os\n",
    "from amftrack.pipeline.functions.image_processing.extract_graph import (\n",
    "    from_sparse_to_graph,\n",
    "    generate_nx_graph,\n",
    "    sparse_to_doc,\n",
    ")\n",
    "from skimage.feature import hessian_matrix_det\n",
    "\n",
    "# from amftrack.pipeline.functions.image_processing.experiment_class_surf import Experiment\n",
    "from amftrack.pipeline.launching.run import (\n",
    "    run_transfer,\n",
    ")\n",
    "import dropbox\n",
    "from amftrack.util.dbx import upload_folders, load_dbx, download, get_dropbox_folders\n",
    "from subprocess import call\n",
    "import logging\n",
    "\n",
    "logging.basicConfig(stream=sys.stdout, level=logging.debug)"
   ]
  },
  {
   "cell_type": "markdown",
   "metadata": {},
   "source": [
    "**To transfer data from sun to dropbox**\n",
    "- select the path where the data is\n"
   ]
  },
  {
   "cell_type": "code",
   "execution_count": 2,
   "metadata": {},
   "outputs": [],
   "source": [
    "directory_origin = '/mnt/sun-temp/TEMP/PRINCE_Felix/'\n",
    "directory_origin = '/media/bisot/AMF_03/PRINCE/'"
   ]
  },
  {
   "cell_type": "markdown",
   "metadata": {},
   "source": [
    "- get the folders at this path and select the folders of interest"
   ]
  },
  {
   "cell_type": "code",
   "execution_count": 11,
   "metadata": {
    "tags": []
   },
   "outputs": [
    {
     "data": {
      "application/vnd.jupyter.widget-view+json": {
       "model_id": "b7327b22123b489a8518c5948ecb4030",
       "version_major": 2,
       "version_minor": 0
      },
      "text/plain": [
       "analysed:   0%|          | 0/156 [00:00<?, ?it/s]"
      ]
     },
     "metadata": {},
     "output_type": "display_data"
    }
   ],
   "source": [
    "update_plate_info(directory_origin, local=True,strong_constraint=False)\n",
    "all_folders = get_current_folders(directory_origin, local=True)\n",
    "folders = all_folders"
   ]
  },
  {
   "cell_type": "markdown",
   "metadata": {},
   "source": [
    "- use the 'toward_drop.py' function including the folders of interest and using dir_drop as a parameter indicating where in dropbox the data should go\n",
    "- The delete parameter indicates wether the data should be deleted from the path of origin after succesfull upload on dropbox"
   ]
  },
  {
   "cell_type": "code",
   "execution_count": null,
   "metadata": {
    "collapsed": true,
    "jupyter": {
     "outputs_hidden": true
    },
    "tags": []
   },
   "outputs": [
    {
     "data": {
      "application/vnd.jupyter.widget-view+json": {
       "model_id": "77fa201e21644da186bc639f9742c9da",
       "version_major": 2,
       "version_minor": 0
      },
      "text/plain": [
       "folder_treated:   0%|          | 0/152 [00:00<?, ?it/s]"
      ]
     },
     "metadata": {},
     "output_type": "display_data"
    },
    {
     "name": "stdout",
     "output_type": "stream",
     "text": [
      "python3 /home/ipausers/bisot/pycode/MscThesis/amftrack/transfer/scripts/toward_drop.py DATA/PRINCE False 1660232941945525380 0\n"
     ]
    },
    {
     "name": "stderr",
     "output_type": "stream",
     "text": [
      "transferred:   0%|          | 0/1 [00:00<?, ?it/s]\n",
      "zipping:   0%|          | 0/3 [00:00<?, ?it/s]\u001b[A\n",
      "zipping:  33%|███▎      | 1/3 [00:36<01:12, 36.29s/it]\u001b[A\n",
      "                                                      \u001b[A\n",
      "Uploaded:   0%|          | 0/1176493139 [00:00<?, ?it/s]\u001b[A\n",
      "Uploaded:  23%|██▎       | 268435456/1176493139 [00:10<00:34, 26186436.06it/s]\u001b[A\n",
      "Uploaded:  46%|████▌     | 536870912/1176493139 [00:21<00:26, 24174447.00it/s]\u001b[A\n",
      "Uploaded:  46%|████▌     | 536870912/1176493139 [00:33<00:26, 24174447.00it/s]\u001b[A\n",
      "Uploaded:  68%|██████▊   | 805306368/1176493139 [00:33<00:15, 23525393.02it/s]\u001b[A\n",
      "Uploaded:  91%|█████████▏| 1073741824/1176493139 [00:45<00:04, 22857944.47it/s]\u001b[A\n",
      "Uploaded: 1342177280it [00:53, 26465142.09it/s]                                \u001b[A\n",
      "                                               \u001b[A\n",
      "Uploaded:   0%|          | 0/1226523901 [00:00<?, ?it/s]\u001b[A\n",
      "Uploaded:  22%|██▏       | 268435456/1226523901 [00:10<00:38, 24724946.90it/s]\u001b[A\n",
      "Uploaded:  44%|████▍     | 536870912/1226523901 [00:21<00:27, 24763798.47it/s]\u001b[A\n",
      "Uploaded:  44%|████▍     | 536870912/1226523901 [00:33<00:27, 24763798.47it/s]\u001b[A\n",
      "Uploaded:  66%|██████▌   | 805306368/1226523901 [00:34<00:18, 22511512.64it/s]\u001b[A\n",
      "Uploaded:  88%|████████▊ | 1073741824/1226523901 [00:44<00:06, 24606229.75it/s]\u001b[A\n",
      "Uploaded: 1342177280it [00:52, 27455098.42it/s]                                \u001b[A\n",
      "transferred: 100%|██████████| 1/1 [02:30<00:00, 150.70s/it]\n"
     ]
    },
    {
     "name": "stdout",
     "output_type": "stream",
     "text": [
      "python3 /home/ipausers/bisot/pycode/MscThesis/amftrack/transfer/scripts/toward_drop.py DATA/PRINCE False 1660232941945525380 1\n"
     ]
    },
    {
     "name": "stderr",
     "output_type": "stream",
     "text": [
      "transferred:   0%|          | 0/1 [00:00<?, ?it/s]\n",
      "zipping:   0%|          | 0/3 [00:00<?, ?it/s]\u001b[A\n",
      "zipping:  33%|███▎      | 1/3 [00:30<01:01, 30.57s/it]\u001b[A\n",
      "                                                      \u001b[A\n",
      "Uploaded:   0%|          | 0/1198809778 [00:00<?, ?it/s]\u001b[A\n",
      "Uploaded:  22%|██▏       | 268435456/1198809778 [00:06<00:20, 44660731.80it/s]\u001b[A\n",
      "Uploaded:  22%|██▏       | 268435456/1198809778 [00:19<00:20, 44660731.80it/s]\u001b[A\n",
      "Uploaded:  45%|████▍     | 536870912/1198809778 [00:19<00:26, 25267056.63it/s]\u001b[A\n",
      "Uploaded:  67%|██████▋   | 805306368/1198809778 [00:34<00:18, 21418654.39it/s]\u001b[A\n",
      "Uploaded:  67%|██████▋   | 805306368/1198809778 [00:49<00:18, 21418654.39it/s]\u001b[A\n",
      "Uploaded:  90%|████████▉ | 1073741824/1198809778 [00:50<00:06, 19388937.30it/s]\u001b[A\n",
      "Uploaded: 1342177280it [00:56, 24064540.83it/s]                                \u001b[A\n",
      "                                               \u001b[A\n",
      "Uploaded:   0%|          | 0/1239133080 [00:00<?, ?it/s]\u001b[A\n",
      "Uploaded:  22%|██▏       | 268435456/1239133080 [00:15<00:55, 17505493.37it/s]\u001b[A\n",
      "Uploaded:  22%|██▏       | 268435456/1239133080 [00:26<00:55, 17505493.37it/s]\u001b[A\n",
      "Uploaded:  43%|████▎     | 536870912/1239133080 [00:31<00:40, 17261268.55it/s]\u001b[A\n",
      "Uploaded:  65%|██████▍   | 805306368/1239133080 [00:40<00:20, 20792996.54it/s]\u001b[A\n",
      "Uploaded:  87%|████████▋ | 1073741824/1239133080 [00:54<00:08, 20414756.18it/s]\u001b[A\n",
      "Uploaded: 1342177280it [01:04, 22181693.21it/s]                                \u001b[A\n",
      "transferred: 100%|██████████| 1/1 [02:40<00:00, 160.28s/it]\n"
     ]
    },
    {
     "name": "stdout",
     "output_type": "stream",
     "text": [
      "python3 /home/ipausers/bisot/pycode/MscThesis/amftrack/transfer/scripts/toward_drop.py DATA/PRINCE False 1660232941945525380 2\n"
     ]
    },
    {
     "name": "stderr",
     "output_type": "stream",
     "text": [
      "transferred:   0%|          | 0/1 [00:00<?, ?it/s]\n",
      "zipping:   0%|          | 0/3 [00:00<?, ?it/s]\u001b[A\n",
      "zipping:  33%|███▎      | 1/3 [00:30<01:00, 30.31s/it]\u001b[A\n",
      "                                                      \u001b[A\n",
      "Uploaded:   0%|          | 0/1173917343 [00:00<?, ?it/s]\u001b[A\n",
      "Uploaded:  23%|██▎       | 268435456/1173917343 [00:12<00:42, 21168760.61it/s]\u001b[A\n",
      "Uploaded:  46%|████▌     | 536870912/1173917343 [00:24<00:28, 22542899.29it/s]\u001b[A\n",
      "Uploaded:  46%|████▌     | 536870912/1173917343 [00:39<00:28, 22542899.29it/s]\u001b[A\n",
      "Uploaded:  69%|██████▊   | 805306368/1173917343 [00:40<00:19, 19365178.29it/s]\u001b[A\n",
      "Uploaded:  91%|█████████▏| 1073741824/1173917343 [00:54<00:05, 19232803.01it/s]\u001b[A\n",
      "Uploaded: 1342177280it [00:59, 24532662.73it/s]                                \u001b[A\n",
      "                                               \u001b[A\n",
      "Uploaded:   0%|          | 0/1240572820 [00:00<?, ?it/s]\u001b[A\n",
      "Uploaded:  22%|██▏       | 268435456/1240572820 [00:13<00:48, 19865928.12it/s]\u001b[A\n",
      "Uploaded:  43%|████▎     | 536870912/1240572820 [00:23<00:29, 23809681.27it/s]\u001b[A\n",
      "Uploaded:  43%|████▎     | 536870912/1240572820 [00:33<00:29, 23809681.27it/s]\u001b[A\n",
      "Uploaded:  65%|██████▍   | 805306368/1240572820 [00:35<00:18, 23191388.11it/s]\u001b[A\n",
      "Uploaded:  87%|████████▋ | 1073741824/1240572820 [00:51<00:08, 19761825.24it/s]\u001b[A\n",
      "Uploaded: 1342177280it [01:00, 22793805.39it/s]                                \u001b[A\n",
      "transferred: 100%|██████████| 1/1 [02:39<00:00, 159.54s/it]\n"
     ]
    },
    {
     "name": "stdout",
     "output_type": "stream",
     "text": [
      "python3 /home/ipausers/bisot/pycode/MscThesis/amftrack/transfer/scripts/toward_drop.py DATA/PRINCE False 1660232941945525380 3\n"
     ]
    },
    {
     "name": "stderr",
     "output_type": "stream",
     "text": [
      "transferred:   0%|          | 0/1 [00:00<?, ?it/s]\n",
      "zipping:   0%|          | 0/3 [00:00<?, ?it/s]\u001b[A\n",
      "zipping:  33%|███▎      | 1/3 [00:30<01:01, 30.50s/it]\u001b[A\n",
      "                                                      \u001b[A\n",
      "Uploaded:   0%|          | 0/1171346103 [00:00<?, ?it/s]\u001b[A\n",
      "Uploaded:  23%|██▎       | 268435456/1171346103 [00:12<00:42, 21380968.50it/s]\u001b[A\n",
      "Uploaded:  46%|████▌     | 536870912/1171346103 [00:27<00:32, 19377323.74it/s]\u001b[A\n",
      "Uploaded:  46%|████▌     | 536870912/1171346103 [00:39<00:32, 19377323.74it/s]\u001b[A\n",
      "Uploaded:  69%|██████▉   | 805306368/1171346103 [00:40<00:18, 19727369.31it/s]\u001b[A\n",
      "Uploaded:  92%|█████████▏| 1073741824/1171346103 [00:52<00:04, 20748816.25it/s]\u001b[A\n",
      "Uploaded: 1342177280it [01:04, 21599778.75it/s]                                \u001b[A\n",
      "                                               \u001b[A\n",
      "Uploaded:   0%|          | 0/1291463398 [00:00<?, ?it/s]\u001b[A\n",
      "Uploaded:  21%|██        | 268435456/1291463398 [00:09<00:34, 29333435.26it/s]\u001b[A\n",
      "Uploaded:  42%|████▏     | 536870912/1291463398 [00:23<00:33, 22397378.35it/s]\u001b[A\n",
      "Uploaded:  62%|██████▏   | 805306368/1291463398 [00:38<00:24, 20098337.97it/s]\u001b[A\n",
      "Uploaded:  62%|██████▏   | 805306368/1291463398 [00:48<00:24, 20098337.97it/s]\u001b[A\n",
      "Uploaded:  83%|████████▎ | 1073741824/1291463398 [00:50<00:10, 20485921.30it/s]\u001b[A\n",
      "Uploaded: 1342177280it [01:05, 19817533.40it/s]                                \u001b[A\n",
      "transferred: 100%|██████████| 1/1 [02:48<00:00, 168.84s/it]\n"
     ]
    },
    {
     "name": "stdout",
     "output_type": "stream",
     "text": [
      "python3 /home/ipausers/bisot/pycode/MscThesis/amftrack/transfer/scripts/toward_drop.py DATA/PRINCE False 1660232941945525380 4\n"
     ]
    },
    {
     "name": "stderr",
     "output_type": "stream",
     "text": [
      "transferred:   0%|          | 0/1 [00:00<?, ?it/s]\n",
      "zipping:   0%|          | 0/3 [00:00<?, ?it/s]\u001b[A\n",
      "zipping:  33%|███▎      | 1/3 [00:30<01:00, 30.40s/it]\u001b[A\n",
      "                                                      \u001b[A\n",
      "Uploaded:   0%|          | 0/1177797214 [00:00<?, ?it/s]\u001b[A\n",
      "Uploaded:  23%|██▎       | 268435456/1177797214 [00:11<00:37, 24058405.90it/s]\u001b[A\n",
      "Uploaded:  46%|████▌     | 536870912/1177797214 [00:23<00:29, 22100732.51it/s]\u001b[A\n",
      "Uploaded:  68%|██████▊   | 805306368/1177797214 [00:35<00:16, 22505292.57it/s]\u001b[A\n",
      "Uploaded:  68%|██████▊   | 805306368/1177797214 [00:49<00:16, 22505292.57it/s]\u001b[A\n",
      "Uploaded:  91%|█████████ | 1073741824/1177797214 [00:51<00:05, 20142473.75it/s]\u001b[A\n",
      "Uploaded: 1342177280it [00:58, 23969296.08it/s]                                \u001b[A\n",
      "                                               \u001b[A\n",
      "Uploaded:   0%|          | 0/1247173060 [00:00<?, ?it/s]\u001b[A\n",
      "Uploaded:  22%|██▏       | 268435456/1247173060 [00:14<00:51, 18939368.80it/s]\u001b[A\n",
      "Uploaded:  22%|██▏       | 268435456/1247173060 [00:24<00:51, 18939368.80it/s]\u001b[A\n",
      "Uploaded:  43%|████▎     | 536870912/1247173060 [00:27<00:36, 19664854.72it/s]\u001b[A\n",
      "Uploaded:  65%|██████▍   | 805306368/1247173060 [00:39<00:21, 20775222.73it/s]\u001b[A\n",
      "Uploaded:  86%|████████▌ | 1073741824/1247173060 [00:49<00:07, 22694328.79it/s]\u001b[A\n",
      "Uploaded: 1342177280it [00:59, 24181814.70it/s]                                \u001b[A\n",
      "transferred: 100%|██████████| 1/1 [02:37<00:00, 157.47s/it]\n"
     ]
    },
    {
     "name": "stdout",
     "output_type": "stream",
     "text": [
      "python3 /home/ipausers/bisot/pycode/MscThesis/amftrack/transfer/scripts/toward_drop.py DATA/PRINCE False 1660232941945525380 5\n"
     ]
    },
    {
     "name": "stderr",
     "output_type": "stream",
     "text": [
      "transferred:   0%|          | 0/1 [00:00<?, ?it/s]\n",
      "zipping:   0%|          | 0/3 [00:00<?, ?it/s]\u001b[A\n",
      "zipping:  33%|███▎      | 1/3 [00:34<01:08, 34.06s/it]\u001b[A\n",
      "                                                      \u001b[A\n",
      "Uploaded:   0%|          | 0/1180401535 [00:00<?, ?it/s]\u001b[A\n",
      "Uploaded:  23%|██▎       | 268435456/1180401535 [00:13<00:44, 20613623.01it/s]\u001b[A\n",
      "Uploaded:  45%|████▌     | 536870912/1180401535 [00:24<00:29, 21733738.11it/s]\u001b[A\n",
      "Uploaded:  45%|████▌     | 536870912/1180401535 [00:35<00:29, 21733738.11it/s]\u001b[A\n",
      "Uploaded:  68%|██████▊   | 805306368/1180401535 [00:37<00:17, 21932938.65it/s]\u001b[A\n",
      "Uploaded:  91%|█████████ | 1073741824/1180401535 [00:48<00:04, 22303158.59it/s]\u001b[A\n",
      "Uploaded: 1342177280it [00:55, 26191547.31it/s]                                \u001b[A\n",
      "                                               \u001b[A\n",
      "Uploaded:   0%|          | 0/1233324307 [00:00<?, ?it/s]\u001b[A\n",
      "Uploaded:  22%|██▏       | 268435456/1233324307 [00:14<00:51, 18599523.75it/s]\u001b[A\n",
      "Uploaded:  44%|████▎     | 536870912/1233324307 [00:33<00:44, 15713721.67it/s]\u001b[A\n",
      "Uploaded:  65%|██████▌   | 805306368/1233324307 [00:43<00:22, 19407416.46it/s]\u001b[A\n",
      "Uploaded:  65%|██████▌   | 805306368/1233324307 [00:54<00:22, 19407416.46it/s]\u001b[A\n",
      "Uploaded:  87%|████████▋ | 1073741824/1233324307 [01:00<00:08, 17900518.61it/s]\u001b[A\n",
      "Uploaded: 1342177280it [01:12, 19136311.38it/s]                                \u001b[A\n",
      "transferred: 100%|██████████| 1/1 [02:50<00:00, 170.96s/it]\n"
     ]
    },
    {
     "name": "stdout",
     "output_type": "stream",
     "text": [
      "python3 /home/ipausers/bisot/pycode/MscThesis/amftrack/transfer/scripts/toward_drop.py DATA/PRINCE False 1660232941945525380 6\n"
     ]
    },
    {
     "name": "stderr",
     "output_type": "stream",
     "text": [
      "transferred:   0%|          | 0/1 [00:00<?, ?it/s]\n",
      "zipping:   0%|          | 0/3 [00:00<?, ?it/s]\u001b[A\n",
      "zipping:  33%|███▎      | 1/3 [00:30<01:00, 30.17s/it]\u001b[A\n",
      "                                                      \u001b[A\n",
      "Uploaded:   0%|          | 0/1168636820 [00:00<?, ?it/s]\u001b[A\n",
      "Uploaded:  23%|██▎       | 268435456/1168636820 [00:13<00:45, 19778615.58it/s]\u001b[A\n",
      "Uploaded:  46%|████▌     | 536870912/1168636820 [00:24<00:28, 22066539.23it/s]\u001b[A\n",
      "Uploaded:  69%|██████▉   | 805306368/1168636820 [00:37<00:16, 21885657.26it/s]\u001b[A\n",
      "Uploaded:  92%|█████████▏| 1073741824/1168636820 [00:49<00:04, 21792008.44it/s]\u001b[A\n",
      "Uploaded: 1342177280it [00:58, 24099808.86it/s]                                \u001b[A\n",
      "                                               \u001b[A\n",
      "Uploaded:   0%|          | 0/1237914748 [00:00<?, ?it/s]\u001b[A\n",
      "Uploaded:  22%|██▏       | 268435456/1237914748 [00:13<00:50, 19386893.48it/s]\u001b[A\n",
      "Uploaded:  22%|██▏       | 268435456/1237914748 [00:23<00:50, 19386893.48it/s]\u001b[A\n",
      "Uploaded:  43%|████▎     | 536870912/1237914748 [00:54<01:16, 9127832.86it/s] \u001b[A\n",
      "Uploaded:  65%|██████▌   | 805306368/1237914748 [01:05<00:33, 12772505.16it/s]\u001b[A\n",
      "Uploaded:  87%|████████▋ | 1073741824/1237914748 [01:19<00:11, 14628270.80it/s]\u001b[A\n",
      "Uploaded: 1342177280it [01:32, 16183816.28it/s]                                \u001b[A\n",
      "transferred: 100%|██████████| 1/1 [03:11<00:00, 191.58s/it]\n"
     ]
    },
    {
     "name": "stdout",
     "output_type": "stream",
     "text": [
      "python3 /home/ipausers/bisot/pycode/MscThesis/amftrack/transfer/scripts/toward_drop.py DATA/PRINCE False 1660232941945525380 7\n"
     ]
    },
    {
     "name": "stderr",
     "output_type": "stream",
     "text": [
      "transferred:   0%|          | 0/1 [00:00<?, ?it/s]\n",
      "zipping:   0%|          | 0/3 [00:00<?, ?it/s]\u001b[A\n",
      "zipping:  33%|███▎      | 1/3 [00:30<01:00, 30.20s/it]\u001b[A\n",
      "                                                      \u001b[A\n",
      "Uploaded:   0%|          | 0/1165936669 [00:00<?, ?it/s]\u001b[A\n",
      "Uploaded:  23%|██▎       | 268435456/1165936669 [00:14<00:47, 18866111.69it/s]\u001b[A\n",
      "Uploaded:  46%|████▌     | 536870912/1165936669 [00:26<00:30, 20909028.17it/s]\u001b[A\n",
      "Uploaded:  69%|██████▉   | 805306368/1165936669 [00:37<00:16, 21643780.80it/s]\u001b[A\n",
      "Uploaded:  69%|██████▉   | 805306368/1165936669 [00:49<00:16, 21643780.80it/s]\u001b[A\n",
      "Uploaded:  92%|█████████▏| 1073741824/1165936669 [00:50<00:04, 21314430.70it/s]\u001b[A\n",
      "Uploaded: 1342177280it [00:56, 26229312.45it/s]                                \u001b[A\n",
      "                                               \u001b[A\n",
      "Uploaded:   0%|          | 0/1227940708 [00:00<?, ?it/s]\u001b[A\n",
      "Uploaded:  22%|██▏       | 268435456/1227940708 [00:15<00:53, 17815441.64it/s]\u001b[A\n",
      "Uploaded:  22%|██▏       | 268435456/1227940708 [00:27<00:53, 17815441.64it/s]\u001b[A\n",
      "Uploaded:  44%|████▎     | 536870912/1227940708 [00:30<00:39, 17580715.71it/s]\u001b[A\n",
      "Uploaded:  66%|██████▌   | 805306368/1227940708 [00:41<00:21, 20050110.31it/s]\u001b[A\n",
      "Uploaded:  87%|████████▋ | 1073741824/1227940708 [00:55<00:07, 19651979.82it/s]\u001b[A\n",
      "Uploaded: 1342177280it [01:05, 21705250.58it/s]                                \u001b[A\n",
      "transferred: 100%|██████████| 1/1 [02:41<00:00, 161.33s/it]\n"
     ]
    },
    {
     "name": "stdout",
     "output_type": "stream",
     "text": [
      "python3 /home/ipausers/bisot/pycode/MscThesis/amftrack/transfer/scripts/toward_drop.py DATA/PRINCE False 1660232941945525380 8\n"
     ]
    },
    {
     "name": "stderr",
     "output_type": "stream",
     "text": [
      "transferred:   0%|          | 0/1 [00:00<?, ?it/s]\n",
      "zipping:   0%|          | 0/3 [00:00<?, ?it/s]\u001b[A\n",
      "zipping:  33%|███▎      | 1/3 [00:29<00:59, 29.84s/it]\u001b[A\n",
      "                                                      \u001b[A\n",
      "Uploaded:   0%|          | 0/1163452096 [00:00<?, ?it/s]\u001b[A\n",
      "Uploaded:  23%|██▎       | 268435456/1163452096 [00:08<00:27, 32170200.26it/s]\u001b[A\n",
      "Uploaded:  46%|████▌     | 536870912/1163452096 [00:20<00:24, 25888293.14it/s]\u001b[A\n",
      "Uploaded:  46%|████▌     | 536870912/1163452096 [00:30<00:24, 25888293.14it/s]\u001b[A\n",
      "Uploaded:  69%|██████▉   | 805306368/1163452096 [00:31<00:14, 25294784.21it/s]\u001b[A\n",
      "Uploaded:  92%|█████████▏| 1073741824/1163452096 [00:41<00:03, 25214176.11it/s]\u001b[A\n",
      "Uploaded: 1342177280it [00:47, 30015502.99it/s]                                \u001b[A\n",
      "                                               \u001b[A\n",
      "Uploaded:   0%|          | 0/1276334566 [00:00<?, ?it/s]\u001b[A\n",
      "Uploaded:  21%|██        | 268435456/1276334566 [00:11<00:42, 23736322.82it/s]\u001b[A\n",
      "Uploaded:  42%|████▏     | 536870912/1276334566 [00:24<00:34, 21374444.82it/s]\u001b[A\n",
      "Uploaded:  42%|████▏     | 536870912/1276334566 [00:35<00:34, 21374444.82it/s]\u001b[A\n",
      "Uploaded:  63%|██████▎   | 805306368/1276334566 [00:42<00:26, 17715998.82it/s]\u001b[A\n",
      "Uploaded:  84%|████████▍ | 1073741824/1276334566 [00:55<00:10, 18956045.99it/s]\u001b[A\n",
      "Uploaded:  84%|████████▍ | 1073741824/1276334566 [01:05<00:10, 18956045.99it/s]\u001b[A\n",
      "Uploaded: 1342177280it [01:07, 20187901.52it/s]                                \u001b[A\n",
      "transferred: 100%|██████████| 1/1 [02:34<00:00, 154.42s/it]\n"
     ]
    },
    {
     "name": "stdout",
     "output_type": "stream",
     "text": [
      "python3 /home/ipausers/bisot/pycode/MscThesis/amftrack/transfer/scripts/toward_drop.py DATA/PRINCE False 1660232941945525380 9\n"
     ]
    },
    {
     "name": "stderr",
     "output_type": "stream",
     "text": [
      "transferred:   0%|          | 0/1 [00:00<?, ?it/s]\n",
      "zipping:   0%|          | 0/3 [00:00<?, ?it/s]\u001b[A\n",
      "zipping:  33%|███▎      | 1/3 [00:30<01:01, 30.63s/it]\u001b[A\n",
      "                                                      \u001b[A\n",
      "Uploaded:   0%|          | 0/1173567331 [00:00<?, ?it/s]\u001b[A\n",
      "Uploaded:  23%|██▎       | 268435456/1173567331 [00:11<00:39, 22687614.37it/s]\u001b[A\n",
      "Uploaded:  46%|████▌     | 536870912/1173567331 [00:20<00:23, 27288277.15it/s]\u001b[A\n",
      "Uploaded:  69%|██████▊   | 805306368/1173567331 [00:33<00:15, 23146108.77it/s]\u001b[A\n",
      "Uploaded:  91%|█████████▏| 1073741824/1173567331 [00:48<00:04, 21363330.52it/s]\u001b[A\n",
      "Uploaded: 1342177280it [00:58, 22966864.45it/s]                                \u001b[A\n",
      "                                               \u001b[A\n",
      "Uploaded:   0%|          | 0/1239621328 [00:00<?, ?it/s]\u001b[A\n",
      "Uploaded:  22%|██▏       | 268435456/1239621328 [00:16<00:58, 16724838.53it/s]\u001b[A\n",
      "Uploaded:  43%|████▎     | 536870912/1239621328 [00:31<00:40, 17389904.69it/s]\u001b[A\n",
      "Uploaded:  43%|████▎     | 536870912/1239621328 [00:44<00:40, 17389904.69it/s]\u001b[A\n",
      "Uploaded:  65%|██████▍   | 805306368/1239621328 [00:45<00:24, 18037810.59it/s]\u001b[A\n",
      "Uploaded:  87%|████████▋ | 1073741824/1239621328 [00:58<00:08, 18884785.29it/s]\u001b[A\n",
      "Uploaded:  87%|████████▋ | 1073741824/1239621328 [01:14<00:08, 18884785.29it/s]\u001b[A\n",
      "Uploaded: 1342177280it [01:52, 9357345.14it/s]                                 \u001b[A\n",
      "transferred: 100%|██████████| 1/1 [03:30<00:00, 210.62s/it]\n"
     ]
    },
    {
     "name": "stdout",
     "output_type": "stream",
     "text": [
      "python3 /home/ipausers/bisot/pycode/MscThesis/amftrack/transfer/scripts/toward_drop.py DATA/PRINCE False 1660232941945525380 10\n"
     ]
    },
    {
     "name": "stderr",
     "output_type": "stream",
     "text": [
      "transferred:   0%|          | 0/1 [00:00<?, ?it/s]\n",
      "zipping:   0%|          | 0/3 [00:00<?, ?it/s]\u001b[A\n",
      "zipping:  33%|███▎      | 1/3 [00:30<01:01, 30.61s/it]\u001b[A\n",
      "                                                      \u001b[A\n",
      "Uploaded:   0%|          | 0/1170299098 [00:00<?, ?it/s]\u001b[A\n",
      "Uploaded:  23%|██▎       | 268435456/1170299098 [00:09<00:31, 28997850.95it/s]\u001b[A\n",
      "Uploaded:  46%|████▌     | 536870912/1170299098 [00:19<00:22, 27919227.85it/s]\u001b[A\n",
      "Uploaded:  46%|████▌     | 536870912/1170299098 [00:29<00:22, 27919227.85it/s]\u001b[A\n",
      "Uploaded:  69%|██████▉   | 805306368/1170299098 [00:34<00:16, 21903036.21it/s]\u001b[A\n",
      "Uploaded:  92%|█████████▏| 1073741824/1170299098 [00:45<00:04, 22733319.31it/s]\u001b[A\n",
      "Uploaded: 1342177280it [00:54, 25378930.07it/s]                                \u001b[A\n",
      "                                               \u001b[A\n",
      "Uploaded:   0%|          | 0/1238581140 [00:00<?, ?it/s]\u001b[A\n",
      "Uploaded:  22%|██▏       | 268435456/1238581140 [00:15<00:55, 17427704.46it/s]\u001b[A\n",
      "Uploaded:  43%|████▎     | 536870912/1238581140 [00:27<00:35, 19673346.64it/s]\u001b[A\n",
      "Uploaded:  43%|████▎     | 536870912/1238581140 [00:39<00:35, 19673346.64it/s]\u001b[A\n",
      "Uploaded:  65%|██████▌   | 805306368/1238581140 [00:40<00:21, 20018752.03it/s]\u001b[A\n",
      "Uploaded:  87%|████████▋ | 1073741824/1238581140 [00:53<00:08, 20502136.24it/s]\u001b[A\n",
      "Uploaded: 1342177280it [01:04, 21938344.10it/s]                                \u001b[A\n",
      "transferred: 100%|██████████| 1/1 [02:37<00:00, 157.72s/it]\n"
     ]
    },
    {
     "name": "stdout",
     "output_type": "stream",
     "text": [
      "python3 /home/ipausers/bisot/pycode/MscThesis/amftrack/transfer/scripts/toward_drop.py DATA/PRINCE False 1660232941945525380 11\n"
     ]
    },
    {
     "name": "stderr",
     "output_type": "stream",
     "text": [
      "transferred:   0%|          | 0/1 [00:00<?, ?it/s]\n",
      "zipping:   0%|          | 0/3 [00:00<?, ?it/s]\u001b[A\n",
      "zipping:  33%|███▎      | 1/3 [00:30<01:00, 30.32s/it]\u001b[A\n",
      "                                                      \u001b[A\n",
      "Uploaded:   0%|          | 0/1156443112 [00:00<?, ?it/s]\u001b[A\n",
      "Uploaded:  23%|██▎       | 268435456/1156443112 [00:13<00:43, 20576609.06it/s]\u001b[A\n",
      "Uploaded:  46%|████▋     | 536870912/1156443112 [00:23<00:26, 23196679.15it/s]\u001b[A\n",
      "Uploaded:  70%|██████▉   | 805306368/1156443112 [00:34<00:14, 24037354.53it/s]\u001b[A\n",
      "Uploaded:  93%|█████████▎| 1073741824/1156443112 [00:49<00:03, 21035188.06it/s]\u001b[A\n",
      "Uploaded: 1342177280it [00:54, 27012988.41it/s]                                \u001b[A\n",
      "                                               \u001b[A\n",
      "Uploaded:   0%|          | 0/1226852748 [00:00<?, ?it/s]\u001b[A\n",
      "Uploaded:  22%|██▏       | 268435456/1226852748 [00:15<00:55, 17421450.39it/s]\u001b[A\n",
      "Uploaded:  22%|██▏       | 268435456/1226852748 [00:28<00:55, 17421450.39it/s]\u001b[A\n",
      "Uploaded:  44%|████▍     | 536870912/1226852748 [00:30<00:39, 17553092.82it/s]\u001b[A\n",
      "Uploaded:  66%|██████▌   | 805306368/1226852748 [00:41<00:20, 20365774.84it/s]\u001b[A\n",
      "Uploaded:  88%|████████▊ | 1073741824/1226852748 [00:53<00:07, 20917890.91it/s]\u001b[A\n",
      "Uploaded: 1342177280it [01:04, 21862359.41it/s]                                \u001b[A\n",
      "transferred: 100%|██████████| 1/1 [02:38<00:00, 158.76s/it]\n"
     ]
    },
    {
     "name": "stdout",
     "output_type": "stream",
     "text": [
      "python3 /home/ipausers/bisot/pycode/MscThesis/amftrack/transfer/scripts/toward_drop.py DATA/PRINCE False 1660232941945525380 12\n"
     ]
    },
    {
     "name": "stderr",
     "output_type": "stream",
     "text": [
      "transferred:   0%|          | 0/1 [00:00<?, ?it/s]\n",
      "zipping:   0%|          | 0/3 [00:00<?, ?it/s]\u001b[A\n",
      "zipping:  33%|███▎      | 1/3 [00:29<00:58, 29.17s/it]\u001b[A\n",
      "                                                      \u001b[A\n",
      "Uploaded:   0%|          | 0/1137745605 [00:00<?, ?it/s]\u001b[A\n",
      "Uploaded:  24%|██▎       | 268435456/1137745605 [00:14<00:46, 18865178.84it/s]\u001b[A\n",
      "Uploaded:  47%|████▋     | 536870912/1137745605 [00:22<00:24, 24386024.72it/s]\u001b[A\n",
      "Uploaded:  71%|███████   | 805306368/1137745605 [00:33<00:13, 24540737.45it/s]\u001b[A\n",
      "Uploaded:  94%|█████████▍| 1073741824/1137745605 [00:46<00:02, 23323218.11it/s]\u001b[A\n",
      "Uploaded: 1342177280it [00:50, 30052026.03it/s]                                \u001b[A\n",
      "                                               \u001b[A\n",
      "Uploaded:   0%|          | 0/1236855268 [00:00<?, ?it/s]\u001b[A\n",
      "Uploaded:  22%|██▏       | 268435456/1236855268 [00:12<00:43, 22334915.71it/s]\u001b[A\n",
      "Uploaded:  43%|████▎     | 536870912/1236855268 [00:21<00:27, 25415466.61it/s]\u001b[A\n",
      "Uploaded:  65%|██████▌   | 805306368/1236855268 [00:34<00:18, 22883385.29it/s]\u001b[A\n",
      "Uploaded:  65%|██████▌   | 805306368/1236855268 [00:44<00:18, 22883385.29it/s]\u001b[A\n",
      "Uploaded:  87%|████████▋ | 1073741824/1236855268 [00:46<00:07, 23038484.12it/s]\u001b[A\n",
      "Uploaded: 1342177280it [00:54, 25820048.10it/s]                                \u001b[A\n",
      "transferred: 100%|██████████| 1/1 [02:22<00:00, 142.21s/it]\n"
     ]
    },
    {
     "name": "stdout",
     "output_type": "stream",
     "text": [
      "python3 /home/ipausers/bisot/pycode/MscThesis/amftrack/transfer/scripts/toward_drop.py DATA/PRINCE False 1660232941945525380 13\n"
     ]
    },
    {
     "name": "stderr",
     "output_type": "stream",
     "text": [
      "transferred:   0%|          | 0/1 [00:00<?, ?it/s]\n",
      "zipping:   0%|          | 0/3 [00:00<?, ?it/s]\u001b[A\n",
      "zipping:  33%|███▎      | 1/3 [00:30<01:00, 30.18s/it]\u001b[A\n",
      "                                                      \u001b[A\n",
      "Uploaded:   0%|          | 0/1176060967 [00:00<?, ?it/s]\u001b[A\n",
      "Uploaded:  23%|██▎       | 268435456/1176060967 [00:17<00:58, 15506032.53it/s]\u001b[A\n",
      "Uploaded:  46%|████▌     | 536870912/1176060967 [00:29<00:34, 18544275.61it/s]\u001b[A\n",
      "Uploaded:  46%|████▌     | 536870912/1176060967 [00:39<00:34, 18544275.61it/s]\u001b[A\n",
      "Uploaded:  68%|██████▊   | 805306368/1176060967 [00:41<00:18, 20008363.54it/s]\u001b[A\n",
      "Uploaded:  91%|█████████▏| 1073741824/1176060967 [00:56<00:05, 19556574.52it/s]\u001b[A\n",
      "Uploaded: 1342177280it [01:02, 24153476.42it/s]                                \u001b[A\n",
      "                                               \u001b[A\n",
      "Uploaded:   0%|          | 0/1324344928 [00:00<?, ?it/s]\u001b[A\n",
      "Uploaded:  20%|██        | 268435456/1324344928 [00:10<00:42, 24777005.43it/s]\u001b[A\n",
      "Uploaded:  41%|████      | 536870912/1324344928 [00:23<00:35, 22086847.01it/s]\u001b[A\n",
      "Uploaded:  61%|██████    | 805306368/1324344928 [00:37<00:25, 20624102.83it/s]\u001b[A\n",
      "Uploaded:  61%|██████    | 805306368/1324344928 [00:50<00:25, 20624102.83it/s]\u001b[A\n",
      "Uploaded:  81%|████████  | 1073741824/1324344928 [00:52<00:12, 19494326.26it/s]\u001b[A\n",
      "Uploaded: 1342177280it [01:07, 19018563.66it/s]                                \u001b[A\n",
      "transferred: 100%|██████████| 1/1 [02:49<00:00, 169.72s/it]\n"
     ]
    },
    {
     "name": "stdout",
     "output_type": "stream",
     "text": [
      "python3 /home/ipausers/bisot/pycode/MscThesis/amftrack/transfer/scripts/toward_drop.py DATA/PRINCE False 1660232941945525380 14\n"
     ]
    },
    {
     "name": "stderr",
     "output_type": "stream",
     "text": [
      "transferred:   0%|          | 0/1 [00:00<?, ?it/s]\n",
      "zipping:   0%|          | 0/3 [00:00<?, ?it/s]\u001b[A\n",
      "zipping:  33%|███▎      | 1/3 [00:31<01:03, 31.67s/it]\u001b[A\n",
      "                                                      \u001b[A\n",
      "Uploaded:   0%|          | 0/1198912808 [00:00<?, ?it/s]\u001b[A\n",
      "Uploaded:  22%|██▏       | 268435456/1198912808 [00:14<00:49, 18803948.95it/s]\u001b[A\n",
      "Uploaded:  45%|████▍     | 536870912/1198912808 [00:26<00:32, 20530295.46it/s]\u001b[A\n",
      "Uploaded:  67%|██████▋   | 805306368/1198912808 [00:33<00:14, 26403966.44it/s]\u001b[A\n",
      "Uploaded:  90%|████████▉ | 1073741824/1198912808 [00:42<00:04, 27092267.70it/s]\u001b[A\n",
      "Uploaded: 1342177280it [00:50, 29553046.99it/s]                                \u001b[A\n",
      "                                               \u001b[A\n",
      "Uploaded:   0%|          | 0/1239902963 [00:00<?, ?it/s]\u001b[A\n",
      "Uploaded:  22%|██▏       | 268435456/1239902963 [00:13<00:48, 19834843.98it/s]\u001b[A\n",
      "Uploaded:  43%|████▎     | 536870912/1239902963 [00:26<00:35, 19964570.80it/s]\u001b[A\n",
      "Uploaded:  43%|████▎     | 536870912/1239902963 [00:41<00:35, 19964570.80it/s]\u001b[A\n",
      "Uploaded:  65%|██████▍   | 805306368/1239902963 [00:43<00:23, 18258068.32it/s]\u001b[A\n",
      "Uploaded:  87%|████████▋ | 1073741824/1239902963 [00:57<00:09, 18364444.89it/s]\u001b[A\n",
      "Uploaded: 1342177280it [01:08, 19994680.99it/s]                                \u001b[A\n",
      "transferred: 100%|██████████| 1/1 [02:39<00:00, 159.67s/it]\n"
     ]
    },
    {
     "name": "stdout",
     "output_type": "stream",
     "text": [
      "python3 /home/ipausers/bisot/pycode/MscThesis/amftrack/transfer/scripts/toward_drop.py DATA/PRINCE False 1660232941945525380 15\n"
     ]
    },
    {
     "name": "stderr",
     "output_type": "stream",
     "text": [
      "transferred:   0%|          | 0/1 [00:00<?, ?it/s]\n",
      "zipping:   0%|          | 0/3 [00:00<?, ?it/s]\u001b[A\n",
      "zipping:  33%|███▎      | 1/3 [00:30<01:01, 30.72s/it]\u001b[A\n",
      "                                                      \u001b[A\n",
      "Uploaded:   0%|          | 0/1173802488 [00:00<?, ?it/s]\u001b[A\n",
      "Uploaded:  23%|██▎       | 268435456/1173802488 [00:13<00:46, 19401440.72it/s]\u001b[A\n",
      "Uploaded:  46%|████▌     | 536870912/1173802488 [00:27<00:32, 19663888.86it/s]\u001b[A\n",
      "Uploaded:  46%|████▌     | 536870912/1173802488 [00:39<00:32, 19663888.86it/s]\u001b[A\n",
      "Uploaded:  69%|██████▊   | 805306368/1173802488 [00:44<00:20, 17855100.78it/s]\u001b[A\n",
      "Uploaded:  91%|█████████▏| 1073741824/1173802488 [00:57<00:05, 18772074.39it/s]\u001b[A\n",
      "Uploaded: 1342177280it [01:07, 20673720.39it/s]                                \u001b[A\n",
      "                                               \u001b[A\n",
      "Uploaded:   0%|          | 0/1237745698 [00:00<?, ?it/s]\u001b[A\n",
      "Uploaded:  22%|██▏       | 268435456/1237745698 [00:11<00:40, 23676614.20it/s]\u001b[A\n",
      "Uploaded:  22%|██▏       | 268435456/1237745698 [00:24<00:40, 23676614.20it/s]\u001b[A\n",
      "Uploaded:  43%|████▎     | 536870912/1237745698 [00:26<00:35, 19786161.14it/s]\u001b[A\n",
      "Uploaded:  65%|██████▌   | 805306368/1237745698 [00:41<00:23, 18564399.81it/s]\u001b[A\n",
      "Uploaded:  65%|██████▌   | 805306368/1237745698 [00:54<00:23, 18564399.81it/s]\u001b[A\n",
      "Uploaded:  87%|████████▋ | 1073741824/1237745698 [00:58<00:09, 17568034.88it/s]\u001b[A\n",
      "Uploaded: 1342177280it [01:07, 20637643.06it/s]                                \u001b[A\n",
      "transferred: 100%|██████████| 1/1 [02:55<00:00, 175.62s/it]\n"
     ]
    },
    {
     "name": "stdout",
     "output_type": "stream",
     "text": [
      "python3 /home/ipausers/bisot/pycode/MscThesis/amftrack/transfer/scripts/toward_drop.py DATA/PRINCE False 1660232941945525380 16\n"
     ]
    },
    {
     "name": "stderr",
     "output_type": "stream",
     "text": [
      "transferred:   0%|          | 0/1 [00:00<?, ?it/s]\n",
      "zipping:   0%|          | 0/3 [00:00<?, ?it/s]\u001b[A\n",
      "zipping:  33%|███▎      | 1/3 [00:30<01:01, 30.54s/it]\u001b[A\n",
      "                                                      \u001b[A\n",
      "Uploaded:   0%|          | 0/1171489944 [00:00<?, ?it/s]\u001b[A\n",
      "Uploaded:  23%|██▎       | 268435456/1171489944 [00:20<01:09, 12930715.60it/s]\u001b[A\n",
      "Uploaded:  23%|██▎       | 268435456/1171489944 [00:39<01:09, 12930715.60it/s]\u001b[A\n",
      "Uploaded:  46%|████▌     | 536870912/1171489944 [01:53<02:29, 4244324.57it/s] \u001b[A\n",
      "Uploaded:  69%|██████▊   | 805306368/1171489944 [02:06<00:54, 6669037.77it/s]\u001b[A\n",
      "Uploaded:  69%|██████▊   | 805306368/1171489944 [02:19<00:54, 6669037.77it/s]\u001b[A\n",
      "Uploaded:  92%|█████████▏| 1073741824/1171489944 [02:19<00:10, 9067061.33it/s]\u001b[A\n",
      "Uploaded: 1342177280it [02:27, 12445988.61it/s]                               \u001b[A\n",
      "                                               \u001b[A\n",
      "Uploaded:   0%|          | 0/1327930264 [00:00<?, ?it/s]\u001b[A\n",
      "Uploaded:  20%|██        | 268435456/1327930264 [00:14<00:56, 18646774.48it/s]\u001b[A\n",
      "Uploaded:  20%|██        | 268435456/1327930264 [00:25<00:56, 18646774.48it/s]\u001b[A\n",
      "Uploaded:  40%|████      | 536870912/1327930264 [00:31<00:47, 16587119.47it/s]\u001b[A\n",
      "Uploaded:  40%|████      | 536870912/1327930264 [00:45<00:47, 16587119.47it/s]\u001b[A\n",
      "Uploaded:  61%|██████    | 805306368/1327930264 [00:48<00:31, 16482912.30it/s]\u001b[A\n",
      "Uploaded:  81%|████████  | 1073741824/1327930264 [01:01<00:14, 17807075.91it/s]\u001b[A\n",
      "Uploaded: 1342177280it [01:14, 18796015.11it/s]                                \u001b[A\n",
      "transferred: 100%|██████████| 1/1 [04:21<00:00, 261.91s/it]\n"
     ]
    },
    {
     "name": "stdout",
     "output_type": "stream",
     "text": [
      "python3 /home/ipausers/bisot/pycode/MscThesis/amftrack/transfer/scripts/toward_drop.py DATA/PRINCE False 1660232941945525380 17\n"
     ]
    },
    {
     "name": "stderr",
     "output_type": "stream",
     "text": [
      "transferred:   0%|          | 0/1 [00:00<?, ?it/s]\n",
      "zipping:   0%|          | 0/3 [00:00<?, ?it/s]\u001b[A\n",
      "zipping:  33%|███▎      | 1/3 [00:30<01:00, 30.43s/it]\u001b[A\n",
      "                                                      \u001b[A\n",
      "Uploaded:   0%|          | 0/1177634930 [00:00<?, ?it/s]\u001b[A\n",
      "Uploaded:  23%|██▎       | 268435456/1177634930 [00:16<00:54, 16601109.90it/s]\u001b[A\n",
      "Uploaded:  23%|██▎       | 268435456/1177634930 [00:29<00:54, 16601109.90it/s]\u001b[A\n",
      "Uploaded:  46%|████▌     | 536870912/1177634930 [00:37<00:45, 14048827.69it/s]\u001b[A\n",
      "Uploaded:  46%|████▌     | 536870912/1177634930 [00:49<00:45, 14048827.69it/s]\u001b[A\n",
      "Uploaded:  68%|██████▊   | 805306368/1177634930 [00:51<00:23, 15897169.53it/s]\u001b[A\n",
      "Uploaded:  91%|█████████ | 1073741824/1177634930 [01:04<00:05, 17451874.69it/s]\u001b[A\n",
      "Uploaded: 1342177280it [01:10, 22205278.51it/s]                                \u001b[A\n",
      "                                               \u001b[A\n",
      "Uploaded:   0%|          | 0/1248636159 [00:00<?, ?it/s]\u001b[A\n",
      "Uploaded:  21%|██▏       | 268435456/1248636159 [00:11<00:41, 23790364.90it/s]\u001b[A\n",
      "Uploaded:  21%|██▏       | 268435456/1248636159 [00:22<00:41, 23790364.90it/s]\u001b[A\n",
      "Uploaded:  43%|████▎     | 536870912/1248636159 [00:24<00:33, 21284887.57it/s]\u001b[A\n",
      "Uploaded:  64%|██████▍   | 805306368/1248636159 [00:41<00:23, 18762861.81it/s]\u001b[A\n",
      "Uploaded:  64%|██████▍   | 805306368/1248636159 [00:52<00:23, 18762861.81it/s]\u001b[A\n",
      "Uploaded:  86%|████████▌ | 1073741824/1248636159 [00:56<00:09, 18400829.79it/s]\u001b[A\n",
      "Uploaded: 1342177280it [01:07, 20280920.15it/s]                                \u001b[A\n",
      "transferred: 100%|██████████| 1/1 [02:56<00:00, 176.87s/it]\n"
     ]
    },
    {
     "name": "stdout",
     "output_type": "stream",
     "text": [
      "python3 /home/ipausers/bisot/pycode/MscThesis/amftrack/transfer/scripts/toward_drop.py DATA/PRINCE False 1660232941945525380 18\n"
     ]
    },
    {
     "name": "stderr",
     "output_type": "stream",
     "text": [
      "transferred:   0%|          | 0/1 [00:00<?, ?it/s]\n",
      "zipping:   0%|          | 0/3 [00:00<?, ?it/s]\u001b[A\n",
      "zipping:  33%|███▎      | 1/3 [00:31<01:02, 31.09s/it]\u001b[A\n",
      "                                                      \u001b[A\n",
      "Uploaded:   0%|          | 0/1180425879 [00:00<?, ?it/s]\u001b[A\n",
      "Uploaded:  23%|██▎       | 268435456/1180425879 [00:11<00:38, 23645231.59it/s]\u001b[A\n",
      "Uploaded:  45%|████▌     | 536870912/1180425879 [00:24<00:29, 21982538.82it/s]\u001b[A\n",
      "Uploaded:  68%|██████▊   | 805306368/1180425879 [00:33<00:14, 25126462.13it/s]\u001b[A\n",
      "Uploaded:  91%|█████████ | 1073741824/1180425879 [00:41<00:03, 26883389.02it/s]\u001b[A\n",
      "Uploaded: 1342177280it [00:48, 30551021.45it/s]                                \u001b[A\n",
      "                                               \u001b[A\n",
      "Uploaded:   0%|          | 0/1233844698 [00:00<?, ?it/s]\u001b[A\n",
      "Uploaded:  22%|██▏       | 268435456/1233844698 [00:13<00:47, 20427039.77it/s]\u001b[A\n",
      "Uploaded:  22%|██▏       | 268435456/1233844698 [00:23<00:47, 20427039.77it/s]\u001b[A\n",
      "Uploaded:  44%|████▎     | 536870912/1233844698 [00:25<00:32, 21159469.39it/s]\u001b[A\n",
      "Uploaded:  65%|██████▌   | 805306368/1233844698 [00:37<00:19, 21989604.54it/s]\u001b[A\n",
      "Uploaded:  87%|████████▋ | 1073741824/1233844698 [00:47<00:06, 23455905.69it/s]\u001b[A\n",
      "Uploaded: 1342177280it [00:58, 24103487.07it/s]                                \u001b[A\n",
      "transferred: 100%|██████████| 1/1 [02:26<00:00, 146.78s/it]\n"
     ]
    },
    {
     "name": "stdout",
     "output_type": "stream",
     "text": [
      "python3 /home/ipausers/bisot/pycode/MscThesis/amftrack/transfer/scripts/toward_drop.py DATA/PRINCE False 1660232941945525380 19\n"
     ]
    },
    {
     "name": "stderr",
     "output_type": "stream",
     "text": [
      "transferred:   0%|          | 0/1 [00:00<?, ?it/s]\n",
      "zipping:   0%|          | 0/3 [00:00<?, ?it/s]\u001b[A\n",
      "zipping:  33%|███▎      | 1/3 [00:30<01:00, 30.23s/it]\u001b[A\n",
      "                                                      \u001b[A\n",
      "Uploaded:   0%|          | 0/1168287352 [00:00<?, ?it/s]\u001b[A\n",
      "Uploaded:  23%|██▎       | 268435456/1168287352 [00:17<00:58, 15483499.82it/s]\u001b[A\n",
      "Uploaded:  23%|██▎       | 268435456/1168287352 [00:29<00:58, 15483499.82it/s]\u001b[A\n",
      "Uploaded:  46%|████▌     | 536870912/1168287352 [00:30<00:34, 18248076.00it/s]\u001b[A\n",
      "Uploaded:  69%|██████▉   | 805306368/1168287352 [00:39<00:16, 22346239.68it/s]\u001b[A\n",
      "Uploaded:  92%|█████████▏| 1073741824/1168287352 [00:49<00:04, 23536079.95it/s]\u001b[A\n",
      "Uploaded: 1342177280it [00:57, 26413674.86it/s]                                \u001b[A\n",
      "                                               \u001b[A\n",
      "Uploaded:   0%|          | 0/1237765834 [00:00<?, ?it/s]\u001b[A\n",
      "Uploaded:  22%|██▏       | 268435456/1237765834 [00:16<00:58, 16677295.66it/s]\u001b[A\n",
      "Uploaded:  22%|██▏       | 268435456/1237765834 [00:26<00:58, 16677295.66it/s]\u001b[A\n",
      "Uploaded:  43%|████▎     | 536870912/1237765834 [00:32<00:41, 16789944.00it/s]\u001b[A\n",
      "Uploaded:  43%|████▎     | 536870912/1237765834 [00:46<00:41, 16789944.00it/s]\u001b[A\n",
      "Uploaded:  65%|██████▌   | 805306368/1237765834 [00:49<00:26, 16259084.30it/s]\u001b[A\n",
      "Uploaded:  87%|████████▋ | 1073741824/1237765834 [01:05<00:09, 16464864.93it/s]\u001b[A\n",
      "Uploaded: 1342177280it [01:14, 19212916.02it/s]                                \u001b[A\n",
      "transferred: 100%|██████████| 1/1 [02:51<00:00, 171.16s/it]\n"
     ]
    },
    {
     "name": "stdout",
     "output_type": "stream",
     "text": [
      "python3 /home/ipausers/bisot/pycode/MscThesis/amftrack/transfer/scripts/toward_drop.py DATA/PRINCE False 1660232941945525380 20\n"
     ]
    },
    {
     "name": "stderr",
     "output_type": "stream",
     "text": [
      "transferred:   0%|          | 0/1 [00:00<?, ?it/s]\n",
      "zipping:   0%|          | 0/3 [00:00<?, ?it/s]\u001b[A\n",
      "zipping:  33%|███▎      | 1/3 [00:29<00:59, 29.52s/it]\u001b[A\n",
      "                                                      \u001b[A\n",
      "Uploaded:   0%|          | 0/1165631176 [00:00<?, ?it/s]\u001b[A\n",
      "Uploaded:  23%|██▎       | 268435456/1165631176 [00:12<00:40, 21972618.84it/s]\u001b[A\n",
      "Uploaded:  46%|████▌     | 536870912/1165631176 [00:29<00:36, 17369319.93it/s]\u001b[A\n",
      "Uploaded:  46%|████▌     | 536870912/1165631176 [00:40<00:36, 17369319.93it/s]\u001b[A\n",
      "Uploaded:  69%|██████▉   | 805306368/1165631176 [00:44<00:19, 18085959.11it/s]\u001b[A\n",
      "Uploaded:  92%|█████████▏| 1073741824/1165631176 [00:57<00:04, 18585153.00it/s]\u001b[A\n",
      "Uploaded: 1342177280it [01:03, 24213182.00it/s]                                \u001b[A\n",
      "                                               \u001b[A\n",
      "Uploaded:   0%|          | 0/1230213288 [00:00<?, ?it/s]\u001b[A\n",
      "Uploaded:  22%|██▏       | 268435456/1230213288 [00:12<00:43, 21910606.76it/s]\u001b[A\n",
      "Uploaded:  44%|████▎     | 536870912/1230213288 [00:26<00:34, 20386841.46it/s]\u001b[A\n",
      "Uploaded:  65%|██████▌   | 805306368/1230213288 [00:39<00:20, 20449988.54it/s]\u001b[A\n",
      "Uploaded:  65%|██████▌   | 805306368/1230213288 [00:51<00:20, 20449988.54it/s]\u001b[A\n",
      "Uploaded:  87%|████████▋ | 1073741824/1230213288 [00:55<00:08, 18769408.46it/s]\u001b[A\n",
      "Uploaded: 1342177280it [01:04, 21636921.14it/s]                                \u001b[A\n",
      "transferred: 100%|██████████| 1/1 [02:44<00:00, 164.91s/it]\n"
     ]
    },
    {
     "name": "stdout",
     "output_type": "stream",
     "text": [
      "python3 /home/ipausers/bisot/pycode/MscThesis/amftrack/transfer/scripts/toward_drop.py DATA/PRINCE False 1660232941945525380 21\n"
     ]
    },
    {
     "name": "stderr",
     "output_type": "stream",
     "text": [
      "transferred:   0%|          | 0/1 [00:00<?, ?it/s]\n",
      "zipping:   0%|          | 0/3 [00:00<?, ?it/s]\u001b[A\n",
      "zipping:  33%|███▎      | 1/3 [00:29<00:59, 29.96s/it]\u001b[A\n",
      "                                                      \u001b[A\n",
      "Uploaded:   0%|          | 0/1163547789 [00:00<?, ?it/s]\u001b[A\n",
      "Uploaded:  23%|██▎       | 268435456/1163547789 [00:13<00:44, 20004133.49it/s]\u001b[A\n",
      "Uploaded:  46%|████▌     | 536870912/1163547789 [00:25<00:28, 21694101.07it/s]\u001b[A\n",
      "Uploaded:  69%|██████▉   | 805306368/1163547789 [00:37<00:16, 21780364.45it/s]\u001b[A\n",
      "Uploaded:  92%|█████████▏| 1073741824/1163547789 [00:48<00:04, 22321658.34it/s]\u001b[A\n",
      "Uploaded: 1342177280it [00:57, 24510699.08it/s]                                \u001b[A\n",
      "                                               \u001b[A\n",
      "Uploaded:   0%|          | 0/1228695411 [00:00<?, ?it/s]\u001b[A\n",
      "Uploaded:  22%|██▏       | 268435456/1228695411 [00:14<00:52, 18153650.37it/s]\u001b[A\n",
      "Uploaded:  44%|████▎     | 536870912/1228695411 [00:29<00:37, 18453413.23it/s]\u001b[A\n",
      "Uploaded:  44%|████▎     | 536870912/1228695411 [00:43<00:37, 18453413.23it/s]\u001b[A\n",
      "Uploaded:  66%|██████▌   | 805306368/1228695411 [00:44<00:23, 17947870.50it/s]\u001b[A\n",
      "Uploaded:  87%|████████▋ | 1073741824/1228695411 [00:57<00:08, 19237195.06it/s]\u001b[A\n",
      "Uploaded: 1342177280it [01:04, 22799832.06it/s]                                \u001b[A\n",
      "transferred: 100%|██████████| 1/1 [02:43<00:00, 163.91s/it]\n"
     ]
    },
    {
     "name": "stdout",
     "output_type": "stream",
     "text": [
      "python3 /home/ipausers/bisot/pycode/MscThesis/amftrack/transfer/scripts/toward_drop.py DATA/PRINCE False 1660232941945525380 22\n"
     ]
    },
    {
     "name": "stderr",
     "output_type": "stream",
     "text": [
      "transferred:   0%|          | 0/1 [00:00<?, ?it/s]\n",
      "zipping:   0%|          | 0/3 [00:00<?, ?it/s]\u001b[A\n",
      "zipping:  33%|███▎      | 1/3 [00:29<00:59, 29.90s/it]\u001b[A\n",
      "                                                      \u001b[A\n",
      "Uploaded:   0%|          | 0/1173466881 [00:00<?, ?it/s]\u001b[A\n",
      "Uploaded:  23%|██▎       | 268435456/1173466881 [00:15<00:51, 17612631.28it/s]\u001b[A\n",
      "Uploaded:  46%|████▌     | 536870912/1173466881 [00:22<00:24, 25553169.69it/s]\u001b[A\n",
      "Uploaded:  46%|████▌     | 536870912/1173466881 [00:40<00:24, 25553169.69it/s]\u001b[A\n",
      "Uploaded:  69%|██████▊   | 805306368/1173466881 [00:40<00:19, 19122616.70it/s]\u001b[A\n",
      "Uploaded:  92%|█████████▏| 1073741824/1173466881 [00:57<00:05, 17698300.82it/s]\u001b[A\n",
      "Uploaded: 1342177280it [01:05, 21543148.32it/s]                                \u001b[A\n",
      "                                               \u001b[A\n",
      "Uploaded:   0%|          | 0/1239742757 [00:00<?, ?it/s]\u001b[A\n",
      "Uploaded:  22%|██▏       | 268435456/1239742757 [00:10<00:38, 25003025.88it/s]\u001b[A\n",
      "Uploaded:  22%|██▏       | 268435456/1239742757 [00:28<00:38, 25003025.88it/s]\u001b[A\n",
      "Uploaded:  43%|████▎     | 536870912/1239742757 [02:35<03:55, 2990428.84it/s] \u001b[A\n",
      "Uploaded:  43%|████▎     | 536870912/1239742757 [02:48<03:55, 2990428.84it/s]\u001b[A\n",
      "Uploaded:  65%|██████▍   | 805306368/1239742757 [02:54<01:32, 4700316.51it/s]\u001b[A\n",
      "Uploaded:  87%|████████▋ | 1073741824/1239742757 [03:04<00:23, 6944387.33it/s]\u001b[A\n",
      "Uploaded: 1342177280it [03:15, 9370535.43it/s]                                \u001b[A\n",
      "transferred: 100%|██████████| 1/1 [04:59<00:00, 299.13s/it]\n"
     ]
    },
    {
     "name": "stdout",
     "output_type": "stream",
     "text": [
      "python3 /home/ipausers/bisot/pycode/MscThesis/amftrack/transfer/scripts/toward_drop.py DATA/PRINCE False 1660232941945525380 23\n"
     ]
    },
    {
     "name": "stderr",
     "output_type": "stream",
     "text": [
      "transferred:   0%|          | 0/1 [00:00<?, ?it/s]\n",
      "zipping:   0%|          | 0/3 [00:00<?, ?it/s]\u001b[A\n",
      "zipping:  33%|███▎      | 1/3 [00:29<00:59, 29.78s/it]\u001b[A\n",
      "                                                      \u001b[A\n",
      "Uploaded:   0%|          | 0/1170050805 [00:00<?, ?it/s]\u001b[A\n",
      "Uploaded:  23%|██▎       | 268435456/1170050805 [00:15<00:52, 17061962.11it/s]\u001b[A\n",
      "Uploaded:  46%|████▌     | 536870912/1170050805 [00:30<00:35, 17972986.62it/s]\u001b[A\n",
      "Uploaded:  46%|████▌     | 536870912/1170050805 [00:40<00:35, 17972986.62it/s]\u001b[A\n",
      "Uploaded:  69%|██████▉   | 805306368/1170050805 [00:41<00:17, 20354300.19it/s]\u001b[A\n",
      "Uploaded:  92%|█████████▏| 1073741824/1170050805 [00:56<00:05, 19110870.76it/s]\u001b[A\n",
      "Uploaded: 1342177280it [01:05, 21714523.01it/s]                                \u001b[A\n",
      "                                               \u001b[A\n",
      "Uploaded:   0%|          | 0/1238407094 [00:00<?, ?it/s]\u001b[A\n",
      "Uploaded:  22%|██▏       | 268435456/1238407094 [00:16<01:01, 15790970.49it/s]\u001b[A\n",
      "Uploaded:  22%|██▏       | 268435456/1238407094 [00:28<01:01, 15790970.49it/s]\u001b[A\n",
      "Uploaded:  43%|████▎     | 536870912/1238407094 [00:32<00:41, 16827649.70it/s]\u001b[A\n",
      "Uploaded:  65%|██████▌   | 805306368/1238407094 [00:45<00:23, 18049053.85it/s]\u001b[A\n",
      "Uploaded:  65%|██████▌   | 805306368/1238407094 [00:58<00:23, 18049053.85it/s]\u001b[A\n",
      "Uploaded:  87%|████████▋ | 1073741824/1238407094 [00:59<00:08, 18645133.37it/s]\u001b[A\n",
      "Uploaded: 1342177280it [01:08, 21446820.59it/s]                                \u001b[A\n",
      "transferred: 100%|██████████| 1/1 [02:53<00:00, 173.24s/it]\n"
     ]
    },
    {
     "name": "stdout",
     "output_type": "stream",
     "text": [
      "python3 /home/ipausers/bisot/pycode/MscThesis/amftrack/transfer/scripts/toward_drop.py DATA/PRINCE False 1660232941945525380 24\n"
     ]
    },
    {
     "name": "stderr",
     "output_type": "stream",
     "text": [
      "transferred:   0%|          | 0/1 [00:00<?, ?it/s]\n",
      "zipping:   0%|          | 0/3 [00:00<?, ?it/s]\u001b[A\n",
      "zipping:  33%|███▎      | 1/3 [00:30<01:00, 30.21s/it]\u001b[A\n",
      "                                                      \u001b[A\n",
      "Uploaded:   0%|          | 0/1156379591 [00:00<?, ?it/s]\u001b[A\n",
      "Uploaded:  23%|██▎       | 268435456/1156379591 [00:12<00:41, 21516341.03it/s]\u001b[A\n",
      "Uploaded:  46%|████▋     | 536870912/1156379591 [00:26<00:30, 20474669.66it/s]\u001b[A\n",
      "Uploaded:  70%|██████▉   | 805306368/1156379591 [00:38<00:16, 21303211.50it/s]\u001b[A\n",
      "Uploaded:  93%|█████████▎| 1073741824/1156379591 [00:48<00:03, 22675393.85it/s]\u001b[A\n",
      "Uploaded: 1342177280it [00:55, 26749828.09it/s]                                \u001b[A\n",
      "                                               \u001b[A\n",
      "Uploaded:   0%|          | 0/1227836200 [00:00<?, ?it/s]\u001b[A\n",
      "Uploaded:  22%|██▏       | 268435456/1227836200 [00:15<00:54, 17582492.60it/s]\u001b[A\n",
      "Uploaded:  22%|██▏       | 268435456/1227836200 [00:27<00:54, 17582492.60it/s]\u001b[A\n",
      "Uploaded:  44%|████▎     | 536870912/1227836200 [00:30<00:39, 17566426.24it/s]\u001b[A\n",
      "Uploaded:  66%|██████▌   | 805306368/1227836200 [00:46<00:24, 17473165.72it/s]\u001b[A\n",
      "Uploaded:  87%|████████▋ | 1073741824/1227836200 [00:57<00:07, 19677650.09it/s]\u001b[A\n",
      "Uploaded:  87%|████████▋ | 1073741824/1227836200 [01:07<00:07, 19677650.09it/s]\u001b[A\n",
      "Uploaded: 1342177280it [01:07, 21385193.31it/s]                                \u001b[A\n",
      "transferred: 100%|██████████| 1/1 [02:42<00:00, 162.65s/it]\n"
     ]
    },
    {
     "name": "stdout",
     "output_type": "stream",
     "text": [
      "python3 /home/ipausers/bisot/pycode/MscThesis/amftrack/transfer/scripts/toward_drop.py DATA/PRINCE False 1660232941945525380 25\n"
     ]
    },
    {
     "name": "stderr",
     "output_type": "stream",
     "text": [
      "transferred:   0%|          | 0/1 [00:00<?, ?it/s]\n",
      "zipping:   0%|          | 0/3 [00:00<?, ?it/s]\u001b[A\n",
      "zipping:  33%|███▎      | 1/3 [00:28<00:57, 28.70s/it]\u001b[A\n",
      "                                                      \u001b[A\n",
      "Uploaded:   0%|          | 0/1137633578 [00:00<?, ?it/s]\u001b[A\n",
      "Uploaded:  24%|██▎       | 268435456/1137633578 [00:12<00:41, 21033445.36it/s]\u001b[A\n",
      "Uploaded:  47%|████▋     | 536870912/1137633578 [00:29<00:33, 17679756.36it/s]\u001b[A\n",
      "Uploaded:  47%|████▋     | 536870912/1137633578 [00:41<00:33, 17679756.36it/s]\u001b[A\n",
      "Uploaded:  71%|███████   | 805306368/1137633578 [00:43<00:18, 18343885.68it/s]\u001b[A\n",
      "Uploaded:  94%|█████████▍| 1073741824/1137633578 [00:51<00:02, 22706357.52it/s]\u001b[A\n",
      "Uploaded: 1342177280it [01:00, 24530763.97it/s]                                \u001b[A\n",
      "                                               \u001b[A\n",
      "Uploaded:   0%|          | 0/1235683688 [00:00<?, ?it/s]\u001b[A\n",
      "Uploaded:  22%|██▏       | 268435456/1235683688 [00:16<00:59, 16371630.35it/s]\u001b[A\n",
      "Uploaded:  43%|████▎     | 536870912/1235683688 [00:28<00:36, 19396641.21it/s]\u001b[A\n",
      "Uploaded:  65%|██████▌   | 805306368/1235683688 [00:38<00:19, 21755292.24it/s]\u001b[A\n",
      "Uploaded:  87%|████████▋ | 1073741824/1235683688 [00:50<00:07, 22698138.93it/s]\u001b[A\n",
      "Uploaded: 1342177280it [01:02, 22036971.17it/s]                                \u001b[A\n",
      "transferred: 100%|██████████| 1/1 [02:40<00:00, 160.91s/it]\n"
     ]
    },
    {
     "name": "stdout",
     "output_type": "stream",
     "text": [
      "python3 /home/ipausers/bisot/pycode/MscThesis/amftrack/transfer/scripts/toward_drop.py DATA/PRINCE False 1660232941945525380 26\n"
     ]
    },
    {
     "name": "stderr",
     "output_type": "stream",
     "text": [
      "transferred:   0%|          | 0/1 [00:00<?, ?it/s]\n",
      "zipping:   0%|          | 0/3 [00:00<?, ?it/s]\u001b[A\n",
      "zipping:  33%|███▎      | 1/3 [00:30<01:00, 30.29s/it]\u001b[A\n",
      "                                                      \u001b[A\n",
      "Uploaded:   0%|          | 0/1176163657 [00:00<?, ?it/s]\u001b[A\n",
      "Uploaded:  23%|██▎       | 268435456/1176163657 [00:12<00:40, 22231635.55it/s]\u001b[A\n",
      "Uploaded:  46%|████▌     | 536870912/1176163657 [00:24<00:29, 21619286.65it/s]\u001b[A\n",
      "Uploaded:  68%|██████▊   | 805306368/1176163657 [00:36<00:16, 22275014.80it/s]\u001b[A\n",
      "Uploaded:  91%|█████████▏| 1073741824/1176163657 [00:49<00:04, 21708600.89it/s]\u001b[A\n",
      "Uploaded: 1342177280it [00:57, 24298572.91it/s]                                \u001b[A\n",
      "                                               \u001b[A\n",
      "Uploaded:   0%|          | 0/1226945932 [00:00<?, ?it/s]\u001b[A\n",
      "Uploaded:  22%|██▏       | 268435456/1226945932 [00:10<00:37, 25296858.56it/s]\u001b[A\n",
      "Uploaded:  22%|██▏       | 268435456/1226945932 [00:25<00:37, 25296858.56it/s]\u001b[A\n",
      "Uploaded:  44%|████▍     | 536870912/1226945932 [00:32<00:44, 15380636.76it/s]\u001b[A\n",
      "Uploaded:  44%|████▍     | 536870912/1226945932 [00:45<00:44, 15380636.76it/s]\u001b[A\n",
      "Uploaded:  66%|██████▌   | 805306368/1226945932 [00:46<00:24, 16884975.70it/s]\u001b[A\n",
      "Uploaded:  88%|████████▊ | 1073741824/1226945932 [00:56<00:07, 20106285.45it/s]\u001b[A\n",
      "Uploaded: 1342177280it [01:04, 23345271.10it/s]                                \u001b[A\n",
      "transferred: 100%|██████████| 1/1 [02:42<00:00, 162.19s/it]\n"
     ]
    },
    {
     "name": "stdout",
     "output_type": "stream",
     "text": [
      "python3 /home/ipausers/bisot/pycode/MscThesis/amftrack/transfer/scripts/toward_drop.py DATA/PRINCE False 1660232941945525380 27\n"
     ]
    },
    {
     "name": "stderr",
     "output_type": "stream",
     "text": [
      "transferred:   0%|          | 0/1 [00:00<?, ?it/s]\n",
      "zipping:   0%|          | 0/3 [00:00<?, ?it/s]\u001b[A\n",
      "zipping:  33%|███▎      | 1/3 [00:32<01:04, 32.11s/it]\u001b[A\n",
      "                                                      \u001b[A\n",
      "Uploaded:   0%|          | 0/1198520768 [00:00<?, ?it/s]\u001b[A\n",
      "Uploaded:  22%|██▏       | 268435456/1198520768 [00:13<00:45, 20323250.12it/s]\u001b[A\n",
      "Uploaded:  45%|████▍     | 536870912/1198520768 [00:23<00:28, 23460236.21it/s]\u001b[A\n",
      "Uploaded:  45%|████▍     | 536870912/1198520768 [00:37<00:28, 23460236.21it/s]\u001b[A\n",
      "Uploaded:  67%|██████▋   | 805306368/1198520768 [00:43<00:22, 17585366.47it/s]\u001b[A\n",
      "Uploaded:  90%|████████▉ | 1073741824/1198520768 [00:55<00:06, 19289978.73it/s]\u001b[A\n",
      "Uploaded:  90%|████████▉ | 1073741824/1198520768 [01:07<00:06, 19289978.73it/s]\u001b[A\n",
      "Uploaded: 1342177280it [01:09, 19259041.41it/s]                                \u001b[A\n",
      "                                               \u001b[A\n",
      "Uploaded:   0%|          | 0/1241137423 [00:00<?, ?it/s]\u001b[A\n",
      "Uploaded:  22%|██▏       | 268435456/1241137423 [00:13<00:49, 19474890.00it/s]\u001b[A\n",
      "Uploaded:  43%|████▎     | 536870912/1241137423 [00:28<00:37, 18993712.47it/s]\u001b[A\n",
      "Uploaded:  43%|████▎     | 536870912/1241137423 [00:42<00:37, 18993712.47it/s]\u001b[A\n",
      "Uploaded:  65%|██████▍   | 805306368/1241137423 [00:42<00:22, 19073965.44it/s]\u001b[A\n",
      "Uploaded:  87%|████████▋ | 1073741824/1241137423 [01:01<00:10, 16727898.00it/s]\u001b[A\n",
      "Uploaded: 1342177280it [01:12, 18935569.25it/s]                                \u001b[A\n",
      "transferred: 100%|██████████| 1/1 [03:02<00:00, 182.67s/it]\n"
     ]
    },
    {
     "name": "stdout",
     "output_type": "stream",
     "text": [
      "python3 /home/ipausers/bisot/pycode/MscThesis/amftrack/transfer/scripts/toward_drop.py DATA/PRINCE False 1660232941945525380 28\n"
     ]
    },
    {
     "name": "stderr",
     "output_type": "stream",
     "text": [
      "transferred:   0%|          | 0/1 [00:00<?, ?it/s]\n",
      "zipping:   0%|          | 0/3 [00:00<?, ?it/s]\u001b[A\n",
      "zipping:  33%|███▎      | 1/3 [00:31<01:02, 31.21s/it]\u001b[A\n",
      "                                                      \u001b[A\n",
      "Uploaded:   0%|          | 0/1173818427 [00:00<?, ?it/s]\u001b[A\n",
      "Uploaded:  23%|██▎       | 268435456/1173818427 [00:09<00:31, 28780281.08it/s]\u001b[A\n",
      "Uploaded:  46%|████▌     | 536870912/1173818427 [00:23<00:29, 21608027.07it/s]\u001b[A\n",
      "Uploaded:  69%|██████▊   | 805306368/1173818427 [00:36<00:17, 21674448.76it/s]\u001b[A\n",
      "Uploaded:  91%|█████████▏| 1073741824/1173818427 [00:48<00:04, 21666924.81it/s]\u001b[A\n",
      "Uploaded: 1342177280it [00:54, 27200211.83it/s]                                \u001b[A\n",
      "                                               \u001b[A\n",
      "Uploaded:   0%|          | 0/1240646786 [00:00<?, ?it/s]\u001b[A\n",
      "Uploaded:  22%|██▏       | 268435456/1240646786 [00:13<00:47, 20645841.87it/s]\u001b[A\n",
      "Uploaded:  43%|████▎     | 536870912/1240646786 [00:23<00:29, 23495625.03it/s]\u001b[A\n",
      "Uploaded:  43%|████▎     | 536870912/1240646786 [00:38<00:29, 23495625.03it/s]\u001b[A\n",
      "Uploaded:  65%|██████▍   | 805306368/1240646786 [01:58<01:20, 5398656.57it/s] \u001b[A\n",
      "Uploaded:  65%|██████▍   | 805306368/1240646786 [02:08<01:20, 5398656.57it/s]\u001b[A\n",
      "Uploaded:  87%|████████▋ | 1073741824/1240646786 [02:13<00:22, 7475872.54it/s]\u001b[A\n",
      "Uploaded: 1342177280it [02:24, 9982526.46it/s]                                \u001b[A\n",
      "transferred: 100%|██████████| 1/1 [03:57<00:00, 237.95s/it]\n"
     ]
    },
    {
     "name": "stdout",
     "output_type": "stream",
     "text": [
      "python3 /home/ipausers/bisot/pycode/MscThesis/amftrack/transfer/scripts/toward_drop.py DATA/PRINCE False 1660232941945525380 29\n"
     ]
    },
    {
     "name": "stderr",
     "output_type": "stream",
     "text": [
      "transferred:   0%|          | 0/1 [00:00<?, ?it/s]\n",
      "zipping:   0%|          | 0/3 [00:00<?, ?it/s]\u001b[A\n",
      "zipping:  33%|███▎      | 1/3 [00:30<01:01, 30.74s/it]\u001b[A\n",
      "                                                      \u001b[A\n",
      "Uploaded:   0%|          | 0/1171319681 [00:00<?, ?it/s]\u001b[A\n",
      "Uploaded:  23%|██▎       | 268435456/1171319681 [00:10<00:36, 24480297.67it/s]\u001b[A\n",
      "Uploaded:  46%|████▌     | 536870912/1171319681 [00:24<00:29, 21324298.57it/s]\u001b[A\n",
      "Uploaded:  69%|██████▉   | 805306368/1171319681 [00:37<00:17, 21054571.36it/s]\u001b[A\n",
      "Uploaded:  92%|█████████▏| 1073741824/1171319681 [00:48<00:04, 22474785.84it/s]\u001b[A\n",
      "Uploaded: 1342177280it [00:55, 26566605.48it/s]                                \u001b[A\n",
      "                                               \u001b[A\n",
      "Uploaded:   0%|          | 0/1331904008 [00:00<?, ?it/s]\u001b[A\n",
      "Uploaded:  20%|██        | 268435456/1331904008 [00:11<00:45, 23390823.92it/s]\u001b[A\n",
      "Uploaded:  40%|████      | 536870912/1331904008 [00:24<00:36, 21802225.63it/s]\u001b[A\n",
      "Uploaded:  40%|████      | 536870912/1331904008 [00:37<00:36, 21802225.63it/s]\u001b[A\n",
      "Uploaded:  60%|██████    | 805306368/1331904008 [00:37<00:25, 20890489.04it/s]\u001b[A\n",
      "Uploaded:  81%|████████  | 1073741824/1331904008 [00:54<00:13, 18879607.32it/s]\u001b[A\n",
      "Uploaded:  81%|████████  | 1073741824/1331904008 [01:07<00:13, 18879607.32it/s]\u001b[A\n",
      "Uploaded: 1342177280it [01:09, 18244284.41it/s]                                \u001b[A\n",
      "transferred: 100%|██████████| 1/1 [02:44<00:00, 164.72s/it]\n"
     ]
    },
    {
     "name": "stdout",
     "output_type": "stream",
     "text": [
      "python3 /home/ipausers/bisot/pycode/MscThesis/amftrack/transfer/scripts/toward_drop.py DATA/PRINCE False 1660232941945525380 30\n"
     ]
    },
    {
     "name": "stderr",
     "output_type": "stream",
     "text": [
      "transferred:   0%|          | 0/1 [00:00<?, ?it/s]\n",
      "zipping:   0%|          | 0/3 [00:00<?, ?it/s]\u001b[A\n",
      "zipping:  33%|███▎      | 1/3 [00:30<01:00, 30.45s/it]\u001b[A\n",
      "                                                      \u001b[A\n",
      "Uploaded:   0%|          | 0/1177587073 [00:00<?, ?it/s]\u001b[A\n",
      "Uploaded:  23%|██▎       | 268435456/1177587073 [00:10<00:36, 24644018.92it/s]\u001b[A\n",
      "Uploaded:  46%|████▌     | 536870912/1177587073 [00:25<00:31, 20311703.05it/s]\u001b[A\n",
      "Uploaded:  68%|██████▊   | 805306368/1177587073 [00:39<00:18, 20189653.87it/s]\u001b[A\n",
      "Uploaded:  68%|██████▊   | 805306368/1177587073 [00:49<00:18, 20189653.87it/s]\u001b[A\n",
      "Uploaded:  91%|█████████ | 1073741824/1177587073 [00:55<00:05, 18680790.14it/s]\u001b[A\n",
      "Uploaded: 1342177280it [01:02, 22403870.60it/s]                                \u001b[A\n",
      "                                               \u001b[A\n",
      "Uploaded:   0%|          | 0/1347479619 [00:00<?, ?it/s]\u001b[A\n",
      "Uploaded:  20%|█▉        | 268435456/1347479619 [00:19<01:18, 13715520.19it/s]\u001b[A\n",
      "Uploaded:  20%|█▉        | 268435456/1347479619 [00:30<01:18, 13715520.19it/s]\u001b[A\n",
      "Uploaded:  40%|███▉      | 536870912/1347479619 [00:33<00:49, 16487792.16it/s]\u001b[A\n",
      "Uploaded:  60%|█████▉    | 805306368/1347479619 [00:44<00:28, 19350053.98it/s]\u001b[A\n",
      "Uploaded:  80%|███████▉  | 1073741824/1347479619 [01:00<00:14, 18420087.93it/s]\u001b[A\n",
      "Uploaded:  80%|███████▉  | 1073741824/1347479619 [01:10<00:14, 18420087.93it/s]\u001b[A\n",
      "Uploaded: 100%|█████████▉| 1342177280/1347479619 [01:15<00:00, 18135591.07it/s]\u001b[A\n",
      "Uploaded: 1610612736it [01:21, 22691903.22it/s]                                \u001b[A\n",
      "transferred: 100%|██████████| 1/1 [03:03<00:00, 183.79s/it]\n"
     ]
    },
    {
     "name": "stdout",
     "output_type": "stream",
     "text": [
      "python3 /home/ipausers/bisot/pycode/MscThesis/amftrack/transfer/scripts/toward_drop.py DATA/PRINCE False 1660232941945525380 31\n"
     ]
    },
    {
     "name": "stderr",
     "output_type": "stream",
     "text": [
      "transferred:   0%|          | 0/1 [00:00<?, ?it/s]\n",
      "zipping:   0%|          | 0/3 [00:00<?, ?it/s]\u001b[A\n",
      "zipping:  33%|███▎      | 1/3 [00:31<01:02, 31.30s/it]\u001b[A\n",
      "                                                      \u001b[A\n",
      "Uploaded:   0%|          | 0/1180374097 [00:00<?, ?it/s]\u001b[A\n",
      "Uploaded:  23%|██▎       | 268435456/1180374097 [00:11<00:37, 24396467.59it/s]\u001b[A\n",
      "Uploaded:  45%|████▌     | 536870912/1180374097 [00:20<00:24, 25829696.80it/s]\u001b[A\n",
      "Uploaded:  68%|██████▊   | 805306368/1180374097 [00:32<00:15, 24330173.37it/s]\u001b[A\n",
      "Uploaded:  91%|█████████ | 1073741824/1180374097 [00:45<00:04, 23296165.36it/s]\u001b[A\n",
      "Uploaded: 1342177280it [00:56, 23341377.25it/s]                                \u001b[A\n",
      "                                               \u001b[A\n",
      "Uploaded:   0%|          | 0/1233695800 [00:00<?, ?it/s]\u001b[A\n",
      "Uploaded:  22%|██▏       | 268435456/1233695800 [00:13<00:48, 19904490.03it/s]\u001b[A\n",
      "Uploaded:  22%|██▏       | 268435456/1233695800 [00:26<00:48, 19904490.03it/s]\u001b[A\n",
      "Uploaded:  44%|████▎     | 536870912/1233695800 [00:29<00:38, 17964764.63it/s]\u001b[A\n",
      "Uploaded:  65%|██████▌   | 805306368/1233695800 [00:44<00:24, 17793314.78it/s]\u001b[A\n",
      "Uploaded:  65%|██████▌   | 805306368/1233695800 [00:56<00:24, 17793314.78it/s]\u001b[A\n",
      "Uploaded:  87%|████████▋ | 1073741824/1233695800 [01:01<00:09, 17158863.36it/s]\u001b[A\n",
      "Uploaded: 1342177280it [01:09, 20812683.70it/s]                                \u001b[A\n",
      "transferred: 100%|██████████| 1/1 [02:45<00:00, 165.81s/it]\n"
     ]
    },
    {
     "name": "stdout",
     "output_type": "stream",
     "text": [
      "python3 /home/ipausers/bisot/pycode/MscThesis/amftrack/transfer/scripts/toward_drop.py DATA/PRINCE False 1660232941945525380 32\n"
     ]
    },
    {
     "name": "stderr",
     "output_type": "stream",
     "text": [
      "transferred:   0%|          | 0/1 [00:00<?, ?it/s]\n",
      "zipping:   0%|          | 0/3 [00:00<?, ?it/s]\u001b[A\n",
      "zipping:  33%|███▎      | 1/3 [00:30<01:00, 30.20s/it]\u001b[A\n",
      "                                                      \u001b[A\n",
      "Uploaded:   0%|          | 0/1168244669 [00:00<?, ?it/s]\u001b[A\n",
      "Uploaded:  23%|██▎       | 268435456/1168244669 [00:10<00:34, 26459853.18it/s]\u001b[A\n",
      "Uploaded:  46%|████▌     | 536870912/1168244669 [00:27<00:33, 18819313.00it/s]\u001b[A\n",
      "Uploaded:  69%|██████▉   | 805306368/1168244669 [00:38<00:17, 20907478.82it/s]\u001b[A\n",
      "Uploaded:  69%|██████▉   | 805306368/1168244669 [00:49<00:17, 20907478.82it/s]\u001b[A\n",
      "Uploaded:  92%|█████████▏| 1073741824/1168244669 [00:53<00:04, 19761780.83it/s]\u001b[A\n",
      "Uploaded: 1342177280it [01:03, 21862517.42it/s]                                \u001b[A\n",
      "                                               \u001b[A\n",
      "Uploaded:   0%|          | 0/1236216433 [00:00<?, ?it/s]\u001b[A\n",
      "Uploaded:  22%|██▏       | 268435456/1236216433 [00:11<00:41, 23325237.49it/s]\u001b[A\n",
      "Uploaded:  43%|████▎     | 536870912/1236216433 [00:26<00:34, 20016311.76it/s]\u001b[A\n",
      "Uploaded:  43%|████▎     | 536870912/1236216433 [00:38<00:34, 20016311.76it/s]\u001b[A\n",
      "Uploaded:  65%|██████▌   | 805306368/1236216433 [00:42<00:23, 18261074.79it/s]\u001b[A\n",
      "Uploaded:  87%|████████▋ | 1073741824/1236216433 [00:55<00:08, 19270049.88it/s]\u001b[A\n",
      "Uploaded: 1342177280it [01:02, 23332546.86it/s]                                \u001b[A\n",
      "transferred: 100%|██████████| 1/1 [02:46<00:00, 166.32s/it]\n"
     ]
    },
    {
     "name": "stdout",
     "output_type": "stream",
     "text": [
      "python3 /home/ipausers/bisot/pycode/MscThesis/amftrack/transfer/scripts/toward_drop.py DATA/PRINCE False 1660232941945525380 33\n"
     ]
    },
    {
     "name": "stderr",
     "output_type": "stream",
     "text": [
      "transferred:   0%|          | 0/1 [00:00<?, ?it/s]\n",
      "zipping:   0%|          | 0/3 [00:00<?, ?it/s]\u001b[A\n",
      "zipping:  33%|███▎      | 1/3 [00:29<00:58, 29.47s/it]\u001b[A\n",
      "                                                      \u001b[A\n",
      "Uploaded:   0%|          | 0/1165673287 [00:00<?, ?it/s]\u001b[A\n",
      "Uploaded:  23%|██▎       | 268435456/1165673287 [00:15<00:50, 17677012.78it/s]\u001b[A\n",
      "Uploaded:  46%|████▌     | 536870912/1165673287 [00:24<00:28, 22327703.82it/s]\u001b[A\n",
      "Uploaded:  69%|██████▉   | 805306368/1165673287 [00:39<00:17, 20141076.50it/s]\u001b[A\n",
      "Uploaded:  69%|██████▉   | 805306368/1165673287 [00:50<00:17, 20141076.50it/s]\u001b[A\n",
      "Uploaded:  92%|█████████▏| 1073741824/1165673287 [00:50<00:04, 21750501.83it/s]\u001b[A\n",
      "Uploaded: 1342177280it [00:55, 27969007.69it/s]                                \u001b[A\n",
      "                                               \u001b[A\n",
      "Uploaded:   0%|          | 0/1229250858 [00:00<?, ?it/s]\u001b[A\n",
      "Uploaded:  22%|██▏       | 268435456/1229250858 [00:09<00:35, 26951843.16it/s]\u001b[A\n",
      "Uploaded:  44%|████▎     | 536870912/1229250858 [00:22<00:28, 23927558.06it/s]\u001b[A\n",
      "Uploaded:  66%|██████▌   | 805306368/1229250858 [00:32<00:17, 24393331.60it/s]\u001b[A\n",
      "Uploaded:  87%|████████▋ | 1073741824/1229250858 [00:47<00:07, 21761437.86it/s]\u001b[A\n",
      "Uploaded: 1342177280it [00:58, 22766229.36it/s]                                \u001b[A\n",
      "transferred: 100%|██████████| 1/1 [02:31<00:00, 151.62s/it]\n"
     ]
    },
    {
     "name": "stdout",
     "output_type": "stream",
     "text": [
      "python3 /home/ipausers/bisot/pycode/MscThesis/amftrack/transfer/scripts/toward_drop.py DATA/PRINCE False 1660232941945525380 34\n"
     ]
    },
    {
     "name": "stderr",
     "output_type": "stream",
     "text": [
      "transferred:   0%|          | 0/1 [00:00<?, ?it/s]\n",
      "zipping:   0%|          | 0/3 [00:00<?, ?it/s]\u001b[A\n",
      "zipping:  33%|███▎      | 1/3 [00:29<00:59, 29.76s/it]\u001b[A\n",
      "                                                      \u001b[A\n",
      "Uploaded:   0%|          | 0/1163765558 [00:00<?, ?it/s]\u001b[A\n",
      "Uploaded:  23%|██▎       | 268435456/1163765558 [00:09<00:31, 28071282.03it/s]\u001b[A\n",
      "Uploaded:  23%|██▎       | 268435456/1163765558 [00:20<00:31, 28071282.03it/s]\u001b[A\n",
      "Uploaded:  46%|████▌     | 536870912/1163765558 [00:20<00:24, 25306461.42it/s]\u001b[A\n",
      "Uploaded:  69%|██████▉   | 805306368/1163765558 [00:36<00:17, 20581261.58it/s]\u001b[A\n",
      "Uploaded:  92%|█████████▏| 1073741824/1163765558 [00:48<00:04, 21330128.04it/s]\u001b[A\n",
      "Uploaded: 1342177280it [00:55, 25285318.71it/s]                                \u001b[A\n",
      "                                               \u001b[A\n",
      "Uploaded:   0%|          | 0/1359458168 [00:00<?, ?it/s]\u001b[A\n",
      "Uploaded:  20%|█▉        | 268435456/1359458168 [00:13<00:54, 19884659.90it/s]\u001b[A\n",
      "Uploaded:  39%|███▉      | 536870912/1359458168 [00:27<00:42, 19166145.04it/s]\u001b[A\n",
      "Uploaded:  39%|███▉      | 536870912/1359458168 [00:38<00:42, 19166145.04it/s]\u001b[A\n",
      "Uploaded:  59%|█████▉    | 805306368/1359458168 [00:40<00:27, 20052356.85it/s]\u001b[A\n",
      "Uploaded:  79%|███████▉  | 1073741824/1359458168 [00:57<00:15, 18225652.44it/s]\u001b[A\n",
      "Uploaded:  99%|█████████▊| 1342177280/1359458168 [01:07<00:00, 20339483.26it/s]\u001b[A\n",
      "Uploaded: 1610612736it [01:10, 27549191.91it/s]                                \u001b[A\n",
      "transferred: 100%|██████████| 1/1 [02:45<00:00, 165.23s/it]\n"
     ]
    },
    {
     "name": "stdout",
     "output_type": "stream",
     "text": [
      "python3 /home/ipausers/bisot/pycode/MscThesis/amftrack/transfer/scripts/toward_drop.py DATA/PRINCE False 1660232941945525380 35\n"
     ]
    },
    {
     "name": "stderr",
     "output_type": "stream",
     "text": [
      "transferred:   0%|          | 0/1 [00:00<?, ?it/s]\n",
      "zipping:   0%|          | 0/3 [00:00<?, ?it/s]\u001b[A\n",
      "zipping:  33%|███▎      | 1/3 [00:29<00:59, 29.75s/it]\u001b[A\n",
      "                                                      \u001b[A\n",
      "Uploaded:   0%|          | 0/1173431633 [00:00<?, ?it/s]\u001b[A\n",
      "Uploaded:  23%|██▎       | 268435456/1173431633 [00:12<00:42, 21293956.77it/s]\u001b[A\n",
      "Uploaded:  46%|████▌     | 536870912/1173431633 [00:25<00:29, 21311473.53it/s]\u001b[A\n",
      "Uploaded:  69%|██████▊   | 805306368/1173431633 [00:37<00:17, 21496864.64it/s]\u001b[A\n",
      "Uploaded:  92%|█████████▏| 1073741824/1173431633 [00:48<00:04, 22821048.39it/s]\u001b[A\n",
      "Uploaded: 1342177280it [00:54, 27687496.16it/s]                                \u001b[A\n",
      "                                               \u001b[A\n",
      "Uploaded:   0%|          | 0/1239567988 [00:00<?, ?it/s]\u001b[A\n",
      "Uploaded:  22%|██▏       | 268435456/1239567988 [00:17<01:01, 15720713.90it/s]\u001b[A\n",
      "Uploaded:  22%|██▏       | 268435456/1239567988 [00:29<01:01, 15720713.90it/s]\u001b[A\n",
      "Uploaded:  43%|████▎     | 536870912/1239567988 [00:33<00:43, 15988344.60it/s]\u001b[A\n",
      "Uploaded:  65%|██████▍   | 805306368/1239567988 [00:44<00:22, 19223222.64it/s]\u001b[A\n",
      "Uploaded:  87%|████████▋ | 1073741824/1239567988 [00:57<00:08, 19732611.47it/s]\u001b[A\n",
      "Uploaded: 1342177280it [01:09, 20705902.62it/s]                                \u001b[A\n",
      "transferred: 100%|██████████| 1/1 [02:41<00:00, 161.95s/it]\n"
     ]
    },
    {
     "name": "stdout",
     "output_type": "stream",
     "text": [
      "python3 /home/ipausers/bisot/pycode/MscThesis/amftrack/transfer/scripts/toward_drop.py DATA/PRINCE False 1660232941945525380 36\n"
     ]
    },
    {
     "name": "stderr",
     "output_type": "stream",
     "text": [
      "transferred:   0%|          | 0/1 [00:00<?, ?it/s]\n",
      "zipping:   0%|          | 0/3 [00:00<?, ?it/s]\u001b[A\n",
      "zipping:  33%|███▎      | 1/3 [00:30<01:00, 30.32s/it]\u001b[A\n",
      "                                                      \u001b[A\n",
      "Uploaded:   0%|          | 0/1169788377 [00:00<?, ?it/s]\u001b[A\n",
      "Uploaded:  23%|██▎       | 268435456/1169788377 [00:14<00:48, 18734080.97it/s]\u001b[A\n",
      "Uploaded:  46%|████▌     | 536870912/1169788377 [00:29<00:34, 18462991.33it/s]\u001b[A\n",
      "Uploaded:  46%|████▌     | 536870912/1169788377 [00:39<00:34, 18462991.33it/s]\u001b[A\n",
      "Uploaded:  69%|██████▉   | 805306368/1169788377 [00:47<00:21, 16641767.24it/s]\u001b[A\n",
      "Uploaded:  69%|██████▉   | 805306368/1169788377 [00:59<00:21, 16641767.24it/s]\u001b[A\n",
      "Uploaded:  92%|█████████▏| 1073741824/1169788377 [01:01<00:05, 17148456.26it/s]\u001b[A\n",
      "Uploaded: 1342177280it [01:11, 20214542.35it/s]                                \u001b[A\n",
      "                                               \u001b[A\n",
      "Uploaded:   0%|          | 0/1225396672 [00:00<?, ?it/s]\u001b[A\n",
      "Uploaded:  22%|██▏       | 268435456/1225396672 [00:09<00:33, 28183250.24it/s]\u001b[A\n",
      "Uploaded:  44%|████▍     | 536870912/1225396672 [00:21<00:27, 24955077.57it/s]\u001b[A\n",
      "Uploaded:  44%|████▍     | 536870912/1225396672 [00:32<00:27, 24955077.57it/s]\u001b[A\n",
      "Uploaded:  66%|██████▌   | 805306368/1225396672 [00:34<00:18, 22837977.02it/s]\u001b[A\n",
      "Uploaded:  88%|████████▊ | 1073741824/1225396672 [00:46<00:06, 22159420.17it/s]\u001b[A\n",
      "Uploaded: 1342177280it [00:58, 22142652.73it/s]                                \u001b[A\n",
      "transferred: 100%|██████████| 1/1 [02:48<00:00, 168.63s/it]\n"
     ]
    },
    {
     "name": "stdout",
     "output_type": "stream",
     "text": [
      "python3 /home/ipausers/bisot/pycode/MscThesis/amftrack/transfer/scripts/toward_drop.py DATA/PRINCE False 1660232941945525380 37\n"
     ]
    },
    {
     "name": "stderr",
     "output_type": "stream",
     "text": [
      "transferred:   0%|          | 0/1 [00:00<?, ?it/s]\n",
      "zipping:   0%|          | 0/3 [00:00<?, ?it/s]\u001b[A\n",
      "zipping:  33%|███▎      | 1/3 [00:29<00:59, 29.56s/it]\u001b[A\n",
      "                                                      \u001b[A\n",
      "Uploaded:   0%|          | 0/1156048708 [00:00<?, ?it/s]\u001b[A\n",
      "Uploaded:  23%|██▎       | 268435456/1156048708 [00:15<00:52, 16919000.18it/s]\u001b[A\n",
      "Uploaded:  46%|████▋     | 536870912/1156048708 [00:26<00:29, 21025716.46it/s]\u001b[A\n",
      "Uploaded:  46%|████▋     | 536870912/1156048708 [00:40<00:29, 21025716.46it/s]\u001b[A\n",
      "Uploaded:  70%|██████▉   | 805306368/1156048708 [00:42<00:18, 18796708.09it/s]\u001b[A\n",
      "Uploaded:  93%|█████████▎| 1073741824/1156048708 [00:54<00:04, 20032781.60it/s]\u001b[A\n",
      "Uploaded: 1342177280it [00:59, 25941126.24it/s]                                \u001b[A\n",
      "                                               \u001b[A\n",
      "Uploaded:   0%|          | 0/1226580580 [00:00<?, ?it/s]\u001b[A\n",
      "Uploaded:  22%|██▏       | 268435456/1226580580 [00:11<00:41, 23035179.38it/s]\u001b[A\n",
      "Uploaded:  22%|██▏       | 268435456/1226580580 [00:24<00:41, 23035179.38it/s]\u001b[A\n",
      "Uploaded:  44%|████▍     | 536870912/1226580580 [00:25<00:32, 21079836.46it/s]\u001b[A\n",
      "Uploaded:  66%|██████▌   | 805306368/1226580580 [00:34<00:17, 23513905.49it/s]\u001b[A\n",
      "Uploaded:  88%|████████▊ | 1073741824/1226580580 [00:46<00:06, 23673008.65it/s]\u001b[A\n",
      "Uploaded: 1342177280it [00:55, 25321150.59it/s]                                \u001b[A\n",
      "transferred: 100%|██████████| 1/1 [02:33<00:00, 153.94s/it]\n"
     ]
    },
    {
     "name": "stdout",
     "output_type": "stream",
     "text": [
      "python3 /home/ipausers/bisot/pycode/MscThesis/amftrack/transfer/scripts/toward_drop.py DATA/PRINCE False 1660232941945525380 38\n"
     ]
    },
    {
     "name": "stderr",
     "output_type": "stream",
     "text": [
      "transferred:   0%|          | 0/1 [00:00<?, ?it/s]\n",
      "zipping:   0%|          | 0/3 [00:00<?, ?it/s]\u001b[A\n",
      "zipping:  33%|███▎      | 1/3 [00:29<00:58, 29.25s/it]\u001b[A\n",
      "                                                      \u001b[A\n",
      "Uploaded:   0%|          | 0/1137554158 [00:00<?, ?it/s]\u001b[A\n",
      "Uploaded:  24%|██▎       | 268435456/1137554158 [00:13<00:44, 19353639.39it/s]\u001b[A\n",
      "Uploaded:  47%|████▋     | 536870912/1137554158 [00:24<00:27, 21928262.04it/s]\u001b[A\n",
      "Uploaded:  71%|███████   | 805306368/1137554158 [00:38<00:15, 21172898.95it/s]\u001b[A\n",
      "Uploaded:  71%|███████   | 805306368/1137554158 [00:50<00:15, 21172898.95it/s]\u001b[A\n",
      "Uploaded:  94%|█████████▍| 1073741824/1137554158 [00:59<00:03, 16798177.08it/s]\u001b[A\n",
      "Uploaded: 1342177280it [01:08, 19884084.65it/s]                                \u001b[A\n",
      "                                               \u001b[A\n",
      "Uploaded:   0%|          | 0/1236812152 [00:00<?, ?it/s]\u001b[A\n",
      "Uploaded:  22%|██▏       | 268435456/1236812152 [00:14<00:52, 18383271.05it/s]\u001b[A\n",
      "Uploaded:  22%|██▏       | 268435456/1236812152 [00:26<00:52, 18383271.05it/s]\u001b[A\n",
      "Uploaded:  43%|████▎     | 536870912/1236812152 [00:30<00:40, 17496837.09it/s]\u001b[A\n",
      "Uploaded:  65%|██████▌   | 805306368/1236812152 [00:44<00:23, 18465632.51it/s]\u001b[A\n",
      "Uploaded:  65%|██████▌   | 805306368/1236812152 [00:56<00:23, 18465632.51it/s]\u001b[A\n",
      "Uploaded:  87%|████████▋ | 1073741824/1236812152 [00:59<00:09, 18104271.83it/s]\u001b[A\n",
      "Uploaded: 1342177280it [01:10, 19849971.69it/s]                                \u001b[A\n",
      "transferred: 100%|██████████| 1/1 [02:56<00:00, 177.00s/it]\n"
     ]
    },
    {
     "name": "stdout",
     "output_type": "stream",
     "text": [
      "python3 /home/ipausers/bisot/pycode/MscThesis/amftrack/transfer/scripts/toward_drop.py DATA/PRINCE False 1660232941945525380 39\n"
     ]
    },
    {
     "name": "stderr",
     "output_type": "stream",
     "text": [
      "transferred:   0%|          | 0/1 [00:00<?, ?it/s]\n",
      "zipping:   0%|          | 0/3 [00:00<?, ?it/s]\u001b[A\n",
      "zipping:  33%|███▎      | 1/3 [00:30<01:01, 30.76s/it]\u001b[A\n",
      "                                                      \u001b[A\n",
      "Uploaded:   0%|          | 0/1176032402 [00:00<?, ?it/s]\u001b[A\n",
      "Uploaded:  23%|██▎       | 268435456/1176032402 [00:13<00:46, 19337634.47it/s]\u001b[A\n",
      "Uploaded:  46%|████▌     | 536870912/1176032402 [00:25<00:30, 21233373.71it/s]\u001b[A\n",
      "Uploaded:  46%|████▌     | 536870912/1176032402 [00:39<00:30, 21233373.71it/s]\u001b[A\n",
      "Uploaded:  68%|██████▊   | 805306368/1176032402 [00:39<00:18, 20285624.13it/s]\u001b[A\n",
      "Uploaded:  91%|█████████▏| 1073741824/1176032402 [00:49<00:04, 22448958.00it/s]\u001b[A\n",
      "Uploaded: 1342177280it [00:59, 23732873.59it/s]                                \u001b[A\n",
      "                                               \u001b[A\n",
      "Uploaded:   0%|          | 0/1226597798 [00:00<?, ?it/s]\u001b[A\n",
      "Uploaded:  22%|██▏       | 268435456/1226597798 [00:15<00:56, 17048899.42it/s]\u001b[A\n",
      "Uploaded:  44%|████▍     | 536870912/1226597798 [00:28<00:36, 18937416.83it/s]\u001b[A\n",
      "Uploaded:  66%|██████▌   | 805306368/1226597798 [00:41<00:21, 19830431.13it/s]\u001b[A\n",
      "Uploaded:  66%|██████▌   | 805306368/1226597798 [00:52<00:21, 19830431.13it/s]\u001b[A\n",
      "Uploaded:  88%|████████▊ | 1073741824/1226597798 [00:54<00:07, 20205893.05it/s]\u001b[A\n",
      "Uploaded: 1342177280it [01:03, 23126418.82it/s]                                \u001b[A\n",
      "transferred: 100%|██████████| 1/1 [02:42<00:00, 162.91s/it]\n"
     ]
    },
    {
     "name": "stdout",
     "output_type": "stream",
     "text": [
      "python3 /home/ipausers/bisot/pycode/MscThesis/amftrack/transfer/scripts/toward_drop.py DATA/PRINCE False 1660232941945525380 40\n"
     ]
    },
    {
     "name": "stderr",
     "output_type": "stream",
     "text": [
      "transferred:   0%|          | 0/1 [00:00<?, ?it/s]\n",
      "zipping:   0%|          | 0/3 [00:00<?, ?it/s]\u001b[A\n",
      "zipping:  33%|███▎      | 1/3 [00:31<01:02, 31.02s/it]\u001b[A\n",
      "                                                      \u001b[A\n",
      "Uploaded:   0%|          | 0/1198216574 [00:00<?, ?it/s]\u001b[A\n",
      "Uploaded:  22%|██▏       | 268435456/1198216574 [00:15<00:52, 17740480.94it/s]\u001b[A\n",
      "Uploaded:  45%|████▍     | 536870912/1198216574 [00:25<00:30, 21687000.70it/s]\u001b[A\n",
      "Uploaded:  67%|██████▋   | 805306368/1198216574 [00:36<00:17, 22955154.18it/s]\u001b[A\n",
      "Uploaded:  67%|██████▋   | 805306368/1198216574 [00:48<00:17, 22955154.18it/s]\u001b[A\n",
      "Uploaded:  90%|████████▉ | 1073741824/1198216574 [00:48<00:05, 22357162.88it/s]\u001b[A\n",
      "Uploaded: 1342177280it [00:58, 23963245.40it/s]                                \u001b[A\n",
      "                                               \u001b[A\n",
      "Uploaded:   0%|          | 0/1241336070 [00:00<?, ?it/s]\u001b[A\n",
      "Uploaded:  22%|██▏       | 268435456/1241336070 [00:17<01:03, 15324117.31it/s]\u001b[A\n",
      "Uploaded:  22%|██▏       | 268435456/1241336070 [00:33<01:03, 15324117.31it/s]\u001b[A\n",
      "Uploaded:  43%|████▎     | 536870912/1241336070 [00:34<00:44, 15744796.21it/s]\u001b[A\n",
      "Uploaded:  65%|██████▍   | 805306368/1241336070 [00:45<00:23, 18380501.90it/s]\u001b[A\n",
      "Uploaded:  86%|████████▋ | 1073741824/1241336070 [00:59<00:08, 18756675.47it/s]\u001b[A\n",
      "Uploaded: 1342177280it [01:10, 20610792.47it/s]                                \u001b[A\n",
      "transferred: 100%|██████████| 1/1 [02:50<00:00, 170.13s/it]\n"
     ]
    },
    {
     "name": "stdout",
     "output_type": "stream",
     "text": [
      "python3 /home/ipausers/bisot/pycode/MscThesis/amftrack/transfer/scripts/toward_drop.py DATA/PRINCE False 1660232941945525380 41\n"
     ]
    },
    {
     "name": "stderr",
     "output_type": "stream",
     "text": [
      "transferred:   0%|          | 0/1 [00:00<?, ?it/s]\n",
      "zipping:   0%|          | 0/3 [00:00<?, ?it/s]\u001b[A\n",
      "zipping:  33%|███▎      | 1/3 [00:30<01:01, 30.90s/it]\u001b[A\n",
      "                                                      \u001b[A\n",
      "Uploaded:   0%|          | 0/1173743058 [00:00<?, ?it/s]\u001b[A\n",
      "Uploaded:  23%|██▎       | 268435456/1173743058 [00:12<00:42, 21303464.61it/s]\u001b[A\n",
      "Uploaded:  46%|████▌     | 536870912/1173743058 [00:24<00:28, 22031075.65it/s]\u001b[A\n",
      "Uploaded:  46%|████▌     | 536870912/1173743058 [00:39<00:28, 22031075.65it/s]\u001b[A\n",
      "Uploaded:  69%|██████▊   | 805306368/1173743058 [00:39<00:18, 19920492.94it/s]\u001b[A\n",
      "Uploaded:  91%|█████████▏| 1073741824/1173743058 [00:53<00:05, 19734734.99it/s]\u001b[A\n",
      "Uploaded: 1342177280it [00:58, 25310976.40it/s]                                \u001b[A\n",
      "                                               \u001b[A\n",
      "Uploaded:   0%|          | 0/1273280286 [00:00<?, ?it/s]\u001b[A\n",
      "Uploaded:  21%|██        | 268435456/1273280286 [00:11<00:43, 23109131.57it/s]\u001b[A\n",
      "Uploaded:  21%|██        | 268435456/1273280286 [00:24<00:43, 23109131.57it/s]\u001b[A\n",
      "Uploaded:  42%|████▏     | 536870912/1273280286 [00:25<00:35, 20795790.54it/s]\u001b[A\n",
      "Uploaded:  63%|██████▎   | 805306368/1273280286 [00:39<00:23, 20165734.86it/s]\u001b[A\n",
      "Uploaded:  63%|██████▎   | 805306368/1273280286 [00:54<00:23, 20165734.86it/s]\u001b[A\n",
      "Uploaded:  84%|████████▍ | 1073741824/1273280286 [00:57<00:11, 17699678.51it/s]\u001b[A\n",
      "Uploaded: 1342177280it [01:06, 20622691.12it/s]                                \u001b[A\n",
      "transferred: 100%|██████████| 1/1 [02:44<00:00, 164.95s/it]\n"
     ]
    },
    {
     "name": "stdout",
     "output_type": "stream",
     "text": [
      "python3 /home/ipausers/bisot/pycode/MscThesis/amftrack/transfer/scripts/toward_drop.py DATA/PRINCE False 1660232941945525380 42\n"
     ]
    },
    {
     "name": "stderr",
     "output_type": "stream",
     "text": [
      "transferred:   0%|          | 0/1 [00:00<?, ?it/s]\n",
      "zipping:   0%|          | 0/3 [00:00<?, ?it/s]\u001b[A\n",
      "zipping:  33%|███▎      | 1/3 [00:30<01:01, 30.51s/it]\u001b[A\n",
      "                                                      \u001b[A\n",
      "Uploaded:   0%|          | 0/1171547033 [00:00<?, ?it/s]\u001b[A\n",
      "Uploaded:  23%|██▎       | 268435456/1171547033 [00:10<00:36, 24974548.69it/s]\u001b[A\n",
      "Uploaded:  46%|████▌     | 536870912/1171547033 [00:26<00:32, 19750142.04it/s]\u001b[A\n",
      "Uploaded:  69%|██████▊   | 805306368/1171547033 [00:39<00:18, 20294798.51it/s]\u001b[A\n",
      "Uploaded:  69%|██████▊   | 805306368/1171547033 [00:49<00:18, 20294798.51it/s]\u001b[A\n",
      "Uploaded:  92%|█████████▏| 1073741824/1171547033 [00:53<00:04, 19739635.26it/s]\u001b[A\n",
      "Uploaded: 1342177280it [00:58, 25456396.52it/s]                                \u001b[A\n",
      "                                               \u001b[A\n",
      "Uploaded:   0%|          | 0/1228653424 [00:00<?, ?it/s]\u001b[A\n",
      "Uploaded:  22%|██▏       | 268435456/1228653424 [00:12<00:44, 21822498.52it/s]\u001b[A\n",
      "Uploaded:  22%|██▏       | 268435456/1228653424 [00:24<00:44, 21822498.52it/s]\u001b[A\n",
      "Uploaded:  44%|████▎     | 536870912/1228653424 [00:25<00:33, 20863526.70it/s]\u001b[A\n",
      "Uploaded:  66%|██████▌   | 805306368/1228653424 [00:40<00:21, 19714192.53it/s]\u001b[A\n",
      "Uploaded:  87%|████████▋ | 1073741824/1228653424 [00:52<00:07, 20218806.37it/s]\u001b[A\n",
      "Uploaded: 1342177280it [01:03, 21671155.54it/s]                                \u001b[A\n",
      "transferred: 100%|██████████| 1/1 [02:41<00:00, 161.41s/it]\n"
     ]
    },
    {
     "name": "stdout",
     "output_type": "stream",
     "text": [
      "python3 /home/ipausers/bisot/pycode/MscThesis/amftrack/transfer/scripts/toward_drop.py DATA/PRINCE False 1660232941945525380 43\n"
     ]
    },
    {
     "name": "stderr",
     "output_type": "stream",
     "text": [
      "transferred:   0%|          | 0/1 [00:00<?, ?it/s]\n",
      "zipping:   0%|          | 0/3 [00:00<?, ?it/s]\u001b[A"
     ]
    }
   ],
   "source": [
    "dir_drop = \"DATA/PRINCE\"\n",
    "delete = False\n",
    "run_transfer(\n",
    "    \"toward_drop.py\",\n",
    "    [dir_drop, delete],\n",
    "    folders,\n",
    ")\n",
    "clear_output(wait=False)"
   ]
  },
  {
   "cell_type": "markdown",
   "metadata": {},
   "source": [
    "**To transfer data from dropbox to surfsara**\n",
    "- select the folders of interest within the folders of dropbox"
   ]
  },
  {
   "cell_type": "code",
   "execution_count": 2,
   "metadata": {
    "collapsed": true,
    "jupyter": {
     "outputs_hidden": true
    },
    "tags": []
   },
   "outputs": [
    {
     "name": "stdout",
     "output_type": "stream",
     "text": [
      "2022-09-30 11:07:06,727-[INFO]- dropbox:388 -> Refreshing access token.\n",
      "2022-09-30 11:07:06,986-[INFO]- dropbox:477 -> Request to files/list_folder\n",
      "2022-09-30 11:07:08,392-[INFO]- dropbox:477 -> Request to files/list_folder/continue\n",
      "2022-09-30 11:07:09,159-[INFO]- dropbox:477 -> Request to files/list_folder/continue\n",
      "2022-09-30 11:07:11,151-[INFO]- dropbox:477 -> Request to files/list_folder/continue\n",
      "2022-09-30 11:07:12,184-[INFO]- dropbox:477 -> Request to files/list_folder/continue\n",
      "2022-09-30 11:07:12,917-[INFO]- dropbox:477 -> Request to files/list_folder/continue\n",
      "2022-09-30 11:07:13,884-[INFO]- dropbox:477 -> Request to files/list_folder/continue\n",
      "2022-09-30 11:07:14,682-[INFO]- dropbox:477 -> Request to files/list_folder/continue\n",
      "2022-09-30 11:07:15,479-[INFO]- dropbox:477 -> Request to files/list_folder/continue\n",
      "2022-09-30 11:07:16,253-[INFO]- dropbox:477 -> Request to files/list_folder/continue\n",
      "2022-09-30 11:07:17,130-[INFO]- dropbox:477 -> Request to files/list_folder/continue\n",
      "2022-09-30 11:07:17,758-[INFO]- dropbox:477 -> Request to files/list_folder/continue\n",
      "2022-09-30 11:07:18,423-[INFO]- dropbox:477 -> Request to files/list_folder/continue\n",
      "2022-09-30 11:07:19,140-[INFO]- dropbox:477 -> Request to files/list_folder/continue\n",
      "2022-09-30 11:07:19,959-[INFO]- dropbox:477 -> Request to files/list_folder/continue\n",
      "2022-09-30 11:07:20,813-[INFO]- dropbox:477 -> Request to files/list_folder/continue\n",
      "2022-09-30 11:07:21,533-[INFO]- dropbox:477 -> Request to files/list_folder/continue\n",
      "2022-09-30 11:07:22,272-[INFO]- dropbox:477 -> Request to files/list_folder/continue\n",
      "2022-09-30 11:07:23,115-[INFO]- dropbox:477 -> Request to files/list_folder/continue\n",
      "2022-09-30 11:07:23,862-[INFO]- dropbox:477 -> Request to files/list_folder/continue\n",
      "2022-09-30 11:07:24,597-[INFO]- dropbox:477 -> Request to files/list_folder/continue\n",
      "2022-09-30 11:07:25,351-[INFO]- dropbox:477 -> Request to files/list_folder/continue\n",
      "2022-09-30 11:07:26,075-[INFO]- dropbox:477 -> Request to files/list_folder/continue\n",
      "2022-09-30 11:07:26,858-[INFO]- dropbox:477 -> Request to files/list_folder/continue\n",
      "2022-09-30 11:07:27,700-[INFO]- dropbox:477 -> Request to files/list_folder/continue\n",
      "2022-09-30 11:07:28,441-[INFO]- dropbox:477 -> Request to files/list_folder/continue\n",
      "2022-09-30 11:07:29,213-[INFO]- dropbox:477 -> Request to files/list_folder/continue\n",
      "2022-09-30 11:07:30,010-[INFO]- dropbox:477 -> Request to files/list_folder/continue\n",
      "2022-09-30 11:07:30,808-[INFO]- dropbox:477 -> Request to files/list_folder/continue\n",
      "2022-09-30 11:07:31,615-[INFO]- dropbox:477 -> Request to files/list_folder/continue\n",
      "2022-09-30 11:07:32,344-[INFO]- dropbox:477 -> Request to files/list_folder/continue\n",
      "2022-09-30 11:07:34,108-[INFO]- dropbox:477 -> Request to files/list_folder/continue\n",
      "2022-09-30 11:07:34,874-[INFO]- dropbox:477 -> Request to files/list_folder/continue\n",
      "2022-09-30 11:07:35,688-[INFO]- dropbox:477 -> Request to files/list_folder/continue\n",
      "2022-09-30 11:07:36,476-[INFO]- dropbox:477 -> Request to files/list_folder/continue\n",
      "2022-09-30 11:07:37,315-[INFO]- dropbox:477 -> Request to files/list_folder/continue\n",
      "2022-09-30 11:07:38,204-[INFO]- dropbox:477 -> Request to files/list_folder/continue\n",
      "2022-09-30 11:07:39,027-[INFO]- dropbox:477 -> Request to files/list_folder/continue\n",
      "2022-09-30 11:07:39,791-[INFO]- dropbox:477 -> Request to files/list_folder/continue\n",
      "2022-09-30 11:07:41,670-[INFO]- dropbox:477 -> Request to files/list_folder/continue\n",
      "2022-09-30 11:07:42,380-[INFO]- dropbox:477 -> Request to files/list_folder/continue\n",
      "2022-09-30 11:07:43,704-[INFO]- dropbox:477 -> Request to files/list_folder/continue\n",
      "2022-09-30 11:07:44,368-[INFO]- dropbox:477 -> Request to files/list_folder/continue\n",
      "2022-09-30 11:07:46,142-[INFO]- dropbox:477 -> Request to files/list_folder/continue\n",
      "2022-09-30 11:07:47,658-[INFO]- dropbox:477 -> Request to files/list_folder/continue\n",
      "2022-09-30 11:07:48,342-[INFO]- dropbox:477 -> Request to files/list_folder/continue\n",
      "2022-09-30 11:07:49,038-[INFO]- dropbox:477 -> Request to files/list_folder/continue\n",
      "2022-09-30 11:07:49,745-[INFO]- dropbox:477 -> Request to files/list_folder/continue\n",
      "2022-09-30 11:07:50,467-[INFO]- dropbox:477 -> Request to files/list_folder/continue\n",
      "2022-09-30 11:07:51,442-[INFO]- dropbox:477 -> Request to files/list_folder/continue\n",
      "2022-09-30 11:07:52,133-[INFO]- dropbox:477 -> Request to files/list_folder/continue\n",
      "2022-09-30 11:07:53,117-[INFO]- dropbox:477 -> Request to files/list_folder/continue\n",
      "2022-09-30 11:07:53,799-[INFO]- dropbox:477 -> Request to files/list_folder/continue\n",
      "2022-09-30 11:07:54,472-[INFO]- dropbox:477 -> Request to files/list_folder/continue\n",
      "2022-09-30 11:07:55,163-[INFO]- dropbox:477 -> Request to files/list_folder/continue\n",
      "2022-09-30 11:07:55,903-[INFO]- dropbox:477 -> Request to files/list_folder/continue\n",
      "2022-09-30 11:07:56,534-[INFO]- dropbox:477 -> Request to files/list_folder/continue\n",
      "2022-09-30 11:07:57,357-[INFO]- dropbox:477 -> Request to files/list_folder/continue\n",
      "2022-09-30 11:07:58,508-[INFO]- dropbox:477 -> Request to files/list_folder/continue\n",
      "2022-09-30 11:08:00,341-[INFO]- dropbox:477 -> Request to files/list_folder/continue\n",
      "2022-09-30 11:08:00,985-[INFO]- dropbox:477 -> Request to files/list_folder/continue\n",
      "2022-09-30 11:08:01,653-[INFO]- dropbox:477 -> Request to files/list_folder/continue\n",
      "2022-09-30 11:08:02,319-[INFO]- dropbox:477 -> Request to files/list_folder/continue\n",
      "2022-09-30 11:08:03,006-[INFO]- dropbox:477 -> Request to files/list_folder/continue\n",
      "2022-09-30 11:08:03,764-[INFO]- dropbox:477 -> Request to files/list_folder/continue\n",
      "2022-09-30 11:08:04,843-[INFO]- dropbox:477 -> Request to files/list_folder/continue\n",
      "2022-09-30 11:08:05,577-[INFO]- dropbox:477 -> Request to files/list_folder/continue\n",
      "2022-09-30 11:08:06,562-[INFO]- dropbox:477 -> Request to files/list_folder/continue\n",
      "2022-09-30 11:08:07,268-[INFO]- dropbox:477 -> Request to files/list_folder/continue\n",
      "2022-09-30 11:08:07,964-[INFO]- dropbox:477 -> Request to files/list_folder/continue\n",
      "2022-09-30 11:08:08,791-[INFO]- dropbox:477 -> Request to files/list_folder/continue\n",
      "2022-09-30 11:08:09,762-[INFO]- dropbox:477 -> Request to files/list_folder/continue\n",
      "2022-09-30 11:08:10,843-[INFO]- dropbox:477 -> Request to files/list_folder/continue\n",
      "2022-09-30 11:08:12,452-[INFO]- dropbox:477 -> Request to files/list_folder/continue\n",
      "2022-09-30 11:08:13,429-[INFO]- dropbox:477 -> Request to files/list_folder/continue\n",
      "2022-09-30 11:08:14,852-[INFO]- dropbox:477 -> Request to files/list_folder/continue\n",
      "2022-09-30 11:08:15,637-[INFO]- dropbox:477 -> Request to files/list_folder/continue\n",
      "2022-09-30 11:08:16,385-[INFO]- dropbox:477 -> Request to files/list_folder/continue\n",
      "2022-09-30 11:08:17,225-[INFO]- dropbox:477 -> Request to files/list_folder/continue\n",
      "2022-09-30 11:08:17,955-[INFO]- dropbox:477 -> Request to files/list_folder/continue\n",
      "2022-09-30 11:08:18,707-[INFO]- dropbox:477 -> Request to files/list_folder/continue\n",
      "2022-09-30 11:08:20,353-[INFO]- dropbox:477 -> Request to files/list_folder/continue\n",
      "2022-09-30 11:08:21,209-[INFO]- dropbox:477 -> Request to files/list_folder/continue\n",
      "2022-09-30 11:08:21,945-[INFO]- dropbox:477 -> Request to files/list_folder/continue\n",
      "2022-09-30 11:08:22,688-[INFO]- dropbox:477 -> Request to files/list_folder/continue\n",
      "2022-09-30 11:08:23,495-[INFO]- dropbox:477 -> Request to files/list_folder/continue\n",
      "2022-09-30 11:08:24,359-[INFO]- dropbox:477 -> Request to files/list_folder/continue\n",
      "2022-09-30 11:08:26,305-[INFO]- dropbox:477 -> Request to files/list_folder/continue\n",
      "2022-09-30 11:08:27,067-[INFO]- dropbox:477 -> Request to files/list_folder/continue\n",
      "2022-09-30 11:08:28,175-[INFO]- dropbox:477 -> Request to files/list_folder/continue\n",
      "2022-09-30 11:08:28,901-[INFO]- dropbox:477 -> Request to files/list_folder/continue\n",
      "2022-09-30 11:08:30,476-[INFO]- dropbox:477 -> Request to files/list_folder/continue\n",
      "2022-09-30 11:08:31,211-[INFO]- dropbox:477 -> Request to files/list_folder/continue\n",
      "2022-09-30 11:08:31,998-[INFO]- dropbox:477 -> Request to files/list_folder/continue\n",
      "2022-09-30 11:08:33,101-[INFO]- dropbox:477 -> Request to files/list_folder/continue\n",
      "2022-09-30 11:08:33,897-[INFO]- dropbox:477 -> Request to files/list_folder/continue\n",
      "2022-09-30 11:08:34,750-[INFO]- dropbox:477 -> Request to files/list_folder/continue\n",
      "2022-09-30 11:08:37,264-[INFO]- dropbox:477 -> Request to files/list_folder/continue\n",
      "2022-09-30 11:08:38,083-[INFO]- dropbox:477 -> Request to files/list_folder/continue\n",
      "2022-09-30 11:08:38,867-[INFO]- dropbox:477 -> Request to files/list_folder/continue\n",
      "2022-09-30 11:08:39,607-[INFO]- dropbox:477 -> Request to files/list_folder/continue\n",
      "2022-09-30 11:08:40,739-[INFO]- dropbox:477 -> Request to files/list_folder/continue\n",
      "2022-09-30 11:08:42,148-[INFO]- dropbox:477 -> Request to files/list_folder/continue\n",
      "2022-09-30 11:08:42,904-[INFO]- dropbox:477 -> Request to files/list_folder/continue\n",
      "2022-09-30 11:08:43,678-[INFO]- dropbox:477 -> Request to files/list_folder/continue\n",
      "2022-09-30 11:08:45,021-[INFO]- dropbox:477 -> Request to files/list_folder/continue\n",
      "2022-09-30 11:08:45,773-[INFO]- dropbox:477 -> Request to files/list_folder/continue\n",
      "2022-09-30 11:08:46,601-[INFO]- dropbox:477 -> Request to files/list_folder/continue\n",
      "2022-09-30 11:08:47,325-[INFO]- dropbox:477 -> Request to files/list_folder/continue\n",
      "2022-09-30 11:08:48,148-[INFO]- dropbox:477 -> Request to files/list_folder/continue\n",
      "2022-09-30 11:08:48,925-[INFO]- dropbox:477 -> Request to files/list_folder/continue\n",
      "2022-09-30 11:08:49,744-[INFO]- dropbox:477 -> Request to files/list_folder/continue\n",
      "2022-09-30 11:08:50,531-[INFO]- dropbox:477 -> Request to files/list_folder/continue\n",
      "2022-09-30 11:08:51,578-[INFO]- dropbox:477 -> Request to files/list_folder/continue\n",
      "2022-09-30 11:08:52,409-[INFO]- dropbox:477 -> Request to files/list_folder/continue\n",
      "2022-09-30 11:08:53,257-[INFO]- dropbox:477 -> Request to files/list_folder/continue\n",
      "2022-09-30 11:08:54,868-[INFO]- dropbox:477 -> Request to files/list_folder/continue\n",
      "2022-09-30 11:08:55,654-[INFO]- dropbox:477 -> Request to files/list_folder/continue\n",
      "2022-09-30 11:08:56,409-[INFO]- dropbox:477 -> Request to files/list_folder/continue\n",
      "2022-09-30 11:08:57,865-[INFO]- dropbox:477 -> Request to files/list_folder/continue\n",
      "2022-09-30 11:08:58,641-[INFO]- dropbox:477 -> Request to files/list_folder/continue\n",
      "2022-09-30 11:09:03,265-[INFO]- dropbox:477 -> Request to files/list_folder/continue\n",
      "2022-09-30 11:09:04,043-[INFO]- dropbox:477 -> Request to files/list_folder/continue\n",
      "2022-09-30 11:09:04,815-[INFO]- dropbox:477 -> Request to files/list_folder/continue\n",
      "2022-09-30 11:09:05,607-[INFO]- dropbox:477 -> Request to files/list_folder/continue\n",
      "2022-09-30 11:09:06,537-[INFO]- dropbox:477 -> Request to files/list_folder/continue\n",
      "2022-09-30 11:09:09,083-[INFO]- dropbox:477 -> Request to files/list_folder/continue\n",
      "2022-09-30 11:09:09,892-[INFO]- dropbox:477 -> Request to files/list_folder/continue\n",
      "2022-09-30 11:09:10,731-[INFO]- dropbox:477 -> Request to files/list_folder/continue\n",
      "2022-09-30 11:09:11,413-[INFO]- dropbox:477 -> Request to files/list_folder/continue\n",
      "2022-09-30 11:09:12,026-[INFO]- dropbox:477 -> Request to files/list_folder/continue\n",
      "2022-09-30 11:09:13,366-[INFO]- dropbox:477 -> Request to files/list_folder/continue\n",
      "2022-09-30 11:09:14,181-[INFO]- dropbox:477 -> Request to files/list_folder/continue\n",
      "2022-09-30 11:09:15,148-[INFO]- dropbox:477 -> Request to files/list_folder/continue\n",
      "2022-09-30 11:09:16,208-[INFO]- dropbox:477 -> Request to files/list_folder/continue\n",
      "2022-09-30 11:09:17,032-[INFO]- dropbox:477 -> Request to files/list_folder/continue\n",
      "2022-09-30 11:09:17,919-[INFO]- dropbox:477 -> Request to files/list_folder/continue\n",
      "2022-09-30 11:09:18,977-[INFO]- dropbox:477 -> Request to files/list_folder/continue\n",
      "2022-09-30 11:09:19,788-[INFO]- dropbox:477 -> Request to files/list_folder/continue\n",
      "2022-09-30 11:09:20,566-[INFO]- dropbox:477 -> Request to files/list_folder/continue\n",
      "2022-09-30 11:09:21,496-[INFO]- dropbox:477 -> Request to files/list_folder/continue\n",
      "2022-09-30 11:09:22,361-[INFO]- dropbox:477 -> Request to files/list_folder/continue\n",
      "2022-09-30 11:09:23,208-[INFO]- dropbox:477 -> Request to files/list_folder/continue\n",
      "2022-09-30 11:09:24,023-[INFO]- dropbox:477 -> Request to files/list_folder/continue\n",
      "2022-09-30 11:09:25,190-[INFO]- dropbox:477 -> Request to files/list_folder/continue\n",
      "2022-09-30 11:09:26,487-[INFO]- dropbox:477 -> Request to files/list_folder/continue\n",
      "2022-09-30 11:09:28,539-[INFO]- dropbox:477 -> Request to files/list_folder/continue\n",
      "2022-09-30 11:09:29,437-[INFO]- dropbox:477 -> Request to files/list_folder/continue\n",
      "2022-09-30 11:09:30,834-[INFO]- dropbox:477 -> Request to files/list_folder/continue\n",
      "2022-09-30 11:09:31,715-[INFO]- dropbox:477 -> Request to files/list_folder/continue\n",
      "2022-09-30 11:09:32,528-[INFO]- dropbox:477 -> Request to files/list_folder/continue\n",
      "2022-09-30 11:09:33,393-[INFO]- dropbox:477 -> Request to files/list_folder/continue\n",
      "2022-09-30 11:09:34,346-[INFO]- dropbox:477 -> Request to files/list_folder/continue\n",
      "2022-09-30 11:09:35,317-[INFO]- dropbox:477 -> Request to files/list_folder/continue\n",
      "2022-09-30 11:09:36,233-[INFO]- dropbox:477 -> Request to files/list_folder/continue\n",
      "2022-09-30 11:09:36,972-[INFO]- dropbox:477 -> Request to files/list_folder/continue\n",
      "2022-09-30 11:09:37,690-[INFO]- dropbox:477 -> Request to files/list_folder/continue\n",
      "2022-09-30 11:09:38,766-[INFO]- dropbox:477 -> Request to files/list_folder/continue\n",
      "2022-09-30 11:09:39,557-[INFO]- dropbox:477 -> Request to files/list_folder/continue\n",
      "2022-09-30 11:09:40,579-[INFO]- dropbox:477 -> Request to files/list_folder/continue\n",
      "2022-09-30 11:09:41,556-[INFO]- dropbox:477 -> Request to files/list_folder/continue\n",
      "2022-09-30 11:09:42,230-[INFO]- dropbox:477 -> Request to files/list_folder/continue\n",
      "2022-09-30 11:09:42,945-[INFO]- dropbox:477 -> Request to files/list_folder/continue\n",
      "2022-09-30 11:09:43,600-[INFO]- dropbox:477 -> Request to files/list_folder/continue\n",
      "2022-09-30 11:09:44,295-[INFO]- dropbox:477 -> Request to files/list_folder/continue\n",
      "2022-09-30 11:09:45,033-[INFO]- dropbox:477 -> Request to files/list_folder/continue\n",
      "2022-09-30 11:09:45,761-[INFO]- dropbox:477 -> Request to files/list_folder/continue\n",
      "2022-09-30 11:09:46,439-[INFO]- dropbox:477 -> Request to files/list_folder/continue\n",
      "2022-09-30 11:09:47,584-[INFO]- dropbox:477 -> Request to files/list_folder/continue\n",
      "2022-09-30 11:09:49,330-[INFO]- dropbox:477 -> Request to files/list_folder/continue\n",
      "2022-09-30 11:09:50,231-[INFO]- dropbox:477 -> Request to files/list_folder/continue\n",
      "2022-09-30 11:09:50,920-[INFO]- dropbox:477 -> Request to files/list_folder/continue\n",
      "2022-09-30 11:09:51,646-[INFO]- dropbox:477 -> Request to files/list_folder/continue\n",
      "2022-09-30 11:09:52,406-[INFO]- dropbox:477 -> Request to files/list_folder/continue\n",
      "2022-09-30 11:09:53,167-[INFO]- dropbox:477 -> Request to files/list_folder/continue\n",
      "2022-09-30 11:09:53,851-[INFO]- dropbox:477 -> Request to files/list_folder/continue\n",
      "2022-09-30 11:09:54,553-[INFO]- dropbox:477 -> Request to files/list_folder/continue\n",
      "2022-09-30 11:09:55,206-[INFO]- dropbox:477 -> Request to files/list_folder/continue\n",
      "2022-09-30 11:09:55,912-[INFO]- dropbox:477 -> Request to files/list_folder/continue\n",
      "2022-09-30 11:09:56,791-[INFO]- dropbox:477 -> Request to files/list_folder/continue\n",
      "2022-09-30 11:09:57,503-[INFO]- dropbox:477 -> Request to files/list_folder/continue\n",
      "2022-09-30 11:09:58,635-[INFO]- dropbox:477 -> Request to files/list_folder/continue\n",
      "2022-09-30 11:09:59,313-[INFO]- dropbox:477 -> Request to files/list_folder/continue\n",
      "2022-09-30 11:09:59,993-[INFO]- dropbox:477 -> Request to files/list_folder/continue\n",
      "2022-09-30 11:10:00,777-[INFO]- dropbox:477 -> Request to files/list_folder/continue\n",
      "2022-09-30 11:10:01,571-[INFO]- dropbox:477 -> Request to files/list_folder/continue\n",
      "2022-09-30 11:10:02,520-[INFO]- dropbox:477 -> Request to files/list_folder/continue\n",
      "2022-09-30 11:10:03,291-[INFO]- dropbox:477 -> Request to files/list_folder/continue\n",
      "2022-09-30 11:10:03,999-[INFO]- dropbox:477 -> Request to files/list_folder/continue\n",
      "2022-09-30 11:10:04,732-[INFO]- dropbox:477 -> Request to files/list_folder/continue\n",
      "2022-09-30 11:10:05,412-[INFO]- dropbox:477 -> Request to files/list_folder/continue\n",
      "2022-09-30 11:10:06,189-[INFO]- dropbox:477 -> Request to files/list_folder/continue\n",
      "2022-09-30 11:10:06,893-[INFO]- dropbox:477 -> Request to files/list_folder/continue\n",
      "2022-09-30 11:10:07,614-[INFO]- dropbox:477 -> Request to files/list_folder/continue\n",
      "2022-09-30 11:10:08,354-[INFO]- dropbox:477 -> Request to files/list_folder/continue\n",
      "2022-09-30 11:10:09,065-[INFO]- dropbox:477 -> Request to files/list_folder/continue\n",
      "2022-09-30 11:10:09,757-[INFO]- dropbox:477 -> Request to files/list_folder/continue\n",
      "2022-09-30 11:10:10,445-[INFO]- dropbox:477 -> Request to files/list_folder/continue\n",
      "2022-09-30 11:10:11,308-[INFO]- dropbox:477 -> Request to files/list_folder/continue\n",
      "2022-09-30 11:10:12,370-[INFO]- dropbox:477 -> Request to files/list_folder/continue\n",
      "2022-09-30 11:10:13,054-[INFO]- dropbox:477 -> Request to files/list_folder/continue\n",
      "2022-09-30 11:10:13,780-[INFO]- dropbox:477 -> Request to files/list_folder/continue\n",
      "2022-09-30 11:10:14,525-[INFO]- dropbox:477 -> Request to files/list_folder/continue\n",
      "2022-09-30 11:10:15,186-[INFO]- dropbox:477 -> Request to files/list_folder/continue\n",
      "2022-09-30 11:10:15,920-[INFO]- dropbox:477 -> Request to files/list_folder/continue\n",
      "2022-09-30 11:10:16,703-[INFO]- dropbox:477 -> Request to files/list_folder/continue\n",
      "2022-09-30 11:10:17,405-[INFO]- dropbox:477 -> Request to files/list_folder/continue\n",
      "2022-09-30 11:10:18,122-[INFO]- dropbox:477 -> Request to files/list_folder/continue\n",
      "2022-09-30 11:10:18,822-[INFO]- dropbox:477 -> Request to files/list_folder/continue\n",
      "2022-09-30 11:10:19,482-[INFO]- dropbox:477 -> Request to files/list_folder/continue\n",
      "2022-09-30 11:10:20,285-[INFO]- dropbox:477 -> Request to files/list_folder/continue\n",
      "2022-09-30 11:10:21,042-[INFO]- dropbox:477 -> Request to files/list_folder/continue\n",
      "2022-09-30 11:10:21,642-[INFO]- dropbox:477 -> Request to files/list_folder/continue\n",
      "2022-09-30 11:10:22,013-[INFO]- dropbox:477 -> Request to files/list_folder/continue\n",
      "2022-09-30 11:10:22,393-[INFO]- dropbox:477 -> Request to files/list_folder/continue\n",
      "2022-09-30 11:10:22,898-[INFO]- dropbox:477 -> Request to files/list_folder/continue\n",
      "2022-09-30 11:10:23,456-[INFO]- dropbox:477 -> Request to files/list_folder/continue\n",
      "2022-09-30 11:10:23,896-[INFO]- dropbox:477 -> Request to files/list_folder/continue\n",
      "2022-09-30 11:10:24,310-[INFO]- dropbox:477 -> Request to files/list_folder/continue\n",
      "2022-09-30 11:10:25,047-[INFO]- dropbox:477 -> Request to files/list_folder/continue\n",
      "2022-09-30 11:10:25,715-[INFO]- dropbox:477 -> Request to files/list_folder/continue\n",
      "2022-09-30 11:10:26,396-[INFO]- dropbox:477 -> Request to files/list_folder/continue\n",
      "2022-09-30 11:10:27,111-[INFO]- dropbox:477 -> Request to files/list_folder/continue\n",
      "2022-09-30 11:10:27,799-[INFO]- dropbox:477 -> Request to files/list_folder/continue\n",
      "2022-09-30 11:10:28,489-[INFO]- dropbox:477 -> Request to files/list_folder/continue\n",
      "2022-09-30 11:10:29,182-[INFO]- dropbox:477 -> Request to files/list_folder/continue\n",
      "2022-09-30 11:10:29,837-[INFO]- dropbox:477 -> Request to files/list_folder/continue\n",
      "2022-09-30 11:10:30,576-[INFO]- dropbox:477 -> Request to files/list_folder/continue\n",
      "2022-09-30 11:10:31,295-[INFO]- dropbox:477 -> Request to files/list_folder/continue\n",
      "2022-09-30 11:10:32,033-[INFO]- dropbox:477 -> Request to files/list_folder/continue\n",
      "2022-09-30 11:10:33,033-[INFO]- dropbox:477 -> Request to files/list_folder/continue\n",
      "2022-09-30 11:10:34,200-[INFO]- dropbox:477 -> Request to files/list_folder/continue\n",
      "2022-09-30 11:10:34,856-[INFO]- dropbox:477 -> Request to files/list_folder/continue\n",
      "2022-09-30 11:10:35,583-[INFO]- dropbox:477 -> Request to files/list_folder/continue\n",
      "2022-09-30 11:10:36,273-[INFO]- dropbox:477 -> Request to files/list_folder/continue\n",
      "2022-09-30 11:10:36,963-[INFO]- dropbox:477 -> Request to files/list_folder/continue\n",
      "2022-09-30 11:10:37,696-[INFO]- dropbox:477 -> Request to files/list_folder/continue\n",
      "2022-09-30 11:10:38,429-[INFO]- dropbox:477 -> Request to files/list_folder/continue\n",
      "2022-09-30 11:10:39,248-[INFO]- dropbox:477 -> Request to files/list_folder/continue\n",
      "2022-09-30 11:10:39,971-[INFO]- dropbox:477 -> Request to files/list_folder/continue\n",
      "2022-09-30 11:10:40,714-[INFO]- dropbox:477 -> Request to files/list_folder/continue\n",
      "2022-09-30 11:10:42,159-[INFO]- dropbox:477 -> Request to files/list_folder/continue\n",
      "2022-09-30 11:10:42,936-[INFO]- dropbox:477 -> Request to files/list_folder/continue\n",
      "2022-09-30 11:10:43,650-[INFO]- dropbox:477 -> Request to files/list_folder/continue\n",
      "2022-09-30 11:10:44,352-[INFO]- dropbox:477 -> Request to files/list_folder/continue\n",
      "2022-09-30 11:10:45,072-[INFO]- dropbox:477 -> Request to files/list_folder/continue\n",
      "2022-09-30 11:10:45,813-[INFO]- dropbox:477 -> Request to files/list_folder/continue\n",
      "2022-09-30 11:10:46,524-[INFO]- dropbox:477 -> Request to files/list_folder/continue\n",
      "2022-09-30 11:10:47,254-[INFO]- dropbox:477 -> Request to files/list_folder/continue\n",
      "2022-09-30 11:10:47,948-[INFO]- dropbox:477 -> Request to files/list_folder/continue\n",
      "2022-09-30 11:10:48,672-[INFO]- dropbox:477 -> Request to files/list_folder/continue\n",
      "2022-09-30 11:10:49,597-[INFO]- dropbox:477 -> Request to files/list_folder/continue\n",
      "2022-09-30 11:10:50,871-[INFO]- dropbox:477 -> Request to files/list_folder/continue\n",
      "2022-09-30 11:10:51,783-[INFO]- dropbox:477 -> Request to files/list_folder/continue\n",
      "2022-09-30 11:10:52,887-[INFO]- dropbox:477 -> Request to files/list_folder/continue\n",
      "2022-09-30 11:10:53,991-[INFO]- dropbox:477 -> Request to files/list_folder/continue\n",
      "2022-09-30 11:10:54,868-[INFO]- dropbox:477 -> Request to files/list_folder/continue\n",
      "2022-09-30 11:10:55,721-[INFO]- dropbox:477 -> Request to files/list_folder/continue\n",
      "2022-09-30 11:10:57,314-[INFO]- dropbox:477 -> Request to files/list_folder/continue\n",
      "2022-09-30 11:10:58,750-[INFO]- dropbox:477 -> Request to files/list_folder/continue\n",
      "2022-09-30 11:10:59,643-[INFO]- dropbox:477 -> Request to files/list_folder/continue\n",
      "2022-09-30 11:11:00,506-[INFO]- dropbox:477 -> Request to files/list_folder/continue\n",
      "2022-09-30 11:11:01,449-[INFO]- dropbox:477 -> Request to files/list_folder/continue\n",
      "2022-09-30 11:11:02,290-[INFO]- dropbox:477 -> Request to files/list_folder/continue\n",
      "2022-09-30 11:11:03,083-[INFO]- dropbox:477 -> Request to files/list_folder/continue\n",
      "2022-09-30 11:11:03,734-[INFO]- dropbox:477 -> Request to files/list_folder/continue\n",
      "2022-09-30 11:11:04,413-[INFO]- dropbox:477 -> Request to files/list_folder/continue\n",
      "2022-09-30 11:11:05,139-[INFO]- dropbox:477 -> Request to files/list_folder/continue\n",
      "2022-09-30 11:11:06,145-[INFO]- dropbox:477 -> Request to files/list_folder/continue\n",
      "2022-09-30 11:11:06,933-[INFO]- dropbox:477 -> Request to files/list_folder/continue\n",
      "2022-09-30 11:11:07,637-[INFO]- dropbox:477 -> Request to files/list_folder/continue\n",
      "2022-09-30 11:11:08,640-[INFO]- dropbox:477 -> Request to files/list_folder/continue\n",
      "2022-09-30 11:11:09,348-[INFO]- dropbox:477 -> Request to files/list_folder/continue\n",
      "2022-09-30 11:11:11,113-[INFO]- dropbox:477 -> Request to files/list_folder/continue\n",
      "2022-09-30 11:11:12,035-[INFO]- dropbox:477 -> Request to files/list_folder/continue\n",
      "2022-09-30 11:11:13,089-[INFO]- dropbox:477 -> Request to files/list_folder/continue\n",
      "2022-09-30 11:11:13,835-[INFO]- dropbox:477 -> Request to files/list_folder/continue\n",
      "2022-09-30 11:11:14,518-[INFO]- dropbox:477 -> Request to files/list_folder/continue\n",
      "2022-09-30 11:11:15,353-[INFO]- dropbox:477 -> Request to files/list_folder/continue\n",
      "2022-09-30 11:11:16,181-[INFO]- dropbox:477 -> Request to files/list_folder/continue\n",
      "2022-09-30 11:11:16,902-[INFO]- dropbox:477 -> Request to files/list_folder/continue\n",
      "2022-09-30 11:11:17,631-[INFO]- dropbox:477 -> Request to files/list_folder/continue\n",
      "2022-09-30 11:11:18,369-[INFO]- dropbox:477 -> Request to files/list_folder/continue\n",
      "2022-09-30 11:11:19,501-[INFO]- dropbox:477 -> Request to files/list_folder/continue\n",
      "2022-09-30 11:11:20,363-[INFO]- dropbox:477 -> Request to files/list_folder/continue\n",
      "2022-09-30 11:11:21,435-[INFO]- dropbox:477 -> Request to files/list_folder/continue\n",
      "2022-09-30 11:11:22,190-[INFO]- dropbox:477 -> Request to files/list_folder/continue\n",
      "2022-09-30 11:11:22,907-[INFO]- dropbox:477 -> Request to files/list_folder/continue\n",
      "2022-09-30 11:11:23,656-[INFO]- dropbox:477 -> Request to files/list_folder/continue\n",
      "2022-09-30 11:11:24,353-[INFO]- dropbox:477 -> Request to files/list_folder/continue\n",
      "2022-09-30 11:11:25,101-[INFO]- dropbox:477 -> Request to files/list_folder/continue\n",
      "2022-09-30 11:11:25,840-[INFO]- dropbox:477 -> Request to files/list_folder/continue\n",
      "2022-09-30 11:11:26,538-[INFO]- dropbox:477 -> Request to files/list_folder/continue\n",
      "2022-09-30 11:11:27,331-[INFO]- dropbox:477 -> Request to files/list_folder/continue\n",
      "2022-09-30 11:11:28,045-[INFO]- dropbox:477 -> Request to files/list_folder/continue\n",
      "2022-09-30 11:11:28,684-[INFO]- dropbox:477 -> Request to files/list_folder/continue\n",
      "2022-09-30 11:11:29,370-[INFO]- dropbox:477 -> Request to files/list_folder/continue\n",
      "2022-09-30 11:11:30,116-[INFO]- dropbox:477 -> Request to files/list_folder/continue\n",
      "2022-09-30 11:11:30,822-[INFO]- dropbox:477 -> Request to files/list_folder/continue\n",
      "2022-09-30 11:11:31,545-[INFO]- dropbox:477 -> Request to files/list_folder/continue\n",
      "2022-09-30 11:11:32,580-[INFO]- dropbox:477 -> Request to files/list_folder/continue\n",
      "2022-09-30 11:11:33,256-[INFO]- dropbox:477 -> Request to files/list_folder/continue\n",
      "2022-09-30 11:11:33,979-[INFO]- dropbox:477 -> Request to files/list_folder/continue\n",
      "2022-09-30 11:11:34,623-[INFO]- dropbox:477 -> Request to files/list_folder/continue\n",
      "2022-09-30 11:11:35,303-[INFO]- dropbox:477 -> Request to files/list_folder/continue\n",
      "2022-09-30 11:11:36,010-[INFO]- dropbox:477 -> Request to files/list_folder/continue\n",
      "2022-09-30 11:11:36,679-[INFO]- dropbox:477 -> Request to files/list_folder/continue\n",
      "2022-09-30 11:11:37,341-[INFO]- dropbox:477 -> Request to files/list_folder/continue\n",
      "2022-09-30 11:11:38,041-[INFO]- dropbox:477 -> Request to files/list_folder/continue\n",
      "2022-09-30 11:11:38,792-[INFO]- dropbox:477 -> Request to files/list_folder/continue\n",
      "2022-09-30 11:11:39,535-[INFO]- dropbox:477 -> Request to files/list_folder/continue\n",
      "2022-09-30 11:11:40,259-[INFO]- dropbox:477 -> Request to files/list_folder/continue\n",
      "2022-09-30 11:11:41,049-[INFO]- dropbox:477 -> Request to files/list_folder/continue\n",
      "2022-09-30 11:11:42,129-[INFO]- dropbox:477 -> Request to files/list_folder/continue\n",
      "2022-09-30 11:11:43,021-[INFO]- dropbox:477 -> Request to files/list_folder/continue\n",
      "2022-09-30 11:11:43,908-[INFO]- dropbox:477 -> Request to files/list_folder/continue\n",
      "2022-09-30 11:11:44,844-[INFO]- dropbox:477 -> Request to files/list_folder/continue\n",
      "2022-09-30 11:11:45,709-[INFO]- dropbox:477 -> Request to files/list_folder/continue\n",
      "2022-09-30 11:11:47,103-[INFO]- dropbox:477 -> Request to files/list_folder/continue\n",
      "2022-09-30 11:11:47,961-[INFO]- dropbox:477 -> Request to files/list_folder/continue\n",
      "2022-09-30 11:11:48,902-[INFO]- dropbox:477 -> Request to files/list_folder/continue\n",
      "2022-09-30 11:11:49,923-[INFO]- dropbox:477 -> Request to files/list_folder/continue\n",
      "2022-09-30 11:11:50,860-[INFO]- dropbox:477 -> Request to files/list_folder/continue\n",
      "2022-09-30 11:11:51,875-[INFO]- dropbox:477 -> Request to files/list_folder/continue\n",
      "2022-09-30 11:11:53,008-[INFO]- dropbox:477 -> Request to files/list_folder/continue\n",
      "2022-09-30 11:11:53,807-[INFO]- dropbox:477 -> Request to files/list_folder/continue\n",
      "2022-09-30 11:11:54,688-[INFO]- dropbox:477 -> Request to files/list_folder/continue\n",
      "2022-09-30 11:11:55,503-[INFO]- dropbox:477 -> Request to files/list_folder/continue\n",
      "2022-09-30 11:11:56,326-[INFO]- dropbox:477 -> Request to files/list_folder/continue\n",
      "2022-09-30 11:11:57,091-[INFO]- dropbox:477 -> Request to files/list_folder/continue\n",
      "2022-09-30 11:11:57,890-[INFO]- dropbox:477 -> Request to files/list_folder/continue\n",
      "2022-09-30 11:11:58,605-[INFO]- dropbox:477 -> Request to files/list_folder/continue\n",
      "2022-09-30 11:11:59,400-[INFO]- dropbox:477 -> Request to files/list_folder/continue\n",
      "2022-09-30 11:12:00,160-[INFO]- dropbox:477 -> Request to files/list_folder/continue\n",
      "2022-09-30 11:12:00,963-[INFO]- dropbox:477 -> Request to files/list_folder/continue\n",
      "2022-09-30 11:12:01,587-[INFO]- dropbox:477 -> Request to files/list_folder/continue\n",
      "2022-09-30 11:12:02,599-[INFO]- dropbox:477 -> Request to files/list_folder/continue\n",
      "2022-09-30 11:12:03,253-[INFO]- dropbox:477 -> Request to files/list_folder/continue\n",
      "2022-09-30 11:12:04,012-[INFO]- dropbox:477 -> Request to files/list_folder/continue\n",
      "2022-09-30 11:12:04,780-[INFO]- dropbox:477 -> Request to files/list_folder/continue\n",
      "2022-09-30 11:12:05,597-[INFO]- dropbox:477 -> Request to files/list_folder/continue\n",
      "2022-09-30 11:12:06,347-[INFO]- dropbox:477 -> Request to files/list_folder/continue\n",
      "2022-09-30 11:12:07,071-[INFO]- dropbox:477 -> Request to files/list_folder/continue\n",
      "2022-09-30 11:12:07,948-[INFO]- dropbox:477 -> Request to files/list_folder/continue\n",
      "2022-09-30 11:12:09,126-[INFO]- dropbox:477 -> Request to files/list_folder/continue\n",
      "2022-09-30 11:12:09,974-[INFO]- dropbox:477 -> Request to files/list_folder/continue\n",
      "2022-09-30 11:12:10,805-[INFO]- dropbox:477 -> Request to files/list_folder/continue\n",
      "2022-09-30 11:12:12,219-[INFO]- dropbox:477 -> Request to files/list_folder/continue\n",
      "2022-09-30 11:12:12,983-[INFO]- dropbox:477 -> Request to files/list_folder/continue\n",
      "2022-09-30 11:12:13,777-[INFO]- dropbox:477 -> Request to files/list_folder/continue\n",
      "2022-09-30 11:12:14,555-[INFO]- dropbox:477 -> Request to files/list_folder/continue\n",
      "2022-09-30 11:12:15,738-[INFO]- dropbox:477 -> Request to files/list_folder/continue\n",
      "2022-09-30 11:12:16,543-[INFO]- dropbox:477 -> Request to files/list_folder/continue\n",
      "2022-09-30 11:12:17,291-[INFO]- dropbox:477 -> Request to files/list_folder/continue\n",
      "2022-09-30 11:12:18,204-[INFO]- dropbox:477 -> Request to files/list_folder/continue\n",
      "2022-09-30 11:12:19,062-[INFO]- dropbox:477 -> Request to files/list_folder/continue\n",
      "2022-09-30 11:12:19,927-[INFO]- dropbox:477 -> Request to files/list_folder/continue\n",
      "2022-09-30 11:12:20,760-[INFO]- dropbox:477 -> Request to files/list_folder/continue\n",
      "2022-09-30 11:12:21,687-[INFO]- dropbox:477 -> Request to files/list_folder/continue\n",
      "2022-09-30 11:12:22,588-[INFO]- dropbox:477 -> Request to files/list_folder/continue\n",
      "2022-09-30 11:12:23,656-[INFO]- dropbox:477 -> Request to files/list_folder/continue\n",
      "2022-09-30 11:12:24,430-[INFO]- dropbox:477 -> Request to files/list_folder/continue\n",
      "2022-09-30 11:12:25,322-[INFO]- dropbox:477 -> Request to files/list_folder/continue\n",
      "2022-09-30 11:12:26,020-[INFO]- dropbox:477 -> Request to files/list_folder/continue\n",
      "2022-09-30 11:12:26,777-[INFO]- dropbox:477 -> Request to files/list_folder/continue\n",
      "2022-09-30 11:12:27,586-[INFO]- dropbox:477 -> Request to files/list_folder/continue\n",
      "2022-09-30 11:12:28,524-[INFO]- dropbox:477 -> Request to files/list_folder/continue\n",
      "2022-09-30 11:12:29,473-[INFO]- dropbox:477 -> Request to files/list_folder/continue\n",
      "2022-09-30 11:12:30,317-[INFO]- dropbox:477 -> Request to files/list_folder/continue\n",
      "2022-09-30 11:12:31,411-[INFO]- dropbox:477 -> Request to files/list_folder/continue\n",
      "2022-09-30 11:12:32,240-[INFO]- dropbox:477 -> Request to files/list_folder/continue\n",
      "2022-09-30 11:12:33,023-[INFO]- dropbox:477 -> Request to files/list_folder/continue\n",
      "2022-09-30 11:12:33,844-[INFO]- dropbox:477 -> Request to files/list_folder/continue\n",
      "2022-09-30 11:12:34,642-[INFO]- dropbox:477 -> Request to files/list_folder/continue\n",
      "2022-09-30 11:12:35,212-[INFO]- dropbox:477 -> Request to files/list_folder/continue\n",
      "2022-09-30 11:12:36,474-[INFO]- dropbox:477 -> Request to files/list_folder/continue\n",
      "2022-09-30 11:12:37,369-[INFO]- dropbox:477 -> Request to files/list_folder/continue\n",
      "2022-09-30 11:12:38,325-[INFO]- dropbox:477 -> Request to files/list_folder/continue\n",
      "2022-09-30 11:12:39,213-[INFO]- dropbox:477 -> Request to files/list_folder/continue\n",
      "2022-09-30 11:12:40,273-[INFO]- dropbox:477 -> Request to files/list_folder/continue\n",
      "2022-09-30 11:12:41,209-[INFO]- dropbox:477 -> Request to files/list_folder/continue\n",
      "2022-09-30 11:12:42,026-[INFO]- dropbox:477 -> Request to files/list_folder/continue\n",
      "2022-09-30 11:12:42,810-[INFO]- dropbox:477 -> Request to files/list_folder/continue\n",
      "2022-09-30 11:12:43,596-[INFO]- dropbox:477 -> Request to files/list_folder/continue\n",
      "2022-09-30 11:12:44,389-[INFO]- dropbox:477 -> Request to files/list_folder/continue\n",
      "2022-09-30 11:12:45,238-[INFO]- dropbox:477 -> Request to files/list_folder/continue\n",
      "2022-09-30 11:12:46,241-[INFO]- dropbox:477 -> Request to files/list_folder/continue\n",
      "2022-09-30 11:12:47,121-[INFO]- dropbox:477 -> Request to files/list_folder/continue\n",
      "2022-09-30 11:12:48,080-[INFO]- dropbox:477 -> Request to files/list_folder/continue\n",
      "2022-09-30 11:12:49,005-[INFO]- dropbox:477 -> Request to files/list_folder/continue\n",
      "2022-09-30 11:12:49,542-[INFO]- dropbox:477 -> Request to files/list_folder/continue\n",
      "2022-09-30 11:12:50,469-[INFO]- dropbox:477 -> Request to files/list_folder/continue\n",
      "2022-09-30 11:12:51,358-[INFO]- dropbox:477 -> Request to files/list_folder/continue\n",
      "2022-09-30 11:12:52,481-[INFO]- dropbox:477 -> Request to files/list_folder/continue\n",
      "2022-09-30 11:12:53,343-[INFO]- dropbox:477 -> Request to files/list_folder/continue\n",
      "2022-09-30 11:12:54,110-[INFO]- dropbox:477 -> Request to files/list_folder/continue\n",
      "2022-09-30 11:12:55,010-[INFO]- dropbox:477 -> Request to files/list_folder/continue\n",
      "2022-09-30 11:12:56,153-[INFO]- dropbox:477 -> Request to files/list_folder/continue\n",
      "2022-09-30 11:12:57,051-[INFO]- dropbox:477 -> Request to files/list_folder/continue\n",
      "2022-09-30 11:12:57,917-[INFO]- dropbox:477 -> Request to files/list_folder/continue\n",
      "2022-09-30 11:12:58,593-[INFO]- dropbox:477 -> Request to files/list_folder/continue\n",
      "2022-09-30 11:12:59,386-[INFO]- dropbox:477 -> Request to files/list_folder/continue\n",
      "2022-09-30 11:13:00,165-[INFO]- dropbox:477 -> Request to files/list_folder/continue\n",
      "2022-09-30 11:13:01,081-[INFO]- dropbox:477 -> Request to files/list_folder/continue\n",
      "2022-09-30 11:13:01,938-[INFO]- dropbox:477 -> Request to files/list_folder/continue\n",
      "2022-09-30 11:13:02,717-[INFO]- dropbox:477 -> Request to files/list_folder/continue\n",
      "2022-09-30 11:13:04,006-[INFO]- dropbox:477 -> Request to files/list_folder/continue\n",
      "2022-09-30 11:13:04,706-[INFO]- dropbox:477 -> Request to files/list_folder/continue\n",
      "2022-09-30 11:13:05,522-[INFO]- dropbox:477 -> Request to files/list_folder/continue\n",
      "2022-09-30 11:13:06,494-[INFO]- dropbox:477 -> Request to files/list_folder/continue\n",
      "2022-09-30 11:13:07,609-[INFO]- dropbox:477 -> Request to files/list_folder/continue\n",
      "2022-09-30 11:13:08,473-[INFO]- dropbox:477 -> Request to files/list_folder/continue\n",
      "2022-09-30 11:13:09,312-[INFO]- dropbox:477 -> Request to files/list_folder/continue\n",
      "2022-09-30 11:13:10,197-[INFO]- dropbox:477 -> Request to files/list_folder/continue\n",
      "2022-09-30 11:13:11,026-[INFO]- dropbox:477 -> Request to files/list_folder/continue\n",
      "2022-09-30 11:13:11,590-[INFO]- dropbox:477 -> Request to files/list_folder/continue\n",
      "2022-09-30 11:13:12,204-[INFO]- dropbox:477 -> Request to files/list_folder/continue\n",
      "2022-09-30 11:13:12,637-[INFO]- dropbox:477 -> Request to files/list_folder/continue\n",
      "2022-09-30 11:13:13,580-[INFO]- dropbox:477 -> Request to files/list_folder/continue\n",
      "2022-09-30 11:13:15,060-[INFO]- dropbox:477 -> Request to files/list_folder/continue\n",
      "2022-09-30 11:13:17,765-[INFO]- dropbox:477 -> Request to files/list_folder/continue\n",
      "2022-09-30 11:13:18,066-[INFO]- dropbox:477 -> Request to files/list_folder/continue\n",
      "2022-09-30 11:13:18,595-[INFO]- dropbox:477 -> Request to files/list_folder/continue\n",
      "2022-09-30 11:13:19,328-[INFO]- dropbox:477 -> Request to files/list_folder/continue\n",
      "2022-09-30 11:13:19,896-[INFO]- dropbox:477 -> Request to files/list_folder/continue\n",
      "2022-09-30 11:13:20,436-[INFO]- dropbox:477 -> Request to files/list_folder/continue\n",
      "2022-09-30 11:13:21,022-[INFO]- dropbox:477 -> Request to files/list_folder/continue\n",
      "2022-09-30 11:13:21,818-[INFO]- dropbox:477 -> Request to files/list_folder/continue\n",
      "2022-09-30 11:13:22,369-[INFO]- dropbox:477 -> Request to files/list_folder/continue\n",
      "2022-09-30 11:13:23,007-[INFO]- dropbox:477 -> Request to files/list_folder/continue\n",
      "2022-09-30 11:13:24,872-[INFO]- dropbox:477 -> Request to files/list_folder/continue\n",
      "2022-09-30 11:13:25,668-[INFO]- dropbox:477 -> Request to files/list_folder/continue\n",
      "2022-09-30 11:13:27,349-[INFO]- dropbox:477 -> Request to files/list_folder/continue\n",
      "2022-09-30 11:13:28,707-[INFO]- dropbox:477 -> Request to files/list_folder/continue\n",
      "2022-09-30 11:13:29,419-[INFO]- dropbox:477 -> Request to files/list_folder/continue\n",
      "2022-09-30 11:13:33,460-[INFO]- dropbox:477 -> Request to files/list_folder/continue\n",
      "2022-09-30 11:13:34,309-[INFO]- dropbox:477 -> Request to files/list_folder/continue\n",
      "2022-09-30 11:13:35,255-[INFO]- dropbox:477 -> Request to files/list_folder/continue\n",
      "2022-09-30 11:13:36,660-[INFO]- dropbox:477 -> Request to files/list_folder/continue\n",
      "2022-09-30 11:13:37,801-[INFO]- dropbox:477 -> Request to files/list_folder/continue\n",
      "2022-09-30 11:13:38,494-[INFO]- dropbox:477 -> Request to files/list_folder/continue\n",
      "2022-09-30 11:13:39,246-[INFO]- dropbox:477 -> Request to files/list_folder/continue\n",
      "2022-09-30 11:13:40,220-[INFO]- dropbox:477 -> Request to files/list_folder/continue\n",
      "2022-09-30 11:13:41,202-[INFO]- dropbox:477 -> Request to files/list_folder/continue\n",
      "2022-09-30 11:13:42,077-[INFO]- dropbox:477 -> Request to files/list_folder/continue\n",
      "2022-09-30 11:13:43,061-[INFO]- dropbox:477 -> Request to files/list_folder/continue\n",
      "2022-09-30 11:13:43,945-[INFO]- dropbox:477 -> Request to files/list_folder/continue\n",
      "2022-09-30 11:13:44,915-[INFO]- dropbox:477 -> Request to files/list_folder/continue\n",
      "2022-09-30 11:13:45,859-[INFO]- dropbox:477 -> Request to files/list_folder/continue\n",
      "2022-09-30 11:13:46,729-[INFO]- dropbox:477 -> Request to files/list_folder/continue\n",
      "2022-09-30 11:13:47,450-[INFO]- dropbox:477 -> Request to files/list_folder/continue\n",
      "2022-09-30 11:13:48,207-[INFO]- dropbox:477 -> Request to files/list_folder/continue\n",
      "2022-09-30 11:13:48,936-[INFO]- dropbox:477 -> Request to files/list_folder/continue\n",
      "2022-09-30 11:13:50,430-[INFO]- dropbox:477 -> Request to files/list_folder/continue\n",
      "2022-09-30 11:13:51,317-[INFO]- dropbox:477 -> Request to files/list_folder/continue\n",
      "2022-09-30 11:13:52,679-[INFO]- dropbox:477 -> Request to files/list_folder/continue\n",
      "2022-09-30 11:13:53,596-[INFO]- dropbox:477 -> Request to files/list_folder/continue\n",
      "2022-09-30 11:13:54,462-[INFO]- dropbox:477 -> Request to files/list_folder/continue\n",
      "2022-09-30 11:13:55,382-[INFO]- dropbox:477 -> Request to files/list_folder/continue\n",
      "2022-09-30 11:13:56,590-[INFO]- dropbox:477 -> Request to files/list_folder/continue\n"
     ]
    }
   ],
   "source": [
    "all_folders_drop = get_dropbox_folders(\"/DATA/PRINCE\", True)"
   ]
  },
  {
   "cell_type": "code",
   "execution_count": 3,
   "metadata": {
    "tags": []
   },
   "outputs": [],
   "source": [
    "# folders_drop = all_folders_drop.loc[all_folders_drop['CrossDate'].between(\"20181015\",\"20201015\")]\n",
    "folders_drop = all_folders_drop.loc[all_folders_drop[\"Plate\"] == \"52\"]"
   ]
  },
  {
   "cell_type": "code",
   "execution_count": 6,
   "metadata": {
    "collapsed": true,
    "jupyter": {
     "outputs_hidden": true
    },
    "tags": []
   },
   "outputs": [
    {
     "data": {
      "text/html": [
       "<div>\n",
       "<style scoped>\n",
       "    .dataframe tbody tr th:only-of-type {\n",
       "        vertical-align: middle;\n",
       "    }\n",
       "\n",
       "    .dataframe tbody tr th {\n",
       "        vertical-align: top;\n",
       "    }\n",
       "\n",
       "    .dataframe thead th {\n",
       "        text-align: right;\n",
       "    }\n",
       "</style>\n",
       "<table border=\"1\" class=\"dataframe\">\n",
       "  <thead>\n",
       "    <tr style=\"text-align: right;\">\n",
       "      <th></th>\n",
       "      <th>folder</th>\n",
       "      <th>size</th>\n",
       "      <th>change_date</th>\n",
       "      <th>tot_path_drop</th>\n",
       "      <th>Plate</th>\n",
       "      <th>CrossDate</th>\n",
       "      <th>unique_id</th>\n",
       "    </tr>\n",
       "  </thead>\n",
       "  <tbody>\n",
       "    <tr>\n",
       "      <th>6743</th>\n",
       "      <td>20210105_1945_Plate40</td>\n",
       "      <td>NaN</td>\n",
       "      <td>2022-06-03 15:13:34</td>\n",
       "      <td>data/prince/102_20201226/20210105_1945_plate40</td>\n",
       "      <td>102</td>\n",
       "      <td>20201226</td>\n",
       "      <td>102_20201226</td>\n",
       "    </tr>\n",
       "    <tr>\n",
       "      <th>14633</th>\n",
       "      <td>20210113_0743_Plate40</td>\n",
       "      <td>NaN</td>\n",
       "      <td>2022-05-20 00:54:19</td>\n",
       "      <td>data/prince/102_20201226/20210113_0743_plate40</td>\n",
       "      <td>102</td>\n",
       "      <td>20201226</td>\n",
       "      <td>102_20201226</td>\n",
       "    </tr>\n",
       "    <tr>\n",
       "      <th>14637</th>\n",
       "      <td>20210113_0343_Plate40</td>\n",
       "      <td>NaN</td>\n",
       "      <td>2022-05-20 00:53:50</td>\n",
       "      <td>data/prince/102_20201226/20210113_0343_plate40</td>\n",
       "      <td>102</td>\n",
       "      <td>20201226</td>\n",
       "      <td>102_20201226</td>\n",
       "    </tr>\n",
       "    <tr>\n",
       "      <th>14638</th>\n",
       "      <td>20210112_2343_Plate40</td>\n",
       "      <td>NaN</td>\n",
       "      <td>2022-05-20 00:53:33</td>\n",
       "      <td>data/prince/102_20201226/20210112_2343_plate40</td>\n",
       "      <td>102</td>\n",
       "      <td>20201226</td>\n",
       "      <td>102_20201226</td>\n",
       "    </tr>\n",
       "    <tr>\n",
       "      <th>14642</th>\n",
       "      <td>20210112_1943_Plate40</td>\n",
       "      <td>NaN</td>\n",
       "      <td>2022-05-20 00:53:28</td>\n",
       "      <td>data/prince/102_20201226/20210112_1943_plate40</td>\n",
       "      <td>102</td>\n",
       "      <td>20201226</td>\n",
       "      <td>102_20201226</td>\n",
       "    </tr>\n",
       "    <tr>\n",
       "      <th>...</th>\n",
       "      <td>...</td>\n",
       "      <td>...</td>\n",
       "      <td>...</td>\n",
       "      <td>...</td>\n",
       "      <td>...</td>\n",
       "      <td>...</td>\n",
       "      <td>...</td>\n",
       "    </tr>\n",
       "    <tr>\n",
       "      <th>15383</th>\n",
       "      <td>20201227_0403_Plate40</td>\n",
       "      <td>NaN</td>\n",
       "      <td>2022-05-20 00:13:27</td>\n",
       "      <td>data/prince/102_20201226/20201227_0403_plate40</td>\n",
       "      <td>102</td>\n",
       "      <td>20201226</td>\n",
       "      <td>102_20201226</td>\n",
       "    </tr>\n",
       "    <tr>\n",
       "      <th>15388</th>\n",
       "      <td>20201227_0003_Plate40</td>\n",
       "      <td>NaN</td>\n",
       "      <td>2022-05-20 00:13:19</td>\n",
       "      <td>data/prince/102_20201226/20201227_0003_plate40</td>\n",
       "      <td>102</td>\n",
       "      <td>20201226</td>\n",
       "      <td>102_20201226</td>\n",
       "    </tr>\n",
       "    <tr>\n",
       "      <th>15410</th>\n",
       "      <td>20201226_2004_Plate40</td>\n",
       "      <td>NaN</td>\n",
       "      <td>2022-05-20 00:11:44</td>\n",
       "      <td>data/prince/102_20201226/20201226_2004_plate40</td>\n",
       "      <td>102</td>\n",
       "      <td>20201226</td>\n",
       "      <td>102_20201226</td>\n",
       "    </tr>\n",
       "    <tr>\n",
       "      <th>15424</th>\n",
       "      <td>20201226_1603_Plate40</td>\n",
       "      <td>NaN</td>\n",
       "      <td>2022-05-20 00:10:47</td>\n",
       "      <td>data/prince/102_20201226/20201226_1603_plate40</td>\n",
       "      <td>102</td>\n",
       "      <td>20201226</td>\n",
       "      <td>102_20201226</td>\n",
       "    </tr>\n",
       "    <tr>\n",
       "      <th>15440</th>\n",
       "      <td>20201226_1224_Plate40</td>\n",
       "      <td>NaN</td>\n",
       "      <td>2022-05-20 00:09:49</td>\n",
       "      <td>data/prince/102_20201226/20201226_1224_plate40</td>\n",
       "      <td>102</td>\n",
       "      <td>20201226</td>\n",
       "      <td>102_20201226</td>\n",
       "    </tr>\n",
       "  </tbody>\n",
       "</table>\n",
       "<p>103 rows × 7 columns</p>\n",
       "</div>"
      ],
      "text/plain": [
       "                      folder size         change_date  \\\n",
       "6743   20210105_1945_Plate40  NaN 2022-06-03 15:13:34   \n",
       "14633  20210113_0743_Plate40  NaN 2022-05-20 00:54:19   \n",
       "14637  20210113_0343_Plate40  NaN 2022-05-20 00:53:50   \n",
       "14638  20210112_2343_Plate40  NaN 2022-05-20 00:53:33   \n",
       "14642  20210112_1943_Plate40  NaN 2022-05-20 00:53:28   \n",
       "...                      ...  ...                 ...   \n",
       "15383  20201227_0403_Plate40  NaN 2022-05-20 00:13:27   \n",
       "15388  20201227_0003_Plate40  NaN 2022-05-20 00:13:19   \n",
       "15410  20201226_2004_Plate40  NaN 2022-05-20 00:11:44   \n",
       "15424  20201226_1603_Plate40  NaN 2022-05-20 00:10:47   \n",
       "15440  20201226_1224_Plate40  NaN 2022-05-20 00:09:49   \n",
       "\n",
       "                                        tot_path_drop Plate CrossDate  \\\n",
       "6743   data/prince/102_20201226/20210105_1945_plate40   102  20201226   \n",
       "14633  data/prince/102_20201226/20210113_0743_plate40   102  20201226   \n",
       "14637  data/prince/102_20201226/20210113_0343_plate40   102  20201226   \n",
       "14638  data/prince/102_20201226/20210112_2343_plate40   102  20201226   \n",
       "14642  data/prince/102_20201226/20210112_1943_plate40   102  20201226   \n",
       "...                                               ...   ...       ...   \n",
       "15383  data/prince/102_20201226/20201227_0403_plate40   102  20201226   \n",
       "15388  data/prince/102_20201226/20201227_0003_plate40   102  20201226   \n",
       "15410  data/prince/102_20201226/20201226_2004_plate40   102  20201226   \n",
       "15424  data/prince/102_20201226/20201226_1603_plate40   102  20201226   \n",
       "15440  data/prince/102_20201226/20201226_1224_plate40   102  20201226   \n",
       "\n",
       "          unique_id  \n",
       "6743   102_20201226  \n",
       "14633  102_20201226  \n",
       "14637  102_20201226  \n",
       "14638  102_20201226  \n",
       "14642  102_20201226  \n",
       "...             ...  \n",
       "15383  102_20201226  \n",
       "15388  102_20201226  \n",
       "15410  102_20201226  \n",
       "15424  102_20201226  \n",
       "15440  102_20201226  \n",
       "\n",
       "[103 rows x 7 columns]"
      ]
     },
     "execution_count": 6,
     "metadata": {},
     "output_type": "execute_result"
    }
   ],
   "source": [
    "folders_drop"
   ]
  },
  {
   "cell_type": "markdown",
   "metadata": {},
   "source": [
    "- select the path where the folders should go"
   ]
  },
  {
   "cell_type": "code",
   "execution_count": 4,
   "metadata": {},
   "outputs": [],
   "source": [
    "# directory_targ = '/mnt/sun-temp/TEMP/PRINCE_Felix/'\n",
    "directory_targ = '/mnt/sun/home-folder/bisot/PRINCE_test/'"
   ]
  },
  {
   "cell_type": "markdown",
   "metadata": {},
   "source": [
    "- use the 'from_drop.py' function including the folders of interest"
   ]
  },
  {
   "cell_type": "code",
   "execution_count": null,
   "metadata": {
    "collapsed": true,
    "jupyter": {
     "outputs_hidden": true
    },
    "tags": []
   },
   "outputs": [
    {
     "data": {
      "application/vnd.jupyter.widget-view+json": {
       "model_id": "adf1e014259541e49e623c5a06ea5b34",
       "version_major": 2,
       "version_minor": 0
      },
      "text/plain": [
       "folder_treated:   0%|          | 0/214 [00:00<?, ?it/s]"
      ]
     },
     "metadata": {},
     "output_type": "display_data"
    },
    {
     "name": "stdout",
     "output_type": "stream",
     "text": [
      "python3 /home/ipausers/bisot/pycode/MscThesis/amftrack/transfer/scripts/from_drop.py /mnt/sun/home-folder/bisot/PRINCE_test/ 1664529240467457025 0\n"
     ]
    },
    {
     "name": "stderr",
     "output_type": "stream",
     "text": [
      "/home/ipausers/bisot/miniconda3/envs/amftrack/lib/python3.9/site-packages/scipy/__init__.py:146: UserWarning: A NumPy version >=1.16.5 and <1.23.0 is required for this version of SciPy (detected version 1.23.1\n",
      "  warnings.warn(f\"A NumPy version >={np_minversion} and <{np_maxversion}\"\n"
     ]
    },
    {
     "name": "stdout",
     "output_type": "stream",
     "text": [
      "python3 /home/ipausers/bisot/pycode/MscThesis/amftrack/transfer/scripts/from_drop.py /mnt/sun/home-folder/bisot/PRINCE_test/ 1664529240467457025 1\n"
     ]
    },
    {
     "name": "stderr",
     "output_type": "stream",
     "text": [
      "/home/ipausers/bisot/miniconda3/envs/amftrack/lib/python3.9/site-packages/scipy/__init__.py:146: UserWarning: A NumPy version >=1.16.5 and <1.23.0 is required for this version of SciPy (detected version 1.23.1\n",
      "  warnings.warn(f\"A NumPy version >={np_minversion} and <{np_maxversion}\"\n"
     ]
    },
    {
     "name": "stdout",
     "output_type": "stream",
     "text": [
      "python3 /home/ipausers/bisot/pycode/MscThesis/amftrack/transfer/scripts/from_drop.py /mnt/sun/home-folder/bisot/PRINCE_test/ 1664529240467457025 2\n"
     ]
    },
    {
     "name": "stderr",
     "output_type": "stream",
     "text": [
      "/home/ipausers/bisot/miniconda3/envs/amftrack/lib/python3.9/site-packages/scipy/__init__.py:146: UserWarning: A NumPy version >=1.16.5 and <1.23.0 is required for this version of SciPy (detected version 1.23.1\n",
      "  warnings.warn(f\"A NumPy version >={np_minversion} and <{np_maxversion}\"\n"
     ]
    },
    {
     "name": "stdout",
     "output_type": "stream",
     "text": [
      "python3 /home/ipausers/bisot/pycode/MscThesis/amftrack/transfer/scripts/from_drop.py /mnt/sun/home-folder/bisot/PRINCE_test/ 1664529240467457025 3\n"
     ]
    },
    {
     "name": "stderr",
     "output_type": "stream",
     "text": [
      "/home/ipausers/bisot/miniconda3/envs/amftrack/lib/python3.9/site-packages/scipy/__init__.py:146: UserWarning: A NumPy version >=1.16.5 and <1.23.0 is required for this version of SciPy (detected version 1.23.1\n",
      "  warnings.warn(f\"A NumPy version >={np_minversion} and <{np_maxversion}\"\n"
     ]
    },
    {
     "name": "stdout",
     "output_type": "stream",
     "text": [
      "python3 /home/ipausers/bisot/pycode/MscThesis/amftrack/transfer/scripts/from_drop.py /mnt/sun/home-folder/bisot/PRINCE_test/ 1664529240467457025 4\n"
     ]
    },
    {
     "name": "stderr",
     "output_type": "stream",
     "text": [
      "/home/ipausers/bisot/miniconda3/envs/amftrack/lib/python3.9/site-packages/scipy/__init__.py:146: UserWarning: A NumPy version >=1.16.5 and <1.23.0 is required for this version of SciPy (detected version 1.23.1\n",
      "  warnings.warn(f\"A NumPy version >={np_minversion} and <{np_maxversion}\"\n"
     ]
    },
    {
     "name": "stdout",
     "output_type": "stream",
     "text": [
      "python3 /home/ipausers/bisot/pycode/MscThesis/amftrack/transfer/scripts/from_drop.py /mnt/sun/home-folder/bisot/PRINCE_test/ 1664529240467457025 5\n"
     ]
    },
    {
     "name": "stderr",
     "output_type": "stream",
     "text": [
      "/home/ipausers/bisot/miniconda3/envs/amftrack/lib/python3.9/site-packages/scipy/__init__.py:146: UserWarning: A NumPy version >=1.16.5 and <1.23.0 is required for this version of SciPy (detected version 1.23.1\n",
      "  warnings.warn(f\"A NumPy version >={np_minversion} and <{np_maxversion}\"\n"
     ]
    },
    {
     "name": "stdout",
     "output_type": "stream",
     "text": [
      "python3 /home/ipausers/bisot/pycode/MscThesis/amftrack/transfer/scripts/from_drop.py /mnt/sun/home-folder/bisot/PRINCE_test/ 1664529240467457025 6\n"
     ]
    },
    {
     "name": "stderr",
     "output_type": "stream",
     "text": [
      "/home/ipausers/bisot/miniconda3/envs/amftrack/lib/python3.9/site-packages/scipy/__init__.py:146: UserWarning: A NumPy version >=1.16.5 and <1.23.0 is required for this version of SciPy (detected version 1.23.1\n",
      "  warnings.warn(f\"A NumPy version >={np_minversion} and <{np_maxversion}\"\n"
     ]
    },
    {
     "name": "stdout",
     "output_type": "stream",
     "text": [
      "python3 /home/ipausers/bisot/pycode/MscThesis/amftrack/transfer/scripts/from_drop.py /mnt/sun/home-folder/bisot/PRINCE_test/ 1664529240467457025 7\n"
     ]
    },
    {
     "name": "stderr",
     "output_type": "stream",
     "text": [
      "/home/ipausers/bisot/miniconda3/envs/amftrack/lib/python3.9/site-packages/scipy/__init__.py:146: UserWarning: A NumPy version >=1.16.5 and <1.23.0 is required for this version of SciPy (detected version 1.23.1\n",
      "  warnings.warn(f\"A NumPy version >={np_minversion} and <{np_maxversion}\"\n"
     ]
    },
    {
     "name": "stdout",
     "output_type": "stream",
     "text": [
      "python3 /home/ipausers/bisot/pycode/MscThesis/amftrack/transfer/scripts/from_drop.py /mnt/sun/home-folder/bisot/PRINCE_test/ 1664529240467457025 8\n"
     ]
    },
    {
     "name": "stderr",
     "output_type": "stream",
     "text": [
      "/home/ipausers/bisot/miniconda3/envs/amftrack/lib/python3.9/site-packages/scipy/__init__.py:146: UserWarning: A NumPy version >=1.16.5 and <1.23.0 is required for this version of SciPy (detected version 1.23.1\n",
      "  warnings.warn(f\"A NumPy version >={np_minversion} and <{np_maxversion}\"\n"
     ]
    },
    {
     "name": "stdout",
     "output_type": "stream",
     "text": [
      "python3 /home/ipausers/bisot/pycode/MscThesis/amftrack/transfer/scripts/from_drop.py /mnt/sun/home-folder/bisot/PRINCE_test/ 1664529240467457025 9\n"
     ]
    },
    {
     "name": "stderr",
     "output_type": "stream",
     "text": [
      "/home/ipausers/bisot/miniconda3/envs/amftrack/lib/python3.9/site-packages/scipy/__init__.py:146: UserWarning: A NumPy version >=1.16.5 and <1.23.0 is required for this version of SciPy (detected version 1.23.1\n",
      "  warnings.warn(f\"A NumPy version >={np_minversion} and <{np_maxversion}\"\n"
     ]
    },
    {
     "name": "stdout",
     "output_type": "stream",
     "text": [
      "python3 /home/ipausers/bisot/pycode/MscThesis/amftrack/transfer/scripts/from_drop.py /mnt/sun/home-folder/bisot/PRINCE_test/ 1664529240467457025 10\n"
     ]
    },
    {
     "name": "stderr",
     "output_type": "stream",
     "text": [
      "/home/ipausers/bisot/miniconda3/envs/amftrack/lib/python3.9/site-packages/scipy/__init__.py:146: UserWarning: A NumPy version >=1.16.5 and <1.23.0 is required for this version of SciPy (detected version 1.23.1\n",
      "  warnings.warn(f\"A NumPy version >={np_minversion} and <{np_maxversion}\"\n"
     ]
    },
    {
     "name": "stdout",
     "output_type": "stream",
     "text": [
      "python3 /home/ipausers/bisot/pycode/MscThesis/amftrack/transfer/scripts/from_drop.py /mnt/sun/home-folder/bisot/PRINCE_test/ 1664529240467457025 11\n"
     ]
    },
    {
     "name": "stderr",
     "output_type": "stream",
     "text": [
      "/home/ipausers/bisot/miniconda3/envs/amftrack/lib/python3.9/site-packages/scipy/__init__.py:146: UserWarning: A NumPy version >=1.16.5 and <1.23.0 is required for this version of SciPy (detected version 1.23.1\n",
      "  warnings.warn(f\"A NumPy version >={np_minversion} and <{np_maxversion}\"\n"
     ]
    },
    {
     "name": "stdout",
     "output_type": "stream",
     "text": [
      "python3 /home/ipausers/bisot/pycode/MscThesis/amftrack/transfer/scripts/from_drop.py /mnt/sun/home-folder/bisot/PRINCE_test/ 1664529240467457025 12\n"
     ]
    },
    {
     "name": "stderr",
     "output_type": "stream",
     "text": [
      "/home/ipausers/bisot/miniconda3/envs/amftrack/lib/python3.9/site-packages/scipy/__init__.py:146: UserWarning: A NumPy version >=1.16.5 and <1.23.0 is required for this version of SciPy (detected version 1.23.1\n",
      "  warnings.warn(f\"A NumPy version >={np_minversion} and <{np_maxversion}\"\n"
     ]
    },
    {
     "name": "stdout",
     "output_type": "stream",
     "text": [
      "python3 /home/ipausers/bisot/pycode/MscThesis/amftrack/transfer/scripts/from_drop.py /mnt/sun/home-folder/bisot/PRINCE_test/ 1664529240467457025 13\n"
     ]
    },
    {
     "name": "stderr",
     "output_type": "stream",
     "text": [
      "/home/ipausers/bisot/miniconda3/envs/amftrack/lib/python3.9/site-packages/scipy/__init__.py:146: UserWarning: A NumPy version >=1.16.5 and <1.23.0 is required for this version of SciPy (detected version 1.23.1\n",
      "  warnings.warn(f\"A NumPy version >={np_minversion} and <{np_maxversion}\"\n"
     ]
    },
    {
     "name": "stdout",
     "output_type": "stream",
     "text": [
      "python3 /home/ipausers/bisot/pycode/MscThesis/amftrack/transfer/scripts/from_drop.py /mnt/sun/home-folder/bisot/PRINCE_test/ 1664529240467457025 14\n"
     ]
    },
    {
     "name": "stderr",
     "output_type": "stream",
     "text": [
      "/home/ipausers/bisot/miniconda3/envs/amftrack/lib/python3.9/site-packages/scipy/__init__.py:146: UserWarning: A NumPy version >=1.16.5 and <1.23.0 is required for this version of SciPy (detected version 1.23.1\n",
      "  warnings.warn(f\"A NumPy version >={np_minversion} and <{np_maxversion}\"\n"
     ]
    },
    {
     "name": "stdout",
     "output_type": "stream",
     "text": [
      "python3 /home/ipausers/bisot/pycode/MscThesis/amftrack/transfer/scripts/from_drop.py /mnt/sun/home-folder/bisot/PRINCE_test/ 1664529240467457025 15\n"
     ]
    },
    {
     "name": "stderr",
     "output_type": "stream",
     "text": [
      "/home/ipausers/bisot/miniconda3/envs/amftrack/lib/python3.9/site-packages/scipy/__init__.py:146: UserWarning: A NumPy version >=1.16.5 and <1.23.0 is required for this version of SciPy (detected version 1.23.1\n",
      "  warnings.warn(f\"A NumPy version >={np_minversion} and <{np_maxversion}\"\n"
     ]
    },
    {
     "name": "stdout",
     "output_type": "stream",
     "text": [
      "python3 /home/ipausers/bisot/pycode/MscThesis/amftrack/transfer/scripts/from_drop.py /mnt/sun/home-folder/bisot/PRINCE_test/ 1664529240467457025 16\n"
     ]
    },
    {
     "name": "stderr",
     "output_type": "stream",
     "text": [
      "/home/ipausers/bisot/miniconda3/envs/amftrack/lib/python3.9/site-packages/scipy/__init__.py:146: UserWarning: A NumPy version >=1.16.5 and <1.23.0 is required for this version of SciPy (detected version 1.23.1\n",
      "  warnings.warn(f\"A NumPy version >={np_minversion} and <{np_maxversion}\"\n"
     ]
    },
    {
     "name": "stdout",
     "output_type": "stream",
     "text": [
      "python3 /home/ipausers/bisot/pycode/MscThesis/amftrack/transfer/scripts/from_drop.py /mnt/sun/home-folder/bisot/PRINCE_test/ 1664529240467457025 17\n"
     ]
    },
    {
     "name": "stderr",
     "output_type": "stream",
     "text": [
      "/home/ipausers/bisot/miniconda3/envs/amftrack/lib/python3.9/site-packages/scipy/__init__.py:146: UserWarning: A NumPy version >=1.16.5 and <1.23.0 is required for this version of SciPy (detected version 1.23.1\n",
      "  warnings.warn(f\"A NumPy version >={np_minversion} and <{np_maxversion}\"\n"
     ]
    },
    {
     "name": "stdout",
     "output_type": "stream",
     "text": [
      "python3 /home/ipausers/bisot/pycode/MscThesis/amftrack/transfer/scripts/from_drop.py /mnt/sun/home-folder/bisot/PRINCE_test/ 1664529240467457025 18\n"
     ]
    },
    {
     "name": "stderr",
     "output_type": "stream",
     "text": [
      "/home/ipausers/bisot/miniconda3/envs/amftrack/lib/python3.9/site-packages/scipy/__init__.py:146: UserWarning: A NumPy version >=1.16.5 and <1.23.0 is required for this version of SciPy (detected version 1.23.1\n",
      "  warnings.warn(f\"A NumPy version >={np_minversion} and <{np_maxversion}\"\n"
     ]
    },
    {
     "name": "stdout",
     "output_type": "stream",
     "text": [
      "python3 /home/ipausers/bisot/pycode/MscThesis/amftrack/transfer/scripts/from_drop.py /mnt/sun/home-folder/bisot/PRINCE_test/ 1664529240467457025 19\n"
     ]
    },
    {
     "name": "stderr",
     "output_type": "stream",
     "text": [
      "/home/ipausers/bisot/miniconda3/envs/amftrack/lib/python3.9/site-packages/scipy/__init__.py:146: UserWarning: A NumPy version >=1.16.5 and <1.23.0 is required for this version of SciPy (detected version 1.23.1\n",
      "  warnings.warn(f\"A NumPy version >={np_minversion} and <{np_maxversion}\"\n"
     ]
    },
    {
     "name": "stdout",
     "output_type": "stream",
     "text": [
      "python3 /home/ipausers/bisot/pycode/MscThesis/amftrack/transfer/scripts/from_drop.py /mnt/sun/home-folder/bisot/PRINCE_test/ 1664529240467457025 20\n"
     ]
    },
    {
     "name": "stderr",
     "output_type": "stream",
     "text": [
      "/home/ipausers/bisot/miniconda3/envs/amftrack/lib/python3.9/site-packages/scipy/__init__.py:146: UserWarning: A NumPy version >=1.16.5 and <1.23.0 is required for this version of SciPy (detected version 1.23.1\n",
      "  warnings.warn(f\"A NumPy version >={np_minversion} and <{np_maxversion}\"\n"
     ]
    },
    {
     "name": "stdout",
     "output_type": "stream",
     "text": [
      "python3 /home/ipausers/bisot/pycode/MscThesis/amftrack/transfer/scripts/from_drop.py /mnt/sun/home-folder/bisot/PRINCE_test/ 1664529240467457025 21\n"
     ]
    },
    {
     "name": "stderr",
     "output_type": "stream",
     "text": [
      "/home/ipausers/bisot/miniconda3/envs/amftrack/lib/python3.9/site-packages/scipy/__init__.py:146: UserWarning: A NumPy version >=1.16.5 and <1.23.0 is required for this version of SciPy (detected version 1.23.1\n",
      "  warnings.warn(f\"A NumPy version >={np_minversion} and <{np_maxversion}\"\n"
     ]
    },
    {
     "name": "stdout",
     "output_type": "stream",
     "text": [
      "python3 /home/ipausers/bisot/pycode/MscThesis/amftrack/transfer/scripts/from_drop.py /mnt/sun/home-folder/bisot/PRINCE_test/ 1664529240467457025 22\n"
     ]
    },
    {
     "name": "stderr",
     "output_type": "stream",
     "text": [
      "/home/ipausers/bisot/miniconda3/envs/amftrack/lib/python3.9/site-packages/scipy/__init__.py:146: UserWarning: A NumPy version >=1.16.5 and <1.23.0 is required for this version of SciPy (detected version 1.23.1\n",
      "  warnings.warn(f\"A NumPy version >={np_minversion} and <{np_maxversion}\"\n",
      "Traceback (most recent call last):\n",
      "  File \"/home/ipausers/bisot/pycode/MscThesis/amftrack/transfer/scripts/from_drop.py\", line 7, in <module>\n",
      "    from amftrack.util.sys import temp_path\n",
      "  File \"/home/ipausers/bisot/pycode/MscThesis/amftrack/util/sys.py\", line 44, in <module>\n",
      "    dropbox_path = env_config.get(\"DROPBOX_PATH\")\n",
      "  File \"/home/ipausers/bisot/miniconda3/envs/amftrack/lib/python3.9/site-packages/decouple.py\", line 90, in get\n",
      "    raise UndefinedValueError('{} not found. Declare it as envvar or define a default value.'.format(option))\n",
      "decouple.UndefinedValueError: DROPBOX_PATH not found. Declare it as envvar or define a default value.\n"
     ]
    },
    {
     "name": "stdout",
     "output_type": "stream",
     "text": [
      "python3 /home/ipausers/bisot/pycode/MscThesis/amftrack/transfer/scripts/from_drop.py /mnt/sun/home-folder/bisot/PRINCE_test/ 1664529240467457025 23\n"
     ]
    },
    {
     "name": "stderr",
     "output_type": "stream",
     "text": [
      "/home/ipausers/bisot/miniconda3/envs/amftrack/lib/python3.9/site-packages/scipy/__init__.py:146: UserWarning: A NumPy version >=1.16.5 and <1.23.0 is required for this version of SciPy (detected version 1.23.1\n",
      "  warnings.warn(f\"A NumPy version >={np_minversion} and <{np_maxversion}\"\n",
      "Traceback (most recent call last):\n",
      "  File \"/home/ipausers/bisot/pycode/MscThesis/amftrack/transfer/scripts/from_drop.py\", line 7, in <module>\n",
      "    from amftrack.util.sys import temp_path\n",
      "  File \"/home/ipausers/bisot/pycode/MscThesis/amftrack/util/sys.py\", line 44, in <module>\n",
      "    dropbox_path = env_config.get(\"DROPBOX_PATH\")\n",
      "  File \"/home/ipausers/bisot/miniconda3/envs/amftrack/lib/python3.9/site-packages/decouple.py\", line 90, in get\n",
      "    raise UndefinedValueError('{} not found. Declare it as envvar or define a default value.'.format(option))\n",
      "decouple.UndefinedValueError: DROPBOX_PATH not found. Declare it as envvar or define a default value.\n"
     ]
    },
    {
     "name": "stdout",
     "output_type": "stream",
     "text": [
      "python3 /home/ipausers/bisot/pycode/MscThesis/amftrack/transfer/scripts/from_drop.py /mnt/sun/home-folder/bisot/PRINCE_test/ 1664529240467457025 24\n"
     ]
    },
    {
     "name": "stderr",
     "output_type": "stream",
     "text": [
      "/home/ipausers/bisot/miniconda3/envs/amftrack/lib/python3.9/site-packages/scipy/__init__.py:146: UserWarning: A NumPy version >=1.16.5 and <1.23.0 is required for this version of SciPy (detected version 1.23.1\n",
      "  warnings.warn(f\"A NumPy version >={np_minversion} and <{np_maxversion}\"\n",
      "Traceback (most recent call last):\n",
      "  File \"/home/ipausers/bisot/pycode/MscThesis/amftrack/transfer/scripts/from_drop.py\", line 7, in <module>\n",
      "    from amftrack.util.sys import temp_path\n",
      "  File \"/home/ipausers/bisot/pycode/MscThesis/amftrack/util/sys.py\", line 44, in <module>\n",
      "    dropbox_path = env_config.get(\"DROPBOX_PATH\")\n",
      "  File \"/home/ipausers/bisot/miniconda3/envs/amftrack/lib/python3.9/site-packages/decouple.py\", line 90, in get\n",
      "    raise UndefinedValueError('{} not found. Declare it as envvar or define a default value.'.format(option))\n",
      "decouple.UndefinedValueError: DROPBOX_PATH not found. Declare it as envvar or define a default value.\n"
     ]
    },
    {
     "name": "stdout",
     "output_type": "stream",
     "text": [
      "python3 /home/ipausers/bisot/pycode/MscThesis/amftrack/transfer/scripts/from_drop.py /mnt/sun/home-folder/bisot/PRINCE_test/ 1664529240467457025 25\n"
     ]
    },
    {
     "name": "stderr",
     "output_type": "stream",
     "text": [
      "/home/ipausers/bisot/miniconda3/envs/amftrack/lib/python3.9/site-packages/scipy/__init__.py:146: UserWarning: A NumPy version >=1.16.5 and <1.23.0 is required for this version of SciPy (detected version 1.23.1\n",
      "  warnings.warn(f\"A NumPy version >={np_minversion} and <{np_maxversion}\"\n",
      "Traceback (most recent call last):\n",
      "  File \"/home/ipausers/bisot/pycode/MscThesis/amftrack/transfer/scripts/from_drop.py\", line 7, in <module>\n",
      "    from amftrack.util.sys import temp_path\n",
      "  File \"/home/ipausers/bisot/pycode/MscThesis/amftrack/util/sys.py\", line 44, in <module>\n",
      "    dropbox_path = env_config.get(\"DROPBOX_PATH\")\n",
      "  File \"/home/ipausers/bisot/miniconda3/envs/amftrack/lib/python3.9/site-packages/decouple.py\", line 90, in get\n",
      "    raise UndefinedValueError('{} not found. Declare it as envvar or define a default value.'.format(option))\n",
      "decouple.UndefinedValueError: DROPBOX_PATH not found. Declare it as envvar or define a default value.\n"
     ]
    },
    {
     "name": "stdout",
     "output_type": "stream",
     "text": [
      "python3 /home/ipausers/bisot/pycode/MscThesis/amftrack/transfer/scripts/from_drop.py /mnt/sun/home-folder/bisot/PRINCE_test/ 1664529240467457025 26\n"
     ]
    },
    {
     "name": "stderr",
     "output_type": "stream",
     "text": [
      "/home/ipausers/bisot/miniconda3/envs/amftrack/lib/python3.9/site-packages/scipy/__init__.py:146: UserWarning: A NumPy version >=1.16.5 and <1.23.0 is required for this version of SciPy (detected version 1.23.1\n",
      "  warnings.warn(f\"A NumPy version >={np_minversion} and <{np_maxversion}\"\n",
      "Traceback (most recent call last):\n",
      "  File \"/home/ipausers/bisot/pycode/MscThesis/amftrack/transfer/scripts/from_drop.py\", line 7, in <module>\n",
      "    from amftrack.util.sys import temp_path\n",
      "  File \"/home/ipausers/bisot/pycode/MscThesis/amftrack/util/sys.py\", line 44, in <module>\n",
      "    dropbox_path = env_config.get(\"DROPBOX_PATH\")\n",
      "  File \"/home/ipausers/bisot/miniconda3/envs/amftrack/lib/python3.9/site-packages/decouple.py\", line 90, in get\n",
      "    raise UndefinedValueError('{} not found. Declare it as envvar or define a default value.'.format(option))\n",
      "decouple.UndefinedValueError: DROPBOX_PATH not found. Declare it as envvar or define a default value.\n"
     ]
    },
    {
     "name": "stdout",
     "output_type": "stream",
     "text": [
      "python3 /home/ipausers/bisot/pycode/MscThesis/amftrack/transfer/scripts/from_drop.py /mnt/sun/home-folder/bisot/PRINCE_test/ 1664529240467457025 27\n"
     ]
    },
    {
     "name": "stderr",
     "output_type": "stream",
     "text": [
      "/home/ipausers/bisot/miniconda3/envs/amftrack/lib/python3.9/site-packages/scipy/__init__.py:146: UserWarning: A NumPy version >=1.16.5 and <1.23.0 is required for this version of SciPy (detected version 1.23.1\n",
      "  warnings.warn(f\"A NumPy version >={np_minversion} and <{np_maxversion}\"\n",
      "Traceback (most recent call last):\n",
      "  File \"/home/ipausers/bisot/pycode/MscThesis/amftrack/transfer/scripts/from_drop.py\", line 7, in <module>\n",
      "    from amftrack.util.sys import temp_path\n",
      "  File \"/home/ipausers/bisot/pycode/MscThesis/amftrack/util/sys.py\", line 44, in <module>\n",
      "    dropbox_path = env_config.get(\"DROPBOX_PATH\")\n",
      "  File \"/home/ipausers/bisot/miniconda3/envs/amftrack/lib/python3.9/site-packages/decouple.py\", line 90, in get\n",
      "    raise UndefinedValueError('{} not found. Declare it as envvar or define a default value.'.format(option))\n",
      "decouple.UndefinedValueError: DROPBOX_PATH not found. Declare it as envvar or define a default value.\n"
     ]
    },
    {
     "name": "stdout",
     "output_type": "stream",
     "text": [
      "python3 /home/ipausers/bisot/pycode/MscThesis/amftrack/transfer/scripts/from_drop.py /mnt/sun/home-folder/bisot/PRINCE_test/ 1664529240467457025 28\n"
     ]
    },
    {
     "name": "stderr",
     "output_type": "stream",
     "text": [
      "/home/ipausers/bisot/miniconda3/envs/amftrack/lib/python3.9/site-packages/scipy/__init__.py:146: UserWarning: A NumPy version >=1.16.5 and <1.23.0 is required for this version of SciPy (detected version 1.23.1\n",
      "  warnings.warn(f\"A NumPy version >={np_minversion} and <{np_maxversion}\"\n",
      "Traceback (most recent call last):\n",
      "  File \"/home/ipausers/bisot/pycode/MscThesis/amftrack/transfer/scripts/from_drop.py\", line 7, in <module>\n",
      "    from amftrack.util.sys import temp_path\n",
      "  File \"/home/ipausers/bisot/pycode/MscThesis/amftrack/util/sys.py\", line 44, in <module>\n",
      "    dropbox_path = env_config.get(\"DROPBOX_PATH\")\n",
      "  File \"/home/ipausers/bisot/miniconda3/envs/amftrack/lib/python3.9/site-packages/decouple.py\", line 90, in get\n",
      "    raise UndefinedValueError('{} not found. Declare it as envvar or define a default value.'.format(option))\n",
      "decouple.UndefinedValueError: DROPBOX_PATH not found. Declare it as envvar or define a default value.\n"
     ]
    },
    {
     "name": "stdout",
     "output_type": "stream",
     "text": [
      "python3 /home/ipausers/bisot/pycode/MscThesis/amftrack/transfer/scripts/from_drop.py /mnt/sun/home-folder/bisot/PRINCE_test/ 1664529240467457025 29\n"
     ]
    },
    {
     "name": "stderr",
     "output_type": "stream",
     "text": [
      "/home/ipausers/bisot/miniconda3/envs/amftrack/lib/python3.9/site-packages/scipy/__init__.py:146: UserWarning: A NumPy version >=1.16.5 and <1.23.0 is required for this version of SciPy (detected version 1.23.1\n",
      "  warnings.warn(f\"A NumPy version >={np_minversion} and <{np_maxversion}\"\n",
      "Traceback (most recent call last):\n",
      "  File \"/home/ipausers/bisot/pycode/MscThesis/amftrack/transfer/scripts/from_drop.py\", line 7, in <module>\n",
      "    from amftrack.util.sys import temp_path\n",
      "  File \"/home/ipausers/bisot/pycode/MscThesis/amftrack/util/sys.py\", line 44, in <module>\n",
      "    dropbox_path = env_config.get(\"DROPBOX_PATH\")\n",
      "  File \"/home/ipausers/bisot/miniconda3/envs/amftrack/lib/python3.9/site-packages/decouple.py\", line 90, in get\n",
      "    raise UndefinedValueError('{} not found. Declare it as envvar or define a default value.'.format(option))\n",
      "decouple.UndefinedValueError: DROPBOX_PATH not found. Declare it as envvar or define a default value.\n"
     ]
    },
    {
     "name": "stdout",
     "output_type": "stream",
     "text": [
      "python3 /home/ipausers/bisot/pycode/MscThesis/amftrack/transfer/scripts/from_drop.py /mnt/sun/home-folder/bisot/PRINCE_test/ 1664529240467457025 30\n"
     ]
    },
    {
     "name": "stderr",
     "output_type": "stream",
     "text": [
      "/home/ipausers/bisot/miniconda3/envs/amftrack/lib/python3.9/site-packages/scipy/__init__.py:146: UserWarning: A NumPy version >=1.16.5 and <1.23.0 is required for this version of SciPy (detected version 1.23.1\n",
      "  warnings.warn(f\"A NumPy version >={np_minversion} and <{np_maxversion}\"\n",
      "Traceback (most recent call last):\n",
      "  File \"/home/ipausers/bisot/pycode/MscThesis/amftrack/transfer/scripts/from_drop.py\", line 7, in <module>\n",
      "    from amftrack.util.sys import temp_path\n",
      "  File \"/home/ipausers/bisot/pycode/MscThesis/amftrack/util/sys.py\", line 44, in <module>\n",
      "    dropbox_path = env_config.get(\"DROPBOX_PATH\")\n",
      "  File \"/home/ipausers/bisot/miniconda3/envs/amftrack/lib/python3.9/site-packages/decouple.py\", line 90, in get\n",
      "    raise UndefinedValueError('{} not found. Declare it as envvar or define a default value.'.format(option))\n",
      "decouple.UndefinedValueError: DROPBOX_PATH not found. Declare it as envvar or define a default value.\n"
     ]
    },
    {
     "name": "stdout",
     "output_type": "stream",
     "text": [
      "python3 /home/ipausers/bisot/pycode/MscThesis/amftrack/transfer/scripts/from_drop.py /mnt/sun/home-folder/bisot/PRINCE_test/ 1664529240467457025 31\n"
     ]
    },
    {
     "name": "stderr",
     "output_type": "stream",
     "text": [
      "/home/ipausers/bisot/miniconda3/envs/amftrack/lib/python3.9/site-packages/scipy/__init__.py:146: UserWarning: A NumPy version >=1.16.5 and <1.23.0 is required for this version of SciPy (detected version 1.23.1\n",
      "  warnings.warn(f\"A NumPy version >={np_minversion} and <{np_maxversion}\"\n",
      "Traceback (most recent call last):\n",
      "  File \"/home/ipausers/bisot/pycode/MscThesis/amftrack/transfer/scripts/from_drop.py\", line 7, in <module>\n",
      "    from amftrack.util.sys import temp_path\n",
      "  File \"/home/ipausers/bisot/pycode/MscThesis/amftrack/util/sys.py\", line 44, in <module>\n",
      "    dropbox_path = env_config.get(\"DROPBOX_PATH\")\n",
      "  File \"/home/ipausers/bisot/miniconda3/envs/amftrack/lib/python3.9/site-packages/decouple.py\", line 90, in get\n",
      "    raise UndefinedValueError('{} not found. Declare it as envvar or define a default value.'.format(option))\n",
      "decouple.UndefinedValueError: DROPBOX_PATH not found. Declare it as envvar or define a default value.\n"
     ]
    },
    {
     "name": "stdout",
     "output_type": "stream",
     "text": [
      "python3 /home/ipausers/bisot/pycode/MscThesis/amftrack/transfer/scripts/from_drop.py /mnt/sun/home-folder/bisot/PRINCE_test/ 1664529240467457025 32\n"
     ]
    },
    {
     "name": "stderr",
     "output_type": "stream",
     "text": [
      "/home/ipausers/bisot/miniconda3/envs/amftrack/lib/python3.9/site-packages/scipy/__init__.py:146: UserWarning: A NumPy version >=1.16.5 and <1.23.0 is required for this version of SciPy (detected version 1.23.1\n",
      "  warnings.warn(f\"A NumPy version >={np_minversion} and <{np_maxversion}\"\n",
      "Traceback (most recent call last):\n",
      "  File \"/home/ipausers/bisot/pycode/MscThesis/amftrack/transfer/scripts/from_drop.py\", line 7, in <module>\n",
      "    from amftrack.util.sys import temp_path\n",
      "  File \"/home/ipausers/bisot/pycode/MscThesis/amftrack/util/sys.py\", line 44, in <module>\n",
      "    dropbox_path = env_config.get(\"DROPBOX_PATH\")\n",
      "  File \"/home/ipausers/bisot/miniconda3/envs/amftrack/lib/python3.9/site-packages/decouple.py\", line 90, in get\n",
      "    raise UndefinedValueError('{} not found. Declare it as envvar or define a default value.'.format(option))\n",
      "decouple.UndefinedValueError: DROPBOX_PATH not found. Declare it as envvar or define a default value.\n"
     ]
    },
    {
     "name": "stdout",
     "output_type": "stream",
     "text": [
      "python3 /home/ipausers/bisot/pycode/MscThesis/amftrack/transfer/scripts/from_drop.py /mnt/sun/home-folder/bisot/PRINCE_test/ 1664529240467457025 33\n"
     ]
    },
    {
     "name": "stderr",
     "output_type": "stream",
     "text": [
      "/home/ipausers/bisot/miniconda3/envs/amftrack/lib/python3.9/site-packages/scipy/__init__.py:146: UserWarning: A NumPy version >=1.16.5 and <1.23.0 is required for this version of SciPy (detected version 1.23.1\n",
      "  warnings.warn(f\"A NumPy version >={np_minversion} and <{np_maxversion}\"\n",
      "Traceback (most recent call last):\n",
      "  File \"/home/ipausers/bisot/pycode/MscThesis/amftrack/transfer/scripts/from_drop.py\", line 7, in <module>\n",
      "    from amftrack.util.sys import temp_path\n",
      "  File \"/home/ipausers/bisot/pycode/MscThesis/amftrack/util/sys.py\", line 44, in <module>\n",
      "    dropbox_path = env_config.get(\"DROPBOX_PATH\")\n",
      "  File \"/home/ipausers/bisot/miniconda3/envs/amftrack/lib/python3.9/site-packages/decouple.py\", line 90, in get\n",
      "    raise UndefinedValueError('{} not found. Declare it as envvar or define a default value.'.format(option))\n",
      "decouple.UndefinedValueError: DROPBOX_PATH not found. Declare it as envvar or define a default value.\n"
     ]
    },
    {
     "name": "stdout",
     "output_type": "stream",
     "text": [
      "python3 /home/ipausers/bisot/pycode/MscThesis/amftrack/transfer/scripts/from_drop.py /mnt/sun/home-folder/bisot/PRINCE_test/ 1664529240467457025 34\n"
     ]
    },
    {
     "name": "stderr",
     "output_type": "stream",
     "text": [
      "/home/ipausers/bisot/miniconda3/envs/amftrack/lib/python3.9/site-packages/scipy/__init__.py:146: UserWarning: A NumPy version >=1.16.5 and <1.23.0 is required for this version of SciPy (detected version 1.23.1\n",
      "  warnings.warn(f\"A NumPy version >={np_minversion} and <{np_maxversion}\"\n",
      "Traceback (most recent call last):\n",
      "  File \"/home/ipausers/bisot/pycode/MscThesis/amftrack/transfer/scripts/from_drop.py\", line 7, in <module>\n",
      "    from amftrack.util.sys import temp_path\n",
      "  File \"/home/ipausers/bisot/pycode/MscThesis/amftrack/util/sys.py\", line 44, in <module>\n",
      "    dropbox_path = env_config.get(\"DROPBOX_PATH\")\n",
      "  File \"/home/ipausers/bisot/miniconda3/envs/amftrack/lib/python3.9/site-packages/decouple.py\", line 90, in get\n",
      "    raise UndefinedValueError('{} not found. Declare it as envvar or define a default value.'.format(option))\n",
      "decouple.UndefinedValueError: DROPBOX_PATH not found. Declare it as envvar or define a default value.\n"
     ]
    },
    {
     "name": "stdout",
     "output_type": "stream",
     "text": [
      "python3 /home/ipausers/bisot/pycode/MscThesis/amftrack/transfer/scripts/from_drop.py /mnt/sun/home-folder/bisot/PRINCE_test/ 1664529240467457025 35\n"
     ]
    },
    {
     "name": "stderr",
     "output_type": "stream",
     "text": [
      "/home/ipausers/bisot/miniconda3/envs/amftrack/lib/python3.9/site-packages/scipy/__init__.py:146: UserWarning: A NumPy version >=1.16.5 and <1.23.0 is required for this version of SciPy (detected version 1.23.1\n",
      "  warnings.warn(f\"A NumPy version >={np_minversion} and <{np_maxversion}\"\n",
      "Traceback (most recent call last):\n",
      "  File \"/home/ipausers/bisot/pycode/MscThesis/amftrack/transfer/scripts/from_drop.py\", line 7, in <module>\n",
      "    from amftrack.util.sys import temp_path\n",
      "  File \"/home/ipausers/bisot/pycode/MscThesis/amftrack/util/sys.py\", line 44, in <module>\n",
      "    dropbox_path = env_config.get(\"DROPBOX_PATH\")\n",
      "  File \"/home/ipausers/bisot/miniconda3/envs/amftrack/lib/python3.9/site-packages/decouple.py\", line 90, in get\n",
      "    raise UndefinedValueError('{} not found. Declare it as envvar or define a default value.'.format(option))\n",
      "decouple.UndefinedValueError: DROPBOX_PATH not found. Declare it as envvar or define a default value.\n"
     ]
    },
    {
     "name": "stdout",
     "output_type": "stream",
     "text": [
      "python3 /home/ipausers/bisot/pycode/MscThesis/amftrack/transfer/scripts/from_drop.py /mnt/sun/home-folder/bisot/PRINCE_test/ 1664529240467457025 36\n"
     ]
    },
    {
     "name": "stderr",
     "output_type": "stream",
     "text": [
      "/home/ipausers/bisot/miniconda3/envs/amftrack/lib/python3.9/site-packages/scipy/__init__.py:146: UserWarning: A NumPy version >=1.16.5 and <1.23.0 is required for this version of SciPy (detected version 1.23.1\n",
      "  warnings.warn(f\"A NumPy version >={np_minversion} and <{np_maxversion}\"\n",
      "Traceback (most recent call last):\n",
      "  File \"/home/ipausers/bisot/pycode/MscThesis/amftrack/transfer/scripts/from_drop.py\", line 7, in <module>\n",
      "    from amftrack.util.sys import temp_path\n",
      "  File \"/home/ipausers/bisot/pycode/MscThesis/amftrack/util/sys.py\", line 44, in <module>\n",
      "    dropbox_path = env_config.get(\"DROPBOX_PATH\")\n",
      "  File \"/home/ipausers/bisot/miniconda3/envs/amftrack/lib/python3.9/site-packages/decouple.py\", line 90, in get\n",
      "    raise UndefinedValueError('{} not found. Declare it as envvar or define a default value.'.format(option))\n",
      "decouple.UndefinedValueError: DROPBOX_PATH not found. Declare it as envvar or define a default value.\n"
     ]
    },
    {
     "name": "stdout",
     "output_type": "stream",
     "text": [
      "python3 /home/ipausers/bisot/pycode/MscThesis/amftrack/transfer/scripts/from_drop.py /mnt/sun/home-folder/bisot/PRINCE_test/ 1664529240467457025 37\n"
     ]
    },
    {
     "name": "stderr",
     "output_type": "stream",
     "text": [
      "/home/ipausers/bisot/miniconda3/envs/amftrack/lib/python3.9/site-packages/scipy/__init__.py:146: UserWarning: A NumPy version >=1.16.5 and <1.23.0 is required for this version of SciPy (detected version 1.23.1\n",
      "  warnings.warn(f\"A NumPy version >={np_minversion} and <{np_maxversion}\"\n",
      "Traceback (most recent call last):\n",
      "  File \"/home/ipausers/bisot/pycode/MscThesis/amftrack/transfer/scripts/from_drop.py\", line 7, in <module>\n",
      "    from amftrack.util.sys import temp_path\n",
      "  File \"/home/ipausers/bisot/pycode/MscThesis/amftrack/util/sys.py\", line 44, in <module>\n",
      "    dropbox_path = env_config.get(\"DROPBOX_PATH\")\n",
      "  File \"/home/ipausers/bisot/miniconda3/envs/amftrack/lib/python3.9/site-packages/decouple.py\", line 90, in get\n",
      "    raise UndefinedValueError('{} not found. Declare it as envvar or define a default value.'.format(option))\n",
      "decouple.UndefinedValueError: DROPBOX_PATH not found. Declare it as envvar or define a default value.\n"
     ]
    },
    {
     "name": "stdout",
     "output_type": "stream",
     "text": [
      "python3 /home/ipausers/bisot/pycode/MscThesis/amftrack/transfer/scripts/from_drop.py /mnt/sun/home-folder/bisot/PRINCE_test/ 1664529240467457025 38\n"
     ]
    },
    {
     "name": "stderr",
     "output_type": "stream",
     "text": [
      "/home/ipausers/bisot/miniconda3/envs/amftrack/lib/python3.9/site-packages/scipy/__init__.py:146: UserWarning: A NumPy version >=1.16.5 and <1.23.0 is required for this version of SciPy (detected version 1.23.1\n",
      "  warnings.warn(f\"A NumPy version >={np_minversion} and <{np_maxversion}\"\n",
      "Traceback (most recent call last):\n",
      "  File \"/home/ipausers/bisot/pycode/MscThesis/amftrack/transfer/scripts/from_drop.py\", line 7, in <module>\n",
      "    from amftrack.util.sys import temp_path\n",
      "  File \"/home/ipausers/bisot/pycode/MscThesis/amftrack/util/sys.py\", line 44, in <module>\n",
      "    dropbox_path = env_config.get(\"DROPBOX_PATH\")\n",
      "  File \"/home/ipausers/bisot/miniconda3/envs/amftrack/lib/python3.9/site-packages/decouple.py\", line 90, in get\n",
      "    raise UndefinedValueError('{} not found. Declare it as envvar or define a default value.'.format(option))\n",
      "decouple.UndefinedValueError: DROPBOX_PATH not found. Declare it as envvar or define a default value.\n"
     ]
    },
    {
     "name": "stdout",
     "output_type": "stream",
     "text": [
      "python3 /home/ipausers/bisot/pycode/MscThesis/amftrack/transfer/scripts/from_drop.py /mnt/sun/home-folder/bisot/PRINCE_test/ 1664529240467457025 39\n"
     ]
    },
    {
     "name": "stderr",
     "output_type": "stream",
     "text": [
      "/home/ipausers/bisot/miniconda3/envs/amftrack/lib/python3.9/site-packages/scipy/__init__.py:146: UserWarning: A NumPy version >=1.16.5 and <1.23.0 is required for this version of SciPy (detected version 1.23.1\n",
      "  warnings.warn(f\"A NumPy version >={np_minversion} and <{np_maxversion}\"\n",
      "Traceback (most recent call last):\n",
      "  File \"/home/ipausers/bisot/pycode/MscThesis/amftrack/transfer/scripts/from_drop.py\", line 7, in <module>\n",
      "    from amftrack.util.sys import temp_path\n",
      "  File \"/home/ipausers/bisot/pycode/MscThesis/amftrack/util/sys.py\", line 44, in <module>\n",
      "    dropbox_path = env_config.get(\"DROPBOX_PATH\")\n",
      "  File \"/home/ipausers/bisot/miniconda3/envs/amftrack/lib/python3.9/site-packages/decouple.py\", line 90, in get\n",
      "    raise UndefinedValueError('{} not found. Declare it as envvar or define a default value.'.format(option))\n",
      "decouple.UndefinedValueError: DROPBOX_PATH not found. Declare it as envvar or define a default value.\n"
     ]
    },
    {
     "name": "stdout",
     "output_type": "stream",
     "text": [
      "python3 /home/ipausers/bisot/pycode/MscThesis/amftrack/transfer/scripts/from_drop.py /mnt/sun/home-folder/bisot/PRINCE_test/ 1664529240467457025 40\n"
     ]
    },
    {
     "name": "stderr",
     "output_type": "stream",
     "text": [
      "/home/ipausers/bisot/miniconda3/envs/amftrack/lib/python3.9/site-packages/scipy/__init__.py:146: UserWarning: A NumPy version >=1.16.5 and <1.23.0 is required for this version of SciPy (detected version 1.23.1\n",
      "  warnings.warn(f\"A NumPy version >={np_minversion} and <{np_maxversion}\"\n",
      "Traceback (most recent call last):\n",
      "  File \"/home/ipausers/bisot/pycode/MscThesis/amftrack/transfer/scripts/from_drop.py\", line 7, in <module>\n",
      "    from amftrack.util.sys import temp_path\n",
      "  File \"/home/ipausers/bisot/pycode/MscThesis/amftrack/util/sys.py\", line 44, in <module>\n",
      "    dropbox_path = env_config.get(\"DROPBOX_PATH\")\n",
      "  File \"/home/ipausers/bisot/miniconda3/envs/amftrack/lib/python3.9/site-packages/decouple.py\", line 90, in get\n",
      "    raise UndefinedValueError('{} not found. Declare it as envvar or define a default value.'.format(option))\n",
      "decouple.UndefinedValueError: DROPBOX_PATH not found. Declare it as envvar or define a default value.\n"
     ]
    },
    {
     "name": "stdout",
     "output_type": "stream",
     "text": [
      "python3 /home/ipausers/bisot/pycode/MscThesis/amftrack/transfer/scripts/from_drop.py /mnt/sun/home-folder/bisot/PRINCE_test/ 1664529240467457025 41\n"
     ]
    },
    {
     "name": "stderr",
     "output_type": "stream",
     "text": [
      "/home/ipausers/bisot/miniconda3/envs/amftrack/lib/python3.9/site-packages/scipy/__init__.py:146: UserWarning: A NumPy version >=1.16.5 and <1.23.0 is required for this version of SciPy (detected version 1.23.1\n",
      "  warnings.warn(f\"A NumPy version >={np_minversion} and <{np_maxversion}\"\n",
      "Traceback (most recent call last):\n",
      "  File \"/home/ipausers/bisot/pycode/MscThesis/amftrack/transfer/scripts/from_drop.py\", line 7, in <module>\n",
      "    from amftrack.util.sys import temp_path\n",
      "  File \"/home/ipausers/bisot/pycode/MscThesis/amftrack/util/sys.py\", line 44, in <module>\n",
      "    dropbox_path = env_config.get(\"DROPBOX_PATH\")\n",
      "  File \"/home/ipausers/bisot/miniconda3/envs/amftrack/lib/python3.9/site-packages/decouple.py\", line 90, in get\n",
      "    raise UndefinedValueError('{} not found. Declare it as envvar or define a default value.'.format(option))\n",
      "decouple.UndefinedValueError: DROPBOX_PATH not found. Declare it as envvar or define a default value.\n"
     ]
    },
    {
     "name": "stdout",
     "output_type": "stream",
     "text": [
      "python3 /home/ipausers/bisot/pycode/MscThesis/amftrack/transfer/scripts/from_drop.py /mnt/sun/home-folder/bisot/PRINCE_test/ 1664529240467457025 42\n"
     ]
    },
    {
     "name": "stderr",
     "output_type": "stream",
     "text": [
      "/home/ipausers/bisot/miniconda3/envs/amftrack/lib/python3.9/site-packages/scipy/__init__.py:146: UserWarning: A NumPy version >=1.16.5 and <1.23.0 is required for this version of SciPy (detected version 1.23.1\n",
      "  warnings.warn(f\"A NumPy version >={np_minversion} and <{np_maxversion}\"\n",
      "Traceback (most recent call last):\n",
      "  File \"/home/ipausers/bisot/pycode/MscThesis/amftrack/transfer/scripts/from_drop.py\", line 7, in <module>\n",
      "    from amftrack.util.sys import temp_path\n",
      "  File \"/home/ipausers/bisot/pycode/MscThesis/amftrack/util/sys.py\", line 44, in <module>\n",
      "    dropbox_path = env_config.get(\"DROPBOX_PATH\")\n",
      "  File \"/home/ipausers/bisot/miniconda3/envs/amftrack/lib/python3.9/site-packages/decouple.py\", line 90, in get\n",
      "    raise UndefinedValueError('{} not found. Declare it as envvar or define a default value.'.format(option))\n",
      "decouple.UndefinedValueError: DROPBOX_PATH not found. Declare it as envvar or define a default value.\n"
     ]
    },
    {
     "name": "stdout",
     "output_type": "stream",
     "text": [
      "python3 /home/ipausers/bisot/pycode/MscThesis/amftrack/transfer/scripts/from_drop.py /mnt/sun/home-folder/bisot/PRINCE_test/ 1664529240467457025 43\n"
     ]
    },
    {
     "name": "stderr",
     "output_type": "stream",
     "text": [
      "/home/ipausers/bisot/miniconda3/envs/amftrack/lib/python3.9/site-packages/scipy/__init__.py:146: UserWarning: A NumPy version >=1.16.5 and <1.23.0 is required for this version of SciPy (detected version 1.23.1\n",
      "  warnings.warn(f\"A NumPy version >={np_minversion} and <{np_maxversion}\"\n",
      "Traceback (most recent call last):\n",
      "  File \"/home/ipausers/bisot/pycode/MscThesis/amftrack/transfer/scripts/from_drop.py\", line 7, in <module>\n",
      "    from amftrack.util.sys import temp_path\n",
      "  File \"/home/ipausers/bisot/pycode/MscThesis/amftrack/util/sys.py\", line 44, in <module>\n",
      "    dropbox_path = env_config.get(\"DROPBOX_PATH\")\n",
      "  File \"/home/ipausers/bisot/miniconda3/envs/amftrack/lib/python3.9/site-packages/decouple.py\", line 90, in get\n",
      "    raise UndefinedValueError('{} not found. Declare it as envvar or define a default value.'.format(option))\n",
      "decouple.UndefinedValueError: DROPBOX_PATH not found. Declare it as envvar or define a default value.\n"
     ]
    },
    {
     "name": "stdout",
     "output_type": "stream",
     "text": [
      "python3 /home/ipausers/bisot/pycode/MscThesis/amftrack/transfer/scripts/from_drop.py /mnt/sun/home-folder/bisot/PRINCE_test/ 1664529240467457025 44\n"
     ]
    },
    {
     "name": "stderr",
     "output_type": "stream",
     "text": [
      "/home/ipausers/bisot/miniconda3/envs/amftrack/lib/python3.9/site-packages/scipy/__init__.py:146: UserWarning: A NumPy version >=1.16.5 and <1.23.0 is required for this version of SciPy (detected version 1.23.1\n",
      "  warnings.warn(f\"A NumPy version >={np_minversion} and <{np_maxversion}\"\n",
      "Traceback (most recent call last):\n",
      "  File \"/home/ipausers/bisot/pycode/MscThesis/amftrack/transfer/scripts/from_drop.py\", line 7, in <module>\n",
      "    from amftrack.util.sys import temp_path\n",
      "  File \"/home/ipausers/bisot/pycode/MscThesis/amftrack/util/sys.py\", line 44, in <module>\n",
      "    dropbox_path = env_config.get(\"DROPBOX_PATH\")\n",
      "  File \"/home/ipausers/bisot/miniconda3/envs/amftrack/lib/python3.9/site-packages/decouple.py\", line 90, in get\n",
      "    raise UndefinedValueError('{} not found. Declare it as envvar or define a default value.'.format(option))\n",
      "decouple.UndefinedValueError: DROPBOX_PATH not found. Declare it as envvar or define a default value.\n"
     ]
    },
    {
     "name": "stdout",
     "output_type": "stream",
     "text": [
      "python3 /home/ipausers/bisot/pycode/MscThesis/amftrack/transfer/scripts/from_drop.py /mnt/sun/home-folder/bisot/PRINCE_test/ 1664529240467457025 45\n"
     ]
    },
    {
     "name": "stderr",
     "output_type": "stream",
     "text": [
      "/home/ipausers/bisot/miniconda3/envs/amftrack/lib/python3.9/site-packages/scipy/__init__.py:146: UserWarning: A NumPy version >=1.16.5 and <1.23.0 is required for this version of SciPy (detected version 1.23.1\n",
      "  warnings.warn(f\"A NumPy version >={np_minversion} and <{np_maxversion}\"\n",
      "Traceback (most recent call last):\n",
      "  File \"/home/ipausers/bisot/pycode/MscThesis/amftrack/transfer/scripts/from_drop.py\", line 7, in <module>\n",
      "    from amftrack.util.sys import temp_path\n",
      "  File \"/home/ipausers/bisot/pycode/MscThesis/amftrack/util/sys.py\", line 44, in <module>\n",
      "    dropbox_path = env_config.get(\"DROPBOX_PATH\")\n",
      "  File \"/home/ipausers/bisot/miniconda3/envs/amftrack/lib/python3.9/site-packages/decouple.py\", line 90, in get\n",
      "    raise UndefinedValueError('{} not found. Declare it as envvar or define a default value.'.format(option))\n",
      "decouple.UndefinedValueError: DROPBOX_PATH not found. Declare it as envvar or define a default value.\n"
     ]
    },
    {
     "name": "stdout",
     "output_type": "stream",
     "text": [
      "python3 /home/ipausers/bisot/pycode/MscThesis/amftrack/transfer/scripts/from_drop.py /mnt/sun/home-folder/bisot/PRINCE_test/ 1664529240467457025 46\n"
     ]
    },
    {
     "name": "stderr",
     "output_type": "stream",
     "text": [
      "/home/ipausers/bisot/miniconda3/envs/amftrack/lib/python3.9/site-packages/scipy/__init__.py:146: UserWarning: A NumPy version >=1.16.5 and <1.23.0 is required for this version of SciPy (detected version 1.23.1\n",
      "  warnings.warn(f\"A NumPy version >={np_minversion} and <{np_maxversion}\"\n",
      "Traceback (most recent call last):\n",
      "  File \"/home/ipausers/bisot/pycode/MscThesis/amftrack/transfer/scripts/from_drop.py\", line 7, in <module>\n",
      "    from amftrack.util.sys import temp_path\n",
      "  File \"/home/ipausers/bisot/pycode/MscThesis/amftrack/util/sys.py\", line 44, in <module>\n",
      "    dropbox_path = env_config.get(\"DROPBOX_PATH\")\n",
      "  File \"/home/ipausers/bisot/miniconda3/envs/amftrack/lib/python3.9/site-packages/decouple.py\", line 90, in get\n",
      "    raise UndefinedValueError('{} not found. Declare it as envvar or define a default value.'.format(option))\n",
      "decouple.UndefinedValueError: DROPBOX_PATH not found. Declare it as envvar or define a default value.\n"
     ]
    },
    {
     "name": "stdout",
     "output_type": "stream",
     "text": [
      "python3 /home/ipausers/bisot/pycode/MscThesis/amftrack/transfer/scripts/from_drop.py /mnt/sun/home-folder/bisot/PRINCE_test/ 1664529240467457025 47\n"
     ]
    },
    {
     "name": "stderr",
     "output_type": "stream",
     "text": [
      "/home/ipausers/bisot/miniconda3/envs/amftrack/lib/python3.9/site-packages/scipy/__init__.py:146: UserWarning: A NumPy version >=1.16.5 and <1.23.0 is required for this version of SciPy (detected version 1.23.1\n",
      "  warnings.warn(f\"A NumPy version >={np_minversion} and <{np_maxversion}\"\n",
      "Traceback (most recent call last):\n",
      "  File \"/home/ipausers/bisot/pycode/MscThesis/amftrack/transfer/scripts/from_drop.py\", line 7, in <module>\n",
      "    from amftrack.util.sys import temp_path\n",
      "  File \"/home/ipausers/bisot/pycode/MscThesis/amftrack/util/sys.py\", line 44, in <module>\n",
      "    dropbox_path = env_config.get(\"DROPBOX_PATH\")\n",
      "  File \"/home/ipausers/bisot/miniconda3/envs/amftrack/lib/python3.9/site-packages/decouple.py\", line 90, in get\n",
      "    raise UndefinedValueError('{} not found. Declare it as envvar or define a default value.'.format(option))\n",
      "decouple.UndefinedValueError: DROPBOX_PATH not found. Declare it as envvar or define a default value.\n"
     ]
    },
    {
     "name": "stdout",
     "output_type": "stream",
     "text": [
      "python3 /home/ipausers/bisot/pycode/MscThesis/amftrack/transfer/scripts/from_drop.py /mnt/sun/home-folder/bisot/PRINCE_test/ 1664529240467457025 48\n"
     ]
    },
    {
     "name": "stderr",
     "output_type": "stream",
     "text": [
      "/home/ipausers/bisot/miniconda3/envs/amftrack/lib/python3.9/site-packages/scipy/__init__.py:146: UserWarning: A NumPy version >=1.16.5 and <1.23.0 is required for this version of SciPy (detected version 1.23.1\n",
      "  warnings.warn(f\"A NumPy version >={np_minversion} and <{np_maxversion}\"\n",
      "Traceback (most recent call last):\n",
      "  File \"/home/ipausers/bisot/pycode/MscThesis/amftrack/transfer/scripts/from_drop.py\", line 7, in <module>\n",
      "    from amftrack.util.sys import temp_path\n",
      "  File \"/home/ipausers/bisot/pycode/MscThesis/amftrack/util/sys.py\", line 44, in <module>\n",
      "    dropbox_path = env_config.get(\"DROPBOX_PATH\")\n",
      "  File \"/home/ipausers/bisot/miniconda3/envs/amftrack/lib/python3.9/site-packages/decouple.py\", line 90, in get\n",
      "    raise UndefinedValueError('{} not found. Declare it as envvar or define a default value.'.format(option))\n",
      "decouple.UndefinedValueError: DROPBOX_PATH not found. Declare it as envvar or define a default value.\n"
     ]
    },
    {
     "name": "stdout",
     "output_type": "stream",
     "text": [
      "python3 /home/ipausers/bisot/pycode/MscThesis/amftrack/transfer/scripts/from_drop.py /mnt/sun/home-folder/bisot/PRINCE_test/ 1664529240467457025 49\n"
     ]
    },
    {
     "name": "stderr",
     "output_type": "stream",
     "text": [
      "/home/ipausers/bisot/miniconda3/envs/amftrack/lib/python3.9/site-packages/scipy/__init__.py:146: UserWarning: A NumPy version >=1.16.5 and <1.23.0 is required for this version of SciPy (detected version 1.23.1\n",
      "  warnings.warn(f\"A NumPy version >={np_minversion} and <{np_maxversion}\"\n",
      "Traceback (most recent call last):\n",
      "  File \"/home/ipausers/bisot/pycode/MscThesis/amftrack/transfer/scripts/from_drop.py\", line 7, in <module>\n",
      "    from amftrack.util.sys import temp_path\n",
      "  File \"/home/ipausers/bisot/pycode/MscThesis/amftrack/util/sys.py\", line 44, in <module>\n",
      "    dropbox_path = env_config.get(\"DROPBOX_PATH\")\n",
      "  File \"/home/ipausers/bisot/miniconda3/envs/amftrack/lib/python3.9/site-packages/decouple.py\", line 90, in get\n",
      "    raise UndefinedValueError('{} not found. Declare it as envvar or define a default value.'.format(option))\n",
      "decouple.UndefinedValueError: DROPBOX_PATH not found. Declare it as envvar or define a default value.\n"
     ]
    },
    {
     "name": "stdout",
     "output_type": "stream",
     "text": [
      "python3 /home/ipausers/bisot/pycode/MscThesis/amftrack/transfer/scripts/from_drop.py /mnt/sun/home-folder/bisot/PRINCE_test/ 1664529240467457025 50\n"
     ]
    },
    {
     "name": "stderr",
     "output_type": "stream",
     "text": [
      "/home/ipausers/bisot/miniconda3/envs/amftrack/lib/python3.9/site-packages/scipy/__init__.py:146: UserWarning: A NumPy version >=1.16.5 and <1.23.0 is required for this version of SciPy (detected version 1.23.1\n",
      "  warnings.warn(f\"A NumPy version >={np_minversion} and <{np_maxversion}\"\n",
      "Traceback (most recent call last):\n",
      "  File \"/home/ipausers/bisot/pycode/MscThesis/amftrack/transfer/scripts/from_drop.py\", line 7, in <module>\n",
      "    from amftrack.util.sys import temp_path\n",
      "  File \"/home/ipausers/bisot/pycode/MscThesis/amftrack/util/sys.py\", line 44, in <module>\n",
      "    dropbox_path = env_config.get(\"DROPBOX_PATH\")\n",
      "  File \"/home/ipausers/bisot/miniconda3/envs/amftrack/lib/python3.9/site-packages/decouple.py\", line 90, in get\n",
      "    raise UndefinedValueError('{} not found. Declare it as envvar or define a default value.'.format(option))\n",
      "decouple.UndefinedValueError: DROPBOX_PATH not found. Declare it as envvar or define a default value.\n"
     ]
    },
    {
     "name": "stdout",
     "output_type": "stream",
     "text": [
      "python3 /home/ipausers/bisot/pycode/MscThesis/amftrack/transfer/scripts/from_drop.py /mnt/sun/home-folder/bisot/PRINCE_test/ 1664529240467457025 51\n"
     ]
    },
    {
     "name": "stderr",
     "output_type": "stream",
     "text": [
      "/home/ipausers/bisot/miniconda3/envs/amftrack/lib/python3.9/site-packages/scipy/__init__.py:146: UserWarning: A NumPy version >=1.16.5 and <1.23.0 is required for this version of SciPy (detected version 1.23.1\n",
      "  warnings.warn(f\"A NumPy version >={np_minversion} and <{np_maxversion}\"\n",
      "Traceback (most recent call last):\n",
      "  File \"/home/ipausers/bisot/pycode/MscThesis/amftrack/transfer/scripts/from_drop.py\", line 7, in <module>\n",
      "    from amftrack.util.sys import temp_path\n",
      "  File \"/home/ipausers/bisot/pycode/MscThesis/amftrack/util/sys.py\", line 44, in <module>\n",
      "    dropbox_path = env_config.get(\"DROPBOX_PATH\")\n",
      "  File \"/home/ipausers/bisot/miniconda3/envs/amftrack/lib/python3.9/site-packages/decouple.py\", line 90, in get\n",
      "    raise UndefinedValueError('{} not found. Declare it as envvar or define a default value.'.format(option))\n",
      "decouple.UndefinedValueError: DROPBOX_PATH not found. Declare it as envvar or define a default value.\n"
     ]
    },
    {
     "name": "stdout",
     "output_type": "stream",
     "text": [
      "python3 /home/ipausers/bisot/pycode/MscThesis/amftrack/transfer/scripts/from_drop.py /mnt/sun/home-folder/bisot/PRINCE_test/ 1664529240467457025 52\n"
     ]
    },
    {
     "name": "stderr",
     "output_type": "stream",
     "text": [
      "/home/ipausers/bisot/miniconda3/envs/amftrack/lib/python3.9/site-packages/scipy/__init__.py:146: UserWarning: A NumPy version >=1.16.5 and <1.23.0 is required for this version of SciPy (detected version 1.23.1\n",
      "  warnings.warn(f\"A NumPy version >={np_minversion} and <{np_maxversion}\"\n",
      "Traceback (most recent call last):\n",
      "  File \"/home/ipausers/bisot/pycode/MscThesis/amftrack/transfer/scripts/from_drop.py\", line 7, in <module>\n",
      "    from amftrack.util.sys import temp_path\n",
      "  File \"/home/ipausers/bisot/pycode/MscThesis/amftrack/util/sys.py\", line 44, in <module>\n",
      "    dropbox_path = env_config.get(\"DROPBOX_PATH\")\n",
      "  File \"/home/ipausers/bisot/miniconda3/envs/amftrack/lib/python3.9/site-packages/decouple.py\", line 90, in get\n",
      "    raise UndefinedValueError('{} not found. Declare it as envvar or define a default value.'.format(option))\n",
      "decouple.UndefinedValueError: DROPBOX_PATH not found. Declare it as envvar or define a default value.\n"
     ]
    },
    {
     "name": "stdout",
     "output_type": "stream",
     "text": [
      "python3 /home/ipausers/bisot/pycode/MscThesis/amftrack/transfer/scripts/from_drop.py /mnt/sun/home-folder/bisot/PRINCE_test/ 1664529240467457025 53\n"
     ]
    },
    {
     "name": "stderr",
     "output_type": "stream",
     "text": [
      "/home/ipausers/bisot/miniconda3/envs/amftrack/lib/python3.9/site-packages/scipy/__init__.py:146: UserWarning: A NumPy version >=1.16.5 and <1.23.0 is required for this version of SciPy (detected version 1.23.1\n",
      "  warnings.warn(f\"A NumPy version >={np_minversion} and <{np_maxversion}\"\n",
      "Traceback (most recent call last):\n",
      "  File \"/home/ipausers/bisot/pycode/MscThesis/amftrack/transfer/scripts/from_drop.py\", line 7, in <module>\n",
      "    from amftrack.util.sys import temp_path\n",
      "  File \"/home/ipausers/bisot/pycode/MscThesis/amftrack/util/sys.py\", line 44, in <module>\n",
      "    dropbox_path = env_config.get(\"DROPBOX_PATH\")\n",
      "  File \"/home/ipausers/bisot/miniconda3/envs/amftrack/lib/python3.9/site-packages/decouple.py\", line 90, in get\n",
      "    raise UndefinedValueError('{} not found. Declare it as envvar or define a default value.'.format(option))\n",
      "decouple.UndefinedValueError: DROPBOX_PATH not found. Declare it as envvar or define a default value.\n"
     ]
    },
    {
     "name": "stdout",
     "output_type": "stream",
     "text": [
      "python3 /home/ipausers/bisot/pycode/MscThesis/amftrack/transfer/scripts/from_drop.py /mnt/sun/home-folder/bisot/PRINCE_test/ 1664529240467457025 54\n"
     ]
    },
    {
     "name": "stderr",
     "output_type": "stream",
     "text": [
      "/home/ipausers/bisot/miniconda3/envs/amftrack/lib/python3.9/site-packages/scipy/__init__.py:146: UserWarning: A NumPy version >=1.16.5 and <1.23.0 is required for this version of SciPy (detected version 1.23.1\n",
      "  warnings.warn(f\"A NumPy version >={np_minversion} and <{np_maxversion}\"\n",
      "Traceback (most recent call last):\n",
      "  File \"/home/ipausers/bisot/pycode/MscThesis/amftrack/transfer/scripts/from_drop.py\", line 7, in <module>\n",
      "    from amftrack.util.sys import temp_path\n",
      "  File \"/home/ipausers/bisot/pycode/MscThesis/amftrack/util/sys.py\", line 44, in <module>\n",
      "    dropbox_path = env_config.get(\"DROPBOX_PATH\")\n",
      "  File \"/home/ipausers/bisot/miniconda3/envs/amftrack/lib/python3.9/site-packages/decouple.py\", line 90, in get\n",
      "    raise UndefinedValueError('{} not found. Declare it as envvar or define a default value.'.format(option))\n",
      "decouple.UndefinedValueError: DROPBOX_PATH not found. Declare it as envvar or define a default value.\n"
     ]
    },
    {
     "name": "stdout",
     "output_type": "stream",
     "text": [
      "python3 /home/ipausers/bisot/pycode/MscThesis/amftrack/transfer/scripts/from_drop.py /mnt/sun/home-folder/bisot/PRINCE_test/ 1664529240467457025 55\n"
     ]
    },
    {
     "name": "stderr",
     "output_type": "stream",
     "text": [
      "/home/ipausers/bisot/miniconda3/envs/amftrack/lib/python3.9/site-packages/scipy/__init__.py:146: UserWarning: A NumPy version >=1.16.5 and <1.23.0 is required for this version of SciPy (detected version 1.23.1\n",
      "  warnings.warn(f\"A NumPy version >={np_minversion} and <{np_maxversion}\"\n",
      "Traceback (most recent call last):\n",
      "  File \"/home/ipausers/bisot/pycode/MscThesis/amftrack/transfer/scripts/from_drop.py\", line 7, in <module>\n",
      "    from amftrack.util.sys import temp_path\n",
      "  File \"/home/ipausers/bisot/pycode/MscThesis/amftrack/util/sys.py\", line 44, in <module>\n",
      "    dropbox_path = env_config.get(\"DROPBOX_PATH\")\n",
      "  File \"/home/ipausers/bisot/miniconda3/envs/amftrack/lib/python3.9/site-packages/decouple.py\", line 90, in get\n",
      "    raise UndefinedValueError('{} not found. Declare it as envvar or define a default value.'.format(option))\n",
      "decouple.UndefinedValueError: DROPBOX_PATH not found. Declare it as envvar or define a default value.\n"
     ]
    },
    {
     "name": "stdout",
     "output_type": "stream",
     "text": [
      "python3 /home/ipausers/bisot/pycode/MscThesis/amftrack/transfer/scripts/from_drop.py /mnt/sun/home-folder/bisot/PRINCE_test/ 1664529240467457025 56\n"
     ]
    },
    {
     "name": "stderr",
     "output_type": "stream",
     "text": [
      "/home/ipausers/bisot/miniconda3/envs/amftrack/lib/python3.9/site-packages/scipy/__init__.py:146: UserWarning: A NumPy version >=1.16.5 and <1.23.0 is required for this version of SciPy (detected version 1.23.1\n",
      "  warnings.warn(f\"A NumPy version >={np_minversion} and <{np_maxversion}\"\n",
      "Traceback (most recent call last):\n",
      "  File \"/home/ipausers/bisot/pycode/MscThesis/amftrack/transfer/scripts/from_drop.py\", line 7, in <module>\n",
      "    from amftrack.util.sys import temp_path\n",
      "  File \"/home/ipausers/bisot/pycode/MscThesis/amftrack/util/sys.py\", line 44, in <module>\n",
      "    dropbox_path = env_config.get(\"DROPBOX_PATH\")\n",
      "  File \"/home/ipausers/bisot/miniconda3/envs/amftrack/lib/python3.9/site-packages/decouple.py\", line 90, in get\n",
      "    raise UndefinedValueError('{} not found. Declare it as envvar or define a default value.'.format(option))\n",
      "decouple.UndefinedValueError: DROPBOX_PATH not found. Declare it as envvar or define a default value.\n"
     ]
    },
    {
     "name": "stdout",
     "output_type": "stream",
     "text": [
      "python3 /home/ipausers/bisot/pycode/MscThesis/amftrack/transfer/scripts/from_drop.py /mnt/sun/home-folder/bisot/PRINCE_test/ 1664529240467457025 57\n"
     ]
    },
    {
     "name": "stderr",
     "output_type": "stream",
     "text": [
      "/home/ipausers/bisot/miniconda3/envs/amftrack/lib/python3.9/site-packages/scipy/__init__.py:146: UserWarning: A NumPy version >=1.16.5 and <1.23.0 is required for this version of SciPy (detected version 1.23.1\n",
      "  warnings.warn(f\"A NumPy version >={np_minversion} and <{np_maxversion}\"\n",
      "Traceback (most recent call last):\n",
      "  File \"/home/ipausers/bisot/pycode/MscThesis/amftrack/transfer/scripts/from_drop.py\", line 7, in <module>\n",
      "    from amftrack.util.sys import temp_path\n",
      "  File \"/home/ipausers/bisot/pycode/MscThesis/amftrack/util/sys.py\", line 44, in <module>\n",
      "    dropbox_path = env_config.get(\"DROPBOX_PATH\")\n",
      "  File \"/home/ipausers/bisot/miniconda3/envs/amftrack/lib/python3.9/site-packages/decouple.py\", line 90, in get\n",
      "    raise UndefinedValueError('{} not found. Declare it as envvar or define a default value.'.format(option))\n",
      "decouple.UndefinedValueError: DROPBOX_PATH not found. Declare it as envvar or define a default value.\n"
     ]
    },
    {
     "name": "stdout",
     "output_type": "stream",
     "text": [
      "python3 /home/ipausers/bisot/pycode/MscThesis/amftrack/transfer/scripts/from_drop.py /mnt/sun/home-folder/bisot/PRINCE_test/ 1664529240467457025 58\n"
     ]
    },
    {
     "name": "stderr",
     "output_type": "stream",
     "text": [
      "/home/ipausers/bisot/miniconda3/envs/amftrack/lib/python3.9/site-packages/scipy/__init__.py:146: UserWarning: A NumPy version >=1.16.5 and <1.23.0 is required for this version of SciPy (detected version 1.23.1\n",
      "  warnings.warn(f\"A NumPy version >={np_minversion} and <{np_maxversion}\"\n",
      "Traceback (most recent call last):\n",
      "  File \"/home/ipausers/bisot/pycode/MscThesis/amftrack/transfer/scripts/from_drop.py\", line 7, in <module>\n",
      "    from amftrack.util.sys import temp_path\n",
      "  File \"/home/ipausers/bisot/pycode/MscThesis/amftrack/util/sys.py\", line 44, in <module>\n",
      "    dropbox_path = env_config.get(\"DROPBOX_PATH\")\n",
      "  File \"/home/ipausers/bisot/miniconda3/envs/amftrack/lib/python3.9/site-packages/decouple.py\", line 90, in get\n",
      "    raise UndefinedValueError('{} not found. Declare it as envvar or define a default value.'.format(option))\n",
      "decouple.UndefinedValueError: DROPBOX_PATH not found. Declare it as envvar or define a default value.\n"
     ]
    },
    {
     "name": "stdout",
     "output_type": "stream",
     "text": [
      "python3 /home/ipausers/bisot/pycode/MscThesis/amftrack/transfer/scripts/from_drop.py /mnt/sun/home-folder/bisot/PRINCE_test/ 1664529240467457025 59\n"
     ]
    },
    {
     "name": "stderr",
     "output_type": "stream",
     "text": [
      "/home/ipausers/bisot/miniconda3/envs/amftrack/lib/python3.9/site-packages/scipy/__init__.py:146: UserWarning: A NumPy version >=1.16.5 and <1.23.0 is required for this version of SciPy (detected version 1.23.1\n",
      "  warnings.warn(f\"A NumPy version >={np_minversion} and <{np_maxversion}\"\n",
      "Traceback (most recent call last):\n",
      "  File \"/home/ipausers/bisot/pycode/MscThesis/amftrack/transfer/scripts/from_drop.py\", line 7, in <module>\n",
      "    from amftrack.util.sys import temp_path\n",
      "  File \"/home/ipausers/bisot/pycode/MscThesis/amftrack/util/sys.py\", line 44, in <module>\n",
      "    dropbox_path = env_config.get(\"DROPBOX_PATH\")\n",
      "  File \"/home/ipausers/bisot/miniconda3/envs/amftrack/lib/python3.9/site-packages/decouple.py\", line 90, in get\n",
      "    raise UndefinedValueError('{} not found. Declare it as envvar or define a default value.'.format(option))\n",
      "decouple.UndefinedValueError: DROPBOX_PATH not found. Declare it as envvar or define a default value.\n"
     ]
    },
    {
     "name": "stdout",
     "output_type": "stream",
     "text": [
      "python3 /home/ipausers/bisot/pycode/MscThesis/amftrack/transfer/scripts/from_drop.py /mnt/sun/home-folder/bisot/PRINCE_test/ 1664529240467457025 60\n"
     ]
    },
    {
     "name": "stderr",
     "output_type": "stream",
     "text": [
      "/home/ipausers/bisot/miniconda3/envs/amftrack/lib/python3.9/site-packages/scipy/__init__.py:146: UserWarning: A NumPy version >=1.16.5 and <1.23.0 is required for this version of SciPy (detected version 1.23.1\n",
      "  warnings.warn(f\"A NumPy version >={np_minversion} and <{np_maxversion}\"\n",
      "Traceback (most recent call last):\n",
      "  File \"/home/ipausers/bisot/pycode/MscThesis/amftrack/transfer/scripts/from_drop.py\", line 7, in <module>\n",
      "    from amftrack.util.sys import temp_path\n",
      "  File \"/home/ipausers/bisot/pycode/MscThesis/amftrack/util/sys.py\", line 44, in <module>\n",
      "    dropbox_path = env_config.get(\"DROPBOX_PATH\")\n",
      "  File \"/home/ipausers/bisot/miniconda3/envs/amftrack/lib/python3.9/site-packages/decouple.py\", line 90, in get\n",
      "    raise UndefinedValueError('{} not found. Declare it as envvar or define a default value.'.format(option))\n",
      "decouple.UndefinedValueError: DROPBOX_PATH not found. Declare it as envvar or define a default value.\n"
     ]
    },
    {
     "name": "stdout",
     "output_type": "stream",
     "text": [
      "python3 /home/ipausers/bisot/pycode/MscThesis/amftrack/transfer/scripts/from_drop.py /mnt/sun/home-folder/bisot/PRINCE_test/ 1664529240467457025 61\n"
     ]
    },
    {
     "name": "stderr",
     "output_type": "stream",
     "text": [
      "/home/ipausers/bisot/miniconda3/envs/amftrack/lib/python3.9/site-packages/scipy/__init__.py:146: UserWarning: A NumPy version >=1.16.5 and <1.23.0 is required for this version of SciPy (detected version 1.23.1\n",
      "  warnings.warn(f\"A NumPy version >={np_minversion} and <{np_maxversion}\"\n",
      "Traceback (most recent call last):\n",
      "  File \"/home/ipausers/bisot/pycode/MscThesis/amftrack/transfer/scripts/from_drop.py\", line 7, in <module>\n",
      "    from amftrack.util.sys import temp_path\n",
      "  File \"/home/ipausers/bisot/pycode/MscThesis/amftrack/util/sys.py\", line 44, in <module>\n",
      "    dropbox_path = env_config.get(\"DROPBOX_PATH\")\n",
      "  File \"/home/ipausers/bisot/miniconda3/envs/amftrack/lib/python3.9/site-packages/decouple.py\", line 90, in get\n",
      "    raise UndefinedValueError('{} not found. Declare it as envvar or define a default value.'.format(option))\n",
      "decouple.UndefinedValueError: DROPBOX_PATH not found. Declare it as envvar or define a default value.\n"
     ]
    },
    {
     "name": "stdout",
     "output_type": "stream",
     "text": [
      "python3 /home/ipausers/bisot/pycode/MscThesis/amftrack/transfer/scripts/from_drop.py /mnt/sun/home-folder/bisot/PRINCE_test/ 1664529240467457025 62\n"
     ]
    },
    {
     "name": "stderr",
     "output_type": "stream",
     "text": [
      "/home/ipausers/bisot/miniconda3/envs/amftrack/lib/python3.9/site-packages/scipy/__init__.py:146: UserWarning: A NumPy version >=1.16.5 and <1.23.0 is required for this version of SciPy (detected version 1.23.1\n",
      "  warnings.warn(f\"A NumPy version >={np_minversion} and <{np_maxversion}\"\n",
      "Traceback (most recent call last):\n",
      "  File \"/home/ipausers/bisot/pycode/MscThesis/amftrack/transfer/scripts/from_drop.py\", line 7, in <module>\n",
      "    from amftrack.util.sys import temp_path\n",
      "  File \"/home/ipausers/bisot/pycode/MscThesis/amftrack/util/sys.py\", line 44, in <module>\n",
      "    dropbox_path = env_config.get(\"DROPBOX_PATH\")\n",
      "  File \"/home/ipausers/bisot/miniconda3/envs/amftrack/lib/python3.9/site-packages/decouple.py\", line 90, in get\n",
      "    raise UndefinedValueError('{} not found. Declare it as envvar or define a default value.'.format(option))\n",
      "decouple.UndefinedValueError: DROPBOX_PATH not found. Declare it as envvar or define a default value.\n"
     ]
    },
    {
     "name": "stdout",
     "output_type": "stream",
     "text": [
      "python3 /home/ipausers/bisot/pycode/MscThesis/amftrack/transfer/scripts/from_drop.py /mnt/sun/home-folder/bisot/PRINCE_test/ 1664529240467457025 63\n"
     ]
    },
    {
     "name": "stderr",
     "output_type": "stream",
     "text": [
      "/home/ipausers/bisot/miniconda3/envs/amftrack/lib/python3.9/site-packages/scipy/__init__.py:146: UserWarning: A NumPy version >=1.16.5 and <1.23.0 is required for this version of SciPy (detected version 1.23.1\n",
      "  warnings.warn(f\"A NumPy version >={np_minversion} and <{np_maxversion}\"\n",
      "Traceback (most recent call last):\n",
      "  File \"/home/ipausers/bisot/pycode/MscThesis/amftrack/transfer/scripts/from_drop.py\", line 7, in <module>\n",
      "    from amftrack.util.sys import temp_path\n",
      "  File \"/home/ipausers/bisot/pycode/MscThesis/amftrack/util/sys.py\", line 44, in <module>\n",
      "    dropbox_path = env_config.get(\"DROPBOX_PATH\")\n",
      "  File \"/home/ipausers/bisot/miniconda3/envs/amftrack/lib/python3.9/site-packages/decouple.py\", line 90, in get\n",
      "    raise UndefinedValueError('{} not found. Declare it as envvar or define a default value.'.format(option))\n",
      "decouple.UndefinedValueError: DROPBOX_PATH not found. Declare it as envvar or define a default value.\n"
     ]
    },
    {
     "name": "stdout",
     "output_type": "stream",
     "text": [
      "python3 /home/ipausers/bisot/pycode/MscThesis/amftrack/transfer/scripts/from_drop.py /mnt/sun/home-folder/bisot/PRINCE_test/ 1664529240467457025 64\n"
     ]
    },
    {
     "name": "stderr",
     "output_type": "stream",
     "text": [
      "/home/ipausers/bisot/miniconda3/envs/amftrack/lib/python3.9/site-packages/scipy/__init__.py:146: UserWarning: A NumPy version >=1.16.5 and <1.23.0 is required for this version of SciPy (detected version 1.23.1\n",
      "  warnings.warn(f\"A NumPy version >={np_minversion} and <{np_maxversion}\"\n",
      "Traceback (most recent call last):\n",
      "  File \"/home/ipausers/bisot/pycode/MscThesis/amftrack/transfer/scripts/from_drop.py\", line 7, in <module>\n",
      "    from amftrack.util.sys import temp_path\n",
      "  File \"/home/ipausers/bisot/pycode/MscThesis/amftrack/util/sys.py\", line 44, in <module>\n",
      "    dropbox_path = env_config.get(\"DROPBOX_PATH\")\n",
      "  File \"/home/ipausers/bisot/miniconda3/envs/amftrack/lib/python3.9/site-packages/decouple.py\", line 90, in get\n",
      "    raise UndefinedValueError('{} not found. Declare it as envvar or define a default value.'.format(option))\n",
      "decouple.UndefinedValueError: DROPBOX_PATH not found. Declare it as envvar or define a default value.\n"
     ]
    },
    {
     "name": "stdout",
     "output_type": "stream",
     "text": [
      "python3 /home/ipausers/bisot/pycode/MscThesis/amftrack/transfer/scripts/from_drop.py /mnt/sun/home-folder/bisot/PRINCE_test/ 1664529240467457025 65\n"
     ]
    },
    {
     "name": "stderr",
     "output_type": "stream",
     "text": [
      "/home/ipausers/bisot/miniconda3/envs/amftrack/lib/python3.9/site-packages/scipy/__init__.py:146: UserWarning: A NumPy version >=1.16.5 and <1.23.0 is required for this version of SciPy (detected version 1.23.1\n",
      "  warnings.warn(f\"A NumPy version >={np_minversion} and <{np_maxversion}\"\n",
      "Traceback (most recent call last):\n",
      "  File \"/home/ipausers/bisot/pycode/MscThesis/amftrack/transfer/scripts/from_drop.py\", line 7, in <module>\n",
      "    from amftrack.util.sys import temp_path\n",
      "  File \"/home/ipausers/bisot/pycode/MscThesis/amftrack/util/sys.py\", line 44, in <module>\n",
      "    dropbox_path = env_config.get(\"DROPBOX_PATH\")\n",
      "  File \"/home/ipausers/bisot/miniconda3/envs/amftrack/lib/python3.9/site-packages/decouple.py\", line 90, in get\n",
      "    raise UndefinedValueError('{} not found. Declare it as envvar or define a default value.'.format(option))\n",
      "decouple.UndefinedValueError: DROPBOX_PATH not found. Declare it as envvar or define a default value.\n"
     ]
    },
    {
     "name": "stdout",
     "output_type": "stream",
     "text": [
      "python3 /home/ipausers/bisot/pycode/MscThesis/amftrack/transfer/scripts/from_drop.py /mnt/sun/home-folder/bisot/PRINCE_test/ 1664529240467457025 66\n"
     ]
    },
    {
     "name": "stderr",
     "output_type": "stream",
     "text": [
      "/home/ipausers/bisot/miniconda3/envs/amftrack/lib/python3.9/site-packages/scipy/__init__.py:146: UserWarning: A NumPy version >=1.16.5 and <1.23.0 is required for this version of SciPy (detected version 1.23.1\n",
      "  warnings.warn(f\"A NumPy version >={np_minversion} and <{np_maxversion}\"\n",
      "Traceback (most recent call last):\n",
      "  File \"/home/ipausers/bisot/pycode/MscThesis/amftrack/transfer/scripts/from_drop.py\", line 7, in <module>\n",
      "    from amftrack.util.sys import temp_path\n",
      "  File \"/home/ipausers/bisot/pycode/MscThesis/amftrack/util/sys.py\", line 44, in <module>\n",
      "    dropbox_path = env_config.get(\"DROPBOX_PATH\")\n",
      "  File \"/home/ipausers/bisot/miniconda3/envs/amftrack/lib/python3.9/site-packages/decouple.py\", line 90, in get\n",
      "    raise UndefinedValueError('{} not found. Declare it as envvar or define a default value.'.format(option))\n",
      "decouple.UndefinedValueError: DROPBOX_PATH not found. Declare it as envvar or define a default value.\n"
     ]
    },
    {
     "name": "stdout",
     "output_type": "stream",
     "text": [
      "python3 /home/ipausers/bisot/pycode/MscThesis/amftrack/transfer/scripts/from_drop.py /mnt/sun/home-folder/bisot/PRINCE_test/ 1664529240467457025 67\n"
     ]
    },
    {
     "name": "stderr",
     "output_type": "stream",
     "text": [
      "/home/ipausers/bisot/miniconda3/envs/amftrack/lib/python3.9/site-packages/scipy/__init__.py:146: UserWarning: A NumPy version >=1.16.5 and <1.23.0 is required for this version of SciPy (detected version 1.23.1\n",
      "  warnings.warn(f\"A NumPy version >={np_minversion} and <{np_maxversion}\"\n",
      "Traceback (most recent call last):\n",
      "  File \"/home/ipausers/bisot/pycode/MscThesis/amftrack/transfer/scripts/from_drop.py\", line 7, in <module>\n",
      "    from amftrack.util.sys import temp_path\n",
      "  File \"/home/ipausers/bisot/pycode/MscThesis/amftrack/util/sys.py\", line 44, in <module>\n",
      "    dropbox_path = env_config.get(\"DROPBOX_PATH\")\n",
      "  File \"/home/ipausers/bisot/miniconda3/envs/amftrack/lib/python3.9/site-packages/decouple.py\", line 90, in get\n",
      "    raise UndefinedValueError('{} not found. Declare it as envvar or define a default value.'.format(option))\n",
      "decouple.UndefinedValueError: DROPBOX_PATH not found. Declare it as envvar or define a default value.\n"
     ]
    },
    {
     "name": "stdout",
     "output_type": "stream",
     "text": [
      "python3 /home/ipausers/bisot/pycode/MscThesis/amftrack/transfer/scripts/from_drop.py /mnt/sun/home-folder/bisot/PRINCE_test/ 1664529240467457025 68\n"
     ]
    },
    {
     "name": "stderr",
     "output_type": "stream",
     "text": [
      "/home/ipausers/bisot/miniconda3/envs/amftrack/lib/python3.9/site-packages/scipy/__init__.py:146: UserWarning: A NumPy version >=1.16.5 and <1.23.0 is required for this version of SciPy (detected version 1.23.1\n",
      "  warnings.warn(f\"A NumPy version >={np_minversion} and <{np_maxversion}\"\n",
      "Traceback (most recent call last):\n",
      "  File \"/home/ipausers/bisot/pycode/MscThesis/amftrack/transfer/scripts/from_drop.py\", line 7, in <module>\n",
      "    from amftrack.util.sys import temp_path\n",
      "  File \"/home/ipausers/bisot/pycode/MscThesis/amftrack/util/sys.py\", line 44, in <module>\n",
      "    dropbox_path = env_config.get(\"DROPBOX_PATH\")\n",
      "  File \"/home/ipausers/bisot/miniconda3/envs/amftrack/lib/python3.9/site-packages/decouple.py\", line 90, in get\n",
      "    raise UndefinedValueError('{} not found. Declare it as envvar or define a default value.'.format(option))\n",
      "decouple.UndefinedValueError: DROPBOX_PATH not found. Declare it as envvar or define a default value.\n"
     ]
    },
    {
     "name": "stdout",
     "output_type": "stream",
     "text": [
      "python3 /home/ipausers/bisot/pycode/MscThesis/amftrack/transfer/scripts/from_drop.py /mnt/sun/home-folder/bisot/PRINCE_test/ 1664529240467457025 69\n"
     ]
    },
    {
     "name": "stderr",
     "output_type": "stream",
     "text": [
      "/home/ipausers/bisot/miniconda3/envs/amftrack/lib/python3.9/site-packages/scipy/__init__.py:146: UserWarning: A NumPy version >=1.16.5 and <1.23.0 is required for this version of SciPy (detected version 1.23.1\n",
      "  warnings.warn(f\"A NumPy version >={np_minversion} and <{np_maxversion}\"\n",
      "Traceback (most recent call last):\n",
      "  File \"/home/ipausers/bisot/pycode/MscThesis/amftrack/transfer/scripts/from_drop.py\", line 7, in <module>\n",
      "    from amftrack.util.sys import temp_path\n",
      "  File \"/home/ipausers/bisot/pycode/MscThesis/amftrack/util/sys.py\", line 44, in <module>\n",
      "    dropbox_path = env_config.get(\"DROPBOX_PATH\")\n",
      "  File \"/home/ipausers/bisot/miniconda3/envs/amftrack/lib/python3.9/site-packages/decouple.py\", line 90, in get\n",
      "    raise UndefinedValueError('{} not found. Declare it as envvar or define a default value.'.format(option))\n",
      "decouple.UndefinedValueError: DROPBOX_PATH not found. Declare it as envvar or define a default value.\n"
     ]
    },
    {
     "name": "stdout",
     "output_type": "stream",
     "text": [
      "python3 /home/ipausers/bisot/pycode/MscThesis/amftrack/transfer/scripts/from_drop.py /mnt/sun/home-folder/bisot/PRINCE_test/ 1664529240467457025 70\n"
     ]
    },
    {
     "name": "stderr",
     "output_type": "stream",
     "text": [
      "/home/ipausers/bisot/miniconda3/envs/amftrack/lib/python3.9/site-packages/scipy/__init__.py:146: UserWarning: A NumPy version >=1.16.5 and <1.23.0 is required for this version of SciPy (detected version 1.23.1\n",
      "  warnings.warn(f\"A NumPy version >={np_minversion} and <{np_maxversion}\"\n",
      "Traceback (most recent call last):\n",
      "  File \"/home/ipausers/bisot/pycode/MscThesis/amftrack/transfer/scripts/from_drop.py\", line 7, in <module>\n",
      "    from amftrack.util.sys import temp_path\n",
      "  File \"/home/ipausers/bisot/pycode/MscThesis/amftrack/util/sys.py\", line 44, in <module>\n",
      "    dropbox_path = env_config.get(\"DROPBOX_PATH\")\n",
      "  File \"/home/ipausers/bisot/miniconda3/envs/amftrack/lib/python3.9/site-packages/decouple.py\", line 90, in get\n",
      "    raise UndefinedValueError('{} not found. Declare it as envvar or define a default value.'.format(option))\n",
      "decouple.UndefinedValueError: DROPBOX_PATH not found. Declare it as envvar or define a default value.\n"
     ]
    },
    {
     "name": "stdout",
     "output_type": "stream",
     "text": [
      "python3 /home/ipausers/bisot/pycode/MscThesis/amftrack/transfer/scripts/from_drop.py /mnt/sun/home-folder/bisot/PRINCE_test/ 1664529240467457025 71\n"
     ]
    },
    {
     "name": "stderr",
     "output_type": "stream",
     "text": [
      "/home/ipausers/bisot/miniconda3/envs/amftrack/lib/python3.9/site-packages/scipy/__init__.py:146: UserWarning: A NumPy version >=1.16.5 and <1.23.0 is required for this version of SciPy (detected version 1.23.1\n",
      "  warnings.warn(f\"A NumPy version >={np_minversion} and <{np_maxversion}\"\n",
      "Traceback (most recent call last):\n",
      "  File \"/home/ipausers/bisot/pycode/MscThesis/amftrack/transfer/scripts/from_drop.py\", line 7, in <module>\n",
      "    from amftrack.util.sys import temp_path\n",
      "  File \"/home/ipausers/bisot/pycode/MscThesis/amftrack/util/sys.py\", line 44, in <module>\n",
      "    dropbox_path = env_config.get(\"DROPBOX_PATH\")\n",
      "  File \"/home/ipausers/bisot/miniconda3/envs/amftrack/lib/python3.9/site-packages/decouple.py\", line 90, in get\n",
      "    raise UndefinedValueError('{} not found. Declare it as envvar or define a default value.'.format(option))\n",
      "decouple.UndefinedValueError: DROPBOX_PATH not found. Declare it as envvar or define a default value.\n"
     ]
    },
    {
     "name": "stdout",
     "output_type": "stream",
     "text": [
      "python3 /home/ipausers/bisot/pycode/MscThesis/amftrack/transfer/scripts/from_drop.py /mnt/sun/home-folder/bisot/PRINCE_test/ 1664529240467457025 72\n"
     ]
    },
    {
     "name": "stderr",
     "output_type": "stream",
     "text": [
      "/home/ipausers/bisot/miniconda3/envs/amftrack/lib/python3.9/site-packages/scipy/__init__.py:146: UserWarning: A NumPy version >=1.16.5 and <1.23.0 is required for this version of SciPy (detected version 1.23.1\n",
      "  warnings.warn(f\"A NumPy version >={np_minversion} and <{np_maxversion}\"\n",
      "Traceback (most recent call last):\n",
      "  File \"/home/ipausers/bisot/pycode/MscThesis/amftrack/transfer/scripts/from_drop.py\", line 7, in <module>\n",
      "    from amftrack.util.sys import temp_path\n",
      "  File \"/home/ipausers/bisot/pycode/MscThesis/amftrack/util/sys.py\", line 44, in <module>\n",
      "    dropbox_path = env_config.get(\"DROPBOX_PATH\")\n",
      "  File \"/home/ipausers/bisot/miniconda3/envs/amftrack/lib/python3.9/site-packages/decouple.py\", line 90, in get\n",
      "    raise UndefinedValueError('{} not found. Declare it as envvar or define a default value.'.format(option))\n",
      "decouple.UndefinedValueError: DROPBOX_PATH not found. Declare it as envvar or define a default value.\n"
     ]
    },
    {
     "name": "stdout",
     "output_type": "stream",
     "text": [
      "python3 /home/ipausers/bisot/pycode/MscThesis/amftrack/transfer/scripts/from_drop.py /mnt/sun/home-folder/bisot/PRINCE_test/ 1664529240467457025 73\n"
     ]
    },
    {
     "name": "stderr",
     "output_type": "stream",
     "text": [
      "/home/ipausers/bisot/miniconda3/envs/amftrack/lib/python3.9/site-packages/scipy/__init__.py:146: UserWarning: A NumPy version >=1.16.5 and <1.23.0 is required for this version of SciPy (detected version 1.23.1\n",
      "  warnings.warn(f\"A NumPy version >={np_minversion} and <{np_maxversion}\"\n",
      "Traceback (most recent call last):\n",
      "  File \"/home/ipausers/bisot/pycode/MscThesis/amftrack/transfer/scripts/from_drop.py\", line 7, in <module>\n",
      "    from amftrack.util.sys import temp_path\n",
      "  File \"/home/ipausers/bisot/pycode/MscThesis/amftrack/util/sys.py\", line 44, in <module>\n",
      "    dropbox_path = env_config.get(\"DROPBOX_PATH\")\n",
      "  File \"/home/ipausers/bisot/miniconda3/envs/amftrack/lib/python3.9/site-packages/decouple.py\", line 90, in get\n",
      "    raise UndefinedValueError('{} not found. Declare it as envvar or define a default value.'.format(option))\n",
      "decouple.UndefinedValueError: DROPBOX_PATH not found. Declare it as envvar or define a default value.\n"
     ]
    },
    {
     "name": "stdout",
     "output_type": "stream",
     "text": [
      "python3 /home/ipausers/bisot/pycode/MscThesis/amftrack/transfer/scripts/from_drop.py /mnt/sun/home-folder/bisot/PRINCE_test/ 1664529240467457025 74\n"
     ]
    },
    {
     "name": "stderr",
     "output_type": "stream",
     "text": [
      "/home/ipausers/bisot/miniconda3/envs/amftrack/lib/python3.9/site-packages/scipy/__init__.py:146: UserWarning: A NumPy version >=1.16.5 and <1.23.0 is required for this version of SciPy (detected version 1.23.1\n",
      "  warnings.warn(f\"A NumPy version >={np_minversion} and <{np_maxversion}\"\n",
      "Traceback (most recent call last):\n",
      "  File \"/home/ipausers/bisot/pycode/MscThesis/amftrack/transfer/scripts/from_drop.py\", line 7, in <module>\n",
      "    from amftrack.util.sys import temp_path\n",
      "  File \"/home/ipausers/bisot/pycode/MscThesis/amftrack/util/sys.py\", line 44, in <module>\n",
      "    dropbox_path = env_config.get(\"DROPBOX_PATH\")\n",
      "  File \"/home/ipausers/bisot/miniconda3/envs/amftrack/lib/python3.9/site-packages/decouple.py\", line 90, in get\n",
      "    raise UndefinedValueError('{} not found. Declare it as envvar or define a default value.'.format(option))\n",
      "decouple.UndefinedValueError: DROPBOX_PATH not found. Declare it as envvar or define a default value.\n"
     ]
    },
    {
     "name": "stdout",
     "output_type": "stream",
     "text": [
      "python3 /home/ipausers/bisot/pycode/MscThesis/amftrack/transfer/scripts/from_drop.py /mnt/sun/home-folder/bisot/PRINCE_test/ 1664529240467457025 75\n"
     ]
    },
    {
     "name": "stderr",
     "output_type": "stream",
     "text": [
      "/home/ipausers/bisot/miniconda3/envs/amftrack/lib/python3.9/site-packages/scipy/__init__.py:146: UserWarning: A NumPy version >=1.16.5 and <1.23.0 is required for this version of SciPy (detected version 1.23.1\n",
      "  warnings.warn(f\"A NumPy version >={np_minversion} and <{np_maxversion}\"\n",
      "Traceback (most recent call last):\n",
      "  File \"/home/ipausers/bisot/pycode/MscThesis/amftrack/transfer/scripts/from_drop.py\", line 7, in <module>\n",
      "    from amftrack.util.sys import temp_path\n",
      "  File \"/home/ipausers/bisot/pycode/MscThesis/amftrack/util/sys.py\", line 44, in <module>\n",
      "    dropbox_path = env_config.get(\"DROPBOX_PATH\")\n",
      "  File \"/home/ipausers/bisot/miniconda3/envs/amftrack/lib/python3.9/site-packages/decouple.py\", line 90, in get\n",
      "    raise UndefinedValueError('{} not found. Declare it as envvar or define a default value.'.format(option))\n",
      "decouple.UndefinedValueError: DROPBOX_PATH not found. Declare it as envvar or define a default value.\n"
     ]
    },
    {
     "name": "stdout",
     "output_type": "stream",
     "text": [
      "python3 /home/ipausers/bisot/pycode/MscThesis/amftrack/transfer/scripts/from_drop.py /mnt/sun/home-folder/bisot/PRINCE_test/ 1664529240467457025 76\n"
     ]
    },
    {
     "name": "stderr",
     "output_type": "stream",
     "text": [
      "/home/ipausers/bisot/miniconda3/envs/amftrack/lib/python3.9/site-packages/scipy/__init__.py:146: UserWarning: A NumPy version >=1.16.5 and <1.23.0 is required for this version of SciPy (detected version 1.23.1\n",
      "  warnings.warn(f\"A NumPy version >={np_minversion} and <{np_maxversion}\"\n",
      "Traceback (most recent call last):\n",
      "  File \"/home/ipausers/bisot/pycode/MscThesis/amftrack/transfer/scripts/from_drop.py\", line 7, in <module>\n",
      "    from amftrack.util.sys import temp_path\n",
      "  File \"/home/ipausers/bisot/pycode/MscThesis/amftrack/util/sys.py\", line 44, in <module>\n",
      "    dropbox_path = env_config.get(\"DROPBOX_PATH\")\n",
      "  File \"/home/ipausers/bisot/miniconda3/envs/amftrack/lib/python3.9/site-packages/decouple.py\", line 90, in get\n",
      "    raise UndefinedValueError('{} not found. Declare it as envvar or define a default value.'.format(option))\n",
      "decouple.UndefinedValueError: DROPBOX_PATH not found. Declare it as envvar or define a default value.\n"
     ]
    },
    {
     "name": "stdout",
     "output_type": "stream",
     "text": [
      "python3 /home/ipausers/bisot/pycode/MscThesis/amftrack/transfer/scripts/from_drop.py /mnt/sun/home-folder/bisot/PRINCE_test/ 1664529240467457025 77\n"
     ]
    },
    {
     "name": "stderr",
     "output_type": "stream",
     "text": [
      "/home/ipausers/bisot/miniconda3/envs/amftrack/lib/python3.9/site-packages/scipy/__init__.py:146: UserWarning: A NumPy version >=1.16.5 and <1.23.0 is required for this version of SciPy (detected version 1.23.1\n",
      "  warnings.warn(f\"A NumPy version >={np_minversion} and <{np_maxversion}\"\n",
      "Traceback (most recent call last):\n",
      "  File \"/home/ipausers/bisot/pycode/MscThesis/amftrack/transfer/scripts/from_drop.py\", line 7, in <module>\n",
      "    from amftrack.util.sys import temp_path\n",
      "  File \"/home/ipausers/bisot/pycode/MscThesis/amftrack/util/sys.py\", line 44, in <module>\n",
      "    dropbox_path = env_config.get(\"DROPBOX_PATH\")\n",
      "  File \"/home/ipausers/bisot/miniconda3/envs/amftrack/lib/python3.9/site-packages/decouple.py\", line 90, in get\n",
      "    raise UndefinedValueError('{} not found. Declare it as envvar or define a default value.'.format(option))\n",
      "decouple.UndefinedValueError: DROPBOX_PATH not found. Declare it as envvar or define a default value.\n"
     ]
    },
    {
     "name": "stdout",
     "output_type": "stream",
     "text": [
      "python3 /home/ipausers/bisot/pycode/MscThesis/amftrack/transfer/scripts/from_drop.py /mnt/sun/home-folder/bisot/PRINCE_test/ 1664529240467457025 78\n"
     ]
    },
    {
     "name": "stderr",
     "output_type": "stream",
     "text": [
      "/home/ipausers/bisot/miniconda3/envs/amftrack/lib/python3.9/site-packages/scipy/__init__.py:146: UserWarning: A NumPy version >=1.16.5 and <1.23.0 is required for this version of SciPy (detected version 1.23.1\n",
      "  warnings.warn(f\"A NumPy version >={np_minversion} and <{np_maxversion}\"\n",
      "Traceback (most recent call last):\n",
      "  File \"/home/ipausers/bisot/pycode/MscThesis/amftrack/transfer/scripts/from_drop.py\", line 7, in <module>\n",
      "    from amftrack.util.sys import temp_path\n",
      "  File \"/home/ipausers/bisot/pycode/MscThesis/amftrack/util/sys.py\", line 44, in <module>\n",
      "    dropbox_path = env_config.get(\"DROPBOX_PATH\")\n",
      "  File \"/home/ipausers/bisot/miniconda3/envs/amftrack/lib/python3.9/site-packages/decouple.py\", line 90, in get\n",
      "    raise UndefinedValueError('{} not found. Declare it as envvar or define a default value.'.format(option))\n",
      "decouple.UndefinedValueError: DROPBOX_PATH not found. Declare it as envvar or define a default value.\n"
     ]
    },
    {
     "name": "stdout",
     "output_type": "stream",
     "text": [
      "python3 /home/ipausers/bisot/pycode/MscThesis/amftrack/transfer/scripts/from_drop.py /mnt/sun/home-folder/bisot/PRINCE_test/ 1664529240467457025 79\n"
     ]
    },
    {
     "name": "stderr",
     "output_type": "stream",
     "text": [
      "/home/ipausers/bisot/miniconda3/envs/amftrack/lib/python3.9/site-packages/scipy/__init__.py:146: UserWarning: A NumPy version >=1.16.5 and <1.23.0 is required for this version of SciPy (detected version 1.23.1\n",
      "  warnings.warn(f\"A NumPy version >={np_minversion} and <{np_maxversion}\"\n",
      "Traceback (most recent call last):\n",
      "  File \"/home/ipausers/bisot/pycode/MscThesis/amftrack/transfer/scripts/from_drop.py\", line 7, in <module>\n",
      "    from amftrack.util.sys import temp_path\n",
      "  File \"/home/ipausers/bisot/pycode/MscThesis/amftrack/util/sys.py\", line 44, in <module>\n",
      "    dropbox_path = env_config.get(\"DROPBOX_PATH\")\n",
      "  File \"/home/ipausers/bisot/miniconda3/envs/amftrack/lib/python3.9/site-packages/decouple.py\", line 90, in get\n",
      "    raise UndefinedValueError('{} not found. Declare it as envvar or define a default value.'.format(option))\n",
      "decouple.UndefinedValueError: DROPBOX_PATH not found. Declare it as envvar or define a default value.\n"
     ]
    },
    {
     "name": "stdout",
     "output_type": "stream",
     "text": [
      "python3 /home/ipausers/bisot/pycode/MscThesis/amftrack/transfer/scripts/from_drop.py /mnt/sun/home-folder/bisot/PRINCE_test/ 1664529240467457025 80\n"
     ]
    },
    {
     "name": "stderr",
     "output_type": "stream",
     "text": [
      "/home/ipausers/bisot/miniconda3/envs/amftrack/lib/python3.9/site-packages/scipy/__init__.py:146: UserWarning: A NumPy version >=1.16.5 and <1.23.0 is required for this version of SciPy (detected version 1.23.1\n",
      "  warnings.warn(f\"A NumPy version >={np_minversion} and <{np_maxversion}\"\n",
      "Traceback (most recent call last):\n",
      "  File \"/home/ipausers/bisot/pycode/MscThesis/amftrack/transfer/scripts/from_drop.py\", line 7, in <module>\n",
      "    from amftrack.util.sys import temp_path\n",
      "  File \"/home/ipausers/bisot/pycode/MscThesis/amftrack/util/sys.py\", line 44, in <module>\n",
      "    dropbox_path = env_config.get(\"DROPBOX_PATH\")\n",
      "  File \"/home/ipausers/bisot/miniconda3/envs/amftrack/lib/python3.9/site-packages/decouple.py\", line 90, in get\n",
      "    raise UndefinedValueError('{} not found. Declare it as envvar or define a default value.'.format(option))\n",
      "decouple.UndefinedValueError: DROPBOX_PATH not found. Declare it as envvar or define a default value.\n"
     ]
    },
    {
     "name": "stdout",
     "output_type": "stream",
     "text": [
      "python3 /home/ipausers/bisot/pycode/MscThesis/amftrack/transfer/scripts/from_drop.py /mnt/sun/home-folder/bisot/PRINCE_test/ 1664529240467457025 81\n"
     ]
    },
    {
     "name": "stderr",
     "output_type": "stream",
     "text": [
      "/home/ipausers/bisot/miniconda3/envs/amftrack/lib/python3.9/site-packages/scipy/__init__.py:146: UserWarning: A NumPy version >=1.16.5 and <1.23.0 is required for this version of SciPy (detected version 1.23.1\n",
      "  warnings.warn(f\"A NumPy version >={np_minversion} and <{np_maxversion}\"\n",
      "Traceback (most recent call last):\n",
      "  File \"/home/ipausers/bisot/pycode/MscThesis/amftrack/transfer/scripts/from_drop.py\", line 7, in <module>\n",
      "    from amftrack.util.sys import temp_path\n",
      "  File \"/home/ipausers/bisot/pycode/MscThesis/amftrack/util/sys.py\", line 44, in <module>\n",
      "    dropbox_path = env_config.get(\"DROPBOX_PATH\")\n",
      "  File \"/home/ipausers/bisot/miniconda3/envs/amftrack/lib/python3.9/site-packages/decouple.py\", line 90, in get\n",
      "    raise UndefinedValueError('{} not found. Declare it as envvar or define a default value.'.format(option))\n",
      "decouple.UndefinedValueError: DROPBOX_PATH not found. Declare it as envvar or define a default value.\n"
     ]
    },
    {
     "name": "stdout",
     "output_type": "stream",
     "text": [
      "python3 /home/ipausers/bisot/pycode/MscThesis/amftrack/transfer/scripts/from_drop.py /mnt/sun/home-folder/bisot/PRINCE_test/ 1664529240467457025 82\n"
     ]
    },
    {
     "name": "stderr",
     "output_type": "stream",
     "text": [
      "/home/ipausers/bisot/miniconda3/envs/amftrack/lib/python3.9/site-packages/scipy/__init__.py:146: UserWarning: A NumPy version >=1.16.5 and <1.23.0 is required for this version of SciPy (detected version 1.23.1\n",
      "  warnings.warn(f\"A NumPy version >={np_minversion} and <{np_maxversion}\"\n",
      "Traceback (most recent call last):\n",
      "  File \"/home/ipausers/bisot/pycode/MscThesis/amftrack/transfer/scripts/from_drop.py\", line 7, in <module>\n",
      "    from amftrack.util.sys import temp_path\n",
      "  File \"/home/ipausers/bisot/pycode/MscThesis/amftrack/util/sys.py\", line 44, in <module>\n",
      "    dropbox_path = env_config.get(\"DROPBOX_PATH\")\n",
      "  File \"/home/ipausers/bisot/miniconda3/envs/amftrack/lib/python3.9/site-packages/decouple.py\", line 90, in get\n",
      "    raise UndefinedValueError('{} not found. Declare it as envvar or define a default value.'.format(option))\n",
      "decouple.UndefinedValueError: DROPBOX_PATH not found. Declare it as envvar or define a default value.\n"
     ]
    },
    {
     "name": "stdout",
     "output_type": "stream",
     "text": [
      "python3 /home/ipausers/bisot/pycode/MscThesis/amftrack/transfer/scripts/from_drop.py /mnt/sun/home-folder/bisot/PRINCE_test/ 1664529240467457025 83\n"
     ]
    },
    {
     "name": "stderr",
     "output_type": "stream",
     "text": [
      "/home/ipausers/bisot/miniconda3/envs/amftrack/lib/python3.9/site-packages/scipy/__init__.py:146: UserWarning: A NumPy version >=1.16.5 and <1.23.0 is required for this version of SciPy (detected version 1.23.1\n",
      "  warnings.warn(f\"A NumPy version >={np_minversion} and <{np_maxversion}\"\n",
      "Traceback (most recent call last):\n",
      "  File \"/home/ipausers/bisot/pycode/MscThesis/amftrack/transfer/scripts/from_drop.py\", line 7, in <module>\n",
      "    from amftrack.util.sys import temp_path\n",
      "  File \"/home/ipausers/bisot/pycode/MscThesis/amftrack/util/sys.py\", line 44, in <module>\n",
      "    dropbox_path = env_config.get(\"DROPBOX_PATH\")\n",
      "  File \"/home/ipausers/bisot/miniconda3/envs/amftrack/lib/python3.9/site-packages/decouple.py\", line 90, in get\n",
      "    raise UndefinedValueError('{} not found. Declare it as envvar or define a default value.'.format(option))\n",
      "decouple.UndefinedValueError: DROPBOX_PATH not found. Declare it as envvar or define a default value.\n"
     ]
    },
    {
     "name": "stdout",
     "output_type": "stream",
     "text": [
      "python3 /home/ipausers/bisot/pycode/MscThesis/amftrack/transfer/scripts/from_drop.py /mnt/sun/home-folder/bisot/PRINCE_test/ 1664529240467457025 84\n"
     ]
    },
    {
     "name": "stderr",
     "output_type": "stream",
     "text": [
      "/home/ipausers/bisot/miniconda3/envs/amftrack/lib/python3.9/site-packages/scipy/__init__.py:146: UserWarning: A NumPy version >=1.16.5 and <1.23.0 is required for this version of SciPy (detected version 1.23.1\n",
      "  warnings.warn(f\"A NumPy version >={np_minversion} and <{np_maxversion}\"\n",
      "Traceback (most recent call last):\n",
      "  File \"/home/ipausers/bisot/pycode/MscThesis/amftrack/transfer/scripts/from_drop.py\", line 7, in <module>\n",
      "    from amftrack.util.sys import temp_path\n",
      "  File \"/home/ipausers/bisot/pycode/MscThesis/amftrack/util/sys.py\", line 44, in <module>\n",
      "    dropbox_path = env_config.get(\"DROPBOX_PATH\")\n",
      "  File \"/home/ipausers/bisot/miniconda3/envs/amftrack/lib/python3.9/site-packages/decouple.py\", line 90, in get\n",
      "    raise UndefinedValueError('{} not found. Declare it as envvar or define a default value.'.format(option))\n",
      "decouple.UndefinedValueError: DROPBOX_PATH not found. Declare it as envvar or define a default value.\n"
     ]
    },
    {
     "name": "stdout",
     "output_type": "stream",
     "text": [
      "python3 /home/ipausers/bisot/pycode/MscThesis/amftrack/transfer/scripts/from_drop.py /mnt/sun/home-folder/bisot/PRINCE_test/ 1664529240467457025 85\n"
     ]
    },
    {
     "name": "stderr",
     "output_type": "stream",
     "text": [
      "/home/ipausers/bisot/miniconda3/envs/amftrack/lib/python3.9/site-packages/scipy/__init__.py:146: UserWarning: A NumPy version >=1.16.5 and <1.23.0 is required for this version of SciPy (detected version 1.23.1\n",
      "  warnings.warn(f\"A NumPy version >={np_minversion} and <{np_maxversion}\"\n",
      "Traceback (most recent call last):\n",
      "  File \"/home/ipausers/bisot/pycode/MscThesis/amftrack/transfer/scripts/from_drop.py\", line 7, in <module>\n",
      "    from amftrack.util.sys import temp_path\n",
      "  File \"/home/ipausers/bisot/pycode/MscThesis/amftrack/util/sys.py\", line 44, in <module>\n",
      "    dropbox_path = env_config.get(\"DROPBOX_PATH\")\n",
      "  File \"/home/ipausers/bisot/miniconda3/envs/amftrack/lib/python3.9/site-packages/decouple.py\", line 90, in get\n",
      "    raise UndefinedValueError('{} not found. Declare it as envvar or define a default value.'.format(option))\n",
      "decouple.UndefinedValueError: DROPBOX_PATH not found. Declare it as envvar or define a default value.\n"
     ]
    },
    {
     "name": "stdout",
     "output_type": "stream",
     "text": [
      "python3 /home/ipausers/bisot/pycode/MscThesis/amftrack/transfer/scripts/from_drop.py /mnt/sun/home-folder/bisot/PRINCE_test/ 1664529240467457025 86\n"
     ]
    },
    {
     "name": "stderr",
     "output_type": "stream",
     "text": [
      "/home/ipausers/bisot/miniconda3/envs/amftrack/lib/python3.9/site-packages/scipy/__init__.py:146: UserWarning: A NumPy version >=1.16.5 and <1.23.0 is required for this version of SciPy (detected version 1.23.1\n",
      "  warnings.warn(f\"A NumPy version >={np_minversion} and <{np_maxversion}\"\n",
      "Traceback (most recent call last):\n",
      "  File \"/home/ipausers/bisot/pycode/MscThesis/amftrack/transfer/scripts/from_drop.py\", line 7, in <module>\n",
      "    from amftrack.util.sys import temp_path\n",
      "  File \"/home/ipausers/bisot/pycode/MscThesis/amftrack/util/sys.py\", line 44, in <module>\n",
      "    dropbox_path = env_config.get(\"DROPBOX_PATH\")\n",
      "  File \"/home/ipausers/bisot/miniconda3/envs/amftrack/lib/python3.9/site-packages/decouple.py\", line 90, in get\n",
      "    raise UndefinedValueError('{} not found. Declare it as envvar or define a default value.'.format(option))\n",
      "decouple.UndefinedValueError: DROPBOX_PATH not found. Declare it as envvar or define a default value.\n"
     ]
    },
    {
     "name": "stdout",
     "output_type": "stream",
     "text": [
      "python3 /home/ipausers/bisot/pycode/MscThesis/amftrack/transfer/scripts/from_drop.py /mnt/sun/home-folder/bisot/PRINCE_test/ 1664529240467457025 87\n"
     ]
    },
    {
     "name": "stderr",
     "output_type": "stream",
     "text": [
      "/home/ipausers/bisot/miniconda3/envs/amftrack/lib/python3.9/site-packages/scipy/__init__.py:146: UserWarning: A NumPy version >=1.16.5 and <1.23.0 is required for this version of SciPy (detected version 1.23.1\n",
      "  warnings.warn(f\"A NumPy version >={np_minversion} and <{np_maxversion}\"\n",
      "Traceback (most recent call last):\n",
      "  File \"/home/ipausers/bisot/pycode/MscThesis/amftrack/transfer/scripts/from_drop.py\", line 7, in <module>\n",
      "    from amftrack.util.sys import temp_path\n",
      "  File \"/home/ipausers/bisot/pycode/MscThesis/amftrack/util/sys.py\", line 44, in <module>\n",
      "    dropbox_path = env_config.get(\"DROPBOX_PATH\")\n",
      "  File \"/home/ipausers/bisot/miniconda3/envs/amftrack/lib/python3.9/site-packages/decouple.py\", line 90, in get\n",
      "    raise UndefinedValueError('{} not found. Declare it as envvar or define a default value.'.format(option))\n",
      "decouple.UndefinedValueError: DROPBOX_PATH not found. Declare it as envvar or define a default value.\n"
     ]
    },
    {
     "name": "stdout",
     "output_type": "stream",
     "text": [
      "python3 /home/ipausers/bisot/pycode/MscThesis/amftrack/transfer/scripts/from_drop.py /mnt/sun/home-folder/bisot/PRINCE_test/ 1664529240467457025 88\n"
     ]
    },
    {
     "name": "stderr",
     "output_type": "stream",
     "text": [
      "/home/ipausers/bisot/miniconda3/envs/amftrack/lib/python3.9/site-packages/scipy/__init__.py:146: UserWarning: A NumPy version >=1.16.5 and <1.23.0 is required for this version of SciPy (detected version 1.23.1\n",
      "  warnings.warn(f\"A NumPy version >={np_minversion} and <{np_maxversion}\"\n",
      "Traceback (most recent call last):\n",
      "  File \"/home/ipausers/bisot/pycode/MscThesis/amftrack/transfer/scripts/from_drop.py\", line 7, in <module>\n",
      "    from amftrack.util.sys import temp_path\n",
      "  File \"/home/ipausers/bisot/pycode/MscThesis/amftrack/util/sys.py\", line 44, in <module>\n",
      "    dropbox_path = env_config.get(\"DROPBOX_PATH\")\n",
      "  File \"/home/ipausers/bisot/miniconda3/envs/amftrack/lib/python3.9/site-packages/decouple.py\", line 90, in get\n",
      "    raise UndefinedValueError('{} not found. Declare it as envvar or define a default value.'.format(option))\n",
      "decouple.UndefinedValueError: DROPBOX_PATH not found. Declare it as envvar or define a default value.\n"
     ]
    },
    {
     "name": "stdout",
     "output_type": "stream",
     "text": [
      "python3 /home/ipausers/bisot/pycode/MscThesis/amftrack/transfer/scripts/from_drop.py /mnt/sun/home-folder/bisot/PRINCE_test/ 1664529240467457025 89\n"
     ]
    },
    {
     "name": "stderr",
     "output_type": "stream",
     "text": [
      "/home/ipausers/bisot/miniconda3/envs/amftrack/lib/python3.9/site-packages/scipy/__init__.py:146: UserWarning: A NumPy version >=1.16.5 and <1.23.0 is required for this version of SciPy (detected version 1.23.1\n",
      "  warnings.warn(f\"A NumPy version >={np_minversion} and <{np_maxversion}\"\n",
      "Traceback (most recent call last):\n",
      "  File \"/home/ipausers/bisot/pycode/MscThesis/amftrack/transfer/scripts/from_drop.py\", line 7, in <module>\n",
      "    from amftrack.util.sys import temp_path\n",
      "  File \"/home/ipausers/bisot/pycode/MscThesis/amftrack/util/sys.py\", line 44, in <module>\n",
      "    dropbox_path = env_config.get(\"DROPBOX_PATH\")\n",
      "  File \"/home/ipausers/bisot/miniconda3/envs/amftrack/lib/python3.9/site-packages/decouple.py\", line 90, in get\n",
      "    raise UndefinedValueError('{} not found. Declare it as envvar or define a default value.'.format(option))\n",
      "decouple.UndefinedValueError: DROPBOX_PATH not found. Declare it as envvar or define a default value.\n"
     ]
    },
    {
     "name": "stdout",
     "output_type": "stream",
     "text": [
      "python3 /home/ipausers/bisot/pycode/MscThesis/amftrack/transfer/scripts/from_drop.py /mnt/sun/home-folder/bisot/PRINCE_test/ 1664529240467457025 90\n"
     ]
    },
    {
     "name": "stderr",
     "output_type": "stream",
     "text": [
      "/home/ipausers/bisot/miniconda3/envs/amftrack/lib/python3.9/site-packages/scipy/__init__.py:146: UserWarning: A NumPy version >=1.16.5 and <1.23.0 is required for this version of SciPy (detected version 1.23.1\n",
      "  warnings.warn(f\"A NumPy version >={np_minversion} and <{np_maxversion}\"\n",
      "Traceback (most recent call last):\n",
      "  File \"/home/ipausers/bisot/pycode/MscThesis/amftrack/transfer/scripts/from_drop.py\", line 7, in <module>\n",
      "    from amftrack.util.sys import temp_path\n",
      "  File \"/home/ipausers/bisot/pycode/MscThesis/amftrack/util/sys.py\", line 44, in <module>\n",
      "    dropbox_path = env_config.get(\"DROPBOX_PATH\")\n",
      "  File \"/home/ipausers/bisot/miniconda3/envs/amftrack/lib/python3.9/site-packages/decouple.py\", line 90, in get\n",
      "    raise UndefinedValueError('{} not found. Declare it as envvar or define a default value.'.format(option))\n",
      "decouple.UndefinedValueError: DROPBOX_PATH not found. Declare it as envvar or define a default value.\n"
     ]
    },
    {
     "name": "stdout",
     "output_type": "stream",
     "text": [
      "python3 /home/ipausers/bisot/pycode/MscThesis/amftrack/transfer/scripts/from_drop.py /mnt/sun/home-folder/bisot/PRINCE_test/ 1664529240467457025 91\n"
     ]
    },
    {
     "name": "stderr",
     "output_type": "stream",
     "text": [
      "/home/ipausers/bisot/miniconda3/envs/amftrack/lib/python3.9/site-packages/scipy/__init__.py:146: UserWarning: A NumPy version >=1.16.5 and <1.23.0 is required for this version of SciPy (detected version 1.23.1\n",
      "  warnings.warn(f\"A NumPy version >={np_minversion} and <{np_maxversion}\"\n",
      "Traceback (most recent call last):\n",
      "  File \"/home/ipausers/bisot/pycode/MscThesis/amftrack/transfer/scripts/from_drop.py\", line 7, in <module>\n",
      "    from amftrack.util.sys import temp_path\n",
      "  File \"/home/ipausers/bisot/pycode/MscThesis/amftrack/util/sys.py\", line 44, in <module>\n",
      "    dropbox_path = env_config.get(\"DROPBOX_PATH\")\n",
      "  File \"/home/ipausers/bisot/miniconda3/envs/amftrack/lib/python3.9/site-packages/decouple.py\", line 90, in get\n",
      "    raise UndefinedValueError('{} not found. Declare it as envvar or define a default value.'.format(option))\n",
      "decouple.UndefinedValueError: DROPBOX_PATH not found. Declare it as envvar or define a default value.\n"
     ]
    },
    {
     "name": "stdout",
     "output_type": "stream",
     "text": [
      "python3 /home/ipausers/bisot/pycode/MscThesis/amftrack/transfer/scripts/from_drop.py /mnt/sun/home-folder/bisot/PRINCE_test/ 1664529240467457025 92\n"
     ]
    },
    {
     "name": "stderr",
     "output_type": "stream",
     "text": [
      "/home/ipausers/bisot/miniconda3/envs/amftrack/lib/python3.9/site-packages/scipy/__init__.py:146: UserWarning: A NumPy version >=1.16.5 and <1.23.0 is required for this version of SciPy (detected version 1.23.1\n",
      "  warnings.warn(f\"A NumPy version >={np_minversion} and <{np_maxversion}\"\n",
      "Traceback (most recent call last):\n",
      "  File \"/home/ipausers/bisot/pycode/MscThesis/amftrack/transfer/scripts/from_drop.py\", line 7, in <module>\n",
      "    from amftrack.util.sys import temp_path\n",
      "  File \"/home/ipausers/bisot/pycode/MscThesis/amftrack/util/sys.py\", line 44, in <module>\n",
      "    dropbox_path = env_config.get(\"DROPBOX_PATH\")\n",
      "  File \"/home/ipausers/bisot/miniconda3/envs/amftrack/lib/python3.9/site-packages/decouple.py\", line 90, in get\n",
      "    raise UndefinedValueError('{} not found. Declare it as envvar or define a default value.'.format(option))\n",
      "decouple.UndefinedValueError: DROPBOX_PATH not found. Declare it as envvar or define a default value.\n"
     ]
    },
    {
     "name": "stdout",
     "output_type": "stream",
     "text": [
      "python3 /home/ipausers/bisot/pycode/MscThesis/amftrack/transfer/scripts/from_drop.py /mnt/sun/home-folder/bisot/PRINCE_test/ 1664529240467457025 93\n"
     ]
    },
    {
     "name": "stderr",
     "output_type": "stream",
     "text": [
      "/home/ipausers/bisot/miniconda3/envs/amftrack/lib/python3.9/site-packages/scipy/__init__.py:146: UserWarning: A NumPy version >=1.16.5 and <1.23.0 is required for this version of SciPy (detected version 1.23.1\n",
      "  warnings.warn(f\"A NumPy version >={np_minversion} and <{np_maxversion}\"\n",
      "Traceback (most recent call last):\n",
      "  File \"/home/ipausers/bisot/pycode/MscThesis/amftrack/transfer/scripts/from_drop.py\", line 7, in <module>\n",
      "    from amftrack.util.sys import temp_path\n",
      "  File \"/home/ipausers/bisot/pycode/MscThesis/amftrack/util/sys.py\", line 44, in <module>\n",
      "    dropbox_path = env_config.get(\"DROPBOX_PATH\")\n",
      "  File \"/home/ipausers/bisot/miniconda3/envs/amftrack/lib/python3.9/site-packages/decouple.py\", line 90, in get\n",
      "    raise UndefinedValueError('{} not found. Declare it as envvar or define a default value.'.format(option))\n",
      "decouple.UndefinedValueError: DROPBOX_PATH not found. Declare it as envvar or define a default value.\n"
     ]
    },
    {
     "name": "stdout",
     "output_type": "stream",
     "text": [
      "python3 /home/ipausers/bisot/pycode/MscThesis/amftrack/transfer/scripts/from_drop.py /mnt/sun/home-folder/bisot/PRINCE_test/ 1664529240467457025 94\n"
     ]
    },
    {
     "name": "stderr",
     "output_type": "stream",
     "text": [
      "/home/ipausers/bisot/miniconda3/envs/amftrack/lib/python3.9/site-packages/scipy/__init__.py:146: UserWarning: A NumPy version >=1.16.5 and <1.23.0 is required for this version of SciPy (detected version 1.23.1\n",
      "  warnings.warn(f\"A NumPy version >={np_minversion} and <{np_maxversion}\"\n",
      "Traceback (most recent call last):\n",
      "  File \"/home/ipausers/bisot/pycode/MscThesis/amftrack/transfer/scripts/from_drop.py\", line 7, in <module>\n",
      "    from amftrack.util.sys import temp_path\n",
      "  File \"/home/ipausers/bisot/pycode/MscThesis/amftrack/util/sys.py\", line 44, in <module>\n",
      "    dropbox_path = env_config.get(\"DROPBOX_PATH\")\n",
      "  File \"/home/ipausers/bisot/miniconda3/envs/amftrack/lib/python3.9/site-packages/decouple.py\", line 90, in get\n",
      "    raise UndefinedValueError('{} not found. Declare it as envvar or define a default value.'.format(option))\n",
      "decouple.UndefinedValueError: DROPBOX_PATH not found. Declare it as envvar or define a default value.\n"
     ]
    },
    {
     "name": "stdout",
     "output_type": "stream",
     "text": [
      "python3 /home/ipausers/bisot/pycode/MscThesis/amftrack/transfer/scripts/from_drop.py /mnt/sun/home-folder/bisot/PRINCE_test/ 1664529240467457025 95\n"
     ]
    },
    {
     "name": "stderr",
     "output_type": "stream",
     "text": [
      "/home/ipausers/bisot/miniconda3/envs/amftrack/lib/python3.9/site-packages/scipy/__init__.py:146: UserWarning: A NumPy version >=1.16.5 and <1.23.0 is required for this version of SciPy (detected version 1.23.1\n",
      "  warnings.warn(f\"A NumPy version >={np_minversion} and <{np_maxversion}\"\n",
      "Traceback (most recent call last):\n",
      "  File \"/home/ipausers/bisot/pycode/MscThesis/amftrack/transfer/scripts/from_drop.py\", line 7, in <module>\n",
      "    from amftrack.util.sys import temp_path\n",
      "  File \"/home/ipausers/bisot/pycode/MscThesis/amftrack/util/sys.py\", line 44, in <module>\n",
      "    dropbox_path = env_config.get(\"DROPBOX_PATH\")\n",
      "  File \"/home/ipausers/bisot/miniconda3/envs/amftrack/lib/python3.9/site-packages/decouple.py\", line 90, in get\n",
      "    raise UndefinedValueError('{} not found. Declare it as envvar or define a default value.'.format(option))\n",
      "decouple.UndefinedValueError: DROPBOX_PATH not found. Declare it as envvar or define a default value.\n"
     ]
    },
    {
     "name": "stdout",
     "output_type": "stream",
     "text": [
      "python3 /home/ipausers/bisot/pycode/MscThesis/amftrack/transfer/scripts/from_drop.py /mnt/sun/home-folder/bisot/PRINCE_test/ 1664529240467457025 96\n"
     ]
    },
    {
     "name": "stderr",
     "output_type": "stream",
     "text": [
      "/home/ipausers/bisot/miniconda3/envs/amftrack/lib/python3.9/site-packages/scipy/__init__.py:146: UserWarning: A NumPy version >=1.16.5 and <1.23.0 is required for this version of SciPy (detected version 1.23.1\n",
      "  warnings.warn(f\"A NumPy version >={np_minversion} and <{np_maxversion}\"\n",
      "Traceback (most recent call last):\n",
      "  File \"/home/ipausers/bisot/pycode/MscThesis/amftrack/transfer/scripts/from_drop.py\", line 7, in <module>\n",
      "    from amftrack.util.sys import temp_path\n",
      "  File \"/home/ipausers/bisot/pycode/MscThesis/amftrack/util/sys.py\", line 44, in <module>\n",
      "    dropbox_path = env_config.get(\"DROPBOX_PATH\")\n",
      "  File \"/home/ipausers/bisot/miniconda3/envs/amftrack/lib/python3.9/site-packages/decouple.py\", line 90, in get\n",
      "    raise UndefinedValueError('{} not found. Declare it as envvar or define a default value.'.format(option))\n",
      "decouple.UndefinedValueError: DROPBOX_PATH not found. Declare it as envvar or define a default value.\n"
     ]
    },
    {
     "name": "stdout",
     "output_type": "stream",
     "text": [
      "python3 /home/ipausers/bisot/pycode/MscThesis/amftrack/transfer/scripts/from_drop.py /mnt/sun/home-folder/bisot/PRINCE_test/ 1664529240467457025 97\n"
     ]
    },
    {
     "name": "stderr",
     "output_type": "stream",
     "text": [
      "/home/ipausers/bisot/miniconda3/envs/amftrack/lib/python3.9/site-packages/scipy/__init__.py:146: UserWarning: A NumPy version >=1.16.5 and <1.23.0 is required for this version of SciPy (detected version 1.23.1\n",
      "  warnings.warn(f\"A NumPy version >={np_minversion} and <{np_maxversion}\"\n",
      "Traceback (most recent call last):\n",
      "  File \"/home/ipausers/bisot/pycode/MscThesis/amftrack/transfer/scripts/from_drop.py\", line 7, in <module>\n",
      "    from amftrack.util.sys import temp_path\n",
      "  File \"/home/ipausers/bisot/pycode/MscThesis/amftrack/util/sys.py\", line 44, in <module>\n",
      "    dropbox_path = env_config.get(\"DROPBOX_PATH\")\n",
      "  File \"/home/ipausers/bisot/miniconda3/envs/amftrack/lib/python3.9/site-packages/decouple.py\", line 90, in get\n",
      "    raise UndefinedValueError('{} not found. Declare it as envvar or define a default value.'.format(option))\n",
      "decouple.UndefinedValueError: DROPBOX_PATH not found. Declare it as envvar or define a default value.\n"
     ]
    },
    {
     "name": "stdout",
     "output_type": "stream",
     "text": [
      "python3 /home/ipausers/bisot/pycode/MscThesis/amftrack/transfer/scripts/from_drop.py /mnt/sun/home-folder/bisot/PRINCE_test/ 1664529240467457025 98\n"
     ]
    },
    {
     "name": "stderr",
     "output_type": "stream",
     "text": [
      "/home/ipausers/bisot/miniconda3/envs/amftrack/lib/python3.9/site-packages/scipy/__init__.py:146: UserWarning: A NumPy version >=1.16.5 and <1.23.0 is required for this version of SciPy (detected version 1.23.1\n",
      "  warnings.warn(f\"A NumPy version >={np_minversion} and <{np_maxversion}\"\n",
      "Traceback (most recent call last):\n",
      "  File \"/home/ipausers/bisot/pycode/MscThesis/amftrack/transfer/scripts/from_drop.py\", line 7, in <module>\n",
      "    from amftrack.util.sys import temp_path\n",
      "  File \"/home/ipausers/bisot/pycode/MscThesis/amftrack/util/sys.py\", line 44, in <module>\n",
      "    dropbox_path = env_config.get(\"DROPBOX_PATH\")\n",
      "  File \"/home/ipausers/bisot/miniconda3/envs/amftrack/lib/python3.9/site-packages/decouple.py\", line 90, in get\n",
      "    raise UndefinedValueError('{} not found. Declare it as envvar or define a default value.'.format(option))\n",
      "decouple.UndefinedValueError: DROPBOX_PATH not found. Declare it as envvar or define a default value.\n"
     ]
    },
    {
     "name": "stdout",
     "output_type": "stream",
     "text": [
      "python3 /home/ipausers/bisot/pycode/MscThesis/amftrack/transfer/scripts/from_drop.py /mnt/sun/home-folder/bisot/PRINCE_test/ 1664529240467457025 99\n"
     ]
    },
    {
     "name": "stderr",
     "output_type": "stream",
     "text": [
      "/home/ipausers/bisot/miniconda3/envs/amftrack/lib/python3.9/site-packages/scipy/__init__.py:146: UserWarning: A NumPy version >=1.16.5 and <1.23.0 is required for this version of SciPy (detected version 1.23.1\n",
      "  warnings.warn(f\"A NumPy version >={np_minversion} and <{np_maxversion}\"\n",
      "Traceback (most recent call last):\n",
      "  File \"/home/ipausers/bisot/pycode/MscThesis/amftrack/transfer/scripts/from_drop.py\", line 7, in <module>\n",
      "    from amftrack.util.sys import temp_path\n",
      "  File \"/home/ipausers/bisot/pycode/MscThesis/amftrack/util/sys.py\", line 44, in <module>\n",
      "    dropbox_path = env_config.get(\"DROPBOX_PATH\")\n",
      "  File \"/home/ipausers/bisot/miniconda3/envs/amftrack/lib/python3.9/site-packages/decouple.py\", line 90, in get\n",
      "    raise UndefinedValueError('{} not found. Declare it as envvar or define a default value.'.format(option))\n",
      "decouple.UndefinedValueError: DROPBOX_PATH not found. Declare it as envvar or define a default value.\n"
     ]
    },
    {
     "name": "stdout",
     "output_type": "stream",
     "text": [
      "python3 /home/ipausers/bisot/pycode/MscThesis/amftrack/transfer/scripts/from_drop.py /mnt/sun/home-folder/bisot/PRINCE_test/ 1664529240467457025 100\n"
     ]
    },
    {
     "name": "stderr",
     "output_type": "stream",
     "text": [
      "/home/ipausers/bisot/miniconda3/envs/amftrack/lib/python3.9/site-packages/scipy/__init__.py:146: UserWarning: A NumPy version >=1.16.5 and <1.23.0 is required for this version of SciPy (detected version 1.23.1\n",
      "  warnings.warn(f\"A NumPy version >={np_minversion} and <{np_maxversion}\"\n",
      "Traceback (most recent call last):\n",
      "  File \"/home/ipausers/bisot/pycode/MscThesis/amftrack/transfer/scripts/from_drop.py\", line 7, in <module>\n",
      "    from amftrack.util.sys import temp_path\n",
      "  File \"/home/ipausers/bisot/pycode/MscThesis/amftrack/util/sys.py\", line 44, in <module>\n",
      "    dropbox_path = env_config.get(\"DROPBOX_PATH\")\n",
      "  File \"/home/ipausers/bisot/miniconda3/envs/amftrack/lib/python3.9/site-packages/decouple.py\", line 90, in get\n",
      "    raise UndefinedValueError('{} not found. Declare it as envvar or define a default value.'.format(option))\n",
      "decouple.UndefinedValueError: DROPBOX_PATH not found. Declare it as envvar or define a default value.\n"
     ]
    },
    {
     "name": "stdout",
     "output_type": "stream",
     "text": [
      "python3 /home/ipausers/bisot/pycode/MscThesis/amftrack/transfer/scripts/from_drop.py /mnt/sun/home-folder/bisot/PRINCE_test/ 1664529240467457025 101\n"
     ]
    },
    {
     "name": "stderr",
     "output_type": "stream",
     "text": [
      "/home/ipausers/bisot/miniconda3/envs/amftrack/lib/python3.9/site-packages/scipy/__init__.py:146: UserWarning: A NumPy version >=1.16.5 and <1.23.0 is required for this version of SciPy (detected version 1.23.1\n",
      "  warnings.warn(f\"A NumPy version >={np_minversion} and <{np_maxversion}\"\n",
      "Traceback (most recent call last):\n",
      "  File \"/home/ipausers/bisot/pycode/MscThesis/amftrack/transfer/scripts/from_drop.py\", line 7, in <module>\n",
      "    from amftrack.util.sys import temp_path\n",
      "  File \"/home/ipausers/bisot/pycode/MscThesis/amftrack/util/sys.py\", line 44, in <module>\n",
      "    dropbox_path = env_config.get(\"DROPBOX_PATH\")\n",
      "  File \"/home/ipausers/bisot/miniconda3/envs/amftrack/lib/python3.9/site-packages/decouple.py\", line 90, in get\n",
      "    raise UndefinedValueError('{} not found. Declare it as envvar or define a default value.'.format(option))\n",
      "decouple.UndefinedValueError: DROPBOX_PATH not found. Declare it as envvar or define a default value.\n"
     ]
    },
    {
     "name": "stdout",
     "output_type": "stream",
     "text": [
      "python3 /home/ipausers/bisot/pycode/MscThesis/amftrack/transfer/scripts/from_drop.py /mnt/sun/home-folder/bisot/PRINCE_test/ 1664529240467457025 102\n"
     ]
    },
    {
     "name": "stderr",
     "output_type": "stream",
     "text": [
      "/home/ipausers/bisot/miniconda3/envs/amftrack/lib/python3.9/site-packages/scipy/__init__.py:146: UserWarning: A NumPy version >=1.16.5 and <1.23.0 is required for this version of SciPy (detected version 1.23.1\n",
      "  warnings.warn(f\"A NumPy version >={np_minversion} and <{np_maxversion}\"\n",
      "Traceback (most recent call last):\n",
      "  File \"/home/ipausers/bisot/pycode/MscThesis/amftrack/transfer/scripts/from_drop.py\", line 7, in <module>\n",
      "    from amftrack.util.sys import temp_path\n",
      "  File \"/home/ipausers/bisot/pycode/MscThesis/amftrack/util/sys.py\", line 44, in <module>\n",
      "    dropbox_path = env_config.get(\"DROPBOX_PATH\")\n",
      "  File \"/home/ipausers/bisot/miniconda3/envs/amftrack/lib/python3.9/site-packages/decouple.py\", line 90, in get\n",
      "    raise UndefinedValueError('{} not found. Declare it as envvar or define a default value.'.format(option))\n",
      "decouple.UndefinedValueError: DROPBOX_PATH not found. Declare it as envvar or define a default value.\n"
     ]
    },
    {
     "name": "stdout",
     "output_type": "stream",
     "text": [
      "python3 /home/ipausers/bisot/pycode/MscThesis/amftrack/transfer/scripts/from_drop.py /mnt/sun/home-folder/bisot/PRINCE_test/ 1664529240467457025 103\n"
     ]
    },
    {
     "name": "stderr",
     "output_type": "stream",
     "text": [
      "/home/ipausers/bisot/miniconda3/envs/amftrack/lib/python3.9/site-packages/scipy/__init__.py:146: UserWarning: A NumPy version >=1.16.5 and <1.23.0 is required for this version of SciPy (detected version 1.23.1\n",
      "  warnings.warn(f\"A NumPy version >={np_minversion} and <{np_maxversion}\"\n",
      "Traceback (most recent call last):\n",
      "  File \"/home/ipausers/bisot/pycode/MscThesis/amftrack/transfer/scripts/from_drop.py\", line 7, in <module>\n",
      "    from amftrack.util.sys import temp_path\n",
      "  File \"/home/ipausers/bisot/pycode/MscThesis/amftrack/util/sys.py\", line 44, in <module>\n",
      "    dropbox_path = env_config.get(\"DROPBOX_PATH\")\n",
      "  File \"/home/ipausers/bisot/miniconda3/envs/amftrack/lib/python3.9/site-packages/decouple.py\", line 90, in get\n",
      "    raise UndefinedValueError('{} not found. Declare it as envvar or define a default value.'.format(option))\n",
      "decouple.UndefinedValueError: DROPBOX_PATH not found. Declare it as envvar or define a default value.\n"
     ]
    },
    {
     "name": "stdout",
     "output_type": "stream",
     "text": [
      "python3 /home/ipausers/bisot/pycode/MscThesis/amftrack/transfer/scripts/from_drop.py /mnt/sun/home-folder/bisot/PRINCE_test/ 1664529240467457025 104\n"
     ]
    },
    {
     "name": "stderr",
     "output_type": "stream",
     "text": [
      "/home/ipausers/bisot/miniconda3/envs/amftrack/lib/python3.9/site-packages/scipy/__init__.py:146: UserWarning: A NumPy version >=1.16.5 and <1.23.0 is required for this version of SciPy (detected version 1.23.1\n",
      "  warnings.warn(f\"A NumPy version >={np_minversion} and <{np_maxversion}\"\n",
      "Traceback (most recent call last):\n",
      "  File \"/home/ipausers/bisot/pycode/MscThesis/amftrack/transfer/scripts/from_drop.py\", line 7, in <module>\n",
      "    from amftrack.util.sys import temp_path\n",
      "  File \"/home/ipausers/bisot/pycode/MscThesis/amftrack/util/sys.py\", line 44, in <module>\n",
      "    dropbox_path = env_config.get(\"DROPBOX_PATH\")\n",
      "  File \"/home/ipausers/bisot/miniconda3/envs/amftrack/lib/python3.9/site-packages/decouple.py\", line 90, in get\n",
      "    raise UndefinedValueError('{} not found. Declare it as envvar or define a default value.'.format(option))\n",
      "decouple.UndefinedValueError: DROPBOX_PATH not found. Declare it as envvar or define a default value.\n"
     ]
    },
    {
     "name": "stdout",
     "output_type": "stream",
     "text": [
      "python3 /home/ipausers/bisot/pycode/MscThesis/amftrack/transfer/scripts/from_drop.py /mnt/sun/home-folder/bisot/PRINCE_test/ 1664529240467457025 105\n"
     ]
    },
    {
     "name": "stderr",
     "output_type": "stream",
     "text": [
      "/home/ipausers/bisot/miniconda3/envs/amftrack/lib/python3.9/site-packages/scipy/__init__.py:146: UserWarning: A NumPy version >=1.16.5 and <1.23.0 is required for this version of SciPy (detected version 1.23.1\n",
      "  warnings.warn(f\"A NumPy version >={np_minversion} and <{np_maxversion}\"\n",
      "Traceback (most recent call last):\n",
      "  File \"/home/ipausers/bisot/pycode/MscThesis/amftrack/transfer/scripts/from_drop.py\", line 7, in <module>\n",
      "    from amftrack.util.sys import temp_path\n",
      "  File \"/home/ipausers/bisot/pycode/MscThesis/amftrack/util/sys.py\", line 44, in <module>\n",
      "    dropbox_path = env_config.get(\"DROPBOX_PATH\")\n",
      "  File \"/home/ipausers/bisot/miniconda3/envs/amftrack/lib/python3.9/site-packages/decouple.py\", line 90, in get\n",
      "    raise UndefinedValueError('{} not found. Declare it as envvar or define a default value.'.format(option))\n",
      "decouple.UndefinedValueError: DROPBOX_PATH not found. Declare it as envvar or define a default value.\n"
     ]
    },
    {
     "name": "stdout",
     "output_type": "stream",
     "text": [
      "python3 /home/ipausers/bisot/pycode/MscThesis/amftrack/transfer/scripts/from_drop.py /mnt/sun/home-folder/bisot/PRINCE_test/ 1664529240467457025 106\n"
     ]
    },
    {
     "name": "stderr",
     "output_type": "stream",
     "text": [
      "/home/ipausers/bisot/miniconda3/envs/amftrack/lib/python3.9/site-packages/scipy/__init__.py:146: UserWarning: A NumPy version >=1.16.5 and <1.23.0 is required for this version of SciPy (detected version 1.23.1\n",
      "  warnings.warn(f\"A NumPy version >={np_minversion} and <{np_maxversion}\"\n",
      "Traceback (most recent call last):\n",
      "  File \"/home/ipausers/bisot/pycode/MscThesis/amftrack/transfer/scripts/from_drop.py\", line 7, in <module>\n",
      "    from amftrack.util.sys import temp_path\n",
      "  File \"/home/ipausers/bisot/pycode/MscThesis/amftrack/util/sys.py\", line 44, in <module>\n",
      "    dropbox_path = env_config.get(\"DROPBOX_PATH\")\n",
      "  File \"/home/ipausers/bisot/miniconda3/envs/amftrack/lib/python3.9/site-packages/decouple.py\", line 90, in get\n",
      "    raise UndefinedValueError('{} not found. Declare it as envvar or define a default value.'.format(option))\n",
      "decouple.UndefinedValueError: DROPBOX_PATH not found. Declare it as envvar or define a default value.\n"
     ]
    },
    {
     "name": "stdout",
     "output_type": "stream",
     "text": [
      "python3 /home/ipausers/bisot/pycode/MscThesis/amftrack/transfer/scripts/from_drop.py /mnt/sun/home-folder/bisot/PRINCE_test/ 1664529240467457025 107\n"
     ]
    },
    {
     "name": "stderr",
     "output_type": "stream",
     "text": [
      "/home/ipausers/bisot/miniconda3/envs/amftrack/lib/python3.9/site-packages/scipy/__init__.py:146: UserWarning: A NumPy version >=1.16.5 and <1.23.0 is required for this version of SciPy (detected version 1.23.1\n",
      "  warnings.warn(f\"A NumPy version >={np_minversion} and <{np_maxversion}\"\n",
      "Traceback (most recent call last):\n",
      "  File \"/home/ipausers/bisot/pycode/MscThesis/amftrack/transfer/scripts/from_drop.py\", line 7, in <module>\n",
      "    from amftrack.util.sys import temp_path\n",
      "  File \"/home/ipausers/bisot/pycode/MscThesis/amftrack/util/sys.py\", line 44, in <module>\n",
      "    dropbox_path = env_config.get(\"DROPBOX_PATH\")\n",
      "  File \"/home/ipausers/bisot/miniconda3/envs/amftrack/lib/python3.9/site-packages/decouple.py\", line 90, in get\n",
      "    raise UndefinedValueError('{} not found. Declare it as envvar or define a default value.'.format(option))\n",
      "decouple.UndefinedValueError: DROPBOX_PATH not found. Declare it as envvar or define a default value.\n"
     ]
    },
    {
     "name": "stdout",
     "output_type": "stream",
     "text": [
      "python3 /home/ipausers/bisot/pycode/MscThesis/amftrack/transfer/scripts/from_drop.py /mnt/sun/home-folder/bisot/PRINCE_test/ 1664529240467457025 108\n"
     ]
    },
    {
     "name": "stderr",
     "output_type": "stream",
     "text": [
      "/home/ipausers/bisot/miniconda3/envs/amftrack/lib/python3.9/site-packages/scipy/__init__.py:146: UserWarning: A NumPy version >=1.16.5 and <1.23.0 is required for this version of SciPy (detected version 1.23.1\n",
      "  warnings.warn(f\"A NumPy version >={np_minversion} and <{np_maxversion}\"\n",
      "Traceback (most recent call last):\n",
      "  File \"/home/ipausers/bisot/pycode/MscThesis/amftrack/transfer/scripts/from_drop.py\", line 7, in <module>\n",
      "    from amftrack.util.sys import temp_path\n",
      "  File \"/home/ipausers/bisot/pycode/MscThesis/amftrack/util/sys.py\", line 44, in <module>\n",
      "    dropbox_path = env_config.get(\"DROPBOX_PATH\")\n",
      "  File \"/home/ipausers/bisot/miniconda3/envs/amftrack/lib/python3.9/site-packages/decouple.py\", line 90, in get\n",
      "    raise UndefinedValueError('{} not found. Declare it as envvar or define a default value.'.format(option))\n",
      "decouple.UndefinedValueError: DROPBOX_PATH not found. Declare it as envvar or define a default value.\n"
     ]
    },
    {
     "name": "stdout",
     "output_type": "stream",
     "text": [
      "python3 /home/ipausers/bisot/pycode/MscThesis/amftrack/transfer/scripts/from_drop.py /mnt/sun/home-folder/bisot/PRINCE_test/ 1664529240467457025 109\n"
     ]
    },
    {
     "name": "stderr",
     "output_type": "stream",
     "text": [
      "/home/ipausers/bisot/miniconda3/envs/amftrack/lib/python3.9/site-packages/scipy/__init__.py:146: UserWarning: A NumPy version >=1.16.5 and <1.23.0 is required for this version of SciPy (detected version 1.23.1\n",
      "  warnings.warn(f\"A NumPy version >={np_minversion} and <{np_maxversion}\"\n",
      "Traceback (most recent call last):\n",
      "  File \"/home/ipausers/bisot/pycode/MscThesis/amftrack/transfer/scripts/from_drop.py\", line 7, in <module>\n",
      "    from amftrack.util.sys import temp_path\n",
      "  File \"/home/ipausers/bisot/pycode/MscThesis/amftrack/util/sys.py\", line 44, in <module>\n",
      "    dropbox_path = env_config.get(\"DROPBOX_PATH\")\n",
      "  File \"/home/ipausers/bisot/miniconda3/envs/amftrack/lib/python3.9/site-packages/decouple.py\", line 90, in get\n",
      "    raise UndefinedValueError('{} not found. Declare it as envvar or define a default value.'.format(option))\n",
      "decouple.UndefinedValueError: DROPBOX_PATH not found. Declare it as envvar or define a default value.\n"
     ]
    },
    {
     "name": "stdout",
     "output_type": "stream",
     "text": [
      "python3 /home/ipausers/bisot/pycode/MscThesis/amftrack/transfer/scripts/from_drop.py /mnt/sun/home-folder/bisot/PRINCE_test/ 1664529240467457025 110\n"
     ]
    },
    {
     "name": "stderr",
     "output_type": "stream",
     "text": [
      "/home/ipausers/bisot/miniconda3/envs/amftrack/lib/python3.9/site-packages/scipy/__init__.py:146: UserWarning: A NumPy version >=1.16.5 and <1.23.0 is required for this version of SciPy (detected version 1.23.1\n",
      "  warnings.warn(f\"A NumPy version >={np_minversion} and <{np_maxversion}\"\n",
      "Traceback (most recent call last):\n",
      "  File \"/home/ipausers/bisot/pycode/MscThesis/amftrack/transfer/scripts/from_drop.py\", line 7, in <module>\n",
      "    from amftrack.util.sys import temp_path\n",
      "  File \"/home/ipausers/bisot/pycode/MscThesis/amftrack/util/sys.py\", line 44, in <module>\n",
      "    dropbox_path = env_config.get(\"DROPBOX_PATH\")\n",
      "  File \"/home/ipausers/bisot/miniconda3/envs/amftrack/lib/python3.9/site-packages/decouple.py\", line 90, in get\n",
      "    raise UndefinedValueError('{} not found. Declare it as envvar or define a default value.'.format(option))\n",
      "decouple.UndefinedValueError: DROPBOX_PATH not found. Declare it as envvar or define a default value.\n"
     ]
    },
    {
     "name": "stdout",
     "output_type": "stream",
     "text": [
      "python3 /home/ipausers/bisot/pycode/MscThesis/amftrack/transfer/scripts/from_drop.py /mnt/sun/home-folder/bisot/PRINCE_test/ 1664529240467457025 111\n"
     ]
    },
    {
     "name": "stderr",
     "output_type": "stream",
     "text": [
      "/home/ipausers/bisot/miniconda3/envs/amftrack/lib/python3.9/site-packages/scipy/__init__.py:146: UserWarning: A NumPy version >=1.16.5 and <1.23.0 is required for this version of SciPy (detected version 1.23.1\n",
      "  warnings.warn(f\"A NumPy version >={np_minversion} and <{np_maxversion}\"\n",
      "Traceback (most recent call last):\n",
      "  File \"/home/ipausers/bisot/pycode/MscThesis/amftrack/transfer/scripts/from_drop.py\", line 7, in <module>\n",
      "    from amftrack.util.sys import temp_path\n",
      "  File \"/home/ipausers/bisot/pycode/MscThesis/amftrack/util/sys.py\", line 44, in <module>\n",
      "    dropbox_path = env_config.get(\"DROPBOX_PATH\")\n",
      "  File \"/home/ipausers/bisot/miniconda3/envs/amftrack/lib/python3.9/site-packages/decouple.py\", line 90, in get\n",
      "    raise UndefinedValueError('{} not found. Declare it as envvar or define a default value.'.format(option))\n",
      "decouple.UndefinedValueError: DROPBOX_PATH not found. Declare it as envvar or define a default value.\n"
     ]
    },
    {
     "name": "stdout",
     "output_type": "stream",
     "text": [
      "python3 /home/ipausers/bisot/pycode/MscThesis/amftrack/transfer/scripts/from_drop.py /mnt/sun/home-folder/bisot/PRINCE_test/ 1664529240467457025 112\n"
     ]
    },
    {
     "name": "stderr",
     "output_type": "stream",
     "text": [
      "/home/ipausers/bisot/miniconda3/envs/amftrack/lib/python3.9/site-packages/scipy/__init__.py:146: UserWarning: A NumPy version >=1.16.5 and <1.23.0 is required for this version of SciPy (detected version 1.23.1\n",
      "  warnings.warn(f\"A NumPy version >={np_minversion} and <{np_maxversion}\"\n",
      "Traceback (most recent call last):\n",
      "  File \"/home/ipausers/bisot/pycode/MscThesis/amftrack/transfer/scripts/from_drop.py\", line 7, in <module>\n",
      "    from amftrack.util.sys import temp_path\n",
      "  File \"/home/ipausers/bisot/pycode/MscThesis/amftrack/util/sys.py\", line 44, in <module>\n",
      "    dropbox_path = env_config.get(\"DROPBOX_PATH\")\n",
      "  File \"/home/ipausers/bisot/miniconda3/envs/amftrack/lib/python3.9/site-packages/decouple.py\", line 90, in get\n",
      "    raise UndefinedValueError('{} not found. Declare it as envvar or define a default value.'.format(option))\n",
      "decouple.UndefinedValueError: DROPBOX_PATH not found. Declare it as envvar or define a default value.\n"
     ]
    },
    {
     "name": "stdout",
     "output_type": "stream",
     "text": [
      "python3 /home/ipausers/bisot/pycode/MscThesis/amftrack/transfer/scripts/from_drop.py /mnt/sun/home-folder/bisot/PRINCE_test/ 1664529240467457025 113\n"
     ]
    },
    {
     "name": "stderr",
     "output_type": "stream",
     "text": [
      "/home/ipausers/bisot/miniconda3/envs/amftrack/lib/python3.9/site-packages/scipy/__init__.py:146: UserWarning: A NumPy version >=1.16.5 and <1.23.0 is required for this version of SciPy (detected version 1.23.1\n",
      "  warnings.warn(f\"A NumPy version >={np_minversion} and <{np_maxversion}\"\n",
      "Traceback (most recent call last):\n",
      "  File \"/home/ipausers/bisot/pycode/MscThesis/amftrack/transfer/scripts/from_drop.py\", line 7, in <module>\n",
      "    from amftrack.util.sys import temp_path\n",
      "  File \"/home/ipausers/bisot/pycode/MscThesis/amftrack/util/sys.py\", line 44, in <module>\n",
      "    dropbox_path = env_config.get(\"DROPBOX_PATH\")\n",
      "  File \"/home/ipausers/bisot/miniconda3/envs/amftrack/lib/python3.9/site-packages/decouple.py\", line 90, in get\n",
      "    raise UndefinedValueError('{} not found. Declare it as envvar or define a default value.'.format(option))\n",
      "decouple.UndefinedValueError: DROPBOX_PATH not found. Declare it as envvar or define a default value.\n"
     ]
    },
    {
     "name": "stdout",
     "output_type": "stream",
     "text": [
      "python3 /home/ipausers/bisot/pycode/MscThesis/amftrack/transfer/scripts/from_drop.py /mnt/sun/home-folder/bisot/PRINCE_test/ 1664529240467457025 114\n"
     ]
    },
    {
     "name": "stderr",
     "output_type": "stream",
     "text": [
      "/home/ipausers/bisot/miniconda3/envs/amftrack/lib/python3.9/site-packages/scipy/__init__.py:146: UserWarning: A NumPy version >=1.16.5 and <1.23.0 is required for this version of SciPy (detected version 1.23.1\n",
      "  warnings.warn(f\"A NumPy version >={np_minversion} and <{np_maxversion}\"\n",
      "Traceback (most recent call last):\n",
      "  File \"/home/ipausers/bisot/pycode/MscThesis/amftrack/transfer/scripts/from_drop.py\", line 7, in <module>\n",
      "    from amftrack.util.sys import temp_path\n",
      "  File \"/home/ipausers/bisot/pycode/MscThesis/amftrack/util/sys.py\", line 44, in <module>\n",
      "    dropbox_path = env_config.get(\"DROPBOX_PATH\")\n",
      "  File \"/home/ipausers/bisot/miniconda3/envs/amftrack/lib/python3.9/site-packages/decouple.py\", line 90, in get\n",
      "    raise UndefinedValueError('{} not found. Declare it as envvar or define a default value.'.format(option))\n",
      "decouple.UndefinedValueError: DROPBOX_PATH not found. Declare it as envvar or define a default value.\n"
     ]
    },
    {
     "name": "stdout",
     "output_type": "stream",
     "text": [
      "python3 /home/ipausers/bisot/pycode/MscThesis/amftrack/transfer/scripts/from_drop.py /mnt/sun/home-folder/bisot/PRINCE_test/ 1664529240467457025 115\n"
     ]
    },
    {
     "name": "stderr",
     "output_type": "stream",
     "text": [
      "/home/ipausers/bisot/miniconda3/envs/amftrack/lib/python3.9/site-packages/scipy/__init__.py:146: UserWarning: A NumPy version >=1.16.5 and <1.23.0 is required for this version of SciPy (detected version 1.23.1\n",
      "  warnings.warn(f\"A NumPy version >={np_minversion} and <{np_maxversion}\"\n",
      "Traceback (most recent call last):\n",
      "  File \"/home/ipausers/bisot/pycode/MscThesis/amftrack/transfer/scripts/from_drop.py\", line 7, in <module>\n",
      "    from amftrack.util.sys import temp_path\n",
      "  File \"/home/ipausers/bisot/pycode/MscThesis/amftrack/util/sys.py\", line 44, in <module>\n",
      "    dropbox_path = env_config.get(\"DROPBOX_PATH\")\n",
      "  File \"/home/ipausers/bisot/miniconda3/envs/amftrack/lib/python3.9/site-packages/decouple.py\", line 90, in get\n",
      "    raise UndefinedValueError('{} not found. Declare it as envvar or define a default value.'.format(option))\n",
      "decouple.UndefinedValueError: DROPBOX_PATH not found. Declare it as envvar or define a default value.\n"
     ]
    },
    {
     "name": "stdout",
     "output_type": "stream",
     "text": [
      "python3 /home/ipausers/bisot/pycode/MscThesis/amftrack/transfer/scripts/from_drop.py /mnt/sun/home-folder/bisot/PRINCE_test/ 1664529240467457025 116\n"
     ]
    },
    {
     "name": "stderr",
     "output_type": "stream",
     "text": [
      "/home/ipausers/bisot/miniconda3/envs/amftrack/lib/python3.9/site-packages/scipy/__init__.py:146: UserWarning: A NumPy version >=1.16.5 and <1.23.0 is required for this version of SciPy (detected version 1.23.1\n",
      "  warnings.warn(f\"A NumPy version >={np_minversion} and <{np_maxversion}\"\n",
      "Traceback (most recent call last):\n",
      "  File \"/home/ipausers/bisot/pycode/MscThesis/amftrack/transfer/scripts/from_drop.py\", line 7, in <module>\n",
      "    from amftrack.util.sys import temp_path\n",
      "  File \"/home/ipausers/bisot/pycode/MscThesis/amftrack/util/sys.py\", line 44, in <module>\n",
      "    dropbox_path = env_config.get(\"DROPBOX_PATH\")\n",
      "  File \"/home/ipausers/bisot/miniconda3/envs/amftrack/lib/python3.9/site-packages/decouple.py\", line 90, in get\n",
      "    raise UndefinedValueError('{} not found. Declare it as envvar or define a default value.'.format(option))\n",
      "decouple.UndefinedValueError: DROPBOX_PATH not found. Declare it as envvar or define a default value.\n"
     ]
    },
    {
     "name": "stdout",
     "output_type": "stream",
     "text": [
      "python3 /home/ipausers/bisot/pycode/MscThesis/amftrack/transfer/scripts/from_drop.py /mnt/sun/home-folder/bisot/PRINCE_test/ 1664529240467457025 117\n"
     ]
    },
    {
     "name": "stderr",
     "output_type": "stream",
     "text": [
      "/home/ipausers/bisot/miniconda3/envs/amftrack/lib/python3.9/site-packages/scipy/__init__.py:146: UserWarning: A NumPy version >=1.16.5 and <1.23.0 is required for this version of SciPy (detected version 1.23.1\n",
      "  warnings.warn(f\"A NumPy version >={np_minversion} and <{np_maxversion}\"\n",
      "Traceback (most recent call last):\n",
      "  File \"/home/ipausers/bisot/pycode/MscThesis/amftrack/transfer/scripts/from_drop.py\", line 7, in <module>\n",
      "    from amftrack.util.sys import temp_path\n",
      "  File \"/home/ipausers/bisot/pycode/MscThesis/amftrack/util/sys.py\", line 44, in <module>\n",
      "    dropbox_path = env_config.get(\"DROPBOX_PATH\")\n",
      "  File \"/home/ipausers/bisot/miniconda3/envs/amftrack/lib/python3.9/site-packages/decouple.py\", line 90, in get\n",
      "    raise UndefinedValueError('{} not found. Declare it as envvar or define a default value.'.format(option))\n",
      "decouple.UndefinedValueError: DROPBOX_PATH not found. Declare it as envvar or define a default value.\n"
     ]
    },
    {
     "name": "stdout",
     "output_type": "stream",
     "text": [
      "python3 /home/ipausers/bisot/pycode/MscThesis/amftrack/transfer/scripts/from_drop.py /mnt/sun/home-folder/bisot/PRINCE_test/ 1664529240467457025 118\n"
     ]
    },
    {
     "name": "stderr",
     "output_type": "stream",
     "text": [
      "/home/ipausers/bisot/miniconda3/envs/amftrack/lib/python3.9/site-packages/scipy/__init__.py:146: UserWarning: A NumPy version >=1.16.5 and <1.23.0 is required for this version of SciPy (detected version 1.23.1\n",
      "  warnings.warn(f\"A NumPy version >={np_minversion} and <{np_maxversion}\"\n",
      "Traceback (most recent call last):\n",
      "  File \"/home/ipausers/bisot/pycode/MscThesis/amftrack/transfer/scripts/from_drop.py\", line 7, in <module>\n",
      "    from amftrack.util.sys import temp_path\n",
      "  File \"/home/ipausers/bisot/pycode/MscThesis/amftrack/util/sys.py\", line 44, in <module>\n",
      "    dropbox_path = env_config.get(\"DROPBOX_PATH\")\n",
      "  File \"/home/ipausers/bisot/miniconda3/envs/amftrack/lib/python3.9/site-packages/decouple.py\", line 90, in get\n",
      "    raise UndefinedValueError('{} not found. Declare it as envvar or define a default value.'.format(option))\n",
      "decouple.UndefinedValueError: DROPBOX_PATH not found. Declare it as envvar or define a default value.\n"
     ]
    },
    {
     "name": "stdout",
     "output_type": "stream",
     "text": [
      "python3 /home/ipausers/bisot/pycode/MscThesis/amftrack/transfer/scripts/from_drop.py /mnt/sun/home-folder/bisot/PRINCE_test/ 1664529240467457025 119\n"
     ]
    },
    {
     "name": "stderr",
     "output_type": "stream",
     "text": [
      "/home/ipausers/bisot/miniconda3/envs/amftrack/lib/python3.9/site-packages/scipy/__init__.py:146: UserWarning: A NumPy version >=1.16.5 and <1.23.0 is required for this version of SciPy (detected version 1.23.1\n",
      "  warnings.warn(f\"A NumPy version >={np_minversion} and <{np_maxversion}\"\n",
      "Traceback (most recent call last):\n",
      "  File \"/home/ipausers/bisot/pycode/MscThesis/amftrack/transfer/scripts/from_drop.py\", line 7, in <module>\n",
      "    from amftrack.util.sys import temp_path\n",
      "  File \"/home/ipausers/bisot/pycode/MscThesis/amftrack/util/sys.py\", line 44, in <module>\n",
      "    dropbox_path = env_config.get(\"DROPBOX_PATH\")\n",
      "  File \"/home/ipausers/bisot/miniconda3/envs/amftrack/lib/python3.9/site-packages/decouple.py\", line 90, in get\n",
      "    raise UndefinedValueError('{} not found. Declare it as envvar or define a default value.'.format(option))\n",
      "decouple.UndefinedValueError: DROPBOX_PATH not found. Declare it as envvar or define a default value.\n"
     ]
    },
    {
     "name": "stdout",
     "output_type": "stream",
     "text": [
      "python3 /home/ipausers/bisot/pycode/MscThesis/amftrack/transfer/scripts/from_drop.py /mnt/sun/home-folder/bisot/PRINCE_test/ 1664529240467457025 120\n"
     ]
    },
    {
     "name": "stderr",
     "output_type": "stream",
     "text": [
      "/home/ipausers/bisot/miniconda3/envs/amftrack/lib/python3.9/site-packages/scipy/__init__.py:146: UserWarning: A NumPy version >=1.16.5 and <1.23.0 is required for this version of SciPy (detected version 1.23.1\n",
      "  warnings.warn(f\"A NumPy version >={np_minversion} and <{np_maxversion}\"\n",
      "Traceback (most recent call last):\n",
      "  File \"/home/ipausers/bisot/pycode/MscThesis/amftrack/transfer/scripts/from_drop.py\", line 7, in <module>\n",
      "    from amftrack.util.sys import temp_path\n",
      "  File \"/home/ipausers/bisot/pycode/MscThesis/amftrack/util/sys.py\", line 44, in <module>\n",
      "    dropbox_path = env_config.get(\"DROPBOX_PATH\")\n",
      "  File \"/home/ipausers/bisot/miniconda3/envs/amftrack/lib/python3.9/site-packages/decouple.py\", line 90, in get\n",
      "    raise UndefinedValueError('{} not found. Declare it as envvar or define a default value.'.format(option))\n",
      "decouple.UndefinedValueError: DROPBOX_PATH not found. Declare it as envvar or define a default value.\n"
     ]
    },
    {
     "name": "stdout",
     "output_type": "stream",
     "text": [
      "python3 /home/ipausers/bisot/pycode/MscThesis/amftrack/transfer/scripts/from_drop.py /mnt/sun/home-folder/bisot/PRINCE_test/ 1664529240467457025 121\n"
     ]
    },
    {
     "name": "stderr",
     "output_type": "stream",
     "text": [
      "/home/ipausers/bisot/miniconda3/envs/amftrack/lib/python3.9/site-packages/scipy/__init__.py:146: UserWarning: A NumPy version >=1.16.5 and <1.23.0 is required for this version of SciPy (detected version 1.23.1\n",
      "  warnings.warn(f\"A NumPy version >={np_minversion} and <{np_maxversion}\"\n"
     ]
    }
   ],
   "source": [
    "run_transfer(\n",
    "    \"from_drop.py\",\n",
    "    [directory_targ],\n",
    "    folders_drop,\n",
    ")\n",
    "clear_output(wait=False)"
   ]
  },
  {
   "cell_type": "markdown",
   "metadata": {},
   "source": [
    "**To transfer data from dropbox to archive**\n",
    "- use the 'from_drop.py' function including the folders of interest\n"
   ]
  },
  {
   "cell_type": "code",
   "execution_count": 4,
   "metadata": {},
   "outputs": [],
   "source": [
    "folders = all_folders.loc[all_folders[\"Plate\"].isin([792, 94])]"
   ]
  },
  {
   "cell_type": "code",
   "execution_count": 48,
   "metadata": {},
   "outputs": [
    {
     "data": {
      "text/plain": [
       "1858"
      ]
     },
     "execution_count": 48,
     "metadata": {},
     "output_type": "execute_result"
    }
   ],
   "source": [
    "len(folders)"
   ]
  },
  {
   "cell_type": "code",
   "execution_count": 47,
   "metadata": {
    "collapsed": true,
    "jupyter": {
     "outputs_hidden": true
    },
    "tags": []
   },
   "outputs": [
    {
     "name": "stderr",
     "output_type": "stream",
     "text": [
      "sbatch: Single node jobs run on a shared node by default. Add --exclusive if you want to use a node exclusively.\n",
      "sbatch: You will be charged for 0.03125 node. A full node consists of 32 CPU cores, 240000 MiB of memory and 0 GPUs and can be shared by up to 32 jobs.\n",
      "sbatch: Single node jobs run on a shared node by default. Add --exclusive if you want to use a node exclusively.\n",
      "sbatch: You will be charged for 0.03125 node. A full node consists of 32 CPU cores, 240000 MiB of memory and 0 GPUs and can be shared by up to 32 jobs.\n",
      "sbatch: Single node jobs run on a shared node by default. Add --exclusive if you want to use a node exclusively.\n",
      "sbatch: You will be charged for 0.03125 node. A full node consists of 32 CPU cores, 240000 MiB of memory and 0 GPUs and can be shared by up to 32 jobs.\n",
      "sbatch: Single node jobs run on a shared node by default. Add --exclusive if you want to use a node exclusively.\n",
      "sbatch: You will be charged for 0.03125 node. A full node consists of 32 CPU cores, 240000 MiB of memory and 0 GPUs and can be shared by up to 32 jobs.\n"
     ]
    },
    {
     "name": "stdout",
     "output_type": "stream",
     "text": [
      "Submitted batch job 418130\n",
      "Submitted batch job 418131\n",
      "Submitted batch job 418132\n",
      "Submitted batch job 418133\n"
     ]
    },
    {
     "name": "stderr",
     "output_type": "stream",
     "text": [
      "sbatch: Single node jobs run on a shared node by default. Add --exclusive if you want to use a node exclusively.\n",
      "sbatch: You will be charged for 0.03125 node. A full node consists of 32 CPU cores, 240000 MiB of memory and 0 GPUs and can be shared by up to 32 jobs.\n",
      "sbatch: Single node jobs run on a shared node by default. Add --exclusive if you want to use a node exclusively.\n",
      "sbatch: You will be charged for 0.03125 node. A full node consists of 32 CPU cores, 240000 MiB of memory and 0 GPUs and can be shared by up to 32 jobs.\n",
      "sbatch: Single node jobs run on a shared node by default. Add --exclusive if you want to use a node exclusively.\n",
      "sbatch: You will be charged for 0.03125 node. A full node consists of 32 CPU cores, 240000 MiB of memory and 0 GPUs and can be shared by up to 32 jobs.\n",
      "sbatch: Single node jobs run on a shared node by default. Add --exclusive if you want to use a node exclusively.\n",
      "sbatch: You will be charged for 0.03125 node. A full node consists of 32 CPU cores, 240000 MiB of memory and 0 GPUs and can be shared by up to 32 jobs.\n"
     ]
    },
    {
     "name": "stdout",
     "output_type": "stream",
     "text": [
      "Submitted batch job 418134\n",
      "Submitted batch job 418135\n",
      "Submitted batch job 418136\n",
      "Submitted batch job 418138\n"
     ]
    },
    {
     "name": "stderr",
     "output_type": "stream",
     "text": [
      "sbatch: Single node jobs run on a shared node by default. Add --exclusive if you want to use a node exclusively.\n",
      "sbatch: You will be charged for 0.03125 node. A full node consists of 32 CPU cores, 240000 MiB of memory and 0 GPUs and can be shared by up to 32 jobs.\n",
      "sbatch: Single node jobs run on a shared node by default. Add --exclusive if you want to use a node exclusively.\n",
      "sbatch: You will be charged for 0.03125 node. A full node consists of 32 CPU cores, 240000 MiB of memory and 0 GPUs and can be shared by up to 32 jobs.\n",
      "sbatch: Single node jobs run on a shared node by default. Add --exclusive if you want to use a node exclusively.\n",
      "sbatch: You will be charged for 0.03125 node. A full node consists of 32 CPU cores, 240000 MiB of memory and 0 GPUs and can be shared by up to 32 jobs.\n",
      "sbatch: Single node jobs run on a shared node by default. Add --exclusive if you want to use a node exclusively.\n",
      "sbatch: You will be charged for 0.03125 node. A full node consists of 32 CPU cores, 240000 MiB of memory and 0 GPUs and can be shared by up to 32 jobs.\n"
     ]
    },
    {
     "name": "stdout",
     "output_type": "stream",
     "text": [
      "Submitted batch job 418139\n",
      "Submitted batch job 418140\n",
      "Submitted batch job 418141\n",
      "Submitted batch job 418142\n"
     ]
    },
    {
     "name": "stderr",
     "output_type": "stream",
     "text": [
      "sbatch: Single node jobs run on a shared node by default. Add --exclusive if you want to use a node exclusively.\n",
      "sbatch: You will be charged for 0.03125 node. A full node consists of 32 CPU cores, 240000 MiB of memory and 0 GPUs and can be shared by up to 32 jobs.\n",
      "sbatch: Single node jobs run on a shared node by default. Add --exclusive if you want to use a node exclusively.\n",
      "sbatch: You will be charged for 0.03125 node. A full node consists of 32 CPU cores, 240000 MiB of memory and 0 GPUs and can be shared by up to 32 jobs.\n",
      "sbatch: Single node jobs run on a shared node by default. Add --exclusive if you want to use a node exclusively.\n",
      "sbatch: You will be charged for 0.03125 node. A full node consists of 32 CPU cores, 240000 MiB of memory and 0 GPUs and can be shared by up to 32 jobs.\n",
      "sbatch: Single node jobs run on a shared node by default. Add --exclusive if you want to use a node exclusively.\n",
      "sbatch: You will be charged for 0.03125 node. A full node consists of 32 CPU cores, 240000 MiB of memory and 0 GPUs and can be shared by up to 32 jobs.\n"
     ]
    },
    {
     "name": "stdout",
     "output_type": "stream",
     "text": [
      "Submitted batch job 418143\n",
      "Submitted batch job 418144\n",
      "Submitted batch job 418145\n",
      "Submitted batch job 418146\n"
     ]
    },
    {
     "name": "stderr",
     "output_type": "stream",
     "text": [
      "sbatch: Single node jobs run on a shared node by default. Add --exclusive if you want to use a node exclusively.\n",
      "sbatch: You will be charged for 0.03125 node. A full node consists of 32 CPU cores, 240000 MiB of memory and 0 GPUs and can be shared by up to 32 jobs.\n",
      "sbatch: Single node jobs run on a shared node by default. Add --exclusive if you want to use a node exclusively.\n",
      "sbatch: You will be charged for 0.03125 node. A full node consists of 32 CPU cores, 240000 MiB of memory and 0 GPUs and can be shared by up to 32 jobs.\n",
      "sbatch: Single node jobs run on a shared node by default. Add --exclusive if you want to use a node exclusively.\n",
      "sbatch: You will be charged for 0.03125 node. A full node consists of 32 CPU cores, 240000 MiB of memory and 0 GPUs and can be shared by up to 32 jobs.\n",
      "sbatch: Single node jobs run on a shared node by default. Add --exclusive if you want to use a node exclusively.\n",
      "sbatch: You will be charged for 0.03125 node. A full node consists of 32 CPU cores, 240000 MiB of memory and 0 GPUs and can be shared by up to 32 jobs.\n"
     ]
    },
    {
     "name": "stdout",
     "output_type": "stream",
     "text": [
      "Submitted batch job 418147\n",
      "Submitted batch job 418148\n",
      "Submitted batch job 418149\n",
      "Submitted batch job 418150\n"
     ]
    },
    {
     "name": "stderr",
     "output_type": "stream",
     "text": [
      "sbatch: Single node jobs run on a shared node by default. Add --exclusive if you want to use a node exclusively.\n",
      "sbatch: You will be charged for 0.03125 node. A full node consists of 32 CPU cores, 240000 MiB of memory and 0 GPUs and can be shared by up to 32 jobs.\n",
      "sbatch: Single node jobs run on a shared node by default. Add --exclusive if you want to use a node exclusively.\n",
      "sbatch: You will be charged for 0.03125 node. A full node consists of 32 CPU cores, 240000 MiB of memory and 0 GPUs and can be shared by up to 32 jobs.\n",
      "sbatch: Single node jobs run on a shared node by default. Add --exclusive if you want to use a node exclusively.\n",
      "sbatch: You will be charged for 0.03125 node. A full node consists of 32 CPU cores, 240000 MiB of memory and 0 GPUs and can be shared by up to 32 jobs.\n",
      "sbatch: Single node jobs run on a shared node by default. Add --exclusive if you want to use a node exclusively.\n",
      "sbatch: You will be charged for 0.03125 node. A full node consists of 32 CPU cores, 240000 MiB of memory and 0 GPUs and can be shared by up to 32 jobs.\n"
     ]
    },
    {
     "name": "stdout",
     "output_type": "stream",
     "text": [
      "Submitted batch job 418151\n",
      "Submitted batch job 418152\n",
      "Submitted batch job 418153\n",
      "Submitted batch job 418154\n"
     ]
    },
    {
     "name": "stderr",
     "output_type": "stream",
     "text": [
      "sbatch: Single node jobs run on a shared node by default. Add --exclusive if you want to use a node exclusively.\n",
      "sbatch: You will be charged for 0.03125 node. A full node consists of 32 CPU cores, 240000 MiB of memory and 0 GPUs and can be shared by up to 32 jobs.\n",
      "sbatch: Single node jobs run on a shared node by default. Add --exclusive if you want to use a node exclusively.\n",
      "sbatch: You will be charged for 0.03125 node. A full node consists of 32 CPU cores, 240000 MiB of memory and 0 GPUs and can be shared by up to 32 jobs.\n",
      "sbatch: Single node jobs run on a shared node by default. Add --exclusive if you want to use a node exclusively.\n",
      "sbatch: You will be charged for 0.03125 node. A full node consists of 32 CPU cores, 240000 MiB of memory and 0 GPUs and can be shared by up to 32 jobs.\n",
      "sbatch: Single node jobs run on a shared node by default. Add --exclusive if you want to use a node exclusively.\n",
      "sbatch: You will be charged for 0.03125 node. A full node consists of 32 CPU cores, 240000 MiB of memory and 0 GPUs and can be shared by up to 32 jobs.\n"
     ]
    },
    {
     "name": "stdout",
     "output_type": "stream",
     "text": [
      "Submitted batch job 418155\n",
      "Submitted batch job 418156\n",
      "Submitted batch job 418157\n",
      "Submitted batch job 418158\n",
      "Submitted batch job 418160\n",
      "Submitted batch job 418161\n",
      "Submitted batch job 418162\n",
      "Submitted batch job 418163\n"
     ]
    },
    {
     "name": "stderr",
     "output_type": "stream",
     "text": [
      "sbatch: Single node jobs run on a shared node by default. Add --exclusive if you want to use a node exclusively.\n",
      "sbatch: You will be charged for 0.03125 node. A full node consists of 32 CPU cores, 240000 MiB of memory and 0 GPUs and can be shared by up to 32 jobs.\n",
      "sbatch: Single node jobs run on a shared node by default. Add --exclusive if you want to use a node exclusively.\n",
      "sbatch: You will be charged for 0.03125 node. A full node consists of 32 CPU cores, 240000 MiB of memory and 0 GPUs and can be shared by up to 32 jobs.\n",
      "sbatch: Single node jobs run on a shared node by default. Add --exclusive if you want to use a node exclusively.\n",
      "sbatch: You will be charged for 0.03125 node. A full node consists of 32 CPU cores, 240000 MiB of memory and 0 GPUs and can be shared by up to 32 jobs.\n",
      "sbatch: Single node jobs run on a shared node by default. Add --exclusive if you want to use a node exclusively.\n",
      "sbatch: You will be charged for 0.03125 node. A full node consists of 32 CPU cores, 240000 MiB of memory and 0 GPUs and can be shared by up to 32 jobs.\n",
      "sbatch: Single node jobs run on a shared node by default. Add --exclusive if you want to use a node exclusively.\n",
      "sbatch: You will be charged for 0.03125 node. A full node consists of 32 CPU cores, 240000 MiB of memory and 0 GPUs and can be shared by up to 32 jobs.\n",
      "sbatch: Single node jobs run on a shared node by default. Add --exclusive if you want to use a node exclusively.\n",
      "sbatch: You will be charged for 0.03125 node. A full node consists of 32 CPU cores, 240000 MiB of memory and 0 GPUs and can be shared by up to 32 jobs.\n",
      "sbatch: Single node jobs run on a shared node by default. Add --exclusive if you want to use a node exclusively.\n",
      "sbatch: You will be charged for 0.03125 node. A full node consists of 32 CPU cores, 240000 MiB of memory and 0 GPUs and can be shared by up to 32 jobs.\n",
      "sbatch: Single node jobs run on a shared node by default. Add --exclusive if you want to use a node exclusively.\n",
      "sbatch: You will be charged for 0.03125 node. A full node consists of 32 CPU cores, 240000 MiB of memory and 0 GPUs and can be shared by up to 32 jobs.\n"
     ]
    },
    {
     "name": "stdout",
     "output_type": "stream",
     "text": [
      "Submitted batch job 418164\n",
      "Submitted batch job 418165\n",
      "Submitted batch job 418166\n",
      "Submitted batch job 418167\n",
      "Submitted batch job 418168\n",
      "Submitted batch job 418169\n",
      "Submitted batch job 418170\n",
      "Submitted batch job 418171\n"
     ]
    },
    {
     "name": "stderr",
     "output_type": "stream",
     "text": [
      "sbatch: Single node jobs run on a shared node by default. Add --exclusive if you want to use a node exclusively.\n",
      "sbatch: You will be charged for 0.03125 node. A full node consists of 32 CPU cores, 240000 MiB of memory and 0 GPUs and can be shared by up to 32 jobs.\n",
      "sbatch: Single node jobs run on a shared node by default. Add --exclusive if you want to use a node exclusively.\n",
      "sbatch: You will be charged for 0.03125 node. A full node consists of 32 CPU cores, 240000 MiB of memory and 0 GPUs and can be shared by up to 32 jobs.\n",
      "sbatch: Single node jobs run on a shared node by default. Add --exclusive if you want to use a node exclusively.\n",
      "sbatch: You will be charged for 0.03125 node. A full node consists of 32 CPU cores, 240000 MiB of memory and 0 GPUs and can be shared by up to 32 jobs.\n",
      "sbatch: Single node jobs run on a shared node by default. Add --exclusive if you want to use a node exclusively.\n",
      "sbatch: You will be charged for 0.03125 node. A full node consists of 32 CPU cores, 240000 MiB of memory and 0 GPUs and can be shared by up to 32 jobs.\n",
      "sbatch: Single node jobs run on a shared node by default. Add --exclusive if you want to use a node exclusively.\n",
      "sbatch: You will be charged for 0.03125 node. A full node consists of 32 CPU cores, 240000 MiB of memory and 0 GPUs and can be shared by up to 32 jobs.\n",
      "sbatch: Single node jobs run on a shared node by default. Add --exclusive if you want to use a node exclusively.\n",
      "sbatch: You will be charged for 0.03125 node. A full node consists of 32 CPU cores, 240000 MiB of memory and 0 GPUs and can be shared by up to 32 jobs.\n",
      "sbatch: Single node jobs run on a shared node by default. Add --exclusive if you want to use a node exclusively.\n",
      "sbatch: You will be charged for 0.03125 node. A full node consists of 32 CPU cores, 240000 MiB of memory and 0 GPUs and can be shared by up to 32 jobs.\n",
      "sbatch: Single node jobs run on a shared node by default. Add --exclusive if you want to use a node exclusively.\n",
      "sbatch: You will be charged for 0.03125 node. A full node consists of 32 CPU cores, 240000 MiB of memory and 0 GPUs and can be shared by up to 32 jobs.\n"
     ]
    },
    {
     "name": "stdout",
     "output_type": "stream",
     "text": [
      "Submitted batch job 418172\n",
      "Submitted batch job 418173\n",
      "Submitted batch job 418174\n",
      "Submitted batch job 418175\n"
     ]
    },
    {
     "name": "stderr",
     "output_type": "stream",
     "text": [
      "sbatch: Single node jobs run on a shared node by default. Add --exclusive if you want to use a node exclusively.\n",
      "sbatch: You will be charged for 0.03125 node. A full node consists of 32 CPU cores, 240000 MiB of memory and 0 GPUs and can be shared by up to 32 jobs.\n",
      "sbatch: Single node jobs run on a shared node by default. Add --exclusive if you want to use a node exclusively.\n",
      "sbatch: You will be charged for 0.03125 node. A full node consists of 32 CPU cores, 240000 MiB of memory and 0 GPUs and can be shared by up to 32 jobs.\n",
      "sbatch: Single node jobs run on a shared node by default. Add --exclusive if you want to use a node exclusively.\n",
      "sbatch: You will be charged for 0.03125 node. A full node consists of 32 CPU cores, 240000 MiB of memory and 0 GPUs and can be shared by up to 32 jobs.\n",
      "sbatch: Single node jobs run on a shared node by default. Add --exclusive if you want to use a node exclusively.\n",
      "sbatch: You will be charged for 0.03125 node. A full node consists of 32 CPU cores, 240000 MiB of memory and 0 GPUs and can be shared by up to 32 jobs.\n"
     ]
    },
    {
     "name": "stdout",
     "output_type": "stream",
     "text": [
      "Submitted batch job 418176\n",
      "Submitted batch job 418177\n",
      "Submitted batch job 418178\n",
      "Submitted batch job 418179\n"
     ]
    },
    {
     "name": "stderr",
     "output_type": "stream",
     "text": [
      "sbatch: Single node jobs run on a shared node by default. Add --exclusive if you want to use a node exclusively.\n",
      "sbatch: You will be charged for 0.03125 node. A full node consists of 32 CPU cores, 240000 MiB of memory and 0 GPUs and can be shared by up to 32 jobs.\n",
      "sbatch: Single node jobs run on a shared node by default. Add --exclusive if you want to use a node exclusively.\n",
      "sbatch: You will be charged for 0.03125 node. A full node consists of 32 CPU cores, 240000 MiB of memory and 0 GPUs and can be shared by up to 32 jobs.\n",
      "sbatch: Single node jobs run on a shared node by default. Add --exclusive if you want to use a node exclusively.\n",
      "sbatch: You will be charged for 0.03125 node. A full node consists of 32 CPU cores, 240000 MiB of memory and 0 GPUs and can be shared by up to 32 jobs.\n",
      "sbatch: Single node jobs run on a shared node by default. Add --exclusive if you want to use a node exclusively.\n",
      "sbatch: You will be charged for 0.03125 node. A full node consists of 32 CPU cores, 240000 MiB of memory and 0 GPUs and can be shared by up to 32 jobs.\n"
     ]
    },
    {
     "name": "stdout",
     "output_type": "stream",
     "text": [
      "Submitted batch job 418180\n",
      "Submitted batch job 418182\n",
      "Submitted batch job 418183\n",
      "Submitted batch job 418184\n",
      "Submitted batch job 418185\n",
      "Submitted batch job 418186\n",
      "Submitted batch job 418187\n",
      "Submitted batch job 418188\n"
     ]
    },
    {
     "name": "stderr",
     "output_type": "stream",
     "text": [
      "sbatch: Single node jobs run on a shared node by default. Add --exclusive if you want to use a node exclusively.\n",
      "sbatch: You will be charged for 0.03125 node. A full node consists of 32 CPU cores, 240000 MiB of memory and 0 GPUs and can be shared by up to 32 jobs.\n",
      "sbatch: Single node jobs run on a shared node by default. Add --exclusive if you want to use a node exclusively.\n",
      "sbatch: You will be charged for 0.03125 node. A full node consists of 32 CPU cores, 240000 MiB of memory and 0 GPUs and can be shared by up to 32 jobs.\n",
      "sbatch: Single node jobs run on a shared node by default. Add --exclusive if you want to use a node exclusively.\n",
      "sbatch: You will be charged for 0.03125 node. A full node consists of 32 CPU cores, 240000 MiB of memory and 0 GPUs and can be shared by up to 32 jobs.\n",
      "sbatch: Single node jobs run on a shared node by default. Add --exclusive if you want to use a node exclusively.\n",
      "sbatch: You will be charged for 0.03125 node. A full node consists of 32 CPU cores, 240000 MiB of memory and 0 GPUs and can be shared by up to 32 jobs.\n"
     ]
    },
    {
     "name": "stdout",
     "output_type": "stream",
     "text": [
      "Submitted batch job 418189\n",
      "Submitted batch job 418190\n",
      "Submitted batch job 418191\n",
      "Submitted batch job 418192\n"
     ]
    },
    {
     "name": "stderr",
     "output_type": "stream",
     "text": [
      "sbatch: Single node jobs run on a shared node by default. Add --exclusive if you want to use a node exclusively.\n",
      "sbatch: You will be charged for 0.03125 node. A full node consists of 32 CPU cores, 240000 MiB of memory and 0 GPUs and can be shared by up to 32 jobs.\n",
      "sbatch: Single node jobs run on a shared node by default. Add --exclusive if you want to use a node exclusively.\n",
      "sbatch: You will be charged for 0.03125 node. A full node consists of 32 CPU cores, 240000 MiB of memory and 0 GPUs and can be shared by up to 32 jobs.\n",
      "sbatch: Single node jobs run on a shared node by default. Add --exclusive if you want to use a node exclusively.\n",
      "sbatch: You will be charged for 0.03125 node. A full node consists of 32 CPU cores, 240000 MiB of memory and 0 GPUs and can be shared by up to 32 jobs.\n",
      "sbatch: Single node jobs run on a shared node by default. Add --exclusive if you want to use a node exclusively.\n",
      "sbatch: You will be charged for 0.03125 node. A full node consists of 32 CPU cores, 240000 MiB of memory and 0 GPUs and can be shared by up to 32 jobs.\n"
     ]
    },
    {
     "name": "stdout",
     "output_type": "stream",
     "text": [
      "Submitted batch job 418193\n",
      "Submitted batch job 418194\n",
      "Submitted batch job 418195\n",
      "Submitted batch job 418196\n"
     ]
    },
    {
     "name": "stderr",
     "output_type": "stream",
     "text": [
      "sbatch: Single node jobs run on a shared node by default. Add --exclusive if you want to use a node exclusively.\n",
      "sbatch: You will be charged for 0.03125 node. A full node consists of 32 CPU cores, 240000 MiB of memory and 0 GPUs and can be shared by up to 32 jobs.\n",
      "sbatch: Single node jobs run on a shared node by default. Add --exclusive if you want to use a node exclusively.\n",
      "sbatch: You will be charged for 0.03125 node. A full node consists of 32 CPU cores, 240000 MiB of memory and 0 GPUs and can be shared by up to 32 jobs.\n",
      "sbatch: Single node jobs run on a shared node by default. Add --exclusive if you want to use a node exclusively.\n",
      "sbatch: You will be charged for 0.03125 node. A full node consists of 32 CPU cores, 240000 MiB of memory and 0 GPUs and can be shared by up to 32 jobs.\n",
      "sbatch: Single node jobs run on a shared node by default. Add --exclusive if you want to use a node exclusively.\n",
      "sbatch: You will be charged for 0.03125 node. A full node consists of 32 CPU cores, 240000 MiB of memory and 0 GPUs and can be shared by up to 32 jobs.\n",
      "sbatch: Single node jobs run on a shared node by default. Add --exclusive if you want to use a node exclusively.\n",
      "sbatch: You will be charged for 0.03125 node. A full node consists of 32 CPU cores, 240000 MiB of memory and 0 GPUs and can be shared by up to 32 jobs.\n",
      "sbatch: Single node jobs run on a shared node by default. Add --exclusive if you want to use a node exclusively.\n",
      "sbatch: You will be charged for 0.03125 node. A full node consists of 32 CPU cores, 240000 MiB of memory and 0 GPUs and can be shared by up to 32 jobs.\n",
      "sbatch: Single node jobs run on a shared node by default. Add --exclusive if you want to use a node exclusively.\n",
      "sbatch: You will be charged for 0.03125 node. A full node consists of 32 CPU cores, 240000 MiB of memory and 0 GPUs and can be shared by up to 32 jobs.\n",
      "sbatch: Single node jobs run on a shared node by default. Add --exclusive if you want to use a node exclusively.\n",
      "sbatch: You will be charged for 0.03125 node. A full node consists of 32 CPU cores, 240000 MiB of memory and 0 GPUs and can be shared by up to 32 jobs.\n"
     ]
    },
    {
     "name": "stdout",
     "output_type": "stream",
     "text": [
      "Submitted batch job 418197\n",
      "Submitted batch job 418198\n",
      "Submitted batch job 418199\n",
      "Submitted batch job 418200\n"
     ]
    },
    {
     "name": "stderr",
     "output_type": "stream",
     "text": [
      "sbatch: Single node jobs run on a shared node by default. Add --exclusive if you want to use a node exclusively.\n",
      "sbatch: You will be charged for 0.03125 node. A full node consists of 32 CPU cores, 240000 MiB of memory and 0 GPUs and can be shared by up to 32 jobs.\n",
      "sbatch: Single node jobs run on a shared node by default. Add --exclusive if you want to use a node exclusively.\n",
      "sbatch: You will be charged for 0.03125 node. A full node consists of 32 CPU cores, 240000 MiB of memory and 0 GPUs and can be shared by up to 32 jobs.\n",
      "sbatch: Single node jobs run on a shared node by default. Add --exclusive if you want to use a node exclusively.\n",
      "sbatch: You will be charged for 0.03125 node. A full node consists of 32 CPU cores, 240000 MiB of memory and 0 GPUs and can be shared by up to 32 jobs.\n",
      "sbatch: Single node jobs run on a shared node by default. Add --exclusive if you want to use a node exclusively.\n",
      "sbatch: You will be charged for 0.03125 node. A full node consists of 32 CPU cores, 240000 MiB of memory and 0 GPUs and can be shared by up to 32 jobs.\n"
     ]
    },
    {
     "name": "stdout",
     "output_type": "stream",
     "text": [
      "Submitted batch job 418201\n",
      "Submitted batch job 418203\n",
      "Submitted batch job 418204\n",
      "Submitted batch job 418205\n"
     ]
    },
    {
     "name": "stderr",
     "output_type": "stream",
     "text": [
      "sbatch: Single node jobs run on a shared node by default. Add --exclusive if you want to use a node exclusively.\n",
      "sbatch: You will be charged for 0.03125 node. A full node consists of 32 CPU cores, 240000 MiB of memory and 0 GPUs and can be shared by up to 32 jobs.\n",
      "sbatch: Single node jobs run on a shared node by default. Add --exclusive if you want to use a node exclusively.\n",
      "sbatch: You will be charged for 0.03125 node. A full node consists of 32 CPU cores, 240000 MiB of memory and 0 GPUs and can be shared by up to 32 jobs.\n",
      "sbatch: Single node jobs run on a shared node by default. Add --exclusive if you want to use a node exclusively.\n",
      "sbatch: You will be charged for 0.03125 node. A full node consists of 32 CPU cores, 240000 MiB of memory and 0 GPUs and can be shared by up to 32 jobs.\n",
      "sbatch: Single node jobs run on a shared node by default. Add --exclusive if you want to use a node exclusively.\n",
      "sbatch: You will be charged for 0.03125 node. A full node consists of 32 CPU cores, 240000 MiB of memory and 0 GPUs and can be shared by up to 32 jobs.\n"
     ]
    },
    {
     "name": "stdout",
     "output_type": "stream",
     "text": [
      "Submitted batch job 418206\n",
      "Submitted batch job 418207\n",
      "Submitted batch job 418208\n",
      "Submitted batch job 418209\n"
     ]
    },
    {
     "name": "stderr",
     "output_type": "stream",
     "text": [
      "sbatch: Single node jobs run on a shared node by default. Add --exclusive if you want to use a node exclusively.\n",
      "sbatch: You will be charged for 0.03125 node. A full node consists of 32 CPU cores, 240000 MiB of memory and 0 GPUs and can be shared by up to 32 jobs.\n",
      "sbatch: Single node jobs run on a shared node by default. Add --exclusive if you want to use a node exclusively.\n",
      "sbatch: You will be charged for 0.03125 node. A full node consists of 32 CPU cores, 240000 MiB of memory and 0 GPUs and can be shared by up to 32 jobs.\n",
      "sbatch: Single node jobs run on a shared node by default. Add --exclusive if you want to use a node exclusively.\n",
      "sbatch: You will be charged for 0.03125 node. A full node consists of 32 CPU cores, 240000 MiB of memory and 0 GPUs and can be shared by up to 32 jobs.\n",
      "sbatch: Single node jobs run on a shared node by default. Add --exclusive if you want to use a node exclusively.\n",
      "sbatch: You will be charged for 0.03125 node. A full node consists of 32 CPU cores, 240000 MiB of memory and 0 GPUs and can be shared by up to 32 jobs.\n"
     ]
    },
    {
     "name": "stdout",
     "output_type": "stream",
     "text": [
      "Submitted batch job 418210\n",
      "Submitted batch job 418211\n",
      "Submitted batch job 418212\n",
      "Submitted batch job 418213\n"
     ]
    },
    {
     "name": "stderr",
     "output_type": "stream",
     "text": [
      "sbatch: Single node jobs run on a shared node by default. Add --exclusive if you want to use a node exclusively.\n",
      "sbatch: You will be charged for 0.03125 node. A full node consists of 32 CPU cores, 240000 MiB of memory and 0 GPUs and can be shared by up to 32 jobs.\n",
      "sbatch: Single node jobs run on a shared node by default. Add --exclusive if you want to use a node exclusively.\n",
      "sbatch: You will be charged for 0.03125 node. A full node consists of 32 CPU cores, 240000 MiB of memory and 0 GPUs and can be shared by up to 32 jobs.\n",
      "sbatch: Single node jobs run on a shared node by default. Add --exclusive if you want to use a node exclusively.\n",
      "sbatch: You will be charged for 0.03125 node. A full node consists of 32 CPU cores, 240000 MiB of memory and 0 GPUs and can be shared by up to 32 jobs.\n",
      "sbatch: Single node jobs run on a shared node by default. Add --exclusive if you want to use a node exclusively.\n",
      "sbatch: You will be charged for 0.03125 node. A full node consists of 32 CPU cores, 240000 MiB of memory and 0 GPUs and can be shared by up to 32 jobs.\n"
     ]
    },
    {
     "name": "stdout",
     "output_type": "stream",
     "text": [
      "Submitted batch job 418214\n",
      "Submitted batch job 418215\n",
      "Submitted batch job 418216\n",
      "Submitted batch job 418217\n"
     ]
    },
    {
     "name": "stderr",
     "output_type": "stream",
     "text": [
      "sbatch: Single node jobs run on a shared node by default. Add --exclusive if you want to use a node exclusively.\n",
      "sbatch: You will be charged for 0.03125 node. A full node consists of 32 CPU cores, 240000 MiB of memory and 0 GPUs and can be shared by up to 32 jobs.\n",
      "sbatch: Single node jobs run on a shared node by default. Add --exclusive if you want to use a node exclusively.\n",
      "sbatch: You will be charged for 0.03125 node. A full node consists of 32 CPU cores, 240000 MiB of memory and 0 GPUs and can be shared by up to 32 jobs.\n",
      "sbatch: Single node jobs run on a shared node by default. Add --exclusive if you want to use a node exclusively.\n",
      "sbatch: You will be charged for 0.03125 node. A full node consists of 32 CPU cores, 240000 MiB of memory and 0 GPUs and can be shared by up to 32 jobs.\n",
      "sbatch: Single node jobs run on a shared node by default. Add --exclusive if you want to use a node exclusively.\n",
      "sbatch: You will be charged for 0.03125 node. A full node consists of 32 CPU cores, 240000 MiB of memory and 0 GPUs and can be shared by up to 32 jobs.\n"
     ]
    },
    {
     "name": "stdout",
     "output_type": "stream",
     "text": [
      "Submitted batch job 418218\n",
      "Submitted batch job 418219\n",
      "Submitted batch job 418220\n",
      "Submitted batch job 418221\n"
     ]
    },
    {
     "name": "stderr",
     "output_type": "stream",
     "text": [
      "sbatch: Single node jobs run on a shared node by default. Add --exclusive if you want to use a node exclusively.\n",
      "sbatch: You will be charged for 0.03125 node. A full node consists of 32 CPU cores, 240000 MiB of memory and 0 GPUs and can be shared by up to 32 jobs.\n",
      "sbatch: Single node jobs run on a shared node by default. Add --exclusive if you want to use a node exclusively.\n",
      "sbatch: You will be charged for 0.03125 node. A full node consists of 32 CPU cores, 240000 MiB of memory and 0 GPUs and can be shared by up to 32 jobs.\n",
      "sbatch: Single node jobs run on a shared node by default. Add --exclusive if you want to use a node exclusively.\n",
      "sbatch: You will be charged for 0.03125 node. A full node consists of 32 CPU cores, 240000 MiB of memory and 0 GPUs and can be shared by up to 32 jobs.\n",
      "sbatch: Single node jobs run on a shared node by default. Add --exclusive if you want to use a node exclusively.\n",
      "sbatch: You will be charged for 0.03125 node. A full node consists of 32 CPU cores, 240000 MiB of memory and 0 GPUs and can be shared by up to 32 jobs.\n",
      "sbatch: Single node jobs run on a shared node by default. Add --exclusive if you want to use a node exclusively.\n",
      "sbatch: You will be charged for 0.03125 node. A full node consists of 32 CPU cores, 240000 MiB of memory and 0 GPUs and can be shared by up to 32 jobs.\n"
     ]
    },
    {
     "name": "stdout",
     "output_type": "stream",
     "text": [
      "Submitted batch job 418222\n",
      "Submitted batch job 418224\n",
      "Submitted batch job 418225\n",
      "Submitted batch job 418226\n",
      "Submitted batch job 418227\n"
     ]
    },
    {
     "name": "stderr",
     "output_type": "stream",
     "text": [
      "sbatch: Single node jobs run on a shared node by default. Add --exclusive if you want to use a node exclusively.\n",
      "sbatch: You will be charged for 0.03125 node. A full node consists of 32 CPU cores, 240000 MiB of memory and 0 GPUs and can be shared by up to 32 jobs.\n",
      "sbatch: Single node jobs run on a shared node by default. Add --exclusive if you want to use a node exclusively.\n",
      "sbatch: You will be charged for 0.03125 node. A full node consists of 32 CPU cores, 240000 MiB of memory and 0 GPUs and can be shared by up to 32 jobs.\n",
      "sbatch: Single node jobs run on a shared node by default. Add --exclusive if you want to use a node exclusively.\n",
      "sbatch: You will be charged for 0.03125 node. A full node consists of 32 CPU cores, 240000 MiB of memory and 0 GPUs and can be shared by up to 32 jobs.\n",
      "sbatch: Single node jobs run on a shared node by default. Add --exclusive if you want to use a node exclusively.\n",
      "sbatch: You will be charged for 0.03125 node. A full node consists of 32 CPU cores, 240000 MiB of memory and 0 GPUs and can be shared by up to 32 jobs.\n"
     ]
    },
    {
     "name": "stdout",
     "output_type": "stream",
     "text": [
      "Submitted batch job 418228\n",
      "Submitted batch job 418229\n",
      "Submitted batch job 418230\n",
      "Submitted batch job 418231\n"
     ]
    },
    {
     "name": "stderr",
     "output_type": "stream",
     "text": [
      "sbatch: Single node jobs run on a shared node by default. Add --exclusive if you want to use a node exclusively.\n",
      "sbatch: You will be charged for 0.03125 node. A full node consists of 32 CPU cores, 240000 MiB of memory and 0 GPUs and can be shared by up to 32 jobs.\n",
      "sbatch: Single node jobs run on a shared node by default. Add --exclusive if you want to use a node exclusively.\n",
      "sbatch: You will be charged for 0.03125 node. A full node consists of 32 CPU cores, 240000 MiB of memory and 0 GPUs and can be shared by up to 32 jobs.\n",
      "sbatch: Single node jobs run on a shared node by default. Add --exclusive if you want to use a node exclusively.\n",
      "sbatch: You will be charged for 0.03125 node. A full node consists of 32 CPU cores, 240000 MiB of memory and 0 GPUs and can be shared by up to 32 jobs.\n",
      "sbatch: Single node jobs run on a shared node by default. Add --exclusive if you want to use a node exclusively.\n",
      "sbatch: You will be charged for 0.03125 node. A full node consists of 32 CPU cores, 240000 MiB of memory and 0 GPUs and can be shared by up to 32 jobs.\n"
     ]
    },
    {
     "name": "stdout",
     "output_type": "stream",
     "text": [
      "Submitted batch job 418232\n",
      "Submitted batch job 418233\n",
      "Submitted batch job 418234\n",
      "Submitted batch job 418235\n"
     ]
    },
    {
     "name": "stderr",
     "output_type": "stream",
     "text": [
      "sbatch: Single node jobs run on a shared node by default. Add --exclusive if you want to use a node exclusively.\n",
      "sbatch: You will be charged for 0.03125 node. A full node consists of 32 CPU cores, 240000 MiB of memory and 0 GPUs and can be shared by up to 32 jobs.\n",
      "sbatch: Single node jobs run on a shared node by default. Add --exclusive if you want to use a node exclusively.\n",
      "sbatch: You will be charged for 0.03125 node. A full node consists of 32 CPU cores, 240000 MiB of memory and 0 GPUs and can be shared by up to 32 jobs.\n",
      "sbatch: Single node jobs run on a shared node by default. Add --exclusive if you want to use a node exclusively.\n",
      "sbatch: You will be charged for 0.03125 node. A full node consists of 32 CPU cores, 240000 MiB of memory and 0 GPUs and can be shared by up to 32 jobs.\n",
      "sbatch: Single node jobs run on a shared node by default. Add --exclusive if you want to use a node exclusively.\n",
      "sbatch: You will be charged for 0.03125 node. A full node consists of 32 CPU cores, 240000 MiB of memory and 0 GPUs and can be shared by up to 32 jobs.\n"
     ]
    },
    {
     "name": "stdout",
     "output_type": "stream",
     "text": [
      "Submitted batch job 418236\n",
      "Submitted batch job 418237\n",
      "Submitted batch job 418238\n",
      "Submitted batch job 418239\n"
     ]
    },
    {
     "name": "stderr",
     "output_type": "stream",
     "text": [
      "sbatch: Single node jobs run on a shared node by default. Add --exclusive if you want to use a node exclusively.\n",
      "sbatch: You will be charged for 0.03125 node. A full node consists of 32 CPU cores, 240000 MiB of memory and 0 GPUs and can be shared by up to 32 jobs.\n",
      "sbatch: Single node jobs run on a shared node by default. Add --exclusive if you want to use a node exclusively.\n",
      "sbatch: You will be charged for 0.03125 node. A full node consists of 32 CPU cores, 240000 MiB of memory and 0 GPUs and can be shared by up to 32 jobs.\n",
      "sbatch: Single node jobs run on a shared node by default. Add --exclusive if you want to use a node exclusively.\n",
      "sbatch: You will be charged for 0.03125 node. A full node consists of 32 CPU cores, 240000 MiB of memory and 0 GPUs and can be shared by up to 32 jobs.\n",
      "sbatch: Single node jobs run on a shared node by default. Add --exclusive if you want to use a node exclusively.\n",
      "sbatch: You will be charged for 0.03125 node. A full node consists of 32 CPU cores, 240000 MiB of memory and 0 GPUs and can be shared by up to 32 jobs.\n"
     ]
    },
    {
     "name": "stdout",
     "output_type": "stream",
     "text": [
      "Submitted batch job 418240\n",
      "Submitted batch job 418241\n",
      "Submitted batch job 418242\n",
      "Submitted batch job 418243\n"
     ]
    },
    {
     "name": "stderr",
     "output_type": "stream",
     "text": [
      "sbatch: Single node jobs run on a shared node by default. Add --exclusive if you want to use a node exclusively.\n",
      "sbatch: You will be charged for 0.03125 node. A full node consists of 32 CPU cores, 240000 MiB of memory and 0 GPUs and can be shared by up to 32 jobs.\n",
      "sbatch: Single node jobs run on a shared node by default. Add --exclusive if you want to use a node exclusively.\n",
      "sbatch: You will be charged for 0.03125 node. A full node consists of 32 CPU cores, 240000 MiB of memory and 0 GPUs and can be shared by up to 32 jobs.\n",
      "sbatch: Single node jobs run on a shared node by default. Add --exclusive if you want to use a node exclusively.\n",
      "sbatch: You will be charged for 0.03125 node. A full node consists of 32 CPU cores, 240000 MiB of memory and 0 GPUs and can be shared by up to 32 jobs.\n",
      "sbatch: Single node jobs run on a shared node by default. Add --exclusive if you want to use a node exclusively.\n",
      "sbatch: You will be charged for 0.03125 node. A full node consists of 32 CPU cores, 240000 MiB of memory and 0 GPUs and can be shared by up to 32 jobs.\n"
     ]
    },
    {
     "name": "stdout",
     "output_type": "stream",
     "text": [
      "Submitted batch job 418244\n",
      "Submitted batch job 418246\n",
      "Submitted batch job 418247\n",
      "Submitted batch job 418248\n"
     ]
    },
    {
     "name": "stderr",
     "output_type": "stream",
     "text": [
      "sbatch: Single node jobs run on a shared node by default. Add --exclusive if you want to use a node exclusively.\n",
      "sbatch: You will be charged for 0.03125 node. A full node consists of 32 CPU cores, 240000 MiB of memory and 0 GPUs and can be shared by up to 32 jobs.\n",
      "sbatch: Single node jobs run on a shared node by default. Add --exclusive if you want to use a node exclusively.\n",
      "sbatch: You will be charged for 0.03125 node. A full node consists of 32 CPU cores, 240000 MiB of memory and 0 GPUs and can be shared by up to 32 jobs.\n",
      "sbatch: Single node jobs run on a shared node by default. Add --exclusive if you want to use a node exclusively.\n",
      "sbatch: You will be charged for 0.03125 node. A full node consists of 32 CPU cores, 240000 MiB of memory and 0 GPUs and can be shared by up to 32 jobs.\n",
      "sbatch: Single node jobs run on a shared node by default. Add --exclusive if you want to use a node exclusively.\n",
      "sbatch: You will be charged for 0.03125 node. A full node consists of 32 CPU cores, 240000 MiB of memory and 0 GPUs and can be shared by up to 32 jobs.\n"
     ]
    },
    {
     "name": "stdout",
     "output_type": "stream",
     "text": [
      "Submitted batch job 418249\n",
      "Submitted batch job 418250\n",
      "Submitted batch job 418251\n",
      "Submitted batch job 418252\n"
     ]
    },
    {
     "name": "stderr",
     "output_type": "stream",
     "text": [
      "sbatch: Single node jobs run on a shared node by default. Add --exclusive if you want to use a node exclusively.\n",
      "sbatch: You will be charged for 0.03125 node. A full node consists of 32 CPU cores, 240000 MiB of memory and 0 GPUs and can be shared by up to 32 jobs.\n",
      "sbatch: Single node jobs run on a shared node by default. Add --exclusive if you want to use a node exclusively.\n",
      "sbatch: You will be charged for 0.03125 node. A full node consists of 32 CPU cores, 240000 MiB of memory and 0 GPUs and can be shared by up to 32 jobs.\n",
      "sbatch: Single node jobs run on a shared node by default. Add --exclusive if you want to use a node exclusively.\n",
      "sbatch: You will be charged for 0.03125 node. A full node consists of 32 CPU cores, 240000 MiB of memory and 0 GPUs and can be shared by up to 32 jobs.\n",
      "sbatch: Single node jobs run on a shared node by default. Add --exclusive if you want to use a node exclusively.\n",
      "sbatch: You will be charged for 0.03125 node. A full node consists of 32 CPU cores, 240000 MiB of memory and 0 GPUs and can be shared by up to 32 jobs.\n"
     ]
    },
    {
     "name": "stdout",
     "output_type": "stream",
     "text": [
      "Submitted batch job 418253\n",
      "Submitted batch job 418254\n",
      "Submitted batch job 418255\n",
      "Submitted batch job 418256\n"
     ]
    },
    {
     "name": "stderr",
     "output_type": "stream",
     "text": [
      "sbatch: Single node jobs run on a shared node by default. Add --exclusive if you want to use a node exclusively.\n",
      "sbatch: You will be charged for 0.03125 node. A full node consists of 32 CPU cores, 240000 MiB of memory and 0 GPUs and can be shared by up to 32 jobs.\n",
      "sbatch: Single node jobs run on a shared node by default. Add --exclusive if you want to use a node exclusively.\n",
      "sbatch: You will be charged for 0.03125 node. A full node consists of 32 CPU cores, 240000 MiB of memory and 0 GPUs and can be shared by up to 32 jobs.\n",
      "sbatch: Single node jobs run on a shared node by default. Add --exclusive if you want to use a node exclusively.\n",
      "sbatch: You will be charged for 0.03125 node. A full node consists of 32 CPU cores, 240000 MiB of memory and 0 GPUs and can be shared by up to 32 jobs.\n",
      "sbatch: Single node jobs run on a shared node by default. Add --exclusive if you want to use a node exclusively.\n",
      "sbatch: You will be charged for 0.03125 node. A full node consists of 32 CPU cores, 240000 MiB of memory and 0 GPUs and can be shared by up to 32 jobs.\n"
     ]
    },
    {
     "name": "stdout",
     "output_type": "stream",
     "text": [
      "Submitted batch job 418257\n",
      "Submitted batch job 418258\n",
      "Submitted batch job 418259\n",
      "Submitted batch job 418260\n",
      "Submitted batch job 418261\n",
      "Submitted batch job 418262\n",
      "Submitted batch job 418263\n",
      "Submitted batch job 418264\n"
     ]
    },
    {
     "name": "stderr",
     "output_type": "stream",
     "text": [
      "sbatch: Single node jobs run on a shared node by default. Add --exclusive if you want to use a node exclusively.\n",
      "sbatch: You will be charged for 0.03125 node. A full node consists of 32 CPU cores, 240000 MiB of memory and 0 GPUs and can be shared by up to 32 jobs.\n",
      "sbatch: Single node jobs run on a shared node by default. Add --exclusive if you want to use a node exclusively.\n",
      "sbatch: You will be charged for 0.03125 node. A full node consists of 32 CPU cores, 240000 MiB of memory and 0 GPUs and can be shared by up to 32 jobs.\n",
      "sbatch: Single node jobs run on a shared node by default. Add --exclusive if you want to use a node exclusively.\n",
      "sbatch: You will be charged for 0.03125 node. A full node consists of 32 CPU cores, 240000 MiB of memory and 0 GPUs and can be shared by up to 32 jobs.\n",
      "sbatch: Single node jobs run on a shared node by default. Add --exclusive if you want to use a node exclusively.\n",
      "sbatch: You will be charged for 0.03125 node. A full node consists of 32 CPU cores, 240000 MiB of memory and 0 GPUs and can be shared by up to 32 jobs.\n",
      "sbatch: Single node jobs run on a shared node by default. Add --exclusive if you want to use a node exclusively.\n",
      "sbatch: You will be charged for 0.03125 node. A full node consists of 32 CPU cores, 240000 MiB of memory and 0 GPUs and can be shared by up to 32 jobs.\n",
      "sbatch: Single node jobs run on a shared node by default. Add --exclusive if you want to use a node exclusively.\n",
      "sbatch: You will be charged for 0.03125 node. A full node consists of 32 CPU cores, 240000 MiB of memory and 0 GPUs and can be shared by up to 32 jobs.\n",
      "sbatch: Single node jobs run on a shared node by default. Add --exclusive if you want to use a node exclusively.\n",
      "sbatch: You will be charged for 0.03125 node. A full node consists of 32 CPU cores, 240000 MiB of memory and 0 GPUs and can be shared by up to 32 jobs.\n",
      "sbatch: Single node jobs run on a shared node by default. Add --exclusive if you want to use a node exclusively.\n",
      "sbatch: You will be charged for 0.03125 node. A full node consists of 32 CPU cores, 240000 MiB of memory and 0 GPUs and can be shared by up to 32 jobs.\n"
     ]
    },
    {
     "name": "stdout",
     "output_type": "stream",
     "text": [
      "Submitted batch job 418265\n",
      "Submitted batch job 418266\n",
      "Submitted batch job 418268\n",
      "Submitted batch job 418269\n"
     ]
    },
    {
     "name": "stderr",
     "output_type": "stream",
     "text": [
      "sbatch: Single node jobs run on a shared node by default. Add --exclusive if you want to use a node exclusively.\n",
      "sbatch: You will be charged for 0.03125 node. A full node consists of 32 CPU cores, 240000 MiB of memory and 0 GPUs and can be shared by up to 32 jobs.\n",
      "sbatch: Single node jobs run on a shared node by default. Add --exclusive if you want to use a node exclusively.\n",
      "sbatch: You will be charged for 0.03125 node. A full node consists of 32 CPU cores, 240000 MiB of memory and 0 GPUs and can be shared by up to 32 jobs.\n",
      "sbatch: Single node jobs run on a shared node by default. Add --exclusive if you want to use a node exclusively.\n",
      "sbatch: You will be charged for 0.03125 node. A full node consists of 32 CPU cores, 240000 MiB of memory and 0 GPUs and can be shared by up to 32 jobs.\n",
      "sbatch: Single node jobs run on a shared node by default. Add --exclusive if you want to use a node exclusively.\n",
      "sbatch: You will be charged for 0.03125 node. A full node consists of 32 CPU cores, 240000 MiB of memory and 0 GPUs and can be shared by up to 32 jobs.\n"
     ]
    },
    {
     "name": "stdout",
     "output_type": "stream",
     "text": [
      "Submitted batch job 418270\n",
      "Submitted batch job 418271\n",
      "Submitted batch job 418272\n",
      "Submitted batch job 418273\n"
     ]
    },
    {
     "name": "stderr",
     "output_type": "stream",
     "text": [
      "sbatch: Single node jobs run on a shared node by default. Add --exclusive if you want to use a node exclusively.\n",
      "sbatch: You will be charged for 0.03125 node. A full node consists of 32 CPU cores, 240000 MiB of memory and 0 GPUs and can be shared by up to 32 jobs.\n",
      "sbatch: Single node jobs run on a shared node by default. Add --exclusive if you want to use a node exclusively.\n",
      "sbatch: You will be charged for 0.03125 node. A full node consists of 32 CPU cores, 240000 MiB of memory and 0 GPUs and can be shared by up to 32 jobs.\n",
      "sbatch: Single node jobs run on a shared node by default. Add --exclusive if you want to use a node exclusively.\n",
      "sbatch: You will be charged for 0.03125 node. A full node consists of 32 CPU cores, 240000 MiB of memory and 0 GPUs and can be shared by up to 32 jobs.\n",
      "sbatch: Single node jobs run on a shared node by default. Add --exclusive if you want to use a node exclusively.\n",
      "sbatch: You will be charged for 0.03125 node. A full node consists of 32 CPU cores, 240000 MiB of memory and 0 GPUs and can be shared by up to 32 jobs.\n"
     ]
    },
    {
     "name": "stdout",
     "output_type": "stream",
     "text": [
      "Submitted batch job 418274\n",
      "Submitted batch job 418275\n",
      "Submitted batch job 418276\n",
      "Submitted batch job 418277\n"
     ]
    },
    {
     "name": "stderr",
     "output_type": "stream",
     "text": [
      "sbatch: Single node jobs run on a shared node by default. Add --exclusive if you want to use a node exclusively.\n",
      "sbatch: You will be charged for 0.03125 node. A full node consists of 32 CPU cores, 240000 MiB of memory and 0 GPUs and can be shared by up to 32 jobs.\n",
      "sbatch: Single node jobs run on a shared node by default. Add --exclusive if you want to use a node exclusively.\n",
      "sbatch: You will be charged for 0.03125 node. A full node consists of 32 CPU cores, 240000 MiB of memory and 0 GPUs and can be shared by up to 32 jobs.\n",
      "sbatch: Single node jobs run on a shared node by default. Add --exclusive if you want to use a node exclusively.\n",
      "sbatch: You will be charged for 0.03125 node. A full node consists of 32 CPU cores, 240000 MiB of memory and 0 GPUs and can be shared by up to 32 jobs.\n",
      "sbatch: Single node jobs run on a shared node by default. Add --exclusive if you want to use a node exclusively.\n",
      "sbatch: You will be charged for 0.03125 node. A full node consists of 32 CPU cores, 240000 MiB of memory and 0 GPUs and can be shared by up to 32 jobs.\n"
     ]
    },
    {
     "name": "stdout",
     "output_type": "stream",
     "text": [
      "Submitted batch job 418278\n",
      "Submitted batch job 418279\n",
      "Submitted batch job 418280\n",
      "Submitted batch job 418281\n",
      "Submitted batch job 418282\n",
      "Submitted batch job 418283\n",
      "Submitted batch job 418284\n",
      "Submitted batch job 418285\n"
     ]
    },
    {
     "name": "stderr",
     "output_type": "stream",
     "text": [
      "sbatch: Single node jobs run on a shared node by default. Add --exclusive if you want to use a node exclusively.\n",
      "sbatch: You will be charged for 0.03125 node. A full node consists of 32 CPU cores, 240000 MiB of memory and 0 GPUs and can be shared by up to 32 jobs.\n",
      "sbatch: Single node jobs run on a shared node by default. Add --exclusive if you want to use a node exclusively.\n",
      "sbatch: You will be charged for 0.03125 node. A full node consists of 32 CPU cores, 240000 MiB of memory and 0 GPUs and can be shared by up to 32 jobs.\n",
      "sbatch: Single node jobs run on a shared node by default. Add --exclusive if you want to use a node exclusively.\n",
      "sbatch: You will be charged for 0.03125 node. A full node consists of 32 CPU cores, 240000 MiB of memory and 0 GPUs and can be shared by up to 32 jobs.\n",
      "sbatch: Single node jobs run on a shared node by default. Add --exclusive if you want to use a node exclusively.\n",
      "sbatch: You will be charged for 0.03125 node. A full node consists of 32 CPU cores, 240000 MiB of memory and 0 GPUs and can be shared by up to 32 jobs.\n",
      "sbatch: Single node jobs run on a shared node by default. Add --exclusive if you want to use a node exclusively.\n",
      "sbatch: You will be charged for 0.03125 node. A full node consists of 32 CPU cores, 240000 MiB of memory and 0 GPUs and can be shared by up to 32 jobs.\n",
      "sbatch: Single node jobs run on a shared node by default. Add --exclusive if you want to use a node exclusively.\n",
      "sbatch: You will be charged for 0.03125 node. A full node consists of 32 CPU cores, 240000 MiB of memory and 0 GPUs and can be shared by up to 32 jobs.\n",
      "sbatch: Single node jobs run on a shared node by default. Add --exclusive if you want to use a node exclusively.\n",
      "sbatch: You will be charged for 0.03125 node. A full node consists of 32 CPU cores, 240000 MiB of memory and 0 GPUs and can be shared by up to 32 jobs.\n",
      "sbatch: Single node jobs run on a shared node by default. Add --exclusive if you want to use a node exclusively.\n",
      "sbatch: You will be charged for 0.03125 node. A full node consists of 32 CPU cores, 240000 MiB of memory and 0 GPUs and can be shared by up to 32 jobs.\n"
     ]
    },
    {
     "name": "stdout",
     "output_type": "stream",
     "text": [
      "Submitted batch job 418286\n",
      "Submitted batch job 418287\n",
      "Submitted batch job 418288\n",
      "Submitted batch job 418290\n"
     ]
    },
    {
     "name": "stderr",
     "output_type": "stream",
     "text": [
      "sbatch: Single node jobs run on a shared node by default. Add --exclusive if you want to use a node exclusively.\n",
      "sbatch: You will be charged for 0.03125 node. A full node consists of 32 CPU cores, 240000 MiB of memory and 0 GPUs and can be shared by up to 32 jobs.\n",
      "sbatch: Single node jobs run on a shared node by default. Add --exclusive if you want to use a node exclusively.\n",
      "sbatch: You will be charged for 0.03125 node. A full node consists of 32 CPU cores, 240000 MiB of memory and 0 GPUs and can be shared by up to 32 jobs.\n",
      "sbatch: Single node jobs run on a shared node by default. Add --exclusive if you want to use a node exclusively.\n",
      "sbatch: You will be charged for 0.03125 node. A full node consists of 32 CPU cores, 240000 MiB of memory and 0 GPUs and can be shared by up to 32 jobs.\n",
      "sbatch: Single node jobs run on a shared node by default. Add --exclusive if you want to use a node exclusively.\n",
      "sbatch: You will be charged for 0.03125 node. A full node consists of 32 CPU cores, 240000 MiB of memory and 0 GPUs and can be shared by up to 32 jobs.\n"
     ]
    },
    {
     "name": "stdout",
     "output_type": "stream",
     "text": [
      "Submitted batch job 418291\n",
      "Submitted batch job 418292\n",
      "Submitted batch job 418293\n",
      "Submitted batch job 418294\n"
     ]
    },
    {
     "name": "stderr",
     "output_type": "stream",
     "text": [
      "sbatch: Single node jobs run on a shared node by default. Add --exclusive if you want to use a node exclusively.\n",
      "sbatch: You will be charged for 0.03125 node. A full node consists of 32 CPU cores, 240000 MiB of memory and 0 GPUs and can be shared by up to 32 jobs.\n",
      "sbatch: Single node jobs run on a shared node by default. Add --exclusive if you want to use a node exclusively.\n",
      "sbatch: You will be charged for 0.03125 node. A full node consists of 32 CPU cores, 240000 MiB of memory and 0 GPUs and can be shared by up to 32 jobs.\n",
      "sbatch: Single node jobs run on a shared node by default. Add --exclusive if you want to use a node exclusively.\n",
      "sbatch: You will be charged for 0.03125 node. A full node consists of 32 CPU cores, 240000 MiB of memory and 0 GPUs and can be shared by up to 32 jobs.\n",
      "sbatch: Single node jobs run on a shared node by default. Add --exclusive if you want to use a node exclusively.\n",
      "sbatch: You will be charged for 0.03125 node. A full node consists of 32 CPU cores, 240000 MiB of memory and 0 GPUs and can be shared by up to 32 jobs.\n"
     ]
    },
    {
     "name": "stdout",
     "output_type": "stream",
     "text": [
      "Submitted batch job 418295\n",
      "Submitted batch job 418296\n",
      "Submitted batch job 418297\n",
      "Submitted batch job 418298\n"
     ]
    },
    {
     "name": "stderr",
     "output_type": "stream",
     "text": [
      "sbatch: Single node jobs run on a shared node by default. Add --exclusive if you want to use a node exclusively.\n",
      "sbatch: You will be charged for 0.03125 node. A full node consists of 32 CPU cores, 240000 MiB of memory and 0 GPUs and can be shared by up to 32 jobs.\n"
     ]
    },
    {
     "name": "stdout",
     "output_type": "stream",
     "text": [
      "Submitted batch job 418299\n"
     ]
    },
    {
     "name": "stderr",
     "output_type": "stream",
     "text": [
      "sbatch: Single node jobs run on a shared node by default. Add --exclusive if you want to use a node exclusively.\n",
      "sbatch: You will be charged for 0.03125 node. A full node consists of 32 CPU cores, 240000 MiB of memory and 0 GPUs and can be shared by up to 32 jobs.\n",
      "sbatch: Single node jobs run on a shared node by default. Add --exclusive if you want to use a node exclusively.\n",
      "sbatch: You will be charged for 0.03125 node. A full node consists of 32 CPU cores, 240000 MiB of memory and 0 GPUs and can be shared by up to 32 jobs.\n"
     ]
    },
    {
     "name": "stdout",
     "output_type": "stream",
     "text": [
      "Submitted batch job 418300\n",
      "Submitted batch job 418302\n"
     ]
    },
    {
     "name": "stderr",
     "output_type": "stream",
     "text": [
      "sbatch: Single node jobs run on a shared node by default. Add --exclusive if you want to use a node exclusively.\n",
      "sbatch: You will be charged for 0.03125 node. A full node consists of 32 CPU cores, 240000 MiB of memory and 0 GPUs and can be shared by up to 32 jobs.\n",
      "sbatch: Single node jobs run on a shared node by default. Add --exclusive if you want to use a node exclusively.\n",
      "sbatch: You will be charged for 0.03125 node. A full node consists of 32 CPU cores, 240000 MiB of memory and 0 GPUs and can be shared by up to 32 jobs.\n",
      "sbatch: Single node jobs run on a shared node by default. Add --exclusive if you want to use a node exclusively.\n",
      "sbatch: You will be charged for 0.03125 node. A full node consists of 32 CPU cores, 240000 MiB of memory and 0 GPUs and can be shared by up to 32 jobs.\n",
      "sbatch: Single node jobs run on a shared node by default. Add --exclusive if you want to use a node exclusively.\n",
      "sbatch: You will be charged for 0.03125 node. A full node consists of 32 CPU cores, 240000 MiB of memory and 0 GPUs and can be shared by up to 32 jobs.\n"
     ]
    },
    {
     "name": "stdout",
     "output_type": "stream",
     "text": [
      "Submitted batch job 418303\n",
      "Submitted batch job 418304\n",
      "Submitted batch job 418305\n",
      "Submitted batch job 418306\n"
     ]
    },
    {
     "name": "stderr",
     "output_type": "stream",
     "text": [
      "sbatch: Single node jobs run on a shared node by default. Add --exclusive if you want to use a node exclusively.\n",
      "sbatch: You will be charged for 0.03125 node. A full node consists of 32 CPU cores, 240000 MiB of memory and 0 GPUs and can be shared by up to 32 jobs.\n",
      "sbatch: Single node jobs run on a shared node by default. Add --exclusive if you want to use a node exclusively.\n",
      "sbatch: You will be charged for 0.03125 node. A full node consists of 32 CPU cores, 240000 MiB of memory and 0 GPUs and can be shared by up to 32 jobs.\n",
      "sbatch: Single node jobs run on a shared node by default. Add --exclusive if you want to use a node exclusively.\n",
      "sbatch: You will be charged for 0.03125 node. A full node consists of 32 CPU cores, 240000 MiB of memory and 0 GPUs and can be shared by up to 32 jobs.\n",
      "sbatch: Single node jobs run on a shared node by default. Add --exclusive if you want to use a node exclusively.\n",
      "sbatch: You will be charged for 0.03125 node. A full node consists of 32 CPU cores, 240000 MiB of memory and 0 GPUs and can be shared by up to 32 jobs.\n"
     ]
    },
    {
     "name": "stdout",
     "output_type": "stream",
     "text": [
      "Submitted batch job 418307\n",
      "Submitted batch job 418308\n",
      "Submitted batch job 418309\n",
      "Submitted batch job 418310\n"
     ]
    },
    {
     "name": "stderr",
     "output_type": "stream",
     "text": [
      "sbatch: Single node jobs run on a shared node by default. Add --exclusive if you want to use a node exclusively.\n",
      "sbatch: You will be charged for 0.03125 node. A full node consists of 32 CPU cores, 240000 MiB of memory and 0 GPUs and can be shared by up to 32 jobs.\n",
      "sbatch: Single node jobs run on a shared node by default. Add --exclusive if you want to use a node exclusively.\n",
      "sbatch: You will be charged for 0.03125 node. A full node consists of 32 CPU cores, 240000 MiB of memory and 0 GPUs and can be shared by up to 32 jobs.\n",
      "sbatch: Single node jobs run on a shared node by default. Add --exclusive if you want to use a node exclusively.\n",
      "sbatch: You will be charged for 0.03125 node. A full node consists of 32 CPU cores, 240000 MiB of memory and 0 GPUs and can be shared by up to 32 jobs.\n",
      "sbatch: Single node jobs run on a shared node by default. Add --exclusive if you want to use a node exclusively.\n",
      "sbatch: You will be charged for 0.03125 node. A full node consists of 32 CPU cores, 240000 MiB of memory and 0 GPUs and can be shared by up to 32 jobs.\n"
     ]
    },
    {
     "name": "stdout",
     "output_type": "stream",
     "text": [
      "Submitted batch job 418311\n",
      "Submitted batch job 418312\n",
      "Submitted batch job 418313\n",
      "Submitted batch job 418314\n"
     ]
    },
    {
     "name": "stderr",
     "output_type": "stream",
     "text": [
      "sbatch: Single node jobs run on a shared node by default. Add --exclusive if you want to use a node exclusively.\n",
      "sbatch: You will be charged for 0.03125 node. A full node consists of 32 CPU cores, 240000 MiB of memory and 0 GPUs and can be shared by up to 32 jobs.\n",
      "sbatch: Single node jobs run on a shared node by default. Add --exclusive if you want to use a node exclusively.\n",
      "sbatch: You will be charged for 0.03125 node. A full node consists of 32 CPU cores, 240000 MiB of memory and 0 GPUs and can be shared by up to 32 jobs.\n",
      "sbatch: Single node jobs run on a shared node by default. Add --exclusive if you want to use a node exclusively.\n",
      "sbatch: You will be charged for 0.03125 node. A full node consists of 32 CPU cores, 240000 MiB of memory and 0 GPUs and can be shared by up to 32 jobs.\n",
      "sbatch: Single node jobs run on a shared node by default. Add --exclusive if you want to use a node exclusively.\n",
      "sbatch: You will be charged for 0.03125 node. A full node consists of 32 CPU cores, 240000 MiB of memory and 0 GPUs and can be shared by up to 32 jobs.\n"
     ]
    },
    {
     "name": "stdout",
     "output_type": "stream",
     "text": [
      "Submitted batch job 418315\n",
      "Submitted batch job 418316\n",
      "Submitted batch job 418317\n",
      "Submitted batch job 418318\n"
     ]
    },
    {
     "name": "stderr",
     "output_type": "stream",
     "text": [
      "sbatch: Single node jobs run on a shared node by default. Add --exclusive if you want to use a node exclusively.\n",
      "sbatch: You will be charged for 0.03125 node. A full node consists of 32 CPU cores, 240000 MiB of memory and 0 GPUs and can be shared by up to 32 jobs.\n",
      "sbatch: Single node jobs run on a shared node by default. Add --exclusive if you want to use a node exclusively.\n",
      "sbatch: You will be charged for 0.03125 node. A full node consists of 32 CPU cores, 240000 MiB of memory and 0 GPUs and can be shared by up to 32 jobs.\n",
      "sbatch: Single node jobs run on a shared node by default. Add --exclusive if you want to use a node exclusively.\n",
      "sbatch: You will be charged for 0.03125 node. A full node consists of 32 CPU cores, 240000 MiB of memory and 0 GPUs and can be shared by up to 32 jobs.\n",
      "sbatch: Single node jobs run on a shared node by default. Add --exclusive if you want to use a node exclusively.\n",
      "sbatch: You will be charged for 0.03125 node. A full node consists of 32 CPU cores, 240000 MiB of memory and 0 GPUs and can be shared by up to 32 jobs.\n"
     ]
    },
    {
     "name": "stdout",
     "output_type": "stream",
     "text": [
      "Submitted batch job 418319\n",
      "Submitted batch job 418320\n",
      "Submitted batch job 418321\n",
      "Submitted batch job 418323\n"
     ]
    },
    {
     "name": "stderr",
     "output_type": "stream",
     "text": [
      "sbatch: Single node jobs run on a shared node by default. Add --exclusive if you want to use a node exclusively.\n",
      "sbatch: You will be charged for 0.03125 node. A full node consists of 32 CPU cores, 240000 MiB of memory and 0 GPUs and can be shared by up to 32 jobs.\n",
      "sbatch: Single node jobs run on a shared node by default. Add --exclusive if you want to use a node exclusively.\n",
      "sbatch: You will be charged for 0.03125 node. A full node consists of 32 CPU cores, 240000 MiB of memory and 0 GPUs and can be shared by up to 32 jobs.\n",
      "sbatch: Single node jobs run on a shared node by default. Add --exclusive if you want to use a node exclusively.\n",
      "sbatch: You will be charged for 0.03125 node. A full node consists of 32 CPU cores, 240000 MiB of memory and 0 GPUs and can be shared by up to 32 jobs.\n",
      "sbatch: Single node jobs run on a shared node by default. Add --exclusive if you want to use a node exclusively.\n",
      "sbatch: You will be charged for 0.03125 node. A full node consists of 32 CPU cores, 240000 MiB of memory and 0 GPUs and can be shared by up to 32 jobs.\n"
     ]
    },
    {
     "name": "stdout",
     "output_type": "stream",
     "text": [
      "Submitted batch job 418324\n",
      "Submitted batch job 418325\n",
      "Submitted batch job 418326\n",
      "Submitted batch job 418327\n"
     ]
    },
    {
     "name": "stderr",
     "output_type": "stream",
     "text": [
      "sbatch: Single node jobs run on a shared node by default. Add --exclusive if you want to use a node exclusively.\n",
      "sbatch: You will be charged for 0.03125 node. A full node consists of 32 CPU cores, 240000 MiB of memory and 0 GPUs and can be shared by up to 32 jobs.\n",
      "sbatch: Single node jobs run on a shared node by default. Add --exclusive if you want to use a node exclusively.\n",
      "sbatch: You will be charged for 0.03125 node. A full node consists of 32 CPU cores, 240000 MiB of memory and 0 GPUs and can be shared by up to 32 jobs.\n",
      "sbatch: Single node jobs run on a shared node by default. Add --exclusive if you want to use a node exclusively.\n",
      "sbatch: You will be charged for 0.03125 node. A full node consists of 32 CPU cores, 240000 MiB of memory and 0 GPUs and can be shared by up to 32 jobs.\n",
      "sbatch: Single node jobs run on a shared node by default. Add --exclusive if you want to use a node exclusively.\n",
      "sbatch: You will be charged for 0.03125 node. A full node consists of 32 CPU cores, 240000 MiB of memory and 0 GPUs and can be shared by up to 32 jobs.\n"
     ]
    },
    {
     "name": "stdout",
     "output_type": "stream",
     "text": [
      "Submitted batch job 418328\n",
      "Submitted batch job 418329\n",
      "Submitted batch job 418330\n",
      "Submitted batch job 418331\n"
     ]
    },
    {
     "name": "stderr",
     "output_type": "stream",
     "text": [
      "sbatch: Single node jobs run on a shared node by default. Add --exclusive if you want to use a node exclusively.\n",
      "sbatch: You will be charged for 0.03125 node. A full node consists of 32 CPU cores, 240000 MiB of memory and 0 GPUs and can be shared by up to 32 jobs.\n",
      "sbatch: Single node jobs run on a shared node by default. Add --exclusive if you want to use a node exclusively.\n",
      "sbatch: You will be charged for 0.03125 node. A full node consists of 32 CPU cores, 240000 MiB of memory and 0 GPUs and can be shared by up to 32 jobs.\n",
      "sbatch: Single node jobs run on a shared node by default. Add --exclusive if you want to use a node exclusively.\n",
      "sbatch: You will be charged for 0.03125 node. A full node consists of 32 CPU cores, 240000 MiB of memory and 0 GPUs and can be shared by up to 32 jobs.\n",
      "sbatch: Single node jobs run on a shared node by default. Add --exclusive if you want to use a node exclusively.\n",
      "sbatch: You will be charged for 0.03125 node. A full node consists of 32 CPU cores, 240000 MiB of memory and 0 GPUs and can be shared by up to 32 jobs.\n"
     ]
    },
    {
     "name": "stdout",
     "output_type": "stream",
     "text": [
      "Submitted batch job 418332\n",
      "Submitted batch job 418333\n",
      "Submitted batch job 418334\n",
      "Submitted batch job 418335\n"
     ]
    },
    {
     "name": "stderr",
     "output_type": "stream",
     "text": [
      "sbatch: Single node jobs run on a shared node by default. Add --exclusive if you want to use a node exclusively.\n",
      "sbatch: You will be charged for 0.03125 node. A full node consists of 32 CPU cores, 240000 MiB of memory and 0 GPUs and can be shared by up to 32 jobs.\n",
      "sbatch: Single node jobs run on a shared node by default. Add --exclusive if you want to use a node exclusively.\n",
      "sbatch: You will be charged for 0.03125 node. A full node consists of 32 CPU cores, 240000 MiB of memory and 0 GPUs and can be shared by up to 32 jobs.\n",
      "sbatch: Single node jobs run on a shared node by default. Add --exclusive if you want to use a node exclusively.\n",
      "sbatch: You will be charged for 0.03125 node. A full node consists of 32 CPU cores, 240000 MiB of memory and 0 GPUs and can be shared by up to 32 jobs.\n",
      "sbatch: Single node jobs run on a shared node by default. Add --exclusive if you want to use a node exclusively.\n",
      "sbatch: You will be charged for 0.03125 node. A full node consists of 32 CPU cores, 240000 MiB of memory and 0 GPUs and can be shared by up to 32 jobs.\n"
     ]
    },
    {
     "name": "stdout",
     "output_type": "stream",
     "text": [
      "Submitted batch job 418336\n",
      "Submitted batch job 418337\n",
      "Submitted batch job 418338\n",
      "Submitted batch job 418339\n",
      "Submitted batch job 418340\n",
      "Submitted batch job 418341\n",
      "Submitted batch job 418342\n",
      "Submitted batch job 418344\n"
     ]
    },
    {
     "name": "stderr",
     "output_type": "stream",
     "text": [
      "sbatch: Single node jobs run on a shared node by default. Add --exclusive if you want to use a node exclusively.\n",
      "sbatch: You will be charged for 0.03125 node. A full node consists of 32 CPU cores, 240000 MiB of memory and 0 GPUs and can be shared by up to 32 jobs.\n",
      "sbatch: Single node jobs run on a shared node by default. Add --exclusive if you want to use a node exclusively.\n",
      "sbatch: You will be charged for 0.03125 node. A full node consists of 32 CPU cores, 240000 MiB of memory and 0 GPUs and can be shared by up to 32 jobs.\n",
      "sbatch: Single node jobs run on a shared node by default. Add --exclusive if you want to use a node exclusively.\n",
      "sbatch: You will be charged for 0.03125 node. A full node consists of 32 CPU cores, 240000 MiB of memory and 0 GPUs and can be shared by up to 32 jobs.\n",
      "sbatch: Single node jobs run on a shared node by default. Add --exclusive if you want to use a node exclusively.\n",
      "sbatch: You will be charged for 0.03125 node. A full node consists of 32 CPU cores, 240000 MiB of memory and 0 GPUs and can be shared by up to 32 jobs.\n",
      "sbatch: Single node jobs run on a shared node by default. Add --exclusive if you want to use a node exclusively.\n",
      "sbatch: You will be charged for 0.03125 node. A full node consists of 32 CPU cores, 240000 MiB of memory and 0 GPUs and can be shared by up to 32 jobs.\n",
      "sbatch: Single node jobs run on a shared node by default. Add --exclusive if you want to use a node exclusively.\n",
      "sbatch: You will be charged for 0.03125 node. A full node consists of 32 CPU cores, 240000 MiB of memory and 0 GPUs and can be shared by up to 32 jobs.\n",
      "sbatch: Single node jobs run on a shared node by default. Add --exclusive if you want to use a node exclusively.\n",
      "sbatch: You will be charged for 0.03125 node. A full node consists of 32 CPU cores, 240000 MiB of memory and 0 GPUs and can be shared by up to 32 jobs.\n",
      "sbatch: Single node jobs run on a shared node by default. Add --exclusive if you want to use a node exclusively.\n",
      "sbatch: You will be charged for 0.03125 node. A full node consists of 32 CPU cores, 240000 MiB of memory and 0 GPUs and can be shared by up to 32 jobs.\n"
     ]
    },
    {
     "name": "stdout",
     "output_type": "stream",
     "text": [
      "Submitted batch job 418345\n",
      "Submitted batch job 418346\n",
      "Submitted batch job 418347\n",
      "Submitted batch job 418348\n"
     ]
    },
    {
     "name": "stderr",
     "output_type": "stream",
     "text": [
      "sbatch: Single node jobs run on a shared node by default. Add --exclusive if you want to use a node exclusively.\n",
      "sbatch: You will be charged for 0.03125 node. A full node consists of 32 CPU cores, 240000 MiB of memory and 0 GPUs and can be shared by up to 32 jobs.\n",
      "sbatch: Single node jobs run on a shared node by default. Add --exclusive if you want to use a node exclusively.\n",
      "sbatch: You will be charged for 0.03125 node. A full node consists of 32 CPU cores, 240000 MiB of memory and 0 GPUs and can be shared by up to 32 jobs.\n",
      "sbatch: Single node jobs run on a shared node by default. Add --exclusive if you want to use a node exclusively.\n",
      "sbatch: You will be charged for 0.03125 node. A full node consists of 32 CPU cores, 240000 MiB of memory and 0 GPUs and can be shared by up to 32 jobs.\n",
      "sbatch: Single node jobs run on a shared node by default. Add --exclusive if you want to use a node exclusively.\n",
      "sbatch: You will be charged for 0.03125 node. A full node consists of 32 CPU cores, 240000 MiB of memory and 0 GPUs and can be shared by up to 32 jobs.\n"
     ]
    },
    {
     "name": "stdout",
     "output_type": "stream",
     "text": [
      "Submitted batch job 418349\n",
      "Submitted batch job 418350\n",
      "Submitted batch job 418351\n",
      "Submitted batch job 418352\n"
     ]
    },
    {
     "name": "stderr",
     "output_type": "stream",
     "text": [
      "sbatch: Single node jobs run on a shared node by default. Add --exclusive if you want to use a node exclusively.\n",
      "sbatch: You will be charged for 0.03125 node. A full node consists of 32 CPU cores, 240000 MiB of memory and 0 GPUs and can be shared by up to 32 jobs.\n",
      "sbatch: Single node jobs run on a shared node by default. Add --exclusive if you want to use a node exclusively.\n",
      "sbatch: You will be charged for 0.03125 node. A full node consists of 32 CPU cores, 240000 MiB of memory and 0 GPUs and can be shared by up to 32 jobs.\n",
      "sbatch: Single node jobs run on a shared node by default. Add --exclusive if you want to use a node exclusively.\n",
      "sbatch: You will be charged for 0.03125 node. A full node consists of 32 CPU cores, 240000 MiB of memory and 0 GPUs and can be shared by up to 32 jobs.\n",
      "sbatch: Single node jobs run on a shared node by default. Add --exclusive if you want to use a node exclusively.\n",
      "sbatch: You will be charged for 0.03125 node. A full node consists of 32 CPU cores, 240000 MiB of memory and 0 GPUs and can be shared by up to 32 jobs.\n"
     ]
    },
    {
     "name": "stdout",
     "output_type": "stream",
     "text": [
      "Submitted batch job 418353\n",
      "Submitted batch job 418354\n",
      "Submitted batch job 418355\n",
      "Submitted batch job 418356\n"
     ]
    },
    {
     "name": "stderr",
     "output_type": "stream",
     "text": [
      "sbatch: Single node jobs run on a shared node by default. Add --exclusive if you want to use a node exclusively.\n",
      "sbatch: You will be charged for 0.03125 node. A full node consists of 32 CPU cores, 240000 MiB of memory and 0 GPUs and can be shared by up to 32 jobs.\n",
      "sbatch: Single node jobs run on a shared node by default. Add --exclusive if you want to use a node exclusively.\n",
      "sbatch: You will be charged for 0.03125 node. A full node consists of 32 CPU cores, 240000 MiB of memory and 0 GPUs and can be shared by up to 32 jobs.\n",
      "sbatch: Single node jobs run on a shared node by default. Add --exclusive if you want to use a node exclusively.\n",
      "sbatch: You will be charged for 0.03125 node. A full node consists of 32 CPU cores, 240000 MiB of memory and 0 GPUs and can be shared by up to 32 jobs.\n",
      "sbatch: Single node jobs run on a shared node by default. Add --exclusive if you want to use a node exclusively.\n",
      "sbatch: You will be charged for 0.03125 node. A full node consists of 32 CPU cores, 240000 MiB of memory and 0 GPUs and can be shared by up to 32 jobs.\n"
     ]
    },
    {
     "name": "stdout",
     "output_type": "stream",
     "text": [
      "Submitted batch job 418357\n",
      "Submitted batch job 418358\n",
      "Submitted batch job 418359\n",
      "Submitted batch job 418360\n"
     ]
    },
    {
     "name": "stderr",
     "output_type": "stream",
     "text": [
      "sbatch: Single node jobs run on a shared node by default. Add --exclusive if you want to use a node exclusively.\n",
      "sbatch: You will be charged for 0.03125 node. A full node consists of 32 CPU cores, 240000 MiB of memory and 0 GPUs and can be shared by up to 32 jobs.\n",
      "sbatch: Single node jobs run on a shared node by default. Add --exclusive if you want to use a node exclusively.\n",
      "sbatch: You will be charged for 0.03125 node. A full node consists of 32 CPU cores, 240000 MiB of memory and 0 GPUs and can be shared by up to 32 jobs.\n",
      "sbatch: Single node jobs run on a shared node by default. Add --exclusive if you want to use a node exclusively.\n",
      "sbatch: You will be charged for 0.03125 node. A full node consists of 32 CPU cores, 240000 MiB of memory and 0 GPUs and can be shared by up to 32 jobs.\n",
      "sbatch: Single node jobs run on a shared node by default. Add --exclusive if you want to use a node exclusively.\n",
      "sbatch: You will be charged for 0.03125 node. A full node consists of 32 CPU cores, 240000 MiB of memory and 0 GPUs and can be shared by up to 32 jobs.\n"
     ]
    },
    {
     "name": "stdout",
     "output_type": "stream",
     "text": [
      "Submitted batch job 418361\n",
      "Submitted batch job 418362\n",
      "Submitted batch job 418363\n",
      "Submitted batch job 418364\n"
     ]
    },
    {
     "name": "stderr",
     "output_type": "stream",
     "text": [
      "sbatch: Single node jobs run on a shared node by default. Add --exclusive if you want to use a node exclusively.\n",
      "sbatch: You will be charged for 0.03125 node. A full node consists of 32 CPU cores, 240000 MiB of memory and 0 GPUs and can be shared by up to 32 jobs.\n",
      "sbatch: Single node jobs run on a shared node by default. Add --exclusive if you want to use a node exclusively.\n",
      "sbatch: You will be charged for 0.03125 node. A full node consists of 32 CPU cores, 240000 MiB of memory and 0 GPUs and can be shared by up to 32 jobs.\n",
      "sbatch: Single node jobs run on a shared node by default. Add --exclusive if you want to use a node exclusively.\n",
      "sbatch: You will be charged for 0.03125 node. A full node consists of 32 CPU cores, 240000 MiB of memory and 0 GPUs and can be shared by up to 32 jobs.\n",
      "sbatch: Single node jobs run on a shared node by default. Add --exclusive if you want to use a node exclusively.\n",
      "sbatch: You will be charged for 0.03125 node. A full node consists of 32 CPU cores, 240000 MiB of memory and 0 GPUs and can be shared by up to 32 jobs.\n"
     ]
    },
    {
     "name": "stdout",
     "output_type": "stream",
     "text": [
      "Submitted batch job 418366\n",
      "Submitted batch job 418367\n",
      "Submitted batch job 418368\n",
      "Submitted batch job 418369\n"
     ]
    },
    {
     "name": "stderr",
     "output_type": "stream",
     "text": [
      "sbatch: Single node jobs run on a shared node by default. Add --exclusive if you want to use a node exclusively.\n",
      "sbatch: You will be charged for 0.03125 node. A full node consists of 32 CPU cores, 240000 MiB of memory and 0 GPUs and can be shared by up to 32 jobs.\n",
      "sbatch: Single node jobs run on a shared node by default. Add --exclusive if you want to use a node exclusively.\n",
      "sbatch: You will be charged for 0.03125 node. A full node consists of 32 CPU cores, 240000 MiB of memory and 0 GPUs and can be shared by up to 32 jobs.\n",
      "sbatch: Single node jobs run on a shared node by default. Add --exclusive if you want to use a node exclusively.\n",
      "sbatch: You will be charged for 0.03125 node. A full node consists of 32 CPU cores, 240000 MiB of memory and 0 GPUs and can be shared by up to 32 jobs.\n",
      "sbatch: Single node jobs run on a shared node by default. Add --exclusive if you want to use a node exclusively.\n",
      "sbatch: You will be charged for 0.03125 node. A full node consists of 32 CPU cores, 240000 MiB of memory and 0 GPUs and can be shared by up to 32 jobs.\n"
     ]
    },
    {
     "name": "stdout",
     "output_type": "stream",
     "text": [
      "Submitted batch job 418370\n",
      "Submitted batch job 418371\n",
      "Submitted batch job 418372\n",
      "Submitted batch job 418373\n"
     ]
    },
    {
     "name": "stderr",
     "output_type": "stream",
     "text": [
      "sbatch: Single node jobs run on a shared node by default. Add --exclusive if you want to use a node exclusively.\n",
      "sbatch: You will be charged for 0.03125 node. A full node consists of 32 CPU cores, 240000 MiB of memory and 0 GPUs and can be shared by up to 32 jobs.\n",
      "sbatch: Single node jobs run on a shared node by default. Add --exclusive if you want to use a node exclusively.\n",
      "sbatch: You will be charged for 0.03125 node. A full node consists of 32 CPU cores, 240000 MiB of memory and 0 GPUs and can be shared by up to 32 jobs.\n",
      "sbatch: Single node jobs run on a shared node by default. Add --exclusive if you want to use a node exclusively.\n",
      "sbatch: You will be charged for 0.03125 node. A full node consists of 32 CPU cores, 240000 MiB of memory and 0 GPUs and can be shared by up to 32 jobs.\n",
      "sbatch: Single node jobs run on a shared node by default. Add --exclusive if you want to use a node exclusively.\n",
      "sbatch: You will be charged for 0.03125 node. A full node consists of 32 CPU cores, 240000 MiB of memory and 0 GPUs and can be shared by up to 32 jobs.\n"
     ]
    },
    {
     "name": "stdout",
     "output_type": "stream",
     "text": [
      "Submitted batch job 418374\n",
      "Submitted batch job 418375\n",
      "Submitted batch job 418376\n",
      "Submitted batch job 418377\n"
     ]
    },
    {
     "name": "stderr",
     "output_type": "stream",
     "text": [
      "sbatch: Single node jobs run on a shared node by default. Add --exclusive if you want to use a node exclusively.\n",
      "sbatch: You will be charged for 0.03125 node. A full node consists of 32 CPU cores, 240000 MiB of memory and 0 GPUs and can be shared by up to 32 jobs.\n",
      "sbatch: Single node jobs run on a shared node by default. Add --exclusive if you want to use a node exclusively.\n",
      "sbatch: You will be charged for 0.03125 node. A full node consists of 32 CPU cores, 240000 MiB of memory and 0 GPUs and can be shared by up to 32 jobs.\n",
      "sbatch: Single node jobs run on a shared node by default. Add --exclusive if you want to use a node exclusively.\n",
      "sbatch: You will be charged for 0.03125 node. A full node consists of 32 CPU cores, 240000 MiB of memory and 0 GPUs and can be shared by up to 32 jobs.\n",
      "sbatch: Single node jobs run on a shared node by default. Add --exclusive if you want to use a node exclusively.\n",
      "sbatch: You will be charged for 0.03125 node. A full node consists of 32 CPU cores, 240000 MiB of memory and 0 GPUs and can be shared by up to 32 jobs.\n"
     ]
    },
    {
     "name": "stdout",
     "output_type": "stream",
     "text": [
      "Submitted batch job 418378\n",
      "Submitted batch job 418379\n",
      "Submitted batch job 418380\n",
      "Submitted batch job 418381\n",
      "Submitted batch job 418382\n",
      "Submitted batch job 418383\n",
      "Submitted batch job 418384\n",
      "Submitted batch job 418385\n"
     ]
    },
    {
     "name": "stderr",
     "output_type": "stream",
     "text": [
      "sbatch: Single node jobs run on a shared node by default. Add --exclusive if you want to use a node exclusively.\n",
      "sbatch: You will be charged for 0.03125 node. A full node consists of 32 CPU cores, 240000 MiB of memory and 0 GPUs and can be shared by up to 32 jobs.\n",
      "sbatch: Single node jobs run on a shared node by default. Add --exclusive if you want to use a node exclusively.\n",
      "sbatch: You will be charged for 0.03125 node. A full node consists of 32 CPU cores, 240000 MiB of memory and 0 GPUs and can be shared by up to 32 jobs.\n",
      "sbatch: Single node jobs run on a shared node by default. Add --exclusive if you want to use a node exclusively.\n",
      "sbatch: You will be charged for 0.03125 node. A full node consists of 32 CPU cores, 240000 MiB of memory and 0 GPUs and can be shared by up to 32 jobs.\n",
      "sbatch: Single node jobs run on a shared node by default. Add --exclusive if you want to use a node exclusively.\n",
      "sbatch: You will be charged for 0.03125 node. A full node consists of 32 CPU cores, 240000 MiB of memory and 0 GPUs and can be shared by up to 32 jobs.\n",
      "sbatch: Single node jobs run on a shared node by default. Add --exclusive if you want to use a node exclusively.\n",
      "sbatch: You will be charged for 0.03125 node. A full node consists of 32 CPU cores, 240000 MiB of memory and 0 GPUs and can be shared by up to 32 jobs.\n",
      "sbatch: Single node jobs run on a shared node by default. Add --exclusive if you want to use a node exclusively.\n",
      "sbatch: You will be charged for 0.03125 node. A full node consists of 32 CPU cores, 240000 MiB of memory and 0 GPUs and can be shared by up to 32 jobs.\n",
      "sbatch: Single node jobs run on a shared node by default. Add --exclusive if you want to use a node exclusively.\n",
      "sbatch: You will be charged for 0.03125 node. A full node consists of 32 CPU cores, 240000 MiB of memory and 0 GPUs and can be shared by up to 32 jobs.\n",
      "sbatch: Single node jobs run on a shared node by default. Add --exclusive if you want to use a node exclusively.\n",
      "sbatch: You will be charged for 0.03125 node. A full node consists of 32 CPU cores, 240000 MiB of memory and 0 GPUs and can be shared by up to 32 jobs.\n"
     ]
    },
    {
     "name": "stdout",
     "output_type": "stream",
     "text": [
      "Submitted batch job 418386\n",
      "Submitted batch job 418388\n",
      "Submitted batch job 418389\n",
      "Submitted batch job 418390\n"
     ]
    },
    {
     "name": "stderr",
     "output_type": "stream",
     "text": [
      "sbatch: Single node jobs run on a shared node by default. Add --exclusive if you want to use a node exclusively.\n",
      "sbatch: You will be charged for 0.03125 node. A full node consists of 32 CPU cores, 240000 MiB of memory and 0 GPUs and can be shared by up to 32 jobs.\n",
      "sbatch: Single node jobs run on a shared node by default. Add --exclusive if you want to use a node exclusively.\n",
      "sbatch: You will be charged for 0.03125 node. A full node consists of 32 CPU cores, 240000 MiB of memory and 0 GPUs and can be shared by up to 32 jobs.\n",
      "sbatch: Single node jobs run on a shared node by default. Add --exclusive if you want to use a node exclusively.\n",
      "sbatch: You will be charged for 0.03125 node. A full node consists of 32 CPU cores, 240000 MiB of memory and 0 GPUs and can be shared by up to 32 jobs.\n",
      "sbatch: Single node jobs run on a shared node by default. Add --exclusive if you want to use a node exclusively.\n",
      "sbatch: You will be charged for 0.03125 node. A full node consists of 32 CPU cores, 240000 MiB of memory and 0 GPUs and can be shared by up to 32 jobs.\n"
     ]
    },
    {
     "name": "stdout",
     "output_type": "stream",
     "text": [
      "Submitted batch job 418391\n",
      "Submitted batch job 418392\n",
      "Submitted batch job 418393\n",
      "Submitted batch job 418394\n"
     ]
    },
    {
     "name": "stderr",
     "output_type": "stream",
     "text": [
      "sbatch: Single node jobs run on a shared node by default. Add --exclusive if you want to use a node exclusively.\n",
      "sbatch: You will be charged for 0.03125 node. A full node consists of 32 CPU cores, 240000 MiB of memory and 0 GPUs and can be shared by up to 32 jobs.\n",
      "sbatch: Single node jobs run on a shared node by default. Add --exclusive if you want to use a node exclusively.\n",
      "sbatch: You will be charged for 0.03125 node. A full node consists of 32 CPU cores, 240000 MiB of memory and 0 GPUs and can be shared by up to 32 jobs.\n",
      "sbatch: Single node jobs run on a shared node by default. Add --exclusive if you want to use a node exclusively.\n",
      "sbatch: You will be charged for 0.03125 node. A full node consists of 32 CPU cores, 240000 MiB of memory and 0 GPUs and can be shared by up to 32 jobs.\n",
      "sbatch: Single node jobs run on a shared node by default. Add --exclusive if you want to use a node exclusively.\n",
      "sbatch: You will be charged for 0.03125 node. A full node consists of 32 CPU cores, 240000 MiB of memory and 0 GPUs and can be shared by up to 32 jobs.\n"
     ]
    },
    {
     "name": "stdout",
     "output_type": "stream",
     "text": [
      "Submitted batch job 418395\n",
      "Submitted batch job 418396\n",
      "Submitted batch job 418397\n",
      "Submitted batch job 418398\n"
     ]
    },
    {
     "name": "stderr",
     "output_type": "stream",
     "text": [
      "sbatch: Single node jobs run on a shared node by default. Add --exclusive if you want to use a node exclusively.\n",
      "sbatch: You will be charged for 0.03125 node. A full node consists of 32 CPU cores, 240000 MiB of memory and 0 GPUs and can be shared by up to 32 jobs.\n",
      "sbatch: Single node jobs run on a shared node by default. Add --exclusive if you want to use a node exclusively.\n",
      "sbatch: You will be charged for 0.03125 node. A full node consists of 32 CPU cores, 240000 MiB of memory and 0 GPUs and can be shared by up to 32 jobs.\n",
      "sbatch: Single node jobs run on a shared node by default. Add --exclusive if you want to use a node exclusively.\n",
      "sbatch: You will be charged for 0.03125 node. A full node consists of 32 CPU cores, 240000 MiB of memory and 0 GPUs and can be shared by up to 32 jobs.\n",
      "sbatch: Single node jobs run on a shared node by default. Add --exclusive if you want to use a node exclusively.\n",
      "sbatch: You will be charged for 0.03125 node. A full node consists of 32 CPU cores, 240000 MiB of memory and 0 GPUs and can be shared by up to 32 jobs.\n"
     ]
    },
    {
     "name": "stdout",
     "output_type": "stream",
     "text": [
      "Submitted batch job 418399\n",
      "Submitted batch job 418400\n",
      "Submitted batch job 418401\n",
      "Submitted batch job 418402\n",
      "Submitted batch job 418403\n",
      "Submitted batch job 418404\n",
      "Submitted batch job 418405\n",
      "Submitted batch job 418406\n"
     ]
    },
    {
     "name": "stderr",
     "output_type": "stream",
     "text": [
      "sbatch: Single node jobs run on a shared node by default. Add --exclusive if you want to use a node exclusively.\n",
      "sbatch: You will be charged for 0.03125 node. A full node consists of 32 CPU cores, 240000 MiB of memory and 0 GPUs and can be shared by up to 32 jobs.\n",
      "sbatch: Single node jobs run on a shared node by default. Add --exclusive if you want to use a node exclusively.\n",
      "sbatch: You will be charged for 0.03125 node. A full node consists of 32 CPU cores, 240000 MiB of memory and 0 GPUs and can be shared by up to 32 jobs.\n",
      "sbatch: Single node jobs run on a shared node by default. Add --exclusive if you want to use a node exclusively.\n",
      "sbatch: You will be charged for 0.03125 node. A full node consists of 32 CPU cores, 240000 MiB of memory and 0 GPUs and can be shared by up to 32 jobs.\n",
      "sbatch: Single node jobs run on a shared node by default. Add --exclusive if you want to use a node exclusively.\n",
      "sbatch: You will be charged for 0.03125 node. A full node consists of 32 CPU cores, 240000 MiB of memory and 0 GPUs and can be shared by up to 32 jobs.\n",
      "sbatch: Single node jobs run on a shared node by default. Add --exclusive if you want to use a node exclusively.\n",
      "sbatch: You will be charged for 0.03125 node. A full node consists of 32 CPU cores, 240000 MiB of memory and 0 GPUs and can be shared by up to 32 jobs.\n",
      "sbatch: Single node jobs run on a shared node by default. Add --exclusive if you want to use a node exclusively.\n",
      "sbatch: You will be charged for 0.03125 node. A full node consists of 32 CPU cores, 240000 MiB of memory and 0 GPUs and can be shared by up to 32 jobs.\n",
      "sbatch: Single node jobs run on a shared node by default. Add --exclusive if you want to use a node exclusively.\n",
      "sbatch: You will be charged for 0.03125 node. A full node consists of 32 CPU cores, 240000 MiB of memory and 0 GPUs and can be shared by up to 32 jobs.\n",
      "sbatch: Single node jobs run on a shared node by default. Add --exclusive if you want to use a node exclusively.\n",
      "sbatch: You will be charged for 0.03125 node. A full node consists of 32 CPU cores, 240000 MiB of memory and 0 GPUs and can be shared by up to 32 jobs.\n"
     ]
    },
    {
     "name": "stdout",
     "output_type": "stream",
     "text": [
      "Submitted batch job 418407\n",
      "Submitted batch job 418408\n",
      "Submitted batch job 418409\n",
      "Submitted batch job 418411\n"
     ]
    },
    {
     "name": "stderr",
     "output_type": "stream",
     "text": [
      "sbatch: Single node jobs run on a shared node by default. Add --exclusive if you want to use a node exclusively.\n",
      "sbatch: You will be charged for 0.03125 node. A full node consists of 32 CPU cores, 240000 MiB of memory and 0 GPUs and can be shared by up to 32 jobs.\n",
      "sbatch: Single node jobs run on a shared node by default. Add --exclusive if you want to use a node exclusively.\n",
      "sbatch: You will be charged for 0.03125 node. A full node consists of 32 CPU cores, 240000 MiB of memory and 0 GPUs and can be shared by up to 32 jobs.\n",
      "sbatch: Single node jobs run on a shared node by default. Add --exclusive if you want to use a node exclusively.\n",
      "sbatch: You will be charged for 0.03125 node. A full node consists of 32 CPU cores, 240000 MiB of memory and 0 GPUs and can be shared by up to 32 jobs.\n"
     ]
    },
    {
     "name": "stdout",
     "output_type": "stream",
     "text": [
      "Submitted batch job 418412\n",
      "Submitted batch job 418413\n",
      "Submitted batch job 418414\n"
     ]
    },
    {
     "name": "stderr",
     "output_type": "stream",
     "text": [
      "sbatch: Single node jobs run on a shared node by default. Add --exclusive if you want to use a node exclusively.\n",
      "sbatch: You will be charged for 0.03125 node. A full node consists of 32 CPU cores, 240000 MiB of memory and 0 GPUs and can be shared by up to 32 jobs.\n",
      "sbatch: Single node jobs run on a shared node by default. Add --exclusive if you want to use a node exclusively.\n",
      "sbatch: You will be charged for 0.03125 node. A full node consists of 32 CPU cores, 240000 MiB of memory and 0 GPUs and can be shared by up to 32 jobs.\n",
      "sbatch: Single node jobs run on a shared node by default. Add --exclusive if you want to use a node exclusively.\n",
      "sbatch: You will be charged for 0.03125 node. A full node consists of 32 CPU cores, 240000 MiB of memory and 0 GPUs and can be shared by up to 32 jobs.\n",
      "sbatch: Single node jobs run on a shared node by default. Add --exclusive if you want to use a node exclusively.\n",
      "sbatch: You will be charged for 0.03125 node. A full node consists of 32 CPU cores, 240000 MiB of memory and 0 GPUs and can be shared by up to 32 jobs.\n"
     ]
    },
    {
     "name": "stdout",
     "output_type": "stream",
     "text": [
      "Submitted batch job 418415\n",
      "Submitted batch job 418416\n",
      "Submitted batch job 418417\n",
      "Submitted batch job 418418\n"
     ]
    },
    {
     "name": "stderr",
     "output_type": "stream",
     "text": [
      "sbatch: Single node jobs run on a shared node by default. Add --exclusive if you want to use a node exclusively.\n",
      "sbatch: You will be charged for 0.03125 node. A full node consists of 32 CPU cores, 240000 MiB of memory and 0 GPUs and can be shared by up to 32 jobs.\n",
      "sbatch: Single node jobs run on a shared node by default. Add --exclusive if you want to use a node exclusively.\n",
      "sbatch: You will be charged for 0.03125 node. A full node consists of 32 CPU cores, 240000 MiB of memory and 0 GPUs and can be shared by up to 32 jobs.\n",
      "sbatch: Single node jobs run on a shared node by default. Add --exclusive if you want to use a node exclusively.\n",
      "sbatch: You will be charged for 0.03125 node. A full node consists of 32 CPU cores, 240000 MiB of memory and 0 GPUs and can be shared by up to 32 jobs.\n",
      "sbatch: Single node jobs run on a shared node by default. Add --exclusive if you want to use a node exclusively.\n",
      "sbatch: You will be charged for 0.03125 node. A full node consists of 32 CPU cores, 240000 MiB of memory and 0 GPUs and can be shared by up to 32 jobs.\n"
     ]
    },
    {
     "name": "stdout",
     "output_type": "stream",
     "text": [
      "Submitted batch job 418419\n",
      "Submitted batch job 418420\n",
      "Submitted batch job 418421\n",
      "Submitted batch job 418422\n"
     ]
    },
    {
     "name": "stderr",
     "output_type": "stream",
     "text": [
      "sbatch: Single node jobs run on a shared node by default. Add --exclusive if you want to use a node exclusively.\n",
      "sbatch: You will be charged for 0.03125 node. A full node consists of 32 CPU cores, 240000 MiB of memory and 0 GPUs and can be shared by up to 32 jobs.\n",
      "sbatch: Single node jobs run on a shared node by default. Add --exclusive if you want to use a node exclusively.\n",
      "sbatch: You will be charged for 0.03125 node. A full node consists of 32 CPU cores, 240000 MiB of memory and 0 GPUs and can be shared by up to 32 jobs.\n",
      "sbatch: Single node jobs run on a shared node by default. Add --exclusive if you want to use a node exclusively.\n",
      "sbatch: You will be charged for 0.03125 node. A full node consists of 32 CPU cores, 240000 MiB of memory and 0 GPUs and can be shared by up to 32 jobs.\n",
      "sbatch: Single node jobs run on a shared node by default. Add --exclusive if you want to use a node exclusively.\n",
      "sbatch: You will be charged for 0.03125 node. A full node consists of 32 CPU cores, 240000 MiB of memory and 0 GPUs and can be shared by up to 32 jobs.\n"
     ]
    },
    {
     "name": "stdout",
     "output_type": "stream",
     "text": [
      "Submitted batch job 418423\n",
      "Submitted batch job 418424\n",
      "Submitted batch job 418425\n",
      "Submitted batch job 418426\n"
     ]
    },
    {
     "name": "stderr",
     "output_type": "stream",
     "text": [
      "sbatch: Single node jobs run on a shared node by default. Add --exclusive if you want to use a node exclusively.\n",
      "sbatch: You will be charged for 0.03125 node. A full node consists of 32 CPU cores, 240000 MiB of memory and 0 GPUs and can be shared by up to 32 jobs.\n",
      "sbatch: Single node jobs run on a shared node by default. Add --exclusive if you want to use a node exclusively.\n",
      "sbatch: You will be charged for 0.03125 node. A full node consists of 32 CPU cores, 240000 MiB of memory and 0 GPUs and can be shared by up to 32 jobs.\n",
      "sbatch: Single node jobs run on a shared node by default. Add --exclusive if you want to use a node exclusively.\n",
      "sbatch: You will be charged for 0.03125 node. A full node consists of 32 CPU cores, 240000 MiB of memory and 0 GPUs and can be shared by up to 32 jobs.\n",
      "sbatch: Single node jobs run on a shared node by default. Add --exclusive if you want to use a node exclusively.\n",
      "sbatch: You will be charged for 0.03125 node. A full node consists of 32 CPU cores, 240000 MiB of memory and 0 GPUs and can be shared by up to 32 jobs.\n"
     ]
    },
    {
     "name": "stdout",
     "output_type": "stream",
     "text": [
      "Submitted batch job 418427\n",
      "Submitted batch job 418428\n",
      "Submitted batch job 418429\n",
      "Submitted batch job 418431\n"
     ]
    },
    {
     "name": "stderr",
     "output_type": "stream",
     "text": [
      "sbatch: Single node jobs run on a shared node by default. Add --exclusive if you want to use a node exclusively.\n",
      "sbatch: You will be charged for 0.03125 node. A full node consists of 32 CPU cores, 240000 MiB of memory and 0 GPUs and can be shared by up to 32 jobs.\n",
      "sbatch: Single node jobs run on a shared node by default. Add --exclusive if you want to use a node exclusively.\n",
      "sbatch: You will be charged for 0.03125 node. A full node consists of 32 CPU cores, 240000 MiB of memory and 0 GPUs and can be shared by up to 32 jobs.\n",
      "sbatch: Single node jobs run on a shared node by default. Add --exclusive if you want to use a node exclusively.\n",
      "sbatch: You will be charged for 0.03125 node. A full node consists of 32 CPU cores, 240000 MiB of memory and 0 GPUs and can be shared by up to 32 jobs.\n",
      "sbatch: Single node jobs run on a shared node by default. Add --exclusive if you want to use a node exclusively.\n",
      "sbatch: You will be charged for 0.03125 node. A full node consists of 32 CPU cores, 240000 MiB of memory and 0 GPUs and can be shared by up to 32 jobs.\n"
     ]
    },
    {
     "name": "stdout",
     "output_type": "stream",
     "text": [
      "Submitted batch job 418432\n",
      "Submitted batch job 418433\n",
      "Submitted batch job 418434\n",
      "Submitted batch job 418435\n"
     ]
    },
    {
     "name": "stderr",
     "output_type": "stream",
     "text": [
      "sbatch: Single node jobs run on a shared node by default. Add --exclusive if you want to use a node exclusively.\n",
      "sbatch: You will be charged for 0.03125 node. A full node consists of 32 CPU cores, 240000 MiB of memory and 0 GPUs and can be shared by up to 32 jobs.\n",
      "sbatch: Single node jobs run on a shared node by default. Add --exclusive if you want to use a node exclusively.\n",
      "sbatch: You will be charged for 0.03125 node. A full node consists of 32 CPU cores, 240000 MiB of memory and 0 GPUs and can be shared by up to 32 jobs.\n",
      "sbatch: Single node jobs run on a shared node by default. Add --exclusive if you want to use a node exclusively.\n",
      "sbatch: You will be charged for 0.03125 node. A full node consists of 32 CPU cores, 240000 MiB of memory and 0 GPUs and can be shared by up to 32 jobs.\n",
      "sbatch: Single node jobs run on a shared node by default. Add --exclusive if you want to use a node exclusively.\n",
      "sbatch: You will be charged for 0.03125 node. A full node consists of 32 CPU cores, 240000 MiB of memory and 0 GPUs and can be shared by up to 32 jobs.\n"
     ]
    },
    {
     "name": "stdout",
     "output_type": "stream",
     "text": [
      "Submitted batch job 418436\n",
      "Submitted batch job 418437\n",
      "Submitted batch job 418438\n",
      "Submitted batch job 418439\n"
     ]
    },
    {
     "name": "stderr",
     "output_type": "stream",
     "text": [
      "sbatch: Single node jobs run on a shared node by default. Add --exclusive if you want to use a node exclusively.\n",
      "sbatch: You will be charged for 0.03125 node. A full node consists of 32 CPU cores, 240000 MiB of memory and 0 GPUs and can be shared by up to 32 jobs.\n",
      "sbatch: Single node jobs run on a shared node by default. Add --exclusive if you want to use a node exclusively.\n",
      "sbatch: You will be charged for 0.03125 node. A full node consists of 32 CPU cores, 240000 MiB of memory and 0 GPUs and can be shared by up to 32 jobs.\n",
      "sbatch: Single node jobs run on a shared node by default. Add --exclusive if you want to use a node exclusively.\n",
      "sbatch: You will be charged for 0.03125 node. A full node consists of 32 CPU cores, 240000 MiB of memory and 0 GPUs and can be shared by up to 32 jobs.\n",
      "sbatch: Single node jobs run on a shared node by default. Add --exclusive if you want to use a node exclusively.\n",
      "sbatch: You will be charged for 0.03125 node. A full node consists of 32 CPU cores, 240000 MiB of memory and 0 GPUs and can be shared by up to 32 jobs.\n"
     ]
    },
    {
     "name": "stdout",
     "output_type": "stream",
     "text": [
      "Submitted batch job 418440\n",
      "Submitted batch job 418441\n",
      "Submitted batch job 418442\n",
      "Submitted batch job 418443\n",
      "Submitted batch job 418444\n",
      "Submitted batch job 418445\n",
      "Submitted batch job 418446\n",
      "Submitted batch job 418447\n"
     ]
    },
    {
     "name": "stderr",
     "output_type": "stream",
     "text": [
      "sbatch: Single node jobs run on a shared node by default. Add --exclusive if you want to use a node exclusively.\n",
      "sbatch: You will be charged for 0.03125 node. A full node consists of 32 CPU cores, 240000 MiB of memory and 0 GPUs and can be shared by up to 32 jobs.\n",
      "sbatch: Single node jobs run on a shared node by default. Add --exclusive if you want to use a node exclusively.\n",
      "sbatch: You will be charged for 0.03125 node. A full node consists of 32 CPU cores, 240000 MiB of memory and 0 GPUs and can be shared by up to 32 jobs.\n",
      "sbatch: Single node jobs run on a shared node by default. Add --exclusive if you want to use a node exclusively.\n",
      "sbatch: You will be charged for 0.03125 node. A full node consists of 32 CPU cores, 240000 MiB of memory and 0 GPUs and can be shared by up to 32 jobs.\n",
      "sbatch: Single node jobs run on a shared node by default. Add --exclusive if you want to use a node exclusively.\n",
      "sbatch: You will be charged for 0.03125 node. A full node consists of 32 CPU cores, 240000 MiB of memory and 0 GPUs and can be shared by up to 32 jobs.\n",
      "sbatch: Single node jobs run on a shared node by default. Add --exclusive if you want to use a node exclusively.\n",
      "sbatch: You will be charged for 0.03125 node. A full node consists of 32 CPU cores, 240000 MiB of memory and 0 GPUs and can be shared by up to 32 jobs.\n",
      "sbatch: Single node jobs run on a shared node by default. Add --exclusive if you want to use a node exclusively.\n",
      "sbatch: You will be charged for 0.03125 node. A full node consists of 32 CPU cores, 240000 MiB of memory and 0 GPUs and can be shared by up to 32 jobs.\n",
      "sbatch: Single node jobs run on a shared node by default. Add --exclusive if you want to use a node exclusively.\n",
      "sbatch: You will be charged for 0.03125 node. A full node consists of 32 CPU cores, 240000 MiB of memory and 0 GPUs and can be shared by up to 32 jobs.\n",
      "sbatch: Single node jobs run on a shared node by default. Add --exclusive if you want to use a node exclusively.\n",
      "sbatch: You will be charged for 0.03125 node. A full node consists of 32 CPU cores, 240000 MiB of memory and 0 GPUs and can be shared by up to 32 jobs.\n"
     ]
    },
    {
     "name": "stdout",
     "output_type": "stream",
     "text": [
      "Submitted batch job 418448\n",
      "Submitted batch job 418449\n",
      "Submitted batch job 418450\n",
      "Submitted batch job 418452\n"
     ]
    },
    {
     "name": "stderr",
     "output_type": "stream",
     "text": [
      "sbatch: Single node jobs run on a shared node by default. Add --exclusive if you want to use a node exclusively.\n",
      "sbatch: You will be charged for 0.03125 node. A full node consists of 32 CPU cores, 240000 MiB of memory and 0 GPUs and can be shared by up to 32 jobs.\n",
      "sbatch: Single node jobs run on a shared node by default. Add --exclusive if you want to use a node exclusively.\n",
      "sbatch: You will be charged for 0.03125 node. A full node consists of 32 CPU cores, 240000 MiB of memory and 0 GPUs and can be shared by up to 32 jobs.\n",
      "sbatch: Single node jobs run on a shared node by default. Add --exclusive if you want to use a node exclusively.\n",
      "sbatch: You will be charged for 0.03125 node. A full node consists of 32 CPU cores, 240000 MiB of memory and 0 GPUs and can be shared by up to 32 jobs.\n",
      "sbatch: Single node jobs run on a shared node by default. Add --exclusive if you want to use a node exclusively.\n",
      "sbatch: You will be charged for 0.03125 node. A full node consists of 32 CPU cores, 240000 MiB of memory and 0 GPUs and can be shared by up to 32 jobs.\n"
     ]
    },
    {
     "name": "stdout",
     "output_type": "stream",
     "text": [
      "Submitted batch job 418453\n",
      "Submitted batch job 418454\n",
      "Submitted batch job 418455\n",
      "Submitted batch job 418456\n"
     ]
    },
    {
     "name": "stderr",
     "output_type": "stream",
     "text": [
      "sbatch: Single node jobs run on a shared node by default. Add --exclusive if you want to use a node exclusively.\n",
      "sbatch: You will be charged for 0.03125 node. A full node consists of 32 CPU cores, 240000 MiB of memory and 0 GPUs and can be shared by up to 32 jobs.\n",
      "sbatch: Single node jobs run on a shared node by default. Add --exclusive if you want to use a node exclusively.\n",
      "sbatch: You will be charged for 0.03125 node. A full node consists of 32 CPU cores, 240000 MiB of memory and 0 GPUs and can be shared by up to 32 jobs.\n",
      "sbatch: Single node jobs run on a shared node by default. Add --exclusive if you want to use a node exclusively.\n",
      "sbatch: You will be charged for 0.03125 node. A full node consists of 32 CPU cores, 240000 MiB of memory and 0 GPUs and can be shared by up to 32 jobs.\n",
      "sbatch: Single node jobs run on a shared node by default. Add --exclusive if you want to use a node exclusively.\n",
      "sbatch: You will be charged for 0.03125 node. A full node consists of 32 CPU cores, 240000 MiB of memory and 0 GPUs and can be shared by up to 32 jobs.\n"
     ]
    },
    {
     "name": "stdout",
     "output_type": "stream",
     "text": [
      "Submitted batch job 418457\n",
      "Submitted batch job 418458\n",
      "Submitted batch job 418459\n",
      "Submitted batch job 418460\n"
     ]
    },
    {
     "name": "stderr",
     "output_type": "stream",
     "text": [
      "sbatch: Single node jobs run on a shared node by default. Add --exclusive if you want to use a node exclusively.\n",
      "sbatch: You will be charged for 0.03125 node. A full node consists of 32 CPU cores, 240000 MiB of memory and 0 GPUs and can be shared by up to 32 jobs.\n",
      "sbatch: Single node jobs run on a shared node by default. Add --exclusive if you want to use a node exclusively.\n",
      "sbatch: You will be charged for 0.03125 node. A full node consists of 32 CPU cores, 240000 MiB of memory and 0 GPUs and can be shared by up to 32 jobs.\n",
      "sbatch: Single node jobs run on a shared node by default. Add --exclusive if you want to use a node exclusively.\n",
      "sbatch: You will be charged for 0.03125 node. A full node consists of 32 CPU cores, 240000 MiB of memory and 0 GPUs and can be shared by up to 32 jobs.\n"
     ]
    },
    {
     "name": "stdout",
     "output_type": "stream",
     "text": [
      "Submitted batch job 418461\n",
      "Submitted batch job 418462\n",
      "Submitted batch job 418463\n",
      "Submitted batch job 418464\n",
      "Submitted batch job 418465\n"
     ]
    },
    {
     "name": "stderr",
     "output_type": "stream",
     "text": [
      "sbatch: Single node jobs run on a shared node by default. Add --exclusive if you want to use a node exclusively.\n",
      "sbatch: You will be charged for 0.03125 node. A full node consists of 32 CPU cores, 240000 MiB of memory and 0 GPUs and can be shared by up to 32 jobs.\n",
      "sbatch: Single node jobs run on a shared node by default. Add --exclusive if you want to use a node exclusively.\n",
      "sbatch: You will be charged for 0.03125 node. A full node consists of 32 CPU cores, 240000 MiB of memory and 0 GPUs and can be shared by up to 32 jobs.\n"
     ]
    },
    {
     "name": "stdout",
     "output_type": "stream",
     "text": [
      "Submitted batch job 418466\n",
      "Submitted batch job 418467\n"
     ]
    },
    {
     "name": "stderr",
     "output_type": "stream",
     "text": [
      "sbatch: Single node jobs run on a shared node by default. Add --exclusive if you want to use a node exclusively.\n",
      "sbatch: You will be charged for 0.03125 node. A full node consists of 32 CPU cores, 240000 MiB of memory and 0 GPUs and can be shared by up to 32 jobs.\n",
      "sbatch: Single node jobs run on a shared node by default. Add --exclusive if you want to use a node exclusively.\n",
      "sbatch: You will be charged for 0.03125 node. A full node consists of 32 CPU cores, 240000 MiB of memory and 0 GPUs and can be shared by up to 32 jobs.\n",
      "sbatch: Single node jobs run on a shared node by default. Add --exclusive if you want to use a node exclusively.\n",
      "sbatch: You will be charged for 0.03125 node. A full node consists of 32 CPU cores, 240000 MiB of memory and 0 GPUs and can be shared by up to 32 jobs.\n",
      "sbatch: Single node jobs run on a shared node by default. Add --exclusive if you want to use a node exclusively.\n",
      "sbatch: You will be charged for 0.03125 node. A full node consists of 32 CPU cores, 240000 MiB of memory and 0 GPUs and can be shared by up to 32 jobs.\n",
      "sbatch: Single node jobs run on a shared node by default. Add --exclusive if you want to use a node exclusively.\n",
      "sbatch: You will be charged for 0.03125 node. A full node consists of 32 CPU cores, 240000 MiB of memory and 0 GPUs and can be shared by up to 32 jobs.\n",
      "sbatch: Single node jobs run on a shared node by default. Add --exclusive if you want to use a node exclusively.\n",
      "sbatch: You will be charged for 0.03125 node. A full node consists of 32 CPU cores, 240000 MiB of memory and 0 GPUs and can be shared by up to 32 jobs.\n"
     ]
    },
    {
     "name": "stdout",
     "output_type": "stream",
     "text": [
      "Submitted batch job 418468\n",
      "Submitted batch job 418469\n",
      "Submitted batch job 418470\n",
      "Submitted batch job 418471\n",
      "Submitted batch job 418472\n"
     ]
    },
    {
     "name": "stderr",
     "output_type": "stream",
     "text": [
      "sbatch: Single node jobs run on a shared node by default. Add --exclusive if you want to use a node exclusively.\n",
      "sbatch: You will be charged for 0.03125 node. A full node consists of 32 CPU cores, 240000 MiB of memory and 0 GPUs and can be shared by up to 32 jobs.\n"
     ]
    },
    {
     "name": "stdout",
     "output_type": "stream",
     "text": [
      "Submitted batch job 418473\n",
      "Submitted batch job 418474\n",
      "Submitted batch job 418475\n"
     ]
    },
    {
     "name": "stderr",
     "output_type": "stream",
     "text": [
      "sbatch: Single node jobs run on a shared node by default. Add --exclusive if you want to use a node exclusively.\n",
      "sbatch: You will be charged for 0.03125 node. A full node consists of 32 CPU cores, 240000 MiB of memory and 0 GPUs and can be shared by up to 32 jobs.\n",
      "sbatch: Single node jobs run on a shared node by default. Add --exclusive if you want to use a node exclusively.\n",
      "sbatch: You will be charged for 0.03125 node. A full node consists of 32 CPU cores, 240000 MiB of memory and 0 GPUs and can be shared by up to 32 jobs.\n",
      "sbatch: Single node jobs run on a shared node by default. Add --exclusive if you want to use a node exclusively.\n",
      "sbatch: You will be charged for 0.03125 node. A full node consists of 32 CPU cores, 240000 MiB of memory and 0 GPUs and can be shared by up to 32 jobs.\n",
      "sbatch: Single node jobs run on a shared node by default. Add --exclusive if you want to use a node exclusively.\n",
      "sbatch: You will be charged for 0.03125 node. A full node consists of 32 CPU cores, 240000 MiB of memory and 0 GPUs and can be shared by up to 32 jobs.\n",
      "sbatch: Single node jobs run on a shared node by default. Add --exclusive if you want to use a node exclusively.\n",
      "sbatch: You will be charged for 0.03125 node. A full node consists of 32 CPU cores, 240000 MiB of memory and 0 GPUs and can be shared by up to 32 jobs.\n",
      "sbatch: Single node jobs run on a shared node by default. Add --exclusive if you want to use a node exclusively.\n",
      "sbatch: You will be charged for 0.03125 node. A full node consists of 32 CPU cores, 240000 MiB of memory and 0 GPUs and can be shared by up to 32 jobs.\n"
     ]
    },
    {
     "name": "stdout",
     "output_type": "stream",
     "text": [
      "Submitted batch job 418477\n",
      "Submitted batch job 418478\n",
      "Submitted batch job 418479\n"
     ]
    },
    {
     "name": "stderr",
     "output_type": "stream",
     "text": [
      "sbatch: Single node jobs run on a shared node by default. Add --exclusive if you want to use a node exclusively.\n",
      "sbatch: You will be charged for 0.03125 node. A full node consists of 32 CPU cores, 240000 MiB of memory and 0 GPUs and can be shared by up to 32 jobs.\n",
      "sbatch: Single node jobs run on a shared node by default. Add --exclusive if you want to use a node exclusively.\n",
      "sbatch: You will be charged for 0.03125 node. A full node consists of 32 CPU cores, 240000 MiB of memory and 0 GPUs and can be shared by up to 32 jobs.\n",
      "sbatch: Single node jobs run on a shared node by default. Add --exclusive if you want to use a node exclusively.\n",
      "sbatch: You will be charged for 0.03125 node. A full node consists of 32 CPU cores, 240000 MiB of memory and 0 GPUs and can be shared by up to 32 jobs.\n",
      "sbatch: Single node jobs run on a shared node by default. Add --exclusive if you want to use a node exclusively.\n",
      "sbatch: You will be charged for 0.03125 node. A full node consists of 32 CPU cores, 240000 MiB of memory and 0 GPUs and can be shared by up to 32 jobs.\n"
     ]
    },
    {
     "name": "stdout",
     "output_type": "stream",
     "text": [
      "Submitted batch job 418480\n",
      "Submitted batch job 418481\n",
      "Submitted batch job 418482\n",
      "Submitted batch job 418483\n"
     ]
    },
    {
     "name": "stderr",
     "output_type": "stream",
     "text": [
      "sbatch: Single node jobs run on a shared node by default. Add --exclusive if you want to use a node exclusively.\n",
      "sbatch: You will be charged for 0.03125 node. A full node consists of 32 CPU cores, 240000 MiB of memory and 0 GPUs and can be shared by up to 32 jobs.\n",
      "sbatch: Single node jobs run on a shared node by default. Add --exclusive if you want to use a node exclusively.\n",
      "sbatch: You will be charged for 0.03125 node. A full node consists of 32 CPU cores, 240000 MiB of memory and 0 GPUs and can be shared by up to 32 jobs.\n",
      "sbatch: Single node jobs run on a shared node by default. Add --exclusive if you want to use a node exclusively.\n",
      "sbatch: You will be charged for 0.03125 node. A full node consists of 32 CPU cores, 240000 MiB of memory and 0 GPUs and can be shared by up to 32 jobs.\n",
      "sbatch: Single node jobs run on a shared node by default. Add --exclusive if you want to use a node exclusively.\n",
      "sbatch: You will be charged for 0.03125 node. A full node consists of 32 CPU cores, 240000 MiB of memory and 0 GPUs and can be shared by up to 32 jobs.\n"
     ]
    },
    {
     "name": "stdout",
     "output_type": "stream",
     "text": [
      "Submitted batch job 418484\n",
      "Submitted batch job 418485\n",
      "Submitted batch job 418486\n",
      "Submitted batch job 418487\n"
     ]
    },
    {
     "name": "stderr",
     "output_type": "stream",
     "text": [
      "sbatch: Single node jobs run on a shared node by default. Add --exclusive if you want to use a node exclusively.\n",
      "sbatch: You will be charged for 0.03125 node. A full node consists of 32 CPU cores, 240000 MiB of memory and 0 GPUs and can be shared by up to 32 jobs.\n",
      "sbatch: Single node jobs run on a shared node by default. Add --exclusive if you want to use a node exclusively.\n",
      "sbatch: You will be charged for 0.03125 node. A full node consists of 32 CPU cores, 240000 MiB of memory and 0 GPUs and can be shared by up to 32 jobs.\n",
      "sbatch: Single node jobs run on a shared node by default. Add --exclusive if you want to use a node exclusively.\n",
      "sbatch: You will be charged for 0.03125 node. A full node consists of 32 CPU cores, 240000 MiB of memory and 0 GPUs and can be shared by up to 32 jobs.\n",
      "sbatch: Single node jobs run on a shared node by default. Add --exclusive if you want to use a node exclusively.\n",
      "sbatch: You will be charged for 0.03125 node. A full node consists of 32 CPU cores, 240000 MiB of memory and 0 GPUs and can be shared by up to 32 jobs.\n"
     ]
    },
    {
     "name": "stdout",
     "output_type": "stream",
     "text": [
      "Submitted batch job 418488\n",
      "Submitted batch job 418489\n",
      "Submitted batch job 418490\n",
      "Submitted batch job 418491\n"
     ]
    },
    {
     "name": "stderr",
     "output_type": "stream",
     "text": [
      "sbatch: Single node jobs run on a shared node by default. Add --exclusive if you want to use a node exclusively.\n",
      "sbatch: You will be charged for 0.03125 node. A full node consists of 32 CPU cores, 240000 MiB of memory and 0 GPUs and can be shared by up to 32 jobs.\n",
      "sbatch: Single node jobs run on a shared node by default. Add --exclusive if you want to use a node exclusively.\n",
      "sbatch: You will be charged for 0.03125 node. A full node consists of 32 CPU cores, 240000 MiB of memory and 0 GPUs and can be shared by up to 32 jobs.\n",
      "sbatch: Single node jobs run on a shared node by default. Add --exclusive if you want to use a node exclusively.\n",
      "sbatch: You will be charged for 0.03125 node. A full node consists of 32 CPU cores, 240000 MiB of memory and 0 GPUs and can be shared by up to 32 jobs.\n",
      "sbatch: Single node jobs run on a shared node by default. Add --exclusive if you want to use a node exclusively.\n",
      "sbatch: You will be charged for 0.03125 node. A full node consists of 32 CPU cores, 240000 MiB of memory and 0 GPUs and can be shared by up to 32 jobs.\n"
     ]
    },
    {
     "name": "stdout",
     "output_type": "stream",
     "text": [
      "Submitted batch job 418492\n",
      "Submitted batch job 418493\n",
      "Submitted batch job 418494\n",
      "Submitted batch job 418495\n"
     ]
    },
    {
     "name": "stderr",
     "output_type": "stream",
     "text": [
      "sbatch: Single node jobs run on a shared node by default. Add --exclusive if you want to use a node exclusively.\n",
      "sbatch: You will be charged for 0.03125 node. A full node consists of 32 CPU cores, 240000 MiB of memory and 0 GPUs and can be shared by up to 32 jobs.\n",
      "sbatch: Single node jobs run on a shared node by default. Add --exclusive if you want to use a node exclusively.\n",
      "sbatch: You will be charged for 0.03125 node. A full node consists of 32 CPU cores, 240000 MiB of memory and 0 GPUs and can be shared by up to 32 jobs.\n",
      "sbatch: Single node jobs run on a shared node by default. Add --exclusive if you want to use a node exclusively.\n",
      "sbatch: You will be charged for 0.03125 node. A full node consists of 32 CPU cores, 240000 MiB of memory and 0 GPUs and can be shared by up to 32 jobs.\n",
      "sbatch: Single node jobs run on a shared node by default. Add --exclusive if you want to use a node exclusively.\n",
      "sbatch: You will be charged for 0.03125 node. A full node consists of 32 CPU cores, 240000 MiB of memory and 0 GPUs and can be shared by up to 32 jobs.\n",
      "sbatch: Single node jobs run on a shared node by default. Add --exclusive if you want to use a node exclusively.\n",
      "sbatch: You will be charged for 0.03125 node. A full node consists of 32 CPU cores, 240000 MiB of memory and 0 GPUs and can be shared by up to 32 jobs.\n"
     ]
    },
    {
     "name": "stdout",
     "output_type": "stream",
     "text": [
      "Submitted batch job 418496\n",
      "Submitted batch job 418497\n",
      "Submitted batch job 418499\n",
      "Submitted batch job 418500\n",
      "Submitted batch job 418501\n"
     ]
    },
    {
     "name": "stderr",
     "output_type": "stream",
     "text": [
      "sbatch: Single node jobs run on a shared node by default. Add --exclusive if you want to use a node exclusively.\n",
      "sbatch: You will be charged for 0.03125 node. A full node consists of 32 CPU cores, 240000 MiB of memory and 0 GPUs and can be shared by up to 32 jobs.\n",
      "sbatch: Single node jobs run on a shared node by default. Add --exclusive if you want to use a node exclusively.\n",
      "sbatch: You will be charged for 0.03125 node. A full node consists of 32 CPU cores, 240000 MiB of memory and 0 GPUs and can be shared by up to 32 jobs.\n",
      "sbatch: Single node jobs run on a shared node by default. Add --exclusive if you want to use a node exclusively.\n",
      "sbatch: You will be charged for 0.03125 node. A full node consists of 32 CPU cores, 240000 MiB of memory and 0 GPUs and can be shared by up to 32 jobs.\n",
      "sbatch: Single node jobs run on a shared node by default. Add --exclusive if you want to use a node exclusively.\n",
      "sbatch: You will be charged for 0.03125 node. A full node consists of 32 CPU cores, 240000 MiB of memory and 0 GPUs and can be shared by up to 32 jobs.\n"
     ]
    },
    {
     "name": "stdout",
     "output_type": "stream",
     "text": [
      "Submitted batch job 418502\n",
      "Submitted batch job 418503\n",
      "Submitted batch job 418504\n",
      "Submitted batch job 418505\n"
     ]
    },
    {
     "name": "stderr",
     "output_type": "stream",
     "text": [
      "sbatch: Single node jobs run on a shared node by default. Add --exclusive if you want to use a node exclusively.\n",
      "sbatch: You will be charged for 0.03125 node. A full node consists of 32 CPU cores, 240000 MiB of memory and 0 GPUs and can be shared by up to 32 jobs.\n",
      "sbatch: Single node jobs run on a shared node by default. Add --exclusive if you want to use a node exclusively.\n",
      "sbatch: You will be charged for 0.03125 node. A full node consists of 32 CPU cores, 240000 MiB of memory and 0 GPUs and can be shared by up to 32 jobs.\n",
      "sbatch: Single node jobs run on a shared node by default. Add --exclusive if you want to use a node exclusively.\n",
      "sbatch: You will be charged for 0.03125 node. A full node consists of 32 CPU cores, 240000 MiB of memory and 0 GPUs and can be shared by up to 32 jobs.\n",
      "sbatch: Single node jobs run on a shared node by default. Add --exclusive if you want to use a node exclusively.\n",
      "sbatch: You will be charged for 0.03125 node. A full node consists of 32 CPU cores, 240000 MiB of memory and 0 GPUs and can be shared by up to 32 jobs.\n"
     ]
    },
    {
     "name": "stdout",
     "output_type": "stream",
     "text": [
      "Submitted batch job 418506\n",
      "Submitted batch job 418507\n",
      "Submitted batch job 418508\n",
      "Submitted batch job 418509\n"
     ]
    },
    {
     "name": "stderr",
     "output_type": "stream",
     "text": [
      "sbatch: Single node jobs run on a shared node by default. Add --exclusive if you want to use a node exclusively.\n",
      "sbatch: You will be charged for 0.03125 node. A full node consists of 32 CPU cores, 240000 MiB of memory and 0 GPUs and can be shared by up to 32 jobs.\n",
      "sbatch: Single node jobs run on a shared node by default. Add --exclusive if you want to use a node exclusively.\n",
      "sbatch: You will be charged for 0.03125 node. A full node consists of 32 CPU cores, 240000 MiB of memory and 0 GPUs and can be shared by up to 32 jobs.\n",
      "sbatch: Single node jobs run on a shared node by default. Add --exclusive if you want to use a node exclusively.\n",
      "sbatch: You will be charged for 0.03125 node. A full node consists of 32 CPU cores, 240000 MiB of memory and 0 GPUs and can be shared by up to 32 jobs.\n",
      "sbatch: Single node jobs run on a shared node by default. Add --exclusive if you want to use a node exclusively.\n",
      "sbatch: You will be charged for 0.03125 node. A full node consists of 32 CPU cores, 240000 MiB of memory and 0 GPUs and can be shared by up to 32 jobs.\n",
      "sbatch: Single node jobs run on a shared node by default. Add --exclusive if you want to use a node exclusively.\n",
      "sbatch: You will be charged for 0.03125 node. A full node consists of 32 CPU cores, 240000 MiB of memory and 0 GPUs and can be shared by up to 32 jobs.\n"
     ]
    },
    {
     "name": "stdout",
     "output_type": "stream",
     "text": [
      "Submitted batch job 418510\n",
      "Submitted batch job 418511\n",
      "Submitted batch job 418512\n",
      "Submitted batch job 418513\n",
      "Submitted batch job 418514\n"
     ]
    },
    {
     "name": "stderr",
     "output_type": "stream",
     "text": [
      "sbatch: Single node jobs run on a shared node by default. Add --exclusive if you want to use a node exclusively.\n",
      "sbatch: You will be charged for 0.03125 node. A full node consists of 32 CPU cores, 240000 MiB of memory and 0 GPUs and can be shared by up to 32 jobs.\n",
      "sbatch: Single node jobs run on a shared node by default. Add --exclusive if you want to use a node exclusively.\n",
      "sbatch: You will be charged for 0.03125 node. A full node consists of 32 CPU cores, 240000 MiB of memory and 0 GPUs and can be shared by up to 32 jobs.\n",
      "sbatch: Single node jobs run on a shared node by default. Add --exclusive if you want to use a node exclusively.\n",
      "sbatch: You will be charged for 0.03125 node. A full node consists of 32 CPU cores, 240000 MiB of memory and 0 GPUs and can be shared by up to 32 jobs.\n",
      "sbatch: Single node jobs run on a shared node by default. Add --exclusive if you want to use a node exclusively.\n",
      "sbatch: You will be charged for 0.03125 node. A full node consists of 32 CPU cores, 240000 MiB of memory and 0 GPUs and can be shared by up to 32 jobs.\n"
     ]
    },
    {
     "name": "stdout",
     "output_type": "stream",
     "text": [
      "Submitted batch job 418515\n",
      "Submitted batch job 418516\n",
      "Submitted batch job 418517\n",
      "Submitted batch job 418518\n"
     ]
    },
    {
     "name": "stderr",
     "output_type": "stream",
     "text": [
      "sbatch: Single node jobs run on a shared node by default. Add --exclusive if you want to use a node exclusively.\n",
      "sbatch: You will be charged for 0.03125 node. A full node consists of 32 CPU cores, 240000 MiB of memory and 0 GPUs and can be shared by up to 32 jobs.\n"
     ]
    },
    {
     "name": "stdout",
     "output_type": "stream",
     "text": [
      "Submitted batch job 418519\n"
     ]
    },
    {
     "name": "stderr",
     "output_type": "stream",
     "text": [
      "sbatch: Single node jobs run on a shared node by default. Add --exclusive if you want to use a node exclusively.\n",
      "sbatch: You will be charged for 0.03125 node. A full node consists of 32 CPU cores, 240000 MiB of memory and 0 GPUs and can be shared by up to 32 jobs.\n",
      "sbatch: Single node jobs run on a shared node by default. Add --exclusive if you want to use a node exclusively.\n",
      "sbatch: You will be charged for 0.03125 node. A full node consists of 32 CPU cores, 240000 MiB of memory and 0 GPUs and can be shared by up to 32 jobs.\n",
      "sbatch: Single node jobs run on a shared node by default. Add --exclusive if you want to use a node exclusively.\n",
      "sbatch: You will be charged for 0.03125 node. A full node consists of 32 CPU cores, 240000 MiB of memory and 0 GPUs and can be shared by up to 32 jobs.\n",
      "sbatch: Single node jobs run on a shared node by default. Add --exclusive if you want to use a node exclusively.\n",
      "sbatch: You will be charged for 0.03125 node. A full node consists of 32 CPU cores, 240000 MiB of memory and 0 GPUs and can be shared by up to 32 jobs.\n"
     ]
    },
    {
     "name": "stdout",
     "output_type": "stream",
     "text": [
      "Submitted batch job 418527\n",
      "Submitted batch job 418528\n",
      "Submitted batch job 418529\n",
      "Submitted batch job 418530\n"
     ]
    },
    {
     "name": "stderr",
     "output_type": "stream",
     "text": [
      "sbatch: Single node jobs run on a shared node by default. Add --exclusive if you want to use a node exclusively.\n",
      "sbatch: You will be charged for 0.03125 node. A full node consists of 32 CPU cores, 240000 MiB of memory and 0 GPUs and can be shared by up to 32 jobs.\n",
      "sbatch: Single node jobs run on a shared node by default. Add --exclusive if you want to use a node exclusively.\n",
      "sbatch: You will be charged for 0.03125 node. A full node consists of 32 CPU cores, 240000 MiB of memory and 0 GPUs and can be shared by up to 32 jobs.\n",
      "sbatch: Single node jobs run on a shared node by default. Add --exclusive if you want to use a node exclusively.\n",
      "sbatch: You will be charged for 0.03125 node. A full node consists of 32 CPU cores, 240000 MiB of memory and 0 GPUs and can be shared by up to 32 jobs.\n",
      "sbatch: Single node jobs run on a shared node by default. Add --exclusive if you want to use a node exclusively.\n",
      "sbatch: You will be charged for 0.03125 node. A full node consists of 32 CPU cores, 240000 MiB of memory and 0 GPUs and can be shared by up to 32 jobs.\n"
     ]
    },
    {
     "name": "stdout",
     "output_type": "stream",
     "text": [
      "Submitted batch job 418531\n",
      "Submitted batch job 418532\n",
      "Submitted batch job 418533\n",
      "Submitted batch job 418534\n"
     ]
    },
    {
     "name": "stderr",
     "output_type": "stream",
     "text": [
      "sbatch: Single node jobs run on a shared node by default. Add --exclusive if you want to use a node exclusively.\n",
      "sbatch: You will be charged for 0.03125 node. A full node consists of 32 CPU cores, 240000 MiB of memory and 0 GPUs and can be shared by up to 32 jobs.\n",
      "sbatch: Single node jobs run on a shared node by default. Add --exclusive if you want to use a node exclusively.\n",
      "sbatch: You will be charged for 0.03125 node. A full node consists of 32 CPU cores, 240000 MiB of memory and 0 GPUs and can be shared by up to 32 jobs.\n",
      "sbatch: Single node jobs run on a shared node by default. Add --exclusive if you want to use a node exclusively.\n",
      "sbatch: You will be charged for 0.03125 node. A full node consists of 32 CPU cores, 240000 MiB of memory and 0 GPUs and can be shared by up to 32 jobs.\n",
      "sbatch: Single node jobs run on a shared node by default. Add --exclusive if you want to use a node exclusively.\n",
      "sbatch: You will be charged for 0.03125 node. A full node consists of 32 CPU cores, 240000 MiB of memory and 0 GPUs and can be shared by up to 32 jobs.\n"
     ]
    },
    {
     "name": "stdout",
     "output_type": "stream",
     "text": [
      "Submitted batch job 418535\n",
      "Submitted batch job 418536\n",
      "Submitted batch job 418537\n",
      "Submitted batch job 418538\n"
     ]
    },
    {
     "name": "stderr",
     "output_type": "stream",
     "text": [
      "sbatch: Single node jobs run on a shared node by default. Add --exclusive if you want to use a node exclusively.\n",
      "sbatch: You will be charged for 0.03125 node. A full node consists of 32 CPU cores, 240000 MiB of memory and 0 GPUs and can be shared by up to 32 jobs.\n",
      "sbatch: Single node jobs run on a shared node by default. Add --exclusive if you want to use a node exclusively.\n",
      "sbatch: You will be charged for 0.03125 node. A full node consists of 32 CPU cores, 240000 MiB of memory and 0 GPUs and can be shared by up to 32 jobs.\n",
      "sbatch: Single node jobs run on a shared node by default. Add --exclusive if you want to use a node exclusively.\n",
      "sbatch: You will be charged for 0.03125 node. A full node consists of 32 CPU cores, 240000 MiB of memory and 0 GPUs and can be shared by up to 32 jobs.\n",
      "sbatch: Single node jobs run on a shared node by default. Add --exclusive if you want to use a node exclusively.\n",
      "sbatch: You will be charged for 0.03125 node. A full node consists of 32 CPU cores, 240000 MiB of memory and 0 GPUs and can be shared by up to 32 jobs.\n"
     ]
    },
    {
     "name": "stdout",
     "output_type": "stream",
     "text": [
      "Submitted batch job 418539\n",
      "Submitted batch job 418540\n",
      "Submitted batch job 418541\n",
      "Submitted batch job 418542\n",
      "Submitted batch job 418543\n",
      "Submitted batch job 418544\n",
      "Submitted batch job 418545\n",
      "Submitted batch job 418546\n"
     ]
    },
    {
     "name": "stderr",
     "output_type": "stream",
     "text": [
      "sbatch: Single node jobs run on a shared node by default. Add --exclusive if you want to use a node exclusively.\n",
      "sbatch: You will be charged for 0.03125 node. A full node consists of 32 CPU cores, 240000 MiB of memory and 0 GPUs and can be shared by up to 32 jobs.\n",
      "sbatch: Single node jobs run on a shared node by default. Add --exclusive if you want to use a node exclusively.\n",
      "sbatch: You will be charged for 0.03125 node. A full node consists of 32 CPU cores, 240000 MiB of memory and 0 GPUs and can be shared by up to 32 jobs.\n",
      "sbatch: Single node jobs run on a shared node by default. Add --exclusive if you want to use a node exclusively.\n",
      "sbatch: You will be charged for 0.03125 node. A full node consists of 32 CPU cores, 240000 MiB of memory and 0 GPUs and can be shared by up to 32 jobs.\n",
      "sbatch: Single node jobs run on a shared node by default. Add --exclusive if you want to use a node exclusively.\n",
      "sbatch: You will be charged for 0.03125 node. A full node consists of 32 CPU cores, 240000 MiB of memory and 0 GPUs and can be shared by up to 32 jobs.\n"
     ]
    }
   ],
   "source": [
    "unzip = \"False\"\n",
    "flatten = False\n",
    "dir_drop = \"prince_data\"\n",
    "\n",
    "directory_targ = os.path.join(directory_scratch, \"temp\") + \"/\"\n",
    "directory = directory_targ\n",
    "run_parallel_transfer(\n",
    "    \"from_drop.py\",\n",
    "    [directory_targ, dir_drop, unzip, flatten],\n",
    "    folders,\n",
    "    5,\n",
    "    \"10:00\",\n",
    "    \"staging\",\n",
    "    cpus=1,\n",
    "    node=\"staging\",\n",
    "    name_job=\"archiving.sh\",\n",
    ")\n",
    "run_parallel_transfer_to_archive(\n",
    "    folders, directory, \"2:00:00\", \"staging\", name_job=\"archiving.sh\"\n",
    ")"
   ]
  },
  {
   "cell_type": "code",
   "execution_count": 6,
   "metadata": {
    "collapsed": true,
    "jupyter": {
     "outputs_hidden": true
    },
    "tags": []
   },
   "outputs": [
    {
     "name": "stderr",
     "output_type": "stream",
     "text": [
      "sbatch: Single node jobs run on a shared node by default. Add --exclusive if you want to use a node exclusively.\n",
      "sbatch: Single node jobs run on a shared node by default. Add --exclusive if you want to use a node exclusively.\n",
      "sbatch: Single node jobs run on a shared node by default. Add --exclusive if you want to use a node exclusively.\n",
      "sbatch: Single node jobs run on a shared node by default. Add --exclusive if you want to use a node exclusively.\n"
     ]
    },
    {
     "name": "stdout",
     "output_type": "stream",
     "text": [
      "Submitted batch job 374733\n",
      "Submitted batch job 374734\n",
      "Submitted batch job 374735\n",
      "Submitted batch job 374736\n",
      "Submitted batch job 374737\n",
      "Submitted batch job 374738\n",
      "Submitted batch job 374739\n",
      "Submitted batch job 374740\n"
     ]
    },
    {
     "name": "stderr",
     "output_type": "stream",
     "text": [
      "sbatch: Single node jobs run on a shared node by default. Add --exclusive if you want to use a node exclusively.\n",
      "sbatch: Single node jobs run on a shared node by default. Add --exclusive if you want to use a node exclusively.\n",
      "sbatch: Single node jobs run on a shared node by default. Add --exclusive if you want to use a node exclusively.\n",
      "sbatch: Single node jobs run on a shared node by default. Add --exclusive if you want to use a node exclusively.\n",
      "sbatch: Single node jobs run on a shared node by default. Add --exclusive if you want to use a node exclusively.\n",
      "sbatch: Single node jobs run on a shared node by default. Add --exclusive if you want to use a node exclusively.\n",
      "sbatch: Single node jobs run on a shared node by default. Add --exclusive if you want to use a node exclusively.\n",
      "sbatch: Single node jobs run on a shared node by default. Add --exclusive if you want to use a node exclusively.\n"
     ]
    },
    {
     "name": "stdout",
     "output_type": "stream",
     "text": [
      "Submitted batch job 374741\n",
      "Submitted batch job 374742\n",
      "Submitted batch job 374743\n",
      "Submitted batch job 374744\n"
     ]
    },
    {
     "name": "stderr",
     "output_type": "stream",
     "text": [
      "sbatch: Single node jobs run on a shared node by default. Add --exclusive if you want to use a node exclusively.\n",
      "sbatch: Single node jobs run on a shared node by default. Add --exclusive if you want to use a node exclusively.\n",
      "sbatch: Single node jobs run on a shared node by default. Add --exclusive if you want to use a node exclusively.\n",
      "sbatch: Single node jobs run on a shared node by default. Add --exclusive if you want to use a node exclusively.\n"
     ]
    },
    {
     "name": "stdout",
     "output_type": "stream",
     "text": [
      "Submitted batch job 374745\n",
      "Submitted batch job 374746\n",
      "Submitted batch job 374747\n",
      "Submitted batch job 374748\n",
      "Submitted batch job 374749\n",
      "Submitted batch job 374750\n",
      "Submitted batch job 374751\n",
      "Submitted batch job 374752\n"
     ]
    },
    {
     "name": "stderr",
     "output_type": "stream",
     "text": [
      "sbatch: Single node jobs run on a shared node by default. Add --exclusive if you want to use a node exclusively.\n",
      "sbatch: Single node jobs run on a shared node by default. Add --exclusive if you want to use a node exclusively.\n",
      "sbatch: Single node jobs run on a shared node by default. Add --exclusive if you want to use a node exclusively.\n",
      "sbatch: Single node jobs run on a shared node by default. Add --exclusive if you want to use a node exclusively.\n"
     ]
    }
   ],
   "source": [
    "run_parallel_transfer_to_archive(\n",
    "    folders, directory, \"10:00\", \"staging\", name_job=\"archiving_no_wait.sh\"\n",
    ")"
   ]
  },
  {
   "cell_type": "code",
   "execution_count": 12,
   "metadata": {},
   "outputs": [
    {
     "name": "stdout",
     "output_type": "stream",
     "text": [
      "Submitted batch job 242022\n"
     ]
    },
    {
     "name": "stderr",
     "output_type": "stream",
     "text": [
      "sbatch: Single node jobs run on a shared node by default. Add --exclusive if you want to use a node exclusively.\n"
     ]
    }
   ],
   "source": [
    "must_zip = True\n",
    "must_unzip = False\n",
    "run_parallel_transfer(\n",
    "    \"within_surf.py\",\n",
    "    [directory, directory_targ, must_zip, must_unzip],\n",
    "    folders,\n",
    "    5,\n",
    "    \"10:00\",\n",
    "    \"staging\",\n",
    "    cpus=1,\n",
    "    node=\"staging\",\n",
    ")"
   ]
  },
  {
   "cell_type": "code",
   "execution_count": 51,
   "metadata": {},
   "outputs": [],
   "source": [
    "def get_dropbox_folders_new(dir_drop: str) -> pd.DataFrame:\n",
    "    data = []\n",
    "    dbx = load_dbx()\n",
    "    response = dbx.files_list_folder(dir_drop, recursive=True)\n",
    "    # for fil in response.entries:\n",
    "    listfiles = []\n",
    "    listjson = []\n",
    "    while response.has_more:\n",
    "        listfiles += [\n",
    "            file for file in response.entries if file.name.split(\"/\")[-1] == \"param.m\"\n",
    "        ]\n",
    "        response = dbx.files_list_folder_continue(response.cursor)\n",
    "    listfiles += [\n",
    "        file for file in response.entries if file.name.split(\"/\")[-1] == \"param.m\"\n",
    "    ]\n",
    "    # print([((file.path_lower.split(\".\")[0]) + \"_info.json\") for file in listfiles if (file.name.split(\".\")[-1] == \"zip\") &\n",
    "    #        (((file.path_lower.split(\".\")[0]) + \"_info.json\") not in listjson)])\n",
    "    listfiles.reverse()\n",
    "    names = [file.path_lower.split(\"/\")[-2] for file in listfiles]\n",
    "    path_drop = [os.path.join(*file.path_lower.split(\"/\")[:-1]) for file in listfiles]\n",
    "    id_uniques = [path.split(\"/\")[-2] for path in path_drop]\n",
    "    plate_num = [idi.split(\"_\")[0] for idi in id_uniques]\n",
    "    date_cross = [idi.split(\"_\")[1] for idi in id_uniques]\n",
    "    sizes = [file.size / 10**9 for file in listfiles]\n",
    "    modified = [file.client_modified for file in listfiles]\n",
    "    df = pd.DataFrame(\n",
    "        (names, sizes, modified, path_drop, plate_num, date_cross, id_uniques)\n",
    "    ).transpose()\n",
    "    df = df.rename(\n",
    "        columns={\n",
    "            0: \"folder\",\n",
    "            1: \"size\",\n",
    "            2: \"change_date\",\n",
    "            3: \"tot_path_drop\",\n",
    "            4: \"Plate\",\n",
    "            5: \"CrossDate\",\n",
    "            6: \"unique_id\",\n",
    "        }\n",
    "    )\n",
    "    return df"
   ]
  },
  {
   "cell_type": "code",
   "execution_count": 52,
   "metadata": {},
   "outputs": [
    {
     "name": "stdout",
     "output_type": "stream",
     "text": [
      "2022-05-18 12:32:45,427-[INFO]- dropbox:388 -> Refreshing access token.\n",
      "2022-05-18 12:32:45,577-[INFO]- dropbox:477 -> Request to files/list_folder\n",
      "2022-05-18 12:32:46,459-[INFO]- dropbox:477 -> Request to files/list_folder/continue\n",
      "2022-05-18 12:32:47,417-[INFO]- dropbox:477 -> Request to files/list_folder/continue\n"
     ]
    }
   ],
   "source": [
    "all_folders_drop_new = get_dropbox_folders_new(\"/DATA/PRINCE\")"
   ]
  },
  {
   "cell_type": "code",
   "execution_count": 53,
   "metadata": {},
   "outputs": [
    {
     "data": {
      "text/html": [
       "<div>\n",
       "<style scoped>\n",
       "    .dataframe tbody tr th:only-of-type {\n",
       "        vertical-align: middle;\n",
       "    }\n",
       "\n",
       "    .dataframe tbody tr th {\n",
       "        vertical-align: top;\n",
       "    }\n",
       "\n",
       "    .dataframe thead th {\n",
       "        text-align: right;\n",
       "    }\n",
       "</style>\n",
       "<table border=\"1\" class=\"dataframe\">\n",
       "  <thead>\n",
       "    <tr style=\"text-align: right;\">\n",
       "      <th></th>\n",
       "      <th>folder</th>\n",
       "      <th>size</th>\n",
       "      <th>change_date</th>\n",
       "      <th>tot_path_drop</th>\n",
       "      <th>Plate</th>\n",
       "      <th>CrossDate</th>\n",
       "      <th>unique_id</th>\n",
       "    </tr>\n",
       "  </thead>\n",
       "  <tbody>\n",
       "    <tr>\n",
       "      <th>0</th>\n",
       "      <td>20201204_2123_plate39</td>\n",
       "      <td>4.1e-07</td>\n",
       "      <td>2022-05-17 09:03:06</td>\n",
       "      <td>data/prince/94_20201123/20201204_2123_plate39</td>\n",
       "      <td>94</td>\n",
       "      <td>20201123</td>\n",
       "      <td>94_20201123</td>\n",
       "    </tr>\n",
       "    <tr>\n",
       "      <th>1</th>\n",
       "      <td>20201204_1723_plate39</td>\n",
       "      <td>4.1e-07</td>\n",
       "      <td>2022-05-17 09:03:04</td>\n",
       "      <td>data/prince/94_20201123/20201204_1723_plate39</td>\n",
       "      <td>94</td>\n",
       "      <td>20201123</td>\n",
       "      <td>94_20201123</td>\n",
       "    </tr>\n",
       "    <tr>\n",
       "      <th>2</th>\n",
       "      <td>20201205_0123_plate39</td>\n",
       "      <td>4.1e-07</td>\n",
       "      <td>2022-05-17 09:03:03</td>\n",
       "      <td>data/prince/94_20201123/20201205_0123_plate39</td>\n",
       "      <td>94</td>\n",
       "      <td>20201123</td>\n",
       "      <td>94_20201123</td>\n",
       "    </tr>\n",
       "    <tr>\n",
       "      <th>3</th>\n",
       "      <td>20201204_1323_plate39</td>\n",
       "      <td>4.1e-07</td>\n",
       "      <td>2022-05-17 09:03:02</td>\n",
       "      <td>data/prince/94_20201123/20201204_1323_plate39</td>\n",
       "      <td>94</td>\n",
       "      <td>20201123</td>\n",
       "      <td>94_20201123</td>\n",
       "    </tr>\n",
       "    <tr>\n",
       "      <th>4</th>\n",
       "      <td>20201205_0523_plate39</td>\n",
       "      <td>4.1e-07</td>\n",
       "      <td>2022-05-17 09:03:02</td>\n",
       "      <td>data/prince/94_20201123/20201205_0523_plate39</td>\n",
       "      <td>94</td>\n",
       "      <td>20201123</td>\n",
       "      <td>94_20201123</td>\n",
       "    </tr>\n",
       "    <tr>\n",
       "      <th>...</th>\n",
       "      <td>...</td>\n",
       "      <td>...</td>\n",
       "      <td>...</td>\n",
       "      <td>...</td>\n",
       "      <td>...</td>\n",
       "      <td>...</td>\n",
       "      <td>...</td>\n",
       "    </tr>\n",
       "    <tr>\n",
       "      <th>164</th>\n",
       "      <td>20201123_2200_plate39</td>\n",
       "      <td>4.1e-07</td>\n",
       "      <td>2022-05-16 15:49:31</td>\n",
       "      <td>data/prince/94_20201123/20201123_2200_plate39</td>\n",
       "      <td>94</td>\n",
       "      <td>20201123</td>\n",
       "      <td>94_20201123</td>\n",
       "    </tr>\n",
       "    <tr>\n",
       "      <th>165</th>\n",
       "      <td>20201123_1601_plate39</td>\n",
       "      <td>4.1e-07</td>\n",
       "      <td>2022-05-16 15:49:29</td>\n",
       "      <td>data/prince/94_20201123/20201123_1601_plate39</td>\n",
       "      <td>94</td>\n",
       "      <td>20201123</td>\n",
       "      <td>94_20201123</td>\n",
       "    </tr>\n",
       "    <tr>\n",
       "      <th>166</th>\n",
       "      <td>20201123_1701_plate39</td>\n",
       "      <td>4.1e-07</td>\n",
       "      <td>2022-05-16 15:49:28</td>\n",
       "      <td>data/prince/94_20201123/20201123_1701_plate39</td>\n",
       "      <td>94</td>\n",
       "      <td>20201123</td>\n",
       "      <td>94_20201123</td>\n",
       "    </tr>\n",
       "    <tr>\n",
       "      <th>167</th>\n",
       "      <td>20201123_1400_plate39</td>\n",
       "      <td>4.1e-07</td>\n",
       "      <td>2022-05-16 15:49:27</td>\n",
       "      <td>data/prince/94_20201123/20201123_1400_plate39</td>\n",
       "      <td>94</td>\n",
       "      <td>20201123</td>\n",
       "      <td>94_20201123</td>\n",
       "    </tr>\n",
       "    <tr>\n",
       "      <th>168</th>\n",
       "      <td>20201123_1501_plate39</td>\n",
       "      <td>4.1e-07</td>\n",
       "      <td>2022-05-16 15:49:27</td>\n",
       "      <td>data/prince/94_20201123/20201123_1501_plate39</td>\n",
       "      <td>94</td>\n",
       "      <td>20201123</td>\n",
       "      <td>94_20201123</td>\n",
       "    </tr>\n",
       "  </tbody>\n",
       "</table>\n",
       "<p>169 rows × 7 columns</p>\n",
       "</div>"
      ],
      "text/plain": [
       "                    folder     size         change_date  \\\n",
       "0    20201204_2123_plate39  4.1e-07 2022-05-17 09:03:06   \n",
       "1    20201204_1723_plate39  4.1e-07 2022-05-17 09:03:04   \n",
       "2    20201205_0123_plate39  4.1e-07 2022-05-17 09:03:03   \n",
       "3    20201204_1323_plate39  4.1e-07 2022-05-17 09:03:02   \n",
       "4    20201205_0523_plate39  4.1e-07 2022-05-17 09:03:02   \n",
       "..                     ...      ...                 ...   \n",
       "164  20201123_2200_plate39  4.1e-07 2022-05-16 15:49:31   \n",
       "165  20201123_1601_plate39  4.1e-07 2022-05-16 15:49:29   \n",
       "166  20201123_1701_plate39  4.1e-07 2022-05-16 15:49:28   \n",
       "167  20201123_1400_plate39  4.1e-07 2022-05-16 15:49:27   \n",
       "168  20201123_1501_plate39  4.1e-07 2022-05-16 15:49:27   \n",
       "\n",
       "                                     tot_path_drop Plate CrossDate  \\\n",
       "0    data/prince/94_20201123/20201204_2123_plate39    94  20201123   \n",
       "1    data/prince/94_20201123/20201204_1723_plate39    94  20201123   \n",
       "2    data/prince/94_20201123/20201205_0123_plate39    94  20201123   \n",
       "3    data/prince/94_20201123/20201204_1323_plate39    94  20201123   \n",
       "4    data/prince/94_20201123/20201205_0523_plate39    94  20201123   \n",
       "..                                             ...   ...       ...   \n",
       "164  data/prince/94_20201123/20201123_2200_plate39    94  20201123   \n",
       "165  data/prince/94_20201123/20201123_1601_plate39    94  20201123   \n",
       "166  data/prince/94_20201123/20201123_1701_plate39    94  20201123   \n",
       "167  data/prince/94_20201123/20201123_1400_plate39    94  20201123   \n",
       "168  data/prince/94_20201123/20201123_1501_plate39    94  20201123   \n",
       "\n",
       "       unique_id  \n",
       "0    94_20201123  \n",
       "1    94_20201123  \n",
       "2    94_20201123  \n",
       "3    94_20201123  \n",
       "4    94_20201123  \n",
       "..           ...  \n",
       "164  94_20201123  \n",
       "165  94_20201123  \n",
       "166  94_20201123  \n",
       "167  94_20201123  \n",
       "168  94_20201123  \n",
       "\n",
       "[169 rows x 7 columns]"
      ]
     },
     "execution_count": 53,
     "metadata": {},
     "output_type": "execute_result"
    }
   ],
   "source": [
    "all_folders_drop_new"
   ]
  },
  {
   "cell_type": "code",
   "execution_count": 60,
   "metadata": {},
   "outputs": [],
   "source": [
    "directory_targ2 = os.path.join(directory_scratch, \"temptemp\") + \"/\""
   ]
  },
  {
   "cell_type": "code",
   "execution_count": 106,
   "metadata": {},
   "outputs": [
    {
     "name": "stdout",
     "output_type": "stream",
     "text": [
      "2022-05-18 14:42:40,500-[INFO]- dropbox:388 -> Refreshing access token.\n",
      "2022-05-18 14:42:40,675-[INFO]- dropbox:477 -> Request to files/list_folder\n"
     ]
    }
   ],
   "source": [
    "dbx = load_dbx()\n",
    "\n",
    "path = \"/\" + all_folders_drop_new.iloc[0][\"tot_path_drop\"]\n",
    "response = dbx.files_list_folder(path, recursive=False)\n",
    "listfiles = []\n",
    "listjson = []\n",
    "while response.has_more:\n",
    "    listfiles += [file for file in response.entries]\n",
    "    response = dbx.files_list_folder_continue(response.cursor)\n",
    "listfiles += [file for file in response.entries]"
   ]
  },
  {
   "cell_type": "code",
   "execution_count": 107,
   "metadata": {
    "collapsed": true,
    "jupyter": {
     "outputs_hidden": true
    },
    "tags": []
   },
   "outputs": [
    {
     "data": {
      "text/plain": [
       "[FileMetadata(client_modified=datetime.datetime(2022, 5, 17, 9, 3, 6), content_hash='c51bd427fc91a8869dd28bd0453ceac525009c1b9c7ee3bfae79278b539ec129', export_info=NOT_SET, file_lock_info=NOT_SET, has_explicit_shared_members=NOT_SET, id='id:tRFPXS1OOAQAAAAAAAC7wg', is_downloadable=True, media_info=NOT_SET, name='param.m', parent_shared_folder_id='10269534512', path_display='/DATA/PRINCE/94_20201123/20201204_2123_Plate39/param.m', path_lower='/data/prince/94_20201123/20201204_2123_plate39/param.m', property_groups=NOT_SET, rev='015df3168bbf6cc00000002641ca930', server_modified=datetime.datetime(2022, 5, 17, 9, 3, 7), sharing_info=FileSharingInfo(modified_by='dbid:AABIDXJq597-uS2e5SgTFZ0vARb3NPh-G8s', parent_shared_folder_id='10269534512', read_only=False), size=410, symlink_info=NOT_SET),\n",
       " FileMetadata(client_modified=datetime.datetime(2022, 5, 17, 9, 9, 25), content_hash='28e3d41e0b306f8d053bb4ee8d5964d4aa13c64b1fd67df360f691617289cffd', export_info=NOT_SET, file_lock_info=NOT_SET, has_explicit_shared_members=NOT_SET, id='id:tRFPXS1OOAQAAAAAAAC8HA', is_downloadable=True, media_info=NOT_SET, name='StitchedImage.tif', parent_shared_folder_id='10269534512', path_display='/DATA/PRINCE/94_20201123/20201204_2123_Plate39/StitchedImage.tif', path_lower='/data/prince/94_20201123/20201204_2123_plate39/stitchedimage.tif', property_groups=NOT_SET, rev='015df317f49ccf900000002641ca930', server_modified=datetime.datetime(2022, 5, 17, 9, 9, 25), sharing_info=FileSharingInfo(modified_by='dbid:AABIDXJq597-uS2e5SgTFZ0vARb3NPh-G8s', parent_shared_folder_id='10269534512', read_only=False), size=3458548, symlink_info=NOT_SET),\n",
       " FileMetadata(client_modified=datetime.datetime(2022, 5, 17, 9, 9, 27), content_hash='27cbadabb4979bc88ba3d187ff3830e88f4e0c2d3435f764a9a4d043bea1d824', export_info=NOT_SET, file_lock_info=NOT_SET, has_explicit_shared_members=NOT_SET, id='id:tRFPXS1OOAQAAAAAAAC8HQ', is_downloadable=True, media_info=NOT_SET, name='PrinceMeasurement.csv', parent_shared_folder_id='10269534512', path_display='/DATA/PRINCE/94_20201123/20201204_2123_Plate39/PrinceMeasurement.csv', path_lower='/data/prince/94_20201123/20201204_2123_plate39/princemeasurement.csv', property_groups=NOT_SET, rev='015df317f6b917b00000002641ca930', server_modified=datetime.datetime(2022, 5, 17, 9, 9, 27), sharing_info=FileSharingInfo(modified_by='dbid:AABIDXJq597-uS2e5SgTFZ0vARb3NPh-G8s', parent_shared_folder_id='10269534512', read_only=False), size=6241, symlink_info=NOT_SET),\n",
       " FileMetadata(client_modified=datetime.datetime(2022, 5, 17, 17, 36, 34), content_hash='cab6bac136e56a105ae8ec78310b4d6a5389e29ef5da3412668d2dee31694fd6', export_info=NOT_SET, file_lock_info=NOT_SET, has_explicit_shared_members=NOT_SET, id='id:tRFPXS1OOAQAAAAAAAC70g', is_downloadable=True, media_info=NOT_SET, name='Analysis.zip', parent_shared_folder_id='10269534512', path_display='/DATA/PRINCE/94_20201123/20201204_2123_Plate39/Analysis.zip', path_lower='/data/prince/94_20201123/20201204_2123_plate39/analysis.zip', property_groups=NOT_SET, rev='015df3894febf3a00000002641ca930', server_modified=datetime.datetime(2022, 5, 17, 17, 36, 34), sharing_info=FileSharingInfo(modified_by='dbid:AABIDXJq597-uS2e5SgTFZ0vARb3NPh-G8s', parent_shared_folder_id='10269534512', read_only=False), size=134959101, symlink_info=NOT_SET),\n",
       " FileMetadata(client_modified=datetime.datetime(2022, 5, 17, 17, 38, 45), content_hash='eda10c577ea2c4813aab2713864b7c272d4aab4e8034859863ba864b133402aa', export_info=NOT_SET, file_lock_info=NOT_SET, has_explicit_shared_members=NOT_SET, id='id:tRFPXS1OOAQAAAAAAAC8Fg', is_downloadable=True, media_info=NOT_SET, name='Img.zip', parent_shared_folder_id='10269534512', path_display='/DATA/PRINCE/94_20201123/20201204_2123_Plate39/Img.zip', path_lower='/data/prince/94_20201123/20201204_2123_plate39/img.zip', property_groups=NOT_SET, rev='015df389cd4deda00000002641ca930', server_modified=datetime.datetime(2022, 5, 17, 17, 38, 45), sharing_info=FileSharingInfo(modified_by='dbid:AABIDXJq597-uS2e5SgTFZ0vARb3NPh-G8s', parent_shared_folder_id='10269534512', read_only=False), size=770100964, symlink_info=NOT_SET)]"
      ]
     },
     "execution_count": 107,
     "metadata": {},
     "output_type": "execute_result"
    }
   ],
   "source": [
    "listfiles"
   ]
  },
  {
   "cell_type": "code",
   "execution_count": 109,
   "metadata": {},
   "outputs": [
    {
     "data": {
      "text/plain": [
       "['/data/prince/94_20201123/20201204_2123_plate39/param.m',\n",
       " '/data/prince/94_20201123/20201204_2123_plate39/stitchedimage.tif',\n",
       " '/data/prince/94_20201123/20201204_2123_plate39/princemeasurement.csv',\n",
       " '/data/prince/94_20201123/20201204_2123_plate39/analysis.zip',\n",
       " '/data/prince/94_20201123/20201204_2123_plate39/img.zip']"
      ]
     },
     "execution_count": 109,
     "metadata": {},
     "output_type": "execute_result"
    }
   ],
   "source": [
    "[file.path_lower for file in listfiles]"
   ]
  },
  {
   "cell_type": "code",
   "execution_count": 113,
   "metadata": {},
   "outputs": [],
   "source": [
    "def download_folders_drop(folders_drop: pd.DataFrame, directory_target):\n",
    "    dbx = load_dbx()\n",
    "    for index, row in folders_drop.iterrows():\n",
    "        path = \"/\" + row[\"tot_path_drop\"]\n",
    "        response = dbx.files_list_folder(path, recursive=False)\n",
    "        listfiles = []\n",
    "        while response.has_more:\n",
    "            listfiles += [file for file in response.entries]\n",
    "            response = dbx.files_list_folder_continue(response.cursor)\n",
    "        listfiles += [file for file in response.entries]\n",
    "        folder = row[\"folder\"]\n",
    "        path_folder = os.path.join(directory_target, folder)\n",
    "        if not os.path.exists(path_folder):\n",
    "            os.mkdir(path_folder)\n",
    "        for file in listfiles:\n",
    "            path_drop = file.path_lower\n",
    "            path_local = os.path.join(\n",
    "                directory_target, folder, path_drop.split(\"/\")[-1]\n",
    "            )\n",
    "            print(path_drop, path_local)\n",
    "\n",
    "            download(path_drop, path_local, unzip=(path_drop[-4:] == \".zip\"))"
   ]
  },
  {
   "cell_type": "code",
   "execution_count": 114,
   "metadata": {
    "collapsed": true,
    "jupyter": {
     "outputs_hidden": true
    },
    "tags": []
   },
   "outputs": [
    {
     "name": "stdout",
     "output_type": "stream",
     "text": [
      "2022-05-18 14:46:27,627-[INFO]- dropbox:388 -> Refreshing access token.\n",
      "2022-05-18 14:46:27,775-[INFO]- dropbox:477 -> Request to files/list_folder\n",
      "/data/prince/94_20201123/20201204_2123_plate39/param.m /scratch-shared/amftrack/temptemp/20201204_2123_plate39/param.m\n",
      "2022-05-18 14:46:28,158-[INFO]- dropbox:388 -> Refreshing access token.\n",
      "2022-05-18 14:46:28,358-[INFO]- dropbox:477 -> Request to files/download\n",
      "/data/prince/94_20201123/20201204_2123_plate39/stitchedimage.tif /scratch-shared/amftrack/temptemp/20201204_2123_plate39/stitchedimage.tif\n",
      "2022-05-18 14:46:29,835-[INFO]- dropbox:388 -> Refreshing access token.\n",
      "2022-05-18 14:46:29,987-[INFO]- dropbox:477 -> Request to files/download\n",
      "/data/prince/94_20201123/20201204_2123_plate39/princemeasurement.csv /scratch-shared/amftrack/temptemp/20201204_2123_plate39/princemeasurement.csv\n",
      "2022-05-18 14:46:30,741-[INFO]- dropbox:388 -> Refreshing access token.\n",
      "2022-05-18 14:46:30,899-[INFO]- dropbox:477 -> Request to files/download\n",
      "/data/prince/94_20201123/20201204_2123_plate39/analysis.zip /scratch-shared/amftrack/temptemp/20201204_2123_plate39/analysis.zip\n",
      "2022-05-18 14:46:31,652-[INFO]- dropbox:388 -> Refreshing access token.\n",
      "2022-05-18 14:46:31,810-[INFO]- dropbox:477 -> Request to files/download\n",
      "/data/prince/94_20201123/20201204_2123_plate39/img.zip /scratch-shared/amftrack/temptemp/20201204_2123_plate39/img.zip\n",
      "2022-05-18 14:46:44,217-[INFO]- dropbox:388 -> Refreshing access token.\n",
      "2022-05-18 14:46:44,413-[INFO]- dropbox:477 -> Request to files/download\n",
      "2022-05-18 14:47:28,934-[INFO]- dropbox:477 -> Request to files/list_folder\n",
      "/data/prince/94_20201123/20201204_1723_plate39/param.m /scratch-shared/amftrack/temptemp/20201204_1723_plate39/param.m\n",
      "2022-05-18 14:47:29,412-[INFO]- dropbox:388 -> Refreshing access token.\n",
      "2022-05-18 14:47:29,573-[INFO]- dropbox:477 -> Request to files/download\n",
      "/data/prince/94_20201123/20201204_1723_plate39/stitchedimage.tif /scratch-shared/amftrack/temptemp/20201204_1723_plate39/stitchedimage.tif\n",
      "2022-05-18 14:47:30,007-[INFO]- dropbox:388 -> Refreshing access token.\n",
      "2022-05-18 14:47:30,150-[INFO]- dropbox:477 -> Request to files/download\n",
      "/data/prince/94_20201123/20201204_1723_plate39/princemeasurement.csv /scratch-shared/amftrack/temptemp/20201204_1723_plate39/princemeasurement.csv\n",
      "2022-05-18 14:47:31,704-[INFO]- dropbox:388 -> Refreshing access token.\n",
      "2022-05-18 14:47:31,853-[INFO]- dropbox:477 -> Request to files/download\n",
      "/data/prince/94_20201123/20201204_1723_plate39/analysis.zip /scratch-shared/amftrack/temptemp/20201204_1723_plate39/analysis.zip\n",
      "2022-05-18 14:47:32,296-[INFO]- dropbox:388 -> Refreshing access token.\n",
      "2022-05-18 14:47:32,454-[INFO]- dropbox:477 -> Request to files/download\n",
      "/data/prince/94_20201123/20201204_1723_plate39/img.zip /scratch-shared/amftrack/temptemp/20201204_1723_plate39/img.zip\n",
      "2022-05-18 14:47:42,767-[INFO]- dropbox:388 -> Refreshing access token.\n",
      "2022-05-18 14:47:42,913-[INFO]- dropbox:477 -> Request to files/download\n",
      "2022-05-18 14:48:24,761-[INFO]- dropbox:477 -> Request to files/list_folder\n",
      "/data/prince/94_20201123/20201205_0123_plate39/param.m /scratch-shared/amftrack/temptemp/20201205_0123_plate39/param.m\n",
      "2022-05-18 14:48:25,096-[INFO]- dropbox:388 -> Refreshing access token.\n",
      "2022-05-18 14:48:25,248-[INFO]- dropbox:477 -> Request to files/download\n",
      "/data/prince/94_20201123/20201205_0123_plate39/stitchedimage.tif /scratch-shared/amftrack/temptemp/20201205_0123_plate39/stitchedimage.tif\n",
      "2022-05-18 14:48:25,978-[INFO]- dropbox:388 -> Refreshing access token.\n",
      "2022-05-18 14:48:26,199-[INFO]- dropbox:477 -> Request to files/download\n",
      "/data/prince/94_20201123/20201205_0123_plate39/princemeasurement.csv /scratch-shared/amftrack/temptemp/20201205_0123_plate39/princemeasurement.csv\n",
      "2022-05-18 14:48:27,294-[INFO]- dropbox:388 -> Refreshing access token.\n",
      "2022-05-18 14:48:27,435-[INFO]- dropbox:477 -> Request to files/download\n",
      "/data/prince/94_20201123/20201205_0123_plate39/analysis.zip /scratch-shared/amftrack/temptemp/20201205_0123_plate39/analysis.zip\n",
      "2022-05-18 14:48:28,102-[INFO]- dropbox:388 -> Refreshing access token.\n",
      "2022-05-18 14:48:28,271-[INFO]- dropbox:477 -> Request to files/download\n",
      "/data/prince/94_20201123/20201205_0123_plate39/img.zip /scratch-shared/amftrack/temptemp/20201205_0123_plate39/img.zip\n",
      "2022-05-18 14:48:39,258-[INFO]- dropbox:388 -> Refreshing access token.\n",
      "2022-05-18 14:48:39,402-[INFO]- dropbox:477 -> Request to files/download\n",
      "2022-05-18 14:49:38,558-[INFO]- dropbox:477 -> Request to files/list_folder\n",
      "/data/prince/94_20201123/20201204_1323_plate39/param.m /scratch-shared/amftrack/temptemp/20201204_1323_plate39/param.m\n",
      "2022-05-18 14:49:38,876-[INFO]- dropbox:388 -> Refreshing access token.\n",
      "2022-05-18 14:49:39,015-[INFO]- dropbox:477 -> Request to files/download\n",
      "/data/prince/94_20201123/20201204_1323_plate39/stitchedimage.tif /scratch-shared/amftrack/temptemp/20201204_1323_plate39/stitchedimage.tif\n",
      "2022-05-18 14:49:39,719-[INFO]- dropbox:388 -> Refreshing access token.\n",
      "2022-05-18 14:49:39,882-[INFO]- dropbox:477 -> Request to files/download\n",
      "/data/prince/94_20201123/20201204_1323_plate39/princemeasurement.csv /scratch-shared/amftrack/temptemp/20201204_1323_plate39/princemeasurement.csv\n",
      "2022-05-18 14:49:40,532-[INFO]- dropbox:388 -> Refreshing access token.\n",
      "2022-05-18 14:49:40,685-[INFO]- dropbox:477 -> Request to files/download\n",
      "/data/prince/94_20201123/20201204_1323_plate39/analysis.zip /scratch-shared/amftrack/temptemp/20201204_1323_plate39/analysis.zip\n",
      "2022-05-18 14:49:41,340-[INFO]- dropbox:388 -> Refreshing access token.\n",
      "2022-05-18 14:49:41,490-[INFO]- dropbox:477 -> Request to files/download\n",
      "/data/prince/94_20201123/20201204_1323_plate39/img.zip /scratch-shared/amftrack/temptemp/20201204_1323_plate39/img.zip\n",
      "2022-05-18 14:49:52,239-[INFO]- dropbox:388 -> Refreshing access token.\n",
      "2022-05-18 14:49:52,422-[INFO]- dropbox:477 -> Request to files/download\n",
      "2022-05-18 14:50:45,364-[INFO]- dropbox:477 -> Request to files/list_folder\n",
      "/data/prince/94_20201123/20201205_0523_plate39/param.m /scratch-shared/amftrack/temptemp/20201205_0523_plate39/param.m\n",
      "2022-05-18 14:50:45,749-[INFO]- dropbox:388 -> Refreshing access token.\n",
      "2022-05-18 14:50:45,942-[INFO]- dropbox:477 -> Request to files/download\n",
      "/data/prince/94_20201123/20201205_0523_plate39/stitchedimage.tif /scratch-shared/amftrack/temptemp/20201205_0523_plate39/stitchedimage.tif\n",
      "2022-05-18 14:50:47,101-[INFO]- dropbox:388 -> Refreshing access token.\n",
      "2022-05-18 14:50:47,250-[INFO]- dropbox:477 -> Request to files/download\n",
      "/data/prince/94_20201123/20201205_0523_plate39/princemeasurement.csv /scratch-shared/amftrack/temptemp/20201205_0523_plate39/princemeasurement.csv\n",
      "2022-05-18 14:50:48,829-[INFO]- dropbox:388 -> Refreshing access token.\n",
      "2022-05-18 14:50:49,026-[INFO]- dropbox:477 -> Request to files/download\n",
      "/data/prince/94_20201123/20201205_0523_plate39/analysis.zip /scratch-shared/amftrack/temptemp/20201205_0523_plate39/analysis.zip\n",
      "2022-05-18 14:50:50,369-[INFO]- dropbox:388 -> Refreshing access token.\n",
      "2022-05-18 14:50:50,535-[INFO]- dropbox:477 -> Request to files/download\n",
      "/data/prince/94_20201123/20201205_0523_plate39/img.zip /scratch-shared/amftrack/temptemp/20201205_0523_plate39/img.zip\n",
      "2022-05-18 14:51:04,046-[INFO]- dropbox:388 -> Refreshing access token.\n",
      "2022-05-18 14:51:04,187-[INFO]- dropbox:477 -> Request to files/download\n",
      "2022-05-18 14:51:49,023-[INFO]- dropbox:477 -> Request to files/list_folder\n",
      "/data/prince/94_20201123/20201202_2206_plate39/param.m /scratch-shared/amftrack/temptemp/20201202_2206_plate39/param.m\n",
      "2022-05-18 14:51:49,566-[INFO]- dropbox:388 -> Refreshing access token.\n",
      "2022-05-18 14:51:49,718-[INFO]- dropbox:477 -> Request to files/download\n",
      "/data/prince/94_20201123/20201202_2206_plate39/stitchedimage.tif /scratch-shared/amftrack/temptemp/20201202_2206_plate39/stitchedimage.tif\n",
      "2022-05-18 14:51:50,374-[INFO]- dropbox:388 -> Refreshing access token.\n",
      "2022-05-18 14:51:50,522-[INFO]- dropbox:477 -> Request to files/download\n",
      "/data/prince/94_20201123/20201202_2206_plate39/princemeasurement.csv /scratch-shared/amftrack/temptemp/20201202_2206_plate39/princemeasurement.csv\n",
      "2022-05-18 14:51:51,357-[INFO]- dropbox:388 -> Refreshing access token.\n",
      "2022-05-18 14:51:51,507-[INFO]- dropbox:477 -> Request to files/download\n",
      "/data/prince/94_20201123/20201202_2206_plate39/analysis.zip /scratch-shared/amftrack/temptemp/20201202_2206_plate39/analysis.zip\n",
      "2022-05-18 14:51:51,950-[INFO]- dropbox:388 -> Refreshing access token.\n",
      "2022-05-18 14:51:52,100-[INFO]- dropbox:477 -> Request to files/download\n",
      "/data/prince/94_20201123/20201202_2206_plate39/img.zip /scratch-shared/amftrack/temptemp/20201202_2206_plate39/img.zip\n",
      "2022-05-18 14:52:00,573-[INFO]- dropbox:388 -> Refreshing access token.\n",
      "2022-05-18 14:52:00,719-[INFO]- dropbox:477 -> Request to files/download\n",
      "2022-05-18 14:52:43,471-[INFO]- dropbox:477 -> Request to files/list_folder\n",
      "/data/prince/94_20201123/20201203_1005_plate39/param.m /scratch-shared/amftrack/temptemp/20201203_1005_plate39/param.m\n",
      "2022-05-18 14:52:44,024-[INFO]- dropbox:388 -> Refreshing access token.\n",
      "2022-05-18 14:52:44,186-[INFO]- dropbox:477 -> Request to files/download\n",
      "/data/prince/94_20201123/20201203_1005_plate39/stitchedimage.tif /scratch-shared/amftrack/temptemp/20201203_1005_plate39/stitchedimage.tif\n",
      "2022-05-18 14:52:44,950-[INFO]- dropbox:388 -> Refreshing access token.\n",
      "2022-05-18 14:52:45,090-[INFO]- dropbox:477 -> Request to files/download\n",
      "/data/prince/94_20201123/20201203_1005_plate39/princemeasurement.csv /scratch-shared/amftrack/temptemp/20201203_1005_plate39/princemeasurement.csv\n",
      "2022-05-18 14:52:45,839-[INFO]- dropbox:388 -> Refreshing access token.\n",
      "2022-05-18 14:52:45,985-[INFO]- dropbox:477 -> Request to files/download\n",
      "/data/prince/94_20201123/20201203_1005_plate39/analysis.zip /scratch-shared/amftrack/temptemp/20201203_1005_plate39/analysis.zip\n",
      "2022-05-18 14:52:46,630-[INFO]- dropbox:388 -> Refreshing access token.\n",
      "2022-05-18 14:52:46,780-[INFO]- dropbox:477 -> Request to files/download\n",
      "/data/prince/94_20201123/20201203_1005_plate39/img.zip /scratch-shared/amftrack/temptemp/20201203_1005_plate39/img.zip\n",
      "2022-05-18 14:52:56,053-[INFO]- dropbox:388 -> Refreshing access token.\n",
      "2022-05-18 14:52:56,201-[INFO]- dropbox:477 -> Request to files/download\n",
      "2022-05-18 14:53:36,811-[INFO]- dropbox:477 -> Request to files/list_folder\n",
      "/data/prince/94_20201123/20201203_0606_plate39/param.m /scratch-shared/amftrack/temptemp/20201203_0606_plate39/param.m\n",
      "2022-05-18 14:53:37,113-[INFO]- dropbox:388 -> Refreshing access token.\n",
      "2022-05-18 14:53:37,254-[INFO]- dropbox:477 -> Request to files/download\n",
      "/data/prince/94_20201123/20201203_0606_plate39/stitchedimage.tif /scratch-shared/amftrack/temptemp/20201203_0606_plate39/stitchedimage.tif\n",
      "2022-05-18 14:53:37,843-[INFO]- dropbox:388 -> Refreshing access token.\n",
      "2022-05-18 14:53:37,990-[INFO]- dropbox:477 -> Request to files/download\n",
      "/data/prince/94_20201123/20201203_0606_plate39/princemeasurement.csv /scratch-shared/amftrack/temptemp/20201203_0606_plate39/princemeasurement.csv\n",
      "2022-05-18 14:53:39,336-[INFO]- dropbox:388 -> Refreshing access token.\n",
      "2022-05-18 14:53:39,482-[INFO]- dropbox:477 -> Request to files/download\n",
      "/data/prince/94_20201123/20201203_0606_plate39/analysis.zip /scratch-shared/amftrack/temptemp/20201203_0606_plate39/analysis.zip\n",
      "2022-05-18 14:53:40,380-[INFO]- dropbox:388 -> Refreshing access token.\n",
      "2022-05-18 14:53:40,564-[INFO]- dropbox:477 -> Request to files/download\n",
      "/data/prince/94_20201123/20201203_0606_plate39/img.zip /scratch-shared/amftrack/temptemp/20201203_0606_plate39/img.zip\n",
      "2022-05-18 14:53:50,535-[INFO]- dropbox:388 -> Refreshing access token.\n",
      "2022-05-18 14:53:50,676-[INFO]- dropbox:477 -> Request to files/download\n",
      "2022-05-18 14:54:31,322-[INFO]- dropbox:477 -> Request to files/list_folder\n",
      "/data/prince/94_20201123/20201202_1805_plate39/param.m /scratch-shared/amftrack/temptemp/20201202_1805_plate39/param.m\n",
      "2022-05-18 14:54:31,684-[INFO]- dropbox:388 -> Refreshing access token.\n",
      "2022-05-18 14:54:31,863-[INFO]- dropbox:477 -> Request to files/download\n",
      "/data/prince/94_20201123/20201202_1805_plate39/stitchedimage.tif /scratch-shared/amftrack/temptemp/20201202_1805_plate39/stitchedimage.tif\n",
      "2022-05-18 14:54:32,515-[INFO]- dropbox:388 -> Refreshing access token.\n",
      "2022-05-18 14:54:32,691-[INFO]- dropbox:477 -> Request to files/download\n",
      "/data/prince/94_20201123/20201202_1805_plate39/princemeasurement.csv /scratch-shared/amftrack/temptemp/20201202_1805_plate39/princemeasurement.csv\n",
      "2022-05-18 14:54:33,790-[INFO]- dropbox:388 -> Refreshing access token.\n",
      "2022-05-18 14:54:33,951-[INFO]- dropbox:477 -> Request to files/download\n",
      "/data/prince/94_20201123/20201202_1805_plate39/analysis.zip /scratch-shared/amftrack/temptemp/20201202_1805_plate39/analysis.zip\n",
      "2022-05-18 14:54:34,586-[INFO]- dropbox:388 -> Refreshing access token.\n",
      "2022-05-18 14:54:34,728-[INFO]- dropbox:477 -> Request to files/download\n",
      "/data/prince/94_20201123/20201202_1805_plate39/img.zip /scratch-shared/amftrack/temptemp/20201202_1805_plate39/img.zip\n",
      "2022-05-18 14:54:46,145-[INFO]- dropbox:388 -> Refreshing access token.\n",
      "2022-05-18 14:54:46,301-[INFO]- dropbox:477 -> Request to files/download\n",
      "2022-05-18 14:55:36,593-[INFO]- dropbox:477 -> Request to files/list_folder\n",
      "/data/prince/94_20201123/20201203_0206_plate39/param.m /scratch-shared/amftrack/temptemp/20201203_0206_plate39/param.m\n",
      "2022-05-18 14:55:36,910-[INFO]- dropbox:388 -> Refreshing access token.\n",
      "2022-05-18 14:55:37,077-[INFO]- dropbox:477 -> Request to files/download\n",
      "/data/prince/94_20201123/20201203_0206_plate39/stitchedimage.tif /scratch-shared/amftrack/temptemp/20201203_0206_plate39/stitchedimage.tif\n",
      "2022-05-18 14:55:37,679-[INFO]- dropbox:388 -> Refreshing access token.\n",
      "2022-05-18 14:55:37,823-[INFO]- dropbox:477 -> Request to files/download\n",
      "/data/prince/94_20201123/20201203_0206_plate39/princemeasurement.csv /scratch-shared/amftrack/temptemp/20201203_0206_plate39/princemeasurement.csv\n",
      "2022-05-18 14:55:39,062-[INFO]- dropbox:388 -> Refreshing access token.\n",
      "2022-05-18 14:55:39,206-[INFO]- dropbox:477 -> Request to files/download\n",
      "/data/prince/94_20201123/20201203_0206_plate39/analysis.zip /scratch-shared/amftrack/temptemp/20201203_0206_plate39/analysis.zip\n",
      "2022-05-18 14:55:40,014-[INFO]- dropbox:388 -> Refreshing access token.\n",
      "2022-05-18 14:55:40,180-[INFO]- dropbox:477 -> Request to files/download\n",
      "/data/prince/94_20201123/20201203_0206_plate39/img.zip /scratch-shared/amftrack/temptemp/20201203_0206_plate39/img.zip\n",
      "2022-05-18 14:55:48,307-[INFO]- dropbox:388 -> Refreshing access token.\n",
      "2022-05-18 14:55:48,439-[INFO]- dropbox:477 -> Request to files/download\n",
      "2022-05-18 14:56:37,286-[INFO]- dropbox:477 -> Request to files/list_folder\n",
      "/data/prince/94_20201123/20201203_2206_plate39/param.m /scratch-shared/amftrack/temptemp/20201203_2206_plate39/param.m\n",
      "2022-05-18 14:56:37,654-[INFO]- dropbox:388 -> Refreshing access token.\n",
      "2022-05-18 14:56:37,839-[INFO]- dropbox:477 -> Request to files/download\n",
      "/data/prince/94_20201123/20201203_2206_plate39/stitchedimage.tif /scratch-shared/amftrack/temptemp/20201203_2206_plate39/stitchedimage.tif\n",
      "2022-05-18 14:56:38,513-[INFO]- dropbox:388 -> Refreshing access token.\n",
      "2022-05-18 14:56:38,678-[INFO]- dropbox:477 -> Request to files/download\n",
      "/data/prince/94_20201123/20201203_2206_plate39/princemeasurement.csv /scratch-shared/amftrack/temptemp/20201203_2206_plate39/princemeasurement.csv\n",
      "2022-05-18 14:56:40,098-[INFO]- dropbox:388 -> Refreshing access token.\n",
      "2022-05-18 14:56:40,254-[INFO]- dropbox:477 -> Request to files/download\n",
      "/data/prince/94_20201123/20201203_2206_plate39/analysis.zip /scratch-shared/amftrack/temptemp/20201203_2206_plate39/analysis.zip\n",
      "2022-05-18 14:56:40,859-[INFO]- dropbox:388 -> Refreshing access token.\n",
      "2022-05-18 14:56:41,003-[INFO]- dropbox:477 -> Request to files/download\n",
      "/data/prince/94_20201123/20201203_2206_plate39/img.zip /scratch-shared/amftrack/temptemp/20201203_2206_plate39/img.zip\n",
      "2022-05-18 14:56:52,123-[INFO]- dropbox:388 -> Refreshing access token.\n",
      "2022-05-18 14:56:52,279-[INFO]- dropbox:477 -> Request to files/download\n",
      "2022-05-18 14:57:43,906-[INFO]- dropbox:477 -> Request to files/list_folder\n",
      "/data/prince/94_20201123/20201204_0606_plate39/param.m /scratch-shared/amftrack/temptemp/20201204_0606_plate39/param.m\n",
      "2022-05-18 14:57:44,237-[INFO]- dropbox:388 -> Refreshing access token.\n",
      "2022-05-18 14:57:44,385-[INFO]- dropbox:477 -> Request to files/download\n",
      "/data/prince/94_20201123/20201204_0606_plate39/stitchedimage.tif /scratch-shared/amftrack/temptemp/20201204_0606_plate39/stitchedimage.tif\n",
      "2022-05-18 14:57:44,841-[INFO]- dropbox:388 -> Refreshing access token.\n",
      "2022-05-18 14:57:45,030-[INFO]- dropbox:477 -> Request to files/download\n",
      "/data/prince/94_20201123/20201204_0606_plate39/princemeasurement.csv /scratch-shared/amftrack/temptemp/20201204_0606_plate39/princemeasurement.csv\n",
      "2022-05-18 14:57:46,400-[INFO]- dropbox:388 -> Refreshing access token.\n",
      "2022-05-18 14:57:46,550-[INFO]- dropbox:477 -> Request to files/download\n",
      "/data/prince/94_20201123/20201204_0606_plate39/analysis.zip /scratch-shared/amftrack/temptemp/20201204_0606_plate39/analysis.zip\n",
      "2022-05-18 14:57:46,977-[INFO]- dropbox:388 -> Refreshing access token.\n",
      "2022-05-18 14:57:47,136-[INFO]- dropbox:477 -> Request to files/download\n",
      "/data/prince/94_20201123/20201204_0606_plate39/img.zip /scratch-shared/amftrack/temptemp/20201204_0606_plate39/img.zip\n",
      "2022-05-18 14:57:57,700-[INFO]- dropbox:388 -> Refreshing access token.\n",
      "2022-05-18 14:57:57,833-[INFO]- dropbox:477 -> Request to files/download\n",
      "2022-05-18 14:58:38,208-[INFO]- dropbox:477 -> Request to files/list_folder\n",
      "/data/prince/94_20201123/20201203_1806_plate39/param.m /scratch-shared/amftrack/temptemp/20201203_1806_plate39/param.m\n",
      "2022-05-18 14:58:38,508-[INFO]- dropbox:388 -> Refreshing access token.\n",
      "2022-05-18 14:58:38,648-[INFO]- dropbox:477 -> Request to files/download\n",
      "/data/prince/94_20201123/20201203_1806_plate39/stitchedimage.tif /scratch-shared/amftrack/temptemp/20201203_1806_plate39/stitchedimage.tif\n",
      "2022-05-18 14:58:39,058-[INFO]- dropbox:388 -> Refreshing access token.\n",
      "2022-05-18 14:58:39,222-[INFO]- dropbox:477 -> Request to files/download\n",
      "/data/prince/94_20201123/20201203_1806_plate39/princemeasurement.csv /scratch-shared/amftrack/temptemp/20201203_1806_plate39/princemeasurement.csv\n",
      "2022-05-18 14:58:40,372-[INFO]- dropbox:388 -> Refreshing access token.\n",
      "2022-05-18 14:58:40,537-[INFO]- dropbox:477 -> Request to files/download\n",
      "/data/prince/94_20201123/20201203_1806_plate39/analysis.zip /scratch-shared/amftrack/temptemp/20201203_1806_plate39/analysis.zip\n",
      "2022-05-18 14:58:41,258-[INFO]- dropbox:388 -> Refreshing access token.\n",
      "2022-05-18 14:58:41,412-[INFO]- dropbox:477 -> Request to files/download\n",
      "/data/prince/94_20201123/20201203_1806_plate39/img.zip /scratch-shared/amftrack/temptemp/20201203_1806_plate39/img.zip\n",
      "2022-05-18 14:58:51,990-[INFO]- dropbox:388 -> Refreshing access token.\n",
      "2022-05-18 14:58:52,145-[INFO]- dropbox:477 -> Request to files/download\n",
      "2022-05-18 14:59:34,123-[INFO]- dropbox:477 -> Request to files/list_folder\n",
      "/data/prince/94_20201123/20201204_0206_plate39/param.m /scratch-shared/amftrack/temptemp/20201204_0206_plate39/param.m\n",
      "2022-05-18 14:59:34,510-[INFO]- dropbox:388 -> Refreshing access token.\n",
      "2022-05-18 14:59:34,688-[INFO]- dropbox:477 -> Request to files/download\n",
      "/data/prince/94_20201123/20201204_0206_plate39/stitchedimage.tif /scratch-shared/amftrack/temptemp/20201204_0206_plate39/stitchedimage.tif\n",
      "2022-05-18 14:59:35,152-[INFO]- dropbox:388 -> Refreshing access token.\n",
      "2022-05-18 14:59:35,288-[INFO]- dropbox:477 -> Request to files/download\n",
      "/data/prince/94_20201123/20201204_0206_plate39/princemeasurement.csv /scratch-shared/amftrack/temptemp/20201204_0206_plate39/princemeasurement.csv\n",
      "2022-05-18 14:59:36,032-[INFO]- dropbox:388 -> Refreshing access token.\n",
      "2022-05-18 14:59:36,234-[INFO]- dropbox:477 -> Request to files/download\n",
      "/data/prince/94_20201123/20201204_0206_plate39/analysis.zip /scratch-shared/amftrack/temptemp/20201204_0206_plate39/analysis.zip\n",
      "2022-05-18 14:59:36,840-[INFO]- dropbox:388 -> Refreshing access token.\n",
      "2022-05-18 14:59:37,011-[INFO]- dropbox:477 -> Request to files/download\n",
      "/data/prince/94_20201123/20201204_0206_plate39/img.zip /scratch-shared/amftrack/temptemp/20201204_0206_plate39/img.zip\n",
      "2022-05-18 14:59:45,934-[INFO]- dropbox:388 -> Refreshing access token.\n",
      "2022-05-18 14:59:46,115-[INFO]- dropbox:477 -> Request to files/download\n",
      "2022-05-18 15:00:28,439-[INFO]- dropbox:477 -> Request to files/list_folder\n",
      "/data/prince/94_20201123/20201203_1405_plate39/param.m /scratch-shared/amftrack/temptemp/20201203_1405_plate39/param.m\n",
      "2022-05-18 15:00:28,870-[INFO]- dropbox:388 -> Refreshing access token.\n",
      "2022-05-18 15:00:29,036-[INFO]- dropbox:477 -> Request to files/download\n",
      "/data/prince/94_20201123/20201203_1405_plate39/stitchedimage.tif /scratch-shared/amftrack/temptemp/20201203_1405_plate39/stitchedimage.tif\n",
      "2022-05-18 15:00:29,745-[INFO]- dropbox:388 -> Refreshing access token.\n",
      "2022-05-18 15:00:29,897-[INFO]- dropbox:477 -> Request to files/download\n",
      "/data/prince/94_20201123/20201203_1405_plate39/princemeasurement.csv /scratch-shared/amftrack/temptemp/20201203_1405_plate39/princemeasurement.csv\n",
      "2022-05-18 15:00:30,957-[INFO]- dropbox:388 -> Refreshing access token.\n",
      "2022-05-18 15:00:31,107-[INFO]- dropbox:477 -> Request to files/download\n",
      "/data/prince/94_20201123/20201203_1405_plate39/analysis.zip /scratch-shared/amftrack/temptemp/20201203_1405_plate39/analysis.zip\n",
      "2022-05-18 15:00:31,641-[INFO]- dropbox:388 -> Refreshing access token.\n",
      "2022-05-18 15:00:31,818-[INFO]- dropbox:477 -> Request to files/download\n",
      "/data/prince/94_20201123/20201203_1405_plate39/img.zip /scratch-shared/amftrack/temptemp/20201203_1405_plate39/img.zip\n",
      "2022-05-18 15:00:41,274-[INFO]- dropbox:388 -> Refreshing access token.\n",
      "2022-05-18 15:00:41,432-[INFO]- dropbox:477 -> Request to files/download\n",
      "2022-05-18 15:01:24,509-[INFO]- dropbox:477 -> Request to files/list_folder\n",
      "/data/prince/94_20201123/20201126_1102_plate39/param.m /scratch-shared/amftrack/temptemp/20201126_1102_plate39/param.m\n",
      "2022-05-18 15:01:24,913-[INFO]- dropbox:388 -> Refreshing access token.\n",
      "2022-05-18 15:01:25,056-[INFO]- dropbox:477 -> Request to files/download\n",
      "/data/prince/94_20201123/20201126_1102_plate39/stitchedimage.tif /scratch-shared/amftrack/temptemp/20201126_1102_plate39/stitchedimage.tif\n",
      "2022-05-18 15:01:25,511-[INFO]- dropbox:388 -> Refreshing access token.\n",
      "2022-05-18 15:01:25,656-[INFO]- dropbox:477 -> Request to files/download\n",
      "/data/prince/94_20201123/20201126_1102_plate39/princemeasurement.csv /scratch-shared/amftrack/temptemp/20201126_1102_plate39/princemeasurement.csv\n",
      "2022-05-18 15:01:26,787-[INFO]- dropbox:388 -> Refreshing access token.\n",
      "2022-05-18 15:01:26,932-[INFO]- dropbox:477 -> Request to files/download\n",
      "/data/prince/94_20201123/20201126_1102_plate39/analysis.zip /scratch-shared/amftrack/temptemp/20201126_1102_plate39/analysis.zip\n",
      "2022-05-18 15:01:27,560-[INFO]- dropbox:388 -> Refreshing access token.\n",
      "2022-05-18 15:01:27,731-[INFO]- dropbox:477 -> Request to files/download\n",
      "/data/prince/94_20201123/20201126_1102_plate39/img.zip /scratch-shared/amftrack/temptemp/20201126_1102_plate39/img.zip\n",
      "2022-05-18 15:01:34,595-[INFO]- dropbox:388 -> Refreshing access token.\n",
      "2022-05-18 15:01:34,733-[INFO]- dropbox:477 -> Request to files/download\n"
     ]
    },
    {
     "ename": "KeyboardInterrupt",
     "evalue": "",
     "output_type": "error",
     "traceback": [
      "\u001b[0;31m---------------------------------------------------------------------------\u001b[0m",
      "\u001b[0;31mKeyboardInterrupt\u001b[0m                         Traceback (most recent call last)",
      "\u001b[0;32m/scratch-local/cbisot/ipykernel_928921/3950166342.py\u001b[0m in \u001b[0;36m<module>\u001b[0;34m\u001b[0m\n\u001b[0;32m----> 1\u001b[0;31m \u001b[0mdownload_folders_drop\u001b[0m\u001b[0;34m(\u001b[0m\u001b[0mall_folders_drop_new\u001b[0m\u001b[0;34m,\u001b[0m\u001b[0mdirectory_targ2\u001b[0m\u001b[0;34m)\u001b[0m\u001b[0;34m\u001b[0m\u001b[0;34m\u001b[0m\u001b[0m\n\u001b[0m",
      "\u001b[0;32m/scratch-local/cbisot/ipykernel_928921/386490798.py\u001b[0m in \u001b[0;36mdownload_folders_drop\u001b[0;34m(folders_drop, directory_target)\u001b[0m\n\u001b[1;32m     22\u001b[0m             \u001b[0mprint\u001b[0m\u001b[0;34m(\u001b[0m\u001b[0mpath_drop\u001b[0m\u001b[0;34m,\u001b[0m \u001b[0mpath_local\u001b[0m\u001b[0;34m)\u001b[0m\u001b[0;34m\u001b[0m\u001b[0;34m\u001b[0m\u001b[0m\n\u001b[1;32m     23\u001b[0m \u001b[0;34m\u001b[0m\u001b[0m\n\u001b[0;32m---> 24\u001b[0;31m             \u001b[0mdownload\u001b[0m\u001b[0;34m(\u001b[0m\u001b[0mpath_drop\u001b[0m\u001b[0;34m,\u001b[0m \u001b[0mpath_local\u001b[0m\u001b[0;34m,\u001b[0m \u001b[0munzip\u001b[0m\u001b[0;34m=\u001b[0m\u001b[0;34m(\u001b[0m\u001b[0mpath_drop\u001b[0m\u001b[0;34m[\u001b[0m\u001b[0;34m-\u001b[0m\u001b[0;36m4\u001b[0m\u001b[0;34m:\u001b[0m\u001b[0;34m]\u001b[0m \u001b[0;34m==\u001b[0m \u001b[0;34m\".zip\"\u001b[0m\u001b[0;34m)\u001b[0m\u001b[0;34m)\u001b[0m\u001b[0;34m\u001b[0m\u001b[0;34m\u001b[0m\u001b[0m\n\u001b[0m",
      "\u001b[0;32m/gpfs/home2/cbisot/pycode/AMFtrack/amftrack/util/dbx.py\u001b[0m in \u001b[0;36mdownload\u001b[0;34m(file_path, target_path, end, catch_exception, unzip)\u001b[0m\n\u001b[1;32m    124\u001b[0m             \u001b[0;32mwith\u001b[0m \u001b[0mopen\u001b[0m\u001b[0;34m(\u001b[0m\u001b[0mtarget_path\u001b[0m\u001b[0;34m,\u001b[0m \u001b[0;34m\"wb\"\u001b[0m\u001b[0;34m)\u001b[0m \u001b[0;32mas\u001b[0m \u001b[0mf\u001b[0m\u001b[0;34m:\u001b[0m\u001b[0;34m\u001b[0m\u001b[0;34m\u001b[0m\u001b[0m\n\u001b[1;32m    125\u001b[0m                 \u001b[0mmetadata\u001b[0m\u001b[0;34m,\u001b[0m \u001b[0mres\u001b[0m \u001b[0;34m=\u001b[0m \u001b[0mdbx\u001b[0m\u001b[0;34m.\u001b[0m\u001b[0mfiles_download\u001b[0m\u001b[0;34m(\u001b[0m\u001b[0mpath\u001b[0m\u001b[0;34m=\u001b[0m\u001b[0;34mf'{file_path}{end}'\u001b[0m\u001b[0;34m)\u001b[0m\u001b[0;34m\u001b[0m\u001b[0;34m\u001b[0m\u001b[0m\n\u001b[0;32m--> 126\u001b[0;31m                 \u001b[0mf\u001b[0m\u001b[0;34m.\u001b[0m\u001b[0mwrite\u001b[0m\u001b[0;34m(\u001b[0m\u001b[0mres\u001b[0m\u001b[0;34m.\u001b[0m\u001b[0mcontent\u001b[0m\u001b[0;34m)\u001b[0m\u001b[0;34m\u001b[0m\u001b[0;34m\u001b[0m\u001b[0m\n\u001b[0m\u001b[1;32m    127\u001b[0m         \u001b[0;32mexcept\u001b[0m \u001b[0;34m(\u001b[0m\u001b[0mrequests\u001b[0m\u001b[0;34m.\u001b[0m\u001b[0mexceptions\u001b[0m\u001b[0;34m.\u001b[0m\u001b[0mRequestException\u001b[0m\u001b[0;34m,\u001b[0m\u001b[0mdropbox\u001b[0m\u001b[0;34m.\u001b[0m\u001b[0mexceptions\u001b[0m\u001b[0;34m.\u001b[0m\u001b[0mApiError\u001b[0m\u001b[0;34m)\u001b[0m \u001b[0;32mas\u001b[0m \u001b[0me\u001b[0m\u001b[0;34m:\u001b[0m\u001b[0;34m\u001b[0m\u001b[0;34m\u001b[0m\u001b[0m\n\u001b[1;32m    128\u001b[0m             \u001b[0;32mif\u001b[0m \u001b[0mcatch_exception\u001b[0m\u001b[0;34m:\u001b[0m\u001b[0;34m\u001b[0m\u001b[0;34m\u001b[0m\u001b[0m\n",
      "\u001b[0;32m~/miniconda3/envs/amftrack/lib/python3.7/site-packages/requests/models.py\u001b[0m in \u001b[0;36mcontent\u001b[0;34m(self)\u001b[0m\n\u001b[1;32m    834\u001b[0m                 \u001b[0mself\u001b[0m\u001b[0;34m.\u001b[0m\u001b[0m_content\u001b[0m \u001b[0;34m=\u001b[0m \u001b[0;32mNone\u001b[0m\u001b[0;34m\u001b[0m\u001b[0;34m\u001b[0m\u001b[0m\n\u001b[1;32m    835\u001b[0m             \u001b[0;32melse\u001b[0m\u001b[0;34m:\u001b[0m\u001b[0;34m\u001b[0m\u001b[0;34m\u001b[0m\u001b[0m\n\u001b[0;32m--> 836\u001b[0;31m                 \u001b[0mself\u001b[0m\u001b[0;34m.\u001b[0m\u001b[0m_content\u001b[0m \u001b[0;34m=\u001b[0m \u001b[0;34mb''\u001b[0m\u001b[0;34m.\u001b[0m\u001b[0mjoin\u001b[0m\u001b[0;34m(\u001b[0m\u001b[0mself\u001b[0m\u001b[0;34m.\u001b[0m\u001b[0miter_content\u001b[0m\u001b[0;34m(\u001b[0m\u001b[0mCONTENT_CHUNK_SIZE\u001b[0m\u001b[0;34m)\u001b[0m\u001b[0;34m)\u001b[0m \u001b[0;32mor\u001b[0m \u001b[0;34mb''\u001b[0m\u001b[0;34m\u001b[0m\u001b[0;34m\u001b[0m\u001b[0m\n\u001b[0m\u001b[1;32m    837\u001b[0m \u001b[0;34m\u001b[0m\u001b[0m\n\u001b[1;32m    838\u001b[0m         \u001b[0mself\u001b[0m\u001b[0;34m.\u001b[0m\u001b[0m_content_consumed\u001b[0m \u001b[0;34m=\u001b[0m \u001b[0;32mTrue\u001b[0m\u001b[0;34m\u001b[0m\u001b[0;34m\u001b[0m\u001b[0m\n",
      "\u001b[0;32m~/miniconda3/envs/amftrack/lib/python3.7/site-packages/requests/models.py\u001b[0m in \u001b[0;36mgenerate\u001b[0;34m()\u001b[0m\n\u001b[1;32m    756\u001b[0m             \u001b[0;32mif\u001b[0m \u001b[0mhasattr\u001b[0m\u001b[0;34m(\u001b[0m\u001b[0mself\u001b[0m\u001b[0;34m.\u001b[0m\u001b[0mraw\u001b[0m\u001b[0;34m,\u001b[0m \u001b[0;34m'stream'\u001b[0m\u001b[0;34m)\u001b[0m\u001b[0;34m:\u001b[0m\u001b[0;34m\u001b[0m\u001b[0;34m\u001b[0m\u001b[0m\n\u001b[1;32m    757\u001b[0m                 \u001b[0;32mtry\u001b[0m\u001b[0;34m:\u001b[0m\u001b[0;34m\u001b[0m\u001b[0;34m\u001b[0m\u001b[0m\n\u001b[0;32m--> 758\u001b[0;31m                     \u001b[0;32mfor\u001b[0m \u001b[0mchunk\u001b[0m \u001b[0;32min\u001b[0m \u001b[0mself\u001b[0m\u001b[0;34m.\u001b[0m\u001b[0mraw\u001b[0m\u001b[0;34m.\u001b[0m\u001b[0mstream\u001b[0m\u001b[0;34m(\u001b[0m\u001b[0mchunk_size\u001b[0m\u001b[0;34m,\u001b[0m \u001b[0mdecode_content\u001b[0m\u001b[0;34m=\u001b[0m\u001b[0;32mTrue\u001b[0m\u001b[0;34m)\u001b[0m\u001b[0;34m:\u001b[0m\u001b[0;34m\u001b[0m\u001b[0;34m\u001b[0m\u001b[0m\n\u001b[0m\u001b[1;32m    759\u001b[0m                         \u001b[0;32myield\u001b[0m \u001b[0mchunk\u001b[0m\u001b[0;34m\u001b[0m\u001b[0;34m\u001b[0m\u001b[0m\n\u001b[1;32m    760\u001b[0m                 \u001b[0;32mexcept\u001b[0m \u001b[0mProtocolError\u001b[0m \u001b[0;32mas\u001b[0m \u001b[0me\u001b[0m\u001b[0;34m:\u001b[0m\u001b[0;34m\u001b[0m\u001b[0;34m\u001b[0m\u001b[0m\n",
      "\u001b[0;32m~/miniconda3/envs/amftrack/lib/python3.7/site-packages/urllib3/response.py\u001b[0m in \u001b[0;36mstream\u001b[0;34m(self, amt, decode_content)\u001b[0m\n\u001b[1;32m    574\u001b[0m         \u001b[0;32melse\u001b[0m\u001b[0;34m:\u001b[0m\u001b[0;34m\u001b[0m\u001b[0;34m\u001b[0m\u001b[0m\n\u001b[1;32m    575\u001b[0m             \u001b[0;32mwhile\u001b[0m \u001b[0;32mnot\u001b[0m \u001b[0mis_fp_closed\u001b[0m\u001b[0;34m(\u001b[0m\u001b[0mself\u001b[0m\u001b[0;34m.\u001b[0m\u001b[0m_fp\u001b[0m\u001b[0;34m)\u001b[0m\u001b[0;34m:\u001b[0m\u001b[0;34m\u001b[0m\u001b[0;34m\u001b[0m\u001b[0m\n\u001b[0;32m--> 576\u001b[0;31m                 \u001b[0mdata\u001b[0m \u001b[0;34m=\u001b[0m \u001b[0mself\u001b[0m\u001b[0;34m.\u001b[0m\u001b[0mread\u001b[0m\u001b[0;34m(\u001b[0m\u001b[0mamt\u001b[0m\u001b[0;34m=\u001b[0m\u001b[0mamt\u001b[0m\u001b[0;34m,\u001b[0m \u001b[0mdecode_content\u001b[0m\u001b[0;34m=\u001b[0m\u001b[0mdecode_content\u001b[0m\u001b[0;34m)\u001b[0m\u001b[0;34m\u001b[0m\u001b[0;34m\u001b[0m\u001b[0m\n\u001b[0m\u001b[1;32m    577\u001b[0m \u001b[0;34m\u001b[0m\u001b[0m\n\u001b[1;32m    578\u001b[0m                 \u001b[0;32mif\u001b[0m \u001b[0mdata\u001b[0m\u001b[0;34m:\u001b[0m\u001b[0;34m\u001b[0m\u001b[0;34m\u001b[0m\u001b[0m\n",
      "\u001b[0;32m~/miniconda3/envs/amftrack/lib/python3.7/site-packages/urllib3/response.py\u001b[0m in \u001b[0;36mread\u001b[0;34m(self, amt, decode_content, cache_content)\u001b[0m\n\u001b[1;32m    517\u001b[0m             \u001b[0;32melse\u001b[0m\u001b[0;34m:\u001b[0m\u001b[0;34m\u001b[0m\u001b[0;34m\u001b[0m\u001b[0m\n\u001b[1;32m    518\u001b[0m                 \u001b[0mcache_content\u001b[0m \u001b[0;34m=\u001b[0m \u001b[0;32mFalse\u001b[0m\u001b[0;34m\u001b[0m\u001b[0;34m\u001b[0m\u001b[0m\n\u001b[0;32m--> 519\u001b[0;31m                 \u001b[0mdata\u001b[0m \u001b[0;34m=\u001b[0m \u001b[0mself\u001b[0m\u001b[0;34m.\u001b[0m\u001b[0m_fp\u001b[0m\u001b[0;34m.\u001b[0m\u001b[0mread\u001b[0m\u001b[0;34m(\u001b[0m\u001b[0mamt\u001b[0m\u001b[0;34m)\u001b[0m \u001b[0;32mif\u001b[0m \u001b[0;32mnot\u001b[0m \u001b[0mfp_closed\u001b[0m \u001b[0;32melse\u001b[0m \u001b[0;34mb\"\"\u001b[0m\u001b[0;34m\u001b[0m\u001b[0;34m\u001b[0m\u001b[0m\n\u001b[0m\u001b[1;32m    520\u001b[0m                 if (\n\u001b[1;32m    521\u001b[0m                     \u001b[0mamt\u001b[0m \u001b[0;34m!=\u001b[0m \u001b[0;36m0\u001b[0m \u001b[0;32mand\u001b[0m \u001b[0;32mnot\u001b[0m \u001b[0mdata\u001b[0m\u001b[0;34m\u001b[0m\u001b[0;34m\u001b[0m\u001b[0m\n",
      "\u001b[0;32m~/miniconda3/envs/amftrack/lib/python3.7/http/client.py\u001b[0m in \u001b[0;36mread\u001b[0;34m(self, amt)\u001b[0m\n\u001b[1;32m    463\u001b[0m             \u001b[0;31m# Amount is given, implement using readinto\u001b[0m\u001b[0;34m\u001b[0m\u001b[0;34m\u001b[0m\u001b[0;34m\u001b[0m\u001b[0m\n\u001b[1;32m    464\u001b[0m             \u001b[0mb\u001b[0m \u001b[0;34m=\u001b[0m \u001b[0mbytearray\u001b[0m\u001b[0;34m(\u001b[0m\u001b[0mamt\u001b[0m\u001b[0;34m)\u001b[0m\u001b[0;34m\u001b[0m\u001b[0;34m\u001b[0m\u001b[0m\n\u001b[0;32m--> 465\u001b[0;31m             \u001b[0mn\u001b[0m \u001b[0;34m=\u001b[0m \u001b[0mself\u001b[0m\u001b[0;34m.\u001b[0m\u001b[0mreadinto\u001b[0m\u001b[0;34m(\u001b[0m\u001b[0mb\u001b[0m\u001b[0;34m)\u001b[0m\u001b[0;34m\u001b[0m\u001b[0;34m\u001b[0m\u001b[0m\n\u001b[0m\u001b[1;32m    466\u001b[0m             \u001b[0;32mreturn\u001b[0m \u001b[0mmemoryview\u001b[0m\u001b[0;34m(\u001b[0m\u001b[0mb\u001b[0m\u001b[0;34m)\u001b[0m\u001b[0;34m[\u001b[0m\u001b[0;34m:\u001b[0m\u001b[0mn\u001b[0m\u001b[0;34m]\u001b[0m\u001b[0;34m.\u001b[0m\u001b[0mtobytes\u001b[0m\u001b[0;34m(\u001b[0m\u001b[0;34m)\u001b[0m\u001b[0;34m\u001b[0m\u001b[0;34m\u001b[0m\u001b[0m\n\u001b[1;32m    467\u001b[0m         \u001b[0;32melse\u001b[0m\u001b[0;34m:\u001b[0m\u001b[0;34m\u001b[0m\u001b[0;34m\u001b[0m\u001b[0m\n",
      "\u001b[0;32m~/miniconda3/envs/amftrack/lib/python3.7/http/client.py\u001b[0m in \u001b[0;36mreadinto\u001b[0;34m(self, b)\u001b[0m\n\u001b[1;32m    507\u001b[0m         \u001b[0;31m# connection, and the user is reading more bytes than will be provided\u001b[0m\u001b[0;34m\u001b[0m\u001b[0;34m\u001b[0m\u001b[0;34m\u001b[0m\u001b[0m\n\u001b[1;32m    508\u001b[0m         \u001b[0;31m# (for example, reading in 1k chunks)\u001b[0m\u001b[0;34m\u001b[0m\u001b[0;34m\u001b[0m\u001b[0;34m\u001b[0m\u001b[0m\n\u001b[0;32m--> 509\u001b[0;31m         \u001b[0mn\u001b[0m \u001b[0;34m=\u001b[0m \u001b[0mself\u001b[0m\u001b[0;34m.\u001b[0m\u001b[0mfp\u001b[0m\u001b[0;34m.\u001b[0m\u001b[0mreadinto\u001b[0m\u001b[0;34m(\u001b[0m\u001b[0mb\u001b[0m\u001b[0;34m)\u001b[0m\u001b[0;34m\u001b[0m\u001b[0;34m\u001b[0m\u001b[0m\n\u001b[0m\u001b[1;32m    510\u001b[0m         \u001b[0;32mif\u001b[0m \u001b[0;32mnot\u001b[0m \u001b[0mn\u001b[0m \u001b[0;32mand\u001b[0m \u001b[0mb\u001b[0m\u001b[0;34m:\u001b[0m\u001b[0;34m\u001b[0m\u001b[0;34m\u001b[0m\u001b[0m\n\u001b[1;32m    511\u001b[0m             \u001b[0;31m# Ideally, we would raise IncompleteRead if the content-length\u001b[0m\u001b[0;34m\u001b[0m\u001b[0;34m\u001b[0m\u001b[0;34m\u001b[0m\u001b[0m\n",
      "\u001b[0;32m~/miniconda3/envs/amftrack/lib/python3.7/socket.py\u001b[0m in \u001b[0;36mreadinto\u001b[0;34m(self, b)\u001b[0m\n\u001b[1;32m    587\u001b[0m         \u001b[0;32mwhile\u001b[0m \u001b[0;32mTrue\u001b[0m\u001b[0;34m:\u001b[0m\u001b[0;34m\u001b[0m\u001b[0;34m\u001b[0m\u001b[0m\n\u001b[1;32m    588\u001b[0m             \u001b[0;32mtry\u001b[0m\u001b[0;34m:\u001b[0m\u001b[0;34m\u001b[0m\u001b[0;34m\u001b[0m\u001b[0m\n\u001b[0;32m--> 589\u001b[0;31m                 \u001b[0;32mreturn\u001b[0m \u001b[0mself\u001b[0m\u001b[0;34m.\u001b[0m\u001b[0m_sock\u001b[0m\u001b[0;34m.\u001b[0m\u001b[0mrecv_into\u001b[0m\u001b[0;34m(\u001b[0m\u001b[0mb\u001b[0m\u001b[0;34m)\u001b[0m\u001b[0;34m\u001b[0m\u001b[0;34m\u001b[0m\u001b[0m\n\u001b[0m\u001b[1;32m    590\u001b[0m             \u001b[0;32mexcept\u001b[0m \u001b[0mtimeout\u001b[0m\u001b[0;34m:\u001b[0m\u001b[0;34m\u001b[0m\u001b[0;34m\u001b[0m\u001b[0m\n\u001b[1;32m    591\u001b[0m                 \u001b[0mself\u001b[0m\u001b[0;34m.\u001b[0m\u001b[0m_timeout_occurred\u001b[0m \u001b[0;34m=\u001b[0m \u001b[0;32mTrue\u001b[0m\u001b[0;34m\u001b[0m\u001b[0;34m\u001b[0m\u001b[0m\n",
      "\u001b[0;32m~/miniconda3/envs/amftrack/lib/python3.7/ssl.py\u001b[0m in \u001b[0;36mrecv_into\u001b[0;34m(self, buffer, nbytes, flags)\u001b[0m\n\u001b[1;32m   1069\u001b[0m                   \u001b[0;34m\"non-zero flags not allowed in calls to recv_into() on %s\"\u001b[0m \u001b[0;34m%\u001b[0m\u001b[0;34m\u001b[0m\u001b[0;34m\u001b[0m\u001b[0m\n\u001b[1;32m   1070\u001b[0m                   self.__class__)\n\u001b[0;32m-> 1071\u001b[0;31m             \u001b[0;32mreturn\u001b[0m \u001b[0mself\u001b[0m\u001b[0;34m.\u001b[0m\u001b[0mread\u001b[0m\u001b[0;34m(\u001b[0m\u001b[0mnbytes\u001b[0m\u001b[0;34m,\u001b[0m \u001b[0mbuffer\u001b[0m\u001b[0;34m)\u001b[0m\u001b[0;34m\u001b[0m\u001b[0;34m\u001b[0m\u001b[0m\n\u001b[0m\u001b[1;32m   1072\u001b[0m         \u001b[0;32melse\u001b[0m\u001b[0;34m:\u001b[0m\u001b[0;34m\u001b[0m\u001b[0;34m\u001b[0m\u001b[0m\n\u001b[1;32m   1073\u001b[0m             \u001b[0;32mreturn\u001b[0m \u001b[0msuper\u001b[0m\u001b[0;34m(\u001b[0m\u001b[0;34m)\u001b[0m\u001b[0;34m.\u001b[0m\u001b[0mrecv_into\u001b[0m\u001b[0;34m(\u001b[0m\u001b[0mbuffer\u001b[0m\u001b[0;34m,\u001b[0m \u001b[0mnbytes\u001b[0m\u001b[0;34m,\u001b[0m \u001b[0mflags\u001b[0m\u001b[0;34m)\u001b[0m\u001b[0;34m\u001b[0m\u001b[0;34m\u001b[0m\u001b[0m\n",
      "\u001b[0;32m~/miniconda3/envs/amftrack/lib/python3.7/ssl.py\u001b[0m in \u001b[0;36mread\u001b[0;34m(self, len, buffer)\u001b[0m\n\u001b[1;32m    927\u001b[0m         \u001b[0;32mtry\u001b[0m\u001b[0;34m:\u001b[0m\u001b[0;34m\u001b[0m\u001b[0;34m\u001b[0m\u001b[0m\n\u001b[1;32m    928\u001b[0m             \u001b[0;32mif\u001b[0m \u001b[0mbuffer\u001b[0m \u001b[0;32mis\u001b[0m \u001b[0;32mnot\u001b[0m \u001b[0;32mNone\u001b[0m\u001b[0;34m:\u001b[0m\u001b[0;34m\u001b[0m\u001b[0;34m\u001b[0m\u001b[0m\n\u001b[0;32m--> 929\u001b[0;31m                 \u001b[0;32mreturn\u001b[0m \u001b[0mself\u001b[0m\u001b[0;34m.\u001b[0m\u001b[0m_sslobj\u001b[0m\u001b[0;34m.\u001b[0m\u001b[0mread\u001b[0m\u001b[0;34m(\u001b[0m\u001b[0mlen\u001b[0m\u001b[0;34m,\u001b[0m \u001b[0mbuffer\u001b[0m\u001b[0;34m)\u001b[0m\u001b[0;34m\u001b[0m\u001b[0;34m\u001b[0m\u001b[0m\n\u001b[0m\u001b[1;32m    930\u001b[0m             \u001b[0;32melse\u001b[0m\u001b[0;34m:\u001b[0m\u001b[0;34m\u001b[0m\u001b[0;34m\u001b[0m\u001b[0m\n\u001b[1;32m    931\u001b[0m                 \u001b[0;32mreturn\u001b[0m \u001b[0mself\u001b[0m\u001b[0;34m.\u001b[0m\u001b[0m_sslobj\u001b[0m\u001b[0;34m.\u001b[0m\u001b[0mread\u001b[0m\u001b[0;34m(\u001b[0m\u001b[0mlen\u001b[0m\u001b[0;34m)\u001b[0m\u001b[0;34m\u001b[0m\u001b[0;34m\u001b[0m\u001b[0m\n",
      "\u001b[0;31mKeyboardInterrupt\u001b[0m: "
     ]
    }
   ],
   "source": [
    "download_folders_drop(all_folders_drop_new, directory_targ2)"
   ]
  }
 ],
 "metadata": {
  "kernelspec": {
   "display_name": "Python 3 (ipykernel)",
   "language": "python",
   "name": "python3"
  },
  "language_info": {
   "codemirror_mode": {
    "name": "ipython",
    "version": 3
   },
   "file_extension": ".py",
   "mimetype": "text/x-python",
   "name": "python",
   "nbconvert_exporter": "python",
   "pygments_lexer": "ipython3",
   "version": "3.9.13"
  }
 },
 "nbformat": 4,
 "nbformat_minor": 4
}

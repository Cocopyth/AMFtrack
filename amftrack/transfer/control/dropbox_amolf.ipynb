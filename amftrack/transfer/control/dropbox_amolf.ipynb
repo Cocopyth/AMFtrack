{
 "cells": [
  {
   "cell_type": "code",
   "execution_count": 5,
   "metadata": {
    "tags": []
   },
   "outputs": [
    {
     "name": "stdout",
     "output_type": "stream",
     "text": [
      "The autoreload extension is already loaded. To reload it, use:\n",
      "  %reload_ext autoreload\n"
     ]
    }
   ],
   "source": [
    "%matplotlib widget\n",
    "%load_ext autoreload\n",
    "%autoreload 2\n",
    "from IPython.display import clear_output\n",
    "import os\n",
    "import sys\n",
    "\n",
    "# sys.path.insert(0, os.getenv('HOME')+'/pycode/MscThesis/')\n",
    "# sys.path.insert(0,r'C:\\Users\\coren\\Documents\\PhD\\Code\\AMFtrack')\n",
    "\n",
    "import pandas as pd\n",
    "from amftrack.util.sys import (\n",
    "    get_dates_datetime,\n",
    "    get_dirname,\n",
    "    temp_path,\n",
    "    get_data_info,\n",
    "    update_plate_info,\n",
    "    get_current_folders,\n",
    "    get_folders_by_plate_id,\n",
    ")\n",
    "\n",
    "\n",
    "import ast\n",
    "from amftrack.plotutil import plot_t_tp1\n",
    "from scipy import sparse\n",
    "from datetime import datetime\n",
    "import pickle\n",
    "import scipy.io as sio\n",
    "from pymatreader import read_mat\n",
    "from matplotlib import colors\n",
    "import cv2\n",
    "import imageio\n",
    "import matplotlib.pyplot as plt\n",
    "import numpy as np\n",
    "from skimage.filters import frangi\n",
    "from skimage import filters\n",
    "from random import choice\n",
    "import scipy.sparse\n",
    "import os\n",
    "from amftrack.pipeline.functions.image_processing.extract_graph import (\n",
    "    from_sparse_to_graph,\n",
    "    generate_nx_graph,\n",
    "    sparse_to_doc,\n",
    ")\n",
    "from skimage.feature import hessian_matrix_det\n",
    "\n",
    "# from amftrack.pipeline.functions.image_processing.experiment_class_surf import Experiment\n",
    "from amftrack.pipeline.launching.run import (\n",
    "    run_transfer,\n",
    ")\n",
    "import dropbox\n",
    "from amftrack.util.dbx import upload_folders, load_dbx, download, get_dropbox_folders\n",
    "from subprocess import call\n",
    "import logging\n",
    "\n",
    "logging.basicConfig(stream=sys.stdout, level=logging.debug)"
   ]
  },
  {
   "cell_type": "markdown",
   "metadata": {},
   "source": [
    "**To transfer data from sun to dropbox**\n",
    "- select the path where the data is\n"
   ]
  },
  {
   "cell_type": "code",
   "execution_count": 6,
   "metadata": {},
   "outputs": [],
   "source": [
    "directory_origin = '/mnt/sun-temp/TEMP/PRINCE_Felix/'\n"
   ]
  },
  {
   "cell_type": "markdown",
   "metadata": {},
   "source": [
    "- get the folders at this path and select the folders of interest"
   ]
  },
  {
   "cell_type": "code",
   "execution_count": 7,
   "metadata": {
    "tags": []
   },
   "outputs": [
    {
     "ename": "FileNotFoundError",
     "evalue": "[Errno 2] No such file or directory: '/mnt/sun-temp/TEMP/PRINCE_Felix/'",
     "output_type": "error",
     "traceback": [
      "\u001b[0;31m---------------------------------------------------------------------------\u001b[0m",
      "\u001b[0;31mFileNotFoundError\u001b[0m                         Traceback (most recent call last)",
      "\u001b[0;32m/scratch-local/cbisot/ipykernel_2193383/2011374543.py\u001b[0m in \u001b[0;36m<module>\u001b[0;34m\u001b[0m\n\u001b[0;32m----> 1\u001b[0;31m \u001b[0mupdate_plate_info\u001b[0m\u001b[0;34m(\u001b[0m\u001b[0mdirectory_origin\u001b[0m\u001b[0;34m,\u001b[0m \u001b[0mlocal\u001b[0m\u001b[0;34m=\u001b[0m\u001b[0;32mTrue\u001b[0m\u001b[0;34m)\u001b[0m\u001b[0;34m\u001b[0m\u001b[0;34m\u001b[0m\u001b[0m\n\u001b[0m\u001b[1;32m      2\u001b[0m \u001b[0mall_folders\u001b[0m \u001b[0;34m=\u001b[0m \u001b[0mget_current_folders\u001b[0m\u001b[0;34m(\u001b[0m\u001b[0mdirectory_origin\u001b[0m\u001b[0;34m,\u001b[0m \u001b[0mlocal\u001b[0m\u001b[0;34m=\u001b[0m\u001b[0;32mTrue\u001b[0m\u001b[0;34m)\u001b[0m\u001b[0;34m\u001b[0m\u001b[0;34m\u001b[0m\u001b[0m\n\u001b[1;32m      3\u001b[0m \u001b[0mfolders\u001b[0m \u001b[0;34m=\u001b[0m \u001b[0mall_folders\u001b[0m\u001b[0;34m\u001b[0m\u001b[0;34m\u001b[0m\u001b[0m\n",
      "\u001b[0;32m/gpfs/home2/cbisot/pycode/AMFtrack/amftrack/util/sys.py\u001b[0m in \u001b[0;36mupdate_plate_info\u001b[0;34m(directory, local, strong_constraint, suffix_data_info)\u001b[0m\n\u001b[1;32m    237\u001b[0m     \"\"\"\n\u001b[1;32m    238\u001b[0m     \u001b[0;31m# TODO(FK): add a local version without dropbox modification\u001b[0m\u001b[0;34m\u001b[0m\u001b[0;34m\u001b[0m\u001b[0;34m\u001b[0m\u001b[0m\n\u001b[0;32m--> 239\u001b[0;31m     \u001b[0mlistdir\u001b[0m \u001b[0;34m=\u001b[0m \u001b[0mos\u001b[0m\u001b[0;34m.\u001b[0m\u001b[0mlistdir\u001b[0m\u001b[0;34m(\u001b[0m\u001b[0mdirectory\u001b[0m\u001b[0;34m)\u001b[0m\u001b[0;34m\u001b[0m\u001b[0;34m\u001b[0m\u001b[0m\n\u001b[0m\u001b[1;32m    240\u001b[0m     \u001b[0msource\u001b[0m \u001b[0;34m=\u001b[0m \u001b[0;34mf\"/data_info.json\"\u001b[0m\u001b[0;34m\u001b[0m\u001b[0;34m\u001b[0m\u001b[0m\n\u001b[1;32m    241\u001b[0m     \u001b[0mtarget\u001b[0m \u001b[0;34m=\u001b[0m \u001b[0mos\u001b[0m\u001b[0;34m.\u001b[0m\u001b[0mpath\u001b[0m\u001b[0;34m.\u001b[0m\u001b[0mjoin\u001b[0m\u001b[0;34m(\u001b[0m\u001b[0mtemp_path\u001b[0m\u001b[0;34m,\u001b[0m\u001b[0;34mf'data_info{suffix_data_info}.json'\u001b[0m\u001b[0;34m)\u001b[0m\u001b[0;34m\u001b[0m\u001b[0;34m\u001b[0m\u001b[0m\n",
      "\u001b[0;31mFileNotFoundError\u001b[0m: [Errno 2] No such file or directory: '/mnt/sun-temp/TEMP/PRINCE_Felix/'"
     ]
    }
   ],
   "source": [
    "update_plate_info(directory_origin, local=True)\n",
    "all_folders = get_current_folders(directory_origin, local=True)\n",
    "folders = all_folders"
   ]
  },
  {
   "cell_type": "markdown",
   "metadata": {},
   "source": [
    "- use the 'toward_drop.py' function including the folders of interest and using dir_drop as a parameter indicating where in dropbox the data should go\n",
    "- The delete parameter indicates wether the data should be deleted from the path of origin after succesfull upload on dropbox"
   ]
  },
  {
   "cell_type": "code",
   "execution_count": null,
   "metadata": {
    "collapsed": true,
    "jupyter": {
     "outputs_hidden": true
    },
    "tags": []
   },
   "outputs": [
    {
     "ename": "NameError",
     "evalue": "name 'folders' is not defined",
     "output_type": "error",
     "traceback": [
      "\u001b[0;31m---------------------------------------------------------------------------\u001b[0m",
      "\u001b[0;31mNameError\u001b[0m                                 Traceback (most recent call last)",
      "\u001b[0;32m/scratch-local/cbisot/ipykernel_2193383/3889603770.py\u001b[0m in \u001b[0;36m<module>\u001b[0;34m\u001b[0m\n\u001b[1;32m      4\u001b[0m     \u001b[0;34m\"toward_drop.py\"\u001b[0m\u001b[0;34m,\u001b[0m\u001b[0;34m\u001b[0m\u001b[0;34m\u001b[0m\u001b[0m\n\u001b[1;32m      5\u001b[0m     \u001b[0;34m[\u001b[0m\u001b[0mdir_drop\u001b[0m\u001b[0;34m,\u001b[0m \u001b[0mdelete\u001b[0m\u001b[0;34m]\u001b[0m\u001b[0;34m,\u001b[0m\u001b[0;34m\u001b[0m\u001b[0;34m\u001b[0m\u001b[0m\n\u001b[0;32m----> 6\u001b[0;31m     \u001b[0mfolders\u001b[0m\u001b[0;34m,\u001b[0m\u001b[0;34m\u001b[0m\u001b[0;34m\u001b[0m\u001b[0m\n\u001b[0m\u001b[1;32m      7\u001b[0m )\n\u001b[1;32m      8\u001b[0m \u001b[0mclear_output\u001b[0m\u001b[0;34m(\u001b[0m\u001b[0mwait\u001b[0m\u001b[0;34m=\u001b[0m\u001b[0;32mFalse\u001b[0m\u001b[0;34m)\u001b[0m\u001b[0;34m\u001b[0m\u001b[0;34m\u001b[0m\u001b[0m\n",
      "\u001b[0;31mNameError\u001b[0m: name 'folders' is not defined"
     ]
    }
   ],
   "source": [
    "dir_drop = \"DATA/PRINCE\"\n",
    "delete = False\n",
    "run_transfer(\n",
    "    \"toward_drop.py\",\n",
    "    [dir_drop, delete],\n",
    "    folders,\n",
    ")\n",
    "clear_output(wait=False)"
   ]
  },
  {
   "cell_type": "markdown",
   "metadata": {},
   "source": [
    "**To transfer data from dropbox to surfsara**\n",
    "- select the folders of interest within the folders of dropbox"
   ]
  },
  {
   "cell_type": "code",
   "execution_count": 4,
   "metadata": {
    "collapsed": true,
    "jupyter": {
     "outputs_hidden": true
    },
    "tags": []
   },
   "outputs": [
    {
     "name": "stdout",
     "output_type": "stream",
     "text": [
      "2022-06-22 17:28:10,073-[INFO]- dropbox:388 -> Refreshing access token.\n",
      "2022-06-22 17:28:10,300-[INFO]- dropbox:477 -> Request to files/list_folder\n",
      "2022-06-22 17:28:11,604-[INFO]- dropbox:477 -> Request to files/list_folder/continue\n",
      "2022-06-22 17:28:12,407-[INFO]- dropbox:477 -> Request to files/list_folder/continue\n",
      "2022-06-22 17:28:13,213-[INFO]- dropbox:477 -> Request to files/list_folder/continue\n",
      "2022-06-22 17:28:14,189-[INFO]- dropbox:477 -> Request to files/list_folder/continue\n",
      "2022-06-22 17:28:15,224-[INFO]- dropbox:477 -> Request to files/list_folder/continue\n",
      "2022-06-22 17:28:16,266-[INFO]- dropbox:477 -> Request to files/list_folder/continue\n",
      "2022-06-22 17:28:17,139-[INFO]- dropbox:477 -> Request to files/list_folder/continue\n",
      "2022-06-22 17:28:18,052-[INFO]- dropbox:477 -> Request to files/list_folder/continue\n",
      "2022-06-22 17:28:19,010-[INFO]- dropbox:477 -> Request to files/list_folder/continue\n",
      "2022-06-22 17:28:20,033-[INFO]- dropbox:477 -> Request to files/list_folder/continue\n",
      "2022-06-22 17:28:20,966-[INFO]- dropbox:477 -> Request to files/list_folder/continue\n",
      "2022-06-22 17:28:21,863-[INFO]- dropbox:477 -> Request to files/list_folder/continue\n",
      "2022-06-22 17:28:22,950-[INFO]- dropbox:477 -> Request to files/list_folder/continue\n",
      "2022-06-22 17:28:23,882-[INFO]- dropbox:477 -> Request to files/list_folder/continue\n",
      "2022-06-22 17:28:24,783-[INFO]- dropbox:477 -> Request to files/list_folder/continue\n",
      "2022-06-22 17:28:25,753-[INFO]- dropbox:477 -> Request to files/list_folder/continue\n",
      "2022-06-22 17:28:26,967-[INFO]- dropbox:477 -> Request to files/list_folder/continue\n",
      "2022-06-22 17:28:27,877-[INFO]- dropbox:477 -> Request to files/list_folder/continue\n",
      "2022-06-22 17:28:28,816-[INFO]- dropbox:477 -> Request to files/list_folder/continue\n",
      "2022-06-22 17:28:29,909-[INFO]- dropbox:477 -> Request to files/list_folder/continue\n",
      "2022-06-22 17:28:31,197-[INFO]- dropbox:477 -> Request to files/list_folder/continue\n",
      "2022-06-22 17:28:32,368-[INFO]- dropbox:477 -> Request to files/list_folder/continue\n",
      "2022-06-22 17:28:33,202-[INFO]- dropbox:477 -> Request to files/list_folder/continue\n",
      "2022-06-22 17:28:34,137-[INFO]- dropbox:477 -> Request to files/list_folder/continue\n",
      "2022-06-22 17:28:35,202-[INFO]- dropbox:477 -> Request to files/list_folder/continue\n",
      "2022-06-22 17:28:36,159-[INFO]- dropbox:477 -> Request to files/list_folder/continue\n",
      "2022-06-22 17:28:37,109-[INFO]- dropbox:477 -> Request to files/list_folder/continue\n",
      "2022-06-22 17:28:38,017-[INFO]- dropbox:477 -> Request to files/list_folder/continue\n",
      "2022-06-22 17:28:39,095-[INFO]- dropbox:477 -> Request to files/list_folder/continue\n",
      "2022-06-22 17:28:40,060-[INFO]- dropbox:477 -> Request to files/list_folder/continue\n",
      "2022-06-22 17:28:41,175-[INFO]- dropbox:477 -> Request to files/list_folder/continue\n",
      "2022-06-22 17:28:42,201-[INFO]- dropbox:477 -> Request to files/list_folder/continue\n",
      "2022-06-22 17:28:43,212-[INFO]- dropbox:477 -> Request to files/list_folder/continue\n",
      "2022-06-22 17:28:44,065-[INFO]- dropbox:477 -> Request to files/list_folder/continue\n",
      "2022-06-22 17:28:45,158-[INFO]- dropbox:477 -> Request to files/list_folder/continue\n",
      "2022-06-22 17:28:46,207-[INFO]- dropbox:477 -> Request to files/list_folder/continue\n",
      "2022-06-22 17:28:47,310-[INFO]- dropbox:477 -> Request to files/list_folder/continue\n",
      "2022-06-22 17:28:48,367-[INFO]- dropbox:477 -> Request to files/list_folder/continue\n",
      "2022-06-22 17:28:49,337-[INFO]- dropbox:477 -> Request to files/list_folder/continue\n",
      "2022-06-22 17:28:50,203-[INFO]- dropbox:477 -> Request to files/list_folder/continue\n",
      "2022-06-22 17:28:51,091-[INFO]- dropbox:477 -> Request to files/list_folder/continue\n",
      "2022-06-22 17:28:51,951-[INFO]- dropbox:477 -> Request to files/list_folder/continue\n",
      "2022-06-22 17:28:52,829-[INFO]- dropbox:477 -> Request to files/list_folder/continue\n",
      "2022-06-22 17:28:53,708-[INFO]- dropbox:477 -> Request to files/list_folder/continue\n",
      "2022-06-22 17:28:54,577-[INFO]- dropbox:477 -> Request to files/list_folder/continue\n",
      "2022-06-22 17:28:55,692-[INFO]- dropbox:477 -> Request to files/list_folder/continue\n",
      "2022-06-22 17:28:56,564-[INFO]- dropbox:477 -> Request to files/list_folder/continue\n",
      "2022-06-22 17:28:57,490-[INFO]- dropbox:477 -> Request to files/list_folder/continue\n",
      "2022-06-22 17:28:58,694-[INFO]- dropbox:477 -> Request to files/list_folder/continue\n",
      "2022-06-22 17:28:59,577-[INFO]- dropbox:477 -> Request to files/list_folder/continue\n",
      "2022-06-22 17:29:00,379-[INFO]- dropbox:477 -> Request to files/list_folder/continue\n",
      "2022-06-22 17:29:01,318-[INFO]- dropbox:477 -> Request to files/list_folder/continue\n",
      "2022-06-22 17:29:02,220-[INFO]- dropbox:477 -> Request to files/list_folder/continue\n",
      "2022-06-22 17:29:03,174-[INFO]- dropbox:477 -> Request to files/list_folder/continue\n",
      "2022-06-22 17:29:04,274-[INFO]- dropbox:477 -> Request to files/list_folder/continue\n",
      "2022-06-22 17:29:05,100-[INFO]- dropbox:477 -> Request to files/list_folder/continue\n",
      "2022-06-22 17:29:05,962-[INFO]- dropbox:477 -> Request to files/list_folder/continue\n",
      "2022-06-22 17:29:06,769-[INFO]- dropbox:477 -> Request to files/list_folder/continue\n",
      "2022-06-22 17:29:07,713-[INFO]- dropbox:477 -> Request to files/list_folder/continue\n",
      "2022-06-22 17:29:08,648-[INFO]- dropbox:477 -> Request to files/list_folder/continue\n",
      "2022-06-22 17:29:09,604-[INFO]- dropbox:477 -> Request to files/list_folder/continue\n",
      "2022-06-22 17:29:10,478-[INFO]- dropbox:477 -> Request to files/list_folder/continue\n",
      "2022-06-22 17:29:11,375-[INFO]- dropbox:477 -> Request to files/list_folder/continue\n",
      "2022-06-22 17:29:12,287-[INFO]- dropbox:477 -> Request to files/list_folder/continue\n",
      "2022-06-22 17:29:13,162-[INFO]- dropbox:477 -> Request to files/list_folder/continue\n",
      "2022-06-22 17:29:14,021-[INFO]- dropbox:477 -> Request to files/list_folder/continue\n",
      "2022-06-22 17:29:14,999-[INFO]- dropbox:477 -> Request to files/list_folder/continue\n",
      "2022-06-22 17:29:15,923-[INFO]- dropbox:477 -> Request to files/list_folder/continue\n",
      "2022-06-22 17:29:16,813-[INFO]- dropbox:477 -> Request to files/list_folder/continue\n",
      "2022-06-22 17:29:17,711-[INFO]- dropbox:477 -> Request to files/list_folder/continue\n",
      "2022-06-22 17:29:18,582-[INFO]- dropbox:477 -> Request to files/list_folder/continue\n",
      "2022-06-22 17:29:19,736-[INFO]- dropbox:477 -> Request to files/list_folder/continue\n",
      "2022-06-22 17:29:20,952-[INFO]- dropbox:477 -> Request to files/list_folder/continue\n",
      "2022-06-22 17:29:22,478-[INFO]- dropbox:477 -> Request to files/list_folder/continue\n",
      "2022-06-22 17:29:23,970-[INFO]- dropbox:477 -> Request to files/list_folder/continue\n",
      "2022-06-22 17:29:25,286-[INFO]- dropbox:477 -> Request to files/list_folder/continue\n",
      "2022-06-22 17:29:26,408-[INFO]- dropbox:477 -> Request to files/list_folder/continue\n",
      "2022-06-22 17:29:27,273-[INFO]- dropbox:477 -> Request to files/list_folder/continue\n",
      "2022-06-22 17:29:28,229-[INFO]- dropbox:477 -> Request to files/list_folder/continue\n",
      "2022-06-22 17:29:29,151-[INFO]- dropbox:477 -> Request to files/list_folder/continue\n",
      "2022-06-22 17:29:30,082-[INFO]- dropbox:477 -> Request to files/list_folder/continue\n",
      "2022-06-22 17:29:31,058-[INFO]- dropbox:477 -> Request to files/list_folder/continue\n",
      "2022-06-22 17:29:32,227-[INFO]- dropbox:477 -> Request to files/list_folder/continue\n",
      "2022-06-22 17:29:33,307-[INFO]- dropbox:477 -> Request to files/list_folder/continue\n",
      "2022-06-22 17:29:34,467-[INFO]- dropbox:477 -> Request to files/list_folder/continue\n",
      "2022-06-22 17:29:35,458-[INFO]- dropbox:477 -> Request to files/list_folder/continue\n",
      "2022-06-22 17:29:36,442-[INFO]- dropbox:477 -> Request to files/list_folder/continue\n",
      "2022-06-22 17:29:37,392-[INFO]- dropbox:477 -> Request to files/list_folder/continue\n",
      "2022-06-22 17:29:38,552-[INFO]- dropbox:477 -> Request to files/list_folder/continue\n",
      "2022-06-22 17:29:39,529-[INFO]- dropbox:477 -> Request to files/list_folder/continue\n",
      "2022-06-22 17:29:40,555-[INFO]- dropbox:477 -> Request to files/list_folder/continue\n",
      "2022-06-22 17:29:41,683-[INFO]- dropbox:477 -> Request to files/list_folder/continue\n",
      "2022-06-22 17:29:42,763-[INFO]- dropbox:477 -> Request to files/list_folder/continue\n",
      "2022-06-22 17:29:43,835-[INFO]- dropbox:477 -> Request to files/list_folder/continue\n",
      "2022-06-22 17:29:44,864-[INFO]- dropbox:477 -> Request to files/list_folder/continue\n",
      "2022-06-22 17:29:46,090-[INFO]- dropbox:477 -> Request to files/list_folder/continue\n",
      "2022-06-22 17:29:47,198-[INFO]- dropbox:477 -> Request to files/list_folder/continue\n",
      "2022-06-22 17:29:49,109-[INFO]- dropbox:477 -> Request to files/list_folder/continue\n",
      "2022-06-22 17:29:50,212-[INFO]- dropbox:477 -> Request to files/list_folder/continue\n",
      "2022-06-22 17:29:51,291-[INFO]- dropbox:477 -> Request to files/list_folder/continue\n",
      "2022-06-22 17:29:52,208-[INFO]- dropbox:477 -> Request to files/list_folder/continue\n",
      "2022-06-22 17:29:53,174-[INFO]- dropbox:477 -> Request to files/list_folder/continue\n",
      "2022-06-22 17:29:54,262-[INFO]- dropbox:477 -> Request to files/list_folder/continue\n",
      "2022-06-22 17:29:55,228-[INFO]- dropbox:477 -> Request to files/list_folder/continue\n",
      "2022-06-22 17:29:56,180-[INFO]- dropbox:477 -> Request to files/list_folder/continue\n",
      "2022-06-22 17:29:57,244-[INFO]- dropbox:477 -> Request to files/list_folder/continue\n",
      "2022-06-22 17:29:58,311-[INFO]- dropbox:477 -> Request to files/list_folder/continue\n",
      "2022-06-22 17:29:59,431-[INFO]- dropbox:477 -> Request to files/list_folder/continue\n",
      "2022-06-22 17:30:00,423-[INFO]- dropbox:477 -> Request to files/list_folder/continue\n",
      "2022-06-22 17:30:01,550-[INFO]- dropbox:477 -> Request to files/list_folder/continue\n",
      "2022-06-22 17:30:02,594-[INFO]- dropbox:477 -> Request to files/list_folder/continue\n",
      "2022-06-22 17:30:03,647-[INFO]- dropbox:477 -> Request to files/list_folder/continue\n",
      "2022-06-22 17:30:05,456-[INFO]- dropbox:477 -> Request to files/list_folder/continue\n",
      "2022-06-22 17:30:06,650-[INFO]- dropbox:477 -> Request to files/list_folder/continue\n",
      "2022-06-22 17:30:07,741-[INFO]- dropbox:477 -> Request to files/list_folder/continue\n",
      "2022-06-22 17:30:08,765-[INFO]- dropbox:477 -> Request to files/list_folder/continue\n",
      "2022-06-22 17:30:09,749-[INFO]- dropbox:477 -> Request to files/list_folder/continue\n",
      "2022-06-22 17:30:10,668-[INFO]- dropbox:477 -> Request to files/list_folder/continue\n",
      "2022-06-22 17:30:11,881-[INFO]- dropbox:477 -> Request to files/list_folder/continue\n",
      "2022-06-22 17:30:12,842-[INFO]- dropbox:477 -> Request to files/list_folder/continue\n",
      "2022-06-22 17:30:15,653-[INFO]- dropbox:477 -> Request to files/list_folder/continue\n",
      "2022-06-22 17:30:16,673-[INFO]- dropbox:477 -> Request to files/list_folder/continue\n",
      "2022-06-22 17:30:17,613-[INFO]- dropbox:477 -> Request to files/list_folder/continue\n",
      "2022-06-22 17:30:18,581-[INFO]- dropbox:477 -> Request to files/list_folder/continue\n",
      "2022-06-22 17:30:19,675-[INFO]- dropbox:477 -> Request to files/list_folder/continue\n",
      "2022-06-22 17:30:20,843-[INFO]- dropbox:477 -> Request to files/list_folder/continue\n",
      "2022-06-22 17:30:22,681-[INFO]- dropbox:477 -> Request to files/list_folder/continue\n",
      "2022-06-22 17:30:23,721-[INFO]- dropbox:477 -> Request to files/list_folder/continue\n",
      "2022-06-22 17:30:24,697-[INFO]- dropbox:477 -> Request to files/list_folder/continue\n",
      "2022-06-22 17:30:25,721-[INFO]- dropbox:477 -> Request to files/list_folder/continue\n",
      "2022-06-22 17:30:26,404-[INFO]- dropbox:477 -> Request to files/list_folder/continue\n",
      "2022-06-22 17:30:27,430-[INFO]- dropbox:477 -> Request to files/list_folder/continue\n",
      "2022-06-22 17:30:28,679-[INFO]- dropbox:477 -> Request to files/list_folder/continue\n",
      "2022-06-22 17:30:29,671-[INFO]- dropbox:477 -> Request to files/list_folder/continue\n",
      "2022-06-22 17:30:30,847-[INFO]- dropbox:477 -> Request to files/list_folder/continue\n",
      "2022-06-22 17:30:31,863-[INFO]- dropbox:477 -> Request to files/list_folder/continue\n",
      "2022-06-22 17:30:33,047-[INFO]- dropbox:477 -> Request to files/list_folder/continue\n",
      "2022-06-22 17:30:34,118-[INFO]- dropbox:477 -> Request to files/list_folder/continue\n",
      "2022-06-22 17:30:35,161-[INFO]- dropbox:477 -> Request to files/list_folder/continue\n",
      "2022-06-22 17:30:36,135-[INFO]- dropbox:477 -> Request to files/list_folder/continue\n",
      "2022-06-22 17:30:37,122-[INFO]- dropbox:477 -> Request to files/list_folder/continue\n",
      "2022-06-22 17:30:38,087-[INFO]- dropbox:477 -> Request to files/list_folder/continue\n",
      "2022-06-22 17:30:39,128-[INFO]- dropbox:477 -> Request to files/list_folder/continue\n",
      "2022-06-22 17:30:40,166-[INFO]- dropbox:477 -> Request to files/list_folder/continue\n",
      "2022-06-22 17:30:41,009-[INFO]- dropbox:477 -> Request to files/list_folder/continue\n",
      "2022-06-22 17:30:42,095-[INFO]- dropbox:477 -> Request to files/list_folder/continue\n",
      "2022-06-22 17:30:43,321-[INFO]- dropbox:477 -> Request to files/list_folder/continue\n",
      "2022-06-22 17:30:44,518-[INFO]- dropbox:477 -> Request to files/list_folder/continue\n",
      "2022-06-22 17:30:45,511-[INFO]- dropbox:477 -> Request to files/list_folder/continue\n",
      "2022-06-22 17:30:46,761-[INFO]- dropbox:477 -> Request to files/list_folder/continue\n",
      "2022-06-22 17:30:48,712-[INFO]- dropbox:477 -> Request to files/list_folder/continue\n",
      "2022-06-22 17:30:49,888-[INFO]- dropbox:477 -> Request to files/list_folder/continue\n",
      "2022-06-22 17:30:51,082-[INFO]- dropbox:477 -> Request to files/list_folder/continue\n",
      "2022-06-22 17:30:53,042-[INFO]- dropbox:477 -> Request to files/list_folder/continue\n",
      "2022-06-22 17:30:54,108-[INFO]- dropbox:477 -> Request to files/list_folder/continue\n",
      "2022-06-22 17:30:55,323-[INFO]- dropbox:477 -> Request to files/list_folder/continue\n",
      "2022-06-22 17:30:56,498-[INFO]- dropbox:477 -> Request to files/list_folder/continue\n",
      "2022-06-22 17:30:57,945-[INFO]- dropbox:477 -> Request to files/list_folder/continue\n",
      "2022-06-22 17:30:59,061-[INFO]- dropbox:477 -> Request to files/list_folder/continue\n",
      "2022-06-22 17:31:00,084-[INFO]- dropbox:477 -> Request to files/list_folder/continue\n",
      "2022-06-22 17:31:01,107-[INFO]- dropbox:477 -> Request to files/list_folder/continue\n",
      "2022-06-22 17:31:02,306-[INFO]- dropbox:477 -> Request to files/list_folder/continue\n",
      "2022-06-22 17:31:03,262-[INFO]- dropbox:477 -> Request to files/list_folder/continue\n",
      "2022-06-22 17:31:04,339-[INFO]- dropbox:477 -> Request to files/list_folder/continue\n",
      "2022-06-22 17:31:05,717-[INFO]- dropbox:477 -> Request to files/list_folder/continue\n",
      "2022-06-22 17:31:06,964-[INFO]- dropbox:477 -> Request to files/list_folder/continue\n",
      "2022-06-22 17:31:08,583-[INFO]- dropbox:477 -> Request to files/list_folder/continue\n",
      "2022-06-22 17:31:09,762-[INFO]- dropbox:477 -> Request to files/list_folder/continue\n",
      "2022-06-22 17:31:10,747-[INFO]- dropbox:477 -> Request to files/list_folder/continue\n",
      "2022-06-22 17:31:11,875-[INFO]- dropbox:477 -> Request to files/list_folder/continue\n",
      "2022-06-22 17:31:22,615-[INFO]- dropbox:477 -> Request to files/list_folder/continue\n",
      "2022-06-22 17:31:47,042-[INFO]- dropbox:477 -> Request to files/list_folder/continue\n",
      "2022-06-22 17:31:48,032-[INFO]- dropbox:477 -> Request to files/list_folder/continue\n",
      "2022-06-22 17:31:49,186-[INFO]- dropbox:477 -> Request to files/list_folder/continue\n",
      "2022-06-22 17:31:50,249-[INFO]- dropbox:477 -> Request to files/list_folder/continue\n",
      "2022-06-22 17:31:51,262-[INFO]- dropbox:477 -> Request to files/list_folder/continue\n",
      "2022-06-22 17:31:52,243-[INFO]- dropbox:477 -> Request to files/list_folder/continue\n",
      "2022-06-22 17:31:53,234-[INFO]- dropbox:477 -> Request to files/list_folder/continue\n",
      "2022-06-22 17:31:54,491-[INFO]- dropbox:477 -> Request to files/list_folder/continue\n",
      "2022-06-22 17:31:55,533-[INFO]- dropbox:477 -> Request to files/list_folder/continue\n",
      "2022-06-22 17:31:56,658-[INFO]- dropbox:477 -> Request to files/list_folder/continue\n",
      "2022-06-22 17:31:57,763-[INFO]- dropbox:477 -> Request to files/list_folder/continue\n",
      "2022-06-22 17:31:58,729-[INFO]- dropbox:477 -> Request to files/list_folder/continue\n",
      "2022-06-22 17:31:59,820-[INFO]- dropbox:477 -> Request to files/list_folder/continue\n",
      "2022-06-22 17:32:00,826-[INFO]- dropbox:477 -> Request to files/list_folder/continue\n",
      "2022-06-22 17:32:02,427-[INFO]- dropbox:477 -> Request to files/list_folder/continue\n",
      "2022-06-22 17:32:03,440-[INFO]- dropbox:477 -> Request to files/list_folder/continue\n",
      "2022-06-22 17:32:04,532-[INFO]- dropbox:477 -> Request to files/list_folder/continue\n",
      "2022-06-22 17:32:05,558-[INFO]- dropbox:477 -> Request to files/list_folder/continue\n",
      "2022-06-22 17:32:06,624-[INFO]- dropbox:477 -> Request to files/list_folder/continue\n",
      "2022-06-22 17:32:07,787-[INFO]- dropbox:477 -> Request to files/list_folder/continue\n",
      "2022-06-22 17:32:08,859-[INFO]- dropbox:477 -> Request to files/list_folder/continue\n",
      "2022-06-22 17:32:09,773-[INFO]- dropbox:477 -> Request to files/list_folder/continue\n",
      "2022-06-22 17:32:10,709-[INFO]- dropbox:477 -> Request to files/list_folder/continue\n",
      "2022-06-22 17:32:11,745-[INFO]- dropbox:477 -> Request to files/list_folder/continue\n",
      "2022-06-22 17:32:12,688-[INFO]- dropbox:477 -> Request to files/list_folder/continue\n",
      "2022-06-22 17:32:13,660-[INFO]- dropbox:477 -> Request to files/list_folder/continue\n",
      "2022-06-22 17:32:14,597-[INFO]- dropbox:477 -> Request to files/list_folder/continue\n",
      "2022-06-22 17:32:15,565-[INFO]- dropbox:477 -> Request to files/list_folder/continue\n",
      "2022-06-22 17:32:17,330-[INFO]- dropbox:477 -> Request to files/list_folder/continue\n",
      "2022-06-22 17:32:18,517-[INFO]- dropbox:477 -> Request to files/list_folder/continue\n",
      "2022-06-22 17:32:19,636-[INFO]- dropbox:477 -> Request to files/list_folder/continue\n",
      "2022-06-22 17:32:20,626-[INFO]- dropbox:477 -> Request to files/list_folder/continue\n",
      "2022-06-22 17:32:21,931-[INFO]- dropbox:477 -> Request to files/list_folder/continue\n",
      "2022-06-22 17:32:23,022-[INFO]- dropbox:477 -> Request to files/list_folder/continue\n",
      "2022-06-22 17:32:24,057-[INFO]- dropbox:477 -> Request to files/list_folder/continue\n",
      "2022-06-22 17:32:25,072-[INFO]- dropbox:477 -> Request to files/list_folder/continue\n",
      "2022-06-22 17:32:26,050-[INFO]- dropbox:477 -> Request to files/list_folder/continue\n",
      "2022-06-22 17:32:27,081-[INFO]- dropbox:477 -> Request to files/list_folder/continue\n",
      "2022-06-22 17:32:28,085-[INFO]- dropbox:477 -> Request to files/list_folder/continue\n",
      "2022-06-22 17:32:29,067-[INFO]- dropbox:477 -> Request to files/list_folder/continue\n",
      "2022-06-22 17:32:30,039-[INFO]- dropbox:477 -> Request to files/list_folder/continue\n",
      "2022-06-22 17:32:30,928-[INFO]- dropbox:477 -> Request to files/list_folder/continue\n",
      "2022-06-22 17:32:31,924-[INFO]- dropbox:477 -> Request to files/list_folder/continue\n",
      "2022-06-22 17:32:32,991-[INFO]- dropbox:477 -> Request to files/list_folder/continue\n",
      "2022-06-22 17:32:34,824-[INFO]- dropbox:477 -> Request to files/list_folder/continue\n",
      "2022-06-22 17:32:36,125-[INFO]- dropbox:477 -> Request to files/list_folder/continue\n",
      "2022-06-22 17:32:37,141-[INFO]- dropbox:477 -> Request to files/list_folder/continue\n",
      "2022-06-22 17:32:38,174-[INFO]- dropbox:477 -> Request to files/list_folder/continue\n",
      "2022-06-22 17:32:39,211-[INFO]- dropbox:477 -> Request to files/list_folder/continue\n",
      "2022-06-22 17:32:40,225-[INFO]- dropbox:477 -> Request to files/list_folder/continue\n",
      "2022-06-22 17:32:41,208-[INFO]- dropbox:477 -> Request to files/list_folder/continue\n",
      "2022-06-22 17:32:42,112-[INFO]- dropbox:477 -> Request to files/list_folder/continue\n",
      "2022-06-22 17:32:43,106-[INFO]- dropbox:477 -> Request to files/list_folder/continue\n",
      "2022-06-22 17:32:44,132-[INFO]- dropbox:477 -> Request to files/list_folder/continue\n",
      "2022-06-22 17:32:45,092-[INFO]- dropbox:477 -> Request to files/list_folder/continue\n",
      "2022-06-22 17:32:46,200-[INFO]- dropbox:477 -> Request to files/list_folder/continue\n",
      "2022-06-22 17:32:47,294-[INFO]- dropbox:477 -> Request to files/list_folder/continue\n",
      "2022-06-22 17:32:48,378-[INFO]- dropbox:477 -> Request to files/list_folder/continue\n",
      "2022-06-22 17:32:49,490-[INFO]- dropbox:477 -> Request to files/list_folder/continue\n",
      "2022-06-22 17:32:50,592-[INFO]- dropbox:477 -> Request to files/list_folder/continue\n",
      "2022-06-22 17:32:51,601-[INFO]- dropbox:477 -> Request to files/list_folder/continue\n",
      "2022-06-22 17:32:52,545-[INFO]- dropbox:477 -> Request to files/list_folder/continue\n",
      "2022-06-22 17:32:54,431-[INFO]- dropbox:477 -> Request to files/list_folder/continue\n"
     ]
    }
   ],
   "source": [
    "all_folders_drop = get_dropbox_folders(\"/DATA/PRINCE\", True)"
   ]
  },
  {
   "cell_type": "code",
   "execution_count": 5,
   "metadata": {
    "tags": []
   },
   "outputs": [],
   "source": [
    "# folders_drop = all_folders_drop.loc[all_folders_drop['CrossDate'].between(\"20181015\",\"20201015\")]\n",
    "folders_drop = all_folders_drop.loc[all_folders_drop[\"Plate\"] == \"102\"]"
   ]
  },
  {
   "cell_type": "code",
   "execution_count": 6,
   "metadata": {
    "collapsed": true,
    "jupyter": {
     "outputs_hidden": true
    },
    "tags": []
   },
   "outputs": [
    {
     "data": {
      "text/html": [
       "<div>\n",
       "<style scoped>\n",
       "    .dataframe tbody tr th:only-of-type {\n",
       "        vertical-align: middle;\n",
       "    }\n",
       "\n",
       "    .dataframe tbody tr th {\n",
       "        vertical-align: top;\n",
       "    }\n",
       "\n",
       "    .dataframe thead th {\n",
       "        text-align: right;\n",
       "    }\n",
       "</style>\n",
       "<table border=\"1\" class=\"dataframe\">\n",
       "  <thead>\n",
       "    <tr style=\"text-align: right;\">\n",
       "      <th></th>\n",
       "      <th>folder</th>\n",
       "      <th>size</th>\n",
       "      <th>change_date</th>\n",
       "      <th>tot_path_drop</th>\n",
       "      <th>Plate</th>\n",
       "      <th>CrossDate</th>\n",
       "      <th>unique_id</th>\n",
       "    </tr>\n",
       "  </thead>\n",
       "  <tbody>\n",
       "    <tr>\n",
       "      <th>6743</th>\n",
       "      <td>20210105_1945_Plate40</td>\n",
       "      <td>NaN</td>\n",
       "      <td>2022-06-03 15:13:34</td>\n",
       "      <td>data/prince/102_20201226/20210105_1945_plate40</td>\n",
       "      <td>102</td>\n",
       "      <td>20201226</td>\n",
       "      <td>102_20201226</td>\n",
       "    </tr>\n",
       "    <tr>\n",
       "      <th>14633</th>\n",
       "      <td>20210113_0743_Plate40</td>\n",
       "      <td>NaN</td>\n",
       "      <td>2022-05-20 00:54:19</td>\n",
       "      <td>data/prince/102_20201226/20210113_0743_plate40</td>\n",
       "      <td>102</td>\n",
       "      <td>20201226</td>\n",
       "      <td>102_20201226</td>\n",
       "    </tr>\n",
       "    <tr>\n",
       "      <th>14637</th>\n",
       "      <td>20210113_0343_Plate40</td>\n",
       "      <td>NaN</td>\n",
       "      <td>2022-05-20 00:53:50</td>\n",
       "      <td>data/prince/102_20201226/20210113_0343_plate40</td>\n",
       "      <td>102</td>\n",
       "      <td>20201226</td>\n",
       "      <td>102_20201226</td>\n",
       "    </tr>\n",
       "    <tr>\n",
       "      <th>14638</th>\n",
       "      <td>20210112_2343_Plate40</td>\n",
       "      <td>NaN</td>\n",
       "      <td>2022-05-20 00:53:33</td>\n",
       "      <td>data/prince/102_20201226/20210112_2343_plate40</td>\n",
       "      <td>102</td>\n",
       "      <td>20201226</td>\n",
       "      <td>102_20201226</td>\n",
       "    </tr>\n",
       "    <tr>\n",
       "      <th>14642</th>\n",
       "      <td>20210112_1943_Plate40</td>\n",
       "      <td>NaN</td>\n",
       "      <td>2022-05-20 00:53:28</td>\n",
       "      <td>data/prince/102_20201226/20210112_1943_plate40</td>\n",
       "      <td>102</td>\n",
       "      <td>20201226</td>\n",
       "      <td>102_20201226</td>\n",
       "    </tr>\n",
       "    <tr>\n",
       "      <th>...</th>\n",
       "      <td>...</td>\n",
       "      <td>...</td>\n",
       "      <td>...</td>\n",
       "      <td>...</td>\n",
       "      <td>...</td>\n",
       "      <td>...</td>\n",
       "      <td>...</td>\n",
       "    </tr>\n",
       "    <tr>\n",
       "      <th>15383</th>\n",
       "      <td>20201227_0403_Plate40</td>\n",
       "      <td>NaN</td>\n",
       "      <td>2022-05-20 00:13:27</td>\n",
       "      <td>data/prince/102_20201226/20201227_0403_plate40</td>\n",
       "      <td>102</td>\n",
       "      <td>20201226</td>\n",
       "      <td>102_20201226</td>\n",
       "    </tr>\n",
       "    <tr>\n",
       "      <th>15388</th>\n",
       "      <td>20201227_0003_Plate40</td>\n",
       "      <td>NaN</td>\n",
       "      <td>2022-05-20 00:13:19</td>\n",
       "      <td>data/prince/102_20201226/20201227_0003_plate40</td>\n",
       "      <td>102</td>\n",
       "      <td>20201226</td>\n",
       "      <td>102_20201226</td>\n",
       "    </tr>\n",
       "    <tr>\n",
       "      <th>15410</th>\n",
       "      <td>20201226_2004_Plate40</td>\n",
       "      <td>NaN</td>\n",
       "      <td>2022-05-20 00:11:44</td>\n",
       "      <td>data/prince/102_20201226/20201226_2004_plate40</td>\n",
       "      <td>102</td>\n",
       "      <td>20201226</td>\n",
       "      <td>102_20201226</td>\n",
       "    </tr>\n",
       "    <tr>\n",
       "      <th>15424</th>\n",
       "      <td>20201226_1603_Plate40</td>\n",
       "      <td>NaN</td>\n",
       "      <td>2022-05-20 00:10:47</td>\n",
       "      <td>data/prince/102_20201226/20201226_1603_plate40</td>\n",
       "      <td>102</td>\n",
       "      <td>20201226</td>\n",
       "      <td>102_20201226</td>\n",
       "    </tr>\n",
       "    <tr>\n",
       "      <th>15440</th>\n",
       "      <td>20201226_1224_Plate40</td>\n",
       "      <td>NaN</td>\n",
       "      <td>2022-05-20 00:09:49</td>\n",
       "      <td>data/prince/102_20201226/20201226_1224_plate40</td>\n",
       "      <td>102</td>\n",
       "      <td>20201226</td>\n",
       "      <td>102_20201226</td>\n",
       "    </tr>\n",
       "  </tbody>\n",
       "</table>\n",
       "<p>103 rows × 7 columns</p>\n",
       "</div>"
      ],
      "text/plain": [
       "                      folder size         change_date  \\\n",
       "6743   20210105_1945_Plate40  NaN 2022-06-03 15:13:34   \n",
       "14633  20210113_0743_Plate40  NaN 2022-05-20 00:54:19   \n",
       "14637  20210113_0343_Plate40  NaN 2022-05-20 00:53:50   \n",
       "14638  20210112_2343_Plate40  NaN 2022-05-20 00:53:33   \n",
       "14642  20210112_1943_Plate40  NaN 2022-05-20 00:53:28   \n",
       "...                      ...  ...                 ...   \n",
       "15383  20201227_0403_Plate40  NaN 2022-05-20 00:13:27   \n",
       "15388  20201227_0003_Plate40  NaN 2022-05-20 00:13:19   \n",
       "15410  20201226_2004_Plate40  NaN 2022-05-20 00:11:44   \n",
       "15424  20201226_1603_Plate40  NaN 2022-05-20 00:10:47   \n",
       "15440  20201226_1224_Plate40  NaN 2022-05-20 00:09:49   \n",
       "\n",
       "                                        tot_path_drop Plate CrossDate  \\\n",
       "6743   data/prince/102_20201226/20210105_1945_plate40   102  20201226   \n",
       "14633  data/prince/102_20201226/20210113_0743_plate40   102  20201226   \n",
       "14637  data/prince/102_20201226/20210113_0343_plate40   102  20201226   \n",
       "14638  data/prince/102_20201226/20210112_2343_plate40   102  20201226   \n",
       "14642  data/prince/102_20201226/20210112_1943_plate40   102  20201226   \n",
       "...                                               ...   ...       ...   \n",
       "15383  data/prince/102_20201226/20201227_0403_plate40   102  20201226   \n",
       "15388  data/prince/102_20201226/20201227_0003_plate40   102  20201226   \n",
       "15410  data/prince/102_20201226/20201226_2004_plate40   102  20201226   \n",
       "15424  data/prince/102_20201226/20201226_1603_plate40   102  20201226   \n",
       "15440  data/prince/102_20201226/20201226_1224_plate40   102  20201226   \n",
       "\n",
       "          unique_id  \n",
       "6743   102_20201226  \n",
       "14633  102_20201226  \n",
       "14637  102_20201226  \n",
       "14638  102_20201226  \n",
       "14642  102_20201226  \n",
       "...             ...  \n",
       "15383  102_20201226  \n",
       "15388  102_20201226  \n",
       "15410  102_20201226  \n",
       "15424  102_20201226  \n",
       "15440  102_20201226  \n",
       "\n",
       "[103 rows x 7 columns]"
      ]
     },
     "execution_count": 6,
     "metadata": {},
     "output_type": "execute_result"
    }
   ],
   "source": [
    "folders_drop"
   ]
  },
  {
   "cell_type": "markdown",
   "metadata": {},
   "source": [
    "- select the path where the folders should go"
   ]
  },
  {
   "cell_type": "code",
   "execution_count": 10,
   "metadata": {},
   "outputs": [],
   "source": [
    "# directory_targ = '/mnt/sun-temp/TEMP/PRINCE_Felix/'\n",
    "directory_targ = '/mnt/sun/home-folder/oyartegalvez/Drive_AMFtopology/PRINCE/DATA/'"
   ]
  },
  {
   "cell_type": "markdown",
   "metadata": {},
   "source": [
    "- use the 'from_drop.py' function including the folders of interest"
   ]
  },
  {
   "cell_type": "code",
   "execution_count": null,
   "metadata": {
    "collapsed": true,
    "jupyter": {
     "outputs_hidden": true
    },
    "tags": []
   },
   "outputs": [
    {
     "data": {
      "application/vnd.jupyter.widget-view+json": {
       "model_id": "09b4473bfd1e4ddfa185a828f43427ef",
       "version_major": 2,
       "version_minor": 0
      },
      "text/plain": [
       "folder_treated:   0%|          | 0/103 [00:00<?, ?it/s]"
      ]
     },
     "metadata": {},
     "output_type": "display_data"
    },
    {
     "name": "stdout",
     "output_type": "stream",
     "text": [
      "python3 /home/ipausers/bisot/pycode/MscThesis/amftrack/transfer/scripts/from_drop.py /mnt/sun/home-folder/oyartegalvez/Drive_AMFtopology/PRINCE/DATA/ 1655912338045867176 0\n",
      "python3 /home/ipausers/bisot/pycode/MscThesis/amftrack/transfer/scripts/from_drop.py /mnt/sun/home-folder/oyartegalvez/Drive_AMFtopology/PRINCE/DATA/ 1655912338045867176 1\n",
      "python3 /home/ipausers/bisot/pycode/MscThesis/amftrack/transfer/scripts/from_drop.py /mnt/sun/home-folder/oyartegalvez/Drive_AMFtopology/PRINCE/DATA/ 1655912338045867176 2\n",
      "python3 /home/ipausers/bisot/pycode/MscThesis/amftrack/transfer/scripts/from_drop.py /mnt/sun/home-folder/oyartegalvez/Drive_AMFtopology/PRINCE/DATA/ 1655912338045867176 3\n",
      "python3 /home/ipausers/bisot/pycode/MscThesis/amftrack/transfer/scripts/from_drop.py /mnt/sun/home-folder/oyartegalvez/Drive_AMFtopology/PRINCE/DATA/ 1655912338045867176 4\n",
      "python3 /home/ipausers/bisot/pycode/MscThesis/amftrack/transfer/scripts/from_drop.py /mnt/sun/home-folder/oyartegalvez/Drive_AMFtopology/PRINCE/DATA/ 1655912338045867176 5\n",
      "python3 /home/ipausers/bisot/pycode/MscThesis/amftrack/transfer/scripts/from_drop.py /mnt/sun/home-folder/oyartegalvez/Drive_AMFtopology/PRINCE/DATA/ 1655912338045867176 6\n",
      "python3 /home/ipausers/bisot/pycode/MscThesis/amftrack/transfer/scripts/from_drop.py /mnt/sun/home-folder/oyartegalvez/Drive_AMFtopology/PRINCE/DATA/ 1655912338045867176 7\n",
      "python3 /home/ipausers/bisot/pycode/MscThesis/amftrack/transfer/scripts/from_drop.py /mnt/sun/home-folder/oyartegalvez/Drive_AMFtopology/PRINCE/DATA/ 1655912338045867176 8\n",
      "python3 /home/ipausers/bisot/pycode/MscThesis/amftrack/transfer/scripts/from_drop.py /mnt/sun/home-folder/oyartegalvez/Drive_AMFtopology/PRINCE/DATA/ 1655912338045867176 9\n",
      "python3 /home/ipausers/bisot/pycode/MscThesis/amftrack/transfer/scripts/from_drop.py /mnt/sun/home-folder/oyartegalvez/Drive_AMFtopology/PRINCE/DATA/ 1655912338045867176 10\n",
      "python3 /home/ipausers/bisot/pycode/MscThesis/amftrack/transfer/scripts/from_drop.py /mnt/sun/home-folder/oyartegalvez/Drive_AMFtopology/PRINCE/DATA/ 1655912338045867176 11\n",
      "python3 /home/ipausers/bisot/pycode/MscThesis/amftrack/transfer/scripts/from_drop.py /mnt/sun/home-folder/oyartegalvez/Drive_AMFtopology/PRINCE/DATA/ 1655912338045867176 12\n",
      "python3 /home/ipausers/bisot/pycode/MscThesis/amftrack/transfer/scripts/from_drop.py /mnt/sun/home-folder/oyartegalvez/Drive_AMFtopology/PRINCE/DATA/ 1655912338045867176 13\n",
      "python3 /home/ipausers/bisot/pycode/MscThesis/amftrack/transfer/scripts/from_drop.py /mnt/sun/home-folder/oyartegalvez/Drive_AMFtopology/PRINCE/DATA/ 1655912338045867176 14\n",
      "python3 /home/ipausers/bisot/pycode/MscThesis/amftrack/transfer/scripts/from_drop.py /mnt/sun/home-folder/oyartegalvez/Drive_AMFtopology/PRINCE/DATA/ 1655912338045867176 15\n",
      "python3 /home/ipausers/bisot/pycode/MscThesis/amftrack/transfer/scripts/from_drop.py /mnt/sun/home-folder/oyartegalvez/Drive_AMFtopology/PRINCE/DATA/ 1655912338045867176 16\n",
      "python3 /home/ipausers/bisot/pycode/MscThesis/amftrack/transfer/scripts/from_drop.py /mnt/sun/home-folder/oyartegalvez/Drive_AMFtopology/PRINCE/DATA/ 1655912338045867176 17\n",
      "python3 /home/ipausers/bisot/pycode/MscThesis/amftrack/transfer/scripts/from_drop.py /mnt/sun/home-folder/oyartegalvez/Drive_AMFtopology/PRINCE/DATA/ 1655912338045867176 18\n",
      "python3 /home/ipausers/bisot/pycode/MscThesis/amftrack/transfer/scripts/from_drop.py /mnt/sun/home-folder/oyartegalvez/Drive_AMFtopology/PRINCE/DATA/ 1655912338045867176 19\n",
      "python3 /home/ipausers/bisot/pycode/MscThesis/amftrack/transfer/scripts/from_drop.py /mnt/sun/home-folder/oyartegalvez/Drive_AMFtopology/PRINCE/DATA/ 1655912338045867176 20\n",
      "python3 /home/ipausers/bisot/pycode/MscThesis/amftrack/transfer/scripts/from_drop.py /mnt/sun/home-folder/oyartegalvez/Drive_AMFtopology/PRINCE/DATA/ 1655912338045867176 21\n",
      "python3 /home/ipausers/bisot/pycode/MscThesis/amftrack/transfer/scripts/from_drop.py /mnt/sun/home-folder/oyartegalvez/Drive_AMFtopology/PRINCE/DATA/ 1655912338045867176 22\n",
      "python3 /home/ipausers/bisot/pycode/MscThesis/amftrack/transfer/scripts/from_drop.py /mnt/sun/home-folder/oyartegalvez/Drive_AMFtopology/PRINCE/DATA/ 1655912338045867176 23\n",
      "python3 /home/ipausers/bisot/pycode/MscThesis/amftrack/transfer/scripts/from_drop.py /mnt/sun/home-folder/oyartegalvez/Drive_AMFtopology/PRINCE/DATA/ 1655912338045867176 24\n",
      "python3 /home/ipausers/bisot/pycode/MscThesis/amftrack/transfer/scripts/from_drop.py /mnt/sun/home-folder/oyartegalvez/Drive_AMFtopology/PRINCE/DATA/ 1655912338045867176 25\n",
      "python3 /home/ipausers/bisot/pycode/MscThesis/amftrack/transfer/scripts/from_drop.py /mnt/sun/home-folder/oyartegalvez/Drive_AMFtopology/PRINCE/DATA/ 1655912338045867176 26\n",
      "python3 /home/ipausers/bisot/pycode/MscThesis/amftrack/transfer/scripts/from_drop.py /mnt/sun/home-folder/oyartegalvez/Drive_AMFtopology/PRINCE/DATA/ 1655912338045867176 27\n",
      "python3 /home/ipausers/bisot/pycode/MscThesis/amftrack/transfer/scripts/from_drop.py /mnt/sun/home-folder/oyartegalvez/Drive_AMFtopology/PRINCE/DATA/ 1655912338045867176 28\n",
      "python3 /home/ipausers/bisot/pycode/MscThesis/amftrack/transfer/scripts/from_drop.py /mnt/sun/home-folder/oyartegalvez/Drive_AMFtopology/PRINCE/DATA/ 1655912338045867176 29\n",
      "python3 /home/ipausers/bisot/pycode/MscThesis/amftrack/transfer/scripts/from_drop.py /mnt/sun/home-folder/oyartegalvez/Drive_AMFtopology/PRINCE/DATA/ 1655912338045867176 30\n",
      "python3 /home/ipausers/bisot/pycode/MscThesis/amftrack/transfer/scripts/from_drop.py /mnt/sun/home-folder/oyartegalvez/Drive_AMFtopology/PRINCE/DATA/ 1655912338045867176 31\n",
      "python3 /home/ipausers/bisot/pycode/MscThesis/amftrack/transfer/scripts/from_drop.py /mnt/sun/home-folder/oyartegalvez/Drive_AMFtopology/PRINCE/DATA/ 1655912338045867176 32\n",
      "python3 /home/ipausers/bisot/pycode/MscThesis/amftrack/transfer/scripts/from_drop.py /mnt/sun/home-folder/oyartegalvez/Drive_AMFtopology/PRINCE/DATA/ 1655912338045867176 33\n",
      "python3 /home/ipausers/bisot/pycode/MscThesis/amftrack/transfer/scripts/from_drop.py /mnt/sun/home-folder/oyartegalvez/Drive_AMFtopology/PRINCE/DATA/ 1655912338045867176 34\n",
      "python3 /home/ipausers/bisot/pycode/MscThesis/amftrack/transfer/scripts/from_drop.py /mnt/sun/home-folder/oyartegalvez/Drive_AMFtopology/PRINCE/DATA/ 1655912338045867176 35\n",
      "python3 /home/ipausers/bisot/pycode/MscThesis/amftrack/transfer/scripts/from_drop.py /mnt/sun/home-folder/oyartegalvez/Drive_AMFtopology/PRINCE/DATA/ 1655912338045867176 36\n",
      "python3 /home/ipausers/bisot/pycode/MscThesis/amftrack/transfer/scripts/from_drop.py /mnt/sun/home-folder/oyartegalvez/Drive_AMFtopology/PRINCE/DATA/ 1655912338045867176 37\n",
      "python3 /home/ipausers/bisot/pycode/MscThesis/amftrack/transfer/scripts/from_drop.py /mnt/sun/home-folder/oyartegalvez/Drive_AMFtopology/PRINCE/DATA/ 1655912338045867176 38\n",
      "python3 /home/ipausers/bisot/pycode/MscThesis/amftrack/transfer/scripts/from_drop.py /mnt/sun/home-folder/oyartegalvez/Drive_AMFtopology/PRINCE/DATA/ 1655912338045867176 39\n",
      "python3 /home/ipausers/bisot/pycode/MscThesis/amftrack/transfer/scripts/from_drop.py /mnt/sun/home-folder/oyartegalvez/Drive_AMFtopology/PRINCE/DATA/ 1655912338045867176 40\n",
      "python3 /home/ipausers/bisot/pycode/MscThesis/amftrack/transfer/scripts/from_drop.py /mnt/sun/home-folder/oyartegalvez/Drive_AMFtopology/PRINCE/DATA/ 1655912338045867176 41\n",
      "python3 /home/ipausers/bisot/pycode/MscThesis/amftrack/transfer/scripts/from_drop.py /mnt/sun/home-folder/oyartegalvez/Drive_AMFtopology/PRINCE/DATA/ 1655912338045867176 42\n",
      "python3 /home/ipausers/bisot/pycode/MscThesis/amftrack/transfer/scripts/from_drop.py /mnt/sun/home-folder/oyartegalvez/Drive_AMFtopology/PRINCE/DATA/ 1655912338045867176 43\n",
      "python3 /home/ipausers/bisot/pycode/MscThesis/amftrack/transfer/scripts/from_drop.py /mnt/sun/home-folder/oyartegalvez/Drive_AMFtopology/PRINCE/DATA/ 1655912338045867176 44\n",
      "python3 /home/ipausers/bisot/pycode/MscThesis/amftrack/transfer/scripts/from_drop.py /mnt/sun/home-folder/oyartegalvez/Drive_AMFtopology/PRINCE/DATA/ 1655912338045867176 45\n"
     ]
    }
   ],
   "source": [
    "run_transfer(\n",
    "    \"from_drop.py\",\n",
    "    [directory_targ],\n",
    "    folders_drop,\n",
    ")\n",
    "clear_output(wait=False)"
   ]
  },
  {
   "cell_type": "markdown",
   "metadata": {},
   "source": [
    "**To transfer data from dropbox to archive**\n",
    "- use the 'from_drop.py' function including the folders of interest\n"
   ]
  },
  {
   "cell_type": "code",
   "execution_count": 4,
   "metadata": {},
   "outputs": [],
   "source": [
    "folders = all_folders.loc[all_folders[\"Plate\"].isin([792, 94])]"
   ]
  },
  {
   "cell_type": "code",
   "execution_count": 48,
   "metadata": {},
   "outputs": [
    {
     "data": {
      "text/plain": [
       "1858"
      ]
     },
     "execution_count": 48,
     "metadata": {},
     "output_type": "execute_result"
    }
   ],
   "source": [
    "len(folders)"
   ]
  },
  {
   "cell_type": "code",
   "execution_count": 47,
   "metadata": {
    "collapsed": true,
    "jupyter": {
     "outputs_hidden": true
    },
    "tags": []
   },
   "outputs": [
    {
     "name": "stderr",
     "output_type": "stream",
     "text": [
      "sbatch: Single node jobs run on a shared node by default. Add --exclusive if you want to use a node exclusively.\n",
      "sbatch: You will be charged for 0.03125 node. A full node consists of 32 CPU cores, 240000 MiB of memory and 0 GPUs and can be shared by up to 32 jobs.\n",
      "sbatch: Single node jobs run on a shared node by default. Add --exclusive if you want to use a node exclusively.\n",
      "sbatch: You will be charged for 0.03125 node. A full node consists of 32 CPU cores, 240000 MiB of memory and 0 GPUs and can be shared by up to 32 jobs.\n",
      "sbatch: Single node jobs run on a shared node by default. Add --exclusive if you want to use a node exclusively.\n",
      "sbatch: You will be charged for 0.03125 node. A full node consists of 32 CPU cores, 240000 MiB of memory and 0 GPUs and can be shared by up to 32 jobs.\n",
      "sbatch: Single node jobs run on a shared node by default. Add --exclusive if you want to use a node exclusively.\n",
      "sbatch: You will be charged for 0.03125 node. A full node consists of 32 CPU cores, 240000 MiB of memory and 0 GPUs and can be shared by up to 32 jobs.\n"
     ]
    },
    {
     "name": "stdout",
     "output_type": "stream",
     "text": [
      "Submitted batch job 418130\n",
      "Submitted batch job 418131\n",
      "Submitted batch job 418132\n",
      "Submitted batch job 418133\n"
     ]
    },
    {
     "name": "stderr",
     "output_type": "stream",
     "text": [
      "sbatch: Single node jobs run on a shared node by default. Add --exclusive if you want to use a node exclusively.\n",
      "sbatch: You will be charged for 0.03125 node. A full node consists of 32 CPU cores, 240000 MiB of memory and 0 GPUs and can be shared by up to 32 jobs.\n",
      "sbatch: Single node jobs run on a shared node by default. Add --exclusive if you want to use a node exclusively.\n",
      "sbatch: You will be charged for 0.03125 node. A full node consists of 32 CPU cores, 240000 MiB of memory and 0 GPUs and can be shared by up to 32 jobs.\n",
      "sbatch: Single node jobs run on a shared node by default. Add --exclusive if you want to use a node exclusively.\n",
      "sbatch: You will be charged for 0.03125 node. A full node consists of 32 CPU cores, 240000 MiB of memory and 0 GPUs and can be shared by up to 32 jobs.\n",
      "sbatch: Single node jobs run on a shared node by default. Add --exclusive if you want to use a node exclusively.\n",
      "sbatch: You will be charged for 0.03125 node. A full node consists of 32 CPU cores, 240000 MiB of memory and 0 GPUs and can be shared by up to 32 jobs.\n"
     ]
    },
    {
     "name": "stdout",
     "output_type": "stream",
     "text": [
      "Submitted batch job 418134\n",
      "Submitted batch job 418135\n",
      "Submitted batch job 418136\n",
      "Submitted batch job 418138\n"
     ]
    },
    {
     "name": "stderr",
     "output_type": "stream",
     "text": [
      "sbatch: Single node jobs run on a shared node by default. Add --exclusive if you want to use a node exclusively.\n",
      "sbatch: You will be charged for 0.03125 node. A full node consists of 32 CPU cores, 240000 MiB of memory and 0 GPUs and can be shared by up to 32 jobs.\n",
      "sbatch: Single node jobs run on a shared node by default. Add --exclusive if you want to use a node exclusively.\n",
      "sbatch: You will be charged for 0.03125 node. A full node consists of 32 CPU cores, 240000 MiB of memory and 0 GPUs and can be shared by up to 32 jobs.\n",
      "sbatch: Single node jobs run on a shared node by default. Add --exclusive if you want to use a node exclusively.\n",
      "sbatch: You will be charged for 0.03125 node. A full node consists of 32 CPU cores, 240000 MiB of memory and 0 GPUs and can be shared by up to 32 jobs.\n",
      "sbatch: Single node jobs run on a shared node by default. Add --exclusive if you want to use a node exclusively.\n",
      "sbatch: You will be charged for 0.03125 node. A full node consists of 32 CPU cores, 240000 MiB of memory and 0 GPUs and can be shared by up to 32 jobs.\n"
     ]
    },
    {
     "name": "stdout",
     "output_type": "stream",
     "text": [
      "Submitted batch job 418139\n",
      "Submitted batch job 418140\n",
      "Submitted batch job 418141\n",
      "Submitted batch job 418142\n"
     ]
    },
    {
     "name": "stderr",
     "output_type": "stream",
     "text": [
      "sbatch: Single node jobs run on a shared node by default. Add --exclusive if you want to use a node exclusively.\n",
      "sbatch: You will be charged for 0.03125 node. A full node consists of 32 CPU cores, 240000 MiB of memory and 0 GPUs and can be shared by up to 32 jobs.\n",
      "sbatch: Single node jobs run on a shared node by default. Add --exclusive if you want to use a node exclusively.\n",
      "sbatch: You will be charged for 0.03125 node. A full node consists of 32 CPU cores, 240000 MiB of memory and 0 GPUs and can be shared by up to 32 jobs.\n",
      "sbatch: Single node jobs run on a shared node by default. Add --exclusive if you want to use a node exclusively.\n",
      "sbatch: You will be charged for 0.03125 node. A full node consists of 32 CPU cores, 240000 MiB of memory and 0 GPUs and can be shared by up to 32 jobs.\n",
      "sbatch: Single node jobs run on a shared node by default. Add --exclusive if you want to use a node exclusively.\n",
      "sbatch: You will be charged for 0.03125 node. A full node consists of 32 CPU cores, 240000 MiB of memory and 0 GPUs and can be shared by up to 32 jobs.\n"
     ]
    },
    {
     "name": "stdout",
     "output_type": "stream",
     "text": [
      "Submitted batch job 418143\n",
      "Submitted batch job 418144\n",
      "Submitted batch job 418145\n",
      "Submitted batch job 418146\n"
     ]
    },
    {
     "name": "stderr",
     "output_type": "stream",
     "text": [
      "sbatch: Single node jobs run on a shared node by default. Add --exclusive if you want to use a node exclusively.\n",
      "sbatch: You will be charged for 0.03125 node. A full node consists of 32 CPU cores, 240000 MiB of memory and 0 GPUs and can be shared by up to 32 jobs.\n",
      "sbatch: Single node jobs run on a shared node by default. Add --exclusive if you want to use a node exclusively.\n",
      "sbatch: You will be charged for 0.03125 node. A full node consists of 32 CPU cores, 240000 MiB of memory and 0 GPUs and can be shared by up to 32 jobs.\n",
      "sbatch: Single node jobs run on a shared node by default. Add --exclusive if you want to use a node exclusively.\n",
      "sbatch: You will be charged for 0.03125 node. A full node consists of 32 CPU cores, 240000 MiB of memory and 0 GPUs and can be shared by up to 32 jobs.\n",
      "sbatch: Single node jobs run on a shared node by default. Add --exclusive if you want to use a node exclusively.\n",
      "sbatch: You will be charged for 0.03125 node. A full node consists of 32 CPU cores, 240000 MiB of memory and 0 GPUs and can be shared by up to 32 jobs.\n"
     ]
    },
    {
     "name": "stdout",
     "output_type": "stream",
     "text": [
      "Submitted batch job 418147\n",
      "Submitted batch job 418148\n",
      "Submitted batch job 418149\n",
      "Submitted batch job 418150\n"
     ]
    },
    {
     "name": "stderr",
     "output_type": "stream",
     "text": [
      "sbatch: Single node jobs run on a shared node by default. Add --exclusive if you want to use a node exclusively.\n",
      "sbatch: You will be charged for 0.03125 node. A full node consists of 32 CPU cores, 240000 MiB of memory and 0 GPUs and can be shared by up to 32 jobs.\n",
      "sbatch: Single node jobs run on a shared node by default. Add --exclusive if you want to use a node exclusively.\n",
      "sbatch: You will be charged for 0.03125 node. A full node consists of 32 CPU cores, 240000 MiB of memory and 0 GPUs and can be shared by up to 32 jobs.\n",
      "sbatch: Single node jobs run on a shared node by default. Add --exclusive if you want to use a node exclusively.\n",
      "sbatch: You will be charged for 0.03125 node. A full node consists of 32 CPU cores, 240000 MiB of memory and 0 GPUs and can be shared by up to 32 jobs.\n",
      "sbatch: Single node jobs run on a shared node by default. Add --exclusive if you want to use a node exclusively.\n",
      "sbatch: You will be charged for 0.03125 node. A full node consists of 32 CPU cores, 240000 MiB of memory and 0 GPUs and can be shared by up to 32 jobs.\n"
     ]
    },
    {
     "name": "stdout",
     "output_type": "stream",
     "text": [
      "Submitted batch job 418151\n",
      "Submitted batch job 418152\n",
      "Submitted batch job 418153\n",
      "Submitted batch job 418154\n"
     ]
    },
    {
     "name": "stderr",
     "output_type": "stream",
     "text": [
      "sbatch: Single node jobs run on a shared node by default. Add --exclusive if you want to use a node exclusively.\n",
      "sbatch: You will be charged for 0.03125 node. A full node consists of 32 CPU cores, 240000 MiB of memory and 0 GPUs and can be shared by up to 32 jobs.\n",
      "sbatch: Single node jobs run on a shared node by default. Add --exclusive if you want to use a node exclusively.\n",
      "sbatch: You will be charged for 0.03125 node. A full node consists of 32 CPU cores, 240000 MiB of memory and 0 GPUs and can be shared by up to 32 jobs.\n",
      "sbatch: Single node jobs run on a shared node by default. Add --exclusive if you want to use a node exclusively.\n",
      "sbatch: You will be charged for 0.03125 node. A full node consists of 32 CPU cores, 240000 MiB of memory and 0 GPUs and can be shared by up to 32 jobs.\n",
      "sbatch: Single node jobs run on a shared node by default. Add --exclusive if you want to use a node exclusively.\n",
      "sbatch: You will be charged for 0.03125 node. A full node consists of 32 CPU cores, 240000 MiB of memory and 0 GPUs and can be shared by up to 32 jobs.\n"
     ]
    },
    {
     "name": "stdout",
     "output_type": "stream",
     "text": [
      "Submitted batch job 418155\n",
      "Submitted batch job 418156\n",
      "Submitted batch job 418157\n",
      "Submitted batch job 418158\n",
      "Submitted batch job 418160\n",
      "Submitted batch job 418161\n",
      "Submitted batch job 418162\n",
      "Submitted batch job 418163\n"
     ]
    },
    {
     "name": "stderr",
     "output_type": "stream",
     "text": [
      "sbatch: Single node jobs run on a shared node by default. Add --exclusive if you want to use a node exclusively.\n",
      "sbatch: You will be charged for 0.03125 node. A full node consists of 32 CPU cores, 240000 MiB of memory and 0 GPUs and can be shared by up to 32 jobs.\n",
      "sbatch: Single node jobs run on a shared node by default. Add --exclusive if you want to use a node exclusively.\n",
      "sbatch: You will be charged for 0.03125 node. A full node consists of 32 CPU cores, 240000 MiB of memory and 0 GPUs and can be shared by up to 32 jobs.\n",
      "sbatch: Single node jobs run on a shared node by default. Add --exclusive if you want to use a node exclusively.\n",
      "sbatch: You will be charged for 0.03125 node. A full node consists of 32 CPU cores, 240000 MiB of memory and 0 GPUs and can be shared by up to 32 jobs.\n",
      "sbatch: Single node jobs run on a shared node by default. Add --exclusive if you want to use a node exclusively.\n",
      "sbatch: You will be charged for 0.03125 node. A full node consists of 32 CPU cores, 240000 MiB of memory and 0 GPUs and can be shared by up to 32 jobs.\n",
      "sbatch: Single node jobs run on a shared node by default. Add --exclusive if you want to use a node exclusively.\n",
      "sbatch: You will be charged for 0.03125 node. A full node consists of 32 CPU cores, 240000 MiB of memory and 0 GPUs and can be shared by up to 32 jobs.\n",
      "sbatch: Single node jobs run on a shared node by default. Add --exclusive if you want to use a node exclusively.\n",
      "sbatch: You will be charged for 0.03125 node. A full node consists of 32 CPU cores, 240000 MiB of memory and 0 GPUs and can be shared by up to 32 jobs.\n",
      "sbatch: Single node jobs run on a shared node by default. Add --exclusive if you want to use a node exclusively.\n",
      "sbatch: You will be charged for 0.03125 node. A full node consists of 32 CPU cores, 240000 MiB of memory and 0 GPUs and can be shared by up to 32 jobs.\n",
      "sbatch: Single node jobs run on a shared node by default. Add --exclusive if you want to use a node exclusively.\n",
      "sbatch: You will be charged for 0.03125 node. A full node consists of 32 CPU cores, 240000 MiB of memory and 0 GPUs and can be shared by up to 32 jobs.\n"
     ]
    },
    {
     "name": "stdout",
     "output_type": "stream",
     "text": [
      "Submitted batch job 418164\n",
      "Submitted batch job 418165\n",
      "Submitted batch job 418166\n",
      "Submitted batch job 418167\n",
      "Submitted batch job 418168\n",
      "Submitted batch job 418169\n",
      "Submitted batch job 418170\n",
      "Submitted batch job 418171\n"
     ]
    },
    {
     "name": "stderr",
     "output_type": "stream",
     "text": [
      "sbatch: Single node jobs run on a shared node by default. Add --exclusive if you want to use a node exclusively.\n",
      "sbatch: You will be charged for 0.03125 node. A full node consists of 32 CPU cores, 240000 MiB of memory and 0 GPUs and can be shared by up to 32 jobs.\n",
      "sbatch: Single node jobs run on a shared node by default. Add --exclusive if you want to use a node exclusively.\n",
      "sbatch: You will be charged for 0.03125 node. A full node consists of 32 CPU cores, 240000 MiB of memory and 0 GPUs and can be shared by up to 32 jobs.\n",
      "sbatch: Single node jobs run on a shared node by default. Add --exclusive if you want to use a node exclusively.\n",
      "sbatch: You will be charged for 0.03125 node. A full node consists of 32 CPU cores, 240000 MiB of memory and 0 GPUs and can be shared by up to 32 jobs.\n",
      "sbatch: Single node jobs run on a shared node by default. Add --exclusive if you want to use a node exclusively.\n",
      "sbatch: You will be charged for 0.03125 node. A full node consists of 32 CPU cores, 240000 MiB of memory and 0 GPUs and can be shared by up to 32 jobs.\n",
      "sbatch: Single node jobs run on a shared node by default. Add --exclusive if you want to use a node exclusively.\n",
      "sbatch: You will be charged for 0.03125 node. A full node consists of 32 CPU cores, 240000 MiB of memory and 0 GPUs and can be shared by up to 32 jobs.\n",
      "sbatch: Single node jobs run on a shared node by default. Add --exclusive if you want to use a node exclusively.\n",
      "sbatch: You will be charged for 0.03125 node. A full node consists of 32 CPU cores, 240000 MiB of memory and 0 GPUs and can be shared by up to 32 jobs.\n",
      "sbatch: Single node jobs run on a shared node by default. Add --exclusive if you want to use a node exclusively.\n",
      "sbatch: You will be charged for 0.03125 node. A full node consists of 32 CPU cores, 240000 MiB of memory and 0 GPUs and can be shared by up to 32 jobs.\n",
      "sbatch: Single node jobs run on a shared node by default. Add --exclusive if you want to use a node exclusively.\n",
      "sbatch: You will be charged for 0.03125 node. A full node consists of 32 CPU cores, 240000 MiB of memory and 0 GPUs and can be shared by up to 32 jobs.\n"
     ]
    },
    {
     "name": "stdout",
     "output_type": "stream",
     "text": [
      "Submitted batch job 418172\n",
      "Submitted batch job 418173\n",
      "Submitted batch job 418174\n",
      "Submitted batch job 418175\n"
     ]
    },
    {
     "name": "stderr",
     "output_type": "stream",
     "text": [
      "sbatch: Single node jobs run on a shared node by default. Add --exclusive if you want to use a node exclusively.\n",
      "sbatch: You will be charged for 0.03125 node. A full node consists of 32 CPU cores, 240000 MiB of memory and 0 GPUs and can be shared by up to 32 jobs.\n",
      "sbatch: Single node jobs run on a shared node by default. Add --exclusive if you want to use a node exclusively.\n",
      "sbatch: You will be charged for 0.03125 node. A full node consists of 32 CPU cores, 240000 MiB of memory and 0 GPUs and can be shared by up to 32 jobs.\n",
      "sbatch: Single node jobs run on a shared node by default. Add --exclusive if you want to use a node exclusively.\n",
      "sbatch: You will be charged for 0.03125 node. A full node consists of 32 CPU cores, 240000 MiB of memory and 0 GPUs and can be shared by up to 32 jobs.\n",
      "sbatch: Single node jobs run on a shared node by default. Add --exclusive if you want to use a node exclusively.\n",
      "sbatch: You will be charged for 0.03125 node. A full node consists of 32 CPU cores, 240000 MiB of memory and 0 GPUs and can be shared by up to 32 jobs.\n"
     ]
    },
    {
     "name": "stdout",
     "output_type": "stream",
     "text": [
      "Submitted batch job 418176\n",
      "Submitted batch job 418177\n",
      "Submitted batch job 418178\n",
      "Submitted batch job 418179\n"
     ]
    },
    {
     "name": "stderr",
     "output_type": "stream",
     "text": [
      "sbatch: Single node jobs run on a shared node by default. Add --exclusive if you want to use a node exclusively.\n",
      "sbatch: You will be charged for 0.03125 node. A full node consists of 32 CPU cores, 240000 MiB of memory and 0 GPUs and can be shared by up to 32 jobs.\n",
      "sbatch: Single node jobs run on a shared node by default. Add --exclusive if you want to use a node exclusively.\n",
      "sbatch: You will be charged for 0.03125 node. A full node consists of 32 CPU cores, 240000 MiB of memory and 0 GPUs and can be shared by up to 32 jobs.\n",
      "sbatch: Single node jobs run on a shared node by default. Add --exclusive if you want to use a node exclusively.\n",
      "sbatch: You will be charged for 0.03125 node. A full node consists of 32 CPU cores, 240000 MiB of memory and 0 GPUs and can be shared by up to 32 jobs.\n",
      "sbatch: Single node jobs run on a shared node by default. Add --exclusive if you want to use a node exclusively.\n",
      "sbatch: You will be charged for 0.03125 node. A full node consists of 32 CPU cores, 240000 MiB of memory and 0 GPUs and can be shared by up to 32 jobs.\n"
     ]
    },
    {
     "name": "stdout",
     "output_type": "stream",
     "text": [
      "Submitted batch job 418180\n",
      "Submitted batch job 418182\n",
      "Submitted batch job 418183\n",
      "Submitted batch job 418184\n",
      "Submitted batch job 418185\n",
      "Submitted batch job 418186\n",
      "Submitted batch job 418187\n",
      "Submitted batch job 418188\n"
     ]
    },
    {
     "name": "stderr",
     "output_type": "stream",
     "text": [
      "sbatch: Single node jobs run on a shared node by default. Add --exclusive if you want to use a node exclusively.\n",
      "sbatch: You will be charged for 0.03125 node. A full node consists of 32 CPU cores, 240000 MiB of memory and 0 GPUs and can be shared by up to 32 jobs.\n",
      "sbatch: Single node jobs run on a shared node by default. Add --exclusive if you want to use a node exclusively.\n",
      "sbatch: You will be charged for 0.03125 node. A full node consists of 32 CPU cores, 240000 MiB of memory and 0 GPUs and can be shared by up to 32 jobs.\n",
      "sbatch: Single node jobs run on a shared node by default. Add --exclusive if you want to use a node exclusively.\n",
      "sbatch: You will be charged for 0.03125 node. A full node consists of 32 CPU cores, 240000 MiB of memory and 0 GPUs and can be shared by up to 32 jobs.\n",
      "sbatch: Single node jobs run on a shared node by default. Add --exclusive if you want to use a node exclusively.\n",
      "sbatch: You will be charged for 0.03125 node. A full node consists of 32 CPU cores, 240000 MiB of memory and 0 GPUs and can be shared by up to 32 jobs.\n"
     ]
    },
    {
     "name": "stdout",
     "output_type": "stream",
     "text": [
      "Submitted batch job 418189\n",
      "Submitted batch job 418190\n",
      "Submitted batch job 418191\n",
      "Submitted batch job 418192\n"
     ]
    },
    {
     "name": "stderr",
     "output_type": "stream",
     "text": [
      "sbatch: Single node jobs run on a shared node by default. Add --exclusive if you want to use a node exclusively.\n",
      "sbatch: You will be charged for 0.03125 node. A full node consists of 32 CPU cores, 240000 MiB of memory and 0 GPUs and can be shared by up to 32 jobs.\n",
      "sbatch: Single node jobs run on a shared node by default. Add --exclusive if you want to use a node exclusively.\n",
      "sbatch: You will be charged for 0.03125 node. A full node consists of 32 CPU cores, 240000 MiB of memory and 0 GPUs and can be shared by up to 32 jobs.\n",
      "sbatch: Single node jobs run on a shared node by default. Add --exclusive if you want to use a node exclusively.\n",
      "sbatch: You will be charged for 0.03125 node. A full node consists of 32 CPU cores, 240000 MiB of memory and 0 GPUs and can be shared by up to 32 jobs.\n",
      "sbatch: Single node jobs run on a shared node by default. Add --exclusive if you want to use a node exclusively.\n",
      "sbatch: You will be charged for 0.03125 node. A full node consists of 32 CPU cores, 240000 MiB of memory and 0 GPUs and can be shared by up to 32 jobs.\n"
     ]
    },
    {
     "name": "stdout",
     "output_type": "stream",
     "text": [
      "Submitted batch job 418193\n",
      "Submitted batch job 418194\n",
      "Submitted batch job 418195\n",
      "Submitted batch job 418196\n"
     ]
    },
    {
     "name": "stderr",
     "output_type": "stream",
     "text": [
      "sbatch: Single node jobs run on a shared node by default. Add --exclusive if you want to use a node exclusively.\n",
      "sbatch: You will be charged for 0.03125 node. A full node consists of 32 CPU cores, 240000 MiB of memory and 0 GPUs and can be shared by up to 32 jobs.\n",
      "sbatch: Single node jobs run on a shared node by default. Add --exclusive if you want to use a node exclusively.\n",
      "sbatch: You will be charged for 0.03125 node. A full node consists of 32 CPU cores, 240000 MiB of memory and 0 GPUs and can be shared by up to 32 jobs.\n",
      "sbatch: Single node jobs run on a shared node by default. Add --exclusive if you want to use a node exclusively.\n",
      "sbatch: You will be charged for 0.03125 node. A full node consists of 32 CPU cores, 240000 MiB of memory and 0 GPUs and can be shared by up to 32 jobs.\n",
      "sbatch: Single node jobs run on a shared node by default. Add --exclusive if you want to use a node exclusively.\n",
      "sbatch: You will be charged for 0.03125 node. A full node consists of 32 CPU cores, 240000 MiB of memory and 0 GPUs and can be shared by up to 32 jobs.\n",
      "sbatch: Single node jobs run on a shared node by default. Add --exclusive if you want to use a node exclusively.\n",
      "sbatch: You will be charged for 0.03125 node. A full node consists of 32 CPU cores, 240000 MiB of memory and 0 GPUs and can be shared by up to 32 jobs.\n",
      "sbatch: Single node jobs run on a shared node by default. Add --exclusive if you want to use a node exclusively.\n",
      "sbatch: You will be charged for 0.03125 node. A full node consists of 32 CPU cores, 240000 MiB of memory and 0 GPUs and can be shared by up to 32 jobs.\n",
      "sbatch: Single node jobs run on a shared node by default. Add --exclusive if you want to use a node exclusively.\n",
      "sbatch: You will be charged for 0.03125 node. A full node consists of 32 CPU cores, 240000 MiB of memory and 0 GPUs and can be shared by up to 32 jobs.\n",
      "sbatch: Single node jobs run on a shared node by default. Add --exclusive if you want to use a node exclusively.\n",
      "sbatch: You will be charged for 0.03125 node. A full node consists of 32 CPU cores, 240000 MiB of memory and 0 GPUs and can be shared by up to 32 jobs.\n"
     ]
    },
    {
     "name": "stdout",
     "output_type": "stream",
     "text": [
      "Submitted batch job 418197\n",
      "Submitted batch job 418198\n",
      "Submitted batch job 418199\n",
      "Submitted batch job 418200\n"
     ]
    },
    {
     "name": "stderr",
     "output_type": "stream",
     "text": [
      "sbatch: Single node jobs run on a shared node by default. Add --exclusive if you want to use a node exclusively.\n",
      "sbatch: You will be charged for 0.03125 node. A full node consists of 32 CPU cores, 240000 MiB of memory and 0 GPUs and can be shared by up to 32 jobs.\n",
      "sbatch: Single node jobs run on a shared node by default. Add --exclusive if you want to use a node exclusively.\n",
      "sbatch: You will be charged for 0.03125 node. A full node consists of 32 CPU cores, 240000 MiB of memory and 0 GPUs and can be shared by up to 32 jobs.\n",
      "sbatch: Single node jobs run on a shared node by default. Add --exclusive if you want to use a node exclusively.\n",
      "sbatch: You will be charged for 0.03125 node. A full node consists of 32 CPU cores, 240000 MiB of memory and 0 GPUs and can be shared by up to 32 jobs.\n",
      "sbatch: Single node jobs run on a shared node by default. Add --exclusive if you want to use a node exclusively.\n",
      "sbatch: You will be charged for 0.03125 node. A full node consists of 32 CPU cores, 240000 MiB of memory and 0 GPUs and can be shared by up to 32 jobs.\n"
     ]
    },
    {
     "name": "stdout",
     "output_type": "stream",
     "text": [
      "Submitted batch job 418201\n",
      "Submitted batch job 418203\n",
      "Submitted batch job 418204\n",
      "Submitted batch job 418205\n"
     ]
    },
    {
     "name": "stderr",
     "output_type": "stream",
     "text": [
      "sbatch: Single node jobs run on a shared node by default. Add --exclusive if you want to use a node exclusively.\n",
      "sbatch: You will be charged for 0.03125 node. A full node consists of 32 CPU cores, 240000 MiB of memory and 0 GPUs and can be shared by up to 32 jobs.\n",
      "sbatch: Single node jobs run on a shared node by default. Add --exclusive if you want to use a node exclusively.\n",
      "sbatch: You will be charged for 0.03125 node. A full node consists of 32 CPU cores, 240000 MiB of memory and 0 GPUs and can be shared by up to 32 jobs.\n",
      "sbatch: Single node jobs run on a shared node by default. Add --exclusive if you want to use a node exclusively.\n",
      "sbatch: You will be charged for 0.03125 node. A full node consists of 32 CPU cores, 240000 MiB of memory and 0 GPUs and can be shared by up to 32 jobs.\n",
      "sbatch: Single node jobs run on a shared node by default. Add --exclusive if you want to use a node exclusively.\n",
      "sbatch: You will be charged for 0.03125 node. A full node consists of 32 CPU cores, 240000 MiB of memory and 0 GPUs and can be shared by up to 32 jobs.\n"
     ]
    },
    {
     "name": "stdout",
     "output_type": "stream",
     "text": [
      "Submitted batch job 418206\n",
      "Submitted batch job 418207\n",
      "Submitted batch job 418208\n",
      "Submitted batch job 418209\n"
     ]
    },
    {
     "name": "stderr",
     "output_type": "stream",
     "text": [
      "sbatch: Single node jobs run on a shared node by default. Add --exclusive if you want to use a node exclusively.\n",
      "sbatch: You will be charged for 0.03125 node. A full node consists of 32 CPU cores, 240000 MiB of memory and 0 GPUs and can be shared by up to 32 jobs.\n",
      "sbatch: Single node jobs run on a shared node by default. Add --exclusive if you want to use a node exclusively.\n",
      "sbatch: You will be charged for 0.03125 node. A full node consists of 32 CPU cores, 240000 MiB of memory and 0 GPUs and can be shared by up to 32 jobs.\n",
      "sbatch: Single node jobs run on a shared node by default. Add --exclusive if you want to use a node exclusively.\n",
      "sbatch: You will be charged for 0.03125 node. A full node consists of 32 CPU cores, 240000 MiB of memory and 0 GPUs and can be shared by up to 32 jobs.\n",
      "sbatch: Single node jobs run on a shared node by default. Add --exclusive if you want to use a node exclusively.\n",
      "sbatch: You will be charged for 0.03125 node. A full node consists of 32 CPU cores, 240000 MiB of memory and 0 GPUs and can be shared by up to 32 jobs.\n"
     ]
    },
    {
     "name": "stdout",
     "output_type": "stream",
     "text": [
      "Submitted batch job 418210\n",
      "Submitted batch job 418211\n",
      "Submitted batch job 418212\n",
      "Submitted batch job 418213\n"
     ]
    },
    {
     "name": "stderr",
     "output_type": "stream",
     "text": [
      "sbatch: Single node jobs run on a shared node by default. Add --exclusive if you want to use a node exclusively.\n",
      "sbatch: You will be charged for 0.03125 node. A full node consists of 32 CPU cores, 240000 MiB of memory and 0 GPUs and can be shared by up to 32 jobs.\n",
      "sbatch: Single node jobs run on a shared node by default. Add --exclusive if you want to use a node exclusively.\n",
      "sbatch: You will be charged for 0.03125 node. A full node consists of 32 CPU cores, 240000 MiB of memory and 0 GPUs and can be shared by up to 32 jobs.\n",
      "sbatch: Single node jobs run on a shared node by default. Add --exclusive if you want to use a node exclusively.\n",
      "sbatch: You will be charged for 0.03125 node. A full node consists of 32 CPU cores, 240000 MiB of memory and 0 GPUs and can be shared by up to 32 jobs.\n",
      "sbatch: Single node jobs run on a shared node by default. Add --exclusive if you want to use a node exclusively.\n",
      "sbatch: You will be charged for 0.03125 node. A full node consists of 32 CPU cores, 240000 MiB of memory and 0 GPUs and can be shared by up to 32 jobs.\n"
     ]
    },
    {
     "name": "stdout",
     "output_type": "stream",
     "text": [
      "Submitted batch job 418214\n",
      "Submitted batch job 418215\n",
      "Submitted batch job 418216\n",
      "Submitted batch job 418217\n"
     ]
    },
    {
     "name": "stderr",
     "output_type": "stream",
     "text": [
      "sbatch: Single node jobs run on a shared node by default. Add --exclusive if you want to use a node exclusively.\n",
      "sbatch: You will be charged for 0.03125 node. A full node consists of 32 CPU cores, 240000 MiB of memory and 0 GPUs and can be shared by up to 32 jobs.\n",
      "sbatch: Single node jobs run on a shared node by default. Add --exclusive if you want to use a node exclusively.\n",
      "sbatch: You will be charged for 0.03125 node. A full node consists of 32 CPU cores, 240000 MiB of memory and 0 GPUs and can be shared by up to 32 jobs.\n",
      "sbatch: Single node jobs run on a shared node by default. Add --exclusive if you want to use a node exclusively.\n",
      "sbatch: You will be charged for 0.03125 node. A full node consists of 32 CPU cores, 240000 MiB of memory and 0 GPUs and can be shared by up to 32 jobs.\n",
      "sbatch: Single node jobs run on a shared node by default. Add --exclusive if you want to use a node exclusively.\n",
      "sbatch: You will be charged for 0.03125 node. A full node consists of 32 CPU cores, 240000 MiB of memory and 0 GPUs and can be shared by up to 32 jobs.\n"
     ]
    },
    {
     "name": "stdout",
     "output_type": "stream",
     "text": [
      "Submitted batch job 418218\n",
      "Submitted batch job 418219\n",
      "Submitted batch job 418220\n",
      "Submitted batch job 418221\n"
     ]
    },
    {
     "name": "stderr",
     "output_type": "stream",
     "text": [
      "sbatch: Single node jobs run on a shared node by default. Add --exclusive if you want to use a node exclusively.\n",
      "sbatch: You will be charged for 0.03125 node. A full node consists of 32 CPU cores, 240000 MiB of memory and 0 GPUs and can be shared by up to 32 jobs.\n",
      "sbatch: Single node jobs run on a shared node by default. Add --exclusive if you want to use a node exclusively.\n",
      "sbatch: You will be charged for 0.03125 node. A full node consists of 32 CPU cores, 240000 MiB of memory and 0 GPUs and can be shared by up to 32 jobs.\n",
      "sbatch: Single node jobs run on a shared node by default. Add --exclusive if you want to use a node exclusively.\n",
      "sbatch: You will be charged for 0.03125 node. A full node consists of 32 CPU cores, 240000 MiB of memory and 0 GPUs and can be shared by up to 32 jobs.\n",
      "sbatch: Single node jobs run on a shared node by default. Add --exclusive if you want to use a node exclusively.\n",
      "sbatch: You will be charged for 0.03125 node. A full node consists of 32 CPU cores, 240000 MiB of memory and 0 GPUs and can be shared by up to 32 jobs.\n",
      "sbatch: Single node jobs run on a shared node by default. Add --exclusive if you want to use a node exclusively.\n",
      "sbatch: You will be charged for 0.03125 node. A full node consists of 32 CPU cores, 240000 MiB of memory and 0 GPUs and can be shared by up to 32 jobs.\n"
     ]
    },
    {
     "name": "stdout",
     "output_type": "stream",
     "text": [
      "Submitted batch job 418222\n",
      "Submitted batch job 418224\n",
      "Submitted batch job 418225\n",
      "Submitted batch job 418226\n",
      "Submitted batch job 418227\n"
     ]
    },
    {
     "name": "stderr",
     "output_type": "stream",
     "text": [
      "sbatch: Single node jobs run on a shared node by default. Add --exclusive if you want to use a node exclusively.\n",
      "sbatch: You will be charged for 0.03125 node. A full node consists of 32 CPU cores, 240000 MiB of memory and 0 GPUs and can be shared by up to 32 jobs.\n",
      "sbatch: Single node jobs run on a shared node by default. Add --exclusive if you want to use a node exclusively.\n",
      "sbatch: You will be charged for 0.03125 node. A full node consists of 32 CPU cores, 240000 MiB of memory and 0 GPUs and can be shared by up to 32 jobs.\n",
      "sbatch: Single node jobs run on a shared node by default. Add --exclusive if you want to use a node exclusively.\n",
      "sbatch: You will be charged for 0.03125 node. A full node consists of 32 CPU cores, 240000 MiB of memory and 0 GPUs and can be shared by up to 32 jobs.\n",
      "sbatch: Single node jobs run on a shared node by default. Add --exclusive if you want to use a node exclusively.\n",
      "sbatch: You will be charged for 0.03125 node. A full node consists of 32 CPU cores, 240000 MiB of memory and 0 GPUs and can be shared by up to 32 jobs.\n"
     ]
    },
    {
     "name": "stdout",
     "output_type": "stream",
     "text": [
      "Submitted batch job 418228\n",
      "Submitted batch job 418229\n",
      "Submitted batch job 418230\n",
      "Submitted batch job 418231\n"
     ]
    },
    {
     "name": "stderr",
     "output_type": "stream",
     "text": [
      "sbatch: Single node jobs run on a shared node by default. Add --exclusive if you want to use a node exclusively.\n",
      "sbatch: You will be charged for 0.03125 node. A full node consists of 32 CPU cores, 240000 MiB of memory and 0 GPUs and can be shared by up to 32 jobs.\n",
      "sbatch: Single node jobs run on a shared node by default. Add --exclusive if you want to use a node exclusively.\n",
      "sbatch: You will be charged for 0.03125 node. A full node consists of 32 CPU cores, 240000 MiB of memory and 0 GPUs and can be shared by up to 32 jobs.\n",
      "sbatch: Single node jobs run on a shared node by default. Add --exclusive if you want to use a node exclusively.\n",
      "sbatch: You will be charged for 0.03125 node. A full node consists of 32 CPU cores, 240000 MiB of memory and 0 GPUs and can be shared by up to 32 jobs.\n",
      "sbatch: Single node jobs run on a shared node by default. Add --exclusive if you want to use a node exclusively.\n",
      "sbatch: You will be charged for 0.03125 node. A full node consists of 32 CPU cores, 240000 MiB of memory and 0 GPUs and can be shared by up to 32 jobs.\n"
     ]
    },
    {
     "name": "stdout",
     "output_type": "stream",
     "text": [
      "Submitted batch job 418232\n",
      "Submitted batch job 418233\n",
      "Submitted batch job 418234\n",
      "Submitted batch job 418235\n"
     ]
    },
    {
     "name": "stderr",
     "output_type": "stream",
     "text": [
      "sbatch: Single node jobs run on a shared node by default. Add --exclusive if you want to use a node exclusively.\n",
      "sbatch: You will be charged for 0.03125 node. A full node consists of 32 CPU cores, 240000 MiB of memory and 0 GPUs and can be shared by up to 32 jobs.\n",
      "sbatch: Single node jobs run on a shared node by default. Add --exclusive if you want to use a node exclusively.\n",
      "sbatch: You will be charged for 0.03125 node. A full node consists of 32 CPU cores, 240000 MiB of memory and 0 GPUs and can be shared by up to 32 jobs.\n",
      "sbatch: Single node jobs run on a shared node by default. Add --exclusive if you want to use a node exclusively.\n",
      "sbatch: You will be charged for 0.03125 node. A full node consists of 32 CPU cores, 240000 MiB of memory and 0 GPUs and can be shared by up to 32 jobs.\n",
      "sbatch: Single node jobs run on a shared node by default. Add --exclusive if you want to use a node exclusively.\n",
      "sbatch: You will be charged for 0.03125 node. A full node consists of 32 CPU cores, 240000 MiB of memory and 0 GPUs and can be shared by up to 32 jobs.\n"
     ]
    },
    {
     "name": "stdout",
     "output_type": "stream",
     "text": [
      "Submitted batch job 418236\n",
      "Submitted batch job 418237\n",
      "Submitted batch job 418238\n",
      "Submitted batch job 418239\n"
     ]
    },
    {
     "name": "stderr",
     "output_type": "stream",
     "text": [
      "sbatch: Single node jobs run on a shared node by default. Add --exclusive if you want to use a node exclusively.\n",
      "sbatch: You will be charged for 0.03125 node. A full node consists of 32 CPU cores, 240000 MiB of memory and 0 GPUs and can be shared by up to 32 jobs.\n",
      "sbatch: Single node jobs run on a shared node by default. Add --exclusive if you want to use a node exclusively.\n",
      "sbatch: You will be charged for 0.03125 node. A full node consists of 32 CPU cores, 240000 MiB of memory and 0 GPUs and can be shared by up to 32 jobs.\n",
      "sbatch: Single node jobs run on a shared node by default. Add --exclusive if you want to use a node exclusively.\n",
      "sbatch: You will be charged for 0.03125 node. A full node consists of 32 CPU cores, 240000 MiB of memory and 0 GPUs and can be shared by up to 32 jobs.\n",
      "sbatch: Single node jobs run on a shared node by default. Add --exclusive if you want to use a node exclusively.\n",
      "sbatch: You will be charged for 0.03125 node. A full node consists of 32 CPU cores, 240000 MiB of memory and 0 GPUs and can be shared by up to 32 jobs.\n"
     ]
    },
    {
     "name": "stdout",
     "output_type": "stream",
     "text": [
      "Submitted batch job 418240\n",
      "Submitted batch job 418241\n",
      "Submitted batch job 418242\n",
      "Submitted batch job 418243\n"
     ]
    },
    {
     "name": "stderr",
     "output_type": "stream",
     "text": [
      "sbatch: Single node jobs run on a shared node by default. Add --exclusive if you want to use a node exclusively.\n",
      "sbatch: You will be charged for 0.03125 node. A full node consists of 32 CPU cores, 240000 MiB of memory and 0 GPUs and can be shared by up to 32 jobs.\n",
      "sbatch: Single node jobs run on a shared node by default. Add --exclusive if you want to use a node exclusively.\n",
      "sbatch: You will be charged for 0.03125 node. A full node consists of 32 CPU cores, 240000 MiB of memory and 0 GPUs and can be shared by up to 32 jobs.\n",
      "sbatch: Single node jobs run on a shared node by default. Add --exclusive if you want to use a node exclusively.\n",
      "sbatch: You will be charged for 0.03125 node. A full node consists of 32 CPU cores, 240000 MiB of memory and 0 GPUs and can be shared by up to 32 jobs.\n",
      "sbatch: Single node jobs run on a shared node by default. Add --exclusive if you want to use a node exclusively.\n",
      "sbatch: You will be charged for 0.03125 node. A full node consists of 32 CPU cores, 240000 MiB of memory and 0 GPUs and can be shared by up to 32 jobs.\n"
     ]
    },
    {
     "name": "stdout",
     "output_type": "stream",
     "text": [
      "Submitted batch job 418244\n",
      "Submitted batch job 418246\n",
      "Submitted batch job 418247\n",
      "Submitted batch job 418248\n"
     ]
    },
    {
     "name": "stderr",
     "output_type": "stream",
     "text": [
      "sbatch: Single node jobs run on a shared node by default. Add --exclusive if you want to use a node exclusively.\n",
      "sbatch: You will be charged for 0.03125 node. A full node consists of 32 CPU cores, 240000 MiB of memory and 0 GPUs and can be shared by up to 32 jobs.\n",
      "sbatch: Single node jobs run on a shared node by default. Add --exclusive if you want to use a node exclusively.\n",
      "sbatch: You will be charged for 0.03125 node. A full node consists of 32 CPU cores, 240000 MiB of memory and 0 GPUs and can be shared by up to 32 jobs.\n",
      "sbatch: Single node jobs run on a shared node by default. Add --exclusive if you want to use a node exclusively.\n",
      "sbatch: You will be charged for 0.03125 node. A full node consists of 32 CPU cores, 240000 MiB of memory and 0 GPUs and can be shared by up to 32 jobs.\n",
      "sbatch: Single node jobs run on a shared node by default. Add --exclusive if you want to use a node exclusively.\n",
      "sbatch: You will be charged for 0.03125 node. A full node consists of 32 CPU cores, 240000 MiB of memory and 0 GPUs and can be shared by up to 32 jobs.\n"
     ]
    },
    {
     "name": "stdout",
     "output_type": "stream",
     "text": [
      "Submitted batch job 418249\n",
      "Submitted batch job 418250\n",
      "Submitted batch job 418251\n",
      "Submitted batch job 418252\n"
     ]
    },
    {
     "name": "stderr",
     "output_type": "stream",
     "text": [
      "sbatch: Single node jobs run on a shared node by default. Add --exclusive if you want to use a node exclusively.\n",
      "sbatch: You will be charged for 0.03125 node. A full node consists of 32 CPU cores, 240000 MiB of memory and 0 GPUs and can be shared by up to 32 jobs.\n",
      "sbatch: Single node jobs run on a shared node by default. Add --exclusive if you want to use a node exclusively.\n",
      "sbatch: You will be charged for 0.03125 node. A full node consists of 32 CPU cores, 240000 MiB of memory and 0 GPUs and can be shared by up to 32 jobs.\n",
      "sbatch: Single node jobs run on a shared node by default. Add --exclusive if you want to use a node exclusively.\n",
      "sbatch: You will be charged for 0.03125 node. A full node consists of 32 CPU cores, 240000 MiB of memory and 0 GPUs and can be shared by up to 32 jobs.\n",
      "sbatch: Single node jobs run on a shared node by default. Add --exclusive if you want to use a node exclusively.\n",
      "sbatch: You will be charged for 0.03125 node. A full node consists of 32 CPU cores, 240000 MiB of memory and 0 GPUs and can be shared by up to 32 jobs.\n"
     ]
    },
    {
     "name": "stdout",
     "output_type": "stream",
     "text": [
      "Submitted batch job 418253\n",
      "Submitted batch job 418254\n",
      "Submitted batch job 418255\n",
      "Submitted batch job 418256\n"
     ]
    },
    {
     "name": "stderr",
     "output_type": "stream",
     "text": [
      "sbatch: Single node jobs run on a shared node by default. Add --exclusive if you want to use a node exclusively.\n",
      "sbatch: You will be charged for 0.03125 node. A full node consists of 32 CPU cores, 240000 MiB of memory and 0 GPUs and can be shared by up to 32 jobs.\n",
      "sbatch: Single node jobs run on a shared node by default. Add --exclusive if you want to use a node exclusively.\n",
      "sbatch: You will be charged for 0.03125 node. A full node consists of 32 CPU cores, 240000 MiB of memory and 0 GPUs and can be shared by up to 32 jobs.\n",
      "sbatch: Single node jobs run on a shared node by default. Add --exclusive if you want to use a node exclusively.\n",
      "sbatch: You will be charged for 0.03125 node. A full node consists of 32 CPU cores, 240000 MiB of memory and 0 GPUs and can be shared by up to 32 jobs.\n",
      "sbatch: Single node jobs run on a shared node by default. Add --exclusive if you want to use a node exclusively.\n",
      "sbatch: You will be charged for 0.03125 node. A full node consists of 32 CPU cores, 240000 MiB of memory and 0 GPUs and can be shared by up to 32 jobs.\n"
     ]
    },
    {
     "name": "stdout",
     "output_type": "stream",
     "text": [
      "Submitted batch job 418257\n",
      "Submitted batch job 418258\n",
      "Submitted batch job 418259\n",
      "Submitted batch job 418260\n",
      "Submitted batch job 418261\n",
      "Submitted batch job 418262\n",
      "Submitted batch job 418263\n",
      "Submitted batch job 418264\n"
     ]
    },
    {
     "name": "stderr",
     "output_type": "stream",
     "text": [
      "sbatch: Single node jobs run on a shared node by default. Add --exclusive if you want to use a node exclusively.\n",
      "sbatch: You will be charged for 0.03125 node. A full node consists of 32 CPU cores, 240000 MiB of memory and 0 GPUs and can be shared by up to 32 jobs.\n",
      "sbatch: Single node jobs run on a shared node by default. Add --exclusive if you want to use a node exclusively.\n",
      "sbatch: You will be charged for 0.03125 node. A full node consists of 32 CPU cores, 240000 MiB of memory and 0 GPUs and can be shared by up to 32 jobs.\n",
      "sbatch: Single node jobs run on a shared node by default. Add --exclusive if you want to use a node exclusively.\n",
      "sbatch: You will be charged for 0.03125 node. A full node consists of 32 CPU cores, 240000 MiB of memory and 0 GPUs and can be shared by up to 32 jobs.\n",
      "sbatch: Single node jobs run on a shared node by default. Add --exclusive if you want to use a node exclusively.\n",
      "sbatch: You will be charged for 0.03125 node. A full node consists of 32 CPU cores, 240000 MiB of memory and 0 GPUs and can be shared by up to 32 jobs.\n",
      "sbatch: Single node jobs run on a shared node by default. Add --exclusive if you want to use a node exclusively.\n",
      "sbatch: You will be charged for 0.03125 node. A full node consists of 32 CPU cores, 240000 MiB of memory and 0 GPUs and can be shared by up to 32 jobs.\n",
      "sbatch: Single node jobs run on a shared node by default. Add --exclusive if you want to use a node exclusively.\n",
      "sbatch: You will be charged for 0.03125 node. A full node consists of 32 CPU cores, 240000 MiB of memory and 0 GPUs and can be shared by up to 32 jobs.\n",
      "sbatch: Single node jobs run on a shared node by default. Add --exclusive if you want to use a node exclusively.\n",
      "sbatch: You will be charged for 0.03125 node. A full node consists of 32 CPU cores, 240000 MiB of memory and 0 GPUs and can be shared by up to 32 jobs.\n",
      "sbatch: Single node jobs run on a shared node by default. Add --exclusive if you want to use a node exclusively.\n",
      "sbatch: You will be charged for 0.03125 node. A full node consists of 32 CPU cores, 240000 MiB of memory and 0 GPUs and can be shared by up to 32 jobs.\n"
     ]
    },
    {
     "name": "stdout",
     "output_type": "stream",
     "text": [
      "Submitted batch job 418265\n",
      "Submitted batch job 418266\n",
      "Submitted batch job 418268\n",
      "Submitted batch job 418269\n"
     ]
    },
    {
     "name": "stderr",
     "output_type": "stream",
     "text": [
      "sbatch: Single node jobs run on a shared node by default. Add --exclusive if you want to use a node exclusively.\n",
      "sbatch: You will be charged for 0.03125 node. A full node consists of 32 CPU cores, 240000 MiB of memory and 0 GPUs and can be shared by up to 32 jobs.\n",
      "sbatch: Single node jobs run on a shared node by default. Add --exclusive if you want to use a node exclusively.\n",
      "sbatch: You will be charged for 0.03125 node. A full node consists of 32 CPU cores, 240000 MiB of memory and 0 GPUs and can be shared by up to 32 jobs.\n",
      "sbatch: Single node jobs run on a shared node by default. Add --exclusive if you want to use a node exclusively.\n",
      "sbatch: You will be charged for 0.03125 node. A full node consists of 32 CPU cores, 240000 MiB of memory and 0 GPUs and can be shared by up to 32 jobs.\n",
      "sbatch: Single node jobs run on a shared node by default. Add --exclusive if you want to use a node exclusively.\n",
      "sbatch: You will be charged for 0.03125 node. A full node consists of 32 CPU cores, 240000 MiB of memory and 0 GPUs and can be shared by up to 32 jobs.\n"
     ]
    },
    {
     "name": "stdout",
     "output_type": "stream",
     "text": [
      "Submitted batch job 418270\n",
      "Submitted batch job 418271\n",
      "Submitted batch job 418272\n",
      "Submitted batch job 418273\n"
     ]
    },
    {
     "name": "stderr",
     "output_type": "stream",
     "text": [
      "sbatch: Single node jobs run on a shared node by default. Add --exclusive if you want to use a node exclusively.\n",
      "sbatch: You will be charged for 0.03125 node. A full node consists of 32 CPU cores, 240000 MiB of memory and 0 GPUs and can be shared by up to 32 jobs.\n",
      "sbatch: Single node jobs run on a shared node by default. Add --exclusive if you want to use a node exclusively.\n",
      "sbatch: You will be charged for 0.03125 node. A full node consists of 32 CPU cores, 240000 MiB of memory and 0 GPUs and can be shared by up to 32 jobs.\n",
      "sbatch: Single node jobs run on a shared node by default. Add --exclusive if you want to use a node exclusively.\n",
      "sbatch: You will be charged for 0.03125 node. A full node consists of 32 CPU cores, 240000 MiB of memory and 0 GPUs and can be shared by up to 32 jobs.\n",
      "sbatch: Single node jobs run on a shared node by default. Add --exclusive if you want to use a node exclusively.\n",
      "sbatch: You will be charged for 0.03125 node. A full node consists of 32 CPU cores, 240000 MiB of memory and 0 GPUs and can be shared by up to 32 jobs.\n"
     ]
    },
    {
     "name": "stdout",
     "output_type": "stream",
     "text": [
      "Submitted batch job 418274\n",
      "Submitted batch job 418275\n",
      "Submitted batch job 418276\n",
      "Submitted batch job 418277\n"
     ]
    },
    {
     "name": "stderr",
     "output_type": "stream",
     "text": [
      "sbatch: Single node jobs run on a shared node by default. Add --exclusive if you want to use a node exclusively.\n",
      "sbatch: You will be charged for 0.03125 node. A full node consists of 32 CPU cores, 240000 MiB of memory and 0 GPUs and can be shared by up to 32 jobs.\n",
      "sbatch: Single node jobs run on a shared node by default. Add --exclusive if you want to use a node exclusively.\n",
      "sbatch: You will be charged for 0.03125 node. A full node consists of 32 CPU cores, 240000 MiB of memory and 0 GPUs and can be shared by up to 32 jobs.\n",
      "sbatch: Single node jobs run on a shared node by default. Add --exclusive if you want to use a node exclusively.\n",
      "sbatch: You will be charged for 0.03125 node. A full node consists of 32 CPU cores, 240000 MiB of memory and 0 GPUs and can be shared by up to 32 jobs.\n",
      "sbatch: Single node jobs run on a shared node by default. Add --exclusive if you want to use a node exclusively.\n",
      "sbatch: You will be charged for 0.03125 node. A full node consists of 32 CPU cores, 240000 MiB of memory and 0 GPUs and can be shared by up to 32 jobs.\n"
     ]
    },
    {
     "name": "stdout",
     "output_type": "stream",
     "text": [
      "Submitted batch job 418278\n",
      "Submitted batch job 418279\n",
      "Submitted batch job 418280\n",
      "Submitted batch job 418281\n",
      "Submitted batch job 418282\n",
      "Submitted batch job 418283\n",
      "Submitted batch job 418284\n",
      "Submitted batch job 418285\n"
     ]
    },
    {
     "name": "stderr",
     "output_type": "stream",
     "text": [
      "sbatch: Single node jobs run on a shared node by default. Add --exclusive if you want to use a node exclusively.\n",
      "sbatch: You will be charged for 0.03125 node. A full node consists of 32 CPU cores, 240000 MiB of memory and 0 GPUs and can be shared by up to 32 jobs.\n",
      "sbatch: Single node jobs run on a shared node by default. Add --exclusive if you want to use a node exclusively.\n",
      "sbatch: You will be charged for 0.03125 node. A full node consists of 32 CPU cores, 240000 MiB of memory and 0 GPUs and can be shared by up to 32 jobs.\n",
      "sbatch: Single node jobs run on a shared node by default. Add --exclusive if you want to use a node exclusively.\n",
      "sbatch: You will be charged for 0.03125 node. A full node consists of 32 CPU cores, 240000 MiB of memory and 0 GPUs and can be shared by up to 32 jobs.\n",
      "sbatch: Single node jobs run on a shared node by default. Add --exclusive if you want to use a node exclusively.\n",
      "sbatch: You will be charged for 0.03125 node. A full node consists of 32 CPU cores, 240000 MiB of memory and 0 GPUs and can be shared by up to 32 jobs.\n",
      "sbatch: Single node jobs run on a shared node by default. Add --exclusive if you want to use a node exclusively.\n",
      "sbatch: You will be charged for 0.03125 node. A full node consists of 32 CPU cores, 240000 MiB of memory and 0 GPUs and can be shared by up to 32 jobs.\n",
      "sbatch: Single node jobs run on a shared node by default. Add --exclusive if you want to use a node exclusively.\n",
      "sbatch: You will be charged for 0.03125 node. A full node consists of 32 CPU cores, 240000 MiB of memory and 0 GPUs and can be shared by up to 32 jobs.\n",
      "sbatch: Single node jobs run on a shared node by default. Add --exclusive if you want to use a node exclusively.\n",
      "sbatch: You will be charged for 0.03125 node. A full node consists of 32 CPU cores, 240000 MiB of memory and 0 GPUs and can be shared by up to 32 jobs.\n",
      "sbatch: Single node jobs run on a shared node by default. Add --exclusive if you want to use a node exclusively.\n",
      "sbatch: You will be charged for 0.03125 node. A full node consists of 32 CPU cores, 240000 MiB of memory and 0 GPUs and can be shared by up to 32 jobs.\n"
     ]
    },
    {
     "name": "stdout",
     "output_type": "stream",
     "text": [
      "Submitted batch job 418286\n",
      "Submitted batch job 418287\n",
      "Submitted batch job 418288\n",
      "Submitted batch job 418290\n"
     ]
    },
    {
     "name": "stderr",
     "output_type": "stream",
     "text": [
      "sbatch: Single node jobs run on a shared node by default. Add --exclusive if you want to use a node exclusively.\n",
      "sbatch: You will be charged for 0.03125 node. A full node consists of 32 CPU cores, 240000 MiB of memory and 0 GPUs and can be shared by up to 32 jobs.\n",
      "sbatch: Single node jobs run on a shared node by default. Add --exclusive if you want to use a node exclusively.\n",
      "sbatch: You will be charged for 0.03125 node. A full node consists of 32 CPU cores, 240000 MiB of memory and 0 GPUs and can be shared by up to 32 jobs.\n",
      "sbatch: Single node jobs run on a shared node by default. Add --exclusive if you want to use a node exclusively.\n",
      "sbatch: You will be charged for 0.03125 node. A full node consists of 32 CPU cores, 240000 MiB of memory and 0 GPUs and can be shared by up to 32 jobs.\n",
      "sbatch: Single node jobs run on a shared node by default. Add --exclusive if you want to use a node exclusively.\n",
      "sbatch: You will be charged for 0.03125 node. A full node consists of 32 CPU cores, 240000 MiB of memory and 0 GPUs and can be shared by up to 32 jobs.\n"
     ]
    },
    {
     "name": "stdout",
     "output_type": "stream",
     "text": [
      "Submitted batch job 418291\n",
      "Submitted batch job 418292\n",
      "Submitted batch job 418293\n",
      "Submitted batch job 418294\n"
     ]
    },
    {
     "name": "stderr",
     "output_type": "stream",
     "text": [
      "sbatch: Single node jobs run on a shared node by default. Add --exclusive if you want to use a node exclusively.\n",
      "sbatch: You will be charged for 0.03125 node. A full node consists of 32 CPU cores, 240000 MiB of memory and 0 GPUs and can be shared by up to 32 jobs.\n",
      "sbatch: Single node jobs run on a shared node by default. Add --exclusive if you want to use a node exclusively.\n",
      "sbatch: You will be charged for 0.03125 node. A full node consists of 32 CPU cores, 240000 MiB of memory and 0 GPUs and can be shared by up to 32 jobs.\n",
      "sbatch: Single node jobs run on a shared node by default. Add --exclusive if you want to use a node exclusively.\n",
      "sbatch: You will be charged for 0.03125 node. A full node consists of 32 CPU cores, 240000 MiB of memory and 0 GPUs and can be shared by up to 32 jobs.\n",
      "sbatch: Single node jobs run on a shared node by default. Add --exclusive if you want to use a node exclusively.\n",
      "sbatch: You will be charged for 0.03125 node. A full node consists of 32 CPU cores, 240000 MiB of memory and 0 GPUs and can be shared by up to 32 jobs.\n"
     ]
    },
    {
     "name": "stdout",
     "output_type": "stream",
     "text": [
      "Submitted batch job 418295\n",
      "Submitted batch job 418296\n",
      "Submitted batch job 418297\n",
      "Submitted batch job 418298\n"
     ]
    },
    {
     "name": "stderr",
     "output_type": "stream",
     "text": [
      "sbatch: Single node jobs run on a shared node by default. Add --exclusive if you want to use a node exclusively.\n",
      "sbatch: You will be charged for 0.03125 node. A full node consists of 32 CPU cores, 240000 MiB of memory and 0 GPUs and can be shared by up to 32 jobs.\n"
     ]
    },
    {
     "name": "stdout",
     "output_type": "stream",
     "text": [
      "Submitted batch job 418299\n"
     ]
    },
    {
     "name": "stderr",
     "output_type": "stream",
     "text": [
      "sbatch: Single node jobs run on a shared node by default. Add --exclusive if you want to use a node exclusively.\n",
      "sbatch: You will be charged for 0.03125 node. A full node consists of 32 CPU cores, 240000 MiB of memory and 0 GPUs and can be shared by up to 32 jobs.\n",
      "sbatch: Single node jobs run on a shared node by default. Add --exclusive if you want to use a node exclusively.\n",
      "sbatch: You will be charged for 0.03125 node. A full node consists of 32 CPU cores, 240000 MiB of memory and 0 GPUs and can be shared by up to 32 jobs.\n"
     ]
    },
    {
     "name": "stdout",
     "output_type": "stream",
     "text": [
      "Submitted batch job 418300\n",
      "Submitted batch job 418302\n"
     ]
    },
    {
     "name": "stderr",
     "output_type": "stream",
     "text": [
      "sbatch: Single node jobs run on a shared node by default. Add --exclusive if you want to use a node exclusively.\n",
      "sbatch: You will be charged for 0.03125 node. A full node consists of 32 CPU cores, 240000 MiB of memory and 0 GPUs and can be shared by up to 32 jobs.\n",
      "sbatch: Single node jobs run on a shared node by default. Add --exclusive if you want to use a node exclusively.\n",
      "sbatch: You will be charged for 0.03125 node. A full node consists of 32 CPU cores, 240000 MiB of memory and 0 GPUs and can be shared by up to 32 jobs.\n",
      "sbatch: Single node jobs run on a shared node by default. Add --exclusive if you want to use a node exclusively.\n",
      "sbatch: You will be charged for 0.03125 node. A full node consists of 32 CPU cores, 240000 MiB of memory and 0 GPUs and can be shared by up to 32 jobs.\n",
      "sbatch: Single node jobs run on a shared node by default. Add --exclusive if you want to use a node exclusively.\n",
      "sbatch: You will be charged for 0.03125 node. A full node consists of 32 CPU cores, 240000 MiB of memory and 0 GPUs and can be shared by up to 32 jobs.\n"
     ]
    },
    {
     "name": "stdout",
     "output_type": "stream",
     "text": [
      "Submitted batch job 418303\n",
      "Submitted batch job 418304\n",
      "Submitted batch job 418305\n",
      "Submitted batch job 418306\n"
     ]
    },
    {
     "name": "stderr",
     "output_type": "stream",
     "text": [
      "sbatch: Single node jobs run on a shared node by default. Add --exclusive if you want to use a node exclusively.\n",
      "sbatch: You will be charged for 0.03125 node. A full node consists of 32 CPU cores, 240000 MiB of memory and 0 GPUs and can be shared by up to 32 jobs.\n",
      "sbatch: Single node jobs run on a shared node by default. Add --exclusive if you want to use a node exclusively.\n",
      "sbatch: You will be charged for 0.03125 node. A full node consists of 32 CPU cores, 240000 MiB of memory and 0 GPUs and can be shared by up to 32 jobs.\n",
      "sbatch: Single node jobs run on a shared node by default. Add --exclusive if you want to use a node exclusively.\n",
      "sbatch: You will be charged for 0.03125 node. A full node consists of 32 CPU cores, 240000 MiB of memory and 0 GPUs and can be shared by up to 32 jobs.\n",
      "sbatch: Single node jobs run on a shared node by default. Add --exclusive if you want to use a node exclusively.\n",
      "sbatch: You will be charged for 0.03125 node. A full node consists of 32 CPU cores, 240000 MiB of memory and 0 GPUs and can be shared by up to 32 jobs.\n"
     ]
    },
    {
     "name": "stdout",
     "output_type": "stream",
     "text": [
      "Submitted batch job 418307\n",
      "Submitted batch job 418308\n",
      "Submitted batch job 418309\n",
      "Submitted batch job 418310\n"
     ]
    },
    {
     "name": "stderr",
     "output_type": "stream",
     "text": [
      "sbatch: Single node jobs run on a shared node by default. Add --exclusive if you want to use a node exclusively.\n",
      "sbatch: You will be charged for 0.03125 node. A full node consists of 32 CPU cores, 240000 MiB of memory and 0 GPUs and can be shared by up to 32 jobs.\n",
      "sbatch: Single node jobs run on a shared node by default. Add --exclusive if you want to use a node exclusively.\n",
      "sbatch: You will be charged for 0.03125 node. A full node consists of 32 CPU cores, 240000 MiB of memory and 0 GPUs and can be shared by up to 32 jobs.\n",
      "sbatch: Single node jobs run on a shared node by default. Add --exclusive if you want to use a node exclusively.\n",
      "sbatch: You will be charged for 0.03125 node. A full node consists of 32 CPU cores, 240000 MiB of memory and 0 GPUs and can be shared by up to 32 jobs.\n",
      "sbatch: Single node jobs run on a shared node by default. Add --exclusive if you want to use a node exclusively.\n",
      "sbatch: You will be charged for 0.03125 node. A full node consists of 32 CPU cores, 240000 MiB of memory and 0 GPUs and can be shared by up to 32 jobs.\n"
     ]
    },
    {
     "name": "stdout",
     "output_type": "stream",
     "text": [
      "Submitted batch job 418311\n",
      "Submitted batch job 418312\n",
      "Submitted batch job 418313\n",
      "Submitted batch job 418314\n"
     ]
    },
    {
     "name": "stderr",
     "output_type": "stream",
     "text": [
      "sbatch: Single node jobs run on a shared node by default. Add --exclusive if you want to use a node exclusively.\n",
      "sbatch: You will be charged for 0.03125 node. A full node consists of 32 CPU cores, 240000 MiB of memory and 0 GPUs and can be shared by up to 32 jobs.\n",
      "sbatch: Single node jobs run on a shared node by default. Add --exclusive if you want to use a node exclusively.\n",
      "sbatch: You will be charged for 0.03125 node. A full node consists of 32 CPU cores, 240000 MiB of memory and 0 GPUs and can be shared by up to 32 jobs.\n",
      "sbatch: Single node jobs run on a shared node by default. Add --exclusive if you want to use a node exclusively.\n",
      "sbatch: You will be charged for 0.03125 node. A full node consists of 32 CPU cores, 240000 MiB of memory and 0 GPUs and can be shared by up to 32 jobs.\n",
      "sbatch: Single node jobs run on a shared node by default. Add --exclusive if you want to use a node exclusively.\n",
      "sbatch: You will be charged for 0.03125 node. A full node consists of 32 CPU cores, 240000 MiB of memory and 0 GPUs and can be shared by up to 32 jobs.\n"
     ]
    },
    {
     "name": "stdout",
     "output_type": "stream",
     "text": [
      "Submitted batch job 418315\n",
      "Submitted batch job 418316\n",
      "Submitted batch job 418317\n",
      "Submitted batch job 418318\n"
     ]
    },
    {
     "name": "stderr",
     "output_type": "stream",
     "text": [
      "sbatch: Single node jobs run on a shared node by default. Add --exclusive if you want to use a node exclusively.\n",
      "sbatch: You will be charged for 0.03125 node. A full node consists of 32 CPU cores, 240000 MiB of memory and 0 GPUs and can be shared by up to 32 jobs.\n",
      "sbatch: Single node jobs run on a shared node by default. Add --exclusive if you want to use a node exclusively.\n",
      "sbatch: You will be charged for 0.03125 node. A full node consists of 32 CPU cores, 240000 MiB of memory and 0 GPUs and can be shared by up to 32 jobs.\n",
      "sbatch: Single node jobs run on a shared node by default. Add --exclusive if you want to use a node exclusively.\n",
      "sbatch: You will be charged for 0.03125 node. A full node consists of 32 CPU cores, 240000 MiB of memory and 0 GPUs and can be shared by up to 32 jobs.\n",
      "sbatch: Single node jobs run on a shared node by default. Add --exclusive if you want to use a node exclusively.\n",
      "sbatch: You will be charged for 0.03125 node. A full node consists of 32 CPU cores, 240000 MiB of memory and 0 GPUs and can be shared by up to 32 jobs.\n"
     ]
    },
    {
     "name": "stdout",
     "output_type": "stream",
     "text": [
      "Submitted batch job 418319\n",
      "Submitted batch job 418320\n",
      "Submitted batch job 418321\n",
      "Submitted batch job 418323\n"
     ]
    },
    {
     "name": "stderr",
     "output_type": "stream",
     "text": [
      "sbatch: Single node jobs run on a shared node by default. Add --exclusive if you want to use a node exclusively.\n",
      "sbatch: You will be charged for 0.03125 node. A full node consists of 32 CPU cores, 240000 MiB of memory and 0 GPUs and can be shared by up to 32 jobs.\n",
      "sbatch: Single node jobs run on a shared node by default. Add --exclusive if you want to use a node exclusively.\n",
      "sbatch: You will be charged for 0.03125 node. A full node consists of 32 CPU cores, 240000 MiB of memory and 0 GPUs and can be shared by up to 32 jobs.\n",
      "sbatch: Single node jobs run on a shared node by default. Add --exclusive if you want to use a node exclusively.\n",
      "sbatch: You will be charged for 0.03125 node. A full node consists of 32 CPU cores, 240000 MiB of memory and 0 GPUs and can be shared by up to 32 jobs.\n",
      "sbatch: Single node jobs run on a shared node by default. Add --exclusive if you want to use a node exclusively.\n",
      "sbatch: You will be charged for 0.03125 node. A full node consists of 32 CPU cores, 240000 MiB of memory and 0 GPUs and can be shared by up to 32 jobs.\n"
     ]
    },
    {
     "name": "stdout",
     "output_type": "stream",
     "text": [
      "Submitted batch job 418324\n",
      "Submitted batch job 418325\n",
      "Submitted batch job 418326\n",
      "Submitted batch job 418327\n"
     ]
    },
    {
     "name": "stderr",
     "output_type": "stream",
     "text": [
      "sbatch: Single node jobs run on a shared node by default. Add --exclusive if you want to use a node exclusively.\n",
      "sbatch: You will be charged for 0.03125 node. A full node consists of 32 CPU cores, 240000 MiB of memory and 0 GPUs and can be shared by up to 32 jobs.\n",
      "sbatch: Single node jobs run on a shared node by default. Add --exclusive if you want to use a node exclusively.\n",
      "sbatch: You will be charged for 0.03125 node. A full node consists of 32 CPU cores, 240000 MiB of memory and 0 GPUs and can be shared by up to 32 jobs.\n",
      "sbatch: Single node jobs run on a shared node by default. Add --exclusive if you want to use a node exclusively.\n",
      "sbatch: You will be charged for 0.03125 node. A full node consists of 32 CPU cores, 240000 MiB of memory and 0 GPUs and can be shared by up to 32 jobs.\n",
      "sbatch: Single node jobs run on a shared node by default. Add --exclusive if you want to use a node exclusively.\n",
      "sbatch: You will be charged for 0.03125 node. A full node consists of 32 CPU cores, 240000 MiB of memory and 0 GPUs and can be shared by up to 32 jobs.\n"
     ]
    },
    {
     "name": "stdout",
     "output_type": "stream",
     "text": [
      "Submitted batch job 418328\n",
      "Submitted batch job 418329\n",
      "Submitted batch job 418330\n",
      "Submitted batch job 418331\n"
     ]
    },
    {
     "name": "stderr",
     "output_type": "stream",
     "text": [
      "sbatch: Single node jobs run on a shared node by default. Add --exclusive if you want to use a node exclusively.\n",
      "sbatch: You will be charged for 0.03125 node. A full node consists of 32 CPU cores, 240000 MiB of memory and 0 GPUs and can be shared by up to 32 jobs.\n",
      "sbatch: Single node jobs run on a shared node by default. Add --exclusive if you want to use a node exclusively.\n",
      "sbatch: You will be charged for 0.03125 node. A full node consists of 32 CPU cores, 240000 MiB of memory and 0 GPUs and can be shared by up to 32 jobs.\n",
      "sbatch: Single node jobs run on a shared node by default. Add --exclusive if you want to use a node exclusively.\n",
      "sbatch: You will be charged for 0.03125 node. A full node consists of 32 CPU cores, 240000 MiB of memory and 0 GPUs and can be shared by up to 32 jobs.\n",
      "sbatch: Single node jobs run on a shared node by default. Add --exclusive if you want to use a node exclusively.\n",
      "sbatch: You will be charged for 0.03125 node. A full node consists of 32 CPU cores, 240000 MiB of memory and 0 GPUs and can be shared by up to 32 jobs.\n"
     ]
    },
    {
     "name": "stdout",
     "output_type": "stream",
     "text": [
      "Submitted batch job 418332\n",
      "Submitted batch job 418333\n",
      "Submitted batch job 418334\n",
      "Submitted batch job 418335\n"
     ]
    },
    {
     "name": "stderr",
     "output_type": "stream",
     "text": [
      "sbatch: Single node jobs run on a shared node by default. Add --exclusive if you want to use a node exclusively.\n",
      "sbatch: You will be charged for 0.03125 node. A full node consists of 32 CPU cores, 240000 MiB of memory and 0 GPUs and can be shared by up to 32 jobs.\n",
      "sbatch: Single node jobs run on a shared node by default. Add --exclusive if you want to use a node exclusively.\n",
      "sbatch: You will be charged for 0.03125 node. A full node consists of 32 CPU cores, 240000 MiB of memory and 0 GPUs and can be shared by up to 32 jobs.\n",
      "sbatch: Single node jobs run on a shared node by default. Add --exclusive if you want to use a node exclusively.\n",
      "sbatch: You will be charged for 0.03125 node. A full node consists of 32 CPU cores, 240000 MiB of memory and 0 GPUs and can be shared by up to 32 jobs.\n",
      "sbatch: Single node jobs run on a shared node by default. Add --exclusive if you want to use a node exclusively.\n",
      "sbatch: You will be charged for 0.03125 node. A full node consists of 32 CPU cores, 240000 MiB of memory and 0 GPUs and can be shared by up to 32 jobs.\n"
     ]
    },
    {
     "name": "stdout",
     "output_type": "stream",
     "text": [
      "Submitted batch job 418336\n",
      "Submitted batch job 418337\n",
      "Submitted batch job 418338\n",
      "Submitted batch job 418339\n",
      "Submitted batch job 418340\n",
      "Submitted batch job 418341\n",
      "Submitted batch job 418342\n",
      "Submitted batch job 418344\n"
     ]
    },
    {
     "name": "stderr",
     "output_type": "stream",
     "text": [
      "sbatch: Single node jobs run on a shared node by default. Add --exclusive if you want to use a node exclusively.\n",
      "sbatch: You will be charged for 0.03125 node. A full node consists of 32 CPU cores, 240000 MiB of memory and 0 GPUs and can be shared by up to 32 jobs.\n",
      "sbatch: Single node jobs run on a shared node by default. Add --exclusive if you want to use a node exclusively.\n",
      "sbatch: You will be charged for 0.03125 node. A full node consists of 32 CPU cores, 240000 MiB of memory and 0 GPUs and can be shared by up to 32 jobs.\n",
      "sbatch: Single node jobs run on a shared node by default. Add --exclusive if you want to use a node exclusively.\n",
      "sbatch: You will be charged for 0.03125 node. A full node consists of 32 CPU cores, 240000 MiB of memory and 0 GPUs and can be shared by up to 32 jobs.\n",
      "sbatch: Single node jobs run on a shared node by default. Add --exclusive if you want to use a node exclusively.\n",
      "sbatch: You will be charged for 0.03125 node. A full node consists of 32 CPU cores, 240000 MiB of memory and 0 GPUs and can be shared by up to 32 jobs.\n",
      "sbatch: Single node jobs run on a shared node by default. Add --exclusive if you want to use a node exclusively.\n",
      "sbatch: You will be charged for 0.03125 node. A full node consists of 32 CPU cores, 240000 MiB of memory and 0 GPUs and can be shared by up to 32 jobs.\n",
      "sbatch: Single node jobs run on a shared node by default. Add --exclusive if you want to use a node exclusively.\n",
      "sbatch: You will be charged for 0.03125 node. A full node consists of 32 CPU cores, 240000 MiB of memory and 0 GPUs and can be shared by up to 32 jobs.\n",
      "sbatch: Single node jobs run on a shared node by default. Add --exclusive if you want to use a node exclusively.\n",
      "sbatch: You will be charged for 0.03125 node. A full node consists of 32 CPU cores, 240000 MiB of memory and 0 GPUs and can be shared by up to 32 jobs.\n",
      "sbatch: Single node jobs run on a shared node by default. Add --exclusive if you want to use a node exclusively.\n",
      "sbatch: You will be charged for 0.03125 node. A full node consists of 32 CPU cores, 240000 MiB of memory and 0 GPUs and can be shared by up to 32 jobs.\n"
     ]
    },
    {
     "name": "stdout",
     "output_type": "stream",
     "text": [
      "Submitted batch job 418345\n",
      "Submitted batch job 418346\n",
      "Submitted batch job 418347\n",
      "Submitted batch job 418348\n"
     ]
    },
    {
     "name": "stderr",
     "output_type": "stream",
     "text": [
      "sbatch: Single node jobs run on a shared node by default. Add --exclusive if you want to use a node exclusively.\n",
      "sbatch: You will be charged for 0.03125 node. A full node consists of 32 CPU cores, 240000 MiB of memory and 0 GPUs and can be shared by up to 32 jobs.\n",
      "sbatch: Single node jobs run on a shared node by default. Add --exclusive if you want to use a node exclusively.\n",
      "sbatch: You will be charged for 0.03125 node. A full node consists of 32 CPU cores, 240000 MiB of memory and 0 GPUs and can be shared by up to 32 jobs.\n",
      "sbatch: Single node jobs run on a shared node by default. Add --exclusive if you want to use a node exclusively.\n",
      "sbatch: You will be charged for 0.03125 node. A full node consists of 32 CPU cores, 240000 MiB of memory and 0 GPUs and can be shared by up to 32 jobs.\n",
      "sbatch: Single node jobs run on a shared node by default. Add --exclusive if you want to use a node exclusively.\n",
      "sbatch: You will be charged for 0.03125 node. A full node consists of 32 CPU cores, 240000 MiB of memory and 0 GPUs and can be shared by up to 32 jobs.\n"
     ]
    },
    {
     "name": "stdout",
     "output_type": "stream",
     "text": [
      "Submitted batch job 418349\n",
      "Submitted batch job 418350\n",
      "Submitted batch job 418351\n",
      "Submitted batch job 418352\n"
     ]
    },
    {
     "name": "stderr",
     "output_type": "stream",
     "text": [
      "sbatch: Single node jobs run on a shared node by default. Add --exclusive if you want to use a node exclusively.\n",
      "sbatch: You will be charged for 0.03125 node. A full node consists of 32 CPU cores, 240000 MiB of memory and 0 GPUs and can be shared by up to 32 jobs.\n",
      "sbatch: Single node jobs run on a shared node by default. Add --exclusive if you want to use a node exclusively.\n",
      "sbatch: You will be charged for 0.03125 node. A full node consists of 32 CPU cores, 240000 MiB of memory and 0 GPUs and can be shared by up to 32 jobs.\n",
      "sbatch: Single node jobs run on a shared node by default. Add --exclusive if you want to use a node exclusively.\n",
      "sbatch: You will be charged for 0.03125 node. A full node consists of 32 CPU cores, 240000 MiB of memory and 0 GPUs and can be shared by up to 32 jobs.\n",
      "sbatch: Single node jobs run on a shared node by default. Add --exclusive if you want to use a node exclusively.\n",
      "sbatch: You will be charged for 0.03125 node. A full node consists of 32 CPU cores, 240000 MiB of memory and 0 GPUs and can be shared by up to 32 jobs.\n"
     ]
    },
    {
     "name": "stdout",
     "output_type": "stream",
     "text": [
      "Submitted batch job 418353\n",
      "Submitted batch job 418354\n",
      "Submitted batch job 418355\n",
      "Submitted batch job 418356\n"
     ]
    },
    {
     "name": "stderr",
     "output_type": "stream",
     "text": [
      "sbatch: Single node jobs run on a shared node by default. Add --exclusive if you want to use a node exclusively.\n",
      "sbatch: You will be charged for 0.03125 node. A full node consists of 32 CPU cores, 240000 MiB of memory and 0 GPUs and can be shared by up to 32 jobs.\n",
      "sbatch: Single node jobs run on a shared node by default. Add --exclusive if you want to use a node exclusively.\n",
      "sbatch: You will be charged for 0.03125 node. A full node consists of 32 CPU cores, 240000 MiB of memory and 0 GPUs and can be shared by up to 32 jobs.\n",
      "sbatch: Single node jobs run on a shared node by default. Add --exclusive if you want to use a node exclusively.\n",
      "sbatch: You will be charged for 0.03125 node. A full node consists of 32 CPU cores, 240000 MiB of memory and 0 GPUs and can be shared by up to 32 jobs.\n",
      "sbatch: Single node jobs run on a shared node by default. Add --exclusive if you want to use a node exclusively.\n",
      "sbatch: You will be charged for 0.03125 node. A full node consists of 32 CPU cores, 240000 MiB of memory and 0 GPUs and can be shared by up to 32 jobs.\n"
     ]
    },
    {
     "name": "stdout",
     "output_type": "stream",
     "text": [
      "Submitted batch job 418357\n",
      "Submitted batch job 418358\n",
      "Submitted batch job 418359\n",
      "Submitted batch job 418360\n"
     ]
    },
    {
     "name": "stderr",
     "output_type": "stream",
     "text": [
      "sbatch: Single node jobs run on a shared node by default. Add --exclusive if you want to use a node exclusively.\n",
      "sbatch: You will be charged for 0.03125 node. A full node consists of 32 CPU cores, 240000 MiB of memory and 0 GPUs and can be shared by up to 32 jobs.\n",
      "sbatch: Single node jobs run on a shared node by default. Add --exclusive if you want to use a node exclusively.\n",
      "sbatch: You will be charged for 0.03125 node. A full node consists of 32 CPU cores, 240000 MiB of memory and 0 GPUs and can be shared by up to 32 jobs.\n",
      "sbatch: Single node jobs run on a shared node by default. Add --exclusive if you want to use a node exclusively.\n",
      "sbatch: You will be charged for 0.03125 node. A full node consists of 32 CPU cores, 240000 MiB of memory and 0 GPUs and can be shared by up to 32 jobs.\n",
      "sbatch: Single node jobs run on a shared node by default. Add --exclusive if you want to use a node exclusively.\n",
      "sbatch: You will be charged for 0.03125 node. A full node consists of 32 CPU cores, 240000 MiB of memory and 0 GPUs and can be shared by up to 32 jobs.\n"
     ]
    },
    {
     "name": "stdout",
     "output_type": "stream",
     "text": [
      "Submitted batch job 418361\n",
      "Submitted batch job 418362\n",
      "Submitted batch job 418363\n",
      "Submitted batch job 418364\n"
     ]
    },
    {
     "name": "stderr",
     "output_type": "stream",
     "text": [
      "sbatch: Single node jobs run on a shared node by default. Add --exclusive if you want to use a node exclusively.\n",
      "sbatch: You will be charged for 0.03125 node. A full node consists of 32 CPU cores, 240000 MiB of memory and 0 GPUs and can be shared by up to 32 jobs.\n",
      "sbatch: Single node jobs run on a shared node by default. Add --exclusive if you want to use a node exclusively.\n",
      "sbatch: You will be charged for 0.03125 node. A full node consists of 32 CPU cores, 240000 MiB of memory and 0 GPUs and can be shared by up to 32 jobs.\n",
      "sbatch: Single node jobs run on a shared node by default. Add --exclusive if you want to use a node exclusively.\n",
      "sbatch: You will be charged for 0.03125 node. A full node consists of 32 CPU cores, 240000 MiB of memory and 0 GPUs and can be shared by up to 32 jobs.\n",
      "sbatch: Single node jobs run on a shared node by default. Add --exclusive if you want to use a node exclusively.\n",
      "sbatch: You will be charged for 0.03125 node. A full node consists of 32 CPU cores, 240000 MiB of memory and 0 GPUs and can be shared by up to 32 jobs.\n"
     ]
    },
    {
     "name": "stdout",
     "output_type": "stream",
     "text": [
      "Submitted batch job 418366\n",
      "Submitted batch job 418367\n",
      "Submitted batch job 418368\n",
      "Submitted batch job 418369\n"
     ]
    },
    {
     "name": "stderr",
     "output_type": "stream",
     "text": [
      "sbatch: Single node jobs run on a shared node by default. Add --exclusive if you want to use a node exclusively.\n",
      "sbatch: You will be charged for 0.03125 node. A full node consists of 32 CPU cores, 240000 MiB of memory and 0 GPUs and can be shared by up to 32 jobs.\n",
      "sbatch: Single node jobs run on a shared node by default. Add --exclusive if you want to use a node exclusively.\n",
      "sbatch: You will be charged for 0.03125 node. A full node consists of 32 CPU cores, 240000 MiB of memory and 0 GPUs and can be shared by up to 32 jobs.\n",
      "sbatch: Single node jobs run on a shared node by default. Add --exclusive if you want to use a node exclusively.\n",
      "sbatch: You will be charged for 0.03125 node. A full node consists of 32 CPU cores, 240000 MiB of memory and 0 GPUs and can be shared by up to 32 jobs.\n",
      "sbatch: Single node jobs run on a shared node by default. Add --exclusive if you want to use a node exclusively.\n",
      "sbatch: You will be charged for 0.03125 node. A full node consists of 32 CPU cores, 240000 MiB of memory and 0 GPUs and can be shared by up to 32 jobs.\n"
     ]
    },
    {
     "name": "stdout",
     "output_type": "stream",
     "text": [
      "Submitted batch job 418370\n",
      "Submitted batch job 418371\n",
      "Submitted batch job 418372\n",
      "Submitted batch job 418373\n"
     ]
    },
    {
     "name": "stderr",
     "output_type": "stream",
     "text": [
      "sbatch: Single node jobs run on a shared node by default. Add --exclusive if you want to use a node exclusively.\n",
      "sbatch: You will be charged for 0.03125 node. A full node consists of 32 CPU cores, 240000 MiB of memory and 0 GPUs and can be shared by up to 32 jobs.\n",
      "sbatch: Single node jobs run on a shared node by default. Add --exclusive if you want to use a node exclusively.\n",
      "sbatch: You will be charged for 0.03125 node. A full node consists of 32 CPU cores, 240000 MiB of memory and 0 GPUs and can be shared by up to 32 jobs.\n",
      "sbatch: Single node jobs run on a shared node by default. Add --exclusive if you want to use a node exclusively.\n",
      "sbatch: You will be charged for 0.03125 node. A full node consists of 32 CPU cores, 240000 MiB of memory and 0 GPUs and can be shared by up to 32 jobs.\n",
      "sbatch: Single node jobs run on a shared node by default. Add --exclusive if you want to use a node exclusively.\n",
      "sbatch: You will be charged for 0.03125 node. A full node consists of 32 CPU cores, 240000 MiB of memory and 0 GPUs and can be shared by up to 32 jobs.\n"
     ]
    },
    {
     "name": "stdout",
     "output_type": "stream",
     "text": [
      "Submitted batch job 418374\n",
      "Submitted batch job 418375\n",
      "Submitted batch job 418376\n",
      "Submitted batch job 418377\n"
     ]
    },
    {
     "name": "stderr",
     "output_type": "stream",
     "text": [
      "sbatch: Single node jobs run on a shared node by default. Add --exclusive if you want to use a node exclusively.\n",
      "sbatch: You will be charged for 0.03125 node. A full node consists of 32 CPU cores, 240000 MiB of memory and 0 GPUs and can be shared by up to 32 jobs.\n",
      "sbatch: Single node jobs run on a shared node by default. Add --exclusive if you want to use a node exclusively.\n",
      "sbatch: You will be charged for 0.03125 node. A full node consists of 32 CPU cores, 240000 MiB of memory and 0 GPUs and can be shared by up to 32 jobs.\n",
      "sbatch: Single node jobs run on a shared node by default. Add --exclusive if you want to use a node exclusively.\n",
      "sbatch: You will be charged for 0.03125 node. A full node consists of 32 CPU cores, 240000 MiB of memory and 0 GPUs and can be shared by up to 32 jobs.\n",
      "sbatch: Single node jobs run on a shared node by default. Add --exclusive if you want to use a node exclusively.\n",
      "sbatch: You will be charged for 0.03125 node. A full node consists of 32 CPU cores, 240000 MiB of memory and 0 GPUs and can be shared by up to 32 jobs.\n"
     ]
    },
    {
     "name": "stdout",
     "output_type": "stream",
     "text": [
      "Submitted batch job 418378\n",
      "Submitted batch job 418379\n",
      "Submitted batch job 418380\n",
      "Submitted batch job 418381\n",
      "Submitted batch job 418382\n",
      "Submitted batch job 418383\n",
      "Submitted batch job 418384\n",
      "Submitted batch job 418385\n"
     ]
    },
    {
     "name": "stderr",
     "output_type": "stream",
     "text": [
      "sbatch: Single node jobs run on a shared node by default. Add --exclusive if you want to use a node exclusively.\n",
      "sbatch: You will be charged for 0.03125 node. A full node consists of 32 CPU cores, 240000 MiB of memory and 0 GPUs and can be shared by up to 32 jobs.\n",
      "sbatch: Single node jobs run on a shared node by default. Add --exclusive if you want to use a node exclusively.\n",
      "sbatch: You will be charged for 0.03125 node. A full node consists of 32 CPU cores, 240000 MiB of memory and 0 GPUs and can be shared by up to 32 jobs.\n",
      "sbatch: Single node jobs run on a shared node by default. Add --exclusive if you want to use a node exclusively.\n",
      "sbatch: You will be charged for 0.03125 node. A full node consists of 32 CPU cores, 240000 MiB of memory and 0 GPUs and can be shared by up to 32 jobs.\n",
      "sbatch: Single node jobs run on a shared node by default. Add --exclusive if you want to use a node exclusively.\n",
      "sbatch: You will be charged for 0.03125 node. A full node consists of 32 CPU cores, 240000 MiB of memory and 0 GPUs and can be shared by up to 32 jobs.\n",
      "sbatch: Single node jobs run on a shared node by default. Add --exclusive if you want to use a node exclusively.\n",
      "sbatch: You will be charged for 0.03125 node. A full node consists of 32 CPU cores, 240000 MiB of memory and 0 GPUs and can be shared by up to 32 jobs.\n",
      "sbatch: Single node jobs run on a shared node by default. Add --exclusive if you want to use a node exclusively.\n",
      "sbatch: You will be charged for 0.03125 node. A full node consists of 32 CPU cores, 240000 MiB of memory and 0 GPUs and can be shared by up to 32 jobs.\n",
      "sbatch: Single node jobs run on a shared node by default. Add --exclusive if you want to use a node exclusively.\n",
      "sbatch: You will be charged for 0.03125 node. A full node consists of 32 CPU cores, 240000 MiB of memory and 0 GPUs and can be shared by up to 32 jobs.\n",
      "sbatch: Single node jobs run on a shared node by default. Add --exclusive if you want to use a node exclusively.\n",
      "sbatch: You will be charged for 0.03125 node. A full node consists of 32 CPU cores, 240000 MiB of memory and 0 GPUs and can be shared by up to 32 jobs.\n"
     ]
    },
    {
     "name": "stdout",
     "output_type": "stream",
     "text": [
      "Submitted batch job 418386\n",
      "Submitted batch job 418388\n",
      "Submitted batch job 418389\n",
      "Submitted batch job 418390\n"
     ]
    },
    {
     "name": "stderr",
     "output_type": "stream",
     "text": [
      "sbatch: Single node jobs run on a shared node by default. Add --exclusive if you want to use a node exclusively.\n",
      "sbatch: You will be charged for 0.03125 node. A full node consists of 32 CPU cores, 240000 MiB of memory and 0 GPUs and can be shared by up to 32 jobs.\n",
      "sbatch: Single node jobs run on a shared node by default. Add --exclusive if you want to use a node exclusively.\n",
      "sbatch: You will be charged for 0.03125 node. A full node consists of 32 CPU cores, 240000 MiB of memory and 0 GPUs and can be shared by up to 32 jobs.\n",
      "sbatch: Single node jobs run on a shared node by default. Add --exclusive if you want to use a node exclusively.\n",
      "sbatch: You will be charged for 0.03125 node. A full node consists of 32 CPU cores, 240000 MiB of memory and 0 GPUs and can be shared by up to 32 jobs.\n",
      "sbatch: Single node jobs run on a shared node by default. Add --exclusive if you want to use a node exclusively.\n",
      "sbatch: You will be charged for 0.03125 node. A full node consists of 32 CPU cores, 240000 MiB of memory and 0 GPUs and can be shared by up to 32 jobs.\n"
     ]
    },
    {
     "name": "stdout",
     "output_type": "stream",
     "text": [
      "Submitted batch job 418391\n",
      "Submitted batch job 418392\n",
      "Submitted batch job 418393\n",
      "Submitted batch job 418394\n"
     ]
    },
    {
     "name": "stderr",
     "output_type": "stream",
     "text": [
      "sbatch: Single node jobs run on a shared node by default. Add --exclusive if you want to use a node exclusively.\n",
      "sbatch: You will be charged for 0.03125 node. A full node consists of 32 CPU cores, 240000 MiB of memory and 0 GPUs and can be shared by up to 32 jobs.\n",
      "sbatch: Single node jobs run on a shared node by default. Add --exclusive if you want to use a node exclusively.\n",
      "sbatch: You will be charged for 0.03125 node. A full node consists of 32 CPU cores, 240000 MiB of memory and 0 GPUs and can be shared by up to 32 jobs.\n",
      "sbatch: Single node jobs run on a shared node by default. Add --exclusive if you want to use a node exclusively.\n",
      "sbatch: You will be charged for 0.03125 node. A full node consists of 32 CPU cores, 240000 MiB of memory and 0 GPUs and can be shared by up to 32 jobs.\n",
      "sbatch: Single node jobs run on a shared node by default. Add --exclusive if you want to use a node exclusively.\n",
      "sbatch: You will be charged for 0.03125 node. A full node consists of 32 CPU cores, 240000 MiB of memory and 0 GPUs and can be shared by up to 32 jobs.\n"
     ]
    },
    {
     "name": "stdout",
     "output_type": "stream",
     "text": [
      "Submitted batch job 418395\n",
      "Submitted batch job 418396\n",
      "Submitted batch job 418397\n",
      "Submitted batch job 418398\n"
     ]
    },
    {
     "name": "stderr",
     "output_type": "stream",
     "text": [
      "sbatch: Single node jobs run on a shared node by default. Add --exclusive if you want to use a node exclusively.\n",
      "sbatch: You will be charged for 0.03125 node. A full node consists of 32 CPU cores, 240000 MiB of memory and 0 GPUs and can be shared by up to 32 jobs.\n",
      "sbatch: Single node jobs run on a shared node by default. Add --exclusive if you want to use a node exclusively.\n",
      "sbatch: You will be charged for 0.03125 node. A full node consists of 32 CPU cores, 240000 MiB of memory and 0 GPUs and can be shared by up to 32 jobs.\n",
      "sbatch: Single node jobs run on a shared node by default. Add --exclusive if you want to use a node exclusively.\n",
      "sbatch: You will be charged for 0.03125 node. A full node consists of 32 CPU cores, 240000 MiB of memory and 0 GPUs and can be shared by up to 32 jobs.\n",
      "sbatch: Single node jobs run on a shared node by default. Add --exclusive if you want to use a node exclusively.\n",
      "sbatch: You will be charged for 0.03125 node. A full node consists of 32 CPU cores, 240000 MiB of memory and 0 GPUs and can be shared by up to 32 jobs.\n"
     ]
    },
    {
     "name": "stdout",
     "output_type": "stream",
     "text": [
      "Submitted batch job 418399\n",
      "Submitted batch job 418400\n",
      "Submitted batch job 418401\n",
      "Submitted batch job 418402\n",
      "Submitted batch job 418403\n",
      "Submitted batch job 418404\n",
      "Submitted batch job 418405\n",
      "Submitted batch job 418406\n"
     ]
    },
    {
     "name": "stderr",
     "output_type": "stream",
     "text": [
      "sbatch: Single node jobs run on a shared node by default. Add --exclusive if you want to use a node exclusively.\n",
      "sbatch: You will be charged for 0.03125 node. A full node consists of 32 CPU cores, 240000 MiB of memory and 0 GPUs and can be shared by up to 32 jobs.\n",
      "sbatch: Single node jobs run on a shared node by default. Add --exclusive if you want to use a node exclusively.\n",
      "sbatch: You will be charged for 0.03125 node. A full node consists of 32 CPU cores, 240000 MiB of memory and 0 GPUs and can be shared by up to 32 jobs.\n",
      "sbatch: Single node jobs run on a shared node by default. Add --exclusive if you want to use a node exclusively.\n",
      "sbatch: You will be charged for 0.03125 node. A full node consists of 32 CPU cores, 240000 MiB of memory and 0 GPUs and can be shared by up to 32 jobs.\n",
      "sbatch: Single node jobs run on a shared node by default. Add --exclusive if you want to use a node exclusively.\n",
      "sbatch: You will be charged for 0.03125 node. A full node consists of 32 CPU cores, 240000 MiB of memory and 0 GPUs and can be shared by up to 32 jobs.\n",
      "sbatch: Single node jobs run on a shared node by default. Add --exclusive if you want to use a node exclusively.\n",
      "sbatch: You will be charged for 0.03125 node. A full node consists of 32 CPU cores, 240000 MiB of memory and 0 GPUs and can be shared by up to 32 jobs.\n",
      "sbatch: Single node jobs run on a shared node by default. Add --exclusive if you want to use a node exclusively.\n",
      "sbatch: You will be charged for 0.03125 node. A full node consists of 32 CPU cores, 240000 MiB of memory and 0 GPUs and can be shared by up to 32 jobs.\n",
      "sbatch: Single node jobs run on a shared node by default. Add --exclusive if you want to use a node exclusively.\n",
      "sbatch: You will be charged for 0.03125 node. A full node consists of 32 CPU cores, 240000 MiB of memory and 0 GPUs and can be shared by up to 32 jobs.\n",
      "sbatch: Single node jobs run on a shared node by default. Add --exclusive if you want to use a node exclusively.\n",
      "sbatch: You will be charged for 0.03125 node. A full node consists of 32 CPU cores, 240000 MiB of memory and 0 GPUs and can be shared by up to 32 jobs.\n"
     ]
    },
    {
     "name": "stdout",
     "output_type": "stream",
     "text": [
      "Submitted batch job 418407\n",
      "Submitted batch job 418408\n",
      "Submitted batch job 418409\n",
      "Submitted batch job 418411\n"
     ]
    },
    {
     "name": "stderr",
     "output_type": "stream",
     "text": [
      "sbatch: Single node jobs run on a shared node by default. Add --exclusive if you want to use a node exclusively.\n",
      "sbatch: You will be charged for 0.03125 node. A full node consists of 32 CPU cores, 240000 MiB of memory and 0 GPUs and can be shared by up to 32 jobs.\n",
      "sbatch: Single node jobs run on a shared node by default. Add --exclusive if you want to use a node exclusively.\n",
      "sbatch: You will be charged for 0.03125 node. A full node consists of 32 CPU cores, 240000 MiB of memory and 0 GPUs and can be shared by up to 32 jobs.\n",
      "sbatch: Single node jobs run on a shared node by default. Add --exclusive if you want to use a node exclusively.\n",
      "sbatch: You will be charged for 0.03125 node. A full node consists of 32 CPU cores, 240000 MiB of memory and 0 GPUs and can be shared by up to 32 jobs.\n"
     ]
    },
    {
     "name": "stdout",
     "output_type": "stream",
     "text": [
      "Submitted batch job 418412\n",
      "Submitted batch job 418413\n",
      "Submitted batch job 418414\n"
     ]
    },
    {
     "name": "stderr",
     "output_type": "stream",
     "text": [
      "sbatch: Single node jobs run on a shared node by default. Add --exclusive if you want to use a node exclusively.\n",
      "sbatch: You will be charged for 0.03125 node. A full node consists of 32 CPU cores, 240000 MiB of memory and 0 GPUs and can be shared by up to 32 jobs.\n",
      "sbatch: Single node jobs run on a shared node by default. Add --exclusive if you want to use a node exclusively.\n",
      "sbatch: You will be charged for 0.03125 node. A full node consists of 32 CPU cores, 240000 MiB of memory and 0 GPUs and can be shared by up to 32 jobs.\n",
      "sbatch: Single node jobs run on a shared node by default. Add --exclusive if you want to use a node exclusively.\n",
      "sbatch: You will be charged for 0.03125 node. A full node consists of 32 CPU cores, 240000 MiB of memory and 0 GPUs and can be shared by up to 32 jobs.\n",
      "sbatch: Single node jobs run on a shared node by default. Add --exclusive if you want to use a node exclusively.\n",
      "sbatch: You will be charged for 0.03125 node. A full node consists of 32 CPU cores, 240000 MiB of memory and 0 GPUs and can be shared by up to 32 jobs.\n"
     ]
    },
    {
     "name": "stdout",
     "output_type": "stream",
     "text": [
      "Submitted batch job 418415\n",
      "Submitted batch job 418416\n",
      "Submitted batch job 418417\n",
      "Submitted batch job 418418\n"
     ]
    },
    {
     "name": "stderr",
     "output_type": "stream",
     "text": [
      "sbatch: Single node jobs run on a shared node by default. Add --exclusive if you want to use a node exclusively.\n",
      "sbatch: You will be charged for 0.03125 node. A full node consists of 32 CPU cores, 240000 MiB of memory and 0 GPUs and can be shared by up to 32 jobs.\n",
      "sbatch: Single node jobs run on a shared node by default. Add --exclusive if you want to use a node exclusively.\n",
      "sbatch: You will be charged for 0.03125 node. A full node consists of 32 CPU cores, 240000 MiB of memory and 0 GPUs and can be shared by up to 32 jobs.\n",
      "sbatch: Single node jobs run on a shared node by default. Add --exclusive if you want to use a node exclusively.\n",
      "sbatch: You will be charged for 0.03125 node. A full node consists of 32 CPU cores, 240000 MiB of memory and 0 GPUs and can be shared by up to 32 jobs.\n",
      "sbatch: Single node jobs run on a shared node by default. Add --exclusive if you want to use a node exclusively.\n",
      "sbatch: You will be charged for 0.03125 node. A full node consists of 32 CPU cores, 240000 MiB of memory and 0 GPUs and can be shared by up to 32 jobs.\n"
     ]
    },
    {
     "name": "stdout",
     "output_type": "stream",
     "text": [
      "Submitted batch job 418419\n",
      "Submitted batch job 418420\n",
      "Submitted batch job 418421\n",
      "Submitted batch job 418422\n"
     ]
    },
    {
     "name": "stderr",
     "output_type": "stream",
     "text": [
      "sbatch: Single node jobs run on a shared node by default. Add --exclusive if you want to use a node exclusively.\n",
      "sbatch: You will be charged for 0.03125 node. A full node consists of 32 CPU cores, 240000 MiB of memory and 0 GPUs and can be shared by up to 32 jobs.\n",
      "sbatch: Single node jobs run on a shared node by default. Add --exclusive if you want to use a node exclusively.\n",
      "sbatch: You will be charged for 0.03125 node. A full node consists of 32 CPU cores, 240000 MiB of memory and 0 GPUs and can be shared by up to 32 jobs.\n",
      "sbatch: Single node jobs run on a shared node by default. Add --exclusive if you want to use a node exclusively.\n",
      "sbatch: You will be charged for 0.03125 node. A full node consists of 32 CPU cores, 240000 MiB of memory and 0 GPUs and can be shared by up to 32 jobs.\n",
      "sbatch: Single node jobs run on a shared node by default. Add --exclusive if you want to use a node exclusively.\n",
      "sbatch: You will be charged for 0.03125 node. A full node consists of 32 CPU cores, 240000 MiB of memory and 0 GPUs and can be shared by up to 32 jobs.\n"
     ]
    },
    {
     "name": "stdout",
     "output_type": "stream",
     "text": [
      "Submitted batch job 418423\n",
      "Submitted batch job 418424\n",
      "Submitted batch job 418425\n",
      "Submitted batch job 418426\n"
     ]
    },
    {
     "name": "stderr",
     "output_type": "stream",
     "text": [
      "sbatch: Single node jobs run on a shared node by default. Add --exclusive if you want to use a node exclusively.\n",
      "sbatch: You will be charged for 0.03125 node. A full node consists of 32 CPU cores, 240000 MiB of memory and 0 GPUs and can be shared by up to 32 jobs.\n",
      "sbatch: Single node jobs run on a shared node by default. Add --exclusive if you want to use a node exclusively.\n",
      "sbatch: You will be charged for 0.03125 node. A full node consists of 32 CPU cores, 240000 MiB of memory and 0 GPUs and can be shared by up to 32 jobs.\n",
      "sbatch: Single node jobs run on a shared node by default. Add --exclusive if you want to use a node exclusively.\n",
      "sbatch: You will be charged for 0.03125 node. A full node consists of 32 CPU cores, 240000 MiB of memory and 0 GPUs and can be shared by up to 32 jobs.\n",
      "sbatch: Single node jobs run on a shared node by default. Add --exclusive if you want to use a node exclusively.\n",
      "sbatch: You will be charged for 0.03125 node. A full node consists of 32 CPU cores, 240000 MiB of memory and 0 GPUs and can be shared by up to 32 jobs.\n"
     ]
    },
    {
     "name": "stdout",
     "output_type": "stream",
     "text": [
      "Submitted batch job 418427\n",
      "Submitted batch job 418428\n",
      "Submitted batch job 418429\n",
      "Submitted batch job 418431\n"
     ]
    },
    {
     "name": "stderr",
     "output_type": "stream",
     "text": [
      "sbatch: Single node jobs run on a shared node by default. Add --exclusive if you want to use a node exclusively.\n",
      "sbatch: You will be charged for 0.03125 node. A full node consists of 32 CPU cores, 240000 MiB of memory and 0 GPUs and can be shared by up to 32 jobs.\n",
      "sbatch: Single node jobs run on a shared node by default. Add --exclusive if you want to use a node exclusively.\n",
      "sbatch: You will be charged for 0.03125 node. A full node consists of 32 CPU cores, 240000 MiB of memory and 0 GPUs and can be shared by up to 32 jobs.\n",
      "sbatch: Single node jobs run on a shared node by default. Add --exclusive if you want to use a node exclusively.\n",
      "sbatch: You will be charged for 0.03125 node. A full node consists of 32 CPU cores, 240000 MiB of memory and 0 GPUs and can be shared by up to 32 jobs.\n",
      "sbatch: Single node jobs run on a shared node by default. Add --exclusive if you want to use a node exclusively.\n",
      "sbatch: You will be charged for 0.03125 node. A full node consists of 32 CPU cores, 240000 MiB of memory and 0 GPUs and can be shared by up to 32 jobs.\n"
     ]
    },
    {
     "name": "stdout",
     "output_type": "stream",
     "text": [
      "Submitted batch job 418432\n",
      "Submitted batch job 418433\n",
      "Submitted batch job 418434\n",
      "Submitted batch job 418435\n"
     ]
    },
    {
     "name": "stderr",
     "output_type": "stream",
     "text": [
      "sbatch: Single node jobs run on a shared node by default. Add --exclusive if you want to use a node exclusively.\n",
      "sbatch: You will be charged for 0.03125 node. A full node consists of 32 CPU cores, 240000 MiB of memory and 0 GPUs and can be shared by up to 32 jobs.\n",
      "sbatch: Single node jobs run on a shared node by default. Add --exclusive if you want to use a node exclusively.\n",
      "sbatch: You will be charged for 0.03125 node. A full node consists of 32 CPU cores, 240000 MiB of memory and 0 GPUs and can be shared by up to 32 jobs.\n",
      "sbatch: Single node jobs run on a shared node by default. Add --exclusive if you want to use a node exclusively.\n",
      "sbatch: You will be charged for 0.03125 node. A full node consists of 32 CPU cores, 240000 MiB of memory and 0 GPUs and can be shared by up to 32 jobs.\n",
      "sbatch: Single node jobs run on a shared node by default. Add --exclusive if you want to use a node exclusively.\n",
      "sbatch: You will be charged for 0.03125 node. A full node consists of 32 CPU cores, 240000 MiB of memory and 0 GPUs and can be shared by up to 32 jobs.\n"
     ]
    },
    {
     "name": "stdout",
     "output_type": "stream",
     "text": [
      "Submitted batch job 418436\n",
      "Submitted batch job 418437\n",
      "Submitted batch job 418438\n",
      "Submitted batch job 418439\n"
     ]
    },
    {
     "name": "stderr",
     "output_type": "stream",
     "text": [
      "sbatch: Single node jobs run on a shared node by default. Add --exclusive if you want to use a node exclusively.\n",
      "sbatch: You will be charged for 0.03125 node. A full node consists of 32 CPU cores, 240000 MiB of memory and 0 GPUs and can be shared by up to 32 jobs.\n",
      "sbatch: Single node jobs run on a shared node by default. Add --exclusive if you want to use a node exclusively.\n",
      "sbatch: You will be charged for 0.03125 node. A full node consists of 32 CPU cores, 240000 MiB of memory and 0 GPUs and can be shared by up to 32 jobs.\n",
      "sbatch: Single node jobs run on a shared node by default. Add --exclusive if you want to use a node exclusively.\n",
      "sbatch: You will be charged for 0.03125 node. A full node consists of 32 CPU cores, 240000 MiB of memory and 0 GPUs and can be shared by up to 32 jobs.\n",
      "sbatch: Single node jobs run on a shared node by default. Add --exclusive if you want to use a node exclusively.\n",
      "sbatch: You will be charged for 0.03125 node. A full node consists of 32 CPU cores, 240000 MiB of memory and 0 GPUs and can be shared by up to 32 jobs.\n"
     ]
    },
    {
     "name": "stdout",
     "output_type": "stream",
     "text": [
      "Submitted batch job 418440\n",
      "Submitted batch job 418441\n",
      "Submitted batch job 418442\n",
      "Submitted batch job 418443\n",
      "Submitted batch job 418444\n",
      "Submitted batch job 418445\n",
      "Submitted batch job 418446\n",
      "Submitted batch job 418447\n"
     ]
    },
    {
     "name": "stderr",
     "output_type": "stream",
     "text": [
      "sbatch: Single node jobs run on a shared node by default. Add --exclusive if you want to use a node exclusively.\n",
      "sbatch: You will be charged for 0.03125 node. A full node consists of 32 CPU cores, 240000 MiB of memory and 0 GPUs and can be shared by up to 32 jobs.\n",
      "sbatch: Single node jobs run on a shared node by default. Add --exclusive if you want to use a node exclusively.\n",
      "sbatch: You will be charged for 0.03125 node. A full node consists of 32 CPU cores, 240000 MiB of memory and 0 GPUs and can be shared by up to 32 jobs.\n",
      "sbatch: Single node jobs run on a shared node by default. Add --exclusive if you want to use a node exclusively.\n",
      "sbatch: You will be charged for 0.03125 node. A full node consists of 32 CPU cores, 240000 MiB of memory and 0 GPUs and can be shared by up to 32 jobs.\n",
      "sbatch: Single node jobs run on a shared node by default. Add --exclusive if you want to use a node exclusively.\n",
      "sbatch: You will be charged for 0.03125 node. A full node consists of 32 CPU cores, 240000 MiB of memory and 0 GPUs and can be shared by up to 32 jobs.\n",
      "sbatch: Single node jobs run on a shared node by default. Add --exclusive if you want to use a node exclusively.\n",
      "sbatch: You will be charged for 0.03125 node. A full node consists of 32 CPU cores, 240000 MiB of memory and 0 GPUs and can be shared by up to 32 jobs.\n",
      "sbatch: Single node jobs run on a shared node by default. Add --exclusive if you want to use a node exclusively.\n",
      "sbatch: You will be charged for 0.03125 node. A full node consists of 32 CPU cores, 240000 MiB of memory and 0 GPUs and can be shared by up to 32 jobs.\n",
      "sbatch: Single node jobs run on a shared node by default. Add --exclusive if you want to use a node exclusively.\n",
      "sbatch: You will be charged for 0.03125 node. A full node consists of 32 CPU cores, 240000 MiB of memory and 0 GPUs and can be shared by up to 32 jobs.\n",
      "sbatch: Single node jobs run on a shared node by default. Add --exclusive if you want to use a node exclusively.\n",
      "sbatch: You will be charged for 0.03125 node. A full node consists of 32 CPU cores, 240000 MiB of memory and 0 GPUs and can be shared by up to 32 jobs.\n"
     ]
    },
    {
     "name": "stdout",
     "output_type": "stream",
     "text": [
      "Submitted batch job 418448\n",
      "Submitted batch job 418449\n",
      "Submitted batch job 418450\n",
      "Submitted batch job 418452\n"
     ]
    },
    {
     "name": "stderr",
     "output_type": "stream",
     "text": [
      "sbatch: Single node jobs run on a shared node by default. Add --exclusive if you want to use a node exclusively.\n",
      "sbatch: You will be charged for 0.03125 node. A full node consists of 32 CPU cores, 240000 MiB of memory and 0 GPUs and can be shared by up to 32 jobs.\n",
      "sbatch: Single node jobs run on a shared node by default. Add --exclusive if you want to use a node exclusively.\n",
      "sbatch: You will be charged for 0.03125 node. A full node consists of 32 CPU cores, 240000 MiB of memory and 0 GPUs and can be shared by up to 32 jobs.\n",
      "sbatch: Single node jobs run on a shared node by default. Add --exclusive if you want to use a node exclusively.\n",
      "sbatch: You will be charged for 0.03125 node. A full node consists of 32 CPU cores, 240000 MiB of memory and 0 GPUs and can be shared by up to 32 jobs.\n",
      "sbatch: Single node jobs run on a shared node by default. Add --exclusive if you want to use a node exclusively.\n",
      "sbatch: You will be charged for 0.03125 node. A full node consists of 32 CPU cores, 240000 MiB of memory and 0 GPUs and can be shared by up to 32 jobs.\n"
     ]
    },
    {
     "name": "stdout",
     "output_type": "stream",
     "text": [
      "Submitted batch job 418453\n",
      "Submitted batch job 418454\n",
      "Submitted batch job 418455\n",
      "Submitted batch job 418456\n"
     ]
    },
    {
     "name": "stderr",
     "output_type": "stream",
     "text": [
      "sbatch: Single node jobs run on a shared node by default. Add --exclusive if you want to use a node exclusively.\n",
      "sbatch: You will be charged for 0.03125 node. A full node consists of 32 CPU cores, 240000 MiB of memory and 0 GPUs and can be shared by up to 32 jobs.\n",
      "sbatch: Single node jobs run on a shared node by default. Add --exclusive if you want to use a node exclusively.\n",
      "sbatch: You will be charged for 0.03125 node. A full node consists of 32 CPU cores, 240000 MiB of memory and 0 GPUs and can be shared by up to 32 jobs.\n",
      "sbatch: Single node jobs run on a shared node by default. Add --exclusive if you want to use a node exclusively.\n",
      "sbatch: You will be charged for 0.03125 node. A full node consists of 32 CPU cores, 240000 MiB of memory and 0 GPUs and can be shared by up to 32 jobs.\n",
      "sbatch: Single node jobs run on a shared node by default. Add --exclusive if you want to use a node exclusively.\n",
      "sbatch: You will be charged for 0.03125 node. A full node consists of 32 CPU cores, 240000 MiB of memory and 0 GPUs and can be shared by up to 32 jobs.\n"
     ]
    },
    {
     "name": "stdout",
     "output_type": "stream",
     "text": [
      "Submitted batch job 418457\n",
      "Submitted batch job 418458\n",
      "Submitted batch job 418459\n",
      "Submitted batch job 418460\n"
     ]
    },
    {
     "name": "stderr",
     "output_type": "stream",
     "text": [
      "sbatch: Single node jobs run on a shared node by default. Add --exclusive if you want to use a node exclusively.\n",
      "sbatch: You will be charged for 0.03125 node. A full node consists of 32 CPU cores, 240000 MiB of memory and 0 GPUs and can be shared by up to 32 jobs.\n",
      "sbatch: Single node jobs run on a shared node by default. Add --exclusive if you want to use a node exclusively.\n",
      "sbatch: You will be charged for 0.03125 node. A full node consists of 32 CPU cores, 240000 MiB of memory and 0 GPUs and can be shared by up to 32 jobs.\n",
      "sbatch: Single node jobs run on a shared node by default. Add --exclusive if you want to use a node exclusively.\n",
      "sbatch: You will be charged for 0.03125 node. A full node consists of 32 CPU cores, 240000 MiB of memory and 0 GPUs and can be shared by up to 32 jobs.\n"
     ]
    },
    {
     "name": "stdout",
     "output_type": "stream",
     "text": [
      "Submitted batch job 418461\n",
      "Submitted batch job 418462\n",
      "Submitted batch job 418463\n",
      "Submitted batch job 418464\n",
      "Submitted batch job 418465\n"
     ]
    },
    {
     "name": "stderr",
     "output_type": "stream",
     "text": [
      "sbatch: Single node jobs run on a shared node by default. Add --exclusive if you want to use a node exclusively.\n",
      "sbatch: You will be charged for 0.03125 node. A full node consists of 32 CPU cores, 240000 MiB of memory and 0 GPUs and can be shared by up to 32 jobs.\n",
      "sbatch: Single node jobs run on a shared node by default. Add --exclusive if you want to use a node exclusively.\n",
      "sbatch: You will be charged for 0.03125 node. A full node consists of 32 CPU cores, 240000 MiB of memory and 0 GPUs and can be shared by up to 32 jobs.\n"
     ]
    },
    {
     "name": "stdout",
     "output_type": "stream",
     "text": [
      "Submitted batch job 418466\n",
      "Submitted batch job 418467\n"
     ]
    },
    {
     "name": "stderr",
     "output_type": "stream",
     "text": [
      "sbatch: Single node jobs run on a shared node by default. Add --exclusive if you want to use a node exclusively.\n",
      "sbatch: You will be charged for 0.03125 node. A full node consists of 32 CPU cores, 240000 MiB of memory and 0 GPUs and can be shared by up to 32 jobs.\n",
      "sbatch: Single node jobs run on a shared node by default. Add --exclusive if you want to use a node exclusively.\n",
      "sbatch: You will be charged for 0.03125 node. A full node consists of 32 CPU cores, 240000 MiB of memory and 0 GPUs and can be shared by up to 32 jobs.\n",
      "sbatch: Single node jobs run on a shared node by default. Add --exclusive if you want to use a node exclusively.\n",
      "sbatch: You will be charged for 0.03125 node. A full node consists of 32 CPU cores, 240000 MiB of memory and 0 GPUs and can be shared by up to 32 jobs.\n",
      "sbatch: Single node jobs run on a shared node by default. Add --exclusive if you want to use a node exclusively.\n",
      "sbatch: You will be charged for 0.03125 node. A full node consists of 32 CPU cores, 240000 MiB of memory and 0 GPUs and can be shared by up to 32 jobs.\n",
      "sbatch: Single node jobs run on a shared node by default. Add --exclusive if you want to use a node exclusively.\n",
      "sbatch: You will be charged for 0.03125 node. A full node consists of 32 CPU cores, 240000 MiB of memory and 0 GPUs and can be shared by up to 32 jobs.\n",
      "sbatch: Single node jobs run on a shared node by default. Add --exclusive if you want to use a node exclusively.\n",
      "sbatch: You will be charged for 0.03125 node. A full node consists of 32 CPU cores, 240000 MiB of memory and 0 GPUs and can be shared by up to 32 jobs.\n"
     ]
    },
    {
     "name": "stdout",
     "output_type": "stream",
     "text": [
      "Submitted batch job 418468\n",
      "Submitted batch job 418469\n",
      "Submitted batch job 418470\n",
      "Submitted batch job 418471\n",
      "Submitted batch job 418472\n"
     ]
    },
    {
     "name": "stderr",
     "output_type": "stream",
     "text": [
      "sbatch: Single node jobs run on a shared node by default. Add --exclusive if you want to use a node exclusively.\n",
      "sbatch: You will be charged for 0.03125 node. A full node consists of 32 CPU cores, 240000 MiB of memory and 0 GPUs and can be shared by up to 32 jobs.\n"
     ]
    },
    {
     "name": "stdout",
     "output_type": "stream",
     "text": [
      "Submitted batch job 418473\n",
      "Submitted batch job 418474\n",
      "Submitted batch job 418475\n"
     ]
    },
    {
     "name": "stderr",
     "output_type": "stream",
     "text": [
      "sbatch: Single node jobs run on a shared node by default. Add --exclusive if you want to use a node exclusively.\n",
      "sbatch: You will be charged for 0.03125 node. A full node consists of 32 CPU cores, 240000 MiB of memory and 0 GPUs and can be shared by up to 32 jobs.\n",
      "sbatch: Single node jobs run on a shared node by default. Add --exclusive if you want to use a node exclusively.\n",
      "sbatch: You will be charged for 0.03125 node. A full node consists of 32 CPU cores, 240000 MiB of memory and 0 GPUs and can be shared by up to 32 jobs.\n",
      "sbatch: Single node jobs run on a shared node by default. Add --exclusive if you want to use a node exclusively.\n",
      "sbatch: You will be charged for 0.03125 node. A full node consists of 32 CPU cores, 240000 MiB of memory and 0 GPUs and can be shared by up to 32 jobs.\n",
      "sbatch: Single node jobs run on a shared node by default. Add --exclusive if you want to use a node exclusively.\n",
      "sbatch: You will be charged for 0.03125 node. A full node consists of 32 CPU cores, 240000 MiB of memory and 0 GPUs and can be shared by up to 32 jobs.\n",
      "sbatch: Single node jobs run on a shared node by default. Add --exclusive if you want to use a node exclusively.\n",
      "sbatch: You will be charged for 0.03125 node. A full node consists of 32 CPU cores, 240000 MiB of memory and 0 GPUs and can be shared by up to 32 jobs.\n",
      "sbatch: Single node jobs run on a shared node by default. Add --exclusive if you want to use a node exclusively.\n",
      "sbatch: You will be charged for 0.03125 node. A full node consists of 32 CPU cores, 240000 MiB of memory and 0 GPUs and can be shared by up to 32 jobs.\n"
     ]
    },
    {
     "name": "stdout",
     "output_type": "stream",
     "text": [
      "Submitted batch job 418477\n",
      "Submitted batch job 418478\n",
      "Submitted batch job 418479\n"
     ]
    },
    {
     "name": "stderr",
     "output_type": "stream",
     "text": [
      "sbatch: Single node jobs run on a shared node by default. Add --exclusive if you want to use a node exclusively.\n",
      "sbatch: You will be charged for 0.03125 node. A full node consists of 32 CPU cores, 240000 MiB of memory and 0 GPUs and can be shared by up to 32 jobs.\n",
      "sbatch: Single node jobs run on a shared node by default. Add --exclusive if you want to use a node exclusively.\n",
      "sbatch: You will be charged for 0.03125 node. A full node consists of 32 CPU cores, 240000 MiB of memory and 0 GPUs and can be shared by up to 32 jobs.\n",
      "sbatch: Single node jobs run on a shared node by default. Add --exclusive if you want to use a node exclusively.\n",
      "sbatch: You will be charged for 0.03125 node. A full node consists of 32 CPU cores, 240000 MiB of memory and 0 GPUs and can be shared by up to 32 jobs.\n",
      "sbatch: Single node jobs run on a shared node by default. Add --exclusive if you want to use a node exclusively.\n",
      "sbatch: You will be charged for 0.03125 node. A full node consists of 32 CPU cores, 240000 MiB of memory and 0 GPUs and can be shared by up to 32 jobs.\n"
     ]
    },
    {
     "name": "stdout",
     "output_type": "stream",
     "text": [
      "Submitted batch job 418480\n",
      "Submitted batch job 418481\n",
      "Submitted batch job 418482\n",
      "Submitted batch job 418483\n"
     ]
    },
    {
     "name": "stderr",
     "output_type": "stream",
     "text": [
      "sbatch: Single node jobs run on a shared node by default. Add --exclusive if you want to use a node exclusively.\n",
      "sbatch: You will be charged for 0.03125 node. A full node consists of 32 CPU cores, 240000 MiB of memory and 0 GPUs and can be shared by up to 32 jobs.\n",
      "sbatch: Single node jobs run on a shared node by default. Add --exclusive if you want to use a node exclusively.\n",
      "sbatch: You will be charged for 0.03125 node. A full node consists of 32 CPU cores, 240000 MiB of memory and 0 GPUs and can be shared by up to 32 jobs.\n",
      "sbatch: Single node jobs run on a shared node by default. Add --exclusive if you want to use a node exclusively.\n",
      "sbatch: You will be charged for 0.03125 node. A full node consists of 32 CPU cores, 240000 MiB of memory and 0 GPUs and can be shared by up to 32 jobs.\n",
      "sbatch: Single node jobs run on a shared node by default. Add --exclusive if you want to use a node exclusively.\n",
      "sbatch: You will be charged for 0.03125 node. A full node consists of 32 CPU cores, 240000 MiB of memory and 0 GPUs and can be shared by up to 32 jobs.\n"
     ]
    },
    {
     "name": "stdout",
     "output_type": "stream",
     "text": [
      "Submitted batch job 418484\n",
      "Submitted batch job 418485\n",
      "Submitted batch job 418486\n",
      "Submitted batch job 418487\n"
     ]
    },
    {
     "name": "stderr",
     "output_type": "stream",
     "text": [
      "sbatch: Single node jobs run on a shared node by default. Add --exclusive if you want to use a node exclusively.\n",
      "sbatch: You will be charged for 0.03125 node. A full node consists of 32 CPU cores, 240000 MiB of memory and 0 GPUs and can be shared by up to 32 jobs.\n",
      "sbatch: Single node jobs run on a shared node by default. Add --exclusive if you want to use a node exclusively.\n",
      "sbatch: You will be charged for 0.03125 node. A full node consists of 32 CPU cores, 240000 MiB of memory and 0 GPUs and can be shared by up to 32 jobs.\n",
      "sbatch: Single node jobs run on a shared node by default. Add --exclusive if you want to use a node exclusively.\n",
      "sbatch: You will be charged for 0.03125 node. A full node consists of 32 CPU cores, 240000 MiB of memory and 0 GPUs and can be shared by up to 32 jobs.\n",
      "sbatch: Single node jobs run on a shared node by default. Add --exclusive if you want to use a node exclusively.\n",
      "sbatch: You will be charged for 0.03125 node. A full node consists of 32 CPU cores, 240000 MiB of memory and 0 GPUs and can be shared by up to 32 jobs.\n"
     ]
    },
    {
     "name": "stdout",
     "output_type": "stream",
     "text": [
      "Submitted batch job 418488\n",
      "Submitted batch job 418489\n",
      "Submitted batch job 418490\n",
      "Submitted batch job 418491\n"
     ]
    },
    {
     "name": "stderr",
     "output_type": "stream",
     "text": [
      "sbatch: Single node jobs run on a shared node by default. Add --exclusive if you want to use a node exclusively.\n",
      "sbatch: You will be charged for 0.03125 node. A full node consists of 32 CPU cores, 240000 MiB of memory and 0 GPUs and can be shared by up to 32 jobs.\n",
      "sbatch: Single node jobs run on a shared node by default. Add --exclusive if you want to use a node exclusively.\n",
      "sbatch: You will be charged for 0.03125 node. A full node consists of 32 CPU cores, 240000 MiB of memory and 0 GPUs and can be shared by up to 32 jobs.\n",
      "sbatch: Single node jobs run on a shared node by default. Add --exclusive if you want to use a node exclusively.\n",
      "sbatch: You will be charged for 0.03125 node. A full node consists of 32 CPU cores, 240000 MiB of memory and 0 GPUs and can be shared by up to 32 jobs.\n",
      "sbatch: Single node jobs run on a shared node by default. Add --exclusive if you want to use a node exclusively.\n",
      "sbatch: You will be charged for 0.03125 node. A full node consists of 32 CPU cores, 240000 MiB of memory and 0 GPUs and can be shared by up to 32 jobs.\n"
     ]
    },
    {
     "name": "stdout",
     "output_type": "stream",
     "text": [
      "Submitted batch job 418492\n",
      "Submitted batch job 418493\n",
      "Submitted batch job 418494\n",
      "Submitted batch job 418495\n"
     ]
    },
    {
     "name": "stderr",
     "output_type": "stream",
     "text": [
      "sbatch: Single node jobs run on a shared node by default. Add --exclusive if you want to use a node exclusively.\n",
      "sbatch: You will be charged for 0.03125 node. A full node consists of 32 CPU cores, 240000 MiB of memory and 0 GPUs and can be shared by up to 32 jobs.\n",
      "sbatch: Single node jobs run on a shared node by default. Add --exclusive if you want to use a node exclusively.\n",
      "sbatch: You will be charged for 0.03125 node. A full node consists of 32 CPU cores, 240000 MiB of memory and 0 GPUs and can be shared by up to 32 jobs.\n",
      "sbatch: Single node jobs run on a shared node by default. Add --exclusive if you want to use a node exclusively.\n",
      "sbatch: You will be charged for 0.03125 node. A full node consists of 32 CPU cores, 240000 MiB of memory and 0 GPUs and can be shared by up to 32 jobs.\n",
      "sbatch: Single node jobs run on a shared node by default. Add --exclusive if you want to use a node exclusively.\n",
      "sbatch: You will be charged for 0.03125 node. A full node consists of 32 CPU cores, 240000 MiB of memory and 0 GPUs and can be shared by up to 32 jobs.\n",
      "sbatch: Single node jobs run on a shared node by default. Add --exclusive if you want to use a node exclusively.\n",
      "sbatch: You will be charged for 0.03125 node. A full node consists of 32 CPU cores, 240000 MiB of memory and 0 GPUs and can be shared by up to 32 jobs.\n"
     ]
    },
    {
     "name": "stdout",
     "output_type": "stream",
     "text": [
      "Submitted batch job 418496\n",
      "Submitted batch job 418497\n",
      "Submitted batch job 418499\n",
      "Submitted batch job 418500\n",
      "Submitted batch job 418501\n"
     ]
    },
    {
     "name": "stderr",
     "output_type": "stream",
     "text": [
      "sbatch: Single node jobs run on a shared node by default. Add --exclusive if you want to use a node exclusively.\n",
      "sbatch: You will be charged for 0.03125 node. A full node consists of 32 CPU cores, 240000 MiB of memory and 0 GPUs and can be shared by up to 32 jobs.\n",
      "sbatch: Single node jobs run on a shared node by default. Add --exclusive if you want to use a node exclusively.\n",
      "sbatch: You will be charged for 0.03125 node. A full node consists of 32 CPU cores, 240000 MiB of memory and 0 GPUs and can be shared by up to 32 jobs.\n",
      "sbatch: Single node jobs run on a shared node by default. Add --exclusive if you want to use a node exclusively.\n",
      "sbatch: You will be charged for 0.03125 node. A full node consists of 32 CPU cores, 240000 MiB of memory and 0 GPUs and can be shared by up to 32 jobs.\n",
      "sbatch: Single node jobs run on a shared node by default. Add --exclusive if you want to use a node exclusively.\n",
      "sbatch: You will be charged for 0.03125 node. A full node consists of 32 CPU cores, 240000 MiB of memory and 0 GPUs and can be shared by up to 32 jobs.\n"
     ]
    },
    {
     "name": "stdout",
     "output_type": "stream",
     "text": [
      "Submitted batch job 418502\n",
      "Submitted batch job 418503\n",
      "Submitted batch job 418504\n",
      "Submitted batch job 418505\n"
     ]
    },
    {
     "name": "stderr",
     "output_type": "stream",
     "text": [
      "sbatch: Single node jobs run on a shared node by default. Add --exclusive if you want to use a node exclusively.\n",
      "sbatch: You will be charged for 0.03125 node. A full node consists of 32 CPU cores, 240000 MiB of memory and 0 GPUs and can be shared by up to 32 jobs.\n",
      "sbatch: Single node jobs run on a shared node by default. Add --exclusive if you want to use a node exclusively.\n",
      "sbatch: You will be charged for 0.03125 node. A full node consists of 32 CPU cores, 240000 MiB of memory and 0 GPUs and can be shared by up to 32 jobs.\n",
      "sbatch: Single node jobs run on a shared node by default. Add --exclusive if you want to use a node exclusively.\n",
      "sbatch: You will be charged for 0.03125 node. A full node consists of 32 CPU cores, 240000 MiB of memory and 0 GPUs and can be shared by up to 32 jobs.\n",
      "sbatch: Single node jobs run on a shared node by default. Add --exclusive if you want to use a node exclusively.\n",
      "sbatch: You will be charged for 0.03125 node. A full node consists of 32 CPU cores, 240000 MiB of memory and 0 GPUs and can be shared by up to 32 jobs.\n"
     ]
    },
    {
     "name": "stdout",
     "output_type": "stream",
     "text": [
      "Submitted batch job 418506\n",
      "Submitted batch job 418507\n",
      "Submitted batch job 418508\n",
      "Submitted batch job 418509\n"
     ]
    },
    {
     "name": "stderr",
     "output_type": "stream",
     "text": [
      "sbatch: Single node jobs run on a shared node by default. Add --exclusive if you want to use a node exclusively.\n",
      "sbatch: You will be charged for 0.03125 node. A full node consists of 32 CPU cores, 240000 MiB of memory and 0 GPUs and can be shared by up to 32 jobs.\n",
      "sbatch: Single node jobs run on a shared node by default. Add --exclusive if you want to use a node exclusively.\n",
      "sbatch: You will be charged for 0.03125 node. A full node consists of 32 CPU cores, 240000 MiB of memory and 0 GPUs and can be shared by up to 32 jobs.\n",
      "sbatch: Single node jobs run on a shared node by default. Add --exclusive if you want to use a node exclusively.\n",
      "sbatch: You will be charged for 0.03125 node. A full node consists of 32 CPU cores, 240000 MiB of memory and 0 GPUs and can be shared by up to 32 jobs.\n",
      "sbatch: Single node jobs run on a shared node by default. Add --exclusive if you want to use a node exclusively.\n",
      "sbatch: You will be charged for 0.03125 node. A full node consists of 32 CPU cores, 240000 MiB of memory and 0 GPUs and can be shared by up to 32 jobs.\n",
      "sbatch: Single node jobs run on a shared node by default. Add --exclusive if you want to use a node exclusively.\n",
      "sbatch: You will be charged for 0.03125 node. A full node consists of 32 CPU cores, 240000 MiB of memory and 0 GPUs and can be shared by up to 32 jobs.\n"
     ]
    },
    {
     "name": "stdout",
     "output_type": "stream",
     "text": [
      "Submitted batch job 418510\n",
      "Submitted batch job 418511\n",
      "Submitted batch job 418512\n",
      "Submitted batch job 418513\n",
      "Submitted batch job 418514\n"
     ]
    },
    {
     "name": "stderr",
     "output_type": "stream",
     "text": [
      "sbatch: Single node jobs run on a shared node by default. Add --exclusive if you want to use a node exclusively.\n",
      "sbatch: You will be charged for 0.03125 node. A full node consists of 32 CPU cores, 240000 MiB of memory and 0 GPUs and can be shared by up to 32 jobs.\n",
      "sbatch: Single node jobs run on a shared node by default. Add --exclusive if you want to use a node exclusively.\n",
      "sbatch: You will be charged for 0.03125 node. A full node consists of 32 CPU cores, 240000 MiB of memory and 0 GPUs and can be shared by up to 32 jobs.\n",
      "sbatch: Single node jobs run on a shared node by default. Add --exclusive if you want to use a node exclusively.\n",
      "sbatch: You will be charged for 0.03125 node. A full node consists of 32 CPU cores, 240000 MiB of memory and 0 GPUs and can be shared by up to 32 jobs.\n",
      "sbatch: Single node jobs run on a shared node by default. Add --exclusive if you want to use a node exclusively.\n",
      "sbatch: You will be charged for 0.03125 node. A full node consists of 32 CPU cores, 240000 MiB of memory and 0 GPUs and can be shared by up to 32 jobs.\n"
     ]
    },
    {
     "name": "stdout",
     "output_type": "stream",
     "text": [
      "Submitted batch job 418515\n",
      "Submitted batch job 418516\n",
      "Submitted batch job 418517\n",
      "Submitted batch job 418518\n"
     ]
    },
    {
     "name": "stderr",
     "output_type": "stream",
     "text": [
      "sbatch: Single node jobs run on a shared node by default. Add --exclusive if you want to use a node exclusively.\n",
      "sbatch: You will be charged for 0.03125 node. A full node consists of 32 CPU cores, 240000 MiB of memory and 0 GPUs and can be shared by up to 32 jobs.\n"
     ]
    },
    {
     "name": "stdout",
     "output_type": "stream",
     "text": [
      "Submitted batch job 418519\n"
     ]
    },
    {
     "name": "stderr",
     "output_type": "stream",
     "text": [
      "sbatch: Single node jobs run on a shared node by default. Add --exclusive if you want to use a node exclusively.\n",
      "sbatch: You will be charged for 0.03125 node. A full node consists of 32 CPU cores, 240000 MiB of memory and 0 GPUs and can be shared by up to 32 jobs.\n",
      "sbatch: Single node jobs run on a shared node by default. Add --exclusive if you want to use a node exclusively.\n",
      "sbatch: You will be charged for 0.03125 node. A full node consists of 32 CPU cores, 240000 MiB of memory and 0 GPUs and can be shared by up to 32 jobs.\n",
      "sbatch: Single node jobs run on a shared node by default. Add --exclusive if you want to use a node exclusively.\n",
      "sbatch: You will be charged for 0.03125 node. A full node consists of 32 CPU cores, 240000 MiB of memory and 0 GPUs and can be shared by up to 32 jobs.\n",
      "sbatch: Single node jobs run on a shared node by default. Add --exclusive if you want to use a node exclusively.\n",
      "sbatch: You will be charged for 0.03125 node. A full node consists of 32 CPU cores, 240000 MiB of memory and 0 GPUs and can be shared by up to 32 jobs.\n"
     ]
    },
    {
     "name": "stdout",
     "output_type": "stream",
     "text": [
      "Submitted batch job 418527\n",
      "Submitted batch job 418528\n",
      "Submitted batch job 418529\n",
      "Submitted batch job 418530\n"
     ]
    },
    {
     "name": "stderr",
     "output_type": "stream",
     "text": [
      "sbatch: Single node jobs run on a shared node by default. Add --exclusive if you want to use a node exclusively.\n",
      "sbatch: You will be charged for 0.03125 node. A full node consists of 32 CPU cores, 240000 MiB of memory and 0 GPUs and can be shared by up to 32 jobs.\n",
      "sbatch: Single node jobs run on a shared node by default. Add --exclusive if you want to use a node exclusively.\n",
      "sbatch: You will be charged for 0.03125 node. A full node consists of 32 CPU cores, 240000 MiB of memory and 0 GPUs and can be shared by up to 32 jobs.\n",
      "sbatch: Single node jobs run on a shared node by default. Add --exclusive if you want to use a node exclusively.\n",
      "sbatch: You will be charged for 0.03125 node. A full node consists of 32 CPU cores, 240000 MiB of memory and 0 GPUs and can be shared by up to 32 jobs.\n",
      "sbatch: Single node jobs run on a shared node by default. Add --exclusive if you want to use a node exclusively.\n",
      "sbatch: You will be charged for 0.03125 node. A full node consists of 32 CPU cores, 240000 MiB of memory and 0 GPUs and can be shared by up to 32 jobs.\n"
     ]
    },
    {
     "name": "stdout",
     "output_type": "stream",
     "text": [
      "Submitted batch job 418531\n",
      "Submitted batch job 418532\n",
      "Submitted batch job 418533\n",
      "Submitted batch job 418534\n"
     ]
    },
    {
     "name": "stderr",
     "output_type": "stream",
     "text": [
      "sbatch: Single node jobs run on a shared node by default. Add --exclusive if you want to use a node exclusively.\n",
      "sbatch: You will be charged for 0.03125 node. A full node consists of 32 CPU cores, 240000 MiB of memory and 0 GPUs and can be shared by up to 32 jobs.\n",
      "sbatch: Single node jobs run on a shared node by default. Add --exclusive if you want to use a node exclusively.\n",
      "sbatch: You will be charged for 0.03125 node. A full node consists of 32 CPU cores, 240000 MiB of memory and 0 GPUs and can be shared by up to 32 jobs.\n",
      "sbatch: Single node jobs run on a shared node by default. Add --exclusive if you want to use a node exclusively.\n",
      "sbatch: You will be charged for 0.03125 node. A full node consists of 32 CPU cores, 240000 MiB of memory and 0 GPUs and can be shared by up to 32 jobs.\n",
      "sbatch: Single node jobs run on a shared node by default. Add --exclusive if you want to use a node exclusively.\n",
      "sbatch: You will be charged for 0.03125 node. A full node consists of 32 CPU cores, 240000 MiB of memory and 0 GPUs and can be shared by up to 32 jobs.\n"
     ]
    },
    {
     "name": "stdout",
     "output_type": "stream",
     "text": [
      "Submitted batch job 418535\n",
      "Submitted batch job 418536\n",
      "Submitted batch job 418537\n",
      "Submitted batch job 418538\n"
     ]
    },
    {
     "name": "stderr",
     "output_type": "stream",
     "text": [
      "sbatch: Single node jobs run on a shared node by default. Add --exclusive if you want to use a node exclusively.\n",
      "sbatch: You will be charged for 0.03125 node. A full node consists of 32 CPU cores, 240000 MiB of memory and 0 GPUs and can be shared by up to 32 jobs.\n",
      "sbatch: Single node jobs run on a shared node by default. Add --exclusive if you want to use a node exclusively.\n",
      "sbatch: You will be charged for 0.03125 node. A full node consists of 32 CPU cores, 240000 MiB of memory and 0 GPUs and can be shared by up to 32 jobs.\n",
      "sbatch: Single node jobs run on a shared node by default. Add --exclusive if you want to use a node exclusively.\n",
      "sbatch: You will be charged for 0.03125 node. A full node consists of 32 CPU cores, 240000 MiB of memory and 0 GPUs and can be shared by up to 32 jobs.\n",
      "sbatch: Single node jobs run on a shared node by default. Add --exclusive if you want to use a node exclusively.\n",
      "sbatch: You will be charged for 0.03125 node. A full node consists of 32 CPU cores, 240000 MiB of memory and 0 GPUs and can be shared by up to 32 jobs.\n"
     ]
    },
    {
     "name": "stdout",
     "output_type": "stream",
     "text": [
      "Submitted batch job 418539\n",
      "Submitted batch job 418540\n",
      "Submitted batch job 418541\n",
      "Submitted batch job 418542\n",
      "Submitted batch job 418543\n",
      "Submitted batch job 418544\n",
      "Submitted batch job 418545\n",
      "Submitted batch job 418546\n"
     ]
    },
    {
     "name": "stderr",
     "output_type": "stream",
     "text": [
      "sbatch: Single node jobs run on a shared node by default. Add --exclusive if you want to use a node exclusively.\n",
      "sbatch: You will be charged for 0.03125 node. A full node consists of 32 CPU cores, 240000 MiB of memory and 0 GPUs and can be shared by up to 32 jobs.\n",
      "sbatch: Single node jobs run on a shared node by default. Add --exclusive if you want to use a node exclusively.\n",
      "sbatch: You will be charged for 0.03125 node. A full node consists of 32 CPU cores, 240000 MiB of memory and 0 GPUs and can be shared by up to 32 jobs.\n",
      "sbatch: Single node jobs run on a shared node by default. Add --exclusive if you want to use a node exclusively.\n",
      "sbatch: You will be charged for 0.03125 node. A full node consists of 32 CPU cores, 240000 MiB of memory and 0 GPUs and can be shared by up to 32 jobs.\n",
      "sbatch: Single node jobs run on a shared node by default. Add --exclusive if you want to use a node exclusively.\n",
      "sbatch: You will be charged for 0.03125 node. A full node consists of 32 CPU cores, 240000 MiB of memory and 0 GPUs and can be shared by up to 32 jobs.\n"
     ]
    }
   ],
   "source": [
    "unzip = \"False\"\n",
    "flatten = False\n",
    "dir_drop = \"prince_data\"\n",
    "\n",
    "directory_targ = os.path.join(directory_scratch, \"temp\") + \"/\"\n",
    "directory = directory_targ\n",
    "run_parallel_transfer(\n",
    "    \"from_drop.py\",\n",
    "    [directory_targ, dir_drop, unzip, flatten],\n",
    "    folders,\n",
    "    5,\n",
    "    \"10:00\",\n",
    "    \"staging\",\n",
    "    cpus=1,\n",
    "    node=\"staging\",\n",
    "    name_job=\"archiving.sh\",\n",
    ")\n",
    "run_parallel_transfer_to_archive(\n",
    "    folders, directory, \"2:00:00\", \"staging\", name_job=\"archiving.sh\"\n",
    ")"
   ]
  },
  {
   "cell_type": "code",
   "execution_count": 6,
   "metadata": {
    "collapsed": true,
    "jupyter": {
     "outputs_hidden": true
    },
    "tags": []
   },
   "outputs": [
    {
     "name": "stderr",
     "output_type": "stream",
     "text": [
      "sbatch: Single node jobs run on a shared node by default. Add --exclusive if you want to use a node exclusively.\n",
      "sbatch: Single node jobs run on a shared node by default. Add --exclusive if you want to use a node exclusively.\n",
      "sbatch: Single node jobs run on a shared node by default. Add --exclusive if you want to use a node exclusively.\n",
      "sbatch: Single node jobs run on a shared node by default. Add --exclusive if you want to use a node exclusively.\n"
     ]
    },
    {
     "name": "stdout",
     "output_type": "stream",
     "text": [
      "Submitted batch job 374733\n",
      "Submitted batch job 374734\n",
      "Submitted batch job 374735\n",
      "Submitted batch job 374736\n",
      "Submitted batch job 374737\n",
      "Submitted batch job 374738\n",
      "Submitted batch job 374739\n",
      "Submitted batch job 374740\n"
     ]
    },
    {
     "name": "stderr",
     "output_type": "stream",
     "text": [
      "sbatch: Single node jobs run on a shared node by default. Add --exclusive if you want to use a node exclusively.\n",
      "sbatch: Single node jobs run on a shared node by default. Add --exclusive if you want to use a node exclusively.\n",
      "sbatch: Single node jobs run on a shared node by default. Add --exclusive if you want to use a node exclusively.\n",
      "sbatch: Single node jobs run on a shared node by default. Add --exclusive if you want to use a node exclusively.\n",
      "sbatch: Single node jobs run on a shared node by default. Add --exclusive if you want to use a node exclusively.\n",
      "sbatch: Single node jobs run on a shared node by default. Add --exclusive if you want to use a node exclusively.\n",
      "sbatch: Single node jobs run on a shared node by default. Add --exclusive if you want to use a node exclusively.\n",
      "sbatch: Single node jobs run on a shared node by default. Add --exclusive if you want to use a node exclusively.\n"
     ]
    },
    {
     "name": "stdout",
     "output_type": "stream",
     "text": [
      "Submitted batch job 374741\n",
      "Submitted batch job 374742\n",
      "Submitted batch job 374743\n",
      "Submitted batch job 374744\n"
     ]
    },
    {
     "name": "stderr",
     "output_type": "stream",
     "text": [
      "sbatch: Single node jobs run on a shared node by default. Add --exclusive if you want to use a node exclusively.\n",
      "sbatch: Single node jobs run on a shared node by default. Add --exclusive if you want to use a node exclusively.\n",
      "sbatch: Single node jobs run on a shared node by default. Add --exclusive if you want to use a node exclusively.\n",
      "sbatch: Single node jobs run on a shared node by default. Add --exclusive if you want to use a node exclusively.\n"
     ]
    },
    {
     "name": "stdout",
     "output_type": "stream",
     "text": [
      "Submitted batch job 374745\n",
      "Submitted batch job 374746\n",
      "Submitted batch job 374747\n",
      "Submitted batch job 374748\n",
      "Submitted batch job 374749\n",
      "Submitted batch job 374750\n",
      "Submitted batch job 374751\n",
      "Submitted batch job 374752\n"
     ]
    },
    {
     "name": "stderr",
     "output_type": "stream",
     "text": [
      "sbatch: Single node jobs run on a shared node by default. Add --exclusive if you want to use a node exclusively.\n",
      "sbatch: Single node jobs run on a shared node by default. Add --exclusive if you want to use a node exclusively.\n",
      "sbatch: Single node jobs run on a shared node by default. Add --exclusive if you want to use a node exclusively.\n",
      "sbatch: Single node jobs run on a shared node by default. Add --exclusive if you want to use a node exclusively.\n"
     ]
    }
   ],
   "source": [
    "run_parallel_transfer_to_archive(\n",
    "    folders, directory, \"10:00\", \"staging\", name_job=\"archiving_no_wait.sh\"\n",
    ")"
   ]
  },
  {
   "cell_type": "code",
   "execution_count": 12,
   "metadata": {},
   "outputs": [
    {
     "name": "stdout",
     "output_type": "stream",
     "text": [
      "Submitted batch job 242022\n"
     ]
    },
    {
     "name": "stderr",
     "output_type": "stream",
     "text": [
      "sbatch: Single node jobs run on a shared node by default. Add --exclusive if you want to use a node exclusively.\n"
     ]
    }
   ],
   "source": [
    "must_zip = True\n",
    "must_unzip = False\n",
    "run_parallel_transfer(\n",
    "    \"within_surf.py\",\n",
    "    [directory, directory_targ, must_zip, must_unzip],\n",
    "    folders,\n",
    "    5,\n",
    "    \"10:00\",\n",
    "    \"staging\",\n",
    "    cpus=1,\n",
    "    node=\"staging\",\n",
    ")"
   ]
  },
  {
   "cell_type": "code",
   "execution_count": 51,
   "metadata": {},
   "outputs": [],
   "source": [
    "def get_dropbox_folders_new(dir_drop: str) -> pd.DataFrame:\n",
    "    data = []\n",
    "    dbx = load_dbx()\n",
    "    response = dbx.files_list_folder(dir_drop, recursive=True)\n",
    "    # for fil in response.entries:\n",
    "    listfiles = []\n",
    "    listjson = []\n",
    "    while response.has_more:\n",
    "        listfiles += [\n",
    "            file for file in response.entries if file.name.split(\"/\")[-1] == \"param.m\"\n",
    "        ]\n",
    "        response = dbx.files_list_folder_continue(response.cursor)\n",
    "    listfiles += [\n",
    "        file for file in response.entries if file.name.split(\"/\")[-1] == \"param.m\"\n",
    "    ]\n",
    "    # print([((file.path_lower.split(\".\")[0]) + \"_info.json\") for file in listfiles if (file.name.split(\".\")[-1] == \"zip\") &\n",
    "    #        (((file.path_lower.split(\".\")[0]) + \"_info.json\") not in listjson)])\n",
    "    listfiles.reverse()\n",
    "    names = [file.path_lower.split(\"/\")[-2] for file in listfiles]\n",
    "    path_drop = [os.path.join(*file.path_lower.split(\"/\")[:-1]) for file in listfiles]\n",
    "    id_uniques = [path.split(\"/\")[-2] for path in path_drop]\n",
    "    plate_num = [idi.split(\"_\")[0] for idi in id_uniques]\n",
    "    date_cross = [idi.split(\"_\")[1] for idi in id_uniques]\n",
    "    sizes = [file.size / 10**9 for file in listfiles]\n",
    "    modified = [file.client_modified for file in listfiles]\n",
    "    df = pd.DataFrame(\n",
    "        (names, sizes, modified, path_drop, plate_num, date_cross, id_uniques)\n",
    "    ).transpose()\n",
    "    df = df.rename(\n",
    "        columns={\n",
    "            0: \"folder\",\n",
    "            1: \"size\",\n",
    "            2: \"change_date\",\n",
    "            3: \"tot_path_drop\",\n",
    "            4: \"Plate\",\n",
    "            5: \"CrossDate\",\n",
    "            6: \"unique_id\",\n",
    "        }\n",
    "    )\n",
    "    return df"
   ]
  },
  {
   "cell_type": "code",
   "execution_count": 52,
   "metadata": {},
   "outputs": [
    {
     "name": "stdout",
     "output_type": "stream",
     "text": [
      "2022-05-18 12:32:45,427-[INFO]- dropbox:388 -> Refreshing access token.\n",
      "2022-05-18 12:32:45,577-[INFO]- dropbox:477 -> Request to files/list_folder\n",
      "2022-05-18 12:32:46,459-[INFO]- dropbox:477 -> Request to files/list_folder/continue\n",
      "2022-05-18 12:32:47,417-[INFO]- dropbox:477 -> Request to files/list_folder/continue\n"
     ]
    }
   ],
   "source": [
    "all_folders_drop_new = get_dropbox_folders_new(\"/DATA/PRINCE\")"
   ]
  },
  {
   "cell_type": "code",
   "execution_count": 53,
   "metadata": {},
   "outputs": [
    {
     "data": {
      "text/html": [
       "<div>\n",
       "<style scoped>\n",
       "    .dataframe tbody tr th:only-of-type {\n",
       "        vertical-align: middle;\n",
       "    }\n",
       "\n",
       "    .dataframe tbody tr th {\n",
       "        vertical-align: top;\n",
       "    }\n",
       "\n",
       "    .dataframe thead th {\n",
       "        text-align: right;\n",
       "    }\n",
       "</style>\n",
       "<table border=\"1\" class=\"dataframe\">\n",
       "  <thead>\n",
       "    <tr style=\"text-align: right;\">\n",
       "      <th></th>\n",
       "      <th>folder</th>\n",
       "      <th>size</th>\n",
       "      <th>change_date</th>\n",
       "      <th>tot_path_drop</th>\n",
       "      <th>Plate</th>\n",
       "      <th>CrossDate</th>\n",
       "      <th>unique_id</th>\n",
       "    </tr>\n",
       "  </thead>\n",
       "  <tbody>\n",
       "    <tr>\n",
       "      <th>0</th>\n",
       "      <td>20201204_2123_plate39</td>\n",
       "      <td>4.1e-07</td>\n",
       "      <td>2022-05-17 09:03:06</td>\n",
       "      <td>data/prince/94_20201123/20201204_2123_plate39</td>\n",
       "      <td>94</td>\n",
       "      <td>20201123</td>\n",
       "      <td>94_20201123</td>\n",
       "    </tr>\n",
       "    <tr>\n",
       "      <th>1</th>\n",
       "      <td>20201204_1723_plate39</td>\n",
       "      <td>4.1e-07</td>\n",
       "      <td>2022-05-17 09:03:04</td>\n",
       "      <td>data/prince/94_20201123/20201204_1723_plate39</td>\n",
       "      <td>94</td>\n",
       "      <td>20201123</td>\n",
       "      <td>94_20201123</td>\n",
       "    </tr>\n",
       "    <tr>\n",
       "      <th>2</th>\n",
       "      <td>20201205_0123_plate39</td>\n",
       "      <td>4.1e-07</td>\n",
       "      <td>2022-05-17 09:03:03</td>\n",
       "      <td>data/prince/94_20201123/20201205_0123_plate39</td>\n",
       "      <td>94</td>\n",
       "      <td>20201123</td>\n",
       "      <td>94_20201123</td>\n",
       "    </tr>\n",
       "    <tr>\n",
       "      <th>3</th>\n",
       "      <td>20201204_1323_plate39</td>\n",
       "      <td>4.1e-07</td>\n",
       "      <td>2022-05-17 09:03:02</td>\n",
       "      <td>data/prince/94_20201123/20201204_1323_plate39</td>\n",
       "      <td>94</td>\n",
       "      <td>20201123</td>\n",
       "      <td>94_20201123</td>\n",
       "    </tr>\n",
       "    <tr>\n",
       "      <th>4</th>\n",
       "      <td>20201205_0523_plate39</td>\n",
       "      <td>4.1e-07</td>\n",
       "      <td>2022-05-17 09:03:02</td>\n",
       "      <td>data/prince/94_20201123/20201205_0523_plate39</td>\n",
       "      <td>94</td>\n",
       "      <td>20201123</td>\n",
       "      <td>94_20201123</td>\n",
       "    </tr>\n",
       "    <tr>\n",
       "      <th>...</th>\n",
       "      <td>...</td>\n",
       "      <td>...</td>\n",
       "      <td>...</td>\n",
       "      <td>...</td>\n",
       "      <td>...</td>\n",
       "      <td>...</td>\n",
       "      <td>...</td>\n",
       "    </tr>\n",
       "    <tr>\n",
       "      <th>164</th>\n",
       "      <td>20201123_2200_plate39</td>\n",
       "      <td>4.1e-07</td>\n",
       "      <td>2022-05-16 15:49:31</td>\n",
       "      <td>data/prince/94_20201123/20201123_2200_plate39</td>\n",
       "      <td>94</td>\n",
       "      <td>20201123</td>\n",
       "      <td>94_20201123</td>\n",
       "    </tr>\n",
       "    <tr>\n",
       "      <th>165</th>\n",
       "      <td>20201123_1601_plate39</td>\n",
       "      <td>4.1e-07</td>\n",
       "      <td>2022-05-16 15:49:29</td>\n",
       "      <td>data/prince/94_20201123/20201123_1601_plate39</td>\n",
       "      <td>94</td>\n",
       "      <td>20201123</td>\n",
       "      <td>94_20201123</td>\n",
       "    </tr>\n",
       "    <tr>\n",
       "      <th>166</th>\n",
       "      <td>20201123_1701_plate39</td>\n",
       "      <td>4.1e-07</td>\n",
       "      <td>2022-05-16 15:49:28</td>\n",
       "      <td>data/prince/94_20201123/20201123_1701_plate39</td>\n",
       "      <td>94</td>\n",
       "      <td>20201123</td>\n",
       "      <td>94_20201123</td>\n",
       "    </tr>\n",
       "    <tr>\n",
       "      <th>167</th>\n",
       "      <td>20201123_1400_plate39</td>\n",
       "      <td>4.1e-07</td>\n",
       "      <td>2022-05-16 15:49:27</td>\n",
       "      <td>data/prince/94_20201123/20201123_1400_plate39</td>\n",
       "      <td>94</td>\n",
       "      <td>20201123</td>\n",
       "      <td>94_20201123</td>\n",
       "    </tr>\n",
       "    <tr>\n",
       "      <th>168</th>\n",
       "      <td>20201123_1501_plate39</td>\n",
       "      <td>4.1e-07</td>\n",
       "      <td>2022-05-16 15:49:27</td>\n",
       "      <td>data/prince/94_20201123/20201123_1501_plate39</td>\n",
       "      <td>94</td>\n",
       "      <td>20201123</td>\n",
       "      <td>94_20201123</td>\n",
       "    </tr>\n",
       "  </tbody>\n",
       "</table>\n",
       "<p>169 rows × 7 columns</p>\n",
       "</div>"
      ],
      "text/plain": [
       "                    folder     size         change_date  \\\n",
       "0    20201204_2123_plate39  4.1e-07 2022-05-17 09:03:06   \n",
       "1    20201204_1723_plate39  4.1e-07 2022-05-17 09:03:04   \n",
       "2    20201205_0123_plate39  4.1e-07 2022-05-17 09:03:03   \n",
       "3    20201204_1323_plate39  4.1e-07 2022-05-17 09:03:02   \n",
       "4    20201205_0523_plate39  4.1e-07 2022-05-17 09:03:02   \n",
       "..                     ...      ...                 ...   \n",
       "164  20201123_2200_plate39  4.1e-07 2022-05-16 15:49:31   \n",
       "165  20201123_1601_plate39  4.1e-07 2022-05-16 15:49:29   \n",
       "166  20201123_1701_plate39  4.1e-07 2022-05-16 15:49:28   \n",
       "167  20201123_1400_plate39  4.1e-07 2022-05-16 15:49:27   \n",
       "168  20201123_1501_plate39  4.1e-07 2022-05-16 15:49:27   \n",
       "\n",
       "                                     tot_path_drop Plate CrossDate  \\\n",
       "0    data/prince/94_20201123/20201204_2123_plate39    94  20201123   \n",
       "1    data/prince/94_20201123/20201204_1723_plate39    94  20201123   \n",
       "2    data/prince/94_20201123/20201205_0123_plate39    94  20201123   \n",
       "3    data/prince/94_20201123/20201204_1323_plate39    94  20201123   \n",
       "4    data/prince/94_20201123/20201205_0523_plate39    94  20201123   \n",
       "..                                             ...   ...       ...   \n",
       "164  data/prince/94_20201123/20201123_2200_plate39    94  20201123   \n",
       "165  data/prince/94_20201123/20201123_1601_plate39    94  20201123   \n",
       "166  data/prince/94_20201123/20201123_1701_plate39    94  20201123   \n",
       "167  data/prince/94_20201123/20201123_1400_plate39    94  20201123   \n",
       "168  data/prince/94_20201123/20201123_1501_plate39    94  20201123   \n",
       "\n",
       "       unique_id  \n",
       "0    94_20201123  \n",
       "1    94_20201123  \n",
       "2    94_20201123  \n",
       "3    94_20201123  \n",
       "4    94_20201123  \n",
       "..           ...  \n",
       "164  94_20201123  \n",
       "165  94_20201123  \n",
       "166  94_20201123  \n",
       "167  94_20201123  \n",
       "168  94_20201123  \n",
       "\n",
       "[169 rows x 7 columns]"
      ]
     },
     "execution_count": 53,
     "metadata": {},
     "output_type": "execute_result"
    }
   ],
   "source": [
    "all_folders_drop_new"
   ]
  },
  {
   "cell_type": "code",
   "execution_count": 60,
   "metadata": {},
   "outputs": [],
   "source": [
    "directory_targ2 = os.path.join(directory_scratch, \"temptemp\") + \"/\""
   ]
  },
  {
   "cell_type": "code",
   "execution_count": 106,
   "metadata": {},
   "outputs": [
    {
     "name": "stdout",
     "output_type": "stream",
     "text": [
      "2022-05-18 14:42:40,500-[INFO]- dropbox:388 -> Refreshing access token.\n",
      "2022-05-18 14:42:40,675-[INFO]- dropbox:477 -> Request to files/list_folder\n"
     ]
    }
   ],
   "source": [
    "dbx = load_dbx()\n",
    "\n",
    "path = \"/\" + all_folders_drop_new.iloc[0][\"tot_path_drop\"]\n",
    "response = dbx.files_list_folder(path, recursive=False)\n",
    "listfiles = []\n",
    "listjson = []\n",
    "while response.has_more:\n",
    "    listfiles += [file for file in response.entries]\n",
    "    response = dbx.files_list_folder_continue(response.cursor)\n",
    "listfiles += [file for file in response.entries]"
   ]
  },
  {
   "cell_type": "code",
   "execution_count": 107,
   "metadata": {
    "collapsed": true,
    "jupyter": {
     "outputs_hidden": true
    },
    "tags": []
   },
   "outputs": [
    {
     "data": {
      "text/plain": [
       "[FileMetadata(client_modified=datetime.datetime(2022, 5, 17, 9, 3, 6), content_hash='c51bd427fc91a8869dd28bd0453ceac525009c1b9c7ee3bfae79278b539ec129', export_info=NOT_SET, file_lock_info=NOT_SET, has_explicit_shared_members=NOT_SET, id='id:tRFPXS1OOAQAAAAAAAC7wg', is_downloadable=True, media_info=NOT_SET, name='param.m', parent_shared_folder_id='10269534512', path_display='/DATA/PRINCE/94_20201123/20201204_2123_Plate39/param.m', path_lower='/data/prince/94_20201123/20201204_2123_plate39/param.m', property_groups=NOT_SET, rev='015df3168bbf6cc00000002641ca930', server_modified=datetime.datetime(2022, 5, 17, 9, 3, 7), sharing_info=FileSharingInfo(modified_by='dbid:AABIDXJq597-uS2e5SgTFZ0vARb3NPh-G8s', parent_shared_folder_id='10269534512', read_only=False), size=410, symlink_info=NOT_SET),\n",
       " FileMetadata(client_modified=datetime.datetime(2022, 5, 17, 9, 9, 25), content_hash='28e3d41e0b306f8d053bb4ee8d5964d4aa13c64b1fd67df360f691617289cffd', export_info=NOT_SET, file_lock_info=NOT_SET, has_explicit_shared_members=NOT_SET, id='id:tRFPXS1OOAQAAAAAAAC8HA', is_downloadable=True, media_info=NOT_SET, name='StitchedImage.tif', parent_shared_folder_id='10269534512', path_display='/DATA/PRINCE/94_20201123/20201204_2123_Plate39/StitchedImage.tif', path_lower='/data/prince/94_20201123/20201204_2123_plate39/stitchedimage.tif', property_groups=NOT_SET, rev='015df317f49ccf900000002641ca930', server_modified=datetime.datetime(2022, 5, 17, 9, 9, 25), sharing_info=FileSharingInfo(modified_by='dbid:AABIDXJq597-uS2e5SgTFZ0vARb3NPh-G8s', parent_shared_folder_id='10269534512', read_only=False), size=3458548, symlink_info=NOT_SET),\n",
       " FileMetadata(client_modified=datetime.datetime(2022, 5, 17, 9, 9, 27), content_hash='27cbadabb4979bc88ba3d187ff3830e88f4e0c2d3435f764a9a4d043bea1d824', export_info=NOT_SET, file_lock_info=NOT_SET, has_explicit_shared_members=NOT_SET, id='id:tRFPXS1OOAQAAAAAAAC8HQ', is_downloadable=True, media_info=NOT_SET, name='PrinceMeasurement.csv', parent_shared_folder_id='10269534512', path_display='/DATA/PRINCE/94_20201123/20201204_2123_Plate39/PrinceMeasurement.csv', path_lower='/data/prince/94_20201123/20201204_2123_plate39/princemeasurement.csv', property_groups=NOT_SET, rev='015df317f6b917b00000002641ca930', server_modified=datetime.datetime(2022, 5, 17, 9, 9, 27), sharing_info=FileSharingInfo(modified_by='dbid:AABIDXJq597-uS2e5SgTFZ0vARb3NPh-G8s', parent_shared_folder_id='10269534512', read_only=False), size=6241, symlink_info=NOT_SET),\n",
       " FileMetadata(client_modified=datetime.datetime(2022, 5, 17, 17, 36, 34), content_hash='cab6bac136e56a105ae8ec78310b4d6a5389e29ef5da3412668d2dee31694fd6', export_info=NOT_SET, file_lock_info=NOT_SET, has_explicit_shared_members=NOT_SET, id='id:tRFPXS1OOAQAAAAAAAC70g', is_downloadable=True, media_info=NOT_SET, name='Analysis.zip', parent_shared_folder_id='10269534512', path_display='/DATA/PRINCE/94_20201123/20201204_2123_Plate39/Analysis.zip', path_lower='/data/prince/94_20201123/20201204_2123_plate39/analysis.zip', property_groups=NOT_SET, rev='015df3894febf3a00000002641ca930', server_modified=datetime.datetime(2022, 5, 17, 17, 36, 34), sharing_info=FileSharingInfo(modified_by='dbid:AABIDXJq597-uS2e5SgTFZ0vARb3NPh-G8s', parent_shared_folder_id='10269534512', read_only=False), size=134959101, symlink_info=NOT_SET),\n",
       " FileMetadata(client_modified=datetime.datetime(2022, 5, 17, 17, 38, 45), content_hash='eda10c577ea2c4813aab2713864b7c272d4aab4e8034859863ba864b133402aa', export_info=NOT_SET, file_lock_info=NOT_SET, has_explicit_shared_members=NOT_SET, id='id:tRFPXS1OOAQAAAAAAAC8Fg', is_downloadable=True, media_info=NOT_SET, name='Img.zip', parent_shared_folder_id='10269534512', path_display='/DATA/PRINCE/94_20201123/20201204_2123_Plate39/Img.zip', path_lower='/data/prince/94_20201123/20201204_2123_plate39/img.zip', property_groups=NOT_SET, rev='015df389cd4deda00000002641ca930', server_modified=datetime.datetime(2022, 5, 17, 17, 38, 45), sharing_info=FileSharingInfo(modified_by='dbid:AABIDXJq597-uS2e5SgTFZ0vARb3NPh-G8s', parent_shared_folder_id='10269534512', read_only=False), size=770100964, symlink_info=NOT_SET)]"
      ]
     },
     "execution_count": 107,
     "metadata": {},
     "output_type": "execute_result"
    }
   ],
   "source": [
    "listfiles"
   ]
  },
  {
   "cell_type": "code",
   "execution_count": 109,
   "metadata": {},
   "outputs": [
    {
     "data": {
      "text/plain": [
       "['/data/prince/94_20201123/20201204_2123_plate39/param.m',\n",
       " '/data/prince/94_20201123/20201204_2123_plate39/stitchedimage.tif',\n",
       " '/data/prince/94_20201123/20201204_2123_plate39/princemeasurement.csv',\n",
       " '/data/prince/94_20201123/20201204_2123_plate39/analysis.zip',\n",
       " '/data/prince/94_20201123/20201204_2123_plate39/img.zip']"
      ]
     },
     "execution_count": 109,
     "metadata": {},
     "output_type": "execute_result"
    }
   ],
   "source": [
    "[file.path_lower for file in listfiles]"
   ]
  },
  {
   "cell_type": "code",
   "execution_count": 113,
   "metadata": {},
   "outputs": [],
   "source": [
    "def download_folders_drop(folders_drop: pd.DataFrame, directory_target):\n",
    "    dbx = load_dbx()\n",
    "    for index, row in folders_drop.iterrows():\n",
    "        path = \"/\" + row[\"tot_path_drop\"]\n",
    "        response = dbx.files_list_folder(path, recursive=False)\n",
    "        listfiles = []\n",
    "        while response.has_more:\n",
    "            listfiles += [file for file in response.entries]\n",
    "            response = dbx.files_list_folder_continue(response.cursor)\n",
    "        listfiles += [file for file in response.entries]\n",
    "        folder = row[\"folder\"]\n",
    "        path_folder = os.path.join(directory_target, folder)\n",
    "        if not os.path.exists(path_folder):\n",
    "            os.mkdir(path_folder)\n",
    "        for file in listfiles:\n",
    "            path_drop = file.path_lower\n",
    "            path_local = os.path.join(\n",
    "                directory_target, folder, path_drop.split(\"/\")[-1]\n",
    "            )\n",
    "            print(path_drop, path_local)\n",
    "\n",
    "            download(path_drop, path_local, unzip=(path_drop[-4:] == \".zip\"))"
   ]
  },
  {
   "cell_type": "code",
   "execution_count": 114,
   "metadata": {
    "collapsed": true,
    "jupyter": {
     "outputs_hidden": true
    },
    "tags": []
   },
   "outputs": [
    {
     "name": "stdout",
     "output_type": "stream",
     "text": [
      "2022-05-18 14:46:27,627-[INFO]- dropbox:388 -> Refreshing access token.\n",
      "2022-05-18 14:46:27,775-[INFO]- dropbox:477 -> Request to files/list_folder\n",
      "/data/prince/94_20201123/20201204_2123_plate39/param.m /scratch-shared/amftrack/temptemp/20201204_2123_plate39/param.m\n",
      "2022-05-18 14:46:28,158-[INFO]- dropbox:388 -> Refreshing access token.\n",
      "2022-05-18 14:46:28,358-[INFO]- dropbox:477 -> Request to files/download\n",
      "/data/prince/94_20201123/20201204_2123_plate39/stitchedimage.tif /scratch-shared/amftrack/temptemp/20201204_2123_plate39/stitchedimage.tif\n",
      "2022-05-18 14:46:29,835-[INFO]- dropbox:388 -> Refreshing access token.\n",
      "2022-05-18 14:46:29,987-[INFO]- dropbox:477 -> Request to files/download\n",
      "/data/prince/94_20201123/20201204_2123_plate39/princemeasurement.csv /scratch-shared/amftrack/temptemp/20201204_2123_plate39/princemeasurement.csv\n",
      "2022-05-18 14:46:30,741-[INFO]- dropbox:388 -> Refreshing access token.\n",
      "2022-05-18 14:46:30,899-[INFO]- dropbox:477 -> Request to files/download\n",
      "/data/prince/94_20201123/20201204_2123_plate39/analysis.zip /scratch-shared/amftrack/temptemp/20201204_2123_plate39/analysis.zip\n",
      "2022-05-18 14:46:31,652-[INFO]- dropbox:388 -> Refreshing access token.\n",
      "2022-05-18 14:46:31,810-[INFO]- dropbox:477 -> Request to files/download\n",
      "/data/prince/94_20201123/20201204_2123_plate39/img.zip /scratch-shared/amftrack/temptemp/20201204_2123_plate39/img.zip\n",
      "2022-05-18 14:46:44,217-[INFO]- dropbox:388 -> Refreshing access token.\n",
      "2022-05-18 14:46:44,413-[INFO]- dropbox:477 -> Request to files/download\n",
      "2022-05-18 14:47:28,934-[INFO]- dropbox:477 -> Request to files/list_folder\n",
      "/data/prince/94_20201123/20201204_1723_plate39/param.m /scratch-shared/amftrack/temptemp/20201204_1723_plate39/param.m\n",
      "2022-05-18 14:47:29,412-[INFO]- dropbox:388 -> Refreshing access token.\n",
      "2022-05-18 14:47:29,573-[INFO]- dropbox:477 -> Request to files/download\n",
      "/data/prince/94_20201123/20201204_1723_plate39/stitchedimage.tif /scratch-shared/amftrack/temptemp/20201204_1723_plate39/stitchedimage.tif\n",
      "2022-05-18 14:47:30,007-[INFO]- dropbox:388 -> Refreshing access token.\n",
      "2022-05-18 14:47:30,150-[INFO]- dropbox:477 -> Request to files/download\n",
      "/data/prince/94_20201123/20201204_1723_plate39/princemeasurement.csv /scratch-shared/amftrack/temptemp/20201204_1723_plate39/princemeasurement.csv\n",
      "2022-05-18 14:47:31,704-[INFO]- dropbox:388 -> Refreshing access token.\n",
      "2022-05-18 14:47:31,853-[INFO]- dropbox:477 -> Request to files/download\n",
      "/data/prince/94_20201123/20201204_1723_plate39/analysis.zip /scratch-shared/amftrack/temptemp/20201204_1723_plate39/analysis.zip\n",
      "2022-05-18 14:47:32,296-[INFO]- dropbox:388 -> Refreshing access token.\n",
      "2022-05-18 14:47:32,454-[INFO]- dropbox:477 -> Request to files/download\n",
      "/data/prince/94_20201123/20201204_1723_plate39/img.zip /scratch-shared/amftrack/temptemp/20201204_1723_plate39/img.zip\n",
      "2022-05-18 14:47:42,767-[INFO]- dropbox:388 -> Refreshing access token.\n",
      "2022-05-18 14:47:42,913-[INFO]- dropbox:477 -> Request to files/download\n",
      "2022-05-18 14:48:24,761-[INFO]- dropbox:477 -> Request to files/list_folder\n",
      "/data/prince/94_20201123/20201205_0123_plate39/param.m /scratch-shared/amftrack/temptemp/20201205_0123_plate39/param.m\n",
      "2022-05-18 14:48:25,096-[INFO]- dropbox:388 -> Refreshing access token.\n",
      "2022-05-18 14:48:25,248-[INFO]- dropbox:477 -> Request to files/download\n",
      "/data/prince/94_20201123/20201205_0123_plate39/stitchedimage.tif /scratch-shared/amftrack/temptemp/20201205_0123_plate39/stitchedimage.tif\n",
      "2022-05-18 14:48:25,978-[INFO]- dropbox:388 -> Refreshing access token.\n",
      "2022-05-18 14:48:26,199-[INFO]- dropbox:477 -> Request to files/download\n",
      "/data/prince/94_20201123/20201205_0123_plate39/princemeasurement.csv /scratch-shared/amftrack/temptemp/20201205_0123_plate39/princemeasurement.csv\n",
      "2022-05-18 14:48:27,294-[INFO]- dropbox:388 -> Refreshing access token.\n",
      "2022-05-18 14:48:27,435-[INFO]- dropbox:477 -> Request to files/download\n",
      "/data/prince/94_20201123/20201205_0123_plate39/analysis.zip /scratch-shared/amftrack/temptemp/20201205_0123_plate39/analysis.zip\n",
      "2022-05-18 14:48:28,102-[INFO]- dropbox:388 -> Refreshing access token.\n",
      "2022-05-18 14:48:28,271-[INFO]- dropbox:477 -> Request to files/download\n",
      "/data/prince/94_20201123/20201205_0123_plate39/img.zip /scratch-shared/amftrack/temptemp/20201205_0123_plate39/img.zip\n",
      "2022-05-18 14:48:39,258-[INFO]- dropbox:388 -> Refreshing access token.\n",
      "2022-05-18 14:48:39,402-[INFO]- dropbox:477 -> Request to files/download\n",
      "2022-05-18 14:49:38,558-[INFO]- dropbox:477 -> Request to files/list_folder\n",
      "/data/prince/94_20201123/20201204_1323_plate39/param.m /scratch-shared/amftrack/temptemp/20201204_1323_plate39/param.m\n",
      "2022-05-18 14:49:38,876-[INFO]- dropbox:388 -> Refreshing access token.\n",
      "2022-05-18 14:49:39,015-[INFO]- dropbox:477 -> Request to files/download\n",
      "/data/prince/94_20201123/20201204_1323_plate39/stitchedimage.tif /scratch-shared/amftrack/temptemp/20201204_1323_plate39/stitchedimage.tif\n",
      "2022-05-18 14:49:39,719-[INFO]- dropbox:388 -> Refreshing access token.\n",
      "2022-05-18 14:49:39,882-[INFO]- dropbox:477 -> Request to files/download\n",
      "/data/prince/94_20201123/20201204_1323_plate39/princemeasurement.csv /scratch-shared/amftrack/temptemp/20201204_1323_plate39/princemeasurement.csv\n",
      "2022-05-18 14:49:40,532-[INFO]- dropbox:388 -> Refreshing access token.\n",
      "2022-05-18 14:49:40,685-[INFO]- dropbox:477 -> Request to files/download\n",
      "/data/prince/94_20201123/20201204_1323_plate39/analysis.zip /scratch-shared/amftrack/temptemp/20201204_1323_plate39/analysis.zip\n",
      "2022-05-18 14:49:41,340-[INFO]- dropbox:388 -> Refreshing access token.\n",
      "2022-05-18 14:49:41,490-[INFO]- dropbox:477 -> Request to files/download\n",
      "/data/prince/94_20201123/20201204_1323_plate39/img.zip /scratch-shared/amftrack/temptemp/20201204_1323_plate39/img.zip\n",
      "2022-05-18 14:49:52,239-[INFO]- dropbox:388 -> Refreshing access token.\n",
      "2022-05-18 14:49:52,422-[INFO]- dropbox:477 -> Request to files/download\n",
      "2022-05-18 14:50:45,364-[INFO]- dropbox:477 -> Request to files/list_folder\n",
      "/data/prince/94_20201123/20201205_0523_plate39/param.m /scratch-shared/amftrack/temptemp/20201205_0523_plate39/param.m\n",
      "2022-05-18 14:50:45,749-[INFO]- dropbox:388 -> Refreshing access token.\n",
      "2022-05-18 14:50:45,942-[INFO]- dropbox:477 -> Request to files/download\n",
      "/data/prince/94_20201123/20201205_0523_plate39/stitchedimage.tif /scratch-shared/amftrack/temptemp/20201205_0523_plate39/stitchedimage.tif\n",
      "2022-05-18 14:50:47,101-[INFO]- dropbox:388 -> Refreshing access token.\n",
      "2022-05-18 14:50:47,250-[INFO]- dropbox:477 -> Request to files/download\n",
      "/data/prince/94_20201123/20201205_0523_plate39/princemeasurement.csv /scratch-shared/amftrack/temptemp/20201205_0523_plate39/princemeasurement.csv\n",
      "2022-05-18 14:50:48,829-[INFO]- dropbox:388 -> Refreshing access token.\n",
      "2022-05-18 14:50:49,026-[INFO]- dropbox:477 -> Request to files/download\n",
      "/data/prince/94_20201123/20201205_0523_plate39/analysis.zip /scratch-shared/amftrack/temptemp/20201205_0523_plate39/analysis.zip\n",
      "2022-05-18 14:50:50,369-[INFO]- dropbox:388 -> Refreshing access token.\n",
      "2022-05-18 14:50:50,535-[INFO]- dropbox:477 -> Request to files/download\n",
      "/data/prince/94_20201123/20201205_0523_plate39/img.zip /scratch-shared/amftrack/temptemp/20201205_0523_plate39/img.zip\n",
      "2022-05-18 14:51:04,046-[INFO]- dropbox:388 -> Refreshing access token.\n",
      "2022-05-18 14:51:04,187-[INFO]- dropbox:477 -> Request to files/download\n",
      "2022-05-18 14:51:49,023-[INFO]- dropbox:477 -> Request to files/list_folder\n",
      "/data/prince/94_20201123/20201202_2206_plate39/param.m /scratch-shared/amftrack/temptemp/20201202_2206_plate39/param.m\n",
      "2022-05-18 14:51:49,566-[INFO]- dropbox:388 -> Refreshing access token.\n",
      "2022-05-18 14:51:49,718-[INFO]- dropbox:477 -> Request to files/download\n",
      "/data/prince/94_20201123/20201202_2206_plate39/stitchedimage.tif /scratch-shared/amftrack/temptemp/20201202_2206_plate39/stitchedimage.tif\n",
      "2022-05-18 14:51:50,374-[INFO]- dropbox:388 -> Refreshing access token.\n",
      "2022-05-18 14:51:50,522-[INFO]- dropbox:477 -> Request to files/download\n",
      "/data/prince/94_20201123/20201202_2206_plate39/princemeasurement.csv /scratch-shared/amftrack/temptemp/20201202_2206_plate39/princemeasurement.csv\n",
      "2022-05-18 14:51:51,357-[INFO]- dropbox:388 -> Refreshing access token.\n",
      "2022-05-18 14:51:51,507-[INFO]- dropbox:477 -> Request to files/download\n",
      "/data/prince/94_20201123/20201202_2206_plate39/analysis.zip /scratch-shared/amftrack/temptemp/20201202_2206_plate39/analysis.zip\n",
      "2022-05-18 14:51:51,950-[INFO]- dropbox:388 -> Refreshing access token.\n",
      "2022-05-18 14:51:52,100-[INFO]- dropbox:477 -> Request to files/download\n",
      "/data/prince/94_20201123/20201202_2206_plate39/img.zip /scratch-shared/amftrack/temptemp/20201202_2206_plate39/img.zip\n",
      "2022-05-18 14:52:00,573-[INFO]- dropbox:388 -> Refreshing access token.\n",
      "2022-05-18 14:52:00,719-[INFO]- dropbox:477 -> Request to files/download\n",
      "2022-05-18 14:52:43,471-[INFO]- dropbox:477 -> Request to files/list_folder\n",
      "/data/prince/94_20201123/20201203_1005_plate39/param.m /scratch-shared/amftrack/temptemp/20201203_1005_plate39/param.m\n",
      "2022-05-18 14:52:44,024-[INFO]- dropbox:388 -> Refreshing access token.\n",
      "2022-05-18 14:52:44,186-[INFO]- dropbox:477 -> Request to files/download\n",
      "/data/prince/94_20201123/20201203_1005_plate39/stitchedimage.tif /scratch-shared/amftrack/temptemp/20201203_1005_plate39/stitchedimage.tif\n",
      "2022-05-18 14:52:44,950-[INFO]- dropbox:388 -> Refreshing access token.\n",
      "2022-05-18 14:52:45,090-[INFO]- dropbox:477 -> Request to files/download\n",
      "/data/prince/94_20201123/20201203_1005_plate39/princemeasurement.csv /scratch-shared/amftrack/temptemp/20201203_1005_plate39/princemeasurement.csv\n",
      "2022-05-18 14:52:45,839-[INFO]- dropbox:388 -> Refreshing access token.\n",
      "2022-05-18 14:52:45,985-[INFO]- dropbox:477 -> Request to files/download\n",
      "/data/prince/94_20201123/20201203_1005_plate39/analysis.zip /scratch-shared/amftrack/temptemp/20201203_1005_plate39/analysis.zip\n",
      "2022-05-18 14:52:46,630-[INFO]- dropbox:388 -> Refreshing access token.\n",
      "2022-05-18 14:52:46,780-[INFO]- dropbox:477 -> Request to files/download\n",
      "/data/prince/94_20201123/20201203_1005_plate39/img.zip /scratch-shared/amftrack/temptemp/20201203_1005_plate39/img.zip\n",
      "2022-05-18 14:52:56,053-[INFO]- dropbox:388 -> Refreshing access token.\n",
      "2022-05-18 14:52:56,201-[INFO]- dropbox:477 -> Request to files/download\n",
      "2022-05-18 14:53:36,811-[INFO]- dropbox:477 -> Request to files/list_folder\n",
      "/data/prince/94_20201123/20201203_0606_plate39/param.m /scratch-shared/amftrack/temptemp/20201203_0606_plate39/param.m\n",
      "2022-05-18 14:53:37,113-[INFO]- dropbox:388 -> Refreshing access token.\n",
      "2022-05-18 14:53:37,254-[INFO]- dropbox:477 -> Request to files/download\n",
      "/data/prince/94_20201123/20201203_0606_plate39/stitchedimage.tif /scratch-shared/amftrack/temptemp/20201203_0606_plate39/stitchedimage.tif\n",
      "2022-05-18 14:53:37,843-[INFO]- dropbox:388 -> Refreshing access token.\n",
      "2022-05-18 14:53:37,990-[INFO]- dropbox:477 -> Request to files/download\n",
      "/data/prince/94_20201123/20201203_0606_plate39/princemeasurement.csv /scratch-shared/amftrack/temptemp/20201203_0606_plate39/princemeasurement.csv\n",
      "2022-05-18 14:53:39,336-[INFO]- dropbox:388 -> Refreshing access token.\n",
      "2022-05-18 14:53:39,482-[INFO]- dropbox:477 -> Request to files/download\n",
      "/data/prince/94_20201123/20201203_0606_plate39/analysis.zip /scratch-shared/amftrack/temptemp/20201203_0606_plate39/analysis.zip\n",
      "2022-05-18 14:53:40,380-[INFO]- dropbox:388 -> Refreshing access token.\n",
      "2022-05-18 14:53:40,564-[INFO]- dropbox:477 -> Request to files/download\n",
      "/data/prince/94_20201123/20201203_0606_plate39/img.zip /scratch-shared/amftrack/temptemp/20201203_0606_plate39/img.zip\n",
      "2022-05-18 14:53:50,535-[INFO]- dropbox:388 -> Refreshing access token.\n",
      "2022-05-18 14:53:50,676-[INFO]- dropbox:477 -> Request to files/download\n",
      "2022-05-18 14:54:31,322-[INFO]- dropbox:477 -> Request to files/list_folder\n",
      "/data/prince/94_20201123/20201202_1805_plate39/param.m /scratch-shared/amftrack/temptemp/20201202_1805_plate39/param.m\n",
      "2022-05-18 14:54:31,684-[INFO]- dropbox:388 -> Refreshing access token.\n",
      "2022-05-18 14:54:31,863-[INFO]- dropbox:477 -> Request to files/download\n",
      "/data/prince/94_20201123/20201202_1805_plate39/stitchedimage.tif /scratch-shared/amftrack/temptemp/20201202_1805_plate39/stitchedimage.tif\n",
      "2022-05-18 14:54:32,515-[INFO]- dropbox:388 -> Refreshing access token.\n",
      "2022-05-18 14:54:32,691-[INFO]- dropbox:477 -> Request to files/download\n",
      "/data/prince/94_20201123/20201202_1805_plate39/princemeasurement.csv /scratch-shared/amftrack/temptemp/20201202_1805_plate39/princemeasurement.csv\n",
      "2022-05-18 14:54:33,790-[INFO]- dropbox:388 -> Refreshing access token.\n",
      "2022-05-18 14:54:33,951-[INFO]- dropbox:477 -> Request to files/download\n",
      "/data/prince/94_20201123/20201202_1805_plate39/analysis.zip /scratch-shared/amftrack/temptemp/20201202_1805_plate39/analysis.zip\n",
      "2022-05-18 14:54:34,586-[INFO]- dropbox:388 -> Refreshing access token.\n",
      "2022-05-18 14:54:34,728-[INFO]- dropbox:477 -> Request to files/download\n",
      "/data/prince/94_20201123/20201202_1805_plate39/img.zip /scratch-shared/amftrack/temptemp/20201202_1805_plate39/img.zip\n",
      "2022-05-18 14:54:46,145-[INFO]- dropbox:388 -> Refreshing access token.\n",
      "2022-05-18 14:54:46,301-[INFO]- dropbox:477 -> Request to files/download\n",
      "2022-05-18 14:55:36,593-[INFO]- dropbox:477 -> Request to files/list_folder\n",
      "/data/prince/94_20201123/20201203_0206_plate39/param.m /scratch-shared/amftrack/temptemp/20201203_0206_plate39/param.m\n",
      "2022-05-18 14:55:36,910-[INFO]- dropbox:388 -> Refreshing access token.\n",
      "2022-05-18 14:55:37,077-[INFO]- dropbox:477 -> Request to files/download\n",
      "/data/prince/94_20201123/20201203_0206_plate39/stitchedimage.tif /scratch-shared/amftrack/temptemp/20201203_0206_plate39/stitchedimage.tif\n",
      "2022-05-18 14:55:37,679-[INFO]- dropbox:388 -> Refreshing access token.\n",
      "2022-05-18 14:55:37,823-[INFO]- dropbox:477 -> Request to files/download\n",
      "/data/prince/94_20201123/20201203_0206_plate39/princemeasurement.csv /scratch-shared/amftrack/temptemp/20201203_0206_plate39/princemeasurement.csv\n",
      "2022-05-18 14:55:39,062-[INFO]- dropbox:388 -> Refreshing access token.\n",
      "2022-05-18 14:55:39,206-[INFO]- dropbox:477 -> Request to files/download\n",
      "/data/prince/94_20201123/20201203_0206_plate39/analysis.zip /scratch-shared/amftrack/temptemp/20201203_0206_plate39/analysis.zip\n",
      "2022-05-18 14:55:40,014-[INFO]- dropbox:388 -> Refreshing access token.\n",
      "2022-05-18 14:55:40,180-[INFO]- dropbox:477 -> Request to files/download\n",
      "/data/prince/94_20201123/20201203_0206_plate39/img.zip /scratch-shared/amftrack/temptemp/20201203_0206_plate39/img.zip\n",
      "2022-05-18 14:55:48,307-[INFO]- dropbox:388 -> Refreshing access token.\n",
      "2022-05-18 14:55:48,439-[INFO]- dropbox:477 -> Request to files/download\n",
      "2022-05-18 14:56:37,286-[INFO]- dropbox:477 -> Request to files/list_folder\n",
      "/data/prince/94_20201123/20201203_2206_plate39/param.m /scratch-shared/amftrack/temptemp/20201203_2206_plate39/param.m\n",
      "2022-05-18 14:56:37,654-[INFO]- dropbox:388 -> Refreshing access token.\n",
      "2022-05-18 14:56:37,839-[INFO]- dropbox:477 -> Request to files/download\n",
      "/data/prince/94_20201123/20201203_2206_plate39/stitchedimage.tif /scratch-shared/amftrack/temptemp/20201203_2206_plate39/stitchedimage.tif\n",
      "2022-05-18 14:56:38,513-[INFO]- dropbox:388 -> Refreshing access token.\n",
      "2022-05-18 14:56:38,678-[INFO]- dropbox:477 -> Request to files/download\n",
      "/data/prince/94_20201123/20201203_2206_plate39/princemeasurement.csv /scratch-shared/amftrack/temptemp/20201203_2206_plate39/princemeasurement.csv\n",
      "2022-05-18 14:56:40,098-[INFO]- dropbox:388 -> Refreshing access token.\n",
      "2022-05-18 14:56:40,254-[INFO]- dropbox:477 -> Request to files/download\n",
      "/data/prince/94_20201123/20201203_2206_plate39/analysis.zip /scratch-shared/amftrack/temptemp/20201203_2206_plate39/analysis.zip\n",
      "2022-05-18 14:56:40,859-[INFO]- dropbox:388 -> Refreshing access token.\n",
      "2022-05-18 14:56:41,003-[INFO]- dropbox:477 -> Request to files/download\n",
      "/data/prince/94_20201123/20201203_2206_plate39/img.zip /scratch-shared/amftrack/temptemp/20201203_2206_plate39/img.zip\n",
      "2022-05-18 14:56:52,123-[INFO]- dropbox:388 -> Refreshing access token.\n",
      "2022-05-18 14:56:52,279-[INFO]- dropbox:477 -> Request to files/download\n",
      "2022-05-18 14:57:43,906-[INFO]- dropbox:477 -> Request to files/list_folder\n",
      "/data/prince/94_20201123/20201204_0606_plate39/param.m /scratch-shared/amftrack/temptemp/20201204_0606_plate39/param.m\n",
      "2022-05-18 14:57:44,237-[INFO]- dropbox:388 -> Refreshing access token.\n",
      "2022-05-18 14:57:44,385-[INFO]- dropbox:477 -> Request to files/download\n",
      "/data/prince/94_20201123/20201204_0606_plate39/stitchedimage.tif /scratch-shared/amftrack/temptemp/20201204_0606_plate39/stitchedimage.tif\n",
      "2022-05-18 14:57:44,841-[INFO]- dropbox:388 -> Refreshing access token.\n",
      "2022-05-18 14:57:45,030-[INFO]- dropbox:477 -> Request to files/download\n",
      "/data/prince/94_20201123/20201204_0606_plate39/princemeasurement.csv /scratch-shared/amftrack/temptemp/20201204_0606_plate39/princemeasurement.csv\n",
      "2022-05-18 14:57:46,400-[INFO]- dropbox:388 -> Refreshing access token.\n",
      "2022-05-18 14:57:46,550-[INFO]- dropbox:477 -> Request to files/download\n",
      "/data/prince/94_20201123/20201204_0606_plate39/analysis.zip /scratch-shared/amftrack/temptemp/20201204_0606_plate39/analysis.zip\n",
      "2022-05-18 14:57:46,977-[INFO]- dropbox:388 -> Refreshing access token.\n",
      "2022-05-18 14:57:47,136-[INFO]- dropbox:477 -> Request to files/download\n",
      "/data/prince/94_20201123/20201204_0606_plate39/img.zip /scratch-shared/amftrack/temptemp/20201204_0606_plate39/img.zip\n",
      "2022-05-18 14:57:57,700-[INFO]- dropbox:388 -> Refreshing access token.\n",
      "2022-05-18 14:57:57,833-[INFO]- dropbox:477 -> Request to files/download\n",
      "2022-05-18 14:58:38,208-[INFO]- dropbox:477 -> Request to files/list_folder\n",
      "/data/prince/94_20201123/20201203_1806_plate39/param.m /scratch-shared/amftrack/temptemp/20201203_1806_plate39/param.m\n",
      "2022-05-18 14:58:38,508-[INFO]- dropbox:388 -> Refreshing access token.\n",
      "2022-05-18 14:58:38,648-[INFO]- dropbox:477 -> Request to files/download\n",
      "/data/prince/94_20201123/20201203_1806_plate39/stitchedimage.tif /scratch-shared/amftrack/temptemp/20201203_1806_plate39/stitchedimage.tif\n",
      "2022-05-18 14:58:39,058-[INFO]- dropbox:388 -> Refreshing access token.\n",
      "2022-05-18 14:58:39,222-[INFO]- dropbox:477 -> Request to files/download\n",
      "/data/prince/94_20201123/20201203_1806_plate39/princemeasurement.csv /scratch-shared/amftrack/temptemp/20201203_1806_plate39/princemeasurement.csv\n",
      "2022-05-18 14:58:40,372-[INFO]- dropbox:388 -> Refreshing access token.\n",
      "2022-05-18 14:58:40,537-[INFO]- dropbox:477 -> Request to files/download\n",
      "/data/prince/94_20201123/20201203_1806_plate39/analysis.zip /scratch-shared/amftrack/temptemp/20201203_1806_plate39/analysis.zip\n",
      "2022-05-18 14:58:41,258-[INFO]- dropbox:388 -> Refreshing access token.\n",
      "2022-05-18 14:58:41,412-[INFO]- dropbox:477 -> Request to files/download\n",
      "/data/prince/94_20201123/20201203_1806_plate39/img.zip /scratch-shared/amftrack/temptemp/20201203_1806_plate39/img.zip\n",
      "2022-05-18 14:58:51,990-[INFO]- dropbox:388 -> Refreshing access token.\n",
      "2022-05-18 14:58:52,145-[INFO]- dropbox:477 -> Request to files/download\n",
      "2022-05-18 14:59:34,123-[INFO]- dropbox:477 -> Request to files/list_folder\n",
      "/data/prince/94_20201123/20201204_0206_plate39/param.m /scratch-shared/amftrack/temptemp/20201204_0206_plate39/param.m\n",
      "2022-05-18 14:59:34,510-[INFO]- dropbox:388 -> Refreshing access token.\n",
      "2022-05-18 14:59:34,688-[INFO]- dropbox:477 -> Request to files/download\n",
      "/data/prince/94_20201123/20201204_0206_plate39/stitchedimage.tif /scratch-shared/amftrack/temptemp/20201204_0206_plate39/stitchedimage.tif\n",
      "2022-05-18 14:59:35,152-[INFO]- dropbox:388 -> Refreshing access token.\n",
      "2022-05-18 14:59:35,288-[INFO]- dropbox:477 -> Request to files/download\n",
      "/data/prince/94_20201123/20201204_0206_plate39/princemeasurement.csv /scratch-shared/amftrack/temptemp/20201204_0206_plate39/princemeasurement.csv\n",
      "2022-05-18 14:59:36,032-[INFO]- dropbox:388 -> Refreshing access token.\n",
      "2022-05-18 14:59:36,234-[INFO]- dropbox:477 -> Request to files/download\n",
      "/data/prince/94_20201123/20201204_0206_plate39/analysis.zip /scratch-shared/amftrack/temptemp/20201204_0206_plate39/analysis.zip\n",
      "2022-05-18 14:59:36,840-[INFO]- dropbox:388 -> Refreshing access token.\n",
      "2022-05-18 14:59:37,011-[INFO]- dropbox:477 -> Request to files/download\n",
      "/data/prince/94_20201123/20201204_0206_plate39/img.zip /scratch-shared/amftrack/temptemp/20201204_0206_plate39/img.zip\n",
      "2022-05-18 14:59:45,934-[INFO]- dropbox:388 -> Refreshing access token.\n",
      "2022-05-18 14:59:46,115-[INFO]- dropbox:477 -> Request to files/download\n",
      "2022-05-18 15:00:28,439-[INFO]- dropbox:477 -> Request to files/list_folder\n",
      "/data/prince/94_20201123/20201203_1405_plate39/param.m /scratch-shared/amftrack/temptemp/20201203_1405_plate39/param.m\n",
      "2022-05-18 15:00:28,870-[INFO]- dropbox:388 -> Refreshing access token.\n",
      "2022-05-18 15:00:29,036-[INFO]- dropbox:477 -> Request to files/download\n",
      "/data/prince/94_20201123/20201203_1405_plate39/stitchedimage.tif /scratch-shared/amftrack/temptemp/20201203_1405_plate39/stitchedimage.tif\n",
      "2022-05-18 15:00:29,745-[INFO]- dropbox:388 -> Refreshing access token.\n",
      "2022-05-18 15:00:29,897-[INFO]- dropbox:477 -> Request to files/download\n",
      "/data/prince/94_20201123/20201203_1405_plate39/princemeasurement.csv /scratch-shared/amftrack/temptemp/20201203_1405_plate39/princemeasurement.csv\n",
      "2022-05-18 15:00:30,957-[INFO]- dropbox:388 -> Refreshing access token.\n",
      "2022-05-18 15:00:31,107-[INFO]- dropbox:477 -> Request to files/download\n",
      "/data/prince/94_20201123/20201203_1405_plate39/analysis.zip /scratch-shared/amftrack/temptemp/20201203_1405_plate39/analysis.zip\n",
      "2022-05-18 15:00:31,641-[INFO]- dropbox:388 -> Refreshing access token.\n",
      "2022-05-18 15:00:31,818-[INFO]- dropbox:477 -> Request to files/download\n",
      "/data/prince/94_20201123/20201203_1405_plate39/img.zip /scratch-shared/amftrack/temptemp/20201203_1405_plate39/img.zip\n",
      "2022-05-18 15:00:41,274-[INFO]- dropbox:388 -> Refreshing access token.\n",
      "2022-05-18 15:00:41,432-[INFO]- dropbox:477 -> Request to files/download\n",
      "2022-05-18 15:01:24,509-[INFO]- dropbox:477 -> Request to files/list_folder\n",
      "/data/prince/94_20201123/20201126_1102_plate39/param.m /scratch-shared/amftrack/temptemp/20201126_1102_plate39/param.m\n",
      "2022-05-18 15:01:24,913-[INFO]- dropbox:388 -> Refreshing access token.\n",
      "2022-05-18 15:01:25,056-[INFO]- dropbox:477 -> Request to files/download\n",
      "/data/prince/94_20201123/20201126_1102_plate39/stitchedimage.tif /scratch-shared/amftrack/temptemp/20201126_1102_plate39/stitchedimage.tif\n",
      "2022-05-18 15:01:25,511-[INFO]- dropbox:388 -> Refreshing access token.\n",
      "2022-05-18 15:01:25,656-[INFO]- dropbox:477 -> Request to files/download\n",
      "/data/prince/94_20201123/20201126_1102_plate39/princemeasurement.csv /scratch-shared/amftrack/temptemp/20201126_1102_plate39/princemeasurement.csv\n",
      "2022-05-18 15:01:26,787-[INFO]- dropbox:388 -> Refreshing access token.\n",
      "2022-05-18 15:01:26,932-[INFO]- dropbox:477 -> Request to files/download\n",
      "/data/prince/94_20201123/20201126_1102_plate39/analysis.zip /scratch-shared/amftrack/temptemp/20201126_1102_plate39/analysis.zip\n",
      "2022-05-18 15:01:27,560-[INFO]- dropbox:388 -> Refreshing access token.\n",
      "2022-05-18 15:01:27,731-[INFO]- dropbox:477 -> Request to files/download\n",
      "/data/prince/94_20201123/20201126_1102_plate39/img.zip /scratch-shared/amftrack/temptemp/20201126_1102_plate39/img.zip\n",
      "2022-05-18 15:01:34,595-[INFO]- dropbox:388 -> Refreshing access token.\n",
      "2022-05-18 15:01:34,733-[INFO]- dropbox:477 -> Request to files/download\n"
     ]
    },
    {
     "ename": "KeyboardInterrupt",
     "evalue": "",
     "output_type": "error",
     "traceback": [
      "\u001b[0;31m---------------------------------------------------------------------------\u001b[0m",
      "\u001b[0;31mKeyboardInterrupt\u001b[0m                         Traceback (most recent call last)",
      "\u001b[0;32m/scratch-local/cbisot/ipykernel_928921/3950166342.py\u001b[0m in \u001b[0;36m<module>\u001b[0;34m\u001b[0m\n\u001b[0;32m----> 1\u001b[0;31m \u001b[0mdownload_folders_drop\u001b[0m\u001b[0;34m(\u001b[0m\u001b[0mall_folders_drop_new\u001b[0m\u001b[0;34m,\u001b[0m\u001b[0mdirectory_targ2\u001b[0m\u001b[0;34m)\u001b[0m\u001b[0;34m\u001b[0m\u001b[0;34m\u001b[0m\u001b[0m\n\u001b[0m",
      "\u001b[0;32m/scratch-local/cbisot/ipykernel_928921/386490798.py\u001b[0m in \u001b[0;36mdownload_folders_drop\u001b[0;34m(folders_drop, directory_target)\u001b[0m\n\u001b[1;32m     22\u001b[0m             \u001b[0mprint\u001b[0m\u001b[0;34m(\u001b[0m\u001b[0mpath_drop\u001b[0m\u001b[0;34m,\u001b[0m \u001b[0mpath_local\u001b[0m\u001b[0;34m)\u001b[0m\u001b[0;34m\u001b[0m\u001b[0;34m\u001b[0m\u001b[0m\n\u001b[1;32m     23\u001b[0m \u001b[0;34m\u001b[0m\u001b[0m\n\u001b[0;32m---> 24\u001b[0;31m             \u001b[0mdownload\u001b[0m\u001b[0;34m(\u001b[0m\u001b[0mpath_drop\u001b[0m\u001b[0;34m,\u001b[0m \u001b[0mpath_local\u001b[0m\u001b[0;34m,\u001b[0m \u001b[0munzip\u001b[0m\u001b[0;34m=\u001b[0m\u001b[0;34m(\u001b[0m\u001b[0mpath_drop\u001b[0m\u001b[0;34m[\u001b[0m\u001b[0;34m-\u001b[0m\u001b[0;36m4\u001b[0m\u001b[0;34m:\u001b[0m\u001b[0;34m]\u001b[0m \u001b[0;34m==\u001b[0m \u001b[0;34m\".zip\"\u001b[0m\u001b[0;34m)\u001b[0m\u001b[0;34m)\u001b[0m\u001b[0;34m\u001b[0m\u001b[0;34m\u001b[0m\u001b[0m\n\u001b[0m",
      "\u001b[0;32m/gpfs/home2/cbisot/pycode/AMFtrack/amftrack/util/dbx.py\u001b[0m in \u001b[0;36mdownload\u001b[0;34m(file_path, target_path, end, catch_exception, unzip)\u001b[0m\n\u001b[1;32m    124\u001b[0m             \u001b[0;32mwith\u001b[0m \u001b[0mopen\u001b[0m\u001b[0;34m(\u001b[0m\u001b[0mtarget_path\u001b[0m\u001b[0;34m,\u001b[0m \u001b[0;34m\"wb\"\u001b[0m\u001b[0;34m)\u001b[0m \u001b[0;32mas\u001b[0m \u001b[0mf\u001b[0m\u001b[0;34m:\u001b[0m\u001b[0;34m\u001b[0m\u001b[0;34m\u001b[0m\u001b[0m\n\u001b[1;32m    125\u001b[0m                 \u001b[0mmetadata\u001b[0m\u001b[0;34m,\u001b[0m \u001b[0mres\u001b[0m \u001b[0;34m=\u001b[0m \u001b[0mdbx\u001b[0m\u001b[0;34m.\u001b[0m\u001b[0mfiles_download\u001b[0m\u001b[0;34m(\u001b[0m\u001b[0mpath\u001b[0m\u001b[0;34m=\u001b[0m\u001b[0;34mf'{file_path}{end}'\u001b[0m\u001b[0;34m)\u001b[0m\u001b[0;34m\u001b[0m\u001b[0;34m\u001b[0m\u001b[0m\n\u001b[0;32m--> 126\u001b[0;31m                 \u001b[0mf\u001b[0m\u001b[0;34m.\u001b[0m\u001b[0mwrite\u001b[0m\u001b[0;34m(\u001b[0m\u001b[0mres\u001b[0m\u001b[0;34m.\u001b[0m\u001b[0mcontent\u001b[0m\u001b[0;34m)\u001b[0m\u001b[0;34m\u001b[0m\u001b[0;34m\u001b[0m\u001b[0m\n\u001b[0m\u001b[1;32m    127\u001b[0m         \u001b[0;32mexcept\u001b[0m \u001b[0;34m(\u001b[0m\u001b[0mrequests\u001b[0m\u001b[0;34m.\u001b[0m\u001b[0mexceptions\u001b[0m\u001b[0;34m.\u001b[0m\u001b[0mRequestException\u001b[0m\u001b[0;34m,\u001b[0m\u001b[0mdropbox\u001b[0m\u001b[0;34m.\u001b[0m\u001b[0mexceptions\u001b[0m\u001b[0;34m.\u001b[0m\u001b[0mApiError\u001b[0m\u001b[0;34m)\u001b[0m \u001b[0;32mas\u001b[0m \u001b[0me\u001b[0m\u001b[0;34m:\u001b[0m\u001b[0;34m\u001b[0m\u001b[0;34m\u001b[0m\u001b[0m\n\u001b[1;32m    128\u001b[0m             \u001b[0;32mif\u001b[0m \u001b[0mcatch_exception\u001b[0m\u001b[0;34m:\u001b[0m\u001b[0;34m\u001b[0m\u001b[0;34m\u001b[0m\u001b[0m\n",
      "\u001b[0;32m~/miniconda3/envs/amftrack/lib/python3.7/site-packages/requests/models.py\u001b[0m in \u001b[0;36mcontent\u001b[0;34m(self)\u001b[0m\n\u001b[1;32m    834\u001b[0m                 \u001b[0mself\u001b[0m\u001b[0;34m.\u001b[0m\u001b[0m_content\u001b[0m \u001b[0;34m=\u001b[0m \u001b[0;32mNone\u001b[0m\u001b[0;34m\u001b[0m\u001b[0;34m\u001b[0m\u001b[0m\n\u001b[1;32m    835\u001b[0m             \u001b[0;32melse\u001b[0m\u001b[0;34m:\u001b[0m\u001b[0;34m\u001b[0m\u001b[0;34m\u001b[0m\u001b[0m\n\u001b[0;32m--> 836\u001b[0;31m                 \u001b[0mself\u001b[0m\u001b[0;34m.\u001b[0m\u001b[0m_content\u001b[0m \u001b[0;34m=\u001b[0m \u001b[0;34mb''\u001b[0m\u001b[0;34m.\u001b[0m\u001b[0mjoin\u001b[0m\u001b[0;34m(\u001b[0m\u001b[0mself\u001b[0m\u001b[0;34m.\u001b[0m\u001b[0miter_content\u001b[0m\u001b[0;34m(\u001b[0m\u001b[0mCONTENT_CHUNK_SIZE\u001b[0m\u001b[0;34m)\u001b[0m\u001b[0;34m)\u001b[0m \u001b[0;32mor\u001b[0m \u001b[0;34mb''\u001b[0m\u001b[0;34m\u001b[0m\u001b[0;34m\u001b[0m\u001b[0m\n\u001b[0m\u001b[1;32m    837\u001b[0m \u001b[0;34m\u001b[0m\u001b[0m\n\u001b[1;32m    838\u001b[0m         \u001b[0mself\u001b[0m\u001b[0;34m.\u001b[0m\u001b[0m_content_consumed\u001b[0m \u001b[0;34m=\u001b[0m \u001b[0;32mTrue\u001b[0m\u001b[0;34m\u001b[0m\u001b[0;34m\u001b[0m\u001b[0m\n",
      "\u001b[0;32m~/miniconda3/envs/amftrack/lib/python3.7/site-packages/requests/models.py\u001b[0m in \u001b[0;36mgenerate\u001b[0;34m()\u001b[0m\n\u001b[1;32m    756\u001b[0m             \u001b[0;32mif\u001b[0m \u001b[0mhasattr\u001b[0m\u001b[0;34m(\u001b[0m\u001b[0mself\u001b[0m\u001b[0;34m.\u001b[0m\u001b[0mraw\u001b[0m\u001b[0;34m,\u001b[0m \u001b[0;34m'stream'\u001b[0m\u001b[0;34m)\u001b[0m\u001b[0;34m:\u001b[0m\u001b[0;34m\u001b[0m\u001b[0;34m\u001b[0m\u001b[0m\n\u001b[1;32m    757\u001b[0m                 \u001b[0;32mtry\u001b[0m\u001b[0;34m:\u001b[0m\u001b[0;34m\u001b[0m\u001b[0;34m\u001b[0m\u001b[0m\n\u001b[0;32m--> 758\u001b[0;31m                     \u001b[0;32mfor\u001b[0m \u001b[0mchunk\u001b[0m \u001b[0;32min\u001b[0m \u001b[0mself\u001b[0m\u001b[0;34m.\u001b[0m\u001b[0mraw\u001b[0m\u001b[0;34m.\u001b[0m\u001b[0mstream\u001b[0m\u001b[0;34m(\u001b[0m\u001b[0mchunk_size\u001b[0m\u001b[0;34m,\u001b[0m \u001b[0mdecode_content\u001b[0m\u001b[0;34m=\u001b[0m\u001b[0;32mTrue\u001b[0m\u001b[0;34m)\u001b[0m\u001b[0;34m:\u001b[0m\u001b[0;34m\u001b[0m\u001b[0;34m\u001b[0m\u001b[0m\n\u001b[0m\u001b[1;32m    759\u001b[0m                         \u001b[0;32myield\u001b[0m \u001b[0mchunk\u001b[0m\u001b[0;34m\u001b[0m\u001b[0;34m\u001b[0m\u001b[0m\n\u001b[1;32m    760\u001b[0m                 \u001b[0;32mexcept\u001b[0m \u001b[0mProtocolError\u001b[0m \u001b[0;32mas\u001b[0m \u001b[0me\u001b[0m\u001b[0;34m:\u001b[0m\u001b[0;34m\u001b[0m\u001b[0;34m\u001b[0m\u001b[0m\n",
      "\u001b[0;32m~/miniconda3/envs/amftrack/lib/python3.7/site-packages/urllib3/response.py\u001b[0m in \u001b[0;36mstream\u001b[0;34m(self, amt, decode_content)\u001b[0m\n\u001b[1;32m    574\u001b[0m         \u001b[0;32melse\u001b[0m\u001b[0;34m:\u001b[0m\u001b[0;34m\u001b[0m\u001b[0;34m\u001b[0m\u001b[0m\n\u001b[1;32m    575\u001b[0m             \u001b[0;32mwhile\u001b[0m \u001b[0;32mnot\u001b[0m \u001b[0mis_fp_closed\u001b[0m\u001b[0;34m(\u001b[0m\u001b[0mself\u001b[0m\u001b[0;34m.\u001b[0m\u001b[0m_fp\u001b[0m\u001b[0;34m)\u001b[0m\u001b[0;34m:\u001b[0m\u001b[0;34m\u001b[0m\u001b[0;34m\u001b[0m\u001b[0m\n\u001b[0;32m--> 576\u001b[0;31m                 \u001b[0mdata\u001b[0m \u001b[0;34m=\u001b[0m \u001b[0mself\u001b[0m\u001b[0;34m.\u001b[0m\u001b[0mread\u001b[0m\u001b[0;34m(\u001b[0m\u001b[0mamt\u001b[0m\u001b[0;34m=\u001b[0m\u001b[0mamt\u001b[0m\u001b[0;34m,\u001b[0m \u001b[0mdecode_content\u001b[0m\u001b[0;34m=\u001b[0m\u001b[0mdecode_content\u001b[0m\u001b[0;34m)\u001b[0m\u001b[0;34m\u001b[0m\u001b[0;34m\u001b[0m\u001b[0m\n\u001b[0m\u001b[1;32m    577\u001b[0m \u001b[0;34m\u001b[0m\u001b[0m\n\u001b[1;32m    578\u001b[0m                 \u001b[0;32mif\u001b[0m \u001b[0mdata\u001b[0m\u001b[0;34m:\u001b[0m\u001b[0;34m\u001b[0m\u001b[0;34m\u001b[0m\u001b[0m\n",
      "\u001b[0;32m~/miniconda3/envs/amftrack/lib/python3.7/site-packages/urllib3/response.py\u001b[0m in \u001b[0;36mread\u001b[0;34m(self, amt, decode_content, cache_content)\u001b[0m\n\u001b[1;32m    517\u001b[0m             \u001b[0;32melse\u001b[0m\u001b[0;34m:\u001b[0m\u001b[0;34m\u001b[0m\u001b[0;34m\u001b[0m\u001b[0m\n\u001b[1;32m    518\u001b[0m                 \u001b[0mcache_content\u001b[0m \u001b[0;34m=\u001b[0m \u001b[0;32mFalse\u001b[0m\u001b[0;34m\u001b[0m\u001b[0;34m\u001b[0m\u001b[0m\n\u001b[0;32m--> 519\u001b[0;31m                 \u001b[0mdata\u001b[0m \u001b[0;34m=\u001b[0m \u001b[0mself\u001b[0m\u001b[0;34m.\u001b[0m\u001b[0m_fp\u001b[0m\u001b[0;34m.\u001b[0m\u001b[0mread\u001b[0m\u001b[0;34m(\u001b[0m\u001b[0mamt\u001b[0m\u001b[0;34m)\u001b[0m \u001b[0;32mif\u001b[0m \u001b[0;32mnot\u001b[0m \u001b[0mfp_closed\u001b[0m \u001b[0;32melse\u001b[0m \u001b[0;34mb\"\"\u001b[0m\u001b[0;34m\u001b[0m\u001b[0;34m\u001b[0m\u001b[0m\n\u001b[0m\u001b[1;32m    520\u001b[0m                 if (\n\u001b[1;32m    521\u001b[0m                     \u001b[0mamt\u001b[0m \u001b[0;34m!=\u001b[0m \u001b[0;36m0\u001b[0m \u001b[0;32mand\u001b[0m \u001b[0;32mnot\u001b[0m \u001b[0mdata\u001b[0m\u001b[0;34m\u001b[0m\u001b[0;34m\u001b[0m\u001b[0m\n",
      "\u001b[0;32m~/miniconda3/envs/amftrack/lib/python3.7/http/client.py\u001b[0m in \u001b[0;36mread\u001b[0;34m(self, amt)\u001b[0m\n\u001b[1;32m    463\u001b[0m             \u001b[0;31m# Amount is given, implement using readinto\u001b[0m\u001b[0;34m\u001b[0m\u001b[0;34m\u001b[0m\u001b[0;34m\u001b[0m\u001b[0m\n\u001b[1;32m    464\u001b[0m             \u001b[0mb\u001b[0m \u001b[0;34m=\u001b[0m \u001b[0mbytearray\u001b[0m\u001b[0;34m(\u001b[0m\u001b[0mamt\u001b[0m\u001b[0;34m)\u001b[0m\u001b[0;34m\u001b[0m\u001b[0;34m\u001b[0m\u001b[0m\n\u001b[0;32m--> 465\u001b[0;31m             \u001b[0mn\u001b[0m \u001b[0;34m=\u001b[0m \u001b[0mself\u001b[0m\u001b[0;34m.\u001b[0m\u001b[0mreadinto\u001b[0m\u001b[0;34m(\u001b[0m\u001b[0mb\u001b[0m\u001b[0;34m)\u001b[0m\u001b[0;34m\u001b[0m\u001b[0;34m\u001b[0m\u001b[0m\n\u001b[0m\u001b[1;32m    466\u001b[0m             \u001b[0;32mreturn\u001b[0m \u001b[0mmemoryview\u001b[0m\u001b[0;34m(\u001b[0m\u001b[0mb\u001b[0m\u001b[0;34m)\u001b[0m\u001b[0;34m[\u001b[0m\u001b[0;34m:\u001b[0m\u001b[0mn\u001b[0m\u001b[0;34m]\u001b[0m\u001b[0;34m.\u001b[0m\u001b[0mtobytes\u001b[0m\u001b[0;34m(\u001b[0m\u001b[0;34m)\u001b[0m\u001b[0;34m\u001b[0m\u001b[0;34m\u001b[0m\u001b[0m\n\u001b[1;32m    467\u001b[0m         \u001b[0;32melse\u001b[0m\u001b[0;34m:\u001b[0m\u001b[0;34m\u001b[0m\u001b[0;34m\u001b[0m\u001b[0m\n",
      "\u001b[0;32m~/miniconda3/envs/amftrack/lib/python3.7/http/client.py\u001b[0m in \u001b[0;36mreadinto\u001b[0;34m(self, b)\u001b[0m\n\u001b[1;32m    507\u001b[0m         \u001b[0;31m# connection, and the user is reading more bytes than will be provided\u001b[0m\u001b[0;34m\u001b[0m\u001b[0;34m\u001b[0m\u001b[0;34m\u001b[0m\u001b[0m\n\u001b[1;32m    508\u001b[0m         \u001b[0;31m# (for example, reading in 1k chunks)\u001b[0m\u001b[0;34m\u001b[0m\u001b[0;34m\u001b[0m\u001b[0;34m\u001b[0m\u001b[0m\n\u001b[0;32m--> 509\u001b[0;31m         \u001b[0mn\u001b[0m \u001b[0;34m=\u001b[0m \u001b[0mself\u001b[0m\u001b[0;34m.\u001b[0m\u001b[0mfp\u001b[0m\u001b[0;34m.\u001b[0m\u001b[0mreadinto\u001b[0m\u001b[0;34m(\u001b[0m\u001b[0mb\u001b[0m\u001b[0;34m)\u001b[0m\u001b[0;34m\u001b[0m\u001b[0;34m\u001b[0m\u001b[0m\n\u001b[0m\u001b[1;32m    510\u001b[0m         \u001b[0;32mif\u001b[0m \u001b[0;32mnot\u001b[0m \u001b[0mn\u001b[0m \u001b[0;32mand\u001b[0m \u001b[0mb\u001b[0m\u001b[0;34m:\u001b[0m\u001b[0;34m\u001b[0m\u001b[0;34m\u001b[0m\u001b[0m\n\u001b[1;32m    511\u001b[0m             \u001b[0;31m# Ideally, we would raise IncompleteRead if the content-length\u001b[0m\u001b[0;34m\u001b[0m\u001b[0;34m\u001b[0m\u001b[0;34m\u001b[0m\u001b[0m\n",
      "\u001b[0;32m~/miniconda3/envs/amftrack/lib/python3.7/socket.py\u001b[0m in \u001b[0;36mreadinto\u001b[0;34m(self, b)\u001b[0m\n\u001b[1;32m    587\u001b[0m         \u001b[0;32mwhile\u001b[0m \u001b[0;32mTrue\u001b[0m\u001b[0;34m:\u001b[0m\u001b[0;34m\u001b[0m\u001b[0;34m\u001b[0m\u001b[0m\n\u001b[1;32m    588\u001b[0m             \u001b[0;32mtry\u001b[0m\u001b[0;34m:\u001b[0m\u001b[0;34m\u001b[0m\u001b[0;34m\u001b[0m\u001b[0m\n\u001b[0;32m--> 589\u001b[0;31m                 \u001b[0;32mreturn\u001b[0m \u001b[0mself\u001b[0m\u001b[0;34m.\u001b[0m\u001b[0m_sock\u001b[0m\u001b[0;34m.\u001b[0m\u001b[0mrecv_into\u001b[0m\u001b[0;34m(\u001b[0m\u001b[0mb\u001b[0m\u001b[0;34m)\u001b[0m\u001b[0;34m\u001b[0m\u001b[0;34m\u001b[0m\u001b[0m\n\u001b[0m\u001b[1;32m    590\u001b[0m             \u001b[0;32mexcept\u001b[0m \u001b[0mtimeout\u001b[0m\u001b[0;34m:\u001b[0m\u001b[0;34m\u001b[0m\u001b[0;34m\u001b[0m\u001b[0m\n\u001b[1;32m    591\u001b[0m                 \u001b[0mself\u001b[0m\u001b[0;34m.\u001b[0m\u001b[0m_timeout_occurred\u001b[0m \u001b[0;34m=\u001b[0m \u001b[0;32mTrue\u001b[0m\u001b[0;34m\u001b[0m\u001b[0;34m\u001b[0m\u001b[0m\n",
      "\u001b[0;32m~/miniconda3/envs/amftrack/lib/python3.7/ssl.py\u001b[0m in \u001b[0;36mrecv_into\u001b[0;34m(self, buffer, nbytes, flags)\u001b[0m\n\u001b[1;32m   1069\u001b[0m                   \u001b[0;34m\"non-zero flags not allowed in calls to recv_into() on %s\"\u001b[0m \u001b[0;34m%\u001b[0m\u001b[0;34m\u001b[0m\u001b[0;34m\u001b[0m\u001b[0m\n\u001b[1;32m   1070\u001b[0m                   self.__class__)\n\u001b[0;32m-> 1071\u001b[0;31m             \u001b[0;32mreturn\u001b[0m \u001b[0mself\u001b[0m\u001b[0;34m.\u001b[0m\u001b[0mread\u001b[0m\u001b[0;34m(\u001b[0m\u001b[0mnbytes\u001b[0m\u001b[0;34m,\u001b[0m \u001b[0mbuffer\u001b[0m\u001b[0;34m)\u001b[0m\u001b[0;34m\u001b[0m\u001b[0;34m\u001b[0m\u001b[0m\n\u001b[0m\u001b[1;32m   1072\u001b[0m         \u001b[0;32melse\u001b[0m\u001b[0;34m:\u001b[0m\u001b[0;34m\u001b[0m\u001b[0;34m\u001b[0m\u001b[0m\n\u001b[1;32m   1073\u001b[0m             \u001b[0;32mreturn\u001b[0m \u001b[0msuper\u001b[0m\u001b[0;34m(\u001b[0m\u001b[0;34m)\u001b[0m\u001b[0;34m.\u001b[0m\u001b[0mrecv_into\u001b[0m\u001b[0;34m(\u001b[0m\u001b[0mbuffer\u001b[0m\u001b[0;34m,\u001b[0m \u001b[0mnbytes\u001b[0m\u001b[0;34m,\u001b[0m \u001b[0mflags\u001b[0m\u001b[0;34m)\u001b[0m\u001b[0;34m\u001b[0m\u001b[0;34m\u001b[0m\u001b[0m\n",
      "\u001b[0;32m~/miniconda3/envs/amftrack/lib/python3.7/ssl.py\u001b[0m in \u001b[0;36mread\u001b[0;34m(self, len, buffer)\u001b[0m\n\u001b[1;32m    927\u001b[0m         \u001b[0;32mtry\u001b[0m\u001b[0;34m:\u001b[0m\u001b[0;34m\u001b[0m\u001b[0;34m\u001b[0m\u001b[0m\n\u001b[1;32m    928\u001b[0m             \u001b[0;32mif\u001b[0m \u001b[0mbuffer\u001b[0m \u001b[0;32mis\u001b[0m \u001b[0;32mnot\u001b[0m \u001b[0;32mNone\u001b[0m\u001b[0;34m:\u001b[0m\u001b[0;34m\u001b[0m\u001b[0;34m\u001b[0m\u001b[0m\n\u001b[0;32m--> 929\u001b[0;31m                 \u001b[0;32mreturn\u001b[0m \u001b[0mself\u001b[0m\u001b[0;34m.\u001b[0m\u001b[0m_sslobj\u001b[0m\u001b[0;34m.\u001b[0m\u001b[0mread\u001b[0m\u001b[0;34m(\u001b[0m\u001b[0mlen\u001b[0m\u001b[0;34m,\u001b[0m \u001b[0mbuffer\u001b[0m\u001b[0;34m)\u001b[0m\u001b[0;34m\u001b[0m\u001b[0;34m\u001b[0m\u001b[0m\n\u001b[0m\u001b[1;32m    930\u001b[0m             \u001b[0;32melse\u001b[0m\u001b[0;34m:\u001b[0m\u001b[0;34m\u001b[0m\u001b[0;34m\u001b[0m\u001b[0m\n\u001b[1;32m    931\u001b[0m                 \u001b[0;32mreturn\u001b[0m \u001b[0mself\u001b[0m\u001b[0;34m.\u001b[0m\u001b[0m_sslobj\u001b[0m\u001b[0;34m.\u001b[0m\u001b[0mread\u001b[0m\u001b[0;34m(\u001b[0m\u001b[0mlen\u001b[0m\u001b[0;34m)\u001b[0m\u001b[0;34m\u001b[0m\u001b[0;34m\u001b[0m\u001b[0m\n",
      "\u001b[0;31mKeyboardInterrupt\u001b[0m: "
     ]
    }
   ],
   "source": [
    "download_folders_drop(all_folders_drop_new, directory_targ2)"
   ]
  }
 ],
 "metadata": {
  "kernelspec": {
   "display_name": "Python 3 (ipykernel)",
   "language": "python",
   "name": "python3"
  },
  "language_info": {
   "codemirror_mode": {
    "name": "ipython",
    "version": 3
   },
   "file_extension": ".py",
   "mimetype": "text/x-python",
   "name": "python",
   "nbconvert_exporter": "python",
   "pygments_lexer": "ipython3",
   "version": "3.7.11"
  }
 },
 "nbformat": 4,
 "nbformat_minor": 4
}

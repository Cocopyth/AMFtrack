{
 "cells": [
  {
   "cell_type": "code",
   "execution_count": 56,
   "id": "d02995e8-0a59-41d1-a964-562f2e071bcf",
   "metadata": {
    "tags": []
   },
   "outputs": [
    {
     "data": {
      "application/vnd.jupyter.widget-view+json": {
       "model_id": "731fed6c11d44d8b89900c3a27275c07",
       "version_major": 2,
       "version_minor": 0
      },
      "text/plain": [
       "analysed:   0%|          | 0/979 [00:00<?, ?it/s]"
      ]
     },
     "metadata": {},
     "output_type": "display_data"
    },
    {
     "data": {
      "application/vnd.jupyter.widget-view+json": {
       "model_id": "ddb690800c5b492997c22351779d618b",
       "version_major": 2,
       "version_minor": 0
      },
      "text/plain": [
       "analysed:   0%|          | 0/662 [00:00<?, ?it/s]"
      ]
     },
     "metadata": {},
     "output_type": "display_data"
    }
   ],
   "source": [
    "import os  \n",
    "import sys  \n",
    "sys.path.insert(0, os.getenv('HOME')+'/pycode/MscThesis/')\n",
    "# sys.path.insert(0,r'C:\\Users\\coren\\Documents\\PhD\\Code\\AMFtrack')\n",
    "\n",
    "import pandas as pd\n",
    "from amftrack.util import get_dates_datetime, get_dirname, get_data_info, update_plate_info, \\\n",
    "get_current_folders, get_folders_by_plate_id\n",
    "\n",
    "import ast\n",
    "from amftrack.plotutil import plot_t_tp1\n",
    "from scipy import sparse\n",
    "from datetime import datetime\n",
    "import pickle\n",
    "import scipy.io as sio\n",
    "from pymatreader import read_mat\n",
    "from matplotlib import colors\n",
    "import cv2\n",
    "import imageio\n",
    "import matplotlib.pyplot as plt\n",
    "import numpy as np\n",
    "from skimage.filters import frangi\n",
    "from skimage import filters\n",
    "from random import choice\n",
    "import scipy.sparse\n",
    "import os\n",
    "from amftrack.pipeline.functions.image_processing.extract_graph import from_sparse_to_graph, generate_nx_graph, sparse_to_doc\n",
    "from skimage.feature import hessian_matrix_det\n",
    "from amftrack.pipeline.functions.image_processing.experiment_class_surf import Experiment\n",
    "from amftrack.pipeline.paths.directory import run_parallel_transfer, find_state, directory_scratch, directory_project, directory_archive\n",
    "import dropbox\n",
    "from amftrack.transfer.functions.transfer import upload, zip_file\n",
    "from subprocess import call\n",
    "from tqdm.autonotebook import tqdm\n",
    "import checksumdir\n",
    "import shutil\n",
    "\n",
    "# directory_origin = r'/mnt/sun/home-folder/oyartegalvez/Drive_AMFtopology/PRINCE_syncing/'\n",
    "directory_origin = r'/run/user/357100554/gvfs/smb-share:server=prince.amolf.nl,share=d$/Data/Prince/Images/'\n",
    "directory_target = r'/mnt/sun/home-folder/oyartegalvez/Drive_AMFtopology/PRINCE_syncing/'\n",
    "directory_target = r'/mnt/sun-temp/TEMP/PRINCE_syncing/'\n",
    "\n",
    "update_plate_info(directory_origin)\n",
    "update_plate_info(directory_target)\n",
    "\n",
    "all_folders_origin = get_current_folders(directory_origin)\n",
    "all_folders_target = get_current_folders(directory_target)\n"
   ]
  },
  {
   "cell_type": "code",
   "execution_count": 57,
   "id": "f5233d9c-866b-4b49-b4c9-6a56c1380f4f",
   "metadata": {},
   "outputs": [
    {
     "data": {
      "text/html": [
       "<div>\n",
       "<style scoped>\n",
       "    .dataframe tbody tr th:only-of-type {\n",
       "        vertical-align: middle;\n",
       "    }\n",
       "\n",
       "    .dataframe tbody tr th {\n",
       "        vertical-align: top;\n",
       "    }\n",
       "\n",
       "    .dataframe thead th {\n",
       "        text-align: right;\n",
       "    }\n",
       "</style>\n",
       "<table border=\"1\" class=\"dataframe\">\n",
       "  <thead>\n",
       "    <tr style=\"text-align: right;\">\n",
       "      <th></th>\n",
       "      <th>total_path</th>\n",
       "      <th>Plate</th>\n",
       "      <th>PrincePos</th>\n",
       "      <th>root</th>\n",
       "      <th>strain</th>\n",
       "      <th>medium</th>\n",
       "      <th>split</th>\n",
       "      <th>Pbait</th>\n",
       "      <th>CrossDate</th>\n",
       "      <th>Temperature</th>\n",
       "      <th>...</th>\n",
       "      <th>/Analysis/skeleton_masked_compressed.mat</th>\n",
       "      <th>/Analysis/skeleton_pruned_compressed.mat</th>\n",
       "      <th>/Analysis/transform.mat</th>\n",
       "      <th>/Analysis/transform_corrupt.mat</th>\n",
       "      <th>/Analysis/skeleton_realigned_compressed.mat</th>\n",
       "      <th>/Analysis/nx_graph_pruned.p</th>\n",
       "      <th>/Analysis/nx_graph_pruned_width.p</th>\n",
       "      <th>/Analysis/nx_graph_pruned_labeled.p</th>\n",
       "      <th>date</th>\n",
       "      <th>folder</th>\n",
       "    </tr>\n",
       "  </thead>\n",
       "  <tbody>\n",
       "    <tr>\n",
       "      <th>795</th>\n",
       "      <td>/mnt/sun-temp/TEMP/PRINCE_syncing/20220319_183...</td>\n",
       "      <td>860</td>\n",
       "      <td>11</td>\n",
       "      <td>'Carrot'</td>\n",
       "      <td>'A5'</td>\n",
       "      <td>'001P100N200C'</td>\n",
       "      <td>'Y'</td>\n",
       "      <td>'-'</td>\n",
       "      <td>20220317</td>\n",
       "      <td>25</td>\n",
       "      <td>...</td>\n",
       "      <td>False</td>\n",
       "      <td>False</td>\n",
       "      <td>False</td>\n",
       "      <td>False</td>\n",
       "      <td>False</td>\n",
       "      <td>False</td>\n",
       "      <td>False</td>\n",
       "      <td>False</td>\n",
       "      <td>19.03.2022, 18:38:</td>\n",
       "      <td>20220319_1838_Plate11</td>\n",
       "    </tr>\n",
       "    <tr>\n",
       "      <th>796</th>\n",
       "      <td>/mnt/sun-temp/TEMP/PRINCE_syncing/20220321_083...</td>\n",
       "      <td>860</td>\n",
       "      <td>11</td>\n",
       "      <td>'Carrot'</td>\n",
       "      <td>'A5'</td>\n",
       "      <td>'001P100N200C'</td>\n",
       "      <td>'Y'</td>\n",
       "      <td>'-'</td>\n",
       "      <td>20220317</td>\n",
       "      <td>25</td>\n",
       "      <td>...</td>\n",
       "      <td>False</td>\n",
       "      <td>False</td>\n",
       "      <td>False</td>\n",
       "      <td>False</td>\n",
       "      <td>False</td>\n",
       "      <td>False</td>\n",
       "      <td>False</td>\n",
       "      <td>False</td>\n",
       "      <td>21.03.2022, 08:38:</td>\n",
       "      <td>20220321_0838_Plate11</td>\n",
       "    </tr>\n",
       "    <tr>\n",
       "      <th>797</th>\n",
       "      <td>/mnt/sun-temp/TEMP/PRINCE_syncing/20220315_070...</td>\n",
       "      <td>845</td>\n",
       "      <td>21</td>\n",
       "      <td>'Carrot'</td>\n",
       "      <td>'A5'</td>\n",
       "      <td>'001P100N200C'</td>\n",
       "      <td>'Y'</td>\n",
       "      <td>'-'</td>\n",
       "      <td>20220222</td>\n",
       "      <td>25</td>\n",
       "      <td>...</td>\n",
       "      <td>False</td>\n",
       "      <td>False</td>\n",
       "      <td>False</td>\n",
       "      <td>False</td>\n",
       "      <td>False</td>\n",
       "      <td>False</td>\n",
       "      <td>False</td>\n",
       "      <td>False</td>\n",
       "      <td>15.03.2022, 07:06:</td>\n",
       "      <td>20220315_0706_Plate21</td>\n",
       "    </tr>\n",
       "    <tr>\n",
       "      <th>798</th>\n",
       "      <td>/mnt/sun-temp/TEMP/PRINCE_syncing/20220316_043...</td>\n",
       "      <td>976</td>\n",
       "      <td>14</td>\n",
       "      <td>'Carrot'</td>\n",
       "      <td>'C2'</td>\n",
       "      <td>'001P100N100C'</td>\n",
       "      <td>'Y'</td>\n",
       "      <td>'-'</td>\n",
       "      <td>20220308</td>\n",
       "      <td>25</td>\n",
       "      <td>...</td>\n",
       "      <td>False</td>\n",
       "      <td>False</td>\n",
       "      <td>False</td>\n",
       "      <td>False</td>\n",
       "      <td>False</td>\n",
       "      <td>False</td>\n",
       "      <td>False</td>\n",
       "      <td>False</td>\n",
       "      <td>16.03.2022, 04:38:</td>\n",
       "      <td>20220316_0438_Plate14</td>\n",
       "    </tr>\n",
       "    <tr>\n",
       "      <th>799</th>\n",
       "      <td>/mnt/sun-temp/TEMP/PRINCE_syncing/20220315_114...</td>\n",
       "      <td>1007</td>\n",
       "      <td>1</td>\n",
       "      <td>'Carrot'</td>\n",
       "      <td>'C2'</td>\n",
       "      <td>'001P100N200C'</td>\n",
       "      <td>'Y'</td>\n",
       "      <td>'-'</td>\n",
       "      <td>20220301</td>\n",
       "      <td>25</td>\n",
       "      <td>...</td>\n",
       "      <td>False</td>\n",
       "      <td>False</td>\n",
       "      <td>False</td>\n",
       "      <td>False</td>\n",
       "      <td>False</td>\n",
       "      <td>False</td>\n",
       "      <td>False</td>\n",
       "      <td>False</td>\n",
       "      <td>15.03.2022, 11:45:</td>\n",
       "      <td>20220315_1145_Plate01</td>\n",
       "    </tr>\n",
       "    <tr>\n",
       "      <th>...</th>\n",
       "      <td>...</td>\n",
       "      <td>...</td>\n",
       "      <td>...</td>\n",
       "      <td>...</td>\n",
       "      <td>...</td>\n",
       "      <td>...</td>\n",
       "      <td>...</td>\n",
       "      <td>...</td>\n",
       "      <td>...</td>\n",
       "      <td>...</td>\n",
       "      <td>...</td>\n",
       "      <td>...</td>\n",
       "      <td>...</td>\n",
       "      <td>...</td>\n",
       "      <td>...</td>\n",
       "      <td>...</td>\n",
       "      <td>...</td>\n",
       "      <td>...</td>\n",
       "      <td>...</td>\n",
       "      <td>...</td>\n",
       "      <td>...</td>\n",
       "    </tr>\n",
       "    <tr>\n",
       "      <th>1452</th>\n",
       "      <td>/mnt/sun-temp/TEMP/PRINCE_syncing/20220326_012...</td>\n",
       "      <td>860</td>\n",
       "      <td>11</td>\n",
       "      <td>'Carrot'</td>\n",
       "      <td>'A5'</td>\n",
       "      <td>'001P100N200C'</td>\n",
       "      <td>'Y'</td>\n",
       "      <td>'-'</td>\n",
       "      <td>20220317</td>\n",
       "      <td>25</td>\n",
       "      <td>...</td>\n",
       "      <td>False</td>\n",
       "      <td>False</td>\n",
       "      <td>False</td>\n",
       "      <td>False</td>\n",
       "      <td>False</td>\n",
       "      <td>False</td>\n",
       "      <td>False</td>\n",
       "      <td>False</td>\n",
       "      <td>26.03.2022, 01:26:</td>\n",
       "      <td>20220326_0126_Plate11</td>\n",
       "    </tr>\n",
       "    <tr>\n",
       "      <th>1453</th>\n",
       "      <td>/mnt/sun-temp/TEMP/PRINCE_syncing/20220320_202...</td>\n",
       "      <td>836</td>\n",
       "      <td>3</td>\n",
       "      <td>'Carrot'</td>\n",
       "      <td>'A5'</td>\n",
       "      <td>'001P100N200C'</td>\n",
       "      <td>'Y'</td>\n",
       "      <td>'-'</td>\n",
       "      <td>20220311</td>\n",
       "      <td>25</td>\n",
       "      <td>...</td>\n",
       "      <td>False</td>\n",
       "      <td>False</td>\n",
       "      <td>False</td>\n",
       "      <td>False</td>\n",
       "      <td>False</td>\n",
       "      <td>False</td>\n",
       "      <td>False</td>\n",
       "      <td>False</td>\n",
       "      <td>20.03.2022, 20:24:</td>\n",
       "      <td>20220320_2024_Plate03</td>\n",
       "    </tr>\n",
       "    <tr>\n",
       "      <th>1454</th>\n",
       "      <td>/mnt/sun-temp/TEMP/PRINCE_syncing/20220315_015...</td>\n",
       "      <td>862</td>\n",
       "      <td>2</td>\n",
       "      <td>'Carrot'</td>\n",
       "      <td>'A5'</td>\n",
       "      <td>'001P100N100C'</td>\n",
       "      <td>'Y'</td>\n",
       "      <td>'-'</td>\n",
       "      <td>20220311</td>\n",
       "      <td>25</td>\n",
       "      <td>...</td>\n",
       "      <td>False</td>\n",
       "      <td>False</td>\n",
       "      <td>False</td>\n",
       "      <td>False</td>\n",
       "      <td>False</td>\n",
       "      <td>False</td>\n",
       "      <td>False</td>\n",
       "      <td>False</td>\n",
       "      <td>15.03.2022, 01:59:</td>\n",
       "      <td>20220315_0159_Plate02</td>\n",
       "    </tr>\n",
       "    <tr>\n",
       "      <th>1455</th>\n",
       "      <td>/mnt/sun-temp/TEMP/PRINCE_syncing/20220315_112...</td>\n",
       "      <td>953</td>\n",
       "      <td>35</td>\n",
       "      <td>'Carrot'</td>\n",
       "      <td>'A5'</td>\n",
       "      <td>'001P100N100C'</td>\n",
       "      <td>'Y'</td>\n",
       "      <td>'-'</td>\n",
       "      <td>20220301</td>\n",
       "      <td>25</td>\n",
       "      <td>...</td>\n",
       "      <td>False</td>\n",
       "      <td>False</td>\n",
       "      <td>False</td>\n",
       "      <td>False</td>\n",
       "      <td>False</td>\n",
       "      <td>False</td>\n",
       "      <td>False</td>\n",
       "      <td>False</td>\n",
       "      <td>15.03.2022, 11:21:</td>\n",
       "      <td>20220315_1121_Plate35</td>\n",
       "    </tr>\n",
       "    <tr>\n",
       "      <th>1456</th>\n",
       "      <td>/mnt/sun-temp/TEMP/PRINCE_syncing/20220316_163...</td>\n",
       "      <td>976</td>\n",
       "      <td>14</td>\n",
       "      <td>'Carrot'</td>\n",
       "      <td>'C2'</td>\n",
       "      <td>'001P100N100C'</td>\n",
       "      <td>'Y'</td>\n",
       "      <td>'-'</td>\n",
       "      <td>20220308</td>\n",
       "      <td>25</td>\n",
       "      <td>...</td>\n",
       "      <td>False</td>\n",
       "      <td>False</td>\n",
       "      <td>False</td>\n",
       "      <td>False</td>\n",
       "      <td>False</td>\n",
       "      <td>False</td>\n",
       "      <td>False</td>\n",
       "      <td>False</td>\n",
       "      <td>16.03.2022, 16:38:</td>\n",
       "      <td>20220316_1638_Plate14</td>\n",
       "    </tr>\n",
       "  </tbody>\n",
       "</table>\n",
       "<p>662 rows × 22 columns</p>\n",
       "</div>"
      ],
      "text/plain": [
       "                                             total_path Plate PrincePos  \\\n",
       "795   /mnt/sun-temp/TEMP/PRINCE_syncing/20220319_183...   860        11   \n",
       "796   /mnt/sun-temp/TEMP/PRINCE_syncing/20220321_083...   860        11   \n",
       "797   /mnt/sun-temp/TEMP/PRINCE_syncing/20220315_070...   845        21   \n",
       "798   /mnt/sun-temp/TEMP/PRINCE_syncing/20220316_043...   976        14   \n",
       "799   /mnt/sun-temp/TEMP/PRINCE_syncing/20220315_114...  1007         1   \n",
       "...                                                 ...   ...       ...   \n",
       "1452  /mnt/sun-temp/TEMP/PRINCE_syncing/20220326_012...   860        11   \n",
       "1453  /mnt/sun-temp/TEMP/PRINCE_syncing/20220320_202...   836         3   \n",
       "1454  /mnt/sun-temp/TEMP/PRINCE_syncing/20220315_015...   862         2   \n",
       "1455  /mnt/sun-temp/TEMP/PRINCE_syncing/20220315_112...   953        35   \n",
       "1456  /mnt/sun-temp/TEMP/PRINCE_syncing/20220316_163...   976        14   \n",
       "\n",
       "          root strain          medium split Pbait CrossDate Temperature  ...  \\\n",
       "795   'Carrot'   'A5'  '001P100N200C'   'Y'   '-'  20220317          25  ...   \n",
       "796   'Carrot'   'A5'  '001P100N200C'   'Y'   '-'  20220317          25  ...   \n",
       "797   'Carrot'   'A5'  '001P100N200C'   'Y'   '-'  20220222          25  ...   \n",
       "798   'Carrot'   'C2'  '001P100N100C'   'Y'   '-'  20220308          25  ...   \n",
       "799   'Carrot'   'C2'  '001P100N200C'   'Y'   '-'  20220301          25  ...   \n",
       "...        ...    ...             ...   ...   ...       ...         ...  ...   \n",
       "1452  'Carrot'   'A5'  '001P100N200C'   'Y'   '-'  20220317          25  ...   \n",
       "1453  'Carrot'   'A5'  '001P100N200C'   'Y'   '-'  20220311          25  ...   \n",
       "1454  'Carrot'   'A5'  '001P100N100C'   'Y'   '-'  20220311          25  ...   \n",
       "1455  'Carrot'   'A5'  '001P100N100C'   'Y'   '-'  20220301          25  ...   \n",
       "1456  'Carrot'   'C2'  '001P100N100C'   'Y'   '-'  20220308          25  ...   \n",
       "\n",
       "     /Analysis/skeleton_masked_compressed.mat  \\\n",
       "795                                     False   \n",
       "796                                     False   \n",
       "797                                     False   \n",
       "798                                     False   \n",
       "799                                     False   \n",
       "...                                       ...   \n",
       "1452                                    False   \n",
       "1453                                    False   \n",
       "1454                                    False   \n",
       "1455                                    False   \n",
       "1456                                    False   \n",
       "\n",
       "     /Analysis/skeleton_pruned_compressed.mat /Analysis/transform.mat  \\\n",
       "795                                     False                   False   \n",
       "796                                     False                   False   \n",
       "797                                     False                   False   \n",
       "798                                     False                   False   \n",
       "799                                     False                   False   \n",
       "...                                       ...                     ...   \n",
       "1452                                    False                   False   \n",
       "1453                                    False                   False   \n",
       "1454                                    False                   False   \n",
       "1455                                    False                   False   \n",
       "1456                                    False                   False   \n",
       "\n",
       "     /Analysis/transform_corrupt.mat  \\\n",
       "795                            False   \n",
       "796                            False   \n",
       "797                            False   \n",
       "798                            False   \n",
       "799                            False   \n",
       "...                              ...   \n",
       "1452                           False   \n",
       "1453                           False   \n",
       "1454                           False   \n",
       "1455                           False   \n",
       "1456                           False   \n",
       "\n",
       "     /Analysis/skeleton_realigned_compressed.mat /Analysis/nx_graph_pruned.p  \\\n",
       "795                                        False                       False   \n",
       "796                                        False                       False   \n",
       "797                                        False                       False   \n",
       "798                                        False                       False   \n",
       "799                                        False                       False   \n",
       "...                                          ...                         ...   \n",
       "1452                                       False                       False   \n",
       "1453                                       False                       False   \n",
       "1454                                       False                       False   \n",
       "1455                                       False                       False   \n",
       "1456                                       False                       False   \n",
       "\n",
       "     /Analysis/nx_graph_pruned_width.p /Analysis/nx_graph_pruned_labeled.p  \\\n",
       "795                              False                               False   \n",
       "796                              False                               False   \n",
       "797                              False                               False   \n",
       "798                              False                               False   \n",
       "799                              False                               False   \n",
       "...                                ...                                 ...   \n",
       "1452                             False                               False   \n",
       "1453                             False                               False   \n",
       "1454                             False                               False   \n",
       "1455                             False                               False   \n",
       "1456                             False                               False   \n",
       "\n",
       "                    date                 folder  \n",
       "795   19.03.2022, 18:38:  20220319_1838_Plate11  \n",
       "796   21.03.2022, 08:38:  20220321_0838_Plate11  \n",
       "797   15.03.2022, 07:06:  20220315_0706_Plate21  \n",
       "798   16.03.2022, 04:38:  20220316_0438_Plate14  \n",
       "799   15.03.2022, 11:45:  20220315_1145_Plate01  \n",
       "...                  ...                    ...  \n",
       "1452  26.03.2022, 01:26:  20220326_0126_Plate11  \n",
       "1453  20.03.2022, 20:24:  20220320_2024_Plate03  \n",
       "1454  15.03.2022, 01:59:  20220315_0159_Plate02  \n",
       "1455  15.03.2022, 11:21:  20220315_1121_Plate35  \n",
       "1456  16.03.2022, 16:38:  20220316_1638_Plate14  \n",
       "\n",
       "[662 rows x 22 columns]"
      ]
     },
     "execution_count": 57,
     "metadata": {},
     "output_type": "execute_result"
    }
   ],
   "source": [
    "all_folders_target"
   ]
  },
  {
   "cell_type": "code",
   "execution_count": 53,
   "id": "85c8d2a9-f88c-4e2d-a7e1-d1bdb3b32616",
   "metadata": {},
   "outputs": [
    {
     "data": {
      "application/vnd.jupyter.widget-view+json": {
       "model_id": "2aa03c5d0f684d9dbd3cd6ad3ad30f99",
       "version_major": 2,
       "version_minor": 0
      },
      "text/plain": [
       "analysed:   0%|          | 0/19 [00:00<?, ?it/s]"
      ]
     },
     "metadata": {},
     "output_type": "display_data"
    },
    {
     "data": {
      "application/vnd.jupyter.widget-view+json": {
       "model_id": "4242fbb5357845b5aa2283d996860778",
       "version_major": 2,
       "version_minor": 0
      },
      "text/plain": [
       "analysed:   0%|          | 0/7 [00:00<?, ?it/s]"
      ]
     },
     "metadata": {},
     "output_type": "display_data"
    },
    {
     "data": {
      "application/vnd.jupyter.widget-view+json": {
       "model_id": "6aadd24e8c3e4eb584683a82f78ae39b",
       "version_major": 2,
       "version_minor": 0
      },
      "text/plain": [
       "deleted:   0%|          | 0/7 [00:00<?, ?it/s]"
      ]
     },
     "metadata": {},
     "output_type": "display_data"
    },
    {
     "name": "stdout",
     "output_type": "stream",
     "text": [
      "20220307_0922_Plate01 True\n",
      "20220308_0710_Plate01 True\n",
      "20220308_0713_Plate02 True\n",
      "20220308_0721_Plate04 True\n",
      "20220308_0717_Plate03 True\n"
     ]
    }
   ],
   "source": [
    "import os  \n",
    "import sys  \n",
    "sys.path.insert(0, os.getenv('HOME')+'/pycode/MscThesis/')\n",
    "# sys.path.insert(0,r'C:\\Users\\coren\\Documents\\PhD\\Code\\AMFtrack')\n",
    "\n",
    "import pandas as pd\n",
    "from amftrack.util import get_dates_datetime, get_dirname, get_data_info, update_plate_info, \\\n",
    "get_current_folders, get_folders_by_plate_id\n",
    "\n",
    "import ast\n",
    "from amftrack.plotutil import plot_t_tp1\n",
    "from scipy import sparse\n",
    "from datetime import datetime\n",
    "import pickle\n",
    "import scipy.io as sio\n",
    "from pymatreader import read_mat\n",
    "from matplotlib import colors\n",
    "import cv2\n",
    "import imageio\n",
    "import matplotlib.pyplot as plt\n",
    "import numpy as np\n",
    "from skimage.filters import frangi\n",
    "from skimage import filters\n",
    "from random import choice\n",
    "import scipy.sparse\n",
    "import os\n",
    "from amftrack.pipeline.functions.image_processing.extract_graph import from_sparse_to_graph, generate_nx_graph, sparse_to_doc\n",
    "from skimage.feature import hessian_matrix_det\n",
    "from amftrack.pipeline.functions.image_processing.experiment_class_surf import Experiment\n",
    "from amftrack.pipeline.paths.directory import run_parallel_transfer, find_state, directory_scratch, directory_project, directory_archive\n",
    "import dropbox\n",
    "from amftrack.transfer.functions.transfer import upload, zip_file\n",
    "from subprocess import call\n",
    "from tqdm.autonotebook import tqdm\n",
    "import checksumdir\n",
    "import shutil\n",
    "\n",
    "directory_origin = r'/mnt/sun/home-folder/oyartegalvez/Drive_AMFtopology/PRINCE_syncing/'\n",
    "directory_target = r'/mnt/sun/home-folder/oyartegalvez/Drive_AMFtopology/PRINCE_syncing2/'\n",
    "\n",
    "update_plate_info(directory_origin)\n",
    "update_plate_info(directory_target)\n",
    "\n",
    "all_folders_origin = get_current_folders(directory_origin)\n",
    "all_folders_target = get_current_folders(directory_target)\n",
    "run_info = all_folders_target.copy()\n",
    "folder_list = list(run_info['folder'])\n",
    "with tqdm(total=len(folder_list), desc=\"deleted\") as pbar:\n",
    "    for folder in folder_list:\n",
    "        origin = all_folders_origin.loc[all_folders_origin['folder']==folder]['total_path']\n",
    "        if len(origin)>0:\n",
    "            origin = origin.iloc[0]\n",
    "        else:\n",
    "            # print(folder)\n",
    "            continue\n",
    "        target = all_folders_target.loc[all_folders_target['folder']==folder]['total_path'].iloc[0]     \n",
    "        check_or = checksumdir.dirhash(origin)\n",
    "        check_targ = checksumdir.dirhash(target)\n",
    "        print(folder,(check_or==check_targ))        \n",
    "        \n",
    "        if check_or==check_targ:\n",
    "            shutil.rmtree(origin)\n",
    "        pbar.update(1)"
   ]
  },
  {
   "cell_type": "code",
   "execution_count": 51,
   "id": "45859646-ff83-4dc8-a3c6-e87a1bd0dcdb",
   "metadata": {},
   "outputs": [
    {
     "data": {
      "text/html": [
       "<div>\n",
       "<style scoped>\n",
       "    .dataframe tbody tr th:only-of-type {\n",
       "        vertical-align: middle;\n",
       "    }\n",
       "\n",
       "    .dataframe tbody tr th {\n",
       "        vertical-align: top;\n",
       "    }\n",
       "\n",
       "    .dataframe thead th {\n",
       "        text-align: right;\n",
       "    }\n",
       "</style>\n",
       "<table border=\"1\" class=\"dataframe\">\n",
       "  <thead>\n",
       "    <tr style=\"text-align: right;\">\n",
       "      <th></th>\n",
       "      <th>total_path</th>\n",
       "      <th>Plate</th>\n",
       "      <th>PrincePos</th>\n",
       "      <th>root</th>\n",
       "      <th>strain</th>\n",
       "      <th>medium</th>\n",
       "      <th>split</th>\n",
       "      <th>Pbait</th>\n",
       "      <th>CrossDate</th>\n",
       "      <th>/Img/TileConfiguration.txt.registered</th>\n",
       "      <th>...</th>\n",
       "      <th>/Analysis/transform.mat</th>\n",
       "      <th>/Analysis/transform_corrupt.mat</th>\n",
       "      <th>/Analysis/skeleton_realigned_compressed.mat</th>\n",
       "      <th>/Analysis/nx_graph_pruned.p</th>\n",
       "      <th>/Analysis/nx_graph_pruned_width.p</th>\n",
       "      <th>/Analysis/nx_graph_pruned_labeled.p</th>\n",
       "      <th>date</th>\n",
       "      <th>folder</th>\n",
       "      <th>Temp</th>\n",
       "      <th>Temperature</th>\n",
       "    </tr>\n",
       "  </thead>\n",
       "  <tbody>\n",
       "  </tbody>\n",
       "</table>\n",
       "<p>0 rows × 23 columns</p>\n",
       "</div>"
      ],
      "text/plain": [
       "Empty DataFrame\n",
       "Columns: [total_path, Plate, PrincePos, root, strain, medium, split, Pbait, CrossDate, /Img/TileConfiguration.txt.registered, /Analysis/skeleton_compressed.mat, /Analysis/skeleton_masked_compressed.mat, /Analysis/skeleton_pruned_compressed.mat, /Analysis/transform.mat, /Analysis/transform_corrupt.mat, /Analysis/skeleton_realigned_compressed.mat, /Analysis/nx_graph_pruned.p, /Analysis/nx_graph_pruned_width.p, /Analysis/nx_graph_pruned_labeled.p, date, folder, Temp, Temperature]\n",
       "Index: []\n",
       "\n",
       "[0 rows x 23 columns]"
      ]
     },
     "execution_count": 51,
     "metadata": {},
     "output_type": "execute_result"
    }
   ],
   "source": [
    "all_folders_origin"
   ]
  },
  {
   "cell_type": "code",
   "execution_count": 52,
   "id": "aaec9091-d33b-48b5-8dce-5c9134dc7e29",
   "metadata": {},
   "outputs": [
    {
     "data": {
      "text/html": [
       "<div>\n",
       "<style scoped>\n",
       "    .dataframe tbody tr th:only-of-type {\n",
       "        vertical-align: middle;\n",
       "    }\n",
       "\n",
       "    .dataframe tbody tr th {\n",
       "        vertical-align: top;\n",
       "    }\n",
       "\n",
       "    .dataframe thead th {\n",
       "        text-align: right;\n",
       "    }\n",
       "</style>\n",
       "<table border=\"1\" class=\"dataframe\">\n",
       "  <thead>\n",
       "    <tr style=\"text-align: right;\">\n",
       "      <th></th>\n",
       "      <th>total_path</th>\n",
       "      <th>Plate</th>\n",
       "      <th>PrincePos</th>\n",
       "      <th>root</th>\n",
       "      <th>strain</th>\n",
       "      <th>medium</th>\n",
       "      <th>split</th>\n",
       "      <th>Pbait</th>\n",
       "      <th>CrossDate</th>\n",
       "      <th>/Img/TileConfiguration.txt.registered</th>\n",
       "      <th>...</th>\n",
       "      <th>/Analysis/transform.mat</th>\n",
       "      <th>/Analysis/transform_corrupt.mat</th>\n",
       "      <th>/Analysis/skeleton_realigned_compressed.mat</th>\n",
       "      <th>/Analysis/nx_graph_pruned.p</th>\n",
       "      <th>/Analysis/nx_graph_pruned_width.p</th>\n",
       "      <th>/Analysis/nx_graph_pruned_labeled.p</th>\n",
       "      <th>date</th>\n",
       "      <th>folder</th>\n",
       "      <th>Temp</th>\n",
       "      <th>Temperature</th>\n",
       "    </tr>\n",
       "  </thead>\n",
       "  <tbody>\n",
       "    <tr>\n",
       "      <th>29058</th>\n",
       "      <td>/mnt/sun/home-folder/oyartegalvez/Drive_AMFtop...</td>\n",
       "      <td>752</td>\n",
       "      <td>28</td>\n",
       "      <td>'Carrot'</td>\n",
       "      <td>'B12'</td>\n",
       "      <td>'100P100N'</td>\n",
       "      <td>'Y'</td>\n",
       "      <td>'-'</td>\n",
       "      <td>20210827</td>\n",
       "      <td>False</td>\n",
       "      <td>...</td>\n",
       "      <td>False</td>\n",
       "      <td>False</td>\n",
       "      <td>False</td>\n",
       "      <td>False</td>\n",
       "      <td>False</td>\n",
       "      <td>False</td>\n",
       "      <td>07.03.2022, 09:22:</td>\n",
       "      <td>20220307_0922_Plate01</td>\n",
       "      <td>NaN</td>\n",
       "      <td>NaN</td>\n",
       "    </tr>\n",
       "    <tr>\n",
       "      <th>29059</th>\n",
       "      <td>/mnt/sun/home-folder/oyartegalvez/Drive_AMFtop...</td>\n",
       "      <td>875</td>\n",
       "      <td>5</td>\n",
       "      <td>'Carrot'</td>\n",
       "      <td>'A5'</td>\n",
       "      <td>'001P100N200C'</td>\n",
       "      <td>'Y'</td>\n",
       "      <td>'-'</td>\n",
       "      <td>20220301</td>\n",
       "      <td>False</td>\n",
       "      <td>...</td>\n",
       "      <td>False</td>\n",
       "      <td>False</td>\n",
       "      <td>False</td>\n",
       "      <td>False</td>\n",
       "      <td>False</td>\n",
       "      <td>False</td>\n",
       "      <td>08.03.2022, 07:25:</td>\n",
       "      <td>20220308_0725_Plate05</td>\n",
       "      <td>NaN</td>\n",
       "      <td>25</td>\n",
       "    </tr>\n",
       "    <tr>\n",
       "      <th>29060</th>\n",
       "      <td>/mnt/sun/home-folder/oyartegalvez/Drive_AMFtop...</td>\n",
       "      <td>752</td>\n",
       "      <td>28</td>\n",
       "      <td>'Carrot'</td>\n",
       "      <td>'B12'</td>\n",
       "      <td>'100P100N'</td>\n",
       "      <td>'Y'</td>\n",
       "      <td>'-'</td>\n",
       "      <td>20210827</td>\n",
       "      <td>False</td>\n",
       "      <td>...</td>\n",
       "      <td>False</td>\n",
       "      <td>False</td>\n",
       "      <td>False</td>\n",
       "      <td>False</td>\n",
       "      <td>False</td>\n",
       "      <td>False</td>\n",
       "      <td>08.03.2022, 06:57:</td>\n",
       "      <td>20220308_0657_Plate01</td>\n",
       "      <td>NaN</td>\n",
       "      <td>NaN</td>\n",
       "    </tr>\n",
       "    <tr>\n",
       "      <th>29061</th>\n",
       "      <td>/mnt/sun/home-folder/oyartegalvez/Drive_AMFtop...</td>\n",
       "      <td>1007</td>\n",
       "      <td>1</td>\n",
       "      <td>'Carrot'</td>\n",
       "      <td>'C2'</td>\n",
       "      <td>'001P100N200C'</td>\n",
       "      <td>'Y'</td>\n",
       "      <td>'-'</td>\n",
       "      <td>20220301</td>\n",
       "      <td>False</td>\n",
       "      <td>...</td>\n",
       "      <td>False</td>\n",
       "      <td>False</td>\n",
       "      <td>False</td>\n",
       "      <td>False</td>\n",
       "      <td>False</td>\n",
       "      <td>False</td>\n",
       "      <td>08.03.2022, 07:10:</td>\n",
       "      <td>20220308_0710_Plate01</td>\n",
       "      <td>NaN</td>\n",
       "      <td>25</td>\n",
       "    </tr>\n",
       "    <tr>\n",
       "      <th>29062</th>\n",
       "      <td>/mnt/sun/home-folder/oyartegalvez/Drive_AMFtop...</td>\n",
       "      <td>1009</td>\n",
       "      <td>2</td>\n",
       "      <td>'Carrot'</td>\n",
       "      <td>'C2'</td>\n",
       "      <td>'001P100N100C'</td>\n",
       "      <td>'Y'</td>\n",
       "      <td>'-'</td>\n",
       "      <td>20220301</td>\n",
       "      <td>False</td>\n",
       "      <td>...</td>\n",
       "      <td>False</td>\n",
       "      <td>False</td>\n",
       "      <td>False</td>\n",
       "      <td>False</td>\n",
       "      <td>False</td>\n",
       "      <td>False</td>\n",
       "      <td>08.03.2022, 07:13:</td>\n",
       "      <td>20220308_0713_Plate02</td>\n",
       "      <td>NaN</td>\n",
       "      <td>25</td>\n",
       "    </tr>\n",
       "  </tbody>\n",
       "</table>\n",
       "<p>5 rows × 23 columns</p>\n",
       "</div>"
      ],
      "text/plain": [
       "                                              total_path Plate PrincePos  \\\n",
       "29058  /mnt/sun/home-folder/oyartegalvez/Drive_AMFtop...   752        28   \n",
       "29059  /mnt/sun/home-folder/oyartegalvez/Drive_AMFtop...   875         5   \n",
       "29060  /mnt/sun/home-folder/oyartegalvez/Drive_AMFtop...   752        28   \n",
       "29061  /mnt/sun/home-folder/oyartegalvez/Drive_AMFtop...  1007         1   \n",
       "29062  /mnt/sun/home-folder/oyartegalvez/Drive_AMFtop...  1009         2   \n",
       "\n",
       "           root strain          medium split Pbait CrossDate  \\\n",
       "29058  'Carrot'  'B12'      '100P100N'   'Y'   '-'  20210827   \n",
       "29059  'Carrot'   'A5'  '001P100N200C'   'Y'   '-'  20220301   \n",
       "29060  'Carrot'  'B12'      '100P100N'   'Y'   '-'  20210827   \n",
       "29061  'Carrot'   'C2'  '001P100N200C'   'Y'   '-'  20220301   \n",
       "29062  'Carrot'   'C2'  '001P100N100C'   'Y'   '-'  20220301   \n",
       "\n",
       "      /Img/TileConfiguration.txt.registered  ... /Analysis/transform.mat  \\\n",
       "29058                                 False  ...                   False   \n",
       "29059                                 False  ...                   False   \n",
       "29060                                 False  ...                   False   \n",
       "29061                                 False  ...                   False   \n",
       "29062                                 False  ...                   False   \n",
       "\n",
       "      /Analysis/transform_corrupt.mat  \\\n",
       "29058                           False   \n",
       "29059                           False   \n",
       "29060                           False   \n",
       "29061                           False   \n",
       "29062                           False   \n",
       "\n",
       "      /Analysis/skeleton_realigned_compressed.mat /Analysis/nx_graph_pruned.p  \\\n",
       "29058                                       False                       False   \n",
       "29059                                       False                       False   \n",
       "29060                                       False                       False   \n",
       "29061                                       False                       False   \n",
       "29062                                       False                       False   \n",
       "\n",
       "      /Analysis/nx_graph_pruned_width.p /Analysis/nx_graph_pruned_labeled.p  \\\n",
       "29058                             False                               False   \n",
       "29059                             False                               False   \n",
       "29060                             False                               False   \n",
       "29061                             False                               False   \n",
       "29062                             False                               False   \n",
       "\n",
       "                     date                 folder Temp Temperature  \n",
       "29058  07.03.2022, 09:22:  20220307_0922_Plate01  NaN         NaN  \n",
       "29059  08.03.2022, 07:25:  20220308_0725_Plate05  NaN          25  \n",
       "29060  08.03.2022, 06:57:  20220308_0657_Plate01  NaN         NaN  \n",
       "29061  08.03.2022, 07:10:  20220308_0710_Plate01  NaN          25  \n",
       "29062  08.03.2022, 07:13:  20220308_0713_Plate02  NaN          25  \n",
       "\n",
       "[5 rows x 23 columns]"
      ]
     },
     "execution_count": 52,
     "metadata": {},
     "output_type": "execute_result"
    }
   ],
   "source": [
    "all_folders_target"
   ]
  },
  {
   "cell_type": "code",
   "execution_count": 49,
   "id": "ceda1726-3270-4b30-ae55-6c7896052557",
   "metadata": {},
   "outputs": [
    {
     "data": {
      "text/plain": [
       "'20220307_0922_Plate01'"
      ]
     },
     "execution_count": 49,
     "metadata": {},
     "output_type": "execute_result"
    }
   ],
   "source": [
    "folder"
   ]
  },
  {
   "cell_type": "code",
   "execution_count": 44,
   "id": "22ba70c3-d5be-47c4-af7b-753e27b5c87e",
   "metadata": {},
   "outputs": [],
   "source": [
    "\n",
    "directory = '/run/user/357100554/gvfs/smb-share:server=sun.amolf.nl,share=shimizu-data,user=bisot/home-folder/oyartegalvez/Drive_AMFtopology/PRINCE/'\n",
    "directory = '/media/bisot/AMF_05/PRINCE/'\n",
    "# update_plate_info(directory)\n",
    "\n",
    "all_folders = get_current_folders(directory)\n",
    "# all_folders_drop = get_current_folders(\"dropbox\")\n",
    "all_folders_drop= get_current_folders(\"dropbox\",True)\n",
    "real_drop_folder = all_folders_drop.loc[all_folders_drop['size']>0.6]\n",
    "folders = all_folders.loc[all_folders['folder'].isin(real_drop_folder['folder'])==False]\n"
   ]
  },
  {
   "cell_type": "code",
   "execution_count": 47,
   "id": "172b518d-d467-4827-81ca-8b330ae1d41d",
   "metadata": {},
   "outputs": [
    {
     "ename": "KeyError",
     "evalue": "'size'",
     "output_type": "error",
     "traceback": [
      "\u001b[0;31m---------------------------------------------------------------------------\u001b[0m",
      "\u001b[0;31mKeyError\u001b[0m                                  Traceback (most recent call last)",
      "\u001b[0;32m~/miniconda3/envs/amftrack/lib/python3.9/site-packages/pandas/core/indexes/base.py\u001b[0m in \u001b[0;36mget_loc\u001b[0;34m(self, key, method, tolerance)\u001b[0m\n\u001b[1;32m   3360\u001b[0m             \u001b[0;32mtry\u001b[0m\u001b[0;34m:\u001b[0m\u001b[0;34m\u001b[0m\u001b[0;34m\u001b[0m\u001b[0m\n\u001b[0;32m-> 3361\u001b[0;31m                 \u001b[0;32mreturn\u001b[0m \u001b[0mself\u001b[0m\u001b[0;34m.\u001b[0m\u001b[0m_engine\u001b[0m\u001b[0;34m.\u001b[0m\u001b[0mget_loc\u001b[0m\u001b[0;34m(\u001b[0m\u001b[0mcasted_key\u001b[0m\u001b[0;34m)\u001b[0m\u001b[0;34m\u001b[0m\u001b[0;34m\u001b[0m\u001b[0m\n\u001b[0m\u001b[1;32m   3362\u001b[0m             \u001b[0;32mexcept\u001b[0m \u001b[0mKeyError\u001b[0m \u001b[0;32mas\u001b[0m \u001b[0merr\u001b[0m\u001b[0;34m:\u001b[0m\u001b[0;34m\u001b[0m\u001b[0;34m\u001b[0m\u001b[0m\n",
      "\u001b[0;32m~/miniconda3/envs/amftrack/lib/python3.9/site-packages/pandas/_libs/index.pyx\u001b[0m in \u001b[0;36mpandas._libs.index.IndexEngine.get_loc\u001b[0;34m()\u001b[0m\n",
      "\u001b[0;32m~/miniconda3/envs/amftrack/lib/python3.9/site-packages/pandas/_libs/index.pyx\u001b[0m in \u001b[0;36mpandas._libs.index.IndexEngine.get_loc\u001b[0;34m()\u001b[0m\n",
      "\u001b[0;32mpandas/_libs/hashtable_class_helper.pxi\u001b[0m in \u001b[0;36mpandas._libs.hashtable.PyObjectHashTable.get_item\u001b[0;34m()\u001b[0m\n",
      "\u001b[0;32mpandas/_libs/hashtable_class_helper.pxi\u001b[0m in \u001b[0;36mpandas._libs.hashtable.PyObjectHashTable.get_item\u001b[0;34m()\u001b[0m\n",
      "\u001b[0;31mKeyError\u001b[0m: 'size'",
      "\nThe above exception was the direct cause of the following exception:\n",
      "\u001b[0;31mKeyError\u001b[0m                                  Traceback (most recent call last)",
      "\u001b[0;32m~/temp/ipykernel_165487/1684017689.py\u001b[0m in \u001b[0;36m<module>\u001b[0;34m\u001b[0m\n\u001b[1;32m      1\u001b[0m \u001b[0mfig\u001b[0m \u001b[0;34m=\u001b[0m \u001b[0mplt\u001b[0m\u001b[0;34m.\u001b[0m\u001b[0mfigure\u001b[0m\u001b[0;34m(\u001b[0m\u001b[0mfigsize\u001b[0m\u001b[0;34m=\u001b[0m\u001b[0;34m(\u001b[0m\u001b[0;36m5\u001b[0m\u001b[0;34m,\u001b[0m\u001b[0;36m5\u001b[0m\u001b[0;34m)\u001b[0m\u001b[0;34m)\u001b[0m\u001b[0;34m\u001b[0m\u001b[0;34m\u001b[0m\u001b[0m\n\u001b[1;32m      2\u001b[0m \u001b[0max\u001b[0m \u001b[0;34m=\u001b[0m \u001b[0mfig\u001b[0m\u001b[0;34m.\u001b[0m\u001b[0madd_subplot\u001b[0m\u001b[0;34m(\u001b[0m\u001b[0;36m111\u001b[0m\u001b[0;34m)\u001b[0m\u001b[0;34m\u001b[0m\u001b[0;34m\u001b[0m\u001b[0m\n\u001b[0;32m----> 3\u001b[0;31m \u001b[0max\u001b[0m\u001b[0;34m.\u001b[0m\u001b[0mhist\u001b[0m\u001b[0;34m(\u001b[0m\u001b[0mfolders\u001b[0m\u001b[0;34m[\u001b[0m\u001b[0;34m'size'\u001b[0m\u001b[0;34m]\u001b[0m\u001b[0;34m,\u001b[0m\u001b[0;36m20\u001b[0m\u001b[0;34m)\u001b[0m\u001b[0;34m\u001b[0m\u001b[0;34m\u001b[0m\u001b[0m\n\u001b[0m",
      "\u001b[0;32m~/miniconda3/envs/amftrack/lib/python3.9/site-packages/pandas/core/frame.py\u001b[0m in \u001b[0;36m__getitem__\u001b[0;34m(self, key)\u001b[0m\n\u001b[1;32m   3456\u001b[0m             \u001b[0;32mif\u001b[0m \u001b[0mself\u001b[0m\u001b[0;34m.\u001b[0m\u001b[0mcolumns\u001b[0m\u001b[0;34m.\u001b[0m\u001b[0mnlevels\u001b[0m \u001b[0;34m>\u001b[0m \u001b[0;36m1\u001b[0m\u001b[0;34m:\u001b[0m\u001b[0;34m\u001b[0m\u001b[0;34m\u001b[0m\u001b[0m\n\u001b[1;32m   3457\u001b[0m                 \u001b[0;32mreturn\u001b[0m \u001b[0mself\u001b[0m\u001b[0;34m.\u001b[0m\u001b[0m_getitem_multilevel\u001b[0m\u001b[0;34m(\u001b[0m\u001b[0mkey\u001b[0m\u001b[0;34m)\u001b[0m\u001b[0;34m\u001b[0m\u001b[0;34m\u001b[0m\u001b[0m\n\u001b[0;32m-> 3458\u001b[0;31m             \u001b[0mindexer\u001b[0m \u001b[0;34m=\u001b[0m \u001b[0mself\u001b[0m\u001b[0;34m.\u001b[0m\u001b[0mcolumns\u001b[0m\u001b[0;34m.\u001b[0m\u001b[0mget_loc\u001b[0m\u001b[0;34m(\u001b[0m\u001b[0mkey\u001b[0m\u001b[0;34m)\u001b[0m\u001b[0;34m\u001b[0m\u001b[0;34m\u001b[0m\u001b[0m\n\u001b[0m\u001b[1;32m   3459\u001b[0m             \u001b[0;32mif\u001b[0m \u001b[0mis_integer\u001b[0m\u001b[0;34m(\u001b[0m\u001b[0mindexer\u001b[0m\u001b[0;34m)\u001b[0m\u001b[0;34m:\u001b[0m\u001b[0;34m\u001b[0m\u001b[0;34m\u001b[0m\u001b[0m\n\u001b[1;32m   3460\u001b[0m                 \u001b[0mindexer\u001b[0m \u001b[0;34m=\u001b[0m \u001b[0;34m[\u001b[0m\u001b[0mindexer\u001b[0m\u001b[0;34m]\u001b[0m\u001b[0;34m\u001b[0m\u001b[0;34m\u001b[0m\u001b[0m\n",
      "\u001b[0;32m~/miniconda3/envs/amftrack/lib/python3.9/site-packages/pandas/core/indexes/base.py\u001b[0m in \u001b[0;36mget_loc\u001b[0;34m(self, key, method, tolerance)\u001b[0m\n\u001b[1;32m   3361\u001b[0m                 \u001b[0;32mreturn\u001b[0m \u001b[0mself\u001b[0m\u001b[0;34m.\u001b[0m\u001b[0m_engine\u001b[0m\u001b[0;34m.\u001b[0m\u001b[0mget_loc\u001b[0m\u001b[0;34m(\u001b[0m\u001b[0mcasted_key\u001b[0m\u001b[0;34m)\u001b[0m\u001b[0;34m\u001b[0m\u001b[0;34m\u001b[0m\u001b[0m\n\u001b[1;32m   3362\u001b[0m             \u001b[0;32mexcept\u001b[0m \u001b[0mKeyError\u001b[0m \u001b[0;32mas\u001b[0m \u001b[0merr\u001b[0m\u001b[0;34m:\u001b[0m\u001b[0;34m\u001b[0m\u001b[0;34m\u001b[0m\u001b[0m\n\u001b[0;32m-> 3363\u001b[0;31m                 \u001b[0;32mraise\u001b[0m \u001b[0mKeyError\u001b[0m\u001b[0;34m(\u001b[0m\u001b[0mkey\u001b[0m\u001b[0;34m)\u001b[0m \u001b[0;32mfrom\u001b[0m \u001b[0merr\u001b[0m\u001b[0;34m\u001b[0m\u001b[0;34m\u001b[0m\u001b[0m\n\u001b[0m\u001b[1;32m   3364\u001b[0m \u001b[0;34m\u001b[0m\u001b[0m\n\u001b[1;32m   3365\u001b[0m         \u001b[0;32mif\u001b[0m \u001b[0mis_scalar\u001b[0m\u001b[0;34m(\u001b[0m\u001b[0mkey\u001b[0m\u001b[0;34m)\u001b[0m \u001b[0;32mand\u001b[0m \u001b[0misna\u001b[0m\u001b[0;34m(\u001b[0m\u001b[0mkey\u001b[0m\u001b[0;34m)\u001b[0m \u001b[0;32mand\u001b[0m \u001b[0;32mnot\u001b[0m \u001b[0mself\u001b[0m\u001b[0;34m.\u001b[0m\u001b[0mhasnans\u001b[0m\u001b[0;34m:\u001b[0m\u001b[0;34m\u001b[0m\u001b[0;34m\u001b[0m\u001b[0m\n",
      "\u001b[0;31mKeyError\u001b[0m: 'size'"
     ]
    },
    {
     "data": {
      "application/vnd.jupyter.widget-view+json": {
       "model_id": "d172d7a7823d487d822b6364d8542f4d",
       "version_major": 2,
       "version_minor": 0
      },
      "image/png": "[encoded data removed]",
      "text/html": [
       "\n",
       "            <div style=\"display: inline-block;\">\n",
       "                <div class=\"jupyter-widgets widget-label\" style=\"text-align: center;\">\n",
       "                    Figure\n",
       "                </div>\n",
       "                <img src='data:image/png;base64,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' width=500.0/>\n",
       "            </div>\n",
       "        "
      ],
      "text/plain": [
       "Canvas(toolbar=Toolbar(toolitems=[('Home', 'Reset original view', 'home', 'home'), ('Back', 'Back to previous …"
      ]
     },
     "metadata": {},
     "output_type": "display_data"
    }
   ],
   "source": [
    "fig = plt.figure(figsize=(5,5))\n",
    "ax = fig.add_subplot(111)\n",
    "ax.hist(folders['size'],20)"
   ]
  },
  {
   "cell_type": "code",
   "execution_count": 22,
   "id": "d331844d-6381-497c-851d-21afd224c993",
   "metadata": {},
   "outputs": [
    {
     "data": {
      "application/vnd.jupyter.widget-view+json": {
       "model_id": "75cc4214d4b048eda137f9928b59f253",
       "version_major": 2,
       "version_minor": 0
      },
      "text/plain": [
       "analysed:   0%|          | 0/19 [00:00<?, ?it/s]"
      ]
     },
     "metadata": {},
     "output_type": "display_data"
    },
    {
     "data": {
      "application/vnd.jupyter.widget-view+json": {
       "model_id": "3cf4f91ca80748d5a5dab88760e27daf",
       "version_major": 2,
       "version_minor": 0
      },
      "text/plain": [
       "analysed:   0%|          | 0/10 [00:00<?, ?it/s]"
      ]
     },
     "metadata": {},
     "output_type": "display_data"
    }
   ],
   "source": [
    "\n",
    "directory_origin = r'/mnt/sun/home-folder/oyartegalvez/Drive_AMFtopology/PRINCE_sync_test/'\n",
    "directory_target = r'/mnt/sun/home-folder/oyartegalvez/Drive_AMFtopology/PRINCE_analysis/'\n",
    "\n",
    "update_plate_info(directory_origin)\n",
    "update_plate_info(directory_target)\n",
    "\n",
    "all_folders_origin = get_current_folders(directory_origin)\n",
    "all_folders_target = get_current_folders(directory_target)"
   ]
  },
  {
   "cell_type": "code",
   "execution_count": 37,
   "id": "c2666359-8661-4c7a-9415-ae40cde12772",
   "metadata": {},
   "outputs": [
    {
     "data": {
      "application/vnd.jupyter.widget-view+json": {
       "model_id": "2a82cbb8932b4038b23b6f255b6c6d18",
       "version_major": 2,
       "version_minor": 0
      },
      "text/plain": [
       "transferred:   0%|          | 0/10 [00:00<?, ?it/s]"
      ]
     },
     "metadata": {},
     "output_type": "display_data"
    },
    {
     "name": "stdout",
     "output_type": "stream",
     "text": [
      "20220308_0729_Plate06 True\n",
      "20220308_0725_Plate05 False\n",
      "20220308_0713_Plate02 True\n",
      "20220308_0732_Plate07 True\n",
      "20220308_0736_Plate08 True\n",
      "20220307_0922_Plate01 True\n",
      "20220308_0710_Plate01 True\n",
      "20220308_0657_Plate01 True\n",
      "20220308_0721_Plate04 True\n",
      "20220308_0717_Plate03 True\n"
     ]
    }
   ],
   "source": [
    "run_info = all_folders_target.copy()\n",
    "folder_list = list(run_info['folder'])\n",
    "with tqdm(total=len(folder_list), desc=\"transferred\") as pbar:\n",
    "    for folder in folder_list:\n",
    "        origin = all_folders_origin.loc[all_folders_origin['folder']==folder]['total_path'].iloc[0]\n",
    "        target = all_folders_target.loc[all_folders_target['folder']==folder]['total_path'].iloc[0]     \n",
    "        check_or = checksumdir.dirhash(origin)\n",
    "        check_targ = checksumdir.dirhash(target)\n",
    "        print(folder,(check_or==check_targ))        \n",
    "        \n",
    "        if check_or==check_targ:\n",
    "            shutil.rmtree(origin)\n",
    "        pbar.update(1)"
   ]
  },
  {
   "cell_type": "code",
   "execution_count": 33,
   "id": "c6a6c207-5b2b-46e5-bedc-53b80b005efe",
   "metadata": {
    "tags": []
   },
   "outputs": [
    {
     "data": {
      "text/plain": [
       "('/mnt/sun/home-folder/oyartegalvez/Drive_AMFtopology/PRINCE_sync_test/20220308_0729_Plate06',\n",
       " '/mnt/sun/home-folder/oyartegalvez/Drive_AMFtopology/PRINCE_analysis/20220308_0729_Plate06')"
      ]
     },
     "execution_count": 33,
     "metadata": {},
     "output_type": "execute_result"
    }
   ],
   "source": [
    "origin,target"
   ]
  },
  {
   "cell_type": "code",
   "execution_count": 61,
   "id": "878d1ade-54e2-42ae-876b-a40a97e3400b",
   "metadata": {},
   "outputs": [
    {
     "data": {
      "application/vnd.jupyter.widget-view+json": {
       "model_id": "4dc3f1f55a3d4742aef06cddb4d94b6b",
       "version_major": 2,
       "version_minor": 0
      },
      "text/plain": [
       "transferred:   0%|          | 0/31 [00:00<?, ?it/s]"
      ]
     },
     "metadata": {},
     "output_type": "display_data"
    }
   ],
   "source": [
    "run_info = folders.copy()\n",
    "target = directory2\n",
    "folder_list = list(run_info['total_path'])\n",
    "with tqdm(total=len(folder_list), desc=\"transferred\") as pbar:\n",
    "    for folder in folder_list:\n",
    "        origin = folder\n",
    "        copy = target+ '/'+folder.split('/')[-1]\n",
    "        break"
   ]
  },
  {
   "cell_type": "code",
   "execution_count": 63,
   "id": "663aa7fe-820e-43b0-a374-d8b3c0c6bb24",
   "metadata": {},
   "outputs": [
    {
     "data": {
      "text/plain": [
       "('/run/user/357100554/gvfs/smb-share:server=prince.amolf.nl,share=d$/Data/Prince/Images/20220307_0922_Plate01',\n",
       " '/mnt/sun/home-folder/oyartegalvez/Drive_AMFtopology/PRINCE_sync_test/20220307_0922_Plate01')"
      ]
     },
     "execution_count": 63,
     "metadata": {},
     "output_type": "execute_result"
    }
   ],
   "source": [
    "origin,copy"
   ]
  },
  {
   "cell_type": "code",
   "execution_count": 64,
   "id": "0c7d4ed6-ad62-48c7-bb05-974e3cdc57a6",
   "metadata": {},
   "outputs": [
    {
     "data": {
      "text/plain": [
       "('14d575547c25462ce0b349a91b0b8dc9', '14d575547c25462ce0b349a91b0b8dc9')"
      ]
     },
     "execution_count": 64,
     "metadata": {},
     "output_type": "execute_result"
    }
   ],
   "source": [
    "import checksumdir\n",
    "D"
   ]
  },
  {
   "cell_type": "code",
   "execution_count": 56,
   "id": "400e8e7a-f220-43c0-adc4-4fe4744ede85",
   "metadata": {},
   "outputs": [
    {
     "data": {
      "text/plain": [
       "'14d575547c25462ce0b349a91b0b8dc9'"
      ]
     },
     "execution_count": 56,
     "metadata": {},
     "output_type": "execute_result"
    }
   ],
   "source": [
    "checksumdir.dirhash(origin)"
   ]
  },
  {
   "cell_type": "code",
   "execution_count": 57,
   "id": "e3185b5f-5d96-4d72-b839-fdcc1685fe89",
   "metadata": {},
   "outputs": [
    {
     "data": {
      "text/plain": [
       "'74fd3bba045fb73e7d500d2be0bc86fe'"
      ]
     },
     "execution_count": 57,
     "metadata": {},
     "output_type": "execute_result"
    }
   ],
   "source": [
    "checksumdir.dirhash(target)"
   ]
  },
  {
   "cell_type": "code",
   "execution_count": null,
   "id": "17509c4b-106a-423f-bff7-6b7ca124fa28",
   "metadata": {},
   "outputs": [],
   "source": [
    "def get_current_folders(directory,file_metadata = False):\n",
    "    if directory == 'dropbox':\n",
    "        data = []\n",
    "        dbx = dropbox.Dropbox(API)\n",
    "        response = dbx.files_list_folder(\"\",recursive = True)\n",
    "        # for fil in response.entries:\n",
    "        listfiles = []\n",
    "        listjson = []\n",
    "        while response.has_more:\n",
    "            listfiles += [file for file in response.entries if file.name.split(\".\")[-1] == \"zip\"]\n",
    "            listjson += [file.path_lower for file in response.entries if file.name.split(\".\")[-1] == \"json\"]\n",
    "\n",
    "            response = dbx.files_list_folder_continue(response.cursor)\n",
    "        listfiles += [file for file in response.entries if file.name.split(\".\")[-1] == \"zip\"]\n",
    "        listjson += [file.path_lower for file in response.entries if file.name.split(\".\")[-1] == \"json\"]\n",
    "        # print([((file.path_lower.split(\".\")[0]) + \"_info.json\") for file in listfiles if (file.name.split(\".\")[-1] == \"zip\") &\n",
    "        #        (((file.path_lower.split(\".\")[0]) + \"_info.json\") not in listjson)])\n",
    "        listfiles.reverse()\n",
    "        if file_metadata:\n",
    "            return(listfiles)"
   ]
  },
  {
   "cell_type": "code",
   "execution_count": null,
   "id": "87f2a953-8db7-4047-b7bc-e00ff83c509a",
   "metadata": {},
   "outputs": [],
   "source": [
    "files= get_current_folders(\"dropbox\",True)\n",
    "files[0]"
   ]
  }
 ],
 "metadata": {
  "kernelspec": {
   "display_name": "Python 3 (ipykernel)",
   "language": "python",
   "name": "python3"
  },
  "language_info": {
   "codemirror_mode": {
    "name": "ipython",
    "version": 3
   },
   "file_extension": ".py",
   "mimetype": "text/x-python",
   "name": "python",
   "nbconvert_exporter": "python",
   "pygments_lexer": "ipython3",
   "version": "3.9.7"
  }
 },
 "nbformat": 4,
 "nbformat_minor": 5
}

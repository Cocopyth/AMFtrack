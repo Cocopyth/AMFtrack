{
 "cells": [
  {
   "cell_type": "code",
   "execution_count": 1,
   "metadata": {},
   "outputs": [],
   "source": [
    "%matplotlib widget\n",
    "%load_ext autoreload\n",
    "%autoreload 2\n",
    "import os  \n",
    "import sys  \n",
    "sys.path.insert(0, os.getenv('HOME')+'/pycode/MscThesis/')\n",
    "# sys.path.insert(0,r'C:\\Users\\coren\\Documents\\PhD\\Code\\AMFtrack')\n",
    "\n",
    "import pandas as pd\n",
    "from amftrack.util import get_dates_datetime, get_dirname, get_data_info, update_plate_info, \\\n",
    "get_current_folders, get_folders_by_plate_id\n",
    "\n",
    "\n",
    "import ast\n",
    "from amftrack.plotutil import plot_t_tp1\n",
    "from scipy import sparse\n",
    "from datetime import datetime\n",
    "import pickle\n",
    "import scipy.io as sio\n",
    "from pymatreader import read_mat\n",
    "from matplotlib import colors\n",
    "import cv2\n",
    "import imageio\n",
    "import matplotlib.pyplot as plt\n",
    "import numpy as np\n",
    "from skimage.filters import frangi\n",
    "from skimage import filters\n",
    "from random import choice\n",
    "import scipy.sparse\n",
    "import os\n",
    "from amftrack.pipeline.functions.image_processing.extract_graph import from_sparse_to_graph, generate_nx_graph, sparse_to_doc\n",
    "from skimage.feature import hessian_matrix_det\n",
    "from amftrack.pipeline.functions.image_processing.experiment_class_surf import Experiment\n",
    "from amftrack.pipeline.paths.directory import run_parallel_transfer, find_state, directory_scratch, directory_project, directory_archive\n",
    "import dropbox\n",
    "from amftrack.transfer.functions.transfer import upload\n",
    "from subprocess import call"
   ]
  },
  {
   "cell_type": "code",
   "execution_count": 13,
   "metadata": {
    "tags": []
   },
   "outputs": [
    {
     "name": "stderr",
     "output_type": "stream",
     "text": [
      "analysed: 100%|██████████████████████████████████████████████████████████████████| 10100/10100 [01:20<00:00, 124.96it/s]\n"
     ]
    },
    {
     "name": "stdout",
     "output_type": "stream",
     "text": [
      "FileMetadata(client_modified=datetime.datetime(2021, 12, 24, 9, 24, 42), content_hash='33594f0cafeb71775db497ad8565c4ac886e6f6d393fb40e70ba503361f6f16e', export_info=NOT_SET, file_lock_info=NOT_SET, has_explicit_shared_members=NOT_SET, id='id:mcSwhUrTbbAAAAAAAAAFYg', is_downloadable=True, media_info=NOT_SET, name='data_info.json', parent_shared_folder_id=NOT_SET, path_display='/data_info.json', path_lower='/data_info.json', property_groups=NOT_SET, rev='5d3e0ecd2e5208b8306a1', server_modified=datetime.datetime(2021, 12, 24, 9, 24, 42), sharing_info=NOT_SET, size=5758908, symlink_info=NOT_SET)\n"
     ]
    }
   ],
   "source": [
    "directory = directory_project\n",
    "directory = '/run/user/357100554/gvfs/smb-share:server=sun.amolf.nl,share=shimizu-data,user=bisot/home-folder/oyartegalvez/Drive_AMFtopology/PRINCE/'\n",
    "\n",
    "update_plate_info(directory)"
   ]
  },
  {
   "cell_type": "code",
   "execution_count": 14,
   "metadata": {
    "tags": []
   },
   "outputs": [],
   "source": [
    "infos = get_data_info()"
   ]
  },
  {
   "cell_type": "code",
   "execution_count": 18,
   "metadata": {},
   "outputs": [
    {
     "data": {
      "text/plain": [
       "'/run/user/357100554/gvfs/smb-share:server=sun.amolf.nl,share=shimizu-data,user=bisot/home-folder/oyartegalvez/Drive_AMFtopology/PRINCE/20211014_1503_Plate17'"
      ]
     },
     "execution_count": 18,
     "metadata": {},
     "output_type": "execute_result"
    }
   ],
   "source": [
    "infos['total_path'].iloc[0]"
   ]
  },
  {
   "cell_type": "code",
   "execution_count": 37,
   "metadata": {},
   "outputs": [],
   "source": [
    "API = str(np.load(os.getenv('HOME')+'/pycode/API_drop.npy'))\n",
    "\n",
    "def get_current_folders(directory):\n",
    "    plate_info = get_data_info()\n",
    "    if directory == 'dropbox':\n",
    "        dbx = dropbox.Dropbox(API)\n",
    "        response = dbx.files_list_folder(\"\",recursive = True)\n",
    "        listdir = [file.name.split(\".\")[0] for file in response.entries]\n",
    "        return(plate_info.loc[np.isin(plate_info['folder'],listdir)])\n",
    "    else:\n",
    "        listdir = os.listdir(directory)\n",
    "        return(plate_info.loc[np.isin(plate_info['folder'],listdir)&(plate_info['total_path']==directory+plate_info['folder'])])"
   ]
  },
  {
   "cell_type": "code",
   "execution_count": 38,
   "metadata": {
    "tags": []
   },
   "outputs": [
    {
     "data": {
      "text/html": [
       "<div>\n",
       "<style scoped>\n",
       "    .dataframe tbody tr th:only-of-type {\n",
       "        vertical-align: middle;\n",
       "    }\n",
       "\n",
       "    .dataframe tbody tr th {\n",
       "        vertical-align: top;\n",
       "    }\n",
       "\n",
       "    .dataframe thead th {\n",
       "        text-align: right;\n",
       "    }\n",
       "</style>\n",
       "<table border=\"1\" class=\"dataframe\">\n",
       "  <thead>\n",
       "    <tr style=\"text-align: right;\">\n",
       "      <th></th>\n",
       "      <th>total_path</th>\n",
       "      <th>Plate</th>\n",
       "      <th>PrincePos</th>\n",
       "      <th>root</th>\n",
       "      <th>strain</th>\n",
       "      <th>medium</th>\n",
       "      <th>split</th>\n",
       "      <th>Pbait</th>\n",
       "      <th>CrossDate</th>\n",
       "      <th>/Img/TileConfiguration.txt.registered</th>\n",
       "      <th>...</th>\n",
       "      <th>/Analysis/skeleton_pruned_compressed.mat</th>\n",
       "      <th>/Analysis/transform.mat</th>\n",
       "      <th>/Analysis/transform_corrupt.mat</th>\n",
       "      <th>/Analysis/skeleton_realigned_compressed.mat</th>\n",
       "      <th>/Analysis/nx_graph_pruned.p</th>\n",
       "      <th>/Analysis/nx_graph_pruned_width.p</th>\n",
       "      <th>/Analysis/nx_graph_pruned_labeled.p</th>\n",
       "      <th>date</th>\n",
       "      <th>folder</th>\n",
       "      <th>Temp</th>\n",
       "    </tr>\n",
       "  </thead>\n",
       "  <tbody>\n",
       "    <tr>\n",
       "      <th>17</th>\n",
       "      <td>/run/user/357100554/gvfs/smb-share:server=sun....</td>\n",
       "      <td>94</td>\n",
       "      <td>39</td>\n",
       "      <td>Carrot</td>\n",
       "      <td>A5</td>\n",
       "      <td>001P100N</td>\n",
       "      <td>Y</td>\n",
       "      <td>-</td>\n",
       "      <td>20201123</td>\n",
       "      <td>True</td>\n",
       "      <td>...</td>\n",
       "      <td>True</td>\n",
       "      <td>True</td>\n",
       "      <td>False</td>\n",
       "      <td>True</td>\n",
       "      <td>True</td>\n",
       "      <td>True</td>\n",
       "      <td>True</td>\n",
       "      <td>26.11.2020, 03:02:</td>\n",
       "      <td>20201126_0302_Plate39</td>\n",
       "      <td>25</td>\n",
       "    </tr>\n",
       "    <tr>\n",
       "      <th>47</th>\n",
       "      <td>/run/user/357100554/gvfs/smb-share:server=sun....</td>\n",
       "      <td>94</td>\n",
       "      <td>39</td>\n",
       "      <td>Carrot</td>\n",
       "      <td>A5</td>\n",
       "      <td>001P100N</td>\n",
       "      <td>Y</td>\n",
       "      <td>-</td>\n",
       "      <td>20201123</td>\n",
       "      <td>True</td>\n",
       "      <td>...</td>\n",
       "      <td>True</td>\n",
       "      <td>True</td>\n",
       "      <td>False</td>\n",
       "      <td>True</td>\n",
       "      <td>True</td>\n",
       "      <td>True</td>\n",
       "      <td>False</td>\n",
       "      <td>28.11.2020, 01:12:</td>\n",
       "      <td>20201128_0112_Plate39</td>\n",
       "      <td>25</td>\n",
       "    </tr>\n",
       "    <tr>\n",
       "      <th>138</th>\n",
       "      <td>/run/user/357100554/gvfs/smb-share:server=sun....</td>\n",
       "      <td>94</td>\n",
       "      <td>39</td>\n",
       "      <td>Carrot</td>\n",
       "      <td>A5</td>\n",
       "      <td>001P100N</td>\n",
       "      <td>Y</td>\n",
       "      <td>-</td>\n",
       "      <td>20201123</td>\n",
       "      <td>True</td>\n",
       "      <td>...</td>\n",
       "      <td>True</td>\n",
       "      <td>True</td>\n",
       "      <td>False</td>\n",
       "      <td>True</td>\n",
       "      <td>True</td>\n",
       "      <td>True</td>\n",
       "      <td>True</td>\n",
       "      <td>25.11.2020, 01:02:</td>\n",
       "      <td>20201125_0102_Plate39</td>\n",
       "      <td>25</td>\n",
       "    </tr>\n",
       "    <tr>\n",
       "      <th>204</th>\n",
       "      <td>/run/user/357100554/gvfs/smb-share:server=sun....</td>\n",
       "      <td>94</td>\n",
       "      <td>39</td>\n",
       "      <td>Carrot</td>\n",
       "      <td>A5</td>\n",
       "      <td>001P100N</td>\n",
       "      <td>Y</td>\n",
       "      <td>-</td>\n",
       "      <td>20201123</td>\n",
       "      <td>True</td>\n",
       "      <td>...</td>\n",
       "      <td>True</td>\n",
       "      <td>True</td>\n",
       "      <td>False</td>\n",
       "      <td>True</td>\n",
       "      <td>True</td>\n",
       "      <td>True</td>\n",
       "      <td>True</td>\n",
       "      <td>26.11.2020, 02:02:</td>\n",
       "      <td>20201126_0202_Plate39</td>\n",
       "      <td>25</td>\n",
       "    </tr>\n",
       "    <tr>\n",
       "      <th>249</th>\n",
       "      <td>/run/user/357100554/gvfs/smb-share:server=sun....</td>\n",
       "      <td>94</td>\n",
       "      <td>39</td>\n",
       "      <td>Carrot</td>\n",
       "      <td>A5</td>\n",
       "      <td>001P100N</td>\n",
       "      <td>Y</td>\n",
       "      <td>-</td>\n",
       "      <td>20201123</td>\n",
       "      <td>True</td>\n",
       "      <td>...</td>\n",
       "      <td>True</td>\n",
       "      <td>True</td>\n",
       "      <td>False</td>\n",
       "      <td>True</td>\n",
       "      <td>True</td>\n",
       "      <td>True</td>\n",
       "      <td>False</td>\n",
       "      <td>28.11.2020, 00:12:</td>\n",
       "      <td>20201128_0012_Plate39</td>\n",
       "      <td>25</td>\n",
       "    </tr>\n",
       "    <tr>\n",
       "      <th>...</th>\n",
       "      <td>...</td>\n",
       "      <td>...</td>\n",
       "      <td>...</td>\n",
       "      <td>...</td>\n",
       "      <td>...</td>\n",
       "      <td>...</td>\n",
       "      <td>...</td>\n",
       "      <td>...</td>\n",
       "      <td>...</td>\n",
       "      <td>...</td>\n",
       "      <td>...</td>\n",
       "      <td>...</td>\n",
       "      <td>...</td>\n",
       "      <td>...</td>\n",
       "      <td>...</td>\n",
       "      <td>...</td>\n",
       "      <td>...</td>\n",
       "      <td>...</td>\n",
       "      <td>...</td>\n",
       "      <td>...</td>\n",
       "      <td>...</td>\n",
       "    </tr>\n",
       "    <tr>\n",
       "      <th>5704</th>\n",
       "      <td>/run/user/357100554/gvfs/smb-share:server=sun....</td>\n",
       "      <td>94</td>\n",
       "      <td>39</td>\n",
       "      <td>Carrot</td>\n",
       "      <td>A5</td>\n",
       "      <td>001P100N</td>\n",
       "      <td>Y</td>\n",
       "      <td>-</td>\n",
       "      <td>20201123</td>\n",
       "      <td>True</td>\n",
       "      <td>...</td>\n",
       "      <td>True</td>\n",
       "      <td>True</td>\n",
       "      <td>False</td>\n",
       "      <td>True</td>\n",
       "      <td>True</td>\n",
       "      <td>True</td>\n",
       "      <td>True</td>\n",
       "      <td>27.11.2020, 16:13:</td>\n",
       "      <td>20201127_1613_Plate39</td>\n",
       "      <td>25</td>\n",
       "    </tr>\n",
       "    <tr>\n",
       "      <th>5718</th>\n",
       "      <td>/run/user/357100554/gvfs/smb-share:server=sun....</td>\n",
       "      <td>94</td>\n",
       "      <td>39</td>\n",
       "      <td>Carrot</td>\n",
       "      <td>A5</td>\n",
       "      <td>001P100N</td>\n",
       "      <td>Y</td>\n",
       "      <td>-</td>\n",
       "      <td>20201123</td>\n",
       "      <td>True</td>\n",
       "      <td>...</td>\n",
       "      <td>True</td>\n",
       "      <td>True</td>\n",
       "      <td>False</td>\n",
       "      <td>True</td>\n",
       "      <td>True</td>\n",
       "      <td>True</td>\n",
       "      <td>True</td>\n",
       "      <td>26.11.2020, 20:09:</td>\n",
       "      <td>20201126_2009_Plate39</td>\n",
       "      <td>25</td>\n",
       "    </tr>\n",
       "    <tr>\n",
       "      <th>5732</th>\n",
       "      <td>/run/user/357100554/gvfs/smb-share:server=sun....</td>\n",
       "      <td>94</td>\n",
       "      <td>39</td>\n",
       "      <td>Carrot</td>\n",
       "      <td>A5</td>\n",
       "      <td>001P100N</td>\n",
       "      <td>Y</td>\n",
       "      <td>-</td>\n",
       "      <td>20201123</td>\n",
       "      <td>True</td>\n",
       "      <td>...</td>\n",
       "      <td>True</td>\n",
       "      <td>True</td>\n",
       "      <td>False</td>\n",
       "      <td>True</td>\n",
       "      <td>True</td>\n",
       "      <td>True</td>\n",
       "      <td>True</td>\n",
       "      <td>25.11.2020, 13:02:</td>\n",
       "      <td>20201125_1302_Plate39</td>\n",
       "      <td>25</td>\n",
       "    </tr>\n",
       "    <tr>\n",
       "      <th>5820</th>\n",
       "      <td>/run/user/357100554/gvfs/smb-share:server=sun....</td>\n",
       "      <td>94</td>\n",
       "      <td>39</td>\n",
       "      <td>Carrot</td>\n",
       "      <td>A5</td>\n",
       "      <td>001P100N</td>\n",
       "      <td>Y</td>\n",
       "      <td>-</td>\n",
       "      <td>20201123</td>\n",
       "      <td>True</td>\n",
       "      <td>...</td>\n",
       "      <td>True</td>\n",
       "      <td>True</td>\n",
       "      <td>False</td>\n",
       "      <td>True</td>\n",
       "      <td>True</td>\n",
       "      <td>True</td>\n",
       "      <td>True</td>\n",
       "      <td>24.11.2020, 12:02:</td>\n",
       "      <td>20201124_1202_Plate39</td>\n",
       "      <td>25</td>\n",
       "    </tr>\n",
       "    <tr>\n",
       "      <th>5847</th>\n",
       "      <td>/run/user/357100554/gvfs/smb-share:server=sun....</td>\n",
       "      <td>94</td>\n",
       "      <td>39</td>\n",
       "      <td>Carrot</td>\n",
       "      <td>A5</td>\n",
       "      <td>001P100N</td>\n",
       "      <td>Y</td>\n",
       "      <td>-</td>\n",
       "      <td>20201123</td>\n",
       "      <td>True</td>\n",
       "      <td>...</td>\n",
       "      <td>True</td>\n",
       "      <td>True</td>\n",
       "      <td>False</td>\n",
       "      <td>True</td>\n",
       "      <td>True</td>\n",
       "      <td>True</td>\n",
       "      <td>True</td>\n",
       "      <td>26.11.2020, 11:02:</td>\n",
       "      <td>20201126_1102_Plate39</td>\n",
       "      <td>25</td>\n",
       "    </tr>\n",
       "  </tbody>\n",
       "</table>\n",
       "<p>129 rows × 22 columns</p>\n",
       "</div>"
      ],
      "text/plain": [
       "                                             total_path Plate PrincePos  \\\n",
       "17    /run/user/357100554/gvfs/smb-share:server=sun....    94        39   \n",
       "47    /run/user/357100554/gvfs/smb-share:server=sun....    94        39   \n",
       "138   /run/user/357100554/gvfs/smb-share:server=sun....    94        39   \n",
       "204   /run/user/357100554/gvfs/smb-share:server=sun....    94        39   \n",
       "249   /run/user/357100554/gvfs/smb-share:server=sun....    94        39   \n",
       "...                                                 ...   ...       ...   \n",
       "5704  /run/user/357100554/gvfs/smb-share:server=sun....    94        39   \n",
       "5718  /run/user/357100554/gvfs/smb-share:server=sun....    94        39   \n",
       "5732  /run/user/357100554/gvfs/smb-share:server=sun....    94        39   \n",
       "5820  /run/user/357100554/gvfs/smb-share:server=sun....    94        39   \n",
       "5847  /run/user/357100554/gvfs/smb-share:server=sun....    94        39   \n",
       "\n",
       "        root strain    medium split Pbait CrossDate  \\\n",
       "17    Carrot     A5  001P100N     Y     -  20201123   \n",
       "47    Carrot     A5  001P100N     Y     -  20201123   \n",
       "138   Carrot     A5  001P100N     Y     -  20201123   \n",
       "204   Carrot     A5  001P100N     Y     -  20201123   \n",
       "249   Carrot     A5  001P100N     Y     -  20201123   \n",
       "...      ...    ...       ...   ...   ...       ...   \n",
       "5704  Carrot     A5  001P100N     Y     -  20201123   \n",
       "5718  Carrot     A5  001P100N     Y     -  20201123   \n",
       "5732  Carrot     A5  001P100N     Y     -  20201123   \n",
       "5820  Carrot     A5  001P100N     Y     -  20201123   \n",
       "5847  Carrot     A5  001P100N     Y     -  20201123   \n",
       "\n",
       "     /Img/TileConfiguration.txt.registered  ...  \\\n",
       "17                                    True  ...   \n",
       "47                                    True  ...   \n",
       "138                                   True  ...   \n",
       "204                                   True  ...   \n",
       "249                                   True  ...   \n",
       "...                                    ...  ...   \n",
       "5704                                  True  ...   \n",
       "5718                                  True  ...   \n",
       "5732                                  True  ...   \n",
       "5820                                  True  ...   \n",
       "5847                                  True  ...   \n",
       "\n",
       "     /Analysis/skeleton_pruned_compressed.mat /Analysis/transform.mat  \\\n",
       "17                                       True                    True   \n",
       "47                                       True                    True   \n",
       "138                                      True                    True   \n",
       "204                                      True                    True   \n",
       "249                                      True                    True   \n",
       "...                                       ...                     ...   \n",
       "5704                                     True                    True   \n",
       "5718                                     True                    True   \n",
       "5732                                     True                    True   \n",
       "5820                                     True                    True   \n",
       "5847                                     True                    True   \n",
       "\n",
       "     /Analysis/transform_corrupt.mat  \\\n",
       "17                             False   \n",
       "47                             False   \n",
       "138                            False   \n",
       "204                            False   \n",
       "249                            False   \n",
       "...                              ...   \n",
       "5704                           False   \n",
       "5718                           False   \n",
       "5732                           False   \n",
       "5820                           False   \n",
       "5847                           False   \n",
       "\n",
       "     /Analysis/skeleton_realigned_compressed.mat /Analysis/nx_graph_pruned.p  \\\n",
       "17                                          True                        True   \n",
       "47                                          True                        True   \n",
       "138                                         True                        True   \n",
       "204                                         True                        True   \n",
       "249                                         True                        True   \n",
       "...                                          ...                         ...   \n",
       "5704                                        True                        True   \n",
       "5718                                        True                        True   \n",
       "5732                                        True                        True   \n",
       "5820                                        True                        True   \n",
       "5847                                        True                        True   \n",
       "\n",
       "     /Analysis/nx_graph_pruned_width.p /Analysis/nx_graph_pruned_labeled.p  \\\n",
       "17                                True                                True   \n",
       "47                                True                               False   \n",
       "138                               True                                True   \n",
       "204                               True                                True   \n",
       "249                               True                               False   \n",
       "...                                ...                                 ...   \n",
       "5704                              True                                True   \n",
       "5718                              True                                True   \n",
       "5732                              True                                True   \n",
       "5820                              True                                True   \n",
       "5847                              True                                True   \n",
       "\n",
       "                    date                 folder Temp  \n",
       "17    26.11.2020, 03:02:  20201126_0302_Plate39   25  \n",
       "47    28.11.2020, 01:12:  20201128_0112_Plate39   25  \n",
       "138   25.11.2020, 01:02:  20201125_0102_Plate39   25  \n",
       "204   26.11.2020, 02:02:  20201126_0202_Plate39   25  \n",
       "249   28.11.2020, 00:12:  20201128_0012_Plate39   25  \n",
       "...                  ...                    ...  ...  \n",
       "5704  27.11.2020, 16:13:  20201127_1613_Plate39   25  \n",
       "5718  26.11.2020, 20:09:  20201126_2009_Plate39   25  \n",
       "5732  25.11.2020, 13:02:  20201125_1302_Plate39   25  \n",
       "5820  24.11.2020, 12:02:  20201124_1202_Plate39   25  \n",
       "5847  26.11.2020, 11:02:  20201126_1102_Plate39   25  \n",
       "\n",
       "[129 rows x 22 columns]"
      ]
     },
     "execution_count": 38,
     "metadata": {},
     "output_type": "execute_result"
    }
   ],
   "source": [
    "get_current_folders('dropbox')"
   ]
  },
  {
   "cell_type": "code",
   "execution_count": 27,
   "metadata": {},
   "outputs": [],
   "source": [
    "all_folders = get_current_folders(directory)\n",
    "folders = all_folders.loc[all_folders['Plate']==94]"
   ]
  },
  {
   "cell_type": "code",
   "execution_count": 4,
   "metadata": {},
   "outputs": [],
   "source": [
    "dir_drop = 'prince_data'"
   ]
  },
  {
   "cell_type": "code",
   "execution_count": 5,
   "metadata": {},
   "outputs": [],
   "source": [
    "directory_targ = os.path.join(directory_scratch,'temp')+'/'\n",
    "# directory_targ = os.path.join(directory_archive,'Prince_Data')+'/'\n"
   ]
  },
  {
   "cell_type": "code",
   "execution_count": 11,
   "metadata": {
    "tags": []
   },
   "outputs": [
    {
     "name": "stdout",
     "output_type": "stream",
     "text": [
      "FileMetadata(client_modified=datetime.datetime(2021, 12, 23, 8, 55, 46), content_hash='c47ecb86baa70489f9978b728e675c048cca2625e5bb4da6e128586c2abd6e0d', export_info=NOT_SET, file_lock_info=NOT_SET, has_explicit_shared_members=NOT_SET, id='id:mcSwhUrTbbAAAAAAAAAFcg', is_downloadable=True, media_info=NOT_SET, name='data_info.json', parent_shared_folder_id=NOT_SET, path_display='/data_info.json', path_lower='/data_info.json', property_groups=NOT_SET, rev='5d3cc677af9368b8306a1', server_modified=datetime.datetime(2021, 12, 23, 8, 55, 46), sharing_info=NOT_SET, size=1487862, symlink_info=NOT_SET)\n"
     ]
    }
   ],
   "source": [
    "%autoreload 2\n",
    "from amftrack.transfer.functions.transfer import download, zip_file,unzip_file\n",
    "\n",
    "API = str(np.load('/home/cbisot/pycode/API_drop.npy'))\n",
    "source = f'data_info.json'\n",
    "target = '/scratch-shared/amftrack/temp/data_info.json'\n",
    "# download(API,source,target,end='')\n",
    "upload(API,target,f\"/{source}\", chunk_size=256 * 1024 * 1024,\n",
    ")"
   ]
  },
  {
   "cell_type": "code",
   "execution_count": 12,
   "metadata": {},
   "outputs": [],
   "source": [
    "dbx = dropbox.Dropbox(API)"
   ]
  },
  {
   "cell_type": "code",
   "execution_count": null,
   "metadata": {},
   "outputs": [],
   "source": [
    "dropbox.files.CommitInfo(path=target_path)"
   ]
  },
  {
   "cell_type": "markdown",
   "metadata": {},
   "source": [
    "**To transfer data from surfsara to dropbox**\n",
    "- use the 'toward_drop.py' function including the folders of interest and using dir_drop as a parameter indicating where in dropbox the data should go\n"
   ]
  },
  {
   "cell_type": "code",
   "execution_count": 6,
   "metadata": {
    "collapsed": true,
    "jupyter": {
     "outputs_hidden": true
    },
    "tags": []
   },
   "outputs": [
    {
     "name": "stderr",
     "output_type": "stream",
     "text": [
      "sbatch: Single node jobs run on a shared node by default. Add --exclusive if you want to use a node exclusively.\n",
      "sbatch: Single node jobs run on a shared node by default. Add --exclusive if you want to use a node exclusively.\n",
      "sbatch: Single node jobs run on a shared node by default. Add --exclusive if you want to use a node exclusively.\n",
      "sbatch: Single node jobs run on a shared node by default. Add --exclusive if you want to use a node exclusively.\n"
     ]
    },
    {
     "name": "stdout",
     "output_type": "stream",
     "text": [
      "Submitted batch job 242716\n",
      "Submitted batch job 242717\n",
      "Submitted batch job 242718\n",
      "Submitted batch job 242719\n"
     ]
    },
    {
     "name": "stderr",
     "output_type": "stream",
     "text": [
      "sbatch: Single node jobs run on a shared node by default. Add --exclusive if you want to use a node exclusively.\n",
      "sbatch: Single node jobs run on a shared node by default. Add --exclusive if you want to use a node exclusively.\n",
      "sbatch: Single node jobs run on a shared node by default. Add --exclusive if you want to use a node exclusively.\n",
      "sbatch: Single node jobs run on a shared node by default. Add --exclusive if you want to use a node exclusively.\n",
      "sbatch: Single node jobs run on a shared node by default. Add --exclusive if you want to use a node exclusively.\n"
     ]
    },
    {
     "name": "stdout",
     "output_type": "stream",
     "text": [
      "Submitted batch job 242720\n",
      "Submitted batch job 242721\n",
      "Submitted batch job 242722\n",
      "Submitted batch job 242723\n",
      "Submitted batch job 242724\n"
     ]
    },
    {
     "name": "stderr",
     "output_type": "stream",
     "text": [
      "sbatch: Single node jobs run on a shared node by default. Add --exclusive if you want to use a node exclusively.\n",
      "sbatch: Single node jobs run on a shared node by default. Add --exclusive if you want to use a node exclusively.\n",
      "sbatch: Single node jobs run on a shared node by default. Add --exclusive if you want to use a node exclusively.\n",
      "sbatch: Single node jobs run on a shared node by default. Add --exclusive if you want to use a node exclusively.\n",
      "sbatch: Single node jobs run on a shared node by default. Add --exclusive if you want to use a node exclusively.\n"
     ]
    },
    {
     "name": "stdout",
     "output_type": "stream",
     "text": [
      "Submitted batch job 242725\n",
      "Submitted batch job 242726\n",
      "Submitted batch job 242727\n",
      "Submitted batch job 242728\n",
      "Submitted batch job 242729\n"
     ]
    },
    {
     "name": "stderr",
     "output_type": "stream",
     "text": [
      "sbatch: Single node jobs run on a shared node by default. Add --exclusive if you want to use a node exclusively.\n",
      "sbatch: Single node jobs run on a shared node by default. Add --exclusive if you want to use a node exclusively.\n",
      "sbatch: Single node jobs run on a shared node by default. Add --exclusive if you want to use a node exclusively.\n",
      "sbatch: Single node jobs run on a shared node by default. Add --exclusive if you want to use a node exclusively.\n"
     ]
    },
    {
     "name": "stdout",
     "output_type": "stream",
     "text": [
      "Submitted batch job 242730\n",
      "Submitted batch job 242731\n",
      "Submitted batch job 242732\n",
      "Submitted batch job 242733\n"
     ]
    },
    {
     "name": "stderr",
     "output_type": "stream",
     "text": [
      "sbatch: Single node jobs run on a shared node by default. Add --exclusive if you want to use a node exclusively.\n",
      "sbatch: Single node jobs run on a shared node by default. Add --exclusive if you want to use a node exclusively.\n",
      "sbatch: Single node jobs run on a shared node by default. Add --exclusive if you want to use a node exclusively.\n",
      "sbatch: Single node jobs run on a shared node by default. Add --exclusive if you want to use a node exclusively.\n",
      "sbatch: Single node jobs run on a shared node by default. Add --exclusive if you want to use a node exclusively.\n"
     ]
    },
    {
     "name": "stdout",
     "output_type": "stream",
     "text": [
      "Submitted batch job 242734\n",
      "Submitted batch job 242735\n",
      "Submitted batch job 242736\n",
      "Submitted batch job 242737\n",
      "Submitted batch job 242738\n"
     ]
    },
    {
     "name": "stderr",
     "output_type": "stream",
     "text": [
      "sbatch: Single node jobs run on a shared node by default. Add --exclusive if you want to use a node exclusively.\n",
      "sbatch: Single node jobs run on a shared node by default. Add --exclusive if you want to use a node exclusively.\n",
      "sbatch: Single node jobs run on a shared node by default. Add --exclusive if you want to use a node exclusively.\n",
      "sbatch: Single node jobs run on a shared node by default. Add --exclusive if you want to use a node exclusively.\n",
      "sbatch: Single node jobs run on a shared node by default. Add --exclusive if you want to use a node exclusively.\n"
     ]
    },
    {
     "name": "stdout",
     "output_type": "stream",
     "text": [
      "Submitted batch job 242739\n",
      "Submitted batch job 242740\n",
      "Submitted batch job 242741\n",
      "Submitted batch job 242742\n",
      "Submitted batch job 242743\n"
     ]
    },
    {
     "name": "stderr",
     "output_type": "stream",
     "text": [
      "sbatch: Single node jobs run on a shared node by default. Add --exclusive if you want to use a node exclusively.\n"
     ]
    },
    {
     "name": "stdout",
     "output_type": "stream",
     "text": [
      "Submitted batch job 242744\n",
      "Submitted batch job 242745\n",
      "Submitted batch job 242746\n",
      "Submitted batch job 242747\n",
      "Submitted batch job 242748\n"
     ]
    },
    {
     "name": "stderr",
     "output_type": "stream",
     "text": [
      "sbatch: Single node jobs run on a shared node by default. Add --exclusive if you want to use a node exclusively.\n",
      "sbatch: Single node jobs run on a shared node by default. Add --exclusive if you want to use a node exclusively.\n",
      "sbatch: Single node jobs run on a shared node by default. Add --exclusive if you want to use a node exclusively.\n",
      "sbatch: Single node jobs run on a shared node by default. Add --exclusive if you want to use a node exclusively.\n",
      "sbatch: Single node jobs run on a shared node by default. Add --exclusive if you want to use a node exclusively.\n"
     ]
    },
    {
     "name": "stdout",
     "output_type": "stream",
     "text": [
      "Submitted batch job 242749\n"
     ]
    }
   ],
   "source": [
    "dir_drop = 'prince_data'\n",
    "run_parallel_transfer('toward_drop.py',[directory,dir_drop],folders,10,'10:00','staging',cpus = 1,node = 'staging')"
   ]
  },
  {
   "cell_type": "markdown",
   "metadata": {},
   "source": [
    "**To transfer data from dropbox to surfsara**\n",
    "- use the 'from_drop.py' function including the folders of interest\n"
   ]
  },
  {
   "cell_type": "code",
   "execution_count": 7,
   "metadata": {
    "collapsed": true,
    "jupyter": {
     "outputs_hidden": true
    },
    "tags": []
   },
   "outputs": [
    {
     "name": "stderr",
     "output_type": "stream",
     "text": [
      "sbatch: Single node jobs run on a shared node by default. Add --exclusive if you want to use a node exclusively.\n",
      "sbatch: Single node jobs run on a shared node by default. Add --exclusive if you want to use a node exclusively.\n",
      "sbatch: Single node jobs run on a shared node by default. Add --exclusive if you want to use a node exclusively.\n",
      "sbatch: Single node jobs run on a shared node by default. Add --exclusive if you want to use a node exclusively.\n",
      "sbatch: Single node jobs run on a shared node by default. Add --exclusive if you want to use a node exclusively.\n"
     ]
    },
    {
     "name": "stdout",
     "output_type": "stream",
     "text": [
      "Submitted batch job 242758\n",
      "Submitted batch job 242759\n",
      "Submitted batch job 242760\n",
      "Submitted batch job 242761\n",
      "Submitted batch job 242762\n"
     ]
    },
    {
     "name": "stderr",
     "output_type": "stream",
     "text": [
      "sbatch: Single node jobs run on a shared node by default. Add --exclusive if you want to use a node exclusively.\n",
      "sbatch: Single node jobs run on a shared node by default. Add --exclusive if you want to use a node exclusively.\n",
      "sbatch: Single node jobs run on a shared node by default. Add --exclusive if you want to use a node exclusively.\n",
      "sbatch: Single node jobs run on a shared node by default. Add --exclusive if you want to use a node exclusively.\n",
      "sbatch: Single node jobs run on a shared node by default. Add --exclusive if you want to use a node exclusively.\n"
     ]
    },
    {
     "name": "stdout",
     "output_type": "stream",
     "text": [
      "Submitted batch job 242763\n",
      "Submitted batch job 242764\n",
      "Submitted batch job 242765\n",
      "Submitted batch job 242766\n",
      "Submitted batch job 242767\n"
     ]
    },
    {
     "name": "stderr",
     "output_type": "stream",
     "text": [
      "sbatch: Single node jobs run on a shared node by default. Add --exclusive if you want to use a node exclusively.\n",
      "sbatch: Single node jobs run on a shared node by default. Add --exclusive if you want to use a node exclusively.\n",
      "sbatch: Single node jobs run on a shared node by default. Add --exclusive if you want to use a node exclusively.\n",
      "sbatch: Single node jobs run on a shared node by default. Add --exclusive if you want to use a node exclusively.\n"
     ]
    },
    {
     "name": "stdout",
     "output_type": "stream",
     "text": [
      "Submitted batch job 242768\n",
      "Submitted batch job 242769\n",
      "Submitted batch job 242770\n",
      "Submitted batch job 242771\n"
     ]
    },
    {
     "name": "stderr",
     "output_type": "stream",
     "text": [
      "sbatch: Single node jobs run on a shared node by default. Add --exclusive if you want to use a node exclusively.\n",
      "sbatch: Single node jobs run on a shared node by default. Add --exclusive if you want to use a node exclusively.\n",
      "sbatch: Single node jobs run on a shared node by default. Add --exclusive if you want to use a node exclusively.\n",
      "sbatch: Single node jobs run on a shared node by default. Add --exclusive if you want to use a node exclusively.\n"
     ]
    },
    {
     "name": "stdout",
     "output_type": "stream",
     "text": [
      "Submitted batch job 242772\n",
      "Submitted batch job 242773\n",
      "Submitted batch job 242774\n",
      "Submitted batch job 242775\n"
     ]
    },
    {
     "name": "stderr",
     "output_type": "stream",
     "text": [
      "sbatch: Single node jobs run on a shared node by default. Add --exclusive if you want to use a node exclusively.\n",
      "sbatch: Single node jobs run on a shared node by default. Add --exclusive if you want to use a node exclusively.\n",
      "sbatch: Single node jobs run on a shared node by default. Add --exclusive if you want to use a node exclusively.\n",
      "sbatch: Single node jobs run on a shared node by default. Add --exclusive if you want to use a node exclusively.\n",
      "sbatch: Single node jobs run on a shared node by default. Add --exclusive if you want to use a node exclusively.\n"
     ]
    },
    {
     "name": "stdout",
     "output_type": "stream",
     "text": [
      "Submitted batch job 242776\n",
      "Submitted batch job 242777\n",
      "Submitted batch job 242778\n",
      "Submitted batch job 242779\n",
      "Submitted batch job 242780\n"
     ]
    },
    {
     "name": "stderr",
     "output_type": "stream",
     "text": [
      "sbatch: Single node jobs run on a shared node by default. Add --exclusive if you want to use a node exclusively.\n",
      "sbatch: Single node jobs run on a shared node by default. Add --exclusive if you want to use a node exclusively.\n",
      "sbatch: Single node jobs run on a shared node by default. Add --exclusive if you want to use a node exclusively.\n",
      "sbatch: Single node jobs run on a shared node by default. Add --exclusive if you want to use a node exclusively.\n"
     ]
    },
    {
     "name": "stdout",
     "output_type": "stream",
     "text": [
      "Submitted batch job 242781\n",
      "Submitted batch job 242782\n",
      "Submitted batch job 242783\n",
      "Submitted batch job 242784\n"
     ]
    },
    {
     "name": "stderr",
     "output_type": "stream",
     "text": [
      "sbatch: Single node jobs run on a shared node by default. Add --exclusive if you want to use a node exclusively.\n",
      "sbatch: Single node jobs run on a shared node by default. Add --exclusive if you want to use a node exclusively.\n",
      "sbatch: Single node jobs run on a shared node by default. Add --exclusive if you want to use a node exclusively.\n",
      "sbatch: Single node jobs run on a shared node by default. Add --exclusive if you want to use a node exclusively.\n",
      "sbatch: Single node jobs run on a shared node by default. Add --exclusive if you want to use a node exclusively.\n"
     ]
    },
    {
     "name": "stdout",
     "output_type": "stream",
     "text": [
      "Submitted batch job 242785\n",
      "Submitted batch job 242786\n",
      "Submitted batch job 242787\n",
      "Submitted batch job 242788\n",
      "Submitted batch job 242789\n",
      "Submitted batch job 242790\n",
      "Submitted batch job 242791\n"
     ]
    },
    {
     "name": "stderr",
     "output_type": "stream",
     "text": [
      "sbatch: Single node jobs run on a shared node by default. Add --exclusive if you want to use a node exclusively.\n",
      "sbatch: Single node jobs run on a shared node by default. Add --exclusive if you want to use a node exclusively.\n"
     ]
    }
   ],
   "source": [
    "unzip = 'False'\n",
    "flatten = False\n",
    "run_parallel_transfer('from_drop.py',[directory_targ,dir_drop,unzip,flatten],folders,5,'10:00','staging',cpus = 1,node = 'staging')"
   ]
  },
  {
   "cell_type": "code",
   "execution_count": 12,
   "metadata": {},
   "outputs": [
    {
     "name": "stdout",
     "output_type": "stream",
     "text": [
      "Submitted batch job 242022\n"
     ]
    },
    {
     "name": "stderr",
     "output_type": "stream",
     "text": [
      "sbatch: Single node jobs run on a shared node by default. Add --exclusive if you want to use a node exclusively.\n"
     ]
    }
   ],
   "source": [
    "must_zip = True\n",
    "must_unzip = False\n",
    "run_parallel_transfer('within_surf.py',[directory,directory_targ,must_zip,must_unzip],folders,5,'10:00','staging',cpus = 1,node = 'staging')"
   ]
  },
  {
   "cell_type": "code",
   "execution_count": 7,
   "metadata": {},
   "outputs": [],
   "source": [
    "plates = set(folders['Plate'].values)"
   ]
  },
  {
   "cell_type": "code",
   "execution_count": 10,
   "metadata": {},
   "outputs": [
    {
     "name": "stderr",
     "output_type": "stream",
     "text": [
      "tar: /archive/cbisot/prince_data/94_20201123.tar: Cannot open: No such file or directory\n",
      "tar: Error is not recoverable: exiting now\n"
     ]
    },
    {
     "data": {
      "text/plain": [
       "2"
      ]
     },
     "execution_count": 10,
     "metadata": {},
     "output_type": "execute_result"
    }
   ],
   "source": [
    "call(f\"tar cvf /archive/cbisot/prince_data/94_20201123.tar {directory_targ}94_20201123*\", shell=True)"
   ]
  },
  {
   "cell_type": "code",
   "execution_count": null,
   "metadata": {},
   "outputs": [],
   "source": [
    "def transfer_parallel_whole_plate(code, args, folders, num_parallel, time, name,cpus = 128,node = 'thin'):\n",
    "    op_id = time_ns()\n",
    "    folders.to_json(f'{directory_scratch}temp/{op_id}.json')# temporary file\n",
    "    plates = set(folders['Plate'].values)\n",
    "    length = len(plates)\n",
    "    begin_skel = 0\n",
    "    end_skel = length // num_parallel + 1\n",
    "    args_str = [str(arg) for arg in args]\n",
    "    arg_str = \" \".join(args_str)\n",
    "    arg_str_out = \"_\".join([str(arg) for arg in args if type(arg)!=str])\n",
    "    for j in range(begin_skel, end_skel):\n",
    "        start = num_parallel * j\n",
    "        stop = num_parallel * j + num_parallel - 1\n",
    "        ide = time_ns()\n",
    "        my_file = open(path_job, \"w\")\n",
    "        my_file.write(\n",
    "            f\"#!/bin/bash \\n#Set job requirements \\n#SBATCH --nodes=1 \\n#SBATCH -t {time}\\n #SBATCH --ntask=1 \\n#SBATCH --cpus-per-task={cpus}\\n#SBATCH -p {node} \\n\"\n",
    "        )\n",
    "        my_file.write(\n",
    "            f'#SBATCH -o \"{path_code}slurm/{name}_{arg_str_out}_{start}_{stop}_{ide}.out\" \\n'\n",
    "        )\n",
    "        my_file.write(f\"source /home/cbisot/miniconda3/etc/profile.d/conda.sh\\n\")\n",
    "        my_file.write(f\"conda activate amftrack\\n\")\n",
    "        my_file.write(f\"for i in `seq {start} {stop}`; do\\n\")\n",
    "        my_file.write(f\"\\t python {path_code}amftrack/pipeline/scripts/image_processing/{code} {arg_str} {op_id} $i &\\n\")\n",
    "        my_file.write(\"done\\n\")\n",
    "        my_file.write(\"wait\\n\")\n",
    "        my_file.close()\n",
    "        call(f\"sbatch {path_job}\", shell=True)"
   ]
  },
  {
   "cell_type": "code",
   "execution_count": 8,
   "metadata": {},
   "outputs": [],
   "source": [
    "def run_parallel_transfer(code, args, folders, num_parallel, time, name,cpus = 1,node = 'staging',name_job='transfer.sh'):\n",
    "    path_job = f'{path_bash}{name_job}'\n",
    "    op_id = time_ns()\n",
    "    folders.to_json(f'{directory_scratch}temp/{op_id}.json')# temporary file\n",
    "    length = len(folders)\n",
    "    begin_skel = 0\n",
    "    end_skel = length // num_parallel + 1\n",
    "    args_str = [str(arg) for arg in args]\n",
    "    arg_str = \" \".join(args_str)\n",
    "    arg_str_out = \"_\".join([str(arg) for arg in args if type(arg)!=str])\n",
    "    for j in range(begin_skel, end_skel):\n",
    "        start = num_parallel * j\n",
    "        stop = num_parallel * j + num_parallel - 1\n",
    "        ide = time_ns()\n",
    "        my_file = open(path_job, \"w\")\n",
    "        my_file.write(\n",
    "            f\"#!/bin/bash \\n#Set job requirements \\n#SBATCH --nodes=1 \\n#SBATCH -t {time}\\n #SBATCH --ntask=1 \\n#SBATCH --cpus-per-task={cpus}\\n#SBATCH -p {node} \\n\"\n",
    "        )\n",
    "        my_file.write(\n",
    "            f'#SBATCH -o \"{path_code}slurm/{name}_{arg_str_out}_{start}_{stop}_{ide}.out\" \\n'\n",
    "        )\n",
    "        my_file.write(f\"source /home/cbisot/miniconda3/etc/profile.d/conda.sh\\n\")\n",
    "        my_file.write(f\"conda activate amftrack\\n\")\n",
    "        my_file.write(f\"for i in `seq {start} {stop}`; do\\n\")\n",
    "        my_file.write(f\"\\t python {path_code}amftrack/transfer/scripts/{code} {arg_str} {op_id} $i &\\n\")\n",
    "        my_file.write(\"done\\n\")\n",
    "        my_file.write(\"wait\\n\")\n",
    "        my_file.close()\n",
    "        call(f\"sbatch {path_job}\", shell=True)"
   ]
  }
 ],
 "metadata": {
  "kernelspec": {
   "display_name": "Python 3 (ipykernel)",
   "language": "python",
   "name": "python3"
  },
  "language_info": {
   "codemirror_mode": {
    "name": "ipython",
    "version": 3
   },
   "file_extension": ".py",
   "mimetype": "text/x-python",
   "name": "python",
   "nbconvert_exporter": "python",
   "pygments_lexer": "ipython3",
   "version": "3.9.7"
  }
 },
 "nbformat": 4,
 "nbformat_minor": 4
}

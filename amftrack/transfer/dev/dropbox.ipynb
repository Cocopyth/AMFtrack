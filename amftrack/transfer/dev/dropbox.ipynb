{
 "cells": [
  {
   "cell_type": "code",
   "execution_count": 1,
   "metadata": {},
   "outputs": [],
   "source": [
    "%matplotlib widget\n",
    "%load_ext autoreload\n",
    "%autoreload 2\n",
    "import os  \n",
    "import sys  \n",
    "sys.path.insert(0, os.getenv('HOME')+'/pycode/MscThesis/')\n",
    "# sys.path.insert(0,r'C:\\Users\\coren\\Documents\\PhD\\Code\\AMFtrack')\n",
    "\n",
    "import pandas as pd\n",
    "from amftrack.util import get_dates_datetime, get_dirname, get_data_info, update_plate_info, \\\n",
    "get_current_folders, get_folders_by_plate_id\n",
    "\n",
    "\n",
    "import ast\n",
    "from amftrack.plotutil import plot_t_tp1\n",
    "from scipy import sparse\n",
    "from datetime import datetime\n",
    "import pickle\n",
    "import scipy.io as sio\n",
    "from pymatreader import read_mat\n",
    "from matplotlib import colors\n",
    "import cv2\n",
    "import imageio\n",
    "import matplotlib.pyplot as plt\n",
    "import numpy as np\n",
    "from skimage.filters import frangi\n",
    "from skimage import filters\n",
    "from random import choice\n",
    "import scipy.sparse\n",
    "import os\n",
    "from amftrack.pipeline.functions.image_processing.extract_graph import from_sparse_to_graph, generate_nx_graph, sparse_to_doc\n",
    "from skimage.feature import hessian_matrix_det\n",
    "from amftrack.pipeline.functions.image_processing.experiment_class_surf import Experiment\n",
    "from amftrack.pipeline.paths.directory import run_parallel_transfer, find_state, directory_scratch, directory_project, directory_archive\n",
    "import dropbox\n",
    "from amftrack.transfer.functions.transfer import upload\n",
    "from subprocess import call"
   ]
  },
  {
   "cell_type": "code",
   "execution_count": 2,
   "metadata": {
    "tags": []
   },
   "outputs": [],
   "source": [
    "directory = directory_project\n",
    "# directory = '/run/user/357100554/gvfs/smb-share:server=sun.amolf.nl,share=shimizu-data,user=bisot/home-folder/oyartegalvez/Drive_AMFtopology/PRINCE/'\n",
    "\n",
    "# update_plate_info(directory)"
   ]
  },
  {
   "cell_type": "code",
   "execution_count": 3,
   "metadata": {},
   "outputs": [],
   "source": [
    "all_folders = get_current_folders(directory)\n",
    "folders = all_folders.loc[all_folders['Plate']==792]"
   ]
  },
  {
   "cell_type": "code",
   "execution_count": 4,
   "metadata": {
    "tags": []
   },
   "outputs": [
    {
     "data": {
      "text/html": [
       "<div>\n",
       "<style scoped>\n",
       "    .dataframe tbody tr th:only-of-type {\n",
       "        vertical-align: middle;\n",
       "    }\n",
       "\n",
       "    .dataframe tbody tr th {\n",
       "        vertical-align: top;\n",
       "    }\n",
       "\n",
       "    .dataframe thead th {\n",
       "        text-align: right;\n",
       "    }\n",
       "</style>\n",
       "<table border=\"1\" class=\"dataframe\">\n",
       "  <thead>\n",
       "    <tr style=\"text-align: right;\">\n",
       "      <th></th>\n",
       "      <th>total_path</th>\n",
       "      <th>Plate</th>\n",
       "      <th>PrincePos</th>\n",
       "      <th>root</th>\n",
       "      <th>strain</th>\n",
       "      <th>medium</th>\n",
       "      <th>split</th>\n",
       "      <th>Pbait</th>\n",
       "      <th>CrossDate</th>\n",
       "      <th>/Img/TileConfiguration.txt.registered</th>\n",
       "      <th>...</th>\n",
       "      <th>/Analysis/skeleton_pruned_compressed.mat</th>\n",
       "      <th>/Analysis/transform.mat</th>\n",
       "      <th>/Analysis/transform_corrupt.mat</th>\n",
       "      <th>/Analysis/skeleton_realigned_compressed.mat</th>\n",
       "      <th>/Analysis/nx_graph_pruned.p</th>\n",
       "      <th>/Analysis/nx_graph_pruned_width.p</th>\n",
       "      <th>/Analysis/nx_graph_pruned_labeled.p</th>\n",
       "      <th>date</th>\n",
       "      <th>folder</th>\n",
       "      <th>Temp</th>\n",
       "    </tr>\n",
       "  </thead>\n",
       "  <tbody>\n",
       "    <tr>\n",
       "      <th>5865</th>\n",
       "      <td>/projects/0/einf914/data/20210918_1729_Plate21</td>\n",
       "      <td>792</td>\n",
       "      <td>21</td>\n",
       "      <td>Carrot</td>\n",
       "      <td>A5</td>\n",
       "      <td>001P100N</td>\n",
       "      <td>Y</td>\n",
       "      <td>-</td>\n",
       "      <td>20210915</td>\n",
       "      <td>True</td>\n",
       "      <td>...</td>\n",
       "      <td>True</td>\n",
       "      <td>True</td>\n",
       "      <td>False</td>\n",
       "      <td>True</td>\n",
       "      <td>True</td>\n",
       "      <td>True</td>\n",
       "      <td>True</td>\n",
       "      <td>18.09.2021, 17:29:</td>\n",
       "      <td>20210918_1729_Plate21</td>\n",
       "      <td>NaN</td>\n",
       "    </tr>\n",
       "    <tr>\n",
       "      <th>5871</th>\n",
       "      <td>/projects/0/einf914/data/20210919_0129_Plate21</td>\n",
       "      <td>792</td>\n",
       "      <td>21</td>\n",
       "      <td>Carrot</td>\n",
       "      <td>A5</td>\n",
       "      <td>001P100N</td>\n",
       "      <td>Y</td>\n",
       "      <td>-</td>\n",
       "      <td>20210915</td>\n",
       "      <td>True</td>\n",
       "      <td>...</td>\n",
       "      <td>True</td>\n",
       "      <td>True</td>\n",
       "      <td>False</td>\n",
       "      <td>True</td>\n",
       "      <td>True</td>\n",
       "      <td>True</td>\n",
       "      <td>True</td>\n",
       "      <td>19.09.2021, 01:29:</td>\n",
       "      <td>20210919_0129_Plate21</td>\n",
       "      <td>NaN</td>\n",
       "    </tr>\n",
       "    <tr>\n",
       "      <th>5879</th>\n",
       "      <td>/projects/0/einf914/data/20211001_0323_Plate21</td>\n",
       "      <td>792</td>\n",
       "      <td>21</td>\n",
       "      <td>Carrot</td>\n",
       "      <td>A5</td>\n",
       "      <td>001P100N</td>\n",
       "      <td>Y</td>\n",
       "      <td>-</td>\n",
       "      <td>20210915</td>\n",
       "      <td>True</td>\n",
       "      <td>...</td>\n",
       "      <td>True</td>\n",
       "      <td>True</td>\n",
       "      <td>False</td>\n",
       "      <td>True</td>\n",
       "      <td>True</td>\n",
       "      <td>True</td>\n",
       "      <td>False</td>\n",
       "      <td>01.10.2021, 03:23:</td>\n",
       "      <td>20211001_0323_Plate21</td>\n",
       "      <td>NaN</td>\n",
       "    </tr>\n",
       "    <tr>\n",
       "      <th>5881</th>\n",
       "      <td>/projects/0/einf914/data/20210915_2318_Plate21</td>\n",
       "      <td>792</td>\n",
       "      <td>21</td>\n",
       "      <td>Carrot</td>\n",
       "      <td>A5</td>\n",
       "      <td>001P100N</td>\n",
       "      <td>Y</td>\n",
       "      <td>-</td>\n",
       "      <td>20210915</td>\n",
       "      <td>True</td>\n",
       "      <td>...</td>\n",
       "      <td>True</td>\n",
       "      <td>True</td>\n",
       "      <td>False</td>\n",
       "      <td>True</td>\n",
       "      <td>True</td>\n",
       "      <td>True</td>\n",
       "      <td>True</td>\n",
       "      <td>15.09.2021, 23:18:</td>\n",
       "      <td>20210915_2318_Plate21</td>\n",
       "      <td>NaN</td>\n",
       "    </tr>\n",
       "    <tr>\n",
       "      <th>5887</th>\n",
       "      <td>/projects/0/einf914/data/20210922_1320_Plate21</td>\n",
       "      <td>792</td>\n",
       "      <td>21</td>\n",
       "      <td>Carrot</td>\n",
       "      <td>A5</td>\n",
       "      <td>001P100N</td>\n",
       "      <td>Y</td>\n",
       "      <td>-</td>\n",
       "      <td>20210915</td>\n",
       "      <td>True</td>\n",
       "      <td>...</td>\n",
       "      <td>True</td>\n",
       "      <td>True</td>\n",
       "      <td>False</td>\n",
       "      <td>True</td>\n",
       "      <td>True</td>\n",
       "      <td>True</td>\n",
       "      <td>True</td>\n",
       "      <td>22.09.2021, 13:20:</td>\n",
       "      <td>20210922_1320_Plate21</td>\n",
       "      <td>NaN</td>\n",
       "    </tr>\n",
       "    <tr>\n",
       "      <th>...</th>\n",
       "      <td>...</td>\n",
       "      <td>...</td>\n",
       "      <td>...</td>\n",
       "      <td>...</td>\n",
       "      <td>...</td>\n",
       "      <td>...</td>\n",
       "      <td>...</td>\n",
       "      <td>...</td>\n",
       "      <td>...</td>\n",
       "      <td>...</td>\n",
       "      <td>...</td>\n",
       "      <td>...</td>\n",
       "      <td>...</td>\n",
       "      <td>...</td>\n",
       "      <td>...</td>\n",
       "      <td>...</td>\n",
       "      <td>...</td>\n",
       "      <td>...</td>\n",
       "      <td>...</td>\n",
       "      <td>...</td>\n",
       "      <td>...</td>\n",
       "    </tr>\n",
       "    <tr>\n",
       "      <th>7657</th>\n",
       "      <td>/projects/0/einf914/data/20210920_0329_Plate21</td>\n",
       "      <td>792</td>\n",
       "      <td>21</td>\n",
       "      <td>Carrot</td>\n",
       "      <td>A5</td>\n",
       "      <td>001P100N</td>\n",
       "      <td>Y</td>\n",
       "      <td>-</td>\n",
       "      <td>20210915</td>\n",
       "      <td>True</td>\n",
       "      <td>...</td>\n",
       "      <td>True</td>\n",
       "      <td>True</td>\n",
       "      <td>False</td>\n",
       "      <td>True</td>\n",
       "      <td>True</td>\n",
       "      <td>True</td>\n",
       "      <td>True</td>\n",
       "      <td>20.09.2021, 03:29:</td>\n",
       "      <td>20210920_0329_Plate21</td>\n",
       "      <td>NaN</td>\n",
       "    </tr>\n",
       "    <tr>\n",
       "      <th>7660</th>\n",
       "      <td>/projects/0/einf914/data/20211011_1353_Plate21</td>\n",
       "      <td>792</td>\n",
       "      <td>21</td>\n",
       "      <td>Carrot</td>\n",
       "      <td>A5</td>\n",
       "      <td>001P100N</td>\n",
       "      <td>Y</td>\n",
       "      <td>-</td>\n",
       "      <td>20210915</td>\n",
       "      <td>True</td>\n",
       "      <td>...</td>\n",
       "      <td>True</td>\n",
       "      <td>True</td>\n",
       "      <td>False</td>\n",
       "      <td>True</td>\n",
       "      <td>True</td>\n",
       "      <td>True</td>\n",
       "      <td>False</td>\n",
       "      <td>11.10.2021, 13:53:</td>\n",
       "      <td>20211011_1353_Plate21</td>\n",
       "      <td>NaN</td>\n",
       "    </tr>\n",
       "    <tr>\n",
       "      <th>7684</th>\n",
       "      <td>/projects/0/einf914/data/20210928_0308_Plate21</td>\n",
       "      <td>792</td>\n",
       "      <td>21</td>\n",
       "      <td>Carrot</td>\n",
       "      <td>A5</td>\n",
       "      <td>001P100N</td>\n",
       "      <td>Y</td>\n",
       "      <td>-</td>\n",
       "      <td>20210915</td>\n",
       "      <td>True</td>\n",
       "      <td>...</td>\n",
       "      <td>True</td>\n",
       "      <td>True</td>\n",
       "      <td>False</td>\n",
       "      <td>True</td>\n",
       "      <td>True</td>\n",
       "      <td>True</td>\n",
       "      <td>False</td>\n",
       "      <td>28.09.2021, 03:08:</td>\n",
       "      <td>20210928_0308_Plate21</td>\n",
       "      <td>NaN</td>\n",
       "    </tr>\n",
       "    <tr>\n",
       "      <th>7692</th>\n",
       "      <td>/projects/0/einf914/data/20210917_1318_Plate21</td>\n",
       "      <td>792</td>\n",
       "      <td>21</td>\n",
       "      <td>Carrot</td>\n",
       "      <td>A5</td>\n",
       "      <td>001P100N</td>\n",
       "      <td>Y</td>\n",
       "      <td>-</td>\n",
       "      <td>20210915</td>\n",
       "      <td>True</td>\n",
       "      <td>...</td>\n",
       "      <td>True</td>\n",
       "      <td>True</td>\n",
       "      <td>False</td>\n",
       "      <td>True</td>\n",
       "      <td>True</td>\n",
       "      <td>True</td>\n",
       "      <td>True</td>\n",
       "      <td>17.09.2021, 13:18:</td>\n",
       "      <td>20210917_1318_Plate21</td>\n",
       "      <td>NaN</td>\n",
       "    </tr>\n",
       "    <tr>\n",
       "      <th>7706</th>\n",
       "      <td>/projects/0/einf914/data/20210917_0118_Plate21</td>\n",
       "      <td>792</td>\n",
       "      <td>21</td>\n",
       "      <td>Carrot</td>\n",
       "      <td>A5</td>\n",
       "      <td>001P100N</td>\n",
       "      <td>Y</td>\n",
       "      <td>-</td>\n",
       "      <td>20210915</td>\n",
       "      <td>True</td>\n",
       "      <td>...</td>\n",
       "      <td>True</td>\n",
       "      <td>True</td>\n",
       "      <td>False</td>\n",
       "      <td>True</td>\n",
       "      <td>True</td>\n",
       "      <td>True</td>\n",
       "      <td>True</td>\n",
       "      <td>17.09.2021, 01:18:</td>\n",
       "      <td>20210917_0118_Plate21</td>\n",
       "      <td>NaN</td>\n",
       "    </tr>\n",
       "  </tbody>\n",
       "</table>\n",
       "<p>149 rows × 22 columns</p>\n",
       "</div>"
      ],
      "text/plain": [
       "                                          total_path Plate PrincePos    root  \\\n",
       "5865  /projects/0/einf914/data/20210918_1729_Plate21   792        21  Carrot   \n",
       "5871  /projects/0/einf914/data/20210919_0129_Plate21   792        21  Carrot   \n",
       "5879  /projects/0/einf914/data/20211001_0323_Plate21   792        21  Carrot   \n",
       "5881  /projects/0/einf914/data/20210915_2318_Plate21   792        21  Carrot   \n",
       "5887  /projects/0/einf914/data/20210922_1320_Plate21   792        21  Carrot   \n",
       "...                                              ...   ...       ...     ...   \n",
       "7657  /projects/0/einf914/data/20210920_0329_Plate21   792        21  Carrot   \n",
       "7660  /projects/0/einf914/data/20211011_1353_Plate21   792        21  Carrot   \n",
       "7684  /projects/0/einf914/data/20210928_0308_Plate21   792        21  Carrot   \n",
       "7692  /projects/0/einf914/data/20210917_1318_Plate21   792        21  Carrot   \n",
       "7706  /projects/0/einf914/data/20210917_0118_Plate21   792        21  Carrot   \n",
       "\n",
       "     strain    medium split Pbait CrossDate  \\\n",
       "5865     A5  001P100N     Y     -  20210915   \n",
       "5871     A5  001P100N     Y     -  20210915   \n",
       "5879     A5  001P100N     Y     -  20210915   \n",
       "5881     A5  001P100N     Y     -  20210915   \n",
       "5887     A5  001P100N     Y     -  20210915   \n",
       "...     ...       ...   ...   ...       ...   \n",
       "7657     A5  001P100N     Y     -  20210915   \n",
       "7660     A5  001P100N     Y     -  20210915   \n",
       "7684     A5  001P100N     Y     -  20210915   \n",
       "7692     A5  001P100N     Y     -  20210915   \n",
       "7706     A5  001P100N     Y     -  20210915   \n",
       "\n",
       "     /Img/TileConfiguration.txt.registered  ...  \\\n",
       "5865                                  True  ...   \n",
       "5871                                  True  ...   \n",
       "5879                                  True  ...   \n",
       "5881                                  True  ...   \n",
       "5887                                  True  ...   \n",
       "...                                    ...  ...   \n",
       "7657                                  True  ...   \n",
       "7660                                  True  ...   \n",
       "7684                                  True  ...   \n",
       "7692                                  True  ...   \n",
       "7706                                  True  ...   \n",
       "\n",
       "     /Analysis/skeleton_pruned_compressed.mat /Analysis/transform.mat  \\\n",
       "5865                                     True                    True   \n",
       "5871                                     True                    True   \n",
       "5879                                     True                    True   \n",
       "5881                                     True                    True   \n",
       "5887                                     True                    True   \n",
       "...                                       ...                     ...   \n",
       "7657                                     True                    True   \n",
       "7660                                     True                    True   \n",
       "7684                                     True                    True   \n",
       "7692                                     True                    True   \n",
       "7706                                     True                    True   \n",
       "\n",
       "     /Analysis/transform_corrupt.mat  \\\n",
       "5865                           False   \n",
       "5871                           False   \n",
       "5879                           False   \n",
       "5881                           False   \n",
       "5887                           False   \n",
       "...                              ...   \n",
       "7657                           False   \n",
       "7660                           False   \n",
       "7684                           False   \n",
       "7692                           False   \n",
       "7706                           False   \n",
       "\n",
       "     /Analysis/skeleton_realigned_compressed.mat /Analysis/nx_graph_pruned.p  \\\n",
       "5865                                        True                        True   \n",
       "5871                                        True                        True   \n",
       "5879                                        True                        True   \n",
       "5881                                        True                        True   \n",
       "5887                                        True                        True   \n",
       "...                                          ...                         ...   \n",
       "7657                                        True                        True   \n",
       "7660                                        True                        True   \n",
       "7684                                        True                        True   \n",
       "7692                                        True                        True   \n",
       "7706                                        True                        True   \n",
       "\n",
       "     /Analysis/nx_graph_pruned_width.p /Analysis/nx_graph_pruned_labeled.p  \\\n",
       "5865                              True                                True   \n",
       "5871                              True                                True   \n",
       "5879                              True                               False   \n",
       "5881                              True                                True   \n",
       "5887                              True                                True   \n",
       "...                                ...                                 ...   \n",
       "7657                              True                                True   \n",
       "7660                              True                               False   \n",
       "7684                              True                               False   \n",
       "7692                              True                                True   \n",
       "7706                              True                                True   \n",
       "\n",
       "                    date                 folder Temp  \n",
       "5865  18.09.2021, 17:29:  20210918_1729_Plate21  NaN  \n",
       "5871  19.09.2021, 01:29:  20210919_0129_Plate21  NaN  \n",
       "5879  01.10.2021, 03:23:  20211001_0323_Plate21  NaN  \n",
       "5881  15.09.2021, 23:18:  20210915_2318_Plate21  NaN  \n",
       "5887  22.09.2021, 13:20:  20210922_1320_Plate21  NaN  \n",
       "...                  ...                    ...  ...  \n",
       "7657  20.09.2021, 03:29:  20210920_0329_Plate21  NaN  \n",
       "7660  11.10.2021, 13:53:  20211011_1353_Plate21  NaN  \n",
       "7684  28.09.2021, 03:08:  20210928_0308_Plate21  NaN  \n",
       "7692  17.09.2021, 13:18:  20210917_1318_Plate21  NaN  \n",
       "7706  17.09.2021, 01:18:  20210917_0118_Plate21  NaN  \n",
       "\n",
       "[149 rows x 22 columns]"
      ]
     },
     "execution_count": 4,
     "metadata": {},
     "output_type": "execute_result"
    }
   ],
   "source": [
    "folders"
   ]
  },
  {
   "cell_type": "code",
   "execution_count": 8,
   "metadata": {},
   "outputs": [],
   "source": [
    "directory_targ = os.path.join(directory_scratch,'temp')+'/'\n",
    "# directory_targ = os.path.join(directory_archive,'Prince_Data')+'/'\n"
   ]
  },
  {
   "cell_type": "markdown",
   "metadata": {},
   "source": [
    "**To transfer data from surfsara to dropbox**\n",
    "- use the 'toward_drop.py' function including the folders of interest and using dir_drop as a parameter indicating where in dropbox the data should go\n"
   ]
  },
  {
   "cell_type": "code",
   "execution_count": 7,
   "metadata": {
    "collapsed": true,
    "jupyter": {
     "outputs_hidden": true
    },
    "tags": []
   },
   "outputs": [
    {
     "name": "stderr",
     "output_type": "stream",
     "text": [
      "sbatch: Single node jobs run on a shared node by default. Add --exclusive if you want to use a node exclusively.\n",
      "sbatch: Single node jobs run on a shared node by default. Add --exclusive if you want to use a node exclusively.\n",
      "sbatch: Single node jobs run on a shared node by default. Add --exclusive if you want to use a node exclusively.\n",
      "sbatch: Single node jobs run on a shared node by default. Add --exclusive if you want to use a node exclusively.\n"
     ]
    },
    {
     "name": "stdout",
     "output_type": "stream",
     "text": [
      "Submitted batch job 248354\n",
      "Submitted batch job 248355\n",
      "Submitted batch job 248356\n",
      "Submitted batch job 248357\n"
     ]
    },
    {
     "name": "stderr",
     "output_type": "stream",
     "text": [
      "sbatch: Single node jobs run on a shared node by default. Add --exclusive if you want to use a node exclusively.\n",
      "sbatch: Single node jobs run on a shared node by default. Add --exclusive if you want to use a node exclusively.\n",
      "sbatch: Single node jobs run on a shared node by default. Add --exclusive if you want to use a node exclusively.\n",
      "sbatch: Single node jobs run on a shared node by default. Add --exclusive if you want to use a node exclusively.\n"
     ]
    },
    {
     "name": "stdout",
     "output_type": "stream",
     "text": [
      "Submitted batch job 248358\n",
      "Submitted batch job 248359\n",
      "Submitted batch job 248360\n",
      "Submitted batch job 248361\n",
      "Submitted batch job 248362\n",
      "Submitted batch job 248363\n",
      "Submitted batch job 248364\n",
      "Submitted batch job 248365\n",
      "Submitted batch job 248366\n"
     ]
    },
    {
     "name": "stderr",
     "output_type": "stream",
     "text": [
      "sbatch: Single node jobs run on a shared node by default. Add --exclusive if you want to use a node exclusively.\n",
      "sbatch: Single node jobs run on a shared node by default. Add --exclusive if you want to use a node exclusively.\n",
      "sbatch: Single node jobs run on a shared node by default. Add --exclusive if you want to use a node exclusively.\n",
      "sbatch: Single node jobs run on a shared node by default. Add --exclusive if you want to use a node exclusively.\n",
      "sbatch: Single node jobs run on a shared node by default. Add --exclusive if you want to use a node exclusively.\n"
     ]
    },
    {
     "name": "stdout",
     "output_type": "stream",
     "text": [
      "Submitted batch job 248367\n",
      "Submitted batch job 248368\n",
      "Submitted batch job 248369\n",
      "Submitted batch job 248370\n",
      "Submitted batch job 248371\n"
     ]
    },
    {
     "name": "stderr",
     "output_type": "stream",
     "text": [
      "sbatch: Single node jobs run on a shared node by default. Add --exclusive if you want to use a node exclusively.\n",
      "sbatch: Single node jobs run on a shared node by default. Add --exclusive if you want to use a node exclusively.\n",
      "sbatch: Single node jobs run on a shared node by default. Add --exclusive if you want to use a node exclusively.\n",
      "sbatch: Single node jobs run on a shared node by default. Add --exclusive if you want to use a node exclusively.\n",
      "sbatch: Single node jobs run on a shared node by default. Add --exclusive if you want to use a node exclusively.\n",
      "sbatch: Single node jobs run on a shared node by default. Add --exclusive if you want to use a node exclusively.\n",
      "sbatch: Single node jobs run on a shared node by default. Add --exclusive if you want to use a node exclusively.\n",
      "sbatch: Single node jobs run on a shared node by default. Add --exclusive if you want to use a node exclusively.\n",
      "sbatch: Single node jobs run on a shared node by default. Add --exclusive if you want to use a node exclusively.\n",
      "sbatch: Single node jobs run on a shared node by default. Add --exclusive if you want to use a node exclusively.\n"
     ]
    },
    {
     "name": "stdout",
     "output_type": "stream",
     "text": [
      "Submitted batch job 248372\n",
      "Submitted batch job 248373\n",
      "Submitted batch job 248374\n",
      "Submitted batch job 248375\n",
      "Submitted batch job 248376\n"
     ]
    },
    {
     "name": "stderr",
     "output_type": "stream",
     "text": [
      "sbatch: Single node jobs run on a shared node by default. Add --exclusive if you want to use a node exclusively.\n",
      "sbatch: Single node jobs run on a shared node by default. Add --exclusive if you want to use a node exclusively.\n",
      "sbatch: Single node jobs run on a shared node by default. Add --exclusive if you want to use a node exclusively.\n",
      "sbatch: Single node jobs run on a shared node by default. Add --exclusive if you want to use a node exclusively.\n"
     ]
    },
    {
     "name": "stdout",
     "output_type": "stream",
     "text": [
      "Submitted batch job 248377\n",
      "Submitted batch job 248378\n",
      "Submitted batch job 248379\n",
      "Submitted batch job 248380\n",
      "Submitted batch job 248381\n",
      "Submitted batch job 248382\n",
      "Submitted batch job 248383\n"
     ]
    },
    {
     "name": "stderr",
     "output_type": "stream",
     "text": [
      "sbatch: Single node jobs run on a shared node by default. Add --exclusive if you want to use a node exclusively.\n",
      "sbatch: Single node jobs run on a shared node by default. Add --exclusive if you want to use a node exclusively.\n",
      "sbatch: Single node jobs run on a shared node by default. Add --exclusive if you want to use a node exclusively.\n"
     ]
    }
   ],
   "source": [
    "dir_drop = 'prince_data'\n",
    "run_parallel_transfer('toward_drop.py',[directory,dir_drop],folders,5,'20:00','staging',cpus = 1,node = 'staging')"
   ]
  },
  {
   "cell_type": "markdown",
   "metadata": {},
   "source": [
    "**To transfer data from dropbox to surfsara**\n",
    "- use the 'from_drop.py' function including the folders of interest\n",
    "- unzip argument decides if folders must also be unzipped\n",
    "- flatten argument decides if folders must be flatten to respect snellius paralell computing logic or kept in a folder for transfer to archive for example"
   ]
  },
  {
   "cell_type": "code",
   "execution_count": 9,
   "metadata": {
    "collapsed": true,
    "jupyter": {
     "outputs_hidden": true
    },
    "tags": []
   },
   "outputs": [
    {
     "name": "stderr",
     "output_type": "stream",
     "text": [
      "sbatch: Single node jobs run on a shared node by default. Add --exclusive if you want to use a node exclusively.\n",
      "sbatch: Single node jobs run on a shared node by default. Add --exclusive if you want to use a node exclusively.\n",
      "sbatch: Single node jobs run on a shared node by default. Add --exclusive if you want to use a node exclusively.\n",
      "sbatch: Single node jobs run on a shared node by default. Add --exclusive if you want to use a node exclusively.\n",
      "sbatch: Single node jobs run on a shared node by default. Add --exclusive if you want to use a node exclusively.\n"
     ]
    },
    {
     "name": "stdout",
     "output_type": "stream",
     "text": [
      "Submitted batch job 248438\n",
      "Submitted batch job 248439\n",
      "Submitted batch job 248440\n",
      "Submitted batch job 248441\n",
      "Submitted batch job 248442\n",
      "Submitted batch job 248443\n",
      "Submitted batch job 248444\n",
      "Submitted batch job 248445\n",
      "Submitted batch job 248446\n",
      "Submitted batch job 248447\n"
     ]
    },
    {
     "name": "stderr",
     "output_type": "stream",
     "text": [
      "sbatch: Single node jobs run on a shared node by default. Add --exclusive if you want to use a node exclusively.\n",
      "sbatch: Single node jobs run on a shared node by default. Add --exclusive if you want to use a node exclusively.\n",
      "sbatch: Single node jobs run on a shared node by default. Add --exclusive if you want to use a node exclusively.\n",
      "sbatch: Single node jobs run on a shared node by default. Add --exclusive if you want to use a node exclusively.\n",
      "sbatch: Single node jobs run on a shared node by default. Add --exclusive if you want to use a node exclusively.\n",
      "sbatch: Single node jobs run on a shared node by default. Add --exclusive if you want to use a node exclusively.\n",
      "sbatch: Single node jobs run on a shared node by default. Add --exclusive if you want to use a node exclusively.\n",
      "sbatch: Single node jobs run on a shared node by default. Add --exclusive if you want to use a node exclusively.\n",
      "sbatch: Single node jobs run on a shared node by default. Add --exclusive if you want to use a node exclusively.\n"
     ]
    },
    {
     "name": "stdout",
     "output_type": "stream",
     "text": [
      "Submitted batch job 248448\n",
      "Submitted batch job 248449\n",
      "Submitted batch job 248450\n",
      "Submitted batch job 248451\n"
     ]
    },
    {
     "name": "stderr",
     "output_type": "stream",
     "text": [
      "sbatch: Single node jobs run on a shared node by default. Add --exclusive if you want to use a node exclusively.\n",
      "sbatch: Single node jobs run on a shared node by default. Add --exclusive if you want to use a node exclusively.\n",
      "sbatch: Single node jobs run on a shared node by default. Add --exclusive if you want to use a node exclusively.\n",
      "sbatch: Single node jobs run on a shared node by default. Add --exclusive if you want to use a node exclusively.\n"
     ]
    },
    {
     "name": "stdout",
     "output_type": "stream",
     "text": [
      "Submitted batch job 248452\n",
      "Submitted batch job 248453\n",
      "Submitted batch job 248454\n",
      "Submitted batch job 248455\n",
      "Submitted batch job 248456\n",
      "Submitted batch job 248457\n",
      "Submitted batch job 248458\n",
      "Submitted batch job 248459\n"
     ]
    },
    {
     "name": "stderr",
     "output_type": "stream",
     "text": [
      "sbatch: Single node jobs run on a shared node by default. Add --exclusive if you want to use a node exclusively.\n",
      "sbatch: Single node jobs run on a shared node by default. Add --exclusive if you want to use a node exclusively.\n",
      "sbatch: Single node jobs run on a shared node by default. Add --exclusive if you want to use a node exclusively.\n",
      "sbatch: Single node jobs run on a shared node by default. Add --exclusive if you want to use a node exclusively.\n"
     ]
    },
    {
     "name": "stdout",
     "output_type": "stream",
     "text": [
      "Submitted batch job 248460\n",
      "Submitted batch job 248461\n",
      "Submitted batch job 248462\n",
      "Submitted batch job 248463\n"
     ]
    },
    {
     "name": "stderr",
     "output_type": "stream",
     "text": [
      "sbatch: Single node jobs run on a shared node by default. Add --exclusive if you want to use a node exclusively.\n",
      "sbatch: Single node jobs run on a shared node by default. Add --exclusive if you want to use a node exclusively.\n",
      "sbatch: Single node jobs run on a shared node by default. Add --exclusive if you want to use a node exclusively.\n",
      "sbatch: Single node jobs run on a shared node by default. Add --exclusive if you want to use a node exclusively.\n"
     ]
    },
    {
     "name": "stdout",
     "output_type": "stream",
     "text": [
      "Submitted batch job 248464\n",
      "Submitted batch job 248465\n",
      "Submitted batch job 248466\n",
      "Submitted batch job 248467\n"
     ]
    },
    {
     "name": "stderr",
     "output_type": "stream",
     "text": [
      "sbatch: Single node jobs run on a shared node by default. Add --exclusive if you want to use a node exclusively.\n",
      "sbatch: Single node jobs run on a shared node by default. Add --exclusive if you want to use a node exclusively.\n",
      "sbatch: Single node jobs run on a shared node by default. Add --exclusive if you want to use a node exclusively.\n",
      "sbatch: Single node jobs run on a shared node by default. Add --exclusive if you want to use a node exclusively.\n"
     ]
    }
   ],
   "source": [
    "unzip = 'False'\n",
    "flatten = False\n",
    "run_parallel_transfer('from_drop.py',[directory_targ,dir_drop,unzip,flatten],folders,5,'10:00','staging',cpus = 1,node = 'staging')"
   ]
  },
  {
   "cell_type": "markdown",
   "metadata": {},
   "source": [
    "**To transfer data from dropbox to archive**\n",
    "- use the 'from_drop.py' function including the folders of interest\n"
   ]
  },
  {
   "cell_type": "code",
   "execution_count": 44,
   "metadata": {},
   "outputs": [],
   "source": [
    "folders = all_folders.loc[all_folders['Plate'].isin([792,94])]"
   ]
  },
  {
   "cell_type": "code",
   "execution_count": 45,
   "metadata": {
    "collapsed": true,
    "jupyter": {
     "outputs_hidden": true
    },
    "tags": []
   },
   "outputs": [
    {
     "name": "stdout",
     "output_type": "stream",
     "text": [
      "Submitted batch job 248604\n",
      "Submitted batch job 248605\n",
      "Submitted batch job 248606\n",
      "Submitted batch job 248607\n",
      "Submitted batch job 248608\n"
     ]
    },
    {
     "name": "stderr",
     "output_type": "stream",
     "text": [
      "sbatch: Single node jobs run on a shared node by default. Add --exclusive if you want to use a node exclusively.\n",
      "sbatch: Single node jobs run on a shared node by default. Add --exclusive if you want to use a node exclusively.\n",
      "sbatch: Single node jobs run on a shared node by default. Add --exclusive if you want to use a node exclusively.\n",
      "sbatch: Single node jobs run on a shared node by default. Add --exclusive if you want to use a node exclusively.\n",
      "sbatch: Single node jobs run on a shared node by default. Add --exclusive if you want to use a node exclusively.\n",
      "sbatch: Single node jobs run on a shared node by default. Add --exclusive if you want to use a node exclusively.\n",
      "sbatch: Single node jobs run on a shared node by default. Add --exclusive if you want to use a node exclusively.\n",
      "sbatch: Single node jobs run on a shared node by default. Add --exclusive if you want to use a node exclusively.\n",
      "sbatch: Single node jobs run on a shared node by default. Add --exclusive if you want to use a node exclusively.\n"
     ]
    },
    {
     "name": "stdout",
     "output_type": "stream",
     "text": [
      "Submitted batch job 248609\n",
      "Submitted batch job 248610\n",
      "Submitted batch job 248611\n",
      "Submitted batch job 248612\n",
      "Submitted batch job 248613\n"
     ]
    },
    {
     "name": "stderr",
     "output_type": "stream",
     "text": [
      "sbatch: Single node jobs run on a shared node by default. Add --exclusive if you want to use a node exclusively.\n",
      "sbatch: Single node jobs run on a shared node by default. Add --exclusive if you want to use a node exclusively.\n",
      "sbatch: Single node jobs run on a shared node by default. Add --exclusive if you want to use a node exclusively.\n",
      "sbatch: Single node jobs run on a shared node by default. Add --exclusive if you want to use a node exclusively.\n",
      "sbatch: Single node jobs run on a shared node by default. Add --exclusive if you want to use a node exclusively.\n"
     ]
    },
    {
     "name": "stdout",
     "output_type": "stream",
     "text": [
      "Submitted batch job 248614\n",
      "Submitted batch job 248615\n",
      "Submitted batch job 248616\n",
      "Submitted batch job 248617\n"
     ]
    },
    {
     "name": "stderr",
     "output_type": "stream",
     "text": [
      "sbatch: Single node jobs run on a shared node by default. Add --exclusive if you want to use a node exclusively.\n",
      "sbatch: Single node jobs run on a shared node by default. Add --exclusive if you want to use a node exclusively.\n",
      "sbatch: Single node jobs run on a shared node by default. Add --exclusive if you want to use a node exclusively.\n",
      "sbatch: Single node jobs run on a shared node by default. Add --exclusive if you want to use a node exclusively.\n"
     ]
    },
    {
     "name": "stdout",
     "output_type": "stream",
     "text": [
      "Submitted batch job 248618\n",
      "Submitted batch job 248619\n",
      "Submitted batch job 248620\n",
      "Submitted batch job 248621\n",
      "Submitted batch job 248622\n",
      "Submitted batch job 248623\n",
      "Submitted batch job 248624\n",
      "Submitted batch job 248625\n"
     ]
    },
    {
     "name": "stderr",
     "output_type": "stream",
     "text": [
      "sbatch: Single node jobs run on a shared node by default. Add --exclusive if you want to use a node exclusively.\n",
      "sbatch: Single node jobs run on a shared node by default. Add --exclusive if you want to use a node exclusively.\n",
      "sbatch: Single node jobs run on a shared node by default. Add --exclusive if you want to use a node exclusively.\n",
      "sbatch: Single node jobs run on a shared node by default. Add --exclusive if you want to use a node exclusively.\n"
     ]
    },
    {
     "name": "stdout",
     "output_type": "stream",
     "text": [
      "Submitted batch job 248626\n",
      "Submitted batch job 248627\n",
      "Submitted batch job 248628\n",
      "Submitted batch job 248629\n",
      "Submitted batch job 248630\n"
     ]
    },
    {
     "name": "stderr",
     "output_type": "stream",
     "text": [
      "sbatch: Single node jobs run on a shared node by default. Add --exclusive if you want to use a node exclusively.\n",
      "sbatch: Single node jobs run on a shared node by default. Add --exclusive if you want to use a node exclusively.\n",
      "sbatch: Single node jobs run on a shared node by default. Add --exclusive if you want to use a node exclusively.\n",
      "sbatch: Single node jobs run on a shared node by default. Add --exclusive if you want to use a node exclusively.\n",
      "sbatch: Single node jobs run on a shared node by default. Add --exclusive if you want to use a node exclusively.\n"
     ]
    },
    {
     "name": "stdout",
     "output_type": "stream",
     "text": [
      "Submitted batch job 248631\n",
      "Submitted batch job 248632\n",
      "Submitted batch job 248633\n",
      "Submitted batch job 248634\n"
     ]
    },
    {
     "name": "stderr",
     "output_type": "stream",
     "text": [
      "sbatch: Single node jobs run on a shared node by default. Add --exclusive if you want to use a node exclusively.\n",
      "sbatch: Single node jobs run on a shared node by default. Add --exclusive if you want to use a node exclusively.\n",
      "sbatch: Single node jobs run on a shared node by default. Add --exclusive if you want to use a node exclusively.\n",
      "sbatch: Single node jobs run on a shared node by default. Add --exclusive if you want to use a node exclusively.\n",
      "sbatch: Single node jobs run on a shared node by default. Add --exclusive if you want to use a node exclusively.\n",
      "sbatch: Single node jobs run on a shared node by default. Add --exclusive if you want to use a node exclusively.\n",
      "sbatch: Single node jobs run on a shared node by default. Add --exclusive if you want to use a node exclusively.\n",
      "sbatch: Single node jobs run on a shared node by default. Add --exclusive if you want to use a node exclusively.\n"
     ]
    },
    {
     "name": "stdout",
     "output_type": "stream",
     "text": [
      "Submitted batch job 248635\n",
      "Submitted batch job 248636\n",
      "Submitted batch job 248637\n",
      "Submitted batch job 248638\n",
      "Submitted batch job 248639\n",
      "Submitted batch job 248640\n",
      "Submitted batch job 248641\n",
      "Submitted batch job 248642\n"
     ]
    },
    {
     "name": "stderr",
     "output_type": "stream",
     "text": [
      "sbatch: Single node jobs run on a shared node by default. Add --exclusive if you want to use a node exclusively.\n",
      "sbatch: Single node jobs run on a shared node by default. Add --exclusive if you want to use a node exclusively.\n",
      "sbatch: Single node jobs run on a shared node by default. Add --exclusive if you want to use a node exclusively.\n",
      "sbatch: Single node jobs run on a shared node by default. Add --exclusive if you want to use a node exclusively.\n",
      "sbatch: Single node jobs run on a shared node by default. Add --exclusive if you want to use a node exclusively.\n",
      "sbatch: Single node jobs run on a shared node by default. Add --exclusive if you want to use a node exclusively.\n",
      "sbatch: Single node jobs run on a shared node by default. Add --exclusive if you want to use a node exclusively.\n",
      "sbatch: Single node jobs run on a shared node by default. Add --exclusive if you want to use a node exclusively.\n",
      "sbatch: Single node jobs run on a shared node by default. Add --exclusive if you want to use a node exclusively.\n"
     ]
    },
    {
     "name": "stdout",
     "output_type": "stream",
     "text": [
      "Submitted batch job 248643\n",
      "Submitted batch job 248644\n",
      "Submitted batch job 248645\n",
      "Submitted batch job 248646\n",
      "Submitted batch job 248647\n"
     ]
    },
    {
     "name": "stderr",
     "output_type": "stream",
     "text": [
      "sbatch: Single node jobs run on a shared node by default. Add --exclusive if you want to use a node exclusively.\n",
      "sbatch: Single node jobs run on a shared node by default. Add --exclusive if you want to use a node exclusively.\n",
      "sbatch: Single node jobs run on a shared node by default. Add --exclusive if you want to use a node exclusively.\n"
     ]
    },
    {
     "name": "stdout",
     "output_type": "stream",
     "text": [
      "Submitted batch job 248648\n",
      "Submitted batch job 248649\n",
      "Submitted batch job 248650\n",
      "Submitted batch job 248651\n"
     ]
    },
    {
     "name": "stderr",
     "output_type": "stream",
     "text": [
      "sbatch: Single node jobs run on a shared node by default. Add --exclusive if you want to use a node exclusively.\n",
      "sbatch: Single node jobs run on a shared node by default. Add --exclusive if you want to use a node exclusively.\n",
      "sbatch: Single node jobs run on a shared node by default. Add --exclusive if you want to use a node exclusively.\n",
      "sbatch: Single node jobs run on a shared node by default. Add --exclusive if you want to use a node exclusively.\n"
     ]
    },
    {
     "name": "stdout",
     "output_type": "stream",
     "text": [
      "Submitted batch job 248652\n",
      "Submitted batch job 248653\n",
      "Submitted batch job 248654\n",
      "Submitted batch job 248655\n"
     ]
    },
    {
     "name": "stderr",
     "output_type": "stream",
     "text": [
      "sbatch: Single node jobs run on a shared node by default. Add --exclusive if you want to use a node exclusively.\n",
      "sbatch: Single node jobs run on a shared node by default. Add --exclusive if you want to use a node exclusively.\n",
      "sbatch: Single node jobs run on a shared node by default. Add --exclusive if you want to use a node exclusively.\n",
      "sbatch: Single node jobs run on a shared node by default. Add --exclusive if you want to use a node exclusively.\n"
     ]
    },
    {
     "name": "stdout",
     "output_type": "stream",
     "text": [
      "Submitted batch job 248656\n",
      "Submitted batch job 248657\n",
      "Submitted batch job 248658\n",
      "Submitted batch job 248659\n"
     ]
    },
    {
     "name": "stderr",
     "output_type": "stream",
     "text": [
      "sbatch: Single node jobs run on a shared node by default. Add --exclusive if you want to use a node exclusively.\n",
      "sbatch: Single node jobs run on a shared node by default. Add --exclusive if you want to use a node exclusively.\n",
      "sbatch: Single node jobs run on a shared node by default. Add --exclusive if you want to use a node exclusively.\n",
      "sbatch: Single node jobs run on a shared node by default. Add --exclusive if you want to use a node exclusively.\n"
     ]
    },
    {
     "name": "stdout",
     "output_type": "stream",
     "text": [
      "Submitted batch job 248660\n",
      "Submitted batch job 248661\n",
      "Submitted batch job 248662\n",
      "Submitted batch job 248663\n"
     ]
    },
    {
     "name": "stderr",
     "output_type": "stream",
     "text": [
      "sbatch: Single node jobs run on a shared node by default. Add --exclusive if you want to use a node exclusively.\n",
      "sbatch: Single node jobs run on a shared node by default. Add --exclusive if you want to use a node exclusively.\n",
      "sbatch: Single node jobs run on a shared node by default. Add --exclusive if you want to use a node exclusively.\n",
      "sbatch: Single node jobs run on a shared node by default. Add --exclusive if you want to use a node exclusively.\n"
     ]
    },
    {
     "name": "stdout",
     "output_type": "stream",
     "text": [
      "Submitted batch job 248664\n",
      "Submitted batch job 248665\n",
      "Submitted batch job 248666\n",
      "Submitted batch job 248667\n"
     ]
    },
    {
     "name": "stderr",
     "output_type": "stream",
     "text": [
      "sbatch: Single node jobs run on a shared node by default. Add --exclusive if you want to use a node exclusively.\n",
      "sbatch: Single node jobs run on a shared node by default. Add --exclusive if you want to use a node exclusively.\n"
     ]
    },
    {
     "name": "stdout",
     "output_type": "stream",
     "text": [
      "Submitted batch job 248668\n",
      "Submitted batch job 248669\n"
     ]
    },
    {
     "name": "stderr",
     "output_type": "stream",
     "text": [
      "sbatch: Single node jobs run on a shared node by default. Add --exclusive if you want to use a node exclusively.\n"
     ]
    }
   ],
   "source": [
    "unzip = 'False'\n",
    "flatten = False\n",
    "directory_targ = os.path.join(directory_scratch,'temp')+'/'\n",
    "directory = directory_targ\n",
    "run_parallel_transfer('from_drop.py',[directory_targ,dir_drop,unzip,flatten],folders,5,'10:00','staging',cpus = 1,node = 'staging',name_job='archiving.sh')\n",
    "run_parallel_transfer_to_archive(folders,directory,'10:00','staging',name_job='archiving.sh')"
   ]
  },
  {
   "cell_type": "code",
   "execution_count": 12,
   "metadata": {},
   "outputs": [
    {
     "name": "stdout",
     "output_type": "stream",
     "text": [
      "Submitted batch job 242022\n"
     ]
    },
    {
     "name": "stderr",
     "output_type": "stream",
     "text": [
      "sbatch: Single node jobs run on a shared node by default. Add --exclusive if you want to use a node exclusively.\n"
     ]
    }
   ],
   "source": [
    "must_zip = True\n",
    "must_unzip = False\n",
    "run_parallel_transfer('within_surf.py',[directory,directory_targ,must_zip,must_unzip],folders,5,'10:00','staging',cpus = 1,node = 'staging')"
   ]
  },
  {
   "cell_type": "code",
   "execution_count": 7,
   "metadata": {},
   "outputs": [],
   "source": [
    "plates = set(folders['Plate'].values)"
   ]
  },
  {
   "cell_type": "code",
   "execution_count": 10,
   "metadata": {},
   "outputs": [
    {
     "name": "stderr",
     "output_type": "stream",
     "text": [
      "tar: /archive/cbisot/prince_data/94_20201123.tar: Cannot open: No such file or directory\n",
      "tar: Error is not recoverable: exiting now\n"
     ]
    },
    {
     "data": {
      "text/plain": [
       "2"
      ]
     },
     "execution_count": 10,
     "metadata": {},
     "output_type": "execute_result"
    }
   ],
   "source": [
    "call(f\"tar cvf /archive/cbisot/prince_data/94_20201123.tar {directory_targ}94_20201123*\", shell=True)"
   ]
  },
  {
   "cell_type": "code",
   "execution_count": null,
   "metadata": {},
   "outputs": [],
   "source": [
    "def transfer_parallel_whole_plate(code, args, folders, num_parallel, time, name,cpus = 128,node = 'thin'):\n",
    "    op_id = time_ns()\n",
    "    folders.to_json(f'{directory_scratch}temp/{op_id}.json')# temporary file\n",
    "    plates = set(folders['Plate'].values)\n",
    "    length = len(plates)\n",
    "    begin_skel = 0\n",
    "    end_skel = length // num_parallel + 1\n",
    "    args_str = [str(arg) for arg in args]\n",
    "    arg_str = \" \".join(args_str)\n",
    "    arg_str_out = \"_\".join([str(arg) for arg in args if type(arg)!=str])\n",
    "    for j in range(begin_skel, end_skel):\n",
    "        start = num_parallel * j\n",
    "        stop = num_parallel * j + num_parallel - 1\n",
    "        ide = time_ns()\n",
    "        my_file = open(path_job, \"w\")\n",
    "        my_file.write(\n",
    "            f\"#!/bin/bash \\n#Set job requirements \\n#SBATCH --nodes=1 \\n#SBATCH -t {time}\\n #SBATCH --ntask=1 \\n#SBATCH --cpus-per-task={cpus}\\n#SBATCH -p {node} \\n\"\n",
    "        )\n",
    "        my_file.write(\n",
    "            f'#SBATCH -o \"{path_code}slurm/{name}_{arg_str_out}_{start}_{stop}_{ide}.out\" \\n'\n",
    "        )\n",
    "        my_file.write(f\"source /home/cbisot/miniconda3/etc/profile.d/conda.sh\\n\")\n",
    "        my_file.write(f\"conda activate amftrack\\n\")\n",
    "        my_file.write(f\"for i in `seq {start} {stop}`; do\\n\")\n",
    "        my_file.write(f\"\\t python {path_code}amftrack/pipeline/scripts/image_processing/{code} {arg_str} {op_id} $i &\\n\")\n",
    "        my_file.write(\"done\\n\")\n",
    "        my_file.write(\"wait\\n\")\n",
    "        my_file.close()\n",
    "        call(f\"sbatch {path_job}\", shell=True)"
   ]
  },
  {
   "cell_type": "code",
   "execution_count": 8,
   "metadata": {},
   "outputs": [],
   "source": [
    "def run_parallel_transfer(code, args, folders, num_parallel, time, name,cpus = 1,node = 'staging',name_job='transfer.sh'):\n",
    "    path_job = f'{path_bash}{name_job}'\n",
    "    op_id = time_ns()\n",
    "    folders.to_json(f'{directory_scratch}temp/{op_id}.json')# temporary file\n",
    "    length = len(folders)\n",
    "    begin_skel = 0\n",
    "    end_skel = length // num_parallel + 1\n",
    "    args_str = [str(arg) for arg in args]\n",
    "    arg_str = \" \".join(args_str)\n",
    "    arg_str_out = \"_\".join([str(arg) for arg in args if type(arg)!=str])\n",
    "    for j in range(begin_skel, end_skel):\n",
    "        start = num_parallel * j\n",
    "        stop = num_parallel * j + num_parallel - 1\n",
    "        ide = time_ns()\n",
    "        my_file = open(path_job, \"w\")\n",
    "        my_file.write(\n",
    "            f\"#!/bin/bash \\n#Set job requirements \\n#SBATCH --nodes=1 \\n#SBATCH -t {time}\\n #SBATCH --ntask=1 \\n#SBATCH --cpus-per-task={cpus}\\n#SBATCH -p {node} \\n\"\n",
    "        )\n",
    "        my_file.write(\n",
    "            f'#SBATCH -o \"{path_code}slurm/{name}_{arg_str_out}_{start}_{stop}_{ide}.out\" \\n'\n",
    "        )\n",
    "        my_file.write(f\"source /home/cbisot/miniconda3/etc/profile.d/conda.sh\\n\")\n",
    "        my_file.write(f\"conda activate amftrack\\n\")\n",
    "        my_file.write(f\"for i in `seq {start} {stop}`; do\\n\")\n",
    "        my_file.write(f\"\\t python {path_code}amftrack/transfer/scripts/{code} {arg_str} {op_id} $i &\\n\")\n",
    "        my_file.write(\"done\\n\")\n",
    "        my_file.write(\"wait\\n\")\n",
    "        my_file.close()\n",
    "        call(f\"sbatch {path_job}\", shell=True)"
   ]
  }
 ],
 "metadata": {
  "kernelspec": {
   "display_name": "Python 3 (ipykernel)",
   "language": "python",
   "name": "python3"
  },
  "language_info": {
   "codemirror_mode": {
    "name": "ipython",
    "version": 3
   },
   "file_extension": ".py",
   "mimetype": "text/x-python",
   "name": "python",
   "nbconvert_exporter": "python",
   "pygments_lexer": "ipython3",
   "version": "3.7.11"
  }
 },
 "nbformat": 4,
 "nbformat_minor": 4
}

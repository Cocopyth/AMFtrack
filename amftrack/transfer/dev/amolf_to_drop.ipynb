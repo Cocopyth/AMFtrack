{
 "cells": [
  {
   "cell_type": "code",
   "execution_count": 12,
   "id": "e2236e36-1e25-43a2-8863-38d5d16473f6",
   "metadata": {},
   "outputs": [
    {
     "name": "stdout",
     "output_type": "stream",
     "text": [
      "The autoreload extension is already loaded. To reload it, use:\n",
      "  %reload_ext autoreload\n"
     ]
    }
   ],
   "source": [
    "%matplotlib widget\n",
    "%load_ext autoreload\n",
    "%autoreload 2\n",
    "import os  \n",
    "import sys  \n",
    "sys.path.insert(0, os.getenv('HOME')+'/pycode/MscThesis/')\n",
    "# sys.path.insert(0,r'C:\\Users\\coren\\Documents\\PhD\\Code\\AMFtrack')\n",
    "\n",
    "import pandas as pd\n",
    "from amftrack.util import get_dates_datetime, get_dirname, get_data_info, update_plate_info, \\\n",
    "get_current_folders, get_folders_by_plate_id\n",
    "\n",
    "\n",
    "import ast\n",
    "from amftrack.plotutil import plot_t_tp1\n",
    "from scipy import sparse\n",
    "from datetime import datetime\n",
    "import pickle\n",
    "import scipy.io as sio\n",
    "from pymatreader import read_mat\n",
    "from matplotlib import colors\n",
    "import cv2\n",
    "import imageio\n",
    "import matplotlib.pyplot as plt\n",
    "import numpy as np\n",
    "from skimage.filters import frangi\n",
    "from skimage import filters\n",
    "from random import choice\n",
    "import scipy.sparse\n",
    "import os\n",
    "from amftrack.pipeline.functions.image_processing.extract_graph import from_sparse_to_graph, generate_nx_graph, sparse_to_doc\n",
    "from skimage.feature import hessian_matrix_det\n",
    "from amftrack.pipeline.functions.image_processing.experiment_class_surf import Experiment\n",
    "from amftrack.pipeline.paths.directory import run_parallel_transfer, find_state, directory_scratch, directory_project, directory_archive\n",
    "import dropbox\n",
    "from amftrack.transfer.functions.transfer import upload, zip_file\n",
    "from subprocess import call\n",
    "from tqdm.autonotebook import tqdm"
   ]
  },
  {
   "cell_type": "code",
   "execution_count": 3,
   "id": "1ce190fa-87db-4fb7-b4e7-da75f7802e91",
   "metadata": {},
   "outputs": [],
   "source": [
    "directory = '/run/user/357100554/gvfs/smb-share:server=sun.amolf.nl,share=shimizu-data,user=bisot/home-folder/oyartegalvez/Drive_AMFtopology/PRINCE/'\n",
    "all_folders = get_current_folders(directory)\n",
    "folders = all_folders.loc[all_folders['Plate']==799]"
   ]
  },
  {
   "cell_type": "code",
   "execution_count": 6,
   "id": "0056047c-888a-4579-bba5-4c531d7c9b5c",
   "metadata": {
    "tags": []
   },
   "outputs": [],
   "source": [
    "dir_drop = 'prince_data'\n"
   ]
  },
  {
   "cell_type": "code",
   "execution_count": null,
   "id": "520093a7-438f-48ca-be2a-2b6ea42309ee",
   "metadata": {
    "tags": []
   },
   "outputs": [
    {
     "data": {
      "application/vnd.jupyter.widget-view+json": {
       "model_id": "c4ca5aa4448e4918b0e892b8be4053ba",
       "version_major": 2,
       "version_minor": 0
      },
      "text/plain": [
       "transferred:   0%|          | 0/135 [00:00<?, ?it/s]"
      ]
     },
     "metadata": {},
     "output_type": "display_data"
    },
    {
     "data": {
      "application/vnd.jupyter.widget-view+json": {
       "model_id": "",
       "version_major": 2,
       "version_minor": 0
      },
      "text/plain": [
       "zipping:   0%|          | 0/158 [00:00<?, ?it/s]"
      ]
     },
     "metadata": {},
     "output_type": "display_data"
    },
    {
     "data": {
      "application/vnd.jupyter.widget-view+json": {
       "model_id": "",
       "version_major": 2,
       "version_minor": 0
      },
      "text/plain": [
       "Uploaded:   0%|          | 0/962303402 [00:00<?, ?it/s]"
      ]
     },
     "metadata": {},
     "output_type": "display_data"
    },
    {
     "data": {
      "application/vnd.jupyter.widget-view+json": {
       "model_id": "2f522cc725e84886b51b6f0e7729ebb7",
       "version_major": 2,
       "version_minor": 0
      },
      "text/plain": [
       "zipping:   0%|          | 0/171 [00:00<?, ?it/s]"
      ]
     },
     "metadata": {},
     "output_type": "display_data"
    }
   ],
   "source": [
    "run_info = folders.copy()\n",
    "folder_list = list(run_info['folder'])\n",
    "with tqdm(total=len(folder_list), desc=\"transferred\") as pbar:\n",
    "    for folder in folder_list:\n",
    "        directory_name = folder\n",
    "        run_info['unique_id'] = run_info['Plate'].astype(str) + \"_\" + run_info['CrossDate'].astype(str)\n",
    "        line = run_info.loc[run_info['folder']==directory_name]\n",
    "        id_unique = line['unique_id'].iloc[0]\n",
    "\n",
    "        path_snap=directory+directory_name\n",
    "        API = str(np.load(os.getenv('HOME')+'/pycode/API_drop.npy'))\n",
    "\n",
    "        path_zip =f'{os.getenv(\"TEMP\")}{directory_name}.zip'\n",
    "        path_info =f'{os.getenv(\"TEMP\")}{directory_name}_info.json'\n",
    "        line.to_json(path_info)\n",
    "        zip_file(path_snap,path_zip)\n",
    "        upload(API,path_zip,f'/{dir_drop}/{id_unique}/{directory_name}.zip',chunk_size=256 * 1024 * 1024)\n",
    "        upload(API,path_info,f'/{dir_drop}/{id_unique}/{directory_name}_info.json',chunk_size=256 * 1024 * 1024)\n",
    "        os.remove(path_info) \n",
    "        os.remove(path_zip)\n",
    "        pbar.update(1)"
   ]
  },
  {
   "cell_type": "code",
   "execution_count": 16,
   "id": "17ce39fe-3aee-468f-bfd0-9e982598719d",
   "metadata": {},
   "outputs": [
    {
     "data": {
      "text/plain": [
       "'/home/ipausers/bisot/temp/20211012_0026_Plate39.zip'"
      ]
     },
     "execution_count": 16,
     "metadata": {},
     "output_type": "execute_result"
    }
   ],
   "source": [
    "path_zip"
   ]
  },
  {
   "cell_type": "code",
   "execution_count": 14,
   "id": "77d2bd61-e036-4a5b-9f0f-5caa213cc2e8",
   "metadata": {},
   "outputs": [
    {
     "data": {
      "text/plain": [
       "'/home/ipausers/bisot/temp/'"
      ]
     },
     "execution_count": 14,
     "metadata": {},
     "output_type": "execute_result"
    }
   ],
   "source": [
    "os.getenv(\"TEMP\")"
   ]
  },
  {
   "cell_type": "code",
   "execution_count": 13,
   "id": "2e19b4b5-26ea-4364-87a0-4adcba53d643",
   "metadata": {},
   "outputs": [
    {
     "name": "stdout",
     "output_type": "stream",
     "text": [
      "env: TEMP=/home/ipausers/bisot/temp/\n"
     ]
    }
   ],
   "source": [
    "%env TEMP=/home/ipausers/bisot/temp/"
   ]
  }
 ],
 "metadata": {
  "kernelspec": {
   "display_name": "Python 3 (ipykernel)",
   "language": "python",
   "name": "python3"
  },
  "language_info": {
   "codemirror_mode": {
    "name": "ipython",
    "version": 3
   },
   "file_extension": ".py",
   "mimetype": "text/x-python",
   "name": "python",
   "nbconvert_exporter": "python",
   "pygments_lexer": "ipython3",
   "version": "3.9.7"
  }
 },
 "nbformat": 4,
 "nbformat_minor": 5
}

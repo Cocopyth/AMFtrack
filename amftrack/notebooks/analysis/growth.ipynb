{
 "cells": [
  {
   "cell_type": "code",
   "execution_count": 1,
   "metadata": {},
   "outputs": [],
   "source": [
    "%matplotlib widget\n",
    "\n",
    "import os  \n",
    "import sys  \n",
    "sys.path.insert(0, os.getenv('HOME')+'/pycode/MscThesis/')\n",
    "import pandas as pd\n",
    "from amftrack.util import get_dates_datetime, get_dirname, get_plate_number, get_postion_number\n",
    "\n",
    "import ast\n",
    "from amftrack.plotutil import plot_t_tp1\n",
    "from scipy import sparse\n",
    "from datetime import datetime\n",
    "from amftrack.pipeline.functions.node_id import orient\n",
    "import pickle\n",
    "import scipy.io as sio\n",
    "from pymatreader import read_mat\n",
    "from matplotlib import colors\n",
    "import cv2\n",
    "import imageio\n",
    "import matplotlib.pyplot as plt\n",
    "import numpy as np\n",
    "from skimage.filters import frangi\n",
    "from skimage import filters\n",
    "from random import choice\n",
    "import scipy.sparse\n",
    "import os\n",
    "from amftrack.pipeline.functions.extract_graph import from_sparse_to_graph, generate_nx_graph, sparse_to_doc\n",
    "from skimage.feature import hessian_matrix_det\n",
    "from amftrack.pipeline.functions.experiment_class_surf import Experiment\n",
    "from amftrack.pipeline.paths.directory import run_parallel, find_state, directory_scratch, directory_project, path_code\n",
    "\n",
    "from amftrack.notebooks.analysis.data_info import *\n",
    "import matplotlib.patches as mpatches\n",
    "from statsmodels.stats import weightstats as stests\n"
   ]
  },
  {
   "cell_type": "code",
   "execution_count": 3,
   "metadata": {},
   "outputs": [],
   "source": [
    "inst_25 = [(9,0,11),(9,13,35),(3,0,19),(37,0,8),(11,0,30),(19,0,25),(13,0,25),(39,0,18),(35,0,15),(29,0,20)]\n",
    "inst_bait = [(10,0,10), (14,0,11), (33,0,26),(4,2,18),(4,20,30),(39,117,137),(12,5,21),(28,0,14),(32,5,14),(32,15,44),(36,0,9),(40,0,14),(2,1,15),(5,160,168),(11,158,164),(13,116,131)]\n",
    "inst_30 = []\n",
    "inst_25late = [(40,153,153+37)]\n",
    "treatments = {'25*' : inst_25late,'25' : inst_25,'baits' : inst_bait, '30' : inst_30}\n",
    "plate_number = {(9,0,11) : 296, (9,13,35) : 296, (3,0,19) : 340, (37,0,8) : 269,(11,0,30) : 314, (19,0,25) : 344, (13,0,25) : 298, (39,0,18) : 297, (35,0,15) : 351,(10,0,10) : 395,(14,0,11) : 399, (33,0,26) : 420, (4,2,18) : 423, (4,20,30) : 423,(8,0,17): 434 ,(8,20,30) : 434,(39,117,137) : 433, (12,5,21) : 436, (28,0,14): 405,(32,5,45):409,(36,0,9) : 419,(40,0,14) : 425,(2,1,15):435,(2,16,35):435,(5,160,168):382,(11,158,164) : 416,(13,116,131) : 424, (29,0,20) : 373,(32,15,44):409, (32,5,14) : 409, (40,153,153+37) : 69}"
   ]
  },
  {
   "cell_type": "code",
   "execution_count": 4,
   "metadata": {},
   "outputs": [],
   "source": [
    "results={}\n",
    "for treatment in treatments.keys():\n",
    "    insts = treatments[treatment]\n",
    "    for inst in insts:\n",
    "        results[inst] = pickle.load(open(f'{path_code}/MscThesis/Results/maxgrowth_{inst}.pick', \"rb\"))"
   ]
  },
  {
   "cell_type": "code",
   "execution_count": 5,
   "metadata": {},
   "outputs": [
    {
     "name": "stdout",
     "output_type": "stream",
     "text": [
      "2063\n",
      "8610\n",
      "2330\n",
      "614\n",
      "1867\n",
      "3097\n",
      "5060\n",
      "510\n",
      "4037\n",
      "389\n",
      "946\n",
      "5718\n",
      "542\n",
      "4107\n",
      "1543\n",
      "892\n",
      "11711\n",
      "2909\n",
      "2072\n",
      "2689\n",
      "2017\n",
      "1125\n",
      "903\n",
      "3904\n",
      "7485\n",
      "1550\n",
      "3110\n"
     ]
    }
   ],
   "source": [
    "column_names = [\"plate\",\"inst\", \"treatment\", \"max_speed\", \"total_growth\",\"length\"]\n",
    "infos = pd.DataFrame(columns=column_names)\n",
    "for treatment in treatments.keys():\n",
    "    insts = treatments[treatment]\n",
    "    for inst in insts:\n",
    "        max_growths,total_growths ,lengths = results[inst]\n",
    "        print(inst,len(max_growths))\n",
    "        for i,max_growth in enumerate(max_growths):\n",
    "            new_line = pd.DataFrame(\n",
    "                {   \"plate\": [plate_number[inst]],\n",
    "                    \"inst\": [inst],\n",
    "                    \"treatment\": [treatment],\n",
    "                    \"max_speed\": [max_growth],\n",
    "                    \"total_growth\": [total_growths[i]],\n",
    "                    \"length\": [lengths[i]],\n",
    "                }\n",
    "            )  # index 0 for\n",
    "            # mothers need to be modified to resolve multi mother issue\n",
    "            infos = infos.append(new_line, ignore_index=True)"
   ]
  },
  {
   "cell_type": "code",
   "execution_count": 6,
   "metadata": {},
   "outputs": [],
   "source": [
    "baits = infos.loc[infos['treatment']=='baits']\n",
    "control = infos.loc[infos['treatment']=='25']\n"
   ]
  },
  {
   "cell_type": "code",
   "execution_count": 7,
   "metadata": {},
   "outputs": [
    {
     "name": "stderr",
     "output_type": "stream",
     "text": [
      "/home/cbisot/anaconda3/envs/test/lib/python3.7/site-packages/matplotlib/__init__.py:880: MatplotlibDeprecationWarning: \n",
      "nbagg.transparent\n",
      "  version, key, obj_type=\"rcparam\", alternative=alt_key)\n"
     ]
    },
    {
     "data": {
      "application/vnd.jupyter.widget-view+json": {
       "model_id": "3d9c23f1d3a64b8399fbc92a451a4539",
       "version_major": 2,
       "version_minor": 0
      },
      "text/plain": [
       "Canvas(toolbar=Toolbar(toolitems=[('Home', 'Reset original view', 'home', 'home'), ('Back', 'Back to previous …"
      ]
     },
     "metadata": {},
     "output_type": "display_data"
    },
    {
     "name": "stderr",
     "output_type": "stream",
     "text": [
      "/home/cbisot/anaconda3/envs/test/lib/python3.7/site-packages/pandas/core/series.py:726: RuntimeWarning: divide by zero encountered in log10\n",
      "  result = getattr(ufunc, method)(*inputs, **kwargs)\n"
     ]
    },
    {
     "data": {
      "text/plain": [
       "Text(0, 0.5, 'max_speed (um.h-1)')"
      ]
     },
     "execution_count": 7,
     "metadata": {},
     "output_type": "execute_result"
    }
   ],
   "source": [
    "fig, ax = plt.subplots(nrows=1, ncols=1, figsize=(9, 4))\n",
    "ax.scatter(np.log10(infos['total_growth']),infos['max_speed'])\n",
    "ax.set_ylim(0,400)\n",
    "ax.set_xlabel('log(length) (log(um))')\n",
    "ax.set_ylabel('max_speed (um.h-1)')"
   ]
  },
  {
   "cell_type": "code",
   "execution_count": 20,
   "metadata": {},
   "outputs": [
    {
     "name": "stderr",
     "output_type": "stream",
     "text": [
      "/home/cbisot/anaconda3/envs/test/lib/python3.7/site-packages/matplotlib/__init__.py:880: MatplotlibDeprecationWarning: \n",
      "nbagg.transparent\n",
      "  version, key, obj_type=\"rcparam\", alternative=alt_key)\n"
     ]
    },
    {
     "data": {
      "application/vnd.jupyter.widget-view+json": {
       "model_id": "9a345582ff3042a89cb11d65fa1e4e0f",
       "version_major": 2,
       "version_minor": 0
      },
      "text/plain": [
       "Canvas(toolbar=Toolbar(toolitems=[('Home', 'Reset original view', 'home', 'home'), ('Back', 'Back to previous …"
      ]
     },
     "metadata": {},
     "output_type": "display_data"
    },
    {
     "name": "stderr",
     "output_type": "stream",
     "text": [
      "/home/cbisot/anaconda3/envs/test/lib/python3.7/site-packages/pandas/core/series.py:726: RuntimeWarning: divide by zero encountered in log10\n",
      "  result = getattr(ufunc, method)(*inputs, **kwargs)\n"
     ]
    },
    {
     "data": {
      "text/plain": [
       "Text(0, 0.5, 'max_speed (um.h-1)')"
      ]
     },
     "execution_count": 20,
     "metadata": {},
     "output_type": "execute_result"
    }
   ],
   "source": [
    "fig, ax = plt.subplots(nrows=1, ncols=1, figsize=(9, 4))\n",
    "ax.scatter(np.log10(baits['total_growth']),baits['max_speed'])\n",
    "ax.set_ylim(0,400)\n",
    "ax.set_xlabel('log(length) (log(um))')\n",
    "ax.set_ylabel('max_speed (um.h-1)')"
   ]
  },
  {
   "cell_type": "code",
   "execution_count": 18,
   "metadata": {},
   "outputs": [
    {
     "name": "stderr",
     "output_type": "stream",
     "text": [
      "/home/cbisot/anaconda3/envs/test/lib/python3.7/site-packages/matplotlib/__init__.py:880: MatplotlibDeprecationWarning: \n",
      "nbagg.transparent\n",
      "  version, key, obj_type=\"rcparam\", alternative=alt_key)\n"
     ]
    },
    {
     "data": {
      "application/vnd.jupyter.widget-view+json": {
       "model_id": "5906b74b77be49ceb2c056cb0eb39cc8",
       "version_major": 2,
       "version_minor": 0
      },
      "text/plain": [
       "Canvas(toolbar=Toolbar(toolitems=[('Home', 'Reset original view', 'home', 'home'), ('Back', 'Back to previous …"
      ]
     },
     "metadata": {},
     "output_type": "display_data"
    },
    {
     "name": "stderr",
     "output_type": "stream",
     "text": [
      "/home/cbisot/anaconda3/envs/test/lib/python3.7/site-packages/pandas/core/computation/expressions.py:204: UserWarning: evaluating in Python space because the '*' operator is not supported by numexpr for the bool dtype, use '&' instead\n",
      "  f\"evaluating in Python space because the {repr(op_str)} \"\n"
     ]
    },
    {
     "data": {
      "text/plain": [
       "Text(0, 0.5, 'Quantities')"
      ]
     },
     "execution_count": 18,
     "metadata": {},
     "output_type": "execute_result"
    }
   ],
   "source": [
    "fig, ax = plt.subplots(nrows=1, ncols=1, figsize=(9, 4))\n",
    "ax.hist(baits.loc[(baits['max_speed']>100) *(baits['max_speed']<400)]['max_speed'],50)\n",
    "ax.set_xlim(100,350)\n",
    "ax.set_xlabel('max_speed (um.h-1)')\n",
    "ax.set_ylabel('Quantities')"
   ]
  },
  {
   "cell_type": "code",
   "execution_count": 32,
   "metadata": {},
   "outputs": [
    {
     "name": "stderr",
     "output_type": "stream",
     "text": [
      "/home/cbisot/anaconda3/envs/test/lib/python3.7/site-packages/matplotlib/pyplot.py:514: RuntimeWarning: More than 20 figures have been opened. Figures created through the pyplot interface (`matplotlib.pyplot.figure`) are retained until explicitly closed and may consume too much memory. (To control this warning, see the rcParam `figure.max_open_warning`).\n",
      "  max_open_warning, RuntimeWarning)\n",
      "/home/cbisot/anaconda3/envs/test/lib/python3.7/site-packages/matplotlib/__init__.py:880: MatplotlibDeprecationWarning: \n",
      "nbagg.transparent\n",
      "  version, key, obj_type=\"rcparam\", alternative=alt_key)\n"
     ]
    },
    {
     "data": {
      "application/vnd.jupyter.widget-view+json": {
       "model_id": "acdedff269cf47a2af6cebe9d1c0fa5f",
       "version_major": 2,
       "version_minor": 0
      },
      "text/plain": [
       "Canvas(toolbar=Toolbar(toolitems=[('Home', 'Reset original view', 'home', 'home'), ('Back', 'Back to previous …"
      ]
     },
     "metadata": {},
     "output_type": "display_data"
    },
    {
     "data": {
      "text/plain": [
       "Text(0, 0.5, 'Quantities')"
      ]
     },
     "execution_count": 32,
     "metadata": {},
     "output_type": "execute_result"
    }
   ],
   "source": [
    "fig, ax = plt.subplots(nrows=1, ncols=1, figsize=(9, 4))\n",
    "ax.hist(infos.loc[infos['total_growth']>2000]['total_growth'],50)\n",
    "ax.set_xlim(0,15000)\n",
    "ax.set_xlabel('max_speed (um.h-1)')\n",
    "ax.set_ylabel('Quantities')"
   ]
  },
  {
   "cell_type": "code",
   "execution_count": 23,
   "metadata": {},
   "outputs": [
    {
     "data": {
      "application/vnd.jupyter.widget-view+json": {
       "model_id": "0d33b84c72ea4a159023e02fc84c4691",
       "version_major": 2,
       "version_minor": 0
      },
      "text/plain": [
       "Canvas(toolbar=Toolbar(toolitems=[('Home', 'Reset original view', 'home', 'home'), ('Back', 'Back to previous …"
      ]
     },
     "metadata": {},
     "output_type": "display_data"
    },
    {
     "name": "stderr",
     "output_type": "stream",
     "text": [
      "/home/cbisot/anaconda3/envs/test/lib/python3.7/site-packages/pandas/core/computation/expressions.py:204: UserWarning: evaluating in Python space because the '*' operator is not supported by numexpr for the bool dtype, use '&' instead\n",
      "  f\"evaluating in Python space because the {repr(op_str)} \"\n"
     ]
    },
    {
     "data": {
      "text/plain": [
       "Text(0, 0.5, 'Quantities')"
      ]
     },
     "execution_count": 23,
     "metadata": {},
     "output_type": "execute_result"
    }
   ],
   "source": [
    "fig, ax = plt.subplots(nrows=1, ncols=1, figsize=(9, 4))\n",
    "ax.hist(control.loc[(control['max_speed']>100) *(control['max_speed']<400)]['max_speed'],50)\n",
    "ax.set_xlim(100,350)\n",
    "ax.set_xlabel('max_speed (um.h-1)')\n",
    "ax.set_ylabel('Quantities')"
   ]
  },
  {
   "cell_type": "code",
   "execution_count": 19,
   "metadata": {},
   "outputs": [
    {
     "name": "stderr",
     "output_type": "stream",
     "text": [
      "/home/cbisot/anaconda3/envs/test/lib/python3.7/site-packages/matplotlib/__init__.py:880: MatplotlibDeprecationWarning: \n",
      "nbagg.transparent\n",
      "  version, key, obj_type=\"rcparam\", alternative=alt_key)\n"
     ]
    },
    {
     "data": {
      "application/vnd.jupyter.widget-view+json": {
       "model_id": "8a9ce19eddcd4678b54a6cbcb670dcff",
       "version_major": 2,
       "version_minor": 0
      },
      "text/plain": [
       "Canvas(toolbar=Toolbar(toolitems=[('Home', 'Reset original view', 'home', 'home'), ('Back', 'Back to previous …"
      ]
     },
     "metadata": {},
     "output_type": "display_data"
    },
    {
     "name": "stderr",
     "output_type": "stream",
     "text": [
      "/home/cbisot/anaconda3/envs/test/lib/python3.7/site-packages/pandas/core/computation/expressions.py:204: UserWarning: evaluating in Python space because the '*' operator is not supported by numexpr for the bool dtype, use '&' instead\n",
      "  f\"evaluating in Python space because the {repr(op_str)} \"\n"
     ]
    },
    {
     "data": {
      "text/plain": [
       "Text(0, 0.5, 'Quantities')"
      ]
     },
     "execution_count": 19,
     "metadata": {},
     "output_type": "execute_result"
    }
   ],
   "source": [
    "fig, ax = plt.subplots(nrows=1, ncols=1, figsize=(9, 4))\n",
    "ax.hist(infos.loc[(infos['max_speed']>100) *(infos['max_speed']<400)]['max_speed'],50)\n",
    "ax.set_xlim(100,350)\n",
    "ax.set_xlabel('max_speed (um.h-1)')\n",
    "ax.set_ylabel('Quantities')"
   ]
  },
  {
   "cell_type": "code",
   "execution_count": 26,
   "metadata": {},
   "outputs": [],
   "source": [
    "RH =infos.loc[(a*infos[\"length\"]+b*infos[\"max_speed\"]>=thresh)&( infos[\"max_speed\"]>=50)&( infos[\"max_speed\"]<500)]"
   ]
  },
  {
   "cell_type": "code",
   "execution_count": 5,
   "metadata": {
    "collapsed": true,
    "jupyter": {
     "outputs_hidden": true
    }
   },
   "outputs": [
    {
     "data": {
      "text/html": [
       "<div>\n",
       "<style scoped>\n",
       "    .dataframe tbody tr th:only-of-type {\n",
       "        vertical-align: middle;\n",
       "    }\n",
       "\n",
       "    .dataframe tbody tr th {\n",
       "        vertical-align: top;\n",
       "    }\n",
       "\n",
       "    .dataframe thead th {\n",
       "        text-align: right;\n",
       "    }\n",
       "</style>\n",
       "<table border=\"1\" class=\"dataframe\">\n",
       "  <thead>\n",
       "    <tr style=\"text-align: right;\">\n",
       "      <th></th>\n",
       "      <th>plate</th>\n",
       "      <th>inst</th>\n",
       "      <th>treatment</th>\n",
       "      <th>max_speed</th>\n",
       "      <th>total_growth</th>\n",
       "      <th>length</th>\n",
       "    </tr>\n",
       "  </thead>\n",
       "  <tbody>\n",
       "    <tr>\n",
       "      <th>10</th>\n",
       "      <td>298</td>\n",
       "      <td>(13, 0, 19)</td>\n",
       "      <td>25</td>\n",
       "      <td>117.823373</td>\n",
       "      <td>1366.254471</td>\n",
       "      <td>2337.260703</td>\n",
       "    </tr>\n",
       "    <tr>\n",
       "      <th>14</th>\n",
       "      <td>298</td>\n",
       "      <td>(13, 0, 19)</td>\n",
       "      <td>25</td>\n",
       "      <td>182.703809</td>\n",
       "      <td>730.815235</td>\n",
       "      <td>945.888174</td>\n",
       "    </tr>\n",
       "    <tr>\n",
       "      <th>27</th>\n",
       "      <td>298</td>\n",
       "      <td>(13, 0, 19)</td>\n",
       "      <td>25</td>\n",
       "      <td>166.075721</td>\n",
       "      <td>2908.700872</td>\n",
       "      <td>12499.519690</td>\n",
       "    </tr>\n",
       "    <tr>\n",
       "      <th>32</th>\n",
       "      <td>298</td>\n",
       "      <td>(13, 0, 19)</td>\n",
       "      <td>25</td>\n",
       "      <td>99.767964</td>\n",
       "      <td>529.412469</td>\n",
       "      <td>2373.326777</td>\n",
       "    </tr>\n",
       "    <tr>\n",
       "      <th>50</th>\n",
       "      <td>298</td>\n",
       "      <td>(13, 0, 19)</td>\n",
       "      <td>25</td>\n",
       "      <td>101.647627</td>\n",
       "      <td>1023.253658</td>\n",
       "      <td>4509.728855</td>\n",
       "    </tr>\n",
       "    <tr>\n",
       "      <th>...</th>\n",
       "      <td>...</td>\n",
       "      <td>...</td>\n",
       "      <td>...</td>\n",
       "      <td>...</td>\n",
       "      <td>...</td>\n",
       "      <td>...</td>\n",
       "    </tr>\n",
       "    <tr>\n",
       "      <th>54658</th>\n",
       "      <td>60</td>\n",
       "      <td>(24, 105, 110)</td>\n",
       "      <td>30</td>\n",
       "      <td>152.669418</td>\n",
       "      <td>687.012381</td>\n",
       "      <td>1135.727461</td>\n",
       "    </tr>\n",
       "    <tr>\n",
       "      <th>54661</th>\n",
       "      <td>60</td>\n",
       "      <td>(24, 105, 110)</td>\n",
       "      <td>30</td>\n",
       "      <td>162.845092</td>\n",
       "      <td>732.802914</td>\n",
       "      <td>1823.542079</td>\n",
       "    </tr>\n",
       "    <tr>\n",
       "      <th>54689</th>\n",
       "      <td>60</td>\n",
       "      <td>(24, 105, 110)</td>\n",
       "      <td>30</td>\n",
       "      <td>169.059829</td>\n",
       "      <td>760.769230</td>\n",
       "      <td>6470.347839</td>\n",
       "    </tr>\n",
       "    <tr>\n",
       "      <th>54690</th>\n",
       "      <td>60</td>\n",
       "      <td>(24, 105, 110)</td>\n",
       "      <td>30</td>\n",
       "      <td>335.168603</td>\n",
       "      <td>1508.258713</td>\n",
       "      <td>5484.742405</td>\n",
       "    </tr>\n",
       "    <tr>\n",
       "      <th>54698</th>\n",
       "      <td>60</td>\n",
       "      <td>(24, 105, 110)</td>\n",
       "      <td>30</td>\n",
       "      <td>279.701434</td>\n",
       "      <td>1258.656452</td>\n",
       "      <td>2497.702919</td>\n",
       "    </tr>\n",
       "  </tbody>\n",
       "</table>\n",
       "<p>1705 rows × 6 columns</p>\n",
       "</div>"
      ],
      "text/plain": [
       "      plate            inst treatment   max_speed  total_growth        length\n",
       "10      298     (13, 0, 19)        25  117.823373   1366.254471   2337.260703\n",
       "14      298     (13, 0, 19)        25  182.703809    730.815235    945.888174\n",
       "27      298     (13, 0, 19)        25  166.075721   2908.700872  12499.519690\n",
       "32      298     (13, 0, 19)        25   99.767964    529.412469   2373.326777\n",
       "50      298     (13, 0, 19)        25  101.647627   1023.253658   4509.728855\n",
       "...     ...             ...       ...         ...           ...           ...\n",
       "54658    60  (24, 105, 110)        30  152.669418    687.012381   1135.727461\n",
       "54661    60  (24, 105, 110)        30  162.845092    732.802914   1823.542079\n",
       "54689    60  (24, 105, 110)        30  169.059829    760.769230   6470.347839\n",
       "54690    60  (24, 105, 110)        30  335.168603   1508.258713   5484.742405\n",
       "54698    60  (24, 105, 110)        30  279.701434   1258.656452   2497.702919\n",
       "\n",
       "[1705 rows x 6 columns]"
      ]
     },
     "execution_count": 5,
     "metadata": {},
     "output_type": "execute_result"
    }
   ],
   "source": [
    "RH"
   ]
  },
  {
   "cell_type": "code",
   "execution_count": 6,
   "metadata": {
    "collapsed": true,
    "jupyter": {
     "outputs_hidden": true
    }
   },
   "outputs": [
    {
     "data": {
      "text/html": [
       "<div>\n",
       "<style scoped>\n",
       "    .dataframe tbody tr th:only-of-type {\n",
       "        vertical-align: middle;\n",
       "    }\n",
       "\n",
       "    .dataframe tbody tr th {\n",
       "        vertical-align: top;\n",
       "    }\n",
       "\n",
       "    .dataframe thead th {\n",
       "        text-align: right;\n",
       "    }\n",
       "</style>\n",
       "<table border=\"1\" class=\"dataframe\">\n",
       "  <thead>\n",
       "    <tr style=\"text-align: right;\">\n",
       "      <th></th>\n",
       "      <th>plate</th>\n",
       "      <th>inst</th>\n",
       "      <th>treatment</th>\n",
       "      <th>max_speed</th>\n",
       "      <th>total_growth</th>\n",
       "      <th>length</th>\n",
       "    </tr>\n",
       "  </thead>\n",
       "  <tbody>\n",
       "    <tr>\n",
       "      <th>0</th>\n",
       "      <td>298</td>\n",
       "      <td>(13, 0, 19)</td>\n",
       "      <td>25</td>\n",
       "      <td>4.547102</td>\n",
       "      <td>72.594697</td>\n",
       "      <td>5892.872576</td>\n",
       "    </tr>\n",
       "    <tr>\n",
       "      <th>1</th>\n",
       "      <td>298</td>\n",
       "      <td>(13, 0, 19)</td>\n",
       "      <td>25</td>\n",
       "      <td>0.000000</td>\n",
       "      <td>0.000000</td>\n",
       "      <td>35.539011</td>\n",
       "    </tr>\n",
       "    <tr>\n",
       "      <th>2</th>\n",
       "      <td>298</td>\n",
       "      <td>(13, 0, 19)</td>\n",
       "      <td>25</td>\n",
       "      <td>2.439518</td>\n",
       "      <td>37.196121</td>\n",
       "      <td>399.168339</td>\n",
       "    </tr>\n",
       "    <tr>\n",
       "      <th>3</th>\n",
       "      <td>298</td>\n",
       "      <td>(13, 0, 19)</td>\n",
       "      <td>25</td>\n",
       "      <td>0.000000</td>\n",
       "      <td>0.000000</td>\n",
       "      <td>0.000000</td>\n",
       "    </tr>\n",
       "    <tr>\n",
       "      <th>4</th>\n",
       "      <td>298</td>\n",
       "      <td>(13, 0, 19)</td>\n",
       "      <td>25</td>\n",
       "      <td>4.247320</td>\n",
       "      <td>61.123850</td>\n",
       "      <td>1135.659767</td>\n",
       "    </tr>\n",
       "    <tr>\n",
       "      <th>...</th>\n",
       "      <td>...</td>\n",
       "      <td>...</td>\n",
       "      <td>...</td>\n",
       "      <td>...</td>\n",
       "      <td>...</td>\n",
       "      <td>...</td>\n",
       "    </tr>\n",
       "    <tr>\n",
       "      <th>54698</th>\n",
       "      <td>60</td>\n",
       "      <td>(24, 105, 110)</td>\n",
       "      <td>30</td>\n",
       "      <td>279.701434</td>\n",
       "      <td>1258.656452</td>\n",
       "      <td>2497.702919</td>\n",
       "    </tr>\n",
       "    <tr>\n",
       "      <th>54699</th>\n",
       "      <td>60</td>\n",
       "      <td>(24, 105, 110)</td>\n",
       "      <td>30</td>\n",
       "      <td>0.000000</td>\n",
       "      <td>0.000000</td>\n",
       "      <td>53.647071</td>\n",
       "    </tr>\n",
       "    <tr>\n",
       "      <th>54700</th>\n",
       "      <td>60</td>\n",
       "      <td>(24, 105, 110)</td>\n",
       "      <td>30</td>\n",
       "      <td>0.000000</td>\n",
       "      <td>0.000000</td>\n",
       "      <td>8.625000</td>\n",
       "    </tr>\n",
       "    <tr>\n",
       "      <th>54701</th>\n",
       "      <td>60</td>\n",
       "      <td>(24, 105, 110)</td>\n",
       "      <td>30</td>\n",
       "      <td>637.192769</td>\n",
       "      <td>2867.367463</td>\n",
       "      <td>2867.367463</td>\n",
       "    </tr>\n",
       "    <tr>\n",
       "      <th>54702</th>\n",
       "      <td>60</td>\n",
       "      <td>(24, 105, 110)</td>\n",
       "      <td>30</td>\n",
       "      <td>35.905630</td>\n",
       "      <td>161.575333</td>\n",
       "      <td>165.336795</td>\n",
       "    </tr>\n",
       "  </tbody>\n",
       "</table>\n",
       "<p>54703 rows × 6 columns</p>\n",
       "</div>"
      ],
      "text/plain": [
       "      plate            inst treatment   max_speed  total_growth       length\n",
       "0       298     (13, 0, 19)        25    4.547102     72.594697  5892.872576\n",
       "1       298     (13, 0, 19)        25    0.000000      0.000000    35.539011\n",
       "2       298     (13, 0, 19)        25    2.439518     37.196121   399.168339\n",
       "3       298     (13, 0, 19)        25    0.000000      0.000000     0.000000\n",
       "4       298     (13, 0, 19)        25    4.247320     61.123850  1135.659767\n",
       "...     ...             ...       ...         ...           ...          ...\n",
       "54698    60  (24, 105, 110)        30  279.701434   1258.656452  2497.702919\n",
       "54699    60  (24, 105, 110)        30    0.000000      0.000000    53.647071\n",
       "54700    60  (24, 105, 110)        30    0.000000      0.000000     8.625000\n",
       "54701    60  (24, 105, 110)        30  637.192769   2867.367463  2867.367463\n",
       "54702    60  (24, 105, 110)        30   35.905630    161.575333   165.336795\n",
       "\n",
       "[54703 rows x 6 columns]"
      ]
     },
     "execution_count": 6,
     "metadata": {},
     "output_type": "execute_result"
    }
   ],
   "source": [
    "infos"
   ]
  },
  {
   "cell_type": "code",
   "execution_count": 28,
   "metadata": {},
   "outputs": [
    {
     "data": {
      "application/vnd.jupyter.widget-view+json": {
       "model_id": "793e3c6eb87e41abab88e0a24ff9f1ea",
       "version_major": 2,
       "version_minor": 0
      },
      "text/plain": [
       "Canvas(toolbar=Toolbar(toolitems=[('Home', 'Reset original view', 'home', 'home'), ('Back', 'Back to previous …"
      ]
     },
     "metadata": {},
     "output_type": "display_data"
    }
   ],
   "source": [
    "fig, ax = plt.subplots(nrows=1, ncols=1, figsize=(9, 4))\n",
    "bplot1 = RH.boxplot(column = [\"max_speed\"],by=\"plate\",figsize =(9,8),ax =ax,patch_artist=True)\n",
    "colors = ['pink']*3+['lightblue']*3 +['lightgreen']*3\n",
    "for i,(artist, col) in enumerate(zip(ax.artists, colors)):\n",
    "    artist.set_edgecolor(col)\n",
    "    artist.set_facecolor(col) \n",
    "ax.set_xlabel('Plate number')\n",
    "ax.set_ylabel(r'Maximum speed ($\\mu m.h^{-1}$)')\n",
    "plt.show()"
   ]
  },
  {
   "cell_type": "code",
   "execution_count": 29,
   "metadata": {},
   "outputs": [
    {
     "data": {
      "application/vnd.jupyter.widget-view+json": {
       "model_id": "e7b7e65c0a1747aeadf2e96f1cacaa78",
       "version_major": 2,
       "version_minor": 0
      },
      "text/plain": [
       "Canvas(toolbar=Toolbar(toolitems=[('Home', 'Reset original view', 'home', 'home'), ('Back', 'Back to previous …"
      ]
     },
     "metadata": {},
     "output_type": "display_data"
    }
   ],
   "source": [
    "fig, ax = plt.subplots(nrows=1, ncols=1, figsize=(9, 4))\n",
    "bplot1 = RH .boxplot(column = [\"max_speed\"],by=\"treatment\",figsize =(9,8),ax =ax,patch_artist=True)\n",
    "colors = ['lightblue'] + ['pink']+['lightgreen']\n",
    "for i,(artist, col) in enumerate(zip(ax.artists, colors)):\n",
    "    artist.set_edgecolor(col)\n",
    "    artist.set_facecolor(col) \n",
    "ax.set_xlabel('Treatment')\n",
    "ax.set_ylabel(r'Maximum speed ($\\mu m.h^{-1}$)')\n",
    "plt.show()"
   ]
  },
  {
   "cell_type": "code",
   "execution_count": 15,
   "metadata": {},
   "outputs": [
    {
     "data": {
      "text/plain": [
       "plate             84.447154\n",
       "treatment               inf\n",
       "max_speed        229.348560\n",
       "total_growth    1786.923006\n",
       "length          2977.322864\n",
       "dtype: float64"
      ]
     },
     "execution_count": 15,
     "metadata": {},
     "output_type": "execute_result"
    }
   ],
   "source": [
    "np.mean(RH.loc[(infos[\"treatment\"] == \"25\") & (infos[\"plate\"]!=298)])"
   ]
  },
  {
   "cell_type": "code",
   "execution_count": 12,
   "metadata": {},
   "outputs": [
    {
     "data": {
      "text/plain": [
       "plate            133.831250\n",
       "treatment               inf\n",
       "max_speed        208.673151\n",
       "total_growth    1896.157875\n",
       "length          3239.990474\n",
       "dtype: float64"
      ]
     },
     "execution_count": 12,
     "metadata": {},
     "output_type": "execute_result"
    }
   ],
   "source": [
    "np.mean(RH.loc[(infos[\"treatment\"] == \"25\")])"
   ]
  },
  {
   "cell_type": "code",
   "execution_count": 16,
   "metadata": {},
   "outputs": [
    {
     "data": {
      "text/plain": [
       "plate             85.863340\n",
       "treatment               inf\n",
       "max_speed        233.194754\n",
       "total_growth    1816.889851\n",
       "length          3027.252814\n",
       "dtype: float64"
      ]
     },
     "execution_count": 16,
     "metadata": {},
     "output_type": "execute_result"
    }
   ],
   "source": [
    "(298.15+5)/298.15*np.mean(RH.loc[(infos[\"treatment\"] == \"25\") & (infos[\"plate\"]!=298)])"
   ]
  },
  {
   "cell_type": "code",
   "execution_count": 17,
   "metadata": {},
   "outputs": [
    {
     "data": {
      "text/plain": [
       "plate             47.188329\n",
       "treatment               inf\n",
       "max_speed        235.340968\n",
       "total_growth    1542.979842\n",
       "length          2817.768091\n",
       "dtype: float64"
      ]
     },
     "execution_count": 17,
     "metadata": {},
     "output_type": "execute_result"
    }
   ],
   "source": [
    "np.mean(RH.loc[infos[\"treatment\"] == \"30\"])"
   ]
  },
  {
   "cell_type": "code",
   "execution_count": 17,
   "metadata": {},
   "outputs": [
    {
     "data": {
      "text/plain": [
       "0.1897215255766116"
      ]
     },
     "execution_count": 17,
     "metadata": {},
     "output_type": "execute_result"
    }
   ],
   "source": [
    "ztest ,pval1 = stests.ztest(RH.loc[(infos[\"treatment\"] == \"25\") & (infos[\"plate\"]!=298)][\"max_speed\"],RH.loc[infos[\"treatment\"] == \"30\"][\"max_speed\"], value=0,alternative='two-sided')\n",
    "pval1"
   ]
  },
  {
   "cell_type": "code",
   "execution_count": 2,
   "metadata": {},
   "outputs": [
    {
     "name": "stdout",
     "output_type": "stream",
     "text": [
      "begin = 2020-11-19 20:21:00 \n",
      "  end = 2020-11-25 18:06:00\n"
     ]
    }
   ],
   "source": [
    "directory = \"/projects/0/einf914/data/\"\n",
    "RH, BAS, max_growths, total_growths, lengths, branch_frequ,select_hyph = get_rh_bas(get_exp((40,0,37),directory),criter)"
   ]
  },
  {
   "cell_type": "code",
   "execution_count": 3,
   "metadata": {},
   "outputs": [
    {
     "name": "stdout",
     "output_type": "stream",
     "text": [
      "begin = 2020-11-19 20:21:00 \n",
      "  end = 2020-11-25 18:06:00\n"
     ]
    }
   ],
   "source": [
    "exp = get_exp((40,0,37),directory)"
   ]
  },
  {
   "cell_type": "code",
   "execution_count": 3,
   "metadata": {},
   "outputs": [
    {
     "name": "stderr",
     "output_type": "stream",
     "text": [
      "/home/cbisot/anaconda3/envs/test/lib/python3.7/site-packages/matplotlib/__init__.py:880: MatplotlibDeprecationWarning: \n",
      "nbagg.transparent\n",
      "  version, key, obj_type=\"rcparam\", alternative=alt_key)\n"
     ]
    },
    {
     "data": {
      "application/vnd.jupyter.widget-view+json": {
       "model_id": "c69e037936634ecf9023d4247e11bf3c",
       "version_major": 2,
       "version_minor": 0
      },
      "text/plain": [
       "Canvas(toolbar=Toolbar(toolitems=[('Home', 'Reset original view', 'home', 'home'), ('Back', 'Back to previous …"
      ]
     },
     "metadata": {},
     "output_type": "display_data"
    },
    {
     "data": {
      "text/plain": [
       "[<matplotlib.lines.Line2D at 0x2b896e6dc110>]"
      ]
     },
     "execution_count": 3,
     "metadata": {},
     "output_type": "execute_result"
    }
   ],
   "source": [
    "plt.close('all')\n",
    "fig=plt.figure(figsize=(8,8))\n",
    "ax = fig.add_subplot(111)\n",
    "ax.set_xlabel(r'maximum length ($\\mu m$)')\n",
    "ax.set_ylabel(r'maximum speed ($\\mu m.hour^{-1})$')\n",
    "ax.set_xlim((0,10000))\n",
    "ax.set_ylim((0,450))\n",
    "ax.scatter(total_growths,max_growths,s=5, c='r')\n",
    "# ax.scatter(lengths,max_growths,s=5, c='b')\n",
    "ax.plot(range(10000),-a/b*np.array(range(10000))+thresh/b)"
   ]
  },
  {
   "cell_type": "code",
   "execution_count": 123,
   "metadata": {},
   "outputs": [
    {
     "data": {
      "text/plain": [
       "([13, 14, 15, 16],\n",
       " [Hyphae(780,2938), Hyphae(790,781)],\n",
       " [[15, 16, 17, 18, 19, 20, 21, 22, 23, 24],\n",
       "  [8, 9, 10, 11, 12, 13, 14, 15, 16, 17, 18, 19, 20, 21, 22, 23, 24, 25]])"
      ]
     },
     "execution_count": 123,
     "metadata": {},
     "output_type": "execute_result"
    }
   ],
   "source": [
    "hyph = choice(BAS)\n",
    "hyph.ts,hyph.mother,[h.ts for h in hyph.mother]"
   ]
  },
  {
   "cell_type": "code",
   "execution_count": 124,
   "metadata": {},
   "outputs": [
    {
     "data": {
      "text/plain": [
       "[13, 14, 15, 16]"
      ]
     },
     "execution_count": 124,
     "metadata": {},
     "output_type": "execute_result"
    }
   ],
   "source": [
    "hyph.end.ts()"
   ]
  },
  {
   "cell_type": "code",
   "execution_count": 125,
   "metadata": {},
   "outputs": [
    {
     "data": {
      "text/plain": [
       "[13, 14, 15, 16]"
      ]
     },
     "execution_count": 125,
     "metadata": {},
     "output_type": "execute_result"
    }
   ],
   "source": [
    "hyph.root.ts()"
   ]
  },
  {
   "cell_type": "code",
   "execution_count": 126,
   "metadata": {},
   "outputs": [
    {
     "name": "stderr",
     "output_type": "stream",
     "text": [
      "/home/cbisot/anaconda3/envs/test/lib/python3.7/site-packages/matplotlib/__init__.py:880: MatplotlibDeprecationWarning: \n",
      "nbagg.transparent\n",
      "  version, key, obj_type=\"rcparam\", alternative=alt_key)\n"
     ]
    },
    {
     "data": {
      "application/vnd.jupyter.widget-view+json": {
       "model_id": "362077fcb3e448cea965362e5e730e78",
       "version_major": 2,
       "version_minor": 0
      },
      "text/plain": [
       "Canvas(toolbar=Toolbar(toolitems=[('Home', 'Reset original view', 'home', 'home'), ('Back', 'Back to previous …"
      ]
     },
     "metadata": {},
     "output_type": "display_data"
    }
   ],
   "source": [
    "hyph.end.show_source_image(15,16)"
   ]
  },
  {
   "cell_type": "code",
   "execution_count": 128,
   "metadata": {},
   "outputs": [
    {
     "data": {
      "application/vnd.jupyter.widget-view+json": {
       "model_id": "d50b6d2e12f04dd3a9bc0f7eddbb6082",
       "version_major": 2,
       "version_minor": 0
      },
      "text/plain": [
       "Canvas(toolbar=Toolbar(toolitems=[('Home', 'Reset original view', 'home', 'home'), ('Back', 'Back to previous …"
      ]
     },
     "metadata": {},
     "output_type": "display_data"
    }
   ],
   "source": [
    "plt.close('all')\n",
    "exp.plot([15,16],[[hyph.end.label,hyph.root.label,780,2938,790,781]]*2)"
   ]
  },
  {
   "cell_type": "code",
   "execution_count": 109,
   "metadata": {},
   "outputs": [
    {
     "data": {
      "text/plain": [
       "Node(5188)"
      ]
     },
     "execution_count": 109,
     "metadata": {},
     "output_type": "execute_result"
    }
   ],
   "source": [
    "hyph.end"
   ]
  },
  {
   "cell_type": "code",
   "execution_count": 67,
   "metadata": {},
   "outputs": [],
   "source": [
    "hyph_test = Hyphae(hyph.end)"
   ]
  },
  {
   "cell_type": "code",
   "execution_count": 68,
   "metadata": {
    "collapsed": true,
    "jupyter": {
     "outputs_hidden": true
    }
   },
   "outputs": [
    {
     "name": "stdout",
     "output_type": "stream",
     "text": [
      "(Node(27), Node(540))\n",
      "(Node(540), Node(702)) 0.42984356469978613\n",
      "(Node(540), Node(699)) 0.9824784805762508\n",
      "(Node(540), Node(27)) -1.0\n",
      "-0.2540324794911799 (Node(702), Node(540))\n",
      "-1.0 (Node(699), Node(540))\n",
      "(Node(540), Node(699))\n",
      "(Node(699), Node(702)) -0.6829248899689792\n",
      "(Node(699), Node(540)) -1.0\n",
      "(Node(699), Node(975)) 0.9998709667867004\n",
      "0.6711022538324886 (Node(702), Node(699))\n",
      "-1.0 (Node(975), Node(699))\n",
      "(Node(699), Node(975))\n",
      "(Node(975), Node(699)) -1.0\n",
      "(Node(975), Node(1553)) 0.5446654754608982\n",
      "(Node(975), Node(1219)) 0.9748633281968202\n",
      "-0.3441193134538916 (Node(1553), Node(975))\n",
      "-1.0 (Node(1219), Node(975))\n",
      "(Node(975), Node(1219))\n",
      "(Node(1219), Node(975)) -1.0\n",
      "(Node(1219), Node(1534)) 0.9924433926887687\n",
      "(Node(1219), Node(1224)) 0.029440248780633255\n",
      "-1.0 (Node(1534), Node(1219))\n",
      "0.09343238370551364 (Node(1224), Node(1219))\n",
      "(Node(1219), Node(1534))\n",
      "(Node(1534), Node(1219)) -1.0\n",
      "(Node(1534), Node(1531)) 0.7407862905431174\n",
      "(Node(1534), Node(1840)) 0.9651140194598891\n",
      "-0.5390613716948739 (Node(1531), Node(1534))\n",
      "-1.0 (Node(1840), Node(1534))\n",
      "(Node(1534), Node(1840))\n",
      "(Node(1840), Node(1534)) -1.0\n",
      "(Node(1840), Node(1841)) 0.2772206707252701\n",
      "(Node(1840), Node(1835)) 0.9636556444085197\n",
      "-0.010468247495270169 (Node(1841), Node(1840))\n",
      "-1.0 (Node(1835), Node(1840))\n",
      "(Node(1840), Node(1835))\n",
      "(Node(1835), Node(1840)) -1.0\n",
      "(Node(1835), Node(1836)) 0.04515315135099184\n",
      "(Node(1835), Node(2409)) 0.9944697994598501\n",
      "(Node(1835), Node(2410)) -0.6947977559338065\n",
      "-0.1498192701590042 (Node(1836), Node(1835))\n",
      "-1.0 (Node(2409), Node(1835))\n",
      "0.6154223433376073 (Node(2410), Node(1835))\n",
      "(Node(1835), Node(2409))\n",
      "(Node(2409), Node(2129)) -0.015070611104237028\n",
      "(Node(2409), Node(1835)) -1.0\n",
      "(Node(2409), Node(1836)) -0.32836424536061365\n",
      "(Node(2409), Node(1826)) 0.9998800432728469\n",
      "0.030555719632604735 (Node(2129), Node(2409))\n",
      "0.31369500933990163 (Node(1836), Node(2409))\n",
      "-1.0 (Node(1826), Node(2409))\n",
      "(Node(2409), Node(1826))\n",
      "(Node(1826), Node(2409)) -1.0\n",
      "(Node(1826), Node(2117)) 0.6512722669442699\n",
      "(Node(1826), Node(1825)) 0.978803210423122\n",
      "-0.4820538166371635 (Node(2117), Node(1826))\n",
      "-1.0 (Node(1825), Node(1826))\n",
      "(Node(1826), Node(1825))\n",
      "(Node(1825), Node(1826)) -1.0\n",
      "(Node(1825), Node(2400)) 0.9972568714031327\n",
      "(Node(1825), Node(2404)) 0.6806723224147191\n",
      "-1.0 (Node(2400), Node(1825))\n",
      "-0.6245801144423317 (Node(2404), Node(1825))\n",
      "(Node(1825), Node(2400))\n",
      "(Node(2400), Node(1825)) -1.0\n",
      "(Node(2400), Node(2396)) 0.9974117515945455\n",
      "(Node(2400), Node(2399)) 0.6051788515889042\n",
      "-1.0 (Node(2396), Node(2400))\n",
      "-0.5463726208164486 (Node(2399), Node(2400))\n",
      "(Node(2400), Node(2396))\n",
      "(Node(2396), Node(2400)) -1.0\n",
      "(Node(2396), Node(2394)) 0.43712994790302623\n",
      "(Node(2396), Node(2393)) 0.9734171683335759\n",
      "-0.21951219512195116 (Node(2394), Node(2396))\n",
      "-1.0 (Node(2393), Node(2396))\n",
      "(Node(2396), Node(2393))\n",
      "(Node(2393), Node(2396)) -1.0\n",
      "(Node(2393), Node(226)) 0.9844938831616076\n",
      "(Node(2393), Node(2395)) -0.39391929857916796\n",
      "-1.0 (Node(226), Node(2393))\n",
      "0.5490465592914741 (Node(2395), Node(2393))\n",
      "(Node(2393), Node(226))\n"
     ]
    }
   ],
   "source": [
    "root,edge,nodes = hyph_test.get_edges(14,200)"
   ]
  },
  {
   "cell_type": "code",
   "execution_count": 69,
   "metadata": {},
   "outputs": [
    {
     "data": {
      "text/plain": [
       "Node(226)"
      ]
     },
     "execution_count": 69,
     "metadata": {},
     "output_type": "execute_result"
    }
   ],
   "source": [
    "root"
   ]
  },
  {
   "cell_type": "code",
   "execution_count": 74,
   "metadata": {},
   "outputs": [],
   "source": [
    "roots=[]\n",
    "for t in hyph.end.ts():\n",
    "    #             print(t,tip)\n",
    "    if hyph.end.degree(t) == 1:\n",
    "        root, edges, nodes = hyph.get_edges(t, 200)\n",
    "        roots.append(root)\n",
    "occurence_count = Counter(roots)"
   ]
  },
  {
   "cell_type": "code",
   "execution_count": 75,
   "metadata": {},
   "outputs": [
    {
     "data": {
      "text/plain": [
       "Counter({Node(96): 6,\n",
       "         Node(53): 2,\n",
       "         Node(468): 1,\n",
       "         Node(1174): 2,\n",
       "         Node(1750): 1,\n",
       "         Node(443): 1,\n",
       "         Node(2240): 1})"
      ]
     },
     "execution_count": 75,
     "metadata": {},
     "output_type": "execute_result"
    }
   ],
   "source": [
    "occurence_count"
   ]
  },
  {
   "cell_type": "code",
   "execution_count": 14,
   "metadata": {},
   "outputs": [],
   "source": [
    "class Hyphae:\n",
    "    def __init__(self, tip):\n",
    "        self.experiment = tip.experiment\n",
    "        self.ts = tip.ts()\n",
    "        self.end = tip\n",
    "        self.root = None\n",
    "        self.mother = None\n",
    "\n",
    "    def __eq__(self, other):\n",
    "        return self.end.label == other.end.label\n",
    "\n",
    "    def __repr__(self):\n",
    "        return f\"Hyphae({self.end},{self.root})\"\n",
    "\n",
    "    def __str__(self):\n",
    "        return str((self.end, self.root))\n",
    "\n",
    "    def __hash__(self):\n",
    "        return self.end.label\n",
    "\n",
    "    def get_root(self, t, length=100):\n",
    "        return(None)\n",
    "    \n",
    "    def get_edges(self, t, length=100):\n",
    "        first_neighbour = self.end.neighbours(t)[0]\n",
    "        last_node = self.end\n",
    "        current_node = first_neighbour\n",
    "        current_edge = Edge(last_node, current_node, self.experiment)\n",
    "        moving_on_hyphae = True\n",
    "        edges = [current_edge]\n",
    "        nodes = [last_node, current_node]\n",
    "        i = 0\n",
    "        while moving_on_hyphae:\n",
    "            print(current_edge)\n",
    "            i += 1\n",
    "            if i >= 100:\n",
    "                print(t, self.end, current_node)\n",
    "            if i >= 110:\n",
    "                break\n",
    "            #                 print ('moving',current_node)\n",
    "            if current_node.degree(t) < 2:\n",
    "                #                     print(current_node.degree(t),current_node)\n",
    "                moving_on_hyphae = False\n",
    "            else:\n",
    "                maxi = -np.inf\n",
    "                orientation = current_edge.orientation_end(t, length)\n",
    "                for neighbours_t in current_node.neighbours(t):\n",
    "                    #                     print (neighbours_t)\n",
    "                    candidate_edge = Edge(current_node, neighbours_t, self.experiment)\n",
    "                    orientation_candidate = candidate_edge.orientation_begin(t, length)\n",
    "                    angle = np.cos(\n",
    "                        (orientation - orientation_candidate) / 360 * 2 * np.pi\n",
    "                    )\n",
    "                    print(candidate_edge,angle)\n",
    "                    if angle > maxi:\n",
    "                        maxi = angle\n",
    "                        next_node_candidate = neighbours_t\n",
    "                #                     print(maxi,next_node_candidate)\n",
    "                candidate_edge = Edge(\n",
    "                    current_node, next_node_candidate, self.experiment\n",
    "                )\n",
    "                orientation_candidate = candidate_edge.orientation_begin(t, length)\n",
    "                maxi_compet = -np.inf\n",
    "                #                     print('compet')\n",
    "                for neighbours_t in current_node.neighbours(t):\n",
    "                    if neighbours_t != last_node:\n",
    "                        competitor_edge = Edge(\n",
    "                            neighbours_t, current_node, self.experiment\n",
    "                        )\n",
    "                        orientation_competitor = competitor_edge.orientation_end(\n",
    "                            t, length\n",
    "                        )\n",
    "                        angle = np.cos(\n",
    "                            (orientation_competitor - orientation_candidate)\n",
    "                            / 360\n",
    "                            * 2\n",
    "                            * np.pi\n",
    "                        )\n",
    "                        print(angle,competitor_edge)\n",
    "                        if angle > maxi_compet:\n",
    "                            maxi_compet = angle\n",
    "                            competitor = neighbours_t\n",
    "                #                             print(neighbours_t,angle)\n",
    "                #                     print(maxi_compet,competitor)\n",
    "                if maxi_compet > maxi:\n",
    "                    moving_on_hyphae = False\n",
    "                else:\n",
    "                    last_node, current_node = current_node, next_node_candidate\n",
    "                    current_edge = Edge(last_node, current_node, self.experiment)\n",
    "                    edges.append(current_edge)\n",
    "                    nodes.append(current_node)\n",
    "        #         while moving:\n",
    "        #             c= move_hyphae(llast_node,ccurrent_node)\n",
    "        #             edges += c[0]\n",
    "        #             nodes += c[1]\n",
    "        #             competitor = c[2]\n",
    "        # #             print('moving back', nodes[-1],competitor)\n",
    "        #             move_backward = move_hyphae(nodes[-1],competitor)\n",
    "        #             end_node_move_backward = move_backward[1][-1]\n",
    "        #             if end_node_move_backward in nodes:\n",
    "        # #                 print('restarting',competitor,nodes[-1])\n",
    "        #                 llast_node,ccurrent_node = c[2],nodes[-1]\n",
    "        #             else:\n",
    "        #                 moving=False\n",
    "        root = nodes[-1]\n",
    "        edges = edges\n",
    "        nodes = nodes\n",
    "        return (root, edges, nodes)\n",
    "\n",
    "    def get_nodes_within(self, t):\n",
    "        nodes = nx.shortest_path(\n",
    "            self.experiment.nx_graph[t],\n",
    "            source=self.root.label,\n",
    "            target=self.end.label,\n",
    "            weight=\"weight\",\n",
    "        )\n",
    "        edges = [\n",
    "            Edge(\n",
    "                self.experiment.get_node(nodes[i]),\n",
    "                self.experiment.get_node(nodes[i + 1]),\n",
    "                self.experiment,\n",
    "            )\n",
    "            for i in range(len(nodes) - 1)\n",
    "        ]\n",
    "        return (nodes, edges)\n",
    "\n",
    "    def get_length_pixel(self, t):\n",
    "        nodes, edges = self.get_nodes_within(t)\n",
    "        length = 0\n",
    "        for edge in edges:\n",
    "            length += len(edge.pixel_list(t))\n",
    "        return length\n",
    "\n",
    "    def get_length_um(self, t):\n",
    "        pixel_conversion_factor = 1.725\n",
    "        nodes, edges = self.get_nodes_within(t)\n",
    "        length = 0\n",
    "        for edge in edges:\n",
    "            length_edge = 0\n",
    "            pixels = edge.pixel_list(t)\n",
    "            for i in range(len(pixels) // 10 + 1):\n",
    "                if i * 10 <= len(pixels) - 1:\n",
    "                    length_edge += np.linalg.norm(\n",
    "                        np.array(pixels[i * 10])\n",
    "                        - np.array(pixels[min((i + 1) * 10, len(pixels) - 1)])\n",
    "                    )\n",
    "            #         length_edge+=np.linalg.norm(np.array(pixels[len(pixels)//10-1*10-1])-np.array(pixels[-1]))\n",
    "            length += length_edge\n",
    "        return length * pixel_conversion_factor\n",
    "\n",
    "    def get_mother(self):\n",
    "        candidate_mother = []\n",
    "        for hyphae in self.experiment.hyphaes:\n",
    "            for t in hyphae.ts:\n",
    "                if self.root in hyphae.get_nodes_within(t):\n",
    "                    candidate_mother.append(hyphae)\n",
    "        self.mother = candidate_mother\n",
    "\n",
    "    def update_ts(self):\n",
    "        self.ts = sorted(set(self.end.ts()).intersection(set(self.root.ts())))"
   ]
  },
  {
   "cell_type": "code",
   "execution_count": 10,
   "metadata": {},
   "outputs": [],
   "source": [
    "total_growth_dic ={}\n",
    "for bas in BAS:\n",
    "    hyph = bas\n",
    "    speeds = [c[2] for c in select_hyph[hyph]]\n",
    "    ts = [c[0] for c in select_hyph[hyph]]\n",
    "    tp1s = [c[1] for c in select_hyph[hyph]]\n",
    "    total_growth = np.sum([speed * get_time(hyph.experiment,ts[i],tp1s[i]) for i,speed in enumerate(speeds)])\n",
    "    total_growth_dic[bas] = total_growth"
   ]
  },
  {
   "cell_type": "code",
   "execution_count": 11,
   "metadata": {},
   "outputs": [],
   "source": [
    "BAS_interest = [bas for bas in BAS if total_growth_dic[bas]>=1000]"
   ]
  },
  {
   "cell_type": "code",
   "execution_count": 38,
   "metadata": {},
   "outputs": [
    {
     "data": {
      "text/plain": [
       "13"
      ]
     },
     "execution_count": 38,
     "metadata": {},
     "output_type": "execute_result"
    }
   ],
   "source": [
    "len(BAS_interest)"
   ]
  },
  {
   "cell_type": "code",
   "execution_count": 70,
   "metadata": {},
   "outputs": [
    {
     "data": {
      "text/plain": [
       "1033.459273666884"
      ]
     },
     "execution_count": 70,
     "metadata": {},
     "output_type": "execute_result"
    }
   ],
   "source": [
    "total_growth_dic[hyph]"
   ]
  },
  {
   "cell_type": "code",
   "execution_count": 66,
   "metadata": {},
   "outputs": [
    {
     "data": {
      "text/plain": [
       "[29, 30, 31, 32, 33, 34, 35, 36, 37]"
      ]
     },
     "execution_count": 66,
     "metadata": {},
     "output_type": "execute_result"
    }
   ],
   "source": [
    "hyph = choice(BAS_interest)\n",
    "hyph.ts"
   ]
  },
  {
   "cell_type": "code",
   "execution_count": 69,
   "metadata": {},
   "outputs": [
    {
     "data": {
      "application/vnd.jupyter.widget-view+json": {
       "model_id": "5f8f91c69cb94948ba2b9f60682bf2ff",
       "version_major": 2,
       "version_minor": 0
      },
      "text/plain": [
       "Canvas(toolbar=Toolbar(toolitems=[('Home', 'Reset original view', 'home', 'home'), ('Back', 'Back to previous …"
      ]
     },
     "metadata": {},
     "output_type": "display_data"
    },
    {
     "data": {
      "text/plain": [
       "[<matplotlib.lines.Line2D at 0x2b89f5b27410>]"
      ]
     },
     "execution_count": 69,
     "metadata": {},
     "output_type": "execute_result"
    }
   ],
   "source": [
    "plt.close('all')\n",
    "t0 = select_hyph[hyph][0][0]\n",
    "times=[get_time(rh.experiment,t0,c[0]) for c in select_hyph[hyph]]\n",
    "speeds = [c[2] for c in select_hyph[hyph]]\n",
    "plt.close('all')\n",
    "fig=plt.figure(figsize=(8,8))\n",
    "ax = fig.add_subplot(111)\n",
    "ax.set_xlabel('time (hour)')\n",
    "ax.set_ylabel('speed (um/hour)')\n",
    "ax.plot(times,speeds)"
   ]
  },
  {
   "cell_type": "code",
   "execution_count": 71,
   "metadata": {},
   "outputs": [
    {
     "data": {
      "application/vnd.jupyter.widget-view+json": {
       "model_id": "aa15c89f6b114c2fa362314686822347",
       "version_major": 2,
       "version_minor": 0
      },
      "text/plain": [
       "Canvas(toolbar=Toolbar(toolitems=[('Home', 'Reset original view', 'home', 'home'), ('Back', 'Back to previous …"
      ]
     },
     "metadata": {},
     "output_type": "display_data"
    }
   ],
   "source": [
    "plt.close('all')\n",
    "rh.experiment.plot(hyph.ts,[[hyph.end.label,hyph.root.label]]*len(hyph.ts))"
   ]
  },
  {
   "cell_type": "code",
   "execution_count": 72,
   "metadata": {},
   "outputs": [
    {
     "data": {
      "text/plain": [
       "54.166666666666664"
      ]
     },
     "execution_count": 72,
     "metadata": {},
     "output_type": "execute_result"
    }
   ],
   "source": [
    "1300/24"
   ]
  },
  {
   "cell_type": "code",
   "execution_count": 68,
   "metadata": {},
   "outputs": [
    {
     "data": {
      "application/vnd.jupyter.widget-view+json": {
       "model_id": "cd21adaa301f4e4fa44aed366a818f96",
       "version_major": 2,
       "version_minor": 0
      },
      "text/plain": [
       "Canvas(toolbar=Toolbar(toolitems=[('Home', 'Reset original view', 'home', 'home'), ('Back', 'Back to previous …"
      ]
     },
     "metadata": {},
     "output_type": "display_data"
    },
    {
     "data": {
      "application/vnd.jupyter.widget-view+json": {
       "model_id": "5a6f9928b8634b4ba17b52669ff4e1df",
       "version_major": 2,
       "version_minor": 0
      },
      "text/plain": [
       "Canvas(toolbar=Toolbar(toolitems=[('Home', 'Reset original view', 'home', 'home'), ('Back', 'Back to previous …"
      ]
     },
     "metadata": {},
     "output_type": "display_data"
    }
   ],
   "source": [
    "plt.close('all')\n",
    "hyph.end.show_source_image(hyph.ts[-1],hyph.ts[-1])\n",
    "hyph.root.show_source_image(hyph.ts[-1],hyph.ts[-1])\n"
   ]
  },
  {
   "cell_type": "code",
   "execution_count": 20,
   "metadata": {},
   "outputs": [
    {
     "ename": "NameError",
     "evalue": "name 'exp' is not defined",
     "output_type": "error",
     "traceback": [
      "\u001b[0;31m---------------------------------------------------------------------------\u001b[0m",
      "\u001b[0;31mNameError\u001b[0m                                 Traceback (most recent call last)",
      "\u001b[0;32m<ipython-input-20-aa425dcfd30d>\u001b[0m in \u001b[0;36m<module>\u001b[0;34m\u001b[0m\n\u001b[0;32m----> 1\u001b[0;31m \u001b[0mexp\u001b[0m\u001b[0;34m.\u001b[0m\u001b[0mplot_raw\u001b[0m\u001b[0;34m(\u001b[0m\u001b[0mhyph\u001b[0m\u001b[0;34m.\u001b[0m\u001b[0mts\u001b[0m\u001b[0;34m[\u001b[0m\u001b[0;34m-\u001b[0m\u001b[0;36m1\u001b[0m\u001b[0;34m]\u001b[0m\u001b[0;34m)\u001b[0m\u001b[0;34m\u001b[0m\u001b[0;34m\u001b[0m\u001b[0m\n\u001b[0m",
      "\u001b[0;31mNameError\u001b[0m: name 'exp' is not defined"
     ]
    }
   ],
   "source": [
    "rh.experiment.plot_raw(hyph.ts[-1])"
   ]
  },
  {
   "cell_type": "code",
   "execution_count": 21,
   "metadata": {},
   "outputs": [],
   "source": [
    "window = 800\n",
    "hyph_infos = {}\n",
    "skeletons = [sparse.csr_matrix(skel) for skel in rh.experiment.skeletons]\n",
    "for j,hyph in enumerate(RH):\n",
    "    hyph_infos[hyph] = []\n",
    "    for i,t in enumerate(hyph.ts[:-1]):\n",
    "        tp1=hyph.ts[i+1]\n",
    "        pixels,nodes = get_pixel_growth_and_new_children(hyph,t,tp1)\n",
    "        speed = np.sum([get_length_um(seg) for seg in pixels])/get_time(rh.experiment,t,tp1)\n",
    "        pos = hyph.end.pos(t)\n",
    "        x,y = pos[0],pos[1]\n",
    "        skeleton=skeletons[t][x-window:x+window,y-window:y+window]\n",
    "        density = skeleton.count_nonzero()/window\n",
    "        hyph_infos[hyph].append((t,hyph.ts[i+1],speed,pixels,density))\n",
    "speeds = []\n",
    "densities = []\n",
    "for hyph in RH:\n",
    "    infos = hyph_infos[hyph]\n",
    "    for info in infos:\n",
    "        speed = info[2]\n",
    "        density = info[4]\n",
    "        if speed>=100 and hyph.end.degree(info[1])<3 and density>0:\n",
    "            speeds.append(speed)\n",
    "            densities.append(density/1.725)\n",
    "slope, intercept, r_value, p_value, std_err = stats.linregress(densities,speeds)"
   ]
  },
  {
   "cell_type": "code",
   "execution_count": 49,
   "metadata": {},
   "outputs": [
    {
     "data": {
      "application/vnd.jupyter.widget-view+json": {
       "model_id": "27118df20602416680d1a49719841f77",
       "version_major": 2,
       "version_minor": 0
      },
      "text/plain": [
       "Canvas(toolbar=Toolbar(toolitems=[('Home', 'Reset original view', 'home', 'home'), ('Back', 'Back to previous …"
      ]
     },
     "metadata": {},
     "output_type": "display_data"
    },
    {
     "data": {
      "text/plain": [
       "(0.13304401016453313, 1.1901009796021612e-17, -14.397045471705182)"
      ]
     },
     "execution_count": 49,
     "metadata": {},
     "output_type": "execute_result"
    }
   ],
   "source": [
    "zipped_list = zip(densities,speeds)\n",
    "sorted_zip = sorted(zipped_list)\n",
    "densities_sort,speed_sort = zip(*sorted_zip)\n",
    "plt.close('all')\n",
    "fig=plt.figure(figsize=(8,8))\n",
    "ax = fig.add_subplot(111)\n",
    "ax.set_xlabel(r'density ($\\mu m .\\mu m^{-1})$')\n",
    "ax.set_ylabel('speed ($\\mu m.hour^{-1})$')\n",
    "xlim=8\n",
    "ax.set_xlim((0,xlim))\n",
    "ax.set_ylim((0,450))\n",
    "# N=len(densities)\n",
    "N=30\n",
    "ax.scatter(densities_sort,speed_sort,color='yellow',label='observed speeds')\n",
    "ax.plot(uniform_filter1d(densities_sort, size=N),uniform_filter1d(speed_sort, size=N),color='green',label = 'moving average')\n",
    "# ax.set_title(r'$r^2=$'+f'{round(r_value**2,max(2,-int(np.log10(r_value**2))+2))}, p_value = {round(p_value**2,max(2,-int(np.log10(p_value**2))+2))}, slope = {round(slope,4)}')\n",
    "x= range(0,xlim+1)\n",
    "legend_str = r'linear regression : $r^2=$'+f'{round(r_value**2,max(2,-int(np.log10(r_value**2))+2))}, p-value = {round(p_value,max(2,-int(np.log10(p_value))+2))}, slope = {round(slope,4)}'\n",
    "line, = ax.plot(x,x*slope+intercept,color='red',label = legend_str)\n",
    "\n",
    "ax.legend()\n",
    "r_value**2,p_value, slope"
   ]
  },
  {
   "cell_type": "code",
   "execution_count": 53,
   "metadata": {},
   "outputs": [],
   "source": [
    "selected =[]\n",
    "for hyph in RH:\n",
    "    infos = hyph_infos[hyph]\n",
    "    for info in infos:\n",
    "        speed = info[2]\n",
    "        density = info[4]\n",
    "        t = info[0]\n",
    "        tp1 = info[1]\n",
    "        if speed<=400 and density>=3 and speed>=100 and hyph.end.degree(info[1])<3:\n",
    "            selected.append((hyph,t,tp1,speed,density))"
   ]
  },
  {
   "cell_type": "code",
   "execution_count": 84,
   "metadata": {},
   "outputs": [],
   "source": [
    "# hyph,t,tp1,speed,density = choice(selected)\n",
    "label = 27\n",
    "\n",
    "hyph,t,tp1,speed,density = [example for example in [hyph for hyph in selected if hyph[0].end.label==label]][-1]\n"
   ]
  },
  {
   "cell_type": "code",
   "execution_count": 70,
   "metadata": {},
   "outputs": [
    {
     "data": {
      "text/plain": [
       "(Hyphae(1049,246), 11, 12, 148.22632862084015, 4.04125)"
      ]
     },
     "execution_count": 70,
     "metadata": {},
     "output_type": "execute_result"
    }
   ],
   "source": [
    "hyph, t,tp1,speed,density"
   ]
  },
  {
   "cell_type": "code",
   "execution_count": 85,
   "metadata": {},
   "outputs": [
    {
     "data": {
      "application/vnd.jupyter.widget-view+json": {
       "model_id": "dca0c1b10b6a4b10876dc5f684585e1d",
       "version_major": 2,
       "version_minor": 0
      },
      "text/plain": [
       "Canvas(toolbar=Toolbar(toolitems=[('Home', 'Reset original view', 'home', 'home'), ('Back', 'Back to previous …"
      ]
     },
     "metadata": {},
     "output_type": "display_data"
    }
   ],
   "source": [
    "hyph.end.show_source_image(t,tp1)\n"
   ]
  },
  {
   "cell_type": "code",
   "execution_count": 86,
   "metadata": {},
   "outputs": [
    {
     "data": {
      "text/plain": [
       "0.991962388624081"
      ]
     },
     "execution_count": 86,
     "metadata": {},
     "output_type": "execute_result"
    }
   ],
   "source": []
  },
  {
   "cell_type": "code",
   "execution_count": 46,
   "metadata": {},
   "outputs": [
    {
     "data": {
      "text/plain": [
       "424.6339600173307"
      ]
     },
     "execution_count": 46,
     "metadata": {},
     "output_type": "execute_result"
    }
   ],
   "source": [
    "np.linalg.norm(hyph.end.pos(t)-hyph.end.pos(tp1))"
   ]
  },
  {
   "cell_type": "code",
   "execution_count": 89,
   "metadata": {},
   "outputs": [],
   "source": [
    "window = 800\n",
    "hyph_infos = {}\n",
    "skeletons = [sparse.csr_matrix(skel) for skel in rh.experiment.skeletons]\n",
    "for j,hyph in enumerate(RH):\n",
    "    hyph_infos[hyph] = []\n",
    "    for i,t in enumerate(hyph.ts[:-1]):\n",
    "        tp1=hyph.ts[i+1]\n",
    "        pixels,nodes = get_pixel_growth_and_new_children(hyph,t,tp1)\n",
    "        speed = np.sum([get_length_um(seg) for seg in pixels])/get_time(rh.experiment,t,tp1)\n",
    "        pos = hyph.end.pos(t)\n",
    "        x,y = pos[0],pos[1]\n",
    "        if speed>0:\n",
    "            straightness = np.linalg.norm(hyph.end.pos(t)-hyph.end.pos(tp1))*1.725/(speed*get_time(hyph.experiment,t,tp1))\n",
    "            hyph_infos[hyph].append((t,hyph.ts[i+1],speed,pixels,straightness))"
   ]
  },
  {
   "cell_type": "code",
   "execution_count": 107,
   "metadata": {},
   "outputs": [],
   "source": [
    "selected =[]\n",
    "for hyph in RH:\n",
    "    infos = hyph_infos[hyph]\n",
    "    for info in infos:\n",
    "        speed = info[2]\n",
    "        straightness = info[4]\n",
    "        t = info[0]\n",
    "        tp1 = info[1]\n",
    "        if speed<=400 and straightness<=0.97 and speed>=100 and hyph.end.degree(info[1])<3:\n",
    "            selected.append((hyph,t,tp1,speed,straightness))"
   ]
  },
  {
   "cell_type": "code",
   "execution_count": 101,
   "metadata": {},
   "outputs": [
    {
     "data": {
      "text/plain": [
       "54"
      ]
     },
     "execution_count": 101,
     "metadata": {},
     "output_type": "execute_result"
    }
   ],
   "source": [
    "len(selected)"
   ]
  },
  {
   "cell_type": "code",
   "execution_count": 126,
   "metadata": {},
   "outputs": [
    {
     "data": {
      "text/plain": [
       "(135.96895995284052, 0.968780747471544)"
      ]
     },
     "execution_count": 126,
     "metadata": {},
     "output_type": "execute_result"
    }
   ],
   "source": [
    "plt.close('all')\n",
    "hyph,t,tp1,speed,straightness = choice(selected)\n",
    "speed,straightness"
   ]
  },
  {
   "cell_type": "code",
   "execution_count": 127,
   "metadata": {},
   "outputs": [
    {
     "data": {
      "application/vnd.jupyter.widget-view+json": {
       "model_id": "5abc5cb54f5848a88bbb6053c0e3e16b",
       "version_major": 2,
       "version_minor": 0
      },
      "text/plain": [
       "Canvas(toolbar=Toolbar(toolitems=[('Home', 'Reset original view', 'home', 'home'), ('Back', 'Back to previous …"
      ]
     },
     "metadata": {},
     "output_type": "display_data"
    }
   ],
   "source": [
    "hyph.end.show_source_image(t,tp1)\n"
   ]
  },
  {
   "cell_type": "code",
   "execution_count": 16,
   "metadata": {},
   "outputs": [
    {
     "data": {
      "text/plain": [
       "((515,), 515)"
      ]
     },
     "execution_count": 16,
     "metadata": {},
     "output_type": "execute_result"
    }
   ],
   "source": [
    "from scipy.ndimage.filters import uniform_filter1d\n",
    "uniform_filter1d(speeds, size=10).shape,len(speeds)"
   ]
  },
  {
   "cell_type": "code",
   "execution_count": 14,
   "metadata": {},
   "outputs": [
    {
     "data": {
      "text/plain": [
       "array([222.63508958])"
      ]
     },
     "execution_count": 14,
     "metadata": {},
     "output_type": "execute_result"
    }
   ],
   "source": [
    "np.convolve(speeds, np.ones(N)/N, mode='valid')"
   ]
  },
  {
   "cell_type": "code",
   "execution_count": 9,
   "metadata": {},
   "outputs": [
    {
     "data": {
      "text/plain": [
       "811.5942028985506"
      ]
     },
     "execution_count": 9,
     "metadata": {},
     "output_type": "execute_result"
    }
   ],
   "source": [
    "1400/1.725"
   ]
  },
  {
   "cell_type": "code",
   "execution_count": 5,
   "metadata": {
    "collapsed": true,
    "jupyter": {
     "outputs_hidden": true
    }
   },
   "outputs": [
    {
     "name": "stderr",
     "output_type": "stream",
     "text": [
      "ERROR:root:Internal Python error in the inspect module.\n",
      "Below is the traceback from this internal error.\n",
      "\n"
     ]
    },
    {
     "name": "stdout",
     "output_type": "stream",
     "text": [
      "Traceback (most recent call last):\n",
      "  File \"/home/cbisot/anaconda3/envs/test/lib/python3.7/site-packages/IPython/core/interactiveshell.py\", line 3418, in run_code\n",
      "    exec(code_obj, self.user_global_ns, self.user_ns)\n",
      "  File \"<ipython-input-5-9921a2213305>\", line 5, in <module>\n",
      "    hyph_infos[hyph] = []\n",
      "NameError: name 'hyph_infos' is not defined\n",
      "\n",
      "During handling of the above exception, another exception occurred:\n",
      "\n",
      "Traceback (most recent call last):\n",
      "  File \"/home/cbisot/anaconda3/envs/test/lib/python3.7/site-packages/IPython/core/interactiveshell.py\", line 2045, in showtraceback\n",
      "    stb = value._render_traceback_()\n",
      "AttributeError: 'NameError' object has no attribute '_render_traceback_'\n",
      "\n",
      "During handling of the above exception, another exception occurred:\n",
      "\n",
      "Traceback (most recent call last):\n",
      "  File \"/home/cbisot/anaconda3/envs/test/lib/python3.7/site-packages/IPython/core/ultratb.py\", line 1170, in get_records\n",
      "    return _fixed_getinnerframes(etb, number_of_lines_of_context, tb_offset)\n",
      "  File \"/home/cbisot/anaconda3/envs/test/lib/python3.7/site-packages/IPython/core/ultratb.py\", line 316, in wrapped\n",
      "    return f(*args, **kwargs)\n",
      "  File \"/home/cbisot/anaconda3/envs/test/lib/python3.7/site-packages/IPython/core/ultratb.py\", line 350, in _fixed_getinnerframes\n",
      "    records = fix_frame_records_filenames(inspect.getinnerframes(etb, context))\n",
      "  File \"/home/cbisot/anaconda3/envs/test/lib/python3.7/inspect.py\", line 1502, in getinnerframes\n",
      "    frameinfo = (tb.tb_frame,) + getframeinfo(tb, context)\n",
      "  File \"/home/cbisot/anaconda3/envs/test/lib/python3.7/inspect.py\", line 1460, in getframeinfo\n",
      "    filename = getsourcefile(frame) or getfile(frame)\n",
      "  File \"/home/cbisot/anaconda3/envs/test/lib/python3.7/inspect.py\", line 696, in getsourcefile\n",
      "    if getattr(getmodule(object, filename), '__loader__', None) is not None:\n",
      "  File \"/home/cbisot/anaconda3/envs/test/lib/python3.7/inspect.py\", line 742, in getmodule\n",
      "    os.path.realpath(f)] = module.__name__\n",
      "  File \"/home/cbisot/anaconda3/envs/test/lib/python3.7/posixpath.py\", line 395, in realpath\n",
      "    path, ok = _joinrealpath(filename[:0], filename, {})\n",
      "  File \"/home/cbisot/anaconda3/envs/test/lib/python3.7/posixpath.py\", line 446, in _joinrealpath\n",
      "    seen[newpath] = path # resolved symlink\n",
      "KeyboardInterrupt\n"
     ]
    },
    {
     "ename": "TypeError",
     "evalue": "object of type 'NoneType' has no len()",
     "output_type": "error",
     "traceback": [
      "\u001b[0;31m---------------------------------------------------------------------------\u001b[0m",
      "\u001b[0;31mNameError\u001b[0m                                 Traceback (most recent call last)",
      "    \u001b[0;31m[... skipping hidden 1 frame]\u001b[0m\n",
      "\u001b[0;32m<ipython-input-5-9921a2213305>\u001b[0m in \u001b[0;36m<module>\u001b[0;34m\u001b[0m\n\u001b[1;32m      4\u001b[0m \u001b[0;32mfor\u001b[0m \u001b[0mj\u001b[0m\u001b[0;34m,\u001b[0m\u001b[0mhyph\u001b[0m \u001b[0;32min\u001b[0m \u001b[0menumerate\u001b[0m\u001b[0;34m(\u001b[0m\u001b[0mRH\u001b[0m\u001b[0;34m)\u001b[0m\u001b[0;34m:\u001b[0m\u001b[0;34m\u001b[0m\u001b[0;34m\u001b[0m\u001b[0m\n\u001b[0;32m----> 5\u001b[0;31m     \u001b[0mhyph_infos\u001b[0m\u001b[0;34m[\u001b[0m\u001b[0mhyph\u001b[0m\u001b[0;34m]\u001b[0m \u001b[0;34m=\u001b[0m \u001b[0;34m[\u001b[0m\u001b[0;34m]\u001b[0m\u001b[0;34m\u001b[0m\u001b[0;34m\u001b[0m\u001b[0m\n\u001b[0m\u001b[1;32m      6\u001b[0m     \u001b[0;32mfor\u001b[0m \u001b[0mi\u001b[0m\u001b[0;34m,\u001b[0m\u001b[0mt\u001b[0m \u001b[0;32min\u001b[0m \u001b[0menumerate\u001b[0m\u001b[0;34m(\u001b[0m\u001b[0mhyph\u001b[0m\u001b[0;34m.\u001b[0m\u001b[0mts\u001b[0m\u001b[0;34m[\u001b[0m\u001b[0;34m:\u001b[0m\u001b[0;34m-\u001b[0m\u001b[0;36m1\u001b[0m\u001b[0;34m]\u001b[0m\u001b[0;34m)\u001b[0m\u001b[0;34m:\u001b[0m\u001b[0;34m\u001b[0m\u001b[0;34m\u001b[0m\u001b[0m\n",
      "\u001b[0;31mNameError\u001b[0m: name 'hyph_infos' is not defined",
      "\nDuring handling of the above exception, another exception occurred:\n",
      "\u001b[0;31mAttributeError\u001b[0m                            Traceback (most recent call last)",
      "\u001b[0;32m~/anaconda3/envs/test/lib/python3.7/site-packages/IPython/core/interactiveshell.py\u001b[0m in \u001b[0;36mshowtraceback\u001b[0;34m(self, exc_tuple, filename, tb_offset, exception_only, running_compiled_code)\u001b[0m\n\u001b[1;32m   2044\u001b[0m                         \u001b[0;31m# in the engines. This should return a list of strings.\u001b[0m\u001b[0;34m\u001b[0m\u001b[0;34m\u001b[0m\u001b[0;34m\u001b[0m\u001b[0m\n\u001b[0;32m-> 2045\u001b[0;31m                         \u001b[0mstb\u001b[0m \u001b[0;34m=\u001b[0m \u001b[0mvalue\u001b[0m\u001b[0;34m.\u001b[0m\u001b[0m_render_traceback_\u001b[0m\u001b[0;34m(\u001b[0m\u001b[0;34m)\u001b[0m\u001b[0;34m\u001b[0m\u001b[0;34m\u001b[0m\u001b[0m\n\u001b[0m\u001b[1;32m   2046\u001b[0m                     \u001b[0;32mexcept\u001b[0m \u001b[0mException\u001b[0m\u001b[0;34m:\u001b[0m\u001b[0;34m\u001b[0m\u001b[0;34m\u001b[0m\u001b[0m\n",
      "\u001b[0;31mAttributeError\u001b[0m: 'NameError' object has no attribute '_render_traceback_'",
      "\nDuring handling of the above exception, another exception occurred:\n",
      "\u001b[0;31mTypeError\u001b[0m                                 Traceback (most recent call last)",
      "    \u001b[0;31m[... skipping hidden 1 frame]\u001b[0m\n",
      "\u001b[0;32m~/anaconda3/envs/test/lib/python3.7/site-packages/IPython/core/interactiveshell.py\u001b[0m in \u001b[0;36mshowtraceback\u001b[0;34m(self, exc_tuple, filename, tb_offset, exception_only, running_compiled_code)\u001b[0m\n\u001b[1;32m   2046\u001b[0m                     \u001b[0;32mexcept\u001b[0m \u001b[0mException\u001b[0m\u001b[0;34m:\u001b[0m\u001b[0;34m\u001b[0m\u001b[0;34m\u001b[0m\u001b[0m\n\u001b[1;32m   2047\u001b[0m                         stb = self.InteractiveTB.structured_traceback(etype,\n\u001b[0;32m-> 2048\u001b[0;31m                                             value, tb, tb_offset=tb_offset)\n\u001b[0m\u001b[1;32m   2049\u001b[0m \u001b[0;34m\u001b[0m\u001b[0m\n\u001b[1;32m   2050\u001b[0m                     \u001b[0mself\u001b[0m\u001b[0;34m.\u001b[0m\u001b[0m_showtraceback\u001b[0m\u001b[0;34m(\u001b[0m\u001b[0metype\u001b[0m\u001b[0;34m,\u001b[0m \u001b[0mvalue\u001b[0m\u001b[0;34m,\u001b[0m \u001b[0mstb\u001b[0m\u001b[0;34m)\u001b[0m\u001b[0;34m\u001b[0m\u001b[0;34m\u001b[0m\u001b[0m\n",
      "\u001b[0;32m~/anaconda3/envs/test/lib/python3.7/site-packages/IPython/core/ultratb.py\u001b[0m in \u001b[0;36mstructured_traceback\u001b[0;34m(self, etype, value, tb, tb_offset, number_of_lines_of_context)\u001b[0m\n\u001b[1;32m   1435\u001b[0m             \u001b[0mself\u001b[0m\u001b[0;34m.\u001b[0m\u001b[0mtb\u001b[0m \u001b[0;34m=\u001b[0m \u001b[0mtb\u001b[0m\u001b[0;34m\u001b[0m\u001b[0;34m\u001b[0m\u001b[0m\n\u001b[1;32m   1436\u001b[0m         return FormattedTB.structured_traceback(\n\u001b[0;32m-> 1437\u001b[0;31m             self, etype, value, tb, tb_offset, number_of_lines_of_context)\n\u001b[0m\u001b[1;32m   1438\u001b[0m \u001b[0;34m\u001b[0m\u001b[0m\n\u001b[1;32m   1439\u001b[0m \u001b[0;34m\u001b[0m\u001b[0m\n",
      "\u001b[0;32m~/anaconda3/envs/test/lib/python3.7/site-packages/IPython/core/ultratb.py\u001b[0m in \u001b[0;36mstructured_traceback\u001b[0;34m(self, etype, value, tb, tb_offset, number_of_lines_of_context)\u001b[0m\n\u001b[1;32m   1335\u001b[0m             \u001b[0;31m# Verbose modes need a full traceback\u001b[0m\u001b[0;34m\u001b[0m\u001b[0;34m\u001b[0m\u001b[0;34m\u001b[0m\u001b[0m\n\u001b[1;32m   1336\u001b[0m             return VerboseTB.structured_traceback(\n\u001b[0;32m-> 1337\u001b[0;31m                 \u001b[0mself\u001b[0m\u001b[0;34m,\u001b[0m \u001b[0metype\u001b[0m\u001b[0;34m,\u001b[0m \u001b[0mvalue\u001b[0m\u001b[0;34m,\u001b[0m \u001b[0mtb\u001b[0m\u001b[0;34m,\u001b[0m \u001b[0mtb_offset\u001b[0m\u001b[0;34m,\u001b[0m \u001b[0mnumber_of_lines_of_context\u001b[0m\u001b[0;34m\u001b[0m\u001b[0;34m\u001b[0m\u001b[0m\n\u001b[0m\u001b[1;32m   1338\u001b[0m             )\n\u001b[1;32m   1339\u001b[0m         \u001b[0;32melif\u001b[0m \u001b[0mmode\u001b[0m \u001b[0;34m==\u001b[0m \u001b[0;34m'Minimal'\u001b[0m\u001b[0;34m:\u001b[0m\u001b[0;34m\u001b[0m\u001b[0;34m\u001b[0m\u001b[0m\n",
      "\u001b[0;32m~/anaconda3/envs/test/lib/python3.7/site-packages/IPython/core/ultratb.py\u001b[0m in \u001b[0;36mstructured_traceback\u001b[0;34m(self, etype, evalue, etb, tb_offset, number_of_lines_of_context)\u001b[0m\n\u001b[1;32m   1192\u001b[0m \u001b[0;34m\u001b[0m\u001b[0m\n\u001b[1;32m   1193\u001b[0m         formatted_exception = self.format_exception_as_a_whole(etype, evalue, etb, number_of_lines_of_context,\n\u001b[0;32m-> 1194\u001b[0;31m                                                                tb_offset)\n\u001b[0m\u001b[1;32m   1195\u001b[0m \u001b[0;34m\u001b[0m\u001b[0m\n\u001b[1;32m   1196\u001b[0m         \u001b[0mcolors\u001b[0m \u001b[0;34m=\u001b[0m \u001b[0mself\u001b[0m\u001b[0;34m.\u001b[0m\u001b[0mColors\u001b[0m  \u001b[0;31m# just a shorthand + quicker name lookup\u001b[0m\u001b[0;34m\u001b[0m\u001b[0;34m\u001b[0m\u001b[0m\n",
      "\u001b[0;32m~/anaconda3/envs/test/lib/python3.7/site-packages/IPython/core/ultratb.py\u001b[0m in \u001b[0;36mformat_exception_as_a_whole\u001b[0;34m(self, etype, evalue, etb, number_of_lines_of_context, tb_offset)\u001b[0m\n\u001b[1;32m   1149\u001b[0m \u001b[0;34m\u001b[0m\u001b[0m\n\u001b[1;32m   1150\u001b[0m \u001b[0;34m\u001b[0m\u001b[0m\n\u001b[0;32m-> 1151\u001b[0;31m         \u001b[0mlast_unique\u001b[0m\u001b[0;34m,\u001b[0m \u001b[0mrecursion_repeat\u001b[0m \u001b[0;34m=\u001b[0m \u001b[0mfind_recursion\u001b[0m\u001b[0;34m(\u001b[0m\u001b[0morig_etype\u001b[0m\u001b[0;34m,\u001b[0m \u001b[0mevalue\u001b[0m\u001b[0;34m,\u001b[0m \u001b[0mrecords\u001b[0m\u001b[0;34m)\u001b[0m\u001b[0;34m\u001b[0m\u001b[0;34m\u001b[0m\u001b[0m\n\u001b[0m\u001b[1;32m   1152\u001b[0m \u001b[0;34m\u001b[0m\u001b[0m\n\u001b[1;32m   1153\u001b[0m         \u001b[0mframes\u001b[0m \u001b[0;34m=\u001b[0m \u001b[0mself\u001b[0m\u001b[0;34m.\u001b[0m\u001b[0mformat_records\u001b[0m\u001b[0;34m(\u001b[0m\u001b[0mrecords\u001b[0m\u001b[0;34m,\u001b[0m \u001b[0mlast_unique\u001b[0m\u001b[0;34m,\u001b[0m \u001b[0mrecursion_repeat\u001b[0m\u001b[0;34m)\u001b[0m\u001b[0;34m\u001b[0m\u001b[0;34m\u001b[0m\u001b[0m\n",
      "\u001b[0;32m~/anaconda3/envs/test/lib/python3.7/site-packages/IPython/core/ultratb.py\u001b[0m in \u001b[0;36mfind_recursion\u001b[0;34m(etype, value, records)\u001b[0m\n\u001b[1;32m    449\u001b[0m     \u001b[0;31m# first frame (from in to out) that looks different.\u001b[0m\u001b[0;34m\u001b[0m\u001b[0;34m\u001b[0m\u001b[0;34m\u001b[0m\u001b[0m\n\u001b[1;32m    450\u001b[0m     \u001b[0;32mif\u001b[0m \u001b[0;32mnot\u001b[0m \u001b[0mis_recursion_error\u001b[0m\u001b[0;34m(\u001b[0m\u001b[0metype\u001b[0m\u001b[0;34m,\u001b[0m \u001b[0mvalue\u001b[0m\u001b[0;34m,\u001b[0m \u001b[0mrecords\u001b[0m\u001b[0;34m)\u001b[0m\u001b[0;34m:\u001b[0m\u001b[0;34m\u001b[0m\u001b[0;34m\u001b[0m\u001b[0m\n\u001b[0;32m--> 451\u001b[0;31m         \u001b[0;32mreturn\u001b[0m \u001b[0mlen\u001b[0m\u001b[0;34m(\u001b[0m\u001b[0mrecords\u001b[0m\u001b[0;34m)\u001b[0m\u001b[0;34m,\u001b[0m \u001b[0;36m0\u001b[0m\u001b[0;34m\u001b[0m\u001b[0;34m\u001b[0m\u001b[0m\n\u001b[0m\u001b[1;32m    452\u001b[0m \u001b[0;34m\u001b[0m\u001b[0m\n\u001b[1;32m    453\u001b[0m     \u001b[0;31m# Select filename, lineno, func_name to track frames with\u001b[0m\u001b[0;34m\u001b[0m\u001b[0;34m\u001b[0m\u001b[0;34m\u001b[0m\u001b[0m\n",
      "\u001b[0;31mTypeError\u001b[0m: object of type 'NoneType' has no len()"
     ]
    }
   ],
   "source": [
    "window = 2000\n",
    "selected = []\n",
    "skeletons = [sparse.csr_matrix(skel) for skel in rh.experiment.skeletons]\n",
    "for j,hyph in enumerate(RH):\n",
    "    hyph_infos[hyph] = []\n",
    "    for i,t in enumerate(hyph.ts[:-1]):\n",
    "        tp1=hyph.ts[i+1]\n",
    "        pixels,nodes = get_pixel_growth_and_new_children(hyph,t,tp1)\n",
    "        speed = np.sum([get_length_um(seg) for seg in pixels])/get_time(rh.experiment,t,tp1)\n",
    "        pos = hyph.end.pos(t)\n",
    "        x,y = pos[0],pos[1]\n",
    "        skeleton=skeletons[t][x-window:x+window,y-window:y+window]\n",
    "        density = skeleton.count_nonzero()/window\n",
    "        if speed<=150 and speed>=100 and hyph.end.degree(tp1)<3:\n",
    "            selected.append((hyph,t,hyph.ts[i+1],speed,pixels,density))"
   ]
  },
  {
   "cell_type": "code",
   "execution_count": 69,
   "metadata": {},
   "outputs": [
    {
     "name": "stdout",
     "output_type": "stream",
     "text": [
      "105.9093037130196 35.0735\n"
     ]
    }
   ],
   "source": [
    "hyph,t,tp1,speed,pixels,density = choice(selected)\n",
    "print(speed,density)"
   ]
  },
  {
   "cell_type": "code",
   "execution_count": 70,
   "metadata": {},
   "outputs": [
    {
     "data": {
      "application/vnd.jupyter.widget-view+json": {
       "model_id": "aab1526a56cc4dda85f550bfb44e14f2",
       "version_major": 2,
       "version_minor": 0
      },
      "text/plain": [
       "Canvas(toolbar=Toolbar(toolitems=[('Home', 'Reset original view', 'home', 'home'), ('Back', 'Back to previous …"
      ]
     },
     "metadata": {},
     "output_type": "display_data"
    }
   ],
   "source": [
    "plt.close('all')\n",
    "hyph.end.show_source_image(t,tp1)"
   ]
  },
  {
   "cell_type": "code",
   "execution_count": 67,
   "metadata": {},
   "outputs": [
    {
     "data": {
      "application/vnd.jupyter.widget-view+json": {
       "model_id": "dcc325a995e544fe9ea11cf61a4a1573",
       "version_major": 2,
       "version_minor": 0
      },
      "text/plain": [
       "Canvas(toolbar=Toolbar(toolitems=[('Home', 'Reset original view', 'home', 'home'), ('Back', 'Back to previous …"
      ]
     },
     "metadata": {},
     "output_type": "display_data"
    }
   ],
   "source": [
    "hyph.experiment.plot([t,tp1],[[hyph.end.label]]*2)"
   ]
  },
  {
   "cell_type": "code",
   "execution_count": 48,
   "metadata": {},
   "outputs": [],
   "source": [
    "t0 = 0\n",
    "speeds = []\n",
    "times=[]\n",
    "for hyph in RH:\n",
    "    infos = hyph_infos[hyph]\n",
    "    for info in infos:\n",
    "        time = get_time(rh.experiment,t0,info[0])\n",
    "        speed = info[2]\n",
    "        density = info[4]\n",
    "        if speed>=100 and hyph.end.degree(info[1])<3 and density>0:\n",
    "            speeds.append(speed)\n",
    "            times.append(time)"
   ]
  },
  {
   "cell_type": "code",
   "execution_count": 49,
   "metadata": {},
   "outputs": [],
   "source": [
    "slope, intercept, r_value, p_value, std_err = stats.linregress(times,speeds)"
   ]
  },
  {
   "cell_type": "code",
   "execution_count": 56,
   "metadata": {},
   "outputs": [
    {
     "data": {
      "application/vnd.jupyter.widget-view+json": {
       "model_id": "e1b651ce14734c6dac1664bb1cd2c64d",
       "version_major": 2,
       "version_minor": 0
      },
      "text/plain": [
       "Canvas(toolbar=Toolbar(toolitems=[('Home', 'Reset original view', 'home', 'home'), ('Back', 'Back to previous …"
      ]
     },
     "metadata": {},
     "output_type": "display_data"
    },
    {
     "data": {
      "text/plain": [
       "<matplotlib.legend.Legend at 0x2b102f14ae10>"
      ]
     },
     "execution_count": 56,
     "metadata": {},
     "output_type": "execute_result"
    }
   ],
   "source": [
    "zipped_list = zip(times,speeds)\n",
    "sorted_zip = sorted(zipped_list)\n",
    "times_sort,speed_sort = zip(*sorted_zip)\n",
    "fig=plt.figure(figsize=(8,8))\n",
    "ax = fig.add_subplot(111)\n",
    "ax.set_xlabel('time since start of imaging ($hour$)')\n",
    "ax.set_ylabel('speed ($\\mu m.hour^{-1})$')\n",
    "xlim = int(get_time(rh.experiment,t0,len(rh.experiment.nx_graph)-1))+1\n",
    "ax.set_xlim((0,xlim))\n",
    "ax.set_ylim((0,450))\n",
    "\n",
    "x= range(0,xlim)\n",
    "\n",
    "N=30\n",
    "ax.scatter(times_sort,speed_sort,color='yellow',label='observed speeds')\n",
    "ax.plot(uniform_filter1d(times_sort, size=N),uniform_filter1d(speed_sort, size=N),color='green',label = 'moving average')\n",
    "# ax.set_title(r'$r^2=$'+f'{round(r_value**2,max(2,-int(np.log10(r_value**2))+2))}, p_value = {round(p_value**2,max(2,-int(np.log10(p_value**2))+2))}, slope = {round(slope,4)}')\n",
    "x= range(0,xlim+1)\n",
    "legend_str = r'linear regression : $r^2=$'+f'{round(r_value**2,max(2,-int(np.log10(r_value**2))+2))}, p-value = {round(p_value,max(2,-int(np.log10(p_value))+2))}, slope = {round(slope,4)}'\n",
    "line, = ax.plot(x,x*slope+intercept,color='red',label = legend_str)\n",
    "ax.legend()\n"
   ]
  },
  {
   "cell_type": "code",
   "execution_count": 11,
   "metadata": {},
   "outputs": [],
   "source": [
    "def estimate_growth_mult(insts,criter):\n",
    "    max_growths_exp=[]\n",
    "    for inst in insts:\n",
    "        max_growth_rh = []\n",
    "        exp = get_exp(inst)\n",
    "        RH, BAS, max_growths, total_growths, lengths, branch_frequ, select_hyph = get_rh_bas(exp,criter)\n",
    "        print(inst,len(RH))\n",
    "        for rh in RH:\n",
    "            growths = [c[2] for c in select_hyph[rh]]\n",
    "            max_growth = np.max(growths)\n",
    "            max_growth_rh.append(max_growth)\n",
    "        max_growths_exp.append(max_growth_rh)\n",
    "    return(max_growths_exp)"
   ]
  },
  {
   "cell_type": "code",
   "execution_count": 12,
   "metadata": {},
   "outputs": [
    {
     "name": "stdout",
     "output_type": "stream",
     "text": [
      "begin = 2020-09-29 15:17:00 \n",
      "  end = 2020-10-03 19:34:00\n",
      "(33, 5, 25) 237\n",
      "begin = 2020-10-01 15:52:00 \n",
      "  end = 2020-10-05 11:16:00\n",
      "(39, 151, 165) 57\n",
      "begin = 2020-09-22 13:17:00 \n",
      "  end = 2020-09-24 09:18:00\n",
      "(14, 0, 11) 32\n"
     ]
    }
   ],
   "source": [
    "inst_25 = [(33,5,25),(39,151,165),(14,0,11)]\n",
    "max_growths25 = estimate_growth_mult(inst_25,criter)\n"
   ]
  },
  {
   "cell_type": "code",
   "execution_count": 13,
   "metadata": {},
   "outputs": [
    {
     "data": {
      "text/plain": [
       "326"
      ]
     },
     "execution_count": 13,
     "metadata": {},
     "output_type": "execute_result"
    }
   ],
   "source": [
    "len(max_growths25)"
   ]
  },
  {
   "cell_type": "code",
   "execution_count": 15,
   "metadata": {},
   "outputs": [
    {
     "data": {
      "application/vnd.jupyter.widget-view+json": {
       "model_id": "882f441e2d9844fda4727fabda9a7f43",
       "version_major": 2,
       "version_minor": 0
      },
      "text/plain": [
       "Canvas(toolbar=Toolbar(toolitems=[('Home', 'Reset original view', 'home', 'home'), ('Back', 'Back to previous …"
      ]
     },
     "metadata": {},
     "output_type": "display_data"
    },
    {
     "data": {
      "text/plain": [
       "(array([27., 37., 66., 46., 56., 47., 23.,  4.,  3.,  1.,  3.,  1.,  2.,\n",
       "         2.,  0.,  1.,  1.,  3.,  0.,  1.,  0.,  0.,  1.,  0.,  0.,  0.,\n",
       "         0.,  0.,  0.,  1.]),\n",
       " array([  50.09833821,   93.47335413,  136.84837005,  180.22338598,\n",
       "         223.5984019 ,  266.97341782,  310.34843375,  353.72344967,\n",
       "         397.09846559,  440.47348152,  483.84849744,  527.22351336,\n",
       "         570.59852929,  613.97354521,  657.34856113,  700.72357706,\n",
       "         744.09859298,  787.4736089 ,  830.84862483,  874.22364075,\n",
       "         917.59865667,  960.9736726 , 1004.34868852, 1047.72370444,\n",
       "        1091.09872037, 1134.47373629, 1177.84875221, 1221.22376814,\n",
       "        1264.59878406, 1307.97379998, 1351.34881591]),\n",
       " <a list of 30 Patch objects>)"
      ]
     },
     "execution_count": 15,
     "metadata": {},
     "output_type": "execute_result"
    }
   ],
   "source": [
    "fig=plt.figure(figsize=(8,8))\n",
    "ax = fig.add_subplot(111)\n",
    "ax.hist(max_growths25,30)"
   ]
  },
  {
   "cell_type": "code",
   "execution_count": 87,
   "metadata": {},
   "outputs": [],
   "source": [
    "selected =[]\n",
    "for hyph in RH:\n",
    "    infos = hyph_infos[hyph]\n",
    "    for info in infos:\n",
    "        speed = info[2]\n",
    "        density = info[4]\n",
    "        t = info[0]\n",
    "        tp1 = info[1]\n",
    "        if speed<=150 and np.log(density)>=-5 and speed>=10 and hyph.end.degree(info[1])<3:\n",
    "            selected.append((hyph,t,tp1,speed,density))"
   ]
  },
  {
   "cell_type": "code",
   "execution_count": 99,
   "metadata": {},
   "outputs": [
    {
     "data": {
      "text/plain": [
       "(24.009527606759786, 0.011084, -4.502252651981405)"
      ]
     },
     "execution_count": 99,
     "metadata": {},
     "output_type": "execute_result"
    }
   ],
   "source": [
    "hyph,t,tp1,speed,density = choice(selected)\n",
    "speed,density,np.log(density)"
   ]
  },
  {
   "cell_type": "code",
   "execution_count": 102,
   "metadata": {},
   "outputs": [
    {
     "name": "stderr",
     "output_type": "stream",
     "text": [
      "/home/cbisot/anaconda3/envs/test/lib/python3.7/site-packages/matplotlib/__init__.py:880: MatplotlibDeprecationWarning: \n",
      "nbagg.transparent\n",
      "  version, key, obj_type=\"rcparam\", alternative=alt_key)\n"
     ]
    },
    {
     "data": {
      "application/vnd.jupyter.widget-view+json": {
       "model_id": "1ee0abad470549628fbd1ab722fef389",
       "version_major": 2,
       "version_minor": 0
      },
      "text/plain": [
       "Canvas(toolbar=Toolbar(toolitems=[('Home', 'Reset original view', 'home', 'home'), ('Back', 'Back to previous …"
      ]
     },
     "metadata": {},
     "output_type": "display_data"
    }
   ],
   "source": [
    "plt.close('all')\n",
    "exp.plot([t,tp1],[[hyph.end.label,hyph.root.label]]*2)"
   ]
  },
  {
   "cell_type": "code",
   "execution_count": 101,
   "metadata": {},
   "outputs": [
    {
     "ename": "KeyError",
     "evalue": "Hyphae(1150,96)",
     "output_type": "error",
     "traceback": [
      "\u001b[0;31m---------------------------------------------------------------------------\u001b[0m",
      "\u001b[0;31mKeyError\u001b[0m                                  Traceback (most recent call last)",
      "\u001b[0;32m<ipython-input-101-a5529cd3a8b1>\u001b[0m in \u001b[0;36m<module>\u001b[0;34m\u001b[0m\n\u001b[1;32m      1\u001b[0m \u001b[0mrh\u001b[0m\u001b[0;34m=\u001b[0m\u001b[0mhyph\u001b[0m\u001b[0;34m\u001b[0m\u001b[0;34m\u001b[0m\u001b[0m\n\u001b[1;32m      2\u001b[0m \u001b[0mplt\u001b[0m\u001b[0;34m.\u001b[0m\u001b[0mclose\u001b[0m\u001b[0;34m(\u001b[0m\u001b[0;34m'all'\u001b[0m\u001b[0;34m)\u001b[0m\u001b[0;34m\u001b[0m\u001b[0;34m\u001b[0m\u001b[0m\n\u001b[0;32m----> 3\u001b[0;31m \u001b[0mt0\u001b[0m \u001b[0;34m=\u001b[0m \u001b[0mselect_hyph\u001b[0m\u001b[0;34m[\u001b[0m\u001b[0mrh\u001b[0m\u001b[0;34m]\u001b[0m\u001b[0;34m[\u001b[0m\u001b[0;36m0\u001b[0m\u001b[0;34m]\u001b[0m\u001b[0;34m[\u001b[0m\u001b[0;36m0\u001b[0m\u001b[0;34m]\u001b[0m\u001b[0;34m\u001b[0m\u001b[0;34m\u001b[0m\u001b[0m\n\u001b[0m\u001b[1;32m      4\u001b[0m \u001b[0mtimes\u001b[0m\u001b[0;34m=\u001b[0m\u001b[0;34m[\u001b[0m\u001b[0mget_time\u001b[0m\u001b[0;34m(\u001b[0m\u001b[0mexp\u001b[0m\u001b[0;34m,\u001b[0m\u001b[0mt0\u001b[0m\u001b[0;34m,\u001b[0m\u001b[0mc\u001b[0m\u001b[0;34m[\u001b[0m\u001b[0;36m0\u001b[0m\u001b[0;34m]\u001b[0m\u001b[0;34m)\u001b[0m \u001b[0;32mfor\u001b[0m \u001b[0mc\u001b[0m \u001b[0;32min\u001b[0m \u001b[0mselect_hyph\u001b[0m\u001b[0;34m[\u001b[0m\u001b[0mrh\u001b[0m\u001b[0;34m]\u001b[0m\u001b[0;34m]\u001b[0m\u001b[0;34m\u001b[0m\u001b[0;34m\u001b[0m\u001b[0m\n\u001b[1;32m      5\u001b[0m \u001b[0mspeeds\u001b[0m \u001b[0;34m=\u001b[0m \u001b[0;34m[\u001b[0m\u001b[0mc\u001b[0m\u001b[0;34m[\u001b[0m\u001b[0;36m2\u001b[0m\u001b[0;34m]\u001b[0m \u001b[0;32mfor\u001b[0m \u001b[0mc\u001b[0m \u001b[0;32min\u001b[0m \u001b[0mselect_hyph\u001b[0m\u001b[0;34m[\u001b[0m\u001b[0mrh\u001b[0m\u001b[0;34m]\u001b[0m\u001b[0;34m]\u001b[0m\u001b[0;34m\u001b[0m\u001b[0;34m\u001b[0m\u001b[0m\n",
      "\u001b[0;31mKeyError\u001b[0m: Hyphae(1150,96)"
     ]
    }
   ],
   "source": [
    "rh=hyph\n",
    "plt.close('all')\n",
    "t0 = select_hyph[rh][0][0]\n",
    "times=[get_time(exp,t0,c[0]) for c in select_hyph[rh]]\n",
    "speeds = [c[2] for c in select_hyph[rh]]\n",
    "plt.close('all')\n",
    "fig=plt.figure(figsize=(8,8))\n",
    "ax = fig.add_subplot(111)\n",
    "ax.set_xlabel('time (hour)')\n",
    "ax.set_ylabel('speed (um/hour)')\n",
    "ax.plot(times,speeds)"
   ]
  },
  {
   "cell_type": "code",
   "execution_count": 98,
   "metadata": {},
   "outputs": [
    {
     "data": {
      "text/plain": [
       "(33, 34, [33, 34, 35, 36, 37])"
      ]
     },
     "execution_count": 98,
     "metadata": {},
     "output_type": "execute_result"
    }
   ],
   "source": [
    "t,tp1,hyph.ts"
   ]
  },
  {
   "cell_type": "code",
   "execution_count": 45,
   "metadata": {},
   "outputs": [],
   "source": [
    "hyph = choice(exp40.hyphaes)"
   ]
  },
  {
   "cell_type": "code",
   "execution_count": 46,
   "metadata": {},
   "outputs": [],
   "source": [
    "t = hyph.ts[-1]\n",
    "pos = hyph.end.pos(t)"
   ]
  },
  {
   "cell_type": "code",
   "execution_count": 47,
   "metadata": {},
   "outputs": [],
   "source": [
    "window = 500\n",
    "x,y = pos[0],pos[1]\n",
    "skeleton=exp.skeletons[t][x-window:x+window,y-window:y+window]"
   ]
  },
  {
   "cell_type": "code",
   "execution_count": 48,
   "metadata": {},
   "outputs": [
    {
     "data": {
      "text/plain": [
       "5.816"
      ]
     },
     "execution_count": 48,
     "metadata": {},
     "output_type": "execute_result"
    }
   ],
   "source": [
    "density = len(skeleton.nonzero()[0])/window\n",
    "density"
   ]
  },
  {
   "cell_type": "code",
   "execution_count": 23,
   "metadata": {},
   "outputs": [
    {
     "data": {
      "application/vnd.jupyter.widget-view+json": {
       "model_id": "c13edd685c9240dab96e2bcf8b995d6a",
       "version_major": 2,
       "version_minor": 0
      },
      "text/plain": [
       "Canvas(toolbar=Toolbar(toolitems=[('Home', 'Reset original view', 'home', 'home'), ('Back', 'Back to previous …"
      ]
     },
     "metadata": {},
     "output_type": "display_data"
    }
   ],
   "source": [
    "hyph.end.show_source_image(t,t)"
   ]
  },
  {
   "cell_type": "code",
   "execution_count": 24,
   "metadata": {},
   "outputs": [
    {
     "data": {
      "application/vnd.jupyter.widget-view+json": {
       "model_id": "3199e187d5e14d25aaa3b21ee9ce0d8f",
       "version_major": 2,
       "version_minor": 0
      },
      "text/plain": [
       "Canvas(toolbar=Toolbar(toolitems=[('Home', 'Reset original view', 'home', 'home'), ('Back', 'Back to previous …"
      ]
     },
     "metadata": {},
     "output_type": "display_data"
    },
    {
     "data": {
      "text/plain": [
       "<matplotlib.image.AxesImage at 0x2b715d8baed0>"
      ]
     },
     "execution_count": 24,
     "metadata": {},
     "output_type": "execute_result"
    }
   ],
   "source": [
    "plt.close('all')\n",
    "fig=plt.figure(figsize=(8,8))\n",
    "ax = fig.add_subplot(111)\n",
    "ax.scatter(x,y)\n",
    "ax.imshow(skeleton.todense())"
   ]
  },
  {
   "cell_type": "code",
   "execution_count": 17,
   "metadata": {},
   "outputs": [
    {
     "data": {
      "application/vnd.jupyter.widget-view+json": {
       "model_id": "14289f9383444be8ac38433bbf39b86e",
       "version_major": 2,
       "version_minor": 0
      },
      "text/plain": [
       "Canvas(toolbar=Toolbar(toolitems=[('Home', 'Reset original view', 'home', 'home'), ('Back', 'Back to previous …"
      ]
     },
     "metadata": {},
     "output_type": "display_data"
    },
    {
     "data": {
      "text/plain": [
       "<matplotlib.collections.PathCollection at 0x2ae3db4bcbd0>"
      ]
     },
     "execution_count": 17,
     "metadata": {},
     "output_type": "execute_result"
    }
   ],
   "source": [
    "plt.close('all')\n",
    "fig=plt.figure(figsize=(8,8))\n",
    "ax = fig.add_subplot(111)\n",
    "ax.set_xlabel('maximum length (um)')\n",
    "ax.set_ylabel('maximum speed (um/hour)')\n",
    "ax.set_xlim((0,15000))\n",
    "ax.set_ylim((0,450))\n",
    "ax.scatter(lengths,max_growths)"
   ]
  },
  {
   "cell_type": "code",
   "execution_count": 70,
   "metadata": {},
   "outputs": [
    {
     "data": {
      "application/vnd.jupyter.widget-view+json": {
       "model_id": "4d48fd684ef94a08bad3bd621c25c0f8",
       "version_major": 2,
       "version_minor": 0
      },
      "text/plain": [
       "Canvas(toolbar=Toolbar(toolitems=[('Home', 'Reset original view', 'home', 'home'), ('Back', 'Back to previous …"
      ]
     },
     "metadata": {},
     "output_type": "display_data"
    }
   ],
   "source": [
    "fig=plt.figure(figsize=(8,8))\n",
    "ax = fig.add_subplot(111)\n",
    "ax.set_xlabel('time (hour)')\n",
    "ax.set_ylabel('speed (um/hour)')\n",
    "for i in range(50):\n",
    "    rh=choice(RH)\n",
    "    t0 = select_hyph[rh][0][0]\n",
    "    times=[get_time(exp,t0,c[0]) for c in select_hyph[rh]]\n",
    "    speeds = [c[2] for c in select_hyph[rh]]\n",
    "    if np.max(speeds)<=600:\n",
    "        ax.plot(times,speeds)"
   ]
  },
  {
   "cell_type": "code",
   "execution_count": 92,
   "metadata": {},
   "outputs": [
    {
     "data": {
      "text/plain": [
       "[8, 9, 10, 11, 12, 13, 14, 15, 16, 17, 18, 19]"
      ]
     },
     "execution_count": 92,
     "metadata": {},
     "output_type": "execute_result"
    }
   ],
   "source": [
    "rh = choice(RH)\n",
    "rh.ts"
   ]
  },
  {
   "cell_type": "code",
   "execution_count": 60,
   "metadata": {},
   "outputs": [
    {
     "data": {
      "application/vnd.jupyter.widget-view+json": {
       "model_id": "5abdec644c994c43b340acf52a032aa4",
       "version_major": 2,
       "version_minor": 0
      },
      "text/plain": [
       "Canvas(toolbar=Toolbar(toolitems=[('Home', 'Reset original view', 'home', 'home'), ('Back', 'Back to previous …"
      ]
     },
     "metadata": {},
     "output_type": "display_data"
    },
    {
     "data": {
      "text/plain": [
       "(array([2.08318210e-02, 1.16792959e-02, 9.04022420e-03, 5.55889563e-03,\n",
       "        2.80752304e-03, 2.30216890e-03, 1.51606244e-03, 1.01070830e-03,\n",
       "        1.23531014e-03, 6.17655070e-04, 6.73805531e-04, 5.05354148e-04,\n",
       "        9.54557835e-04, 8.42256913e-04, 8.42256913e-04, 1.06685876e-03,\n",
       "        9.54557835e-04, 9.54557835e-04, 7.29955992e-04, 1.12300922e-04,\n",
       "        5.61504609e-05, 5.61504609e-05, 0.00000000e+00, 0.00000000e+00,\n",
       "        5.61504609e-05, 0.00000000e+00, 0.00000000e+00, 0.00000000e+00,\n",
       "        5.61504609e-05, 5.61504609e-05]),\n",
       " array([ 20.01257891,  35.51239859,  51.01221828,  66.51203796,\n",
       "         82.01185765,  97.51167733, 113.01149702, 128.5113167 ,\n",
       "        144.01113638, 159.51095607, 175.01077575, 190.51059544,\n",
       "        206.01041512, 221.51023481, 237.01005449, 252.50987418,\n",
       "        268.00969386, 283.50951355, 299.00933323, 314.50915292,\n",
       "        330.0089726 , 345.50879229, 361.00861197, 376.50843166,\n",
       "        392.00825134, 407.50807103, 423.00789071, 438.50771039,\n",
       "        454.00753008, 469.50734976, 485.00716945]),\n",
       " <a list of 30 Patch objects>)"
      ]
     },
     "execution_count": 60,
     "metadata": {},
     "output_type": "execute_result"
    }
   ],
   "source": [
    "fig=plt.figure(figsize=(10,9))\n",
    "ax = fig.add_subplot(111)\n",
    "ax.set_xlabel('maximum speed (um/hour)')\n",
    "ax.set_ylabel('density')\n",
    "ax.set_xlim((0,450))\n",
    "ax.hist([s for s in max_growths if s>=20 and s<=600],30,density=True)"
   ]
  },
  {
   "cell_type": "code",
   "execution_count": 45,
   "metadata": {},
   "outputs": [
    {
     "name": "stdout",
     "output_type": "stream",
     "text": [
      "[1, 2, 3, 4, 5]\n"
     ]
    },
    {
     "data": {
      "application/vnd.jupyter.widget-view+json": {
       "model_id": "0865735b1e404f98891776a99c350abd",
       "version_major": 2,
       "version_minor": 0
      },
      "text/plain": [
       "Canvas(toolbar=Toolbar(toolitems=[('Home', 'Reset original view', 'home', 'home'), ('Back', 'Back to previous …"
      ]
     },
     "metadata": {},
     "output_type": "display_data"
    }
   ],
   "source": [
    "plt.close('all')\n",
    "bas = np.random.choice(RH)\n",
    "print(bas.ts)\n",
    "exp.plot([bas.ts[0],bas.ts[-1]],[[bas.end.label,bas.root.label]]*2)"
   ]
  },
  {
   "cell_type": "code",
   "execution_count": 81,
   "metadata": {},
   "outputs": [
    {
     "data": {
      "application/vnd.jupyter.widget-view+json": {
       "model_id": "8d58bbd41f1145408c07464ef83abceb",
       "version_major": 2,
       "version_minor": 0
      },
      "text/plain": [
       "Canvas(toolbar=Toolbar(toolitems=[('Home', 'Reset original view', 'home', 'home'), ('Back', 'Back to previous …"
      ]
     },
     "metadata": {},
     "output_type": "display_data"
    },
    {
     "name": "stderr",
     "output_type": "stream",
     "text": [
      "/home/cbisot/anaconda3/envs/test/lib/python3.7/site-packages/ipykernel_launcher.py:7: RuntimeWarning: divide by zero encountered in log\n",
      "  import sys\n",
      "/home/cbisot/anaconda3/envs/test/lib/python3.7/site-packages/ipykernel_launcher.py:7: VisibleDeprecationWarning: Creating an ndarray from ragged nested sequences (which is a list-or-tuple of lists-or-tuples-or ndarrays with different lengths or shapes) is deprecated. If you meant to do this, you must specify 'dtype=object' when creating the ndarray\n",
      "  import sys\n"
     ]
    },
    {
     "ename": "ValueError",
     "evalue": "Argument Z must be 2-dimensional.",
     "output_type": "error",
     "traceback": [
      "\u001b[0;31m---------------------------------------------------------------------------\u001b[0m",
      "\u001b[0;31mValueError\u001b[0m                                Traceback (most recent call last)",
      "\u001b[0;32m<ipython-input-81-bfc4703f0b30>\u001b[0m in \u001b[0;36m<module>\u001b[0;34m\u001b[0m\n\u001b[1;32m      7\u001b[0m \u001b[0mX\u001b[0m\u001b[0;34m,\u001b[0m\u001b[0mY\u001b[0m\u001b[0;34m,\u001b[0m\u001b[0mZ\u001b[0m\u001b[0;34m=\u001b[0m\u001b[0mnp\u001b[0m\u001b[0;34m.\u001b[0m\u001b[0mlog\u001b[0m\u001b[0;34m(\u001b[0m\u001b[0mlengths\u001b[0m\u001b[0;34m)\u001b[0m\u001b[0;34m,\u001b[0m\u001b[0mnp\u001b[0m\u001b[0;34m.\u001b[0m\u001b[0mlog\u001b[0m\u001b[0;34m(\u001b[0m\u001b[0mmax_growths\u001b[0m\u001b[0;34m)\u001b[0m\u001b[0;34m,\u001b[0m\u001b[0mnp\u001b[0m\u001b[0;34m.\u001b[0m\u001b[0marray\u001b[0m\u001b[0;34m(\u001b[0m\u001b[0;34m[\u001b[0m\u001b[0mnp\u001b[0m\u001b[0;34m.\u001b[0m\u001b[0mlog\u001b[0m\u001b[0;34m(\u001b[0m\u001b[0mbranch_frequ\u001b[0m\u001b[0;34m)\u001b[0m\u001b[0;34m.\u001b[0m\u001b[0mtolist\u001b[0m\u001b[0;34m(\u001b[0m\u001b[0;34m)\u001b[0m\u001b[0;34m,\u001b[0m\u001b[0mdb\u001b[0m\u001b[0;34m.\u001b[0m\u001b[0mlabels_\u001b[0m\u001b[0;34m]\u001b[0m\u001b[0;34m)\u001b[0m\u001b[0;34m\u001b[0m\u001b[0;34m\u001b[0m\u001b[0m\n\u001b[1;32m      8\u001b[0m surf = ax.plot_surface(X, Y, Z, cmap=cm.coolwarm,\n\u001b[0;32m----> 9\u001b[0;31m                        linewidth=0, antialiased=False)\n\u001b[0m\u001b[1;32m     10\u001b[0m \u001b[0;31m# ax.scatter()\u001b[0m\u001b[0;34m\u001b[0m\u001b[0;34m\u001b[0m\u001b[0;34m\u001b[0m\u001b[0m\n",
      "\u001b[0;32m~/anaconda3/envs/test/lib/python3.7/site-packages/mpl_toolkits/mplot3d/axes3d.py\u001b[0m in \u001b[0;36mplot_surface\u001b[0;34m(self, X, Y, Z, norm, vmin, vmax, lightsource, *args, **kwargs)\u001b[0m\n\u001b[1;32m   1609\u001b[0m \u001b[0;34m\u001b[0m\u001b[0m\n\u001b[1;32m   1610\u001b[0m         \u001b[0;32mif\u001b[0m \u001b[0mZ\u001b[0m\u001b[0;34m.\u001b[0m\u001b[0mndim\u001b[0m \u001b[0;34m!=\u001b[0m \u001b[0;36m2\u001b[0m\u001b[0;34m:\u001b[0m\u001b[0;34m\u001b[0m\u001b[0;34m\u001b[0m\u001b[0m\n\u001b[0;32m-> 1611\u001b[0;31m             \u001b[0;32mraise\u001b[0m \u001b[0mValueError\u001b[0m\u001b[0;34m(\u001b[0m\u001b[0;34m\"Argument Z must be 2-dimensional.\"\u001b[0m\u001b[0;34m)\u001b[0m\u001b[0;34m\u001b[0m\u001b[0;34m\u001b[0m\u001b[0m\n\u001b[0m\u001b[1;32m   1612\u001b[0m         \u001b[0;31m# TODO: Support masked arrays\u001b[0m\u001b[0;34m\u001b[0m\u001b[0;34m\u001b[0m\u001b[0;34m\u001b[0m\u001b[0m\n\u001b[1;32m   1613\u001b[0m         \u001b[0mX\u001b[0m\u001b[0;34m,\u001b[0m \u001b[0mY\u001b[0m\u001b[0;34m,\u001b[0m \u001b[0mZ\u001b[0m \u001b[0;34m=\u001b[0m \u001b[0mnp\u001b[0m\u001b[0;34m.\u001b[0m\u001b[0mbroadcast_arrays\u001b[0m\u001b[0;34m(\u001b[0m\u001b[0mX\u001b[0m\u001b[0;34m,\u001b[0m \u001b[0mY\u001b[0m\u001b[0;34m,\u001b[0m \u001b[0mZ\u001b[0m\u001b[0;34m)\u001b[0m\u001b[0;34m\u001b[0m\u001b[0;34m\u001b[0m\u001b[0m\n",
      "\u001b[0;31mValueError\u001b[0m: Argument Z must be 2-dimensional."
     ]
    }
   ],
   "source": [
    "from mpl_toolkits.mplot3d import Axes3D\n",
    "from matplotlib import cm\n",
    "plt.close('all')\n",
    "fig=plt.figure(figsize=(8,8))\n",
    "# ax = fig.add_subplot(111,projection='3d')\n",
    "ax = fig.gca(projection='3d')\n",
    "X,Y,Z=np.log(lengths),np.log(max_growths),np.array([np.log(branch_frequ).tolist(),db.labels_.tolist()])\n",
    "surf = ax.plot_surface(X, Y, Z, cmap=cm.coolwarm,\n",
    "                       linewidth=0, antialiased=False)\n",
    "# ax.scatter()"
   ]
  },
  {
   "cell_type": "code",
   "execution_count": 94,
   "metadata": {},
   "outputs": [
    {
     "name": "stderr",
     "output_type": "stream",
     "text": [
      "/home/cbisot/anaconda3/envs/test/lib/python3.7/site-packages/ipykernel_launcher.py:1: RuntimeWarning: divide by zero encountered in log\n",
      "  \"\"\"Entry point for launching an IPython kernel.\n"
     ]
    },
    {
     "data": {
      "text/plain": [
       "3248"
      ]
     },
     "execution_count": 94,
     "metadata": {},
     "output_type": "execute_result"
    }
   ],
   "source": [
    "a = np.log(branch_frequ).tolist()\n",
    "b = db.labels_.tolist()\n",
    "len(a)\n",
    "len(b)"
   ]
  },
  {
   "cell_type": "code",
   "execution_count": 91,
   "metadata": {
    "collapsed": true,
    "jupyter": {
     "outputs_hidden": true
    }
   },
   "outputs": [
    {
     "data": {
      "text/plain": [
       "array([list([-6.602227002083715, -3.598380486698803, -5.991885306651625, -inf, -7.0358492116722235, -6.130039349429718, -6.43043307950541, -5.039829205441329, -5.933537432051992, -3.9848059223036136, -6.658550354152661, -7.574187714752405, -5.576821060176731, -5.285032022024386, -6.853181001249265, -4.743004703817778, -5.100338563059207, -inf, -4.528914222506007, -5.575318840669745, -4.1576488543936785, -4.476117151500033, -4.916364731366313, -6.689533530193552, -4.498804454561235, -6.445395065729935, -5.055052914884203, -6.214649672777758, -5.075445900349605, -4.376057896922178, -5.901766301368058, -5.196843384052745, -6.3861748527966355, -6.26841305845049, -4.897167907626487, -5.244041945774212, -5.3516126869287275, -4.322082548550157, -5.405060410621938, -6.61760596224269, -6.607270848325521, -6.239702702347082, -6.148650440258393, -5.278632876987552, -5.696693708957829, -3.3567416878042033, -5.57131657152519, -4.384951269595142, -6.011540409778838, -4.042058810241346, -6.622454558909377, -7.036848941865452, -3.7104032950201242, -inf, -5.475135462802797, -4.470475255074695, -6.375147765850196, -5.86369028614512, -4.091829494061688, -3.613545354425339, -6.141205597351351, -5.8383895761893125, -6.431475752562204, -5.751597253596616, -6.34521469422624, -5.041100888906524, -6.398123385537378, -3.930289043601584, -5.0701745351879435, -6.262316068232136, -6.557975920489807, -4.345995495414547, -5.85948511725989, -3.363291542573349, -6.223744915538384, -6.782296480499152, -5.972365417010421, -4.79830819963646, -5.544158029291606, -4.041654860636092, -6.658108260721722, -4.881371247471735, -5.07704702848985, -4.996957304770963, -5.241220076452443, -5.998833715264128, -6.878128788127707, -4.646450389571419, -5.735053405198588, -5.264395163206336, -6.421139610501838, -5.505198128375181, -5.08849966345445, -3.165068102068429, -4.838452493879402, -4.485708305777832, -4.18035126402472, -4.4653876502823175, -7.252349579931392, -3.1301029107128855, -6.0364319316108945, -4.67055699299276, -6.024149952058597, -7.0404025554172796, -6.807391883715142, -5.6480328271360385, -4.596760709933111, -5.777526754927088, -5.33371204313469, -6.123414972948504, -5.735828946643385, -3.5079215246958424, -3.665661807724799, -5.882570153385991, -4.217113033478574, -3.7309998312063253, -4.807104515899858, -5.948117990279581, -4.748325912900491, -3.8611185636369187, -5.23420355829533, -5.224560845590194, -5.648482773027144, -5.478568395488709, -5.755765830211285, -3.760893121432181, -3.2174927110352307, -5.153146955311745, -6.448967700722634, -6.34372535825877, -3.675175114920964, -5.1885755511041864, -5.282526841874836, -5.892385931491606, -4.378332003675697, -6.868379912158785, -5.896425339970174, -2.4417177386874394, -5.287195501702404, -6.451494676306443, -5.60376283532478, -5.609413922622152, -5.81387148104068, -5.030703319739361, -4.965630136306924, -4.618555953698406, -4.063234836296327, -3.6569773880582583, -5.974405387348342, -3.8913871650199643, -5.929897635581711, -5.188315102061284, -6.07899051969506, -5.7080818370601785, -4.190278117968531, -4.912938556407328, -4.412670589979186, -3.311388601403384, -6.03788876495016, -4.20739961504141, -1.4929040961781488, -6.2524456986027435, -4.222470308959777, -4.915769176273804, -5.086829133921981, -3.4536240970206054, -4.150028038555806, -4.4090776442796855, -3.7397391453877917, -6.145793476850915, -5.876252756095981, -4.420137854181373, -3.8001679865079008, -4.812206166954427, -4.035486807329332, -6.472855893855965, -2.559724902776059, -6.26818636652655, -4.091871313234035, -4.312797569468791, -6.026385384103851, -2.531444420775833, -3.8235821994779107, -5.05822380177351, -5.470567142156395, -3.7620267110906314, -6.886060229415981, -5.625467234395878, -6.380795826495268, -6.505661791779972, -2.2819546065336613, -6.595560741263854, -4.685425289063511, -3.975387636315964, -4.960708597439293, -5.006027770915213, -6.12517608227741, -4.350169555737279, -4.343662367673184, -2.5981722304514743, -5.992211991577261, -6.562586918159885, -7.0476656306586, -4.715849528634746, -5.3728854623643185, -5.244878553736348, -4.826288263731593, -4.830865051654873, -5.43832196539291, -5.768597912446955, -5.406440630453656, -3.913342889366701, -4.515924229620833, -4.010326891037916, -3.842594924661954, -3.845692763748643, -5.529297248003717, -6.69339700427136, -5.388462291075737, -4.286232701766426, -5.091383142519747, -5.3715638061564555, -6.425538266648993, -2.878074350179802, -5.488537098021936, -3.179991380654701, -4.0487396136642415, -5.03479615020915, -5.476792410776193, -5.067685975293024, -4.944824579158252, -5.355588426065679, -5.641874127021441, -6.620275724286698, -3.65385022804819, -5.077810308193904, -6.499322079811786, -3.965536809898205, -6.841092453053452, -5.369904847028654, -5.617401635146691, -5.007172483469876, -4.786422445319468, -6.161425152679125, -3.2366525838556304, -4.558497507862504, -5.451288008841177, -4.405108624815404, -3.253404926553637, -3.810449483216162, -6.343686623709429, -5.700408473126167, -4.790317319352307, -3.308590250919608, -4.59075288785118, -4.825012472106107, -4.898874240320729, -3.0356636423707166, -7.07419258467387, -3.9734446608699248, -5.3077679718944895, -5.618141444715636, -5.6469975243372135, -4.166768983769957, -6.8057852057003165, -5.307392582424617, -4.226199599856833, -6.173942621926703, -3.892265455326566, -4.566070937731706, -3.40794575420005, -4.434998020093017, -3.9073173940653745, -4.9032524897536, -6.368118435146823, -4.903663160254183, -4.725471998926944, -6.731446524294973, -5.830488622567749, -3.4034622402669372, -6.053431969415026, -4.358377946865874, -4.589851896994381, -4.063914903157103, -6.933633159671115, -5.600723629364959, -3.648150851657638, -3.710166609433444, -5.1332302733634245, -4.3990900755509745, -5.279258923796667, -5.86498896944101, -4.996467059818217, -5.762335188869946, -6.166225047667456, -4.559199488324526, -4.902337274462754, -5.290508622167797, -4.151612075923275, -5.235822140033133, -4.864924321118601, -5.634636830411309, -2.894619875501219, -4.901845248337072, -6.529845386890564, -3.9512121138427414, -4.517228740552123, -5.0182969321154705, -6.42688072257144, -3.587799136333556, -4.28876431196224, -5.221893175047895, -5.73567253411181, -3.3935261313677647, -5.1566904539407865, -5.674761242559111, -5.155969801811008, -6.427042615045201, -4.083127043853348, -2.899766018091803, -6.461735117863837, -6.059389362628753, -5.204866800806902, -6.328211710046796, -3.4814720979619587, -6.090284139674349, -6.138176834128245, -5.080657562799561, -5.212208673593837, -4.8670975410219555, -3.477546751551067, -4.573443946770388, -5.699647898012748, -3.389030686796307, -5.5611822597230045, -6.041424917469767, -3.120091195926531, -4.302545312057082, -3.6860857167782397, -5.9179467430615595, -5.875506600739581, -3.90701422936202, -5.359828899779805, -5.655649515247574, -4.5762093667121055, -6.111128953834819, -5.006590615951348, -5.590655910509658, -3.1574699043908643, -4.4189207619916555, -6.003217942981525, -4.316723257942377, -4.070994398800253, -5.771653615730198, -4.661514504559833, -4.265443839690027, -5.607322192412034, -3.5157717887718998, -6.3127587314182065, -4.91016101296635, -4.4149003365315584, -6.549586753513983, -4.371576639695044, -3.8794156106938864, -6.801134125332412, -5.966387166292434, -5.075734494553076, -4.050867154872644, -5.20116311974616, -5.538198498745556, -3.168281962532388, -5.349701850980195, -5.155466728629926, -1.864844019403111, -4.220235713681434, -3.9364864487432416, -4.167472845372626, -4.928794606249844, -5.777655987589488, -3.9606089527105057, -5.194765192943499, -4.973817840810931, -3.993506458673036, -3.739893739395018, -3.828859841240926, -4.3821369295654335, -6.0241455011033995, -4.942639131146971, -5.0016483896245365, -4.243421136977371, -5.1853445495916475, -5.803188914274507, -4.771282092426946, -5.349158179235128, -6.184305013227325, -6.900590635751371, -6.1997832140278, -3.732897452737796, -4.401843548246637, -3.711007490128393, -6.117920058726616, -1.5524698442065512, -6.621346603650278, -4.154492513446394, -6.236643181335261, -5.833771236062307, -4.909728357017427, -4.961794680092891, -4.261364008284018, -4.214856460177304, -5.318690025087391, -4.893778574130616, -5.437883596467265, -4.580241071334815, -5.275645839334347, -5.8163474823350745, -5.8839534035096905, -5.1555474443147515, -4.748105680258448, -4.64069555699881, -3.9828120514603875, -4.35154069692259, -5.618962519164873, -6.106593224764912, -3.914634684882608, -4.190791647834794, -5.481150507985148, -5.817920349883075, -3.640050030640576, -6.248790019145027, -3.94288629713839, -3.5387406842858318, -5.739167234800586, -5.23833835457364, -4.10835734651282, -4.889367072437656, -5.071647378749087, -4.815253708794507, -4.247451685910862, -5.432865352717261, -6.240751740540534, -5.594110069588928, -5.568901044802587, -4.371076722153192, -4.365783367275981, -3.3614587778257814, -5.799434679304056, -4.109250702925169, -4.213229833262055, -6.2249958236662835, -6.145848990919375, -4.726686290252697, -5.078001356325842, -5.26520302873759, -4.069530416855336, -6.649465189500249, -4.938392975820479, -2.8106392415654096, -6.099183560802508, -6.321358454737384, -5.628145563534303, -4.423913068875901, -4.340873119170497, -3.539422228942291, -5.508155876231019, -4.1410241950086295, -4.4733165719100745, -3.4966078637739058, -5.186495025173529, -3.668891489139811, -6.346161801986747, -4.735667650706775, -4.56462915212236, -6.21664020777535, -5.931445013767378, -5.611402879385243, -3.2389258112603865, -3.466540165404499, -6.478889265517419, -5.488086290400393, -3.0474705414570864, -4.7058134639582425, -4.605391387501685, -4.43107904334783, -5.815241392027322, -3.8984717830078166, -5.387530469924304, -5.99633797823367, -3.4711149092041294, -4.28749148194485, -4.080053610502577, -5.993055306170035, -5.553282273798901, -5.258715912299993, -6.3792909500148784, -4.269967365781823, -5.142169847877734, -5.534464620342622, -6.093777443083129, -5.069218228411225, -4.42946743634779, -4.398325846065991, -5.05964285208645, -4.117301640145411, -4.485128677416311, -5.458567678499595, -4.488994877656001, -5.264630275132014, -6.073149528648584, -5.584932456078194, -6.673803279341534, -4.2649082871558, -5.812839912240882, -5.780705864367636, -2.264363880173848, -3.2708912805916337, -5.097062811466571, -5.002686114034484, -5.963940794117623, -3.8795561370649163, -5.509672566126148, -5.388851055823805, -4.704126345621848, -5.047532163457346, -5.514408917020665, -4.89719416114208, -4.06683034123853, -6.112586146730651, -3.500148240746117, -3.665848204994433, -4.805512221800606, -4.200752668363312, -5.61111551017011, -5.946724219902411, -4.430264928027027, -4.940589491511216, -5.404229748830286, -6.223203243045871, -6.29994925982345, -3.950373823766506, -5.026172996813865, -3.652769013848446, -5.830545603251219, -4.430279235699373, -4.5472714673151104, -5.8426007344806985, -5.011335024232817, -4.367276624801457, -3.7212199897799554, -4.142911219564997, -2.985899352774471, -5.79267443576719, -4.848558095998734, -4.264867975313447, -4.749092675487737, -4.670848627912443, -3.8477449432369384, -4.301650742337423, -4.304312912495632, -4.97288528433141, -4.041665279809788, -4.306688410234385, -7.018717170040119, -5.421760934902373, -5.654749840272751, -4.3062641675884334, -4.746483368137369, -4.063246531082739, -4.228119635690413, -5.07706993580055, -5.213498854505844, -3.1669965190594165, -5.2311968663910955, -5.110928949937065, -4.349458994465177, -5.165723839773168, -4.21005474738881, -4.867565432105291, -5.5146338849361065, -6.005479907666865, -3.0500681762785224, -4.05730842812188, -4.927721001851238, -7.039381429805021, -4.042103270346827, -5.772107730585492, -4.014807271109518, -4.986036337127077, -5.74057237044543, -4.936481887493612, -5.33191156789878, -5.8433898172951855, -5.356966070998015, -4.822575513153132, -4.778453158499056, -3.723360679596575, -3.502144879004399, -3.8761117962064358, -4.1691671891828515, -3.9901971129611478, -3.6709521495470794, -4.174981920493307, -4.768517975194964, -5.6649348574975, -4.559434545182601, -5.031026596975384, -5.755364956383845, -3.4359581621849706, -3.0296272143040106, -3.6895758542605135, -5.636280531363615, -5.4363338109659525, -1.022506497846835, -4.765794371336556, -6.133724460484182, -3.7261098203973053, -4.251587799300742, -2.2819546065336613, -4.37273043374801, -5.101673274542237, -5.2151371875366594, -4.110202353147922, -2.9239221462734024, -4.398766145151628, -2.066862759472976, -5.071504232880735, -3.619408603078787, -5.5306670925419, -5.2376917027086005, -5.048978276667131, -5.654027385846764, -5.42799781884866, -4.905174447204534, -6.495367434828833, -5.036821905396153, -4.0966210336905515, -5.328384049910788, -5.630068229663945, -3.6602958235295144, -5.222608373766719, -6.448241699599475, -4.619767005059139, -5.4386380590779515, -6.172880062201143, -5.090345497640321, -6.4800091611652935, -4.890334565997004, -4.679644735520053, -4.1898978357897265, -4.570555205859258, -5.694499299543707, -4.556307283046288, -4.392835436791415, -4.739321813265492, -2.264363880173848, -4.725998961433011, -4.495955075888814, -5.835808486168119, -4.917267259424818, -5.342129734173398, -5.587299002254894, -4.243940466523783, -5.019761016170367, -3.361943044909385, -4.799875785849882, -4.855230142078251, -2.88977600870053, -5.113452332686675, -4.396919498288266, -6.022240963835406, -5.388751832434258, -5.169250939652899, -5.638578239438769, -4.751809468513429, -6.192305905156444, -4.7363447982036355, -6.091076516875713, -6.0701163996528535, -4.874577719381788, -3.656444844331784, -5.087533177523949, -4.3827610617260415, -5.583950946600535, -4.6587077336638965, -3.327946407818481, -3.885651937898586, -4.896212272922906, -3.439622138890152, -5.017283927690871, -5.074918815366725, -5.377859363188686, -3.4868124908121887, -5.776480201908222, -3.4450776621969985, -4.903659351309197, -5.417823497832198, -5.092956356061024, -5.259272106266685, -5.631444846535515, -5.11843630252276, -4.77703779191154, -3.175213018439877, -2.580034386849747, -4.287824846976851, -4.910943237890008, -4.878293752928784, -4.638001484187621, -6.371918409379517, -5.044324016270961, -5.811655730490254, -4.731769854319398, -4.8574860931146455, -5.007765416269745, -5.659838578777958, -4.10666152582077, -5.648341869813455, -4.235556334903029, -5.523166956400692, -5.615258375342981, -6.2247938160501315, -4.9848091640533605, -6.580107021037241, -5.042652421142655, -5.369088777896643, -5.269913884597904, -4.724550779333859, -4.671852262319697, -5.73823590362769, -4.235776181658606, -5.225865633953607, -5.723452209198431, -5.836084665802571, -5.597923735672451, -4.904426609388718, -4.173017646950706, -5.158423908412282, -6.061634817414564, -5.912031556824344, -4.313621027486834, -6.086254287745744, -4.865661754740117, -2.6071310653408646, -5.068618382666204, -5.190355634753882, -4.681137489412903, -5.881641277471464, -6.868571144754231, -5.248332665754605, -5.703229096560228, -5.8188734902077375, -4.1659716438707735, -4.922482883607115, -4.9263376842271365, -4.46240888590902, -4.7482746531186155, -4.700634590871062, -6.091973762704998, -6.5598355924379375, -5.290371431206116, -4.095102158035288, -5.002283888739762, -5.395723678078029, -6.294196419650776, -5.7017423777713825, -3.363291542573349, -4.10111671462209, -6.24479669810926, -5.710051570776184, -4.165474114328008, -7.3292854006037125, -6.901187938964913, -2.922710797513129, -4.2963018918112486, -4.32131754995393, -6.214183108994555, -4.213966257863638, -5.607774042267416, -4.893460033205651, -3.7893780021013606, -5.093551078883597, -5.527691343001431, -5.139761639090383, -5.438595491866781, -4.753825953384615, -6.25637992931478, -4.6467319279256545, -5.414985388529802, -3.1999405878298246, -5.5287028735795385, -5.228801893172484, -3.8532961019990424, -5.583544002550941, -5.488874618431533, -4.824221461204354, -6.30188593552337, -6.535761082865964, -4.555257400910922, -2.6069907602511226, -4.685524883062991, -4.687161582625373, -5.497291461143844, -5.739768516622745, -5.9695941888302, -4.769036493827413, -5.785246086126537, -5.9125333644320595, -3.698576859972304, -5.0219962878280775, -5.446988057043447, -4.971342905913317, -5.171167692390649, -4.500589913401079, -5.885720994318114, -4.892008954545326, -2.9374878994406872, -4.902283602321281, -5.931609162465495, -5.38636552303406, -4.424627543142734, -4.581605328518277, -4.349983727381767, -5.119401237354715, -3.6084480501928833, -5.207037937065219, -4.307771385607919, -4.754663382191187, -3.2521322217797324, -4.010672512865122, -5.704062783215258, -3.5637490361726574, -4.787224784324629, -4.902391513470637, -4.05590594060176, -5.092363384670124, -5.650701299960162, -4.837837446946933, -4.703032262953495, -4.307772399110781, -5.178445446875012, -5.905134790286346, -4.559900890666002, -5.010254972259865, -5.830223765967004, -5.896508406213501, -3.39850665341259, -5.470751898601402, -4.48793061813004, -5.9699093158265475, -6.164446807672952, -5.023088697029457, -5.326065632228835, -5.059468708717805, -5.252946221525369, -5.681403662671451, -4.688814176695015, -3.942106486667938, -5.379106464991756, -3.8555650404608985, -6.260954763154259, -3.9463701641650015, -5.276359351271392, -5.222024801325915, -4.005734757248339, -5.0384634160773185, -5.819131321405458, -4.746751195619841, -4.9833499138346715, -5.070613436168447, -5.304204940117169, -5.272691019494957, -4.830181787186154, -5.338652850412521, -5.836693227053361, -4.916693981469889, -4.12629176114133, -2.0933884799265052, -5.462784984487827, -5.74617706061751, -4.851314818382335, -4.1500841994844935, -5.336126839719694, -5.781477685454812, -5.505486559050999, -5.545516528463195, -5.63543636992913, -3.5659253292677415, -4.828924992584535, -5.281478796043018, -6.2479068845353956, -5.9105138137141005, -6.016632739109037, -5.659184973558812, -4.952147172830751, -5.080356343929999, -4.63665911986818, -5.427178142368889, -5.185831833847993, -2.0933884799265052, -4.1290968538033415, -6.4708279184097375, -4.2488819992111315, -5.936176293230554, -4.850570466348823, -5.262718142243573, -5.087750011452418, -3.4508143996550893, -4.367568361960476, -1.976796218517215, -6.844131520333122, -6.046070326660421, -5.975274996136155, -5.431957848893095, -5.93930014406355, -5.747298683399879, -4.381811707987467, -4.570432767805965, -5.257715632122855, -4.8206145277178765, -4.475389331624611, -6.034461910330508, -4.813244446841071, -4.380458329665525, -4.916897488869968, -5.574670764362578, -6.328657926180111, -5.36709175872012, -5.148486656163271, -3.01208148150341, -5.140906253688925, -5.159104916166497, -4.750167157533181, -4.794792476216831, -4.9985049877883005, -4.018319283817144, -5.68274581613481, -3.6235845456832183, -4.539988931880846, -5.115229697223224, -5.674807509990763, -3.8371268006466495, -5.447546919509788, -5.000217147649766, -5.441039801507847, -3.392552927034302, -4.592808758924609, -4.873883437607605, -4.815776020532051, -4.4209372002596865, -5.459776380838885, -5.119684219692736, -5.913538167533919, -3.7032178483250195, -5.844512734589719, -5.110455346352838, -4.915956310026697, -5.5442194082611005, -4.968288494810326, -4.461551619072563, -4.724230536102888, -4.222388168076307, -4.522147315920365, -4.274495448700977, -5.854919409443618, -3.8307690708159177, -5.090739456938661, -6.368403245487793, -3.964306830534691, -4.917999259307105, -6.433794349491246, -4.086698437743031, -5.9350086996427684, -4.263340139358576, -5.8714808838294985, -4.315259391785894, -4.628345285927901, -3.4723510314032073, -5.895853140511226, -4.803727842686387, -5.488624065252989, -6.120375242521745, -5.62091102227573, -4.954231253010622, -4.518553846849783, -2.8208141353313665, -6.187385488492792, -5.177074793556202, -6.290512607209474, -4.698856490919463, -4.199798094119632, -5.641535393779018, -2.922710797513129, -4.368673476662772, -6.06109212511626, -2.9016851099979224, -5.870611033469491, -4.665861573240454, -4.467898629800164, -5.386870211287901, -4.505500797109659, -3.8998957487517747, -5.907663750857099, -6.303958566665922, -4.649579102395614, -4.801468310455328, -4.977785923727764, -6.161368143412639, -7.387357082355763, -4.681347133005564, -5.818392259303707, -5.172478974235631, -4.654268688685168, -5.50013777458682, -5.586149486429525, -5.596365156948941, -4.129647721475767, -5.8998012800574395, -5.975320085044427, -3.2418647909623477, -5.303816069373606, -4.440849522328304, -4.1140635048172225, -5.69897678677978, -4.019830695310805, -5.144226026284141, -5.018211158814938, -5.605416450658258, -4.667917942735484, -5.925291338571929, -3.8835706401150167, -3.3759616630305973, -5.730666908631929, -4.403098962189471, -5.8009062943789145, -4.627355319483202, -5.445906716417695, -5.356711326259232, -5.379923809177738, -4.932836099997564, -3.127624892785936, -5.364946045980575, -4.1846235606593725, -4.000797878881764, -5.019450904026623, -5.226156007683948, -4.379713640942909, -5.171584769967878, -3.3702754647862108, -4.487213233284221, -4.603948439966245, -5.834283462316627, -3.2193078788759117, -3.7201149686164805, -4.4318996877223675, -4.765008550538736, -2.998779398670923, -5.855488423323741, -5.185930836320078, -4.666383301010267, -4.9918622704813105, -4.663703146529358, -5.730886096260668, -4.783247596299954, -4.240143512958616, -3.3693520339851437, -4.515827834068967, -5.838640132461452, -5.102642952508571, -4.900334079600442, -5.447953368996523, -4.520585136071596, -5.101921623764614, -5.6794994449793785, -6.026829531472882, -5.573719018320626, -6.245609160859727, -3.6452696787137415, -5.197140249129403, -5.883101599844598, -5.021199454324573, -3.930429934577867, -5.049501849536595, -5.205091728169807, -5.491468606104768, -1.4929040961781488, -5.538013386195104, -5.5258889540829506, -4.49788091497803, -5.479986396283292, -4.392877728798961, -5.006486503214283, -5.114357119714222, -4.385737290025476, -7.2172436594894975, -6.74562669601369, -5.9300861016591435, -5.622464533864049, -4.407670648129815, -5.185002479202465, -5.27223845887965, -5.089977609644856, -3.4964221489457943, -4.769213203479766, -2.0933884799265052, -5.016042730737533, -5.041167172116881, -5.782852243866255, -4.654967681866581, -4.431691173318811, -6.452767127503373, -5.838351614602939, -4.39843354567333, -4.410424059984241, -6.824766063652688, -6.119303834738468, -6.0144925844686385, -5.070802593743051, -5.291080782126584, -4.897308355600906, -4.38874868826671, -4.0689887932139195, -5.026662081149676, -4.739550762728939, -4.341888668784339, -4.639220838151107, -5.562419903706637, -5.361687243480085, -5.015959493527914, -5.583746329944655, -4.116439026587043, -5.492304874235214, -4.129243993831484, -5.992934829953987, -3.8549450532180516, -6.011926642446686, -4.422968133179243, -5.7249869360119, -6.713610001814093, -5.2302746470025765, -3.855577550166691, -4.472232541489638, -4.546796984315567, -5.538097530889905, -4.318073698784683, -5.037834906045997, -2.6687958643494394, -6.091745102490346, -4.152513069338904, -3.671290129108336, -3.9536380414978622, -2.8275333722691487, -4.603921854584528, -5.940001191623639, -4.124598436464456, -5.092089777028735, -2.2467768474474923, -5.513353004660665, -4.604889059457983, -4.471389427425665, -4.658644174390732, -5.323537441632244, -5.267130903714245, -5.039052162577536, -4.19185593121069, -6.219694572709582, -4.899524736124867, -6.457224327801608, -5.87748034628394, -4.7988662175327805, -5.569274645673946, -6.1404365995470815, -4.56949332915051, -2.375656503423716, -4.225665268432976, -3.917697525686195, -5.1986228916156, -4.076814899803899, -5.252042460850069, -5.914956615295064, -5.227892589626617, -6.033872242244411, -4.8386957233075645, -5.395552775480693, -6.024982505249919, -5.3935735057467475, -4.724714621993163, -5.404295623436155, -3.341651836860641, -3.635021984742317, -6.246250531989827, -3.506458605867784, -5.818983785976415, -6.15014825196943, -3.9920322484995503, -5.578727162161145, -5.556704030670744, -3.4509058158932566, -5.758437189449285, -5.786794564707045, -4.2008558664024696, -5.35145384809112, -5.351362948890157, -5.695375192150414, -6.1798749519513265, -6.637886379708003, -4.7236683473781405, -5.847316281770953, -5.218006385167667, -4.183691835492055, -4.111951273466607, -6.141179943902631, -6.033337399272331, -4.2258101898516225, -6.016075330240301, -4.963160933862551, -5.36956440110172, -4.9839646618749835, -4.341598903289136, -6.725870228834577, -4.910368952403215, -5.582881255320889, -5.553559261079404, -5.448579595377697, -5.861370509517342, -5.691163062957027, -5.006510353912155, -5.568201916209819, -5.417655794970592, -5.333736966534896, -3.439368682369031, -5.356628688477039, -5.617534861396352, -5.764854677220028, -3.952194072757697, -5.372592913049346, -5.333702677513592, -5.378376939477695, -4.457122933054528, -4.671083317704605, -4.761948365776839, -5.282826358987986, -5.10707547606007, -5.483002852975278, -5.691628933804923, -4.185837204559875, -5.751651929372844, -4.917343724422125, -4.754141916187577, -4.961577575967734, -5.073800863430438, -5.196696325346747, -3.628817739199346, -5.413495439133088, -4.834277604353667, -5.953892023765755, -4.634431288784545, -4.361758487679276, -4.207615953547987, -5.178966070173361, -3.7683811460560204, -5.3261416862666655, -5.881227179405812, -5.270164007985874, -2.264363880173848, -4.263137104692454, -4.225488048022537, -4.252175694286884, -4.138869635490354, -4.150177350097483, -6.157351640109405, -5.490438566805998, -4.9870837236530265, -3.837402932203646, -5.204560762729634, -4.9753412095467695, -5.93548651058071, -5.096989475038278, -6.008674954135119, -4.022678395638071, -4.2081615322820545, -6.258527388269855, -6.035478746297741, -3.5253475135046926, -4.327486628945701, -3.967193447437945, -4.338389243823648, -6.065272108057105, -5.122203531997003, -5.676956037450716, -6.100449473988431, -3.251042971677588, -4.239944500425069, -5.927782359129783, -6.016324904616936, -6.037264712618881, -5.489874759094919, -4.827724582900644, -4.572662089254321, -6.13553792069512, -7.029279989024487, -6.375078048480186, -3.3467473979215923, -6.217432608486551, -5.3046813378637285, -5.996634102694504, -5.198494412883315, -6.170874305450054, -5.938729584782655, -4.987907935738205, -2.9921061899885015, -4.426421189000228, -6.031163429737174, -5.782671857784141, -3.3007080973567664, -6.777871869484001, -4.79207054899321, -5.908330796582543, -5.989266673079076, -7.373351355869372, -6.373864777687091, -4.400249328780115, -6.5594869526102775, -5.624025353049902, -4.066646671963993, -4.169284230343691, -6.444823546268923, -5.1257909254931215, -5.6650311200223324, -5.512690205031043, -4.9298483420942985, -4.923012276683419, -5.249280316878654, -6.5717527657722, -6.746045077395084, -5.683503180956768, -6.698115786537964, -6.292364389183153, -6.432528127457455, -3.260035809065729, -6.8126232711159, -6.9408564055798365, -4.163278115501742, -5.713006482245654, -3.9493488900812372, -5.319534514502357, -4.70850826688131, -4.193238179632542, -4.6436354372408255, -3.5228955466195697, -3.6303576273626423, -6.383289531711424, -5.7813830750106705, -4.594137582716126, -3.0536867654837714, -3.883704095085566, -2.1649807913102306, -6.108847505516991, -5.664180401320779, -4.51774851697952, -1.976796218517215, -1.820508882514041, -5.167216343933862, -3.57709675413007, -6.3544061290104095, -3.692540132494232, -5.725934967271376, -2.3311151422027403, -2.6799560389202743, -4.309230355628156, -3.731994010534395, -4.728966334018178, -1.0024684281152074, -3.785419148131041, -3.491916803666229, -2.7490533238997736, -2.4773664544615435, -4.665894872041495, -4.603771046829725, -3.707959746159574, -5.37373577313391, -3.7145706998608743, -5.775078900531268, -6.303541347403644, -1.4929040961781488, -4.831605205440233, -5.023598119074892, -3.9408467159089837, -4.7102397391799515, -4.867131672584015, -6.585247414761265, -5.810379966722344, -3.4278959119746277, -3.9791811813940616, -3.944375069968661, -3.759830513084259, -3.308590250919608, -3.583795622209035, -3.951502499731804, -5.537642141315528, -5.225213167536289, -5.138802653958282, -3.361374915613441, -3.278682366045062, -3.799000961835095, -3.8283379762648075, -5.335155108708864, -5.123059617449347, -5.698745955666854, -4.0688562797294825, -4.066921974188667, -3.1285914919482365, -4.096842764267873, -5.046628429379974, -5.602844127820017, -4.20596117837212, -4.376740559878702, -2.2819546065336613, -2.5981722304514743, -4.356306023813473, -3.7714525763818556, -1.0024684281152074, -3.3834138352107237, -3.855643363728379, -4.594723399346706, -4.646102378521595, -6.252926275617701, -5.984837691799887, -3.9000494093705664, -4.440914189817756, -6.460146806039572, -2.6488102299205565, -5.589675196307242, -3.9106513597811556, -3.807191147510769, -4.013105644031528, -5.083021584600525, -3.518919235848278, -5.626685127156977, -3.607694725160519, -4.762427400385663, -4.431682201320781, -3.8375118920025666, -5.073803867722351, -3.9994941650284788, -5.835582444318414, -3.798253059933154, -4.033296946015402, -6.326590685230011, -2.9041650800285006, -3.5831506449726875, -6.3744696349280785, -3.957842809095569, -5.679557044132918, -4.4776928348252465, -3.7571934738962054, -6.198690429779292, -1.820508882514041, -3.8889927497886627, -5.160869568424494, -5.223249734982134, -4.878377370046907, -3.222039671173816, -5.6286838374192945, -3.88379258973495, -5.2258985669184455, -2.066862759472976, -3.3803993094359033, -3.7306894893563887, -4.2369809080818905, -2.264363880173848, -5.845153133518282, -3.244026630065231, -3.9309400401083052, -4.489960110395336, -3.679239514011114, -4.393820471772101, -4.025468404048358, -4.055096348707381, -6.2161762995798835, -5.59615460255822, -4.932083507408999, -3.227822789376923, -4.929314205935338, -2.4417177386874394, -5.028088141164671, -4.1619839342672424, -3.1680914528838198, -3.8327002587798362, -4.484989396708012, -5.189239531725994, -3.554198846625848, -4.190999152741252, -4.077308200042966, -5.562958828554506, -4.693529416934856, -4.547206450068292, -2.3311151422027403, -6.333214562463955, -6.299593512212857, -3.4699576115581725, -4.480672583125408, -5.809817830573731, -2.886066988487289, -2.0933884799265052, -5.971732809176684, -5.970838665964159, -4.476115795056355, -3.56953269648137, -4.784640598420319, -4.429207515108618, -5.667994203228725, -3.383163570381029, -6.302676343141432, -5.659428659677827, -5.60184138997564, -5.076879323999588, -5.298372120286574, -4.104892555839596, -3.882021044054136, -5.0612042184313495, -5.021717593336951, -4.349093574891418, -3.9566261050139153, -3.860663824373679, -3.8459270666678473, -5.228022205928022, -4.721977140667454, -3.865816305534322, -5.312296619688107, -4.912447148170374, -5.1928357358112995, -3.7915327326745403, -1.864844019403111, -6.53813619248165, -6.101094394883062, -3.991722843084978, -4.49081564132286, -4.024397191046239, -4.811217435083534, -5.237875637374046, -3.8442461070514775, -3.28888247414452, -6.55656842315706, -4.778858395811132, -4.166045507213021, -5.510386976438914, -4.632009574187396, -4.492975349826083, -6.894104561103294, -4.121167056728748, -3.9692762173948553, -6.163934200240369, -3.6845712080472866, -5.086807701904475, -3.959197660815224, -4.147444013662611, -5.177817719403591, -3.8641141971256068, -3.429821740753717, -4.077381677118574, -4.087957046827933, -3.7466025747635645, -3.4075775796524614, -4.103881114706625, -2.756103996483618, -5.19328235056164, -3.3655058545508036, -5.623390966825325, -4.543082448111961, -2.8491803347750593, -4.911891233919313, -3.6053542179537446, -6.532148613162174, -4.017931510891719, -6.282882114578521, -4.295118049851205, -4.361307782202226, -4.104217690547231, -6.880631302888949, -5.580200398448738, -6.525209831694074, -3.011439138473372, -5.434425154039511, -3.6469007547469956, -4.382332031904597, -5.106001075150635, -3.8022442910276726, -3.8890564802641725, -4.804902191291672, -5.503242719708449, -3.4381215044518663, -4.389373920993694, -3.8782939803780456, -4.204289018412717, -4.193753544228035, -3.3878478797077327, -3.4939857545215345, -5.528545984031422, -3.1840070566427205, -4.088782230345734, -4.4418029746368335, -6.460155622870494, -4.24963263470458, -4.31947770831555, -3.9024904455403644, -5.149639466963949, -5.478049957299128, -3.373095038621165, -4.923600866481433, -4.9996757906783, -4.9169341631942585, -3.4509058158932566, -5.978249364745708, -4.436153902498467, -6.013983473063863, -3.9050664585944888, -4.301732984616568, -5.913743338913823, -4.82998865733197, -4.318332960539098, -3.7700069867120916, -5.291397281340937, -3.8155287169979317, -4.708302596846629, -5.679699228246275, -3.876870860204217, -5.657025585358272, -4.373480166039014, -4.395278922732467, -3.8222657451613173, -2.264363880173848, -6.006689128022024, -4.661569839623683, -3.7092714419110444, -3.6893946971985776, -4.307754583926002, -2.4773664544615435, -5.769201417050454, -4.229069743234879, -6.7132662903807985, -4.607366582033456, -3.875197854339256, -3.7409151994255927, -2.8106392415654096, -5.865424202553725, -5.611711549545654, -5.142395316277457, -3.482919059399597, -3.526379246403385, -4.988884000632565, -4.849494542663343, -5.127982666711478, -4.924255563782256, -4.581679156702275, -2.066862759472976, -5.23923432318117, -4.401823045855257, -3.8767912577145203, -4.192652177940982, -3.4200251532525123, -4.963192287730505, -5.406585165403215, -6.113441898469344, -5.418587562589951, -5.192712599708005, -3.5467473770087374, -6.584049271209003, -3.7261256824164315, -7.594109690903673, -5.815807380548636, -6.503366280763122, -3.2697990208600247, -2.5981722304514743, -4.6418064015810385, -4.441474724599584, -6.737415157182365, -4.122791232311749, -5.469973186156066, -5.128430390830267, -4.8139625526284116, -4.132546800495944, -2.5128729855302523, -4.80416611370041, -4.408681168345581, -6.157165231552286, -4.236265001876572, -4.821481033760227, -4.829217281516297, -6.4397942620702775, -3.1296837149669483, -5.72342611020563, -4.201565282317159, -2.8275333722691487, -1.2353314601579104, -3.2366525838556304, -5.831258378765839, -7.178164529300367, -3.2345595478157074, -5.489488844817496, -5.614876861694032, -5.439243314378183, -4.0357311659220745, -5.504017287430229, -3.913498451236551, -5.528963911924583, -4.586190798952767, -5.710544369436817, -5.058341934635339, -4.323881267324613, -3.7328752580428817, -5.857675328944761, -6.172330475937432, -4.103505994022752, -6.097201438275038, -5.976269173529831, -3.990459894077386, -2.0933884799265052, -5.607956808661016, -5.231723978604624, -6.052112689911726, -3.2975320454475567, -3.6621456224119275, -6.410538719784886, -4.897046712302247, -3.0995117245866943, -3.470642427839188, -4.862473729538187, -4.292044801285714, -4.951106477078127, -5.049923772744233, -3.810449483216162, -6.249824941533682, -3.9788378440613488, -5.447788118858928, -3.895323054323251, -6.35338973695888, -6.756163808058422, -5.462323637164314, -4.830873438910123, -6.0325679217077655, -6.0259967580321465, -3.852412083313886, -5.055911318712121, -5.053253748545207, -2.580034386849747, -4.248486676444485, -5.718568831134934, -3.6201912707267456, -4.066737399669818, -6.3977300899763385, -6.687666551061032, -3.842534382369617, -5.579443130962663, -6.183722501820758, -4.343862094737823, -3.3000245567840345, -6.149594947892935, -5.526333967489299, -2.9449403654445256, -5.2900933091894915, -3.4877495331677366, -5.297687103662518, -4.375696854783615, -6.349472812945573, -4.145960876234912, -5.475795039588286, -3.427683933498517, -4.22075651248183, -4.210870602438441, -5.637005326107628, -4.45206516263516, -3.714445489885641, -6.796013437751513, -5.1130851997603575, -6.157009929273995, -3.6268119023196705, -5.225653642170283, -5.314387605178568, -4.8317907340806086, -4.454636603259674, -3.3113567837933826, -5.885097371290997, -4.393227704943425, -5.750665919575522, -2.9041650800285006, -3.954565264569975, -4.7085008278493, -4.1875425259374275, -5.041742863066716, -5.415425887589733, -3.9404308363769562, -3.945331533105189, -3.867450778890667, -4.282853600136741, -4.8392179150537835, -3.0981510001602857, -6.0393153380305025, -4.998422632338544, -4.46262263100354, -4.584351620819341, -3.947456919382415, -3.9036396275809224, -2.9041650800285006, -5.601458608819375, -1.5804656939232262, -4.160300005417908, -3.40794575420005, -5.591366246761996, -4.073967908589604, -5.1344799273170985, -5.61616418306618, -5.2294213423550024, -3.6045651016149116, -6.273235680252025, -5.687787453456284, -4.497262106540846, -4.8920218477740365, -3.459179122188813, -4.169002862147688, -5.279053940935489, -1.2353314601579104, -4.473292639064212, -3.7433137961188887, -1.4979001289243523, -3.4547572810044835, -4.8703182589574, -4.091935198180374, -3.744049314001773, -6.455892315741741, -3.009935247402788, -3.4908868014075987, -4.757264378341016, -4.223209892289753, -5.534408333855235, -4.031973838918537, -3.592903286288726, -5.6799930006553545, -5.522488646918014, -6.270219935319884, -5.3686094494387175, -6.984931138101393, -4.553206262220912, -5.1914565178870715, -6.2681910195406125, -5.785558262761385, -7.171522703092785, -6.442238424879338, -2.2819546065336613, -6.069863821904887, -4.986998828349774, -4.295377037569176, -4.066672330621413, -3.4131863127376563, -3.5508107472174326, -6.251117181006503, -4.1108251553753945, -6.375072690387035, -3.1669965190594165, -5.3887932743275835, -3.7400800562698873, -4.669217692494651, -6.59858595991497, -5.486950873812542, -5.446302169017041, -5.178406582033896, -5.719122221434064, -4.020193923789427, -2.066862759472976, -5.004122442357056, -6.416801650598506, -3.9749765501139906, -3.490926310075739, -4.886937609894008, -4.772233500981012, -5.8405810261272135, -3.9431752699925213, -5.592291425551229, -6.1980240272107885, -5.358023290924433, -4.6021365816878825, -5.067094517799068, -3.666564569037627, -4.53097699407306, -4.5287515621873355, -4.200458338459531, -5.341284510380484, -4.884824621782265, -3.873326190656373, -4.87044288093703, -3.309994030365544, -5.669426474735401, -3.9415851191636024, -3.3657880882991753, -4.623226946440001, -4.444399340334434, -3.699466541813033, -3.580921837496584, -3.713955488657567, -4.415070854815089, -2.7018573727843678, -1.4929040961781488, -3.1753402349260433, -6.221732015688148, -6.287815947918548, -4.686977985413634, -6.598146829890932, -5.355254432373107, -2.886066988487289, -4.426045116620167, -3.866683058268799, -3.9950570632704423, -5.613088169526586, -4.910589888315831, -4.641187720626703, -5.091637290853661, -4.741439271746667, -4.178483326248223, -5.631283958583625, -4.199336605613034, -5.045416339492863, -4.74784409552998, -5.093926967180214, -4.487109968762833, -3.0136863099056317, -1.4929040961781488, -4.1458749305463085, -5.409016795823787, -4.387913745468645, -6.235362485447178, -5.094613285498255, -4.083847791234369, -6.632129454237315, -3.2366525838556304, -5.1376681100427275, -3.8266675340025107, -5.219581742483265, -4.564320864236153, -3.290521061945603, -5.354381198179543, -3.363291542573349, -5.824516973269397, -4.2105075134071335, -4.475002188159681, -6.171887741283645, -6.000867607140754, -6.23045200230564, -4.064565997130456, -3.7252157912579036, -5.090529726428126, -4.426350458455109, -4.589852463799171, -4.636365110719937, -2.875217284486071, -4.894868053452792, -6.820666460836426, -6.0407870425012025, -3.708359987834121, -5.44571643517961, -4.864444049441535, -3.3935261313677647, -5.498295532784737, -6.404821511571082, -6.092011884503445, -3.757183986677667, -4.4243885023070755, -2.7018573727843678, -4.788080086307418, -3.341651836860641, -4.331316576066629, -5.497030757975919, -5.208420090423783, -5.923096818730652, -3.5960847484178395, -3.742651616853189, -5.825783750964064, -3.3113567837933826, -4.922055873668904, -4.752519721194061, -6.327376549832414, -1.864844019403111, -3.732892648222088, -5.747888240763871, -3.5197208838462624, -3.777175899608055, -5.152070814413105, -3.392552927034302, -3.011110873356687, -6.729527501302102, -6.365386049787055, -5.4973877931678, -5.8841396555113485, -4.198482970732449, -6.332310337557223, -4.337308523582809, -5.367949649373208, -4.567964130791244, -4.888980792060325, -4.867430794750794, -3.4665681178126424, -4.388832627189591, -6.105971909957379, -5.4475306932960335, -3.9235567114387795, -5.143306928234787, -6.163130587754892, -5.413205641283054, -5.727068897059337, -5.062196368519168, -4.173017646950706, -4.413757751436901, -3.009935247402788, -5.84186917897353, -5.878091590002165, -6.0011425139054815, -6.436396463023659, -5.292263501289985, -5.076468864062855, -5.049211642675108, -3.6369319405519285, -3.6086530794639526, -3.663218408501136, -5.730803317077792, -5.049938531495007, -6.095853026301163, -4.8929268179156, -5.948941578937879, -5.128618720933001, -5.102226976132338, -4.8607745559518065, -6.373607934429747, -5.702629053254577, -6.412774386509701, -6.52847359787232, -5.152322633675668, -3.9055680243504236, -5.363265567501889, -4.488772839958505, -6.639960470490749, -5.61833779791933, -5.582208588254193, -3.7335151240562023, -6.332987339255861, -3.1394333438521422, -6.075410602384836, -5.687705473662908, -3.0929323628036562, -4.960415314128367, -3.875071601356297, -5.239661072703555, -3.7293071081392974, -3.97369230637574, -3.2835495618539565, -3.2708912805916337, -3.9413829020548667, -3.8573138419835353, -4.233165820249039, -6.143482190502599, -5.254400297705028, -3.967193447437945, -3.886174014527159, -4.98704271877079, -5.431668555846592, -3.0755598002608022, -5.493621950288433, -3.9050138520762694, -5.750051917867066, -5.682758208257477, -2.7018573727843678, -5.029743742036555, -3.6175085388565544, -4.144186663181716, -4.626323828603258, -5.0918753368071075, -4.195699826275767, -5.301100450860999, -5.0391440527513875, -6.313655443266924, -3.801251718925432, -3.8758696720028234, -3.2957476759332334, -5.542393669492163, -5.01376348835125, -5.013178219337293, -5.2987994271106515, -5.3652626487380015, -6.1958436543887405, -4.1420420028978375, -5.467709687059869, -5.186683465828023, -4.904397243663282, -5.15602319931852, -4.7199029456092445, -2.4439730388727297, -4.27352618632164, -4.797199069219573, -4.03055872755394, -4.646384359348221, -3.8890450791011784, -4.787148914818193, -6.544903175526164, -6.171760387842182, -4.491014776777454, -3.7679479990990323, -5.118841284053482, -4.976748018325971, -2.6946271807700697, -5.520717058090142, -4.287572736431001, -4.8649135980331355, -4.247043523985283, -4.6963553417209045, -5.0362857185385925, -3.3697599128862334, -4.564008897921376, -5.068963195695284, -4.116625568821704, -3.6749057865387953, -3.4188286146872544, -3.10126051619417, -5.351809252501457, -4.54982117108176, -4.0941352913209474, -4.024687765538659, -3.069449202073997, -5.642599205907429, -4.47209940131112, -3.1623663054449778, -5.8282437665026885, -4.51812226442679, -1.864844019403111, -3.9191288438187692, -4.972147775245445, -3.4588393839613194, -4.945908271104867, -3.7137590516598, -4.126184010016453, -6.082508336638812, -6.429901161798333, -3.699663994773084, -4.903059196970656, -5.120928045305663, -4.179929158963308, -5.461218328230459, -2.580034386849747, -3.929255318859186, -5.887326003475334, -6.098239682061004, -5.192079348033775, -3.849616535870237, -2.570702009950987, -3.4702736965254304, -4.093936578250791, -4.340626154171844, -5.762560708804713, -5.214844205036341, -5.310652675359036, -4.426652148503604, -2.4773664544615435, -5.4566980132259895, -4.828720829008247, -4.27434538463668, -3.5163445331791006, -4.5132921188166195, -3.6622787723167574, -5.719364116542894, -6.174693694108592, -5.996249527585499, -4.654931483581876, -3.7529214387158536, -4.366943669511027, -4.792335878811237, -5.458058513405623, -6.528491424158392, -4.062744281656958, -5.490026748813362, -5.174604654897123, -6.252466350700398, -4.288802366755182, -3.835181869592328, -3.1688999123368644, -4.165319857863904, -5.43347476005385, -3.2114796855023595, -5.386991237631388, -5.434946306634013, -5.348255503347539, -4.158032161651965, -7.187410020113295, -5.884139192142325, -3.503414793714653, -3.7143353957126424, -6.3207030858237125, -3.949080334804468, -6.230782323996406, -5.410096231974034, -3.698900830541129, -4.044331793474831, -5.890060090074279, -6.063476941912884, -5.577887523385173, -3.900413232824825, -4.7355898912489875, -5.013136658651592, -4.553334063073848, -5.203468255697853, -5.843219718724507, -5.183278847664458, -5.984272056123781, -5.1161802570647374, -6.012903103990078, -6.089394657416993, -4.370393478950607, -6.025417705084118, -6.6975154829152155, -6.092887685188483, -3.498760836301782, -4.8788350367192095, -3.0808323215453224, -4.023335952565433, -4.803039784143567, -5.29789795506131, -5.41861286609495, -3.7488406256980706, -5.3332999081027985, -5.300493876559365, -5.792323972481205, -5.0469835442662445, -4.467784337674742, -3.942949293498748, -3.7273772907138327, -2.938848691222468, -4.382568281663619, -3.6412031231934137, -3.4486544514921462, -3.754716869254673, -6.197161386083489, -6.121784513675757, -5.917296947229384, -5.491245643232766, -5.883483685032764, -3.608986829000805, -5.7057085162479835, -3.9951859776149696, -4.635231411705125, -3.3564104345413943, -4.11840340404551, -5.090774353909792, -3.1692296742616204, -5.487186472224109, -4.971249232923142, -4.120367167248709, -3.67966802496136, -2.33992574426578, -3.849863704098567, -4.545947967301216, -4.231867912492613, -3.419139826910138, -4.269761838006376, -4.163107614593677, -5.714209959312166, -5.101722717764064, -4.010958399616961, -4.387985302934039, -5.6870008644442045, -3.212202723189582, -3.534454333089834, -4.275235525272224, -4.835584858536523, -3.761697177406083, -5.534551942838226, -3.8276602655494325, -4.08014378840031, -4.4276210100294495, -4.903296576381483, -3.3826745148929347, -3.3299161236771173, -4.175740675865696, -4.652474883452574, -5.255619806220535, -5.191386846316047, -3.5419635613045326, -4.570933598427987, -4.301596514814877, -4.805649197366279, -3.3707830585412, -4.015406558943028, -5.406362351818878, -5.132444042156082, -4.849106004609565, -4.948652571675883, -3.197203102327894, -3.653839686578495, -4.647007930767104, -4.3016307956505955, -3.077312260546414, -3.4046376140650256, -4.000932035180403, -4.356565351282969, -3.611313620207256, -4.240784394821627, -4.61075602106319, -4.5883335057239645, -3.840427950687984, -4.121784426723903, -5.1341481076717645, -3.4381215044518663, -4.489177960161149, -4.294880222215097, -2.4292177439274116, -5.30369502201783, -4.668147013327102, -4.1360465338387264, -3.2309853948233545, -5.690116555140797, -4.1141196958766155, -5.7406313109757265, -3.233266074941523, -3.2366525838556304, -2.9944814916523383, -5.6107984638869945, -4.739488786910534, -2.9041650800285006, -5.917903640333064, -4.975701341124389, -4.830186350661886, -5.149258579711606, -3.727337074942466, -3.5206156629996954, -4.6642020751996, -3.6268119023196705, -3.8644983617714637, -3.760945819903795, -4.665136178455493, -3.1394333438521422, -3.282677319829784, -5.122098604624066, -5.373668781774546, -4.220126127359575, -3.483107570808174, -3.5408277309587857, -5.177209833182116, -3.9647857774872177, -3.7947186297658035, -4.23617169277417, -2.6946271807700697, -5.603144248841194, -4.184220576123239, -4.1118955040326775, -3.5572293899308423, -2.531444420775833, -4.221821414160442, -5.0531207195521075, -5.176082816993728, -4.960611660210642, -4.902200923439709, -3.7126178803378824, -4.577317726093972, -3.1977397880754985, -5.168272423583559, -3.4851214725101856, -6.339584448264942, -4.592967854395306, -4.674977360560007, -5.891516596069828, -6.30118982816371, -6.95670906693691, -6.234913513622147, -6.98302211730531, -5.781556338952691, -3.9258115368681032, -6.030188787489149, -3.776117885825907, -7.009208129501782, -6.277432951826914, -5.9731342067907045, -4.590613945569728, -3.7183601268301585, -4.124975451496634, -4.725020183126494, -4.639094817784167, -3.884772955082308, -4.578381747352544, -3.3898812768789846, -3.4711149092041294, -3.3567416878042033, -5.737375179959317, -5.652274496101666, -4.783540471756456, -4.264976604048227, -3.818345662269431, -3.2547650601267075, -5.590577708992405, -5.271193601455283, -4.57514768048489, -5.269738626357392, -5.406334607745194, -6.369804755305001, -5.057426518869286, -4.817156757596026, -6.340240919770287, -4.650899570255962, -4.866604497777039, -5.323962401848262, -6.29364624379508, -5.891635681937829, -5.334515893426803, -5.184097880094245, -3.2547650601267075, -3.882577125396301, -3.700273378893538, -5.5356432521049745, -4.888087620845931, -5.807479811645807, -3.819841743571723, -5.466474844139161, -5.694595222941511, -4.4599335017941355, -4.748003290312066, -5.276237320998887, -5.9303309976345115, -3.947589740505104, -4.806140683116885, -4.509478715967151, -5.288218776640171, -6.088974262696174, -5.925765314637711, -5.575820383429606, -3.3180603574335135, -5.553958767408214, -5.626113412853467, -4.101774354391159, -4.528624763910229, -6.2705942980480005, -3.8348000579257002, -4.840298179711991, -5.580846410802765, -4.032417405619976, -5.339594088622003, -3.5182676644141684, -5.3435172188545055, -5.440364892006931, -4.579399125458508, -5.304052732897813, -4.1842775543520645, -6.236492881665848, -1.4929040961781488, -3.9870754463928457, -3.6928021475217645, -5.577503564896279, -3.3723625031700495, -5.7339546002401915, -2.5981722304514743, -4.774080040784014, -5.171588617086613, -4.294148028774135, -4.3030043485995035, -3.7775172538941417, -2.998779398670923, -5.012813918791982, -4.665450025879467, -4.983042750044988, -4.437726145972737, -6.690729401323815, -4.357682572771007, -4.669361412556347, -5.67954979300843, -3.9589173383275464, -4.37187210010695, -5.630999370451221, -4.401016908355748, -5.663251953242089, -3.9149494566195946, -4.766101359844639, -4.050687104415299, -2.672262782015833, -1.5804656939232262, -3.358386096090377, -4.489341797985563, -4.532977544794543, -5.993286966542251, -3.2911964864478267, -5.7357295911996555, -4.837851758608464, -3.75136154689921, -6.012568971283501, -5.736609758643853, -6.53189520288181, -5.173942740837877, -5.266587585195055, -6.422771682727367, -4.282620641549565, -3.9958127373187065, -5.045689828300348, -3.9865733890108026, -3.9542602470581127, -1.4929040961781488, -3.0285878724214386, -5.135204146119733, -4.533321101793308, -6.490515329647622, -3.6682444148915687, -2.9627811742514996, -5.454696930322384, -2.2819546065336613, -3.685587904909492, -4.592566760349582, -4.082969057795557, -3.318737258848257, -4.211181500438184, -4.438714192009598, -5.979108560765306, -3.7622060346170914, -5.218953758085742, -4.957261903373569, -3.8403771768811232, -5.60629522115995, -4.0966210336905515, -2.7018573727843678, -4.110986504975823, -3.0285878724214386, -4.632531291544334, -5.825871134024741, -3.68834334024702, -3.4427289326176562, -4.146083318611916, -5.6529351758582065, -3.5875131970001815, -3.6087456716480144, -3.9474630038909586, -4.103890358266841, -3.522397490495813, -3.179991380654701, -3.895239275015198, -2.7624759529757723, -3.1919145701663427, -5.456406392246011, -4.339487122508908, -5.402922964305893, -3.9486400799651284, -5.631314650886653, -1.4929040961781488, -3.106247702352969, -2.066862759472976, -3.1567107367689644, -4.99995508234383, -4.887983324250233, -4.384164706353765, -3.8944382635832873, -3.770092278368513, -4.202153806050313, -4.288697243864633, -4.522695973044373, -3.310486205580716, -1.820508882514041, -5.518426209630766, -4.8647920027087395, -3.9552502215754606, -4.036772943820143, -4.863030281605513, -4.219738686923005, -5.167745446150179, -3.469640819622065, -3.147100056938183, -3.341651836860641, -4.091226516435281, -4.124542082116762, -4.699600814684256, -3.811130418593502, -4.080335036442432, -4.578750862183414, -4.026776834533816, -5.576660726511738, -2.9921061899885015, -1.820508882514041, -5.308542265030856, -2.7624759529757723, -3.3898812768789846, -5.210189081358682, -4.563542508272571, -3.963861069879321, -3.9687233722686472, -4.735848946668293, -3.3515065774408863, -4.402813076604587, -4.047289850608731, -3.999868044959776, -4.793476887669137, -7.755633859477021, -6.7216781814785485, -5.467695993761319, -5.612097276140968, -5.202087221566921, -4.47074777816016, -7.34745142326844, -3.5787459953170577, -7.709349019336202, -5.973514952324634, -6.033578324997795, -6.375673587084537, -5.495509931185971, -5.963788082991477, -6.487460973583047, -3.2345595478157074, -5.964725308240537, -5.237675447760493, -4.487155489947169, -5.528949620894972, -3.7000875446730324, -4.720993356814693, -5.0114444789310975, -4.615350668715979, -3.233266074941523, -5.596632984943244, -4.690235753494331, -4.127358419152729, -4.612189210433433, -5.377163097860496, -3.1285914919482365, -4.660074094444604, -4.845682579641012, -4.572769696993965, -4.313073827112722, -3.3939982158453184, -4.635389850812209, -4.751158291946683, -4.204495721412468, -4.206897558926355, -5.477377947851815, -3.859769959108164, -3.3614587778257814, -5.037138115164177, -5.263773670635793, -5.386966841045295, -5.818304692855397, -6.172795693981074, -4.453571692597622, -4.841243564419016, -5.73206458353479, -6.130221193168616, -5.88516786468812, -5.4867667982105175, -3.3515065774408863, -5.211408864869067, -4.254211515114507, -6.0394792800533486, -5.9919869604445815, -3.8524317562796035, -4.162498983775789, -4.7324164374015165, -6.481393313636548, -3.139732209497376, -6.536952018063952, -5.714206689127682, -5.106638381402733, -5.423755420263062, -2.7701462419235363, -5.606871471502561, -4.593258149440853, -4.578200972207128, -3.81490924731994, -6.115044273110988, -4.532615282724631, -3.6147037301662266, -4.56001699310909, -3.481209686956932, -4.002905516507715, -3.9856774798148336, -4.97160628492383, -1.77139293729936, -3.656056665857969, -3.530871341122667, -4.9829767736788755, -3.221028268488429, -5.139284947724212, -5.372808672533, -4.787043222038898, -5.3254766154694915, -2.6069907602511226, -6.3305463491454175, -5.220521633144954, -3.7231191181619883, -6.340914029644066, -5.7796434145708595, -4.508452094914672, -4.104057184811611, -5.09072731002729, -4.400931738721641, -5.125733372418664, -5.5330383472511295, -4.402671784447753, -3.9968398489308625, -3.7512720587052244, -4.311539608710073, -4.5910587666317575, -4.60375288676133, -3.3614587778257814, -4.400135840456902, -6.094075253123693, -4.127268921644354, -2.8544444138127196, -5.036907488913391, -4.8873579774369675, -2.978521405124187, -4.019970818133822, -4.76281142254296, -5.104361416391548, -3.244026630065231, -3.1593934038651588, -5.203440875123542, -5.625682794237079, -6.449633895932916, -5.7519834690632585, -5.247382686309736, -3.4508143996550893, -2.4292177439274116, -3.7290171411311466, -4.370842746651101, -3.031800365100081, -5.656471893093665, -4.842685055078849, -4.861022902558848, -3.4131863127376563, -4.975376082734953, -5.05108433513371, -6.024472634241263, -4.725322323472688, -3.803544061379571, -6.553722314841429, -5.2755326373887526, -4.407596650074594, -4.367578384743646, -6.162850010411619, -4.127268921644354, -4.070770648828388, -3.9722845843204957, -3.9765459108793775, -5.459790127052052, -3.3198969924820987, -5.915445166354219, -3.8968668718928274, -4.323436250708801, -3.4509058158932566, -3.982178321608595, -6.073408842923228, -3.5689952528896005, -5.202000587894421, -2.264363880173848, -3.439368682369031, -5.652058624557332, -4.880705422504126, -4.460184127088442, -3.813631896765411, -5.833521930368427, -3.2579942812303444, -3.4642198601556284, -3.4728314350549363, -4.027331204669721, -4.45981115487239, -3.8618814305243623, -3.9299806638660595, -2.922710797513129, -4.40008139003968, -5.845077356238845, -4.76364800254697, -2.811352276573851, -5.793681428746291, -5.144390515720431, -4.32787137288412, -3.8606070863207784, -6.334186033247525, -5.167209167301321, -2.7990400949111516, -3.790633025313688, -5.596837955359099, -5.0354126535059995, -4.2096024626242565, -5.602169134875716, -4.703494122795991, -4.928787114340979, -3.488875513765908, -4.581758615838304, -3.308590250919608, -5.19460257267713, -5.148763685660438, -3.7090812548781136, -4.001219482609899, -4.963012435648198, -6.489767835928337, -3.10523263764662, -4.704821665721878, -4.278603729404314, -4.577107332106368, -3.9354032664295606, -4.330710676259652, -4.538392840480051, -5.156651558622446, -5.35578065438126, -3.0929323628036562, -4.076583160948801, -5.06706065247801, -2.0933884799265052, -4.513558124449181, -4.633713062540191, -5.251388190031078, -3.342741515424685, -4.616422830729849, -5.232045064237255, -4.400168761428895, -4.549666008485574, -4.569442142001895, -3.1335647712186736, -4.963406658544769, -2.0933884799265052, -2.4292177439274116, -5.916742920032738, -2.4031895984185043, -2.4292177439274116, -3.082945762326606, -5.290044867749212, -4.524425977874533, -3.8803989326922124, -5.478286981819061, -5.376304835320519, -3.38589777009226, -4.86876510254386, -5.651177363870127, -1.4929040961781488, -6.209670813071324, -4.953436990945402, -5.61543928768715, -4.912705635467773, -4.120967695623043, -6.0499678208726495, -4.8585059296650766, -5.6716513499578065, -5.510381799786486, -5.927042741979984, -5.174838266274577, -6.1127520555087145, -4.678835074182208, -6.263691573110015, -4.902122759577603, -5.493550001935436, -4.112769380071885, -4.886958254735728, -3.3701158144653247, -5.508488064147271, -4.398179833990541, -4.648546256331659, -3.1869677727268635, -4.487419081805935, -4.454386554990309, -4.97158999110017, -5.521508489418923, -5.053422590674967, -5.488709806289884, -3.7866212320302304, -5.077012424521334, -3.9135277847456162, -4.99661315771457, -4.91694154011726, -4.753284985664577, -4.051322144744096, -3.7817950258806547, -3.979859745105785, -5.624978621820874, -5.500513716321122, -3.8303529919864596, -5.571749144187441, -5.440713639039803, -4.287361329987266, -4.591870759199772, -4.223360384625151, -4.736006173541218, -4.048421177549348, -5.299941439880094, -4.4193386374678045, -4.544927696762883, -4.301858677067952, -3.3405023728148993, -5.225925504791044, -5.299757971950233, -3.906215234147359, -5.468910374554571, -4.389087123883097, -4.72154192385956, -3.973638247351667, -5.441139221287261, -5.8107814634504, -5.968845312472741, -4.640948208342673, -5.19167443683941, -5.477477288577344, -3.422749570821555, -4.184610579270378, -3.840427950687984, -5.2171670160304044, -3.4331115082608994, -4.268906989662226, -4.306681694675078, -5.431257844288395, -3.589478005306876, -5.580441546136927, -4.643215353814518, -5.419969976381179, -4.928285781675849, -6.055364025434736, -4.763098381097197, -5.411426191563147, -4.977112409892762, -3.452288317312134, -6.538455899959313, -4.21093589087235, -4.173017646950706, -4.221963188210012, -4.592404735864243, -4.926322363567759, -3.6268119023196705, -3.835448810280501, -5.6158641354586525, -5.114413477930581, -4.038478323068194, -5.451282355501064, -5.842828028000605, -4.240919265430401, -3.830947008509464, -3.703959382699955, -4.940273155106337, -3.933755921723482, -3.1866625636912844, -5.697476292371089, -4.586484744210793, -3.0215774800153476, -4.2067190314746, -4.043439859149081, -4.28492994320073, -4.277180695353808, -3.1574699043908643, -4.035097283323953, -3.963056743837782, -3.2044928098271446, -4.044419469042875, -3.9885732118804804, -3.080613287650256, -6.9167361154184475, -4.11840340404551, -4.465298165977045, -5.0341171290123485, -3.3515065774408863, -3.6973628337563382, -5.99015538759498, -4.433662279878983, -3.4236536234756, -3.838410579216162, -3.7680508249294538, -6.081991132173647, -4.85833389212754, -5.012301394518062, -2.8302509846214403, -3.5435491480723393, -3.306639532708897, -5.262113304231178, -5.001138986618816, -4.553355176013316, -3.4450776621969985, -4.7187485221884105, -4.850830648468268, -4.176772626173077, -3.9000222261676485, -5.121358801838677, -5.918587133225591, -4.043599878307799, -4.388868583380069, -4.88848281018971, -3.3082176837119284, -4.214815962569961, -3.1688999123368644, -2.9842290218402656, -3.154623499439983, -4.377316648767877, -3.6526356335132935, -6.253638995492337, -5.444062115505292, -5.891894449062973, -5.06496841475283, -4.102570042915807, -5.062785133615898, -5.494969244544889, -5.049548100379735, -4.041595571084644, -3.879824596871399, -4.446805024612686, -3.9367231987262428, -4.651494972406016, -5.594511371594195, -3.209602712515596, -3.482748913623165, -3.944067873294348, -3.504866046268883, -6.2358426236946, -3.8815255666352093, -3.9992300896724844, -5.45348052670196, -6.385896768042287, -5.838728635750032, -3.6702338580003064, -5.5119015132557205, -3.8697971203051624, -4.431412211584637, -4.024266811539651, -3.6793314758788465, -6.0300645482539945, -4.321141692021496, -4.562752482578213, -3.260035809065729, -3.673198466770474, -4.985204079806394, -2.9944814916523383, -4.4920854328211455, -5.288398595878113, -1.4929040961781488, -3.7906186844763976, -4.337097917470221, -5.598038876008386, -6.233426027895376, -5.99847740868503, -4.302656736296453, -3.8288106450972683, -6.464691885830396, -5.439110680460401, -5.4484632641678745, -2.80487438573775, -6.388113162761159, -4.731146178314039, -5.49848127337105, -5.4314743268847385, -5.774814001364698, -5.179796861010304, -4.30535335172024, -5.195765253839464, -4.303123135141275, -5.034078136413075, -4.0511574886483706, -4.731370770027784, -4.489562660214382, -3.5635534647484923, -4.04881831844848, -6.592606080904006, -6.01369717357953, -4.12678922763524, -3.803834953285381, -4.676118809040654, -3.843121374314117, -4.932588457135098, -3.98578296627689, -3.782196648204556, -5.809094732084667, -6.000529113923186, -4.621132199619145, -4.629661261898938, -6.844145967695724, -5.059973891046253, -3.1840070566427205, -4.74843705428636, -5.518361028653654, -5.195567070023177, -5.224825772199927, -5.329554982100294, -5.471141091282509, -5.204523743695729, -6.176804715244442, -5.483042680582005, -5.612315864331807, -6.813276831264026, -5.239570128873595, -4.638201439061699, -3.737706064457057, -4.7278754924868025, -5.061377201139194, -3.616458676342795, -5.53699687078143, -2.9088682736911027, -4.622603374140355, -5.809322036138076, -6.658720092828941, -4.76416943846775, -3.38589777009226, -3.384440270552207, -6.65086313145766, -5.782831893098233, -5.45222022205535, -4.862394265593716, -4.86061348733126, -4.724399872422267, -5.2121888142086, -4.975889428437126, -6.944754729823803, -4.174342205693601, -6.1539222845903545, -5.2241638709983755, -4.186345935777041, -5.28125085353315, -4.879664756578382, -5.214728288481241, -3.504592222408971, -2.6069907602511226, -4.609870001383846, -4.4699196676320785, -4.59167746426139, -6.611499152276168, -3.488875513765908, -5.842973952956819, -4.9870338539158805, -4.179912534911903, -5.592738824101447, -5.089050554285737, -5.637675078575814, -4.751394450462387, -3.336860282223376, -5.361386417435386, -4.614661908604644, -3.9593574885451273, -4.013983392827866, -4.169056843335716, -4.528772679237396, -5.4213718567596665, -3.870631048446066, -5.280412278057591, -4.277515075377036, -3.3213956535579534, -3.9299053178007495, -6.243889930816209, -5.206527076893909, -3.0812691886870005, -4.503272136426213, -4.948861952743357, -4.336804495626222, -3.4508143996550893, -4.994968316640099, -5.556007236541192, -5.1664702389971175, -0.7997569156182036, -3.8900120521226556, -3.165068102068429, -1.820508882514041, -3.5953472146231014, -3.8519053671977668, -5.070886529474435, -4.041824322031946, -5.080911626339198, -5.469349101269266, -6.413908100558755, -4.048642739507091, -4.063595043516986, -3.9977418808306835, -3.639581425127446, -3.1653174361194685, -3.8555383172946205, -4.369647634991187, -3.4422641377090186, -4.292628425023436, -4.18078197999469, -3.444252359151779, -4.240848050193495, -6.918323516195512, -4.559419388235906, -3.956700961753604, -3.552278798727446, -4.450301519685128, -3.2843330159794317, -6.85065458031058, -5.563973090669447, -2.9041650800285006, -5.597756743010593, -3.8937165344335245, -2.6488102299205565, -3.9183887706959544, -5.25701134130942, -3.574368054676505, -4.1349347445280324, -3.4421572107379466, -5.522152473419907, -3.718341111807096, -2.922710797513129, -2.812265579869069, -3.203483923420712, -3.0728724210916725, -6.130441032947111, -4.155420446268585, -4.361644929174009, -3.938532110246194, -5.0964286217696815, -3.5206156629996954, -3.21818710730691, -5.165596761901629, -2.811352276573851, -4.407411030215306, -3.1680914528838198, -3.474918115425356, -4.0165310630119695, -5.017869344415359, -4.021918076609979, -4.591650946107502, -3.9331112614235235, -4.028916756899646, -4.599018768923044, -2.962020438034541, -4.138200369426707, -4.929046328801309, -4.721631703843246, -3.916475992488321, -3.1693058619641588, -3.622022332398384, -4.469563257929747, -4.834598917112965, -4.128632942761018, -6.001393990621572, -3.4305692734092683, -3.36647548301678, -4.931054529382266, -4.499958389095502, -5.67028562685688, -5.05300444987011, -3.7251954481706293, -4.251736422382406, -3.132577674282153, -6.367410858956452, -4.721601650155975, -2.9921061899885015, -3.6084480501928833, -3.3467684092530345, -3.2627735044074586, -3.4160069097633974, -3.9034928195808893, -6.473976913058116, -3.644128969502212, -3.4131863127376563, -4.1478824227359565, -3.9784329239798195, -4.286149440783266, -4.246698137069403, -5.000582544687106, -5.3445655871219575, -4.452935203237748, -4.258023622813091, -4.4957069192696135, -6.072242959114699, -3.260035809065729, -5.308523302889846, -3.179991380654701, -5.275123787782099, -5.8383419264587015, -3.278682366045062, -6.647053678540208, -4.491970546973644, -6.09209693372599, -3.333905624128157, -7.241946385598182, -6.265406610524095, -4.322990568138451, -5.660429019914402, -5.401721720552314, -3.6883917337691465, -4.405111660982668, -6.17423522010766, -5.512566551398497, -4.614175113827296, -5.019503301349762, -4.668419692617704, -4.561255289445558, -3.502496984585431, -2.9921061899885015, -4.0913920212045385, -5.551163973527271, -3.4160069097633974, -5.238275857388112, -4.948529916942361, -6.143100734220152, -5.779644209177774, -5.676312371481745, -5.315018833843934, -5.4084147508701195, -4.7383494659890735, -5.29159816768352, -5.455465043023891, -6.247667334437789, -5.514816309525254, -4.8550991991667996, -5.515891787835504, -4.81694518794435, -4.314523561529324, -4.831252397714388, -4.105872513499872, -2.6263629497009124, -4.042512001232305, -4.569641466920903, -5.3927547820822115, -4.806905046578105, -4.1445319289202045, -5.639216637328882, -5.421312056835631, -3.797997139965866, -4.778979522872204, -5.110897209793703, -4.846906734378822, -5.153973366753788, -3.5745663518259816, -6.282355791827561, -5.249085905843384, -4.249872543997592, -4.811980059706307, -5.261725588138108, -5.593273837949351, -6.3287870557211585, -4.97262896824601, -5.983832519380263, -6.238626677701248, -2.0933884799265052, -4.5499147062165335, -4.220351099979538, -3.5249737657260525, -4.640729522105216, -5.042121018056005, -3.574368054676505, -4.2110401580574175, -4.238255245848389, -2.8275333722691487, -4.373578260713287, -4.9469093916564715, -4.600231854956892, -5.152233959442054, -3.9164320559463675, -6.085039088696713, -4.819630629174518, -3.0817053324952797, -5.795951581822297, -5.61155981445843, -5.0917474444588935, -5.780885047011187, -4.182291641899002, -3.794350117631177, -6.4108398090281185, -5.769444355592195, -3.7871942436990262, -3.244026630065231, -3.563405404619103, -5.587370578258589, -4.176397380448504, -4.414760567323639, -4.336719152859981, -4.716211507651289, -4.405682661896035, -3.6594811046919458, -3.6599494825422543, -2.4773664544615435, -4.042781634823921, -4.292510294083667, -4.284392016119517, -6.375829721453743, -4.243577705916073, -6.809024613467218, -4.142808702912181, -4.355297499505405, -3.2112948929626923, -4.746798800309292, -5.313463826646525, -5.2555806101654845, -3.9486400799651284, -3.8441410222684005, -2.8275333722691487, -4.682162308831465, -3.827456768208941, -1.5998853278122476, -4.936887312110466, -4.40437050309514, -1.820508882514041, -4.165493444494758, -3.9948848706708637, -3.8601281085500974, -2.8275333722691487, -3.255497065441444, -4.129301852580779, -5.899929359984426, -4.754230316898803, -3.6845712080472866, -4.664671994302983, -3.026137477247227, -4.729927181946198, -3.902780002158273, -4.329152678993693, -4.879783006580389, -6.319290831957757, -3.43765358183535, -6.065655221323249, -6.107530671074689, -5.301893090047477, -6.600782722832496, -4.981490153405275, -3.942813960610734, -3.197430547928674, -3.1296837149669483, -4.525194282706384, -3.9905960048344635, -3.011110873356687, -4.752253509899498, -4.6173168249015495, -4.709911856437343, -5.120247081872996, -3.2441842659160804, -3.344720808431363, -3.488875513765908, -3.6940079199196134, -3.7792853731903615, -4.2421725793367235, -3.7444209431781985, -5.0065420329754105, -5.525859593639482, -4.958530212786473, -4.60416814388973, -4.762072000228425, -3.7668946656741684, -5.599068832583202, -3.6854098992684547, -4.894320638910638, -3.0907424372859715, -6.165696572543397, -2.7624759529757723, -3.5253475135046926, -4.285860688733275, -5.511466049162692, -3.940947830412518, -4.521478340945394, -3.846823327833859, -4.602868291228883, -3.4579391562856445, -4.204345675043429, -5.0538988538474445, -3.672643035623502, -4.020864037894283, -1.820508882514041, -3.4589121892653973, -6.342334409030612, -4.19507165462366, -4.543720511239562, -3.818301481270704, -3.6107346540757237, -1.4929040961781488, -3.6842920315547354, -3.918490881690022, -3.3385258583243393, -3.8613415015371095, -5.342327473032742, -3.468955506560117, -3.635168361411262, -1.864844019403111, -3.8431607834341874, -3.278682366045062, -3.6927463174614, -2.9623426210385313, -6.103817272316667, -6.199707071362576, -6.161580310391156, -4.0610194350527, -6.264146934815688, -5.550779089010665, -inf, -3.9060517798276164, -5.947409163418023, -5.870232133059967, -5.616800762463975, -3.1881271439453407, -6.834992590489376, -3.812323848010823, -3.8104476078742535, -4.335176788828482, -5.562559602281721, -3.768753391531477, -5.239946901072953, -5.058976098732644, -3.4604116071961344, -5.188826672119876, -6.2665696703405915, -3.6630842949262603, -6.493096137360955, -5.429045543193013, -5.966738409713755, -4.123833499424229, -5.27943703576367, -3.2229330596403254, -4.723993089760539, -4.830336401170292, -4.399848102848069, -3.7322510924746113, -4.826675666288419, -4.338006179087784, -4.080621480264184, -3.6195321197871686, -3.9554444522959957, -3.8585578790223867, -4.524131051858829, -4.105685883538845, -5.5827860787510515, -6.2968711056003865, -5.396220188399409, -4.621790624538798, -5.910308889716996, -4.681027464296386, -3.596206854500941, -3.70090078559235, -5.371212949662059, -6.2964426937181965, -5.68035107002781, -4.64741649285293, -5.788478574753418, -4.899797761233978, -5.654627300563275, -3.2279982756200623, -3.7328752580428817, -3.237151259380696, -4.477003071010824, -3.3198969924820987, -5.088022733729902, -4.770054949051133, -5.515212004016945, -4.509427381635445, -4.328361986731179, -4.89131165117291, -4.439888211567917, -4.259616644585465, -5.116835757414458, -4.443540593303469, -3.9388640449233696, -4.9021266373244705, -4.2109039378886814, -4.739254310223374, -2.922710797513129, -3.0935986578974126, -4.899510114853374, -5.451174212707259, -7.779626863053627, -6.1378230896534385, -6.46944738371497, -4.140955840761715, -6.324925934917788, -4.711144408727795, -4.068956188941531, -6.70421902574859, -4.7801545650570105, -5.433732287858059, -4.633578911380581, -3.5590383516528723, -3.773395190440097, -5.087344961059942, -4.050653347828222, -6.60230501531615, -3.006376544208739, -4.748318988515201, -5.096336322047715, -3.525082496807616, -3.299717718016844, -4.935984999507213, -4.9810422503531955, -5.085022673865463, -4.211257659917391, -4.2782049061290515, -5.577537288830651, -3.9947628232448325, -4.020062907691591, -5.172204522363822, -3.111238701174091, -3.2282729511055135, -4.193785317364469, -3.902885060309216, -4.033911052359162, -3.864883611236461, -3.804541112768751, -3.398279552207169, -6.205799328011098, -3.852715281747834, -3.8920144278831357, -4.120141190570984, -4.69496732670566, -2.9041650800285006, -4.779084802075495, -2.8544444138127196, -3.4591432673959166, -3.819861275115998, -4.185372559942934, -3.6979594566146896, -3.153803828124486, -5.22667956426526, -4.7802163124583545, -1.5804656939232262, -3.8640784934869616, -3.6343626441949186, -5.272737047937867, -1.77139293729936, -3.112732489361773, -4.810479497237435, -3.603557504284118, -5.217011847635325, -4.24972356515775, -5.2736853096948115, -6.43690850835958, -3.8861313688885426, -2.6488102299205565, -3.282724022346726, -5.190642430364314, -4.010426057327312, -3.8441410222684005, -4.046465524969409, -5.697624332456434, -5.35544514390483, -2.8491803347750593, -3.6976055020025895, -3.332223111013277, -3.9550564835927333, -3.958824727438955, -3.7412777218509676, -4.024228497963961, -5.717186457512962, -3.8066603065493863, -3.1593934038651588, -5.596373271968637, -3.8555383172946205, -2.0933884799265052, -4.642111331075129, -2.8275333722691487, -3.4954817738511093, -4.041331729995641, -4.0028686144292305, -4.227134586235615, -5.029745677813694, -4.071210006532239, -4.542107037251339, -2.2819546065336613, -4.537593818688555, -4.41921525484788, -5.8382164800516945, -5.065257733692382, -4.198894959539902, -5.824494655097659, -3.7048589625575747, -4.14098319281972, -4.648448039622317, -3.4597403445998847, -5.088592969836077, -2.9661576193574364, -3.88741455609587, -4.065718859282607, -4.382906563330358, -3.810002053561586, -5.447683722845327, -2.80487438573775, -4.041060001602176, -4.11840340404551, -4.057184385578099, -6.018314496771472, -4.231578485672285, -5.6659248552393375, -3.7183601268301585, -5.503904468672277, -5.210869027431611, -4.452339539094822, -5.626079077624522, -5.188190233899496, -5.5711038373232515, -4.162369509951268, -4.676375440415654, -4.8146884161115375, -3.767293745174064, -4.551038293972617, -5.6015720026409666, -3.0500681762785224, -4.670036214321725, -5.917409665732106, -3.1070902967927925, -4.25397949575397, -4.993955209811614, -5.174792350091107, -4.795344160109526, -4.1920353614070285, -2.9944814916523383, -4.337567054177612, -5.0290257355285695, -1.820508882514041, -4.12518921003412, -4.575616502065403, -3.7937612990681884, -3.4403896935644758, -3.6752879218092844, -4.429562640297972, -6.389264021011003, -6.757112565212943, -6.3060224007565, -5.288543374785323, -5.273165588741125, -1.864844019403111, -4.745500146079079, -6.174149322919919, -5.456400608754257, -4.0815521134800745, -5.696340555397036, -5.034777105216097, -6.525806411577755, -2.9374878994406872, -5.489908644834843, -5.098074093177387, -7.270925452720445, -4.844624518418312, -5.650256240045449, -4.160900639633784, -4.00906120432605, -6.205414464217768, -5.1817543647426145, -3.2502503942774235, -3.3483076034484767, -6.049591055963951, -4.1792051131651045, -5.105672122053778, -5.261465443592619, -3.97525482723267, -2.9779593003535925, -3.470642427839188, -6.260313097879178, -5.582665425099134, -3.942813960610734, -4.2132778313971375, -3.60145913207065, -5.468803685842053, -3.9050093472754277, -4.135767049480623, -3.7179164746124758, -4.096350275159292, -5.551389211377545, -3.6620513309011464, -4.2969622436858055, -3.262494249225808, -4.201505027227982, -3.448357030858562, -3.2972186950026194, -4.582582261755727, -4.932946377528748, -4.01762586551332, -5.0546722776117425, -4.908521203274996, -5.354541419178405, -3.942492809963605, -4.646109190184675, -3.8085391452706054, -3.4692403801379217, -5.543940697708935, -4.969906287846392, -4.006572117490288, -5.411943030336048, -3.787894814046062, -2.672262782015833, -6.827946486445901, -3.0006000056726463, -4.665061005734841, -3.294392692073408, -3.837509537609247, -4.070839660216726, -4.465675133347624, -4.462202653111557, -3.4160069097633974, -5.573469487081033, -4.313182428626498, -6.04302936420428, -5.654536144540355, -2.894619875501219, -4.095637938256081, -4.113491904951602, -4.977448950094372, -3.4962245215627075, -4.861313315037555, -4.425276117123174, -5.33296323565102, -5.4636562733454275, -4.641407361785021, -4.149450259389777, -5.591960674002224, -3.884084053329984, -4.9289924134507315, -4.690124652663323, -4.717722186278833, -4.844829301666105, -5.799160040540299, -3.4186275867796594, -3.5633183656814933, -1.864844019403111, -5.308700499194806, -5.489507867198551, -4.2065553481255025, -5.216822818608978, -4.609805601137396, -4.379688225364574, -4.73264371281478, -1.820508882514041, -4.4574266452148805, -3.8501149605693876, -4.408829509836174, -5.022884196218526, -4.038580353263245, -3.8530253330449806, -3.5719532981621995, -3.762883572142437, -2.4773664544615435, -6.612245349379444, -3.5225455912168235, -3.333796215006064, -3.4287304306124526, -3.5431430451926347, -3.6514992527016545, -4.425899384824591, -3.7328752580428817, -5.035111368613279, -4.284976966556486, -4.894740228975171, -3.6357626355438355, -4.205710681068527, -3.3702825334755397, -5.987259610706361, -4.416222703335798, -3.194008157893217, -5.186497720677961, -3.746549791401097, -3.325227994671943, -3.5029927218841603, -3.927081648941269, -4.040766174071056, -5.506404730250802, -4.6855628637966715, -3.9354382222021624, -4.509567606515321, -4.371689196728724, -4.237363568361748, -6.366930555862258, -6.68177284063219, -5.058783794182117, -3.657014574238837, -3.937412331821121, -4.569681293072385, -4.081617598932794, -4.130932983950457, -3.7505733813637803, -4.1668735945392275, -5.975980992212757, -4.628648807654575, -3.3007080973567664, -3.760598910364339, -4.982783157657178, -4.2046778720838685, -3.7987668161641976, -3.294392692073408, -3.2925660631740485, -4.07166672137093, -3.0929323628036562, -5.200900273256389, -3.8212356615957863, -5.043542134417288, -5.81930926909304, -5.675836914826867, -6.30677477578733, -4.527589810925849, -4.940803563665566, -5.488452448336102, -5.77122585171438, -3.7813145982182754, -4.684301262820931, -5.239958010388868, -6.043829262834656, -5.413509264858705, -4.276977174098045, -4.418186597606074, -4.740991909210257, -3.282677319829784, -4.241106815791534, -4.024782633101544, -4.629849259433368, -4.432002044391716, -4.105877685811463, -5.288571763690257, -4.439651364853465, -3.818787308838738, -4.390727731436619, -4.953148288959184, -3.491777479060586, -4.0703973179549235, -4.111755867381156, -2.4417177386874394, -4.332062551040851, -5.31091567745491, -5.690204630735542, -4.9863714194159785, -2.9449403654445256, -4.475435993429193, -5.4700227119589195, -2.8106392415654096, -6.583408069826565, -3.0518094619312044, -4.389143388087911, -4.387532462138913, -3.330385123895343, -6.027364469281704, -4.809647910179959, -5.1121696591846, -6.21135277511935, -2.922710797513129, -4.212002112880786, -5.131114744524799, -6.7702869558897305, -4.274038161269537, -6.786878545363095, -4.896219579851258, -4.364567717891929, -4.961190300176972, -6.190861495893333, -5.490737953883585, -4.178451074892512, -4.94838790000814, -5.589376044252929, -4.290826013104012, -4.442368878265852, -3.9878106762806658, -4.2110072389359985, -4.854553560496256, -5.775228668243814, -6.141912519686088, -3.833286069371266, -4.921618593866932, -5.391222284104204, -6.279511344229011, -2.98499642026195, -2.9661576193574364, -3.8174512120686224, -5.823594078296607, -5.123400059876007, -3.9914024226054203, -5.74489055261516, -3.751046852774367, -4.376099941952804, -4.454322730769515, -3.890778013424586, -6.160144851853075, -4.686544358708525, -3.5128347581739248, -4.44893249595839, -4.505973959722561, -5.699305879962467, -4.060633258765899, -6.045345372912926, -4.122882535052966, -6.269256757455872, -6.302853641185142, -5.947466294715186, -3.7056136531051016, -3.222039671173816, -6.164143666097125, -6.006041337139939, -4.558897139957029, -4.923702440804782, -3.407611392027935, -5.276903510209072, -3.7460764148590355, -4.104655981869271, -3.594708694981687, -4.146507813435918, -5.448473250318983, -4.565557434126772, -5.657016230112587, -4.335873222101905, -5.295498452119785, -5.467942340214005, -6.612053874091701, -3.6933412499436176, -4.27842775131658, -3.523299183819736, -4.083751374870591, -4.580136186119969, -4.074694320747516, -4.326183101797627, -2.9944814916523383, -5.214996303361015, -3.773721029638903, -3.462185459932946, -5.370025913904971, -4.353807381948761, -5.062746693360031, -4.809498839488409, -3.1236223359338604, -4.689831122076619, -4.994528604196176, -4.48954140602015, -3.414749594327444, -5.902070012653093, -4.282149382424363, -4.748617619903934, -5.711909686025904, -2.531444420775833, -3.903034202454116, -4.986680781357499, -6.096556526875545, -2.88977600870053, -2.1649807913102306, -3.872437969946896, -4.048196607069267, -5.8058737965729055, -4.999190450540639, -4.173470588453335, -2.7624759529757723, -5.871568145670422, -3.565057866830159, -2.4292177439274116, -3.9104362037027043, -3.574634443781536, -2.954306266481581, -4.230660821985524, -3.7302985450360207, -3.260035809065729, -3.4160069097633974, -3.938009968296279, -4.570022762556771, -4.342004466593751, -5.668516746051438, -3.8851245357667277, -2.9259813079608596, -4.098363159449056, -4.221562956065784, -4.280337798190137, -5.83006815703773, -4.495398215731904, -4.6632524033287535, -3.9394270976640433, -3.2013952881500813, -4.230319205322667, -6.139428691491122, -4.392616137789225, -3.3505367142669944, -5.122369170805429, -4.757134014008576, -3.40794575420005, -4.328577818404744, -3.930569207872284, -5.053619153072207, -3.8948853402284884, -3.7272784634192475, -2.264363880173848, -3.8857309039537062, -4.1173356182526, -4.026487143622569, -5.533112488783628, -5.43140165467945, -3.101665850239401, -3.8850477880003655, -5.008449541133423, -3.617661211156361, -2.9896573105130266, -6.345871617168065, -5.499501648025716, -4.4165939784748165, -4.21630347980698, -2.599418882614103, -3.9199416480810614, -1.820508882514041, -5.0150860559705475, -3.4597403445998847, -5.207494821157768, -5.660831455016259, -4.303874152970055, -4.183589503291711, -3.8931322463561933, -4.182728347769225, -4.540370052921495, -4.153552473694254, -4.64541584189387, -4.930274318908109, -5.084039544059059, -4.552110588165163, -3.636358393433524, -5.435723868775508, -5.725348276460118, -6.77031312363724, -4.566027586545492, -4.566472748180592, -2.7018573727843678, -4.110882782126938, -5.842638980950563, -4.138739523162639, -5.4685212201269495, -4.112553678901271, -2.4417177386874394, -2.8275333722691487, -4.533455250896816, -3.775881347225991, -5.357902976017955, -3.5912948179454816, -3.6402839559079707, -6.440605343041837, -5.236943201740554, -5.454546344786046, -6.267776702990414, -4.844695730301746, -6.250487981755377, -5.683506185420844, -5.328556825046922, -3.1977397880754985, -5.047627504447742, -4.1181124538545815, -4.00139349868446, -5.012910404479554, -3.6881178939810866, -6.776812312007448, -5.437825758015874, -4.035585279791034, -6.401269237682878, -4.960564827791963, -3.811130418593502, -5.992783349637875, -3.5975904988379486, -3.910098347914809, -5.919458121254381, -5.339014582704373, -3.722708758209118, -4.558017594627678, -5.122017678403269, -5.974040166556553, -5.528029113771378, -4.387691025803662, -5.16146764949351, -5.128949324528517, -6.00078575346314, -4.499135881531304, -4.012014693759567, -4.301485590715624, -4.338290740155519, -5.1003973648818555, -4.018281822843391, -3.2413632834157315, -5.97218767861587, -6.272672656169382, -4.557945343943027, -5.61548678332263, -5.795703486562282, -4.992065739143062, -5.121819975869105, -1.864844019403111, -3.792830469308602, -3.7030835767582846, -5.999494887906787, -5.05996450659917, -5.19895686906952, -3.414749594327444, -3.8621718426419025, -3.093954205560912, -3.6774174782146316, -3.334924460287441, -6.455105702994175, -4.401336930124358, -4.200658094785926, -4.91423646124911, -3.8501149605693876, -3.788308760404999, -4.014082278738785, -3.6991102698121296, -3.667055517340926, -3.7379748972977316, -5.172538294666979, -4.605608432055466, -4.0431218186062114, -4.678187715796328, -4.613634941842605, -5.829569716019975, -4.941945733840935, -3.3082176837119284, -5.005733936847146, -3.883242298071699, -3.579109713257523, -4.9398953407287225, -4.319770507201367, -3.914101730224168, -4.33749373590305, -4.194123235747516, -3.8873604577487515, -4.441862438546007, -5.588542225584316, -5.065197243368645, -4.944695805016196, -4.117130568641264, -4.294860202757083, -5.831713250840128, -6.3823354636769025, -3.3145945539660273, -3.1998175013115127, -2.7229200553498076, -4.830047392250695, -3.3866276788829373, -3.8545514093221143, -4.9991141053255905, -4.02466070174349, -3.3385258583243393, -3.8594239122385035, -2.8275333722691487, -5.023538058724727, -4.755671660020879, -5.841517560533865, -4.1078727632710965, -4.121178686762108, -5.055704372239832, -5.209547638723247, -6.612333069255903, -5.830270317229817, -2.2819546065336613, -3.2345595478157074, -5.309242779902275, -3.619904774847325, -5.34252301295125, -3.361374915613441, -4.104155246995852, -5.716018284320167, -3.4657951904775803, -3.4243967550507235, -4.153648544411587, -5.383464883944346, -3.672835636874708, -6.499366205504704, -5.203081315528552, -5.34387682557887, -5.923149227857216, -4.471564331521941, -4.783093273533796, -3.153803828124486, -3.8859509215970496, -6.936431506059951, -4.009731412391303, -3.8000883301628114, -4.192529872028305, -4.641431934615326, -4.999426531097624, -4.500859829661312, -3.1200675801326536, -4.376253901344609, -3.2199878364732424, -3.822053624307773, -5.084388784805601, -2.570702009950987, -5.35851025704501, -4.157463910639187, -4.570146294142761, -3.468445746332786, -3.9578709103009233, -5.0161054662966515, -4.793121077895728, -3.809981587972389, -2.5981722304514743, -3.66636347545943, -5.083980514531809, -5.083665097138638, -3.9483032393145834, -4.88455032595498, -4.065911002785916, -3.196951447543432, -3.4446792839528704, -4.0974710570871675, -3.4877951467327875, -1.864844019403111, -3.2697990208600247, -5.100400558234612, -4.931823262696563, -4.692330182754399, -3.9095765369903632, -4.124015563566364, -5.064174567932612, -3.5979816777693427, -3.6045651016149116, -2.811352276573851, -5.8952688655815075, -4.384659271123097, -3.975272168394393, -3.013414249828564, -4.127012671631225, -4.872424404189531, -4.8691684247956, -3.011110873356687, -2.4773664544615435, -4.304505066105056, -3.250028047737806, -5.612424134524615, -3.4369400289791883, -3.672835636874708, -4.331137401877521, -3.8015870464819335, -3.091939860568234, -1.864844019403111, -4.638155492022896, -4.7147474656150274, -5.190381310625068, -4.305461038338657, -4.843491442997122, -5.304215454298074, -6.3781944041222065, -3.92135636717391, -4.6228761928713835, -5.963256523664483, -4.791402617628351, -4.9204705988225115, -4.3258595583588, -4.489800777039396, -4.382613390660965, -4.1810154258300125, -5.8411738864494245, -5.104575819568977, -4.812663568373058, -4.993013997772522, -5.300728168050378, -3.377940851862824, -3.452258850791142, -3.2756310720450728, -5.694173951669, -6.191658203173559, -4.038712201403306, -4.880285092397306, -5.683179107115382, -5.396940153281141, -4.950124209626571, -5.2634384559342635, -5.555150447168856, -6.179074333386073, -4.708266801559702, -6.035347234291574, -6.197666657426957, -5.4634206997267905, -6.569439499424273, -6.150482981013101, -4.334306606345069, -4.467220505545739, -4.766538276293516, -3.713955488657567, -6.728567475208776, -2.580034386849747, -6.503945396565672, -3.7267419599277014, -4.597421245447247, -4.022999426418416, -5.324031343507712, -6.59291069629453, -3.570915876584705, -5.626585896725643, -5.306421814310561, -4.244862083740754, -3.091546249428838, -5.255612123784283, -5.024361582701268, -2.5128729855302523, -6.013360178796164, -5.376866426220805, -5.413149195500703, -6.097110516860916, -4.385374820914898, -4.732227060887778, -5.6607460404895535, -2.0933884799265052, -4.077002177667835, -4.360399401235675, -5.090707556524215, -3.1866625636912844, -4.67410864685409, -4.221587132723269, -4.638207790225343, -5.154782814671867, -5.430959021205056, -4.9720798382789715, -5.254382989583151, -3.7677152124550997, -5.728927597117209, -4.97405070811987, -5.248528934731816, -6.685333940496289, -4.55753463660257, -4.697431097514547, -4.233034387152781, -4.243488061459962, -5.12935751335331, -5.381187924861219, -5.1450819282910665, -6.526332983971515, -3.8945195473937697, -4.727707890242834, -3.609990880807217, -6.18659958449046, -4.024399788845399, -4.932241410022386, -4.264027083065468, -2.922710797513129, -4.03109562170517, -6.5730537868448415, -3.800462096501253, -4.0752591981782595, -4.039913022574926, -5.704026814153086, -4.794069196340646, -5.258343444255312, -3.88777801295427, -2.9744482974175104, -5.059490652022328, -3.8681090714616735, -3.8781410087234107, -5.446241527693897, -3.7175092782855113, -3.1568959016012808, -2.0933884799265052, -4.041116071896957, -4.04563390255711, -4.137311619972925, -3.2117577792198544, -4.79151004137046, -4.8057832177713085, -5.612822618406279, -5.958581222991037, -3.56953269648137, -3.8008506026272664, -5.559887460909437, -3.9625371886766647, -4.174671455218423, -2.4852529115633146, -3.1958348548845117, -3.5719532981621995, -3.3007080973567664, -5.500103640198895, -4.363963759809789, -4.018778776943083, -3.850291273416223, -4.0838234134711895, -4.125745172189259, -3.2282729511055135, -3.582956459908922, -5.069017510394626, -4.236835015267891, -3.5597172891065596, -3.3701158144653247, -5.6874588183252035, -3.6647761672571098, -3.1688999123368644, -3.803834953285381, -4.61129571680227, -4.466418833266656, -3.709835114766177, -4.422023142924094, -3.4186421326293015, -2.865851983856669, -3.967320796342635, -3.4948350190843103, -3.299717718016844, -4.213953560065164, -5.0193546233590824, -5.67642343818391, -5.102173719878985, -4.350475690627397, -2.8960341099873985, -3.3610047494253408, -6.4346278639506655, -4.465493723157833, -2.7018573727843678, -3.893208347690264, -3.887291252968945, -3.6499954961840686, -3.648606666265417, -5.809012886072254, -4.007212109493862, -4.996117060104356, -3.390148614271627, -5.807668921132444, -3.665876697467673, -inf, -3.7918957005746226, -6.69018926703548, -3.630587038533531, -3.5912948179454816, -4.0756401130364175, -6.12230449091336, -3.7783019034333867, -3.99390013658852, -3.7139955614000035, -inf, -3.8505359615369112, -4.810508283484917, -4.62678714376125, -4.546290094948233, -2.2819546065336613, -2.9813432314401638, -3.8858751186429448, -4.676264192312573, -3.7551101510496525, -2.066862759472976, -4.821320738521795, -2.531444420775833, -4.734692793957399, -5.171447535493984, -5.175799370125771, -3.7524649490142887, -6.034838399309017, -4.197669094747865, -4.512169279975193, -4.515873892986594, -4.554552389450643, -4.8292322721560215, -5.118076196377072, -4.159921350373942, -4.95399118054179, -3.5528662104348223, -5.411641328385852, -4.92367542334535, -4.910557901835033, -4.314619668947287, -5.61815908792237, -2.4031895984185043, -5.036160350224464, -3.8136562873201014, -5.415004222369638, -4.234601919835857, -5.793883708121196, -3.282677319829784, -5.848332268588153, -4.0836123994021385, -3.9813661151444837, -4.1891495016987195, -4.060080978320632, -5.248745376323591, -3.153803828124486, -1.4929040961781488, -3.9578320270864578, -4.256109712308244, -4.569142534114111, -5.980061553112051, -5.498213754307236, -4.673601924223967, -7.083303974706761, -4.974315041115686, -5.042269345736802, -5.4904913545662675, -7.13425261015254, -5.527317854497408, -5.673557237652683, -4.460400659361117, -5.739776530644477, -4.675239570148252, -5.01856159103787, -4.78872133217519, -5.069547470899398, -5.8219578442692885, -4.174361322473623, -5.670487201162688, -4.396471080591043, -4.790443570410878, -5.241447754732132, -2.2819546065336613, -3.467297183366679, -4.841125284969635, -6.031762224799108, -6.547362984328423, -5.278615686923078, -5.1675956448644715, -4.9171894653823225, -5.504957818794942, -5.318706249208495, -4.557828993693544, -6.36485960495052, -5.7851518516189175, -4.724181825157794, -5.710291347552253, -4.4296548187244555, -4.481391982358699, -5.373671797768982, -3.805113385955548, -5.267257381562713, -4.244875468308738, -5.204998191620784, -4.415609611506832, -5.59954543667364, -4.541449064561995, -5.158947471904283, -5.962834289795184, -5.922753201211469, -5.477150390901663, -4.180313898231993, -3.0155209011630055, -3.0667887827827385, -3.8322183883241494, -3.6235455220792643, -6.152327910974872, -3.099788310592357, -3.3898812768789846, -6.202376820297499, -4.938015870180305, -4.461263940580559, -4.401067747535386, -3.7580867266976408, -3.3515065774408863, -6.840625014273514, -5.012846675855592, -3.836762955743532, -3.6106104546447293, -4.947269085491215, -3.2562788842194923, -4.604405405662554, -5.218037175434925, -4.518582396080071, -4.030027208436008, -4.869220034329124, -5.085418697959627, -3.256727698602524, -5.9973338227709245, -4.530234752896241, -2.4979470779192665, -3.0935986578974126, -4.053945359352808, -4.522872241056214, -4.025307197394313, -5.7082322781701444, -3.5320350095758797, -3.1236223359338604, -4.98732987784755, -3.8395039502304527, -4.23024245397645, -3.8877044523860698, -3.790124035661089, -3.8019671506671373, -3.2800221179492373, -2.9744482974175104, -3.4131863127376563, -2.9661576193574364, -2.4417177386874394, -inf, -2.9812852078445897, -4.108845982549426, -3.091546249428838, -5.597068347246725, -4.373051377030526, -3.7577455525126022, -4.226821350978187, -4.09785024453759, -3.996186578039231, -4.97052068080444, -3.6332170461741686, -3.749175444205905, -3.9686006723858367, -4.496116078210514, -3.153803828124486, -5.000515323615924, -5.005111702679819, -2.826671516435883, -5.522756133494055, -5.2979278060899695, -4.4162427530259585, -4.602923474618911, -4.049741191005803, -3.913646389588525, -3.7324434309914247, -4.195911264744206, -4.2904319578186625, -3.9800417776519317, -4.389063141991034, -4.343745606987905, -4.723846260417051, -3.550175309091483, -3.779629916144603, -4.858697251967397, -4.868561774322373, -2.4292177439274116, -4.941899807690069, -3.136746413542116, -4.113311170774411, -2.5981722304514743, -3.4391606201576677, -3.902982857403725, -4.632371250684938, -4.704578493706916, -2.475134781972443, -4.698073733102593, -4.322454325429541, -3.950347988976826, -5.048231984711041, -4.613248581073687, -4.42440465626123, -3.5719532981621995, -4.70591217622669, -4.142286743837151, -2.3311151422027403, -5.455284424381577, -3.361374915613441, -5.753002490181153, -5.164865983484869, -4.235174493497331, -6.36720840487387, -3.831519494995531, -4.285990869466715, -5.104677224669569, -3.691746673728834, -4.638245590128905, -4.843049766215942, -4.897982404085797, -5.350077066334123, -4.068530976668693, -3.539002411598246, -5.330920084334262, -5.809618294188661, -4.707947581848405, -3.496062803626628, -5.398235077487551, -4.507401265349651, -2.9179078931300833, -4.535231573175055, -4.3143048039987, -4.191183010615786, -4.150397753289405, -5.571157197854064, -5.374550620623393, -4.210667760641372, -4.916064210586465, -4.917241748484073, -3.7813680272070265, -3.8900120521226556, -4.52665956108111, -3.4102965497560542, -5.117282163208967, -4.96303834112394, -3.8638141981909713, -4.508324792835741, -5.992402112733453, -4.792049607680348, -3.812507815150049, -4.181458825713915, -2.4031895984185043, -3.7736760535500604, -3.9763637960268676, -4.337206228277404, -4.070354140013791, -3.6282170130895137, -4.029383643897548, -4.53778225329462, -3.9837337637445214, -3.703085281163081, -4.127547190120141, -5.584142005731328, -6.797217270964725, -2.4417177386874394, -4.21653743496899, -3.9387860468080644, -4.18186598290459, -3.681240416365037, -4.329871504905922, -4.071314889444244, -4.554433800049298, -3.4391606201576677, -4.472274557538902, -3.412844655398475, -3.468955506560117, -5.155300148820137, -5.357858483935361, -4.275485446475325, -5.896972141572845, -4.070986072846842, -5.85916046613371, -5.117625099683394, -5.807221244319781, -5.998427249361363, -5.146320541175662, -5.614867003895262, -5.772431952414098, -5.447428635209678, -6.034655161732718, -6.309780047105198, -3.5208108178918116, -5.762035419825651, -5.178992452533067, -3.229720487389258, -5.418227740018977, -4.505449169991343, -4.649573079116556, -5.9028575748215975, -4.23013380418223, -6.199716238018937, -5.401816555015042, -3.0296272143040106, -5.8479599110911735, -5.918062311714269, -4.3083800494558355, -5.304217644633542, -5.098846222310318, -4.689359117274603, -3.83624947207431, -4.177108338150383, -3.411972454830114, -3.961545600645496, -4.757072806056267, -4.312301810643099, -5.091215253412261, -3.899303005796946, -4.68089958221588, -4.987782070002041, -5.150953294806861, -4.500390964720807, -5.698414978271827, -6.28841722268935, -4.966687892080388, -3.1829595311535805, -3.535814223982238, -3.3657880882991753, -3.029759554979217, -4.62637329293122, -4.728934921744859, -2.9041650800285006, -3.0929323628036562, -3.331125907597186, -6.369418831338994, -3.6290975517257507, -5.133842884597087, -3.5944148035477204, -5.169561589141388, -5.042747594878768, -7.21943567956728, -4.784960550465119, -5.143362986885845, -5.947187899742284, -6.72062276424688, -4.0359581314844695, -4.430589473143334, -3.4042998990149256, -3.6797471443705057, -5.673346621636069, -5.627694952356123, -5.209423801635123, -4.976623263213665, -5.134484717919252, -3.8712906801681304, -4.861226478572105, -4.185814630821857, -4.16347915041662, -4.600272183868906, -2.0933884799265052, -5.76797137619349, -5.98034337512522, -3.8293678835281098, -4.864429395203882, -4.320962543327803, -5.8676732424857345, -6.19445116581218, -4.093081520107427, -2.4417177386874394, -4.305532167235695, -6.014848607445264, -3.9793099270738375, -5.2856209746052, -3.9813661151444837, -2.8302509846214403, -2.066862759472976, -3.1394333438521422, -3.784332989843229, -3.9762114374427777, -5.117517951697244, -2.8106392415654096, -3.639441389677934, -2.7229200553498076, -4.6843872262122925, -4.253464649619535, -4.138399982849479, -4.783093960315501, -5.259281464058617, -inf, -3.1924911845511397, -3.5462955896023747, -5.683625438515416, -4.787856181238246, -3.8126894882622397, -4.0429074797550735, -6.151638036524401, -3.766496789048507, -4.980751800094952, -3.8054600948495825, -3.723490499610434, -3.703571481781467, -3.513517298402872, -5.981552934281693, -3.866683058268799, -4.347979751071495, -2.756103996483618, -4.27246342753189, -3.5010176978498686, -3.6748629986365366, -3.7509013244240745, -3.98767333666955, -3.2060201660901977, -4.558139269440361, -1.5998853278122476, -3.4647901118702933, -3.645237133833553, -4.164259856623396, -4.630487642257361, -3.3302512245356284, -5.1756164279141705, -3.9823615117326305, -3.1999405878298246, -4.585590142771379, -5.1532705070684255, -4.252424869060064, -5.626932962420258, -4.61152974892856, -4.7498270918541285, -4.2911504391382795, -4.2888094728124555, -4.676712864693778, -4.801473332726914, -4.157600452810705, -4.464327282419651, -4.117130568641264, -4.045204563962729, -4.625134347171486, -3.8314479546056677, -2.9088682736911027, -3.677049307269508, -3.39850665341259, -3.606280652413672, -4.161110614170907, -1.4929040961781488, -4.472746441761959, -3.336860282223376, -4.167858166905348, -4.705372762024715, -4.450874129013089, -5.324461061100497, -5.650585523435727, -4.304515828625924, -6.280734175884858, -3.7021291983226194, -4.5418871413095925, -6.426736040388883, -4.832358695680914, -4.786092935337494, -3.2577036489803572, -5.258129249053424, -5.4743667955519815, -4.717406598869561, -3.206361608129864, -5.4605944824443675, -5.320869748510369, -3.6045651016149116, -4.016007488498885, -3.9340934568190935, -2.264363880173848, -3.5815072710852225, -3.8467018749652344, -4.846781639765394]),\n",
       "       list([-1, -1, -1, -1, -1, -1, -1, -1, -1, -1, -1, -1, -1, -1, -1, -1, -1, -1, -1, -1, -1, -1, -1, -1, -1, -1, -1, -1, -1, -1, -1, -1, -1, -1, -1, -1, -1, -1, -1, -1, -1, -1, -1, -1, -1, -1, -1, -1, -1, -1, -1, -1, -1, -1, -1, -1, -1, -1, -1, -1, -1, -1, -1, -1, -1, -1, -1, -1, -1, -1, -1, -1, -1, -1, -1, -1, -1, -1, -1, -1, -1, -1, 0, -1, -1, -1, -1, -1, -1, -1, -1, -1, -1, -1, -1, -1, -1, -1, -1, -1, -1, -1, -1, -1, -1, -1, -1, -1, -1, -1, -1, -1, -1, -1, -1, -1, -1, -1, -1, -1, -1, -1, -1, -1, -1, -1, -1, -1, -1, -1, -1, -1, -1, -1, -1, -1, -1, -1, -1, -1, -1, -1, -1, -1, -1, -1, -1, -1, -1, -1, -1, -1, -1, -1, -1, -1, -1, -1, -1, -1, -1, -1, -1, -1, -1, -1, -1, -1, -1, -1, -1, -1, -1, -1, -1, -1, -1, -1, -1, -1, -1, -1, -1, -1, -1, -1, -1, -1, -1, -1, -1, -1, 1, -1, -1, -1, -1, -1, -1, -1, -1, -1, -1, -1, -1, -1, -1, -1, -1, -1, -1, -1, -1, -1, -1, -1, -1, -1, -1, -1, -1, -1, -1, -1, -1, -1, -1, -1, -1, -1, -1, -1, -1, -1, -1, -1, -1, -1, -1, -1, -1, -1, -1, -1, -1, -1, -1, -1, -1, -1, -1, -1, -1, -1, -1, -1, -1, -1, -1, -1, -1, -1, -1, -1, -1, -1, -1, -1, -1, -1, -1, -1, -1, -1, -1, -1, -1, -1, -1, -1, -1, -1, -1, -1, 1, -1, -1, -1, -1, -1, -1, -1, -1, -1, -1, -1, -1, -1, -1, -1, -1, -1, -1, -1, -1, -1, -1, -1, -1, -1, -1, -1, -1, -1, -1, -1, -1, -1, -1, -1, -1, -1, -1, -1, -1, -1, -1, -1, -1, -1, -1, -1, -1, -1, -1, -1, -1, -1, -1, -1, -1, -1, -1, -1, -1, -1, -1, -1, -1, -1, -1, -1, -1, -1, -1, -1, -1, -1, -1, -1, -1, -1, -1, -1, -1, -1, -1, -1, -1, -1, -1, -1, -1, -1, -1, -1, -1, -1, -1, -1, -1, -1, -1, -1, -1, 0, -1, 1, -1, -1, -1, -1, -1, -1, -1, -1, -1, -1, -1, -1, -1, -1, -1, -1, -1, -1, -1, -1, -1, -1, -1, -1, -1, -1, 1, -1, -1, -1, -1, -1, -1, -1, -1, -1, -1, -1, -1, -1, -1, -1, -1, -1, -1, -1, -1, -1, -1, -1, -1, -1, -1, -1, -1, -1, -1, -1, -1, -1, -1, -1, -1, -1, -1, -1, -1, -1, 1, -1, -1, -1, -1, -1, -1, -1, -1, -1, -1, -1, -1, -1, -1, -1, -1, -1, -1, -1, -1, 1, -1, -1, -1, -1, -1, -1, -1, -1, -1, -1, -1, -1, -1, -1, -1, -1, -1, -1, -1, -1, -1, -1, -1, -1, -1, -1, -1, -1, -1, -1, -1, -1, -1, -1, -1, -1, -1, -1, -1, -1, -1, -1, -1, -1, -1, -1, -1, -1, -1, -1, -1, -1, -1, -1, -1, -1, -1, -1, -1, -1, -1, -1, -1, -1, -1, -1, -1, -1, -1, -1, -1, -1, -1, -1, -1, -1, -1, -1, -1, -1, -1, -1, -1, -1, 1, -1, -1, -1, -1, -1, 1, -1, -1, -1, -1, -1, -1, -1, -1, -1, -1, -1, -1, -1, -1, -1, -1, -1, -1, -1, -1, -1, -1, -1, -1, -1, -1, -1, -1, -1, -1, -1, -1, -1, -1, -1, -1, -1, -1, -1, -1, -1, -1, -1, -1, -1, -1, -1, -1, -1, -1, -1, -1, -1, -1, -1, -1, -1, -1, -1, -1, -1, -1, -1, -1, -1, -1, -1, -1, -1, -1, -1, -1, -1, -1, -1, -1, -1, -1, -1, -1, -1, 1, -1, -1, -1, -1, -1, -1, -1, -1, -1, -1, -1, -1, -1, -1, -1, -1, -1, -1, -1, -1, -1, -1, 0, -1, -1, -1, -1, -1, -1, -1, -1, -1, -1, -1, -1, -1, -1, -1, -1, -1, -1, -1, 1, -1, -1, -1, -1, -1, 1, -1, -1, -1, -1, -1, -1, -1, -1, -1, -1, -1, -1, -1, -1, -1, -1, -1, -1, -1, -1, -1, -1, -1, -1, -1, -1, -1, -1, -1, 1, -1, -1, -1, -1, -1, -1, -1, 1, -1, -1, -1, -1, -1, -1, -1, 0, -1, -1, -1, -1, -1, -1, -1, -1, -1, -1, -1, -1, -1, -1, -1, -1, -1, -1, -1, -1, -1, -1, -1, -1, -1, -1, -1, -1, -1, -1, -1, -1, -1, -1, -1, -1, -1, -1, -1, -1, -1, -1, -1, -1, -1, -1, -1, -1, -1, -1, -1, -1, -1, -1, -1, -1, -1, 0, -1, -1, -1, -1, -1, -1, -1, -1, 1, -1, -1, -1, -1, -1, -1, -1, -1, -1, 1, -1, -1, -1, 1, -1, 1, -1, 1, -1, -1, -1, -1, -1, -1, -1, -1, -1, -1, -1, -1, -1, -1, -1, -1, -1, -1, -1, -1, -1, -1, -1, -1, -1, -1, -1, -1, -1, -1, -1, -1, -1, -1, -1, -1, -1, -1, -1, -1, -1, -1, -1, -1, -1, -1, -1, -1, -1, -1, -1, -1, -1, -1, -1, -1, -1, -1, -1, -1, -1, -1, -1, -1, -1, -1, -1, -1, 0, -1, -1, -1, -1, -1, -1, -1, -1, -1, -1, -1, -1, -1, -1, -1, 1, -1, -1, -1, -1, -1, -1, -1, -1, -1, -1, -1, -1, 1, -1, -1, -1, -1, -1, -1, -1, -1, -1, -1, -1, -1, -1, -1, -1, -1, -1, -1, -1, -1, -1, -1, 0, 0, -1, -1, -1, -1, -1, -1, -1, -1, -1, -1, 1, -1, -1, -1, 1, -1, -1, -1, -1, -1, -1, -1, -1, -1, -1, -1, -1, 1, -1, -1, 1, -1, -1, -1, -1, -1, -1, -1, -1, -1, -1, -1, 1, 0, -1, -1, -1, -1, -1, -1, -1, -1, -1, -1, -1, -1, -1, -1, -1, -1, -1, -1, -1, -1, -1, -1, -1, -1, -1, -1, -1, -1, -1, -1, -1, -1, -1, -1, -1, -1, -1, -1, -1, -1, -1, -1, -1, -1, -1, -1, -1, -1, -1, -1, -1, -1, -1, -1, -1, -1, -1, -1, -1, -1, -1, -1, -1, -1, -1, -1, -1, -1, -1, -1, -1, -1, -1, -1, -1, -1, -1, -1, -1, -1, -1, -1, -1, -1, -1, -1, -1, -1, -1, -1, -1, -1, -1, -1, -1, -1, -1, -1, -1, -1, -1, -1, -1, -1, -1, -1, -1, -1, -1, -1, -1, -1, -1, -1, 1, -1, -1, -1, -1, -1, -1, -1, -1, -1, 0, -1, -1, -1, -1, -1, -1, -1, -1, -1, -1, -1, -1, -1, -1, -1, -1, -1, -1, -1, -1, -1, -1, -1, -1, -1, -1, -1, -1, -1, -1, -1, -1, -1, -1, -1, -1, -1, -1, -1, -1, -1, -1, -1, -1, -1, -1, -1, -1, -1, -1, -1, -1, -1, -1, -1, -1, -1, -1, -1, -1, -1, -1, -1, -1, -1, -1, -1, -1, -1, -1, -1, -1, -1, -1, -1, -1, -1, -1, -1, -1, -1, 1, -1, -1, -1, -1, -1, -1, -1, -1, -1, -1, -1, -1, -1, -1, -1, -1, -1, -1, -1, -1, -1, -1, -1, -1, -1, -1, -1, -1, -1, -1, -1, -1, -1, -1, -1, -1, -1, -1, -1, -1, -1, -1, -1, -1, -1, -1, -1, -1, -1, -1, -1, -1, -1, -1, -1, -1, -1, -1, -1, -1, -1, -1, -1, -1, -1, -1, -1, -1, -1, -1, -1, -1, -1, -1, -1, -1, -1, -1, -1, -1, -1, -1, -1, -1, -1, -1, -1, -1, -1, -1, -1, -1, -1, -1, -1, -1, -1, -1, -1, -1, -1, -1, -1, -1, -1, -1, 1, -1, -1, -1, 0, -1, -1, -1, -1, -1, -1, -1, -1, -1, -1, -1, -1, -1, -1, -1, -1, -1, -1, 0, -1, -1, -1, -1, -1, -1, -1, -1, -1, -1, -1, -1, -1, -1, -1, -1, -1, -1, -1, -1, -1, -1, -1, -1, -1, -1, -1, -1, -1, -1, -1, -1, -1, -1, -1, -1, -1, -1, -1, -1, -1, -1, -1, -1, -1, -1, -1, -1, -1, -1, -1, -1, -1, -1, -1, -1, -1, -1, -1, -1, -1, -1, -1, -1, -1, -1, -1, -1, -1, -1, -1, -1, -1, -1, -1, -1, -1, -1, -1, -1, -1, -1, -1, -1, -1, -1, -1, -1, -1, -1, -1, -1, -1, -1, -1, -1, -1, -1, -1, -1, -1, -1, -1, -1, -1, -1, -1, -1, -1, -1, -1, -1, -1, -1, -1, 0, -1, -1, -1, -1, -1, -1, -1, -1, -1, -1, -1, -1, -1, -1, -1, -1, -1, -1, -1, -1, -1, 1, -1, -1, -1, -1, -1, -1, -1, -1, -1, -1, -1, -1, -1, -1, -1, -1, -1, -1, -1, -1, -1, -1, -1, -1, -1, -1, -1, -1, -1, 1, -1, -1, -1, -1, -1, -1, -1, -1, -1, -1, -1, -1, -1, -1, -1, -1, -1, -1, -1, -1, -1, -1, -1, 0, -1, -1, -1, -1, -1, -1, -1, -1, -1, 0, -1, -1, -1, -1, -1, -1, -1, -1, -1, -1, -1, -1, -1, -1, -1, -1, -1, -1, -1, -1, -1, -1, -1, -1, -1, -1, -1, -1, -1, -1, -1, -1, -1, -1, -1, -1, -1, -1, -1, -1, -1, -1, -1, -1, -1, -1, -1, 0, -1, -1, -1, -1, -1, -1, -1, -1, -1, 1, -1, -1, -1, -1, -1, -1, -1, -1, -1, -1, -1, -1, -1, -1, -1, -1, -1, -1, -1, -1, -1, -1, -1, -1, -1, -1, -1, -1, -1, -1, -1, -1, -1, -1, -1, 1, -1, -1, -1, -1, -1, -1, -1, -1, -1, -1, -1, -1, -1, -1, -1, -1, -1, -1, -1, -1, -1, -1, -1, -1, -1, -1, -1, -1, -1, -1, -1, -1, -1, -1, -1, -1, -1, -1, -1, -1, -1, -1, -1, -1, -1, -1, -1, -1, -1, -1, -1, -1, -1, -1, -1, -1, -1, -1, -1, -1, -1, -1, -1, -1, -1, -1, 0, -1, -1, -1, -1, -1, -1, -1, -1, -1, -1, -1, -1, -1, -1, -1, -1, -1, -1, -1, -1, -1, -1, -1, -1, -1, -1, -1, -1, -1, -1, -1, -1, -1, -1, -1, -1, -1, -1, -1, -1, -1, -1, -1, -1, -1, -1, -1, -1, -1, -1, -1, -1, -1, -1, -1, -1, -1, -1, -1, -1, -1, -1, -1, -1, -1, -1, -1, -1, -1, -1, -1, -1, -1, -1, -1, -1, -1, -1, -1, -1, 0, -1, -1, -1, -1, -1, -1, 1, -1, -1, -1, -1, -1, -1, -1, -1, -1, -1, -1, -1, -1, -1, -1, 0, -1, -1, -1, -1, -1, -1, -1, -1, 1, -1, -1, -1, -1, -1, -1, -1, -1, 0, -1, -1, -1, -1, 0, 1, -1, -1, -1, -1, -1, -1, -1, -1, -1, -1, -1, -1, -1, -1, -1, -1, -1, -1, -1, -1, -1, -1, -1, -1, -1, -1, -1, -1, -1, -1, -1, -1, -1, -1, -1, -1, -1, -1, -1, -1, -1, -1, -1, -1, -1, -1, -1, -1, -1, -1, -1, -1, -1, -1, -1, -1, -1, -1, -1, -1, -1, -1, -1, -1, -1, -1, -1, -1, -1, -1, 1, -1, -1, -1, 1, -1, -1, -1, -1, -1, -1, -1, -1, -1, -1, -1, -1, -1, -1, -1, -1, -1, -1, -1, -1, -1, -1, -1, -1, -1, -1, -1, -1, -1, -1, -1, -1, -1, -1, -1, -1, -1, -1, -1, -1, -1, -1, -1, -1, -1, -1, -1, -1, -1, -1, -1, -1, -1, -1, -1, -1, -1, -1, -1, -1, -1, -1, 1, -1, -1, -1, -1, -1, -1, -1, -1, -1, -1, -1, -1, -1, 1, -1, -1, -1, -1, -1, -1, -1, -1, -1, -1, -1, -1, -1, -1, -1, -1, -1, -1, -1, -1, -1, -1, -1, -1, -1, -1, -1, -1, -1, -1, -1, -1, -1, -1, 1, -1, -1, -1, -1, -1, -1, -1, -1, -1, -1, -1, -1, -1, -1, -1, -1, -1, -1, -1, -1, -1, 1, -1, -1, -1, -1, -1, -1, -1, -1, -1, -1, -1, -1, -1, -1, -1, -1, -1, -1, -1, -1, -1, 0, -1, -1, -1, -1, -1, -1, -1, -1, -1, -1, -1, -1, -1, -1, -1, -1, -1, -1, -1, -1, -1, -1, -1, -1, -1, -1, -1, -1, -1, -1, -1, -1, -1, -1, -1, -1, -1, -1, -1, -1, -1, -1, -1, -1, -1, -1, -1, -1, -1, -1, -1, -1, -1, -1, -1, 1, -1, -1, -1, -1, -1, -1, -1, -1, -1, -1, -1, -1, -1, -1, -1, -1, -1, 0, -1, 1, -1, -1, -1, -1, -1, 1, 1, -1, 0, -1, -1, -1, -1, 1, -1, -1, -1, -1, -1, 1, -1, -1, -1, -1, -1, -1, -1, 1, 1, -1, -1, -1, -1, -1, -1, -1, -1, -1, -1, -1, -1, -1, -1, -1, -1, -1, -1, -1, 1, -1, -1, -1, -1, -1, -1, -1, -1, -1, -1, -1, -1, -1, -1, -1, -1, -1, -1, -1, -1, -1, -1, -1, -1, -1, -1, -1, 1, -1, -1, -1, -1, -1, -1, -1, -1, -1, -1, -1, -1, -1, -1, -1, -1, -1, -1, -1, -1, -1, -1, -1, -1, -1, -1, -1, -1, -1, -1, -1, -1, -1, 0, -1, -1, -1, -1, -1, -1, -1, -1, -1, -1, -1, -1, -1, -1, -1, -1, -1, -1, -1, -1, -1, -1, -1, -1, -1, -1, -1, -1, -1, -1, -1, -1, -1, -1, -1, -1, -1, 0, -1, 0, -1, -1, -1, -1, -1, -1, -1, -1, -1, 1, -1, -1, -1, -1, -1, -1, -1, -1, 1, -1, 1, -1, -1, -1, -1, -1, -1, -1, -1, -1, 1, -1, -1, -1, 1, -1, -1, -1, -1, -1, -1, 1, -1, -1, -1, -1, -1, -1, -1, -1, -1, -1, -1, -1, -1, -1, -1, -1, -1, -1, -1, -1, -1, -1, -1, -1, -1, -1, -1, -1, -1, -1, -1, -1, -1, -1, -1, -1, -1, -1, -1, -1, -1, -1, -1, -1, -1, -1, -1, 1, -1, -1, -1, -1, -1, -1, -1, -1, -1, -1, -1, -1, -1, -1, -1, -1, 1, 1, -1, -1, -1, -1, -1, -1, -1, -1, -1, -1, -1, 1, -1, -1, -1, -1, -1, -1, -1, -1, -1, -1, -1, -1, -1, 0, -1, -1, -1, -1, -1, 1, -1, 1, -1, -1, 1, -1, -1, -1, -1, 1, -1, -1, -1, -1, -1, -1, -1, -1, -1, -1, -1, -1, -1, -1, 0, 1, -1, -1, -1, -1, -1, -1, -1, -1, -1, -1, -1, -1, -1, -1, -1, -1, -1, -1, -1, -1, -1, -1, -1, -1, -1, -1, -1, -1, -1, -1, -1, -1, -1, -1, -1, -1, -1, -1, -1, -1, -1, -1, -1, -1, -1, -1, -1, -1, -1, -1, -1, -1, -1, -1, -1, -1, -1, -1, -1, -1, -1, -1, -1, -1, -1, -1, 1, -1, -1, -1, -1, -1, -1, -1, -1, -1, -1, -1, -1, 0, -1, 0, -1, -1, -1, -1, -1, -1, -1, -1, -1, -1, -1, -1, -1, -1, -1, -1, -1, 1, -1, -1, -1, -1, -1, -1, -1, -1, -1, -1, -1, -1, -1, -1, -1, -1, -1, -1, -1, -1, -1, -1, -1, -1, -1, -1, -1, -1, -1, -1, -1, -1, -1, -1, -1, 1, -1, -1, -1, -1, 1, -1, -1, -1, -1, -1, -1, -1, -1, -1, -1, -1, -1, -1, -1, -1, -1, -1, -1, -1, -1, 1, -1, -1, -1, -1, -1, -1, -1, -1, -1, -1, -1, -1, -1, -1, -1, -1, -1, -1, -1, -1, -1, -1, -1, -1, -1, -1, -1, -1, -1, -1, -1, -1, -1, -1, -1, -1, -1, -1, -1, -1, -1, -1, -1, -1, -1, -1, -1, -1, -1, -1, -1, -1, -1, -1, -1, -1, -1, -1, -1, -1, -1, -1, -1, -1, -1, -1, -1, -1, -1, -1, -1, -1, -1, -1, 1, -1, 1, -1, -1, -1, -1, -1, 0, -1, -1, -1, -1, -1, -1, -1, -1, 1, -1, -1, -1, -1, 1, -1, -1, -1, -1, -1, -1, -1, -1, -1, -1, 1, -1, -1, -1, -1, -1, -1, 1, -1, -1, -1, -1, -1, -1, 1, -1, -1, -1, -1, -1, -1, -1, -1, -1, 1, -1, -1, -1, -1, -1, -1, 1, -1, -1, -1, -1, -1, -1, -1, -1, -1, -1, -1, -1, -1, -1, -1, 1, -1, -1, -1, -1, -1, -1, -1, -1, -1, -1, -1, -1, -1, -1, -1, -1, -1, 1, -1, -1, -1, -1, -1, -1, -1, -1, -1, -1, -1, -1, -1, -1, -1, -1, -1, -1, -1, -1, -1, -1, -1, -1, -1, -1, -1, -1, -1, 1, -1, -1, 0, -1, -1, -1, -1, -1, -1, -1, 0, -1, -1, -1, -1, -1, -1, -1, -1, -1, -1, -1, -1, -1, -1, -1, -1, -1, -1, -1, -1, -1, -1, -1, -1, -1, -1, -1, -1, -1, -1, -1, -1, -1, -1, -1, -1, -1, 1, -1, -1, -1, -1, -1, 1, -1, -1, -1, -1, 0, -1, -1, -1, -1, -1, -1, -1, -1, -1, -1, -1, -1, -1, -1, -1, -1, -1, 1, -1, -1, -1, -1, -1, -1, -1, -1, -1, -1, -1, -1, -1, -1, -1, -1, -1, -1, -1, -1, -1, -1, -1, -1, -1, -1, -1, -1, -1, -1, -1, -1, -1, 1, -1, -1, -1, -1, -1, -1, -1, -1, -1, -1, -1, -1, -1, -1, -1, -1, -1, -1, -1, -1, -1, -1, 1, -1, -1, -1, -1, -1, -1, -1, -1, -1, -1, -1, -1, -1, -1, 1, -1, -1, -1, -1, -1, -1, -1, -1, -1, -1, -1, 0, 1, -1, -1, -1, -1, -1, -1, -1, -1, -1, 0, -1, -1, -1, -1, -1, -1, -1, -1, -1, -1, 0, 0, -1, -1, -1, 0, -1, -1, -1, 1, -1, -1, -1, -1, -1, -1, -1, -1, -1, -1, -1, -1, -1, -1, -1, -1, -1, -1, -1, -1, -1, -1, -1, -1, -1, -1, 0, -1, -1, -1, -1, 0, 1, -1, -1, -1, -1, -1, -1, -1, -1, -1, 1, -1, -1, -1, -1, -1, -1, -1, -1, -1, -1, -1, -1, -1, -1, -1, -1, -1, -1, -1, -1, -1, -1, -1, -1, -1, -1, -1, -1, -1, 1, -1, -1, -1, -1, -1, -1, -1, -1, -1, -1, -1, -1, -1, -1, -1, -1, -1, -1, -1, -1, -1, -1, -1, 1, -1, 0, -1, -1, -1, -1, -1, -1, -1, 1, -1, -1, -1, -1, -1, -1, -1, -1, -1, -1, -1, -1, -1, -1, -1, -1, -1, -1, -1, -1, -1, -1, -1, -1, -1, -1, -1, -1, -1, -1, 1, -1, -1, 1, -1, -1, 1, -1, -1, -1, 1, -1, 1, -1, -1, -1, -1, -1, -1, -1, -1, 1, -1, 1, -1, -1, 1, -1, -1, -1, -1, -1, -1, -1, -1, -1, -1, -1, -1, -1, -1, -1, 1, -1, -1, 0, 1, 1, -1, 1, 1, -1, -1, -1, -1, 1, -1, -1, -1, -1, -1, -1, -1, -1, -1, -1, -1, -1, -1, 1, -1, -1, 0, -1, -1, -1, -1, -1, -1, -1, -1, -1, -1, -1, -1, -1, -1, -1, 1, -1, -1, -1, -1, -1, -1, -1, -1, -1, -1, -1, -1, -1, -1, -1])],\n",
       "      dtype=object)"
      ]
     },
     "execution_count": 91,
     "metadata": {},
     "output_type": "execute_result"
    }
   ],
   "source": [
    "Z"
   ]
  },
  {
   "cell_type": "code",
   "execution_count": 96,
   "metadata": {},
   "outputs": [],
   "source": [
    "from sklearn.cluster import MiniBatchKMeans,DBSCAN\n",
    "kmeans = MiniBatchKMeans(n_clusters=2)\n",
    "X = np.array([np.log(np.array(lengths)+1),np.log(np.array(max_growths)+1),np.log(np.array(branch_frequ)+1)])\n",
    "kmeans = kmeans.fit(np.transpose(X))"
   ]
  },
  {
   "cell_type": "code",
   "execution_count": 98,
   "metadata": {},
   "outputs": [],
   "source": [
    "from sklearn.cluster import MiniBatchKMeans,DBSCAN\n",
    "db = DBSCAN(eps=0.1, min_samples=30)\n",
    "X = np.array([np.log(np.array(lengths)+1),np.log(np.array(max_growths)+1),np.log(np.array(branch_frequ)+1)])\n",
    "db = db.fit(np.transpose(X))"
   ]
  },
  {
   "cell_type": "code",
   "execution_count": 27,
   "metadata": {},
   "outputs": [],
   "source": [
    "from sklearn.cluster import MiniBatchKMeans\n",
    "kmeans = MiniBatchKMeans(n_clusters=2)\n",
    "X = np.array([np.array(lengths),np.array(max_growths),np.array(branch_frequ)])\n",
    "kmeans = kmeans.fit(np.transpose(X))"
   ]
  },
  {
   "cell_type": "code",
   "execution_count": 30,
   "metadata": {},
   "outputs": [
    {
     "data": {
      "application/vnd.jupyter.widget-view+json": {
       "model_id": "29fdc01029124780b31c90b94a8ff195",
       "version_major": 2,
       "version_minor": 0
      },
      "text/plain": [
       "Canvas(toolbar=Toolbar(toolitems=[('Home', 'Reset original view', 'home', 'home'), ('Back', 'Back to previous …"
      ]
     },
     "metadata": {},
     "output_type": "display_data"
    },
    {
     "data": {
      "text/plain": [
       "<mpl_toolkits.mplot3d.art3d.Path3DCollection at 0x2b61be292c90>"
      ]
     },
     "execution_count": 30,
     "metadata": {},
     "output_type": "execute_result"
    }
   ],
   "source": [
    "from mpl_toolkits.mplot3d import Axes3D\n",
    "\n",
    "plt.close('all')\n",
    "fig=plt.figure(figsize=(8,8))\n",
    "ax = fig.add_subplot(111,projection='3d')\n",
    "ax.scatter(lengths,max_growths,kmeans.labels_)"
   ]
  },
  {
   "cell_type": "code",
   "execution_count": 44,
   "metadata": {},
   "outputs": [],
   "source": [
    "BAS = [hyph for i,hyph in enumerate(hyph_l) if kmeans.labels_[i]==0]"
   ]
  },
  {
   "cell_type": "code",
   "execution_count": 16,
   "metadata": {},
   "outputs": [],
   "source": [
    "ambiguous = [hyph for i,hyph in enumerate(hyph_l) if kmeans.labels_[i]==2]"
   ]
  },
  {
   "cell_type": "code",
   "execution_count": 45,
   "metadata": {},
   "outputs": [],
   "source": [
    "RH = [hyph for i,hyph in enumerate(hyph_l) if kmeans.labels_[i]==1]"
   ]
  },
  {
   "cell_type": "code",
   "execution_count": 61,
   "metadata": {},
   "outputs": [],
   "source": [
    "bas_save = bas"
   ]
  },
  {
   "cell_type": "code",
   "execution_count": 62,
   "metadata": {},
   "outputs": [
    {
     "name": "stdout",
     "output_type": "stream",
     "text": [
      "[8, 9, 10, 11, 12, 13, 14, 15, 16, 17, 18, 19]\n"
     ]
    },
    {
     "data": {
      "application/vnd.jupyter.widget-view+json": {
       "model_id": "5a851025c8e84372a480978fc21baf15",
       "version_major": 2,
       "version_minor": 0
      },
      "text/plain": [
       "Canvas(toolbar=Toolbar(toolitems=[('Home', 'Reset original view', 'home', 'home'), ('Back', 'Back to previous …"
      ]
     },
     "metadata": {},
     "output_type": "display_data"
    }
   ],
   "source": [
    "plt.close('all')\n",
    "bas = np.random.choice(exp.hyphaes)\n",
    "print(bas.ts)\n",
    "exp.plot([bas.ts[0],bas.ts[-1]],[[bas.end.label,bas.root.label]]*2)"
   ]
  },
  {
   "cell_type": "code",
   "execution_count": 18,
   "metadata": {},
   "outputs": [],
   "source": [
    "from experiment_class_surftest import Edge\n",
    "class Hyphae:\n",
    "    def __init__(self, tip):\n",
    "        self.experiment = tip.experiment\n",
    "        self.ts = tip.ts()\n",
    "        self.end = tip\n",
    "        self.root = None\n",
    "        self.mother = None\n",
    "\n",
    "    def __eq__(self, other):\n",
    "        return self.end.label == other.end.label\n",
    "\n",
    "    def __repr__(self):\n",
    "        return f\"Hyphae({self.end},{self.root})\"\n",
    "\n",
    "    def __str__(self):\n",
    "        return str((self.end, self.root))\n",
    "\n",
    "    def __hash__(self):\n",
    "        return self.end.label\n",
    "\n",
    "    def get_edges(self, t, length=150):\n",
    "        first_neighbour = self.end.neighbours(t)[0]\n",
    "        last_node = self.end\n",
    "        current_node = first_neighbour\n",
    "        current_edge = Edge(last_node, current_node, self.experiment)\n",
    "        moving_on_hyphae = True\n",
    "        edges = [current_edge]\n",
    "        nodes = [last_node, current_node]\n",
    "        i = 0\n",
    "        while moving_on_hyphae:\n",
    "            i += 1\n",
    "            if i >= 100:\n",
    "                print(t, self.end, current_node)\n",
    "            if i >= 110:\n",
    "                break\n",
    "            #                 print ('moving',current_node)\n",
    "            if current_node.degree(t) < 2:\n",
    "                #                     print(current_node.degree(t),current_node)\n",
    "                moving_on_hyphae = False\n",
    "            else:\n",
    "                mini = np.inf\n",
    "                orientation = current_edge.orientation_end(t, length)\n",
    "                for neighbours_t in current_node.neighbours(t):\n",
    "                    #                     print (neighbours_t)\n",
    "                    candidate_edge = Edge(current_node, neighbours_t, self.experiment)\n",
    "                    orientation_candidate = candidate_edge.orientation_begin(t, length)\n",
    "                    angle = np.cos(\n",
    "                        (orientation - orientation_candidate) / 360 * 2 * np.pi\n",
    "                    )\n",
    "                    angle = np.arccos(angle)\n",
    "                    score = angle/min(len(candidate_edge.pixel_list(t)),length)\n",
    "                    if score < mini:\n",
    "                        mini = angle\n",
    "                        next_node_candidate = neighbours_t\n",
    "                #                     print(maxi,next_node_candidate)\n",
    "                candidate_edge = Edge(\n",
    "                    current_node, next_node_candidate, self.experiment\n",
    "                )\n",
    "                orientation_candidate = candidate_edge.orientation_begin(t, length)\n",
    "                mini_compet = np.inf\n",
    "                #                     print('compet')\n",
    "                for neighbours_t in current_node.neighbours(t):\n",
    "                    if neighbours_t != last_node:\n",
    "                        competitor_edge = Edge(\n",
    "                            neighbours_t, current_node, self.experiment\n",
    "                        )\n",
    "                        orientation_competitor = competitor_edge.orientation_end(\n",
    "                            t, length\n",
    "                        )\n",
    "                        angle = np.cos(\n",
    "                            (orientation_competitor - orientation_candidate)\n",
    "                            / 360\n",
    "                            * 2\n",
    "                            * np.pi\n",
    "                        )\n",
    "                        angle = np.arccos(angle)\n",
    "                        score = angle/min(len(competitor_edge.pixel_list(t)),length)\n",
    "                        if score < mini_compet:\n",
    "                            mini_compet = angle\n",
    "                            competitor = neighbours_t\n",
    "                #                             print(neighbours_t,angle)\n",
    "                #                     print(maxi_compet,competitor)\n",
    "                if mini_compet < mini:\n",
    "                    moving_on_hyphae = False\n",
    "                else:\n",
    "                    last_node, current_node = current_node, next_node_candidate\n",
    "                    current_edge = Edge(last_node, current_node, self.experiment)\n",
    "                    edges.append(current_edge)\n",
    "                    nodes.append(current_node)\n",
    "        #         while moving:\n",
    "        #             c= move_hyphae(llast_node,ccurrent_node)\n",
    "        #             edges += c[0]\n",
    "        #             nodes += c[1]\n",
    "        #             competitor = c[2]\n",
    "        # #             print('moving back', nodes[-1],competitor)\n",
    "        #             move_backward = move_hyphae(nodes[-1],competitor)\n",
    "        #             end_node_move_backward = move_backward[1][-1]\n",
    "        #             if end_node_move_backward in nodes:\n",
    "        # #                 print('restarting',competitor,nodes[-1])\n",
    "        #                 llast_node,ccurrent_node = c[2],nodes[-1]\n",
    "        #             else:\n",
    "        #                 moving=False\n",
    "        root = nodes[-1]\n",
    "        edges = edges\n",
    "        nodes = nodes\n",
    "        return (root, edges, nodes)\n",
    "\n",
    "    def get_nodes_within(self, t):\n",
    "        nodes = nx.shortest_path(\n",
    "            self.experiment.nx_graph[t],\n",
    "            source=self.root.label,\n",
    "            target=self.end.label,\n",
    "            weight=\"weight\",\n",
    "        )\n",
    "        edges = [\n",
    "            Edge(\n",
    "                self.experiment.get_node(nodes[i]),\n",
    "                self.experiment.get_node(nodes[i + 1]),\n",
    "                self.experiment,\n",
    "            )\n",
    "            for i in range(len(nodes) - 1)\n",
    "        ]\n",
    "        return (nodes, edges)\n",
    "\n",
    "    def get_length_pixel(self, t):\n",
    "        nodes, edges = self.get_nodes_within(t)\n",
    "        length = 0\n",
    "        for edge in edges:\n",
    "            length += len(edge.pixel_list(t))\n",
    "        return length\n",
    "\n",
    "    def get_length_um(self, t):\n",
    "        pixel_conversion_factor = 1.725\n",
    "        nodes, edges = self.get_nodes_within(t)\n",
    "        length = 0\n",
    "        for edge in edges:\n",
    "            length_edge = 0\n",
    "            pixels = edge.pixel_list(t)\n",
    "            for i in range(len(pixels) // 10 + 1):\n",
    "                if i * 10 <= len(pixels) - 1:\n",
    "                    length_edge += np.linalg.norm(\n",
    "                        np.array(pixels[i * 10])\n",
    "                        - np.array(pixels[min((i + 1) * 10, len(pixels) - 1)])\n",
    "                    )\n",
    "            #         length_edge+=np.linalg.norm(np.array(pixels[len(pixels)//10-1*10-1])-np.array(pixels[-1]))\n",
    "            length += length_edge\n",
    "        return length * pixel_conversion_factor\n",
    "\n",
    "    def get_mother(self):\n",
    "        candidate_mother = []\n",
    "        for hyphae in self.experiment.hyphaes:\n",
    "            for t in hyphae.ts:\n",
    "                if self.root in hyphae.get_nodes_within(t):\n",
    "                    candidate_mother.append(hyphae)\n",
    "        self.mother = candidate_mother\n",
    "\n",
    "    def update_ts(self):\n",
    "        self.ts = sorted(set(self.end.ts()).intersection(set(self.root.ts())))"
   ]
  },
  {
   "cell_type": "code",
   "execution_count": 19,
   "metadata": {},
   "outputs": [
    {
     "data": {
      "text/plain": [
       "(Node(3933), [Edge(3927,3933)], [Node(3927), Node(3933)])"
      ]
     },
     "execution_count": 19,
     "metadata": {},
     "output_type": "execute_result"
    }
   ],
   "source": [
    "Hyphae(bas.end).get_edges(19)"
   ]
  },
  {
   "cell_type": "code",
   "execution_count": 21,
   "metadata": {},
   "outputs": [
    {
     "data": {
      "text/plain": [
       "1"
      ]
     },
     "execution_count": 21,
     "metadata": {},
     "output_type": "execute_result"
    }
   ],
   "source": [
    "bas.end.degree(18)"
   ]
  },
  {
   "cell_type": "code",
   "execution_count": 48,
   "metadata": {},
   "outputs": [],
   "source": [
    "RH_fast = []\n",
    "RH_slow = []\n",
    "for hyph in RH:\n",
    "    growths = [c[2] for c in select_hyph[hyph]]\n",
    "    speed = np.max(growths)\n",
    "    if speed >=130:\n",
    "        RH_fast.append(hyph)\n",
    "    else:\n",
    "        RH_slow.append(hyph)"
   ]
  },
  {
   "cell_type": "code",
   "execution_count": 109,
   "metadata": {},
   "outputs": [
    {
     "data": {
      "application/vnd.jupyter.widget-view+json": {
       "model_id": "e40d1cf470d94322987863229d0d2c42",
       "version_major": 2,
       "version_minor": 0
      },
      "text/plain": [
       "Canvas(toolbar=Toolbar(toolitems=[('Home', 'Reset original view', 'home', 'home'), ('Back', 'Back to previous …"
      ]
     },
     "metadata": {},
     "output_type": "display_data"
    },
    {
     "data": {
      "text/plain": [
       "(array([205.,  77.,  11.,   8.,   4.,   2.,   2.,   1.,   0.,   0.,   1.,\n",
       "          1.,   0.,   0.,   0.,   0.,   0.,   1.,   0.,   0.,   0.,   0.,\n",
       "          0.,   1.,   0.,   0.,   0.,   0.,   0.,   1.]),\n",
       " array([  50.        ,   95.06666667,  140.13333333,  185.2       ,\n",
       "         230.26666667,  275.33333333,  320.4       ,  365.46666667,\n",
       "         410.53333333,  455.6       ,  500.66666667,  545.73333333,\n",
       "         590.8       ,  635.86666667,  680.93333333,  726.        ,\n",
       "         771.06666667,  816.13333333,  861.2       ,  906.26666667,\n",
       "         951.33333333,  996.4       , 1041.46666667, 1086.53333333,\n",
       "        1131.6       , 1176.66666667, 1221.73333333, 1266.8       ,\n",
       "        1311.86666667, 1356.93333333, 1402.        ]),\n",
       " <a list of 30 Patch objects>)"
      ]
     },
     "execution_count": 109,
     "metadata": {},
     "output_type": "execute_result"
    }
   ],
   "source": [
    "plt.close('all')\n",
    "speeds=[]\n",
    "for hyph in exp.hyphaes:\n",
    "    growths = [c[2] for c in select_hyph[hyph]]\n",
    "    if len(growths)>0:\n",
    "        speed = np.max(growths)\n",
    "        if speed>=50:\n",
    "            speeds.append(speed)\n",
    "fig=plt.figure(figsize=(10,9))\n",
    "ax = fig.add_subplot(111)\n",
    "ax.hist(speeds,30)"
   ]
  },
  {
   "cell_type": "code",
   "execution_count": 41,
   "metadata": {},
   "outputs": [
    {
     "data": {
      "application/vnd.jupyter.widget-view+json": {
       "model_id": "dca9984d04b049d6b94ac38c6b8426ee",
       "version_major": 2,
       "version_minor": 0
      },
      "text/plain": [
       "Canvas(toolbar=Toolbar(toolitems=[('Home', 'Reset original view', 'home', 'home'), ('Back', 'Back to previous …"
      ]
     },
     "metadata": {},
     "output_type": "display_data"
    },
    {
     "data": {
      "text/plain": [
       "(array([240.,  37.,  32.,  26.,  19.,  25.,  19.,  36.,  34.,  32.,  12.,\n",
       "          1.,   2.,   0.,   0.,   1.,   0.,   3.,   0.,   1.,   0.,   0.,\n",
       "          0.,   0.,   0.,   0.,   0.,   0.,   0.,   1.]),\n",
       " array([  20.        ,   58.43333333,   96.86666667,  135.3       ,\n",
       "         173.73333333,  212.16666667,  250.6       ,  289.03333333,\n",
       "         327.46666667,  365.9       ,  404.33333333,  442.76666667,\n",
       "         481.2       ,  519.63333333,  558.06666667,  596.5       ,\n",
       "         634.93333333,  673.36666667,  711.8       ,  750.23333333,\n",
       "         788.66666667,  827.1       ,  865.53333333,  903.96666667,\n",
       "         942.4       ,  980.83333333, 1019.26666667, 1057.7       ,\n",
       "        1096.13333333, 1134.56666667, 1173.        ]),\n",
       " <a list of 30 Patch objects>)"
      ]
     },
     "execution_count": 41,
     "metadata": {},
     "output_type": "execute_result"
    }
   ],
   "source": [
    "overgrowing = [c for lis in select_hyph.values() for c in lis if c[2]>=20 and c[2]<1500 and c[0]<=20 and c[0]>13]\n",
    "selected_growth = [c[2] for c in overgrowing]\n",
    "fig=plt.figure(figsize=(10,9))\n",
    "ax = fig.add_subplot(111)\n",
    "ax.hist(selected_growth,30)"
   ]
  },
  {
   "cell_type": "code",
   "execution_count": 33,
   "metadata": {},
   "outputs": [],
   "source": [
    "overgrowing = [c for c in select_hyph if c[3]>=20]\n",
    "len_growth = [(c[3],c[0].get_length_um(c[0].ts[-1]),c[0]) for c in overgrowing]"
   ]
  },
  {
   "cell_type": "code",
   "execution_count": null,
   "metadata": {},
   "outputs": [],
   "source": [
    "for c in "
   ]
  },
  {
   "cell_type": "code",
   "execution_count": 34,
   "metadata": {},
   "outputs": [
    {
     "name": "stderr",
     "output_type": "stream",
     "text": [
      "/home/cbisot/anaconda3/envs/test/lib/python3.7/site-packages/matplotlib/__init__.py:880: MatplotlibDeprecationWarning: \n",
      "nbagg.transparent\n",
      "  version, key, obj_type=\"rcparam\", alternative=alt_key)\n"
     ]
    },
    {
     "data": {
      "application/vnd.jupyter.widget-view+json": {
       "model_id": "881de98e67ae4a55a39a26c7e362065e",
       "version_major": 2,
       "version_minor": 0
      },
      "text/plain": [
       "Canvas(toolbar=Toolbar(toolitems=[('Home', 'Reset original view', 'home', 'home'), ('Back', 'Back to previous …"
      ]
     },
     "metadata": {},
     "output_type": "display_data"
    },
    {
     "data": {
      "text/plain": [
       "<matplotlib.collections.PathCollection at 0x2b64c632c790>"
      ]
     },
     "execution_count": 34,
     "metadata": {},
     "output_type": "execute_result"
    }
   ],
   "source": [
    "growth = [c[0] for c in len_growth if c[0]<=2000]\n",
    "length = [c[1] for c in len_growth if c[0]<=2000]\n",
    "fig=plt.figure(figsize=(10,9))\n",
    "ax = fig.add_subplot(111)\n",
    "ax.scatter(growth,np.log(length))"
   ]
  },
  {
   "cell_type": "code",
   "execution_count": 101,
   "metadata": {},
   "outputs": [
    {
     "ename": "TypeError",
     "evalue": "'Hyphae' object is not subscriptable",
     "output_type": "error",
     "traceback": [
      "\u001b[0;31m---------------------------------------------------------------------------\u001b[0m",
      "\u001b[0;31mTypeError\u001b[0m                                 Traceback (most recent call last)",
      "\u001b[0;32m<ipython-input-101-c4dea26d25a0>\u001b[0m in \u001b[0;36m<module>\u001b[0;34m\u001b[0m\n\u001b[0;32m----> 1\u001b[0;31m \u001b[0movergrowing\u001b[0m \u001b[0;34m=\u001b[0m \u001b[0;34m[\u001b[0m\u001b[0mc\u001b[0m \u001b[0;32mfor\u001b[0m \u001b[0mc\u001b[0m \u001b[0;32min\u001b[0m \u001b[0mselect_hyph\u001b[0m \u001b[0;32mif\u001b[0m \u001b[0mc\u001b[0m\u001b[0;34m[\u001b[0m\u001b[0;36m3\u001b[0m\u001b[0;34m]\u001b[0m\u001b[0;34m>=\u001b[0m\u001b[0;36m20\u001b[0m\u001b[0;34m]\u001b[0m\u001b[0;34m\u001b[0m\u001b[0;34m\u001b[0m\u001b[0m\n\u001b[0m\u001b[1;32m      2\u001b[0m \u001b[0mselected_growth\u001b[0m \u001b[0;34m=\u001b[0m \u001b[0;34m[\u001b[0m\u001b[0mc\u001b[0m\u001b[0;34m[\u001b[0m\u001b[0;36m3\u001b[0m\u001b[0;34m]\u001b[0m \u001b[0;32mfor\u001b[0m \u001b[0mc\u001b[0m \u001b[0;32min\u001b[0m \u001b[0movergrowing\u001b[0m\u001b[0;34m]\u001b[0m\u001b[0;34m\u001b[0m\u001b[0;34m\u001b[0m\u001b[0m\n\u001b[1;32m      3\u001b[0m \u001b[0mfig\u001b[0m\u001b[0;34m=\u001b[0m\u001b[0mplt\u001b[0m\u001b[0;34m.\u001b[0m\u001b[0mfigure\u001b[0m\u001b[0;34m(\u001b[0m\u001b[0mfigsize\u001b[0m\u001b[0;34m=\u001b[0m\u001b[0;34m(\u001b[0m\u001b[0;36m10\u001b[0m\u001b[0;34m,\u001b[0m\u001b[0;36m9\u001b[0m\u001b[0;34m)\u001b[0m\u001b[0;34m)\u001b[0m\u001b[0;34m\u001b[0m\u001b[0;34m\u001b[0m\u001b[0m\n\u001b[1;32m      4\u001b[0m \u001b[0max\u001b[0m \u001b[0;34m=\u001b[0m \u001b[0mfig\u001b[0m\u001b[0;34m.\u001b[0m\u001b[0madd_subplot\u001b[0m\u001b[0;34m(\u001b[0m\u001b[0;36m111\u001b[0m\u001b[0;34m)\u001b[0m\u001b[0;34m\u001b[0m\u001b[0;34m\u001b[0m\u001b[0m\n\u001b[1;32m      5\u001b[0m \u001b[0max\u001b[0m\u001b[0;34m.\u001b[0m\u001b[0mhist\u001b[0m\u001b[0;34m(\u001b[0m\u001b[0mselected_growth\u001b[0m\u001b[0;34m,\u001b[0m\u001b[0;36m30\u001b[0m\u001b[0;34m)\u001b[0m\u001b[0;34m\u001b[0m\u001b[0;34m\u001b[0m\u001b[0m\n",
      "\u001b[0;32m<ipython-input-101-c4dea26d25a0>\u001b[0m in \u001b[0;36m<listcomp>\u001b[0;34m(.0)\u001b[0m\n\u001b[0;32m----> 1\u001b[0;31m \u001b[0movergrowing\u001b[0m \u001b[0;34m=\u001b[0m \u001b[0;34m[\u001b[0m\u001b[0mc\u001b[0m \u001b[0;32mfor\u001b[0m \u001b[0mc\u001b[0m \u001b[0;32min\u001b[0m \u001b[0mselect_hyph\u001b[0m \u001b[0;32mif\u001b[0m \u001b[0mc\u001b[0m\u001b[0;34m[\u001b[0m\u001b[0;36m3\u001b[0m\u001b[0;34m]\u001b[0m\u001b[0;34m>=\u001b[0m\u001b[0;36m20\u001b[0m\u001b[0;34m]\u001b[0m\u001b[0;34m\u001b[0m\u001b[0;34m\u001b[0m\u001b[0m\n\u001b[0m\u001b[1;32m      2\u001b[0m \u001b[0mselected_growth\u001b[0m \u001b[0;34m=\u001b[0m \u001b[0;34m[\u001b[0m\u001b[0mc\u001b[0m\u001b[0;34m[\u001b[0m\u001b[0;36m3\u001b[0m\u001b[0;34m]\u001b[0m \u001b[0;32mfor\u001b[0m \u001b[0mc\u001b[0m \u001b[0;32min\u001b[0m \u001b[0movergrowing\u001b[0m\u001b[0;34m]\u001b[0m\u001b[0;34m\u001b[0m\u001b[0;34m\u001b[0m\u001b[0m\n\u001b[1;32m      3\u001b[0m \u001b[0mfig\u001b[0m\u001b[0;34m=\u001b[0m\u001b[0mplt\u001b[0m\u001b[0;34m.\u001b[0m\u001b[0mfigure\u001b[0m\u001b[0;34m(\u001b[0m\u001b[0mfigsize\u001b[0m\u001b[0;34m=\u001b[0m\u001b[0;34m(\u001b[0m\u001b[0;36m10\u001b[0m\u001b[0;34m,\u001b[0m\u001b[0;36m9\u001b[0m\u001b[0;34m)\u001b[0m\u001b[0;34m)\u001b[0m\u001b[0;34m\u001b[0m\u001b[0;34m\u001b[0m\u001b[0m\n\u001b[1;32m      4\u001b[0m \u001b[0max\u001b[0m \u001b[0;34m=\u001b[0m \u001b[0mfig\u001b[0m\u001b[0;34m.\u001b[0m\u001b[0madd_subplot\u001b[0m\u001b[0;34m(\u001b[0m\u001b[0;36m111\u001b[0m\u001b[0;34m)\u001b[0m\u001b[0;34m\u001b[0m\u001b[0;34m\u001b[0m\u001b[0m\n\u001b[1;32m      5\u001b[0m \u001b[0max\u001b[0m\u001b[0;34m.\u001b[0m\u001b[0mhist\u001b[0m\u001b[0;34m(\u001b[0m\u001b[0mselected_growth\u001b[0m\u001b[0;34m,\u001b[0m\u001b[0;36m30\u001b[0m\u001b[0;34m)\u001b[0m\u001b[0;34m\u001b[0m\u001b[0;34m\u001b[0m\u001b[0m\n",
      "\u001b[0;31mTypeError\u001b[0m: 'Hyphae' object is not subscriptable"
     ]
    }
   ],
   "source": [
    "overgrowing = [c for c in select_hyph if c[3]>=20]\n",
    "selected_growth = [c[3] for c in overgrowing]\n",
    "fig=plt.figure(figsize=(10,9))\n",
    "ax = fig.add_subplot(111)\n",
    "ax.hist(selected_growth,30)"
   ]
  },
  {
   "cell_type": "code",
   "execution_count": 10,
   "metadata": {},
   "outputs": [
    {
     "name": "stderr",
     "output_type": "stream",
     "text": [
      "/home/cbisot/anaconda3/envs/test/lib/python3.7/site-packages/matplotlib/__init__.py:880: MatplotlibDeprecationWarning: \n",
      "nbagg.transparent\n",
      "  version, key, obj_type=\"rcparam\", alternative=alt_key)\n"
     ]
    },
    {
     "data": {
      "application/vnd.jupyter.widget-view+json": {
       "model_id": "9bd9155d7f744e30ae5e7c6cc32b0c20",
       "version_major": 2,
       "version_minor": 0
      },
      "text/plain": [
       "Canvas(toolbar=Toolbar(toolitems=[('Home', 'Reset original view', 'home', 'home'), ('Back', 'Back to previous …"
      ]
     },
     "metadata": {},
     "output_type": "display_data"
    },
    {
     "data": {
      "text/plain": [
       "(array([353., 167., 101.,  59.,  31.,  28.,  30.,  31.,  14.,  25.,  26.,\n",
       "         29.,  43.,  40.,  42.,  33.,   1.,   0.,   0.,   1.,   0.,   0.,\n",
       "          0.,   0.,   0.,   0.,   0.,   0.,   0.,   1.]),\n",
       " array([  20. ,   65.8,  111.6,  157.4,  203.2,  249. ,  294.8,  340.6,\n",
       "         386.4,  432.2,  478. ,  523.8,  569.6,  615.4,  661.2,  707. ,\n",
       "         752.8,  798.6,  844.4,  890.2,  936. ,  981.8, 1027.6, 1073.4,\n",
       "        1119.2, 1165. , 1210.8, 1256.6, 1302.4, 1348.2, 1394. ]),\n",
       " <a list of 30 Patch objects>)"
      ]
     },
     "execution_count": 10,
     "metadata": {},
     "output_type": "execute_result"
    }
   ],
   "source": [
    "plt.close('all')\n",
    "overgrowing = [c for c in select_hyph if c[3]>=20]\n",
    "selected_growth = [c[3] for c in overgrowing]\n",
    "fig=plt.figure(figsize=(10,9))\n",
    "ax = fig.add_subplot(111)\n",
    "ax.hist(selected_growth,30)"
   ]
  },
  {
   "cell_type": "code",
   "execution_count": 71,
   "metadata": {},
   "outputs": [
    {
     "name": "stdout",
     "output_type": "stream",
     "text": [
      "45\n"
     ]
    }
   ],
   "source": [
    "hyph,t,tp1,le = choice(overgrowing)\n",
    "print(le)"
   ]
  },
  {
   "cell_type": "code",
   "execution_count": 72,
   "metadata": {},
   "outputs": [
    {
     "data": {
      "application/vnd.jupyter.widget-view+json": {
       "model_id": "2517aebe0ebd4fd3bd73be239364a756",
       "version_major": 2,
       "version_minor": 0
      },
      "text/plain": [
       "Canvas(toolbar=Toolbar(toolitems=[('Home', 'Reset original view', 'home', 'home'), ('Back', 'Back to previous …"
      ]
     },
     "metadata": {},
     "output_type": "display_data"
    }
   ],
   "source": [
    "plt.close('all')\n",
    "exp.plot([t,tp1],[[hyph.end.label,hyph.root.label]]*2)"
   ]
  },
  {
   "cell_type": "code",
   "execution_count": 44,
   "metadata": {},
   "outputs": [
    {
     "ename": "OSError",
     "evalue": "The file /scratch/shared/AMF914/Fiji.app/20201121_0421_Plate40/Analysis/skeleton_realigned.mat does not exist.",
     "output_type": "error",
     "traceback": [
      "\u001b[0;31m---------------------------------------------------------------------------\u001b[0m",
      "\u001b[0;31mOSError\u001b[0m                                   Traceback (most recent call last)",
      "\u001b[0;32m<ipython-input-44-8b718977109b>\u001b[0m in \u001b[0;36m<module>\u001b[0;34m\u001b[0m\n\u001b[0;32m----> 1\u001b[0;31m \u001b[0mhyph\u001b[0m\u001b[0;34m.\u001b[0m\u001b[0mend\u001b[0m\u001b[0;34m.\u001b[0m\u001b[0mshow_source_image\u001b[0m\u001b[0;34m(\u001b[0m\u001b[0mt\u001b[0m\u001b[0;34m,\u001b[0m\u001b[0mtp1\u001b[0m\u001b[0;34m)\u001b[0m\u001b[0;34m\u001b[0m\u001b[0;34m\u001b[0m\u001b[0m\n\u001b[0m",
      "\u001b[0;32m~/pycode/MscThesis/experiment_class_surf.py\u001b[0m in \u001b[0;36mshow_source_image\u001b[0;34m(self, t, tp1)\u001b[0m\n\u001b[1;32m    386\u001b[0m         \u001b[0mpos\u001b[0m \u001b[0;34m=\u001b[0m \u001b[0mself\u001b[0m\u001b[0;34m.\u001b[0m\u001b[0mpos\u001b[0m\u001b[0;34m(\u001b[0m\u001b[0mt\u001b[0m\u001b[0;34m)\u001b[0m\u001b[0;34m\u001b[0m\u001b[0;34m\u001b[0m\u001b[0m\n\u001b[1;32m    387\u001b[0m         \u001b[0mx\u001b[0m\u001b[0;34m,\u001b[0m \u001b[0my\u001b[0m \u001b[0;34m=\u001b[0m \u001b[0mpos\u001b[0m\u001b[0;34m[\u001b[0m\u001b[0;36m0\u001b[0m\u001b[0;34m]\u001b[0m\u001b[0;34m,\u001b[0m \u001b[0mpos\u001b[0m\u001b[0;34m[\u001b[0m\u001b[0;36m1\u001b[0m\u001b[0;34m]\u001b[0m\u001b[0;34m\u001b[0m\u001b[0;34m\u001b[0m\u001b[0m\n\u001b[0;32m--> 388\u001b[0;31m         \u001b[0mims\u001b[0m\u001b[0;34m,\u001b[0m \u001b[0mposimg\u001b[0m \u001b[0;34m=\u001b[0m \u001b[0mself\u001b[0m\u001b[0;34m.\u001b[0m\u001b[0mexperiment\u001b[0m\u001b[0;34m.\u001b[0m\u001b[0mfind_image_pos\u001b[0m\u001b[0;34m(\u001b[0m\u001b[0mx\u001b[0m\u001b[0;34m,\u001b[0m \u001b[0my\u001b[0m\u001b[0;34m,\u001b[0m \u001b[0mt\u001b[0m\u001b[0;34m)\u001b[0m\u001b[0;34m\u001b[0m\u001b[0;34m\u001b[0m\u001b[0m\n\u001b[0m\u001b[1;32m    389\u001b[0m         \u001b[0mi\u001b[0m \u001b[0;34m=\u001b[0m \u001b[0mnp\u001b[0m\u001b[0;34m.\u001b[0m\u001b[0margmax\u001b[0m\u001b[0;34m(\u001b[0m\u001b[0;34m[\u001b[0m\u001b[0mnp\u001b[0m\u001b[0;34m.\u001b[0m\u001b[0mmean\u001b[0m\u001b[0;34m(\u001b[0m\u001b[0mim\u001b[0m\u001b[0;34m)\u001b[0m \u001b[0;32mfor\u001b[0m \u001b[0mim\u001b[0m \u001b[0;32min\u001b[0m \u001b[0mims\u001b[0m\u001b[0;34m]\u001b[0m\u001b[0;34m)\u001b[0m\u001b[0;34m\u001b[0m\u001b[0;34m\u001b[0m\u001b[0m\n\u001b[1;32m    390\u001b[0m         \u001b[0;32mif\u001b[0m \u001b[0mt\u001b[0m \u001b[0;34m!=\u001b[0m \u001b[0mtp1\u001b[0m\u001b[0;34m:\u001b[0m\u001b[0;34m\u001b[0m\u001b[0;34m\u001b[0m\u001b[0m\n",
      "\u001b[0;32m~/pycode/MscThesis/experiment_class_surf.py\u001b[0m in \u001b[0;36mfind_image_pos\u001b[0;34m(self, xs, ys, t, local)\u001b[0m\n\u001b[1;32m    221\u001b[0m         \u001b[0mpath_snap\u001b[0m \u001b[0;34m=\u001b[0m \u001b[0mdirectory\u001b[0m \u001b[0;34m+\u001b[0m \u001b[0mdirectory_name\u001b[0m\u001b[0;34m\u001b[0m\u001b[0;34m\u001b[0m\u001b[0m\n\u001b[1;32m    222\u001b[0m         \u001b[0mpath_tile\u001b[0m \u001b[0;34m=\u001b[0m \u001b[0mpath_snap\u001b[0m \u001b[0;34m+\u001b[0m \u001b[0;34m\"/Img/TileConfiguration.txt.registered\"\u001b[0m\u001b[0;34m\u001b[0m\u001b[0;34m\u001b[0m\u001b[0m\n\u001b[0;32m--> 223\u001b[0;31m         \u001b[0mskel\u001b[0m \u001b[0;34m=\u001b[0m \u001b[0mread_mat\u001b[0m\u001b[0;34m(\u001b[0m\u001b[0mpath_snap\u001b[0m \u001b[0;34m+\u001b[0m \u001b[0;34m\"/Analysis/skeleton_realigned.mat\"\u001b[0m\u001b[0;34m)\u001b[0m\u001b[0;34m\u001b[0m\u001b[0;34m\u001b[0m\u001b[0m\n\u001b[0m\u001b[1;32m    224\u001b[0m         \u001b[0mRot\u001b[0m \u001b[0;34m=\u001b[0m \u001b[0mskel\u001b[0m\u001b[0;34m[\u001b[0m\u001b[0;34m\"R\"\u001b[0m\u001b[0;34m]\u001b[0m\u001b[0;34m\u001b[0m\u001b[0;34m\u001b[0m\u001b[0m\n\u001b[1;32m    225\u001b[0m         \u001b[0mtrans\u001b[0m \u001b[0;34m=\u001b[0m \u001b[0mskel\u001b[0m\u001b[0;34m[\u001b[0m\u001b[0;34m\"t\"\u001b[0m\u001b[0;34m]\u001b[0m\u001b[0;34m\u001b[0m\u001b[0;34m\u001b[0m\u001b[0m\n",
      "\u001b[0;32m~/anaconda3/envs/test/lib/python3.7/site-packages/pymatreader/pymatreader.py\u001b[0m in \u001b[0;36mread_mat\u001b[0;34m(filename, variable_names, ignore_fields, uint16_codec)\u001b[0m\n\u001b[1;32m     74\u001b[0m \u001b[0;34m\u001b[0m\u001b[0m\n\u001b[1;32m     75\u001b[0m     \u001b[0;32mif\u001b[0m \u001b[0;32mnot\u001b[0m \u001b[0mos\u001b[0m\u001b[0;34m.\u001b[0m\u001b[0mpath\u001b[0m\u001b[0;34m.\u001b[0m\u001b[0mexists\u001b[0m\u001b[0;34m(\u001b[0m\u001b[0mfilename\u001b[0m\u001b[0;34m)\u001b[0m\u001b[0;34m:\u001b[0m\u001b[0;34m\u001b[0m\u001b[0;34m\u001b[0m\u001b[0m\n\u001b[0;32m---> 76\u001b[0;31m         \u001b[0;32mraise\u001b[0m \u001b[0mIOError\u001b[0m\u001b[0;34m(\u001b[0m\u001b[0;34m'The file %s does not exist.'\u001b[0m \u001b[0;34m%\u001b[0m \u001b[0;34m(\u001b[0m\u001b[0mfilename\u001b[0m\u001b[0;34m,\u001b[0m\u001b[0;34m)\u001b[0m\u001b[0;34m)\u001b[0m\u001b[0;34m\u001b[0m\u001b[0;34m\u001b[0m\u001b[0m\n\u001b[0m\u001b[1;32m     77\u001b[0m \u001b[0;34m\u001b[0m\u001b[0m\n\u001b[1;32m     78\u001b[0m     \u001b[0;32mif\u001b[0m \u001b[0mignore_fields\u001b[0m \u001b[0;32mis\u001b[0m \u001b[0;32mNone\u001b[0m\u001b[0;34m:\u001b[0m\u001b[0;34m\u001b[0m\u001b[0;34m\u001b[0m\u001b[0m\n",
      "\u001b[0;31mOSError\u001b[0m: The file /scratch/shared/AMF914/Fiji.app/20201121_0421_Plate40/Analysis/skeleton_realigned.mat does not exist."
     ]
    }
   ],
   "source": [
    "hyph.end.show_source_image(t,tp1)"
   ]
  },
  {
   "cell_type": "code",
   "execution_count": 5,
   "metadata": {},
   "outputs": [],
   "source": [
    "growth_length = [np.sum([len(seg) for seg in segs]) for segs in growth]"
   ]
  },
  {
   "cell_type": "code",
   "execution_count": 8,
   "metadata": {},
   "outputs": [],
   "source": []
  },
  {
   "cell_type": "code",
   "execution_count": 9,
   "metadata": {},
   "outputs": [
    {
     "name": "stderr",
     "output_type": "stream",
     "text": [
      "/home/cbisot/anaconda3/envs/test/lib/python3.7/site-packages/matplotlib/__init__.py:880: MatplotlibDeprecationWarning: \n",
      "nbagg.transparent\n",
      "  version, key, obj_type=\"rcparam\", alternative=alt_key)\n"
     ]
    },
    {
     "data": {
      "application/vnd.jupyter.widget-view+json": {
       "model_id": "e181baf1542c4a68a26a9c8f77eff14b",
       "version_major": 2,
       "version_minor": 0
      },
      "text/plain": [
       "Canvas(toolbar=Toolbar(toolitems=[('Home', 'Reset original view', 'home', 'home'), ('Back', 'Back to previous …"
      ]
     },
     "metadata": {},
     "output_type": "display_data"
    },
    {
     "data": {
      "text/plain": [
       "(array([353., 167., 101.,  59.,  31.,  28.,  30.,  31.,  14.,  25.,  26.,\n",
       "         29.,  43.,  40.,  42.,  33.,   1.,   0.,   0.,   1.,   0.,   0.,\n",
       "          0.,   0.,   0.,   0.,   0.,   0.,   0.,   1.]),\n",
       " array([  20. ,   65.8,  111.6,  157.4,  203.2,  249. ,  294.8,  340.6,\n",
       "         386.4,  432.2,  478. ,  523.8,  569.6,  615.4,  661.2,  707. ,\n",
       "         752.8,  798.6,  844.4,  890.2,  936. ,  981.8, 1027.6, 1073.4,\n",
       "        1119.2, 1165. , 1210.8, 1256.6, 1302.4, 1348.2, 1394. ]),\n",
       " <a list of 30 Patch objects>)"
      ]
     },
     "execution_count": 9,
     "metadata": {},
     "output_type": "execute_result"
    }
   ],
   "source": []
  },
  {
   "cell_type": "code",
   "execution_count": 15,
   "metadata": {},
   "outputs": [
    {
     "data": {
      "text/plain": [
       "0.021061224646895957"
      ]
     },
     "execution_count": 15,
     "metadata": {},
     "output_type": "execute_result"
    }
   ],
   "source": [
    "np.mean(branch_frequ)"
   ]
  },
  {
   "cell_type": "code",
   "execution_count": 5,
   "metadata": {},
   "outputs": [
    {
     "name": "stderr",
     "output_type": "stream",
     "text": [
      "/home/cbisot/anaconda3/envs/test/lib/python3.7/site-packages/matplotlib/__init__.py:880: MatplotlibDeprecationWarning: \n",
      "nbagg.transparent\n",
      "  version, key, obj_type=\"rcparam\", alternative=alt_key)\n"
     ]
    },
    {
     "data": {
      "application/vnd.jupyter.widget-view+json": {
       "model_id": "56508f78599041329fa9b7ecf1bbcfdd",
       "version_major": 2,
       "version_minor": 0
      },
      "text/plain": [
       "Canvas(toolbar=Toolbar(toolitems=[('Home', 'Reset original view', 'home', 'home'), ('Back', 'Back to previous …"
      ]
     },
     "metadata": {},
     "output_type": "display_data"
    }
   ],
   "source": [
    "plt.close('all')\n",
    "expt= exp40\n",
    "t = 0\n",
    "nodes = np.random.choice(expt.nx_graph[t].nodes, 100)\n",
    "# exp.plot([8,13,14],[[794]]*3)\n",
    "expt.plot([t,t+1,t+2],[nodes]*3)"
   ]
  },
  {
   "cell_type": "code",
   "execution_count": 11,
   "metadata": {},
   "outputs": [
    {
     "name": "stdout",
     "output_type": "stream",
     "text": [
      "(14, 0, 11)\n",
      "begin = 2020-09-22 13:17:00 \n",
      "  end = 2020-09-24 09:18:00\n"
     ]
    }
   ],
   "source": [
    "import os  \n",
    "import sys  \n",
    "sys.path.insert(0, os.getenv('HOME')+'/pycode/MscThesis/')\n",
    "sys.path.append( '/home/cbisot/pycode/MscThesis/amftrack/pipeline/functions')\n",
    "from amftrack.notebooks.analysis.util import *\n",
    "from amftrack.pipeline.paths.directory import path_code, directory_scratch, directory_project\n",
    "from amftrack.notebooks.analysis.data_info import *\n",
    "path = directory_project\n",
    "for treatment in ['baits']:\n",
    "    insts = treatments[treatment]\n",
    "    for inst in insts[1:]:\n",
    "        print(inst)\n",
    "        exp = get_exp(inst, path)\n",
    "        break"
   ]
  },
  {
   "cell_type": "code",
   "execution_count": 18,
   "metadata": {},
   "outputs": [],
   "source": [
    "hyph = choice(exp.hyphaes)"
   ]
  },
  {
   "cell_type": "code",
   "execution_count": 19,
   "metadata": {},
   "outputs": [
    {
     "ename": "KeyError",
     "evalue": "'width'",
     "output_type": "error",
     "traceback": [
      "\u001b[0;31m---------------------------------------------------------------------------\u001b[0m",
      "\u001b[0;31mKeyError\u001b[0m                                  Traceback (most recent call last)",
      "\u001b[0;32m<ipython-input-19-55203fe3e629>\u001b[0m in \u001b[0;36m<module>\u001b[0;34m\u001b[0m\n\u001b[0;32m----> 1\u001b[0;31m \u001b[0mhyph\u001b[0m\u001b[0;34m.\u001b[0m\u001b[0mget_nodes_within\u001b[0m\u001b[0;34m(\u001b[0m\u001b[0mhyph\u001b[0m\u001b[0;34m.\u001b[0m\u001b[0mts\u001b[0m\u001b[0;34m[\u001b[0m\u001b[0;34m-\u001b[0m\u001b[0;36m1\u001b[0m\u001b[0;34m]\u001b[0m\u001b[0;34m)\u001b[0m\u001b[0;34m[\u001b[0m\u001b[0;36m1\u001b[0m\u001b[0;34m]\u001b[0m\u001b[0;34m[\u001b[0m\u001b[0;36m0\u001b[0m\u001b[0;34m]\u001b[0m\u001b[0;34m.\u001b[0m\u001b[0mwidth\u001b[0m\u001b[0;34m(\u001b[0m\u001b[0;34m-\u001b[0m\u001b[0;36m1\u001b[0m\u001b[0;34m)\u001b[0m\u001b[0;34m\u001b[0m\u001b[0;34m\u001b[0m\u001b[0m\n\u001b[0m",
      "\u001b[0;32m~/pycode/MscThesis/amftrack/pipeline/functions/experiment_class_surf.py\u001b[0m in \u001b[0;36mwidth\u001b[0;34m(self, t)\u001b[0m\n\u001b[1;32m    426\u001b[0m     \u001b[0;32mdef\u001b[0m \u001b[0mwidth\u001b[0m\u001b[0;34m(\u001b[0m\u001b[0mself\u001b[0m\u001b[0;34m,\u001b[0m \u001b[0mt\u001b[0m\u001b[0;34m)\u001b[0m\u001b[0;34m:\u001b[0m\u001b[0;34m\u001b[0m\u001b[0;34m\u001b[0m\u001b[0m\n\u001b[1;32m    427\u001b[0m         return (self.experiment.nx_graph[t].get_edge_data(self.begin.label, self.end.label)[\n\u001b[0;32m--> 428\u001b[0;31m                 \u001b[0;34m\"width\"\u001b[0m\u001b[0;34m\u001b[0m\u001b[0;34m\u001b[0m\u001b[0m\n\u001b[0m\u001b[1;32m    429\u001b[0m             ])\n\u001b[1;32m    430\u001b[0m \u001b[0;34m\u001b[0m\u001b[0m\n",
      "\u001b[0;31mKeyError\u001b[0m: 'width'"
     ]
    }
   ],
   "source": [
    "hyph.get_nodes_within(hyph.ts[-1])[1][0].width(-1)"
   ]
  }
 ],
 "metadata": {
  "kernelspec": {
   "display_name": "Python 3",
   "language": "python",
   "name": "python3"
  },
  "language_info": {
   "codemirror_mode": {
    "name": "ipython",
    "version": 3
   },
   "file_extension": ".py",
   "mimetype": "text/x-python",
   "name": "python",
   "nbconvert_exporter": "python",
   "pygments_lexer": "ipython3",
   "version": "3.7.7"
  }
 },
 "nbformat": 4,
 "nbformat_minor": 4
}

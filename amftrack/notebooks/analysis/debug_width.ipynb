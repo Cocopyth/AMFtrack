{
 "cells": [
  {
   "cell_type": "code",
   "execution_count": 1,
   "metadata": {},
   "outputs": [],
   "source": [
    "%matplotlib widget\n",
    "\n",
    "import os\n",
    "import sys\n",
    "\n",
    "sys.path.insert(0, os.getenv(\"HOME\") + \"/pycode/MscThesis/\")\n",
    "import pandas as pd\n",
    "from amftrack.util.sys import (\n",
    "    get_dates_datetime,\n",
    "    get_dirname,\n",
    "    temp_path,\n",
    "    get_plate_number,\n",
    "    get_postion_number,\n",
    ")\n",
    "\n",
    "import ast\n",
    "from amftrack.plotutil import plot_t_tp1\n",
    "from scipy import sparse\n",
    "from datetime import datetime\n",
    "from amftrack.pipeline.functions.node_id import orient\n",
    "import pickle\n",
    "import scipy.io as sio\n",
    "from pymatreader import read_mat\n",
    "from matplotlib import colors\n",
    "import cv2\n",
    "import imageio\n",
    "import matplotlib.pyplot as plt\n",
    "import numpy as np\n",
    "from skimage.filters import frangi\n",
    "from skimage import filters\n",
    "from random import choice\n",
    "import scipy.sparse\n",
    "import os\n",
    "from amftrack.pipeline.functions.extract_graph import (\n",
    "    from_sparse_to_graph,\n",
    "    generate_nx_graph,\n",
    "    sparse_to_doc,\n",
    ")\n",
    "from skimage.feature import hessian_matrix_det\n",
    "from amftrack.pipeline.functions.experiment_class_surf import Experiment, Edge, Node\n",
    "from amftrack.pipeline.paths.directory import (\n",
    "    run_parallel,\n",
    "    find_state,\n",
    "    directory_scratch,\n",
    "    directory_project,\n",
    ")\n",
    "from amftrack.notebooks.analysis.util import *\n",
    "from scipy import stats\n",
    "from scipy.ndimage.filters import uniform_filter1d\n",
    "from statsmodels.stats import weightstats as stests"
   ]
  },
  {
   "cell_type": "code",
   "execution_count": 2,
   "metadata": {},
   "outputs": [
    {
     "name": "stdout",
     "output_type": "stream",
     "text": [
      "begin = 2020-11-19 20:21:00 \n",
      "  end = 2020-11-25 18:06:00\n"
     ]
    }
   ],
   "source": [
    "directory = \"/projects/0/einf914/data/\"\n",
    "exp = get_exp((40, 153, 153 + 37), directory)"
   ]
  },
  {
   "cell_type": "code",
   "execution_count": 47,
   "metadata": {},
   "outputs": [],
   "source": [
    "exp.load_compressed_skel()"
   ]
  },
  {
   "cell_type": "code",
   "execution_count": 48,
   "metadata": {},
   "outputs": [
    {
     "data": {
      "application/vnd.jupyter.widget-view+json": {
       "model_id": "7b0576a5b48d402d9a0fe99ccb20026f",
       "version_major": 2,
       "version_minor": 0
      },
      "text/plain": [
       "Canvas(toolbar=Toolbar(toolitems=[('Home', 'Reset original view', 'home', 'home'), ('Back', 'Back to previous …"
      ]
     },
     "metadata": {},
     "output_type": "display_data"
    }
   ],
   "source": [
    "plt.close(\"all\")\n",
    "exp.plot([0], [[node.label for node in exp.nodes if node.degree(0) >= 3]])"
   ]
  },
  {
   "cell_type": "code",
   "execution_count": 49,
   "metadata": {},
   "outputs": [
    {
     "data": {
      "text/plain": [
       "29.13572518957827"
      ]
     },
     "execution_count": 49,
     "metadata": {},
     "output_type": "execute_result"
    }
   ],
   "source": [
    "graph = exp.nx_graph[0]\n",
    "graph.get_edge_data(3593, 3544)[\"width\"]"
   ]
  },
  {
   "cell_type": "code",
   "execution_count": 16,
   "metadata": {},
   "outputs": [
    {
     "data": {
      "text/plain": [
       "[Node(3229), Node(3620), Node(3544)]"
      ]
     },
     "execution_count": 16,
     "metadata": {},
     "output_type": "execute_result"
    }
   ],
   "source": [
    "Node(3593, exp).neighbours(0)"
   ]
  },
  {
   "cell_type": "code",
   "execution_count": 28,
   "metadata": {},
   "outputs": [],
   "source": [
    "def get_width_pixel(\n",
    "    edge,\n",
    "    index,\n",
    "    im,\n",
    "    pivot,\n",
    "    before,\n",
    "    after,\n",
    "    t,\n",
    "    size=20,\n",
    "    width_factor=60,\n",
    "    averaging_size=100,\n",
    "    threshold_averaging=10,\n",
    "):\n",
    "    imtab = im\n",
    "    #     print(imtab.shape)\n",
    "    #     print(int(max(0,pivot[0]-averaging_size)),int(pivot[0]+averaging_size))\n",
    "    threshold = np.mean(\n",
    "        imtab[\n",
    "            int(max(0, pivot[0] - averaging_size)) : int(pivot[0] + averaging_size),\n",
    "            int(max(0, pivot[1] - averaging_size)) : int(pivot[1] + averaging_size),\n",
    "        ]\n",
    "        - threshold_averaging\n",
    "    )\n",
    "    orientation = np.array(before) - np.array(after)\n",
    "    perpendicular = (\n",
    "        [1, -orientation[0] / orientation[1]] if orientation[1] != 0 else [0, 1]\n",
    "    )\n",
    "    perpendicular_norm = np.array(perpendicular) / np.sqrt(\n",
    "        perpendicular[0] ** 2 + perpendicular[1] ** 2\n",
    "    )\n",
    "    point1 = np.around(np.array(pivot) + width_factor * perpendicular_norm)\n",
    "    point2 = np.around(np.array(pivot) - width_factor * perpendicular_norm)\n",
    "    point1 = point1.astype(int)\n",
    "    point2 = point2.astype(int)\n",
    "    p = profile_line(imtab, point1, point2, mode=\"constant\")\n",
    "    fig = plt.figure()\n",
    "    ax = fig.add_subplot(111)\n",
    "    ax.plot(p)\n",
    "    derivative = [p[i + 1] - p[i] for i in range(len(p) - 1)]\n",
    "    fig = plt.figure()\n",
    "    ax = fig.add_subplot(111)\n",
    "    ax.plot(\n",
    "        [np.mean(derivative[5 * i : 5 * i + 5]) for i in range(len(derivative) // 5)]\n",
    "    )\n",
    "    problem = False\n",
    "    arg = len(p) // 2\n",
    "    if p[arg] > threshold:\n",
    "        arg = np.argmin(p)\n",
    "    #     we_plot=randrange(1000)\n",
    "    while p[arg] <= threshold:\n",
    "        if arg <= 0:\n",
    "            #             we_plot=50\n",
    "            problem = True\n",
    "            break\n",
    "        arg -= 1\n",
    "    begin = arg\n",
    "    arg = len(p) // 2\n",
    "    if p[arg] > threshold:\n",
    "        arg = np.argmin(p)\n",
    "    while p[arg] <= threshold:\n",
    "        if arg >= len(p) - 1:\n",
    "            #             we_plot=50\n",
    "            problem = True\n",
    "            break\n",
    "        arg += 1\n",
    "    end = arg\n",
    "    #     print(end-begin,threshold)\n",
    "    return np.linalg.norm(point1 - point2) * (end - begin) / len(p)\n",
    "\n",
    "\n",
    "def get_width_edge(edge, resolution, t, local=False, threshold_averaging=10):\n",
    "    pixel_conversion_factor = 1.725\n",
    "    pixel_list = edge.pixel_list(t)\n",
    "    pixels = []\n",
    "    indexes = []\n",
    "    source_images = []\n",
    "    poss = []\n",
    "    widths = {}\n",
    "    if len(pixel_list) > 3 * resolution:\n",
    "        for i in range(0, len(pixel_list) // resolution):\n",
    "            index = i * resolution\n",
    "            indexes.append(index)\n",
    "            pixel = pixel_list[index]\n",
    "            pixels.append(pixel)\n",
    "            source_img, pos = get_source_image(edge.experiment, pixel, t, local)\n",
    "            source_images.append(source_img)\n",
    "            poss.append(pos)\n",
    "    else:\n",
    "        indexes = [0, len(pixel_list) // 2, len(pixel_list) - 1]\n",
    "        for index in indexes:\n",
    "            pixel = pixel_list[index]\n",
    "            pixels.append(pixel)\n",
    "            source_img, pos = get_source_image(edge.experiment, pixel, t, local)\n",
    "            source_images.append(source_img)\n",
    "            poss.append(pos)\n",
    "    #     print(indexes)\n",
    "    for i, index in enumerate(indexes[1:-1]):\n",
    "        source_img = source_images[i + 1]\n",
    "        pivot = poss[i + 1]\n",
    "        _, before = get_source_image(edge.experiment, pixels[i], t, local, pivot)\n",
    "        _, after = get_source_image(edge.experiment, pixels[i + 2], t, local, pivot)\n",
    "        #         plot_t_tp1([0,1,2],[],{0 : pivot,1 : before, 2 : after},None,source_img,source_img)\n",
    "        width = get_width_pixel(\n",
    "            edge,\n",
    "            index,\n",
    "            source_img,\n",
    "            pivot,\n",
    "            before,\n",
    "            after,\n",
    "            t,\n",
    "            threshold_averaging=threshold_averaging,\n",
    "        )\n",
    "        #         print(width*pixel_conversion_factor)\n",
    "        widths[pixel_list[index]] = width * pixel_conversion_factor\n",
    "    edge.experiment.nx_graph[t].get_edge_data(edge.begin.label, edge.end.label)[\n",
    "        \"width\"\n",
    "    ] = widths\n",
    "    return widths"
   ]
  },
  {
   "cell_type": "code",
   "execution_count": 29,
   "metadata": {
    "collapsed": true,
    "jupyter": {
     "outputs_hidden": true
    }
   },
   "outputs": [
    {
     "data": {
      "application/vnd.jupyter.widget-view+json": {
       "model_id": "3339b8568840446f8f2575dadd1c48d2",
       "version_major": 2,
       "version_minor": 0
      },
      "text/plain": [
       "Canvas(toolbar=Toolbar(toolitems=[('Home', 'Reset original view', 'home', 'home'), ('Back', 'Back to previous …"
      ]
     },
     "metadata": {},
     "output_type": "display_data"
    },
    {
     "data": {
      "application/vnd.jupyter.widget-view+json": {
       "model_id": "e57b72cc46be4dc2bfbfacb875000f28",
       "version_major": 2,
       "version_minor": 0
      },
      "text/plain": [
       "Canvas(toolbar=Toolbar(toolitems=[('Home', 'Reset original view', 'home', 'home'), ('Back', 'Back to previous …"
      ]
     },
     "metadata": {},
     "output_type": "display_data"
    },
    {
     "name": "stderr",
     "output_type": "stream",
     "text": [
      "/home/cbisot/anaconda3/envs/test/lib/python3.7/site-packages/matplotlib/pyplot.py:514: RuntimeWarning: More than 20 figures have been opened. Figures created through the pyplot interface (`matplotlib.pyplot.figure`) are retained until explicitly closed and may consume too much memory. (To control this warning, see the rcParam `figure.max_open_warning`).\n",
      "  max_open_warning, RuntimeWarning)\n"
     ]
    },
    {
     "data": {
      "application/vnd.jupyter.widget-view+json": {
       "model_id": "3acf196c6bfa4367ab8ebb177fc81b13",
       "version_major": 2,
       "version_minor": 0
      },
      "text/plain": [
       "Canvas(toolbar=Toolbar(toolitems=[('Home', 'Reset original view', 'home', 'home'), ('Back', 'Back to previous …"
      ]
     },
     "metadata": {},
     "output_type": "display_data"
    },
    {
     "data": {
      "application/vnd.jupyter.widget-view+json": {
       "model_id": "43503175ba1148a28fbf4b66008f188b",
       "version_major": 2,
       "version_minor": 0
      },
      "text/plain": [
       "Canvas(toolbar=Toolbar(toolitems=[('Home', 'Reset original view', 'home', 'home'), ('Back', 'Back to previous …"
      ]
     },
     "metadata": {},
     "output_type": "display_data"
    },
    {
     "data": {
      "application/vnd.jupyter.widget-view+json": {
       "model_id": "b2a6179cfdfe4d6aabde2ea0d0d6a635",
       "version_major": 2,
       "version_minor": 0
      },
      "text/plain": [
       "Canvas(toolbar=Toolbar(toolitems=[('Home', 'Reset original view', 'home', 'home'), ('Back', 'Back to previous …"
      ]
     },
     "metadata": {},
     "output_type": "display_data"
    },
    {
     "data": {
      "application/vnd.jupyter.widget-view+json": {
       "model_id": "6cf0cf43458a4f26a4b62a8ed22fc72d",
       "version_major": 2,
       "version_minor": 0
      },
      "text/plain": [
       "Canvas(toolbar=Toolbar(toolitems=[('Home', 'Reset original view', 'home', 'home'), ('Back', 'Back to previous …"
      ]
     },
     "metadata": {},
     "output_type": "display_data"
    },
    {
     "data": {
      "application/vnd.jupyter.widget-view+json": {
       "model_id": "f6652260d24c40ba9877bbd7d16e4f91",
       "version_major": 2,
       "version_minor": 0
      },
      "text/plain": [
       "Canvas(toolbar=Toolbar(toolitems=[('Home', 'Reset original view', 'home', 'home'), ('Back', 'Back to previous …"
      ]
     },
     "metadata": {},
     "output_type": "display_data"
    },
    {
     "data": {
      "application/vnd.jupyter.widget-view+json": {
       "model_id": "5343b5aa68ba4097915081fe8987dc13",
       "version_major": 2,
       "version_minor": 0
      },
      "text/plain": [
       "Canvas(toolbar=Toolbar(toolitems=[('Home', 'Reset original view', 'home', 'home'), ('Back', 'Back to previous …"
      ]
     },
     "metadata": {},
     "output_type": "display_data"
    },
    {
     "data": {
      "application/vnd.jupyter.widget-view+json": {
       "model_id": "1bc941fce3034b738030d608a950f397",
       "version_major": 2,
       "version_minor": 0
      },
      "text/plain": [
       "Canvas(toolbar=Toolbar(toolitems=[('Home', 'Reset original view', 'home', 'home'), ('Back', 'Back to previous …"
      ]
     },
     "metadata": {},
     "output_type": "display_data"
    },
    {
     "data": {
      "application/vnd.jupyter.widget-view+json": {
       "model_id": "95159466857142dd85eef1b333b38b27",
       "version_major": 2,
       "version_minor": 0
      },
      "text/plain": [
       "Canvas(toolbar=Toolbar(toolitems=[('Home', 'Reset original view', 'home', 'home'), ('Back', 'Back to previous …"
      ]
     },
     "metadata": {},
     "output_type": "display_data"
    },
    {
     "data": {
      "application/vnd.jupyter.widget-view+json": {
       "model_id": "88db0537f60142a080eb3979ddaf50a7",
       "version_major": 2,
       "version_minor": 0
      },
      "text/plain": [
       "Canvas(toolbar=Toolbar(toolitems=[('Home', 'Reset original view', 'home', 'home'), ('Back', 'Back to previous …"
      ]
     },
     "metadata": {},
     "output_type": "display_data"
    },
    {
     "data": {
      "application/vnd.jupyter.widget-view+json": {
       "model_id": "28d7788a6ecc415e8387018c76884b17",
       "version_major": 2,
       "version_minor": 0
      },
      "text/plain": [
       "Canvas(toolbar=Toolbar(toolitems=[('Home', 'Reset original view', 'home', 'home'), ('Back', 'Back to previous …"
      ]
     },
     "metadata": {},
     "output_type": "display_data"
    },
    {
     "data": {
      "application/vnd.jupyter.widget-view+json": {
       "model_id": "f7faa82531b9454394477249a0a72785",
       "version_major": 2,
       "version_minor": 0
      },
      "text/plain": [
       "Canvas(toolbar=Toolbar(toolitems=[('Home', 'Reset original view', 'home', 'home'), ('Back', 'Back to previous …"
      ]
     },
     "metadata": {},
     "output_type": "display_data"
    },
    {
     "data": {
      "application/vnd.jupyter.widget-view+json": {
       "model_id": "303eb76d3fda46718de3644c3296a769",
       "version_major": 2,
       "version_minor": 0
      },
      "text/plain": [
       "Canvas(toolbar=Toolbar(toolitems=[('Home', 'Reset original view', 'home', 'home'), ('Back', 'Back to previous …"
      ]
     },
     "metadata": {},
     "output_type": "display_data"
    },
    {
     "data": {
      "application/vnd.jupyter.widget-view+json": {
       "model_id": "f37b89ef43b745e883a8966fb274477d",
       "version_major": 2,
       "version_minor": 0
      },
      "text/plain": [
       "Canvas(toolbar=Toolbar(toolitems=[('Home', 'Reset original view', 'home', 'home'), ('Back', 'Back to previous …"
      ]
     },
     "metadata": {},
     "output_type": "display_data"
    },
    {
     "data": {
      "application/vnd.jupyter.widget-view+json": {
       "model_id": "c5acdc1173f84440bdc37b78af8dce4e",
       "version_major": 2,
       "version_minor": 0
      },
      "text/plain": [
       "Canvas(toolbar=Toolbar(toolitems=[('Home', 'Reset original view', 'home', 'home'), ('Back', 'Back to previous …"
      ]
     },
     "metadata": {},
     "output_type": "display_data"
    },
    {
     "data": {
      "application/vnd.jupyter.widget-view+json": {
       "model_id": "ba1c30bfc0ca4cb8a87b7d2db2b0efbc",
       "version_major": 2,
       "version_minor": 0
      },
      "text/plain": [
       "Canvas(toolbar=Toolbar(toolitems=[('Home', 'Reset original view', 'home', 'home'), ('Back', 'Back to previous …"
      ]
     },
     "metadata": {},
     "output_type": "display_data"
    },
    {
     "data": {
      "application/vnd.jupyter.widget-view+json": {
       "model_id": "618857ec8e8246b0822b5ca6809cd25d",
       "version_major": 2,
       "version_minor": 0
      },
      "text/plain": [
       "Canvas(toolbar=Toolbar(toolitems=[('Home', 'Reset original view', 'home', 'home'), ('Back', 'Back to previous …"
      ]
     },
     "metadata": {},
     "output_type": "display_data"
    },
    {
     "data": {
      "application/vnd.jupyter.widget-view+json": {
       "model_id": "c3c822023ad34085bc0b55d6272c7d66",
       "version_major": 2,
       "version_minor": 0
      },
      "text/plain": [
       "Canvas(toolbar=Toolbar(toolitems=[('Home', 'Reset original view', 'home', 'home'), ('Back', 'Back to previous …"
      ]
     },
     "metadata": {},
     "output_type": "display_data"
    },
    {
     "data": {
      "application/vnd.jupyter.widget-view+json": {
       "model_id": "ecf6a5816c5b48859f1152c78966cd98",
       "version_major": 2,
       "version_minor": 0
      },
      "text/plain": [
       "Canvas(toolbar=Toolbar(toolitems=[('Home', 'Reset original view', 'home', 'home'), ('Back', 'Back to previous …"
      ]
     },
     "metadata": {},
     "output_type": "display_data"
    },
    {
     "data": {
      "application/vnd.jupyter.widget-view+json": {
       "model_id": "97b295d7e0604225b8d13556eddf34b5",
       "version_major": 2,
       "version_minor": 0
      },
      "text/plain": [
       "Canvas(toolbar=Toolbar(toolitems=[('Home', 'Reset original view', 'home', 'home'), ('Back', 'Back to previous …"
      ]
     },
     "metadata": {},
     "output_type": "display_data"
    },
    {
     "data": {
      "application/vnd.jupyter.widget-view+json": {
       "model_id": "ff38e0979b79490facaa575ab14a4844",
       "version_major": 2,
       "version_minor": 0
      },
      "text/plain": [
       "Canvas(toolbar=Toolbar(toolitems=[('Home', 'Reset original view', 'home', 'home'), ('Back', 'Back to previous …"
      ]
     },
     "metadata": {},
     "output_type": "display_data"
    },
    {
     "data": {
      "application/vnd.jupyter.widget-view+json": {
       "model_id": "9205f938c12246689d2eb149f32af97e",
       "version_major": 2,
       "version_minor": 0
      },
      "text/plain": [
       "Canvas(toolbar=Toolbar(toolitems=[('Home', 'Reset original view', 'home', 'home'), ('Back', 'Back to previous …"
      ]
     },
     "metadata": {},
     "output_type": "display_data"
    },
    {
     "data": {
      "application/vnd.jupyter.widget-view+json": {
       "model_id": "7639ad4c6b404d90ae46be8e54a4bc78",
       "version_major": 2,
       "version_minor": 0
      },
      "text/plain": [
       "Canvas(toolbar=Toolbar(toolitems=[('Home', 'Reset original view', 'home', 'home'), ('Back', 'Back to previous …"
      ]
     },
     "metadata": {},
     "output_type": "display_data"
    },
    {
     "data": {
      "application/vnd.jupyter.widget-view+json": {
       "model_id": "b08e79f706db4ddfbbdfd20dd96fa7ec",
       "version_major": 2,
       "version_minor": 0
      },
      "text/plain": [
       "Canvas(toolbar=Toolbar(toolitems=[('Home', 'Reset original view', 'home', 'home'), ('Back', 'Back to previous …"
      ]
     },
     "metadata": {},
     "output_type": "display_data"
    },
    {
     "data": {
      "application/vnd.jupyter.widget-view+json": {
       "model_id": "79dc86fd5ae74d6bbd4c21b2c1f4faf2",
       "version_major": 2,
       "version_minor": 0
      },
      "text/plain": [
       "Canvas(toolbar=Toolbar(toolitems=[('Home', 'Reset original view', 'home', 'home'), ('Back', 'Back to previous …"
      ]
     },
     "metadata": {},
     "output_type": "display_data"
    },
    {
     "data": {
      "application/vnd.jupyter.widget-view+json": {
       "model_id": "a9c06ae5bc3f4a40b4934dd456662834",
       "version_major": 2,
       "version_minor": 0
      },
      "text/plain": [
       "Canvas(toolbar=Toolbar(toolitems=[('Home', 'Reset original view', 'home', 'home'), ('Back', 'Back to previous …"
      ]
     },
     "metadata": {},
     "output_type": "display_data"
    },
    {
     "data": {
      "application/vnd.jupyter.widget-view+json": {
       "model_id": "dd38afe6579a44dba9130ac80fe4326d",
       "version_major": 2,
       "version_minor": 0
      },
      "text/plain": [
       "Canvas(toolbar=Toolbar(toolitems=[('Home', 'Reset original view', 'home', 'home'), ('Back', 'Back to previous …"
      ]
     },
     "metadata": {},
     "output_type": "display_data"
    },
    {
     "data": {
      "application/vnd.jupyter.widget-view+json": {
       "model_id": "f6652b1b99674a4390eec3cae337b922",
       "version_major": 2,
       "version_minor": 0
      },
      "text/plain": [
       "Canvas(toolbar=Toolbar(toolitems=[('Home', 'Reset original view', 'home', 'home'), ('Back', 'Back to previous …"
      ]
     },
     "metadata": {},
     "output_type": "display_data"
    },
    {
     "data": {
      "application/vnd.jupyter.widget-view+json": {
       "model_id": "f43c63f0442b459b8998a8b4014e5018",
       "version_major": 2,
       "version_minor": 0
      },
      "text/plain": [
       "Canvas(toolbar=Toolbar(toolitems=[('Home', 'Reset original view', 'home', 'home'), ('Back', 'Back to previous …"
      ]
     },
     "metadata": {},
     "output_type": "display_data"
    },
    {
     "data": {
      "text/plain": [
       "{(18237, 25209): 42.70320414263475,\n",
       " (18189, 25198): 44.226431389369324,\n",
       " (18140, 25186): 42.70320414263475,\n",
       " (18094, 25174): 40.84201533366425,\n",
       " (18047, 25160): 40.824398205571676,\n",
       " (18000, 25152): 44.361807528721755,\n",
       " (17950, 25144): 42.655584162232465,\n",
       " (17902, 25135): 40.862460291967295,\n",
       " (17853, 25125): 40.864939360072434,\n",
       " (17805, 25115): 40.94936079574316,\n",
       " (17757, 25108): 42.655584162232465,\n",
       " (17711, 25099): 42.429813937726735,\n",
       " (17662, 25090): 40.824398205571676,\n",
       " (17615, 25076): 39.32114070861803,\n",
       " (17567, 25062): 37.42236502177404}"
      ]
     },
     "execution_count": 29,
     "metadata": {},
     "output_type": "execute_result"
    }
   ],
   "source": [
    "get_width_edge(Edge(Node(3593, exp), Node(3229, exp), exp), 50, 0)"
   ]
  },
  {
   "cell_type": "code",
   "execution_count": 18,
   "metadata": {},
   "outputs": [
    {
     "data": {
      "application/vnd.jupyter.widget-view+json": {
       "model_id": "4e3590e131154d1985191dd2e08b176f",
       "version_major": 2,
       "version_minor": 0
      },
      "text/plain": [
       "Canvas(toolbar=Toolbar(toolitems=[('Home', 'Reset original view', 'home', 'home'), ('Back', 'Back to previous …"
      ]
     },
     "metadata": {},
     "output_type": "display_data"
    }
   ],
   "source": [
    "# plt.close('all')\n",
    "Node(3229, exp).show_source_image(0, 0)"
   ]
  },
  {
   "cell_type": "code",
   "execution_count": 4,
   "metadata": {},
   "outputs": [],
   "source": [
    "def get_width_hypha(hypha, t):\n",
    "    nodes, edges = hypha.get_nodes_within(t)\n",
    "    widths = [edge.width(t) for edge in edges]\n",
    "    lengths = [len(edge.pixel_list(t)) for edge in edges]\n",
    "    weighted = [widths[i] * lengths[i] for i in range(len(widths))]\n",
    "    return np.sum(weighted) / np.sum(lengths)\n",
    "\n",
    "\n",
    "def get_rh_bas(exp, criter):\n",
    "    select_hyph = get_hyph_infos(exp)\n",
    "    max_speeds = []\n",
    "    total_growths = []\n",
    "    lengths = []\n",
    "    branch_frequ = []\n",
    "    hyph_l = []\n",
    "    RH = []\n",
    "    BAS = []\n",
    "    widths = []\n",
    "    for hyph in exp.hyphaes:\n",
    "        speeds = [c[2] for c in select_hyph[hyph]]\n",
    "        ts = [c[0] for c in select_hyph[hyph]]\n",
    "        tp1s = [c[1] for c in select_hyph[hyph]]\n",
    "        if len(speeds) > 0:\n",
    "            length = hyph.get_length_um(hyph.ts[-1])\n",
    "            nodes = hyph.get_nodes_within(hyph.ts[-1])[0]\n",
    "            max_speed = np.max(speeds)\n",
    "            total_growth = np.sum(\n",
    "                [\n",
    "                    speed * get_time(exp, ts[i], tp1s[i])\n",
    "                    for i, speed in enumerate(speeds)\n",
    "                ]\n",
    "            )\n",
    "            if criter(max_speed, length):\n",
    "                RH.append(hyph)\n",
    "            else:\n",
    "                BAS.append(hyph)\n",
    "            lengths.append(length)\n",
    "            max_speeds.append(max_speed)\n",
    "            total_growths.append(total_growth)\n",
    "            branch_frequ.append((len(nodes) - 1) / (length + 1))\n",
    "            hyph_l.append(hyph)\n",
    "            widths.append(get_width_hypha(hyph, hyph.ts[-1]))\n",
    "        else:\n",
    "            BAS.append(hyph)\n",
    "    return (\n",
    "        RH,\n",
    "        BAS,\n",
    "        max_speeds,\n",
    "        total_growths,\n",
    "        widths,\n",
    "        lengths,\n",
    "        branch_frequ,\n",
    "        select_hyph,\n",
    "    )"
   ]
  },
  {
   "cell_type": "code",
   "execution_count": 36,
   "metadata": {},
   "outputs": [
    {
     "name": "stderr",
     "output_type": "stream",
     "text": [
      "/home/cbisot/anaconda3/envs/test/lib/python3.7/site-packages/ipykernel_launcher.py:79: RuntimeWarning: invalid value encountered in double_scalars\n"
     ]
    }
   ],
   "source": [
    "widths = [\n",
    "    (hyph, get_width_hypha(hyph, hyph.ts[-1]))\n",
    "    for hyph in exp.hyphaes\n",
    "    if len(hyph.ts) > 0\n",
    "]"
   ]
  },
  {
   "cell_type": "code",
   "execution_count": 37,
   "metadata": {},
   "outputs": [],
   "source": [
    "# width_real =[c for c in widths if c[1]<160]\n",
    "width_real = widths\n",
    "\n",
    "widths_fin = [c[1] for c in width_real]\n",
    "lengths = [c[0].get_length_um(c[0].ts[-1]) for c in width_real]"
   ]
  },
  {
   "cell_type": "code",
   "execution_count": 38,
   "metadata": {},
   "outputs": [
    {
     "data": {
      "application/vnd.jupyter.widget-view+json": {
       "model_id": "d6ee652a707846aaaab9d336f8d09aed",
       "version_major": 2,
       "version_minor": 0
      },
      "text/plain": [
       "Canvas(toolbar=Toolbar(toolitems=[('Home', 'Reset original view', 'home', 'home'), ('Back', 'Back to previous …"
      ]
     },
     "metadata": {},
     "output_type": "display_data"
    },
    {
     "data": {
      "text/plain": [
       "Text(0, 0.5, 'length ($\\\\mu m $)')"
      ]
     },
     "execution_count": 38,
     "metadata": {},
     "output_type": "execute_result"
    }
   ],
   "source": [
    "fig = plt.figure()\n",
    "ax = fig.add_subplot(111)\n",
    "ax.scatter(widths_fin, lengths)\n",
    "ax.set_xlabel(r\"width ($\\mu m $)\")\n",
    "ax.set_ylabel(r\"length ($\\mu m $)\")"
   ]
  },
  {
   "cell_type": "code",
   "execution_count": 8,
   "metadata": {},
   "outputs": [
    {
     "name": "stdout",
     "output_type": "stream",
     "text": [
      "begin = 2020-11-19 20:21:00 \n",
      "  end = 2020-11-25 18:06:00\n"
     ]
    },
    {
     "name": "stderr",
     "output_type": "stream",
     "text": [
      "/home/cbisot/anaconda3/envs/test/lib/python3.7/site-packages/ipykernel_launcher.py:79: RuntimeWarning: invalid value encountered in double_scalars\n"
     ]
    }
   ],
   "source": [
    "(\n",
    "    RH,\n",
    "    BAS,\n",
    "    max_speeds,\n",
    "    total_growths,\n",
    "    widths_sp,\n",
    "    lengths,\n",
    "    branch_frequ,\n",
    "    select_hyph,\n",
    ") = get_rh_bas(get_exp((40, 153, 153 + 37), directory), criter)"
   ]
  },
  {
   "cell_type": "code",
   "execution_count": 11,
   "metadata": {},
   "outputs": [
    {
     "data": {
      "application/vnd.jupyter.widget-view+json": {
       "model_id": "ba05cb59e5af4c17bf9c4bec928111c7",
       "version_major": 2,
       "version_minor": 0
      },
      "text/plain": [
       "Canvas(toolbar=Toolbar(toolitems=[('Home', 'Reset original view', 'home', 'home'), ('Back', 'Back to previous …"
      ]
     },
     "metadata": {},
     "output_type": "display_data"
    },
    {
     "data": {
      "text/plain": [
       "Text(0, 0.5, 'max speed ($\\\\mu m.s^{-1}$)')"
      ]
     },
     "execution_count": 11,
     "metadata": {},
     "output_type": "execute_result"
    }
   ],
   "source": [
    "fig = plt.figure()\n",
    "ax = fig.add_subplot(111)\n",
    "ax.scatter(widths_sp, max_speeds)\n",
    "ax.set_xlabel(r\"width ($\\mu m $)\")\n",
    "ax.set_ylabel(r\"max speed ($\\mu m.s^{-1}$)\")"
   ]
  },
  {
   "cell_type": "code",
   "execution_count": 15,
   "metadata": {},
   "outputs": [
    {
     "data": {
      "application/vnd.jupyter.widget-view+json": {
       "model_id": "c8b7cb2d31834e3b9b3e58d7c9bcd38d",
       "version_major": 2,
       "version_minor": 0
      },
      "text/plain": [
       "Canvas(toolbar=Toolbar(toolitems=[('Home', 'Reset original view', 'home', 'home'), ('Back', 'Back to previous …"
      ]
     },
     "metadata": {},
     "output_type": "display_data"
    },
    {
     "data": {
      "text/plain": [
       "<matplotlib.legend.Legend at 0x2b8b9781b7d0>"
      ]
     },
     "execution_count": 15,
     "metadata": {},
     "output_type": "execute_result"
    }
   ],
   "source": [
    "widths_rh = [width for width in widths_rh if width < 160]\n",
    "widths_bas = [width for width in widths_bas if width < 160]\n",
    "fig = plt.figure()\n",
    "bins = np.linspace(0, 15, 30)\n",
    "ax = fig.add_subplot(111)\n",
    "ax.hist(widths_rh, bins, alpha=0.5, label=\"rh\", density=True)\n",
    "ax.hist(widths_bas, bins, alpha=0.5, label=\"bas\", density=True)\n",
    "ax.set_xlabel(r\"width ($\\mu m $)\")\n",
    "plt.legend(loc=\"upper right\")\n",
    "# ax.set_ylabel(r'length ($\\mu m $)')"
   ]
  },
  {
   "cell_type": "code",
   "execution_count": 137,
   "metadata": {},
   "outputs": [],
   "source": [
    "BAS = [hyph for hyph in BAS if len(hyph.ts) > 1]"
   ]
  },
  {
   "cell_type": "code",
   "execution_count": 13,
   "metadata": {},
   "outputs": [
    {
     "name": "stderr",
     "output_type": "stream",
     "text": [
      "/home/cbisot/anaconda3/envs/test/lib/python3.7/site-packages/ipykernel_launcher.py:79: RuntimeWarning: invalid value encountered in double_scalars\n"
     ]
    }
   ],
   "source": [
    "widths_rh = [get_width_hypha(hyph, hyph.ts[-1]) for hyph in RH]\n",
    "widths_bas = [get_width_hypha(hyph, hyph.ts[-1]) for hyph in BAS if len(hyph.ts) > 0]"
   ]
  },
  {
   "cell_type": "code",
   "execution_count": 129,
   "metadata": {},
   "outputs": [
    {
     "data": {
      "application/vnd.jupyter.widget-view+json": {
       "model_id": "7972320a472b4e2ca476412d53317d44",
       "version_major": 2,
       "version_minor": 0
      },
      "text/plain": [
       "Canvas(toolbar=Toolbar(toolitems=[('Home', 'Reset original view', 'home', 'home'), ('Back', 'Back to previous …"
      ]
     },
     "metadata": {},
     "output_type": "display_data"
    },
    {
     "data": {
      "text/plain": [
       "<matplotlib.legend.Legend at 0x2ad066699c10>"
      ]
     },
     "execution_count": 129,
     "metadata": {},
     "output_type": "execute_result"
    }
   ],
   "source": [
    "widths_rh = [width for width in widths_rh if width < 160]\n",
    "widths_bas = [width for width in widths_bas if width < 160]\n",
    "fig = plt.figure()\n",
    "bins = np.linspace(0, 160, 30)\n",
    "ax = fig.add_subplot(111)\n",
    "ax.hist(widths_rh, bins, alpha=0.5, label=\"rh\", density=True)\n",
    "ax.hist(widths_bas, bins, alpha=0.5, label=\"bas\", density=True)\n",
    "ax.set_xlabel(r\"width ($\\mu m $)\")\n",
    "plt.legend(loc=\"upper right\")\n",
    "# ax.set_ylabel(r'length ($\\mu m $)')"
   ]
  },
  {
   "cell_type": "code",
   "execution_count": 173,
   "metadata": {},
   "outputs": [
    {
     "data": {
      "application/vnd.jupyter.widget-view+json": {
       "model_id": "3c245adb8e374cfb917e56e721022fa2",
       "version_major": 2,
       "version_minor": 0
      },
      "text/plain": [
       "Canvas(toolbar=Toolbar(toolitems=[('Home', 'Reset original view', 'home', 'home'), ('Back', 'Back to previous …"
      ]
     },
     "metadata": {},
     "output_type": "display_data"
    }
   ],
   "source": [
    "exp.plot([hyph.ts[0]], [[hyph.end.label, hyph.root.label]])"
   ]
  },
  {
   "cell_type": "code",
   "execution_count": 47,
   "metadata": {},
   "outputs": [
    {
     "data": {
      "text/plain": [
       "[10.425292913561158, 8.332676971157685, 8.272050461529783, 7.928058983361218]"
      ]
     },
     "execution_count": 47,
     "metadata": {},
     "output_type": "execute_result"
    }
   ],
   "source": [
    "hyph = choice(BAS)\n",
    "[get_width_hypha(hyph, t) for t in hyph.ts]"
   ]
  },
  {
   "cell_type": "code",
   "execution_count": 48,
   "metadata": {},
   "outputs": [
    {
     "data": {
      "application/vnd.jupyter.widget-view+json": {
       "model_id": "9feaa3e965384420a39c805e63882f2d",
       "version_major": 2,
       "version_minor": 0
      },
      "text/plain": [
       "Canvas(toolbar=Toolbar(toolitems=[('Home', 'Reset original view', 'home', 'home'), ('Back', 'Back to previous …"
      ]
     },
     "metadata": {},
     "output_type": "display_data"
    },
    {
     "data": {
      "application/vnd.jupyter.widget-view+json": {
       "model_id": "8b1fd1b9d3914be6abbef3f929ca9afe",
       "version_major": 2,
       "version_minor": 0
      },
      "text/plain": [
       "Canvas(toolbar=Toolbar(toolitems=[('Home', 'Reset original view', 'home', 'home'), ('Back', 'Back to previous …"
      ]
     },
     "metadata": {},
     "output_type": "display_data"
    }
   ],
   "source": [
    "plt.close(\"all\")\n",
    "t = -1\n",
    "hyph.end.show_source_image(hyph.ts[t], hyph.ts[t])\n",
    "hyph.root.show_source_image(hyph.ts[t], hyph.ts[t])"
   ]
  },
  {
   "cell_type": "code",
   "execution_count": 41,
   "metadata": {},
   "outputs": [
    {
     "data": {
      "application/vnd.jupyter.widget-view+json": {
       "model_id": "e3114ab1aadf4b0aaeb4e54a78de682b",
       "version_major": 2,
       "version_minor": 0
      },
      "text/plain": [
       "Canvas(toolbar=Toolbar(toolitems=[('Home', 'Reset original view', 'home', 'home'), ('Back', 'Back to previous …"
      ]
     },
     "metadata": {},
     "output_type": "display_data"
    },
    {
     "data": {
      "text/plain": [
       "Text(0, 0.5, 'width ($\\\\mu m $)')"
      ]
     },
     "execution_count": 41,
     "metadata": {},
     "output_type": "execute_result"
    }
   ],
   "source": [
    "plt.close(\"all\")\n",
    "fig = plt.figure()\n",
    "ax = fig.add_subplot(111)\n",
    "ax.plot(hyph.ts, [get_width_hypha(hyph, t) for t in hyph.ts])\n",
    "ax.set_xlabel(\"timestep\")\n",
    "ax.set_ylabel(r\"width ($\\mu m $)\")"
   ]
  },
  {
   "cell_type": "code",
   "execution_count": 27,
   "metadata": {},
   "outputs": [],
   "source": [
    "times = []\n",
    "widths_t = []\n",
    "for rh in RH:\n",
    "    for t in rh.ts:\n",
    "        width = get_width_hypha(rh, t)\n",
    "        if width < 15:\n",
    "            times.append(get_time(exp, rh.ts[0], t))\n",
    "            widths_t.append(width)"
   ]
  },
  {
   "cell_type": "code",
   "execution_count": 28,
   "metadata": {},
   "outputs": [
    {
     "data": {
      "application/vnd.jupyter.widget-view+json": {
       "model_id": "bf7484b3efa24214bff8a5b1c0577b53",
       "version_major": 2,
       "version_minor": 0
      },
      "text/plain": [
       "Canvas(toolbar=Toolbar(toolitems=[('Home', 'Reset original view', 'home', 'home'), ('Back', 'Back to previous …"
      ]
     },
     "metadata": {},
     "output_type": "display_data"
    },
    {
     "data": {
      "text/plain": [
       "Text(0, 0.5, 'width ($\\\\mu m $)')"
      ]
     },
     "execution_count": 28,
     "metadata": {},
     "output_type": "execute_result"
    }
   ],
   "source": [
    "plt.close(\"all\")\n",
    "fig = plt.figure()\n",
    "ax = fig.add_subplot(111)\n",
    "ax.scatter(times, widths_t)\n",
    "ax.set_xlabel(\"timestep\")\n",
    "ax.set_ylabel(r\"width ($\\mu m $)\")"
   ]
  },
  {
   "cell_type": "code",
   "execution_count": 31,
   "metadata": {},
   "outputs": [],
   "source": [
    "slope, intercept, r_value, p_value, std_err = stats.linregress(times, speeds)"
   ]
  },
  {
   "cell_type": "code",
   "execution_count": 34,
   "metadata": {},
   "outputs": [
    {
     "data": {
      "application/vnd.jupyter.widget-view+json": {
       "model_id": "498efd97154648a8a89f2653d49b2601",
       "version_major": 2,
       "version_minor": 0
      },
      "text/plain": [
       "Canvas(toolbar=Toolbar(toolitems=[('Home', 'Reset original view', 'home', 'home'), ('Back', 'Back to previous …"
      ]
     },
     "metadata": {},
     "output_type": "display_data"
    },
    {
     "data": {
      "text/plain": [
       "<matplotlib.legend.Legend at 0x2b89f4cbc150>"
      ]
     },
     "execution_count": 34,
     "metadata": {},
     "output_type": "execute_result"
    }
   ],
   "source": [
    "speeds = widths_t\n",
    "zipped_list = zip(times, speeds)\n",
    "sorted_zip = sorted(zipped_list)\n",
    "times_sort, speed_sort = zip(*sorted_zip)\n",
    "fig = plt.figure(figsize=(8, 8))\n",
    "ax = fig.add_subplot(111)\n",
    "ax.set_xlabel(\"time since appearane of hypha ($hour$)\")\n",
    "ax.set_ylabel(\"width ($\\mu m)$\")\n",
    "xlim = 140\n",
    "ax.set_xlim((0, xlim))\n",
    "ax.set_ylim((0, 15))\n",
    "\n",
    "x = range(0, xlim)\n",
    "\n",
    "N = 100\n",
    "ax.scatter(times_sort, speed_sort, color=\"yellow\", label=\"observed width\")\n",
    "ax.plot(\n",
    "    uniform_filter1d(times_sort, size=N),\n",
    "    uniform_filter1d(speed_sort, size=N),\n",
    "    color=\"green\",\n",
    "    label=\"moving average\",\n",
    ")\n",
    "# ax.set_title(r'$r^2=$'+f'{round(r_value**2,max(2,-int(np.log10(r_value**2))+2))}, p_value = {round(p_value**2,max(2,-int(np.log10(p_value**2))+2))}, slope = {round(slope,4)}')\n",
    "x = range(0, xlim + 1)\n",
    "legend_str = (\n",
    "    r\"linear regression : $r^2=$\"\n",
    "    + f\"{round(r_value**2,max(2,-int(np.log10(r_value**2))+2))}, p-value = {round(p_value,max(2,-int(np.log10(p_value))+2))}, slope = {round(slope,4)}\"\n",
    ")\n",
    "(line,) = ax.plot(x, x * slope + intercept, color=\"red\", label=legend_str)\n",
    "ax.legend()"
   ]
  },
  {
   "cell_type": "code",
   "execution_count": 42,
   "metadata": {
    "collapsed": true,
    "jupyter": {
     "outputs_hidden": true
    }
   },
   "outputs": [
    {
     "data": {
      "application/vnd.jupyter.widget-view+json": {
       "model_id": "5f2c9f095f184e188a1a731201fdf0f9",
       "version_major": 2,
       "version_minor": 0
      },
      "text/plain": [
       "Canvas(toolbar=Toolbar(toolitems=[('Home', 'Reset original view', 'home', 'home'), ('Back', 'Back to previous …"
      ]
     },
     "metadata": {},
     "output_type": "display_data"
    },
    {
     "data": {
      "application/vnd.jupyter.widget-view+json": {
       "model_id": "a3dd2c49f50644eca9d7a3d9ff522fac",
       "version_major": 2,
       "version_minor": 0
      },
      "text/plain": [
       "Canvas(toolbar=Toolbar(toolitems=[('Home', 'Reset original view', 'home', 'home'), ('Back', 'Back to previous …"
      ]
     },
     "metadata": {},
     "output_type": "display_data"
    }
   ],
   "source": [
    "hyph.end.show_source_image(hyph.ts[1], hyph.ts[1])\n",
    "hyph.root.show_source_image(hyph.ts[1], hyph.ts[1])"
   ]
  },
  {
   "cell_type": "code",
   "execution_count": 18,
   "metadata": {},
   "outputs": [
    {
     "data": {
      "text/plain": [
       "([35, 36, 37], [36, 37])"
      ]
     },
     "execution_count": 18,
     "metadata": {},
     "output_type": "execute_result"
    }
   ],
   "source": [
    "hyph.end.ts(), hyph.root.ts()"
   ]
  },
  {
   "cell_type": "code",
   "execution_count": 43,
   "metadata": {},
   "outputs": [
    {
     "name": "stderr",
     "output_type": "stream",
     "text": [
      "/home/cbisot/anaconda3/envs/test/lib/python3.7/site-packages/matplotlib/__init__.py:880: MatplotlibDeprecationWarning: \n",
      "nbagg.transparent\n",
      "  version, key, obj_type=\"rcparam\", alternative=alt_key)\n"
     ]
    },
    {
     "data": {
      "application/vnd.jupyter.widget-view+json": {
       "model_id": "cfd8b12e08bb478fa7393fb42e301d34",
       "version_major": 2,
       "version_minor": 0
      },
      "text/plain": [
       "Canvas(toolbar=Toolbar(toolitems=[('Home', 'Reset original view', 'home', 'home'), ('Back', 'Back to previous …"
      ]
     },
     "metadata": {},
     "output_type": "display_data"
    }
   ],
   "source": [
    "plt.close(\"all\")\n",
    "exp.plot(hyph.ts, [[hyph.end.label, hyph.root.label]] * len(hyph.ts))"
   ]
  },
  {
   "cell_type": "code",
   "execution_count": 22,
   "metadata": {},
   "outputs": [
    {
     "data": {
      "text/plain": [
       "Counter({Node(4819): 2, Node(5274): 1})"
      ]
     },
     "execution_count": 22,
     "metadata": {},
     "output_type": "execute_result"
    }
   ],
   "source": [
    "roots = []\n",
    "for t in hyph.end.ts():\n",
    "    #             print(t,tip)\n",
    "    if hyph.end.degree(t) == 1:\n",
    "        root, edges, nodes = hyph.get_edges(t, 200)\n",
    "        roots.append(root)\n",
    "occurence_count = Counter(roots)\n",
    "occurence_count"
   ]
  },
  {
   "cell_type": "code",
   "execution_count": 7,
   "metadata": {},
   "outputs": [],
   "source": [
    "import os\n",
    "import sys\n",
    "\n",
    "sys.path.insert(0, os.getenv(\"HOME\") + \"/pycode/MscThesis/\")\n",
    "import numpy as np\n",
    "from amftrack.util.sys import get_dates_datetime\n",
    "import pickle\n",
    "from amftrack.pipeline.functions.experiment_class_surf import Edge, Node\n",
    "from random import choice\n",
    "import networkx as nx\n",
    "from amftrack.pipeline.paths.directory import directory_scratch, path_code\n",
    "from scipy import sparse\n",
    "from amftrack.pipeline.functions.hyphae_id_surf import get_pixel_growth_and_new_children\n",
    "\n",
    "\n",
    "def get_time(exp, t, tp1):\n",
    "    seconds = (exp.dates[tp1] - exp.dates[t]).total_seconds()\n",
    "    return seconds / 3600\n",
    "\n",
    "\n",
    "def get_length_um(seg):\n",
    "    pixel_conversion_factor = 1.725\n",
    "    pixels = seg\n",
    "    length_edge = 0\n",
    "    for i in range(len(pixels) // 10 + 1):\n",
    "        if i * 10 <= len(pixels) - 1:\n",
    "            length_edge += np.linalg.norm(\n",
    "                np.array(pixels[i * 10])\n",
    "                - np.array(pixels[min((i + 1) * 10, len(pixels) - 1)])\n",
    "            )\n",
    "    #         length_edge+=np.linalg.norm(np.array(pixels[len(pixels)//10-1*10-1])-np.array(pixels[-1]))\n",
    "    return length_edge * pixel_conversion_factor\n",
    "\n",
    "\n",
    "def get_length_um_edge(edge, t):\n",
    "    pixel_conversion_factor = 1.725\n",
    "    length_edge = 0\n",
    "    pixels = edge.pixel_list(t)\n",
    "    for i in range(len(pixels) // 10 + 1):\n",
    "        if i * 10 <= len(pixels) - 1:\n",
    "            length_edge += np.linalg.norm(\n",
    "                np.array(pixels[i * 10])\n",
    "                - np.array(pixels[min((i + 1) * 10, len(pixels) - 1)])\n",
    "            )\n",
    "    #             length_edge+=np.linalg.norm(np.array(pixels[len(pixels)//10-1*10-1])-np.array(pixels[-1]))\n",
    "    return length_edge * pixel_conversion_factor\n",
    "\n",
    "\n",
    "def get_length_um_node_list(node_list, exp, t):\n",
    "    total_length = 0\n",
    "    for i in range(len(node_list) - 1):\n",
    "        nodea = Node(node_list[i], exp)\n",
    "        nodeb = Node(node_list[i + 1], exp)\n",
    "        edge_obj = Edge(nodea, nodeb, exp)\n",
    "        total_length += get_length_um_edge(edge_obj, t)\n",
    "    return total_length\n",
    "\n",
    "\n",
    "def get_exp(inst, directory=directory_scratch):\n",
    "    plate = inst[0]\n",
    "    begin = inst[1]\n",
    "    end = inst[2]\n",
    "    dates_datetime = get_dates_datetime(directory, plate)\n",
    "    print(\"begin =\", dates_datetime[begin], \"\\n  end =\", dates_datetime[end])\n",
    "    dates_datetime_chosen = dates_datetime[begin : end + 1]\n",
    "    dates = dates_datetime_chosen\n",
    "    exp = pickle.load(\n",
    "        open(\n",
    "            f\"{directory}/Analysis_Plate{plate}_{dates[0]}_{dates[-1]}/experiment_{plate}.pick\",\n",
    "            \"rb\",\n",
    "        )\n",
    "    )\n",
    "    return exp\n",
    "\n",
    "\n",
    "def get_hyph_infos(exp):\n",
    "    select_hyph = {}\n",
    "    for hyph in exp.hyphaes:\n",
    "        select_hyph[hyph] = []\n",
    "        for i, t in enumerate(hyph.ts[:-1]):\n",
    "            tp1 = hyph.ts[i + 1]\n",
    "            pixels, nodes = get_pixel_growth_and_new_children(hyph, t, tp1)\n",
    "            speed = np.sum([get_length_um(seg) for seg in pixels]) / get_time(\n",
    "                exp, t, tp1\n",
    "            )\n",
    "            select_hyph[hyph].append((t, hyph.ts[i + 1], speed, pixels))\n",
    "    return select_hyph\n",
    "\n",
    "\n",
    "def get_width_hypha(hypha, t):\n",
    "    nodes, edges = hypha.get_nodes_within(t)\n",
    "    widths = [edge.width(t) for edge in edges]\n",
    "    lengths = [len(edge.pixel_list(t)) for edge in edges]\n",
    "    weighted = [widths[i] * lengths[i] for i in range(len(widths))]\n",
    "    return np.sum(weighted) / np.sum(lengths)\n",
    "\n",
    "\n",
    "def get_rh_bas(exp, criter):\n",
    "    select_hyph = get_hyph_infos(exp)\n",
    "    max_speeds = []\n",
    "    total_growths = []\n",
    "    lengths = []\n",
    "    branch_frequ = []\n",
    "    hyph_l = []\n",
    "    RH = []\n",
    "    BAS = []\n",
    "    widths = []\n",
    "    for hyph in exp.hyphaes:\n",
    "        speeds = [c[2] for c in select_hyph[hyph]]\n",
    "        ts = [c[0] for c in select_hyph[hyph]]\n",
    "        tp1s = [c[1] for c in select_hyph[hyph]]\n",
    "        if len(speeds) > 0:\n",
    "            length = hyph.get_length_um(hyph.ts[-1])\n",
    "            nodes = hyph.get_nodes_within(hyph.ts[-1])[0]\n",
    "            max_speed = np.max(speeds)\n",
    "            total_growth = np.sum(\n",
    "                [\n",
    "                    speed * get_time(exp, ts[i], tp1s[i])\n",
    "                    for i, speed in enumerate(speeds)\n",
    "                ]\n",
    "            )\n",
    "            if criter(max_speed, length):\n",
    "                RH.append(hyph)\n",
    "            else:\n",
    "                BAS.append(hyph)\n",
    "            lengths.append(length)\n",
    "            max_speeds.append(max_speed)\n",
    "            total_growths.append(total_growth)\n",
    "            branch_frequ.append((len(nodes) - 1) / (length + 1))\n",
    "            hyph_l.append(hyph)\n",
    "            widths.append(get_width_hypha(hyph, hyph.ts[-1]))\n",
    "\n",
    "        else:\n",
    "            BAS.append(hyph)\n",
    "    return (\n",
    "        RH,\n",
    "        BAS,\n",
    "        max_speeds,\n",
    "        total_growths,\n",
    "        widths,\n",
    "        lengths,\n",
    "        branch_frequ,\n",
    "        select_hyph,\n",
    "    )\n",
    "\n",
    "\n",
    "a = 0.0005\n",
    "b = 0.01\n",
    "thresh = 2\n",
    "\n",
    "\n",
    "def estimate_bas_freq_mult(insts, samples, back, criter, path):\n",
    "    bas_frequs = []\n",
    "    for inst in insts:\n",
    "        bas_frequ = []\n",
    "        t0 = inst[2] - inst[1] - back\n",
    "        exp = get_exp(inst, path)\n",
    "        (\n",
    "            RH,\n",
    "            BAS,\n",
    "            max_speeds,\n",
    "            total_growths,\n",
    "            widths,\n",
    "            lengths,\n",
    "            branch_frequ,\n",
    "            select_hyph,\n",
    "        ) = get_rh_bas(exp, criter)\n",
    "        bas_roots = [hyph.root for hyph in BAS]\n",
    "        for k in range(samples):\n",
    "            node1 = Node(choice(list(exp.nx_graph[t0].nodes)), exp)\n",
    "            node2 = Node(choice(list(exp.nx_graph[t0].nodes)), exp)\n",
    "            if np.linalg.norm(\n",
    "                node1.pos(t0) - node2.pos(t0)\n",
    "            ) >= 5000 and nx.algorithms.shortest_pipeline.paths.generic.has_path(\n",
    "                exp.nx_graph[t0], node1.label, node2.label\n",
    "            ):\n",
    "                nodes = nx.shortest_path(\n",
    "                    exp.nx_graph[t0], source=node1.label, target=node2.label\n",
    "                )\n",
    "                #             exp.plot([t],[nodes])\n",
    "                bass = []\n",
    "                for node in nodes:\n",
    "                    if exp.get_node(node) in bas_roots:\n",
    "                        bass.append(node)\n",
    "                #             print(hyph)\n",
    "                #             if hyph.ts[0] in rh.ts:\n",
    "                #                 print(hyph,hyph_info[hyph],hyph in BAS)\n",
    "                #                 hyph.end.show_source_image(hyph.ts[-1],hyph.ts[-1])\n",
    "                bas_frequ.append(\n",
    "                    len(bass) / get_length_um_node_list(nodes, exp, t0) * 10000\n",
    "                )\n",
    "        pickle.dump(\n",
    "            bas_frequ, open(f\"{path_code}/MscThesis/Results/bas_{inst}.pick\", \"wb\")\n",
    "        )\n",
    "        bas_frequs.append(bas_frequ)\n",
    "    return bas_frequs\n",
    "\n",
    "\n",
    "def get_curvature_density(inst, window, path):\n",
    "    exp = get_exp(inst, path)\n",
    "    skeletons = [sparse.csr_matrix(skel) for skel in exp.skeletons]\n",
    "    (\n",
    "        RH,\n",
    "        BAS,\n",
    "        max_speeds,\n",
    "        total_growths,\n",
    "        widths_sp,\n",
    "        lengths,\n",
    "        branch_frequ,\n",
    "        select_hyph,\n",
    "    ) = get_rh_bas(exp, criter)\n",
    "    angles = []\n",
    "    curvatures = []\n",
    "    densities = []\n",
    "    growths = []\n",
    "    speeds = []\n",
    "    tortuosities = []\n",
    "    hyphs = []\n",
    "    ts = []\n",
    "    print(f\"There is {len(RH)} RH\")\n",
    "    for hyph in RH:\n",
    "        for i, t in enumerate(hyph.ts[:-1]):\n",
    "            tp1 = hyph.ts[i + 1]\n",
    "            segs, nodes = get_pixel_growth_and_new_children(hyph, t, tp1)\n",
    "            speed = np.sum([get_length_um(seg) for seg in segs]) / get_time(exp, t, tp1)\n",
    "            total_growth = speed * get_time(exp, t, tp1)\n",
    "            curve = [pixel for seg in segs for pixel in seg]\n",
    "            pos = hyph.end.pos(t)\n",
    "            x, y = pos[0], pos[1]\n",
    "            straight_distance = np.linalg.norm(hyph.end.pos(t) - hyph.end.pos(tp1))\n",
    "            skeleton = skeletons[t][x - window : x + window, y - window : y + window]\n",
    "            density = skeleton.count_nonzero() / (window * 1.725)\n",
    "            curve_array = np.array(curve)\n",
    "            res = 50\n",
    "            index = min(res, curve_array.shape[0] - 1)\n",
    "            vec1 = curve_array[index] - curve_array[0]\n",
    "            vec2 = curve_array[-1] - curve_array[-index - 1]\n",
    "            if np.linalg.norm(vec1) > 0 and np.linalg.norm(vec2) > 0:\n",
    "                begin = vec1 / np.linalg.norm(vec1)\n",
    "                end = vec2 / np.linalg.norm(vec2)\n",
    "                dot_product = min(np.dot(begin, end), 1)\n",
    "                if begin[1] * end[0] - end[1] * begin[0] >= 0:  # determinant\n",
    "                    angle = -np.arccos(dot_product) / (2 * np.pi) * 360\n",
    "                else:\n",
    "                    angle = np.arccos(dot_product) / (2 * np.pi) * 360\n",
    "                inv_tortuosity = (straight_distance * 1.725) / total_growth\n",
    "                if (\n",
    "                    speed >= 100\n",
    "                    and speed < 400\n",
    "                    and hyph.end.degree(tp1) < 3\n",
    "                    and inv_tortuosity > 0.8\n",
    "                    and inv_tortuosity < 1.1\n",
    "                ):\n",
    "                    if np.isnan((angle / total_growth)):\n",
    "                        print(angle, total_growth, dot_product)\n",
    "                    angles.append(angle)\n",
    "                    curvatures.append(angle / total_growth)\n",
    "                    densities.append(density)\n",
    "                    growths.append(total_growth)\n",
    "                    speeds.append(speed)\n",
    "                    tortuosities.append(inv_tortuosity)\n",
    "                    ts.append(get_time(exp, 0, t))\n",
    "                    hyphs.append(hyph.end.label)\n",
    "    return (angles, curvatures, densities, growths, speeds, tortuosities, ts, hyphs)\n",
    "\n",
    "\n",
    "def estimate_growth(inst, criter, path):\n",
    "    exp = get_exp(inst, path)\n",
    "    (\n",
    "        RH,\n",
    "        BAS,\n",
    "        max_speeds,\n",
    "        total_growths,\n",
    "        widths,\n",
    "        lengths,\n",
    "        branch_frequ,\n",
    "        select_hyph,\n",
    "    ) = get_rh_bas(exp, criter)\n",
    "    print(inst, len(RH))\n",
    "    group = (max_speeds, total_growths, lengths)\n",
    "    return group\n",
    "\n",
    "\n",
    "def criter(max_growth, length):\n",
    "    return a * length + b * max_growth >= thresh and max_growth >= 50"
   ]
  }
 ],
 "metadata": {
  "kernelspec": {
   "display_name": "Python 3",
   "language": "python",
   "name": "python3"
  },
  "language_info": {
   "codemirror_mode": {
    "name": "ipython",
    "version": 3
   },
   "file_extension": ".py",
   "mimetype": "text/x-python",
   "name": "python",
   "nbconvert_exporter": "python",
   "pygments_lexer": "ipython3",
   "version": "3.7.7"
  }
 },
 "nbformat": 4,
 "nbformat_minor": 4
}

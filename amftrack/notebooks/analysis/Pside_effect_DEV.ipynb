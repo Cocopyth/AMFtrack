{
 "cells": [
  {
   "cell_type": "code",
   "execution_count": 1,
   "metadata": {},
   "outputs": [],
   "source": [
    "%matplotlib widget\n",
    "\n",
    "import os  \n",
    "import sys  \n",
    "sys.path.insert(0, os.getenv('HOME')+'/pycode/MscThesis/')\n",
    "import pandas as pd\n",
    "from amftrack.util.sys import get_dates_datetime, get_dirname, get_plate_number, get_postion_number\n",
    "\n",
    "import ast\n",
    "from amftrack.plotutil import plot_t_tp1\n",
    "from scipy import sparse\n",
    "from datetime import datetime\n",
    "from amftrack.pipeline.functions.node_id import orient\n",
    "import pickle\n",
    "import scipy.io as sio\n",
    "from pymatreader import read_mat\n",
    "from matplotlib import colors\n",
    "import cv2\n",
    "import imageio\n",
    "import matplotlib.pyplot as plt\n",
    "import numpy as np\n",
    "from skimage.filters import frangi\n",
    "from skimage import filters\n",
    "from random import choice\n",
    "import scipy.sparse\n",
    "import os\n",
    "from amftrack.pipeline.functions.extract_graph import from_sparse_to_graph, generate_nx_graph, sparse_to_doc\n",
    "from skimage.feature import hessian_matrix_det\n",
    "from amftrack.pipeline.functions.experiment_class_surf import Experiment, Edge, Node\n",
    "from amftrack.pipeline.paths.directory import run_parallel, find_state, directory_scratch, directory_project\n",
    "from amftrack.notebooks.analysis.util import *\n",
    "from scipy import stats\n",
    "from scipy.ndimage.filters import uniform_filter1d\n",
    "from scipy import sparse\n",
    "import numpy as np\n",
    "import os\n",
    "from datetime import datetime, timedelta\n",
    "import pandas\n",
    "path_code = \"/home/cbisot/pycode/\"\n",
    "plate_info = pandas.read_excel(path_code + 'MscThesis/plate_info/SummaryAnalizedPlates.xlsx',engine='openpyxl',header=3,)"
   ]
  },
  {
   "cell_type": "code",
   "execution_count": 2,
   "metadata": {},
   "outputs": [],
   "source": [
    "def get_Pside(plate_number):\n",
    "    return(plate_info.loc[plate_info['Plate #'] == plate_number]['P-bait'])"
   ]
  },
  {
   "cell_type": "code",
   "execution_count": 89,
   "metadata": {},
   "outputs": [
    {
     "data": {
      "text/plain": [
       "'right'"
      ]
     },
     "execution_count": 89,
     "metadata": {},
     "output_type": "execute_result"
    }
   ],
   "source": [
    "get_Pside(395).values[0]"
   ]
  },
  {
   "cell_type": "code",
   "execution_count": 93,
   "metadata": {},
   "outputs": [
    {
     "data": {
      "text/plain": [
       "((34005, 11931), 'right')"
      ]
     },
     "execution_count": 93,
     "metadata": {},
     "output_type": "execute_result"
    }
   ],
   "source": [
    "get_pos_nut((10,0,10),4,'P')"
   ]
  },
  {
   "cell_type": "code",
   "execution_count": 11,
   "metadata": {},
   "outputs": [
    {
     "name": "stdout",
     "output_type": "stream",
     "text": [
      "begin = 2020-10-01 11:21:00 \n",
      "  end = 2020-10-03 19:20:00\n"
     ]
    }
   ],
   "source": [
    "directory = directory_project\n",
    "exp = get_exp((28,0,14),directory)"
   ]
  },
  {
   "cell_type": "code",
   "execution_count": 84,
   "metadata": {},
   "outputs": [],
   "source": [
    "def get_length(exp,t):\n",
    "    length=0\n",
    "    for edge in exp.nx_graph[t].edges:\n",
    "        edge_obj= Edge(Node(edge[0],exp),Node(edge[1],exp),exp)\n",
    "        length+=get_length_um_edge(edge_obj,t)\n",
    "    return(length)\n"
   ]
  },
  {
   "cell_type": "code",
   "execution_count": 85,
   "metadata": {},
   "outputs": [
    {
     "data": {
      "text/plain": [
       "[1357017.2057098541,\n",
       " 1393691.40573769,\n",
       " 1441346.4998925133,\n",
       " 1483465.249289077,\n",
       " 1536511.450767385,\n",
       " 1597264.2760047822,\n",
       " 1664331.1186561834,\n",
       " 1744229.4757101627,\n",
       " 1832452.4571966603,\n",
       " 1895890.044514469,\n",
       " 1971489.3330531297,\n",
       " 2033477.1671111505,\n",
       " 2095788.7383510282,\n",
       " 2160717.3692914154,\n",
       " 2210800.518545975,\n",
       " 2279689.888051225,\n",
       " 2337126.380760785,\n",
       " 2388667.3226391436,\n",
       " 2455904.967060262,\n",
       " 2494351.428872862,\n",
       " 2604350.157458141,\n",
       " 2641662.281776379,\n",
       " 2682595.4417969994,\n",
       " 2724403.0183652034,\n",
       " 2776491.7694952977,\n",
       " 2872333.535162379]"
      ]
     },
     "execution_count": 85,
     "metadata": {},
     "output_type": "execute_result"
    }
   ],
   "source": [
    "[get_length(exp,t) for t in range(exp.ts)]"
   ]
  },
  {
   "cell_type": "code",
   "execution_count": 12,
   "metadata": {},
   "outputs": [],
   "source": [
    "def get_raw(exp,t):\n",
    "    date = exp.dates[t]\n",
    "    directory_name = get_dirname(date,exp.plate)\n",
    "    path_snap = exp.directory + directory_name\n",
    "    im = read_mat(path_snap+'/Analysis/raw_image.mat')['raw']\n",
    "    return(im)"
   ]
  },
  {
   "cell_type": "code",
   "execution_count": 16,
   "metadata": {},
   "outputs": [],
   "source": [
    "def get_pos_baits(exp,t):\n",
    "    raw_im = get_raw(exp,t)\n",
    "    image = cv2.blur(raw_im,(100,100))\n",
    "    output = image.copy()\n",
    "    gray = image\n",
    "    circles = cv2.HoughCircles(gray, cv2.HOUGH_GRADIENT, 2, 3000,minRadius = 200,maxRadius = 600,param1=10)\n",
    "    # ensure at least some circles were found\n",
    "    print('circles', circles)\n",
    "    if circles is not None:\n",
    "        # convert the (x, y) coordinates and radius of the circles to integers\n",
    "        circles = np.round(circles[0, :]).astype(\"int\")\n",
    "    for (x, y, r) in circles[:2]:\n",
    "        # draw the circle in the output image, then draw a rectangle\n",
    "        # corresponding to the center of the circle\n",
    "        cv2.circle(output, (x, y), r, (0, 255, 0), 4)\n",
    "        cv2.rectangle(output, (x - 5, y - 5), (x + 5, y + 5), (0, 128, 255), -1)\n",
    "        # show the output image\n",
    "    fig = plt.figure(figsize=(10,9))\n",
    "    ax = fig.add_subplot(111)\n",
    "    ax.imshow(output)\n",
    "    return(circles[:2])"
   ]
  },
  {
   "cell_type": "code",
   "execution_count": 56,
   "metadata": {},
   "outputs": [],
   "source": [
    "def get_pos_baits_aligned(exp,t):\n",
    "    pos_bait = get_pos_baits(exp,t)\n",
    "    date = exp.dates[t]\n",
    "    directory_name = get_dirname(date, exp.plate)\n",
    "    path_snap = exp.directory + directory_name\n",
    "    path_tile = path_snap + \"/Img/TileConfiguration.txt.registered\"\n",
    "    skel = read_mat(path_snap + \"/Analysis/skeleton_pruned_realigned.mat\")\n",
    "    Rot = skel[\"R\"]\n",
    "    trans = skel[\"t\"]\n",
    "    print(Rot,trans)\n",
    "    real_pos=[]\n",
    "    for x,y,r in pos_bait:\n",
    "        compression = 5\n",
    "        xs,ys = x*compression,y*compression\n",
    "        rottrans = np.dot(Rot, np.array([ys, xs])) + trans\n",
    "#         rottrans = np.array([xs, ys])\n",
    "        xs, ys = round(rottrans[0]), round(rottrans[1])\n",
    "        real_pos.append((xs,ys))\n",
    "    pos_real = {}\n",
    "    if real_pos[0][1]>=real_pos[1][1]:\n",
    "        pos_real['right'] = real_pos[0]\n",
    "        pos_real['left'] = real_pos[1]\n",
    "    else:\n",
    "        pos_real['right'] = real_pos[1]\n",
    "        pos_real['left'] = real_pos[0]\n",
    "    return(pos_real)\n",
    "        "
   ]
  },
  {
   "cell_type": "code",
   "execution_count": 58,
   "metadata": {},
   "outputs": [
    {
     "name": "stdout",
     "output_type": "stream",
     "text": [
      "circles [[[2031.  3085.   396.6]\n",
      "  [7707.  3119.   400. ]\n",
      "  [5179.    15.   457.8]]]\n"
     ]
    },
    {
     "data": {
      "application/vnd.jupyter.widget-view+json": {
       "model_id": "14b5f6c627db4214b1a3410333db7d6b",
       "version_major": 2,
       "version_minor": 0
      },
      "text/plain": [
       "Canvas(toolbar=Toolbar(toolitems=[('Home', 'Reset original view', 'home', 'home'), ('Back', 'Back to previous …"
      ]
     },
     "metadata": {},
     "output_type": "display_data"
    },
    {
     "name": "stdout",
     "output_type": "stream",
     "text": [
      "[[ 9.99999994e-01 -1.12628000e-04]\n",
      " [ 1.12628000e-04  9.99999994e-01]] [-102.01619074    9.10867534]\n"
     ]
    }
   ],
   "source": [
    "plt.close('all')\n",
    "t=13\n",
    "baits=get_pos_baits_aligned(exp,t)"
   ]
  },
  {
   "cell_type": "code",
   "execution_count": 59,
   "metadata": {},
   "outputs": [
    {
     "data": {
      "application/vnd.jupyter.widget-view+json": {
       "model_id": "efc98f6ef54a4feb831b71672e2e8981",
       "version_major": 2,
       "version_minor": 0
      },
      "text/plain": [
       "Canvas(toolbar=Toolbar(toolitems=[('Home', 'Reset original view', 'home', 'home'), ('Back', 'Back to previous …"
      ]
     },
     "metadata": {},
     "output_type": "display_data"
    },
    {
     "data": {
      "text/plain": [
       "<matplotlib.collections.PathCollection at 0x2b7cca242bd0>"
      ]
     },
     "execution_count": 59,
     "metadata": {},
     "output_type": "execute_result"
    }
   ],
   "source": [
    "fig = plt.figure(figsize=(10,9))\n",
    "ax = fig.add_subplot(111)\n",
    "ax.imshow(final_skel)\n",
    "ax.scatter(baits['right'][1]//5,baits['right'][0]//5)\n",
    "ax.scatter(baits['left'][1]//5,baits['left'][0]//5)"
   ]
  },
  {
   "cell_type": "code",
   "execution_count": 94,
   "metadata": {},
   "outputs": [],
   "source": [
    "bait_positions={}\n",
    "for treatment in ['25','baits']:\n",
    "    insts = treatments[treatment]\n",
    "    for inst in insts:\n",
    "        bait_positions[inst] = pickle.load(open(f'{path_code}/MscThesis/Results/baits_{inst}.pick', \"rb\"))"
   ]
  },
  {
   "cell_type": "code",
   "execution_count": 65,
   "metadata": {
    "collapsed": true,
    "jupyter": {
     "outputs_hidden": true
    }
   },
   "outputs": [
    {
     "data": {
      "text/plain": [
       "[{'right': (38575, 15505), 'left': (10155, 15335)},\n",
       " {'right': (38560, 15477), 'left': (10150, 15337)},\n",
       " {'right': (38565, 15489), 'left': (10165, 15333)},\n",
       " {'right': (38568, 15482), 'left': (10158, 15323)},\n",
       " {'right': (38565, 15467), 'left': (10154, 15321)},\n",
       " {'right': (38553, 15478), 'left': (10153, 15327)},\n",
       " {'right': (38571, 15476), 'left': (10171, 15337)},\n",
       " {'right': (38559, 15476), 'left': (10169, 15341)},\n",
       " {'right': (38559, 15492), 'left': (10169, 15318)},\n",
       " {'right': (38570, 15490), 'left': (10160, 15321)},\n",
       " {'right': (38559, 15490), 'left': (10159, 15336)},\n",
       " {'right': (38553, 15481), 'left': (10163, 15315)},\n",
       " {'right': (38571, 15473), 'left': (10161, 15328)},\n",
       " {'right': (38546, 15489), 'left': (10166, 15322)},\n",
       " {'right': (38557, 15485), 'left': (10157, 15315)},\n",
       " {'right': (38570, 15482), 'left': (10169, 15317)},\n",
       " {'right': (38563, 15468), 'left': (10153, 15324)},\n",
       " {'right': (38552, 15475), 'left': (10162, 15322)},\n",
       " {'right': (38544, 15468), 'left': (10154, 15324)},\n",
       " {'right': (38545, 15466), 'left': (10165, 15323)},\n",
       " {'right': (38563, 15486), 'left': (10163, 15327)},\n",
       " {'right': (38555, 15481), 'left': (10165, 15328)},\n",
       " {'right': (38558, 15473), 'left': (10158, 15323)},\n",
       " {'right': (38540, 15470), 'left': (10140, 15317)},\n",
       " {'right': (38542, 15469), 'left': (10162, 15327)},\n",
       " {'right': (38564, 15483), 'left': (10164, 15327)}]"
      ]
     },
     "execution_count": 65,
     "metadata": {},
     "output_type": "execute_result"
    }
   ],
   "source": [
    "bait_positions[(13,0,25)]"
   ]
  },
  {
   "cell_type": "code",
   "execution_count": 95,
   "metadata": {
    "collapsed": true,
    "jupyter": {
     "outputs_hidden": true
    }
   },
   "outputs": [
    {
     "data": {
      "text/plain": [
       "([{'right': (38575, 15505), 'left': (10155, 15335)},\n",
       "  {'right': (38560, 15477), 'left': (10150, 15337)},\n",
       "  {'right': (38565, 15489), 'left': (10165, 15333)},\n",
       "  {'right': (38568, 15482), 'left': (10158, 15323)},\n",
       "  {'right': (38565, 15467), 'left': (10154, 15321)},\n",
       "  {'right': (38553, 15478), 'left': (10153, 15327)},\n",
       "  {'right': (38571, 15476), 'left': (10171, 15337)},\n",
       "  {'right': (38559, 15476), 'left': (10169, 15341)},\n",
       "  {'right': (38559, 15492), 'left': (10169, 15318)},\n",
       "  {'right': (38570, 15490), 'left': (10160, 15321)},\n",
       "  {'right': (38559, 15490), 'left': (10159, 15336)},\n",
       "  {'right': (38553, 15481), 'left': (10163, 15315)},\n",
       "  {'right': (38571, 15473), 'left': (10161, 15328)},\n",
       "  {'right': (38546, 15489), 'left': (10166, 15322)},\n",
       "  {'right': (38557, 15485), 'left': (10157, 15315)},\n",
       "  {'right': (38570, 15482), 'left': (10169, 15317)},\n",
       "  {'right': (38563, 15468), 'left': (10153, 15324)},\n",
       "  {'right': (38552, 15475), 'left': (10162, 15322)},\n",
       "  {'right': (38544, 15468), 'left': (10154, 15324)},\n",
       "  {'right': (38545, 15466), 'left': (10165, 15323)},\n",
       "  {'right': (38563, 15486), 'left': (10163, 15327)},\n",
       "  {'right': (38555, 15481), 'left': (10165, 15328)},\n",
       "  {'right': (38558, 15473), 'left': (10158, 15323)},\n",
       "  {'right': (38540, 15470), 'left': (10140, 15317)},\n",
       "  {'right': (38542, 15469), 'left': (10162, 15327)},\n",
       "  {'right': (38564, 15483), 'left': (10164, 15327)}],\n",
       " [{'right': (15505, 38575), 'left': (15335, 10155)},\n",
       "  {'right': (15477, 38560), 'left': (15337, 10150)},\n",
       "  {'right': (15489, 38565), 'left': (15333, 10165)},\n",
       "  {'right': (15482, 38568), 'left': (15323, 10158)},\n",
       "  {'right': (15467, 38565), 'left': (15321, 10154)},\n",
       "  {'right': (15478, 38553), 'left': (15327, 10153)},\n",
       "  {'right': (15476, 38571), 'left': (15337, 10171)},\n",
       "  {'right': (15476, 38559), 'left': (15341, 10169)},\n",
       "  {'right': (15492, 38559), 'left': (15318, 10169)},\n",
       "  {'right': (15490, 38570), 'left': (15321, 10160)},\n",
       "  {'right': (15490, 38559), 'left': (15336, 10159)},\n",
       "  {'right': (15481, 38553), 'left': (15315, 10163)},\n",
       "  {'right': (15473, 38571), 'left': (15328, 10161)},\n",
       "  {'right': (15489, 38546), 'left': (15322, 10166)},\n",
       "  {'right': (15485, 38557), 'left': (15315, 10157)},\n",
       "  {'right': (15482, 38570), 'left': (15317, 10169)},\n",
       "  {'right': (15468, 38563), 'left': (15324, 10153)},\n",
       "  {'right': (15475, 38552), 'left': (15322, 10162)},\n",
       "  {'right': (15468, 38544), 'left': (15324, 10154)},\n",
       "  {'right': (15466, 38545), 'left': (15323, 10165)},\n",
       "  {'right': (15486, 38563), 'left': (15327, 10163)},\n",
       "  {'right': (15481, 38555), 'left': (15328, 10165)},\n",
       "  {'right': (15473, 38558), 'left': (15323, 10158)},\n",
       "  {'right': (15470, 38540), 'left': (15317, 10140)},\n",
       "  {'right': (15469, 38542), 'left': (15327, 10162)},\n",
       "  {'right': (15483, 38564), 'left': (15327, 10164)}])"
      ]
     },
     "execution_count": 95,
     "metadata": {},
     "output_type": "execute_result"
    }
   ],
   "source": [
    "bait_positions_new={}\n",
    "for treatment in ['25','baits']:\n",
    "    insts = treatments[treatment]\n",
    "    for inst in insts:\n",
    "        bait_inst = bait_positions[inst]\n",
    "        invert=[]\n",
    "        for t in range(len(bait_inst)):\n",
    "            pos_bait_right = bait_inst[t]['right']\n",
    "            pos_bait_left = bait_inst[t]['left']\n",
    "            invert.append({'right':(pos_bait_right[1],pos_bait_right[0]),'left':(pos_bait_left[1],pos_bait_left[0])})\n",
    "        bait_positions_new[inst]=invert\n",
    "        pickle.dump(invert,open(f'{path_code}/MscThesis/Results/baits2_{inst}.pick', \"wb\"))\n",
    "bait_positions[(13,0,25)],bait_positions_new[(13,0,25)]"
   ]
  },
  {
   "cell_type": "code",
   "execution_count": 70,
   "metadata": {},
   "outputs": [],
   "source": [
    "pickle.dump(bait_positions_new,open(f'{path_code}/MscThesis/Results/baits2_{inst}.pick', \"wb\"))"
   ]
  },
  {
   "cell_type": "code",
   "execution_count": 57,
   "metadata": {},
   "outputs": [
    {
     "name": "stdout",
     "output_type": "stream",
     "text": [
      "(13, 0, 25)\n",
      "begin = 2020-07-01 15:57:00 \n",
      "  end = 2020-07-05 23:57:00\n"
     ]
    },
    {
     "ename": "KeyboardInterrupt",
     "evalue": "",
     "output_type": "error",
     "traceback": [
      "\u001b[0;31m---------------------------------------------------------------------------\u001b[0m",
      "\u001b[0;31mKeyboardInterrupt\u001b[0m                         Traceback (most recent call last)",
      "\u001b[0;32m<ipython-input-57-0af101f0f6ee>\u001b[0m in \u001b[0;36m<module>\u001b[0;34m\u001b[0m\n\u001b[1;32m     31\u001b[0m     \u001b[0;32mfor\u001b[0m \u001b[0minst\u001b[0m \u001b[0;32min\u001b[0m \u001b[0minsts\u001b[0m\u001b[0;34m:\u001b[0m\u001b[0;34m\u001b[0m\u001b[0;34m\u001b[0m\u001b[0m\n\u001b[1;32m     32\u001b[0m         \u001b[0mprint\u001b[0m\u001b[0;34m(\u001b[0m\u001b[0minst\u001b[0m\u001b[0;34m)\u001b[0m\u001b[0;34m\u001b[0m\u001b[0;34m\u001b[0m\u001b[0m\n\u001b[0;32m---> 33\u001b[0;31m         \u001b[0mexp\u001b[0m \u001b[0;34m=\u001b[0m \u001b[0mget_exp\u001b[0m\u001b[0;34m(\u001b[0m\u001b[0minst\u001b[0m\u001b[0;34m,\u001b[0m\u001b[0mpath\u001b[0m\u001b[0;34m)\u001b[0m\u001b[0;34m\u001b[0m\u001b[0;34m\u001b[0m\u001b[0m\n\u001b[0m\u001b[1;32m     34\u001b[0m         \u001b[0mskeletons\u001b[0m \u001b[0;34m=\u001b[0m \u001b[0;34m[\u001b[0m\u001b[0msparse\u001b[0m\u001b[0;34m.\u001b[0m\u001b[0mcsr_matrix\u001b[0m\u001b[0;34m(\u001b[0m\u001b[0mskel\u001b[0m\u001b[0;34m)\u001b[0m \u001b[0;32mfor\u001b[0m \u001b[0mskel\u001b[0m \u001b[0;32min\u001b[0m \u001b[0mexp\u001b[0m\u001b[0;34m.\u001b[0m\u001b[0mskeletons\u001b[0m\u001b[0;34m]\u001b[0m\u001b[0;34m\u001b[0m\u001b[0;34m\u001b[0m\u001b[0m\n\u001b[1;32m     35\u001b[0m         \u001b[0mRH\u001b[0m\u001b[0;34m,\u001b[0m \u001b[0mBAS\u001b[0m\u001b[0;34m,\u001b[0m \u001b[0mmax_speeds\u001b[0m\u001b[0;34m,\u001b[0m \u001b[0mtotal_growths\u001b[0m\u001b[0;34m,\u001b[0m \u001b[0mwidths_sp\u001b[0m\u001b[0;34m,\u001b[0m \u001b[0mlengths\u001b[0m\u001b[0;34m,\u001b[0m \u001b[0mbranch_frequ\u001b[0m\u001b[0;34m,\u001b[0m\u001b[0mselect_hyph\u001b[0m \u001b[0;34m=\u001b[0m \u001b[0mget_rh_bas\u001b[0m\u001b[0;34m(\u001b[0m\u001b[0mexp\u001b[0m\u001b[0;34m,\u001b[0m\u001b[0mcriter\u001b[0m\u001b[0;34m)\u001b[0m\u001b[0;34m\u001b[0m\u001b[0;34m\u001b[0m\u001b[0m\n",
      "\u001b[0;32m~/pycode/MscThesis/amftrack/notebooks/analysis/util.py\u001b[0m in \u001b[0;36mget_exp\u001b[0;34m(inst, directory)\u001b[0m\n\u001b[1;32m     58\u001b[0m     \u001b[0mdates_datetime_chosen\u001b[0m\u001b[0;34m=\u001b[0m\u001b[0mdates_datetime\u001b[0m\u001b[0;34m[\u001b[0m\u001b[0mbegin\u001b[0m\u001b[0;34m:\u001b[0m\u001b[0mend\u001b[0m\u001b[0;34m+\u001b[0m\u001b[0;36m1\u001b[0m\u001b[0;34m]\u001b[0m\u001b[0;34m\u001b[0m\u001b[0;34m\u001b[0m\u001b[0m\n\u001b[1;32m     59\u001b[0m     \u001b[0mdates\u001b[0m \u001b[0;34m=\u001b[0m \u001b[0mdates_datetime_chosen\u001b[0m\u001b[0;34m\u001b[0m\u001b[0;34m\u001b[0m\u001b[0m\n\u001b[0;32m---> 60\u001b[0;31m     \u001b[0mexp\u001b[0m \u001b[0;34m=\u001b[0m \u001b[0mpickle\u001b[0m\u001b[0;34m.\u001b[0m\u001b[0mload\u001b[0m\u001b[0;34m(\u001b[0m \u001b[0mopen\u001b[0m\u001b[0;34m(\u001b[0m\u001b[0;34mf'{directory}/Analysis_Plate{plate}_{dates[0]}_{dates[-1]}/experiment_{plate}.pick'\u001b[0m\u001b[0;34m,\u001b[0m \u001b[0;34m\"rb\"\u001b[0m \u001b[0;34m)\u001b[0m \u001b[0;34m)\u001b[0m\u001b[0;34m\u001b[0m\u001b[0;34m\u001b[0m\u001b[0m\n\u001b[0m\u001b[1;32m     61\u001b[0m     \u001b[0;32mreturn\u001b[0m\u001b[0;34m(\u001b[0m\u001b[0mexp\u001b[0m\u001b[0;34m)\u001b[0m\u001b[0;34m\u001b[0m\u001b[0;34m\u001b[0m\u001b[0m\n\u001b[1;32m     62\u001b[0m \u001b[0;34m\u001b[0m\u001b[0m\n",
      "\u001b[0;32m~/anaconda3/envs/test/lib/python3.7/site-packages/networkx/classes/reportviews.py\u001b[0m in \u001b[0;36m__setstate__\u001b[0;34m(self, state)\u001b[0m\n\u001b[1;32m    171\u001b[0m         \u001b[0;32mreturn\u001b[0m \u001b[0;34m{\u001b[0m\u001b[0;34m\"_nodes\"\u001b[0m\u001b[0;34m:\u001b[0m \u001b[0mself\u001b[0m\u001b[0;34m.\u001b[0m\u001b[0m_nodes\u001b[0m\u001b[0;34m}\u001b[0m\u001b[0;34m\u001b[0m\u001b[0;34m\u001b[0m\u001b[0m\n\u001b[1;32m    172\u001b[0m \u001b[0;34m\u001b[0m\u001b[0m\n\u001b[0;32m--> 173\u001b[0;31m     \u001b[0;32mdef\u001b[0m \u001b[0m__setstate__\u001b[0m\u001b[0;34m(\u001b[0m\u001b[0mself\u001b[0m\u001b[0;34m,\u001b[0m \u001b[0mstate\u001b[0m\u001b[0;34m)\u001b[0m\u001b[0;34m:\u001b[0m\u001b[0;34m\u001b[0m\u001b[0;34m\u001b[0m\u001b[0m\n\u001b[0m\u001b[1;32m    174\u001b[0m         \u001b[0mself\u001b[0m\u001b[0;34m.\u001b[0m\u001b[0m_nodes\u001b[0m \u001b[0;34m=\u001b[0m \u001b[0mstate\u001b[0m\u001b[0;34m[\u001b[0m\u001b[0;34m\"_nodes\"\u001b[0m\u001b[0;34m]\u001b[0m\u001b[0;34m\u001b[0m\u001b[0;34m\u001b[0m\u001b[0m\n\u001b[1;32m    175\u001b[0m \u001b[0;34m\u001b[0m\u001b[0m\n",
      "\u001b[0;31mKeyboardInterrupt\u001b[0m: "
     ]
    }
   ],
   "source": [
    "from amftrack.notebooks.analysis.data_info import *\n",
    "inst_25 = [(13,0,25),(35,0,15),(29,0,20),(9,0,11),(9,13,35),(3,0,19),(37,0,8),(11,0,30),(19,0,25),(39,0,18)]\n",
    "inst_bait = [(10,0,10), (14,0,11), (33,0,26),(4,2,18),(4,20,30),(39,117,137),(12,5,21),(28,0,14),(32,5,14),(32,15,44),(36,0,9),(40,0,14),(2,1,15),(2,17,35),(5,160,168),(11,158,164),(13,116,131)]\n",
    "inst_30 = []\n",
    "inst_25late = [(40,153,153+37),(39,269,329),(40,262,287)]\n",
    "treatments = {'25*' : inst_25late,'25' : inst_25,'baits' : inst_bait, '30' : inst_30}\n",
    "plate_number = {(9,0,11) : 296, (9,13,35) : 296, (3,0,19) : 340, (37,0,8) : 269,(11,0,30) : 314, (19,0,25) : 344, (13,0,25) : 298, (39,0,18) : 297, (35,0,15) : 351,(10,0,10) : 395,(14,0,11) : 399, (33,0,26) : 420, (4,2,18) : 423, (4,20,30) : 423,(8,0,17): 434 ,(8,20,30) : 434,(39,117,137) : 433, (12,5,21) : 436, (28,0,14): 405,(32,5,45):409,(36,0,9) : 419,(40,0,14) : 425,(2,1,15):435,(2,17,35):435,(5,160,168):382,(11,158,164) : 416,(13,116,131) : 424, (29,0,20) : 373,(32,15,44):409, (32,5,14) : 409, (40,153,153+37) : 69,(39,269,329) : 94, (40,262,287) : 102}\n",
    "path = directory_project\n",
    "pixel_conversion_factor = 1.725\n",
    "\n",
    "def get_pos_nut(inst, t, nutrient):\n",
    "    plate_num = plate_number[inst]\n",
    "    side_P = get_Pside(plate_num).values[0]\n",
    "    if nutrient == 'P':\n",
    "        side_nut = side_P\n",
    "    else:\n",
    "        side_nut ='left' if side_P=='right' else 'left'\n",
    "    if side_nut == 'none':\n",
    "        side_nut = 'right'\n",
    "    pos_nut = bait_positions[inst][t][side_nut]\n",
    "    return(pos_nut,side_nut)\n",
    "\n",
    "bait_positions={}\n",
    "for treatment in ['25','baits']:\n",
    "    insts = treatments[treatment]\n",
    "    for inst in insts:\n",
    "        bait_positions[inst] = pickle.load(open(f'{path_code}/MscThesis/Results/baits_{inst}.pick', \"rb\"))\n",
    "        \n",
    "for treatment in ['25']:\n",
    "    insts = treatments[treatment]\n",
    "    for inst in insts:\n",
    "        print(inst)\n",
    "        exp = get_exp(inst,path)\n",
    "        skeletons = [sparse.csr_matrix(skel) for skel in exp.skeletons]\n",
    "        RH, BAS, max_speeds, total_growths, widths_sp, lengths, branch_frequ,select_hyph = get_rh_bas(exp,criter)\n",
    "        pos_baits = bait_positions[inst]\n",
    "        for hyph in RH:\n",
    "            for i,t in enumerate(hyph.ts[:-1]):\n",
    "                pos_P, side_P = get_pos_nut(inst,t,'P')\n",
    "                pos_N, side_N = get_pos_nut(inst,t,'N')\n",
    "                pos = hyph.end.pos(t)\n",
    "                dist_P = np.linalg.norm(np.array(pos)-np.array(pos_P))*pixel_conversion_factor\n",
    "                print(pos_P,side_P,dist_P)\n",
    "            break\n",
    "        break"
   ]
  },
  {
   "cell_type": "code",
   "execution_count": 46,
   "metadata": {},
   "outputs": [
    {
     "name": "stdout",
     "output_type": "stream",
     "text": [
      "39383.50253984846\n",
      "38134.85184795694\n",
      "37863.62838534\n",
      "37478.33507749844\n",
      "39254.893206962115\n",
      "37257.55636952221\n",
      "39091.763052240305\n",
      "37421.00329555917\n",
      "32646.219789165487\n",
      "30704.642205780547\n",
      "33718.81538897275\n",
      "28899.95140465205\n",
      "25691.877651470415\n",
      "31347.669941520377\n",
      "30346.600702930882\n",
      "38314.170752167534\n",
      "39566.33237018722\n",
      "38458.836352862396\n",
      "38807.900839173526\n",
      "25556.800649790363\n",
      "37777.52024314526\n",
      "39997.573028528874\n"
     ]
    }
   ],
   "source": [
    "for hyph in RH:\n",
    "    for i,t in enumerate(hyph.ts[:-1]):\n",
    "        pos_P, side_P = get_pos_nut(inst,t,'P')\n",
    "        pos_N, side_N = get_pos_nut(inst,t,'N')\n",
    "        pos = hyph.end.pos(t)\n",
    "        dist_P = np.linalg.norm(np.array(pos)-np.array(pos_P))*pixel_conversion_factor\n",
    "        if (dist_P)<=40000:\n",
    "            print(dist_P)\n",
    "            break"
   ]
  },
  {
   "cell_type": "code",
   "execution_count": 45,
   "metadata": {},
   "outputs": [
    {
     "data": {
      "text/plain": [
       "212"
      ]
     },
     "execution_count": 45,
     "metadata": {},
     "output_type": "execute_result"
    }
   ],
   "source": [
    "len(RH)"
   ]
  },
  {
   "cell_type": "code",
   "execution_count": 51,
   "metadata": {},
   "outputs": [
    {
     "name": "stderr",
     "output_type": "stream",
     "text": [
      "/home/cbisot/anaconda3/envs/test/lib/python3.7/site-packages/matplotlib/__init__.py:880: MatplotlibDeprecationWarning: \n",
      "nbagg.transparent\n",
      "  version, key, obj_type=\"rcparam\", alternative=alt_key)\n"
     ]
    },
    {
     "data": {
      "application/vnd.jupyter.widget-view+json": {
       "model_id": "e0275374ccc3449c91d5c1f373115f00",
       "version_major": 2,
       "version_minor": 0
      },
      "text/plain": [
       "Canvas(toolbar=Toolbar(toolitems=[('Home', 'Reset original view', 'home', 'home'), ('Back', 'Back to previous …"
      ]
     },
     "metadata": {},
     "output_type": "display_data"
    }
   ],
   "source": [
    "plt.close('all')\n",
    "exp.plot([t],[[hyph.end.label]])"
   ]
  },
  {
   "cell_type": "code",
   "execution_count": 55,
   "metadata": {},
   "outputs": [
    {
     "data": {
      "text/plain": [
       "(array([12362, 33716]), (38542, 15469))"
      ]
     },
     "execution_count": 55,
     "metadata": {},
     "output_type": "execute_result"
    }
   ],
   "source": [
    "pos,pos_P"
   ]
  },
  {
   "cell_type": "code",
   "execution_count": 54,
   "metadata": {},
   "outputs": [
    {
     "data": {
      "text/plain": [
       "33500"
      ]
     },
     "execution_count": 54,
     "metadata": {},
     "output_type": "execute_result"
    }
   ],
   "source": [
    "6700*5"
   ]
  },
  {
   "cell_type": "code",
   "execution_count": 50,
   "metadata": {},
   "outputs": [],
   "source": [
    "exp.load_compressed_skel()"
   ]
  },
  {
   "cell_type": "code",
   "execution_count": 40,
   "metadata": {},
   "outputs": [
    {
     "data": {
      "text/plain": [
       "11894.293420848924"
      ]
     },
     "execution_count": 40,
     "metadata": {},
     "output_type": "execute_result"
    }
   ],
   "source": [
    "np.linalg.norm(np.array(pos)-np.array(pos_N))*pixel_conversion_factor"
   ]
  },
  {
   "cell_type": "code",
   "execution_count": 52,
   "metadata": {},
   "outputs": [
    {
     "data": {
      "application/vnd.jupyter.widget-view+json": {
       "model_id": "6519f03405294a1faf77105411558a0c",
       "version_major": 2,
       "version_minor": 0
      },
      "text/plain": [
       "Canvas(toolbar=Toolbar(toolitems=[('Home', 'Reset original view', 'home', 'home'), ('Back', 'Back to previous …"
      ]
     },
     "metadata": {},
     "output_type": "display_data"
    }
   ],
   "source": [
    "exp.plot_raw(t)"
   ]
  },
  {
   "cell_type": "code",
   "execution_count": 21,
   "metadata": {},
   "outputs": [],
   "source": [
    "date = exp.dates[t]\n",
    "directory_name = get_dirname(date,exp.plate)\n",
    "path_snap = directory + directory_name\n",
    "skel_info = read_mat(path_snap+'/Analysis/skeleton_realigned_compressed.mat')\n",
    "skel = skel_info['skeleton']\n",
    "#     skels.append(skel)\n",
    "kernel = np.ones((5, 5), np.uint8)\n",
    "itera=1\n",
    "final_skel= cv2.dilate(skel.astype(np.uint8),kernel,iterations = itera)"
   ]
  },
  {
   "cell_type": "code",
   "execution_count": 27,
   "metadata": {},
   "outputs": [
    {
     "data": {
      "text/plain": [
       "16"
      ]
     },
     "execution_count": 27,
     "metadata": {},
     "output_type": "execute_result"
    }
   ],
   "source": [
    "exp.ts"
   ]
  },
  {
   "cell_type": "code",
   "execution_count": 7,
   "metadata": {},
   "outputs": [],
   "source": [
    "import os  \n",
    "import sys  \n",
    "sys.path.insert(0, os.getenv('HOME')+'/pycode/MscThesis/')\n",
    "sys.path.append( '/home/cbisot/pycode/MscThesis/amftrack/pipeline/functions')\n",
    "\n",
    "from amftrack.notebooks.analysis.util import *\n",
    "from amftrack.pipeline.paths.directory import path_code, directory_scratch, directory_project\n",
    "from amftrack.notebooks.analysis.data_info import *\n",
    "# for treatment in ['25','baits']:\n",
    "#     insts = treatments[treatment]\n",
    "#     for inst in insts:\n",
    "#         exp = get_exp(inst,directory_project)\n",
    "#         pos_baits_time = []\n",
    "#         for t in range(exp.ts):\n",
    "#             baits=get_pos_baits_aligned(exp,t)\n",
    "#             pos_baits_time.append(baits)\n",
    "#         pickle.dump(pos_baits_time, open(f'{path_code}/MscThesis/Results/baits_{inst}.pick', \"wb\"))"
   ]
  },
  {
   "cell_type": "code",
   "execution_count": 32,
   "metadata": {},
   "outputs": [],
   "source": [
    "bait_positions={}\n",
    "for treatment in ['25','baits']:\n",
    "    insts = treatments[treatment]\n",
    "    for inst in insts:\n",
    "        bait_positions[inst] = pickle.load(open(f'{path_code}/MscThesis/Results/baits_{inst}.pick', \"rb\"))"
   ]
  },
  {
   "cell_type": "code",
   "execution_count": 63,
   "metadata": {},
   "outputs": [
    {
     "data": {
      "text/plain": [
       "{'right': (32925, 13085), 'left': (5325, 11825)}"
      ]
     },
     "execution_count": 63,
     "metadata": {},
     "output_type": "execute_result"
    }
   ],
   "source": [
    "bait_positions[35,0,15][0][]"
   ]
  },
  {
   "cell_type": "code",
   "execution_count": null,
   "metadata": {},
   "outputs": [],
   "source": [
    "from amftrack.notebooks.analysis.util import *\n",
    "from amftrack.pipeline.paths.directory import path_code, directory_scratch, directory_project\n",
    "from amftrack.notebooks.analysis.data_info import *\n",
    "window=800\n",
    "for treatment in treatments.keys():\n",
    "    insts = treatments[treatment]\n",
    "    for inst in insts:\n",
    "        pos_baits = bait_positions[inst]\n",
    "        result = get_curvature_density(inst,window,directory_project,pos_baits)\n",
    "        pickle.dump(result, open(f'{path_code}/MscThesis/Results/straight_{window}_{inst}.pick', \"wb\"))"
   ]
  },
  {
   "cell_type": "code",
   "execution_count": 9,
   "metadata": {},
   "outputs": [],
   "source": [
    "def get_pos_nut(inst, t, nutrient):\n",
    "    plate_num = plate_number[inst]\n",
    "    side_P = get_Pside(plate_num).values[0]\n",
    "    if nutrient == 'P':\n",
    "        side_nut = side_P\n",
    "    else:\n",
    "        side_nut ='left' if side_P=='right' else 'left'\n",
    "    if side_nut == 'none':\n",
    "        side_nut = 'right'\n",
    "    pos_nut = bait_positions[inst][t][side_nut]\n",
    "    return(pos_nut,side_nut)"
   ]
  },
  {
   "cell_type": "code",
   "execution_count": 87,
   "metadata": {},
   "outputs": [
    {
     "name": "stdout",
     "output_type": "stream",
     "text": [
      "b\n"
     ]
    },
    {
     "data": {
      "text/plain": [
       "((32925, 13085), 'right')"
      ]
     },
     "execution_count": 87,
     "metadata": {},
     "output_type": "execute_result"
    }
   ],
   "source": [
    "get_pos_nut((35,0,15),0,'P')"
   ]
  },
  {
   "cell_type": "code",
   "execution_count": 34,
   "metadata": {},
   "outputs": [],
   "source": [
    "def get_angle(veca,vecb):\n",
    "    begin = veca/np.linalg.norm(veca)\n",
    "    end = vecb/np.linalg.norm(vecb)\n",
    "    dot_product = min(np.dot(begin, end),1)\n",
    "    if (begin[1] * end[0] - end[1] * begin[0] >= 0):  # determinant\n",
    "        angle = -np.arccos(dot_product) / (2 * np.pi) * 360\n",
    "    else:\n",
    "        angle = np.arccos(dot_product) / (2 * np.pi) * 360\n",
    "    return(angle)\n",
    "\n",
    "def get_curvature_density_bait(window, path,pos_baits):\n",
    "    column_names = [\"plate\",\"inst\", \"treatment\", \"angle\", \"curvature\",\"density\",\"growth\",\"speed\",\n",
    "                    \"straightness\",\"dist_P\",\"dist_N\",\"angle_to_P\",\"angle_to_N\",\"t\",\"hyph\"]\n",
    "    infos = pd.DataFrame(columns=column_names)\n",
    "    for treatment in ['25','baits']:\n",
    "        insts = treatments[treatment]\n",
    "        for inst in insts:\n",
    "            exp = get_exp(inst,path)\n",
    "            skeletons = [sparse.csr_matrix(skel) for skel in exp.skeletons]\n",
    "            RH, BAS, max_speeds, total_growths, widths_sp, lengths, branch_frequ,select_hyph = get_rh_bas(exp,criter)\n",
    "            pos_baits = bait_positions[inst]\n",
    "            for hyph in RH:\n",
    "                for i,t in enumerate(hyph.ts[:-1]):\n",
    "                    pos_P, side_P = get_pos_nut(inst,t,'P')\n",
    "                    pos_N, side_N = get_pos_nut(inst,t,'N')\n",
    "                    tp1=hyph.ts[i+1]\n",
    "                    segs,nodes = get_pixel_growth_and_new_children(hyph,t,tp1)\n",
    "                    speed = np.sum([get_length_um(seg) for seg in segs])/get_time(exp,t,tp1)\n",
    "                    total_growth = speed * get_time(exp,t,tp1)\n",
    "                    curve = [pixel for seg in segs for pixel in seg]\n",
    "                    pos = hyph.end.pos(t)\n",
    "                    dist_P = np.linalg.norm(np.array(pos)-np.array(pos_P))\n",
    "                    dist_N = np.linalg.norm(np.array(pos)-np.array(pos_N))\n",
    "                    x,y = pos[0],pos[1]\n",
    "                    straight_distance = np.linalg.norm(hyph.end.pos(t)-hyph.end.pos(tp1))\n",
    "                    skeleton=skeletons[t][x-window:x+window,y-window:y+window]\n",
    "                    density = skeleton.count_nonzero()/(window*1.725)\n",
    "                    curve_array = np.array(curve)\n",
    "                    res = 50\n",
    "                    index = min(res,curve_array.shape[0]-1)\n",
    "                    vec1 = curve_array [index]-curve_array [0]\n",
    "                    vec2 = curve_array [-1]-curve_array [-index-1]\n",
    "                    if np.linalg.norm(vec1)>0 and np.linalg.norm(vec2)>0:\n",
    "                        angle = get_angle(vec1,vec2)\n",
    "                        vec_growth =  (vec1+vec2)/2\n",
    "                        vec_to_P = np.array(pos_P)-np.array(pos)\n",
    "                        angle_to_P = get_angle(vec_growth,vec_to_P)\n",
    "                        vec_to_N = np.array(pos_N)-np.array(pos)\n",
    "                        angle_to_N = get_angle(vec_growth,vec_to_N)\n",
    "                        inv_tortuosity = (straight_distance*1.725)/total_growth\n",
    "                        if hyph.end.degree(tp1)<3 and inv_tortuosity>0.8 and inv_tortuosity<1.1:\n",
    "                            if np.isnan((angle/total_growth)):\n",
    "                                print(angle,total_growth,dot_product)\n",
    "                            new_line = pd.DataFrame(\n",
    "                                {   \"plate\": [plate_number[inst]],\n",
    "                                    \"inst\": [inst],\n",
    "                                    \"treatment\": [treatment],\n",
    "                                    \"angle\": [angle],\n",
    "                                    \"curvature\": [angle/total_growth],\n",
    "                                    \"density\": [density],\n",
    "                                    \"growth\": [total_growth],\n",
    "                                    \"speed\": [speed],\n",
    "                                    \"straightness\": [inv_tortuosity],\n",
    "                                     \"t\": [get_time(exp,0,t)],\n",
    "                                     \"hyph\": [hyph.end.label],\n",
    "                                    \"dist_P\":[dist_P],\n",
    "                                     \"dist_N\":[dist_N],\n",
    "                                    \"angle_to_P\":[angle_to_P],\n",
    "                                    \"angle_to_N\":[angle_to_N]\n",
    "                                }\n",
    "                            )  # index 0 for\n",
    "                            # mothers need to be modified to resolve multi mother issue\n",
    "                            infos = infos.append(new_line, ignore_index=True)\n",
    "            break\n",
    "        break\n",
    "    return(infos)"
   ]
  },
  {
   "cell_type": "code",
   "execution_count": 35,
   "metadata": {},
   "outputs": [
    {
     "name": "stdout",
     "output_type": "stream",
     "text": [
      "begin = 2020-08-26 18:02:00 \n",
      "  end = 2020-08-29 06:03:00\n"
     ]
    }
   ],
   "source": [
    "infos = get_curvature_density_bait(800, directory_project,bait_positions)"
   ]
  },
  {
   "cell_type": "code",
   "execution_count": 36,
   "metadata": {},
   "outputs": [
    {
     "data": {
      "text/html": [
       "<div>\n",
       "<style scoped>\n",
       "    .dataframe tbody tr th:only-of-type {\n",
       "        vertical-align: middle;\n",
       "    }\n",
       "\n",
       "    .dataframe tbody tr th {\n",
       "        vertical-align: top;\n",
       "    }\n",
       "\n",
       "    .dataframe thead th {\n",
       "        text-align: right;\n",
       "    }\n",
       "</style>\n",
       "<table border=\"1\" class=\"dataframe\">\n",
       "  <thead>\n",
       "    <tr style=\"text-align: right;\">\n",
       "      <th></th>\n",
       "      <th>plate</th>\n",
       "      <th>inst</th>\n",
       "      <th>treatment</th>\n",
       "      <th>angle</th>\n",
       "      <th>curvature</th>\n",
       "      <th>density</th>\n",
       "      <th>growth</th>\n",
       "      <th>speed</th>\n",
       "      <th>straightness</th>\n",
       "      <th>dist_P</th>\n",
       "      <th>dist_N</th>\n",
       "      <th>angle_to_P</th>\n",
       "      <th>angle_to_N</th>\n",
       "      <th>t</th>\n",
       "      <th>hyph</th>\n",
       "    </tr>\n",
       "  </thead>\n",
       "  <tbody>\n",
       "    <tr>\n",
       "      <th>0</th>\n",
       "      <td>351</td>\n",
       "      <td>(35, 0, 15)</td>\n",
       "      <td>25</td>\n",
       "      <td>-44.627955</td>\n",
       "      <td>-0.220995</td>\n",
       "      <td>1.423188</td>\n",
       "      <td>201.941059</td>\n",
       "      <td>50.485265</td>\n",
       "      <td>0.908600</td>\n",
       "      <td>30174.769676</td>\n",
       "      <td>2555.543973</td>\n",
       "      <td>-166.513522</td>\n",
       "      <td>-171.246818</td>\n",
       "      <td>0.000000</td>\n",
       "      <td>0</td>\n",
       "    </tr>\n",
       "    <tr>\n",
       "      <th>1</th>\n",
       "      <td>351</td>\n",
       "      <td>(35, 0, 15)</td>\n",
       "      <td>25</td>\n",
       "      <td>18.091350</td>\n",
       "      <td>0.063647</td>\n",
       "      <td>0.925362</td>\n",
       "      <td>284.245706</td>\n",
       "      <td>71.061426</td>\n",
       "      <td>0.956046</td>\n",
       "      <td>29408.835169</td>\n",
       "      <td>3883.177307</td>\n",
       "      <td>178.189595</td>\n",
       "      <td>118.890568</td>\n",
       "      <td>0.000000</td>\n",
       "      <td>18</td>\n",
       "    </tr>\n",
       "    <tr>\n",
       "      <th>2</th>\n",
       "      <td>351</td>\n",
       "      <td>(35, 0, 15)</td>\n",
       "      <td>25</td>\n",
       "      <td>59.052703</td>\n",
       "      <td>0.218164</td>\n",
       "      <td>0.765217</td>\n",
       "      <td>270.680056</td>\n",
       "      <td>67.670014</td>\n",
       "      <td>0.910669</td>\n",
       "      <td>29627.815731</td>\n",
       "      <td>3950.743221</td>\n",
       "      <td>126.875173</td>\n",
       "      <td>69.009309</td>\n",
       "      <td>4.000000</td>\n",
       "      <td>18</td>\n",
       "    </tr>\n",
       "    <tr>\n",
       "      <th>3</th>\n",
       "      <td>351</td>\n",
       "      <td>(35, 0, 15)</td>\n",
       "      <td>25</td>\n",
       "      <td>-10.236040</td>\n",
       "      <td>-0.040914</td>\n",
       "      <td>0.850000</td>\n",
       "      <td>250.186905</td>\n",
       "      <td>62.546726</td>\n",
       "      <td>0.994030</td>\n",
       "      <td>29827.664022</td>\n",
       "      <td>3954.542957</td>\n",
       "      <td>171.968238</td>\n",
       "      <td>118.122538</td>\n",
       "      <td>12.000000</td>\n",
       "      <td>18</td>\n",
       "    </tr>\n",
       "    <tr>\n",
       "      <th>4</th>\n",
       "      <td>351</td>\n",
       "      <td>(35, 0, 15)</td>\n",
       "      <td>25</td>\n",
       "      <td>10.731002</td>\n",
       "      <td>0.033386</td>\n",
       "      <td>0.844203</td>\n",
       "      <td>321.420439</td>\n",
       "      <td>80.355110</td>\n",
       "      <td>0.988017</td>\n",
       "      <td>29968.457318</td>\n",
       "      <td>4013.256159</td>\n",
       "      <td>159.874112</td>\n",
       "      <td>107.556851</td>\n",
       "      <td>16.000000</td>\n",
       "      <td>18</td>\n",
       "    </tr>\n",
       "    <tr>\n",
       "      <th>...</th>\n",
       "      <td>...</td>\n",
       "      <td>...</td>\n",
       "      <td>...</td>\n",
       "      <td>...</td>\n",
       "      <td>...</td>\n",
       "      <td>...</td>\n",
       "      <td>...</td>\n",
       "      <td>...</td>\n",
       "      <td>...</td>\n",
       "      <td>...</td>\n",
       "      <td>...</td>\n",
       "      <td>...</td>\n",
       "      <td>...</td>\n",
       "      <td>...</td>\n",
       "      <td>...</td>\n",
       "    </tr>\n",
       "    <tr>\n",
       "      <th>197</th>\n",
       "      <td>351</td>\n",
       "      <td>(35, 0, 15)</td>\n",
       "      <td>25</td>\n",
       "      <td>16.831669</td>\n",
       "      <td>0.033944</td>\n",
       "      <td>2.695652</td>\n",
       "      <td>495.858547</td>\n",
       "      <td>123.450261</td>\n",
       "      <td>0.993517</td>\n",
       "      <td>30123.640036</td>\n",
       "      <td>5507.035954</td>\n",
       "      <td>69.279857</td>\n",
       "      <td>10.448132</td>\n",
       "      <td>52.000000</td>\n",
       "      <td>18328</td>\n",
       "    </tr>\n",
       "    <tr>\n",
       "      <th>198</th>\n",
       "      <td>351</td>\n",
       "      <td>(35, 0, 15)</td>\n",
       "      <td>25</td>\n",
       "      <td>11.477627</td>\n",
       "      <td>0.024167</td>\n",
       "      <td>2.403623</td>\n",
       "      <td>474.929134</td>\n",
       "      <td>118.732283</td>\n",
       "      <td>0.989865</td>\n",
       "      <td>30008.752490</td>\n",
       "      <td>5235.354525</td>\n",
       "      <td>63.271028</td>\n",
       "      <td>4.516098</td>\n",
       "      <td>56.016667</td>\n",
       "      <td>18328</td>\n",
       "    </tr>\n",
       "    <tr>\n",
       "      <th>199</th>\n",
       "      <td>351</td>\n",
       "      <td>(35, 0, 15)</td>\n",
       "      <td>25</td>\n",
       "      <td>-1.287329</td>\n",
       "      <td>-0.003983</td>\n",
       "      <td>2.012319</td>\n",
       "      <td>323.236513</td>\n",
       "      <td>80.473821</td>\n",
       "      <td>0.997782</td>\n",
       "      <td>31278.590841</td>\n",
       "      <td>15190.895464</td>\n",
       "      <td>160.987925</td>\n",
       "      <td>98.778468</td>\n",
       "      <td>52.000000</td>\n",
       "      <td>18430</td>\n",
       "    </tr>\n",
       "    <tr>\n",
       "      <th>200</th>\n",
       "      <td>351</td>\n",
       "      <td>(35, 0, 15)</td>\n",
       "      <td>25</td>\n",
       "      <td>4.020104</td>\n",
       "      <td>0.010164</td>\n",
       "      <td>2.113043</td>\n",
       "      <td>395.533246</td>\n",
       "      <td>98.883311</td>\n",
       "      <td>0.999591</td>\n",
       "      <td>31436.568785</td>\n",
       "      <td>15224.193443</td>\n",
       "      <td>168.497144</td>\n",
       "      <td>106.884749</td>\n",
       "      <td>56.016667</td>\n",
       "      <td>18430</td>\n",
       "    </tr>\n",
       "    <tr>\n",
       "      <th>201</th>\n",
       "      <td>351</td>\n",
       "      <td>(35, 0, 15)</td>\n",
       "      <td>25</td>\n",
       "      <td>3.535732</td>\n",
       "      <td>0.008695</td>\n",
       "      <td>0.903623</td>\n",
       "      <td>406.618688</td>\n",
       "      <td>101.654672</td>\n",
       "      <td>0.998808</td>\n",
       "      <td>28887.987763</td>\n",
       "      <td>20269.894573</td>\n",
       "      <td>136.581401</td>\n",
       "      <td>70.801048</td>\n",
       "      <td>56.016667</td>\n",
       "      <td>19818</td>\n",
       "    </tr>\n",
       "  </tbody>\n",
       "</table>\n",
       "<p>202 rows × 15 columns</p>\n",
       "</div>"
      ],
      "text/plain": [
       "    plate         inst treatment      angle  curvature   density      growth  \\\n",
       "0     351  (35, 0, 15)        25 -44.627955  -0.220995  1.423188  201.941059   \n",
       "1     351  (35, 0, 15)        25  18.091350   0.063647  0.925362  284.245706   \n",
       "2     351  (35, 0, 15)        25  59.052703   0.218164  0.765217  270.680056   \n",
       "3     351  (35, 0, 15)        25 -10.236040  -0.040914  0.850000  250.186905   \n",
       "4     351  (35, 0, 15)        25  10.731002   0.033386  0.844203  321.420439   \n",
       "..    ...          ...       ...        ...        ...       ...         ...   \n",
       "197   351  (35, 0, 15)        25  16.831669   0.033944  2.695652  495.858547   \n",
       "198   351  (35, 0, 15)        25  11.477627   0.024167  2.403623  474.929134   \n",
       "199   351  (35, 0, 15)        25  -1.287329  -0.003983  2.012319  323.236513   \n",
       "200   351  (35, 0, 15)        25   4.020104   0.010164  2.113043  395.533246   \n",
       "201   351  (35, 0, 15)        25   3.535732   0.008695  0.903623  406.618688   \n",
       "\n",
       "          speed  straightness        dist_P        dist_N  angle_to_P  \\\n",
       "0     50.485265      0.908600  30174.769676   2555.543973 -166.513522   \n",
       "1     71.061426      0.956046  29408.835169   3883.177307  178.189595   \n",
       "2     67.670014      0.910669  29627.815731   3950.743221  126.875173   \n",
       "3     62.546726      0.994030  29827.664022   3954.542957  171.968238   \n",
       "4     80.355110      0.988017  29968.457318   4013.256159  159.874112   \n",
       "..          ...           ...           ...           ...         ...   \n",
       "197  123.450261      0.993517  30123.640036   5507.035954   69.279857   \n",
       "198  118.732283      0.989865  30008.752490   5235.354525   63.271028   \n",
       "199   80.473821      0.997782  31278.590841  15190.895464  160.987925   \n",
       "200   98.883311      0.999591  31436.568785  15224.193443  168.497144   \n",
       "201  101.654672      0.998808  28887.987763  20269.894573  136.581401   \n",
       "\n",
       "     angle_to_N          t   hyph  \n",
       "0   -171.246818   0.000000      0  \n",
       "1    118.890568   0.000000     18  \n",
       "2     69.009309   4.000000     18  \n",
       "3    118.122538  12.000000     18  \n",
       "4    107.556851  16.000000     18  \n",
       "..          ...        ...    ...  \n",
       "197   10.448132  52.000000  18328  \n",
       "198    4.516098  56.016667  18328  \n",
       "199   98.778468  52.000000  18430  \n",
       "200  106.884749  56.016667  18430  \n",
       "201   70.801048  56.016667  19818  \n",
       "\n",
       "[202 rows x 15 columns]"
      ]
     },
     "execution_count": 36,
     "metadata": {},
     "output_type": "execute_result"
    }
   ],
   "source": [
    "infos"
   ]
  },
  {
   "cell_type": "code",
   "execution_count": 26,
   "metadata": {},
   "outputs": [],
   "source": [
    "window = 800"
   ]
  },
  {
   "cell_type": "code",
   "execution_count": 27,
   "metadata": {},
   "outputs": [],
   "source": [
    "pickle.dump(infos, open(f'{path_code}/MscThesis/Results/straight_bait_{window}_{inst}.pick', \"wb\"))"
   ]
  },
  {
   "cell_type": "code",
   "execution_count": 30,
   "metadata": {},
   "outputs": [],
   "source": [
    "infos2 = pickle.load(open(f'{path_code}/MscThesis/Results/straight_bait_{window}_{inst}.pick', \"rb\"))"
   ]
  },
  {
   "cell_type": "code",
   "execution_count": 33,
   "metadata": {},
   "outputs": [
    {
     "data": {
      "text/plain": [
       "(13, 116, 131)"
      ]
     },
     "execution_count": 33,
     "metadata": {},
     "output_type": "execute_result"
    }
   ],
   "source": [
    "inst"
   ]
  }
 ],
 "metadata": {
  "kernelspec": {
   "display_name": "Python 3",
   "language": "python",
   "name": "python3"
  },
  "language_info": {
   "codemirror_mode": {
    "name": "ipython",
    "version": 3
   },
   "file_extension": ".py",
   "mimetype": "text/x-python",
   "name": "python",
   "nbconvert_exporter": "python",
   "pygments_lexer": "ipython3",
   "version": "3.7.7"
  }
 },
 "nbformat": 4,
 "nbformat_minor": 4
}

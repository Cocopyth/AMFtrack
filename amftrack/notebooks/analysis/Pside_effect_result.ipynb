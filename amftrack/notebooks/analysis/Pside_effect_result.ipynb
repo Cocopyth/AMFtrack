{
 "cells": [
  {
   "cell_type": "code",
   "execution_count": 1,
   "metadata": {},
   "outputs": [],
   "source": [
    "%matplotlib widget\n",
    "\n",
    "import os  \n",
    "import sys  \n",
    "sys.path.insert(0, os.getenv('HOME')+'/pycode/MscThesis/')\n",
    "import pandas as pd\n",
    "from amftrack.util import get_dates_datetime, get_dirname, get_plate_number, get_postion_number\n",
    "\n",
    "import ast\n",
    "from amftrack.plotutil import plot_t_tp1\n",
    "from scipy import sparse\n",
    "from datetime import datetime\n",
    "from amftrack.pipeline.functions.node_id import orient\n",
    "import pickle\n",
    "import scipy.io as sio\n",
    "from pymatreader import read_mat\n",
    "from matplotlib import colors\n",
    "import cv2\n",
    "import imageio\n",
    "import matplotlib.pyplot as plt\n",
    "import numpy as np\n",
    "from skimage.filters import frangi\n",
    "from skimage import filters\n",
    "from random import choice\n",
    "import scipy.sparse\n",
    "import os\n",
    "from amftrack.pipeline.functions.extract_graph import from_sparse_to_graph, generate_nx_graph, sparse_to_doc\n",
    "from skimage.feature import hessian_matrix_det\n",
    "from amftrack.pipeline.functions.experiment_class_surf import Experiment\n",
    "from amftrack.pipeline.paths.directory import run_parallel, find_state, directory_scratch, directory_project, path_code\n",
    "\n",
    "from amftrack.notebooks.analysis.data_info import *\n",
    "import matplotlib.patches as mpatches\n",
    "from statsmodels.stats import weightstats as stests\n",
    "from mpl_toolkits.mplot3d import Axes3D"
   ]
  },
  {
   "cell_type": "code",
   "execution_count": 2,
   "metadata": {},
   "outputs": [],
   "source": [
    "window=800\n",
    "infos = pickle.load(open(f'{path_code}/MscThesis/Results/straight_bait_{window}.pick', \"rb\"))"
   ]
  },
  {
   "cell_type": "code",
   "execution_count": 3,
   "metadata": {},
   "outputs": [],
   "source": [
    "infos.to_csv(f'{path_code}/MscThesis/Results/straight_bait_{window}.csv')"
   ]
  },
  {
   "cell_type": "code",
   "execution_count": 23,
   "metadata": {},
   "outputs": [
    {
     "data": {
      "text/plain": [
       "0       11025.0\n",
       "1       24649.0\n",
       "2       10816.0\n",
       "3       20736.0\n",
       "4       30976.0\n",
       "         ...   \n",
       "8254     1600.0\n",
       "8255    53361.0\n",
       "8256    42849.0\n",
       "8257    98596.0\n",
       "8258     3249.0\n",
       "Name: vx, Length: 8259, dtype: float64"
      ]
     },
     "execution_count": 23,
     "metadata": {},
     "output_type": "execute_result"
    }
   ],
   "source": [
    "(infos['vx']**2).astype(float)"
   ]
  },
  {
   "cell_type": "code",
   "execution_count": 24,
   "metadata": {},
   "outputs": [],
   "source": [
    "infos['abs_angle_to_P']=np.abs(infos['angle_to_P'])\n",
    "infos['inv_dens']=1/infos['density']\n",
    "infos['side_cross']=infos.apply (lambda row: comments[row['plate']] if row['plate'] in comments.keys() else 'None', axis=1)\n",
    "blur = 10\n",
    "infos['spvgd']=(infos['vx']*infos[f'grad_density_x{blur}']+infos['vy']*infos[f'grad_density_y{blur}'])/np.sqrt((infos['vx']**2+infos['vy']**2).astype(float))"
   ]
  },
  {
   "cell_type": "code",
   "execution_count": 11,
   "metadata": {},
   "outputs": [],
   "source": [
    "corrected = infos.loc[(infos[\"straightness\"] <= 1)& (infos[\"speed\"] >=25)& (infos[\"speed\"] <400)&(infos[\"straightness\"] > 0.95)&(infos[\"density\"]>0)]"
   ]
  },
  {
   "cell_type": "code",
   "execution_count": 7,
   "metadata": {},
   "outputs": [
    {
     "name": "stderr",
     "output_type": "stream",
     "text": [
      "/home/cbisot/anaconda3/envs/test/lib/python3.7/site-packages/ipykernel_launcher.py:1: SettingWithCopyWarning: \n",
      "A value is trying to be set on a copy of a slice from a DataFrame.\n",
      "Try using .loc[row_indexer,col_indexer] = value instead\n",
      "\n",
      "See the caveats in the documentation: https://pandas.pydata.org/pandas-docs/stable/user_guide/indexing.html#returning-a-view-versus-a-copy\n",
      "  \"\"\"Entry point for launching an IPython kernel.\n",
      "/home/cbisot/anaconda3/envs/test/lib/python3.7/site-packages/ipykernel_launcher.py:2: SettingWithCopyWarning: \n",
      "A value is trying to be set on a copy of a slice from a DataFrame.\n",
      "Try using .loc[row_indexer,col_indexer] = value instead\n",
      "\n",
      "See the caveats in the documentation: https://pandas.pydata.org/pandas-docs/stable/user_guide/indexing.html#returning-a-view-versus-a-copy\n",
      "  \n",
      "/home/cbisot/anaconda3/envs/test/lib/python3.7/site-packages/ipykernel_launcher.py:3: SettingWithCopyWarning: \n",
      "A value is trying to be set on a copy of a slice from a DataFrame.\n",
      "Try using .loc[row_indexer,col_indexer] = value instead\n",
      "\n",
      "See the caveats in the documentation: https://pandas.pydata.org/pandas-docs/stable/user_guide/indexing.html#returning-a-view-versus-a-copy\n",
      "  This is separate from the ipykernel package so we can avoid doing imports until\n"
     ]
    }
   ],
   "source": [
    "corrected['abs_angle_to_P']=np.abs(corrected['angle_to_P'])\n",
    "corrected['inv_dens']=1/corrected['density']\n",
    "corrected['side_cross']=corrected.apply (lambda row: comments[row['plate']] if row['plate'] in comments.keys() else 'None', axis=1)\n",
    "# corrected['residual']=corrected['speed']-f(corrected['inv_dens'])"
   ]
  },
  {
   "cell_type": "code",
   "execution_count": 6,
   "metadata": {
    "collapsed": true,
    "jupyter": {
     "outputs_hidden": true
    }
   },
   "outputs": [
    {
     "data": {
      "text/html": [
       "<div>\n",
       "<style scoped>\n",
       "    .dataframe tbody tr th:only-of-type {\n",
       "        vertical-align: middle;\n",
       "    }\n",
       "\n",
       "    .dataframe tbody tr th {\n",
       "        vertical-align: top;\n",
       "    }\n",
       "\n",
       "    .dataframe thead th {\n",
       "        text-align: right;\n",
       "    }\n",
       "</style>\n",
       "<table border=\"1\" class=\"dataframe\">\n",
       "  <thead>\n",
       "    <tr style=\"text-align: right;\">\n",
       "      <th></th>\n",
       "      <th>plate</th>\n",
       "      <th>inst</th>\n",
       "      <th>treatment</th>\n",
       "      <th>angle</th>\n",
       "      <th>curvature</th>\n",
       "      <th>density</th>\n",
       "      <th>growth</th>\n",
       "      <th>speed</th>\n",
       "      <th>straightness</th>\n",
       "      <th>dist_P</th>\n",
       "      <th>dist_N</th>\n",
       "      <th>angle_to_P</th>\n",
       "      <th>angle_to_N</th>\n",
       "      <th>t</th>\n",
       "      <th>hyph</th>\n",
       "      <th>abs_angle_to_P</th>\n",
       "      <th>side_cross</th>\n",
       "      <th>side_P_bait</th>\n",
       "    </tr>\n",
       "  </thead>\n",
       "  <tbody>\n",
       "    <tr>\n",
       "      <th>1</th>\n",
       "      <td>351</td>\n",
       "      <td>(35, 0, 15)</td>\n",
       "      <td>25</td>\n",
       "      <td>18.091350</td>\n",
       "      <td>0.063647</td>\n",
       "      <td>0.925362</td>\n",
       "      <td>284.245706</td>\n",
       "      <td>71.061426</td>\n",
       "      <td>0.956046</td>\n",
       "      <td>34520.041525</td>\n",
       "      <td>22307.329306</td>\n",
       "      <td>-115.775736</td>\n",
       "      <td>132.013276</td>\n",
       "      <td>0.0</td>\n",
       "      <td>18</td>\n",
       "      <td>115.775736</td>\n",
       "      <td>None</td>\n",
       "      <td>None</td>\n",
       "    </tr>\n",
       "    <tr>\n",
       "      <th>3</th>\n",
       "      <td>351</td>\n",
       "      <td>(35, 0, 15)</td>\n",
       "      <td>25</td>\n",
       "      <td>-10.236040</td>\n",
       "      <td>-0.040914</td>\n",
       "      <td>0.850000</td>\n",
       "      <td>250.186905</td>\n",
       "      <td>62.546726</td>\n",
       "      <td>0.994030</td>\n",
       "      <td>35106.987977</td>\n",
       "      <td>22538.780688</td>\n",
       "      <td>-122.946939</td>\n",
       "      <td>127.129363</td>\n",
       "      <td>12.0</td>\n",
       "      <td>18</td>\n",
       "      <td>122.946939</td>\n",
       "      <td>None</td>\n",
       "      <td>None</td>\n",
       "    </tr>\n",
       "    <tr>\n",
       "      <th>4</th>\n",
       "      <td>351</td>\n",
       "      <td>(35, 0, 15)</td>\n",
       "      <td>25</td>\n",
       "      <td>10.731002</td>\n",
       "      <td>0.033386</td>\n",
       "      <td>0.844203</td>\n",
       "      <td>321.420439</td>\n",
       "      <td>80.355110</td>\n",
       "      <td>0.988017</td>\n",
       "      <td>35226.293042</td>\n",
       "      <td>22724.596184</td>\n",
       "      <td>-135.382220</td>\n",
       "      <td>115.455469</td>\n",
       "      <td>16.0</td>\n",
       "      <td>18</td>\n",
       "      <td>135.382220</td>\n",
       "      <td>None</td>\n",
       "      <td>None</td>\n",
       "    </tr>\n",
       "    <tr>\n",
       "      <th>5</th>\n",
       "      <td>351</td>\n",
       "      <td>(35, 0, 15)</td>\n",
       "      <td>25</td>\n",
       "      <td>2.423771</td>\n",
       "      <td>0.009316</td>\n",
       "      <td>0.905797</td>\n",
       "      <td>260.161868</td>\n",
       "      <td>65.040467</td>\n",
       "      <td>0.956446</td>\n",
       "      <td>35449.164207</td>\n",
       "      <td>22837.868690</td>\n",
       "      <td>-134.832478</td>\n",
       "      <td>117.066914</td>\n",
       "      <td>20.0</td>\n",
       "      <td>18</td>\n",
       "      <td>134.832478</td>\n",
       "      <td>None</td>\n",
       "      <td>None</td>\n",
       "    </tr>\n",
       "    <tr>\n",
       "      <th>6</th>\n",
       "      <td>351</td>\n",
       "      <td>(35, 0, 15)</td>\n",
       "      <td>25</td>\n",
       "      <td>-2.428157</td>\n",
       "      <td>-0.008189</td>\n",
       "      <td>0.996377</td>\n",
       "      <td>296.517106</td>\n",
       "      <td>74.129276</td>\n",
       "      <td>0.987698</td>\n",
       "      <td>35555.161080</td>\n",
       "      <td>22949.549433</td>\n",
       "      <td>-148.352615</td>\n",
       "      <td>104.458145</td>\n",
       "      <td>24.0</td>\n",
       "      <td>18</td>\n",
       "      <td>148.352615</td>\n",
       "      <td>None</td>\n",
       "      <td>None</td>\n",
       "    </tr>\n",
       "    <tr>\n",
       "      <th>...</th>\n",
       "      <td>...</td>\n",
       "      <td>...</td>\n",
       "      <td>...</td>\n",
       "      <td>...</td>\n",
       "      <td>...</td>\n",
       "      <td>...</td>\n",
       "      <td>...</td>\n",
       "      <td>...</td>\n",
       "      <td>...</td>\n",
       "      <td>...</td>\n",
       "      <td>...</td>\n",
       "      <td>...</td>\n",
       "      <td>...</td>\n",
       "      <td>...</td>\n",
       "      <td>...</td>\n",
       "      <td>...</td>\n",
       "      <td>...</td>\n",
       "      <td>...</td>\n",
       "    </tr>\n",
       "    <tr>\n",
       "      <th>8252</th>\n",
       "      <td>424</td>\n",
       "      <td>(13, 116, 131)</td>\n",
       "      <td>baits</td>\n",
       "      <td>7.281669</td>\n",
       "      <td>0.012852</td>\n",
       "      <td>0.903623</td>\n",
       "      <td>566.586163</td>\n",
       "      <td>141.646541</td>\n",
       "      <td>0.968746</td>\n",
       "      <td>47451.023860</td>\n",
       "      <td>16077.494264</td>\n",
       "      <td>37.023983</td>\n",
       "      <td>-65.400035</td>\n",
       "      <td>56.0</td>\n",
       "      <td>10105</td>\n",
       "      <td>37.023983</td>\n",
       "      <td>left</td>\n",
       "      <td>right</td>\n",
       "    </tr>\n",
       "    <tr>\n",
       "      <th>8253</th>\n",
       "      <td>424</td>\n",
       "      <td>(13, 116, 131)</td>\n",
       "      <td>baits</td>\n",
       "      <td>-20.905807</td>\n",
       "      <td>-0.030679</td>\n",
       "      <td>2.035507</td>\n",
       "      <td>681.432714</td>\n",
       "      <td>170.358178</td>\n",
       "      <td>0.984990</td>\n",
       "      <td>46972.393814</td>\n",
       "      <td>15827.563481</td>\n",
       "      <td>39.025778</td>\n",
       "      <td>-65.624935</td>\n",
       "      <td>60.0</td>\n",
       "      <td>10105</td>\n",
       "      <td>39.025778</td>\n",
       "      <td>left</td>\n",
       "      <td>right</td>\n",
       "    </tr>\n",
       "    <tr>\n",
       "      <th>8255</th>\n",
       "      <td>424</td>\n",
       "      <td>(13, 116, 131)</td>\n",
       "      <td>baits</td>\n",
       "      <td>24.176796</td>\n",
       "      <td>0.050994</td>\n",
       "      <td>1.960870</td>\n",
       "      <td>474.114541</td>\n",
       "      <td>118.528635</td>\n",
       "      <td>0.992319</td>\n",
       "      <td>45906.669249</td>\n",
       "      <td>14455.405413</td>\n",
       "      <td>-130.594397</td>\n",
       "      <td>116.497577</td>\n",
       "      <td>60.0</td>\n",
       "      <td>11031</td>\n",
       "      <td>130.594397</td>\n",
       "      <td>left</td>\n",
       "      <td>right</td>\n",
       "    </tr>\n",
       "    <tr>\n",
       "      <th>8256</th>\n",
       "      <td>424</td>\n",
       "      <td>(13, 116, 131)</td>\n",
       "      <td>baits</td>\n",
       "      <td>16.548582</td>\n",
       "      <td>0.029624</td>\n",
       "      <td>2.907971</td>\n",
       "      <td>558.616681</td>\n",
       "      <td>139.654170</td>\n",
       "      <td>0.981037</td>\n",
       "      <td>46240.456212</td>\n",
       "      <td>14676.851572</td>\n",
       "      <td>-150.235475</td>\n",
       "      <td>99.643155</td>\n",
       "      <td>64.0</td>\n",
       "      <td>11031</td>\n",
       "      <td>150.235475</td>\n",
       "      <td>left</td>\n",
       "      <td>right</td>\n",
       "    </tr>\n",
       "    <tr>\n",
       "      <th>8258</th>\n",
       "      <td>424</td>\n",
       "      <td>(13, 116, 131)</td>\n",
       "      <td>baits</td>\n",
       "      <td>-4.696472</td>\n",
       "      <td>-0.005160</td>\n",
       "      <td>0.913043</td>\n",
       "      <td>910.196464</td>\n",
       "      <td>227.549116</td>\n",
       "      <td>0.995172</td>\n",
       "      <td>26260.858892</td>\n",
       "      <td>27261.517155</td>\n",
       "      <td>14.305168</td>\n",
       "      <td>-179.955330</td>\n",
       "      <td>64.0</td>\n",
       "      <td>12330</td>\n",
       "      <td>14.305168</td>\n",
       "      <td>left</td>\n",
       "      <td>right</td>\n",
       "    </tr>\n",
       "  </tbody>\n",
       "</table>\n",
       "<p>5860 rows × 18 columns</p>\n",
       "</div>"
      ],
      "text/plain": [
       "     plate            inst treatment      angle  curvature   density  \\\n",
       "1      351     (35, 0, 15)        25  18.091350   0.063647  0.925362   \n",
       "3      351     (35, 0, 15)        25 -10.236040  -0.040914  0.850000   \n",
       "4      351     (35, 0, 15)        25  10.731002   0.033386  0.844203   \n",
       "5      351     (35, 0, 15)        25   2.423771   0.009316  0.905797   \n",
       "6      351     (35, 0, 15)        25  -2.428157  -0.008189  0.996377   \n",
       "...    ...             ...       ...        ...        ...       ...   \n",
       "8252   424  (13, 116, 131)     baits   7.281669   0.012852  0.903623   \n",
       "8253   424  (13, 116, 131)     baits -20.905807  -0.030679  2.035507   \n",
       "8255   424  (13, 116, 131)     baits  24.176796   0.050994  1.960870   \n",
       "8256   424  (13, 116, 131)     baits  16.548582   0.029624  2.907971   \n",
       "8258   424  (13, 116, 131)     baits  -4.696472  -0.005160  0.913043   \n",
       "\n",
       "          growth       speed  straightness        dist_P        dist_N  \\\n",
       "1     284.245706   71.061426      0.956046  34520.041525  22307.329306   \n",
       "3     250.186905   62.546726      0.994030  35106.987977  22538.780688   \n",
       "4     321.420439   80.355110      0.988017  35226.293042  22724.596184   \n",
       "5     260.161868   65.040467      0.956446  35449.164207  22837.868690   \n",
       "6     296.517106   74.129276      0.987698  35555.161080  22949.549433   \n",
       "...          ...         ...           ...           ...           ...   \n",
       "8252  566.586163  141.646541      0.968746  47451.023860  16077.494264   \n",
       "8253  681.432714  170.358178      0.984990  46972.393814  15827.563481   \n",
       "8255  474.114541  118.528635      0.992319  45906.669249  14455.405413   \n",
       "8256  558.616681  139.654170      0.981037  46240.456212  14676.851572   \n",
       "8258  910.196464  227.549116      0.995172  26260.858892  27261.517155   \n",
       "\n",
       "      angle_to_P  angle_to_N     t   hyph  abs_angle_to_P side_cross  \\\n",
       "1    -115.775736  132.013276   0.0     18      115.775736       None   \n",
       "3    -122.946939  127.129363  12.0     18      122.946939       None   \n",
       "4    -135.382220  115.455469  16.0     18      135.382220       None   \n",
       "5    -134.832478  117.066914  20.0     18      134.832478       None   \n",
       "6    -148.352615  104.458145  24.0     18      148.352615       None   \n",
       "...          ...         ...   ...    ...             ...        ...   \n",
       "8252   37.023983  -65.400035  56.0  10105       37.023983       left   \n",
       "8253   39.025778  -65.624935  60.0  10105       39.025778       left   \n",
       "8255 -130.594397  116.497577  60.0  11031      130.594397       left   \n",
       "8256 -150.235475   99.643155  64.0  11031      150.235475       left   \n",
       "8258   14.305168 -179.955330  64.0  12330       14.305168       left   \n",
       "\n",
       "     side_P_bait  \n",
       "1           None  \n",
       "3           None  \n",
       "4           None  \n",
       "5           None  \n",
       "6           None  \n",
       "...          ...  \n",
       "8252       right  \n",
       "8253       right  \n",
       "8255       right  \n",
       "8256       right  \n",
       "8258       right  \n",
       "\n",
       "[5860 rows x 18 columns]"
      ]
     },
     "execution_count": 6,
     "metadata": {},
     "output_type": "execute_result"
    }
   ],
   "source": [
    "corrected"
   ]
  },
  {
   "cell_type": "code",
   "execution_count": 20,
   "metadata": {},
   "outputs": [
    {
     "data": {
      "text/plain": [
       "'right'"
      ]
     },
     "execution_count": 20,
     "metadata": {},
     "output_type": "execute_result"
    }
   ],
   "source": [
    "get_Pside(395).values[0]"
   ]
  },
  {
   "cell_type": "code",
   "execution_count": 5,
   "metadata": {},
   "outputs": [
    {
     "name": "stderr",
     "output_type": "stream",
     "text": [
      "/home/cbisot/anaconda3/envs/test/lib/python3.7/site-packages/ipykernel_launcher.py:5: SettingWithCopyWarning: \n",
      "A value is trying to be set on a copy of a slice from a DataFrame.\n",
      "Try using .loc[row_indexer,col_indexer] = value instead\n",
      "\n",
      "See the caveats in the documentation: https://pandas.pydata.org/pandas-docs/stable/user_guide/indexing.html#returning-a-view-versus-a-copy\n",
      "  \"\"\"\n"
     ]
    }
   ],
   "source": [
    "def get_Pside(plate_number):\n",
    "    return(plate_info.loc[plate_info['Plate #'] == plate_number]['P-bait'])\n",
    "path_code = \"/home/cbisot/pycode/\"\n",
    "plate_info = pd.read_excel(path_code + 'MscThesis/plate_info/SummaryAnalizedPlates.xlsx',engine='openpyxl',header=3,)\n",
    "corrected['side_P_bait']=corrected.apply (lambda row: get_Pside(row['plate']).values[0] if row['plate'] in comments.keys() else 'None', axis=1)"
   ]
  },
  {
   "cell_type": "code",
   "execution_count": 72,
   "metadata": {},
   "outputs": [],
   "source": [
    "baits = corrected.loc[corrected ['treatment']=='baits']"
   ]
  },
  {
   "cell_type": "code",
   "execution_count": 57,
   "metadata": {
    "collapsed": true,
    "jupyter": {
     "outputs_hidden": true
    }
   },
   "outputs": [
    {
     "data": {
      "text/html": [
       "<div>\n",
       "<style scoped>\n",
       "    .dataframe tbody tr th:only-of-type {\n",
       "        vertical-align: middle;\n",
       "    }\n",
       "\n",
       "    .dataframe tbody tr th {\n",
       "        vertical-align: top;\n",
       "    }\n",
       "\n",
       "    .dataframe thead th {\n",
       "        text-align: right;\n",
       "    }\n",
       "</style>\n",
       "<table border=\"1\" class=\"dataframe\">\n",
       "  <thead>\n",
       "    <tr style=\"text-align: right;\">\n",
       "      <th></th>\n",
       "      <th>plate</th>\n",
       "      <th>inst</th>\n",
       "      <th>treatment</th>\n",
       "      <th>angle</th>\n",
       "      <th>curvature</th>\n",
       "      <th>density</th>\n",
       "      <th>growth</th>\n",
       "      <th>speed</th>\n",
       "      <th>straightness</th>\n",
       "      <th>dist_P</th>\n",
       "      <th>dist_N</th>\n",
       "      <th>angle_to_P</th>\n",
       "      <th>angle_to_N</th>\n",
       "      <th>t</th>\n",
       "      <th>hyph</th>\n",
       "      <th>abs_angle_to_P</th>\n",
       "      <th>inv_dens</th>\n",
       "      <th>side_cross</th>\n",
       "      <th>residual</th>\n",
       "    </tr>\n",
       "  </thead>\n",
       "  <tbody>\n",
       "    <tr>\n",
       "      <th>3913</th>\n",
       "      <td>395</td>\n",
       "      <td>(10, 0, 10)</td>\n",
       "      <td>baits</td>\n",
       "      <td>6.554181</td>\n",
       "      <td>0.028963</td>\n",
       "      <td>1.000725</td>\n",
       "      <td>226.294882</td>\n",
       "      <td>56.573721</td>\n",
       "      <td>0.990876</td>\n",
       "      <td>15350.350868</td>\n",
       "      <td>44853.955251</td>\n",
       "      <td>-51.626442</td>\n",
       "      <td>-170.251998</td>\n",
       "      <td>16.0</td>\n",
       "      <td>99</td>\n",
       "      <td>51.626442</td>\n",
       "      <td>0.999276</td>\n",
       "      <td>ignore</td>\n",
       "      <td>NaN</td>\n",
       "    </tr>\n",
       "    <tr>\n",
       "      <th>3914</th>\n",
       "      <td>395</td>\n",
       "      <td>(10, 0, 10)</td>\n",
       "      <td>baits</td>\n",
       "      <td>-11.309932</td>\n",
       "      <td>-0.030246</td>\n",
       "      <td>0.857971</td>\n",
       "      <td>373.937647</td>\n",
       "      <td>93.484412</td>\n",
       "      <td>0.986906</td>\n",
       "      <td>15196.256183</td>\n",
       "      <td>45088.839997</td>\n",
       "      <td>-49.022529</td>\n",
       "      <td>-167.205634</td>\n",
       "      <td>20.0</td>\n",
       "      <td>99</td>\n",
       "      <td>49.022529</td>\n",
       "      <td>1.165541</td>\n",
       "      <td>ignore</td>\n",
       "      <td>NaN</td>\n",
       "    </tr>\n",
       "    <tr>\n",
       "      <th>3915</th>\n",
       "      <td>395</td>\n",
       "      <td>(10, 0, 10)</td>\n",
       "      <td>baits</td>\n",
       "      <td>4.466079</td>\n",
       "      <td>0.008599</td>\n",
       "      <td>0.728261</td>\n",
       "      <td>519.382846</td>\n",
       "      <td>129.845711</td>\n",
       "      <td>0.996801</td>\n",
       "      <td>14969.600490</td>\n",
       "      <td>45535.581956</td>\n",
       "      <td>-50.207648</td>\n",
       "      <td>-167.382359</td>\n",
       "      <td>24.0</td>\n",
       "      <td>99</td>\n",
       "      <td>50.207648</td>\n",
       "      <td>1.373134</td>\n",
       "      <td>ignore</td>\n",
       "      <td>NaN</td>\n",
       "    </tr>\n",
       "    <tr>\n",
       "      <th>3916</th>\n",
       "      <td>395</td>\n",
       "      <td>(10, 0, 10)</td>\n",
       "      <td>baits</td>\n",
       "      <td>-4.467159</td>\n",
       "      <td>-0.007155</td>\n",
       "      <td>0.587681</td>\n",
       "      <td>624.316099</td>\n",
       "      <td>156.079025</td>\n",
       "      <td>0.991340</td>\n",
       "      <td>14598.383522</td>\n",
       "      <td>45908.993600</td>\n",
       "      <td>-54.918511</td>\n",
       "      <td>-170.866374</td>\n",
       "      <td>28.0</td>\n",
       "      <td>99</td>\n",
       "      <td>54.918511</td>\n",
       "      <td>1.701603</td>\n",
       "      <td>ignore</td>\n",
       "      <td>NaN</td>\n",
       "    </tr>\n",
       "    <tr>\n",
       "      <th>3917</th>\n",
       "      <td>395</td>\n",
       "      <td>(10, 0, 10)</td>\n",
       "      <td>baits</td>\n",
       "      <td>12.260655</td>\n",
       "      <td>0.016484</td>\n",
       "      <td>0.657246</td>\n",
       "      <td>743.776576</td>\n",
       "      <td>185.172591</td>\n",
       "      <td>0.996342</td>\n",
       "      <td>14278.909935</td>\n",
       "      <td>46657.081149</td>\n",
       "      <td>-58.661901</td>\n",
       "      <td>-172.566551</td>\n",
       "      <td>32.0</td>\n",
       "      <td>99</td>\n",
       "      <td>58.661901</td>\n",
       "      <td>1.521499</td>\n",
       "      <td>ignore</td>\n",
       "      <td>NaN</td>\n",
       "    </tr>\n",
       "    <tr>\n",
       "      <th>...</th>\n",
       "      <td>...</td>\n",
       "      <td>...</td>\n",
       "      <td>...</td>\n",
       "      <td>...</td>\n",
       "      <td>...</td>\n",
       "      <td>...</td>\n",
       "      <td>...</td>\n",
       "      <td>...</td>\n",
       "      <td>...</td>\n",
       "      <td>...</td>\n",
       "      <td>...</td>\n",
       "      <td>...</td>\n",
       "      <td>...</td>\n",
       "      <td>...</td>\n",
       "      <td>...</td>\n",
       "      <td>...</td>\n",
       "      <td>...</td>\n",
       "      <td>...</td>\n",
       "      <td>...</td>\n",
       "    </tr>\n",
       "    <tr>\n",
       "      <th>8252</th>\n",
       "      <td>424</td>\n",
       "      <td>(13, 116, 131)</td>\n",
       "      <td>baits</td>\n",
       "      <td>7.281669</td>\n",
       "      <td>0.012852</td>\n",
       "      <td>0.903623</td>\n",
       "      <td>566.586163</td>\n",
       "      <td>141.646541</td>\n",
       "      <td>0.968746</td>\n",
       "      <td>47451.023860</td>\n",
       "      <td>16077.494264</td>\n",
       "      <td>37.023983</td>\n",
       "      <td>-65.400035</td>\n",
       "      <td>56.0</td>\n",
       "      <td>10105</td>\n",
       "      <td>37.023983</td>\n",
       "      <td>1.106656</td>\n",
       "      <td>left</td>\n",
       "      <td>-104.521580</td>\n",
       "    </tr>\n",
       "    <tr>\n",
       "      <th>8253</th>\n",
       "      <td>424</td>\n",
       "      <td>(13, 116, 131)</td>\n",
       "      <td>baits</td>\n",
       "      <td>-20.905807</td>\n",
       "      <td>-0.030679</td>\n",
       "      <td>2.035507</td>\n",
       "      <td>681.432714</td>\n",
       "      <td>170.358178</td>\n",
       "      <td>0.984990</td>\n",
       "      <td>46972.393814</td>\n",
       "      <td>15827.563481</td>\n",
       "      <td>39.025778</td>\n",
       "      <td>-65.624935</td>\n",
       "      <td>60.0</td>\n",
       "      <td>10105</td>\n",
       "      <td>39.025778</td>\n",
       "      <td>0.491278</td>\n",
       "      <td>left</td>\n",
       "      <td>-37.823611</td>\n",
       "    </tr>\n",
       "    <tr>\n",
       "      <th>8255</th>\n",
       "      <td>424</td>\n",
       "      <td>(13, 116, 131)</td>\n",
       "      <td>baits</td>\n",
       "      <td>24.176796</td>\n",
       "      <td>0.050994</td>\n",
       "      <td>1.960870</td>\n",
       "      <td>474.114541</td>\n",
       "      <td>118.528635</td>\n",
       "      <td>0.992319</td>\n",
       "      <td>45906.669249</td>\n",
       "      <td>14455.405413</td>\n",
       "      <td>-130.594397</td>\n",
       "      <td>116.497577</td>\n",
       "      <td>60.0</td>\n",
       "      <td>11031</td>\n",
       "      <td>130.594397</td>\n",
       "      <td>0.509978</td>\n",
       "      <td>left</td>\n",
       "      <td>-93.484518</td>\n",
       "    </tr>\n",
       "    <tr>\n",
       "      <th>8256</th>\n",
       "      <td>424</td>\n",
       "      <td>(13, 116, 131)</td>\n",
       "      <td>baits</td>\n",
       "      <td>16.548582</td>\n",
       "      <td>0.029624</td>\n",
       "      <td>2.907971</td>\n",
       "      <td>558.616681</td>\n",
       "      <td>139.654170</td>\n",
       "      <td>0.981037</td>\n",
       "      <td>46240.456212</td>\n",
       "      <td>14676.851572</td>\n",
       "      <td>-150.235475</td>\n",
       "      <td>99.643155</td>\n",
       "      <td>64.0</td>\n",
       "      <td>11031</td>\n",
       "      <td>150.235475</td>\n",
       "      <td>0.343882</td>\n",
       "      <td>left</td>\n",
       "      <td>-57.152447</td>\n",
       "    </tr>\n",
       "    <tr>\n",
       "      <th>8258</th>\n",
       "      <td>424</td>\n",
       "      <td>(13, 116, 131)</td>\n",
       "      <td>baits</td>\n",
       "      <td>-4.696472</td>\n",
       "      <td>-0.005160</td>\n",
       "      <td>0.913043</td>\n",
       "      <td>910.196464</td>\n",
       "      <td>227.549116</td>\n",
       "      <td>0.995172</td>\n",
       "      <td>26260.858892</td>\n",
       "      <td>27261.517155</td>\n",
       "      <td>14.305168</td>\n",
       "      <td>-179.955330</td>\n",
       "      <td>64.0</td>\n",
       "      <td>12330</td>\n",
       "      <td>14.305168</td>\n",
       "      <td>1.095238</td>\n",
       "      <td>left</td>\n",
       "      <td>-19.094910</td>\n",
       "    </tr>\n",
       "  </tbody>\n",
       "</table>\n",
       "<p>2956 rows × 19 columns</p>\n",
       "</div>"
      ],
      "text/plain": [
       "     plate            inst treatment      angle  curvature   density  \\\n",
       "3913   395     (10, 0, 10)     baits   6.554181   0.028963  1.000725   \n",
       "3914   395     (10, 0, 10)     baits -11.309932  -0.030246  0.857971   \n",
       "3915   395     (10, 0, 10)     baits   4.466079   0.008599  0.728261   \n",
       "3916   395     (10, 0, 10)     baits  -4.467159  -0.007155  0.587681   \n",
       "3917   395     (10, 0, 10)     baits  12.260655   0.016484  0.657246   \n",
       "...    ...             ...       ...        ...        ...       ...   \n",
       "8252   424  (13, 116, 131)     baits   7.281669   0.012852  0.903623   \n",
       "8253   424  (13, 116, 131)     baits -20.905807  -0.030679  2.035507   \n",
       "8255   424  (13, 116, 131)     baits  24.176796   0.050994  1.960870   \n",
       "8256   424  (13, 116, 131)     baits  16.548582   0.029624  2.907971   \n",
       "8258   424  (13, 116, 131)     baits  -4.696472  -0.005160  0.913043   \n",
       "\n",
       "          growth       speed  straightness        dist_P        dist_N  \\\n",
       "3913  226.294882   56.573721      0.990876  15350.350868  44853.955251   \n",
       "3914  373.937647   93.484412      0.986906  15196.256183  45088.839997   \n",
       "3915  519.382846  129.845711      0.996801  14969.600490  45535.581956   \n",
       "3916  624.316099  156.079025      0.991340  14598.383522  45908.993600   \n",
       "3917  743.776576  185.172591      0.996342  14278.909935  46657.081149   \n",
       "...          ...         ...           ...           ...           ...   \n",
       "8252  566.586163  141.646541      0.968746  47451.023860  16077.494264   \n",
       "8253  681.432714  170.358178      0.984990  46972.393814  15827.563481   \n",
       "8255  474.114541  118.528635      0.992319  45906.669249  14455.405413   \n",
       "8256  558.616681  139.654170      0.981037  46240.456212  14676.851572   \n",
       "8258  910.196464  227.549116      0.995172  26260.858892  27261.517155   \n",
       "\n",
       "      angle_to_P  angle_to_N     t   hyph  abs_angle_to_P  inv_dens  \\\n",
       "3913  -51.626442 -170.251998  16.0     99       51.626442  0.999276   \n",
       "3914  -49.022529 -167.205634  20.0     99       49.022529  1.165541   \n",
       "3915  -50.207648 -167.382359  24.0     99       50.207648  1.373134   \n",
       "3916  -54.918511 -170.866374  28.0     99       54.918511  1.701603   \n",
       "3917  -58.661901 -172.566551  32.0     99       58.661901  1.521499   \n",
       "...          ...         ...   ...    ...             ...       ...   \n",
       "8252   37.023983  -65.400035  56.0  10105       37.023983  1.106656   \n",
       "8253   39.025778  -65.624935  60.0  10105       39.025778  0.491278   \n",
       "8255 -130.594397  116.497577  60.0  11031      130.594397  0.509978   \n",
       "8256 -150.235475   99.643155  64.0  11031      150.235475  0.343882   \n",
       "8258   14.305168 -179.955330  64.0  12330       14.305168  1.095238   \n",
       "\n",
       "     side_cross    residual  \n",
       "3913     ignore         NaN  \n",
       "3914     ignore         NaN  \n",
       "3915     ignore         NaN  \n",
       "3916     ignore         NaN  \n",
       "3917     ignore         NaN  \n",
       "...         ...         ...  \n",
       "8252       left -104.521580  \n",
       "8253       left  -37.823611  \n",
       "8255       left  -93.484518  \n",
       "8256       left  -57.152447  \n",
       "8258       left  -19.094910  \n",
       "\n",
       "[2956 rows x 19 columns]"
      ]
     },
     "execution_count": 57,
     "metadata": {},
     "output_type": "execute_result"
    }
   ],
   "source": [
    "baits"
   ]
  },
  {
   "cell_type": "code",
   "execution_count": 35,
   "metadata": {},
   "outputs": [
    {
     "data": {
      "application/vnd.jupyter.widget-view+json": {
       "model_id": "c88dbf91f0ff4c73a226c81464011858",
       "version_major": 2,
       "version_minor": 0
      },
      "text/plain": [
       "Canvas(toolbar=Toolbar(toolitems=[('Home', 'Reset original view', 'home', 'home'), ('Back', 'Back to previous …"
      ]
     },
     "metadata": {},
     "output_type": "display_data"
    },
    {
     "name": "stderr",
     "output_type": "stream",
     "text": [
      "/home/cbisot/anaconda3/envs/test/lib/python3.7/site-packages/numpy/core/_asarray.py:83: VisibleDeprecationWarning: Creating an ndarray from ragged nested sequences (which is a list-or-tuple of lists-or-tuples-or ndarrays with different lengths or shapes) is deprecated. If you meant to do this, you must specify 'dtype=object' when creating the ndarray\n",
      "  return array(a, dtype, copy=False, order=order)\n"
     ]
    }
   ],
   "source": [
    "fig, ax = plt.subplots(nrows=1, ncols=1, figsize=(9, 4))\n",
    "bplot1 = corrected.boxplot(column = ['angle_to_P'],by=\"plate\",figsize =(9,8),ax =ax,patch_artist=True, showfliers=False, notch=True,showmeans = True)\n",
    "colors = 9*['lightblue']+ 16*['pink']\n",
    "for i,(artist, col) in enumerate(zip(ax.artists, colors)):\n",
    "    artist.set_edgecolor(col)\n",
    "    artist.set_facecolor(col) \n",
    "plt.show()"
   ]
  },
  {
   "cell_type": "code",
   "execution_count": 5,
   "metadata": {
    "collapsed": true,
    "jupyter": {
     "outputs_hidden": true
    }
   },
   "outputs": [
    {
     "name": "stderr",
     "output_type": "stream",
     "text": [
      "/home/cbisot/anaconda3/envs/test/lib/python3.7/site-packages/matplotlib/__init__.py:880: MatplotlibDeprecationWarning: \n",
      "nbagg.transparent\n",
      "  version, key, obj_type=\"rcparam\", alternative=alt_key)\n"
     ]
    },
    {
     "data": {
      "application/vnd.jupyter.widget-view+json": {
       "model_id": "ef4723fc9fbc4ac7bf7ca01f179b4b11",
       "version_major": 2,
       "version_minor": 0
      },
      "text/plain": [
       "Canvas(toolbar=Toolbar(toolitems=[('Home', 'Reset original view', 'home', 'home'), ('Back', 'Back to previous …"
      ]
     },
     "metadata": {},
     "output_type": "display_data"
    }
   ],
   "source": [
    "fig = plt.figure()\n",
    "ax = plt.axes(projection='3d')\n",
    "X,Y,Z = baits['dist_P'], baits['angle_to_P'], baits['speed']\n",
    "ax.plot_trisurf(X, Y, Z,\n",
    "                cmap='viridis', edgecolor='none');\n",
    "# ax.scatter3D(baits['dist_P'], baits['angle_to_P'], baits['speed'], c=baits['speed'], cmap='Greens');"
   ]
  },
  {
   "cell_type": "code",
   "execution_count": 68,
   "metadata": {},
   "outputs": [],
   "source": [
    "compressa = 100\n",
    "compressb = 1\n",
    "count = np.zeros((70000//compressa,360//compressb,))\n",
    "color_map = np.zeros((70000//compressa,360//compressb,))\n",
    "# color_map[:] = np.nan"
   ]
  },
  {
   "cell_type": "code",
   "execution_count": 20,
   "metadata": {
    "collapsed": true,
    "jupyter": {
     "outputs_hidden": true
    }
   },
   "outputs": [
    {
     "data": {
      "text/plain": [
       "array([[395, (10, 0, 10), 'baits', ..., 158.13292123944194, 16.0, 99],\n",
       "       [395, (10, 0, 10), 'baits', ..., 161.43978079510393, 20.0, 99],\n",
       "       [395, (10, 0, 10), 'baits', ..., 161.44764937842342, 24.0, 99],\n",
       "       ...,\n",
       "       [424, (13, 116, 131), 'baits', ..., -143.43800607976135, 60.0,\n",
       "        11031],\n",
       "       [424, (13, 116, 131), 'baits', ..., -166.24713695505574, 64.0,\n",
       "        11031],\n",
       "       [424, (13, 116, 131), 'baits', ..., 146.41584795291794, 64.0,\n",
       "        12330]], dtype=object)"
      ]
     },
     "execution_count": 20,
     "metadata": {},
     "output_type": "execute_result"
    }
   ],
   "source": [
    "baits.values"
   ]
  },
  {
   "cell_type": "code",
   "execution_count": 69,
   "metadata": {},
   "outputs": [],
   "source": [
    "baits_copy = baits.copy()\n",
    "for index,row in baits_copy.iterrows():\n",
    "    new_row = row.copy()\n",
    "    if row['angle_to_P']>0:\n",
    "        new_row['angle_to_P']-=360\n",
    "    else:\n",
    "        new_row['angle_to_P']+=360\n",
    "    if row['angle_to_N']>0:\n",
    "        new_row['angle_to_N']-=360\n",
    "    else:\n",
    "        new_row['angle_to_N']+=360\n",
    "    baits = baits.append(new_row)\n"
   ]
  },
  {
   "cell_type": "code",
   "execution_count": 73,
   "metadata": {},
   "outputs": [],
   "source": [
    "for index,row in baits.iterrows():\n",
    "    x = int(row['dist_P'])//compressa\n",
    "    y = (int(row['angle_to_P'])+180)//compressb\n",
    "#     print(row['dist_P'])\n",
    "    color_map[x,y]+=row['residual']\n",
    "    count[x,y]+=1\n",
    "# color_map"
   ]
  },
  {
   "cell_type": "code",
   "execution_count": 74,
   "metadata": {},
   "outputs": [
    {
     "name": "stderr",
     "output_type": "stream",
     "text": [
      "/home/cbisot/anaconda3/envs/test/lib/python3.7/site-packages/ipykernel_launcher.py:1: RuntimeWarning: invalid value encountered in true_divide\n",
      "  \"\"\"Entry point for launching an IPython kernel.\n"
     ]
    }
   ],
   "source": [
    "compressed = (color_map/count)"
   ]
  },
  {
   "cell_type": "code",
   "execution_count": 75,
   "metadata": {},
   "outputs": [],
   "source": [
    "compressed[compressed==0]=np.nan"
   ]
  },
  {
   "cell_type": "code",
   "execution_count": 76,
   "metadata": {},
   "outputs": [
    {
     "name": "stderr",
     "output_type": "stream",
     "text": [
      "/home/cbisot/anaconda3/envs/test/lib/python3.7/site-packages/scipy/ndimage/filters.py:1528: RuntimeWarning: Mean of empty slice\n",
      "  cval, origins, extra_arguments, extra_keywords)\n"
     ]
    }
   ],
   "source": [
    "filtered=scipy.ndimage.generic_filter(compressed,np.nanmean,size=(100,50))"
   ]
  },
  {
   "cell_type": "code",
   "execution_count": 77,
   "metadata": {},
   "outputs": [
    {
     "data": {
      "application/vnd.jupyter.widget-view+json": {
       "model_id": "470f74aceb6f4de3a6b096011ef5ef7d",
       "version_major": 2,
       "version_minor": 0
      },
      "text/plain": [
       "Canvas(toolbar=Toolbar(toolitems=[('Home', 'Reset original view', 'home', 'home'), ('Back', 'Back to previous …"
      ]
     },
     "metadata": {},
     "output_type": "display_data"
    }
   ],
   "source": [
    "fig = plt.figure()\n",
    "ax = plt.axes()\n",
    "im=ax.imshow(filtered,cmap='Greens')\n",
    "labels = ['-180', '-90', '0','90','180']\n",
    "ax.set_xticks([0,90,180,270,360])\n",
    "ax.set_xticklabels(labels)\n",
    "ticks = [0,100,200,300,400,500,600,700]\n",
    "labels = [str(tick/10) for tick in ticks]\n",
    "ax.set_yticks(ticks)\n",
    "ax.set_yticklabels(labels)\n",
    "ax.set_xlabel('angle to P (°)')\n",
    "ax.set_ylabel('Distance from P (mm)')\n",
    "cbar = fig.colorbar(im)\n",
    "cbar.set_label('speed ($\\mu m.h^{-1}$)')"
   ]
  },
  {
   "cell_type": "code",
   "execution_count": 63,
   "metadata": {},
   "outputs": [
    {
     "data": {
      "text/plain": [
       "102.93925554679475"
      ]
     },
     "execution_count": 63,
     "metadata": {},
     "output_type": "execute_result"
    }
   ],
   "source": [
    "filtered[pos[0],pos[1]]"
   ]
  },
  {
   "cell_type": "code",
   "execution_count": 40,
   "metadata": {},
   "outputs": [],
   "source": [
    "x,y,z=[],[],[]\n",
    "for pos in np.argwhere(1- np.isnan(filtered)):\n",
    "    x.append(pos[0])\n",
    "    y.append(pos[1])\n",
    "    z.append(filtered[pos[0],pos[1]])\n"
   ]
  },
  {
   "cell_type": "code",
   "execution_count": 19,
   "metadata": {},
   "outputs": [
    {
     "ename": "TypeError",
     "evalue": "'int' object is not subscriptable",
     "output_type": "error",
     "traceback": [
      "\u001b[0;31m---------------------------------------------------------------------------\u001b[0m",
      "\u001b[0;31mTypeError\u001b[0m                                 Traceback (most recent call last)",
      "\u001b[0;32m<ipython-input-19-3c7b8ac1e475>\u001b[0m in \u001b[0;36m<module>\u001b[0;34m\u001b[0m\n\u001b[0;32m----> 1\u001b[0;31m \u001b[0mx\u001b[0m\u001b[0;34m[\u001b[0m\u001b[0;34m:\u001b[0m\u001b[0;36m10\u001b[0m\u001b[0;34m]\u001b[0m\u001b[0;34m,\u001b[0m\u001b[0my\u001b[0m\u001b[0;34m[\u001b[0m\u001b[0;34m:\u001b[0m\u001b[0;36m10\u001b[0m\u001b[0;34m]\u001b[0m\u001b[0;34m,\u001b[0m\u001b[0mz\u001b[0m\u001b[0;34m[\u001b[0m\u001b[0;34m:\u001b[0m\u001b[0;36m10\u001b[0m\u001b[0;34m]\u001b[0m\u001b[0;34m\u001b[0m\u001b[0;34m\u001b[0m\u001b[0m\n\u001b[0m",
      "\u001b[0;31mTypeError\u001b[0m: 'int' object is not subscriptable"
     ]
    }
   ],
   "source": [
    "x[:10],y[:10],z[:10]"
   ]
  },
  {
   "cell_type": "code",
   "execution_count": 41,
   "metadata": {},
   "outputs": [
    {
     "data": {
      "application/vnd.jupyter.widget-view+json": {
       "model_id": "e1a43b393770496cb8fe0089fa70eeee",
       "version_major": 2,
       "version_minor": 0
      },
      "text/plain": [
       "Canvas(toolbar=Toolbar(toolitems=[('Home', 'Reset original view', 'home', 'home'), ('Back', 'Back to previous …"
      ]
     },
     "metadata": {},
     "output_type": "display_data"
    }
   ],
   "source": [
    "plt.close('all')\n",
    "fig = plt.figure()\n",
    "ax = plt.axes(projection='3d')\n",
    "# X,Y,Z=baits['dist_P'], baits['angle_to_P'], baits['speed']\n",
    "# ax.plot_trisurf(x, y, z,\n",
    "#                 cmap='viridis', edgecolor='none');\n",
    "ax.scatter3D(x, y, z, c=z, cmap='Greens');"
   ]
  },
  {
   "cell_type": "code",
   "execution_count": 105,
   "metadata": {},
   "outputs": [],
   "source": [
    "no_baits = corrected .loc[corrected ['treatment']=='25']"
   ]
  },
  {
   "cell_type": "code",
   "execution_count": 34,
   "metadata": {
    "collapsed": true,
    "jupyter": {
     "outputs_hidden": true
    }
   },
   "outputs": [
    {
     "data": {
      "text/html": [
       "<div>\n",
       "<style scoped>\n",
       "    .dataframe tbody tr th:only-of-type {\n",
       "        vertical-align: middle;\n",
       "    }\n",
       "\n",
       "    .dataframe tbody tr th {\n",
       "        vertical-align: top;\n",
       "    }\n",
       "\n",
       "    .dataframe thead th {\n",
       "        text-align: right;\n",
       "    }\n",
       "</style>\n",
       "<table border=\"1\" class=\"dataframe\">\n",
       "  <thead>\n",
       "    <tr style=\"text-align: right;\">\n",
       "      <th></th>\n",
       "      <th>plate</th>\n",
       "      <th>inst</th>\n",
       "      <th>treatment</th>\n",
       "      <th>angle</th>\n",
       "      <th>curvature</th>\n",
       "      <th>density</th>\n",
       "      <th>growth</th>\n",
       "      <th>speed</th>\n",
       "      <th>straightness</th>\n",
       "      <th>dist_P</th>\n",
       "      <th>dist_N</th>\n",
       "      <th>angle_to_P</th>\n",
       "      <th>angle_to_N</th>\n",
       "      <th>t</th>\n",
       "      <th>hyph</th>\n",
       "      <th>abs_angle_to_P</th>\n",
       "      <th>side_cross</th>\n",
       "      <th>side_P_bait</th>\n",
       "    </tr>\n",
       "  </thead>\n",
       "  <tbody>\n",
       "    <tr>\n",
       "      <th>3913</th>\n",
       "      <td>395</td>\n",
       "      <td>(10, 0, 10)</td>\n",
       "      <td>baits</td>\n",
       "      <td>6.554181</td>\n",
       "      <td>0.028963</td>\n",
       "      <td>1.000725</td>\n",
       "      <td>226.294882</td>\n",
       "      <td>56.573721</td>\n",
       "      <td>0.990876</td>\n",
       "      <td>15350.350868</td>\n",
       "      <td>44853.955251</td>\n",
       "      <td>-51.626442</td>\n",
       "      <td>-170.251998</td>\n",
       "      <td>16.0</td>\n",
       "      <td>99</td>\n",
       "      <td>51.626442</td>\n",
       "      <td>ignore</td>\n",
       "      <td>right</td>\n",
       "    </tr>\n",
       "    <tr>\n",
       "      <th>3914</th>\n",
       "      <td>395</td>\n",
       "      <td>(10, 0, 10)</td>\n",
       "      <td>baits</td>\n",
       "      <td>-11.309932</td>\n",
       "      <td>-0.030246</td>\n",
       "      <td>0.857971</td>\n",
       "      <td>373.937647</td>\n",
       "      <td>93.484412</td>\n",
       "      <td>0.986906</td>\n",
       "      <td>15196.256183</td>\n",
       "      <td>45088.839997</td>\n",
       "      <td>-49.022529</td>\n",
       "      <td>-167.205634</td>\n",
       "      <td>20.0</td>\n",
       "      <td>99</td>\n",
       "      <td>49.022529</td>\n",
       "      <td>ignore</td>\n",
       "      <td>right</td>\n",
       "    </tr>\n",
       "    <tr>\n",
       "      <th>3915</th>\n",
       "      <td>395</td>\n",
       "      <td>(10, 0, 10)</td>\n",
       "      <td>baits</td>\n",
       "      <td>4.466079</td>\n",
       "      <td>0.008599</td>\n",
       "      <td>0.728261</td>\n",
       "      <td>519.382846</td>\n",
       "      <td>129.845711</td>\n",
       "      <td>0.996801</td>\n",
       "      <td>14969.600490</td>\n",
       "      <td>45535.581956</td>\n",
       "      <td>-50.207648</td>\n",
       "      <td>-167.382359</td>\n",
       "      <td>24.0</td>\n",
       "      <td>99</td>\n",
       "      <td>50.207648</td>\n",
       "      <td>ignore</td>\n",
       "      <td>right</td>\n",
       "    </tr>\n",
       "    <tr>\n",
       "      <th>3916</th>\n",
       "      <td>395</td>\n",
       "      <td>(10, 0, 10)</td>\n",
       "      <td>baits</td>\n",
       "      <td>-4.467159</td>\n",
       "      <td>-0.007155</td>\n",
       "      <td>0.587681</td>\n",
       "      <td>624.316099</td>\n",
       "      <td>156.079025</td>\n",
       "      <td>0.991340</td>\n",
       "      <td>14598.383522</td>\n",
       "      <td>45908.993600</td>\n",
       "      <td>-54.918511</td>\n",
       "      <td>-170.866374</td>\n",
       "      <td>28.0</td>\n",
       "      <td>99</td>\n",
       "      <td>54.918511</td>\n",
       "      <td>ignore</td>\n",
       "      <td>right</td>\n",
       "    </tr>\n",
       "    <tr>\n",
       "      <th>3917</th>\n",
       "      <td>395</td>\n",
       "      <td>(10, 0, 10)</td>\n",
       "      <td>baits</td>\n",
       "      <td>12.260655</td>\n",
       "      <td>0.016484</td>\n",
       "      <td>0.657246</td>\n",
       "      <td>743.776576</td>\n",
       "      <td>185.172591</td>\n",
       "      <td>0.996342</td>\n",
       "      <td>14278.909935</td>\n",
       "      <td>46657.081149</td>\n",
       "      <td>-58.661901</td>\n",
       "      <td>-172.566551</td>\n",
       "      <td>32.0</td>\n",
       "      <td>99</td>\n",
       "      <td>58.661901</td>\n",
       "      <td>ignore</td>\n",
       "      <td>right</td>\n",
       "    </tr>\n",
       "    <tr>\n",
       "      <th>...</th>\n",
       "      <td>...</td>\n",
       "      <td>...</td>\n",
       "      <td>...</td>\n",
       "      <td>...</td>\n",
       "      <td>...</td>\n",
       "      <td>...</td>\n",
       "      <td>...</td>\n",
       "      <td>...</td>\n",
       "      <td>...</td>\n",
       "      <td>...</td>\n",
       "      <td>...</td>\n",
       "      <td>...</td>\n",
       "      <td>...</td>\n",
       "      <td>...</td>\n",
       "      <td>...</td>\n",
       "      <td>...</td>\n",
       "      <td>...</td>\n",
       "      <td>...</td>\n",
       "    </tr>\n",
       "    <tr>\n",
       "      <th>8252</th>\n",
       "      <td>424</td>\n",
       "      <td>(13, 116, 131)</td>\n",
       "      <td>baits</td>\n",
       "      <td>7.281669</td>\n",
       "      <td>0.012852</td>\n",
       "      <td>0.903623</td>\n",
       "      <td>566.586163</td>\n",
       "      <td>141.646541</td>\n",
       "      <td>0.968746</td>\n",
       "      <td>47451.023860</td>\n",
       "      <td>16077.494264</td>\n",
       "      <td>37.023983</td>\n",
       "      <td>-65.400035</td>\n",
       "      <td>56.0</td>\n",
       "      <td>10105</td>\n",
       "      <td>37.023983</td>\n",
       "      <td>left</td>\n",
       "      <td>right</td>\n",
       "    </tr>\n",
       "    <tr>\n",
       "      <th>8253</th>\n",
       "      <td>424</td>\n",
       "      <td>(13, 116, 131)</td>\n",
       "      <td>baits</td>\n",
       "      <td>-20.905807</td>\n",
       "      <td>-0.030679</td>\n",
       "      <td>2.035507</td>\n",
       "      <td>681.432714</td>\n",
       "      <td>170.358178</td>\n",
       "      <td>0.984990</td>\n",
       "      <td>46972.393814</td>\n",
       "      <td>15827.563481</td>\n",
       "      <td>39.025778</td>\n",
       "      <td>-65.624935</td>\n",
       "      <td>60.0</td>\n",
       "      <td>10105</td>\n",
       "      <td>39.025778</td>\n",
       "      <td>left</td>\n",
       "      <td>right</td>\n",
       "    </tr>\n",
       "    <tr>\n",
       "      <th>8255</th>\n",
       "      <td>424</td>\n",
       "      <td>(13, 116, 131)</td>\n",
       "      <td>baits</td>\n",
       "      <td>24.176796</td>\n",
       "      <td>0.050994</td>\n",
       "      <td>1.960870</td>\n",
       "      <td>474.114541</td>\n",
       "      <td>118.528635</td>\n",
       "      <td>0.992319</td>\n",
       "      <td>45906.669249</td>\n",
       "      <td>14455.405413</td>\n",
       "      <td>-130.594397</td>\n",
       "      <td>116.497577</td>\n",
       "      <td>60.0</td>\n",
       "      <td>11031</td>\n",
       "      <td>130.594397</td>\n",
       "      <td>left</td>\n",
       "      <td>right</td>\n",
       "    </tr>\n",
       "    <tr>\n",
       "      <th>8256</th>\n",
       "      <td>424</td>\n",
       "      <td>(13, 116, 131)</td>\n",
       "      <td>baits</td>\n",
       "      <td>16.548582</td>\n",
       "      <td>0.029624</td>\n",
       "      <td>2.907971</td>\n",
       "      <td>558.616681</td>\n",
       "      <td>139.654170</td>\n",
       "      <td>0.981037</td>\n",
       "      <td>46240.456212</td>\n",
       "      <td>14676.851572</td>\n",
       "      <td>-150.235475</td>\n",
       "      <td>99.643155</td>\n",
       "      <td>64.0</td>\n",
       "      <td>11031</td>\n",
       "      <td>150.235475</td>\n",
       "      <td>left</td>\n",
       "      <td>right</td>\n",
       "    </tr>\n",
       "    <tr>\n",
       "      <th>8258</th>\n",
       "      <td>424</td>\n",
       "      <td>(13, 116, 131)</td>\n",
       "      <td>baits</td>\n",
       "      <td>-4.696472</td>\n",
       "      <td>-0.005160</td>\n",
       "      <td>0.913043</td>\n",
       "      <td>910.196464</td>\n",
       "      <td>227.549116</td>\n",
       "      <td>0.995172</td>\n",
       "      <td>26260.858892</td>\n",
       "      <td>27261.517155</td>\n",
       "      <td>14.305168</td>\n",
       "      <td>-179.955330</td>\n",
       "      <td>64.0</td>\n",
       "      <td>12330</td>\n",
       "      <td>14.305168</td>\n",
       "      <td>left</td>\n",
       "      <td>right</td>\n",
       "    </tr>\n",
       "  </tbody>\n",
       "</table>\n",
       "<p>2965 rows × 18 columns</p>\n",
       "</div>"
      ],
      "text/plain": [
       "     plate            inst treatment      angle  curvature   density  \\\n",
       "3913   395     (10, 0, 10)     baits   6.554181   0.028963  1.000725   \n",
       "3914   395     (10, 0, 10)     baits -11.309932  -0.030246  0.857971   \n",
       "3915   395     (10, 0, 10)     baits   4.466079   0.008599  0.728261   \n",
       "3916   395     (10, 0, 10)     baits  -4.467159  -0.007155  0.587681   \n",
       "3917   395     (10, 0, 10)     baits  12.260655   0.016484  0.657246   \n",
       "...    ...             ...       ...        ...        ...       ...   \n",
       "8252   424  (13, 116, 131)     baits   7.281669   0.012852  0.903623   \n",
       "8253   424  (13, 116, 131)     baits -20.905807  -0.030679  2.035507   \n",
       "8255   424  (13, 116, 131)     baits  24.176796   0.050994  1.960870   \n",
       "8256   424  (13, 116, 131)     baits  16.548582   0.029624  2.907971   \n",
       "8258   424  (13, 116, 131)     baits  -4.696472  -0.005160  0.913043   \n",
       "\n",
       "          growth       speed  straightness        dist_P        dist_N  \\\n",
       "3913  226.294882   56.573721      0.990876  15350.350868  44853.955251   \n",
       "3914  373.937647   93.484412      0.986906  15196.256183  45088.839997   \n",
       "3915  519.382846  129.845711      0.996801  14969.600490  45535.581956   \n",
       "3916  624.316099  156.079025      0.991340  14598.383522  45908.993600   \n",
       "3917  743.776576  185.172591      0.996342  14278.909935  46657.081149   \n",
       "...          ...         ...           ...           ...           ...   \n",
       "8252  566.586163  141.646541      0.968746  47451.023860  16077.494264   \n",
       "8253  681.432714  170.358178      0.984990  46972.393814  15827.563481   \n",
       "8255  474.114541  118.528635      0.992319  45906.669249  14455.405413   \n",
       "8256  558.616681  139.654170      0.981037  46240.456212  14676.851572   \n",
       "8258  910.196464  227.549116      0.995172  26260.858892  27261.517155   \n",
       "\n",
       "      angle_to_P  angle_to_N     t   hyph  abs_angle_to_P side_cross  \\\n",
       "3913  -51.626442 -170.251998  16.0     99       51.626442     ignore   \n",
       "3914  -49.022529 -167.205634  20.0     99       49.022529     ignore   \n",
       "3915  -50.207648 -167.382359  24.0     99       50.207648     ignore   \n",
       "3916  -54.918511 -170.866374  28.0     99       54.918511     ignore   \n",
       "3917  -58.661901 -172.566551  32.0     99       58.661901     ignore   \n",
       "...          ...         ...   ...    ...             ...        ...   \n",
       "8252   37.023983  -65.400035  56.0  10105       37.023983       left   \n",
       "8253   39.025778  -65.624935  60.0  10105       39.025778       left   \n",
       "8255 -130.594397  116.497577  60.0  11031      130.594397       left   \n",
       "8256 -150.235475   99.643155  64.0  11031      150.235475       left   \n",
       "8258   14.305168 -179.955330  64.0  12330       14.305168       left   \n",
       "\n",
       "     side_P_bait  \n",
       "3913       right  \n",
       "3914       right  \n",
       "3915       right  \n",
       "3916       right  \n",
       "3917       right  \n",
       "...          ...  \n",
       "8252       right  \n",
       "8253       right  \n",
       "8255       right  \n",
       "8256       right  \n",
       "8258       right  \n",
       "\n",
       "[2965 rows x 18 columns]"
      ]
     },
     "execution_count": 34,
     "metadata": {},
     "output_type": "execute_result"
    }
   ],
   "source": [
    "baits"
   ]
  },
  {
   "cell_type": "code",
   "execution_count": 22,
   "metadata": {
    "collapsed": true,
    "jupyter": {
     "outputs_hidden": true
    }
   },
   "outputs": [
    {
     "data": {
      "application/vnd.jupyter.widget-view+json": {
       "model_id": "27b4747274024994bff6ff71f6e287a3",
       "version_major": 2,
       "version_minor": 0
      },
      "text/plain": [
       "Canvas(toolbar=Toolbar(toolitems=[('Home', 'Reset original view', 'home', 'home'), ('Back', 'Back to previous …"
      ]
     },
     "metadata": {},
     "output_type": "display_data"
    },
    {
     "data": {
      "text/plain": [
       "(0, 400)"
      ]
     },
     "execution_count": 22,
     "metadata": {},
     "output_type": "execute_result"
    }
   ],
   "source": [
    "plt.close('all')\n",
    "fig = plt.figure()\n",
    "ax = fig.add_subplot(111)\n",
    "ax.scatter(baits['dist_P'],baits['speed'])\n",
    "ax.set_ylim(0,400)\n",
    "# ax.set_xlim(26000,32000)"
   ]
  },
  {
   "cell_type": "code",
   "execution_count": 11,
   "metadata": {},
   "outputs": [
    {
     "name": "stderr",
     "output_type": "stream",
     "text": [
      "/home/cbisot/anaconda3/envs/test/lib/python3.7/site-packages/matplotlib/__init__.py:880: MatplotlibDeprecationWarning: \n",
      "nbagg.transparent\n",
      "  version, key, obj_type=\"rcparam\", alternative=alt_key)\n"
     ]
    },
    {
     "data": {
      "application/vnd.jupyter.widget-view+json": {
       "model_id": "87bb532e06b4490dabc805e306e2f7a1",
       "version_major": 2,
       "version_minor": 0
      },
      "text/plain": [
       "Canvas(toolbar=Toolbar(toolitems=[('Home', 'Reset original view', 'home', 'home'), ('Back', 'Back to previous …"
      ]
     },
     "metadata": {},
     "output_type": "display_data"
    },
    {
     "data": {
      "text/plain": [
       "(0, 400)"
      ]
     },
     "execution_count": 11,
     "metadata": {},
     "output_type": "execute_result"
    }
   ],
   "source": [
    "plt.close('all')\n",
    "fig = plt.figure()\n",
    "ax = fig.add_subplot(111)\n",
    "ax.scatter(np.abs(baits['angle_to_P']),baits['speed'])\n",
    "ax.set_ylim(0,400)\n",
    "# ax.set_xlim(26000,32000)"
   ]
  },
  {
   "cell_type": "code",
   "execution_count": 72,
   "metadata": {},
   "outputs": [
    {
     "name": "stderr",
     "output_type": "stream",
     "text": [
      "/home/cbisot/anaconda3/envs/test/lib/python3.7/site-packages/ipykernel_launcher.py:2: SettingWithCopyWarning: \n",
      "A value is trying to be set on a copy of a slice from a DataFrame.\n",
      "Try using .loc[row_indexer,col_indexer] = value instead\n",
      "\n",
      "See the caveats in the documentation: https://pandas.pydata.org/pandas-docs/stable/user_guide/indexing.html#returning-a-view-versus-a-copy\n",
      "  \n"
     ]
    }
   ],
   "source": [
    "lambd = 10000\n",
    "baits['gradient']=np.cos(baits['angle_to_P'])*baits['dist_P']*np.exp(-(baits['dist_P']/lambd)**2)"
   ]
  },
  {
   "cell_type": "code",
   "execution_count": 74,
   "metadata": {},
   "outputs": [],
   "source": [
    "baits_sort = baits.sort_values('gradient')"
   ]
  },
  {
   "cell_type": "code",
   "execution_count": 57,
   "metadata": {
    "collapsed": true,
    "jupyter": {
     "outputs_hidden": true
    }
   },
   "outputs": [
    {
     "data": {
      "text/html": [
       "<div>\n",
       "<style scoped>\n",
       "    .dataframe tbody tr th:only-of-type {\n",
       "        vertical-align: middle;\n",
       "    }\n",
       "\n",
       "    .dataframe tbody tr th {\n",
       "        vertical-align: top;\n",
       "    }\n",
       "\n",
       "    .dataframe thead th {\n",
       "        text-align: right;\n",
       "    }\n",
       "</style>\n",
       "<table border=\"1\" class=\"dataframe\">\n",
       "  <thead>\n",
       "    <tr style=\"text-align: right;\">\n",
       "      <th></th>\n",
       "      <th>angle</th>\n",
       "      <th>curvature</th>\n",
       "      <th>density</th>\n",
       "      <th>growth</th>\n",
       "      <th>speed</th>\n",
       "      <th>straightness</th>\n",
       "      <th>dist_P</th>\n",
       "      <th>dist_N</th>\n",
       "      <th>angle_to_P</th>\n",
       "      <th>angle_to_N</th>\n",
       "      <th>t</th>\n",
       "      <th>gradient</th>\n",
       "    </tr>\n",
       "  </thead>\n",
       "  <tbody>\n",
       "    <tr>\n",
       "      <th>3980</th>\n",
       "      <td>2.826822</td>\n",
       "      <td>0.002160</td>\n",
       "      <td>0.928261</td>\n",
       "      <td>1308.674252</td>\n",
       "      <td>325.811017</td>\n",
       "      <td>0.993061</td>\n",
       "      <td>7208.961437</td>\n",
       "      <td>7208.961437</td>\n",
       "      <td>53.364389</td>\n",
       "      <td>53.364389</td>\n",
       "      <td>32.000000</td>\n",
       "      <td>-4283.293841</td>\n",
       "    </tr>\n",
       "    <tr>\n",
       "      <th>6065</th>\n",
       "      <td>-5.824231</td>\n",
       "      <td>-0.008594</td>\n",
       "      <td>1.478623</td>\n",
       "      <td>1028.399366</td>\n",
       "      <td>256.812347</td>\n",
       "      <td>0.985860</td>\n",
       "      <td>7166.236079</td>\n",
       "      <td>7166.236079</td>\n",
       "      <td>50.211813</td>\n",
       "      <td>50.211813</td>\n",
       "      <td>36.000000</td>\n",
       "      <td>-4281.459074</td>\n",
       "    </tr>\n",
       "    <tr>\n",
       "      <th>3981</th>\n",
       "      <td>-2.833782</td>\n",
       "      <td>-0.004949</td>\n",
       "      <td>1.312077</td>\n",
       "      <td>1133.397578</td>\n",
       "      <td>283.157731</td>\n",
       "      <td>0.989899</td>\n",
       "      <td>7084.308754</td>\n",
       "      <td>7084.308754</td>\n",
       "      <td>53.343712</td>\n",
       "      <td>53.343712</td>\n",
       "      <td>36.005556</td>\n",
       "      <td>-4278.369633</td>\n",
       "    </tr>\n",
       "    <tr>\n",
       "      <th>4478</th>\n",
       "      <td>0.465150</td>\n",
       "      <td>0.000302</td>\n",
       "      <td>1.527899</td>\n",
       "      <td>1011.392250</td>\n",
       "      <td>252.704315</td>\n",
       "      <td>0.991251</td>\n",
       "      <td>7235.756110</td>\n",
       "      <td>7235.756110</td>\n",
       "      <td>10.930175</td>\n",
       "      <td>10.930175</td>\n",
       "      <td>49.833333</td>\n",
       "      <td>-4270.299744</td>\n",
       "    </tr>\n",
       "    <tr>\n",
       "      <th>5871</th>\n",
       "      <td>-0.319830</td>\n",
       "      <td>-0.000526</td>\n",
       "      <td>1.906667</td>\n",
       "      <td>989.245393</td>\n",
       "      <td>247.196350</td>\n",
       "      <td>0.990204</td>\n",
       "      <td>7067.064352</td>\n",
       "      <td>7067.064352</td>\n",
       "      <td>25.714969</td>\n",
       "      <td>25.714969</td>\n",
       "      <td>42.263333</td>\n",
       "      <td>-4265.453995</td>\n",
       "    </tr>\n",
       "    <tr>\n",
       "      <th>...</th>\n",
       "      <td>...</td>\n",
       "      <td>...</td>\n",
       "      <td>...</td>\n",
       "      <td>...</td>\n",
       "      <td>...</td>\n",
       "      <td>...</td>\n",
       "      <td>...</td>\n",
       "      <td>...</td>\n",
       "      <td>...</td>\n",
       "      <td>...</td>\n",
       "      <td>...</td>\n",
       "      <td>...</td>\n",
       "    </tr>\n",
       "    <tr>\n",
       "      <th>4048</th>\n",
       "      <td>2.294570</td>\n",
       "      <td>0.003823</td>\n",
       "      <td>2.812616</td>\n",
       "      <td>914.868609</td>\n",
       "      <td>214.812279</td>\n",
       "      <td>0.987378</td>\n",
       "      <td>7808.249983</td>\n",
       "      <td>7808.249983</td>\n",
       "      <td>-9.470454</td>\n",
       "      <td>-9.470454</td>\n",
       "      <td>49.439667</td>\n",
       "      <td>3532.262652</td>\n",
       "    </tr>\n",
       "    <tr>\n",
       "      <th>4406</th>\n",
       "      <td>2.391351</td>\n",
       "      <td>0.003898</td>\n",
       "      <td>2.779841</td>\n",
       "      <td>916.415030</td>\n",
       "      <td>215.187144</td>\n",
       "      <td>0.987354</td>\n",
       "      <td>7832.749936</td>\n",
       "      <td>7832.749936</td>\n",
       "      <td>-9.600941</td>\n",
       "      <td>-9.600941</td>\n",
       "      <td>49.832833</td>\n",
       "      <td>3544.372686</td>\n",
       "    </tr>\n",
       "    <tr>\n",
       "      <th>6092</th>\n",
       "      <td>2.295229</td>\n",
       "      <td>0.003737</td>\n",
       "      <td>2.804986</td>\n",
       "      <td>912.169403</td>\n",
       "      <td>214.132514</td>\n",
       "      <td>0.987153</td>\n",
       "      <td>7833.266665</td>\n",
       "      <td>7833.266665</td>\n",
       "      <td>-7.533915</td>\n",
       "      <td>-7.533915</td>\n",
       "      <td>49.274167</td>\n",
       "      <td>3556.576449</td>\n",
       "    </tr>\n",
       "    <tr>\n",
       "      <th>5980</th>\n",
       "      <td>2.763804</td>\n",
       "      <td>0.004267</td>\n",
       "      <td>2.806043</td>\n",
       "      <td>916.542541</td>\n",
       "      <td>215.236552</td>\n",
       "      <td>0.986880</td>\n",
       "      <td>7841.021869</td>\n",
       "      <td>7841.021869</td>\n",
       "      <td>-5.013371</td>\n",
       "      <td>-5.013371</td>\n",
       "      <td>48.715333</td>\n",
       "      <td>3569.040237</td>\n",
       "    </tr>\n",
       "    <tr>\n",
       "      <th>6871</th>\n",
       "      <td>2.706721</td>\n",
       "      <td>0.004208</td>\n",
       "      <td>2.799659</td>\n",
       "      <td>914.281736</td>\n",
       "      <td>214.671351</td>\n",
       "      <td>0.986967</td>\n",
       "      <td>7872.646042</td>\n",
       "      <td>7872.646042</td>\n",
       "      <td>-4.820060</td>\n",
       "      <td>-4.820060</td>\n",
       "      <td>49.041000</td>\n",
       "      <td>3581.498576</td>\n",
       "    </tr>\n",
       "  </tbody>\n",
       "</table>\n",
       "<p>2980 rows × 12 columns</p>\n",
       "</div>"
      ],
      "text/plain": [
       "         angle  curvature   density       growth       speed  straightness  \\\n",
       "3980  2.826822   0.002160  0.928261  1308.674252  325.811017      0.993061   \n",
       "6065 -5.824231  -0.008594  1.478623  1028.399366  256.812347      0.985860   \n",
       "3981 -2.833782  -0.004949  1.312077  1133.397578  283.157731      0.989899   \n",
       "4478  0.465150   0.000302  1.527899  1011.392250  252.704315      0.991251   \n",
       "5871 -0.319830  -0.000526  1.906667   989.245393  247.196350      0.990204   \n",
       "...        ...        ...       ...          ...         ...           ...   \n",
       "4048  2.294570   0.003823  2.812616   914.868609  214.812279      0.987378   \n",
       "4406  2.391351   0.003898  2.779841   916.415030  215.187144      0.987354   \n",
       "6092  2.295229   0.003737  2.804986   912.169403  214.132514      0.987153   \n",
       "5980  2.763804   0.004267  2.806043   916.542541  215.236552      0.986880   \n",
       "6871  2.706721   0.004208  2.799659   914.281736  214.671351      0.986967   \n",
       "\n",
       "           dist_P       dist_N  angle_to_P  angle_to_N          t     gradient  \n",
       "3980  7208.961437  7208.961437   53.364389   53.364389  32.000000 -4283.293841  \n",
       "6065  7166.236079  7166.236079   50.211813   50.211813  36.000000 -4281.459074  \n",
       "3981  7084.308754  7084.308754   53.343712   53.343712  36.005556 -4278.369633  \n",
       "4478  7235.756110  7235.756110   10.930175   10.930175  49.833333 -4270.299744  \n",
       "5871  7067.064352  7067.064352   25.714969   25.714969  42.263333 -4265.453995  \n",
       "...           ...          ...         ...         ...        ...          ...  \n",
       "4048  7808.249983  7808.249983   -9.470454   -9.470454  49.439667  3532.262652  \n",
       "4406  7832.749936  7832.749936   -9.600941   -9.600941  49.832833  3544.372686  \n",
       "6092  7833.266665  7833.266665   -7.533915   -7.533915  49.274167  3556.576449  \n",
       "5980  7841.021869  7841.021869   -5.013371   -5.013371  48.715333  3569.040237  \n",
       "6871  7872.646042  7872.646042   -4.820060   -4.820060  49.041000  3581.498576  \n",
       "\n",
       "[2980 rows x 12 columns]"
      ]
     },
     "execution_count": 57,
     "metadata": {},
     "output_type": "execute_result"
    }
   ],
   "source": [
    "baits_sort.rolling(100,min_periods=1).mean()"
   ]
  },
  {
   "cell_type": "code",
   "execution_count": null,
   "metadata": {},
   "outputs": [],
   "source": []
  },
  {
   "cell_type": "code",
   "execution_count": 39,
   "metadata": {},
   "outputs": [
    {
     "data": {
      "application/vnd.jupyter.widget-view+json": {
       "model_id": "f7f7df43c4194523bb23fbdad83708c3",
       "version_major": 2,
       "version_minor": 0
      },
      "text/plain": [
       "Canvas(toolbar=Toolbar(toolitems=[('Home', 'Reset original view', 'home', 'home'), ('Back', 'Back to previous …"
      ]
     },
     "metadata": {},
     "output_type": "display_data"
    },
    {
     "data": {
      "text/plain": [
       "[<matplotlib.lines.Line2D at 0x2ad7e58a2690>]"
      ]
     },
     "execution_count": 39,
     "metadata": {},
     "output_type": "execute_result"
    }
   ],
   "source": [
    "from scipy.ndimage import uniform_filter1d\n",
    "from scipy import stats\n",
    "plt.close('all')\n",
    "plate = 405\n",
    "selected = baits.loc[baits['side_cross']!='side_P_bait']\n",
    "# selected = baits\n",
    "baits_sort = selected.sort_values(\"angle_to_P\")\n",
    "N=300\n",
    "moving_av = baits_sort.rolling(N).mean()\n",
    "moving_std = baits_sort.rolling(N).std()\n",
    "\n",
    "fig=plt.figure(figsize=(8,8))\n",
    "ax = fig.add_subplot(111)\n",
    "ax.set_xlabel('angle to P (°)')\n",
    "ax.set_ylabel('speed($\\mu m. h^{-1}$)')\n",
    "xlim = 40\n",
    "ax.set_xlim(-190,190)\n",
    "ax.set_ylim(0,400)\n",
    "# slope, intercept, r_value, p_value, std_err = stats.linregress(densities_sort,np.abs(curvatures_sort))\n",
    "x= range(-xlim,xlim)\n",
    "\n",
    "ax.scatter(selected[\"angle_to_P\"],selected['speed'],color='yellow',label='observed speeds')\n",
    "ax.plot(moving_av[\"angle_to_P\"],moving_av['speed'],color='green',label = 'moving average')\n",
    "ax.plot(moving_av[\"angle_to_P\"],(moving_av['speed']+moving_std['speed']/np.sqrt(N)),color='red',label = 'moving average')\n",
    "ax.plot(moving_av[\"angle_to_P\"],(moving_av['speed']-moving_std['speed']/np.sqrt(N)),color='red',label = 'moving average')\n",
    "\n",
    "# ax.set_title(r'$r^2=$'+f'{round(r_value**2,max(2,-int(np.log10(r_value**2))+2))}, p_value = {round(p_value**2,max(2,-int(np.log10(p_value**2))+2))}, slope = {round(slope,4)}')\n",
    "# x= range(-xlim,xlim+1)\n",
    "# legend_str = r'linear regression : $r^2=$'+f'{round(r_value**2,max(2,-int(np.log10(r_value**2))+2))}, p-value = {round(p_value,max(2,-int(np.log10(p_value))+2))}, slope = {round(slope,4)}'\n",
    "# line, = ax.plot(x,x*slope+intercept,color='red',label = legend_str)"
   ]
  },
  {
   "cell_type": "code",
   "execution_count": 41,
   "metadata": {},
   "outputs": [
    {
     "data": {
      "application/vnd.jupyter.widget-view+json": {
       "model_id": "00a399e7c0974fb4ab57c5106201c552",
       "version_major": 2,
       "version_minor": 0
      },
      "text/plain": [
       "Canvas(toolbar=Toolbar(toolitems=[('Home', 'Reset original view', 'home', 'home'), ('Back', 'Back to previous …"
      ]
     },
     "metadata": {},
     "output_type": "display_data"
    },
    {
     "data": {
      "text/plain": [
       "[<matplotlib.lines.Line2D at 0x2ad7e5776690>]"
      ]
     },
     "execution_count": 41,
     "metadata": {},
     "output_type": "execute_result"
    }
   ],
   "source": [
    "from scipy.ndimage import uniform_filter1d\n",
    "from scipy import stats\n",
    "plt.close('all')\n",
    "plate = 405\n",
    "selected = baits.loc[baits['side_cross']!='side_P_bait']\n",
    "# selected = baits\n",
    "baits_sort = selected.sort_values(\"angle_to_N\")\n",
    "N=300\n",
    "moving_av = baits_sort.rolling(N).mean()\n",
    "moving_std = baits_sort.rolling(N).std()\n",
    "\n",
    "fig=plt.figure(figsize=(8,8))\n",
    "ax = fig.add_subplot(111)\n",
    "ax.set_xlabel('angle to N (°)')\n",
    "ax.set_ylabel('speed($\\mu m. h^{-1}$)')\n",
    "xlim = 40\n",
    "ax.set_xlim(-190,190)\n",
    "ax.set_ylim(0,400)\n",
    "# slope, intercept, r_value, p_value, std_err = stats.linregress(densities_sort,np.abs(curvatures_sort))\n",
    "x= range(-xlim,xlim)\n",
    "\n",
    "ax.scatter(selected[\"angle_to_N\"],selected['speed'],color='yellow',label='observed speeds')\n",
    "ax.plot(moving_av[\"angle_to_N\"],moving_av['speed'],color='green',label = 'moving average')\n",
    "ax.plot(moving_av[\"angle_to_N\"],(moving_av['speed']+moving_std['speed']/np.sqrt(N)),color='red',label = 'moving average')\n",
    "ax.plot(moving_av[\"angle_to_N\"],(moving_av['speed']-moving_std['speed']/np.sqrt(N)),color='red',label = 'moving average')\n",
    "\n",
    "# ax.set_title(r'$r^2=$'+f'{round(r_value**2,max(2,-int(np.log10(r_value**2))+2))}, p_value = {round(p_value**2,max(2,-int(np.log10(p_value**2))+2))}, slope = {round(slope,4)}')\n",
    "# x= range(-xlim,xlim+1)\n",
    "# legend_str = r'linear regression : $r^2=$'+f'{round(r_value**2,max(2,-int(np.log10(r_value**2))+2))}, p-value = {round(p_value,max(2,-int(np.log10(p_value))+2))}, slope = {round(slope,4)}'\n",
    "# line, = ax.plot(x,x*slope+intercept,color='red',label = legend_str)"
   ]
  },
  {
   "cell_type": "code",
   "execution_count": 111,
   "metadata": {},
   "outputs": [
    {
     "data": {
      "application/vnd.jupyter.widget-view+json": {
       "model_id": "ae06d90863eb428db81eaf1051832c2c",
       "version_major": 2,
       "version_minor": 0
      },
      "text/plain": [
       "Canvas(toolbar=Toolbar(toolitems=[('Home', 'Reset original view', 'home', 'home'), ('Back', 'Back to previous …"
      ]
     },
     "metadata": {},
     "output_type": "display_data"
    },
    {
     "data": {
      "text/plain": [
       "[<matplotlib.lines.Line2D at 0x2ae0c9ec55d0>]"
      ]
     },
     "execution_count": 111,
     "metadata": {},
     "output_type": "execute_result"
    }
   ],
   "source": [
    "from scipy.ndimage import uniform_filter1d\n",
    "from scipy import stats\n",
    "plt.close('all')\n",
    "abcisse = 'inv_dens'\n",
    "ordinate = 'speed'\n",
    "tab = no_baits\n",
    "baits_sort = tab.sort_values(abcisse)\n",
    "N=100\n",
    "moving_av = baits_sort.rolling(N,min_periods=N//2).mean()\n",
    "moving_std = baits_sort.rolling(N,min_periods=N//2).std()\n",
    "\n",
    "fig=plt.figure(figsize=(8,8))\n",
    "ax = fig.add_subplot(111)\n",
    "ax.set_xlabel('inverse density')\n",
    "ax.set_ylabel('speed($\\mu m. h^{-1}$)')\n",
    "# ax.set_xlim(400,1500)\n",
    "# ax.set_ylim(-150,150)\n",
    "# ax.set_xlim(-190,190)\n",
    "# slope, intercept, r_value, p_value, std_err = stats.linregress(densities_sort,np.abs(curvatures_sort))\n",
    "for plate in set(tab['plate'].values):\n",
    "    select = tab.loc[tab['plate']==plate]\n",
    "    ax.scatter(select[abcisse],select[ordinate],label=plate,alpha=0.3)\n",
    "ax.plot(moving_av[abcisse],moving_av[ordinate],color='green',label = 'moving average')\n",
    "ax.plot(moving_av[abcisse],(moving_av[ordinate]+moving_std[ordinate]/np.sqrt(N)),color='red',label = 'std')\n",
    "ax.plot(moving_av[abcisse],(moving_av[ordinate]-moving_std[ordinate]/np.sqrt(N)),color='red',label = 'std')\n",
    "# plt.legend(loc=2,ncol = 2)"
   ]
  },
  {
   "cell_type": "code",
   "execution_count": 112,
   "metadata": {},
   "outputs": [
    {
     "data": {
      "text/plain": [
       "array(226.87444036)"
      ]
     },
     "execution_count": 112,
     "metadata": {},
     "output_type": "execute_result"
    }
   ],
   "source": [
    "f(0.75)"
   ]
  },
  {
   "cell_type": "code",
   "execution_count": 49,
   "metadata": {},
   "outputs": [],
   "source": [
    "moving_av['speed']\n",
    "from scipy.interpolate import interp1d\n",
    "x = moving_av[\"inv_dens\"]\n",
    "y = moving_av[\"speed\"]\n",
    "f = interp1d(x, y,copy=True,fill_value=(150,240),bounds_error=False)"
   ]
  },
  {
   "cell_type": "code",
   "execution_count": 61,
   "metadata": {},
   "outputs": [
    {
     "data": {
      "text/plain": [
       "6276         NaN\n",
       "6679         NaN\n",
       "6285         NaN\n",
       "7086         NaN\n",
       "6277         NaN\n",
       "          ...   \n",
       "5932    6.224638\n",
       "4037    6.249906\n",
       "4990    6.277502\n",
       "6112    6.308872\n",
       "6052    6.341184\n",
       "Name: density, Length: 2956, dtype: float64"
      ]
     },
     "execution_count": 61,
     "metadata": {},
     "output_type": "execute_result"
    }
   ],
   "source": [
    "moving_av[abcisse]"
   ]
  },
  {
   "cell_type": "code",
   "execution_count": 66,
   "metadata": {},
   "outputs": [
    {
     "data": {
      "application/vnd.jupyter.widget-view+json": {
       "model_id": "e6a52ba77d5440b2867c8b815c8178fe",
       "version_major": 2,
       "version_minor": 0
      },
      "text/plain": [
       "Canvas(toolbar=Toolbar(toolitems=[('Home', 'Reset original view', 'home', 'home'), ('Back', 'Back to previous …"
      ]
     },
     "metadata": {},
     "output_type": "display_data"
    },
    {
     "data": {
      "text/plain": [
       "[<matplotlib.lines.Line2D at 0x2ae0c811dc90>]"
      ]
     },
     "execution_count": 66,
     "metadata": {},
     "output_type": "execute_result"
    }
   ],
   "source": [
    "from scipy.ndimage import uniform_filter1d\n",
    "from scipy import stats\n",
    "plt.close('all')\n",
    "baits_sort = baits.sort_values(\"inv_dens\")\n",
    "N=300\n",
    "moving_av = baits_sort.rolling(N).mean()\n",
    "moving_std = baits_sort.rolling(N).std()\n",
    "\n",
    "fig=plt.figure(figsize=(8,8))\n",
    "ax = fig.add_subplot(111)\n",
    "ax.set_xlabel('inverse density')\n",
    "ax.set_ylabel('speed($\\mu m. h^{-1}$)')\n",
    "xlim = 40\n",
    "# ax.set_xlim(400,1500)\n",
    "ax.set_ylim(0,400)\n",
    "# ax.set_xlim(-190,190)\n",
    "# slope, intercept, r_value, p_value, std_err = stats.linregress(densities_sort,np.abs(curvatures_sort))\n",
    "x= range(-xlim,xlim)\n",
    "\n",
    "ax.scatter(baits[\"inv_dens\"],baits['speed'],color='yellow',label='observed speeds')\n",
    "ax.plot(moving_av[\"inv_dens\"],moving_av['speed'],color='green',label = 'moving average')\n",
    "ax.plot(moving_av[\"inv_dens\"],(moving_av['speed']+moving_std['speed']/np.sqrt(N)),color='red',label = 'moving average')\n",
    "ax.plot(moving_av[\"inv_dens\"],(moving_av['speed']-moving_std['speed']/np.sqrt(N)),color='red',label = 'moving average')\n",
    "\n",
    "# ax.set_title(r'$r^2=$'+f'{round(r_value**2,max(2,-int(np.log10(r_value**2))+2))}, p_value = {round(p_value**2,max(2,-int(np.log10(p_value**2))+2))}, slope = {round(slope,4)}')\n",
    "# x= range(-xlim,xlim+1)\n",
    "# legend_str = r'linear regression : $r^2=$'+f'{round(r_value**2,max(2,-int(np.log10(r_value**2))+2))}, p-value = {round(p_value,max(2,-int(np.log10(p_value))+2))}, slope = {round(slope,4)}'\n",
    "# line, = ax.plot(x,x*slope+intercept,color='red',label = legend_str)"
   ]
  },
  {
   "cell_type": "code",
   "execution_count": 38,
   "metadata": {},
   "outputs": [
    {
     "data": {
      "application/vnd.jupyter.widget-view+json": {
       "model_id": "1e5d3a5610a64746b7d981878ae2bdc3",
       "version_major": 2,
       "version_minor": 0
      },
      "text/plain": [
       "Canvas(toolbar=Toolbar(toolitems=[('Home', 'Reset original view', 'home', 'home'), ('Back', 'Back to previous …"
      ]
     },
     "metadata": {},
     "output_type": "display_data"
    },
    {
     "data": {
      "text/plain": [
       "[<matplotlib.lines.Line2D at 0x2ae0c1ecffd0>]"
      ]
     },
     "execution_count": 38,
     "metadata": {},
     "output_type": "execute_result"
    }
   ],
   "source": [
    "from scipy.ndimage import uniform_filter1d\n",
    "from scipy import stats\n",
    "plt.close('all')\n",
    "angle = \"angle_to_P\"\n",
    "baits_sort = baits.sort_values(angle)\n",
    "N=300\n",
    "moving_av = baits_sort.rolling(N).mean()\n",
    "moving_std = baits_sort.rolling(N).std()\n",
    "\n",
    "fig=plt.figure(figsize=(8,8))\n",
    "ax = fig.add_subplot(111)\n",
    "ax.set_xlabel(angle +'  (°)')\n",
    "ax.set_ylabel('inverse density')\n",
    "xlim = 40\n",
    "# ax.set_xlim(400,1500)\n",
    "ax.set_ylim(0,2)\n",
    "# ax.set_xlim(-190,190)\n",
    "# slope, intercept, r_value, p_value, std_err = stats.linregress(densities_sort,np.abs(curvatures_sort))\n",
    "x= range(-xlim,xlim)\n",
    "\n",
    "ax.scatter(baits[angle],baits['inv_dens'],color='yellow',label='observed speeds')\n",
    "ax.plot(moving_av[angle],moving_av['inv_dens'],color='green',label = 'moving average')\n",
    "ax.plot(moving_av[angle],(moving_av['inv_dens']+moving_std['inv_dens']/np.sqrt(N)),color='red',label = 'moving average')\n",
    "ax.plot(moving_av[angle],(moving_av['inv_dens']-moving_std['inv_dens']/np.sqrt(N)),color='red',label = 'moving average')\n",
    "\n",
    "# ax.set_title(r'$r^2=$'+f'{round(r_value**2,max(2,-int(np.log10(r_value**2))+2))}, p_value = {round(p_value**2,max(2,-int(np.log10(p_value**2))+2))}, slope = {round(slope,4)}')\n",
    "# x= range(-xlim,xlim+1)\n",
    "# legend_str = r'linear regression : $r^2=$'+f'{round(r_value**2,max(2,-int(np.log10(r_value**2))+2))}, p-value = {round(p_value,max(2,-int(np.log10(p_value))+2))}, slope = {round(slope,4)}'\n",
    "# line, = ax.plot(x,x*slope+intercept,color='red',label = legend_str)"
   ]
  },
  {
   "cell_type": "code",
   "execution_count": 8,
   "metadata": {},
   "outputs": [
    {
     "name": "stderr",
     "output_type": "stream",
     "text": [
      "/home/cbisot/anaconda3/envs/test/lib/python3.7/site-packages/matplotlib/__init__.py:880: MatplotlibDeprecationWarning: \n",
      "nbagg.transparent\n",
      "  version, key, obj_type=\"rcparam\", alternative=alt_key)\n"
     ]
    },
    {
     "data": {
      "application/vnd.jupyter.widget-view+json": {
       "model_id": "5fe78e0afd154fb9b5d094625ae90b78",
       "version_major": 2,
       "version_minor": 0
      },
      "text/plain": [
       "Canvas(toolbar=Toolbar(toolitems=[('Home', 'Reset original view', 'home', 'home'), ('Back', 'Back to previous …"
      ]
     },
     "metadata": {},
     "output_type": "display_data"
    },
    {
     "name": "stderr",
     "output_type": "stream",
     "text": [
      "/home/cbisot/anaconda3/envs/test/lib/python3.7/site-packages/matplotlib/cbook/__init__.py:1377: FutureWarning: Support for multi-dimensional indexing (e.g. `obj[:, None]`) is deprecated and will be removed in a future version.  Convert to a numpy array before indexing instead.\n",
      "  x[:, None]\n",
      "/home/cbisot/anaconda3/envs/test/lib/python3.7/site-packages/matplotlib/axes/_base.py:237: FutureWarning: Support for multi-dimensional indexing (e.g. `obj[:, None]`) is deprecated and will be removed in a future version.  Convert to a numpy array before indexing instead.\n",
      "  x = x[:, np.newaxis]\n",
      "/home/cbisot/anaconda3/envs/test/lib/python3.7/site-packages/matplotlib/axes/_base.py:239: FutureWarning: Support for multi-dimensional indexing (e.g. `obj[:, None]`) is deprecated and will be removed in a future version.  Convert to a numpy array before indexing instead.\n",
      "  y = y[:, np.newaxis]\n"
     ]
    },
    {
     "data": {
      "text/plain": [
       "[<matplotlib.lines.Line2D at 0x2ae0c02bd0d0>]"
      ]
     },
     "execution_count": 8,
     "metadata": {},
     "output_type": "execute_result"
    }
   ],
   "source": [
    "from scipy.ndimage import uniform_filter1d\n",
    "from scipy import stats\n",
    "plt.close('all')\n",
    "baits_sort = baits.sort_values(\"angle_to_P\")\n",
    "N=300\n",
    "moving_av = baits_sort.rolling(N).mean()\n",
    "moving_std = baits_sort.rolling(N).std()\n",
    "\n",
    "fig=plt.figure(figsize=(8,8))\n",
    "ax = fig.add_subplot(111)\n",
    "ax.set_xlabel('angle to P (°)')\n",
    "ax.set_ylabel('speed($\\mu m. h^{-1}$)')\n",
    "xlim = 40\n",
    "# ax.set_xlim(400,1500)\n",
    "ax.set_ylim(0,400)\n",
    "ax.set_xlim(-190,190)\n",
    "# slope, intercept, r_value, p_value, std_err = stats.linregress(densities_sort,np.abs(curvatures_sort))\n",
    "x= range(-xlim,xlim)\n",
    "\n",
    "ax.scatter(baits[\"angle_to_P\"],baits['speed'],color='yellow',label='observed speeds')\n",
    "ax.plot(moving_av[\"angle_to_P\"],moving_av['speed'],color='green',label = 'moving average')\n",
    "ax.plot(moving_av[\"angle_to_P\"],(moving_av['speed']+moving_std['speed']/np.sqrt(N)),color='red',label = 'moving average')\n",
    "ax.plot(moving_av[\"angle_to_P\"],(moving_av['speed']-moving_std['speed']/np.sqrt(N)),color='red',label = 'moving average')\n",
    "\n",
    "# ax.set_title(r'$r^2=$'+f'{round(r_value**2,max(2,-int(np.log10(r_value**2))+2))}, p_value = {round(p_value**2,max(2,-int(np.log10(p_value**2))+2))}, slope = {round(slope,4)}')\n",
    "# x= range(-xlim,xlim+1)\n",
    "# legend_str = r'linear regression : $r^2=$'+f'{round(r_value**2,max(2,-int(np.log10(r_value**2))+2))}, p-value = {round(p_value,max(2,-int(np.log10(p_value))+2))}, slope = {round(slope,4)}'\n",
    "# line, = ax.plot(x,x*slope+intercept,color='red',label = legend_str)"
   ]
  },
  {
   "cell_type": "code",
   "execution_count": 46,
   "metadata": {},
   "outputs": [
    {
     "data": {
      "application/vnd.jupyter.widget-view+json": {
       "model_id": "e3dce16829fe4037a38ba9a88f093701",
       "version_major": 2,
       "version_minor": 0
      },
      "text/plain": [
       "Canvas(toolbar=Toolbar(toolitems=[('Home', 'Reset original view', 'home', 'home'), ('Back', 'Back to previous …"
      ]
     },
     "metadata": {},
     "output_type": "display_data"
    },
    {
     "data": {
      "text/plain": [
       "[<matplotlib.lines.Line2D at 0x2b0c62f21c90>]"
      ]
     },
     "execution_count": 46,
     "metadata": {},
     "output_type": "execute_result"
    }
   ],
   "source": [
    "from scipy.ndimage import uniform_filter1d\n",
    "from scipy import stats\n",
    "plt.close('all')\n",
    "lambd = 10000\n",
    "baits['gradient']=np.cos(baits['angle_to_P'])*baits['dist_P']*np.exp(-(baits['dist_P']/lambd)**2)\n",
    "baits_sort = baits.sort_values(\"angle_to_N\")\n",
    "N=300\n",
    "moving_av = baits_sort.rolling(N).mean()\n",
    "moving_std = baits_sort.rolling(N).std()\n",
    "\n",
    "fig=plt.figure(figsize=(8,8))\n",
    "ax = fig.add_subplot(111)\n",
    "ax.set_xlabel('angle to N (°)')\n",
    "ax.set_ylabel('speed($\\mu m. h^{-1}$)')\n",
    "xlim = 40\n",
    "# ax.set_xlim(400,1500)\n",
    "ax.set_ylim(0,400)\n",
    "ax.set_xlim(-190,190)\n",
    "# slope, intercept, r_value, p_value, std_err = stats.linregress(densities_sort,np.abs(curvatures_sort))\n",
    "x= range(-xlim,xlim)\n",
    "\n",
    "ax.scatter(baits[\"angle_to_N\"],baits['speed'],color='yellow',label='observed speeds')\n",
    "ax.plot(moving_av[\"angle_to_N\"],moving_av['speed'],color='green',label = 'moving average')\n",
    "ax.plot(moving_av[\"angle_to_N\"],(moving_av['speed']+moving_std['speed']/np.sqrt(N)),color='red',label = 'moving average')\n",
    "ax.plot(moving_av[\"angle_to_N\"],(moving_av['speed']-moving_std['speed']/np.sqrt(N)),color='red',label = 'moving average')\n",
    "\n",
    "# ax.set_title(r'$r^2=$'+f'{round(r_value**2,max(2,-int(np.log10(r_value**2))+2))}, p_value = {round(p_value**2,max(2,-int(np.log10(p_value**2))+2))}, slope = {round(slope,4)}')\n",
    "# x= range(-xlim,xlim+1)\n",
    "# legend_str = r'linear regression : $r^2=$'+f'{round(r_value**2,max(2,-int(np.log10(r_value**2))+2))}, p-value = {round(p_value,max(2,-int(np.log10(p_value))+2))}, slope = {round(slope,4)}'\n",
    "# line, = ax.plot(x,x*slope+intercept,color='red',label = legend_str)"
   ]
  },
  {
   "cell_type": "code",
   "execution_count": 26,
   "metadata": {},
   "outputs": [
    {
     "data": {
      "application/vnd.jupyter.widget-view+json": {
       "model_id": "94d5c56cc4ba49028796b90adb1e940a",
       "version_major": 2,
       "version_minor": 0
      },
      "text/plain": [
       "Canvas(toolbar=Toolbar(toolitems=[('Home', 'Reset original view', 'home', 'home'), ('Back', 'Back to previous …"
      ]
     },
     "metadata": {},
     "output_type": "display_data"
    },
    {
     "data": {
      "text/plain": [
       "[<matplotlib.lines.Line2D at 0x2b0c639ccc10>]"
      ]
     },
     "execution_count": 26,
     "metadata": {},
     "output_type": "execute_result"
    }
   ],
   "source": [
    "from scipy.ndimage import uniform_filter1d\n",
    "from scipy import stats\n",
    "plt.close('all')\n",
    "lambd = 100000\n",
    "baits['gradient']=np.cos(baits['angle_to_P'])*baits['dist_P']*np.exp(-(baits['dist_P']/lambd)**2)\n",
    "baits_sort = baits.sort_values('dist_P')\n",
    "N=300\n",
    "moving_av = baits_sort.rolling(N).mean()\n",
    "moving_std = baits_sort.rolling(N).std()\n",
    "\n",
    "fig=plt.figure(figsize=(8,8))\n",
    "ax = fig.add_subplot(111)\n",
    "ax.set_xlabel('gradient')\n",
    "ax.set_ylabel('speed($\\mu m. h^{-1}$)')\n",
    "xlim = 40\n",
    "# ax.set_xlim(400,1500)\n",
    "ax.set_ylim(0,400)\n",
    "# slope, intercept, r_value, p_value, std_err = stats.linregress(densities_sort,np.abs(curvatures_sort))\n",
    "x= range(-xlim,xlim)\n",
    "\n",
    "ax.scatter(baits['dist_P'],baits['speed'],color='yellow',label='observed speeds')\n",
    "ax.plot(moving_av['dist_P'],moving_av['speed'],color='green',label = 'moving average')\n",
    "ax.plot(moving_av['dist_P'],(moving_av['speed']+moving_std['speed']/np.sqrt(N)),color='red',label = 'moving average')\n",
    "ax.plot(moving_av['dist_P'],(moving_av['speed']-moving_std['speed']/np.sqrt(N)),color='red',label = 'moving average')\n",
    "\n",
    "# ax.set_title(r'$r^2=$'+f'{round(r_value**2,max(2,-int(np.log10(r_value**2))+2))}, p_value = {round(p_value**2,max(2,-int(np.log10(p_value**2))+2))}, slope = {round(slope,4)}')\n",
    "# x= range(-xlim,xlim+1)\n",
    "# legend_str = r'linear regression : $r^2=$'+f'{round(r_value**2,max(2,-int(np.log10(r_value**2))+2))}, p-value = {round(p_value,max(2,-int(np.log10(p_value))+2))}, slope = {round(slope,4)}'\n",
    "# line, = ax.plot(x,x*slope+intercept,color='red',label = legend_str)"
   ]
  },
  {
   "cell_type": "code",
   "execution_count": 46,
   "metadata": {},
   "outputs": [
    {
     "data": {
      "application/vnd.jupyter.widget-view+json": {
       "model_id": "47af60d4df804912bf36de51de03790e",
       "version_major": 2,
       "version_minor": 0
      },
      "text/plain": [
       "Canvas(toolbar=Toolbar(toolitems=[('Home', 'Reset original view', 'home', 'home'), ('Back', 'Back to previous …"
      ]
     },
     "metadata": {},
     "output_type": "display_data"
    },
    {
     "data": {
      "text/plain": [
       "[<matplotlib.lines.Line2D at 0x2ad7e57c8510>]"
      ]
     },
     "execution_count": 46,
     "metadata": {},
     "output_type": "execute_result"
    }
   ],
   "source": [
    "from scipy.ndimage import uniform_filter1d\n",
    "from scipy import stats\n",
    "plt.close('all')\n",
    "baits_sort = no_baits.sort_values(\"angle_to_P\")\n",
    "N = 100\n",
    "moving_av = baits_sort.rolling(N).mean()\n",
    "moving_std = baits_sort.rolling(N).std()\n",
    "\n",
    "fig=plt.figure(figsize=(8,8))\n",
    "ax = fig.add_subplot(111)\n",
    "ax.set_xlabel('gradient')\n",
    "ax.set_ylabel('speed($\\mu m. h^{-1}$)')\n",
    "xlim = 40\n",
    "# ax.set_xlim(400,1500)\n",
    "ax.set_ylim(0,400)\n",
    "# slope, intercept, r_value, p_value, std_err = stats.linregress(densities_sort,np.abs(curvatures_sort))\n",
    "x= range(-xlim,xlim)\n",
    "\n",
    "ax.scatter(no_baits[\"angle_to_P\"],no_baits['speed'],color='yellow',label='observed speeds')\n",
    "ax.plot(moving_av[\"angle_to_P\"],moving_av['speed'],color='green',label = 'moving average')\n",
    "ax.plot(moving_av[\"angle_to_P\"],(moving_av['speed']+moving_std['speed']/np.sqrt(N)),color='red',label = 'moving average')\n",
    "ax.plot(moving_av[\"angle_to_P\"],(moving_av['speed']-moving_std['speed']/np.sqrt(N)),color='red',label = 'moving average')\n",
    "\n",
    "# ax.set_title(r'$r^2=$'+f'{round(r_value**2,max(2,-int(np.log10(r_value**2))+2))}, p_value = {round(p_value**2,max(2,-int(np.log10(p_value**2))+2))}, slope = {round(slope,4)}')\n",
    "# x= range(-xlim,xlim+1)\n",
    "# legend_str = r'linear regression : $r^2=$'+f'{round(r_value**2,max(2,-int(np.log10(r_value**2))+2))}, p-value = {round(p_value,max(2,-int(np.log10(p_value))+2))}, slope = {round(slope,4)}'\n",
    "# line, = ax.plot(x,x*slope+intercept,color='red',label = legend_str)"
   ]
  },
  {
   "cell_type": "code",
   "execution_count": 47,
   "metadata": {},
   "outputs": [
    {
     "data": {
      "application/vnd.jupyter.widget-view+json": {
       "model_id": "ae8b9e34e2b64cc5a77c1c159f418973",
       "version_major": 2,
       "version_minor": 0
      },
      "text/plain": [
       "Canvas(toolbar=Toolbar(toolitems=[('Home', 'Reset original view', 'home', 'home'), ('Back', 'Back to previous …"
      ]
     },
     "metadata": {},
     "output_type": "display_data"
    },
    {
     "data": {
      "text/plain": [
       "[<matplotlib.lines.Line2D at 0x2ad7e67e42d0>]"
      ]
     },
     "execution_count": 47,
     "metadata": {},
     "output_type": "execute_result"
    }
   ],
   "source": [
    "from scipy.ndimage import uniform_filter1d\n",
    "from scipy import stats\n",
    "plt.close('all')\n",
    "baits_sort = no_baits.sort_values(\"angle_to_N\")\n",
    "N = 100\n",
    "moving_av = baits_sort.rolling(N).mean()\n",
    "moving_std = baits_sort.rolling(N).std()\n",
    "\n",
    "fig=plt.figure(figsize=(8,8))\n",
    "ax = fig.add_subplot(111)\n",
    "ax.set_xlabel('angle to left bait (°)')\n",
    "ax.set_ylabel('speed($\\mu m. h^{-1}$)')\n",
    "xlim = 40\n",
    "# ax.set_xlim(400,1500)\n",
    "ax.set_ylim(0,400)\n",
    "# slope, intercept, r_value, p_value, std_err = stats.linregress(densities_sort,np.abs(curvatures_sort))\n",
    "x= range(-xlim,xlim)\n",
    "\n",
    "ax.scatter(no_baits[\"angle_to_N\"],no_baits['speed'],color='yellow',label='observed speeds')\n",
    "ax.plot(moving_av[\"angle_to_N\"],moving_av['speed'],color='green',label = 'moving average')\n",
    "ax.plot(moving_av[\"angle_to_N\"],(moving_av['speed']+moving_std['speed']/np.sqrt(N)),color='red',label = 'moving average')\n",
    "ax.plot(moving_av[\"angle_to_N\"],(moving_av['speed']-moving_std['speed']/np.sqrt(N)),color='red',label = 'moving average')\n",
    "\n",
    "# ax.set_title(r'$r^2=$'+f'{round(r_value**2,max(2,-int(np.log10(r_value**2))+2))}, p_value = {round(p_value**2,max(2,-int(np.log10(p_value**2))+2))}, slope = {round(slope,4)}')\n",
    "# x= range(-xlim,xlim+1)\n",
    "# legend_str = r'linear regression : $r^2=$'+f'{round(r_value**2,max(2,-int(np.log10(r_value**2))+2))}, p-value = {round(p_value,max(2,-int(np.log10(p_value))+2))}, slope = {round(slope,4)}'\n",
    "# line, = ax.plot(x,x*slope+intercept,color='red',label = legend_str)"
   ]
  },
  {
   "cell_type": "code",
   "execution_count": 28,
   "metadata": {
    "collapsed": true,
    "jupyter": {
     "outputs_hidden": true
    }
   },
   "outputs": [
    {
     "name": "stderr",
     "output_type": "stream",
     "text": [
      "/home/cbisot/anaconda3/envs/test/lib/python3.7/site-packages/ipykernel_launcher.py:5: SettingWithCopyWarning: \n",
      "A value is trying to be set on a copy of a slice from a DataFrame.\n",
      "Try using .loc[row_indexer,col_indexer] = value instead\n",
      "\n",
      "See the caveats in the documentation: https://pandas.pydata.org/pandas-docs/stable/user_guide/indexing.html#returning-a-view-versus-a-copy\n",
      "  \"\"\"\n"
     ]
    },
    {
     "data": {
      "application/vnd.jupyter.widget-view+json": {
       "model_id": "0f2d070ef7074e1dbaa7edab5041fe06",
       "version_major": 2,
       "version_minor": 0
      },
      "text/plain": [
       "Canvas(toolbar=Toolbar(toolitems=[('Home', 'Reset original view', 'home', 'home'), ('Back', 'Back to previous …"
      ]
     },
     "metadata": {},
     "output_type": "display_data"
    },
    {
     "data": {
      "text/plain": [
       "[<matplotlib.lines.Line2D at 0x2b0c63ac9b10>]"
      ]
     },
     "execution_count": 28,
     "metadata": {},
     "output_type": "execute_result"
    }
   ],
   "source": [
    "from scipy.ndimage import uniform_filter1d\n",
    "from scipy import stats\n",
    "plt.close('all')\n",
    "lambd = 100000\n",
    "no_baits['gradient']=np.cos(no_baits['angle_to_P'])*no_baits['dist_P']*np.exp(-(no_baits['dist_P']/lambd)**2)\n",
    "baits_sort = no_baits.sort_values(\"abs_angle_to_P\")\n",
    "N=300\n",
    "moving_av = baits_sort.rolling(N).mean()\n",
    "moving_std = baits_sort.rolling(N).std()\n",
    "\n",
    "fig=plt.figure(figsize=(8,8))\n",
    "ax = fig.add_subplot(111)\n",
    "ax.set_xlabel('gradient')\n",
    "ax.set_ylabel('speed($\\mu m. h^{-1}$)')\n",
    "xlim = 40\n",
    "# ax.set_xlim(400,1500)\n",
    "ax.set_ylim(0,400)\n",
    "# slope, intercept, r_value, p_value, std_err = stats.linregress(densities_sort,np.abs(curvatures_sort))\n",
    "x= range(-xlim,xlim)\n",
    "\n",
    "ax.scatter(no_baits[\"abs_angle_to_P\"],no_baits['speed'],color='yellow',label='observed speeds')\n",
    "ax.plot(moving_av[\"abs_angle_to_P\"],moving_av['speed'],color='green',label = 'moving average')\n",
    "ax.plot(moving_av[\"abs_angle_to_P\"],(moving_av['speed']+moving_std['speed']/np.sqrt(N)),color='red',label = 'moving average')\n",
    "ax.plot(moving_av[\"abs_angle_to_P\"],(moving_av['speed']-moving_std['speed']/np.sqrt(N)),color='red',label = 'moving average')\n",
    "\n",
    "# ax.set_title(r'$r^2=$'+f'{round(r_value**2,max(2,-int(np.log10(r_value**2))+2))}, p_value = {round(p_value**2,max(2,-int(np.log10(p_value**2))+2))}, slope = {round(slope,4)}')\n",
    "# x= range(-xlim,xlim+1)\n",
    "# legend_str = r'linear regression : $r^2=$'+f'{round(r_value**2,max(2,-int(np.log10(r_value**2))+2))}, p-value = {round(p_value,max(2,-int(np.log10(p_value))+2))}, slope = {round(slope,4)}'\n",
    "# line, = ax.plot(x,x*slope+intercept,color='red',label = legend_str)"
   ]
  },
  {
   "cell_type": "code",
   "execution_count": null,
   "metadata": {},
   "outputs": [],
   "source": [
    "from scipy.ndimage import uniform_filter1d\n",
    "from scipy import stats\n",
    "plt.close('all')\n",
    "lambd = 100000\n",
    "no_baits['gradient']=np.cos(no_baits['angle_to_P'])*no_baits['dist_P']*np.exp(-(no_baits['dist_P']/lambd)**2)\n",
    "baits_sort = no_baits.sort_values('dist_P')\n",
    "N=300\n",
    "moving_av = baits_sort.rolling(N).mean()\n",
    "moving_std = baits_sort.rolling(N).std()\n",
    "\n",
    "fig=plt.figure(figsize=(8,8))\n",
    "ax = fig.add_subplot(111)\n",
    "ax.set_xlabel('gradient')\n",
    "ax.set_ylabel('speed($\\mu m. h^{-1}$)')\n",
    "xlim = 40\n",
    "# ax.set_xlim(400,1500)\n",
    "ax.set_ylim(0,400)\n",
    "# slope, intercept, r_value, p_value, std_err = stats.linregress(densities_sort,np.abs(curvatures_sort))\n",
    "x= range(-xlim,xlim)\n",
    "\n",
    "ax.scatter(no_baits['dist_P'],no_baits['speed'],color='yellow',label='observed speeds')\n",
    "ax.plot(moving_av['dist_P'],moving_av['speed'],color='green',label = 'moving average')\n",
    "ax.plot(moving_av['dist_P'],(moving_av['speed']+moving_std['speed']/np.sqrt(N)),color='red',label = 'moving average')\n",
    "ax.plot(moving_av['dist_P'],(moving_av['speed']-moving_std['speed']/np.sqrt(N)),color='red',label = 'moving average')\n",
    "\n",
    "# ax.set_title(r'$r^2=$'+f'{round(r_value**2,max(2,-int(np.log10(r_value**2))+2))}, p_value = {round(p_value**2,max(2,-int(np.log10(p_value**2))+2))}, slope = {round(slope,4)}')\n",
    "# x= range(-xlim,xlim+1)\n",
    "# legend_str = r'linear regression : $r^2=$'+f'{round(r_value**2,max(2,-int(np.log10(r_value**2))+2))}, p-value = {round(p_value,max(2,-int(np.log10(p_value))+2))}, slope = {round(slope,4)}'\n",
    "# line, = ax.plot(x,x*slope+intercept,color='red',label = legend_str)"
   ]
  },
  {
   "cell_type": "code",
   "execution_count": 10,
   "metadata": {},
   "outputs": [
    {
     "data": {
      "text/plain": [
       "0.02223930581323196"
      ]
     },
     "execution_count": 10,
     "metadata": {},
     "output_type": "execute_result"
    }
   ],
   "source": [
    "p_value"
   ]
  },
  {
   "cell_type": "code",
   "execution_count": 31,
   "metadata": {},
   "outputs": [
    {
     "data": {
      "application/vnd.jupyter.widget-view+json": {
       "model_id": "67e3a610c04f4737b8131fbe6fa0b935",
       "version_major": 2,
       "version_minor": 0
      },
      "text/plain": [
       "Canvas(toolbar=Toolbar(toolitems=[('Home', 'Reset original view', 'home', 'home'), ('Back', 'Back to previous …"
      ]
     },
     "metadata": {},
     "output_type": "display_data"
    }
   ],
   "source": [
    "from scipy.ndimage import uniform_filter1d\n",
    "from scipy import stats\n",
    "plt.close('all')\n",
    "zipped_list = zip(np.abs(baits['angle_to_P']),baits['straightness'])\n",
    "sorted_zip = sorted(zipped_list)\n",
    "densities_sort,curvatures_sort = zip(*sorted_zip)\n",
    "fig=plt.figure(figsize=(8,8))\n",
    "ax = fig.add_subplot(111)\n",
    "# ax.set_xlabel('curvilinear length ($\\mu m$')\n",
    "# ax.set_ylabel('straightness ($\\mu m. \\mu m^{-1}$)')\n",
    "xlim = 180\n",
    "# ax.set_xlim(400,1500)\n",
    "# ax.set_ylim((0.97,1.01))\n",
    "slope, intercept, r_value, p_value, std_err = stats.linregress(densities_sort,np.abs(curvatures_sort))\n",
    "x= range(0,xlim)\n",
    "\n",
    "N=100\n",
    "ax.scatter(densities_sort,curvatures_sort,color='yellow',label='observed speeds')\n",
    "ax.plot(uniform_filter1d(densities_sort, size=N),uniform_filter1d(curvatures_sort, size=N),color='green',label = 'moving average')\n",
    "# ax.set_title(r'$r^2=$'+f'{round(r_value**2,max(2,-int(np.log10(r_value**2))+2))}, p_value = {round(p_value**2,max(2,-int(np.log10(p_value**2))+2))}, slope = {round(slope,4)}')\n",
    "x= range(0,xlim+1)\n",
    "legend_str = r'linear regression : $r^2=$'+f'{round(r_value**2,max(2,-int(np.log10(r_value**2))+2))}, p-value = {round(p_value,max(2,-int(np.log10(p_value))+2))}, slope = {round(slope,4)}'\n",
    "line, = ax.plot(x,x*slope+intercept,color='red',label = legend_str)"
   ]
  },
  {
   "cell_type": "code",
   "execution_count": 43,
   "metadata": {},
   "outputs": [
    {
     "data": {
      "application/vnd.jupyter.widget-view+json": {
       "model_id": "aaf1ed346cb744ff9e319228a8ece93a",
       "version_major": 2,
       "version_minor": 0
      },
      "text/plain": [
       "Canvas(toolbar=Toolbar(toolitems=[('Home', 'Reset original view', 'home', 'home'), ('Back', 'Back to previous …"
      ]
     },
     "metadata": {},
     "output_type": "display_data"
    }
   ],
   "source": [
    "from scipy.ndimage import uniform_filter1d\n",
    "from scipy import stats\n",
    "plt.close('all')\n",
    "zipped_list = zip(baits['dist_P']*1.725/1000,baits['speed'])\n",
    "sorted_zip = sorted(zipped_list)\n",
    "densities_sort,curvatures_sort = zip(*sorted_zip)\n",
    "fig=plt.figure(figsize=(8,8))\n",
    "ax = fig.add_subplot(111)\n",
    "ax.set_xlabel('distance to P(mm)')\n",
    "ax.set_ylabel('speed($\\mu m. h^{-1}$)')\n",
    "xlim = 70\n",
    "ax.set_ylim(0,400)\n",
    "# ax.set_ylim((0.97,1.01))\n",
    "slope, intercept, r_value, p_value, std_err = stats.linregress(densities_sort,np.abs(curvatures_sort))\n",
    "x= range(0,xlim)\n",
    "\n",
    "N=300\n",
    "ax.scatter(densities_sort,curvatures_sort,color='yellow',label='observed speeds')\n",
    "ax.plot(uniform_filter1d(densities_sort, size=N),uniform_filter1d(curvatures_sort, size=N),color='green',label = 'moving average')\n",
    "# ax.set_title(r'$r^2=$'+f'{round(r_value**2,max(2,-int(np.log10(r_value**2))+2))}, p_value = {round(p_value**2,max(2,-int(np.log10(p_value**2))+2))}, slope = {round(slope,4)}')\n",
    "x= range(0,xlim+1)\n",
    "legend_str = r'linear regression : $r^2=$'+f'{round(r_value**2,max(2,-int(np.log10(r_value**2))+2))}, p-value = {round(p_value,max(2,-int(np.log10(p_value))+2))}, slope = {round(slope,4)}'\n",
    "line, = ax.plot(x,x*slope+intercept,color='red',label = legend_str)"
   ]
  },
  {
   "cell_type": "code",
   "execution_count": 29,
   "metadata": {},
   "outputs": [
    {
     "data": {
      "text/plain": [
       "0.705453877735688"
      ]
     },
     "execution_count": 29,
     "metadata": {},
     "output_type": "execute_result"
    }
   ],
   "source": [
    "p_value"
   ]
  }
 ],
 "metadata": {
  "kernelspec": {
   "display_name": "Python 3",
   "language": "python",
   "name": "python3"
  },
  "language_info": {
   "codemirror_mode": {
    "name": "ipython",
    "version": 3
   },
   "file_extension": ".py",
   "mimetype": "text/x-python",
   "name": "python",
   "nbconvert_exporter": "python",
   "pygments_lexer": "ipython3",
   "version": "3.7.7"
  }
 },
 "nbformat": 4,
 "nbformat_minor": 4
}

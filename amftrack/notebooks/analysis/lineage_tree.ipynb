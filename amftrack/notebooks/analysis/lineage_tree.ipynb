{
 "cells": [
  {
   "cell_type": "code",
   "execution_count": 58,
   "metadata": {},
   "outputs": [],
   "source": [
    "from ete3 import Tree, TreeStyle\n",
    "import ast\n",
    "from datetime import datetime, timedelta\n",
    "import pandas as pd"
   ]
  },
  {
   "cell_type": "code",
   "execution_count": 2,
   "metadata": {},
   "outputs": [],
   "source": [
    "plate = 13\n",
    "date_init = datetime(2020, 7, 1, 19, 57)\n",
    "dates_datetime = [date_init + timedelta(hours=4) * i for i in range(24)]\n",
    "dates = [\n",
    "    f'{0 if date.month<10 else \"\"}{date.month}{0 if date.day<10 else \"\"}{date.day}_{0 if date.hour<10 else \"\"}{date.hour}{0 if date.minute<10 else \"\"}{date.minute}'\n",
    "    for date in dates_datetime\n",
    "]"
   ]
  },
  {
   "cell_type": "code",
   "execution_count": 3,
   "metadata": {},
   "outputs": [],
   "source": [
    "def from_connection_tab(connect_tab):\n",
    "    from_tip = {}\n",
    "    growth_pattern = {}\n",
    "    for i in range(len(connect_tab[\"tip_origin\"])):\n",
    "        tip = connect_tab[\"tip_origin\"][i]\n",
    "        growth_pattern[tip] = ast.literal_eval(connect_tab[\"growth_pattern\"][i])\n",
    "        from_tip[tip] = ast.literal_eval(connect_tab[\"nodes_from_tip\"][i])\n",
    "    return (from_tip, growth_pattern)"
   ]
  },
  {
   "cell_type": "code",
   "execution_count": 4,
   "metadata": {},
   "outputs": [],
   "source": [
    "from_tip_growth_pattern = []\n",
    "for date in dates[:-1]:\n",
    "    from_tip_growth_pattern.append(\n",
    "        from_connection_tab(pd.read_csv(f\"Data/connection_{date}_{plate}.csv\"))\n",
    "    )"
   ]
  },
  {
   "cell_type": "code",
   "execution_count": 5,
   "metadata": {},
   "outputs": [],
   "source": [
    "connections = [c[0] for c in from_tip_growth_pattern]\n",
    "growth_patterns = [c[1] for c in from_tip_growth_pattern]"
   ]
  },
  {
   "cell_type": "code",
   "execution_count": 6,
   "metadata": {},
   "outputs": [],
   "source": [
    "growths = [\n",
    "    {\n",
    "        tip: sum([len(branch) for branch in growth_pattern[tip]])\n",
    "        for tip in growth_pattern.keys()\n",
    "    }\n",
    "    for growth_pattern in growth_patterns\n",
    "]"
   ]
  },
  {
   "cell_type": "code",
   "execution_count": 18,
   "metadata": {},
   "outputs": [],
   "source": [
    "growing_tips = [\n",
    "    [node for node in growths[i].keys() if growths[i][node] >= 20]\n",
    "    for i in range(len(growths))\n",
    "]"
   ]
  },
  {
   "cell_type": "code",
   "execution_count": 24,
   "metadata": {},
   "outputs": [],
   "source": [
    "def test(value, listoflist, count):\n",
    "    counting = 0\n",
    "    for liste in listoflist:\n",
    "        if value in liste:\n",
    "            counting += 1\n",
    "    return counting >= count"
   ]
  },
  {
   "cell_type": "code",
   "execution_count": 20,
   "metadata": {},
   "outputs": [],
   "source": [
    "growing_tip_of_interest = [\n",
    "    tip for tip in growing_tips[0] if test(tip, growing_tips, 10)\n",
    "]"
   ]
  },
  {
   "cell_type": "code",
   "execution_count": 21,
   "metadata": {},
   "outputs": [
    {
     "data": {
      "text/plain": [
       "[0, 1, 7, 60, 680, 896, 1971, 1982, 1984]"
      ]
     },
     "execution_count": 21,
     "metadata": {},
     "output_type": "execute_result"
    }
   ],
   "source": [
    "growing_tip_of_interest"
   ]
  },
  {
   "cell_type": "code",
   "execution_count": 26,
   "metadata": {},
   "outputs": [],
   "source": [
    "t = Tree(\"60;\")\n",
    "for i, connection in enumerate(connections):\n",
    "    if 60 in connection.keys():\n",
    "        childs = connection[60]\n",
    "        for child in childs:\n",
    "            if child != 60:\n",
    "                t.add_child(Tree(str(child) + \";\"), dist=i)"
   ]
  },
  {
   "cell_type": "code",
   "execution_count": 54,
   "metadata": {},
   "outputs": [],
   "source": [
    "def make_tree(root, j):\n",
    "    t = Tree(str(root) + \";\")\n",
    "    for i, connection in enumerate(connections[j:]):\n",
    "        if root in connection.keys():\n",
    "            childs = connection[root]\n",
    "            for child in childs:\n",
    "                if child != root and test(child, connections[j:], 1):\n",
    "                    t.add_child(make_tree(child, i), dist=i)\n",
    "    return t"
   ]
  },
  {
   "cell_type": "code",
   "execution_count": 64,
   "metadata": {},
   "outputs": [],
   "source": [
    "t = make_tree(60, 0)"
   ]
  },
  {
   "cell_type": "code",
   "execution_count": 46,
   "metadata": {},
   "outputs": [],
   "source": [
    "t2 = make_tree(7, 0)"
   ]
  },
  {
   "cell_type": "code",
   "execution_count": 61,
   "metadata": {},
   "outputs": [],
   "source": [
    "ts = TreeStyle()\n",
    "ts.show_leaf_name = True\n",
    "ts.mode = \"c\"\n",
    "ts.arc_start = -360  # 0 degrees = 3 o'clock\n",
    "ts.arc_span = 360"
   ]
  },
  {
   "cell_type": "code",
   "execution_count": 65,
   "metadata": {},
   "outputs": [],
   "source": [
    "t.show(tree_style=ts)"
   ]
  }
 ],
 "metadata": {
  "kernelspec": {
   "display_name": "tree_plotting",
   "language": "python",
   "name": "tree_plotting"
  },
  "language_info": {
   "codemirror_mode": {
    "name": "ipython",
    "version": 3
   },
   "file_extension": ".py",
   "mimetype": "text/x-python",
   "name": "python",
   "nbconvert_exporter": "python",
   "pygments_lexer": "ipython3",
   "version": "3.8.5"
  }
 },
 "nbformat": 4,
 "nbformat_minor": 4
}

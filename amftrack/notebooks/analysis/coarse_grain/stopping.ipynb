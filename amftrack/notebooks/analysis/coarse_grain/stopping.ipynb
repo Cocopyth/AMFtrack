{
 "cells": [
  {
   "cell_type": "code",
   "execution_count": 1,
   "metadata": {},
   "outputs": [],
   "source": [
    "%matplotlib widget\n",
    "\n",
    "import sys  \n",
    "sys.path.insert(0, '/home/cbisot/pycode/MscThesis/')\n",
    "import pandas as pd\n",
    "from amftrack.util import get_dates_datetime, get_dirname, get_plate_number, get_postion_number,get_begin_index\n",
    "import ast\n",
    "from amftrack.plotutil import plot_t_tp1\n",
    "from scipy import sparse\n",
    "from datetime import datetime\n",
    "from amftrack.pipeline.functions.node_id import orient\n",
    "import pickle\n",
    "import scipy.io as sio\n",
    "from pymatreader import read_mat\n",
    "from matplotlib import colors\n",
    "import cv2\n",
    "import imageio\n",
    "import matplotlib.pyplot as plt\n",
    "import numpy as np\n",
    "from skimage.filters import frangi\n",
    "from skimage import filters\n",
    "from random import choice\n",
    "import scipy.sparse\n",
    "import os\n",
    "from amftrack.pipeline.functions.extract_graph import from_sparse_to_graph, generate_nx_graph, sparse_to_doc\n",
    "from skimage.feature import hessian_matrix_det\n",
    "from amftrack.pipeline.functions.experiment_class_surf import Experiment, Edge, Node, Hyphae, plot_raw_plus\n",
    "from amftrack.pipeline.paths.directory import run_parallel, find_state, directory_scratch, directory_project\n",
    "from amftrack.notebooks.analysis.util import *\n",
    "from scipy import stats\n",
    "from scipy.ndimage.filters import uniform_filter1d\n",
    "from statsmodels.stats import weightstats as stests\n",
    "from amftrack.pipeline.functions.hyphae_id_surf import get_pixel_growth_and_new_children\n",
    "from collections import Counter\n",
    "from IPython.display import clear_output\n",
    "from amftrack.notebooks.analysis.data_info import *\n",
    "from scipy.optimize import curve_fit"
   ]
  },
  {
   "cell_type": "code",
   "execution_count": 2,
   "metadata": {},
   "outputs": [
    {
     "name": "stdout",
     "output_type": "stream",
     "text": [
      "begin = 2020-11-23 15:01:00 \n",
      "  end = 2020-11-26 03:02:00\n"
     ]
    }
   ],
   "source": [
    "exp = get_exp((39,269,329),directory_project)\n"
   ]
  },
  {
   "cell_type": "code",
   "execution_count": 59,
   "metadata": {},
   "outputs": [],
   "source": [
    "def criter(max_growth,length):\n",
    "    return(a*length+b*max_growth>=2.5 and max_growth>=50)"
   ]
  },
  {
   "cell_type": "code",
   "execution_count": 3,
   "metadata": {},
   "outputs": [
    {
     "name": "stdout",
     "output_type": "stream",
     "text": [
      "failure in finding closest edge\n",
      "failure in finding closest edge\n",
      "failure in finding closest edge\n",
      "failure in finding closest edge\n",
      "failure in finding closest edge\n",
      "failure in finding closest edge\n",
      "failure in finding closest edge\n",
      "failure in finding closest edge\n",
      "failure in finding closest edge\n",
      "failure in finding closest edge\n",
      "failure in finding closest edge\n",
      "failure in finding closest edge\n",
      "failure in finding closest edge\n",
      "failure in finding closest edge\n",
      "failure in finding closest edge\n",
      "failure in finding closest edge\n",
      "failure in finding closest edge\n",
      "failure in finding closest edge\n",
      "failure in finding closest edge\n",
      "failure in finding closest edge\n",
      "failure in finding closest edge\n",
      "failure in finding closest edge\n",
      "failure in finding closest edge\n",
      "failure in finding closest edge\n",
      "failure in finding closest edge\n",
      "failure in finding closest edge\n",
      "failure in finding closest edge\n",
      "failure in finding closest edge\n",
      "failure in finding closest edge\n",
      "failure in finding closest edge\n",
      "failure in finding closest edge\n",
      "failure in finding closest edge\n",
      "failure in finding closest edge\n",
      "failure in finding closest edge\n",
      "failure in finding closest edge\n",
      "failure in finding closest edge\n",
      "failure in finding closest edge\n",
      "failure in finding closest edge\n",
      "failure in finding closest edge\n",
      "failure in finding closest edge\n",
      "failure in finding closest edge\n",
      "failure in finding closest edge\n",
      "failure in finding closest edge\n",
      "failure in finding closest edge\n",
      "failure in finding closest edge\n",
      "failure in finding closest edge\n",
      "failure in finding closest edge\n",
      "failure in finding closest edge\n",
      "failure in finding closest edge\n",
      "failure in finding closest edge\n",
      "failure in finding closest edge\n",
      "failure in finding closest edge\n",
      "failure in finding closest edge\n",
      "failure in finding closest edge\n",
      "failure in finding closest edge\n",
      "failure in finding closest edge\n",
      "failure in finding closest edge\n",
      "failure in finding closest edge\n",
      "failure in finding closest edge\n",
      "failure in finding closest edge\n",
      "failure in finding closest edge\n",
      "failure in finding closest edge\n",
      "failure in finding closest edge\n",
      "failure in finding closest edge\n",
      "failure in finding closest edge\n"
     ]
    }
   ],
   "source": [
    "RH, BAS, max_speeds, total_growths, widths, lengths, branch_frequ,select_hyph = get_rh_bas(exp,criter)"
   ]
  },
  {
   "cell_type": "code",
   "execution_count": 17,
   "metadata": {},
   "outputs": [],
   "source": [
    "all_max_speeds += max_speeds"
   ]
  },
  {
   "cell_type": "code",
   "execution_count": 12,
   "metadata": {},
   "outputs": [
    {
     "data": {
      "text/plain": [
       "10672"
      ]
     },
     "execution_count": 12,
     "metadata": {},
     "output_type": "execute_result"
    }
   ],
   "source": [
    "len(all_max_speeds)"
   ]
  },
  {
   "cell_type": "code",
   "execution_count": 5,
   "metadata": {},
   "outputs": [],
   "source": [
    "all_max_speeds = []"
   ]
  },
  {
   "cell_type": "code",
   "execution_count": 18,
   "metadata": {},
   "outputs": [
    {
     "data": {
      "application/vnd.jupyter.widget-view+json": {
       "model_id": "60d20fe0cb304fe7be523bd2fb5581d1",
       "version_major": 2,
       "version_minor": 0
      },
      "text/plain": [
       "Canvas(toolbar=Toolbar(toolitems=[('Home', 'Reset original view', 'home', 'home'), ('Back', 'Back to previous …"
      ]
     },
     "metadata": {},
     "output_type": "display_data"
    },
    {
     "data": {
      "text/plain": [
       "(array([53., 52., 61., 56., 53., 47., 38., 44., 43., 40., 37., 30., 34.,\n",
       "        31., 35., 27., 35., 29., 35., 39., 24., 22., 17.,  6.,  8.,  4.,\n",
       "         4.,  2.,  3.,  3.]),\n",
       " array([150.40605602, 158.11690353, 165.82775104, 173.53859855,\n",
       "        181.24944606, 188.96029358, 196.67114109, 204.3819886 ,\n",
       "        212.09283611, 219.80368362, 227.51453113, 235.22537864,\n",
       "        242.93622615, 250.64707366, 258.35792117, 266.06876869,\n",
       "        273.7796162 , 281.49046371, 289.20131122, 296.91215873,\n",
       "        304.62300624, 312.33385375, 320.04470126, 327.75554877,\n",
       "        335.46639628, 343.17724379, 350.88809131, 358.59893882,\n",
       "        366.30978633, 374.02063384, 381.73148135]),\n",
       " <a list of 30 Patch objects>)"
      ]
     },
     "execution_count": 18,
     "metadata": {},
     "output_type": "execute_result"
    }
   ],
   "source": [
    "plt.close('all')\n",
    "fig=plt.figure(figsize=(8,8))\n",
    "ax = fig.add_subplot(111)\n",
    "ax.hist([speed for speed in all_max_speeds if speed<400 and speed>150],30)"
   ]
  },
  {
   "cell_type": "code",
   "execution_count": 6,
   "metadata": {},
   "outputs": [
    {
     "data": {
      "application/vnd.jupyter.widget-view+json": {
       "model_id": "5043f308019c4aa0ab15cc3121792441",
       "version_major": 2,
       "version_minor": 0
      },
      "text/plain": [
       "Canvas(toolbar=Toolbar(toolitems=[('Home', 'Reset original view', 'home', 'home'), ('Back', 'Back to previous …"
      ]
     },
     "metadata": {},
     "output_type": "display_data"
    },
    {
     "data": {
      "text/plain": [
       "[<matplotlib.lines.Line2D at 0x2abbbc122b10>]"
      ]
     },
     "execution_count": 6,
     "metadata": {},
     "output_type": "execute_result"
    }
   ],
   "source": [
    "plt.close('all')\n",
    "fig=plt.figure(figsize=(8,8))\n",
    "x = np.linspace(0,12000)\n",
    "ax = fig.add_subplot(111)\n",
    "ax.scatter(total_growths,max_speeds)\n",
    "a= 0.0005\n",
    "b= 0.01\n",
    "thresh = 2\n",
    "ax.plot(x,2.5/b-a/b*x)"
   ]
  },
  {
   "cell_type": "code",
   "execution_count": 13,
   "metadata": {},
   "outputs": [
    {
     "data": {
      "text/plain": [
       "230"
      ]
     },
     "execution_count": 13,
     "metadata": {},
     "output_type": "execute_result"
    }
   ],
   "source": [
    "len(RH)"
   ]
  },
  {
   "cell_type": "code",
   "execution_count": 61,
   "metadata": {},
   "outputs": [],
   "source": [
    "hyph_anas_tip_hyph = [hyphat for hyphat in exp.hyphaes if len(hyphat.ts)>=2 and hyphat.end.degree(hyphat.ts[-1])>=3 and hyphat.end.degree(hyphat.ts[-2])>=3]\n"
   ]
  },
  {
   "cell_type": "code",
   "execution_count": 62,
   "metadata": {},
   "outputs": [],
   "source": [
    "chosen_RH = [rh for rh in RH if rh.ts[-1]==60]#+[rh for rh in BAS if len(rh.ts)>0 and rh.ts[-1]==60]"
   ]
  },
  {
   "cell_type": "code",
   "execution_count": 63,
   "metadata": {},
   "outputs": [],
   "source": [
    "rh_not_anas = [rh for rh in chosen_RH if rh not in hyph_anas_tip_hyph]\n",
    "rh_anas = [rh for rh in chosen_RH if rh in hyph_anas_tip_hyph]"
   ]
  },
  {
   "cell_type": "code",
   "execution_count": 64,
   "metadata": {},
   "outputs": [
    {
     "data": {
      "application/vnd.jupyter.widget-view+json": {
       "model_id": "afce3320be1d410199e03bbe1b854942",
       "version_major": 2,
       "version_minor": 0
      },
      "text/plain": [
       "Canvas(toolbar=Toolbar(toolitems=[('Home', 'Reset original view', 'home', 'home'), ('Back', 'Back to previous …"
      ]
     },
     "metadata": {},
     "output_type": "display_data"
    }
   ],
   "source": [
    "plt.close('all')\n",
    "rh_an = choice(rh_anas)\n",
    "plot_raw_plus(exp,rh_an.ts[-1],[rh_an.root.label,rh_an.end.label])"
   ]
  },
  {
   "cell_type": "code",
   "execution_count": 65,
   "metadata": {},
   "outputs": [
    {
     "name": "stdout",
     "output_type": "stream",
     "text": [
      "failure in finding closest edge\n"
     ]
    }
   ],
   "source": [
    "stopping = []\n",
    "for rh in rh_not_anas:\n",
    "    if len(rh.ts)>2:\n",
    "        t=rh.ts[-2]\n",
    "        tp1= rh.ts[-1]\n",
    "        pixels, nodes = get_pixel_growth_and_new_children(rh, t, tp1)\n",
    "        lapse_time = get_time(exp, t, tp1)\n",
    "        curv_growth = np.sum([get_length_um(seg) for seg in pixels])\n",
    "        speed = curv_growth/lapse_time\n",
    "        if speed<10:\n",
    "            stopping.append(rh)\n"
   ]
  },
  {
   "cell_type": "code",
   "execution_count": 25,
   "metadata": {},
   "outputs": [
    {
     "data": {
      "text/plain": [
       "(22, 44, 126, 60)"
      ]
     },
     "execution_count": 25,
     "metadata": {},
     "output_type": "execute_result"
    }
   ],
   "source": [
    "len(stopping), len(rh_anas),len(chosen_RH),len(rh_not_stopping_or_anastomosing)"
   ]
  },
  {
   "cell_type": "code",
   "execution_count": 66,
   "metadata": {},
   "outputs": [
    {
     "name": "stdout",
     "output_type": "stream",
     "text": [
      "failure in finding closest edge\n"
     ]
    }
   ],
   "source": [
    "lapses_stopping= []\n",
    "for rh in stopping:\n",
    "    for index, t in enumerate(rh.ts[:-1]):\n",
    "        tp1= rh.ts[index+1]\n",
    "        pixels, nodes = get_pixel_growth_and_new_children(rh, t, tp1)\n",
    "        lapse_time = get_time(exp, t, tp1)\n",
    "        curv_growth = np.sum([get_length_um(seg) for seg in pixels])\n",
    "        speed = curv_growth/lapse_time\n",
    "        if speed<10:\n",
    "            lapses_stopping.append(get_time(exp,rh.ts[0],t))\n",
    "            break\n",
    "        \n"
   ]
  },
  {
   "cell_type": "code",
   "execution_count": 67,
   "metadata": {},
   "outputs": [],
   "source": [
    "lapse_anas = []\n",
    "for hyph in hyph_anas_tip_hyph:\n",
    "    if hyph in RH:\n",
    "        for t in hyph.ts:\n",
    "            if hyph.end.degree(t)>=3:\n",
    "                time = get_time(exp,hyph.ts[0],t)\n",
    "                lapse_anas.append((hyph.ts[0],time))\n",
    "                break\n",
    "lapses_anas = [lapse for t,lapse in lapse_anas]"
   ]
  },
  {
   "cell_type": "code",
   "execution_count": 68,
   "metadata": {},
   "outputs": [],
   "source": [
    "rh_not_stopping_or_anastomosing = [rh for rh in chosen_RH if rh not in stopping and rh not in rh_anas]"
   ]
  },
  {
   "cell_type": "code",
   "execution_count": 69,
   "metadata": {},
   "outputs": [],
   "source": [
    "lapses_continuing = [get_time(exp,rh.ts[0],rh.ts[-1]) for rh in rh_not_stopping_or_anastomosing]"
   ]
  },
  {
   "cell_type": "code",
   "execution_count": 70,
   "metadata": {},
   "outputs": [],
   "source": [
    "counts = []\n",
    "lapses = range (exp.ts)\n",
    "for lapse in lapses:\n",
    "    counting=0\n",
    "    for liste in [lapses_anas,lapses_stopping]:\n",
    "        counting+=len([x for x in liste if x>=lapse])\n",
    "    counts.append(counting)"
   ]
  },
  {
   "cell_type": "code",
   "execution_count": 18,
   "metadata": {},
   "outputs": [
    {
     "data": {
      "text/plain": [
       "112"
      ]
     },
     "execution_count": 18,
     "metadata": {},
     "output_type": "execute_result"
    }
   ],
   "source": [
    "len(RH)"
   ]
  },
  {
   "cell_type": "code",
   "execution_count": 79,
   "metadata": {},
   "outputs": [
    {
     "data": {
      "application/vnd.jupyter.widget-view+json": {
       "model_id": "92116421067046a59f71634d26ec5cdc",
       "version_major": 2,
       "version_minor": 0
      },
      "text/plain": [
       "Canvas(toolbar=Toolbar(toolitems=[('Home', 'Reset original view', 'home', 'home'), ('Back', 'Back to previous …"
      ]
     },
     "metadata": {},
     "output_type": "display_data"
    },
    {
     "data": {
      "text/plain": [
       "<matplotlib.legend.Legend at 0x2b7433fa7510>"
      ]
     },
     "execution_count": 79,
     "metadata": {},
     "output_type": "execute_result"
    }
   ],
   "source": [
    "fig = plt.figure()\n",
    "ax = fig.add_subplot(111)\n",
    "\n",
    "\n",
    "def func2(t,alpha):\n",
    "    return((np.exp(-alpha*(t))))\n",
    "popt1, pcov = curve_fit(func2,lapses[0:],np.array(counts)[0:]/counts[0],bounds = ([0],1*[np.inf]),p0=[1])\n",
    "# popt2, pcov = curve_fit(func2, times, total_anastomosis_theory,bounds = ([0,0,-np.inf],3*[np.inf]),p0=[1,1,0])\n",
    "\n",
    "ax.scatter(lapses,np.array(counts)/counts[0], label = 'Observed proportion of hyphae not anastomosing')\n",
    "ax.plot(lapses,func2(np.array(lapses),*popt1),label = f'exponential fit : alpha= {\"{:.2f}\".format(popt1[0]*24)}.day-1',color='blue')\n",
    "ax.set_xlabel('lapse (h)',size=20)\n",
    "ax.set_ylabel('P(t>lapse)',size =20)\n",
    "plt.legend()"
   ]
  },
  {
   "cell_type": "code",
   "execution_count": 72,
   "metadata": {},
   "outputs": [
    {
     "data": {
      "text/plain": [
       "216.40425613334455"
      ]
     },
     "execution_count": 72,
     "metadata": {},
     "output_type": "execute_result"
    }
   ],
   "source": [
    "3.6*1000/np.log(2)/24"
   ]
  },
  {
   "cell_type": "code",
   "execution_count": 46,
   "metadata": {},
   "outputs": [
    {
     "name": "stderr",
     "output_type": "stream",
     "text": [
      "/home/cbisot/anaconda3/envs/test/lib/python3.7/site-packages/matplotlib/__init__.py:880: MatplotlibDeprecationWarning: \n",
      "nbagg.transparent\n",
      "  version, key, obj_type=\"rcparam\", alternative=alt_key)\n"
     ]
    },
    {
     "data": {
      "application/vnd.jupyter.widget-view+json": {
       "model_id": "ab0c9652483c436db2a1092deb9bf095",
       "version_major": 2,
       "version_minor": 0
      },
      "text/plain": [
       "Canvas(toolbar=Toolbar(toolitems=[('Home', 'Reset original view', 'home', 'home'), ('Back', 'Back to previous …"
      ]
     },
     "metadata": {},
     "output_type": "display_data"
    }
   ],
   "source": [
    "plt.close('all')\n",
    "plot_raw_plus(exp,-1,[rh.root.label for rh in RH])"
   ]
  },
  {
   "cell_type": "code",
   "execution_count": 14,
   "metadata": {},
   "outputs": [
    {
     "data": {
      "application/vnd.jupyter.widget-view+json": {
       "model_id": "e12437e941584788b2f6bda9efd8c75b",
       "version_major": 2,
       "version_minor": 0
      },
      "text/plain": [
       "Canvas(toolbar=Toolbar(toolitems=[('Home', 'Reset original view', 'home', 'home'), ('Back', 'Back to previous …"
      ]
     },
     "metadata": {},
     "output_type": "display_data"
    }
   ],
   "source": [
    "plt.close('all')\n",
    "plot_raw_plus(exp,-1,[2646, 9824])"
   ]
  },
  {
   "cell_type": "code",
   "execution_count": 19,
   "metadata": {},
   "outputs": [],
   "source": [
    "a = [79,11371,12]\n",
    "b = [79,5749,6]\n",
    "c = [2646, 9824,7]\n",
    "d = [2271, 6297,3]\n",
    "e = [2646,7628,4]\n",
    "f = [430,7503,10]"
   ]
  },
  {
   "cell_type": "code",
   "execution_count": 22,
   "metadata": {},
   "outputs": [
    {
     "data": {
      "text/plain": [
       "1553.1546677321942"
      ]
     },
     "execution_count": 22,
     "metadata": {},
     "output_type": "execute_result"
    }
   ],
   "source": [
    "x=a\n",
    "list_node = nx.shortest_path(\n",
    "            exp.nx_graph[-1],\n",
    "            source=x[0],\n",
    "            target=x[1],\n",
    "            weight=\"weight\",\n",
    "        )\n",
    "get_length_um_node_list(list_node,exp,-1)/x[2]"
   ]
  },
  {
   "cell_type": "code",
   "execution_count": 25,
   "metadata": {},
   "outputs": [],
   "source": [
    "frequs = []\n",
    "for trup in [a,b,c,d,e,f]:\n",
    "    x = trup\n",
    "    list_node = nx.shortest_path(\n",
    "            exp.nx_graph[-1],\n",
    "            source=x[0],\n",
    "            target=x[1],\n",
    "            weight=\"weight\",\n",
    "        )\n",
    "    frequs.append(get_length_um_node_list(list_node,exp,-1)/x[2])"
   ]
  },
  {
   "cell_type": "code",
   "execution_count": 26,
   "metadata": {},
   "outputs": [
    {
     "data": {
      "text/plain": [
       "1561.5828533268539"
      ]
     },
     "execution_count": 26,
     "metadata": {},
     "output_type": "execute_result"
    }
   ],
   "source": [
    "np.mean(frequs)"
   ]
  },
  {
   "cell_type": "code",
   "execution_count": 34,
   "metadata": {},
   "outputs": [
    {
     "data": {
      "text/plain": [
       "262.39016056168026"
      ]
     },
     "execution_count": 34,
     "metadata": {},
     "output_type": "execute_result"
    }
   ],
   "source": [
    "(2.84+1.10-1.03)*1500/np.log(2)/24"
   ]
  },
  {
   "cell_type": "code",
   "execution_count": 45,
   "metadata": {},
   "outputs": [
    {
     "data": {
      "text/plain": [
       "1875.891732006734"
      ]
     },
     "execution_count": 45,
     "metadata": {},
     "output_type": "execute_result"
    }
   ],
   "source": [
    "get_length_um_node_list(list_node,exp,-1)/x[2]"
   ]
  },
  {
   "cell_type": "code",
   "execution_count": 34,
   "metadata": {},
   "outputs": [
    {
     "data": {
      "text/plain": [
       "(10.04469696969697, 7.328112449799197)"
      ]
     },
     "execution_count": 34,
     "metadata": {},
     "output_type": "execute_result"
    }
   ],
   "source": [
    "np.mean(lapses_stopping),np.mean(lapses_anas)"
   ]
  },
  {
   "cell_type": "code",
   "execution_count": 47,
   "metadata": {},
   "outputs": [
    {
     "data": {
      "text/plain": [
       "22"
      ]
     },
     "execution_count": 47,
     "metadata": {},
     "output_type": "execute_result"
    }
   ],
   "source": [
    "len(lapses_stopping)"
   ]
  },
  {
   "cell_type": "code",
   "execution_count": 51,
   "metadata": {},
   "outputs": [
    {
     "data": {
      "application/vnd.jupyter.widget-view+json": {
       "model_id": "131d556103904b28802ba072cfeb09aa",
       "version_major": 2,
       "version_minor": 0
      },
      "text/plain": [
       "Canvas(toolbar=Toolbar(toolitems=[('Home', 'Reset original view', 'home', 'home'), ('Back', 'Back to previous …"
      ]
     },
     "metadata": {},
     "output_type": "display_data"
    },
    {
     "data": {
      "text/plain": [
       "(array([0.12037348, 0.07482676, 0.03253337, 0.00976001, 0.00976001,\n",
       "        0.01301335, 0.        , 0.00650667, 0.        , 0.00325334]),\n",
       " array([ 0.98333333,  4.68666667,  8.39      , 12.09333333, 15.79666667,\n",
       "        19.5       , 23.20333333, 26.90666667, 30.61      , 34.31333333,\n",
       "        38.01666667]),\n",
       " <a list of 10 Patch objects>)"
      ]
     },
     "execution_count": 51,
     "metadata": {},
     "output_type": "execute_result"
    }
   ],
   "source": [
    "fig = plt.figure()\n",
    "ax = fig.add_subplot(111)\n",
    "ax.hist(lapses_anas,10,density= True)"
   ]
  },
  {
   "cell_type": "code",
   "execution_count": 32,
   "metadata": {},
   "outputs": [
    {
     "name": "stdout",
     "output_type": "stream",
     "text": [
      "[49, 50, 51, 52, 53, 54, 55, 56, 57, 58, 59, 60]\n"
     ]
    },
    {
     "data": {
      "application/vnd.jupyter.widget-view+json": {
       "model_id": "18bf16fed8ab4b71bfb814280a92933c",
       "version_major": 2,
       "version_minor": 0
      },
      "text/plain": [
       "Canvas(toolbar=Toolbar(toolitems=[('Home', 'Reset original view', 'home', 'home'), ('Back', 'Back to previous …"
      ]
     },
     "metadata": {},
     "output_type": "display_data"
    }
   ],
   "source": [
    "plt.close('all')\n",
    "rh_an = choice(rh_not_stopping_or_anastomosing)\n",
    "print(rh_an.ts)\n",
    "plot_raw_plus(exp,rh_an.ts[-1],[rh_an.root.label,rh_an.end.label])"
   ]
  },
  {
   "cell_type": "code",
   "execution_count": 19,
   "metadata": {},
   "outputs": [
    {
     "data": {
      "application/vnd.jupyter.widget-view+json": {
       "model_id": "4bb2fdc6d0ce47358695a8d1e1949ee8",
       "version_major": 2,
       "version_minor": 0
      },
      "text/plain": [
       "Canvas(toolbar=Toolbar(toolitems=[('Home', 'Reset original view', 'home', 'home'), ('Back', 'Back to previous …"
      ]
     },
     "metadata": {},
     "output_type": "display_data"
    }
   ],
   "source": [
    "plt.close('all')\n",
    "rh_an = choice(stopping)\n",
    "plot_raw_plus(exp,rh_an.ts[-1],[rh_an.root.label,rh_an.end.label])"
   ]
  }
 ],
 "metadata": {
  "kernelspec": {
   "display_name": "Python 3",
   "language": "python",
   "name": "python3"
  },
  "language_info": {
   "codemirror_mode": {
    "name": "ipython",
    "version": 3
   },
   "file_extension": ".py",
   "mimetype": "text/x-python",
   "name": "python",
   "nbconvert_exporter": "python",
   "pygments_lexer": "ipython3",
   "version": "3.7.7"
  }
 },
 "nbformat": 4,
 "nbformat_minor": 4
}

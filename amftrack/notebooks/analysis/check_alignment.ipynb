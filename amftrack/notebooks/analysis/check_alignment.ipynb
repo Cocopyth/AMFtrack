{
 "cells": [
  {
   "cell_type": "code",
   "execution_count": 2,
   "metadata": {},
   "outputs": [],
   "source": [
    "import os  \n",
    "import sys  \n",
    "sys.path.insert(0, os.getenv('HOME')+'/pycode/MscThesis/')\n",
    "%matplotlib widget\n",
    "from util import get_path, get_dates_datetime\n",
    "import pandas as pd\n",
    "import networkx as nx\n",
    "import numpy as np\n",
    "import matplotlib.pyplot as plt\n",
    "from extract_graph import generate_nx_graph, transform_list, generate_skeleton, generate_nx_graph_from_skeleton, from_connection_tab, from_nx_to_tab\n",
    "from node_id import whole_movement_identification, second_identification\n",
    "import ast\n",
    "from plotutil import plot_t_tp1, compress_skeleton\n",
    "from scipy import sparse\n",
    "from sparse_util import dilate, zhangSuen\n",
    "from realign import realign\n",
    "from datetime import datetime,timedelta\n",
    "from node_id import orient\n",
    "import pickle\n",
    "from matplotlib.widgets import CheckButtons\n",
    "import scipy.io as sio\n",
    "import imageio\n",
    "from pymatreader import read_mat\n",
    "from matplotlib import colors\n",
    "from copy import deepcopy,copy\n",
    "from collections import Counter\n",
    "import cv2 \n",
    "import imageio\n",
    "import matplotlib.pyplot as plt\n",
    "import numpy as np\n",
    "from skimage.filters import frangi, meijering\n",
    "from skimage.morphology import thin\n",
    "from skimage import data, filters\n",
    "from random import choice\n",
    "import scipy.sparse\n",
    "import os\n",
    "from time import time\n",
    "from extract_graph import dic_to_sparse, from_sparse_to_graph, generate_nx_graph, prune_graph, from_nx_to_tab, from_nx_to_tab_matlab,sparse_to_doc, connections_pixel_list_to_tab, transform_list, clean_degree_4\n",
    "from time import sleep\n",
    "from skimage.feature import hessian_matrix_det\n",
    "from experiment_class_surf import Experiment,clean_exp_with_hyphaes\n",
    "from hyphae_id_surf import clean_and_relabel, get_mother, save_hyphaes, resolve_ambiguity_two_ends,solve_degree4, clean_obvious_fake_tips, get_pixel_growth_and_new_children\n",
    "from subprocess import call\n",
    "import open3d as o3d\n",
    "import sklearn\n",
    "from Analysis.util import get_time, get_length_um\n",
    "from experiment_class_surf import Edge,Node\n",
    "from directory import directory\n"
   ]
  },
  {
   "cell_type": "code",
   "execution_count": 5,
   "metadata": {},
   "outputs": [
    {
     "name": "stdout",
     "output_type": "stream",
     "text": [
      "begin = 2020-12-08 14:56:00 \n",
      "  end = 2020-12-09 11:26:00\n"
     ]
    }
   ],
   "source": [
    "inst = (24,105,110)\n",
    "plate = inst[0]\n",
    "begin = inst[1]\n",
    "end = inst[2]\n",
    "dates_datetime = get_dates_datetime(directory,plate)\n",
    "print('begin =',dates_datetime[begin],'\\n  end =',dates_datetime[end])\n",
    "dates_datetime_chosen=dates_datetime[begin:end+1]\n",
    "dates = dates_datetime_chosen\n",
    "exp = pickle.load( open(f'{directory}/Analysis_Plate{plate}_{dates[0]}_{dates[-1]}/experiment_{plate}.pick', \"rb\" ) )"
   ]
  },
  {
   "cell_type": "code",
   "execution_count": 6,
   "metadata": {},
   "outputs": [
    {
     "name": "stderr",
     "output_type": "stream",
     "text": [
      "/home/cbisot/anaconda3/envs/test/lib/python3.7/site-packages/matplotlib/__init__.py:880: MatplotlibDeprecationWarning: \n",
      "nbagg.transparent\n",
      "  version, key, obj_type=\"rcparam\", alternative=alt_key)\n"
     ]
    },
    {
     "data": {
      "application/vnd.jupyter.widget-view+json": {
       "model_id": "f4c5d3057deb45dfac9c8734ad4d1de1",
       "version_major": 2,
       "version_minor": 0
      },
      "text/plain": [
       "Canvas(toolbar=Toolbar(toolitems=[('Home', 'Reset original view', 'home', 'home'), ('Back', 'Back to previous …"
      ]
     },
     "metadata": {},
     "output_type": "display_data"
    }
   ],
   "source": [
    "ts = list(range(0,len(exp.nx_graph)))\n",
    "exp.plot(ts,[[]]*(len(ts)))"
   ]
  }
 ],
 "metadata": {
  "kernelspec": {
   "display_name": "Python 3",
   "language": "python",
   "name": "python3"
  },
  "language_info": {
   "codemirror_mode": {
    "name": "ipython",
    "version": 3
   },
   "file_extension": ".py",
   "mimetype": "text/x-python",
   "name": "python",
   "nbconvert_exporter": "python",
   "pygments_lexer": "ipython3",
   "version": "3.7.7"
  }
 },
 "nbformat": 4,
 "nbformat_minor": 4
}

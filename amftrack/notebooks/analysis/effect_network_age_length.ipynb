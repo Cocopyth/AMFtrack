{
 "cells": [
  {
   "cell_type": "code",
   "execution_count": 1,
   "metadata": {},
   "outputs": [],
   "source": [
    "%matplotlib widget\n",
    "\n",
    "import os  \n",
    "import sys  \n",
    "sys.path.insert(0, os.getenv('HOME')+'/pycode/MscThesis/')\n",
    "import pandas as pd\n",
    "from amftrack.util import get_dates_datetime, get_dirname, get_plate_number, get_postion_number\n",
    "\n",
    "import ast\n",
    "from amftrack.plotutil import plot_t_tp1\n",
    "from scipy import sparse\n",
    "from datetime import datetime\n",
    "from amftrack.pipeline.functions.node_id import orient\n",
    "import pickle\n",
    "import scipy.io as sio\n",
    "from pymatreader import read_mat\n",
    "from matplotlib import colors\n",
    "import cv2\n",
    "import imageio\n",
    "import matplotlib.pyplot as plt\n",
    "import numpy as np\n",
    "from skimage.filters import frangi\n",
    "from skimage import filters\n",
    "from random import choice\n",
    "import scipy.sparse\n",
    "import os\n",
    "from amftrack.pipeline.functions.extract_graph import from_sparse_to_graph, generate_nx_graph, sparse_to_doc\n",
    "from skimage.feature import hessian_matrix_det\n",
    "from amftrack.pipeline.functions.experiment_class_surf import Experiment\n",
    "from amftrack.pipeline.paths.directory import run_parallel, find_state, directory_scratch, directory_project, path_code\n",
    "\n",
    "from amftrack.notebooks.analysis.data_info import *\n",
    "import matplotlib.patches as mpatches\n",
    "from statsmodels.stats import weightstats as stests\n"
   ]
  },
  {
   "cell_type": "code",
   "execution_count": 2,
   "metadata": {},
   "outputs": [],
   "source": [
    "window=800\n",
    "results={}\n",
    "for treatment in treatments.keys():\n",
    "    insts = treatments[treatment]\n",
    "    for inst in insts:\n",
    "        results[inst] = pickle.load(open(f'{path_code}/MscThesis/Results/straight_{window}_{inst}.pick', \"rb\"))"
   ]
  },
  {
   "cell_type": "code",
   "execution_count": 3,
   "metadata": {},
   "outputs": [],
   "source": [
    "column_names = [\"plate\",\"inst\", \"treatment\", \"angle\", \"curvature\",\"density\",\"growth\",\"speed\",\"straightness\",\"t\",\"hyph\",\"total_network\"]\n",
    "infos = pd.DataFrame(columns=column_names)\n",
    "for treatment in treatments.keys():\n",
    "    insts = treatments[treatment]\n",
    "    for inst in insts:\n",
    "        angles, curvatures, densities,growths,speeds,tortuosities,ts,hyphs,total_lengths = results[inst]\n",
    "        for i,angle in enumerate(angles):\n",
    "            new_line = pd.DataFrame(\n",
    "                {   \"plate\": [plate_number[inst]],\n",
    "                    \"inst\": [inst],\n",
    "                    \"treatment\": [treatment],\n",
    "                    \"angle\": [angle],\n",
    "                    \"curvature\": [curvatures[i]],\n",
    "                    \"density\": [densities[i]],\n",
    "                    \"growth\": [growths[i]],\n",
    "                    \"speed\": [speeds[i]],\n",
    "                    \"straightness\": [tortuosities[i]],\n",
    "                     \"t\": [ts[i]],\n",
    "                     \"hyph\": [hyphs[i]],\n",
    "                     \"total_network\" : [total_lengths[i]],\n",
    "                }\n",
    "            )  # index 0 for\n",
    "            # mothers need to be modified to resolve multi mother issue\n",
    "            infos = infos.append(new_line, ignore_index=True)"
   ]
  },
  {
   "cell_type": "code",
   "execution_count": 18,
   "metadata": {},
   "outputs": [
    {
     "data": {
      "text/plain": [
       "array([1608.25035625,  267.91909801,  359.76637183, -116.37934115,\n",
       "         66.06112056, -625.74896763,  167.38691282, -112.77395878,\n",
       "       -171.45343585,  -61.35774973])"
      ]
     },
     "execution_count": 18,
     "metadata": {},
     "output_type": "execute_result"
    }
   ],
   "source": [
    "speed[:10]"
   ]
  },
  {
   "cell_type": "code",
   "execution_count": 19,
   "metadata": {},
   "outputs": [],
   "source": [
    "x_values = infos['growth'].values\n",
    "speed= x_values[:-1]-x_values[1:]\n",
    "speed_complete= np.insert(speed,0,np.nan)\n",
    "infos['speed2'] = speed_complete"
   ]
  },
  {
   "cell_type": "code",
   "execution_count": 4,
   "metadata": {},
   "outputs": [],
   "source": [
    "corrected = infos.loc[(infos[\"straightness\"] <= 1)&(infos[\"plate\"] !=435)& (infos[\"speed\"] >=25)& (infos[\"speed\"] <400)]"
   ]
  },
  {
   "cell_type": "code",
   "execution_count": 5,
   "metadata": {},
   "outputs": [],
   "source": [
    "plt.close('all')\n",
    "plate_list = [94]\n",
    "plates = corrected.loc[corrected['plate'].isin(plate_list)]"
   ]
  },
  {
   "cell_type": "code",
   "execution_count": 6,
   "metadata": {},
   "outputs": [
    {
     "name": "stderr",
     "output_type": "stream",
     "text": [
      "/home/cbisot/anaconda3/envs/test/lib/python3.7/site-packages/matplotlib/__init__.py:880: MatplotlibDeprecationWarning: \n",
      "nbagg.transparent\n",
      "  version, key, obj_type=\"rcparam\", alternative=alt_key)\n"
     ]
    },
    {
     "data": {
      "application/vnd.jupyter.widget-view+json": {
       "model_id": "08f48aa624ae4883b63ffd57f3244cbe",
       "version_major": 2,
       "version_minor": 0
      },
      "text/plain": [
       "Canvas(toolbar=Toolbar(toolitems=[('Home', 'Reset original view', 'home', 'home'), ('Back', 'Back to previous …"
      ]
     },
     "metadata": {},
     "output_type": "display_data"
    },
    {
     "data": {
      "text/plain": [
       "<matplotlib.collections.PathCollection at 0x2baa03bcaa50>"
      ]
     },
     "execution_count": 6,
     "metadata": {},
     "output_type": "execute_result"
    }
   ],
   "source": [
    "total_growth=[]\n",
    "for t in set(plate_94['t'].values):\n",
    "    select = plate_94.loc[plate_94['t']==t]\n",
    "    total_growth.append(np.sum(select['speed']))\n",
    "fig, ax = plt.subplots(nrows=1, ncols=1, figsize=(9, 4))\n",
    "cum_growth = np.cumsum(total_growth)\n",
    "ax.scatter(list(set(list(plate_94['t'].values))),np.array(cum_growth)/cum_growth[0],label='observed speeds')"
   ]
  },
  {
   "cell_type": "code",
   "execution_count": 39,
   "metadata": {},
   "outputs": [
    {
     "data": {
      "application/vnd.jupyter.widget-view+json": {
       "model_id": "a5bb8310fa134791b0f7f877acc581ba",
       "version_major": 2,
       "version_minor": 0
      },
      "text/plain": [
       "Canvas(toolbar=Toolbar(toolitems=[('Home', 'Reset original view', 'home', 'home'), ('Back', 'Back to previous …"
      ]
     },
     "metadata": {},
     "output_type": "display_data"
    },
    {
     "data": {
      "text/plain": [
       "<matplotlib.collections.PathCollection at 0x2b1edf5af690>"
      ]
     },
     "execution_count": 39,
     "metadata": {},
     "output_type": "execute_result"
    }
   ],
   "source": [
    "fig, ax = plt.subplots(nrows=1, ncols=1, figsize=(9, 4))\n",
    "cum_growth = np.cumsum(total_growth)\n",
    "ax.scatter(list(set(list(plate_94['t'].values))),np.array(total_growth)/total_growth[0],label='observed speeds')"
   ]
  },
  {
   "cell_type": "code",
   "execution_count": 8,
   "metadata": {},
   "outputs": [
    {
     "name": "stderr",
     "output_type": "stream",
     "text": [
      "/home/cbisot/anaconda3/envs/test/lib/python3.7/site-packages/matplotlib/__init__.py:880: MatplotlibDeprecationWarning: \n",
      "nbagg.transparent\n",
      "  version, key, obj_type=\"rcparam\", alternative=alt_key)\n"
     ]
    },
    {
     "data": {
      "application/vnd.jupyter.widget-view+json": {
       "model_id": "7d4ee94346044e59919dd69689d47f58",
       "version_major": 2,
       "version_minor": 0
      },
      "text/plain": [
       "Canvas(toolbar=Toolbar(toolitems=[('Home', 'Reset original view', 'home', 'home'), ('Back', 'Back to previous …"
      ]
     },
     "metadata": {},
     "output_type": "display_data"
    },
    {
     "data": {
      "text/plain": [
       "[<matplotlib.lines.Line2D at 0x2b533b4a9dd0>]"
      ]
     },
     "execution_count": 8,
     "metadata": {},
     "output_type": "execute_result"
    }
   ],
   "source": [
    "from scipy.optimize import curve_fit\n",
    "from sklearn.linear_model import LinearRegression\n",
    "\n",
    "fig, ax = plt.subplots(nrows=1, ncols=1, figsize=(9, 4))\n",
    "\n",
    "def func(x,a,b):\n",
    "    return(a*np.exp(b*x))\n",
    "times = list(set(list(plate_94['t'].values)))\n",
    "X = np.array(times).reshape(-1,1)\n",
    "y = np.log(np.array(total_growth))\n",
    "reg = LinearRegression().fit(X, y)\n",
    "ax.scatter(times,np.array(total_growth)/total_growth[0])\n",
    "ax.plot(times,np.exp(times*reg.coef_),label='length rh')"
   ]
  },
  {
   "cell_type": "code",
   "execution_count": 41,
   "metadata": {
    "collapsed": true,
    "jupyter": {
     "outputs_hidden": true
    }
   },
   "outputs": [
    {
     "data": {
      "text/plain": [
       "[274.4182939842498,\n",
       " 264.75066857923247,\n",
       " 130.14008759834883,\n",
       " 314.0507474032412,\n",
       " 113.7477630475859,\n",
       " 1161.622784505229,\n",
       " 1745.0546022253006,\n",
       " 2726.9218066428225,\n",
       " 2871.778197123677,\n",
       " 4383.75894167157,\n",
       " 4214.542457713185,\n",
       " 3085.5196044227305,\n",
       " 3814.118401873534,\n",
       " 3850.501563058079,\n",
       " 2799.2820758732155,\n",
       " 644.4555313848887,\n",
       " 1955.058800564103,\n",
       " 488.4187953798312,\n",
       " 5437.132269415376,\n",
       " 6029.556668562571,\n",
       " 309.74440034631823,\n",
       " 2827.3429474183235,\n",
       " 7237.124025346528,\n",
       " 6157.3855798877885]"
      ]
     },
     "execution_count": 41,
     "metadata": {},
     "output_type": "execute_result"
    }
   ],
   "source": [
    "total_growth"
   ]
  },
  {
   "cell_type": "code",
   "execution_count": 27,
   "metadata": {},
   "outputs": [
    {
     "data": {
      "text/plain": [
       "array([0.92487663])"
      ]
     },
     "execution_count": 27,
     "metadata": {},
     "output_type": "execute_result"
    }
   ],
   "source": [
    "reg.coef_*24"
   ]
  },
  {
   "cell_type": "code",
   "execution_count": 33,
   "metadata": {},
   "outputs": [
    {
     "data": {
      "text/plain": [
       "array([ 7.52080445e+04,  2.74393313e-02, -8.39831995e+04])"
      ]
     },
     "execution_count": 33,
     "metadata": {},
     "output_type": "execute_result"
    }
   ],
   "source": [
    "popt0"
   ]
  },
  {
   "cell_type": "code",
   "execution_count": 9,
   "metadata": {},
   "outputs": [
    {
     "name": "stderr",
     "output_type": "stream",
     "text": [
      "/home/cbisot/anaconda3/envs/test/lib/python3.7/site-packages/matplotlib/__init__.py:880: MatplotlibDeprecationWarning: \n",
      "nbagg.transparent\n",
      "  version, key, obj_type=\"rcparam\", alternative=alt_key)\n"
     ]
    },
    {
     "data": {
      "application/vnd.jupyter.widget-view+json": {
       "model_id": "550137faddae4e409186f4f0be70c65d",
       "version_major": 2,
       "version_minor": 0
      },
      "text/plain": [
       "Canvas(toolbar=Toolbar(toolitems=[('Home', 'Reset original view', 'home', 'home'), ('Back', 'Back to previous …"
      ]
     },
     "metadata": {},
     "output_type": "display_data"
    },
    {
     "data": {
      "text/plain": [
       "[<matplotlib.lines.Line2D at 0x2b533b4b5bd0>]"
      ]
     },
     "execution_count": 9,
     "metadata": {},
     "output_type": "execute_result"
    }
   ],
   "source": [
    "def func(x,a,b,c):\n",
    "    return(a*np.exp(b*x)+c)\n",
    "fig, ax = plt.subplots(nrows=1, ncols=1, figsize=(9, 4))\n",
    "popt0, pcov = curve_fit(func, times, cum_growth,bounds = ([0,0,-np.inf],3*[np.inf]),p0=[1,1,0])\n",
    "ax.scatter(times,(cum_growth-popt0[2])/popt0[0])\n",
    "coef = popt0[-2]\n",
    "ax.plot(times,np.exp(np.array(times)*coef),label='total_length')\n"
   ]
  },
  {
   "cell_type": "code",
   "execution_count": 10,
   "metadata": {},
   "outputs": [
    {
     "data": {
      "text/plain": [
       "0.29643288601140516"
      ]
     },
     "execution_count": 10,
     "metadata": {},
     "output_type": "execute_result"
    }
   ],
   "source": [
    "coef*24"
   ]
  },
  {
   "cell_type": "code",
   "execution_count": 7,
   "metadata": {},
   "outputs": [
    {
     "name": "stderr",
     "output_type": "stream",
     "text": [
      "/home/cbisot/anaconda3/envs/test/lib/python3.7/site-packages/matplotlib/__init__.py:880: MatplotlibDeprecationWarning: \n",
      "nbagg.transparent\n",
      "  version, key, obj_type=\"rcparam\", alternative=alt_key)\n"
     ]
    },
    {
     "data": {
      "application/vnd.jupyter.widget-view+json": {
       "model_id": "4de796e7db1746ae83a0abd0e63aa688",
       "version_major": 2,
       "version_minor": 0
      },
      "text/plain": [
       "Canvas(toolbar=Toolbar(toolitems=[('Home', 'Reset original view', 'home', 'home'), ('Back', 'Back to previous …"
      ]
     },
     "metadata": {},
     "output_type": "display_data"
    },
    {
     "data": {
      "text/plain": [
       "<matplotlib.collections.PathCollection at 0x2b09df2bb1d0>"
      ]
     },
     "execution_count": 7,
     "metadata": {},
     "output_type": "execute_result"
    }
   ],
   "source": [
    "plt.close(\"all\")\n",
    "fig, ax = plt.subplots(nrows=1, ncols=1, figsize=(9, 4))\n",
    "ax.scatter(plate_94['t'],plate_94['speed'])"
   ]
  },
  {
   "cell_type": "code",
   "execution_count": 63,
   "metadata": {},
   "outputs": [
    {
     "data": {
      "application/vnd.jupyter.widget-view+json": {
       "model_id": "b958eb467f3d470791c908125437d8a1",
       "version_major": 2,
       "version_minor": 0
      },
      "text/plain": [
       "Canvas(toolbar=Toolbar(toolitems=[('Home', 'Reset original view', 'home', 'home'), ('Back', 'Back to previous …"
      ]
     },
     "metadata": {},
     "output_type": "display_data"
    },
    {
     "data": {
      "text/plain": [
       "[<matplotlib.lines.Line2D at 0x2baa07391e90>]"
      ]
     },
     "execution_count": 63,
     "metadata": {},
     "output_type": "execute_result"
    }
   ],
   "source": [
    "baits_sort = plate_94.sort_values(\"t\")\n",
    "N=80\n",
    "moving_av = baits_sort.rolling(N).mean()\n",
    "moving_std = baits_sort.rolling(N).std()\n",
    "\n",
    "fig=plt.figure(figsize=(8,8))\n",
    "ax = fig.add_subplot(111)\n",
    "ax.set_xlabel('time(t)')\n",
    "ax.set_ylabel('speed($\\mu m. h^{-1}$)')\n",
    "xlim = 40\n",
    "# ax.set_xlim(0,60)\n",
    "ax.set_ylim(0,400)\n",
    "# slope, intercept, r_value, p_value, std_err = stats.linregress(densities_sort,np.abs(curvatures_sort))\n",
    "x= range(-xlim,xlim)\n",
    "\n",
    "ax.scatter(plate_94[\"t\"],plate_94['speed'],color='yellow',label='observed speeds')\n",
    "ax.plot(moving_av[\"t\"],moving_av['speed'],color='green',label = 'moving average')\n",
    "ax.plot(moving_av[\"t\"],(moving_av['speed']+moving_std['speed']/np.sqrt(N)),color='red',label = 'moving average')\n",
    "ax.plot(moving_av[\"t\"],(moving_av['speed']-moving_std['speed']/np.sqrt(N)),color='red',label = 'moving average')"
   ]
  },
  {
   "cell_type": "code",
   "execution_count": 64,
   "metadata": {},
   "outputs": [
    {
     "data": {
      "application/vnd.jupyter.widget-view+json": {
       "model_id": "1add999b907e453ab95229e704dafea2",
       "version_major": 2,
       "version_minor": 0
      },
      "text/plain": [
       "Canvas(toolbar=Toolbar(toolitems=[('Home', 'Reset original view', 'home', 'home'), ('Back', 'Back to previous …"
      ]
     },
     "metadata": {},
     "output_type": "display_data"
    },
    {
     "data": {
      "text/plain": [
       "[<matplotlib.lines.Line2D at 0x2baa073c5610>]"
      ]
     },
     "execution_count": 64,
     "metadata": {},
     "output_type": "execute_result"
    }
   ],
   "source": [
    "baits_sort = plate_94.sort_values(\"total_network\")\n",
    "N=80\n",
    "moving_av = baits_sort.rolling(N).mean()\n",
    "moving_std = baits_sort.rolling(N).std()\n",
    "\n",
    "fig=plt.figure(figsize=(8,8))\n",
    "ax = fig.add_subplot(111)\n",
    "ax.set_xlabel('total network($\\mu m$)')\n",
    "ax.set_ylabel('speed($\\mu m. h^{-1}$)')\n",
    "xlim = 40\n",
    "# ax.set_xlim(0,60)\n",
    "ax.set_ylim(0,400)\n",
    "# slope, intercept, r_value, p_value, std_err = stats.linregress(densities_sort,np.abs(curvatures_sort))\n",
    "x= range(-xlim,xlim)\n",
    "\n",
    "ax.scatter(plate_94[\"total_network\"],plate_94['speed'],color='yellow',label='observed speeds')\n",
    "ax.plot(moving_av[\"total_network\"],moving_av['speed'],color='green',label = 'moving average')\n",
    "ax.plot(moving_av[\"total_network\"],(moving_av['speed']+moving_std['speed']/np.sqrt(N)),color='red',label = 'moving average')\n",
    "ax.plot(moving_av[\"total_network\"],(moving_av['speed']-moving_std['speed']/np.sqrt(N)),color='red',label = 'moving average')"
   ]
  },
  {
   "cell_type": "code",
   "execution_count": 47,
   "metadata": {},
   "outputs": [],
   "source": [
    "treatment_25 = corrected.loc[corrected['treatment']=='baits']"
   ]
  },
  {
   "cell_type": "code",
   "execution_count": 48,
   "metadata": {},
   "outputs": [
    {
     "data": {
      "text/plain": [
       "{382, 395, 399, 405, 409, 416, 419, 420, 423, 424, 425, 433, 436}"
      ]
     },
     "execution_count": 48,
     "metadata": {},
     "output_type": "execute_result"
    }
   ],
   "source": [
    "set(treatment_25['plate'].values)"
   ]
  },
  {
   "cell_type": "code",
   "execution_count": 61,
   "metadata": {},
   "outputs": [
    {
     "data": {
      "application/vnd.jupyter.widget-view+json": {
       "model_id": "e8ed6522677b4ce0b5c136f477dbc2fe",
       "version_major": 2,
       "version_minor": 0
      },
      "text/plain": [
       "Canvas(toolbar=Toolbar(toolitems=[('Home', 'Reset original view', 'home', 'home'), ('Back', 'Back to previous …"
      ]
     },
     "metadata": {},
     "output_type": "display_data"
    },
    {
     "data": {
      "text/plain": [
       "[<matplotlib.lines.Line2D at 0x2baa0730bf90>]"
      ]
     },
     "execution_count": 61,
     "metadata": {},
     "output_type": "execute_result"
    }
   ],
   "source": [
    "plt.close('all')\n",
    "baits_sort = treatment_25.sort_values(\"total_network\")\n",
    "N=200\n",
    "moving_av = baits_sort.rolling(N).mean()\n",
    "moving_std = baits_sort.rolling(N).std()\n",
    "\n",
    "fig=plt.figure(figsize=(8,8))\n",
    "ax = fig.add_subplot(111)\n",
    "ax.set_xlabel('total network($\\mu m$)')\n",
    "ax.set_ylabel('speed($\\mu m. h^{-1}$)')\n",
    "xlim = 40\n",
    "# ax.set_xlim(0,60)\n",
    "ax.set_ylim(0,400)\n",
    "# slope, intercept, r_value, p_value, std_err = stats.linregress(densities_sort,np.abs(curvatures_sort))\n",
    "x= range(-xlim,xlim)\n",
    "for plate in set(treatment_25['plate'].values):\n",
    "    select = treatment_25.loc[treatment_25['plate']==plate]\n",
    "    ax.scatter(select[\"total_network\"],select['speed'],label='observed speeds')\n",
    "ax.plot(moving_av[\"total_network\"],moving_av['speed'],color='green',label = 'moving average')\n",
    "ax.plot(moving_av[\"total_network\"],(moving_av['speed']+moving_std['speed']/np.sqrt(N)),color='red',label = 'moving average')\n",
    "ax.plot(moving_av[\"total_network\"],(moving_av['speed']-moving_std['speed']/np.sqrt(N)),color='red',label = 'moving average')"
   ]
  },
  {
   "cell_type": "code",
   "execution_count": 14,
   "metadata": {},
   "outputs": [
    {
     "data": {
      "application/vnd.jupyter.widget-view+json": {
       "model_id": "91318868fd414379bc09d846ef2de6f1",
       "version_major": 2,
       "version_minor": 0
      },
      "text/plain": [
       "Canvas(toolbar=Toolbar(toolitems=[('Home', 'Reset original view', 'home', 'home'), ('Back', 'Back to previous …"
      ]
     },
     "metadata": {},
     "output_type": "display_data"
    },
    {
     "data": {
      "text/plain": [
       "<matplotlib.legend.Legend at 0x2b533b4e6650>"
      ]
     },
     "execution_count": 14,
     "metadata": {},
     "output_type": "execute_result"
    }
   ],
   "source": [
    "plt.close('all')\n",
    "baits_sort = treatment_25.sort_values(\"total_network\")\n",
    "N=200\n",
    "moving_av = baits_sort.rolling(N).mean()\n",
    "moving_std = baits_sort.rolling(N).std()\n",
    "\n",
    "fig=plt.figure(figsize=(8,8))\n",
    "ax = fig.add_subplot(111)\n",
    "ax.set_xlabel('time(t)')\n",
    "ax.set_ylabel('speed($\\mu m. h^{-1}$)')\n",
    "xlim = 40\n",
    "# ax.set_xlim(0,60)\n",
    "# ax.set_ylim(0,400)\n",
    "# slope, intercept, r_value, p_value, std_err = stats.linregress(densities_sort,np.abs(curvatures_sort))\n",
    "x= range(-xlim,xlim)\n",
    "for plate in set(treatment_25['plate'].values):\n",
    "    select = treatment_25.loc[treatment_25['plate']==plate]\n",
    "    ax.scatter(select[\"t\"],select['total_network'],label=f'{plate}')\n",
    "plt.legend()"
   ]
  },
  {
   "cell_type": "code",
   "execution_count": 46,
   "metadata": {},
   "outputs": [],
   "source": [
    "for plate in set(treatment_25['plate'].values):\n",
    "    select = treatment_25.loc[treatment_25['plate'] == plate]\n",
    "    break"
   ]
  },
  {
   "cell_type": "code",
   "execution_count": 47,
   "metadata": {
    "collapsed": true,
    "jupyter": {
     "outputs_hidden": true
    }
   },
   "outputs": [
    {
     "data": {
      "text/html": [
       "<div>\n",
       "<style scoped>\n",
       "    .dataframe tbody tr th:only-of-type {\n",
       "        vertical-align: middle;\n",
       "    }\n",
       "\n",
       "    .dataframe tbody tr th {\n",
       "        vertical-align: top;\n",
       "    }\n",
       "\n",
       "    .dataframe thead th {\n",
       "        text-align: right;\n",
       "    }\n",
       "</style>\n",
       "<table border=\"1\" class=\"dataframe\">\n",
       "  <thead>\n",
       "    <tr style=\"text-align: right;\">\n",
       "      <th></th>\n",
       "      <th>plate</th>\n",
       "      <th>inst</th>\n",
       "      <th>treatment</th>\n",
       "      <th>angle</th>\n",
       "      <th>curvature</th>\n",
       "      <th>density</th>\n",
       "      <th>growth</th>\n",
       "      <th>speed</th>\n",
       "      <th>straightness</th>\n",
       "      <th>t</th>\n",
       "      <th>hyph</th>\n",
       "      <th>total_network</th>\n",
       "    </tr>\n",
       "  </thead>\n",
       "  <tbody>\n",
       "    <tr>\n",
       "      <th>2900</th>\n",
       "      <td>102</td>\n",
       "      <td>(40, 262, 287)</td>\n",
       "      <td>25*</td>\n",
       "      <td>5.015835</td>\n",
       "      <td>0.004589</td>\n",
       "      <td>1.281159</td>\n",
       "      <td>1093.099538</td>\n",
       "      <td>274.418294</td>\n",
       "      <td>0.996673</td>\n",
       "      <td>0.000000</td>\n",
       "      <td>68</td>\n",
       "      <td>3.359985e+04</td>\n",
       "    </tr>\n",
       "    <tr>\n",
       "      <th>2901</th>\n",
       "      <td>102</td>\n",
       "      <td>(40, 262, 287)</td>\n",
       "      <td>25*</td>\n",
       "      <td>-9.041261</td>\n",
       "      <td>-0.008538</td>\n",
       "      <td>0.681159</td>\n",
       "      <td>1059.002674</td>\n",
       "      <td>264.750669</td>\n",
       "      <td>0.992007</td>\n",
       "      <td>3.983333</td>\n",
       "      <td>68</td>\n",
       "      <td>3.777911e+04</td>\n",
       "    </tr>\n",
       "    <tr>\n",
       "      <th>2902</th>\n",
       "      <td>102</td>\n",
       "      <td>(40, 262, 287)</td>\n",
       "      <td>25*</td>\n",
       "      <td>88.501522</td>\n",
       "      <td>0.170012</td>\n",
       "      <td>0.648551</td>\n",
       "      <td>520.560350</td>\n",
       "      <td>130.140088</td>\n",
       "      <td>0.851340</td>\n",
       "      <td>7.983333</td>\n",
       "      <td>68</td>\n",
       "      <td>4.403740e+04</td>\n",
       "    </tr>\n",
       "    <tr>\n",
       "      <th>2903</th>\n",
       "      <td>102</td>\n",
       "      <td>(40, 262, 287)</td>\n",
       "      <td>25*</td>\n",
       "      <td>5.685028</td>\n",
       "      <td>0.004396</td>\n",
       "      <td>1.044928</td>\n",
       "      <td>1293.328033</td>\n",
       "      <td>323.332008</td>\n",
       "      <td>0.996512</td>\n",
       "      <td>91.483333</td>\n",
       "      <td>71</td>\n",
       "      <td>1.168615e+06</td>\n",
       "    </tr>\n",
       "    <tr>\n",
       "      <th>2904</th>\n",
       "      <td>102</td>\n",
       "      <td>(40, 262, 287)</td>\n",
       "      <td>25*</td>\n",
       "      <td>19.549688</td>\n",
       "      <td>0.016276</td>\n",
       "      <td>0.635507</td>\n",
       "      <td>1201.144760</td>\n",
       "      <td>300.286190</td>\n",
       "      <td>0.989235</td>\n",
       "      <td>95.483333</td>\n",
       "      <td>71</td>\n",
       "      <td>1.301554e+06</td>\n",
       "    </tr>\n",
       "    <tr>\n",
       "      <th>...</th>\n",
       "      <td>...</td>\n",
       "      <td>...</td>\n",
       "      <td>...</td>\n",
       "      <td>...</td>\n",
       "      <td>...</td>\n",
       "      <td>...</td>\n",
       "      <td>...</td>\n",
       "      <td>...</td>\n",
       "      <td>...</td>\n",
       "      <td>...</td>\n",
       "      <td>...</td>\n",
       "      <td>...</td>\n",
       "    </tr>\n",
       "    <tr>\n",
       "      <th>3226</th>\n",
       "      <td>102</td>\n",
       "      <td>(40, 262, 287)</td>\n",
       "      <td>25*</td>\n",
       "      <td>-0.463923</td>\n",
       "      <td>-0.000460</td>\n",
       "      <td>1.078986</td>\n",
       "      <td>1008.838430</td>\n",
       "      <td>252.209608</td>\n",
       "      <td>0.991182</td>\n",
       "      <td>95.483333</td>\n",
       "      <td>14048</td>\n",
       "      <td>1.301554e+06</td>\n",
       "    </tr>\n",
       "    <tr>\n",
       "      <th>3227</th>\n",
       "      <td>102</td>\n",
       "      <td>(40, 262, 287)</td>\n",
       "      <td>25*</td>\n",
       "      <td>-16.888398</td>\n",
       "      <td>-0.023034</td>\n",
       "      <td>1.553623</td>\n",
       "      <td>733.193080</td>\n",
       "      <td>183.298270</td>\n",
       "      <td>0.997701</td>\n",
       "      <td>95.483333</td>\n",
       "      <td>14096</td>\n",
       "      <td>1.301554e+06</td>\n",
       "    </tr>\n",
       "    <tr>\n",
       "      <th>3228</th>\n",
       "      <td>102</td>\n",
       "      <td>(40, 262, 287)</td>\n",
       "      <td>25*</td>\n",
       "      <td>-9.829751</td>\n",
       "      <td>-0.014136</td>\n",
       "      <td>1.974638</td>\n",
       "      <td>695.387948</td>\n",
       "      <td>173.846987</td>\n",
       "      <td>0.988627</td>\n",
       "      <td>95.483333</td>\n",
       "      <td>14534</td>\n",
       "      <td>1.301554e+06</td>\n",
       "    </tr>\n",
       "    <tr>\n",
       "      <th>3229</th>\n",
       "      <td>102</td>\n",
       "      <td>(40, 262, 287)</td>\n",
       "      <td>25*</td>\n",
       "      <td>1.551381</td>\n",
       "      <td>0.002390</td>\n",
       "      <td>1.977536</td>\n",
       "      <td>649.115712</td>\n",
       "      <td>162.278928</td>\n",
       "      <td>0.990175</td>\n",
       "      <td>95.483333</td>\n",
       "      <td>14548</td>\n",
       "      <td>1.301554e+06</td>\n",
       "    </tr>\n",
       "    <tr>\n",
       "      <th>3230</th>\n",
       "      <td>102</td>\n",
       "      <td>(40, 262, 287)</td>\n",
       "      <td>25*</td>\n",
       "      <td>77.538805</td>\n",
       "      <td>0.113718</td>\n",
       "      <td>0.731884</td>\n",
       "      <td>681.852047</td>\n",
       "      <td>170.463012</td>\n",
       "      <td>0.890864</td>\n",
       "      <td>95.483333</td>\n",
       "      <td>14817</td>\n",
       "      <td>1.301554e+06</td>\n",
       "    </tr>\n",
       "  </tbody>\n",
       "</table>\n",
       "<p>295 rows × 12 columns</p>\n",
       "</div>"
      ],
      "text/plain": [
       "     plate            inst treatment      angle  curvature   density  \\\n",
       "2900   102  (40, 262, 287)       25*   5.015835   0.004589  1.281159   \n",
       "2901   102  (40, 262, 287)       25*  -9.041261  -0.008538  0.681159   \n",
       "2902   102  (40, 262, 287)       25*  88.501522   0.170012  0.648551   \n",
       "2903   102  (40, 262, 287)       25*   5.685028   0.004396  1.044928   \n",
       "2904   102  (40, 262, 287)       25*  19.549688   0.016276  0.635507   \n",
       "...    ...             ...       ...        ...        ...       ...   \n",
       "3226   102  (40, 262, 287)       25*  -0.463923  -0.000460  1.078986   \n",
       "3227   102  (40, 262, 287)       25* -16.888398  -0.023034  1.553623   \n",
       "3228   102  (40, 262, 287)       25*  -9.829751  -0.014136  1.974638   \n",
       "3229   102  (40, 262, 287)       25*   1.551381   0.002390  1.977536   \n",
       "3230   102  (40, 262, 287)       25*  77.538805   0.113718  0.731884   \n",
       "\n",
       "           growth       speed  straightness          t   hyph  total_network  \n",
       "2900  1093.099538  274.418294      0.996673   0.000000     68   3.359985e+04  \n",
       "2901  1059.002674  264.750669      0.992007   3.983333     68   3.777911e+04  \n",
       "2902   520.560350  130.140088      0.851340   7.983333     68   4.403740e+04  \n",
       "2903  1293.328033  323.332008      0.996512  91.483333     71   1.168615e+06  \n",
       "2904  1201.144760  300.286190      0.989235  95.483333     71   1.301554e+06  \n",
       "...           ...         ...           ...        ...    ...            ...  \n",
       "3226  1008.838430  252.209608      0.991182  95.483333  14048   1.301554e+06  \n",
       "3227   733.193080  183.298270      0.997701  95.483333  14096   1.301554e+06  \n",
       "3228   695.387948  173.846987      0.988627  95.483333  14534   1.301554e+06  \n",
       "3229   649.115712  162.278928      0.990175  95.483333  14548   1.301554e+06  \n",
       "3230   681.852047  170.463012      0.890864  95.483333  14817   1.301554e+06  \n",
       "\n",
       "[295 rows x 12 columns]"
      ]
     },
     "execution_count": 47,
     "metadata": {},
     "output_type": "execute_result"
    }
   ],
   "source": [
    "select"
   ]
  }
 ],
 "metadata": {
  "kernelspec": {
   "display_name": "Python 3",
   "language": "python",
   "name": "python3"
  },
  "language_info": {
   "codemirror_mode": {
    "name": "ipython",
    "version": 3
   },
   "file_extension": ".py",
   "mimetype": "text/x-python",
   "name": "python",
   "nbconvert_exporter": "python",
   "pygments_lexer": "ipython3",
   "version": "3.7.7"
  }
 },
 "nbformat": 4,
 "nbformat_minor": 4
}

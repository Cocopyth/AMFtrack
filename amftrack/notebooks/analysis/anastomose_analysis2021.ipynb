{
 "cells": [
  {
   "cell_type": "code",
   "execution_count": 1,
   "metadata": {},
   "outputs": [],
   "source": [
    "%matplotlib widget\n",
    "\n",
    "import os  \n",
    "import sys  \n",
    "sys.path.insert(0, os.getenv('HOME')+'/pycode/MscThesis/')\n",
    "import pandas as pd\n",
    "from amftrack.util import get_dates_datetime, get_dirname, get_plate_number, get_postion_number\n",
    "\n",
    "import ast\n",
    "from amftrack.plotutil import plot_t_tp1\n",
    "from scipy import sparse\n",
    "from datetime import datetime\n",
    "from amftrack.pipeline.functions.node_id import orient\n",
    "import pickle\n",
    "import scipy.io as sio\n",
    "from pymatreader import read_mat\n",
    "from matplotlib import colors\n",
    "import cv2\n",
    "import imageio\n",
    "import matplotlib.pyplot as plt\n",
    "import numpy as np\n",
    "from skimage.filters import frangi\n",
    "from skimage import filters\n",
    "from random import choice\n",
    "import scipy.sparse\n",
    "import os\n",
    "from amftrack.pipeline.functions.extract_graph import from_sparse_to_graph, generate_nx_graph, sparse_to_doc\n",
    "from skimage.feature import hessian_matrix_det\n",
    "from amftrack.pipeline.functions.experiment_class_surf import Experiment, Edge, Node\n",
    "from amftrack.pipeline.paths.directory import run_parallel, find_state, directory_scratch, directory_project\n",
    "from amftrack.notebooks.analysis.util import *\n",
    "from scipy import stats\n",
    "from scipy.ndimage.filters import uniform_filter1d\n",
    "from statsmodels.stats import weightstats as stests\n",
    "from scipy.optimize import curve_fit"
   ]
  },
  {
   "cell_type": "code",
   "execution_count": 2,
   "metadata": {},
   "outputs": [
    {
     "name": "stdout",
     "output_type": "stream",
     "text": [
      "begin = 2020-11-23 15:01:00 \n",
      "  end = 2020-11-26 03:02:00\n"
     ]
    }
   ],
   "source": [
    "directory = directory_project\n",
    "exp = get_exp((39,269,329),directory)"
   ]
  },
  {
   "cell_type": "code",
   "execution_count": 3,
   "metadata": {},
   "outputs": [],
   "source": [
    "exp.load_compressed_skel()"
   ]
  },
  {
   "cell_type": "code",
   "execution_count": 3,
   "metadata": {
    "collapsed": true,
    "jupyter": {
     "outputs_hidden": true
    }
   },
   "outputs": [
    {
     "name": "stdout",
     "output_type": "stream",
     "text": [
      "failure in finding closest edge\n",
      "failure in finding closest edge\n",
      "failure in finding closest edge\n",
      "failure in finding closest edge\n",
      "failure in finding closest edge\n",
      "failure in finding closest edge\n",
      "failure in finding closest edge\n",
      "failure in finding closest edge\n",
      "failure in finding closest edge\n",
      "failure in finding closest edge\n",
      "failure in finding closest edge\n",
      "failure in finding closest edge\n",
      "failure in finding closest edge\n",
      "failure in finding closest edge\n",
      "failure in finding closest edge\n",
      "failure in finding closest edge\n",
      "failure in finding closest edge\n",
      "failure in finding closest edge\n",
      "failure in finding closest edge\n",
      "failure in finding closest edge\n",
      "failure in finding closest edge\n",
      "failure in finding closest edge\n",
      "failure in finding closest edge\n",
      "failure in finding closest edge\n",
      "failure in finding closest edge\n",
      "failure in finding closest edge\n",
      "failure in finding closest edge\n",
      "failure in finding closest edge\n",
      "failure in finding closest edge\n",
      "failure in finding closest edge\n",
      "failure in finding closest edge\n",
      "failure in finding closest edge\n",
      "failure in finding closest edge\n",
      "failure in finding closest edge\n",
      "failure in finding closest edge\n",
      "failure in finding closest edge\n",
      "failure in finding closest edge\n",
      "failure in finding closest edge\n",
      "failure in finding closest edge\n",
      "failure in finding closest edge\n",
      "failure in finding closest edge\n",
      "failure in finding closest edge\n",
      "failure in finding closest edge\n",
      "failure in finding closest edge\n",
      "failure in finding closest edge\n",
      "failure in finding closest edge\n",
      "failure in finding closest edge\n",
      "failure in finding closest edge\n",
      "failure in finding closest edge\n",
      "failure in finding closest edge\n",
      "failure in finding closest edge\n",
      "failure in finding closest edge\n",
      "failure in finding closest edge\n",
      "failure in finding closest edge\n",
      "failure in finding closest edge\n",
      "failure in finding closest edge\n",
      "failure in finding closest edge\n",
      "failure in finding closest edge\n",
      "failure in finding closest edge\n",
      "failure in finding closest edge\n",
      "failure in finding closest edge\n",
      "failure in finding closest edge\n",
      "failure in finding closest edge\n",
      "failure in finding closest edge\n",
      "failure in finding closest edge\n"
     ]
    }
   ],
   "source": [
    "RH, BAS, max_speeds, total_growths, widths_sp, lengths, branch_frequ,select_hyph = get_rh_bas(exp,criter)"
   ]
  },
  {
   "cell_type": "code",
   "execution_count": 5,
   "metadata": {},
   "outputs": [],
   "source": [
    "exp_clean = exp"
   ]
  },
  {
   "cell_type": "code",
   "execution_count": 5,
   "metadata": {},
   "outputs": [],
   "source": [
    "anchors = [430,111,374,26]"
   ]
  },
  {
   "cell_type": "code",
   "execution_count": 76,
   "metadata": {},
   "outputs": [
    {
     "data": {
      "application/vnd.jupyter.widget-view+json": {
       "model_id": "ab4c38ef08684ed28cfccd2aaa4cbd23",
       "version_major": 2,
       "version_minor": 0
      },
      "text/plain": [
       "Canvas(toolbar=Toolbar(toolitems=[('Home', 'Reset original view', 'home', 'home'), ('Back', 'Back to previous …"
      ]
     },
     "metadata": {},
     "output_type": "display_data"
    }
   ],
   "source": [
    "plt.close('all')\n",
    "exp_clean.plot([-1],[anchors])"
   ]
  },
  {
   "cell_type": "code",
   "execution_count": 185,
   "metadata": {},
   "outputs": [
    {
     "data": {
      "application/vnd.jupyter.widget-view+json": {
       "model_id": "98d672af204744e38ce272f74d91b089",
       "version_major": 2,
       "version_minor": 0
      },
      "text/plain": [
       "Canvas(toolbar=Toolbar(toolitems=[('Home', 'Reset original view', 'home', 'home'), ('Back', 'Back to previous …"
      ]
     },
     "metadata": {},
     "output_type": "display_data"
    }
   ],
   "source": [
    "exp_clean.plot_raw(-1)"
   ]
  },
  {
   "cell_type": "code",
   "execution_count": 87,
   "metadata": {},
   "outputs": [
    {
     "data": {
      "application/vnd.jupyter.widget-view+json": {
       "model_id": "31cfea6e51cd4980b168c0ca0f46e211",
       "version_major": 2,
       "version_minor": 0
      },
      "text/plain": [
       "Canvas(toolbar=Toolbar(toolitems=[('Home', 'Reset original view', 'home', 'home'), ('Back', 'Back to previous …"
      ]
     },
     "metadata": {},
     "output_type": "display_data"
    }
   ],
   "source": [
    "plt.close('all')\n",
    "index = 0\n",
    "Node(anchors[index],exp).show_source_image(-1,-1)"
   ]
  },
  {
   "cell_type": "code",
   "execution_count": 69,
   "metadata": {},
   "outputs": [],
   "source": [
    "index = 0\n",
    "t0 = 0\n",
    "pos = Node(anchors[index],exp).pos(t0)\n",
    "x1,y1,_,_,_ = find_image_pos(exp, pos[0],pos[1],t0)"
   ]
  },
  {
   "cell_type": "code",
   "execution_count": 78,
   "metadata": {},
   "outputs": [],
   "source": [
    "index = 3\n",
    "t0 = 0\n",
    "pos = Node(anchors[index],exp).pos(t0)\n",
    "x2,y2,_,_,_ = find_image_pos(exp, pos[0],pos[1],t0)"
   ]
  },
  {
   "cell_type": "code",
   "execution_count": 81,
   "metadata": {},
   "outputs": [
    {
     "data": {
      "text/plain": [
       "(1236.825, -7953.975)"
      ]
     },
     "execution_count": 81,
     "metadata": {},
     "output_type": "execute_result"
    }
   ],
   "source": [
    "x0 = 92.007\n",
    "y0 = 26.928\n",
    "(x2-x1)*1.725,(y2-y1)*1.725"
   ]
  },
  {
   "cell_type": "raw",
   "metadata": {},
   "source": [
    "430 : x = 92.007\n",
    "      y = 26.928"
   ]
  },
  {
   "cell_type": "code",
   "execution_count": 7,
   "metadata": {},
   "outputs": [],
   "source": [
    "number_face=[2+len(g.edges)-len(g.nodes) for g in exp_clean.nx_graph]\n",
    "number_anas_theory = [number_face[i+1]-number_face[i] for i in range(len(number_face)-2)]"
   ]
  },
  {
   "cell_type": "code",
   "execution_count": 8,
   "metadata": {},
   "outputs": [],
   "source": [
    "hyph_anas_tip_hyph = [hyphat for hyphat in exp_clean.hyphaes if len(hyphat.ts)>=2 and hyphat.end.degree(hyphat.ts[-1])>=3 and hyphat.end.degree(hyphat.ts[-2])>=3]\n",
    "hyph_anas_tip_tip = []\n",
    "potential = []\n",
    "for hyph in exp_clean.hyphaes:\n",
    "    if len(hyph.ts)>=2 and hyph.end.degree(hyph.ts[-1])==1 and hyph.end.ts()[-1]!=len(exp_clean.nx_graph)-1 and not np.all([hyph.get_length_pixel(t)<=20 for t in hyph.ts]):\n",
    "        potential.append(hyph)\n",
    "for hyph in potential:\n",
    "    t0 = hyph.ts[-1]\n",
    "    for hyph2 in potential:\n",
    "        if hyph2.ts[-1] == t0 and hyph!=hyph2:\n",
    "            vector = (hyph2.end.pos(t0)-hyph.end.pos(t0))/np.linalg.norm(hyph2.end.pos(t0)-hyph.end.pos(t0))\n",
    "            vertical_vector=np.array([-1,0])\n",
    "            dot_product = np.dot(vertical_vector,vector)\n",
    "            if vertical_vector[1]*vector[0]-vertical_vector[0]*vector[1]>=0: #determinant\n",
    "                angle = np.arccos(dot_product)/(2*np.pi)*360\n",
    "            else:\n",
    "                angle = -np.arccos(dot_product)/(2*np.pi)*360\n",
    "            score = np.cos((angle-(180+hyph.end.edges(t0)[0].orientation_begin(t0,30)))/360*2*np.pi)+np.cos((360+angle-hyph2.end.edges(t0)[0].orientation_begin(t0,30))/360*2*np.pi)\n",
    "            if np.linalg.norm(hyph2.end.pos(t0)-hyph.end.pos(t0))<=500 and score>=0.5:\n",
    "                hyph_anas_tip_tip.append((hyph,hyph2,t0))"
   ]
  },
  {
   "cell_type": "code",
   "execution_count": 9,
   "metadata": {},
   "outputs": [],
   "source": [
    "def get_time_anas_tip_hyph(anas_tip_hyph):\n",
    "    for t in anas_tip_hyph.ts:\n",
    "        if anas_tip_hyph.end.degree(t)>=3:\n",
    "            return(t-1)\n",
    "def get_time_anas_tip_tip(anas_tip_tip):\n",
    "    return(anas_tip_tip.ts[-1])"
   ]
  },
  {
   "cell_type": "code",
   "execution_count": 10,
   "metadata": {},
   "outputs": [],
   "source": [
    "anas_tip_hyph_observed = np.array([len([hyph for hyph in hyph_anas_tip_hyph if get_time_anas_tip_hyph(hyph)==t]) for t in range(len(exp_clean.nx_graph)-2)])"
   ]
  },
  {
   "cell_type": "code",
   "execution_count": 11,
   "metadata": {},
   "outputs": [],
   "source": [
    "anas_tip_tip_observed = np.array([len([hyphs for hyphs in hyph_anas_tip_tip if hyphs[2]==t])//2 for t in range(len(exp_clean.nx_graph)-2)])"
   ]
  },
  {
   "cell_type": "code",
   "execution_count": 12,
   "metadata": {},
   "outputs": [],
   "source": [
    "times = [get_time(exp,0,t) for t in range(exp.ts)][:-2]"
   ]
  },
  {
   "cell_type": "code",
   "execution_count": 33,
   "metadata": {},
   "outputs": [],
   "source": [
    "lapse_anas = []\n",
    "for hyph in hyph_anas_tip_hyph:\n",
    "    if hyph in RH:\n",
    "        for t in hyph.ts:\n",
    "            if hyph.end.degree(t)>=3:\n",
    "                time = get_time(exp,hyph.ts[0],t)\n",
    "                lapse_anas.append((hyph.ts[0],time))\n",
    "                break"
   ]
  },
  {
   "cell_type": "code",
   "execution_count": 34,
   "metadata": {},
   "outputs": [],
   "source": [
    "lapses = [lapse for t,lapse in lapse_anas]"
   ]
  },
  {
   "cell_type": "code",
   "execution_count": 36,
   "metadata": {},
   "outputs": [
    {
     "data": {
      "text/plain": [
       "(113, 333)"
      ]
     },
     "execution_count": 36,
     "metadata": {},
     "output_type": "execute_result"
    }
   ],
   "source": [
    "len([rh for rh in RH if rh in hyph_anas_tip_hyph]),len(RH)"
   ]
  },
  {
   "cell_type": "code",
   "execution_count": 35,
   "metadata": {},
   "outputs": [
    {
     "data": {
      "text/plain": [
       "6.532890855457228"
      ]
     },
     "execution_count": 35,
     "metadata": {},
     "output_type": "execute_result"
    }
   ],
   "source": [
    "np.mean(lapses)"
   ]
  },
  {
   "cell_type": "code",
   "execution_count": 29,
   "metadata": {},
   "outputs": [
    {
     "data": {
      "application/vnd.jupyter.widget-view+json": {
       "model_id": "1fbf60a8ca9a4d1a836c3296e3290596",
       "version_major": 2,
       "version_minor": 0
      },
      "text/plain": [
       "Canvas(toolbar=Toolbar(toolitems=[('Home', 'Reset original view', 'home', 'home'), ('Back', 'Back to previous …"
      ]
     },
     "metadata": {},
     "output_type": "display_data"
    },
    {
     "data": {
      "text/plain": [
       "(array([0.21396413, 0.08660453, 0.0649534 , 0.02165113, 0.01146236,\n",
       "        0.00764158, 0.00382079, 0.        , 0.00764158, 0.0012736 ,\n",
       "        0.0012736 , 0.        , 0.00254719, 0.        , 0.        ,\n",
       "        0.        , 0.0012736 , 0.        , 0.        , 0.0012736 ]),\n",
       " array([ 0.        ,  2.35083333,  4.70166667,  7.0525    ,  9.40333333,\n",
       "        11.75416667, 14.105     , 16.45583333, 18.80666667, 21.1575    ,\n",
       "        23.50833333, 25.85916667, 28.21      , 30.56083333, 32.91166667,\n",
       "        35.2625    , 37.61333333, 39.96416667, 42.315     , 44.66583333,\n",
       "        47.01666667]),\n",
       " <a list of 20 Patch objects>)"
      ]
     },
     "execution_count": 29,
     "metadata": {},
     "output_type": "execute_result"
    }
   ],
   "source": [
    "fig = plt.figure()\n",
    "ax = fig.add_subplot(111)\n",
    "ax.hist(lapses,20,density= True)"
   ]
  },
  {
   "cell_type": "code",
   "execution_count": 13,
   "metadata": {},
   "outputs": [
    {
     "name": "stderr",
     "output_type": "stream",
     "text": [
      "/home/cbisot/anaconda3/envs/test/lib/python3.7/site-packages/matplotlib/__init__.py:880: MatplotlibDeprecationWarning: \n",
      "nbagg.transparent\n",
      "  version, key, obj_type=\"rcparam\", alternative=alt_key)\n"
     ]
    },
    {
     "data": {
      "application/vnd.jupyter.widget-view+json": {
       "model_id": "7e00af59556a441fab8dac47d4189ed8",
       "version_major": 2,
       "version_minor": 0
      },
      "text/plain": [
       "Canvas(toolbar=Toolbar(toolitems=[('Home', 'Reset original view', 'home', 'home'), ('Back', 'Back to previous …"
      ]
     },
     "metadata": {},
     "output_type": "display_data"
    },
    {
     "data": {
      "text/plain": [
       "<matplotlib.legend.Legend at 0x2ae4c16d8ed0>"
      ]
     },
     "execution_count": 13,
     "metadata": {},
     "output_type": "execute_result"
    }
   ],
   "source": [
    "fig = plt.figure()\n",
    "ax = fig.add_subplot(111)\n",
    "total_anastomosis_observed = np.cumsum(np.array(anas_tip_hyph_observed)+np.array(anas_tip_tip_observed))\n",
    "total_anastomosis_theory = np.cumsum(number_anas_theory)\n",
    "\n",
    "def func2(t,alpha,C,d):\n",
    "    return(C*(np.exp(alpha*(t)))+d)\n",
    "popt1, pcov = curve_fit(func2, times, total_anastomosis_observed,bounds = ([0,0,-np.inf],3*[np.inf]),p0=[1,1,0])\n",
    "popt2, pcov = curve_fit(func2, times, total_anastomosis_theory,bounds = ([0,0,-np.inf],3*[np.inf]),p0=[1,1,0])\n",
    "\n",
    "ax.scatter(times,total_anastomosis_observed, label = 'Total number of anastomosis observed')\n",
    "ax.scatter(times,total_anastomosis_theory, label = 'Theroretical number of anastomosis')\n",
    "ax.plot(times,func2(np.array(times),*popt1),label = f'exponential fit : alpha= {\"{:.2f}\".format(popt1[0]*24)}.day-1',color='blue')\n",
    "ax.plot(times,func2(np.array(times),*popt2),label = f'exponential fit : alpha= {\"{:.2f}\".format(popt2[0]*24)}.day-1',color='orange')\n",
    "ax.set_xlabel('time (h)')\n",
    "ax.set_ylabel('total number of anastomosis')\n",
    "plt.legend()"
   ]
  },
  {
   "cell_type": "code",
   "execution_count": 20,
   "metadata": {},
   "outputs": [
    {
     "data": {
      "text/plain": [
       "(array([0, 2, 2, 0, 0, 0, 2, 0, 0, 1, 0, 0, 0, 0, 0, 1, 0, 0, 1, 0, 1, 1,\n",
       "        1, 0, 2, 1, 0, 0, 2, 1, 0, 0, 0, 1, 2, 0, 1, 0, 1, 0, 2, 1, 0, 0,\n",
       "        3, 2, 2, 0, 3, 0, 2, 1, 2, 7, 1, 3, 1, 4, 7]),\n",
       " array([ 3,  2,  3,  2,  1,  0,  1,  1,  2,  0,  4,  1,  2,  4,  2,  5,  8,\n",
       "         3,  2,  3,  3,  5,  2,  2,  5,  2,  7,  5,  4,  5,  6,  7,  6, 10,\n",
       "         7,  9,  8,  5,  9,  7,  5,  3, 10,  5, 12,  9,  6, 11,  9, 12,  8,\n",
       "         7, 11, 10,  7, 10, 11, 12, 13]))"
      ]
     },
     "execution_count": 20,
     "metadata": {},
     "output_type": "execute_result"
    }
   ],
   "source": [
    "anas_tip_tip_observed, anas_tip_hyph_observed"
   ]
  },
  {
   "cell_type": "code",
   "execution_count": 15,
   "metadata": {},
   "outputs": [
    {
     "name": "stderr",
     "output_type": "stream",
     "text": [
      "/home/cbisot/anaconda3/envs/test/lib/python3.7/site-packages/matplotlib/__init__.py:880: MatplotlibDeprecationWarning: \n",
      "nbagg.transparent\n",
      "  version, key, obj_type=\"rcparam\", alternative=alt_key)\n"
     ]
    },
    {
     "data": {
      "application/vnd.jupyter.widget-view+json": {
       "model_id": "8bc5691c12ed472dad7eb0b7797d4962",
       "version_major": 2,
       "version_minor": 0
      },
      "text/plain": [
       "Canvas(toolbar=Toolbar(toolitems=[('Home', 'Reset original view', 'home', 'home'), ('Back', 'Back to previous …"
      ]
     },
     "metadata": {},
     "output_type": "display_data"
    },
    {
     "data": {
      "text/plain": [
       "[<matplotlib.lines.Line2D at 0x2af43331ed90>]"
      ]
     },
     "execution_count": 15,
     "metadata": {},
     "output_type": "execute_result"
    }
   ],
   "source": [
    "fig = plt.figure()\n",
    "ax = fig.add_subplot(111)\n",
    "ax.plot(np.array(anas_tip_hyph_observed)+np.array(anas_tip_tip_observed))\n",
    "ax.plot(number_anas_theory)"
   ]
  },
  {
   "cell_type": "code",
   "execution_count": null,
   "metadata": {},
   "outputs": [],
   "source": [
    "def func(t,alpha,C):\n",
    "    return(C*(np.exp(alpha*(t))))\n",
    "end = 40\n",
    "begin = 10\n",
    "coefs = np.polyfit(times[begin:end],lengths[begin:end],2)\n",
    "popt0, pcov = curve_fit(func, times[begin:end], lengths[begin:end],bounds = ([0,0],2*[np.inf]),p0=[1,1])\n",
    "p = np.poly1d(coefs)"
   ]
  },
  {
   "cell_type": "code",
   "execution_count": 21,
   "metadata": {},
   "outputs": [],
   "source": [
    "plt.close('all')\n",
    "hyph,hyph2,t0 = choice(hyph_anas_tip_tip)"
   ]
  },
  {
   "cell_type": "code",
   "execution_count": 22,
   "metadata": {},
   "outputs": [
    {
     "data": {
      "application/vnd.jupyter.widget-view+json": {
       "model_id": "009376787ba94a7da1f77ea546a4ab8a",
       "version_major": 2,
       "version_minor": 0
      },
      "text/plain": [
       "Canvas(toolbar=Toolbar(toolitems=[('Home', 'Reset original view', 'home', 'home'), ('Back', 'Back to previous …"
      ]
     },
     "metadata": {},
     "output_type": "display_data"
    }
   ],
   "source": [
    "plt.close('all')\n",
    "exp_clean.plot([t0,t0+1],[[hyph.end.label,hyph.root.label,hyph2.end.label,hyph2.root.label]])"
   ]
  },
  {
   "cell_type": "code",
   "execution_count": 262,
   "metadata": {},
   "outputs": [],
   "source": [
    "plt.close('all')\n",
    "hyph = choice(hyph_anas_tip_hyph)\n",
    "t0 = get_time_anas_tip_hyph(hyph)\n",
    "# exp_clean.plot([t0,t0+1],[[hyph.end.label,hyph.root.label]]*2)"
   ]
  },
  {
   "cell_type": "code",
   "execution_count": 265,
   "metadata": {},
   "outputs": [
    {
     "data": {
      "application/vnd.jupyter.widget-view+json": {
       "model_id": "dd880475be3f44428424a8bfb81e25dc",
       "version_major": 2,
       "version_minor": 0
      },
      "text/plain": [
       "Canvas(toolbar=Toolbar(toolitems=[('Home', 'Reset original view', 'home', 'home'), ('Back', 'Back to previous …"
      ]
     },
     "metadata": {},
     "output_type": "display_data"
    }
   ],
   "source": [
    "hyph.end.show_source_image(t0+1,t0+1)"
   ]
  },
  {
   "cell_type": "code",
   "execution_count": 6,
   "metadata": {},
   "outputs": [
    {
     "data": {
      "application/vnd.jupyter.widget-view+json": {
       "model_id": "91cab7f9eb0240cd8943495624dbdd25",
       "version_major": 2,
       "version_minor": 0
      },
      "text/plain": [
       "Canvas(toolbar=Toolbar(toolitems=[('Home', 'Reset original view', 'home', 'home'), ('Back', 'Back to previous …"
      ]
     },
     "metadata": {},
     "output_type": "display_data"
    }
   ],
   "source": [
    "Node(11214,exp).show_source_image(28,28)"
   ]
  },
  {
   "cell_type": "code",
   "execution_count": 266,
   "metadata": {},
   "outputs": [],
   "source": [
    "x2,y2,_,_,_ = find_image_pos(exp, hyph.end.pos(t0+1)[0],hyph.end.pos(t0+1)[1],t0+1)"
   ]
  },
  {
   "cell_type": "code",
   "execution_count": null,
   "metadata": {},
   "outputs": [],
   "source": []
  },
  {
   "cell_type": "code",
   "execution_count": 267,
   "metadata": {},
   "outputs": [
    {
     "data": {
      "text/plain": [
       "(-1930.275, -8909.625)"
      ]
     },
     "execution_count": 267,
     "metadata": {},
     "output_type": "execute_result"
    }
   ],
   "source": [
    "x0 = 46640\n",
    "y0 = 52420\n",
    "(x2-x1)*1.725,(y2-y1)*1.725"
   ]
  },
  {
   "cell_type": "code",
   "execution_count": 10,
   "metadata": {},
   "outputs": [],
   "source": [
    "def find_image_pos(exp, xs, ys, t, local=False):\n",
    "    date = exp.dates[t]\n",
    "    directory_name = get_dirname(date, exp.plate)\n",
    "    path_snap = exp.directory + directory_name\n",
    "    path_tile = path_snap + \"/Img/TileConfiguration.txt.registered\"\n",
    "    skel = read_mat(path_snap + \"/Analysis/skeleton_pruned_realigned.mat\")\n",
    "    Rot = skel[\"R\"]\n",
    "    trans = skel[\"t\"]\n",
    "    rottrans = np.dot(np.linalg.inv(Rot), np.array([xs, ys] - trans))\n",
    "    ys, xs = round(rottrans[0]), round(rottrans[1])\n",
    "    tileconfig = pd.read_table(\n",
    "        path_tile,\n",
    "        sep=\";\",\n",
    "        skiprows=4,\n",
    "        header=None,\n",
    "        converters={2: ast.literal_eval},\n",
    "        skipinitialspace=True,\n",
    "    )\n",
    "    xs_yss = list(tileconfig[2])\n",
    "    xes = [xs_ys[0] for xs_ys in xs_yss]\n",
    "    yes = [xs_ys[1] for xs_ys in xs_yss]\n",
    "    cmin = np.min(xes)\n",
    "    cmax = np.max(xes)\n",
    "    rmin = np.min(yes)\n",
    "    rmax = np.max(yes)\n",
    "    ximg = xs\n",
    "    yimg = ys\n",
    "\n",
    "    def find(xsub, ysub, x, y):\n",
    "        indexes = []\n",
    "        for i in range(len(xsub)):\n",
    "            if (\n",
    "                x >= xsub[i] - cmin\n",
    "                and x < xsub[i] - cmin + 4096\n",
    "                and y >= ysub[i] - rmin\n",
    "                and y < ysub[i] - rmin + 3000\n",
    "            ):\n",
    "                indexes.append(i)\n",
    "        return indexes\n",
    "\n",
    "    indsImg = find(xes, yes, ximg, yimg)\n",
    "    possImg = [\n",
    "        ximg - np.array(xes)[indsImg] + cmin + 1,\n",
    "        yimg - np.array(yes)[indsImg] + rmin + 1,\n",
    "    ]\n",
    "    paths = []\n",
    "    for index in indsImg:\n",
    "        name = tileconfig[0][index]\n",
    "        imname = '/Img/'+name.split('/')[-1]\n",
    "        directory_name = get_dirname(date, exp.plate)\n",
    "        path  = exp.directory + directory_name + imname\n",
    "        pipeline.paths.append(path)\n",
    "    ims = [imageio.imread(path) for path in paths]\n",
    "    return (xs,ys, indsImg[0],possImg[0][0],possImg[1][0])"
   ]
  }
 ],
 "metadata": {
  "kernelspec": {
   "display_name": "Python 3",
   "language": "python",
   "name": "python3"
  },
  "language_info": {
   "codemirror_mode": {
    "name": "ipython",
    "version": 3
   },
   "file_extension": ".py",
   "mimetype": "text/x-python",
   "name": "python",
   "nbconvert_exporter": "python",
   "pygments_lexer": "ipython3",
   "version": "3.7.7"
  }
 },
 "nbformat": 4,
 "nbformat_minor": 4
}

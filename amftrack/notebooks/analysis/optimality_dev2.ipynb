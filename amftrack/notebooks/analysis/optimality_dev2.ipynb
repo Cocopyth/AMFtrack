{
 "cells": [
  {
   "cell_type": "code",
   "execution_count": 1,
   "metadata": {},
   "outputs": [],
   "source": [
    "%matplotlib widget\n",
    "\n",
    "import sys  \n",
    "sys.path.insert(0, '/home/cbisot/pycode/MscThesis/')\n",
    "sys.path.append( '/home/cbisot/pycode/MscThesis/amftrack/pipeline/functions')\n",
    "\n",
    "from amftrack.notebooks.analysis.util import *\n",
    "from amftrack.pipeline.paths.directory import path_code, directory_scratch, directory_project\n",
    "from amftrack.notebooks.analysis.data_info import *\n",
    "import matplotlib.pyplot as plt\n",
    "from sklearn.linear_model import LinearRegression\n"
   ]
  },
  {
   "cell_type": "code",
   "execution_count": 2,
   "metadata": {},
   "outputs": [
    {
     "name": "stdout",
     "output_type": "stream",
     "text": [
      "begin = 2020-12-26 20:04:00 \n",
      "  end = 2020-12-30 23:33:00\n"
     ]
    }
   ],
   "source": [
    "# exp = get_exp((39,269,329),directory_project)\n",
    "exp = get_exp((40,262,287),directory_project)"
   ]
  },
  {
   "cell_type": "code",
   "execution_count": 3,
   "metadata": {},
   "outputs": [],
   "source": [
    "RH, BAS, max_speeds, total_growths, widths, lengths, branch_frequ,select_hyph = get_rh_bas(exp,criter)"
   ]
  },
  {
   "cell_type": "code",
   "execution_count": 4,
   "metadata": {},
   "outputs": [],
   "source": [
    "lengths = [get_length(exp,t) for t in range(exp.ts)]"
   ]
  },
  {
   "cell_type": "code",
   "execution_count": 5,
   "metadata": {},
   "outputs": [],
   "source": [
    "times = [get_time(exp,0,t) for t in range(exp.ts)]"
   ]
  },
  {
   "cell_type": "code",
   "execution_count": 11,
   "metadata": {},
   "outputs": [
    {
     "data": {
      "application/vnd.jupyter.widget-view+json": {
       "model_id": "029b91bea7e14f8ba6e1a27c549314f5",
       "version_major": 2,
       "version_minor": 0
      },
      "text/plain": [
       "Canvas(toolbar=Toolbar(toolitems=[('Home', 'Reset original view', 'home', 'home'), ('Back', 'Back to previous …"
      ]
     },
     "metadata": {},
     "output_type": "display_data"
    },
    {
     "data": {
      "text/plain": [
       "<matplotlib.collections.PathCollection at 0x2b7a7eb32d10>"
      ]
     },
     "execution_count": 11,
     "metadata": {},
     "output_type": "execute_result"
    }
   ],
   "source": [
    "fig, ax = plt.subplots(nrows=1, ncols=1, figsize=(9, 4))\n",
    "ax.scatter(times,np.array(lengths)/1000)"
   ]
  },
  {
   "cell_type": "code",
   "execution_count": 12,
   "metadata": {},
   "outputs": [
    {
     "data": {
      "application/vnd.jupyter.widget-view+json": {
       "model_id": "f889adb91d564a3c8e29b8fc1549e5b7",
       "version_major": 2,
       "version_minor": 0
      },
      "text/plain": [
       "Canvas(toolbar=Toolbar(toolitems=[('Home', 'Reset original view', 'home', 'home'), ('Back', 'Back to previous …"
      ]
     },
     "metadata": {},
     "output_type": "display_data"
    },
    {
     "data": {
      "text/plain": [
       "[<matplotlib.lines.Line2D at 0x2b7a45d7f190>]"
      ]
     },
     "execution_count": 12,
     "metadata": {},
     "output_type": "execute_result"
    }
   ],
   "source": [
    "plt.close('all')\n",
    "fig, ax = plt.subplots(nrows=1, ncols=1, figsize=(9, 4))\n",
    "end = -1\n",
    "X = np.array(times[:end]).reshape(-1,1)\n",
    "y = np.log(np.array(lengths[:end]))\n",
    "reg = LinearRegression().fit(X, y)\n",
    "coefa=reg.coef_\n",
    "ax.scatter(times,np.array(lengths)/lengths[0])\n",
    "ax.plot(times,np.exp(np.array(times)*coefa),label = f'total_length {\"{:.2f}\".format(float(coefa)*24)}day-1')\n",
    "# ax.set_xlim(0,80)\n",
    "# ax.set_ylim(0,400)"
   ]
  },
  {
   "cell_type": "code",
   "execution_count": 13,
   "metadata": {},
   "outputs": [
    {
     "data": {
      "text/plain": [
       "array([0.96242323])"
      ]
     },
     "execution_count": 13,
     "metadata": {},
     "output_type": "execute_result"
    }
   ],
   "source": [
    "coefa*24"
   ]
  },
  {
   "cell_type": "code",
   "execution_count": 86,
   "metadata": {
    "jupyter": {
     "source_hidden": true
    }
   },
   "outputs": [],
   "source": [
    "total_growth= [274.4182939842498,\n",
    " 264.75066857923247,\n",
    " 130.14008759834883,\n",
    " 314.0507474032412,\n",
    " 113.7477630475859,\n",
    " 1161.622784505229,\n",
    " 1745.0546022253006,\n",
    " 2726.9218066428225,\n",
    " 2871.778197123677,\n",
    " 4383.75894167157,\n",
    " 4214.542457713185,\n",
    " 3085.5196044227305,\n",
    " 3814.118401873534,\n",
    " 3850.501563058079,\n",
    " 2799.2820758732155,\n",
    " 644.4555313848887,\n",
    " 1955.058800564103,\n",
    " 488.4187953798312,\n",
    " 5437.132269415376,\n",
    " 6029.556668562571,\n",
    " 309.74440034631823,\n",
    " 2827.3429474183235,\n",
    " 7237.124025346528,\n",
    " 6157.3855798877885]"
   ]
  },
  {
   "cell_type": "code",
   "execution_count": 17,
   "metadata": {},
   "outputs": [
    {
     "name": "stderr",
     "output_type": "stream",
     "text": [
      "/home/cbisot/anaconda3/envs/test/lib/python3.7/site-packages/matplotlib/__init__.py:880: MatplotlibDeprecationWarning: \n",
      "nbagg.transparent\n",
      "  version, key, obj_type=\"rcparam\", alternative=alt_key)\n"
     ]
    },
    {
     "data": {
      "application/vnd.jupyter.widget-view+json": {
       "model_id": "83e33280c9df43b59ac00f1d62d69800",
       "version_major": 2,
       "version_minor": 0
      },
      "text/plain": [
       "Canvas(toolbar=Toolbar(toolitems=[('Home', 'Reset original view', 'home', 'home'), ('Back', 'Back to previous …"
      ]
     },
     "metadata": {},
     "output_type": "display_data"
    },
    {
     "data": {
      "text/plain": [
       "<matplotlib.legend.Legend at 0x2b7b9c97c2d0>"
      ]
     },
     "execution_count": 17,
     "metadata": {},
     "output_type": "execute_result"
    }
   ],
   "source": [
    "plt.close('all')\n",
    "fig, ax = plt.subplots(nrows=1, ncols=1, figsize=(9, 4))\n",
    "end = -1\n",
    "X = np.array(times[:end]).reshape(-1,1)\n",
    "y = np.log(np.array(lengths[:end]))\n",
    "reg = LinearRegression().fit(X, y)\n",
    "coefa=reg.coef_\n",
    "ax.scatter(times,np.array(lengths)/lengths[0])\n",
    "ax.plot(times,np.exp(np.array(times)*coefa),label = f'total_length {\"{:.2f}\".format(float(coefa)*24)}day-1')\n",
    "t0s = {t:0 for t in range(exp.ts)}\n",
    "t0s_l = {t:0 for t in range(exp.ts)}\n",
    "for rh in RH:\n",
    "    for t in rh.ts:\n",
    "        t0s[t]+=1\n",
    "        t0s_l[t]+=rh.get_length_um(t)\n",
    "# nrh= np.cumsum(list(t0s.values()))\n",
    "nrh = list(t0s_l.values())\n",
    "X = np.array(times[:end]).reshape(-1,1)\n",
    "y = np.log(np.array(nrh[:end])+1)\n",
    "reg = LinearRegression().fit(X, y)\n",
    "ax.scatter(times,np.array(nrh)/nrh[0])\n",
    "coefb=reg.coef_\n",
    "ax.plot(times,np.exp(times*reg.coef_),label=f'length rh {\"{:.2f}\".format(float(coefb)*24)}day-1')\n",
    "nrh = list(t0s.values())\n",
    "X = np.array(times[:end]).reshape(-1,1)\n",
    "y = np.log(np.array(nrh[:end])+1)\n",
    "reg = LinearRegression().fit(X, y)\n",
    "coefc=reg.coef_\n",
    "ax.scatter(times,np.array(nrh)/nrh[0])\n",
    "ax.plot(times,np.exp(times*reg.coef_),label=f'number rh {\"{:.2f}\".format(float(coefc)*24)}day-1')\n",
    "# t0s = {t:0 for t in range(exp.ts)}\n",
    "# t0s_l = {t:0 for t in range(exp.ts)}\n",
    "# for rh in RH:\n",
    "#     for t in rh.ts:\n",
    "#         t0s[t]+=1\n",
    "#         t0s_l[t]+=rh.get_length_um(t)\n",
    "# for rh in BAS:\n",
    "#     for t in rh.ts:\n",
    "#         t0s[t]+=1\n",
    "#         t0s_l[t]+=rh.get_length_um(t)\n",
    "# nrh = list(t0s_l.values())\n",
    "# popt0, pcov = curve_fit(func, times, nrh,bounds = ([0,0],2*[np.inf]),p0=[1,1])\n",
    "# coef = popt0[-1]\n",
    "\n",
    "# ax.scatter(times,np.array(nrh)/nrh[0])\n",
    "# ax.plot(times,np.exp(np.array(times)*coef),label='length rh and bas')\n",
    "# nrh = list(t0s.values())\n",
    "# popt0, pcov = curve_fit(func, times, nrh,bounds = ([0,0],2*[np.inf]),p0=[1,1])\n",
    "# coef = popt0[-1]\n",
    "\n",
    "# nrh= np.cumsum(list(t0s.values()))\n",
    "# fig, ax = plt.subplots(nrows=1, ncols=1, figsize=(9, 4))\n",
    "# ax.scatter(times,np.array(nrh)/nrh[0])\n",
    "# ax.plot(times,np.exp(np.array(times)*coef),label='number rh and bas')\n",
    "# X = np.array(times[:end-2]).reshape(-1,1)\n",
    "# y = np.log(np.array(total_growth[:end]))\n",
    "# reg = LinearRegression().fit(X, y)\n",
    "# coefd = reg.coef_\n",
    "# ax.scatter(times[:-2],np.array(total_growth)/total_growth[0])\n",
    "# ax.plot(times,np.exp(times*reg.coef_),label=f'total growth of RH {\"{:.2f}\".format(float(coefd)*24)}day-1')\n",
    "ax.set_xlabel('time (h)')\n",
    "ax.set_ylabel('normalised increase')\n",
    "plt.legend()"
   ]
  },
  {
   "cell_type": "code",
   "execution_count": 97,
   "metadata": {},
   "outputs": [
    {
     "data": {
      "text/plain": [
       "(0, 1000)"
      ]
     },
     "execution_count": 97,
     "metadata": {},
     "output_type": "execute_result"
    }
   ],
   "source": [
    "ax.set_ylim(0,1000)\n"
   ]
  },
  {
   "cell_type": "code",
   "execution_count": 90,
   "metadata": {},
   "outputs": [
    {
     "data": {
      "text/plain": [
       "(35, 24)"
      ]
     },
     "execution_count": 90,
     "metadata": {},
     "output_type": "execute_result"
    }
   ],
   "source": [
    "len(times[:end]),len(total_growth)"
   ]
  },
  {
   "cell_type": "code",
   "execution_count": 8,
   "metadata": {},
   "outputs": [
    {
     "data": {
      "text/plain": [
       "(11706.140022721302, 218.3453009317729, 0.31028932734912884)"
      ]
     },
     "execution_count": 8,
     "metadata": {},
     "output_type": "execute_result"
    }
   ],
   "source": [
    "branch_dist = rh_length/count_rh\n",
    "mean_speed = np.mean([speed for speed in speeds if speed>25])\n",
    "branch_dist,mean_speed,mean_speed/branch_dist*24*np.log(2)"
   ]
  },
  {
   "cell_type": "code",
   "execution_count": 6,
   "metadata": {},
   "outputs": [],
   "source": [
    "bas_roots = [hyph.root.label for hyph in BAS]\n",
    "rh_roots = [hyph.root.label for hyph in RH]\n",
    "rh_length = 0\n",
    "count_rh = 0\n",
    "count_bas = 0\n",
    "bas_length = 0\n",
    "for rh in RH:\n",
    "    length = rh.get_length_um(rh.ts[-1])\n",
    "    nodes = rh.get_nodes_within(rh.ts[-1])[0]\n",
    "    for node in nodes[1:-1]:\n",
    "        if node in rh_roots:\n",
    "            count_rh+=1\n",
    "    rh_length += length\n",
    "for rh in BAS:\n",
    "    if len(rh.ts)>0:\n",
    "        length = rh.get_length_um(rh.ts[-1])\n",
    "        nodes = rh.get_nodes_within(rh.ts[-1])[0]\n",
    "        for node in nodes[1:-1]:\n",
    "            if node in rh_roots:\n",
    "                count_bas+=1\n",
    "        bas_length += length\n",
    "    "
   ]
  },
  {
   "cell_type": "code",
   "execution_count": 7,
   "metadata": {},
   "outputs": [
    {
     "name": "stdout",
     "output_type": "stream",
     "text": [
      "There is 172 RH\n"
     ]
    }
   ],
   "source": [
    "window = 800\n",
    "skeletons = [sparse.csr_matrix(skel) for skel in exp.skeletons]\n",
    "angles = []\n",
    "curvatures = []\n",
    "densities = []\n",
    "growths = []\n",
    "speeds = []\n",
    "tortuosities = []\n",
    "hyphs = []\n",
    "ts = []\n",
    "print(f'There is {len(RH)} RH')\n",
    "for hyph in RH:\n",
    "    for i,t in enumerate(hyph.ts[:-1]):\n",
    "        tp1=hyph.ts[i+1]\n",
    "        segs,nodes = get_pixel_growth_and_new_children(hyph,t,tp1)\n",
    "        speed = np.sum([get_length_um(seg) for seg in segs])/get_time(exp,t,tp1)\n",
    "        total_growth = speed * get_time(exp,t,tp1)\n",
    "        curve = [pixel for seg in segs for pixel in seg]\n",
    "        pos = hyph.end.pos(t)\n",
    "        x,y = pos[0],pos[1]\n",
    "        straight_distance = np.linalg.norm(hyph.end.pos(t)-hyph.end.pos(tp1))\n",
    "        skeleton=skeletons[t][x-window:x+window,y-window:y+window]\n",
    "        density = skeleton.count_nonzero()/(window*1.725)\n",
    "        curve_array = np.array(curve)\n",
    "        res = 50\n",
    "        index = min(res,curve_array.shape[0]-1)\n",
    "        vec1 = curve_array [index]-curve_array [0]\n",
    "        vec2 = curve_array [-1]-curve_array [-index-1]\n",
    "        if np.linalg.norm(vec1)>0 and np.linalg.norm(vec2)>0:\n",
    "            begin = vec1/np.linalg.norm(vec1)\n",
    "            end = vec2/np.linalg.norm(vec2)\n",
    "            dot_product = min(np.dot(begin, end),1)\n",
    "            if (begin[1] * end[0] - end[1] * begin[0] >= 0):  # determinant\n",
    "                angle = -np.arccos(dot_product) / (2 * np.pi) * 360\n",
    "            else:\n",
    "                angle = np.arccos(dot_product) / (2 * np.pi) * 360\n",
    "            inv_tortuosity = (straight_distance*1.725)/total_growth\n",
    "            if hyph.end.degree(tp1)<3 and inv_tortuosity>0.8 and inv_tortuosity<1.1:\n",
    "                if np.isnan((angle/total_growth)):\n",
    "                    print(angle,total_growth,dot_product)\n",
    "                angles.append(angle)\n",
    "                curvatures.append(angle/total_growth)\n",
    "                densities.append(density)\n",
    "                growths.append(total_growth)\n",
    "                speeds.append(speed)\n",
    "                tortuosities.append(inv_tortuosity)\n",
    "                ts.append(get_time(exp,0,t))\n",
    "                hyphs.append(hyph.end.label)"
   ]
  },
  {
   "cell_type": "code",
   "execution_count": null,
   "metadata": {},
   "outputs": [],
   "source": []
  },
  {
   "cell_type": "code",
   "execution_count": 128,
   "metadata": {},
   "outputs": [
    {
     "name": "stderr",
     "output_type": "stream",
     "text": [
      "/home/cbisot/anaconda3/envs/test/lib/python3.7/site-packages/matplotlib/__init__.py:880: MatplotlibDeprecationWarning: \n",
      "nbagg.transparent\n",
      "  version, key, obj_type=\"rcparam\", alternative=alt_key)\n"
     ]
    },
    {
     "data": {
      "application/vnd.jupyter.widget-view+json": {
       "model_id": "d486606fad174ef2a24f34922bc54472",
       "version_major": 2,
       "version_minor": 0
      },
      "text/plain": [
       "Canvas(toolbar=Toolbar(toolitems=[('Home', 'Reset original view', 'home', 'home'), ('Back', 'Back to previous …"
      ]
     },
     "metadata": {},
     "output_type": "display_data"
    },
    {
     "data": {
      "text/plain": [
       "[<matplotlib.lines.Line2D at 0x2ac850e2da10>]"
      ]
     },
     "execution_count": 128,
     "metadata": {},
     "output_type": "execute_result"
    }
   ],
   "source": [
    "plt.close('all')\n",
    "fig, ax = plt.subplots(nrows=1, ncols=1, figsize=(9, 4))\n",
    "t0s = {t:0 for t in range(exp.ts)}\n",
    "for rh in RH:\n",
    "    for t in rh.ts:\n",
    "        t0s[t]+=1\n",
    "    \n",
    "for rh in BAS:\n",
    "    for t in rh.ts:\n",
    "        t0s[t]+=1\n",
    "nrh = list(t0s.values())\n",
    "X = np.array(times[:]).reshape(-1,1)\n",
    "y = np.log(np.array(nrh[:]))\n",
    "reg = LinearRegression().fit(X, y)\n",
    "# nrh= np.cumsum(list(t0s.values()))\n",
    "# fig, ax = plt.subplots(nrows=1, ncols=1, figsize=(9, 4))\n",
    "ax.scatter(times,np.array(nrh)/nrh[0])\n",
    "ax.plot(times,np.exp(times*(reg.coef_+0.002)))"
   ]
  },
  {
   "cell_type": "code",
   "execution_count": 123,
   "metadata": {},
   "outputs": [
    {
     "data": {
      "text/plain": [
       "array([0.03663874])"
      ]
     },
     "execution_count": 123,
     "metadata": {},
     "output_type": "execute_result"
    }
   ],
   "source": [
    "reg.coef_"
   ]
  },
  {
   "cell_type": "code",
   "execution_count": 105,
   "metadata": {},
   "outputs": [
    {
     "data": {
      "text/plain": [
       "array([0.79399848])"
      ]
     },
     "execution_count": 105,
     "metadata": {},
     "output_type": "execute_result"
    }
   ],
   "source": [
    "end = -10\n",
    "X = np.array(times[:end]).reshape(-1,1)\n",
    "reg = LinearRegression().fit(np.array(times[:end]).reshape(-1,1), np.log(np.array(lengths[:end])))\n",
    "reg.coef_*24"
   ]
  },
  {
   "cell_type": "code",
   "execution_count": 22,
   "metadata": {},
   "outputs": [
    {
     "data": {
      "text/plain": [
       "array([0.79628228])"
      ]
     },
     "execution_count": 22,
     "metadata": {},
     "output_type": "execute_result"
    }
   ],
   "source": [
    "reg.coef_*24"
   ]
  },
  {
   "cell_type": "code",
   "execution_count": 20,
   "metadata": {
    "collapsed": true,
    "jupyter": {
     "outputs_hidden": true
    }
   },
   "outputs": [
    {
     "data": {
      "text/plain": [
       "array([[ 0.        ],\n",
       "       [ 1.        ],\n",
       "       [ 2.        ],\n",
       "       [ 3.        ],\n",
       "       [ 3.98333333],\n",
       "       [ 4.98333333],\n",
       "       [ 5.98333333],\n",
       "       [ 6.98333333],\n",
       "       [ 7.98333333],\n",
       "       [ 8.98333333],\n",
       "       [ 9.98333333],\n",
       "       [11.        ],\n",
       "       [12.        ],\n",
       "       [13.        ],\n",
       "       [14.        ],\n",
       "       [15.        ],\n",
       "       [16.        ],\n",
       "       [17.        ],\n",
       "       [18.        ],\n",
       "       [19.        ],\n",
       "       [20.        ],\n",
       "       [21.01666667],\n",
       "       [22.01666667],\n",
       "       [23.01666667],\n",
       "       [24.01666667],\n",
       "       [25.01666667],\n",
       "       [26.01666667],\n",
       "       [27.01666667],\n",
       "       [28.01666667],\n",
       "       [29.01666667],\n",
       "       [30.01666667],\n",
       "       [31.01666667],\n",
       "       [32.01666667],\n",
       "       [33.01666667],\n",
       "       [34.01666667],\n",
       "       [35.01666667],\n",
       "       [36.01666667],\n",
       "       [37.01666667],\n",
       "       [38.01666667],\n",
       "       [39.01666667],\n",
       "       [40.01666667],\n",
       "       [41.01666667],\n",
       "       [42.01666667],\n",
       "       [43.01666667],\n",
       "       [44.01666667],\n",
       "       [45.01666667],\n",
       "       [46.01666667],\n",
       "       [47.01666667],\n",
       "       [48.01666667],\n",
       "       [49.01666667],\n",
       "       [50.01666667],\n",
       "       [51.01666667],\n",
       "       [52.01666667],\n",
       "       [53.01666667],\n",
       "       [54.01666667],\n",
       "       [55.01666667],\n",
       "       [56.01666667],\n",
       "       [57.01666667],\n",
       "       [58.01666667],\n",
       "       [59.01666667],\n",
       "       [60.01666667]])"
      ]
     },
     "execution_count": 20,
     "metadata": {},
     "output_type": "execute_result"
    }
   ],
   "source": [
    "X = np.array(times).reshape(-1,1)\n",
    "X"
   ]
  },
  {
   "cell_type": "code",
   "execution_count": 32,
   "metadata": {},
   "outputs": [],
   "source": [
    "def estimate_rh_freq_mult(inst,samples,back,criter, path):\n",
    "    bas_frequ = []\n",
    "    t0 = inst[2]-inst[1]-back\n",
    "    exp = get_exp(inst,path)\n",
    "    RH, BAS, max_speeds, total_growths, widths, lengths, branch_frequ,select_hyph = get_rh_bas(exp,criter)\n",
    "    bas_roots = [hyph.root for hyph in BAS]\n",
    "    rh_roots = [hyph.root for hyph in RH]\n",
    "    for k in range(samples):\n",
    "        node1 = Node(choice(list(exp.nx_graph[t0].nodes)),exp)\n",
    "        node2 = Node(choice(list(exp.nx_graph[t0].nodes)),exp)\n",
    "        if np.linalg.norm(node1.pos(t0)-node2.pos(t0))>=5000 and nx.algorithms.shortest_pipeline.paths.generic.has_path(exp.nx_graph[t0],node1.label,node2.label):\n",
    "            nodes = nx.shortest_path(exp.nx_graph[t0], source = node1.label, target = node2.label)\n",
    "#             exp.plot([t],[nodes])\n",
    "            bass=[]\n",
    "            for node in nodes:\n",
    "                if exp.get_node(node) in  rh_roots:\n",
    "                    bass.append(node)\n",
    "        #             print(hyph)\n",
    "        #             if hyph.ts[0] in rh.ts:\n",
    "        #                 print(hyph,hyph_info[hyph],hyph in BAS)\n",
    "        #                 hyph.end.show_source_image(hyph.ts[-1],hyph.ts[-1])\n",
    "            print(len(bass)/get_length_um_node_list(nodes,exp,t0)*10000)\n",
    "            bas_frequ.append(len(bass)/get_length_um_node_list(nodes,exp,t0)*10000)\n",
    "            print(bas_frequ)\n",
    "#         pickle.dump(bas_frequ, open(f'{path_code}/MscThesis/Results/bas_{inst}.pick', \"wb\"))\n",
    "    return(bas_frequ)"
   ]
  },
  {
   "cell_type": "code",
   "execution_count": 33,
   "metadata": {},
   "outputs": [
    {
     "name": "stdout",
     "output_type": "stream",
     "text": [
      "begin = 2020-11-23 15:01:00 \n",
      "  end = 2020-11-26 03:02:00\n",
      "4.191771057526126\n",
      "[4.191771057526126]\n",
      "2.7759026885992615\n",
      "[4.191771057526126, 2.7759026885992615]\n",
      "2.306781045135673\n",
      "[4.191771057526126, 2.7759026885992615, 2.306781045135673]\n",
      "2.496018946267994\n",
      "[4.191771057526126, 2.7759026885992615, 2.306781045135673, 2.496018946267994]\n",
      "5.405483136650545\n",
      "[4.191771057526126, 2.7759026885992615, 2.306781045135673, 2.496018946267994, 5.405483136650545]\n",
      "3.682288072807331\n",
      "[4.191771057526126, 2.7759026885992615, 2.306781045135673, 2.496018946267994, 5.405483136650545, 3.682288072807331]\n",
      "1.985722546221831\n",
      "[4.191771057526126, 2.7759026885992615, 2.306781045135673, 2.496018946267994, 5.405483136650545, 3.682288072807331, 1.985722546221831]\n"
     ]
    }
   ],
   "source": [
    "bas_frequ = estimate_rh_freq_mult((39,269,329),10,0,criter, directory_project)"
   ]
  },
  {
   "cell_type": "code",
   "execution_count": 40,
   "metadata": {},
   "outputs": [
    {
     "data": {
      "text/plain": [
       "0.0004098985079133463"
      ]
     },
     "execution_count": 40,
     "metadata": {},
     "output_type": "execute_result"
    }
   ],
   "source": [
    "np.mean(bas_frequ)/10000"
   ]
  },
  {
   "cell_type": "code",
   "execution_count": 39,
   "metadata": {},
   "outputs": [
    {
     "data": {
      "text/plain": [
       "1.1747647373447787"
      ]
     },
     "execution_count": 39,
     "metadata": {},
     "output_type": "execute_result"
    }
   ],
   "source": [
    "len(RH)/lengths[-1]*np.mean([speed for speed in speeds if speed>25])*24"
   ]
  },
  {
   "cell_type": "code",
   "execution_count": 38,
   "metadata": {},
   "outputs": [
    {
     "data": {
      "text/plain": [
       "1.0563403230678294"
      ]
     },
     "execution_count": 38,
     "metadata": {},
     "output_type": "execute_result"
    }
   ],
   "source": [
    "np.mean([speed for speed in speeds if speed>25])*np.mean(bas_frequ)/10000*24*np.log(2)"
   ]
  },
  {
   "cell_type": "code",
   "execution_count": 47,
   "metadata": {},
   "outputs": [
    {
     "data": {
      "application/vnd.jupyter.widget-view+json": {
       "model_id": "3214f2c5a5574872bb387f1a7505f620",
       "version_major": 2,
       "version_minor": 0
      },
      "text/plain": [
       "Canvas(toolbar=Toolbar(toolitems=[('Home', 'Reset original view', 'home', 'home'), ('Back', 'Back to previous …"
      ]
     },
     "metadata": {},
     "output_type": "display_data"
    },
    {
     "data": {
      "text/plain": [
       "(array([ 9., 15.,  7.,  4.,  5.,  6., 10.,  6.,  1.,  2.,  1.,  1.,  3.,\n",
       "         2.,  1.,  0.,  0.,  1.,  0.,  1.]),\n",
       " array([8.10016953e-05, 1.78435621e-04, 2.75869548e-04, 3.73303474e-04,\n",
       "        4.70737400e-04, 5.68171326e-04, 6.65605252e-04, 7.63039178e-04,\n",
       "        8.60473105e-04, 9.57907031e-04, 1.05534096e-03, 1.15277488e-03,\n",
       "        1.25020881e-03, 1.34764274e-03, 1.44507666e-03, 1.54251059e-03,\n",
       "        1.63994451e-03, 1.73737844e-03, 1.83481237e-03, 1.93224629e-03,\n",
       "        2.02968022e-03]),\n",
       " <a list of 20 Patch objects>)"
      ]
     },
     "execution_count": 47,
     "metadata": {},
     "output_type": "execute_result"
    }
   ],
   "source": [
    "fig, ax = plt.subplots(nrows=1, ncols=1, figsize=(9, 4))\n",
    "ax.hist([frequ for frequ in rh_frequ if frequ>0],20)"
   ]
  },
  {
   "cell_type": "code",
   "execution_count": 48,
   "metadata": {},
   "outputs": [],
   "source": [
    "rh_frequ_better = [frequ for frequ in rh_frequ if frequ>0]"
   ]
  },
  {
   "cell_type": "code",
   "execution_count": 49,
   "metadata": {},
   "outputs": [
    {
     "data": {
      "text/plain": [
       "2.7516414060891012"
      ]
     },
     "execution_count": 49,
     "metadata": {},
     "output_type": "execute_result"
    }
   ],
   "source": [
    "np.mean(rh_frequ_better)*np.mean([speed for speed in speeds if speed>25])*24"
   ]
  },
  {
   "cell_type": "code",
   "execution_count": 50,
   "metadata": {},
   "outputs": [
    {
     "data": {
      "text/plain": [
       "0.0005892328247384389"
      ]
     },
     "execution_count": 50,
     "metadata": {},
     "output_type": "execute_result"
    }
   ],
   "source": [
    "np.mean(rh_frequ_better)"
   ]
  },
  {
   "cell_type": "code",
   "execution_count": 44,
   "metadata": {},
   "outputs": [
    {
     "data": {
      "text/plain": [
       "0.0004098985079133463"
      ]
     },
     "execution_count": 44,
     "metadata": {},
     "output_type": "execute_result"
    }
   ],
   "source": [
    "np.mean(bas_frequ)/10000"
   ]
  },
  {
   "cell_type": "code",
   "execution_count": null,
   "metadata": {},
   "outputs": [],
   "source": [
    "rh_length/lengths[-1]"
   ]
  },
  {
   "cell_type": "code",
   "execution_count": 77,
   "metadata": {},
   "outputs": [
    {
     "data": {
      "text/plain": [
       "1.3318809414965531"
      ]
     },
     "execution_count": 77,
     "metadata": {},
     "output_type": "execute_result"
    }
   ],
   "source": [
    "(bas_length+rh_length)/lengths[-1]"
   ]
  },
  {
   "cell_type": "code",
   "execution_count": 53,
   "metadata": {},
   "outputs": [
    {
     "data": {
      "text/plain": [
       "189"
      ]
     },
     "execution_count": 53,
     "metadata": {},
     "output_type": "execute_result"
    }
   ],
   "source": [
    "count"
   ]
  },
  {
   "cell_type": "code",
   "execution_count": 41,
   "metadata": {},
   "outputs": [
    {
     "data": {
      "text/plain": [
       "0.8442021326151778"
      ]
     },
     "execution_count": 41,
     "metadata": {},
     "output_type": "execute_result"
    }
   ],
   "source": []
  },
  {
   "cell_type": "code",
   "execution_count": 58,
   "metadata": {},
   "outputs": [
    {
     "data": {
      "text/plain": [
       "1.1747647373447787"
      ]
     },
     "execution_count": 58,
     "metadata": {},
     "output_type": "execute_result"
    }
   ],
   "source": [
    "len(RH)/lengths[-1]*np.mean([speed for speed in speeds if speed>25])*24"
   ]
  },
  {
   "cell_type": "code",
   "execution_count": 55,
   "metadata": {},
   "outputs": [
    {
     "data": {
      "text/plain": [
       "0.5918900042207608"
      ]
     },
     "execution_count": 55,
     "metadata": {},
     "output_type": "execute_result"
    }
   ],
   "source": [
    "rh_length/lengths[-1]"
   ]
  },
  {
   "cell_type": "code",
   "execution_count": 110,
   "metadata": {},
   "outputs": [],
   "source": [
    "t0s = {t:0 for t in range(exp.ts)}\n",
    "for rh in RH:\n",
    "    for t in rh.ts:\n",
    "        t0s[t]+=1\n",
    "# nrh= np.cumsum(list(t0s.values()))\n",
    "nrh = list(t0s.values())"
   ]
  },
  {
   "cell_type": "code",
   "execution_count": 111,
   "metadata": {},
   "outputs": [
    {
     "data": {
      "application/vnd.jupyter.widget-view+json": {
       "model_id": "a48e8f5d3dd947f4956444cafbe55088",
       "version_major": 2,
       "version_minor": 0
      },
      "text/plain": [
       "Canvas(toolbar=Toolbar(toolitems=[('Home', 'Reset original view', 'home', 'home'), ('Back', 'Back to previous …"
      ]
     },
     "metadata": {},
     "output_type": "display_data"
    },
    {
     "data": {
      "text/plain": [
       "<matplotlib.collections.PathCollection at 0x2ac9e0605890>"
      ]
     },
     "execution_count": 111,
     "metadata": {},
     "output_type": "execute_result"
    }
   ],
   "source": [
    "fig, ax = plt.subplots(nrows=1, ncols=1, figsize=(9, 4))\n",
    "ax.scatter(times,nrh)"
   ]
  },
  {
   "cell_type": "code",
   "execution_count": 88,
   "metadata": {},
   "outputs": [
    {
     "name": "stderr",
     "output_type": "stream",
     "text": [
      "/home/cbisot/anaconda3/envs/test/lib/python3.7/site-packages/ipykernel_launcher.py:1: RuntimeWarning: divide by zero encountered in log\n",
      "  \"\"\"Entry point for launching an IPython kernel.\n"
     ]
    },
    {
     "ename": "ValueError",
     "evalue": "Input contains NaN, infinity or a value too large for dtype('float64').",
     "output_type": "error",
     "traceback": [
      "\u001b[0;31m---------------------------------------------------------------------------\u001b[0m",
      "\u001b[0;31mValueError\u001b[0m                                Traceback (most recent call last)",
      "\u001b[0;32m<ipython-input-88-31afec3b7f3c>\u001b[0m in \u001b[0;36m<module>\u001b[0;34m\u001b[0m\n\u001b[1;32m      1\u001b[0m \u001b[0mX\u001b[0m \u001b[0;34m=\u001b[0m \u001b[0mnp\u001b[0m\u001b[0;34m.\u001b[0m\u001b[0mlog\u001b[0m\u001b[0;34m(\u001b[0m\u001b[0mnp\u001b[0m\u001b[0;34m.\u001b[0m\u001b[0marray\u001b[0m\u001b[0;34m(\u001b[0m\u001b[0mtimes\u001b[0m\u001b[0;34m[\u001b[0m\u001b[0;34m:\u001b[0m\u001b[0;34m-\u001b[0m\u001b[0;36m4\u001b[0m\u001b[0;34m]\u001b[0m\u001b[0;34m)\u001b[0m\u001b[0;34m.\u001b[0m\u001b[0mreshape\u001b[0m\u001b[0;34m(\u001b[0m\u001b[0;34m-\u001b[0m\u001b[0;36m1\u001b[0m\u001b[0;34m,\u001b[0m\u001b[0;36m1\u001b[0m\u001b[0;34m)\u001b[0m\u001b[0;34m)\u001b[0m\u001b[0;34m\u001b[0m\u001b[0;34m\u001b[0m\u001b[0m\n\u001b[1;32m      2\u001b[0m \u001b[0my\u001b[0m \u001b[0;34m=\u001b[0m \u001b[0mnp\u001b[0m\u001b[0;34m.\u001b[0m\u001b[0mlog\u001b[0m\u001b[0;34m(\u001b[0m\u001b[0mnp\u001b[0m\u001b[0;34m.\u001b[0m\u001b[0marray\u001b[0m\u001b[0;34m(\u001b[0m\u001b[0mnrh\u001b[0m\u001b[0;34m[\u001b[0m\u001b[0;34m:\u001b[0m\u001b[0;34m-\u001b[0m\u001b[0;36m4\u001b[0m\u001b[0;34m]\u001b[0m\u001b[0;34m)\u001b[0m\u001b[0;34m)\u001b[0m\u001b[0;34m\u001b[0m\u001b[0;34m\u001b[0m\u001b[0m\n\u001b[0;32m----> 3\u001b[0;31m \u001b[0mreg\u001b[0m \u001b[0;34m=\u001b[0m \u001b[0mLinearRegression\u001b[0m\u001b[0;34m(\u001b[0m\u001b[0;34m)\u001b[0m\u001b[0;34m.\u001b[0m\u001b[0mfit\u001b[0m\u001b[0;34m(\u001b[0m\u001b[0mX\u001b[0m\u001b[0;34m,\u001b[0m \u001b[0my\u001b[0m\u001b[0;34m)\u001b[0m\u001b[0;34m\u001b[0m\u001b[0;34m\u001b[0m\u001b[0m\n\u001b[0m\u001b[1;32m      4\u001b[0m \u001b[0mreg\u001b[0m\u001b[0;34m.\u001b[0m\u001b[0mcoef_\u001b[0m\u001b[0;34m*\u001b[0m\u001b[0;36m24\u001b[0m\u001b[0;34m,\u001b[0m\u001b[0mreg\u001b[0m\u001b[0;34m.\u001b[0m\u001b[0mscore\u001b[0m\u001b[0;34m(\u001b[0m\u001b[0mX\u001b[0m\u001b[0;34m,\u001b[0m \u001b[0my\u001b[0m\u001b[0;34m)\u001b[0m\u001b[0;34m\u001b[0m\u001b[0;34m\u001b[0m\u001b[0m\n",
      "\u001b[0;32m~/anaconda3/envs/test/lib/python3.7/site-packages/sklearn/linear_model/_base.py\u001b[0m in \u001b[0;36mfit\u001b[0;34m(self, X, y, sample_weight)\u001b[0m\n\u001b[1;32m    504\u001b[0m         \u001b[0mn_jobs_\u001b[0m \u001b[0;34m=\u001b[0m \u001b[0mself\u001b[0m\u001b[0;34m.\u001b[0m\u001b[0mn_jobs\u001b[0m\u001b[0;34m\u001b[0m\u001b[0;34m\u001b[0m\u001b[0m\n\u001b[1;32m    505\u001b[0m         X, y = self._validate_data(X, y, accept_sparse=['csr', 'csc', 'coo'],\n\u001b[0;32m--> 506\u001b[0;31m                                    y_numeric=True, multi_output=True)\n\u001b[0m\u001b[1;32m    507\u001b[0m \u001b[0;34m\u001b[0m\u001b[0m\n\u001b[1;32m    508\u001b[0m         \u001b[0;32mif\u001b[0m \u001b[0msample_weight\u001b[0m \u001b[0;32mis\u001b[0m \u001b[0;32mnot\u001b[0m \u001b[0;32mNone\u001b[0m\u001b[0;34m:\u001b[0m\u001b[0;34m\u001b[0m\u001b[0;34m\u001b[0m\u001b[0m\n",
      "\u001b[0;32m~/anaconda3/envs/test/lib/python3.7/site-packages/sklearn/base.py\u001b[0m in \u001b[0;36m_validate_data\u001b[0;34m(self, X, y, reset, validate_separately, **check_params)\u001b[0m\n\u001b[1;32m    430\u001b[0m                 \u001b[0my\u001b[0m \u001b[0;34m=\u001b[0m \u001b[0mcheck_array\u001b[0m\u001b[0;34m(\u001b[0m\u001b[0my\u001b[0m\u001b[0;34m,\u001b[0m \u001b[0;34m**\u001b[0m\u001b[0mcheck_y_params\u001b[0m\u001b[0;34m)\u001b[0m\u001b[0;34m\u001b[0m\u001b[0;34m\u001b[0m\u001b[0m\n\u001b[1;32m    431\u001b[0m             \u001b[0;32melse\u001b[0m\u001b[0;34m:\u001b[0m\u001b[0;34m\u001b[0m\u001b[0;34m\u001b[0m\u001b[0m\n\u001b[0;32m--> 432\u001b[0;31m                 \u001b[0mX\u001b[0m\u001b[0;34m,\u001b[0m \u001b[0my\u001b[0m \u001b[0;34m=\u001b[0m \u001b[0mcheck_X_y\u001b[0m\u001b[0;34m(\u001b[0m\u001b[0mX\u001b[0m\u001b[0;34m,\u001b[0m \u001b[0my\u001b[0m\u001b[0;34m,\u001b[0m \u001b[0;34m**\u001b[0m\u001b[0mcheck_params\u001b[0m\u001b[0;34m)\u001b[0m\u001b[0;34m\u001b[0m\u001b[0;34m\u001b[0m\u001b[0m\n\u001b[0m\u001b[1;32m    433\u001b[0m             \u001b[0mout\u001b[0m \u001b[0;34m=\u001b[0m \u001b[0mX\u001b[0m\u001b[0;34m,\u001b[0m \u001b[0my\u001b[0m\u001b[0;34m\u001b[0m\u001b[0;34m\u001b[0m\u001b[0m\n\u001b[1;32m    434\u001b[0m \u001b[0;34m\u001b[0m\u001b[0m\n",
      "\u001b[0;32m~/anaconda3/envs/test/lib/python3.7/site-packages/sklearn/utils/validation.py\u001b[0m in \u001b[0;36minner_f\u001b[0;34m(*args, **kwargs)\u001b[0m\n\u001b[1;32m     70\u001b[0m                           FutureWarning)\n\u001b[1;32m     71\u001b[0m         \u001b[0mkwargs\u001b[0m\u001b[0;34m.\u001b[0m\u001b[0mupdate\u001b[0m\u001b[0;34m(\u001b[0m\u001b[0;34m{\u001b[0m\u001b[0mk\u001b[0m\u001b[0;34m:\u001b[0m \u001b[0marg\u001b[0m \u001b[0;32mfor\u001b[0m \u001b[0mk\u001b[0m\u001b[0;34m,\u001b[0m \u001b[0marg\u001b[0m \u001b[0;32min\u001b[0m \u001b[0mzip\u001b[0m\u001b[0;34m(\u001b[0m\u001b[0msig\u001b[0m\u001b[0;34m.\u001b[0m\u001b[0mparameters\u001b[0m\u001b[0;34m,\u001b[0m \u001b[0margs\u001b[0m\u001b[0;34m)\u001b[0m\u001b[0;34m}\u001b[0m\u001b[0;34m)\u001b[0m\u001b[0;34m\u001b[0m\u001b[0;34m\u001b[0m\u001b[0m\n\u001b[0;32m---> 72\u001b[0;31m         \u001b[0;32mreturn\u001b[0m \u001b[0mf\u001b[0m\u001b[0;34m(\u001b[0m\u001b[0;34m**\u001b[0m\u001b[0mkwargs\u001b[0m\u001b[0;34m)\u001b[0m\u001b[0;34m\u001b[0m\u001b[0;34m\u001b[0m\u001b[0m\n\u001b[0m\u001b[1;32m     73\u001b[0m     \u001b[0;32mreturn\u001b[0m \u001b[0minner_f\u001b[0m\u001b[0;34m\u001b[0m\u001b[0;34m\u001b[0m\u001b[0m\n\u001b[1;32m     74\u001b[0m \u001b[0;34m\u001b[0m\u001b[0m\n",
      "\u001b[0;32m~/anaconda3/envs/test/lib/python3.7/site-packages/sklearn/utils/validation.py\u001b[0m in \u001b[0;36mcheck_X_y\u001b[0;34m(X, y, accept_sparse, accept_large_sparse, dtype, order, copy, force_all_finite, ensure_2d, allow_nd, multi_output, ensure_min_samples, ensure_min_features, y_numeric, estimator)\u001b[0m\n\u001b[1;32m    800\u001b[0m                     \u001b[0mensure_min_samples\u001b[0m\u001b[0;34m=\u001b[0m\u001b[0mensure_min_samples\u001b[0m\u001b[0;34m,\u001b[0m\u001b[0;34m\u001b[0m\u001b[0;34m\u001b[0m\u001b[0m\n\u001b[1;32m    801\u001b[0m                     \u001b[0mensure_min_features\u001b[0m\u001b[0;34m=\u001b[0m\u001b[0mensure_min_features\u001b[0m\u001b[0;34m,\u001b[0m\u001b[0;34m\u001b[0m\u001b[0;34m\u001b[0m\u001b[0m\n\u001b[0;32m--> 802\u001b[0;31m                     estimator=estimator)\n\u001b[0m\u001b[1;32m    803\u001b[0m     \u001b[0;32mif\u001b[0m \u001b[0mmulti_output\u001b[0m\u001b[0;34m:\u001b[0m\u001b[0;34m\u001b[0m\u001b[0;34m\u001b[0m\u001b[0m\n\u001b[1;32m    804\u001b[0m         y = check_array(y, accept_sparse='csr', force_all_finite=True,\n",
      "\u001b[0;32m~/anaconda3/envs/test/lib/python3.7/site-packages/sklearn/utils/validation.py\u001b[0m in \u001b[0;36minner_f\u001b[0;34m(*args, **kwargs)\u001b[0m\n\u001b[1;32m     70\u001b[0m                           FutureWarning)\n\u001b[1;32m     71\u001b[0m         \u001b[0mkwargs\u001b[0m\u001b[0;34m.\u001b[0m\u001b[0mupdate\u001b[0m\u001b[0;34m(\u001b[0m\u001b[0;34m{\u001b[0m\u001b[0mk\u001b[0m\u001b[0;34m:\u001b[0m \u001b[0marg\u001b[0m \u001b[0;32mfor\u001b[0m \u001b[0mk\u001b[0m\u001b[0;34m,\u001b[0m \u001b[0marg\u001b[0m \u001b[0;32min\u001b[0m \u001b[0mzip\u001b[0m\u001b[0;34m(\u001b[0m\u001b[0msig\u001b[0m\u001b[0;34m.\u001b[0m\u001b[0mparameters\u001b[0m\u001b[0;34m,\u001b[0m \u001b[0margs\u001b[0m\u001b[0;34m)\u001b[0m\u001b[0;34m}\u001b[0m\u001b[0;34m)\u001b[0m\u001b[0;34m\u001b[0m\u001b[0;34m\u001b[0m\u001b[0m\n\u001b[0;32m---> 72\u001b[0;31m         \u001b[0;32mreturn\u001b[0m \u001b[0mf\u001b[0m\u001b[0;34m(\u001b[0m\u001b[0;34m**\u001b[0m\u001b[0mkwargs\u001b[0m\u001b[0;34m)\u001b[0m\u001b[0;34m\u001b[0m\u001b[0;34m\u001b[0m\u001b[0m\n\u001b[0m\u001b[1;32m     73\u001b[0m     \u001b[0;32mreturn\u001b[0m \u001b[0minner_f\u001b[0m\u001b[0;34m\u001b[0m\u001b[0;34m\u001b[0m\u001b[0m\n\u001b[1;32m     74\u001b[0m \u001b[0;34m\u001b[0m\u001b[0m\n",
      "\u001b[0;32m~/anaconda3/envs/test/lib/python3.7/site-packages/sklearn/utils/validation.py\u001b[0m in \u001b[0;36mcheck_array\u001b[0;34m(array, accept_sparse, accept_large_sparse, dtype, order, copy, force_all_finite, ensure_2d, allow_nd, ensure_min_samples, ensure_min_features, estimator)\u001b[0m\n\u001b[1;32m    643\u001b[0m         \u001b[0;32mif\u001b[0m \u001b[0mforce_all_finite\u001b[0m\u001b[0;34m:\u001b[0m\u001b[0;34m\u001b[0m\u001b[0;34m\u001b[0m\u001b[0m\n\u001b[1;32m    644\u001b[0m             _assert_all_finite(array,\n\u001b[0;32m--> 645\u001b[0;31m                                allow_nan=force_all_finite == 'allow-nan')\n\u001b[0m\u001b[1;32m    646\u001b[0m \u001b[0;34m\u001b[0m\u001b[0m\n\u001b[1;32m    647\u001b[0m     \u001b[0;32mif\u001b[0m \u001b[0mensure_min_samples\u001b[0m \u001b[0;34m>\u001b[0m \u001b[0;36m0\u001b[0m\u001b[0;34m:\u001b[0m\u001b[0;34m\u001b[0m\u001b[0;34m\u001b[0m\u001b[0m\n",
      "\u001b[0;32m~/anaconda3/envs/test/lib/python3.7/site-packages/sklearn/utils/validation.py\u001b[0m in \u001b[0;36m_assert_all_finite\u001b[0;34m(X, allow_nan, msg_dtype)\u001b[0m\n\u001b[1;32m     97\u001b[0m                     \u001b[0mmsg_err\u001b[0m\u001b[0;34m.\u001b[0m\u001b[0mformat\u001b[0m\u001b[0;34m\u001b[0m\u001b[0;34m\u001b[0m\u001b[0m\n\u001b[1;32m     98\u001b[0m                     (type_err,\n\u001b[0;32m---> 99\u001b[0;31m                      msg_dtype if msg_dtype is not None else X.dtype)\n\u001b[0m\u001b[1;32m    100\u001b[0m             )\n\u001b[1;32m    101\u001b[0m     \u001b[0;31m# for object dtype data, we only check for NaNs (GH-13254)\u001b[0m\u001b[0;34m\u001b[0m\u001b[0;34m\u001b[0m\u001b[0;34m\u001b[0m\u001b[0m\n",
      "\u001b[0;31mValueError\u001b[0m: Input contains NaN, infinity or a value too large for dtype('float64')."
     ]
    }
   ],
   "source": [
    "X = np.array(times[:-4]).reshape(-1,1)\n",
    "y = np.log(np.array(nrh[:-4]))\n",
    "reg = LinearRegression().fit(X, y)\n",
    "reg.coef_*24,reg.score(X, y)"
   ]
  },
  {
   "cell_type": "code",
   "execution_count": 82,
   "metadata": {},
   "outputs": [
    {
     "name": "stderr",
     "output_type": "stream",
     "text": [
      "/home/cbisot/anaconda3/envs/test/lib/python3.7/site-packages/matplotlib/__init__.py:880: MatplotlibDeprecationWarning: \n",
      "nbagg.transparent\n",
      "  version, key, obj_type=\"rcparam\", alternative=alt_key)\n"
     ]
    },
    {
     "data": {
      "application/vnd.jupyter.widget-view+json": {
       "model_id": "1a991ebeb083418f9452fee2af213753",
       "version_major": 2,
       "version_minor": 0
      },
      "text/plain": [
       "Canvas(toolbar=Toolbar(toolitems=[('Home', 'Reset original view', 'home', 'home'), ('Back', 'Back to previous …"
      ]
     },
     "metadata": {},
     "output_type": "display_data"
    },
    {
     "data": {
      "text/plain": [
       "<matplotlib.collections.PathCollection at 0x2ac9cdbfe710>"
      ]
     },
     "execution_count": 82,
     "metadata": {},
     "output_type": "execute_result"
    }
   ],
   "source": [
    "t0s = {t:0 for t in range(exp.ts)}\n",
    "for rh in RH:\n",
    "    for t in rh.ts:\n",
    "        t0s[t]+=1\n",
    "    \n",
    "for rh in BAS:\n",
    "    for t in rh.ts:\n",
    "        t0s[t]+=1\n",
    "nrh = list(t0s.values())\n",
    "# nrh= np.cumsum(list(t0s.values()))\n",
    "fig, ax = plt.subplots(nrows=1, ncols=1, figsize=(9, 4))\n",
    "ax.scatter(times,nrh)"
   ]
  },
  {
   "cell_type": "code",
   "execution_count": 84,
   "metadata": {},
   "outputs": [
    {
     "data": {
      "text/plain": [
       "(array([0.87420532]), 0.9923801052736214)"
      ]
     },
     "execution_count": 84,
     "metadata": {},
     "output_type": "execute_result"
    }
   ],
   "source": [
    "X = np.array(times[:-4]).reshape(-1,1)\n",
    "y = np.log(np.array(nrh[:-4]))\n",
    "reg = LinearRegression().fit(X, y)\n",
    "reg.coef_*24,reg.score(X, y)"
   ]
  },
  {
   "cell_type": "code",
   "execution_count": 72,
   "metadata": {},
   "outputs": [
    {
     "name": "stderr",
     "output_type": "stream",
     "text": [
      "/home/cbisot/anaconda3/envs/test/lib/python3.7/site-packages/matplotlib/__init__.py:880: MatplotlibDeprecationWarning: \n",
      "nbagg.transparent\n",
      "  version, key, obj_type=\"rcparam\", alternative=alt_key)\n"
     ]
    },
    {
     "data": {
      "application/vnd.jupyter.widget-view+json": {
       "model_id": "5ff2fc81b95543658a3b76252728ec06",
       "version_major": 2,
       "version_minor": 0
      },
      "text/plain": [
       "Canvas(toolbar=Toolbar(toolitems=[('Home', 'Reset original view', 'home', 'home'), ('Back', 'Back to previous …"
      ]
     },
     "metadata": {},
     "output_type": "display_data"
    },
    {
     "data": {
      "text/plain": [
       "<matplotlib.collections.PathCollection at 0x2ac6fd7d7110>"
      ]
     },
     "execution_count": 72,
     "metadata": {},
     "output_type": "execute_result"
    }
   ],
   "source": [
    "plt.close('all')\n",
    "fig, ax = plt.subplots(nrows=1, ncols=1, figsize=(9, 4))\n",
    "ax.scatter(ts,speeds)"
   ]
  }
 ],
 "metadata": {
  "kernelspec": {
   "display_name": "Python 3",
   "language": "python",
   "name": "python3"
  },
  "language_info": {
   "codemirror_mode": {
    "name": "ipython",
    "version": 3
   },
   "file_extension": ".py",
   "mimetype": "text/x-python",
   "name": "python",
   "nbconvert_exporter": "python",
   "pygments_lexer": "ipython3",
   "version": "3.7.7"
  }
 },
 "nbformat": 4,
 "nbformat_minor": 4
}

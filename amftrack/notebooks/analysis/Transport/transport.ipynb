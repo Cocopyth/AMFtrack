{
 "cells": [
  {
   "cell_type": "code",
   "execution_count": 1,
   "metadata": {},
   "outputs": [],
   "source": [
    "%matplotlib widget\n",
    "\n",
    "import pandas as pd\n",
    "import matplotlib.pyplot as plt\n",
    "import numpy as np\n",
    "\n",
    "plate = 38\n",
    "speeds1 = pd.read_csv(\n",
    "    f\"Plate{plate}.csv\",\n",
    "    names=[\"plate\", \"idxvideo\", \"days_after_crossing\", \"x\", \"y\", \"V\"],\n",
    ")\n",
    "plate = 10\n",
    "speeds2 = pd.read_csv(\n",
    "    f\"Plate{plate}.csv\",\n",
    "    names=[\"plate\", \"idxvideo\", \"days_after_crossing\", \"x\", \"y\", \"V\"],\n",
    ")\n",
    "plate = 9\n",
    "speeds3 = pd.read_csv(\n",
    "    f\"Plate{plate}.csv\",\n",
    "    names=[\"plate\", \"idxvideo\", \"days_after_crossing\", \"x\", \"y\", \"V\"],\n",
    ")\n",
    "plate = 39\n",
    "speeds4 = pd.read_csv(\n",
    "    f\"Plate{plate}.csv\",\n",
    "    names=[\"plate\", \"idxvideo\", \"days_after_crossing\", \"x\", \"y\", \"V\"],\n",
    ")\n",
    "plate = 40\n",
    "speeds5 = pd.read_csv(\n",
    "    f\"Plate{plate}.csv\",\n",
    "    names=[\"plate\", \"idxvideo\", \"days_after_crossing\", \"x\", \"y\", \"V\"],\n",
    ")\n",
    "plate = 14\n",
    "speeds6 = pd.read_csv(\n",
    "    f\"Plate{plate}.csv\",\n",
    "    names=[\"plate\", \"idxvideo\", \"days_after_crossing\", \"x\", \"y\", \"V\"],\n",
    ")\n",
    "plate = 15\n",
    "speeds7 = pd.read_csv(\n",
    "    f\"Plate{plate}.csv\",\n",
    "    names=[\"plate\", \"idxvideo\", \"days_after_crossing\", \"x\", \"y\", \"V\"],\n",
    ")\n",
    "plate = 36\n",
    "speeds8 = pd.read_csv(\n",
    "    f\"Plate{plate}.csv\",\n",
    "    names=[\"plate\", \"idxvideo\", \"days_after_crossing\", \"x\", \"y\", \"V\"],\n",
    ")"
   ]
  },
  {
   "cell_type": "code",
   "execution_count": 2,
   "metadata": {
    "collapsed": true,
    "jupyter": {
     "outputs_hidden": true
    }
   },
   "outputs": [
    {
     "data": {
      "text/html": [
       "<div>\n",
       "<style scoped>\n",
       "    .dataframe tbody tr th:only-of-type {\n",
       "        vertical-align: middle;\n",
       "    }\n",
       "\n",
       "    .dataframe tbody tr th {\n",
       "        vertical-align: top;\n",
       "    }\n",
       "\n",
       "    .dataframe thead th {\n",
       "        text-align: right;\n",
       "    }\n",
       "</style>\n",
       "<table border=\"1\" class=\"dataframe\">\n",
       "  <thead>\n",
       "    <tr style=\"text-align: right;\">\n",
       "      <th></th>\n",
       "      <th>plate</th>\n",
       "      <th>idxvideo</th>\n",
       "      <th>days_after_crossing</th>\n",
       "      <th>x</th>\n",
       "      <th>y</th>\n",
       "      <th>V</th>\n",
       "    </tr>\n",
       "  </thead>\n",
       "  <tbody>\n",
       "    <tr>\n",
       "      <th>0</th>\n",
       "      <td>38</td>\n",
       "      <td>1</td>\n",
       "      <td>1</td>\n",
       "      <td>38815</td>\n",
       "      <td>37080</td>\n",
       "      <td>5.059600</td>\n",
       "    </tr>\n",
       "    <tr>\n",
       "      <th>1</th>\n",
       "      <td>38</td>\n",
       "      <td>1</td>\n",
       "      <td>1</td>\n",
       "      <td>38815</td>\n",
       "      <td>37080</td>\n",
       "      <td>-9.980400</td>\n",
       "    </tr>\n",
       "    <tr>\n",
       "      <th>2</th>\n",
       "      <td>38</td>\n",
       "      <td>1</td>\n",
       "      <td>1</td>\n",
       "      <td>38815</td>\n",
       "      <td>37080</td>\n",
       "      <td>-0.000001</td>\n",
       "    </tr>\n",
       "    <tr>\n",
       "      <th>3</th>\n",
       "      <td>38</td>\n",
       "      <td>1</td>\n",
       "      <td>1</td>\n",
       "      <td>38815</td>\n",
       "      <td>37080</td>\n",
       "      <td>3.171300</td>\n",
       "    </tr>\n",
       "    <tr>\n",
       "      <th>4</th>\n",
       "      <td>38</td>\n",
       "      <td>1</td>\n",
       "      <td>1</td>\n",
       "      <td>38815</td>\n",
       "      <td>37080</td>\n",
       "      <td>-4.126400</td>\n",
       "    </tr>\n",
       "    <tr>\n",
       "      <th>...</th>\n",
       "      <td>...</td>\n",
       "      <td>...</td>\n",
       "      <td>...</td>\n",
       "      <td>...</td>\n",
       "      <td>...</td>\n",
       "      <td>...</td>\n",
       "    </tr>\n",
       "    <tr>\n",
       "      <th>2133</th>\n",
       "      <td>38</td>\n",
       "      <td>32</td>\n",
       "      <td>1</td>\n",
       "      <td>38395</td>\n",
       "      <td>34661</td>\n",
       "      <td>5.606200</td>\n",
       "    </tr>\n",
       "    <tr>\n",
       "      <th>2134</th>\n",
       "      <td>38</td>\n",
       "      <td>32</td>\n",
       "      <td>1</td>\n",
       "      <td>38395</td>\n",
       "      <td>34661</td>\n",
       "      <td>-4.120800</td>\n",
       "    </tr>\n",
       "    <tr>\n",
       "      <th>2135</th>\n",
       "      <td>38</td>\n",
       "      <td>32</td>\n",
       "      <td>1</td>\n",
       "      <td>38395</td>\n",
       "      <td>34661</td>\n",
       "      <td>4.534300</td>\n",
       "    </tr>\n",
       "    <tr>\n",
       "      <th>2136</th>\n",
       "      <td>38</td>\n",
       "      <td>32</td>\n",
       "      <td>1</td>\n",
       "      <td>38395</td>\n",
       "      <td>34661</td>\n",
       "      <td>-4.084200</td>\n",
       "    </tr>\n",
       "    <tr>\n",
       "      <th>2137</th>\n",
       "      <td>38</td>\n",
       "      <td>33</td>\n",
       "      <td>1</td>\n",
       "      <td>37895</td>\n",
       "      <td>33192</td>\n",
       "      <td>2.033900</td>\n",
       "    </tr>\n",
       "  </tbody>\n",
       "</table>\n",
       "<p>2138 rows × 6 columns</p>\n",
       "</div>"
      ],
      "text/plain": [
       "      plate  idxvideo  days_after_crossing      x      y         V\n",
       "0        38         1                    1  38815  37080  5.059600\n",
       "1        38         1                    1  38815  37080 -9.980400\n",
       "2        38         1                    1  38815  37080 -0.000001\n",
       "3        38         1                    1  38815  37080  3.171300\n",
       "4        38         1                    1  38815  37080 -4.126400\n",
       "...     ...       ...                  ...    ...    ...       ...\n",
       "2133     38        32                    1  38395  34661  5.606200\n",
       "2134     38        32                    1  38395  34661 -4.120800\n",
       "2135     38        32                    1  38395  34661  4.534300\n",
       "2136     38        32                    1  38395  34661 -4.084200\n",
       "2137     38        33                    1  37895  33192  2.033900\n",
       "\n",
       "[2138 rows x 6 columns]"
      ]
     },
     "execution_count": 2,
     "metadata": {},
     "output_type": "execute_result"
    }
   ],
   "source": [
    "speeds1"
   ]
  },
  {
   "cell_type": "code",
   "execution_count": 2,
   "metadata": {},
   "outputs": [
    {
     "name": "stderr",
     "output_type": "stream",
     "text": [
      "/home/cbisot/anaconda3/envs/test/lib/python3.7/site-packages/matplotlib/__init__.py:880: MatplotlibDeprecationWarning: \n",
      "nbagg.transparent\n",
      "  version, key, obj_type=\"rcparam\", alternative=alt_key)\n"
     ]
    },
    {
     "data": {
      "application/vnd.jupyter.widget-view+json": {
       "model_id": "1c339ca5e0b544e49d53391f93736060",
       "version_major": 2,
       "version_minor": 0
      },
      "text/plain": [
       "Canvas(toolbar=Toolbar(toolitems=[('Home', 'Reset original view', 'home', 'home'), ('Back', 'Back to previous …"
      ]
     },
     "metadata": {},
     "output_type": "display_data"
    },
    {
     "data": {
      "text/plain": [
       "(array([1.93287440e-04, 9.66437202e-05, 1.93287440e-04, 3.86574881e-04,\n",
       "        2.89931160e-04, 4.83218601e-04, 2.89931160e-04, 8.69793481e-04,\n",
       "        1.44965580e-03, 2.51273672e-03, 3.96239253e-03, 4.92882973e-03,\n",
       "        8.89122225e-03, 1.78790882e-02, 3.35353709e-02, 4.23299494e-02,\n",
       "        5.18010340e-02, 7.35458710e-02, 1.46898455e-02, 2.20347682e-02,\n",
       "        4.34896741e-02, 8.06975063e-02, 6.04023251e-02, 9.19081779e-02,\n",
       "        7.10331343e-02, 2.58038733e-02, 1.33368334e-02, 6.08855437e-03,\n",
       "        2.60938044e-03, 1.93287440e-03, 1.25636836e-03, 8.69793481e-04,\n",
       "        2.89931160e-04, 2.89931160e-04, 2.89931160e-04, 0.00000000e+00,\n",
       "        0.00000000e+00, 0.00000000e+00, 0.00000000e+00, 9.66437202e-05]),\n",
       " array([-28.379  , -26.91005, -25.4411 , -23.97215, -22.5032 , -21.03425,\n",
       "        -19.5653 , -18.09635, -16.6274 , -15.15845, -13.6895 , -12.22055,\n",
       "        -10.7516 ,  -9.28265,  -7.8137 ,  -6.34475,  -4.8758 ,  -3.40685,\n",
       "         -1.9379 ,  -0.46895,   1.     ,   2.46895,   3.9379 ,   5.40685,\n",
       "          6.8758 ,   8.34475,   9.8137 ,  11.28265,  12.7516 ,  14.22055,\n",
       "         15.6895 ,  17.15845,  18.6274 ,  20.09635,  21.5653 ,  23.03425,\n",
       "         24.5032 ,  25.97215,  27.4411 ,  28.91005,  30.379  ]),\n",
       " <a list of 40 Patch objects>)"
      ]
     },
     "execution_count": 2,
     "metadata": {},
     "output_type": "execute_result"
    }
   ],
   "source": [
    "fig = plt.figure(figsize=(9, 8))\n",
    "ax = fig.add_subplot(111)\n",
    "ax.hist(speeds1[\"V\"], 40, alpha=0.3, density=True)\n",
    "ax.hist(speeds2[\"V\"], 40, alpha=0.3, density=True)\n",
    "# ax.hist(speeds3['V'],40,alpha = 0.3, density = True)\n",
    "# ax.hist(speeds4['V'],40,alpha = 0.3, density = True)\n",
    "# ax.hist(speeds5['V'],40,alpha = 0.3, density = True)"
   ]
  },
  {
   "cell_type": "code",
   "execution_count": 3,
   "metadata": {},
   "outputs": [],
   "source": [
    "mean_speed_from_root = []\n",
    "max_speed_from_root = []\n",
    "age = []\n",
    "for speeds in [speeds1, speeds2, speeds3, speeds4, speeds5, speeds6, speeds7, speeds8]:\n",
    "    mean_speed_from_root.append(np.mean(speeds.loc[speeds[\"V\"] > 0][\"V\"]))\n",
    "    max_speed_from_root.append(np.percentile(speeds.loc[speeds[\"V\"] > 0][\"V\"], 90))\n",
    "    age.append(speeds[\"days_after_crossing\"][0])"
   ]
  },
  {
   "cell_type": "code",
   "execution_count": 4,
   "metadata": {},
   "outputs": [],
   "source": [
    "data = pd.DataFrame(list(zip(age, max_speed_from_root)), columns=[\"age\", \"max_speed\"])\n",
    "corrected = data"
   ]
  },
  {
   "cell_type": "code",
   "execution_count": 5,
   "metadata": {},
   "outputs": [
    {
     "name": "stderr",
     "output_type": "stream",
     "text": [
      "/home/cbisot/anaconda3/envs/test/lib/python3.7/site-packages/matplotlib/__init__.py:880: MatplotlibDeprecationWarning: \n",
      "nbagg.transparent\n",
      "  version, key, obj_type=\"rcparam\", alternative=alt_key)\n"
     ]
    },
    {
     "data": {
      "application/vnd.jupyter.widget-view+json": {
       "model_id": "bae6c69256444fb5bf951a724297ba8a",
       "version_major": 2,
       "version_minor": 0
      },
      "text/plain": [
       "Canvas(toolbar=Toolbar(toolitems=[('Home', 'Reset original view', 'home', 'home'), ('Back', 'Back to previous …"
      ]
     },
     "metadata": {},
     "output_type": "display_data"
    },
    {
     "data": {
      "text/plain": [
       "[<matplotlib.lines.Line2D at 0x2b7e51182a90>]"
      ]
     },
     "execution_count": 5,
     "metadata": {},
     "output_type": "execute_result"
    }
   ],
   "source": [
    "plt.close(\"all\")\n",
    "plt.rcParams.update(\n",
    "    {\"font.family\": \"verdana\", \"font.weight\": \"normal\", \"font.size\": 20}\n",
    ")\n",
    "abcisse = \"age\"\n",
    "ordinate = \"max_speed\"\n",
    "tab = corrected\n",
    "baits_sort = tab.sort_values(abcisse)\n",
    "N = 5\n",
    "moving_av = baits_sort.rolling(N, min_periods=N // 2).mean()\n",
    "moving_std = baits_sort.rolling(N, min_periods=N // 2).std()\n",
    "ts = list(set(tab[abcisse].values))\n",
    "ts.sort()\n",
    "averages = [np.mean(tab.loc[tab[abcisse] == t][ordinate]) for t in ts]\n",
    "sts = [\n",
    "    np.std(tab.loc[tab[abcisse] == t][ordinate])\n",
    "    / np.sqrt(len(tab.loc[tab[abcisse] == t][ordinate]))\n",
    "    for t in ts\n",
    "]\n",
    "fig = plt.figure(figsize=(8, 8))\n",
    "ax = fig.add_subplot(111)\n",
    "ax.set_xlabel(\"network age (day)\")\n",
    "ax.set_ylabel(\"90th percentile of transport speed distribution ($\\mu m .s^{-1}$)\")\n",
    "# ax.set_xlim(0,70)\n",
    "# ax.set_ylim(0,1500)\n",
    "# ax.set_xlim(-190,190)\n",
    "# slope, intercept, r_value, p_value, std_err = stats.linregress(densities_sort,np.abs(curvatures_sort))\n",
    "plt.errorbar(ts, averages, yerr=sts, linestyle=\"None\", capthick=1)\n",
    "ax.scatter(ts, averages, color=\"orange\")\n",
    "ax.plot(ts, averages)\n",
    "# ax.scatter(tab[abcisse],tab[ordinate],alpha=0.3,color='red')\n",
    "# ax.plot(moving_av[abcisse],moving_av[ordinate],color='red',label = 'moving average')\n",
    "# ax.plot(moving_av[abcisse],(moving_av[ordinate]+moving_std[ordinate]/np.sqrt(N)),color='red',label = 'std',linestyle = 'dotted')\n",
    "# ax.plot(moving_av[abcisse],(moving_av[ordinate]-moving_std[ordinate]/np.sqrt(N)),color='red',label = 'std',linestyle = 'dotted')\n",
    "# ax.spines['right'].set_color('red')\n",
    "# ax.set_title((inst,np.mean(corrected['real_branchin_dist'])))\n",
    "# ax.tick_params(axis='y', colors='red')  #setting up Y-axis tick color to black"
   ]
  },
  {
   "cell_type": "code",
   "execution_count": 6,
   "metadata": {},
   "outputs": [
    {
     "data": {
      "application/vnd.jupyter.widget-view+json": {
       "model_id": "be8b4afc6b2c4d17a719629cee95ceb4",
       "version_major": 2,
       "version_minor": 0
      },
      "text/plain": [
       "Canvas(toolbar=Toolbar(toolitems=[('Home', 'Reset original view', 'home', 'home'), ('Back', 'Back to previous …"
      ]
     },
     "metadata": {},
     "output_type": "display_data"
    },
    {
     "data": {
      "text/plain": [
       "Text(0, 0.5, '90th percentile of transport speed distribution ($\\\\mu m .s^{-1}$)')"
      ]
     },
     "execution_count": 6,
     "metadata": {},
     "output_type": "execute_result"
    }
   ],
   "source": [
    "fig = plt.figure(figsize=(9, 8))\n",
    "ax = fig.add_subplot(111)\n",
    "ax.scatter(age, max_speed_from_root)\n",
    "ax.set_xlabel(\"network age (day)\")\n",
    "ax.set_ylabel(\"90th percentile of transport speed distribution ($\\mu m .s^{-1}$)\")"
   ]
  },
  {
   "cell_type": "code",
   "execution_count": 7,
   "metadata": {},
   "outputs": [],
   "source": [
    "mean_speed_from_root = []\n",
    "max_speed_from_root = []\n",
    "age = []\n",
    "for speeds in [speeds1, speeds2, speeds3, speeds4, speeds5, speeds6, speeds7, speeds8]:\n",
    "    mean_speed_from_root.append(np.mean(speeds.loc[speeds[\"V\"] < 0][\"V\"]))\n",
    "    max_speed_from_root.append(np.percentile(speeds.loc[speeds[\"V\"] < 0][\"V\"], 10))\n",
    "    age.append(speeds[\"days_after_crossing\"][0])"
   ]
  },
  {
   "cell_type": "code",
   "execution_count": 8,
   "metadata": {},
   "outputs": [
    {
     "name": "stderr",
     "output_type": "stream",
     "text": [
      "/home/cbisot/anaconda3/envs/test/lib/python3.7/site-packages/matplotlib/__init__.py:880: MatplotlibDeprecationWarning: \n",
      "nbagg.transparent\n",
      "  version, key, obj_type=\"rcparam\", alternative=alt_key)\n"
     ]
    },
    {
     "data": {
      "application/vnd.jupyter.widget-view+json": {
       "model_id": "15c16c6ab19a48aaa848d64f26faaaa5",
       "version_major": 2,
       "version_minor": 0
      },
      "text/plain": [
       "Canvas(toolbar=Toolbar(toolitems=[('Home', 'Reset original view', 'home', 'home'), ('Back', 'Back to previous …"
      ]
     },
     "metadata": {},
     "output_type": "display_data"
    },
    {
     "data": {
      "text/plain": [
       "Text(0, 0.5, '90th percentile of transport speed distribution ($\\\\mu m .s^{-1}$)')"
      ]
     },
     "execution_count": 8,
     "metadata": {},
     "output_type": "execute_result"
    }
   ],
   "source": [
    "fig = plt.figure(figsize=(9, 8))\n",
    "ax = fig.add_subplot(111)\n",
    "ax.scatter(age, max_speed_from_root)\n",
    "ax.set_xlabel(\"network age (day)\")\n",
    "ax.set_ylabel(\"90th percentile of transport speed distribution ($\\mu m .s^{-1}$)\")"
   ]
  }
 ],
 "metadata": {
  "kernelspec": {
   "display_name": "Python 3",
   "language": "python",
   "name": "python3"
  },
  "language_info": {
   "codemirror_mode": {
    "name": "ipython",
    "version": 3
   },
   "file_extension": ".py",
   "mimetype": "text/x-python",
   "name": "python",
   "nbconvert_exporter": "python",
   "pygments_lexer": "ipython3",
   "version": "3.7.7"
  }
 },
 "nbformat": 4,
 "nbformat_minor": 4
}

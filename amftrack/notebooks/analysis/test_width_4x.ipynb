{
 "cells": [
  {
   "cell_type": "code",
   "execution_count": 110,
   "metadata": {},
   "outputs": [],
   "source": [
    "%matplotlib widget\n",
    "\n",
    "import os  \n",
    "import sys  \n",
    "sys.path.insert(0, os.getenv('HOME')+"/pycode/MscThesis/")\n",
    "from amftrack.util import get_dirname\n",
    "import pandas as pd\n",
    "import ast\n",
    "from scipy import sparse\n",
    "from datetime import datetime\n",
    "from amftrack.pipeline.functions.node_id import orient\n",
    "import scipy.io as sio\n",
    "import cv2\n",
    "import imageio\n",
    "import numpy as np\n",
    "from skimage.filters import frangi\n",
    "from skimage import filters\n",
    "import scipy.sparse\n",
    "import os\n",
    "from time import time\n",
    "from skimage.feature import hessian_matrix_det\n",
    "from amftrack.pipeline.functions.extract_graph import from_sparse_to_graph, generate_nx_graph\n",
    "import matplotlib.pyplot as plt\n",
    "\n",
    "low = 30\n",
    "high = 80\n",
    "# im = imageio.imread('/home/cbisot/tmp/Img_r07_c07.tif')\n",
    "# im = imageio.imread('/home/cbisot/tmp/anastomose11214_4x.tiff')\n",
    "# im = imageio.imread('/home/cbisot/tmp/anastomose4871_x2_lid.tiff')\n",
    "# im = imageio.imread('/home/cbisot/tmp/anastomose4871_x2.tiff')\n",
    "im = imageio.imread('/home/cbisot/tmp/anastomose229_4x.tiff')\n"
   ]
  },
  {
   "cell_type": "code",
   "execution_count": 111,
   "metadata": {},
   "outputs": [],
   "source": [
    "im_cropped = im\n",
    "im_blurred =cv2.blur(im_cropped, (200, 200))\n",
    "im_back_rem = (im_cropped+1)/(im_blurred+1)*120\n",
    "im_back_rem[im_back_rem>=130]=130\n",
    "# # im_back_rem = im_cropped*1.0\n",
    "# # # im_back_rem = cv2.normalize(im_back_rem, None, 0, 255, cv2.NORM_MINMAX)\n",
    "frangised = frangi(im_back_rem,sigmas=range(1,20,4))*255\n",
    "# # frangised = cv2.normalize(frangised, None, 0, 255, cv2.NORM_MINMAX)\n",
    "hessian = hessian_matrix_det(im_back_rem,sigma = 20)\n",
    "blur_hessian = cv2.blur(abs(hessian), (20, 20))\n",
    "#     transformed = (frangised+cv2.normalize(blur_hessian, None, 0, 255, cv2.NORM_MINMAX)-im_back_rem+120)*(im_blurred>=35)\n",
    "#     transformed = (frangised+cv2.normalize(abs(hessian), None, 0, 255, cv2.NORM_MINMAX)-im_back_rem+120)*(im_blurred>=35)\n",
    "transformed = (frangised-im_back_rem+120)*(im_blurred>=35)\n",
    "#     low = 20\n",
    "#     high = 100\n",
    "lowt = (transformed > low).astype(int)\n",
    "hight = (transformed > high).astype(int)\n",
    "hyst = filters.apply_hysteresis_threshold(transformed, low, high)\n",
    "kernel = np.ones((3,3),np.uint8)\n",
    "dilation = cv2.dilate(hyst.astype(np.uint8) * 255,kernel,iterations = 1)\n",
    "for i in range(3):\n",
    "    dilation=cv2.erode(dilation.astype(np.uint8) * 255,kernel,iterations = 1)\n",
    "    dilation = cv2.dilate(dilation.astype(np.uint8) * 255,kernel,iterations = 1)\n",
    "dilated = dilation>0\n",
    "dilation = cv2.dilate(dilated.astype(np.uint8) * 255,kernel,iterations = 1)\n",
    "for i in range(3):\n",
    "    dilation=cv2.erode(dilation.astype(np.uint8) * 255,kernel,iterations = 1)\n",
    "    dilation = cv2.dilate(dilation.astype(np.uint8) * 255,kernel,iterations = 1)\n",
    "#     skeletonized = cv2.ximgproc.thinning(np.array(255*dilated_bis,dtype=np.uint8))\n",
    "skeletonized = cv2.ximgproc.thinning(np.array(255*(dilation>0),dtype=np.uint8))"
   ]
  },
  {
   "cell_type": "code",
   "execution_count": 112,
   "metadata": {},
   "outputs": [],
   "source": [
    "skeleton = scipy.sparse.dok_matrix(skeletonized)\n",
    "nx_graph, pos = generate_nx_graph(from_sparse_to_graph(skeleton))"
   ]
  },
  {
   "cell_type": "code",
   "execution_count": 170,
   "metadata": {},
   "outputs": [
    {
     "data": {
      "application/vnd.jupyter.widget-view+json": {
       "model_id": "5bf31c49fc544d55833146f16bb4163b",
       "version_major": 2,
       "version_minor": 0
      },
      "text/plain": [
       "Canvas(toolbar=Toolbar(toolitems=[('Home', 'Reset original view', 'home', 'home'), ('Back', 'Back to previous …"
      ]
     },
     "metadata": {},
     "output_type": "display_data"
    }
   ],
   "source": [
    "plt.close('all')\n",
    "fig=plt.figure(figsize=(10,9))\n",
    "ax = fig.add_subplot(111)\n",
    "ax.imshow(im,'gray')\n",
    "for edge in nx_graph.edges:\n",
    "    if len(nx_graph.get_edge_data(edge[0],edge[1])['pixel_list'])>200:\n",
    "        ax.text(pos[edge[0]][1],pos[edge[0]][0],str(edge[0]))\n",
    "        ax.text(pos[edge[1]][1],pos[edge[1]][0],str(edge[1]))\n"
   ]
  },
  {
   "cell_type": "code",
   "execution_count": 139,
   "metadata": {},
   "outputs": [
    {
     "data": {
      "text/plain": [
       "5.382302739455863"
      ]
     },
     "execution_count": 139,
     "metadata": {},
     "output_type": "execute_result"
    }
   ],
   "source": [
    "pixel_conversion_factor = 1.725\n",
    "x = 0.87\n",
    "y= 0.26\n",
    "l= np.sqrt(x**2+y**2)\n",
    "l/23.84*4096*pixel_conversion_factor/50"
   ]
  },
  {
   "cell_type": "code",
   "execution_count": 150,
   "metadata": {
    "collapsed": true,
    "jupyter": {
     "outputs_hidden": true
    }
   },
   "outputs": [
    {
     "data": {
      "application/vnd.jupyter.widget-view+json": {
       "model_id": "c86c7d92d6134d9a84a803e22367467e",
       "version_major": 2,
       "version_minor": 0
      },
      "text/plain": [
       "Canvas(toolbar=Toolbar(toolitems=[('Home', 'Reset original view', 'home', 'home'), ('Back', 'Back to previous …"
      ]
     },
     "metadata": {},
     "output_type": "display_data"
    },
    {
     "data": {
      "text/plain": [
       "<matplotlib.image.AxesImage at 0x2ae8de602990>"
      ]
     },
     "execution_count": 150,
     "metadata": {},
     "output_type": "execute_result"
    }
   ],
   "source": [
    "fig=plt.figure(figsize=(10,9))\n",
    "ax = fig.add_subplot(111)\n",
    "ax.imshow(dilated)"
   ]
  },
  {
   "cell_type": "code",
   "execution_count": 9,
   "metadata": {},
   "outputs": [],
   "source": [
    "from amftrack.pipeline.functions.extract_graph import (\n",
    "    from_sparse_to_graph,\n",
    "    generate_nx_graph,\n",
    "    clean_degree_4,\n",
    ")"
   ]
  },
  {
   "cell_type": "code",
   "execution_count": 17,
   "metadata": {
    "collapsed": true,
    "jupyter": {
     "outputs_hidden": true
    }
   },
   "outputs": [
    {
     "data": {
      "text/plain": [
       "EdgeView([(0, 1), (1, 9), (1, 2), (9, 6), (9, 39), (3, 4), (5, 10), (7, 11), (8, 16), (16, 15), (16, 18), (39, 37), (39, 106), (12, 17), (17, 19), (17, 20), (13, 15), (15, 19), (14, 26), (26, 22), (26, 33), (19, 27), (27, 23), (27, 44), (21, 29), (29, 30), (29, 46), (24, 25), (33, 38), (33, 41), (44, 43), (44, 51), (28, 34), (46, 47), (46, 56), (31, 35), (32, 37), (37, 36), (41, 40), (41, 49), (106, 105), (106, 109), (42, 43), (43, 45), (51, 60), (51, 52), (56, 53), (56, 61), (48, 50), (60, 61), (60, 69), (54, 58), (58, 67), (58, 66), (55, 62), (62, 64), (62, 63), (61, 112), (57, 78), (78, 77), (78, 81), (67, 75), (67, 81), (66, 65), (66, 72), (59, 64), (64, 86), (69, 71), (69, 125), (112, 113), (112, 131), (72, 73), (72, 76), (75, 70), (75, 92), (81, 88), (68, 71), (71, 80), (80, 82), (80, 90), (74, 77), (77, 79), (89, 97), (89, 85), (89, 93), (97, 93), (97, 108), (82, 84), (82, 95), (90, 94), (90, 100), (88, 83), (88, 91), (95, 107), (95, 98), (87, 99), (93, 96), (101, 103), (103, 102), (103, 105), (105, 104), (109, 119), (109, 111), (111, 110), (111, 113), (113, 142), (131, 114), (131, 135), (142, 141), (142, 143), (115, 117), (117, 116), (117, 120), (120, 118), (120, 122), (122, 129), (122, 123), (121, 124), (124, 137), (124, 126), (129, 132), (129, 137), (137, 147), (127, 132), (132, 134), (128, 138), (130, 133), (133, 135), (133, 139), (135, 136), (139, 147), (139, 140), (147, 156), (144, 146), (146, 150), (146, 148), (145, 153), (153, 152), (153, 154), (150, 149), (150, 151), (156, 155), (156, 157)])"
      ]
     },
     "execution_count": 17,
     "metadata": {},
     "output_type": "execute_result"
    }
   ],
   "source": [
    "nx_graph.edges"
   ]
  },
  {
   "cell_type": "code",
   "execution_count": 196,
   "metadata": {},
   "outputs": [],
   "source": [
    "edge = (546,718)\n",
    "edge = (855,617)\n",
    "edge = (79,91)"
   ]
  },
  {
   "cell_type": "code",
   "execution_count": 197,
   "metadata": {},
   "outputs": [
    {
     "data": {
      "text/plain": [
       "475"
      ]
     },
     "execution_count": 197,
     "metadata": {},
     "output_type": "execute_result"
    }
   ],
   "source": [
    "len(nx_graph.get_edge_data(edge[0],edge[1])['pixel_list'])"
   ]
  },
  {
   "cell_type": "code",
   "execution_count": 200,
   "metadata": {},
   "outputs": [],
   "source": [
    "from scipy import special\n",
    "from scipy.optimize import curve_fit\n",
    "def func2(x,lapse, lapse2,c,d,e):\n",
    "    return(-c*(special.erf(e*(x-lapse))-special.erf(e*(x-lapse-lapse2)))+d)\n",
    "def func3(x, lapse,lapse2,c,d,e,lapse4):\n",
    "    return(-c*(special.erf(e*(x-lapse))-special.erf(e*(x-(lapse+lapse2))))+d+c*(special.erf(e*(x-(lapse+lapse2)))-special.erf(e*(x-(lapse+lapse2+lapse4)))))\n",
    "def func4(x, lapse,lapse2,c,d,e,lapse4):\n",
    "    return(-c*(special.erf(e*(x-lapse))-special.erf(e*(x-(lapse+lapse2))))+d+c*(special.erf(e*(x-(lapse-lapse4)))-special.erf(e*(x-(lapse)))))\n",
    "def func5(x, sigma, mean,fact,offset):\n",
    "    return(-fact*np.exp(-(x-mean)**2/sigma**2)+offset)\n",
    "\n",
    "from skimage.measure import profile_line\n",
    "from amftrack.notebooks.analysis.util import *\n",
    "# reg = [ 4.73083338e-02, -1.05856859e-03,  1.13917392e-02, -1.31659876e+01, 4.90631616e-03]\n",
    "# intercept = 11.146111033029417\n",
    "# reg2 = 1.27875045\n",
    "# intercept 2 = -1.9359297656055041\n",
    "def get_source_image(pos):\n",
    "    return(im,pos)\n",
    "\n",
    "def get_width_pixel(edge,index,im,pivot,before,after,t,size = 20,width_factor = 60,averaging_size = 100,threshold_averaging = 10):\n",
    "    imtab=im\n",
    "#     print(imtab.shape)\n",
    "#     print(int(max(0,pivot[0]-averaging_size)),int(pivot[0]+averaging_size))\n",
    "    threshold = np.mean(imtab[int(max(0,pivot[0]-averaging_size)):int(pivot[0]+averaging_size),int(max(0,pivot[1]-averaging_size)):int(pivot[1]+averaging_size)]-threshold_averaging)\n",
    "    orientation=np.array(before)-np.array(after)\n",
    "    perpendicular = [1,-orientation[0]/orientation[1]] if orientation[1]!=0 else [0,1]\n",
    "    perpendicular_norm=np.array(perpendicular)/np.sqrt(perpendicular[0]**2+perpendicular[1]**2)\n",
    "    point1=np.around(np.array(pivot)+width_factor*perpendicular_norm)\n",
    "    point2=np.around(np.array(pivot)-width_factor*perpendicular_norm)\n",
    "    point1=point1.astype(int)\n",
    "    point2=point2.astype(int)\n",
    "    p = profile_line(imtab, point1, point2,mode='constant')\n",
    "    xdata = np.array(range(len(p)))\n",
    "    ydata = np.array(p)\n",
    "    fig = plt.figure()\n",
    "    ax = fig.add_subplot(111)\n",
    "    ax.plot(xdata,ydata)\n",
    "    p00=[10,60,60,160]\n",
    "    popt0, pcov = curve_fit(func5, xdata, ydata,bounds = ([0,0,0,0],4*[np.inf]),p0=p00)\n",
    "    ax.plot(xdata, func5(xdata, *popt0), 'g-')\n",
    "    p0a=[60,10,100,180,0.1]\n",
    "    popt1, pcov = curve_fit(func2, xdata, ydata,bounds = ([0,0,0,0,0],[120,120,200]+2*[np.inf]),p0=p0a)\n",
    "    p0b=list(popt1)+[10]\n",
    "    popt2, pcov = curve_fit(func3, xdata, ydata,bounds = ([0,0,0,0,0,0],[120,120,200]+2*[np.inf]+[120]),p0=p0b)\n",
    "    residuals = ydata- func3(xdata, *popt2)\n",
    "    ss_res = np.sum(residuals**2)\n",
    "    ss_tot = np.sum((ydata-np.mean(ydata))**2)\n",
    "    r_squared1 = 1 - (ss_res / ss_tot)\n",
    "    popt3, pcov = curve_fit(func4, xdata, ydata,bounds = ([0,0,0,0,0,0],[120,120,200]+2*[np.inf]+[120]),p0=p0b)\n",
    "    residuals = ydata- func4(xdata, *popt3)\n",
    "    ss_res = np.sum(residuals**2)\n",
    "    ss_tot = np.sum((ydata-np.mean(ydata))**2)\n",
    "    r_squared2 = 1 - (ss_res / ss_tot)\n",
    "#     ax.plot(xdata, func2(xdata, *popt1), 'r-')\n",
    "    if r_squared1>r_squared2:\n",
    "#         ax.plot(xdata, func3(xdata, *popt2), 'b-')\n",
    "        popt=popt2\n",
    "    else:\n",
    "#         ax.plot(xdata, func4(xdata, *popt3), 'b-')\n",
    "        popt=popt3\n",
    "    width_pix = popt0[0]\n",
    "#     print(1/popt[-2]*pixel_conversion_factor,popt[1]*pixel_conversion_factor)\n",
    "#     print(1/popt1[-1]*pixel_conversion_factor,popt1[1]*pixel_conversion_factor)\n",
    "    print(popt0[0]*popt0[2],popt[0])\n",
    "#     print(1/popt1[-1]*pixel_conversion_factor,popt1[1]*pixel_conversion_factor)\n",
    "#     print(popt1[1],width_pix)\n",
    "#     p0=[165,100,165,45,10,10,10]\n",
    "#     popt, pcov = curve_fit(func, xdata, ydata,bounds = ([-np.inf,-np.inf,-np.inf,-np.inf,0,0,0],np.inf),p0=p0)\n",
    "#     width_pix = popt[-2]\n",
    "#     ax.plot(xdata, func(xdata, *popt), 'r-')\n",
    "#     derivative = [p[i+1]-p[i] for i in range(len(p)-1)]\n",
    "#     fig = plt.figure()\n",
    "#     ax = fig.add_subplot(111)\n",
    "#     ax.plot([np.mean(derivative[5*i:5*i+5]) for i in range(len(derivative)//5)])\n",
    "#     problem=False\n",
    "#     arg = len(p)//2\n",
    "#     if p[arg]>threshold:\n",
    "#         arg = np.argmin(p)\n",
    "# #     we_plot=randrange(1000)\n",
    "#     while  p[arg]<=threshold:\n",
    "#         if arg<=0:\n",
    "# #             we_plot=50\n",
    "#             problem=True\n",
    "#             break\n",
    "#         arg-=1\n",
    "#     begin = arg\n",
    "#     arg = len(p)//2\n",
    "#     if p[arg]>threshold:\n",
    "#         arg = np.argmin(p)\n",
    "#     while  p[arg]<=threshold:\n",
    "#         if arg>=len(p)-1:\n",
    "# #             we_plot=50\n",
    "#             problem=True\n",
    "#             break\n",
    "#         arg+=1\n",
    "#     end = arg\n",
    "# #     print(end-begin,threshold)\n",
    "#     print(np.linalg.norm(point1-point2),len(p),width_pix)\n",
    "    return(np.linalg.norm(point1-point2)*(width_pix)/len(p))\n",
    "\n",
    "def get_width_edge(edge,resolution,t,local=False, threshold_averaging = 10):\n",
    "    pixel_conversion_factor = 1.725\n",
    "    pixel_list = nx_graph.get_edge_data(edge[0],edge[1])['pixel_list']\n",
    "    pixels = []\n",
    "    indexes = []\n",
    "    source_images = []\n",
    "    poss = []\n",
    "    widths={}\n",
    "    if len(pixel_list)>3*resolution:\n",
    "        for i in range(0,len(pixel_list)//resolution):\n",
    "            index = i*resolution\n",
    "            indexes.append(index)\n",
    "            pixel = pixel_list[index]\n",
    "            pixels.append(pixel)\n",
    "            source_img,pos = get_source_image(pixel)\n",
    "            source_images.append(source_img)\n",
    "            poss.append(pos)\n",
    "    else:\n",
    "        indexes = [0,len(pixel_list)//2,len(pixel_list)-1]\n",
    "        for index in indexes:\n",
    "            pixel = pixel_list[index]\n",
    "            pixels.append(pixel)\n",
    "            source_img,pos = get_source_image(pixel)\n",
    "            source_images.append(source_img)\n",
    "            poss.append(pos)\n",
    "#     print(indexes)\n",
    "    for i, index in enumerate(indexes[1:-1]):\n",
    "        source_img = source_images[i+1]\n",
    "        pivot = poss[i+1]\n",
    "        _,before = get_source_image(pixels[i])\n",
    "        _,after = get_source_image(pixels[i+2])\n",
    "#         plot_t_tp1([0,1,2],[],{0 : pivot,1 : before, 2 : after},None,source_img,source_img)\n",
    "        width = get_width_pixel(edge,index,source_img,pivot,before,after,t,threshold_averaging = threshold_averaging)\n",
    "#         print(width*pixel_conversion_factor)\n",
    "        widths[pixel_list[index]]=width*pixel_conversion_factor\n",
    "#         if i>=1:\n",
    "#             break\n",
    "    return(widths)      "
   ]
  },
  {
   "cell_type": "code",
   "execution_count": 201,
   "metadata": {},
   "outputs": [
    {
     "data": {
      "application/vnd.jupyter.widget-view+json": {
       "model_id": "34cf5142f66d4ac3938e7006e20d0732",
       "version_major": 2,
       "version_minor": 0
      },
      "text/plain": [
       "Canvas(toolbar=Toolbar(toolitems=[('Home', 'Reset original view', 'home', 'home'), ('Back', 'Back to previous …"
      ]
     },
     "metadata": {},
     "output_type": "display_data"
    },
    {
     "name": "stdout",
     "output_type": "stream",
     "text": [
      "558.1960267415865 58.496075564704306\n"
     ]
    },
    {
     "data": {
      "application/vnd.jupyter.widget-view+json": {
       "model_id": "4cfcfe26bcec4a34b83fc02dab504ae4",
       "version_major": 2,
       "version_minor": 0
      },
      "text/plain": [
       "Canvas(toolbar=Toolbar(toolitems=[('Home', 'Reset original view', 'home', 'home'), ('Back', 'Back to previous …"
      ]
     },
     "metadata": {},
     "output_type": "display_data"
    },
    {
     "name": "stdout",
     "output_type": "stream",
     "text": [
      "551.9181018381395 60.42545295311787\n"
     ]
    },
    {
     "data": {
      "application/vnd.jupyter.widget-view+json": {
       "model_id": "6e62ab0c43fa4f43b8c5c87fd21d2e0c",
       "version_major": 2,
       "version_minor": 0
      },
      "text/plain": [
       "Canvas(toolbar=Toolbar(toolitems=[('Home', 'Reset original view', 'home', 'home'), ('Back', 'Back to previous …"
      ]
     },
     "metadata": {},
     "output_type": "display_data"
    },
    {
     "name": "stdout",
     "output_type": "stream",
     "text": [
      "585.7482153509433 56.7034558189914\n"
     ]
    },
    {
     "data": {
      "application/vnd.jupyter.widget-view+json": {
       "model_id": "b5cf587657a94975b5b1d142d9ddb8d2",
       "version_major": 2,
       "version_minor": 0
      },
      "text/plain": [
       "Canvas(toolbar=Toolbar(toolitems=[('Home', 'Reset original view', 'home', 'home'), ('Back', 'Back to previous …"
      ]
     },
     "metadata": {},
     "output_type": "display_data"
    },
    {
     "name": "stdout",
     "output_type": "stream",
     "text": [
      "552.8533212155049 55.37343301690616\n"
     ]
    },
    {
     "data": {
      "application/vnd.jupyter.widget-view+json": {
       "model_id": "4824b2f81fac426b86121e7f977480de",
       "version_major": 2,
       "version_minor": 0
      },
      "text/plain": [
       "Canvas(toolbar=Toolbar(toolitems=[('Home', 'Reset original view', 'home', 'home'), ('Back', 'Back to previous …"
      ]
     },
     "metadata": {},
     "output_type": "display_data"
    },
    {
     "name": "stdout",
     "output_type": "stream",
     "text": [
      "560.473489410933 58.873162830426466\n"
     ]
    },
    {
     "data": {
      "application/vnd.jupyter.widget-view+json": {
       "model_id": "941183c963884b5cbab500f5c442f0b7",
       "version_major": 2,
       "version_minor": 0
      },
      "text/plain": [
       "Canvas(toolbar=Toolbar(toolitems=[('Home', 'Reset original view', 'home', 'home'), ('Back', 'Back to previous …"
      ]
     },
     "metadata": {},
     "output_type": "display_data"
    },
    {
     "name": "stdout",
     "output_type": "stream",
     "text": [
      "601.0766640466585 58.661740891638615\n"
     ]
    },
    {
     "data": {
      "application/vnd.jupyter.widget-view+json": {
       "model_id": "1496b0eb87244f7b9a0c9155f7ae0626",
       "version_major": 2,
       "version_minor": 0
      },
      "text/plain": [
       "Canvas(toolbar=Toolbar(toolitems=[('Home', 'Reset original view', 'home', 'home'), ('Back', 'Back to previous …"
      ]
     },
     "metadata": {},
     "output_type": "display_data"
    },
    {
     "name": "stdout",
     "output_type": "stream",
     "text": [
      "603.2371330910839 57.80507101226307\n"
     ]
    }
   ],
   "source": [
    "plt.close('all')\n",
    "widths = get_width_edge(edge,50,0)"
   ]
  },
  {
   "cell_type": "code",
   "execution_count": 165,
   "metadata": {},
   "outputs": [
    {
     "data": {
      "text/plain": [
       "3.9391744688317383"
      ]
     },
     "execution_count": 165,
     "metadata": {},
     "output_type": "execute_result"
    }
   ],
   "source": [
    "np.mean(list(widths.values()))/2"
   ]
  },
  {
   "cell_type": "code",
   "execution_count": 106,
   "metadata": {},
   "outputs": [
    {
     "data": {
      "text/plain": [
       "{(972, 2574): 7.2249193819075215,\n",
       " (1010, 2549): 6.85480014348414,\n",
       " (1052, 2525): 7.061117136628246,\n",
       " (1094, 2501): 7.6846242990629055,\n",
       " (1138, 2476): 8.396267416933416,\n",
       " (1178, 2454): 7.803530479050552,\n",
       " (1224, 2431): 8.038710259062023,\n",
       " (1265, 2408): 8.70730961973992,\n",
       " (1304, 2384): 7.764265855221573,\n",
       " (1347, 2360): 7.830463148010078,\n",
       " (1388, 2336): 7.679983643204476,\n",
       " (1426, 2314): 7.972669013162942,\n",
       " (1469, 2291): 7.593083719174152,\n",
       " (1510, 2267): 7.173211572695324,\n",
       " (1554, 2243): 6.998853925570603}"
      ]
     },
     "execution_count": 106,
     "metadata": {},
     "output_type": "execute_result"
    }
   ],
   "source": [
    "widths"
   ]
  }
 ],
 "metadata": {
  "kernelspec": {
   "display_name": "Python 3",
   "language": "python",
   "name": "python3"
  },
  "language_info": {
   "codemirror_mode": {
    "name": "ipython",
    "version": 3
   },
   "file_extension": ".py",
   "mimetype": "text/x-python",
   "name": "python",
   "nbconvert_exporter": "python",
   "pygments_lexer": "ipython3",
   "version": "3.7.7"
  }
 },
 "nbformat": 4,
 "nbformat_minor": 4
}

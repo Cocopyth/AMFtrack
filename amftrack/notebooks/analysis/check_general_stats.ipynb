{
 "cells": [
  {
   "cell_type": "code",
   "execution_count": 6,
   "metadata": {},
   "outputs": [],
   "source": [
    "%matplotlib widget\n",
    "\n",
    "import os\n",
    "import sys\n",
    "\n",
    "sys.path.insert(0, os.getenv(\"HOME\") + \"/pycode/MscThesis/\")\n",
    "import pandas as pd\n",
    "from amftrack.util.sys import (\n",
    "    get_dates_datetime,\n",
    "    get_dirname,\n",
    "    temp_path,\n",
    "    get_plate_number,\n",
    "    get_postion_number,\n",
    ")\n",
    "\n",
    "import ast\n",
    "from amftrack.plotutil import plot_t_tp1\n",
    "from scipy import sparse\n",
    "from datetime import datetime\n",
    "from amftrack.pipeline.functions.node_id import orient\n",
    "import pickle\n",
    "import scipy.io as sio\n",
    "from pymatreader import read_mat\n",
    "from matplotlib import colors\n",
    "import cv2\n",
    "import imageio\n",
    "import matplotlib.pyplot as plt\n",
    "import numpy as np\n",
    "from skimage.filters import frangi\n",
    "from skimage import filters\n",
    "from random import choice\n",
    "import scipy.sparse\n",
    "import os\n",
    "from amftrack.pipeline.functions.extract_graph import (\n",
    "    from_sparse_to_graph,\n",
    "    generate_nx_graph,\n",
    "    sparse_to_doc,\n",
    ")\n",
    "from skimage.feature import hessian_matrix_det\n",
    "from amftrack.pipeline.functions.experiment_class_surf import Experiment\n",
    "from amftrack.pipeline.paths.directory import (\n",
    "    run_parallel,\n",
    "    find_state,\n",
    "    directory_scratch,\n",
    "    directory_project,\n",
    "    path_code,\n",
    ")\n",
    "\n",
    "from amftrack.notebooks.analysis.data_info import *\n",
    "import matplotlib.patches as mpatches\n",
    "from statsmodels.stats import weightstats as stests"
   ]
  },
  {
   "cell_type": "code",
   "execution_count": 7,
   "metadata": {},
   "outputs": [
    {
     "ename": "FileNotFoundError",
     "evalue": "[Errno 2] No such file or directory: '/home/cbisot/pycode//MscThesis/Results/straight_800_(10, 0, 10).pick'",
     "output_type": "error",
     "traceback": [
      "\u001b[0;31m---------------------------------------------------------------------------\u001b[0m",
      "\u001b[0;31mFileNotFoundError\u001b[0m                         Traceback (most recent call last)",
      "\u001b[0;32m<ipython-input-7-1627df108ad4>\u001b[0m in \u001b[0;36m<module>\u001b[0;34m\u001b[0m\n\u001b[1;32m      4\u001b[0m     \u001b[0minsts\u001b[0m \u001b[0;34m=\u001b[0m \u001b[0mtreatments\u001b[0m\u001b[0;34m[\u001b[0m\u001b[0mtreatment\u001b[0m\u001b[0;34m]\u001b[0m\u001b[0;34m\u001b[0m\u001b[0;34m\u001b[0m\u001b[0m\n\u001b[1;32m      5\u001b[0m     \u001b[0;32mfor\u001b[0m \u001b[0minst\u001b[0m \u001b[0;32min\u001b[0m \u001b[0minsts\u001b[0m\u001b[0;34m:\u001b[0m\u001b[0;34m\u001b[0m\u001b[0;34m\u001b[0m\u001b[0m\n\u001b[0;32m----> 6\u001b[0;31m         \u001b[0mresults\u001b[0m\u001b[0;34m[\u001b[0m\u001b[0minst\u001b[0m\u001b[0;34m]\u001b[0m \u001b[0;34m=\u001b[0m \u001b[0mpickle\u001b[0m\u001b[0;34m.\u001b[0m\u001b[0mload\u001b[0m\u001b[0;34m(\u001b[0m\u001b[0mopen\u001b[0m\u001b[0;34m(\u001b[0m\u001b[0;34mf'{path_code}/MscThesis/Results/straight_{window}_{inst}.pick'\u001b[0m\u001b[0;34m,\u001b[0m \u001b[0;34m\"rb\"\u001b[0m\u001b[0;34m)\u001b[0m\u001b[0;34m)\u001b[0m\u001b[0;34m\u001b[0m\u001b[0;34m\u001b[0m\u001b[0m\n\u001b[0m",
      "\u001b[0;31mFileNotFoundError\u001b[0m: [Errno 2] No such file or directory: '/home/cbisot/pycode//MscThesis/Results/straight_800_(10, 0, 10).pick'"
     ]
    }
   ],
   "source": [
    "window = 800\n",
    "results = {}\n",
    "for treatment in treatments.keys():\n",
    "    insts = treatments[treatment]\n",
    "    for inst in insts:\n",
    "        results[inst] = pickle.load(\n",
    "            open(f\"{path_code}/MscThesis/Results/straight_{window}_{inst}.pick\", \"rb\")\n",
    "        )"
   ]
  },
  {
   "cell_type": "code",
   "execution_count": 8,
   "metadata": {},
   "outputs": [
    {
     "ename": "KeyError",
     "evalue": "(10, 0, 10)",
     "output_type": "error",
     "traceback": [
      "\u001b[0;31m---------------------------------------------------------------------------\u001b[0m",
      "\u001b[0;31mKeyError\u001b[0m                                  Traceback (most recent call last)",
      "\u001b[0;32m<ipython-input-8-47845c3fb039>\u001b[0m in \u001b[0;36m<module>\u001b[0;34m\u001b[0m\n\u001b[1;32m      4\u001b[0m     \u001b[0minsts\u001b[0m \u001b[0;34m=\u001b[0m \u001b[0mtreatments\u001b[0m\u001b[0;34m[\u001b[0m\u001b[0mtreatment\u001b[0m\u001b[0;34m]\u001b[0m\u001b[0;34m\u001b[0m\u001b[0;34m\u001b[0m\u001b[0m\n\u001b[1;32m      5\u001b[0m     \u001b[0;32mfor\u001b[0m \u001b[0minst\u001b[0m \u001b[0;32min\u001b[0m \u001b[0minsts\u001b[0m\u001b[0;34m:\u001b[0m\u001b[0;34m\u001b[0m\u001b[0;34m\u001b[0m\u001b[0m\n\u001b[0;32m----> 6\u001b[0;31m         \u001b[0mangles\u001b[0m\u001b[0;34m,\u001b[0m \u001b[0mcurvatures\u001b[0m\u001b[0;34m,\u001b[0m \u001b[0mdensities\u001b[0m\u001b[0;34m,\u001b[0m\u001b[0mgrowths\u001b[0m\u001b[0;34m,\u001b[0m\u001b[0mspeeds\u001b[0m\u001b[0;34m,\u001b[0m\u001b[0mtortuosities\u001b[0m\u001b[0;34m,\u001b[0m\u001b[0mts\u001b[0m\u001b[0;34m,\u001b[0m\u001b[0mhyphs\u001b[0m \u001b[0;34m=\u001b[0m \u001b[0mresults\u001b[0m\u001b[0;34m[\u001b[0m\u001b[0minst\u001b[0m\u001b[0;34m]\u001b[0m\u001b[0;34m\u001b[0m\u001b[0;34m\u001b[0m\u001b[0m\n\u001b[0m\u001b[1;32m      7\u001b[0m         \u001b[0;32mfor\u001b[0m \u001b[0mi\u001b[0m\u001b[0;34m,\u001b[0m\u001b[0mangle\u001b[0m \u001b[0;32min\u001b[0m \u001b[0menumerate\u001b[0m\u001b[0;34m(\u001b[0m\u001b[0mangles\u001b[0m\u001b[0;34m)\u001b[0m\u001b[0;34m:\u001b[0m\u001b[0;34m\u001b[0m\u001b[0;34m\u001b[0m\u001b[0m\n\u001b[1;32m      8\u001b[0m             new_line = pd.DataFrame(\n",
      "\u001b[0;31mKeyError\u001b[0m: (10, 0, 10)"
     ]
    }
   ],
   "source": [
    "column_names = [\n",
    "    \"plate\",\n",
    "    \"inst\",\n",
    "    \"treatment\",\n",
    "    \"angle\",\n",
    "    \"curvature\",\n",
    "    \"density\",\n",
    "    \"growth\",\n",
    "    \"speed\",\n",
    "    \"straightness\",\n",
    "    \"t\",\n",
    "    \"hyph\",\n",
    "]\n",
    "infos = pd.DataFrame(columns=column_names)\n",
    "for treatment in treatments.keys():\n",
    "    insts = treatments[treatment]\n",
    "    for inst in insts:\n",
    "        (\n",
    "            angles,\n",
    "            curvatures,\n",
    "            densities,\n",
    "            growths,\n",
    "            speeds,\n",
    "            tortuosities,\n",
    "            ts,\n",
    "            hyphs,\n",
    "        ) = results[inst]\n",
    "        for i, angle in enumerate(angles):\n",
    "            new_line = pd.DataFrame(\n",
    "                {\n",
    "                    \"plate\": [plate_number[inst]],\n",
    "                    \"inst\": [inst],\n",
    "                    \"treatment\": [treatment],\n",
    "                    \"angle\": [angle],\n",
    "                    \"curvature\": [curvatures[i]],\n",
    "                    \"density\": [densities[i]],\n",
    "                    \"growth\": [growths[i]],\n",
    "                    \"speed\": [speeds[i]],\n",
    "                    \"straightness\": [tortuosities[i]],\n",
    "                    \"t\": [ts[i]],\n",
    "                    \"hyph\": [hyphs[i]],\n",
    "                }\n",
    "            )  # index 0 for\n",
    "            # mothers need to be modified to resolve multi mother issue\n",
    "            infos = infos.append(new_line, ignore_index=True)"
   ]
  },
  {
   "cell_type": "code",
   "execution_count": 9,
   "metadata": {},
   "outputs": [],
   "source": [
    "corrected = infos.loc[infos[\"straightness\"] <= 1]"
   ]
  },
  {
   "cell_type": "code",
   "execution_count": 10,
   "metadata": {
    "collapsed": true,
    "jupyter": {
     "outputs_hidden": true
    }
   },
   "outputs": [
    {
     "data": {
      "text/html": [
       "<div>\n",
       "<style scoped>\n",
       "    .dataframe tbody tr th:only-of-type {\n",
       "        vertical-align: middle;\n",
       "    }\n",
       "\n",
       "    .dataframe tbody tr th {\n",
       "        vertical-align: top;\n",
       "    }\n",
       "\n",
       "    .dataframe thead th {\n",
       "        text-align: right;\n",
       "    }\n",
       "</style>\n",
       "<table border=\"1\" class=\"dataframe\">\n",
       "  <thead>\n",
       "    <tr style=\"text-align: right;\">\n",
       "      <th></th>\n",
       "      <th>plate</th>\n",
       "      <th>inst</th>\n",
       "      <th>treatment</th>\n",
       "      <th>angle</th>\n",
       "      <th>curvature</th>\n",
       "      <th>density</th>\n",
       "      <th>growth</th>\n",
       "      <th>speed</th>\n",
       "      <th>straightness</th>\n",
       "      <th>t</th>\n",
       "      <th>hyph</th>\n",
       "    </tr>\n",
       "  </thead>\n",
       "  <tbody>\n",
       "    <tr>\n",
       "      <th>0</th>\n",
       "      <td>296</td>\n",
       "      <td>(9, 0, 11)</td>\n",
       "      <td>25</td>\n",
       "      <td>6.864531</td>\n",
       "      <td>0.011940</td>\n",
       "      <td>1.973913</td>\n",
       "      <td>574.929348</td>\n",
       "      <td>143.732337</td>\n",
       "      <td>0.997008</td>\n",
       "      <td>5.316667</td>\n",
       "      <td>65</td>\n",
       "    </tr>\n",
       "    <tr>\n",
       "      <th>1</th>\n",
       "      <td>296</td>\n",
       "      <td>(9, 0, 11)</td>\n",
       "      <td>25</td>\n",
       "      <td>3.628532</td>\n",
       "      <td>0.006586</td>\n",
       "      <td>1.834783</td>\n",
       "      <td>550.984831</td>\n",
       "      <td>137.746208</td>\n",
       "      <td>0.988864</td>\n",
       "      <td>9.316667</td>\n",
       "      <td>65</td>\n",
       "    </tr>\n",
       "    <tr>\n",
       "      <th>2</th>\n",
       "      <td>296</td>\n",
       "      <td>(9, 0, 11)</td>\n",
       "      <td>25</td>\n",
       "      <td>-2.438101</td>\n",
       "      <td>-0.003874</td>\n",
       "      <td>2.368116</td>\n",
       "      <td>629.319466</td>\n",
       "      <td>157.329867</td>\n",
       "      <td>0.992084</td>\n",
       "      <td>13.316667</td>\n",
       "      <td>65</td>\n",
       "    </tr>\n",
       "    <tr>\n",
       "      <th>3</th>\n",
       "      <td>296</td>\n",
       "      <td>(9, 0, 11)</td>\n",
       "      <td>25</td>\n",
       "      <td>3.433630</td>\n",
       "      <td>0.004524</td>\n",
       "      <td>2.665217</td>\n",
       "      <td>759.005213</td>\n",
       "      <td>189.751303</td>\n",
       "      <td>0.997847</td>\n",
       "      <td>17.316667</td>\n",
       "      <td>65</td>\n",
       "    </tr>\n",
       "    <tr>\n",
       "      <th>4</th>\n",
       "      <td>296</td>\n",
       "      <td>(9, 0, 11)</td>\n",
       "      <td>25</td>\n",
       "      <td>-18.883147</td>\n",
       "      <td>-0.025417</td>\n",
       "      <td>3.871014</td>\n",
       "      <td>742.928653</td>\n",
       "      <td>185.732163</td>\n",
       "      <td>0.990694</td>\n",
       "      <td>21.316667</td>\n",
       "      <td>65</td>\n",
       "    </tr>\n",
       "    <tr>\n",
       "      <th>...</th>\n",
       "      <td>...</td>\n",
       "      <td>...</td>\n",
       "      <td>...</td>\n",
       "      <td>...</td>\n",
       "      <td>...</td>\n",
       "      <td>...</td>\n",
       "      <td>...</td>\n",
       "      <td>...</td>\n",
       "      <td>...</td>\n",
       "      <td>...</td>\n",
       "      <td>...</td>\n",
       "    </tr>\n",
       "    <tr>\n",
       "      <th>2211</th>\n",
       "      <td>351</td>\n",
       "      <td>(35, 0, 15)</td>\n",
       "      <td>25</td>\n",
       "      <td>12.425943</td>\n",
       "      <td>0.020830</td>\n",
       "      <td>1.286957</td>\n",
       "      <td>596.533199</td>\n",
       "      <td>149.133300</td>\n",
       "      <td>0.973802</td>\n",
       "      <td>56.016667</td>\n",
       "      <td>17351</td>\n",
       "    </tr>\n",
       "    <tr>\n",
       "      <th>2212</th>\n",
       "      <td>351</td>\n",
       "      <td>(35, 0, 15)</td>\n",
       "      <td>25</td>\n",
       "      <td>-6.674771</td>\n",
       "      <td>-0.012112</td>\n",
       "      <td>4.501449</td>\n",
       "      <td>551.091249</td>\n",
       "      <td>137.772812</td>\n",
       "      <td>0.974202</td>\n",
       "      <td>56.016667</td>\n",
       "      <td>17566</td>\n",
       "    </tr>\n",
       "    <tr>\n",
       "      <th>2213</th>\n",
       "      <td>351</td>\n",
       "      <td>(35, 0, 15)</td>\n",
       "      <td>25</td>\n",
       "      <td>16.831669</td>\n",
       "      <td>0.033944</td>\n",
       "      <td>2.695652</td>\n",
       "      <td>495.858547</td>\n",
       "      <td>123.450261</td>\n",
       "      <td>0.993517</td>\n",
       "      <td>52.000000</td>\n",
       "      <td>18328</td>\n",
       "    </tr>\n",
       "    <tr>\n",
       "      <th>2214</th>\n",
       "      <td>351</td>\n",
       "      <td>(35, 0, 15)</td>\n",
       "      <td>25</td>\n",
       "      <td>11.477627</td>\n",
       "      <td>0.024167</td>\n",
       "      <td>2.403623</td>\n",
       "      <td>474.929134</td>\n",
       "      <td>118.732283</td>\n",
       "      <td>0.989865</td>\n",
       "      <td>56.016667</td>\n",
       "      <td>18328</td>\n",
       "    </tr>\n",
       "    <tr>\n",
       "      <th>2215</th>\n",
       "      <td>351</td>\n",
       "      <td>(35, 0, 15)</td>\n",
       "      <td>25</td>\n",
       "      <td>3.535732</td>\n",
       "      <td>0.008695</td>\n",
       "      <td>0.903623</td>\n",
       "      <td>406.618688</td>\n",
       "      <td>101.654672</td>\n",
       "      <td>0.998808</td>\n",
       "      <td>56.016667</td>\n",
       "      <td>19818</td>\n",
       "    </tr>\n",
       "  </tbody>\n",
       "</table>\n",
       "<p>2090 rows × 11 columns</p>\n",
       "</div>"
      ],
      "text/plain": [
       "     plate         inst treatment      angle  curvature   density      growth  \\\n",
       "0      296   (9, 0, 11)        25   6.864531   0.011940  1.973913  574.929348   \n",
       "1      296   (9, 0, 11)        25   3.628532   0.006586  1.834783  550.984831   \n",
       "2      296   (9, 0, 11)        25  -2.438101  -0.003874  2.368116  629.319466   \n",
       "3      296   (9, 0, 11)        25   3.433630   0.004524  2.665217  759.005213   \n",
       "4      296   (9, 0, 11)        25 -18.883147  -0.025417  3.871014  742.928653   \n",
       "...    ...          ...       ...        ...        ...       ...         ...   \n",
       "2211   351  (35, 0, 15)        25  12.425943   0.020830  1.286957  596.533199   \n",
       "2212   351  (35, 0, 15)        25  -6.674771  -0.012112  4.501449  551.091249   \n",
       "2213   351  (35, 0, 15)        25  16.831669   0.033944  2.695652  495.858547   \n",
       "2214   351  (35, 0, 15)        25  11.477627   0.024167  2.403623  474.929134   \n",
       "2215   351  (35, 0, 15)        25   3.535732   0.008695  0.903623  406.618688   \n",
       "\n",
       "           speed  straightness          t   hyph  \n",
       "0     143.732337      0.997008   5.316667     65  \n",
       "1     137.746208      0.988864   9.316667     65  \n",
       "2     157.329867      0.992084  13.316667     65  \n",
       "3     189.751303      0.997847  17.316667     65  \n",
       "4     185.732163      0.990694  21.316667     65  \n",
       "...          ...           ...        ...    ...  \n",
       "2211  149.133300      0.973802  56.016667  17351  \n",
       "2212  137.772812      0.974202  56.016667  17566  \n",
       "2213  123.450261      0.993517  52.000000  18328  \n",
       "2214  118.732283      0.989865  56.016667  18328  \n",
       "2215  101.654672      0.998808  56.016667  19818  \n",
       "\n",
       "[2090 rows x 11 columns]"
      ]
     },
     "execution_count": 10,
     "metadata": {},
     "output_type": "execute_result"
    }
   ],
   "source": [
    "corrected"
   ]
  },
  {
   "cell_type": "code",
   "execution_count": 11,
   "metadata": {},
   "outputs": [
    {
     "name": "stderr",
     "output_type": "stream",
     "text": [
      "/home/cbisot/anaconda3/envs/test/lib/python3.7/site-packages/matplotlib/__init__.py:880: MatplotlibDeprecationWarning: \n",
      "nbagg.transparent\n",
      "  version, key, obj_type=\"rcparam\", alternative=alt_key)\n"
     ]
    },
    {
     "data": {
      "application/vnd.jupyter.widget-view+json": {
       "model_id": "f611a6498d774082a5f86902c8bde314",
       "version_major": 2,
       "version_minor": 0
      },
      "text/plain": [
       "Canvas(toolbar=Toolbar(toolitems=[('Home', 'Reset original view', 'home', 'home'), ('Back', 'Back to previous …"
      ]
     },
     "metadata": {},
     "output_type": "display_data"
    },
    {
     "name": "stderr",
     "output_type": "stream",
     "text": [
      "/home/cbisot/anaconda3/envs/test/lib/python3.7/site-packages/numpy/core/_asarray.py:83: VisibleDeprecationWarning: Creating an ndarray from ragged nested sequences (which is a list-or-tuple of lists-or-tuples-or ndarrays with different lengths or shapes) is deprecated. If you meant to do this, you must specify 'dtype=object' when creating the ndarray\n",
      "  return array(a, dtype, copy=False, order=order)\n"
     ]
    }
   ],
   "source": [
    "fig, ax = plt.subplots(nrows=1, ncols=1, figsize=(9, 4))\n",
    "bplot1 = corrected.boxplot(\n",
    "    column=[\"speed\"],\n",
    "    by=\"plate\",\n",
    "    figsize=(9, 8),\n",
    "    ax=ax,\n",
    "    patch_artist=True,\n",
    "    showfliers=False,\n",
    ")\n",
    "colors = [\"lightblue\"] + [\"pink\"] + [\"lightgreen\"]\n",
    "for i, (artist, col) in enumerate(zip(ax.artists, colors)):\n",
    "    artist.set_edgecolor(col)\n",
    "    artist.set_facecolor(col)\n",
    "ax.set_xlabel(\"Plate\")\n",
    "ax.set_ylabel(\"Speed\")\n",
    "ax.set_ylim(0.9)\n",
    "plt.show()"
   ]
  },
  {
   "cell_type": "code",
   "execution_count": 38,
   "metadata": {},
   "outputs": [],
   "source": [
    "max_speeds = []\n",
    "total_growth = []\n",
    "for treatment in treatments.keys():\n",
    "    insts = treatments[treatment]\n",
    "    for inst in insts:\n",
    "        inst_tab = corrected.loc[corrected[\"inst\"] == inst]\n",
    "        for hyph in set(inst_tab[\"hyph\"]):\n",
    "            max_speeds.append(np.max(inst_tab.loc[inst_tab[\"hyph\"] == hyph][\"speed\"]))\n",
    "            total_growth.append(\n",
    "                np.sum(inst_tab.loc[inst_tab[\"hyph\"] == hyph][\"growth\"])\n",
    "            )"
   ]
  },
  {
   "cell_type": "code",
   "execution_count": 29,
   "metadata": {},
   "outputs": [
    {
     "data": {
      "text/plain": [
       "679"
      ]
     },
     "execution_count": 29,
     "metadata": {},
     "output_type": "execute_result"
    }
   ],
   "source": [
    "len(max_speeds)"
   ]
  },
  {
   "cell_type": "code",
   "execution_count": 40,
   "metadata": {},
   "outputs": [
    {
     "name": "stderr",
     "output_type": "stream",
     "text": [
      "/home/cbisot/anaconda3/envs/test/lib/python3.7/site-packages/matplotlib/__init__.py:880: MatplotlibDeprecationWarning: \n",
      "nbagg.transparent\n",
      "  version, key, obj_type=\"rcparam\", alternative=alt_key)\n"
     ]
    },
    {
     "data": {
      "application/vnd.jupyter.widget-view+json": {
       "model_id": "64bf46e3d00f40219b4dc7e7d80cf8ed",
       "version_major": 2,
       "version_minor": 0
      },
      "text/plain": [
       "Canvas(toolbar=Toolbar(toolitems=[('Home', 'Reset original view', 'home', 'home'), ('Back', 'Back to previous …"
      ]
     },
     "metadata": {},
     "output_type": "display_data"
    },
    {
     "data": {
      "text/plain": [
       "<matplotlib.collections.PathCollection at 0x2b9077459a10>"
      ]
     },
     "execution_count": 40,
     "metadata": {},
     "output_type": "execute_result"
    }
   ],
   "source": [
    "fig, ax = plt.subplots(nrows=1, ncols=1, figsize=(9, 4))\n",
    "ax.scatter(np.log(total_growth), max_speeds)\n",
    "# ax.set_xlim(100,300)"
   ]
  }
 ],
 "metadata": {
  "kernelspec": {
   "display_name": "Python 3",
   "language": "python",
   "name": "python3"
  },
  "language_info": {
   "codemirror_mode": {
    "name": "ipython",
    "version": 3
   },
   "file_extension": ".py",
   "mimetype": "text/x-python",
   "name": "python",
   "nbconvert_exporter": "python",
   "pygments_lexer": "ipython3",
   "version": "3.7.7"
  }
 },
 "nbformat": 4,
 "nbformat_minor": 4
}

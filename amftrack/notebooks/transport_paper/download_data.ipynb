{
 "cells": [
  {
   "cell_type": "code",
   "execution_count": 1,
   "metadata": {
    "tags": []
   },
   "outputs": [
    {
     "name": "stderr",
     "output_type": "stream",
     "text": [
      "/gpfs/home2/cbisot/pycode/AMFtrack/amftrack/util/dbx.py:3: TqdmExperimentalWarning: Using `tqdm.autonotebook.tqdm` in notebook mode. Use `tqdm.tqdm` instead to force console mode (e.g. in jupyter console)\n",
      "  from tqdm.autonotebook import tqdm\n",
      "2024-05-27 08:39:28.342038: I external/local_tsl/tsl/cuda/cudart_stub.cc:32] Could not find cuda drivers on your machine, GPU will not be used.\n",
      "2024-05-27 08:39:28.454232: I external/local_tsl/tsl/cuda/cudart_stub.cc:32] Could not find cuda drivers on your machine, GPU will not be used.\n",
      "2024-05-27 08:39:28.745495: I tensorflow/core/platform/cpu_feature_guard.cc:210] This TensorFlow binary is optimized to use available CPU instructions in performance-critical operations.\n",
      "To enable the following instructions: AVX2 FMA, in other operations, rebuild TensorFlow with the appropriate compiler flags.\n",
      "2024-05-27 08:39:31.931945: W tensorflow/compiler/tf2tensorrt/utils/py_utils.cc:38] TF-TRT Warning: Could not find TensorRT\n"
     ]
    },
    {
     "name": "stdout",
     "output_type": "stream",
     "text": [
      "2024-05-27 08:39:37,791-[WARNING]- absl:256 -> Compiled the loaded model, but the compiled metrics have yet to be built. `model.compile_metrics` will be empty until you train or evaluate the model.\n",
      "2024-05-27 08:39:37,804-[WARNING]- absl:184 -> Error in loading the saved optimizer state. As a result, your model is starting with a freshly initialized optimizer.\n"
     ]
    },
    {
     "name": "stderr",
     "output_type": "stream",
     "text": [
      "/home/cbisot/miniconda3/envs/amftrack/lib/python3.12/site-packages/keras/src/optimizers/base_optimizer.py:33: UserWarning: Argument `decay` is no longer supported and will be ignored.\n",
      "  warnings.warn(\n"
     ]
    }
   ],
   "source": [
    "from IPython.display import clear_output\n",
    "import os\n",
    "\n",
    "os.environ[\"CUDA_VISIBLE_DEVICES\"] = \"-1\"\n",
    "import re\n",
    "import dropbox\n",
    "import sys\n",
    "import pandas as pd\n",
    "import numpy as np\n",
    "import imageio.v2 as imageio\n",
    "import matplotlib.pyplot as plt\n",
    "import cv2\n",
    "import logging\n",
    "import datetime\n",
    "import glob\n",
    "import json\n",
    "import scipy\n",
    "import matplotlib as mpl\n",
    "\n",
    "from subprocess import call\n",
    "from tifffile import imwrite\n",
    "from tqdm import tqdm\n",
    "from pathlib import Path\n",
    "from amftrack.util.dbx import (\n",
    "    upload_folder,\n",
    "    download,\n",
    "    read_saved_dropbox_state,\n",
    "    save_dropbox_state,\n",
    "    load_dbx,\n",
    "    get_dropbox_folders_prince,\n",
    "    get_dropbox_video_folders,\n",
    "    download_video_folders_drop,\n",
    "    download_analysis_folders_drop,\n",
    ")\n",
    "from amftrack.pipeline.launching.run import (\n",
    "    run_transfer,\n",
    ")\n",
    "from amftrack.pipeline.launching.run_super import run_parallel_transfer\n",
    "from amftrack.pipeline.launching.run_super import run_parallel_flows\n",
    "from amftrack.pipeline.functions.transport_processing.high_mag_videos.plot_data import (\n",
    "    plot_summary,\n",
    "    save_raw_data,\n",
    ")\n",
    "from amftrack.pipeline.functions.transport_processing.high_mag_videos.high_mag_analysis import (\n",
    "    HighmagDataset,\n",
    "    VideoDataset,\n",
    "    EdgeDataset,\n",
    "    index_videos_dropbox_new,\n",
    "    analysis_run,\n",
    ")\n",
    "from amftrack.pipeline.functions.transport_processing.high_mag_videos.kymo_class import (\n",
    "    KymoVideoAnalysis,\n",
    "    KymoEdgeAnalysis,\n",
    ")\n",
    "from IPython.display import clear_output\n",
    "\n",
    "%matplotlib widget\n",
    "%load_ext autoreload\n",
    "%autoreload 2\n",
    "logging.basicConfig(stream=sys.stdout, level=logging.debug)\n",
    "mpl.rcParams[\"figure.dpi\"] = 200"
   ]
  },
  {
   "cell_type": "markdown",
   "metadata": {},
   "source": [
    "## File declaration\n",
    "As this notebook is designed to work with Snellius (now also on a local computer!), two items to separate are the raw video files and the analysis. The raw video files are large, bulky and not so easy to flip through. Ideally, the video files would be downloaded and the analysis would be stored on a separate folder structure entirely. That way, large scale analysis of analysis folders can happen when there are thousands of videos in the dataset, without having to have those raw video folders on hand.\n",
    "\n",
    "Below function will basically make your folders fertile ground to accept all the video info folders and raw video files.\n",
    "\n",
    "### Input:\n",
    "Please give separately the folder where raw video data is stored, and where the analysis will be stored. Also give the dropbox address of the dataset you want to analyze.\n",
    "\n",
    "### Output:\n",
    "The specified dropbox folder will be looked through, and all relevant video information will be downloaded to an analysis folder structure identical to what is present on teh dropbox. The relevant raw video folder structure will also be generated, if specified so. Will also create cache files in the form of .json files such that next time, the scrounging does not have to happen."
   ]
  },
  {
   "cell_type": "code",
   "execution_count": 2,
   "metadata": {
    "tags": []
   },
   "outputs": [],
   "source": [
    "# videos_folder = \"F:\\\\AMOLF_Data\\\\videos\\\\\"\n",
    "# analysis_folder = \"F:\\\\AMOLF_Data\\\\analysis\\\\\"\n",
    "\n",
    "# videos_folder = \"/gpfs/scratch1/shared/amftrackflow/videos/\"\n",
    "# analysis_folder = \"/gpfs/home6/svstaalduine/Analysis/\"\n",
    "videos_folder = \"/projects/0/einf914/videos/\"\n",
    "\n",
    "analysis_folder = \"/projects/0/einf914/analysis_videos/\""
   ]
  },
  {
   "cell_type": "code",
   "execution_count": 3,
   "metadata": {
    "tags": []
   },
   "outputs": [],
   "source": [
    "# dropbox_address = \"/DATA/FLUORESCENCE/DATA_NileRed/\"\n",
    "# dropbox_address=  \"/DATA/MYRISTATE/DATA/2_weeks/\"\n",
    "# dropbox_address = \"/DATA/TransportROOT/DATA/\"\n",
    "# dropbox_address = \"/DATA/MYRISTATE/MorrisonDATA/20230508_Plate067/\"\n",
    "dropbox_address = \"/DATA/CocoTransport/\"\n",
    "# dropbox_address = \"/DATA/CocoCut/\"\n",
    "\n",
    "# dropbox_address = \"/DATA/MYRISTATE/MorrisonDATA/\"\n",
    "\n",
    "# dropbox_address = \"/DATA/TRANSPORT/DATA/20230308_Plate070/\""
   ]
  },
  {
   "cell_type": "code",
   "execution_count": 4,
   "metadata": {
    "tags": []
   },
   "outputs": [],
   "source": [
    "# names = [\n",
    "#     \"20230901_Plate310\",\n",
    "#     \"20230902_Plate310\",\n",
    "#     \"20230903_Plate310\",\n",
    "#     \"20230904_Plate310\",\n",
    "#     \"20230905_Plate310\",\n",
    "#     \"20230906_Plate310\",\n",
    "# ]\n",
    "# names += [\n",
    "#     \"20230810_Plate441\",\n",
    "#     \"20230811_Plate441\",\n",
    "#     \"20230812_Plate441\",\n",
    "#     \"20230813_Plate441\",\n",
    "# ]\n",
    "names = [\n",
    "    \"20230813_Plate449\",\n",
    "    \"20230814_Plate449\",\n",
    "    \"20230815_Plate449\",\n",
    "    \"20230816_Plate449\",\n",
    "    \"20230818_Plate449\",\n",
    "]\n",
    "names += [\n",
    "    \"20230810_Plate441\",\n",
    "    \"20230811_Plate441\",\n",
    "    \"20230812_Plate441\",\n",
    "    \"20230813_Plate441\",\n",
    "]"
   ]
  },
  {
   "cell_type": "code",
   "execution_count": 5,
   "metadata": {
    "collapsed": true,
    "jupyter": {
     "outputs_hidden": true
    },
    "tags": []
   },
   "outputs": [
    {
     "name": "stdout",
     "output_type": "stream",
     "text": [
      "Redoing the dropbox scrounging, hold on tight.\n",
      "/DATA/CocoTransport/20230811_Plate441\n",
      "20230811 Plate441\n",
      "/DATA/CocoTransport/20230811_Plate441\n",
      "2024-04-24 14:23:00,338-[INFO]- dropbox:390 -> Refreshing access token.\n",
      "2024-04-24 14:23:00,600-[INFO]- dropbox:474 -> Request to files/list_folder\n",
      "2024-04-24 14:23:01,084-[INFO]- dropbox:474 -> Request to files/get_metadata\n",
      "2024-04-24 14:23:01,495-[INFO]- dropbox:474 -> Request to files/get_metadata\n",
      "2024-04-24 14:23:01,747-[INFO]- dropbox:474 -> Request to files/get_metadata\n",
      "2024-04-24 14:23:02,016-[INFO]- dropbox:474 -> Request to files/get_metadata\n",
      "2024-04-24 14:23:02,278-[INFO]- dropbox:474 -> Request to files/get_metadata\n",
      "2024-04-24 14:23:02,536-[INFO]- dropbox:474 -> Request to files/get_metadata\n",
      "2024-04-24 14:23:02,876-[INFO]- dropbox:474 -> Request to files/get_metadata\n",
      "2024-04-24 14:23:03,119-[INFO]- dropbox:474 -> Request to files/get_metadata\n",
      "2024-04-24 14:23:03,405-[INFO]- dropbox:474 -> Request to files/get_metadata\n",
      "2024-04-24 14:23:03,714-[INFO]- dropbox:474 -> Request to files/get_metadata\n",
      "2024-04-24 14:23:03,983-[INFO]- dropbox:474 -> Request to files/get_metadata\n",
      "2024-04-24 14:23:04,221-[INFO]- dropbox:474 -> Request to files/get_metadata\n",
      "2024-04-24 14:23:04,488-[INFO]- dropbox:474 -> Request to files/get_metadata\n",
      "2024-04-24 14:23:04,745-[INFO]- dropbox:474 -> Request to files/get_metadata\n",
      "2024-04-24 14:23:05,175-[INFO]- dropbox:474 -> Request to files/get_metadata\n",
      "2024-04-24 14:23:05,471-[INFO]- dropbox:474 -> Request to files/get_metadata\n",
      "2024-04-24 14:23:05,722-[INFO]- dropbox:474 -> Request to files/get_metadata\n",
      "2024-04-24 14:23:05,970-[INFO]- dropbox:474 -> Request to files/get_metadata\n",
      "2024-04-24 14:23:06,232-[INFO]- dropbox:474 -> Request to files/get_metadata\n",
      "2024-04-24 14:23:06,515-[INFO]- dropbox:474 -> Request to files/get_metadata\n",
      "2024-04-24 14:23:06,758-[INFO]- dropbox:474 -> Request to files/get_metadata\n",
      "2024-04-24 14:23:07,038-[INFO]- dropbox:474 -> Request to files/get_metadata\n",
      "2024-04-24 14:23:07,305-[INFO]- dropbox:474 -> Request to files/get_metadata\n",
      "2024-04-24 14:23:07,633-[INFO]- dropbox:474 -> Request to files/get_metadata\n",
      "2024-04-24 14:23:07,895-[INFO]- dropbox:474 -> Request to files/get_metadata\n",
      "2024-04-24 14:23:08,181-[INFO]- dropbox:474 -> Request to files/get_metadata\n",
      "2024-04-24 14:23:08,574-[INFO]- dropbox:474 -> Request to files/get_metadata\n",
      "2024-04-24 14:23:08,879-[INFO]- dropbox:474 -> Request to files/get_metadata\n",
      "2024-04-24 14:23:09,113-[INFO]- dropbox:474 -> Request to files/get_metadata\n",
      "2024-04-24 14:23:09,524-[INFO]- dropbox:474 -> Request to files/get_metadata\n",
      "2024-04-24 14:23:09,792-[INFO]- dropbox:474 -> Request to files/get_metadata\n",
      "2024-04-24 14:23:10,048-[INFO]- dropbox:474 -> Request to files/get_metadata\n",
      "2024-04-24 14:23:10,419-[INFO]- dropbox:474 -> Request to files/get_metadata\n",
      "2024-04-24 14:23:10,687-[INFO]- dropbox:474 -> Request to files/get_metadata\n",
      "2024-04-24 14:23:10,943-[INFO]- dropbox:474 -> Request to files/get_metadata\n",
      "2024-04-24 14:23:11,241-[INFO]- dropbox:474 -> Request to files/get_metadata\n",
      "2024-04-24 14:23:11,931-[INFO]- dropbox:474 -> Request to files/get_metadata\n",
      "2024-04-24 14:23:12,181-[INFO]- dropbox:474 -> Request to files/get_metadata\n",
      "2024-04-24 14:23:12,491-[INFO]- dropbox:474 -> Request to files/get_metadata\n",
      "2024-04-24 14:23:12,908-[INFO]- dropbox:474 -> Request to files/get_metadata\n",
      "2024-04-24 14:23:13,284-[INFO]- dropbox:474 -> Request to files/get_metadata\n",
      "2024-04-24 14:23:13,563-[INFO]- dropbox:474 -> Request to files/get_metadata\n",
      "2024-04-24 14:23:13,818-[INFO]- dropbox:474 -> Request to files/get_metadata\n",
      "2024-04-24 14:23:14,099-[INFO]- dropbox:474 -> Request to files/get_metadata\n",
      "2024-04-24 14:23:14,341-[INFO]- dropbox:474 -> Request to files/get_metadata\n",
      "2024-04-24 14:23:14,629-[INFO]- dropbox:474 -> Request to files/get_metadata\n",
      "2024-04-24 14:23:14,929-[INFO]- dropbox:474 -> Request to files/get_metadata\n",
      "2024-04-24 14:23:16,248-[INFO]- dropbox:474 -> Request to files/get_metadata\n",
      "2024-04-24 14:23:16,510-[INFO]- dropbox:474 -> Request to files/get_metadata\n",
      "2024-04-24 14:23:16,822-[INFO]- dropbox:474 -> Request to files/get_metadata\n",
      "2024-04-24 14:23:17,109-[INFO]- dropbox:474 -> Request to files/get_metadata\n",
      "2024-04-24 14:23:17,354-[INFO]- dropbox:474 -> Request to files/get_metadata\n",
      "2024-04-24 14:23:17,619-[INFO]- dropbox:474 -> Request to files/get_metadata\n",
      "2024-04-24 14:23:17,930-[INFO]- dropbox:474 -> Request to files/get_metadata\n",
      "2024-04-24 14:23:18,176-[INFO]- dropbox:474 -> Request to files/get_metadata\n",
      "2024-04-24 14:23:18,439-[INFO]- dropbox:474 -> Request to files/get_metadata\n",
      "2024-04-24 14:23:18,692-[INFO]- dropbox:474 -> Request to files/get_metadata\n",
      "2024-04-24 14:23:18,972-[INFO]- dropbox:474 -> Request to files/get_metadata\n",
      "2024-04-24 14:23:19,225-[INFO]- dropbox:474 -> Request to files/get_metadata\n",
      "2024-04-24 14:23:19,728-[INFO]- dropbox:474 -> Request to files/get_metadata\n",
      "2024-04-24 14:23:20,103-[INFO]- dropbox:474 -> Request to files/get_metadata\n",
      "2024-04-24 14:23:20,398-[INFO]- dropbox:474 -> Request to files/get_metadata\n",
      "2024-04-24 14:23:20,709-[INFO]- dropbox:474 -> Request to files/get_metadata\n",
      "2024-04-24 14:23:21,079-[INFO]- dropbox:474 -> Request to files/get_metadata\n",
      "2024-04-24 14:23:21,340-[INFO]- dropbox:474 -> Request to files/get_metadata\n",
      "2024-04-24 14:23:21,622-[INFO]- dropbox:474 -> Request to files/get_metadata\n",
      "2024-04-24 14:23:21,893-[INFO]- dropbox:474 -> Request to files/get_metadata\n",
      "2024-04-24 14:23:22,153-[INFO]- dropbox:474 -> Request to files/get_metadata\n",
      "2024-04-24 14:23:22,439-[INFO]- dropbox:474 -> Request to files/get_metadata\n",
      "2024-04-24 14:23:22,762-[INFO]- dropbox:474 -> Request to files/get_metadata\n",
      "2024-04-24 14:23:23,047-[INFO]- dropbox:474 -> Request to files/get_metadata\n",
      "2024-04-24 14:23:23,315-[INFO]- dropbox:474 -> Request to files/get_metadata\n",
      "2024-04-24 14:23:23,659-[INFO]- dropbox:474 -> Request to files/get_metadata\n",
      "2024-04-24 14:23:24,211-[INFO]- dropbox:474 -> Request to files/get_metadata\n",
      "2024-04-24 14:23:24,823-[INFO]- dropbox:474 -> Request to files/get_metadata\n",
      "2024-04-24 14:23:25,110-[INFO]- dropbox:474 -> Request to files/get_metadata\n",
      "2024-04-24 14:23:26,391-[INFO]- dropbox:474 -> Request to files/get_metadata\n",
      "2024-04-24 14:23:26,635-[INFO]- dropbox:474 -> Request to files/get_metadata\n",
      "2024-04-24 14:23:26,871-[INFO]- dropbox:474 -> Request to files/get_metadata\n",
      "2024-04-24 14:23:27,209-[INFO]- dropbox:474 -> Request to files/get_metadata\n",
      "2024-04-24 14:23:27,486-[INFO]- dropbox:474 -> Request to files/get_metadata\n",
      "2024-04-24 14:23:27,820-[INFO]- dropbox:474 -> Request to files/get_metadata\n",
      "2024-04-24 14:23:28,165-[INFO]- dropbox:474 -> Request to files/get_metadata\n",
      "2024-04-24 14:23:28,426-[INFO]- dropbox:474 -> Request to files/get_metadata\n",
      "2024-04-24 14:23:28,714-[INFO]- dropbox:474 -> Request to files/get_metadata\n",
      "2024-04-24 14:23:28,959-[INFO]- dropbox:474 -> Request to files/get_metadata\n",
      "2024-04-24 14:23:29,233-[INFO]- dropbox:474 -> Request to files/get_metadata\n",
      "2024-04-24 14:23:29,552-[INFO]- dropbox:474 -> Request to files/get_metadata\n",
      "2024-04-24 14:23:29,856-[INFO]- dropbox:474 -> Request to files/get_metadata\n",
      "2024-04-24 14:23:30,158-[INFO]- dropbox:474 -> Request to files/get_metadata\n",
      "2024-04-24 14:23:30,424-[INFO]- dropbox:474 -> Request to files/get_metadata\n",
      "2024-04-24 14:23:30,671-[INFO]- dropbox:474 -> Request to files/get_metadata\n",
      "2024-04-24 14:23:31,001-[INFO]- dropbox:474 -> Request to files/get_metadata\n",
      "2024-04-24 14:23:31,280-[INFO]- dropbox:474 -> Request to files/get_metadata\n",
      "2024-04-24 14:23:31,689-[INFO]- dropbox:474 -> Request to files/get_metadata\n",
      "2024-04-24 14:23:31,920-[INFO]- dropbox:474 -> Request to files/get_metadata\n",
      "2024-04-24 14:23:32,192-[INFO]- dropbox:474 -> Request to files/get_metadata\n",
      "2024-04-24 14:23:32,471-[INFO]- dropbox:474 -> Request to files/get_metadata\n",
      "2024-04-24 14:23:32,729-[INFO]- dropbox:474 -> Request to files/get_metadata\n",
      "2024-04-24 14:23:33,065-[INFO]- dropbox:474 -> Request to files/get_metadata\n",
      "2024-04-24 14:23:33,335-[INFO]- dropbox:474 -> Request to files/get_metadata\n",
      "2024-04-24 14:23:33,597-[INFO]- dropbox:474 -> Request to files/get_metadata\n",
      "2024-04-24 14:23:33,936-[INFO]- dropbox:474 -> Request to files/get_metadata\n",
      "2024-04-24 14:23:34,379-[INFO]- dropbox:474 -> Request to files/get_metadata\n",
      "2024-04-24 14:23:34,646-[INFO]- dropbox:474 -> Request to files/get_metadata\n",
      "2024-04-24 14:23:34,913-[INFO]- dropbox:474 -> Request to files/get_metadata\n",
      "2024-04-24 14:23:35,366-[INFO]- dropbox:474 -> Request to files/get_metadata\n",
      "2024-04-24 14:23:35,756-[INFO]- dropbox:474 -> Request to files/get_metadata\n",
      "2024-04-24 14:23:36,137-[INFO]- dropbox:474 -> Request to files/get_metadata\n",
      "2024-04-24 14:23:36,383-[INFO]- dropbox:474 -> Request to files/get_metadata\n",
      "2024-04-24 14:23:36,656-[INFO]- dropbox:474 -> Request to files/get_metadata\n",
      "2024-04-24 14:23:36,926-[INFO]- dropbox:474 -> Request to files/get_metadata\n",
      "2024-04-24 14:23:37,352-[INFO]- dropbox:474 -> Request to files/get_metadata\n",
      "2024-04-24 14:23:37,666-[INFO]- dropbox:474 -> Request to files/get_metadata\n",
      "2024-04-24 14:23:37,913-[INFO]- dropbox:474 -> Request to files/get_metadata\n",
      "2024-04-24 14:23:38,278-[INFO]- dropbox:474 -> Request to files/get_metadata\n",
      "2024-04-24 14:23:38,526-[INFO]- dropbox:474 -> Request to files/get_metadata\n",
      "2024-04-24 14:23:38,825-[INFO]- dropbox:474 -> Request to files/get_metadata\n",
      "2024-04-24 14:23:39,143-[INFO]- dropbox:474 -> Request to files/get_metadata\n",
      "2024-04-24 14:23:39,444-[INFO]- dropbox:474 -> Request to files/get_metadata\n",
      "2024-04-24 14:23:39,726-[INFO]- dropbox:474 -> Request to files/get_metadata\n",
      "2024-04-24 14:23:39,962-[INFO]- dropbox:474 -> Request to files/get_metadata\n",
      "2024-04-24 14:23:40,795-[INFO]- dropbox:474 -> Request to files/get_metadata\n",
      "2024-04-24 14:23:41,051-[INFO]- dropbox:474 -> Request to files/get_metadata\n",
      "2024-04-24 14:23:41,381-[INFO]- dropbox:474 -> Request to files/get_metadata\n",
      "2024-04-24 14:23:41,628-[INFO]- dropbox:474 -> Request to files/get_metadata\n",
      "2024-04-24 14:23:41,914-[INFO]- dropbox:474 -> Request to files/get_metadata\n",
      "2024-04-24 14:23:42,258-[INFO]- dropbox:474 -> Request to files/get_metadata\n",
      "2024-04-24 14:23:42,603-[INFO]- dropbox:474 -> Request to files/get_metadata\n",
      "2024-04-24 14:23:42,844-[INFO]- dropbox:474 -> Request to files/get_metadata\n",
      "2024-04-24 14:23:43,152-[INFO]- dropbox:474 -> Request to files/get_metadata\n",
      "2024-04-24 14:23:43,536-[INFO]- dropbox:474 -> Request to files/get_metadata\n",
      "2024-04-24 14:23:43,770-[INFO]- dropbox:474 -> Request to files/get_metadata\n",
      "2024-04-24 14:23:44,053-[INFO]- dropbox:474 -> Request to files/get_metadata\n",
      "2024-04-24 14:23:44,399-[INFO]- dropbox:474 -> Request to files/get_metadata\n",
      "2024-04-24 14:23:44,645-[INFO]- dropbox:474 -> Request to files/get_metadata\n",
      "2024-04-24 14:23:44,882-[INFO]- dropbox:474 -> Request to files/get_metadata\n",
      "2024-04-24 14:23:46,093-[INFO]- dropbox:474 -> Request to files/get_metadata\n",
      "2024-04-24 14:23:46,433-[INFO]- dropbox:474 -> Request to files/get_metadata\n",
      "2024-04-24 14:23:46,692-[INFO]- dropbox:474 -> Request to files/get_metadata\n",
      "2024-04-24 14:23:46,945-[INFO]- dropbox:474 -> Request to files/get_metadata\n",
      "2024-04-24 14:23:47,229-[INFO]- dropbox:474 -> Request to files/get_metadata\n",
      "2024-04-24 14:23:47,488-[INFO]- dropbox:474 -> Request to files/get_metadata\n",
      "2024-04-24 14:23:47,748-[INFO]- dropbox:474 -> Request to files/get_metadata\n",
      "2024-04-24 14:23:47,986-[INFO]- dropbox:474 -> Request to files/get_metadata\n",
      "2024-04-24 14:23:48,336-[INFO]- dropbox:474 -> Request to files/get_metadata\n",
      "2024-04-24 14:23:48,594-[INFO]- dropbox:474 -> Request to files/get_metadata\n",
      "2024-04-24 14:23:48,866-[INFO]- dropbox:474 -> Request to files/get_metadata\n",
      "2024-04-24 14:23:49,270-[INFO]- dropbox:474 -> Request to files/get_metadata\n",
      "2024-04-24 14:23:49,515-[INFO]- dropbox:474 -> Request to files/get_metadata\n",
      "2024-04-24 14:23:49,799-[INFO]- dropbox:474 -> Request to files/get_metadata\n",
      "2024-04-24 14:23:50,103-[INFO]- dropbox:474 -> Request to files/get_metadata\n",
      "2024-04-24 14:23:50,354-[INFO]- dropbox:474 -> Request to files/get_metadata\n",
      "2024-04-24 14:23:50,679-[INFO]- dropbox:474 -> Request to files/get_metadata\n",
      "2024-04-24 14:23:50,976-[INFO]- dropbox:474 -> Request to files/get_metadata\n",
      "2024-04-24 14:23:51,273-[INFO]- dropbox:474 -> Request to files/get_metadata\n",
      "2024-04-24 14:23:51,534-[INFO]- dropbox:474 -> Request to files/get_metadata\n",
      "2024-04-24 14:23:51,786-[INFO]- dropbox:474 -> Request to files/get_metadata\n",
      "2024-04-24 14:23:52,099-[INFO]- dropbox:474 -> Request to files/get_metadata\n",
      "2024-04-24 14:23:52,340-[INFO]- dropbox:474 -> Request to files/get_metadata\n",
      "2024-04-24 14:23:52,639-[INFO]- dropbox:474 -> Request to files/get_metadata\n",
      "2024-04-24 14:23:52,918-[INFO]- dropbox:474 -> Request to files/get_metadata\n",
      "2024-04-24 14:23:53,220-[INFO]- dropbox:474 -> Request to files/get_metadata\n",
      "2024-04-24 14:23:53,494-[INFO]- dropbox:474 -> Request to files/get_metadata\n",
      "2024-04-24 14:23:53,965-[INFO]- dropbox:474 -> Request to files/get_metadata\n",
      "2024-04-24 14:23:54,212-[INFO]- dropbox:474 -> Request to files/get_metadata\n",
      "2024-04-24 14:23:54,683-[INFO]- dropbox:474 -> Request to files/get_metadata\n",
      "2024-04-24 14:23:54,960-[INFO]- dropbox:474 -> Request to files/get_metadata\n",
      "2024-04-24 14:23:55,227-[INFO]- dropbox:474 -> Request to files/get_metadata\n",
      "2024-04-24 14:23:55,530-[INFO]- dropbox:474 -> Request to files/get_metadata\n",
      "2024-04-24 14:23:55,775-[INFO]- dropbox:474 -> Request to files/get_metadata\n",
      "2024-04-24 14:23:56,058-[INFO]- dropbox:474 -> Request to files/get_metadata\n",
      "2024-04-24 14:23:56,329-[INFO]- dropbox:474 -> Request to files/get_metadata\n",
      "2024-04-24 14:23:56,676-[INFO]- dropbox:474 -> Request to files/get_metadata\n",
      "2024-04-24 14:23:57,109-[INFO]- dropbox:474 -> Request to files/get_metadata\n",
      "2024-04-24 14:23:57,416-[INFO]- dropbox:474 -> Request to files/get_metadata\n",
      "2024-04-24 14:23:57,692-[INFO]- dropbox:474 -> Request to files/get_metadata\n",
      "2024-04-24 14:23:58,013-[INFO]- dropbox:474 -> Request to files/get_metadata\n",
      "2024-04-24 14:23:58,273-[INFO]- dropbox:474 -> Request to files/get_metadata\n",
      "2024-04-24 14:23:58,650-[INFO]- dropbox:474 -> Request to files/get_metadata\n",
      "2024-04-24 14:23:58,967-[INFO]- dropbox:474 -> Request to files/get_metadata\n",
      "2024-04-24 14:23:59,222-[INFO]- dropbox:474 -> Request to files/get_metadata\n",
      "2024-04-24 14:23:59,515-[INFO]- dropbox:474 -> Request to files/get_metadata\n",
      "2024-04-24 14:23:59,859-[INFO]- dropbox:474 -> Request to files/get_metadata\n",
      "2024-04-24 14:24:00,229-[INFO]- dropbox:474 -> Request to files/get_metadata\n",
      "2024-04-24 14:24:00,508-[INFO]- dropbox:474 -> Request to files/get_metadata\n",
      "2024-04-24 14:24:00,777-[INFO]- dropbox:474 -> Request to files/get_metadata\n",
      "2024-04-24 14:24:01,075-[INFO]- dropbox:474 -> Request to files/get_metadata\n",
      "2024-04-24 14:24:01,362-[INFO]- dropbox:474 -> Request to files/get_metadata\n",
      "2024-04-24 14:24:01,630-[INFO]- dropbox:474 -> Request to files/get_metadata\n",
      "2024-04-24 14:24:01,991-[INFO]- dropbox:474 -> Request to files/get_metadata\n",
      "2024-04-24 14:24:02,237-[INFO]- dropbox:474 -> Request to files/get_metadata\n",
      "2024-04-24 14:24:02,549-[INFO]- dropbox:474 -> Request to files/get_metadata\n",
      "2024-04-24 14:24:02,808-[INFO]- dropbox:474 -> Request to files/get_metadata\n",
      "2024-04-24 14:24:03,053-[INFO]- dropbox:474 -> Request to files/get_metadata\n",
      "2024-04-24 14:24:03,433-[INFO]- dropbox:474 -> Request to files/get_metadata\n",
      "Other folders: []\n",
      "txt files: ['/DATA/CocoTransport/20230811_Plate441/001/videoInfo.txt', '/DATA/CocoTransport/20230811_Plate441/002/videoInfo.txt', '/DATA/CocoTransport/20230811_Plate441/003/videoInfo.txt', '/DATA/CocoTransport/20230811_Plate441/005/videoInfo.txt', '/DATA/CocoTransport/20230811_Plate441/006/videoInfo.txt', '/DATA/CocoTransport/20230811_Plate441/007/videoInfo.txt', '/DATA/CocoTransport/20230811_Plate441/008/videoInfo.txt', '/DATA/CocoTransport/20230811_Plate441/009/videoInfo.txt', '/DATA/CocoTransport/20230811_Plate441/010/videoInfo.txt', '/DATA/CocoTransport/20230811_Plate441/011/videoInfo.txt', '/DATA/CocoTransport/20230811_Plate441/012/videoInfo.txt', '/DATA/CocoTransport/20230811_Plate441/013/videoInfo.txt', '/DATA/CocoTransport/20230811_Plate441/014/videoInfo.txt', '/DATA/CocoTransport/20230811_Plate441/015/videoInfo.txt', '/DATA/CocoTransport/20230811_Plate441/016/videoInfo.txt', '/DATA/CocoTransport/20230811_Plate441/017/videoInfo.txt', '/DATA/CocoTransport/20230811_Plate441/018/videoInfo.txt', '/DATA/CocoTransport/20230811_Plate441/019/videoInfo.txt', '/DATA/CocoTransport/20230811_Plate441/020/videoInfo.txt', '/DATA/CocoTransport/20230811_Plate441/021/videoInfo.txt', '/DATA/CocoTransport/20230811_Plate441/022/videoInfo.txt', '/DATA/CocoTransport/20230811_Plate441/023/videoInfo.txt', '/DATA/CocoTransport/20230811_Plate441/024/videoInfo.txt', '/DATA/CocoTransport/20230811_Plate441/025/videoInfo.txt', '/DATA/CocoTransport/20230811_Plate441/026/videoInfo.txt', '/DATA/CocoTransport/20230811_Plate441/027/videoInfo.txt', '/DATA/CocoTransport/20230811_Plate441/028/videoInfo.txt', '/DATA/CocoTransport/20230811_Plate441/029/videoInfo.txt', '/DATA/CocoTransport/20230811_Plate441/030/videoInfo.txt', '/DATA/CocoTransport/20230811_Plate441/031/videoInfo.txt', '/DATA/CocoTransport/20230811_Plate441/032/videoInfo.txt', '/DATA/CocoTransport/20230811_Plate441/033/videoInfo.txt', '/DATA/CocoTransport/20230811_Plate441/034/videoInfo.txt', '/DATA/CocoTransport/20230811_Plate441/035/videoInfo.txt', '/DATA/CocoTransport/20230811_Plate441/036/videoInfo.txt', '/DATA/CocoTransport/20230811_Plate441/037/videoInfo.txt', '/DATA/CocoTransport/20230811_Plate441/038/videoInfo.txt', '/DATA/CocoTransport/20230811_Plate441/039/videoInfo.txt', '/DATA/CocoTransport/20230811_Plate441/040/videoInfo.txt', '/DATA/CocoTransport/20230811_Plate441/041/videoInfo.txt', '/DATA/CocoTransport/20230811_Plate441/042/videoInfo.txt', '/DATA/CocoTransport/20230811_Plate441/043/videoInfo.txt', '/DATA/CocoTransport/20230811_Plate441/044/videoInfo.txt', '/DATA/CocoTransport/20230811_Plate441/045/videoInfo.txt', '/DATA/CocoTransport/20230811_Plate441/046/videoInfo.txt', '/DATA/CocoTransport/20230811_Plate441/047/videoInfo.txt', '/DATA/CocoTransport/20230811_Plate441/048/videoInfo.txt', '/DATA/CocoTransport/20230811_Plate441/049/videoInfo.txt', '/DATA/CocoTransport/20230811_Plate441/050/videoInfo.txt', '/DATA/CocoTransport/20230811_Plate441/051/videoInfo.txt', '/DATA/CocoTransport/20230811_Plate441/052/videoInfo.txt', '/DATA/CocoTransport/20230811_Plate441/053/videoInfo.txt', '/DATA/CocoTransport/20230811_Plate441/054/videoInfo.txt', '/DATA/CocoTransport/20230811_Plate441/055/videoInfo.txt', '/DATA/CocoTransport/20230811_Plate441/056/videoInfo.txt', '/DATA/CocoTransport/20230811_Plate441/057/videoInfo.txt', '/DATA/CocoTransport/20230811_Plate441/058/videoInfo.txt', '/DATA/CocoTransport/20230811_Plate441/059/videoInfo.txt', '/DATA/CocoTransport/20230811_Plate441/060/videoInfo.txt', '/DATA/CocoTransport/20230811_Plate441/061/videoInfo.txt', '/DATA/CocoTransport/20230811_Plate441/062/videoInfo.txt', '/DATA/CocoTransport/20230811_Plate441/063/videoInfo.txt', '/DATA/CocoTransport/20230811_Plate441/064/videoInfo.txt', '/DATA/CocoTransport/20230811_Plate441/065/videoInfo.txt', '/DATA/CocoTransport/20230811_Plate441/066/videoInfo.txt', '/DATA/CocoTransport/20230811_Plate441/067/videoInfo.txt', '/DATA/CocoTransport/20230811_Plate441/068/videoInfo.txt', '/DATA/CocoTransport/20230811_Plate441/069/videoInfo.txt', '/DATA/CocoTransport/20230811_Plate441/070/videoInfo.txt', '/DATA/CocoTransport/20230811_Plate441/071/videoInfo.txt', '/DATA/CocoTransport/20230811_Plate441/072/videoInfo.txt', '/DATA/CocoTransport/20230811_Plate441/073/videoInfo.txt', '/DATA/CocoTransport/20230811_Plate441/074/videoInfo.txt', '/DATA/CocoTransport/20230811_Plate441/075/videoInfo.txt', '/DATA/CocoTransport/20230811_Plate441/076/videoInfo.txt', '/DATA/CocoTransport/20230811_Plate441/077/videoInfo.txt', '/DATA/CocoTransport/20230811_Plate441/078/videoInfo.txt', '/DATA/CocoTransport/20230811_Plate441/079/videoInfo.txt', '/DATA/CocoTransport/20230811_Plate441/080/videoInfo.txt', '/DATA/CocoTransport/20230811_Plate441/081/videoInfo.txt', '/DATA/CocoTransport/20230811_Plate441/082/videoInfo.txt', '/DATA/CocoTransport/20230811_Plate441/083/videoInfo.txt', '/DATA/CocoTransport/20230811_Plate441/084/videoInfo.txt', '/DATA/CocoTransport/20230811_Plate441/085/videoInfo.txt', '/DATA/CocoTransport/20230811_Plate441/086/videoInfo.txt', '/DATA/CocoTransport/20230811_Plate441/087/videoInfo.txt', '/DATA/CocoTransport/20230811_Plate441/088/videoInfo.txt', '/DATA/CocoTransport/20230811_Plate441/089/videoInfo.txt', '/DATA/CocoTransport/20230811_Plate441/090/videoInfo.txt', '/DATA/CocoTransport/20230811_Plate441/091/videoInfo.txt', '/DATA/CocoTransport/20230811_Plate441/092/videoInfo.txt', '/DATA/CocoTransport/20230811_Plate441/093/videoInfo.txt', '/DATA/CocoTransport/20230811_Plate441/094/videoInfo.txt', '/DATA/CocoTransport/20230811_Plate441/095/videoInfo.txt', '/DATA/CocoTransport/20230811_Plate441/096/videoInfo.txt', '/DATA/CocoTransport/20230811_Plate441/097/videoInfo.txt', '/DATA/CocoTransport/20230811_Plate441/098/videoInfo.txt', '/DATA/CocoTransport/20230811_Plate441/099/videoInfo.txt', '/DATA/CocoTransport/20230811_Plate441/100/videoInfo.txt', '/DATA/CocoTransport/20230811_Plate441/101/videoInfo.txt', '/DATA/CocoTransport/20230811_Plate441/102/videoInfo.txt', '/DATA/CocoTransport/20230811_Plate441/103/videoInfo.txt', '/DATA/CocoTransport/20230811_Plate441/104/videoInfo.txt', '/DATA/CocoTransport/20230811_Plate441/105/videoInfo.txt', '/DATA/CocoTransport/20230811_Plate441/106/videoInfo.txt', '/DATA/CocoTransport/20230811_Plate441/107/videoInfo.txt', '/DATA/CocoTransport/20230811_Plate441/108/videoInfo.txt', '/DATA/CocoTransport/20230811_Plate441/109/videoInfo.txt', '/DATA/CocoTransport/20230811_Plate441/110/videoInfo.txt', '/DATA/CocoTransport/20230811_Plate441/111/videoInfo.txt', '/DATA/CocoTransport/20230811_Plate441/112/videoInfo.txt', '/DATA/CocoTransport/20230811_Plate441/113/videoInfo.txt', '/DATA/CocoTransport/20230811_Plate441/114/videoInfo.txt', '/DATA/CocoTransport/20230811_Plate441/115/videoInfo.txt', '/DATA/CocoTransport/20230811_Plate441/116/videoInfo.txt', '/DATA/CocoTransport/20230811_Plate441/117/videoInfo.txt', '/DATA/CocoTransport/20230811_Plate441/118/videoInfo.txt', '/DATA/CocoTransport/20230811_Plate441/119/videoInfo.txt', '/DATA/CocoTransport/20230811_Plate441/120/videoInfo.txt', '/DATA/CocoTransport/20230811_Plate441/121/videoInfo.txt', '/DATA/CocoTransport/20230811_Plate441/122/videoInfo.txt', '/DATA/CocoTransport/20230811_Plate441/123/videoInfo.txt', '/DATA/CocoTransport/20230811_Plate441/124/videoInfo.txt', '/DATA/CocoTransport/20230811_Plate441/125/videoInfo.txt', '/DATA/CocoTransport/20230811_Plate441/126/videoInfo.txt', '/DATA/CocoTransport/20230811_Plate441/127/videoInfo.txt', '/DATA/CocoTransport/20230811_Plate441/128/videoInfo.txt', '/DATA/CocoTransport/20230811_Plate441/129/videoInfo.txt', '/DATA/CocoTransport/20230811_Plate441/130/videoInfo.txt', '/DATA/CocoTransport/20230811_Plate441/131/videoInfo.txt', '/DATA/CocoTransport/20230811_Plate441/132/videoInfo.txt', '/DATA/CocoTransport/20230811_Plate441/133/videoInfo.txt', '/DATA/CocoTransport/20230811_Plate441/134/videoInfo.txt', '/DATA/CocoTransport/20230811_Plate441/135/videoInfo.txt', '/DATA/CocoTransport/20230811_Plate441/136/videoInfo.txt', '/DATA/CocoTransport/20230811_Plate441/137/videoInfo.txt', '/DATA/CocoTransport/20230811_Plate441/138/videoInfo.txt', '/DATA/CocoTransport/20230811_Plate441/139/videoInfo.txt', '/DATA/CocoTransport/20230811_Plate441/140/videoInfo.txt', '/DATA/CocoTransport/20230811_Plate441/141/videoInfo.txt', '/DATA/CocoTransport/20230811_Plate441/142/videoInfo.txt', '/DATA/CocoTransport/20230811_Plate441/143/videoInfo.txt', '/DATA/CocoTransport/20230811_Plate441/144/videoInfo.txt', '/DATA/CocoTransport/20230811_Plate441/145/videoInfo.txt', '/DATA/CocoTransport/20230811_Plate441/146/videoInfo.txt', '/DATA/CocoTransport/20230811_Plate441/147/videoInfo.txt', '/DATA/CocoTransport/20230811_Plate441/148/videoInfo.txt', '/DATA/CocoTransport/20230811_Plate441/149/videoInfo.txt', '/DATA/CocoTransport/20230811_Plate441/150/videoInfo.txt', '/DATA/CocoTransport/20230811_Plate441/151/videoInfo.txt', '/DATA/CocoTransport/20230811_Plate441/152/videoInfo.txt', '/DATA/CocoTransport/20230811_Plate441/153/videoInfo.txt', '/DATA/CocoTransport/20230811_Plate441/154/videoInfo.txt', '/DATA/CocoTransport/20230811_Plate441/155/videoInfo.txt', '/DATA/CocoTransport/20230811_Plate441/156/videoInfo.txt', '/DATA/CocoTransport/20230811_Plate441/157/videoInfo.txt', '/DATA/CocoTransport/20230811_Plate441/158/videoInfo.txt', '/DATA/CocoTransport/20230811_Plate441/159/videoInfo.txt', '/DATA/CocoTransport/20230811_Plate441/160/videoInfo.txt', '/DATA/CocoTransport/20230811_Plate441/161/videoInfo.txt', '/DATA/CocoTransport/20230811_Plate441/162/videoInfo.txt', '/DATA/CocoTransport/20230811_Plate441/163/videoInfo.txt', '/DATA/CocoTransport/20230811_Plate441/164/videoInfo.txt', '/DATA/CocoTransport/20230811_Plate441/165/videoInfo.txt', '/DATA/CocoTransport/20230811_Plate441/166/videoInfo.txt', '/DATA/CocoTransport/20230811_Plate441/167/videoInfo.txt', '/DATA/CocoTransport/20230811_Plate441/168/videoInfo.txt', '/DATA/CocoTransport/20230811_Plate441/169/videoInfo.txt', '/DATA/CocoTransport/20230811_Plate441/170/videoInfo.txt', '/DATA/CocoTransport/20230811_Plate441/171/videoInfo.txt', '/DATA/CocoTransport/20230811_Plate441/172/videoInfo.txt', '/DATA/CocoTransport/20230811_Plate441/173/videoInfo.txt', '/DATA/CocoTransport/20230811_Plate441/174/videoInfo.txt', '/DATA/CocoTransport/20230811_Plate441/175/videoInfo.txt', '/DATA/CocoTransport/20230811_Plate441/176/videoInfo.txt', '/DATA/CocoTransport/20230811_Plate441/177/videoInfo.txt', '/DATA/CocoTransport/20230811_Plate441/178/videoInfo.txt', '/DATA/CocoTransport/20230811_Plate441/179/videoInfo.txt', '/DATA/CocoTransport/20230811_Plate441/180/videoInfo.txt', '/DATA/CocoTransport/20230811_Plate441/181/videoInfo.txt', '/DATA/CocoTransport/20230811_Plate441/182/videoInfo.txt', '/DATA/CocoTransport/20230811_Plate441/183/videoInfo.txt', '/DATA/CocoTransport/20230811_Plate441/184/videoInfo.txt', '/DATA/CocoTransport/20230811_Plate441/185/videoInfo.txt', '/DATA/CocoTransport/20230811_Plate441/186/videoInfo.txt', '/DATA/CocoTransport/20230811_Plate441/187/videoInfo.txt', '/DATA/CocoTransport/20230811_Plate441/188/videoInfo.txt', '/DATA/CocoTransport/20230811_Plate441/189/videoInfo.txt', '/DATA/CocoTransport/20230811_Plate441/190/videoInfo.txt', '/DATA/CocoTransport/20230811_Plate441/191/videoInfo.txt', '/DATA/CocoTransport/20230811_Plate441/192/videoInfo.txt', '/DATA/CocoTransport/20230811_Plate441/193/videoInfo.txt', '/DATA/CocoTransport/20230811_Plate441/194/videoInfo.txt', '/DATA/CocoTransport/20230811_Plate441/195/videoInfo.txt', '/DATA/CocoTransport/20230811_Plate441/196/videoInfo.txt', '/DATA/CocoTransport/20230811_Plate441/197/videoInfo.txt']\n",
      "sheets: []\n",
      "Scrounging complete, downloading files...\n",
      "adresses []\n",
      "2024-04-24 14:24:03,804-[INFO]- dropbox:390 -> Refreshing access token.\n",
      "2024-04-24 14:24:04,031-[INFO]- dropbox:474 -> Request to files/download\n",
      "2024-04-24 14:24:04,902-[INFO]- dropbox:390 -> Refreshing access token.\n",
      "2024-04-24 14:24:05,133-[INFO]- dropbox:474 -> Request to files/download\n",
      "2024-04-24 14:24:05,881-[INFO]- dropbox:390 -> Refreshing access token.\n",
      "2024-04-24 14:24:06,075-[INFO]- dropbox:474 -> Request to files/download\n",
      "2024-04-24 14:24:06,828-[INFO]- dropbox:390 -> Refreshing access token.\n",
      "2024-04-24 14:24:07,136-[INFO]- dropbox:474 -> Request to files/download\n",
      "2024-04-24 14:24:07,814-[INFO]- dropbox:390 -> Refreshing access token.\n",
      "2024-04-24 14:24:08,032-[INFO]- dropbox:474 -> Request to files/download\n",
      "2024-04-24 14:24:08,780-[INFO]- dropbox:390 -> Refreshing access token.\n",
      "2024-04-24 14:24:08,995-[INFO]- dropbox:474 -> Request to files/download\n",
      "2024-04-24 14:24:09,786-[INFO]- dropbox:390 -> Refreshing access token.\n",
      "2024-04-24 14:24:09,991-[INFO]- dropbox:474 -> Request to files/download\n",
      "2024-04-24 14:24:10,593-[INFO]- dropbox:390 -> Refreshing access token.\n",
      "2024-04-24 14:24:10,807-[INFO]- dropbox:474 -> Request to files/download\n",
      "2024-04-24 14:24:11,399-[INFO]- dropbox:390 -> Refreshing access token.\n",
      "2024-04-24 14:24:11,632-[INFO]- dropbox:474 -> Request to files/download\n",
      "2024-04-24 14:24:12,286-[INFO]- dropbox:390 -> Refreshing access token.\n",
      "2024-04-24 14:24:12,489-[INFO]- dropbox:474 -> Request to files/download\n",
      "2024-04-24 14:24:13,440-[INFO]- dropbox:390 -> Refreshing access token.\n",
      "2024-04-24 14:24:13,642-[INFO]- dropbox:474 -> Request to files/download\n",
      "2024-04-24 14:24:14,266-[INFO]- dropbox:390 -> Refreshing access token.\n",
      "2024-04-24 14:24:14,469-[INFO]- dropbox:474 -> Request to files/download\n",
      "2024-04-24 14:24:15,068-[INFO]- dropbox:390 -> Refreshing access token.\n",
      "2024-04-24 14:24:15,270-[INFO]- dropbox:474 -> Request to files/download\n",
      "2024-04-24 14:24:15,942-[INFO]- dropbox:390 -> Refreshing access token.\n",
      "2024-04-24 14:24:16,136-[INFO]- dropbox:474 -> Request to files/download\n",
      "2024-04-24 14:24:16,824-[INFO]- dropbox:390 -> Refreshing access token.\n",
      "2024-04-24 14:24:17,050-[INFO]- dropbox:474 -> Request to files/download\n",
      "2024-04-24 14:24:17,775-[INFO]- dropbox:390 -> Refreshing access token.\n",
      "2024-04-24 14:24:18,048-[INFO]- dropbox:474 -> Request to files/download\n",
      "2024-04-24 14:24:18,891-[INFO]- dropbox:390 -> Refreshing access token.\n",
      "2024-04-24 14:24:19,188-[INFO]- dropbox:474 -> Request to files/download\n",
      "2024-04-24 14:24:19,939-[INFO]- dropbox:390 -> Refreshing access token.\n",
      "2024-04-24 14:24:20,140-[INFO]- dropbox:474 -> Request to files/download\n",
      "2024-04-24 14:24:20,732-[INFO]- dropbox:390 -> Refreshing access token.\n",
      "2024-04-24 14:24:20,924-[INFO]- dropbox:474 -> Request to files/download\n",
      "2024-04-24 14:24:21,512-[INFO]- dropbox:390 -> Refreshing access token.\n",
      "2024-04-24 14:24:21,711-[INFO]- dropbox:474 -> Request to files/download\n",
      "2024-04-24 14:24:22,349-[INFO]- dropbox:390 -> Refreshing access token.\n",
      "2024-04-24 14:24:22,559-[INFO]- dropbox:474 -> Request to files/download\n",
      "2024-04-24 14:24:23,341-[INFO]- dropbox:390 -> Refreshing access token.\n",
      "2024-04-24 14:24:23,587-[INFO]- dropbox:474 -> Request to files/download\n",
      "2024-04-24 14:24:24,192-[INFO]- dropbox:390 -> Refreshing access token.\n",
      "2024-04-24 14:24:24,395-[INFO]- dropbox:474 -> Request to files/download\n",
      "2024-04-24 14:24:24,975-[INFO]- dropbox:390 -> Refreshing access token.\n",
      "2024-04-24 14:24:25,172-[INFO]- dropbox:474 -> Request to files/download\n",
      "2024-04-24 14:24:25,917-[INFO]- dropbox:390 -> Refreshing access token.\n",
      "2024-04-24 14:24:26,117-[INFO]- dropbox:474 -> Request to files/download\n",
      "2024-04-24 14:24:26,852-[INFO]- dropbox:390 -> Refreshing access token.\n",
      "2024-04-24 14:24:27,056-[INFO]- dropbox:474 -> Request to files/download\n",
      "2024-04-24 14:24:27,772-[INFO]- dropbox:390 -> Refreshing access token.\n",
      "2024-04-24 14:24:28,125-[INFO]- dropbox:474 -> Request to files/download\n",
      "2024-04-24 14:24:28,685-[INFO]- dropbox:390 -> Refreshing access token.\n",
      "2024-04-24 14:24:28,925-[INFO]- dropbox:474 -> Request to files/download\n",
      "2024-04-24 14:24:29,489-[INFO]- dropbox:390 -> Refreshing access token.\n",
      "2024-04-24 14:24:29,699-[INFO]- dropbox:474 -> Request to files/download\n",
      "2024-04-24 14:24:30,538-[INFO]- dropbox:390 -> Refreshing access token.\n",
      "2024-04-24 14:24:30,743-[INFO]- dropbox:474 -> Request to files/download\n",
      "2024-04-24 14:24:31,517-[INFO]- dropbox:390 -> Refreshing access token.\n",
      "2024-04-24 14:24:31,741-[INFO]- dropbox:474 -> Request to files/download\n",
      "2024-04-24 14:24:32,441-[INFO]- dropbox:390 -> Refreshing access token.\n",
      "2024-04-24 14:24:32,638-[INFO]- dropbox:474 -> Request to files/download\n",
      "2024-04-24 14:24:33,257-[INFO]- dropbox:390 -> Refreshing access token.\n",
      "2024-04-24 14:24:33,459-[INFO]- dropbox:474 -> Request to files/download\n",
      "2024-04-24 14:24:34,099-[INFO]- dropbox:390 -> Refreshing access token.\n",
      "2024-04-24 14:24:34,365-[INFO]- dropbox:474 -> Request to files/download\n",
      "2024-04-24 14:24:34,985-[INFO]- dropbox:390 -> Refreshing access token.\n",
      "2024-04-24 14:24:35,184-[INFO]- dropbox:474 -> Request to files/download\n",
      "2024-04-24 14:24:35,759-[INFO]- dropbox:390 -> Refreshing access token.\n",
      "2024-04-24 14:24:35,992-[INFO]- dropbox:474 -> Request to files/download\n",
      "2024-04-24 14:24:36,604-[INFO]- dropbox:390 -> Refreshing access token.\n",
      "2024-04-24 14:24:36,807-[INFO]- dropbox:474 -> Request to files/download\n",
      "2024-04-24 14:24:37,408-[INFO]- dropbox:390 -> Refreshing access token.\n",
      "2024-04-24 14:24:37,601-[INFO]- dropbox:474 -> Request to files/download\n",
      "2024-04-24 14:24:38,334-[INFO]- dropbox:390 -> Refreshing access token.\n",
      "2024-04-24 14:24:38,571-[INFO]- dropbox:474 -> Request to files/download\n",
      "2024-04-24 14:24:39,201-[INFO]- dropbox:390 -> Refreshing access token.\n",
      "2024-04-24 14:24:39,396-[INFO]- dropbox:474 -> Request to files/download\n",
      "2024-04-24 14:24:40,218-[INFO]- dropbox:390 -> Refreshing access token.\n",
      "2024-04-24 14:24:40,432-[INFO]- dropbox:474 -> Request to files/download\n",
      "2024-04-24 14:24:41,018-[INFO]- dropbox:390 -> Refreshing access token.\n",
      "2024-04-24 14:24:41,828-[INFO]- dropbox:474 -> Request to files/download\n",
      "2024-04-24 14:24:42,583-[INFO]- dropbox:390 -> Refreshing access token.\n",
      "2024-04-24 14:24:42,819-[INFO]- dropbox:474 -> Request to files/download\n",
      "2024-04-24 14:24:43,481-[INFO]- dropbox:390 -> Refreshing access token.\n",
      "2024-04-24 14:24:43,699-[INFO]- dropbox:474 -> Request to files/download\n",
      "2024-04-24 14:24:44,474-[INFO]- dropbox:390 -> Refreshing access token.\n",
      "2024-04-24 14:24:44,669-[INFO]- dropbox:474 -> Request to files/download\n",
      "2024-04-24 14:24:45,397-[INFO]- dropbox:390 -> Refreshing access token.\n",
      "2024-04-24 14:24:45,622-[INFO]- dropbox:474 -> Request to files/download\n",
      "2024-04-24 14:24:46,197-[INFO]- dropbox:390 -> Refreshing access token.\n",
      "2024-04-24 14:24:46,410-[INFO]- dropbox:474 -> Request to files/download\n",
      "2024-04-24 14:24:47,068-[INFO]- dropbox:390 -> Refreshing access token.\n",
      "2024-04-24 14:24:47,278-[INFO]- dropbox:474 -> Request to files/download\n",
      "2024-04-24 14:24:48,087-[INFO]- dropbox:390 -> Refreshing access token.\n",
      "2024-04-24 14:24:48,281-[INFO]- dropbox:474 -> Request to files/download\n",
      "2024-04-24 14:24:49,034-[INFO]- dropbox:390 -> Refreshing access token.\n",
      "2024-04-24 14:24:49,225-[INFO]- dropbox:474 -> Request to files/download\n",
      "2024-04-24 14:24:49,799-[INFO]- dropbox:390 -> Refreshing access token.\n",
      "2024-04-24 14:24:50,037-[INFO]- dropbox:474 -> Request to files/download\n",
      "2024-04-24 14:24:50,702-[INFO]- dropbox:390 -> Refreshing access token.\n",
      "2024-04-24 14:24:50,893-[INFO]- dropbox:474 -> Request to files/download\n",
      "2024-04-24 14:24:51,564-[INFO]- dropbox:390 -> Refreshing access token.\n",
      "2024-04-24 14:24:51,837-[INFO]- dropbox:474 -> Request to files/download\n",
      "2024-04-24 14:24:52,680-[INFO]- dropbox:390 -> Refreshing access token.\n",
      "2024-04-24 14:24:52,920-[INFO]- dropbox:474 -> Request to files/download\n",
      "2024-04-24 14:24:53,587-[INFO]- dropbox:390 -> Refreshing access token.\n",
      "2024-04-24 14:24:53,780-[INFO]- dropbox:474 -> Request to files/download\n",
      "2024-04-24 14:24:54,553-[INFO]- dropbox:390 -> Refreshing access token.\n",
      "2024-04-24 14:24:54,768-[INFO]- dropbox:474 -> Request to files/download\n",
      "2024-04-24 14:24:55,532-[INFO]- dropbox:390 -> Refreshing access token.\n",
      "2024-04-24 14:24:55,737-[INFO]- dropbox:474 -> Request to files/download\n",
      "2024-04-24 14:24:56,458-[INFO]- dropbox:390 -> Refreshing access token.\n",
      "2024-04-24 14:24:56,659-[INFO]- dropbox:474 -> Request to files/download\n",
      "2024-04-24 14:24:57,368-[INFO]- dropbox:390 -> Refreshing access token.\n",
      "2024-04-24 14:24:57,569-[INFO]- dropbox:474 -> Request to files/download\n",
      "2024-04-24 14:24:58,315-[INFO]- dropbox:390 -> Refreshing access token.\n",
      "2024-04-24 14:24:58,589-[INFO]- dropbox:474 -> Request to files/download\n",
      "2024-04-24 14:24:59,178-[INFO]- dropbox:390 -> Refreshing access token.\n",
      "2024-04-24 14:24:59,449-[INFO]- dropbox:474 -> Request to files/download\n",
      "2024-04-24 14:24:59,987-[INFO]- dropbox:390 -> Refreshing access token.\n",
      "2024-04-24 14:25:00,228-[INFO]- dropbox:474 -> Request to files/download\n",
      "2024-04-24 14:25:01,068-[INFO]- dropbox:390 -> Refreshing access token.\n",
      "2024-04-24 14:25:01,314-[INFO]- dropbox:474 -> Request to files/download\n",
      "2024-04-24 14:25:02,006-[INFO]- dropbox:390 -> Refreshing access token.\n",
      "2024-04-24 14:25:02,274-[INFO]- dropbox:474 -> Request to files/download\n",
      "2024-04-24 14:25:02,986-[INFO]- dropbox:390 -> Refreshing access token.\n",
      "2024-04-24 14:25:03,191-[INFO]- dropbox:474 -> Request to files/download\n",
      "2024-04-24 14:25:03,984-[INFO]- dropbox:390 -> Refreshing access token.\n",
      "2024-04-24 14:25:04,219-[INFO]- dropbox:474 -> Request to files/download\n",
      "2024-04-24 14:25:04,938-[INFO]- dropbox:390 -> Refreshing access token.\n",
      "2024-04-24 14:25:05,244-[INFO]- dropbox:474 -> Request to files/download\n",
      "2024-04-24 14:25:06,052-[INFO]- dropbox:390 -> Refreshing access token.\n",
      "2024-04-24 14:25:06,250-[INFO]- dropbox:474 -> Request to files/download\n",
      "2024-04-24 14:25:06,993-[INFO]- dropbox:390 -> Refreshing access token.\n",
      "2024-04-24 14:25:07,195-[INFO]- dropbox:474 -> Request to files/download\n",
      "2024-04-24 14:25:07,879-[INFO]- dropbox:390 -> Refreshing access token.\n",
      "2024-04-24 14:25:08,090-[INFO]- dropbox:474 -> Request to files/download\n",
      "2024-04-24 14:25:08,769-[INFO]- dropbox:390 -> Refreshing access token.\n",
      "2024-04-24 14:25:08,983-[INFO]- dropbox:474 -> Request to files/download\n",
      "2024-04-24 14:25:09,636-[INFO]- dropbox:390 -> Refreshing access token.\n",
      "2024-04-24 14:25:09,843-[INFO]- dropbox:474 -> Request to files/download\n",
      "2024-04-24 14:25:10,447-[INFO]- dropbox:390 -> Refreshing access token.\n",
      "2024-04-24 14:25:10,679-[INFO]- dropbox:474 -> Request to files/download\n",
      "2024-04-24 14:25:11,382-[INFO]- dropbox:390 -> Refreshing access token.\n",
      "2024-04-24 14:25:11,576-[INFO]- dropbox:474 -> Request to files/download\n",
      "2024-04-24 14:25:12,237-[INFO]- dropbox:390 -> Refreshing access token.\n",
      "2024-04-24 14:25:12,443-[INFO]- dropbox:474 -> Request to files/download\n",
      "2024-04-24 14:25:13,089-[INFO]- dropbox:390 -> Refreshing access token.\n",
      "2024-04-24 14:25:13,283-[INFO]- dropbox:474 -> Request to files/download\n",
      "2024-04-24 14:25:14,006-[INFO]- dropbox:390 -> Refreshing access token.\n",
      "2024-04-24 14:25:14,218-[INFO]- dropbox:474 -> Request to files/download\n",
      "2024-04-24 14:25:14,793-[INFO]- dropbox:390 -> Refreshing access token.\n",
      "2024-04-24 14:25:14,987-[INFO]- dropbox:474 -> Request to files/download\n",
      "2024-04-24 14:25:15,659-[INFO]- dropbox:390 -> Refreshing access token.\n",
      "2024-04-24 14:25:15,886-[INFO]- dropbox:474 -> Request to files/download\n",
      "2024-04-24 14:25:16,516-[INFO]- dropbox:390 -> Refreshing access token.\n",
      "2024-04-24 14:25:16,743-[INFO]- dropbox:474 -> Request to files/download\n",
      "2024-04-24 14:25:17,775-[INFO]- dropbox:390 -> Refreshing access token.\n",
      "2024-04-24 14:25:17,979-[INFO]- dropbox:474 -> Request to files/download\n",
      "2024-04-24 14:25:18,696-[INFO]- dropbox:390 -> Refreshing access token.\n",
      "2024-04-24 14:25:18,891-[INFO]- dropbox:474 -> Request to files/download\n",
      "2024-04-24 14:25:19,550-[INFO]- dropbox:390 -> Refreshing access token.\n",
      "2024-04-24 14:25:19,783-[INFO]- dropbox:474 -> Request to files/download\n",
      "2024-04-24 14:25:20,617-[INFO]- dropbox:390 -> Refreshing access token.\n",
      "2024-04-24 14:25:20,813-[INFO]- dropbox:474 -> Request to files/download\n",
      "2024-04-24 14:25:21,456-[INFO]- dropbox:390 -> Refreshing access token.\n",
      "2024-04-24 14:25:21,757-[INFO]- dropbox:474 -> Request to files/download\n",
      "2024-04-24 14:25:22,350-[INFO]- dropbox:390 -> Refreshing access token.\n",
      "2024-04-24 14:25:22,666-[INFO]- dropbox:474 -> Request to files/download\n",
      "2024-04-24 14:25:23,451-[INFO]- dropbox:390 -> Refreshing access token.\n",
      "2024-04-24 14:25:23,649-[INFO]- dropbox:474 -> Request to files/download\n",
      "2024-04-24 14:25:24,545-[INFO]- dropbox:390 -> Refreshing access token.\n",
      "2024-04-24 14:25:24,764-[INFO]- dropbox:474 -> Request to files/download\n",
      "2024-04-24 14:25:25,506-[INFO]- dropbox:390 -> Refreshing access token.\n",
      "2024-04-24 14:25:25,705-[INFO]- dropbox:474 -> Request to files/download\n",
      "2024-04-24 14:25:26,585-[INFO]- dropbox:390 -> Refreshing access token.\n",
      "2024-04-24 14:25:26,844-[INFO]- dropbox:474 -> Request to files/download\n",
      "2024-04-24 14:25:27,471-[INFO]- dropbox:390 -> Refreshing access token.\n",
      "2024-04-24 14:25:27,676-[INFO]- dropbox:474 -> Request to files/download\n",
      "2024-04-24 14:25:28,229-[INFO]- dropbox:390 -> Refreshing access token.\n",
      "2024-04-24 14:25:28,470-[INFO]- dropbox:474 -> Request to files/download\n",
      "2024-04-24 14:25:29,160-[INFO]- dropbox:390 -> Refreshing access token.\n",
      "2024-04-24 14:25:29,390-[INFO]- dropbox:474 -> Request to files/download\n",
      "2024-04-24 14:25:30,173-[INFO]- dropbox:390 -> Refreshing access token.\n",
      "2024-04-24 14:25:30,394-[INFO]- dropbox:474 -> Request to files/download\n",
      "2024-04-24 14:25:31,037-[INFO]- dropbox:390 -> Refreshing access token.\n",
      "2024-04-24 14:25:31,244-[INFO]- dropbox:474 -> Request to files/download\n",
      "2024-04-24 14:25:31,946-[INFO]- dropbox:390 -> Refreshing access token.\n",
      "2024-04-24 14:25:32,164-[INFO]- dropbox:474 -> Request to files/download\n",
      "2024-04-24 14:25:32,862-[INFO]- dropbox:390 -> Refreshing access token.\n",
      "2024-04-24 14:25:33,124-[INFO]- dropbox:474 -> Request to files/download\n",
      "2024-04-24 14:25:33,870-[INFO]- dropbox:390 -> Refreshing access token.\n",
      "2024-04-24 14:25:34,081-[INFO]- dropbox:474 -> Request to files/download\n",
      "2024-04-24 14:25:34,786-[INFO]- dropbox:390 -> Refreshing access token.\n",
      "2024-04-24 14:25:35,051-[INFO]- dropbox:474 -> Request to files/download\n",
      "2024-04-24 14:25:35,883-[INFO]- dropbox:390 -> Refreshing access token.\n",
      "2024-04-24 14:25:36,100-[INFO]- dropbox:474 -> Request to files/download\n",
      "2024-04-24 14:25:36,804-[INFO]- dropbox:390 -> Refreshing access token.\n",
      "2024-04-24 14:25:37,013-[INFO]- dropbox:474 -> Request to files/download\n",
      "2024-04-24 14:25:37,797-[INFO]- dropbox:390 -> Refreshing access token.\n",
      "2024-04-24 14:25:37,999-[INFO]- dropbox:474 -> Request to files/download\n",
      "2024-04-24 14:25:38,610-[INFO]- dropbox:390 -> Refreshing access token.\n",
      "2024-04-24 14:25:39,001-[INFO]- dropbox:474 -> Request to files/download\n",
      "2024-04-24 14:25:39,738-[INFO]- dropbox:390 -> Refreshing access token.\n",
      "2024-04-24 14:25:39,960-[INFO]- dropbox:474 -> Request to files/download\n",
      "2024-04-24 14:25:40,684-[INFO]- dropbox:390 -> Refreshing access token.\n",
      "2024-04-24 14:25:40,887-[INFO]- dropbox:474 -> Request to files/download\n",
      "2024-04-24 14:25:41,665-[INFO]- dropbox:390 -> Refreshing access token.\n",
      "2024-04-24 14:25:41,894-[INFO]- dropbox:474 -> Request to files/download\n",
      "2024-04-24 14:25:42,549-[INFO]- dropbox:390 -> Refreshing access token.\n",
      "2024-04-24 14:25:42,780-[INFO]- dropbox:474 -> Request to files/download\n",
      "2024-04-24 14:25:43,343-[INFO]- dropbox:390 -> Refreshing access token.\n",
      "2024-04-24 14:25:43,567-[INFO]- dropbox:474 -> Request to files/download\n",
      "2024-04-24 14:25:44,301-[INFO]- dropbox:390 -> Refreshing access token.\n",
      "2024-04-24 14:25:44,541-[INFO]- dropbox:474 -> Request to files/download\n",
      "2024-04-24 14:25:45,403-[INFO]- dropbox:390 -> Refreshing access token.\n",
      "2024-04-24 14:25:45,617-[INFO]- dropbox:474 -> Request to files/download\n",
      "2024-04-24 14:25:46,257-[INFO]- dropbox:390 -> Refreshing access token.\n",
      "2024-04-24 14:25:46,454-[INFO]- dropbox:474 -> Request to files/download\n",
      "2024-04-24 14:25:47,011-[INFO]- dropbox:390 -> Refreshing access token.\n",
      "2024-04-24 14:25:47,223-[INFO]- dropbox:474 -> Request to files/download\n",
      "2024-04-24 14:25:48,213-[INFO]- dropbox:390 -> Refreshing access token.\n",
      "2024-04-24 14:25:48,417-[INFO]- dropbox:474 -> Request to files/download\n",
      "2024-04-24 14:25:49,034-[INFO]- dropbox:390 -> Refreshing access token.\n",
      "2024-04-24 14:25:49,237-[INFO]- dropbox:474 -> Request to files/download\n",
      "2024-04-24 14:25:49,943-[INFO]- dropbox:390 -> Refreshing access token.\n",
      "2024-04-24 14:25:50,142-[INFO]- dropbox:474 -> Request to files/download\n",
      "2024-04-24 14:25:50,892-[INFO]- dropbox:390 -> Refreshing access token.\n",
      "2024-04-24 14:25:51,296-[INFO]- dropbox:474 -> Request to files/download\n",
      "2024-04-24 14:25:52,013-[INFO]- dropbox:390 -> Refreshing access token.\n",
      "2024-04-24 14:25:52,224-[INFO]- dropbox:474 -> Request to files/download\n",
      "2024-04-24 14:25:52,908-[INFO]- dropbox:390 -> Refreshing access token.\n",
      "2024-04-24 14:25:53,100-[INFO]- dropbox:474 -> Request to files/download\n",
      "2024-04-24 14:25:53,873-[INFO]- dropbox:390 -> Refreshing access token.\n",
      "2024-04-24 14:25:54,066-[INFO]- dropbox:474 -> Request to files/download\n",
      "2024-04-24 14:25:54,652-[INFO]- dropbox:390 -> Refreshing access token.\n",
      "2024-04-24 14:25:54,892-[INFO]- dropbox:474 -> Request to files/download\n",
      "2024-04-24 14:25:55,618-[INFO]- dropbox:390 -> Refreshing access token.\n",
      "2024-04-24 14:25:55,809-[INFO]- dropbox:474 -> Request to files/download\n",
      "2024-04-24 14:25:56,522-[INFO]- dropbox:390 -> Refreshing access token.\n",
      "2024-04-24 14:25:56,735-[INFO]- dropbox:474 -> Request to files/download\n",
      "2024-04-24 14:25:57,467-[INFO]- dropbox:390 -> Refreshing access token.\n",
      "2024-04-24 14:25:57,675-[INFO]- dropbox:474 -> Request to files/download\n",
      "2024-04-24 14:25:58,272-[INFO]- dropbox:390 -> Refreshing access token.\n",
      "2024-04-24 14:25:58,486-[INFO]- dropbox:474 -> Request to files/download\n",
      "2024-04-24 14:25:59,074-[INFO]- dropbox:390 -> Refreshing access token.\n",
      "2024-04-24 14:25:59,294-[INFO]- dropbox:474 -> Request to files/download\n",
      "2024-04-24 14:26:00,043-[INFO]- dropbox:390 -> Refreshing access token.\n",
      "2024-04-24 14:26:00,240-[INFO]- dropbox:474 -> Request to files/download\n",
      "2024-04-24 14:26:00,981-[INFO]- dropbox:390 -> Refreshing access token.\n",
      "2024-04-24 14:26:01,220-[INFO]- dropbox:474 -> Request to files/download\n",
      "2024-04-24 14:26:01,876-[INFO]- dropbox:390 -> Refreshing access token.\n",
      "2024-04-24 14:26:02,070-[INFO]- dropbox:474 -> Request to files/download\n",
      "2024-04-24 14:26:02,701-[INFO]- dropbox:390 -> Refreshing access token.\n",
      "2024-04-24 14:26:02,906-[INFO]- dropbox:474 -> Request to files/download\n",
      "2024-04-24 14:26:03,499-[INFO]- dropbox:390 -> Refreshing access token.\n",
      "2024-04-24 14:26:03,691-[INFO]- dropbox:474 -> Request to files/download\n",
      "2024-04-24 14:26:04,461-[INFO]- dropbox:390 -> Refreshing access token.\n",
      "2024-04-24 14:26:04,660-[INFO]- dropbox:474 -> Request to files/download\n",
      "2024-04-24 14:26:05,366-[INFO]- dropbox:390 -> Refreshing access token.\n",
      "2024-04-24 14:26:05,568-[INFO]- dropbox:474 -> Request to files/download\n",
      "2024-04-24 14:26:06,306-[INFO]- dropbox:390 -> Refreshing access token.\n",
      "2024-04-24 14:26:06,517-[INFO]- dropbox:474 -> Request to files/download\n",
      "2024-04-24 14:26:07,267-[INFO]- dropbox:390 -> Refreshing access token.\n",
      "2024-04-24 14:26:07,480-[INFO]- dropbox:474 -> Request to files/download\n",
      "2024-04-24 14:26:08,131-[INFO]- dropbox:390 -> Refreshing access token.\n",
      "2024-04-24 14:26:08,335-[INFO]- dropbox:474 -> Request to files/download\n",
      "2024-04-24 14:26:08,993-[INFO]- dropbox:390 -> Refreshing access token.\n",
      "2024-04-24 14:26:09,254-[INFO]- dropbox:474 -> Request to files/download\n",
      "2024-04-24 14:26:09,974-[INFO]- dropbox:390 -> Refreshing access token.\n",
      "2024-04-24 14:26:10,169-[INFO]- dropbox:474 -> Request to files/download\n",
      "2024-04-24 14:26:10,815-[INFO]- dropbox:390 -> Refreshing access token.\n",
      "2024-04-24 14:26:11,129-[INFO]- dropbox:474 -> Request to files/download\n",
      "2024-04-24 14:26:11,812-[INFO]- dropbox:390 -> Refreshing access token.\n",
      "2024-04-24 14:26:12,169-[INFO]- dropbox:474 -> Request to files/download\n",
      "2024-04-24 14:26:12,859-[INFO]- dropbox:390 -> Refreshing access token.\n",
      "2024-04-24 14:26:13,231-[INFO]- dropbox:474 -> Request to files/download\n",
      "2024-04-24 14:26:13,879-[INFO]- dropbox:390 -> Refreshing access token.\n",
      "2024-04-24 14:26:14,098-[INFO]- dropbox:474 -> Request to files/download\n",
      "2024-04-24 14:26:14,722-[INFO]- dropbox:390 -> Refreshing access token.\n",
      "2024-04-24 14:26:14,968-[INFO]- dropbox:474 -> Request to files/download\n",
      "2024-04-24 14:26:15,563-[INFO]- dropbox:390 -> Refreshing access token.\n",
      "2024-04-24 14:26:15,762-[INFO]- dropbox:474 -> Request to files/download\n",
      "2024-04-24 14:26:16,722-[INFO]- dropbox:390 -> Refreshing access token.\n",
      "2024-04-24 14:26:16,923-[INFO]- dropbox:474 -> Request to files/download\n",
      "2024-04-24 14:26:17,759-[INFO]- dropbox:390 -> Refreshing access token.\n",
      "2024-04-24 14:26:17,960-[INFO]- dropbox:474 -> Request to files/download\n",
      "2024-04-24 14:26:19,277-[INFO]- dropbox:390 -> Refreshing access token.\n",
      "2024-04-24 14:26:19,476-[INFO]- dropbox:474 -> Request to files/download\n",
      "2024-04-24 14:26:20,176-[INFO]- dropbox:390 -> Refreshing access token.\n",
      "2024-04-24 14:26:20,412-[INFO]- dropbox:474 -> Request to files/download\n",
      "2024-04-24 14:26:21,137-[INFO]- dropbox:390 -> Refreshing access token.\n",
      "2024-04-24 14:26:21,378-[INFO]- dropbox:474 -> Request to files/download\n",
      "2024-04-24 14:26:22,012-[INFO]- dropbox:390 -> Refreshing access token.\n",
      "2024-04-24 14:26:22,292-[INFO]- dropbox:474 -> Request to files/download\n",
      "2024-04-24 14:26:23,008-[INFO]- dropbox:390 -> Refreshing access token.\n",
      "2024-04-24 14:26:23,310-[INFO]- dropbox:474 -> Request to files/download\n",
      "2024-04-24 14:26:23,897-[INFO]- dropbox:390 -> Refreshing access token.\n",
      "2024-04-24 14:26:24,144-[INFO]- dropbox:474 -> Request to files/download\n",
      "2024-04-24 14:26:24,922-[INFO]- dropbox:390 -> Refreshing access token.\n",
      "2024-04-24 14:26:25,113-[INFO]- dropbox:474 -> Request to files/download\n",
      "2024-04-24 14:26:25,782-[INFO]- dropbox:390 -> Refreshing access token.\n",
      "2024-04-24 14:26:25,974-[INFO]- dropbox:474 -> Request to files/download\n",
      "2024-04-24 14:26:26,998-[INFO]- dropbox:390 -> Refreshing access token.\n",
      "2024-04-24 14:26:27,204-[INFO]- dropbox:474 -> Request to files/download\n",
      "2024-04-24 14:26:28,007-[INFO]- dropbox:390 -> Refreshing access token.\n",
      "2024-04-24 14:26:28,218-[INFO]- dropbox:474 -> Request to files/download\n",
      "2024-04-24 14:26:28,823-[INFO]- dropbox:390 -> Refreshing access token.\n",
      "2024-04-24 14:26:29,025-[INFO]- dropbox:474 -> Request to files/download\n",
      "2024-04-24 14:26:29,704-[INFO]- dropbox:390 -> Refreshing access token.\n",
      "2024-04-24 14:26:29,913-[INFO]- dropbox:474 -> Request to files/download\n",
      "2024-04-24 14:26:30,485-[INFO]- dropbox:390 -> Refreshing access token.\n",
      "2024-04-24 14:26:30,702-[INFO]- dropbox:474 -> Request to files/download\n",
      "2024-04-24 14:26:31,319-[INFO]- dropbox:390 -> Refreshing access token.\n",
      "2024-04-24 14:26:31,510-[INFO]- dropbox:474 -> Request to files/download\n",
      "2024-04-24 14:26:32,212-[INFO]- dropbox:390 -> Refreshing access token.\n",
      "2024-04-24 14:26:32,489-[INFO]- dropbox:474 -> Request to files/download\n",
      "2024-04-24 14:26:33,148-[INFO]- dropbox:390 -> Refreshing access token.\n",
      "2024-04-24 14:26:33,380-[INFO]- dropbox:474 -> Request to files/download\n",
      "2024-04-24 14:26:33,920-[INFO]- dropbox:390 -> Refreshing access token.\n",
      "2024-04-24 14:26:34,172-[INFO]- dropbox:474 -> Request to files/download\n",
      "2024-04-24 14:26:34,743-[INFO]- dropbox:390 -> Refreshing access token.\n",
      "2024-04-24 14:26:34,970-[INFO]- dropbox:474 -> Request to files/download\n",
      "2024-04-24 14:26:35,610-[INFO]- dropbox:390 -> Refreshing access token.\n",
      "2024-04-24 14:26:35,822-[INFO]- dropbox:474 -> Request to files/download\n",
      "2024-04-24 14:26:36,440-[INFO]- dropbox:390 -> Refreshing access token.\n",
      "2024-04-24 14:26:36,662-[INFO]- dropbox:474 -> Request to files/download\n",
      "2024-04-24 14:26:37,385-[INFO]- dropbox:390 -> Refreshing access token.\n",
      "2024-04-24 14:26:37,589-[INFO]- dropbox:474 -> Request to files/download\n",
      "2024-04-24 14:26:38,215-[INFO]- dropbox:390 -> Refreshing access token.\n",
      "2024-04-24 14:26:38,444-[INFO]- dropbox:474 -> Request to files/download\n",
      "2024-04-24 14:26:39,198-[INFO]- dropbox:390 -> Refreshing access token.\n",
      "2024-04-24 14:26:39,403-[INFO]- dropbox:474 -> Request to files/download\n",
      "2024-04-24 14:26:40,273-[INFO]- dropbox:390 -> Refreshing access token.\n",
      "2024-04-24 14:26:40,520-[INFO]- dropbox:474 -> Request to files/download\n",
      "2024-04-24 14:26:41,162-[INFO]- dropbox:390 -> Refreshing access token.\n",
      "2024-04-24 14:26:41,396-[INFO]- dropbox:474 -> Request to files/download\n",
      "2024-04-24 14:26:42,072-[INFO]- dropbox:390 -> Refreshing access token.\n",
      "2024-04-24 14:26:42,320-[INFO]- dropbox:474 -> Request to files/download\n",
      "2024-04-24 14:26:43,266-[INFO]- dropbox:390 -> Refreshing access token.\n",
      "2024-04-24 14:26:43,469-[INFO]- dropbox:474 -> Request to files/download\n",
      "2024-04-24 14:26:44,124-[INFO]- dropbox:390 -> Refreshing access token.\n",
      "2024-04-24 14:26:44,355-[INFO]- dropbox:474 -> Request to files/download\n",
      "2024-04-24 14:26:45,252-[INFO]- dropbox:390 -> Refreshing access token.\n",
      "2024-04-24 14:26:45,486-[INFO]- dropbox:474 -> Request to files/download\n",
      "2024-04-24 14:26:48,172-[INFO]- dropbox:390 -> Refreshing access token.\n",
      "2024-04-24 14:26:48,365-[INFO]- dropbox:474 -> Request to files/download\n",
      "2024-04-24 14:26:49,019-[INFO]- dropbox:390 -> Refreshing access token.\n",
      "2024-04-24 14:26:49,216-[INFO]- dropbox:474 -> Request to files/download\n",
      "2024-04-24 14:26:49,757-[INFO]- dropbox:390 -> Refreshing access token.\n",
      "2024-04-24 14:26:49,957-[INFO]- dropbox:474 -> Request to files/download\n",
      "2024-04-24 14:26:50,885-[INFO]- dropbox:390 -> Refreshing access token.\n",
      "2024-04-24 14:26:51,094-[INFO]- dropbox:474 -> Request to files/download\n",
      "2024-04-24 14:26:51,771-[INFO]- dropbox:390 -> Refreshing access token.\n",
      "2024-04-24 14:26:51,972-[INFO]- dropbox:474 -> Request to files/download\n",
      "2024-04-24 14:26:52,643-[INFO]- dropbox:390 -> Refreshing access token.\n",
      "2024-04-24 14:26:52,838-[INFO]- dropbox:474 -> Request to files/download\n",
      "2024-04-24 14:26:53,530-[INFO]- dropbox:390 -> Refreshing access token.\n",
      "2024-04-24 14:26:53,752-[INFO]- dropbox:474 -> Request to files/download\n",
      "2024-04-24 14:26:54,445-[INFO]- dropbox:390 -> Refreshing access token.\n",
      "2024-04-24 14:26:54,695-[INFO]- dropbox:474 -> Request to files/download\n",
      "2024-04-24 14:26:55,435-[INFO]- dropbox:390 -> Refreshing access token.\n",
      "2024-04-24 14:26:55,701-[INFO]- dropbox:474 -> Request to files/download\n",
      "2024-04-24 14:26:56,365-[INFO]- dropbox:390 -> Refreshing access token.\n",
      "2024-04-24 14:26:56,566-[INFO]- dropbox:474 -> Request to files/download\n",
      "2024-04-24 14:26:57,196-[INFO]- dropbox:390 -> Refreshing access token.\n",
      "2024-04-24 14:26:57,416-[INFO]- dropbox:474 -> Request to files/download\n",
      "2024-04-24 14:26:58,102-[INFO]- dropbox:390 -> Refreshing access token.\n",
      "2024-04-24 14:26:58,297-[INFO]- dropbox:474 -> Request to files/download\n",
      "2024-04-24 14:26:58,992-[INFO]- dropbox:390 -> Refreshing access token.\n",
      "2024-04-24 14:26:59,281-[INFO]- dropbox:474 -> Request to files/download\n",
      "2024-04-24 14:26:59,948-[INFO]- dropbox:390 -> Refreshing access token.\n",
      "2024-04-24 14:27:00,150-[INFO]- dropbox:474 -> Request to files/download\n",
      "2024-04-24 14:27:00,856-[INFO]- dropbox:390 -> Refreshing access token.\n",
      "2024-04-24 14:27:01,074-[INFO]- dropbox:474 -> Request to files/download\n",
      "2024-04-24 14:27:01,683-[INFO]- dropbox:390 -> Refreshing access token.\n",
      "2024-04-24 14:27:01,934-[INFO]- dropbox:474 -> Request to files/download\n",
      "2024-04-24 14:27:02,591-[INFO]- dropbox:390 -> Refreshing access token.\n",
      "2024-04-24 14:27:02,789-[INFO]- dropbox:474 -> Request to files/download\n",
      "2024-04-24 14:27:03,638-[INFO]- dropbox:390 -> Refreshing access token.\n",
      "2024-04-24 14:27:03,839-[INFO]- dropbox:474 -> Request to files/download\n",
      "2024-04-24 14:27:04,593-[INFO]- dropbox:390 -> Refreshing access token.\n",
      "2024-04-24 14:27:04,787-[INFO]- dropbox:474 -> Request to files/download\n",
      "2024-04-24 14:27:05,485-[INFO]- dropbox:390 -> Refreshing access token.\n",
      "2024-04-24 14:27:05,726-[INFO]- dropbox:474 -> Request to files/download\n",
      "2024-04-24 14:27:06,653-[INFO]- dropbox:390 -> Refreshing access token.\n",
      "2024-04-24 14:27:06,892-[INFO]- dropbox:474 -> Request to files/download\n",
      "2024-04-24 14:27:07,492-[INFO]- dropbox:390 -> Refreshing access token.\n",
      "2024-04-24 14:27:07,689-[INFO]- dropbox:474 -> Request to files/download\n",
      "All files downloaded! Merging files...\n"
     ]
    },
    {
     "name": "stderr",
     "output_type": "stream",
     "text": [
      "100%|████████████████████████████████████████████████████████████████████████████████| 196/196 [00:01<00:00, 130.58it/s]\n"
     ]
    }
   ],
   "source": [
    "for name in names:\n",
    "    video_param_frame = index_videos_dropbox_new(\n",
    "        analysis_folder,\n",
    "        videos_folder,\n",
    "        f\"{dropbox_address}{name}/\",\n",
    "        REDO_SCROUNGING=True,\n",
    "        # date_start=20230801,\n",
    "        # date_end=20230813,\n",
    "        plate_names=None,\n",
    "    )"
   ]
  },
  {
   "cell_type": "code",
   "execution_count": 6,
   "metadata": {
    "collapsed": true,
    "jupyter": {
     "outputs_hidden": true
    },
    "tags": []
   },
   "outputs": [
    {
     "data": {
      "text/html": [
       "<div>\n",
       "<style scoped>\n",
       "    .dataframe tbody tr th:only-of-type {\n",
       "        vertical-align: middle;\n",
       "    }\n",
       "\n",
       "    .dataframe tbody tr th {\n",
       "        vertical-align: top;\n",
       "    }\n",
       "\n",
       "    .dataframe thead th {\n",
       "        text-align: right;\n",
       "    }\n",
       "</style>\n",
       "<table border=\"1\" class=\"dataframe\">\n",
       "  <thead>\n",
       "    <tr style=\"text-align: right;\">\n",
       "      <th></th>\n",
       "      <th>imaging_day</th>\n",
       "      <th>storage_path</th>\n",
       "      <th>plate_id</th>\n",
       "      <th>root</th>\n",
       "      <th>strain</th>\n",
       "      <th>treatment</th>\n",
       "      <th>crossing_day</th>\n",
       "      <th>video_int</th>\n",
       "      <th>time_(s)</th>\n",
       "      <th>mode</th>\n",
       "      <th>...</th>\n",
       "      <th>ypos</th>\n",
       "      <th>zpos</th>\n",
       "      <th>unique_id</th>\n",
       "      <th>folder</th>\n",
       "      <th>tot_path_drop</th>\n",
       "      <th>record_time</th>\n",
       "      <th>days_after_crossing</th>\n",
       "      <th>magnification</th>\n",
       "      <th>analysis_folder</th>\n",
       "      <th>videos_folder</th>\n",
       "    </tr>\n",
       "  </thead>\n",
       "  <tbody>\n",
       "    <tr>\n",
       "      <th>0</th>\n",
       "      <td>20230811</td>\n",
       "      <td>Dropbox\\DATA\\CocoTransport</td>\n",
       "      <td>20230811_Plate441</td>\n",
       "      <td>Carrot</td>\n",
       "      <td>C2</td>\n",
       "      <td>001P100N100C</td>\n",
       "      <td>20230807</td>\n",
       "      <td>1</td>\n",
       "      <td>30.0</td>\n",
       "      <td>F</td>\n",
       "      <td>...</td>\n",
       "      <td>1.810</td>\n",
       "      <td>13.319</td>\n",
       "      <td>20230811_Plate441_001</td>\n",
       "      <td>CocoTransport/20230811_Plate441/001/Img</td>\n",
       "      <td>DATA/CocoTransport/20230811_Plate441/001/Img</td>\n",
       "      <td>17:08:01</td>\n",
       "      <td>4</td>\n",
       "      <td>4.0</td>\n",
       "      <td>NaN</td>\n",
       "      <td>NaN</td>\n",
       "    </tr>\n",
       "    <tr>\n",
       "      <th>1</th>\n",
       "      <td>20230811</td>\n",
       "      <td>Dropbox\\DATA\\CocoTransport</td>\n",
       "      <td>20230811_Plate441</td>\n",
       "      <td>Carrot</td>\n",
       "      <td>C2</td>\n",
       "      <td>001P100N100C</td>\n",
       "      <td>20230807</td>\n",
       "      <td>2</td>\n",
       "      <td>20.0</td>\n",
       "      <td>BF</td>\n",
       "      <td>...</td>\n",
       "      <td>2.119</td>\n",
       "      <td>13.301</td>\n",
       "      <td>20230811_Plate441_002</td>\n",
       "      <td>CocoTransport/20230811_Plate441/002/Img</td>\n",
       "      <td>DATA/CocoTransport/20230811_Plate441/002/Img</td>\n",
       "      <td>17:10:17</td>\n",
       "      <td>4</td>\n",
       "      <td>4.0</td>\n",
       "      <td>NaN</td>\n",
       "      <td>NaN</td>\n",
       "    </tr>\n",
       "    <tr>\n",
       "      <th>2</th>\n",
       "      <td>20230811</td>\n",
       "      <td>Dropbox\\DATA\\CocoTransport</td>\n",
       "      <td>20230811_Plate441</td>\n",
       "      <td>Carrot</td>\n",
       "      <td>C2</td>\n",
       "      <td>001P100N100C</td>\n",
       "      <td>20230807</td>\n",
       "      <td>3</td>\n",
       "      <td>20.0</td>\n",
       "      <td>F</td>\n",
       "      <td>...</td>\n",
       "      <td>2.119</td>\n",
       "      <td>13.301</td>\n",
       "      <td>20230811_Plate441_003</td>\n",
       "      <td>CocoTransport/20230811_Plate441/003/Img</td>\n",
       "      <td>DATA/CocoTransport/20230811_Plate441/003/Img</td>\n",
       "      <td>17:10:55</td>\n",
       "      <td>4</td>\n",
       "      <td>4.0</td>\n",
       "      <td>NaN</td>\n",
       "      <td>NaN</td>\n",
       "    </tr>\n",
       "    <tr>\n",
       "      <th>3</th>\n",
       "      <td>20230811</td>\n",
       "      <td>Dropbox\\DATA\\CocoTransport</td>\n",
       "      <td>20230811_Plate441</td>\n",
       "      <td>Carrot</td>\n",
       "      <td>C2</td>\n",
       "      <td>001P100N100C</td>\n",
       "      <td>20230807</td>\n",
       "      <td>5</td>\n",
       "      <td>20.0</td>\n",
       "      <td>BF</td>\n",
       "      <td>...</td>\n",
       "      <td>0.536</td>\n",
       "      <td>13.236</td>\n",
       "      <td>20230811_Plate441_005</td>\n",
       "      <td>CocoTransport/20230811_Plate441/005/Img</td>\n",
       "      <td>DATA/CocoTransport/20230811_Plate441/005/Img</td>\n",
       "      <td>17:13:58</td>\n",
       "      <td>4</td>\n",
       "      <td>4.0</td>\n",
       "      <td>NaN</td>\n",
       "      <td>NaN</td>\n",
       "    </tr>\n",
       "    <tr>\n",
       "      <th>4</th>\n",
       "      <td>20230811</td>\n",
       "      <td>Dropbox\\DATA\\CocoTransport</td>\n",
       "      <td>20230811_Plate441</td>\n",
       "      <td>Carrot</td>\n",
       "      <td>C2</td>\n",
       "      <td>001P100N100C</td>\n",
       "      <td>20230807</td>\n",
       "      <td>6</td>\n",
       "      <td>20.0</td>\n",
       "      <td>F</td>\n",
       "      <td>...</td>\n",
       "      <td>0.536</td>\n",
       "      <td>13.236</td>\n",
       "      <td>20230811_Plate441_006</td>\n",
       "      <td>CocoTransport/20230811_Plate441/006/Img</td>\n",
       "      <td>DATA/CocoTransport/20230811_Plate441/006/Img</td>\n",
       "      <td>17:16:30</td>\n",
       "      <td>4</td>\n",
       "      <td>4.0</td>\n",
       "      <td>NaN</td>\n",
       "      <td>NaN</td>\n",
       "    </tr>\n",
       "    <tr>\n",
       "      <th>5</th>\n",
       "      <td>20230811</td>\n",
       "      <td>Dropbox\\DATA\\CocoTransport</td>\n",
       "      <td>20230811_Plate441</td>\n",
       "      <td>Carrot</td>\n",
       "      <td>C2</td>\n",
       "      <td>001P100N100C</td>\n",
       "      <td>20230807</td>\n",
       "      <td>7</td>\n",
       "      <td>10.0</td>\n",
       "      <td>BF</td>\n",
       "      <td>...</td>\n",
       "      <td>-1.494</td>\n",
       "      <td>13.271</td>\n",
       "      <td>20230811_Plate441_007</td>\n",
       "      <td>CocoTransport/20230811_Plate441/007/Img</td>\n",
       "      <td>DATA/CocoTransport/20230811_Plate441/007/Img</td>\n",
       "      <td>17:19:17</td>\n",
       "      <td>4</td>\n",
       "      <td>4.0</td>\n",
       "      <td>NaN</td>\n",
       "      <td>NaN</td>\n",
       "    </tr>\n",
       "    <tr>\n",
       "      <th>6</th>\n",
       "      <td>20230811</td>\n",
       "      <td>Dropbox\\DATA\\CocoTransport</td>\n",
       "      <td>20230811_Plate441</td>\n",
       "      <td>Carrot</td>\n",
       "      <td>C2</td>\n",
       "      <td>001P100N100C</td>\n",
       "      <td>20230807</td>\n",
       "      <td>8</td>\n",
       "      <td>10.0</td>\n",
       "      <td>F</td>\n",
       "      <td>...</td>\n",
       "      <td>-1.494</td>\n",
       "      <td>13.271</td>\n",
       "      <td>20230811_Plate441_008</td>\n",
       "      <td>CocoTransport/20230811_Plate441/008/Img</td>\n",
       "      <td>DATA/CocoTransport/20230811_Plate441/008/Img</td>\n",
       "      <td>17:19:43</td>\n",
       "      <td>4</td>\n",
       "      <td>4.0</td>\n",
       "      <td>NaN</td>\n",
       "      <td>NaN</td>\n",
       "    </tr>\n",
       "    <tr>\n",
       "      <th>7</th>\n",
       "      <td>20230811</td>\n",
       "      <td>Dropbox\\DATA\\CocoTransport</td>\n",
       "      <td>20230811_Plate441</td>\n",
       "      <td>Carrot</td>\n",
       "      <td>C2</td>\n",
       "      <td>001P100N100C</td>\n",
       "      <td>20230807</td>\n",
       "      <td>9</td>\n",
       "      <td>10.0</td>\n",
       "      <td>BF</td>\n",
       "      <td>...</td>\n",
       "      <td>-4.609</td>\n",
       "      <td>13.252</td>\n",
       "      <td>20230811_Plate441_009</td>\n",
       "      <td>CocoTransport/20230811_Plate441/009/Img</td>\n",
       "      <td>DATA/CocoTransport/20230811_Plate441/009/Img</td>\n",
       "      <td>17:21:17</td>\n",
       "      <td>4</td>\n",
       "      <td>4.0</td>\n",
       "      <td>NaN</td>\n",
       "      <td>NaN</td>\n",
       "    </tr>\n",
       "    <tr>\n",
       "      <th>8</th>\n",
       "      <td>20230811</td>\n",
       "      <td>Dropbox\\DATA\\CocoTransport</td>\n",
       "      <td>20230811_Plate441</td>\n",
       "      <td>Carrot</td>\n",
       "      <td>C2</td>\n",
       "      <td>001P100N100C</td>\n",
       "      <td>20230807</td>\n",
       "      <td>10</td>\n",
       "      <td>20.0</td>\n",
       "      <td>F</td>\n",
       "      <td>...</td>\n",
       "      <td>-4.609</td>\n",
       "      <td>13.252</td>\n",
       "      <td>20230811_Plate441_010</td>\n",
       "      <td>CocoTransport/20230811_Plate441/010/Img</td>\n",
       "      <td>DATA/CocoTransport/20230811_Plate441/010/Img</td>\n",
       "      <td>17:21:51</td>\n",
       "      <td>4</td>\n",
       "      <td>4.0</td>\n",
       "      <td>NaN</td>\n",
       "      <td>NaN</td>\n",
       "    </tr>\n",
       "    <tr>\n",
       "      <th>9</th>\n",
       "      <td>20230811</td>\n",
       "      <td>Dropbox\\DATA\\CocoTransport</td>\n",
       "      <td>20230811_Plate441</td>\n",
       "      <td>Carrot</td>\n",
       "      <td>C2</td>\n",
       "      <td>001P100N100C</td>\n",
       "      <td>20230807</td>\n",
       "      <td>11</td>\n",
       "      <td>10.0</td>\n",
       "      <td>BF</td>\n",
       "      <td>...</td>\n",
       "      <td>-6.129</td>\n",
       "      <td>13.311</td>\n",
       "      <td>20230811_Plate441_011</td>\n",
       "      <td>CocoTransport/20230811_Plate441/011/Img</td>\n",
       "      <td>DATA/CocoTransport/20230811_Plate441/011/Img</td>\n",
       "      <td>17:22:45</td>\n",
       "      <td>4</td>\n",
       "      <td>4.0</td>\n",
       "      <td>NaN</td>\n",
       "      <td>NaN</td>\n",
       "    </tr>\n",
       "    <tr>\n",
       "      <th>10</th>\n",
       "      <td>20230811</td>\n",
       "      <td>Dropbox\\DATA\\CocoTransport</td>\n",
       "      <td>20230811_Plate441</td>\n",
       "      <td>Carrot</td>\n",
       "      <td>C2</td>\n",
       "      <td>001P100N100C</td>\n",
       "      <td>20230807</td>\n",
       "      <td>12</td>\n",
       "      <td>20.0</td>\n",
       "      <td>F</td>\n",
       "      <td>...</td>\n",
       "      <td>-6.129</td>\n",
       "      <td>13.311</td>\n",
       "      <td>20230811_Plate441_012</td>\n",
       "      <td>CocoTransport/20230811_Plate441/012/Img</td>\n",
       "      <td>DATA/CocoTransport/20230811_Plate441/012/Img</td>\n",
       "      <td>17:23:21</td>\n",
       "      <td>4</td>\n",
       "      <td>4.0</td>\n",
       "      <td>NaN</td>\n",
       "      <td>NaN</td>\n",
       "    </tr>\n",
       "    <tr>\n",
       "      <th>11</th>\n",
       "      <td>20230811</td>\n",
       "      <td>Dropbox\\DATA\\CocoTransport</td>\n",
       "      <td>20230811_Plate441</td>\n",
       "      <td>Carrot</td>\n",
       "      <td>C2</td>\n",
       "      <td>001P100N100C</td>\n",
       "      <td>20230807</td>\n",
       "      <td>13</td>\n",
       "      <td>10.0</td>\n",
       "      <td>BF</td>\n",
       "      <td>...</td>\n",
       "      <td>-6.397</td>\n",
       "      <td>13.482</td>\n",
       "      <td>20230811_Plate441_013</td>\n",
       "      <td>CocoTransport/20230811_Plate441/013/Img</td>\n",
       "      <td>DATA/CocoTransport/20230811_Plate441/013/Img</td>\n",
       "      <td>17:35:24</td>\n",
       "      <td>4</td>\n",
       "      <td>4.0</td>\n",
       "      <td>NaN</td>\n",
       "      <td>NaN</td>\n",
       "    </tr>\n",
       "    <tr>\n",
       "      <th>12</th>\n",
       "      <td>20230811</td>\n",
       "      <td>Dropbox\\DATA\\CocoTransport</td>\n",
       "      <td>20230811_Plate441</td>\n",
       "      <td>Carrot</td>\n",
       "      <td>C2</td>\n",
       "      <td>001P100N100C</td>\n",
       "      <td>20230807</td>\n",
       "      <td>14</td>\n",
       "      <td>20.0</td>\n",
       "      <td>F</td>\n",
       "      <td>...</td>\n",
       "      <td>-6.397</td>\n",
       "      <td>13.482</td>\n",
       "      <td>20230811_Plate441_014</td>\n",
       "      <td>CocoTransport/20230811_Plate441/014/Img</td>\n",
       "      <td>DATA/CocoTransport/20230811_Plate441/014/Img</td>\n",
       "      <td>17:36:08</td>\n",
       "      <td>4</td>\n",
       "      <td>4.0</td>\n",
       "      <td>NaN</td>\n",
       "      <td>NaN</td>\n",
       "    </tr>\n",
       "    <tr>\n",
       "      <th>13</th>\n",
       "      <td>20230811</td>\n",
       "      <td>Dropbox\\DATA\\CocoTransport</td>\n",
       "      <td>20230811_Plate441</td>\n",
       "      <td>Carrot</td>\n",
       "      <td>C2</td>\n",
       "      <td>001P100N100C</td>\n",
       "      <td>20230807</td>\n",
       "      <td>15</td>\n",
       "      <td>10.0</td>\n",
       "      <td>BF</td>\n",
       "      <td>...</td>\n",
       "      <td>-6.704</td>\n",
       "      <td>13.381</td>\n",
       "      <td>20230811_Plate441_015</td>\n",
       "      <td>CocoTransport/20230811_Plate441/015/Img</td>\n",
       "      <td>DATA/CocoTransport/20230811_Plate441/015/Img</td>\n",
       "      <td>17:41:40</td>\n",
       "      <td>4</td>\n",
       "      <td>4.0</td>\n",
       "      <td>NaN</td>\n",
       "      <td>NaN</td>\n",
       "    </tr>\n",
       "    <tr>\n",
       "      <th>14</th>\n",
       "      <td>20230811</td>\n",
       "      <td>Dropbox\\DATA\\CocoTransport</td>\n",
       "      <td>20230811_Plate441</td>\n",
       "      <td>Carrot</td>\n",
       "      <td>C2</td>\n",
       "      <td>001P100N100C</td>\n",
       "      <td>20230807</td>\n",
       "      <td>16</td>\n",
       "      <td>20.0</td>\n",
       "      <td>F</td>\n",
       "      <td>...</td>\n",
       "      <td>-6.704</td>\n",
       "      <td>13.381</td>\n",
       "      <td>20230811_Plate441_016</td>\n",
       "      <td>CocoTransport/20230811_Plate441/016/Img</td>\n",
       "      <td>DATA/CocoTransport/20230811_Plate441/016/Img</td>\n",
       "      <td>17:42:42</td>\n",
       "      <td>4</td>\n",
       "      <td>4.0</td>\n",
       "      <td>NaN</td>\n",
       "      <td>NaN</td>\n",
       "    </tr>\n",
       "    <tr>\n",
       "      <th>15</th>\n",
       "      <td>20230811</td>\n",
       "      <td>Dropbox\\DATA\\CocoTransport</td>\n",
       "      <td>20230811_Plate441</td>\n",
       "      <td>Carrot</td>\n",
       "      <td>C2</td>\n",
       "      <td>001P100N100C</td>\n",
       "      <td>20230807</td>\n",
       "      <td>17</td>\n",
       "      <td>10.0</td>\n",
       "      <td>BF</td>\n",
       "      <td>...</td>\n",
       "      <td>-5.636</td>\n",
       "      <td>13.432</td>\n",
       "      <td>20230811_Plate441_017</td>\n",
       "      <td>CocoTransport/20230811_Plate441/017/Img</td>\n",
       "      <td>DATA/CocoTransport/20230811_Plate441/017/Img</td>\n",
       "      <td>17:44:30</td>\n",
       "      <td>4</td>\n",
       "      <td>4.0</td>\n",
       "      <td>NaN</td>\n",
       "      <td>NaN</td>\n",
       "    </tr>\n",
       "    <tr>\n",
       "      <th>16</th>\n",
       "      <td>20230811</td>\n",
       "      <td>Dropbox\\DATA\\CocoTransport</td>\n",
       "      <td>20230811_Plate441</td>\n",
       "      <td>Carrot</td>\n",
       "      <td>C2</td>\n",
       "      <td>001P100N100C</td>\n",
       "      <td>20230807</td>\n",
       "      <td>18</td>\n",
       "      <td>20.0</td>\n",
       "      <td>F</td>\n",
       "      <td>...</td>\n",
       "      <td>-5.636</td>\n",
       "      <td>13.432</td>\n",
       "      <td>20230811_Plate441_018</td>\n",
       "      <td>CocoTransport/20230811_Plate441/018/Img</td>\n",
       "      <td>DATA/CocoTransport/20230811_Plate441/018/Img</td>\n",
       "      <td>17:45:18</td>\n",
       "      <td>4</td>\n",
       "      <td>4.0</td>\n",
       "      <td>NaN</td>\n",
       "      <td>NaN</td>\n",
       "    </tr>\n",
       "    <tr>\n",
       "      <th>17</th>\n",
       "      <td>20230811</td>\n",
       "      <td>Dropbox\\DATA\\CocoTransport</td>\n",
       "      <td>20230811_Plate441</td>\n",
       "      <td>Carrot</td>\n",
       "      <td>C2</td>\n",
       "      <td>001P100N100C</td>\n",
       "      <td>20230807</td>\n",
       "      <td>19</td>\n",
       "      <td>10.0</td>\n",
       "      <td>BF</td>\n",
       "      <td>...</td>\n",
       "      <td>-0.041</td>\n",
       "      <td>13.332</td>\n",
       "      <td>20230811_Plate441_019</td>\n",
       "      <td>CocoTransport/20230811_Plate441/019/Img</td>\n",
       "      <td>DATA/CocoTransport/20230811_Plate441/019/Img</td>\n",
       "      <td>17:46:33</td>\n",
       "      <td>4</td>\n",
       "      <td>4.0</td>\n",
       "      <td>NaN</td>\n",
       "      <td>NaN</td>\n",
       "    </tr>\n",
       "    <tr>\n",
       "      <th>18</th>\n",
       "      <td>20230811</td>\n",
       "      <td>Dropbox\\DATA\\CocoTransport</td>\n",
       "      <td>20230811_Plate441</td>\n",
       "      <td>Carrot</td>\n",
       "      <td>C2</td>\n",
       "      <td>001P100N100C</td>\n",
       "      <td>20230807</td>\n",
       "      <td>20</td>\n",
       "      <td>20.0</td>\n",
       "      <td>F</td>\n",
       "      <td>...</td>\n",
       "      <td>-0.041</td>\n",
       "      <td>13.332</td>\n",
       "      <td>20230811_Plate441_020</td>\n",
       "      <td>CocoTransport/20230811_Plate441/020/Img</td>\n",
       "      <td>DATA/CocoTransport/20230811_Plate441/020/Img</td>\n",
       "      <td>17:47:40</td>\n",
       "      <td>4</td>\n",
       "      <td>4.0</td>\n",
       "      <td>NaN</td>\n",
       "      <td>NaN</td>\n",
       "    </tr>\n",
       "    <tr>\n",
       "      <th>19</th>\n",
       "      <td>20230811</td>\n",
       "      <td>Dropbox\\DATA\\CocoTransport</td>\n",
       "      <td>20230811_Plate441</td>\n",
       "      <td>Carrot</td>\n",
       "      <td>C2</td>\n",
       "      <td>001P100N100C</td>\n",
       "      <td>20230807</td>\n",
       "      <td>21</td>\n",
       "      <td>10.0</td>\n",
       "      <td>BF</td>\n",
       "      <td>...</td>\n",
       "      <td>-9.467</td>\n",
       "      <td>13.461</td>\n",
       "      <td>20230811_Plate441_021</td>\n",
       "      <td>CocoTransport/20230811_Plate441/021/Img</td>\n",
       "      <td>DATA/CocoTransport/20230811_Plate441/021/Img</td>\n",
       "      <td>17:48:49</td>\n",
       "      <td>4</td>\n",
       "      <td>4.0</td>\n",
       "      <td>NaN</td>\n",
       "      <td>NaN</td>\n",
       "    </tr>\n",
       "    <tr>\n",
       "      <th>20</th>\n",
       "      <td>20230811</td>\n",
       "      <td>Dropbox\\DATA\\CocoTransport</td>\n",
       "      <td>20230811_Plate441</td>\n",
       "      <td>Carrot</td>\n",
       "      <td>C2</td>\n",
       "      <td>001P100N100C</td>\n",
       "      <td>20230807</td>\n",
       "      <td>22</td>\n",
       "      <td>20.0</td>\n",
       "      <td>F</td>\n",
       "      <td>...</td>\n",
       "      <td>-9.467</td>\n",
       "      <td>13.461</td>\n",
       "      <td>20230811_Plate441_022</td>\n",
       "      <td>CocoTransport/20230811_Plate441/022/Img</td>\n",
       "      <td>DATA/CocoTransport/20230811_Plate441/022/Img</td>\n",
       "      <td>17:49:29</td>\n",
       "      <td>4</td>\n",
       "      <td>4.0</td>\n",
       "      <td>NaN</td>\n",
       "      <td>NaN</td>\n",
       "    </tr>\n",
       "  </tbody>\n",
       "</table>\n",
       "<p>21 rows × 27 columns</p>\n",
       "</div>"
      ],
      "text/plain": [
       "   imaging_day                storage_path           plate_id  \\\n",
       "0     20230811  Dropbox\\DATA\\CocoTransport  20230811_Plate441   \n",
       "1     20230811  Dropbox\\DATA\\CocoTransport  20230811_Plate441   \n",
       "2     20230811  Dropbox\\DATA\\CocoTransport  20230811_Plate441   \n",
       "3     20230811  Dropbox\\DATA\\CocoTransport  20230811_Plate441   \n",
       "4     20230811  Dropbox\\DATA\\CocoTransport  20230811_Plate441   \n",
       "5     20230811  Dropbox\\DATA\\CocoTransport  20230811_Plate441   \n",
       "6     20230811  Dropbox\\DATA\\CocoTransport  20230811_Plate441   \n",
       "7     20230811  Dropbox\\DATA\\CocoTransport  20230811_Plate441   \n",
       "8     20230811  Dropbox\\DATA\\CocoTransport  20230811_Plate441   \n",
       "9     20230811  Dropbox\\DATA\\CocoTransport  20230811_Plate441   \n",
       "10    20230811  Dropbox\\DATA\\CocoTransport  20230811_Plate441   \n",
       "11    20230811  Dropbox\\DATA\\CocoTransport  20230811_Plate441   \n",
       "12    20230811  Dropbox\\DATA\\CocoTransport  20230811_Plate441   \n",
       "13    20230811  Dropbox\\DATA\\CocoTransport  20230811_Plate441   \n",
       "14    20230811  Dropbox\\DATA\\CocoTransport  20230811_Plate441   \n",
       "15    20230811  Dropbox\\DATA\\CocoTransport  20230811_Plate441   \n",
       "16    20230811  Dropbox\\DATA\\CocoTransport  20230811_Plate441   \n",
       "17    20230811  Dropbox\\DATA\\CocoTransport  20230811_Plate441   \n",
       "18    20230811  Dropbox\\DATA\\CocoTransport  20230811_Plate441   \n",
       "19    20230811  Dropbox\\DATA\\CocoTransport  20230811_Plate441   \n",
       "20    20230811  Dropbox\\DATA\\CocoTransport  20230811_Plate441   \n",
       "\n",
       "                 root strain     treatment crossing_day  video_int  time_(s)  \\\n",
       "0              Carrot     C2  001P100N100C     20230807          1      30.0   \n",
       "1              Carrot     C2  001P100N100C     20230807          2      20.0   \n",
       "2              Carrot     C2  001P100N100C     20230807          3      20.0   \n",
       "3              Carrot     C2  001P100N100C     20230807          5      20.0   \n",
       "4              Carrot     C2  001P100N100C     20230807          6      20.0   \n",
       "5              Carrot     C2  001P100N100C     20230807          7      10.0   \n",
       "6              Carrot     C2  001P100N100C     20230807          8      10.0   \n",
       "7              Carrot     C2  001P100N100C     20230807          9      10.0   \n",
       "8              Carrot     C2  001P100N100C     20230807         10      20.0   \n",
       "9              Carrot     C2  001P100N100C     20230807         11      10.0   \n",
       "10             Carrot     C2  001P100N100C     20230807         12      20.0   \n",
       "11             Carrot     C2  001P100N100C     20230807         13      10.0   \n",
       "12             Carrot     C2  001P100N100C     20230807         14      20.0   \n",
       "13             Carrot     C2  001P100N100C     20230807         15      10.0   \n",
       "14             Carrot     C2  001P100N100C     20230807         16      20.0   \n",
       "15             Carrot     C2  001P100N100C     20230807         17      10.0   \n",
       "16             Carrot     C2  001P100N100C     20230807         18      20.0   \n",
       "17             Carrot     C2  001P100N100C     20230807         19      10.0   \n",
       "18             Carrot     C2  001P100N100C     20230807         20      20.0   \n",
       "19             Carrot     C2  001P100N100C     20230807         21      10.0   \n",
       "20             Carrot     C2  001P100N100C     20230807         22      20.0   \n",
       "\n",
       "   mode  ...   ypos    zpos              unique_id  \\\n",
       "0     F  ...  1.810  13.319  20230811_Plate441_001   \n",
       "1    BF  ...  2.119  13.301  20230811_Plate441_002   \n",
       "2     F  ...  2.119  13.301  20230811_Plate441_003   \n",
       "3    BF  ...  0.536  13.236  20230811_Plate441_005   \n",
       "4     F  ...  0.536  13.236  20230811_Plate441_006   \n",
       "5    BF  ... -1.494  13.271  20230811_Plate441_007   \n",
       "6     F  ... -1.494  13.271  20230811_Plate441_008   \n",
       "7    BF  ... -4.609  13.252  20230811_Plate441_009   \n",
       "8     F  ... -4.609  13.252  20230811_Plate441_010   \n",
       "9    BF  ... -6.129  13.311  20230811_Plate441_011   \n",
       "10    F  ... -6.129  13.311  20230811_Plate441_012   \n",
       "11   BF  ... -6.397  13.482  20230811_Plate441_013   \n",
       "12    F  ... -6.397  13.482  20230811_Plate441_014   \n",
       "13   BF  ... -6.704  13.381  20230811_Plate441_015   \n",
       "14    F  ... -6.704  13.381  20230811_Plate441_016   \n",
       "15   BF  ... -5.636  13.432  20230811_Plate441_017   \n",
       "16    F  ... -5.636  13.432  20230811_Plate441_018   \n",
       "17   BF  ... -0.041  13.332  20230811_Plate441_019   \n",
       "18    F  ... -0.041  13.332  20230811_Plate441_020   \n",
       "19   BF  ... -9.467  13.461  20230811_Plate441_021   \n",
       "20    F  ... -9.467  13.461  20230811_Plate441_022   \n",
       "\n",
       "                                     folder  \\\n",
       "0   CocoTransport/20230811_Plate441/001/Img   \n",
       "1   CocoTransport/20230811_Plate441/002/Img   \n",
       "2   CocoTransport/20230811_Plate441/003/Img   \n",
       "3   CocoTransport/20230811_Plate441/005/Img   \n",
       "4   CocoTransport/20230811_Plate441/006/Img   \n",
       "5   CocoTransport/20230811_Plate441/007/Img   \n",
       "6   CocoTransport/20230811_Plate441/008/Img   \n",
       "7   CocoTransport/20230811_Plate441/009/Img   \n",
       "8   CocoTransport/20230811_Plate441/010/Img   \n",
       "9   CocoTransport/20230811_Plate441/011/Img   \n",
       "10  CocoTransport/20230811_Plate441/012/Img   \n",
       "11  CocoTransport/20230811_Plate441/013/Img   \n",
       "12  CocoTransport/20230811_Plate441/014/Img   \n",
       "13  CocoTransport/20230811_Plate441/015/Img   \n",
       "14  CocoTransport/20230811_Plate441/016/Img   \n",
       "15  CocoTransport/20230811_Plate441/017/Img   \n",
       "16  CocoTransport/20230811_Plate441/018/Img   \n",
       "17  CocoTransport/20230811_Plate441/019/Img   \n",
       "18  CocoTransport/20230811_Plate441/020/Img   \n",
       "19  CocoTransport/20230811_Plate441/021/Img   \n",
       "20  CocoTransport/20230811_Plate441/022/Img   \n",
       "\n",
       "                                   tot_path_drop record_time  \\\n",
       "0   DATA/CocoTransport/20230811_Plate441/001/Img    17:08:01   \n",
       "1   DATA/CocoTransport/20230811_Plate441/002/Img    17:10:17   \n",
       "2   DATA/CocoTransport/20230811_Plate441/003/Img    17:10:55   \n",
       "3   DATA/CocoTransport/20230811_Plate441/005/Img    17:13:58   \n",
       "4   DATA/CocoTransport/20230811_Plate441/006/Img    17:16:30   \n",
       "5   DATA/CocoTransport/20230811_Plate441/007/Img    17:19:17   \n",
       "6   DATA/CocoTransport/20230811_Plate441/008/Img    17:19:43   \n",
       "7   DATA/CocoTransport/20230811_Plate441/009/Img    17:21:17   \n",
       "8   DATA/CocoTransport/20230811_Plate441/010/Img    17:21:51   \n",
       "9   DATA/CocoTransport/20230811_Plate441/011/Img    17:22:45   \n",
       "10  DATA/CocoTransport/20230811_Plate441/012/Img    17:23:21   \n",
       "11  DATA/CocoTransport/20230811_Plate441/013/Img    17:35:24   \n",
       "12  DATA/CocoTransport/20230811_Plate441/014/Img    17:36:08   \n",
       "13  DATA/CocoTransport/20230811_Plate441/015/Img    17:41:40   \n",
       "14  DATA/CocoTransport/20230811_Plate441/016/Img    17:42:42   \n",
       "15  DATA/CocoTransport/20230811_Plate441/017/Img    17:44:30   \n",
       "16  DATA/CocoTransport/20230811_Plate441/018/Img    17:45:18   \n",
       "17  DATA/CocoTransport/20230811_Plate441/019/Img    17:46:33   \n",
       "18  DATA/CocoTransport/20230811_Plate441/020/Img    17:47:40   \n",
       "19  DATA/CocoTransport/20230811_Plate441/021/Img    17:48:49   \n",
       "20  DATA/CocoTransport/20230811_Plate441/022/Img    17:49:29   \n",
       "\n",
       "    days_after_crossing  magnification  analysis_folder videos_folder  \n",
       "0                     4            4.0              NaN           NaN  \n",
       "1                     4            4.0              NaN           NaN  \n",
       "2                     4            4.0              NaN           NaN  \n",
       "3                     4            4.0              NaN           NaN  \n",
       "4                     4            4.0              NaN           NaN  \n",
       "5                     4            4.0              NaN           NaN  \n",
       "6                     4            4.0              NaN           NaN  \n",
       "7                     4            4.0              NaN           NaN  \n",
       "8                     4            4.0              NaN           NaN  \n",
       "9                     4            4.0              NaN           NaN  \n",
       "10                    4            4.0              NaN           NaN  \n",
       "11                    4            4.0              NaN           NaN  \n",
       "12                    4            4.0              NaN           NaN  \n",
       "13                    4            4.0              NaN           NaN  \n",
       "14                    4            4.0              NaN           NaN  \n",
       "15                    4            4.0              NaN           NaN  \n",
       "16                    4            4.0              NaN           NaN  \n",
       "17                    4            4.0              NaN           NaN  \n",
       "18                    4            4.0              NaN           NaN  \n",
       "19                    4            4.0              NaN           NaN  \n",
       "20                    4            4.0              NaN           NaN  \n",
       "\n",
       "[21 rows x 27 columns]"
      ]
     },
     "execution_count": 6,
     "metadata": {},
     "output_type": "execute_result"
    }
   ],
   "source": [
    "video_param_frame[video_param_frame['magnification']==4]"
   ]
  },
  {
   "cell_type": "markdown",
   "metadata": {},
   "source": [
    "***To delete for 441***\n",
    "\n",
    "20230809_1806_Plate14\n",
    "\n",
    "20230809_2005_Plate14\n",
    "\n",
    "20230809_2205_Plate14\n",
    "\n",
    "20230812_0004_Plate14\n",
    "\n",
    "20230812_1618_Plate14\n",
    "\n",
    "20230813_2230_Plate14\n",
    "\n"
   ]
  },
  {
   "cell_type": "markdown",
   "metadata": {
    "tags": []
   },
   "source": [
    "***To delete for 449***\n",
    "\n",
    "20230814_1218_Plate10\n",
    "\n",
    "20230813_2219_Plate10\n",
    "\n",
    "20230816_1227_Plate10\n",
    "\n",
    "20230816_1628_Plate10\n",
    "\n",
    "20230818_1307_Plate10\n",
    "\n",
    "20230818_1523_Plate10\n",
    "\n"
   ]
  },
  {
   "cell_type": "code",
   "execution_count": 5,
   "metadata": {
    "collapsed": true,
    "jupyter": {
     "outputs_hidden": true
    },
    "tags": []
   },
   "outputs": [],
   "source": [
    "for name in names:\n",
    "    video_param_frame = index_videos_dropbox_new(\n",
    "        analysis_folder,\n",
    "        videos_folder,\n",
    "        f\"{dropbox_address}{name}/\",\n",
    "        REDO_SCROUNGING=True,\n",
    "        # date_start=20230801,\n",
    "        # date_end=20230813,\n",
    "        plate_names=None,\n",
    "    )\n",
    "    download_frame = video_param_frame.copy()\n",
    "    run_parallel_transfer(\n",
    "        \"from_drop_video.py\",\n",
    "        [videos_folder],\n",
    "        download_frame,\n",
    "        20,\n",
    "        \"24:00:00\",\n",
    "        \"transfer_test\",\n",
    "    )\n",
    "    clear_output(wait=False)\n",
    "\n",
    "clear_output(wait=True)"
   ]
  },
  {
   "cell_type": "markdown",
   "metadata": {},
   "source": [
    "# Module 2: Processing\n",
    "\n",
    "Now that the files have been downloaded, it's time to analyse them. In the below code, you'll be able to either do a complete survey of the analysis folder for as many videos as possible, or use the DataFrame of recently downloaded videos to filter for the videos you want to analyse.\n",
    "\n",
    "Also possible to analyse videos directly in this notebook. Be aware again that this is a sequential, and slower analysis than running a SLURM job. \n",
    "\n",
    "### Input:\n",
    "DataFrame filters of all videos to be analysed\n",
    "### Output:\n",
    "Print statements for all parameters of the analysis session that is about to take place."
   ]
  },
  {
   "cell_type": "code",
   "execution_count": 5,
   "metadata": {
    "collapsed": true,
    "jupyter": {
     "outputs_hidden": true
    },
    "tags": []
   },
   "outputs": [
    {
     "name": "stdout",
     "output_type": "stream",
     "text": [
      "Redoing the dropbox scrounging, hold on tight.\n",
      "/DATA/CocoTransport/20230904_Plate310\n",
      "20230904 Plate310\n",
      "/DATA/CocoTransport/20230904_Plate310\n",
      "2024-05-26 22:13:40,526-[INFO]- dropbox:390 -> Refreshing access token.\n",
      "2024-05-26 22:13:40,718-[INFO]- dropbox:474 -> Request to files/list_folder\n",
      "2024-05-26 22:13:41,141-[INFO]- dropbox:474 -> Request to files/get_metadata\n",
      "2024-05-26 22:13:41,365-[INFO]- dropbox:474 -> Request to files/get_metadata\n",
      "2024-05-26 22:13:41,670-[INFO]- dropbox:474 -> Request to files/get_metadata\n",
      "2024-05-26 22:13:41,937-[INFO]- dropbox:474 -> Request to files/get_metadata\n",
      "2024-05-26 22:13:42,266-[INFO]- dropbox:474 -> Request to files/get_metadata\n",
      "2024-05-26 22:13:42,513-[INFO]- dropbox:474 -> Request to files/get_metadata\n",
      "2024-05-26 22:13:42,776-[INFO]- dropbox:474 -> Request to files/get_metadata\n",
      "2024-05-26 22:13:43,004-[INFO]- dropbox:474 -> Request to files/get_metadata\n",
      "2024-05-26 22:13:43,245-[INFO]- dropbox:474 -> Request to files/get_metadata\n",
      "2024-05-26 22:13:43,891-[INFO]- dropbox:474 -> Request to files/get_metadata\n",
      "2024-05-26 22:13:44,157-[INFO]- dropbox:474 -> Request to files/get_metadata\n",
      "2024-05-26 22:13:44,530-[INFO]- dropbox:474 -> Request to files/get_metadata\n",
      "2024-05-26 22:13:44,772-[INFO]- dropbox:474 -> Request to files/get_metadata\n",
      "2024-05-26 22:13:45,065-[INFO]- dropbox:474 -> Request to files/get_metadata\n",
      "2024-05-26 22:13:45,549-[INFO]- dropbox:474 -> Request to files/get_metadata\n",
      "2024-05-26 22:13:45,762-[INFO]- dropbox:474 -> Request to files/get_metadata\n",
      "2024-05-26 22:13:45,964-[INFO]- dropbox:474 -> Request to files/get_metadata\n",
      "2024-05-26 22:13:46,319-[INFO]- dropbox:474 -> Request to files/get_metadata\n",
      "2024-05-26 22:13:47,058-[INFO]- dropbox:474 -> Request to files/get_metadata\n",
      "2024-05-26 22:13:47,308-[INFO]- dropbox:474 -> Request to files/get_metadata\n",
      "2024-05-26 22:13:47,581-[INFO]- dropbox:474 -> Request to files/get_metadata\n",
      "2024-05-26 22:13:47,804-[INFO]- dropbox:474 -> Request to files/get_metadata\n",
      "2024-05-26 22:13:48,020-[INFO]- dropbox:474 -> Request to files/get_metadata\n",
      "2024-05-26 22:13:48,300-[INFO]- dropbox:474 -> Request to files/get_metadata\n",
      "2024-05-26 22:13:48,596-[INFO]- dropbox:474 -> Request to files/get_metadata\n",
      "2024-05-26 22:13:48,810-[INFO]- dropbox:474 -> Request to files/get_metadata\n",
      "2024-05-26 22:13:49,098-[INFO]- dropbox:474 -> Request to files/get_metadata\n",
      "2024-05-26 22:13:49,429-[INFO]- dropbox:474 -> Request to files/get_metadata\n",
      "2024-05-26 22:13:49,705-[INFO]- dropbox:474 -> Request to files/get_metadata\n",
      "2024-05-26 22:13:50,000-[INFO]- dropbox:474 -> Request to files/get_metadata\n",
      "2024-05-26 22:13:50,297-[INFO]- dropbox:474 -> Request to files/get_metadata\n",
      "2024-05-26 22:13:50,637-[INFO]- dropbox:474 -> Request to files/get_metadata\n",
      "2024-05-26 22:13:50,902-[INFO]- dropbox:474 -> Request to files/get_metadata\n",
      "2024-05-26 22:13:51,155-[INFO]- dropbox:474 -> Request to files/get_metadata\n",
      "2024-05-26 22:13:51,392-[INFO]- dropbox:474 -> Request to files/get_metadata\n",
      "2024-05-26 22:13:51,696-[INFO]- dropbox:474 -> Request to files/get_metadata\n",
      "2024-05-26 22:13:52,054-[INFO]- dropbox:474 -> Request to files/get_metadata\n",
      "2024-05-26 22:13:52,315-[INFO]- dropbox:474 -> Request to files/get_metadata\n",
      "2024-05-26 22:13:52,538-[INFO]- dropbox:474 -> Request to files/get_metadata\n",
      "2024-05-26 22:13:52,858-[INFO]- dropbox:474 -> Request to files/get_metadata\n",
      "2024-05-26 22:13:53,159-[INFO]- dropbox:474 -> Request to files/get_metadata\n",
      "2024-05-26 22:13:53,443-[INFO]- dropbox:474 -> Request to files/get_metadata\n",
      "2024-05-26 22:13:53,681-[INFO]- dropbox:474 -> Request to files/get_metadata\n",
      "2024-05-26 22:13:54,002-[INFO]- dropbox:474 -> Request to files/get_metadata\n",
      "2024-05-26 22:13:54,249-[INFO]- dropbox:474 -> Request to files/get_metadata\n",
      "2024-05-26 22:13:54,472-[INFO]- dropbox:474 -> Request to files/get_metadata\n",
      "2024-05-26 22:13:54,787-[INFO]- dropbox:474 -> Request to files/get_metadata\n",
      "2024-05-26 22:13:55,044-[INFO]- dropbox:474 -> Request to files/get_metadata\n",
      "2024-05-26 22:13:55,496-[INFO]- dropbox:474 -> Request to files/get_metadata\n",
      "2024-05-26 22:13:55,771-[INFO]- dropbox:474 -> Request to files/get_metadata\n",
      "2024-05-26 22:13:55,993-[INFO]- dropbox:474 -> Request to files/get_metadata\n",
      "2024-05-26 22:13:56,355-[INFO]- dropbox:474 -> Request to files/get_metadata\n",
      "2024-05-26 22:13:56,587-[INFO]- dropbox:474 -> Request to files/get_metadata\n",
      "2024-05-26 22:13:56,818-[INFO]- dropbox:474 -> Request to files/get_metadata\n",
      "2024-05-26 22:13:57,044-[INFO]- dropbox:474 -> Request to files/get_metadata\n",
      "2024-05-26 22:13:57,268-[INFO]- dropbox:474 -> Request to files/get_metadata\n",
      "2024-05-26 22:13:57,487-[INFO]- dropbox:474 -> Request to files/get_metadata\n",
      "2024-05-26 22:13:57,832-[INFO]- dropbox:474 -> Request to files/get_metadata\n",
      "2024-05-26 22:13:58,058-[INFO]- dropbox:474 -> Request to files/get_metadata\n",
      "2024-05-26 22:13:58,455-[INFO]- dropbox:474 -> Request to files/get_metadata\n",
      "2024-05-26 22:13:58,710-[INFO]- dropbox:474 -> Request to files/get_metadata\n",
      "2024-05-26 22:13:58,925-[INFO]- dropbox:474 -> Request to files/get_metadata\n",
      "2024-05-26 22:13:59,147-[INFO]- dropbox:474 -> Request to files/get_metadata\n",
      "2024-05-26 22:13:59,400-[INFO]- dropbox:474 -> Request to files/get_metadata\n",
      "2024-05-26 22:13:59,688-[INFO]- dropbox:474 -> Request to files/get_metadata\n",
      "2024-05-26 22:14:00,122-[INFO]- dropbox:474 -> Request to files/get_metadata\n",
      "2024-05-26 22:14:00,388-[INFO]- dropbox:474 -> Request to files/get_metadata\n",
      "2024-05-26 22:14:00,624-[INFO]- dropbox:474 -> Request to files/get_metadata\n",
      "2024-05-26 22:14:01,119-[INFO]- dropbox:474 -> Request to files/get_metadata\n",
      "2024-05-26 22:14:01,329-[INFO]- dropbox:474 -> Request to files/get_metadata\n",
      "2024-05-26 22:14:01,567-[INFO]- dropbox:474 -> Request to files/get_metadata\n",
      "2024-05-26 22:14:01,791-[INFO]- dropbox:474 -> Request to files/get_metadata\n",
      "2024-05-26 22:14:02,523-[INFO]- dropbox:474 -> Request to files/get_metadata\n",
      "2024-05-26 22:14:02,749-[INFO]- dropbox:474 -> Request to files/get_metadata\n",
      "2024-05-26 22:14:03,000-[INFO]- dropbox:474 -> Request to files/get_metadata\n",
      "2024-05-26 22:14:03,226-[INFO]- dropbox:474 -> Request to files/get_metadata\n",
      "2024-05-26 22:14:03,555-[INFO]- dropbox:474 -> Request to files/get_metadata\n",
      "2024-05-26 22:14:03,804-[INFO]- dropbox:474 -> Request to files/get_metadata\n",
      "2024-05-26 22:14:04,036-[INFO]- dropbox:474 -> Request to files/get_metadata\n",
      "2024-05-26 22:14:04,286-[INFO]- dropbox:474 -> Request to files/get_metadata\n",
      "2024-05-26 22:14:04,507-[INFO]- dropbox:474 -> Request to files/get_metadata\n",
      "2024-05-26 22:14:04,745-[INFO]- dropbox:474 -> Request to files/get_metadata\n",
      "2024-05-26 22:14:04,995-[INFO]- dropbox:474 -> Request to files/get_metadata\n",
      "2024-05-26 22:14:05,325-[INFO]- dropbox:474 -> Request to files/get_metadata\n",
      "2024-05-26 22:14:05,560-[INFO]- dropbox:474 -> Request to files/get_metadata\n",
      "2024-05-26 22:14:05,904-[INFO]- dropbox:474 -> Request to files/get_metadata\n",
      "2024-05-26 22:14:06,118-[INFO]- dropbox:474 -> Request to files/get_metadata\n",
      "2024-05-26 22:14:06,367-[INFO]- dropbox:474 -> Request to files/get_metadata\n",
      "2024-05-26 22:14:06,585-[INFO]- dropbox:474 -> Request to files/get_metadata\n",
      "2024-05-26 22:14:06,803-[INFO]- dropbox:474 -> Request to files/get_metadata\n",
      "2024-05-26 22:14:07,032-[INFO]- dropbox:474 -> Request to files/get_metadata\n",
      "2024-05-26 22:14:07,265-[INFO]- dropbox:474 -> Request to files/get_metadata\n",
      "2024-05-26 22:14:07,535-[INFO]- dropbox:474 -> Request to files/get_metadata\n",
      "2024-05-26 22:14:07,830-[INFO]- dropbox:474 -> Request to files/get_metadata\n",
      "2024-05-26 22:14:08,079-[INFO]- dropbox:474 -> Request to files/get_metadata\n",
      "2024-05-26 22:14:08,386-[INFO]- dropbox:474 -> Request to files/get_metadata\n",
      "2024-05-26 22:14:08,643-[INFO]- dropbox:474 -> Request to files/get_metadata\n",
      "2024-05-26 22:14:09,038-[INFO]- dropbox:474 -> Request to files/get_metadata\n",
      "2024-05-26 22:14:09,252-[INFO]- dropbox:474 -> Request to files/get_metadata\n",
      "2024-05-26 22:14:09,940-[INFO]- dropbox:474 -> Request to files/get_metadata\n",
      "2024-05-26 22:14:10,168-[INFO]- dropbox:474 -> Request to files/get_metadata\n",
      "2024-05-26 22:14:10,516-[INFO]- dropbox:474 -> Request to files/get_metadata\n",
      "2024-05-26 22:14:10,836-[INFO]- dropbox:474 -> Request to files/get_metadata\n",
      "2024-05-26 22:14:11,254-[INFO]- dropbox:474 -> Request to files/get_metadata\n",
      "2024-05-26 22:14:11,502-[INFO]- dropbox:474 -> Request to files/get_metadata\n",
      "2024-05-26 22:14:11,860-[INFO]- dropbox:474 -> Request to files/get_metadata\n",
      "2024-05-26 22:14:12,207-[INFO]- dropbox:474 -> Request to files/get_metadata\n",
      "2024-05-26 22:14:12,431-[INFO]- dropbox:474 -> Request to files/get_metadata\n",
      "2024-05-26 22:14:12,706-[INFO]- dropbox:474 -> Request to files/get_metadata\n",
      "2024-05-26 22:14:13,002-[INFO]- dropbox:474 -> Request to files/get_metadata\n",
      "2024-05-26 22:14:13,219-[INFO]- dropbox:474 -> Request to files/get_metadata\n",
      "2024-05-26 22:14:13,471-[INFO]- dropbox:474 -> Request to files/get_metadata\n",
      "2024-05-26 22:14:13,699-[INFO]- dropbox:474 -> Request to files/get_metadata\n",
      "2024-05-26 22:14:13,929-[INFO]- dropbox:474 -> Request to files/get_metadata\n",
      "2024-05-26 22:14:14,164-[INFO]- dropbox:474 -> Request to files/get_metadata\n",
      "2024-05-26 22:14:14,397-[INFO]- dropbox:474 -> Request to files/get_metadata\n",
      "2024-05-26 22:14:14,664-[INFO]- dropbox:474 -> Request to files/get_metadata\n",
      "2024-05-26 22:14:14,968-[INFO]- dropbox:474 -> Request to files/get_metadata\n",
      "2024-05-26 22:14:15,207-[INFO]- dropbox:474 -> Request to files/get_metadata\n",
      "2024-05-26 22:14:15,436-[INFO]- dropbox:474 -> Request to files/get_metadata\n",
      "2024-05-26 22:14:15,658-[INFO]- dropbox:474 -> Request to files/get_metadata\n",
      "2024-05-26 22:14:16,108-[INFO]- dropbox:474 -> Request to files/get_metadata\n",
      "2024-05-26 22:14:16,341-[INFO]- dropbox:474 -> Request to files/get_metadata\n",
      "2024-05-26 22:14:16,628-[INFO]- dropbox:474 -> Request to files/get_metadata\n",
      "2024-05-26 22:14:16,849-[INFO]- dropbox:474 -> Request to files/get_metadata\n",
      "2024-05-26 22:14:17,157-[INFO]- dropbox:474 -> Request to files/get_metadata\n",
      "2024-05-26 22:14:17,506-[INFO]- dropbox:474 -> Request to files/get_metadata\n",
      "2024-05-26 22:14:17,783-[INFO]- dropbox:474 -> Request to files/get_metadata\n",
      "2024-05-26 22:14:18,066-[INFO]- dropbox:474 -> Request to files/get_metadata\n",
      "2024-05-26 22:14:18,295-[INFO]- dropbox:474 -> Request to files/get_metadata\n",
      "2024-05-26 22:14:18,553-[INFO]- dropbox:474 -> Request to files/get_metadata\n",
      "2024-05-26 22:14:18,784-[INFO]- dropbox:474 -> Request to files/get_metadata\n",
      "Other folders: []\n",
      "txt files: ['/DATA/CocoTransport/20230904_Plate310/001/videoInfo.txt', '/DATA/CocoTransport/20230904_Plate310/002/videoInfo.txt', '/DATA/CocoTransport/20230904_Plate310/003/videoInfo.txt', '/DATA/CocoTransport/20230904_Plate310/004/videoInfo.txt', '/DATA/CocoTransport/20230904_Plate310/005/videoInfo.txt', '/DATA/CocoTransport/20230904_Plate310/006/videoInfo.txt', '/DATA/CocoTransport/20230904_Plate310/007/videoInfo.txt', '/DATA/CocoTransport/20230904_Plate310/008/videoInfo.txt', '/DATA/CocoTransport/20230904_Plate310/009/videoInfo.txt', '/DATA/CocoTransport/20230904_Plate310/010/videoInfo.txt', '/DATA/CocoTransport/20230904_Plate310/011/videoInfo.txt', '/DATA/CocoTransport/20230904_Plate310/012/videoInfo.txt', '/DATA/CocoTransport/20230904_Plate310/013/videoInfo.txt', '/DATA/CocoTransport/20230904_Plate310/014/videoInfo.txt', '/DATA/CocoTransport/20230904_Plate310/015/videoInfo.txt', '/DATA/CocoTransport/20230904_Plate310/016/videoInfo.txt', '/DATA/CocoTransport/20230904_Plate310/017/videoInfo.txt', '/DATA/CocoTransport/20230904_Plate310/018/videoInfo.txt', '/DATA/CocoTransport/20230904_Plate310/019/videoInfo.txt', '/DATA/CocoTransport/20230904_Plate310/020/videoInfo.txt', '/DATA/CocoTransport/20230904_Plate310/021/videoInfo.txt', '/DATA/CocoTransport/20230904_Plate310/022/videoInfo.txt', '/DATA/CocoTransport/20230904_Plate310/023/videoInfo.txt', '/DATA/CocoTransport/20230904_Plate310/024/videoInfo.txt', '/DATA/CocoTransport/20230904_Plate310/025/videoInfo.txt', '/DATA/CocoTransport/20230904_Plate310/026/videoInfo.txt', '/DATA/CocoTransport/20230904_Plate310/027/videoInfo.txt', '/DATA/CocoTransport/20230904_Plate310/028/videoInfo.txt', '/DATA/CocoTransport/20230904_Plate310/029/videoInfo.txt', '/DATA/CocoTransport/20230904_Plate310/030/videoInfo.txt', '/DATA/CocoTransport/20230904_Plate310/031/videoInfo.txt', '/DATA/CocoTransport/20230904_Plate310/032/videoInfo.txt', '/DATA/CocoTransport/20230904_Plate310/033/videoInfo.txt', '/DATA/CocoTransport/20230904_Plate310/034/videoInfo.txt', '/DATA/CocoTransport/20230904_Plate310/035/videoInfo.txt', '/DATA/CocoTransport/20230904_Plate310/036/videoInfo.txt', '/DATA/CocoTransport/20230904_Plate310/037/videoInfo.txt', '/DATA/CocoTransport/20230904_Plate310/038/videoInfo.txt', '/DATA/CocoTransport/20230904_Plate310/039/videoInfo.txt', '/DATA/CocoTransport/20230904_Plate310/040/videoInfo.txt', '/DATA/CocoTransport/20230904_Plate310/041/videoInfo.txt', '/DATA/CocoTransport/20230904_Plate310/042/videoInfo.txt', '/DATA/CocoTransport/20230904_Plate310/043/videoInfo.txt', '/DATA/CocoTransport/20230904_Plate310/044/videoInfo.txt', '/DATA/CocoTransport/20230904_Plate310/045/videoInfo.txt', '/DATA/CocoTransport/20230904_Plate310/046/videoInfo.txt', '/DATA/CocoTransport/20230904_Plate310/047/videoInfo.txt', '/DATA/CocoTransport/20230904_Plate310/048/videoInfo.txt', '/DATA/CocoTransport/20230904_Plate310/049/videoInfo.txt', '/DATA/CocoTransport/20230904_Plate310/050/videoInfo.txt', '/DATA/CocoTransport/20230904_Plate310/051/videoInfo.txt', '/DATA/CocoTransport/20230904_Plate310/052/videoInfo.txt', '/DATA/CocoTransport/20230904_Plate310/053/videoInfo.txt', '/DATA/CocoTransport/20230904_Plate310/054/videoInfo.txt', '/DATA/CocoTransport/20230904_Plate310/055/videoInfo.txt', '/DATA/CocoTransport/20230904_Plate310/056/videoInfo.txt', '/DATA/CocoTransport/20230904_Plate310/057/videoInfo.txt', '/DATA/CocoTransport/20230904_Plate310/058/videoInfo.txt', '/DATA/CocoTransport/20230904_Plate310/059/videoInfo.txt', '/DATA/CocoTransport/20230904_Plate310/060/videoInfo.txt', '/DATA/CocoTransport/20230904_Plate310/061/videoInfo.txt', '/DATA/CocoTransport/20230904_Plate310/062/videoInfo.txt', '/DATA/CocoTransport/20230904_Plate310/063/videoInfo.txt', '/DATA/CocoTransport/20230904_Plate310/064/videoInfo.txt', '/DATA/CocoTransport/20230904_Plate310/065/videoInfo.txt', '/DATA/CocoTransport/20230904_Plate310/066/videoInfo.txt', '/DATA/CocoTransport/20230904_Plate310/067/videoInfo.txt', '/DATA/CocoTransport/20230904_Plate310/068/videoInfo.txt', '/DATA/CocoTransport/20230904_Plate310/069/videoInfo.txt', '/DATA/CocoTransport/20230904_Plate310/070/videoInfo.txt', '/DATA/CocoTransport/20230904_Plate310/071/videoInfo.txt', '/DATA/CocoTransport/20230904_Plate310/072/videoInfo.txt', '/DATA/CocoTransport/20230904_Plate310/073/videoInfo.txt', '/DATA/CocoTransport/20230904_Plate310/074/videoInfo.txt', '/DATA/CocoTransport/20230904_Plate310/075/videoInfo.txt', '/DATA/CocoTransport/20230904_Plate310/076/videoInfo.txt', '/DATA/CocoTransport/20230904_Plate310/077/videoInfo.txt', '/DATA/CocoTransport/20230904_Plate310/078/videoInfo.txt', '/DATA/CocoTransport/20230904_Plate310/079/videoInfo.txt', '/DATA/CocoTransport/20230904_Plate310/080/videoInfo.txt', '/DATA/CocoTransport/20230904_Plate310/081/videoInfo.txt', '/DATA/CocoTransport/20230904_Plate310/082/videoInfo.txt', '/DATA/CocoTransport/20230904_Plate310/083/videoInfo.txt', '/DATA/CocoTransport/20230904_Plate310/084/videoInfo.txt', '/DATA/CocoTransport/20230904_Plate310/085/videoInfo.txt', '/DATA/CocoTransport/20230904_Plate310/086/videoInfo.txt', '/DATA/CocoTransport/20230904_Plate310/087/videoInfo.txt', '/DATA/CocoTransport/20230904_Plate310/088/videoInfo.txt', '/DATA/CocoTransport/20230904_Plate310/089/videoInfo.txt', '/DATA/CocoTransport/20230904_Plate310/090/videoInfo.txt', '/DATA/CocoTransport/20230904_Plate310/091/videoInfo.txt', '/DATA/CocoTransport/20230904_Plate310/092/videoInfo.txt', '/DATA/CocoTransport/20230904_Plate310/093/videoInfo.txt', '/DATA/CocoTransport/20230904_Plate310/094/videoInfo.txt', '/DATA/CocoTransport/20230904_Plate310/095/videoInfo.txt', '/DATA/CocoTransport/20230904_Plate310/096/videoInfo.txt', '/DATA/CocoTransport/20230904_Plate310/097/videoInfo.txt', '/DATA/CocoTransport/20230904_Plate310/098/videoInfo.txt', '/DATA/CocoTransport/20230904_Plate310/099/videoInfo.txt', '/DATA/CocoTransport/20230904_Plate310/100/videoInfo.txt', '/DATA/CocoTransport/20230904_Plate310/101/videoInfo.txt', '/DATA/CocoTransport/20230904_Plate310/102/videoInfo.txt', '/DATA/CocoTransport/20230904_Plate310/103/videoInfo.txt', '/DATA/CocoTransport/20230904_Plate310/104/videoInfo.txt', '/DATA/CocoTransport/20230904_Plate310/105/videoInfo.txt', '/DATA/CocoTransport/20230904_Plate310/106/videoInfo.txt', '/DATA/CocoTransport/20230904_Plate310/107/videoInfo.txt', '/DATA/CocoTransport/20230904_Plate310/108/videoInfo.txt', '/DATA/CocoTransport/20230904_Plate310/109/videoInfo.txt', '/DATA/CocoTransport/20230904_Plate310/110/videoInfo.txt', '/DATA/CocoTransport/20230904_Plate310/111/videoInfo.txt', '/DATA/CocoTransport/20230904_Plate310/112/videoInfo.txt', '/DATA/CocoTransport/20230904_Plate310/113/videoInfo.txt', '/DATA/CocoTransport/20230904_Plate310/114/videoInfo.txt', '/DATA/CocoTransport/20230904_Plate310/115/videoInfo.txt', '/DATA/CocoTransport/20230904_Plate310/116/videoInfo.txt', '/DATA/CocoTransport/20230904_Plate310/117/videoInfo.txt', '/DATA/CocoTransport/20230904_Plate310/118/videoInfo.txt', '/DATA/CocoTransport/20230904_Plate310/119/videoInfo.txt', '/DATA/CocoTransport/20230904_Plate310/120/videoInfo.txt', '/DATA/CocoTransport/20230904_Plate310/121/videoInfo.txt', '/DATA/CocoTransport/20230904_Plate310/122/videoInfo.txt', '/DATA/CocoTransport/20230904_Plate310/123/videoInfo.txt', '/DATA/CocoTransport/20230904_Plate310/124/videoInfo.txt', '/DATA/CocoTransport/20230904_Plate310/125/videoInfo.txt', '/DATA/CocoTransport/20230904_Plate310/126/videoInfo.txt', '/DATA/CocoTransport/20230904_Plate310/127/videoInfo.txt', '/DATA/CocoTransport/20230904_Plate310/128/videoInfo.txt', '/DATA/CocoTransport/20230904_Plate310/129/videoInfo.txt', '/DATA/CocoTransport/20230904_Plate310/130/videoInfo.txt', '/DATA/CocoTransport/20230904_Plate310/131/videoInfo.txt', '/DATA/CocoTransport/20230904_Plate310/132/videoInfo.txt']\n",
      "sheets: []\n",
      "Scrounging complete, downloading files...\n",
      "adresses []\n"
     ]
    },
    {
     "name": "stderr",
     "output_type": "stream",
     "text": [
      "  0%|                                                                                           | 0/132 [00:00<?, ?it/s]"
     ]
    },
    {
     "name": "stdout",
     "output_type": "stream",
     "text": [
      "2024-05-26 22:14:19,100-[INFO]- dropbox:390 -> Refreshing access token.\n",
      "2024-05-26 22:14:19,295-[INFO]- dropbox:474 -> Request to files/download\n"
     ]
    },
    {
     "name": "stderr",
     "output_type": "stream",
     "text": [
      "  1%|▋                                                                                  | 1/132 [00:00<01:25,  1.53it/s]"
     ]
    },
    {
     "name": "stdout",
     "output_type": "stream",
     "text": [
      "2024-05-26 22:14:19,745-[INFO]- dropbox:390 -> Refreshing access token.\n",
      "2024-05-26 22:14:19,958-[INFO]- dropbox:474 -> Request to files/download\n"
     ]
    },
    {
     "name": "stderr",
     "output_type": "stream",
     "text": [
      "  2%|█▎                                                                                 | 2/132 [00:01<01:35,  1.36it/s]"
     ]
    },
    {
     "name": "stdout",
     "output_type": "stream",
     "text": [
      "2024-05-26 22:14:20,566-[INFO]- dropbox:390 -> Refreshing access token.\n",
      "2024-05-26 22:14:20,762-[INFO]- dropbox:474 -> Request to files/download\n"
     ]
    },
    {
     "name": "stderr",
     "output_type": "stream",
     "text": [
      "  2%|█▉                                                                                 | 3/132 [00:02<01:38,  1.31it/s]"
     ]
    },
    {
     "name": "stdout",
     "output_type": "stream",
     "text": [
      "2024-05-26 22:14:21,330-[INFO]- dropbox:390 -> Refreshing access token.\n",
      "2024-05-26 22:14:21,512-[INFO]- dropbox:474 -> Request to files/download\n"
     ]
    },
    {
     "name": "stderr",
     "output_type": "stream",
     "text": [
      "  3%|██▌                                                                                | 4/132 [00:02<01:36,  1.32it/s]"
     ]
    },
    {
     "name": "stdout",
     "output_type": "stream",
     "text": [
      "2024-05-26 22:14:22,078-[INFO]- dropbox:390 -> Refreshing access token.\n",
      "2024-05-26 22:14:22,268-[INFO]- dropbox:474 -> Request to files/download\n"
     ]
    },
    {
     "name": "stderr",
     "output_type": "stream",
     "text": [
      "  4%|███▏                                                                               | 5/132 [00:03<01:37,  1.30it/s]"
     ]
    },
    {
     "name": "stdout",
     "output_type": "stream",
     "text": [
      "2024-05-26 22:14:22,874-[INFO]- dropbox:390 -> Refreshing access token.\n",
      "2024-05-26 22:14:23,063-[INFO]- dropbox:474 -> Request to files/download\n"
     ]
    },
    {
     "name": "stderr",
     "output_type": "stream",
     "text": [
      "  5%|███▊                                                                               | 6/132 [00:04<01:33,  1.35it/s]"
     ]
    },
    {
     "name": "stdout",
     "output_type": "stream",
     "text": [
      "2024-05-26 22:14:23,551-[INFO]- dropbox:390 -> Refreshing access token.\n",
      "2024-05-26 22:14:23,733-[INFO]- dropbox:474 -> Request to files/download\n"
     ]
    },
    {
     "name": "stderr",
     "output_type": "stream",
     "text": [
      "  5%|████▍                                                                              | 7/132 [00:05<01:30,  1.38it/s]"
     ]
    },
    {
     "name": "stdout",
     "output_type": "stream",
     "text": [
      "2024-05-26 22:14:24,258-[INFO]- dropbox:390 -> Refreshing access token.\n",
      "2024-05-26 22:14:24,470-[INFO]- dropbox:474 -> Request to files/download\n"
     ]
    },
    {
     "name": "stderr",
     "output_type": "stream",
     "text": [
      "  6%|█████                                                                              | 8/132 [00:05<01:28,  1.40it/s]"
     ]
    },
    {
     "name": "stdout",
     "output_type": "stream",
     "text": [
      "2024-05-26 22:14:24,932-[INFO]- dropbox:390 -> Refreshing access token.\n",
      "2024-05-26 22:14:25,124-[INFO]- dropbox:474 -> Request to files/download\n"
     ]
    },
    {
     "name": "stderr",
     "output_type": "stream",
     "text": [
      "  7%|█████▋                                                                             | 9/132 [00:06<01:27,  1.40it/s]"
     ]
    },
    {
     "name": "stdout",
     "output_type": "stream",
     "text": [
      "2024-05-26 22:14:25,643-[INFO]- dropbox:390 -> Refreshing access token.\n",
      "2024-05-26 22:14:25,849-[INFO]- dropbox:474 -> Request to files/download\n"
     ]
    },
    {
     "name": "stderr",
     "output_type": "stream",
     "text": [
      "  8%|██████▏                                                                           | 10/132 [00:07<01:24,  1.44it/s]"
     ]
    },
    {
     "name": "stdout",
     "output_type": "stream",
     "text": [
      "2024-05-26 22:14:26,303-[INFO]- dropbox:390 -> Refreshing access token.\n",
      "2024-05-26 22:14:26,491-[INFO]- dropbox:474 -> Request to files/download\n"
     ]
    },
    {
     "name": "stderr",
     "output_type": "stream",
     "text": [
      "  8%|██████▊                                                                           | 11/132 [00:07<01:26,  1.39it/s]"
     ]
    },
    {
     "name": "stdout",
     "output_type": "stream",
     "text": [
      "2024-05-26 22:14:27,069-[INFO]- dropbox:390 -> Refreshing access token.\n",
      "2024-05-26 22:14:27,250-[INFO]- dropbox:474 -> Request to files/download\n"
     ]
    },
    {
     "name": "stderr",
     "output_type": "stream",
     "text": [
      "  9%|███████▍                                                                          | 12/132 [00:08<01:26,  1.39it/s]"
     ]
    },
    {
     "name": "stdout",
     "output_type": "stream",
     "text": [
      "2024-05-26 22:14:27,797-[INFO]- dropbox:390 -> Refreshing access token.\n",
      "2024-05-26 22:14:28,029-[INFO]- dropbox:474 -> Request to files/download\n"
     ]
    },
    {
     "name": "stderr",
     "output_type": "stream",
     "text": [
      " 10%|████████                                                                          | 13/132 [00:09<01:29,  1.33it/s]"
     ]
    },
    {
     "name": "stdout",
     "output_type": "stream",
     "text": [
      "2024-05-26 22:14:28,631-[INFO]- dropbox:390 -> Refreshing access token.\n",
      "2024-05-26 22:14:28,857-[INFO]- dropbox:474 -> Request to files/download\n"
     ]
    },
    {
     "name": "stderr",
     "output_type": "stream",
     "text": [
      " 11%|████████▋                                                                         | 14/132 [00:10<01:27,  1.34it/s]"
     ]
    },
    {
     "name": "stdout",
     "output_type": "stream",
     "text": [
      "2024-05-26 22:14:29,347-[INFO]- dropbox:390 -> Refreshing access token.\n",
      "2024-05-26 22:14:29,534-[INFO]- dropbox:474 -> Request to files/download\n"
     ]
    },
    {
     "name": "stderr",
     "output_type": "stream",
     "text": [
      " 11%|█████████▎                                                                        | 15/132 [00:10<01:23,  1.40it/s]"
     ]
    },
    {
     "name": "stdout",
     "output_type": "stream",
     "text": [
      "2024-05-26 22:14:29,988-[INFO]- dropbox:390 -> Refreshing access token.\n",
      "2024-05-26 22:14:30,167-[INFO]- dropbox:474 -> Request to files/download\n"
     ]
    },
    {
     "name": "stderr",
     "output_type": "stream",
     "text": [
      " 12%|█████████▉                                                                        | 16/132 [00:11<01:22,  1.40it/s]"
     ]
    },
    {
     "name": "stdout",
     "output_type": "stream",
     "text": [
      "2024-05-26 22:14:30,706-[INFO]- dropbox:390 -> Refreshing access token.\n",
      "2024-05-26 22:14:30,888-[INFO]- dropbox:474 -> Request to files/download\n"
     ]
    },
    {
     "name": "stderr",
     "output_type": "stream",
     "text": [
      " 13%|██████████▌                                                                       | 17/132 [00:12<01:26,  1.33it/s]"
     ]
    },
    {
     "name": "stdout",
     "output_type": "stream",
     "text": [
      "2024-05-26 22:14:31,547-[INFO]- dropbox:390 -> Refreshing access token.\n",
      "2024-05-26 22:14:31,731-[INFO]- dropbox:474 -> Request to files/download\n"
     ]
    },
    {
     "name": "stderr",
     "output_type": "stream",
     "text": [
      " 14%|███████████▏                                                                      | 18/132 [00:13<01:20,  1.41it/s]"
     ]
    },
    {
     "name": "stdout",
     "output_type": "stream",
     "text": [
      "2024-05-26 22:14:32,149-[INFO]- dropbox:390 -> Refreshing access token.\n",
      "2024-05-26 22:14:32,348-[INFO]- dropbox:474 -> Request to files/download\n"
     ]
    },
    {
     "name": "stderr",
     "output_type": "stream",
     "text": [
      " 14%|███████████▊                                                                      | 19/132 [00:13<01:21,  1.39it/s]"
     ]
    },
    {
     "name": "stdout",
     "output_type": "stream",
     "text": [
      "2024-05-26 22:14:32,899-[INFO]- dropbox:390 -> Refreshing access token.\n",
      "2024-05-26 22:14:33,096-[INFO]- dropbox:474 -> Request to files/download\n"
     ]
    },
    {
     "name": "stderr",
     "output_type": "stream",
     "text": [
      " 15%|████████████▍                                                                     | 20/132 [00:14<01:34,  1.18it/s]"
     ]
    },
    {
     "name": "stdout",
     "output_type": "stream",
     "text": [
      "2024-05-26 22:14:34,037-[INFO]- dropbox:390 -> Refreshing access token.\n",
      "2024-05-26 22:14:34,233-[INFO]- dropbox:474 -> Request to files/download\n"
     ]
    },
    {
     "name": "stderr",
     "output_type": "stream",
     "text": [
      " 16%|█████████████                                                                     | 21/132 [00:15<01:33,  1.19it/s]"
     ]
    },
    {
     "name": "stdout",
     "output_type": "stream",
     "text": [
      "2024-05-26 22:14:34,868-[INFO]- dropbox:390 -> Refreshing access token.\n",
      "2024-05-26 22:14:35,047-[INFO]- dropbox:474 -> Request to files/download\n"
     ]
    },
    {
     "name": "stderr",
     "output_type": "stream",
     "text": [
      " 17%|█████████████▋                                                                    | 22/132 [00:16<01:26,  1.27it/s]"
     ]
    },
    {
     "name": "stdout",
     "output_type": "stream",
     "text": [
      "2024-05-26 22:14:35,539-[INFO]- dropbox:390 -> Refreshing access token.\n",
      "2024-05-26 22:14:35,722-[INFO]- dropbox:474 -> Request to files/download\n"
     ]
    },
    {
     "name": "stderr",
     "output_type": "stream",
     "text": [
      " 17%|██████████████▎                                                                   | 23/132 [00:17<01:26,  1.26it/s]"
     ]
    },
    {
     "name": "stdout",
     "output_type": "stream",
     "text": [
      "2024-05-26 22:14:36,345-[INFO]- dropbox:390 -> Refreshing access token.\n",
      "2024-05-26 22:14:36,537-[INFO]- dropbox:474 -> Request to files/download\n"
     ]
    },
    {
     "name": "stderr",
     "output_type": "stream",
     "text": [
      " 18%|██████████████▉                                                                   | 24/132 [00:17<01:22,  1.32it/s]"
     ]
    },
    {
     "name": "stdout",
     "output_type": "stream",
     "text": [
      "2024-05-26 22:14:37,031-[INFO]- dropbox:390 -> Refreshing access token.\n",
      "2024-05-26 22:14:37,217-[INFO]- dropbox:474 -> Request to files/download\n"
     ]
    },
    {
     "name": "stderr",
     "output_type": "stream",
     "text": [
      " 19%|███████████████▌                                                                  | 25/132 [00:18<01:29,  1.20it/s]"
     ]
    },
    {
     "name": "stdout",
     "output_type": "stream",
     "text": [
      "2024-05-26 22:14:38,027-[INFO]- dropbox:390 -> Refreshing access token.\n",
      "2024-05-26 22:14:38,216-[INFO]- dropbox:474 -> Request to files/download\n"
     ]
    },
    {
     "name": "stderr",
     "output_type": "stream",
     "text": [
      " 20%|████████████████▏                                                                 | 26/132 [00:19<01:21,  1.29it/s]"
     ]
    },
    {
     "name": "stdout",
     "output_type": "stream",
     "text": [
      "2024-05-26 22:14:38,659-[INFO]- dropbox:390 -> Refreshing access token.\n",
      "2024-05-26 22:14:38,842-[INFO]- dropbox:474 -> Request to files/download\n"
     ]
    },
    {
     "name": "stderr",
     "output_type": "stream",
     "text": [
      " 20%|████████████████▊                                                                 | 27/132 [00:20<01:18,  1.33it/s]"
     ]
    },
    {
     "name": "stdout",
     "output_type": "stream",
     "text": [
      "2024-05-26 22:14:39,356-[INFO]- dropbox:390 -> Refreshing access token.\n",
      "2024-05-26 22:14:39,546-[INFO]- dropbox:474 -> Request to files/download\n"
     ]
    },
    {
     "name": "stderr",
     "output_type": "stream",
     "text": [
      " 21%|█████████████████▍                                                                | 28/132 [00:20<01:16,  1.36it/s]"
     ]
    },
    {
     "name": "stdout",
     "output_type": "stream",
     "text": [
      "2024-05-26 22:14:40,055-[INFO]- dropbox:390 -> Refreshing access token.\n",
      "2024-05-26 22:14:40,239-[INFO]- dropbox:474 -> Request to files/download\n"
     ]
    },
    {
     "name": "stderr",
     "output_type": "stream",
     "text": [
      " 22%|██████████████████                                                                | 29/132 [00:21<01:16,  1.35it/s]"
     ]
    },
    {
     "name": "stdout",
     "output_type": "stream",
     "text": [
      "2024-05-26 22:14:40,806-[INFO]- dropbox:390 -> Refreshing access token.\n",
      "2024-05-26 22:14:40,988-[INFO]- dropbox:474 -> Request to files/download\n"
     ]
    },
    {
     "name": "stderr",
     "output_type": "stream",
     "text": [
      " 23%|██████████████████▋                                                               | 30/132 [00:22<01:15,  1.36it/s]"
     ]
    },
    {
     "name": "stdout",
     "output_type": "stream",
     "text": [
      "2024-05-26 22:14:41,536-[INFO]- dropbox:390 -> Refreshing access token.\n",
      "2024-05-26 22:14:41,733-[INFO]- dropbox:474 -> Request to files/download\n"
     ]
    },
    {
     "name": "stderr",
     "output_type": "stream",
     "text": [
      " 23%|███████████████████▎                                                              | 31/132 [00:23<01:16,  1.32it/s]"
     ]
    },
    {
     "name": "stdout",
     "output_type": "stream",
     "text": [
      "2024-05-26 22:14:42,343-[INFO]- dropbox:390 -> Refreshing access token.\n",
      "2024-05-26 22:14:42,558-[INFO]- dropbox:474 -> Request to files/download\n"
     ]
    },
    {
     "name": "stderr",
     "output_type": "stream",
     "text": [
      " 24%|███████████████████▉                                                              | 32/132 [00:24<01:15,  1.32it/s]"
     ]
    },
    {
     "name": "stdout",
     "output_type": "stream",
     "text": [
      "2024-05-26 22:14:43,091-[INFO]- dropbox:390 -> Refreshing access token.\n",
      "2024-05-26 22:14:43,276-[INFO]- dropbox:474 -> Request to files/download\n"
     ]
    },
    {
     "name": "stderr",
     "output_type": "stream",
     "text": [
      " 25%|████████████████████▌                                                             | 33/132 [00:24<01:12,  1.36it/s]"
     ]
    },
    {
     "name": "stdout",
     "output_type": "stream",
     "text": [
      "2024-05-26 22:14:43,774-[INFO]- dropbox:390 -> Refreshing access token.\n",
      "2024-05-26 22:14:43,958-[INFO]- dropbox:474 -> Request to files/download\n"
     ]
    },
    {
     "name": "stderr",
     "output_type": "stream",
     "text": [
      " 26%|█████████████████████                                                             | 34/132 [00:25<01:12,  1.36it/s]"
     ]
    },
    {
     "name": "stdout",
     "output_type": "stream",
     "text": [
      "2024-05-26 22:14:44,515-[INFO]- dropbox:390 -> Refreshing access token.\n",
      "2024-05-26 22:14:44,703-[INFO]- dropbox:474 -> Request to files/download\n"
     ]
    },
    {
     "name": "stderr",
     "output_type": "stream",
     "text": [
      " 27%|█████████████████████▋                                                            | 35/132 [00:26<01:13,  1.33it/s]"
     ]
    },
    {
     "name": "stdout",
     "output_type": "stream",
     "text": [
      "2024-05-26 22:14:45,310-[INFO]- dropbox:390 -> Refreshing access token.\n",
      "2024-05-26 22:14:45,507-[INFO]- dropbox:474 -> Request to files/download\n"
     ]
    },
    {
     "name": "stderr",
     "output_type": "stream",
     "text": [
      " 27%|██████████████████████▎                                                           | 36/132 [00:27<01:15,  1.27it/s]"
     ]
    },
    {
     "name": "stdout",
     "output_type": "stream",
     "text": [
      "2024-05-26 22:14:46,172-[INFO]- dropbox:390 -> Refreshing access token.\n",
      "2024-05-26 22:14:46,361-[INFO]- dropbox:474 -> Request to files/download\n"
     ]
    },
    {
     "name": "stderr",
     "output_type": "stream",
     "text": [
      " 28%|██████████████████████▉                                                           | 37/132 [00:27<01:13,  1.28it/s]"
     ]
    },
    {
     "name": "stdout",
     "output_type": "stream",
     "text": [
      "2024-05-26 22:14:46,934-[INFO]- dropbox:390 -> Refreshing access token.\n",
      "2024-05-26 22:14:47,125-[INFO]- dropbox:474 -> Request to files/download\n"
     ]
    },
    {
     "name": "stderr",
     "output_type": "stream",
     "text": [
      " 29%|███████████████████████▌                                                          | 38/132 [00:28<01:13,  1.29it/s]"
     ]
    },
    {
     "name": "stdout",
     "output_type": "stream",
     "text": [
      "2024-05-26 22:14:47,710-[INFO]- dropbox:390 -> Refreshing access token.\n",
      "2024-05-26 22:14:47,916-[INFO]- dropbox:474 -> Request to files/download\n"
     ]
    },
    {
     "name": "stderr",
     "output_type": "stream",
     "text": [
      " 30%|████████████████████████▏                                                         | 39/132 [00:29<01:08,  1.35it/s]"
     ]
    },
    {
     "name": "stdout",
     "output_type": "stream",
     "text": [
      "2024-05-26 22:14:48,364-[INFO]- dropbox:390 -> Refreshing access token.\n",
      "2024-05-26 22:14:48,547-[INFO]- dropbox:474 -> Request to files/download\n"
     ]
    },
    {
     "name": "stderr",
     "output_type": "stream",
     "text": [
      " 30%|████████████████████████▊                                                         | 40/132 [00:30<01:09,  1.33it/s]"
     ]
    },
    {
     "name": "stdout",
     "output_type": "stream",
     "text": [
      "2024-05-26 22:14:49,137-[INFO]- dropbox:390 -> Refreshing access token.\n",
      "2024-05-26 22:14:49,324-[INFO]- dropbox:474 -> Request to files/download\n"
     ]
    },
    {
     "name": "stderr",
     "output_type": "stream",
     "text": [
      " 31%|█████████████████████████▍                                                        | 41/132 [00:30<01:10,  1.29it/s]"
     ]
    },
    {
     "name": "stdout",
     "output_type": "stream",
     "text": [
      "2024-05-26 22:14:49,965-[INFO]- dropbox:390 -> Refreshing access token.\n",
      "2024-05-26 22:14:50,147-[INFO]- dropbox:474 -> Request to files/download\n"
     ]
    },
    {
     "name": "stderr",
     "output_type": "stream",
     "text": [
      " 32%|██████████████████████████                                                        | 42/132 [00:31<01:07,  1.32it/s]"
     ]
    },
    {
     "name": "stdout",
     "output_type": "stream",
     "text": [
      "2024-05-26 22:14:50,678-[INFO]- dropbox:390 -> Refreshing access token.\n",
      "2024-05-26 22:14:50,869-[INFO]- dropbox:474 -> Request to files/download\n"
     ]
    },
    {
     "name": "stderr",
     "output_type": "stream",
     "text": [
      " 33%|██████████████████████████▋                                                       | 43/132 [00:32<01:04,  1.38it/s]"
     ]
    },
    {
     "name": "stdout",
     "output_type": "stream",
     "text": [
      "2024-05-26 22:14:51,333-[INFO]- dropbox:390 -> Refreshing access token.\n",
      "2024-05-26 22:14:51,530-[INFO]- dropbox:474 -> Request to files/download\n"
     ]
    },
    {
     "name": "stderr",
     "output_type": "stream",
     "text": [
      " 33%|███████████████████████████▎                                                      | 44/132 [00:32<01:00,  1.45it/s]"
     ]
    },
    {
     "name": "stdout",
     "output_type": "stream",
     "text": [
      "2024-05-26 22:14:51,947-[INFO]- dropbox:390 -> Refreshing access token.\n",
      "2024-05-26 22:14:52,127-[INFO]- dropbox:474 -> Request to files/download\n"
     ]
    },
    {
     "name": "stderr",
     "output_type": "stream",
     "text": [
      " 34%|███████████████████████████▉                                                      | 45/132 [00:33<00:59,  1.45it/s]"
     ]
    },
    {
     "name": "stdout",
     "output_type": "stream",
     "text": [
      "2024-05-26 22:14:52,627-[INFO]- dropbox:390 -> Refreshing access token.\n",
      "2024-05-26 22:14:52,818-[INFO]- dropbox:474 -> Request to files/download\n"
     ]
    },
    {
     "name": "stderr",
     "output_type": "stream",
     "text": [
      " 35%|████████████████████████████▌                                                     | 46/132 [00:34<00:56,  1.51it/s]"
     ]
    },
    {
     "name": "stdout",
     "output_type": "stream",
     "text": [
      "2024-05-26 22:14:53,224-[INFO]- dropbox:390 -> Refreshing access token.\n",
      "2024-05-26 22:14:53,427-[INFO]- dropbox:474 -> Request to files/download\n"
     ]
    },
    {
     "name": "stderr",
     "output_type": "stream",
     "text": [
      " 36%|█████████████████████████████▏                                                    | 47/132 [00:35<01:01,  1.37it/s]"
     ]
    },
    {
     "name": "stdout",
     "output_type": "stream",
     "text": [
      "2024-05-26 22:14:54,110-[INFO]- dropbox:390 -> Refreshing access token.\n",
      "2024-05-26 22:14:54,322-[INFO]- dropbox:474 -> Request to files/download\n"
     ]
    },
    {
     "name": "stderr",
     "output_type": "stream",
     "text": [
      " 36%|█████████████████████████████▊                                                    | 48/132 [00:35<01:02,  1.34it/s]"
     ]
    },
    {
     "name": "stdout",
     "output_type": "stream",
     "text": [
      "2024-05-26 22:14:54,902-[INFO]- dropbox:390 -> Refreshing access token.\n",
      "2024-05-26 22:14:55,096-[INFO]- dropbox:474 -> Request to files/download\n"
     ]
    },
    {
     "name": "stderr",
     "output_type": "stream",
     "text": [
      " 37%|██████████████████████████████▍                                                   | 49/132 [00:36<01:01,  1.36it/s]"
     ]
    },
    {
     "name": "stdout",
     "output_type": "stream",
     "text": [
      "2024-05-26 22:14:55,618-[INFO]- dropbox:390 -> Refreshing access token.\n",
      "2024-05-26 22:14:55,809-[INFO]- dropbox:474 -> Request to files/download\n"
     ]
    },
    {
     "name": "stderr",
     "output_type": "stream",
     "text": [
      " 38%|███████████████████████████████                                                   | 50/132 [00:37<01:00,  1.36it/s]"
     ]
    },
    {
     "name": "stdout",
     "output_type": "stream",
     "text": [
      "2024-05-26 22:14:56,349-[INFO]- dropbox:390 -> Refreshing access token.\n",
      "2024-05-26 22:14:56,538-[INFO]- dropbox:474 -> Request to files/download\n"
     ]
    },
    {
     "name": "stderr",
     "output_type": "stream",
     "text": [
      " 39%|███████████████████████████████▋                                                  | 51/132 [00:38<01:00,  1.35it/s]"
     ]
    },
    {
     "name": "stdout",
     "output_type": "stream",
     "text": [
      "2024-05-26 22:14:57,107-[INFO]- dropbox:390 -> Refreshing access token.\n",
      "2024-05-26 22:14:57,364-[INFO]- dropbox:474 -> Request to files/download\n"
     ]
    },
    {
     "name": "stderr",
     "output_type": "stream",
     "text": [
      " 39%|████████████████████████████████▎                                                 | 52/132 [00:38<00:58,  1.36it/s]"
     ]
    },
    {
     "name": "stdout",
     "output_type": "stream",
     "text": [
      "2024-05-26 22:14:57,824-[INFO]- dropbox:390 -> Refreshing access token.\n",
      "2024-05-26 22:14:58,007-[INFO]- dropbox:474 -> Request to files/download\n"
     ]
    },
    {
     "name": "stderr",
     "output_type": "stream",
     "text": [
      " 40%|████████████████████████████████▉                                                 | 53/132 [00:39<00:56,  1.40it/s]"
     ]
    },
    {
     "name": "stdout",
     "output_type": "stream",
     "text": [
      "2024-05-26 22:14:58,490-[INFO]- dropbox:390 -> Refreshing access token.\n",
      "2024-05-26 22:14:58,676-[INFO]- dropbox:474 -> Request to files/download\n"
     ]
    },
    {
     "name": "stderr",
     "output_type": "stream",
     "text": [
      " 41%|█████████████████████████████████▌                                                | 54/132 [00:40<00:53,  1.45it/s]"
     ]
    },
    {
     "name": "stdout",
     "output_type": "stream",
     "text": [
      "2024-05-26 22:14:59,129-[INFO]- dropbox:390 -> Refreshing access token.\n",
      "2024-05-26 22:14:59,312-[INFO]- dropbox:474 -> Request to files/download\n"
     ]
    },
    {
     "name": "stderr",
     "output_type": "stream",
     "text": [
      " 42%|██████████████████████████████████▏                                               | 55/132 [00:40<00:53,  1.44it/s]"
     ]
    },
    {
     "name": "stdout",
     "output_type": "stream",
     "text": [
      "2024-05-26 22:14:59,829-[INFO]- dropbox:390 -> Refreshing access token.\n",
      "2024-05-26 22:15:00,010-[INFO]- dropbox:474 -> Request to files/download\n"
     ]
    },
    {
     "name": "stderr",
     "output_type": "stream",
     "text": [
      " 42%|██████████████████████████████████▊                                               | 56/132 [00:41<00:53,  1.42it/s]"
     ]
    },
    {
     "name": "stdout",
     "output_type": "stream",
     "text": [
      "2024-05-26 22:15:00,555-[INFO]- dropbox:390 -> Refreshing access token.\n",
      "2024-05-26 22:15:00,738-[INFO]- dropbox:474 -> Request to files/download\n"
     ]
    },
    {
     "name": "stderr",
     "output_type": "stream",
     "text": [
      " 43%|███████████████████████████████████▍                                              | 57/132 [00:42<01:04,  1.16it/s]"
     ]
    },
    {
     "name": "stdout",
     "output_type": "stream",
     "text": [
      "2024-05-26 22:15:01,791-[INFO]- dropbox:390 -> Refreshing access token.\n",
      "2024-05-26 22:15:01,979-[INFO]- dropbox:474 -> Request to files/download\n"
     ]
    },
    {
     "name": "stderr",
     "output_type": "stream",
     "text": [
      " 44%|████████████████████████████████████                                              | 58/132 [00:43<01:01,  1.21it/s]"
     ]
    },
    {
     "name": "stdout",
     "output_type": "stream",
     "text": [
      "2024-05-26 22:15:02,532-[INFO]- dropbox:390 -> Refreshing access token.\n",
      "2024-05-26 22:15:02,717-[INFO]- dropbox:474 -> Request to files/download\n"
     ]
    },
    {
     "name": "stderr",
     "output_type": "stream",
     "text": [
      " 45%|████████████████████████████████████▋                                             | 59/132 [00:44<00:57,  1.26it/s]"
     ]
    },
    {
     "name": "stdout",
     "output_type": "stream",
     "text": [
      "2024-05-26 22:15:03,246-[INFO]- dropbox:390 -> Refreshing access token.\n",
      "2024-05-26 22:15:03,474-[INFO]- dropbox:474 -> Request to files/download\n"
     ]
    },
    {
     "name": "stderr",
     "output_type": "stream",
     "text": [
      " 45%|█████████████████████████████████████▎                                            | 60/132 [00:45<01:01,  1.16it/s]"
     ]
    },
    {
     "name": "stdout",
     "output_type": "stream",
     "text": [
      "2024-05-26 22:15:04,263-[INFO]- dropbox:390 -> Refreshing access token.\n",
      "2024-05-26 22:15:04,452-[INFO]- dropbox:474 -> Request to files/download\n"
     ]
    },
    {
     "name": "stderr",
     "output_type": "stream",
     "text": [
      " 46%|█████████████████████████████████████▉                                            | 61/132 [00:45<00:55,  1.28it/s]"
     ]
    },
    {
     "name": "stdout",
     "output_type": "stream",
     "text": [
      "2024-05-26 22:15:04,868-[INFO]- dropbox:390 -> Refreshing access token.\n",
      "2024-05-26 22:15:05,052-[INFO]- dropbox:474 -> Request to files/download\n"
     ]
    },
    {
     "name": "stderr",
     "output_type": "stream",
     "text": [
      " 47%|██████████████████████████████████████▌                                           | 62/132 [00:46<00:53,  1.30it/s]"
     ]
    },
    {
     "name": "stdout",
     "output_type": "stream",
     "text": [
      "2024-05-26 22:15:05,600-[INFO]- dropbox:390 -> Refreshing access token.\n",
      "2024-05-26 22:15:05,784-[INFO]- dropbox:474 -> Request to files/download\n"
     ]
    },
    {
     "name": "stderr",
     "output_type": "stream",
     "text": [
      " 48%|███████████████████████████████████████▏                                          | 63/132 [00:47<00:49,  1.38it/s]"
     ]
    },
    {
     "name": "stdout",
     "output_type": "stream",
     "text": [
      "2024-05-26 22:15:06,215-[INFO]- dropbox:390 -> Refreshing access token.\n",
      "2024-05-26 22:15:06,403-[INFO]- dropbox:474 -> Request to files/download\n"
     ]
    },
    {
     "name": "stderr",
     "output_type": "stream",
     "text": [
      " 48%|███████████████████████████████████████▊                                          | 64/132 [00:48<00:53,  1.27it/s]"
     ]
    },
    {
     "name": "stdout",
     "output_type": "stream",
     "text": [
      "2024-05-26 22:15:07,156-[INFO]- dropbox:390 -> Refreshing access token.\n",
      "2024-05-26 22:15:07,351-[INFO]- dropbox:474 -> Request to files/download\n"
     ]
    },
    {
     "name": "stderr",
     "output_type": "stream",
     "text": [
      " 49%|████████████████████████████████████████▍                                         | 65/132 [00:48<00:51,  1.29it/s]"
     ]
    },
    {
     "name": "stdout",
     "output_type": "stream",
     "text": [
      "2024-05-26 22:15:07,897-[INFO]- dropbox:390 -> Refreshing access token.\n",
      "2024-05-26 22:15:08,251-[INFO]- dropbox:474 -> Request to files/download\n"
     ]
    },
    {
     "name": "stderr",
     "output_type": "stream",
     "text": [
      " 50%|█████████████████████████████████████████                                         | 66/132 [00:49<00:52,  1.26it/s]"
     ]
    },
    {
     "name": "stdout",
     "output_type": "stream",
     "text": [
      "2024-05-26 22:15:08,736-[INFO]- dropbox:390 -> Refreshing access token.\n",
      "2024-05-26 22:15:08,915-[INFO]- dropbox:474 -> Request to files/download\n"
     ]
    },
    {
     "name": "stderr",
     "output_type": "stream",
     "text": [
      " 51%|█████████████████████████████████████████▌                                        | 67/132 [00:50<00:51,  1.25it/s]"
     ]
    },
    {
     "name": "stdout",
     "output_type": "stream",
     "text": [
      "2024-05-26 22:15:09,551-[INFO]- dropbox:390 -> Refreshing access token.\n",
      "2024-05-26 22:15:09,735-[INFO]- dropbox:474 -> Request to files/download\n"
     ]
    },
    {
     "name": "stderr",
     "output_type": "stream",
     "text": [
      " 52%|██████████████████████████████████████████▏                                       | 68/132 [00:51<00:49,  1.30it/s]"
     ]
    },
    {
     "name": "stdout",
     "output_type": "stream",
     "text": [
      "2024-05-26 22:15:10,240-[INFO]- dropbox:390 -> Refreshing access token.\n",
      "2024-05-26 22:15:10,449-[INFO]- dropbox:474 -> Request to files/download\n"
     ]
    },
    {
     "name": "stderr",
     "output_type": "stream",
     "text": [
      " 52%|██████████████████████████████████████████▊                                       | 69/132 [00:52<00:49,  1.26it/s]"
     ]
    },
    {
     "name": "stdout",
     "output_type": "stream",
     "text": [
      "2024-05-26 22:15:11,095-[INFO]- dropbox:390 -> Refreshing access token.\n",
      "2024-05-26 22:15:11,293-[INFO]- dropbox:474 -> Request to files/download\n"
     ]
    },
    {
     "name": "stderr",
     "output_type": "stream",
     "text": [
      " 53%|███████████████████████████████████████████▍                                      | 70/132 [00:52<00:45,  1.35it/s]"
     ]
    },
    {
     "name": "stdout",
     "output_type": "stream",
     "text": [
      "2024-05-26 22:15:11,710-[INFO]- dropbox:390 -> Refreshing access token.\n",
      "2024-05-26 22:15:11,905-[INFO]- dropbox:474 -> Request to files/download\n"
     ]
    },
    {
     "name": "stderr",
     "output_type": "stream",
     "text": [
      " 54%|████████████████████████████████████████████                                      | 71/132 [00:53<00:43,  1.40it/s]"
     ]
    },
    {
     "name": "stdout",
     "output_type": "stream",
     "text": [
      "2024-05-26 22:15:12,366-[INFO]- dropbox:390 -> Refreshing access token.\n",
      "2024-05-26 22:15:12,548-[INFO]- dropbox:474 -> Request to files/download\n"
     ]
    },
    {
     "name": "stderr",
     "output_type": "stream",
     "text": [
      " 55%|████████████████████████████████████████████▋                                     | 72/132 [00:54<00:43,  1.38it/s]"
     ]
    },
    {
     "name": "stdout",
     "output_type": "stream",
     "text": [
      "2024-05-26 22:15:13,119-[INFO]- dropbox:390 -> Refreshing access token.\n",
      "2024-05-26 22:15:13,307-[INFO]- dropbox:474 -> Request to files/download\n"
     ]
    },
    {
     "name": "stderr",
     "output_type": "stream",
     "text": [
      " 55%|█████████████████████████████████████████████▎                                    | 73/132 [00:54<00:43,  1.37it/s]"
     ]
    },
    {
     "name": "stdout",
     "output_type": "stream",
     "text": [
      "2024-05-26 22:15:13,855-[INFO]- dropbox:390 -> Refreshing access token.\n",
      "2024-05-26 22:15:14,042-[INFO]- dropbox:474 -> Request to files/download\n"
     ]
    },
    {
     "name": "stderr",
     "output_type": "stream",
     "text": [
      " 56%|█████████████████████████████████████████████▉                                    | 74/132 [00:55<00:43,  1.34it/s]"
     ]
    },
    {
     "name": "stdout",
     "output_type": "stream",
     "text": [
      "2024-05-26 22:15:14,648-[INFO]- dropbox:390 -> Refreshing access token.\n",
      "2024-05-26 22:15:14,836-[INFO]- dropbox:474 -> Request to files/download\n"
     ]
    },
    {
     "name": "stderr",
     "output_type": "stream",
     "text": [
      " 57%|██████████████████████████████████████████████▌                                   | 75/132 [00:56<00:44,  1.29it/s]"
     ]
    },
    {
     "name": "stdout",
     "output_type": "stream",
     "text": [
      "2024-05-26 22:15:15,488-[INFO]- dropbox:390 -> Refreshing access token.\n",
      "2024-05-26 22:15:15,669-[INFO]- dropbox:474 -> Request to files/download\n"
     ]
    },
    {
     "name": "stderr",
     "output_type": "stream",
     "text": [
      " 58%|███████████████████████████████████████████████▏                                  | 76/132 [00:57<00:43,  1.30it/s]"
     ]
    },
    {
     "name": "stdout",
     "output_type": "stream",
     "text": [
      "2024-05-26 22:15:16,239-[INFO]- dropbox:390 -> Refreshing access token.\n",
      "2024-05-26 22:15:16,509-[INFO]- dropbox:474 -> Request to files/download\n"
     ]
    },
    {
     "name": "stderr",
     "output_type": "stream",
     "text": [
      " 58%|███████████████████████████████████████████████▊                                  | 77/132 [00:57<00:43,  1.27it/s]"
     ]
    },
    {
     "name": "stdout",
     "output_type": "stream",
     "text": [
      "2024-05-26 22:15:17,066-[INFO]- dropbox:390 -> Refreshing access token.\n",
      "2024-05-26 22:15:17,266-[INFO]- dropbox:474 -> Request to files/download\n"
     ]
    },
    {
     "name": "stderr",
     "output_type": "stream",
     "text": [
      " 59%|████████████████████████████████████████████████▍                                 | 78/132 [00:58<00:40,  1.33it/s]"
     ]
    },
    {
     "name": "stdout",
     "output_type": "stream",
     "text": [
      "2024-05-26 22:15:17,736-[INFO]- dropbox:390 -> Refreshing access token.\n",
      "2024-05-26 22:15:17,917-[INFO]- dropbox:474 -> Request to files/download\n"
     ]
    },
    {
     "name": "stderr",
     "output_type": "stream",
     "text": [
      " 60%|█████████████████████████████████████████████████                                 | 79/132 [00:59<00:39,  1.34it/s]"
     ]
    },
    {
     "name": "stdout",
     "output_type": "stream",
     "text": [
      "2024-05-26 22:15:18,500-[INFO]- dropbox:390 -> Refreshing access token.\n",
      "2024-05-26 22:15:18,691-[INFO]- dropbox:474 -> Request to files/download\n"
     ]
    },
    {
     "name": "stderr",
     "output_type": "stream",
     "text": [
      " 61%|█████████████████████████████████████████████████▋                                | 80/132 [01:00<00:39,  1.33it/s]"
     ]
    },
    {
     "name": "stdout",
     "output_type": "stream",
     "text": [
      "2024-05-26 22:15:19,241-[INFO]- dropbox:390 -> Refreshing access token.\n",
      "2024-05-26 22:15:19,462-[INFO]- dropbox:474 -> Request to files/download\n"
     ]
    },
    {
     "name": "stderr",
     "output_type": "stream",
     "text": [
      " 61%|██████████████████████████████████████████████████▎                               | 81/132 [01:00<00:38,  1.34it/s]"
     ]
    },
    {
     "name": "stdout",
     "output_type": "stream",
     "text": [
      "2024-05-26 22:15:19,977-[INFO]- dropbox:390 -> Refreshing access token.\n",
      "2024-05-26 22:15:20,187-[INFO]- dropbox:474 -> Request to files/download\n"
     ]
    },
    {
     "name": "stderr",
     "output_type": "stream",
     "text": [
      " 62%|██████████████████████████████████████████████████▉                               | 82/132 [01:01<00:38,  1.31it/s]"
     ]
    },
    {
     "name": "stdout",
     "output_type": "stream",
     "text": [
      "2024-05-26 22:15:20,774-[INFO]- dropbox:390 -> Refreshing access token.\n",
      "2024-05-26 22:15:20,955-[INFO]- dropbox:474 -> Request to files/download\n"
     ]
    },
    {
     "name": "stderr",
     "output_type": "stream",
     "text": [
      " 63%|███████████████████████████████████████████████████▌                              | 83/132 [01:02<00:35,  1.38it/s]"
     ]
    },
    {
     "name": "stdout",
     "output_type": "stream",
     "text": [
      "2024-05-26 22:15:21,404-[INFO]- dropbox:390 -> Refreshing access token.\n",
      "2024-05-26 22:15:21,589-[INFO]- dropbox:474 -> Request to files/download\n"
     ]
    },
    {
     "name": "stderr",
     "output_type": "stream",
     "text": [
      " 64%|████████████████████████████████████████████████████▏                             | 84/132 [01:03<00:36,  1.31it/s]"
     ]
    },
    {
     "name": "stdout",
     "output_type": "stream",
     "text": [
      "2024-05-26 22:15:22,267-[INFO]- dropbox:390 -> Refreshing access token.\n",
      "2024-05-26 22:15:22,482-[INFO]- dropbox:474 -> Request to files/download\n"
     ]
    },
    {
     "name": "stderr",
     "output_type": "stream",
     "text": [
      " 64%|████████████████████████████████████████████████████▊                             | 85/132 [01:03<00:36,  1.30it/s]"
     ]
    },
    {
     "name": "stdout",
     "output_type": "stream",
     "text": [
      "2024-05-26 22:15:23,037-[INFO]- dropbox:390 -> Refreshing access token.\n",
      "2024-05-26 22:15:23,219-[INFO]- dropbox:474 -> Request to files/download\n"
     ]
    },
    {
     "name": "stderr",
     "output_type": "stream",
     "text": [
      " 65%|█████████████████████████████████████████████████████▍                            | 86/132 [01:04<00:34,  1.33it/s]"
     ]
    },
    {
     "name": "stdout",
     "output_type": "stream",
     "text": [
      "2024-05-26 22:15:23,758-[INFO]- dropbox:390 -> Refreshing access token.\n",
      "2024-05-26 22:15:23,943-[INFO]- dropbox:474 -> Request to files/download\n"
     ]
    },
    {
     "name": "stderr",
     "output_type": "stream",
     "text": [
      " 66%|██████████████████████████████████████████████████████                            | 87/132 [01:05<00:35,  1.25it/s]"
     ]
    },
    {
     "name": "stdout",
     "output_type": "stream",
     "text": [
      "2024-05-26 22:15:24,664-[INFO]- dropbox:390 -> Refreshing access token.\n",
      "2024-05-26 22:15:24,859-[INFO]- dropbox:474 -> Request to files/download\n"
     ]
    },
    {
     "name": "stderr",
     "output_type": "stream",
     "text": [
      " 67%|██████████████████████████████████████████████████████▋                           | 88/132 [01:06<00:39,  1.12it/s]"
     ]
    },
    {
     "name": "stdout",
     "output_type": "stream",
     "text": [
      "2024-05-26 22:15:25,768-[INFO]- dropbox:390 -> Refreshing access token.\n",
      "2024-05-26 22:15:25,954-[INFO]- dropbox:474 -> Request to files/download\n"
     ]
    },
    {
     "name": "stderr",
     "output_type": "stream",
     "text": [
      " 67%|███████████████████████████████████████████████████████▎                          | 89/132 [01:07<00:36,  1.17it/s]"
     ]
    },
    {
     "name": "stdout",
     "output_type": "stream",
     "text": [
      "2024-05-26 22:15:26,530-[INFO]- dropbox:390 -> Refreshing access token.\n",
      "2024-05-26 22:15:26,716-[INFO]- dropbox:474 -> Request to files/download\n"
     ]
    },
    {
     "name": "stderr",
     "output_type": "stream",
     "text": [
      " 68%|███████████████████████████████████████████████████████▉                          | 90/132 [01:08<00:33,  1.25it/s]"
     ]
    },
    {
     "name": "stdout",
     "output_type": "stream",
     "text": [
      "2024-05-26 22:15:27,201-[INFO]- dropbox:390 -> Refreshing access token.\n",
      "2024-05-26 22:15:27,375-[INFO]- dropbox:474 -> Request to files/download\n"
     ]
    },
    {
     "name": "stderr",
     "output_type": "stream",
     "text": [
      " 69%|████████████████████████████████████████████████████████▌                         | 91/132 [01:08<00:29,  1.37it/s]"
     ]
    },
    {
     "name": "stdout",
     "output_type": "stream",
     "text": [
      "2024-05-26 22:15:27,775-[INFO]- dropbox:390 -> Refreshing access token.\n",
      "2024-05-26 22:15:27,968-[INFO]- dropbox:474 -> Request to files/download\n"
     ]
    },
    {
     "name": "stderr",
     "output_type": "stream",
     "text": [
      " 70%|█████████████████████████████████████████████████████████▏                        | 92/132 [01:09<00:30,  1.31it/s]"
     ]
    },
    {
     "name": "stdout",
     "output_type": "stream",
     "text": [
      "2024-05-26 22:15:28,611-[INFO]- dropbox:390 -> Refreshing access token.\n",
      "2024-05-26 22:15:28,804-[INFO]- dropbox:474 -> Request to files/download\n"
     ]
    },
    {
     "name": "stderr",
     "output_type": "stream",
     "text": [
      " 70%|█████████████████████████████████████████████████████████▊                        | 93/132 [01:10<00:29,  1.31it/s]"
     ]
    },
    {
     "name": "stdout",
     "output_type": "stream",
     "text": [
      "2024-05-26 22:15:29,385-[INFO]- dropbox:390 -> Refreshing access token.\n",
      "2024-05-26 22:15:29,652-[INFO]- dropbox:474 -> Request to files/download\n"
     ]
    },
    {
     "name": "stderr",
     "output_type": "stream",
     "text": [
      " 71%|██████████████████████████████████████████████████████████▍                       | 94/132 [01:11<00:29,  1.28it/s]"
     ]
    },
    {
     "name": "stdout",
     "output_type": "stream",
     "text": [
      "2024-05-26 22:15:30,198-[INFO]- dropbox:390 -> Refreshing access token.\n",
      "2024-05-26 22:15:30,386-[INFO]- dropbox:474 -> Request to files/download\n"
     ]
    },
    {
     "name": "stderr",
     "output_type": "stream",
     "text": [
      " 72%|███████████████████████████████████████████████████████████                       | 95/132 [01:11<00:28,  1.32it/s]"
     ]
    },
    {
     "name": "stdout",
     "output_type": "stream",
     "text": [
      "2024-05-26 22:15:30,910-[INFO]- dropbox:390 -> Refreshing access token.\n",
      "2024-05-26 22:15:31,117-[INFO]- dropbox:474 -> Request to files/download\n"
     ]
    },
    {
     "name": "stderr",
     "output_type": "stream",
     "text": [
      " 73%|███████████████████████████████████████████████████████████▋                      | 96/132 [01:12<00:26,  1.36it/s]"
     ]
    },
    {
     "name": "stdout",
     "output_type": "stream",
     "text": [
      "2024-05-26 22:15:31,593-[INFO]- dropbox:390 -> Refreshing access token.\n",
      "2024-05-26 22:15:31,780-[INFO]- dropbox:474 -> Request to files/download\n"
     ]
    },
    {
     "name": "stderr",
     "output_type": "stream",
     "text": [
      " 73%|████████████████████████████████████████████████████████████▎                     | 97/132 [01:13<00:26,  1.33it/s]"
     ]
    },
    {
     "name": "stdout",
     "output_type": "stream",
     "text": [
      "2024-05-26 22:15:32,374-[INFO]- dropbox:390 -> Refreshing access token.\n",
      "2024-05-26 22:15:32,576-[INFO]- dropbox:474 -> Request to files/download\n"
     ]
    },
    {
     "name": "stderr",
     "output_type": "stream",
     "text": [
      " 74%|████████████████████████████████████████████████████████████▉                     | 98/132 [01:14<00:25,  1.32it/s]"
     ]
    },
    {
     "name": "stdout",
     "output_type": "stream",
     "text": [
      "2024-05-26 22:15:33,158-[INFO]- dropbox:390 -> Refreshing access token.\n",
      "2024-05-26 22:15:33,342-[INFO]- dropbox:474 -> Request to files/download\n"
     ]
    },
    {
     "name": "stderr",
     "output_type": "stream",
     "text": [
      " 75%|█████████████████████████████████████████████████████████████▌                    | 99/132 [01:14<00:24,  1.35it/s]"
     ]
    },
    {
     "name": "stdout",
     "output_type": "stream",
     "text": [
      "2024-05-26 22:15:33,867-[INFO]- dropbox:390 -> Refreshing access token.\n",
      "2024-05-26 22:15:34,113-[INFO]- dropbox:474 -> Request to files/download\n"
     ]
    },
    {
     "name": "stderr",
     "output_type": "stream",
     "text": [
      " 76%|█████████████████████████████████████████████████████████████▎                   | 100/132 [01:15<00:24,  1.31it/s]"
     ]
    },
    {
     "name": "stdout",
     "output_type": "stream",
     "text": [
      "2024-05-26 22:15:34,665-[INFO]- dropbox:390 -> Refreshing access token.\n",
      "2024-05-26 22:15:34,850-[INFO]- dropbox:474 -> Request to files/download\n"
     ]
    },
    {
     "name": "stderr",
     "output_type": "stream",
     "text": [
      " 77%|█████████████████████████████████████████████████████████████▉                   | 101/132 [01:16<00:22,  1.37it/s]"
     ]
    },
    {
     "name": "stdout",
     "output_type": "stream",
     "text": [
      "2024-05-26 22:15:35,315-[INFO]- dropbox:390 -> Refreshing access token.\n",
      "2024-05-26 22:15:35,516-[INFO]- dropbox:474 -> Request to files/download\n"
     ]
    },
    {
     "name": "stderr",
     "output_type": "stream",
     "text": [
      " 77%|██████████████████████████████████████████████████████████████▌                  | 102/132 [01:16<00:21,  1.42it/s]"
     ]
    },
    {
     "name": "stdout",
     "output_type": "stream",
     "text": [
      "2024-05-26 22:15:35,969-[INFO]- dropbox:390 -> Refreshing access token.\n",
      "2024-05-26 22:15:36,228-[INFO]- dropbox:474 -> Request to files/download\n"
     ]
    },
    {
     "name": "stderr",
     "output_type": "stream",
     "text": [
      " 78%|███████████████████████████████████████████████████████████████▏                 | 103/132 [01:17<00:21,  1.38it/s]"
     ]
    },
    {
     "name": "stdout",
     "output_type": "stream",
     "text": [
      "2024-05-26 22:15:36,740-[INFO]- dropbox:390 -> Refreshing access token.\n",
      "2024-05-26 22:15:36,925-[INFO]- dropbox:474 -> Request to files/download\n"
     ]
    },
    {
     "name": "stderr",
     "output_type": "stream",
     "text": [
      " 79%|███████████████████████████████████████████████████████████████▊                 | 104/132 [01:18<00:20,  1.34it/s]"
     ]
    },
    {
     "name": "stdout",
     "output_type": "stream",
     "text": [
      "2024-05-26 22:15:37,536-[INFO]- dropbox:390 -> Refreshing access token.\n",
      "2024-05-26 22:15:37,723-[INFO]- dropbox:474 -> Request to files/download\n"
     ]
    },
    {
     "name": "stderr",
     "output_type": "stream",
     "text": [
      " 80%|████████████████████████████████████████████████████████████████▍                | 105/132 [01:19<00:20,  1.31it/s]"
     ]
    },
    {
     "name": "stdout",
     "output_type": "stream",
     "text": [
      "2024-05-26 22:15:38,348-[INFO]- dropbox:390 -> Refreshing access token.\n",
      "2024-05-26 22:15:38,536-[INFO]- dropbox:474 -> Request to files/download\n"
     ]
    },
    {
     "name": "stderr",
     "output_type": "stream",
     "text": [
      " 80%|█████████████████████████████████████████████████████████████████                | 106/132 [01:20<00:19,  1.30it/s]"
     ]
    },
    {
     "name": "stdout",
     "output_type": "stream",
     "text": [
      "2024-05-26 22:15:39,123-[INFO]- dropbox:390 -> Refreshing access token.\n",
      "2024-05-26 22:15:39,307-[INFO]- dropbox:474 -> Request to files/download\n"
     ]
    },
    {
     "name": "stderr",
     "output_type": "stream",
     "text": [
      " 81%|█████████████████████████████████████████████████████████████████▋               | 107/132 [01:20<00:19,  1.26it/s]"
     ]
    },
    {
     "name": "stdout",
     "output_type": "stream",
     "text": [
      "2024-05-26 22:15:39,969-[INFO]- dropbox:390 -> Refreshing access token.\n",
      "2024-05-26 22:15:40,186-[INFO]- dropbox:474 -> Request to files/download\n"
     ]
    },
    {
     "name": "stderr",
     "output_type": "stream",
     "text": [
      " 82%|██████████████████████████████████████████████████████████████████▎              | 108/132 [01:21<00:20,  1.14it/s]"
     ]
    },
    {
     "name": "stdout",
     "output_type": "stream",
     "text": [
      "2024-05-26 22:15:41,036-[INFO]- dropbox:390 -> Refreshing access token.\n",
      "2024-05-26 22:15:41,227-[INFO]- dropbox:474 -> Request to files/download\n"
     ]
    },
    {
     "name": "stderr",
     "output_type": "stream",
     "text": [
      " 83%|██████████████████████████████████████████████████████████████████▉              | 109/132 [01:22<00:18,  1.24it/s]"
     ]
    },
    {
     "name": "stdout",
     "output_type": "stream",
     "text": [
      "2024-05-26 22:15:41,676-[INFO]- dropbox:390 -> Refreshing access token.\n",
      "2024-05-26 22:15:41,859-[INFO]- dropbox:474 -> Request to files/download\n"
     ]
    },
    {
     "name": "stderr",
     "output_type": "stream",
     "text": [
      " 83%|███████████████████████████████████████████████████████████████████▌             | 110/132 [01:23<00:18,  1.18it/s]"
     ]
    },
    {
     "name": "stdout",
     "output_type": "stream",
     "text": [
      "2024-05-26 22:15:42,634-[INFO]- dropbox:390 -> Refreshing access token.\n",
      "2024-05-26 22:15:42,823-[INFO]- dropbox:474 -> Request to files/download\n"
     ]
    },
    {
     "name": "stderr",
     "output_type": "stream",
     "text": [
      " 84%|████████████████████████████████████████████████████████████████████             | 111/132 [01:24<00:16,  1.28it/s]"
     ]
    },
    {
     "name": "stdout",
     "output_type": "stream",
     "text": [
      "2024-05-26 22:15:43,246-[INFO]- dropbox:390 -> Refreshing access token.\n",
      "2024-05-26 22:15:43,423-[INFO]- dropbox:474 -> Request to files/download\n"
     ]
    },
    {
     "name": "stderr",
     "output_type": "stream",
     "text": [
      " 85%|████████████████████████████████████████████████████████████████████▋            | 112/132 [01:24<00:15,  1.33it/s]"
     ]
    },
    {
     "name": "stdout",
     "output_type": "stream",
     "text": [
      "2024-05-26 22:15:43,941-[INFO]- dropbox:390 -> Refreshing access token.\n",
      "2024-05-26 22:15:44,167-[INFO]- dropbox:474 -> Request to files/download\n"
     ]
    },
    {
     "name": "stderr",
     "output_type": "stream",
     "text": [
      " 86%|█████████████████████████████████████████████████████████████████████▎           | 113/132 [01:25<00:14,  1.28it/s]"
     ]
    },
    {
     "name": "stdout",
     "output_type": "stream",
     "text": [
      "2024-05-26 22:15:44,789-[INFO]- dropbox:390 -> Refreshing access token.\n",
      "2024-05-26 22:15:44,990-[INFO]- dropbox:474 -> Request to files/download\n"
     ]
    },
    {
     "name": "stderr",
     "output_type": "stream",
     "text": [
      " 86%|█████████████████████████████████████████████████████████████████████▉           | 114/132 [01:26<00:14,  1.26it/s]"
     ]
    },
    {
     "name": "stdout",
     "output_type": "stream",
     "text": [
      "2024-05-26 22:15:45,602-[INFO]- dropbox:390 -> Refreshing access token.\n"
     ]
    },
    {
     "name": "stderr",
     "output_type": "stream",
     "text": [
      " 86%|█████████████████████████████████████████████████████████████████████▉           | 114/132 [01:26<00:13,  1.32it/s]\n",
      "\n",
      "KeyboardInterrupt\n",
      "\n"
     ]
    }
   ],
   "source": [
    "# For indexing analysis folders\n",
    "for name in names:\n",
    "    video_param_frame = index_videos_dropbox_new(\n",
    "        analysis_folder,\n",
    "        videos_folder,\n",
    "        f\"{dropbox_address}{name}/\",\n",
    "        REDO_SCROUNGING=True,\n",
    "        # date_start=20230801,\n",
    "        # date_end=20230813,\n",
    "        plate_names=None,\n",
    "    )\n",
    "    clear_output(wait=False)\n",
    "\n",
    "clear_output(wait=True)"
   ]
  },
  {
   "cell_type": "code",
   "execution_count": 5,
   "metadata": {
    "tags": []
   },
   "outputs": [],
   "source": [
    "folder_filter = dropbox_address[5:]\n",
    "\n",
    "img_infos = glob.glob(\n",
    "    f\"{analysis_folder}{folder_filter}/**/video_data.json\", recursive=True\n",
    ")\n",
    "vid_anls_frame = pd.DataFrame()\n",
    "for address in img_infos:\n",
    "    add_info = pd.read_json(address, orient=\"index\").T\n",
    "    vid_anls_frame = pd.concat([vid_anls_frame, add_info], ignore_index=True)\n",
    "\n",
    "vid_anls_frame = vid_anls_frame.sort_values(\"unique_id\").reset_index(drop=True)\n",
    "# vid_anls_frame.tail(20)"
   ]
  },
  {
   "cell_type": "code",
   "execution_count": null,
   "metadata": {},
   "outputs": [],
   "source": []
  },
  {
   "cell_type": "code",
   "execution_count": 6,
   "metadata": {
    "tags": []
   },
   "outputs": [
    {
     "name": "stdout",
     "output_type": "stream",
     "text": [
      "Number of videos to be analyzed: 1357\n"
     ]
    }
   ],
   "source": [
    "####################################################################################\n",
    "### This is where you can apply the filters. Only those videos will be analyzed. ###\n",
    "####################################################################################\n",
    "\n",
    "# analysis_frame = vid_anls_frame[\n",
    "#     vid_anls_frame[\"imaging_day\"].ge(\"20230814\")\n",
    "# ].reset_index(drop=True)\n",
    "# analysis_frame = vid_anls_frame[vid_anls_frame['xpos'].le(100)].reset_index(drop=True)\n",
    "# analysis_frame = analysis_frame[analysis_frame['mode']==\"F\"]\n",
    "# analysis_frame = vid_anls_frame[vid_anls_frame['plate_id'] != \"20230729_Plate440\"]\n",
    "# analysis_frame = analysis_frame[analysis_frame['video_int'].isin([1])]\n",
    "analysis_frame = vid_anls_frame\n",
    "analysis_frame = analysis_frame.loc[analysis_frame[\"plate_id\"].isin(names)]\n",
    "####################################################################################\n",
    "### Below code will prepare for those videos to be downloaded to videos_folder.  ###\n",
    "####################################################################################\n",
    "\n",
    "print(f\"Number of videos to be analyzed: {len(analysis_frame)}\")\n",
    "# analysis_frame.tail(20)"
   ]
  },
  {
   "cell_type": "code",
   "execution_count": null,
   "metadata": {
    "tags": []
   },
   "outputs": [],
   "source": [
    "analysis_frame[\"plate_id\"].unique()"
   ]
  },
  {
   "cell_type": "markdown",
   "metadata": {},
   "source": [
    "## Run SLURM Analysis job\n",
    "Two options: For small analysis, use the first block. This will just do the calculations on the machine. For large-scale analysis, use the second block, as it will create a Snellius job.\n",
    "## Input:\n",
    "Snellius job parameters\n",
    "## Output:\n",
    "Analysis folder will be populated with analysis tiffs and csv sheets. At the same time, this analysis folder will also be uploaded to the dropbox."
   ]
  },
  {
   "cell_type": "code",
   "execution_count": 7,
   "metadata": {
    "collapsed": true,
    "jupyter": {
     "outputs_hidden": true
    },
    "tags": []
   },
   "outputs": [
    {
     "name": "stdout",
     "output_type": "stream",
     "text": [
      "Sent all the jobs! Use the command '$ squeue' in the terminal to see the progress\n"
     ]
    }
   ],
   "source": [
    "### LARGE VIDEO ANALYSIS\n",
    "\n",
    "nr_parallel = np.min([len(analysis_frame.index), 2])\n",
    "\n",
    "run_parallel_flows(\n",
    "    \"flux_extract.py\",\n",
    "    [analysis_folder, 9, 0.95, 0.005, 200, dropbox_address],\n",
    "    analysis_frame,\n",
    "    nr_parallel,\n",
    "    \"2:00:00\",\n",
    "    \"flux_extract\",\n",
    "    node=\"fat_rome\",\n",
    "    name_job=\"transport\",\n",
    ")\n",
    "clear_output(wait=False)\n",
    "\n",
    "print(\n",
    "    \"Sent all the jobs! Use the command '$ squeue' in the terminal to see the progress\"\n",
    ")"
   ]
  },
  {
   "cell_type": "code",
   "execution_count": 8,
   "metadata": {
    "tags": []
   },
   "outputs": [
    {
     "name": "stdout",
     "output_type": "stream",
     "text": [
      "Sent all the jobs! Use the command '$ squeue' in the terminal to see the progress\n"
     ]
    }
   ],
   "source": [
    "nr_parallel = np.min([len(analysis_frame.index), 30])\n",
    "\n",
    "run_parallel_transfer(\n",
    "    \"flux_upload.py\",\n",
    "    [analysis_folder, 9, 0.95, 0.005, 200, dropbox_address],\n",
    "    analysis_frame,\n",
    "    nr_parallel,\n",
    "    \"6:00:00\",\n",
    "    \"flux_upload\",\n",
    "    node=\"staging\",\n",
    "    cpus=1,\n",
    "    # dependency = \"flux_extract.sh\",\n",
    "    name_job=\"flux_upload.sh\",\n",
    ")\n",
    "clear_output(wait=False)\n",
    "\n",
    "print(\n",
    "    \"Sent all the jobs! Use the command '$ squeue' in the terminal to see the progress\"\n",
    ")"
   ]
  },
  {
   "cell_type": "code",
   "execution_count": null,
   "metadata": {
    "tags": []
   },
   "outputs": [],
   "source": [
    "\"20230810_Plate441_001\" in list(analysis_frame[\"unique_id\"].astype(str))"
   ]
  },
  {
   "cell_type": "code",
   "execution_count": null,
   "metadata": {
    "tags": []
   },
   "outputs": [],
   "source": [
    "values_id = list(analysis_frame[\"unique_id\"])\n",
    "dbx = load_dbx()\n",
    "img_infos = glob.glob(f\"{analysis_folder}/**/video_data.json\", recursive=True)\n",
    "vid_anls_frame = pd.DataFrame()\n",
    "for address in img_infos:\n",
    "    if os.path.exists(address):\n",
    "        add_info = pd.read_json(address, orient=\"index\").T\n",
    "        # print(add_info['unique_id'].iloc[0])\n",
    "        if add_info[\"unique_id\"].iloc[0] in values_id:\n",
    "            plate_id_video = add_info[\"plate_id\"].iloc[0]\n",
    "            original_path = add_info[\"tot_path_drop\"].iloc[0]\n",
    "\n",
    "            # Replace the specific substring in the target path\n",
    "            target_path = original_path.replace(\n",
    "                f\"/{plate_id_video}\", f\"/KymoSpeeDExtract/{plate_id_video}\"\n",
    "            )\n",
    "            source = \"/\" + target_path + \"/video_data_network.json\"\n",
    "            target = address.replace(\"video_data.json\", \"video_data_network.json\")\n",
    "            try:\n",
    "                results = dbx.files_search(\n",
    "                    \"/\" + target_path, \"video_data_network.json\"\n",
    "                ).matches\n",
    "                if results:\n",
    "                    download(\n",
    "                        source,\n",
    "                        target,\n",
    "                    )\n",
    "            except dropbox.exceptions.ApiError:\n",
    "                print(address)\n",
    "    # break"
   ]
  }
 ],
 "metadata": {
  "kernelspec": {
   "display_name": "Python 3 (ipykernel)",
   "language": "python",
   "name": "python3"
  },
  "language_info": {
   "codemirror_mode": {
    "name": "ipython",
    "version": 3
   },
   "file_extension": ".py",
   "mimetype": "text/x-python",
   "name": "python",
   "nbconvert_exporter": "python",
   "pygments_lexer": "ipython3",
   "version": "3.12.3"
  }
 },
 "nbformat": 4,
 "nbformat_minor": 4
}

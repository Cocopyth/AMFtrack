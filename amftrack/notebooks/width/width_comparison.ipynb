{
 "cells": [
  {
   "cell_type": "code",
   "execution_count": null,
   "id": "382a263d-1ac6-44d1-885d-4e898f40caa9",
   "metadata": {},
   "outputs": [],
   "source": [
    "%load_ext autoreload\n",
    "%autoreload 2\n",
    "%matplotlib widget\n",
    "\n",
    "from amftrack.pipeline.launching.run_super import (\n",
    "    run_launcher,\n",
    "    directory_scratch,\n",
    "    directory_project,\n",
    "    directory_project,\n",
    "    run_parallel_stitch,\n",
    "    run_parallel_transfer,\n",
    ")\n",
    "import os\n",
    "from amftrack.util.sys import (\n",
    "    get_dates_datetime,\n",
    "    get_dirname,\n",
    "    temp_path,\n",
    "    get_data_info,\n",
    "    update_plate_info,\n",
    "    update_analysis_info,\n",
    "    get_analysis_info,\n",
    "    get_current_folders,\n",
    "    get_folders_by_plate_id,\n",
    ")\n",
    "\n",
    "from time import time_ns\n",
    "from amftrack.util.dbx import upload_folders, load_dbx, download, get_dropbox_folders\n",
    "from datetime import datetime\n",
    "from amftrack.pipeline.launching.run_super import (\n",
    "    run_parallel,\n",
    "    directory_scratch,\n",
    "    directory_project,\n",
    "    run_parallel_stitch,\n",
    ")\n",
    "from amftrack.util.dbx import read_saved_dropbox_state, get_dropbox_folders\n",
    "import sys\n",
    "import os\n",
    "\n",
    "from amftrack.util.sys import get_dirname, temp_path\n",
    "import pandas as pd\n",
    "import ast\n",
    "from scipy import sparse\n",
    "import scipy.io as sio\n",
    "import cv2\n",
    "import imageio.v2 as imageio\n",
    "import numpy as np\n",
    "import scipy.sparse\n",
    "import os\n",
    "from time import time\n",
    "from amftrack.pipeline.functions.image_processing.extract_skel import (\n",
    "    extract_skel_new_prince,\n",
    "    run_back_sub,\n",
    "    bowler_hat,\n",
    ")\n",
    "\n",
    "from amftrack.util.sys import get_dates_datetime, get_dirname\n",
    "import shutil\n",
    "import matplotlib.pyplot as plt\n",
    "from amftrack.pipeline.functions.image_processing.experiment_class_surf import (\n",
    "    Experiment,\n",
    "    save_graphs,\n",
    "    load_graphs,\n",
    "    Edge,\n",
    "    Node,\n",
    ")\n",
    "from amftrack.pipeline.functions.image_processing.experiment_util import (\n",
    "    get_random_edge,\n",
    "    distance_point_edge,\n",
    "    plot_edge,\n",
    "    plot_edge_cropped,\n",
    "    find_nearest_edge,\n",
    "    get_edge_from_node_labels,\n",
    "    plot_full_image_with_features,\n",
    "    get_all_edges,\n",
    "    get_all_nodes,\n",
    "    find_neighboring_edges,\n",
    "    reconstruct_image,\n",
    "    reconstruct_skeletton_from_edges,\n",
    "    reconstruct_skeletton_unicolor,\n",
    "    reconstruct_image_from_general,\n",
    "    plot_full,\n",
    "    plot_edge_color_value,\n",
    ")\n",
    "from matplotlib import cm"
   ]
  },
  {
   "cell_type": "code",
   "execution_count": null,
   "id": "1e050588-7e69-4944-ac9f-d139ff3ba403",
   "metadata": {},
   "outputs": [],
   "source": [
    "plates = [\n",
    "    \"938_20220325\",\n",
    "    \"1045_20220504\",\n",
    "    \"1048_20220506\",\n",
    "    \"1076_20220511\",\n",
    "    # \"241_20230403\",\n",
    "    \"247_20230422\",\n",
    "    \"24_20220426\",\n",
    "]"
   ]
  },
  {
   "cell_type": "code",
   "execution_count": null,
   "id": "4b716fc8-ef48-427f-8676-479c8dc60327",
   "metadata": {},
   "outputs": [],
   "source": [
    "directory_targ = os.path.join(directory_scratch, \"stitch_temp2\") + \"/\"\n",
    "# directory_targ = directory_project\n",
    "\n",
    "update_plate_info(directory_targ, local=True)\n",
    "all_folders = get_current_folders(directory_targ, local=True)"
   ]
  },
  {
   "cell_type": "code",
   "execution_count": null,
   "id": "53173750-9bfe-4311-a013-fe8501691e2a",
   "metadata": {},
   "outputs": [],
   "source": [
    "folders = all_folders.loc[all_folders[\"unique_id\"] == \"24_20220426\"]\n",
    "folders = folders.loc[folders[\"/Analysis/nx_graph_pruned_width.p\"] == True]"
   ]
  },
  {
   "cell_type": "code",
   "execution_count": null,
   "id": "715dbb6f-8881-4aa9-9907-eddd8e1815e9",
   "metadata": {
    "jupyter": {
     "outputs_hidden": true
    },
    "tags": []
   },
   "outputs": [],
   "source": [
    "folders.loc[folders[\"strain\"] == \"'A5'\"]"
   ]
  },
  {
   "cell_type": "code",
   "execution_count": null,
   "id": "9eed549a-de7e-4587-b262-6747a93b7c36",
   "metadata": {},
   "outputs": [],
   "source": [
    "folders = folders.sort_values(by=\"datetime\")\n",
    "\n",
    "exp = Experiment(directory_targ)\n",
    "i = 45\n",
    "exp.load(folders.iloc[i : i + 1], suffix=\"_width\")\n",
    "for t in range(exp.ts):\n",
    "    exp.load_tile_information(t)"
   ]
  },
  {
   "cell_type": "code",
   "execution_count": null,
   "id": "c016c28d-02c3-4ae2-bbec-a46811aef013",
   "metadata": {
    "jupyter": {
     "outputs_hidden": true
    },
    "tags": []
   },
   "outputs": [],
   "source": [
    "timestep = {\n",
    "    \"938_20220325\": 35,\n",
    "    \"1045_20220504\": 45,\n",
    "    \"1048_20220506\": 45,\n",
    "    \"1076_20220511\": 65,\n",
    "    \"247_20230422\": 45,\n",
    "    \"24_20220426\": 60,\n",
    "}\n",
    "results = {}\n",
    "for plate in plates:\n",
    "    folders = all_folders.loc[all_folders[\"unique_id\"] == plate]\n",
    "    folders = folders.loc[folders[\"/Analysis/nx_graph_pruned_width.p\"] == True]\n",
    "    folders = folders.sort_values(by=\"datetime\")\n",
    "\n",
    "    exp = Experiment(directory_targ)\n",
    "    i = 45\n",
    "    exp.load(folders.iloc[i : i + 1], suffix=\"_width\")\n",
    "    for t in range(exp.ts):\n",
    "        exp.load_tile_information(t)\n",
    "    edges = get_all_edges(exp, t)\n",
    "    lengths = [edge.length_um(t) for edge in edges]\n",
    "    widths = [edge.width(t) for edge in edges]\n",
    "    results[plate] = edges, lengths, widths"
   ]
  },
  {
   "cell_type": "code",
   "execution_count": null,
   "id": "13ce58dc-9ff1-4ba8-84f4-da093da33159",
   "metadata": {},
   "outputs": [],
   "source": [
    "select = all_folders.loc[all_folders[\"unique_id\"].isin(plates)]\n",
    "select = select.loc[select[\"/Analysis/nx_graph_pruned_width.p\"] == True]\n",
    "\n",
    "strains = select[\"strain\"].unique()\n",
    "plate_strain = {}\n",
    "for plate in plates:\n",
    "    folders = all_folders.loc[all_folders[\"unique_id\"] == plate]\n",
    "    strain = folders[\"strain\"].value_counts().idxmax()\n",
    "    plate_strain[plate] = strain\n",
    "strain_plate = {}\n",
    "for strain in plate_strain.values():\n",
    "    strain_plate[strain] = []\n",
    "    for key in plate_strain.keys():\n",
    "        if plate_strain[key] == strain:\n",
    "            strain_plate[strain].append(key)\n",
    "result_strain = {}\n",
    "for strain in strains:\n",
    "    plates_strain = strain_plate[strain]\n",
    "    full_edges, full_lengths, full_widths = [], [], []\n",
    "    for plate in plates_strain:\n",
    "        edges, lengths, widths = results[plate]\n",
    "        full_edges += edges\n",
    "        full_lengths += lengths\n",
    "        full_widths += widths\n",
    "    result_strain[strain] = full_edges, full_lengths, full_widths"
   ]
  },
  {
   "cell_type": "code",
   "execution_count": null,
   "id": "e06d856e-099e-44db-a47f-2594d65adf68",
   "metadata": {},
   "outputs": [],
   "source": [
    "fig, ax = plt.subplots()\n",
    "for plate in plates:\n",
    "    edges, lengths, widths = results[plate]\n",
    "    ax.hist(widths, 30, weights=lengths, alpha=0.2, density=True)\n",
    "    ax.set_xlim(0, 15)\n",
    "# ax.set_yscale(\"log\")"
   ]
  },
  {
   "cell_type": "code",
   "execution_count": null,
   "id": "f9f55702-6031-4495-beab-8207e538f736",
   "metadata": {},
   "outputs": [],
   "source": [
    "fig, ax = plt.subplots()\n",
    "for strain in strains:\n",
    "    edges, lengths, widths = result_strain[strain]\n",
    "    ax.hist(\n",
    "        np.array(widths) / 2,\n",
    "        30,\n",
    "        weights=lengths,\n",
    "        alpha=0.2,\n",
    "        density=True,\n",
    "        label=f\"{strain}\"\n",
    "        + \" : $r_{eff} =$\"\n",
    "        + str(\n",
    "            round(np.sqrt(np.average(np.array(widths) ** 2, weights=lengths)) / 2, 1)\n",
    "        ),\n",
    "    )\n",
    "    ax.set_xlim(0, 7.5)\n",
    "# ax.set_yscale(\"log\")\n",
    "ax.set_xlabel(\"hyphal radius ($\\mu m$)\")\n",
    "ax.set_ylabel(\"length weighted probability\")\n",
    "\n",
    "ax.legend()"
   ]
  },
  {
   "cell_type": "code",
   "execution_count": null,
   "id": "c4f28830-608c-43c4-82f3-49400e545863",
   "metadata": {},
   "outputs": [],
   "source": [
    "strains"
   ]
  },
  {
   "cell_type": "code",
   "execution_count": null,
   "id": "2af94b13-6009-470f-bded-5e9648fe8699",
   "metadata": {},
   "outputs": [],
   "source": [
    "vmax = 9\n",
    "vmin = 3\n",
    "region = None\n",
    "nodes = get_all_nodes(exp, t)\n",
    "plot_edge_color_value(\n",
    "    exp,\n",
    "    t,\n",
    "    lambda edge: edge.width(t),\n",
    "    region=region,\n",
    "    # nodes = nodes,\n",
    "    cmap=cm.get_cmap(\"viridis\", 100),\n",
    "    v_min=vmin,\n",
    "    v_max=vmax,\n",
    "    plot_cmap=True,\n",
    "    show_background=True,\n",
    "    dilation=10,\n",
    "    figsize=(16, 12),\n",
    "    alpha=0.3,\n",
    "    downsizing=5,\n",
    ")"
   ]
  },
  {
   "cell_type": "code",
   "execution_count": null,
   "id": "b2c62493-6433-4bcf-b894-09d1c1abb6c3",
   "metadata": {},
   "outputs": [],
   "source": [
    "vmax = 9\n",
    "vmin = 3\n",
    "region = None\n",
    "nodes = get_all_nodes(exp, t)\n",
    "plot_edge_color_value(\n",
    "    exp,\n",
    "    t,\n",
    "    lambda edge: edge.width(t),\n",
    "    region=region,\n",
    "    # nodes = nodes,\n",
    "    cmap=cm.get_cmap(\"viridis\", 100),\n",
    "    v_min=vmin,\n",
    "    v_max=vmax,\n",
    "    plot_cmap=True,\n",
    "    show_background=True,\n",
    "    dilation=4,\n",
    "    figsize=(16, 12),\n",
    "    alpha=0.3,\n",
    "    downsizing=5,\n",
    ")"
   ]
  },
  {
   "cell_type": "code",
   "execution_count": null,
   "id": "503638a6-13ed-4ba1-a8ff-1c957e77257b",
   "metadata": {},
   "outputs": [],
   "source": [
    "vmax = 9\n",
    "vmin = 3\n",
    "region = [[3800 * 5, 4000 * 5], [3600 * 5, 3700 * 5]]\n",
    "nodes = get_all_nodes(exp, t)\n",
    "plot_edge_color_value(\n",
    "    exp,\n",
    "    t,\n",
    "    lambda edge: edge.width(t),\n",
    "    region=region,\n",
    "    nodes=nodes,\n",
    "    cmap=cm.get_cmap(\"viridis\", 100),\n",
    "    v_min=vmin,\n",
    "    v_max=vmax,\n",
    "    plot_cmap=True,\n",
    "    show_background=True,\n",
    "    dilation=4,\n",
    "    figsize=(16, 12),\n",
    "    alpha=0.3,\n",
    "    downsizing=1,\n",
    ")"
   ]
  },
  {
   "cell_type": "code",
   "execution_count": null,
   "id": "cde44f71-73e0-4f6a-b369-9353ae04d56a",
   "metadata": {},
   "outputs": [],
   "source": [
    "edges1 = [\n",
    "    (30162, 29280),\n",
    "    (29962, 29194),\n",
    "    (30139, 31086),\n",
    "    (31459, 32379),\n",
    "    (32614, 32260),\n",
    "    (32260, 31847),\n",
    "]"
   ]
  },
  {
   "cell_type": "code",
   "execution_count": null,
   "id": "7d6c3028-0dba-4045-bc12-af283581499b",
   "metadata": {},
   "outputs": [],
   "source": [
    "edges1_obj = [Edge(Node(edge[0], exp), Node(edge[1], exp), exp) for edge in edges1]"
   ]
  },
  {
   "cell_type": "code",
   "execution_count": null,
   "id": "4be7fa02-63ca-4d3e-84e3-d44e8d9999da",
   "metadata": {},
   "outputs": [],
   "source": [
    "edges1_obj[-1].width(t)"
   ]
  },
  {
   "cell_type": "code",
   "execution_count": null,
   "id": "9e3b0ab7-1f19-45ad-822f-b33230a344b1",
   "metadata": {},
   "outputs": [],
   "source": [
    "19.7 * 1.725 / 12.5"
   ]
  },
  {
   "cell_type": "code",
   "execution_count": null,
   "id": "3fc51bed-9703-4977-92f9-3969125ed79c",
   "metadata": {},
   "outputs": [],
   "source": [
    "profile, _, __ = extract_section_profiles_for_edge_exp(\n",
    "    exp,\n",
    "    t,\n",
    "    edge,\n",
    "    resolution=resolution,\n",
    "    offset=offset,\n",
    "    step=step,\n",
    "    target_length=target_length,\n",
    ")"
   ]
  },
  {
   "cell_type": "code",
   "execution_count": null,
   "id": "87efa2d0-2b55-4149-8486-069bf9b142d4",
   "metadata": {},
   "outputs": [],
   "source": [
    "vmax = 9\n",
    "vmin = 3\n",
    "region = [[3800 * 5, 4000 * 5], [3600 * 5, 3700 * 5]]\n",
    "nodes = get_all_nodes(exp, t)\n",
    "plot_edge_color_value(\n",
    "    exp,\n",
    "    t,\n",
    "    lambda edge: edge.width(t),\n",
    "    region=region,\n",
    "    nodes=nodes,\n",
    "    cmap=cm.get_cmap(\"viridis\", 100),\n",
    "    v_min=vmin,\n",
    "    v_max=vmax,\n",
    "    plot_cmap=True,\n",
    "    show_background=True,\n",
    "    dilation=2,\n",
    "    figsize=(16, 12),\n",
    "    alpha=0,\n",
    "    downsizing=1,\n",
    ")"
   ]
  },
  {
   "cell_type": "code",
   "execution_count": null,
   "id": "9cfd08fd-3a1f-488f-896a-eda846b24ff1",
   "metadata": {},
   "outputs": [],
   "source": [
    "vmax = 12\n",
    "vmin = 0\n",
    "plot_edge_color_value(\n",
    "    exp,\n",
    "    t,\n",
    "    lambda edge: edge.width(t),\n",
    "    cmap=cm.get_cmap(\"seismic\", 100),\n",
    "    v_min=vmin,\n",
    "    v_max=vmax,\n",
    "    plot_cmap=True,\n",
    "    show_background=False,\n",
    "    dilation=10,\n",
    "    figsize=(12, 8),\n",
    ")"
   ]
  },
  {
   "cell_type": "code",
   "execution_count": null,
   "id": "9bfd631e-982e-446f-b2d1-f9a66d09a469",
   "metadata": {},
   "outputs": [],
   "source": [
    "edges = get_all_edges(exp, t)\n",
    "lengths = [edge.length_um(t) for edge in edges]\n",
    "widths = [edge.width(t) for edge in edges]\n",
    "fig, ax = plt.subplots()\n",
    "ax.hist(widths, 30, weights=lengths)\n",
    "ax.set_xlim(0, 15)"
   ]
  },
  {
   "cell_type": "code",
   "execution_count": null,
   "id": "83de0db1-6390-4f31-a82c-a1671658de15",
   "metadata": {},
   "outputs": [],
   "source": [
    "edges = get_all_edges(exp, t)\n",
    "lengths = [edge.length_um(t) for edge in edges]\n",
    "widths = [edge.width(t) for edge in edges]\n",
    "fig, ax = plt.subplots()\n",
    "ax.hist(widths, 30, weights=lengths)\n",
    "ax.set_xlim(0, 15)"
   ]
  },
  {
   "cell_type": "code",
   "execution_count": null,
   "id": "3098f50e-d608-49ef-b25e-53342c70a278",
   "metadata": {},
   "outputs": [],
   "source": [
    "edges = get_all_edges(exp, t)\n",
    "lengths = [edge.length_um(t) for edge in edges]\n",
    "widths = [edge.width(t) for edge in edges]\n",
    "fig, ax = plt.subplots()\n",
    "ax.hist(widths, 20, weights=lengths)"
   ]
  },
  {
   "cell_type": "code",
   "execution_count": null,
   "id": "350bbf38-68a2-41f9-b545-716e9d99f1df",
   "metadata": {},
   "outputs": [],
   "source": [
    "np.average(widths, weights=lengths)"
   ]
  },
  {
   "cell_type": "code",
   "execution_count": null,
   "id": "a8b4ba5b-c30a-4775-932a-8817fbd20c11",
   "metadata": {},
   "outputs": [],
   "source": [
    "np.average(widths, weights=lengths)"
   ]
  },
  {
   "cell_type": "code",
   "execution_count": null,
   "id": "7609894e-30f1-4a50-a317-b60674c4ecf9",
   "metadata": {},
   "outputs": [],
   "source": [
    "np.average(widths, weights=lengths)"
   ]
  },
  {
   "cell_type": "code",
   "execution_count": null,
   "id": "58fbc608-9313-4b33-ac60-fe5292e87fdc",
   "metadata": {},
   "outputs": [],
   "source": [
    "np.average(widths, weights=lengths)"
   ]
  }
 ],
 "metadata": {
  "kernelspec": {
   "display_name": "Python 3 (ipykernel)",
   "language": "python",
   "name": "python3"
  },
  "language_info": {
   "codemirror_mode": {
    "name": "ipython",
    "version": 3
   },
   "file_extension": ".py",
   "mimetype": "text/x-python",
   "name": "python",
   "nbconvert_exporter": "python",
   "pygments_lexer": "ipython3",
   "version": "3.7.13"
  }
 },
 "nbformat": 4,
 "nbformat_minor": 5
}

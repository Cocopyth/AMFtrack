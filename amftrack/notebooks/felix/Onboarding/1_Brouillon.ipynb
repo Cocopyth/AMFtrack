{
 "cells": [
  {
   "cell_type": "markdown",
   "id": "8fb833ba",
   "metadata": {},
   "source": [
    "# Looking at an experiment object"
   ]
  },
  {
   "cell_type": "markdown",
   "id": "f472eae3",
   "metadata": {},
   "source": [
    "## Set-up"
   ]
  },
  {
   "cell_type": "markdown",
   "id": "0cb23815",
   "metadata": {},
   "source": [
    "### Imports"
   ]
  },
  {
   "cell_type": "code",
   "execution_count": null,
   "id": "a44f9aa6",
   "metadata": {
    "vscode": {
     "languageId": "json"
    }
   },
   "outputs": [],
   "source": [
    "%load_ext autoreload\n",
    "%autoreload 2\n",
    "import os  \n",
    "import sys\n",
    "import pandas as pd\n",
    "from amftrack.util.sys import get_dates_datetime, get_dirname, temp_path, get_data_info, update_plate_info, \\\n",
    "get_current_folders, get_folders_by_plate_id, path_code\n",
    "#import ast\n",
    "#from amftrack.plotutil import plot_t_tp1\n",
    "from scipy import sparse\n",
    "from datetime import datetime\n",
    "import pickle\n",
    "import scipy.io as sio\n",
    "from pymatreader import read_mat\n",
    "from matplotlib import colors\n",
    "import cv2\n",
    "import imageio\n",
    "import matplotlib.pyplot as plt\n",
    "import numpy as np\n",
    "from skimage.filters import frangi\n",
    "from skimage import filters\n",
    "from random import choice\n",
    "#import scipy.sparse\n",
    "from amftrack.pipeline.functions.image_processing.extract_graph import from_sparse_to_graph, generate_nx_graph, sparse_to_doc\n",
    "from skimage.feature import hessian_matrix_det\n",
    "from amftrack.pipeline.functions.image_processing.experiment_class_surf import Experiment, Edge,Node, plot_raw_plus\n",
    "from amftrack.pipeline.paths.directory import run_parallel_transfer, find_state, directory_scratch, directory_project, directory_archive\n",
    "import dropbox\n",
    "from amftrack.transfer.functions.transfer import upload, zip_file\n",
    "from subprocess import call\n",
    "from tqdm.autonotebook import tqdm\n",
    "from time import time_ns\n",
    "import subprocess\n",
    "import matplotlib as mpl\n",
    "from random import choice"
   ]
  },
  {
   "cell_type": "code",
   "execution_count": 42,
   "id": "88741314",
   "metadata": {},
   "outputs": [
    {
     "name": "stdout",
     "output_type": "stream",
     "text": [
      "The autoreload extension is already loaded. To reload it, use:\n",
      "  %reload_ext autoreload\n"
     ]
    }
   ],
   "source": [
    "import os\n",
    "from amftrack.util.sys import get_current_folders, update_plate_info\n",
    "from amftrack.pipeline.functions.image_processing.experiment_class_surf import Experiment\n",
    "%load_ext autoreload\n",
    "%autoreload 2"
   ]
  },
  {
   "cell_type": "markdown",
   "id": "0c0b6e3d",
   "metadata": {},
   "source": [
    "### Choosing the folder"
   ]
  },
  {
   "cell_type": "code",
   "execution_count": 63,
   "id": "6337c3bc",
   "metadata": {
    "scrolled": true
   },
   "outputs": [
    {
     "data": {
      "application/vnd.jupyter.widget-view+json": {
       "model_id": "2121c01b09ba4a10bf15a923358447b8",
       "version_major": 2,
       "version_minor": 0
      },
      "text/plain": [
       "analysed:   0%|          | 0/5 [00:00<?, ?it/s]"
      ]
     },
     "metadata": {},
     "output_type": "display_data"
    },
    {
     "data": {
      "text/plain": [
       "1"
      ]
     },
     "execution_count": 63,
     "metadata": {},
     "output_type": "execute_result"
    }
   ],
   "source": [
    "directory = r'/data/felix'\n",
    "update_plate_info(directory)\n",
    "all_folders = get_current_folders(directory+\"/\")\n",
    "len(all_folders)"
   ]
  },
  {
   "cell_type": "code",
   "execution_count": 64,
   "id": "7c20235e",
   "metadata": {
    "scrolled": true
   },
   "outputs": [
    {
     "data": {
      "text/html": [
       "<div>\n",
       "<style scoped>\n",
       "    .dataframe tbody tr th:only-of-type {\n",
       "        vertical-align: middle;\n",
       "    }\n",
       "\n",
       "    .dataframe tbody tr th {\n",
       "        vertical-align: top;\n",
       "    }\n",
       "\n",
       "    .dataframe thead th {\n",
       "        text-align: right;\n",
       "    }\n",
       "</style>\n",
       "<table border=\"1\" class=\"dataframe\">\n",
       "  <thead>\n",
       "    <tr style=\"text-align: right;\">\n",
       "      <th></th>\n",
       "      <th>total_path</th>\n",
       "      <th>Plate</th>\n",
       "      <th>PrincePos</th>\n",
       "      <th>root</th>\n",
       "      <th>strain</th>\n",
       "      <th>medium</th>\n",
       "      <th>split</th>\n",
       "      <th>Pbait</th>\n",
       "      <th>CrossDate</th>\n",
       "      <th>Temperature</th>\n",
       "      <th>...</th>\n",
       "      <th>/Analysis/skeleton_pruned_compressed.mat</th>\n",
       "      <th>/Analysis/transform.mat</th>\n",
       "      <th>/Analysis/transform_corrupt.mat</th>\n",
       "      <th>/Analysis/skeleton_realigned_compressed.mat</th>\n",
       "      <th>/Analysis/nx_graph_pruned.p</th>\n",
       "      <th>/Analysis/nx_graph_pruned_width.p</th>\n",
       "      <th>/Analysis/nx_graph_pruned_labeled.p</th>\n",
       "      <th>date</th>\n",
       "      <th>folder</th>\n",
       "      <th>Temp</th>\n",
       "    </tr>\n",
       "  </thead>\n",
       "  <tbody>\n",
       "    <tr>\n",
       "      <th>11573</th>\n",
       "      <td>/data/felix/20220330_2357_Plate19</td>\n",
       "      <td>961</td>\n",
       "      <td>19</td>\n",
       "      <td>'Carrot'</td>\n",
       "      <td>'A5'</td>\n",
       "      <td>'001P100N100C'</td>\n",
       "      <td>'Y'</td>\n",
       "      <td>'-'</td>\n",
       "      <td>20220328</td>\n",
       "      <td>25</td>\n",
       "      <td>...</td>\n",
       "      <td>True</td>\n",
       "      <td>False</td>\n",
       "      <td>False</td>\n",
       "      <td>True</td>\n",
       "      <td>True</td>\n",
       "      <td>False</td>\n",
       "      <td>False</td>\n",
       "      <td>30.03.2022, 23:57:</td>\n",
       "      <td>20220330_2357_Plate19</td>\n",
       "      <td>NaN</td>\n",
       "    </tr>\n",
       "  </tbody>\n",
       "</table>\n",
       "<p>1 rows × 23 columns</p>\n",
       "</div>"
      ],
      "text/plain": [
       "                              total_path Plate PrincePos      root strain  \\\n",
       "11573  /data/felix/20220330_2357_Plate19   961        19  'Carrot'   'A5'   \n",
       "\n",
       "               medium split Pbait CrossDate Temperature  ...  \\\n",
       "11573  '001P100N100C'   'Y'   '-'  20220328          25  ...   \n",
       "\n",
       "      /Analysis/skeleton_pruned_compressed.mat /Analysis/transform.mat  \\\n",
       "11573                                     True                   False   \n",
       "\n",
       "      /Analysis/transform_corrupt.mat  \\\n",
       "11573                           False   \n",
       "\n",
       "      /Analysis/skeleton_realigned_compressed.mat /Analysis/nx_graph_pruned.p  \\\n",
       "11573                                        True                        True   \n",
       "\n",
       "      /Analysis/nx_graph_pruned_width.p /Analysis/nx_graph_pruned_labeled.p  \\\n",
       "11573                             False                               False   \n",
       "\n",
       "                     date                 folder Temp  \n",
       "11573  30.03.2022, 23:57:  20220330_2357_Plate19  NaN  \n",
       "\n",
       "[1 rows x 23 columns]"
      ]
     },
     "execution_count": 64,
     "metadata": {},
     "output_type": "execute_result"
    }
   ],
   "source": [
    "folders = all_folders.loc[all_folders['folder']=='20220330_2357_Plate19']\n",
    "folders"
   ]
  },
  {
   "cell_type": "markdown",
   "id": "025d9307",
   "metadata": {},
   "source": [
    "## Visualisation"
   ]
  },
  {
   "cell_type": "markdown",
   "id": "77663c37",
   "metadata": {},
   "source": [
    "#### Experience object"
   ]
  },
  {
   "cell_type": "code",
   "execution_count": 12,
   "id": "86ce1e24",
   "metadata": {},
   "outputs": [],
   "source": [
    "i = 0"
   ]
  },
  {
   "cell_type": "code",
   "execution_count": 13,
   "id": "59286b86",
   "metadata": {
    "scrolled": true
   },
   "outputs": [],
   "source": [
    "plate = int(list(folders['folder'])[i].split('_')[-1][5:])\n",
    "folder_list = list(folders['folder'])\n",
    "directory_name = folder_list[i]"
   ]
  },
  {
   "cell_type": "code",
   "execution_count": 14,
   "id": "21008990",
   "metadata": {},
   "outputs": [
    {
     "data": {
      "text/plain": [
       "19"
      ]
     },
     "execution_count": 14,
     "metadata": {},
     "output_type": "execute_result"
    }
   ],
   "source": [
    "plate"
   ]
  },
  {
   "cell_type": "code",
   "execution_count": 15,
   "id": "6664ace3",
   "metadata": {},
   "outputs": [
    {
     "data": {
      "text/plain": [
       "'/data/felix/'"
      ]
     },
     "execution_count": 15,
     "metadata": {},
     "output_type": "execute_result"
    }
   ],
   "source": [
    "directory"
   ]
  },
  {
   "cell_type": "code",
   "execution_count": 16,
   "id": "c8bba128",
   "metadata": {},
   "outputs": [
    {
     "name": "stdout",
     "output_type": "stream",
     "text": [
      "2022-03-30 23:57:00\n"
     ]
    }
   ],
   "source": [
    "exp = Experiment(plate, directory)\n",
    "exp.load(folders.loc[folders['folder']==directory_name],labeled=False)"
   ]
  },
  {
   "cell_type": "code",
   "execution_count": 17,
   "id": "4ee208e6",
   "metadata": {},
   "outputs": [
    {
     "data": {
      "text/html": [
       "<div>\n",
       "<style scoped>\n",
       "    .dataframe tbody tr th:only-of-type {\n",
       "        vertical-align: middle;\n",
       "    }\n",
       "\n",
       "    .dataframe tbody tr th {\n",
       "        vertical-align: top;\n",
       "    }\n",
       "\n",
       "    .dataframe thead th {\n",
       "        text-align: right;\n",
       "    }\n",
       "</style>\n",
       "<table border=\"1\" class=\"dataframe\">\n",
       "  <thead>\n",
       "    <tr style=\"text-align: right;\">\n",
       "      <th></th>\n",
       "      <th>total_path</th>\n",
       "      <th>Plate</th>\n",
       "      <th>PrincePos</th>\n",
       "      <th>root</th>\n",
       "      <th>strain</th>\n",
       "      <th>medium</th>\n",
       "      <th>split</th>\n",
       "      <th>Pbait</th>\n",
       "      <th>CrossDate</th>\n",
       "      <th>Temperature</th>\n",
       "      <th>...</th>\n",
       "      <th>/Analysis/skeleton_pruned_compressed.mat</th>\n",
       "      <th>/Analysis/transform.mat</th>\n",
       "      <th>/Analysis/transform_corrupt.mat</th>\n",
       "      <th>/Analysis/skeleton_realigned_compressed.mat</th>\n",
       "      <th>/Analysis/nx_graph_pruned.p</th>\n",
       "      <th>/Analysis/nx_graph_pruned_width.p</th>\n",
       "      <th>/Analysis/nx_graph_pruned_labeled.p</th>\n",
       "      <th>date</th>\n",
       "      <th>folder</th>\n",
       "      <th>Temp</th>\n",
       "    </tr>\n",
       "  </thead>\n",
       "  <tbody>\n",
       "    <tr>\n",
       "      <th>11573</th>\n",
       "      <td>/data/felix/20220330_2357_Plate19</td>\n",
       "      <td>961</td>\n",
       "      <td>19</td>\n",
       "      <td>'Carrot'</td>\n",
       "      <td>'A5'</td>\n",
       "      <td>'001P100N100C'</td>\n",
       "      <td>'Y'</td>\n",
       "      <td>'-'</td>\n",
       "      <td>20220328</td>\n",
       "      <td>25</td>\n",
       "      <td>...</td>\n",
       "      <td>True</td>\n",
       "      <td>False</td>\n",
       "      <td>False</td>\n",
       "      <td>True</td>\n",
       "      <td>True</td>\n",
       "      <td>False</td>\n",
       "      <td>False</td>\n",
       "      <td>30.03.2022, 23:57:</td>\n",
       "      <td>20220330_2357_Plate19</td>\n",
       "      <td>NaN</td>\n",
       "    </tr>\n",
       "  </tbody>\n",
       "</table>\n",
       "<p>1 rows × 23 columns</p>\n",
       "</div>"
      ],
      "text/plain": [
       "                              total_path Plate PrincePos      root strain  \\\n",
       "11573  /data/felix/20220330_2357_Plate19   961        19  'Carrot'   'A5'   \n",
       "\n",
       "               medium split Pbait CrossDate Temperature  ...  \\\n",
       "11573  '001P100N100C'   'Y'   '-'  20220328          25  ...   \n",
       "\n",
       "      /Analysis/skeleton_pruned_compressed.mat /Analysis/transform.mat  \\\n",
       "11573                                     True                   False   \n",
       "\n",
       "      /Analysis/transform_corrupt.mat  \\\n",
       "11573                           False   \n",
       "\n",
       "      /Analysis/skeleton_realigned_compressed.mat /Analysis/nx_graph_pruned.p  \\\n",
       "11573                                        True                        True   \n",
       "\n",
       "      /Analysis/nx_graph_pruned_width.p /Analysis/nx_graph_pruned_labeled.p  \\\n",
       "11573                             False                               False   \n",
       "\n",
       "                     date                 folder Temp  \n",
       "11573  30.03.2022, 23:57:  20220330_2357_Plate19  NaN  \n",
       "\n",
       "[1 rows x 23 columns]"
      ]
     },
     "execution_count": 17,
     "metadata": {},
     "output_type": "execute_result"
    }
   ],
   "source": [
    "folders.loc[folders['folder']==directory_name]"
   ]
  },
  {
   "cell_type": "markdown",
   "id": "ab13b4da",
   "metadata": {},
   "source": [
    "#### Selecting a timestep"
   ]
  },
  {
   "cell_type": "code",
   "execution_count": null,
   "id": "b0636e54",
   "metadata": {},
   "outputs": [],
   "source": [
    "(G, pos) = exp.nx_graph[0],exp.positions[0]"
   ]
  },
  {
   "cell_type": "code",
   "execution_count": null,
   "id": "33010ede",
   "metadata": {},
   "outputs": [],
   "source": [
    "type(G)"
   ]
  },
  {
   "cell_type": "code",
   "execution_count": null,
   "id": "73e054e8",
   "metadata": {},
   "outputs": [],
   "source": [
    "len(G.edges)"
   ]
  },
  {
   "cell_type": "code",
   "execution_count": null,
   "id": "15ad2d87",
   "metadata": {},
   "outputs": [],
   "source": [
    "len(G.nodes)"
   ]
  },
  {
   "cell_type": "code",
   "execution_count": null,
   "id": "2660cd89-a819-4790-a748-743ab8f12fa5",
   "metadata": {},
   "outputs": [],
   "source": [
    "edge = choice(list(G.edges))"
   ]
  },
  {
   "cell_type": "code",
   "execution_count": null,
   "id": "5d7e3731-0af8-4eed-98d4-04992692f87a",
   "metadata": {},
   "outputs": [],
   "source": [
    "edge_exp = Edge(Node(edge[0],exp),Node(edge[1],exp),exp)"
   ]
  },
  {
   "cell_type": "markdown",
   "id": "9e3e6553",
   "metadata": {},
   "source": [
    "### Visualizing a node"
   ]
  },
  {
   "cell_type": "code",
   "execution_count": null,
   "id": "a52e410e",
   "metadata": {
    "scrolled": true
   },
   "outputs": [],
   "source": [
    "edge_exp.begin.show_source_image(0,0)\n",
    "edge_exp.end.show_source_image(0,0)"
   ]
  },
  {
   "cell_type": "code",
   "execution_count": 50,
   "id": "03e7fe74",
   "metadata": {
    "scrolled": true
   },
   "outputs": [
    {
     "data": {
      "text/plain": [
       "78.11134196037202"
      ]
     },
     "execution_count": 50,
     "metadata": {},
     "output_type": "execute_result"
    }
   ],
   "source": [
    "edge_exp.orientation_begin(0)"
   ]
  },
  {
   "cell_type": "code",
   "execution_count": 51,
   "id": "cab7dd87",
   "metadata": {},
   "outputs": [
    {
     "data": {
      "text/plain": [
       "81.46923439005188"
      ]
     },
     "execution_count": 51,
     "metadata": {},
     "output_type": "execute_result"
    }
   ],
   "source": [
    "edge_exp.orientation_end(0)"
   ]
  },
  {
   "cell_type": "code",
   "execution_count": 52,
   "id": "465c9ecc",
   "metadata": {},
   "outputs": [
    {
     "data": {
      "text/plain": [
       "['__class__',\n",
       " '__delattr__',\n",
       " '__dict__',\n",
       " '__dir__',\n",
       " '__doc__',\n",
       " '__eq__',\n",
       " '__format__',\n",
       " '__ge__',\n",
       " '__getattribute__',\n",
       " '__gt__',\n",
       " '__hash__',\n",
       " '__init__',\n",
       " '__init_subclass__',\n",
       " '__le__',\n",
       " '__lt__',\n",
       " '__module__',\n",
       " '__ne__',\n",
       " '__new__',\n",
       " '__reduce__',\n",
       " '__reduce_ex__',\n",
       " '__repr__',\n",
       " '__setattr__',\n",
       " '__sizeof__',\n",
       " '__str__',\n",
       " '__subclasshook__',\n",
       " '__weakref__',\n",
       " 'is_in',\n",
       " 'orientation_begin',\n",
       " 'orientation_end',\n",
       " 'orientation_whole',\n",
       " 'pixel_list',\n",
       " 'ts',\n",
       " 'width']"
      ]
     },
     "execution_count": 52,
     "metadata": {},
     "output_type": "execute_result"
    }
   ],
   "source": [
    "dir(Edge)"
   ]
  },
  {
   "cell_type": "code",
   "execution_count": 53,
   "id": "5a769cfe",
   "metadata": {},
   "outputs": [
    {
     "data": {
      "text/plain": [
       "[(9721, 25349),\n",
       " (9721, 25350),\n",
       " (9721, 25351),\n",
       " (9720, 25352),\n",
       " (9720, 25353),\n",
       " (9720, 25354),\n",
       " (9720, 25355),\n",
       " (9720, 25356),\n",
       " (9720, 25357),\n",
       " (9720, 25358),\n",
       " (9719, 25359),\n",
       " (9719, 25360),\n",
       " (9719, 25361),\n",
       " (9719, 25362),\n",
       " (9719, 25363),\n",
       " (9718, 25363),\n",
       " (9718, 25364),\n",
       " (9718, 25365),\n",
       " (9718, 25366),\n",
       " (9718, 25367),\n",
       " (9717, 25368),\n",
       " (9717, 25369),\n",
       " (9717, 25370),\n",
       " (9717, 25371),\n",
       " (9717, 25372),\n",
       " (9716, 25373),\n",
       " (9716, 25374),\n",
       " (9716, 25375),\n",
       " (9716, 25376),\n",
       " (9716, 25377),\n",
       " (9715, 25378),\n",
       " (9715, 25379),\n",
       " (9715, 25380),\n",
       " (9715, 25381),\n",
       " (9715, 25382),\n",
       " (9714, 25383),\n",
       " (9714, 25384),\n",
       " (9714, 25385),\n",
       " (9714, 25386),\n",
       " (9714, 25387),\n",
       " (9713, 25388),\n",
       " (9713, 25389),\n",
       " (9713, 25390),\n",
       " (9713, 25391),\n",
       " (9712, 25392),\n",
       " (9712, 25393),\n",
       " (9712, 25394),\n",
       " (9712, 25395),\n",
       " (9712, 25396),\n",
       " (9712, 25397),\n",
       " (9711, 25398),\n",
       " (9711, 25399),\n",
       " (9711, 25400),\n",
       " (9710, 25401),\n",
       " (9710, 25402),\n",
       " (9710, 25403),\n",
       " (9710, 25404),\n",
       " (9709, 25405),\n",
       " (9709, 25406),\n",
       " (9709, 25407),\n",
       " (9709, 25408),\n",
       " (9709, 25409),\n",
       " (9708, 25410),\n",
       " (9708, 25411),\n",
       " (9707, 25412),\n",
       " (9707, 25413),\n",
       " (9707, 25414),\n",
       " (9706, 25414),\n",
       " (9706, 25415),\n",
       " (9706, 25416),\n",
       " (9705, 25417),\n",
       " (9705, 25418),\n",
       " (9705, 25419),\n",
       " (9704, 25419),\n",
       " (9704, 25420),\n",
       " (9704, 25421),\n",
       " (9703, 25421),\n",
       " (9703, 25422),\n",
       " (9703, 25423),\n",
       " (9702, 25424),\n",
       " (9702, 25425),\n",
       " (9702, 25426),\n",
       " (9701, 25426),\n",
       " (9701, 25427),\n",
       " (9701, 25428),\n",
       " (9701, 25429),\n",
       " (9701, 25430),\n",
       " (9701, 25431),\n",
       " (9701, 25432),\n",
       " (9701, 25433),\n",
       " (9701, 25434),\n",
       " (9701, 25435),\n",
       " (9701, 25436),\n",
       " (9701, 25437),\n",
       " (9701, 25438),\n",
       " (9701, 25439),\n",
       " (9701, 25440),\n",
       " (9702, 25441),\n",
       " (9702, 25442),\n",
       " (9702, 25443),\n",
       " (9702, 25444),\n",
       " (9702, 25445),\n",
       " (9702, 25446),\n",
       " (9702, 25447),\n",
       " (9702, 25448),\n",
       " (9702, 25449),\n",
       " (9702, 25450),\n",
       " (9703, 25451),\n",
       " (9703, 25452),\n",
       " (9703, 25453),\n",
       " (9703, 25454),\n",
       " (9703, 25455),\n",
       " (9703, 25456),\n",
       " (9703, 25457),\n",
       " (9704, 25458),\n",
       " (9704, 25459),\n",
       " (9704, 25460),\n",
       " (9704, 25461),\n",
       " (9704, 25462),\n",
       " (9704, 25463),\n",
       " (9704, 25464),\n",
       " (9705, 25465),\n",
       " (9705, 25466),\n",
       " (9705, 25467),\n",
       " (9705, 25468),\n",
       " (9705, 25469),\n",
       " (9705, 25470),\n",
       " (9705, 25471),\n",
       " (9706, 25472),\n",
       " (9706, 25473),\n",
       " (9706, 25474),\n",
       " (9706, 25475),\n",
       " (9707, 25476),\n",
       " (9707, 25477),\n",
       " (9707, 25478),\n",
       " (9707, 25479),\n",
       " (9707, 25480),\n",
       " (9707, 25481),\n",
       " (9707, 25482),\n",
       " (9708, 25483),\n",
       " (9708, 25484),\n",
       " (9708, 25485),\n",
       " (9708, 25486),\n",
       " (9708, 25487),\n",
       " (9708, 25488),\n",
       " (9708, 25489),\n",
       " (9708, 25490),\n",
       " (9708, 25491),\n",
       " (9709, 25492),\n",
       " (9709, 25493),\n",
       " (9709, 25494),\n",
       " (9709, 25495),\n",
       " (9710, 25495),\n",
       " (9710, 25496),\n",
       " (9710, 25497),\n",
       " (9710, 25498),\n",
       " (9711, 25498),\n",
       " (9711, 25499),\n",
       " (9711, 25500),\n",
       " (9711, 25501),\n",
       " (9712, 25501),\n",
       " (9712, 25502),\n",
       " (9712, 25503),\n",
       " (9713, 25503),\n",
       " (9713, 25504),\n",
       " (9713, 25505),\n",
       " (9714, 25505),\n",
       " (9714, 25506),\n",
       " (9714, 25507),\n",
       " (9715, 25508),\n",
       " (9715, 25509),\n",
       " (9716, 25509),\n",
       " (9716, 25510),\n",
       " (9716, 25511),\n",
       " (9717, 25511),\n",
       " (9717, 25512),\n",
       " (9718, 25513),\n",
       " (9718, 25514),\n",
       " (9718, 25515),\n",
       " (9719, 25516),\n",
       " (9719, 25517),\n",
       " (9720, 25518),\n",
       " (9720, 25519),\n",
       " (9720, 25520),\n",
       " (9721, 25520),\n",
       " (9721, 25521),\n",
       " (9721, 25522),\n",
       " (9721, 25523),\n",
       " (9722, 25524),\n",
       " (9722, 25525),\n",
       " (9723, 25526),\n",
       " (9723, 25527),\n",
       " (9723, 25528),\n",
       " (9724, 25529),\n",
       " (9724, 25530),\n",
       " (9724, 25531),\n",
       " (9724, 25532),\n",
       " (9724, 25533),\n",
       " (9725, 25534),\n",
       " (9725, 25535),\n",
       " (9725, 25536),\n",
       " (9725, 25537),\n",
       " (9725, 25538),\n",
       " (9726, 25539),\n",
       " (9726, 25540),\n",
       " (9726, 25541),\n",
       " (9726, 25542),\n",
       " (9726, 25543),\n",
       " (9726, 25544),\n",
       " (9726, 25545),\n",
       " (9726, 25546),\n",
       " (9727, 25546),\n",
       " (9727, 25547),\n",
       " (9727, 25548),\n",
       " (9727, 25549),\n",
       " (9727, 25550),\n",
       " (9727, 25551),\n",
       " (9727, 25552),\n",
       " (9727, 25553),\n",
       " (9728, 25554),\n",
       " (9728, 25555),\n",
       " (9728, 25556),\n",
       " (9728, 25557),\n",
       " (9728, 25558),\n",
       " (9729, 25559),\n",
       " (9729, 25560),\n",
       " (9729, 25561),\n",
       " (9729, 25562),\n",
       " (9729, 25563),\n",
       " (9730, 25563),\n",
       " (9730, 25564),\n",
       " (9730, 25565),\n",
       " (9730, 25566),\n",
       " (9730, 25567),\n",
       " (9730, 25568),\n",
       " (9730, 25569),\n",
       " (9731, 25570),\n",
       " (9731, 25571),\n",
       " (9731, 25572),\n",
       " (9731, 25573),\n",
       " (9731, 25574),\n",
       " (9731, 25575),\n",
       " (9731, 25576),\n",
       " (9730, 25577),\n",
       " (9730, 25578),\n",
       " (9730, 25579),\n",
       " (9730, 25580),\n",
       " (9730, 25581),\n",
       " (9730, 25582),\n",
       " (9730, 25583),\n",
       " (9729, 25584),\n",
       " (9729, 25585),\n",
       " (9729, 25586),\n",
       " (9729, 25587),\n",
       " (9729, 25588),\n",
       " (9729, 25589),\n",
       " (9729, 25590),\n",
       " (9729, 25591),\n",
       " (9729, 25592),\n",
       " (9729, 25593),\n",
       " (9729, 25594),\n",
       " (9728, 25595)]"
      ]
     },
     "execution_count": 53,
     "metadata": {},
     "output_type": "execute_result"
    }
   ],
   "source": [
    "edge_exp.pixel_list(0)"
   ]
  },
  {
   "cell_type": "code",
   "execution_count": 56,
   "id": "2606802f",
   "metadata": {
    "scrolled": true
   },
   "outputs": [
    {
     "name": "stderr",
     "output_type": "stream",
     "text": [
      "[autoreload of amftrack.util.aliases failed: Traceback (most recent call last):\n",
      "  File \"/usr/local/lib/python3.8/dist-packages/IPython/extensions/autoreload.py\", line 257, in check\n",
      "    superreload(m, reload, self.old_objects)\n",
      "  File \"/usr/local/lib/python3.8/dist-packages/IPython/extensions/autoreload.py\", line 455, in superreload\n",
      "    module = reload(module)\n",
      "  File \"/usr/lib/python3.8/importlib/__init__.py\", line 169, in reload\n",
      "    _bootstrap._exec(spec, module)\n",
      "  File \"<frozen importlib._bootstrap>\", line 604, in _exec\n",
      "  File \"<frozen importlib._bootstrap_external>\", line 848, in exec_module\n",
      "  File \"<frozen importlib._bootstrap>\", line 219, in _call_with_frames_removed\n",
      "  File \"/home/ipausers/kahane/Wks/AMFtrack/amftrack/util/aliases.py\", line 7, in <module>\n",
      "    coord = Tuple(float, float)\n",
      "  File \"/usr/lib/python3.8/typing.py\", line 727, in __call__\n",
      "    raise TypeError(f\"Type {self._name} cannot be instantiated; \"\n",
      "TypeError: Type Tuple cannot be instantiated; use tuple() instead\n",
      "]\n",
      "[autoreload of amftrack.pipeline.functions.image_processing.experiment_class_surf failed: Traceback (most recent call last):\n",
      "  File \"/usr/local/lib/python3.8/dist-packages/IPython/extensions/autoreload.py\", line 257, in check\n",
      "    superreload(m, reload, self.old_objects)\n",
      "  File \"/usr/local/lib/python3.8/dist-packages/IPython/extensions/autoreload.py\", line 455, in superreload\n",
      "    module = reload(module)\n",
      "  File \"/usr/lib/python3.8/importlib/__init__.py\", line 169, in reload\n",
      "    _bootstrap._exec(spec, module)\n",
      "  File \"<frozen importlib._bootstrap>\", line 604, in _exec\n",
      "  File \"<frozen importlib._bootstrap_external>\", line 848, in exec_module\n",
      "  File \"<frozen importlib._bootstrap>\", line 219, in _call_with_frames_removed\n",
      "  File \"/home/ipausers/kahane/Wks/AMFtrack/amftrack/pipeline/functions/image_processing/experiment_class_surf.py\", line 25, in <module>\n",
      "    from amftrack.util.aliases import node_coord_dict, binary_image, coord\n",
      "ImportError: cannot import name 'coord' from 'amftrack.util.aliases' (/home/ipausers/kahane/Wks/AMFtrack/amftrack/util/aliases.py)\n",
      "]\n"
     ]
    },
    {
     "ename": "TypeError",
     "evalue": "'>=' not supported between instances of 'float' and 'NoneType'",
     "output_type": "error",
     "traceback": [
      "\u001b[0;31m---------------------------------------------------------------------------\u001b[0m",
      "\u001b[0;31mTypeError\u001b[0m                                 Traceback (most recent call last)",
      "Input \u001b[0;32mIn [56]\u001b[0m, in \u001b[0;36m<cell line: 1>\u001b[0;34m()\u001b[0m\n\u001b[0;32m----> 1\u001b[0m \u001b[43mplot_raw_plus\u001b[49m\u001b[43m(\u001b[49m\u001b[43mexp\u001b[49m\u001b[43m,\u001b[49m\u001b[38;5;241;43m0\u001b[39;49m\u001b[43m,\u001b[49m\u001b[43m[\u001b[49m\u001b[43medge_exp\u001b[49m\u001b[38;5;241;43m.\u001b[39;49m\u001b[43mbegin\u001b[49m\u001b[38;5;241;43m.\u001b[39;49m\u001b[43mlabel\u001b[49m\u001b[43m,\u001b[49m\u001b[43medge_exp\u001b[49m\u001b[38;5;241;43m.\u001b[39;49m\u001b[43mend\u001b[49m\u001b[38;5;241;43m.\u001b[39;49m\u001b[43mlabel\u001b[49m\u001b[43m]\u001b[49m\u001b[43m)\u001b[49m\n",
      "File \u001b[0;32m~/Wks/AMFtrack/amftrack/pipeline/functions/image_processing/experiment_class_surf.py:466\u001b[0m, in \u001b[0;36mplot_raw_plus\u001b[0;34m(exp, t0, node_list, shift, n, compress, center, radius_imp, fig, ax)\u001b[0m\n\u001b[1;32m    451\u001b[0m     center \u001b[38;5;241m=\u001b[39m np\u001b[38;5;241m.\u001b[39mmean(\n\u001b[1;32m    452\u001b[0m         [\n\u001b[1;32m    453\u001b[0m             exp\u001b[38;5;241m.\u001b[39mpositions[t0][node]\n\u001b[0;32m   (...)\u001b[0m\n\u001b[1;32m    457\u001b[0m         axis\u001b[38;5;241m=\u001b[39m\u001b[38;5;241m0\u001b[39m,\n\u001b[1;32m    458\u001b[0m     )\n\u001b[1;32m    459\u001b[0m     radius \u001b[38;5;241m=\u001b[39m np\u001b[38;5;241m.\u001b[39mmax(\n\u001b[1;32m    460\u001b[0m         [\n\u001b[1;32m    461\u001b[0m             np\u001b[38;5;241m.\u001b[39mlinalg\u001b[38;5;241m.\u001b[39mnorm(exp\u001b[38;5;241m.\u001b[39mpositions[t0][node] \u001b[38;5;241m-\u001b[39m center)\n\u001b[0;32m   (...)\u001b[0m\n\u001b[1;32m    464\u001b[0m         ]\n\u001b[1;32m    465\u001b[0m     )\n\u001b[0;32m--> 466\u001b[0m     radius \u001b[38;5;241m=\u001b[39m \u001b[43mnp\u001b[49m\u001b[38;5;241;43m.\u001b[39;49m\u001b[43mmax\u001b[49m\u001b[43m(\u001b[49m\u001b[43m(\u001b[49m\u001b[43mradius\u001b[49m\u001b[43m,\u001b[49m\u001b[43m \u001b[49m\u001b[43mradius_imp\u001b[49m\u001b[43m)\u001b[49m\u001b[43m)\u001b[49m\n\u001b[1;32m    467\u001b[0m \u001b[38;5;28;01melse\u001b[39;00m:\n\u001b[1;32m    468\u001b[0m     radius \u001b[38;5;241m=\u001b[39m radius_imp\n",
      "File \u001b[0;32m<__array_function__ internals>:180\u001b[0m, in \u001b[0;36mamax\u001b[0;34m(*args, **kwargs)\u001b[0m\n",
      "File \u001b[0;32m~/.local/lib/python3.8/site-packages/numpy/core/fromnumeric.py:2791\u001b[0m, in \u001b[0;36mamax\u001b[0;34m(a, axis, out, keepdims, initial, where)\u001b[0m\n\u001b[1;32m   2675\u001b[0m \u001b[38;5;129m@array_function_dispatch\u001b[39m(_amax_dispatcher)\n\u001b[1;32m   2676\u001b[0m \u001b[38;5;28;01mdef\u001b[39;00m \u001b[38;5;21mamax\u001b[39m(a, axis\u001b[38;5;241m=\u001b[39m\u001b[38;5;28;01mNone\u001b[39;00m, out\u001b[38;5;241m=\u001b[39m\u001b[38;5;28;01mNone\u001b[39;00m, keepdims\u001b[38;5;241m=\u001b[39mnp\u001b[38;5;241m.\u001b[39m_NoValue, initial\u001b[38;5;241m=\u001b[39mnp\u001b[38;5;241m.\u001b[39m_NoValue,\n\u001b[1;32m   2677\u001b[0m          where\u001b[38;5;241m=\u001b[39mnp\u001b[38;5;241m.\u001b[39m_NoValue):\n\u001b[1;32m   2678\u001b[0m     \u001b[38;5;124;03m\"\"\"\u001b[39;00m\n\u001b[1;32m   2679\u001b[0m \u001b[38;5;124;03m    Return the maximum of an array or maximum along an axis.\u001b[39;00m\n\u001b[1;32m   2680\u001b[0m \n\u001b[0;32m   (...)\u001b[0m\n\u001b[1;32m   2789\u001b[0m \u001b[38;5;124;03m    5\u001b[39;00m\n\u001b[1;32m   2790\u001b[0m \u001b[38;5;124;03m    \"\"\"\u001b[39;00m\n\u001b[0;32m-> 2791\u001b[0m     \u001b[38;5;28;01mreturn\u001b[39;00m \u001b[43m_wrapreduction\u001b[49m\u001b[43m(\u001b[49m\u001b[43ma\u001b[49m\u001b[43m,\u001b[49m\u001b[43m \u001b[49m\u001b[43mnp\u001b[49m\u001b[38;5;241;43m.\u001b[39;49m\u001b[43mmaximum\u001b[49m\u001b[43m,\u001b[49m\u001b[43m \u001b[49m\u001b[38;5;124;43m'\u001b[39;49m\u001b[38;5;124;43mmax\u001b[39;49m\u001b[38;5;124;43m'\u001b[39;49m\u001b[43m,\u001b[49m\u001b[43m \u001b[49m\u001b[43maxis\u001b[49m\u001b[43m,\u001b[49m\u001b[43m \u001b[49m\u001b[38;5;28;43;01mNone\u001b[39;49;00m\u001b[43m,\u001b[49m\u001b[43m \u001b[49m\u001b[43mout\u001b[49m\u001b[43m,\u001b[49m\n\u001b[1;32m   2792\u001b[0m \u001b[43m                          \u001b[49m\u001b[43mkeepdims\u001b[49m\u001b[38;5;241;43m=\u001b[39;49m\u001b[43mkeepdims\u001b[49m\u001b[43m,\u001b[49m\u001b[43m \u001b[49m\u001b[43minitial\u001b[49m\u001b[38;5;241;43m=\u001b[39;49m\u001b[43minitial\u001b[49m\u001b[43m,\u001b[49m\u001b[43m \u001b[49m\u001b[43mwhere\u001b[49m\u001b[38;5;241;43m=\u001b[39;49m\u001b[43mwhere\u001b[49m\u001b[43m)\u001b[49m\n",
      "File \u001b[0;32m~/.local/lib/python3.8/site-packages/numpy/core/fromnumeric.py:86\u001b[0m, in \u001b[0;36m_wrapreduction\u001b[0;34m(obj, ufunc, method, axis, dtype, out, **kwargs)\u001b[0m\n\u001b[1;32m     83\u001b[0m         \u001b[38;5;28;01melse\u001b[39;00m:\n\u001b[1;32m     84\u001b[0m             \u001b[38;5;28;01mreturn\u001b[39;00m reduction(axis\u001b[38;5;241m=\u001b[39maxis, out\u001b[38;5;241m=\u001b[39mout, \u001b[38;5;241m*\u001b[39m\u001b[38;5;241m*\u001b[39mpasskwargs)\n\u001b[0;32m---> 86\u001b[0m \u001b[38;5;28;01mreturn\u001b[39;00m \u001b[43mufunc\u001b[49m\u001b[38;5;241;43m.\u001b[39;49m\u001b[43mreduce\u001b[49m\u001b[43m(\u001b[49m\u001b[43mobj\u001b[49m\u001b[43m,\u001b[49m\u001b[43m \u001b[49m\u001b[43maxis\u001b[49m\u001b[43m,\u001b[49m\u001b[43m \u001b[49m\u001b[43mdtype\u001b[49m\u001b[43m,\u001b[49m\u001b[43m \u001b[49m\u001b[43mout\u001b[49m\u001b[43m,\u001b[49m\u001b[43m \u001b[49m\u001b[38;5;241;43m*\u001b[39;49m\u001b[38;5;241;43m*\u001b[39;49m\u001b[43mpasskwargs\u001b[49m\u001b[43m)\u001b[49m\n",
      "\u001b[0;31mTypeError\u001b[0m: '>=' not supported between instances of 'float' and 'NoneType'"
     ]
    },
    {
     "data": {
      "application/vnd.jupyter.widget-view+json": {
       "model_id": "af5547021ad94a5e899d86c050c38d88",
       "version_major": 2,
       "version_minor": 0
      },
      "image/png": "[encoded data removed]",
      "text/html": [
       "\n",
       "            <div style=\"display: inline-block;\">\n",
       "                <div class=\"jupyter-widgets widget-label\" style=\"text-align: center;\">\n",
       "                    Figure\n",
       "                </div>\n",
       "                <img src='data:image/png;base64,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' width=640.0/>\n",
       "            </div>\n",
       "        "
      ],
      "text/plain": [
       "Canvas(toolbar=Toolbar(toolitems=[('Home', 'Reset original view', 'home', 'home'), ('Back', 'Back to previous …"
      ]
     },
     "metadata": {},
     "output_type": "display_data"
    }
   ],
   "source": [
    "plot_raw_plus(exp,0,[edge_exp.begin.label,edge_exp.end.label])"
   ]
  },
  {
   "cell_type": "code",
   "execution_count": null,
   "id": "b83878f2",
   "metadata": {},
   "outputs": [],
   "source": []
  }
 ],
 "metadata": {
  "kernelspec": {
   "display_name": "Python 3 (ipykernel)",
   "language": "python",
   "name": "python3"
  },
  "language_info": {
   "codemirror_mode": {
    "name": "ipython",
    "version": 3
   },
   "file_extension": ".py",
   "mimetype": "text/x-python",
   "name": "python",
   "nbconvert_exporter": "python",
   "pygments_lexer": "ipython3",
   "version": "3.8.10"
  }
 },
 "nbformat": 4,
 "nbformat_minor": 5
}

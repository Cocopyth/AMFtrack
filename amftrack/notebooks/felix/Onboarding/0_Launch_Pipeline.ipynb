{
 "cells": [
  {
   "cell_type": "markdown",
   "id": "93cd0696",
   "metadata": {},
   "source": [
    "# Exemple d'extraction de graphe"
   ]
  },
  {
   "cell_type": "markdown",
   "id": "e18c9e94",
   "metadata": {},
   "source": [
    "## Setup"
   ]
  },
  {
   "cell_type": "markdown",
   "id": "e84ac98f",
   "metadata": {},
   "source": [
    "***Load modules*** \n",
    "This will require amtrack repo in the right path I use environment variables but feel free to do something better.\n",
    "Normally all the required packages are indicated, if some are missing, please add them.\n",
    "If you also want to create a \"freeze\" or a poetry thing to have an easier installation of the environment please do so.\n"
   ]
  },
  {
   "cell_type": "code",
   "execution_count": 9,
   "id": "e6b39fb2",
   "metadata": {},
   "outputs": [
    {
     "name": "stdout",
     "output_type": "stream",
     "text": [
      "The autoreload extension is already loaded. To reload it, use:\n",
      "  %reload_ext autoreload\n"
     ]
    }
   ],
   "source": [
    "%load_ext autoreload\n",
    "%autoreload 2\n",
    "import os  \n",
    "import sys  \n",
    "import pandas as pd\n",
    "from amftrack.util.sys import get_dates_datetime, get_dirname, get_data_info, update_plate_info, \\\n",
    "get_current_folders, get_folders_by_plate_id, fiji_path, path_code\n",
    "import ast\n",
    "from amftrack.plotutil import plot_t_tp1\n",
    "from scipy import sparse\n",
    "from datetime import datetime\n",
    "import pickle\n",
    "import scipy.io as sio\n",
    "from pymatreader import read_mat\n",
    "from matplotlib import colors\n",
    "import cv2\n",
    "import imageio\n",
    "import matplotlib.pyplot as plt\n",
    "import numpy as np\n",
    "from skimage.filters import frangi\n",
    "from skimage import filters\n",
    "from random import choice\n",
    "import scipy.sparse\n",
    "import os\n",
    "from amftrack.pipeline.functions.image_processing.extract_graph import from_sparse_to_graph, generate_nx_graph, sparse_to_doc\n",
    "from skimage.feature import hessian_matrix_det\n",
    "from amftrack.pipeline.functions.image_processing.experiment_class_surf import Experiment, Edge,Node, plot_raw_plus\n",
    "from amftrack.pipeline.paths.directory import run_parallel_transfer, find_state, directory_scratch, directory_project, directory_archive\n",
    "import dropbox\n",
    "from amftrack.transfer.functions.transfer import upload, zip_file\n",
    "from subprocess import call\n",
    "from tqdm.autonotebook import tqdm\n",
    "from time import time_ns\n",
    "import subprocess\n",
    "import matplotlib as mpl"
   ]
  },
  {
   "cell_type": "markdown",
   "id": "4a7e3bb0",
   "metadata": {},
   "source": [
    "***choose the path of interest***\n",
    "I mounted sun on my linux computer at AMOLF. Please feel free to do so on yours as well. I can send you the command. \n",
    "Otherwise, if you have the folders locally, just indicate the path.\n",
    "Finally you can also simply ssh to my computer and run things from there."
   ]
  },
  {
   "cell_type": "code",
   "execution_count": 11,
   "id": "cd905763",
   "metadata": {
    "tags": []
   },
   "outputs": [
    {
     "data": {
      "application/vnd.jupyter.widget-view+json": {
       "model_id": "dec103c70cd34179810be53d14fb9f15",
       "version_major": 2,
       "version_minor": 0
      },
      "text/plain": [
       "analysed:   0%|          | 0/2 [00:00<?, ?it/s]"
      ]
     },
     "metadata": {},
     "output_type": "display_data"
    }
   ],
   "source": [
    "directory = \"/data/felix/width1/full_plates/\" # careful: must have the / at the end\n",
    "\n",
    "update_plate_info(directory)\n",
    "folder_df = get_current_folders(directory)"
   ]
  },
  {
   "cell_type": "code",
   "execution_count": 12,
   "id": "32a495a8",
   "metadata": {
    "tags": []
   },
   "outputs": [
    {
     "data": {
      "text/plain": [
       "2"
      ]
     },
     "execution_count": 12,
     "metadata": {},
     "output_type": "execute_result"
    }
   ],
   "source": [
    "len(folder_df)"
   ]
  },
  {
   "cell_type": "markdown",
   "id": "3d7dbe31",
   "metadata": {},
   "source": [
    "***Choose the folder you're interested in***"
   ]
  },
  {
   "cell_type": "code",
   "execution_count": 21,
   "id": "c40be3fd",
   "metadata": {},
   "outputs": [
    {
     "data": {
      "text/html": [
       "<div>\n",
       "<style scoped>\n",
       "    .dataframe tbody tr th:only-of-type {\n",
       "        vertical-align: middle;\n",
       "    }\n",
       "\n",
       "    .dataframe tbody tr th {\n",
       "        vertical-align: top;\n",
       "    }\n",
       "\n",
       "    .dataframe thead th {\n",
       "        text-align: right;\n",
       "    }\n",
       "</style>\n",
       "<table border=\"1\" class=\"dataframe\">\n",
       "  <thead>\n",
       "    <tr style=\"text-align: right;\">\n",
       "      <th></th>\n",
       "      <th>total_path</th>\n",
       "      <th>Plate</th>\n",
       "      <th>PrincePos</th>\n",
       "      <th>root</th>\n",
       "      <th>strain</th>\n",
       "      <th>medium</th>\n",
       "      <th>split</th>\n",
       "      <th>Pbait</th>\n",
       "      <th>CrossDate</th>\n",
       "      <th>Temperature</th>\n",
       "      <th>...</th>\n",
       "      <th>/Analysis/skeleton_pruned_compressed.mat</th>\n",
       "      <th>/Analysis/transform.mat</th>\n",
       "      <th>/Analysis/transform_corrupt.mat</th>\n",
       "      <th>/Analysis/skeleton_realigned_compressed.mat</th>\n",
       "      <th>/Analysis/nx_graph_pruned.p</th>\n",
       "      <th>/Analysis/nx_graph_pruned_width.p</th>\n",
       "      <th>/Analysis/nx_graph_pruned_labeled.p</th>\n",
       "      <th>date</th>\n",
       "      <th>folder</th>\n",
       "      <th>Temp</th>\n",
       "    </tr>\n",
       "  </thead>\n",
       "  <tbody>\n",
       "    <tr>\n",
       "      <th>12704</th>\n",
       "      <td>/data/felix/width1/full_plates/20220330_0049_P...</td>\n",
       "      <td>865</td>\n",
       "      <td>7</td>\n",
       "      <td>'Carrot'</td>\n",
       "      <td>'A5'</td>\n",
       "      <td>'001P100N100C'</td>\n",
       "      <td>'Y'</td>\n",
       "      <td>'-'</td>\n",
       "      <td>20220307</td>\n",
       "      <td>25</td>\n",
       "      <td>...</td>\n",
       "      <td>False</td>\n",
       "      <td>False</td>\n",
       "      <td>False</td>\n",
       "      <td>False</td>\n",
       "      <td>False</td>\n",
       "      <td>False</td>\n",
       "      <td>False</td>\n",
       "      <td>30.03.2022, 00:49:</td>\n",
       "      <td>20220330_0049_Plate943</td>\n",
       "      <td>NaN</td>\n",
       "    </tr>\n",
       "    <tr>\n",
       "      <th>12705</th>\n",
       "      <td>/data/felix/width1/full_plates/20220325_1423_P...</td>\n",
       "      <td>907</td>\n",
       "      <td>9</td>\n",
       "      <td>'Carrot'</td>\n",
       "      <td>'A5'</td>\n",
       "      <td>'001P100N100C'</td>\n",
       "      <td>'Y'</td>\n",
       "      <td>'-'</td>\n",
       "      <td>20220321</td>\n",
       "      <td>25</td>\n",
       "      <td>...</td>\n",
       "      <td>False</td>\n",
       "      <td>False</td>\n",
       "      <td>False</td>\n",
       "      <td>False</td>\n",
       "      <td>False</td>\n",
       "      <td>False</td>\n",
       "      <td>False</td>\n",
       "      <td>25.03.2022, 14:23:</td>\n",
       "      <td>20220325_1423_Plate907</td>\n",
       "      <td>NaN</td>\n",
       "    </tr>\n",
       "  </tbody>\n",
       "</table>\n",
       "<p>2 rows × 23 columns</p>\n",
       "</div>"
      ],
      "text/plain": [
       "                                              total_path Plate PrincePos  \\\n",
       "12704  /data/felix/width1/full_plates/20220330_0049_P...   865         7   \n",
       "12705  /data/felix/width1/full_plates/20220325_1423_P...   907         9   \n",
       "\n",
       "           root strain          medium split Pbait CrossDate Temperature  ...  \\\n",
       "12704  'Carrot'   'A5'  '001P100N100C'   'Y'   '-'  20220307          25  ...   \n",
       "12705  'Carrot'   'A5'  '001P100N100C'   'Y'   '-'  20220321          25  ...   \n",
       "\n",
       "      /Analysis/skeleton_pruned_compressed.mat /Analysis/transform.mat  \\\n",
       "12704                                    False                   False   \n",
       "12705                                    False                   False   \n",
       "\n",
       "      /Analysis/transform_corrupt.mat  \\\n",
       "12704                           False   \n",
       "12705                           False   \n",
       "\n",
       "      /Analysis/skeleton_realigned_compressed.mat /Analysis/nx_graph_pruned.p  \\\n",
       "12704                                       False                       False   \n",
       "12705                                       False                       False   \n",
       "\n",
       "      /Analysis/nx_graph_pruned_width.p /Analysis/nx_graph_pruned_labeled.p  \\\n",
       "12704                             False                               False   \n",
       "12705                             False                               False   \n",
       "\n",
       "                     date                  folder Temp  \n",
       "12704  30.03.2022, 00:49:  20220330_0049_Plate943  NaN  \n",
       "12705  25.03.2022, 14:23:  20220325_1423_Plate907  NaN  \n",
       "\n",
       "[2 rows x 23 columns]"
      ]
     },
     "execution_count": 21,
     "metadata": {},
     "output_type": "execute_result"
    }
   ],
   "source": [
    "folder_df"
   ]
  },
  {
   "cell_type": "raw",
   "id": "9edf10f8",
   "metadata": {},
   "source": [
    "str(folder_df['total_path'].iloc[1])"
   ]
  },
  {
   "cell_type": "code",
   "execution_count": 24,
   "id": "5a2a1c83",
   "metadata": {},
   "outputs": [],
   "source": [
    "folders = folder_df.loc[folder_df['Plate']==\"907\"]"
   ]
  },
  {
   "cell_type": "code",
   "execution_count": 25,
   "id": "1b19102f",
   "metadata": {
    "scrolled": true
   },
   "outputs": [
    {
     "data": {
      "text/html": [
       "<div>\n",
       "<style scoped>\n",
       "    .dataframe tbody tr th:only-of-type {\n",
       "        vertical-align: middle;\n",
       "    }\n",
       "\n",
       "    .dataframe tbody tr th {\n",
       "        vertical-align: top;\n",
       "    }\n",
       "\n",
       "    .dataframe thead th {\n",
       "        text-align: right;\n",
       "    }\n",
       "</style>\n",
       "<table border=\"1\" class=\"dataframe\">\n",
       "  <thead>\n",
       "    <tr style=\"text-align: right;\">\n",
       "      <th></th>\n",
       "      <th>total_path</th>\n",
       "      <th>Plate</th>\n",
       "      <th>PrincePos</th>\n",
       "      <th>root</th>\n",
       "      <th>strain</th>\n",
       "      <th>medium</th>\n",
       "      <th>split</th>\n",
       "      <th>Pbait</th>\n",
       "      <th>CrossDate</th>\n",
       "      <th>Temperature</th>\n",
       "      <th>...</th>\n",
       "      <th>/Analysis/skeleton_pruned_compressed.mat</th>\n",
       "      <th>/Analysis/transform.mat</th>\n",
       "      <th>/Analysis/transform_corrupt.mat</th>\n",
       "      <th>/Analysis/skeleton_realigned_compressed.mat</th>\n",
       "      <th>/Analysis/nx_graph_pruned.p</th>\n",
       "      <th>/Analysis/nx_graph_pruned_width.p</th>\n",
       "      <th>/Analysis/nx_graph_pruned_labeled.p</th>\n",
       "      <th>date</th>\n",
       "      <th>folder</th>\n",
       "      <th>Temp</th>\n",
       "    </tr>\n",
       "  </thead>\n",
       "  <tbody>\n",
       "    <tr>\n",
       "      <th>12705</th>\n",
       "      <td>/data/felix/width1/full_plates/20220325_1423_P...</td>\n",
       "      <td>907</td>\n",
       "      <td>9</td>\n",
       "      <td>'Carrot'</td>\n",
       "      <td>'A5'</td>\n",
       "      <td>'001P100N100C'</td>\n",
       "      <td>'Y'</td>\n",
       "      <td>'-'</td>\n",
       "      <td>20220321</td>\n",
       "      <td>25</td>\n",
       "      <td>...</td>\n",
       "      <td>False</td>\n",
       "      <td>False</td>\n",
       "      <td>False</td>\n",
       "      <td>False</td>\n",
       "      <td>False</td>\n",
       "      <td>False</td>\n",
       "      <td>False</td>\n",
       "      <td>25.03.2022, 14:23:</td>\n",
       "      <td>20220325_1423_Plate907</td>\n",
       "      <td>NaN</td>\n",
       "    </tr>\n",
       "  </tbody>\n",
       "</table>\n",
       "<p>1 rows × 23 columns</p>\n",
       "</div>"
      ],
      "text/plain": [
       "                                              total_path Plate PrincePos  \\\n",
       "12705  /data/felix/width1/full_plates/20220325_1423_P...   907         9   \n",
       "\n",
       "           root strain          medium split Pbait CrossDate Temperature  ...  \\\n",
       "12705  'Carrot'   'A5'  '001P100N100C'   'Y'   '-'  20220321          25  ...   \n",
       "\n",
       "      /Analysis/skeleton_pruned_compressed.mat /Analysis/transform.mat  \\\n",
       "12705                                    False                   False   \n",
       "\n",
       "      /Analysis/transform_corrupt.mat  \\\n",
       "12705                           False   \n",
       "\n",
       "      /Analysis/skeleton_realigned_compressed.mat /Analysis/nx_graph_pruned.p  \\\n",
       "12705                                       False                       False   \n",
       "\n",
       "      /Analysis/nx_graph_pruned_width.p /Analysis/nx_graph_pruned_labeled.p  \\\n",
       "12705                             False                               False   \n",
       "\n",
       "                     date                  folder Temp  \n",
       "12705  25.03.2022, 14:23:  20220325_1423_Plate907  NaN  \n",
       "\n",
       "[1 rows x 23 columns]"
      ]
     },
     "execution_count": 25,
     "metadata": {},
     "output_type": "execute_result"
    }
   ],
   "source": [
    "folders"
   ]
  },
  {
   "cell_type": "markdown",
   "id": "4cd30812",
   "metadata": {},
   "source": [
    "These are local adaptations of functions for running things on the supercomputer. So better to keep them in the notebook at this stage."
   ]
  },
  {
   "cell_type": "markdown",
   "id": "eab2ad72",
   "metadata": {},
   "source": [
    "## Stiching function"
   ]
  },
  {
   "cell_type": "code",
   "execution_count": 42,
   "id": "1b57887c",
   "metadata": {},
   "outputs": [],
   "source": [
    "from amftrack.util.sys import path_code\n",
    "import os\n",
    "\n",
    "def make_stitching_loop(directory: str, dirname,op_id):\n",
    "    \"\"\"\n",
    "    Makes a temporary file in the TEMP repository with the necessary instructions\n",
    "    for the stiching loop.\n",
    "    \"\"\"\n",
    "    # TODO(FK): handle the case where there is no stiching_loops directory\n",
    "    a_file = open(os.path.join(path_code, \"pipeline/scripts/stitching_loops/stitching_loop.ijm\") ,\"r\")\n",
    "    list_of_lines = a_file.readlines()\n",
    "\n",
    "    list_of_lines[4] = f'mainDirectory = \\u0022{directory}\\u0022 ;\\n'\n",
    "    list_of_lines[29] = f'\\t if(startsWith(list[i],\\u0022{dirname}\\u0022)) \\u007b\\n'\n",
    "    file_name = f'{os.getenv(\"TEMP\")}/stitching_loops/stitching_loop{op_id}.ijm'\n",
    "    a_file = open(file_name, \"w\")\n",
    "\n",
    "    a_file.writelines(list_of_lines)\n",
    "    a_file.close() "
   ]
  },
  {
   "cell_type": "code",
   "execution_count": 43,
   "id": "8bb3c1a8",
   "metadata": {},
   "outputs": [],
   "source": [
    "def run_stitch(directory: str, folders: pd.DataFrame):\n",
    "    \"\"\"\n",
    "    Run the stiching loop.\n",
    "    \"\"\"\n",
    "    folder_list = list(folders['folder'])\n",
    "    folder_list.sort()    \n",
    "    with tqdm(total=len(folder_list), desc=\"stitched\") as pbar:\n",
    "        for folder in folder_list:\n",
    "            op_id = time_ns()\n",
    "            im = imageio.imread(f'{directory}/{folder}/Img/Img_r03_c05.tif')\n",
    "            for x in range(1,11):\n",
    "                for y in range(1,16):\n",
    "                    strix= str(x) if x>=10 else f'0{x}'\n",
    "                    striy= str(y) if y>=10 else f'0{y}'\n",
    "                    path = f'{directory}/{folder}/Img/Img_r{strix}_c{striy}.tif'\n",
    "                    # print(striy,path,os.path.getsize(path))\n",
    "                    if not os.path.isfile(path):\n",
    "                        f = open(path, 'w')\n",
    "                    if os.path.getsize(path)==0:\n",
    "                        imageio.imwrite(path,im*0)\n",
    "            make_stitching_loop(directory,folder,op_id)\n",
    "            command = [fiji_path,'--mem=8000m','--headless','--ij2','--console','-macro',f'{os.getenv(\"TEMP\")}/stitching_loops/stitching_loop{op_id}.ijm']\n",
    "            # modif 1\n",
    "            print(' '.join(command))\n",
    "            process = subprocess.run(command)\n",
    "            pbar.update(1)"
   ]
  },
  {
   "cell_type": "code",
   "execution_count": 51,
   "id": "915048ea",
   "metadata": {},
   "outputs": [],
   "source": [
    "def run_parallel(code, args, folders):\n",
    "    op_id = time_ns()\n",
    "    folders.to_json(f'{os.getenv(\"TEMP\")}/{op_id}.json')# temporary file\n",
    "    folder_list = list(folders['folder'])\n",
    "    folder_list.sort()  \n",
    "    args_str = [str(arg) for arg in args]\n",
    "    arg_str = \" \".join(args_str)\n",
    "    with tqdm(total=len(folder_list), desc=\"stitched\") as pbar:\n",
    "        for index,folder in enumerate(folder_list):\n",
    "            command = ['python3',f'{path_code}pipeline/scripts/image_processing/{code}']+args_str+[f'{op_id}',f'{index}']\n",
    "            print(' '.join(command))\n",
    "            process = subprocess.run(command)\n",
    "            pbar.update(1)"
   ]
  },
  {
   "cell_type": "markdown",
   "id": "c4912b15",
   "metadata": {},
   "source": [
    "***Stitch the folders you're interested in***\n",
    "\n",
    "should take about 20mins"
   ]
  },
  {
   "cell_type": "code",
   "execution_count": 46,
   "id": "11c1ee28",
   "metadata": {
    "tags": []
   },
   "outputs": [
    {
     "data": {
      "application/vnd.jupyter.widget-view+json": {
       "model_id": "84db5e19efbd439bb9950cc0f714b888",
       "version_major": 2,
       "version_minor": 0
      },
      "text/plain": [
       "stitched:   0%|          | 0/1 [00:00<?, ?it/s]"
      ]
     },
     "metadata": {},
     "output_type": "display_data"
    },
    {
     "name": "stdout",
     "output_type": "stream",
     "text": [
      "/home/ipausers/kahane/opt/fiji-linux64/Fiji.app/ImageJ-linux64 --mem=8000m --headless --ij2 --console -macro /data/felix/TEMP/stitching_loops/stitching_loop1649857687887209967.ijm\n"
     ]
    },
    {
     "name": "stderr",
     "output_type": "stream",
     "text": [
      "Java HotSpot(TM) 64-Bit Server VM warning: ignoring option PermSize=128m; support was removed in 8.0\n",
      "Java HotSpot(TM) 64-Bit Server VM warning: Using incremental CMS is deprecated and will likely be removed in a future release\n"
     ]
    },
    {
     "name": "stdout",
     "output_type": "stream",
     "text": [
      "20220325_1423_Plate907/\n",
      "(Wed Apr 13 15:50:56 CEST 2022): Stitching the following files:\n",
      "Image: '/data/felix/width1/full_plates//20220325_1423_Plate907//Img2/Img_r01_c01.tif' Imp: 'null' Offset: (0.0, 0.0)\n",
      "Image: '/data/felix/width1/full_plates//20220325_1423_Plate907//Img2/Img_r01_c02.tif' Imp: 'null' Offset: (3276.0, 0.0)\n",
      "Image: '/data/felix/width1/full_plates//20220325_1423_Plate907//Img2/Img_r01_c03.tif' Imp: 'null' Offset: (6552.0, 0.0)\n",
      "Image: '/data/felix/width1/full_plates//20220325_1423_Plate907//Img2/Img_r01_c04.tif' Imp: 'null' Offset: (9828.0, 0.0)\n",
      "Image: '/data/felix/width1/full_plates//20220325_1423_Plate907//Img2/Img_r01_c05.tif' Imp: 'null' Offset: (13104.0, 0.0)\n",
      "Image: '/data/felix/width1/full_plates//20220325_1423_Plate907//Img2/Img_r01_c06.tif' Imp: 'null' Offset: (16380.0, 0.0)\n",
      "Image: '/data/felix/width1/full_plates//20220325_1423_Plate907//Img2/Img_r01_c07.tif' Imp: 'null' Offset: (19656.0, 0.0)\n",
      "Image: '/data/felix/width1/full_plates//20220325_1423_Plate907//Img2/Img_r01_c08.tif' Imp: 'null' Offset: (22932.0, 0.0)\n",
      "Image: '/data/felix/width1/full_plates//20220325_1423_Plate907//Img2/Img_r01_c09.tif' Imp: 'null' Offset: (26208.0, 0.0)\n",
      "Image: '/data/felix/width1/full_plates//20220325_1423_Plate907//Img2/Img_r01_c10.tif' Imp: 'null' Offset: (29484.0, 0.0)\n",
      "Image: '/data/felix/width1/full_plates//20220325_1423_Plate907//Img2/Img_r01_c11.tif' Imp: 'null' Offset: (32760.0, 0.0)\n",
      "Image: '/data/felix/width1/full_plates//20220325_1423_Plate907//Img2/Img_r01_c12.tif' Imp: 'null' Offset: (36036.0, 0.0)\n",
      "Image: '/data/felix/width1/full_plates//20220325_1423_Plate907//Img2/Img_r01_c13.tif' Imp: 'null' Offset: (39312.0, 0.0)\n",
      "Image: '/data/felix/width1/full_plates//20220325_1423_Plate907//Img2/Img_r01_c14.tif' Imp: 'null' Offset: (42588.0, 0.0)\n",
      "Image: '/data/felix/width1/full_plates//20220325_1423_Plate907//Img2/Img_r01_c15.tif' Imp: 'null' Offset: (45864.0, 0.0)\n",
      "Image: '/data/felix/width1/full_plates//20220325_1423_Plate907//Img2/Img_r02_c01.tif' Imp: 'null' Offset: (0.0, 2400.0)\n",
      "Image: '/data/felix/width1/full_plates//20220325_1423_Plate907//Img2/Img_r02_c02.tif' Imp: 'null' Offset: (3276.0, 2400.0)\n",
      "Image: '/data/felix/width1/full_plates//20220325_1423_Plate907//Img2/Img_r02_c03.tif' Imp: 'null' Offset: (6552.0, 2400.0)\n",
      "Image: '/data/felix/width1/full_plates//20220325_1423_Plate907//Img2/Img_r02_c04.tif' Imp: 'null' Offset: (9828.0, 2400.0)\n",
      "Image: '/data/felix/width1/full_plates//20220325_1423_Plate907//Img2/Img_r02_c05.tif' Imp: 'null' Offset: (13104.0, 2400.0)\n",
      "Image: '/data/felix/width1/full_plates//20220325_1423_Plate907//Img2/Img_r02_c06.tif' Imp: 'null' Offset: (16380.0, 2400.0)\n",
      "Image: '/data/felix/width1/full_plates//20220325_1423_Plate907//Img2/Img_r02_c07.tif' Imp: 'null' Offset: (19656.0, 2400.0)\n",
      "Image: '/data/felix/width1/full_plates//20220325_1423_Plate907//Img2/Img_r02_c08.tif' Imp: 'null' Offset: (22932.0, 2400.0)\n",
      "Image: '/data/felix/width1/full_plates//20220325_1423_Plate907//Img2/Img_r02_c09.tif' Imp: 'null' Offset: (26208.0, 2400.0)\n",
      "Image: '/data/felix/width1/full_plates//20220325_1423_Plate907//Img2/Img_r02_c10.tif' Imp: 'null' Offset: (29484.0, 2400.0)\n",
      "Image: '/data/felix/width1/full_plates//20220325_1423_Plate907//Img2/Img_r02_c11.tif' Imp: 'null' Offset: (32760.0, 2400.0)\n",
      "Image: '/data/felix/width1/full_plates//20220325_1423_Plate907//Img2/Img_r02_c12.tif' Imp: 'null' Offset: (36036.0, 2400.0)\n",
      "Image: '/data/felix/width1/full_plates//20220325_1423_Plate907//Img2/Img_r02_c13.tif' Imp: 'null' Offset: (39312.0, 2400.0)\n",
      "Image: '/data/felix/width1/full_plates//20220325_1423_Plate907//Img2/Img_r02_c14.tif' Imp: 'null' Offset: (42588.0, 2400.0)\n",
      "Image: '/data/felix/width1/full_plates//20220325_1423_Plate907//Img2/Img_r02_c15.tif' Imp: 'null' Offset: (45864.0, 2400.0)\n",
      "Image: '/data/felix/width1/full_plates//20220325_1423_Plate907//Img2/Img_r03_c01.tif' Imp: 'null' Offset: (0.0, 4800.0)\n",
      "Image: '/data/felix/width1/full_plates//20220325_1423_Plate907//Img2/Img_r03_c02.tif' Imp: 'null' Offset: (3276.0, 4800.0)\n",
      "Image: '/data/felix/width1/full_plates//20220325_1423_Plate907//Img2/Img_r03_c03.tif' Imp: 'null' Offset: (6552.0, 4800.0)\n",
      "Image: '/data/felix/width1/full_plates//20220325_1423_Plate907//Img2/Img_r03_c04.tif' Imp: 'null' Offset: (9828.0, 4800.0)\n",
      "Image: '/data/felix/width1/full_plates//20220325_1423_Plate907//Img2/Img_r03_c05.tif' Imp: 'null' Offset: (13104.0, 4800.0)\n",
      "Image: '/data/felix/width1/full_plates//20220325_1423_Plate907//Img2/Img_r03_c06.tif' Imp: 'null' Offset: (16380.0, 4800.0)\n",
      "Image: '/data/felix/width1/full_plates//20220325_1423_Plate907//Img2/Img_r03_c07.tif' Imp: 'null' Offset: (19656.0, 4800.0)\n",
      "Image: '/data/felix/width1/full_plates//20220325_1423_Plate907//Img2/Img_r03_c08.tif' Imp: 'null' Offset: (22932.0, 4800.0)\n",
      "Image: '/data/felix/width1/full_plates//20220325_1423_Plate907//Img2/Img_r03_c09.tif' Imp: 'null' Offset: (26208.0, 4800.0)\n",
      "Image: '/data/felix/width1/full_plates//20220325_1423_Plate907//Img2/Img_r03_c10.tif' Imp: 'null' Offset: (29484.0, 4800.0)\n",
      "Image: '/data/felix/width1/full_plates//20220325_1423_Plate907//Img2/Img_r03_c11.tif' Imp: 'null' Offset: (32760.0, 4800.0)\n",
      "Image: '/data/felix/width1/full_plates//20220325_1423_Plate907//Img2/Img_r03_c12.tif' Imp: 'null' Offset: (36036.0, 4800.0)\n",
      "Image: '/data/felix/width1/full_plates//20220325_1423_Plate907//Img2/Img_r03_c13.tif' Imp: 'null' Offset: (39312.0, 4800.0)\n",
      "Image: '/data/felix/width1/full_plates//20220325_1423_Plate907//Img2/Img_r03_c14.tif' Imp: 'null' Offset: (42588.0, 4800.0)\n",
      "Image: '/data/felix/width1/full_plates//20220325_1423_Plate907//Img2/Img_r03_c15.tif' Imp: 'null' Offset: (45864.0, 4800.0)\n",
      "Image: '/data/felix/width1/full_plates//20220325_1423_Plate907//Img2/Img_r04_c01.tif' Imp: 'null' Offset: (0.0, 7200.0)\n",
      "Image: '/data/felix/width1/full_plates//20220325_1423_Plate907//Img2/Img_r04_c02.tif' Imp: 'null' Offset: (3276.0, 7200.0)\n",
      "Image: '/data/felix/width1/full_plates//20220325_1423_Plate907//Img2/Img_r04_c03.tif' Imp: 'null' Offset: (6552.0, 7200.0)\n",
      "Image: '/data/felix/width1/full_plates//20220325_1423_Plate907//Img2/Img_r04_c04.tif' Imp: 'null' Offset: (9828.0, 7200.0)\n",
      "Image: '/data/felix/width1/full_plates//20220325_1423_Plate907//Img2/Img_r04_c05.tif' Imp: 'null' Offset: (13104.0, 7200.0)\n",
      "Image: '/data/felix/width1/full_plates//20220325_1423_Plate907//Img2/Img_r04_c06.tif' Imp: 'null' Offset: (16380.0, 7200.0)\n",
      "Image: '/data/felix/width1/full_plates//20220325_1423_Plate907//Img2/Img_r04_c07.tif' Imp: 'null' Offset: (19656.0, 7200.0)\n",
      "Image: '/data/felix/width1/full_plates//20220325_1423_Plate907//Img2/Img_r04_c08.tif' Imp: 'null' Offset: (22932.0, 7200.0)\n",
      "Image: '/data/felix/width1/full_plates//20220325_1423_Plate907//Img2/Img_r04_c09.tif' Imp: 'null' Offset: (26208.0, 7200.0)\n",
      "Image: '/data/felix/width1/full_plates//20220325_1423_Plate907//Img2/Img_r04_c10.tif' Imp: 'null' Offset: (29484.0, 7200.0)\n",
      "Image: '/data/felix/width1/full_plates//20220325_1423_Plate907//Img2/Img_r04_c11.tif' Imp: 'null' Offset: (32760.0, 7200.0)\n",
      "Image: '/data/felix/width1/full_plates//20220325_1423_Plate907//Img2/Img_r04_c12.tif' Imp: 'null' Offset: (36036.0, 7200.0)\n",
      "Image: '/data/felix/width1/full_plates//20220325_1423_Plate907//Img2/Img_r04_c13.tif' Imp: 'null' Offset: (39312.0, 7200.0)\n",
      "Image: '/data/felix/width1/full_plates//20220325_1423_Plate907//Img2/Img_r04_c14.tif' Imp: 'null' Offset: (42588.0, 7200.0)\n",
      "Image: '/data/felix/width1/full_plates//20220325_1423_Plate907//Img2/Img_r04_c15.tif' Imp: 'null' Offset: (45864.0, 7200.0)\n",
      "Image: '/data/felix/width1/full_plates//20220325_1423_Plate907//Img2/Img_r05_c01.tif' Imp: 'null' Offset: (0.0, 9600.0)\n",
      "Image: '/data/felix/width1/full_plates//20220325_1423_Plate907//Img2/Img_r05_c02.tif' Imp: 'null' Offset: (3276.0, 9600.0)\n",
      "Image: '/data/felix/width1/full_plates//20220325_1423_Plate907//Img2/Img_r05_c03.tif' Imp: 'null' Offset: (6552.0, 9600.0)\n",
      "Image: '/data/felix/width1/full_plates//20220325_1423_Plate907//Img2/Img_r05_c04.tif' Imp: 'null' Offset: (9828.0, 9600.0)\n",
      "Image: '/data/felix/width1/full_plates//20220325_1423_Plate907//Img2/Img_r05_c05.tif' Imp: 'null' Offset: (13104.0, 9600.0)\n",
      "Image: '/data/felix/width1/full_plates//20220325_1423_Plate907//Img2/Img_r05_c06.tif' Imp: 'null' Offset: (16380.0, 9600.0)\n",
      "Image: '/data/felix/width1/full_plates//20220325_1423_Plate907//Img2/Img_r05_c07.tif' Imp: 'null' Offset: (19656.0, 9600.0)\n",
      "Image: '/data/felix/width1/full_plates//20220325_1423_Plate907//Img2/Img_r05_c08.tif' Imp: 'null' Offset: (22932.0, 9600.0)\n",
      "Image: '/data/felix/width1/full_plates//20220325_1423_Plate907//Img2/Img_r05_c09.tif' Imp: 'null' Offset: (26208.0, 9600.0)\n",
      "Image: '/data/felix/width1/full_plates//20220325_1423_Plate907//Img2/Img_r05_c10.tif' Imp: 'null' Offset: (29484.0, 9600.0)\n",
      "Image: '/data/felix/width1/full_plates//20220325_1423_Plate907//Img2/Img_r05_c11.tif' Imp: 'null' Offset: (32760.0, 9600.0)\n",
      "Image: '/data/felix/width1/full_plates//20220325_1423_Plate907//Img2/Img_r05_c12.tif' Imp: 'null' Offset: (36036.0, 9600.0)\n",
      "Image: '/data/felix/width1/full_plates//20220325_1423_Plate907//Img2/Img_r05_c13.tif' Imp: 'null' Offset: (39312.0, 9600.0)\n",
      "Image: '/data/felix/width1/full_plates//20220325_1423_Plate907//Img2/Img_r05_c14.tif' Imp: 'null' Offset: (42588.0, 9600.0)\n",
      "Image: '/data/felix/width1/full_plates//20220325_1423_Plate907//Img2/Img_r05_c15.tif' Imp: 'null' Offset: (45864.0, 9600.0)\n",
      "Image: '/data/felix/width1/full_plates//20220325_1423_Plate907//Img2/Img_r06_c01.tif' Imp: 'null' Offset: (0.0, 12000.0)\n",
      "Image: '/data/felix/width1/full_plates//20220325_1423_Plate907//Img2/Img_r06_c02.tif' Imp: 'null' Offset: (3276.0, 12000.0)\n",
      "Image: '/data/felix/width1/full_plates//20220325_1423_Plate907//Img2/Img_r06_c03.tif' Imp: 'null' Offset: (6552.0, 12000.0)\n",
      "Image: '/data/felix/width1/full_plates//20220325_1423_Plate907//Img2/Img_r06_c04.tif' Imp: 'null' Offset: (9828.0, 12000.0)\n",
      "Image: '/data/felix/width1/full_plates//20220325_1423_Plate907//Img2/Img_r06_c05.tif' Imp: 'null' Offset: (13104.0, 12000.0)\n",
      "Image: '/data/felix/width1/full_plates//20220325_1423_Plate907//Img2/Img_r06_c06.tif' Imp: 'null' Offset: (16380.0, 12000.0)\n",
      "Image: '/data/felix/width1/full_plates//20220325_1423_Plate907//Img2/Img_r06_c07.tif' Imp: 'null' Offset: (19656.0, 12000.0)\n",
      "Image: '/data/felix/width1/full_plates//20220325_1423_Plate907//Img2/Img_r06_c08.tif' Imp: 'null' Offset: (22932.0, 12000.0)\n",
      "Image: '/data/felix/width1/full_plates//20220325_1423_Plate907//Img2/Img_r06_c09.tif' Imp: 'null' Offset: (26208.0, 12000.0)\n",
      "Image: '/data/felix/width1/full_plates//20220325_1423_Plate907//Img2/Img_r06_c10.tif' Imp: 'null' Offset: (29484.0, 12000.0)\n",
      "Image: '/data/felix/width1/full_plates//20220325_1423_Plate907//Img2/Img_r06_c11.tif' Imp: 'null' Offset: (32760.0, 12000.0)\n",
      "Image: '/data/felix/width1/full_plates//20220325_1423_Plate907//Img2/Img_r06_c12.tif' Imp: 'null' Offset: (36036.0, 12000.0)\n",
      "Image: '/data/felix/width1/full_plates//20220325_1423_Plate907//Img2/Img_r06_c13.tif' Imp: 'null' Offset: (39312.0, 12000.0)\n",
      "Image: '/data/felix/width1/full_plates//20220325_1423_Plate907//Img2/Img_r06_c14.tif' Imp: 'null' Offset: (42588.0, 12000.0)\n",
      "Image: '/data/felix/width1/full_plates//20220325_1423_Plate907//Img2/Img_r06_c15.tif' Imp: 'null' Offset: (45864.0, 12000.0)\n",
      "Image: '/data/felix/width1/full_plates//20220325_1423_Plate907//Img2/Img_r07_c01.tif' Imp: 'null' Offset: (0.0, 14400.0)\n",
      "Image: '/data/felix/width1/full_plates//20220325_1423_Plate907//Img2/Img_r07_c02.tif' Imp: 'null' Offset: (3276.0, 14400.0)\n",
      "Image: '/data/felix/width1/full_plates//20220325_1423_Plate907//Img2/Img_r07_c03.tif' Imp: 'null' Offset: (6552.0, 14400.0)\n",
      "Image: '/data/felix/width1/full_plates//20220325_1423_Plate907//Img2/Img_r07_c04.tif' Imp: 'null' Offset: (9828.0, 14400.0)\n",
      "Image: '/data/felix/width1/full_plates//20220325_1423_Plate907//Img2/Img_r07_c05.tif' Imp: 'null' Offset: (13104.0, 14400.0)\n",
      "Image: '/data/felix/width1/full_plates//20220325_1423_Plate907//Img2/Img_r07_c06.tif' Imp: 'null' Offset: (16380.0, 14400.0)\n",
      "Image: '/data/felix/width1/full_plates//20220325_1423_Plate907//Img2/Img_r07_c07.tif' Imp: 'null' Offset: (19656.0, 14400.0)\n",
      "Image: '/data/felix/width1/full_plates//20220325_1423_Plate907//Img2/Img_r07_c08.tif' Imp: 'null' Offset: (22932.0, 14400.0)\n",
      "Image: '/data/felix/width1/full_plates//20220325_1423_Plate907//Img2/Img_r07_c09.tif' Imp: 'null' Offset: (26208.0, 14400.0)\n",
      "Image: '/data/felix/width1/full_plates//20220325_1423_Plate907//Img2/Img_r07_c10.tif' Imp: 'null' Offset: (29484.0, 14400.0)\n",
      "Image: '/data/felix/width1/full_plates//20220325_1423_Plate907//Img2/Img_r07_c11.tif' Imp: 'null' Offset: (32760.0, 14400.0)\n",
      "Image: '/data/felix/width1/full_plates//20220325_1423_Plate907//Img2/Img_r07_c12.tif' Imp: 'null' Offset: (36036.0, 14400.0)\n",
      "Image: '/data/felix/width1/full_plates//20220325_1423_Plate907//Img2/Img_r07_c13.tif' Imp: 'null' Offset: (39312.0, 14400.0)\n",
      "Image: '/data/felix/width1/full_plates//20220325_1423_Plate907//Img2/Img_r07_c14.tif' Imp: 'null' Offset: (42588.0, 14400.0)\n",
      "Image: '/data/felix/width1/full_plates//20220325_1423_Plate907//Img2/Img_r07_c15.tif' Imp: 'null' Offset: (45864.0, 14400.0)\n",
      "Image: '/data/felix/width1/full_plates//20220325_1423_Plate907//Img2/Img_r08_c01.tif' Imp: 'null' Offset: (0.0, 16800.0)\n",
      "Image: '/data/felix/width1/full_plates//20220325_1423_Plate907//Img2/Img_r08_c02.tif' Imp: 'null' Offset: (3276.0, 16800.0)\n",
      "Image: '/data/felix/width1/full_plates//20220325_1423_Plate907//Img2/Img_r08_c03.tif' Imp: 'null' Offset: (6552.0, 16800.0)\n",
      "Image: '/data/felix/width1/full_plates//20220325_1423_Plate907//Img2/Img_r08_c04.tif' Imp: 'null' Offset: (9828.0, 16800.0)\n",
      "Image: '/data/felix/width1/full_plates//20220325_1423_Plate907//Img2/Img_r08_c05.tif' Imp: 'null' Offset: (13104.0, 16800.0)\n",
      "Image: '/data/felix/width1/full_plates//20220325_1423_Plate907//Img2/Img_r08_c06.tif' Imp: 'null' Offset: (16380.0, 16800.0)\n",
      "Image: '/data/felix/width1/full_plates//20220325_1423_Plate907//Img2/Img_r08_c07.tif' Imp: 'null' Offset: (19656.0, 16800.0)\n",
      "Image: '/data/felix/width1/full_plates//20220325_1423_Plate907//Img2/Img_r08_c08.tif' Imp: 'null' Offset: (22932.0, 16800.0)\n",
      "Image: '/data/felix/width1/full_plates//20220325_1423_Plate907//Img2/Img_r08_c09.tif' Imp: 'null' Offset: (26208.0, 16800.0)\n",
      "Image: '/data/felix/width1/full_plates//20220325_1423_Plate907//Img2/Img_r08_c10.tif' Imp: 'null' Offset: (29484.0, 16800.0)\n",
      "Image: '/data/felix/width1/full_plates//20220325_1423_Plate907//Img2/Img_r08_c11.tif' Imp: 'null' Offset: (32760.0, 16800.0)\n",
      "Image: '/data/felix/width1/full_plates//20220325_1423_Plate907//Img2/Img_r08_c12.tif' Imp: 'null' Offset: (36036.0, 16800.0)\n",
      "Image: '/data/felix/width1/full_plates//20220325_1423_Plate907//Img2/Img_r08_c13.tif' Imp: 'null' Offset: (39312.0, 16800.0)\n",
      "Image: '/data/felix/width1/full_plates//20220325_1423_Plate907//Img2/Img_r08_c14.tif' Imp: 'null' Offset: (42588.0, 16800.0)\n",
      "Image: '/data/felix/width1/full_plates//20220325_1423_Plate907//Img2/Img_r08_c15.tif' Imp: 'null' Offset: (45864.0, 16800.0)\n",
      "Image: '/data/felix/width1/full_plates//20220325_1423_Plate907//Img2/Img_r09_c01.tif' Imp: 'null' Offset: (0.0, 19200.0)\n",
      "Image: '/data/felix/width1/full_plates//20220325_1423_Plate907//Img2/Img_r09_c02.tif' Imp: 'null' Offset: (3276.0, 19200.0)\n",
      "Image: '/data/felix/width1/full_plates//20220325_1423_Plate907//Img2/Img_r09_c03.tif' Imp: 'null' Offset: (6552.0, 19200.0)\n",
      "Image: '/data/felix/width1/full_plates//20220325_1423_Plate907//Img2/Img_r09_c04.tif' Imp: 'null' Offset: (9828.0, 19200.0)\n",
      "Image: '/data/felix/width1/full_plates//20220325_1423_Plate907//Img2/Img_r09_c05.tif' Imp: 'null' Offset: (13104.0, 19200.0)\n",
      "Image: '/data/felix/width1/full_plates//20220325_1423_Plate907//Img2/Img_r09_c06.tif' Imp: 'null' Offset: (16380.0, 19200.0)\n",
      "Image: '/data/felix/width1/full_plates//20220325_1423_Plate907//Img2/Img_r09_c07.tif' Imp: 'null' Offset: (19656.0, 19200.0)\n",
      "Image: '/data/felix/width1/full_plates//20220325_1423_Plate907//Img2/Img_r09_c08.tif' Imp: 'null' Offset: (22932.0, 19200.0)\n",
      "Image: '/data/felix/width1/full_plates//20220325_1423_Plate907//Img2/Img_r09_c09.tif' Imp: 'null' Offset: (26208.0, 19200.0)\n",
      "Image: '/data/felix/width1/full_plates//20220325_1423_Plate907//Img2/Img_r09_c10.tif' Imp: 'null' Offset: (29484.0, 19200.0)\n",
      "Image: '/data/felix/width1/full_plates//20220325_1423_Plate907//Img2/Img_r09_c11.tif' Imp: 'null' Offset: (32760.0, 19200.0)\n",
      "Image: '/data/felix/width1/full_plates//20220325_1423_Plate907//Img2/Img_r09_c12.tif' Imp: 'null' Offset: (36036.0, 19200.0)\n",
      "Image: '/data/felix/width1/full_plates//20220325_1423_Plate907//Img2/Img_r09_c13.tif' Imp: 'null' Offset: (39312.0, 19200.0)\n",
      "Image: '/data/felix/width1/full_plates//20220325_1423_Plate907//Img2/Img_r09_c14.tif' Imp: 'null' Offset: (42588.0, 19200.0)\n",
      "Image: '/data/felix/width1/full_plates//20220325_1423_Plate907//Img2/Img_r09_c15.tif' Imp: 'null' Offset: (45864.0, 19200.0)\n",
      "Image: '/data/felix/width1/full_plates//20220325_1423_Plate907//Img2/Img_r10_c01.tif' Imp: 'null' Offset: (0.0, 21600.0)\n",
      "Image: '/data/felix/width1/full_plates//20220325_1423_Plate907//Img2/Img_r10_c02.tif' Imp: 'null' Offset: (3276.0, 21600.0)\n",
      "Image: '/data/felix/width1/full_plates//20220325_1423_Plate907//Img2/Img_r10_c03.tif' Imp: 'null' Offset: (6552.0, 21600.0)\n",
      "Image: '/data/felix/width1/full_plates//20220325_1423_Plate907//Img2/Img_r10_c04.tif' Imp: 'null' Offset: (9828.0, 21600.0)\n",
      "Image: '/data/felix/width1/full_plates//20220325_1423_Plate907//Img2/Img_r10_c05.tif' Imp: 'null' Offset: (13104.0, 21600.0)\n",
      "Image: '/data/felix/width1/full_plates//20220325_1423_Plate907//Img2/Img_r10_c06.tif' Imp: 'null' Offset: (16380.0, 21600.0)\n",
      "Image: '/data/felix/width1/full_plates//20220325_1423_Plate907//Img2/Img_r10_c07.tif' Imp: 'null' Offset: (19656.0, 21600.0)\n",
      "Image: '/data/felix/width1/full_plates//20220325_1423_Plate907//Img2/Img_r10_c08.tif' Imp: 'null' Offset: (22932.0, 21600.0)\n",
      "Image: '/data/felix/width1/full_plates//20220325_1423_Plate907//Img2/Img_r10_c09.tif' Imp: 'null' Offset: (26208.0, 21600.0)\n",
      "Image: '/data/felix/width1/full_plates//20220325_1423_Plate907//Img2/Img_r10_c10.tif' Imp: 'null' Offset: (29484.0, 21600.0)\n",
      "Image: '/data/felix/width1/full_plates//20220325_1423_Plate907//Img2/Img_r10_c11.tif' Imp: 'null' Offset: (32760.0, 21600.0)\n",
      "Image: '/data/felix/width1/full_plates//20220325_1423_Plate907//Img2/Img_r10_c12.tif' Imp: 'null' Offset: (36036.0, 21600.0)\n",
      "Image: '/data/felix/width1/full_plates//20220325_1423_Plate907//Img2/Img_r10_c13.tif' Imp: 'null' Offset: (39312.0, 21600.0)\n",
      "Image: '/data/felix/width1/full_plates//20220325_1423_Plate907//Img2/Img_r10_c14.tif' Imp: 'null' Offset: (42588.0, 21600.0)\n",
      "Image: '/data/felix/width1/full_plates//20220325_1423_Plate907//Img2/Img_r10_c15.tif' Imp: 'null' Offset: (45864.0, 21600.0)\n"
     ]
    },
    {
     "name": "stdout",
     "output_type": "stream",
     "text": [
      "0 overlaps 1: 0.0 translation: x: 2156 y: 23\n",
      "0 overlaps 15: 0.0 translation: x: -5280 y: 2509\n",
      "0 overlaps 16: 0.0 translation: x: 2156 y: 2505\n",
      "1 overlaps 2: 0.0 translation: x: 2156 y: 23\n",
      "1 overlaps 15: 0.0 translation: x: -4396 y: 2505\n",
      "1 overlaps 16: 0.0 translation: x: -5280 y: 2509\n",
      "1 overlaps 17: 0.0 translation: x: 2156 y: 2505\n",
      "2 overlaps 3: 0.0 translation: x: 2156 y: 23\n",
      "2 overlaps 16: 0.0 translation: x: -4396 y: 2505\n",
      "2 overlaps 17: 0.0 translation: x: -5280 y: 2509\n",
      "2 overlaps 18: 0.0 translation: x: 2156 y: 2505\n",
      "3 overlaps 4: 0.0 translation: x: 2510 y: 742\n",
      "3 overlaps 17: 0.0 translation: x: -4396 y: 2505\n",
      "3 overlaps 18: 0.0 translation: x: -4453 y: 2609\n",
      "3 overlaps 19: 0.0 translation: x: 2391 y: 2622\n",
      "4 overlaps 5: 0.5898469877476745 translation: x: 3369 y: -11\n",
      "4 overlaps 18: 0.2296289209886288 translation: x: -3289 y: 2461\n",
      "4 overlaps 19: 0.09145192564422139 translation: x: 754 y: 2380\n",
      "4 overlaps 20: 0.2881825737165599 translation: x: 3377 y: 2050\n",
      "5 overlaps 6: 0.0597991293948763 translation: x: 3276 y: 524\n",
      "5 overlaps 19: 0.019618122046791052 translation: x: -3249 y: 2420\n",
      "5 overlaps 20: 0.009069803142623907 translation: x: 3445 y: 2499\n",
      "5 overlaps 21: 0.005711940712070232 translation: x: 3224 y: 2216\n",
      "6 overlaps 7: 0.45225236062419405 translation: x: 3449 y: -16\n",
      "6 overlaps 20: 0.4105468347837216 translation: x: -3459 y: 2496\n",
      "6 overlaps 21: 0.4132656257372045 translation: x: -10 y: 2488\n",
      "6 overlaps 22: 0.3169600080272745 translation: x: 3433 y: 2468\n",
      "7 overlaps 8: 0.5729436568446413 translation: x: 3453 y: -20\n",
      "7 overlaps 21: 0.3850313568070921 translation: x: -3454 y: 2497\n",
      "7 overlaps 22: 0.6900216026478161 translation: x: -10 y: 2488\n",
      "7 overlaps 23: 0.3444581248790983 translation: x: 3436 y: 2468\n",
      "8 overlaps 9: 0.6226004770842658 translation: x: 3445 y: -14\n",
      "8 overlaps 22: 0.29899570706779877 translation: x: -3455 y: 2497\n",
      "8 overlaps 23: 0.371786990989974 translation: x: -7 y: 2482\n",
      "8 overlaps 24: 0.2020254495110421 translation: x: 3430 y: 2474\n",
      "9 overlaps 10: 0.1709631443872382 translation: x: 3638 y: -151\n",
      "9 overlaps 23: 0.30761048006105957 translation: x: -3443 y: 2490\n",
      "9 overlaps 24: 0.7211295087633346 translation: x: -17 y: 2480\n",
      "9 overlaps 25: 0.16074953269881545 translation: x: 3427 y: 2471\n",
      "10 overlaps 11: 0.0 translation: x: 3948 y: -561\n",
      "10 overlaps 24: 0.027401559988666606 translation: x: -3047 y: 2561\n",
      "10 overlaps 25: 0.18726018341785838 translation: x: -1231 y: 2269\n",
      "10 overlaps 26: 0.0 translation: x: 4363 y: 1592\n",
      "11 overlaps 12: 0.0 translation: x: 2156 y: 23\n",
      "11 overlaps 25: 0.0 translation: x: -3896 y: 2048\n",
      "11 overlaps 26: 0.0 translation: x: 4445 y: 2633\n",
      "11 overlaps 27: 0.0 translation: x: 2156 y: 2505\n",
      "12 overlaps 13: 0.0 translation: x: 2156 y: 23\n",
      "12 overlaps 26: 0.0 translation: x: -4396 y: 2505\n",
      "12 overlaps 27: 0.0 translation: x: -5280 y: 2509\n",
      "12 overlaps 28: 0.0 translation: x: 2156 y: 2505\n",
      "13 overlaps 14: 0.0 translation: x: 2156 y: 23\n",
      "13 overlaps 27: 0.0 translation: x: -4396 y: 2505\n",
      "13 overlaps 28: 0.0 translation: x: -5280 y: 2509\n",
      "13 overlaps 29: 0.0 translation: x: 2156 y: 2505\n",
      "14 overlaps 28: 0.0 translation: x: -4396 y: 2505\n",
      "14 overlaps 29: 0.0 translation: x: -5280 y: 2509\n",
      "15 overlaps 16: 0.0 translation: x: 2156 y: 23\n",
      "15 overlaps 30: 0.0 translation: x: -5280 y: 2509\n",
      "15 overlaps 31: 0.0 translation: x: 2156 y: 2505\n",
      "16 overlaps 17: 0.0 translation: x: 2156 y: 23\n",
      "16 overlaps 30: 0.0 translation: x: -4396 y: 2505\n",
      "16 overlaps 31: 0.0 translation: x: -5280 y: 2509\n",
      "16 overlaps 32: 0.0 translation: x: 2156 y: 2505\n",
      "17 overlaps 18: 0.0 translation: x: 2497 y: 670\n",
      "17 overlaps 31: 0.0 translation: x: -4396 y: 2505\n",
      "17 overlaps 32: 0.0 translation: x: -4539 y: 2627\n",
      "17 overlaps 33: 0.0 translation: x: 2461 y: 2779\n",
      "18 overlaps 19: 0.6230075889100845 translation: x: 3348 y: -12\n",
      "18 overlaps 32: 0.7691276149934024 translation: x: -3456 y: 2593\n",
      "18 overlaps 33: 0.24297735313021512 translation: x: -99 y: 2576\n",
      "18 overlaps 34: 0.16654334830920817 translation: x: 3335 y: 2561\n",
      "19 overlaps 20: 0.7985664160503998 translation: x: 3450 y: -13\n",
      "19 overlaps 33: 0.164049273827493 translation: x: -3451 y: 2588\n",
      "19 overlaps 34: 0.29371864466386677 translation: x: -5 y: 2571\n",
      "19 overlaps 35: 0.17246590125383257 translation: x: 3434 y: 2559\n",
      "20 overlaps 21: 0.57094946589881 translation: x: 3453 y: -13\n",
      "20 overlaps 34: 0.1713185684498837 translation: x: -3456 y: 2587\n",
      "20 overlaps 35: 0.4218899016824052 translation: x: -9 y: 2572\n",
      "20 overlaps 36: 0.34098704523884404 translation: x: 3435 y: 2560\n",
      "21 overlaps 22: 0.4924951017773783 translation: x: 3442 y: -17\n",
      "21 overlaps 35: 0.3975753995258838 translation: x: -3454 y: 2583\n",
      "21 overlaps 36: 0.7756682246450919 translation: x: -14 y: 2567\n",
      "21 overlaps 37: 0.20883448088870726 translation: x: 3441 y: 2551\n",
      "22 overlaps 23: 0.4407579747917461 translation: x: 3441 y: -15\n",
      "22 overlaps 36: 0.4085065821041373 translation: x: -3452 y: 2579\n",
      "22 overlaps 37: 0.6259409619293982 translation: x: -11 y: 2565\n",
      "22 overlaps 38: 0.2877559321936919 translation: x: 3434 y: 2556\n",
      "23 overlaps 24: 0.3441645898500089 translation: x: 3445 y: -14\n",
      "23 overlaps 37: 0.22514064589623736 translation: x: -3462 y: 2586\n",
      "23 overlaps 38: 0.4103499502974765 translation: x: -13 y: 2565\n",
      "23 overlaps 39: 0.2371856861248254 translation: x: 3428 y: 2553\n",
      "24 overlaps 25: 0.34819768185406696 translation: x: 3448 y: -15\n",
      "24 overlaps 38: 0.42098336693341043 translation: x: -3442 y: 2571\n",
      "24 overlaps 39: 0.3844422787750069 translation: x: -12 y: 2563\n",
      "24 overlaps 40: 0.17928851467679432 translation: x: 3439 y: 2558\n",
      "25 overlaps 26: 0.8903876829462856 translation: x: 3441 y: -13\n",
      "25 overlaps 39: 0.22148629335796818 translation: x: -3460 y: 2587\n",
      "25 overlaps 40: 0.41890533132991026 translation: x: -10 y: 2561\n",
      "25 overlaps 41: 0.015466471474656166 translation: x: 2982 y: 2434\n",
      "26 overlaps 27: 0.0 translation: x: 2485 y: -1127\n",
      "26 overlaps 40: 0.1949303631331657 translation: x: -3448 y: 2583\n",
      "26 overlaps 41: 0.6338492512751975 translation: x: -10 y: 2574\n",
      "26 overlaps 42: 0.6966501557848903 translation: x: 3421 y: 2561\n",
      "27 overlaps 28: 0.0 translation: x: 2156 y: 23\n",
      "27 overlaps 41: 0.0 translation: x: -2434 y: 2694\n",
      "27 overlaps 42: 0.0 translation: x: 3909 y: 2784\n",
      "27 overlaps 43: 0.0 translation: x: 2156 y: 2505\n",
      "28 overlaps 29: 0.0 translation: x: 2156 y: 23\n",
      "28 overlaps 42: 0.0 translation: x: -4396 y: 2505\n",
      "28 overlaps 43: 0.0 translation: x: -5280 y: 2509\n",
      "28 overlaps 44: 0.0 translation: x: 2156 y: 2505\n",
      "29 overlaps 43: 0.0 translation: x: -4396 y: 2505\n",
      "29 overlaps 44: 0.0 translation: x: -5280 y: 2509\n",
      "30 overlaps 31: 0.0 translation: x: 2156 y: 23\n",
      "30 overlaps 45: 0.0 translation: x: -5280 y: 2509\n",
      "30 overlaps 46: 0.0 translation: x: 2156 y: 2505\n",
      "31 overlaps 32: 0.0 translation: x: 2442 y: 725\n",
      "31 overlaps 45: 0.0 translation: x: -4396 y: 2505\n",
      "31 overlaps 46: 0.0 translation: x: -4378 y: 2599\n",
      "31 overlaps 47: 0.0 translation: x: 4151 y: 2185\n",
      "32 overlaps 33: 0.4849781710084546 translation: x: 3347 y: -12\n",
      "32 overlaps 46: 0.7276918938277853 translation: x: -3256 y: 2486\n",
      "32 overlaps 47: 0.7130763864251405 translation: x: -109 y: 2572\n",
      "32 overlaps 48: 0.2112559885916206 translation: x: 3336 y: 2554\n",
      "33 overlaps 34: 0.8047138442191001 translation: x: 3433 y: -14\n",
      "33 overlaps 47: 0.19082233354591216 translation: x: -3455 y: 2584\n",
      "33 overlaps 48: 0.36006830286672886 translation: x: -1 y: 2559\n",
      "33 overlaps 49: 0.3281352246403178 translation: x: 3431 y: 2556\n",
      "34 overlaps 35: 0.5283721408634583 translation: x: 3448 y: -13\n",
      "34 overlaps 48: 0.3764796272238189 translation: x: -3450 y: 2582\n",
      "34 overlaps 49: 0.41716191495487087 translation: x: -10 y: 2560\n",
      "34 overlaps 50: 0.30139408880226526 translation: x: 3431 y: 2551\n",
      "35 overlaps 36: 0.5959325978843005 translation: x: 3442 y: -16\n",
      "35 overlaps 49: 0.326847174879906 translation: x: -3447 y: 2571\n",
      "35 overlaps 50: 0.3907639966897844 translation: x: -12 y: 2561\n",
      "35 overlaps 51: 0.16648798389617808 translation: x: 3434 y: 2546\n",
      "36 overlaps 37: 0.2849199875137181 translation: x: 3447 y: -23\n",
      "36 overlaps 50: 0.28072461626072615 translation: x: -3464 y: 2581\n",
      "36 overlaps 51: 0.4358261468044698 translation: x: -14 y: 2560\n",
      "36 overlaps 52: 0.21061403662734332 translation: x: 3408 y: 2542\n",
      "37 overlaps 38: 0.44556864947628877 translation: x: 3437 y: -12\n",
      "37 overlaps 51: 0.16846778200425547 translation: x: -3462 y: 2583\n"
     ]
    },
    {
     "name": "stdout",
     "output_type": "stream",
     "text": [
      "37 overlaps 52: 0.3608036055596237 translation: x: -20 y: 2558\n",
      "37 overlaps 53: 0.22516404790989022 translation: x: 3430 y: 2554\n",
      "38 overlaps 39: 0.41356226143560415 translation: x: 3438 y: -13\n",
      "38 overlaps 52: 0.1196768355210774 translation: x: -3467 y: 2581\n",
      "38 overlaps 53: 0.30960842123567633 translation: x: -16 y: 2561\n",
      "38 overlaps 54: 0.40134770356935895 translation: x: 3437 y: 2556\n",
      "39 overlaps 40: 0.3600215791502164 translation: x: 3442 y: -14\n",
      "39 overlaps 53: 0.1699000457465214 translation: x: -3464 y: 2582\n",
      "39 overlaps 54: 0.34707616184779877 translation: x: -2 y: 2568\n",
      "39 overlaps 55: 0.3429310549535424 translation: x: 3421 y: 2540\n",
      "40 overlaps 41: 0.6667890823463725 translation: x: 3431 y: -14\n",
      "40 overlaps 54: 0.38824588919715475 translation: x: -3457 y: 2583\n",
      "40 overlaps 55: 0.43388669237320204 translation: x: -12 y: 2561\n",
      "40 overlaps 56: 0.1889137873911371 translation: x: 3422 y: 2548\n",
      "41 overlaps 42: 0.7356715387106793 translation: x: 3430 y: -13\n",
      "41 overlaps 55: 0.21251846163290994 translation: x: -3452 y: 2581\n",
      "41 overlaps 56: 0.2891042110607194 translation: x: -8 y: 2551\n",
      "41 overlaps 57: 0.03507611716340958 translation: x: 2752 y: 2330\n",
      "42 overlaps 43: 0.0 translation: x: 2464 y: -577\n",
      "42 overlaps 56: 0.039439958614639656 translation: x: -3276 y: 2078\n",
      "42 overlaps 57: 0.6713709688660423 translation: x: -12 y: 2570\n",
      "42 overlaps 58: 0.8374090548800402 translation: x: 3423 y: 2557\n",
      "43 overlaps 44: 0.0 translation: x: 2156 y: 23\n",
      "43 overlaps 57: 0.0 translation: x: -2535 y: 2050\n",
      "43 overlaps 58: 0.0 translation: x: 4662 y: 2812\n",
      "43 overlaps 59: 0.0 translation: x: 2156 y: 2505\n",
      "44 overlaps 58: 0.0 translation: x: -4396 y: 2505\n",
      "44 overlaps 59: 0.0 translation: x: -5280 y: 2509\n",
      "45 overlaps 46: 0.0 translation: x: 3903 y: -1582\n",
      "45 overlaps 60: 0.0 translation: x: -5280 y: 2509\n",
      "45 overlaps 61: 0.0 translation: x: 2156 y: 2505\n",
      "46 overlaps 47: 0.5233579047989938 translation: x: 3337 y: -12\n",
      "46 overlaps 60: 0.0 translation: x: -2460 y: 2701\n",
      "46 overlaps 61: 0.6177929241786377 translation: x: -8 y: 2533\n",
      "46 overlaps 62: 0.23999370998426267 translation: x: 3329 y: 2520\n",
      "47 overlaps 48: 0.6083314062061396 translation: x: 3445 y: -13\n",
      "47 overlaps 61: 0.3479136053683977 translation: x: -3342 y: 2541\n",
      "47 overlaps 62: 0.5125627247119341 translation: x: -8 y: 2533\n",
      "47 overlaps 63: 0.24968125719033427 translation: x: 3437 y: 2519\n",
      "48 overlaps 49: 0.4545074265164587 translation: x: 3441 y: -14\n",
      "48 overlaps 62: 0.29928371003472665 translation: x: -3452 y: 2545\n",
      "48 overlaps 63: 0.3399429847279647 translation: x: -9 y: 2526\n",
      "48 overlaps 64: 0.2183213739574948 translation: x: 3433 y: 2518\n",
      "49 overlaps 50: 0.2767104098856544 translation: x: 3443 y: -20\n",
      "49 overlaps 63: 0.22742226040053054 translation: x: -3449 y: 2546\n",
      "49 overlaps 64: 0.34885050292298386 translation: x: -2 y: 2525\n",
      "49 overlaps 65: 0.07478077274827787 translation: x: 3442 y: 2513\n",
      "50 overlaps 51: 0.37349277985566826 translation: x: 3450 y: -16\n",
      "50 overlaps 64: 0.17078263795675336 translation: x: -3452 y: 2547\n",
      "50 overlaps 65: 0.503821867615149 translation: x: -7 y: 2532\n",
      "50 overlaps 66: 0.12565321851388764 translation: x: 3438 y: 2505\n",
      "51 overlaps 52: 0.28879979246044923 translation: x: 3444 y: -16\n",
      "51 overlaps 65: 0.06870379504476207 translation: x: -3457 y: 2552\n",
      "51 overlaps 66: 0.38587594871096237 translation: x: -6 y: 2525\n",
      "51 overlaps 67: 0.20954894295826085 translation: x: 3420 y: 2511\n",
      "52 overlaps 53: 0.3186352580275707 translation: x: 3451 y: -14\n",
      "52 overlaps 66: 0.2438340278141359 translation: x: -3451 y: 2545\n",
      "52 overlaps 67: 0.36002081715309003 translation: x: -7 y: 2532\n",
      "52 overlaps 68: 0.34032863630937127 translation: x: 3437 y: 2513\n",
      "53 overlaps 54: 0.7624918520932015 translation: x: 3453 y: -17\n",
      "53 overlaps 67: 0.2686298351268112 translation: x: -3444 y: 2535\n",
      "53 overlaps 68: 0.39059101342753416 translation: x: -8 y: 2532\n",
      "53 overlaps 69: 0.3569877563817043 translation: x: 3427 y: 2512\n",
      "54 overlaps 55: 0.34529456293129807 translation: x: 3445 y: -24\n",
      "54 overlaps 68: 0.4015217622302441 translation: x: -3456 y: 2543\n",
      "54 overlaps 69: 0.371030446160936 translation: x: -18 y: 2531\n",
      "54 overlaps 70: 0.2615854818901071 translation: x: 3438 y: 2514\n",
      "55 overlaps 56: 0.25337065531160036 translation: x: 3442 y: -12\n",
      "#\n",
      "# A fatal error has been detected by the Java Runtime Environment:\n",
      "#\n",
      "#  SIGSEGV (0xb) at pc=0x00007f4d4fe326e7, pid=51300, tid=0x00007f4d348a9700\n",
      "#\n",
      "# JRE version: Java(TM) SE Runtime Environment (8.0_172-b11) (build 1.8.0_172-b11)\n",
      "# Java VM: Java HotSpot(TM) 64-Bit Server VM (25.172-b11 mixed mode linux-amd64 compressed oops)\n",
      "# Problematic frame:\n",
      "# V  [libjvm.so+0x8cb6e7]  MethodData::clean_method_data(BoolObjectClosure*)+0x17\n",
      "#\n",
      "# Failed to write core dump. Core dumps have been disabled. To enable core dumping, try \"ulimit -c unlimited\" before starting Java again\n",
      "#\n",
      "# An error report file with more information is saved as:\n",
      "# /home/ipausers/kahane/Wks/AMFtrack/amftrack/notebooks/felix/Onboarding/hs_err_pid51300.log\n",
      "#\n",
      "# If you would like to submit a bug report, please visit:\n",
      "#   http://bugreport.java.com/bugreport/crash.jsp\n",
      "#\n"
     ]
    }
   ],
   "source": [
    "run_stitch(directory,folders)"
   ]
  },
  {
   "cell_type": "markdown",
   "id": "34dd530b",
   "metadata": {},
   "source": [
    "***Compress the image and skeletonize***\n",
    "\n",
    "should take 1h30-2h"
   ]
  },
  {
   "cell_type": "code",
   "execution_count": 52,
   "id": "05663b45",
   "metadata": {
    "tags": []
   },
   "outputs": [
    {
     "data": {
      "application/vnd.jupyter.widget-view+json": {
       "model_id": "a9ed535692034b4c8ef573728b1b4ce1",
       "version_major": 2,
       "version_minor": 0
      },
      "text/plain": [
       "stitched:   0%|          | 0/1 [00:00<?, ?it/s]"
      ]
     },
     "metadata": {},
     "output_type": "display_data"
    },
    {
     "name": "stdout",
     "output_type": "stream",
     "text": [
      "python3 /home/ipausers/kahane/Wks/AMFtrack/amftrack/pipeline/scripts/image_processing/compress_image.py /data/felix/width1/full_plates/ 1649858320635968717 0\n"
     ]
    },
    {
     "name": "stderr",
     "output_type": "stream",
     "text": [
      "Traceback (most recent call last):\n",
      "  File \"/home/ipausers/kahane/Wks/AMFtrack/amftrack/pipeline/scripts/image_processing/compress_image.py\", line 20, in <module>\n",
      "    run_info = pd.read_json(f\"{directory_scratch}temp/{op_id}.json\")\n",
      "  File \"/home/ipausers/kahane/.local/lib/python3.8/site-packages/pandas/util/_decorators.py\", line 207, in wrapper\n",
      "    return func(*args, **kwargs)\n",
      "  File \"/home/ipausers/kahane/.local/lib/python3.8/site-packages/pandas/util/_decorators.py\", line 311, in wrapper\n",
      "    return func(*args, **kwargs)\n",
      "  File \"/home/ipausers/kahane/.local/lib/python3.8/site-packages/pandas/io/json/_json.py\", line 612, in read_json\n",
      "    return json_reader.read()\n",
      "  File \"/home/ipausers/kahane/.local/lib/python3.8/site-packages/pandas/io/json/_json.py\", line 746, in read\n",
      "    obj = self._get_object_parser(self.data)\n",
      "  File \"/home/ipausers/kahane/.local/lib/python3.8/site-packages/pandas/io/json/_json.py\", line 768, in _get_object_parser\n",
      "    obj = FrameParser(json, **kwargs).parse()\n",
      "  File \"/home/ipausers/kahane/.local/lib/python3.8/site-packages/pandas/io/json/_json.py\", line 880, in parse\n",
      "    self._parse_no_numpy()\n",
      "  File \"/home/ipausers/kahane/.local/lib/python3.8/site-packages/pandas/io/json/_json.py\", line 1133, in _parse_no_numpy\n",
      "    loads(json, precise_float=self.precise_float), dtype=None\n",
      "ValueError: Expected object or value\n"
     ]
    }
   ],
   "source": [
    "args = [directory]\n",
    "run_parallel('compress_image.py',args, folders)"
   ]
  },
  {
   "cell_type": "code",
   "execution_count": null,
   "id": "c09f714e",
   "metadata": {
    "tags": []
   },
   "outputs": [],
   "source": [
    "time = '3:00:00'\n",
    "low = 30\n",
    "high = 80\n",
    "extend = 30\n",
    "args=[low, high, extend,directory]\n",
    "run_parallel('extract_skel.py',args,folders)"
   ]
  },
  {
   "cell_type": "markdown",
   "id": "ed0fbb66",
   "metadata": {},
   "source": [
    "## Visualisation"
   ]
  },
  {
   "cell_type": "markdown",
   "id": "245299db",
   "metadata": {},
   "source": [
    "***Visualise the skeletonization***"
   ]
  },
  {
   "cell_type": "raw",
   "id": "75b55e22",
   "metadata": {},
   "source": [
    "%matplotlib inline\n",
    "import mpld3\n",
    "mpld3.enable_notebook()"
   ]
  },
  {
   "cell_type": "code",
   "execution_count": null,
   "id": "73622c4f",
   "metadata": {},
   "outputs": [],
   "source": [
    "select = folders\n",
    "folder_list = list(select['total_path'])\n",
    "folder_list.sort()\n",
    "skels = []\n",
    "ims = []\n",
    "kernel = np.ones((5,5),np.uint8)\n",
    "itera = 1\n",
    "start = 0\n",
    "\n",
    "finish = start+2\n",
    "for folder in folder_list[start:finish]:\n",
    "    path_snap=folder\n",
    "    skel_info = read_mat(path_snap+'/Analysis/skeleton_compressed.mat')\n",
    "    skel = skel_info['skeleton']\n",
    "    skels.append(cv2.dilate(skel.astype(np.uint8),kernel,iterations = itera))\n",
    "    im = read_mat(path_snap+'/Analysis/raw_image.mat')['raw']\n",
    "    ims.append(im)"
   ]
  },
  {
   "cell_type": "code",
   "execution_count": null,
   "id": "39301668",
   "metadata": {
    "tags": []
   },
   "outputs": [],
   "source": [
    "plt.close('all')\n",
    "start = 0\n",
    "finish = start + 1\n",
    "for i in range(start,finish):\n",
    "    plot_t_tp1([], [], None, None, skels[i], ims[i])"
   ]
  },
  {
   "cell_type": "markdown",
   "id": "f0a995b6",
   "metadata": {},
   "source": [
    "***These steps may be a bit long, but it also helps just keeping things consistent and use one single framework,*** you may bypass them by artificially renaming skeleton.mat into skeleton_realigned.mat which is necessary for the next step because you probably don't care about these two steps since you're doing only one image..."
   ]
  },
  {
   "cell_type": "code",
   "execution_count": null,
   "id": "201c8a21",
   "metadata": {},
   "outputs": [],
   "source": [
    "time = '2:00'\n",
    "thresh = 50\n",
    "args=[thresh, directory]\n",
    "run_parallel('mask_skel.py',args,folders)"
   ]
  },
  {
   "cell_type": "code",
   "execution_count": null,
   "id": "89533e87",
   "metadata": {},
   "outputs": [],
   "source": [
    "time = '3:00:00'\n",
    "threshold = 0.1\n",
    "args = [threshold, directory]\n",
    "run_parallel('prune_skel.py',args,folders)"
   ]
  },
  {
   "cell_type": "code",
   "execution_count": null,
   "id": "97ab6de0",
   "metadata": {},
   "outputs": [],
   "source": [
    "plates = list(set(list(folders['Plate'].values)))\n",
    "for plate in plates:\n",
    "    time = '2:00:00'\n",
    "    args = [directory]\n",
    "    run_parallel('realign.py', args, folders)"
   ]
  },
  {
   "cell_type": "markdown",
   "id": "25d7079b",
   "metadata": {},
   "source": [
    "Now you're finally getting to the point where you generate the graph object"
   ]
  },
  {
   "cell_type": "code",
   "execution_count": null,
   "id": "629feb71",
   "metadata": {},
   "outputs": [],
   "source": [
    "time = '2:00:00'\n",
    "args=[directory]\n",
    "run_parallel('extract_nx_graph.py',args, folders)"
   ]
  },
  {
   "cell_type": "markdown",
   "id": "3e6260ed",
   "metadata": {},
   "source": [
    "***and now you have the Experiment object to play with and query images related to position of edges etc...***\n"
   ]
  },
  {
   "cell_type": "code",
   "execution_count": null,
   "id": "69e5c4cd",
   "metadata": {},
   "outputs": [],
   "source": [
    "run_info = folders\n",
    "plate = int(list(run_info['folder'])[i].split('_')[-1][5:])\n",
    "folder_list = list(run_info['folder'])\n",
    "directory_name = folder_list[i]\n",
    "exp = Experiment(plate,directory)\n",
    "exp.load(run_info.loc[run_info['folder']==directory_name],labeled=False)\n",
    "path_snap = directory + directory_name\n",
    "(G, pos) = exp.nx_graph[0],exp.positions[0]"
   ]
  },
  {
   "cell_type": "code",
   "execution_count": null,
   "id": "91ea1719",
   "metadata": {},
   "outputs": [],
   "source": [
    "from random import choice\n",
    "edge = choice(list(G.edges))"
   ]
  },
  {
   "cell_type": "code",
   "execution_count": null,
   "id": "9969797d",
   "metadata": {},
   "outputs": [],
   "source": [
    "edge_exp = Edge(Node(edge[0],exp),Node(edge[1],exp),exp)"
   ]
  },
  {
   "cell_type": "markdown",
   "id": "e52bedfd",
   "metadata": {},
   "source": [
    "***Visualiser l'image correspondant à l'edge*** "
   ]
  },
  {
   "cell_type": "raw",
   "id": "af687743",
   "metadata": {},
   "source": [
    "edge_exp.begin.show_source_image(0,0)\n",
    "edge_exp.end.show_source_image(0,0)"
   ]
  },
  {
   "cell_type": "markdown",
   "id": "37046fea",
   "metadata": {},
   "source": [
    "***Visualiser tout le réseau avec l'edge idniqué dessus***"
   ]
  },
  {
   "cell_type": "raw",
   "id": "eaf1e627",
   "metadata": {},
   "source": [
    "plot_raw_plus(exp,0,[edge_exp.begin.label,edge_exp.end.label])"
   ]
  },
  {
   "cell_type": "markdown",
   "id": "54f5e218",
   "metadata": {},
   "source": [
    "## Brouillon"
   ]
  },
  {
   "cell_type": "code",
   "execution_count": null,
   "id": "64bc1358",
   "metadata": {},
   "outputs": [],
   "source": [
    "exp"
   ]
  },
  {
   "cell_type": "code",
   "execution_count": null,
   "id": "223b70b7",
   "metadata": {},
   "outputs": [],
   "source": [
    "dir(exp)"
   ]
  },
  {
   "cell_type": "code",
   "execution_count": null,
   "id": "b0a01d0a",
   "metadata": {},
   "outputs": [],
   "source": []
  }
 ],
 "metadata": {
  "kernelspec": {
   "display_name": "Python 3 (ipykernel)",
   "language": "python",
   "name": "python3"
  },
  "language_info": {
   "codemirror_mode": {
    "name": "ipython",
    "version": 3
   },
   "file_extension": ".py",
   "mimetype": "text/x-python",
   "name": "python",
   "nbconvert_exporter": "python",
   "pygments_lexer": "ipython3",
   "version": "3.8.10"
  }
 },
 "nbformat": 4,
 "nbformat_minor": 5
}

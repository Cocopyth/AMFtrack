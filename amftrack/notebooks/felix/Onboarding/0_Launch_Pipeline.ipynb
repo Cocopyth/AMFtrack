{
    "cells": [{
            "cell_type": "markdown",
            "id": "93cd0696",
            "metadata": {},
            "source": [
                "# Exemple d'extraction de graphe"
            ]
        },
        {
            "cell_type": "markdown",
            "id": "e18c9e94",
            "metadata": {},
            "source": [
                "## Setup"
            ]
        },
        {
            "cell_type": "markdown",
            "id": "e84ac98f",
            "metadata": {},
            "source": [
                "***Load modules*** \n",
                "This will require amtrack repo in the right path I use environment variables but feel free to do something better.\n",
                "Normally all the required packages are indicated, if some are missing, please add them.\n",
                "If you also want to create a \"freeze\" or a poetry thing to have an easier installation of the environment please do so.\n"
            ]
        },
        {
            "cell_type": "raw",
            "id": "970d43f2",
            "metadata": {
                "vscode": {
                    "languageId": "json"
                }
            },
            "source": [
                "%matplotlib inline\n",
                "import mpld3\n",
                "mpld3.enable_notebook()"
            ]
        },
        {
            "cell_type": "code",
            "execution_count": 1,
            "id": "e6b39fb2",
            "metadata": {
                "scrolled": true
            },
            "outputs": [{
                "name": "stderr",
                "output_type": "stream",
                "text": [
                    "/home/ipausers/kahane/Wks/AMFtrack/amftrack/util/dbx.py:1: TqdmExperimentalWarning: Using `tqdm.autonotebook.tqdm` in notebook mode. Use `tqdm.tqdm` instead to force console mode (e.g. in jupyter console)\n",
                    "  from tqdm.autonotebook import tqdm\n"
                ]
            }],
            "source": [
                "%load_ext autoreload\n",
                "%autoreload 2\n",
                "import os\n",
                "import sys\n",
                "import pandas as pd\n",
                "from amftrack.util.sys import get_dates_datetime, get_dirname, temp_path, get_data_info, update_plate_info, \\\n",
                "get_current_folders, get_folders_by_plate_id, fiji_path, path_code, update_plate_info_local, get_current_folders_local\n",
                "import ast\n",
                "from amftrack.plotutil import plot_t_tp1\n",
                "from scipy import sparse\n",
                "from datetime import datetime\n",
                "import pickle\n",
                "import scipy.io as sio\n",
                "from pymatreader import read_mat\n",
                "from matplotlib import colors\n",
                "import cv2\n",
                "import imageio\n",
                "import matplotlib.pyplot as plt\n",
                "import numpy as np\n",
                "from skimage.filters import frangi\n",
                "from skimage import filters\n",
                "from random import choice\n",
                "import scipy.sparse\n",
                "import os\n",
                "from amftrack.pipeline.functions.image_processing.extract_graph import (\n",
                "    from_sparse_to_graph,\n",
                "    generate_nx_graph,\n",
                "    sparse_to_doc,\n",
                ")\n",
                "from skimage.feature import hessian_matrix_det\n",
                "from amftrack.pipeline.functions.image_processing.experiment_class_surf import Experiment, Edge,Node, plot_raw_plus\n",
                "from amftrack.pipeline.launching.run_super import run_parallel_transfer, find_state, directory_scratch, directory_project, directory_archive\n",
                "import dropbox\n",
                "from amftrack.util.dbx import upload, zip_file\n",
                "from subprocess import call\n",
                "from tqdm.autonotebook import tqdm\n",
                "from time import time_ns\n",
                "import subprocess\n",
                "import matplotlib as mpl\n",
                "from amftrack.util.sys import temp_path, storage_path"
            ]
        },
        {
            "cell_type": "markdown",
            "id": "4a7e3bb0",
            "metadata": {},
            "source": [
                "***choose the path of interest***\n",
                "I mounted sun on my linux computer at AMOLF. Please feel free to do so on yours as well. I can send you the command. \n",
                "Otherwise, if you have the folders locally, just indicate the path.\n",
                "Finally you can also simply ssh to my computer and run things from there."
            ]
        },
        {
            "cell_type": "code",
            "execution_count": 2,
            "id": "c9495858",
            "metadata": {
                "tags": []
            },
            "outputs": [],
            "source": [
                "directory = os.path.join(storage_path, \"plate1050\")"
            ]
        },
        {
            "cell_type": "code",
            "execution_count": 3,
            "id": "44a5dd1d",
            "metadata": {
                "tags": []
            },
            "outputs": [],
            "source": [
                "update_plate_info_local(directory)"
            ]
        },
        {
            "cell_type": "code",
            "execution_count": 4,
            "id": "ce7f2ff9",
            "metadata": {
                "tags": []
            },
            "outputs": [],
            "source": [
                "folder_df = get_current_folders_local(directory)"
            ]
        },
        {
            "cell_type": "code",
            "execution_count": 5,
            "id": "cd905763",
            "metadata": {
                "tags": []
            },
            "outputs": [{
                "data": {
                    "text/plain": [
                        "8"
                    ]
                },
                "execution_count": 5,
                "metadata": {},
                "output_type": "execute_result"
            }],
            "source": [
                "len(folder_df)"
            ]
        },
        {
            "cell_type": "markdown",
            "id": "3d7dbe31",
            "metadata": {},
            "source": [
                "***Choose the folder you're interested in***"
            ]
        },
        {
            "cell_type": "code",
            "execution_count": 6,
            "id": "c40be3fd",
            "metadata": {
                "scrolled": true
            },
            "outputs": [{
                "data": {
                    "text/html": [
                        "<div>\n",
                        "<style scoped>\n",
                        "    .dataframe tbody tr th:only-of-type {\n",
                        "        vertical-align: middle;\n",
                        "    }\n",
                        "\n",
                        "    .dataframe tbody tr th {\n",
                        "        vertical-align: top;\n",
                        "    }\n",
                        "\n",
                        "    .dataframe thead th {\n",
                        "        text-align: right;\n",
                        "    }\n",
                        "</style>\n",
                        "<table border=\"1\" class=\"dataframe\">\n",
                        "  <thead>\n",
                        "    <tr style=\"text-align: right;\">\n",
                        "      <th></th>\n",
                        "      <th>total_path</th>\n",
                        "      <th>Plate</th>\n",
                        "      <th>PrincePos</th>\n",
                        "      <th>root</th>\n",
                        "      <th>strain</th>\n",
                        "      <th>medium</th>\n",
                        "      <th>split</th>\n",
                        "      <th>Pbait</th>\n",
                        "      <th>CrossDate</th>\n",
                        "      <th>Temperature</th>\n",
                        "      <th>...</th>\n",
                        "      <th>/Analysis/skeleton_masked_compressed.mat</th>\n",
                        "      <th>/Analysis/skeleton_pruned_compressed.mat</th>\n",
                        "      <th>/Analysis/transform.mat</th>\n",
                        "      <th>/Analysis/transform_corrupt.mat</th>\n",
                        "      <th>/Analysis/skeleton_realigned_compressed.mat</th>\n",
                        "      <th>/Analysis/nx_graph_pruned.p</th>\n",
                        "      <th>/Analysis/nx_graph_pruned_width.p</th>\n",
                        "      <th>/Analysis/nx_graph_pruned_labeled.p</th>\n",
                        "      <th>date</th>\n",
                        "      <th>folder</th>\n",
                        "    </tr>\n",
                        "  </thead>\n",
                        "  <tbody>\n",
                        "    <tr>\n",
                        "      <th>11</th>\n",
                        "      <td>/media/kahane/AMFtopology02/storage/plate1050/...</td>\n",
                        "      <td>1050</td>\n",
                        "      <td>18</td>\n",
                        "      <td>'Carrot'</td>\n",
                        "      <td>'C2'</td>\n",
                        "      <td>'001P100N100C'</td>\n",
                        "      <td>'Y'</td>\n",
                        "      <td>'-'</td>\n",
                        "      <td>20220509</td>\n",
                        "      <td>25</td>\n",
                        "      <td>...</td>\n",
                        "      <td>False</td>\n",
                        "      <td>False</td>\n",
                        "      <td>False</td>\n",
                        "      <td>False</td>\n",
                        "      <td>False</td>\n",
                        "      <td>False</td>\n",
                        "      <td>False</td>\n",
                        "      <td>False</td>\n",
                        "      <td>12.05.2022, 18:33:</td>\n",
                        "      <td>20220512_1833_Plate18</td>\n",
                        "    </tr>\n",
                        "    <tr>\n",
                        "      <th>12</th>\n",
                        "      <td>/media/kahane/AMFtopology02/storage/plate1050/...</td>\n",
                        "      <td>1050</td>\n",
                        "      <td>18</td>\n",
                        "      <td>'Carrot'</td>\n",
                        "      <td>'C2'</td>\n",
                        "      <td>'001P100N100C'</td>\n",
                        "      <td>'Y'</td>\n",
                        "      <td>'-'</td>\n",
                        "      <td>20220509</td>\n",
                        "      <td>25</td>\n",
                        "      <td>...</td>\n",
                        "      <td>False</td>\n",
                        "      <td>False</td>\n",
                        "      <td>False</td>\n",
                        "      <td>False</td>\n",
                        "      <td>False</td>\n",
                        "      <td>False</td>\n",
                        "      <td>False</td>\n",
                        "      <td>False</td>\n",
                        "      <td>12.05.2022, 20:36:</td>\n",
                        "      <td>20220512_2036_Plate18</td>\n",
                        "    </tr>\n",
                        "    <tr>\n",
                        "      <th>13</th>\n",
                        "      <td>/media/kahane/AMFtopology02/storage/plate1050/...</td>\n",
                        "      <td>1050</td>\n",
                        "      <td>18</td>\n",
                        "      <td>'Carrot'</td>\n",
                        "      <td>'C2'</td>\n",
                        "      <td>'001P100N100C'</td>\n",
                        "      <td>'Y'</td>\n",
                        "      <td>'-'</td>\n",
                        "      <td>20220509</td>\n",
                        "      <td>25</td>\n",
                        "      <td>...</td>\n",
                        "      <td>False</td>\n",
                        "      <td>False</td>\n",
                        "      <td>False</td>\n",
                        "      <td>False</td>\n",
                        "      <td>False</td>\n",
                        "      <td>False</td>\n",
                        "      <td>False</td>\n",
                        "      <td>False</td>\n",
                        "      <td>12.05.2022, 22:36:</td>\n",
                        "      <td>20220512_2236_Plate18</td>\n",
                        "    </tr>\n",
                        "    <tr>\n",
                        "      <th>14</th>\n",
                        "      <td>/media/kahane/AMFtopology02/storage/plate1050/...</td>\n",
                        "      <td>1050</td>\n",
                        "      <td>18</td>\n",
                        "      <td>'Carrot'</td>\n",
                        "      <td>'C2'</td>\n",
                        "      <td>'001P100N100C'</td>\n",
                        "      <td>'Y'</td>\n",
                        "      <td>'-'</td>\n",
                        "      <td>20220509</td>\n",
                        "      <td>25</td>\n",
                        "      <td>...</td>\n",
                        "      <td>False</td>\n",
                        "      <td>False</td>\n",
                        "      <td>False</td>\n",
                        "      <td>False</td>\n",
                        "      <td>False</td>\n",
                        "      <td>False</td>\n",
                        "      <td>False</td>\n",
                        "      <td>False</td>\n",
                        "      <td>13.05.2022, 00:36:</td>\n",
                        "      <td>20220513_0036_Plate18</td>\n",
                        "    </tr>\n",
                        "    <tr>\n",
                        "      <th>15</th>\n",
                        "      <td>/media/kahane/AMFtopology02/storage/plate1050/...</td>\n",
                        "      <td>1050</td>\n",
                        "      <td>18</td>\n",
                        "      <td>'Carrot'</td>\n",
                        "      <td>'C2'</td>\n",
                        "      <td>'001P100N100C'</td>\n",
                        "      <td>'Y'</td>\n",
                        "      <td>'-'</td>\n",
                        "      <td>20220509</td>\n",
                        "      <td>25</td>\n",
                        "      <td>...</td>\n",
                        "      <td>False</td>\n",
                        "      <td>False</td>\n",
                        "      <td>False</td>\n",
                        "      <td>False</td>\n",
                        "      <td>False</td>\n",
                        "      <td>False</td>\n",
                        "      <td>False</td>\n",
                        "      <td>False</td>\n",
                        "      <td>13.05.2022, 02:36:</td>\n",
                        "      <td>20220513_0236_Plate18</td>\n",
                        "    </tr>\n",
                        "    <tr>\n",
                        "      <th>16</th>\n",
                        "      <td>/media/kahane/AMFtopology02/storage/plate1050/...</td>\n",
                        "      <td>1050</td>\n",
                        "      <td>18</td>\n",
                        "      <td>'Carrot'</td>\n",
                        "      <td>'C2'</td>\n",
                        "      <td>'001P100N100C'</td>\n",
                        "      <td>'Y'</td>\n",
                        "      <td>'-'</td>\n",
                        "      <td>20220509</td>\n",
                        "      <td>25</td>\n",
                        "      <td>...</td>\n",
                        "      <td>False</td>\n",
                        "      <td>False</td>\n",
                        "      <td>False</td>\n",
                        "      <td>False</td>\n",
                        "      <td>False</td>\n",
                        "      <td>False</td>\n",
                        "      <td>False</td>\n",
                        "      <td>False</td>\n",
                        "      <td>13.05.2022, 04:36:</td>\n",
                        "      <td>20220513_0436_Plate18</td>\n",
                        "    </tr>\n",
                        "    <tr>\n",
                        "      <th>17</th>\n",
                        "      <td>/media/kahane/AMFtopology02/storage/plate1050/...</td>\n",
                        "      <td>1050</td>\n",
                        "      <td>18</td>\n",
                        "      <td>'Carrot'</td>\n",
                        "      <td>'C2'</td>\n",
                        "      <td>'001P100N100C'</td>\n",
                        "      <td>'Y'</td>\n",
                        "      <td>'-'</td>\n",
                        "      <td>20220509</td>\n",
                        "      <td>25</td>\n",
                        "      <td>...</td>\n",
                        "      <td>False</td>\n",
                        "      <td>False</td>\n",
                        "      <td>False</td>\n",
                        "      <td>False</td>\n",
                        "      <td>False</td>\n",
                        "      <td>False</td>\n",
                        "      <td>False</td>\n",
                        "      <td>False</td>\n",
                        "      <td>13.05.2022, 06:36:</td>\n",
                        "      <td>20220513_0636_Plate18</td>\n",
                        "    </tr>\n",
                        "    <tr>\n",
                        "      <th>18</th>\n",
                        "      <td>/media/kahane/AMFtopology02/storage/plate1050/...</td>\n",
                        "      <td>1050</td>\n",
                        "      <td>18</td>\n",
                        "      <td>'Carrot'</td>\n",
                        "      <td>'C2'</td>\n",
                        "      <td>'001P100N100C'</td>\n",
                        "      <td>'Y'</td>\n",
                        "      <td>'-'</td>\n",
                        "      <td>20220509</td>\n",
                        "      <td>25</td>\n",
                        "      <td>...</td>\n",
                        "      <td>False</td>\n",
                        "      <td>False</td>\n",
                        "      <td>False</td>\n",
                        "      <td>False</td>\n",
                        "      <td>False</td>\n",
                        "      <td>False</td>\n",
                        "      <td>False</td>\n",
                        "      <td>False</td>\n",
                        "      <td>13.05.2022, 08:39:</td>\n",
                        "      <td>20220513_0839_Plate18</td>\n",
                        "    </tr>\n",
                        "  </tbody>\n",
                        "</table>\n",
                        "<p>8 rows × 22 columns</p>\n",
                        "</div>"
                    ],
                    "text/plain": [
                        "                                           total_path Plate PrincePos  \\\n",
                        "11  /media/kahane/AMFtopology02/storage/plate1050/...  1050        18   \n",
                        "12  /media/kahane/AMFtopology02/storage/plate1050/...  1050        18   \n",
                        "13  /media/kahane/AMFtopology02/storage/plate1050/...  1050        18   \n",
                        "14  /media/kahane/AMFtopology02/storage/plate1050/...  1050        18   \n",
                        "15  /media/kahane/AMFtopology02/storage/plate1050/...  1050        18   \n",
                        "16  /media/kahane/AMFtopology02/storage/plate1050/...  1050        18   \n",
                        "17  /media/kahane/AMFtopology02/storage/plate1050/...  1050        18   \n",
                        "18  /media/kahane/AMFtopology02/storage/plate1050/...  1050        18   \n",
                        "\n",
                        "        root strain          medium split Pbait CrossDate Temperature  ...  \\\n",
                        "11  'Carrot'   'C2'  '001P100N100C'   'Y'   '-'  20220509          25  ...   \n",
                        "12  'Carrot'   'C2'  '001P100N100C'   'Y'   '-'  20220509          25  ...   \n",
                        "13  'Carrot'   'C2'  '001P100N100C'   'Y'   '-'  20220509          25  ...   \n",
                        "14  'Carrot'   'C2'  '001P100N100C'   'Y'   '-'  20220509          25  ...   \n",
                        "15  'Carrot'   'C2'  '001P100N100C'   'Y'   '-'  20220509          25  ...   \n",
                        "16  'Carrot'   'C2'  '001P100N100C'   'Y'   '-'  20220509          25  ...   \n",
                        "17  'Carrot'   'C2'  '001P100N100C'   'Y'   '-'  20220509          25  ...   \n",
                        "18  'Carrot'   'C2'  '001P100N100C'   'Y'   '-'  20220509          25  ...   \n",
                        "\n",
                        "   /Analysis/skeleton_masked_compressed.mat  \\\n",
                        "11                                    False   \n",
                        "12                                    False   \n",
                        "13                                    False   \n",
                        "14                                    False   \n",
                        "15                                    False   \n",
                        "16                                    False   \n",
                        "17                                    False   \n",
                        "18                                    False   \n",
                        "\n",
                        "   /Analysis/skeleton_pruned_compressed.mat /Analysis/transform.mat  \\\n",
                        "11                                    False                   False   \n",
                        "12                                    False                   False   \n",
                        "13                                    False                   False   \n",
                        "14                                    False                   False   \n",
                        "15                                    False                   False   \n",
                        "16                                    False                   False   \n",
                        "17                                    False                   False   \n",
                        "18                                    False                   False   \n",
                        "\n",
                        "   /Analysis/transform_corrupt.mat  \\\n",
                        "11                           False   \n",
                        "12                           False   \n",
                        "13                           False   \n",
                        "14                           False   \n",
                        "15                           False   \n",
                        "16                           False   \n",
                        "17                           False   \n",
                        "18                           False   \n",
                        "\n",
                        "   /Analysis/skeleton_realigned_compressed.mat /Analysis/nx_graph_pruned.p  \\\n",
                        "11                                       False                       False   \n",
                        "12                                       False                       False   \n",
                        "13                                       False                       False   \n",
                        "14                                       False                       False   \n",
                        "15                                       False                       False   \n",
                        "16                                       False                       False   \n",
                        "17                                       False                       False   \n",
                        "18                                       False                       False   \n",
                        "\n",
                        "   /Analysis/nx_graph_pruned_width.p /Analysis/nx_graph_pruned_labeled.p  \\\n",
                        "11                             False                               False   \n",
                        "12                             False                               False   \n",
                        "13                             False                               False   \n",
                        "14                             False                               False   \n",
                        "15                             False                               False   \n",
                        "16                             False                               False   \n",
                        "17                             False                               False   \n",
                        "18                             False                               False   \n",
                        "\n",
                        "                  date                 folder  \n",
                        "11  12.05.2022, 18:33:  20220512_1833_Plate18  \n",
                        "12  12.05.2022, 20:36:  20220512_2036_Plate18  \n",
                        "13  12.05.2022, 22:36:  20220512_2236_Plate18  \n",
                        "14  13.05.2022, 00:36:  20220513_0036_Plate18  \n",
                        "15  13.05.2022, 02:36:  20220513_0236_Plate18  \n",
                        "16  13.05.2022, 04:36:  20220513_0436_Plate18  \n",
                        "17  13.05.2022, 06:36:  20220513_0636_Plate18  \n",
                        "18  13.05.2022, 08:39:  20220513_0839_Plate18  \n",
                        "\n",
                        "[8 rows x 22 columns]"
                    ]
                },
                "execution_count": 6,
                "metadata": {},
                "output_type": "execute_result"
            }],
            "source": [
                "folder_df"
            ]
        },
        {
            "cell_type": "code",
            "execution_count": 7,
            "id": "9edf10f8",
            "metadata": {
                "vscode": {
                    "languageId": "json"
                }
            },
            "outputs": [{
                "data": {
                    "text/plain": [
                        "'/media/kahane/AMFtopology02/storage/plate1050/20220512_2036_Plate18'"
                    ]
                },
                "execution_count": 7,
                "metadata": {},
                "output_type": "execute_result"
            }],
            "source": [
                "str(folder_df[\"total_path\"].iloc[1])"
            ]
        },
        {
            "cell_type": "code",
            "execution_count": 10,
            "id": "5a2a1c83",
            "metadata": {},
            "outputs": [],
            "source": [
                "folders = folder_df.loc[folder_df['Plate']==\"1050\"]"
            ]
        },
        {
            "cell_type": "code",
            "execution_count": 11,
            "id": "1b19102f",
            "metadata": {
                "scrolled": true
            },
            "outputs": [{
                "data": {
                    "text/html": [
                        "<div>\n",
                        "<style scoped>\n",
                        "    .dataframe tbody tr th:only-of-type {\n",
                        "        vertical-align: middle;\n",
                        "    }\n",
                        "\n",
                        "    .dataframe tbody tr th {\n",
                        "        vertical-align: top;\n",
                        "    }\n",
                        "\n",
                        "    .dataframe thead th {\n",
                        "        text-align: right;\n",
                        "    }\n",
                        "</style>\n",
                        "<table border=\"1\" class=\"dataframe\">\n",
                        "  <thead>\n",
                        "    <tr style=\"text-align: right;\">\n",
                        "      <th></th>\n",
                        "      <th>total_path</th>\n",
                        "      <th>Plate</th>\n",
                        "      <th>PrincePos</th>\n",
                        "      <th>root</th>\n",
                        "      <th>strain</th>\n",
                        "      <th>medium</th>\n",
                        "      <th>split</th>\n",
                        "      <th>Pbait</th>\n",
                        "      <th>CrossDate</th>\n",
                        "      <th>Temperature</th>\n",
                        "      <th>...</th>\n",
                        "      <th>/Analysis/skeleton_masked_compressed.mat</th>\n",
                        "      <th>/Analysis/skeleton_pruned_compressed.mat</th>\n",
                        "      <th>/Analysis/transform.mat</th>\n",
                        "      <th>/Analysis/transform_corrupt.mat</th>\n",
                        "      <th>/Analysis/skeleton_realigned_compressed.mat</th>\n",
                        "      <th>/Analysis/nx_graph_pruned.p</th>\n",
                        "      <th>/Analysis/nx_graph_pruned_width.p</th>\n",
                        "      <th>/Analysis/nx_graph_pruned_labeled.p</th>\n",
                        "      <th>date</th>\n",
                        "      <th>folder</th>\n",
                        "    </tr>\n",
                        "  </thead>\n",
                        "  <tbody>\n",
                        "    <tr>\n",
                        "      <th>11</th>\n",
                        "      <td>/media/kahane/AMFtopology02/storage/plate1050/...</td>\n",
                        "      <td>1050</td>\n",
                        "      <td>18</td>\n",
                        "      <td>'Carrot'</td>\n",
                        "      <td>'C2'</td>\n",
                        "      <td>'001P100N100C'</td>\n",
                        "      <td>'Y'</td>\n",
                        "      <td>'-'</td>\n",
                        "      <td>20220509</td>\n",
                        "      <td>25</td>\n",
                        "      <td>...</td>\n",
                        "      <td>False</td>\n",
                        "      <td>False</td>\n",
                        "      <td>False</td>\n",
                        "      <td>False</td>\n",
                        "      <td>False</td>\n",
                        "      <td>False</td>\n",
                        "      <td>False</td>\n",
                        "      <td>False</td>\n",
                        "      <td>12.05.2022, 18:33:</td>\n",
                        "      <td>20220512_1833_Plate18</td>\n",
                        "    </tr>\n",
                        "    <tr>\n",
                        "      <th>12</th>\n",
                        "      <td>/media/kahane/AMFtopology02/storage/plate1050/...</td>\n",
                        "      <td>1050</td>\n",
                        "      <td>18</td>\n",
                        "      <td>'Carrot'</td>\n",
                        "      <td>'C2'</td>\n",
                        "      <td>'001P100N100C'</td>\n",
                        "      <td>'Y'</td>\n",
                        "      <td>'-'</td>\n",
                        "      <td>20220509</td>\n",
                        "      <td>25</td>\n",
                        "      <td>...</td>\n",
                        "      <td>False</td>\n",
                        "      <td>False</td>\n",
                        "      <td>False</td>\n",
                        "      <td>False</td>\n",
                        "      <td>False</td>\n",
                        "      <td>False</td>\n",
                        "      <td>False</td>\n",
                        "      <td>False</td>\n",
                        "      <td>12.05.2022, 20:36:</td>\n",
                        "      <td>20220512_2036_Plate18</td>\n",
                        "    </tr>\n",
                        "    <tr>\n",
                        "      <th>13</th>\n",
                        "      <td>/media/kahane/AMFtopology02/storage/plate1050/...</td>\n",
                        "      <td>1050</td>\n",
                        "      <td>18</td>\n",
                        "      <td>'Carrot'</td>\n",
                        "      <td>'C2'</td>\n",
                        "      <td>'001P100N100C'</td>\n",
                        "      <td>'Y'</td>\n",
                        "      <td>'-'</td>\n",
                        "      <td>20220509</td>\n",
                        "      <td>25</td>\n",
                        "      <td>...</td>\n",
                        "      <td>False</td>\n",
                        "      <td>False</td>\n",
                        "      <td>False</td>\n",
                        "      <td>False</td>\n",
                        "      <td>False</td>\n",
                        "      <td>False</td>\n",
                        "      <td>False</td>\n",
                        "      <td>False</td>\n",
                        "      <td>12.05.2022, 22:36:</td>\n",
                        "      <td>20220512_2236_Plate18</td>\n",
                        "    </tr>\n",
                        "    <tr>\n",
                        "      <th>14</th>\n",
                        "      <td>/media/kahane/AMFtopology02/storage/plate1050/...</td>\n",
                        "      <td>1050</td>\n",
                        "      <td>18</td>\n",
                        "      <td>'Carrot'</td>\n",
                        "      <td>'C2'</td>\n",
                        "      <td>'001P100N100C'</td>\n",
                        "      <td>'Y'</td>\n",
                        "      <td>'-'</td>\n",
                        "      <td>20220509</td>\n",
                        "      <td>25</td>\n",
                        "      <td>...</td>\n",
                        "      <td>False</td>\n",
                        "      <td>False</td>\n",
                        "      <td>False</td>\n",
                        "      <td>False</td>\n",
                        "      <td>False</td>\n",
                        "      <td>False</td>\n",
                        "      <td>False</td>\n",
                        "      <td>False</td>\n",
                        "      <td>13.05.2022, 00:36:</td>\n",
                        "      <td>20220513_0036_Plate18</td>\n",
                        "    </tr>\n",
                        "    <tr>\n",
                        "      <th>15</th>\n",
                        "      <td>/media/kahane/AMFtopology02/storage/plate1050/...</td>\n",
                        "      <td>1050</td>\n",
                        "      <td>18</td>\n",
                        "      <td>'Carrot'</td>\n",
                        "      <td>'C2'</td>\n",
                        "      <td>'001P100N100C'</td>\n",
                        "      <td>'Y'</td>\n",
                        "      <td>'-'</td>\n",
                        "      <td>20220509</td>\n",
                        "      <td>25</td>\n",
                        "      <td>...</td>\n",
                        "      <td>False</td>\n",
                        "      <td>False</td>\n",
                        "      <td>False</td>\n",
                        "      <td>False</td>\n",
                        "      <td>False</td>\n",
                        "      <td>False</td>\n",
                        "      <td>False</td>\n",
                        "      <td>False</td>\n",
                        "      <td>13.05.2022, 02:36:</td>\n",
                        "      <td>20220513_0236_Plate18</td>\n",
                        "    </tr>\n",
                        "    <tr>\n",
                        "      <th>16</th>\n",
                        "      <td>/media/kahane/AMFtopology02/storage/plate1050/...</td>\n",
                        "      <td>1050</td>\n",
                        "      <td>18</td>\n",
                        "      <td>'Carrot'</td>\n",
                        "      <td>'C2'</td>\n",
                        "      <td>'001P100N100C'</td>\n",
                        "      <td>'Y'</td>\n",
                        "      <td>'-'</td>\n",
                        "      <td>20220509</td>\n",
                        "      <td>25</td>\n",
                        "      <td>...</td>\n",
                        "      <td>False</td>\n",
                        "      <td>False</td>\n",
                        "      <td>False</td>\n",
                        "      <td>False</td>\n",
                        "      <td>False</td>\n",
                        "      <td>False</td>\n",
                        "      <td>False</td>\n",
                        "      <td>False</td>\n",
                        "      <td>13.05.2022, 04:36:</td>\n",
                        "      <td>20220513_0436_Plate18</td>\n",
                        "    </tr>\n",
                        "    <tr>\n",
                        "      <th>17</th>\n",
                        "      <td>/media/kahane/AMFtopology02/storage/plate1050/...</td>\n",
                        "      <td>1050</td>\n",
                        "      <td>18</td>\n",
                        "      <td>'Carrot'</td>\n",
                        "      <td>'C2'</td>\n",
                        "      <td>'001P100N100C'</td>\n",
                        "      <td>'Y'</td>\n",
                        "      <td>'-'</td>\n",
                        "      <td>20220509</td>\n",
                        "      <td>25</td>\n",
                        "      <td>...</td>\n",
                        "      <td>False</td>\n",
                        "      <td>False</td>\n",
                        "      <td>False</td>\n",
                        "      <td>False</td>\n",
                        "      <td>False</td>\n",
                        "      <td>False</td>\n",
                        "      <td>False</td>\n",
                        "      <td>False</td>\n",
                        "      <td>13.05.2022, 06:36:</td>\n",
                        "      <td>20220513_0636_Plate18</td>\n",
                        "    </tr>\n",
                        "    <tr>\n",
                        "      <th>18</th>\n",
                        "      <td>/media/kahane/AMFtopology02/storage/plate1050/...</td>\n",
                        "      <td>1050</td>\n",
                        "      <td>18</td>\n",
                        "      <td>'Carrot'</td>\n",
                        "      <td>'C2'</td>\n",
                        "      <td>'001P100N100C'</td>\n",
                        "      <td>'Y'</td>\n",
                        "      <td>'-'</td>\n",
                        "      <td>20220509</td>\n",
                        "      <td>25</td>\n",
                        "      <td>...</td>\n",
                        "      <td>False</td>\n",
                        "      <td>False</td>\n",
                        "      <td>False</td>\n",
                        "      <td>False</td>\n",
                        "      <td>False</td>\n",
                        "      <td>False</td>\n",
                        "      <td>False</td>\n",
                        "      <td>False</td>\n",
                        "      <td>13.05.2022, 08:39:</td>\n",
                        "      <td>20220513_0839_Plate18</td>\n",
                        "    </tr>\n",
                        "  </tbody>\n",
                        "</table>\n",
                        "<p>8 rows × 22 columns</p>\n",
                        "</div>"
                    ],
                    "text/plain": [
                        "                                           total_path Plate PrincePos  \\\n",
                        "11  /media/kahane/AMFtopology02/storage/plate1050/...  1050        18   \n",
                        "12  /media/kahane/AMFtopology02/storage/plate1050/...  1050        18   \n",
                        "13  /media/kahane/AMFtopology02/storage/plate1050/...  1050        18   \n",
                        "14  /media/kahane/AMFtopology02/storage/plate1050/...  1050        18   \n",
                        "15  /media/kahane/AMFtopology02/storage/plate1050/...  1050        18   \n",
                        "16  /media/kahane/AMFtopology02/storage/plate1050/...  1050        18   \n",
                        "17  /media/kahane/AMFtopology02/storage/plate1050/...  1050        18   \n",
                        "18  /media/kahane/AMFtopology02/storage/plate1050/...  1050        18   \n",
                        "\n",
                        "        root strain          medium split Pbait CrossDate Temperature  ...  \\\n",
                        "11  'Carrot'   'C2'  '001P100N100C'   'Y'   '-'  20220509          25  ...   \n",
                        "12  'Carrot'   'C2'  '001P100N100C'   'Y'   '-'  20220509          25  ...   \n",
                        "13  'Carrot'   'C2'  '001P100N100C'   'Y'   '-'  20220509          25  ...   \n",
                        "14  'Carrot'   'C2'  '001P100N100C'   'Y'   '-'  20220509          25  ...   \n",
                        "15  'Carrot'   'C2'  '001P100N100C'   'Y'   '-'  20220509          25  ...   \n",
                        "16  'Carrot'   'C2'  '001P100N100C'   'Y'   '-'  20220509          25  ...   \n",
                        "17  'Carrot'   'C2'  '001P100N100C'   'Y'   '-'  20220509          25  ...   \n",
                        "18  'Carrot'   'C2'  '001P100N100C'   'Y'   '-'  20220509          25  ...   \n",
                        "\n",
                        "   /Analysis/skeleton_masked_compressed.mat  \\\n",
                        "11                                    False   \n",
                        "12                                    False   \n",
                        "13                                    False   \n",
                        "14                                    False   \n",
                        "15                                    False   \n",
                        "16                                    False   \n",
                        "17                                    False   \n",
                        "18                                    False   \n",
                        "\n",
                        "   /Analysis/skeleton_pruned_compressed.mat /Analysis/transform.mat  \\\n",
                        "11                                    False                   False   \n",
                        "12                                    False                   False   \n",
                        "13                                    False                   False   \n",
                        "14                                    False                   False   \n",
                        "15                                    False                   False   \n",
                        "16                                    False                   False   \n",
                        "17                                    False                   False   \n",
                        "18                                    False                   False   \n",
                        "\n",
                        "   /Analysis/transform_corrupt.mat  \\\n",
                        "11                           False   \n",
                        "12                           False   \n",
                        "13                           False   \n",
                        "14                           False   \n",
                        "15                           False   \n",
                        "16                           False   \n",
                        "17                           False   \n",
                        "18                           False   \n",
                        "\n",
                        "   /Analysis/skeleton_realigned_compressed.mat /Analysis/nx_graph_pruned.p  \\\n",
                        "11                                       False                       False   \n",
                        "12                                       False                       False   \n",
                        "13                                       False                       False   \n",
                        "14                                       False                       False   \n",
                        "15                                       False                       False   \n",
                        "16                                       False                       False   \n",
                        "17                                       False                       False   \n",
                        "18                                       False                       False   \n",
                        "\n",
                        "   /Analysis/nx_graph_pruned_width.p /Analysis/nx_graph_pruned_labeled.p  \\\n",
                        "11                             False                               False   \n",
                        "12                             False                               False   \n",
                        "13                             False                               False   \n",
                        "14                             False                               False   \n",
                        "15                             False                               False   \n",
                        "16                             False                               False   \n",
                        "17                             False                               False   \n",
                        "18                             False                               False   \n",
                        "\n",
                        "                  date                 folder  \n",
                        "11  12.05.2022, 18:33:  20220512_1833_Plate18  \n",
                        "12  12.05.2022, 20:36:  20220512_2036_Plate18  \n",
                        "13  12.05.2022, 22:36:  20220512_2236_Plate18  \n",
                        "14  13.05.2022, 00:36:  20220513_0036_Plate18  \n",
                        "15  13.05.2022, 02:36:  20220513_0236_Plate18  \n",
                        "16  13.05.2022, 04:36:  20220513_0436_Plate18  \n",
                        "17  13.05.2022, 06:36:  20220513_0636_Plate18  \n",
                        "18  13.05.2022, 08:39:  20220513_0839_Plate18  \n",
                        "\n",
                        "[8 rows x 22 columns]"
                    ]
                },
                "execution_count": 11,
                "metadata": {},
                "output_type": "execute_result"
            }],
            "source": [
                "folders"
            ]
        },
        {
            "cell_type": "markdown",
            "id": "4cd30812",
            "metadata": {},
            "source": [
                "These are local adaptations of functions for running things on the supercomputer. So better to keep them in the notebook at this stage."
            ]
        },
        {
            "cell_type": "markdown",
            "id": "eab2ad72",
            "metadata": {},
            "source": [
                "## Stiching function"
            ]
        },
        {
            "cell_type": "markdown",
            "id": "c4912b15",
            "metadata": {},
            "source": [
                "***Stitch the folders you're interested in***\n",
                "\n",
                "should take about 20mins"
            ]
        },
        {
            "cell_type": "code",
            "execution_count": 7,
            "id": "4e5d19a2",
            "metadata": {},
            "outputs": [],
            "source": [
                "from amftrack.pipeline.launching.run import run_stitch, make_stitching_loop, run"
            ]
        },
        {
            "cell_type": "code",
            "execution_count": null,
            "id": "11c1ee28",
            "metadata": {
                "scrolled": true,
                "tags": []
            },
            "outputs": [{
                    "data": {
                        "application/vnd.jupyter.widget-view+json": {
                            "model_id": "d7ad091d207740c09cc39e0c384ab254",
                            "version_major": 2,
                            "version_minor": 0
                        },
                        "text/plain": [
                            "stitched:   0%|          | 0/8 [00:00<?, ?it/s]"
                        ]
                    },
                    "metadata": {},
                    "output_type": "display_data"
                },
                {
                    "name": "stdout",
                    "output_type": "stream",
                    "text": [
                        "/home/ipausers/kahane/opt/fiji-linux64/Fiji.app/ImageJ-linux64 --mem=8000m --headless --ij2 --console -macro /data/felix/TEMP/stitching_loops/stitching_loop1653399011230904628.ijm\n"
                    ]
                },
                {
                    "name": "stderr",
                    "output_type": "stream",
                    "text": [
                        "Java HotSpot(TM) 64-Bit Server VM warning: ignoring option PermSize=128m; support was removed in 8.0\n",
                        "Java HotSpot(TM) 64-Bit Server VM warning: Using incremental CMS is deprecated and will likely be removed in a future release\n"
                    ]
                }
            ],
            "source": [
                "run_stitch(directory, folders)"
            ]
        },
        {
            "cell_type": "markdown",
            "id": "34dd530b",
            "metadata": {},
            "source": [
                "***Compress the image and skeletonize***\n",
                "\n",
                "should take 1h30-2h"
            ]
        },
        {
            "cell_type": "code",
            "execution_count": 12,
            "id": "05663b45",
            "metadata": {
                "scrolled": false,
                "tags": []
            },
            "outputs": [{
                "ename": "NameError",
                "evalue": "name 'run_parallel' is not defined",
                "output_type": "error",
                "traceback": [
                    "\u001b[0;31m---------------------------------------------------------------------------\u001b[0m",
                    "\u001b[0;31mNameError\u001b[0m                                 Traceback (most recent call last)",
                    "Input \u001b[0;32mIn [12]\u001b[0m, in \u001b[0;36m<cell line: 2>\u001b[0;34m()\u001b[0m\n\u001b[1;32m      1\u001b[0m args \u001b[38;5;241m=\u001b[39m [directory]\n\u001b[0;32m----> 2\u001b[0m \u001b[43mrun_parallel\u001b[49m(\u001b[38;5;124m'\u001b[39m\u001b[38;5;124mcompress_image.py\u001b[39m\u001b[38;5;124m'\u001b[39m,args, folders)\n",
                    "\u001b[0;31mNameError\u001b[0m: name 'run_parallel' is not defined"
                ]
            }],
            "source": [
                "args = [directory]\n",
                "run_parallel(\"compress_image.py\", args, folders)"
            ]
        },
        {
            "cell_type": "code",
            "execution_count": 8,
            "id": "dae05c69",
            "metadata": {},
            "outputs": [{
                "ename": "NameError",
                "evalue": "name 'folders' is not defined",
                "output_type": "error",
                "traceback": [
                    "\u001b[0;31m---------------------------------------------------------------------------\u001b[0m",
                    "\u001b[0;31mNameError\u001b[0m                                 Traceback (most recent call last)",
                    "Input \u001b[0;32mIn [8]\u001b[0m, in \u001b[0;36m<cell line: 1>\u001b[0;34m()\u001b[0m\n\u001b[0;32m----> 1\u001b[0m \u001b[43mfolders\u001b[49m[\u001b[38;5;124m'\u001b[39m\u001b[38;5;124mtotal_path\u001b[39m\u001b[38;5;124m'\u001b[39m]\u001b[38;5;241m.\u001b[39miloc[\u001b[38;5;241m0\u001b[39m]\n",
                    "\u001b[0;31mNameError\u001b[0m: name 'folders' is not defined"
                ]
            }],
            "source": [
                "folders['total_path'].iloc[0]"
            ]
        },
        {
            "cell_type": "code",
            "execution_count": 15,
            "id": "c09f714e",
            "metadata": {
                "scrolled": true,
                "tags": []
            },
            "outputs": [{
                    "data": {
                        "application/vnd.jupyter.widget-view+json": {
                            "model_id": "a59f403357314f73b5718118eaca500f",
                            "version_major": 2,
                            "version_minor": 0
                        },
                        "text/plain": [
                            "folder_treated:   0%|          | 0/8 [00:00<?, ?it/s]"
                        ]
                    },
                    "metadata": {},
                    "output_type": "display_data"
                },
                {
                    "name": "stdout",
                    "output_type": "stream",
                    "text": [
                        "python3 /home/ipausers/kahane/Wks/AMFtrack/amftrack/pipeline/scripts/image_processing/extract_skel.py 30 80 30 /media/kahane/AMFtopology02/storage/plate1050 1653399404319163701 0\n",
                        "Directory  /media/kahane/AMFtopology02/storage/plate1050/20220512_1833_Plate18/Analysis  already exists\n"
                    ]
                },
                {
                    "name": "stderr",
                    "output_type": "stream",
                    "text": [
                        "/home/ipausers/kahane/Wks/AMFtrack/amftrack/pipeline/functions/image_processing/extract_graph.py:170: FutureWarning: The frame.append method is deprecated and will be removed from pandas in a future version. Use pandas.concat instead.\n",
                        "  graph = graph.append(pd.DataFrame(edges[branch]), ignore_index=True)\n",
                        "Traceback (most recent call last):\n",
                        "  File \"/home/ipausers/kahane/Wks/AMFtrack/amftrack/pipeline/scripts/image_processing/extract_skel.py\", line 78, in <module>\n",
                        "    skel[\n",
                        "ValueError: operands could not be broadcast together with shapes (3000,4096) (3000,4000) (3000,4096) \n"
                    ]
                },
                {
                    "name": "stdout",
                    "output_type": "stream",
                    "text": [
                        "python3 /home/ipausers/kahane/Wks/AMFtrack/amftrack/pipeline/scripts/image_processing/extract_skel.py 30 80 30 /media/kahane/AMFtopology02/storage/plate1050 1653399404319163701 1\n",
                        "Directory  /media/kahane/AMFtopology02/storage/plate1050/20220512_2036_Plate18/Analysis  already exists\n"
                    ]
                },
                {
                    "name": "stderr",
                    "output_type": "stream",
                    "text": [
                        "/home/ipausers/kahane/Wks/AMFtrack/amftrack/pipeline/functions/image_processing/extract_graph.py:170: FutureWarning: The frame.append method is deprecated and will be removed from pandas in a future version. Use pandas.concat instead.\n",
                        "  graph = graph.append(pd.DataFrame(edges[branch]), ignore_index=True)\n",
                        "Traceback (most recent call last):\n",
                        "  File \"/home/ipausers/kahane/Wks/AMFtrack/amftrack/pipeline/scripts/image_processing/extract_skel.py\", line 78, in <module>\n",
                        "    skel[\n",
                        "ValueError: operands could not be broadcast together with shapes (3000,4096) (3000,4000) (3000,4096) \n"
                    ]
                },
                {
                    "name": "stdout",
                    "output_type": "stream",
                    "text": [
                        "python3 /home/ipausers/kahane/Wks/AMFtrack/amftrack/pipeline/scripts/image_processing/extract_skel.py 30 80 30 /media/kahane/AMFtopology02/storage/plate1050 1653399404319163701 2\n"
                    ]
                },
                {
                    "name": "stderr",
                    "output_type": "stream",
                    "text": [
                        "/home/ipausers/kahane/Wks/AMFtrack/amftrack/pipeline/functions/image_processing/extract_graph.py:170: FutureWarning: The frame.append method is deprecated and will be removed from pandas in a future version. Use pandas.concat instead.\n",
                        "  graph = graph.append(pd.DataFrame(edges[branch]), ignore_index=True)\n",
                        "Traceback (most recent call last):\n",
                        "  File \"/home/ipausers/kahane/Wks/AMFtrack/amftrack/pipeline/scripts/image_processing/extract_skel.py\", line 78, in <module>\n",
                        "    skel[\n",
                        "ValueError: operands could not be broadcast together with shapes (3000,4096) (3000,4000) (3000,4096) \n"
                    ]
                },
                {
                    "name": "stdout",
                    "output_type": "stream",
                    "text": [
                        "Directory  /media/kahane/AMFtopology02/storage/plate1050/20220512_2236_Plate18/Analysis  already exists\n",
                        "python3 /home/ipausers/kahane/Wks/AMFtrack/amftrack/pipeline/scripts/image_processing/extract_skel.py 30 80 30 /media/kahane/AMFtopology02/storage/plate1050 1653399404319163701 3\n"
                    ]
                },
                {
                    "name": "stderr",
                    "output_type": "stream",
                    "text": [
                        "/home/ipausers/kahane/Wks/AMFtrack/amftrack/pipeline/functions/image_processing/extract_graph.py:170: FutureWarning: The frame.append method is deprecated and will be removed from pandas in a future version. Use pandas.concat instead.\n",
                        "  graph = graph.append(pd.DataFrame(edges[branch]), ignore_index=True)\n",
                        "Traceback (most recent call last):\n",
                        "  File \"/home/ipausers/kahane/Wks/AMFtrack/amftrack/pipeline/scripts/image_processing/extract_skel.py\", line 78, in <module>\n",
                        "    skel[\n",
                        "ValueError: operands could not be broadcast together with shapes (3000,4096) (3000,4000) (3000,4096) \n"
                    ]
                },
                {
                    "name": "stdout",
                    "output_type": "stream",
                    "text": [
                        "Directory  /media/kahane/AMFtopology02/storage/plate1050/20220513_0036_Plate18/Analysis  already exists\n",
                        "python3 /home/ipausers/kahane/Wks/AMFtrack/amftrack/pipeline/scripts/image_processing/extract_skel.py 30 80 30 /media/kahane/AMFtopology02/storage/plate1050 1653399404319163701 4\n",
                        "Directory  /media/kahane/AMFtopology02/storage/plate1050/20220513_0236_Plate18/Analysis  already exists\n"
                    ]
                },
                {
                    "name": "stderr",
                    "output_type": "stream",
                    "text": [
                        "/home/ipausers/kahane/Wks/AMFtrack/amftrack/pipeline/functions/image_processing/extract_graph.py:170: FutureWarning: The frame.append method is deprecated and will be removed from pandas in a future version. Use pandas.concat instead.\n",
                        "  graph = graph.append(pd.DataFrame(edges[branch]), ignore_index=True)\n",
                        "Traceback (most recent call last):\n",
                        "  File \"/home/ipausers/kahane/Wks/AMFtrack/amftrack/pipeline/scripts/image_processing/extract_skel.py\", line 78, in <module>\n",
                        "    skel[\n",
                        "ValueError: operands could not be broadcast together with shapes (3000,4096) (3000,4000) (3000,4096) \n"
                    ]
                },
                {
                    "name": "stdout",
                    "output_type": "stream",
                    "text": [
                        "python3 /home/ipausers/kahane/Wks/AMFtrack/amftrack/pipeline/scripts/image_processing/extract_skel.py 30 80 30 /media/kahane/AMFtopology02/storage/plate1050 1653399404319163701 5\n",
                        "Directory  /media/kahane/AMFtopology02/storage/plate1050/20220513_0436_Plate18/Analysis  already exists\n"
                    ]
                },
                {
                    "name": "stderr",
                    "output_type": "stream",
                    "text": [
                        "/home/ipausers/kahane/Wks/AMFtrack/amftrack/pipeline/functions/image_processing/extract_graph.py:170: FutureWarning: The frame.append method is deprecated and will be removed from pandas in a future version. Use pandas.concat instead.\n",
                        "  graph = graph.append(pd.DataFrame(edges[branch]), ignore_index=True)\n",
                        "Traceback (most recent call last):\n",
                        "  File \"/home/ipausers/kahane/Wks/AMFtrack/amftrack/pipeline/scripts/image_processing/extract_skel.py\", line 78, in <module>\n",
                        "    skel[\n",
                        "ValueError: operands could not be broadcast together with shapes (3000,4096) (3000,4000) (3000,4096) \n"
                    ]
                },
                {
                    "name": "stdout",
                    "output_type": "stream",
                    "text": [
                        "python3 /home/ipausers/kahane/Wks/AMFtrack/amftrack/pipeline/scripts/image_processing/extract_skel.py 30 80 30 /media/kahane/AMFtopology02/storage/plate1050 1653399404319163701 6\n",
                        "Directory  /media/kahane/AMFtopology02/storage/plate1050/20220513_0636_Plate18/Analysis  already exists\n"
                    ]
                },
                {
                    "name": "stderr",
                    "output_type": "stream",
                    "text": [
                        "/home/ipausers/kahane/Wks/AMFtrack/amftrack/pipeline/functions/image_processing/extract_graph.py:170: FutureWarning: The frame.append method is deprecated and will be removed from pandas in a future version. Use pandas.concat instead.\n",
                        "  graph = graph.append(pd.DataFrame(edges[branch]), ignore_index=True)\n",
                        "Traceback (most recent call last):\n",
                        "  File \"/home/ipausers/kahane/Wks/AMFtrack/amftrack/pipeline/scripts/image_processing/extract_skel.py\", line 78, in <module>\n",
                        "    skel[\n",
                        "ValueError: operands could not be broadcast together with shapes (3000,4096) (3000,4000) (3000,4096) \n"
                    ]
                },
                {
                    "name": "stdout",
                    "output_type": "stream",
                    "text": [
                        "python3 /home/ipausers/kahane/Wks/AMFtrack/amftrack/pipeline/scripts/image_processing/extract_skel.py 30 80 30 /media/kahane/AMFtopology02/storage/plate1050 1653399404319163701 7\n"
                    ]
                },
                {
                    "name": "stderr",
                    "output_type": "stream",
                    "text": [
                        "/home/ipausers/kahane/Wks/AMFtrack/amftrack/pipeline/functions/image_processing/extract_graph.py:170: FutureWarning: The frame.append method is deprecated and will be removed from pandas in a future version. Use pandas.concat instead.\n",
                        "  graph = graph.append(pd.DataFrame(edges[branch]), ignore_index=True)\n",
                        "Traceback (most recent call last):\n",
                        "  File \"/home/ipausers/kahane/Wks/AMFtrack/amftrack/pipeline/scripts/image_processing/extract_skel.py\", line 78, in <module>\n",
                        "    skel[\n",
                        "ValueError: operands could not be broadcast together with shapes (3000,4096) (3000,4000) (3000,4096) \n"
                    ]
                },
                {
                    "name": "stdout",
                    "output_type": "stream",
                    "text": [
                        "Directory  /media/kahane/AMFtopology02/storage/plate1050/20220513_0839_Plate18/Analysis  already exists\n"
                    ]
                }
            ],
            "source": [
                "time = \"3:00:00\"\n",
                "low = 30\n",
                "high = 80\n",
                "extend = 30\n",
                "args=[low, high, extend,directory]\n",
                "run('extract_skel.py',args,folders)"
            ]
        },
        {
            "cell_type": "markdown",
            "id": "ed0fbb66",
            "metadata": {},
            "source": [
                "## Visualisation"
            ]
        },
        {
            "cell_type": "markdown",
            "id": "245299db",
            "metadata": {},
            "source": [
                "***Visualise the skeletonization***"
            ]
        },
        {
            "cell_type": "code",
            "execution_count": 8,
            "id": "73622c4f",
            "metadata": {},
            "outputs": [],
            "source": [
                "select = folders\n",
                "folder_list = list(select[\"total_path\"])\n",
                "folder_list.sort()\n",
                "skels = []\n",
                "ims = []\n",
                "kernel = np.ones((5, 5), np.uint8)\n",
                "itera = 1\n",
                "start = 0\n",
                "\n",
                "finish = start + 2\n",
                "for folder in folder_list[start:finish]:\n",
                "    path_snap = folder\n",
                "    skel_info = read_mat(path_snap + \"/Analysis/skeleton_compressed.mat\")\n",
                "    skel = skel_info[\"skeleton\"]\n",
                "    skels.append(cv2.dilate(skel.astype(np.uint8), kernel, iterations=itera))\n",
                "    im = read_mat(path_snap + \"/Analysis/raw_image.mat\")[\"raw\"]\n",
                "    ims.append(im)"
            ]
        },
        {
            "cell_type": "code",
            "execution_count": 9,
            "id": "39301668",
            "metadata": {
                "tags": []
            },
            "outputs": [{
                "data": {
                    "image/png": "[encoded data removed]",
                    "text/plain": [
                        "<Figure size 432x288 with 1 Axes>"
                    ]
                },
                "metadata": {
                    "needs_background": "light"
                },
                "output_type": "display_data"
            }],
            "source": [
                "plt.close(\"all\")\n",
                "start = 0\n",
                "finish = start + 1\n",
                "for i in range(start, finish):\n",
                "    plot_t_tp1([], [], None, None, skels[i], ims[i])"
            ]
        },
        {
            "cell_type": "markdown",
            "id": "f0a995b6",
            "metadata": {},
            "source": [
                "***These steps may be a bit long, but it also helps just keeping things consistent and use one single framework,*** you may bypass them by artificially renaming skeleton.mat into skeleton_realigned.mat which is necessary for the next step because you probably don't care about these two steps since you're doing only one image..."
            ]
        },
        {
            "cell_type": "code",
            "execution_count": 15,
            "id": "201c8a21",
            "metadata": {},
            "outputs": [{
                    "data": {
                        "application/vnd.jupyter.widget-view+json": {
                            "model_id": "c43a6cabc627475abff791d906713a6e",
                            "version_major": 2,
                            "version_minor": 0
                        },
                        "text/plain": [
                            "stitched:   0%|          | 0/1 [00:00<?, ?it/s]"
                        ]
                    },
                    "metadata": {},
                    "output_type": "display_data"
                },
                {
                    "name": "stdout",
                    "output_type": "stream",
                    "text": [
                        "python3 /home/ipausers/kahane/Wks/AMFtrack/amftrack/pipeline/scripts/image_processing/mask_skel.py 50 /data/felix/width1/full_plates/ 1649945483289864839 0\n",
                        "Directory  /data/felix/width1/full_plates/20220325_1423_Plate907/Analysis  already exists\n"
                    ]
                }
            ],
            "source": [
                "time = \"2:00\"\n",
                "thresh = 50\n",
                "args = [thresh, directory]\n",
                "run_parallel(\"mask_skel.py\", args, folders)"
            ]
        },
        {
            "cell_type": "code",
            "execution_count": 9,
            "id": "89533e87",
            "metadata": {},
            "outputs": [{
                    "data": {
                        "application/vnd.jupyter.widget-view+json": {
                            "model_id": "3f8aac83fa00448ebed4a34cd6781a46",
                            "version_major": 2,
                            "version_minor": 0
                        },
                        "text/plain": [
                            "stitched:   0%|          | 0/1 [00:00<?, ?it/s]"
                        ]
                    },
                    "metadata": {},
                    "output_type": "display_data"
                },
                {
                    "name": "stdout",
                    "output_type": "stream",
                    "text": [
                        "python3 /home/ipausers/kahane/Wks/AMFtrack/amftrack/pipeline/scripts/image_processing/prune_skel.py 0.1 /data/felix/width1/full_plates/ 1650013454133725000 0\n"
                    ]
                }
            ],
            "source": [
                "time = \"3:00:00\"\n",
                "threshold = 0.1\n",
                "args = [threshold, directory]\n",
                "run_parallel(\"prune_skel.py\", args, folders)"
            ]
        },
        {
            "cell_type": "code",
            "execution_count": 10,
            "id": "97ab6de0",
            "metadata": {
                "scrolled": true
            },
            "outputs": [{
                    "data": {
                        "application/vnd.jupyter.widget-view+json": {
                            "model_id": "b30c460c5ade4fa490b43cb0bbb5c738",
                            "version_major": 2,
                            "version_minor": 0
                        },
                        "text/plain": [
                            "stitched:   0%|          | 0/1 [00:00<?, ?it/s]"
                        ]
                    },
                    "metadata": {},
                    "output_type": "display_data"
                },
                {
                    "name": "stdout",
                    "output_type": "stream",
                    "text": [
                        "python3 /home/ipausers/kahane/Wks/AMFtrack/amftrack/pipeline/scripts/image_processing/realign.py /data/felix/width1/full_plates/ 1650033487466938247 0\n",
                        "saving 0 /data/felix/width1/full_plates/20220325_1423_Plate907\n"
                    ]
                }
            ],
            "source": [
                "plates = list(set(list(folders[\"Plate\"].values)))\n",
                "for plate in plates:\n",
                "    time = \"2:00:00\"\n",
                "    args = [directory]\n",
                "    run_parallel(\"realign.py\", args, folders)"
            ]
        },
        {
            "cell_type": "markdown",
            "id": "25d7079b",
            "metadata": {},
            "source": [
                "Now you're finally getting to the point where you generate the graph object"
            ]
        },
        {
            "cell_type": "code",
            "execution_count": 10,
            "id": "629feb71",
            "metadata": {
                "scrolled": true
            },
            "outputs": [{
                    "data": {
                        "application/vnd.jupyter.widget-view+json": {
                            "model_id": "583d43f47fab4328a8391a0ae938f8be",
                            "version_major": 2,
                            "version_minor": 0
                        },
                        "text/plain": [
                            "stitched:   0%|          | 0/1 [00:00<?, ?it/s]"
                        ]
                    },
                    "metadata": {},
                    "output_type": "display_data"
                },
                {
                    "name": "stdout",
                    "output_type": "stream",
                    "text": [
                        "python3 /home/ipausers/kahane/Wks/AMFtrack/amftrack/pipeline/scripts/image_processing/extract_nx_graph.py /data/felix/width1/full_plates/ 1650033867641167166 0\n"
                    ]
                }
            ],
            "source": [
                "time = \"2:00:00\"\n",
                "args = [directory]\n",
                "run_parallel(\"extract_nx_graph.py\", args, folders)"
            ]
        },
        {
            "cell_type": "markdown",
            "id": "09998a7a",
            "metadata": {},
            "source": [
                "# Brouillon"
            ]
        },
        {
            "cell_type": "raw",
            "id": "07b7244a",
            "metadata": {},
            "source": [
                "\n",
                "\n",
                "def make_stitching_loop(directory,dirname,op_id):\n",
                "    # TODO(FK): handle the case where there is no stiching_loops directory\n",
                "    #MODIF a_file = open(f'{path_code}amftrack/pipeline/scripts/stitching_loops/stitching_loop.ijm',\"r\")\n",
                "    a_file = open(os.path.join(path_code, \"pipeline/scripts/stitching_loops/stitching_loop.ijm\") ,\"r\")\n",
                "    \n",
                "    list_of_lines = a_file.readlines()\n",
                "\n",
                "    list_of_lines[4] = f'mainDirectory = \\u0022{directory}\\u0022 ;\\n'\n",
                "    list_of_lines[29] = f'\\t if(startsWith(list[i],\\u0022{dirname}\\u0022)) \\u007b\\n'\n",
                "    file_name = f'{os.getenv(\"TEMP\")}/stitching_loops/stitching_loop{op_id}.ijm'\n",
                "    a_file = open(file_name, \"w\")\n",
                "\n",
                "    a_file.writelines(list_of_lines)\n",
                "\n",
                "    a_file.close()"
            ]
        },
        {
            "cell_type": "raw",
            "id": "cf4b62e0",
            "metadata": {},
            "source": [
                "def run_parallel(code, args, folders):\n",
                "    op_id = time_ns()\n",
                "    folders.to_json(f'{os.getenv(\"TEMP\")}/{op_id}.json')# temporary file\n",
                "    folder_list = list(folders['folder'])\n",
                "    folder_list.sort()  \n",
                "    args_str = [str(arg) for arg in args]\n",
                "    arg_str = \" \".join(args_str)\n",
                "    with tqdm(total=len(folder_list), desc=\"stitched\") as pbar:\n",
                "        for index,folder in enumerate(folder_list):\n",
                "            command = ['python3',f'{path_code}pipeline/scripts/image_processing/{code}']+args_str+[f'{op_id}',f'{index}']\n",
                "            print(' '.join(command))\n",
                "            process = subprocess.run(command)\n",
                "            pbar.update(1)"
            ]
        }
    ],
    "metadata": {
        "kernelspec": {
            "display_name": "Python 3 (ipykernel)",
            "language": "python",
            "name": "python3"
        },
        "language_info": {
            "codemirror_mode": {
                "name": "ipython",
                "version": 3
            },
            "file_extension": ".py",
            "mimetype": "text/x-python",
            "name": "python",
            "nbconvert_exporter": "python",
            "pygments_lexer": "ipython3",
            "version": "3.8.10"
        }
    },
    "nbformat": 4,
    "nbformat_minor": 5
}
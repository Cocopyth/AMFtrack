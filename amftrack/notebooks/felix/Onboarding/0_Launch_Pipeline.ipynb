{
 "cells": [
  {
   "cell_type": "markdown",
   "id": "93cd0696",
   "metadata": {},
   "source": [
    "# Exemple d'extraction de graphe"
   ]
  },
  {
   "cell_type": "markdown",
   "id": "e18c9e94",
   "metadata": {},
   "source": [
    "## Setup"
   ]
  },
  {
   "cell_type": "markdown",
   "id": "e84ac98f",
   "metadata": {},
   "source": [
    "***Load modules*** \n",
    "This will require amtrack repo in the right path I use environment variables but feel free to do something better.\n",
    "Normally all the required packages are indicated, if some are missing, please add them.\n",
    "If you also want to create a \"freeze\" or a poetry thing to have an easier installation of the environment please do so.\n"
   ]
  },
  {
   "cell_type": "code",
   "execution_count": 1,
   "id": "e6b39fb2",
   "metadata": {},
   "outputs": [
    {
     "name": "stderr",
     "output_type": "stream",
     "text": [
      "/home/ipausers/kahane/Wks/AMFtrack/amftrack/transfer/functions/transfer.py:1: TqdmExperimentalWarning: Using `tqdm.autonotebook.tqdm` in notebook mode. Use `tqdm.tqdm` instead to force console mode (e.g. in jupyter console)\n",
      "  from tqdm.autonotebook import tqdm\n"
     ]
    }
   ],
   "source": [
    "%load_ext autoreload\n",
    "%autoreload 2\n",
    "import os  \n",
    "import sys  \n",
    "import pandas as pd\n",
    "from amftrack.util.sys import get_dates_datetime, get_dirname, temp_path, get_data_info, update_plate_info, \\\n",
    "get_current_folders, get_folders_by_plate_id, fiji_path, path_code\n",
    "import ast\n",
    "from amftrack.plotutil import plot_t_tp1\n",
    "from scipy import sparse\n",
    "from datetime import datetime\n",
    "import pickle\n",
    "import scipy.io as sio\n",
    "from pymatreader import read_mat\n",
    "from matplotlib import colors\n",
    "import cv2\n",
    "import imageio\n",
    "import matplotlib.pyplot as plt\n",
    "import numpy as np\n",
    "from skimage.filters import frangi\n",
    "from skimage import filters\n",
    "from random import choice\n",
    "import scipy.sparse\n",
    "import os\n",
    "from amftrack.pipeline.functions.image_processing.extract_graph import from_sparse_to_graph, generate_nx_graph, sparse_to_doc\n",
    "from skimage.feature import hessian_matrix_det\n",
    "from amftrack.pipeline.functions.image_processing.experiment_class_surf import Experiment, Edge,Node, plot_raw_plus\n",
    "from amftrack.pipeline.paths.directory import run_parallel_transfer, find_state, directory_scratch, directory_project, directory_archive\n",
    "import dropbox\n",
    "from amftrack.transfer.functions.transfer import upload, zip_file\n",
    "from subprocess import call\n",
    "from tqdm.autonotebook import tqdm\n",
    "from time import time_ns\n",
    "import subprocess\n",
    "import matplotlib as mpl\n",
    "from amftrack.util.sys import temp_path"
   ]
  },
  {
   "cell_type": "markdown",
   "id": "4a7e3bb0",
   "metadata": {},
   "source": [
    "***choose the path of interest***\n",
    "I mounted sun on my linux computer at AMOLF. Please feel free to do so on yours as well. I can send you the command. \n",
    "Otherwise, if you have the folders locally, just indicate the path.\n",
    "Finally you can also simply ssh to my computer and run things from there."
   ]
  },
  {
   "cell_type": "code",
   "execution_count": 2,
   "id": "cd905763",
   "metadata": {
    "tags": []
   },
   "outputs": [
    {
     "data": {
      "application/vnd.jupyter.widget-view+json": {
       "model_id": "1b6484cb05704d4795b5f025ab567d9f",
       "version_major": 2,
       "version_minor": 0
      },
      "text/plain": [
       "analysed:   0%|          | 0/2 [00:00<?, ?it/s]"
      ]
     },
     "metadata": {},
     "output_type": "display_data"
    }
   ],
   "source": [
    "directory = \"/data/felix/width1/full_plates/\" # careful: must have the / at the end\n",
    "\n",
    "update_plate_info(directory)\n",
    "folder_df = get_current_folders(directory)"
   ]
  },
  {
   "cell_type": "code",
   "execution_count": 3,
   "id": "32a495a8",
   "metadata": {
    "tags": []
   },
   "outputs": [
    {
     "data": {
      "text/plain": [
       "2"
      ]
     },
     "execution_count": 3,
     "metadata": {},
     "output_type": "execute_result"
    }
   ],
   "source": [
    "len(folder_df)"
   ]
  },
  {
   "cell_type": "markdown",
   "id": "3d7dbe31",
   "metadata": {},
   "source": [
    "***Choose the folder you're interested in***"
   ]
  },
  {
   "cell_type": "code",
   "execution_count": 4,
   "id": "c40be3fd",
   "metadata": {},
   "outputs": [
    {
     "data": {
      "text/html": [
       "<div>\n",
       "<style scoped>\n",
       "    .dataframe tbody tr th:only-of-type {\n",
       "        vertical-align: middle;\n",
       "    }\n",
       "\n",
       "    .dataframe tbody tr th {\n",
       "        vertical-align: top;\n",
       "    }\n",
       "\n",
       "    .dataframe thead th {\n",
       "        text-align: right;\n",
       "    }\n",
       "</style>\n",
       "<table border=\"1\" class=\"dataframe\">\n",
       "  <thead>\n",
       "    <tr style=\"text-align: right;\">\n",
       "      <th></th>\n",
       "      <th>total_path</th>\n",
       "      <th>Plate</th>\n",
       "      <th>PrincePos</th>\n",
       "      <th>root</th>\n",
       "      <th>strain</th>\n",
       "      <th>medium</th>\n",
       "      <th>split</th>\n",
       "      <th>Pbait</th>\n",
       "      <th>CrossDate</th>\n",
       "      <th>Temperature</th>\n",
       "      <th>...</th>\n",
       "      <th>/Analysis/skeleton_pruned_compressed.mat</th>\n",
       "      <th>/Analysis/transform.mat</th>\n",
       "      <th>/Analysis/transform_corrupt.mat</th>\n",
       "      <th>/Analysis/skeleton_realigned_compressed.mat</th>\n",
       "      <th>/Analysis/nx_graph_pruned.p</th>\n",
       "      <th>/Analysis/nx_graph_pruned_width.p</th>\n",
       "      <th>/Analysis/nx_graph_pruned_labeled.p</th>\n",
       "      <th>date</th>\n",
       "      <th>folder</th>\n",
       "      <th>Temp</th>\n",
       "    </tr>\n",
       "  </thead>\n",
       "  <tbody>\n",
       "    <tr>\n",
       "      <th>12704</th>\n",
       "      <td>/data/felix/width1/full_plates/20220330_0049_P...</td>\n",
       "      <td>865</td>\n",
       "      <td>7</td>\n",
       "      <td>'Carrot'</td>\n",
       "      <td>'A5'</td>\n",
       "      <td>'001P100N100C'</td>\n",
       "      <td>'Y'</td>\n",
       "      <td>'-'</td>\n",
       "      <td>20220307</td>\n",
       "      <td>25</td>\n",
       "      <td>...</td>\n",
       "      <td>False</td>\n",
       "      <td>False</td>\n",
       "      <td>False</td>\n",
       "      <td>False</td>\n",
       "      <td>False</td>\n",
       "      <td>False</td>\n",
       "      <td>False</td>\n",
       "      <td>30.03.2022, 00:49:</td>\n",
       "      <td>20220330_0049_Plate943</td>\n",
       "      <td>NaN</td>\n",
       "    </tr>\n",
       "    <tr>\n",
       "      <th>12705</th>\n",
       "      <td>/data/felix/width1/full_plates/20220325_1423_P...</td>\n",
       "      <td>907</td>\n",
       "      <td>9</td>\n",
       "      <td>'Carrot'</td>\n",
       "      <td>'A5'</td>\n",
       "      <td>'001P100N100C'</td>\n",
       "      <td>'Y'</td>\n",
       "      <td>'-'</td>\n",
       "      <td>20220321</td>\n",
       "      <td>25</td>\n",
       "      <td>...</td>\n",
       "      <td>False</td>\n",
       "      <td>False</td>\n",
       "      <td>False</td>\n",
       "      <td>False</td>\n",
       "      <td>False</td>\n",
       "      <td>False</td>\n",
       "      <td>False</td>\n",
       "      <td>25.03.2022, 14:23:</td>\n",
       "      <td>20220325_1423_Plate907</td>\n",
       "      <td>NaN</td>\n",
       "    </tr>\n",
       "  </tbody>\n",
       "</table>\n",
       "<p>2 rows × 23 columns</p>\n",
       "</div>"
      ],
      "text/plain": [
       "                                              total_path Plate PrincePos  \\\n",
       "12704  /data/felix/width1/full_plates/20220330_0049_P...   865         7   \n",
       "12705  /data/felix/width1/full_plates/20220325_1423_P...   907         9   \n",
       "\n",
       "           root strain          medium split Pbait CrossDate Temperature  ...  \\\n",
       "12704  'Carrot'   'A5'  '001P100N100C'   'Y'   '-'  20220307          25  ...   \n",
       "12705  'Carrot'   'A5'  '001P100N100C'   'Y'   '-'  20220321          25  ...   \n",
       "\n",
       "      /Analysis/skeleton_pruned_compressed.mat /Analysis/transform.mat  \\\n",
       "12704                                    False                   False   \n",
       "12705                                    False                   False   \n",
       "\n",
       "      /Analysis/transform_corrupt.mat  \\\n",
       "12704                           False   \n",
       "12705                           False   \n",
       "\n",
       "      /Analysis/skeleton_realigned_compressed.mat /Analysis/nx_graph_pruned.p  \\\n",
       "12704                                       False                       False   \n",
       "12705                                       False                       False   \n",
       "\n",
       "      /Analysis/nx_graph_pruned_width.p /Analysis/nx_graph_pruned_labeled.p  \\\n",
       "12704                             False                               False   \n",
       "12705                             False                               False   \n",
       "\n",
       "                     date                  folder Temp  \n",
       "12704  30.03.2022, 00:49:  20220330_0049_Plate943  NaN  \n",
       "12705  25.03.2022, 14:23:  20220325_1423_Plate907  NaN  \n",
       "\n",
       "[2 rows x 23 columns]"
      ]
     },
     "execution_count": 4,
     "metadata": {},
     "output_type": "execute_result"
    }
   ],
   "source": [
    "folder_df"
   ]
  },
  {
   "cell_type": "code",
   "execution_count": 5,
   "id": "9edf10f8",
   "metadata": {
    "vscode": {
     "languageId": "json"
    }
   },
   "outputs": [
    {
     "data": {
      "text/plain": [
       "'/data/felix/width1/full_plates/20220325_1423_Plate907'"
      ]
     },
     "execution_count": 5,
     "metadata": {},
     "output_type": "execute_result"
    }
   ],
   "source": [
    "str(folder_df['total_path'].iloc[1])"
   ]
  },
  {
   "cell_type": "code",
   "execution_count": 6,
   "id": "5a2a1c83",
   "metadata": {},
   "outputs": [],
   "source": [
    "folders = folder_df.loc[folder_df['Plate']==\"907\"]"
   ]
  },
  {
   "cell_type": "code",
   "execution_count": 7,
   "id": "1b19102f",
   "metadata": {
    "scrolled": true
   },
   "outputs": [
    {
     "data": {
      "text/html": [
       "<div>\n",
       "<style scoped>\n",
       "    .dataframe tbody tr th:only-of-type {\n",
       "        vertical-align: middle;\n",
       "    }\n",
       "\n",
       "    .dataframe tbody tr th {\n",
       "        vertical-align: top;\n",
       "    }\n",
       "\n",
       "    .dataframe thead th {\n",
       "        text-align: right;\n",
       "    }\n",
       "</style>\n",
       "<table border=\"1\" class=\"dataframe\">\n",
       "  <thead>\n",
       "    <tr style=\"text-align: right;\">\n",
       "      <th></th>\n",
       "      <th>total_path</th>\n",
       "      <th>Plate</th>\n",
       "      <th>PrincePos</th>\n",
       "      <th>root</th>\n",
       "      <th>strain</th>\n",
       "      <th>medium</th>\n",
       "      <th>split</th>\n",
       "      <th>Pbait</th>\n",
       "      <th>CrossDate</th>\n",
       "      <th>Temperature</th>\n",
       "      <th>...</th>\n",
       "      <th>/Analysis/skeleton_pruned_compressed.mat</th>\n",
       "      <th>/Analysis/transform.mat</th>\n",
       "      <th>/Analysis/transform_corrupt.mat</th>\n",
       "      <th>/Analysis/skeleton_realigned_compressed.mat</th>\n",
       "      <th>/Analysis/nx_graph_pruned.p</th>\n",
       "      <th>/Analysis/nx_graph_pruned_width.p</th>\n",
       "      <th>/Analysis/nx_graph_pruned_labeled.p</th>\n",
       "      <th>date</th>\n",
       "      <th>folder</th>\n",
       "      <th>Temp</th>\n",
       "    </tr>\n",
       "  </thead>\n",
       "  <tbody>\n",
       "    <tr>\n",
       "      <th>12705</th>\n",
       "      <td>/data/felix/width1/full_plates/20220325_1423_P...</td>\n",
       "      <td>907</td>\n",
       "      <td>9</td>\n",
       "      <td>'Carrot'</td>\n",
       "      <td>'A5'</td>\n",
       "      <td>'001P100N100C'</td>\n",
       "      <td>'Y'</td>\n",
       "      <td>'-'</td>\n",
       "      <td>20220321</td>\n",
       "      <td>25</td>\n",
       "      <td>...</td>\n",
       "      <td>False</td>\n",
       "      <td>False</td>\n",
       "      <td>False</td>\n",
       "      <td>False</td>\n",
       "      <td>False</td>\n",
       "      <td>False</td>\n",
       "      <td>False</td>\n",
       "      <td>25.03.2022, 14:23:</td>\n",
       "      <td>20220325_1423_Plate907</td>\n",
       "      <td>NaN</td>\n",
       "    </tr>\n",
       "  </tbody>\n",
       "</table>\n",
       "<p>1 rows × 23 columns</p>\n",
       "</div>"
      ],
      "text/plain": [
       "                                              total_path Plate PrincePos  \\\n",
       "12705  /data/felix/width1/full_plates/20220325_1423_P...   907         9   \n",
       "\n",
       "           root strain          medium split Pbait CrossDate Temperature  ...  \\\n",
       "12705  'Carrot'   'A5'  '001P100N100C'   'Y'   '-'  20220321          25  ...   \n",
       "\n",
       "      /Analysis/skeleton_pruned_compressed.mat /Analysis/transform.mat  \\\n",
       "12705                                    False                   False   \n",
       "\n",
       "      /Analysis/transform_corrupt.mat  \\\n",
       "12705                           False   \n",
       "\n",
       "      /Analysis/skeleton_realigned_compressed.mat /Analysis/nx_graph_pruned.p  \\\n",
       "12705                                       False                       False   \n",
       "\n",
       "      /Analysis/nx_graph_pruned_width.p /Analysis/nx_graph_pruned_labeled.p  \\\n",
       "12705                             False                               False   \n",
       "\n",
       "                     date                  folder Temp  \n",
       "12705  25.03.2022, 14:23:  20220325_1423_Plate907  NaN  \n",
       "\n",
       "[1 rows x 23 columns]"
      ]
     },
     "execution_count": 7,
     "metadata": {},
     "output_type": "execute_result"
    }
   ],
   "source": [
    "folders"
   ]
  },
  {
   "cell_type": "markdown",
   "id": "4cd30812",
   "metadata": {},
   "source": [
    "These are local adaptations of functions for running things on the supercomputer. So better to keep them in the notebook at this stage."
   ]
  },
  {
   "cell_type": "markdown",
   "id": "eab2ad72",
   "metadata": {},
   "source": [
    "## Stiching function"
   ]
  },
  {
   "cell_type": "code",
   "execution_count": 10,
   "id": "a18310ed",
   "metadata": {},
   "outputs": [],
   "source": [
    "from amftrack.util.sys import path_code\n",
    "import os\n",
    "\n",
    "def make_stitching_loop(directory,dirname,op_id):\n",
    "    # TODO(FK): handle the case where there is no stiching_loops directory\n",
    "    #MODIF a_file = open(f'{path_code}amftrack/pipeline/scripts/stitching_loops/stitching_loop.ijm',\"r\")\n",
    "    a_file = open(os.path.join(path_code, \"pipeline/scripts/stitching_loops/stitching_loop.ijm\") ,\"r\")\n",
    "    \n",
    "    list_of_lines = a_file.readlines()\n",
    "\n",
    "    list_of_lines[4] = f'mainDirectory = \\u0022{directory}\\u0022 ;\\n'\n",
    "    list_of_lines[29] = f'\\t if(startsWith(list[i],\\u0022{dirname}\\u0022)) \\u007b\\n'\n",
    "    file_name = f'{os.getenv(\"TEMP\")}/stitching_loops/stitching_loop{op_id}.ijm'\n",
    "    a_file = open(file_name, \"w\")\n",
    "\n",
    "    a_file.writelines(list_of_lines)\n",
    "\n",
    "    a_file.close()\n",
    "    \n",
    "def run_stitch(directory, folders):\n",
    "    folder_list = list(folders['folder'])\n",
    "    folder_list.sort()    \n",
    "    with tqdm(total=len(folder_list), desc=\"stitched\") as pbar:\n",
    "        for folder in folder_list:\n",
    "            op_id = time_ns()\n",
    "            im = imageio.imread(f'{directory}/{folder}/Img/Img_r03_c05.tif')\n",
    "            for x in range(1,11):\n",
    "                for y in range(1,16):\n",
    "                    strix= str(x) if x>=10 else f'0{x}'\n",
    "                    striy= str(y) if y>=10 else f'0{y}'\n",
    "                    path = f'{directory}/{folder}/Img/Img_r{strix}_c{striy}.tif'\n",
    "                    # print(striy,path,os.path.getsize(path))\n",
    "                    if not os.path.isfile(path):\n",
    "                        f = open(path, 'w')\n",
    "                    if os.path.getsize(path)==0:\n",
    "                        imageio.imwrite(path,im*0)\n",
    "            make_stitching_loop(directory,folder,op_id)\n",
    "            # MODIF 2 command = [os.getenv('HOME')+'/Fiji.app/ImageJ-linux64','--mem=8000m','--headless','--ij2','--console','-macro',f'{os.getenv(\"TEMP\")}/stitching_loops/stitching_loop{op_id}.ijm']\n",
    "            command = [fiji_path,'--mem=8000m','--headless','--ij2','--console','-macro',f'{os.getenv(\"TEMP\")}/stitching_loops/stitching_loop{op_id}.ijm']\n",
    "            print(' '.join(command))\n",
    "            process = subprocess.run(command)\n",
    "            pbar.update(1)"
   ]
  },
  {
   "cell_type": "code",
   "execution_count": 26,
   "id": "5772f59a",
   "metadata": {},
   "outputs": [
    {
     "data": {
      "text/plain": [
       "'/home/ipausers/kahane/Wks/AMFtrack/amftrack/'"
      ]
     },
     "execution_count": 26,
     "metadata": {},
     "output_type": "execute_result"
    }
   ],
   "source": [
    "path_code"
   ]
  },
  {
   "cell_type": "code",
   "execution_count": 11,
   "id": "915048ea",
   "metadata": {},
   "outputs": [],
   "source": [
    "def run_parallel(code, args, folders):\n",
    "    op_id = time_ns()\n",
    "    folders.to_json(f'{os.getenv(\"TEMP\")}/{op_id}.json')# temporary file\n",
    "    folder_list = list(folders['folder'])\n",
    "    folder_list.sort()  \n",
    "    args_str = [str(arg) for arg in args]\n",
    "    arg_str = \" \".join(args_str)\n",
    "    with tqdm(total=len(folder_list), desc=\"stitched\") as pbar:\n",
    "        for index,folder in enumerate(folder_list):\n",
    "            command = ['python3',f'{path_code}pipeline/scripts/image_processing/{code}']+args_str+[f'{op_id}',f'{index}']\n",
    "            print(' '.join(command))\n",
    "            process = subprocess.run(command)\n",
    "            pbar.update(1)"
   ]
  },
  {
   "cell_type": "markdown",
   "id": "c4912b15",
   "metadata": {},
   "source": [
    "***Stitch the folders you're interested in***\n",
    "\n",
    "should take about 20mins"
   ]
  },
  {
   "cell_type": "code",
   "execution_count": 9,
   "id": "11c1ee28",
   "metadata": {
    "collapsed": true,
    "tags": []
   },
   "outputs": [
    {
     "ename": "NameError",
     "evalue": "name 'run_stitch' is not defined",
     "output_type": "error",
     "traceback": [
      "\u001b[0;31m---------------------------------------------------------------------------\u001b[0m",
      "\u001b[0;31mNameError\u001b[0m                                 Traceback (most recent call last)",
      "Input \u001b[0;32mIn [9]\u001b[0m, in \u001b[0;36m<cell line: 1>\u001b[0;34m()\u001b[0m\n\u001b[0;32m----> 1\u001b[0m \u001b[43mrun_stitch\u001b[49m(directory,folders)\n",
      "\u001b[0;31mNameError\u001b[0m: name 'run_stitch' is not defined"
     ]
    }
   ],
   "source": [
    "run_stitch(directory,folders)"
   ]
  },
  {
   "cell_type": "markdown",
   "id": "34dd530b",
   "metadata": {},
   "source": [
    "***Compress the image and skeletonize***\n",
    "\n",
    "should take 1h30-2h"
   ]
  },
  {
   "cell_type": "code",
   "execution_count": 25,
   "id": "05663b45",
   "metadata": {
    "tags": []
   },
   "outputs": [
    {
     "data": {
      "application/vnd.jupyter.widget-view+json": {
       "model_id": "85aa834ec2874e16950f2b6a698c80a6",
       "version_major": 2,
       "version_minor": 0
      },
      "text/plain": [
       "stitched:   0%|          | 0/1 [00:00<?, ?it/s]"
      ]
     },
     "metadata": {},
     "output_type": "display_data"
    },
    {
     "name": "stdout",
     "output_type": "stream",
     "text": [
      "python3 /home/ipausers/kahane/Wks/AMFtrack/amftrack/pipeline/scripts/image_processing/compress_image.py /data/felix/width1/full_plates/ 1649864771751109735 0\n",
      "Directory  /data/felix/width1/full_plates/20220325_1423_Plate907/Analysis  Created \n"
     ]
    }
   ],
   "source": [
    "args = [directory]\n",
    "run_parallel('compress_image.py',args, folders)"
   ]
  },
  {
   "cell_type": "code",
   "execution_count": 12,
   "id": "c09f714e",
   "metadata": {
    "collapsed": true,
    "tags": []
   },
   "outputs": [
    {
     "data": {
      "application/vnd.jupyter.widget-view+json": {
       "model_id": "6545a859d6a24470a614a1bee45c0ef1",
       "version_major": 2,
       "version_minor": 0
      },
      "text/plain": [
       "stitched:   0%|          | 0/1 [00:00<?, ?it/s]"
      ]
     },
     "metadata": {},
     "output_type": "display_data"
    },
    {
     "name": "stdout",
     "output_type": "stream",
     "text": [
      "python3 /home/ipausers/kahane/Wks/AMFtrack/amftrack/pipeline/scripts/image_processing/extract_skel.py 30 80 30 /data/felix/width1/full_plates/ 1649921815530100881 0\n"
     ]
    },
    {
     "name": "stderr",
     "output_type": "stream",
     "text": [
      "/home/ipausers/kahane/.local/lib/python3.8/site-packages/skimage/feature/corner.py:259: RuntimeWarning: invalid value encountered in sqrt\n",
      "  l2 = (M00 + M11) / 2 - np.sqrt(4 * M01 ** 2 + (M00 - M11) ** 2) / 2\n",
      "/home/ipausers/kahane/Wks/AMFtrack/amftrack/pipeline/functions/image_processing/extract_graph.py:169: FutureWarning: The frame.append method is deprecated and will be removed from pandas in a future version. Use pandas.concat instead.\n",
      "  graph = graph.append(pd.DataFrame(edges[branch]), ignore_index=True)\n",
      "/home/ipausers/kahane/.local/lib/python3.8/site-packages/skimage/feature/corner.py:258: RuntimeWarning: overflow encountered in multiply\n",
      "  l1 = (M00 + M11) / 2 + np.sqrt(4 * M01 ** 2 + (M00 - M11) ** 2) / 2\n",
      "/home/ipausers/kahane/Wks/AMFtrack/amftrack/pipeline/functions/image_processing/extract_graph.py:169: FutureWarning: The frame.append method is deprecated and will be removed from pandas in a future version. Use pandas.concat instead.\n",
      "  graph = graph.append(pd.DataFrame(edges[branch]), ignore_index=True)\n",
      "/home/ipausers/kahane/Wks/AMFtrack/amftrack/pipeline/functions/image_processing/extract_graph.py:169: FutureWarning: The frame.append method is deprecated and will be removed from pandas in a future version. Use pandas.concat instead.\n",
      "  graph = graph.append(pd.DataFrame(edges[branch]), ignore_index=True)\n",
      "/home/ipausers/kahane/.local/lib/python3.8/site-packages/skimage/feature/corner.py:258: RuntimeWarning: overflow encountered in square\n",
      "  l1 = (M00 + M11) / 2 + np.sqrt(4 * M01 ** 2 + (M00 - M11) ** 2) / 2\n",
      "/home/ipausers/kahane/.local/lib/python3.8/site-packages/skimage/feature/corner.py:259: RuntimeWarning: overflow encountered in square\n",
      "  l2 = (M00 + M11) / 2 - np.sqrt(4 * M01 ** 2 + (M00 - M11) ** 2) / 2\n",
      "/home/ipausers/kahane/.local/lib/python3.8/site-packages/skimage/filters/ridges.py:50: RuntimeWarning: invalid value encountered in true_divide\n",
      "  return np.divide(array1, denominator)\n",
      "/home/ipausers/kahane/.local/lib/python3.8/site-packages/skimage/filters/ridges.py:152: RuntimeWarning: overflow encountered in multiply\n",
      "  hessian_elements = [(sigma ** 2) * e for e in hessian_elements]\n",
      "/home/ipausers/kahane/.local/lib/python3.8/site-packages/skimage/feature/corner.py:258: RuntimeWarning: invalid value encountered in add\n",
      "  l1 = (M00 + M11) / 2 + np.sqrt(4 * M01 ** 2 + (M00 - M11) ** 2) / 2\n",
      "/home/ipausers/kahane/.local/lib/python3.8/site-packages/skimage/feature/corner.py:259: RuntimeWarning: invalid value encountered in subtract\n",
      "  l2 = (M00 + M11) / 2 - np.sqrt(4 * M01 ** 2 + (M00 - M11) ** 2) / 2\n",
      "/home/ipausers/kahane/Wks/AMFtrack/amftrack/pipeline/functions/image_processing/extract_graph.py:169: FutureWarning: The frame.append method is deprecated and will be removed from pandas in a future version. Use pandas.concat instead.\n",
      "  graph = graph.append(pd.DataFrame(edges[branch]), ignore_index=True)\n",
      "/home/ipausers/kahane/Wks/AMFtrack/amftrack/pipeline/functions/image_processing/extract_graph.py:169: FutureWarning: The frame.append method is deprecated and will be removed from pandas in a future version. Use pandas.concat instead.\n",
      "  graph = graph.append(pd.DataFrame(edges[branch]), ignore_index=True)\n",
      "/home/ipausers/kahane/Wks/AMFtrack/amftrack/pipeline/functions/image_processing/extract_graph.py:169: FutureWarning: The frame.append method is deprecated and will be removed from pandas in a future version. Use pandas.concat instead.\n",
      "  graph = graph.append(pd.DataFrame(edges[branch]), ignore_index=True)\n",
      "/home/ipausers/kahane/Wks/AMFtrack/amftrack/pipeline/functions/image_processing/extract_skel.py:112: RuntimeWarning: invalid value encountered in multiply\n",
      "  / ((im_blurred == 0) * np.ones(im_blurred.shape) + im_blurred)\n",
      "/home/ipausers/kahane/Wks/AMFtrack/amftrack/pipeline/functions/image_processing/extract_graph.py:169: FutureWarning: The frame.append method is deprecated and will be removed from pandas in a future version. Use pandas.concat instead.\n",
      "  graph = graph.append(pd.DataFrame(edges[branch]), ignore_index=True)\n",
      "/home/ipausers/kahane/Wks/AMFtrack/amftrack/pipeline/functions/image_processing/extract_graph.py:169: FutureWarning: The frame.append method is deprecated and will be removed from pandas in a future version. Use pandas.concat instead.\n",
      "  graph = graph.append(pd.DataFrame(edges[branch]), ignore_index=True)\n",
      "/home/ipausers/kahane/Wks/AMFtrack/amftrack/pipeline/functions/image_processing/extract_graph.py:169: FutureWarning: The frame.append method is deprecated and will be removed from pandas in a future version. Use pandas.concat instead.\n",
      "  graph = graph.append(pd.DataFrame(edges[branch]), ignore_index=True)\n",
      "/home/ipausers/kahane/Wks/AMFtrack/amftrack/pipeline/functions/image_processing/extract_graph.py:169: FutureWarning: The frame.append method is deprecated and will be removed from pandas in a future version. Use pandas.concat instead.\n",
      "  graph = graph.append(pd.DataFrame(edges[branch]), ignore_index=True)\n",
      "/home/ipausers/kahane/Wks/AMFtrack/amftrack/pipeline/functions/image_processing/extract_graph.py:169: FutureWarning: The frame.append method is deprecated and will be removed from pandas in a future version. Use pandas.concat instead.\n",
      "  graph = graph.append(pd.DataFrame(edges[branch]), ignore_index=True)\n",
      "/home/ipausers/kahane/Wks/AMFtrack/amftrack/pipeline/functions/image_processing/extract_graph.py:169: FutureWarning: The frame.append method is deprecated and will be removed from pandas in a future version. Use pandas.concat instead.\n",
      "  graph = graph.append(pd.DataFrame(edges[branch]), ignore_index=True)\n",
      "/home/ipausers/kahane/Wks/AMFtrack/amftrack/pipeline/functions/image_processing/extract_graph.py:169: FutureWarning: The frame.append method is deprecated and will be removed from pandas in a future version. Use pandas.concat instead.\n",
      "  graph = graph.append(pd.DataFrame(edges[branch]), ignore_index=True)\n",
      "/home/ipausers/kahane/.local/lib/python3.8/site-packages/skimage/feature/corner.py:258: RuntimeWarning: overflow encountered in square\n",
      "  l1 = (M00 + M11) / 2 + np.sqrt(4 * M01 ** 2 + (M00 - M11) ** 2) / 2\n",
      "/home/ipausers/kahane/.local/lib/python3.8/site-packages/skimage/feature/corner.py:259: RuntimeWarning: overflow encountered in square\n",
      "  l2 = (M00 + M11) / 2 - np.sqrt(4 * M01 ** 2 + (M00 - M11) ** 2) / 2\n",
      "/home/ipausers/kahane/.local/lib/python3.8/site-packages/skimage/filters/ridges.py:50: RuntimeWarning: invalid value encountered in true_divide\n",
      "  return np.divide(array1, denominator)\n",
      "/home/ipausers/kahane/Wks/AMFtrack/amftrack/pipeline/functions/image_processing/extract_graph.py:169: FutureWarning: The frame.append method is deprecated and will be removed from pandas in a future version. Use pandas.concat instead.\n",
      "  graph = graph.append(pd.DataFrame(edges[branch]), ignore_index=True)\n",
      "/home/ipausers/kahane/Wks/AMFtrack/amftrack/pipeline/functions/image_processing/extract_graph.py:169: FutureWarning: The frame.append method is deprecated and will be removed from pandas in a future version. Use pandas.concat instead.\n",
      "  graph = graph.append(pd.DataFrame(edges[branch]), ignore_index=True)\n",
      "/home/ipausers/kahane/Wks/AMFtrack/amftrack/pipeline/functions/image_processing/extract_graph.py:169: FutureWarning: The frame.append method is deprecated and will be removed from pandas in a future version. Use pandas.concat instead.\n",
      "  graph = graph.append(pd.DataFrame(edges[branch]), ignore_index=True)\n",
      "/home/ipausers/kahane/Wks/AMFtrack/amftrack/pipeline/functions/image_processing/extract_graph.py:169: FutureWarning: The frame.append method is deprecated and will be removed from pandas in a future version. Use pandas.concat instead.\n",
      "  graph = graph.append(pd.DataFrame(edges[branch]), ignore_index=True)\n",
      "/home/ipausers/kahane/.local/lib/python3.8/site-packages/skimage/feature/corner.py:259: RuntimeWarning: invalid value encountered in subtract\n",
      "  l2 = (M00 + M11) / 2 - np.sqrt(4 * M01 ** 2 + (M00 - M11) ** 2) / 2\n",
      "/home/ipausers/kahane/Wks/AMFtrack/amftrack/pipeline/functions/image_processing/extract_graph.py:169: FutureWarning: The frame.append method is deprecated and will be removed from pandas in a future version. Use pandas.concat instead.\n",
      "  graph = graph.append(pd.DataFrame(edges[branch]), ignore_index=True)\n",
      "/home/ipausers/kahane/Wks/AMFtrack/amftrack/pipeline/functions/image_processing/extract_graph.py:169: FutureWarning: The frame.append method is deprecated and will be removed from pandas in a future version. Use pandas.concat instead.\n",
      "  graph = graph.append(pd.DataFrame(edges[branch]), ignore_index=True)\n",
      "/home/ipausers/kahane/Wks/AMFtrack/amftrack/pipeline/functions/image_processing/extract_graph.py:169: FutureWarning: The frame.append method is deprecated and will be removed from pandas in a future version. Use pandas.concat instead.\n",
      "  graph = graph.append(pd.DataFrame(edges[branch]), ignore_index=True)\n",
      "/home/ipausers/kahane/Wks/AMFtrack/amftrack/pipeline/functions/image_processing/extract_graph.py:169: FutureWarning: The frame.append method is deprecated and will be removed from pandas in a future version. Use pandas.concat instead.\n",
      "  graph = graph.append(pd.DataFrame(edges[branch]), ignore_index=True)\n",
      "/home/ipausers/kahane/Wks/AMFtrack/amftrack/pipeline/functions/image_processing/extract_graph.py:169: FutureWarning: The frame.append method is deprecated and will be removed from pandas in a future version. Use pandas.concat instead.\n",
      "  graph = graph.append(pd.DataFrame(edges[branch]), ignore_index=True)\n",
      "/home/ipausers/kahane/Wks/AMFtrack/amftrack/pipeline/functions/image_processing/extract_graph.py:169: FutureWarning: The frame.append method is deprecated and will be removed from pandas in a future version. Use pandas.concat instead.\n",
      "  graph = graph.append(pd.DataFrame(edges[branch]), ignore_index=True)\n",
      "/home/ipausers/kahane/.local/lib/python3.8/site-packages/skimage/filters/ridges.py:479: RuntimeWarning: overflow encountered in square\n",
      "  r_g = sum([lambda1 ** 2] + [lambdai ** 2 for lambdai in lambdas])\n",
      "/home/ipausers/kahane/Wks/AMFtrack/amftrack/pipeline/functions/image_processing/extract_graph.py:169: FutureWarning: The frame.append method is deprecated and will be removed from pandas in a future version. Use pandas.concat instead.\n",
      "  graph = graph.append(pd.DataFrame(edges[branch]), ignore_index=True)\n",
      "/home/ipausers/kahane/Wks/AMFtrack/amftrack/pipeline/functions/image_processing/extract_graph.py:169: FutureWarning: The frame.append method is deprecated and will be removed from pandas in a future version. Use pandas.concat instead.\n",
      "  graph = graph.append(pd.DataFrame(edges[branch]), ignore_index=True)\n",
      "/home/ipausers/kahane/.local/lib/python3.8/site-packages/skimage/filters/ridges.py:479: RuntimeWarning: overflow encountered in square\n",
      "  r_g = sum([lambda1 ** 2] + [lambdai ** 2 for lambdai in lambdas])\n",
      "/home/ipausers/kahane/Wks/AMFtrack/amftrack/pipeline/functions/image_processing/extract_graph.py:169: FutureWarning: The frame.append method is deprecated and will be removed from pandas in a future version. Use pandas.concat instead.\n",
      "  graph = graph.append(pd.DataFrame(edges[branch]), ignore_index=True)\n",
      "/home/ipausers/kahane/Wks/AMFtrack/amftrack/pipeline/functions/image_processing/extract_graph.py:169: FutureWarning: The frame.append method is deprecated and will be removed from pandas in a future version. Use pandas.concat instead.\n",
      "  graph = graph.append(pd.DataFrame(edges[branch]), ignore_index=True)\n",
      "/home/ipausers/kahane/Wks/AMFtrack/amftrack/pipeline/functions/image_processing/extract_graph.py:169: FutureWarning: The frame.append method is deprecated and will be removed from pandas in a future version. Use pandas.concat instead.\n",
      "  graph = graph.append(pd.DataFrame(edges[branch]), ignore_index=True)\n",
      "/home/ipausers/kahane/Wks/AMFtrack/amftrack/pipeline/functions/image_processing/extract_graph.py:169: FutureWarning: The frame.append method is deprecated and will be removed from pandas in a future version. Use pandas.concat instead.\n",
      "  graph = graph.append(pd.DataFrame(edges[branch]), ignore_index=True)\n",
      "/home/ipausers/kahane/Wks/AMFtrack/amftrack/pipeline/functions/image_processing/extract_graph.py:169: FutureWarning: The frame.append method is deprecated and will be removed from pandas in a future version. Use pandas.concat instead.\n",
      "  graph = graph.append(pd.DataFrame(edges[branch]), ignore_index=True)\n",
      "/home/ipausers/kahane/.local/lib/python3.8/site-packages/skimage/filters/ridges.py:479: RuntimeWarning: overflow encountered in square\n",
      "  r_g = sum([lambda1 ** 2] + [lambdai ** 2 for lambdai in lambdas])\n",
      "/home/ipausers/kahane/Wks/AMFtrack/amftrack/pipeline/functions/image_processing/extract_graph.py:169: FutureWarning: The frame.append method is deprecated and will be removed from pandas in a future version. Use pandas.concat instead.\n",
      "  graph = graph.append(pd.DataFrame(edges[branch]), ignore_index=True)\n",
      "/home/ipausers/kahane/Wks/AMFtrack/amftrack/pipeline/functions/image_processing/extract_graph.py:169: FutureWarning: The frame.append method is deprecated and will be removed from pandas in a future version. Use pandas.concat instead.\n",
      "  graph = graph.append(pd.DataFrame(edges[branch]), ignore_index=True)\n",
      "/home/ipausers/kahane/Wks/AMFtrack/amftrack/pipeline/functions/image_processing/extract_graph.py:169: FutureWarning: The frame.append method is deprecated and will be removed from pandas in a future version. Use pandas.concat instead.\n",
      "  graph = graph.append(pd.DataFrame(edges[branch]), ignore_index=True)\n",
      "/home/ipausers/kahane/Wks/AMFtrack/amftrack/pipeline/functions/image_processing/extract_graph.py:169: FutureWarning: The frame.append method is deprecated and will be removed from pandas in a future version. Use pandas.concat instead.\n",
      "  graph = graph.append(pd.DataFrame(edges[branch]), ignore_index=True)\n",
      "/home/ipausers/kahane/Wks/AMFtrack/amftrack/pipeline/functions/image_processing/extract_graph.py:169: FutureWarning: The frame.append method is deprecated and will be removed from pandas in a future version. Use pandas.concat instead.\n",
      "  graph = graph.append(pd.DataFrame(edges[branch]), ignore_index=True)\n",
      "/home/ipausers/kahane/Wks/AMFtrack/amftrack/pipeline/functions/image_processing/extract_graph.py:169: FutureWarning: The frame.append method is deprecated and will be removed from pandas in a future version. Use pandas.concat instead.\n",
      "  graph = graph.append(pd.DataFrame(edges[branch]), ignore_index=True)\n",
      "/home/ipausers/kahane/Wks/AMFtrack/amftrack/pipeline/functions/image_processing/extract_graph.py:169: FutureWarning: The frame.append method is deprecated and will be removed from pandas in a future version. Use pandas.concat instead.\n",
      "  graph = graph.append(pd.DataFrame(edges[branch]), ignore_index=True)\n",
      "/home/ipausers/kahane/Wks/AMFtrack/amftrack/pipeline/functions/image_processing/extract_graph.py:169: FutureWarning: The frame.append method is deprecated and will be removed from pandas in a future version. Use pandas.concat instead.\n",
      "  graph = graph.append(pd.DataFrame(edges[branch]), ignore_index=True)\n",
      "/home/ipausers/kahane/Wks/AMFtrack/amftrack/pipeline/functions/image_processing/extract_graph.py:169: FutureWarning: The frame.append method is deprecated and will be removed from pandas in a future version. Use pandas.concat instead.\n",
      "  graph = graph.append(pd.DataFrame(edges[branch]), ignore_index=True)\n",
      "/home/ipausers/kahane/Wks/AMFtrack/amftrack/pipeline/functions/image_processing/extract_graph.py:169: FutureWarning: The frame.append method is deprecated and will be removed from pandas in a future version. Use pandas.concat instead.\n",
      "  graph = graph.append(pd.DataFrame(edges[branch]), ignore_index=True)\n",
      "/home/ipausers/kahane/Wks/AMFtrack/amftrack/pipeline/functions/image_processing/extract_graph.py:169: FutureWarning: The frame.append method is deprecated and will be removed from pandas in a future version. Use pandas.concat instead.\n",
      "  graph = graph.append(pd.DataFrame(edges[branch]), ignore_index=True)\n",
      "/home/ipausers/kahane/Wks/AMFtrack/amftrack/pipeline/functions/image_processing/extract_graph.py:169: FutureWarning: The frame.append method is deprecated and will be removed from pandas in a future version. Use pandas.concat instead.\n",
      "  graph = graph.append(pd.DataFrame(edges[branch]), ignore_index=True)\n"
     ]
    },
    {
     "name": "stderr",
     "output_type": "stream",
     "text": [
      "/home/ipausers/kahane/Wks/AMFtrack/amftrack/pipeline/functions/image_processing/extract_graph.py:169: FutureWarning: The frame.append method is deprecated and will be removed from pandas in a future version. Use pandas.concat instead.\n",
      "  graph = graph.append(pd.DataFrame(edges[branch]), ignore_index=True)\n",
      "/home/ipausers/kahane/Wks/AMFtrack/amftrack/pipeline/functions/image_processing/extract_graph.py:169: FutureWarning: The frame.append method is deprecated and will be removed from pandas in a future version. Use pandas.concat instead.\n",
      "  graph = graph.append(pd.DataFrame(edges[branch]), ignore_index=True)\n",
      "/home/ipausers/kahane/Wks/AMFtrack/amftrack/pipeline/functions/image_processing/extract_graph.py:169: FutureWarning: The frame.append method is deprecated and will be removed from pandas in a future version. Use pandas.concat instead.\n",
      "  # TODO(FK): Use pandas.concat instead (Frame.append soon deprecated)\n",
      "/home/ipausers/kahane/Wks/AMFtrack/amftrack/pipeline/functions/image_processing/extract_graph.py:169: FutureWarning: The frame.append method is deprecated and will be removed from pandas in a future version. Use pandas.concat instead.\n",
      "  # TODO(FK): Use pandas.concat instead (Frame.append soon deprecated)\n",
      "/home/ipausers/kahane/Wks/AMFtrack/amftrack/pipeline/functions/image_processing/extract_graph.py:169: FutureWarning: The frame.append method is deprecated and will be removed from pandas in a future version. Use pandas.concat instead.\n",
      "  # TODO(FK): Use pandas.concat instead (Frame.append soon deprecated)\n",
      "/home/ipausers/kahane/Wks/AMFtrack/amftrack/pipeline/functions/image_processing/extract_graph.py:169: FutureWarning: The frame.append method is deprecated and will be removed from pandas in a future version. Use pandas.concat instead.\n",
      "  # TODO(FK): Use pandas.concat instead (Frame.append soon deprecated)\n",
      "/home/ipausers/kahane/Wks/AMFtrack/amftrack/pipeline/functions/image_processing/extract_graph.py:169: FutureWarning: The frame.append method is deprecated and will be removed from pandas in a future version. Use pandas.concat instead.\n",
      "  # TODO(FK): Use pandas.concat instead (Frame.append soon deprecated)\n",
      "/home/ipausers/kahane/Wks/AMFtrack/amftrack/pipeline/functions/image_processing/extract_graph.py:169: FutureWarning: The frame.append method is deprecated and will be removed from pandas in a future version. Use pandas.concat instead.\n",
      "  # TODO(FK): Use pandas.concat instead (Frame.append soon deprecated)\n",
      "/home/ipausers/kahane/Wks/AMFtrack/amftrack/pipeline/functions/image_processing/extract_graph.py:169: FutureWarning: The frame.append method is deprecated and will be removed from pandas in a future version. Use pandas.concat instead.\n",
      "  # TODO(FK): Use pandas.concat instead (Frame.append soon deprecated)\n",
      "/home/ipausers/kahane/Wks/AMFtrack/amftrack/pipeline/functions/image_processing/extract_graph.py:169: FutureWarning: The frame.append method is deprecated and will be removed from pandas in a future version. Use pandas.concat instead.\n",
      "  # TODO(FK): Use pandas.concat instead (Frame.append soon deprecated)\n",
      "/home/ipausers/kahane/.local/lib/python3.8/site-packages/skimage/filters/ridges.py:479: RuntimeWarning: overflow encountered in square\n",
      "  r_g = sum([lambda1 ** 2] + [lambdai ** 2 for lambdai in lambdas])\n",
      "/home/ipausers/kahane/Wks/AMFtrack/amftrack/pipeline/functions/image_processing/extract_graph.py:169: FutureWarning: The frame.append method is deprecated and will be removed from pandas in a future version. Use pandas.concat instead.\n",
      "  # TODO(FK): Use pandas.concat instead (Frame.append soon deprecated)\n",
      "/home/ipausers/kahane/Wks/AMFtrack/amftrack/pipeline/functions/image_processing/extract_graph.py:169: FutureWarning: The frame.append method is deprecated and will be removed from pandas in a future version. Use pandas.concat instead.\n",
      "  # TODO(FK): Use pandas.concat instead (Frame.append soon deprecated)\n",
      "/home/ipausers/kahane/Wks/AMFtrack/amftrack/pipeline/functions/image_processing/extract_graph.py:169: FutureWarning: The frame.append method is deprecated and will be removed from pandas in a future version. Use pandas.concat instead.\n",
      "  # TODO(FK): Use pandas.concat instead (Frame.append soon deprecated)\n",
      "/home/ipausers/kahane/Wks/AMFtrack/amftrack/pipeline/functions/image_processing/extract_graph.py:169: FutureWarning: The frame.append method is deprecated and will be removed from pandas in a future version. Use pandas.concat instead.\n",
      "  # TODO(FK): Use pandas.concat instead (Frame.append soon deprecated)\n",
      "/home/ipausers/kahane/Wks/AMFtrack/amftrack/pipeline/functions/image_processing/extract_graph.py:169: FutureWarning: The frame.append method is deprecated and will be removed from pandas in a future version. Use pandas.concat instead.\n",
      "  # TODO(FK): Use pandas.concat instead (Frame.append soon deprecated)\n",
      "/home/ipausers/kahane/Wks/AMFtrack/amftrack/pipeline/functions/image_processing/extract_graph.py:169: FutureWarning: The frame.append method is deprecated and will be removed from pandas in a future version. Use pandas.concat instead.\n",
      "  # TODO(FK): Use pandas.concat instead (Frame.append soon deprecated)\n",
      "/home/ipausers/kahane/Wks/AMFtrack/amftrack/pipeline/functions/image_processing/extract_graph.py:169: FutureWarning: The frame.append method is deprecated and will be removed from pandas in a future version. Use pandas.concat instead.\n",
      "  # TODO(FK): Use pandas.concat instead (Frame.append soon deprecated)\n",
      "/home/ipausers/kahane/Wks/AMFtrack/amftrack/pipeline/functions/image_processing/extract_graph.py:169: FutureWarning: The frame.append method is deprecated and will be removed from pandas in a future version. Use pandas.concat instead.\n",
      "  # TODO(FK): Use pandas.concat instead (Frame.append soon deprecated)\n",
      "/home/ipausers/kahane/Wks/AMFtrack/amftrack/pipeline/functions/image_processing/extract_graph.py:169: FutureWarning: The frame.append method is deprecated and will be removed from pandas in a future version. Use pandas.concat instead.\n",
      "  # TODO(FK): Use pandas.concat instead (Frame.append soon deprecated)\n",
      "/home/ipausers/kahane/Wks/AMFtrack/amftrack/pipeline/functions/image_processing/extract_graph.py:169: FutureWarning: The frame.append method is deprecated and will be removed from pandas in a future version. Use pandas.concat instead.\n",
      "  # TODO(FK): Use pandas.concat instead (Frame.append soon deprecated)\n",
      "/home/ipausers/kahane/Wks/AMFtrack/amftrack/pipeline/functions/image_processing/extract_graph.py:169: FutureWarning: The frame.append method is deprecated and will be removed from pandas in a future version. Use pandas.concat instead.\n",
      "  # TODO(FK): Use pandas.concat instead (Frame.append soon deprecated)\n",
      "/home/ipausers/kahane/Wks/AMFtrack/amftrack/pipeline/functions/image_processing/extract_graph.py:169: FutureWarning: The frame.append method is deprecated and will be removed from pandas in a future version. Use pandas.concat instead.\n",
      "  # TODO(FK): Use pandas.concat instead (Frame.append soon deprecated)\n",
      "/home/ipausers/kahane/Wks/AMFtrack/amftrack/pipeline/functions/image_processing/extract_graph.py:169: FutureWarning: The frame.append method is deprecated and will be removed from pandas in a future version. Use pandas.concat instead.\n",
      "  # TODO(FK): Use pandas.concat instead (Frame.append soon deprecated)\n",
      "/home/ipausers/kahane/Wks/AMFtrack/amftrack/pipeline/functions/image_processing/extract_graph.py:169: FutureWarning: The frame.append method is deprecated and will be removed from pandas in a future version. Use pandas.concat instead.\n",
      "  # TODO(FK): Use pandas.concat instead (Frame.append soon deprecated)\n",
      "/home/ipausers/kahane/Wks/AMFtrack/amftrack/pipeline/functions/image_processing/extract_graph.py:169: FutureWarning: The frame.append method is deprecated and will be removed from pandas in a future version. Use pandas.concat instead.\n",
      "  # TODO(FK): Use pandas.concat instead (Frame.append soon deprecated)\n",
      "/home/ipausers/kahane/Wks/AMFtrack/amftrack/pipeline/functions/image_processing/extract_graph.py:169: FutureWarning: The frame.append method is deprecated and will be removed from pandas in a future version. Use pandas.concat instead.\n",
      "  # TODO(FK): Use pandas.concat instead (Frame.append soon deprecated)\n",
      "/home/ipausers/kahane/Wks/AMFtrack/amftrack/pipeline/functions/image_processing/extract_graph.py:169: FutureWarning: The frame.append method is deprecated and will be removed from pandas in a future version. Use pandas.concat instead.\n",
      "  # TODO(FK): Use pandas.concat instead (Frame.append soon deprecated)\n",
      "/home/ipausers/kahane/Wks/AMFtrack/amftrack/pipeline/functions/image_processing/extract_graph.py:169: FutureWarning: The frame.append method is deprecated and will be removed from pandas in a future version. Use pandas.concat instead.\n",
      "  # TODO(FK): Use pandas.concat instead (Frame.append soon deprecated)\n",
      "/home/ipausers/kahane/Wks/AMFtrack/amftrack/pipeline/functions/image_processing/extract_graph.py:169: FutureWarning: The frame.append method is deprecated and will be removed from pandas in a future version. Use pandas.concat instead.\n",
      "  # TODO(FK): Use pandas.concat instead (Frame.append soon deprecated)\n",
      "/home/ipausers/kahane/Wks/AMFtrack/amftrack/pipeline/functions/image_processing/extract_graph.py:169: FutureWarning: The frame.append method is deprecated and will be removed from pandas in a future version. Use pandas.concat instead.\n",
      "  # TODO(FK): Use pandas.concat instead (Frame.append soon deprecated)\n",
      "/home/ipausers/kahane/Wks/AMFtrack/amftrack/pipeline/functions/image_processing/extract_graph.py:169: FutureWarning: The frame.append method is deprecated and will be removed from pandas in a future version. Use pandas.concat instead.\n",
      "  # TODO(FK): Use pandas.concat instead (Frame.append soon deprecated)\n",
      "/home/ipausers/kahane/Wks/AMFtrack/amftrack/pipeline/functions/image_processing/extract_graph.py:169: FutureWarning: The frame.append method is deprecated and will be removed from pandas in a future version. Use pandas.concat instead.\n",
      "  # TODO(FK): Use pandas.concat instead (Frame.append soon deprecated)\n",
      "/home/ipausers/kahane/Wks/AMFtrack/amftrack/pipeline/functions/image_processing/extract_graph.py:169: FutureWarning: The frame.append method is deprecated and will be removed from pandas in a future version. Use pandas.concat instead.\n",
      "  # TODO(FK): Use pandas.concat instead (Frame.append soon deprecated)\n",
      "/home/ipausers/kahane/Wks/AMFtrack/amftrack/pipeline/functions/image_processing/extract_graph.py:169: FutureWarning: The frame.append method is deprecated and will be removed from pandas in a future version. Use pandas.concat instead.\n",
      "  # TODO(FK): Use pandas.concat instead (Frame.append soon deprecated)\n",
      "/home/ipausers/kahane/Wks/AMFtrack/amftrack/pipeline/functions/image_processing/extract_graph.py:169: FutureWarning: The frame.append method is deprecated and will be removed from pandas in a future version. Use pandas.concat instead.\n",
      "  # TODO(FK): Use pandas.concat instead (Frame.append soon deprecated)\n",
      "/home/ipausers/kahane/Wks/AMFtrack/amftrack/pipeline/functions/image_processing/extract_graph.py:169: FutureWarning: The frame.append method is deprecated and will be removed from pandas in a future version. Use pandas.concat instead.\n",
      "  # TODO(FK): Use pandas.concat instead (Frame.append soon deprecated)\n",
      "/home/ipausers/kahane/Wks/AMFtrack/amftrack/pipeline/functions/image_processing/extract_graph.py:169: FutureWarning: The frame.append method is deprecated and will be removed from pandas in a future version. Use pandas.concat instead.\n",
      "  # TODO(FK): Use pandas.concat instead (Frame.append soon deprecated)\n",
      "/home/ipausers/kahane/Wks/AMFtrack/amftrack/pipeline/functions/image_processing/extract_graph.py:169: FutureWarning: The frame.append method is deprecated and will be removed from pandas in a future version. Use pandas.concat instead.\n",
      "  # TODO(FK): Use pandas.concat instead (Frame.append soon deprecated)\n",
      "/home/ipausers/kahane/Wks/AMFtrack/amftrack/pipeline/functions/image_processing/extract_graph.py:169: FutureWarning: The frame.append method is deprecated and will be removed from pandas in a future version. Use pandas.concat instead.\n",
      "  # TODO(FK): Use pandas.concat instead (Frame.append soon deprecated)\n",
      "/home/ipausers/kahane/Wks/AMFtrack/amftrack/pipeline/functions/image_processing/extract_graph.py:169: FutureWarning: The frame.append method is deprecated and will be removed from pandas in a future version. Use pandas.concat instead.\n",
      "  # TODO(FK): Use pandas.concat instead (Frame.append soon deprecated)\n",
      "/home/ipausers/kahane/Wks/AMFtrack/amftrack/pipeline/functions/image_processing/extract_graph.py:169: FutureWarning: The frame.append method is deprecated and will be removed from pandas in a future version. Use pandas.concat instead.\n",
      "  # TODO(FK): Use pandas.concat instead (Frame.append soon deprecated)\n",
      "/home/ipausers/kahane/Wks/AMFtrack/amftrack/pipeline/functions/image_processing/extract_graph.py:169: FutureWarning: The frame.append method is deprecated and will be removed from pandas in a future version. Use pandas.concat instead.\n",
      "  # TODO(FK): Use pandas.concat instead (Frame.append soon deprecated)\n",
      "/home/ipausers/kahane/Wks/AMFtrack/amftrack/pipeline/functions/image_processing/extract_graph.py:169: FutureWarning: The frame.append method is deprecated and will be removed from pandas in a future version. Use pandas.concat instead.\n",
      "  # TODO(FK): Use pandas.concat instead (Frame.append soon deprecated)\n",
      "/home/ipausers/kahane/Wks/AMFtrack/amftrack/pipeline/functions/image_processing/extract_graph.py:169: FutureWarning: The frame.append method is deprecated and will be removed from pandas in a future version. Use pandas.concat instead.\n",
      "  # TODO(FK): Use pandas.concat instead (Frame.append soon deprecated)\n",
      "/home/ipausers/kahane/Wks/AMFtrack/amftrack/pipeline/functions/image_processing/extract_graph.py:169: FutureWarning: The frame.append method is deprecated and will be removed from pandas in a future version. Use pandas.concat instead.\n",
      "  # TODO(FK): Use pandas.concat instead (Frame.append soon deprecated)\n",
      "/home/ipausers/kahane/Wks/AMFtrack/amftrack/pipeline/functions/image_processing/extract_graph.py:169: FutureWarning: The frame.append method is deprecated and will be removed from pandas in a future version. Use pandas.concat instead.\n",
      "  # TODO(FK): Use pandas.concat instead (Frame.append soon deprecated)\n",
      "/home/ipausers/kahane/Wks/AMFtrack/amftrack/pipeline/functions/image_processing/extract_graph.py:169: FutureWarning: The frame.append method is deprecated and will be removed from pandas in a future version. Use pandas.concat instead.\n",
      "  # TODO(FK): Use pandas.concat instead (Frame.append soon deprecated)\n",
      "/home/ipausers/kahane/Wks/AMFtrack/amftrack/pipeline/functions/image_processing/extract_graph.py:169: FutureWarning: The frame.append method is deprecated and will be removed from pandas in a future version. Use pandas.concat instead.\n",
      "  # TODO(FK): Use pandas.concat instead (Frame.append soon deprecated)\n",
      "/home/ipausers/kahane/Wks/AMFtrack/amftrack/pipeline/functions/image_processing/extract_graph.py:169: FutureWarning: The frame.append method is deprecated and will be removed from pandas in a future version. Use pandas.concat instead.\n",
      "  # TODO(FK): Use pandas.concat instead (Frame.append soon deprecated)\n",
      "/home/ipausers/kahane/Wks/AMFtrack/amftrack/pipeline/functions/image_processing/extract_graph.py:169: FutureWarning: The frame.append method is deprecated and will be removed from pandas in a future version. Use pandas.concat instead.\n",
      "  # TODO(FK): Use pandas.concat instead (Frame.append soon deprecated)\n",
      "/home/ipausers/kahane/Wks/AMFtrack/amftrack/pipeline/functions/image_processing/extract_graph.py:169: FutureWarning: The frame.append method is deprecated and will be removed from pandas in a future version. Use pandas.concat instead.\n",
      "  # TODO(FK): Use pandas.concat instead (Frame.append soon deprecated)\n",
      "/home/ipausers/kahane/Wks/AMFtrack/amftrack/pipeline/functions/image_processing/extract_graph.py:169: FutureWarning: The frame.append method is deprecated and will be removed from pandas in a future version. Use pandas.concat instead.\n",
      "  # TODO(FK): Use pandas.concat instead (Frame.append soon deprecated)\n"
     ]
    },
    {
     "name": "stderr",
     "output_type": "stream",
     "text": [
      "/home/ipausers/kahane/Wks/AMFtrack/amftrack/pipeline/functions/image_processing/extract_graph.py:169: FutureWarning: The frame.append method is deprecated and will be removed from pandas in a future version. Use pandas.concat instead.\n",
      "  # TODO(FK): Use pandas.concat instead (Frame.append soon deprecated)\n",
      "/home/ipausers/kahane/Wks/AMFtrack/amftrack/pipeline/functions/image_processing/extract_graph.py:169: FutureWarning: The frame.append method is deprecated and will be removed from pandas in a future version. Use pandas.concat instead.\n",
      "  # TODO(FK): Use pandas.concat instead (Frame.append soon deprecated)\n",
      "/home/ipausers/kahane/Wks/AMFtrack/amftrack/pipeline/functions/image_processing/extract_graph.py:169: FutureWarning: The frame.append method is deprecated and will be removed from pandas in a future version. Use pandas.concat instead.\n",
      "  # TODO(FK): Use pandas.concat instead (Frame.append soon deprecated)\n",
      "/home/ipausers/kahane/Wks/AMFtrack/amftrack/pipeline/functions/image_processing/extract_graph.py:169: FutureWarning: The frame.append method is deprecated and will be removed from pandas in a future version. Use pandas.concat instead.\n",
      "  # TODO(FK): Use pandas.concat instead (Frame.append soon deprecated)\n",
      "/home/ipausers/kahane/Wks/AMFtrack/amftrack/pipeline/functions/image_processing/extract_graph.py:169: FutureWarning: The frame.append method is deprecated and will be removed from pandas in a future version. Use pandas.concat instead.\n",
      "  # TODO(FK): Use pandas.concat instead (Frame.append soon deprecated)\n",
      "/home/ipausers/kahane/Wks/AMFtrack/amftrack/pipeline/functions/image_processing/extract_graph.py:169: FutureWarning: The frame.append method is deprecated and will be removed from pandas in a future version. Use pandas.concat instead.\n",
      "  # TODO(FK): Use pandas.concat instead (Frame.append soon deprecated)\n",
      "/home/ipausers/kahane/Wks/AMFtrack/amftrack/pipeline/functions/image_processing/extract_graph.py:169: FutureWarning: The frame.append method is deprecated and will be removed from pandas in a future version. Use pandas.concat instead.\n",
      "  # TODO(FK): Use pandas.concat instead (Frame.append soon deprecated)\n",
      "/home/ipausers/kahane/Wks/AMFtrack/amftrack/pipeline/functions/image_processing/extract_graph.py:169: FutureWarning: The frame.append method is deprecated and will be removed from pandas in a future version. Use pandas.concat instead.\n",
      "  # TODO(FK): Use pandas.concat instead (Frame.append soon deprecated)\n",
      "/home/ipausers/kahane/Wks/AMFtrack/amftrack/pipeline/functions/image_processing/extract_graph.py:169: FutureWarning: The frame.append method is deprecated and will be removed from pandas in a future version. Use pandas.concat instead.\n",
      "  # TODO(FK): Use pandas.concat instead (Frame.append soon deprecated)\n",
      "/home/ipausers/kahane/Wks/AMFtrack/amftrack/pipeline/functions/image_processing/extract_graph.py:169: FutureWarning: The frame.append method is deprecated and will be removed from pandas in a future version. Use pandas.concat instead.\n",
      "  # TODO(FK): Use pandas.concat instead (Frame.append soon deprecated)\n",
      "/home/ipausers/kahane/Wks/AMFtrack/amftrack/pipeline/functions/image_processing/extract_graph.py:169: FutureWarning: The frame.append method is deprecated and will be removed from pandas in a future version. Use pandas.concat instead.\n",
      "  # TODO(FK): Use pandas.concat instead (Frame.append soon deprecated)\n",
      "/home/ipausers/kahane/Wks/AMFtrack/amftrack/pipeline/functions/image_processing/extract_graph.py:169: FutureWarning: The frame.append method is deprecated and will be removed from pandas in a future version. Use pandas.concat instead.\n",
      "  # TODO(FK): Use pandas.concat instead (Frame.append soon deprecated)\n",
      "/home/ipausers/kahane/Wks/AMFtrack/amftrack/pipeline/functions/image_processing/extract_graph.py:169: FutureWarning: The frame.append method is deprecated and will be removed from pandas in a future version. Use pandas.concat instead.\n",
      "  # TODO(FK): Use pandas.concat instead (Frame.append soon deprecated)\n",
      "/home/ipausers/kahane/Wks/AMFtrack/amftrack/pipeline/functions/image_processing/extract_graph.py:169: FutureWarning: The frame.append method is deprecated and will be removed from pandas in a future version. Use pandas.concat instead.\n",
      "  # TODO(FK): Use pandas.concat instead (Frame.append soon deprecated)\n",
      "/home/ipausers/kahane/Wks/AMFtrack/amftrack/pipeline/functions/image_processing/extract_graph.py:169: FutureWarning: The frame.append method is deprecated and will be removed from pandas in a future version. Use pandas.concat instead.\n",
      "  # TODO(FK): Use pandas.concat instead (Frame.append soon deprecated)\n",
      "/home/ipausers/kahane/Wks/AMFtrack/amftrack/pipeline/functions/image_processing/extract_graph.py:169: FutureWarning: The frame.append method is deprecated and will be removed from pandas in a future version. Use pandas.concat instead.\n",
      "  # TODO(FK): Use pandas.concat instead (Frame.append soon deprecated)\n"
     ]
    },
    {
     "name": "stdout",
     "output_type": "stream",
     "text": [
      "Directory  /data/felix/width1/full_plates/20220325_1423_Plate907/Analysis  already exists\n",
      "number to reduce :  17640067 1399746433\n",
      "time= 4281.725394487381\n"
     ]
    }
   ],
   "source": [
    "time = '3:00:00'\n",
    "low = 30\n",
    "high = 80\n",
    "extend = 30\n",
    "args=[low, high, extend,directory]\n",
    "run_parallel('extract_skel.py',args,folders)"
   ]
  },
  {
   "cell_type": "markdown",
   "id": "ed0fbb66",
   "metadata": {},
   "source": [
    "## Visualisation"
   ]
  },
  {
   "cell_type": "markdown",
   "id": "245299db",
   "metadata": {},
   "source": [
    "***Visualise the skeletonization***"
   ]
  },
  {
   "cell_type": "code",
   "execution_count": null,
   "id": "75b55e22",
   "metadata": {
    "vscode": {
     "languageId": "json"
    }
   },
   "outputs": [],
   "source": [
    "%matplotlib inline\n",
    "import mpld3\n",
    "mpld3.enable_notebook()"
   ]
  },
  {
   "cell_type": "code",
   "execution_count": null,
   "id": "73622c4f",
   "metadata": {},
   "outputs": [],
   "source": [
    "select = folders\n",
    "folder_list = list(select['total_path'])\n",
    "folder_list.sort()\n",
    "skels = []\n",
    "ims = []\n",
    "kernel = np.ones((5,5),np.uint8)\n",
    "itera = 1\n",
    "start = 0\n",
    "\n",
    "finish = start+2\n",
    "for folder in folder_list[start:finish]:\n",
    "    path_snap=folder\n",
    "    skel_info = read_mat(path_snap+'/Analysis/skeleton_compressed.mat')\n",
    "    skel = skel_info['skeleton']\n",
    "    skels.append(cv2.dilate(skel.astype(np.uint8),kernel,iterations = itera))\n",
    "    im = read_mat(path_snap+'/Analysis/raw_image.mat')['raw']\n",
    "    ims.append(im)"
   ]
  },
  {
   "cell_type": "code",
   "execution_count": null,
   "id": "39301668",
   "metadata": {
    "tags": []
   },
   "outputs": [],
   "source": [
    "plt.close('all')\n",
    "start = 0\n",
    "finish = start + 1\n",
    "for i in range(start,finish):\n",
    "    plot_t_tp1([], [], None, None, skels[i], ims[i])"
   ]
  },
  {
   "cell_type": "markdown",
   "id": "f0a995b6",
   "metadata": {},
   "source": [
    "***These steps may be a bit long, but it also helps just keeping things consistent and use one single framework,*** you may bypass them by artificially renaming skeleton.mat into skeleton_realigned.mat which is necessary for the next step because you probably don't care about these two steps since you're doing only one image..."
   ]
  },
  {
   "cell_type": "code",
   "execution_count": 15,
   "id": "201c8a21",
   "metadata": {},
   "outputs": [
    {
     "data": {
      "application/vnd.jupyter.widget-view+json": {
       "model_id": "c43a6cabc627475abff791d906713a6e",
       "version_major": 2,
       "version_minor": 0
      },
      "text/plain": [
       "stitched:   0%|          | 0/1 [00:00<?, ?it/s]"
      ]
     },
     "metadata": {},
     "output_type": "display_data"
    },
    {
     "name": "stdout",
     "output_type": "stream",
     "text": [
      "python3 /home/ipausers/kahane/Wks/AMFtrack/amftrack/pipeline/scripts/image_processing/mask_skel.py 50 /data/felix/width1/full_plates/ 1649945483289864839 0\n",
      "Directory  /data/felix/width1/full_plates/20220325_1423_Plate907/Analysis  already exists\n"
     ]
    }
   ],
   "source": [
    "time = '2:00'\n",
    "thresh = 50\n",
    "args=[thresh, directory]\n",
    "run_parallel('mask_skel.py',args,folders)"
   ]
  },
  {
   "cell_type": "code",
   "execution_count": 23,
   "id": "89533e87",
   "metadata": {},
   "outputs": [
    {
     "data": {
      "application/vnd.jupyter.widget-view+json": {
       "model_id": "6eb851aa1aab45c08175d089b7ae3708",
       "version_major": 2,
       "version_minor": 0
      },
      "text/plain": [
       "stitched:   0%|          | 0/1 [00:00<?, ?it/s]"
      ]
     },
     "metadata": {},
     "output_type": "display_data"
    },
    {
     "name": "stdout",
     "output_type": "stream",
     "text": [
      "python3 /home/ipausers/kahane/Wks/AMFtrack/amftrack/pipeline/scripts/image_processing/prune_skel.py 0.1 /data/felix/width1/full_plates/ 1649949381831900868 0\n"
     ]
    }
   ],
   "source": [
    "time = '3:00:00'\n",
    "threshold = 0.1\n",
    "args = [threshold, directory]\n",
    "run_parallel('prune_skel.py',args,folders)"
   ]
  },
  {
   "cell_type": "code",
   "execution_count": 24,
   "id": "97ab6de0",
   "metadata": {
    "scrolled": true
   },
   "outputs": [
    {
     "data": {
      "application/vnd.jupyter.widget-view+json": {
       "model_id": "73a70d04f13b4447ab460bee48792721",
       "version_major": 2,
       "version_minor": 0
      },
      "text/plain": [
       "stitched:   0%|          | 0/1 [00:00<?, ?it/s]"
      ]
     },
     "metadata": {},
     "output_type": "display_data"
    },
    {
     "name": "stdout",
     "output_type": "stream",
     "text": [
      "python3 /home/ipausers/kahane/Wks/AMFtrack/amftrack/pipeline/scripts/image_processing/realign.py /data/felix/width1/full_plates/ 1649949541803624321 0\n"
     ]
    },
    {
     "name": "stderr",
     "output_type": "stream",
     "text": [
      "Traceback (most recent call last):\n",
      "  File \"/home/ipausers/kahane/Wks/AMFtrack/amftrack/pipeline/scripts/image_processing/realign.py\", line 36, in <module>\n",
      "    skel_info = read_mat(path_snap + \"/Analysis/skeleton_pruned.mat\")\n",
      "  File \"/home/ipausers/kahane/.local/lib/python3.8/site-packages/pymatreader/pymatreader.py\", line 81, in read_mat\n",
      "    raise IOError('The file %s does not exist.' % (filename,))\n",
      "OSError: The file /data/felix/width1/full_plates/20220325_1423_Plate907/Analysis/skeleton_pruned.mat does not exist.\n"
     ]
    }
   ],
   "source": [
    "plates = list(set(list(folders['Plate'].values)))\n",
    "for plate in plates:\n",
    "    time = '2:00:00'\n",
    "    args = [directory]\n",
    "    run_parallel('realign.py', args, folders)"
   ]
  },
  {
   "cell_type": "markdown",
   "id": "25d7079b",
   "metadata": {},
   "source": [
    "Now you're finally getting to the point where you generate the graph object"
   ]
  },
  {
   "cell_type": "code",
   "execution_count": 25,
   "id": "629feb71",
   "metadata": {},
   "outputs": [
    {
     "data": {
      "application/vnd.jupyter.widget-view+json": {
       "model_id": "031221ff98f54a439dc9de897446bfed",
       "version_major": 2,
       "version_minor": 0
      },
      "text/plain": [
       "stitched:   0%|          | 0/1 [00:00<?, ?it/s]"
      ]
     },
     "metadata": {},
     "output_type": "display_data"
    },
    {
     "name": "stdout",
     "output_type": "stream",
     "text": [
      "python3 /home/ipausers/kahane/Wks/AMFtrack/amftrack/pipeline/scripts/image_processing/extract_nx_graph.py /data/felix/width1/full_plates/ 1649949582746696916 0\n"
     ]
    },
    {
     "name": "stderr",
     "output_type": "stream",
     "text": [
      "Traceback (most recent call last):\n",
      "  File \"/home/ipausers/kahane/Wks/AMFtrack/amftrack/pipeline/scripts/image_processing/extract_nx_graph.py\", line 31, in <module>\n",
      "    skel = read_mat(path_snap + \"/Analysis/skeleton_pruned_realigned.mat\")[\"skeleton\"]\n",
      "  File \"/home/ipausers/kahane/.local/lib/python3.8/site-packages/pymatreader/pymatreader.py\", line 81, in read_mat\n",
      "    raise IOError('The file %s does not exist.' % (filename,))\n",
      "OSError: The file /data/felix/width1/full_plates/20220325_1423_Plate907/Analysis/skeleton_pruned_realigned.mat does not exist.\n"
     ]
    }
   ],
   "source": [
    "time = '2:00:00'\n",
    "args=[directory]\n",
    "run_parallel('extract_nx_graph.py',args, folders)"
   ]
  },
  {
   "cell_type": "markdown",
   "id": "3e6260ed",
   "metadata": {},
   "source": [
    "***and now you have the Experiment object to play with and query images related to position of edges etc...***\n"
   ]
  },
  {
   "cell_type": "code",
   "execution_count": 21,
   "id": "69e5c4cd",
   "metadata": {},
   "outputs": [
    {
     "name": "stdout",
     "output_type": "stream",
     "text": [
      "2022-03-25 14:23:00\n"
     ]
    },
    {
     "ename": "FileNotFoundError",
     "evalue": "[Errno 2] No such file or directory: '/data/felix/width1/full_plates/20220325_1423_Plate907/Analysis/nx_graph_pruned.p'",
     "output_type": "error",
     "traceback": [
      "\u001b[0;31m---------------------------------------------------------------------------\u001b[0m",
      "\u001b[0;31mFileNotFoundError\u001b[0m                         Traceback (most recent call last)",
      "Input \u001b[0;32mIn [21]\u001b[0m, in \u001b[0;36m<cell line: 6>\u001b[0;34m()\u001b[0m\n\u001b[1;32m      4\u001b[0m directory_name \u001b[38;5;241m=\u001b[39m folder_list[\u001b[38;5;241m0\u001b[39m]\n\u001b[1;32m      5\u001b[0m exp \u001b[38;5;241m=\u001b[39m Experiment(plate,directory)\n\u001b[0;32m----> 6\u001b[0m \u001b[43mexp\u001b[49m\u001b[38;5;241;43m.\u001b[39;49m\u001b[43mload\u001b[49m\u001b[43m(\u001b[49m\u001b[43mrun_info\u001b[49m\u001b[38;5;241;43m.\u001b[39;49m\u001b[43mloc\u001b[49m\u001b[43m[\u001b[49m\u001b[43mrun_info\u001b[49m\u001b[43m[\u001b[49m\u001b[38;5;124;43m'\u001b[39;49m\u001b[38;5;124;43mfolder\u001b[39;49m\u001b[38;5;124;43m'\u001b[39;49m\u001b[43m]\u001b[49m\u001b[38;5;241;43m==\u001b[39;49m\u001b[43mdirectory_name\u001b[49m\u001b[43m]\u001b[49m\u001b[43m,\u001b[49m\u001b[43mlabeled\u001b[49m\u001b[38;5;241;43m=\u001b[39;49m\u001b[38;5;28;43;01mFalse\u001b[39;49;00m\u001b[43m)\u001b[49m\n\u001b[1;32m      7\u001b[0m path_snap \u001b[38;5;241m=\u001b[39m directory \u001b[38;5;241m+\u001b[39m directory_name\n\u001b[1;32m      8\u001b[0m (G, pos) \u001b[38;5;241m=\u001b[39m exp\u001b[38;5;241m.\u001b[39mnx_graph[\u001b[38;5;241m0\u001b[39m],exp\u001b[38;5;241m.\u001b[39mpositions[\u001b[38;5;241m0\u001b[39m]\n",
      "File \u001b[0;32m~/Wks/AMFtrack/amftrack/pipeline/functions/image_processing/experiment_class_surf.py:67\u001b[0m, in \u001b[0;36mExperiment.load\u001b[0;34m(self, folders, labeled)\u001b[0m\n\u001b[1;32m     65\u001b[0m         suffix \u001b[38;5;241m=\u001b[39m \u001b[38;5;124m\"\u001b[39m\u001b[38;5;124m/Analysis/nx_graph_pruned.p\u001b[39m\u001b[38;5;124m\"\u001b[39m\n\u001b[1;32m     66\u001b[0m     path_save \u001b[38;5;241m=\u001b[39m path_snap \u001b[38;5;241m+\u001b[39m suffix\n\u001b[0;32m---> 67\u001b[0m     (g, pos) \u001b[38;5;241m=\u001b[39m pickle\u001b[38;5;241m.\u001b[39mload(\u001b[38;5;28;43mopen\u001b[39;49m\u001b[43m(\u001b[49m\u001b[43mpath_save\u001b[49m\u001b[43m,\u001b[49m\u001b[43m \u001b[49m\u001b[38;5;124;43m\"\u001b[39;49m\u001b[38;5;124;43mrb\u001b[39;49m\u001b[38;5;124;43m\"\u001b[39;49m\u001b[43m)\u001b[49m)\n\u001b[1;32m     68\u001b[0m     nx_graph_poss\u001b[38;5;241m.\u001b[39mappend((g, pos))\n\u001b[1;32m     70\u001b[0m nx_graphs \u001b[38;5;241m=\u001b[39m [nx_graph_pos[\u001b[38;5;241m0\u001b[39m] \u001b[38;5;28;01mfor\u001b[39;00m nx_graph_pos \u001b[38;5;129;01min\u001b[39;00m nx_graph_poss]\n",
      "\u001b[0;31mFileNotFoundError\u001b[0m: [Errno 2] No such file or directory: '/data/felix/width1/full_plates/20220325_1423_Plate907/Analysis/nx_graph_pruned.p'"
     ]
    }
   ],
   "source": [
    "run_info = folders\n",
    "plate = int(list(run_info['folder'])[0].split('_')[-1][5:])\n",
    "folder_list = list(run_info['folder'])\n",
    "directory_name = folder_list[0]\n",
    "exp = Experiment(plate,directory)\n",
    "exp.load(run_info.loc[run_info['folder']==directory_name],labeled=False)\n",
    "path_snap = directory + directory_name\n",
    "(G, pos) = exp.nx_graph[0],exp.positions[0]"
   ]
  },
  {
   "cell_type": "code",
   "execution_count": null,
   "id": "91ea1719",
   "metadata": {},
   "outputs": [],
   "source": [
    "from random import choice\n",
    "edge = choice(list(G.edges))"
   ]
  },
  {
   "cell_type": "code",
   "execution_count": null,
   "id": "9969797d",
   "metadata": {},
   "outputs": [],
   "source": [
    "edge_exp = Edge(Node(edge[0],exp),Node(edge[1],exp),exp)"
   ]
  },
  {
   "cell_type": "markdown",
   "id": "e52bedfd",
   "metadata": {},
   "source": [
    "***Visualiser l'image correspondant à l'edge*** "
   ]
  },
  {
   "cell_type": "raw",
   "id": "af687743",
   "metadata": {},
   "source": [
    "edge_exp.begin.show_source_image(0,0)\n",
    "edge_exp.end.show_source_image(0,0)"
   ]
  },
  {
   "cell_type": "markdown",
   "id": "37046fea",
   "metadata": {},
   "source": [
    "***Visualiser tout le réseau avec l'edge idniqué dessus***"
   ]
  },
  {
   "cell_type": "raw",
   "id": "eaf1e627",
   "metadata": {},
   "source": [
    "plot_raw_plus(exp,0,[edge_exp.begin.label,edge_exp.end.label])"
   ]
  },
  {
   "cell_type": "markdown",
   "id": "54f5e218",
   "metadata": {},
   "source": [
    "## Brouillon"
   ]
  },
  {
   "cell_type": "code",
   "execution_count": null,
   "id": "64bc1358",
   "metadata": {},
   "outputs": [],
   "source": [
    "exp"
   ]
  },
  {
   "cell_type": "code",
   "execution_count": null,
   "id": "223b70b7",
   "metadata": {},
   "outputs": [],
   "source": [
    "dir(exp)"
   ]
  },
  {
   "cell_type": "code",
   "execution_count": null,
   "id": "b0a01d0a",
   "metadata": {},
   "outputs": [],
   "source": []
  }
 ],
 "metadata": {
  "kernelspec": {
   "display_name": "Python 3 (ipykernel)",
   "language": "python",
   "name": "python3"
  },
  "language_info": {
   "codemirror_mode": {
    "name": "ipython",
    "version": 3
   },
   "file_extension": ".py",
   "mimetype": "text/x-python",
   "name": "python",
   "nbconvert_exporter": "python",
   "pygments_lexer": "ipython3",
   "version": "3.8.10"
  }
 },
 "nbformat": 4,
 "nbformat_minor": 5
}

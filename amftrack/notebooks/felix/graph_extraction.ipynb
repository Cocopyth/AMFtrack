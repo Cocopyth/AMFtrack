{
 "cells": [
  {
   "cell_type": "markdown",
   "metadata": {},
   "source": [
    "# Exemple d'extraction de graphe"
   ]
  },
  {
   "cell_type": "markdown",
   "metadata": {},
   "source": [
    "## Setup"
   ]
  },
  {
   "cell_type": "markdown",
   "metadata": {},
   "source": [
    "***Load modules*** \n",
    "This will require amtrack repo in the right path I use environment variables but feel free to do something better.\n",
    "Normally all the required packages are indicated, if some are missing, please add them.\n",
    "If you also want to create a \"freeze\" or a poetry thing to have an easier installation of the environment please do so.\n"
   ]
  },
  {
   "cell_type": "code",
   "execution_count": null,
   "metadata": {},
   "outputs": [],
   "source": [
    "%matplotlib widget\n",
    "%load_ext autoreload\n",
    "%autoreload 2\n",
    "import os\n",
    "import sys\n",
    "\n",
    "# sys.path.insert(0, os.getenv('HOME')+'/pycode/MscThesis/')\n",
    "import pandas as pd\n",
    "from util import (\n",
    "    get_dates_datetime,\n",
    "    get_dirname,\n",
    "    get_data_info,\n",
    "    update_plate_info,\n",
    "    get_current_folders,\n",
    "    get_folders_by_plate_id,\n",
    "    fiji_path,\n",
    ")\n",
    "import ast\n",
    "from plotutil import plot_t_tp1\n",
    "from scipy import sparse\n",
    "from datetime import datetime\n",
    "import pickle\n",
    "import scipy.io as sio\n",
    "from pymatreader import read_mat\n",
    "from matplotlib import colors\n",
    "import cv2\n",
    "import imageio\n",
    "import matplotlib.pyplot as plt\n",
    "import numpy as np\n",
    "from skimage.filters import frangi\n",
    "from skimage import filters\n",
    "from random import choice\n",
    "import scipy.sparse\n",
    "import os\n",
    "from pipeline.functions.image_processing.extract_graph import (\n",
    "    from_sparse_to_graph,\n",
    "    generate_nx_graph,\n",
    "    sparse_to_doc,\n",
    ")\n",
    "from skimage.feature import hessian_matrix_det\n",
    "from pipeline.functions.image_processing.experiment_class_surf import (\n",
    "    Experiment,\n",
    "    Edge,\n",
    "    Node,\n",
    "    plot_raw_plus,\n",
    ")\n",
    "from pipeline.paths.directory import (\n",
    "    run_parallel_transfer,\n",
    "    find_state,\n",
    "    directory_scratch,\n",
    "    directory_project,\n",
    "    directory_archive,\n",
    ")\n",
    "import dropbox\n",
    "from transfer.functions.transfer import upload, zip_file\n",
    "from subprocess import call\n",
    "from tqdm.autonotebook import tqdm\n",
    "from time import time_ns\n",
    "import subprocess\n",
    "import matplotlib as mpl"
   ]
  },
  {
   "cell_type": "markdown",
   "metadata": {},
   "source": [
    "***choose the path of interest***\n",
    "I mounted sun on my linux computer at AMOLF. Please feel free to do so on yours as well. I can send you the command. \n",
    "Otherwise, if you have the folders locally, just indicate the path.\n",
    "Finally you can also simply ssh to my computer and run things from there."
   ]
  },
  {
   "cell_type": "code",
   "execution_count": null,
   "metadata": {
    "tags": []
   },
   "outputs": [],
   "source": [
    "# directory = r'/mnt/sun-temp/TEMP/PRINCE_felix/'\n",
    "directory = r\"/home/felix/Wks/amolf/\"\n",
    "\n",
    "update_plate_info(directory)\n",
    "all_folders = get_current_folders(directory)"
   ]
  },
  {
   "cell_type": "code",
   "execution_count": null,
   "metadata": {
    "tags": []
   },
   "outputs": [],
   "source": [
    "len(all_folders)"
   ]
  },
  {
   "cell_type": "markdown",
   "metadata": {},
   "source": [
    "***Choose the folder you're interested in***"
   ]
  },
  {
   "cell_type": "code",
   "execution_count": null,
   "metadata": {},
   "outputs": [],
   "source": [
    "folders = all_folders.loc[all_folders[\"folder\"] == \"20220330_2357_Plate19\"]"
   ]
  },
  {
   "cell_type": "code",
   "execution_count": null,
   "metadata": {
    "scrolled": true
   },
   "outputs": [],
   "source": [
    "folders"
   ]
  },
  {
   "cell_type": "markdown",
   "metadata": {},
   "source": [
    "These are local adaptations of functions for running things on the supercomputer. So better to keep them in the notebook at this stage."
   ]
  },
  {
   "cell_type": "markdown",
   "metadata": {},
   "source": [
    "## Stiching function"
   ]
  },
  {
   "cell_type": "code",
   "execution_count": null,
   "metadata": {},
   "outputs": [],
   "source": [
    "# path_code = os.getenv('HOME')+\"/pycode/MscThesis/\"\n",
    "from util import path_code\n",
    "\n",
    "\n",
    "def make_stitching_loop(directory, dirname, op_id):\n",
    "    a_file = open(\n",
    "        f\"{path_code}amftrack/pipeline/scripts/stitching_loops/stitching_loop.ijm\", \"r\"\n",
    "    )\n",
    "\n",
    "    list_of_lines = a_file.readlines()\n",
    "\n",
    "    list_of_lines[4] = f\"mainDirectory = \\u0022{directory}\\u0022 ;\\n\"\n",
    "    list_of_lines[29] = f\"\\t if(startsWith(list[i],\\u0022{dirname}\\u0022)) \\u007b\\n\"\n",
    "    file_name = f'{os.getenv(\"TEMP\")}/stitching_loops/stitching_loop{op_id}.ijm'\n",
    "    a_file = open(file_name, \"w\")\n",
    "\n",
    "    a_file.writelines(list_of_lines)\n",
    "\n",
    "    a_file.close()\n",
    "\n",
    "\n",
    "def run_stitch(directory, folders):\n",
    "    folder_list = list(folders[\"folder\"])\n",
    "    folder_list.sort()\n",
    "    with tqdm(total=len(folder_list), desc=\"stitched\") as pbar:\n",
    "        for folder in folder_list:\n",
    "            op_id = time_ns()\n",
    "            im = imageio.imread(f\"{directory}/{folder}/Img/Img_r03_c05.tif\")\n",
    "            for x in range(1, 11):\n",
    "                for y in range(1, 16):\n",
    "                    strix = str(x) if x >= 10 else f\"0{x}\"\n",
    "                    striy = str(y) if y >= 10 else f\"0{y}\"\n",
    "                    path = f\"{directory}/{folder}/Img/Img_r{strix}_c{striy}.tif\"\n",
    "                    # print(striy,path,os.path.getsize(path))\n",
    "                    if not os.path.isfile(path):\n",
    "                        f = open(path, \"w\")\n",
    "                    if os.path.getsize(path) == 0:\n",
    "                        imageio.imwrite(path, im * 0)\n",
    "            make_stitching_loop(directory, folder, op_id)\n",
    "            command = [\n",
    "                fiji_path,\n",
    "                \"--mem=8000m\",\n",
    "                \"--headless\",\n",
    "                \"--ij2\",\n",
    "                \"--console\",\n",
    "                \"-macro\",\n",
    "                f'{os.getenv(\"TEMP\")}/stitching_loops/stitching_loop{op_id}.ijm',\n",
    "            ]\n",
    "            # modif 1\n",
    "            print(\" \".join(command))\n",
    "            process = subprocess.run(command)\n",
    "            pbar.update(1)\n",
    "\n",
    "\n",
    "def run_parallel(code, args, folders):\n",
    "    op_id = time_ns()\n",
    "    folders.to_json(f'{os.getenv(\"TEMP\")}/{op_id}.json')  # temporary file\n",
    "    folder_list = list(folders[\"folder\"])\n",
    "    folder_list.sort()\n",
    "    args_str = [str(arg) for arg in args]\n",
    "    arg_str = \" \".join(args_str)\n",
    "    with tqdm(total=len(folder_list), desc=\"stitched\") as pbar:\n",
    "        for index, folder in enumerate(folder_list):\n",
    "            command = (\n",
    "                [\n",
    "                    \"python\",\n",
    "                    f\"{path_code}amftrack/pipeline/scripts/image_processing/{code}\",\n",
    "                ]\n",
    "                + args_str\n",
    "                + [f\"{op_id}\", f\"{index}\"]\n",
    "            )\n",
    "            print(\" \".join(command))\n",
    "            process = subprocess.run(command)\n",
    "            pbar.update(1)"
   ]
  },
  {
   "cell_type": "markdown",
   "metadata": {},
   "source": [
    "***Stitch the folders you're interested in***\n",
    "\n",
    "should take about 20mins"
   ]
  },
  {
   "cell_type": "code",
   "execution_count": null,
   "metadata": {
    "tags": []
   },
   "outputs": [],
   "source": [
    "run_stitch(directory, folders)"
   ]
  },
  {
   "cell_type": "markdown",
   "metadata": {},
   "source": [
    "***Compress the image and skeletonize***\n",
    "\n",
    "should take 1h30-2h"
   ]
  },
  {
   "cell_type": "code",
   "execution_count": null,
   "metadata": {
    "tags": []
   },
   "outputs": [],
   "source": [
    "args = [directory]\n",
    "run_parallel(\"compress_image.py\", args, folders)"
   ]
  },
  {
   "cell_type": "code",
   "execution_count": null,
   "metadata": {
    "tags": []
   },
   "outputs": [],
   "source": [
    "time = \"3:00:00\"\n",
    "low = 30\n",
    "high = 80\n",
    "extend = 30\n",
    "args = [low, high, extend, directory]\n",
    "run_parallel(\"extract_skel.py\", args, folders)"
   ]
  },
  {
   "cell_type": "markdown",
   "metadata": {},
   "source": [
    "## Visualisation"
   ]
  },
  {
   "cell_type": "markdown",
   "metadata": {},
   "source": [
    "***Visualise the skeletonization***"
   ]
  },
  {
   "cell_type": "raw",
   "metadata": {},
   "source": [
    "%matplotlib inline\n",
    "import mpld3\n",
    "mpld3.enable_notebook()"
   ]
  },
  {
   "cell_type": "code",
   "execution_count": null,
   "metadata": {},
   "outputs": [],
   "source": [
    "select = folders\n",
    "folder_list = list(select[\"total_path\"])\n",
    "folder_list.sort()\n",
    "skels = []\n",
    "ims = []\n",
    "kernel = np.ones((5, 5), np.uint8)\n",
    "itera = 1\n",
    "start = 0\n",
    "\n",
    "finish = start + 2\n",
    "for folder in folder_list[start:finish]:\n",
    "    path_snap = folder\n",
    "    skel_info = read_mat(path_snap + \"/Analysis/skeleton_compressed.mat\")\n",
    "    skel = skel_info[\"skeleton\"]\n",
    "    skels.append(cv2.dilate(skel.astype(np.uint8), kernel, iterations=itera))\n",
    "    im = read_mat(path_snap + \"/Analysis/raw_image.mat\")[\"raw\"]\n",
    "    ims.append(im)"
   ]
  },
  {
   "cell_type": "code",
   "execution_count": null,
   "metadata": {
    "tags": []
   },
   "outputs": [],
   "source": [
    "plt.close(\"all\")\n",
    "start = 0\n",
    "finish = start + 1\n",
    "for i in range(start, finish):\n",
    "    plot_t_tp1([], [], None, None, skels[i], ims[i])"
   ]
  },
  {
   "cell_type": "markdown",
   "metadata": {},
   "source": [
    "***These steps may be a bit long, but it also helps just keeping things consistent and use one single framework,*** you may bypass them by artificially renaming skeleton.mat into skeleton_realigned.mat which is necessary for the next step because you probably don't care about these two steps since you're doing only one image..."
   ]
  },
  {
   "cell_type": "code",
   "execution_count": null,
   "metadata": {},
   "outputs": [],
   "source": [
    "time = \"2:00\"\n",
    "thresh = 50\n",
    "args = [thresh, directory]\n",
    "run_parallel(\"mask_skel.py\", args, folders)"
   ]
  },
  {
   "cell_type": "code",
   "execution_count": null,
   "metadata": {},
   "outputs": [],
   "source": [
    "time = \"3:00:00\"\n",
    "threshold = 0.1\n",
    "args = [threshold, directory]\n",
    "run_parallel(\"prune_skel.py\", args, folders)"
   ]
  },
  {
   "cell_type": "code",
   "execution_count": null,
   "metadata": {},
   "outputs": [],
   "source": [
    "plates = list(set(list(folders[\"Plate\"].values)))\n",
    "for plate in plates:\n",
    "    time = \"2:00:00\"\n",
    "    args = [directory]\n",
    "    run_parallel(\"realign.py\", args, folders)"
   ]
  },
  {
   "cell_type": "markdown",
   "metadata": {},
   "source": [
    "Now you're finally getting to the point where you generate the graph object"
   ]
  },
  {
   "cell_type": "code",
   "execution_count": null,
   "metadata": {},
   "outputs": [],
   "source": [
    "time = \"2:00:00\"\n",
    "args = [directory]\n",
    "run_parallel(\"extract_nx_graph.py\", args, folders)"
   ]
  },
  {
   "cell_type": "markdown",
   "metadata": {},
   "source": [
    "***and now you have the Experiment object to play with and query images related to position of edges etc...***\n"
   ]
  },
  {
   "cell_type": "code",
   "execution_count": null,
   "metadata": {},
   "outputs": [],
   "source": [
    "run_info = folders\n",
    "plate = int(list(run_info[\"folder\"])[i].split(\"_\")[-1][5:])\n",
    "folder_list = list(run_info[\"folder\"])\n",
    "directory_name = folder_list[i]\n",
    "exp = Experiment(plate, directory)\n",
    "exp.load(run_info.loc[run_info[\"folder\"] == directory_name], labeled=False)\n",
    "path_snap = directory + directory_name\n",
    "(G, pos) = exp.nx_graph[0], exp.positions[0]"
   ]
  },
  {
   "cell_type": "code",
   "execution_count": null,
   "metadata": {},
   "outputs": [],
   "source": [
    "from random import choice\n",
    "\n",
    "edge = choice(list(G.edges))"
   ]
  },
  {
   "cell_type": "code",
   "execution_count": null,
   "metadata": {},
   "outputs": [],
   "source": [
    "edge_exp = Edge(Node(edge[0], exp), Node(edge[1], exp), exp)"
   ]
  },
  {
   "cell_type": "markdown",
   "metadata": {},
   "source": [
    "***Visualiser l'image correspondant à l'edge*** "
   ]
  },
  {
   "cell_type": "raw",
   "metadata": {},
   "source": [
    "edge_exp.begin.show_source_image(0,0)\n",
    "edge_exp.end.show_source_image(0,0)"
   ]
  },
  {
   "cell_type": "markdown",
   "metadata": {},
   "source": [
    "***Visualiser tout le réseau avec l'edge idniqué dessus***"
   ]
  },
  {
   "cell_type": "raw",
   "metadata": {},
   "source": [
    "plot_raw_plus(exp,0,[edge_exp.begin.label,edge_exp.end.label])"
   ]
  },
  {
   "cell_type": "markdown",
   "metadata": {},
   "source": [
    "## Brouillon"
   ]
  },
  {
   "cell_type": "code",
   "execution_count": null,
   "metadata": {},
   "outputs": [],
   "source": [
    "exp"
   ]
  },
  {
   "cell_type": "code",
   "execution_count": null,
   "metadata": {},
   "outputs": [],
   "source": [
    "dir(exp)"
   ]
  },
  {
   "cell_type": "code",
   "execution_count": null,
   "metadata": {},
   "outputs": [],
   "source": []
  }
 ],
 "metadata": {
  "kernelspec": {
   "display_name": "Python 3 (ipykernel)",
   "language": "python",
   "name": "python3"
  },
  "language_info": {
   "codemirror_mode": {
    "name": "ipython",
    "version": 3
   },
   "file_extension": ".py",
   "mimetype": "text/x-python",
   "name": "python",
   "nbconvert_exporter": "python",
   "pygments_lexer": "ipython3",
   "version": "3.6.6"
  }
 },
 "nbformat": 4,
 "nbformat_minor": 5
}

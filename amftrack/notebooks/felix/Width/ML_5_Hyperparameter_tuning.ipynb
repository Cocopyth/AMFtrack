{
 "cells": [
  {
   "cell_type": "markdown",
   "id": "2a88eb95",
   "metadata": {},
   "source": [
    "# Hyperparameter tuning"
   ]
  },
  {
   "cell_type": "code",
   "execution_count": 153,
   "id": "46b5b487",
   "metadata": {},
   "outputs": [
    {
     "data": {
      "application/javascript": [
       "$('<div id=\"toc\"></div>').css({position: 'fixed', top: '120px', left: 0}).appendTo(document.body);\n",
       "$.getScript('https://kmahelona.github.io/ipython_notebook_goodies/ipython_notebook_toc.js');\n"
      ],
      "text/plain": [
       "<IPython.core.display.Javascript object>"
      ]
     },
     "metadata": {},
     "output_type": "display_data"
    }
   ],
   "source": [
    "%%javascript\n",
    "$('<div id=\"toc\"></div>').css({position: 'fixed', top: '120px', left: 0}).appendTo(document.body);\n",
    "$.getScript('https://kmahelona.github.io/ipython_notebook_goodies/ipython_notebook_toc.js');"
   ]
  },
  {
   "cell_type": "markdown",
   "id": "ffa80930",
   "metadata": {},
   "source": [
    "## Presentation"
   ]
  },
  {
   "cell_type": "markdown",
   "id": "90444c84",
   "metadata": {},
   "source": [
    "Step 1: random search over a lot of models and parameters\n",
    "\n",
    "Step 2: bayesian search\n",
    "\n",
    "Step 3: evaluate best models with cross validation\n",
    "\n",
    "For the seed, we always take the same seed: 100"
   ]
  },
  {
   "cell_type": "markdown",
   "id": "870525d5",
   "metadata": {},
   "source": [
    "## Setup"
   ]
  },
  {
   "cell_type": "code",
   "execution_count": 1,
   "id": "060f5678",
   "metadata": {},
   "outputs": [
    {
     "name": "stderr",
     "output_type": "stream",
     "text": [
      "2022-06-07 16:11:58.981601: W tensorflow/stream_executor/platform/default/dso_loader.cc:64] Could not load dynamic library 'libcudart.so.11.0'; dlerror: libcudart.so.11.0: cannot open shared object file: No such file or directory\n",
      "2022-06-07 16:11:58.981625: I tensorflow/stream_executor/cuda/cudart_stub.cc:29] Ignore above cudart dlerror if you do not have a GPU set up on your machine.\n",
      "2022-06-07 16:12:03.582083: W tensorflow/stream_executor/platform/default/dso_loader.cc:64] Could not load dynamic library 'libcuda.so.1'; dlerror: libcuda.so.1: cannot open shared object file: No such file or directory; LD_LIBRARY_PATH: /home/ipausers/kahane/.local/lib/python3.8/site-packages/cv2/../../lib64:\n",
      "2022-06-07 16:12:03.582108: W tensorflow/stream_executor/cuda/cuda_driver.cc:269] failed call to cuInit: UNKNOWN ERROR (303)\n",
      "2022-06-07 16:12:03.582124: I tensorflow/stream_executor/cuda/cuda_diagnostics.cc:156] kernel driver does not appear to be running on this host (morricone.ipa.amolf.nl): /proc/driver/nvidia/version does not exist\n",
      "2022-06-07 16:12:03.582261: I tensorflow/core/platform/cpu_feature_guard.cc:151] This TensorFlow binary is optimized with oneAPI Deep Neural Network Library (oneDNN) to use the following CPU instructions in performance-critical operations:  AVX2 FMA\n",
      "To enable them in other operations, rebuild TensorFlow with the appropriate compiler flags.\n"
     ]
    }
   ],
   "source": [
    "import numpy as np\n",
    "import matplotlib.pyplot as plt\n",
    "import os\n",
    "import random\n",
    "import imageio\n",
    "\n",
    "from sklearn.model_selection import KFold\n",
    "\n",
    "import tensorflow as tf\n",
    "from tensorflow import keras\n",
    "from tensorflow.keras import regularizers\n",
    "import keras_tuner as kt\n",
    "import tensorflow_datasets as tfds\n",
    "\n",
    "from amftrack.ml.width.models import hyper_model_builder_simple, build_model_dense, build_model_conv\n",
    "from amftrack.util.sys import storage_path\n",
    "from amftrack.ml.width.data_augmentation import data_augmentation"
   ]
  },
  {
   "cell_type": "markdown",
   "id": "485285ad",
   "metadata": {},
   "source": [
    "### Fetch data"
   ]
  },
  {
   "cell_type": "code",
   "execution_count": 2,
   "id": "7e5d9e3c",
   "metadata": {},
   "outputs": [],
   "source": [
    "path = os.path.join(storage_path, \"test_precise_1\")\n",
    "im_path = os.path.join(path, \"slices.png\")\n",
    "label_path = os.path.join(path, \"labels.npy\")"
   ]
  },
  {
   "cell_type": "code",
   "execution_count": 3,
   "id": "cab14b2e",
   "metadata": {},
   "outputs": [
    {
     "name": "stdout",
     "output_type": "stream",
     "text": [
      "(224, 120)\n"
     ]
    }
   ],
   "source": [
    "im = imageio.imread(im_path)\n",
    "print(im.shape)"
   ]
  },
  {
   "cell_type": "code",
   "execution_count": 4,
   "id": "8c26d17c",
   "metadata": {},
   "outputs": [
    {
     "name": "stdout",
     "output_type": "stream",
     "text": [
      "(224,)\n"
     ]
    }
   ],
   "source": [
    "with open(label_path, 'rb') as f:\n",
    "    label = np.load(f)\n",
    "print(label.shape)"
   ]
  },
  {
   "cell_type": "code",
   "execution_count": 5,
   "id": "c568feb6",
   "metadata": {},
   "outputs": [],
   "source": [
    "label = np. expand_dims(label, axis = 1)"
   ]
  },
  {
   "cell_type": "code",
   "execution_count": 6,
   "id": "9d530f01",
   "metadata": {},
   "outputs": [
    {
     "data": {
      "text/plain": [
       "(224, 1)"
      ]
     },
     "execution_count": 6,
     "metadata": {},
     "output_type": "execute_result"
    }
   ],
   "source": [
    "label.shape"
   ]
  },
  {
   "cell_type": "markdown",
   "id": "5b4d5dd1",
   "metadata": {},
   "source": [
    "### Data preparation"
   ]
  },
  {
   "cell_type": "code",
   "execution_count": 7,
   "id": "da73812c",
   "metadata": {},
   "outputs": [],
   "source": [
    "seed = 11"
   ]
  },
  {
   "cell_type": "code",
   "execution_count": 8,
   "id": "f63dcead",
   "metadata": {},
   "outputs": [],
   "source": [
    "np.random.seed(11)"
   ]
  },
  {
   "cell_type": "code",
   "execution_count": 9,
   "id": "e406ed5e",
   "metadata": {
    "scrolled": true
   },
   "outputs": [],
   "source": [
    "p = np.random.permutation(224)"
   ]
  },
  {
   "cell_type": "code",
   "execution_count": 10,
   "id": "0f67c50d",
   "metadata": {},
   "outputs": [
    {
     "name": "stdout",
     "output_type": "stream",
     "text": [
      "150\n",
      "74\n"
     ]
    }
   ],
   "source": [
    "training = p[:150]\n",
    "test = p[150:]\n",
    "print(len(training))\n",
    "print(len(test))"
   ]
  },
  {
   "cell_type": "code",
   "execution_count": 11,
   "id": "f2101f09",
   "metadata": {},
   "outputs": [],
   "source": [
    "train_feature = im[training, :]\n",
    "train_label = label[training,0]\n",
    "test_feature = im[test, :]\n",
    "test_label = label[test, :]"
   ]
  },
  {
   "cell_type": "code",
   "execution_count": 12,
   "id": "aeb87d01",
   "metadata": {},
   "outputs": [
    {
     "data": {
      "text/plain": [
       "(74, 120)"
      ]
     },
     "execution_count": 12,
     "metadata": {},
     "output_type": "execute_result"
    }
   ],
   "source": [
    "test_feature.shape"
   ]
  },
  {
   "cell_type": "markdown",
   "id": "b26c2475",
   "metadata": {},
   "source": [
    "## Visualisation"
   ]
  },
  {
   "cell_type": "code",
   "execution_count": 13,
   "id": "5a8a0447",
   "metadata": {},
   "outputs": [],
   "source": [
    "i = 68"
   ]
  },
  {
   "cell_type": "code",
   "execution_count": 14,
   "id": "197fd5be",
   "metadata": {
    "scrolled": true
   },
   "outputs": [
    {
     "data": {
      "text/plain": [
       "[<matplotlib.lines.Line2D at 0x7f166c1dda30>]"
      ]
     },
     "execution_count": 14,
     "metadata": {},
     "output_type": "execute_result"
    },
    {
     "data": {
      "image/png": "[encoded data removed]",
      "text/plain": [
       "<Figure size 432x288 with 1 Axes>"
      ]
     },
     "metadata": {
      "needs_background": "light"
     },
     "output_type": "display_data"
    }
   ],
   "source": [
    "plt.plot(im[i,:])"
   ]
  },
  {
   "cell_type": "code",
   "execution_count": 15,
   "id": "a27e66af",
   "metadata": {},
   "outputs": [
    {
     "data": {
      "text/plain": [
       "array([12.41270832])"
      ]
     },
     "execution_count": 15,
     "metadata": {},
     "output_type": "execute_result"
    }
   ],
   "source": [
    "label[i,:]"
   ]
  },
  {
   "cell_type": "code",
   "execution_count": 16,
   "id": "16f37136",
   "metadata": {},
   "outputs": [
    {
     "data": {
      "text/plain": [
       "array([12.41270832])"
      ]
     },
     "execution_count": 16,
     "metadata": {},
     "output_type": "execute_result"
    }
   ],
   "source": [
    "label[i,:]"
   ]
  },
  {
   "cell_type": "markdown",
   "id": "3b62d96f",
   "metadata": {},
   "source": [
    "## Random search with dense model"
   ]
  },
  {
   "cell_type": "markdown",
   "id": "4e30a315",
   "metadata": {},
   "source": [
    "### Training"
   ]
  },
  {
   "cell_type": "code",
   "execution_count": 15,
   "id": "3a80fc8e",
   "metadata": {},
   "outputs": [],
   "source": [
    "from amftrack.ml.width.data_augmentation import data_preparation"
   ]
  },
  {
   "cell_type": "code",
   "execution_count": 17,
   "id": "ff749531",
   "metadata": {},
   "outputs": [
    {
     "data": {
      "text/plain": [
       "(150, 120)"
      ]
     },
     "execution_count": 17,
     "metadata": {},
     "output_type": "execute_result"
    }
   ],
   "source": [
    "train_feature.shape"
   ]
  },
  {
   "cell_type": "code",
   "execution_count": 151,
   "id": "9e486f2d",
   "metadata": {},
   "outputs": [
    {
     "data": {
      "text/plain": [
       "TensorShape([150, 80, 1])"
      ]
     },
     "execution_count": 151,
     "metadata": {},
     "output_type": "execute_result"
    }
   ],
   "source": [
    "data_preparation(train_feature).shape"
   ]
  },
  {
   "cell_type": "code",
   "execution_count": 13,
   "id": "99c9f9fa",
   "metadata": {},
   "outputs": [],
   "source": [
    "tuner = kt.RandomSearch(\n",
    "    build_model_dense,\n",
    "    objective='val_mean_absolute_error',\n",
    "    max_trials=50,\n",
    "    seed=seed,\n",
    "    hyperparameters=None,\n",
    "    tune_new_entries=True,\n",
    "    allow_new_entries=True,\n",
    "    overwrite=True\n",
    ")"
   ]
  },
  {
   "cell_type": "raw",
   "id": "af021cb6",
   "metadata": {},
   "source": [
    "tuner.search(train_ds,\n",
    "             validation_data=test_ds,\n",
    "             epochs=30,\n",
    "             callbacks=[tf.keras.callbacks.EarlyStopping(patience=5)])"
   ]
  },
  {
   "cell_type": "code",
   "execution_count": 20,
   "id": "7bc88911",
   "metadata": {},
   "outputs": [
    {
     "name": "stdout",
     "output_type": "stream",
     "text": [
      "Trial 50 Complete [00h 00m 06s]\n",
      "val_mean_absolute_error: 0.7195175886154175\n",
      "\n",
      "Best val_mean_absolute_error So Far: 0.658259391784668\n",
      "Total elapsed time: 00h 05m 54s\n",
      "INFO:tensorflow:Oracle triggered exit\n",
      "2022-06-07 16:18:06,772-[INFO]- tensorflow:1 -> Oracle triggered exit\n"
     ]
    }
   ],
   "source": [
    "tuner.search(data_preparation(train_feature),\n",
    "             train_label,\n",
    "             validation_split=0.2,\n",
    "             epochs=100,\n",
    "             callbacks=[tf.keras.callbacks.EarlyStopping(patience=8)])"
   ]
  },
  {
   "cell_type": "markdown",
   "id": "3bafe37f",
   "metadata": {},
   "source": [
    "### Analyse results: run 2"
   ]
  },
  {
   "cell_type": "markdown",
   "id": "a2734bd6",
   "metadata": {},
   "source": [
    "#### Results"
   ]
  },
  {
   "cell_type": "code",
   "execution_count": 43,
   "id": "96694849",
   "metadata": {},
   "outputs": [],
   "source": [
    "best_model = tuner.get_best_models(1)[0]"
   ]
  },
  {
   "cell_type": "code",
   "execution_count": 27,
   "id": "18f92423",
   "metadata": {},
   "outputs": [],
   "source": [
    "best_hyperparameters = tuner.get_best_hyperparameters(1)[0]"
   ]
  },
  {
   "cell_type": "code",
   "execution_count": 28,
   "id": "675ac323",
   "metadata": {},
   "outputs": [
    {
     "name": "stdout",
     "output_type": "stream",
     "text": [
      "Model: \"model\"\n",
      "_________________________________________________________________\n",
      " Layer (type)                Output Shape              Param #   \n",
      "=================================================================\n",
      " input_1 (InputLayer)        [(None, 80, 1)]           0         \n",
      "                                                                 \n",
      " reshape (Reshape)           (None, 80)                0         \n",
      "                                                                 \n",
      " rescaling (Rescaling)       (None, 80)                0         \n",
      "                                                                 \n",
      " dense (Dense)               (None, 74)                5994      \n",
      "                                                                 \n",
      " dropout (Dropout)           (None, 74)                0         \n",
      "                                                                 \n",
      " dense_1 (Dense)             (None, 74)                5550      \n",
      "                                                                 \n",
      " dropout_1 (Dropout)         (None, 74)                0         \n",
      "                                                                 \n",
      " dense_2 (Dense)             (None, 74)                5550      \n",
      "                                                                 \n",
      " dropout_2 (Dropout)         (None, 74)                0         \n",
      "                                                                 \n",
      " dense_3 (Dense)             (None, 74)                5550      \n",
      "                                                                 \n",
      " dropout_3 (Dropout)         (None, 74)                0         \n",
      "                                                                 \n",
      " dense_4 (Dense)             (None, 1)                 75        \n",
      "                                                                 \n",
      "=================================================================\n",
      "Total params: 22,719\n",
      "Trainable params: 22,719\n",
      "Non-trainable params: 0\n",
      "_________________________________________________________________\n"
     ]
    }
   ],
   "source": [
    "best_model.summary()"
   ]
  },
  {
   "cell_type": "code",
   "execution_count": 29,
   "id": "00be1ffa",
   "metadata": {
    "scrolled": true
   },
   "outputs": [
    {
     "name": "stdout",
     "output_type": "stream",
     "text": [
      "Results summary\n",
      "Results in ./untitled_project\n",
      "Showing 10 best trials\n",
      "<keras_tuner.engine.objective.Objective object at 0x7f11143a7df0>\n",
      "Trial summary\n",
      "Hyperparameters:\n",
      "input_size: 80\n",
      "hidden_size: 74\n",
      "regul: 0.0014215854798312684\n",
      "dense_blocks: 4\n",
      "dropout: 0.0\n",
      "learning_rate: 0.0009024056738718249\n",
      "Score: 0.658259391784668\n",
      "Trial summary\n",
      "Hyperparameters:\n",
      "input_size: 80\n",
      "hidden_size: 74\n",
      "regul: 2.2980497006447554e-05\n",
      "dense_blocks: 10\n",
      "dropout: 0.0\n",
      "learning_rate: 0.002103917275801273\n",
      "Score: 0.7131851315498352\n",
      "Trial summary\n",
      "Hyperparameters:\n",
      "input_size: 80\n",
      "hidden_size: 42\n",
      "regul: 0.0035557261842639634\n",
      "dense_blocks: 3\n",
      "dropout: 0.0\n",
      "learning_rate: 0.0016003804865801434\n",
      "Score: 0.7195175886154175\n",
      "Trial summary\n",
      "Hyperparameters:\n",
      "input_size: 80\n",
      "hidden_size: 10\n",
      "regul: 0.00023822269216557592\n",
      "dense_blocks: 1\n",
      "dropout: 0.0\n",
      "learning_rate: 0.011363871072843399\n",
      "Score: 0.7515721917152405\n",
      "Trial summary\n",
      "Hyperparameters:\n",
      "input_size: 80\n",
      "hidden_size: 74\n",
      "regul: 0.00021301425578360573\n",
      "dense_blocks: 2\n",
      "dropout: 0.4\n",
      "learning_rate: 0.0008633835677522632\n",
      "Score: 0.771540105342865\n",
      "Trial summary\n",
      "Hyperparameters:\n",
      "input_size: 80\n",
      "hidden_size: 74\n",
      "regul: 1.1197291634395498e-05\n",
      "dense_blocks: 2\n",
      "dropout: 0.30000000000000004\n",
      "learning_rate: 0.0013053937581869813\n",
      "Score: 0.7827145457267761\n",
      "Trial summary\n",
      "Hyperparameters:\n",
      "input_size: 80\n",
      "hidden_size: 74\n",
      "regul: 0.0005968120420262622\n",
      "dense_blocks: 1\n",
      "dropout: 0.5\n",
      "learning_rate: 0.06229989301913533\n",
      "Score: 0.7960357666015625\n",
      "Trial summary\n",
      "Hyperparameters:\n",
      "input_size: 80\n",
      "hidden_size: 42\n",
      "regul: 0.005345868140133228\n",
      "dense_blocks: 7\n",
      "dropout: 0.1\n",
      "learning_rate: 0.0006830096465894109\n",
      "Score: 0.8087616562843323\n",
      "Trial summary\n",
      "Hyperparameters:\n",
      "input_size: 80\n",
      "hidden_size: 42\n",
      "regul: 0.001817958232424904\n",
      "dense_blocks: 5\n",
      "dropout: 0.1\n",
      "learning_rate: 0.001172556665655592\n",
      "Score: 0.8099672794342041\n",
      "Trial summary\n",
      "Hyperparameters:\n",
      "input_size: 80\n",
      "hidden_size: 42\n",
      "regul: 0.03833623865750072\n",
      "dense_blocks: 8\n",
      "dropout: 0.1\n",
      "learning_rate: 0.0069811837832962605\n",
      "Score: 0.8314694166183472\n"
     ]
    }
   ],
   "source": [
    "tuner.results_summary()"
   ]
  },
  {
   "cell_type": "code",
   "execution_count": 30,
   "id": "7b8a5e5a",
   "metadata": {},
   "outputs": [
    {
     "name": "stdout",
     "output_type": "stream",
     "text": [
      "Search space summary\n",
      "Default search space size: 6\n",
      "input_size (Fixed)\n",
      "{'conditions': [], 'value': 80}\n",
      "hidden_size (Int)\n",
      "{'default': 32, 'conditions': [], 'min_value': 10, 'max_value': 100, 'step': 32, 'sampling': None}\n",
      "regul (Float)\n",
      "{'default': 0.0001, 'conditions': [], 'min_value': 1e-05, 'max_value': 0.1, 'step': None, 'sampling': 'log'}\n",
      "dense_blocks (Int)\n",
      "{'default': 3, 'conditions': [], 'min_value': 1, 'max_value': 10, 'step': 1, 'sampling': None}\n",
      "dropout (Float)\n",
      "{'default': 0.5, 'conditions': [], 'min_value': 0.0, 'max_value': 0.5, 'step': 0.1, 'sampling': None}\n",
      "learning_rate (Float)\n",
      "{'default': 0.001, 'conditions': [], 'min_value': 1e-05, 'max_value': 0.1, 'step': None, 'sampling': 'log'}\n"
     ]
    }
   ],
   "source": [
    "tuner.search_space_summary()"
   ]
  },
  {
   "cell_type": "code",
   "execution_count": 31,
   "id": "1d696ec3",
   "metadata": {},
   "outputs": [],
   "source": [
    "def plot_against(model, test_feature, test_label):\n",
    "    predicted = model.predict(test_feature)\n",
    "    plt.scatter(test_label, predicted, marker='o')\n",
    "    plt.plot([0,12],[0,12])\n",
    "    plt.xlim(2, 16)\n",
    "    plt.ylim(2, 16)"
   ]
  },
  {
   "cell_type": "code",
   "execution_count": 33,
   "id": "4f177b4f",
   "metadata": {
    "scrolled": false
   },
   "outputs": [
    {
     "data": {
      "image/png": "[encoded data removed]",
      "text/plain": [
       "<Figure size 432x288 with 1 Axes>"
      ]
     },
     "metadata": {
      "needs_background": "light"
     },
     "output_type": "display_data"
    }
   ],
   "source": [
    "plot_against(best_model, data_preparation(test_feature), test_label)"
   ]
  },
  {
   "cell_type": "code",
   "execution_count": 38,
   "id": "6c96324b",
   "metadata": {},
   "outputs": [],
   "source": [
    "feature_vector = data_preparation(test_feature)"
   ]
  },
  {
   "cell_type": "code",
   "execution_count": 44,
   "id": "9376db3e",
   "metadata": {},
   "outputs": [
    {
     "name": "stdout",
     "output_type": "stream",
     "text": [
      "3/3 [==============================] - 0s 1ms/step - loss: 3.1173 - mean_absolute_error: 0.9405\n"
     ]
    },
    {
     "data": {
      "text/plain": [
       "[3.117264986038208, 0.940484344959259]"
      ]
     },
     "execution_count": 44,
     "metadata": {},
     "output_type": "execute_result"
    }
   ],
   "source": [
    "best_model.evaluate(feature_vector, test_label)"
   ]
  },
  {
   "cell_type": "code",
   "execution_count": 45,
   "id": "b254111f",
   "metadata": {
    "scrolled": true
   },
   "outputs": [
    {
     "name": "stdout",
     "output_type": "stream",
     "text": [
      "Model: \"model\"\n",
      "_________________________________________________________________\n",
      " Layer (type)                Output Shape              Param #   \n",
      "=================================================================\n",
      " input_1 (InputLayer)        [(None, 80, 1)]           0         \n",
      "                                                                 \n",
      " reshape (Reshape)           (None, 80)                0         \n",
      "                                                                 \n",
      " rescaling (Rescaling)       (None, 80)                0         \n",
      "                                                                 \n",
      " dense (Dense)               (None, 74)                5994      \n",
      "                                                                 \n",
      " dropout (Dropout)           (None, 74)                0         \n",
      "                                                                 \n",
      " dense_1 (Dense)             (None, 74)                5550      \n",
      "                                                                 \n",
      " dropout_1 (Dropout)         (None, 74)                0         \n",
      "                                                                 \n",
      " dense_2 (Dense)             (None, 74)                5550      \n",
      "                                                                 \n",
      " dropout_2 (Dropout)         (None, 74)                0         \n",
      "                                                                 \n",
      " dense_3 (Dense)             (None, 74)                5550      \n",
      "                                                                 \n",
      " dropout_3 (Dropout)         (None, 74)                0         \n",
      "                                                                 \n",
      " dense_4 (Dense)             (None, 1)                 75        \n",
      "                                                                 \n",
      "=================================================================\n",
      "Total params: 22,719\n",
      "Trainable params: 22,719\n",
      "Non-trainable params: 0\n",
      "_________________________________________________________________\n"
     ]
    }
   ],
   "source": [
    "best_model.summary()"
   ]
  },
  {
   "cell_type": "markdown",
   "id": "e2efbe57",
   "metadata": {},
   "source": [
    "#### Evaluate with random crops"
   ]
  },
  {
   "cell_type": "code",
   "execution_count": 143,
   "id": "62667bb0",
   "metadata": {},
   "outputs": [],
   "source": [
    "def random_crop(output_size):\n",
    "    # TODO(FK): add name\n",
    "    # TODO(FK): handle size\n",
    "    size = [74, output_size, 1]\n",
    "    return tf.keras.layers.Lambda(lambda x: tf.image.random_crop(x, size=size))\n",
    "\n",
    "\n",
    "@tf.function\n",
    "def center_crop_slice(x, margin):\n",
    "    return x[..., margin:-margin, :]\n",
    "\n",
    "\n",
    "def center_crop(input_size=120, output_size=80):\n",
    "    return tf.keras.layers.Lambda(\n",
    "        lambda x: center_crop_slice(x, (input_size - output_size) // 2)\n",
    "    )\n",
    "\n",
    "\n",
    "data_augmentation = tf.keras.Sequential(\n",
    "    [\n",
    "        tf.keras.Input(shape=(120, 1)),\n",
    "        random_crop(80),\n",
    "        # random_invert(p=0.5),  # TODO(FK): keep?\n",
    "        #random_mirror(p=0.5),\n",
    "        #random_brightness(10),\n",
    "    ]\n",
    ")"
   ]
  },
  {
   "cell_type": "code",
   "execution_count": 100,
   "id": "90acfae4",
   "metadata": {},
   "outputs": [],
   "source": [
    "from amftrack.ml.width.data_augmentation import *"
   ]
  },
  {
   "cell_type": "raw",
   "id": "bfbb8ffb",
   "metadata": {},
   "source": [
    "data_augmentation = tf.keras.Sequential(\n",
    "    [\n",
    "        tf.keras.Input(shape=(120, 1)),\n",
    "        random_crop(120),\n",
    "        # random_invert(p=0.5),  # TODO(FK): keep?\n",
    "        random_mirror(p=0.5),\n",
    "        random_brightness(20),\n",
    "    ]\n",
    ")"
   ]
  },
  {
   "cell_type": "code",
   "execution_count": 79,
   "id": "8a53a48a",
   "metadata": {},
   "outputs": [],
   "source": [
    "data_augmentation = tf.keras.Sequential(\n",
    "    [\n",
    "        tf.keras.Input(shape=(120, 1)),\n",
    "        random_crop(80),\n",
    "    ]\n",
    ")"
   ]
  },
  {
   "cell_type": "code",
   "execution_count": 132,
   "id": "1ed5fa01",
   "metadata": {
    "scrolled": true
   },
   "outputs": [
    {
     "data": {
      "text/plain": [
       "Array([[199, 198, 197, ..., 203, 204, 207],\n",
       "       [175, 177, 176, ..., 167, 166, 166],\n",
       "       [194, 194, 194, ..., 146, 134, 120],\n",
       "       ...,\n",
       "       [186, 186, 186, ..., 179, 177, 179],\n",
       "       [204, 206, 206, ..., 205, 206, 206],\n",
       "       [188, 189, 188, ..., 174, 177, 179]], dtype=uint8)"
      ]
     },
     "execution_count": 132,
     "metadata": {},
     "output_type": "execute_result"
    }
   ],
   "source": [
    "test_feature"
   ]
  },
  {
   "cell_type": "code",
   "execution_count": 144,
   "id": "d4ae11b9",
   "metadata": {},
   "outputs": [],
   "source": [
    "feature_vector = data_augmentation(test_feature)"
   ]
  },
  {
   "cell_type": "code",
   "execution_count": 145,
   "id": "c74b492f",
   "metadata": {},
   "outputs": [],
   "source": [
    "tf.random.set_seed(12)"
   ]
  },
  {
   "cell_type": "code",
   "execution_count": 146,
   "id": "4a2789df",
   "metadata": {
    "scrolled": false
   },
   "outputs": [
    {
     "data": {
      "text/plain": [
       "<tf.Tensor: shape=(74,), dtype=float32, numpy=\n",
       "array([196., 166., 188., 186., 162., 200., 198., 157., 201., 180., 194.,\n",
       "       188., 184., 189., 183., 180., 165., 155., 202., 171., 171., 203.,\n",
       "       186., 173., 206., 176., 161., 200., 187., 175., 177., 194., 184.,\n",
       "       181., 189., 194., 197., 194., 193., 200., 165., 183., 197., 205.,\n",
       "       191., 155., 167., 168., 182., 178., 185., 192., 198., 158., 196.,\n",
       "       168., 199., 177., 196., 203., 164., 193., 174., 189., 178., 197.,\n",
       "       178., 202., 126., 175., 146., 170., 209., 186.], dtype=float32)>"
      ]
     },
     "execution_count": 146,
     "metadata": {},
     "output_type": "execute_result"
    }
   ],
   "source": [
    "feature_vector[:, 0, 0]"
   ]
  },
  {
   "cell_type": "code",
   "execution_count": 147,
   "id": "e0a635e2",
   "metadata": {},
   "outputs": [
    {
     "data": {
      "text/plain": [
       "<tf.Tensor: shape=(74,), dtype=float32, numpy=\n",
       "array([196., 166., 188., 186., 162., 200., 198., 157., 201., 180., 194.,\n",
       "       188., 184., 189., 183., 180., 165., 155., 202., 171., 171., 203.,\n",
       "       186., 173., 206., 176., 161., 200., 187., 175., 177., 194., 184.,\n",
       "       181., 189., 194., 197., 194., 193., 200., 165., 183., 197., 205.,\n",
       "       191., 155., 167., 168., 182., 178., 185., 192., 198., 158., 196.,\n",
       "       168., 199., 177., 196., 203., 164., 193., 174., 189., 178., 197.,\n",
       "       178., 202., 126., 175., 146., 170., 209., 186.], dtype=float32)>"
      ]
     },
     "execution_count": 147,
     "metadata": {},
     "output_type": "execute_result"
    }
   ],
   "source": [
    "feature_vector[:, 0, 0]"
   ]
  },
  {
   "cell_type": "code",
   "execution_count": 148,
   "id": "2707a279",
   "metadata": {
    "scrolled": false
   },
   "outputs": [
    {
     "name": "stdout",
     "output_type": "stream",
     "text": [
      "3/3 [==============================] - 0s 1ms/step - loss: 5.2993 - mean_absolute_error: 1.2498\n"
     ]
    },
    {
     "data": {
      "text/plain": [
       "[5.299310207366943, 1.2498197555541992]"
      ]
     },
     "execution_count": 148,
     "metadata": {},
     "output_type": "execute_result"
    }
   ],
   "source": [
    "best_model.evaluate(feature_vector, test_label)"
   ]
  },
  {
   "cell_type": "code",
   "execution_count": 149,
   "id": "5bd83327",
   "metadata": {
    "scrolled": false
   },
   "outputs": [
    {
     "data": {
      "image/png": "[encoded data removed]",
      "text/plain": [
       "<Figure size 432x288 with 1 Axes>"
      ]
     },
     "metadata": {
      "needs_background": "light"
     },
     "output_type": "display_data"
    }
   ],
   "source": [
    "plot_against(best_model, feature_vector, test_label)"
   ]
  },
  {
   "cell_type": "markdown",
   "id": "6035dd3a",
   "metadata": {},
   "source": [
    "### Analyse results: run 1"
   ]
  },
  {
   "cell_type": "code",
   "execution_count": 37,
   "id": "f39164b4",
   "metadata": {},
   "outputs": [],
   "source": [
    "best_model = tuner.get_best_models(1)[0]"
   ]
  },
  {
   "cell_type": "code",
   "execution_count": 38,
   "id": "72cf5803",
   "metadata": {},
   "outputs": [],
   "source": [
    "best_hyperparameters = tuner.get_best_hyperparameters(1)[0]"
   ]
  },
  {
   "cell_type": "code",
   "execution_count": 39,
   "id": "99b4c411",
   "metadata": {},
   "outputs": [
    {
     "name": "stdout",
     "output_type": "stream",
     "text": [
      "Model: \"model\"\n",
      "_________________________________________________________________\n",
      " Layer (type)                Output Shape              Param #   \n",
      "=================================================================\n",
      " input_1 (InputLayer)        [(None, 120, 1)]          0         \n",
      "                                                                 \n",
      " reshape (Reshape)           (None, 120)               0         \n",
      "                                                                 \n",
      " rescaling (Rescaling)       (None, 120)               0         \n",
      "                                                                 \n",
      " dense (Dense)               (None, 74)                8954      \n",
      "                                                                 \n",
      " dropout (Dropout)           (None, 74)                0         \n",
      "                                                                 \n",
      " dense_1 (Dense)             (None, 74)                5550      \n",
      "                                                                 \n",
      " dropout_1 (Dropout)         (None, 74)                0         \n",
      "                                                                 \n",
      " dense_2 (Dense)             (None, 74)                5550      \n",
      "                                                                 \n",
      " dropout_2 (Dropout)         (None, 74)                0         \n",
      "                                                                 \n",
      " dense_3 (Dense)             (None, 74)                5550      \n",
      "                                                                 \n",
      " dropout_3 (Dropout)         (None, 74)                0         \n",
      "                                                                 \n",
      " dense_4 (Dense)             (None, 1)                 75        \n",
      "                                                                 \n",
      "=================================================================\n",
      "Total params: 25,679\n",
      "Trainable params: 25,679\n",
      "Non-trainable params: 0\n",
      "_________________________________________________________________\n"
     ]
    }
   ],
   "source": [
    "best_model.summary()"
   ]
  },
  {
   "cell_type": "code",
   "execution_count": 40,
   "id": "bcc76a63",
   "metadata": {
    "scrolled": true
   },
   "outputs": [
    {
     "name": "stdout",
     "output_type": "stream",
     "text": [
      "Results summary\n",
      "Results in ./untitled_project\n",
      "Showing 10 best trials\n",
      "<keras_tuner.engine.objective.Objective object at 0x7f8c58d1d4c0>\n",
      "Trial summary\n",
      "Hyperparameters:\n",
      "input_size: 120\n",
      "hidden_size: 74\n",
      "regul: 0.0014215854798312684\n",
      "dense_blocks: 4\n",
      "dropout: 0.0\n",
      "learning_rate: 0.0009024056738718249\n",
      "Score: 0.6060740947723389\n",
      "Trial summary\n",
      "Hyperparameters:\n",
      "input_size: 120\n",
      "hidden_size: 74\n",
      "regul: 2.2980497006447554e-05\n",
      "dense_blocks: 10\n",
      "dropout: 0.0\n",
      "learning_rate: 0.002103917275801273\n",
      "Score: 0.6174165606498718\n",
      "Trial summary\n",
      "Hyperparameters:\n",
      "input_size: 120\n",
      "hidden_size: 42\n",
      "regul: 0.0035557261842639634\n",
      "dense_blocks: 3\n",
      "dropout: 0.0\n",
      "learning_rate: 0.0016003804865801434\n",
      "Score: 0.6346872448921204\n",
      "Trial summary\n",
      "Hyperparameters:\n",
      "input_size: 120\n",
      "hidden_size: 74\n",
      "regul: 1.1197291634395498e-05\n",
      "dense_blocks: 2\n",
      "dropout: 0.30000000000000004\n",
      "learning_rate: 0.0013053937581869813\n",
      "Score: 0.6696577668190002\n",
      "Trial summary\n",
      "Hyperparameters:\n",
      "input_size: 120\n",
      "hidden_size: 74\n",
      "regul: 0.0005968120420262622\n",
      "dense_blocks: 1\n",
      "dropout: 0.5\n",
      "learning_rate: 0.06229989301913533\n",
      "Score: 0.7698021531105042\n",
      "Trial summary\n",
      "Hyperparameters:\n",
      "input_size: 120\n",
      "hidden_size: 42\n",
      "regul: 0.005345868140133228\n",
      "dense_blocks: 7\n",
      "dropout: 0.1\n",
      "learning_rate: 0.0006830096465894109\n",
      "Score: 0.7981567978858948\n",
      "Trial summary\n",
      "Hyperparameters:\n",
      "input_size: 120\n",
      "hidden_size: 42\n",
      "regul: 0.03833623865750072\n",
      "dense_blocks: 8\n",
      "dropout: 0.1\n",
      "learning_rate: 0.0069811837832962605\n",
      "Score: 0.808732807636261\n",
      "Trial summary\n",
      "Hyperparameters:\n",
      "input_size: 120\n",
      "hidden_size: 42\n",
      "regul: 0.001817958232424904\n",
      "dense_blocks: 5\n",
      "dropout: 0.1\n",
      "learning_rate: 0.001172556665655592\n",
      "Score: 0.8203661441802979\n",
      "Trial summary\n",
      "Hyperparameters:\n",
      "input_size: 120\n",
      "hidden_size: 74\n",
      "regul: 0.024986191484086363\n",
      "dense_blocks: 6\n",
      "dropout: 0.30000000000000004\n",
      "learning_rate: 0.011804223748334806\n",
      "Score: 0.8840033411979675\n",
      "Trial summary\n",
      "Hyperparameters:\n",
      "input_size: 120\n",
      "hidden_size: 74\n",
      "regul: 6.28571702038226e-05\n",
      "dense_blocks: 8\n",
      "dropout: 0.1\n",
      "learning_rate: 0.0003890052906107908\n",
      "Score: 0.8874892592430115\n"
     ]
    }
   ],
   "source": [
    "tuner.results_summary()"
   ]
  },
  {
   "cell_type": "code",
   "execution_count": 41,
   "id": "a3ad742e",
   "metadata": {},
   "outputs": [
    {
     "name": "stdout",
     "output_type": "stream",
     "text": [
      "Search space summary\n",
      "Default search space size: 6\n",
      "input_size (Fixed)\n",
      "{'conditions': [], 'value': 120}\n",
      "hidden_size (Int)\n",
      "{'default': 32, 'conditions': [], 'min_value': 10, 'max_value': 100, 'step': 32, 'sampling': None}\n",
      "regul (Float)\n",
      "{'default': 0.0001, 'conditions': [], 'min_value': 1e-05, 'max_value': 0.1, 'step': None, 'sampling': 'log'}\n",
      "dense_blocks (Int)\n",
      "{'default': 3, 'conditions': [], 'min_value': 1, 'max_value': 10, 'step': 1, 'sampling': None}\n",
      "dropout (Float)\n",
      "{'default': 0.5, 'conditions': [], 'min_value': 0.0, 'max_value': 0.5, 'step': 0.1, 'sampling': None}\n",
      "learning_rate (Float)\n",
      "{'default': 0.001, 'conditions': [], 'min_value': 1e-05, 'max_value': 0.1, 'step': None, 'sampling': 'log'}\n"
     ]
    }
   ],
   "source": [
    "tuner.search_space_summary()"
   ]
  },
  {
   "cell_type": "code",
   "execution_count": 46,
   "id": "de84cf64",
   "metadata": {},
   "outputs": [],
   "source": [
    "def plot_against(model, test_feature, test_label):\n",
    "    predicted = model.predict(test_feature)\n",
    "    plt.scatter(test_label, predicted, marker='o')\n",
    "    plt.plot([0,12],[0,12])\n",
    "    plt.xlim(2, 16)\n",
    "    plt.ylim(2, 16)"
   ]
  },
  {
   "cell_type": "code",
   "execution_count": 47,
   "id": "1c25be78",
   "metadata": {
    "scrolled": false
   },
   "outputs": [
    {
     "data": {
      "image/png": "[encoded data removed]",
      "text/plain": [
       "<Figure size 432x288 with 1 Axes>"
      ]
     },
     "metadata": {
      "needs_background": "light"
     },
     "output_type": "display_data"
    }
   ],
   "source": [
    "plot_against(best_model, test_feature, test_label)"
   ]
  },
  {
   "cell_type": "code",
   "execution_count": 50,
   "id": "96325291",
   "metadata": {},
   "outputs": [
    {
     "name": "stdout",
     "output_type": "stream",
     "text": [
      "3/3 [==============================] - 0s 1ms/step - loss: 3.1182 - mean_absolute_error: 0.8862\n"
     ]
    },
    {
     "data": {
      "text/plain": [
       "[3.118171453475952, 0.8862246870994568]"
      ]
     },
     "execution_count": 50,
     "metadata": {},
     "output_type": "execute_result"
    }
   ],
   "source": [
    "best_model.evaluate(test_feature, test_label)"
   ]
  },
  {
   "cell_type": "code",
   "execution_count": 51,
   "id": "d20752f0",
   "metadata": {
    "scrolled": true
   },
   "outputs": [
    {
     "name": "stdout",
     "output_type": "stream",
     "text": [
      "Model: \"model\"\n",
      "_________________________________________________________________\n",
      " Layer (type)                Output Shape              Param #   \n",
      "=================================================================\n",
      " input_1 (InputLayer)        [(None, 120, 1)]          0         \n",
      "                                                                 \n",
      " reshape (Reshape)           (None, 120)               0         \n",
      "                                                                 \n",
      " rescaling (Rescaling)       (None, 120)               0         \n",
      "                                                                 \n",
      " dense (Dense)               (None, 74)                8954      \n",
      "                                                                 \n",
      " dropout (Dropout)           (None, 74)                0         \n",
      "                                                                 \n",
      " dense_1 (Dense)             (None, 74)                5550      \n",
      "                                                                 \n",
      " dropout_1 (Dropout)         (None, 74)                0         \n",
      "                                                                 \n",
      " dense_2 (Dense)             (None, 74)                5550      \n",
      "                                                                 \n",
      " dropout_2 (Dropout)         (None, 74)                0         \n",
      "                                                                 \n",
      " dense_3 (Dense)             (None, 74)                5550      \n",
      "                                                                 \n",
      " dropout_3 (Dropout)         (None, 74)                0         \n",
      "                                                                 \n",
      " dense_4 (Dense)             (None, 1)                 75        \n",
      "                                                                 \n",
      "=================================================================\n",
      "Total params: 25,679\n",
      "Trainable params: 25,679\n",
      "Non-trainable params: 0\n",
      "_________________________________________________________________\n"
     ]
    }
   ],
   "source": [
    "best_model.summary()"
   ]
  },
  {
   "cell_type": "code",
   "execution_count": 23,
   "id": "8b48a636",
   "metadata": {},
   "outputs": [
    {
     "data": {
      "text/plain": [
       "[<keras.engine.functional.Functional at 0x7fdd2c607ee0>,\n",
       " <keras.engine.functional.Functional at 0x7fdd2c791a90>,\n",
       " <keras.engine.functional.Functional at 0x7fdd2c674a30>,\n",
       " <keras.engine.functional.Functional at 0x7fdd2c7a5ca0>,\n",
       " <keras.engine.functional.Functional at 0x7fdd2c6ae970>]"
      ]
     },
     "execution_count": 23,
     "metadata": {},
     "output_type": "execute_result"
    }
   ],
   "source": [
    "tuner.get_best_models(5)"
   ]
  },
  {
   "cell_type": "markdown",
   "id": "e30e4301",
   "metadata": {},
   "source": [
    "## Random search with conv model"
   ]
  },
  {
   "cell_type": "markdown",
   "id": "35bd2ea9",
   "metadata": {},
   "source": [
    "### Training"
   ]
  },
  {
   "cell_type": "code",
   "execution_count": 17,
   "id": "3d1148ee",
   "metadata": {},
   "outputs": [],
   "source": [
    "tuner = kt.RandomSearch(\n",
    "    build_model_conv,\n",
    "    objective='val_mean_absolute_error',\n",
    "    max_trials=50,\n",
    "    seed=seed,\n",
    "    hyperparameters=None,\n",
    "    tune_new_entries=True,\n",
    "    allow_new_entries=True,\n",
    "    overwrite=True\n",
    ")"
   ]
  },
  {
   "cell_type": "code",
   "execution_count": 18,
   "id": "b8ff0b28",
   "metadata": {},
   "outputs": [
    {
     "name": "stdout",
     "output_type": "stream",
     "text": [
      "Trial 50 Complete [00h 00m 24s]\n",
      "val_mean_absolute_error: 0.8889835476875305\n",
      "\n",
      "Best val_mean_absolute_error So Far: 0.7578708529472351\n",
      "Total elapsed time: 00h 12m 48s\n",
      "INFO:tensorflow:Oracle triggered exit\n",
      "2022-06-07 15:42:32,487-[INFO]- tensorflow:1 -> Oracle triggered exit\n"
     ]
    }
   ],
   "source": [
    "tuner.search(train_feature,\n",
    "             train_label,\n",
    "             validation_split=0.2,\n",
    "             epochs=200,\n",
    "             callbacks=[tf.keras.callbacks.EarlyStopping(patience=8, restore_best_weights = True)])"
   ]
  },
  {
   "cell_type": "markdown",
   "id": "492ab450",
   "metadata": {},
   "source": [
    "### Analyse results"
   ]
  },
  {
   "cell_type": "code",
   "execution_count": 30,
   "id": "1a04d770",
   "metadata": {},
   "outputs": [
    {
     "name": "stdout",
     "output_type": "stream",
     "text": [
      "WARNING:tensorflow:Detecting that an object or model or tf.train.Checkpoint is being deleted with unrestored values. See the following logs for the specific values in question. To silence these warnings, use `status.expect_partial()`. See https://www.tensorflow.org/api_docs/python/tf/train/Checkpoint#restorefor details about the status object returned by the restore function.\n",
      "2022-06-07 15:53:13,851-[WARNING]- tensorflow:185 -> Detecting that an object or model or tf.train.Checkpoint is being deleted with unrestored values. See the following logs for the specific values in question. To silence these warnings, use `status.expect_partial()`. See https://www.tensorflow.org/api_docs/python/tf/train/Checkpoint#restorefor details about the status object returned by the restore function.\n",
      "WARNING:tensorflow:Value in checkpoint could not be found in the restored object: (root).optimizer.iter\n",
      "2022-06-07 15:53:13,852-[WARNING]- tensorflow:194 -> Value in checkpoint could not be found in the restored object: (root).optimizer.iter\n",
      "WARNING:tensorflow:Value in checkpoint could not be found in the restored object: (root).optimizer.beta_1\n",
      "2022-06-07 15:53:13,853-[WARNING]- tensorflow:194 -> Value in checkpoint could not be found in the restored object: (root).optimizer.beta_1\n",
      "WARNING:tensorflow:Value in checkpoint could not be found in the restored object: (root).optimizer.beta_2\n",
      "2022-06-07 15:53:13,854-[WARNING]- tensorflow:194 -> Value in checkpoint could not be found in the restored object: (root).optimizer.beta_2\n",
      "WARNING:tensorflow:Value in checkpoint could not be found in the restored object: (root).optimizer.decay\n",
      "2022-06-07 15:53:13,855-[WARNING]- tensorflow:194 -> Value in checkpoint could not be found in the restored object: (root).optimizer.decay\n",
      "WARNING:tensorflow:Value in checkpoint could not be found in the restored object: (root).optimizer.learning_rate\n",
      "2022-06-07 15:53:13,856-[WARNING]- tensorflow:194 -> Value in checkpoint could not be found in the restored object: (root).optimizer.learning_rate\n"
     ]
    }
   ],
   "source": [
    "best_model = tuner.get_best_models(2)[1]"
   ]
  },
  {
   "cell_type": "code",
   "execution_count": 31,
   "id": "17fe4590",
   "metadata": {},
   "outputs": [],
   "source": [
    "best_hyperparameters = tuner.get_best_hyperparameters(1)[0]"
   ]
  },
  {
   "cell_type": "code",
   "execution_count": 32,
   "id": "899c8b56",
   "metadata": {},
   "outputs": [
    {
     "name": "stdout",
     "output_type": "stream",
     "text": [
      "Model: \"model\"\n",
      "_________________________________________________________________\n",
      " Layer (type)                Output Shape              Param #   \n",
      "=================================================================\n",
      " input_1 (InputLayer)        [(None, 120, 1)]          0         \n",
      "                                                                 \n",
      " rescaling (Rescaling)       (None, 120, 1)            0         \n",
      "                                                                 \n",
      " conv1d (Conv1D)             (None, 111, 160)          1760      \n",
      "                                                                 \n",
      " re_lu (ReLU)                (None, 111, 160)          0         \n",
      "                                                                 \n",
      " conv1d_1 (Conv1D)           (None, 102, 128)          204928    \n",
      "                                                                 \n",
      " re_lu_1 (ReLU)              (None, 102, 128)          0         \n",
      "                                                                 \n",
      " average_pooling1d (AverageP  (None, 51, 128)          0         \n",
      " ooling1D)                                                       \n",
      "                                                                 \n",
      " flatten (Flatten)           (None, 6528)              0         \n",
      "                                                                 \n",
      " dense (Dense)               (None, 42)                274218    \n",
      "                                                                 \n",
      " dense_1 (Dense)             (None, 42)                1806      \n",
      "                                                                 \n",
      " dropout (Dropout)           (None, 42)                0         \n",
      "                                                                 \n",
      " dense_2 (Dense)             (None, 1)                 43        \n",
      "                                                                 \n",
      "=================================================================\n",
      "Total params: 482,755\n",
      "Trainable params: 482,755\n",
      "Non-trainable params: 0\n",
      "_________________________________________________________________\n"
     ]
    }
   ],
   "source": [
    "best_model.summary()"
   ]
  },
  {
   "cell_type": "code",
   "execution_count": 33,
   "id": "c9d257f8",
   "metadata": {
    "scrolled": true
   },
   "outputs": [
    {
     "name": "stdout",
     "output_type": "stream",
     "text": [
      "Results summary\n",
      "Results in ./untitled_project\n",
      "Showing 10 best trials\n",
      "<keras_tuner.engine.objective.Objective object at 0x7fcbf4194df0>\n",
      "Trial summary\n",
      "Hyperparameters:\n",
      "input_size: 120\n",
      "regul: 0.00050472731221573\n",
      "batch_normalization: False\n",
      "conv_blocks: 1\n",
      "filters_0: 224\n",
      "kernel_size0: 8\n",
      "filters_1: 160\n",
      "kernel_size1: 8\n",
      "pooling_1: max\n",
      "hidden_size: 74\n",
      "dense_blocks: 2\n",
      "dropout: 0.1\n",
      "learning_rate: 0.0004956405624619392\n",
      "pooling_0: max\n",
      "filters_2: 64\n",
      "kernel_size2: 16\n",
      "pooling_2: max\n",
      "Score: 0.7578708529472351\n",
      "Trial summary\n",
      "Hyperparameters:\n",
      "input_size: 120\n",
      "regul: 6.908837503318941e-05\n",
      "batch_normalization: False\n",
      "conv_blocks: 2\n",
      "filters_0: 160\n",
      "kernel_size0: 6\n",
      "filters_1: 128\n",
      "kernel_size1: 9\n",
      "pooling_1: avg\n",
      "hidden_size: 42\n",
      "dense_blocks: 2\n",
      "dropout: 0.0\n",
      "learning_rate: 0.0009775664203574934\n",
      "pooling_0: avg\n",
      "Score: 0.7826220393180847\n",
      "Trial summary\n",
      "Hyperparameters:\n",
      "input_size: 120\n",
      "regul: 0.057081903248112\n",
      "batch_normalization: False\n",
      "conv_blocks: 1\n",
      "filters_0: 64\n",
      "kernel_size0: 14\n",
      "filters_1: 64\n",
      "kernel_size1: 7\n",
      "pooling_1: avg\n",
      "hidden_size: 74\n",
      "dense_blocks: 2\n",
      "dropout: 0.2\n",
      "learning_rate: 0.011411774708082212\n",
      "pooling_0: max\n",
      "filters_2: 192\n",
      "kernel_size2: 10\n",
      "pooling_2: none\n",
      "Score: 0.8014196753501892\n",
      "Trial summary\n",
      "Hyperparameters:\n",
      "input_size: 120\n",
      "regul: 6.600318609580986e-05\n",
      "batch_normalization: True\n",
      "conv_blocks: 2\n",
      "filters_0: 32\n",
      "kernel_size0: 16\n",
      "filters_1: 224\n",
      "kernel_size1: 16\n",
      "pooling_1: avg\n",
      "hidden_size: 10\n",
      "dense_blocks: 2\n",
      "dropout: 0.0\n",
      "learning_rate: 0.0492500587799961\n",
      "pooling_0: avg\n",
      "filters_2: 256\n",
      "kernel_size2: 11\n",
      "pooling_2: avg\n",
      "Score: 0.817267119884491\n",
      "Trial summary\n",
      "Hyperparameters:\n",
      "input_size: 120\n",
      "regul: 0.0011634658432873727\n",
      "batch_normalization: False\n",
      "conv_blocks: 1\n",
      "filters_0: 224\n",
      "kernel_size0: 12\n",
      "filters_1: 128\n",
      "kernel_size1: 10\n",
      "pooling_1: avg\n",
      "hidden_size: 10\n",
      "dense_blocks: 1\n",
      "dropout: 0.5\n",
      "learning_rate: 0.003042708823781575\n",
      "pooling_0: none\n",
      "filters_2: 32\n",
      "kernel_size2: 9\n",
      "pooling_2: none\n",
      "Score: 0.8286616802215576\n",
      "Trial summary\n",
      "Hyperparameters:\n",
      "input_size: 120\n",
      "regul: 1.619773895005048e-05\n",
      "batch_normalization: False\n",
      "conv_blocks: 3\n",
      "filters_0: 160\n",
      "kernel_size0: 6\n",
      "filters_1: 256\n",
      "kernel_size1: 14\n",
      "pooling_1: none\n",
      "hidden_size: 42\n",
      "dense_blocks: 2\n",
      "dropout: 0.2\n",
      "learning_rate: 0.0008639229762234833\n",
      "pooling_0: none\n",
      "filters_2: 160\n",
      "kernel_size2: 6\n",
      "pooling_2: avg\n",
      "Score: 0.8419789671897888\n",
      "Trial summary\n",
      "Hyperparameters:\n",
      "input_size: 120\n",
      "regul: 0.0003562885617035428\n",
      "batch_normalization: False\n",
      "conv_blocks: 3\n",
      "filters_0: 128\n",
      "kernel_size0: 17\n",
      "filters_1: 160\n",
      "kernel_size1: 10\n",
      "pooling_1: none\n",
      "hidden_size: 74\n",
      "dense_blocks: 2\n",
      "dropout: 0.4\n",
      "learning_rate: 0.0002116879080190912\n",
      "pooling_0: avg\n",
      "filters_2: 64\n",
      "kernel_size2: 18\n",
      "pooling_2: max\n",
      "Score: 0.8466448187828064\n",
      "Trial summary\n",
      "Hyperparameters:\n",
      "input_size: 120\n",
      "regul: 0.006743919511388627\n",
      "batch_normalization: False\n",
      "conv_blocks: 1\n",
      "filters_0: 128\n",
      "kernel_size0: 7\n",
      "filters_1: 32\n",
      "kernel_size1: 8\n",
      "pooling_1: none\n",
      "hidden_size: 74\n",
      "dense_blocks: 1\n",
      "dropout: 0.30000000000000004\n",
      "learning_rate: 0.0006015720890508641\n",
      "pooling_0: none\n",
      "filters_2: 224\n",
      "kernel_size2: 9\n",
      "pooling_2: max\n",
      "Score: 0.8519676327705383\n",
      "Trial summary\n",
      "Hyperparameters:\n",
      "input_size: 120\n",
      "regul: 0.016459331291952827\n",
      "batch_normalization: False\n",
      "conv_blocks: 1\n",
      "filters_0: 256\n",
      "kernel_size0: 19\n",
      "filters_1: 224\n",
      "kernel_size1: 7\n",
      "pooling_1: none\n",
      "hidden_size: 42\n",
      "dense_blocks: 1\n",
      "dropout: 0.1\n",
      "learning_rate: 0.03989289183382762\n",
      "pooling_0: max\n",
      "filters_2: 96\n",
      "kernel_size2: 17\n",
      "pooling_2: max\n",
      "Score: 0.8525543212890625\n",
      "Trial summary\n",
      "Hyperparameters:\n",
      "input_size: 120\n",
      "regul: 0.010881800788534846\n",
      "batch_normalization: False\n",
      "conv_blocks: 2\n",
      "filters_0: 224\n",
      "kernel_size0: 14\n",
      "filters_1: 192\n",
      "kernel_size1: 13\n",
      "pooling_1: avg\n",
      "hidden_size: 42\n",
      "dense_blocks: 1\n",
      "dropout: 0.0\n",
      "learning_rate: 0.011363871072843399\n",
      "pooling_0: avg\n",
      "filters_2: 128\n",
      "kernel_size2: 12\n",
      "pooling_2: avg\n",
      "Score: 0.8581556677818298\n"
     ]
    }
   ],
   "source": [
    "tuner.results_summary()"
   ]
  },
  {
   "cell_type": "code",
   "execution_count": 34,
   "id": "802d0f4e",
   "metadata": {},
   "outputs": [
    {
     "name": "stdout",
     "output_type": "stream",
     "text": [
      "Search space summary\n",
      "Default search space size: 17\n",
      "input_size (Fixed)\n",
      "{'conditions': [], 'value': 120}\n",
      "regul (Float)\n",
      "{'default': 0.0001, 'conditions': [], 'min_value': 1e-05, 'max_value': 0.1, 'step': None, 'sampling': 'log'}\n",
      "batch_normalization (Boolean)\n",
      "{'default': False, 'conditions': []}\n",
      "conv_blocks (Int)\n",
      "{'default': 2, 'conditions': [], 'min_value': 1, 'max_value': 3, 'step': 1, 'sampling': None}\n",
      "filters_0 (Int)\n",
      "{'default': None, 'conditions': [], 'min_value': 32, 'max_value': 256, 'step': 32, 'sampling': None}\n",
      "kernel_size0 (Int)\n",
      "{'default': None, 'conditions': [], 'min_value': 5, 'max_value': 20, 'step': 1, 'sampling': None}\n",
      "filters_1 (Int)\n",
      "{'default': None, 'conditions': [], 'min_value': 32, 'max_value': 256, 'step': 32, 'sampling': None}\n",
      "kernel_size1 (Int)\n",
      "{'default': None, 'conditions': [], 'min_value': 5, 'max_value': 20, 'step': 1, 'sampling': None}\n",
      "pooling_1 (Choice)\n",
      "{'default': 'avg', 'conditions': [], 'values': ['avg', 'max', 'none'], 'ordered': False}\n",
      "hidden_size (Int)\n",
      "{'default': 32, 'conditions': [], 'min_value': 10, 'max_value': 100, 'step': 32, 'sampling': None}\n",
      "dense_blocks (Int)\n",
      "{'default': 1, 'conditions': [], 'min_value': 1, 'max_value': 3, 'step': 1, 'sampling': None}\n",
      "dropout (Float)\n",
      "{'default': 0.5, 'conditions': [], 'min_value': 0.0, 'max_value': 0.5, 'step': 0.1, 'sampling': None}\n",
      "learning_rate (Float)\n",
      "{'default': 0.001, 'conditions': [], 'min_value': 1e-05, 'max_value': 0.1, 'step': None, 'sampling': 'log'}\n",
      "pooling_0 (Choice)\n",
      "{'default': 'avg', 'conditions': [], 'values': ['avg', 'max', 'none'], 'ordered': False}\n",
      "filters_2 (Int)\n",
      "{'default': None, 'conditions': [], 'min_value': 32, 'max_value': 256, 'step': 32, 'sampling': None}\n",
      "kernel_size2 (Int)\n",
      "{'default': None, 'conditions': [], 'min_value': 5, 'max_value': 20, 'step': 1, 'sampling': None}\n",
      "pooling_2 (Choice)\n",
      "{'default': 'avg', 'conditions': [], 'values': ['avg', 'max', 'none'], 'ordered': False}\n"
     ]
    }
   ],
   "source": [
    "tuner.search_space_summary()"
   ]
  },
  {
   "cell_type": "code",
   "execution_count": 35,
   "id": "504d343e",
   "metadata": {},
   "outputs": [],
   "source": [
    "def plot_against(model, test_feature, test_label):\n",
    "    predicted = model.predict(test_feature)\n",
    "    plt.scatter(test_label, predicted, marker='o')\n",
    "    plt.plot([0,12],[0,12])\n",
    "    plt.xlim(2, 16)\n",
    "    plt.ylim(2, 16)"
   ]
  },
  {
   "cell_type": "code",
   "execution_count": 36,
   "id": "7c343ab6",
   "metadata": {},
   "outputs": [
    {
     "data": {
      "text/plain": [
       "Array([[199, 198, 197, ..., 203, 204, 207],\n",
       "       [175, 177, 176, ..., 167, 166, 166],\n",
       "       [194, 194, 194, ..., 146, 134, 120],\n",
       "       ...,\n",
       "       [186, 186, 186, ..., 179, 177, 179],\n",
       "       [204, 206, 206, ..., 205, 206, 206],\n",
       "       [188, 189, 188, ..., 174, 177, 179]], dtype=uint8)"
      ]
     },
     "execution_count": 36,
     "metadata": {},
     "output_type": "execute_result"
    }
   ],
   "source": [
    "test_feature"
   ]
  },
  {
   "cell_type": "code",
   "execution_count": 37,
   "id": "13b40dc0",
   "metadata": {
    "scrolled": true
   },
   "outputs": [
    {
     "data": {
      "image/png": "[encoded data removed]",
      "text/plain": [
       "<Figure size 432x288 with 1 Axes>"
      ]
     },
     "metadata": {
      "needs_background": "light"
     },
     "output_type": "display_data"
    }
   ],
   "source": [
    "plot_against(best_model, test_feature, test_label)"
   ]
  },
  {
   "cell_type": "code",
   "execution_count": 38,
   "id": "4f889166",
   "metadata": {
    "scrolled": true
   },
   "outputs": [
    {
     "name": "stdout",
     "output_type": "stream",
     "text": [
      "3/3 [==============================] - 0s 6ms/step - loss: 2.2786 - mean_absolute_error: 1.0133\n"
     ]
    },
    {
     "data": {
      "text/plain": [
       "[2.278571844100952, 1.0132561922073364]"
      ]
     },
     "execution_count": 38,
     "metadata": {},
     "output_type": "execute_result"
    }
   ],
   "source": [
    "best_model.evaluate(test_feature, test_label)"
   ]
  },
  {
   "cell_type": "code",
   "execution_count": 39,
   "id": "80d3a718",
   "metadata": {
    "scrolled": true
   },
   "outputs": [
    {
     "name": "stdout",
     "output_type": "stream",
     "text": [
      "Model: \"model\"\n",
      "_________________________________________________________________\n",
      " Layer (type)                Output Shape              Param #   \n",
      "=================================================================\n",
      " input_1 (InputLayer)        [(None, 120, 1)]          0         \n",
      "                                                                 \n",
      " rescaling (Rescaling)       (None, 120, 1)            0         \n",
      "                                                                 \n",
      " conv1d (Conv1D)             (None, 111, 160)          1760      \n",
      "                                                                 \n",
      " re_lu (ReLU)                (None, 111, 160)          0         \n",
      "                                                                 \n",
      " conv1d_1 (Conv1D)           (None, 102, 128)          204928    \n",
      "                                                                 \n",
      " re_lu_1 (ReLU)              (None, 102, 128)          0         \n",
      "                                                                 \n",
      " average_pooling1d (AverageP  (None, 51, 128)          0         \n",
      " ooling1D)                                                       \n",
      "                                                                 \n",
      " flatten (Flatten)           (None, 6528)              0         \n",
      "                                                                 \n",
      " dense (Dense)               (None, 42)                274218    \n",
      "                                                                 \n",
      " dense_1 (Dense)             (None, 42)                1806      \n",
      "                                                                 \n",
      " dropout (Dropout)           (None, 42)                0         \n",
      "                                                                 \n",
      " dense_2 (Dense)             (None, 1)                 43        \n",
      "                                                                 \n",
      "=================================================================\n",
      "Total params: 482,755\n",
      "Trainable params: 482,755\n",
      "Non-trainable params: 0\n",
      "_________________________________________________________________\n"
     ]
    }
   ],
   "source": [
    "best_model.summary()"
   ]
  },
  {
   "cell_type": "code",
   "execution_count": 40,
   "id": "bbe87426",
   "metadata": {},
   "outputs": [
    {
     "name": "stdout",
     "output_type": "stream",
     "text": [
      "WARNING:tensorflow:Detecting that an object or model or tf.train.Checkpoint is being deleted with unrestored values. See the following logs for the specific values in question. To silence these warnings, use `status.expect_partial()`. See https://www.tensorflow.org/api_docs/python/tf/train/Checkpoint#restorefor details about the status object returned by the restore function.\n",
      "2022-06-07 15:53:58,773-[WARNING]- tensorflow:185 -> Detecting that an object or model or tf.train.Checkpoint is being deleted with unrestored values. See the following logs for the specific values in question. To silence these warnings, use `status.expect_partial()`. See https://www.tensorflow.org/api_docs/python/tf/train/Checkpoint#restorefor details about the status object returned by the restore function.\n",
      "WARNING:tensorflow:Value in checkpoint could not be found in the restored object: (root).optimizer.iter\n",
      "2022-06-07 15:53:58,774-[WARNING]- tensorflow:194 -> Value in checkpoint could not be found in the restored object: (root).optimizer.iter\n",
      "WARNING:tensorflow:Value in checkpoint could not be found in the restored object: (root).optimizer.beta_1\n",
      "2022-06-07 15:53:58,775-[WARNING]- tensorflow:194 -> Value in checkpoint could not be found in the restored object: (root).optimizer.beta_1\n",
      "WARNING:tensorflow:Value in checkpoint could not be found in the restored object: (root).optimizer.beta_2\n",
      "2022-06-07 15:53:58,777-[WARNING]- tensorflow:194 -> Value in checkpoint could not be found in the restored object: (root).optimizer.beta_2\n",
      "WARNING:tensorflow:Value in checkpoint could not be found in the restored object: (root).optimizer.decay\n",
      "2022-06-07 15:53:58,778-[WARNING]- tensorflow:194 -> Value in checkpoint could not be found in the restored object: (root).optimizer.decay\n",
      "WARNING:tensorflow:Value in checkpoint could not be found in the restored object: (root).optimizer.learning_rate\n",
      "2022-06-07 15:53:58,779-[WARNING]- tensorflow:194 -> Value in checkpoint could not be found in the restored object: (root).optimizer.learning_rate\n"
     ]
    },
    {
     "data": {
      "text/plain": [
       "[<keras.engine.functional.Functional at 0x7fcbc5fc2460>,\n",
       " <keras.engine.functional.Functional at 0x7fcbc5fd1040>,\n",
       " <keras.engine.functional.Functional at 0x7fcbc5ff2370>,\n",
       " <keras.engine.functional.Functional at 0x7fcbe442f370>,\n",
       " <keras.engine.functional.Functional at 0x7fcbe460e8e0>]"
      ]
     },
     "execution_count": 40,
     "metadata": {},
     "output_type": "execute_result"
    }
   ],
   "source": [
    "tuner.get_best_models(5)"
   ]
  },
  {
   "cell_type": "markdown",
   "id": "7656f24e",
   "metadata": {},
   "source": [
    "### Evaluate with data augmentation"
   ]
  },
  {
   "cell_type": "code",
   "execution_count": 49,
   "id": "91028823",
   "metadata": {},
   "outputs": [],
   "source": [
    "from amftrack.ml.width.data_augmentation import *"
   ]
  },
  {
   "cell_type": "code",
   "execution_count": null,
   "id": "32aabccc",
   "metadata": {},
   "outputs": [],
   "source": [
    "data_augmentation = tf.keras.Sequential(\n",
    "    [\n",
    "        tf.keras.Input(shape=(120, 1)),\n",
    "        random_crop(120),\n",
    "        # random_invert(p=0.5),  # TODO(FK): keep?\n",
    "        random_mirror(p=0.5),\n",
    "        random_brightness(20),\n",
    "    ]\n",
    ")"
   ]
  },
  {
   "cell_type": "code",
   "execution_count": 50,
   "id": "81f531c2",
   "metadata": {},
   "outputs": [
    {
     "data": {
      "text/plain": [
       "<keras.engine.sequential.Sequential at 0x7fcbf42ec700>"
      ]
     },
     "execution_count": 50,
     "metadata": {},
     "output_type": "execute_result"
    }
   ],
   "source": [
    "data_preparation"
   ]
  },
  {
   "cell_type": "code",
   "execution_count": 42,
   "id": "f08d1d37",
   "metadata": {},
   "outputs": [
    {
     "data": {
      "text/plain": [
       "Array([[199, 198, 197, ..., 203, 204, 207],\n",
       "       [175, 177, 176, ..., 167, 166, 166],\n",
       "       [194, 194, 194, ..., 146, 134, 120],\n",
       "       ...,\n",
       "       [186, 186, 186, ..., 179, 177, 179],\n",
       "       [204, 206, 206, ..., 205, 206, 206],\n",
       "       [188, 189, 188, ..., 174, 177, 179]], dtype=uint8)"
      ]
     },
     "execution_count": 42,
     "metadata": {},
     "output_type": "execute_result"
    }
   ],
   "source": [
    "test_feature"
   ]
  },
  {
   "cell_type": "code",
   "execution_count": 44,
   "id": "f8ea1200",
   "metadata": {},
   "outputs": [
    {
     "data": {
      "text/plain": [
       "(74, 1)"
      ]
     },
     "execution_count": 44,
     "metadata": {},
     "output_type": "execute_result"
    }
   ],
   "source": [
    "test_label.shape"
   ]
  },
  {
   "cell_type": "code",
   "execution_count": 45,
   "id": "61098b01",
   "metadata": {},
   "outputs": [],
   "source": [
    "test_feature_ = data_augmentation(test_feature)"
   ]
  },
  {
   "cell_type": "code",
   "execution_count": 46,
   "id": "2bea5a70",
   "metadata": {},
   "outputs": [
    {
     "data": {
      "text/plain": [
       "TensorShape([1, 80, 1])"
      ]
     },
     "execution_count": 46,
     "metadata": {},
     "output_type": "execute_result"
    }
   ],
   "source": []
  },
  {
   "cell_type": "code",
   "execution_count": null,
   "id": "a1f80240",
   "metadata": {},
   "outputs": [],
   "source": [
    "best_model.evaluate(test_feature, test_label)"
   ]
  },
  {
   "cell_type": "code",
   "execution_count": 41,
   "id": "5d366d12",
   "metadata": {},
   "outputs": [
    {
     "data": {
      "text/plain": [
       "<keras.engine.sequential.Sequential at 0x7fcbf74f6b20>"
      ]
     },
     "execution_count": 41,
     "metadata": {},
     "output_type": "execute_result"
    }
   ],
   "source": [
    "data_augmentation"
   ]
  },
  {
   "cell_type": "markdown",
   "id": "61491faa",
   "metadata": {},
   "source": [
    "## Random search with data augmentation"
   ]
  }
 ],
 "metadata": {
  "kernelspec": {
   "display_name": "Python 3 (ipykernel)",
   "language": "python",
   "name": "python3"
  },
  "language_info": {
   "codemirror_mode": {
    "name": "ipython",
    "version": 3
   },
   "file_extension": ".py",
   "mimetype": "text/x-python",
   "name": "python",
   "nbconvert_exporter": "python",
   "pygments_lexer": "ipython3",
   "version": "3.8.10"
  }
 },
 "nbformat": 4,
 "nbformat_minor": 5
}

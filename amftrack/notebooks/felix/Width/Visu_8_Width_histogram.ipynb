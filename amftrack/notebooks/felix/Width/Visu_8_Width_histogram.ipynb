{
 "cells": [
  {
   "cell_type": "markdown",
   "id": "f112ba0c",
   "metadata": {},
   "source": [
    "# Visu 8: Width histogram"
   ]
  },
  {
   "cell_type": "markdown",
   "id": "af4e4941",
   "metadata": {},
   "source": [
    "## Presentation"
   ]
  },
  {
   "cell_type": "markdown",
   "id": "9c154ec8",
   "metadata": {},
   "source": [
    "**Data**:\\\n",
    "106 pictures taken at 100x magnification of hyphae in one plate.\\\n",
    "All types of hyphea (big runner, runner, bas, ..) are represented.\\\n",
    "The width is then labeled with `labelme`."
   ]
  },
  {
   "cell_type": "markdown",
   "id": "d74287f6",
   "metadata": {},
   "source": [
    "**Plate**:\\\n",
    "The plate is plate number 1050.\\\n",
    "It is of strain C2. Treatment is 100C.\\\n",
    "The crossing was observed on 09/05."
   ]
  },
  {
   "cell_type": "markdown",
   "id": "ccb1bf74",
   "metadata": {},
   "source": [
    "**Conclusion**:\\\n",
    "Values go from 2.3 to 12.5 micrometers.\\\n",
    "Median is 4.7 micrometers."
   ]
  },
  {
   "cell_type": "markdown",
   "id": "8e847751",
   "metadata": {},
   "source": [
    "## Setup"
   ]
  },
  {
   "cell_type": "code",
   "execution_count": 7,
   "id": "88a4e93d",
   "metadata": {},
   "outputs": [],
   "source": [
    "import os\n",
    "import matplotlib.pyplot as plt\n",
    "\n",
    "from amftrack.util.sys import storage_path"
   ]
  },
  {
   "cell_type": "markdown",
   "id": "2628e687",
   "metadata": {},
   "source": [
    "## Plate overview"
   ]
  },
  {
   "cell_type": "code",
   "execution_count": 13,
   "id": "ef63956c",
   "metadata": {},
   "outputs": [],
   "source": [
    "full_stiched_path = os.path.join(storage_path, \"plate1050\", \"20220513_0839_Plate18\", \"StitchedImage.png\")"
   ]
  },
  {
   "cell_type": "raw",
   "id": "792f6434",
   "metadata": {},
   "source": [
    "plt.imshow(full_stiched_path)"
   ]
  },
  {
   "cell_type": "markdown",
   "id": "4db97d9b",
   "metadata": {},
   "source": [
    "## Get data"
   ]
  },
  {
   "cell_type": "markdown",
   "id": "67d82098",
   "metadata": {},
   "source": [
    "### Fetch segments"
   ]
  },
  {
   "cell_type": "code",
   "execution_count": 23,
   "id": "19e29c5a",
   "metadata": {},
   "outputs": [],
   "source": [
    "import random\n",
    "import json\n",
    "\n",
    "source = os.path.join(storage_path, \"plate1050_width\")\n",
    "\n",
    "def is_valid(name):\n",
    "    return \".json\" in name\n",
    "\n",
    "segments = {}\n",
    "for file in os.listdir(source):\n",
    "    if is_valid(file):\n",
    "        path = os.path.join(source, file)\n",
    "        with open(path) as f:\n",
    "            json_from_file = json.load(f)\n",
    "        for shape in json_from_file[\"shapes\"]:\n",
    "            if shape[\"label\"] == \"width\":\n",
    "                segments[file] = shape[\"points\"]"
   ]
  },
  {
   "cell_type": "markdown",
   "id": "f98996b4",
   "metadata": {},
   "source": [
    "### Convert setgment to width"
   ]
  },
  {
   "cell_type": "code",
   "execution_count": 31,
   "id": "b1dc059e",
   "metadata": {},
   "outputs": [],
   "source": [
    "import numpy as np\n",
    "from amftrack.util.image_analysis import convert_to_micrometer\n",
    "\n",
    "labels = {}\n",
    "\n",
    "for key in segments.keys():\n",
    "    point1 = np.array(segments[key][0])\n",
    "    point2 = np.array(segments[key][1])\n",
    "    length = convert_to_micrometer(\n",
    "                np.linalg.norm(point1 - point2), magnification=100\n",
    "            )\n",
    "    labels[key] = length"
   ]
  },
  {
   "cell_type": "markdown",
   "id": "da5071e9",
   "metadata": {},
   "source": [
    "## Data visualisation"
   ]
  },
  {
   "cell_type": "code",
   "execution_count": 37,
   "id": "30e92167",
   "metadata": {},
   "outputs": [],
   "source": [
    "import pandas as pd"
   ]
  },
  {
   "cell_type": "code",
   "execution_count": 32,
   "id": "e48d2439",
   "metadata": {},
   "outputs": [],
   "source": [
    "values = [labels[key] for key in labels.keys()]"
   ]
  },
  {
   "cell_type": "code",
   "execution_count": 42,
   "id": "b05ddb42",
   "metadata": {},
   "outputs": [
    {
     "data": {
      "text/plain": [
       "(array([ 8., 15., 10.,  6.,  8., 12., 11., 11.,  6.,  6.,  7.,  0.,  1.,\n",
       "         0.,  1.,  0.,  3.,  0.,  0.,  0.,  0.,  0.,  1.]),\n",
       " array([ 2.28162126,  2.7267886 ,  3.17195593,  3.61712327,  4.06229061,\n",
       "         4.50745795,  4.95262529,  5.39779263,  5.84295997,  6.2881273 ,\n",
       "         6.73329464,  7.17846198,  7.62362932,  8.06879666,  8.513964  ,\n",
       "         8.95913134,  9.40429867,  9.84946601, 10.29463335, 10.73980069,\n",
       "        11.18496803, 11.63013537, 12.07530271, 12.52047004]),\n",
       " <a list of 23 Patch objects>)"
      ]
     },
     "execution_count": 42,
     "metadata": {},
     "output_type": "execute_result"
    },
    {
     "data": {
      "image/png": "[encoded data removed]",
      "text/plain": [
       "<Figure size 432x288 with 1 Axes>"
      ]
     },
     "metadata": {
      "needs_background": "light"
     },
     "output_type": "display_data"
    }
   ],
   "source": [
    "plt.hist(values, bins = 23)"
   ]
  },
  {
   "cell_type": "code",
   "execution_count": 38,
   "id": "6eecf716",
   "metadata": {},
   "outputs": [],
   "source": [
    "serie = pd.Series(values)"
   ]
  },
  {
   "cell_type": "code",
   "execution_count": 39,
   "id": "be8bbbed",
   "metadata": {},
   "outputs": [
    {
     "data": {
      "text/plain": [
       "count    106.000000\n",
       "mean       4.819916\n",
       "std        1.801394\n",
       "min        2.281621\n",
       "25%        3.308409\n",
       "50%        4.714272\n",
       "75%        5.755497\n",
       "max       12.520470\n",
       "dtype: float64"
      ]
     },
     "execution_count": 39,
     "metadata": {},
     "output_type": "execute_result"
    }
   ],
   "source": [
    "serie.describe()"
   ]
  }
 ],
 "metadata": {
  "kernelspec": {
   "display_name": "Python 3 (ipykernel)",
   "language": "python",
   "name": "python3"
  },
  "language_info": {
   "codemirror_mode": {
    "name": "ipython",
    "version": 3
   },
   "file_extension": ".py",
   "mimetype": "text/x-python",
   "name": "python",
   "nbconvert_exporter": "python",
   "pygments_lexer": "ipython3",
   "version": "3.8.10"
  }
 },
 "nbformat": 4,
 "nbformat_minor": 5
}

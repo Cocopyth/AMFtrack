{
 "cells": [
  {
   "cell_type": "markdown",
   "id": "f112ba0c",
   "metadata": {},
   "source": [
    "# Visu 8: Width histogram"
   ]
  },
  {
   "cell_type": "markdown",
   "id": "7d7467f0",
   "metadata": {},
   "source": [
    "# I/ Close up images"
   ]
  },
  {
   "cell_type": "markdown",
   "id": "af4e4941",
   "metadata": {},
   "source": [
    "## Presentation"
   ]
  },
  {
   "cell_type": "markdown",
   "id": "9c154ec8",
   "metadata": {},
   "source": [
    "**Data**:\\\n",
    "106 pictures taken at 100x magnification of hyphae in one plate.\\\n",
    "All types of hyphea (big runner, runner, bas, ..) are represented.\\\n",
    "The width is then labeled with `labelme`."
   ]
  },
  {
   "cell_type": "markdown",
   "id": "d74287f6",
   "metadata": {},
   "source": [
    "**Plate**:\\\n",
    "The plate is plate number 1050.\\\n",
    "It is of strain C2. Treatment is 100C.\\\n",
    "The crossing was observed on 09/05."
   ]
  },
  {
   "cell_type": "markdown",
   "id": "ccb1bf74",
   "metadata": {},
   "source": [
    "**Conclusion**:\\\n",
    "Values go from 2.3 to 12.5 micrometers.\\\n",
    "Median is 4.7 micrometers."
   ]
  },
  {
   "cell_type": "markdown",
   "id": "8e847751",
   "metadata": {},
   "source": [
    "## Setup"
   ]
  },
  {
   "cell_type": "code",
   "execution_count": 5,
   "id": "88a4e93d",
   "metadata": {},
   "outputs": [],
   "source": [
    "import os\n",
    "import matplotlib.pyplot as plt\n",
    "import random\n",
    "import json\n",
    "import pandas as pd\n",
    "import numpy as np\n",
    "\n",
    "from amftrack.util.sys import storage_path\n",
    "from amftrack.util.image_analysis import convert_to_micrometer"
   ]
  },
  {
   "cell_type": "markdown",
   "id": "2628e687",
   "metadata": {},
   "source": [
    "## Plate overview"
   ]
  },
  {
   "cell_type": "code",
   "execution_count": 13,
   "id": "ef63956c",
   "metadata": {},
   "outputs": [],
   "source": [
    "full_stiched_path = os.path.join(storage_path, \"plate1050\", \"20220513_0839_Plate18\", \"StitchedImage.png\")"
   ]
  },
  {
   "cell_type": "raw",
   "id": "792f6434",
   "metadata": {},
   "source": [
    "plt.imshow(full_stiched_path)"
   ]
  },
  {
   "cell_type": "markdown",
   "id": "4db97d9b",
   "metadata": {},
   "source": [
    "## Get data"
   ]
  },
  {
   "cell_type": "markdown",
   "id": "67d82098",
   "metadata": {},
   "source": [
    "### Fetch segments"
   ]
  },
  {
   "cell_type": "code",
   "execution_count": 23,
   "id": "19e29c5a",
   "metadata": {},
   "outputs": [],
   "source": [
    "source = os.path.join(storage_path, \"plate1050_width\")\n",
    "\n",
    "def is_valid(name):\n",
    "    return \".json\" in name\n",
    "\n",
    "segments = {}\n",
    "for file in os.listdir(source):\n",
    "    if is_valid(file):\n",
    "        path = os.path.join(source, file)\n",
    "        with open(path) as f:\n",
    "            json_from_file = json.load(f)\n",
    "        for shape in json_from_file[\"shapes\"]:\n",
    "            if shape[\"label\"] == \"width\":\n",
    "                segments[file] = shape[\"points\"]"
   ]
  },
  {
   "cell_type": "markdown",
   "id": "f98996b4",
   "metadata": {},
   "source": [
    "### Convert setgment to width"
   ]
  },
  {
   "cell_type": "code",
   "execution_count": 31,
   "id": "b1dc059e",
   "metadata": {},
   "outputs": [],
   "source": [
    "import numpy as np\n",
    "from amftrack.util.image_analysis import convert_to_micrometer\n",
    "\n",
    "labels = {}\n",
    "\n",
    "for key in segments.keys():\n",
    "    point1 = np.array(segments[key][0])\n",
    "    point2 = np.array(segments[key][1])\n",
    "    length = convert_to_micrometer(\n",
    "                np.linalg.norm(point1 - point2), magnification=100\n",
    "            )\n",
    "    labels[key] = length"
   ]
  },
  {
   "cell_type": "markdown",
   "id": "da5071e9",
   "metadata": {},
   "source": [
    "## Data visualisation"
   ]
  },
  {
   "cell_type": "code",
   "execution_count": 32,
   "id": "e48d2439",
   "metadata": {},
   "outputs": [],
   "source": [
    "values = [labels[key] for key in labels.keys()]"
   ]
  },
  {
   "cell_type": "code",
   "execution_count": 42,
   "id": "b05ddb42",
   "metadata": {},
   "outputs": [
    {
     "data": {
      "text/plain": [
       "(array([ 8., 15., 10.,  6.,  8., 12., 11., 11.,  6.,  6.,  7.,  0.,  1.,\n",
       "         0.,  1.,  0.,  3.,  0.,  0.,  0.,  0.,  0.,  1.]),\n",
       " array([ 2.28162126,  2.7267886 ,  3.17195593,  3.61712327,  4.06229061,\n",
       "         4.50745795,  4.95262529,  5.39779263,  5.84295997,  6.2881273 ,\n",
       "         6.73329464,  7.17846198,  7.62362932,  8.06879666,  8.513964  ,\n",
       "         8.95913134,  9.40429867,  9.84946601, 10.29463335, 10.73980069,\n",
       "        11.18496803, 11.63013537, 12.07530271, 12.52047004]),\n",
       " <a list of 23 Patch objects>)"
      ]
     },
     "execution_count": 42,
     "metadata": {},
     "output_type": "execute_result"
    },
    {
     "data": {
      "image/png": "[encoded data removed]",
      "text/plain": [
       "<Figure size 432x288 with 1 Axes>"
      ]
     },
     "metadata": {
      "needs_background": "light"
     },
     "output_type": "display_data"
    }
   ],
   "source": [
    "plt.hist(values, bins = 23)"
   ]
  },
  {
   "cell_type": "code",
   "execution_count": 38,
   "id": "6eecf716",
   "metadata": {},
   "outputs": [],
   "source": [
    "serie = pd.Series(values)"
   ]
  },
  {
   "cell_type": "code",
   "execution_count": 39,
   "id": "be8bbbed",
   "metadata": {},
   "outputs": [
    {
     "data": {
      "text/plain": [
       "count    106.000000\n",
       "mean       4.819916\n",
       "std        1.801394\n",
       "min        2.281621\n",
       "25%        3.308409\n",
       "50%        4.714272\n",
       "75%        5.755497\n",
       "max       12.520470\n",
       "dtype: float64"
      ]
     },
     "execution_count": 39,
     "metadata": {},
     "output_type": "execute_result"
    }
   ],
   "source": [
    "serie.describe()"
   ]
  },
  {
   "cell_type": "markdown",
   "id": "6d8d70fc",
   "metadata": {},
   "source": [
    "# II/ Prince images"
   ]
  },
  {
   "cell_type": "code",
   "execution_count": 26,
   "id": "2807b114",
   "metadata": {},
   "outputs": [],
   "source": [
    "old_plate = os.path.join(storage_path, \"labels_precise\", \"20220527_0153_Plate08\", \"Img\")\n",
    "new_plate = os.path.join(storage_path, \"labels_precise\", \"20220527_0332_Plate01\", \"Img\")"
   ]
  },
  {
   "cell_type": "markdown",
   "id": "ea547e87",
   "metadata": {},
   "source": [
    "## Presentation"
   ]
  },
  {
   "cell_type": "markdown",
   "id": "f123c51f",
   "metadata": {},
   "source": [
    "Both plate are C2\n",
    "\n",
    "**Old plate**\\\n",
    "Is a plate that crossed a while ago.\\\n",
    "It has 70 points.\n",
    "\n",
    "**New plate**\\\n",
    "Is a plate that crossed recently.\\\n",
    "It has 150 points.\n",
    "\n",
    "**Conclusion**\\\n",
    "The values range between 2.4 and 15.2 for old plate and between 2.5 and 7.8 for the new plate.\\\n",
    "Which makes sense that the older plate would have some thicker hyphas.\\\n",
    "Most values are found between 3 and 8 micrometers.\\\n",
    "Those values are consistent with the values observed on the plate at 100x."
   ]
  },
  {
   "cell_type": "markdown",
   "id": "e9946338",
   "metadata": {},
   "source": [
    "## Old plate"
   ]
  },
  {
   "cell_type": "markdown",
   "id": "f4b91b13",
   "metadata": {},
   "source": [
    "### Fetch segments"
   ]
  },
  {
   "cell_type": "code",
   "execution_count": 16,
   "id": "f63003f5",
   "metadata": {},
   "outputs": [],
   "source": [
    "def is_valid(name):\n",
    "    return \".json\" in name\n",
    "\n",
    "segments_new = []\n",
    "for file in os.listdir(old_plate):\n",
    "    if is_valid(file):\n",
    "        path = os.path.join(old_plate, file)\n",
    "        with open(path) as f:\n",
    "            json_from_file = json.load(f)\n",
    "        for shape in json_from_file[\"shapes\"]:\n",
    "            if shape[\"label\"] == \"width\":\n",
    "                segments_new. append(shape[\"points\"])"
   ]
  },
  {
   "cell_type": "markdown",
   "id": "4d284464",
   "metadata": {},
   "source": [
    "### Convert setgment to width"
   ]
  },
  {
   "cell_type": "code",
   "execution_count": 17,
   "id": "7e97967c",
   "metadata": {},
   "outputs": [],
   "source": [
    "labels = []\n",
    "\n",
    "for segment in segments_new:\n",
    "    point1 = np.array(segment[0])\n",
    "    point2 = np.array(segment[1])\n",
    "    length = convert_to_micrometer(\n",
    "                np.linalg.norm(point1 - point2), magnification=2\n",
    "            )\n",
    "    labels.append(length)"
   ]
  },
  {
   "cell_type": "markdown",
   "id": "8460ad06",
   "metadata": {},
   "source": [
    "## Data visualisation"
   ]
  },
  {
   "cell_type": "code",
   "execution_count": 18,
   "id": "640621ff",
   "metadata": {},
   "outputs": [
    {
     "data": {
      "text/plain": [
       "70"
      ]
     },
     "execution_count": 18,
     "metadata": {},
     "output_type": "execute_result"
    }
   ],
   "source": [
    "len(labels)"
   ]
  },
  {
   "cell_type": "code",
   "execution_count": 20,
   "id": "3f37d7e9",
   "metadata": {},
   "outputs": [
    {
     "data": {
      "text/plain": [
       "(array([ 4.,  8., 19., 10.,  6.,  4.,  2.,  3.,  2.,  3.,  0.,  1.,  1.,\n",
       "         0.,  0.,  1.,  2.,  1.,  0.,  0.,  0.,  2.,  1.]),\n",
       " array([ 2.39205357,  2.95064039,  3.50922722,  4.06781405,  4.62640088,\n",
       "         5.1849877 ,  5.74357453,  6.30216136,  6.86074819,  7.41933501,\n",
       "         7.97792184,  8.53650867,  9.0950955 ,  9.65368232, 10.21226915,\n",
       "        10.77085598, 11.32944281, 11.88802963, 12.44661646, 13.00520329,\n",
       "        13.56379012, 14.12237694, 14.68096377, 15.2395506 ]),\n",
       " <a list of 23 Patch objects>)"
      ]
     },
     "execution_count": 20,
     "metadata": {},
     "output_type": "execute_result"
    },
    {
     "data": {
      "image/png": "[encoded data removed]",
      "text/plain": [
       "<Figure size 432x288 with 1 Axes>"
      ]
     },
     "metadata": {
      "needs_background": "light"
     },
     "output_type": "display_data"
    }
   ],
   "source": [
    "plt.hist(labels, bins = 23)"
   ]
  },
  {
   "cell_type": "code",
   "execution_count": 23,
   "id": "884f4548",
   "metadata": {},
   "outputs": [],
   "source": [
    "serie = pd.Series(labels)"
   ]
  },
  {
   "cell_type": "code",
   "execution_count": 24,
   "id": "6c6ab955",
   "metadata": {},
   "outputs": [
    {
     "data": {
      "text/plain": [
       "count    70.000000\n",
       "mean      5.454233\n",
       "std       2.941387\n",
       "min       2.392054\n",
       "25%       3.688637\n",
       "50%       4.210676\n",
       "75%       6.117486\n",
       "max      15.239551\n",
       "dtype: float64"
      ]
     },
     "execution_count": 24,
     "metadata": {},
     "output_type": "execute_result"
    }
   ],
   "source": [
    "serie.describe()"
   ]
  },
  {
   "cell_type": "markdown",
   "id": "38f6e408",
   "metadata": {},
   "source": [
    "## Young plate"
   ]
  },
  {
   "cell_type": "markdown",
   "id": "8d6364c9",
   "metadata": {},
   "source": [
    "### Fetch segments"
   ]
  },
  {
   "cell_type": "code",
   "execution_count": 28,
   "id": "88e92b9f",
   "metadata": {},
   "outputs": [],
   "source": [
    "def is_valid(name):\n",
    "    return \".json\" in name\n",
    "\n",
    "segments_new = []\n",
    "for file in os.listdir(new_plate):\n",
    "    if is_valid(file):\n",
    "        path = os.path.join(new_plate, file)\n",
    "        with open(path) as f:\n",
    "            json_from_file = json.load(f)\n",
    "        for shape in json_from_file[\"shapes\"]:\n",
    "            if shape[\"label\"] == \"width\":\n",
    "                segments_new. append(shape[\"points\"])"
   ]
  },
  {
   "cell_type": "markdown",
   "id": "0eeed4bf",
   "metadata": {},
   "source": [
    "### Convert setgment to width"
   ]
  },
  {
   "cell_type": "code",
   "execution_count": 29,
   "id": "1198e125",
   "metadata": {},
   "outputs": [],
   "source": [
    "labels = []\n",
    "\n",
    "for segment in segments_new:\n",
    "    point1 = np.array(segment[0])\n",
    "    point2 = np.array(segment[1])\n",
    "    length = convert_to_micrometer(\n",
    "                np.linalg.norm(point1 - point2), magnification=2\n",
    "            )\n",
    "    labels.append(length)"
   ]
  },
  {
   "cell_type": "markdown",
   "id": "5dbca78d",
   "metadata": {},
   "source": [
    "## Data visualisation"
   ]
  },
  {
   "cell_type": "code",
   "execution_count": 30,
   "id": "6a23e59c",
   "metadata": {},
   "outputs": [
    {
     "data": {
      "text/plain": [
       "154"
      ]
     },
     "execution_count": 30,
     "metadata": {},
     "output_type": "execute_result"
    }
   ],
   "source": [
    "len(labels)"
   ]
  },
  {
   "cell_type": "code",
   "execution_count": 31,
   "id": "18885d86",
   "metadata": {},
   "outputs": [
    {
     "data": {
      "text/plain": [
       "(array([ 2.,  0.,  4., 10., 10.,  9.,  7., 11.,  3., 10.,  9.,  9.,  9.,\n",
       "         7.,  8., 10., 11., 12.,  3.,  4.,  4.,  0.,  2.]),\n",
       " array([2.51163791, 2.74318719, 2.97473647, 3.20628575, 3.43783504,\n",
       "        3.66938432, 3.9009336 , 4.13248288, 4.36403216, 4.59558144,\n",
       "        4.82713072, 5.05868   , 5.29022928, 5.52177856, 5.75332784,\n",
       "        5.98487713, 6.21642641, 6.44797569, 6.67952497, 6.91107425,\n",
       "        7.14262353, 7.37417281, 7.60572209, 7.83727137]),\n",
       " <a list of 23 Patch objects>)"
      ]
     },
     "execution_count": 31,
     "metadata": {},
     "output_type": "execute_result"
    },
    {
     "data": {
      "image/png": "[encoded data removed]",
      "text/plain": [
       "<Figure size 432x288 with 1 Axes>"
      ]
     },
     "metadata": {
      "needs_background": "light"
     },
     "output_type": "display_data"
    }
   ],
   "source": [
    "plt.hist(labels, bins = 23)"
   ]
  },
  {
   "cell_type": "code",
   "execution_count": 33,
   "id": "90628030",
   "metadata": {},
   "outputs": [],
   "source": [
    "serie = pd.Series(labels)"
   ]
  },
  {
   "cell_type": "code",
   "execution_count": 34,
   "id": "63c05111",
   "metadata": {},
   "outputs": [
    {
     "data": {
      "text/plain": [
       "count    154.000000\n",
       "mean       5.087088\n",
       "std        1.228165\n",
       "min        2.511638\n",
       "25%        4.015949\n",
       "50%        5.113234\n",
       "75%        6.162500\n",
       "max        7.837271\n",
       "dtype: float64"
      ]
     },
     "execution_count": 34,
     "metadata": {},
     "output_type": "execute_result"
    }
   ],
   "source": [
    "serie.describe()"
   ]
  },
  {
   "cell_type": "code",
   "execution_count": null,
   "id": "dc69b86a",
   "metadata": {},
   "outputs": [],
   "source": []
  }
 ],
 "metadata": {
  "kernelspec": {
   "display_name": "Python 3 (ipykernel)",
   "language": "python",
   "name": "python3"
  },
  "language_info": {
   "codemirror_mode": {
    "name": "ipython",
    "version": 3
   },
   "file_extension": ".py",
   "mimetype": "text/x-python",
   "name": "python",
   "nbconvert_exporter": "python",
   "pygments_lexer": "ipython3",
   "version": "3.8.10"
  }
 },
 "nbformat": 4,
 "nbformat_minor": 5
}

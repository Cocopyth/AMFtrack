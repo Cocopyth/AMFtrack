{
 "cells": [
  {
   "cell_type": "markdown",
   "id": "f112ba0c",
   "metadata": {},
   "source": [
    "# Visu 8: Width histogram"
   ]
  },
  {
   "cell_type": "code",
   "execution_count": 133,
   "id": "b023d024",
   "metadata": {},
   "outputs": [
    {
     "data": {
      "application/javascript": [
       "$('<div id=\"toc\"></div>').css({position: 'fixed', top: '120px', left: 0}).appendTo(document.body);\n",
       "$.getScript('https://kmahelona.github.io/ipython_notebook_goodies/ipython_notebook_toc.js');\n"
      ],
      "text/plain": [
       "<IPython.core.display.Javascript object>"
      ]
     },
     "metadata": {},
     "output_type": "display_data"
    }
   ],
   "source": [
    "%%javascript\n",
    "$('<div id=\"toc\"></div>').css({position: 'fixed', top: '120px', left: 0}).appendTo(document.body);\n",
    "$.getScript('https://kmahelona.github.io/ipython_notebook_goodies/ipython_notebook_toc.js');"
   ]
  },
  {
   "cell_type": "markdown",
   "id": "8e847751",
   "metadata": {},
   "source": [
    "# Setup"
   ]
  },
  {
   "cell_type": "code",
   "execution_count": 100,
   "id": "88a4e93d",
   "metadata": {},
   "outputs": [],
   "source": [
    "import os\n",
    "import matplotlib.pyplot as plt\n",
    "import random\n",
    "import json\n",
    "import pandas as pd\n",
    "import numpy as np\n",
    "\n",
    "from amftrack.util.sys import storage_path\n",
    "from amftrack.util.image_analysis import convert_to_micrometer"
   ]
  },
  {
   "cell_type": "markdown",
   "id": "7d7467f0",
   "metadata": {},
   "source": [
    "# Close up x100 images"
   ]
  },
  {
   "cell_type": "markdown",
   "id": "af4e4941",
   "metadata": {},
   "source": [
    "## Presentation"
   ]
  },
  {
   "cell_type": "markdown",
   "id": "9c154ec8",
   "metadata": {},
   "source": [
    "**Data**:\n",
    "106 pictures taken at 100x magnification of hyphae in one plate.\\\n",
    "All types of hyphea (big runner, runner, bas, ..) are represented.\\\n",
    "The width is then labeled with `labelme`."
   ]
  },
  {
   "cell_type": "markdown",
   "id": "d74287f6",
   "metadata": {},
   "source": [
    "**Plate**:\n",
    "The plate is plate number 1050.\\\n",
    "It is of strain C2. Treatment is 100C.\\\n",
    "The crossing was observed on 09/05."
   ]
  },
  {
   "cell_type": "markdown",
   "id": "ccb1bf74",
   "metadata": {},
   "source": [
    "**Conclusion**:\n",
    "Values go from 2.3 to 12.5 micrometers.\\\n",
    "Median is 4.7 micrometers."
   ]
  },
  {
   "cell_type": "markdown",
   "id": "2628e687",
   "metadata": {},
   "source": [
    "## Plate overview"
   ]
  },
  {
   "cell_type": "raw",
   "id": "a8f40716",
   "metadata": {},
   "source": [
    "full_stiched_path = os.path.join(storage_path, \"plate1050\", \"20220513_0839_Plate18\", \"StitchedImage.png\")"
   ]
  },
  {
   "cell_type": "raw",
   "id": "792f6434",
   "metadata": {},
   "source": [
    "plt.imshow(full_stiched_path)"
   ]
  },
  {
   "cell_type": "markdown",
   "id": "4db97d9b",
   "metadata": {},
   "source": [
    "## Get data"
   ]
  },
  {
   "cell_type": "markdown",
   "id": "67d82098",
   "metadata": {},
   "source": [
    "Fetch segments"
   ]
  },
  {
   "cell_type": "code",
   "execution_count": 101,
   "id": "19e29c5a",
   "metadata": {},
   "outputs": [],
   "source": [
    "source = os.path.join(storage_path, \"plate1050_width\")\n",
    "\n",
    "def is_valid(name):\n",
    "    return \".json\" in name\n",
    "\n",
    "segments = {}\n",
    "for file in os.listdir(source):\n",
    "    if is_valid(file):\n",
    "        path = os.path.join(source, file)\n",
    "        with open(path) as f:\n",
    "            json_from_file = json.load(f)\n",
    "        for shape in json_from_file[\"shapes\"]:\n",
    "            if shape[\"label\"] == \"width\":\n",
    "                segments[file] = shape[\"points\"]"
   ]
  },
  {
   "cell_type": "markdown",
   "id": "f98996b4",
   "metadata": {},
   "source": [
    "Convert setgment to width"
   ]
  },
  {
   "cell_type": "code",
   "execution_count": 102,
   "id": "b1dc059e",
   "metadata": {},
   "outputs": [],
   "source": [
    "labels = {}\n",
    "\n",
    "for key in segments.keys():\n",
    "    point1 = np.array(segments[key][0])\n",
    "    point2 = np.array(segments[key][1])\n",
    "    length = convert_to_micrometer(\n",
    "                np.linalg.norm(point1 - point2), magnification=100\n",
    "            )\n",
    "    labels[key] = length"
   ]
  },
  {
   "cell_type": "markdown",
   "id": "da5071e9",
   "metadata": {},
   "source": [
    "## Data visualisation"
   ]
  },
  {
   "cell_type": "code",
   "execution_count": 103,
   "id": "e48d2439",
   "metadata": {},
   "outputs": [],
   "source": [
    "values = [labels[key] for key in labels.keys()]"
   ]
  },
  {
   "cell_type": "code",
   "execution_count": 104,
   "id": "b05ddb42",
   "metadata": {},
   "outputs": [
    {
     "data": {
      "text/plain": [
       "(array([ 8., 15., 10.,  6.,  8., 12., 11., 11.,  6.,  6.,  7.,  0.,  1.,\n",
       "         0.,  1.,  0.,  3.,  0.,  0.,  0.,  0.,  0.,  1.]),\n",
       " array([ 2.28162126,  2.7267886 ,  3.17195593,  3.61712327,  4.06229061,\n",
       "         4.50745795,  4.95262529,  5.39779263,  5.84295997,  6.2881273 ,\n",
       "         6.73329464,  7.17846198,  7.62362932,  8.06879666,  8.513964  ,\n",
       "         8.95913134,  9.40429867,  9.84946601, 10.29463335, 10.73980069,\n",
       "        11.18496803, 11.63013537, 12.07530271, 12.52047004]),\n",
       " <a list of 23 Patch objects>)"
      ]
     },
     "execution_count": 104,
     "metadata": {},
     "output_type": "execute_result"
    },
    {
     "data": {
      "image/png": "[encoded data removed]",
      "text/plain": [
       "<Figure size 432x288 with 1 Axes>"
      ]
     },
     "metadata": {
      "needs_background": "light"
     },
     "output_type": "display_data"
    }
   ],
   "source": [
    "plt.hist(values, bins = 23)"
   ]
  },
  {
   "cell_type": "code",
   "execution_count": 105,
   "id": "6eecf716",
   "metadata": {},
   "outputs": [],
   "source": [
    "serie = pd.Series(values)"
   ]
  },
  {
   "cell_type": "code",
   "execution_count": 106,
   "id": "be8bbbed",
   "metadata": {},
   "outputs": [
    {
     "data": {
      "text/plain": [
       "count    106.000000\n",
       "mean       4.819916\n",
       "std        1.801394\n",
       "min        2.281621\n",
       "25%        3.308409\n",
       "50%        4.714272\n",
       "75%        5.755497\n",
       "max       12.520470\n",
       "dtype: float64"
      ]
     },
     "execution_count": 106,
     "metadata": {},
     "output_type": "execute_result"
    }
   ],
   "source": [
    "serie.describe()"
   ]
  },
  {
   "cell_type": "markdown",
   "id": "6d8d70fc",
   "metadata": {},
   "source": [
    "# Prince x2 images"
   ]
  },
  {
   "cell_type": "markdown",
   "id": "5e227774",
   "metadata": {},
   "source": [
    "## Setup"
   ]
  },
  {
   "cell_type": "code",
   "execution_count": 107,
   "id": "9b8a2afb",
   "metadata": {},
   "outputs": [],
   "source": [
    "def fetch_label(path_to_labels):\n",
    "    def is_valid(name):\n",
    "        return \".json\" in name\n",
    "\n",
    "    segments_new = []\n",
    "    for file in os.listdir(path_to_labels):\n",
    "        if is_valid(file):\n",
    "            path = os.path.join(path_to_labels, file)\n",
    "            with open(path) as f:\n",
    "                json_from_file = json.load(f)\n",
    "            for shape in json_from_file[\"shapes\"]:\n",
    "                if shape[\"label\"] == \"width\":\n",
    "                    segments_new. append(shape[\"points\"])\n",
    "    return segments_new"
   ]
  },
  {
   "cell_type": "code",
   "execution_count": 108,
   "id": "7e97967c",
   "metadata": {},
   "outputs": [],
   "source": [
    "def convert_segments_to_width(segments_new):\n",
    "    labels = []\n",
    "    for segment in segments_new:\n",
    "        point1 = np.array(segment[0])\n",
    "        point2 = np.array(segment[1])\n",
    "        length = convert_to_micrometer(\n",
    "                    np.linalg.norm(point1 - point2), magnification=2\n",
    "                )\n",
    "        labels.append(length)\n",
    "    return labels"
   ]
  },
  {
   "cell_type": "markdown",
   "id": "af6d37b2",
   "metadata": {},
   "source": [
    "## C2"
   ]
  },
  {
   "cell_type": "markdown",
   "id": "ea547e87",
   "metadata": {},
   "source": [
    "### Presentation"
   ]
  },
  {
   "cell_type": "markdown",
   "id": "f123c51f",
   "metadata": {},
   "source": [
    "Both plate are C2\n",
    "\n",
    "**Old plate**\\\n",
    "Is a plate that crossed a while ago.\\\n",
    "It has 70 points.\n",
    "\n",
    "**New plate**\\\n",
    "Is a plate that crossed recently.\\\n",
    "It has 150 points.\n",
    "\n",
    "**Conclusion**\\\n",
    "The values range between 2.4 and 15.2 for old plate and between 2.5 and 7.8 for the new plate.\\\n",
    "Which makes sense that the older plate would have some thicker hyphas.\\\n",
    "Most values are found between 3 and 8 micrometers.\\\n",
    "Those values are consistent with the values observed on the plate at 100x."
   ]
  },
  {
   "cell_type": "code",
   "execution_count": 109,
   "id": "2807b114",
   "metadata": {},
   "outputs": [],
   "source": [
    "old_plate = os.path.join(storage_path, \"labels_precise\", \"20220527_0153_Plate08\", \"Img\")\n",
    "new_plate = os.path.join(storage_path, \"labels_precise\", \"20220527_0332_Plate01\", \"Img\")"
   ]
  },
  {
   "cell_type": "markdown",
   "id": "e9946338",
   "metadata": {},
   "source": [
    "### Old plate"
   ]
  },
  {
   "cell_type": "code",
   "execution_count": 110,
   "id": "91c3da70",
   "metadata": {},
   "outputs": [],
   "source": [
    "segments_new = fetch_label(old_plate)\n",
    "labels = convert_segments_to_width(segments_new)"
   ]
  },
  {
   "cell_type": "code",
   "execution_count": 111,
   "id": "640621ff",
   "metadata": {
    "scrolled": true
   },
   "outputs": [
    {
     "data": {
      "text/plain": [
       "70"
      ]
     },
     "execution_count": 111,
     "metadata": {},
     "output_type": "execute_result"
    }
   ],
   "source": [
    "len(labels)"
   ]
  },
  {
   "cell_type": "code",
   "execution_count": 112,
   "id": "3f37d7e9",
   "metadata": {},
   "outputs": [
    {
     "data": {
      "text/plain": [
       "(array([ 4.,  8., 19., 10.,  6.,  4.,  2.,  3.,  2.,  3.,  0.,  1.,  1.,\n",
       "         0.,  0.,  1.,  2.,  1.,  0.,  0.,  0.,  2.,  1.]),\n",
       " array([ 2.39205357,  2.95064039,  3.50922722,  4.06781405,  4.62640088,\n",
       "         5.1849877 ,  5.74357453,  6.30216136,  6.86074819,  7.41933501,\n",
       "         7.97792184,  8.53650867,  9.0950955 ,  9.65368232, 10.21226915,\n",
       "        10.77085598, 11.32944281, 11.88802963, 12.44661646, 13.00520329,\n",
       "        13.56379012, 14.12237694, 14.68096377, 15.2395506 ]),\n",
       " <a list of 23 Patch objects>)"
      ]
     },
     "execution_count": 112,
     "metadata": {},
     "output_type": "execute_result"
    },
    {
     "data": {
      "image/png": "[encoded data removed]",
      "text/plain": [
       "<Figure size 432x288 with 1 Axes>"
      ]
     },
     "metadata": {
      "needs_background": "light"
     },
     "output_type": "display_data"
    }
   ],
   "source": [
    "plt.hist(labels, bins = 23)"
   ]
  },
  {
   "cell_type": "code",
   "execution_count": 113,
   "id": "884f4548",
   "metadata": {},
   "outputs": [],
   "source": [
    "serie = pd.Series(labels)"
   ]
  },
  {
   "cell_type": "code",
   "execution_count": 114,
   "id": "6c6ab955",
   "metadata": {},
   "outputs": [
    {
     "data": {
      "text/plain": [
       "count    70.000000\n",
       "mean      5.454233\n",
       "std       2.941387\n",
       "min       2.392054\n",
       "25%       3.688637\n",
       "50%       4.210676\n",
       "75%       6.117486\n",
       "max      15.239551\n",
       "dtype: float64"
      ]
     },
     "execution_count": 114,
     "metadata": {},
     "output_type": "execute_result"
    }
   ],
   "source": [
    "serie.describe()"
   ]
  },
  {
   "cell_type": "markdown",
   "id": "38f6e408",
   "metadata": {},
   "source": [
    "### Young plate"
   ]
  },
  {
   "cell_type": "code",
   "execution_count": 115,
   "id": "4a46f6c9",
   "metadata": {},
   "outputs": [],
   "source": [
    "segments_new = fetch_label(new_plate)\n",
    "labels = convert_segments_to_width(segments_new)"
   ]
  },
  {
   "cell_type": "code",
   "execution_count": 116,
   "id": "6a23e59c",
   "metadata": {},
   "outputs": [
    {
     "data": {
      "text/plain": [
       "154"
      ]
     },
     "execution_count": 116,
     "metadata": {},
     "output_type": "execute_result"
    }
   ],
   "source": [
    "len(labels)"
   ]
  },
  {
   "cell_type": "code",
   "execution_count": 117,
   "id": "18885d86",
   "metadata": {},
   "outputs": [
    {
     "data": {
      "text/plain": [
       "(array([ 2.,  0.,  4., 10., 10.,  9.,  7., 11.,  3., 10.,  9.,  9.,  9.,\n",
       "         7.,  8., 10., 11., 12.,  3.,  4.,  4.,  0.,  2.]),\n",
       " array([2.51163791, 2.74318719, 2.97473647, 3.20628575, 3.43783504,\n",
       "        3.66938432, 3.9009336 , 4.13248288, 4.36403216, 4.59558144,\n",
       "        4.82713072, 5.05868   , 5.29022928, 5.52177856, 5.75332784,\n",
       "        5.98487713, 6.21642641, 6.44797569, 6.67952497, 6.91107425,\n",
       "        7.14262353, 7.37417281, 7.60572209, 7.83727137]),\n",
       " <a list of 23 Patch objects>)"
      ]
     },
     "execution_count": 117,
     "metadata": {},
     "output_type": "execute_result"
    },
    {
     "data": {
      "image/png": "[encoded data removed]",
      "text/plain": [
       "<Figure size 432x288 with 1 Axes>"
      ]
     },
     "metadata": {
      "needs_background": "light"
     },
     "output_type": "display_data"
    }
   ],
   "source": [
    "plt.hist(labels, bins = 23)"
   ]
  },
  {
   "cell_type": "code",
   "execution_count": 118,
   "id": "90628030",
   "metadata": {},
   "outputs": [],
   "source": [
    "serie = pd.Series(labels)"
   ]
  },
  {
   "cell_type": "code",
   "execution_count": 119,
   "id": "63c05111",
   "metadata": {},
   "outputs": [
    {
     "data": {
      "text/plain": [
       "count    154.000000\n",
       "mean       5.087088\n",
       "std        1.228165\n",
       "min        2.511638\n",
       "25%        4.015949\n",
       "50%        5.113234\n",
       "75%        6.162500\n",
       "max        7.837271\n",
       "dtype: float64"
      ]
     },
     "execution_count": 119,
     "metadata": {},
     "output_type": "execute_result"
    }
   ],
   "source": [
    "serie.describe()"
   ]
  },
  {
   "cell_type": "markdown",
   "id": "d0e42c0f",
   "metadata": {},
   "source": [
    "## Agg"
   ]
  },
  {
   "cell_type": "markdown",
   "id": "bc0f377f",
   "metadata": {},
   "source": [
    "20220512_0326_Plate09: new\\\n",
    "20220531_0455_Plate10: medium\\\n",
    "20220527_0251_Plate27: old"
   ]
  },
  {
   "cell_type": "code",
   "execution_count": 120,
   "id": "e8232200",
   "metadata": {},
   "outputs": [],
   "source": [
    "old_plate = os.path.join(storage_path, \"labels_precise\", \"20220527_0251_Plate27\", \"Img\")\n",
    "medium_plate = os.path.join(storage_path, \"labels_precise\", \"20220531_0455_Plate10\", \"Img\")\n",
    "new_plate = os.path.join(storage_path, \"labels_precise\", \"20220512_0326_Plate09\", \"Img\")"
   ]
  },
  {
   "cell_type": "markdown",
   "id": "58fda7dc",
   "metadata": {},
   "source": [
    "### Presentation"
   ]
  },
  {
   "cell_type": "markdown",
   "id": "a721b75e",
   "metadata": {},
   "source": [
    "Three plates are Agg\n",
    "\n",
    "**Old plate**\\\n",
    "It has  points.\n",
    "\n",
    "**New plate**\\\n",
    "It has  points.\n",
    "\n",
    "**Conclusion**\\\n"
   ]
  },
  {
   "cell_type": "markdown",
   "id": "a527153e",
   "metadata": {},
   "source": [
    "### Old plate"
   ]
  },
  {
   "cell_type": "code",
   "execution_count": 121,
   "id": "589dfb83",
   "metadata": {},
   "outputs": [],
   "source": [
    "segments_new = fetch_label(old_plate)\n",
    "labels = convert_segments_to_width(segments_new)"
   ]
  },
  {
   "cell_type": "code",
   "execution_count": 122,
   "id": "030edae9",
   "metadata": {},
   "outputs": [
    {
     "data": {
      "text/plain": [
       "30"
      ]
     },
     "execution_count": 122,
     "metadata": {},
     "output_type": "execute_result"
    }
   ],
   "source": [
    "len(labels)"
   ]
  },
  {
   "cell_type": "code",
   "execution_count": 123,
   "id": "9d3b553c",
   "metadata": {},
   "outputs": [
    {
     "data": {
      "text/plain": [
       "(array([5., 3., 2., 1., 0., 0., 0., 0., 0., 2., 0., 3., 3., 3., 1., 4., 0.,\n",
       "        2., 0., 0., 0., 0., 1.]),\n",
       " array([2.07717506, 2.401223  , 2.72527093, 3.04931886, 3.37336679,\n",
       "        3.69741473, 4.02146266, 4.34551059, 4.66955853, 4.99360646,\n",
       "        5.31765439, 5.64170232, 5.96575026, 6.28979819, 6.61384612,\n",
       "        6.93789405, 7.26194199, 7.58598992, 7.91003785, 8.23408578,\n",
       "        8.55813372, 8.88218165, 9.20622958, 9.53027751]),\n",
       " <a list of 23 Patch objects>)"
      ]
     },
     "execution_count": 123,
     "metadata": {},
     "output_type": "execute_result"
    },
    {
     "data": {
      "image/png": "[encoded data removed]",
      "text/plain": [
       "<Figure size 432x288 with 1 Axes>"
      ]
     },
     "metadata": {
      "needs_background": "light"
     },
     "output_type": "display_data"
    }
   ],
   "source": [
    "plt.hist(labels, bins = 23)"
   ]
  },
  {
   "cell_type": "code",
   "execution_count": 124,
   "id": "decf23cc",
   "metadata": {},
   "outputs": [],
   "source": [
    "serie = pd.Series(labels)"
   ]
  },
  {
   "cell_type": "code",
   "execution_count": 125,
   "id": "09a2e0dd",
   "metadata": {},
   "outputs": [
    {
     "data": {
      "text/plain": [
       "count    30.000000\n",
       "mean      5.090694\n",
       "std       2.192134\n",
       "min       2.077175\n",
       "25%       2.640302\n",
       "50%       5.753581\n",
       "75%       6.681422\n",
       "max       9.530278\n",
       "dtype: float64"
      ]
     },
     "execution_count": 125,
     "metadata": {},
     "output_type": "execute_result"
    }
   ],
   "source": [
    "serie.describe()"
   ]
  },
  {
   "cell_type": "markdown",
   "id": "d5fac847",
   "metadata": {},
   "source": [
    "### Young plate"
   ]
  },
  {
   "cell_type": "code",
   "execution_count": 126,
   "id": "832f8bd8",
   "metadata": {},
   "outputs": [],
   "source": [
    "segments_new = fetch_label(new_plate)\n",
    "labels = convert_segments_to_width(segments_new)"
   ]
  },
  {
   "cell_type": "code",
   "execution_count": 127,
   "id": "37eb3189",
   "metadata": {},
   "outputs": [
    {
     "data": {
      "text/plain": [
       "94"
      ]
     },
     "execution_count": 127,
     "metadata": {},
     "output_type": "execute_result"
    }
   ],
   "source": [
    "len(labels)"
   ]
  },
  {
   "cell_type": "code",
   "execution_count": 128,
   "id": "1a1c695f",
   "metadata": {},
   "outputs": [
    {
     "data": {
      "text/plain": [
       "(array([10., 17.,  8.,  2., 11.,  7.,  2.,  7.,  4.,  3.,  7.,  5.,  4.,\n",
       "         0.,  3.,  1.,  0.,  2.,  0.,  0.,  0.,  0.,  1.]),\n",
       " array([ 2.69453614,  3.10758593,  3.52063571,  3.9336855 ,  4.34673529,\n",
       "         4.75978507,  5.17283486,  5.58588465,  5.99893443,  6.41198422,\n",
       "         6.82503401,  7.2380838 ,  7.65113358,  8.06418337,  8.47723316,\n",
       "         8.89028294,  9.30333273,  9.71638252, 10.12943231, 10.54248209,\n",
       "        10.95553188, 11.36858167, 11.78163145, 12.19468124]),\n",
       " <a list of 23 Patch objects>)"
      ]
     },
     "execution_count": 128,
     "metadata": {},
     "output_type": "execute_result"
    },
    {
     "data": {
      "image/png": "[encoded data removed]",
      "text/plain": [
       "<Figure size 432x288 with 1 Axes>"
      ]
     },
     "metadata": {
      "needs_background": "light"
     },
     "output_type": "display_data"
    }
   ],
   "source": [
    "plt.hist(labels, bins = 23)"
   ]
  },
  {
   "cell_type": "code",
   "execution_count": 129,
   "id": "5bffe859",
   "metadata": {},
   "outputs": [],
   "source": [
    "serie = pd.Series(labels)"
   ]
  },
  {
   "cell_type": "code",
   "execution_count": 130,
   "id": "dd71183e",
   "metadata": {},
   "outputs": [
    {
     "data": {
      "text/plain": [
       "count    94.000000\n",
       "mean      5.200225\n",
       "std       1.989996\n",
       "min       2.694536\n",
       "25%       3.473509\n",
       "50%       4.690593\n",
       "75%       6.735203\n",
       "max      12.194681\n",
       "dtype: float64"
      ]
     },
     "execution_count": 130,
     "metadata": {},
     "output_type": "execute_result"
    }
   ],
   "source": [
    "serie.describe()"
   ]
  },
  {
   "cell_type": "code",
   "execution_count": null,
   "id": "ac4e65fd",
   "metadata": {},
   "outputs": [],
   "source": []
  }
 ],
 "metadata": {
  "kernelspec": {
   "display_name": "Python 3 (ipykernel)",
   "language": "python",
   "name": "python3"
  },
  "language_info": {
   "codemirror_mode": {
    "name": "ipython",
    "version": 3
   },
   "file_extension": ".py",
   "mimetype": "text/x-python",
   "name": "python",
   "nbconvert_exporter": "python",
   "pygments_lexer": "ipython3",
   "version": "3.8.10"
  }
 },
 "nbformat": 4,
 "nbformat_minor": 5
}

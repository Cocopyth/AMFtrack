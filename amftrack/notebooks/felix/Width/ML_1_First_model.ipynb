{
 "cells": [
  {
   "cell_type": "markdown",
   "id": "b8383f8b",
   "metadata": {},
   "source": [
    "# First model"
   ]
  },
  {
   "cell_type": "markdown",
   "id": "56af904c",
   "metadata": {},
   "source": [
    "## Setup"
   ]
  },
  {
   "cell_type": "markdown",
   "id": "b0466677",
   "metadata": {},
   "source": [
    "#### Imports"
   ]
  },
  {
   "cell_type": "code",
   "execution_count": 153,
   "id": "722b9204",
   "metadata": {},
   "outputs": [],
   "source": [
    "import tensorflow as tf\n",
    "import numpy as np\n",
    "import os\n",
    "import pandas as pd\n",
    "\n",
    "from amftrack.util.sys import storage_path\n",
    "from amftrack.util.file import chose_file"
   ]
  },
  {
   "cell_type": "code",
   "execution_count": 47,
   "id": "1573776c",
   "metadata": {},
   "outputs": [
    {
     "data": {
      "text/plain": [
       "False"
      ]
     },
     "execution_count": 47,
     "metadata": {},
     "output_type": "execute_result"
    }
   ],
   "source": [
    "tf.config.functions_run_eagerly()"
   ]
  },
  {
   "cell_type": "code",
   "execution_count": 133,
   "id": "baa6b80e",
   "metadata": {},
   "outputs": [],
   "source": [
    "test_file = chose_file(section_path)"
   ]
  },
  {
   "cell_type": "code",
   "execution_count": 5,
   "id": "2240d0a1",
   "metadata": {},
   "outputs": [],
   "source": [
    "dataset_path = os.path.join(storage_path, \"width3\", \"dataset_test\")"
   ]
  },
  {
   "cell_type": "markdown",
   "id": "cff937af",
   "metadata": {},
   "source": [
    "#### Utils"
   ]
  },
  {
   "cell_type": "code",
   "execution_count": 151,
   "id": "9d1086cf",
   "metadata": {},
   "outputs": [],
   "source": [
    "def get_nodes(ch):\n",
    "    nodes = ch.split(\"-\")\n",
    "    print(nodes)\n",
    "    return nodes[0], nodes[1]"
   ]
  },
  {
   "cell_type": "markdown",
   "id": "7409ca0d",
   "metadata": {},
   "source": [
    "## I/ Data pipeline"
   ]
  },
  {
   "cell_type": "markdown",
   "id": "bd152c6b",
   "metadata": {},
   "source": [
    "Some remarks:\n",
    "\n",
    "- We use different edges for training validation and test"
   ]
  },
  {
   "cell_type": "markdown",
   "id": "e3504670",
   "metadata": {},
   "source": [
    "### 1/ Section profile"
   ]
  },
  {
   "cell_type": "code",
   "execution_count": 132,
   "id": "3aba3cff",
   "metadata": {},
   "outputs": [],
   "source": [
    "section_path = os.path.join(dataset_path, \"Img\")"
   ]
  },
  {
   "cell_type": "code",
   "execution_count": 131,
   "id": "d388d021",
   "metadata": {},
   "outputs": [],
   "source": [
    "@tf.function\n",
    "def load_image(filename):\n",
    "    \"Handle one edge\"\n",
    "    # 1/ Slices from the edge\n",
    "    raw = tf.io.read_file(filename) # open the file\n",
    "    image = tf.image.decode_png(raw, channels=1, dtype = tf.uint8)\n",
    "    print(\"Initial shape: \", image.shape)\n",
    "    image = tf.squeeze(image) # removing the last axis\n",
    "    # image.set_shape([None, 120, 1]) # TODO: chose here only part of the array\n",
    "    print(\"Final shape: \", image.shape)\n",
    "    \n",
    "    # 2/ Labels\n",
    "    # TODO\n",
    "    return tf.data.Dataset.from_tensor_slices(image)"
   ]
  },
  {
   "cell_type": "raw",
   "id": "9aa89657",
   "metadata": {},
   "source": [
    "b = load_image(chose_file(section_path))"
   ]
  },
  {
   "cell_type": "code",
   "execution_count": 142,
   "id": "64fc4ee1",
   "metadata": {},
   "outputs": [],
   "source": [
    "def reader_dataset(directory_path, repeat=1, n_readers=5, shuffle_buffer_size = 1000, batch_size=32):\n",
    "    \"\"\"\n",
    "    Take as input the directory containing the data points.\n",
    "    And return a tf.Dataset object iterating through the batches.\n",
    "    \"\"\"\n",
    "    filepaths = [os.path.join(directory_path, file) for file in os.listdir(directory_path)]\n",
    "    path_dataset = tf.data.Dataset.list_files(filepaths) # yield file names randomly\n",
    "    # TODO: make buffer size to size of the dataset\n",
    "    # TODO: get a dataset object from one file\n",
    "    general_dataset = path_dataset.interleave(lambda filepath: load_image(filepath), cycle_length=n_readers)\n",
    "    general_dataset = general_dataset.shuffle(shuffle_buffer_size).repeat(repeat)\n",
    "    return general_dataset.batch(batch_size).prefetch(1)"
   ]
  },
  {
   "cell_type": "raw",
   "id": "6eb47aa2",
   "metadata": {},
   "source": [
    "a = reader_dataset(section_path)\n",
    "for e in a:\n",
    "    print(e.shape)"
   ]
  },
  {
   "cell_type": "code",
   "execution_count": 166,
   "id": "ef0a944d",
   "metadata": {},
   "outputs": [],
   "source": [
    "data = pd.read_csv(os.path.join(dataset_path, \"data.csv\")) #.set_index('edge')\n",
    "#del data['Unnamed: 0']"
   ]
  },
  {
   "cell_type": "code",
   "execution_count": 170,
   "id": "fa1983d8",
   "metadata": {},
   "outputs": [
    {
     "data": {
      "text/html": [
       "<div>\n",
       "<style scoped>\n",
       "    .dataframe tbody tr th:only-of-type {\n",
       "        vertical-align: middle;\n",
       "    }\n",
       "\n",
       "    .dataframe tbody tr th {\n",
       "        vertical-align: top;\n",
       "    }\n",
       "\n",
       "    .dataframe thead th {\n",
       "        text-align: right;\n",
       "    }\n",
       "</style>\n",
       "<table border=\"1\" class=\"dataframe\">\n",
       "  <thead>\n",
       "    <tr style=\"text-align: right;\">\n",
       "      <th></th>\n",
       "      <th>Unnamed: 0</th>\n",
       "      <th>edge</th>\n",
       "      <th>width</th>\n",
       "    </tr>\n",
       "  </thead>\n",
       "  <tbody>\n",
       "  </tbody>\n",
       "</table>\n",
       "</div>"
      ],
      "text/plain": [
       "Empty DataFrame\n",
       "Columns: [Unnamed: 0, edge, width]\n",
       "Index: []"
      ]
     },
     "execution_count": 170,
     "metadata": {},
     "output_type": "execute_result"
    }
   ],
   "source": [
    "data[data[\"edge\"] == f\"(Node({482}),Node({478}))\"]"
   ]
  },
  {
   "cell_type": "code",
   "execution_count": 172,
   "id": "aff9ae97",
   "metadata": {
    "scrolled": true
   },
   "outputs": [
    {
     "name": "stdout",
     "output_type": "stream",
     "text": [
      "<class 'pandas.core.frame.DataFrame'>\n",
      "RangeIndex: 43 entries, 0 to 42\n",
      "Data columns (total 3 columns):\n",
      " #   Column      Non-Null Count  Dtype  \n",
      "---  ------      --------------  -----  \n",
      " 0   Unnamed: 0  43 non-null     int64  \n",
      " 1   edge        43 non-null     object \n",
      " 2   width       43 non-null     float64\n",
      "dtypes: float64(1), int64(1), object(1)\n",
      "memory usage: 1.1+ KB\n"
     ]
    }
   ],
   "source": [
    "data.info()"
   ]
  },
  {
   "cell_type": "markdown",
   "id": "5d953cbe",
   "metadata": {},
   "source": [
    "### 2/ Coordinates"
   ]
  },
  {
   "cell_type": "markdown",
   "id": "f147cc87",
   "metadata": {},
   "source": [
    "## II/ First model"
   ]
  },
  {
   "cell_type": "markdown",
   "id": "a8cbf510",
   "metadata": {},
   "source": [
    "# Brouillon"
   ]
  },
  {
   "cell_type": "code",
   "execution_count": null,
   "id": "3a45c8a2",
   "metadata": {},
   "outputs": [],
   "source": [
    "image_dir = 'hypothesis/temp'\n",
    "image_root = pathlib.Path(image_dir)\n",
    "list_ds = tf.data.Dataset.list_files(str(image_root/'*.png'))\n",
    "for f in list_ds:\n",
    "  image = tf.io.read_file(f)\n",
    "  image = tf.io.decode_png(image)"
   ]
  },
  {
   "cell_type": "code",
   "execution_count": null,
   "id": "36d6d220",
   "metadata": {},
   "outputs": [],
   "source": [
    "def process_path(file_path):\n",
    "  label = tf.strings.split(file_path, os.sep)[-2]\n",
    "  return tf.io.read_file(file_path), label\n",
    "\n",
    "labeled_ds = list_ds.map(process_path)\n",
    "\n",
    "for image_raw, label_text in labeled_ds.take(1):\n",
    "  print(repr(image_raw.numpy()[:100]))\n",
    "  print()\n",
    "  print(label_text.numpy())\n"
   ]
  },
  {
   "cell_type": "code",
   "execution_count": 30,
   "id": "9d679f21",
   "metadata": {},
   "outputs": [],
   "source": [
    "@tf.function\n",
    "def load_image(filename):\n",
    "    raw = tf.io.read_file(filename)\n",
    "    image = tf.image.decode_png(raw, channels=1)\n",
    "    # the `print` executes during tracing.\n",
    "    print(\"Initial shape: \", image.shape)\n",
    "    image.set_shape([28, 28, 3])\n",
    "    print(\"Final shape: \", image.shape)\n",
    "    return image\n"
   ]
  },
  {
   "cell_type": "code",
   "execution_count": null,
   "id": "1b1b81c2",
   "metadata": {},
   "outputs": [],
   "source": [
    "def process_path(file_path):\n",
    "    label = tf.strings.split(file_path, os.sep)[-2]"
   ]
  },
  {
   "cell_type": "code",
   "execution_count": null,
   "id": "dc526482",
   "metadata": {},
   "outputs": [],
   "source": [
    "def to_dataset(dataframe, shuffle=True, batch_size=32):\n",
    "    labels = dataframe.pop('label')\n",
    "    ds = tf.data.Dataset.from_tensor_slices((dict(dataframe), labels))\n",
    "    if shuffle:\n",
    "        ds = ds.shuffle(buffer_size=len(dataframe))\n",
    "    ds = ds.batch(batch_size)\n",
    "    ds = ds.prefetch(batch_size)\n",
    "    return ds"
   ]
  },
  {
   "cell_type": "code",
   "execution_count": null,
   "id": "27b8adf3",
   "metadata": {},
   "outputs": [],
   "source": [
    "import tensorflow as tf\n",
    "filenames = [\"./img1.jpg\", \"./img2.jpg\"]\n",
    "labels = [\"A\", \"B\"]\n",
    "\n",
    "def load_image(filePath, label):\n",
    "    print('Loading File: {}' + filePath)\n",
    "    raw_bytes = tf.io.read_file(filePath)\n",
    "    image = tf.io.decode_image(raw_bytes, expand_animations = False)\n",
    "    return tf.data.Dataset.from_tensors((image, label))\n",
    "\n",
    "dataset = tf.data.Dataset.from_tensor_slices((filenames, labels))\n",
    "dataset = dataset.interleave(lambda x, y: load_image(x, y), cycle_length=4)\n",
    "\n",
    "for i in dataset.as_numpy_iterator():\n",
    "    image = i[0]\n",
    "    label = i[1]\n",
    "    print(image.shape)\n",
    "    print(label.decode())"
   ]
  },
  {
   "cell_type": "code",
   "execution_count": null,
   "id": "4c8dc10b",
   "metadata": {},
   "outputs": [],
   "source": []
  },
  {
   "cell_type": "code",
   "execution_count": null,
   "id": "0bf5538a",
   "metadata": {},
   "outputs": [],
   "source": [
    "import csv\n",
    "\n",
    "with open('coors.csv', mode='r') as infile:\n",
    "    reader = csv.reader(infile)"
   ]
  }
 ],
 "metadata": {
  "kernelspec": {
   "display_name": "Python 3 (ipykernel)",
   "language": "python",
   "name": "python3"
  },
  "language_info": {
   "codemirror_mode": {
    "name": "ipython",
    "version": 3
   },
   "file_extension": ".py",
   "mimetype": "text/x-python",
   "name": "python",
   "nbconvert_exporter": "python",
   "pygments_lexer": "ipython3",
   "version": "3.8.0"
  }
 },
 "nbformat": 4,
 "nbformat_minor": 5
}

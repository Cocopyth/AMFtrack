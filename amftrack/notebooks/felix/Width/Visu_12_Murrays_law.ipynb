{
 "cells": [
  {
   "cell_type": "markdown",
   "id": "f63eaa72",
   "metadata": {},
   "source": [
    "# Murray's law"
   ]
  },
  {
   "cell_type": "markdown",
   "id": "07b9ac78",
   "metadata": {},
   "source": [
    "## Setup"
   ]
  },
  {
   "cell_type": "code",
   "execution_count": 39,
   "id": "30af0472",
   "metadata": {},
   "outputs": [
    {
     "data": {
      "application/javascript": [
       "$('<div id=\"toc\"></div>').css({position: 'fixed', top: '120px', left: 0}).appendTo(document.body);\n",
       "$.getScript('https://kmahelona.github.io/ipython_notebook_goodies/ipython_notebook_toc.js');\n"
      ],
      "text/plain": [
       "<IPython.core.display.Javascript object>"
      ]
     },
     "metadata": {},
     "output_type": "display_data"
    }
   ],
   "source": [
    "%%javascript\n",
    "$('<div id=\"toc\"></div>').css({position: 'fixed', top: '120px', left: 0}).appendTo(document.body);\n",
    "$.getScript('https://kmahelona.github.io/ipython_notebook_goodies/ipython_notebook_toc.js');"
   ]
  },
  {
   "cell_type": "code",
   "execution_count": 140,
   "id": "39fbd706",
   "metadata": {
    "scrolled": false
   },
   "outputs": [],
   "source": [
    "import pandas as pd\n",
    "import json\n",
    "import matplotlib.pyplot as plt\n",
    "import os\n",
    "import numpy as np\n",
    "import math\n",
    "from numpy import linalg as LA\n",
    "import scipy.optimize\n",
    "\n",
    "from amftrack.util.sys import storage_path\n",
    "from amftrack.util.image_analysis import convert_to_micrometer"
   ]
  },
  {
   "cell_type": "code",
   "execution_count": 31,
   "id": "faf5ad9c",
   "metadata": {},
   "outputs": [],
   "source": [
    "#path = os.path.join(storage_path, \"width1/measures/data_width_907_3.json\")\n",
    "path = \"/media/kahane/AMFtopology02/storage/width_73/Hypha2\""
   ]
  },
  {
   "cell_type": "markdown",
   "id": "8a7fb986",
   "metadata": {},
   "source": [
    "## Fetch data"
   ]
  },
  {
   "cell_type": "markdown",
   "id": "1893458e",
   "metadata": {},
   "source": [
    "### Coordinates"
   ]
  },
  {
   "cell_type": "markdown",
   "id": "f2fad752",
   "metadata": {},
   "source": [
    "Coordinates in the joystick referential"
   ]
  },
  {
   "cell_type": "code",
   "execution_count": 46,
   "id": "df611ed2",
   "metadata": {
    "collapsed": true
   },
   "outputs": [],
   "source": [
    "coordinates = {1: [28180, 48120],\n",
    "2: [28180, 48040],\n",
    "3: [28180, 48040],\n",
    "4: [28340, 47100],\n",
    "5: [28480, 46380],\n",
    "6: [28480, 46380],\n",
    "7: [28480, 46380],\n",
    "8: [28480, 46380],\n",
    "9: [28520, 46180],\n",
    "10: [28520, 46180],\n",
    "11: [28520, 46180],\n",
    "12: [28700, 45580],\n",
    "13: [28700, 45580],\n",
    "14: [29060, 44980],\n",
    "15: [29060, 44980],\n",
    "16: [29060, 44980],\n",
    "17: [29060, 44980],\n",
    "18: [29100, 44020],\n",
    "19: [29100, 44020],\n",
    "20: [29100, 44020],\n",
    "21: [29100, 44020],\n",
    "22: [29580, 43660],\n",
    "23: [29800, 43660],\n",
    "24: [29800, 43660],\n",
    "25: [29800, 43660],\n",
    "26: [29800, 43660],\n",
    "27: [29840, 43540],\n",
    "28: [29840, 43540],\n",
    "29: [29840, 43540],\n",
    "30: [29840, 43540],\n",
    "31: [29840, 43540],\n",
    "32: [30520, 42100],\n",
    "33: [30580, 41920],\n",
    "34: [30580, 41920],\n",
    "35: [30580, 41920],\n",
    "36: [30660, 41780],\n",
    "37: [30660, 41780],\n",
    "38: [30660, 41780],\n",
    "39: [30940, 40800],\n",
    "40: [30940, 40800],\n",
    "41: [31120, 40120],\n",
    "42: [31120, 40120],\n",
    "43: [31120, 40120],\n",
    "44: [31480, 38940],\n",
    "45: [31480, 38940],\n",
    "46: [31480, 38940],\n",
    "47: [32080, 37100],\n",
    "48: [32120, 36900],\n",
    "49: [32120, 36900],\n",
    "50: [32840, 35960],\n",
    "51: [32840, 35960],\n",
    "52: [32840, 35960],\n",
    "53: [33500, 35040],\n",
    "54: [33500, 35040],\n",
    "55: [34120, 34140],\n",
    "56: [34120, 34140],\n",
    "57: [34120, 34140],\n",
    "58: [35600, 32840],\n",
    "59: [35600, 32840],\n",
    "60: [33500, 35040],\n",
    "61: [33500, 35040],\n",
    "62: [36380, 32300],\n",
    "63: [36720, 32160], \n",
    "64: [36720, 32160],\n",
    "65: [36720, 32160],\n",
    "66: [36720, 32160],\n",
    "67: [37920, 31600],\n",
    "68: [37920, 31600],\n",
    "69: [37920, 31600],\n",
    "70: [37920, 31600],\n",
    "71: [39340, 31080],\n",
    "72: [39340, 31080],\n",
    "73: [39340, 31080],\n",
    "74: [39340, 31080], \n",
    "75: [39980, 30920],\n",
    "76: [39980, 30920],\n",
    "77: [39980, 30920],\n",
    "78: [41320, 30500],\n",
    "79: [41320, 30500],\n",
    "80: [41760, 30320],\n",
    "81: [41760, 30320],\n",
    "82: [41760, 30320],\n",
    "83: [42660, 29720],\n",
    "84: [42660, 29720], \n",
    "85: [42660, 29720],\n",
    "86: [42660, 29720],\n",
    "87: [43240, 29460],\n",
    "88: [43240, 29460],\n",
    "89: [43240, 29460],\n",
    "90: [43240, 29460],\n",
    "91: [44080, 29320],\n",
    "92: [44080, 29320],\n",
    "93: [44080, 29320],\n",
    "94: [44080, 29320],\n",
    "95: [44080, 29320],\n",
    "96: [45900, 29040],\n",
    "97: [45900, 29040],\n",
    "98: [45900, 29040],\n",
    "99: [45900, 29040],\n",
    "100: [45900, 29040],\n",
    "101: [45900, 29040],\n",
    "102: [47280, 28780],\n",
    "103: [50120, 28780],\n",
    "104: [51400, 29160],\n",
    "105: [51400, 29160],\n",
    "106: [51400, 29160],\n",
    "107: [51400, 29160],\n",
    "108: [53140, 29820],\n",
    "109: [53140, 29820],\n",
    "110: [54040, 30220],\n",
    "111: [54760, 30580],\n",
    "112: [54760, 30580],\n",
    "}"
   ]
  },
  {
   "cell_type": "code",
   "execution_count": 18,
   "id": "3249d38b",
   "metadata": {},
   "outputs": [
    {
     "data": {
      "text/plain": [
       "<matplotlib.collections.PathCollection at 0x7f587f9413a0>"
      ]
     },
     "execution_count": 18,
     "metadata": {},
     "output_type": "execute_result"
    },
    {
     "data": {
      "image/png": "[encoded data removed]",
      "text/plain": [
       "<Figure size 432x288 with 1 Axes>"
      ]
     },
     "metadata": {
      "needs_background": "light"
     },
     "output_type": "display_data"
    }
   ],
   "source": [
    "xs, ys = [], []\n",
    "for point in coordinates.values():\n",
    "    xs.append(point[0])\n",
    "    ys.append(point[1])\n",
    "plt.scatter(xs, ys)"
   ]
  },
  {
   "cell_type": "markdown",
   "id": "4becafea",
   "metadata": {},
   "source": [
    "### Labels"
   ]
  },
  {
   "cell_type": "code",
   "execution_count": 32,
   "id": "1a5f385d",
   "metadata": {},
   "outputs": [],
   "source": [
    "def is_valid(name):\n",
    "    return \".json\" in name"
   ]
  },
  {
   "cell_type": "code",
   "execution_count": 47,
   "id": "12837a9f",
   "metadata": {},
   "outputs": [],
   "source": [
    "d = {}\n",
    "d_width = {}\n",
    "d_pos = {}\n",
    "for file in os.listdir(path):\n",
    "    d_sub = {}\n",
    "    if is_valid(file):\n",
    "        file_path = os.path.join(path, file)\n",
    "        with open(file_path) as f:\n",
    "            json_from_file = json.load(f)\n",
    "        for shape in json_from_file[\"shapes\"]:\n",
    "            d_sub[shape['label']] = shape['points']\n",
    "            point1 = shape[\"points\"][0]\n",
    "            point2 = shape[\"points\"][1]\n",
    "            width_pix = np.linalg.norm(np.array(point1) - np.array(point2))\n",
    "            width_micro = convert_to_micrometer(\n",
    "                width_pix, magnification=50\n",
    "            )\n",
    "            if shape['label'] in d_width:\n",
    "                d_width[shape['label']].append(width_micro)\n",
    "            else:\n",
    "                d_width[shape['label']] = [width_micro]\n",
    "                d_pos[shape['label']] = coordinates[int(file[6:-5])]\n",
    "    d[file] = d_sub"
   ]
  },
  {
   "cell_type": "code",
   "execution_count": 38,
   "id": "10c61b7a",
   "metadata": {
    "scrolled": true
   },
   "outputs": [
    {
     "data": {
      "text/plain": [
       "{'main61': [7.213775508862064],\n",
       " 'main10': [4.280420777413565],\n",
       " 'main9': [4.5237644108026345],\n",
       " 'side9_1': [3.3615842032500813],\n",
       " 'main8': [4.505294117647057],\n",
       " 'main7': [4.059564803166788],\n",
       " 'main5': [4.013517729806865],\n",
       " 'main6': [4.296044865147613],\n",
       " 'side5_2': [2.750569010734427],\n",
       " 'side5_1': [3.112746395621836],\n",
       " 'main4': [2.6803813990632777],\n",
       " 'main3': [2.531797780234433],\n",
       " 'main60': [6.59863020272285],\n",
       " 'side60_1': [5.807558794830681],\n",
       " 'main2': [2.7074966966619325],\n",
       " 'main1': [2.4368782228968184],\n",
       " 'main0': [3.7826431522970636],\n",
       " 'main59': [6.879675949960922],\n",
       " 'side57_1': [4.3760265561465035],\n",
       " 'main58': [6.241985274356987],\n",
       " 'main57': [6.718678778692293],\n",
       " 'main56': [6.598221909544065],\n",
       " 'main55': [6.210014176512425],\n",
       " 'side55_1': [3.719101069848969],\n",
       " 'main54': [5.254944761312366],\n",
       " 'main53': [6.224536592675566],\n",
       " 'side52_1': [4.220716105644212],\n",
       " 'main52': [5.709373668433477],\n",
       " 'side50_1': [4.125796176758763],\n",
       " 'main50': [5.999535051586882, 5.89269228061754],\n",
       " 'main51': [5.932534346761935],\n",
       " 'main49': [5.998717343355573],\n",
       " 'main48': [6.170957199260273],\n",
       " 'side48_1': [4.825039718388194],\n",
       " 'main46': [5.535166552922331],\n",
       " 'main47': [5.653398709588053],\n",
       " 'side46_1': [3.82348932105679],\n",
       " 'main45': [6.1785697565700675],\n",
       " 'main44': [6.074537019394993],\n",
       " 'side43_1': [3.996994825167127],\n",
       " 'main43': [6.122070266826561],\n",
       " 'main42': [5.788628035456399],\n",
       " 'main41': [6.119186583561933],\n",
       " 'side41_1': [4.212603887158969],\n",
       " 'main40': [5.680664003408382],\n",
       " 'main38': [5.630330192341504],\n",
       " 'main39': [5.80563802053527],\n",
       " 'side38_1': [4.060457165972121],\n",
       " 'main36': [5.006977731695622],\n",
       " 'main37': [5.211312481302359],\n",
       " 'side36_1': [4.347426167734236],\n",
       " 'side36_2': [4.205816856374385],\n",
       " 'main35': [4.921323529411766],\n",
       " 'main34': [5.322962743278871],\n",
       " 'side33_1': [3.898330385829402],\n",
       " 'main33': [5.0843005944402995],\n",
       " 'main31': [5.772610687759606],\n",
       " 'side31_1': [3.653700692022401],\n",
       " 'main32': [5.630677940517142],\n",
       " 'main30': [4.6529423788679285],\n",
       " 'main28': [5.377042514886452],\n",
       " 'main29': [5.168859576006493],\n",
       " 'side28_1': [4.19990608360604],\n",
       " 'side26_2': [4.036958113984041],\n",
       " 'main26': [4.991306745312835, 4.960861942878983],\n",
       " 'main27': [4.7026673790569085],\n",
       " 'side26_1': [3.935733730830886],\n",
       " 'main25': [4.831526027218161],\n",
       " 'main24': [5.289591030827146],\n",
       " 'main23': [5.080602634978788],\n",
       " 'side23_1': [3.954296422329571],\n",
       " 'side21_1': [3.2549221441269225],\n",
       " 'main21': [4.865410796862094],\n",
       " 'main22': [4.7223864014295485],\n",
       " 'main20': [3.83270979647584],\n",
       " 'main19': [4.489751587793711],\n",
       " 'main18': [4.603754198498386],\n",
       " 'main17': [3.8154273973553576],\n",
       " 'side17_1': [2.481943221970361],\n",
       " 'side16_1': [3.1439667726014435],\n",
       " 'main66': [7.415010702241114],\n",
       " 'main65': [6.547172981405246],\n",
       " 'side65_1': [4.710460283277258],\n",
       " 'main64': [6.993574917269167],\n",
       " 'side62_1': [4.609772228646434],\n",
       " 'main63': [7.280823476494137, 6.744064056635275],\n",
       " 'main16': [4.498818597750303],\n",
       " 'main15': [4.550175788444787],\n",
       " 'main14': [4.112312136877645],\n",
       " 'main13': [4.035574836106061],\n",
       " 'side13_1': [2.750380285366587],\n",
       " 'side11_1': [3.050254415618463],\n",
       " 'main12': [4.795073634119907],\n",
       " 'main11': [4.678918451959491],\n",
       " 'side9_2': [4.057282951503118]}"
      ]
     },
     "execution_count": 38,
     "metadata": {},
     "output_type": "execute_result"
    }
   ],
   "source": [
    "d_width"
   ]
  },
  {
   "cell_type": "code",
   "execution_count": 41,
   "id": "06b9dd42",
   "metadata": {},
   "outputs": [
    {
     "name": "stdout",
     "output_type": "stream",
     "text": [
      "Help on dict object:\n",
      "\n",
      "class dict(object)\n",
      " |  dict() -> new empty dictionary\n",
      " |  dict(mapping) -> new dictionary initialized from a mapping object's\n",
      " |      (key, value) pairs\n",
      " |  dict(iterable) -> new dictionary initialized as if via:\n",
      " |      d = {}\n",
      " |      for k, v in iterable:\n",
      " |          d[k] = v\n",
      " |  dict(**kwargs) -> new dictionary initialized with the name=value pairs\n",
      " |      in the keyword argument list.  For example:  dict(one=1, two=2)\n",
      " |  \n",
      " |  Built-in subclasses:\n",
      " |      StgDict\n",
      " |  \n",
      " |  Methods defined here:\n",
      " |  \n",
      " |  __contains__(self, key, /)\n",
      " |      True if the dictionary has the specified key, else False.\n",
      " |  \n",
      " |  __delitem__(self, key, /)\n",
      " |      Delete self[key].\n",
      " |  \n",
      " |  __eq__(self, value, /)\n",
      " |      Return self==value.\n",
      " |  \n",
      " |  __ge__(self, value, /)\n",
      " |      Return self>=value.\n",
      " |  \n",
      " |  __getattribute__(self, name, /)\n",
      " |      Return getattr(self, name).\n",
      " |  \n",
      " |  __getitem__(...)\n",
      " |      x.__getitem__(y) <==> x[y]\n",
      " |  \n",
      " |  __gt__(self, value, /)\n",
      " |      Return self>value.\n",
      " |  \n",
      " |  __init__(self, /, *args, **kwargs)\n",
      " |      Initialize self.  See help(type(self)) for accurate signature.\n",
      " |  \n",
      " |  __iter__(self, /)\n",
      " |      Implement iter(self).\n",
      " |  \n",
      " |  __le__(self, value, /)\n",
      " |      Return self<=value.\n",
      " |  \n",
      " |  __len__(self, /)\n",
      " |      Return len(self).\n",
      " |  \n",
      " |  __lt__(self, value, /)\n",
      " |      Return self<value.\n",
      " |  \n",
      " |  __ne__(self, value, /)\n",
      " |      Return self!=value.\n",
      " |  \n",
      " |  __repr__(self, /)\n",
      " |      Return repr(self).\n",
      " |  \n",
      " |  __reversed__(self, /)\n",
      " |      Return a reverse iterator over the dict keys.\n",
      " |  \n",
      " |  __setitem__(self, key, value, /)\n",
      " |      Set self[key] to value.\n",
      " |  \n",
      " |  __sizeof__(...)\n",
      " |      D.__sizeof__() -> size of D in memory, in bytes\n",
      " |  \n",
      " |  clear(...)\n",
      " |      D.clear() -> None.  Remove all items from D.\n",
      " |  \n",
      " |  copy(...)\n",
      " |      D.copy() -> a shallow copy of D\n",
      " |  \n",
      " |  get(self, key, default=None, /)\n",
      " |      Return the value for key if key is in the dictionary, else default.\n",
      " |  \n",
      " |  items(...)\n",
      " |      D.items() -> a set-like object providing a view on D's items\n",
      " |  \n",
      " |  keys(...)\n",
      " |      D.keys() -> a set-like object providing a view on D's keys\n",
      " |  \n",
      " |  pop(...)\n",
      " |      D.pop(k[,d]) -> v, remove specified key and return the corresponding value.\n",
      " |      If key is not found, d is returned if given, otherwise KeyError is raised\n",
      " |  \n",
      " |  popitem(self, /)\n",
      " |      Remove and return a (key, value) pair as a 2-tuple.\n",
      " |      \n",
      " |      Pairs are returned in LIFO (last-in, first-out) order.\n",
      " |      Raises KeyError if the dict is empty.\n",
      " |  \n",
      " |  setdefault(self, key, default=None, /)\n",
      " |      Insert key with a value of default if key is not in the dictionary.\n",
      " |      \n",
      " |      Return the value for key if key is in the dictionary, else default.\n",
      " |  \n",
      " |  update(...)\n",
      " |      D.update([E, ]**F) -> None.  Update D from dict/iterable E and F.\n",
      " |      If E is present and has a .keys() method, then does:  for k in E: D[k] = E[k]\n",
      " |      If E is present and lacks a .keys() method, then does:  for k, v in E: D[k] = v\n",
      " |      In either case, this is followed by: for k in F:  D[k] = F[k]\n",
      " |  \n",
      " |  values(...)\n",
      " |      D.values() -> an object providing a view on D's values\n",
      " |  \n",
      " |  ----------------------------------------------------------------------\n",
      " |  Class methods defined here:\n",
      " |  \n",
      " |  fromkeys(iterable, value=None, /) from builtins.type\n",
      " |      Create a new dictionary with keys from iterable and values set to value.\n",
      " |  \n",
      " |  ----------------------------------------------------------------------\n",
      " |  Static methods defined here:\n",
      " |  \n",
      " |  __new__(*args, **kwargs) from builtins.type\n",
      " |      Create and return a new object.  See help(type) for accurate signature.\n",
      " |  \n",
      " |  ----------------------------------------------------------------------\n",
      " |  Data and other attributes defined here:\n",
      " |  \n",
      " |  __hash__ = None\n",
      "\n"
     ]
    }
   ],
   "source": [
    "help(d_width)"
   ]
  },
  {
   "cell_type": "code",
   "execution_count": 42,
   "id": "a35cb245",
   "metadata": {},
   "outputs": [],
   "source": [
    "d_width_mean = {k: np.mean(d_width[k]) for k in d_width}"
   ]
  },
  {
   "cell_type": "code",
   "execution_count": 23,
   "id": "36be2e23",
   "metadata": {},
   "outputs": [
    {
     "data": {
      "text/plain": [
       "{'version': '5.0.1',\n",
       " 'flags': {},\n",
       " 'shapes': [{'label': 'main61',\n",
       "   'points': [[2395.4545454545455, 1635.7142857142858],\n",
       "    [2492.207792207792, 1675.3246753246754]],\n",
       "   'group_id': None,\n",
       "   'shape_type': 'line',\n",
       "   'flags': {}}],\n",
       " 'imagePath': 'image_10.tiff',\n",
       " 'imageData': None,\n",
       " 'imageHeight': 3000,\n",
       " 'imageWidth': 4096}"
      ]
     },
     "execution_count": 23,
     "metadata": {},
     "output_type": "execute_result"
    }
   ],
   "source": [
    "json_from_file"
   ]
  },
  {
   "cell_type": "code",
   "execution_count": 75,
   "id": "a139aa14",
   "metadata": {},
   "outputs": [
    {
     "data": {
      "text/plain": [
       "{'main61': [28520, 46180],\n",
       " 'main10': [45900, 29040],\n",
       " 'main9': [45900, 29040],\n",
       " 'side9_1': [45900, 29040],\n",
       " 'main8': [47280, 28780],\n",
       " 'main7': [50120, 28780],\n",
       " 'main5': [51400, 29160],\n",
       " 'main6': [51400, 29160],\n",
       " 'side5_2': [51400, 29160],\n",
       " 'side5_1': [51400, 29160],\n",
       " 'main4': [53140, 29820],\n",
       " 'main3': [53140, 29820],\n",
       " 'main60': [28520, 46180],\n",
       " 'side60_1': [28520, 46180],\n",
       " 'main2': [54040, 30220],\n",
       " 'main1': [54760, 30580],\n",
       " 'main0': [54760, 30580],\n",
       " 'main59': [28700, 45580],\n",
       " 'side57_1': [29060, 44980],\n",
       " 'main58': [29060, 44980],\n",
       " 'main57': [29060, 44980],\n",
       " 'main56': [29100, 44020],\n",
       " 'main55': [29100, 44020],\n",
       " 'side55_1': [29100, 44020],\n",
       " 'main54': [29580, 43660],\n",
       " 'main53': [29800, 43660],\n",
       " 'side52_1': [29800, 43660],\n",
       " 'main52': [29800, 43660],\n",
       " 'side50_1': [29840, 43540],\n",
       " 'main50': [29840, 43540],\n",
       " 'main51': [29840, 43540],\n",
       " 'main49': [30580, 41920],\n",
       " 'main48': [30580, 41920],\n",
       " 'side48_1': [30580, 41920],\n",
       " 'main46': [30660, 41780],\n",
       " 'main47': [30660, 41780],\n",
       " 'side46_1': [30660, 41780],\n",
       " 'main45': [30940, 40800],\n",
       " 'main44': [31120, 40120],\n",
       " 'side43_1': [31120, 40120],\n",
       " 'main43': [31120, 40120],\n",
       " 'main42': [31480, 38940],\n",
       " 'main41': [31480, 38940],\n",
       " 'side41_1': [31480, 38940],\n",
       " 'main40': [32080, 37100],\n",
       " 'main38': [32120, 36900],\n",
       " 'main39': [32120, 36900],\n",
       " 'side38_1': [32120, 36900],\n",
       " 'main36': [32840, 35960],\n",
       " 'main37': [32840, 35960],\n",
       " 'side36_1': [32840, 35960],\n",
       " 'side36_2': [32840, 35960],\n",
       " 'main35': [33500, 35040],\n",
       " 'main34': [34120, 34140],\n",
       " 'side33_1': [34120, 34140],\n",
       " 'main33': [34120, 34140],\n",
       " 'main31': [35600, 32840],\n",
       " 'side31_1': [35600, 32840],\n",
       " 'main32': [33500, 35040],\n",
       " 'main30': [36380, 32300],\n",
       " 'main28': [36720, 32160],\n",
       " 'main29': [36720, 32160],\n",
       " 'side28_1': [36720, 32160],\n",
       " 'side26_2': [37920, 31600],\n",
       " 'main26': [37920, 31600],\n",
       " 'main27': [37920, 31600],\n",
       " 'side26_1': [37920, 31600],\n",
       " 'main25': [39340, 31080],\n",
       " 'main24': [39340, 31080],\n",
       " 'main23': [39340, 31080],\n",
       " 'side23_1': [39340, 31080],\n",
       " 'side21_1': [39980, 30920],\n",
       " 'main21': [39980, 30920],\n",
       " 'main22': [39980, 30920],\n",
       " 'main20': [41320, 30500],\n",
       " 'main19': [41320, 30500],\n",
       " 'main18': [41760, 30320],\n",
       " 'main17': [41760, 30320],\n",
       " 'side17_1': [41760, 30320],\n",
       " 'side16_1': [42660, 29720],\n",
       " 'main66': [28180, 48120],\n",
       " 'main65': [28180, 48040],\n",
       " 'side65_1': [28180, 48040],\n",
       " 'main64': [28340, 47100],\n",
       " 'side62_1': [28480, 46380],\n",
       " 'main63': [28480, 46380],\n",
       " 'main16': [42660, 29720],\n",
       " 'main15': [42660, 29720],\n",
       " 'main14': [43240, 29460],\n",
       " 'main13': [43240, 29460],\n",
       " 'side13_1': [43240, 29460],\n",
       " 'side11_1': [44080, 29320],\n",
       " 'main12': [44080, 29320],\n",
       " 'main11': [44080, 29320],\n",
       " 'side9_2': [45900, 29040]}"
      ]
     },
     "execution_count": 75,
     "metadata": {},
     "output_type": "execute_result"
    }
   ],
   "source": [
    "d_pos"
   ]
  },
  {
   "cell_type": "code",
   "execution_count": 76,
   "id": "a1aaa647",
   "metadata": {},
   "outputs": [],
   "source": [
    "d_distance = {k: np.round(LA.norm(np.array(d_pos[k])-np.array([54760, 30580]))) for k in d_pos}"
   ]
  },
  {
   "cell_type": "markdown",
   "id": "1b6c48cc",
   "metadata": {},
   "source": [
    "## Visualisation"
   ]
  },
  {
   "cell_type": "markdown",
   "id": "f7c103c2",
   "metadata": {},
   "source": [
    "### Scatter plot"
   ]
  },
  {
   "cell_type": "code",
   "execution_count": 77,
   "id": "9891ad0f",
   "metadata": {},
   "outputs": [],
   "source": [
    "def seperate_dir(d):\n",
    "    d_main = {}\n",
    "    d_side_1 = {}\n",
    "    d_side_2 = {}\n",
    "    for key in d:\n",
    "        if 'main' in key:\n",
    "            d_main[key] = d[key]\n",
    "        elif '_1' in key:\n",
    "            d_side_1[key] = d[key]\n",
    "        elif '_2' in key:\n",
    "            d_side_2[key] = d[key]\n",
    "        else:\n",
    "            print(f\"Error with key {key}\")\n",
    "    return d_main, d_side_1, d_side_2"
   ]
  },
  {
   "cell_type": "code",
   "execution_count": 78,
   "id": "58b8d1ea",
   "metadata": {},
   "outputs": [],
   "source": [
    "a, b, c = seperate_dir(d_width_mean)\n",
    "x, y, z = seperate_dir(d_distance)"
   ]
  },
  {
   "cell_type": "code",
   "execution_count": 81,
   "id": "6019a8dd",
   "metadata": {
    "scrolled": true
   },
   "outputs": [
    {
     "data": {
      "text/plain": [
       "<matplotlib.collections.PathCollection at 0x7f587ec0e280>"
      ]
     },
     "execution_count": 81,
     "metadata": {},
     "output_type": "execute_result"
    },
    {
     "data": {
      "image/png": "[encoded data removed]",
      "text/plain": [
       "<Figure size 432x288 with 1 Axes>"
      ]
     },
     "metadata": {
      "needs_background": "light"
     },
     "output_type": "display_data"
    }
   ],
   "source": [
    "plt.scatter(list(x.values()), list(a.values()))\n",
    "plt.scatter(list(y.values()), list(b.values()))\n",
    "plt.scatter(list(z.values()), list(c.values()))"
   ]
  },
  {
   "cell_type": "markdown",
   "id": "15f237ec",
   "metadata": {},
   "source": [
    "## Fetching intersections"
   ]
  },
  {
   "cell_type": "code",
   "execution_count": 114,
   "id": "c7a3e602",
   "metadata": {},
   "outputs": [],
   "source": [
    "main1 = []\n",
    "main2 = []\n",
    "side1 = []\n",
    "\n",
    "main1_ = []\n",
    "main2_ = []\n",
    "side1_ = []\n",
    "side2_ = []"
   ]
  },
  {
   "cell_type": "code",
   "execution_count": 123,
   "id": "313c0a37",
   "metadata": {},
   "outputs": [],
   "source": [
    "indexes = []\n",
    "for key in d_width:\n",
    "    if \"side\" in key:\n",
    "        indexes.append(int(key[4:-2]))\n",
    "intersections = list(set(indexes))\n",
    "for i in intersections:\n",
    "    if f\"side{i}_2\" in d_width:\n",
    "        # 3 exit intersection\n",
    "        main1_.append(f\"main{i+1}\")\n",
    "        main2_.append(f\"main{i}\")\n",
    "        side1_.append(f\"side{i}_1\")\n",
    "        side2_.append(f\"side{i}_2\")\n",
    "    else:\n",
    "        main1.append(f\"main{i+1}\")\n",
    "        main2.append(f\"main{i}\")\n",
    "        side1.append(f\"side{i}_1\")"
   ]
  },
  {
   "cell_type": "markdown",
   "id": "2d9e147b",
   "metadata": {},
   "source": [
    "## Murray's law coefficient"
   ]
  },
  {
   "cell_type": "code",
   "execution_count": 124,
   "id": "e951611d",
   "metadata": {},
   "outputs": [],
   "source": [
    "def F(alpha, r1, r2, r3, r4):\n",
    "    return r1**alpha - r2**alpha - r3**alpha - r4**alpha"
   ]
  },
  {
   "cell_type": "code",
   "execution_count": 125,
   "id": "79174c76",
   "metadata": {},
   "outputs": [],
   "source": [
    "def F_(alpha, frac1, frac2):\n",
    "    return 1 - frac1**alpha - frac2**alpha"
   ]
  },
  {
   "cell_type": "code",
   "execution_count": 126,
   "id": "4ba43512",
   "metadata": {},
   "outputs": [],
   "source": [
    "d_width_mean['main62'] = 0"
   ]
  },
  {
   "cell_type": "code",
   "execution_count": 144,
   "id": "8d386363",
   "metadata": {
    "scrolled": true
   },
   "outputs": [
    {
     "name": "stderr",
     "output_type": "stream",
     "text": [
      "/tmp/ipykernel_426394/1877731842.py:6: RuntimeWarning: divide by zero encountered in double_scalars\n",
      "  frac1 = r2/r1\n",
      "/tmp/ipykernel_426394/1877731842.py:7: RuntimeWarning: divide by zero encountered in double_scalars\n",
      "  frac2 = r3/r1\n",
      "/tmp/ipykernel_426394/30111625.py:2: RuntimeWarning: divide by zero encountered in power\n",
      "  return 1 - frac1**alpha - frac2**alpha\n",
      "/tmp/ipykernel_426394/30111625.py:2: RuntimeWarning: overflow encountered in power\n",
      "  return 1 - frac1**alpha - frac2**alpha\n"
     ]
    }
   ],
   "source": [
    "l = []\n",
    "for i in range(len(main1)):\n",
    "    r1 = d_width_mean[main1[i]]\n",
    "    r2 = d_width_mean[main2[i]]\n",
    "    r3 = d_width_mean[side1[i]]\n",
    "    frac1 = r2/r1\n",
    "    frac2 = r3/r1\n",
    "    if r2 < r1 and r3 < r1:\n",
    "        f = lambda alpha: F_(alpha, frac1, frac2)\n",
    "        try:\n",
    "            alpha = scipy.optimize.broyden1(f, [0.2], f_tol=1e-11)\n",
    "        except:\n",
    "            alpha = None\n",
    "        l.append(alpha)\n",
    "    else:\n",
    "        l.append(np.inf)"
   ]
  },
  {
   "cell_type": "code",
   "execution_count": 145,
   "id": "fa74d929",
   "metadata": {},
   "outputs": [
    {
     "data": {
      "text/plain": [
       "4.710460283277258"
      ]
     },
     "execution_count": 145,
     "metadata": {},
     "output_type": "execute_result"
    }
   ],
   "source": [
    "r3"
   ]
  },
  {
   "cell_type": "code",
   "execution_count": 146,
   "id": "f9bd7535",
   "metadata": {
    "scrolled": true
   },
   "outputs": [
    {
     "data": {
      "text/plain": [
       "[array([3.23698017]),\n",
       " inf,\n",
       " inf,\n",
       " inf,\n",
       " array([2.21503696]),\n",
       " array([4.83406613]),\n",
       " array([3.75514157]),\n",
       " array([2.1600136]),\n",
       " inf,\n",
       " array([4.03058937]),\n",
       " array([3.7718626]),\n",
       " array([3.84793337]),\n",
       " inf,\n",
       " array([4.53376341]),\n",
       " inf,\n",
       " inf,\n",
       " array([2.25834684]),\n",
       " array([5.49798309]),\n",
       " inf,\n",
       " inf,\n",
       " inf,\n",
       " array([4.84089818]),\n",
       " array([5.68572722]),\n",
       " inf,\n",
       " array([1.9282047]),\n",
       " inf,\n",
       " array([5.53319187]),\n",
       " inf,\n",
       " inf,\n",
       " array([5.05638213]),\n",
       " array([5.30426517]),\n",
       " inf,\n",
       " inf,\n",
       " array([5.60450282]),\n",
       " inf,\n",
       " inf,\n",
       " array([3.47440992]),\n",
       " array([3.08463854]),\n",
       " inf,\n",
       " array([4.8379747]),\n",
       " None,\n",
       " array([2.73763091])]"
      ]
     },
     "execution_count": 146,
     "metadata": {},
     "output_type": "execute_result"
    }
   ],
   "source": [
    "l"
   ]
  },
  {
   "cell_type": "code",
   "execution_count": 151,
   "id": "555914ff",
   "metadata": {
    "scrolled": true
   },
   "outputs": [],
   "source": [
    "l_ = [e for e in l if e!=np.inf and e is not None]"
   ]
  },
  {
   "cell_type": "code",
   "execution_count": 155,
   "id": "9d5cd014",
   "metadata": {},
   "outputs": [
    {
     "data": {
      "text/plain": [
       "[array([3.23698017]),\n",
       " array([2.21503696]),\n",
       " array([4.83406613]),\n",
       " array([3.75514157]),\n",
       " array([2.1600136]),\n",
       " array([4.03058937]),\n",
       " array([3.7718626]),\n",
       " array([3.84793337]),\n",
       " array([4.53376341]),\n",
       " array([2.25834684]),\n",
       " array([5.49798309]),\n",
       " array([4.84089818]),\n",
       " array([5.68572722]),\n",
       " array([1.9282047]),\n",
       " array([5.53319187]),\n",
       " array([5.05638213]),\n",
       " array([5.30426517]),\n",
       " array([5.60450282]),\n",
       " array([3.47440992]),\n",
       " array([3.08463854]),\n",
       " array([4.8379747]),\n",
       " array([2.73763091])]"
      ]
     },
     "execution_count": 155,
     "metadata": {},
     "output_type": "execute_result"
    }
   ],
   "source": [
    "l_"
   ]
  },
  {
   "cell_type": "code",
   "execution_count": 154,
   "id": "857cebbd",
   "metadata": {
    "scrolled": true
   },
   "outputs": [
    {
     "data": {
      "text/plain": [
       "4.010433784614535"
      ]
     },
     "execution_count": 154,
     "metadata": {},
     "output_type": "execute_result"
    }
   ],
   "source": [
    "np.mean(l_)"
   ]
  }
 ],
 "metadata": {
  "kernelspec": {
   "display_name": "Python 3 (ipykernel)",
   "language": "python",
   "name": "python3"
  },
  "language_info": {
   "codemirror_mode": {
    "name": "ipython",
    "version": 3
   },
   "file_extension": ".py",
   "mimetype": "text/x-python",
   "name": "python",
   "nbconvert_exporter": "python",
   "pygments_lexer": "ipython3",
   "version": "3.8.10"
  }
 },
 "nbformat": 4,
 "nbformat_minor": 5
}

{
 "cells": [
  {
   "cell_type": "markdown",
   "id": "8d0a1043",
   "metadata": {},
   "source": [
    "# Stats"
   ]
  },
  {
   "cell_type": "markdown",
   "id": "ac1ff9f6",
   "metadata": {},
   "source": [
    "TODO:\n",
    "OUTSIDE NOTEBOOK\n",
    "- label more points\n",
    "- save masks\n",
    "- save floats and not ints for label"
   ]
  },
  {
   "cell_type": "markdown",
   "id": "8568ae76",
   "metadata": {},
   "source": [
    "## Setup"
   ]
  },
  {
   "cell_type": "markdown",
   "id": "c47e2905",
   "metadata": {},
   "source": [
    "### Imports"
   ]
  },
  {
   "cell_type": "code",
   "execution_count": 70,
   "id": "8ce21bf6",
   "metadata": {},
   "outputs": [],
   "source": [
    "import os\n",
    "import matplotlib.pyplot as plt\n",
    "import random\n",
    "import imageio\n",
    "import numpy as np\n",
    "from amftrack.util.sys import storage_path"
   ]
  },
  {
   "cell_type": "code",
   "execution_count": 71,
   "id": "7e5d9e3c",
   "metadata": {},
   "outputs": [],
   "source": [
    "path = os.path.join(storage_path, \"test_precise_1\")\n",
    "im_path = os.path.join(path, \"slices.png\")\n",
    "label_path = os.path.join(path, \"labels.npy\")"
   ]
  },
  {
   "cell_type": "code",
   "execution_count": 72,
   "id": "cab14b2e",
   "metadata": {},
   "outputs": [
    {
     "name": "stdout",
     "output_type": "stream",
     "text": [
      "(224, 120)\n"
     ]
    }
   ],
   "source": [
    "im = imageio.imread(im_path)\n",
    "print(im.shape)"
   ]
  },
  {
   "cell_type": "code",
   "execution_count": 73,
   "id": "8c26d17c",
   "metadata": {},
   "outputs": [
    {
     "name": "stdout",
     "output_type": "stream",
     "text": [
      "(224,)\n"
     ]
    }
   ],
   "source": [
    "with open(label_path, 'rb') as f:\n",
    "    label = np.load(f)\n",
    "print(label.shape)"
   ]
  },
  {
   "cell_type": "code",
   "execution_count": 74,
   "id": "c568feb6",
   "metadata": {},
   "outputs": [],
   "source": [
    "label = np. expand_dims(label, axis =1)"
   ]
  },
  {
   "cell_type": "code",
   "execution_count": 75,
   "id": "9d530f01",
   "metadata": {},
   "outputs": [
    {
     "data": {
      "text/plain": [
       "(224, 1)"
      ]
     },
     "execution_count": 75,
     "metadata": {},
     "output_type": "execute_result"
    }
   ],
   "source": [
    "label.shape"
   ]
  },
  {
   "cell_type": "markdown",
   "id": "b26c2475",
   "metadata": {},
   "source": [
    "## Visualisation"
   ]
  },
  {
   "cell_type": "code",
   "execution_count": 76,
   "id": "30ef6f71",
   "metadata": {},
   "outputs": [],
   "source": [
    "i = random.randint(0, 224)"
   ]
  },
  {
   "cell_type": "code",
   "execution_count": 77,
   "id": "5a8a0447",
   "metadata": {},
   "outputs": [],
   "source": [
    "i = 68"
   ]
  },
  {
   "cell_type": "code",
   "execution_count": 78,
   "id": "197fd5be",
   "metadata": {
    "scrolled": false
   },
   "outputs": [
    {
     "data": {
      "text/plain": [
       "[<matplotlib.lines.Line2D at 0x7f6f88d0c8b0>]"
      ]
     },
     "execution_count": 78,
     "metadata": {},
     "output_type": "execute_result"
    },
    {
     "data": {
      "image/png": "[encoded data removed]",
      "text/plain": [
       "<Figure size 432x288 with 1 Axes>"
      ]
     },
     "metadata": {
      "needs_background": "light"
     },
     "output_type": "display_data"
    }
   ],
   "source": [
    "plt.plot(im[i,:])"
   ]
  },
  {
   "cell_type": "code",
   "execution_count": 79,
   "id": "44a1eddc",
   "metadata": {},
   "outputs": [],
   "source": [
    "for i in range(200):\n",
    "    if label[i, 0] == 12:\n",
    "        print(i)"
   ]
  },
  {
   "cell_type": "markdown",
   "id": "5b4d5dd1",
   "metadata": {},
   "source": [
    "## Data preparation"
   ]
  },
  {
   "cell_type": "code",
   "execution_count": 80,
   "id": "e406ed5e",
   "metadata": {
    "scrolled": true
   },
   "outputs": [],
   "source": [
    "p = np.random.permutation(224)"
   ]
  },
  {
   "cell_type": "code",
   "execution_count": 81,
   "id": "0f67c50d",
   "metadata": {},
   "outputs": [
    {
     "name": "stdout",
     "output_type": "stream",
     "text": [
      "150\n",
      "74\n"
     ]
    }
   ],
   "source": [
    "training = p[:150]\n",
    "test = p[150:]\n",
    "print(len(training))\n",
    "print(len(test))"
   ]
  },
  {
   "cell_type": "code",
   "execution_count": 82,
   "id": "f2101f09",
   "metadata": {},
   "outputs": [],
   "source": [
    "train_feature = im[training, :]\n",
    "train_label = label[training,0]\n",
    "test_feature = im[test, :]\n",
    "test_label = label[test, :]"
   ]
  },
  {
   "cell_type": "code",
   "execution_count": 83,
   "id": "aeb87d01",
   "metadata": {},
   "outputs": [
    {
     "data": {
      "text/plain": [
       "(74, 120)"
      ]
     },
     "execution_count": 83,
     "metadata": {},
     "output_type": "execute_result"
    }
   ],
   "source": [
    "test_feature.shape"
   ]
  },
  {
   "cell_type": "markdown",
   "id": "202a5180",
   "metadata": {},
   "source": [
    "## Baseline"
   ]
  },
  {
   "cell_type": "code",
   "execution_count": 84,
   "id": "528e0ee5",
   "metadata": {},
   "outputs": [],
   "source": [
    "mean = np.mean(train_label)\n",
    "final_score = np.mean(np.abs(test_label-mean))"
   ]
  },
  {
   "cell_type": "code",
   "execution_count": 85,
   "id": "b23584c8",
   "metadata": {},
   "outputs": [
    {
     "data": {
      "text/plain": [
       "1.306745604178807"
      ]
     },
     "execution_count": 85,
     "metadata": {},
     "output_type": "execute_result"
    }
   ],
   "source": [
    "final_score"
   ]
  },
  {
   "cell_type": "markdown",
   "id": "7034b5d4",
   "metadata": {},
   "source": [
    "## First model"
   ]
  },
  {
   "cell_type": "code",
   "execution_count": 118,
   "id": "c90abc2f",
   "metadata": {},
   "outputs": [],
   "source": [
    "from amftrack.ml.width.models import first_model\n",
    "from amftrack.ml.width.data_augmentation import data_augmentation\n",
    "import tensorflow as tf\n",
    "from tensorflow import keras\n",
    "from tensorflow.keras import regularizers"
   ]
  },
  {
   "cell_type": "code",
   "execution_count": 145,
   "id": "c7612211",
   "metadata": {},
   "outputs": [],
   "source": [
    "def model1():\n",
    "    input = keras.Input(shape=(120, 1))\n",
    "    scaling = keras.layers.Rescaling(1.0 / 122 - 1.)(input)\n",
    "    conv1 = keras.layers.Conv1D(\n",
    "        filters=640, kernel_size=12, strides=3, activation=\"relu\", name=\"conv1\", kernel_regularizer=regularizers.L1L2(l1=1e-5, l2=1e-4),\n",
    "    )(scaling)\n",
    "    conv2 = keras.layers.Conv1D(\n",
    "        filters=320,\n",
    "        kernel_size=3,\n",
    "        strides=3,\n",
    "        activation=\"relu\",\n",
    "        name=\"conv2\",\n",
    "        kernel_regularizer=regularizers.L1L2(l1=1e-5, l2=1e-4)\n",
    "    )(conv1)\n",
    "    flatten = tf.keras.layers.Flatten()(conv2)\n",
    "    dense1 = keras.layers.Dense(640, activation=\"relu\", name=\"dense1\", kernel_regularizer=regularizers.L1L2(l1=1e-5, l2=1e-4))(flatten)\n",
    "    dense2 = keras.layers.Dense(320, activation=\"relu\", name=\"dense2\")(dense1)\n",
    "    output = keras.layers.Dense(1, activation=None)(dense2)\n",
    "    model = keras.Model(inputs=input, outputs=output)\n",
    "    return model"
   ]
  },
  {
   "cell_type": "code",
   "execution_count": 146,
   "id": "1f9c177b",
   "metadata": {},
   "outputs": [],
   "source": [
    "model = model1()"
   ]
  },
  {
   "cell_type": "code",
   "execution_count": 147,
   "id": "7e4606c1",
   "metadata": {},
   "outputs": [
    {
     "name": "stdout",
     "output_type": "stream",
     "text": [
      "Model: \"model_29\"\n",
      "_________________________________________________________________\n",
      " Layer (type)                Output Shape              Param #   \n",
      "=================================================================\n",
      " input_32 (InputLayer)       [(None, 120, 1)]          0         \n",
      "                                                                 \n",
      " rescaling_29 (Rescaling)    (None, 120, 1)            0         \n",
      "                                                                 \n",
      " conv1 (Conv1D)              (None, 37, 640)           8320      \n",
      "                                                                 \n",
      " conv2 (Conv1D)              (None, 12, 320)           614720    \n",
      "                                                                 \n",
      " flatten_29 (Flatten)        (None, 3840)              0         \n",
      "                                                                 \n",
      " dense1 (Dense)              (None, 640)               2458240   \n",
      "                                                                 \n",
      " dense2 (Dense)              (None, 320)               205120    \n",
      "                                                                 \n",
      " dense_29 (Dense)            (None, 1)                 321       \n",
      "                                                                 \n",
      "=================================================================\n",
      "Total params: 3,286,721\n",
      "Trainable params: 3,286,721\n",
      "Non-trainable params: 0\n",
      "_________________________________________________________________\n"
     ]
    }
   ],
   "source": [
    "model.summary()"
   ]
  },
  {
   "cell_type": "markdown",
   "id": "26e8c29a",
   "metadata": {},
   "source": [
    "### Training"
   ]
  },
  {
   "cell_type": "code",
   "execution_count": 155,
   "id": "5da0d1f8",
   "metadata": {},
   "outputs": [],
   "source": [
    "model.compile(\n",
    "    optimizer=keras.optimizers.Adam(learning_rate=0.0001),\n",
    "    loss=keras.losses.MeanSquaredError(name=\"mean_squared_error\"),\n",
    "    metrics=[tf.keras.metrics.mean_absolute_error])"
   ]
  },
  {
   "cell_type": "code",
   "execution_count": 156,
   "id": "3132bb09",
   "metadata": {
    "scrolled": true
   },
   "outputs": [
    {
     "name": "stdout",
     "output_type": "stream",
     "text": [
      "Epoch 1/60\n",
      "20/20 [==============================] - 1s 34ms/step - loss: 1.3086 - mean_absolute_error: 0.8090\n",
      "Epoch 2/60\n",
      "20/20 [==============================] - 1s 34ms/step - loss: 1.0501 - mean_absolute_error: 0.7322\n",
      "Epoch 3/60\n",
      "20/20 [==============================] - 1s 44ms/step - loss: 1.2617 - mean_absolute_error: 0.8200\n",
      "Epoch 4/60\n",
      "20/20 [==============================] - 1s 38ms/step - loss: 0.9817 - mean_absolute_error: 0.6791\n",
      "Epoch 5/60\n",
      "20/20 [==============================] - 1s 36ms/step - loss: 1.1220 - mean_absolute_error: 0.7631\n",
      "Epoch 6/60\n",
      "20/20 [==============================] - 1s 38ms/step - loss: 1.0986 - mean_absolute_error: 0.7682\n",
      "Epoch 7/60\n",
      "20/20 [==============================] - 1s 35ms/step - loss: 1.0349 - mean_absolute_error: 0.7350\n",
      "Epoch 8/60\n",
      "20/20 [==============================] - 1s 36ms/step - loss: 1.0217 - mean_absolute_error: 0.7560\n",
      "Epoch 9/60\n",
      "20/20 [==============================] - 1s 37ms/step - loss: 0.9533 - mean_absolute_error: 0.6967\n",
      "Epoch 10/60\n",
      "20/20 [==============================] - 1s 34ms/step - loss: 1.1609 - mean_absolute_error: 0.8104\n",
      "Epoch 11/60\n",
      "20/20 [==============================] - 1s 33ms/step - loss: 0.7506 - mean_absolute_error: 0.6390\n",
      "Epoch 12/60\n",
      "20/20 [==============================] - 1s 32ms/step - loss: 0.8353 - mean_absolute_error: 0.6746\n",
      "Epoch 13/60\n",
      "20/20 [==============================] - 1s 35ms/step - loss: 0.6619 - mean_absolute_error: 0.5977\n",
      "Epoch 14/60\n",
      "20/20 [==============================] - 1s 32ms/step - loss: 0.7862 - mean_absolute_error: 0.6452\n",
      "Epoch 15/60\n",
      "20/20 [==============================] - 1s 34ms/step - loss: 0.9108 - mean_absolute_error: 0.7106\n",
      "Epoch 16/60\n",
      "20/20 [==============================] - 1s 35ms/step - loss: 0.6375 - mean_absolute_error: 0.5941\n",
      "Epoch 17/60\n",
      "20/20 [==============================] - 1s 35ms/step - loss: 0.5777 - mean_absolute_error: 0.5518\n",
      "Epoch 18/60\n",
      "20/20 [==============================] - 1s 38ms/step - loss: 0.8665 - mean_absolute_error: 0.7024\n",
      "Epoch 19/60\n",
      "20/20 [==============================] - 1s 43ms/step - loss: 0.6612 - mean_absolute_error: 0.5984\n",
      "Epoch 20/60\n",
      "20/20 [==============================] - 1s 36ms/step - loss: 0.5822 - mean_absolute_error: 0.5688\n",
      "Epoch 21/60\n",
      "20/20 [==============================] - 1s 48ms/step - loss: 0.6742 - mean_absolute_error: 0.6004\n",
      "Epoch 22/60\n",
      "20/20 [==============================] - 1s 36ms/step - loss: 0.7860 - mean_absolute_error: 0.6647\n",
      "Epoch 23/60\n",
      "20/20 [==============================] - 1s 45ms/step - loss: 0.5889 - mean_absolute_error: 0.5524\n",
      "Epoch 24/60\n",
      "20/20 [==============================] - 1s 37ms/step - loss: 0.5463 - mean_absolute_error: 0.5263\n",
      "Epoch 25/60\n",
      "20/20 [==============================] - 1s 39ms/step - loss: 0.7866 - mean_absolute_error: 0.6688\n",
      "Epoch 26/60\n",
      "20/20 [==============================] - 1s 39ms/step - loss: 0.7925 - mean_absolute_error: 0.6291\n",
      "Epoch 27/60\n",
      "20/20 [==============================] - 1s 33ms/step - loss: 0.6319 - mean_absolute_error: 0.5682\n",
      "Epoch 28/60\n",
      "20/20 [==============================] - 1s 37ms/step - loss: 0.5631 - mean_absolute_error: 0.5401\n",
      "Epoch 29/60\n",
      "20/20 [==============================] - 1s 34ms/step - loss: 0.5650 - mean_absolute_error: 0.5658\n",
      "Epoch 30/60\n",
      "20/20 [==============================] - 1s 40ms/step - loss: 0.4913 - mean_absolute_error: 0.4826\n",
      "Epoch 31/60\n",
      "20/20 [==============================] - 1s 39ms/step - loss: 0.7760 - mean_absolute_error: 0.6672\n",
      "Epoch 32/60\n",
      "20/20 [==============================] - 1s 39ms/step - loss: 0.7782 - mean_absolute_error: 0.6546\n",
      "Epoch 33/60\n",
      "20/20 [==============================] - 1s 40ms/step - loss: 0.6946 - mean_absolute_error: 0.6183\n",
      "Epoch 34/60\n",
      "20/20 [==============================] - 1s 44ms/step - loss: 0.5902 - mean_absolute_error: 0.5524\n",
      "Epoch 35/60\n",
      "20/20 [==============================] - 1s 38ms/step - loss: 0.5002 - mean_absolute_error: 0.4992\n",
      "Epoch 36/60\n",
      "20/20 [==============================] - 1s 43ms/step - loss: 0.4788 - mean_absolute_error: 0.4999\n",
      "Epoch 37/60\n",
      "20/20 [==============================] - 1s 33ms/step - loss: 0.4983 - mean_absolute_error: 0.4881\n",
      "Epoch 38/60\n",
      "20/20 [==============================] - 1s 34ms/step - loss: 0.4254 - mean_absolute_error: 0.4565\n",
      "Epoch 39/60\n",
      "20/20 [==============================] - 1s 32ms/step - loss: 0.5445 - mean_absolute_error: 0.5385\n",
      "Epoch 40/60\n",
      "20/20 [==============================] - 1s 36ms/step - loss: 0.6933 - mean_absolute_error: 0.6364\n",
      "Epoch 41/60\n",
      "20/20 [==============================] - 1s 32ms/step - loss: 0.6365 - mean_absolute_error: 0.6054\n",
      "Epoch 42/60\n",
      "20/20 [==============================] - 1s 37ms/step - loss: 0.8423 - mean_absolute_error: 0.6951\n",
      "Epoch 43/60\n",
      "20/20 [==============================] - 1s 40ms/step - loss: 0.6344 - mean_absolute_error: 0.5868\n",
      "Epoch 44/60\n",
      "20/20 [==============================] - 1s 41ms/step - loss: 0.5491 - mean_absolute_error: 0.5356\n",
      "Epoch 45/60\n",
      "20/20 [==============================] - 1s 39ms/step - loss: 0.4943 - mean_absolute_error: 0.4909\n",
      "Epoch 46/60\n",
      "20/20 [==============================] - 1s 37ms/step - loss: 0.6205 - mean_absolute_error: 0.5675\n",
      "Epoch 47/60\n",
      "20/20 [==============================] - 1s 42ms/step - loss: 0.6744 - mean_absolute_error: 0.5830\n",
      "Epoch 48/60\n",
      "20/20 [==============================] - 1s 39ms/step - loss: 0.7472 - mean_absolute_error: 0.6225\n",
      "Epoch 49/60\n",
      "20/20 [==============================] - 1s 43ms/step - loss: 0.5089 - mean_absolute_error: 0.5022\n",
      "Epoch 50/60\n",
      "20/20 [==============================] - 1s 36ms/step - loss: 0.7877 - mean_absolute_error: 0.6495\n",
      "Epoch 51/60\n",
      "20/20 [==============================] - 1s 38ms/step - loss: 0.7832 - mean_absolute_error: 0.6654\n",
      "Epoch 52/60\n",
      "20/20 [==============================] - 1s 38ms/step - loss: 0.5158 - mean_absolute_error: 0.5056\n",
      "Epoch 53/60\n",
      "20/20 [==============================] - 1s 37ms/step - loss: 0.5765 - mean_absolute_error: 0.5759\n",
      "Epoch 54/60\n",
      "20/20 [==============================] - 1s 38ms/step - loss: 0.7362 - mean_absolute_error: 0.6466\n",
      "Epoch 55/60\n",
      "20/20 [==============================] - 1s 39ms/step - loss: 0.6052 - mean_absolute_error: 0.5866\n",
      "Epoch 56/60\n",
      "20/20 [==============================] - 1s 49ms/step - loss: 0.6418 - mean_absolute_error: 0.6051\n",
      "Epoch 57/60\n",
      "20/20 [==============================] - 1s 48ms/step - loss: 0.4548 - mean_absolute_error: 0.4814\n",
      "Epoch 58/60\n",
      "20/20 [==============================] - 1s 42ms/step - loss: 0.6079 - mean_absolute_error: 0.5805\n",
      "Epoch 59/60\n",
      "20/20 [==============================] - 1s 42ms/step - loss: 0.4903 - mean_absolute_error: 0.5193\n",
      "Epoch 60/60\n",
      "20/20 [==============================] - 1s 40ms/step - loss: 0.4356 - mean_absolute_error: 0.4626\n"
     ]
    }
   ],
   "source": [
    "history = model.fit(\n",
    "    train_feature,\n",
    "    train_label,\n",
    "    batch_size=5,\n",
    "    epochs=60,\n",
    "    )"
   ]
  },
  {
   "cell_type": "code",
   "execution_count": 158,
   "id": "f64f4dd5",
   "metadata": {},
   "outputs": [
    {
     "data": {
      "image/png": "[encoded data removed]",
      "text/plain": [
       "<Figure size 432x288 with 2 Axes>"
      ]
     },
     "metadata": {
      "needs_background": "light"
     },
     "output_type": "display_data"
    }
   ],
   "source": [
    "for i, key in enumerate(history.history.keys()):\n",
    "    plt.subplot(2, 3, i+1)\n",
    "    plt.plot(history.history[key])\n",
    "    plt.title(key)\n",
    "    plt.xlabel(\"Epochs\")"
   ]
  },
  {
   "cell_type": "code",
   "execution_count": 157,
   "id": "5559c503",
   "metadata": {},
   "outputs": [
    {
     "name": "stdout",
     "output_type": "stream",
     "text": [
      "3/3 [==============================] - 0s 13ms/step - loss: 0.7931 - mean_absolute_error: 0.6656\n"
     ]
    },
    {
     "data": {
      "text/plain": [
       "[0.7931271195411682, 0.6656090617179871]"
      ]
     },
     "execution_count": 157,
     "metadata": {},
     "output_type": "execute_result"
    }
   ],
   "source": [
    "model.evaluate(test_feature, test_label)"
   ]
  },
  {
   "cell_type": "markdown",
   "id": "6d6b447c",
   "metadata": {},
   "source": [
    "## Cross validation"
   ]
  },
  {
   "cell_type": "code",
   "execution_count": 150,
   "id": "e0ab4cc9",
   "metadata": {
    "scrolled": true
   },
   "outputs": [
    {
     "name": "stdout",
     "output_type": "stream",
     "text": [
      "Epoch 1/100\n",
      "20/20 [==============================] - 2s 49ms/step - loss: 44.1465 - mean_absolute_error: 4.5980 - val_loss: 10.2497 - val_mean_absolute_error: 2.4126\n",
      "Epoch 2/100\n",
      "20/20 [==============================] - 1s 35ms/step - loss: 3.6226 - mean_absolute_error: 1.2402 - val_loss: 9.5812 - val_mean_absolute_error: 2.1300\n",
      "Epoch 3/100\n",
      "20/20 [==============================] - 1s 35ms/step - loss: 3.4903 - mean_absolute_error: 1.1389 - val_loss: 9.2862 - val_mean_absolute_error: 1.9401\n",
      "Epoch 4/100\n",
      "20/20 [==============================] - 1s 36ms/step - loss: 4.5268 - mean_absolute_error: 1.4855 - val_loss: 13.8235 - val_mean_absolute_error: 2.2914\n",
      "Epoch 5/100\n",
      "20/20 [==============================] - 1s 43ms/step - loss: 3.8404 - mean_absolute_error: 1.3620 - val_loss: 8.6092 - val_mean_absolute_error: 2.0924\n",
      "Epoch 6/100\n",
      "20/20 [==============================] - 1s 36ms/step - loss: 2.8477 - mean_absolute_error: 1.0772 - val_loss: 9.2564 - val_mean_absolute_error: 2.4647\n",
      "Epoch 7/100\n",
      "20/20 [==============================] - 1s 34ms/step - loss: 3.7374 - mean_absolute_error: 1.3809 - val_loss: 9.4115 - val_mean_absolute_error: 2.5192\n",
      "Epoch 8/100\n",
      "20/20 [==============================] - 1s 36ms/step - loss: 3.4946 - mean_absolute_error: 1.3458 - val_loss: 9.1913 - val_mean_absolute_error: 2.4846\n",
      "Epoch 9/100\n",
      "20/20 [==============================] - 1s 36ms/step - loss: 3.2582 - mean_absolute_error: 1.2010 - val_loss: 9.3213 - val_mean_absolute_error: 2.5896\n",
      "Epoch 10/100\n",
      "20/20 [==============================] - 1s 33ms/step - loss: 3.4788 - mean_absolute_error: 1.3226 - val_loss: 10.8214 - val_mean_absolute_error: 2.9381\n",
      "Epoch 11/100\n",
      "20/20 [==============================] - 1s 34ms/step - loss: 2.7872 - mean_absolute_error: 1.2390 - val_loss: 7.6756 - val_mean_absolute_error: 1.5554\n",
      "Epoch 12/100\n",
      "20/20 [==============================] - 1s 34ms/step - loss: 2.4393 - mean_absolute_error: 1.1172 - val_loss: 6.9296 - val_mean_absolute_error: 1.5070\n",
      "Epoch 13/100\n",
      "20/20 [==============================] - 1s 34ms/step - loss: 3.1315 - mean_absolute_error: 1.3202 - val_loss: 7.3001 - val_mean_absolute_error: 1.5041\n",
      "Epoch 14/100\n",
      "20/20 [==============================] - 1s 35ms/step - loss: 3.2265 - mean_absolute_error: 1.2877 - val_loss: 7.0783 - val_mean_absolute_error: 1.8305\n",
      "Epoch 15/100\n",
      "20/20 [==============================] - 1s 34ms/step - loss: 2.4121 - mean_absolute_error: 1.0077 - val_loss: 7.2602 - val_mean_absolute_error: 2.1122\n",
      "Epoch 16/100\n",
      "20/20 [==============================] - 1s 43ms/step - loss: 2.3639 - mean_absolute_error: 1.0536 - val_loss: 7.1380 - val_mean_absolute_error: 1.9458\n",
      "Epoch 17/100\n",
      "20/20 [==============================] - 1s 39ms/step - loss: 1.9554 - mean_absolute_error: 0.9267 - val_loss: 6.4837 - val_mean_absolute_error: 1.4985\n",
      "Epoch 18/100\n",
      "20/20 [==============================] - 1s 35ms/step - loss: 2.6171 - mean_absolute_error: 1.1242 - val_loss: 7.4661 - val_mean_absolute_error: 2.2129\n",
      "Epoch 19/100\n",
      "20/20 [==============================] - 1s 34ms/step - loss: 2.6335 - mean_absolute_error: 1.1403 - val_loss: 7.2316 - val_mean_absolute_error: 1.7805\n",
      "Epoch 20/100\n",
      "20/20 [==============================] - 1s 34ms/step - loss: 2.0992 - mean_absolute_error: 0.9850 - val_loss: 7.0962 - val_mean_absolute_error: 2.1175\n",
      "Epoch 21/100\n",
      "20/20 [==============================] - 1s 32ms/step - loss: 2.5810 - mean_absolute_error: 1.1532 - val_loss: 7.7002 - val_mean_absolute_error: 1.4617\n",
      "Epoch 22/100\n",
      "20/20 [==============================] - 1s 33ms/step - loss: 2.4442 - mean_absolute_error: 1.1519 - val_loss: 6.9716 - val_mean_absolute_error: 2.1442\n",
      "Epoch 23/100\n",
      "20/20 [==============================] - 1s 32ms/step - loss: 1.7505 - mean_absolute_error: 0.9655 - val_loss: 6.1288 - val_mean_absolute_error: 1.4169\n",
      "Epoch 24/100\n",
      "20/20 [==============================] - 1s 34ms/step - loss: 1.4352 - mean_absolute_error: 0.7935 - val_loss: 6.0807 - val_mean_absolute_error: 1.3317\n",
      "Epoch 25/100\n",
      "20/20 [==============================] - 1s 37ms/step - loss: 1.5570 - mean_absolute_error: 0.8790 - val_loss: 5.7887 - val_mean_absolute_error: 1.4673\n",
      "Epoch 26/100\n",
      "20/20 [==============================] - 1s 37ms/step - loss: 1.3428 - mean_absolute_error: 0.7967 - val_loss: 5.7202 - val_mean_absolute_error: 1.6242\n",
      "Epoch 27/100\n",
      "20/20 [==============================] - 1s 42ms/step - loss: 1.5250 - mean_absolute_error: 0.8744 - val_loss: 6.0543 - val_mean_absolute_error: 1.6257\n",
      "Epoch 28/100\n",
      "20/20 [==============================] - 1s 41ms/step - loss: 1.4822 - mean_absolute_error: 0.8779 - val_loss: 6.3295 - val_mean_absolute_error: 1.8770\n",
      "Epoch 29/100\n",
      "20/20 [==============================] - 1s 39ms/step - loss: 1.5800 - mean_absolute_error: 0.9238 - val_loss: 6.2211 - val_mean_absolute_error: 1.4934\n",
      "Epoch 30/100\n",
      "20/20 [==============================] - 1s 40ms/step - loss: 1.1220 - mean_absolute_error: 0.7021 - val_loss: 6.1435 - val_mean_absolute_error: 1.5935\n",
      "Epoch 31/100\n",
      "20/20 [==============================] - 1s 41ms/step - loss: 1.0696 - mean_absolute_error: 0.7197 - val_loss: 5.8914 - val_mean_absolute_error: 1.5524\n",
      "Epoch 32/100\n",
      "20/20 [==============================] - 1s 40ms/step - loss: 1.2940 - mean_absolute_error: 0.7926 - val_loss: 7.0386 - val_mean_absolute_error: 2.0833\n",
      "Epoch 33/100\n",
      "20/20 [==============================] - 1s 43ms/step - loss: 1.3048 - mean_absolute_error: 0.7983 - val_loss: 6.5297 - val_mean_absolute_error: 1.3922\n",
      "Epoch 34/100\n",
      "20/20 [==============================] - 1s 37ms/step - loss: 1.2598 - mean_absolute_error: 0.7903 - val_loss: 6.5196 - val_mean_absolute_error: 1.4605\n",
      "Epoch 35/100\n",
      "20/20 [==============================] - 1s 40ms/step - loss: 1.1923 - mean_absolute_error: 0.7581 - val_loss: 7.0222 - val_mean_absolute_error: 2.1320\n",
      "Epoch 36/100\n",
      "20/20 [==============================] - 1s 37ms/step - loss: 1.3425 - mean_absolute_error: 0.7736 - val_loss: 6.3545 - val_mean_absolute_error: 1.6712\n",
      "Epoch 37/100\n",
      "20/20 [==============================] - 1s 36ms/step - loss: 0.9630 - mean_absolute_error: 0.6465 - val_loss: 6.1690 - val_mean_absolute_error: 1.6249\n",
      "Epoch 38/100\n",
      "20/20 [==============================] - 1s 36ms/step - loss: 0.9248 - mean_absolute_error: 0.6297 - val_loss: 6.2212 - val_mean_absolute_error: 1.6350\n",
      "Epoch 39/100\n",
      "20/20 [==============================] - 1s 37ms/step - loss: 1.2904 - mean_absolute_error: 0.8231 - val_loss: 6.6512 - val_mean_absolute_error: 1.8477\n",
      "Epoch 40/100\n",
      "20/20 [==============================] - 1s 46ms/step - loss: 1.1084 - mean_absolute_error: 0.7080 - val_loss: 6.5890 - val_mean_absolute_error: 1.8581\n",
      "Epoch 41/100\n",
      "20/20 [==============================] - 1s 45ms/step - loss: 1.2689 - mean_absolute_error: 0.7800 - val_loss: 7.2377 - val_mean_absolute_error: 2.1023\n",
      "Epoch 42/100\n",
      "20/20 [==============================] - 1s 38ms/step - loss: 1.0132 - mean_absolute_error: 0.6792 - val_loss: 6.5897 - val_mean_absolute_error: 1.4618\n",
      "Epoch 43/100\n",
      "20/20 [==============================] - 1s 40ms/step - loss: 0.9249 - mean_absolute_error: 0.6309 - val_loss: 6.3775 - val_mean_absolute_error: 1.5392\n",
      "Epoch 44/100\n",
      "20/20 [==============================] - 1s 39ms/step - loss: 0.8502 - mean_absolute_error: 0.5850 - val_loss: 6.7914 - val_mean_absolute_error: 1.6689\n",
      "Epoch 45/100\n",
      "20/20 [==============================] - 1s 40ms/step - loss: 0.9297 - mean_absolute_error: 0.6253 - val_loss: 6.5733 - val_mean_absolute_error: 1.4679\n",
      "Epoch 46/100\n",
      "20/20 [==============================] - 1s 40ms/step - loss: 1.0704 - mean_absolute_error: 0.7036 - val_loss: 6.9177 - val_mean_absolute_error: 1.4436\n",
      "Epoch 47/100\n",
      "20/20 [==============================] - 1s 36ms/step - loss: 1.1032 - mean_absolute_error: 0.7539 - val_loss: 6.7478 - val_mean_absolute_error: 1.7411\n",
      "Epoch 48/100\n",
      "20/20 [==============================] - 1s 36ms/step - loss: 1.0838 - mean_absolute_error: 0.7220 - val_loss: 6.6764 - val_mean_absolute_error: 1.6904\n",
      "Epoch 49/100\n",
      "20/20 [==============================] - 1s 37ms/step - loss: 1.0280 - mean_absolute_error: 0.6672 - val_loss: 6.8725 - val_mean_absolute_error: 1.4733\n",
      "Epoch 50/100\n",
      "20/20 [==============================] - 1s 37ms/step - loss: 0.9291 - mean_absolute_error: 0.6665 - val_loss: 7.0147 - val_mean_absolute_error: 1.5354\n"
     ]
    },
    {
     "name": "stdout",
     "output_type": "stream",
     "text": [
      "Epoch 51/100\n",
      "20/20 [==============================] - 1s 36ms/step - loss: 1.0005 - mean_absolute_error: 0.6724 - val_loss: 7.5116 - val_mean_absolute_error: 1.6092\n",
      "Epoch 52/100\n",
      "20/20 [==============================] - 1s 39ms/step - loss: 0.9154 - mean_absolute_error: 0.6223 - val_loss: 7.5279 - val_mean_absolute_error: 2.0496\n",
      "Epoch 53/100\n",
      "20/20 [==============================] - 1s 38ms/step - loss: 1.0288 - mean_absolute_error: 0.6792 - val_loss: 7.0946 - val_mean_absolute_error: 1.7102\n",
      "Epoch 54/100\n",
      "20/20 [==============================] - 1s 40ms/step - loss: 0.8056 - mean_absolute_error: 0.5780 - val_loss: 7.1198 - val_mean_absolute_error: 1.6302\n",
      "Epoch 55/100\n",
      "20/20 [==============================] - 1s 41ms/step - loss: 0.8065 - mean_absolute_error: 0.5728 - val_loss: 7.1802 - val_mean_absolute_error: 1.7510\n",
      "Epoch 56/100\n",
      "20/20 [==============================] - 1s 39ms/step - loss: 0.8558 - mean_absolute_error: 0.5806 - val_loss: 7.3517 - val_mean_absolute_error: 1.7969\n",
      "Epoch 57/100\n",
      "20/20 [==============================] - 1s 40ms/step - loss: 0.8247 - mean_absolute_error: 0.5801 - val_loss: 7.3683 - val_mean_absolute_error: 1.7405\n",
      "Epoch 58/100\n",
      "20/20 [==============================] - 1s 38ms/step - loss: 0.9991 - mean_absolute_error: 0.6687 - val_loss: 8.5920 - val_mean_absolute_error: 1.6057\n",
      "Epoch 59/100\n",
      "20/20 [==============================] - 1s 39ms/step - loss: 0.9002 - mean_absolute_error: 0.6004 - val_loss: 7.0953 - val_mean_absolute_error: 1.7162\n",
      "Epoch 60/100\n",
      "20/20 [==============================] - 1s 36ms/step - loss: 0.8111 - mean_absolute_error: 0.5681 - val_loss: 7.3027 - val_mean_absolute_error: 1.4973\n",
      "Epoch 61/100\n",
      "20/20 [==============================] - 1s 36ms/step - loss: 0.8374 - mean_absolute_error: 0.5886 - val_loss: 7.4819 - val_mean_absolute_error: 1.8439\n",
      "Epoch 62/100\n",
      "20/20 [==============================] - 1s 37ms/step - loss: 0.8323 - mean_absolute_error: 0.6004 - val_loss: 8.3921 - val_mean_absolute_error: 1.5392\n",
      "Epoch 63/100\n",
      "20/20 [==============================] - 1s 41ms/step - loss: 0.8702 - mean_absolute_error: 0.6174 - val_loss: 7.2047 - val_mean_absolute_error: 1.6036\n",
      "Epoch 64/100\n",
      "20/20 [==============================] - 1s 38ms/step - loss: 0.8763 - mean_absolute_error: 0.6063 - val_loss: 7.0054 - val_mean_absolute_error: 1.7902\n",
      "Epoch 65/100\n",
      "20/20 [==============================] - 1s 39ms/step - loss: 0.8156 - mean_absolute_error: 0.5656 - val_loss: 7.1921 - val_mean_absolute_error: 1.5250\n",
      "Epoch 66/100\n",
      "20/20 [==============================] - 1s 38ms/step - loss: 0.7652 - mean_absolute_error: 0.5486 - val_loss: 7.7856 - val_mean_absolute_error: 1.4925\n",
      "Epoch 67/100\n",
      "20/20 [==============================] - 1s 39ms/step - loss: 0.8309 - mean_absolute_error: 0.5839 - val_loss: 7.3051 - val_mean_absolute_error: 1.6932\n",
      "Epoch 68/100\n",
      "20/20 [==============================] - 1s 39ms/step - loss: 0.7909 - mean_absolute_error: 0.5524 - val_loss: 7.2854 - val_mean_absolute_error: 1.5944\n",
      "Epoch 69/100\n",
      "20/20 [==============================] - 1s 40ms/step - loss: 0.7943 - mean_absolute_error: 0.5569 - val_loss: 7.4745 - val_mean_absolute_error: 1.7031\n",
      "Epoch 70/100\n",
      "20/20 [==============================] - 1s 39ms/step - loss: 0.8195 - mean_absolute_error: 0.5886 - val_loss: 7.4139 - val_mean_absolute_error: 1.4884\n",
      "Epoch 71/100\n",
      "20/20 [==============================] - 1s 39ms/step - loss: 0.7887 - mean_absolute_error: 0.5796 - val_loss: 6.8323 - val_mean_absolute_error: 1.5392\n",
      "Epoch 72/100\n",
      "20/20 [==============================] - 1s 39ms/step - loss: 0.7860 - mean_absolute_error: 0.5812 - val_loss: 8.1380 - val_mean_absolute_error: 1.6045\n",
      "Epoch 73/100\n",
      "20/20 [==============================] - 1s 36ms/step - loss: 0.8750 - mean_absolute_error: 0.6403 - val_loss: 7.3410 - val_mean_absolute_error: 1.6339\n",
      "Epoch 74/100\n",
      "20/20 [==============================] - 1s 36ms/step - loss: 0.7747 - mean_absolute_error: 0.5526 - val_loss: 7.7130 - val_mean_absolute_error: 1.6054\n",
      "Epoch 75/100\n",
      "20/20 [==============================] - 1s 49ms/step - loss: 0.8285 - mean_absolute_error: 0.6032 - val_loss: 7.4296 - val_mean_absolute_error: 1.7493\n",
      "Epoch 76/100\n",
      "20/20 [==============================] - 1s 43ms/step - loss: 0.7660 - mean_absolute_error: 0.5446 - val_loss: 7.6969 - val_mean_absolute_error: 1.5477\n",
      "Epoch 77/100\n",
      "20/20 [==============================] - 1s 35ms/step - loss: 0.8439 - mean_absolute_error: 0.6035 - val_loss: 7.3962 - val_mean_absolute_error: 1.6379\n",
      "Epoch 78/100\n",
      "20/20 [==============================] - 1s 39ms/step - loss: 0.8453 - mean_absolute_error: 0.6082 - val_loss: 7.8172 - val_mean_absolute_error: 2.1002\n",
      "Epoch 79/100\n",
      "20/20 [==============================] - 1s 42ms/step - loss: 1.0617 - mean_absolute_error: 0.6987 - val_loss: 7.4253 - val_mean_absolute_error: 1.8906\n",
      "Epoch 80/100\n",
      "20/20 [==============================] - 1s 44ms/step - loss: 0.9086 - mean_absolute_error: 0.6061 - val_loss: 7.7942 - val_mean_absolute_error: 1.5261\n",
      "Epoch 81/100\n",
      "20/20 [==============================] - 1s 43ms/step - loss: 0.7913 - mean_absolute_error: 0.5415 - val_loss: 7.6102 - val_mean_absolute_error: 1.6988\n",
      "Epoch 82/100\n",
      "20/20 [==============================] - 1s 40ms/step - loss: 0.7886 - mean_absolute_error: 0.5901 - val_loss: 7.4900 - val_mean_absolute_error: 1.8036\n",
      "Epoch 83/100\n",
      "20/20 [==============================] - 1s 49ms/step - loss: 0.7132 - mean_absolute_error: 0.5262 - val_loss: 8.4851 - val_mean_absolute_error: 1.5633\n",
      "Epoch 84/100\n",
      "20/20 [==============================] - 1s 46ms/step - loss: 0.8867 - mean_absolute_error: 0.6360 - val_loss: 7.6773 - val_mean_absolute_error: 1.9619\n",
      "Epoch 85/100\n",
      "20/20 [==============================] - 1s 39ms/step - loss: 0.7313 - mean_absolute_error: 0.5318 - val_loss: 7.6243 - val_mean_absolute_error: 1.6464\n",
      "Epoch 86/100\n",
      "20/20 [==============================] - 1s 39ms/step - loss: 0.7351 - mean_absolute_error: 0.5434 - val_loss: 7.2732 - val_mean_absolute_error: 1.7795\n",
      "Epoch 87/100\n",
      "20/20 [==============================] - 1s 42ms/step - loss: 0.8459 - mean_absolute_error: 0.6090 - val_loss: 7.7302 - val_mean_absolute_error: 1.7769\n",
      "Epoch 88/100\n",
      "20/20 [==============================] - 1s 40ms/step - loss: 0.8949 - mean_absolute_error: 0.6378 - val_loss: 7.4745 - val_mean_absolute_error: 1.6531\n",
      "Epoch 89/100\n",
      "20/20 [==============================] - 1s 42ms/step - loss: 0.7933 - mean_absolute_error: 0.5464 - val_loss: 7.5012 - val_mean_absolute_error: 1.7998\n",
      "Epoch 90/100\n",
      "20/20 [==============================] - 1s 46ms/step - loss: 0.8825 - mean_absolute_error: 0.6056 - val_loss: 7.7345 - val_mean_absolute_error: 1.9280\n",
      "Epoch 91/100\n",
      "20/20 [==============================] - 1s 44ms/step - loss: 0.8262 - mean_absolute_error: 0.6060 - val_loss: 8.0109 - val_mean_absolute_error: 1.5494\n",
      "Epoch 92/100\n",
      "20/20 [==============================] - 1s 46ms/step - loss: 0.8580 - mean_absolute_error: 0.6226 - val_loss: 7.9278 - val_mean_absolute_error: 1.6401\n",
      "Epoch 93/100\n",
      "20/20 [==============================] - 1s 55ms/step - loss: 0.8305 - mean_absolute_error: 0.5746 - val_loss: 7.6566 - val_mean_absolute_error: 1.6355\n",
      "Epoch 94/100\n",
      "20/20 [==============================] - 1s 44ms/step - loss: 0.7909 - mean_absolute_error: 0.5814 - val_loss: 8.4295 - val_mean_absolute_error: 1.5857\n",
      "Epoch 95/100\n",
      "20/20 [==============================] - 1s 51ms/step - loss: 0.7132 - mean_absolute_error: 0.5174 - val_loss: 7.7964 - val_mean_absolute_error: 1.6782\n",
      "Epoch 96/100\n",
      "20/20 [==============================] - 1s 40ms/step - loss: 0.7375 - mean_absolute_error: 0.5309 - val_loss: 7.5593 - val_mean_absolute_error: 1.8102\n",
      "Epoch 97/100\n",
      "20/20 [==============================] - 1s 42ms/step - loss: 0.7024 - mean_absolute_error: 0.5022 - val_loss: 7.6654 - val_mean_absolute_error: 1.7564\n",
      "Epoch 98/100\n",
      "20/20 [==============================] - 1s 45ms/step - loss: 0.8089 - mean_absolute_error: 0.5819 - val_loss: 8.4963 - val_mean_absolute_error: 1.8082\n",
      "Epoch 99/100\n",
      "20/20 [==============================] - 1s 40ms/step - loss: 0.8915 - mean_absolute_error: 0.6325 - val_loss: 7.5204 - val_mean_absolute_error: 1.6929\n",
      "Epoch 100/100\n",
      "20/20 [==============================] - 1s 40ms/step - loss: 0.7997 - mean_absolute_error: 0.5867 - val_loss: 9.0951 - val_mean_absolute_error: 1.5876\n"
     ]
    },
    {
     "name": "stdout",
     "output_type": "stream",
     "text": [
      "3/3 [==============================] - 0s 15ms/step - loss: 3.0037 - mean_absolute_error: 1.1242\n",
      "Model evaluation  [3.0037028789520264, 1.124208927154541]\n",
      "Epoch 1/100\n",
      "20/20 [==============================] - 2s 59ms/step - loss: 44.8467 - mean_absolute_error: 3.7336 - val_loss: 5.5266 - val_mean_absolute_error: 1.6351\n",
      "Epoch 2/100\n",
      "20/20 [==============================] - 1s 46ms/step - loss: 4.5675 - mean_absolute_error: 1.4807 - val_loss: 5.2903 - val_mean_absolute_error: 1.3165\n",
      "Epoch 3/100\n",
      "20/20 [==============================] - 1s 43ms/step - loss: 3.5761 - mean_absolute_error: 1.2628 - val_loss: 4.9737 - val_mean_absolute_error: 1.3838\n",
      "Epoch 4/100\n",
      "20/20 [==============================] - 1s 48ms/step - loss: 3.0792 - mean_absolute_error: 1.2427 - val_loss: 8.4580 - val_mean_absolute_error: 2.0716\n",
      "Epoch 5/100\n",
      "20/20 [==============================] - 1s 46ms/step - loss: 3.5808 - mean_absolute_error: 1.3024 - val_loss: 5.4054 - val_mean_absolute_error: 1.7473\n",
      "Epoch 6/100\n",
      "20/20 [==============================] - 1s 39ms/step - loss: 3.0112 - mean_absolute_error: 1.2301 - val_loss: 5.6229 - val_mean_absolute_error: 1.4051\n",
      "Epoch 7/100\n",
      "20/20 [==============================] - 1s 38ms/step - loss: 2.6639 - mean_absolute_error: 1.1536 - val_loss: 11.7926 - val_mean_absolute_error: 2.8115\n",
      "Epoch 8/100\n",
      "20/20 [==============================] - 1s 41ms/step - loss: 4.3801 - mean_absolute_error: 1.6140 - val_loss: 5.7131 - val_mean_absolute_error: 1.4222\n",
      "Epoch 9/100\n",
      "20/20 [==============================] - 1s 37ms/step - loss: 2.5101 - mean_absolute_error: 1.1496 - val_loss: 11.0382 - val_mean_absolute_error: 2.6545\n",
      "Epoch 10/100\n",
      "20/20 [==============================] - 1s 37ms/step - loss: 2.5285 - mean_absolute_error: 1.1256 - val_loss: 5.1459 - val_mean_absolute_error: 1.3064\n",
      "Epoch 11/100\n",
      "20/20 [==============================] - 1s 39ms/step - loss: 2.1894 - mean_absolute_error: 1.0217 - val_loss: 5.2329 - val_mean_absolute_error: 1.3505\n",
      "Epoch 12/100\n",
      "20/20 [==============================] - 1s 47ms/step - loss: 2.7626 - mean_absolute_error: 1.2170 - val_loss: 6.7788 - val_mean_absolute_error: 1.8332\n",
      "Epoch 13/100\n",
      "20/20 [==============================] - 1s 53ms/step - loss: 3.0098 - mean_absolute_error: 1.2903 - val_loss: 5.8209 - val_mean_absolute_error: 1.5820\n",
      "Epoch 14/100\n",
      "20/20 [==============================] - 1s 70ms/step - loss: 2.4719 - mean_absolute_error: 1.1865 - val_loss: 5.9853 - val_mean_absolute_error: 1.9972\n",
      "Epoch 15/100\n",
      "20/20 [==============================] - 1s 54ms/step - loss: 3.1668 - mean_absolute_error: 1.3108 - val_loss: 5.2982 - val_mean_absolute_error: 1.4674\n",
      "Epoch 16/100\n",
      "20/20 [==============================] - 1s 50ms/step - loss: 2.1319 - mean_absolute_error: 1.0744 - val_loss: 4.8073 - val_mean_absolute_error: 1.3762\n",
      "Epoch 17/100\n",
      "20/20 [==============================] - 1s 45ms/step - loss: 2.1537 - mean_absolute_error: 1.0779 - val_loss: 6.1933 - val_mean_absolute_error: 1.7146\n",
      "Epoch 18/100\n",
      "20/20 [==============================] - 1s 40ms/step - loss: 3.7565 - mean_absolute_error: 1.5027 - val_loss: 4.0735 - val_mean_absolute_error: 1.4604\n",
      "Epoch 19/100\n",
      "20/20 [==============================] - 1s 48ms/step - loss: 2.3188 - mean_absolute_error: 1.1221 - val_loss: 5.9306 - val_mean_absolute_error: 1.5869\n",
      "Epoch 20/100\n",
      "20/20 [==============================] - 1s 37ms/step - loss: 2.4354 - mean_absolute_error: 1.1034 - val_loss: 5.4245 - val_mean_absolute_error: 1.4801\n",
      "Epoch 21/100\n",
      "20/20 [==============================] - 1s 54ms/step - loss: 2.9463 - mean_absolute_error: 1.3235 - val_loss: 4.4503 - val_mean_absolute_error: 1.2499\n",
      "Epoch 22/100\n",
      "20/20 [==============================] - 1s 61ms/step - loss: 5.5945 - mean_absolute_error: 1.9949 - val_loss: 3.9769 - val_mean_absolute_error: 1.2187\n",
      "Epoch 23/100\n",
      "20/20 [==============================] - 2s 76ms/step - loss: 3.4984 - mean_absolute_error: 1.4347 - val_loss: 5.3503 - val_mean_absolute_error: 1.5072\n",
      "Epoch 24/100\n",
      "20/20 [==============================] - 1s 53ms/step - loss: 2.1519 - mean_absolute_error: 1.0428 - val_loss: 4.1075 - val_mean_absolute_error: 1.4525\n",
      "Epoch 25/100\n",
      "20/20 [==============================] - 1s 54ms/step - loss: 2.0119 - mean_absolute_error: 1.0322 - val_loss: 3.9180 - val_mean_absolute_error: 1.1585\n",
      "Epoch 26/100\n",
      "20/20 [==============================] - 1s 49ms/step - loss: 2.0919 - mean_absolute_error: 1.0899 - val_loss: 4.2805 - val_mean_absolute_error: 1.5027\n",
      "Epoch 27/100\n",
      "20/20 [==============================] - 1s 46ms/step - loss: 2.6395 - mean_absolute_error: 1.2426 - val_loss: 8.3968 - val_mean_absolute_error: 2.2521\n",
      "Epoch 28/100\n",
      "20/20 [==============================] - 1s 60ms/step - loss: 1.8890 - mean_absolute_error: 0.9587 - val_loss: 3.7477 - val_mean_absolute_error: 1.1716\n",
      "Epoch 29/100\n",
      "20/20 [==============================] - 1s 61ms/step - loss: 1.8150 - mean_absolute_error: 0.9361 - val_loss: 4.1377 - val_mean_absolute_error: 1.1830\n",
      "Epoch 30/100\n",
      "20/20 [==============================] - 1s 52ms/step - loss: 1.6159 - mean_absolute_error: 0.8869 - val_loss: 4.5461 - val_mean_absolute_error: 1.3041\n",
      "Epoch 31/100\n",
      "20/20 [==============================] - 1s 51ms/step - loss: 2.0622 - mean_absolute_error: 1.0577 - val_loss: 4.0302 - val_mean_absolute_error: 1.1658\n",
      "Epoch 32/100\n",
      "20/20 [==============================] - 1s 49ms/step - loss: 2.0773 - mean_absolute_error: 1.0192 - val_loss: 4.6544 - val_mean_absolute_error: 1.3491\n",
      "Epoch 33/100\n",
      "20/20 [==============================] - 1s 53ms/step - loss: 1.6182 - mean_absolute_error: 0.8840 - val_loss: 5.7588 - val_mean_absolute_error: 1.6378\n",
      "Epoch 34/100\n",
      "20/20 [==============================] - 1s 52ms/step - loss: 1.4949 - mean_absolute_error: 0.8401 - val_loss: 3.9515 - val_mean_absolute_error: 1.1656\n",
      "Epoch 35/100\n",
      "20/20 [==============================] - 1s 56ms/step - loss: 1.8866 - mean_absolute_error: 0.9603 - val_loss: 3.6360 - val_mean_absolute_error: 1.1944\n",
      "Epoch 36/100\n",
      "20/20 [==============================] - 1s 47ms/step - loss: 2.6922 - mean_absolute_error: 1.2416 - val_loss: 3.7602 - val_mean_absolute_error: 1.4218\n",
      "Epoch 37/100\n",
      "20/20 [==============================] - 1s 45ms/step - loss: 2.1755 - mean_absolute_error: 1.1053 - val_loss: 5.4102 - val_mean_absolute_error: 1.5808\n",
      "Epoch 38/100\n",
      "20/20 [==============================] - 1s 44ms/step - loss: 1.8894 - mean_absolute_error: 0.9913 - val_loss: 6.2616 - val_mean_absolute_error: 1.7785\n",
      "Epoch 39/100\n",
      "20/20 [==============================] - 1s 45ms/step - loss: 1.8130 - mean_absolute_error: 0.9985 - val_loss: 5.5976 - val_mean_absolute_error: 1.6085\n",
      "Epoch 40/100\n",
      "20/20 [==============================] - 1s 49ms/step - loss: 1.5481 - mean_absolute_error: 0.8867 - val_loss: 4.5559 - val_mean_absolute_error: 1.3089\n",
      "Epoch 41/100\n",
      "20/20 [==============================] - 1s 61ms/step - loss: 1.3463 - mean_absolute_error: 0.7593 - val_loss: 4.3941 - val_mean_absolute_error: 1.2453\n",
      "Epoch 42/100\n",
      "20/20 [==============================] - 1s 57ms/step - loss: 1.5111 - mean_absolute_error: 0.8841 - val_loss: 5.3870 - val_mean_absolute_error: 1.5334\n",
      "Epoch 43/100\n",
      "20/20 [==============================] - 1s 51ms/step - loss: 1.3296 - mean_absolute_error: 0.7506 - val_loss: 3.8178 - val_mean_absolute_error: 1.1680\n",
      "Epoch 44/100\n",
      "20/20 [==============================] - 1s 48ms/step - loss: 1.3320 - mean_absolute_error: 0.7756 - val_loss: 3.7430 - val_mean_absolute_error: 1.1662\n",
      "Epoch 45/100\n",
      "20/20 [==============================] - 1s 49ms/step - loss: 1.5020 - mean_absolute_error: 0.8635 - val_loss: 5.6613 - val_mean_absolute_error: 1.6346\n",
      "Epoch 46/100\n",
      "20/20 [==============================] - 1s 49ms/step - loss: 1.7042 - mean_absolute_error: 0.8885 - val_loss: 4.0889 - val_mean_absolute_error: 1.2439\n",
      "Epoch 47/100\n",
      "20/20 [==============================] - 1s 63ms/step - loss: 1.4871 - mean_absolute_error: 0.8058 - val_loss: 5.8449 - val_mean_absolute_error: 1.6914\n",
      "Epoch 48/100\n",
      "20/20 [==============================] - 1s 48ms/step - loss: 1.4099 - mean_absolute_error: 0.8474 - val_loss: 4.7591 - val_mean_absolute_error: 1.3526\n",
      "Epoch 49/100\n",
      "20/20 [==============================] - 1s 56ms/step - loss: 1.4788 - mean_absolute_error: 0.7476 - val_loss: 5.1883 - val_mean_absolute_error: 1.4995\n"
     ]
    },
    {
     "name": "stdout",
     "output_type": "stream",
     "text": [
      "Epoch 50/100\n",
      "20/20 [==============================] - 1s 58ms/step - loss: 1.3989 - mean_absolute_error: 0.8074 - val_loss: 3.7162 - val_mean_absolute_error: 1.1509\n",
      "Epoch 51/100\n",
      "20/20 [==============================] - 1s 72ms/step - loss: 1.3365 - mean_absolute_error: 0.7744 - val_loss: 3.4954 - val_mean_absolute_error: 1.1507\n",
      "Epoch 52/100\n",
      "20/20 [==============================] - 1s 63ms/step - loss: 1.3074 - mean_absolute_error: 0.7324 - val_loss: 3.5674 - val_mean_absolute_error: 1.2157\n",
      "Epoch 53/100\n",
      "20/20 [==============================] - 1s 56ms/step - loss: 1.5154 - mean_absolute_error: 0.7688 - val_loss: 4.4505 - val_mean_absolute_error: 1.3619\n",
      "Epoch 54/100\n",
      "20/20 [==============================] - 2s 75ms/step - loss: 1.2500 - mean_absolute_error: 0.7347 - val_loss: 4.7814 - val_mean_absolute_error: 1.4208\n",
      "Epoch 55/100\n",
      "20/20 [==============================] - 1s 67ms/step - loss: 1.3833 - mean_absolute_error: 0.7862 - val_loss: 3.2965 - val_mean_absolute_error: 1.1261\n",
      "Epoch 56/100\n",
      "20/20 [==============================] - 1s 57ms/step - loss: 1.3477 - mean_absolute_error: 0.7379 - val_loss: 3.9712 - val_mean_absolute_error: 1.2608\n",
      "Epoch 57/100\n",
      "20/20 [==============================] - 1s 67ms/step - loss: 1.1426 - mean_absolute_error: 0.7077 - val_loss: 4.1097 - val_mean_absolute_error: 1.3024\n",
      "Epoch 58/100\n",
      "20/20 [==============================] - 2s 78ms/step - loss: 1.3089 - mean_absolute_error: 0.7766 - val_loss: 4.6268 - val_mean_absolute_error: 1.3809\n",
      "Epoch 59/100\n",
      "20/20 [==============================] - 2s 88ms/step - loss: 1.2775 - mean_absolute_error: 0.7579 - val_loss: 3.7195 - val_mean_absolute_error: 1.1564\n",
      "Epoch 60/100\n",
      "20/20 [==============================] - 2s 98ms/step - loss: 1.2662 - mean_absolute_error: 0.7511 - val_loss: 3.6904 - val_mean_absolute_error: 1.1607\n",
      "Epoch 61/100\n",
      "20/20 [==============================] - 2s 81ms/step - loss: 1.5291 - mean_absolute_error: 0.8881 - val_loss: 3.7003 - val_mean_absolute_error: 1.1593\n",
      "Epoch 62/100\n",
      "20/20 [==============================] - 1s 59ms/step - loss: 1.1570 - mean_absolute_error: 0.6568 - val_loss: 3.5882 - val_mean_absolute_error: 1.1511\n",
      "Epoch 63/100\n",
      "20/20 [==============================] - 1s 55ms/step - loss: 1.3084 - mean_absolute_error: 0.7552 - val_loss: 4.4058 - val_mean_absolute_error: 1.3113\n",
      "Epoch 64/100\n",
      "20/20 [==============================] - 1s 54ms/step - loss: 1.1955 - mean_absolute_error: 0.7347 - val_loss: 3.3715 - val_mean_absolute_error: 1.1599\n",
      "Epoch 65/100\n",
      "20/20 [==============================] - 1s 55ms/step - loss: 1.2718 - mean_absolute_error: 0.7643 - val_loss: 4.2277 - val_mean_absolute_error: 1.2670\n",
      "Epoch 66/100\n",
      "20/20 [==============================] - 1s 65ms/step - loss: 1.0563 - mean_absolute_error: 0.6880 - val_loss: 3.1845 - val_mean_absolute_error: 1.1422\n",
      "Epoch 67/100\n",
      "20/20 [==============================] - 1s 62ms/step - loss: 1.1123 - mean_absolute_error: 0.6582 - val_loss: 3.1180 - val_mean_absolute_error: 1.0848\n",
      "Epoch 68/100\n",
      "20/20 [==============================] - 1s 50ms/step - loss: 0.9815 - mean_absolute_error: 0.6174 - val_loss: 3.4236 - val_mean_absolute_error: 1.1274\n",
      "Epoch 69/100\n",
      "20/20 [==============================] - 1s 54ms/step - loss: 1.3151 - mean_absolute_error: 0.8006 - val_loss: 3.6486 - val_mean_absolute_error: 1.1823\n",
      "Epoch 70/100\n",
      "20/20 [==============================] - 1s 48ms/step - loss: 1.3127 - mean_absolute_error: 0.8088 - val_loss: 4.4128 - val_mean_absolute_error: 1.3486\n",
      "Epoch 71/100\n",
      "20/20 [==============================] - 1s 77ms/step - loss: 1.0291 - mean_absolute_error: 0.6218 - val_loss: 3.3583 - val_mean_absolute_error: 1.1310\n",
      "Epoch 72/100\n",
      "20/20 [==============================] - 2s 80ms/step - loss: 1.1662 - mean_absolute_error: 0.7055 - val_loss: 3.2486 - val_mean_absolute_error: 1.1157\n",
      "Epoch 73/100\n",
      "20/20 [==============================] - 1s 66ms/step - loss: 1.1563 - mean_absolute_error: 0.7091 - val_loss: 3.4379 - val_mean_absolute_error: 1.1419\n",
      "Epoch 74/100\n",
      "20/20 [==============================] - 1s 66ms/step - loss: 1.0906 - mean_absolute_error: 0.6596 - val_loss: 3.9604 - val_mean_absolute_error: 1.2844\n",
      "Epoch 75/100\n",
      "20/20 [==============================] - 1s 60ms/step - loss: 1.0697 - mean_absolute_error: 0.6643 - val_loss: 3.4496 - val_mean_absolute_error: 1.1435\n",
      "Epoch 76/100\n",
      "20/20 [==============================] - 1s 55ms/step - loss: 1.0756 - mean_absolute_error: 0.6892 - val_loss: 5.0239 - val_mean_absolute_error: 1.5413\n",
      "Epoch 77/100\n",
      "20/20 [==============================] - 1s 48ms/step - loss: 1.3048 - mean_absolute_error: 0.7363 - val_loss: 3.6928 - val_mean_absolute_error: 1.1870\n",
      "Epoch 78/100\n",
      "20/20 [==============================] - 1s 57ms/step - loss: 1.0651 - mean_absolute_error: 0.6576 - val_loss: 3.5873 - val_mean_absolute_error: 1.1802\n",
      "Epoch 79/100\n",
      "20/20 [==============================] - 1s 38ms/step - loss: 1.0218 - mean_absolute_error: 0.6446 - val_loss: 3.0526 - val_mean_absolute_error: 1.0957\n",
      "Epoch 80/100\n",
      "20/20 [==============================] - 1s 36ms/step - loss: 1.0501 - mean_absolute_error: 0.7171 - val_loss: 3.1878 - val_mean_absolute_error: 1.0911\n",
      "Epoch 81/100\n",
      "20/20 [==============================] - 1s 36ms/step - loss: 0.9633 - mean_absolute_error: 0.6091 - val_loss: 4.0420 - val_mean_absolute_error: 1.2907\n",
      "Epoch 82/100\n",
      "20/20 [==============================] - 1s 40ms/step - loss: 1.1123 - mean_absolute_error: 0.6706 - val_loss: 4.8604 - val_mean_absolute_error: 1.5020\n",
      "Epoch 83/100\n",
      "20/20 [==============================] - 1s 44ms/step - loss: 0.9794 - mean_absolute_error: 0.6288 - val_loss: 3.9353 - val_mean_absolute_error: 1.2787\n",
      "Epoch 84/100\n",
      "20/20 [==============================] - 1s 40ms/step - loss: 1.0012 - mean_absolute_error: 0.6303 - val_loss: 3.8178 - val_mean_absolute_error: 1.2142\n",
      "Epoch 85/100\n",
      "20/20 [==============================] - 1s 39ms/step - loss: 1.0321 - mean_absolute_error: 0.6322 - val_loss: 3.2174 - val_mean_absolute_error: 1.1203\n",
      "Epoch 86/100\n",
      "20/20 [==============================] - 1s 48ms/step - loss: 0.8756 - mean_absolute_error: 0.5656 - val_loss: 3.1978 - val_mean_absolute_error: 1.1347\n",
      "Epoch 87/100\n",
      "20/20 [==============================] - 1s 41ms/step - loss: 1.1604 - mean_absolute_error: 0.7166 - val_loss: 3.3611 - val_mean_absolute_error: 1.1440\n",
      "Epoch 88/100\n",
      "20/20 [==============================] - 1s 49ms/step - loss: 0.9173 - mean_absolute_error: 0.6041 - val_loss: 3.7707 - val_mean_absolute_error: 1.2394\n",
      "Epoch 89/100\n",
      "20/20 [==============================] - 1s 40ms/step - loss: 0.8928 - mean_absolute_error: 0.5816 - val_loss: 3.0581 - val_mean_absolute_error: 1.1022\n",
      "Epoch 90/100\n",
      "20/20 [==============================] - 1s 40ms/step - loss: 0.7774 - mean_absolute_error: 0.5366 - val_loss: 3.8701 - val_mean_absolute_error: 1.2646\n",
      "Epoch 91/100\n",
      "20/20 [==============================] - 1s 36ms/step - loss: 0.9852 - mean_absolute_error: 0.5964 - val_loss: 3.3122 - val_mean_absolute_error: 1.1570\n",
      "Epoch 92/100\n",
      "20/20 [==============================] - 1s 41ms/step - loss: 0.9888 - mean_absolute_error: 0.6294 - val_loss: 3.5766 - val_mean_absolute_error: 1.2144\n",
      "Epoch 93/100\n",
      "20/20 [==============================] - 1s 39ms/step - loss: 1.1386 - mean_absolute_error: 0.7339 - val_loss: 3.1294 - val_mean_absolute_error: 1.1077\n",
      "Epoch 94/100\n",
      "20/20 [==============================] - 1s 45ms/step - loss: 1.1144 - mean_absolute_error: 0.6780 - val_loss: 3.2042 - val_mean_absolute_error: 1.1025\n",
      "Epoch 95/100\n",
      "20/20 [==============================] - 1s 59ms/step - loss: 0.8701 - mean_absolute_error: 0.5783 - val_loss: 3.1187 - val_mean_absolute_error: 1.1285\n",
      "Epoch 96/100\n",
      "20/20 [==============================] - 1s 45ms/step - loss: 0.8611 - mean_absolute_error: 0.5733 - val_loss: 3.1828 - val_mean_absolute_error: 1.1306\n",
      "Epoch 97/100\n",
      "20/20 [==============================] - 1s 44ms/step - loss: 1.1561 - mean_absolute_error: 0.7046 - val_loss: 4.0188 - val_mean_absolute_error: 1.2456\n",
      "Epoch 98/100\n",
      "20/20 [==============================] - 1s 44ms/step - loss: 0.8463 - mean_absolute_error: 0.5890 - val_loss: 3.2046 - val_mean_absolute_error: 1.1589\n",
      "Epoch 99/100\n",
      "20/20 [==============================] - 1s 48ms/step - loss: 0.8312 - mean_absolute_error: 0.5844 - val_loss: 4.0589 - val_mean_absolute_error: 1.3365\n"
     ]
    },
    {
     "name": "stdout",
     "output_type": "stream",
     "text": [
      "Epoch 100/100\n",
      "20/20 [==============================] - 1s 43ms/step - loss: 1.0545 - mean_absolute_error: 0.6684 - val_loss: 3.2951 - val_mean_absolute_error: 1.1425\n",
      "3/3 [==============================] - 0s 10ms/step - loss: 1.8974 - mean_absolute_error: 0.8700\n",
      "Model evaluation  [1.8974324464797974, 0.8700140118598938]\n",
      "Epoch 1/100\n",
      "20/20 [==============================] - 2s 50ms/step - loss: 35.9574 - mean_absolute_error: 4.2681 - val_loss: 3.0830 - val_mean_absolute_error: 1.3101\n",
      "Epoch 2/100\n",
      "20/20 [==============================] - 1s 40ms/step - loss: 7.4722 - mean_absolute_error: 1.9083 - val_loss: 5.9886 - val_mean_absolute_error: 2.0147\n",
      "Epoch 3/100\n",
      "20/20 [==============================] - 1s 38ms/step - loss: 9.0830 - mean_absolute_error: 2.2182 - val_loss: 2.1499 - val_mean_absolute_error: 1.0031\n",
      "Epoch 4/100\n",
      "20/20 [==============================] - 1s 44ms/step - loss: 5.3662 - mean_absolute_error: 1.6016 - val_loss: 1.6831 - val_mean_absolute_error: 0.8712\n",
      "Epoch 5/100\n",
      "20/20 [==============================] - 1s 44ms/step - loss: 4.5453 - mean_absolute_error: 1.3778 - val_loss: 5.6839 - val_mean_absolute_error: 2.0031\n",
      "Epoch 6/100\n",
      "20/20 [==============================] - 1s 47ms/step - loss: 5.1053 - mean_absolute_error: 1.5938 - val_loss: 3.9126 - val_mean_absolute_error: 1.5915\n",
      "Epoch 7/100\n",
      "20/20 [==============================] - 1s 39ms/step - loss: 5.5824 - mean_absolute_error: 1.7742 - val_loss: 1.6096 - val_mean_absolute_error: 0.9235\n",
      "Epoch 8/100\n",
      "20/20 [==============================] - 1s 41ms/step - loss: 4.0742 - mean_absolute_error: 1.3444 - val_loss: 1.4855 - val_mean_absolute_error: 0.8780\n",
      "Epoch 9/100\n",
      "20/20 [==============================] - 1s 41ms/step - loss: 4.0945 - mean_absolute_error: 1.4511 - val_loss: 1.4430 - val_mean_absolute_error: 0.8833\n",
      "Epoch 10/100\n",
      "20/20 [==============================] - 1s 40ms/step - loss: 3.1534 - mean_absolute_error: 1.2061 - val_loss: 2.6129 - val_mean_absolute_error: 1.1671\n",
      "Epoch 11/100\n",
      "20/20 [==============================] - 1s 40ms/step - loss: 3.8226 - mean_absolute_error: 1.4174 - val_loss: 6.1295 - val_mean_absolute_error: 2.2140\n",
      "Epoch 12/100\n",
      "20/20 [==============================] - 1s 36ms/step - loss: 5.8451 - mean_absolute_error: 1.9624 - val_loss: 4.2303 - val_mean_absolute_error: 1.7218\n",
      "Epoch 13/100\n",
      "20/20 [==============================] - 1s 36ms/step - loss: 4.0526 - mean_absolute_error: 1.5216 - val_loss: 2.3969 - val_mean_absolute_error: 1.1294\n",
      "Epoch 14/100\n",
      "20/20 [==============================] - 1s 39ms/step - loss: 3.2089 - mean_absolute_error: 1.3462 - val_loss: 3.0404 - val_mean_absolute_error: 1.3807\n",
      "Epoch 15/100\n",
      "20/20 [==============================] - 1s 41ms/step - loss: 2.7116 - mean_absolute_error: 1.2589 - val_loss: 3.6471 - val_mean_absolute_error: 1.5536\n",
      "Epoch 16/100\n",
      "20/20 [==============================] - 1s 38ms/step - loss: 3.3607 - mean_absolute_error: 1.4239 - val_loss: 2.2930 - val_mean_absolute_error: 1.1532\n",
      "Epoch 17/100\n",
      "20/20 [==============================] - 1s 40ms/step - loss: 2.7579 - mean_absolute_error: 1.1920 - val_loss: 1.3149 - val_mean_absolute_error: 0.8429\n",
      "Epoch 18/100\n",
      "20/20 [==============================] - 1s 41ms/step - loss: 3.0091 - mean_absolute_error: 1.2867 - val_loss: 2.7900 - val_mean_absolute_error: 1.3303\n",
      "Epoch 19/100\n",
      "20/20 [==============================] - 1s 40ms/step - loss: 3.5754 - mean_absolute_error: 1.4400 - val_loss: 3.0875 - val_mean_absolute_error: 1.3977\n",
      "Epoch 20/100\n",
      "20/20 [==============================] - 1s 40ms/step - loss: 3.2962 - mean_absolute_error: 1.4106 - val_loss: 5.6369 - val_mean_absolute_error: 2.0347\n",
      "Epoch 21/100\n",
      "20/20 [==============================] - 1s 40ms/step - loss: 3.7304 - mean_absolute_error: 1.3366 - val_loss: 1.3971 - val_mean_absolute_error: 0.8543\n",
      "Epoch 22/100\n",
      "20/20 [==============================] - 1s 39ms/step - loss: 3.6926 - mean_absolute_error: 1.6017 - val_loss: 1.3338 - val_mean_absolute_error: 0.8379\n",
      "Epoch 23/100\n",
      "20/20 [==============================] - 1s 40ms/step - loss: 3.0448 - mean_absolute_error: 1.2768 - val_loss: 1.6190 - val_mean_absolute_error: 0.9322\n",
      "Epoch 24/100\n",
      "20/20 [==============================] - 1s 36ms/step - loss: 2.6428 - mean_absolute_error: 1.2087 - val_loss: 1.3593 - val_mean_absolute_error: 0.8422\n",
      "Epoch 25/100\n",
      "20/20 [==============================] - 1s 36ms/step - loss: 2.6833 - mean_absolute_error: 1.2146 - val_loss: 1.8844 - val_mean_absolute_error: 1.0110\n",
      "Epoch 26/100\n",
      "20/20 [==============================] - 1s 37ms/step - loss: 2.3421 - mean_absolute_error: 1.1043 - val_loss: 1.2875 - val_mean_absolute_error: 0.8015\n",
      "Epoch 27/100\n",
      "20/20 [==============================] - 1s 36ms/step - loss: 2.1136 - mean_absolute_error: 1.0157 - val_loss: 3.1432 - val_mean_absolute_error: 1.4572\n",
      "Epoch 28/100\n",
      "20/20 [==============================] - 1s 37ms/step - loss: 2.4298 - mean_absolute_error: 1.1277 - val_loss: 2.3671 - val_mean_absolute_error: 1.2231\n",
      "Epoch 29/100\n",
      "20/20 [==============================] - 1s 37ms/step - loss: 2.4753 - mean_absolute_error: 1.1375 - val_loss: 1.2214 - val_mean_absolute_error: 0.7644\n",
      "Epoch 30/100\n",
      "20/20 [==============================] - 1s 39ms/step - loss: 2.0364 - mean_absolute_error: 0.9852 - val_loss: 3.2348 - val_mean_absolute_error: 1.4911\n",
      "Epoch 31/100\n",
      "20/20 [==============================] - 1s 39ms/step - loss: 2.0462 - mean_absolute_error: 1.0301 - val_loss: 1.4880 - val_mean_absolute_error: 0.8947\n",
      "Epoch 32/100\n",
      "20/20 [==============================] - 1s 40ms/step - loss: 2.2217 - mean_absolute_error: 1.0328 - val_loss: 1.8041 - val_mean_absolute_error: 1.0082\n",
      "Epoch 33/100\n",
      "20/20 [==============================] - 1s 40ms/step - loss: 1.8654 - mean_absolute_error: 0.9503 - val_loss: 1.1756 - val_mean_absolute_error: 0.7646\n",
      "Epoch 34/100\n",
      "20/20 [==============================] - 1s 41ms/step - loss: 1.9091 - mean_absolute_error: 0.9834 - val_loss: 1.6960 - val_mean_absolute_error: 0.9660\n",
      "Epoch 35/100\n",
      "20/20 [==============================] - 1s 40ms/step - loss: 2.0050 - mean_absolute_error: 1.0051 - val_loss: 1.2169 - val_mean_absolute_error: 0.7764\n",
      "Epoch 36/100\n",
      "20/20 [==============================] - 1s 40ms/step - loss: 1.8812 - mean_absolute_error: 0.9947 - val_loss: 1.9828 - val_mean_absolute_error: 1.1073\n",
      "Epoch 37/100\n",
      "20/20 [==============================] - 1s 37ms/step - loss: 2.2017 - mean_absolute_error: 1.1053 - val_loss: 1.7532 - val_mean_absolute_error: 0.9432\n",
      "Epoch 38/100\n",
      "20/20 [==============================] - 1s 48ms/step - loss: 2.5010 - mean_absolute_error: 1.1850 - val_loss: 1.5764 - val_mean_absolute_error: 0.9327\n",
      "Epoch 39/100\n",
      "20/20 [==============================] - 1s 38ms/step - loss: 1.6877 - mean_absolute_error: 0.9306 - val_loss: 1.9711 - val_mean_absolute_error: 1.1050\n",
      "Epoch 40/100\n",
      "20/20 [==============================] - 1s 37ms/step - loss: 2.5367 - mean_absolute_error: 1.1696 - val_loss: 2.6402 - val_mean_absolute_error: 1.2981\n",
      "Epoch 41/100\n",
      "20/20 [==============================] - 1s 37ms/step - loss: 2.1710 - mean_absolute_error: 1.0547 - val_loss: 2.0472 - val_mean_absolute_error: 1.1236\n",
      "Epoch 42/100\n",
      "20/20 [==============================] - 1s 38ms/step - loss: 2.2394 - mean_absolute_error: 1.1301 - val_loss: 1.5989 - val_mean_absolute_error: 0.9736\n",
      "Epoch 43/100\n",
      "20/20 [==============================] - 1s 39ms/step - loss: 2.4884 - mean_absolute_error: 1.1059 - val_loss: 1.4356 - val_mean_absolute_error: 0.8606\n",
      "Epoch 44/100\n",
      "20/20 [==============================] - 1s 40ms/step - loss: 2.1080 - mean_absolute_error: 1.0460 - val_loss: 1.2336 - val_mean_absolute_error: 0.7891\n",
      "Epoch 45/100\n",
      "20/20 [==============================] - 1s 39ms/step - loss: 2.1586 - mean_absolute_error: 1.0562 - val_loss: 1.0789 - val_mean_absolute_error: 0.7258\n",
      "Epoch 46/100\n",
      "20/20 [==============================] - 1s 39ms/step - loss: 1.9128 - mean_absolute_error: 0.9976 - val_loss: 1.1176 - val_mean_absolute_error: 0.7636\n",
      "Epoch 47/100\n",
      "20/20 [==============================] - 1s 39ms/step - loss: 2.0758 - mean_absolute_error: 1.0729 - val_loss: 1.4578 - val_mean_absolute_error: 0.9055\n",
      "Epoch 48/100\n",
      "20/20 [==============================] - 1s 39ms/step - loss: 1.5060 - mean_absolute_error: 0.8608 - val_loss: 1.4815 - val_mean_absolute_error: 0.9038\n"
     ]
    },
    {
     "name": "stdout",
     "output_type": "stream",
     "text": [
      "Epoch 49/100\n",
      "20/20 [==============================] - 1s 39ms/step - loss: 1.6636 - mean_absolute_error: 0.9066 - val_loss: 1.0271 - val_mean_absolute_error: 0.6827\n",
      "Epoch 50/100\n",
      "20/20 [==============================] - 1s 36ms/step - loss: 1.5457 - mean_absolute_error: 0.8314 - val_loss: 1.1522 - val_mean_absolute_error: 0.7356\n",
      "Epoch 51/100\n",
      "20/20 [==============================] - 1s 36ms/step - loss: 1.6302 - mean_absolute_error: 0.9084 - val_loss: 0.9921 - val_mean_absolute_error: 0.6824\n",
      "Epoch 52/100\n",
      "20/20 [==============================] - 1s 36ms/step - loss: 1.5465 - mean_absolute_error: 0.8346 - val_loss: 1.3505 - val_mean_absolute_error: 0.8553\n",
      "Epoch 53/100\n",
      "20/20 [==============================] - 1s 35ms/step - loss: 1.6550 - mean_absolute_error: 0.9008 - val_loss: 3.1943 - val_mean_absolute_error: 1.5285\n",
      "Epoch 54/100\n",
      "20/20 [==============================] - 1s 53ms/step - loss: 1.7678 - mean_absolute_error: 0.9699 - val_loss: 1.0623 - val_mean_absolute_error: 0.7404\n",
      "Epoch 55/100\n",
      "20/20 [==============================] - 1s 55ms/step - loss: 1.5120 - mean_absolute_error: 0.8601 - val_loss: 1.3424 - val_mean_absolute_error: 0.8163\n",
      "Epoch 56/100\n",
      "20/20 [==============================] - 1s 47ms/step - loss: 1.6743 - mean_absolute_error: 0.9320 - val_loss: 2.9013 - val_mean_absolute_error: 1.4278\n",
      "Epoch 57/100\n",
      "20/20 [==============================] - 1s 40ms/step - loss: 2.2127 - mean_absolute_error: 1.0942 - val_loss: 1.1216 - val_mean_absolute_error: 0.7361\n",
      "Epoch 58/100\n",
      "20/20 [==============================] - 1s 43ms/step - loss: 2.0572 - mean_absolute_error: 0.9973 - val_loss: 1.2228 - val_mean_absolute_error: 0.7917\n",
      "Epoch 59/100\n",
      "20/20 [==============================] - 1s 48ms/step - loss: 2.0839 - mean_absolute_error: 1.0231 - val_loss: 1.2352 - val_mean_absolute_error: 0.7650\n",
      "Epoch 60/100\n",
      "20/20 [==============================] - 1s 40ms/step - loss: 2.1552 - mean_absolute_error: 1.0327 - val_loss: 1.1941 - val_mean_absolute_error: 0.7977\n",
      "Epoch 61/100\n",
      "20/20 [==============================] - 1s 39ms/step - loss: 1.7006 - mean_absolute_error: 0.9329 - val_loss: 1.2421 - val_mean_absolute_error: 0.7963\n",
      "Epoch 62/100\n",
      "20/20 [==============================] - 1s 36ms/step - loss: 1.6493 - mean_absolute_error: 0.9055 - val_loss: 1.9109 - val_mean_absolute_error: 1.0981\n",
      "Epoch 63/100\n",
      "20/20 [==============================] - 1s 42ms/step - loss: 1.5649 - mean_absolute_error: 0.8737 - val_loss: 1.5336 - val_mean_absolute_error: 0.9513\n",
      "Epoch 64/100\n",
      "20/20 [==============================] - 1s 39ms/step - loss: 1.8398 - mean_absolute_error: 0.9223 - val_loss: 1.3320 - val_mean_absolute_error: 0.8571\n",
      "Epoch 65/100\n",
      "20/20 [==============================] - 1s 38ms/step - loss: 1.5654 - mean_absolute_error: 0.8776 - val_loss: 1.2081 - val_mean_absolute_error: 0.7692\n",
      "Epoch 66/100\n",
      "20/20 [==============================] - 1s 38ms/step - loss: 1.5320 - mean_absolute_error: 0.8380 - val_loss: 0.9741 - val_mean_absolute_error: 0.6607\n",
      "Epoch 67/100\n",
      "20/20 [==============================] - 1s 39ms/step - loss: 1.8002 - mean_absolute_error: 1.0059 - val_loss: 1.4015 - val_mean_absolute_error: 0.8325\n",
      "Epoch 68/100\n",
      "20/20 [==============================] - 1s 39ms/step - loss: 1.7724 - mean_absolute_error: 0.9103 - val_loss: 1.0481 - val_mean_absolute_error: 0.6963\n",
      "Epoch 69/100\n",
      "20/20 [==============================] - 1s 45ms/step - loss: 1.5842 - mean_absolute_error: 0.9294 - val_loss: 1.2602 - val_mean_absolute_error: 0.7893\n",
      "Epoch 70/100\n",
      "20/20 [==============================] - 1s 40ms/step - loss: 1.4817 - mean_absolute_error: 0.8546 - val_loss: 1.4779 - val_mean_absolute_error: 0.8980\n",
      "Epoch 71/100\n",
      "20/20 [==============================] - 1s 39ms/step - loss: 1.4479 - mean_absolute_error: 0.8434 - val_loss: 2.3581 - val_mean_absolute_error: 1.2723\n",
      "Epoch 72/100\n",
      "20/20 [==============================] - 1s 41ms/step - loss: 1.6776 - mean_absolute_error: 0.9207 - val_loss: 1.0192 - val_mean_absolute_error: 0.7082\n",
      "Epoch 73/100\n",
      "20/20 [==============================] - 1s 63ms/step - loss: 2.1285 - mean_absolute_error: 1.1221 - val_loss: 2.5408 - val_mean_absolute_error: 1.3046\n",
      "Epoch 74/100\n",
      "20/20 [==============================] - 1s 54ms/step - loss: 1.6685 - mean_absolute_error: 0.8925 - val_loss: 1.1520 - val_mean_absolute_error: 0.7572\n",
      "Epoch 75/100\n",
      "20/20 [==============================] - 1s 44ms/step - loss: 1.8323 - mean_absolute_error: 0.9907 - val_loss: 1.1827 - val_mean_absolute_error: 0.7425\n",
      "Epoch 76/100\n",
      "20/20 [==============================] - 1s 42ms/step - loss: 1.6410 - mean_absolute_error: 0.8858 - val_loss: 1.7747 - val_mean_absolute_error: 1.0473\n",
      "Epoch 77/100\n",
      "20/20 [==============================] - 1s 37ms/step - loss: 1.5776 - mean_absolute_error: 0.8695 - val_loss: 1.5377 - val_mean_absolute_error: 0.9435\n",
      "Epoch 78/100\n",
      "20/20 [==============================] - 1s 37ms/step - loss: 1.3401 - mean_absolute_error: 0.7786 - val_loss: 1.1250 - val_mean_absolute_error: 0.7431\n",
      "Epoch 79/100\n",
      "20/20 [==============================] - 1s 47ms/step - loss: 1.2439 - mean_absolute_error: 0.7846 - val_loss: 1.3934 - val_mean_absolute_error: 0.8713\n",
      "Epoch 80/100\n",
      "20/20 [==============================] - 1s 44ms/step - loss: 1.4940 - mean_absolute_error: 0.8186 - val_loss: 1.3729 - val_mean_absolute_error: 0.8688\n",
      "Epoch 81/100\n",
      "20/20 [==============================] - 1s 41ms/step - loss: 1.2474 - mean_absolute_error: 0.7260 - val_loss: 1.1279 - val_mean_absolute_error: 0.7605\n",
      "Epoch 82/100\n",
      "20/20 [==============================] - 1s 50ms/step - loss: 1.3504 - mean_absolute_error: 0.8104 - val_loss: 1.1334 - val_mean_absolute_error: 0.7612\n",
      "Epoch 83/100\n",
      "20/20 [==============================] - 1s 53ms/step - loss: 1.5321 - mean_absolute_error: 0.8581 - val_loss: 0.9432 - val_mean_absolute_error: 0.6699\n",
      "Epoch 84/100\n",
      "20/20 [==============================] - 2s 78ms/step - loss: 1.3095 - mean_absolute_error: 0.7931 - val_loss: 0.8613 - val_mean_absolute_error: 0.6406\n",
      "Epoch 85/100\n",
      "20/20 [==============================] - 1s 55ms/step - loss: 1.2949 - mean_absolute_error: 0.7896 - val_loss: 1.3321 - val_mean_absolute_error: 0.8576\n",
      "Epoch 86/100\n",
      "20/20 [==============================] - 1s 52ms/step - loss: 1.7213 - mean_absolute_error: 0.9446 - val_loss: 2.5425 - val_mean_absolute_error: 1.3183\n",
      "Epoch 87/100\n",
      "20/20 [==============================] - 1s 38ms/step - loss: 1.4668 - mean_absolute_error: 0.8833 - val_loss: 1.3164 - val_mean_absolute_error: 0.8171\n",
      "Epoch 88/100\n",
      "20/20 [==============================] - 1s 39ms/step - loss: 1.1894 - mean_absolute_error: 0.7573 - val_loss: 1.1729 - val_mean_absolute_error: 0.7841\n",
      "Epoch 89/100\n",
      "20/20 [==============================] - 1s 52ms/step - loss: 1.1707 - mean_absolute_error: 0.7534 - val_loss: 1.3130 - val_mean_absolute_error: 0.8629\n",
      "Epoch 90/100\n",
      "20/20 [==============================] - 1s 67ms/step - loss: 1.1768 - mean_absolute_error: 0.7403 - val_loss: 1.0516 - val_mean_absolute_error: 0.7406\n",
      "Epoch 91/100\n",
      "20/20 [==============================] - 1s 45ms/step - loss: 1.2033 - mean_absolute_error: 0.7679 - val_loss: 1.9395 - val_mean_absolute_error: 1.0866\n",
      "Epoch 92/100\n",
      "20/20 [==============================] - 1s 47ms/step - loss: 1.5126 - mean_absolute_error: 0.8746 - val_loss: 0.9031 - val_mean_absolute_error: 0.6542\n",
      "Epoch 93/100\n",
      "20/20 [==============================] - 1s 56ms/step - loss: 1.3000 - mean_absolute_error: 0.7930 - val_loss: 2.5040 - val_mean_absolute_error: 1.2953\n",
      "Epoch 94/100\n",
      "20/20 [==============================] - 1s 45ms/step - loss: 1.1367 - mean_absolute_error: 0.7374 - val_loss: 1.0161 - val_mean_absolute_error: 0.7172\n",
      "Epoch 95/100\n",
      "20/20 [==============================] - 1s 39ms/step - loss: 1.0491 - mean_absolute_error: 0.6786 - val_loss: 0.9626 - val_mean_absolute_error: 0.6782\n",
      "Epoch 96/100\n",
      "20/20 [==============================] - 1s 42ms/step - loss: 1.0859 - mean_absolute_error: 0.6613 - val_loss: 1.4320 - val_mean_absolute_error: 0.8981\n",
      "Epoch 97/100\n",
      "20/20 [==============================] - 1s 36ms/step - loss: 1.3356 - mean_absolute_error: 0.8644 - val_loss: 1.4234 - val_mean_absolute_error: 0.8447\n",
      "Epoch 98/100\n",
      "20/20 [==============================] - 1s 53ms/step - loss: 1.2975 - mean_absolute_error: 0.7854 - val_loss: 0.9525 - val_mean_absolute_error: 0.6764\n"
     ]
    },
    {
     "name": "stdout",
     "output_type": "stream",
     "text": [
      "Epoch 99/100\n",
      "20/20 [==============================] - 1s 41ms/step - loss: 1.2212 - mean_absolute_error: 0.7722 - val_loss: 0.9411 - val_mean_absolute_error: 0.6652\n",
      "Epoch 100/100\n",
      "20/20 [==============================] - 1s 41ms/step - loss: 1.1130 - mean_absolute_error: 0.7335 - val_loss: 2.5020 - val_mean_absolute_error: 1.2913\n",
      "3/3 [==============================] - 0s 18ms/step - loss: 2.2212 - mean_absolute_error: 1.1801\n",
      "Model evaluation  [2.2212486267089844, 1.180052399635315]\n"
     ]
    }
   ],
   "source": [
    "from sklearn.model_selection import KFold\n",
    "\n",
    "n_split=3\n",
    "history = []\n",
    "\n",
    "for train, valid in KFold(n_split).split(training):\n",
    "    \n",
    "    train_feature = im[train, :]\n",
    "    train_label = label[train,0]\n",
    "    valid_feature = im[valid, :]\n",
    "    valid_label = label[valid, :]\n",
    "\n",
    "    model = model1()\n",
    "    model.compile(\n",
    "    optimizer=keras.optimizers.Adam(learning_rate=0.0001),\n",
    "    loss=keras.losses.MeanSquaredError(name=\"mean_squared_error\"),\n",
    "    metrics=[tf.keras.metrics.mean_absolute_error])\n",
    "    \n",
    "    history.append(model.fit(\n",
    "    train_feature,\n",
    "    train_label,\n",
    "    batch_size=5,\n",
    "    epochs=100,\n",
    "    validation_data = (valid_feature, valid_label),\n",
    "    ))\n",
    "\n",
    "    print('Model evaluation ', model.evaluate(test_feature, test_label))"
   ]
  },
  {
   "cell_type": "code",
   "execution_count": 151,
   "id": "cb18235b",
   "metadata": {},
   "outputs": [
    {
     "data": {
      "text/plain": [
       "(0.0, 20.0)"
      ]
     },
     "execution_count": 151,
     "metadata": {},
     "output_type": "execute_result"
    },
    {
     "data": {
      "image/png": "[encoded data removed]",
      "text/plain": [
       "<Figure size 432x288 with 1 Axes>"
      ]
     },
     "metadata": {
      "needs_background": "light"
     },
     "output_type": "display_data"
    }
   ],
   "source": [
    "plt.plot(np.mean([history[i].history['loss'] for i in range(3)], axis = 0))\n",
    "plt.ylim(0,20)"
   ]
  },
  {
   "cell_type": "code",
   "execution_count": 152,
   "id": "3884ae67",
   "metadata": {},
   "outputs": [
    {
     "data": {
      "text/plain": [
       "dict_keys(['loss', 'mean_absolute_error', 'val_loss', 'val_mean_absolute_error'])"
      ]
     },
     "execution_count": 152,
     "metadata": {},
     "output_type": "execute_result"
    }
   ],
   "source": [
    "history[0].history.keys()"
   ]
  },
  {
   "cell_type": "code",
   "execution_count": 153,
   "id": "d155b07c",
   "metadata": {},
   "outputs": [
    {
     "data": {
      "text/plain": [
       "[<matplotlib.lines.Line2D at 0x7f6f82ac2f70>]"
      ]
     },
     "execution_count": 153,
     "metadata": {},
     "output_type": "execute_result"
    },
    {
     "data": {
      "image/png": "[encoded data removed]",
      "text/plain": [
       "<Figure size 432x288 with 1 Axes>"
      ]
     },
     "metadata": {
      "needs_background": "light"
     },
     "output_type": "display_data"
    }
   ],
   "source": [
    "plt.plot(np.mean([history[i].history['val_mean_absolute_error'] for i in range(3)], axis = 0))"
   ]
  },
  {
   "cell_type": "code",
   "execution_count": null,
   "id": "9bcadb2d",
   "metadata": {},
   "outputs": [],
   "source": [
    "validation =\n",
    "\n",
    "plt.plot()"
   ]
  },
  {
   "cell_type": "markdown",
   "id": "65d7f92e",
   "metadata": {},
   "source": [
    "Brouillon"
   ]
  },
  {
   "cell_type": "code",
   "execution_count": null,
   "id": "ca2a2351",
   "metadata": {},
   "outputs": [],
   "source": []
  },
  {
   "cell_type": "code",
   "execution_count": null,
   "id": "dff0a542",
   "metadata": {},
   "outputs": [],
   "source": [
    "from sklearn.model_selection import GridSearchCV\n",
    "from sklearn.neural_network import MLPRegressor\n",
    "\n",
    "param_grid = [\n",
    "  {'hidden_layer_sizes': [ (50,), (100,), (20,20,20), (100, 100), (100, 100, 20), (10, 10), (30, 30, 20)], \n",
    "   'learning_rate_init':[0.001, 0.01],\n",
    "   'alpha': [0.1, 0.01, 0.001, 0.0001, 0.00001],\n",
    "  }\n",
    " ]\n",
    "print(param_grid)\n",
    "\n",
    "# Cross-validation grid-search (for finding best possible accuracy)\n",
    "clf = GridSearchCV(MLPRegressor(max_iter = 800,\n",
    "                     early_stopping=True, \n",
    "                     n_iter_no_change = 10,\n",
    "                     learning_rate_init = 0.0001,\n",
    "                     alpha = 0.0001,\n",
    "                     batch_size = 50,\n",
    "                     hidden_layer_sizes=(40,40),\n",
    "                     validation_fraction = 0.2,\n",
    "                     random_state = 39,\n",
    "                     verbose = 2), param_grid = param_grid, cv=3, scoring='neg_mean_squared_error')\n",
    "\n",
    "clf.fit(X_train, y_train)"
   ]
  },
  {
   "cell_type": "code",
   "execution_count": null,
   "id": "3d580132",
   "metadata": {},
   "outputs": [],
   "source": [
    "from sklearn.model_selection import KFold\n",
    "\n",
    "n_split=3\n",
    "\n",
    "for train_index, test_index in KFold(n_split).split(X):\n",
    "    x_train,x_test=X[train_index],X[test_index]\n",
    "    y_train,y_test=Y[train_index],Y[test_index]\n",
    "\n",
    "    model=create_model()\n",
    "    model.fit(x_train, y_train,epochs=20)\n",
    "\n",
    "    print('Model evaluation ',model.evaluate(x_test,y_test))"
   ]
  },
  {
   "cell_type": "code",
   "execution_count": 94,
   "id": "ebc96738",
   "metadata": {},
   "outputs": [
    {
     "data": {
      "text/plain": [
       "<generator object _BaseKFold.split at 0x7f6f829a92e0>"
      ]
     },
     "execution_count": 94,
     "metadata": {},
     "output_type": "execute_result"
    }
   ],
   "source": [
    "from sklearn.model_selection import KFold\n",
    "KFold(3).split([1, 2, 3])"
   ]
  },
  {
   "cell_type": "code",
   "execution_count": null,
   "id": "4c7458af",
   "metadata": {},
   "outputs": [],
   "source": []
  }
 ],
 "metadata": {
  "kernelspec": {
   "display_name": "Python 3 (ipykernel)",
   "language": "python",
   "name": "python3"
  },
  "language_info": {
   "codemirror_mode": {
    "name": "ipython",
    "version": 3
   },
   "file_extension": ".py",
   "mimetype": "text/x-python",
   "name": "python",
   "nbconvert_exporter": "python",
   "pygments_lexer": "ipython3",
   "version": "3.8.0"
  }
 },
 "nbformat": 4,
 "nbformat_minor": 5
}

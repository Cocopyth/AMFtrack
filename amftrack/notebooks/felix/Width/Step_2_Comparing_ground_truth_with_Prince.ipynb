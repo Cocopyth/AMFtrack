{
 "cells": [
  {
   "cell_type": "markdown",
   "id": "9fcfa77c",
   "metadata": {},
   "source": [
    "# Comparing ground truth with Prince"
   ]
  },
  {
   "cell_type": "markdown",
   "id": "e9b93d41",
   "metadata": {},
   "source": [
    "In this notebook, we compare the width computed with the high magnification microscope (x100) to those taken with Prince. "
   ]
  },
  {
   "cell_type": "markdown",
   "id": "88de6b2a",
   "metadata": {},
   "source": [
    "## Setup"
   ]
  },
  {
   "cell_type": "code",
   "execution_count": 1,
   "id": "4fcfcb65",
   "metadata": {},
   "outputs": [
    {
     "name": "stderr",
     "output_type": "stream",
     "text": [
      "/home/felix/Wks/AMFtrack/amftrack/transfer/functions/transfer.py:1: TqdmExperimentalWarning: Using `tqdm.autonotebook.tqdm` in notebook mode. Use `tqdm.tqdm` instead to force console mode (e.g. in jupyter console)\n",
      "  from tqdm.autonotebook import tqdm\n"
     ]
    }
   ],
   "source": [
    "from amftrack.util.sys import data_path, get_current_folders, update_plate_info\n",
    "from amftrack.util.file import chose_file\n",
    "from amftrack.util.plot import show_image\n",
    "from amftrack.pipeline.functions.image_processing.experiment_class_surf import Experiment\n",
    "import os\n",
    "import matplotlib.pyplot as plt\n",
    "import logging\n",
    "#%matplotlib notebook"
   ]
  },
  {
   "cell_type": "code",
   "execution_count": 2,
   "id": "c8c3db48",
   "metadata": {},
   "outputs": [
    {
     "ename": "FileNotFoundError",
     "evalue": "[Errno 2] No such file or directory: '/data/felix/width1/full_plates/'",
     "output_type": "error",
     "traceback": [
      "\u001b[0;31m---------------------------------------------------------------------------\u001b[0m",
      "\u001b[0;31mFileNotFoundError\u001b[0m                         Traceback (most recent call last)",
      "Input \u001b[0;32mIn [2]\u001b[0m, in \u001b[0;36m<cell line: 3>\u001b[0;34m()\u001b[0m\n\u001b[1;32m      1\u001b[0m directory \u001b[38;5;241m=\u001b[39m \u001b[38;5;124m\"\u001b[39m\u001b[38;5;124m/data/felix/width1/full_plates/\u001b[39m\u001b[38;5;124m\"\u001b[39m\n\u001b[1;32m      2\u001b[0m plate_name \u001b[38;5;241m=\u001b[39m \u001b[38;5;124m\"\u001b[39m\u001b[38;5;124m20220325_1423_Plate907\u001b[39m\u001b[38;5;124m\"\u001b[39m\n\u001b[0;32m----> 3\u001b[0m \u001b[43mupdate_plate_info\u001b[49m\u001b[43m(\u001b[49m\u001b[43mdirectory\u001b[49m\u001b[43m)\u001b[49m\n\u001b[1;32m      4\u001b[0m folder_df \u001b[38;5;241m=\u001b[39m get_current_folders(directory)\n",
      "File \u001b[0;32m~/Wks/AMFtrack/amftrack/util/sys.py:221\u001b[0m, in \u001b[0;36mupdate_plate_info\u001b[0;34m(directory, local)\u001b[0m\n\u001b[1;32m    214\u001b[0m \u001b[38;5;124;03m\"\"\"*\u001b[39;00m\n\u001b[1;32m    215\u001b[0m \u001b[38;5;124;03m1/ Download `data_info.json` file containing all information about acquisitions.\u001b[39;00m\n\u001b[1;32m    216\u001b[0m \u001b[38;5;124;03m2/ Add all acquisition files in the `directory` path to the `data_info.json`.\u001b[39;00m\n\u001b[1;32m    217\u001b[0m \u001b[38;5;124;03m3/ Upload the new version of data_info (actuliased) to the dropbox.\u001b[39;00m\n\u001b[1;32m    218\u001b[0m \u001b[38;5;124;03mAn acquisition repositorie has a param.m file inside it.\u001b[39;00m\n\u001b[1;32m    219\u001b[0m \u001b[38;5;124;03m\"\"\"\u001b[39;00m\n\u001b[1;32m    220\u001b[0m \u001b[38;5;66;03m# TODO(FK): add a local version without dropbox modification\u001b[39;00m\n\u001b[0;32m--> 221\u001b[0m listdir \u001b[38;5;241m=\u001b[39m \u001b[43mos\u001b[49m\u001b[38;5;241;43m.\u001b[39;49m\u001b[43mlistdir\u001b[49m\u001b[43m(\u001b[49m\u001b[43mdirectory\u001b[49m\u001b[43m)\u001b[49m\n\u001b[1;32m    222\u001b[0m source \u001b[38;5;241m=\u001b[39m \u001b[38;5;124mf\u001b[39m\u001b[38;5;124m\"\u001b[39m\u001b[38;5;124m/data_info.json\u001b[39m\u001b[38;5;124m\"\u001b[39m\n\u001b[1;32m    223\u001b[0m \u001b[38;5;28;01mif\u001b[39;00m local:\n",
      "\u001b[0;31mFileNotFoundError\u001b[0m: [Errno 2] No such file or directory: '/data/felix/width1/full_plates/'"
     ]
    }
   ],
   "source": [
    "directory = \"/data/felix/width1/full_plates/\"\n",
    "plate_name = \"20220325_1423_Plate907\"\n",
    "update_plate_info(directory)\n",
    "folder_df = get_current_folders(directory)"
   ]
  },
  {
   "cell_type": "code",
   "execution_count": null,
   "id": "75326e8d",
   "metadata": {},
   "outputs": [],
   "source": [
    "selected_df = folder_df.loc[folder_df['folder']==plate_name]"
   ]
  },
  {
   "cell_type": "code",
   "execution_count": 14,
   "id": "f1202d6a",
   "metadata": {},
   "outputs": [],
   "source": [
    "i = 0"
   ]
  },
  {
   "cell_type": "code",
   "execution_count": 15,
   "id": "cdac9409",
   "metadata": {},
   "outputs": [],
   "source": [
    "plate = int(list(selected_df['folder'])[i].split('_')[-1][5:])\n",
    "folder_list = list(selected_df['folder'])\n",
    "directory_name = folder_list[i]"
   ]
  },
  {
   "cell_type": "code",
   "execution_count": 16,
   "id": "d4e893fa",
   "metadata": {
    "scrolled": true
   },
   "outputs": [
    {
     "name": "stdout",
     "output_type": "stream",
     "text": [
      "2022-03-25 14:23:00\n"
     ]
    }
   ],
   "source": [
    "exp = Experiment(plate, directory)\n",
    "exp.load(selected_df.loc[selected_df['folder']==directory_name],labeled=False)"
   ]
  },
  {
   "cell_type": "code",
   "execution_count": 17,
   "id": "9593264c",
   "metadata": {},
   "outputs": [
    {
     "data": {
      "text/plain": [
       "2407"
      ]
     },
     "execution_count": 17,
     "metadata": {},
     "output_type": "execute_result"
    }
   ],
   "source": [
    "len(exp.nx_graph[0])"
   ]
  },
  {
   "cell_type": "code",
   "execution_count": null,
   "id": "0c4bdf8d",
   "metadata": {},
   "outputs": [],
   "source": []
  }
 ],
 "metadata": {
  "kernelspec": {
   "display_name": "Python 3 (ipykernel)",
   "language": "python",
   "name": "python3"
  },
  "language_info": {
   "codemirror_mode": {
    "name": "ipython",
    "version": 3
   },
   "file_extension": ".py",
   "mimetype": "text/x-python",
   "name": "python",
   "nbconvert_exporter": "python",
   "pygments_lexer": "ipython3",
   "version": "3.8.0"
  }
 },
 "nbformat": 4,
 "nbformat_minor": 5
}

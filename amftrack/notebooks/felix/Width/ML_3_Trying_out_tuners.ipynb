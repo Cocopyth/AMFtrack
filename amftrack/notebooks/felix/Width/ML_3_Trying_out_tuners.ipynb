{
 "cells": [
  {
   "cell_type": "markdown",
   "id": "d52326e3",
   "metadata": {},
   "source": [
    "# Trying out keras-tuner"
   ]
  },
  {
   "cell_type": "code",
   "execution_count": 1,
   "id": "991a6e19",
   "metadata": {},
   "outputs": [
    {
     "data": {
      "application/javascript": [
       "$('<div id=\"toc\"></div>').css({position: 'fixed', top: '120px', left: 0}).appendTo(document.body);\n",
       "$.getScript('https://kmahelona.github.io/ipython_notebook_goodies/ipython_notebook_toc.js');\n"
      ],
      "text/plain": [
       "<IPython.core.display.Javascript object>"
      ]
     },
     "metadata": {},
     "output_type": "display_data"
    }
   ],
   "source": [
    "%%javascript\n",
    "$('<div id=\"toc\"></div>').css({position: 'fixed', top: '120px', left: 0}).appendTo(document.body);\n",
    "$.getScript('https://kmahelona.github.io/ipython_notebook_goodies/ipython_notebook_toc.js');"
   ]
  },
  {
   "cell_type": "markdown",
   "id": "96b50547",
   "metadata": {},
   "source": [
    "https://keras.io/keras_tuner/"
   ]
  },
  {
   "cell_type": "markdown",
   "id": "9489b78f",
   "metadata": {},
   "source": [
    "https://github.com/keras-team/keras"
   ]
  },
  {
   "cell_type": "markdown",
   "id": "583dd165",
   "metadata": {},
   "source": [
    "# First example"
   ]
  },
  {
   "cell_type": "markdown",
   "id": "7690750d",
   "metadata": {},
   "source": [
    "https://blog.tensorflow.org/2020/01/hyperparameter-tuning-with-keras-tuner.html"
   ]
  },
  {
   "cell_type": "code",
   "execution_count": 1,
   "id": "fd45d5d9",
   "metadata": {
    "scrolled": true
   },
   "outputs": [
    {
     "name": "stderr",
     "output_type": "stream",
     "text": [
      "2022-06-03 15:22:16.006056: W tensorflow/stream_executor/platform/default/dso_loader.cc:64] Could not load dynamic library 'libcudart.so.11.0'; dlerror: libcudart.so.11.0: cannot open shared object file: No such file or directory\n",
      "2022-06-03 15:22:16.006074: I tensorflow/stream_executor/cuda/cudart_stub.cc:29] Ignore above cudart dlerror if you do not have a GPU set up on your machine.\n",
      "/tmp/ipykernel_1919138/167059113.py:2: DeprecationWarning: `import kerastuner` is deprecated, please use `import keras_tuner`.\n",
      "  import kerastuner as kt\n"
     ]
    }
   ],
   "source": [
    "import tensorflow as tf\n",
    "import kerastuner as kt\n",
    "import tensorflow_datasets as tfds"
   ]
  },
  {
   "cell_type": "markdown",
   "id": "53d75d60",
   "metadata": {},
   "source": [
    "## Dataset"
   ]
  },
  {
   "cell_type": "code",
   "execution_count": 2,
   "id": "25aa9b6f",
   "metadata": {
    "scrolled": true
   },
   "outputs": [
    {
     "name": "stderr",
     "output_type": "stream",
     "text": [
      "2022-06-03 15:22:24.026221: W tensorflow/stream_executor/platform/default/dso_loader.cc:64] Could not load dynamic library 'libcuda.so.1'; dlerror: libcuda.so.1: cannot open shared object file: No such file or directory\n",
      "2022-06-03 15:22:24.026242: W tensorflow/stream_executor/cuda/cuda_driver.cc:269] failed call to cuInit: UNKNOWN ERROR (303)\n",
      "2022-06-03 15:22:24.026256: I tensorflow/stream_executor/cuda/cuda_diagnostics.cc:156] kernel driver does not appear to be running on this host (morricone.ipa.amolf.nl): /proc/driver/nvidia/version does not exist\n",
      "2022-06-03 15:22:24.026456: I tensorflow/core/platform/cpu_feature_guard.cc:151] This TensorFlow binary is optimized with oneAPI Deep Neural Network Library (oneDNN) to use the following CPU instructions in performance-critical operations:  AVX2 FMA\n",
      "To enable them in other operations, rebuild TensorFlow with the appropriate compiler flags.\n"
     ]
    }
   ],
   "source": [
    "data = tfds.load(\"cifar10\")\n",
    "train_ds, test_ds = data[\"train\"], data[\"test\"]\n",
    "\n",
    "\n",
    "def standardize_record(record):\n",
    "    return tf.cast(record[\"image\"], tf.float32) / 255.0, record[\"label\"]\n",
    "\n",
    "\n",
    "train_ds = train_ds.map(standardize_record).take(1024).batch(16).shuffle(100)\n",
    "test_ds = test_ds.map(standardize_record).take(128).batch(16)"
   ]
  },
  {
   "cell_type": "markdown",
   "id": "22ef2081",
   "metadata": {},
   "source": [
    "## Model"
   ]
  },
  {
   "cell_type": "code",
   "execution_count": 3,
   "id": "eab28095",
   "metadata": {},
   "outputs": [],
   "source": [
    "def build_model(hp):\n",
    "    inputs = tf.keras.Input(shape=(32, 32, 3))\n",
    "    x = inputs\n",
    "    for i in range(hp.Int(\"conv_blocks\", 3, 5, default=3)):\n",
    "        filters = hp.Int(\"filters_\" + str(i), 32, 256, step=32)\n",
    "    for _ in range(2):\n",
    "        x = tf.keras.layers.Convolution2D(filters, kernel_size=(3, 3), padding=\"same\")(\n",
    "            x\n",
    "        )\n",
    "        x = tf.keras.layers.BatchNormalization()(x)\n",
    "        x = tf.keras.layers.ReLU()(x)\n",
    "    if hp.Choice(\"pooling_\" + str(i), [\"avg\", \"max\"]) == \"max\":\n",
    "        x = tf.keras.layers.MaxPool2D()(x)\n",
    "    else:\n",
    "        x = tf.keras.layers.AvgPool2D()(x)\n",
    "    x = tf.keras.layers.GlobalAvgPool2D()(x)\n",
    "    x = tf.keras.layers.Dense(\n",
    "        hp.Int(\"hidden_size\", 30, 100, step=10, default=50), activation=\"relu\"\n",
    "    )(x)\n",
    "    x = tf.keras.layers.Dropout(hp.Float(\"dropout\", 0, 0.5, step=0.1, default=0.5))(x)\n",
    "    outputs = tf.keras.layers.Dense(10, activation=\"softmax\")(x)\n",
    "    model = tf.keras.Model(inputs, outputs)\n",
    "    model.compile(\n",
    "        optimizer=tf.keras.optimizers.Adam(\n",
    "            hp.Float(\"learning_rate\", 1e-4, 1e-2, sampling=\"log\")\n",
    "        ),\n",
    "        loss=\"sparse_categorical_crossentropy\",\n",
    "        metrics=[\"accuracy\"],\n",
    "    )\n",
    "    return model"
   ]
  },
  {
   "cell_type": "markdown",
   "id": "1fa6dc2a",
   "metadata": {},
   "source": [
    "## Model tuner"
   ]
  },
  {
   "cell_type": "raw",
   "id": "b35b2aeb",
   "metadata": {},
   "source": [
    "tuner = kt.Hyperband(build_model,objective='val_accuracy',max_epochs=30,hyperband_iterations=2, overwrite=False)"
   ]
  },
  {
   "cell_type": "markdown",
   "id": "12377946",
   "metadata": {},
   "source": [
    "https://keras.io/api/keras_tuner/tuners/random/"
   ]
  },
  {
   "cell_type": "raw",
   "id": "c9730df9",
   "metadata": {
    "scrolled": false
   },
   "source": [
    "tuner = kt.RandomSearch(\n",
    "    build_model,\n",
    "    objective='val_accuracy',\n",
    "    max_trials=10,\n",
    "    seed=None,\n",
    "    hyperparameters=None,\n",
    "    tune_new_entries=True,\n",
    "    allow_new_entries=True,\n",
    "    overwrite=True\n",
    ")\n"
   ]
  },
  {
   "cell_type": "code",
   "execution_count": 4,
   "id": "ec4abed3",
   "metadata": {
    "scrolled": false
   },
   "outputs": [],
   "source": [
    "tuner = kt.BayesianOptimization(\n",
    "    build_model,\n",
    "    objective=\"val_accuracy\",\n",
    "    max_trials=10,\n",
    "    seed=111,\n",
    "    alpha=0.0001,\n",
    "    beta=2.6,\n",
    "    num_initial_points=5,\n",
    "    hyperparameters=None,\n",
    "    tune_new_entries=True,\n",
    "    allow_new_entries=True,\n",
    "    overwrite=True,\n",
    ")"
   ]
  },
  {
   "cell_type": "code",
   "execution_count": 7,
   "id": "59f7f51b",
   "metadata": {
    "scrolled": false
   },
   "outputs": [],
   "source": [
    "tuner = CVBayesianTuner(\n",
    "    hypermodel=build_model,\n",
    "    n_split=4,\n",
    "    objective=\"val_accuracy\",\n",
    "    max_trials=10,\n",
    "    seed=111,\n",
    "    alpha=0.0001,\n",
    "    beta=2.6,\n",
    "    num_initial_points=5,\n",
    "    hyperparameters=None,\n",
    "    tune_new_entries=True,\n",
    "    allow_new_entries=True,\n",
    "    overwrite=True,\n",
    ")"
   ]
  },
  {
   "cell_type": "markdown",
   "id": "fb0ebef1",
   "metadata": {},
   "source": [
    "## Run"
   ]
  },
  {
   "cell_type": "code",
   "execution_count": 8,
   "id": "cbafc697",
   "metadata": {
    "scrolled": true
   },
   "outputs": [
    {
     "name": "stdout",
     "output_type": "stream",
     "text": [
      "Trial 10 Complete [00h 00m 25s]\n",
      "val_accuracy: 0.328125\n",
      "\n",
      "Best val_accuracy So Far: 0.328125\n",
      "Total elapsed time: 00h 04m 31s\n",
      "INFO:tensorflow:Oracle triggered exit\n"
     ]
    },
    {
     "name": "stderr",
     "output_type": "stream",
     "text": [
      "INFO:tensorflow:Oracle triggered exit\n"
     ]
    }
   ],
   "source": [
    "tuner.search(\n",
    "    train_ds,\n",
    "    validation_data=test_ds,\n",
    "    epochs=30,\n",
    "    callbacks=[tf.keras.callbacks.EarlyStopping(patience=1)],\n",
    ")"
   ]
  },
  {
   "cell_type": "markdown",
   "id": "bd8e956d",
   "metadata": {},
   "source": [
    "## Results"
   ]
  },
  {
   "cell_type": "code",
   "execution_count": 6,
   "id": "96694849",
   "metadata": {},
   "outputs": [],
   "source": [
    "best_model = tuner.get_best_models(1)[0]"
   ]
  },
  {
   "cell_type": "code",
   "execution_count": 7,
   "id": "18f92423",
   "metadata": {},
   "outputs": [],
   "source": [
    "best_hyperparameters = tuner.get_best_hyperparameters(1)[0]"
   ]
  },
  {
   "cell_type": "code",
   "execution_count": 8,
   "id": "675ac323",
   "metadata": {},
   "outputs": [
    {
     "name": "stdout",
     "output_type": "stream",
     "text": [
      "Model: \"model\"\n",
      "_________________________________________________________________\n",
      " Layer (type)                Output Shape              Param #   \n",
      "=================================================================\n",
      " input_1 (InputLayer)        [(None, 32, 32, 3)]       0         \n",
      "                                                                 \n",
      " conv2d (Conv2D)             (None, 32, 32, 64)        1792      \n",
      "                                                                 \n",
      " batch_normalization (BatchN  (None, 32, 32, 64)       256       \n",
      " ormalization)                                                   \n",
      "                                                                 \n",
      " re_lu (ReLU)                (None, 32, 32, 64)        0         \n",
      "                                                                 \n",
      " conv2d_1 (Conv2D)           (None, 32, 32, 64)        36928     \n",
      "                                                                 \n",
      " batch_normalization_1 (Batc  (None, 32, 32, 64)       256       \n",
      " hNormalization)                                                 \n",
      "                                                                 \n",
      " re_lu_1 (ReLU)              (None, 32, 32, 64)        0         \n",
      "                                                                 \n",
      " average_pooling2d (AverageP  (None, 16, 16, 64)       0         \n",
      " ooling2D)                                                       \n",
      "                                                                 \n",
      " global_average_pooling2d (G  (None, 64)               0         \n",
      " lobalAveragePooling2D)                                          \n",
      "                                                                 \n",
      " dense (Dense)               (None, 80)                5200      \n",
      "                                                                 \n",
      " dropout (Dropout)           (None, 80)                0         \n",
      "                                                                 \n",
      " dense_1 (Dense)             (None, 10)                810       \n",
      "                                                                 \n",
      "=================================================================\n",
      "Total params: 45,242\n",
      "Trainable params: 44,986\n",
      "Non-trainable params: 256\n",
      "_________________________________________________________________\n"
     ]
    }
   ],
   "source": [
    "best_model.summary()"
   ]
  },
  {
   "cell_type": "code",
   "execution_count": 9,
   "id": "00be1ffa",
   "metadata": {
    "scrolled": true
   },
   "outputs": [
    {
     "name": "stdout",
     "output_type": "stream",
     "text": [
      "Results summary\n",
      "Results in ./untitled_project\n",
      "Showing 10 best trials\n",
      "<keras_tuner.engine.objective.Objective object at 0x7efeefff5cd0>\n",
      "Trial summary\n",
      "Hyperparameters:\n",
      "conv_blocks: 4\n",
      "filters_0: 96\n",
      "filters_1: 128\n",
      "filters_2: 128\n",
      "pooling_2: max\n",
      "hidden_size: 80\n",
      "dropout: 0.30000000000000004\n",
      "learning_rate: 0.0001395510628578222\n",
      "filters_3: 64\n",
      "filters_4: 32\n",
      "pooling_4: avg\n",
      "pooling_3: avg\n",
      "Score: 0.2265625\n",
      "Trial summary\n",
      "Hyperparameters:\n",
      "conv_blocks: 4\n",
      "filters_0: 32\n",
      "filters_1: 32\n",
      "filters_2: 160\n",
      "pooling_2: max\n",
      "hidden_size: 70\n",
      "dropout: 0.30000000000000004\n",
      "learning_rate: 0.0001\n",
      "filters_3: 32\n",
      "filters_4: 32\n",
      "pooling_4: avg\n",
      "pooling_3: avg\n",
      "Score: 0.2109375\n",
      "Trial summary\n",
      "Hyperparameters:\n",
      "conv_blocks: 5\n",
      "filters_0: 128\n",
      "filters_1: 32\n",
      "filters_2: 96\n",
      "pooling_2: max\n",
      "hidden_size: 90\n",
      "dropout: 0.1\n",
      "learning_rate: 0.0026421929875193183\n",
      "filters_3: 32\n",
      "filters_4: 32\n",
      "pooling_4: avg\n",
      "Score: 0.1875\n",
      "Trial summary\n",
      "Hyperparameters:\n",
      "conv_blocks: 3\n",
      "filters_0: 128\n",
      "filters_1: 32\n",
      "filters_2: 128\n",
      "pooling_2: max\n",
      "hidden_size: 90\n",
      "dropout: 0.4\n",
      "learning_rate: 0.0001\n",
      "filters_3: 32\n",
      "filters_4: 32\n",
      "pooling_4: avg\n",
      "pooling_3: avg\n",
      "Score: 0.1796875\n",
      "Trial summary\n",
      "Hyperparameters:\n",
      "conv_blocks: 4\n",
      "filters_0: 128\n",
      "filters_1: 64\n",
      "filters_2: 64\n",
      "pooling_2: max\n",
      "hidden_size: 70\n",
      "dropout: 0.4\n",
      "learning_rate: 0.0001\n",
      "filters_3: 96\n",
      "filters_4: 32\n",
      "pooling_4: avg\n",
      "pooling_3: avg\n",
      "Score: 0.1796875\n",
      "Trial summary\n",
      "Hyperparameters:\n",
      "conv_blocks: 5\n",
      "filters_0: 160\n",
      "filters_1: 64\n",
      "filters_2: 160\n",
      "pooling_2: avg\n",
      "hidden_size: 100\n",
      "dropout: 0.5\n",
      "learning_rate: 0.0013968619216753887\n",
      "filters_3: 32\n",
      "filters_4: 256\n",
      "pooling_4: max\n",
      "Score: 0.1640625\n",
      "Trial summary\n",
      "Hyperparameters:\n",
      "conv_blocks: 4\n",
      "filters_0: 160\n",
      "filters_1: 224\n",
      "filters_2: 128\n",
      "pooling_2: max\n",
      "hidden_size: 40\n",
      "dropout: 0.30000000000000004\n",
      "learning_rate: 0.0006412147567706919\n",
      "filters_3: 32\n",
      "filters_4: 224\n",
      "pooling_4: max\n",
      "pooling_3: max\n",
      "Score: 0.1640625\n",
      "Trial summary\n",
      "Hyperparameters:\n",
      "conv_blocks: 4\n",
      "filters_0: 96\n",
      "filters_1: 256\n",
      "filters_2: 128\n",
      "pooling_2: max\n",
      "hidden_size: 70\n",
      "dropout: 0.30000000000000004\n",
      "learning_rate: 0.00014278209751273236\n",
      "filters_3: 32\n",
      "filters_4: 32\n",
      "pooling_4: avg\n",
      "pooling_3: avg\n",
      "Score: 0.1640625\n",
      "Trial summary\n",
      "Hyperparameters:\n",
      "conv_blocks: 4\n",
      "filters_0: 96\n",
      "filters_1: 96\n",
      "filters_2: 224\n",
      "pooling_2: max\n",
      "hidden_size: 100\n",
      "dropout: 0.1\n",
      "learning_rate: 0.0001314404392220745\n",
      "filters_3: 64\n",
      "filters_4: 32\n",
      "pooling_4: avg\n",
      "pooling_3: avg\n",
      "Score: 0.1640625\n",
      "Trial summary\n",
      "Hyperparameters:\n",
      "conv_blocks: 5\n",
      "filters_0: 64\n",
      "filters_1: 160\n",
      "filters_2: 128\n",
      "pooling_2: max\n",
      "hidden_size: 80\n",
      "dropout: 0.2\n",
      "learning_rate: 0.00017582232810420384\n",
      "filters_3: 160\n",
      "filters_4: 32\n",
      "pooling_4: max\n",
      "pooling_3: avg\n",
      "Score: 0.1328125\n"
     ]
    }
   ],
   "source": [
    "tuner.results_summary()"
   ]
  },
  {
   "cell_type": "code",
   "execution_count": 10,
   "id": "7b8a5e5a",
   "metadata": {},
   "outputs": [
    {
     "name": "stdout",
     "output_type": "stream",
     "text": [
      "Search space summary\n",
      "Default search space size: 12\n",
      "conv_blocks (Int)\n",
      "{'default': 3, 'conditions': [], 'min_value': 3, 'max_value': 5, 'step': 1, 'sampling': None}\n",
      "filters_0 (Int)\n",
      "{'default': None, 'conditions': [], 'min_value': 32, 'max_value': 256, 'step': 32, 'sampling': None}\n",
      "filters_1 (Int)\n",
      "{'default': None, 'conditions': [], 'min_value': 32, 'max_value': 256, 'step': 32, 'sampling': None}\n",
      "filters_2 (Int)\n",
      "{'default': None, 'conditions': [], 'min_value': 32, 'max_value': 256, 'step': 32, 'sampling': None}\n",
      "pooling_2 (Choice)\n",
      "{'default': 'avg', 'conditions': [], 'values': ['avg', 'max'], 'ordered': False}\n",
      "hidden_size (Int)\n",
      "{'default': 50, 'conditions': [], 'min_value': 30, 'max_value': 100, 'step': 10, 'sampling': None}\n",
      "dropout (Float)\n",
      "{'default': 0.5, 'conditions': [], 'min_value': 0.0, 'max_value': 0.5, 'step': 0.1, 'sampling': None}\n",
      "learning_rate (Float)\n",
      "{'default': 0.0001, 'conditions': [], 'min_value': 0.0001, 'max_value': 0.01, 'step': None, 'sampling': 'log'}\n",
      "filters_3 (Int)\n",
      "{'default': None, 'conditions': [], 'min_value': 32, 'max_value': 256, 'step': 32, 'sampling': None}\n",
      "filters_4 (Int)\n",
      "{'default': None, 'conditions': [], 'min_value': 32, 'max_value': 256, 'step': 32, 'sampling': None}\n",
      "pooling_4 (Choice)\n",
      "{'default': 'avg', 'conditions': [], 'values': ['avg', 'max'], 'ordered': False}\n",
      "pooling_3 (Choice)\n",
      "{'default': 'avg', 'conditions': [], 'values': ['avg', 'max'], 'ordered': False}\n"
     ]
    }
   ],
   "source": [
    "tuner.search_space_summary()"
   ]
  },
  {
   "cell_type": "markdown",
   "id": "dc73608f",
   "metadata": {},
   "source": [
    "# Overwriting the hyperparameters"
   ]
  },
  {
   "cell_type": "markdown",
   "id": "62abe72a",
   "metadata": {},
   "source": [
    "## Defining a new hyper-parameter space"
   ]
  },
  {
   "cell_type": "markdown",
   "id": "0f85700b",
   "metadata": {},
   "source": [
    "### Ex 1:"
   ]
  },
  {
   "cell_type": "code",
   "execution_count": 12,
   "id": "1cdbfc5e",
   "metadata": {},
   "outputs": [
    {
     "data": {
      "text/plain": [
       "{'conv_blocks': 6,\n",
       " 'hidden_size': 10,\n",
       " 'scope1/choice': 5,\n",
       " 'scope1/scope2/choice': 8,\n",
       " 'scope1/range': 0}"
      ]
     },
     "execution_count": 12,
     "metadata": {},
     "output_type": "execute_result"
    }
   ],
   "source": [
    "hp = kt.HyperParameters()\n",
    "hp.Int(\"conv_blocks\", 6, 8, default=6)\n",
    "hp.Int(\"hidden_size\", 10, 20, step=2, default=10)\n",
    "with hp.name_scope(\"scope1\"):\n",
    "    hp.Choice(\"choice\", [4, 5, 6], default=5)\n",
    "    with hp.name_scope(\"scope2\"):\n",
    "        hp.Choice(\"choice\", [7, 8, 9], default=8)\n",
    "    hp.Int(\"range\", min_value=0, max_value=10, step=1, default=0)\n",
    "\n",
    "hp.values"
   ]
  },
  {
   "cell_type": "markdown",
   "id": "1299cc75",
   "metadata": {},
   "source": [
    "### Ex 2:"
   ]
  },
  {
   "cell_type": "code",
   "execution_count": 13,
   "id": "1aa40e40",
   "metadata": {},
   "outputs": [
    {
     "data": {
      "text/plain": [
       "10"
      ]
     },
     "execution_count": 13,
     "metadata": {},
     "output_type": "execute_result"
    }
   ],
   "source": [
    "hp = kt.HyperParameters()\n",
    "hp.Int(\"conv_blocks\", 6, 8, default=6)\n",
    "hp.Int(\"hidden_size\", 10, 20, step=2, default=10)"
   ]
  },
  {
   "cell_type": "markdown",
   "id": "598fa410",
   "metadata": {},
   "source": [
    "### Ex 3:"
   ]
  },
  {
   "cell_type": "code",
   "execution_count": 14,
   "id": "196be535",
   "metadata": {},
   "outputs": [
    {
     "data": {
      "text/plain": [
       "10"
      ]
     },
     "execution_count": 14,
     "metadata": {},
     "output_type": "execute_result"
    }
   ],
   "source": [
    "hp = kt.HyperParameters()\n",
    "hp.Fixed(\"conv_blocks\", 6)\n",
    "hp.Fixed(\"hidden_size\", 10)"
   ]
  },
  {
   "cell_type": "markdown",
   "id": "4a962cf8",
   "metadata": {},
   "source": [
    "## Running the tuner with a new set of hyperparameters"
   ]
  },
  {
   "cell_type": "markdown",
   "id": "f0141dd1",
   "metadata": {},
   "source": [
    "https://keras.io/api/keras_tuner/hyperparameters/#hyperparameters-class"
   ]
  },
  {
   "cell_type": "code",
   "execution_count": 31,
   "id": "3ddae9e4",
   "metadata": {
    "scrolled": true
   },
   "outputs": [],
   "source": [
    "tuner = kt.RandomSearch(\n",
    "    build_model,\n",
    "    objective=\"val_accuracy\",\n",
    "    max_trials=5,\n",
    "    seed=None,\n",
    "    hyperparameters=hp,\n",
    "    tune_new_entries=False,  # set to false to fix other values to their default\n",
    "    allow_new_entries=True,  # always set to True\n",
    "    overwrite=True,\n",
    ")"
   ]
  },
  {
   "cell_type": "code",
   "execution_count": 32,
   "id": "b7ba7226",
   "metadata": {},
   "outputs": [
    {
     "name": "stdout",
     "output_type": "stream",
     "text": [
      "Trial 1 Complete [00h 00m 07s]\n",
      "val_accuracy: 0.1599999964237213\n",
      "\n",
      "Best val_accuracy So Far: 0.1599999964237213\n",
      "Total elapsed time: 00h 00m 07s\n",
      "INFO:tensorflow:Oracle triggered exit\n"
     ]
    },
    {
     "name": "stderr",
     "output_type": "stream",
     "text": [
      "INFO:tensorflow:Oracle triggered exit\n"
     ]
    }
   ],
   "source": [
    "tuner.search(\n",
    "    train_ds,\n",
    "    validation_data=test_ds,\n",
    "    epochs=5,\n",
    "    callbacks=[tf.keras.callbacks.EarlyStopping(patience=1)],\n",
    ")"
   ]
  },
  {
   "cell_type": "markdown",
   "id": "bbdf956a",
   "metadata": {},
   "source": [
    "tune_new_entries: if False, values not specified are set to default"
   ]
  },
  {
   "cell_type": "code",
   "execution_count": 33,
   "id": "5f32f87e",
   "metadata": {},
   "outputs": [
    {
     "name": "stdout",
     "output_type": "stream",
     "text": [
      "Results summary\n",
      "Results in ./untitled_project\n",
      "Showing 10 best trials\n",
      "<keras_tuner.engine.objective.Objective object at 0x7fb33812ea60>\n",
      "Trial summary\n",
      "Hyperparameters:\n",
      "conv_blocks: 6\n",
      "hidden_size: 10\n",
      "filters_0: 32\n",
      "filters_1: 32\n",
      "filters_2: 32\n",
      "filters_3: 32\n",
      "filters_4: 32\n",
      "filters_5: 32\n",
      "pooling_5: avg\n",
      "dropout: 0.5\n",
      "learning_rate: 0.0001\n",
      "Score: 0.1599999964237213\n"
     ]
    }
   ],
   "source": [
    "tuner.results_summary()"
   ]
  },
  {
   "cell_type": "markdown",
   "id": "e4a89cd5",
   "metadata": {},
   "source": [
    "# Using the model loader to create a specific model"
   ]
  },
  {
   "cell_type": "markdown",
   "id": "50d94b32",
   "metadata": {},
   "source": [
    "## Getting the default model"
   ]
  },
  {
   "cell_type": "code",
   "execution_count": 17,
   "id": "89e35435",
   "metadata": {},
   "outputs": [],
   "source": [
    "hp = kt.HyperParameters()\n",
    "model = build_model(hp)"
   ]
  },
  {
   "cell_type": "code",
   "execution_count": 18,
   "id": "6394c0cf",
   "metadata": {
    "scrolled": true
   },
   "outputs": [
    {
     "name": "stdout",
     "output_type": "stream",
     "text": [
      "Model: \"model_1\"\n",
      "_________________________________________________________________\n",
      " Layer (type)                Output Shape              Param #   \n",
      "=================================================================\n",
      " input_2 (InputLayer)        [(None, 32, 32, 3)]       0         \n",
      "                                                                 \n",
      " conv2d (Conv2D)             (None, 32, 32, 32)        896       \n",
      "                                                                 \n",
      " batch_normalization (BatchN  (None, 32, 32, 32)       128       \n",
      " ormalization)                                                   \n",
      "                                                                 \n",
      " re_lu (ReLU)                (None, 32, 32, 32)        0         \n",
      "                                                                 \n",
      " conv2d_1 (Conv2D)           (None, 32, 32, 32)        9248      \n",
      "                                                                 \n",
      " batch_normalization_1 (Batc  (None, 32, 32, 32)       128       \n",
      " hNormalization)                                                 \n",
      "                                                                 \n",
      " re_lu_1 (ReLU)              (None, 32, 32, 32)        0         \n",
      "                                                                 \n",
      " average_pooling2d (AverageP  (None, 16, 16, 32)       0         \n",
      " ooling2D)                                                       \n",
      "                                                                 \n",
      " global_average_pooling2d (G  (None, 32)               0         \n",
      " lobalAveragePooling2D)                                          \n",
      "                                                                 \n",
      " dense_2 (Dense)             (None, 50)                1650      \n",
      "                                                                 \n",
      " dropout (Dropout)           (None, 50)                0         \n",
      "                                                                 \n",
      " dense_3 (Dense)             (None, 10)                510       \n",
      "                                                                 \n",
      "=================================================================\n",
      "Total params: 12,560\n",
      "Trainable params: 12,432\n",
      "Non-trainable params: 128\n",
      "_________________________________________________________________\n"
     ]
    }
   ],
   "source": [
    "model.summary()"
   ]
  },
  {
   "cell_type": "markdown",
   "id": "9cb2a47d",
   "metadata": {},
   "source": [
    "## Specifing some attributes"
   ]
  },
  {
   "cell_type": "code",
   "execution_count": 48,
   "id": "ad85a8f6",
   "metadata": {},
   "outputs": [],
   "source": [
    "hp = kt.HyperParameters()\n",
    "hp.Fixed(\"conv_blocks\", 6)\n",
    "model = build_model(hp)"
   ]
  },
  {
   "cell_type": "markdown",
   "id": "e48456ac",
   "metadata": {},
   "source": [
    "# Cross validation with several models"
   ]
  },
  {
   "cell_type": "code",
   "execution_count": 43,
   "id": "2f837dbb",
   "metadata": {},
   "outputs": [],
   "source": [
    "def build_model_2(hp):\n",
    "    inputs = tf.keras.Input(shape=(32, 32, 3))\n",
    "    x = inputs\n",
    "    layer1 = tf.keras.layers.Dense(\n",
    "        hp.Int(\"dense1\", 5, 25, step=5, default=21), activation=\"relu\"\n",
    "    )(x)\n",
    "    layer2 = tf.keras.layers.Dense(\n",
    "        hp.Int(\"dense2\", 5, 25, step=5, default=21), activation=\"relu\"\n",
    "    )(layer1)\n",
    "    layer3 = tf.keras.layers.Flatten()(layer2)\n",
    "    outputs = tf.keras.layers.Dense(10, activation=\"softmax\")(layer3)\n",
    "    model = tf.keras.Model(inputs, outputs)\n",
    "    model.compile(\n",
    "        optimizer=tf.keras.optimizers.Adam(\n",
    "            hp.Float(\"learning_rate\", 1e-4, 1e-2, sampling=\"log\")\n",
    "        ),\n",
    "        loss=\"sparse_categorical_crossentropy\",\n",
    "        metrics=[\"accuracy\"],\n",
    "    )\n",
    "    return model"
   ]
  },
  {
   "cell_type": "code",
   "execution_count": 44,
   "id": "b35c1d04",
   "metadata": {},
   "outputs": [],
   "source": [
    "def build_model_1(hp):\n",
    "    inputs = tf.keras.Input(shape=(32, 32, 3))\n",
    "    x = inputs\n",
    "    layer1 = tf.keras.layers.Dense(\n",
    "        hp.Int(\"dense\", 32, 256, step=32, default=100), activation=\"relu\"\n",
    "    )(x)\n",
    "    layer2 = tf.keras.layers.Flatten()(layer1)\n",
    "    outputs = tf.keras.layers.Dense(10, activation=\"softmax\")(layer2)\n",
    "    model = tf.keras.Model(inputs, outputs)\n",
    "    model.compile(\n",
    "        optimizer=tf.keras.optimizers.Adam(\n",
    "            hp.Float(\"learning_rate\", 1e-4, 1e-2, sampling=\"log\")\n",
    "        ),\n",
    "        loss=\"sparse_categorical_crossentropy\",\n",
    "        metrics=[\"accuracy\"],\n",
    "    )\n",
    "    return model"
   ]
  },
  {
   "cell_type": "code",
   "execution_count": 45,
   "id": "dadc67a1",
   "metadata": {},
   "outputs": [],
   "source": [
    "def build_model_total(hp):\n",
    "    model_type = hp.Choice(\"model_type\", [\"type1\", \"type2\"], default=\"type1\")\n",
    "    if model_type == \"type1\":\n",
    "        with hp.conditional_scope(\"model_type\", \"type1\"):\n",
    "            model = build_model_1(hp)\n",
    "    if model_type == \"type2\":\n",
    "        with hp.conditional_scope(\"model_type\", \"type2\"):\n",
    "            model = build_model_2(hp)\n",
    "    return model"
   ]
  },
  {
   "cell_type": "code",
   "execution_count": 46,
   "id": "9a45cd4e",
   "metadata": {
    "scrolled": false
   },
   "outputs": [],
   "source": [
    "tuner = kt.RandomSearch(\n",
    "    build_model_total,\n",
    "    objective=\"val_accuracy\",\n",
    "    max_trials=5,\n",
    "    seed=None,\n",
    "    tune_new_entries=True,\n",
    "    allow_new_entries=True,  # always set to True\n",
    "    overwrite=True,\n",
    ")"
   ]
  },
  {
   "cell_type": "code",
   "execution_count": 47,
   "id": "583d9fe8",
   "metadata": {},
   "outputs": [
    {
     "name": "stdout",
     "output_type": "stream",
     "text": [
      "Trial 5 Complete [00h 00m 01s]\n",
      "val_accuracy: 0.28999999165534973\n",
      "\n",
      "Best val_accuracy So Far: 0.3400000035762787\n",
      "Total elapsed time: 00h 00m 12s\n",
      "INFO:tensorflow:Oracle triggered exit\n"
     ]
    },
    {
     "name": "stderr",
     "output_type": "stream",
     "text": [
      "INFO:tensorflow:Oracle triggered exit\n"
     ]
    }
   ],
   "source": [
    "tuner.search(\n",
    "    train_ds,\n",
    "    validation_data=test_ds,\n",
    "    epochs=3,\n",
    "    callbacks=[tf.keras.callbacks.EarlyStopping(patience=1)],\n",
    ")"
   ]
  },
  {
   "cell_type": "code",
   "execution_count": 48,
   "id": "e57bc611",
   "metadata": {},
   "outputs": [
    {
     "name": "stdout",
     "output_type": "stream",
     "text": [
      "Results summary\n",
      "Results in ./untitled_project\n",
      "Showing 10 best trials\n",
      "<keras_tuner.engine.objective.Objective object at 0x7fb8b81f45b0>\n",
      "Trial summary\n",
      "Hyperparameters:\n",
      "model_type: type2\n",
      "dense1: 5\n",
      "dense2: 20\n",
      "learning_rate: 0.00028884164416677734\n",
      "Score: 0.3400000035762787\n",
      "Trial summary\n",
      "Hyperparameters:\n",
      "model_type: type2\n",
      "dense1: 21\n",
      "dense2: 21\n",
      "learning_rate: 0.0001\n",
      "Score: 0.3100000023841858\n",
      "Trial summary\n",
      "Hyperparameters:\n",
      "model_type: type1\n",
      "dense: 128\n",
      "learning_rate: 0.0018977027841734885\n",
      "Score: 0.3100000023841858\n",
      "Trial summary\n",
      "Hyperparameters:\n",
      "model_type: type1\n",
      "dense: 64\n",
      "learning_rate: 0.0011843198685147023\n",
      "Score: 0.3100000023841858\n",
      "Trial summary\n",
      "Hyperparameters:\n",
      "model_type: type1\n",
      "dense: 32\n",
      "learning_rate: 0.0013733775147488259\n",
      "Score: 0.28999999165534973\n"
     ]
    }
   ],
   "source": [
    "tuner.results_summary()"
   ]
  },
  {
   "cell_type": "markdown",
   "id": "fc913a66",
   "metadata": {},
   "source": [
    "# Adding tensorboard"
   ]
  },
  {
   "cell_type": "markdown",
   "id": "5606f353",
   "metadata": {},
   "source": [
    "TODO"
   ]
  },
  {
   "cell_type": "markdown",
   "id": "21b555bd",
   "metadata": {},
   "source": [
    "# Bayesian optimisation"
   ]
  },
  {
   "cell_type": "markdown",
   "id": "f2332261",
   "metadata": {},
   "source": [
    "TODO"
   ]
  },
  {
   "cell_type": "markdown",
   "id": "0b84beb6",
   "metadata": {},
   "source": [
    "# Subclass to use cross validation"
   ]
  },
  {
   "cell_type": "markdown",
   "id": "cef49bb7",
   "metadata": {},
   "source": [
    "TODO"
   ]
  },
  {
   "cell_type": "code",
   "execution_count": 6,
   "id": "ec2974cc",
   "metadata": {},
   "outputs": [],
   "source": [
    "class CVBayesianTuner(kt.BayesianOptimization):\n",
    "    \"\"\"This tuner takes from the bayesian optimisation, but adds cross validation\"\"\"\n",
    "\n",
    "    def __init__(self, *args, n_split=5, **kwargs):\n",
    "        self.n_split = n_split\n",
    "        super(CVBayesianTuner, self).__init__(*args, **kwargs)"
   ]
  },
  {
   "cell_type": "raw",
   "id": "552574b6",
   "metadata": {},
   "source": [
    "def generalisation_estimator(n_split=4):\n",
    "    evaluations = []\n",
    "    history = []\n",
    "    for train, valid in KFold(n_split).split(training):\n",
    "\n",
    "        train, valid_e = next(KFold(4).split(train))\n",
    "        train_feature = im[train, :]\n",
    "        train_label = label[train,0]\n",
    "        valid_e_feature = im[valid_e, :]\n",
    "        valid_e_label = label[valid_e,0]\n",
    "        valid_feature = im[valid, :]\n",
    "        valid_label = label[valid, :]\n",
    "\n",
    "        model = model1()\n",
    "        model.compile(\n",
    "        optimizer=keras.optimizers.Adam(learning_rate=0.0001),\n",
    "        loss=keras.losses.MeanSquaredError(name=\"mean_squared_error\"),\n",
    "        metrics=[tf.keras.metrics.mean_absolute_error])\n",
    "\n",
    "        history.append(model.fit(\n",
    "        train_feature,\n",
    "        train_label,\n",
    "        batch_size=5,\n",
    "        epochs=60,\n",
    "        validation_data = (valid_e_feature, valid_e_label),\n",
    "        ))\n",
    "        evaluations.append(model.evaluate(valid_feature, valid_label))\n",
    "        \n",
    "    return model, history, evaluations"
   ]
  },
  {
   "cell_type": "raw",
   "id": "38b2fcfa",
   "metadata": {},
   "source": [
    "from sklearn import model_selection\n",
    "\n",
    "class CVBayesianTuner(kt.Tuner):\n",
    "    def run_trial(self, trial, x, y, batch_size=32, epochs=1):\n",
    "        cv = model_selection.KFold(5) # change this?\n",
    "        val_losses = []\n",
    "        for train_indices, test_indices in cv.split(x):\n",
    "            x_train, x_test = x[train_indices], x[test_indices]\n",
    "            y_train, y_test = y[train_indices], y[test_indices]\n",
    "            model = self.hypermodel.build(trial.hyperparameters)\n",
    "            model.fit(x_train, y_train, batch_size=batch_size, epochs=epochs) # early stopping\n",
    "            val_losses.append(model.evaluate(x_test, y_test))\n",
    "            self.oracle.update_trial(trial.trial_id, {'val_loss': np.mean(val_losses)})\n",
    "            self.save_model(trial.trial_id, model)\n",
    "            \n",
    "            \n",
    "            \n"
   ]
  },
  {
   "cell_type": "code",
   "execution_count": null,
   "id": "cd06bb09",
   "metadata": {},
   "outputs": [],
   "source": [
    "def run_trial(self, trial, *args, **kwargs):\n",
    "    hp = trial.hyperparameters\n",
    "    model = self.hypermodel.build(hp)\n",
    "    return self.hypermodel.fit(hp, model, *args, **kwargs)"
   ]
  },
  {
   "cell_type": "markdown",
   "id": "a1d13796",
   "metadata": {},
   "source": [
    "# Brouillon"
   ]
  }
 ],
 "metadata": {
  "kernelspec": {
   "display_name": "Python 3 (ipykernel)",
   "language": "python",
   "name": "python3"
  },
  "language_info": {
   "codemirror_mode": {
    "name": "ipython",
    "version": 3
   },
   "file_extension": ".py",
   "mimetype": "text/x-python",
   "name": "python",
   "nbconvert_exporter": "python",
   "pygments_lexer": "ipython3",
   "version": "3.8.10"
  }
 },
 "nbformat": 4,
 "nbformat_minor": 5
}

{
 "cells": [
  {
   "cell_type": "markdown",
   "id": "8d0a1043",
   "metadata": {},
   "source": [
    "# Stats"
   ]
  },
  {
   "cell_type": "markdown",
   "id": "8568ae76",
   "metadata": {},
   "source": [
    "## Setup"
   ]
  },
  {
   "cell_type": "code",
   "execution_count": 1,
   "id": "b023d024",
   "metadata": {},
   "outputs": [
    {
     "data": {
      "application/javascript": [
       "$('<div id=\"toc\"></div>').css({position: 'fixed', top: '120px', left: 0}).appendTo(document.body);\n",
       "$.getScript('https://kmahelona.github.io/ipython_notebook_goodies/ipython_notebook_toc.js');\n"
      ],
      "text/plain": [
       "<IPython.core.display.Javascript object>"
      ]
     },
     "metadata": {},
     "output_type": "display_data"
    }
   ],
   "source": [
    "%%javascript\n",
    "$('<div id=\"toc\"></div>').css({position: 'fixed', top: '120px', left: 0}).appendTo(document.body);\n",
    "$.getScript('https://kmahelona.github.io/ipython_notebook_goodies/ipython_notebook_toc.js');"
   ]
  },
  {
   "cell_type": "markdown",
   "id": "c47e2905",
   "metadata": {},
   "source": [
    "### Imports"
   ]
  },
  {
   "cell_type": "code",
   "execution_count": 2,
   "id": "8ce21bf6",
   "metadata": {},
   "outputs": [
    {
     "name": "stderr",
     "output_type": "stream",
     "text": [
      "2022-06-07 15:58:21.692062: W tensorflow/stream_executor/platform/default/dso_loader.cc:64] Could not load dynamic library 'libcudart.so.11.0'; dlerror: libcudart.so.11.0: cannot open shared object file: No such file or directory\n",
      "2022-06-07 15:58:21.692078: I tensorflow/stream_executor/cuda/cudart_stub.cc:29] Ignore above cudart dlerror if you do not have a GPU set up on your machine.\n",
      "/home/ipausers/kahane/Wks/AMFtrack/amftrack/util/dbx.py:1: TqdmExperimentalWarning: Using `tqdm.autonotebook.tqdm` in notebook mode. Use `tqdm.tqdm` instead to force console mode (e.g. in jupyter console)\n",
      "  from tqdm.autonotebook import tqdm\n",
      "2022-06-07 15:58:29.800314: W tensorflow/stream_executor/platform/default/dso_loader.cc:64] Could not load dynamic library 'libcuda.so.1'; dlerror: libcuda.so.1: cannot open shared object file: No such file or directory; LD_LIBRARY_PATH: /home/ipausers/kahane/.local/lib/python3.8/site-packages/cv2/../../lib64:\n",
      "2022-06-07 15:58:29.800336: W tensorflow/stream_executor/cuda/cuda_driver.cc:269] failed call to cuInit: UNKNOWN ERROR (303)\n",
      "2022-06-07 15:58:29.800353: I tensorflow/stream_executor/cuda/cuda_diagnostics.cc:156] kernel driver does not appear to be running on this host (morricone.ipa.amolf.nl): /proc/driver/nvidia/version does not exist\n",
      "2022-06-07 15:58:29.800532: I tensorflow/core/platform/cpu_feature_guard.cc:151] This TensorFlow binary is optimized with oneAPI Deep Neural Network Library (oneDNN) to use the following CPU instructions in performance-critical operations:  AVX2 FMA\n",
      "To enable them in other operations, rebuild TensorFlow with the appropriate compiler flags.\n"
     ]
    }
   ],
   "source": [
    "import os\n",
    "import matplotlib.pyplot as plt\n",
    "import random\n",
    "import imageio\n",
    "import numpy as np\n",
    "import tensorflow as tf\n",
    "from tensorflow import keras\n",
    "from tensorflow.keras import regularizers\n",
    "from sklearn.model_selection import KFold\n",
    "\n",
    "from amftrack.util.sys import storage_path\n",
    "from amftrack.ml.width.models import first_model\n",
    "from amftrack.ml.width.data_augmentation import data_augmentation"
   ]
  },
  {
   "cell_type": "code",
   "execution_count": 15,
   "id": "7e5d9e3c",
   "metadata": {},
   "outputs": [],
   "source": [
    "path = os.path.join(storage_path, \"test_precise_1\")\n",
    "im_path = os.path.join(path, \"slices.png\")\n",
    "label_path = os.path.join(path, \"labels.npy\")"
   ]
  },
  {
   "cell_type": "code",
   "execution_count": 16,
   "id": "cab14b2e",
   "metadata": {},
   "outputs": [
    {
     "name": "stdout",
     "output_type": "stream",
     "text": [
      "(224, 120)\n"
     ]
    }
   ],
   "source": [
    "im = imageio.imread(im_path)\n",
    "print(im.shape)"
   ]
  },
  {
   "cell_type": "code",
   "execution_count": 17,
   "id": "8c26d17c",
   "metadata": {},
   "outputs": [
    {
     "name": "stdout",
     "output_type": "stream",
     "text": [
      "(224,)\n"
     ]
    }
   ],
   "source": [
    "with open(label_path, 'rb') as f:\n",
    "    label = np.load(f)\n",
    "print(label.shape)"
   ]
  },
  {
   "cell_type": "code",
   "execution_count": 18,
   "id": "c568feb6",
   "metadata": {},
   "outputs": [],
   "source": [
    "label = np. expand_dims(label, axis =1)"
   ]
  },
  {
   "cell_type": "code",
   "execution_count": 19,
   "id": "9d530f01",
   "metadata": {},
   "outputs": [
    {
     "data": {
      "text/plain": [
       "(224, 1)"
      ]
     },
     "execution_count": 19,
     "metadata": {},
     "output_type": "execute_result"
    }
   ],
   "source": [
    "label.shape"
   ]
  },
  {
   "cell_type": "markdown",
   "id": "b26c2475",
   "metadata": {},
   "source": [
    "## Visualisation"
   ]
  },
  {
   "cell_type": "markdown",
   "id": "0732b011",
   "metadata": {},
   "source": [
    "### Big edge"
   ]
  },
  {
   "cell_type": "code",
   "execution_count": 20,
   "id": "5a8a0447",
   "metadata": {},
   "outputs": [],
   "source": [
    "i = 68"
   ]
  },
  {
   "cell_type": "code",
   "execution_count": 21,
   "id": "197fd5be",
   "metadata": {
    "scrolled": true
   },
   "outputs": [
    {
     "data": {
      "text/plain": [
       "[<matplotlib.lines.Line2D at 0x7f2141bae250>]"
      ]
     },
     "execution_count": 21,
     "metadata": {},
     "output_type": "execute_result"
    },
    {
     "data": {
      "image/png": "[encoded data removed]",
      "text/plain": [
       "<Figure size 432x288 with 1 Axes>"
      ]
     },
     "metadata": {
      "needs_background": "light"
     },
     "output_type": "display_data"
    }
   ],
   "source": [
    "plt.plot(im[i,:])"
   ]
  },
  {
   "cell_type": "code",
   "execution_count": 22,
   "id": "a27e66af",
   "metadata": {},
   "outputs": [
    {
     "data": {
      "text/plain": [
       "array([12.41270832])"
      ]
     },
     "execution_count": 22,
     "metadata": {},
     "output_type": "execute_result"
    }
   ],
   "source": [
    "label[i,:]"
   ]
  },
  {
   "cell_type": "markdown",
   "id": "24e5acb2",
   "metadata": {},
   "source": [
    "### Medium edge"
   ]
  },
  {
   "cell_type": "code",
   "execution_count": 23,
   "id": "58b3fb4b",
   "metadata": {},
   "outputs": [],
   "source": [
    "i = 12"
   ]
  },
  {
   "cell_type": "code",
   "execution_count": 24,
   "id": "50d7672a",
   "metadata": {
    "scrolled": true
   },
   "outputs": [
    {
     "data": {
      "text/plain": [
       "[<matplotlib.lines.Line2D at 0x7f2141b309a0>]"
      ]
     },
     "execution_count": 24,
     "metadata": {},
     "output_type": "execute_result"
    },
    {
     "data": {
      "image/png": "[encoded data removed]",
      "text/plain": [
       "<Figure size 432x288 with 1 Axes>"
      ]
     },
     "metadata": {
      "needs_background": "light"
     },
     "output_type": "display_data"
    }
   ],
   "source": [
    "plt.plot(im[i,:])"
   ]
  },
  {
   "cell_type": "code",
   "execution_count": 25,
   "id": "16f37136",
   "metadata": {},
   "outputs": [
    {
     "data": {
      "text/plain": [
       "array([5.69865969])"
      ]
     },
     "execution_count": 25,
     "metadata": {},
     "output_type": "execute_result"
    }
   ],
   "source": [
    "label[i,:]"
   ]
  },
  {
   "cell_type": "markdown",
   "id": "f7f5a0b2",
   "metadata": {},
   "source": [
    "### Small edge"
   ]
  },
  {
   "cell_type": "code",
   "execution_count": 26,
   "id": "3af0edfc",
   "metadata": {},
   "outputs": [],
   "source": [
    "i = 200"
   ]
  },
  {
   "cell_type": "code",
   "execution_count": 27,
   "id": "b56cd4f3",
   "metadata": {
    "scrolled": true
   },
   "outputs": [
    {
     "data": {
      "text/plain": [
       "[<matplotlib.lines.Line2D at 0x7f2141b0e520>]"
      ]
     },
     "execution_count": 27,
     "metadata": {},
     "output_type": "execute_result"
    },
    {
     "data": {
      "image/png": "[encoded data removed]",
      "text/plain": [
       "<Figure size 432x288 with 1 Axes>"
      ]
     },
     "metadata": {
      "needs_background": "light"
     },
     "output_type": "display_data"
    }
   ],
   "source": [
    "plt.plot(im[i,:])"
   ]
  },
  {
   "cell_type": "code",
   "execution_count": 28,
   "id": "f3ecb435",
   "metadata": {},
   "outputs": [
    {
     "data": {
      "text/plain": [
       "array([3.34934415])"
      ]
     },
     "execution_count": 28,
     "metadata": {},
     "output_type": "execute_result"
    }
   ],
   "source": [
    "label[i,:]"
   ]
  },
  {
   "cell_type": "markdown",
   "id": "5b4d5dd1",
   "metadata": {},
   "source": [
    "## Data preparation"
   ]
  },
  {
   "cell_type": "code",
   "execution_count": 29,
   "id": "f63dcead",
   "metadata": {},
   "outputs": [],
   "source": [
    "np.random.seed(11)"
   ]
  },
  {
   "cell_type": "code",
   "execution_count": 30,
   "id": "e406ed5e",
   "metadata": {
    "scrolled": true
   },
   "outputs": [],
   "source": [
    "p = np.random.permutation(224)"
   ]
  },
  {
   "cell_type": "code",
   "execution_count": 31,
   "id": "0f67c50d",
   "metadata": {},
   "outputs": [
    {
     "name": "stdout",
     "output_type": "stream",
     "text": [
      "150\n",
      "74\n"
     ]
    }
   ],
   "source": [
    "training = p[:150]\n",
    "test = p[150:]\n",
    "print(len(training))\n",
    "print(len(test))"
   ]
  },
  {
   "cell_type": "code",
   "execution_count": 32,
   "id": "f2101f09",
   "metadata": {},
   "outputs": [],
   "source": [
    "train_feature = im[training, :]\n",
    "train_label = label[training,0]\n",
    "test_feature = im[test, :]\n",
    "test_label = label[test, :]"
   ]
  },
  {
   "cell_type": "code",
   "execution_count": 33,
   "id": "aeb87d01",
   "metadata": {},
   "outputs": [
    {
     "data": {
      "text/plain": [
       "(74, 120)"
      ]
     },
     "execution_count": 33,
     "metadata": {},
     "output_type": "execute_result"
    }
   ],
   "source": [
    "test_feature.shape"
   ]
  },
  {
   "cell_type": "markdown",
   "id": "202a5180",
   "metadata": {},
   "source": [
    "## Baseline"
   ]
  },
  {
   "cell_type": "markdown",
   "id": "c0efbcb7",
   "metadata": {},
   "source": [
    "### One shot"
   ]
  },
  {
   "cell_type": "code",
   "execution_count": 34,
   "id": "528e0ee5",
   "metadata": {},
   "outputs": [],
   "source": [
    "mean = np.mean(train_label)\n",
    "final_score = np.mean(np.abs(test_label-mean))"
   ]
  },
  {
   "cell_type": "code",
   "execution_count": 35,
   "id": "b23584c8",
   "metadata": {
    "scrolled": true
   },
   "outputs": [
    {
     "data": {
      "text/plain": [
       "1.5074212494126962"
      ]
     },
     "execution_count": 35,
     "metadata": {},
     "output_type": "execute_result"
    }
   ],
   "source": [
    "final_score"
   ]
  },
  {
   "cell_type": "markdown",
   "id": "785274d7",
   "metadata": {},
   "source": [
    "### Cross validation"
   ]
  },
  {
   "cell_type": "code",
   "execution_count": 49,
   "id": "ad1b8a05",
   "metadata": {
    "scrolled": true
   },
   "outputs": [
    {
     "name": "stdout",
     "output_type": "stream",
     "text": [
      "2.082754930457193\n",
      "1.1375843651974278\n",
      "1.0413637545111258\n",
      "1.1992337417084913\n"
     ]
    }
   ],
   "source": [
    "for train, valid in KFold(4).split(p):\n",
    "    mean = np.mean(label[train,:])\n",
    "    score = np.mean(np.abs(label[valid,:]-mean))\n",
    "    print(score)"
   ]
  },
  {
   "cell_type": "code",
   "execution_count": 95,
   "id": "889c7c05",
   "metadata": {},
   "outputs": [
    {
     "data": {
      "text/plain": [
       "1.3652341979685596"
      ]
     },
     "execution_count": 95,
     "metadata": {},
     "output_type": "execute_result"
    }
   ],
   "source": [
    "np.mean([2.082754930457193,1.1375843651974278,1.0413637545111258,1.1992337417084913])"
   ]
  },
  {
   "cell_type": "markdown",
   "id": "fce9ef4b",
   "metadata": {},
   "source": [
    "## Small model"
   ]
  },
  {
   "cell_type": "code",
   "execution_count": 107,
   "id": "c7612211",
   "metadata": {},
   "outputs": [],
   "source": [
    "def model1():\n",
    "    input = keras.Input(shape=(120, 1))\n",
    "    scaling = keras.layers.Rescaling(1.0 / 128)(input)\n",
    "    conv1 = keras.layers.Conv1D(\n",
    "        filters=300, kernel_size=12, strides=3, activation=\"relu\", name=\"conv1\", kernel_regularizer=regularizers.L1L2(l1=1e-5, l2=1e-4),\n",
    "    )(scaling)\n",
    "    conv2 = keras.layers.Conv1D(\n",
    "        filters=320,\n",
    "        kernel_size=8,\n",
    "        strides=3,\n",
    "        activation=\"relu\",\n",
    "        name=\"conv2\",\n",
    "        kernel_regularizer=regularizers.L1L2(l1=1e-5, l2=1e-4)\n",
    "    )(conv1)\n",
    "    flatten = tf.keras.layers.Flatten()(conv2)\n",
    "    dense1 = keras.layers.Dense(340, activation=\"relu\", name=\"dense1\", kernel_regularizer=regularizers.L1L2(l1=1e-5, l2=1e-4))(flatten)\n",
    "    dense2 = keras.layers.Dense(220, activation=\"relu\", name=\"dense2\", kernel_regularizer=regularizers.L1L2(l1=1e-5, l2=1e-4))(dense1)\n",
    "    output = keras.layers.Dense(1, activation=None, kernel_regularizer=regularizers.L1L2(l1=1e-5, l2=1e-4))(dense2)\n",
    "    model = keras.Model(inputs=input, outputs=output)\n",
    "    return model"
   ]
  },
  {
   "cell_type": "markdown",
   "id": "7034b5d4",
   "metadata": {},
   "source": [
    "## Single cross validation"
   ]
  },
  {
   "cell_type": "markdown",
   "id": "0f900ddb",
   "metadata": {},
   "source": [
    "Step 1: we determine the model structure and hyper parameters using cross validation.\n",
    "The cross validation is done on the training set. In each cross validation step, one step is retained for model evaluation and one set for early stopping evaluation."
   ]
  },
  {
   "cell_type": "markdown",
   "id": "6d6b447c",
   "metadata": {},
   "source": [
    "## Step 1: Evaluate generalisation"
   ]
  },
  {
   "cell_type": "code",
   "execution_count": 108,
   "id": "e0ab4cc9",
   "metadata": {
    "scrolled": true
   },
   "outputs": [],
   "source": [
    "def generalisation_estimator(n_split=4):\n",
    "    evaluations = []\n",
    "    history = []\n",
    "    for train, valid in KFold(n_split).split(training):\n",
    "\n",
    "        train, valid_e = next(KFold(4).split(train))\n",
    "        train_feature = im[train, :]\n",
    "        train_label = label[train,0]\n",
    "        valid_e_feature = im[valid_e, :]\n",
    "        valid_e_label = label[valid_e,0]\n",
    "        valid_feature = im[valid, :]\n",
    "        valid_label = label[valid, :]\n",
    "\n",
    "        model = model1()\n",
    "        model.compile(\n",
    "        optimizer=keras.optimizers.Adam(learning_rate=0.0001),\n",
    "        loss=keras.losses.MeanSquaredError(name=\"mean_squared_error\"),\n",
    "        metrics=[tf.keras.metrics.mean_absolute_error])\n",
    "\n",
    "        history.append(model.fit(\n",
    "        train_feature,\n",
    "        train_label,\n",
    "        batch_size=5,\n",
    "        epochs=60,\n",
    "        validation_data = (valid_e_feature, valid_e_label),\n",
    "        ))\n",
    "        evaluations.append(model.evaluate(valid_feature, valid_label))\n",
    "        \n",
    "    return model, history, evaluations"
   ]
  },
  {
   "cell_type": "code",
   "execution_count": 109,
   "id": "fd19cd1b",
   "metadata": {
    "scrolled": true
   },
   "outputs": [
    {
     "name": "stdout",
     "output_type": "stream",
     "text": [
      "Epoch 1/60\n",
      "17/17 [==============================] - 1s 30ms/step - loss: 17.1238 - mean_absolute_error: 3.2148 - val_loss: 14.3234 - val_mean_absolute_error: 3.2598\n",
      "Epoch 2/60\n",
      "17/17 [==============================] - 0s 23ms/step - loss: 6.3989 - mean_absolute_error: 1.8706 - val_loss: 8.7455 - val_mean_absolute_error: 1.8558\n",
      "Epoch 3/60\n",
      "17/17 [==============================] - 0s 23ms/step - loss: 4.0710 - mean_absolute_error: 1.3192 - val_loss: 9.3824 - val_mean_absolute_error: 2.5939\n",
      "Epoch 4/60\n",
      "17/17 [==============================] - 0s 23ms/step - loss: 4.6508 - mean_absolute_error: 1.6119 - val_loss: 8.6480 - val_mean_absolute_error: 1.6144\n",
      "Epoch 5/60\n",
      "17/17 [==============================] - 0s 23ms/step - loss: 7.0369 - mean_absolute_error: 2.0248 - val_loss: 7.5021 - val_mean_absolute_error: 1.8832\n",
      "Epoch 6/60\n",
      "17/17 [==============================] - 0s 23ms/step - loss: 4.1425 - mean_absolute_error: 1.4042 - val_loss: 5.8500 - val_mean_absolute_error: 1.7413\n",
      "Epoch 7/60\n",
      "17/17 [==============================] - 0s 24ms/step - loss: 3.3103 - mean_absolute_error: 1.2780 - val_loss: 5.4087 - val_mean_absolute_error: 1.6893\n",
      "Epoch 8/60\n",
      "17/17 [==============================] - 0s 25ms/step - loss: 3.1698 - mean_absolute_error: 1.2531 - val_loss: 5.2705 - val_mean_absolute_error: 1.6421\n",
      "Epoch 9/60\n",
      "17/17 [==============================] - 0s 23ms/step - loss: 2.6747 - mean_absolute_error: 1.1441 - val_loss: 5.3723 - val_mean_absolute_error: 1.6075\n",
      "Epoch 10/60\n",
      "17/17 [==============================] - 0s 23ms/step - loss: 2.9689 - mean_absolute_error: 1.1955 - val_loss: 7.8138 - val_mean_absolute_error: 2.5862\n",
      "Epoch 11/60\n",
      "17/17 [==============================] - 0s 23ms/step - loss: 4.2512 - mean_absolute_error: 1.5616 - val_loss: 5.4523 - val_mean_absolute_error: 1.2125\n",
      "Epoch 12/60\n",
      "17/17 [==============================] - 0s 22ms/step - loss: 3.4707 - mean_absolute_error: 1.3995 - val_loss: 4.8183 - val_mean_absolute_error: 1.2539\n",
      "Epoch 13/60\n",
      "17/17 [==============================] - 0s 23ms/step - loss: 2.5124 - mean_absolute_error: 1.1581 - val_loss: 4.6354 - val_mean_absolute_error: 1.5666\n",
      "Epoch 14/60\n",
      "17/17 [==============================] - 0s 24ms/step - loss: 2.6132 - mean_absolute_error: 1.1756 - val_loss: 4.3986 - val_mean_absolute_error: 1.4090\n",
      "Epoch 15/60\n",
      "17/17 [==============================] - 0s 23ms/step - loss: 2.1503 - mean_absolute_error: 1.0740 - val_loss: 4.5012 - val_mean_absolute_error: 1.1954\n",
      "Epoch 16/60\n",
      "17/17 [==============================] - 0s 24ms/step - loss: 2.2903 - mean_absolute_error: 1.1139 - val_loss: 5.6798 - val_mean_absolute_error: 2.0201\n",
      "Epoch 17/60\n",
      "17/17 [==============================] - 0s 24ms/step - loss: 1.9467 - mean_absolute_error: 1.0199 - val_loss: 4.3385 - val_mean_absolute_error: 1.1883\n",
      "Epoch 18/60\n",
      "17/17 [==============================] - 0s 25ms/step - loss: 1.7936 - mean_absolute_error: 1.0113 - val_loss: 5.0501 - val_mean_absolute_error: 1.8073\n",
      "Epoch 19/60\n",
      "17/17 [==============================] - 0s 24ms/step - loss: 1.6903 - mean_absolute_error: 0.9628 - val_loss: 4.2084 - val_mean_absolute_error: 1.1925\n",
      "Epoch 20/60\n",
      "17/17 [==============================] - 0s 23ms/step - loss: 1.8064 - mean_absolute_error: 1.0324 - val_loss: 4.3143 - val_mean_absolute_error: 1.2045\n",
      "Epoch 21/60\n",
      "17/17 [==============================] - 0s 24ms/step - loss: 2.7083 - mean_absolute_error: 1.3107 - val_loss: 5.6437 - val_mean_absolute_error: 1.9779\n",
      "Epoch 22/60\n",
      "17/17 [==============================] - 0s 25ms/step - loss: 2.1339 - mean_absolute_error: 1.0941 - val_loss: 4.4473 - val_mean_absolute_error: 1.1962\n",
      "Epoch 23/60\n",
      "17/17 [==============================] - 0s 24ms/step - loss: 2.4696 - mean_absolute_error: 1.2141 - val_loss: 4.4304 - val_mean_absolute_error: 1.2333\n",
      "Epoch 24/60\n",
      "17/17 [==============================] - 0s 25ms/step - loss: 1.7582 - mean_absolute_error: 0.9873 - val_loss: 4.2083 - val_mean_absolute_error: 1.2021\n",
      "Epoch 25/60\n",
      "17/17 [==============================] - 0s 23ms/step - loss: 1.5200 - mean_absolute_error: 0.9300 - val_loss: 4.4382 - val_mean_absolute_error: 1.2655\n",
      "Epoch 26/60\n",
      "17/17 [==============================] - 0s 22ms/step - loss: 1.3542 - mean_absolute_error: 0.8394 - val_loss: 4.2855 - val_mean_absolute_error: 1.3256\n",
      "Epoch 27/60\n",
      "17/17 [==============================] - 0s 23ms/step - loss: 1.5264 - mean_absolute_error: 0.9277 - val_loss: 5.1005 - val_mean_absolute_error: 1.6392\n",
      "Epoch 28/60\n",
      "17/17 [==============================] - 0s 23ms/step - loss: 2.1627 - mean_absolute_error: 1.1012 - val_loss: 8.7004 - val_mean_absolute_error: 2.7066\n",
      "Epoch 29/60\n",
      "17/17 [==============================] - 0s 24ms/step - loss: 2.2587 - mean_absolute_error: 1.1142 - val_loss: 4.8119 - val_mean_absolute_error: 1.4270\n",
      "Epoch 30/60\n",
      "17/17 [==============================] - 0s 23ms/step - loss: 1.5556 - mean_absolute_error: 0.9341 - val_loss: 4.5330 - val_mean_absolute_error: 1.2638\n",
      "Epoch 31/60\n",
      "17/17 [==============================] - 0s 23ms/step - loss: 1.3691 - mean_absolute_error: 0.8748 - val_loss: 5.0779 - val_mean_absolute_error: 1.5941\n",
      "Epoch 32/60\n",
      "17/17 [==============================] - 0s 23ms/step - loss: 1.6239 - mean_absolute_error: 0.9690 - val_loss: 4.8525 - val_mean_absolute_error: 1.5022\n",
      "Epoch 33/60\n",
      "17/17 [==============================] - 0s 23ms/step - loss: 1.3065 - mean_absolute_error: 0.8220 - val_loss: 4.8203 - val_mean_absolute_error: 1.2889\n",
      "Epoch 34/60\n",
      "17/17 [==============================] - 0s 23ms/step - loss: 1.1967 - mean_absolute_error: 0.7873 - val_loss: 4.9422 - val_mean_absolute_error: 1.5121\n",
      "Epoch 35/60\n",
      "17/17 [==============================] - 0s 22ms/step - loss: 1.2978 - mean_absolute_error: 0.8579 - val_loss: 5.7799 - val_mean_absolute_error: 1.8923\n",
      "Epoch 36/60\n",
      "17/17 [==============================] - 0s 23ms/step - loss: 1.1976 - mean_absolute_error: 0.8266 - val_loss: 4.8100 - val_mean_absolute_error: 1.2480\n",
      "Epoch 37/60\n",
      "17/17 [==============================] - 0s 24ms/step - loss: 1.6567 - mean_absolute_error: 1.0087 - val_loss: 5.3280 - val_mean_absolute_error: 1.7713\n",
      "Epoch 38/60\n",
      "17/17 [==============================] - 0s 23ms/step - loss: 1.1652 - mean_absolute_error: 0.7944 - val_loss: 4.8169 - val_mean_absolute_error: 1.2708\n",
      "Epoch 39/60\n",
      "17/17 [==============================] - 0s 24ms/step - loss: 1.3716 - mean_absolute_error: 0.8952 - val_loss: 4.9148 - val_mean_absolute_error: 1.5130\n",
      "Epoch 40/60\n",
      "17/17 [==============================] - 0s 23ms/step - loss: 1.1010 - mean_absolute_error: 0.7695 - val_loss: 5.0099 - val_mean_absolute_error: 1.4769\n",
      "Epoch 41/60\n",
      "17/17 [==============================] - 0s 23ms/step - loss: 1.1445 - mean_absolute_error: 0.7609 - val_loss: 5.9183 - val_mean_absolute_error: 1.9170\n",
      "Epoch 42/60\n",
      "17/17 [==============================] - 0s 24ms/step - loss: 1.1666 - mean_absolute_error: 0.7951 - val_loss: 5.0834 - val_mean_absolute_error: 1.3361\n",
      "Epoch 43/60\n",
      "17/17 [==============================] - 0s 23ms/step - loss: 1.1353 - mean_absolute_error: 0.7689 - val_loss: 5.0707 - val_mean_absolute_error: 1.5060\n",
      "Epoch 44/60\n",
      "17/17 [==============================] - 0s 24ms/step - loss: 1.1548 - mean_absolute_error: 0.7794 - val_loss: 5.1296 - val_mean_absolute_error: 1.3767\n",
      "Epoch 45/60\n",
      "17/17 [==============================] - 0s 24ms/step - loss: 1.0555 - mean_absolute_error: 0.7471 - val_loss: 5.0509 - val_mean_absolute_error: 1.4892\n",
      "Epoch 46/60\n",
      "17/17 [==============================] - 0s 22ms/step - loss: 0.9523 - mean_absolute_error: 0.7049 - val_loss: 5.6232 - val_mean_absolute_error: 1.6616\n",
      "Epoch 47/60\n",
      "17/17 [==============================] - 0s 23ms/step - loss: 1.1033 - mean_absolute_error: 0.7289 - val_loss: 4.9850 - val_mean_absolute_error: 1.3920\n",
      "Epoch 48/60\n",
      "17/17 [==============================] - 0s 23ms/step - loss: 1.0931 - mean_absolute_error: 0.7685 - val_loss: 4.9294 - val_mean_absolute_error: 1.3670\n",
      "Epoch 49/60\n",
      "17/17 [==============================] - 0s 23ms/step - loss: 1.0856 - mean_absolute_error: 0.7644 - val_loss: 5.5985 - val_mean_absolute_error: 1.7160\n",
      "Epoch 50/60\n",
      "17/17 [==============================] - 0s 23ms/step - loss: 1.2361 - mean_absolute_error: 0.8390 - val_loss: 5.5572 - val_mean_absolute_error: 1.6751\n"
     ]
    },
    {
     "name": "stdout",
     "output_type": "stream",
     "text": [
      "Epoch 51/60\n",
      "17/17 [==============================] - 0s 23ms/step - loss: 1.0856 - mean_absolute_error: 0.7518 - val_loss: 5.1233 - val_mean_absolute_error: 1.4783\n",
      "Epoch 52/60\n",
      "17/17 [==============================] - 0s 23ms/step - loss: 1.1197 - mean_absolute_error: 0.8066 - val_loss: 5.0851 - val_mean_absolute_error: 1.3119\n",
      "Epoch 53/60\n",
      "17/17 [==============================] - 0s 23ms/step - loss: 1.2089 - mean_absolute_error: 0.7972 - val_loss: 6.7413 - val_mean_absolute_error: 1.5297\n",
      "Epoch 54/60\n",
      "17/17 [==============================] - 0s 23ms/step - loss: 1.4184 - mean_absolute_error: 0.9370 - val_loss: 6.2432 - val_mean_absolute_error: 1.9085\n",
      "Epoch 55/60\n",
      "17/17 [==============================] - 0s 23ms/step - loss: 1.1768 - mean_absolute_error: 0.7910 - val_loss: 5.7321 - val_mean_absolute_error: 1.7284\n",
      "Epoch 56/60\n",
      "17/17 [==============================] - 0s 23ms/step - loss: 0.9565 - mean_absolute_error: 0.6961 - val_loss: 5.3689 - val_mean_absolute_error: 1.4958\n",
      "Epoch 57/60\n",
      "17/17 [==============================] - 0s 23ms/step - loss: 1.0129 - mean_absolute_error: 0.6868 - val_loss: 5.5541 - val_mean_absolute_error: 1.5241\n",
      "Epoch 58/60\n",
      "17/17 [==============================] - 0s 23ms/step - loss: 0.9719 - mean_absolute_error: 0.7095 - val_loss: 5.3535 - val_mean_absolute_error: 1.4953\n",
      "Epoch 59/60\n",
      "17/17 [==============================] - 0s 23ms/step - loss: 0.9490 - mean_absolute_error: 0.6988 - val_loss: 5.1592 - val_mean_absolute_error: 1.4318\n",
      "Epoch 60/60\n",
      "17/17 [==============================] - 0s 23ms/step - loss: 0.8847 - mean_absolute_error: 0.6385 - val_loss: 5.6576 - val_mean_absolute_error: 1.3579\n",
      "2/2 [==============================] - 0s 6ms/step - loss: 4.4617 - mean_absolute_error: 1.2030\n",
      "Epoch 1/60\n",
      "17/17 [==============================] - 1s 31ms/step - loss: 40.5342 - mean_absolute_error: 5.1460 - val_loss: 17.3994 - val_mean_absolute_error: 2.2832\n",
      "Epoch 2/60\n",
      "17/17 [==============================] - 0s 23ms/step - loss: 12.6722 - mean_absolute_error: 2.8851 - val_loss: 17.8771 - val_mean_absolute_error: 3.8042\n",
      "Epoch 3/60\n",
      "17/17 [==============================] - 0s 23ms/step - loss: 5.6158 - mean_absolute_error: 1.6221 - val_loss: 10.3013 - val_mean_absolute_error: 2.1099\n",
      "Epoch 4/60\n",
      "17/17 [==============================] - 0s 23ms/step - loss: 4.3584 - mean_absolute_error: 1.4324 - val_loss: 9.1493 - val_mean_absolute_error: 2.1550\n",
      "Epoch 5/60\n",
      "17/17 [==============================] - 0s 23ms/step - loss: 4.9496 - mean_absolute_error: 1.5872 - val_loss: 10.3641 - val_mean_absolute_error: 2.8263\n",
      "Epoch 6/60\n",
      "17/17 [==============================] - 0s 23ms/step - loss: 5.2558 - mean_absolute_error: 1.7357 - val_loss: 8.9124 - val_mean_absolute_error: 1.5793\n",
      "Epoch 7/60\n",
      "17/17 [==============================] - 0s 22ms/step - loss: 3.8397 - mean_absolute_error: 1.4623 - val_loss: 10.3311 - val_mean_absolute_error: 2.8634\n",
      "Epoch 8/60\n",
      "17/17 [==============================] - 0s 23ms/step - loss: 4.5748 - mean_absolute_error: 1.5676 - val_loss: 7.0628 - val_mean_absolute_error: 1.4667\n",
      "Epoch 9/60\n",
      "17/17 [==============================] - 0s 23ms/step - loss: 3.6176 - mean_absolute_error: 1.3382 - val_loss: 6.7018 - val_mean_absolute_error: 1.8339\n",
      "Epoch 10/60\n",
      "17/17 [==============================] - 0s 23ms/step - loss: 3.7499 - mean_absolute_error: 1.4441 - val_loss: 9.3183 - val_mean_absolute_error: 1.8153\n",
      "Epoch 11/60\n",
      "17/17 [==============================] - 0s 24ms/step - loss: 4.2565 - mean_absolute_error: 1.5952 - val_loss: 9.2336 - val_mean_absolute_error: 1.8423\n",
      "Epoch 12/60\n",
      "17/17 [==============================] - 0s 23ms/step - loss: 4.6196 - mean_absolute_error: 1.6220 - val_loss: 9.2058 - val_mean_absolute_error: 1.7611\n",
      "Epoch 13/60\n",
      "17/17 [==============================] - 0s 23ms/step - loss: 3.4400 - mean_absolute_error: 1.3486 - val_loss: 6.1133 - val_mean_absolute_error: 1.8723\n",
      "Epoch 14/60\n",
      "17/17 [==============================] - 0s 23ms/step - loss: 2.5713 - mean_absolute_error: 1.1053 - val_loss: 6.5500 - val_mean_absolute_error: 2.2011\n",
      "Epoch 15/60\n",
      "17/17 [==============================] - 0s 24ms/step - loss: 3.3542 - mean_absolute_error: 1.3673 - val_loss: 5.8200 - val_mean_absolute_error: 1.2226\n",
      "Epoch 16/60\n",
      "17/17 [==============================] - 0s 26ms/step - loss: 3.2469 - mean_absolute_error: 1.2399 - val_loss: 6.4759 - val_mean_absolute_error: 2.2259\n",
      "Epoch 17/60\n",
      "17/17 [==============================] - 0s 23ms/step - loss: 3.5782 - mean_absolute_error: 1.4285 - val_loss: 5.6713 - val_mean_absolute_error: 1.8934\n",
      "Epoch 18/60\n",
      "17/17 [==============================] - 0s 23ms/step - loss: 2.0997 - mean_absolute_error: 1.0720 - val_loss: 8.7331 - val_mean_absolute_error: 2.7737\n",
      "Epoch 19/60\n",
      "17/17 [==============================] - 0s 23ms/step - loss: 2.5325 - mean_absolute_error: 1.1600 - val_loss: 5.2743 - val_mean_absolute_error: 1.5634\n",
      "Epoch 20/60\n",
      "17/17 [==============================] - 0s 23ms/step - loss: 2.3592 - mean_absolute_error: 1.1759 - val_loss: 5.4858 - val_mean_absolute_error: 1.8361\n",
      "Epoch 21/60\n",
      "17/17 [==============================] - 0s 23ms/step - loss: 2.7956 - mean_absolute_error: 1.3167 - val_loss: 7.4651 - val_mean_absolute_error: 2.4523\n",
      "Epoch 22/60\n",
      "17/17 [==============================] - 0s 23ms/step - loss: 2.3899 - mean_absolute_error: 1.1571 - val_loss: 5.8388 - val_mean_absolute_error: 1.4098\n",
      "Epoch 23/60\n",
      "17/17 [==============================] - 0s 22ms/step - loss: 2.2585 - mean_absolute_error: 1.1161 - val_loss: 5.3712 - val_mean_absolute_error: 1.2621\n",
      "Epoch 24/60\n",
      "17/17 [==============================] - 0s 23ms/step - loss: 2.6455 - mean_absolute_error: 1.2503 - val_loss: 8.4144 - val_mean_absolute_error: 2.6865\n",
      "Epoch 25/60\n",
      "17/17 [==============================] - 0s 23ms/step - loss: 2.5515 - mean_absolute_error: 1.2583 - val_loss: 5.6110 - val_mean_absolute_error: 1.8546\n",
      "Epoch 26/60\n",
      "17/17 [==============================] - 0s 23ms/step - loss: 1.9508 - mean_absolute_error: 1.0592 - val_loss: 4.7706 - val_mean_absolute_error: 1.3689\n",
      "Epoch 27/60\n",
      "17/17 [==============================] - 0s 23ms/step - loss: 2.3670 - mean_absolute_error: 1.2047 - val_loss: 4.9500 - val_mean_absolute_error: 1.2776\n",
      "Epoch 28/60\n",
      "17/17 [==============================] - 0s 23ms/step - loss: 1.6782 - mean_absolute_error: 0.9620 - val_loss: 5.1398 - val_mean_absolute_error: 1.7207\n",
      "Epoch 29/60\n",
      "17/17 [==============================] - 0s 23ms/step - loss: 1.6554 - mean_absolute_error: 0.9864 - val_loss: 4.5919 - val_mean_absolute_error: 1.3018\n",
      "Epoch 30/60\n",
      "17/17 [==============================] - 0s 23ms/step - loss: 1.6584 - mean_absolute_error: 0.9394 - val_loss: 5.3480 - val_mean_absolute_error: 1.3393\n",
      "Epoch 31/60\n",
      "17/17 [==============================] - 0s 23ms/step - loss: 2.7643 - mean_absolute_error: 1.2650 - val_loss: 4.9052 - val_mean_absolute_error: 1.2900\n",
      "Epoch 32/60\n",
      "17/17 [==============================] - 0s 23ms/step - loss: 3.6069 - mean_absolute_error: 1.5280 - val_loss: 5.3292 - val_mean_absolute_error: 1.2821\n",
      "Epoch 33/60\n",
      "17/17 [==============================] - 0s 23ms/step - loss: 1.8315 - mean_absolute_error: 1.0454 - val_loss: 5.1583 - val_mean_absolute_error: 1.2353\n",
      "Epoch 34/60\n",
      "17/17 [==============================] - 0s 23ms/step - loss: 2.3493 - mean_absolute_error: 1.1906 - val_loss: 6.4002 - val_mean_absolute_error: 2.1803\n",
      "Epoch 35/60\n",
      "17/17 [==============================] - 0s 23ms/step - loss: 1.8621 - mean_absolute_error: 1.0204 - val_loss: 4.7171 - val_mean_absolute_error: 1.2369\n",
      "Epoch 36/60\n",
      "17/17 [==============================] - 0s 24ms/step - loss: 1.6056 - mean_absolute_error: 0.9523 - val_loss: 4.8864 - val_mean_absolute_error: 1.6270\n",
      "Epoch 37/60\n",
      "17/17 [==============================] - 0s 23ms/step - loss: 1.4355 - mean_absolute_error: 0.8847 - val_loss: 4.6804 - val_mean_absolute_error: 1.2253\n",
      "Epoch 38/60\n",
      "17/17 [==============================] - 0s 23ms/step - loss: 1.6918 - mean_absolute_error: 0.9266 - val_loss: 7.9508 - val_mean_absolute_error: 2.5733\n",
      "Epoch 39/60\n",
      "17/17 [==============================] - 0s 23ms/step - loss: 2.5873 - mean_absolute_error: 1.2274 - val_loss: 5.2356 - val_mean_absolute_error: 1.2774\n",
      "Epoch 40/60\n",
      "17/17 [==============================] - 0s 23ms/step - loss: 1.8469 - mean_absolute_error: 1.0155 - val_loss: 4.9457 - val_mean_absolute_error: 1.5465\n",
      "Epoch 41/60\n",
      "17/17 [==============================] - 0s 23ms/step - loss: 1.4821 - mean_absolute_error: 0.9109 - val_loss: 4.6715 - val_mean_absolute_error: 1.2457\n",
      "Epoch 42/60\n",
      "17/17 [==============================] - 0s 23ms/step - loss: 1.5886 - mean_absolute_error: 0.9002 - val_loss: 4.9140 - val_mean_absolute_error: 1.3011\n",
      "Epoch 43/60\n",
      "17/17 [==============================] - 0s 23ms/step - loss: 1.7466 - mean_absolute_error: 1.0094 - val_loss: 6.5080 - val_mean_absolute_error: 2.1788\n",
      "Epoch 44/60\n",
      "17/17 [==============================] - 0s 23ms/step - loss: 1.8430 - mean_absolute_error: 1.0164 - val_loss: 4.7448 - val_mean_absolute_error: 1.2603\n",
      "Epoch 45/60\n",
      "17/17 [==============================] - 0s 23ms/step - loss: 1.4145 - mean_absolute_error: 0.8800 - val_loss: 5.2411 - val_mean_absolute_error: 1.7679\n",
      "Epoch 46/60\n",
      "17/17 [==============================] - 0s 23ms/step - loss: 1.3957 - mean_absolute_error: 0.8980 - val_loss: 4.8793 - val_mean_absolute_error: 1.4361\n",
      "Epoch 47/60\n",
      "17/17 [==============================] - 0s 23ms/step - loss: 1.2497 - mean_absolute_error: 0.8214 - val_loss: 4.5741 - val_mean_absolute_error: 1.3112\n",
      "Epoch 48/60\n",
      "17/17 [==============================] - 0s 22ms/step - loss: 1.4024 - mean_absolute_error: 0.8882 - val_loss: 5.3190 - val_mean_absolute_error: 1.6361\n",
      "Epoch 49/60\n",
      "17/17 [==============================] - 0s 23ms/step - loss: 1.2568 - mean_absolute_error: 0.8351 - val_loss: 4.9084 - val_mean_absolute_error: 1.3445\n",
      "Epoch 50/60\n",
      "17/17 [==============================] - 0s 23ms/step - loss: 1.2489 - mean_absolute_error: 0.7948 - val_loss: 5.7889 - val_mean_absolute_error: 1.9036\n",
      "Epoch 51/60\n",
      "17/17 [==============================] - 0s 23ms/step - loss: 1.1747 - mean_absolute_error: 0.7882 - val_loss: 4.9159 - val_mean_absolute_error: 1.3258\n",
      "Epoch 52/60\n",
      "17/17 [==============================] - 0s 23ms/step - loss: 1.2505 - mean_absolute_error: 0.8266 - val_loss: 5.7941 - val_mean_absolute_error: 1.8363\n",
      "Epoch 53/60\n",
      "17/17 [==============================] - 0s 24ms/step - loss: 1.2828 - mean_absolute_error: 0.8451 - val_loss: 4.7953 - val_mean_absolute_error: 1.3494\n",
      "Epoch 54/60\n",
      "17/17 [==============================] - 0s 23ms/step - loss: 1.1537 - mean_absolute_error: 0.8067 - val_loss: 6.3979 - val_mean_absolute_error: 2.1119\n",
      "Epoch 55/60\n",
      "17/17 [==============================] - 0s 23ms/step - loss: 1.3940 - mean_absolute_error: 0.8759 - val_loss: 5.0240 - val_mean_absolute_error: 1.4543\n",
      "Epoch 56/60\n",
      "17/17 [==============================] - 0s 23ms/step - loss: 1.0869 - mean_absolute_error: 0.7453 - val_loss: 5.0386 - val_mean_absolute_error: 1.5508\n",
      "Epoch 57/60\n",
      "17/17 [==============================] - 0s 23ms/step - loss: 1.2653 - mean_absolute_error: 0.8169 - val_loss: 5.1301 - val_mean_absolute_error: 1.4114\n",
      "Epoch 58/60\n",
      "17/17 [==============================] - 0s 23ms/step - loss: 1.1368 - mean_absolute_error: 0.7967 - val_loss: 5.3271 - val_mean_absolute_error: 1.6288\n",
      "Epoch 59/60\n",
      "17/17 [==============================] - 0s 22ms/step - loss: 1.3624 - mean_absolute_error: 0.8523 - val_loss: 5.7639 - val_mean_absolute_error: 1.3477\n",
      "Epoch 60/60\n",
      "17/17 [==============================] - 0s 23ms/step - loss: 1.6179 - mean_absolute_error: 0.9548 - val_loss: 6.8663 - val_mean_absolute_error: 2.2270\n",
      "2/2 [==============================] - 0s 5ms/step - loss: 1.9126 - mean_absolute_error: 1.1168\n",
      "Epoch 1/60\n",
      "17/17 [==============================] - 1s 31ms/step - loss: 41.5893 - mean_absolute_error: 4.5766 - val_loss: 14.6285 - val_mean_absolute_error: 3.0945\n",
      "Epoch 2/60\n",
      "17/17 [==============================] - 0s 24ms/step - loss: 4.8018 - mean_absolute_error: 1.4934 - val_loss: 14.8834 - val_mean_absolute_error: 2.1774\n",
      "Epoch 3/60\n",
      "17/17 [==============================] - 0s 23ms/step - loss: 6.3272 - mean_absolute_error: 1.8460 - val_loss: 12.0104 - val_mean_absolute_error: 2.9955\n",
      "Epoch 4/60\n",
      "17/17 [==============================] - 0s 23ms/step - loss: 4.8981 - mean_absolute_error: 1.5761 - val_loss: 9.7070 - val_mean_absolute_error: 2.0193\n",
      "Epoch 5/60\n",
      "17/17 [==============================] - 0s 23ms/step - loss: 4.8070 - mean_absolute_error: 1.5913 - val_loss: 9.2975 - val_mean_absolute_error: 1.9746\n",
      "Epoch 6/60\n",
      "17/17 [==============================] - 0s 23ms/step - loss: 4.1133 - mean_absolute_error: 1.4989 - val_loss: 9.9378 - val_mean_absolute_error: 2.7051\n",
      "Epoch 7/60\n",
      "17/17 [==============================] - 0s 23ms/step - loss: 3.9359 - mean_absolute_error: 1.4517 - val_loss: 7.8237 - val_mean_absolute_error: 1.9817\n",
      "Epoch 8/60\n",
      "17/17 [==============================] - 0s 23ms/step - loss: 6.8175 - mean_absolute_error: 2.1487 - val_loss: 8.3662 - val_mean_absolute_error: 2.2113\n",
      "Epoch 9/60\n",
      "17/17 [==============================] - 0s 23ms/step - loss: 5.4513 - mean_absolute_error: 1.7150 - val_loss: 9.5617 - val_mean_absolute_error: 2.7549\n",
      "Epoch 10/60\n",
      "17/17 [==============================] - 0s 24ms/step - loss: 2.8845 - mean_absolute_error: 1.1923 - val_loss: 7.4650 - val_mean_absolute_error: 1.5651\n",
      "Epoch 11/60\n",
      "17/17 [==============================] - 0s 23ms/step - loss: 3.9735 - mean_absolute_error: 1.3198 - val_loss: 7.3170 - val_mean_absolute_error: 1.4773\n",
      "Epoch 12/60\n",
      "17/17 [==============================] - 0s 22ms/step - loss: 3.0118 - mean_absolute_error: 1.2061 - val_loss: 6.6004 - val_mean_absolute_error: 1.3891\n",
      "Epoch 13/60\n",
      "17/17 [==============================] - 0s 23ms/step - loss: 3.6938 - mean_absolute_error: 1.4500 - val_loss: 7.0802 - val_mean_absolute_error: 1.4112\n",
      "Epoch 14/60\n",
      "17/17 [==============================] - 0s 23ms/step - loss: 3.2517 - mean_absolute_error: 1.3202 - val_loss: 6.0619 - val_mean_absolute_error: 1.3435\n",
      "Epoch 15/60\n",
      "17/17 [==============================] - 0s 23ms/step - loss: 3.8052 - mean_absolute_error: 1.4696 - val_loss: 5.5351 - val_mean_absolute_error: 1.6257\n",
      "Epoch 16/60\n",
      "17/17 [==============================] - 0s 22ms/step - loss: 2.4625 - mean_absolute_error: 1.1020 - val_loss: 6.2979 - val_mean_absolute_error: 2.1487\n",
      "Epoch 17/60\n",
      "17/17 [==============================] - 0s 22ms/step - loss: 2.5071 - mean_absolute_error: 1.1225 - val_loss: 5.4985 - val_mean_absolute_error: 1.7539\n",
      "Epoch 18/60\n",
      "17/17 [==============================] - 0s 23ms/step - loss: 2.3807 - mean_absolute_error: 1.0769 - val_loss: 5.0633 - val_mean_absolute_error: 1.4623\n",
      "Epoch 19/60\n",
      "17/17 [==============================] - 0s 23ms/step - loss: 2.8206 - mean_absolute_error: 1.2352 - val_loss: 5.5522 - val_mean_absolute_error: 1.5539\n",
      "Epoch 20/60\n",
      "17/17 [==============================] - 0s 24ms/step - loss: 3.0755 - mean_absolute_error: 1.4180 - val_loss: 5.1644 - val_mean_absolute_error: 1.6012\n",
      "Epoch 21/60\n",
      "17/17 [==============================] - 0s 22ms/step - loss: 2.6350 - mean_absolute_error: 1.2386 - val_loss: 5.7570 - val_mean_absolute_error: 1.9657\n",
      "Epoch 22/60\n",
      "17/17 [==============================] - 0s 23ms/step - loss: 3.0894 - mean_absolute_error: 1.3663 - val_loss: 7.0991 - val_mean_absolute_error: 1.5630\n",
      "Epoch 23/60\n",
      "17/17 [==============================] - 0s 23ms/step - loss: 2.3479 - mean_absolute_error: 1.1422 - val_loss: 5.0329 - val_mean_absolute_error: 1.5405\n",
      "Epoch 24/60\n",
      "17/17 [==============================] - 0s 24ms/step - loss: 2.3386 - mean_absolute_error: 1.1313 - val_loss: 6.1494 - val_mean_absolute_error: 2.0829\n",
      "Epoch 25/60\n",
      "17/17 [==============================] - 0s 23ms/step - loss: 2.3957 - mean_absolute_error: 1.1598 - val_loss: 7.1694 - val_mean_absolute_error: 1.7144\n",
      "Epoch 26/60\n",
      "17/17 [==============================] - 0s 24ms/step - loss: 4.4587 - mean_absolute_error: 1.6490 - val_loss: 8.4018 - val_mean_absolute_error: 1.9067\n",
      "Epoch 27/60\n",
      "17/17 [==============================] - 0s 23ms/step - loss: 2.8328 - mean_absolute_error: 1.1976 - val_loss: 5.8581 - val_mean_absolute_error: 1.8463\n",
      "Epoch 28/60\n",
      "17/17 [==============================] - 0s 23ms/step - loss: 1.9377 - mean_absolute_error: 1.0148 - val_loss: 5.0458 - val_mean_absolute_error: 1.5293\n",
      "Epoch 29/60\n"
     ]
    },
    {
     "name": "stdout",
     "output_type": "stream",
     "text": [
      "17/17 [==============================] - 0s 24ms/step - loss: 1.6820 - mean_absolute_error: 0.8745 - val_loss: 4.7452 - val_mean_absolute_error: 1.3097\n",
      "Epoch 30/60\n",
      "17/17 [==============================] - 0s 24ms/step - loss: 2.5017 - mean_absolute_error: 1.2052 - val_loss: 6.0111 - val_mean_absolute_error: 1.4704\n",
      "Epoch 31/60\n",
      "17/17 [==============================] - 0s 23ms/step - loss: 2.0644 - mean_absolute_error: 1.0622 - val_loss: 7.2723 - val_mean_absolute_error: 2.4042\n",
      "Epoch 32/60\n",
      "17/17 [==============================] - 0s 24ms/step - loss: 1.6950 - mean_absolute_error: 0.9677 - val_loss: 5.1561 - val_mean_absolute_error: 1.4655\n",
      "Epoch 33/60\n",
      "17/17 [==============================] - 0s 23ms/step - loss: 1.7365 - mean_absolute_error: 1.0092 - val_loss: 4.7674 - val_mean_absolute_error: 1.2952\n",
      "Epoch 34/60\n",
      "17/17 [==============================] - 0s 24ms/step - loss: 1.5431 - mean_absolute_error: 0.9328 - val_loss: 4.7539 - val_mean_absolute_error: 1.6838\n",
      "Epoch 35/60\n",
      "17/17 [==============================] - 0s 23ms/step - loss: 1.5107 - mean_absolute_error: 0.8658 - val_loss: 6.7332 - val_mean_absolute_error: 2.2796\n",
      "Epoch 36/60\n",
      "17/17 [==============================] - 0s 23ms/step - loss: 1.8565 - mean_absolute_error: 1.0245 - val_loss: 5.5552 - val_mean_absolute_error: 1.5051\n",
      "Epoch 37/60\n",
      "17/17 [==============================] - 0s 23ms/step - loss: 1.5714 - mean_absolute_error: 0.9396 - val_loss: 4.7355 - val_mean_absolute_error: 1.3078\n",
      "Epoch 38/60\n",
      "17/17 [==============================] - 0s 22ms/step - loss: 1.5811 - mean_absolute_error: 0.9598 - val_loss: 5.0349 - val_mean_absolute_error: 1.7553\n",
      "Epoch 39/60\n",
      "17/17 [==============================] - 0s 23ms/step - loss: 1.4541 - mean_absolute_error: 0.8948 - val_loss: 4.3523 - val_mean_absolute_error: 1.4324\n",
      "Epoch 40/60\n",
      "17/17 [==============================] - 0s 24ms/step - loss: 1.4156 - mean_absolute_error: 0.9031 - val_loss: 6.4993 - val_mean_absolute_error: 2.2400\n",
      "Epoch 41/60\n",
      "17/17 [==============================] - 0s 23ms/step - loss: 1.6342 - mean_absolute_error: 0.9589 - val_loss: 5.3992 - val_mean_absolute_error: 1.8420\n",
      "Epoch 42/60\n",
      "17/17 [==============================] - 0s 23ms/step - loss: 1.4557 - mean_absolute_error: 0.9247 - val_loss: 4.3600 - val_mean_absolute_error: 1.3549\n",
      "Epoch 43/60\n",
      "17/17 [==============================] - 0s 22ms/step - loss: 1.8918 - mean_absolute_error: 1.0693 - val_loss: 5.1884 - val_mean_absolute_error: 1.3086\n",
      "Epoch 44/60\n",
      "17/17 [==============================] - 0s 23ms/step - loss: 1.9962 - mean_absolute_error: 1.1422 - val_loss: 5.2769 - val_mean_absolute_error: 1.7472\n",
      "Epoch 45/60\n",
      "17/17 [==============================] - 0s 23ms/step - loss: 1.4103 - mean_absolute_error: 0.8879 - val_loss: 5.0927 - val_mean_absolute_error: 1.6125\n",
      "Epoch 46/60\n",
      "17/17 [==============================] - 0s 24ms/step - loss: 1.4860 - mean_absolute_error: 0.8860 - val_loss: 5.0005 - val_mean_absolute_error: 1.3012\n",
      "Epoch 47/60\n",
      "17/17 [==============================] - 0s 23ms/step - loss: 1.4611 - mean_absolute_error: 0.8871 - val_loss: 5.5417 - val_mean_absolute_error: 1.8735\n",
      "Epoch 48/60\n",
      "17/17 [==============================] - 0s 25ms/step - loss: 1.6863 - mean_absolute_error: 0.9863 - val_loss: 4.8523 - val_mean_absolute_error: 1.3168\n",
      "Epoch 49/60\n",
      "17/17 [==============================] - 0s 23ms/step - loss: 1.9532 - mean_absolute_error: 1.0709 - val_loss: 5.5674 - val_mean_absolute_error: 1.8499\n",
      "Epoch 50/60\n",
      "17/17 [==============================] - 0s 23ms/step - loss: 1.3770 - mean_absolute_error: 0.8441 - val_loss: 4.8349 - val_mean_absolute_error: 1.3886\n",
      "Epoch 51/60\n",
      "17/17 [==============================] - 0s 23ms/step - loss: 1.3105 - mean_absolute_error: 0.8532 - val_loss: 4.7439 - val_mean_absolute_error: 1.3458\n",
      "Epoch 52/60\n",
      "17/17 [==============================] - 0s 23ms/step - loss: 1.4905 - mean_absolute_error: 0.9207 - val_loss: 4.7036 - val_mean_absolute_error: 1.5265\n",
      "Epoch 53/60\n",
      "17/17 [==============================] - 0s 23ms/step - loss: 1.2628 - mean_absolute_error: 0.8425 - val_loss: 4.9414 - val_mean_absolute_error: 1.2897\n",
      "Epoch 54/60\n",
      "17/17 [==============================] - 0s 23ms/step - loss: 1.4722 - mean_absolute_error: 0.8969 - val_loss: 4.6574 - val_mean_absolute_error: 1.4386\n",
      "Epoch 55/60\n",
      "17/17 [==============================] - 0s 23ms/step - loss: 1.3633 - mean_absolute_error: 0.8623 - val_loss: 4.8808 - val_mean_absolute_error: 1.5279\n",
      "Epoch 56/60\n",
      "17/17 [==============================] - 0s 23ms/step - loss: 1.2946 - mean_absolute_error: 0.8354 - val_loss: 4.5559 - val_mean_absolute_error: 1.3406\n",
      "Epoch 57/60\n",
      "17/17 [==============================] - 0s 23ms/step - loss: 1.4104 - mean_absolute_error: 0.8721 - val_loss: 4.7590 - val_mean_absolute_error: 1.4107\n",
      "Epoch 58/60\n",
      "17/17 [==============================] - 0s 23ms/step - loss: 1.1704 - mean_absolute_error: 0.7852 - val_loss: 4.4968 - val_mean_absolute_error: 1.4873\n",
      "Epoch 59/60\n",
      "17/17 [==============================] - 0s 22ms/step - loss: 1.1442 - mean_absolute_error: 0.7837 - val_loss: 4.5177 - val_mean_absolute_error: 1.3423\n",
      "Epoch 60/60\n",
      "17/17 [==============================] - 0s 23ms/step - loss: 1.1443 - mean_absolute_error: 0.7728 - val_loss: 4.5496 - val_mean_absolute_error: 1.4354\n",
      "2/2 [==============================] - 0s 5ms/step - loss: 0.8069 - mean_absolute_error: 0.6693\n",
      "Epoch 1/60\n",
      "17/17 [==============================] - 1s 30ms/step - loss: 20.8247 - mean_absolute_error: 3.2408 - val_loss: 12.1932 - val_mean_absolute_error: 2.8599\n",
      "Epoch 2/60\n",
      "17/17 [==============================] - 0s 22ms/step - loss: 4.9083 - mean_absolute_error: 1.5053 - val_loss: 9.1452 - val_mean_absolute_error: 1.9789\n",
      "Epoch 3/60\n",
      "17/17 [==============================] - 0s 23ms/step - loss: 5.4910 - mean_absolute_error: 1.7534 - val_loss: 11.4862 - val_mean_absolute_error: 3.0125\n",
      "Epoch 4/60\n",
      "17/17 [==============================] - 0s 22ms/step - loss: 4.6532 - mean_absolute_error: 1.6041 - val_loss: 7.5685 - val_mean_absolute_error: 1.7158\n",
      "Epoch 5/60\n",
      "17/17 [==============================] - 0s 23ms/step - loss: 3.5066 - mean_absolute_error: 1.2362 - val_loss: 8.1773 - val_mean_absolute_error: 2.3511\n",
      "Epoch 6/60\n",
      "17/17 [==============================] - 0s 23ms/step - loss: 3.2728 - mean_absolute_error: 1.3162 - val_loss: 6.3626 - val_mean_absolute_error: 1.7034\n",
      "Epoch 7/60\n",
      "17/17 [==============================] - 0s 23ms/step - loss: 2.8743 - mean_absolute_error: 1.1928 - val_loss: 9.8456 - val_mean_absolute_error: 2.8636\n",
      "Epoch 8/60\n",
      "17/17 [==============================] - 0s 23ms/step - loss: 4.7735 - mean_absolute_error: 1.7069 - val_loss: 6.9190 - val_mean_absolute_error: 2.2739\n",
      "Epoch 9/60\n",
      "17/17 [==============================] - 0s 23ms/step - loss: 4.3256 - mean_absolute_error: 1.5483 - val_loss: 6.1548 - val_mean_absolute_error: 1.9051\n",
      "Epoch 10/60\n",
      "17/17 [==============================] - 0s 23ms/step - loss: 3.5716 - mean_absolute_error: 1.3493 - val_loss: 8.0303 - val_mean_absolute_error: 1.5741\n",
      "Epoch 11/60\n",
      "17/17 [==============================] - 0s 23ms/step - loss: 2.8445 - mean_absolute_error: 1.2138 - val_loss: 5.9766 - val_mean_absolute_error: 1.7677\n",
      "Epoch 12/60\n",
      "17/17 [==============================] - 0s 23ms/step - loss: 2.2422 - mean_absolute_error: 1.0358 - val_loss: 7.4026 - val_mean_absolute_error: 2.3542\n",
      "Epoch 13/60\n",
      "17/17 [==============================] - 0s 23ms/step - loss: 2.3191 - mean_absolute_error: 1.1036 - val_loss: 5.7698 - val_mean_absolute_error: 1.7596\n",
      "Epoch 14/60\n",
      "17/17 [==============================] - 0s 22ms/step - loss: 2.1459 - mean_absolute_error: 1.0734 - val_loss: 7.2339 - val_mean_absolute_error: 1.5676\n",
      "Epoch 15/60\n",
      "17/17 [==============================] - 0s 23ms/step - loss: 2.3895 - mean_absolute_error: 1.1350 - val_loss: 7.0862 - val_mean_absolute_error: 1.5129\n",
      "Epoch 16/60\n",
      "17/17 [==============================] - 0s 23ms/step - loss: 2.3796 - mean_absolute_error: 1.1463 - val_loss: 5.9615 - val_mean_absolute_error: 1.8585\n",
      "Epoch 17/60\n",
      "17/17 [==============================] - 0s 22ms/step - loss: 2.2200 - mean_absolute_error: 1.0821 - val_loss: 6.4840 - val_mean_absolute_error: 1.5158\n",
      "Epoch 18/60\n",
      "17/17 [==============================] - 0s 23ms/step - loss: 2.0189 - mean_absolute_error: 1.0298 - val_loss: 7.1169 - val_mean_absolute_error: 2.3367\n",
      "Epoch 19/60\n",
      "17/17 [==============================] - 0s 22ms/step - loss: 2.3148 - mean_absolute_error: 1.1409 - val_loss: 5.1956 - val_mean_absolute_error: 1.4558\n",
      "Epoch 20/60\n",
      "17/17 [==============================] - 0s 22ms/step - loss: 2.2215 - mean_absolute_error: 1.1392 - val_loss: 7.2795 - val_mean_absolute_error: 2.3479\n",
      "Epoch 21/60\n",
      "17/17 [==============================] - 0s 23ms/step - loss: 2.1511 - mean_absolute_error: 1.0672 - val_loss: 5.7183 - val_mean_absolute_error: 1.5156\n",
      "Epoch 22/60\n",
      "17/17 [==============================] - 0s 23ms/step - loss: 2.5190 - mean_absolute_error: 1.2756 - val_loss: 6.7014 - val_mean_absolute_error: 1.4692\n",
      "Epoch 23/60\n",
      "17/17 [==============================] - 0s 23ms/step - loss: 2.0280 - mean_absolute_error: 1.0914 - val_loss: 6.3535 - val_mean_absolute_error: 2.0684\n",
      "Epoch 24/60\n",
      "17/17 [==============================] - 0s 23ms/step - loss: 2.0020 - mean_absolute_error: 1.0428 - val_loss: 5.9037 - val_mean_absolute_error: 1.4181\n",
      "Epoch 25/60\n",
      "17/17 [==============================] - 0s 23ms/step - loss: 2.5249 - mean_absolute_error: 1.1973 - val_loss: 5.6352 - val_mean_absolute_error: 1.6956\n",
      "Epoch 26/60\n",
      "17/17 [==============================] - 0s 23ms/step - loss: 1.8190 - mean_absolute_error: 1.0144 - val_loss: 5.8881 - val_mean_absolute_error: 1.8176\n",
      "Epoch 27/60\n",
      "17/17 [==============================] - 0s 24ms/step - loss: 2.2717 - mean_absolute_error: 1.1007 - val_loss: 5.6909 - val_mean_absolute_error: 1.4958\n",
      "Epoch 28/60\n",
      "17/17 [==============================] - 0s 23ms/step - loss: 1.7493 - mean_absolute_error: 1.0311 - val_loss: 5.3773 - val_mean_absolute_error: 1.4988\n",
      "Epoch 29/60\n",
      "17/17 [==============================] - 0s 23ms/step - loss: 1.7566 - mean_absolute_error: 0.9938 - val_loss: 6.0180 - val_mean_absolute_error: 1.4715\n",
      "Epoch 30/60\n",
      "17/17 [==============================] - 0s 23ms/step - loss: 1.6979 - mean_absolute_error: 0.9478 - val_loss: 5.2208 - val_mean_absolute_error: 1.5277\n",
      "Epoch 31/60\n",
      "17/17 [==============================] - 0s 23ms/step - loss: 1.7256 - mean_absolute_error: 0.9468 - val_loss: 5.5397 - val_mean_absolute_error: 1.6013\n",
      "Epoch 32/60\n",
      "17/17 [==============================] - 0s 23ms/step - loss: 1.6180 - mean_absolute_error: 0.9425 - val_loss: 5.2786 - val_mean_absolute_error: 1.7640\n",
      "Epoch 33/60\n",
      "17/17 [==============================] - 0s 22ms/step - loss: 1.9479 - mean_absolute_error: 1.0381 - val_loss: 6.0098 - val_mean_absolute_error: 1.9259\n",
      "Epoch 34/60\n",
      "17/17 [==============================] - 0s 23ms/step - loss: 2.0093 - mean_absolute_error: 1.0416 - val_loss: 5.5495 - val_mean_absolute_error: 1.4681\n",
      "Epoch 35/60\n",
      "17/17 [==============================] - 0s 23ms/step - loss: 1.7658 - mean_absolute_error: 1.0397 - val_loss: 5.2511 - val_mean_absolute_error: 1.4476\n",
      "Epoch 36/60\n",
      "17/17 [==============================] - 0s 23ms/step - loss: 1.6207 - mean_absolute_error: 0.9405 - val_loss: 7.5771 - val_mean_absolute_error: 2.3877\n",
      "Epoch 37/60\n",
      "17/17 [==============================] - 0s 23ms/step - loss: 2.0283 - mean_absolute_error: 1.1021 - val_loss: 6.3002 - val_mean_absolute_error: 1.4066\n",
      "Epoch 38/60\n",
      "17/17 [==============================] - 0s 23ms/step - loss: 1.8160 - mean_absolute_error: 1.0159 - val_loss: 5.4175 - val_mean_absolute_error: 1.3879\n",
      "Epoch 39/60\n",
      "17/17 [==============================] - 0s 23ms/step - loss: 1.5236 - mean_absolute_error: 0.9304 - val_loss: 5.7143 - val_mean_absolute_error: 1.4973\n",
      "Epoch 40/60\n",
      "17/17 [==============================] - 0s 23ms/step - loss: 1.2123 - mean_absolute_error: 0.7990 - val_loss: 5.5987 - val_mean_absolute_error: 1.7717\n",
      "Epoch 41/60\n",
      "17/17 [==============================] - 0s 23ms/step - loss: 1.2115 - mean_absolute_error: 0.8139 - val_loss: 5.1999 - val_mean_absolute_error: 1.3506\n",
      "Epoch 42/60\n",
      "17/17 [==============================] - 0s 23ms/step - loss: 1.4500 - mean_absolute_error: 0.8995 - val_loss: 5.0147 - val_mean_absolute_error: 1.5408\n",
      "Epoch 43/60\n",
      "17/17 [==============================] - 0s 23ms/step - loss: 1.3264 - mean_absolute_error: 0.8346 - val_loss: 5.3476 - val_mean_absolute_error: 1.7483\n",
      "Epoch 44/60\n",
      "17/17 [==============================] - 0s 23ms/step - loss: 1.3898 - mean_absolute_error: 0.8706 - val_loss: 5.2790 - val_mean_absolute_error: 1.5199\n",
      "Epoch 45/60\n",
      "17/17 [==============================] - 0s 24ms/step - loss: 1.7955 - mean_absolute_error: 0.9990 - val_loss: 5.6521 - val_mean_absolute_error: 1.3837\n",
      "Epoch 46/60\n",
      "17/17 [==============================] - 0s 23ms/step - loss: 1.3354 - mean_absolute_error: 0.8498 - val_loss: 5.0053 - val_mean_absolute_error: 1.3287\n",
      "Epoch 47/60\n",
      "17/17 [==============================] - 0s 23ms/step - loss: 1.4300 - mean_absolute_error: 0.8946 - val_loss: 5.4027 - val_mean_absolute_error: 1.5905\n",
      "Epoch 48/60\n",
      "17/17 [==============================] - 0s 23ms/step - loss: 1.5858 - mean_absolute_error: 0.9727 - val_loss: 5.3290 - val_mean_absolute_error: 1.6637\n",
      "Epoch 49/60\n",
      "17/17 [==============================] - 0s 24ms/step - loss: 1.1959 - mean_absolute_error: 0.7406 - val_loss: 5.9474 - val_mean_absolute_error: 1.8487\n",
      "Epoch 50/60\n",
      "17/17 [==============================] - 0s 23ms/step - loss: 1.1924 - mean_absolute_error: 0.7958 - val_loss: 4.8948 - val_mean_absolute_error: 1.3574\n",
      "Epoch 51/60\n",
      "17/17 [==============================] - 0s 24ms/step - loss: 1.1268 - mean_absolute_error: 0.7694 - val_loss: 5.1134 - val_mean_absolute_error: 1.5943\n",
      "Epoch 52/60\n",
      "17/17 [==============================] - 0s 23ms/step - loss: 1.2885 - mean_absolute_error: 0.8198 - val_loss: 4.6600 - val_mean_absolute_error: 1.3753\n",
      "Epoch 53/60\n",
      "17/17 [==============================] - 0s 23ms/step - loss: 1.5828 - mean_absolute_error: 0.9404 - val_loss: 5.3741 - val_mean_absolute_error: 1.7000\n",
      "Epoch 54/60\n",
      "17/17 [==============================] - 0s 24ms/step - loss: 1.3853 - mean_absolute_error: 0.8573 - val_loss: 6.5333 - val_mean_absolute_error: 2.0924\n",
      "Epoch 55/60\n",
      "17/17 [==============================] - 0s 23ms/step - loss: 1.1261 - mean_absolute_error: 0.7095 - val_loss: 5.1786 - val_mean_absolute_error: 1.5259\n",
      "Epoch 56/60\n",
      "17/17 [==============================] - 0s 23ms/step - loss: 1.4965 - mean_absolute_error: 0.9743 - val_loss: 5.2515 - val_mean_absolute_error: 1.5059\n",
      "Epoch 57/60\n",
      "17/17 [==============================] - 0s 23ms/step - loss: 1.3479 - mean_absolute_error: 0.8895 - val_loss: 5.7776 - val_mean_absolute_error: 1.6854\n",
      "Epoch 58/60\n",
      "17/17 [==============================] - 0s 23ms/step - loss: 1.1125 - mean_absolute_error: 0.7519 - val_loss: 5.5958 - val_mean_absolute_error: 1.7759\n",
      "Epoch 59/60\n",
      "17/17 [==============================] - 0s 24ms/step - loss: 1.1666 - mean_absolute_error: 0.7530 - val_loss: 5.2311 - val_mean_absolute_error: 1.3391\n",
      "Epoch 60/60\n",
      "17/17 [==============================] - 0s 23ms/step - loss: 1.2176 - mean_absolute_error: 0.7991 - val_loss: 5.6513 - val_mean_absolute_error: 1.3718\n",
      "2/2 [==============================] - 0s 5ms/step - loss: 1.1485 - mean_absolute_error: 0.7634\n"
     ]
    }
   ],
   "source": [
    "model, history, evaluations = generalisation_estimator()"
   ]
  },
  {
   "cell_type": "code",
   "execution_count": 118,
   "id": "219f7d86",
   "metadata": {
    "scrolled": false
   },
   "outputs": [
    {
     "name": "stdout",
     "output_type": "stream",
     "text": [
      "Mean: 0.9381397813558578 Std: 0.22633092139606995\n"
     ]
    }
   ],
   "source": [
    "acc = [e[1] for e in evaluations]\n",
    "mean = np.mean(acc)\n",
    "std_dev = np.std(acc)\n",
    "print(f\"Mean: {mean} Std: {std_dev}\")"
   ]
  },
  {
   "cell_type": "code",
   "execution_count": 119,
   "id": "1f53d9a0",
   "metadata": {
    "scrolled": false
   },
   "outputs": [
    {
     "data": {
      "text/plain": [
       "dict_keys(['loss', 'mean_absolute_error', 'val_loss', 'val_mean_absolute_error'])"
      ]
     },
     "execution_count": 119,
     "metadata": {},
     "output_type": "execute_result"
    }
   ],
   "source": [
    "history[0].history.keys()"
   ]
  },
  {
   "cell_type": "code",
   "execution_count": 120,
   "id": "cbdff3d5",
   "metadata": {},
   "outputs": [],
   "source": [
    "j = 1"
   ]
  },
  {
   "cell_type": "code",
   "execution_count": 121,
   "id": "172f7606",
   "metadata": {},
   "outputs": [
    {
     "data": {
      "text/plain": [
       "(0, 20)"
      ]
     },
     "execution_count": 121,
     "metadata": {},
     "output_type": "execute_result"
    },
    {
     "data": {
      "image/png": "[encoded data removed]",
      "text/plain": [
       "<Figure size 432x288 with 1 Axes>"
      ]
     },
     "metadata": {
      "needs_background": "light"
     },
     "output_type": "display_data"
    }
   ],
   "source": [
    "plt.plot(history[j].history['loss'])\n",
    "plt.ylim(0,20)"
   ]
  },
  {
   "cell_type": "code",
   "execution_count": 122,
   "id": "08fddd0c",
   "metadata": {},
   "outputs": [
    {
     "data": {
      "text/plain": [
       "(0, 20)"
      ]
     },
     "execution_count": 122,
     "metadata": {},
     "output_type": "execute_result"
    },
    {
     "data": {
      "image/png": "[encoded data removed]",
      "text/plain": [
       "<Figure size 432x288 with 1 Axes>"
      ]
     },
     "metadata": {
      "needs_background": "light"
     },
     "output_type": "display_data"
    }
   ],
   "source": [
    "plt.plot(history[j].history['val_loss'])\n",
    "plt.ylim(0,20)"
   ]
  },
  {
   "cell_type": "code",
   "execution_count": 123,
   "id": "cb18235b",
   "metadata": {},
   "outputs": [
    {
     "data": {
      "text/plain": [
       "(0, 20)"
      ]
     },
     "execution_count": 123,
     "metadata": {},
     "output_type": "execute_result"
    },
    {
     "data": {
      "image/png": "[encoded data removed]",
      "text/plain": [
       "<Figure size 432x288 with 1 Axes>"
      ]
     },
     "metadata": {
      "needs_background": "light"
     },
     "output_type": "display_data"
    }
   ],
   "source": [
    "plt.plot(np.mean([history[i].history['loss'] for i in range(3)], axis = 0))\n",
    "plt.ylim(0,20)"
   ]
  },
  {
   "cell_type": "markdown",
   "id": "98bae432",
   "metadata": {},
   "source": [
    "### Retrain best module"
   ]
  },
  {
   "cell_type": "code",
   "execution_count": 102,
   "id": "1f9c177b",
   "metadata": {},
   "outputs": [],
   "source": [
    "model = model1()"
   ]
  },
  {
   "cell_type": "code",
   "execution_count": 103,
   "id": "5da0d1f8",
   "metadata": {},
   "outputs": [],
   "source": [
    "model.compile(\n",
    "    optimizer=keras.optimizers.Adam(learning_rate=0.0001),\n",
    "    loss=keras.losses.MeanSquaredError(name=\"mean_squared_error\"),\n",
    "    metrics=[tf.keras.metrics.mean_absolute_error])"
   ]
  },
  {
   "cell_type": "code",
   "execution_count": 104,
   "id": "3132bb09",
   "metadata": {
    "scrolled": true
   },
   "outputs": [
    {
     "name": "stdout",
     "output_type": "stream",
     "text": [
      "Epoch 1/40\n",
      "30/30 [==============================] - 1s 19ms/step - loss: 8.1788 - mean_absolute_error: 2.0019\n",
      "Epoch 2/40\n",
      "30/30 [==============================] - 1s 20ms/step - loss: 3.0548 - mean_absolute_error: 1.2278\n",
      "Epoch 3/40\n",
      "30/30 [==============================] - 1s 19ms/step - loss: 3.0962 - mean_absolute_error: 1.2035\n",
      "Epoch 4/40\n",
      "30/30 [==============================] - 1s 19ms/step - loss: 2.7599 - mean_absolute_error: 1.1639\n",
      "Epoch 5/40\n",
      "30/30 [==============================] - 1s 19ms/step - loss: 3.3859 - mean_absolute_error: 1.3846\n",
      "Epoch 6/40\n",
      "30/30 [==============================] - 1s 19ms/step - loss: 2.5518 - mean_absolute_error: 1.0875\n",
      "Epoch 7/40\n",
      "30/30 [==============================] - 1s 19ms/step - loss: 2.0603 - mean_absolute_error: 0.9472\n",
      "Epoch 8/40\n",
      "30/30 [==============================] - 1s 19ms/step - loss: 2.3586 - mean_absolute_error: 1.0925\n",
      "Epoch 9/40\n",
      "30/30 [==============================] - 1s 19ms/step - loss: 1.9698 - mean_absolute_error: 0.9647\n",
      "Epoch 10/40\n",
      "30/30 [==============================] - 1s 19ms/step - loss: 1.9545 - mean_absolute_error: 0.9789\n",
      "Epoch 11/40\n",
      "30/30 [==============================] - 1s 19ms/step - loss: 2.2686 - mean_absolute_error: 1.0798\n",
      "Epoch 12/40\n",
      "30/30 [==============================] - 1s 19ms/step - loss: 2.4934 - mean_absolute_error: 1.1519\n",
      "Epoch 13/40\n",
      "30/30 [==============================] - 1s 19ms/step - loss: 2.2722 - mean_absolute_error: 1.0800\n",
      "Epoch 14/40\n",
      "30/30 [==============================] - 1s 19ms/step - loss: 1.7815 - mean_absolute_error: 0.9152\n",
      "Epoch 15/40\n",
      "30/30 [==============================] - 1s 19ms/step - loss: 2.0409 - mean_absolute_error: 1.0287\n",
      "Epoch 16/40\n",
      "30/30 [==============================] - 1s 19ms/step - loss: 2.2480 - mean_absolute_error: 1.0937\n",
      "Epoch 17/40\n",
      "30/30 [==============================] - 1s 20ms/step - loss: 2.2445 - mean_absolute_error: 1.1233\n",
      "Epoch 18/40\n",
      "30/30 [==============================] - 1s 19ms/step - loss: 2.1036 - mean_absolute_error: 1.0200\n",
      "Epoch 19/40\n",
      "30/30 [==============================] - 1s 19ms/step - loss: 1.8193 - mean_absolute_error: 0.9910\n",
      "Epoch 20/40\n",
      "30/30 [==============================] - 1s 19ms/step - loss: 1.7643 - mean_absolute_error: 0.9364\n",
      "Epoch 21/40\n",
      "30/30 [==============================] - 1s 20ms/step - loss: 1.6576 - mean_absolute_error: 0.9353\n",
      "Epoch 22/40\n",
      "30/30 [==============================] - 1s 19ms/step - loss: 1.4398 - mean_absolute_error: 0.7824\n",
      "Epoch 23/40\n",
      "30/30 [==============================] - 1s 19ms/step - loss: 1.4761 - mean_absolute_error: 0.8554\n",
      "Epoch 24/40\n",
      "30/30 [==============================] - 1s 20ms/step - loss: 1.3580 - mean_absolute_error: 0.8046\n",
      "Epoch 25/40\n",
      "30/30 [==============================] - 1s 20ms/step - loss: 1.3662 - mean_absolute_error: 0.8095\n",
      "Epoch 26/40\n",
      "30/30 [==============================] - 1s 19ms/step - loss: 1.3328 - mean_absolute_error: 0.7889\n",
      "Epoch 27/40\n",
      "30/30 [==============================] - 1s 20ms/step - loss: 1.4967 - mean_absolute_error: 0.8990\n",
      "Epoch 28/40\n",
      "30/30 [==============================] - 1s 20ms/step - loss: 1.5788 - mean_absolute_error: 0.8899\n",
      "Epoch 29/40\n",
      "30/30 [==============================] - 1s 19ms/step - loss: 1.6943 - mean_absolute_error: 0.9534\n",
      "Epoch 30/40\n",
      "30/30 [==============================] - 1s 20ms/step - loss: 1.3137 - mean_absolute_error: 0.7772\n",
      "Epoch 31/40\n",
      "30/30 [==============================] - 1s 19ms/step - loss: 1.3331 - mean_absolute_error: 0.8187\n",
      "Epoch 32/40\n",
      "30/30 [==============================] - 1s 19ms/step - loss: 1.2857 - mean_absolute_error: 0.8056\n",
      "Epoch 33/40\n",
      "30/30 [==============================] - 1s 19ms/step - loss: 1.2486 - mean_absolute_error: 0.7746\n",
      "Epoch 34/40\n",
      "30/30 [==============================] - 1s 19ms/step - loss: 1.4285 - mean_absolute_error: 0.8693\n",
      "Epoch 35/40\n",
      "30/30 [==============================] - 1s 19ms/step - loss: 1.2722 - mean_absolute_error: 0.7982\n",
      "Epoch 36/40\n",
      "30/30 [==============================] - 1s 19ms/step - loss: 1.1310 - mean_absolute_error: 0.7373\n",
      "Epoch 37/40\n",
      "30/30 [==============================] - 1s 19ms/step - loss: 1.2773 - mean_absolute_error: 0.7694\n",
      "Epoch 38/40\n",
      "30/30 [==============================] - 1s 19ms/step - loss: 1.4104 - mean_absolute_error: 0.8562\n",
      "Epoch 39/40\n",
      "30/30 [==============================] - 1s 20ms/step - loss: 1.3755 - mean_absolute_error: 0.8286\n",
      "Epoch 40/40\n",
      "30/30 [==============================] - 1s 19ms/step - loss: 1.1915 - mean_absolute_error: 0.7486\n"
     ]
    }
   ],
   "source": [
    "history = model.fit(\n",
    "    train_feature,\n",
    "    train_label,\n",
    "    batch_size=5,\n",
    "    epochs=40\n",
    "    )"
   ]
  },
  {
   "cell_type": "code",
   "execution_count": 117,
   "id": "f64f4dd5",
   "metadata": {},
   "outputs": [
    {
     "ename": "AttributeError",
     "evalue": "'list' object has no attribute 'history'",
     "output_type": "error",
     "traceback": [
      "\u001b[0;31m---------------------------------------------------------------------------\u001b[0m",
      "\u001b[0;31mAttributeError\u001b[0m                            Traceback (most recent call last)",
      "Input \u001b[0;32mIn [117]\u001b[0m, in \u001b[0;36m<cell line: 1>\u001b[0;34m()\u001b[0m\n\u001b[0;32m----> 1\u001b[0m \u001b[38;5;28;01mfor\u001b[39;00m i, key \u001b[38;5;129;01min\u001b[39;00m \u001b[38;5;28menumerate\u001b[39m(\u001b[43mhistory\u001b[49m\u001b[38;5;241;43m.\u001b[39;49m\u001b[43mhistory\u001b[49m\u001b[38;5;241m.\u001b[39mkeys()):\n\u001b[1;32m      2\u001b[0m     plt\u001b[38;5;241m.\u001b[39msubplot(\u001b[38;5;241m2\u001b[39m, \u001b[38;5;241m3\u001b[39m, i\u001b[38;5;241m+\u001b[39m\u001b[38;5;241m1\u001b[39m)\n\u001b[1;32m      3\u001b[0m     plt\u001b[38;5;241m.\u001b[39mplot(history\u001b[38;5;241m.\u001b[39mhistory[key])\n",
      "\u001b[0;31mAttributeError\u001b[0m: 'list' object has no attribute 'history'"
     ]
    }
   ],
   "source": [
    "for i, key in enumerate(history.history.keys()):\n",
    "    plt.subplot(2, 3, i+1)\n",
    "    plt.plot(history.history[key])\n",
    "    plt.title(key)\n",
    "    plt.ylim(0, 3)\n",
    "    plt.xlabel(\"Epochs\")"
   ]
  },
  {
   "cell_type": "code",
   "execution_count": 106,
   "id": "5559c503",
   "metadata": {
    "scrolled": true
   },
   "outputs": [
    {
     "name": "stdout",
     "output_type": "stream",
     "text": [
      "3/3 [==============================] - 0s 6ms/step - loss: 2.6107 - mean_absolute_error: 1.1161\n"
     ]
    },
    {
     "data": {
      "text/plain": [
       "[2.610706329345703, 1.1160955429077148]"
      ]
     },
     "execution_count": 106,
     "metadata": {},
     "output_type": "execute_result"
    }
   ],
   "source": [
    "model.evaluate(test_feature, test_label)"
   ]
  },
  {
   "cell_type": "markdown",
   "id": "4e525b50",
   "metadata": {},
   "source": [
    "## Observe model behavior"
   ]
  },
  {
   "cell_type": "code",
   "execution_count": 144,
   "id": "f0135b5a",
   "metadata": {},
   "outputs": [],
   "source": [
    "def plot_against(model, test_feature, test_label):\n",
    "    predicted = model.predict(test_feature)\n",
    "    plt.scatter(test_label, predicted, marker='o')\n",
    "    plt.plot([0,12],[0,12])\n",
    "    plt.xlim(2, 8)\n",
    "    plt.ylim(2, 8)"
   ]
  },
  {
   "cell_type": "code",
   "execution_count": 145,
   "id": "024cd2f7",
   "metadata": {},
   "outputs": [
    {
     "data": {
      "image/png": "[encoded data removed]",
      "text/plain": [
       "<Figure size 432x288 with 1 Axes>"
      ]
     },
     "metadata": {
      "needs_background": "light"
     },
     "output_type": "display_data"
    }
   ],
   "source": [
    "plot_against(model, test_feature, test_label)"
   ]
  },
  {
   "cell_type": "code",
   "execution_count": 148,
   "id": "369461e0",
   "metadata": {},
   "outputs": [],
   "source": [
    "def plot_against(model, test_feature, test_label):\n",
    "    predicted = model.predict(test_feature)\n",
    "    plt.scatter(test_label, predicted, marker='o')\n",
    "    plt.plot([0,12], [np.mean(train_label), np.mean(train_label)])\n",
    "    plt.plot([0,12],[0,12])"
   ]
  },
  {
   "cell_type": "code",
   "execution_count": 149,
   "id": "878e43f9",
   "metadata": {
    "scrolled": false
   },
   "outputs": [
    {
     "data": {
      "image/png": "[encoded data removed]",
      "text/plain": [
       "<Figure size 432x288 with 1 Axes>"
      ]
     },
     "metadata": {
      "needs_background": "light"
     },
     "output_type": "display_data"
    }
   ],
   "source": [
    "plot_against(model, test_feature, test_label)"
   ]
  },
  {
   "cell_type": "markdown",
   "id": "82e5662c",
   "metadata": {},
   "source": [
    "## Save model"
   ]
  },
  {
   "cell_type": "code",
   "execution_count": 3,
   "id": "4acbf368",
   "metadata": {},
   "outputs": [
    {
     "ename": "NameError",
     "evalue": "name 'model' is not defined",
     "output_type": "error",
     "traceback": [
      "\u001b[0;31m---------------------------------------------------------------------------\u001b[0m",
      "\u001b[0;31mNameError\u001b[0m                                 Traceback (most recent call last)",
      "Input \u001b[0;32mIn [3]\u001b[0m, in \u001b[0;36m<cell line: 2>\u001b[0;34m()\u001b[0m\n\u001b[1;32m      1\u001b[0m save_path \u001b[38;5;241m=\u001b[39m os\u001b[38;5;241m.\u001b[39mpath\u001b[38;5;241m.\u001b[39mjoin(storage_path, \u001b[38;5;124m\"\u001b[39m\u001b[38;5;124mmodels\u001b[39m\u001b[38;5;124m\"\u001b[39m, \u001b[38;5;124m\"\u001b[39m\u001b[38;5;124mmodel_test\u001b[39m\u001b[38;5;124m\"\u001b[39m)\n\u001b[0;32m----> 2\u001b[0m \u001b[43mmodel\u001b[49m\u001b[38;5;241m.\u001b[39msave(save_path)\n",
      "\u001b[0;31mNameError\u001b[0m: name 'model' is not defined"
     ]
    }
   ],
   "source": [
    "save_path = os.path.join(storage_path, \"models\", \"model_test\")\n",
    "model.save(save_path)"
   ]
  },
  {
   "cell_type": "markdown",
   "id": "54b770d9",
   "metadata": {},
   "source": [
    "### Fetching the model"
   ]
  },
  {
   "cell_type": "code",
   "execution_count": 4,
   "id": "8dba5c53",
   "metadata": {},
   "outputs": [],
   "source": [
    "model_ = keras.models.load_model(save_path)"
   ]
  },
  {
   "cell_type": "code",
   "execution_count": 5,
   "id": "b8cfe87c",
   "metadata": {},
   "outputs": [
    {
     "name": "stdout",
     "output_type": "stream",
     "text": [
      "Model: \"model_26\"\n",
      "_________________________________________________________________\n",
      " Layer (type)                Output Shape              Param #   \n",
      "=================================================================\n",
      " input_29 (InputLayer)       [(None, 120, 1)]          0         \n",
      "                                                                 \n",
      " rescaling_26 (Rescaling)    (None, 120, 1)            0         \n",
      "                                                                 \n",
      " conv1 (Conv1D)              (None, 37, 300)           3900      \n",
      "                                                                 \n",
      " conv2 (Conv1D)              (None, 10, 320)           768320    \n",
      "                                                                 \n",
      " flatten_26 (Flatten)        (None, 3200)              0         \n",
      "                                                                 \n",
      " dense1 (Dense)              (None, 340)               1088340   \n",
      "                                                                 \n",
      " dense2 (Dense)              (None, 220)               75020     \n",
      "                                                                 \n",
      " dense_26 (Dense)            (None, 1)                 221       \n",
      "                                                                 \n",
      "=================================================================\n",
      "Total params: 1,935,801\n",
      "Trainable params: 1,935,801\n",
      "Non-trainable params: 0\n",
      "_________________________________________________________________\n"
     ]
    }
   ],
   "source": [
    "model_.summary()"
   ]
  },
  {
   "cell_type": "markdown",
   "id": "66ba8df2",
   "metadata": {},
   "source": [
    "# Brouillon"
   ]
  },
  {
   "cell_type": "code",
   "execution_count": null,
   "id": "dff0a542",
   "metadata": {},
   "outputs": [],
   "source": [
    "from sklearn.model_selection import GridSearchCV\n",
    "from sklearn.neural_network import MLPRegressor\n",
    "\n",
    "param_grid = [\n",
    "  {'hidden_layer_sizes': [ (50,), (100,), (20,20,20), (100, 100), (100, 100, 20), (10, 10), (30, 30, 20)], \n",
    "   'learning_rate_init':[0.001, 0.01],\n",
    "   'alpha': [0.1, 0.01, 0.001, 0.0001, 0.00001],\n",
    "  }\n",
    " ]\n",
    "print(param_grid)\n",
    "\n",
    "# Cross-validation grid-search (for finding best possible accuracy)\n",
    "clf = GridSearchCV(MLPRegressor(max_iter = 800,\n",
    "                     early_stopping=True, \n",
    "                     n_iter_no_change = 10,\n",
    "                     learning_rate_init = 0.0001,\n",
    "                     alpha = 0.0001,\n",
    "                     batch_size = 50,\n",
    "                     hidden_layer_sizes=(40,40),\n",
    "                     validation_fraction = 0.2,\n",
    "                     random_state = 39,\n",
    "                     verbose = 2), param_grid = param_grid, cv=3, scoring='neg_mean_squared_error')\n",
    "\n",
    "clf.fit(X_train, y_train)"
   ]
  },
  {
   "cell_type": "code",
   "execution_count": null,
   "id": "3d580132",
   "metadata": {},
   "outputs": [],
   "source": [
    "from sklearn.model_selection import KFold\n",
    "\n",
    "n_split=3\n",
    "\n",
    "for train_index, test_index in KFold(n_split).split(X):\n",
    "    x_train,x_test=X[train_index],X[test_index]\n",
    "    y_train,y_test=Y[train_index],Y[test_index]\n",
    "\n",
    "    model=create_model()\n",
    "    model.fit(x_train, y_train,epochs=20)\n",
    "\n",
    "    print('Model evaluation ',model.evaluate(x_test,y_test))"
   ]
  },
  {
   "cell_type": "code",
   "execution_count": 94,
   "id": "ebc96738",
   "metadata": {
    "scrolled": true
   },
   "outputs": [
    {
     "data": {
      "text/plain": [
       "<generator object _BaseKFold.split at 0x7f6f829a92e0>"
      ]
     },
     "execution_count": 94,
     "metadata": {},
     "output_type": "execute_result"
    }
   ],
   "source": [
    "from sklearn.model_selection import KFold\n",
    "KFold(3).split([1, 2, 3])"
   ]
  }
 ],
 "metadata": {
  "kernelspec": {
   "display_name": "Python 3 (ipykernel)",
   "language": "python",
   "name": "python3"
  },
  "language_info": {
   "codemirror_mode": {
    "name": "ipython",
    "version": 3
   },
   "file_extension": ".py",
   "mimetype": "text/x-python",
   "name": "python",
   "nbconvert_exporter": "python",
   "pygments_lexer": "ipython3",
   "version": "3.8.10"
  }
 },
 "nbformat": 4,
 "nbformat_minor": 5
}

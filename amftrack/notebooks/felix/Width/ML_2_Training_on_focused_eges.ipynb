{
 "cells": [
  {
   "cell_type": "markdown",
   "id": "8d0a1043",
   "metadata": {},
   "source": [
    "# Stats"
   ]
  },
  {
   "cell_type": "markdown",
   "id": "ac1ff9f6",
   "metadata": {},
   "source": [
    "TODO:\n",
    "OUTSIDE NOTEBOOK\n",
    "- label more points\n",
    "- save masks"
   ]
  },
  {
   "cell_type": "markdown",
   "id": "8568ae76",
   "metadata": {},
   "source": [
    "## Setup"
   ]
  },
  {
   "cell_type": "markdown",
   "id": "c47e2905",
   "metadata": {},
   "source": [
    "### Imports"
   ]
  },
  {
   "cell_type": "code",
   "execution_count": 106,
   "id": "8ce21bf6",
   "metadata": {},
   "outputs": [],
   "source": [
    "import os\n",
    "import matplotlib.pyplot as plt\n",
    "import random\n",
    "import imageio\n",
    "import numpy as np\n",
    "from amftrack.util.sys import storage_path"
   ]
  },
  {
   "cell_type": "code",
   "execution_count": 107,
   "id": "7e5d9e3c",
   "metadata": {},
   "outputs": [],
   "source": [
    "path = os.path.join(storage_path, \"test_precise_1\")\n",
    "im_path = os.path.join(path, \"slices.png\")\n",
    "label_path = os.path.join(path, \"labels.npy\")"
   ]
  },
  {
   "cell_type": "code",
   "execution_count": 108,
   "id": "cab14b2e",
   "metadata": {},
   "outputs": [
    {
     "name": "stdout",
     "output_type": "stream",
     "text": [
      "(224, 120)\n"
     ]
    }
   ],
   "source": [
    "im = imageio.imread(im_path)\n",
    "print(im.shape)"
   ]
  },
  {
   "cell_type": "code",
   "execution_count": 109,
   "id": "8c26d17c",
   "metadata": {},
   "outputs": [
    {
     "name": "stdout",
     "output_type": "stream",
     "text": [
      "(224,)\n"
     ]
    }
   ],
   "source": [
    "with open(label_path, 'rb') as f:\n",
    "    label = np.load(f)\n",
    "print(label.shape)"
   ]
  },
  {
   "cell_type": "code",
   "execution_count": 110,
   "id": "c568feb6",
   "metadata": {},
   "outputs": [],
   "source": [
    "label = np. expand_dims(label, axis =1)"
   ]
  },
  {
   "cell_type": "code",
   "execution_count": 111,
   "id": "9d530f01",
   "metadata": {},
   "outputs": [
    {
     "data": {
      "text/plain": [
       "(224, 1)"
      ]
     },
     "execution_count": 111,
     "metadata": {},
     "output_type": "execute_result"
    }
   ],
   "source": [
    "label.shape"
   ]
  },
  {
   "cell_type": "markdown",
   "id": "b26c2475",
   "metadata": {},
   "source": [
    "## Visualisation"
   ]
  },
  {
   "cell_type": "markdown",
   "id": "0732b011",
   "metadata": {},
   "source": [
    "### Big edge"
   ]
  },
  {
   "cell_type": "code",
   "execution_count": 124,
   "id": "5a8a0447",
   "metadata": {},
   "outputs": [],
   "source": [
    "i = 68"
   ]
  },
  {
   "cell_type": "code",
   "execution_count": 125,
   "id": "197fd5be",
   "metadata": {
    "scrolled": true
   },
   "outputs": [
    {
     "data": {
      "text/plain": [
       "[<matplotlib.lines.Line2D at 0x7f1ece70b820>]"
      ]
     },
     "execution_count": 125,
     "metadata": {},
     "output_type": "execute_result"
    },
    {
     "data": {
      "image/png": "[encoded data removed]",
      "text/plain": [
       "<Figure size 432x288 with 1 Axes>"
      ]
     },
     "metadata": {
      "needs_background": "light"
     },
     "output_type": "display_data"
    }
   ],
   "source": [
    "plt.plot(im[i,:])"
   ]
  },
  {
   "cell_type": "code",
   "execution_count": 123,
   "id": "a27e66af",
   "metadata": {},
   "outputs": [
    {
     "data": {
      "text/plain": [
       "array([12.41270832])"
      ]
     },
     "execution_count": 123,
     "metadata": {},
     "output_type": "execute_result"
    }
   ],
   "source": [
    "label[i,:]"
   ]
  },
  {
   "cell_type": "markdown",
   "id": "24e5acb2",
   "metadata": {},
   "source": [
    "### Medium edge"
   ]
  },
  {
   "cell_type": "code",
   "execution_count": 128,
   "id": "58b3fb4b",
   "metadata": {},
   "outputs": [],
   "source": [
    "i = 12"
   ]
  },
  {
   "cell_type": "code",
   "execution_count": 129,
   "id": "50d7672a",
   "metadata": {
    "scrolled": true
   },
   "outputs": [
    {
     "data": {
      "text/plain": [
       "[<matplotlib.lines.Line2D at 0x7f1ece6b1af0>]"
      ]
     },
     "execution_count": 129,
     "metadata": {},
     "output_type": "execute_result"
    },
    {
     "data": {
      "image/png": "[encoded data removed]",
      "text/plain": [
       "<Figure size 432x288 with 1 Axes>"
      ]
     },
     "metadata": {
      "needs_background": "light"
     },
     "output_type": "display_data"
    }
   ],
   "source": [
    "plt.plot(im[i,:])"
   ]
  },
  {
   "cell_type": "code",
   "execution_count": 130,
   "id": "16f37136",
   "metadata": {},
   "outputs": [
    {
     "data": {
      "text/plain": [
       "array([5.69865969])"
      ]
     },
     "execution_count": 130,
     "metadata": {},
     "output_type": "execute_result"
    }
   ],
   "source": [
    "label[i,:]"
   ]
  },
  {
   "cell_type": "markdown",
   "id": "f7f5a0b2",
   "metadata": {},
   "source": [
    "### Small edge"
   ]
  },
  {
   "cell_type": "code",
   "execution_count": 131,
   "id": "3af0edfc",
   "metadata": {},
   "outputs": [],
   "source": [
    "i = 200"
   ]
  },
  {
   "cell_type": "code",
   "execution_count": 132,
   "id": "b56cd4f3",
   "metadata": {
    "scrolled": true
   },
   "outputs": [
    {
     "data": {
      "text/plain": [
       "[<matplotlib.lines.Line2D at 0x7f1ece602d60>]"
      ]
     },
     "execution_count": 132,
     "metadata": {},
     "output_type": "execute_result"
    },
    {
     "data": {
      "image/png": "[encoded data removed]",
      "text/plain": [
       "<Figure size 432x288 with 1 Axes>"
      ]
     },
     "metadata": {
      "needs_background": "light"
     },
     "output_type": "display_data"
    }
   ],
   "source": [
    "plt.plot(im[i,:])"
   ]
  },
  {
   "cell_type": "code",
   "execution_count": 133,
   "id": "f3ecb435",
   "metadata": {},
   "outputs": [
    {
     "data": {
      "text/plain": [
       "array([3.34934415])"
      ]
     },
     "execution_count": 133,
     "metadata": {},
     "output_type": "execute_result"
    }
   ],
   "source": [
    "label[i,:]"
   ]
  },
  {
   "cell_type": "markdown",
   "id": "5b4d5dd1",
   "metadata": {},
   "source": [
    "## Data preparation"
   ]
  },
  {
   "cell_type": "code",
   "execution_count": 134,
   "id": "f63dcead",
   "metadata": {},
   "outputs": [],
   "source": [
    "np.random.seed(11)"
   ]
  },
  {
   "cell_type": "code",
   "execution_count": 135,
   "id": "e406ed5e",
   "metadata": {
    "scrolled": true
   },
   "outputs": [],
   "source": [
    "p = np.random.permutation(224)"
   ]
  },
  {
   "cell_type": "code",
   "execution_count": 137,
   "id": "0f67c50d",
   "metadata": {},
   "outputs": [
    {
     "name": "stdout",
     "output_type": "stream",
     "text": [
      "150\n",
      "74\n"
     ]
    }
   ],
   "source": [
    "training = p[:150]\n",
    "test = p[150:]\n",
    "print(len(training))\n",
    "print(len(test))"
   ]
  },
  {
   "cell_type": "code",
   "execution_count": 138,
   "id": "f2101f09",
   "metadata": {},
   "outputs": [],
   "source": [
    "train_feature = im[training, :]\n",
    "train_label = label[training,0]\n",
    "test_feature = im[test, :]\n",
    "test_label = label[test, :]"
   ]
  },
  {
   "cell_type": "code",
   "execution_count": 139,
   "id": "aeb87d01",
   "metadata": {},
   "outputs": [
    {
     "data": {
      "text/plain": [
       "(74, 120)"
      ]
     },
     "execution_count": 139,
     "metadata": {},
     "output_type": "execute_result"
    }
   ],
   "source": [
    "test_feature.shape"
   ]
  },
  {
   "cell_type": "markdown",
   "id": "202a5180",
   "metadata": {},
   "source": [
    "## Baseline"
   ]
  },
  {
   "cell_type": "code",
   "execution_count": 140,
   "id": "528e0ee5",
   "metadata": {},
   "outputs": [],
   "source": [
    "mean = np.mean(train_label)\n",
    "final_score = np.mean(np.abs(test_label-mean))"
   ]
  },
  {
   "cell_type": "code",
   "execution_count": 141,
   "id": "b23584c8",
   "metadata": {},
   "outputs": [
    {
     "data": {
      "text/plain": [
       "1.5074212494126962"
      ]
     },
     "execution_count": 141,
     "metadata": {},
     "output_type": "execute_result"
    }
   ],
   "source": [
    "final_score"
   ]
  },
  {
   "cell_type": "markdown",
   "id": "7034b5d4",
   "metadata": {},
   "source": [
    "## First model"
   ]
  },
  {
   "cell_type": "code",
   "execution_count": 143,
   "id": "c90abc2f",
   "metadata": {},
   "outputs": [],
   "source": [
    "from amftrack.ml.width.models import first_model\n",
    "from amftrack.ml.width.data_augmentation import data_augmentation\n",
    "import tensorflow as tf\n",
    "from tensorflow import keras\n",
    "from tensorflow.keras import regularizers"
   ]
  },
  {
   "cell_type": "code",
   "execution_count": 144,
   "id": "c7612211",
   "metadata": {},
   "outputs": [],
   "source": [
    "def model1():\n",
    "    input = keras.Input(shape=(120, 1))\n",
    "    scaling = keras.layers.Rescaling(1.0 / 122 - 1.)(input)\n",
    "    conv1 = keras.layers.Conv1D(\n",
    "        filters=640, kernel_size=12, strides=3, activation=\"relu\", name=\"conv1\", kernel_regularizer=regularizers.L1L2(l1=1e-5, l2=1e-4),\n",
    "    )(scaling)\n",
    "    conv2 = keras.layers.Conv1D(\n",
    "        filters=320,\n",
    "        kernel_size=3,\n",
    "        strides=3,\n",
    "        activation=\"relu\",\n",
    "        name=\"conv2\",\n",
    "        kernel_regularizer=regularizers.L1L2(l1=1e-5, l2=1e-4)\n",
    "    )(conv1)\n",
    "    flatten = tf.keras.layers.Flatten()(conv2)\n",
    "    dense1 = keras.layers.Dense(640, activation=\"relu\", name=\"dense1\", kernel_regularizer=regularizers.L1L2(l1=1e-5, l2=1e-4))(flatten)\n",
    "    dense2 = keras.layers.Dense(320, activation=\"relu\", name=\"dense2\")(dense1)\n",
    "    output = keras.layers.Dense(1, activation=None)(dense2)\n",
    "    model = keras.Model(inputs=input, outputs=output)\n",
    "    return model"
   ]
  },
  {
   "cell_type": "code",
   "execution_count": 147,
   "id": "1f9c177b",
   "metadata": {},
   "outputs": [],
   "source": [
    "model = model1()"
   ]
  },
  {
   "cell_type": "code",
   "execution_count": 148,
   "id": "7e4606c1",
   "metadata": {},
   "outputs": [
    {
     "name": "stdout",
     "output_type": "stream",
     "text": [
      "Model: \"model_1\"\n",
      "_________________________________________________________________\n",
      " Layer (type)                Output Shape              Param #   \n",
      "=================================================================\n",
      " input_4 (InputLayer)        [(None, 120, 1)]          0         \n",
      "                                                                 \n",
      " rescaling_1 (Rescaling)     (None, 120, 1)            0         \n",
      "                                                                 \n",
      " conv1 (Conv1D)              (None, 37, 640)           8320      \n",
      "                                                                 \n",
      " conv2 (Conv1D)              (None, 12, 320)           614720    \n",
      "                                                                 \n",
      " flatten_1 (Flatten)         (None, 3840)              0         \n",
      "                                                                 \n",
      " dense1 (Dense)              (None, 640)               2458240   \n",
      "                                                                 \n",
      " dense2 (Dense)              (None, 320)               205120    \n",
      "                                                                 \n",
      " dense_1 (Dense)             (None, 1)                 321       \n",
      "                                                                 \n",
      "=================================================================\n",
      "Total params: 3,286,721\n",
      "Trainable params: 3,286,721\n",
      "Non-trainable params: 0\n",
      "_________________________________________________________________\n"
     ]
    }
   ],
   "source": [
    "model.summary()"
   ]
  },
  {
   "cell_type": "markdown",
   "id": "26e8c29a",
   "metadata": {},
   "source": [
    "### Training"
   ]
  },
  {
   "cell_type": "code",
   "execution_count": 149,
   "id": "5da0d1f8",
   "metadata": {},
   "outputs": [],
   "source": [
    "model.compile(\n",
    "    optimizer=keras.optimizers.Adam(learning_rate=0.0001),\n",
    "    loss=keras.losses.MeanSquaredError(name=\"mean_squared_error\"),\n",
    "    metrics=[tf.keras.metrics.mean_absolute_error])"
   ]
  },
  {
   "cell_type": "code",
   "execution_count": 159,
   "id": "3132bb09",
   "metadata": {
    "scrolled": true
   },
   "outputs": [
    {
     "name": "stdout",
     "output_type": "stream",
     "text": [
      "Epoch 1/60\n",
      "16/16 [==============================] - 1s 41ms/step - loss: 1.0283 - mean_absolute_error: 0.6580 - val_loss: 1.0111 - val_mean_absolute_error: 0.6576\n",
      "Epoch 2/60\n",
      "16/16 [==============================] - 1s 34ms/step - loss: 1.2011 - mean_absolute_error: 0.7523 - val_loss: 0.8402 - val_mean_absolute_error: 0.6007\n",
      "Epoch 3/60\n",
      "16/16 [==============================] - 1s 36ms/step - loss: 1.0667 - mean_absolute_error: 0.6970 - val_loss: 1.0960 - val_mean_absolute_error: 0.7762\n",
      "Epoch 4/60\n",
      "16/16 [==============================] - 1s 38ms/step - loss: 1.3400 - mean_absolute_error: 0.8003 - val_loss: 1.3544 - val_mean_absolute_error: 0.9257\n",
      "Epoch 5/60\n",
      "16/16 [==============================] - 1s 37ms/step - loss: 1.0431 - mean_absolute_error: 0.6885 - val_loss: 1.0237 - val_mean_absolute_error: 0.7442\n",
      "Epoch 6/60\n",
      "16/16 [==============================] - 1s 34ms/step - loss: 1.1285 - mean_absolute_error: 0.7216 - val_loss: 0.9505 - val_mean_absolute_error: 0.6369\n",
      "Epoch 7/60\n",
      "16/16 [==============================] - 1s 34ms/step - loss: 0.9187 - mean_absolute_error: 0.6267 - val_loss: 1.0221 - val_mean_absolute_error: 0.7170\n",
      "Epoch 8/60\n",
      "16/16 [==============================] - 1s 34ms/step - loss: 1.0637 - mean_absolute_error: 0.6741 - val_loss: 0.9019 - val_mean_absolute_error: 0.6020\n",
      "Epoch 9/60\n",
      "16/16 [==============================] - 1s 39ms/step - loss: 1.0486 - mean_absolute_error: 0.6636 - val_loss: 0.9483 - val_mean_absolute_error: 0.5910\n",
      "Epoch 10/60\n",
      "16/16 [==============================] - 1s 38ms/step - loss: 0.8181 - mean_absolute_error: 0.5777 - val_loss: 1.0007 - val_mean_absolute_error: 0.6885\n",
      "Epoch 11/60\n",
      "16/16 [==============================] - 1s 36ms/step - loss: 0.8505 - mean_absolute_error: 0.5612 - val_loss: 0.9952 - val_mean_absolute_error: 0.6124\n",
      "Epoch 12/60\n",
      "16/16 [==============================] - 1s 37ms/step - loss: 0.8349 - mean_absolute_error: 0.6035 - val_loss: 1.1597 - val_mean_absolute_error: 0.8124\n",
      "Epoch 13/60\n",
      "16/16 [==============================] - 1s 35ms/step - loss: 0.8087 - mean_absolute_error: 0.5951 - val_loss: 1.4968 - val_mean_absolute_error: 1.0086\n",
      "Epoch 14/60\n",
      "16/16 [==============================] - 1s 34ms/step - loss: 1.3266 - mean_absolute_error: 0.7502 - val_loss: 1.1305 - val_mean_absolute_error: 0.6506\n",
      "Epoch 15/60\n",
      "16/16 [==============================] - 1s 37ms/step - loss: 1.1159 - mean_absolute_error: 0.7254 - val_loss: 0.9211 - val_mean_absolute_error: 0.6009\n",
      "Epoch 16/60\n",
      "16/16 [==============================] - 1s 35ms/step - loss: 0.8725 - mean_absolute_error: 0.6149 - val_loss: 1.4007 - val_mean_absolute_error: 0.9518\n",
      "Epoch 17/60\n",
      "16/16 [==============================] - 1s 34ms/step - loss: 1.0031 - mean_absolute_error: 0.6529 - val_loss: 1.0559 - val_mean_absolute_error: 0.6226\n",
      "Epoch 18/60\n",
      "16/16 [==============================] - 1s 34ms/step - loss: 1.1288 - mean_absolute_error: 0.7539 - val_loss: 1.0262 - val_mean_absolute_error: 0.7331\n",
      "Epoch 19/60\n",
      "16/16 [==============================] - 1s 34ms/step - loss: 1.1559 - mean_absolute_error: 0.7532 - val_loss: 1.2149 - val_mean_absolute_error: 0.8296\n",
      "Epoch 20/60\n",
      "16/16 [==============================] - 1s 35ms/step - loss: 0.8996 - mean_absolute_error: 0.6199 - val_loss: 1.0447 - val_mean_absolute_error: 0.7044\n",
      "Epoch 21/60\n",
      "16/16 [==============================] - 1s 35ms/step - loss: 1.0708 - mean_absolute_error: 0.7139 - val_loss: 1.2394 - val_mean_absolute_error: 0.8378\n",
      "Epoch 22/60\n",
      "16/16 [==============================] - 1s 35ms/step - loss: 0.8853 - mean_absolute_error: 0.6095 - val_loss: 1.0397 - val_mean_absolute_error: 0.6386\n",
      "Epoch 23/60\n",
      "16/16 [==============================] - 1s 34ms/step - loss: 0.8302 - mean_absolute_error: 0.5955 - val_loss: 1.1238 - val_mean_absolute_error: 0.7147\n",
      "Epoch 24/60\n",
      "16/16 [==============================] - 1s 35ms/step - loss: 0.9460 - mean_absolute_error: 0.6531 - val_loss: 1.8668 - val_mean_absolute_error: 0.9456\n",
      "Epoch 25/60\n",
      "16/16 [==============================] - 1s 35ms/step - loss: 1.3101 - mean_absolute_error: 0.8506 - val_loss: 0.9413 - val_mean_absolute_error: 0.6667\n",
      "Epoch 26/60\n",
      "16/16 [==============================] - 1s 34ms/step - loss: 1.0130 - mean_absolute_error: 0.6758 - val_loss: 1.4245 - val_mean_absolute_error: 0.9420\n",
      "Epoch 27/60\n",
      "16/16 [==============================] - 1s 34ms/step - loss: 0.8660 - mean_absolute_error: 0.5862 - val_loss: 1.2286 - val_mean_absolute_error: 0.8142\n",
      "Epoch 28/60\n",
      "16/16 [==============================] - 1s 34ms/step - loss: 0.8585 - mean_absolute_error: 0.5953 - val_loss: 1.0810 - val_mean_absolute_error: 0.6544\n",
      "Epoch 29/60\n",
      "16/16 [==============================] - 1s 34ms/step - loss: 0.8632 - mean_absolute_error: 0.5857 - val_loss: 1.1000 - val_mean_absolute_error: 0.7265\n",
      "Epoch 30/60\n",
      "16/16 [==============================] - 1s 34ms/step - loss: 0.8253 - mean_absolute_error: 0.5911 - val_loss: 1.0609 - val_mean_absolute_error: 0.7097\n",
      "Epoch 31/60\n",
      "16/16 [==============================] - 1s 34ms/step - loss: 1.0068 - mean_absolute_error: 0.6414 - val_loss: 1.4651 - val_mean_absolute_error: 0.7517\n",
      "Epoch 32/60\n",
      "16/16 [==============================] - 1s 35ms/step - loss: 0.9051 - mean_absolute_error: 0.6170 - val_loss: 1.0881 - val_mean_absolute_error: 0.7338\n",
      "Epoch 33/60\n",
      "16/16 [==============================] - 1s 36ms/step - loss: 0.9005 - mean_absolute_error: 0.5926 - val_loss: 1.1150 - val_mean_absolute_error: 0.7498\n",
      "Epoch 34/60\n",
      "16/16 [==============================] - 1s 35ms/step - loss: 0.7923 - mean_absolute_error: 0.5710 - val_loss: 1.0925 - val_mean_absolute_error: 0.7464\n",
      "Epoch 35/60\n",
      "16/16 [==============================] - 1s 40ms/step - loss: 0.7454 - mean_absolute_error: 0.5445 - val_loss: 1.1697 - val_mean_absolute_error: 0.7423\n",
      "Epoch 36/60\n",
      "16/16 [==============================] - 1s 36ms/step - loss: 0.8497 - mean_absolute_error: 0.5815 - val_loss: 1.1189 - val_mean_absolute_error: 0.7495\n",
      "Epoch 37/60\n",
      "16/16 [==============================] - 1s 33ms/step - loss: 0.8025 - mean_absolute_error: 0.5772 - val_loss: 1.0307 - val_mean_absolute_error: 0.6652\n",
      "Epoch 38/60\n",
      "16/16 [==============================] - 1s 34ms/step - loss: 0.7736 - mean_absolute_error: 0.5417 - val_loss: 1.2069 - val_mean_absolute_error: 0.6821\n",
      "Epoch 39/60\n",
      "16/16 [==============================] - 1s 34ms/step - loss: 0.8924 - mean_absolute_error: 0.5846 - val_loss: 1.2126 - val_mean_absolute_error: 0.7891\n",
      "Epoch 40/60\n",
      "16/16 [==============================] - 1s 34ms/step - loss: 0.7723 - mean_absolute_error: 0.5273 - val_loss: 1.1364 - val_mean_absolute_error: 0.6964\n",
      "Epoch 41/60\n",
      "16/16 [==============================] - 1s 34ms/step - loss: 0.8227 - mean_absolute_error: 0.5611 - val_loss: 1.0567 - val_mean_absolute_error: 0.6931\n",
      "Epoch 42/60\n",
      "16/16 [==============================] - 1s 34ms/step - loss: 0.7143 - mean_absolute_error: 0.5232 - val_loss: 1.3572 - val_mean_absolute_error: 0.7313\n",
      "Epoch 43/60\n",
      "16/16 [==============================] - 1s 34ms/step - loss: 0.7800 - mean_absolute_error: 0.5484 - val_loss: 1.0665 - val_mean_absolute_error: 0.7041\n",
      "Epoch 44/60\n",
      "16/16 [==============================] - 1s 34ms/step - loss: 0.9038 - mean_absolute_error: 0.6368 - val_loss: 1.3441 - val_mean_absolute_error: 0.8835\n",
      "Epoch 45/60\n",
      "16/16 [==============================] - 1s 34ms/step - loss: 0.7339 - mean_absolute_error: 0.5605 - val_loss: 1.1460 - val_mean_absolute_error: 0.7098\n",
      "Epoch 46/60\n",
      "16/16 [==============================] - 1s 34ms/step - loss: 0.7810 - mean_absolute_error: 0.5638 - val_loss: 1.0432 - val_mean_absolute_error: 0.6872\n",
      "Epoch 47/60\n",
      "16/16 [==============================] - 1s 34ms/step - loss: 0.6743 - mean_absolute_error: 0.4975 - val_loss: 1.1227 - val_mean_absolute_error: 0.7066\n",
      "Epoch 48/60\n",
      "16/16 [==============================] - 1s 34ms/step - loss: 0.8040 - mean_absolute_error: 0.5544 - val_loss: 1.1514 - val_mean_absolute_error: 0.7290\n",
      "Epoch 49/60\n",
      "16/16 [==============================] - 1s 34ms/step - loss: 0.7048 - mean_absolute_error: 0.5201 - val_loss: 1.0398 - val_mean_absolute_error: 0.6773\n",
      "Epoch 50/60\n",
      "16/16 [==============================] - 1s 33ms/step - loss: 0.6620 - mean_absolute_error: 0.4716 - val_loss: 1.1685 - val_mean_absolute_error: 0.7310\n",
      "Epoch 51/60\n"
     ]
    },
    {
     "name": "stdout",
     "output_type": "stream",
     "text": [
      "16/16 [==============================] - 1s 34ms/step - loss: 0.7958 - mean_absolute_error: 0.5781 - val_loss: 1.2192 - val_mean_absolute_error: 0.6607\n",
      "Epoch 52/60\n",
      "16/16 [==============================] - 1s 34ms/step - loss: 0.7536 - mean_absolute_error: 0.5480 - val_loss: 2.0588 - val_mean_absolute_error: 1.2076\n",
      "Epoch 53/60\n",
      "16/16 [==============================] - 1s 34ms/step - loss: 0.8606 - mean_absolute_error: 0.6155 - val_loss: 1.0064 - val_mean_absolute_error: 0.6562\n",
      "Epoch 54/60\n",
      "16/16 [==============================] - 1s 39ms/step - loss: 0.7267 - mean_absolute_error: 0.5334 - val_loss: 1.1525 - val_mean_absolute_error: 0.7151\n",
      "Epoch 55/60\n",
      "16/16 [==============================] - 1s 41ms/step - loss: 0.6989 - mean_absolute_error: 0.5099 - val_loss: 1.0707 - val_mean_absolute_error: 0.6834\n",
      "Epoch 56/60\n",
      "16/16 [==============================] - 1s 35ms/step - loss: 0.8114 - mean_absolute_error: 0.5590 - val_loss: 1.2253 - val_mean_absolute_error: 0.7540\n",
      "Epoch 57/60\n",
      "16/16 [==============================] - 1s 36ms/step - loss: 0.7246 - mean_absolute_error: 0.5059 - val_loss: 1.2212 - val_mean_absolute_error: 0.7302\n",
      "Epoch 58/60\n",
      "16/16 [==============================] - 1s 39ms/step - loss: 0.7870 - mean_absolute_error: 0.5506 - val_loss: 1.0560 - val_mean_absolute_error: 0.6601\n",
      "Epoch 59/60\n",
      "16/16 [==============================] - 1s 37ms/step - loss: 0.8031 - mean_absolute_error: 0.5538 - val_loss: 1.2128 - val_mean_absolute_error: 0.8057\n",
      "Epoch 60/60\n",
      "16/16 [==============================] - 1s 32ms/step - loss: 0.6917 - mean_absolute_error: 0.4892 - val_loss: 1.3432 - val_mean_absolute_error: 0.8817\n"
     ]
    }
   ],
   "source": [
    "history = model.fit(\n",
    "    train_feature,\n",
    "    train_label,\n",
    "    batch_size=5,\n",
    "    epochs=60,\n",
    "    validation_split = 0.2\n",
    "    )"
   ]
  },
  {
   "cell_type": "code",
   "execution_count": 153,
   "id": "f64f4dd5",
   "metadata": {},
   "outputs": [
    {
     "data": {
      "image/png": "[encoded data removed]",
      "text/plain": [
       "<Figure size 432x288 with 2 Axes>"
      ]
     },
     "metadata": {
      "needs_background": "light"
     },
     "output_type": "display_data"
    }
   ],
   "source": [
    "for i, key in enumerate(history.history.keys()):\n",
    "    plt.subplot(2, 3, i+1)\n",
    "    plt.plot(history.history[key])\n",
    "    plt.title(key)\n",
    "    plt.ylim(0, 3)\n",
    "    plt.xlabel(\"Epochs\")"
   ]
  },
  {
   "cell_type": "code",
   "execution_count": 154,
   "id": "5559c503",
   "metadata": {},
   "outputs": [
    {
     "name": "stdout",
     "output_type": "stream",
     "text": [
      "3/3 [==============================] - 0s 9ms/step - loss: 2.7546 - mean_absolute_error: 1.0736\n"
     ]
    },
    {
     "data": {
      "text/plain": [
       "[2.754633665084839, 1.0736197233200073]"
      ]
     },
     "execution_count": 154,
     "metadata": {},
     "output_type": "execute_result"
    }
   ],
   "source": [
    "model.evaluate(test_feature, test_label)"
   ]
  },
  {
   "cell_type": "markdown",
   "id": "6d6b447c",
   "metadata": {},
   "source": [
    "## Cross validation"
   ]
  },
  {
   "cell_type": "code",
   "execution_count": 155,
   "id": "e0ab4cc9",
   "metadata": {
    "scrolled": true
   },
   "outputs": [
    {
     "name": "stdout",
     "output_type": "stream",
     "text": [
      "Epoch 1/100\n",
      "20/20 [==============================] - 1s 44ms/step - loss: 46.0064 - mean_absolute_error: 4.7939 - val_loss: 13.5095 - val_mean_absolute_error: 2.1414\n",
      "Epoch 2/100\n",
      "20/20 [==============================] - 1s 35ms/step - loss: 5.4947 - mean_absolute_error: 1.6915 - val_loss: 11.6056 - val_mean_absolute_error: 1.8720\n",
      "Epoch 3/100\n",
      "20/20 [==============================] - 1s 35ms/step - loss: 5.4123 - mean_absolute_error: 1.7301 - val_loss: 9.7375 - val_mean_absolute_error: 2.4435\n",
      "Epoch 4/100\n",
      "20/20 [==============================] - 1s 35ms/step - loss: 3.9016 - mean_absolute_error: 1.3551 - val_loss: 13.8373 - val_mean_absolute_error: 3.3271\n",
      "Epoch 5/100\n",
      "20/20 [==============================] - 1s 35ms/step - loss: 4.3427 - mean_absolute_error: 1.4590 - val_loss: 9.7535 - val_mean_absolute_error: 2.5842\n",
      "Epoch 6/100\n",
      "20/20 [==============================] - 1s 35ms/step - loss: 4.5026 - mean_absolute_error: 1.5604 - val_loss: 8.7792 - val_mean_absolute_error: 1.6504\n",
      "Epoch 7/100\n",
      "20/20 [==============================] - 1s 35ms/step - loss: 4.0537 - mean_absolute_error: 1.4835 - val_loss: 8.7046 - val_mean_absolute_error: 1.5876\n",
      "Epoch 8/100\n",
      "20/20 [==============================] - 1s 35ms/step - loss: 3.4411 - mean_absolute_error: 1.2940 - val_loss: 7.9822 - val_mean_absolute_error: 2.0402\n",
      "Epoch 9/100\n",
      "20/20 [==============================] - 1s 35ms/step - loss: 3.1050 - mean_absolute_error: 1.2454 - val_loss: 10.6251 - val_mean_absolute_error: 1.8631\n",
      "Epoch 10/100\n",
      "20/20 [==============================] - 1s 34ms/step - loss: 3.8968 - mean_absolute_error: 1.4251 - val_loss: 7.6362 - val_mean_absolute_error: 1.6795\n",
      "Epoch 11/100\n",
      "20/20 [==============================] - 1s 35ms/step - loss: 2.7862 - mean_absolute_error: 1.1400 - val_loss: 7.9982 - val_mean_absolute_error: 2.2421\n",
      "Epoch 12/100\n",
      "20/20 [==============================] - 1s 35ms/step - loss: 2.5414 - mean_absolute_error: 1.0728 - val_loss: 7.2600 - val_mean_absolute_error: 2.0440\n",
      "Epoch 13/100\n",
      "20/20 [==============================] - 1s 38ms/step - loss: 2.5842 - mean_absolute_error: 1.1067 - val_loss: 6.8291 - val_mean_absolute_error: 1.8690\n",
      "Epoch 14/100\n",
      "20/20 [==============================] - 1s 38ms/step - loss: 2.4554 - mean_absolute_error: 1.0634 - val_loss: 6.8783 - val_mean_absolute_error: 1.9546\n",
      "Epoch 15/100\n",
      "20/20 [==============================] - 1s 36ms/step - loss: 2.1975 - mean_absolute_error: 0.9708 - val_loss: 6.4690 - val_mean_absolute_error: 1.6216\n",
      "Epoch 16/100\n",
      "20/20 [==============================] - 1s 36ms/step - loss: 2.2757 - mean_absolute_error: 1.0053 - val_loss: 6.5447 - val_mean_absolute_error: 1.7757\n",
      "Epoch 17/100\n",
      "20/20 [==============================] - 1s 37ms/step - loss: 2.1279 - mean_absolute_error: 1.0165 - val_loss: 6.6925 - val_mean_absolute_error: 1.9782\n",
      "Epoch 18/100\n",
      "20/20 [==============================] - 1s 37ms/step - loss: 2.2574 - mean_absolute_error: 1.0530 - val_loss: 7.4734 - val_mean_absolute_error: 2.2572\n",
      "Epoch 19/100\n",
      "20/20 [==============================] - 1s 35ms/step - loss: 2.0652 - mean_absolute_error: 1.0012 - val_loss: 7.5656 - val_mean_absolute_error: 2.3177\n",
      "Epoch 20/100\n",
      "20/20 [==============================] - 1s 38ms/step - loss: 2.0817 - mean_absolute_error: 0.9905 - val_loss: 7.3779 - val_mean_absolute_error: 1.4517\n",
      "Epoch 21/100\n",
      "20/20 [==============================] - 1s 35ms/step - loss: 2.5568 - mean_absolute_error: 1.1753 - val_loss: 6.5687 - val_mean_absolute_error: 1.9415\n",
      "Epoch 22/100\n",
      "20/20 [==============================] - 1s 37ms/step - loss: 1.8001 - mean_absolute_error: 0.9061 - val_loss: 6.2377 - val_mean_absolute_error: 1.3816\n",
      "Epoch 23/100\n",
      "20/20 [==============================] - 1s 35ms/step - loss: 1.5707 - mean_absolute_error: 0.8538 - val_loss: 5.9672 - val_mean_absolute_error: 1.7095\n",
      "Epoch 24/100\n",
      "20/20 [==============================] - 1s 35ms/step - loss: 1.7430 - mean_absolute_error: 0.8941 - val_loss: 6.0284 - val_mean_absolute_error: 1.8171\n",
      "Epoch 25/100\n",
      "20/20 [==============================] - 1s 35ms/step - loss: 1.8403 - mean_absolute_error: 0.9705 - val_loss: 6.5010 - val_mean_absolute_error: 1.3682\n",
      "Epoch 26/100\n",
      "20/20 [==============================] - 1s 35ms/step - loss: 1.5627 - mean_absolute_error: 0.8364 - val_loss: 6.0384 - val_mean_absolute_error: 1.5713\n",
      "Epoch 27/100\n",
      "20/20 [==============================] - 1s 36ms/step - loss: 1.5555 - mean_absolute_error: 0.8530 - val_loss: 5.6049 - val_mean_absolute_error: 1.5709\n",
      "Epoch 28/100\n",
      "20/20 [==============================] - 1s 39ms/step - loss: 1.3210 - mean_absolute_error: 0.7562 - val_loss: 5.8073 - val_mean_absolute_error: 1.5571\n",
      "Epoch 29/100\n",
      "20/20 [==============================] - 1s 38ms/step - loss: 1.6866 - mean_absolute_error: 0.8699 - val_loss: 5.7196 - val_mean_absolute_error: 1.3764\n",
      "Epoch 30/100\n",
      "20/20 [==============================] - 1s 40ms/step - loss: 1.2857 - mean_absolute_error: 0.7814 - val_loss: 6.3353 - val_mean_absolute_error: 1.3609\n",
      "Epoch 31/100\n",
      "20/20 [==============================] - 1s 40ms/step - loss: 1.2291 - mean_absolute_error: 0.7644 - val_loss: 5.7641 - val_mean_absolute_error: 1.6547\n",
      "Epoch 32/100\n",
      "20/20 [==============================] - 1s 38ms/step - loss: 1.2803 - mean_absolute_error: 0.7459 - val_loss: 6.2077 - val_mean_absolute_error: 1.8207\n",
      "Epoch 33/100\n",
      "20/20 [==============================] - 1s 39ms/step - loss: 1.2334 - mean_absolute_error: 0.7908 - val_loss: 5.6112 - val_mean_absolute_error: 1.3867\n",
      "Epoch 34/100\n",
      "20/20 [==============================] - 1s 39ms/step - loss: 1.0732 - mean_absolute_error: 0.6451 - val_loss: 5.5140 - val_mean_absolute_error: 1.5095\n",
      "Epoch 35/100\n",
      "20/20 [==============================] - 1s 38ms/step - loss: 1.2301 - mean_absolute_error: 0.7331 - val_loss: 6.0453 - val_mean_absolute_error: 1.5024\n",
      "Epoch 36/100\n",
      "20/20 [==============================] - 1s 35ms/step - loss: 1.3298 - mean_absolute_error: 0.7897 - val_loss: 6.8769 - val_mean_absolute_error: 2.0874\n",
      "Epoch 37/100\n",
      "20/20 [==============================] - 1s 35ms/step - loss: 1.1260 - mean_absolute_error: 0.7112 - val_loss: 6.2663 - val_mean_absolute_error: 1.4641\n",
      "Epoch 38/100\n",
      "20/20 [==============================] - 1s 38ms/step - loss: 1.2136 - mean_absolute_error: 0.7715 - val_loss: 6.3692 - val_mean_absolute_error: 1.4035\n",
      "Epoch 39/100\n",
      "20/20 [==============================] - 1s 36ms/step - loss: 0.9686 - mean_absolute_error: 0.6236 - val_loss: 6.3358 - val_mean_absolute_error: 1.5890\n",
      "Epoch 40/100\n",
      "20/20 [==============================] - 1s 40ms/step - loss: 1.0215 - mean_absolute_error: 0.6861 - val_loss: 6.6331 - val_mean_absolute_error: 1.4782\n",
      "Epoch 41/100\n",
      "20/20 [==============================] - 1s 40ms/step - loss: 1.1443 - mean_absolute_error: 0.7528 - val_loss: 8.0503 - val_mean_absolute_error: 1.5486\n",
      "Epoch 42/100\n",
      "20/20 [==============================] - 1s 37ms/step - loss: 1.0850 - mean_absolute_error: 0.6908 - val_loss: 6.6579 - val_mean_absolute_error: 1.4943\n",
      "Epoch 43/100\n",
      "20/20 [==============================] - 1s 41ms/step - loss: 1.1063 - mean_absolute_error: 0.7232 - val_loss: 6.8057 - val_mean_absolute_error: 1.4150\n",
      "Epoch 44/100\n",
      "20/20 [==============================] - 1s 37ms/step - loss: 1.2012 - mean_absolute_error: 0.7260 - val_loss: 6.5106 - val_mean_absolute_error: 1.6501\n",
      "Epoch 45/100\n",
      "20/20 [==============================] - 1s 38ms/step - loss: 0.9776 - mean_absolute_error: 0.6665 - val_loss: 6.6851 - val_mean_absolute_error: 1.7669\n",
      "Epoch 46/100\n",
      "20/20 [==============================] - 1s 37ms/step - loss: 0.9275 - mean_absolute_error: 0.5861 - val_loss: 6.8987 - val_mean_absolute_error: 1.8238\n",
      "Epoch 47/100\n",
      "20/20 [==============================] - 1s 38ms/step - loss: 0.8963 - mean_absolute_error: 0.6104 - val_loss: 6.6868 - val_mean_absolute_error: 1.6468\n",
      "Epoch 48/100\n",
      "20/20 [==============================] - 1s 37ms/step - loss: 0.9470 - mean_absolute_error: 0.6490 - val_loss: 7.0140 - val_mean_absolute_error: 1.4618\n",
      "Epoch 49/100\n",
      "20/20 [==============================] - 1s 35ms/step - loss: 0.9771 - mean_absolute_error: 0.6405 - val_loss: 6.6004 - val_mean_absolute_error: 1.6303\n",
      "Epoch 50/100\n",
      "20/20 [==============================] - 1s 36ms/step - loss: 1.0499 - mean_absolute_error: 0.7035 - val_loss: 6.8477 - val_mean_absolute_error: 1.8174\n"
     ]
    },
    {
     "name": "stdout",
     "output_type": "stream",
     "text": [
      "Epoch 51/100\n",
      "20/20 [==============================] - 1s 35ms/step - loss: 1.0598 - mean_absolute_error: 0.6931 - val_loss: 6.6705 - val_mean_absolute_error: 1.7941\n",
      "Epoch 52/100\n",
      "20/20 [==============================] - 1s 36ms/step - loss: 0.9413 - mean_absolute_error: 0.6262 - val_loss: 7.2806 - val_mean_absolute_error: 1.5027\n",
      "Epoch 53/100\n",
      "20/20 [==============================] - 1s 35ms/step - loss: 1.0039 - mean_absolute_error: 0.6719 - val_loss: 7.2150 - val_mean_absolute_error: 1.4920\n",
      "Epoch 54/100\n",
      "20/20 [==============================] - 1s 38ms/step - loss: 1.2457 - mean_absolute_error: 0.8061 - val_loss: 7.4865 - val_mean_absolute_error: 1.6591\n",
      "Epoch 55/100\n",
      "20/20 [==============================] - 1s 45ms/step - loss: 1.0285 - mean_absolute_error: 0.6701 - val_loss: 6.8658 - val_mean_absolute_error: 1.7426\n",
      "Epoch 56/100\n",
      "20/20 [==============================] - 1s 43ms/step - loss: 0.9212 - mean_absolute_error: 0.6157 - val_loss: 7.4228 - val_mean_absolute_error: 1.8587\n",
      "Epoch 57/100\n",
      "20/20 [==============================] - 1s 43ms/step - loss: 1.0159 - mean_absolute_error: 0.6897 - val_loss: 7.7132 - val_mean_absolute_error: 1.5974\n",
      "Epoch 58/100\n",
      "20/20 [==============================] - 1s 42ms/step - loss: 0.8962 - mean_absolute_error: 0.6043 - val_loss: 7.7879 - val_mean_absolute_error: 2.0760\n",
      "Epoch 59/100\n",
      "20/20 [==============================] - 1s 43ms/step - loss: 0.9652 - mean_absolute_error: 0.6486 - val_loss: 7.4572 - val_mean_absolute_error: 1.7040\n",
      "Epoch 60/100\n",
      "20/20 [==============================] - 1s 41ms/step - loss: 0.7667 - mean_absolute_error: 0.5229 - val_loss: 7.2949 - val_mean_absolute_error: 1.7573\n",
      "Epoch 61/100\n",
      "20/20 [==============================] - 1s 34ms/step - loss: 0.7693 - mean_absolute_error: 0.5509 - val_loss: 7.4767 - val_mean_absolute_error: 1.8354\n",
      "Epoch 62/100\n",
      "20/20 [==============================] - 1s 33ms/step - loss: 0.9043 - mean_absolute_error: 0.6261 - val_loss: 7.4979 - val_mean_absolute_error: 1.8165\n",
      "Epoch 63/100\n",
      "20/20 [==============================] - 1s 39ms/step - loss: 0.8766 - mean_absolute_error: 0.6060 - val_loss: 7.3613 - val_mean_absolute_error: 1.7393\n",
      "Epoch 64/100\n",
      "20/20 [==============================] - 1s 37ms/step - loss: 0.8563 - mean_absolute_error: 0.5609 - val_loss: 7.6422 - val_mean_absolute_error: 1.7687\n",
      "Epoch 65/100\n",
      "20/20 [==============================] - 1s 37ms/step - loss: 0.8736 - mean_absolute_error: 0.5941 - val_loss: 7.4505 - val_mean_absolute_error: 1.6661\n",
      "Epoch 66/100\n",
      "20/20 [==============================] - 1s 39ms/step - loss: 0.8252 - mean_absolute_error: 0.5465 - val_loss: 7.4801 - val_mean_absolute_error: 1.8125\n",
      "Epoch 67/100\n",
      "20/20 [==============================] - 1s 37ms/step - loss: 0.9763 - mean_absolute_error: 0.6567 - val_loss: 8.8990 - val_mean_absolute_error: 1.6100\n",
      "Epoch 68/100\n",
      "20/20 [==============================] - 1s 40ms/step - loss: 0.8755 - mean_absolute_error: 0.6136 - val_loss: 7.5963 - val_mean_absolute_error: 1.7788\n",
      "Epoch 69/100\n",
      "20/20 [==============================] - 1s 33ms/step - loss: 0.7831 - mean_absolute_error: 0.5666 - val_loss: 7.6267 - val_mean_absolute_error: 1.6167\n",
      "Epoch 70/100\n",
      "20/20 [==============================] - 1s 37ms/step - loss: 0.8644 - mean_absolute_error: 0.6161 - val_loss: 7.9103 - val_mean_absolute_error: 1.6887\n",
      "Epoch 71/100\n",
      "20/20 [==============================] - 1s 35ms/step - loss: 1.0460 - mean_absolute_error: 0.6943 - val_loss: 8.0347 - val_mean_absolute_error: 1.5791\n",
      "Epoch 72/100\n",
      "20/20 [==============================] - 1s 42ms/step - loss: 0.8646 - mean_absolute_error: 0.5895 - val_loss: 7.3086 - val_mean_absolute_error: 1.6732\n",
      "Epoch 73/100\n",
      "20/20 [==============================] - 1s 43ms/step - loss: 0.7923 - mean_absolute_error: 0.5623 - val_loss: 8.2497 - val_mean_absolute_error: 1.8003\n",
      "Epoch 74/100\n",
      "20/20 [==============================] - 1s 34ms/step - loss: 0.8855 - mean_absolute_error: 0.6192 - val_loss: 9.0577 - val_mean_absolute_error: 1.5906\n",
      "Epoch 75/100\n",
      "20/20 [==============================] - 1s 33ms/step - loss: 1.2828 - mean_absolute_error: 0.8512 - val_loss: 8.4252 - val_mean_absolute_error: 1.5654\n",
      "Epoch 76/100\n",
      "20/20 [==============================] - 1s 42ms/step - loss: 0.8912 - mean_absolute_error: 0.5989 - val_loss: 7.4338 - val_mean_absolute_error: 1.5478\n",
      "Epoch 77/100\n",
      "20/20 [==============================] - 1s 36ms/step - loss: 0.8819 - mean_absolute_error: 0.5949 - val_loss: 7.9926 - val_mean_absolute_error: 1.5592\n",
      "Epoch 78/100\n",
      "20/20 [==============================] - 1s 35ms/step - loss: 1.1662 - mean_absolute_error: 0.7862 - val_loss: 8.0299 - val_mean_absolute_error: 1.5759\n",
      "Epoch 79/100\n",
      "20/20 [==============================] - 1s 35ms/step - loss: 0.9361 - mean_absolute_error: 0.6511 - val_loss: 8.3310 - val_mean_absolute_error: 1.6075\n",
      "Epoch 80/100\n",
      "20/20 [==============================] - 1s 38ms/step - loss: 0.9087 - mean_absolute_error: 0.6109 - val_loss: 8.5485 - val_mean_absolute_error: 1.5897\n",
      "Epoch 81/100\n",
      "20/20 [==============================] - 1s 37ms/step - loss: 0.9956 - mean_absolute_error: 0.6424 - val_loss: 7.7356 - val_mean_absolute_error: 1.7169\n",
      "Epoch 82/100\n",
      "20/20 [==============================] - 1s 34ms/step - loss: 0.7865 - mean_absolute_error: 0.5489 - val_loss: 8.2290 - val_mean_absolute_error: 1.6838\n",
      "Epoch 83/100\n",
      "20/20 [==============================] - 1s 34ms/step - loss: 0.7133 - mean_absolute_error: 0.5026 - val_loss: 8.2121 - val_mean_absolute_error: 1.6169\n",
      "Epoch 84/100\n",
      "20/20 [==============================] - 1s 33ms/step - loss: 0.7742 - mean_absolute_error: 0.5250 - val_loss: 7.9538 - val_mean_absolute_error: 1.7233\n",
      "Epoch 85/100\n",
      "20/20 [==============================] - 1s 36ms/step - loss: 0.7049 - mean_absolute_error: 0.4908 - val_loss: 8.5237 - val_mean_absolute_error: 1.7180\n",
      "Epoch 86/100\n",
      "20/20 [==============================] - 1s 36ms/step - loss: 0.8088 - mean_absolute_error: 0.5539 - val_loss: 8.0144 - val_mean_absolute_error: 1.7793\n",
      "Epoch 87/100\n",
      "20/20 [==============================] - 1s 37ms/step - loss: 0.6928 - mean_absolute_error: 0.4823 - val_loss: 8.8122 - val_mean_absolute_error: 1.6166\n",
      "Epoch 88/100\n",
      "20/20 [==============================] - 1s 34ms/step - loss: 0.7895 - mean_absolute_error: 0.5388 - val_loss: 8.0934 - val_mean_absolute_error: 1.8593\n",
      "Epoch 89/100\n",
      "20/20 [==============================] - 1s 37ms/step - loss: 0.7915 - mean_absolute_error: 0.5361 - val_loss: 8.0350 - val_mean_absolute_error: 1.6730\n",
      "Epoch 90/100\n",
      "20/20 [==============================] - 1s 36ms/step - loss: 0.7748 - mean_absolute_error: 0.5491 - val_loss: 8.4013 - val_mean_absolute_error: 1.7047\n",
      "Epoch 91/100\n",
      "20/20 [==============================] - 1s 34ms/step - loss: 0.9450 - mean_absolute_error: 0.6349 - val_loss: 7.5002 - val_mean_absolute_error: 1.7291\n",
      "Epoch 92/100\n",
      "20/20 [==============================] - 1s 33ms/step - loss: 0.7631 - mean_absolute_error: 0.5342 - val_loss: 7.9419 - val_mean_absolute_error: 1.7392\n",
      "Epoch 93/100\n",
      "20/20 [==============================] - 1s 36ms/step - loss: 0.8184 - mean_absolute_error: 0.5448 - val_loss: 8.3079 - val_mean_absolute_error: 1.7553\n",
      "Epoch 94/100\n",
      "20/20 [==============================] - 1s 35ms/step - loss: 0.7636 - mean_absolute_error: 0.5703 - val_loss: 8.6871 - val_mean_absolute_error: 1.6168\n",
      "Epoch 95/100\n",
      "20/20 [==============================] - 1s 34ms/step - loss: 0.7769 - mean_absolute_error: 0.5384 - val_loss: 8.3268 - val_mean_absolute_error: 1.5842\n",
      "Epoch 96/100\n",
      "20/20 [==============================] - 1s 35ms/step - loss: 0.9761 - mean_absolute_error: 0.6353 - val_loss: 7.9820 - val_mean_absolute_error: 1.5680\n",
      "Epoch 97/100\n",
      "20/20 [==============================] - 1s 34ms/step - loss: 0.7617 - mean_absolute_error: 0.5412 - val_loss: 8.0474 - val_mean_absolute_error: 1.7164\n",
      "Epoch 98/100\n",
      "20/20 [==============================] - 1s 34ms/step - loss: 0.7040 - mean_absolute_error: 0.5033 - val_loss: 8.9470 - val_mean_absolute_error: 1.6290\n",
      "Epoch 99/100\n",
      "20/20 [==============================] - 1s 35ms/step - loss: 0.8123 - mean_absolute_error: 0.5659 - val_loss: 8.6736 - val_mean_absolute_error: 1.6085\n",
      "Epoch 100/100\n",
      "20/20 [==============================] - 1s 35ms/step - loss: 0.8433 - mean_absolute_error: 0.6019 - val_loss: 8.0965 - val_mean_absolute_error: 1.8132\n"
     ]
    },
    {
     "name": "stdout",
     "output_type": "stream",
     "text": [
      "3/3 [==============================] - 0s 10ms/step - loss: 4.4643 - mean_absolute_error: 1.0938\n",
      "Model evaluation  [4.464341640472412, 1.0938053131103516]\n",
      "Epoch 1/100\n",
      "20/20 [==============================] - 2s 49ms/step - loss: 42.9612 - mean_absolute_error: 4.7255 - val_loss: 9.1783 - val_mean_absolute_error: 2.5592\n",
      "Epoch 2/100\n",
      "20/20 [==============================] - 1s 36ms/step - loss: 6.3978 - mean_absolute_error: 1.7852 - val_loss: 5.9074 - val_mean_absolute_error: 1.5559\n",
      "Epoch 3/100\n",
      "20/20 [==============================] - 1s 42ms/step - loss: 5.1842 - mean_absolute_error: 1.5713 - val_loss: 6.6720 - val_mean_absolute_error: 1.7339\n",
      "Epoch 4/100\n",
      "20/20 [==============================] - 1s 45ms/step - loss: 4.9686 - mean_absolute_error: 1.5487 - val_loss: 8.1189 - val_mean_absolute_error: 2.0520\n",
      "Epoch 5/100\n",
      "20/20 [==============================] - 1s 46ms/step - loss: 4.3002 - mean_absolute_error: 1.5437 - val_loss: 5.7071 - val_mean_absolute_error: 1.4635\n",
      "Epoch 6/100\n",
      "20/20 [==============================] - 1s 43ms/step - loss: 2.7628 - mean_absolute_error: 1.1068 - val_loss: 4.7099 - val_mean_absolute_error: 1.2637\n",
      "Epoch 7/100\n",
      "20/20 [==============================] - 1s 40ms/step - loss: 3.2286 - mean_absolute_error: 1.2534 - val_loss: 4.2331 - val_mean_absolute_error: 1.2594\n",
      "Epoch 8/100\n",
      "20/20 [==============================] - 1s 40ms/step - loss: 2.5433 - mean_absolute_error: 1.0899 - val_loss: 5.9394 - val_mean_absolute_error: 1.5914\n",
      "Epoch 9/100\n",
      "20/20 [==============================] - 1s 42ms/step - loss: 2.5143 - mean_absolute_error: 1.0866 - val_loss: 4.4277 - val_mean_absolute_error: 1.4726\n",
      "Epoch 10/100\n",
      "20/20 [==============================] - 1s 40ms/step - loss: 3.2598 - mean_absolute_error: 1.3416 - val_loss: 4.7317 - val_mean_absolute_error: 1.2742\n",
      "Epoch 11/100\n",
      "20/20 [==============================] - 1s 39ms/step - loss: 2.4550 - mean_absolute_error: 1.1137 - val_loss: 4.0949 - val_mean_absolute_error: 1.2028\n",
      "Epoch 12/100\n",
      "20/20 [==============================] - 1s 42ms/step - loss: 2.6168 - mean_absolute_error: 1.1576 - val_loss: 5.5829 - val_mean_absolute_error: 1.5330\n",
      "Epoch 13/100\n",
      "20/20 [==============================] - 1s 40ms/step - loss: 3.3796 - mean_absolute_error: 1.3618 - val_loss: 4.6036 - val_mean_absolute_error: 1.6526\n",
      "Epoch 14/100\n",
      "20/20 [==============================] - 1s 34ms/step - loss: 6.2102 - mean_absolute_error: 1.9671 - val_loss: 3.9677 - val_mean_absolute_error: 1.2145\n",
      "Epoch 15/100\n",
      "20/20 [==============================] - 1s 35ms/step - loss: 2.9391 - mean_absolute_error: 1.2299 - val_loss: 4.1722 - val_mean_absolute_error: 1.2302\n",
      "Epoch 16/100\n",
      "20/20 [==============================] - 1s 35ms/step - loss: 2.2141 - mean_absolute_error: 1.1114 - val_loss: 4.7424 - val_mean_absolute_error: 1.6950\n",
      "Epoch 17/100\n",
      "20/20 [==============================] - 1s 35ms/step - loss: 2.7501 - mean_absolute_error: 1.2890 - val_loss: 4.0868 - val_mean_absolute_error: 1.2665\n",
      "Epoch 18/100\n",
      "20/20 [==============================] - 1s 34ms/step - loss: 2.2036 - mean_absolute_error: 1.0495 - val_loss: 5.1600 - val_mean_absolute_error: 1.4530\n",
      "Epoch 19/100\n",
      "20/20 [==============================] - 1s 35ms/step - loss: 1.8568 - mean_absolute_error: 0.9651 - val_loss: 3.7906 - val_mean_absolute_error: 1.2958\n",
      "Epoch 20/100\n",
      "20/20 [==============================] - 1s 35ms/step - loss: 2.6439 - mean_absolute_error: 1.1649 - val_loss: 4.6070 - val_mean_absolute_error: 1.3238\n",
      "Epoch 21/100\n",
      "20/20 [==============================] - 1s 34ms/step - loss: 2.3392 - mean_absolute_error: 1.0667 - val_loss: 3.6643 - val_mean_absolute_error: 1.1798\n",
      "Epoch 22/100\n",
      "20/20 [==============================] - 1s 34ms/step - loss: 2.0647 - mean_absolute_error: 1.0551 - val_loss: 7.0167 - val_mean_absolute_error: 1.9411\n",
      "Epoch 23/100\n",
      "20/20 [==============================] - 1s 34ms/step - loss: 2.2561 - mean_absolute_error: 1.1397 - val_loss: 8.8167 - val_mean_absolute_error: 2.3293\n",
      "Epoch 24/100\n",
      "20/20 [==============================] - 1s 35ms/step - loss: 2.4033 - mean_absolute_error: 1.0944 - val_loss: 6.0309 - val_mean_absolute_error: 1.7248\n",
      "Epoch 25/100\n",
      "20/20 [==============================] - 1s 36ms/step - loss: 1.9385 - mean_absolute_error: 1.0215 - val_loss: 5.9000 - val_mean_absolute_error: 1.6772\n",
      "Epoch 26/100\n",
      "20/20 [==============================] - 1s 38ms/step - loss: 1.7677 - mean_absolute_error: 0.9517 - val_loss: 3.8938 - val_mean_absolute_error: 1.1751\n",
      "Epoch 27/100\n",
      "20/20 [==============================] - 1s 33ms/step - loss: 1.9646 - mean_absolute_error: 1.0023 - val_loss: 4.2890 - val_mean_absolute_error: 1.2539\n",
      "Epoch 28/100\n",
      "20/20 [==============================] - 1s 33ms/step - loss: 1.6740 - mean_absolute_error: 0.9050 - val_loss: 5.7705 - val_mean_absolute_error: 1.6760\n",
      "Epoch 29/100\n",
      "20/20 [==============================] - 1s 34ms/step - loss: 2.1101 - mean_absolute_error: 1.0136 - val_loss: 4.4829 - val_mean_absolute_error: 1.2989\n",
      "Epoch 30/100\n",
      "20/20 [==============================] - 1s 34ms/step - loss: 1.6217 - mean_absolute_error: 0.8547 - val_loss: 6.3992 - val_mean_absolute_error: 1.8097\n",
      "Epoch 31/100\n",
      "20/20 [==============================] - 1s 33ms/step - loss: 1.5466 - mean_absolute_error: 0.9203 - val_loss: 3.9147 - val_mean_absolute_error: 1.1770\n",
      "Epoch 32/100\n",
      "20/20 [==============================] - 1s 33ms/step - loss: 1.3964 - mean_absolute_error: 0.7994 - val_loss: 6.4471 - val_mean_absolute_error: 1.8510\n",
      "Epoch 33/100\n",
      "20/20 [==============================] - 1s 33ms/step - loss: 1.8476 - mean_absolute_error: 0.9340 - val_loss: 3.9562 - val_mean_absolute_error: 1.1839\n",
      "Epoch 34/100\n",
      "20/20 [==============================] - 1s 33ms/step - loss: 1.3884 - mean_absolute_error: 0.7928 - val_loss: 3.3213 - val_mean_absolute_error: 1.1175\n",
      "Epoch 35/100\n",
      "20/20 [==============================] - 1s 33ms/step - loss: 1.3396 - mean_absolute_error: 0.7930 - val_loss: 3.4944 - val_mean_absolute_error: 1.1334\n",
      "Epoch 36/100\n",
      "20/20 [==============================] - 1s 33ms/step - loss: 1.5751 - mean_absolute_error: 0.8681 - val_loss: 4.0251 - val_mean_absolute_error: 1.2193\n",
      "Epoch 37/100\n",
      "20/20 [==============================] - 1s 33ms/step - loss: 1.4442 - mean_absolute_error: 0.8450 - val_loss: 5.9586 - val_mean_absolute_error: 1.7457\n",
      "Epoch 38/100\n",
      "20/20 [==============================] - 1s 33ms/step - loss: 1.5941 - mean_absolute_error: 0.8962 - val_loss: 3.8820 - val_mean_absolute_error: 1.1723\n",
      "Epoch 39/100\n",
      "20/20 [==============================] - 1s 33ms/step - loss: 1.5018 - mean_absolute_error: 0.8043 - val_loss: 3.8732 - val_mean_absolute_error: 1.1918\n",
      "Epoch 40/100\n",
      "20/20 [==============================] - 1s 33ms/step - loss: 1.4705 - mean_absolute_error: 0.8645 - val_loss: 3.5607 - val_mean_absolute_error: 1.1378\n",
      "Epoch 41/100\n",
      "20/20 [==============================] - 1s 33ms/step - loss: 1.4007 - mean_absolute_error: 0.7964 - val_loss: 3.1763 - val_mean_absolute_error: 1.1164\n",
      "Epoch 42/100\n",
      "20/20 [==============================] - 1s 33ms/step - loss: 1.4695 - mean_absolute_error: 0.8207 - val_loss: 5.3473 - val_mean_absolute_error: 1.5743\n",
      "Epoch 43/100\n",
      "20/20 [==============================] - 1s 33ms/step - loss: 1.5309 - mean_absolute_error: 0.8497 - val_loss: 4.8183 - val_mean_absolute_error: 1.3669\n",
      "Epoch 44/100\n",
      "20/20 [==============================] - 1s 33ms/step - loss: 1.7944 - mean_absolute_error: 0.8875 - val_loss: 4.4469 - val_mean_absolute_error: 1.2861\n",
      "Epoch 45/100\n",
      "20/20 [==============================] - 1s 33ms/step - loss: 1.5718 - mean_absolute_error: 0.8822 - val_loss: 4.6688 - val_mean_absolute_error: 1.3981\n",
      "Epoch 46/100\n",
      "20/20 [==============================] - 1s 33ms/step - loss: 1.3468 - mean_absolute_error: 0.7650 - val_loss: 4.0279 - val_mean_absolute_error: 1.2565\n",
      "Epoch 47/100\n",
      "20/20 [==============================] - 1s 33ms/step - loss: 1.3153 - mean_absolute_error: 0.7235 - val_loss: 3.4069 - val_mean_absolute_error: 1.1751\n",
      "Epoch 48/100\n",
      "20/20 [==============================] - 1s 33ms/step - loss: 1.6971 - mean_absolute_error: 0.9020 - val_loss: 3.4470 - val_mean_absolute_error: 1.1278\n",
      "Epoch 49/100\n",
      "20/20 [==============================] - 1s 33ms/step - loss: 1.3879 - mean_absolute_error: 0.8112 - val_loss: 4.9133 - val_mean_absolute_error: 1.4631\n"
     ]
    },
    {
     "name": "stdout",
     "output_type": "stream",
     "text": [
      "Epoch 50/100\n",
      "20/20 [==============================] - 1s 32ms/step - loss: 1.6782 - mean_absolute_error: 0.8078 - val_loss: 5.0559 - val_mean_absolute_error: 1.4581\n",
      "Epoch 51/100\n",
      "20/20 [==============================] - 1s 33ms/step - loss: 1.9267 - mean_absolute_error: 0.9713 - val_loss: 4.5771 - val_mean_absolute_error: 1.3780\n",
      "Epoch 52/100\n",
      "20/20 [==============================] - 1s 34ms/step - loss: 1.2703 - mean_absolute_error: 0.7637 - val_loss: 4.5291 - val_mean_absolute_error: 1.3438\n",
      "Epoch 53/100\n",
      "20/20 [==============================] - 1s 37ms/step - loss: 1.1661 - mean_absolute_error: 0.7039 - val_loss: 3.4538 - val_mean_absolute_error: 1.1395\n",
      "Epoch 54/100\n",
      "20/20 [==============================] - 1s 36ms/step - loss: 1.1478 - mean_absolute_error: 0.6849 - val_loss: 3.7555 - val_mean_absolute_error: 1.1785\n",
      "Epoch 55/100\n",
      "20/20 [==============================] - 1s 39ms/step - loss: 1.5564 - mean_absolute_error: 0.8772 - val_loss: 3.2185 - val_mean_absolute_error: 1.1541\n",
      "Epoch 56/100\n",
      "20/20 [==============================] - 1s 43ms/step - loss: 1.5972 - mean_absolute_error: 0.8759 - val_loss: 3.2686 - val_mean_absolute_error: 1.2437\n",
      "Epoch 57/100\n",
      "20/20 [==============================] - 1s 43ms/step - loss: 1.1732 - mean_absolute_error: 0.7300 - val_loss: 4.4034 - val_mean_absolute_error: 1.3715\n",
      "Epoch 58/100\n",
      "20/20 [==============================] - 1s 42ms/step - loss: 1.1589 - mean_absolute_error: 0.6989 - val_loss: 4.7230 - val_mean_absolute_error: 1.4399\n",
      "Epoch 59/100\n",
      "20/20 [==============================] - 1s 39ms/step - loss: 1.2155 - mean_absolute_error: 0.7409 - val_loss: 4.2426 - val_mean_absolute_error: 1.3434\n",
      "Epoch 60/100\n",
      "20/20 [==============================] - 1s 37ms/step - loss: 1.0165 - mean_absolute_error: 0.6226 - val_loss: 3.6435 - val_mean_absolute_error: 1.2127\n",
      "Epoch 61/100\n",
      "20/20 [==============================] - 1s 40ms/step - loss: 1.1658 - mean_absolute_error: 0.7049 - val_loss: 3.1572 - val_mean_absolute_error: 1.1602\n",
      "Epoch 62/100\n",
      "20/20 [==============================] - 1s 45ms/step - loss: 1.1523 - mean_absolute_error: 0.6794 - val_loss: 4.1758 - val_mean_absolute_error: 1.2986\n",
      "Epoch 63/100\n",
      "20/20 [==============================] - 1s 44ms/step - loss: 1.2620 - mean_absolute_error: 0.7456 - val_loss: 4.9653 - val_mean_absolute_error: 1.4933\n",
      "Epoch 64/100\n",
      "20/20 [==============================] - 1s 37ms/step - loss: 1.2852 - mean_absolute_error: 0.7286 - val_loss: 3.3450 - val_mean_absolute_error: 1.1376\n",
      "Epoch 65/100\n",
      "20/20 [==============================] - 1s 37ms/step - loss: 1.1858 - mean_absolute_error: 0.7599 - val_loss: 3.1030 - val_mean_absolute_error: 1.1659\n",
      "Epoch 66/100\n",
      "20/20 [==============================] - 1s 37ms/step - loss: 1.0503 - mean_absolute_error: 0.7074 - val_loss: 4.8254 - val_mean_absolute_error: 1.5171\n",
      "Epoch 67/100\n",
      "20/20 [==============================] - 1s 36ms/step - loss: 1.4259 - mean_absolute_error: 0.8748 - val_loss: 3.0554 - val_mean_absolute_error: 1.0890\n",
      "Epoch 68/100\n",
      "20/20 [==============================] - 1s 40ms/step - loss: 1.3497 - mean_absolute_error: 0.7987 - val_loss: 3.3042 - val_mean_absolute_error: 1.1074\n",
      "Epoch 69/100\n",
      "20/20 [==============================] - 1s 37ms/step - loss: 1.0417 - mean_absolute_error: 0.6502 - val_loss: 3.9988 - val_mean_absolute_error: 1.3371\n",
      "Epoch 70/100\n",
      "20/20 [==============================] - 1s 35ms/step - loss: 1.1399 - mean_absolute_error: 0.7045 - val_loss: 4.5379 - val_mean_absolute_error: 1.3980\n",
      "Epoch 71/100\n",
      "20/20 [==============================] - 1s 34ms/step - loss: 1.2036 - mean_absolute_error: 0.7566 - val_loss: 2.9184 - val_mean_absolute_error: 1.1458\n",
      "Epoch 72/100\n",
      "20/20 [==============================] - 1s 36ms/step - loss: 1.1915 - mean_absolute_error: 0.7672 - val_loss: 3.5382 - val_mean_absolute_error: 1.2003\n",
      "Epoch 73/100\n",
      "20/20 [==============================] - 1s 33ms/step - loss: 0.9413 - mean_absolute_error: 0.6035 - val_loss: 3.4846 - val_mean_absolute_error: 1.1788\n",
      "Epoch 74/100\n",
      "20/20 [==============================] - 1s 33ms/step - loss: 0.9482 - mean_absolute_error: 0.5866 - val_loss: 3.7436 - val_mean_absolute_error: 1.1808\n",
      "Epoch 75/100\n",
      "20/20 [==============================] - 1s 36ms/step - loss: 1.0979 - mean_absolute_error: 0.6641 - val_loss: 3.6476 - val_mean_absolute_error: 1.2052\n",
      "Epoch 76/100\n",
      "20/20 [==============================] - 1s 35ms/step - loss: 0.9575 - mean_absolute_error: 0.6520 - val_loss: 3.1500 - val_mean_absolute_error: 1.1523\n",
      "Epoch 77/100\n",
      "20/20 [==============================] - 1s 35ms/step - loss: 1.0411 - mean_absolute_error: 0.6901 - val_loss: 3.5669 - val_mean_absolute_error: 1.1838\n",
      "Epoch 78/100\n",
      "20/20 [==============================] - 1s 35ms/step - loss: 0.8738 - mean_absolute_error: 0.5677 - val_loss: 3.7276 - val_mean_absolute_error: 1.2344\n",
      "Epoch 79/100\n",
      "20/20 [==============================] - 1s 41ms/step - loss: 0.8773 - mean_absolute_error: 0.5749 - val_loss: 3.2765 - val_mean_absolute_error: 1.1294\n",
      "Epoch 80/100\n",
      "20/20 [==============================] - 1s 44ms/step - loss: 0.9989 - mean_absolute_error: 0.6702 - val_loss: 3.1412 - val_mean_absolute_error: 1.1306\n",
      "Epoch 81/100\n",
      "20/20 [==============================] - 1s 41ms/step - loss: 1.0314 - mean_absolute_error: 0.6486 - val_loss: 3.5802 - val_mean_absolute_error: 1.2359\n",
      "Epoch 82/100\n",
      "20/20 [==============================] - 1s 33ms/step - loss: 0.9456 - mean_absolute_error: 0.6002 - val_loss: 3.7527 - val_mean_absolute_error: 1.2370\n",
      "Epoch 83/100\n",
      "20/20 [==============================] - 1s 39ms/step - loss: 0.9163 - mean_absolute_error: 0.5896 - val_loss: 5.2592 - val_mean_absolute_error: 1.5944\n",
      "Epoch 84/100\n",
      "20/20 [==============================] - 1s 41ms/step - loss: 1.1000 - mean_absolute_error: 0.7362 - val_loss: 3.5205 - val_mean_absolute_error: 1.1907\n",
      "Epoch 85/100\n",
      "20/20 [==============================] - 1s 37ms/step - loss: 1.2072 - mean_absolute_error: 0.7771 - val_loss: 3.7746 - val_mean_absolute_error: 1.1977\n",
      "Epoch 86/100\n",
      "20/20 [==============================] - 1s 35ms/step - loss: 0.8970 - mean_absolute_error: 0.6065 - val_loss: 4.1269 - val_mean_absolute_error: 1.2670\n",
      "Epoch 87/100\n",
      "20/20 [==============================] - 1s 38ms/step - loss: 0.9460 - mean_absolute_error: 0.6314 - val_loss: 4.6602 - val_mean_absolute_error: 1.5134\n",
      "Epoch 88/100\n",
      "20/20 [==============================] - 1s 37ms/step - loss: 0.8850 - mean_absolute_error: 0.5925 - val_loss: 3.4852 - val_mean_absolute_error: 1.1704\n",
      "Epoch 89/100\n",
      "20/20 [==============================] - 1s 43ms/step - loss: 0.8131 - mean_absolute_error: 0.5580 - val_loss: 3.8112 - val_mean_absolute_error: 1.2213\n",
      "Epoch 90/100\n",
      "20/20 [==============================] - 1s 47ms/step - loss: 0.8780 - mean_absolute_error: 0.5759 - val_loss: 3.9088 - val_mean_absolute_error: 1.2671\n",
      "Epoch 91/100\n",
      "20/20 [==============================] - 1s 43ms/step - loss: 0.8988 - mean_absolute_error: 0.5834 - val_loss: 2.9554 - val_mean_absolute_error: 1.0980\n",
      "Epoch 92/100\n",
      "20/20 [==============================] - 1s 42ms/step - loss: 0.9367 - mean_absolute_error: 0.6168 - val_loss: 4.2266 - val_mean_absolute_error: 1.3836\n",
      "Epoch 93/100\n",
      "20/20 [==============================] - 1s 42ms/step - loss: 0.8946 - mean_absolute_error: 0.5830 - val_loss: 4.8458 - val_mean_absolute_error: 1.5015\n",
      "Epoch 94/100\n",
      "20/20 [==============================] - 1s 46ms/step - loss: 1.2526 - mean_absolute_error: 0.7850 - val_loss: 5.4368 - val_mean_absolute_error: 1.6708\n",
      "Epoch 95/100\n",
      "20/20 [==============================] - 1s 43ms/step - loss: 1.1953 - mean_absolute_error: 0.7127 - val_loss: 3.0213 - val_mean_absolute_error: 1.0663\n",
      "Epoch 96/100\n",
      "20/20 [==============================] - 1s 41ms/step - loss: 1.0282 - mean_absolute_error: 0.6613 - val_loss: 3.3551 - val_mean_absolute_error: 1.1537\n",
      "Epoch 97/100\n",
      "20/20 [==============================] - 1s 44ms/step - loss: 1.1328 - mean_absolute_error: 0.6637 - val_loss: 4.1361 - val_mean_absolute_error: 1.3412\n",
      "Epoch 98/100\n",
      "20/20 [==============================] - 1s 41ms/step - loss: 1.0164 - mean_absolute_error: 0.6292 - val_loss: 3.1902 - val_mean_absolute_error: 1.1595\n",
      "Epoch 99/100\n",
      "20/20 [==============================] - 1s 45ms/step - loss: 1.1628 - mean_absolute_error: 0.7111 - val_loss: 3.1795 - val_mean_absolute_error: 1.1055\n"
     ]
    },
    {
     "name": "stdout",
     "output_type": "stream",
     "text": [
      "Epoch 100/100\n",
      "20/20 [==============================] - 1s 44ms/step - loss: 1.1324 - mean_absolute_error: 0.7208 - val_loss: 2.9206 - val_mean_absolute_error: 1.0910\n",
      "3/3 [==============================] - 0s 12ms/step - loss: 2.1983 - mean_absolute_error: 0.9666\n",
      "Model evaluation  [2.1982975006103516, 0.9665575623512268]\n",
      "Epoch 1/100\n",
      "20/20 [==============================] - 1s 48ms/step - loss: 26.1835 - mean_absolute_error: 3.8365 - val_loss: 3.2635 - val_mean_absolute_error: 1.2699\n",
      "Epoch 2/100\n",
      "20/20 [==============================] - 1s 38ms/step - loss: 7.7833 - mean_absolute_error: 1.9023 - val_loss: 2.2491 - val_mean_absolute_error: 1.0755\n",
      "Epoch 3/100\n",
      "20/20 [==============================] - 1s 40ms/step - loss: 6.0691 - mean_absolute_error: 1.6181 - val_loss: 2.2724 - val_mean_absolute_error: 1.0732\n",
      "Epoch 4/100\n",
      "20/20 [==============================] - 1s 33ms/step - loss: 6.1787 - mean_absolute_error: 1.8726 - val_loss: 8.9586 - val_mean_absolute_error: 2.7511\n",
      "Epoch 5/100\n",
      "20/20 [==============================] - 1s 35ms/step - loss: 6.4769 - mean_absolute_error: 1.8348 - val_loss: 1.5328 - val_mean_absolute_error: 0.8279\n",
      "Epoch 6/100\n",
      "20/20 [==============================] - 1s 35ms/step - loss: 5.2419 - mean_absolute_error: 1.5692 - val_loss: 1.4707 - val_mean_absolute_error: 0.7915\n",
      "Epoch 7/100\n",
      "20/20 [==============================] - 1s 36ms/step - loss: 4.4081 - mean_absolute_error: 1.4473 - val_loss: 7.7574 - val_mean_absolute_error: 2.5414\n",
      "Epoch 8/100\n",
      "20/20 [==============================] - 1s 35ms/step - loss: 4.7691 - mean_absolute_error: 1.5240 - val_loss: 4.2512 - val_mean_absolute_error: 1.7113\n",
      "Epoch 9/100\n",
      "20/20 [==============================] - 1s 34ms/step - loss: 4.1857 - mean_absolute_error: 1.4284 - val_loss: 1.8027 - val_mean_absolute_error: 0.9282\n",
      "Epoch 10/100\n",
      "20/20 [==============================] - 1s 35ms/step - loss: 3.8839 - mean_absolute_error: 1.4371 - val_loss: 1.3938 - val_mean_absolute_error: 0.8400\n",
      "Epoch 11/100\n",
      "20/20 [==============================] - 1s 37ms/step - loss: 3.8909 - mean_absolute_error: 1.4615 - val_loss: 2.0515 - val_mean_absolute_error: 1.0969\n",
      "Epoch 12/100\n",
      "20/20 [==============================] - 1s 35ms/step - loss: 4.5377 - mean_absolute_error: 1.5555 - val_loss: 2.0533 - val_mean_absolute_error: 1.1112\n",
      "Epoch 13/100\n",
      "20/20 [==============================] - 1s 39ms/step - loss: 4.4584 - mean_absolute_error: 1.6005 - val_loss: 1.5429 - val_mean_absolute_error: 0.9347\n",
      "Epoch 14/100\n",
      "20/20 [==============================] - 1s 37ms/step - loss: 2.9232 - mean_absolute_error: 1.1683 - val_loss: 1.2810 - val_mean_absolute_error: 0.8294\n",
      "Epoch 15/100\n",
      "20/20 [==============================] - 1s 39ms/step - loss: 2.9286 - mean_absolute_error: 1.2292 - val_loss: 3.6066 - val_mean_absolute_error: 1.5500\n",
      "Epoch 16/100\n",
      "20/20 [==============================] - 1s 38ms/step - loss: 3.0861 - mean_absolute_error: 1.3027 - val_loss: 2.1843 - val_mean_absolute_error: 1.1148\n",
      "Epoch 17/100\n",
      "20/20 [==============================] - 1s 41ms/step - loss: 2.4524 - mean_absolute_error: 1.1395 - val_loss: 1.4273 - val_mean_absolute_error: 0.8494\n",
      "Epoch 18/100\n",
      "20/20 [==============================] - 1s 40ms/step - loss: 2.4798 - mean_absolute_error: 1.1025 - val_loss: 1.4753 - val_mean_absolute_error: 0.8909\n",
      "Epoch 19/100\n",
      "20/20 [==============================] - 1s 41ms/step - loss: 2.5061 - mean_absolute_error: 1.1709 - val_loss: 1.3260 - val_mean_absolute_error: 0.8234\n",
      "Epoch 20/100\n",
      "20/20 [==============================] - 1s 40ms/step - loss: 3.2398 - mean_absolute_error: 1.2790 - val_loss: 1.5371 - val_mean_absolute_error: 0.9256\n",
      "Epoch 21/100\n",
      "20/20 [==============================] - 1s 35ms/step - loss: 2.9260 - mean_absolute_error: 1.2770 - val_loss: 4.5905 - val_mean_absolute_error: 1.8314\n",
      "Epoch 22/100\n",
      "20/20 [==============================] - 1s 38ms/step - loss: 2.9457 - mean_absolute_error: 1.3140 - val_loss: 1.5646 - val_mean_absolute_error: 0.9244\n",
      "Epoch 23/100\n",
      "20/20 [==============================] - 1s 35ms/step - loss: 2.9798 - mean_absolute_error: 1.3556 - val_loss: 7.4881 - val_mean_absolute_error: 2.5316\n",
      "Epoch 24/100\n",
      "20/20 [==============================] - 1s 36ms/step - loss: 3.0067 - mean_absolute_error: 1.2282 - val_loss: 1.4428 - val_mean_absolute_error: 0.8662\n",
      "Epoch 25/100\n",
      "20/20 [==============================] - 1s 35ms/step - loss: 2.6057 - mean_absolute_error: 1.1306 - val_loss: 1.5587 - val_mean_absolute_error: 0.9389\n",
      "Epoch 26/100\n",
      "20/20 [==============================] - 1s 37ms/step - loss: 2.3696 - mean_absolute_error: 1.1720 - val_loss: 1.2949 - val_mean_absolute_error: 0.8143\n",
      "Epoch 27/100\n",
      "20/20 [==============================] - 1s 38ms/step - loss: 2.4052 - mean_absolute_error: 1.1316 - val_loss: 1.2988 - val_mean_absolute_error: 0.8122\n",
      "Epoch 28/100\n",
      "20/20 [==============================] - 1s 35ms/step - loss: 2.2676 - mean_absolute_error: 1.1007 - val_loss: 1.6917 - val_mean_absolute_error: 0.9520\n",
      "Epoch 29/100\n",
      "20/20 [==============================] - 1s 35ms/step - loss: 2.1016 - mean_absolute_error: 1.0024 - val_loss: 1.3993 - val_mean_absolute_error: 0.8556\n",
      "Epoch 30/100\n",
      "20/20 [==============================] - 1s 35ms/step - loss: 2.1955 - mean_absolute_error: 1.0354 - val_loss: 1.6654 - val_mean_absolute_error: 0.9718\n",
      "Epoch 31/100\n",
      "20/20 [==============================] - 1s 35ms/step - loss: 2.3365 - mean_absolute_error: 1.1739 - val_loss: 2.0447 - val_mean_absolute_error: 1.1195\n",
      "Epoch 32/100\n",
      "20/20 [==============================] - 1s 35ms/step - loss: 2.0068 - mean_absolute_error: 1.0106 - val_loss: 1.3533 - val_mean_absolute_error: 0.8552\n",
      "Epoch 33/100\n",
      "20/20 [==============================] - 1s 35ms/step - loss: 2.0240 - mean_absolute_error: 1.0044 - val_loss: 2.2938 - val_mean_absolute_error: 1.2188\n",
      "Epoch 34/100\n",
      "20/20 [==============================] - 1s 35ms/step - loss: 1.9703 - mean_absolute_error: 0.9953 - val_loss: 2.7231 - val_mean_absolute_error: 1.3492\n",
      "Epoch 35/100\n",
      "20/20 [==============================] - 1s 35ms/step - loss: 2.0414 - mean_absolute_error: 0.9554 - val_loss: 1.5244 - val_mean_absolute_error: 0.8698\n",
      "Epoch 36/100\n",
      "20/20 [==============================] - 1s 35ms/step - loss: 2.2496 - mean_absolute_error: 1.0716 - val_loss: 2.3740 - val_mean_absolute_error: 1.2536\n",
      "Epoch 37/100\n",
      "20/20 [==============================] - 1s 38ms/step - loss: 1.9430 - mean_absolute_error: 0.9840 - val_loss: 1.5729 - val_mean_absolute_error: 0.9399\n",
      "Epoch 38/100\n",
      "20/20 [==============================] - 1s 35ms/step - loss: 2.0557 - mean_absolute_error: 1.0510 - val_loss: 1.3023 - val_mean_absolute_error: 0.8052\n",
      "Epoch 39/100\n",
      "20/20 [==============================] - 1s 35ms/step - loss: 1.9180 - mean_absolute_error: 0.9720 - val_loss: 1.1109 - val_mean_absolute_error: 0.7219\n",
      "Epoch 40/100\n",
      "20/20 [==============================] - 1s 35ms/step - loss: 1.9893 - mean_absolute_error: 1.0044 - val_loss: 1.2638 - val_mean_absolute_error: 0.8047\n",
      "Epoch 41/100\n",
      "20/20 [==============================] - 1s 36ms/step - loss: 1.7531 - mean_absolute_error: 0.9123 - val_loss: 3.6678 - val_mean_absolute_error: 1.6726\n",
      "Epoch 42/100\n",
      "20/20 [==============================] - 1s 36ms/step - loss: 2.9775 - mean_absolute_error: 1.2300 - val_loss: 1.2564 - val_mean_absolute_error: 0.7841\n",
      "Epoch 43/100\n",
      "20/20 [==============================] - 1s 35ms/step - loss: 1.9854 - mean_absolute_error: 1.0306 - val_loss: 1.2798 - val_mean_absolute_error: 0.8042\n",
      "Epoch 44/100\n",
      "20/20 [==============================] - 1s 35ms/step - loss: 1.9867 - mean_absolute_error: 1.0131 - val_loss: 1.2975 - val_mean_absolute_error: 0.8352\n",
      "Epoch 45/100\n",
      "20/20 [==============================] - 1s 35ms/step - loss: 1.9366 - mean_absolute_error: 0.9594 - val_loss: 1.2023 - val_mean_absolute_error: 0.7635\n",
      "Epoch 46/100\n",
      "20/20 [==============================] - 1s 35ms/step - loss: 1.6490 - mean_absolute_error: 0.8795 - val_loss: 1.1864 - val_mean_absolute_error: 0.7894\n",
      "Epoch 47/100\n",
      "20/20 [==============================] - 1s 39ms/step - loss: 1.5609 - mean_absolute_error: 0.8945 - val_loss: 1.7348 - val_mean_absolute_error: 0.9743\n",
      "Epoch 48/100\n",
      "20/20 [==============================] - 1s 41ms/step - loss: 2.0912 - mean_absolute_error: 1.0150 - val_loss: 1.7552 - val_mean_absolute_error: 1.0240\n"
     ]
    },
    {
     "name": "stdout",
     "output_type": "stream",
     "text": [
      "Epoch 49/100\n",
      "20/20 [==============================] - 1s 39ms/step - loss: 1.7991 - mean_absolute_error: 0.9614 - val_loss: 1.2539 - val_mean_absolute_error: 0.7874\n",
      "Epoch 50/100\n",
      "20/20 [==============================] - 1s 37ms/step - loss: 1.7317 - mean_absolute_error: 0.9438 - val_loss: 1.2930 - val_mean_absolute_error: 0.8364\n",
      "Epoch 51/100\n",
      "20/20 [==============================] - 1s 38ms/step - loss: 1.7533 - mean_absolute_error: 0.9242 - val_loss: 1.2749 - val_mean_absolute_error: 0.7526\n",
      "Epoch 52/100\n",
      "20/20 [==============================] - 1s 36ms/step - loss: 2.0385 - mean_absolute_error: 0.9852 - val_loss: 1.0456 - val_mean_absolute_error: 0.6867\n",
      "Epoch 53/100\n",
      "20/20 [==============================] - 1s 38ms/step - loss: 1.7393 - mean_absolute_error: 0.9204 - val_loss: 1.1942 - val_mean_absolute_error: 0.7564\n",
      "Epoch 54/100\n",
      "20/20 [==============================] - 1s 36ms/step - loss: 1.8198 - mean_absolute_error: 0.9443 - val_loss: 1.6773 - val_mean_absolute_error: 0.9714\n",
      "Epoch 55/100\n",
      "20/20 [==============================] - 1s 37ms/step - loss: 1.9988 - mean_absolute_error: 0.9873 - val_loss: 1.4137 - val_mean_absolute_error: 0.8601\n",
      "Epoch 56/100\n",
      "20/20 [==============================] - 1s 35ms/step - loss: 1.7311 - mean_absolute_error: 0.9061 - val_loss: 1.9043 - val_mean_absolute_error: 1.1049\n",
      "Epoch 57/100\n",
      "20/20 [==============================] - 1s 35ms/step - loss: 1.9738 - mean_absolute_error: 1.0026 - val_loss: 1.3643 - val_mean_absolute_error: 0.8325\n",
      "Epoch 58/100\n",
      "20/20 [==============================] - 1s 42ms/step - loss: 1.8304 - mean_absolute_error: 1.0096 - val_loss: 0.9663 - val_mean_absolute_error: 0.6496\n",
      "Epoch 59/100\n",
      "20/20 [==============================] - 1s 38ms/step - loss: 1.8408 - mean_absolute_error: 0.9404 - val_loss: 2.2495 - val_mean_absolute_error: 1.2332\n",
      "Epoch 60/100\n",
      "20/20 [==============================] - 1s 36ms/step - loss: 2.0797 - mean_absolute_error: 1.0139 - val_loss: 2.1450 - val_mean_absolute_error: 1.1481\n",
      "Epoch 61/100\n",
      "20/20 [==============================] - 1s 40ms/step - loss: 1.7173 - mean_absolute_error: 0.9078 - val_loss: 1.2574 - val_mean_absolute_error: 0.8276\n",
      "Epoch 62/100\n",
      "20/20 [==============================] - 1s 35ms/step - loss: 1.9765 - mean_absolute_error: 0.9753 - val_loss: 1.1886 - val_mean_absolute_error: 0.7226\n",
      "Epoch 63/100\n",
      "20/20 [==============================] - 1s 35ms/step - loss: 1.6535 - mean_absolute_error: 0.9019 - val_loss: 1.5247 - val_mean_absolute_error: 0.9549\n",
      "Epoch 64/100\n",
      "20/20 [==============================] - 1s 36ms/step - loss: 1.8205 - mean_absolute_error: 0.9659 - val_loss: 1.3711 - val_mean_absolute_error: 0.8731\n",
      "Epoch 65/100\n",
      "20/20 [==============================] - 1s 35ms/step - loss: 1.9539 - mean_absolute_error: 1.0410 - val_loss: 2.5727 - val_mean_absolute_error: 1.3285\n",
      "Epoch 66/100\n",
      "20/20 [==============================] - 1s 35ms/step - loss: 1.7018 - mean_absolute_error: 0.9369 - val_loss: 1.0381 - val_mean_absolute_error: 0.6955\n",
      "Epoch 67/100\n",
      "20/20 [==============================] - 1s 35ms/step - loss: 1.4102 - mean_absolute_error: 0.8095 - val_loss: 1.1161 - val_mean_absolute_error: 0.7373\n",
      "Epoch 68/100\n",
      "20/20 [==============================] - 1s 35ms/step - loss: 1.3552 - mean_absolute_error: 0.7708 - val_loss: 0.9943 - val_mean_absolute_error: 0.6664\n",
      "Epoch 69/100\n",
      "20/20 [==============================] - 1s 35ms/step - loss: 1.4051 - mean_absolute_error: 0.7922 - val_loss: 0.8608 - val_mean_absolute_error: 0.5829\n",
      "Epoch 70/100\n",
      "20/20 [==============================] - 1s 39ms/step - loss: 1.2091 - mean_absolute_error: 0.7553 - val_loss: 4.0439 - val_mean_absolute_error: 1.8034\n",
      "Epoch 71/100\n",
      "20/20 [==============================] - 1s 36ms/step - loss: 1.8376 - mean_absolute_error: 0.9637 - val_loss: 1.0745 - val_mean_absolute_error: 0.6858\n",
      "Epoch 72/100\n",
      "20/20 [==============================] - 1s 36ms/step - loss: 1.3986 - mean_absolute_error: 0.7994 - val_loss: 1.2908 - val_mean_absolute_error: 0.8498\n",
      "Epoch 73/100\n",
      "20/20 [==============================] - 1s 38ms/step - loss: 1.5779 - mean_absolute_error: 0.8764 - val_loss: 1.3516 - val_mean_absolute_error: 0.8161\n",
      "Epoch 74/100\n",
      "20/20 [==============================] - 1s 36ms/step - loss: 1.4945 - mean_absolute_error: 0.8191 - val_loss: 1.9771 - val_mean_absolute_error: 1.1393\n",
      "Epoch 75/100\n",
      "20/20 [==============================] - 1s 37ms/step - loss: 1.4502 - mean_absolute_error: 0.8055 - val_loss: 1.4933 - val_mean_absolute_error: 0.9389\n",
      "Epoch 76/100\n",
      "20/20 [==============================] - 1s 35ms/step - loss: 1.2416 - mean_absolute_error: 0.7485 - val_loss: 0.9974 - val_mean_absolute_error: 0.6536\n",
      "Epoch 77/100\n",
      "20/20 [==============================] - 1s 36ms/step - loss: 1.5460 - mean_absolute_error: 0.8517 - val_loss: 1.0301 - val_mean_absolute_error: 0.6573\n",
      "Epoch 78/100\n",
      "20/20 [==============================] - 1s 35ms/step - loss: 1.4651 - mean_absolute_error: 0.8551 - val_loss: 1.4161 - val_mean_absolute_error: 0.8959\n",
      "Epoch 79/100\n",
      "20/20 [==============================] - 1s 35ms/step - loss: 1.5601 - mean_absolute_error: 0.8542 - val_loss: 0.9460 - val_mean_absolute_error: 0.6154\n",
      "Epoch 80/100\n",
      "20/20 [==============================] - 1s 35ms/step - loss: 1.3236 - mean_absolute_error: 0.7440 - val_loss: 0.9240 - val_mean_absolute_error: 0.6385\n",
      "Epoch 81/100\n",
      "20/20 [==============================] - 1s 38ms/step - loss: 1.3994 - mean_absolute_error: 0.8084 - val_loss: 1.1925 - val_mean_absolute_error: 0.7463\n",
      "Epoch 82/100\n",
      "20/20 [==============================] - 1s 38ms/step - loss: 1.4953 - mean_absolute_error: 0.8669 - val_loss: 1.3936 - val_mean_absolute_error: 0.8751\n",
      "Epoch 83/100\n",
      "20/20 [==============================] - 1s 38ms/step - loss: 1.6189 - mean_absolute_error: 0.8809 - val_loss: 2.5506 - val_mean_absolute_error: 1.3270\n",
      "Epoch 84/100\n",
      "20/20 [==============================] - 1s 38ms/step - loss: 1.8581 - mean_absolute_error: 1.0240 - val_loss: 0.8637 - val_mean_absolute_error: 0.5954\n",
      "Epoch 85/100\n",
      "20/20 [==============================] - 1s 36ms/step - loss: 1.7237 - mean_absolute_error: 0.9231 - val_loss: 1.2026 - val_mean_absolute_error: 0.7316\n",
      "Epoch 86/100\n",
      "20/20 [==============================] - 1s 37ms/step - loss: 2.2716 - mean_absolute_error: 1.1908 - val_loss: 1.7281 - val_mean_absolute_error: 1.0102\n",
      "Epoch 87/100\n",
      "20/20 [==============================] - 1s 37ms/step - loss: 1.2529 - mean_absolute_error: 0.7470 - val_loss: 0.8675 - val_mean_absolute_error: 0.6014\n",
      "Epoch 88/100\n",
      "20/20 [==============================] - 1s 39ms/step - loss: 1.1649 - mean_absolute_error: 0.7148 - val_loss: 1.0331 - val_mean_absolute_error: 0.6860\n",
      "Epoch 89/100\n",
      "20/20 [==============================] - 1s 36ms/step - loss: 1.1225 - mean_absolute_error: 0.6962 - val_loss: 1.2971 - val_mean_absolute_error: 0.8341\n",
      "Epoch 90/100\n",
      "20/20 [==============================] - 1s 35ms/step - loss: 1.5270 - mean_absolute_error: 0.8551 - val_loss: 2.0291 - val_mean_absolute_error: 1.1645\n",
      "Epoch 91/100\n",
      "20/20 [==============================] - 1s 35ms/step - loss: 1.4805 - mean_absolute_error: 0.8678 - val_loss: 0.9368 - val_mean_absolute_error: 0.6423\n",
      "Epoch 92/100\n",
      "20/20 [==============================] - 1s 35ms/step - loss: 1.3266 - mean_absolute_error: 0.7823 - val_loss: 0.8870 - val_mean_absolute_error: 0.6073\n",
      "Epoch 93/100\n",
      "20/20 [==============================] - 1s 35ms/step - loss: 1.2014 - mean_absolute_error: 0.7359 - val_loss: 2.2302 - val_mean_absolute_error: 1.2193\n",
      "Epoch 94/100\n",
      "20/20 [==============================] - 1s 35ms/step - loss: 1.3495 - mean_absolute_error: 0.7889 - val_loss: 0.8759 - val_mean_absolute_error: 0.6045\n",
      "Epoch 95/100\n",
      "20/20 [==============================] - 1s 38ms/step - loss: 1.1188 - mean_absolute_error: 0.7297 - val_loss: 0.9312 - val_mean_absolute_error: 0.6657\n",
      "Epoch 96/100\n",
      "20/20 [==============================] - 1s 38ms/step - loss: 1.1257 - mean_absolute_error: 0.7074 - val_loss: 1.0389 - val_mean_absolute_error: 0.7104\n",
      "Epoch 97/100\n",
      "20/20 [==============================] - 1s 38ms/step - loss: 1.7704 - mean_absolute_error: 0.9763 - val_loss: 2.2920 - val_mean_absolute_error: 1.2100\n",
      "Epoch 98/100\n",
      "20/20 [==============================] - 1s 38ms/step - loss: 1.4424 - mean_absolute_error: 0.8601 - val_loss: 0.8203 - val_mean_absolute_error: 0.5851\n"
     ]
    },
    {
     "name": "stdout",
     "output_type": "stream",
     "text": [
      "Epoch 99/100\n",
      "20/20 [==============================] - 1s 37ms/step - loss: 1.2563 - mean_absolute_error: 0.7696 - val_loss: 1.9304 - val_mean_absolute_error: 1.1076\n",
      "Epoch 100/100\n",
      "20/20 [==============================] - 1s 36ms/step - loss: 1.1929 - mean_absolute_error: 0.7163 - val_loss: 1.0556 - val_mean_absolute_error: 0.7055\n",
      "3/3 [==============================] - 0s 9ms/step - loss: 1.3140 - mean_absolute_error: 0.8097\n",
      "Model evaluation  [1.313973069190979, 0.8097116351127625]\n"
     ]
    }
   ],
   "source": [
    "from sklearn.model_selection import KFold\n",
    "\n",
    "n_split=3\n",
    "history = []\n",
    "\n",
    "for train, valid in KFold(n_split).split(training):\n",
    "    \n",
    "    train_feature = im[train, :]\n",
    "    train_label = label[train,0]\n",
    "    valid_feature = im[valid, :]\n",
    "    valid_label = label[valid, :]\n",
    "\n",
    "    model = model1()\n",
    "    model.compile(\n",
    "    optimizer=keras.optimizers.Adam(learning_rate=0.0001),\n",
    "    loss=keras.losses.MeanSquaredError(name=\"mean_squared_error\"),\n",
    "    metrics=[tf.keras.metrics.mean_absolute_error])\n",
    "    \n",
    "    history.append(model.fit(\n",
    "    train_feature,\n",
    "    train_label,\n",
    "    batch_size=5,\n",
    "    epochs=100,\n",
    "    validation_data = (valid_feature, valid_label),\n",
    "    ))\n",
    "\n",
    "    print('Model evaluation ', model.evaluate(test_feature, test_label))"
   ]
  },
  {
   "cell_type": "code",
   "execution_count": 156,
   "id": "cb18235b",
   "metadata": {},
   "outputs": [
    {
     "data": {
      "text/plain": [
       "(0, 20)"
      ]
     },
     "execution_count": 156,
     "metadata": {},
     "output_type": "execute_result"
    },
    {
     "data": {
      "image/png": "[encoded data removed]",
      "text/plain": [
       "<Figure size 432x288 with 1 Axes>"
      ]
     },
     "metadata": {
      "needs_background": "light"
     },
     "output_type": "display_data"
    }
   ],
   "source": [
    "plt.plot(np.mean([history[i].history['loss'] for i in range(3)], axis = 0))\n",
    "plt.ylim(0,20)"
   ]
  },
  {
   "cell_type": "code",
   "execution_count": 157,
   "id": "3884ae67",
   "metadata": {},
   "outputs": [
    {
     "data": {
      "text/plain": [
       "dict_keys(['loss', 'mean_absolute_error', 'val_loss', 'val_mean_absolute_error'])"
      ]
     },
     "execution_count": 157,
     "metadata": {},
     "output_type": "execute_result"
    }
   ],
   "source": [
    "history[0].history.keys()"
   ]
  },
  {
   "cell_type": "code",
   "execution_count": 158,
   "id": "d155b07c",
   "metadata": {
    "scrolled": true
   },
   "outputs": [
    {
     "data": {
      "text/plain": [
       "[<matplotlib.lines.Line2D at 0x7f1e74064640>]"
      ]
     },
     "execution_count": 158,
     "metadata": {},
     "output_type": "execute_result"
    },
    {
     "data": {
      "image/png": "[encoded data removed]",
      "text/plain": [
       "<Figure size 432x288 with 1 Axes>"
      ]
     },
     "metadata": {
      "needs_background": "light"
     },
     "output_type": "display_data"
    }
   ],
   "source": [
    "plt.plot(np.mean([history[i].history['val_mean_absolute_error'] for i in range(3)], axis = 0))"
   ]
  },
  {
   "cell_type": "markdown",
   "id": "98bae432",
   "metadata": {},
   "source": [
    "### Retrain best module"
   ]
  },
  {
   "cell_type": "code",
   "execution_count": 160,
   "id": "c4a75ee1",
   "metadata": {},
   "outputs": [
    {
     "name": "stdout",
     "output_type": "stream",
     "text": [
      "Epoch 1/60\n",
      "16/16 [==============================] - 1s 42ms/step - loss: 1.8733 - mean_absolute_error: 1.0230 - val_loss: 1.2936 - val_mean_absolute_error: 0.8815\n",
      "Epoch 2/60\n",
      "16/16 [==============================] - 1s 41ms/step - loss: 1.1901 - mean_absolute_error: 0.7335 - val_loss: 1.8181 - val_mean_absolute_error: 1.0794\n",
      "Epoch 3/60\n",
      "16/16 [==============================] - 1s 44ms/step - loss: 0.9032 - mean_absolute_error: 0.6416 - val_loss: 1.4475 - val_mean_absolute_error: 0.8829\n",
      "Epoch 4/60\n",
      "16/16 [==============================] - 1s 37ms/step - loss: 1.0241 - mean_absolute_error: 0.7023 - val_loss: 1.2509 - val_mean_absolute_error: 0.8144\n",
      "Epoch 5/60\n",
      "16/16 [==============================] - 1s 33ms/step - loss: 1.0565 - mean_absolute_error: 0.7023 - val_loss: 1.3080 - val_mean_absolute_error: 0.7069\n",
      "Epoch 6/60\n",
      "16/16 [==============================] - 1s 33ms/step - loss: 1.0410 - mean_absolute_error: 0.7514 - val_loss: 1.6696 - val_mean_absolute_error: 1.0414\n",
      "Epoch 7/60\n",
      "16/16 [==============================] - 1s 32ms/step - loss: 1.0631 - mean_absolute_error: 0.7248 - val_loss: 1.3203 - val_mean_absolute_error: 0.8746\n",
      "Epoch 8/60\n",
      "16/16 [==============================] - 1s 32ms/step - loss: 0.8833 - mean_absolute_error: 0.6691 - val_loss: 1.3930 - val_mean_absolute_error: 0.9624\n",
      "Epoch 9/60\n",
      "16/16 [==============================] - 1s 32ms/step - loss: 0.9187 - mean_absolute_error: 0.6778 - val_loss: 1.2721 - val_mean_absolute_error: 0.8087\n",
      "Epoch 10/60\n",
      "16/16 [==============================] - 1s 34ms/step - loss: 0.8311 - mean_absolute_error: 0.6564 - val_loss: 1.2346 - val_mean_absolute_error: 0.8921\n",
      "Epoch 11/60\n",
      "16/16 [==============================] - 1s 37ms/step - loss: 0.7522 - mean_absolute_error: 0.5805 - val_loss: 1.3601 - val_mean_absolute_error: 0.9364\n",
      "Epoch 12/60\n",
      "16/16 [==============================] - 1s 36ms/step - loss: 1.1929 - mean_absolute_error: 0.7790 - val_loss: 3.9130 - val_mean_absolute_error: 1.7811\n",
      "Epoch 13/60\n",
      "16/16 [==============================] - 1s 37ms/step - loss: 1.5058 - mean_absolute_error: 0.9251 - val_loss: 1.2266 - val_mean_absolute_error: 0.8695\n",
      "Epoch 14/60\n",
      "16/16 [==============================] - 1s 34ms/step - loss: 1.1384 - mean_absolute_error: 0.7887 - val_loss: 1.1358 - val_mean_absolute_error: 0.7998\n",
      "Epoch 15/60\n",
      "16/16 [==============================] - 1s 34ms/step - loss: 0.8188 - mean_absolute_error: 0.6444 - val_loss: 1.3406 - val_mean_absolute_error: 0.9284\n",
      "Epoch 16/60\n",
      "16/16 [==============================] - 1s 38ms/step - loss: 0.6693 - mean_absolute_error: 0.5572 - val_loss: 1.1453 - val_mean_absolute_error: 0.8508\n",
      "Epoch 17/60\n",
      "16/16 [==============================] - 1s 38ms/step - loss: 0.7190 - mean_absolute_error: 0.6185 - val_loss: 1.0157 - val_mean_absolute_error: 0.7519\n",
      "Epoch 18/60\n",
      "16/16 [==============================] - 1s 40ms/step - loss: 0.7265 - mean_absolute_error: 0.6232 - val_loss: 1.1637 - val_mean_absolute_error: 0.8665\n",
      "Epoch 19/60\n",
      "16/16 [==============================] - 1s 37ms/step - loss: 0.9702 - mean_absolute_error: 0.6816 - val_loss: 1.2339 - val_mean_absolute_error: 0.9242\n",
      "Epoch 20/60\n",
      "16/16 [==============================] - 1s 39ms/step - loss: 0.9414 - mean_absolute_error: 0.7202 - val_loss: 0.9704 - val_mean_absolute_error: 0.7393\n",
      "Epoch 21/60\n",
      "16/16 [==============================] - 1s 40ms/step - loss: 1.0728 - mean_absolute_error: 0.7725 - val_loss: 2.4678 - val_mean_absolute_error: 1.3956\n",
      "Epoch 22/60\n",
      "16/16 [==============================] - 1s 36ms/step - loss: 0.7700 - mean_absolute_error: 0.6450 - val_loss: 1.4161 - val_mean_absolute_error: 0.8083\n",
      "Epoch 23/60\n",
      "16/16 [==============================] - 1s 33ms/step - loss: 0.8826 - mean_absolute_error: 0.6826 - val_loss: 2.2096 - val_mean_absolute_error: 1.3260\n",
      "Epoch 24/60\n",
      "16/16 [==============================] - 1s 35ms/step - loss: 0.6706 - mean_absolute_error: 0.5851 - val_loss: 1.1603 - val_mean_absolute_error: 0.8332\n",
      "Epoch 25/60\n",
      "16/16 [==============================] - 1s 39ms/step - loss: 0.7262 - mean_absolute_error: 0.6412 - val_loss: 1.3373 - val_mean_absolute_error: 0.9320\n",
      "Epoch 26/60\n",
      "16/16 [==============================] - 1s 35ms/step - loss: 1.2552 - mean_absolute_error: 0.8238 - val_loss: 1.1960 - val_mean_absolute_error: 0.8580\n",
      "Epoch 27/60\n",
      "16/16 [==============================] - 1s 34ms/step - loss: 0.6947 - mean_absolute_error: 0.5816 - val_loss: 1.0427 - val_mean_absolute_error: 0.7319\n",
      "Epoch 28/60\n",
      "16/16 [==============================] - 1s 36ms/step - loss: 0.6656 - mean_absolute_error: 0.5494 - val_loss: 1.1696 - val_mean_absolute_error: 0.7602\n",
      "Epoch 29/60\n",
      "16/16 [==============================] - 1s 34ms/step - loss: 0.7416 - mean_absolute_error: 0.6053 - val_loss: 1.1534 - val_mean_absolute_error: 0.8481\n",
      "Epoch 30/60\n",
      "16/16 [==============================] - 1s 34ms/step - loss: 0.6029 - mean_absolute_error: 0.5286 - val_loss: 1.0665 - val_mean_absolute_error: 0.7740\n",
      "Epoch 31/60\n",
      "16/16 [==============================] - 1s 36ms/step - loss: 0.6395 - mean_absolute_error: 0.5448 - val_loss: 1.9623 - val_mean_absolute_error: 1.2214\n",
      "Epoch 32/60\n",
      "16/16 [==============================] - 1s 34ms/step - loss: 0.6304 - mean_absolute_error: 0.5696 - val_loss: 1.3109 - val_mean_absolute_error: 0.9382\n",
      "Epoch 33/60\n",
      "16/16 [==============================] - 1s 36ms/step - loss: 0.6387 - mean_absolute_error: 0.5758 - val_loss: 1.6643 - val_mean_absolute_error: 1.1100\n",
      "Epoch 34/60\n",
      "16/16 [==============================] - 1s 35ms/step - loss: 0.8095 - mean_absolute_error: 0.6629 - val_loss: 1.4057 - val_mean_absolute_error: 0.9607\n",
      "Epoch 35/60\n",
      "16/16 [==============================] - 1s 37ms/step - loss: 0.7129 - mean_absolute_error: 0.5908 - val_loss: 1.3385 - val_mean_absolute_error: 0.9767\n",
      "Epoch 36/60\n",
      "16/16 [==============================] - 1s 36ms/step - loss: 0.8038 - mean_absolute_error: 0.6299 - val_loss: 1.1660 - val_mean_absolute_error: 0.8007\n",
      "Epoch 37/60\n",
      "16/16 [==============================] - 1s 35ms/step - loss: 0.5508 - mean_absolute_error: 0.5087 - val_loss: 1.1790 - val_mean_absolute_error: 0.8802\n",
      "Epoch 38/60\n",
      "16/16 [==============================] - 1s 48ms/step - loss: 0.5356 - mean_absolute_error: 0.4817 - val_loss: 1.2572 - val_mean_absolute_error: 0.9106\n",
      "Epoch 39/60\n",
      "16/16 [==============================] - 1s 35ms/step - loss: 0.5044 - mean_absolute_error: 0.4816 - val_loss: 1.2296 - val_mean_absolute_error: 0.8679\n",
      "Epoch 40/60\n",
      "16/16 [==============================] - 1s 33ms/step - loss: 0.5691 - mean_absolute_error: 0.5265 - val_loss: 1.6098 - val_mean_absolute_error: 1.0950\n",
      "Epoch 41/60\n",
      "16/16 [==============================] - 1s 34ms/step - loss: 0.6235 - mean_absolute_error: 0.5401 - val_loss: 1.2280 - val_mean_absolute_error: 0.8682\n",
      "Epoch 42/60\n",
      "16/16 [==============================] - 1s 39ms/step - loss: 0.5273 - mean_absolute_error: 0.4941 - val_loss: 1.2643 - val_mean_absolute_error: 0.8914\n",
      "Epoch 43/60\n",
      "16/16 [==============================] - 1s 40ms/step - loss: 0.5298 - mean_absolute_error: 0.5114 - val_loss: 1.6517 - val_mean_absolute_error: 1.0583\n",
      "Epoch 44/60\n",
      "16/16 [==============================] - 1s 37ms/step - loss: 0.6053 - mean_absolute_error: 0.5348 - val_loss: 1.0985 - val_mean_absolute_error: 0.7764\n",
      "Epoch 45/60\n",
      "16/16 [==============================] - 1s 38ms/step - loss: 0.5090 - mean_absolute_error: 0.4935 - val_loss: 1.3626 - val_mean_absolute_error: 0.9232\n",
      "Epoch 46/60\n",
      "16/16 [==============================] - 1s 39ms/step - loss: 0.6163 - mean_absolute_error: 0.5400 - val_loss: 1.4242 - val_mean_absolute_error: 0.9610\n",
      "Epoch 47/60\n",
      "16/16 [==============================] - 1s 38ms/step - loss: 0.7943 - mean_absolute_error: 0.6269 - val_loss: 1.5111 - val_mean_absolute_error: 1.0002\n",
      "Epoch 48/60\n",
      "16/16 [==============================] - 1s 46ms/step - loss: 0.7238 - mean_absolute_error: 0.5834 - val_loss: 1.2668 - val_mean_absolute_error: 0.8371\n",
      "Epoch 49/60\n",
      "16/16 [==============================] - 1s 43ms/step - loss: 0.8118 - mean_absolute_error: 0.6670 - val_loss: 1.1833 - val_mean_absolute_error: 0.8511\n",
      "Epoch 50/60\n",
      "16/16 [==============================] - 1s 39ms/step - loss: 0.8478 - mean_absolute_error: 0.6753 - val_loss: 1.6264 - val_mean_absolute_error: 1.0486\n",
      "Epoch 51/60\n"
     ]
    },
    {
     "name": "stdout",
     "output_type": "stream",
     "text": [
      "16/16 [==============================] - 1s 35ms/step - loss: 0.6189 - mean_absolute_error: 0.5673 - val_loss: 1.2313 - val_mean_absolute_error: 0.8888\n",
      "Epoch 52/60\n",
      "16/16 [==============================] - 1s 36ms/step - loss: 0.5941 - mean_absolute_error: 0.5472 - val_loss: 1.2782 - val_mean_absolute_error: 0.8971\n",
      "Epoch 53/60\n",
      "16/16 [==============================] - 1s 35ms/step - loss: 0.7027 - mean_absolute_error: 0.6020 - val_loss: 1.2958 - val_mean_absolute_error: 0.8415\n",
      "Epoch 54/60\n",
      "16/16 [==============================] - 1s 37ms/step - loss: 1.0769 - mean_absolute_error: 0.7158 - val_loss: 1.2133 - val_mean_absolute_error: 0.8240\n",
      "Epoch 55/60\n",
      "16/16 [==============================] - 1s 41ms/step - loss: 1.1807 - mean_absolute_error: 0.8410 - val_loss: 2.2492 - val_mean_absolute_error: 1.3271\n",
      "Epoch 56/60\n",
      "16/16 [==============================] - 1s 38ms/step - loss: 0.8511 - mean_absolute_error: 0.6986 - val_loss: 1.1279 - val_mean_absolute_error: 0.8059\n",
      "Epoch 57/60\n",
      "16/16 [==============================] - 1s 41ms/step - loss: 0.9341 - mean_absolute_error: 0.6993 - val_loss: 1.5267 - val_mean_absolute_error: 1.0647\n",
      "Epoch 58/60\n",
      "16/16 [==============================] - 1s 39ms/step - loss: 0.8841 - mean_absolute_error: 0.6869 - val_loss: 1.4241 - val_mean_absolute_error: 0.9888\n",
      "Epoch 59/60\n",
      "16/16 [==============================] - 1s 36ms/step - loss: 0.6572 - mean_absolute_error: 0.5774 - val_loss: 1.0591 - val_mean_absolute_error: 0.7571\n",
      "Epoch 60/60\n",
      "16/16 [==============================] - 1s 37ms/step - loss: 0.5161 - mean_absolute_error: 0.4891 - val_loss: 1.4849 - val_mean_absolute_error: 1.0290\n",
      "3/3 [==============================] - 0s 11ms/step - loss: 1.4865 - mean_absolute_error: 0.9472\n"
     ]
    },
    {
     "data": {
      "text/plain": [
       "[1.4864717721939087, 0.9471707940101624]"
      ]
     },
     "execution_count": 160,
     "metadata": {},
     "output_type": "execute_result"
    },
    {
     "data": {
      "image/png": "[encoded data removed]",
      "text/plain": [
       "<Figure size 432x288 with 4 Axes>"
      ]
     },
     "metadata": {
      "needs_background": "light"
     },
     "output_type": "display_data"
    }
   ],
   "source": [
    "model.compile(\n",
    "    optimizer=keras.optimizers.Adam(learning_rate=0.0001),\n",
    "    loss=keras.losses.MeanSquaredError(name=\"mean_squared_error\"),\n",
    "    metrics=[tf.keras.metrics.mean_absolute_error])\n",
    "\n",
    "history = model.fit(\n",
    "    train_feature,\n",
    "    train_label,\n",
    "    batch_size=5,\n",
    "    epochs=60,\n",
    "    validation_split = 0.2\n",
    "    )\n",
    "\n",
    "for i, key in enumerate(history.history.keys()):\n",
    "    plt.subplot(2, 3, i+1)\n",
    "    plt.plot(history.history[key])\n",
    "    plt.title(key)\n",
    "    plt.ylim(0, 3)\n",
    "    plt.xlabel(\"Epochs\")\n",
    "\n",
    "model.evaluate(test_feature, test_label)"
   ]
  },
  {
   "cell_type": "markdown",
   "id": "65d7f92e",
   "metadata": {},
   "source": [
    "# Brouillon"
   ]
  },
  {
   "cell_type": "code",
   "execution_count": null,
   "id": "dff0a542",
   "metadata": {},
   "outputs": [],
   "source": [
    "from sklearn.model_selection import GridSearchCV\n",
    "from sklearn.neural_network import MLPRegressor\n",
    "\n",
    "param_grid = [\n",
    "  {'hidden_layer_sizes': [ (50,), (100,), (20,20,20), (100, 100), (100, 100, 20), (10, 10), (30, 30, 20)], \n",
    "   'learning_rate_init':[0.001, 0.01],\n",
    "   'alpha': [0.1, 0.01, 0.001, 0.0001, 0.00001],\n",
    "  }\n",
    " ]\n",
    "print(param_grid)\n",
    "\n",
    "# Cross-validation grid-search (for finding best possible accuracy)\n",
    "clf = GridSearchCV(MLPRegressor(max_iter = 800,\n",
    "                     early_stopping=True, \n",
    "                     n_iter_no_change = 10,\n",
    "                     learning_rate_init = 0.0001,\n",
    "                     alpha = 0.0001,\n",
    "                     batch_size = 50,\n",
    "                     hidden_layer_sizes=(40,40),\n",
    "                     validation_fraction = 0.2,\n",
    "                     random_state = 39,\n",
    "                     verbose = 2), param_grid = param_grid, cv=3, scoring='neg_mean_squared_error')\n",
    "\n",
    "clf.fit(X_train, y_train)"
   ]
  },
  {
   "cell_type": "code",
   "execution_count": null,
   "id": "3d580132",
   "metadata": {},
   "outputs": [],
   "source": [
    "from sklearn.model_selection import KFold\n",
    "\n",
    "n_split=3\n",
    "\n",
    "for train_index, test_index in KFold(n_split).split(X):\n",
    "    x_train,x_test=X[train_index],X[test_index]\n",
    "    y_train,y_test=Y[train_index],Y[test_index]\n",
    "\n",
    "    model=create_model()\n",
    "    model.fit(x_train, y_train,epochs=20)\n",
    "\n",
    "    print('Model evaluation ',model.evaluate(x_test,y_test))"
   ]
  },
  {
   "cell_type": "code",
   "execution_count": 94,
   "id": "ebc96738",
   "metadata": {
    "scrolled": true
   },
   "outputs": [
    {
     "data": {
      "text/plain": [
       "<generator object _BaseKFold.split at 0x7f6f829a92e0>"
      ]
     },
     "execution_count": 94,
     "metadata": {},
     "output_type": "execute_result"
    }
   ],
   "source": [
    "from sklearn.model_selection import KFold\n",
    "KFold(3).split([1, 2, 3])"
   ]
  }
 ],
 "metadata": {
  "kernelspec": {
   "display_name": "Python 3 (ipykernel)",
   "language": "python",
   "name": "python3"
  },
  "language_info": {
   "codemirror_mode": {
    "name": "ipython",
    "version": 3
   },
   "file_extension": ".py",
   "mimetype": "text/x-python",
   "name": "python",
   "nbconvert_exporter": "python",
   "pygments_lexer": "ipython3",
   "version": "3.8.10"
  }
 },
 "nbformat": 4,
 "nbformat_minor": 5
}

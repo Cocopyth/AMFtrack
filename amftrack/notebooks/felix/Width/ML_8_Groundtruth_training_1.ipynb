{
 "cells": [
  {
   "cell_type": "markdown",
   "id": "2a88eb95",
   "metadata": {},
   "source": [
    "# Groundtruth training on focused edges (training 1)"
   ]
  },
  {
   "cell_type": "code",
   "execution_count": 1,
   "id": "46b5b487",
   "metadata": {},
   "outputs": [
    {
     "data": {
      "application/javascript": [
       "$('<div id=\"toc\"></div>').css({position: 'fixed', top: '120px', left: 0}).appendTo(document.body);\n",
       "$.getScript('https://kmahelona.github.io/ipython_notebook_goodies/ipython_notebook_toc.js');\n"
      ],
      "text/plain": [
       "<IPython.core.display.Javascript object>"
      ]
     },
     "metadata": {},
     "output_type": "display_data"
    }
   ],
   "source": [
    "%%javascript\n",
    "$('<div id=\"toc\"></div>').css({position: 'fixed', top: '120px', left: 0}).appendTo(document.body);\n",
    "$.getScript('https://kmahelona.github.io/ipython_notebook_goodies/ipython_notebook_toc.js');"
   ]
  },
  {
   "cell_type": "markdown",
   "id": "ffa80930",
   "metadata": {},
   "source": [
    "## Presentation"
   ]
  },
  {
   "cell_type": "markdown",
   "id": "90444c84",
   "metadata": {},
   "source": [
    "For each different training we proceed as follow:\n",
    "\n",
    "Step 1: random search or bayesian search over a lot of models and parameters\\\n",
    "Step 2: evaluate the 3 best models with cross validation and chose the best out of the 3\n",
    "\n",
    "For the seed, we always take the same seed: 100"
   ]
  },
  {
   "cell_type": "markdown",
   "id": "870525d5",
   "metadata": {},
   "source": [
    "## Setup"
   ]
  },
  {
   "cell_type": "code",
   "execution_count": 41,
   "id": "060f5678",
   "metadata": {},
   "outputs": [],
   "source": [
    "import numpy as np\n",
    "import matplotlib.pyplot as plt\n",
    "import os\n",
    "import random\n",
    "import imageio\n",
    "\n",
    "from sklearn.model_selection import KFold\n",
    "\n",
    "import tensorflow as tf\n",
    "from tensorflow import keras\n",
    "from tensorflow.keras import regularizers\n",
    "import keras_tuner as kt\n",
    "\n",
    "from amftrack.ml.width.models import hyper_model_builder_simple, build_model_dense, build_model_conv\n",
    "from amftrack.util.sys import storage_path\n",
    "from amftrack.ml.width.data_augmentation import data_augmentation, data_preparation\n",
    "from keras.utils.layer_utils import count_params  "
   ]
  },
  {
   "cell_type": "markdown",
   "id": "485285ad",
   "metadata": {},
   "source": [
    "### Fetch data"
   ]
  },
  {
   "cell_type": "markdown",
   "id": "b305e51e",
   "metadata": {},
   "source": [
    "Repository with all possible datasets"
   ]
  },
  {
   "cell_type": "code",
   "execution_count": 20,
   "id": "b9c884c3",
   "metadata": {},
   "outputs": [],
   "source": [
    "dataset_path = os.path.join(storage_path, \"datasets\")"
   ]
  },
  {
   "cell_type": "markdown",
   "id": "41b9bdd8",
   "metadata": {},
   "source": [
    "Two datasets that I have choosen to use"
   ]
  },
  {
   "cell_type": "code",
   "execution_count": 21,
   "id": "82126ca1",
   "metadata": {},
   "outputs": [],
   "source": [
    "focused_dataset_path = os.path.join(dataset_path, \"focused_with_varying_lum_train\") # dataset with varying lumination but consistent focus\n",
    "extended_dataset_path = os.path.join(dataset_path, \"varying_lum_and_focus_train\") # dataset with varying lumination but consistent focus"
   ]
  },
  {
   "cell_type": "markdown",
   "id": "2653ccf5",
   "metadata": {},
   "source": [
    "For now: using the focused dataset"
   ]
  },
  {
   "cell_type": "code",
   "execution_count": 22,
   "id": "f9f1d2c5",
   "metadata": {},
   "outputs": [],
   "source": [
    "path = focused_dataset_path"
   ]
  },
  {
   "cell_type": "code",
   "execution_count": 23,
   "id": "7e5d9e3c",
   "metadata": {},
   "outputs": [],
   "source": [
    "im_path = os.path.join(path, \"slices.png\")\n",
    "label_path = os.path.join(path, \"labels.npy\")"
   ]
  },
  {
   "cell_type": "code",
   "execution_count": 24,
   "id": "cab14b2e",
   "metadata": {},
   "outputs": [
    {
     "name": "stdout",
     "output_type": "stream",
     "text": [
      "(527, 120)\n"
     ]
    }
   ],
   "source": [
    "im = imageio.imread(im_path)\n",
    "print(im.shape)"
   ]
  },
  {
   "cell_type": "code",
   "execution_count": 25,
   "id": "8c26d17c",
   "metadata": {},
   "outputs": [
    {
     "name": "stdout",
     "output_type": "stream",
     "text": [
      "(527,)\n"
     ]
    }
   ],
   "source": [
    "with open(label_path, 'rb') as f:\n",
    "    label = np.load(f)\n",
    "print(label.shape)"
   ]
  },
  {
   "cell_type": "code",
   "execution_count": 26,
   "id": "c568feb6",
   "metadata": {},
   "outputs": [],
   "source": [
    "label = np.expand_dims(label, axis = 1)"
   ]
  },
  {
   "cell_type": "code",
   "execution_count": 27,
   "id": "9d530f01",
   "metadata": {},
   "outputs": [
    {
     "data": {
      "text/plain": [
       "(527, 1)"
      ]
     },
     "execution_count": 27,
     "metadata": {},
     "output_type": "execute_result"
    }
   ],
   "source": [
    "label.shape"
   ]
  },
  {
   "cell_type": "markdown",
   "id": "5b4d5dd1",
   "metadata": {},
   "source": [
    "### Data preparation"
   ]
  },
  {
   "cell_type": "markdown",
   "id": "b37844b7",
   "metadata": {},
   "source": [
    "For seperating the test set (not used for now as the test is done in another notebook²)"
   ]
  },
  {
   "cell_type": "code",
   "execution_count": 28,
   "id": "e76a7826",
   "metadata": {},
   "outputs": [
    {
     "name": "stdout",
     "output_type": "stream",
     "text": [
      "377\n",
      "150\n"
     ]
    }
   ],
   "source": [
    "seed = 11\n",
    "np.random.seed(11)\n",
    "p = np.random.permutation(len(label))\n",
    "training = p[:-150]\n",
    "valid = p[-150:]\n",
    "print(len(training))\n",
    "print(len(valid))"
   ]
  },
  {
   "cell_type": "code",
   "execution_count": 29,
   "id": "3a513000",
   "metadata": {},
   "outputs": [],
   "source": [
    "train_feature = im[training, :]\n",
    "train_label = label[training,:]\n",
    "valid_feature = im[valid, :]\n",
    "valid_label = label[valid, :]"
   ]
  },
  {
   "cell_type": "markdown",
   "id": "18fdb088",
   "metadata": {},
   "source": [
    "Instead we just take it all"
   ]
  },
  {
   "cell_type": "raw",
   "id": "d9f95f1c",
   "metadata": {},
   "source": [
    "train_feature = im\n",
    "train_label = label"
   ]
  },
  {
   "cell_type": "code",
   "execution_count": 30,
   "id": "aeb87d01",
   "metadata": {},
   "outputs": [
    {
     "data": {
      "text/plain": [
       "(377, 120)"
      ]
     },
     "execution_count": 30,
     "metadata": {},
     "output_type": "execute_result"
    }
   ],
   "source": [
    "train_feature.shape"
   ]
  },
  {
   "cell_type": "markdown",
   "id": "b26c2475",
   "metadata": {},
   "source": [
    "### Visualisation"
   ]
  },
  {
   "cell_type": "code",
   "execution_count": 13,
   "id": "5a8a0447",
   "metadata": {},
   "outputs": [],
   "source": [
    "i = 300"
   ]
  },
  {
   "cell_type": "code",
   "execution_count": 14,
   "id": "197fd5be",
   "metadata": {
    "scrolled": true
   },
   "outputs": [
    {
     "data": {
      "text/plain": [
       "[<matplotlib.lines.Line2D at 0x7f600477d400>]"
      ]
     },
     "execution_count": 14,
     "metadata": {},
     "output_type": "execute_result"
    },
    {
     "data": {
      "image/png": "[encoded data removed]",
      "text/plain": [
       "<Figure size 432x288 with 1 Axes>"
      ]
     },
     "metadata": {
      "needs_background": "light"
     },
     "output_type": "display_data"
    }
   ],
   "source": [
    "plt.plot(im[i,:])"
   ]
  },
  {
   "cell_type": "code",
   "execution_count": 327,
   "id": "a27e66af",
   "metadata": {},
   "outputs": [
    {
     "data": {
      "text/plain": [
       "array([3.54463004])"
      ]
     },
     "execution_count": 327,
     "metadata": {},
     "output_type": "execute_result"
    }
   ],
   "source": [
    "label[i,:]"
   ]
  },
  {
   "cell_type": "markdown",
   "id": "2e69aa32",
   "metadata": {},
   "source": [
    "## Mean predicting model"
   ]
  },
  {
   "cell_type": "code",
   "execution_count": 15,
   "id": "8bbb1b88",
   "metadata": {
    "scrolled": true
   },
   "outputs": [
    {
     "data": {
      "text/plain": [
       "(377, 1)"
      ]
     },
     "execution_count": 15,
     "metadata": {},
     "output_type": "execute_result"
    }
   ],
   "source": [
    "train_label.shape"
   ]
  },
  {
   "cell_type": "code",
   "execution_count": 16,
   "id": "07f41a64",
   "metadata": {},
   "outputs": [
    {
     "data": {
      "text/plain": [
       "4.982430809438182"
      ]
     },
     "execution_count": 16,
     "metadata": {},
     "output_type": "execute_result"
    }
   ],
   "source": [
    "np.var(train_label)"
   ]
  },
  {
   "cell_type": "code",
   "execution_count": 17,
   "id": "4546373c",
   "metadata": {
    "scrolled": false
   },
   "outputs": [
    {
     "data": {
      "text/plain": [
       "2.2321359298748322"
      ]
     },
     "execution_count": 17,
     "metadata": {},
     "output_type": "execute_result"
    }
   ],
   "source": [
    "np.std(train_label)"
   ]
  },
  {
   "cell_type": "code",
   "execution_count": 18,
   "id": "13ef7529",
   "metadata": {},
   "outputs": [
    {
     "name": "stdout",
     "output_type": "stream",
     "text": [
      "Mean is: 5.279759580329631, Mean squarred error is: 4.982430809438182\n"
     ]
    }
   ],
   "source": [
    "mean = np.mean(train_label)\n",
    "pred = np.full(train_label.shape, mean)\n",
    "res = np.mean((train_label - pred)**2)\n",
    "print(f\"Mean is: {mean}, Mean squarred error is: {res}\")"
   ]
  },
  {
   "cell_type": "code",
   "execution_count": 19,
   "id": "ddd21728",
   "metadata": {},
   "outputs": [
    {
     "name": "stdout",
     "output_type": "stream",
     "text": [
      "Mean is: 5.279759580329631, Mean absolute error is: 1.5887181524020357\n"
     ]
    }
   ],
   "source": [
    "mean = np.mean(train_label)\n",
    "pred = np.full(train_label.shape, mean)\n",
    "res = np.mean(abs(train_label - pred))\n",
    "print(f\"Mean is: {mean}, Mean absolute error is: {res}\")"
   ]
  },
  {
   "cell_type": "markdown",
   "id": "0a3fa786",
   "metadata": {},
   "source": [
    "## Data preprocessing"
   ]
  },
  {
   "cell_type": "markdown",
   "id": "ee3a0b4c",
   "metadata": {},
   "source": [
    "### Train dataset"
   ]
  },
  {
   "cell_type": "code",
   "execution_count": 83,
   "id": "3a80fc8e",
   "metadata": {},
   "outputs": [],
   "source": [
    "from amftrack.ml.width.data_augmentation import data_preparation, data_augmentation, random_crop, random_mirror, random_invert, random_brightness"
   ]
  },
  {
   "cell_type": "code",
   "execution_count": 84,
   "id": "ff749531",
   "metadata": {},
   "outputs": [
    {
     "data": {
      "text/plain": [
       "(211, 120)"
      ]
     },
     "execution_count": 84,
     "metadata": {},
     "output_type": "execute_result"
    }
   ],
   "source": [
    "train_feature.shape"
   ]
  },
  {
   "cell_type": "markdown",
   "id": "fc203714",
   "metadata": {},
   "source": [
    "PROPRE"
   ]
  },
  {
   "cell_type": "code",
   "execution_count": 85,
   "id": "c413fa9f",
   "metadata": {},
   "outputs": [],
   "source": [
    "train_feature_ds = np.expand_dims(train_feature, axis = -1)\n",
    "train_feature_ds = np.expand_dims(train_feature_ds, axis = -3)"
   ]
  },
  {
   "cell_type": "code",
   "execution_count": 86,
   "id": "1b465374",
   "metadata": {},
   "outputs": [
    {
     "data": {
      "text/plain": [
       "(211, 1, 120, 1)"
      ]
     },
     "execution_count": 86,
     "metadata": {},
     "output_type": "execute_result"
    }
   ],
   "source": [
    "train_feature_ds.shape"
   ]
  },
  {
   "cell_type": "code",
   "execution_count": 87,
   "id": "a678f245",
   "metadata": {},
   "outputs": [],
   "source": [
    "d1 = tf.data.Dataset.from_tensor_slices(train_feature_ds)\n",
    "d2 = tf.data.Dataset.from_tensor_slices(train_label)\n",
    "train_ds = tf.data.Dataset.zip((d1, d2))"
   ]
  },
  {
   "cell_type": "code",
   "execution_count": 88,
   "id": "2ee85d00",
   "metadata": {},
   "outputs": [
    {
     "data": {
      "text/plain": [
       "<TensorSliceDataset element_spec=TensorSpec(shape=(1, 120, 1), dtype=tf.uint8, name=None)>"
      ]
     },
     "execution_count": 88,
     "metadata": {},
     "output_type": "execute_result"
    }
   ],
   "source": [
    "# TEST\n",
    "d1"
   ]
  },
  {
   "cell_type": "code",
   "execution_count": 89,
   "id": "8b2bc3b3",
   "metadata": {},
   "outputs": [
    {
     "data": {
      "text/plain": [
       "<TensorSliceDataset element_spec=TensorSpec(shape=(1,), dtype=tf.float64, name=None)>"
      ]
     },
     "execution_count": 89,
     "metadata": {},
     "output_type": "execute_result"
    }
   ],
   "source": [
    "# TEST\n",
    "d2"
   ]
  },
  {
   "cell_type": "code",
   "execution_count": 90,
   "id": "9e138b30",
   "metadata": {},
   "outputs": [
    {
     "data": {
      "text/plain": [
       "(211, 1)"
      ]
     },
     "execution_count": 90,
     "metadata": {},
     "output_type": "execute_result"
    }
   ],
   "source": [
    "# TEST\n",
    "train_label.shape"
   ]
  },
  {
   "cell_type": "code",
   "execution_count": 91,
   "id": "4a1d117d",
   "metadata": {},
   "outputs": [
    {
     "data": {
      "text/plain": [
       "<tf.Tensor: shape=(1, 80, 1), dtype=float32, numpy=\n",
       "array([[[141.],\n",
       "        [141.],\n",
       "        [144.],\n",
       "        [145.],\n",
       "        [144.],\n",
       "        [144.],\n",
       "        [144.],\n",
       "        [141.],\n",
       "        [144.],\n",
       "        [143.],\n",
       "        [141.],\n",
       "        [142.],\n",
       "        [144.],\n",
       "        [143.],\n",
       "        [143.],\n",
       "        [142.],\n",
       "        [141.],\n",
       "        [142.],\n",
       "        [144.],\n",
       "        [144.],\n",
       "        [144.],\n",
       "        [145.],\n",
       "        [144.],\n",
       "        [143.],\n",
       "        [143.],\n",
       "        [145.],\n",
       "        [145.],\n",
       "        [143.],\n",
       "        [146.],\n",
       "        [145.],\n",
       "        [145.],\n",
       "        [144.],\n",
       "        [143.],\n",
       "        [144.],\n",
       "        [138.],\n",
       "        [133.],\n",
       "        [120.],\n",
       "        [111.],\n",
       "        [102.],\n",
       "        [103.],\n",
       "        [113.],\n",
       "        [119.],\n",
       "        [118.],\n",
       "        [120.],\n",
       "        [124.],\n",
       "        [123.],\n",
       "        [123.],\n",
       "        [124.],\n",
       "        [123.],\n",
       "        [124.],\n",
       "        [124.],\n",
       "        [126.],\n",
       "        [124.],\n",
       "        [126.],\n",
       "        [128.],\n",
       "        [129.],\n",
       "        [129.],\n",
       "        [134.],\n",
       "        [133.],\n",
       "        [133.],\n",
       "        [136.],\n",
       "        [136.],\n",
       "        [136.],\n",
       "        [137.],\n",
       "        [138.],\n",
       "        [138.],\n",
       "        [139.],\n",
       "        [141.],\n",
       "        [141.],\n",
       "        [141.],\n",
       "        [140.],\n",
       "        [141.],\n",
       "        [141.],\n",
       "        [142.],\n",
       "        [139.],\n",
       "        [141.],\n",
       "        [142.],\n",
       "        [141.],\n",
       "        [142.],\n",
       "        [144.]]], dtype=float32)>"
      ]
     },
     "execution_count": 91,
     "metadata": {},
     "output_type": "execute_result"
    }
   ],
   "source": [
    "# TEST\n",
    "for e in train_ds:\n",
    "    break\n",
    "data_augmentation(e[0])"
   ]
  },
  {
   "cell_type": "code",
   "execution_count": 92,
   "id": "57e84709",
   "metadata": {},
   "outputs": [],
   "source": [
    "train_ds = (\n",
    "    train_ds.map(lambda x, y: (data_augmentation(x, training=True), y))\n",
    "    #.unbatch()\n",
    "    .batch(16)\n",
    "    .prefetch(tf.data.AUTOTUNE)\n",
    ")"
   ]
  },
  {
   "cell_type": "code",
   "execution_count": 93,
   "id": "801ef0f3",
   "metadata": {},
   "outputs": [
    {
     "data": {
      "text/plain": [
       "<PrefetchDataset element_spec=(TensorSpec(shape=(None, None, None, 1), dtype=tf.float32, name=None), TensorSpec(shape=(None, 1), dtype=tf.float64, name=None))>"
      ]
     },
     "execution_count": 93,
     "metadata": {},
     "output_type": "execute_result"
    }
   ],
   "source": [
    "train_ds"
   ]
  },
  {
   "cell_type": "markdown",
   "id": "54e8282e",
   "metadata": {},
   "source": [
    "TEST"
   ]
  },
  {
   "cell_type": "code",
   "execution_count": 31,
   "id": "f584bf12",
   "metadata": {
    "scrolled": true
   },
   "outputs": [],
   "source": [
    "for e in train_ds:\n",
    "    break"
   ]
  },
  {
   "cell_type": "code",
   "execution_count": 32,
   "id": "e92a6148",
   "metadata": {},
   "outputs": [
    {
     "data": {
      "text/plain": [
       "(16, 1, 80, 1)"
      ]
     },
     "execution_count": 32,
     "metadata": {},
     "output_type": "execute_result"
    }
   ],
   "source": [
    "np.array(e[0]).shape"
   ]
  },
  {
   "cell_type": "code",
   "execution_count": 33,
   "id": "cfe9aa3f",
   "metadata": {},
   "outputs": [
    {
     "data": {
      "text/plain": [
       "[<matplotlib.lines.Line2D at 0x7f60046e5e20>]"
      ]
     },
     "execution_count": 33,
     "metadata": {},
     "output_type": "execute_result"
    },
    {
     "data": {
      "image/png": "[encoded data removed]",
      "text/plain": [
       "<Figure size 432x288 with 1 Axes>"
      ]
     },
     "metadata": {
      "needs_background": "light"
     },
     "output_type": "display_data"
    }
   ],
   "source": [
    "plt.plot(np.array(e[0][0, 0,:,0]))"
   ]
  },
  {
   "cell_type": "raw",
   "id": "200903d9",
   "metadata": {},
   "source": [
    "plt.plot(np.array(e[0][0,:,0]))"
   ]
  },
  {
   "cell_type": "code",
   "execution_count": 119,
   "id": "48588d12",
   "metadata": {
    "scrolled": true
   },
   "outputs": [
    {
     "data": {
      "text/plain": [
       "[<matplotlib.lines.Line2D at 0x7f93985ece80>]"
      ]
     },
     "execution_count": 119,
     "metadata": {},
     "output_type": "execute_result"
    },
    {
     "data": {
      "image/png": "[encoded data removed]",
      "text/plain": [
       "<Figure size 432x288 with 1 Axes>"
      ]
     },
     "metadata": {
      "needs_background": "light"
     },
     "output_type": "display_data"
    }
   ],
   "source": [
    "plt.plot(np.array(e[0][0,:,0]))"
   ]
  },
  {
   "cell_type": "markdown",
   "id": "f0af29fc",
   "metadata": {},
   "source": [
    "### Test dataset"
   ]
  },
  {
   "cell_type": "code",
   "execution_count": 106,
   "id": "b161e2aa",
   "metadata": {},
   "outputs": [],
   "source": [
    "valid_feature_ds = np.expand_dims(valid_feature, axis = -1)\n",
    "valid_feature_ds = np.expand_dims(valid_feature_ds, axis = -3)\n",
    "d1 = tf.data.Dataset.from_tensor_slices(valid_feature_ds)\n",
    "d2 = tf.data.Dataset.from_tensor_slices(valid_label)\n",
    "valid_ds = tf.data.Dataset.zip((d1, d2))\n",
    "valid_ds = (\n",
    "    valid_ds.map(lambda x, y: (data_preparation(x, training=True), y))\n",
    "    .unbatch()\n",
    "    .batch(16)\n",
    "    .prefetch(tf.data.AUTOTUNE)\n",
    ")"
   ]
  },
  {
   "cell_type": "code",
   "execution_count": 107,
   "id": "8eb49638",
   "metadata": {},
   "outputs": [
    {
     "name": "stdout",
     "output_type": "stream",
     "text": [
      "(<tf.Tensor: shape=(16, 80, 1), dtype=float32, numpy=\n",
      "array([[[131.],\n",
      "        [130.],\n",
      "        [129.],\n",
      "        ...,\n",
      "        [126.],\n",
      "        [124.],\n",
      "        [125.]],\n",
      "\n",
      "       [[130.],\n",
      "        [130.],\n",
      "        [128.],\n",
      "        ...,\n",
      "        [125.],\n",
      "        [124.],\n",
      "        [126.]],\n",
      "\n",
      "       [[130.],\n",
      "        [131.],\n",
      "        [131.],\n",
      "        ...,\n",
      "        [125.],\n",
      "        [125.],\n",
      "        [126.]],\n",
      "\n",
      "       ...,\n",
      "\n",
      "       [[134.],\n",
      "        [133.],\n",
      "        [134.],\n",
      "        ...,\n",
      "        [130.],\n",
      "        [131.],\n",
      "        [130.]],\n",
      "\n",
      "       [[123.],\n",
      "        [121.],\n",
      "        [123.],\n",
      "        ...,\n",
      "        [115.],\n",
      "        [117.],\n",
      "        [116.]],\n",
      "\n",
      "       [[114.],\n",
      "        [113.],\n",
      "        [117.],\n",
      "        ...,\n",
      "        [110.],\n",
      "        [113.],\n",
      "        [114.]]], dtype=float32)>, <tf.Tensor: shape=(16,), dtype=float64, numpy=\n",
      "array([7.26221294, 5.93755418, 5.5774322 , 4.19787153, 3.7441611 ,\n",
      "       5.20109506, 4.87914297, 0.        , 8.52101685, 8.73503977,\n",
      "       4.59109883, 4.34090199, 4.35067225, 4.18356936, 5.923182  ,\n",
      "       8.89809448])>)\n"
     ]
    }
   ],
   "source": [
    "for e in valid_ds:\n",
    "    print(e)\n",
    "    break"
   ]
  },
  {
   "cell_type": "markdown",
   "id": "3b62d96f",
   "metadata": {},
   "source": [
    "## Training a dense model"
   ]
  },
  {
   "cell_type": "markdown",
   "id": "a8363a6e",
   "metadata": {},
   "source": [
    "### 1/ Run hyperparameter search"
   ]
  },
  {
   "cell_type": "code",
   "execution_count": 108,
   "id": "99c9f9fa",
   "metadata": {},
   "outputs": [],
   "source": [
    "tuner = kt.RandomSearch(\n",
    "    build_model_dense,\n",
    "    objective='val_mean_absolute_error',\n",
    "    max_trials=2,\n",
    "    seed=seed,\n",
    "    hyperparameters=None,\n",
    "    tune_new_entries=True,\n",
    "    allow_new_entries=True,\n",
    "    overwrite=True\n",
    ")"
   ]
  },
  {
   "cell_type": "markdown",
   "id": "a381007e",
   "metadata": {},
   "source": [
    "Without augmentation:"
   ]
  },
  {
   "cell_type": "raw",
   "id": "1419fe70",
   "metadata": {},
   "source": [
    "tuner.search(train_feature,\n",
    "             train_label,\n",
    "             validation_split=0.2,\n",
    "             epochs=50,\n",
    "             callbacks=[tf.keras.callbacks.EarlyStopping(patience=8)])"
   ]
  },
  {
   "cell_type": "markdown",
   "id": "9596a0ac",
   "metadata": {},
   "source": [
    "Actual search"
   ]
  },
  {
   "cell_type": "code",
   "execution_count": 109,
   "id": "904cbdd2",
   "metadata": {
    "scrolled": true
   },
   "outputs": [
    {
     "name": "stdout",
     "output_type": "stream",
     "text": [
      "Trial 2 Complete [00h 00m 09s]\n",
      "val_mean_absolute_error: 1.5756679773330688\n",
      "\n",
      "Best val_mean_absolute_error So Far: 1.170708417892456\n",
      "Total elapsed time: 00h 00m 27s\n",
      "INFO:tensorflow:Oracle triggered exit\n",
      "2022-08-17 16:31:11,773-[INFO]- tensorflow:1 -> Oracle triggered exit\n"
     ]
    }
   ],
   "source": [
    "tuner.search(train_ds,\n",
    "             validation_data= valid_ds,\n",
    "             epochs=100,\n",
    "             callbacks=[tf.keras.callbacks.EarlyStopping(patience=8)])"
   ]
  },
  {
   "cell_type": "markdown",
   "id": "3bafe37f",
   "metadata": {},
   "source": [
    "### 2/ Analyse hyperparameter search results"
   ]
  },
  {
   "cell_type": "markdown",
   "id": "8c594e72",
   "metadata": {},
   "source": [
    "#### Search space"
   ]
  },
  {
   "cell_type": "code",
   "execution_count": 132,
   "id": "7b8a5e5a",
   "metadata": {},
   "outputs": [
    {
     "name": "stdout",
     "output_type": "stream",
     "text": [
      "Search space summary\n",
      "Default search space size: 6\n",
      "input_size (Fixed)\n",
      "{'conditions': [], 'value': 80}\n",
      "hidden_size (Int)\n",
      "{'default': 32, 'conditions': [], 'min_value': 10, 'max_value': 100, 'step': 32, 'sampling': None}\n",
      "regul (Float)\n",
      "{'default': 0.0001, 'conditions': [], 'min_value': 1e-05, 'max_value': 0.1, 'step': None, 'sampling': 'log'}\n",
      "dense_blocks (Int)\n",
      "{'default': 3, 'conditions': [], 'min_value': 1, 'max_value': 10, 'step': 1, 'sampling': None}\n",
      "dropout (Float)\n",
      "{'default': 0.5, 'conditions': [], 'min_value': 0.0, 'max_value': 0.5, 'step': 0.1, 'sampling': None}\n",
      "learning_rate (Float)\n",
      "{'default': 0.001, 'conditions': [], 'min_value': 1e-05, 'max_value': 0.1, 'step': None, 'sampling': 'log'}\n"
     ]
    }
   ],
   "source": [
    "tuner.search_space_summary()"
   ]
  },
  {
   "cell_type": "markdown",
   "id": "a2734bd6",
   "metadata": {},
   "source": [
    "#### Best models"
   ]
  },
  {
   "cell_type": "code",
   "execution_count": 133,
   "id": "00be1ffa",
   "metadata": {
    "scrolled": true
   },
   "outputs": [
    {
     "name": "stdout",
     "output_type": "stream",
     "text": [
      "Results summary\n",
      "Results in ./untitled_project\n",
      "Showing 10 best trials\n",
      "<keras_tuner.engine.objective.Objective object at 0x7f9398558dc0>\n",
      "Trial summary\n",
      "Hyperparameters:\n",
      "input_size: 80\n",
      "hidden_size: 42\n",
      "regul: 0.0035557261842639634\n",
      "dense_blocks: 3\n",
      "dropout: 0.0\n",
      "learning_rate: 0.0016003804865801434\n",
      "Score: 0.8687390089035034\n",
      "Trial summary\n",
      "Hyperparameters:\n",
      "input_size: 80\n",
      "hidden_size: 74\n",
      "regul: 0.0014215854798312684\n",
      "dense_blocks: 4\n",
      "dropout: 0.0\n",
      "learning_rate: 0.0009024056738718249\n",
      "Score: 0.8745074272155762\n",
      "Trial summary\n",
      "Hyperparameters:\n",
      "input_size: 80\n",
      "hidden_size: 74\n",
      "regul: 0.003042708823781575\n",
      "dense_blocks: 10\n",
      "dropout: 0.0\n",
      "learning_rate: 0.00012991522868696756\n",
      "Score: 0.893924355506897\n",
      "Trial summary\n",
      "Hyperparameters:\n",
      "input_size: 80\n",
      "hidden_size: 42\n",
      "regul: 2.3894475848953514e-05\n",
      "dense_blocks: 2\n",
      "dropout: 0.1\n",
      "learning_rate: 0.005474312018433092\n",
      "Score: 0.8982808589935303\n",
      "Trial summary\n",
      "Hyperparameters:\n",
      "input_size: 80\n",
      "hidden_size: 42\n",
      "regul: 0.005345868140133228\n",
      "dense_blocks: 7\n",
      "dropout: 0.1\n",
      "learning_rate: 0.0006830096465894109\n",
      "Score: 0.8991726636886597\n",
      "Trial summary\n",
      "Hyperparameters:\n",
      "input_size: 80\n",
      "hidden_size: 42\n",
      "regul: 7.419986020721268e-05\n",
      "dense_blocks: 4\n",
      "dropout: 0.0\n",
      "learning_rate: 0.00131468430863635\n",
      "Score: 0.9022498726844788\n",
      "Trial summary\n",
      "Hyperparameters:\n",
      "input_size: 80\n",
      "hidden_size: 74\n",
      "regul: 0.0006859929324926785\n",
      "dense_blocks: 3\n",
      "dropout: 0.0\n",
      "learning_rate: 0.0024347751743557036\n",
      "Score: 0.9025624394416809\n",
      "Trial summary\n",
      "Hyperparameters:\n",
      "input_size: 80\n",
      "hidden_size: 74\n",
      "regul: 1.1197291634395498e-05\n",
      "dense_blocks: 2\n",
      "dropout: 0.30000000000000004\n",
      "learning_rate: 0.0013053937581869813\n",
      "Score: 0.9141782522201538\n",
      "Trial summary\n",
      "Hyperparameters:\n",
      "input_size: 80\n",
      "hidden_size: 74\n",
      "regul: 1.439633372413637e-05\n",
      "dense_blocks: 3\n",
      "dropout: 0.2\n",
      "learning_rate: 0.00017897193365462775\n",
      "Score: 0.9145975708961487\n",
      "Trial summary\n",
      "Hyperparameters:\n",
      "input_size: 80\n",
      "hidden_size: 42\n",
      "regul: 0.003906048447859262\n",
      "dense_blocks: 3\n",
      "dropout: 0.0\n",
      "learning_rate: 0.00047091984596836793\n",
      "Score: 0.9160992503166199\n"
     ]
    }
   ],
   "source": [
    "tuner.results_summary()"
   ]
  },
  {
   "cell_type": "code",
   "execution_count": 134,
   "id": "74f9ea97",
   "metadata": {},
   "outputs": [],
   "source": [
    "best_models = tuner.get_best_models(10)"
   ]
  },
  {
   "cell_type": "code",
   "execution_count": 137,
   "id": "1db17612",
   "metadata": {},
   "outputs": [],
   "source": [
    "best_parameters = tuner.get_best_hyperparameters(10)"
   ]
  },
  {
   "cell_type": "code",
   "execution_count": 155,
   "id": "016222da",
   "metadata": {
    "scrolled": true
   },
   "outputs": [
    {
     "data": {
      "text/plain": [
       "['__class__',\n",
       " '__delattr__',\n",
       " '__dict__',\n",
       " '__dir__',\n",
       " '__doc__',\n",
       " '__eq__',\n",
       " '__format__',\n",
       " '__ge__',\n",
       " '__getattribute__',\n",
       " '__gt__',\n",
       " '__hash__',\n",
       " '__init__',\n",
       " '__init_subclass__',\n",
       " '__le__',\n",
       " '__lt__',\n",
       " '__module__',\n",
       " '__ne__',\n",
       " '__new__',\n",
       " '__reduce__',\n",
       " '__reduce_ex__',\n",
       " '__repr__',\n",
       " '__setattr__',\n",
       " '__sizeof__',\n",
       " '__str__',\n",
       " '__subclasshook__',\n",
       " '__weakref__',\n",
       " '_build_and_fit_model',\n",
       " '_build_hypermodel',\n",
       " '_configure_tensorboard_dir',\n",
       " '_deepcopy_callbacks',\n",
       " '_display',\n",
       " '_get_checkpoint_fname',\n",
       " '_get_tensorboard_dir',\n",
       " '_get_tuner_fname',\n",
       " '_override_compile_args',\n",
       " '_populate_initial_space',\n",
       " '_save_n_checkpoints',\n",
       " '_try_build',\n",
       " 'directory',\n",
       " 'distribution_strategy',\n",
       " 'executions_per_trial',\n",
       " 'get_best_hyperparameters',\n",
       " 'get_best_models',\n",
       " 'get_state',\n",
       " 'get_trial_dir',\n",
       " 'hypermodel',\n",
       " 'load_model',\n",
       " 'logger',\n",
       " 'loss',\n",
       " 'max_model_size',\n",
       " 'metrics',\n",
       " 'on_batch_begin',\n",
       " 'on_batch_end',\n",
       " 'on_epoch_begin',\n",
       " 'on_epoch_end',\n",
       " 'on_search_begin',\n",
       " 'on_search_end',\n",
       " 'on_trial_begin',\n",
       " 'on_trial_end',\n",
       " 'optimizer',\n",
       " 'oracle',\n",
       " 'project_dir',\n",
       " 'project_name',\n",
       " 'reload',\n",
       " 'remaining_trials',\n",
       " 'results_summary',\n",
       " 'run_trial',\n",
       " 'save',\n",
       " 'save_model',\n",
       " 'search',\n",
       " 'search_space_summary',\n",
       " 'seed',\n",
       " 'set_state',\n",
       " 'tuner_id']"
      ]
     },
     "execution_count": 155,
     "metadata": {},
     "output_type": "execute_result"
    }
   ],
   "source": [
    "dir(tuner)"
   ]
  },
  {
   "cell_type": "markdown",
   "id": "21c874a3",
   "metadata": {},
   "source": [
    "#### Best model"
   ]
  },
  {
   "cell_type": "code",
   "execution_count": 135,
   "id": "96694849",
   "metadata": {},
   "outputs": [],
   "source": [
    "best_model = best_models[0]"
   ]
  },
  {
   "cell_type": "code",
   "execution_count": 136,
   "id": "f48c513c",
   "metadata": {},
   "outputs": [
    {
     "name": "stdout",
     "output_type": "stream",
     "text": [
      "Model: \"model\"\n",
      "_________________________________________________________________\n",
      " Layer (type)                Output Shape              Param #   \n",
      "=================================================================\n",
      " input_1 (InputLayer)        [(None, 80, 1)]           0         \n",
      "                                                                 \n",
      " reshape (Reshape)           (None, 80)                0         \n",
      "                                                                 \n",
      " rescaling (Rescaling)       (None, 80)                0         \n",
      "                                                                 \n",
      " dense (Dense)               (None, 42)                3402      \n",
      "                                                                 \n",
      " dropout (Dropout)           (None, 42)                0         \n",
      "                                                                 \n",
      " dense_1 (Dense)             (None, 42)                1806      \n",
      "                                                                 \n",
      " dropout_1 (Dropout)         (None, 42)                0         \n",
      "                                                                 \n",
      " dense_2 (Dense)             (None, 42)                1806      \n",
      "                                                                 \n",
      " dropout_2 (Dropout)         (None, 42)                0         \n",
      "                                                                 \n",
      " dense_3 (Dense)             (None, 1)                 43        \n",
      "                                                                 \n",
      "=================================================================\n",
      "Total params: 7,057\n",
      "Trainable params: 7,057\n",
      "Non-trainable params: 0\n",
      "_________________________________________________________________\n"
     ]
    }
   ],
   "source": [
    "best_model.summary()"
   ]
  },
  {
   "cell_type": "code",
   "execution_count": 143,
   "id": "18f92423",
   "metadata": {},
   "outputs": [
    {
     "data": {
      "text/plain": [
       "{'input_size': 80,\n",
       " 'hidden_size': 42,\n",
       " 'regul': 0.0035557261842639634,\n",
       " 'dense_blocks': 3,\n",
       " 'dropout': 0.0,\n",
       " 'learning_rate': 0.0016003804865801434}"
      ]
     },
     "execution_count": 143,
     "metadata": {},
     "output_type": "execute_result"
    }
   ],
   "source": [
    "best_hyperparameters = best_parameters[0]\n",
    "best_hyperparameters.values"
   ]
  },
  {
   "cell_type": "code",
   "execution_count": null,
   "id": "01e251eb",
   "metadata": {},
   "outputs": [],
   "source": [
    "best_hyperparmeters[i][]"
   ]
  },
  {
   "cell_type": "code",
   "execution_count": 154,
   "id": "1a7d28e7",
   "metadata": {
    "scrolled": true
   },
   "outputs": [
    {
     "name": "stdout",
     "output_type": "stream",
     "text": [
      "Model 0\n",
      "7057\n",
      "Model 1\n",
      "22719\n",
      "Model 2\n",
      "56019\n",
      "Model 3\n",
      "5251\n",
      "Model 4\n",
      "14281\n",
      "Model 5\n",
      "8863\n",
      "Model 6\n",
      "17169\n",
      "Model 7\n",
      "11619\n",
      "Model 8\n",
      "17169\n",
      "Model 9\n",
      "7057\n"
     ]
    }
   ],
   "source": [
    "\n",
    "for i in range(10):\n",
    "    print(f\"Model {i}\")\n",
    "    print(count_params(best_models[i].trainable_weights))\n",
    "    print()"
   ]
  },
  {
   "cell_type": "markdown",
   "id": "a9252386",
   "metadata": {},
   "source": [
    "#### Visualize prediction on the validation set"
   ]
  },
  {
   "cell_type": "code",
   "execution_count": 156,
   "id": "1d696ec3",
   "metadata": {},
   "outputs": [],
   "source": [
    "def plot_against(model, test_feature, test_label):\n",
    "    predicted = model.predict(test_feature)\n",
    "    plt.scatter(test_label, predicted, marker='o')\n",
    "    plt.plot([0,12],[0,12])\n",
    "    plt.xlim(2, 16)\n",
    "    plt.ylim(2, 16)"
   ]
  },
  {
   "cell_type": "code",
   "execution_count": 157,
   "id": "4f177b4f",
   "metadata": {
    "scrolled": false
   },
   "outputs": [
    {
     "data": {
      "image/png": "[encoded data removed]",
      "text/plain": [
       "<Figure size 432x288 with 1 Axes>"
      ]
     },
     "metadata": {
      "needs_background": "light"
     },
     "output_type": "display_data"
    }
   ],
   "source": [
    "plot_against(best_model, data_preparation(valid_feature), valid_label)"
   ]
  },
  {
   "cell_type": "code",
   "execution_count": 158,
   "id": "6c96324b",
   "metadata": {
    "scrolled": true
   },
   "outputs": [
    {
     "name": "stdout",
     "output_type": "stream",
     "text": [
      "5/5 [==============================] - 0s 963us/step - loss: 2.5229 - mean_absolute_error: 0.8687\n"
     ]
    },
    {
     "data": {
      "text/plain": [
       "[2.522871255874634, 0.8687390089035034]"
      ]
     },
     "execution_count": 158,
     "metadata": {},
     "output_type": "execute_result"
    }
   ],
   "source": [
    "best_model.evaluate(data_preparation(valid_feature), valid_label)"
   ]
  },
  {
   "cell_type": "code",
   "execution_count": 159,
   "id": "4971c3b4",
   "metadata": {
    "scrolled": true
   },
   "outputs": [
    {
     "data": {
      "text/plain": [
       "(150, 120)"
      ]
     },
     "execution_count": 159,
     "metadata": {},
     "output_type": "execute_result"
    }
   ],
   "source": [
    "valid_feature.shape"
   ]
  },
  {
   "cell_type": "markdown",
   "id": "b7a083a2",
   "metadata": {},
   "source": [
    "### 3/ Retrain the best models with cross validation"
   ]
  },
  {
   "cell_type": "markdown",
   "id": "c604bb08",
   "metadata": {},
   "source": [
    "valid_e is the validation set for early stopping\\\n",
    "valid is the validation set to evaluate a split"
   ]
  },
  {
   "cell_type": "markdown",
   "id": "9532cd0b",
   "metadata": {},
   "source": [
    "**Model**"
   ]
  },
  {
   "cell_type": "raw",
   "id": "21104f28",
   "metadata": {},
   "source": [
    "saved_params = {'input_size': 80,\n",
    " 'hidden_size': 42,\n",
    " 'regul': 0.0035557261842639634,\n",
    " 'dense_blocks': 3,\n",
    " 'dropout': 0.0,\n",
    " 'learning_rate': 0.0016003804865801434}"
   ]
  },
  {
   "cell_type": "code",
   "execution_count": 31,
   "id": "0b72e66a",
   "metadata": {},
   "outputs": [],
   "source": [
    "hp = kt.HyperParameters()\n",
    "hp.Fixed('hidden_size', 42)\n",
    "hp.Fixed('regul', 0.0035)\n",
    "hp.Fixed('dense_blocks', 3)\n",
    "hp.Fixed('dropout', 0.0)\n",
    "hp.Fixed('learning_rate', 0.0016)\n",
    "new_model = build_model_dense(hp)"
   ]
  },
  {
   "cell_type": "code",
   "execution_count": 32,
   "id": "086ab7c5",
   "metadata": {
    "scrolled": true
   },
   "outputs": [
    {
     "name": "stdout",
     "output_type": "stream",
     "text": [
      "Model: \"model_1\"\n",
      "_________________________________________________________________\n",
      " Layer (type)                Output Shape              Param #   \n",
      "=================================================================\n",
      " input_4 (InputLayer)        [(None, 80, 1)]           0         \n",
      "                                                                 \n",
      " reshape_1 (Reshape)         (None, 80)                0         \n",
      "                                                                 \n",
      " rescaling_1 (Rescaling)     (None, 80)                0         \n",
      "                                                                 \n",
      " dense_4 (Dense)             (None, 42)                3402      \n",
      "                                                                 \n",
      " dropout_3 (Dropout)         (None, 42)                0         \n",
      "                                                                 \n",
      " dense_5 (Dense)             (None, 42)                1806      \n",
      "                                                                 \n",
      " dropout_4 (Dropout)         (None, 42)                0         \n",
      "                                                                 \n",
      " dense_6 (Dense)             (None, 42)                1806      \n",
      "                                                                 \n",
      " dropout_5 (Dropout)         (None, 42)                0         \n",
      "                                                                 \n",
      " dense_7 (Dense)             (None, 1)                 43        \n",
      "                                                                 \n",
      "=================================================================\n",
      "Total params: 7,057\n",
      "Trainable params: 7,057\n",
      "Non-trainable params: 0\n",
      "_________________________________________________________________\n"
     ]
    }
   ],
   "source": [
    "new_model.summary()"
   ]
  },
  {
   "cell_type": "markdown",
   "id": "950b860e",
   "metadata": {},
   "source": [
    "TEST"
   ]
  },
  {
   "cell_type": "code",
   "execution_count": 129,
   "id": "8f10a6f9",
   "metadata": {},
   "outputs": [],
   "source": [
    "train_feature_ds = np.expand_dims(train_feature, axis = -1)\n",
    "train_feature_ds = np.expand_dims(train_feature_ds, axis = -3)\n",
    "d1 = tf.data.Dataset.from_tensor_slices(train_feature_ds)\n",
    "d2 = tf.data.Dataset.from_tensor_slices(train_label)\n",
    "train_ds = tf.data.Dataset.zip((d1, d2))\n",
    "train_ds = (\n",
    "    train_ds.map(lambda x, y: (data_augmentation(x, training=True), y))\n",
    "    .unbatch()\n",
    "    .batch(16)\n",
    "    .prefetch(tf.data.AUTOTUNE)\n",
    ")"
   ]
  },
  {
   "cell_type": "code",
   "execution_count": 130,
   "id": "f9e412fe",
   "metadata": {},
   "outputs": [],
   "source": [
    "valid_feature_ds = np.expand_dims(valid_feature, axis = -1)\n",
    "valid_feature_ds = np.expand_dims(valid_feature_ds, axis = -3)\n",
    "d1 = tf.data.Dataset.from_tensor_slices(valid_feature_ds)\n",
    "d2 = tf.data.Dataset.from_tensor_slices(valid_label)\n",
    "valid_ds = tf.data.Dataset.zip((d1, d2))\n",
    "valid_ds = (\n",
    "    valid_ds.map(lambda x, y: (data_preparation(x, training=True), y))\n",
    "    .unbatch()\n",
    "    .batch(16)\n",
    "    .prefetch(tf.data.AUTOTUNE)\n",
    ")"
   ]
  },
  {
   "cell_type": "code",
   "execution_count": 131,
   "id": "e6e0d15d",
   "metadata": {
    "scrolled": true
   },
   "outputs": [
    {
     "data": {
      "text/plain": [
       "<PrefetchDataset element_spec=(TensorSpec(shape=(None, 80, 1), dtype=tf.float32, name=None), TensorSpec(shape=(None,), dtype=tf.float64, name=None))>"
      ]
     },
     "execution_count": 131,
     "metadata": {},
     "output_type": "execute_result"
    }
   ],
   "source": [
    "valid_ds"
   ]
  },
  {
   "cell_type": "code",
   "execution_count": 132,
   "id": "36b530d6",
   "metadata": {},
   "outputs": [
    {
     "data": {
      "text/plain": [
       "<PrefetchDataset element_spec=(TensorSpec(shape=(None, None, 1), dtype=tf.float32, name=None), TensorSpec(shape=(None,), dtype=tf.float64, name=None))>"
      ]
     },
     "execution_count": 132,
     "metadata": {},
     "output_type": "execute_result"
    }
   ],
   "source": [
    "train_ds"
   ]
  },
  {
   "cell_type": "code",
   "execution_count": 133,
   "id": "6d1354ef",
   "metadata": {},
   "outputs": [
    {
     "name": "stdout",
     "output_type": "stream",
     "text": [
      "Epoch 1/10\n",
      "14/14 [==============================] - 0s 3ms/step - loss: 4.6600 - mean_absolute_error: 1.0543 - val_loss: 4.0991 - val_mean_absolute_error: 0.9275\n",
      "Epoch 2/10\n",
      "14/14 [==============================] - 0s 3ms/step - loss: 4.6988 - mean_absolute_error: 1.0768 - val_loss: 4.1338 - val_mean_absolute_error: 0.9331\n",
      "Epoch 3/10\n",
      "14/14 [==============================] - 0s 3ms/step - loss: 4.4657 - mean_absolute_error: 1.0580 - val_loss: 4.1469 - val_mean_absolute_error: 0.9348\n",
      "Epoch 4/10\n",
      "14/14 [==============================] - 0s 3ms/step - loss: 4.4898 - mean_absolute_error: 1.0249 - val_loss: 4.1389 - val_mean_absolute_error: 0.9331\n",
      "Epoch 5/10\n",
      "14/14 [==============================] - 0s 3ms/step - loss: 4.7235 - mean_absolute_error: 1.0353 - val_loss: 4.1390 - val_mean_absolute_error: 0.9335\n",
      "Epoch 6/10\n",
      "14/14 [==============================] - 0s 3ms/step - loss: 4.5305 - mean_absolute_error: 1.0230 - val_loss: 4.1320 - val_mean_absolute_error: 0.9347\n",
      "Epoch 7/10\n",
      "14/14 [==============================] - 0s 4ms/step - loss: 4.3752 - mean_absolute_error: 0.9969 - val_loss: 4.1332 - val_mean_absolute_error: 0.9369\n",
      "Epoch 8/10\n",
      "14/14 [==============================] - 0s 4ms/step - loss: 4.5234 - mean_absolute_error: 1.0124 - val_loss: 4.1408 - val_mean_absolute_error: 0.9363\n",
      "Epoch 9/10\n",
      "14/14 [==============================] - 0s 4ms/step - loss: 4.3729 - mean_absolute_error: 1.0204 - val_loss: 4.1462 - val_mean_absolute_error: 0.9357\n"
     ]
    },
    {
     "data": {
      "text/plain": [
       "<keras.callbacks.History at 0x7f02603ecc70>"
      ]
     },
     "execution_count": 133,
     "metadata": {},
     "output_type": "execute_result"
    }
   ],
   "source": [
    "new_model.fit(train_ds,\n",
    "             validation_data= valid_ds,\n",
    "             epochs=10,\n",
    "             callbacks=[tf.keras.callbacks.EarlyStopping(patience=8)])"
   ]
  },
  {
   "cell_type": "code",
   "execution_count": 125,
   "id": "3fa44a61",
   "metadata": {},
   "outputs": [
    {
     "name": "stdout",
     "output_type": "stream",
     "text": [
      "Epoch 1/10\n",
      "14/14 [==============================] - 0s 1ms/step - loss: 4.5037 - mean_absolute_error: 0.9856\n",
      "Epoch 2/10\n",
      "14/14 [==============================] - 0s 1ms/step - loss: 4.4326 - mean_absolute_error: 0.9758\n",
      "Epoch 3/10\n",
      "14/14 [==============================] - 0s 1ms/step - loss: 4.3715 - mean_absolute_error: 0.9688\n",
      "Epoch 4/10\n",
      "14/14 [==============================] - 0s 1ms/step - loss: 4.3187 - mean_absolute_error: 0.9627\n",
      "Epoch 5/10\n",
      "14/14 [==============================] - 0s 1ms/step - loss: 4.2734 - mean_absolute_error: 0.9568\n",
      "Epoch 6/10\n",
      "14/14 [==============================] - 0s 1ms/step - loss: 4.2340 - mean_absolute_error: 0.9511\n",
      "Epoch 7/10\n",
      "14/14 [==============================] - 0s 2ms/step - loss: 4.1989 - mean_absolute_error: 0.9458\n",
      "Epoch 8/10\n",
      "14/14 [==============================] - 0s 1ms/step - loss: 4.1681 - mean_absolute_error: 0.9407\n",
      "Epoch 9/10\n",
      "14/14 [==============================] - 0s 1ms/step - loss: 4.1401 - mean_absolute_error: 0.9354\n",
      "Epoch 10/10\n",
      "14/14 [==============================] - 0s 1ms/step - loss: 4.1148 - mean_absolute_error: 0.9305\n"
     ]
    },
    {
     "data": {
      "text/plain": [
       "<keras.callbacks.History at 0x7f02603f6250>"
      ]
     },
     "execution_count": 125,
     "metadata": {},
     "output_type": "execute_result"
    }
   ],
   "source": [
    "new_model.fit(train_ds,\n",
    "             #validation_data= valid_ds,\n",
    "             epochs=10)\n",
    "             #callbacks=[tf.keras.callbacks.EarlyStopping(patience=8)])"
   ]
  },
  {
   "cell_type": "code",
   "execution_count": 98,
   "id": "4ccccb46",
   "metadata": {},
   "outputs": [
    {
     "name": "stdout",
     "output_type": "stream",
     "text": [
      "Epoch 1/100\n",
      "    204/Unknown - 0s 997us/step - loss: 25.8399 - mean_absolute_error: 4.2151"
     ]
    },
    {
     "ename": "ValueError",
     "evalue": "in user code:\n\n    File \"/home/ipausers/kahane/.local/lib/python3.8/site-packages/keras/engine/training.py\", line 1525, in test_function  *\n        return step_function(self, iterator)\n    File \"/home/ipausers/kahane/.local/lib/python3.8/site-packages/keras/engine/training.py\", line 1514, in step_function  **\n        outputs = model.distribute_strategy.run(run_step, args=(data,))\n    File \"/home/ipausers/kahane/.local/lib/python3.8/site-packages/keras/engine/training.py\", line 1507, in run_step  **\n        outputs = model.test_step(data)\n    File \"/home/ipausers/kahane/.local/lib/python3.8/site-packages/keras/engine/training.py\", line 1471, in test_step\n        y_pred = self(x, training=False)\n    File \"/home/ipausers/kahane/.local/lib/python3.8/site-packages/keras/utils/traceback_utils.py\", line 67, in error_handler\n        raise e.with_traceback(filtered_tb) from None\n    File \"/home/ipausers/kahane/.local/lib/python3.8/site-packages/keras/engine/input_spec.py\", line 264, in assert_input_compatibility\n        raise ValueError(f'Input {input_index} of layer \"{layer_name}\" is '\n\n    ValueError: Input 0 of layer \"model_1\" is incompatible with the layer: expected shape=(None, 80, 1), found shape=(None, 1, 80, 1)\n",
     "output_type": "error",
     "traceback": [
      "\u001b[0;31m---------------------------------------------------------------------------\u001b[0m",
      "\u001b[0;31mValueError\u001b[0m                                Traceback (most recent call last)",
      "Input \u001b[0;32mIn [98]\u001b[0m, in \u001b[0;36m<cell line: 1>\u001b[0;34m()\u001b[0m\n\u001b[0;32m----> 1\u001b[0m \u001b[43mnew_model\u001b[49m\u001b[38;5;241;43m.\u001b[39;49m\u001b[43mfit\u001b[49m\u001b[43m(\u001b[49m\u001b[43mtrain_ds\u001b[49m\u001b[38;5;241;43m.\u001b[39;49m\u001b[43munbatch\u001b[49m\u001b[43m(\u001b[49m\u001b[43m)\u001b[49m\u001b[43m,\u001b[49m\n\u001b[1;32m      2\u001b[0m \u001b[43m             \u001b[49m\u001b[43mvalidation_data\u001b[49m\u001b[38;5;241;43m=\u001b[39;49m\u001b[43m \u001b[49m\u001b[43mvalid_ds\u001b[49m\u001b[43m,\u001b[49m\n\u001b[1;32m      3\u001b[0m \u001b[43m             \u001b[49m\u001b[43mepochs\u001b[49m\u001b[38;5;241;43m=\u001b[39;49m\u001b[38;5;241;43m100\u001b[39;49m\u001b[43m,\u001b[49m\n\u001b[1;32m      4\u001b[0m \u001b[43m             \u001b[49m\u001b[43mcallbacks\u001b[49m\u001b[38;5;241;43m=\u001b[39;49m\u001b[43m[\u001b[49m\u001b[43mtf\u001b[49m\u001b[38;5;241;43m.\u001b[39;49m\u001b[43mkeras\u001b[49m\u001b[38;5;241;43m.\u001b[39;49m\u001b[43mcallbacks\u001b[49m\u001b[38;5;241;43m.\u001b[39;49m\u001b[43mEarlyStopping\u001b[49m\u001b[43m(\u001b[49m\u001b[43mpatience\u001b[49m\u001b[38;5;241;43m=\u001b[39;49m\u001b[38;5;241;43m8\u001b[39;49m\u001b[43m)\u001b[49m\u001b[43m]\u001b[49m\u001b[43m)\u001b[49m\n",
      "File \u001b[0;32m~/.local/lib/python3.8/site-packages/keras/utils/traceback_utils.py:67\u001b[0m, in \u001b[0;36mfilter_traceback.<locals>.error_handler\u001b[0;34m(*args, **kwargs)\u001b[0m\n\u001b[1;32m     65\u001b[0m \u001b[38;5;28;01mexcept\u001b[39;00m \u001b[38;5;167;01mException\u001b[39;00m \u001b[38;5;28;01mas\u001b[39;00m e:  \u001b[38;5;66;03m# pylint: disable=broad-except\u001b[39;00m\n\u001b[1;32m     66\u001b[0m   filtered_tb \u001b[38;5;241m=\u001b[39m _process_traceback_frames(e\u001b[38;5;241m.\u001b[39m__traceback__)\n\u001b[0;32m---> 67\u001b[0m   \u001b[38;5;28;01mraise\u001b[39;00m e\u001b[38;5;241m.\u001b[39mwith_traceback(filtered_tb) \u001b[38;5;28;01mfrom\u001b[39;00m \u001b[38;5;28mNone\u001b[39m\n\u001b[1;32m     68\u001b[0m \u001b[38;5;28;01mfinally\u001b[39;00m:\n\u001b[1;32m     69\u001b[0m   \u001b[38;5;28;01mdel\u001b[39;00m filtered_tb\n",
      "File \u001b[0;32m~/.local/lib/python3.8/site-packages/tensorflow/python/framework/func_graph.py:1147\u001b[0m, in \u001b[0;36mfunc_graph_from_py_func.<locals>.autograph_handler\u001b[0;34m(*args, **kwargs)\u001b[0m\n\u001b[1;32m   1145\u001b[0m \u001b[38;5;28;01mexcept\u001b[39;00m \u001b[38;5;167;01mException\u001b[39;00m \u001b[38;5;28;01mas\u001b[39;00m e:  \u001b[38;5;66;03m# pylint:disable=broad-except\u001b[39;00m\n\u001b[1;32m   1146\u001b[0m   \u001b[38;5;28;01mif\u001b[39;00m \u001b[38;5;28mhasattr\u001b[39m(e, \u001b[38;5;124m\"\u001b[39m\u001b[38;5;124mag_error_metadata\u001b[39m\u001b[38;5;124m\"\u001b[39m):\n\u001b[0;32m-> 1147\u001b[0m     \u001b[38;5;28;01mraise\u001b[39;00m e\u001b[38;5;241m.\u001b[39mag_error_metadata\u001b[38;5;241m.\u001b[39mto_exception(e)\n\u001b[1;32m   1148\u001b[0m   \u001b[38;5;28;01melse\u001b[39;00m:\n\u001b[1;32m   1149\u001b[0m     \u001b[38;5;28;01mraise\u001b[39;00m\n",
      "\u001b[0;31mValueError\u001b[0m: in user code:\n\n    File \"/home/ipausers/kahane/.local/lib/python3.8/site-packages/keras/engine/training.py\", line 1525, in test_function  *\n        return step_function(self, iterator)\n    File \"/home/ipausers/kahane/.local/lib/python3.8/site-packages/keras/engine/training.py\", line 1514, in step_function  **\n        outputs = model.distribute_strategy.run(run_step, args=(data,))\n    File \"/home/ipausers/kahane/.local/lib/python3.8/site-packages/keras/engine/training.py\", line 1507, in run_step  **\n        outputs = model.test_step(data)\n    File \"/home/ipausers/kahane/.local/lib/python3.8/site-packages/keras/engine/training.py\", line 1471, in test_step\n        y_pred = self(x, training=False)\n    File \"/home/ipausers/kahane/.local/lib/python3.8/site-packages/keras/utils/traceback_utils.py\", line 67, in error_handler\n        raise e.with_traceback(filtered_tb) from None\n    File \"/home/ipausers/kahane/.local/lib/python3.8/site-packages/keras/engine/input_spec.py\", line 264, in assert_input_compatibility\n        raise ValueError(f'Input {input_index} of layer \"{layer_name}\" is '\n\n    ValueError: Input 0 of layer \"model_1\" is incompatible with the layer: expected shape=(None, 80, 1), found shape=(None, 1, 80, 1)\n"
     ]
    }
   ],
   "source": [
    "new_model.fit(train_ds,\n",
    "             validation_data= valid_ds,\n",
    "             epochs=100,\n",
    "             callbacks=[tf.keras.callbacks.EarlyStopping(patience=8)])"
   ]
  },
  {
   "cell_type": "markdown",
   "id": "018f4969",
   "metadata": {},
   "source": [
    "**Creating datasets**"
   ]
  },
  {
   "cell_type": "code",
   "execution_count": 134,
   "id": "03dbeabd",
   "metadata": {},
   "outputs": [],
   "source": [
    "def numpy_to_ds(feature, label):\n",
    "    feature_ds = np.expand_dims(feature, axis = -1)\n",
    "    feature_ds = np.expand_dims(feature_ds, axis = -3)\n",
    "    d1 = tf.data.Dataset.from_tensor_slices(feature_ds)\n",
    "    d2 = tf.data.Dataset.from_tensor_slices(label)\n",
    "    ds = tf.data.Dataset.zip((d1, d2))\n",
    "    ds = (\n",
    "    ds.map(lambda x, y: (data_augmentation(x, training=True), y))\n",
    "    .unbatch()\n",
    "    .batch(16)\n",
    "    .prefetch(tf.data.AUTOTUNE)\n",
    "    )\n",
    "    return ds"
   ]
  },
  {
   "cell_type": "code",
   "execution_count": 135,
   "id": "fe16408d",
   "metadata": {},
   "outputs": [],
   "source": [
    "def numpy_to_ds_preparation(feature, label):\n",
    "    feature_ds = np.expand_dims(feature, axis = -1)\n",
    "    feature_ds = np.expand_dims(feature_ds, axis = -3)\n",
    "    d1 = tf.data.Dataset.from_tensor_slices(feature_ds)\n",
    "    d2 = tf.data.Dataset.from_tensor_slices(label)\n",
    "    ds = tf.data.Dataset.zip((d1, d2))\n",
    "    ds = (\n",
    "    ds.map(lambda x, y: (data_preparation(x, training=True), y))\n",
    "    .unbatch()\n",
    "    .batch(16)\n",
    "    .prefetch(tf.data.AUTOTUNE)\n",
    "    )\n",
    "    return ds"
   ]
  },
  {
   "cell_type": "raw",
   "id": "971b4f60",
   "metadata": {},
   "source": [
    "for train, valid in KFold(4).split(training):\n",
    "    train, valid_e = next(KFold(4).split(train))\n",
    "    train_feature = im[train, :]\n",
    "    train_label = label[train,:]\n",
    "    #train_label = np.expand_dims(train_label, axis = 1)\n",
    "    valid_e_feature = im[valid_e, :]\n",
    "    valid_e_label = label[valid_e,:]\n",
    "    #valid_e_label = np.expand_dims(valid_e_label, axis = 1)\n",
    "    valid_feature = im[valid, :]\n",
    "    valid_label = label[valid, :]\n",
    "    train_ds = numpy_to_ds(train_feature, train_label)\n",
    "    valid_e_ds = numpy_to_ds_preparation(valid_e_feature, valid_e_label)\n",
    "    break"
   ]
  },
  {
   "cell_type": "raw",
   "id": "b62792e2",
   "metadata": {},
   "source": [
    "feature_ds = np.expand_dims(train_feature, axis = -1)\n",
    "feature_ds = np.expand_dims(feature_ds, axis = -3)\n",
    "d1 = tf.data.Dataset.from_tensor_slices(feature_ds)\n",
    "d2 = tf.data.Dataset.from_tensor_slices(train_label)\n",
    "ds = tf.data.Dataset.zip((d1, d2))\n",
    "ds = (\n",
    "train_ds.map(lambda x, y: (data_preparation(x, training=True), y))\n",
    "#.unbatch()\n",
    "#.batch(16)\n",
    "#.prefetch(tf.data.AUTOTUNE)\n",
    ")"
   ]
  },
  {
   "cell_type": "raw",
   "id": "8a168d51",
   "metadata": {},
   "source": [
    "d1"
   ]
  },
  {
   "cell_type": "raw",
   "id": "d1420486",
   "metadata": {},
   "source": [
    "ds"
   ]
  },
  {
   "cell_type": "raw",
   "id": "565a9d57",
   "metadata": {},
   "source": [
    "d2"
   ]
  },
  {
   "cell_type": "raw",
   "id": "5e794ad2",
   "metadata": {},
   "source": [
    "train.shape"
   ]
  },
  {
   "cell_type": "raw",
   "id": "a0b245e3",
   "metadata": {},
   "source": [
    "train_label.shape"
   ]
  },
  {
   "cell_type": "raw",
   "id": "a8b4b886",
   "metadata": {},
   "source": [
    "valid_e_feature.shape"
   ]
  },
  {
   "cell_type": "raw",
   "id": "3dd41975",
   "metadata": {},
   "source": [
    "train_ds"
   ]
  },
  {
   "cell_type": "code",
   "execution_count": 217,
   "id": "c03d5790",
   "metadata": {},
   "outputs": [
    {
     "ename": "InvalidArgumentError",
     "evalue": "Cannot add tensor to the batch: number of elements does not match. Shapes are: [tensor]: [16,1,80], [batch]: [16,0,80] [Op:IteratorGetNext]",
     "output_type": "error",
     "traceback": [
      "\u001b[0;31m---------------------------------------------------------------------------\u001b[0m",
      "\u001b[0;31mInvalidArgumentError\u001b[0m                      Traceback (most recent call last)",
      "Input \u001b[0;32mIn [217]\u001b[0m, in \u001b[0;36m<cell line: 1>\u001b[0;34m()\u001b[0m\n\u001b[0;32m----> 1\u001b[0m \u001b[38;5;28;01mfor\u001b[39;00m e \u001b[38;5;129;01min\u001b[39;00m train_ds:\n\u001b[1;32m      2\u001b[0m     \u001b[38;5;28;01mbreak\u001b[39;00m\n",
      "File \u001b[0;32m~/.local/lib/python3.8/site-packages/tensorflow/python/data/ops/iterator_ops.py:836\u001b[0m, in \u001b[0;36mOwnedIterator.__next__\u001b[0;34m(self)\u001b[0m\n\u001b[1;32m    834\u001b[0m \u001b[38;5;28;01mdef\u001b[39;00m \u001b[38;5;21m__next__\u001b[39m(\u001b[38;5;28mself\u001b[39m):\n\u001b[1;32m    835\u001b[0m   \u001b[38;5;28;01mtry\u001b[39;00m:\n\u001b[0;32m--> 836\u001b[0m     \u001b[38;5;28;01mreturn\u001b[39;00m \u001b[38;5;28;43mself\u001b[39;49m\u001b[38;5;241;43m.\u001b[39;49m\u001b[43m_next_internal\u001b[49m\u001b[43m(\u001b[49m\u001b[43m)\u001b[49m\n\u001b[1;32m    837\u001b[0m   \u001b[38;5;28;01mexcept\u001b[39;00m errors\u001b[38;5;241m.\u001b[39mOutOfRangeError:\n\u001b[1;32m    838\u001b[0m     \u001b[38;5;28;01mraise\u001b[39;00m \u001b[38;5;167;01mStopIteration\u001b[39;00m\n",
      "File \u001b[0;32m~/.local/lib/python3.8/site-packages/tensorflow/python/data/ops/iterator_ops.py:819\u001b[0m, in \u001b[0;36mOwnedIterator._next_internal\u001b[0;34m(self)\u001b[0m\n\u001b[1;32m    816\u001b[0m \u001b[38;5;66;03m# TODO(b/77291417): This runs in sync mode as iterators use an error status\u001b[39;00m\n\u001b[1;32m    817\u001b[0m \u001b[38;5;66;03m# to communicate that there is no more data to iterate over.\u001b[39;00m\n\u001b[1;32m    818\u001b[0m \u001b[38;5;28;01mwith\u001b[39;00m context\u001b[38;5;241m.\u001b[39mexecution_mode(context\u001b[38;5;241m.\u001b[39mSYNC):\n\u001b[0;32m--> 819\u001b[0m   ret \u001b[38;5;241m=\u001b[39m \u001b[43mgen_dataset_ops\u001b[49m\u001b[38;5;241;43m.\u001b[39;49m\u001b[43miterator_get_next\u001b[49m\u001b[43m(\u001b[49m\n\u001b[1;32m    820\u001b[0m \u001b[43m      \u001b[49m\u001b[38;5;28;43mself\u001b[39;49m\u001b[38;5;241;43m.\u001b[39;49m\u001b[43m_iterator_resource\u001b[49m\u001b[43m,\u001b[49m\n\u001b[1;32m    821\u001b[0m \u001b[43m      \u001b[49m\u001b[43moutput_types\u001b[49m\u001b[38;5;241;43m=\u001b[39;49m\u001b[38;5;28;43mself\u001b[39;49m\u001b[38;5;241;43m.\u001b[39;49m\u001b[43m_flat_output_types\u001b[49m\u001b[43m,\u001b[49m\n\u001b[1;32m    822\u001b[0m \u001b[43m      \u001b[49m\u001b[43moutput_shapes\u001b[49m\u001b[38;5;241;43m=\u001b[39;49m\u001b[38;5;28;43mself\u001b[39;49m\u001b[38;5;241;43m.\u001b[39;49m\u001b[43m_flat_output_shapes\u001b[49m\u001b[43m)\u001b[49m\n\u001b[1;32m    824\u001b[0m   \u001b[38;5;28;01mtry\u001b[39;00m:\n\u001b[1;32m    825\u001b[0m     \u001b[38;5;66;03m# Fast path for the case `self._structure` is not a nested structure.\u001b[39;00m\n\u001b[1;32m    826\u001b[0m     \u001b[38;5;28;01mreturn\u001b[39;00m \u001b[38;5;28mself\u001b[39m\u001b[38;5;241m.\u001b[39m_element_spec\u001b[38;5;241m.\u001b[39m_from_compatible_tensor_list(ret)  \u001b[38;5;66;03m# pylint: disable=protected-access\u001b[39;00m\n",
      "File \u001b[0;32m~/.local/lib/python3.8/site-packages/tensorflow/python/ops/gen_dataset_ops.py:2923\u001b[0m, in \u001b[0;36miterator_get_next\u001b[0;34m(iterator, output_types, output_shapes, name)\u001b[0m\n\u001b[1;32m   2921\u001b[0m   \u001b[38;5;28;01mreturn\u001b[39;00m _result\n\u001b[1;32m   2922\u001b[0m \u001b[38;5;28;01mexcept\u001b[39;00m _core\u001b[38;5;241m.\u001b[39m_NotOkStatusException \u001b[38;5;28;01mas\u001b[39;00m e:\n\u001b[0;32m-> 2923\u001b[0m   \u001b[43m_ops\u001b[49m\u001b[38;5;241;43m.\u001b[39;49m\u001b[43mraise_from_not_ok_status\u001b[49m\u001b[43m(\u001b[49m\u001b[43me\u001b[49m\u001b[43m,\u001b[49m\u001b[43m \u001b[49m\u001b[43mname\u001b[49m\u001b[43m)\u001b[49m\n\u001b[1;32m   2924\u001b[0m \u001b[38;5;28;01mexcept\u001b[39;00m _core\u001b[38;5;241m.\u001b[39m_FallbackException:\n\u001b[1;32m   2925\u001b[0m   \u001b[38;5;28;01mpass\u001b[39;00m\n",
      "File \u001b[0;32m~/.local/lib/python3.8/site-packages/tensorflow/python/framework/ops.py:7186\u001b[0m, in \u001b[0;36mraise_from_not_ok_status\u001b[0;34m(e, name)\u001b[0m\n\u001b[1;32m   7184\u001b[0m \u001b[38;5;28;01mdef\u001b[39;00m \u001b[38;5;21mraise_from_not_ok_status\u001b[39m(e, name):\n\u001b[1;32m   7185\u001b[0m   e\u001b[38;5;241m.\u001b[39mmessage \u001b[38;5;241m+\u001b[39m\u001b[38;5;241m=\u001b[39m (\u001b[38;5;124m\"\u001b[39m\u001b[38;5;124m name: \u001b[39m\u001b[38;5;124m\"\u001b[39m \u001b[38;5;241m+\u001b[39m name \u001b[38;5;28;01mif\u001b[39;00m name \u001b[38;5;129;01mis\u001b[39;00m \u001b[38;5;129;01mnot\u001b[39;00m \u001b[38;5;28;01mNone\u001b[39;00m \u001b[38;5;28;01melse\u001b[39;00m \u001b[38;5;124m\"\u001b[39m\u001b[38;5;124m\"\u001b[39m)\n\u001b[0;32m-> 7186\u001b[0m   \u001b[38;5;28;01mraise\u001b[39;00m core\u001b[38;5;241m.\u001b[39m_status_to_exception(e) \u001b[38;5;28;01mfrom\u001b[39;00m \u001b[38;5;28mNone\u001b[39m\n",
      "\u001b[0;31mInvalidArgumentError\u001b[0m: Cannot add tensor to the batch: number of elements does not match. Shapes are: [tensor]: [16,1,80], [batch]: [16,0,80] [Op:IteratorGetNext]"
     ]
    }
   ],
   "source": [
    "for e in train_ds:\n",
    "    break"
   ]
  },
  {
   "cell_type": "code",
   "execution_count": 77,
   "id": "55ec330a",
   "metadata": {
    "scrolled": true
   },
   "outputs": [
    {
     "data": {
      "text/plain": [
       "(211, 120)"
      ]
     },
     "execution_count": 77,
     "metadata": {},
     "output_type": "execute_result"
    }
   ],
   "source": [
    "train_feature.shape"
   ]
  },
  {
   "cell_type": "code",
   "execution_count": 136,
   "id": "e0ab4cc9",
   "metadata": {
    "scrolled": true
   },
   "outputs": [],
   "source": [
    "def generalisation_estimator(model, n_split=4):\n",
    "    evaluations = []\n",
    "    history = []\n",
    "    for train_g, valid in KFold(n_split).split(training):\n",
    "        train, valid_e = next(KFold(n_split).split(train_g))\n",
    "        train_feature = im[train, :]\n",
    "        train_label = label[train,:]\n",
    "        valid_e_feature = im[valid_e, :]\n",
    "        valid_e_label = label[valid_e,:]\n",
    "        valid_feature = im[valid, :]\n",
    "        valid_label = label[valid, :]\n",
    "        \n",
    "        train_ds = numpy_to_ds(train_feature, train_label)\n",
    "        valid_e_ds = numpy_to_ds_preparation(valid_e_feature, valid_e_label)\n",
    "        #valid_ds = numpy_to_ds_preparation(valid_feature, valid_label)\n",
    "        \n",
    "        model.compile(\n",
    "        optimizer=keras.optimizers.Adam(learning_rate=0.0001),\n",
    "        loss=keras.losses.MeanSquaredError(name=\"mean_squared_error\"),\n",
    "        metrics=[tf.keras.metrics.mean_absolute_error])\n",
    "\n",
    "        print(valid_e)\n",
    "        \n",
    "        history.append(model.fit(\n",
    "        train_ds,\n",
    "        validation_data = valid_e_ds,\n",
    "        #batch_size=16,\n",
    "        epochs=100,\n",
    "        callbacks=[tf.keras.callbacks.EarlyStopping(patience=8)]\n",
    "        #validation_data = (data_preparation(valid_e_feature), valid_e_label),\n",
    "        ))\n",
    "        evaluations.append(model.evaluate(data_preparation(valid_feature), valid_label))\n",
    "        \n",
    "    return model, history, evaluations"
   ]
  },
  {
   "cell_type": "raw",
   "id": "ec39599a",
   "metadata": {},
   "source": [
    "# TEST\n",
    "for train_g, valid in KFold(4).split(training):\n",
    "    train, valid_e = next(KFold(4).split(train_g))\n",
    "    print(train)\n",
    "    print(valid_e)"
   ]
  },
  {
   "cell_type": "code",
   "execution_count": 137,
   "id": "2e589e92",
   "metadata": {},
   "outputs": [],
   "source": [
    "# TODO(FK): problème with valid_e"
   ]
  },
  {
   "cell_type": "code",
   "execution_count": 138,
   "id": "fd19cd1b",
   "metadata": {
    "scrolled": true
   },
   "outputs": [
    {
     "name": "stdout",
     "output_type": "stream",
     "text": [
      "[ 0  1  2  3  4  5  6  7  8  9 10 11 12 13 14 15 16 17 18 19 20 21 22 23\n",
      " 24 25 26 27 28 29 30 31 32 33 34 35 36 37 38 39 40 41 42 43 44 45 46 47\n",
      " 48 49 50 51 52 53 54 55 56 57 58 59 60 61 62 63 64 65 66 67 68 69 70]\n",
      "Epoch 1/100\n",
      "14/14 [==============================] - 0s 9ms/step - loss: 4.3420 - mean_absolute_error: 0.9625 - val_loss: 4.0691 - val_mean_absolute_error: 0.8794\n",
      "Epoch 2/100\n",
      "14/14 [==============================] - 0s 3ms/step - loss: 4.5486 - mean_absolute_error: 1.0551 - val_loss: 4.0583 - val_mean_absolute_error: 0.8824\n",
      "Epoch 3/100\n",
      "14/14 [==============================] - 0s 3ms/step - loss: 4.3111 - mean_absolute_error: 1.0056 - val_loss: 4.0403 - val_mean_absolute_error: 0.8807\n",
      "Epoch 4/100\n",
      "14/14 [==============================] - 0s 3ms/step - loss: 4.1482 - mean_absolute_error: 0.9333 - val_loss: 4.0367 - val_mean_absolute_error: 0.8799\n",
      "Epoch 5/100\n",
      "14/14 [==============================] - 0s 3ms/step - loss: 4.2859 - mean_absolute_error: 0.9652 - val_loss: 4.0385 - val_mean_absolute_error: 0.8806\n",
      "Epoch 6/100\n",
      "14/14 [==============================] - 0s 3ms/step - loss: 4.2226 - mean_absolute_error: 0.9761 - val_loss: 4.0318 - val_mean_absolute_error: 0.8831\n",
      "Epoch 7/100\n",
      "14/14 [==============================] - 0s 3ms/step - loss: 4.1897 - mean_absolute_error: 0.9526 - val_loss: 4.0299 - val_mean_absolute_error: 0.8836\n",
      "Epoch 8/100\n",
      "14/14 [==============================] - 0s 3ms/step - loss: 4.3535 - mean_absolute_error: 1.0007 - val_loss: 4.0280 - val_mean_absolute_error: 0.8803\n",
      "Epoch 9/100\n",
      "14/14 [==============================] - 0s 3ms/step - loss: 4.3241 - mean_absolute_error: 1.0163 - val_loss: 4.0212 - val_mean_absolute_error: 0.8835\n",
      "Epoch 10/100\n",
      "14/14 [==============================] - 0s 3ms/step - loss: 4.4414 - mean_absolute_error: 1.0262 - val_loss: 4.0243 - val_mean_absolute_error: 0.8843\n",
      "Epoch 11/100\n",
      "14/14 [==============================] - 0s 3ms/step - loss: 4.4522 - mean_absolute_error: 1.0155 - val_loss: 4.0269 - val_mean_absolute_error: 0.8823\n",
      "Epoch 12/100\n",
      "14/14 [==============================] - 0s 3ms/step - loss: 4.0465 - mean_absolute_error: 0.9353 - val_loss: 4.0171 - val_mean_absolute_error: 0.8834\n",
      "Epoch 13/100\n",
      "14/14 [==============================] - 0s 3ms/step - loss: 4.4630 - mean_absolute_error: 1.0175 - val_loss: 4.0046 - val_mean_absolute_error: 0.8836\n",
      "Epoch 14/100\n",
      "14/14 [==============================] - 0s 3ms/step - loss: 4.0526 - mean_absolute_error: 0.9365 - val_loss: 3.9913 - val_mean_absolute_error: 0.8822\n",
      "Epoch 15/100\n",
      "14/14 [==============================] - 0s 3ms/step - loss: 4.2726 - mean_absolute_error: 1.0209 - val_loss: 3.9977 - val_mean_absolute_error: 0.8808\n",
      "Epoch 16/100\n",
      "14/14 [==============================] - 0s 3ms/step - loss: 4.1846 - mean_absolute_error: 0.9839 - val_loss: 4.0159 - val_mean_absolute_error: 0.8808\n",
      "Epoch 17/100\n",
      "14/14 [==============================] - 0s 3ms/step - loss: 4.2906 - mean_absolute_error: 0.9860 - val_loss: 4.0092 - val_mean_absolute_error: 0.8804\n",
      "Epoch 18/100\n",
      "14/14 [==============================] - 0s 3ms/step - loss: 4.0232 - mean_absolute_error: 0.9466 - val_loss: 3.9932 - val_mean_absolute_error: 0.8803\n",
      "Epoch 19/100\n",
      "14/14 [==============================] - 0s 3ms/step - loss: 4.0740 - mean_absolute_error: 0.9436 - val_loss: 3.9870 - val_mean_absolute_error: 0.8838\n",
      "Epoch 20/100\n",
      "14/14 [==============================] - 0s 3ms/step - loss: 4.1582 - mean_absolute_error: 0.9646 - val_loss: 3.9806 - val_mean_absolute_error: 0.8867\n",
      "Epoch 21/100\n",
      "14/14 [==============================] - 0s 3ms/step - loss: 3.9667 - mean_absolute_error: 0.9584 - val_loss: 3.9806 - val_mean_absolute_error: 0.8877\n",
      "Epoch 22/100\n",
      "14/14 [==============================] - 0s 3ms/step - loss: 4.0299 - mean_absolute_error: 0.9609 - val_loss: 3.9757 - val_mean_absolute_error: 0.8867\n",
      "Epoch 23/100\n",
      "14/14 [==============================] - 0s 3ms/step - loss: 4.1685 - mean_absolute_error: 0.9697 - val_loss: 3.9624 - val_mean_absolute_error: 0.8826\n",
      "Epoch 24/100\n",
      "14/14 [==============================] - 0s 3ms/step - loss: 4.1071 - mean_absolute_error: 0.9871 - val_loss: 3.9550 - val_mean_absolute_error: 0.8815\n",
      "Epoch 25/100\n",
      "14/14 [==============================] - 0s 3ms/step - loss: 4.1894 - mean_absolute_error: 0.9793 - val_loss: 3.9481 - val_mean_absolute_error: 0.8805\n",
      "Epoch 26/100\n",
      "14/14 [==============================] - 0s 3ms/step - loss: 4.2684 - mean_absolute_error: 1.0242 - val_loss: 3.9380 - val_mean_absolute_error: 0.8789\n",
      "Epoch 27/100\n",
      "14/14 [==============================] - 0s 3ms/step - loss: 3.9279 - mean_absolute_error: 0.9249 - val_loss: 3.9276 - val_mean_absolute_error: 0.8748\n",
      "Epoch 28/100\n",
      "14/14 [==============================] - 0s 3ms/step - loss: 4.0770 - mean_absolute_error: 0.9427 - val_loss: 3.9218 - val_mean_absolute_error: 0.8731\n",
      "Epoch 29/100\n",
      "14/14 [==============================] - 0s 3ms/step - loss: 3.9032 - mean_absolute_error: 0.9330 - val_loss: 3.9123 - val_mean_absolute_error: 0.8729\n",
      "Epoch 30/100\n",
      "14/14 [==============================] - 0s 3ms/step - loss: 4.0455 - mean_absolute_error: 0.9630 - val_loss: 3.9081 - val_mean_absolute_error: 0.8726\n",
      "Epoch 31/100\n",
      "14/14 [==============================] - 0s 3ms/step - loss: 3.9199 - mean_absolute_error: 0.9406 - val_loss: 3.9071 - val_mean_absolute_error: 0.8742\n",
      "Epoch 32/100\n",
      "14/14 [==============================] - 0s 3ms/step - loss: 3.9982 - mean_absolute_error: 0.9620 - val_loss: 3.9101 - val_mean_absolute_error: 0.8767\n",
      "Epoch 33/100\n",
      "14/14 [==============================] - 0s 3ms/step - loss: 3.9546 - mean_absolute_error: 0.9700 - val_loss: 3.9085 - val_mean_absolute_error: 0.8779\n",
      "Epoch 34/100\n",
      "14/14 [==============================] - 0s 3ms/step - loss: 3.8578 - mean_absolute_error: 0.9284 - val_loss: 3.8963 - val_mean_absolute_error: 0.8768\n",
      "Epoch 35/100\n",
      "14/14 [==============================] - 0s 3ms/step - loss: 3.9664 - mean_absolute_error: 0.9679 - val_loss: 3.8921 - val_mean_absolute_error: 0.8745\n",
      "Epoch 36/100\n",
      "14/14 [==============================] - 0s 3ms/step - loss: 4.0444 - mean_absolute_error: 0.9786 - val_loss: 3.8847 - val_mean_absolute_error: 0.8730\n",
      "Epoch 37/100\n",
      "14/14 [==============================] - 0s 3ms/step - loss: 3.8569 - mean_absolute_error: 0.9533 - val_loss: 3.8703 - val_mean_absolute_error: 0.8732\n",
      "Epoch 38/100\n",
      "14/14 [==============================] - 0s 3ms/step - loss: 3.8929 - mean_absolute_error: 0.9017 - val_loss: 3.8718 - val_mean_absolute_error: 0.8753\n",
      "Epoch 39/100\n",
      "14/14 [==============================] - 0s 3ms/step - loss: 4.2223 - mean_absolute_error: 0.9894 - val_loss: 3.8739 - val_mean_absolute_error: 0.8736\n",
      "Epoch 40/100\n",
      "14/14 [==============================] - 0s 3ms/step - loss: 4.1062 - mean_absolute_error: 0.9983 - val_loss: 3.8686 - val_mean_absolute_error: 0.8718\n",
      "Epoch 41/100\n",
      "14/14 [==============================] - 0s 3ms/step - loss: 4.1338 - mean_absolute_error: 0.9967 - val_loss: 3.8619 - val_mean_absolute_error: 0.8732\n",
      "Epoch 42/100\n",
      "14/14 [==============================] - 0s 3ms/step - loss: 3.8538 - mean_absolute_error: 0.9303 - val_loss: 3.8625 - val_mean_absolute_error: 0.8740\n",
      "Epoch 43/100\n",
      "14/14 [==============================] - 0s 3ms/step - loss: 3.8249 - mean_absolute_error: 0.9502 - val_loss: 3.8561 - val_mean_absolute_error: 0.8730\n",
      "Epoch 44/100\n",
      "14/14 [==============================] - 0s 3ms/step - loss: 3.8094 - mean_absolute_error: 0.9323 - val_loss: 3.8357 - val_mean_absolute_error: 0.8699\n",
      "Epoch 45/100\n",
      "14/14 [==============================] - 0s 3ms/step - loss: 3.9058 - mean_absolute_error: 0.9622 - val_loss: 3.8285 - val_mean_absolute_error: 0.8674\n",
      "Epoch 46/100\n",
      "14/14 [==============================] - 0s 3ms/step - loss: 3.8850 - mean_absolute_error: 0.9577 - val_loss: 3.8243 - val_mean_absolute_error: 0.8668\n",
      "Epoch 47/100\n",
      "14/14 [==============================] - 0s 3ms/step - loss: 3.9775 - mean_absolute_error: 0.9482 - val_loss: 3.8271 - val_mean_absolute_error: 0.8679\n",
      "Epoch 48/100\n",
      "14/14 [==============================] - 0s 3ms/step - loss: 3.7431 - mean_absolute_error: 0.8947 - val_loss: 3.8201 - val_mean_absolute_error: 0.8706\n",
      "Epoch 49/100\n",
      "14/14 [==============================] - 0s 3ms/step - loss: 3.7604 - mean_absolute_error: 0.9262 - val_loss: 3.8149 - val_mean_absolute_error: 0.8696\n"
     ]
    },
    {
     "name": "stdout",
     "output_type": "stream",
     "text": [
      "Epoch 50/100\n",
      "14/14 [==============================] - 0s 3ms/step - loss: 4.1152 - mean_absolute_error: 1.0006 - val_loss: 3.8108 - val_mean_absolute_error: 0.8682\n",
      "Epoch 51/100\n",
      "14/14 [==============================] - 0s 3ms/step - loss: 3.8761 - mean_absolute_error: 0.9302 - val_loss: 3.7988 - val_mean_absolute_error: 0.8659\n",
      "Epoch 52/100\n",
      "14/14 [==============================] - 0s 3ms/step - loss: 3.8371 - mean_absolute_error: 0.9383 - val_loss: 3.7880 - val_mean_absolute_error: 0.8640\n",
      "Epoch 53/100\n",
      "14/14 [==============================] - 0s 3ms/step - loss: 3.8482 - mean_absolute_error: 0.9377 - val_loss: 3.7858 - val_mean_absolute_error: 0.8614\n",
      "Epoch 54/100\n",
      "14/14 [==============================] - 0s 3ms/step - loss: 3.7185 - mean_absolute_error: 0.9112 - val_loss: 3.7728 - val_mean_absolute_error: 0.8620\n",
      "Epoch 55/100\n",
      "14/14 [==============================] - 0s 3ms/step - loss: 3.7587 - mean_absolute_error: 0.9394 - val_loss: 3.7624 - val_mean_absolute_error: 0.8626\n",
      "Epoch 56/100\n",
      "14/14 [==============================] - 0s 3ms/step - loss: 4.0989 - mean_absolute_error: 0.9930 - val_loss: 3.7603 - val_mean_absolute_error: 0.8587\n",
      "Epoch 57/100\n",
      "14/14 [==============================] - 0s 3ms/step - loss: 3.9470 - mean_absolute_error: 0.9547 - val_loss: 3.7521 - val_mean_absolute_error: 0.8564\n",
      "Epoch 58/100\n",
      "14/14 [==============================] - 0s 3ms/step - loss: 3.8582 - mean_absolute_error: 0.9489 - val_loss: 3.7410 - val_mean_absolute_error: 0.8578\n",
      "Epoch 59/100\n",
      "14/14 [==============================] - 0s 3ms/step - loss: 3.8565 - mean_absolute_error: 0.9541 - val_loss: 3.7364 - val_mean_absolute_error: 0.8568\n",
      "Epoch 60/100\n",
      "14/14 [==============================] - 0s 3ms/step - loss: 3.8881 - mean_absolute_error: 0.9595 - val_loss: 3.7278 - val_mean_absolute_error: 0.8549\n",
      "Epoch 61/100\n",
      "14/14 [==============================] - 0s 3ms/step - loss: 3.6615 - mean_absolute_error: 0.9238 - val_loss: 3.7241 - val_mean_absolute_error: 0.8554\n",
      "Epoch 62/100\n",
      "14/14 [==============================] - 0s 3ms/step - loss: 3.7254 - mean_absolute_error: 0.9207 - val_loss: 3.7114 - val_mean_absolute_error: 0.8523\n",
      "Epoch 63/100\n",
      "14/14 [==============================] - 0s 3ms/step - loss: 3.8166 - mean_absolute_error: 0.9785 - val_loss: 3.7032 - val_mean_absolute_error: 0.8510\n",
      "Epoch 64/100\n",
      "14/14 [==============================] - 0s 3ms/step - loss: 4.0102 - mean_absolute_error: 0.9459 - val_loss: 3.6980 - val_mean_absolute_error: 0.8499\n",
      "Epoch 65/100\n",
      "14/14 [==============================] - 0s 3ms/step - loss: 3.7455 - mean_absolute_error: 0.9468 - val_loss: 3.6860 - val_mean_absolute_error: 0.8451\n",
      "Epoch 66/100\n",
      "14/14 [==============================] - 0s 3ms/step - loss: 3.6484 - mean_absolute_error: 0.8992 - val_loss: 3.6765 - val_mean_absolute_error: 0.8426\n",
      "Epoch 67/100\n",
      "14/14 [==============================] - 0s 3ms/step - loss: 3.8473 - mean_absolute_error: 0.9516 - val_loss: 3.6675 - val_mean_absolute_error: 0.8418\n",
      "Epoch 68/100\n",
      "14/14 [==============================] - 0s 3ms/step - loss: 3.5747 - mean_absolute_error: 0.8973 - val_loss: 3.6648 - val_mean_absolute_error: 0.8437\n",
      "Epoch 69/100\n",
      "14/14 [==============================] - 0s 3ms/step - loss: 3.8423 - mean_absolute_error: 0.9452 - val_loss: 3.6638 - val_mean_absolute_error: 0.8450\n",
      "Epoch 70/100\n",
      "14/14 [==============================] - 0s 3ms/step - loss: 3.6077 - mean_absolute_error: 0.8979 - val_loss: 3.6540 - val_mean_absolute_error: 0.8420\n",
      "Epoch 71/100\n",
      "14/14 [==============================] - 0s 3ms/step - loss: 3.6137 - mean_absolute_error: 0.9032 - val_loss: 3.6475 - val_mean_absolute_error: 0.8410\n",
      "Epoch 72/100\n",
      "14/14 [==============================] - 0s 3ms/step - loss: 3.6993 - mean_absolute_error: 0.9046 - val_loss: 3.6479 - val_mean_absolute_error: 0.8402\n",
      "Epoch 73/100\n",
      "14/14 [==============================] - 0s 3ms/step - loss: 3.6539 - mean_absolute_error: 0.9289 - val_loss: 3.6517 - val_mean_absolute_error: 0.8432\n",
      "Epoch 74/100\n",
      "14/14 [==============================] - 0s 3ms/step - loss: 3.6650 - mean_absolute_error: 0.9371 - val_loss: 3.6382 - val_mean_absolute_error: 0.8420\n",
      "Epoch 75/100\n",
      "14/14 [==============================] - 0s 3ms/step - loss: 3.6936 - mean_absolute_error: 0.9434 - val_loss: 3.6174 - val_mean_absolute_error: 0.8360\n",
      "Epoch 76/100\n",
      "14/14 [==============================] - 0s 3ms/step - loss: 3.6994 - mean_absolute_error: 0.9415 - val_loss: 3.6095 - val_mean_absolute_error: 0.8324\n",
      "Epoch 77/100\n",
      "14/14 [==============================] - 0s 3ms/step - loss: 3.7412 - mean_absolute_error: 0.9589 - val_loss: 3.6021 - val_mean_absolute_error: 0.8330\n",
      "Epoch 78/100\n",
      "14/14 [==============================] - 0s 3ms/step - loss: 3.5830 - mean_absolute_error: 0.9009 - val_loss: 3.5973 - val_mean_absolute_error: 0.8335\n",
      "Epoch 79/100\n",
      "14/14 [==============================] - 0s 3ms/step - loss: 4.0692 - mean_absolute_error: 0.9671 - val_loss: 3.5998 - val_mean_absolute_error: 0.8325\n",
      "Epoch 80/100\n",
      "14/14 [==============================] - 0s 3ms/step - loss: 3.8383 - mean_absolute_error: 0.9698 - val_loss: 3.5980 - val_mean_absolute_error: 0.8332\n",
      "Epoch 81/100\n",
      "14/14 [==============================] - 0s 3ms/step - loss: 3.6195 - mean_absolute_error: 0.9230 - val_loss: 3.5949 - val_mean_absolute_error: 0.8334\n",
      "Epoch 82/100\n",
      "14/14 [==============================] - 0s 3ms/step - loss: 3.5892 - mean_absolute_error: 0.9175 - val_loss: 3.5941 - val_mean_absolute_error: 0.8332\n",
      "Epoch 83/100\n",
      "14/14 [==============================] - 0s 3ms/step - loss: 3.4785 - mean_absolute_error: 0.8782 - val_loss: 3.5857 - val_mean_absolute_error: 0.8336\n",
      "Epoch 84/100\n",
      "14/14 [==============================] - 0s 3ms/step - loss: 3.5422 - mean_absolute_error: 0.8966 - val_loss: 3.5803 - val_mean_absolute_error: 0.8329\n",
      "Epoch 85/100\n",
      "14/14 [==============================] - 0s 3ms/step - loss: 3.6338 - mean_absolute_error: 0.9196 - val_loss: 3.5717 - val_mean_absolute_error: 0.8315\n",
      "Epoch 86/100\n",
      "14/14 [==============================] - 0s 3ms/step - loss: 3.6531 - mean_absolute_error: 0.9299 - val_loss: 3.5707 - val_mean_absolute_error: 0.8320\n",
      "Epoch 87/100\n",
      "14/14 [==============================] - 0s 3ms/step - loss: 3.5228 - mean_absolute_error: 0.8791 - val_loss: 3.5617 - val_mean_absolute_error: 0.8319\n",
      "Epoch 88/100\n",
      "14/14 [==============================] - 0s 3ms/step - loss: 3.7635 - mean_absolute_error: 0.9587 - val_loss: 3.5530 - val_mean_absolute_error: 0.8286\n",
      "Epoch 89/100\n",
      "14/14 [==============================] - 0s 3ms/step - loss: 3.5436 - mean_absolute_error: 0.9109 - val_loss: 3.5466 - val_mean_absolute_error: 0.8271\n",
      "Epoch 90/100\n",
      "14/14 [==============================] - 0s 3ms/step - loss: 3.5273 - mean_absolute_error: 0.8818 - val_loss: 3.5403 - val_mean_absolute_error: 0.8277\n",
      "Epoch 91/100\n",
      "14/14 [==============================] - 0s 3ms/step - loss: 3.5736 - mean_absolute_error: 0.9080 - val_loss: 3.5399 - val_mean_absolute_error: 0.8288\n",
      "Epoch 92/100\n",
      "14/14 [==============================] - 0s 3ms/step - loss: 3.4963 - mean_absolute_error: 0.8868 - val_loss: 3.5430 - val_mean_absolute_error: 0.8289\n",
      "Epoch 93/100\n",
      "14/14 [==============================] - 0s 3ms/step - loss: 3.6528 - mean_absolute_error: 0.9439 - val_loss: 3.5409 - val_mean_absolute_error: 0.8304\n",
      "Epoch 94/100\n",
      "14/14 [==============================] - 0s 3ms/step - loss: 3.3869 - mean_absolute_error: 0.8486 - val_loss: 3.5333 - val_mean_absolute_error: 0.8300\n",
      "Epoch 95/100\n",
      "14/14 [==============================] - 0s 3ms/step - loss: 3.5054 - mean_absolute_error: 0.8827 - val_loss: 3.5271 - val_mean_absolute_error: 0.8292\n",
      "Epoch 96/100\n",
      "14/14 [==============================] - 0s 3ms/step - loss: 3.6510 - mean_absolute_error: 0.9579 - val_loss: 3.5269 - val_mean_absolute_error: 0.8296\n",
      "Epoch 97/100\n",
      "14/14 [==============================] - 0s 3ms/step - loss: 3.5469 - mean_absolute_error: 0.9098 - val_loss: 3.5256 - val_mean_absolute_error: 0.8295\n",
      "Epoch 98/100\n",
      "14/14 [==============================] - 0s 3ms/step - loss: 3.5357 - mean_absolute_error: 0.8781 - val_loss: 3.5078 - val_mean_absolute_error: 0.8240\n",
      "Epoch 99/100\n",
      "14/14 [==============================] - 0s 3ms/step - loss: 3.5180 - mean_absolute_error: 0.9197 - val_loss: 3.4887 - val_mean_absolute_error: 0.8197\n"
     ]
    },
    {
     "name": "stdout",
     "output_type": "stream",
     "text": [
      "Epoch 100/100\n",
      "14/14 [==============================] - 0s 3ms/step - loss: 3.5482 - mean_absolute_error: 0.8809 - val_loss: 3.4812 - val_mean_absolute_error: 0.8199\n",
      "3/3 [==============================] - 0s 1ms/step - loss: 3.5688 - mean_absolute_error: 0.8769\n",
      "[ 0  1  2  3  4  5  6  7  8  9 10 11 12 13 14 15 16 17 18 19 20 21 22 23\n",
      " 24 25 26 27 28 29 30 31 32 33 34 35 36 37 38 39 40 41 42 43 44 45 46 47\n",
      " 48 49 50 51 52 53 54 55 56 57 58 59 60 61 62 63 64 65 66 67 68 69 70]\n",
      "Epoch 1/100\n",
      "14/14 [==============================] - 0s 10ms/step - loss: 3.4088 - mean_absolute_error: 0.8680 - val_loss: 3.4581 - val_mean_absolute_error: 0.8128\n",
      "Epoch 2/100\n",
      "14/14 [==============================] - 0s 3ms/step - loss: 3.7176 - mean_absolute_error: 0.9144 - val_loss: 3.4505 - val_mean_absolute_error: 0.8104\n",
      "Epoch 3/100\n",
      "14/14 [==============================] - 0s 3ms/step - loss: 3.4961 - mean_absolute_error: 0.9144 - val_loss: 3.4474 - val_mean_absolute_error: 0.8113\n",
      "Epoch 4/100\n",
      "14/14 [==============================] - 0s 3ms/step - loss: 3.3755 - mean_absolute_error: 0.8512 - val_loss: 3.4450 - val_mean_absolute_error: 0.8135\n",
      "Epoch 5/100\n",
      "14/14 [==============================] - 0s 3ms/step - loss: 3.4745 - mean_absolute_error: 0.8908 - val_loss: 3.4410 - val_mean_absolute_error: 0.8124\n",
      "Epoch 6/100\n",
      "14/14 [==============================] - 0s 3ms/step - loss: 3.4268 - mean_absolute_error: 0.8996 - val_loss: 3.4446 - val_mean_absolute_error: 0.8132\n",
      "Epoch 7/100\n",
      "14/14 [==============================] - 0s 3ms/step - loss: 3.5431 - mean_absolute_error: 0.9153 - val_loss: 3.4521 - val_mean_absolute_error: 0.8153\n",
      "Epoch 8/100\n",
      "14/14 [==============================] - 0s 3ms/step - loss: 3.3668 - mean_absolute_error: 0.8699 - val_loss: 3.4675 - val_mean_absolute_error: 0.8200\n",
      "Epoch 9/100\n",
      "14/14 [==============================] - 0s 3ms/step - loss: 3.6159 - mean_absolute_error: 0.9138 - val_loss: 3.4672 - val_mean_absolute_error: 0.8207\n",
      "Epoch 10/100\n",
      "14/14 [==============================] - 0s 3ms/step - loss: 3.6567 - mean_absolute_error: 0.9294 - val_loss: 3.4492 - val_mean_absolute_error: 0.8166\n",
      "Epoch 11/100\n",
      "14/14 [==============================] - 0s 3ms/step - loss: 3.4849 - mean_absolute_error: 0.9095 - val_loss: 3.4455 - val_mean_absolute_error: 0.8135\n",
      "Epoch 12/100\n",
      "14/14 [==============================] - 0s 3ms/step - loss: 3.4269 - mean_absolute_error: 0.8908 - val_loss: 3.4553 - val_mean_absolute_error: 0.8181\n",
      "Epoch 13/100\n",
      "14/14 [==============================] - 0s 3ms/step - loss: 3.4122 - mean_absolute_error: 0.8916 - val_loss: 3.4511 - val_mean_absolute_error: 0.8190\n",
      "3/3 [==============================] - 0s 1ms/step - loss: 3.3532 - mean_absolute_error: 0.8334\n",
      "[ 0  1  2  3  4  5  6  7  8  9 10 11 12 13 14 15 16 17 18 19 20 21 22 23\n",
      " 24 25 26 27 28 29 30 31 32 33 34 35 36 37 38 39 40 41 42 43 44 45 46 47\n",
      " 48 49 50 51 52 53 54 55 56 57 58 59 60 61 62 63 64 65 66 67 68 69 70]\n",
      "Epoch 1/100\n",
      "14/14 [==============================] - 0s 9ms/step - loss: 3.5142 - mean_absolute_error: 0.9279 - val_loss: 3.4443 - val_mean_absolute_error: 0.8185\n",
      "Epoch 2/100\n",
      "14/14 [==============================] - 0s 3ms/step - loss: 3.5849 - mean_absolute_error: 0.8877 - val_loss: 3.4298 - val_mean_absolute_error: 0.8156\n",
      "Epoch 3/100\n",
      "14/14 [==============================] - 0s 3ms/step - loss: 3.4445 - mean_absolute_error: 0.8869 - val_loss: 3.4319 - val_mean_absolute_error: 0.8173\n",
      "Epoch 4/100\n",
      "14/14 [==============================] - 0s 3ms/step - loss: 3.4665 - mean_absolute_error: 0.8790 - val_loss: 3.4372 - val_mean_absolute_error: 0.8194\n",
      "Epoch 5/100\n",
      "14/14 [==============================] - 0s 3ms/step - loss: 3.3435 - mean_absolute_error: 0.8792 - val_loss: 3.4374 - val_mean_absolute_error: 0.8195\n",
      "Epoch 6/100\n",
      "14/14 [==============================] - 0s 3ms/step - loss: 3.3967 - mean_absolute_error: 0.8697 - val_loss: 3.4257 - val_mean_absolute_error: 0.8177\n",
      "Epoch 7/100\n",
      "14/14 [==============================] - 0s 3ms/step - loss: 3.5162 - mean_absolute_error: 0.9000 - val_loss: 3.4189 - val_mean_absolute_error: 0.8155\n",
      "Epoch 8/100\n",
      "14/14 [==============================] - 0s 3ms/step - loss: 3.4777 - mean_absolute_error: 0.8944 - val_loss: 3.4071 - val_mean_absolute_error: 0.8130\n",
      "Epoch 9/100\n",
      "14/14 [==============================] - 0s 3ms/step - loss: 3.4862 - mean_absolute_error: 0.9057 - val_loss: 3.3954 - val_mean_absolute_error: 0.8117\n",
      "Epoch 10/100\n",
      "14/14 [==============================] - 0s 3ms/step - loss: 3.4617 - mean_absolute_error: 0.9315 - val_loss: 3.3958 - val_mean_absolute_error: 0.8116\n",
      "Epoch 11/100\n",
      "14/14 [==============================] - 0s 3ms/step - loss: 3.4665 - mean_absolute_error: 0.9080 - val_loss: 3.3954 - val_mean_absolute_error: 0.8114\n",
      "Epoch 12/100\n",
      "14/14 [==============================] - 0s 3ms/step - loss: 3.3560 - mean_absolute_error: 0.8601 - val_loss: 3.3910 - val_mean_absolute_error: 0.8111\n",
      "Epoch 13/100\n",
      "14/14 [==============================] - 0s 3ms/step - loss: 3.3736 - mean_absolute_error: 0.8829 - val_loss: 3.3831 - val_mean_absolute_error: 0.8090\n",
      "Epoch 14/100\n",
      "14/14 [==============================] - 0s 3ms/step - loss: 3.5184 - mean_absolute_error: 0.9107 - val_loss: 3.3709 - val_mean_absolute_error: 0.8056\n",
      "Epoch 15/100\n",
      "14/14 [==============================] - 0s 3ms/step - loss: 3.3959 - mean_absolute_error: 0.8941 - val_loss: 3.3604 - val_mean_absolute_error: 0.8041\n",
      "Epoch 16/100\n",
      "14/14 [==============================] - 0s 3ms/step - loss: 3.2794 - mean_absolute_error: 0.8327 - val_loss: 3.3536 - val_mean_absolute_error: 0.8045\n",
      "Epoch 17/100\n",
      "14/14 [==============================] - 0s 3ms/step - loss: 3.3593 - mean_absolute_error: 0.8759 - val_loss: 3.3574 - val_mean_absolute_error: 0.8045\n",
      "Epoch 18/100\n",
      "14/14 [==============================] - 0s 3ms/step - loss: 3.4069 - mean_absolute_error: 0.8877 - val_loss: 3.3559 - val_mean_absolute_error: 0.8037\n",
      "Epoch 19/100\n",
      "14/14 [==============================] - 0s 3ms/step - loss: 3.3500 - mean_absolute_error: 0.8849 - val_loss: 3.3547 - val_mean_absolute_error: 0.8058\n",
      "Epoch 20/100\n",
      "14/14 [==============================] - 0s 3ms/step - loss: 3.3691 - mean_absolute_error: 0.8553 - val_loss: 3.3414 - val_mean_absolute_error: 0.8023\n",
      "Epoch 21/100\n",
      "14/14 [==============================] - 0s 3ms/step - loss: 3.5128 - mean_absolute_error: 0.8902 - val_loss: 3.3317 - val_mean_absolute_error: 0.7980\n",
      "Epoch 22/100\n",
      "14/14 [==============================] - 0s 3ms/step - loss: 3.4584 - mean_absolute_error: 0.9068 - val_loss: 3.3304 - val_mean_absolute_error: 0.7966\n",
      "Epoch 23/100\n",
      "14/14 [==============================] - 0s 3ms/step - loss: 3.4677 - mean_absolute_error: 0.9079 - val_loss: 3.3225 - val_mean_absolute_error: 0.7963\n",
      "Epoch 24/100\n",
      "14/14 [==============================] - 0s 3ms/step - loss: 3.4365 - mean_absolute_error: 0.8985 - val_loss: 3.3215 - val_mean_absolute_error: 0.7967\n",
      "Epoch 25/100\n",
      "14/14 [==============================] - 0s 3ms/step - loss: 3.3175 - mean_absolute_error: 0.8462 - val_loss: 3.3162 - val_mean_absolute_error: 0.7963\n",
      "Epoch 26/100\n",
      "14/14 [==============================] - 0s 3ms/step - loss: 3.3174 - mean_absolute_error: 0.8721 - val_loss: 3.3179 - val_mean_absolute_error: 0.7984\n",
      "Epoch 27/100\n",
      "14/14 [==============================] - 0s 3ms/step - loss: 3.5656 - mean_absolute_error: 0.8978 - val_loss: 3.3165 - val_mean_absolute_error: 0.7976\n",
      "Epoch 28/100\n",
      "14/14 [==============================] - 0s 3ms/step - loss: 3.3605 - mean_absolute_error: 0.8811 - val_loss: 3.3101 - val_mean_absolute_error: 0.7952\n",
      "Epoch 29/100\n",
      "14/14 [==============================] - 0s 3ms/step - loss: 3.3229 - mean_absolute_error: 0.8665 - val_loss: 3.3013 - val_mean_absolute_error: 0.7955\n",
      "Epoch 30/100\n",
      "14/14 [==============================] - 0s 3ms/step - loss: 3.3039 - mean_absolute_error: 0.8698 - val_loss: 3.2958 - val_mean_absolute_error: 0.7931\n",
      "Epoch 31/100\n",
      "14/14 [==============================] - 0s 3ms/step - loss: 3.1872 - mean_absolute_error: 0.8330 - val_loss: 3.2912 - val_mean_absolute_error: 0.7921\n",
      "Epoch 32/100\n",
      "14/14 [==============================] - 0s 3ms/step - loss: 3.4865 - mean_absolute_error: 0.9084 - val_loss: 3.2881 - val_mean_absolute_error: 0.7918\n",
      "Epoch 33/100\n"
     ]
    },
    {
     "name": "stdout",
     "output_type": "stream",
     "text": [
      "14/14 [==============================] - 0s 3ms/step - loss: 3.3961 - mean_absolute_error: 0.8883 - val_loss: 3.2829 - val_mean_absolute_error: 0.7913\n",
      "Epoch 34/100\n",
      "14/14 [==============================] - 0s 3ms/step - loss: 3.4312 - mean_absolute_error: 0.8903 - val_loss: 3.2790 - val_mean_absolute_error: 0.7897\n",
      "Epoch 35/100\n",
      "14/14 [==============================] - 0s 3ms/step - loss: 3.5034 - mean_absolute_error: 0.9393 - val_loss: 3.2806 - val_mean_absolute_error: 0.7908\n",
      "Epoch 36/100\n",
      "14/14 [==============================] - 0s 3ms/step - loss: 3.3859 - mean_absolute_error: 0.8724 - val_loss: 3.2741 - val_mean_absolute_error: 0.7908\n",
      "Epoch 37/100\n",
      "14/14 [==============================] - 0s 3ms/step - loss: 3.2299 - mean_absolute_error: 0.8447 - val_loss: 3.2717 - val_mean_absolute_error: 0.7895\n",
      "Epoch 38/100\n",
      "14/14 [==============================] - 0s 3ms/step - loss: 3.2440 - mean_absolute_error: 0.8615 - val_loss: 3.2707 - val_mean_absolute_error: 0.7907\n",
      "Epoch 39/100\n",
      "14/14 [==============================] - 0s 3ms/step - loss: 3.3508 - mean_absolute_error: 0.8976 - val_loss: 3.2765 - val_mean_absolute_error: 0.7952\n",
      "Epoch 40/100\n",
      "14/14 [==============================] - 0s 3ms/step - loss: 3.3440 - mean_absolute_error: 0.8917 - val_loss: 3.2763 - val_mean_absolute_error: 0.7952\n",
      "Epoch 41/100\n",
      "14/14 [==============================] - 0s 3ms/step - loss: 3.2947 - mean_absolute_error: 0.8744 - val_loss: 3.2671 - val_mean_absolute_error: 0.7916\n",
      "Epoch 42/100\n",
      "14/14 [==============================] - 0s 3ms/step - loss: 3.4002 - mean_absolute_error: 0.8804 - val_loss: 3.2575 - val_mean_absolute_error: 0.7902\n",
      "Epoch 43/100\n",
      "14/14 [==============================] - 0s 3ms/step - loss: 3.3837 - mean_absolute_error: 0.9281 - val_loss: 3.2579 - val_mean_absolute_error: 0.7893\n",
      "Epoch 44/100\n",
      "14/14 [==============================] - 0s 3ms/step - loss: 3.2320 - mean_absolute_error: 0.8789 - val_loss: 3.2599 - val_mean_absolute_error: 0.7916\n",
      "Epoch 45/100\n",
      "14/14 [==============================] - 0s 3ms/step - loss: 3.4346 - mean_absolute_error: 0.9065 - val_loss: 3.2563 - val_mean_absolute_error: 0.7907\n",
      "Epoch 46/100\n",
      "14/14 [==============================] - 0s 3ms/step - loss: 3.3436 - mean_absolute_error: 0.8682 - val_loss: 3.2420 - val_mean_absolute_error: 0.7867\n",
      "Epoch 47/100\n",
      "14/14 [==============================] - 0s 3ms/step - loss: 3.5773 - mean_absolute_error: 0.9045 - val_loss: 3.2286 - val_mean_absolute_error: 0.7831\n",
      "Epoch 48/100\n",
      "14/14 [==============================] - 0s 3ms/step - loss: 3.2886 - mean_absolute_error: 0.8355 - val_loss: 3.2303 - val_mean_absolute_error: 0.7842\n",
      "Epoch 49/100\n",
      "14/14 [==============================] - 0s 3ms/step - loss: 3.2421 - mean_absolute_error: 0.8647 - val_loss: 3.2321 - val_mean_absolute_error: 0.7865\n",
      "Epoch 50/100\n",
      "14/14 [==============================] - 0s 3ms/step - loss: 3.1809 - mean_absolute_error: 0.8436 - val_loss: 3.2353 - val_mean_absolute_error: 0.7872\n",
      "Epoch 51/100\n",
      "14/14 [==============================] - 0s 3ms/step - loss: 3.4047 - mean_absolute_error: 0.8929 - val_loss: 3.2390 - val_mean_absolute_error: 0.7887\n",
      "Epoch 52/100\n",
      "14/14 [==============================] - 0s 3ms/step - loss: 3.3277 - mean_absolute_error: 0.8875 - val_loss: 3.2403 - val_mean_absolute_error: 0.7905\n",
      "Epoch 53/100\n",
      "14/14 [==============================] - 0s 3ms/step - loss: 3.3252 - mean_absolute_error: 0.8768 - val_loss: 3.2485 - val_mean_absolute_error: 0.7940\n",
      "Epoch 54/100\n",
      "14/14 [==============================] - 0s 3ms/step - loss: 3.3195 - mean_absolute_error: 0.8844 - val_loss: 3.2567 - val_mean_absolute_error: 0.7965\n",
      "Epoch 55/100\n",
      "14/14 [==============================] - 0s 3ms/step - loss: 3.1993 - mean_absolute_error: 0.8392 - val_loss: 3.2402 - val_mean_absolute_error: 0.7932\n",
      "3/3 [==============================] - 0s 2ms/step - loss: 3.1526 - mean_absolute_error: 0.8239\n",
      "[ 0  1  2  3  4  5  6  7  8  9 10 11 12 13 14 15 16 17 18 19 20 21 22 23\n",
      " 24 25 26 27 28 29 30 31 32 33 34 35 36 37 38 39 40 41 42 43 44 45 46 47\n",
      " 48 49 50 51 52 53 54 55 56 57 58 59 60 61 62 63 64 65 66 67 68 69 70]\n",
      "Epoch 1/100\n",
      "14/14 [==============================] - 0s 9ms/step - loss: 3.3284 - mean_absolute_error: 0.8787 - val_loss: 3.2387 - val_mean_absolute_error: 0.7924\n",
      "Epoch 2/100\n",
      "14/14 [==============================] - 0s 3ms/step - loss: 3.3140 - mean_absolute_error: 0.8896 - val_loss: 3.2311 - val_mean_absolute_error: 0.7922\n",
      "Epoch 3/100\n",
      "14/14 [==============================] - 0s 3ms/step - loss: 3.3681 - mean_absolute_error: 0.8865 - val_loss: 3.2172 - val_mean_absolute_error: 0.7879\n",
      "Epoch 4/100\n",
      "14/14 [==============================] - 0s 3ms/step - loss: 3.4046 - mean_absolute_error: 0.9213 - val_loss: 3.2189 - val_mean_absolute_error: 0.7873\n",
      "Epoch 5/100\n",
      "14/14 [==============================] - 0s 3ms/step - loss: 3.2322 - mean_absolute_error: 0.8572 - val_loss: 3.2197 - val_mean_absolute_error: 0.7887\n",
      "Epoch 6/100\n",
      "14/14 [==============================] - 0s 3ms/step - loss: 3.3504 - mean_absolute_error: 0.8984 - val_loss: 3.2165 - val_mean_absolute_error: 0.7883\n",
      "Epoch 7/100\n",
      "14/14 [==============================] - 0s 3ms/step - loss: 3.3627 - mean_absolute_error: 0.8714 - val_loss: 3.2118 - val_mean_absolute_error: 0.7862\n",
      "Epoch 8/100\n",
      "14/14 [==============================] - 0s 3ms/step - loss: 3.1783 - mean_absolute_error: 0.8521 - val_loss: 3.2095 - val_mean_absolute_error: 0.7872\n",
      "Epoch 9/100\n",
      "14/14 [==============================] - 0s 3ms/step - loss: 3.3433 - mean_absolute_error: 0.9009 - val_loss: 3.2130 - val_mean_absolute_error: 0.7883\n",
      "Epoch 10/100\n",
      "14/14 [==============================] - 0s 3ms/step - loss: 3.3628 - mean_absolute_error: 0.8881 - val_loss: 3.2113 - val_mean_absolute_error: 0.7872\n",
      "Epoch 11/100\n",
      "14/14 [==============================] - 0s 3ms/step - loss: 3.2164 - mean_absolute_error: 0.8438 - val_loss: 3.2008 - val_mean_absolute_error: 0.7854\n",
      "Epoch 12/100\n",
      "14/14 [==============================] - 0s 3ms/step - loss: 3.2775 - mean_absolute_error: 0.8666 - val_loss: 3.1957 - val_mean_absolute_error: 0.7838\n",
      "Epoch 13/100\n",
      "14/14 [==============================] - 0s 3ms/step - loss: 3.2392 - mean_absolute_error: 0.8542 - val_loss: 3.1896 - val_mean_absolute_error: 0.7814\n",
      "Epoch 14/100\n",
      "14/14 [==============================] - 0s 3ms/step - loss: 3.1886 - mean_absolute_error: 0.8400 - val_loss: 3.1659 - val_mean_absolute_error: 0.7750\n",
      "Epoch 15/100\n",
      "14/14 [==============================] - 0s 3ms/step - loss: 3.2268 - mean_absolute_error: 0.8702 - val_loss: 3.1556 - val_mean_absolute_error: 0.7718\n",
      "Epoch 16/100\n",
      "14/14 [==============================] - 0s 3ms/step - loss: 3.2706 - mean_absolute_error: 0.8701 - val_loss: 3.1541 - val_mean_absolute_error: 0.7729\n",
      "Epoch 17/100\n",
      "14/14 [==============================] - 0s 3ms/step - loss: 3.3258 - mean_absolute_error: 0.9065 - val_loss: 3.1609 - val_mean_absolute_error: 0.7761\n",
      "Epoch 18/100\n",
      "14/14 [==============================] - 0s 3ms/step - loss: 3.2541 - mean_absolute_error: 0.8590 - val_loss: 3.1578 - val_mean_absolute_error: 0.7756\n",
      "Epoch 19/100\n",
      "14/14 [==============================] - 0s 3ms/step - loss: 3.2463 - mean_absolute_error: 0.8646 - val_loss: 3.1630 - val_mean_absolute_error: 0.7769\n",
      "Epoch 20/100\n",
      "14/14 [==============================] - 0s 3ms/step - loss: 3.2571 - mean_absolute_error: 0.8863 - val_loss: 3.1646 - val_mean_absolute_error: 0.7787\n",
      "Epoch 21/100\n",
      "14/14 [==============================] - 0s 3ms/step - loss: 3.0641 - mean_absolute_error: 0.8165 - val_loss: 3.1682 - val_mean_absolute_error: 0.7808\n",
      "Epoch 22/100\n",
      "14/14 [==============================] - 0s 3ms/step - loss: 3.1135 - mean_absolute_error: 0.8216 - val_loss: 3.1610 - val_mean_absolute_error: 0.7792\n",
      "Epoch 23/100\n",
      "14/14 [==============================] - 0s 3ms/step - loss: 3.2599 - mean_absolute_error: 0.8776 - val_loss: 3.1593 - val_mean_absolute_error: 0.7780\n",
      "Epoch 24/100\n",
      "14/14 [==============================] - 0s 3ms/step - loss: 3.3383 - mean_absolute_error: 0.9108 - val_loss: 3.1570 - val_mean_absolute_error: 0.7768\n",
      "3/3 [==============================] - 0s 1ms/step - loss: 3.5046 - mean_absolute_error: 1.0096\n"
     ]
    }
   ],
   "source": [
    "model, history, evaluations = generalisation_estimator(new_model)"
   ]
  },
  {
   "cell_type": "code",
   "execution_count": 139,
   "id": "219f7d86",
   "metadata": {
    "scrolled": false
   },
   "outputs": [
    {
     "name": "stdout",
     "output_type": "stream",
     "text": [
      "Mean: 0.8859183192253113 Std: 0.07412486995655308\n"
     ]
    }
   ],
   "source": [
    "acc = [e[1] for e in evaluations]\n",
    "mean = np.mean(acc)\n",
    "std_dev = np.std(acc)\n",
    "print(f\"Mean: {mean} Std: {std_dev}\")"
   ]
  },
  {
   "cell_type": "code",
   "execution_count": 140,
   "id": "1f53d9a0",
   "metadata": {
    "scrolled": false
   },
   "outputs": [
    {
     "data": {
      "text/plain": [
       "dict_keys(['loss', 'mean_absolute_error', 'val_loss', 'val_mean_absolute_error'])"
      ]
     },
     "execution_count": 140,
     "metadata": {},
     "output_type": "execute_result"
    }
   ],
   "source": [
    "history[0].history.keys()"
   ]
  },
  {
   "cell_type": "markdown",
   "id": "b7f36a38",
   "metadata": {},
   "source": [
    "### Retrain the best model on all the training data"
   ]
  },
  {
   "cell_type": "code",
   "execution_count": null,
   "id": "6970a306",
   "metadata": {},
   "outputs": [],
   "source": []
  },
  {
   "cell_type": "markdown",
   "id": "e30e4301",
   "metadata": {},
   "source": [
    "## Random search with conv model"
   ]
  },
  {
   "cell_type": "markdown",
   "id": "35bd2ea9",
   "metadata": {},
   "source": [
    "### Training"
   ]
  },
  {
   "cell_type": "code",
   "execution_count": 23,
   "id": "3d1148ee",
   "metadata": {},
   "outputs": [],
   "source": [
    "tuner = kt.RandomSearch(\n",
    "    build_model_conv,\n",
    "    objective='val_mean_absolute_error',\n",
    "    max_trials=50,\n",
    "    seed=seed,\n",
    "    hyperparameters=None,\n",
    "    tune_new_entries=True,\n",
    "    allow_new_entries=True,\n",
    "    overwrite=True\n",
    ")"
   ]
  },
  {
   "cell_type": "code",
   "execution_count": 25,
   "id": "b8ff0b28",
   "metadata": {},
   "outputs": [
    {
     "name": "stdout",
     "output_type": "stream",
     "text": [
      "Trial 50 Complete [00h 02m 13s]\n",
      "val_mean_absolute_error: 0.8619729280471802\n",
      "\n",
      "Best val_mean_absolute_error So Far: 0.702015221118927\n",
      "Total elapsed time: 01h 30m 12s\n",
      "INFO:tensorflow:Oracle triggered exit\n",
      "2022-08-12 15:44:42,115-[INFO]- tensorflow:1 -> Oracle triggered exit\n"
     ]
    }
   ],
   "source": [
    "tuner.search(data_preparation(im),\n",
    "             label,\n",
    "             validation_split=0.2,\n",
    "             epochs=200,\n",
    "             callbacks=[tf.keras.callbacks.EarlyStopping(patience=8, restore_best_weights = True)])"
   ]
  },
  {
   "cell_type": "markdown",
   "id": "492ab450",
   "metadata": {},
   "source": [
    "### Analyse results"
   ]
  },
  {
   "cell_type": "code",
   "execution_count": 27,
   "id": "c9d257f8",
   "metadata": {
    "scrolled": true
   },
   "outputs": [
    {
     "name": "stdout",
     "output_type": "stream",
     "text": [
      "Results summary\n",
      "Results in ./untitled_project\n",
      "Showing 10 best trials\n",
      "<keras_tuner.engine.objective.Objective object at 0x7f75c4753eb0>\n",
      "Trial summary\n",
      "Hyperparameters:\n",
      "input_size: 80\n",
      "regul: 0.0002707623734125964\n",
      "batch_normalization: True\n",
      "conv_blocks: 3\n",
      "filters_0: 224\n",
      "kernel_size0: 19\n",
      "filters_1: 160\n",
      "kernel_size1: 20\n",
      "pooling_1: avg\n",
      "hidden_size: 10\n",
      "dense_blocks: 3\n",
      "dropout: 0.1\n",
      "learning_rate: 0.020272548846591663\n",
      "pooling_0: avg\n",
      "filters_2: 256\n",
      "kernel_size2: 17\n",
      "pooling_2: none\n",
      "Score: 0.702015221118927\n",
      "Trial summary\n",
      "Hyperparameters:\n",
      "input_size: 80\n",
      "regul: 0.00010991863288278036\n",
      "batch_normalization: False\n",
      "conv_blocks: 2\n",
      "filters_0: 64\n",
      "kernel_size0: 14\n",
      "filters_1: 160\n",
      "kernel_size1: 18\n",
      "pooling_1: avg\n",
      "hidden_size: 42\n",
      "dense_blocks: 3\n",
      "dropout: 0.5\n",
      "learning_rate: 0.00638224910178181\n",
      "pooling_0: max\n",
      "filters_2: 192\n",
      "kernel_size2: 15\n",
      "pooling_2: max\n",
      "Score: 0.704502284526825\n",
      "Trial summary\n",
      "Hyperparameters:\n",
      "input_size: 80\n",
      "regul: 0.00032199506051567314\n",
      "batch_normalization: True\n",
      "conv_blocks: 2\n",
      "filters_0: 64\n",
      "kernel_size0: 13\n",
      "filters_1: 160\n",
      "kernel_size1: 5\n",
      "pooling_1: avg\n",
      "hidden_size: 74\n",
      "dense_blocks: 2\n",
      "dropout: 0.30000000000000004\n",
      "learning_rate: 0.00020644391295639603\n",
      "pooling_0: none\n",
      "Score: 0.7146832942962646\n",
      "Trial summary\n",
      "Hyperparameters:\n",
      "input_size: 80\n",
      "regul: 6.908837503318941e-05\n",
      "batch_normalization: False\n",
      "conv_blocks: 2\n",
      "filters_0: 160\n",
      "kernel_size0: 6\n",
      "filters_1: 128\n",
      "kernel_size1: 9\n",
      "pooling_1: avg\n",
      "hidden_size: 42\n",
      "dense_blocks: 2\n",
      "dropout: 0.0\n",
      "learning_rate: 0.0009775664203574934\n",
      "pooling_0: avg\n",
      "Score: 0.7626064419746399\n",
      "Trial summary\n",
      "Hyperparameters:\n",
      "input_size: 80\n",
      "regul: 0.0010562376768930327\n",
      "batch_normalization: True\n",
      "conv_blocks: 2\n",
      "filters_0: 192\n",
      "kernel_size0: 8\n",
      "filters_1: 224\n",
      "kernel_size1: 7\n",
      "pooling_1: max\n",
      "hidden_size: 10\n",
      "dense_blocks: 1\n",
      "dropout: 0.0\n",
      "learning_rate: 0.0004832573378556583\n",
      "pooling_0: max\n",
      "Score: 0.7866157293319702\n",
      "Trial summary\n",
      "Hyperparameters:\n",
      "input_size: 80\n",
      "regul: 1.619773895005048e-05\n",
      "batch_normalization: False\n",
      "conv_blocks: 3\n",
      "filters_0: 160\n",
      "kernel_size0: 6\n",
      "filters_1: 256\n",
      "kernel_size1: 14\n",
      "pooling_1: none\n",
      "hidden_size: 42\n",
      "dense_blocks: 2\n",
      "dropout: 0.2\n",
      "learning_rate: 0.0008639229762234833\n",
      "pooling_0: none\n",
      "filters_2: 160\n",
      "kernel_size2: 6\n",
      "pooling_2: avg\n",
      "Score: 0.7882844805717468\n",
      "Trial summary\n",
      "Hyperparameters:\n",
      "input_size: 80\n",
      "regul: 0.00050472731221573\n",
      "batch_normalization: False\n",
      "conv_blocks: 1\n",
      "filters_0: 224\n",
      "kernel_size0: 8\n",
      "filters_1: 160\n",
      "kernel_size1: 8\n",
      "pooling_1: max\n",
      "hidden_size: 74\n",
      "dense_blocks: 2\n",
      "dropout: 0.1\n",
      "learning_rate: 0.0004956405624619392\n",
      "pooling_0: max\n",
      "filters_2: 64\n",
      "kernel_size2: 16\n",
      "pooling_2: max\n",
      "Score: 0.8011331558227539\n",
      "Trial summary\n",
      "Hyperparameters:\n",
      "input_size: 80\n",
      "regul: 0.0097400166982067\n",
      "batch_normalization: True\n",
      "conv_blocks: 1\n",
      "filters_0: 224\n",
      "kernel_size0: 17\n",
      "filters_1: 160\n",
      "kernel_size1: 5\n",
      "pooling_1: avg\n",
      "hidden_size: 74\n",
      "dense_blocks: 2\n",
      "dropout: 0.30000000000000004\n",
      "learning_rate: 0.0001465777550436778\n",
      "pooling_0: max\n",
      "filters_2: 192\n",
      "kernel_size2: 13\n",
      "pooling_2: avg\n",
      "Score: 0.8049061298370361\n",
      "Trial summary\n",
      "Hyperparameters:\n",
      "input_size: 80\n",
      "regul: 1.5061420490559164e-05\n",
      "batch_normalization: True\n",
      "conv_blocks: 2\n",
      "filters_0: 64\n",
      "kernel_size0: 12\n",
      "filters_1: 160\n",
      "kernel_size1: 16\n",
      "pooling_1: avg\n",
      "hidden_size: 42\n",
      "dense_blocks: 2\n",
      "dropout: 0.30000000000000004\n",
      "learning_rate: 0.0008758408573224307\n",
      "pooling_0: avg\n",
      "filters_2: 160\n",
      "kernel_size2: 19\n",
      "pooling_2: none\n",
      "Score: 0.807873547077179\n",
      "Trial summary\n",
      "Hyperparameters:\n",
      "input_size: 80\n",
      "regul: 0.00030389246930894354\n",
      "batch_normalization: True\n",
      "conv_blocks: 1\n",
      "filters_0: 256\n",
      "kernel_size0: 6\n",
      "filters_1: 96\n",
      "kernel_size1: 12\n",
      "pooling_1: max\n",
      "hidden_size: 42\n",
      "dense_blocks: 1\n",
      "dropout: 0.0\n",
      "learning_rate: 0.0004831323790896749\n",
      "pooling_0: none\n",
      "filters_2: 224\n",
      "kernel_size2: 17\n",
      "pooling_2: avg\n",
      "Score: 0.8135343194007874\n"
     ]
    }
   ],
   "source": [
    "tuner.results_summary()"
   ]
  },
  {
   "cell_type": "code",
   "execution_count": 28,
   "id": "1a04d770",
   "metadata": {},
   "outputs": [
    {
     "name": "stdout",
     "output_type": "stream",
     "text": [
      "WARNING:tensorflow:Detecting that an object or model or tf.train.Checkpoint is being deleted with unrestored values. See the following logs for the specific values in question. To silence these warnings, use `status.expect_partial()`. See https://www.tensorflow.org/api_docs/python/tf/train/Checkpoint#restorefor details about the status object returned by the restore function.\n",
      "2022-08-12 15:46:06,331-[WARNING]- tensorflow:185 -> Detecting that an object or model or tf.train.Checkpoint is being deleted with unrestored values. See the following logs for the specific values in question. To silence these warnings, use `status.expect_partial()`. See https://www.tensorflow.org/api_docs/python/tf/train/Checkpoint#restorefor details about the status object returned by the restore function.\n",
      "WARNING:tensorflow:Value in checkpoint could not be found in the restored object: (root).optimizer.iter\n",
      "2022-08-12 15:46:06,332-[WARNING]- tensorflow:194 -> Value in checkpoint could not be found in the restored object: (root).optimizer.iter\n",
      "WARNING:tensorflow:Value in checkpoint could not be found in the restored object: (root).optimizer.beta_1\n",
      "2022-08-12 15:46:06,332-[WARNING]- tensorflow:194 -> Value in checkpoint could not be found in the restored object: (root).optimizer.beta_1\n",
      "WARNING:tensorflow:Value in checkpoint could not be found in the restored object: (root).optimizer.beta_2\n",
      "2022-08-12 15:46:06,333-[WARNING]- tensorflow:194 -> Value in checkpoint could not be found in the restored object: (root).optimizer.beta_2\n",
      "WARNING:tensorflow:Value in checkpoint could not be found in the restored object: (root).optimizer.decay\n",
      "2022-08-12 15:46:06,333-[WARNING]- tensorflow:194 -> Value in checkpoint could not be found in the restored object: (root).optimizer.decay\n",
      "WARNING:tensorflow:Value in checkpoint could not be found in the restored object: (root).optimizer.learning_rate\n",
      "2022-08-12 15:46:06,334-[WARNING]- tensorflow:194 -> Value in checkpoint could not be found in the restored object: (root).optimizer.learning_rate\n"
     ]
    }
   ],
   "source": [
    "best_model = tuner.get_best_models(2)[1]"
   ]
  },
  {
   "cell_type": "code",
   "execution_count": 29,
   "id": "17fe4590",
   "metadata": {},
   "outputs": [],
   "source": [
    "best_hyperparameters = tuner.get_best_hyperparameters(1)[0]"
   ]
  },
  {
   "cell_type": "code",
   "execution_count": 30,
   "id": "899c8b56",
   "metadata": {},
   "outputs": [
    {
     "name": "stdout",
     "output_type": "stream",
     "text": [
      "Model: \"model\"\n",
      "_________________________________________________________________\n",
      " Layer (type)                Output Shape              Param #   \n",
      "=================================================================\n",
      " input_1 (InputLayer)        [(None, 80, 1)]           0         \n",
      "                                                                 \n",
      " rescaling (Rescaling)       (None, 80, 1)             0         \n",
      "                                                                 \n",
      " conv1d (Conv1D)             (None, 71, 64)            704       \n",
      "                                                                 \n",
      " re_lu (ReLU)                (None, 71, 64)            0         \n",
      "                                                                 \n",
      " conv1d_1 (Conv1D)           (None, 62, 160)           102560    \n",
      "                                                                 \n",
      " re_lu_1 (ReLU)              (None, 62, 160)           0         \n",
      "                                                                 \n",
      " average_pooling1d (AverageP  (None, 31, 160)          0         \n",
      " ooling1D)                                                       \n",
      "                                                                 \n",
      " flatten (Flatten)           (None, 4960)              0         \n",
      "                                                                 \n",
      " dense (Dense)               (None, 42)                208362    \n",
      "                                                                 \n",
      " dense_1 (Dense)             (None, 42)                1806      \n",
      "                                                                 \n",
      " dense_2 (Dense)             (None, 42)                1806      \n",
      "                                                                 \n",
      " dropout (Dropout)           (None, 42)                0         \n",
      "                                                                 \n",
      " dense_3 (Dense)             (None, 1)                 43        \n",
      "                                                                 \n",
      "=================================================================\n",
      "Total params: 315,281\n",
      "Trainable params: 315,281\n",
      "Non-trainable params: 0\n",
      "_________________________________________________________________\n"
     ]
    }
   ],
   "source": [
    "best_model.summary()"
   ]
  },
  {
   "cell_type": "code",
   "execution_count": 31,
   "id": "802d0f4e",
   "metadata": {},
   "outputs": [
    {
     "name": "stdout",
     "output_type": "stream",
     "text": [
      "Search space summary\n",
      "Default search space size: 17\n",
      "input_size (Fixed)\n",
      "{'conditions': [], 'value': 80}\n",
      "regul (Float)\n",
      "{'default': 0.0001, 'conditions': [], 'min_value': 1e-05, 'max_value': 0.1, 'step': None, 'sampling': 'log'}\n",
      "batch_normalization (Boolean)\n",
      "{'default': False, 'conditions': []}\n",
      "conv_blocks (Int)\n",
      "{'default': 2, 'conditions': [], 'min_value': 1, 'max_value': 3, 'step': 1, 'sampling': None}\n",
      "filters_0 (Int)\n",
      "{'default': None, 'conditions': [], 'min_value': 32, 'max_value': 256, 'step': 32, 'sampling': None}\n",
      "kernel_size0 (Int)\n",
      "{'default': None, 'conditions': [], 'min_value': 5, 'max_value': 20, 'step': 1, 'sampling': None}\n",
      "filters_1 (Int)\n",
      "{'default': None, 'conditions': [], 'min_value': 32, 'max_value': 256, 'step': 32, 'sampling': None}\n",
      "kernel_size1 (Int)\n",
      "{'default': None, 'conditions': [], 'min_value': 5, 'max_value': 20, 'step': 1, 'sampling': None}\n",
      "pooling_1 (Choice)\n",
      "{'default': 'avg', 'conditions': [], 'values': ['avg', 'max', 'none'], 'ordered': False}\n",
      "hidden_size (Int)\n",
      "{'default': 32, 'conditions': [], 'min_value': 10, 'max_value': 100, 'step': 32, 'sampling': None}\n",
      "dense_blocks (Int)\n",
      "{'default': 1, 'conditions': [], 'min_value': 1, 'max_value': 3, 'step': 1, 'sampling': None}\n",
      "dropout (Float)\n",
      "{'default': 0.5, 'conditions': [], 'min_value': 0.0, 'max_value': 0.5, 'step': 0.1, 'sampling': None}\n",
      "learning_rate (Float)\n",
      "{'default': 0.001, 'conditions': [], 'min_value': 1e-05, 'max_value': 0.1, 'step': None, 'sampling': 'log'}\n",
      "pooling_0 (Choice)\n",
      "{'default': 'avg', 'conditions': [], 'values': ['avg', 'max', 'none'], 'ordered': False}\n",
      "filters_2 (Int)\n",
      "{'default': None, 'conditions': [], 'min_value': 32, 'max_value': 256, 'step': 32, 'sampling': None}\n",
      "kernel_size2 (Int)\n",
      "{'default': None, 'conditions': [], 'min_value': 5, 'max_value': 20, 'step': 1, 'sampling': None}\n",
      "pooling_2 (Choice)\n",
      "{'default': 'avg', 'conditions': [], 'values': ['avg', 'max', 'none'], 'ordered': False}\n"
     ]
    }
   ],
   "source": [
    "tuner.search_space_summary()"
   ]
  },
  {
   "cell_type": "code",
   "execution_count": 32,
   "id": "504d343e",
   "metadata": {},
   "outputs": [],
   "source": [
    "def plot_against(model, test_feature, test_label):\n",
    "    predicted = model.predict(test_feature)\n",
    "    plt.scatter(test_label, predicted, marker='o')\n",
    "    plt.plot([0,12],[0,12])\n",
    "    plt.xlim(2, 16)\n",
    "    plt.ylim(2, 16)"
   ]
  },
  {
   "cell_type": "code",
   "execution_count": 33,
   "id": "7c343ab6",
   "metadata": {},
   "outputs": [
    {
     "data": {
      "text/plain": [
       "Array([[179, 178, 179, ..., 166, 169, 169],\n",
       "       [188, 185, 185, ..., 191, 193, 192],\n",
       "       [184, 186, 184, ..., 183, 182, 180],\n",
       "       ...,\n",
       "       [191, 189, 191, ..., 195, 193, 195],\n",
       "       [187, 187, 188, ..., 189, 190, 190],\n",
       "       [187, 185, 186, ..., 163, 162, 166]], dtype=uint8)"
      ]
     },
     "execution_count": 33,
     "metadata": {},
     "output_type": "execute_result"
    }
   ],
   "source": [
    "test_feature"
   ]
  },
  {
   "cell_type": "code",
   "execution_count": 56,
   "id": "7a2d0c3b",
   "metadata": {},
   "outputs": [],
   "source": [
    "path = os.path.join(storage_path, \"test_final\")\n",
    "im_path_test = os.path.join(path, \"slices.png\")\n",
    "label_path_test = os.path.join(path, \"labels.npy\")"
   ]
  },
  {
   "cell_type": "code",
   "execution_count": 57,
   "id": "d0e19521",
   "metadata": {},
   "outputs": [
    {
     "name": "stdout",
     "output_type": "stream",
     "text": [
      "(810, 120)\n"
     ]
    }
   ],
   "source": [
    "im_test = imageio.imread(im_path_test)\n",
    "print(im_test.shape)"
   ]
  },
  {
   "cell_type": "code",
   "execution_count": 61,
   "id": "e2dcfdd5",
   "metadata": {},
   "outputs": [
    {
     "name": "stdout",
     "output_type": "stream",
     "text": [
      "(810,)\n"
     ]
    }
   ],
   "source": [
    "with open(label_path, 'rb') as f:\n",
    "    label_test = np.load(f)\n",
    "print(label_test.shape)"
   ]
  },
  {
   "cell_type": "code",
   "execution_count": 62,
   "id": "a3055d4f",
   "metadata": {},
   "outputs": [],
   "source": [
    "label_test = np.expand_dims(label_test, axis = 1)"
   ]
  },
  {
   "cell_type": "code",
   "execution_count": null,
   "id": "db8218f6",
   "metadata": {},
   "outputs": [],
   "source": []
  },
  {
   "cell_type": "code",
   "execution_count": 64,
   "id": "13b40dc0",
   "metadata": {
    "scrolled": true
   },
   "outputs": [
    {
     "data": {
      "application/vnd.jupyter.widget-view+json": {
       "model_id": "8a42bf64ae3144808defd36fa7e1c212",
       "version_major": 2,
       "version_minor": 0
      },
      "image/png": "[encoded data removed]",
      "text/html": [
       "\n",
       "            <div style=\"display: inline-block;\">\n",
       "                <div class=\"jupyter-widgets widget-label\" style=\"text-align: center;\">\n",
       "                    Figure\n",
       "                </div>\n",
       "                <img src='data:image/png;base64,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' width=640.0/>\n",
       "            </div>\n",
       "        "
      ],
      "text/plain": [
       "Canvas(toolbar=Toolbar(toolitems=[('Home', 'Reset original view', 'home', 'home'), ('Back', 'Back to previous …"
      ]
     },
     "metadata": {},
     "output_type": "display_data"
    }
   ],
   "source": [
    "%matplotlib widget\n",
    "plot_against(best_model, data_preparation(im_test), label_test)"
   ]
  },
  {
   "cell_type": "code",
   "execution_count": 66,
   "id": "a5100144",
   "metadata": {},
   "outputs": [
    {
     "name": "stderr",
     "output_type": "stream",
     "text": [
      "2022-08-12 16:34:00.585513: W tensorflow/python/util/util.cc:368] Sets are not currently considered sequences, but this may change in the future, so consider avoiding using them.\n"
     ]
    },
    {
     "name": "stdout",
     "output_type": "stream",
     "text": [
      "INFO:tensorflow:Assets written to: /media/kahane/AMFtopology02/storage/models/model_vendredi/assets\n",
      "2022-08-12 16:34:02,605-[INFO]- tensorflow:779 -> Assets written to: /media/kahane/AMFtopology02/storage/models/model_vendredi/assets\n"
     ]
    }
   ],
   "source": [
    "save_path = os.path.join(storage_path, \"models\", \"model_vendredi\")\n",
    "best_model.save(save_path)"
   ]
  },
  {
   "cell_type": "code",
   "execution_count": 38,
   "id": "4f889166",
   "metadata": {
    "scrolled": true
   },
   "outputs": [
    {
     "name": "stdout",
     "output_type": "stream",
     "text": [
      "3/3 [==============================] - 0s 6ms/step - loss: 2.2786 - mean_absolute_error: 1.0133\n"
     ]
    },
    {
     "data": {
      "text/plain": [
       "[2.278571844100952, 1.0132561922073364]"
      ]
     },
     "execution_count": 38,
     "metadata": {},
     "output_type": "execute_result"
    }
   ],
   "source": [
    "best_model.evaluate(test_feature, test_label)"
   ]
  },
  {
   "cell_type": "code",
   "execution_count": 39,
   "id": "80d3a718",
   "metadata": {
    "scrolled": true
   },
   "outputs": [
    {
     "name": "stdout",
     "output_type": "stream",
     "text": [
      "Model: \"model\"\n",
      "_________________________________________________________________\n",
      " Layer (type)                Output Shape              Param #   \n",
      "=================================================================\n",
      " input_1 (InputLayer)        [(None, 120, 1)]          0         \n",
      "                                                                 \n",
      " rescaling (Rescaling)       (None, 120, 1)            0         \n",
      "                                                                 \n",
      " conv1d (Conv1D)             (None, 111, 160)          1760      \n",
      "                                                                 \n",
      " re_lu (ReLU)                (None, 111, 160)          0         \n",
      "                                                                 \n",
      " conv1d_1 (Conv1D)           (None, 102, 128)          204928    \n",
      "                                                                 \n",
      " re_lu_1 (ReLU)              (None, 102, 128)          0         \n",
      "                                                                 \n",
      " average_pooling1d (AverageP  (None, 51, 128)          0         \n",
      " ooling1D)                                                       \n",
      "                                                                 \n",
      " flatten (Flatten)           (None, 6528)              0         \n",
      "                                                                 \n",
      " dense (Dense)               (None, 42)                274218    \n",
      "                                                                 \n",
      " dense_1 (Dense)             (None, 42)                1806      \n",
      "                                                                 \n",
      " dropout (Dropout)           (None, 42)                0         \n",
      "                                                                 \n",
      " dense_2 (Dense)             (None, 1)                 43        \n",
      "                                                                 \n",
      "=================================================================\n",
      "Total params: 482,755\n",
      "Trainable params: 482,755\n",
      "Non-trainable params: 0\n",
      "_________________________________________________________________\n"
     ]
    }
   ],
   "source": [
    "best_model.summary()"
   ]
  },
  {
   "cell_type": "code",
   "execution_count": 40,
   "id": "bbe87426",
   "metadata": {},
   "outputs": [
    {
     "name": "stdout",
     "output_type": "stream",
     "text": [
      "WARNING:tensorflow:Detecting that an object or model or tf.train.Checkpoint is being deleted with unrestored values. See the following logs for the specific values in question. To silence these warnings, use `status.expect_partial()`. See https://www.tensorflow.org/api_docs/python/tf/train/Checkpoint#restorefor details about the status object returned by the restore function.\n",
      "2022-06-07 15:53:58,773-[WARNING]- tensorflow:185 -> Detecting that an object or model or tf.train.Checkpoint is being deleted with unrestored values. See the following logs for the specific values in question. To silence these warnings, use `status.expect_partial()`. See https://www.tensorflow.org/api_docs/python/tf/train/Checkpoint#restorefor details about the status object returned by the restore function.\n",
      "WARNING:tensorflow:Value in checkpoint could not be found in the restored object: (root).optimizer.iter\n",
      "2022-06-07 15:53:58,774-[WARNING]- tensorflow:194 -> Value in checkpoint could not be found in the restored object: (root).optimizer.iter\n",
      "WARNING:tensorflow:Value in checkpoint could not be found in the restored object: (root).optimizer.beta_1\n",
      "2022-06-07 15:53:58,775-[WARNING]- tensorflow:194 -> Value in checkpoint could not be found in the restored object: (root).optimizer.beta_1\n",
      "WARNING:tensorflow:Value in checkpoint could not be found in the restored object: (root).optimizer.beta_2\n",
      "2022-06-07 15:53:58,777-[WARNING]- tensorflow:194 -> Value in checkpoint could not be found in the restored object: (root).optimizer.beta_2\n",
      "WARNING:tensorflow:Value in checkpoint could not be found in the restored object: (root).optimizer.decay\n",
      "2022-06-07 15:53:58,778-[WARNING]- tensorflow:194 -> Value in checkpoint could not be found in the restored object: (root).optimizer.decay\n",
      "WARNING:tensorflow:Value in checkpoint could not be found in the restored object: (root).optimizer.learning_rate\n",
      "2022-06-07 15:53:58,779-[WARNING]- tensorflow:194 -> Value in checkpoint could not be found in the restored object: (root).optimizer.learning_rate\n"
     ]
    },
    {
     "data": {
      "text/plain": [
       "[<keras.engine.functional.Functional at 0x7fcbc5fc2460>,\n",
       " <keras.engine.functional.Functional at 0x7fcbc5fd1040>,\n",
       " <keras.engine.functional.Functional at 0x7fcbc5ff2370>,\n",
       " <keras.engine.functional.Functional at 0x7fcbe442f370>,\n",
       " <keras.engine.functional.Functional at 0x7fcbe460e8e0>]"
      ]
     },
     "execution_count": 40,
     "metadata": {},
     "output_type": "execute_result"
    }
   ],
   "source": [
    "tuner.get_best_models(5)"
   ]
  },
  {
   "cell_type": "markdown",
   "id": "7656f24e",
   "metadata": {},
   "source": [
    "### Evaluate with data augmentation"
   ]
  },
  {
   "cell_type": "code",
   "execution_count": 49,
   "id": "91028823",
   "metadata": {},
   "outputs": [],
   "source": [
    "from amftrack.ml.width.data_augmentation import *"
   ]
  },
  {
   "cell_type": "code",
   "execution_count": null,
   "id": "32aabccc",
   "metadata": {},
   "outputs": [],
   "source": [
    "data_augmentation = tf.keras.Sequential(\n",
    "    [\n",
    "        tf.keras.Input(shape=(120, 1)),\n",
    "        random_crop(120),\n",
    "        # random_invert(p=0.5),  # TODO(FK): keep?\n",
    "        random_mirror(p=0.5),\n",
    "        random_brightness(20),\n",
    "    ]\n",
    ")"
   ]
  },
  {
   "cell_type": "code",
   "execution_count": 50,
   "id": "81f531c2",
   "metadata": {},
   "outputs": [
    {
     "data": {
      "text/plain": [
       "<keras.engine.sequential.Sequential at 0x7fcbf42ec700>"
      ]
     },
     "execution_count": 50,
     "metadata": {},
     "output_type": "execute_result"
    }
   ],
   "source": [
    "data_preparation"
   ]
  },
  {
   "cell_type": "code",
   "execution_count": 42,
   "id": "f08d1d37",
   "metadata": {},
   "outputs": [
    {
     "data": {
      "text/plain": [
       "Array([[199, 198, 197, ..., 203, 204, 207],\n",
       "       [175, 177, 176, ..., 167, 166, 166],\n",
       "       [194, 194, 194, ..., 146, 134, 120],\n",
       "       ...,\n",
       "       [186, 186, 186, ..., 179, 177, 179],\n",
       "       [204, 206, 206, ..., 205, 206, 206],\n",
       "       [188, 189, 188, ..., 174, 177, 179]], dtype=uint8)"
      ]
     },
     "execution_count": 42,
     "metadata": {},
     "output_type": "execute_result"
    }
   ],
   "source": [
    "test_feature"
   ]
  },
  {
   "cell_type": "code",
   "execution_count": 44,
   "id": "f8ea1200",
   "metadata": {},
   "outputs": [
    {
     "data": {
      "text/plain": [
       "(74, 1)"
      ]
     },
     "execution_count": 44,
     "metadata": {},
     "output_type": "execute_result"
    }
   ],
   "source": [
    "test_label.shape"
   ]
  },
  {
   "cell_type": "code",
   "execution_count": 45,
   "id": "61098b01",
   "metadata": {},
   "outputs": [],
   "source": [
    "test_feature_ = data_augmentation(test_feature)"
   ]
  },
  {
   "cell_type": "code",
   "execution_count": 46,
   "id": "2bea5a70",
   "metadata": {},
   "outputs": [
    {
     "data": {
      "text/plain": [
       "TensorShape([1, 80, 1])"
      ]
     },
     "execution_count": 46,
     "metadata": {},
     "output_type": "execute_result"
    }
   ],
   "source": []
  },
  {
   "cell_type": "code",
   "execution_count": null,
   "id": "a1f80240",
   "metadata": {},
   "outputs": [],
   "source": [
    "best_model.evaluate(test_feature, test_label)"
   ]
  },
  {
   "cell_type": "code",
   "execution_count": 41,
   "id": "5d366d12",
   "metadata": {},
   "outputs": [
    {
     "data": {
      "text/plain": [
       "<keras.engine.sequential.Sequential at 0x7fcbf74f6b20>"
      ]
     },
     "execution_count": 41,
     "metadata": {},
     "output_type": "execute_result"
    }
   ],
   "source": [
    "data_augmentation"
   ]
  },
  {
   "cell_type": "markdown",
   "id": "2bc39908",
   "metadata": {},
   "source": [
    "## BROUILLON"
   ]
  },
  {
   "cell_type": "code",
   "execution_count": 276,
   "id": "7d0564cf",
   "metadata": {},
   "outputs": [
    {
     "data": {
      "text/plain": [
       "(<tf.Tensor: shape=(32, 80, 1), dtype=float32, numpy=\n",
       " array([[[130.],\n",
       "         [130.],\n",
       "         [130.],\n",
       "         ...,\n",
       "         [127.],\n",
       "         [128.],\n",
       "         [129.]],\n",
       " \n",
       "        [[113.],\n",
       "         [111.],\n",
       "         [109.],\n",
       "         ...,\n",
       "         [129.],\n",
       "         [128.],\n",
       "         [125.]],\n",
       " \n",
       "        [[119.],\n",
       "         [120.],\n",
       "         [120.],\n",
       "         ...,\n",
       "         [122.],\n",
       "         [123.],\n",
       "         [122.]],\n",
       " \n",
       "        ...,\n",
       " \n",
       "        [[146.],\n",
       "         [144.],\n",
       "         [141.],\n",
       "         ...,\n",
       "         [148.],\n",
       "         [147.],\n",
       "         [147.]],\n",
       " \n",
       "        [[110.],\n",
       "         [107.],\n",
       "         [106.],\n",
       "         ...,\n",
       "         [116.],\n",
       "         [115.],\n",
       "         [114.]],\n",
       " \n",
       "        [[124.],\n",
       "         [124.],\n",
       "         [124.],\n",
       "         ...,\n",
       "         [124.],\n",
       "         [123.],\n",
       "         [123.]]], dtype=float32)>,\n",
       " <tf.Tensor: shape=(32,), dtype=float64, numpy=\n",
       " array([7.26221294, 5.93755418, 5.5774322 , 4.19787153, 3.7441611 ,\n",
       "        5.20109506, 4.87914297, 0.        , 8.52101685, 8.73503977,\n",
       "        4.59109883, 4.34090199, 4.35067225, 4.18356936, 5.923182  ,\n",
       "        8.89809448, 4.7800506 , 5.29939395, 5.08347615, 8.36581426,\n",
       "        8.89809448, 4.7800506 , 5.29939395, 5.08347615, 5.923182  ,\n",
       "        4.59109883, 4.34090199, 8.52101685, 8.73503977, 4.18356936,\n",
       "        4.35067225, 0.        ])>)"
      ]
     },
     "execution_count": 276,
     "metadata": {},
     "output_type": "execute_result"
    }
   ],
   "source": [
    "e"
   ]
  },
  {
   "cell_type": "markdown",
   "id": "ab2df246",
   "metadata": {},
   "source": [
    "TEST 1"
   ]
  },
  {
   "cell_type": "code",
   "execution_count": null,
   "id": "d4fb73a9",
   "metadata": {},
   "outputs": [],
   "source": []
  },
  {
   "cell_type": "code",
   "execution_count": 125,
   "id": "9e486f2d",
   "metadata": {},
   "outputs": [
    {
     "data": {
      "text/plain": [
       "TensorShape([527, 80, 1])"
      ]
     },
     "execution_count": 125,
     "metadata": {},
     "output_type": "execute_result"
    }
   ],
   "source": [
    "data_augmentation(train_feature).shape"
   ]
  },
  {
   "cell_type": "markdown",
   "id": "2dbe79fc",
   "metadata": {},
   "source": [
    "TEST 2"
   ]
  },
  {
   "cell_type": "code",
   "execution_count": 186,
   "id": "a19a6ab1",
   "metadata": {},
   "outputs": [
    {
     "data": {
      "text/plain": [
       "<tf.Tensor: shape=(3, 3, 1), dtype=float32, numpy=\n",
       "array([[[131.],\n",
       "        [130.],\n",
       "        [129.]],\n",
       "\n",
       "       [[130.],\n",
       "        [130.],\n",
       "        [128.]],\n",
       "\n",
       "       [[130.],\n",
       "        [131.],\n",
       "        [131.]]], dtype=float32)>"
      ]
     },
     "execution_count": 186,
     "metadata": {},
     "output_type": "execute_result"
    }
   ],
   "source": [
    "data_augmentation(train_feature)[:3,:3]"
   ]
  },
  {
   "cell_type": "markdown",
   "id": "c2c10f7a",
   "metadata": {},
   "source": [
    "TEST 3"
   ]
  },
  {
   "cell_type": "code",
   "execution_count": 187,
   "id": "55c8d9a0",
   "metadata": {},
   "outputs": [
    {
     "name": "stdout",
     "output_type": "stream",
     "text": [
      "Help on method search in module keras_tuner.engine.base_tuner:\n",
      "\n",
      "search(*fit_args, **fit_kwargs) method of keras_tuner.tuners.randomsearch.RandomSearch instance\n",
      "    Performs a search for best hyperparameter configuations.\n",
      "    \n",
      "    Args:\n",
      "        *fit_args: Positional arguments that should be passed to\n",
      "          `run_trial`, for example the training and validation data.\n",
      "        **fit_kwargs: Keyword arguments that should be passed to\n",
      "          `run_trial`, for example the training and validation data.\n",
      "\n"
     ]
    }
   ],
   "source": [
    "help(tuner.search)"
   ]
  },
  {
   "cell_type": "markdown",
   "id": "8d874adb",
   "metadata": {},
   "source": [
    "TEST 4: making an augmented dataset from the tensor"
   ]
  },
  {
   "cell_type": "code",
   "execution_count": null,
   "id": "4b625707",
   "metadata": {},
   "outputs": [],
   "source": []
  },
  {
   "cell_type": "code",
   "execution_count": 188,
   "id": "a1ffe145",
   "metadata": {
    "scrolled": true
   },
   "outputs": [
    {
     "name": "stdout",
     "output_type": "stream",
     "text": [
      "Help on class DatasetV2 in module tensorflow.python.data.ops.dataset_ops:\n",
      "\n",
      "class DatasetV2(collections.abc.Iterable, tensorflow.python.training.tracking.base.Trackable, tensorflow.python.framework.composite_tensor.CompositeTensor)\n",
      " |  DatasetV2(variant_tensor)\n",
      " |  \n",
      " |  Represents a potentially large set of elements.\n",
      " |  \n",
      " |  The `tf.data.Dataset` API supports writing descriptive and efficient input\n",
      " |  pipelines. `Dataset` usage follows a common pattern:\n",
      " |  \n",
      " |  1. Create a source dataset from your input data.\n",
      " |  2. Apply dataset transformations to preprocess the data.\n",
      " |  3. Iterate over the dataset and process the elements.\n",
      " |  \n",
      " |  Iteration happens in a streaming fashion, so the full dataset does not need to\n",
      " |  fit into memory.\n",
      " |  \n",
      " |  Source Datasets:\n",
      " |  \n",
      " |  The simplest way to create a dataset is to create it from a python `list`:\n",
      " |  \n",
      " |  >>> dataset = tf.data.Dataset.from_tensor_slices([1, 2, 3])\n",
      " |  >>> for element in dataset:\n",
      " |  ...   print(element)\n",
      " |  tf.Tensor(1, shape=(), dtype=int32)\n",
      " |  tf.Tensor(2, shape=(), dtype=int32)\n",
      " |  tf.Tensor(3, shape=(), dtype=int32)\n",
      " |  \n",
      " |  To process lines from files, use `tf.data.TextLineDataset`:\n",
      " |  \n",
      " |  >>> dataset = tf.data.TextLineDataset([\"file1.txt\", \"file2.txt\"])\n",
      " |  \n",
      " |  To process records written in the `TFRecord` format, use `TFRecordDataset`:\n",
      " |  \n",
      " |  >>> dataset = tf.data.TFRecordDataset([\"file1.tfrecords\", \"file2.tfrecords\"])\n",
      " |  \n",
      " |  To create a dataset of all files matching a pattern, use\n",
      " |  `tf.data.Dataset.list_files`:\n",
      " |  \n",
      " |  ```python\n",
      " |  dataset = tf.data.Dataset.list_files(\"/path/*.txt\")\n",
      " |  ```\n",
      " |  \n",
      " |  See `tf.data.FixedLengthRecordDataset` and `tf.data.Dataset.from_generator`\n",
      " |  for more ways to create datasets.\n",
      " |  \n",
      " |  Transformations:\n",
      " |  \n",
      " |  Once you have a dataset, you can apply transformations to prepare the data for\n",
      " |  your model:\n",
      " |  \n",
      " |  >>> dataset = tf.data.Dataset.from_tensor_slices([1, 2, 3])\n",
      " |  >>> dataset = dataset.map(lambda x: x*2)\n",
      " |  >>> list(dataset.as_numpy_iterator())\n",
      " |  [2, 4, 6]\n",
      " |  \n",
      " |  Common Terms:\n",
      " |  \n",
      " |  **Element**: A single output from calling `next()` on a dataset iterator.\n",
      " |    Elements may be nested structures containing multiple components. For\n",
      " |    example, the element `(1, (3, \"apple\"))` has one tuple nested in another\n",
      " |    tuple. The components are `1`, `3`, and `\"apple\"`.\n",
      " |  \n",
      " |  **Component**: The leaf in the nested structure of an element.\n",
      " |  \n",
      " |  Supported types:\n",
      " |  \n",
      " |  Elements can be nested structures of tuples, named tuples, and dictionaries.\n",
      " |  Note that Python lists are *not* treated as nested structures of components.\n",
      " |  Instead, lists are converted to tensors and treated as components. For\n",
      " |  example, the element `(1, [1, 2, 3])` has only two components; the tensor `1`\n",
      " |  and the tensor `[1, 2, 3]`. Element components can be of any type\n",
      " |  representable by `tf.TypeSpec`, including `tf.Tensor`, `tf.data.Dataset`,\n",
      " |  `tf.sparse.SparseTensor`, `tf.RaggedTensor`, and `tf.TensorArray`.\n",
      " |  \n",
      " |  ```python\n",
      " |  a = 1 # Integer element\n",
      " |  b = 2.0 # Float element\n",
      " |  c = (1, 2) # Tuple element with 2 components\n",
      " |  d = {\"a\": (2, 2), \"b\": 3} # Dict element with 3 components\n",
      " |  Point = collections.namedtuple(\"Point\", [\"x\", \"y\"])\n",
      " |  e = Point(1, 2) # Named tuple\n",
      " |  f = tf.data.Dataset.range(10) # Dataset element\n",
      " |  ```\n",
      " |  \n",
      " |  For more information,\n",
      " |  read [this guide](https://www.tensorflow.org/guide/data).\n",
      " |  \n",
      " |  Method resolution order:\n",
      " |      DatasetV2\n",
      " |      collections.abc.Iterable\n",
      " |      tensorflow.python.training.tracking.base.Trackable\n",
      " |      tensorflow.python.framework.composite_tensor.CompositeTensor\n",
      " |      builtins.object\n",
      " |  \n",
      " |  Methods defined here:\n",
      " |  \n",
      " |  __bool__(self)\n",
      " |  \n",
      " |  __debug_string__(self)\n",
      " |      Returns a string showing the type of the dataset and its inputs.\n",
      " |      \n",
      " |      This string is intended only for debugging purposes, and may change without\n",
      " |      warning.\n",
      " |  \n",
      " |  __init__(self, variant_tensor)\n",
      " |      Creates a DatasetV2 object.\n",
      " |      \n",
      " |      This is a difference between DatasetV1 and DatasetV2. DatasetV1 does not\n",
      " |      take anything in its constructor whereas in the DatasetV2, we expect\n",
      " |      subclasses to create a variant_tensor and pass it in to the super() call.\n",
      " |      \n",
      " |      Args:\n",
      " |        variant_tensor: A DT_VARIANT tensor that represents the dataset.\n",
      " |  \n",
      " |  __iter__(self)\n",
      " |      Creates an iterator for elements of this dataset.\n",
      " |      \n",
      " |      The returned iterator implements the Python Iterator protocol.\n",
      " |      \n",
      " |      Returns:\n",
      " |        An `tf.data.Iterator` for the elements of this dataset.\n",
      " |      \n",
      " |      Raises:\n",
      " |        RuntimeError: If not inside of tf.function and not executing eagerly.\n",
      " |  \n",
      " |  __len__(self)\n",
      " |      Returns the length of the dataset if it is known and finite.\n",
      " |      \n",
      " |      This method requires that you are running in eager mode, and that the\n",
      " |      length of the dataset is known and non-infinite. When the length may be\n",
      " |      unknown or infinite, or if you are running in graph mode, use\n",
      " |      `tf.data.Dataset.cardinality` instead.\n",
      " |      \n",
      " |      Returns:\n",
      " |        An integer representing the length of the dataset.\n",
      " |      \n",
      " |      Raises:\n",
      " |        RuntimeError: If the dataset length is unknown or infinite, or if eager\n",
      " |          execution is not enabled.\n",
      " |  \n",
      " |  __nonzero__ = __bool__(self)\n",
      " |  \n",
      " |  __repr__(self)\n",
      " |      Return repr(self).\n",
      " |  \n",
      " |  apply(self, transformation_func)\n",
      " |      Applies a transformation function to this dataset.\n",
      " |      \n",
      " |      `apply` enables chaining of custom `Dataset` transformations, which are\n",
      " |      represented as functions that take one `Dataset` argument and return a\n",
      " |      transformed `Dataset`.\n",
      " |      \n",
      " |      >>> dataset = tf.data.Dataset.range(100)\n",
      " |      >>> def dataset_fn(ds):\n",
      " |      ...   return ds.filter(lambda x: x < 5)\n",
      " |      >>> dataset = dataset.apply(dataset_fn)\n",
      " |      >>> list(dataset.as_numpy_iterator())\n",
      " |      [0, 1, 2, 3, 4]\n",
      " |      \n",
      " |      Args:\n",
      " |        transformation_func: A function that takes one `Dataset` argument and\n",
      " |          returns a `Dataset`.\n",
      " |      \n",
      " |      Returns:\n",
      " |        Dataset: The `Dataset` returned by applying `transformation_func` to this\n",
      " |            dataset.\n",
      " |  \n",
      " |  as_numpy_iterator(self)\n",
      " |      Returns an iterator which converts all elements of the dataset to numpy.\n",
      " |      \n",
      " |      Use `as_numpy_iterator` to inspect the content of your dataset. To see\n",
      " |      element shapes and types, print dataset elements directly instead of using\n",
      " |      `as_numpy_iterator`.\n",
      " |      \n",
      " |      >>> dataset = tf.data.Dataset.from_tensor_slices([1, 2, 3])\n",
      " |      >>> for element in dataset:\n",
      " |      ...   print(element)\n",
      " |      tf.Tensor(1, shape=(), dtype=int32)\n",
      " |      tf.Tensor(2, shape=(), dtype=int32)\n",
      " |      tf.Tensor(3, shape=(), dtype=int32)\n",
      " |      \n",
      " |      This method requires that you are running in eager mode and the dataset's\n",
      " |      element_spec contains only `TensorSpec` components.\n",
      " |      \n",
      " |      >>> dataset = tf.data.Dataset.from_tensor_slices([1, 2, 3])\n",
      " |      >>> for element in dataset.as_numpy_iterator():\n",
      " |      ...   print(element)\n",
      " |      1\n",
      " |      2\n",
      " |      3\n",
      " |      \n",
      " |      >>> dataset = tf.data.Dataset.from_tensor_slices([1, 2, 3])\n",
      " |      >>> print(list(dataset.as_numpy_iterator()))\n",
      " |      [1, 2, 3]\n",
      " |      \n",
      " |      `as_numpy_iterator()` will preserve the nested structure of dataset\n",
      " |      elements.\n",
      " |      \n",
      " |      >>> dataset = tf.data.Dataset.from_tensor_slices({'a': ([1, 2], [3, 4]),\n",
      " |      ...                                               'b': [5, 6]})\n",
      " |      >>> list(dataset.as_numpy_iterator()) == [{'a': (1, 3), 'b': 5},\n",
      " |      ...                                       {'a': (2, 4), 'b': 6}]\n",
      " |      True\n",
      " |      \n",
      " |      Returns:\n",
      " |        An iterable over the elements of the dataset, with their tensors converted\n",
      " |        to numpy arrays.\n",
      " |      \n",
      " |      Raises:\n",
      " |        TypeError: if an element contains a non-`Tensor` value.\n",
      " |        RuntimeError: if eager execution is not enabled.\n",
      " |  \n",
      " |  batch(self, batch_size, drop_remainder=False, num_parallel_calls=None, deterministic=None, name=None)\n",
      " |      Combines consecutive elements of this dataset into batches.\n",
      " |      \n",
      " |      >>> dataset = tf.data.Dataset.range(8)\n",
      " |      >>> dataset = dataset.batch(3)\n",
      " |      >>> list(dataset.as_numpy_iterator())\n",
      " |      [array([0, 1, 2]), array([3, 4, 5]), array([6, 7])]\n",
      " |      \n",
      " |      >>> dataset = tf.data.Dataset.range(8)\n",
      " |      >>> dataset = dataset.batch(3, drop_remainder=True)\n",
      " |      >>> list(dataset.as_numpy_iterator())\n",
      " |      [array([0, 1, 2]), array([3, 4, 5])]\n",
      " |      \n",
      " |      The components of the resulting element will have an additional outer\n",
      " |      dimension, which will be `batch_size` (or `N % batch_size` for the last\n",
      " |      element if `batch_size` does not divide the number of input elements `N`\n",
      " |      evenly and `drop_remainder` is `False`). If your program depends on the\n",
      " |      batches having the same outer dimension, you should set the `drop_remainder`\n",
      " |      argument to `True` to prevent the smaller batch from being produced.\n",
      " |      \n",
      " |      Note: If your program requires data to have a statically known shape (e.g.,\n",
      " |      when using XLA), you should use `drop_remainder=True`. Without\n",
      " |      `drop_remainder=True` the shape of the output dataset will have an unknown\n",
      " |      leading dimension due to the possibility of a smaller final batch.\n",
      " |      \n",
      " |      Args:\n",
      " |        batch_size: A `tf.int64` scalar `tf.Tensor`, representing the number of\n",
      " |          consecutive elements of this dataset to combine in a single batch.\n",
      " |        drop_remainder: (Optional.) A `tf.bool` scalar `tf.Tensor`, representing\n",
      " |          whether the last batch should be dropped in the case it has fewer than\n",
      " |          `batch_size` elements; the default behavior is not to drop the smaller\n",
      " |          batch.\n",
      " |        num_parallel_calls: (Optional.) A `tf.int64` scalar `tf.Tensor`,\n",
      " |          representing the number of batches to compute asynchronously in\n",
      " |          parallel.\n",
      " |          If not specified, batches will be computed sequentially. If the value\n",
      " |          `tf.data.AUTOTUNE` is used, then the number of parallel\n",
      " |          calls is set dynamically based on available resources.\n",
      " |        deterministic: (Optional.) When `num_parallel_calls` is specified, if this\n",
      " |          boolean is specified (`True` or `False`), it controls the order in which\n",
      " |          the transformation produces elements. If set to `False`, the\n",
      " |          transformation is allowed to yield elements out of order to trade\n",
      " |          determinism for performance. If not specified, the\n",
      " |          `tf.data.Options.deterministic` option (`True` by default) controls the\n",
      " |          behavior.\n",
      " |        name: (Optional.) A name for the tf.data operation.\n",
      " |      \n",
      " |      Returns:\n",
      " |        Dataset: A `Dataset`.\n",
      " |  \n",
      " |  bucket_by_sequence_length(self, element_length_func, bucket_boundaries, bucket_batch_sizes, padded_shapes=None, padding_values=None, pad_to_bucket_boundary=False, no_padding=False, drop_remainder=False, name=None)\n",
      " |      A transformation that buckets elements in a `Dataset` by length.\n",
      " |      \n",
      " |      Elements of the `Dataset` are grouped together by length and then are padded\n",
      " |      and batched.\n",
      " |      \n",
      " |      This is useful for sequence tasks in which the elements have variable\n",
      " |      length. Grouping together elements that have similar lengths reduces the\n",
      " |      total fraction of padding in a batch which increases training step\n",
      " |      efficiency.\n",
      " |      \n",
      " |      Below is an example to bucketize the input data to the 3 buckets\n",
      " |      \"[0, 3), [3, 5), [5, inf)\" based on sequence length, with batch size 2.\n",
      " |      \n",
      " |      >>> elements = [\n",
      " |      ...   [0], [1, 2, 3, 4], [5, 6, 7],\n",
      " |      ...   [7, 8, 9, 10, 11], [13, 14, 15, 16, 19, 20], [21, 22]]\n",
      " |      >>> dataset = tf.data.Dataset.from_generator(\n",
      " |      ...     lambda: elements, tf.int64, output_shapes=[None])\n",
      " |      >>> dataset = dataset.bucket_by_sequence_length(\n",
      " |      ...         element_length_func=lambda elem: tf.shape(elem)[0],\n",
      " |      ...         bucket_boundaries=[3, 5],\n",
      " |      ...         bucket_batch_sizes=[2, 2, 2])\n",
      " |      >>> for elem in dataset.as_numpy_iterator():\n",
      " |      ...   print(elem)\n",
      " |      [[1 2 3 4]\n",
      " |      [5 6 7 0]]\n",
      " |      [[ 7  8  9 10 11  0]\n",
      " |      [13 14 15 16 19 20]]\n",
      " |      [[ 0  0]\n",
      " |      [21 22]]\n",
      " |      \n",
      " |      Args:\n",
      " |        element_length_func: function from element in `Dataset` to `tf.int32`,\n",
      " |          determines the length of the element, which will determine the bucket it\n",
      " |          goes into.\n",
      " |        bucket_boundaries: `list<int>`, upper length boundaries of the buckets.\n",
      " |        bucket_batch_sizes: `list<int>`, batch size per bucket. Length should be\n",
      " |          `len(bucket_boundaries) + 1`.\n",
      " |        padded_shapes: Nested structure of `tf.TensorShape` to pass to\n",
      " |          `tf.data.Dataset.padded_batch`. If not provided, will use\n",
      " |          `dataset.output_shapes`, which will result in variable length dimensions\n",
      " |          being padded out to the maximum length in each batch.\n",
      " |        padding_values: Values to pad with, passed to\n",
      " |          `tf.data.Dataset.padded_batch`. Defaults to padding with 0.\n",
      " |        pad_to_bucket_boundary: bool, if `False`, will pad dimensions with unknown\n",
      " |          size to maximum length in batch. If `True`, will pad dimensions with\n",
      " |          unknown size to bucket boundary minus 1 (i.e., the maximum length in\n",
      " |          each bucket), and caller must ensure that the source `Dataset` does not\n",
      " |          contain any elements with length longer than `max(bucket_boundaries)`.\n",
      " |        no_padding: `bool`, indicates whether to pad the batch features (features\n",
      " |          need to be either of type `tf.sparse.SparseTensor` or of same shape).\n",
      " |        drop_remainder: (Optional.) A `tf.bool` scalar `tf.Tensor`, representing\n",
      " |          whether the last batch should be dropped in the case it has fewer than\n",
      " |          `batch_size` elements; the default behavior is not to drop the smaller\n",
      " |          batch.\n",
      " |        name: (Optional.) A name for the tf.data operation.\n",
      " |      \n",
      " |      Returns:\n",
      " |        A `Dataset`.\n",
      " |      \n",
      " |      Raises:\n",
      " |        ValueError: if `len(bucket_batch_sizes) != len(bucket_boundaries) + 1`.\n",
      " |  \n",
      " |  cache(self, filename='', name=None)\n",
      " |      Caches the elements in this dataset.\n",
      " |      \n",
      " |      The first time the dataset is iterated over, its elements will be cached\n",
      " |      either in the specified file or in memory. Subsequent iterations will\n",
      " |      use the cached data.\n",
      " |      \n",
      " |      Note: For the cache to be finalized, the input dataset must be iterated\n",
      " |      through in its entirety. Otherwise, subsequent iterations will not use\n",
      " |      cached data.\n",
      " |      \n",
      " |      >>> dataset = tf.data.Dataset.range(5)\n",
      " |      >>> dataset = dataset.map(lambda x: x**2)\n",
      " |      >>> dataset = dataset.cache()\n",
      " |      >>> # The first time reading through the data will generate the data using\n",
      " |      >>> # `range` and `map`.\n",
      " |      >>> list(dataset.as_numpy_iterator())\n",
      " |      [0, 1, 4, 9, 16]\n",
      " |      >>> # Subsequent iterations read from the cache.\n",
      " |      >>> list(dataset.as_numpy_iterator())\n",
      " |      [0, 1, 4, 9, 16]\n",
      " |      \n",
      " |      When caching to a file, the cached data will persist across runs. Even the\n",
      " |      first iteration through the data will read from the cache file. Changing\n",
      " |      the input pipeline before the call to `.cache()` will have no effect until\n",
      " |      the cache file is removed or the filename is changed.\n",
      " |      \n",
      " |      ```python\n",
      " |      dataset = tf.data.Dataset.range(5)\n",
      " |      dataset = dataset.cache(\"/path/to/file\")\n",
      " |      list(dataset.as_numpy_iterator())\n",
      " |      # [0, 1, 2, 3, 4]\n",
      " |      dataset = tf.data.Dataset.range(10)\n",
      " |      dataset = dataset.cache(\"/path/to/file\")  # Same file!\n",
      " |      list(dataset.as_numpy_iterator())\n",
      " |      # [0, 1, 2, 3, 4]\n",
      " |      ```\n",
      " |      \n",
      " |      Note: `cache` will produce exactly the same elements during each iteration\n",
      " |      through the dataset. If you wish to randomize the iteration order, make sure\n",
      " |      to call `shuffle` *after* calling `cache`.\n",
      " |      \n",
      " |      Args:\n",
      " |        filename: A `tf.string` scalar `tf.Tensor`, representing the name of a\n",
      " |          directory on the filesystem to use for caching elements in this Dataset.\n",
      " |          If a filename is not provided, the dataset will be cached in memory.\n",
      " |        name: (Optional.) A name for the tf.data operation.\n",
      " |      \n",
      " |      Returns:\n",
      " |        Dataset: A `Dataset`.\n",
      " |  \n",
      " |  cardinality(self)\n",
      " |      Returns the cardinality of the dataset, if known.\n",
      " |      \n",
      " |      `cardinality` may return `tf.data.INFINITE_CARDINALITY` if the dataset\n",
      " |      contains an infinite number of elements or `tf.data.UNKNOWN_CARDINALITY` if\n",
      " |      the analysis fails to determine the number of elements in the dataset\n",
      " |      (e.g. when the dataset source is a file).\n",
      " |      \n",
      " |      >>> dataset = tf.data.Dataset.range(42)\n",
      " |      >>> print(dataset.cardinality().numpy())\n",
      " |      42\n",
      " |      >>> dataset = dataset.repeat()\n",
      " |      >>> cardinality = dataset.cardinality()\n",
      " |      >>> print((cardinality == tf.data.INFINITE_CARDINALITY).numpy())\n",
      " |      True\n",
      " |      >>> dataset = dataset.filter(lambda x: True)\n",
      " |      >>> cardinality = dataset.cardinality()\n",
      " |      >>> print((cardinality == tf.data.UNKNOWN_CARDINALITY).numpy())\n",
      " |      True\n",
      " |      \n",
      " |      Returns:\n",
      " |        A scalar `tf.int64` `Tensor` representing the cardinality of the dataset.\n",
      " |        If the cardinality is infinite or unknown, `cardinality` returns the\n",
      " |        named constants `tf.data.INFINITE_CARDINALITY` and\n",
      " |        `tf.data.UNKNOWN_CARDINALITY` respectively.\n",
      " |  \n",
      " |  concatenate(self, dataset, name=None)\n",
      " |      Creates a `Dataset` by concatenating the given dataset with this dataset.\n",
      " |      \n",
      " |      >>> a = tf.data.Dataset.range(1, 4)  # ==> [ 1, 2, 3 ]\n",
      " |      >>> b = tf.data.Dataset.range(4, 8)  # ==> [ 4, 5, 6, 7 ]\n",
      " |      >>> ds = a.concatenate(b)\n",
      " |      >>> list(ds.as_numpy_iterator())\n",
      " |      [1, 2, 3, 4, 5, 6, 7]\n",
      " |      >>> # The input dataset and dataset to be concatenated should have\n",
      " |      >>> # compatible element specs.\n",
      " |      >>> c = tf.data.Dataset.zip((a, b))\n",
      " |      >>> a.concatenate(c)\n",
      " |      Traceback (most recent call last):\n",
      " |      TypeError: Two datasets to concatenate have different types\n",
      " |      <dtype: 'int64'> and (tf.int64, tf.int64)\n",
      " |      >>> d = tf.data.Dataset.from_tensor_slices([\"a\", \"b\", \"c\"])\n",
      " |      >>> a.concatenate(d)\n",
      " |      Traceback (most recent call last):\n",
      " |      TypeError: Two datasets to concatenate have different types\n",
      " |      <dtype: 'int64'> and <dtype: 'string'>\n",
      " |      \n",
      " |      Args:\n",
      " |        dataset: `Dataset` to be concatenated.\n",
      " |        name: (Optional.) A name for the tf.data operation.\n",
      " |      \n",
      " |      Returns:\n",
      " |        Dataset: A `Dataset`.\n",
      " |  \n",
      " |  enumerate(self, start=0, name=None)\n",
      " |      Enumerates the elements of this dataset.\n",
      " |      \n",
      " |      It is similar to python's `enumerate`.\n",
      " |      \n",
      " |      >>> dataset = tf.data.Dataset.from_tensor_slices([1, 2, 3])\n",
      " |      >>> dataset = dataset.enumerate(start=5)\n",
      " |      >>> for element in dataset.as_numpy_iterator():\n",
      " |      ...   print(element)\n",
      " |      (5, 1)\n",
      " |      (6, 2)\n",
      " |      (7, 3)\n",
      " |      \n",
      " |      >>> # The (nested) structure of the input dataset determines the\n",
      " |      >>> # structure of elements in the resulting dataset.\n",
      " |      >>> dataset = tf.data.Dataset.from_tensor_slices([(7, 8), (9, 10)])\n",
      " |      >>> dataset = dataset.enumerate()\n",
      " |      >>> for element in dataset.as_numpy_iterator():\n",
      " |      ...   print(element)\n",
      " |      (0, array([7, 8], dtype=int32))\n",
      " |      (1, array([ 9, 10], dtype=int32))\n",
      " |      \n",
      " |      Args:\n",
      " |        start: A `tf.int64` scalar `tf.Tensor`, representing the start value for\n",
      " |          enumeration.\n",
      " |        name: Optional. A name for the tf.data operations used by `enumerate`.\n",
      " |      \n",
      " |      Returns:\n",
      " |        Dataset: A `Dataset`.\n",
      " |  \n",
      " |  filter(self, predicate, name=None)\n",
      " |      Filters this dataset according to `predicate`.\n",
      " |      \n",
      " |      >>> dataset = tf.data.Dataset.from_tensor_slices([1, 2, 3])\n",
      " |      >>> dataset = dataset.filter(lambda x: x < 3)\n",
      " |      >>> list(dataset.as_numpy_iterator())\n",
      " |      [1, 2]\n",
      " |      >>> # `tf.math.equal(x, y)` is required for equality comparison\n",
      " |      >>> def filter_fn(x):\n",
      " |      ...   return tf.math.equal(x, 1)\n",
      " |      >>> dataset = dataset.filter(filter_fn)\n",
      " |      >>> list(dataset.as_numpy_iterator())\n",
      " |      [1]\n",
      " |      \n",
      " |      Args:\n",
      " |        predicate: A function mapping a dataset element to a boolean.\n",
      " |        name: (Optional.) A name for the tf.data operation.\n",
      " |      \n",
      " |      Returns:\n",
      " |        Dataset: The `Dataset` containing the elements of this dataset for which\n",
      " |            `predicate` is `True`.\n",
      " |  \n",
      " |  flat_map(self, map_func, name=None)\n",
      " |      Maps `map_func` across this dataset and flattens the result.\n",
      " |      \n",
      " |      The type signature is:\n",
      " |      \n",
      " |      ```\n",
      " |      def flat_map(\n",
      " |        self: Dataset[T],\n",
      " |        map_func: Callable[[T], Dataset[S]]\n",
      " |      ) -> Dataset[S]\n",
      " |      ```\n",
      " |      \n",
      " |      Use `flat_map` if you want to make sure that the order of your dataset\n",
      " |      stays the same. For example, to flatten a dataset of batches into a\n",
      " |      dataset of their elements:\n",
      " |      \n",
      " |      >>> dataset = tf.data.Dataset.from_tensor_slices(\n",
      " |      ...     [[1, 2, 3], [4, 5, 6], [7, 8, 9]])\n",
      " |      >>> dataset = dataset.flat_map(\n",
      " |      ...     lambda x: tf.data.Dataset.from_tensor_slices(x))\n",
      " |      >>> list(dataset.as_numpy_iterator())\n",
      " |      [1, 2, 3, 4, 5, 6, 7, 8, 9]\n",
      " |      \n",
      " |      `tf.data.Dataset.interleave()` is a generalization of `flat_map`, since\n",
      " |      `flat_map` produces the same output as\n",
      " |      `tf.data.Dataset.interleave(cycle_length=1)`\n",
      " |      \n",
      " |      Args:\n",
      " |        map_func: A function mapping a dataset element to a dataset.\n",
      " |        name: (Optional.) A name for the tf.data operation.\n",
      " |      \n",
      " |      Returns:\n",
      " |        Dataset: A `Dataset`.\n",
      " |  \n",
      " |  get_single_element(self, name=None)\n",
      " |      Returns the single element of the `dataset`.\n",
      " |      \n",
      " |      The function enables you to use a `tf.data.Dataset` in a stateless\n",
      " |      \"tensor-in tensor-out\" expression, without creating an iterator.\n",
      " |      This facilitates the ease of data transformation on tensors using the\n",
      " |      optimized `tf.data.Dataset` abstraction on top of them.\n",
      " |      \n",
      " |      For example, lets consider a `preprocessing_fn` which would take as an\n",
      " |      input the raw features and returns the processed feature along with\n",
      " |      it's label.\n",
      " |      \n",
      " |      ```python\n",
      " |      def preprocessing_fn(raw_feature):\n",
      " |        # ... the raw_feature is preprocessed as per the use-case\n",
      " |        return feature\n",
      " |      \n",
      " |      raw_features = ...  # input batch of BATCH_SIZE elements.\n",
      " |      dataset = (tf.data.Dataset.from_tensor_slices(raw_features)\n",
      " |                .map(preprocessing_fn, num_parallel_calls=BATCH_SIZE)\n",
      " |                .batch(BATCH_SIZE))\n",
      " |      \n",
      " |      processed_features = dataset.get_single_element()\n",
      " |      ```\n",
      " |      \n",
      " |      In the above example, the `raw_features` tensor of length=BATCH_SIZE\n",
      " |      was converted to a `tf.data.Dataset`. Next, each of the `raw_feature` was\n",
      " |      mapped using the `preprocessing_fn` and the processed features were\n",
      " |      grouped into a single batch. The final `dataset` contains only one element\n",
      " |      which is a batch of all the processed features.\n",
      " |      \n",
      " |      NOTE: The `dataset` should contain only one element.\n",
      " |      \n",
      " |      Now, instead of creating an iterator for the `dataset` and retrieving the\n",
      " |      batch of features, the `tf.data.get_single_element()` function is used\n",
      " |      to skip the iterator creation process and directly output the batch of\n",
      " |      features.\n",
      " |      \n",
      " |      This can be particularly useful when your tensor transformations are\n",
      " |      expressed as `tf.data.Dataset` operations, and you want to use those\n",
      " |      transformations while serving your model.\n",
      " |      \n",
      " |      #### Keras\n",
      " |      \n",
      " |      ```python\n",
      " |      \n",
      " |      model = ... # A pre-built or custom model\n",
      " |      \n",
      " |      class PreprocessingModel(tf.keras.Model):\n",
      " |        def __init__(self, model):\n",
      " |          super().__init__(self)\n",
      " |          self.model = model\n",
      " |      \n",
      " |        @tf.function(input_signature=[...])\n",
      " |        def serving_fn(self, data):\n",
      " |          ds = tf.data.Dataset.from_tensor_slices(data)\n",
      " |          ds = ds.map(preprocessing_fn, num_parallel_calls=BATCH_SIZE)\n",
      " |          ds = ds.batch(batch_size=BATCH_SIZE)\n",
      " |          return tf.argmax(self.model(ds.get_single_element()), axis=-1)\n",
      " |      \n",
      " |      preprocessing_model = PreprocessingModel(model)\n",
      " |      your_exported_model_dir = ... # save the model to this path.\n",
      " |      tf.saved_model.save(preprocessing_model, your_exported_model_dir,\n",
      " |                    signatures={'serving_default': preprocessing_model.serving_fn}\n",
      " |                    )\n",
      " |      ```\n",
      " |      \n",
      " |      #### Estimator\n",
      " |      \n",
      " |      In the case of estimators, you need to generally define a `serving_input_fn`\n",
      " |      which would require the features to be processed by the model while\n",
      " |      inferencing.\n",
      " |      \n",
      " |      ```python\n",
      " |      def serving_input_fn():\n",
      " |      \n",
      " |        raw_feature_spec = ... # Spec for the raw_features\n",
      " |        input_fn = tf.estimator.export.build_parsing_serving_input_receiver_fn(\n",
      " |            raw_feature_spec, default_batch_size=None)\n",
      " |        )\n",
      " |        serving_input_receiver = input_fn()\n",
      " |        raw_features = serving_input_receiver.features\n",
      " |      \n",
      " |        def preprocessing_fn(raw_feature):\n",
      " |          # ... the raw_feature is preprocessed as per the use-case\n",
      " |          return feature\n",
      " |      \n",
      " |        dataset = (tf.data.Dataset.from_tensor_slices(raw_features)\n",
      " |                  .map(preprocessing_fn, num_parallel_calls=BATCH_SIZE)\n",
      " |                  .batch(BATCH_SIZE))\n",
      " |      \n",
      " |        processed_features = dataset.get_single_element()\n",
      " |      \n",
      " |        # Please note that the value of `BATCH_SIZE` should be equal to\n",
      " |        # the size of the leading dimension of `raw_features`. This ensures\n",
      " |        # that `dataset` has only element, which is a pre-requisite for\n",
      " |        # using `dataset.get_single_element()`.\n",
      " |      \n",
      " |        return tf.estimator.export.ServingInputReceiver(\n",
      " |            processed_features, serving_input_receiver.receiver_tensors)\n",
      " |      \n",
      " |      estimator = ... # A pre-built or custom estimator\n",
      " |      estimator.export_saved_model(your_exported_model_dir, serving_input_fn)\n",
      " |      ```\n",
      " |      \n",
      " |      Args:\n",
      " |        name: (Optional.) A name for the tf.data operation.\n",
      " |      \n",
      " |      Returns:\n",
      " |        A nested structure of `tf.Tensor` objects, corresponding to the single\n",
      " |        element of `dataset`.\n",
      " |      \n",
      " |      Raises:\n",
      " |        InvalidArgumentError: (at runtime) if `dataset` does not contain exactly\n",
      " |          one element.\n",
      " |  \n",
      " |  group_by_window(self, key_func, reduce_func, window_size=None, window_size_func=None, name=None)\n",
      " |      Groups windows of elements by key and reduces them.\n",
      " |      \n",
      " |      This transformation maps each consecutive element in a dataset to a key\n",
      " |      using `key_func` and groups the elements by key. It then applies\n",
      " |      `reduce_func` to at most `window_size_func(key)` elements matching the same\n",
      " |      key. All except the final window for each key will contain\n",
      " |      `window_size_func(key)` elements; the final window may be smaller.\n",
      " |      \n",
      " |      You may provide either a constant `window_size` or a window size determined\n",
      " |      by the key through `window_size_func`.\n",
      " |      \n",
      " |      >>> dataset = tf.data.Dataset.range(10)\n",
      " |      >>> window_size = 5\n",
      " |      >>> key_func = lambda x: x%2\n",
      " |      >>> reduce_func = lambda key, dataset: dataset.batch(window_size)\n",
      " |      >>> dataset = dataset.group_by_window(\n",
      " |      ...           key_func=key_func,\n",
      " |      ...           reduce_func=reduce_func,\n",
      " |      ...           window_size=window_size)\n",
      " |      >>> for elem in dataset.as_numpy_iterator():\n",
      " |      ...   print(elem)\n",
      " |      [0 2 4 6 8]\n",
      " |      [1 3 5 7 9]\n",
      " |      \n",
      " |      Args:\n",
      " |        key_func: A function mapping a nested structure of tensors (having shapes\n",
      " |          and types defined by `self.output_shapes` and `self.output_types`) to a\n",
      " |          scalar `tf.int64` tensor.\n",
      " |        reduce_func: A function mapping a key and a dataset of up to `window_size`\n",
      " |          consecutive elements matching that key to another dataset.\n",
      " |        window_size: A `tf.int64` scalar `tf.Tensor`, representing the number of\n",
      " |          consecutive elements matching the same key to combine in a single batch,\n",
      " |          which will be passed to `reduce_func`. Mutually exclusive with\n",
      " |          `window_size_func`.\n",
      " |        window_size_func: A function mapping a key to a `tf.int64` scalar\n",
      " |          `tf.Tensor`, representing the number of consecutive elements matching\n",
      " |          the same key to combine in a single batch, which will be passed to\n",
      " |          `reduce_func`. Mutually exclusive with `window_size`.\n",
      " |        name: (Optional.) A name for the tf.data operation.\n",
      " |      \n",
      " |      Returns:\n",
      " |        A `Dataset`.\n",
      " |      \n",
      " |      Raises:\n",
      " |        ValueError: if neither or both of {`window_size`, `window_size_func`} are\n",
      " |          passed.\n",
      " |  \n",
      " |  interleave(self, map_func, cycle_length=None, block_length=None, num_parallel_calls=None, deterministic=None, name=None)\n",
      " |      Maps `map_func` across this dataset, and interleaves the results.\n",
      " |      \n",
      " |      The type signature is:\n",
      " |      \n",
      " |      ```\n",
      " |      def interleave(\n",
      " |        self: Dataset[T],\n",
      " |        map_func: Callable[[T], Dataset[S]]\n",
      " |      ) -> Dataset[S]\n",
      " |      ```\n",
      " |      \n",
      " |      For example, you can use `Dataset.interleave()` to process many input files\n",
      " |      concurrently:\n",
      " |      \n",
      " |      >>> # Preprocess 4 files concurrently, and interleave blocks of 16 records\n",
      " |      >>> # from each file.\n",
      " |      >>> filenames = [\"/var/data/file1.txt\", \"/var/data/file2.txt\",\n",
      " |      ...              \"/var/data/file3.txt\", \"/var/data/file4.txt\"]\n",
      " |      >>> dataset = tf.data.Dataset.from_tensor_slices(filenames)\n",
      " |      >>> def parse_fn(filename):\n",
      " |      ...   return tf.data.Dataset.range(10)\n",
      " |      >>> dataset = dataset.interleave(lambda x:\n",
      " |      ...     tf.data.TextLineDataset(x).map(parse_fn, num_parallel_calls=1),\n",
      " |      ...     cycle_length=4, block_length=16)\n",
      " |      \n",
      " |      The `cycle_length` and `block_length` arguments control the order in which\n",
      " |      elements are produced. `cycle_length` controls the number of input elements\n",
      " |      that are processed concurrently. If you set `cycle_length` to 1, this\n",
      " |      transformation will handle one input element at a time, and will produce\n",
      " |      identical results to `tf.data.Dataset.flat_map`. In general,\n",
      " |      this transformation will apply `map_func` to `cycle_length` input elements,\n",
      " |      open iterators on the returned `Dataset` objects, and cycle through them\n",
      " |      producing `block_length` consecutive elements from each iterator, and\n",
      " |      consuming the next input element each time it reaches the end of an\n",
      " |      iterator.\n",
      " |      \n",
      " |      For example:\n",
      " |      \n",
      " |      >>> dataset = Dataset.range(1, 6)  # ==> [ 1, 2, 3, 4, 5 ]\n",
      " |      >>> # NOTE: New lines indicate \"block\" boundaries.\n",
      " |      >>> dataset = dataset.interleave(\n",
      " |      ...     lambda x: Dataset.from_tensors(x).repeat(6),\n",
      " |      ...     cycle_length=2, block_length=4)\n",
      " |      >>> list(dataset.as_numpy_iterator())\n",
      " |      [1, 1, 1, 1,\n",
      " |       2, 2, 2, 2,\n",
      " |       1, 1,\n",
      " |       2, 2,\n",
      " |       3, 3, 3, 3,\n",
      " |       4, 4, 4, 4,\n",
      " |       3, 3,\n",
      " |       4, 4,\n",
      " |       5, 5, 5, 5,\n",
      " |       5, 5]\n",
      " |      \n",
      " |      Note: The order of elements yielded by this transformation is\n",
      " |      deterministic, as long as `map_func` is a pure function and\n",
      " |      `deterministic=True`. If `map_func` contains any stateful operations, the\n",
      " |      order in which that state is accessed is undefined.\n",
      " |      \n",
      " |      Performance can often be improved by setting `num_parallel_calls` so that\n",
      " |      `interleave` will use multiple threads to fetch elements. If determinism\n",
      " |      isn't required, it can also improve performance to set\n",
      " |      `deterministic=False`.\n",
      " |      \n",
      " |      >>> filenames = [\"/var/data/file1.txt\", \"/var/data/file2.txt\",\n",
      " |      ...              \"/var/data/file3.txt\", \"/var/data/file4.txt\"]\n",
      " |      >>> dataset = tf.data.Dataset.from_tensor_slices(filenames)\n",
      " |      >>> dataset = dataset.interleave(lambda x: tf.data.TFRecordDataset(x),\n",
      " |      ...     cycle_length=4, num_parallel_calls=tf.data.AUTOTUNE,\n",
      " |      ...     deterministic=False)\n",
      " |      \n",
      " |      Args:\n",
      " |        map_func: A function that takes a dataset element and returns a\n",
      " |          `tf.data.Dataset`.\n",
      " |        cycle_length: (Optional.) The number of input elements that will be\n",
      " |          processed concurrently. If not set, the tf.data runtime decides what it\n",
      " |          should be based on available CPU. If `num_parallel_calls` is set to\n",
      " |          `tf.data.AUTOTUNE`, the `cycle_length` argument identifies\n",
      " |          the maximum degree of parallelism.\n",
      " |        block_length: (Optional.) The number of consecutive elements to produce\n",
      " |          from each input element before cycling to another input element. If not\n",
      " |          set, defaults to 1.\n",
      " |        num_parallel_calls: (Optional.) If specified, the implementation creates a\n",
      " |          threadpool, which is used to fetch inputs from cycle elements\n",
      " |          asynchronously and in parallel. The default behavior is to fetch inputs\n",
      " |          from cycle elements synchronously with no parallelism. If the value\n",
      " |          `tf.data.AUTOTUNE` is used, then the number of parallel\n",
      " |          calls is set dynamically based on available CPU.\n",
      " |        deterministic: (Optional.) When `num_parallel_calls` is specified, if this\n",
      " |          boolean is specified (`True` or `False`), it controls the order in which\n",
      " |          the transformation produces elements. If set to `False`, the\n",
      " |          transformation is allowed to yield elements out of order to trade\n",
      " |          determinism for performance. If not specified, the\n",
      " |          `tf.data.Options.deterministic` option (`True` by default) controls the\n",
      " |          behavior.\n",
      " |        name: (Optional.) A name for the tf.data operation.\n",
      " |      \n",
      " |      Returns:\n",
      " |        Dataset: A `Dataset`.\n",
      " |  \n",
      " |  map(self, map_func, num_parallel_calls=None, deterministic=None, name=None)\n",
      " |      Maps `map_func` across the elements of this dataset.\n",
      " |      \n",
      " |      This transformation applies `map_func` to each element of this dataset, and\n",
      " |      returns a new dataset containing the transformed elements, in the same\n",
      " |      order as they appeared in the input. `map_func` can be used to change both\n",
      " |      the values and the structure of a dataset's elements. Supported structure\n",
      " |      constructs are documented\n",
      " |      [here](https://www.tensorflow.org/guide/data#dataset_structure).\n",
      " |      \n",
      " |      For example, `map` can be used for adding 1 to each element, or projecting a\n",
      " |      subset of element components.\n",
      " |      \n",
      " |      >>> dataset = Dataset.range(1, 6)  # ==> [ 1, 2, 3, 4, 5 ]\n",
      " |      >>> dataset = dataset.map(lambda x: x + 1)\n",
      " |      >>> list(dataset.as_numpy_iterator())\n",
      " |      [2, 3, 4, 5, 6]\n",
      " |      \n",
      " |      The input signature of `map_func` is determined by the structure of each\n",
      " |      element in this dataset.\n",
      " |      \n",
      " |      >>> dataset = Dataset.range(5)\n",
      " |      >>> # `map_func` takes a single argument of type `tf.Tensor` with the same\n",
      " |      >>> # shape and dtype.\n",
      " |      >>> result = dataset.map(lambda x: x + 1)\n",
      " |      \n",
      " |      >>> # Each element is a tuple containing two `tf.Tensor` objects.\n",
      " |      >>> elements = [(1, \"foo\"), (2, \"bar\"), (3, \"baz\")]\n",
      " |      >>> dataset = tf.data.Dataset.from_generator(\n",
      " |      ...     lambda: elements, (tf.int32, tf.string))\n",
      " |      >>> # `map_func` takes two arguments of type `tf.Tensor`. This function\n",
      " |      >>> # projects out just the first component.\n",
      " |      >>> result = dataset.map(lambda x_int, y_str: x_int)\n",
      " |      >>> list(result.as_numpy_iterator())\n",
      " |      [1, 2, 3]\n",
      " |      \n",
      " |      >>> # Each element is a dictionary mapping strings to `tf.Tensor` objects.\n",
      " |      >>> elements =  ([{\"a\": 1, \"b\": \"foo\"},\n",
      " |      ...               {\"a\": 2, \"b\": \"bar\"},\n",
      " |      ...               {\"a\": 3, \"b\": \"baz\"}])\n",
      " |      >>> dataset = tf.data.Dataset.from_generator(\n",
      " |      ...     lambda: elements, {\"a\": tf.int32, \"b\": tf.string})\n",
      " |      >>> # `map_func` takes a single argument of type `dict` with the same keys\n",
      " |      >>> # as the elements.\n",
      " |      >>> result = dataset.map(lambda d: str(d[\"a\"]) + d[\"b\"])\n",
      " |      \n",
      " |      The value or values returned by `map_func` determine the structure of each\n",
      " |      element in the returned dataset.\n",
      " |      \n",
      " |      >>> dataset = tf.data.Dataset.range(3)\n",
      " |      >>> # `map_func` returns two `tf.Tensor` objects.\n",
      " |      >>> def g(x):\n",
      " |      ...   return tf.constant(37.0), tf.constant([\"Foo\", \"Bar\", \"Baz\"])\n",
      " |      >>> result = dataset.map(g)\n",
      " |      >>> result.element_spec\n",
      " |      (TensorSpec(shape=(), dtype=tf.float32, name=None), TensorSpec(shape=(3,), dtype=tf.string, name=None))\n",
      " |      >>> # Python primitives, lists, and NumPy arrays are implicitly converted to\n",
      " |      >>> # `tf.Tensor`.\n",
      " |      >>> def h(x):\n",
      " |      ...   return 37.0, [\"Foo\", \"Bar\"], np.array([1.0, 2.0], dtype=np.float64)\n",
      " |      >>> result = dataset.map(h)\n",
      " |      >>> result.element_spec\n",
      " |      (TensorSpec(shape=(), dtype=tf.float32, name=None), TensorSpec(shape=(2,), dtype=tf.string, name=None), TensorSpec(shape=(2,), dtype=tf.float64, name=None))\n",
      " |      >>> # `map_func` can return nested structures.\n",
      " |      >>> def i(x):\n",
      " |      ...   return (37.0, [42, 16]), \"foo\"\n",
      " |      >>> result = dataset.map(i)\n",
      " |      >>> result.element_spec\n",
      " |      ((TensorSpec(shape=(), dtype=tf.float32, name=None),\n",
      " |        TensorSpec(shape=(2,), dtype=tf.int32, name=None)),\n",
      " |       TensorSpec(shape=(), dtype=tf.string, name=None))\n",
      " |      \n",
      " |      `map_func` can accept as arguments and return any type of dataset element.\n",
      " |      \n",
      " |      Note that irrespective of the context in which `map_func` is defined (eager\n",
      " |      vs. graph), tf.data traces the function and executes it as a graph. To use\n",
      " |      Python code inside of the function you have a few options:\n",
      " |      \n",
      " |      1) Rely on AutoGraph to convert Python code into an equivalent graph\n",
      " |      computation. The downside of this approach is that AutoGraph can convert\n",
      " |      some but not all Python code.\n",
      " |      \n",
      " |      2) Use `tf.py_function`, which allows you to write arbitrary Python code but\n",
      " |      will generally result in worse performance than 1). For example:\n",
      " |      \n",
      " |      >>> d = tf.data.Dataset.from_tensor_slices(['hello', 'world'])\n",
      " |      >>> # transform a string tensor to upper case string using a Python function\n",
      " |      >>> def upper_case_fn(t: tf.Tensor):\n",
      " |      ...   return t.numpy().decode('utf-8').upper()\n",
      " |      >>> d = d.map(lambda x: tf.py_function(func=upper_case_fn,\n",
      " |      ...           inp=[x], Tout=tf.string))\n",
      " |      >>> list(d.as_numpy_iterator())\n",
      " |      [b'HELLO', b'WORLD']\n",
      " |      \n",
      " |      3) Use `tf.numpy_function`, which also allows you to write arbitrary\n",
      " |      Python code. Note that `tf.py_function` accepts `tf.Tensor` whereas\n",
      " |      `tf.numpy_function` accepts numpy arrays and returns only numpy arrays.\n",
      " |      For example:\n",
      " |      \n",
      " |      >>> d = tf.data.Dataset.from_tensor_slices(['hello', 'world'])\n",
      " |      >>> def upper_case_fn(t: np.ndarray):\n",
      " |      ...   return t.decode('utf-8').upper()\n",
      " |      >>> d = d.map(lambda x: tf.numpy_function(func=upper_case_fn,\n",
      " |      ...           inp=[x], Tout=tf.string))\n",
      " |      >>> list(d.as_numpy_iterator())\n",
      " |      [b'HELLO', b'WORLD']\n",
      " |      \n",
      " |      Note that the use of `tf.numpy_function` and `tf.py_function`\n",
      " |      in general precludes the possibility of executing user-defined\n",
      " |      transformations in parallel (because of Python GIL).\n",
      " |      \n",
      " |      Performance can often be improved by setting `num_parallel_calls` so that\n",
      " |      `map` will use multiple threads to process elements. If deterministic order\n",
      " |      isn't required, it can also improve performance to set\n",
      " |      `deterministic=False`.\n",
      " |      \n",
      " |      >>> dataset = Dataset.range(1, 6)  # ==> [ 1, 2, 3, 4, 5 ]\n",
      " |      >>> dataset = dataset.map(lambda x: x + 1,\n",
      " |      ...     num_parallel_calls=tf.data.AUTOTUNE,\n",
      " |      ...     deterministic=False)\n",
      " |      \n",
      " |      The order of elements yielded by this transformation is deterministic if\n",
      " |      `deterministic=True`. If `map_func` contains stateful operations and\n",
      " |      `num_parallel_calls > 1`, the order in which that state is accessed is\n",
      " |      undefined, so the values of output elements may not be deterministic\n",
      " |      regardless of the `deterministic` flag value.\n",
      " |      \n",
      " |      Args:\n",
      " |        map_func: A function mapping a dataset element to another dataset element.\n",
      " |        num_parallel_calls: (Optional.) A `tf.int64` scalar `tf.Tensor`,\n",
      " |          representing the number elements to process asynchronously in parallel.\n",
      " |          If not specified, elements will be processed sequentially. If the value\n",
      " |          `tf.data.AUTOTUNE` is used, then the number of parallel\n",
      " |          calls is set dynamically based on available CPU.\n",
      " |        deterministic: (Optional.) When `num_parallel_calls` is specified, if this\n",
      " |          boolean is specified (`True` or `False`), it controls the order in which\n",
      " |          the transformation produces elements. If set to `False`, the\n",
      " |          transformation is allowed to yield elements out of order to trade\n",
      " |          determinism for performance. If not specified, the\n",
      " |          `tf.data.Options.deterministic` option (`True` by default) controls the\n",
      " |          behavior.\n",
      " |        name: (Optional.) A name for the tf.data operation.\n",
      " |      \n",
      " |      Returns:\n",
      " |        Dataset: A `Dataset`.\n",
      " |  \n",
      " |  options(self)\n",
      " |      Returns the options for this dataset and its inputs.\n",
      " |      \n",
      " |      Returns:\n",
      " |        A `tf.data.Options` object representing the dataset options.\n",
      " |  \n",
      " |  padded_batch(self, batch_size, padded_shapes=None, padding_values=None, drop_remainder=False, name=None)\n",
      " |      Combines consecutive elements of this dataset into padded batches.\n",
      " |      \n",
      " |      This transformation combines multiple consecutive elements of the input\n",
      " |      dataset into a single element.\n",
      " |      \n",
      " |      Like `tf.data.Dataset.batch`, the components of the resulting element will\n",
      " |      have an additional outer dimension, which will be `batch_size` (or\n",
      " |      `N % batch_size` for the last element if `batch_size` does not divide the\n",
      " |      number of input elements `N` evenly and `drop_remainder` is `False`). If\n",
      " |      your program depends on the batches having the same outer dimension, you\n",
      " |      should set the `drop_remainder` argument to `True` to prevent the smaller\n",
      " |      batch from being produced.\n",
      " |      \n",
      " |      Unlike `tf.data.Dataset.batch`, the input elements to be batched may have\n",
      " |      different shapes, and this transformation will pad each component to the\n",
      " |      respective shape in `padded_shapes`. The `padded_shapes` argument\n",
      " |      determines the resulting shape for each dimension of each component in an\n",
      " |      output element:\n",
      " |      \n",
      " |      * If the dimension is a constant, the component will be padded out to that\n",
      " |        length in that dimension.\n",
      " |      * If the dimension is unknown, the component will be padded out to the\n",
      " |        maximum length of all elements in that dimension.\n",
      " |      \n",
      " |      >>> A = (tf.data.Dataset\n",
      " |      ...      .range(1, 5, output_type=tf.int32)\n",
      " |      ...      .map(lambda x: tf.fill([x], x)))\n",
      " |      >>> # Pad to the smallest per-batch size that fits all elements.\n",
      " |      >>> B = A.padded_batch(2)\n",
      " |      >>> for element in B.as_numpy_iterator():\n",
      " |      ...   print(element)\n",
      " |      [[1 0]\n",
      " |       [2 2]]\n",
      " |      [[3 3 3 0]\n",
      " |       [4 4 4 4]]\n",
      " |      >>> # Pad to a fixed size.\n",
      " |      >>> C = A.padded_batch(2, padded_shapes=5)\n",
      " |      >>> for element in C.as_numpy_iterator():\n",
      " |      ...   print(element)\n",
      " |      [[1 0 0 0 0]\n",
      " |       [2 2 0 0 0]]\n",
      " |      [[3 3 3 0 0]\n",
      " |       [4 4 4 4 0]]\n",
      " |      >>> # Pad with a custom value.\n",
      " |      >>> D = A.padded_batch(2, padded_shapes=5, padding_values=-1)\n",
      " |      >>> for element in D.as_numpy_iterator():\n",
      " |      ...   print(element)\n",
      " |      [[ 1 -1 -1 -1 -1]\n",
      " |       [ 2  2 -1 -1 -1]]\n",
      " |      [[ 3  3  3 -1 -1]\n",
      " |       [ 4  4  4  4 -1]]\n",
      " |      >>> # Components of nested elements can be padded independently.\n",
      " |      >>> elements = [([1, 2, 3], [10]),\n",
      " |      ...             ([4, 5], [11, 12])]\n",
      " |      >>> dataset = tf.data.Dataset.from_generator(\n",
      " |      ...     lambda: iter(elements), (tf.int32, tf.int32))\n",
      " |      >>> # Pad the first component of the tuple to length 4, and the second\n",
      " |      >>> # component to the smallest size that fits.\n",
      " |      >>> dataset = dataset.padded_batch(2,\n",
      " |      ...     padded_shapes=([4], [None]),\n",
      " |      ...     padding_values=(-1, 100))\n",
      " |      >>> list(dataset.as_numpy_iterator())\n",
      " |      [(array([[ 1,  2,  3, -1], [ 4,  5, -1, -1]], dtype=int32),\n",
      " |        array([[ 10, 100], [ 11,  12]], dtype=int32))]\n",
      " |      >>> # Pad with a single value and multiple components.\n",
      " |      >>> E = tf.data.Dataset.zip((A, A)).padded_batch(2, padding_values=-1)\n",
      " |      >>> for element in E.as_numpy_iterator():\n",
      " |      ...   print(element)\n",
      " |      (array([[ 1, -1],\n",
      " |             [ 2,  2]], dtype=int32), array([[ 1, -1],\n",
      " |             [ 2,  2]], dtype=int32))\n",
      " |      (array([[ 3,  3,  3, -1],\n",
      " |             [ 4,  4,  4,  4]], dtype=int32), array([[ 3,  3,  3, -1],\n",
      " |             [ 4,  4,  4,  4]], dtype=int32))\n",
      " |      \n",
      " |      See also `tf.data.experimental.dense_to_sparse_batch`, which combines\n",
      " |      elements that may have different shapes into a `tf.sparse.SparseTensor`.\n",
      " |      \n",
      " |      Args:\n",
      " |        batch_size: A `tf.int64` scalar `tf.Tensor`, representing the number of\n",
      " |          consecutive elements of this dataset to combine in a single batch.\n",
      " |        padded_shapes: (Optional.) A (nested) structure of `tf.TensorShape` or\n",
      " |          `tf.int64` vector tensor-like objects representing the shape to which\n",
      " |          the respective component of each input element should be padded prior\n",
      " |          to batching. Any unknown dimensions will be padded to the maximum size\n",
      " |          of that dimension in each batch. If unset, all dimensions of all\n",
      " |          components are padded to the maximum size in the batch. `padded_shapes`\n",
      " |          must be set if any component has an unknown rank.\n",
      " |        padding_values: (Optional.) A (nested) structure of scalar-shaped\n",
      " |          `tf.Tensor`, representing the padding values to use for the respective\n",
      " |          components. None represents that the (nested) structure should be padded\n",
      " |          with default values.  Defaults are `0` for numeric types and the empty\n",
      " |          string for string types. The `padding_values` should have the same\n",
      " |          (nested) structure as the input dataset. If `padding_values` is a single\n",
      " |          element and the input dataset has multiple components, then the same\n",
      " |          `padding_values` will be used to pad every component of the dataset.\n",
      " |          If `padding_values` is a scalar, then its value will be broadcasted\n",
      " |          to match the shape of each component.\n",
      " |        drop_remainder: (Optional.) A `tf.bool` scalar `tf.Tensor`, representing\n",
      " |          whether the last batch should be dropped in the case it has fewer than\n",
      " |          `batch_size` elements; the default behavior is not to drop the smaller\n",
      " |          batch.\n",
      " |        name: (Optional.) A name for the tf.data operation.\n",
      " |      \n",
      " |      Returns:\n",
      " |        Dataset: A `Dataset`.\n",
      " |      \n",
      " |      Raises:\n",
      " |        ValueError: If a component has an unknown rank, and the `padded_shapes`\n",
      " |          argument is not set.\n",
      " |        TypeError: If a component is of an unsupported type. The list of supported\n",
      " |          types is documented in\n",
      " |          https://www.tensorflow.org/guide/data#dataset_structure.\n",
      " |  \n",
      " |  prefetch(self, buffer_size, name=None)\n",
      " |      Creates a `Dataset` that prefetches elements from this dataset.\n",
      " |      \n",
      " |      Most dataset input pipelines should end with a call to `prefetch`. This\n",
      " |      allows later elements to be prepared while the current element is being\n",
      " |      processed. This often improves latency and throughput, at the cost of\n",
      " |      using additional memory to store prefetched elements.\n",
      " |      \n",
      " |      Note: Like other `Dataset` methods, prefetch operates on the\n",
      " |      elements of the input dataset. It has no concept of examples vs. batches.\n",
      " |      `examples.prefetch(2)` will prefetch two elements (2 examples),\n",
      " |      while `examples.batch(20).prefetch(2)` will prefetch 2 elements\n",
      " |      (2 batches, of 20 examples each).\n",
      " |      \n",
      " |      >>> dataset = tf.data.Dataset.range(3)\n",
      " |      >>> dataset = dataset.prefetch(2)\n",
      " |      >>> list(dataset.as_numpy_iterator())\n",
      " |      [0, 1, 2]\n",
      " |      \n",
      " |      Args:\n",
      " |        buffer_size: A `tf.int64` scalar `tf.Tensor`, representing the maximum\n",
      " |          number of elements that will be buffered when prefetching. If the value\n",
      " |          `tf.data.AUTOTUNE` is used, then the buffer size is dynamically tuned.\n",
      " |        name: Optional. A name for the tf.data transformation.\n",
      " |      \n",
      " |      Returns:\n",
      " |        Dataset: A `Dataset`.\n",
      " |  \n",
      " |  reduce(self, initial_state, reduce_func, name=None)\n",
      " |      Reduces the input dataset to a single element.\n",
      " |      \n",
      " |      The transformation calls `reduce_func` successively on every element of\n",
      " |      the input dataset until the dataset is exhausted, aggregating information in\n",
      " |      its internal state. The `initial_state` argument is used for the initial\n",
      " |      state and the final state is returned as the result.\n",
      " |      \n",
      " |      >>> tf.data.Dataset.range(5).reduce(np.int64(0), lambda x, _: x + 1).numpy()\n",
      " |      5\n",
      " |      >>> tf.data.Dataset.range(5).reduce(np.int64(0), lambda x, y: x + y).numpy()\n",
      " |      10\n",
      " |      \n",
      " |      Args:\n",
      " |        initial_state: An element representing the initial state of the\n",
      " |          transformation.\n",
      " |        reduce_func: A function that maps `(old_state, input_element)` to\n",
      " |          `new_state`. It must take two arguments and return a new element\n",
      " |          The structure of `new_state` must match the structure of\n",
      " |          `initial_state`.\n",
      " |        name: (Optional.) A name for the tf.data operation.\n",
      " |      \n",
      " |      Returns:\n",
      " |        A dataset element corresponding to the final state of the transformation.\n",
      " |  \n",
      " |  rejection_resample(self, class_func, target_dist, initial_dist=None, seed=None, name=None)\n",
      " |      A transformation that resamples a dataset to a target distribution.\n",
      " |      \n",
      " |      Lets consider the following example where a dataset with an initial data\n",
      " |      distribution of `init_dist` needs to be resampled into a dataset with\n",
      " |      `target_dist` distribution.\n",
      " |      \n",
      " |      >>> import collections\n",
      " |      >>> initial_dist = [0.5, 0.5]\n",
      " |      >>> target_dist = [0.6, 0.4]\n",
      " |      >>> num_classes = len(initial_dist)\n",
      " |      >>> num_samples = 100000\n",
      " |      >>> data_np = np.random.choice(num_classes, num_samples, p=initial_dist)\n",
      " |      >>> dataset = tf.data.Dataset.from_tensor_slices(data_np)\n",
      " |      >>> x = collections.defaultdict(int)\n",
      " |      >>> for i in dataset:\n",
      " |      ...   x[i.numpy()] += 1\n",
      " |      \n",
      " |      The value of `x` will be close to `{0: 50000, 1: 50000}` as per the\n",
      " |      `initial_dist` distribution.\n",
      " |      \n",
      " |      >>> dataset = dataset.rejection_resample(\n",
      " |      ...    class_func=lambda x: x % 2,\n",
      " |      ...    target_dist=target_dist,\n",
      " |      ...    initial_dist=initial_dist)\n",
      " |      \n",
      " |      >>> y = collections.defaultdict(int)\n",
      " |      >>> for i in dataset:\n",
      " |      ...   cls, _ = i\n",
      " |      ...   y[cls.numpy()] += 1\n",
      " |      \n",
      " |      The value of `y` will be now be close to `{0: 75000, 1: 50000}` thus\n",
      " |      satisfying the `target_dist` distribution.\n",
      " |      \n",
      " |      Args:\n",
      " |        class_func: A function mapping an element of the input dataset to a scalar\n",
      " |          `tf.int32` tensor. Values should be in `[0, num_classes)`.\n",
      " |        target_dist: A floating point type tensor, shaped `[num_classes]`.\n",
      " |        initial_dist: (Optional.)  A floating point type tensor, shaped\n",
      " |          `[num_classes]`.  If not provided, the true class distribution is\n",
      " |          estimated live in a streaming fashion.\n",
      " |        seed: (Optional.) Python integer seed for the resampler.\n",
      " |        name: (Optional.) A name for the tf.data operation.\n",
      " |      \n",
      " |      Returns:\n",
      " |        A `Dataset`\n",
      " |  \n",
      " |  repeat(self, count=None, name=None)\n",
      " |      Repeats this dataset so each original value is seen `count` times.\n",
      " |      \n",
      " |      >>> dataset = tf.data.Dataset.from_tensor_slices([1, 2, 3])\n",
      " |      >>> dataset = dataset.repeat(3)\n",
      " |      >>> list(dataset.as_numpy_iterator())\n",
      " |      [1, 2, 3, 1, 2, 3, 1, 2, 3]\n",
      " |      \n",
      " |      Note: If this dataset is a function of global state (e.g. a random number\n",
      " |      generator), then different repetitions may produce different elements.\n",
      " |      \n",
      " |      Args:\n",
      " |        count: (Optional.) A `tf.int64` scalar `tf.Tensor`, representing the\n",
      " |          number of times the dataset should be repeated. The default behavior (if\n",
      " |          `count` is `None` or `-1`) is for the dataset be repeated indefinitely.\n",
      " |        name: (Optional.) A name for the tf.data operation.\n",
      " |      \n",
      " |      Returns:\n",
      " |        Dataset: A `Dataset`.\n",
      " |  \n",
      " |  scan(self, initial_state, scan_func, name=None)\n",
      " |      A transformation that scans a function across an input dataset.\n",
      " |      \n",
      " |      This transformation is a stateful relative of `tf.data.Dataset.map`.\n",
      " |      In addition to mapping `scan_func` across the elements of the input dataset,\n",
      " |      `scan()` accumulates one or more state tensors, whose initial values are\n",
      " |      `initial_state`.\n",
      " |      \n",
      " |      >>> dataset = tf.data.Dataset.range(10)\n",
      " |      >>> initial_state = tf.constant(0, dtype=tf.int64)\n",
      " |      >>> scan_func = lambda state, i: (state + i, state + i)\n",
      " |      >>> dataset = dataset.scan(initial_state=initial_state, scan_func=scan_func)\n",
      " |      >>> list(dataset.as_numpy_iterator())\n",
      " |      [0, 1, 3, 6, 10, 15, 21, 28, 36, 45]\n",
      " |      \n",
      " |      Args:\n",
      " |        initial_state: A nested structure of tensors, representing the initial\n",
      " |          state of the accumulator.\n",
      " |        scan_func: A function that maps `(old_state, input_element)` to\n",
      " |          `(new_state, output_element)`. It must take two arguments and return a\n",
      " |          pair of nested structures of tensors. The `new_state` must match the\n",
      " |          structure of `initial_state`.\n",
      " |        name: (Optional.) A name for the tf.data operation.\n",
      " |      \n",
      " |      Returns:\n",
      " |        A `Dataset`.\n",
      " |  \n",
      " |  shard(self, num_shards, index, name=None)\n",
      " |      Creates a `Dataset` that includes only 1/`num_shards` of this dataset.\n",
      " |      \n",
      " |      `shard` is deterministic. The Dataset produced by `A.shard(n, i)` will\n",
      " |      contain all elements of A whose index mod n = i.\n",
      " |      \n",
      " |      >>> A = tf.data.Dataset.range(10)\n",
      " |      >>> B = A.shard(num_shards=3, index=0)\n",
      " |      >>> list(B.as_numpy_iterator())\n",
      " |      [0, 3, 6, 9]\n",
      " |      >>> C = A.shard(num_shards=3, index=1)\n",
      " |      >>> list(C.as_numpy_iterator())\n",
      " |      [1, 4, 7]\n",
      " |      >>> D = A.shard(num_shards=3, index=2)\n",
      " |      >>> list(D.as_numpy_iterator())\n",
      " |      [2, 5, 8]\n",
      " |      \n",
      " |      This dataset operator is very useful when running distributed training, as\n",
      " |      it allows each worker to read a unique subset.\n",
      " |      \n",
      " |      When reading a single input file, you can shard elements as follows:\n",
      " |      \n",
      " |      ```python\n",
      " |      d = tf.data.TFRecordDataset(input_file)\n",
      " |      d = d.shard(num_workers, worker_index)\n",
      " |      d = d.repeat(num_epochs)\n",
      " |      d = d.shuffle(shuffle_buffer_size)\n",
      " |      d = d.map(parser_fn, num_parallel_calls=num_map_threads)\n",
      " |      ```\n",
      " |      \n",
      " |      Important caveats:\n",
      " |      \n",
      " |      - Be sure to shard before you use any randomizing operator (such as\n",
      " |        shuffle).\n",
      " |      - Generally it is best if the shard operator is used early in the dataset\n",
      " |        pipeline. For example, when reading from a set of TFRecord files, shard\n",
      " |        before converting the dataset to input samples. This avoids reading every\n",
      " |        file on every worker. The following is an example of an efficient\n",
      " |        sharding strategy within a complete pipeline:\n",
      " |      \n",
      " |      ```python\n",
      " |      d = Dataset.list_files(pattern)\n",
      " |      d = d.shard(num_workers, worker_index)\n",
      " |      d = d.repeat(num_epochs)\n",
      " |      d = d.shuffle(shuffle_buffer_size)\n",
      " |      d = d.interleave(tf.data.TFRecordDataset,\n",
      " |                       cycle_length=num_readers, block_length=1)\n",
      " |      d = d.map(parser_fn, num_parallel_calls=num_map_threads)\n",
      " |      ```\n",
      " |      \n",
      " |      Args:\n",
      " |        num_shards: A `tf.int64` scalar `tf.Tensor`, representing the number of\n",
      " |          shards operating in parallel.\n",
      " |        index: A `tf.int64` scalar `tf.Tensor`, representing the worker index.\n",
      " |        name: (Optional.) A name for the tf.data operation.\n",
      " |      \n",
      " |      Returns:\n",
      " |        Dataset: A `Dataset`.\n",
      " |      \n",
      " |      Raises:\n",
      " |        InvalidArgumentError: if `num_shards` or `index` are illegal values.\n",
      " |      \n",
      " |          Note: error checking is done on a best-effort basis, and errors aren't\n",
      " |          guaranteed to be caught upon dataset creation. (e.g. providing in a\n",
      " |          placeholder tensor bypasses the early checking, and will instead result\n",
      " |          in an error during a session.run call.)\n",
      " |  \n",
      " |  shuffle(self, buffer_size, seed=None, reshuffle_each_iteration=None, name=None)\n",
      " |      Randomly shuffles the elements of this dataset.\n",
      " |      \n",
      " |      This dataset fills a buffer with `buffer_size` elements, then randomly\n",
      " |      samples elements from this buffer, replacing the selected elements with new\n",
      " |      elements. For perfect shuffling, a buffer size greater than or equal to the\n",
      " |      full size of the dataset is required.\n",
      " |      \n",
      " |      For instance, if your dataset contains 10,000 elements but `buffer_size` is\n",
      " |      set to 1,000, then `shuffle` will initially select a random element from\n",
      " |      only the first 1,000 elements in the buffer. Once an element is selected,\n",
      " |      its space in the buffer is replaced by the next (i.e. 1,001-st) element,\n",
      " |      maintaining the 1,000 element buffer.\n",
      " |      \n",
      " |      `reshuffle_each_iteration` controls whether the shuffle order should be\n",
      " |      different for each epoch. In TF 1.X, the idiomatic way to create epochs\n",
      " |      was through the `repeat` transformation:\n",
      " |      \n",
      " |      ```python\n",
      " |      dataset = tf.data.Dataset.range(3)\n",
      " |      dataset = dataset.shuffle(3, reshuffle_each_iteration=True)\n",
      " |      dataset = dataset.repeat(2)\n",
      " |      # [1, 0, 2, 1, 2, 0]\n",
      " |      \n",
      " |      dataset = tf.data.Dataset.range(3)\n",
      " |      dataset = dataset.shuffle(3, reshuffle_each_iteration=False)\n",
      " |      dataset = dataset.repeat(2)\n",
      " |      # [1, 0, 2, 1, 0, 2]\n",
      " |      ```\n",
      " |      \n",
      " |      In TF 2.0, `tf.data.Dataset` objects are Python iterables which makes it\n",
      " |      possible to also create epochs through Python iteration:\n",
      " |      \n",
      " |      ```python\n",
      " |      dataset = tf.data.Dataset.range(3)\n",
      " |      dataset = dataset.shuffle(3, reshuffle_each_iteration=True)\n",
      " |      list(dataset.as_numpy_iterator())\n",
      " |      # [1, 0, 2]\n",
      " |      list(dataset.as_numpy_iterator())\n",
      " |      # [1, 2, 0]\n",
      " |      ```\n",
      " |      \n",
      " |      ```python\n",
      " |      dataset = tf.data.Dataset.range(3)\n",
      " |      dataset = dataset.shuffle(3, reshuffle_each_iteration=False)\n",
      " |      list(dataset.as_numpy_iterator())\n",
      " |      # [1, 0, 2]\n",
      " |      list(dataset.as_numpy_iterator())\n",
      " |      # [1, 0, 2]\n",
      " |      ```\n",
      " |      \n",
      " |      Args:\n",
      " |        buffer_size: A `tf.int64` scalar `tf.Tensor`, representing the number of\n",
      " |          elements from this dataset from which the new dataset will sample.\n",
      " |        seed: (Optional.) A `tf.int64` scalar `tf.Tensor`, representing the random\n",
      " |          seed that will be used to create the distribution. See\n",
      " |          `tf.random.set_seed` for behavior.\n",
      " |        reshuffle_each_iteration: (Optional.) A boolean, which if true indicates\n",
      " |          that the dataset should be pseudorandomly reshuffled each time it is\n",
      " |          iterated over. (Defaults to `True`.)\n",
      " |        name: (Optional.) A name for the tf.data operation.\n",
      " |      \n",
      " |      Returns:\n",
      " |        Dataset: A `Dataset`.\n",
      " |  \n",
      " |  skip(self, count, name=None)\n",
      " |      Creates a `Dataset` that skips `count` elements from this dataset.\n",
      " |      \n",
      " |      >>> dataset = tf.data.Dataset.range(10)\n",
      " |      >>> dataset = dataset.skip(7)\n",
      " |      >>> list(dataset.as_numpy_iterator())\n",
      " |      [7, 8, 9]\n",
      " |      \n",
      " |      Args:\n",
      " |        count: A `tf.int64` scalar `tf.Tensor`, representing the number of\n",
      " |          elements of this dataset that should be skipped to form the new dataset.\n",
      " |          If `count` is greater than the size of this dataset, the new dataset\n",
      " |          will contain no elements.  If `count` is -1, skips the entire dataset.\n",
      " |        name: (Optional.) A name for the tf.data operation.\n",
      " |      \n",
      " |      Returns:\n",
      " |        Dataset: A `Dataset`.\n",
      " |  \n",
      " |  snapshot(self, path, compression='AUTO', reader_func=None, shard_func=None, name=None)\n",
      " |      API to persist the output of the input dataset.\n",
      " |      \n",
      " |      The snapshot API allows users to transparently persist the output of their\n",
      " |      preprocessing pipeline to disk, and materialize the pre-processed data on a\n",
      " |      different training run.\n",
      " |      \n",
      " |      This API enables repeated preprocessing steps to be consolidated, and allows\n",
      " |      re-use of already processed data, trading off disk storage and network\n",
      " |      bandwidth for freeing up more valuable CPU resources and accelerator compute\n",
      " |      time.\n",
      " |      \n",
      " |      https://github.com/tensorflow/community/blob/master/rfcs/20200107-tf-data-snapshot.md\n",
      " |      has detailed design documentation of this feature.\n",
      " |      \n",
      " |      Users can specify various options to control the behavior of snapshot,\n",
      " |      including how snapshots are read from and written to by passing in\n",
      " |      user-defined functions to the `reader_func` and `shard_func` parameters.\n",
      " |      \n",
      " |      `shard_func` is a user specified function that maps input elements to\n",
      " |      snapshot shards.\n",
      " |      \n",
      " |      Users may want to specify this function to control how snapshot files should\n",
      " |      be written to disk. Below is an example of how a potential `shard_func`\n",
      " |      could be written.\n",
      " |      \n",
      " |      ```python\n",
      " |      dataset = ...\n",
      " |      dataset = dataset.enumerate()\n",
      " |      dataset = dataset.snapshot(\"/path/to/snapshot/dir\",\n",
      " |          shard_func=lambda x, y: x % NUM_SHARDS, ...)\n",
      " |      dataset = dataset.map(lambda x, y: y)\n",
      " |      ```\n",
      " |      \n",
      " |      `reader_func` is a user specified function that accepts a single argument:\n",
      " |      (1) a Dataset of Datasets, each representing a \"split\" of elements of the\n",
      " |      original dataset. The cardinality of the input dataset matches the\n",
      " |      number of the shards specified in the `shard_func` (see above). The function\n",
      " |      should return a Dataset of elements of the original dataset.\n",
      " |      \n",
      " |      Users may want specify this function to control how snapshot files should be\n",
      " |      read from disk, including the amount of shuffling and parallelism.\n",
      " |      \n",
      " |      Here is an example of a standard reader function a user can define. This\n",
      " |      function enables both dataset shuffling and parallel reading of datasets:\n",
      " |      \n",
      " |      ```python\n",
      " |      def user_reader_func(datasets):\n",
      " |        # shuffle the datasets splits\n",
      " |        datasets = datasets.shuffle(NUM_CORES)\n",
      " |        # read datasets in parallel and interleave their elements\n",
      " |        return datasets.interleave(lambda x: x, num_parallel_calls=AUTOTUNE)\n",
      " |      \n",
      " |      dataset = dataset.snapshot(\"/path/to/snapshot/dir\",\n",
      " |          reader_func=user_reader_func)\n",
      " |      ```\n",
      " |      \n",
      " |      By default, snapshot parallelizes reads by the number of cores available on\n",
      " |      the system, but will not attempt to shuffle the data.\n",
      " |      \n",
      " |      Args:\n",
      " |        path: Required. A directory to use for storing / loading the snapshot to /\n",
      " |          from.\n",
      " |        compression: Optional. The type of compression to apply to the snapshot\n",
      " |          written to disk. Supported options are `GZIP`, `SNAPPY`, `AUTO` or None.\n",
      " |          Defaults to `AUTO`, which attempts to pick an appropriate compression\n",
      " |          algorithm for the dataset.\n",
      " |        reader_func: Optional. A function to control how to read data from\n",
      " |          snapshot shards.\n",
      " |        shard_func: Optional. A function to control how to shard data when writing\n",
      " |          a snapshot.\n",
      " |        name: (Optional.) A name for the tf.data operation.\n",
      " |      \n",
      " |      Returns:\n",
      " |        A `Dataset`.\n",
      " |  \n",
      " |  take(self, count, name=None)\n",
      " |      Creates a `Dataset` with at most `count` elements from this dataset.\n",
      " |      \n",
      " |      >>> dataset = tf.data.Dataset.range(10)\n",
      " |      >>> dataset = dataset.take(3)\n",
      " |      >>> list(dataset.as_numpy_iterator())\n",
      " |      [0, 1, 2]\n",
      " |      \n",
      " |      Args:\n",
      " |        count: A `tf.int64` scalar `tf.Tensor`, representing the number of\n",
      " |          elements of this dataset that should be taken to form the new dataset.\n",
      " |          If `count` is -1, or if `count` is greater than the size of this\n",
      " |          dataset, the new dataset will contain all elements of this dataset.\n",
      " |        name: (Optional.) A name for the tf.data operation.\n",
      " |      \n",
      " |      Returns:\n",
      " |        Dataset: A `Dataset`.\n",
      " |  \n",
      " |  take_while(self, predicate, name=None)\n",
      " |      A transformation that stops dataset iteration based on a `predicate`.\n",
      " |      \n",
      " |      >>> dataset = tf.data.Dataset.range(10)\n",
      " |      >>> dataset = dataset.take_while(lambda x: x < 5)\n",
      " |      >>> list(dataset.as_numpy_iterator())\n",
      " |      [0, 1, 2, 3, 4]\n",
      " |      \n",
      " |      Args:\n",
      " |        predicate: A function that maps a nested structure of tensors (having\n",
      " |          shapes and types defined by `self.output_shapes` and\n",
      " |          `self.output_types`) to a scalar `tf.bool` tensor.\n",
      " |        name: (Optional.) A name for the tf.data operation.\n",
      " |      \n",
      " |      Returns:\n",
      " |        A `Dataset`.\n",
      " |  \n",
      " |  unbatch(self, name=None)\n",
      " |      Splits elements of a dataset into multiple elements.\n",
      " |      \n",
      " |      For example, if elements of the dataset are shaped `[B, a0, a1, ...]`,\n",
      " |      where `B` may vary for each input element, then for each element in the\n",
      " |      dataset, the unbatched dataset will contain `B` consecutive elements\n",
      " |      of shape `[a0, a1, ...]`.\n",
      " |      \n",
      " |      >>> elements = [ [1, 2, 3], [1, 2], [1, 2, 3, 4] ]\n",
      " |      >>> dataset = tf.data.Dataset.from_generator(lambda: elements, tf.int64)\n",
      " |      >>> dataset = dataset.unbatch()\n",
      " |      >>> list(dataset.as_numpy_iterator())\n",
      " |      [1, 2, 3, 1, 2, 1, 2, 3, 4]\n",
      " |      \n",
      " |      Note: `unbatch` requires a data copy to slice up the batched tensor into\n",
      " |      smaller, unbatched tensors. When optimizing performance, try to avoid\n",
      " |      unnecessary usage of `unbatch`.\n",
      " |      \n",
      " |      Args:\n",
      " |        name: (Optional.) A name for the tf.data operation.\n",
      " |      \n",
      " |      Returns:\n",
      " |        A `Dataset`.\n",
      " |  \n",
      " |  unique(self, name=None)\n",
      " |      A transformation that discards duplicate elements of a `Dataset`.\n",
      " |      \n",
      " |      Use this transformation to produce a dataset that contains one instance of\n",
      " |      each unique element in the input. For example:\n",
      " |      \n",
      " |      >>> dataset = tf.data.Dataset.from_tensor_slices([1, 37, 2, 37, 2, 1])\n",
      " |      >>> dataset = dataset.unique()\n",
      " |      >>> sorted(list(dataset.as_numpy_iterator()))\n",
      " |      [1, 2, 37]\n",
      " |      \n",
      " |      Note: This transformation only supports datasets which fit into memory\n",
      " |      and have elements of either `tf.int32`, `tf.int64` or `tf.string` type.\n",
      " |      \n",
      " |      Args:\n",
      " |        name: (Optional.) A name for the tf.data operation.\n",
      " |      \n",
      " |      Returns:\n",
      " |        A `Dataset`.\n",
      " |  \n",
      " |  window(self, size, shift=None, stride=1, drop_remainder=False, name=None)\n",
      " |      Returns a dataset of \"windows\".\n",
      " |      \n",
      " |      Each \"window\" is a dataset that contains a subset of elements of the\n",
      " |      input dataset. These are finite datasets of size `size` (or possibly fewer\n",
      " |      if there are not enough input elements to fill the window and\n",
      " |      `drop_remainder` evaluates to `False`).\n",
      " |      \n",
      " |      For example:\n",
      " |      \n",
      " |      >>> dataset = tf.data.Dataset.range(7).window(3)\n",
      " |      >>> for window in dataset:\n",
      " |      ...   print(window)\n",
      " |      <...Dataset element_spec=TensorSpec(shape=(), dtype=tf.int64, name=None)>\n",
      " |      <...Dataset element_spec=TensorSpec(shape=(), dtype=tf.int64, name=None)>\n",
      " |      <...Dataset element_spec=TensorSpec(shape=(), dtype=tf.int64, name=None)>\n",
      " |      \n",
      " |      Since windows are datasets, they can be iterated over:\n",
      " |      \n",
      " |      >>> for window in dataset:\n",
      " |      ...   print([item.numpy() for item in window])\n",
      " |      [0, 1, 2]\n",
      " |      [3, 4, 5]\n",
      " |      [6]\n",
      " |      \n",
      " |      #### Shift\n",
      " |      \n",
      " |      The `shift` argument determines the number of input elements to shift\n",
      " |      between the start of each window. If windows and elements are both numbered\n",
      " |      starting at 0, the first element in window `k` will be element `k * shift`\n",
      " |      of the input dataset. In particular, the first element of the first window\n",
      " |      will always be the first element of the input dataset.\n",
      " |      \n",
      " |      >>> dataset = tf.data.Dataset.range(7).window(3, shift=1,\n",
      " |      ...                                           drop_remainder=True)\n",
      " |      >>> for window in dataset:\n",
      " |      ...   print(list(window.as_numpy_iterator()))\n",
      " |      [0, 1, 2]\n",
      " |      [1, 2, 3]\n",
      " |      [2, 3, 4]\n",
      " |      [3, 4, 5]\n",
      " |      [4, 5, 6]\n",
      " |      \n",
      " |      #### Stride\n",
      " |      \n",
      " |      The `stride` argument determines the stride between input elements within a\n",
      " |      window.\n",
      " |      \n",
      " |      >>> dataset = tf.data.Dataset.range(7).window(3, shift=1, stride=2,\n",
      " |      ...                                           drop_remainder=True)\n",
      " |      >>> for window in dataset:\n",
      " |      ...   print(list(window.as_numpy_iterator()))\n",
      " |      [0, 2, 4]\n",
      " |      [1, 3, 5]\n",
      " |      [2, 4, 6]\n",
      " |      \n",
      " |      #### Nested elements\n",
      " |      \n",
      " |      When the `window` transformation is applied to a dataset whos elements are\n",
      " |      nested structures, it produces a dataset where the elements have the same\n",
      " |      nested structure but each leaf is replaced by a window. In other words,\n",
      " |      the nesting is applied outside of the windows as opposed inside of them.\n",
      " |      \n",
      " |      The type signature is:\n",
      " |      \n",
      " |      ```\n",
      " |      def window(\n",
      " |          self: Dataset[Nest[T]], ...\n",
      " |      ) -> Dataset[Nest[Dataset[T]]]\n",
      " |      ```\n",
      " |      \n",
      " |      Applying `window` to a `Dataset` of tuples gives a tuple of windows:\n",
      " |      \n",
      " |      >>> dataset = tf.data.Dataset.from_tensor_slices(([1, 2, 3, 4, 5],\n",
      " |      ...                                               [6, 7, 8, 9, 10]))\n",
      " |      >>> dataset = dataset.window(2)\n",
      " |      >>> windows = next(iter(dataset))\n",
      " |      >>> windows\n",
      " |      (<...Dataset element_spec=TensorSpec(shape=(), dtype=tf.int32, name=None)>,\n",
      " |       <...Dataset element_spec=TensorSpec(shape=(), dtype=tf.int32, name=None)>)\n",
      " |      \n",
      " |      >>> def to_numpy(ds):\n",
      " |      ...   return list(ds.as_numpy_iterator())\n",
      " |      >>>\n",
      " |      >>> for windows in dataset:\n",
      " |      ...   print(to_numpy(windows[0]), to_numpy(windows[1]))\n",
      " |      [1, 2] [6, 7]\n",
      " |      [3, 4] [8, 9]\n",
      " |      [5] [10]\n",
      " |      \n",
      " |      Applying `window` to a `Dataset` of dictionaries gives a dictionary of\n",
      " |      `Datasets`:\n",
      " |      \n",
      " |      >>> dataset = tf.data.Dataset.from_tensor_slices({'a': [1, 2, 3],\n",
      " |      ...                                               'b': [4, 5, 6],\n",
      " |      ...                                               'c': [7, 8, 9]})\n",
      " |      >>> dataset = dataset.window(2)\n",
      " |      >>> def to_numpy(ds):\n",
      " |      ...   return list(ds.as_numpy_iterator())\n",
      " |      >>>\n",
      " |      >>> for windows in dataset:\n",
      " |      ...   print(tf.nest.map_structure(to_numpy, windows))\n",
      " |      {'a': [1, 2], 'b': [4, 5], 'c': [7, 8]}\n",
      " |      {'a': [3], 'b': [6], 'c': [9]}\n",
      " |      \n",
      " |      #### Flatten a dataset of windows\n",
      " |      \n",
      " |      The `Dataset.flat_map` and `Dataset.interleave` methods can be used to\n",
      " |      flatten a dataset of windows into a single dataset.\n",
      " |      \n",
      " |      The argument to `flat_map` is a function that takes an element from the\n",
      " |      dataset and returns a `Dataset`. `flat_map` chains together the resulting\n",
      " |      datasets sequentially.\n",
      " |      \n",
      " |      For example, to turn each window into a dense tensor:\n",
      " |      \n",
      " |      >>> size = 3\n",
      " |      >>> dataset = tf.data.Dataset.range(7).window(size, shift=1,\n",
      " |      ...                                           drop_remainder=True)\n",
      " |      >>> batched = dataset.flat_map(lambda x:x.batch(3))\n",
      " |      >>> for batch in batched:\n",
      " |      ...   print(batch.numpy())\n",
      " |      [0 1 2]\n",
      " |      [1 2 3]\n",
      " |      [2 3 4]\n",
      " |      [3 4 5]\n",
      " |      [4 5 6]\n",
      " |      \n",
      " |      Args:\n",
      " |        size: A `tf.int64` scalar `tf.Tensor`, representing the number of elements\n",
      " |          of the input dataset to combine into a window. Must be positive.\n",
      " |        shift: (Optional.) A `tf.int64` scalar `tf.Tensor`, representing the\n",
      " |          number of input elements by which the window moves in each iteration.\n",
      " |          Defaults to `size`. Must be positive.\n",
      " |        stride: (Optional.) A `tf.int64` scalar `tf.Tensor`, representing the\n",
      " |          stride of the input elements in the sliding window. Must be positive.\n",
      " |          The default value of 1 means \"retain every input element\".\n",
      " |        drop_remainder: (Optional.) A `tf.bool` scalar `tf.Tensor`, representing\n",
      " |          whether the last windows should be dropped if their size is smaller than\n",
      " |          `size`.\n",
      " |        name: (Optional.) A name for the tf.data operation.\n",
      " |      \n",
      " |      Returns:\n",
      " |        Dataset: A `Dataset` of (nests of) windows. Each window is a finite\n",
      " |          datasets of flat elements.\n",
      " |  \n",
      " |  with_options(self, options, name=None)\n",
      " |      Returns a new `tf.data.Dataset` with the given options set.\n",
      " |      \n",
      " |      The options are \"global\" in the sense they apply to the entire dataset.\n",
      " |      If options are set multiple times, they are merged as long as different\n",
      " |      options do not use different non-default values.\n",
      " |      \n",
      " |      >>> ds = tf.data.Dataset.range(5)\n",
      " |      >>> ds = ds.interleave(lambda x: tf.data.Dataset.range(5),\n",
      " |      ...                    cycle_length=3,\n",
      " |      ...                    num_parallel_calls=3)\n",
      " |      >>> options = tf.data.Options()\n",
      " |      >>> # This will make the interleave order non-deterministic.\n",
      " |      >>> options.deterministic = False\n",
      " |      >>> ds = ds.with_options(options)\n",
      " |      \n",
      " |      Args:\n",
      " |        options: A `tf.data.Options` that identifies the options the use.\n",
      " |        name: (Optional.) A name for the tf.data operation.\n",
      " |      \n",
      " |      Returns:\n",
      " |        Dataset: A `Dataset` with the given options.\n",
      " |      \n",
      " |      Raises:\n",
      " |        ValueError: when an option is set more than once to a non-default value\n",
      " |  \n",
      " |  ----------------------------------------------------------------------\n",
      " |  Static methods defined here:\n",
      " |  \n",
      " |  choose_from_datasets(datasets, choice_dataset, stop_on_empty_dataset=True)\n",
      " |      Creates a dataset that deterministically chooses elements from `datasets`.\n",
      " |      \n",
      " |      For example, given the following datasets:\n",
      " |      \n",
      " |      ```python\n",
      " |      datasets = [tf.data.Dataset.from_tensors(\"foo\").repeat(),\n",
      " |                  tf.data.Dataset.from_tensors(\"bar\").repeat(),\n",
      " |                  tf.data.Dataset.from_tensors(\"baz\").repeat()]\n",
      " |      \n",
      " |      # Define a dataset containing `[0, 1, 2, 0, 1, 2, 0, 1, 2]`.\n",
      " |      choice_dataset = tf.data.Dataset.range(3).repeat(3)\n",
      " |      \n",
      " |      result = tf.data.Dataset.choose_from_datasets(datasets, choice_dataset)\n",
      " |      ```\n",
      " |      \n",
      " |      The elements of `result` will be:\n",
      " |      \n",
      " |      ```\n",
      " |      \"foo\", \"bar\", \"baz\", \"foo\", \"bar\", \"baz\", \"foo\", \"bar\", \"baz\"\n",
      " |      ```\n",
      " |      \n",
      " |      Args:\n",
      " |        datasets: A non-empty list of `tf.data.Dataset` objects with compatible\n",
      " |          structure.\n",
      " |        choice_dataset: A `tf.data.Dataset` of scalar `tf.int64` tensors between\n",
      " |          `0` and `len(datasets) - 1`.\n",
      " |        stop_on_empty_dataset: If `True`, selection stops if it encounters an\n",
      " |          empty dataset. If `False`, it skips empty datasets. It is recommended to\n",
      " |          set it to `True`. Otherwise, the selected elements start off as the user\n",
      " |          intends, but may change as input datasets become empty. This can be\n",
      " |          difficult to detect since the dataset starts off looking correct.\n",
      " |          Defaults to `True`.\n",
      " |      \n",
      " |      Returns:\n",
      " |        A dataset that interleaves elements from `datasets` according to the\n",
      " |        values of `choice_dataset`.\n",
      " |      \n",
      " |      Raises:\n",
      " |        TypeError: If `datasets` or `choice_dataset` has the wrong type.\n",
      " |        ValueError: If `datasets` is empty.\n",
      " |  \n",
      " |  from_generator(generator, output_types=None, output_shapes=None, args=None, output_signature=None, name=None)\n",
      " |      Creates a `Dataset` whose elements are generated by `generator`. (deprecated arguments)\n",
      " |      \n",
      " |      Warning: SOME ARGUMENTS ARE DEPRECATED: `(output_shapes, output_types)`. They will be removed in a future version.\n",
      " |      Instructions for updating:\n",
      " |      Use output_signature instead\n",
      " |      \n",
      " |      The `generator` argument must be a callable object that returns\n",
      " |      an object that supports the `iter()` protocol (e.g. a generator function).\n",
      " |      \n",
      " |      The elements generated by `generator` must be compatible with either the\n",
      " |      given `output_signature` argument or with the given `output_types` and\n",
      " |      (optionally) `output_shapes` arguments, whichever was specified.\n",
      " |      \n",
      " |      The recommended way to call `from_generator` is to use the\n",
      " |      `output_signature` argument. In this case the output will be assumed to\n",
      " |      consist of objects with the classes, shapes and types defined by\n",
      " |      `tf.TypeSpec` objects from `output_signature` argument:\n",
      " |      \n",
      " |      >>> def gen():\n",
      " |      ...   ragged_tensor = tf.ragged.constant([[1, 2], [3]])\n",
      " |      ...   yield 42, ragged_tensor\n",
      " |      >>>\n",
      " |      >>> dataset = tf.data.Dataset.from_generator(\n",
      " |      ...      gen,\n",
      " |      ...      output_signature=(\n",
      " |      ...          tf.TensorSpec(shape=(), dtype=tf.int32),\n",
      " |      ...          tf.RaggedTensorSpec(shape=(2, None), dtype=tf.int32)))\n",
      " |      >>>\n",
      " |      >>> list(dataset.take(1))\n",
      " |      [(<tf.Tensor: shape=(), dtype=int32, numpy=42>,\n",
      " |      <tf.RaggedTensor [[1, 2], [3]]>)]\n",
      " |      \n",
      " |      There is also a deprecated way to call `from_generator` by either with\n",
      " |      `output_types` argument alone or together with `output_shapes` argument.\n",
      " |      In this case the output of the function will be assumed to consist of\n",
      " |      `tf.Tensor` objects with the types defined by `output_types` and with the\n",
      " |      shapes which are either unknown or defined by `output_shapes`.\n",
      " |      \n",
      " |      Note: The current implementation of `Dataset.from_generator()` uses\n",
      " |      `tf.numpy_function` and inherits the same constraints. In particular, it\n",
      " |      requires the dataset and iterator related operations to be placed\n",
      " |      on a device in the same process as the Python program that called\n",
      " |      `Dataset.from_generator()`. The body of `generator` will not be\n",
      " |      serialized in a `GraphDef`, and you should not use this method if you\n",
      " |      need to serialize your model and restore it in a different environment.\n",
      " |      \n",
      " |      Note: If `generator` depends on mutable global variables or other external\n",
      " |      state, be aware that the runtime may invoke `generator` multiple times\n",
      " |      (in order to support repeating the `Dataset`) and at any time\n",
      " |      between the call to `Dataset.from_generator()` and the production of the\n",
      " |      first element from the generator. Mutating global variables or external\n",
      " |      state can cause undefined behavior, and we recommend that you explicitly\n",
      " |      cache any external state in `generator` before calling\n",
      " |      `Dataset.from_generator()`.\n",
      " |      \n",
      " |      Note: While the `output_signature` parameter makes it possible to yield\n",
      " |      `Dataset` elements, the scope of `Dataset.from_generator()` should be\n",
      " |      limited to logic that cannot be expressed through tf.data operations. Using\n",
      " |      tf.data operations within the generator function is an anti-pattern and may\n",
      " |      result in incremental memory growth.\n",
      " |      \n",
      " |      Args:\n",
      " |        generator: A callable object that returns an object that supports the\n",
      " |          `iter()` protocol. If `args` is not specified, `generator` must take no\n",
      " |          arguments; otherwise it must take as many arguments as there are values\n",
      " |          in `args`.\n",
      " |        output_types: (Optional.) A (nested) structure of `tf.DType` objects\n",
      " |          corresponding to each component of an element yielded by `generator`.\n",
      " |        output_shapes: (Optional.) A (nested) structure of `tf.TensorShape`\n",
      " |          objects corresponding to each component of an element yielded by\n",
      " |          `generator`.\n",
      " |        args: (Optional.) A tuple of `tf.Tensor` objects that will be evaluated\n",
      " |          and passed to `generator` as NumPy-array arguments.\n",
      " |        output_signature: (Optional.) A (nested) structure of `tf.TypeSpec`\n",
      " |          objects corresponding to each component of an element yielded by\n",
      " |          `generator`.\n",
      " |        name: (Optional.) A name for the tf.data operations used by\n",
      " |          `from_generator`.\n",
      " |      \n",
      " |      Returns:\n",
      " |        Dataset: A `Dataset`.\n",
      " |  \n",
      " |  from_tensor_slices(tensors, name=None)\n",
      " |      Creates a `Dataset` whose elements are slices of the given tensors.\n",
      " |      \n",
      " |      The given tensors are sliced along their first dimension. This operation\n",
      " |      preserves the structure of the input tensors, removing the first dimension\n",
      " |      of each tensor and using it as the dataset dimension. All input tensors\n",
      " |      must have the same size in their first dimensions.\n",
      " |      \n",
      " |      >>> # Slicing a 1D tensor produces scalar tensor elements.\n",
      " |      >>> dataset = tf.data.Dataset.from_tensor_slices([1, 2, 3])\n",
      " |      >>> list(dataset.as_numpy_iterator())\n",
      " |      [1, 2, 3]\n",
      " |      \n",
      " |      >>> # Slicing a 2D tensor produces 1D tensor elements.\n",
      " |      >>> dataset = tf.data.Dataset.from_tensor_slices([[1, 2], [3, 4]])\n",
      " |      >>> list(dataset.as_numpy_iterator())\n",
      " |      [array([1, 2], dtype=int32), array([3, 4], dtype=int32)]\n",
      " |      \n",
      " |      >>> # Slicing a tuple of 1D tensors produces tuple elements containing\n",
      " |      >>> # scalar tensors.\n",
      " |      >>> dataset = tf.data.Dataset.from_tensor_slices(([1, 2], [3, 4], [5, 6]))\n",
      " |      >>> list(dataset.as_numpy_iterator())\n",
      " |      [(1, 3, 5), (2, 4, 6)]\n",
      " |      \n",
      " |      >>> # Dictionary structure is also preserved.\n",
      " |      >>> dataset = tf.data.Dataset.from_tensor_slices({\"a\": [1, 2], \"b\": [3, 4]})\n",
      " |      >>> list(dataset.as_numpy_iterator()) == [{'a': 1, 'b': 3},\n",
      " |      ...                                       {'a': 2, 'b': 4}]\n",
      " |      True\n",
      " |      \n",
      " |      >>> # Two tensors can be combined into one Dataset object.\n",
      " |      >>> features = tf.constant([[1, 3], [2, 1], [3, 3]]) # ==> 3x2 tensor\n",
      " |      >>> labels = tf.constant(['A', 'B', 'A']) # ==> 3x1 tensor\n",
      " |      >>> dataset = Dataset.from_tensor_slices((features, labels))\n",
      " |      >>> # Both the features and the labels tensors can be converted\n",
      " |      >>> # to a Dataset object separately and combined after.\n",
      " |      >>> features_dataset = Dataset.from_tensor_slices(features)\n",
      " |      >>> labels_dataset = Dataset.from_tensor_slices(labels)\n",
      " |      >>> dataset = Dataset.zip((features_dataset, labels_dataset))\n",
      " |      >>> # A batched feature and label set can be converted to a Dataset\n",
      " |      >>> # in similar fashion.\n",
      " |      >>> batched_features = tf.constant([[[1, 3], [2, 3]],\n",
      " |      ...                                 [[2, 1], [1, 2]],\n",
      " |      ...                                 [[3, 3], [3, 2]]], shape=(3, 2, 2))\n",
      " |      >>> batched_labels = tf.constant([['A', 'A'],\n",
      " |      ...                               ['B', 'B'],\n",
      " |      ...                               ['A', 'B']], shape=(3, 2, 1))\n",
      " |      >>> dataset = Dataset.from_tensor_slices((batched_features, batched_labels))\n",
      " |      >>> for element in dataset.as_numpy_iterator():\n",
      " |      ...   print(element)\n",
      " |      (array([[1, 3],\n",
      " |             [2, 3]], dtype=int32), array([[b'A'],\n",
      " |             [b'A']], dtype=object))\n",
      " |      (array([[2, 1],\n",
      " |             [1, 2]], dtype=int32), array([[b'B'],\n",
      " |             [b'B']], dtype=object))\n",
      " |      (array([[3, 3],\n",
      " |             [3, 2]], dtype=int32), array([[b'A'],\n",
      " |             [b'B']], dtype=object))\n",
      " |      \n",
      " |      Note that if `tensors` contains a NumPy array, and eager execution is not\n",
      " |      enabled, the values will be embedded in the graph as one or more\n",
      " |      `tf.constant` operations. For large datasets (> 1 GB), this can waste\n",
      " |      memory and run into byte limits of graph serialization. If `tensors`\n",
      " |      contains one or more large NumPy arrays, consider the alternative described\n",
      " |      in [this guide](\n",
      " |      https://tensorflow.org/guide/data#consuming_numpy_arrays).\n",
      " |      \n",
      " |      Args:\n",
      " |        tensors: A dataset element, whose components have the same first\n",
      " |          dimension. Supported values are documented\n",
      " |          [here](https://www.tensorflow.org/guide/data#dataset_structure).\n",
      " |        name: (Optional.) A name for the tf.data operation.\n",
      " |      \n",
      " |      Returns:\n",
      " |        Dataset: A `Dataset`.\n",
      " |  \n",
      " |  from_tensors(tensors, name=None)\n",
      " |      Creates a `Dataset` with a single element, comprising the given tensors.\n",
      " |      \n",
      " |      `from_tensors` produces a dataset containing only a single element. To slice\n",
      " |      the input tensor into multiple elements, use `from_tensor_slices` instead.\n",
      " |      \n",
      " |      >>> dataset = tf.data.Dataset.from_tensors([1, 2, 3])\n",
      " |      >>> list(dataset.as_numpy_iterator())\n",
      " |      [array([1, 2, 3], dtype=int32)]\n",
      " |      >>> dataset = tf.data.Dataset.from_tensors(([1, 2, 3], 'A'))\n",
      " |      >>> list(dataset.as_numpy_iterator())\n",
      " |      [(array([1, 2, 3], dtype=int32), b'A')]\n",
      " |      \n",
      " |      >>> # You can use `from_tensors` to produce a dataset which repeats\n",
      " |      >>> # the same example many times.\n",
      " |      >>> example = tf.constant([1,2,3])\n",
      " |      >>> dataset = tf.data.Dataset.from_tensors(example).repeat(2)\n",
      " |      >>> list(dataset.as_numpy_iterator())\n",
      " |      [array([1, 2, 3], dtype=int32), array([1, 2, 3], dtype=int32)]\n",
      " |      \n",
      " |      Note that if `tensors` contains a NumPy array, and eager execution is not\n",
      " |      enabled, the values will be embedded in the graph as one or more\n",
      " |      `tf.constant` operations. For large datasets (> 1 GB), this can waste\n",
      " |      memory and run into byte limits of graph serialization. If `tensors`\n",
      " |      contains one or more large NumPy arrays, consider the alternative described\n",
      " |      in [this\n",
      " |      guide](https://tensorflow.org/guide/data#consuming_numpy_arrays).\n",
      " |      \n",
      " |      Args:\n",
      " |        tensors: A dataset \"element\". Supported values are documented\n",
      " |          [here](https://www.tensorflow.org/guide/data#dataset_structure).\n",
      " |        name: (Optional.) A name for the tf.data operation.\n",
      " |      \n",
      " |      Returns:\n",
      " |        Dataset: A `Dataset`.\n",
      " |  \n",
      " |  list_files(file_pattern, shuffle=None, seed=None, name=None)\n",
      " |      A dataset of all files matching one or more glob patterns.\n",
      " |      \n",
      " |      The `file_pattern` argument should be a small number of glob patterns.\n",
      " |      If your filenames have already been globbed, use\n",
      " |      `Dataset.from_tensor_slices(filenames)` instead, as re-globbing every\n",
      " |      filename with `list_files` may result in poor performance with remote\n",
      " |      storage systems.\n",
      " |      \n",
      " |      Note: The default behavior of this method is to return filenames in\n",
      " |      a non-deterministic random shuffled order. Pass a `seed` or `shuffle=False`\n",
      " |      to get results in a deterministic order.\n",
      " |      \n",
      " |      Example:\n",
      " |        If we had the following files on our filesystem:\n",
      " |      \n",
      " |          - /path/to/dir/a.txt\n",
      " |          - /path/to/dir/b.py\n",
      " |          - /path/to/dir/c.py\n",
      " |      \n",
      " |        If we pass \"/path/to/dir/*.py\" as the directory, the dataset\n",
      " |        would produce:\n",
      " |      \n",
      " |          - /path/to/dir/b.py\n",
      " |          - /path/to/dir/c.py\n",
      " |      \n",
      " |      Args:\n",
      " |        file_pattern: A string, a list of strings, or a `tf.Tensor` of string type\n",
      " |          (scalar or vector), representing the filename glob (i.e. shell wildcard)\n",
      " |          pattern(s) that will be matched.\n",
      " |        shuffle: (Optional.) If `True`, the file names will be shuffled randomly.\n",
      " |          Defaults to `True`.\n",
      " |        seed: (Optional.) A `tf.int64` scalar `tf.Tensor`, representing the random\n",
      " |          seed that will be used to create the distribution. See\n",
      " |          `tf.random.set_seed` for behavior.\n",
      " |        name: Optional. A name for the tf.data operations used by `list_files`.\n",
      " |      \n",
      " |      Returns:\n",
      " |       Dataset: A `Dataset` of strings corresponding to file names.\n",
      " |  \n",
      " |  random(seed=None, name=None)\n",
      " |      Creates a `Dataset` of pseudorandom values.\n",
      " |      \n",
      " |      The dataset generates a sequence of uniformly distributed integer values.\n",
      " |      \n",
      " |      >>> ds1 = tf.data.Dataset.random(seed=4).take(10)\n",
      " |      >>> ds2 = tf.data.Dataset.random(seed=4).take(10)\n",
      " |      >>> print(list(ds2.as_numpy_iterator())==list(ds2.as_numpy_iterator()))\n",
      " |      True\n",
      " |      \n",
      " |      Args:\n",
      " |        seed: (Optional) If specified, the dataset produces a deterministic\n",
      " |          sequence of values.\n",
      " |        name: (Optional.) A name for the tf.data operation.\n",
      " |      \n",
      " |      Returns:\n",
      " |        Dataset: A `Dataset`.\n",
      " |  \n",
      " |  range(*args, **kwargs)\n",
      " |      Creates a `Dataset` of a step-separated range of values.\n",
      " |      \n",
      " |      >>> list(Dataset.range(5).as_numpy_iterator())\n",
      " |      [0, 1, 2, 3, 4]\n",
      " |      >>> list(Dataset.range(2, 5).as_numpy_iterator())\n",
      " |      [2, 3, 4]\n",
      " |      >>> list(Dataset.range(1, 5, 2).as_numpy_iterator())\n",
      " |      [1, 3]\n",
      " |      >>> list(Dataset.range(1, 5, -2).as_numpy_iterator())\n",
      " |      []\n",
      " |      >>> list(Dataset.range(5, 1).as_numpy_iterator())\n",
      " |      []\n",
      " |      >>> list(Dataset.range(5, 1, -2).as_numpy_iterator())\n",
      " |      [5, 3]\n",
      " |      >>> list(Dataset.range(2, 5, output_type=tf.int32).as_numpy_iterator())\n",
      " |      [2, 3, 4]\n",
      " |      >>> list(Dataset.range(1, 5, 2, output_type=tf.float32).as_numpy_iterator())\n",
      " |      [1.0, 3.0]\n",
      " |      \n",
      " |      Args:\n",
      " |        *args: follows the same semantics as python's range.\n",
      " |          len(args) == 1 -> start = 0, stop = args[0], step = 1.\n",
      " |          len(args) == 2 -> start = args[0], stop = args[1], step = 1.\n",
      " |          len(args) == 3 -> start = args[0], stop = args[1], step = args[2].\n",
      " |        **kwargs:\n",
      " |          - output_type: Its expected dtype. (Optional, default: `tf.int64`).\n",
      " |          - name: (Optional.) A name for the tf.data operation.\n",
      " |      \n",
      " |      Returns:\n",
      " |        Dataset: A `RangeDataset`.\n",
      " |      \n",
      " |      Raises:\n",
      " |        ValueError: if len(args) == 0.\n",
      " |  \n",
      " |  sample_from_datasets(datasets, weights=None, seed=None, stop_on_empty_dataset=False)\n",
      " |      Samples elements at random from the datasets in `datasets`.\n",
      " |      \n",
      " |      Creates a dataset by interleaving elements of `datasets` with `weight[i]`\n",
      " |      probability of picking an element from dataset `i`. Sampling is done without\n",
      " |      replacement. For example, suppose we have 2 datasets:\n",
      " |      \n",
      " |      ```python\n",
      " |      dataset1 = tf.data.Dataset.range(0, 3)\n",
      " |      dataset2 = tf.data.Dataset.range(100, 103)\n",
      " |      ```\n",
      " |      \n",
      " |      Suppose that we sample from these 2 datasets with the following weights:\n",
      " |      \n",
      " |      ```python\n",
      " |      sample_dataset = tf.data.Dataset.sample_from_datasets(\n",
      " |          [dataset1, dataset2], weights=[0.5, 0.5])\n",
      " |      ```\n",
      " |      \n",
      " |      One possible outcome of elements in sample_dataset is:\n",
      " |      \n",
      " |      ```\n",
      " |      print(list(sample_dataset.as_numpy_iterator()))\n",
      " |      # [100, 0, 1, 101, 2, 102]\n",
      " |      ```\n",
      " |      \n",
      " |      Args:\n",
      " |        datasets: A non-empty list of `tf.data.Dataset` objects with compatible\n",
      " |          structure.\n",
      " |        weights: (Optional.) A list or Tensor of `len(datasets)` floating-point\n",
      " |          values where `weights[i]` represents the probability to sample from\n",
      " |          `datasets[i]`, or a `tf.data.Dataset` object where each element is such\n",
      " |          a list. Defaults to a uniform distribution across `datasets`.\n",
      " |        seed: (Optional.) A `tf.int64` scalar `tf.Tensor`, representing the random\n",
      " |          seed that will be used to create the distribution. See\n",
      " |          `tf.random.set_seed` for behavior.\n",
      " |        stop_on_empty_dataset: If `True`, sampling stops if it encounters an empty\n",
      " |          dataset. If `False`, it skips empty datasets. It is recommended to set\n",
      " |          it to `True`. Otherwise, the distribution of samples starts off as the\n",
      " |          user intends, but may change as input datasets become empty. This can be\n",
      " |          difficult to detect since the dataset starts off looking correct.\n",
      " |          Default to `False` for backward compatibility.\n",
      " |      \n",
      " |      Returns:\n",
      " |        A dataset that interleaves elements from `datasets` at random, according\n",
      " |        to `weights` if provided, otherwise with uniform probability.\n",
      " |      \n",
      " |      Raises:\n",
      " |        TypeError: If the `datasets` or `weights` arguments have the wrong type.\n",
      " |        ValueError:\n",
      " |          - If `datasets` is empty, or\n",
      " |          - If `weights` is specified and does not match the length of `datasets`.\n",
      " |  \n",
      " |  zip(datasets, name=None)\n",
      " |      Creates a `Dataset` by zipping together the given datasets.\n",
      " |      \n",
      " |      This method has similar semantics to the built-in `zip()` function\n",
      " |      in Python, with the main difference being that the `datasets`\n",
      " |      argument can be a (nested) structure of `Dataset` objects. The supported\n",
      " |      nesting mechanisms are documented\n",
      " |      [here] (https://www.tensorflow.org/guide/data#dataset_structure).\n",
      " |      \n",
      " |      >>> # The nested structure of the `datasets` argument determines the\n",
      " |      >>> # structure of elements in the resulting dataset.\n",
      " |      >>> a = tf.data.Dataset.range(1, 4)  # ==> [ 1, 2, 3 ]\n",
      " |      >>> b = tf.data.Dataset.range(4, 7)  # ==> [ 4, 5, 6 ]\n",
      " |      >>> ds = tf.data.Dataset.zip((a, b))\n",
      " |      >>> list(ds.as_numpy_iterator())\n",
      " |      [(1, 4), (2, 5), (3, 6)]\n",
      " |      >>> ds = tf.data.Dataset.zip((b, a))\n",
      " |      >>> list(ds.as_numpy_iterator())\n",
      " |      [(4, 1), (5, 2), (6, 3)]\n",
      " |      >>>\n",
      " |      >>> # The `datasets` argument may contain an arbitrary number of datasets.\n",
      " |      >>> c = tf.data.Dataset.range(7, 13).batch(2)  # ==> [ [7, 8],\n",
      " |      ...                                            #       [9, 10],\n",
      " |      ...                                            #       [11, 12] ]\n",
      " |      >>> ds = tf.data.Dataset.zip((a, b, c))\n",
      " |      >>> for element in ds.as_numpy_iterator():\n",
      " |      ...   print(element)\n",
      " |      (1, 4, array([7, 8]))\n",
      " |      (2, 5, array([ 9, 10]))\n",
      " |      (3, 6, array([11, 12]))\n",
      " |      >>>\n",
      " |      >>> # The number of elements in the resulting dataset is the same as\n",
      " |      >>> # the size of the smallest dataset in `datasets`.\n",
      " |      >>> d = tf.data.Dataset.range(13, 15)  # ==> [ 13, 14 ]\n",
      " |      >>> ds = tf.data.Dataset.zip((a, d))\n",
      " |      >>> list(ds.as_numpy_iterator())\n",
      " |      [(1, 13), (2, 14)]\n",
      " |      \n",
      " |      Args:\n",
      " |        datasets: A (nested) structure of datasets.\n",
      " |        name: (Optional.) A name for the tf.data operation.\n",
      " |      \n",
      " |      Returns:\n",
      " |        Dataset: A `Dataset`.\n",
      " |  \n",
      " |  ----------------------------------------------------------------------\n",
      " |  Readonly properties defined here:\n",
      " |  \n",
      " |  element_spec\n",
      " |      The type specification of an element of this dataset.\n",
      " |      \n",
      " |      >>> dataset = tf.data.Dataset.from_tensor_slices([1, 2, 3])\n",
      " |      >>> dataset.element_spec\n",
      " |      TensorSpec(shape=(), dtype=tf.int32, name=None)\n",
      " |      \n",
      " |      For more information,\n",
      " |      read [this guide](https://www.tensorflow.org/guide/data#dataset_structure).\n",
      " |      \n",
      " |      Returns:\n",
      " |        A (nested) structure of `tf.TypeSpec` objects matching the structure of an\n",
      " |        element of this dataset and specifying the type of individual components.\n",
      " |  \n",
      " |  ----------------------------------------------------------------------\n",
      " |  Data descriptors defined here:\n",
      " |  \n",
      " |  __dict__\n",
      " |      dictionary for instance variables (if defined)\n",
      " |  \n",
      " |  __weakref__\n",
      " |      list of weak references to the object (if defined)\n",
      " |  \n",
      " |  ----------------------------------------------------------------------\n",
      " |  Data and other attributes defined here:\n",
      " |  \n",
      " |  __abstractmethods__ = frozenset({'_inputs', 'element_spec'})\n",
      " |  \n",
      " |  ----------------------------------------------------------------------\n",
      " |  Class methods inherited from collections.abc.Iterable:\n",
      " |  \n",
      " |  __subclasshook__(C) from abc.ABCMeta\n",
      " |      Abstract classes can override this to customize issubclass().\n",
      " |      \n",
      " |      This is invoked early on by abc.ABCMeta.__subclasscheck__().\n",
      " |      It should return True, False or NotImplemented.  If it returns\n",
      " |      NotImplemented, the normal algorithm is used.  Otherwise, it\n",
      " |      overrides the normal algorithm (and the outcome is cached).\n",
      " |  \n",
      " |  ----------------------------------------------------------------------\n",
      " |  Methods inherited from tensorflow.python.framework.composite_tensor.CompositeTensor:\n",
      " |  \n",
      " |  __tf_tracing_type__(self, context)\n",
      "\n"
     ]
    }
   ],
   "source": [
    "help(tf.data.Dataset)"
   ]
  },
  {
   "cell_type": "code",
   "execution_count": null,
   "id": "bad30f36",
   "metadata": {},
   "outputs": [],
   "source": [
    "  file_path_features = [data_path_from_slice_path(path) for path in file_paths]\n",
    "\n",
    "    both_path = tf.data.Dataset.from_tensor_slices(\n",
    "        [list(couple) for couple in zip(file_paths, file_path_features)]\n",
    "    )\n",
    "    general_dataset = both_path.interleave(single_slice_dataset, cycle_length=n_readers)\n",
    "    general_dataset = general_dataset.shuffle(shuffle_buffer_size).repeat(repeat)\n",
    "    return general_dataset.batch(1)  # Output shape: (1, 120, 1)\n",
    "    # TODO(FK): remove the batching here and the prefetch  .prefetch(1)"
   ]
  },
  {
   "cell_type": "code",
   "execution_count": 197,
   "id": "7a3b5cd9",
   "metadata": {
    "scrolled": true
   },
   "outputs": [
    {
     "data": {
      "text/plain": [
       "(527, 120)"
      ]
     },
     "execution_count": 197,
     "metadata": {},
     "output_type": "execute_result"
    }
   ],
   "source": [
    "train_feature.shape"
   ]
  },
  {
   "cell_type": "code",
   "execution_count": 219,
   "id": "6376cd2f",
   "metadata": {},
   "outputs": [],
   "source": [
    "prov = np.expand_dims(train_feature[4,:], axis=0)"
   ]
  },
  {
   "cell_type": "code",
   "execution_count": 220,
   "id": "a90735e7",
   "metadata": {},
   "outputs": [
    {
     "data": {
      "text/plain": [
       "(1, 120)"
      ]
     },
     "execution_count": 220,
     "metadata": {},
     "output_type": "execute_result"
    }
   ],
   "source": [
    "prov.shape"
   ]
  },
  {
   "cell_type": "code",
   "execution_count": 236,
   "id": "8d9f8575",
   "metadata": {},
   "outputs": [
    {
     "data": {
      "text/plain": [
       "(1, 120, 1)"
      ]
     },
     "execution_count": 236,
     "metadata": {},
     "output_type": "execute_result"
    }
   ],
   "source": [
    "prov = np.expand_dims(train_feature[4,:], axis=-1)\n",
    "prov = np.expand_dims(prov, axis=0)\n",
    "prov.shape"
   ]
  },
  {
   "cell_type": "code",
   "execution_count": 143,
   "id": "62667bb0",
   "metadata": {},
   "outputs": [],
   "source": [
    "def random_crop(output_size):\n",
    "    # TODO(FK): add name\n",
    "    # TODO(FK): handle size\n",
    "    size = [74, output_size, 1]\n",
    "    return tf.keras.layers.Lambda(lambda x: tf.image.random_crop(x, size=size))\n",
    "\n",
    "\n",
    "@tf.function\n",
    "def center_crop_slice(x, margin):\n",
    "    return x[..., margin:-margin, :]\n",
    "\n",
    "\n",
    "def center_crop(input_size=120, output_size=80):\n",
    "    return tf.keras.layers.Lambda(\n",
    "        lambda x: center_crop_slice(x, (input_size - output_size) // 2)\n",
    "    )\n",
    "\n",
    "\n",
    "data_augmentation = tf.keras.Sequential(\n",
    "    [\n",
    "        tf.keras.Input(shape=(120, 1)),\n",
    "        random_crop(80),\n",
    "        # random_invert(p=0.5),  # TODO(FK): keep?\n",
    "        #random_mirror(p=0.5),\n",
    "        #random_brightness(10),\n",
    "    ]\n",
    ")"
   ]
  },
  {
   "cell_type": "code",
   "execution_count": 100,
   "id": "90acfae4",
   "metadata": {},
   "outputs": [],
   "source": [
    "from amftrack.ml.width.data_augmentation import *"
   ]
  },
  {
   "cell_type": "raw",
   "id": "bfbb8ffb",
   "metadata": {},
   "source": [
    "data_augmentation = tf.keras.Sequential(\n",
    "    [\n",
    "        tf.keras.Input(shape=(120, 1)),\n",
    "        random_crop(120),\n",
    "        # random_invert(p=0.5),  # TODO(FK): keep?\n",
    "        random_mirror(p=0.5),\n",
    "        random_brightness(20),\n",
    "    ]\n",
    ")"
   ]
  },
  {
   "cell_type": "code",
   "execution_count": 79,
   "id": "8a53a48a",
   "metadata": {},
   "outputs": [],
   "source": [
    "data_augmentation = tf.keras.Sequential(\n",
    "    [\n",
    "        tf.keras.Input(shape=(120, 1)),\n",
    "        random_crop(80),\n",
    "    ]\n",
    ")"
   ]
  },
  {
   "cell_type": "code",
   "execution_count": 132,
   "id": "1ed5fa01",
   "metadata": {
    "scrolled": true
   },
   "outputs": [
    {
     "data": {
      "text/plain": [
       "Array([[199, 198, 197, ..., 203, 204, 207],\n",
       "       [175, 177, 176, ..., 167, 166, 166],\n",
       "       [194, 194, 194, ..., 146, 134, 120],\n",
       "       ...,\n",
       "       [186, 186, 186, ..., 179, 177, 179],\n",
       "       [204, 206, 206, ..., 205, 206, 206],\n",
       "       [188, 189, 188, ..., 174, 177, 179]], dtype=uint8)"
      ]
     },
     "execution_count": 132,
     "metadata": {},
     "output_type": "execute_result"
    }
   ],
   "source": [
    "test_feature"
   ]
  },
  {
   "cell_type": "code",
   "execution_count": 144,
   "id": "d4ae11b9",
   "metadata": {},
   "outputs": [],
   "source": [
    "feature_vector = data_augmentation(test_feature)"
   ]
  },
  {
   "cell_type": "code",
   "execution_count": 145,
   "id": "c74b492f",
   "metadata": {},
   "outputs": [],
   "source": [
    "tf.random.set_seed(12)"
   ]
  },
  {
   "cell_type": "code",
   "execution_count": 146,
   "id": "4a2789df",
   "metadata": {
    "scrolled": false
   },
   "outputs": [
    {
     "data": {
      "text/plain": [
       "<tf.Tensor: shape=(74,), dtype=float32, numpy=\n",
       "array([196., 166., 188., 186., 162., 200., 198., 157., 201., 180., 194.,\n",
       "       188., 184., 189., 183., 180., 165., 155., 202., 171., 171., 203.,\n",
       "       186., 173., 206., 176., 161., 200., 187., 175., 177., 194., 184.,\n",
       "       181., 189., 194., 197., 194., 193., 200., 165., 183., 197., 205.,\n",
       "       191., 155., 167., 168., 182., 178., 185., 192., 198., 158., 196.,\n",
       "       168., 199., 177., 196., 203., 164., 193., 174., 189., 178., 197.,\n",
       "       178., 202., 126., 175., 146., 170., 209., 186.], dtype=float32)>"
      ]
     },
     "execution_count": 146,
     "metadata": {},
     "output_type": "execute_result"
    }
   ],
   "source": [
    "feature_vector[:, 0, 0]"
   ]
  },
  {
   "cell_type": "code",
   "execution_count": 147,
   "id": "e0a635e2",
   "metadata": {},
   "outputs": [
    {
     "data": {
      "text/plain": [
       "<tf.Tensor: shape=(74,), dtype=float32, numpy=\n",
       "array([196., 166., 188., 186., 162., 200., 198., 157., 201., 180., 194.,\n",
       "       188., 184., 189., 183., 180., 165., 155., 202., 171., 171., 203.,\n",
       "       186., 173., 206., 176., 161., 200., 187., 175., 177., 194., 184.,\n",
       "       181., 189., 194., 197., 194., 193., 200., 165., 183., 197., 205.,\n",
       "       191., 155., 167., 168., 182., 178., 185., 192., 198., 158., 196.,\n",
       "       168., 199., 177., 196., 203., 164., 193., 174., 189., 178., 197.,\n",
       "       178., 202., 126., 175., 146., 170., 209., 186.], dtype=float32)>"
      ]
     },
     "execution_count": 147,
     "metadata": {},
     "output_type": "execute_result"
    }
   ],
   "source": [
    "feature_vector[:, 0, 0]"
   ]
  },
  {
   "cell_type": "code",
   "execution_count": 148,
   "id": "2707a279",
   "metadata": {
    "scrolled": false
   },
   "outputs": [
    {
     "name": "stdout",
     "output_type": "stream",
     "text": [
      "3/3 [==============================] - 0s 1ms/step - loss: 5.2993 - mean_absolute_error: 1.2498\n"
     ]
    },
    {
     "data": {
      "text/plain": [
       "[5.299310207366943, 1.2498197555541992]"
      ]
     },
     "execution_count": 148,
     "metadata": {},
     "output_type": "execute_result"
    }
   ],
   "source": [
    "best_model.evaluate(feature_vector, test_label)"
   ]
  },
  {
   "cell_type": "code",
   "execution_count": 149,
   "id": "5bd83327",
   "metadata": {
    "scrolled": false
   },
   "outputs": [
    {
     "data": {
      "image/png": "[encoded data removed]",
      "text/plain": [
       "<Figure size 432x288 with 1 Axes>"
      ]
     },
     "metadata": {
      "needs_background": "light"
     },
     "output_type": "display_data"
    }
   ],
   "source": [
    "plot_against(best_model, feature_vector, test_label)"
   ]
  },
  {
   "cell_type": "code",
   "execution_count": 237,
   "id": "773b7a22",
   "metadata": {},
   "outputs": [
    {
     "data": {
      "text/plain": [
       "<tf.Tensor: shape=(1, 80, 1), dtype=float32, numpy=\n",
       "array([[[117.],\n",
       "        [115.],\n",
       "        [116.],\n",
       "        [117.],\n",
       "        [118.],\n",
       "        [117.],\n",
       "        [118.],\n",
       "        [119.],\n",
       "        [118.],\n",
       "        [120.],\n",
       "        [123.],\n",
       "        [123.],\n",
       "        [124.],\n",
       "        [125.],\n",
       "        [126.],\n",
       "        [127.],\n",
       "        [131.],\n",
       "        [130.],\n",
       "        [131.],\n",
       "        [136.],\n",
       "        [138.],\n",
       "        [140.],\n",
       "        [145.],\n",
       "        [156.],\n",
       "        [163.],\n",
       "        [160.],\n",
       "        [152.],\n",
       "        [140.],\n",
       "        [132.],\n",
       "        [131.],\n",
       "        [126.],\n",
       "        [124.],\n",
       "        [124.],\n",
       "        [123.],\n",
       "        [122.],\n",
       "        [118.],\n",
       "        [119.],\n",
       "        [121.],\n",
       "        [124.],\n",
       "        [125.],\n",
       "        [121.],\n",
       "        [122.],\n",
       "        [122.],\n",
       "        [121.],\n",
       "        [121.],\n",
       "        [120.],\n",
       "        [118.],\n",
       "        [119.],\n",
       "        [120.],\n",
       "        [119.],\n",
       "        [116.],\n",
       "        [118.],\n",
       "        [118.],\n",
       "        [117.],\n",
       "        [118.],\n",
       "        [119.],\n",
       "        [119.],\n",
       "        [117.],\n",
       "        [115.],\n",
       "        [117.],\n",
       "        [116.],\n",
       "        [117.],\n",
       "        [116.],\n",
       "        [116.],\n",
       "        [118.],\n",
       "        [117.],\n",
       "        [113.],\n",
       "        [116.],\n",
       "        [116.],\n",
       "        [114.],\n",
       "        [116.],\n",
       "        [116.],\n",
       "        [117.],\n",
       "        [118.],\n",
       "        [118.],\n",
       "        [118.],\n",
       "        [116.],\n",
       "        [117.],\n",
       "        [115.],\n",
       "        [115.]]], dtype=float32)>"
      ]
     },
     "execution_count": 237,
     "metadata": {},
     "output_type": "execute_result"
    }
   ],
   "source": [
    "data_augmentation(prov)"
   ]
  },
  {
   "cell_type": "code",
   "execution_count": 200,
   "id": "d8517151",
   "metadata": {
    "scrolled": true
   },
   "outputs": [
    {
     "data": {
      "text/plain": [
       "(120,)"
      ]
     },
     "execution_count": 200,
     "metadata": {},
     "output_type": "execute_result"
    }
   ],
   "source": [
    "train_feature[5,:].shape"
   ]
  },
  {
   "cell_type": "code",
   "execution_count": 205,
   "id": "21091b50",
   "metadata": {},
   "outputs": [
    {
     "data": {
      "text/plain": [
       "numpy.ndarray"
      ]
     },
     "execution_count": 205,
     "metadata": {},
     "output_type": "execute_result"
    }
   ],
   "source": [
    "type(train_label[1])"
   ]
  },
  {
   "cell_type": "code",
   "execution_count": 207,
   "id": "4b6aba28",
   "metadata": {},
   "outputs": [
    {
     "data": {
      "text/plain": [
       "numpy.ndarray"
      ]
     },
     "execution_count": 207,
     "metadata": {},
     "output_type": "execute_result"
    }
   ],
   "source": [
    "type(np.array(train_feature[6,:]))"
   ]
  },
  {
   "cell_type": "raw",
   "id": "92e1001f",
   "metadata": {
    "scrolled": true
   },
   "source": [
    "list(zip([train_feature[i,:] for i in range(len(train_feature))], train_label))"
   ]
  },
  {
   "cell_type": "code",
   "execution_count": 209,
   "id": "0b33abeb",
   "metadata": {},
   "outputs": [
    {
     "data": {
      "text/plain": [
       "527"
      ]
     },
     "execution_count": 209,
     "metadata": {},
     "output_type": "execute_result"
    }
   ],
   "source": [
    "len(train_feature)"
   ]
  },
  {
   "cell_type": "code",
   "execution_count": 210,
   "id": "baad05d3",
   "metadata": {
    "scrolled": true
   },
   "outputs": [
    {
     "ename": "ValueError",
     "evalue": "Can't convert non-rectangular Python sequence to Tensor.",
     "output_type": "error",
     "traceback": [
      "\u001b[0;31m---------------------------------------------------------------------------\u001b[0m",
      "\u001b[0;31mTypeError\u001b[0m                                 Traceback (most recent call last)",
      "File \u001b[0;32m~/Wks/AMFtrack/venv/lib/python3.8/site-packages/tensorflow/python/data/util/structure.py:102\u001b[0m, in \u001b[0;36mnormalize_element\u001b[0;34m(element, element_signature)\u001b[0m\n\u001b[1;32m    101\u001b[0m   \u001b[38;5;28;01mif\u001b[39;00m spec \u001b[38;5;129;01mis\u001b[39;00m \u001b[38;5;28;01mNone\u001b[39;00m:\n\u001b[0;32m--> 102\u001b[0m     spec \u001b[38;5;241m=\u001b[39m \u001b[43mtype_spec_from_value\u001b[49m\u001b[43m(\u001b[49m\u001b[43mt\u001b[49m\u001b[43m,\u001b[49m\u001b[43m \u001b[49m\u001b[43muse_fallback\u001b[49m\u001b[38;5;241;43m=\u001b[39;49m\u001b[38;5;28;43;01mFalse\u001b[39;49;00m\u001b[43m)\u001b[49m\n\u001b[1;32m    103\u001b[0m \u001b[38;5;28;01mexcept\u001b[39;00m \u001b[38;5;167;01mTypeError\u001b[39;00m:\n\u001b[1;32m    104\u001b[0m   \u001b[38;5;66;03m# TypeError indicates it was not possible to compute a `TypeSpec` for\u001b[39;00m\n\u001b[1;32m    105\u001b[0m   \u001b[38;5;66;03m# the value. As a fallback try converting the value to a tensor.\u001b[39;00m\n",
      "File \u001b[0;32m~/Wks/AMFtrack/venv/lib/python3.8/site-packages/tensorflow/python/data/util/structure.py:485\u001b[0m, in \u001b[0;36mtype_spec_from_value\u001b[0;34m(element, use_fallback)\u001b[0m\n\u001b[1;32m    482\u001b[0m     logging\u001b[38;5;241m.\u001b[39mvlog(\n\u001b[1;32m    483\u001b[0m         \u001b[38;5;241m3\u001b[39m, \u001b[38;5;124m\"\u001b[39m\u001b[38;5;124mFailed to convert \u001b[39m\u001b[38;5;132;01m%r\u001b[39;00m\u001b[38;5;124m to tensor: \u001b[39m\u001b[38;5;132;01m%s\u001b[39;00m\u001b[38;5;124m\"\u001b[39m \u001b[38;5;241m%\u001b[39m (\u001b[38;5;28mtype\u001b[39m(element)\u001b[38;5;241m.\u001b[39m\u001b[38;5;18m__name__\u001b[39m, e))\n\u001b[0;32m--> 485\u001b[0m \u001b[38;5;28;01mraise\u001b[39;00m \u001b[38;5;167;01mTypeError\u001b[39;00m(\u001b[38;5;124m\"\u001b[39m\u001b[38;5;124mCould not build a `TypeSpec` for \u001b[39m\u001b[38;5;132;01m{}\u001b[39;00m\u001b[38;5;124m with type \u001b[39m\u001b[38;5;132;01m{}\u001b[39;00m\u001b[38;5;124m\"\u001b[39m\u001b[38;5;241m.\u001b[39mformat(\n\u001b[1;32m    486\u001b[0m     element,\n\u001b[1;32m    487\u001b[0m     \u001b[38;5;28mtype\u001b[39m(element)\u001b[38;5;241m.\u001b[39m\u001b[38;5;18m__name__\u001b[39m))\n",
      "\u001b[0;31mTypeError\u001b[0m: Could not build a `TypeSpec` for [[array([129, 129, 130, 130, 128, 130, 130, 128, 130, 128, 129, 131, 129,\n       130, 133, 131, 130, 132, 130, 129, 131, 130, 129, 131, 129, 126,\n       127, 128, 130, 130, 130, 131, 133, 130, 130, 130, 131, 131, 127,\n       131, 128, 128, 126, 125, 129, 127, 126, 125, 121, 116, 107,  92,\n        82,  84,  92, 101, 107, 112, 113, 111, 110, 107, 111, 106, 106,\n       104, 101,  94,  83,  75,  74,  73,  68,  65,  80,  93,  98,  97,\n       101, 106, 107, 107, 110, 112, 112, 108, 107, 108, 109, 111, 114,\n       116, 119, 121, 121, 124, 123, 126, 124, 125, 125, 126, 127, 126,\n       125, 127, 128, 129, 129, 129, 130, 130, 129, 128, 129, 127, 127,\n       126, 125, 126], dtype=uint8), array([7.26221294])], [array([130, 130, 128, 127, 129, 129, 130, 130, 127, 126, 125, 125, 128,\n       129, 129, 130, 130, 132, 131, 130, 130, 130, 128, 126, 128, 128,\n       128, 128, 128, 128, 129, 129, 130, 131, 131, 131, 129, 131, 133,\n       131, 130, 128, 129, 128, 130, 129, 129, 130, 133, 130, 128, 127,\n       129, 133, 130, 133, 134, 134, 134, 134, 134, 135, 136, 137, 138,\n       139, 140, 138, 139, 138, 134, 123, 118, 102,  85,  83,  97, 103,\n       103, 103, 100, 101, 100, 100, 102, 103, 104, 106, 109, 111, 113,\n       115, 117, 119, 118, 119, 120, 125, 124, 126, 127, 127, 128, 131,\n       130, 133, 133, 133, 132, 132, 131, 132, 134, 136, 135, 136, 135,\n       134, 133, 134], dtype=uint8), array([5.93755418])], [array([130, 129, 130, 129, 131, 131, 130, 129, 131, 132, 130, 129, 128,\n       131, 132, 130, 130, 130, 128, 128, 130, 131, 131, 131, 130, 130,\n       129, 130, 132, 130, 130, 132, 131, 134, 133, 131, 131, 133, 132,\n       133, 133, 133, 130, 132, 134, 134, 134, 136, 132, 135, 135, 134,\n       135, 135, 133, 135, 134, 133, 136, 135, 137, 140, 136, 136, 138,\n       139, 139, 140, 139, 139, 134, 125, 116, 104,  91,  91, 105, 105,\n       105, 105, 104, 103, 105, 104, 104, 106, 106, 107, 111, 111, 113,\n       114, 115, 117, 121, 121, 123, 125, 125, 126, 131, 129, 129, 131,\n       132, 129, 133, 132, 132, 135, 136, 138, 136, 133, 135, 135, 136,\n       135, 136, 137], dtype=uint8), array([5.5774322])], [array([140, 139, 138, 137, 136, 137, 138, 138, 137, 135, 138, 137, 137,\n       136, 137, 138, 138, 138, 139, 140, 139, 138, 137, 137, 138, 138,\n       140, 140, 141, 143, 142, 140, 141, 138, 139, 139, 140, 139, 137,\n       140, 139, 140, 139, 140, 139, 136, 135, 135, 135, 136, 136, 135,\n       134, 133, 132, 131, 131, 131, 129, 131, 126, 124, 126, 122, 119,\n       117, 106,  95,  93,  93, 101, 113, 120, 124, 125, 126, 125, 127,\n       129, 128, 130, 133, 132, 132, 134, 136, 137, 135, 134, 133, 134,\n       134, 134, 136, 136, 137, 134, 137, 138, 136, 139, 137, 137, 139,\n       139, 138, 135, 134, 134, 136, 135, 136, 135, 136, 137, 137, 136,\n       135, 135, 139], dtype=uint8), array([4.19787153])], [array([137, 135, 134, 132, 136, 134, 137, 137, 137, 139, 139, 139, 138,\n       139, 141, 141, 139, 140, 140, 138, 139, 137, 137, 137, 138, 139,\n       139, 141, 139, 139, 142, 138, 137, 139, 139, 138, 139, 138, 140,\n       138, 136, 136, 137, 138, 137, 137, 139, 136, 135, 136, 137, 135,\n       134, 134, 133, 133, 134, 130, 131, 134, 136, 137, 133, 132, 131,\n       131, 129, 124, 123, 115, 103,  95,  92,  99, 110, 115, 117, 119,\n       124, 125, 124, 128, 129, 130, 131, 132, 132, 135, 137, 136, 137,\n       138, 137, 138, 139, 140, 138, 138, 140, 141, 141, 141, 141, 141,\n       140, 140, 138, 137, 135, 138, 139, 139, 141, 140, 142, 142, 140,\n       140, 139, 138], dtype=uint8), array([3.7441611])], [array([125, 125, 125, 125, 123, 124, 126, 127, 127, 125, 126, 125, 125,\n       125, 126, 127, 125, 124, 121, 121, 117, 119, 119, 119, 120, 121,\n       121, 124, 123, 125, 125, 126, 127, 125, 124, 126, 127, 126, 125,\n       125, 127, 127, 127, 127, 127, 126, 125, 126, 127, 126, 124, 126,\n       128, 127, 127, 126, 128, 127, 127, 131, 128, 129, 134, 132, 133,\n       132, 133, 134, 135, 131, 128, 120, 105,  89,  82,  92, 104, 106,\n       104, 104, 103, 101, 103, 106, 108, 107, 108, 111, 113, 113, 115,\n       117, 120, 118, 121, 124, 124, 123, 125, 126, 126, 129, 127, 127,\n       128, 130, 127, 128, 129, 126, 127, 129, 128, 128, 127, 126, 129,\n       128, 130, 132], dtype=uint8), array([5.20109506])], [array([119, 118, 116, 117, 118, 117, 116, 116, 117, 118, 119, 120, 121,\n       120, 121, 122, 122, 122, 122, 122, 123, 120, 122, 124, 122, 122,\n       122, 121, 120, 121, 122, 124, 121, 124, 123, 119, 122, 119, 123,\n       123, 122, 123, 120, 123, 122, 123, 121, 122, 120, 121, 122, 124,\n       123, 125, 122, 121, 120, 121, 124, 124, 124, 125, 126, 128, 131,\n       131, 131, 133, 134, 132, 130, 127, 117, 105,  90,  82,  90, 100,\n       103, 103, 101, 100,  99, 100, 100, 100, 100, 102, 104, 103, 108,\n       108, 109, 112, 109, 111, 114, 114, 112, 116, 116, 116, 114, 116,\n       115, 115, 115, 117, 115, 117, 117, 117, 116, 115, 115, 116, 115,\n       114, 115, 113], dtype=uint8), array([4.87914297])], [array([146, 144, 140, 145, 146, 147, 145, 146, 149, 147, 148, 146, 148,\n       145, 145, 145, 145, 145, 147, 150, 148, 147, 147, 146, 146, 149,\n       146, 148, 147, 149, 148, 147, 145, 143, 146, 145, 147, 148, 146,\n       146, 147, 147, 145, 146, 149, 146, 146, 146, 147, 146, 146, 145,\n       145, 144, 143, 145, 145, 147, 146, 147, 147, 146, 144, 147, 146,\n       147, 146, 146, 147, 146, 146, 146, 145, 145, 146, 148, 148, 145,\n       145, 146, 147, 147, 144, 147, 147, 148, 148, 148, 147, 146, 145,\n       146, 147, 145, 145, 147, 148, 146, 146, 147, 147, 145, 147, 146,\n       146, 147, 146, 148, 147, 150, 145, 146, 145, 146, 146, 144, 146,\n       147, 147, 149], dtype=uint8), array([0.])], [array([135, 135, 135, 137, 137, 137, 136, 136, 133, 132, 134, 132, 131,\n       131, 131, 131, 133, 132, 134, 132, 133, 131, 132, 133, 137, 134,\n       133, 136, 133, 133, 136, 133, 135, 134, 137, 138, 136, 136, 137,\n       137, 138, 138, 139, 137, 138, 140, 139, 138, 137, 137, 137, 137,\n       138, 137, 140, 141, 145, 140, 141, 141, 139, 141, 140, 139, 140,\n       139, 133, 125, 110, 108, 112, 116, 111, 100,  93,  94,  95,  92,\n        91,  89,  86,  86,  91,  94,  93,  94,  97,  98,  99,  98, 101,\n       102, 105, 108, 112, 113, 112, 115, 117, 119, 121, 121, 122, 125,\n       126, 128, 131, 132, 135, 132, 132, 134, 137, 139, 137, 137, 136,\n       141, 139, 137], dtype=uint8), array([8.52101685])], [array([134, 131, 130, 132, 135, 132, 132, 133, 133, 133, 132, 134, 134,\n       134, 134, 134, 134, 133, 132, 133, 134, 135, 136, 135, 135, 134,\n       135, 135, 135, 134, 135, 134, 138, 136, 138, 137, 135, 135, 134,\n       137, 133, 135, 139, 136, 136, 136, 137, 141, 143, 140, 138, 138,\n       139, 141, 141, 139, 143, 142, 142, 141, 142, 143, 143, 143, 140,\n       133, 118, 104,  99, 106, 111, 104,  92,  89,  86,  83,  84,  84,\n        84,  86,  88,  91,  88,  87,  89,  91,  95,  97,  98,  98, 101,\n       102, 104, 109, 110, 111, 114, 115, 116, 120, 120, 120, 124, 125,\n       125, 125, 126, 133, 131, 135, 133, 134, 134, 136, 137, 138, 137,\n       137, 138, 140], dtype=uint8), array([8.73503977])], [array([113, 110, 110, 113, 114, 110, 104, 104, 105, 109, 112, 120, 125,\n       126, 128, 133, 135, 137, 135, 135, 137, 137, 135, 135, 134, 135,\n       135, 133, 133, 133, 134, 134, 135, 134, 132, 134, 134, 133, 132,\n       133, 132, 130, 133, 132, 134, 133, 130, 127, 129, 129, 129, 128,\n       127, 129, 127, 125, 124, 124, 123, 124, 121, 121, 122, 120, 120,\n       121, 120, 119, 118, 117, 114, 109, 103, 101,  99, 104, 113, 120,\n       121, 121, 121, 123, 124, 124, 126, 125, 126, 128, 127, 129, 128,\n       129, 129, 129, 131, 129, 128, 131, 132, 131, 130, 129, 129, 131,\n       131, 130, 132, 133, 130, 130, 133, 130, 127, 129, 131, 130, 130,\n       132, 132, 132], dtype=uint8), array([4.59109883])], [array([139, 139, 137, 131, 132, 133, 138, 136, 136, 135, 134, 135, 134,\n       137, 136, 135, 136, 135, 138, 136, 135, 136, 134, 134, 133, 134,\n       133, 132, 133, 133, 133, 133, 131, 131, 131, 131, 129, 131, 128,\n       127, 125, 124, 124, 125, 121, 122, 122, 121, 117, 116, 115, 116,\n       117, 115, 112, 114, 113, 114, 115, 113, 113, 107,  94,  91, 105,\n       115, 123, 130, 134, 134, 135, 135, 134, 135, 134, 134, 133, 135,\n       135, 135, 135, 132, 133, 132, 132, 133, 131, 131, 130, 131, 133,\n       131, 130, 131, 130, 132, 130, 129, 130, 131, 130, 129, 129, 130,\n       126, 125, 127, 125, 126, 127, 125, 125, 127, 124, 122, 124, 127,\n       122, 122, 124], dtype=uint8), array([4.34090199])], [array([132, 132, 131, 131, 132, 132, 132, 132, 131, 132, 132, 131, 132,\n       133, 132, 131, 130, 130, 133, 130, 129, 133, 135, 131, 131, 133,\n       134, 132, 131, 132, 131, 129, 129, 130, 131, 128, 127, 124, 127,\n       126, 126, 125, 123, 123, 121, 119, 119, 121, 119, 117, 116, 117,\n       118, 115, 114, 114, 114, 116, 117, 116, 116, 112, 102, 103, 110,\n       119, 127, 131, 131, 132, 133, 131, 131, 128, 128, 126, 126, 126,\n       124, 123, 124, 125, 125, 125, 126, 125, 126, 124, 128, 127, 126,\n       126, 126, 126, 127, 127, 126, 129, 128, 130, 127, 128, 128, 129,\n       129, 130, 131, 131, 130, 130, 132, 130, 132, 131, 127, 127, 124,\n       123, 126, 126], dtype=uint8), array([4.35067225])], [array([125, 130, 133, 134, 135, 136, 136, 135, 134, 132, 133, 134, 134,\n       134, 133, 131, 131, 130, 132, 133, 134, 133, 134, 134, 132, 132,\n       133, 132, 135, 132, 131, 130, 129, 129, 127, 126, 124, 124, 124,\n       118, 117, 119, 115, 114, 114, 115, 112, 112, 113, 112, 110, 110,\n       113, 114, 113, 113, 112, 114, 113, 105,  93, 101, 111, 122, 129,\n       130, 132, 133, 132, 129, 131, 130, 130, 129, 125, 127, 128, 124,\n       122, 121, 124, 122, 122, 119, 118, 117, 117, 116, 115, 114, 117,\n       114, 104, 102, 108, 121, 125, 130, 131, 130, 130, 128, 125, 122,\n       120, 124, 124, 125, 128, 125, 126, 124, 124, 124, 125, 125, 123,\n       120, 121, 123], dtype=uint8), array([4.18356936])], [array([122, 122, 124, 124, 121, 122, 123, 118, 126, 124, 124, 121, 121,\n       123, 122, 120, 122, 122, 121, 122, 123, 121, 123, 122, 120, 120,\n       122, 120, 121, 121, 122, 123, 123, 122, 121, 123, 123, 121, 121,\n       122, 121, 121, 120, 122, 123, 121, 122, 124, 121, 121, 121, 122,\n       120, 122, 123, 122, 123, 123, 123, 124, 123, 123, 121, 121, 121,\n       123, 123, 121, 121, 120, 121, 115, 106, 100, 100, 101, 103, 108,\n       110, 111, 110, 109, 106, 105, 103, 103, 103, 103, 104, 104, 107,\n       110, 110, 110, 111, 113, 113, 115, 117, 116, 116, 122, 120, 120,\n       120, 121, 121, 122, 122, 122, 123, 125, 124, 122, 122, 125, 124,\n       122, 123, 125], dtype=uint8), array([5.923182])], [array([124, 125, 125, 126, 126, 125, 126, 125, 125, 127, 126, 125, 125,\n       125, 126, 125, 122, 120, 119, 117, 114, 113, 117, 116, 117, 119,\n       119, 121, 124, 123, 118, 114, 109, 102,  99, 103, 110, 116, 118,\n       119, 122, 123, 123, 124, 124, 125, 127, 127, 129, 129, 128, 124,\n       124, 124, 126, 131, 132, 135, 136, 136, 134, 137, 138, 136, 130,\n       122, 114, 116, 116, 102,  87,  77,  74,  71,  70,  72,  73,  75,\n        78,  79,  78,  78,  82,  83,  85,  87,  88,  90,  91,  93,  96,\n        99, 100, 101, 104, 108, 109, 110, 113, 114, 116, 116, 119, 119,\n       121, 122, 123, 124, 125, 124, 126, 127, 124, 128, 125, 126, 128,\n       128, 129, 130], dtype=uint8), array([8.89809448])], [array([122, 122, 122, 122, 124, 123, 123, 123, 122, 119, 119, 117, 118,\n       120, 125, 123, 124, 123, 125, 125, 124, 122, 122, 126, 128, 122,\n       122, 127, 125, 126, 126, 125, 124, 123, 124, 125, 125, 122, 122,\n       126, 124, 123, 124, 124, 121, 123, 125, 125, 124, 123, 121, 122,\n       121, 122, 122, 120, 117, 118, 120, 120, 117, 116, 117, 117, 115,\n       113, 113, 115, 112, 110, 108, 100,  88,  81,  83,  83,  83,  94,\n       105, 111, 111, 110, 113, 114, 114, 115, 114, 116, 119, 122, 122,\n       121, 121, 123, 124, 126, 123, 125, 124, 124, 126, 125, 125, 126,\n       123, 122, 121, 119, 118, 113, 112, 110, 112, 115, 118, 121, 127,\n       124, 124, 122], dtype=uint8), array([4.7800506])], [array([126, 123, 125, 125, 125, 125, 124, 125, 126, 125, 125, 124, 127,\n       125, 123, 124, 125, 124, 125, 125, 123, 124, 125, 124, 123, 125,\n       125, 123, 122, 125, 125, 125, 126, 126, 126, 125, 123, 122, 124,\n       123, 121, 124, 125, 121, 119, 121, 121, 123, 119, 115, 114, 113,\n       114, 114, 113, 111, 109, 109, 108, 108, 108, 107, 106, 105, 106,\n       106, 105, 105, 106, 105, 103,  89,  86,  92,  94,  95, 105, 112,\n       113, 114, 116, 116, 116, 114, 115, 115, 116, 117, 120, 120, 119,\n       118, 122, 122, 120, 121, 122, 122, 120, 121, 123, 122, 122, 122,\n       121, 118, 117, 122, 120, 120, 125, 122, 125, 124, 122, 124, 123,\n       126, 123, 121], dtype=uint8), array([5.29939395])], [array([124, 127, 123, 125, 125, 123, 125, 122, 123, 121, 127, 124, 123,\n       125, 124, 126, 126, 124, 124, 122, 125, 124, 123, 121, 122, 123,\n       119, 124, 123, 122, 122, 123, 119, 124, 125, 122, 120, 123, 123,\n       122, 120, 119, 121, 122, 124, 123, 120, 117, 121, 120, 121, 120,\n       118, 121, 116, 117, 117, 117, 114, 117, 115, 116, 117, 116, 113,\n       114, 115, 114, 113, 112, 112,  98,  96,  91,  95,  94,  98, 107,\n       110, 109, 110, 107, 114, 111, 107, 113, 113, 112, 112, 113, 116,\n       116, 119, 117, 115, 120, 120, 119, 119, 119, 118, 121, 120, 121,\n       120, 123, 118, 122, 120, 124, 123, 119, 123, 120, 122, 125, 120,\n       120, 122, 121], dtype=uint8), array([5.08347615])], [array([153, 153, 154, 154, 155, 153, 153, 155, 153, 156, 155, 153, 153,\n       155, 153, 152, 151, 151, 152, 153, 156, 154, 153, 152, 150, 152,\n       154, 155, 151, 156, 155, 156, 155, 153, 153, 153, 153, 152, 151,\n       153, 150, 150, 150, 151, 149, 147, 145, 144, 142, 140, 130, 106,\n        85,  93, 107,  98,  78,  69,  81,  98, 104, 105, 107, 111, 114,\n       116, 121, 124, 127, 128, 129, 133, 136, 139, 141, 142, 145, 143,\n       149, 146, 150, 149, 149, 151, 149, 148, 152, 149, 152, 151, 152,\n       153, 152, 153, 153, 153, 153, 151, 156, 154, 155, 154, 154, 154,\n       153, 153, 156, 155, 156, 154, 153, 153, 153, 153, 159, 157, 151,\n       153, 153, 152], dtype=uint8), array([8.36581426])], [array([151, 151, 152, 151, 153, 153, 150, 153, 148, 150, 148, 146, 146,\n       148, 148, 144, 144, 140, 139, 137, 139, 137, 129, 121, 121, 123,\n       131, 138, 146, 145, 147, 147, 147, 147, 149, 147, 147, 149, 148,\n       146, 145, 146, 147, 146, 144, 139, 139, 140, 136, 132, 128, 126,\n       125, 121, 118, 117, 112, 110, 107, 110, 114, 116, 112,  99,  83,\n        83, 100, 108,  99,  93, 106, 127, 137, 140, 144, 143, 146, 147,\n       147, 148, 150, 153, 151, 149, 149, 150, 150, 150, 151, 151, 153,\n       153, 151, 153, 151, 153, 153, 153, 153, 153, 150, 154, 149, 154,\n       155, 153, 153, 153, 153, 153, 154, 154, 152, 153, 152, 151, 152,\n       153, 154, 150], dtype=uint8), array([8.89809448])], [array([153, 152, 151, 152, 152, 152, 153, 152, 152, 154, 153, 152, 150,\n       151, 155, 152, 149, 147, 148, 148, 150, 154, 150, 150, 153, 152,\n       152, 151, 151, 147, 153, 151, 151, 152, 149, 152, 154, 150, 151,\n       151, 151, 150, 150, 150, 149, 152, 151, 151, 150, 153, 153, 152,\n       153, 154, 154, 154, 154, 152, 152, 152, 151, 154, 154, 152, 151,\n       148, 150, 150, 148, 144, 132, 118, 111, 107, 104, 116, 127, 133,\n       134, 138, 144, 143, 141, 146, 146, 148, 147, 150, 150, 150, 151,\n       152, 152, 150, 150, 150, 151, 150, 150, 149, 150, 151, 152, 151,\n       150, 150, 150, 151, 152, 154, 153, 152, 152, 150, 148, 151, 153,\n       152, 152, 152], dtype=uint8), array([4.7800506])], [array([153, 153, 152, 153, 155, 152, 155, 153, 153, 154, 153, 151, 151,\n       150, 151, 153, 152, 150, 154, 154, 151, 152, 151, 152, 151, 150,\n       155, 155, 152, 153, 152, 152, 155, 155, 154, 154, 154, 153, 152,\n       151, 151, 151, 152, 152, 155, 149, 152, 153, 154, 149, 155, 153,\n       155, 154, 155, 154, 155, 153, 153, 153, 154, 155, 154, 150, 150,\n       151, 148, 146, 140, 124, 107, 112, 108,  96, 108, 129, 136, 137,\n       139, 141, 139, 142, 144, 143, 145, 147, 147, 148, 151, 149, 147,\n       149, 152, 152, 152, 149, 150, 148, 144, 142, 138, 143, 144, 152,\n       151, 151, 149, 152, 155, 153, 152, 153, 152, 150, 150, 152, 152,\n       152, 154, 155], dtype=uint8), array([5.29939395])], [array([148, 147, 145, 146, 145, 145, 147, 149, 149, 147, 148, 148, 147,\n       148, 149, 148, 148, 148, 150, 150, 149, 150, 150, 149, 148, 150,\n       151, 149, 150, 150, 148, 148, 149, 148, 149, 151, 151, 150, 149,\n       151, 151, 149, 150, 150, 151, 149, 150, 150, 152, 149, 148, 151,\n       153, 152, 149, 150, 152, 152, 150, 152, 150, 150, 152, 150, 150,\n       147, 147, 148, 146, 144, 137, 122, 112, 108, 104, 118, 132, 134,\n       137, 138, 146, 142, 147, 143, 148, 151, 147, 150, 149, 151, 151,\n       151, 152, 152, 154, 152, 155, 155, 155, 154, 153, 152, 151, 152,\n       150, 152, 153, 154, 156, 152, 154, 156, 155, 154, 153, 152, 151,\n       153, 154, 151], dtype=uint8), array([5.08347615])], [array([149, 148, 147, 147, 148, 148, 147, 145, 149, 150, 148, 147, 150,\n       151, 148, 148, 149, 148, 148, 150, 150, 150, 152, 152, 150, 149,\n       149, 149, 150, 151, 150, 149, 149, 150, 150, 152, 152, 151, 150,\n       152, 152, 152, 149, 151, 150, 150, 150, 149, 150, 151, 150, 150,\n       149, 150, 152, 153, 151, 151, 152, 151, 150, 147, 148, 150, 149,\n       148, 146, 145, 143, 136, 123, 114, 114, 115, 120, 132, 135, 136,\n       137, 140, 141, 142, 143, 144, 146, 147, 148, 149, 148, 147, 151,\n       152, 151, 151, 151, 152, 154, 149, 150, 151, 152, 152, 152, 152,\n       153, 153, 152, 152, 152, 150, 149, 153, 153, 152, 150, 150, 152,\n       150, 153, 151], dtype=uint8), array([5.923182])], [array([149, 148, 150, 149, 143, 140, 140, 135, 130, 123, 119, 119, 120,\n       127, 127, 128, 126, 126, 127, 128, 129, 132, 129, 130, 133, 132,\n       133, 135, 135, 137, 137, 138, 140, 140, 142, 142, 141, 144, 144,\n       144, 145, 144, 146, 148, 145, 146, 149, 150, 150, 148, 149, 150,\n       150, 146, 148, 149, 149, 151, 152, 152, 151, 151, 148, 149, 151,\n       151, 151, 150, 147, 139, 130, 122, 114, 112, 118, 125, 126, 127,\n       130, 130, 133, 131, 135, 134, 138, 140, 141, 141, 145, 146, 146,\n       146, 147, 146, 148, 149, 149, 149, 148, 150, 148, 148, 150, 151,\n       152, 151, 149, 152, 151, 150, 151, 152, 149, 149, 152, 149, 151,\n       150, 148, 150], dtype=uint8), array([4.59109883])], [array([145, 144, 146, 148, 148, 149, 147, 147, 149, 151, 147, 150, 152,\n       149, 150, 150, 149, 149, 148, 149, 148, 145, 146, 149, 151, 150,\n       148, 147, 149, 148, 150, 150, 149, 147, 149, 150, 146, 146, 148,\n       147, 148, 147, 147, 148, 148, 151, 150, 147, 150, 150, 149, 149,\n       149, 148, 147, 148, 148, 148, 147, 144, 141, 138, 133, 126, 121,\n       119, 123, 128, 128, 127, 126, 128, 131, 131, 129, 132, 133, 135,\n       138, 134, 138, 139, 141, 142, 142, 141, 143, 143, 144, 146, 146,\n       146, 145, 149, 148, 146, 146, 147, 149, 151, 150, 151, 148, 147,\n       148, 150, 149, 149, 148, 148, 149, 151, 152, 150, 149, 151, 153,\n       150, 151, 150], dtype=uint8), array([4.34090199])], [array([147, 147, 147, 147, 147, 147, 148, 148, 151, 152, 148, 145, 149,\n       149, 146, 148, 147, 147, 148, 146, 148, 148, 151, 149, 147, 148,\n       146, 146, 148, 146, 146, 146, 144, 145, 145, 143, 143, 144, 140,\n       139, 136, 139, 138, 138, 135, 133, 127, 119, 104,  99, 104, 102,\n        90,  72,  75,  89,  99,  99,  99,  99, 101, 101, 105, 106, 109,\n       112, 114, 113, 121, 122, 124, 127, 130, 131, 133, 135, 138, 139,\n       138, 143, 142, 142, 145, 145, 146, 145, 145, 149, 150, 148, 149,\n       148, 149, 150, 148, 149, 148, 148, 150, 148, 149, 146, 147, 148,\n       149, 146, 147, 148, 146, 146, 146, 144, 143, 147, 146, 145, 146,\n       147, 147, 146], dtype=uint8), array([8.52101685])], [array([149, 148, 149, 149, 148, 149, 148, 150, 148, 148, 149, 149, 147,\n       149, 151, 150, 151, 151, 149, 149, 150, 152, 150, 148, 149, 151,\n       150, 147, 148, 148, 149, 149, 151, 151, 151, 148, 147, 148, 146,\n       146, 145, 144, 145, 142, 141, 139, 138, 137, 132, 116, 102, 105,\n       115, 114,  96,  81,  83,  96, 102, 102,  98,  99, 101, 101, 102,\n       105, 107, 109, 112, 117, 119, 120, 125, 126, 126, 126, 131, 133,\n       134, 135, 137, 139, 140, 140, 142, 142, 143, 144, 145, 147, 146,\n       147, 145, 148, 148, 148, 147, 149, 150, 145, 150, 149, 150, 148,\n       149, 147, 150, 148, 148, 148, 149, 147, 147, 149, 148, 148, 149,\n       150, 149, 148], dtype=uint8), array([8.73503977])], [array([148, 148, 147, 147, 147, 148, 148, 148, 146, 149, 148, 147, 148,\n       147, 147, 146, 148, 148, 148, 150, 148, 149, 150, 148, 148, 147,\n       146, 147, 148, 148, 146, 148, 148, 150, 148, 149, 149, 145, 148,\n       147, 147, 149, 150, 149, 147, 148, 149, 148, 146, 147, 148, 148,\n       150, 150, 149, 146, 146, 143, 137, 129, 121, 116, 111, 115, 122,\n       123, 125, 123, 123, 122, 123, 126, 129, 130, 132, 133, 135, 138,\n       140, 138, 141, 144, 146, 146, 146, 146, 146, 145, 146, 150, 148,\n       151, 150, 146, 151, 147, 147, 144, 142, 136, 128, 120, 124, 127,\n       129, 128, 128, 127, 128, 132, 132, 132, 135, 136, 138, 139, 142,\n       145, 140, 142], dtype=uint8), array([4.18356936])], [array([149, 149, 148, 147, 145, 148, 149, 147, 147, 148, 146, 146, 149,\n       151, 149, 148, 147, 147, 148, 148, 148, 151, 151, 149, 149, 149,\n       149, 149, 150, 145, 148, 149, 150, 148, 149, 147, 147, 147, 147,\n       147, 148, 147, 147, 151, 150, 146, 148, 151, 151, 149, 147, 149,\n       150, 150, 150, 148, 150, 150, 149, 149, 146, 144, 139, 132, 123,\n       118, 121, 127, 128, 127, 128, 127, 126, 128, 129, 128, 130, 133,\n       133, 135, 138, 139, 140, 141, 144, 141, 146, 146, 147, 146, 146,\n       146, 146, 147, 147, 150, 151, 149, 149, 149, 150, 148, 147, 149,\n       150, 151, 151, 149, 151, 148, 144, 145, 144, 143, 141, 143, 144,\n       141, 141, 143], dtype=uint8), array([4.35067225])], [array([133, 135, 131, 131, 131, 132, 133, 133, 134, 134, 135, 136, 136,\n       135, 136, 133, 130, 132, 132, 134, 133, 133, 133, 135, 133, 134,\n       133, 134, 135, 135, 134, 134, 135, 134, 134, 136, 136, 134, 134,\n       133, 132, 132, 136, 134, 134, 133, 131, 134, 135, 133, 133, 134,\n       134, 134, 136, 135, 134, 131, 133, 132, 134, 134, 134, 134, 133,\n       133, 132, 132, 134, 132, 129, 130, 133, 133, 131, 127, 128, 131,\n       130, 131, 132, 132, 131, 131, 132, 131, 131, 134, 132, 130, 131,\n       131, 130, 131, 131, 131, 130, 131, 130, 129, 129, 128, 130, 132,\n       131, 129, 131, 131, 130, 132, 132, 130, 131, 131, 128, 130, 128,\n       125, 129, 130], dtype=uint8), array([0.])], [array([140, 143, 142, 140, 141, 141, 142, 139, 140, 140, 140, 140, 142,\n       142, 140, 141, 139, 139, 137, 140, 141, 143, 139, 140, 140, 141,\n       140, 142, 142, 141, 140, 140, 140, 142, 142, 144, 144, 140, 139,\n       138, 141, 139, 141, 140, 138, 139, 137, 138, 140, 141, 137, 139,\n       139, 140, 140, 140, 140, 139, 140, 141, 137, 140, 140, 142, 141,\n       143, 141, 143, 143, 142, 141, 140, 137, 129, 118, 109, 102,  96,\n       100, 110, 116, 118, 119, 118, 117, 117, 117, 118, 116, 119, 120,\n       121, 122, 126, 126, 129, 127, 128, 131, 133, 135, 134, 136, 135,\n       137, 137, 136, 137, 136, 139, 140, 141, 140, 140, 140, 141, 140,\n       142, 140, 141], dtype=uint8), array([4.75818342])], [array([140, 142, 142, 141, 139, 141, 144, 143, 143, 140, 139, 140, 139,\n       139, 139, 141, 140, 140, 140, 141, 141, 139, 138, 139, 139, 138,\n       136, 141, 138, 137, 135, 134, 133, 133, 133, 131, 131, 129, 127,\n       124, 125, 123, 123, 122, 122, 120, 122, 122, 120, 120, 121, 120,\n       121, 123, 123, 121, 120, 116, 113, 119, 127, 134, 138, 142, 141,\n       140, 140, 142, 141, 142, 141, 141, 141, 139, 142, 140, 140, 141,\n       142, 139, 140, 141, 140, 140, 141, 141, 141, 137, 139, 140, 138,\n       138, 139, 138, 137, 136, 136, 135, 134, 134, 136, 136, 136, 137,\n       137, 135, 137, 136, 135, 137, 138, 139, 136, 139, 139, 136, 139,\n       140, 140, 141], dtype=uint8), array([3.84824603])], [array([140, 137, 140, 140, 140, 140, 140, 139, 140, 139, 138, 138, 138,\n       138, 138, 138, 139, 139, 135, 137, 137, 136, 136, 136, 137, 135,\n       137, 136, 136, 138, 134, 133, 135, 135, 134, 134, 135, 135, 135,\n       132, 133, 135, 133, 135, 132, 133, 129, 129, 128, 126, 127, 124,\n       123, 122, 123, 120, 120, 120, 118, 116, 115, 114, 113, 113, 112,\n       112, 115, 111, 105,  95,  91,  94, 101, 106, 115, 125, 131, 132,\n       133, 132, 135, 134, 135, 134, 134, 135, 134, 136, 136, 135, 135,\n       133, 133, 131, 132, 132, 130, 131, 127, 125, 122, 117, 113, 111,\n       109, 110, 113, 120, 124, 126, 130, 133, 132, 134, 131, 133, 135,\n       134, 136, 135], dtype=uint8), array([5.52762087])], [array([138, 140, 139, 139, 140, 138, 137, 139, 141, 142, 140, 138, 142,\n       141, 138, 136, 136, 138, 140, 136, 138, 136, 136, 136, 135, 136,\n       134, 134, 132, 131, 133, 133, 127, 127, 123, 123, 119, 121, 124,\n       118, 115, 114, 113, 115, 111, 107, 108, 108, 107, 108, 111, 113,\n       113, 113, 113, 109, 101,  98, 104, 113, 118, 124, 132, 137, 139,\n       141, 140, 137, 139, 141, 139, 138, 139, 139, 138, 139, 138, 137,\n       137, 138, 137, 134, 135, 135, 137, 137, 136, 135, 134, 135, 134,\n       134, 136, 134, 135, 138, 135, 134, 136, 134, 134, 135, 133, 136,\n       135, 135, 134, 132, 134, 132, 130, 131, 132, 130, 129, 130, 129,\n       128, 128, 127], dtype=uint8), array([5.24173503])], [array([134, 135, 134, 134, 135, 135, 134, 136, 132, 132, 132, 132, 132,\n       132, 131, 133, 132, 130, 130, 132, 130, 129, 126, 128, 127, 126,\n       126, 128, 124, 123, 120, 122, 116, 113, 115, 117, 114, 114, 116,\n       111, 112, 113, 110, 112, 109, 114, 113, 117, 117, 115, 117, 115,\n       116, 114, 110, 107, 109, 118, 125, 132, 135, 135, 133, 134, 134,\n       130, 131, 131, 130, 128, 131, 130, 130, 129, 128, 128, 128, 131,\n       132, 131, 130, 132, 131, 127, 127, 127, 128, 130, 129, 128, 131,\n       131, 128, 128, 127, 128, 128, 127, 129, 129, 130, 129, 127, 127,\n       127, 129, 131, 130, 130, 130, 131, 131, 131, 130, 131, 131, 130,\n       129, 128, 129], dtype=uint8), array([3.48806279])], [array([128, 130, 132, 129, 130, 129, 127, 128, 132, 131, 130, 131, 129,\n       128, 130, 129, 126, 129, 128, 127, 129, 130, 130, 128, 128, 129,\n       128, 129, 129, 131, 129, 127, 129, 131, 128, 131, 131, 130, 128,\n       129, 129, 127, 128, 127, 128, 126, 127, 130, 129, 131, 130, 129,\n       125, 126, 127, 129, 128, 127, 126, 124, 126, 126, 125, 122, 122,\n       123, 124, 123, 121, 122, 121, 122, 119, 117, 115, 107,  98,  95,\n        89,  88,  98, 109, 109, 111, 110, 112, 111, 112, 110, 111, 111,\n       110, 113, 114, 115, 113, 114, 114, 111, 113, 111, 114, 112, 112,\n       111, 110, 111, 111, 112, 111, 112, 109, 111, 111, 111, 110, 110,\n       105,  95,  88], dtype=uint8), array([4.68352392])], [array([131, 129, 129, 128, 130, 129, 128, 128, 129, 129, 130, 131, 129,\n       131, 129, 128, 129, 129, 126, 126, 126, 125, 125, 126, 124, 126,\n       124, 123, 123, 122, 122, 120, 117, 116, 116, 116, 114, 114, 114,\n       110, 100,  91,  89,  92,  94, 100, 109, 115, 115, 115, 117, 118,\n       118, 116, 115, 116, 117, 116, 115, 118, 118, 115, 117, 115, 118,\n       117, 118, 117, 116, 115, 116, 109,  99,  94,  92,  98, 106, 115,\n       122, 123, 123, 124, 126, 125, 127, 129, 131, 129, 129, 132, 130,\n       129, 128, 130, 128, 129, 128, 128, 128, 129, 130, 129, 128, 129,\n       127, 127, 129, 128, 128, 127, 127, 129, 129, 129, 129, 129, 129,\n       130, 129, 129], dtype=uint8), array([4.45399496])], [array([143, 143, 141, 142, 143, 142, 140, 140, 140, 141, 141, 140, 142,\n       141, 141, 144, 142, 141, 144, 144, 142, 143, 143, 141, 142, 139,\n       139, 141, 140, 140, 141, 142, 143, 144, 141, 141, 142, 140, 140,\n       141, 140, 140, 139, 136, 139, 142, 139, 138, 141, 142, 142, 141,\n       139, 139, 139, 142, 140, 138, 140, 140, 139, 137, 140, 138, 141,\n       141, 140, 140, 142, 139, 139, 141, 139, 138, 140, 140, 141, 139,\n       138, 140, 140, 139, 140, 141, 140, 141, 141, 139, 139, 140, 141,\n       139, 137, 139, 141, 141, 138, 136, 137, 139, 141, 139, 139, 140,\n       137, 140, 142, 141, 139, 140, 139, 141, 137, 137, 138, 140, 138,\n       138, 140, 140], dtype=uint8), array([0.])], [array([151, 152, 153, 152, 150, 151, 153, 154, 151, 154, 152, 153, 153,\n       150, 152, 153, 153, 151, 150, 152, 152, 154, 152, 149, 151, 153,\n       150, 152, 153, 152, 154, 152, 150, 153, 152, 149, 148, 151, 152,\n       152, 152, 156, 153, 155, 151, 151, 151, 152, 152, 153, 154, 151,\n       150, 146, 145, 144, 145, 145, 143, 139, 139, 139, 137, 133, 125,\n       113, 102,  98,  99,  97,  87,  82,  87,  98, 106, 108, 108, 113,\n       118, 120, 124, 124, 128, 132, 134, 137, 139, 141, 143, 145, 142,\n       146, 147, 147, 150, 149, 149, 149, 150, 151, 151, 150, 151, 150,\n       151, 153, 152, 151, 153, 152, 151, 150, 152, 150, 151, 153, 153,\n       153, 150, 154], dtype=uint8), array([8.71474618])], [array([152, 153, 153, 151, 154, 152, 151, 155, 153, 154, 159, 153, 153,\n       150, 153, 153, 153, 152, 152, 154, 154, 152, 152, 152, 151, 152,\n       152, 153, 152, 152, 151, 153, 152, 152, 155, 154, 152, 152, 149,\n       152, 152, 150, 147, 149, 150, 150, 151, 152, 149, 152, 150, 147,\n       146, 148, 147, 145, 146, 144, 143, 144, 142, 139, 138, 136, 132,\n       126, 113,  95,  77,  72,  82,  97, 101,  93,  91,  99, 112, 119,\n       120, 123, 125, 127, 128, 130, 136, 136, 138, 140, 142, 141, 142,\n       144, 148, 148, 146, 147, 147, 150, 149, 150, 150, 151, 151, 150,\n       150, 149, 149, 150, 151, 149, 148, 152, 152, 154, 151, 152, 155,\n       152, 151, 152], dtype=uint8), array([9.02551505])], [array([125, 125, 129, 130, 132, 132, 134, 132, 133, 132, 134, 136, 136,\n       139, 138, 141, 142, 140, 140, 140, 141, 143, 143, 146, 145, 145,\n       148, 146, 148, 150, 147, 146, 147, 147, 146, 147, 145, 148, 148,\n       148, 147, 147, 148, 141, 141, 135, 120, 104,  96,  93,  85,  79,\n        83,  93, 100, 104, 104, 108, 112, 115, 119, 122, 126, 128, 130,\n       133, 139, 138, 139, 139, 142, 145, 145, 149, 145, 146, 152, 151,\n       149, 151, 151, 150, 149, 150, 154, 153, 151, 152, 152, 152, 152,\n       150, 153, 153, 151, 151, 152, 150, 150, 147, 153, 152, 151, 151,\n       152, 152, 155, 154, 153, 151, 150, 152, 150, 151, 152, 151, 150,\n       150, 153, 151], dtype=uint8), array([7.32964192])], [array([154, 152, 153, 151, 154, 157, 154, 154, 156, 154, 154, 154, 154,\n       152, 155, 157, 154, 154, 155, 154, 156, 155, 156, 155, 155, 155,\n       152, 156, 152, 153, 154, 155, 154, 153, 150, 150, 148, 142, 143,\n       144, 144, 146, 150, 149, 150, 150, 152, 153, 153, 151, 151, 151,\n       150, 150, 147, 148, 149, 149, 145, 144, 142, 141, 133, 122, 115,\n       112, 109, 112, 121, 126, 128, 133, 133, 138, 140, 140, 141, 144,\n       145, 145, 148, 149, 150, 154, 155, 155, 154, 154, 155, 153, 153,\n       152, 153, 153, 156, 153, 157, 149, 152, 153, 155, 154, 153, 155,\n       155, 154, 155, 155, 158, 155, 154, 153, 154, 151, 153, 155, 155,\n       154, 153, 154], dtype=uint8), array([4.88385177])], [array([152, 151, 150, 151, 150, 153, 150, 150, 153, 150, 152, 151, 151,\n       149, 149, 150, 151, 154, 150, 150, 151, 151, 151, 153, 152, 153,\n       152, 152, 153, 151, 149, 151, 151, 150, 149, 146, 148, 144, 144,\n       138, 135, 137, 139, 142, 147, 149, 149, 148, 148, 144, 146, 146,\n       146, 142, 138, 138, 134, 131, 130, 131, 131, 134, 132, 131, 126,\n       126, 125, 123, 119, 105,  85,  81,  88,  93,  96, 102, 125, 136,\n       138, 139, 141, 144, 144, 146, 148, 149, 149, 146, 146, 151, 149,\n       149, 150, 149, 150, 153, 154, 151, 152, 151, 149, 151, 152, 154,\n       153, 152, 149, 151, 151, 151, 152, 153, 154, 153, 153, 152, 153,\n       153, 153, 153], dtype=uint8), array([6.54541434])], [array([147, 146, 145, 144, 144, 140, 140, 141, 139, 139, 139, 140, 140,\n       135, 133, 133, 130, 127, 123, 115, 110, 105, 106, 111, 121, 129,\n       132, 134, 135, 134, 130, 120, 112, 106, 103, 109, 114, 119, 121,\n       121, 121, 125, 127, 133, 137, 144, 147, 145, 147, 147, 148, 149,\n       148, 148, 149, 149, 147, 147, 148, 145, 144, 144, 141, 141, 140,\n       137, 137, 135, 130, 121, 103,  91,  95,  99,  94,  97, 112, 129,\n       137, 138, 142, 144, 145, 147, 147, 148, 148, 149, 149, 152, 150,\n       154, 153, 154, 153, 151, 153, 151, 153, 155, 157, 154, 153, 155,\n       152, 153, 152, 153, 151, 151, 153, 152, 152, 153, 152, 150, 147,\n       150, 154, 153], dtype=uint8), array([7.03218657])], [array([139, 139, 140, 139, 135, 135, 134, 128, 120, 114, 103, 100, 101,\n       102,  99,  97, 102, 111, 118, 124, 130, 136, 139, 140, 143, 141,\n       142, 142, 142, 145, 142, 146, 145, 145, 146, 148, 150, 149, 149,\n       151, 152, 149, 147, 150, 150, 151, 148, 147, 147, 147, 149, 146,\n       146, 144, 143, 140, 139, 139, 135, 131, 127, 126, 124, 120, 121,\n       120, 119, 115, 105,  91,  90,  95, 100,  95, 103, 121, 134, 140,\n       139, 143, 145, 145, 146, 148, 150, 150, 151, 150, 151, 152, 153,\n       153, 151, 154, 154, 155, 157, 156, 156, 152, 154, 154, 153, 154,\n       154, 153, 152, 153, 152, 153, 154, 153, 154, 153, 154, 151, 150,\n       153, 152, 152], dtype=uint8), array([6.38074043])], [array([146, 141, 143, 146, 145, 143, 146, 146, 145, 145, 145, 146, 144,\n       145, 148, 149, 148, 147, 148, 149, 148, 148, 148, 149, 149, 150,\n       149, 149, 149, 146, 147, 148, 147, 147, 147, 148, 150, 152, 151,\n       150, 152, 152, 149, 148, 147, 148, 147, 146, 151, 150, 150, 147,\n       147, 148, 148, 144, 145, 147, 145, 143, 143, 139, 134, 133, 137,\n       141, 143, 143, 142, 143, 145, 140, 138, 135, 126, 111, 103, 105,\n       108, 114, 125, 138, 147, 146, 151, 149, 150, 149, 146, 150, 149,\n       149, 150, 152, 151, 151, 153, 153, 152, 150, 151, 153, 155, 154,\n       152, 153, 153, 153, 152, 150, 151, 152, 152, 152, 152, 153, 152,\n       152, 152, 152], dtype=uint8), array([5.54238319])], [array([154, 153, 154, 153, 152, 154, 154, 152, 153, 154, 155, 155, 154,\n       157, 156, 154, 152, 154, 155, 155, 152, 153, 153, 154, 152, 151,\n       148, 150, 154, 150, 149, 149, 148, 149, 150, 148, 146, 147, 144,\n       142, 141, 139, 140, 136, 135, 136, 135, 137, 136, 133, 130, 132,\n       135, 140, 143, 148, 146, 143, 145, 146, 147, 148, 149, 148, 146,\n       145, 144, 143, 142, 141, 139, 138, 136, 133, 130, 125, 123, 120,\n       119, 121, 125, 134, 145, 149, 151, 150, 150, 152, 151, 153, 153,\n       153, 149, 150, 151, 149, 146, 148, 144, 143, 145, 146, 141, 143,\n       145, 145, 148, 147, 146, 148, 151, 152, 150, 153, 152, 150, 152,\n       154, 153, 153], dtype=uint8), array([4.58639866])], [array([154, 154, 157, 156, 156, 154, 152, 157, 156, 156, 156, 156, 157,\n       155, 155, 156, 156, 156, 155, 154, 155, 155, 155, 155, 155, 154,\n       155, 155, 154, 155, 154, 154, 152, 154, 155, 155, 155, 154, 154,\n       153, 156, 155, 154, 154, 153, 151, 151, 151, 150, 149, 146, 140,\n       134, 127, 118, 106,  98, 101, 111, 123, 123, 124, 124, 127, 124,\n       128, 132, 136, 138, 140, 141, 144, 149, 149, 149, 151, 150, 150,\n       153, 155, 154, 155, 156, 157, 156, 157, 157, 154, 156, 156, 157,\n       155, 157, 158, 156, 155, 156, 157, 157, 155, 155, 156, 156, 156,\n       157, 158, 158, 158, 156, 156, 155, 156, 155, 155, 155, 157, 152,\n       152, 154, 155], dtype=uint8), array([5.4984222])], [array([143, 142, 140, 136, 141, 138, 135, 125, 110,  99,  89,  85,  79,\n        79,  81,  84,  93, 101, 109, 116, 120, 124, 126, 124, 124, 129,\n       133, 136, 139, 143, 143, 144, 144, 144, 142, 145, 147, 146, 145,\n       145, 145, 147, 144, 147, 150, 145, 146, 147, 148, 148, 148, 148,\n       148, 149, 148, 147, 146, 145, 147, 146, 145, 146, 146, 144, 140,\n       134, 124, 112, 108, 109, 106,  95,  85,  84,  91, 101, 104, 107,\n       108, 112, 114, 117, 121, 123, 127, 130, 133, 135, 139, 141, 141,\n       141, 144, 145, 149, 151, 149, 151, 151, 151, 150, 149, 151, 151,\n       149, 149, 150, 152, 152, 155, 154, 154, 152, 153, 151, 154, 152,\n       151, 152, 151], dtype=uint8), array([8.81468908])], [array([155, 154, 152, 152, 152, 153, 154, 154, 153, 150, 152, 153, 152,\n       153, 152, 152, 152, 153, 152, 152, 153, 154, 151, 151, 153, 153,\n       153, 155, 154, 153, 153, 153, 153, 153, 152, 151, 150, 153, 154,\n       152, 153, 152, 155, 155, 155, 155, 151, 150, 152, 150, 152, 153,\n       150, 152, 152, 151, 152, 148, 149, 150, 148, 149, 148, 148, 145,\n       146, 144, 147, 144, 143, 143, 142, 142, 140, 135, 127, 108,  83,\n        76,  76,  83, 105, 130, 137, 142, 144, 145, 146, 148, 148, 148,\n       149, 150, 150, 154, 152, 150, 152, 152, 151, 154, 152, 153, 153,\n       153, 151, 153, 152, 155, 151, 151, 149, 152, 153, 152, 153, 149,\n       151, 155, 153], dtype=uint8), array([5.09065576])], [array([132, 133, 132, 133, 134, 131, 131, 134, 134, 132, 132, 131, 134,\n       135, 133, 134, 133, 133, 131, 132, 131, 135, 133, 133, 134, 136,\n       136, 135, 133, 133, 134, 133, 132, 132, 134, 134, 132, 135, 134,\n       135, 134, 134, 136, 135, 133, 133, 136, 134, 134, 131, 132, 132,\n       132, 136, 132, 131, 134, 134, 132, 135, 136, 134, 135, 137, 135,\n       136, 136, 135, 135, 139, 136, 136, 138, 137, 137, 138, 137, 136,\n       136, 137, 137, 136, 136, 136, 135, 137, 137, 136, 137, 134, 135,\n       134, 134, 133, 135, 132, 133, 133, 134, 136, 137, 135, 133, 137,\n       137, 135, 134, 135, 135, 135, 135, 135, 135, 136, 136, 136, 137,\n       136, 136, 135], dtype=uint8), array([0.])], [array([148, 149, 149, 149, 149, 148, 149, 149, 149, 149, 150, 150, 148,\n       148, 148, 148, 150, 150, 147, 147, 148, 146, 148, 148, 149, 145,\n       146, 148, 149, 150, 148, 149, 149, 151, 151, 150, 149, 146, 148,\n       148, 152, 149, 146, 146, 147, 147, 148, 150, 150, 152, 151, 150,\n       147, 149, 149, 148, 148, 148, 149, 146, 144, 146, 141, 127, 114,\n       103,  93,  90,  99, 114, 121, 123, 124, 126, 125, 127, 128, 131,\n       133, 135, 136, 136, 137, 139, 141, 143, 144, 143, 144, 144, 146,\n       147, 146, 147, 149, 147, 148, 148, 145, 147, 147, 147, 148, 149,\n       147, 147, 147, 152, 148, 147, 148, 146, 145, 140, 137, 131, 124,\n       115, 114, 122], dtype=uint8), array([4.42544194])], [array([146, 147, 148, 147, 149, 147, 148, 149, 148, 150, 149, 148, 147,\n       149, 149, 148, 148, 149, 148, 148, 148, 150, 150, 148, 146, 149,\n       151, 151, 149, 150, 151, 148, 149, 148, 151, 150, 150, 149, 150,\n       149, 148, 149, 148, 148, 147, 144, 141, 135, 125, 119, 114, 109,\n       111, 120, 130, 132, 134, 137, 140, 141, 144, 143, 144, 147, 146,\n       145, 146, 148, 146, 145, 141, 135, 126, 114, 100,  98, 107, 120,\n       124, 124, 123, 122, 124, 125, 126, 129, 129, 132, 132, 137, 138,\n       138, 142, 143, 145, 146, 145, 143, 144, 144, 150, 147, 146, 146,\n       150, 149, 150, 151, 151, 150, 150, 150, 149, 148, 149, 150, 150,\n       149, 149, 149], dtype=uint8), array([4.45399496])], [array([130, 131, 132, 133, 134, 134, 134, 133, 135, 135, 135, 138, 136,\n       137, 134, 138, 138, 142, 140, 141, 142, 145, 144, 143, 143, 144,\n       144, 142, 143, 143, 145, 145, 145, 146, 146, 147, 149, 147, 150,\n       150, 146, 147, 147, 147, 147, 147, 147, 147, 147, 147, 147, 148,\n       148, 149, 149, 148, 149, 150, 149, 149, 151, 149, 147, 146, 148,\n       148, 148, 149, 148, 150, 148, 148, 148, 145, 145, 142, 130, 118,\n       108,  95,  92, 107, 120, 123, 125, 130, 131, 131, 132, 134, 137,\n       140, 140, 141, 142, 142, 144, 147, 146, 146, 145, 146, 147, 147,\n       148, 150, 149, 148, 148, 148, 147, 149, 149, 148, 143, 131, 117,\n       106,  96,  87], dtype=uint8), array([4.68352392])], [array([148, 148, 148, 147, 147, 149, 151, 149, 148, 147, 147, 148, 147,\n       147, 146, 147, 148, 149, 148, 148, 148, 145, 143, 147, 147, 147,\n       147, 151, 149, 146, 146, 142, 139, 145, 146, 147, 148, 151, 151,\n       147, 147, 149, 151, 148, 145, 145, 144, 145, 144, 143, 140, 133,\n       122, 113, 111, 116, 127, 134, 135, 134, 133, 133, 135, 136, 136,\n       136, 135, 133, 132, 132, 137, 137, 138, 139, 140, 139, 141, 140,\n       140, 144, 143, 143, 146, 146, 145, 146, 146, 145, 147, 148, 146,\n       147, 145, 146, 145, 148, 150, 150, 146, 150, 150, 149, 150, 149,\n       147, 148, 150, 148, 147, 149, 149, 148, 147, 149, 152, 149, 147,\n       145, 148, 147], dtype=uint8), array([3.48806279])], [array([136, 137, 136, 139, 145, 143, 141, 145, 146, 144, 143, 144, 145,\n       148, 145, 147, 149, 148, 148, 144, 147, 149, 150, 149, 147, 147,\n       149, 149, 148, 148, 146, 146, 147, 147, 151, 147, 149, 147, 147,\n       148, 149, 148, 147, 148, 150, 149, 147, 147, 146, 148, 149, 149,\n       147, 149, 147, 146, 148, 147, 150, 147, 147, 146, 146, 148, 148,\n       146, 148, 147, 151, 148, 146, 146, 140, 129, 114, 106,  94,  89,\n        99, 112, 119, 118, 117, 119, 121, 120, 124, 125, 127, 130, 133,\n       134, 135, 138, 139, 140, 143, 142, 143, 143, 144, 147, 147, 146,\n       147, 148, 147, 150, 146, 148, 149, 151, 149, 147, 147, 144, 150,\n       152, 148, 149], dtype=uint8), array([5.52762087])], [array([147, 145, 144, 146, 146, 146, 146, 148, 148, 148, 147, 146, 147,\n       148, 150, 148, 147, 145, 145, 146, 146, 146, 146, 146, 146, 147,\n       147, 147, 146, 146, 147, 148, 147, 146, 146, 146, 145, 146, 145,\n       139, 130, 122, 117, 122, 131, 138, 141, 142, 144, 146, 147, 144,\n       145, 143, 138, 128, 118, 116, 112, 101,  95, 102, 110, 113, 110,\n       109, 111, 111, 111, 113, 116, 120, 123, 124, 127, 130, 131, 134,\n       136, 138, 137, 137, 140, 142, 143, 145, 144, 145, 146, 146, 145,\n       145, 148, 148, 147, 144, 145, 147, 147, 148, 147, 146, 147, 146,\n       145, 146, 148, 148, 147, 148, 148, 146, 149, 147, 147, 149, 146,\n       146, 147, 147], dtype=uint8), array([5.24173503])], [array([148, 147, 146, 146, 149, 146, 148, 146, 148, 146, 149, 147, 147,\n       145, 145, 142, 147, 147, 147, 147, 143, 144, 144, 141, 143, 143,\n       141, 136, 131, 133, 137, 138, 140, 143, 145, 144, 146, 146, 144,\n       145, 145, 144, 146, 147, 147, 146, 144, 143, 144, 144, 142, 143,\n       146, 144, 141, 140, 139, 142, 137, 134, 136, 133, 130, 129, 127,\n       126, 126, 126, 125, 122, 123, 121, 119, 120, 118, 104,  97,  98,\n       100, 108, 124, 136, 140, 141, 142, 145, 144, 144, 147, 145, 147,\n       145, 143, 146, 144, 147, 146, 145, 145, 148, 146, 144, 144, 147,\n       147, 147, 146, 147, 148, 147, 149, 149, 146, 149, 145, 145, 145,\n       145, 145, 146], dtype=uint8), array([4.75818342])], [array([143, 143, 143, 143, 145, 145, 144, 143, 143, 141, 142, 144, 143,\n       143, 146, 145, 144, 144, 145, 145, 144, 143, 144, 142, 144, 148,\n       145, 147, 145, 145, 144, 147, 146, 146, 144, 140, 141, 143, 142,\n       145, 142, 144, 145, 143, 148, 145, 144, 143, 146, 148, 146, 146,\n       146, 146, 142, 139, 134, 121, 110, 107, 113, 118, 118, 121, 121,\n       122, 122, 121, 120, 122, 124, 125, 126, 129, 132, 134, 135, 136,\n       137, 139, 141, 142, 143, 144, 144, 144, 143, 143, 144, 145, 144,\n       147, 147, 146, 150, 148, 147, 147, 146, 145, 144, 148, 150, 147,\n       145, 145, 144, 144, 148, 147, 145, 139, 139, 139, 137, 136, 135,\n       133, 133, 136], dtype=uint8), array([3.84824603])], [array([139, 141, 141, 140, 140, 142, 140, 139, 139, 138, 136, 138, 137,\n       136, 138, 138, 138, 137, 138, 137, 138, 138, 137, 137, 138, 137,\n       137, 138, 141, 139, 138, 140, 140, 138, 137, 139, 139, 139, 139,\n       141, 138, 140, 141, 139, 142, 142, 140, 143, 141, 143, 141, 142,\n       142, 143, 144, 144, 142, 140, 140, 138, 139, 136, 128, 119, 116,\n       116, 109,  99,  97, 104, 107, 106, 102, 100,  97,  96,  97,  98,\n       102, 103, 106, 109, 111, 115, 116, 115, 118, 122, 124, 126, 127,\n       130, 130, 133, 135, 137, 136, 136, 139, 139, 138, 142, 139, 142,\n       142, 142, 141, 142, 141, 140, 143, 142, 139, 141, 143, 142, 144,\n       143, 145, 144], dtype=uint8), array([6.3266849])], [array([114, 115, 119, 120, 122, 124, 125, 122, 124, 125, 127, 128, 126,\n       127, 131, 129, 129, 130, 131, 132, 133, 135, 134, 137, 136, 138,\n       135, 138, 139, 139, 139, 140, 141, 141, 137, 139, 139, 139, 139,\n       142, 142, 142, 140, 139, 139, 138, 140, 140, 141, 141, 140, 140,\n       138, 137, 137, 137, 137, 134, 126, 119, 115, 116, 118, 125, 130,\n       131, 129, 128, 127, 127, 127, 125, 124, 115, 104,  94,  92,  84,\n        78,  86, 100, 106, 108, 110, 111, 113, 116, 118, 122, 124, 125,\n       129, 128, 131, 130, 133, 135, 137, 136, 137, 139, 140, 140, 139,\n       142, 142, 142, 143, 142, 142, 144, 147, 144, 143, 143, 144, 143,\n       142, 145, 145], dtype=uint8), array([5.48232787])], [array([116, 117, 120, 117, 118, 121, 121, 122, 121, 125, 125, 123, 124,\n       124, 126, 126, 129, 130, 129, 131, 129, 130, 131, 131, 130, 133,\n       134, 130, 132, 133, 132, 138, 137, 135, 137, 134, 134, 129, 132,\n       134, 137, 135, 138, 139, 136, 135, 139, 137, 137, 135, 135, 136,\n       139, 134, 134, 136, 137, 140, 139, 138, 141, 141, 140, 138, 140,\n       137, 143, 141, 141, 143, 142, 140, 143, 140, 136, 128, 117, 106,\n        97,  91, 100, 107, 110, 108, 112, 112, 108, 111, 111, 111, 115,\n       116, 115, 119, 117, 125, 121, 125, 126, 124, 127, 129, 130, 135,\n       133, 138, 138, 137, 139, 136, 136, 139, 138, 140, 140, 142, 138,\n       138, 142, 141], dtype=uint8), array([4.22418291])], [array([148, 148, 151, 151, 149, 148, 151, 151, 149, 148, 150, 149, 148,\n       150, 148, 149, 149, 148, 145, 146, 150, 149, 146, 147, 146, 147,\n       148, 149, 149, 152, 150, 149, 149, 150, 149, 148, 149, 146, 148,\n       149, 150, 148, 147, 148, 148, 149, 149, 150, 148, 148, 149, 148,\n       150, 150, 148, 149, 150, 150, 150, 148, 149, 148, 149, 149, 148,\n       147, 150, 150, 150, 152, 151, 148, 149, 148, 149, 150, 150, 148,\n       149, 148, 151, 151, 149, 152, 149, 146, 150, 150, 150, 150, 151,\n       149, 149, 146, 149, 149, 150, 149, 150, 150, 152, 149, 151, 147,\n       145, 146, 148, 148, 146, 146, 149, 147, 147, 153, 148, 147, 149,\n       148, 149, 148], dtype=uint8), array([0.])], [array([145, 144, 146, 147, 147, 145, 145, 142, 145, 147, 147, 146, 146,\n       145, 146, 146, 146, 145, 145, 145, 146, 146, 145, 147, 148, 146,\n       146, 148, 147, 145, 145, 146, 147, 145, 146, 144, 143, 145, 147,\n       148, 146, 145, 144, 146, 146, 146, 144, 144, 145, 146, 147, 147,\n       147, 148, 148, 147, 146, 148, 144, 146, 146, 146, 145, 145, 143,\n       137, 128, 118, 111, 113, 118, 124, 123, 123, 123, 124, 125, 122,\n       125, 129, 129, 128, 132, 133, 134, 139, 140, 139, 142, 143, 143,\n       143, 143, 143, 145, 148, 145, 144, 146, 152, 148, 146, 146, 148,\n       147, 146, 148, 146, 149, 147, 150, 149, 148, 148, 148, 147, 148,\n       146, 148, 148], dtype=uint8), array([3.71157107])], [array([144, 145, 144, 144, 148, 146, 145, 148, 146, 147, 148, 145, 146,\n       146, 144, 148, 146, 145, 145, 143, 146, 148, 148, 144, 146, 143,\n       146, 147, 145, 144, 145, 145, 146, 148, 146, 144, 145, 144, 145,\n       144, 141, 142, 139, 139, 139, 136, 135, 137, 138, 143, 144, 144,\n       145, 143, 145, 144, 145, 144, 146, 145, 144, 145, 145, 142, 141,\n       144, 140, 138, 141, 139, 137, 131, 126, 113, 101, 102,  97,  98,\n       113, 122, 123, 126, 126, 126, 130, 130, 129, 133, 135, 137, 137,\n       138, 140, 144, 143, 144, 145, 146, 145, 143, 142, 145, 145, 146,\n       145, 144, 144, 146, 148, 147, 147, 149, 147, 148, 149, 149, 147,\n       146, 146, 145], dtype=uint8), array([4.08382213])], [array([150, 149, 148, 147, 147, 149, 147, 149, 148, 144, 145, 147, 146,\n       146, 149, 148, 147, 149, 149, 149, 147, 149, 147, 146, 148, 148,\n       147, 147, 146, 148, 145, 146, 144, 144, 147, 148, 145, 143, 143,\n       145, 143, 138, 137, 136, 135, 131, 127, 112, 102,  99, 106, 123,\n       135, 137, 140, 142, 143, 146, 146, 147, 149, 149, 148, 148, 147,\n       146, 147, 147, 146, 148, 150, 148, 146, 147, 148, 147, 144, 148,\n       144, 148, 149, 149, 150, 151, 149, 148, 147, 147, 148, 150, 149,\n       146, 146, 147, 149, 147, 149, 147, 146, 145, 147, 149, 147, 145,\n       143, 143, 142, 142, 140, 142, 138, 135, 133, 128, 122, 117, 112,\n       111, 112, 117], dtype=uint8), array([3.69767209])], [array([141, 142, 142, 143, 143, 143, 141, 141, 141, 143, 143, 143, 144,\n       141, 143, 143, 142, 142, 141, 134, 125, 121, 118, 118, 123, 127,\n       127, 130, 130, 125, 123, 122, 119, 118, 113, 110, 110, 106, 107,\n       102,  99,  98,  99, 102, 107, 112, 117, 121, 125, 127, 127, 126,\n       128, 130, 130, 129, 130, 129, 132, 134, 136, 134, 136, 135, 134,\n       136, 137, 139, 140, 129, 119, 110,  97,  95, 103, 111, 115, 114,\n       114, 113, 114, 110, 110, 112, 114, 116, 115, 120, 120, 122, 122,\n       126, 126, 127, 128, 130, 134, 133, 136, 137, 137, 140, 140, 139,\n       139, 141, 143, 141, 142, 141, 144, 144, 141, 141, 142, 142, 142,\n       144, 144, 139], dtype=uint8), array([4.18255064])], [array([148, 145, 145, 145, 145, 146, 146, 145, 148, 147, 147, 146, 147,\n       145, 147, 148, 146, 148, 145, 144, 144, 148, 148, 149, 147, 145,\n       144, 144, 146, 147, 146, 145, 148, 146, 145, 146, 144, 145, 145,\n       144, 147, 146, 145, 138, 141, 143, 142, 142, 141, 138, 138, 135,\n       133, 132, 130, 130, 130, 128, 128, 125, 122, 121, 116, 113, 113,\n       112, 110, 111, 108, 103,  84,  71,  73,  79,  76,  74,  90, 113,\n       126, 126, 128, 133, 132, 134, 136, 140, 140, 140, 138, 141, 145,\n       146, 145, 143, 147, 149, 147, 146, 148, 145, 146, 146, 145, 146,\n       146, 144, 146, 144, 145, 144, 144, 145, 145, 145, 144, 144, 146,\n       144, 144, 143], dtype=uint8), array([9.01671984])], [array([115, 117, 124, 124, 126, 127, 126, 127, 128, 127, 127, 127, 127,\n       126, 124, 125, 128, 126, 126, 128, 125, 125, 125, 125, 125, 123,\n       123, 119, 118, 119, 121, 122, 123, 120, 119, 122, 121, 121, 120,\n       120, 119, 117, 114, 112, 107, 102, 102, 101, 107, 111, 115, 118,\n       119, 121, 124, 127, 127, 126, 127, 126, 127, 128, 126, 121, 115,\n       112, 116, 110, 110, 121, 132, 137, 138, 140, 139, 141, 142, 144,\n       141, 143, 142, 142, 144, 145, 143, 146, 143, 141, 142, 141, 141,\n       140, 141, 141, 142, 142, 142, 141, 138, 137, 141, 141, 143, 143,\n       142, 143, 146, 144, 139, 140, 140, 142, 144, 141, 141, 146, 143,\n       141, 142, 140], dtype=uint8), array([6.47364817])], [array([140, 143, 144, 143, 142, 141, 143, 143, 142, 141, 140, 141, 142,\n       143, 140, 141, 140, 142, 144, 142, 142, 143, 141, 139, 141, 141,\n       142, 141, 142, 142, 141, 143, 142, 143, 142, 142, 143, 141, 141,\n       141, 144, 145, 144, 144, 144, 141, 144, 143, 141, 142, 144, 143,\n       143, 142, 141, 142, 144, 144, 144, 145, 144, 143, 143, 145, 145,\n       143, 146, 145, 145, 144, 143, 144, 138, 133, 120, 111, 102, 103,\n       113, 119, 118, 120, 124, 123, 123, 124, 123, 124, 124, 126, 124,\n       126, 128, 129, 129, 134, 133, 133, 136, 136, 136, 137, 138, 138,\n       139, 141, 141, 141, 140, 141, 141, 142, 139, 141, 142, 141, 142,\n       144, 143, 145], dtype=uint8), array([4.51710674])], [array([151, 149, 149, 150, 150, 151, 150, 147, 149, 148, 150, 150, 150,\n       148, 148, 146, 148, 152, 148, 147, 146, 146, 145, 144, 144, 145,\n       147, 148, 148, 147, 147, 148, 146, 146, 148, 148, 149, 148, 150,\n       150, 149, 146, 149, 148, 150, 149, 155, 151, 150, 147, 145, 147,\n       147, 148, 146, 149, 149, 150, 148, 147, 150, 149, 146, 146, 147,\n       149, 149, 148, 148, 148, 148, 148, 147, 146, 145, 142, 136, 131,\n       133, 134, 137, 135, 135, 136, 137, 138, 137, 136, 138, 141, 141,\n       145, 143, 143, 145, 146, 144, 146, 145, 145, 146, 147, 148, 149,\n       147, 149, 150, 149, 148, 147, 149, 148, 146, 148, 150, 148, 145,\n       147, 148, 147], dtype=uint8), array([4.88037655])], [array([145, 146, 147, 148, 149, 149, 148, 149, 150, 147, 147, 148, 147,\n       147, 147, 146, 145, 147, 147, 146, 146, 146, 147, 149, 148, 149,\n       146, 149, 146, 148, 147, 146, 146, 145, 146, 147, 148, 151, 148,\n       148, 147, 146, 149, 147, 147, 146, 147, 147, 148, 146, 146, 145,\n       145, 144, 144, 146, 147, 145, 144, 146, 145, 143, 144, 144, 143,\n       146, 146, 143, 145, 146, 145, 143, 141, 141, 143, 145, 144, 143,\n       143, 145, 146, 145, 144, 144, 144, 143, 143, 142, 140, 139, 140,\n       142, 144, 146, 148, 146, 147, 148, 149, 149, 148, 148, 148, 145,\n       146, 148, 148, 150, 149, 147, 146, 146, 145, 145, 142, 144, 146,\n       146, 147, 146], dtype=uint8), array([4.75318777])], [array([145, 145, 145, 147, 146, 145, 146, 147, 146, 146, 146, 143, 145,\n       147, 144, 143, 143, 143, 142, 142, 142, 141, 140, 138, 136, 137,\n       133, 133, 132, 132, 129, 128, 125, 124, 123, 120, 121, 120, 120,\n       120, 120, 120, 119, 121, 119, 110,  98,  96, 104, 114, 123, 136,\n       142, 143, 143, 141, 143, 145, 143, 146, 141, 144, 149, 147, 145,\n       145, 146, 145, 144, 146, 145, 146, 147, 147, 146, 144, 145, 145,\n       146, 148, 145, 146, 146, 145, 145, 146, 143, 145, 144, 145, 145,\n       146, 145, 145, 148, 147, 145, 144, 145, 144, 144, 148, 145, 143,\n       144, 143, 143, 142, 143, 144, 143, 144, 142, 145, 147, 148, 146,\n       145, 145, 144], dtype=uint8), array([4.67930649])], [array([146, 146, 144, 144, 145, 144, 147, 145, 145, 148, 147, 147, 146,\n       145, 143, 145, 145, 143, 145, 146, 146, 145, 146, 145, 145, 145,\n       147, 147, 146, 148, 143, 144, 144, 144, 143, 144, 143, 142, 141,\n       143, 143, 141, 144, 144, 143, 143, 143, 146, 145, 144, 144, 145,\n       143, 143, 142, 144, 142, 140, 140, 138, 140, 139, 136, 136, 136,\n       133, 133, 125, 120, 118, 119, 126, 129, 132, 130, 134, 134, 134,\n       132, 133, 135, 135, 139, 138, 138, 141, 141, 142, 142, 145, 144,\n       143, 144, 146, 142, 141, 142, 144, 142, 143, 145, 146, 145, 145,\n       145, 145, 147, 150, 147, 144, 144, 145, 144, 145, 144, 146, 144,\n       147, 146, 143], dtype=uint8), array([3.66342182])], [array([129, 130, 129, 133, 130, 131, 129, 128, 130, 130, 130, 130, 129,\n       128, 129, 130, 131, 130, 129, 130, 131, 130, 127, 128, 129, 131,\n       129, 128, 132, 132, 131, 131, 128, 130, 130, 130, 132, 131, 129,\n       130, 131, 129, 128, 126, 130, 131, 128, 128, 130, 128, 129, 130,\n       128, 127, 129, 129, 130, 131, 129, 126, 126, 128, 128, 126, 125,\n       124, 124, 123, 121, 121, 118, 114, 111, 103,  95,  96, 102,  99,\n        83,  66,  65,  71,  67,  65,  68,  72,  78,  78,  80,  81,  82,\n        84,  84,  86,  91,  92,  95,  99, 102, 105, 106, 107, 108, 107,\n       110, 111, 113, 116, 117, 118, 118, 120, 121, 123, 124, 126, 126,\n       125, 127, 127], dtype=uint8), array([11.24816955])], [array([131, 134, 133, 136, 136, 134, 132, 135, 135, 135, 134, 132, 132,\n       134, 134, 131, 131, 131, 130, 130, 126, 125, 124, 122, 123, 123,\n       121, 119, 119, 118, 116, 117, 115, 114, 112, 110, 111, 111, 112,\n       112, 112, 113, 114, 116, 118, 116, 115, 113, 103,  96, 105, 116,\n       122, 129, 139, 138, 140, 141, 138, 138, 138, 137, 136, 137, 135,\n       137, 136, 136, 133, 133, 132, 132, 133, 134, 134, 134, 134, 133,\n       132, 132, 132, 132, 132, 134, 132, 132, 132, 133, 132, 132, 134,\n       131, 131, 130, 129, 130, 131, 131, 133, 134, 133, 136, 132, 131,\n       131, 131, 130, 131, 131, 131, 130, 133, 132, 131, 132, 131, 131,\n       132, 134, 131], dtype=uint8), array([5.29607184])], [array([135, 135, 135, 136, 134, 133, 132, 133, 135, 136, 137, 135, 135,\n       135, 132, 133, 130, 129, 129, 132, 130, 131, 130, 132, 128, 128,\n       124, 123, 125, 124, 121, 118, 118, 118, 117, 115, 112, 110, 109,\n       109, 107, 103, 104, 104, 103, 103, 105, 104, 104, 104, 101,  97,\n        88,  84,  90, 103, 116, 127, 137, 137, 136, 135, 136, 137, 136,\n       138, 138, 136, 136, 135, 136, 138, 135, 133, 134, 134, 135, 134,\n       136, 137, 131, 135, 133, 135, 135, 134, 134, 131, 132, 134, 132,\n       131, 131, 133, 131, 128, 128, 126, 127, 126, 126, 123, 125, 128,\n       127, 126, 127, 125, 128, 129, 131, 131, 131, 132, 133, 131, 132,\n       132, 130, 130], dtype=uint8), array([5.46791157])], [array([135, 133, 134, 135, 134, 133, 133, 132, 135, 135, 134, 133, 135,\n       135, 135, 134, 134, 132, 133, 132, 130, 130, 129, 131, 130, 128,\n       128, 127, 125, 125, 123, 122, 121, 120, 120, 117, 114, 114, 113,\n       113, 112, 110, 109, 108, 107, 107, 105, 104, 105, 108, 108, 109,\n       109, 110, 111, 103,  94,  91,  96, 108, 119, 130, 135, 135, 135,\n       136, 134, 135, 135, 134, 136, 136, 134, 133, 136, 135, 137, 135,\n       135, 135, 134, 135, 135, 133, 134, 134, 134, 134, 136, 134, 133,\n       134, 135, 136, 135, 134, 137, 136, 133, 135, 134, 134, 133, 132,\n       133, 133, 134, 133, 133, 134, 135, 134, 133, 134, 135, 134, 133,\n       131, 130, 125], dtype=uint8), array([5.45620238])], [array([143, 147, 149, 149, 146, 147, 147, 144, 144, 145, 145, 146, 146,\n       144, 145, 144, 144, 145, 144, 144, 145, 146, 146, 148, 150, 148,\n       149, 151, 150, 147, 147, 145, 144, 147, 148, 148, 147, 146, 144,\n       144, 144, 144, 144, 143, 144, 144, 145, 147, 147, 146, 147, 148,\n       147, 147, 148, 148, 147, 150, 150, 148, 150, 148, 148, 150, 148,\n       148, 149, 149, 149, 147, 149, 150, 149, 148, 148, 147, 145, 144,\n       145, 148, 149, 149, 150, 149, 147, 148, 148, 148, 149, 148, 148,\n       148, 149, 148, 147, 147, 148, 147, 147, 147, 148, 148, 148, 148,\n       147, 147, 148, 148, 148, 148, 146, 146, 148, 149, 149, 149, 147,\n       147, 147, 147], dtype=uint8), array([0.])], [array([110, 119, 129, 136, 136, 137, 139, 142, 143, 145, 145, 145, 146,\n       146, 148, 148, 147, 147, 149, 149, 148, 150, 150, 149, 151, 151,\n       149, 150, 151, 148, 150, 149, 150, 152, 150, 150, 148, 151, 152,\n       151, 151, 152, 152, 151, 150, 151, 150, 150, 153, 151, 149, 151,\n       151, 151, 151, 150, 151, 150, 148, 150, 151, 150, 147, 146, 146,\n       147, 147, 146, 144, 143, 139, 122, 101,  85,  82,  78,  68,  54,\n        48,  52,  58,  64,  71,  78,  83,  88,  93,  93,  97, 102, 107,\n       107, 108, 111, 116, 118, 121, 122, 126, 130, 132, 132, 137, 139,\n       139, 138, 142, 143, 142, 145, 147, 146, 144, 146, 147, 148, 147,\n       148, 148, 150], dtype=uint8), array([11.65322989])], [array([149, 149, 148, 149, 148, 148, 152, 148, 152, 150, 148, 151, 149,\n       149, 153, 151, 148, 150, 148, 149, 148, 149, 147, 147, 147, 148,\n       147, 148, 148, 152, 151, 150, 149, 151, 148, 152, 148, 150, 151,\n       150, 148, 147, 148, 145, 148, 146, 148, 149, 147, 150, 149, 150,\n       151, 152, 151, 150, 149, 149, 149, 148, 149, 146, 146, 145, 143,\n       142, 143, 136, 135, 128, 125, 116, 109,  94,  74,  60,  55,  52,\n        48,  56,  67,  80,  93, 100, 102, 103, 107, 114, 115, 118, 121,\n       124, 125, 127, 129, 129, 132, 133, 138, 139, 140, 139, 143, 146,\n       146, 147, 150, 148, 147, 149, 147, 148, 147, 148, 150, 150, 150,\n       149, 151, 151], dtype=uint8), array([11.24816955])], [array([150, 151, 149, 150, 149, 148, 149, 151, 149, 151, 152, 148, 146,\n       149, 146, 147, 149, 150, 153, 152, 150, 149, 151, 148, 148, 149,\n       149, 149, 148, 149, 149, 150, 149, 149, 148, 148, 149, 148, 148,\n       148, 150, 148, 148, 149, 148, 146, 147, 149, 146, 146, 144, 142,\n       143, 142, 138, 139, 136, 135, 132, 131, 123, 110,  99, 100, 103,\n       106, 110, 105,  91,  85, 101, 110, 123, 135, 141, 141, 144, 144,\n       149, 147, 146, 146, 148, 148, 145, 145, 143, 149, 147, 147, 149,\n       149, 147, 148, 147, 151, 148, 148, 149, 148, 149, 148, 148, 148,\n       149, 149, 149, 150, 149, 149, 146, 147, 148, 148, 148, 147, 146,\n       146, 148, 146], dtype=uint8), array([5.29607184])], [array([152, 155, 155, 154, 151, 151, 150, 152, 150, 149, 149, 150, 150,\n       152, 151, 151, 152, 151, 150, 152, 152, 151, 152, 151, 153, 153,\n       151, 150, 149, 151, 153, 155, 154, 152, 153, 150, 154, 152, 152,\n       152, 150, 150, 153, 150, 150, 153, 148, 147, 147, 143, 133, 113,\n       103,  90,  85, 100, 114, 119, 122, 122, 123, 126, 129, 131, 135,\n       138, 139, 140, 142, 144, 145, 147, 148, 148, 149, 152, 153, 147,\n       150, 152, 151, 154, 152, 150, 148, 152, 149, 151, 151, 152, 153,\n       150, 149, 148, 147, 149, 150, 149, 147, 148, 148, 147, 148, 149,\n       147, 148, 150, 150, 150, 151, 151, 152, 150, 150, 149, 151, 154,\n       153, 156, 152], dtype=uint8), array([5.46791157])], [array([150, 149, 148, 149, 149, 149, 151, 151, 151, 152, 150, 151, 150,\n       150, 150, 151, 152, 152, 152, 150, 150, 150, 149, 148, 148, 149,\n       147, 148, 149, 149, 144, 145, 146, 143, 146, 147, 149, 150, 150,\n       151, 153, 152, 150, 151, 151, 151, 151, 150, 150, 150, 148, 147,\n       145, 139, 125, 111,  98,  86,  78,  93, 109, 111, 115, 119, 121,\n       123, 128, 130, 128, 132, 132, 136, 139, 142, 141, 145, 145, 147,\n       148, 151, 149, 149, 148, 151, 150, 148, 148, 151, 152, 149, 147,\n       145, 149, 151, 150, 151, 150, 151, 153, 152, 152, 151, 150, 149,\n       152, 151, 152, 151, 150, 153, 149, 153, 150, 151, 150, 148, 149,\n       151, 152, 150], dtype=uint8), array([5.45620238])], [array([153, 153, 152, 152, 153, 151, 151, 151, 154, 154, 153, 151, 151,\n       152, 153, 155, 152, 152, 152, 152, 153, 152, 152, 153, 153, 153,\n       151, 153, 152, 152, 151, 152, 151, 150, 149, 151, 150, 150, 153,\n       152, 148, 149, 148, 152, 153, 148, 151, 152, 154, 150, 153, 150,\n       157, 153, 154, 151, 150, 150, 154, 154, 153, 150, 152, 150, 150,\n       150, 150, 147, 149, 153, 153, 152, 152, 154, 151, 148, 146, 146,\n       145, 147, 148, 148, 149, 150, 150, 152, 151, 150, 150, 153, 153,\n       154, 153, 150, 150, 150, 153, 153, 152, 154, 154, 154, 153, 149,\n       152, 151, 152, 153, 154, 151, 158, 154, 153, 155, 153, 150, 152,\n       152, 153, 151], dtype=uint8), array([3.54463004])], [array([135, 135, 136, 134, 136, 137, 136, 136, 135, 136, 137, 137, 136,\n       136, 137, 137, 139, 140, 138, 137, 138, 139, 140, 140, 137, 138,\n       136, 138, 138, 139, 138, 138, 138, 141, 137, 139, 137, 136, 137,\n       139, 136, 139, 140, 140, 139, 138, 139, 138, 138, 136, 136, 136,\n       139, 138, 134, 132, 132, 133, 130, 127, 125, 125, 123, 122, 120,\n       117, 115, 112, 110, 109, 107, 105, 103, 104, 102, 102, 100,  87,\n        78,  92, 111, 123, 135, 140, 139, 142, 142, 138, 140, 142, 142,\n       139, 136, 136, 137, 135, 135, 136, 135, 136, 136, 135, 135, 134,\n       132, 131, 132, 132, 133, 132, 131, 130, 130, 129, 129, 128, 126,\n       129, 127, 127], dtype=uint8), array([4.51179147])], [array([146, 148, 147, 149, 147, 146, 148, 150, 146, 146, 148, 147, 149,\n       148, 146, 146, 147, 147, 145, 147, 144, 148, 146, 146, 146, 147,\n       145, 147, 145, 144, 144, 143, 141, 144, 143, 141, 140, 138, 140,\n       139, 135, 134, 135, 136, 135, 134, 136, 136, 131, 131, 130, 131,\n       130, 131, 130, 126, 126, 126, 126, 123, 116, 110, 107, 107, 120,\n       128, 138, 146, 146, 145, 148, 149, 148, 146, 145, 144, 140, 141,\n       143, 142, 140, 141, 140, 139, 139, 139, 139, 141, 143, 141, 141,\n       138, 136, 138, 139, 137, 138, 137, 136, 136, 136, 137, 137, 137,\n       136, 134, 136, 135, 135, 137, 136, 137, 135, 136, 139, 137, 138,\n       139, 138, 137], dtype=uint8), array([4.37560143])], [array([146, 149, 149, 146, 146, 144, 144, 146, 146, 146, 144, 143, 141,\n       143, 141, 140, 142, 141, 140, 142, 142, 143, 143, 143, 144, 145,\n       143, 142, 140, 143, 142, 142, 142, 143, 143, 142, 141, 142, 143,\n       140, 141, 138, 139, 141, 142, 139, 139, 138, 137, 138, 140, 137,\n       137, 137, 135, 135, 134, 131, 132, 130, 129, 130, 125, 124, 125,\n       124, 121, 121, 118, 113, 110, 112, 116, 118, 113, 111, 105,  90,\n        84,  91, 106, 122, 134, 140, 139, 141, 140, 139, 136, 141, 139,\n       138, 139, 137, 137, 135, 135, 134, 133, 132, 135, 133, 129, 133,\n       131, 129, 133, 134, 134, 132, 132, 134, 131, 132, 133, 135, 137,\n       132, 135, 135], dtype=uint8), array([3.95002995])], [array([139, 139, 139, 137, 133, 137, 139, 139, 137, 135, 136, 136, 136,\n       138, 137, 138, 136, 135, 136, 136, 135, 136, 134, 134, 138, 134,\n       139, 136, 135, 135, 134, 137, 137, 134, 136, 137, 134, 135, 137,\n       135, 135, 136, 135, 135, 135, 136, 137, 138, 134, 135, 135, 135,\n       135, 131, 133, 132, 131, 130, 130, 127, 124, 123, 120, 118, 117,\n       116, 119, 119, 116, 113, 110, 111, 111, 110, 106,  98,  93, 100,\n       114, 128, 134, 139, 141, 141, 138, 137, 137, 135, 134, 137, 127,\n       131, 129, 125, 126, 126, 123, 121, 119, 118, 116, 117, 118, 120,\n       121, 123, 126, 129, 130, 128, 126, 128, 130, 128, 127, 126, 122,\n       122, 123, 125], dtype=uint8), array([3.53048839])], [array([119, 119, 120, 119, 119, 116, 117, 114, 115, 114, 112, 112, 113,\n       110, 109, 110, 112, 112, 111, 111, 111, 110, 108, 109, 106, 107,\n       106, 108, 105, 104, 106, 105, 103, 104, 105, 107, 110, 114, 113,\n       117, 119, 120, 120, 118, 116, 113, 115, 114, 115, 115, 117, 117,\n       120, 121, 122, 123, 123, 123, 121, 119, 116, 112, 107, 106, 112,\n       120, 129, 136, 137, 140, 139, 141, 142, 140, 140, 139, 142, 140,\n       139, 142, 140, 141, 138, 139, 136, 136, 136, 137, 138, 136, 135,\n       140, 140, 138, 139, 135, 130, 132, 133, 134, 133, 135, 136, 137,\n       138, 137, 135, 138, 133, 134, 129, 124, 122, 116, 113, 115, 123,\n       129, 132, 133], dtype=uint8), array([3.67640104])], [array([133, 133, 132, 133, 133, 132, 133, 133, 133, 132, 133, 130, 131,\n       133, 131, 130, 131, 132, 133, 132, 132, 132, 131, 132, 133, 132,\n       132, 130, 130, 132, 133, 131, 131, 130, 130, 130, 131, 131, 126,\n       126, 125, 122, 122, 119, 118, 117, 115, 109, 106, 105, 104, 100,\n        99,  95,  97,  97,  92,  89,  85,  84,  81,  76,  72,  69,  66,\n        65,  62,  63,  68,  76,  87, 100, 111, 114, 119, 128, 140, 146,\n       148, 150, 150, 150, 148, 147, 146, 146, 148, 145, 146, 143, 142,\n       142, 140, 137, 138, 136, 134, 138, 134, 132, 133, 131, 129, 130,\n       126, 128, 127, 129, 125, 125, 127, 126, 125, 123, 126, 129, 128,\n       127, 126, 126], dtype=uint8), array([8.97995119])], [array([138, 136, 136, 138, 138, 137, 136, 133, 135, 135, 133, 133, 131,\n       133, 133, 134, 134, 131, 130, 133, 131, 131, 130, 132, 132, 132,\n       132, 130, 130, 128, 126, 129, 128, 130, 131, 127, 125, 130, 129,\n       128, 127, 130, 128, 127, 129, 125, 120, 114, 102,  92,  86,  82,\n        88, 100, 108, 110, 113, 114, 115, 116, 117, 118, 120, 121, 122,\n       123, 122, 127, 128, 128, 127, 127, 127, 128, 128, 127, 129, 130,\n       130, 130, 131, 130, 129, 129, 130, 127, 129, 131, 131, 128, 130,\n       130, 131, 131, 130, 128, 130, 130, 130, 131, 130, 130, 129, 128,\n       129, 129, 130, 128, 130, 129, 129, 130, 131, 129, 130, 132, 130,\n       131, 131, 127], dtype=uint8), array([5.35827466])], [array([133, 133, 132, 134, 132, 137, 135, 136, 136, 136, 139, 138, 137,\n       137, 137, 139, 138, 141, 140, 138, 140, 141, 143, 141, 139, 141,\n       140, 140, 138, 139, 141, 139, 141, 141, 140, 134, 130, 127, 131,\n       133, 134, 134, 135, 136, 137, 137, 137, 137, 140, 141, 142, 141,\n       142, 141, 142, 141, 141, 141, 141, 139, 137, 137, 136, 136, 135,\n       133, 129, 131, 130, 116, 100,  88,  94,  95,  91,  83,  83,  84,\n        86,  89,  90,  92,  91,  93,  95,  96,  97,  99, 101, 101, 102,\n       102, 105, 105, 106, 106, 106, 108, 108, 107, 108, 109, 109, 108,\n       110, 109, 110, 112, 112, 110, 110, 111, 111, 112, 112, 113, 113,\n       112, 112, 114], dtype=uint8), array([8.97995119])], [array([110, 111, 109, 112, 115, 113, 115, 115, 116, 116, 117, 119, 118,\n       119, 118, 119, 118, 118, 115, 116, 119, 119, 117, 115, 118, 118,\n       116, 115, 117, 117, 113, 111, 112, 112, 112, 110, 109, 112, 112,\n       112, 110, 109, 110, 111, 111, 111, 105,  91,  86,  95, 104, 113,\n       124, 135, 139, 143, 145, 143, 141, 138, 140, 141, 142, 139, 138,\n       138, 138, 136, 137, 138, 137, 138, 136, 138, 138, 136, 139, 139,\n       138, 139, 139, 136, 135, 136, 138, 138, 137, 138, 137, 136, 136,\n       136, 137, 137, 138, 139, 139, 139, 138, 140, 138, 138, 137, 138,\n       140, 138, 136, 137, 137, 135, 134, 134, 133, 127, 116, 109, 110,\n       114, 125, 134], dtype=uint8), array([5.35827466])], [array([139, 141, 142, 143, 144, 144, 143, 142, 142, 141, 142, 142, 143,\n       140, 144, 144, 142, 142, 142, 140, 141, 141, 140, 141, 141, 139,\n       138, 140, 140, 140, 142, 140, 140, 142, 139, 144, 142, 140, 143,\n       142, 142, 141, 141, 141, 139, 139, 137, 138, 136, 136, 137, 137,\n       137, 138, 138, 136, 136, 135, 135, 134, 132, 134, 132, 131, 133,\n       133, 134, 136, 135, 136, 136, 132, 132, 133, 123, 115, 106,  98,\n        95, 104, 112, 116, 117, 115, 115, 116, 114, 113, 115, 114, 114,\n       114, 111, 111, 114, 113, 111, 111, 111, 111, 109, 110, 110, 109,\n       110, 110, 109, 109, 109, 109, 109, 108, 107, 109, 110, 109, 109,\n       111, 111, 111], dtype=uint8), array([3.76287851])], [array([143, 143, 145, 144, 145, 146, 145, 144, 146, 145, 142, 145, 143,\n       144, 145, 144, 144, 145, 143, 143, 143, 147, 146, 146, 146, 145,\n       143, 142, 137, 136, 138, 139, 141, 140, 138, 138, 139, 138, 136,\n       135, 132, 129, 127, 127, 131, 132, 135, 136, 139, 139, 139, 138,\n       137, 143, 141, 141, 143, 144, 146, 145, 142, 142, 144, 145, 147,\n       143, 146, 148, 148, 146, 145, 146, 147, 142, 137, 135, 134, 136,\n       136, 135, 131, 134, 131, 133, 130, 131, 132, 133, 136, 136, 135,\n       138, 140, 140, 140, 140, 141, 142, 144, 145, 144, 142, 143, 143,\n       144, 144, 143, 145, 142, 144, 143, 145, 145, 145, 145, 147, 147,\n       148, 145, 146], dtype=uint8), array([3.04808728])], [array([139, 142, 142, 144, 146, 146, 144, 145, 142, 147, 147, 147, 144,\n       143, 144, 143, 145, 147, 146, 146, 146, 147, 148, 146, 147, 147,\n       147, 147, 150, 147, 149, 148, 148, 147, 148, 148, 146, 146, 147,\n       147, 144, 146, 147, 148, 145, 146, 147, 148, 149, 147, 148, 148,\n       148, 148, 148, 145, 146, 147, 149, 149, 148, 148, 146, 149, 147,\n       147, 148, 147, 144, 145, 146, 141, 141, 137, 127, 119, 110, 106,\n       115, 121, 125, 123, 126, 127, 127, 128, 128, 128, 132, 131, 129,\n       129, 130, 133, 133, 132, 132, 132, 133, 133, 132, 133, 131, 130,\n       134, 135, 136, 133, 132, 134, 132, 133, 132, 132, 133, 133, 131,\n       130, 129, 127], dtype=uint8), array([3.04562947])], [array([150, 148, 149, 152, 152, 150, 148, 150, 151, 152, 150, 149, 150,\n       150, 148, 148, 149, 149, 148, 150, 150, 152, 151, 152, 151, 151,\n       148, 150, 152, 148, 148, 149, 151, 151, 149, 148, 147, 149, 148,\n       151, 149, 148, 149, 150, 148, 151, 150, 150, 149, 148, 148, 148,\n       147, 146, 150, 150, 150, 150, 150, 148, 147, 148, 150, 149, 146,\n       147, 145, 143, 144, 143, 140, 134, 125, 108,  95,  98, 114, 128,\n       137, 140, 143, 145, 144, 143, 140, 139, 140, 141, 140, 141, 140,\n       139, 138, 136, 136, 135, 133, 133, 132, 130, 131, 132, 131, 132,\n       131, 131, 132, 130, 130, 130, 126, 121, 116, 110, 105, 102,  99,\n        88,  84,  83], dtype=uint8), array([3.06895321])], [array([146, 146, 146, 147, 147, 148, 146, 147, 146, 143, 145, 143, 142,\n       140, 137, 134, 130, 126, 119, 113, 111, 106, 100, 103, 108, 110,\n       106, 105, 108, 108, 118, 123, 124, 126, 128, 132, 133, 134, 134,\n       135, 137, 140, 140, 140, 141, 143, 142, 141, 139, 137, 133, 130,\n       119, 115, 121, 127, 136, 139, 143, 144, 143, 142, 140, 140, 143,\n       145, 143, 141, 143, 147, 147, 147, 145, 147, 144, 144, 151, 147,\n       149, 147, 144, 143, 147, 147, 147, 148, 148, 149, 148, 149, 150,\n       150, 149, 149, 150, 146, 148, 148, 147, 146, 147, 146, 146, 146,\n       146, 144, 146, 146, 144, 143, 142, 140, 139, 137, 137, 138, 134,\n       132, 131, 126], dtype=uint8), array([2.85702873])], [array([130, 129, 130, 130, 133, 133, 132, 131, 131, 130, 132, 133, 133,\n       133, 133, 131, 130, 132, 133, 130, 131, 133, 131, 133, 133, 131,\n       134, 133, 133, 133, 131, 131, 132, 131, 133, 135, 132, 130, 129,\n       132, 132, 133, 131, 133, 132, 134, 130, 133, 133, 133, 130, 130,\n       131, 132, 132, 133, 134, 133, 132, 133, 131, 133, 133, 135, 134,\n       133, 133, 133, 133, 134, 136, 137, 138, 138, 137, 138, 139, 139,\n       138, 133, 126, 114, 103, 100, 105, 110, 111, 113, 112, 112, 112,\n       110, 109, 108, 111, 110, 114, 114, 114, 116, 120, 119, 120, 121,\n       122, 125, 126, 127, 126, 128, 126, 133, 133, 135, 132, 133, 131,\n       131, 131, 135], dtype=uint8), array([4.51179147])], [array([141, 140, 139, 143, 142, 144, 141, 141, 141, 140, 140, 140, 140,\n       139, 138, 135, 132, 134, 137, 138, 133, 132, 130, 127, 126, 122,\n       119, 117, 115, 111, 103,  96,  94,  93,  94,  96,  97,  98, 103,\n       105, 107, 109, 112, 112, 114, 116, 115, 115, 118, 116, 117, 119,\n       118, 120, 118, 119, 116, 118, 115, 104,  95,  93,  92,  93, 101,\n       110, 110, 110, 108, 107, 105, 105, 105, 103, 103, 103, 105, 103,\n       106, 106, 107, 107, 106, 107, 108, 112, 109, 112, 114, 113, 115,\n       115, 117, 118, 117, 118, 118, 119, 123, 124, 122, 124, 125, 124,\n       125, 125, 127, 126, 129, 130, 129, 129, 130, 132, 131, 130, 132,\n       132, 133, 133], dtype=uint8), array([4.37560143])], [array([117, 113, 110, 109, 108, 105, 104, 105, 102, 103, 104, 105, 106,\n       104, 106, 106, 107, 107, 107, 107, 106, 107, 108, 109, 110, 111,\n       112, 113, 113, 113, 113, 114, 116, 115, 113, 115, 118, 117, 115,\n       118, 120, 121, 123, 122, 123, 122, 122, 125, 126, 124, 125, 127,\n       128, 126, 126, 126, 128, 125, 125, 127, 129, 130, 130, 129, 131,\n       132, 132, 134, 133, 133, 135, 135, 134, 138, 140, 140, 138, 138,\n       135, 130, 119, 104,  93,  92, 102, 109, 111, 110, 111, 111, 112,\n       111, 112, 114, 114, 116, 117, 119, 123, 123, 123, 126, 128, 130,\n       127, 131, 132, 134, 135, 134, 133, 135, 135, 137, 138, 134, 135,\n       138, 138, 136], dtype=uint8), array([3.95002995])], [array([127, 127, 129, 128, 130, 132, 133, 133, 134, 133, 136, 136, 136,\n       135, 136, 136, 137, 138, 138, 139, 137, 138, 137, 142, 142, 139,\n       140, 139, 139, 139, 140, 138, 140, 139, 139, 141, 140, 140, 141,\n       142, 142, 142, 141, 142, 142, 141, 141, 144, 142, 142, 140, 140,\n       140, 140, 141, 141, 143, 143, 140, 142, 144, 143, 141, 141, 142,\n       141, 135, 135, 142, 139, 142, 142, 142, 144, 141, 139, 139, 136,\n       132, 126, 118, 119, 123, 127, 128, 128, 127, 125, 127, 125, 126,\n       124, 125, 124, 126, 129, 131, 131, 133, 136, 135, 137, 140, 138,\n       137, 138, 134, 133, 132, 129, 129, 129, 130, 131, 133, 132, 133,\n       135, 132, 129], dtype=uint8), array([3.53048839])], [array([143, 142, 144, 144, 145, 146, 146, 143, 142, 145, 148, 146, 144,\n       143, 145, 146, 144, 143, 144, 143, 143, 143, 142, 143, 142, 143,\n       144, 143, 144, 145, 144, 140, 139, 134, 134, 137, 140, 143, 142,\n       144, 140, 145, 145, 145, 144, 145, 146, 144, 145, 145, 145, 145,\n       145, 147, 147, 142, 140, 141, 140, 138, 134, 126, 117, 112, 108,\n       118, 127, 128, 129, 133, 135, 135, 134, 135, 136, 136, 136, 137,\n       138, 137, 136, 134, 134, 134, 134, 135, 136, 134, 133, 133, 135,\n       136, 135, 134, 132, 128, 123, 125, 127, 130, 132, 133, 136, 137,\n       135, 138, 138, 137, 139, 141, 139, 141, 142, 142, 139, 140, 141,\n       142, 142, 142], dtype=uint8), array([3.67640104])], [array([138, 139, 138, 138, 138, 137, 137, 138, 137, 138, 137, 134, 139,\n       137, 136, 136, 134, 133, 133, 134, 135, 134, 136, 135, 132, 132,\n       133, 130, 135, 134, 135, 133, 133, 133, 132, 133, 133, 133, 132,\n       131, 131, 131, 128, 129, 127, 126, 126, 130, 128, 126, 126, 126,\n       127, 125, 125, 127, 129, 130, 125, 123, 105,  91,  89,  88,  94,\n       110, 118, 120, 122, 125, 124, 124, 126, 128, 128, 130, 132, 133,\n       133, 133, 133, 129, 125, 116, 110, 113, 122, 130, 133, 137, 136,\n       137, 138, 139, 138, 139, 139, 138, 138, 138, 136, 138, 135, 138,\n       139, 139, 140, 140, 143, 143, 141, 142, 139, 140, 141, 143, 140,\n       141, 140, 139], dtype=uint8), array([5.21064103])], [array([145, 146, 147, 146, 145, 146, 147, 148, 147, 149, 147, 149, 148,\n       145, 147, 147, 146, 147, 148, 149, 148, 150, 148, 150, 148, 145,\n       143, 143, 145, 146, 147, 147, 147, 146, 145, 146, 147, 147, 146,\n       145, 146, 146, 142, 143, 144, 144, 141, 139, 139, 135, 131, 128,\n       121, 112, 115, 119, 122, 125, 127, 126, 125, 124, 125, 123, 121,\n       120, 117, 113, 103,  88,  84,  91,  91,  81,  81,  98, 106, 109,\n       111, 116, 119, 122, 124, 125, 124, 122, 121, 119, 118, 121, 128,\n       131, 132, 133, 133, 135, 138, 138, 140, 142, 141, 140, 142, 141,\n       143, 142, 142, 143, 143, 144, 144, 143, 146, 145, 142, 144, 143,\n       145, 141, 143], dtype=uint8), array([7.26221294])], [array([146, 145, 142, 144, 145, 145, 143, 143, 144, 145, 144, 144, 145,\n       146, 146, 149, 147, 146, 147, 147, 146, 146, 146, 148, 144, 146,\n       146, 147, 146, 144, 148, 147, 147, 149, 148, 149, 146, 146, 147,\n       147, 147, 148, 147, 145, 146, 146, 144, 144, 146, 149, 145, 147,\n       146, 150, 148, 148, 149, 149, 150, 152, 152, 153, 156, 156, 158,\n       158, 154, 153, 157, 156, 146, 136, 124, 107,  94,  97, 108, 116,\n       115, 115, 114, 112, 114, 116, 118, 118, 117, 121, 122, 123, 127,\n       129, 130, 133, 135, 136, 138, 142, 144, 144, 145, 146, 149, 149,\n       148, 148, 150, 149, 150, 150, 150, 153, 154, 154, 153, 152, 152,\n       153, 153, 150], dtype=uint8), array([5.93755418])], [array([149, 145, 147, 146, 151, 145, 144, 144, 146, 147, 146, 144, 145,\n       145, 146, 146, 147, 147, 147, 147, 148, 149, 147, 147, 146, 148,\n       148, 148, 147, 147, 147, 148, 149, 148, 147, 149, 150, 150, 148,\n       151, 150, 151, 151, 150, 153, 152, 151, 151, 150, 150, 151, 150,\n       153, 152, 151, 151, 151, 154, 153, 154, 154, 151, 155, 157, 157,\n       157, 159, 159, 159, 155, 148, 137, 128, 113, 105, 112, 123, 122,\n       121, 122, 118, 114, 118, 118, 119, 120, 124, 124, 125, 126, 127,\n       133, 133, 135, 132, 135, 139, 141, 142, 145, 147, 149, 150, 151,\n       151, 148, 150, 151, 152, 153, 154, 153, 152, 153, 152, 152, 153,\n       152, 154, 155], dtype=uint8), array([5.5774322])], [array([155, 157, 157, 159, 158, 156, 155, 154, 154, 155, 156, 155, 156,\n       157, 155, 154, 151, 154, 155, 154, 156, 155, 151, 155, 155, 155,\n       153, 157, 158, 156, 156, 156, 160, 157, 157, 156, 156, 157, 158,\n       154, 156, 157, 157, 157, 156, 155, 158, 155, 153, 151, 154, 151,\n       147, 150, 150, 148, 147, 146, 146, 144, 144, 144, 140, 141, 138,\n       135, 132, 119, 106, 103, 104, 111, 127, 136, 140, 140, 143, 146,\n       145, 147, 146, 147, 148, 152, 149, 149, 149, 151, 153, 154, 153,\n       154, 153, 153, 156, 156, 153, 153, 153, 157, 157, 156, 154, 153,\n       154, 156, 154, 153, 153, 151, 152, 152, 154, 153, 157, 157, 153,\n       155, 152, 152], dtype=uint8), array([4.19787153])], [array([154, 154, 155, 156, 154, 157, 154, 156, 157, 157, 157, 157, 158,\n       154, 159, 159, 157, 156, 156, 156, 156, 156, 157, 156, 157, 157,\n       159, 159, 158, 157, 155, 158, 158, 158, 158, 156, 158, 157, 158,\n       157, 156, 155, 155, 153, 154, 158, 158, 155, 156, 155, 153, 153,\n       152, 152, 150, 149, 148, 147, 146, 148, 147, 150, 153, 155, 152,\n       148, 149, 147, 143, 140, 126, 117, 107, 106, 116, 126, 131, 134,\n       138, 139, 139, 142, 144, 146, 149, 147, 151, 151, 152, 155, 153,\n       154, 156, 158, 159, 156, 154, 158, 160, 158, 157, 159, 159, 157,\n       161, 161, 160, 159, 156, 158, 158, 158, 158, 160, 157, 157, 158,\n       157, 156, 156], dtype=uint8), array([3.7441611])], [array([143, 143, 141, 141, 141, 141, 143, 143, 141, 142, 143, 143, 140,\n       140, 141, 144, 141, 139, 140, 136, 136, 135, 135, 137, 136, 136,\n       136, 139, 141, 143, 142, 141, 142, 143, 144, 144, 144, 144, 141,\n       143, 143, 141, 144, 144, 142, 143, 144, 144, 144, 146, 141, 144,\n       144, 143, 143, 143, 144, 146, 148, 146, 147, 147, 149, 147, 147,\n       151, 152, 152, 152, 148, 142, 132, 117, 101,  97, 108, 118, 121,\n       121, 118, 116, 116, 117, 120, 121, 120, 123, 127, 127, 130, 131,\n       131, 134, 136, 135, 136, 141, 140, 140, 144, 146, 145, 143, 143,\n       142, 145, 143, 143, 145, 141, 142, 145, 145, 145, 144, 145, 145,\n       144, 146, 147], dtype=uint8), array([5.20109506])], [array([135, 133, 133, 135, 133, 132, 134, 135, 134, 135, 136, 137, 136,\n       137, 138, 137, 138, 137, 136, 137, 136, 136, 138, 139, 138, 138,\n       138, 137, 139, 142, 139, 138, 137, 139, 139, 138, 139, 136, 138,\n       138, 135, 138, 137, 137, 134, 139, 139, 139, 139, 137, 137, 138,\n       139, 141, 139, 139, 140, 139, 139, 140, 141, 143, 145, 146, 147,\n       148, 149, 150, 151, 150, 147, 141, 131, 117, 100,  90,  98, 109,\n       114, 115, 112, 111, 110, 109, 111, 112, 115, 116, 116, 117, 121,\n       121, 124, 125, 125, 127, 127, 129, 130, 130, 134, 133, 132, 131,\n       131, 132, 132, 134, 130, 131, 131, 130, 132, 131, 133, 132, 131,\n       131, 130, 130], dtype=uint8), array([4.87914297])], [array([162, 160, 162, 163, 165, 167, 169, 168, 168, 169, 168, 167, 166,\n       164, 164, 163, 161, 161, 162, 163, 163, 165, 167, 169, 164, 164,\n       167, 167, 165, 168, 168, 164, 165, 165, 167, 165, 167, 166, 166,\n       165, 164, 164, 165, 166, 166, 167, 166, 165, 165, 163, 166, 165,\n       166, 165, 167, 163, 163, 165, 168, 167, 164, 165, 162, 163, 166,\n       164, 165, 165, 164, 162, 166, 168, 166, 166, 165, 166, 166, 166,\n       164, 166, 170, 168, 165, 164, 165, 168, 168, 167, 164, 166, 167,\n       169, 164, 164, 164, 165, 165, 166, 166, 166, 168, 166, 167, 165,\n       165, 166, 166, 165, 165, 166, 165, 165, 166, 166, 165, 166, 163,\n       162, 162, 166], dtype=uint8), array([0.])], [array([154, 154, 155, 155, 156, 155, 154, 151, 150, 149, 151, 151, 151,\n       149, 150, 151, 151, 151, 151, 153, 151, 150, 152, 150, 153, 152,\n       152, 151, 152, 152, 155, 151, 155, 154, 155, 156, 157, 154, 154,\n       152, 156, 154, 152, 154, 155, 155, 156, 155, 155, 155, 157, 157,\n       155, 155, 156, 158, 160, 159, 158, 159, 156, 159, 158, 158, 157,\n       157, 154, 145, 133, 118, 115, 118, 113, 101, 100, 102, 104, 103,\n       103, 103, 100,  98, 100, 103, 106, 105, 108, 110, 112, 112, 113,\n       115, 116, 120, 123, 125, 129, 131, 134, 135, 137, 138, 137, 139,\n       140, 143, 144, 146, 149, 151, 149, 152, 153, 154, 155, 156, 157,\n       155, 158, 156], dtype=uint8), array([8.52101685])], [array([149, 151, 149, 151, 149, 151, 149, 150, 149, 150, 152, 151, 152,\n       151, 152, 151, 151, 151, 152, 152, 153, 153, 151, 151, 152, 151,\n       154, 157, 154, 150, 151, 154, 153, 156, 158, 155, 153, 153, 155,\n       156, 154, 157, 156, 155, 155, 154, 155, 157, 157, 158, 156, 153,\n       156, 157, 160, 160, 160, 159, 159, 158, 159, 160, 161, 161, 164,\n       155, 144, 130, 121, 122, 126, 121, 106,  97,  93,  97,  96,  97,\n       100,  99,  99, 100,  99,  99, 103, 101, 105, 109, 108, 112, 117,\n       115, 118, 122, 125, 125, 126, 129, 132, 135, 135, 135, 141, 143,\n       142, 143, 145, 148, 150, 149, 150, 151, 153, 154, 153, 152, 153,\n       156, 156, 155], dtype=uint8), array([8.73503977])], [array([126, 125, 125, 127, 125, 118, 112, 116, 120, 126, 132, 137, 143,\n       143, 149, 151, 151, 153, 155, 151, 151, 153, 152, 151, 152, 152,\n       150, 149, 151, 152, 152, 150, 150, 152, 151, 152, 151, 150, 151,\n       152, 151, 149, 149, 148, 146, 149, 150, 146, 143, 146, 146, 147,\n       146, 146, 142, 142, 141, 140, 140, 139, 138, 138, 137, 136, 135,\n       134, 133, 134, 135, 135, 130, 120, 117, 115, 113, 120, 131, 132,\n       135, 135, 135, 137, 139, 141, 141, 140, 142, 145, 145, 145, 145,\n       147, 145, 147, 147, 146, 147, 150, 146, 148, 147, 149, 150, 153,\n       150, 147, 147, 149, 147, 147, 147, 148, 148, 147, 148, 149, 147,\n       144, 147, 147], dtype=uint8), array([4.59109883])], [array([152, 152, 152, 153, 152, 152, 153, 153, 154, 153, 152, 152, 152,\n       152, 154, 153, 154, 153, 153, 150, 153, 154, 153, 152, 153, 153,\n       152, 152, 150, 149, 150, 151, 149, 147, 148, 148, 147, 148, 145,\n       145, 144, 145, 142, 137, 135, 135, 134, 133, 130, 129, 132, 130,\n       126, 125, 126, 129, 128, 129, 130, 130, 127, 114, 104, 114, 126,\n       136, 144, 150, 152, 155, 153, 151, 148, 152, 153, 152, 152, 150,\n       154, 151, 152, 152, 151, 150, 149, 148, 149, 148, 151, 150, 149,\n       149, 148, 148, 147, 145, 146, 147, 145, 144, 147, 146, 143, 142,\n       143, 143, 139, 142, 142, 142, 141, 142, 144, 142, 140, 137, 138,\n       138, 137, 137], dtype=uint8), array([4.34090199])], [array([150, 152, 151, 150, 151, 150, 150, 148, 151, 148, 148, 148, 148,\n       148, 150, 149, 147, 145, 150, 150, 151, 151, 150, 149, 150, 153,\n       149, 142, 149, 148, 148, 147, 144, 145, 144, 143, 142, 142, 144,\n       141, 144, 143, 140, 137, 135, 134, 134, 133, 131, 132, 133, 130,\n       130, 132, 132, 133, 132, 132, 132, 132, 132, 121, 116, 119, 127,\n       142, 149, 150, 150, 148, 149, 149, 147, 146, 141, 142, 141, 144,\n       143, 143, 143, 142, 139, 140, 142, 143, 141, 144, 144, 143, 142,\n       146, 145, 144, 144, 143, 143, 146, 144, 146, 145, 146, 148, 147,\n       146, 147, 148, 147, 146, 145, 144, 148, 147, 145, 142, 140, 141,\n       138, 141, 143], dtype=uint8), array([4.35067225])], [array([148, 150, 152, 153, 152, 152, 152, 149, 148, 149, 150, 151, 151,\n       151, 150, 149, 149, 151, 152, 152, 151, 149, 150, 150, 150, 148,\n       149, 150, 150, 149, 148, 147, 146, 144, 143, 139, 139, 140, 137,\n       134, 133, 135, 133, 132, 128, 128, 128, 129, 127, 124, 125, 127,\n       129, 128, 128, 129, 128, 127, 123, 112, 111, 119, 132, 141, 147,\n       149, 150, 150, 150, 148, 147, 148, 146, 146, 142, 142, 141, 140,\n       138, 137, 136, 136, 136, 133, 133, 132, 132, 133, 131, 128, 129,\n       121, 114, 119, 137, 140, 144, 147, 147, 147, 148, 143, 139, 137,\n       135, 137, 139, 141, 142, 142, 142, 143, 143, 142, 141, 140, 139,\n       138, 138, 138], dtype=uint8), array([4.18356936])], [array([140, 142, 141, 139, 139, 136, 137, 137, 140, 139, 137, 134, 137,\n       140, 140, 137, 138, 138, 137, 138, 138, 137, 140, 139, 139, 138,\n       135, 137, 138, 137, 137, 138, 136, 137, 136, 135, 137, 137, 137,\n       137, 135, 137, 138, 138, 139, 139, 137, 139, 138, 139, 138, 137,\n       137, 138, 138, 138, 137, 137, 137, 139, 139, 139, 141, 141, 139,\n       136, 138, 138, 138, 137, 136, 132, 122, 117, 115, 115, 116, 121,\n       126, 126, 125, 122, 120, 118, 118, 116, 116, 117, 118, 119, 120,\n       121, 121, 123, 126, 128, 128, 130, 132, 131, 131, 133, 136, 138,\n       133, 136, 135, 136, 139, 138, 138, 139, 140, 139, 136, 138, 138,\n       139, 139, 139], dtype=uint8), array([5.923182])], [array([142, 144, 142, 140, 141, 140, 141, 140, 141, 142, 142, 140, 140,\n       141, 144, 142, 140, 139, 136, 132, 128, 126, 128, 130, 132, 133,\n       135, 139, 141, 137, 138, 133, 127, 119, 114, 117, 121, 128, 132,\n       134, 136, 135, 137, 139, 141, 142, 143, 141, 144, 146, 145, 144,\n       141, 142, 139, 146, 146, 150, 151, 154, 156, 158, 157, 154, 149,\n       142, 130, 127, 126, 117, 104,  91,  86,  86,  85,  83,  85,  85,\n        88,  90,  92,  92,  92,  93,  95,  97,  99, 100, 103, 103, 106,\n       111, 113, 114, 117, 121, 121, 125, 126, 128, 129, 135, 133, 133,\n       134, 136, 136, 138, 143, 141, 141, 143, 144, 145, 145, 143, 143,\n       145, 146, 147], dtype=uint8), array([8.89809448])], [array([138, 139, 140, 137, 139, 139, 141, 138, 139, 139, 133, 133, 137,\n       141, 139, 141, 139, 140, 141, 141, 140, 140, 142, 143, 143, 140,\n       139, 140, 142, 139, 144, 143, 143, 144, 139, 139, 137, 140, 141,\n       141, 141, 142, 139, 141, 139, 139, 140, 140, 140, 142, 139, 138,\n       136, 138, 138, 136, 134, 135, 134, 135, 134, 132, 132, 132, 133,\n       131, 128, 126, 125, 124, 122, 115, 102,  96,  97,  96,  95, 103,\n       116, 124, 126, 127, 128, 127, 128, 132, 133, 132, 133, 134, 136,\n       137, 138, 139, 139, 142, 141, 142, 140, 140, 142, 143, 142, 141,\n       140, 139, 138, 130, 129, 124, 124, 127, 124, 125, 133, 132, 138,\n       142, 141, 142], dtype=uint8), array([4.7800506])], [array([142, 140, 141, 139, 142, 140, 141, 140, 141, 140, 140, 141, 140,\n       141, 144, 142, 140, 139, 140, 141, 141, 140, 139, 140, 141, 141,\n       142, 141, 141, 140, 141, 140, 139, 140, 139, 140, 142, 138, 140,\n       137, 141, 137, 133, 138, 136, 136, 136, 136, 134, 132, 129, 130,\n       131, 127, 126, 126, 126, 124, 122, 121, 121, 120, 119, 118, 119,\n       119, 121, 121, 119, 119, 115, 102,  97, 102, 103, 108, 121, 127,\n       130, 128, 129, 130, 132, 131, 130, 129, 131, 136, 136, 135, 135,\n       135, 135, 135, 137, 137, 138, 138, 136, 137, 138, 139, 138, 138,\n       137, 136, 135, 138, 138, 139, 140, 139, 140, 140, 141, 140, 139,\n       140, 138, 138], dtype=uint8), array([5.29939395])], [array([142, 140, 141, 142, 142, 138, 143, 138, 140, 139, 143, 142, 144,\n       143, 141, 139, 138, 141, 140, 137, 139, 140, 137, 138, 140, 140,\n       135, 136, 138, 140, 142, 139, 138, 136, 140, 138, 135, 138, 141,\n       137, 138, 136, 137, 141, 138, 133, 136, 136, 136, 134, 138, 132,\n       132, 137, 133, 131, 133, 128, 133, 129, 128, 129, 131, 130, 131,\n       128, 129, 128, 127, 122, 122, 114, 106, 101, 106, 102, 116, 121,\n       126, 122, 125, 121, 127, 127, 125, 127, 127, 125, 130, 128, 129,\n       131, 135, 129, 133, 135, 134, 134, 138, 133, 136, 139, 137, 138,\n       136, 138, 133, 138, 139, 135, 139, 138, 139, 135, 137, 139, 139,\n       138, 135, 138], dtype=uint8), array([5.08347615])], [array([172, 173, 173, 173, 171, 174, 174, 173, 174, 173, 174, 169, 173,\n       174, 172, 168, 169, 170, 171, 172, 169, 172, 172, 172, 172, 174,\n       172, 172, 174, 175, 172, 171, 172, 174, 171, 172, 174, 170, 173,\n       170, 169, 171, 169, 165, 166, 165, 161, 160, 159, 147, 124, 107,\n       117, 131, 118,  90,  81,  97, 115, 118, 120, 122, 125, 128, 132,\n       137, 139, 141, 145, 146, 152, 153, 155, 158, 160, 162, 164, 165,\n       165, 167, 168, 169, 169, 167, 168, 168, 167, 171, 170, 171, 171,\n       173, 172, 172, 172, 174, 173, 174, 172, 173, 174, 174, 175, 175,\n       172, 172, 173, 174, 176, 176, 174, 174, 173, 172, 174, 174, 173,\n       172, 173, 172], dtype=uint8), array([8.36581426])], [array([173, 172, 173, 170, 172, 175, 174, 171, 171, 170, 169, 165, 164,\n       165, 165, 163, 162, 162, 158, 157, 157, 156, 151, 145, 138, 136,\n       142, 148, 153, 161, 166, 166, 165, 166, 166, 166, 164, 165, 165,\n       165, 164, 165, 164, 163, 164, 162, 161, 160, 156, 155, 152, 148,\n       142, 138, 135, 134, 130, 126, 123, 125, 129, 131, 132, 128, 111,\n        90,  91, 103, 108, 102,  99, 119, 143, 155, 160, 162, 159, 163,\n       166, 165, 166, 169, 168, 169, 168, 170, 171, 171, 171, 172, 172,\n       171, 178, 172, 170, 172, 175, 177, 175, 175, 172, 174, 169, 169,\n       172, 171, 174, 176, 173, 172, 172, 175, 170, 173, 172, 171, 173,\n       175, 173, 170], dtype=uint8), array([8.89809448])], [array([174, 175, 172, 173, 173, 172, 173, 173, 171, 172, 173, 172, 170,\n       171, 170, 173, 168, 167, 168, 167, 171, 170, 171, 171, 172, 170,\n       170, 172, 174, 170, 169, 170, 170, 172, 170, 170, 169, 171, 172,\n       168, 173, 175, 174, 170, 168, 172, 171, 171, 171, 173, 171, 172,\n       173, 173, 173, 175, 173, 172, 173, 171, 172, 172, 171, 170, 170,\n       169, 168, 166, 166, 162, 155, 141, 127, 121, 118, 123, 140, 150,\n       154, 155, 157, 158, 165, 163, 165, 164, 165, 167, 167, 170, 168,\n       169, 170, 170, 170, 171, 173, 171, 170, 170, 173, 171, 170, 170,\n       171, 172, 171, 172, 172, 171, 171, 171, 171, 170, 168, 170, 170,\n       168, 170, 172], dtype=uint8), array([4.7800506])], [array([173, 171, 171, 173, 173, 175, 172, 173, 173, 173, 172, 170, 170,\n       171, 170, 171, 173, 172, 174, 175, 171, 172, 172, 173, 170, 172,\n       171, 173, 172, 175, 172, 172, 172, 171, 173, 171, 172, 172, 170,\n       172, 172, 173, 173, 170, 171, 171, 170, 172, 170, 170, 173, 175,\n       176, 172, 175, 172, 176, 172, 172, 171, 171, 173, 174, 171, 168,\n       169, 168, 167, 163, 150, 130, 121, 121, 109, 110, 135, 149, 151,\n       152, 157, 158, 159, 162, 162, 161, 165, 166, 168, 169, 169, 169,\n       169, 170, 170, 169, 169, 168, 162, 153, 143, 139, 143, 153, 165,\n       168, 169, 168, 170, 173, 173, 176, 172, 169, 170, 170, 171, 172,\n       173, 174, 176], dtype=uint8), array([5.29939395])], [array([165, 166, 165, 164, 165, 167, 167, 167, 167, 166, 167, 167, 170,\n       172, 169, 168, 169, 169, 168, 168, 167, 169, 170, 170, 170, 171,\n       170, 170, 170, 169, 169, 170, 168, 168, 168, 168, 169, 169, 169,\n       169, 172, 170, 170, 171, 170, 168, 171, 170, 169, 170, 171, 170,\n       168, 170, 168, 168, 171, 171, 168, 170, 171, 171, 170, 170, 170,\n       167, 170, 169, 166, 163, 162, 152, 135, 127, 122, 124, 139, 149,\n       153, 161, 161, 166, 164, 163, 165, 171, 171, 169, 171, 172, 172,\n       171, 171, 173, 171, 171, 174, 173, 171, 173, 173, 171, 174, 172,\n       175, 174, 175, 175, 174, 173, 175, 175, 171, 171, 172, 172, 173,\n       171, 173, 175], dtype=uint8), array([5.08347615])], [array([168, 168, 170, 170, 168, 167, 167, 166, 168, 169, 166, 169, 169,\n       170, 170, 169, 171, 168, 167, 168, 170, 172, 170, 169, 168, 171,\n       170, 169, 174, 169, 170, 168, 169, 172, 172, 169, 170, 171, 168,\n       171, 173, 169, 172, 170, 167, 172, 170, 172, 166, 167, 168, 171,\n       172, 172, 173, 173, 171, 172, 170, 169, 166, 166, 169, 167, 167,\n       168, 168, 165, 163, 159, 149, 137, 129, 128, 131, 140, 148, 152,\n       153, 157, 157, 162, 162, 162, 164, 166, 168, 169, 169, 168, 169,\n       170, 170, 171, 171, 170, 174, 170, 171, 170, 173, 174, 172, 172,\n       173, 172, 168, 170, 173, 173, 173, 171, 172, 170, 168, 169, 169,\n       170, 169, 167], dtype=uint8), array([5.923182])], [array([168, 168, 166, 165, 161, 156, 153, 149, 145, 141, 139, 136, 141,\n       145, 143, 144, 143, 143, 144, 147, 148, 146, 148, 147, 147, 151,\n       154, 154, 154, 157, 158, 156, 157, 158, 160, 160, 164, 162, 166,\n       168, 165, 166, 166, 165, 168, 169, 169, 169, 169, 169, 171, 171,\n       168, 169, 170, 169, 169, 172, 170, 170, 169, 171, 169, 169, 170,\n       169, 167, 166, 167, 157, 146, 134, 127, 122, 129, 140, 144, 145,\n       147, 147, 150, 149, 146, 153, 154, 153, 159, 163, 165, 164, 165,\n       167, 165, 165, 167, 169, 166, 168, 168, 170, 166, 167, 169, 168,\n       169, 170, 169, 171, 173, 172, 170, 169, 171, 172, 172, 169, 169,\n       169, 169, 166], dtype=uint8), array([4.59109883])], [array([162, 163, 165, 165, 166, 167, 167, 165, 172, 169, 168, 169, 169,\n       167, 168, 168, 167, 167, 167, 167, 167, 167, 165, 170, 171, 171,\n       167, 170, 168, 170, 169, 166, 166, 168, 168, 168, 167, 168, 168,\n       168, 167, 168, 166, 169, 166, 170, 170, 170, 170, 168, 168, 169,\n       168, 169, 169, 169, 169, 168, 166, 161, 160, 153, 146, 142, 136,\n       140, 144, 146, 144, 144, 146, 148, 147, 147, 148, 149, 150, 153,\n       150, 156, 154, 156, 157, 159, 161, 160, 159, 161, 165, 165, 163,\n       165, 167, 169, 169, 170, 169, 169, 168, 168, 169, 169, 170, 169,\n       169, 168, 169, 168, 168, 169, 170, 172, 169, 167, 167, 167, 169,\n       166, 168, 167], dtype=uint8), array([4.34090199])], [array([170, 167, 167, 167, 165, 167, 168, 164, 169, 170, 168, 166, 168,\n       166, 169, 166, 166, 169, 167, 169, 167, 166, 166, 168, 166, 163,\n       167, 168, 166, 166, 165, 166, 166, 169, 168, 162, 162, 162, 158,\n       155, 153, 155, 152, 149, 146, 144, 131, 112,  99, 102,  96,  79,\n        70,  82,  99, 112, 110, 110, 111, 113, 114, 117, 119, 125, 125,\n       127, 131, 136, 137, 142, 143, 147, 150, 152, 152, 155, 157, 157,\n       159, 161, 161, 162, 163, 164, 166, 167, 164, 165, 166, 167, 170,\n       167, 168, 168, 169, 169, 167, 170, 167, 166, 167, 169, 167, 167,\n       166, 164, 165, 168, 165, 162, 165, 165, 164, 163, 164, 165, 165,\n       164, 165, 163], dtype=uint8), array([8.52101685])], [array([167, 166, 167, 169, 167, 168, 166, 168, 169, 169, 170, 168, 168,\n       168, 168, 168, 169, 170, 168, 170, 171, 171, 171, 166, 168, 170,\n       170, 169, 168, 169, 173, 169, 168, 169, 167, 166, 166, 168, 168,\n       163, 161, 159, 159, 159, 158, 156, 152, 144, 130, 116, 116, 126,\n       127, 107,  89,  94, 107, 114, 113, 110, 111, 111, 114, 118, 119,\n       121, 125, 129, 132, 133, 137, 138, 138, 142, 144, 149, 149, 151,\n       155, 157, 157, 160, 161, 162, 162, 164, 163, 165, 166, 166, 166,\n       168, 165, 169, 168, 167, 165, 167, 167, 168, 168, 168, 167, 165,\n       166, 166, 165, 169, 165, 167, 168, 168, 167, 169, 166, 166, 166,\n       168, 167, 169], dtype=uint8), array([8.73503977])], [array([167, 167, 167, 166, 167, 168, 170, 168, 170, 167, 165, 164, 167,\n       167, 169, 169, 168, 166, 168, 167, 168, 168, 167, 165, 165, 166,\n       169, 167, 168, 165, 163, 166, 166, 165, 167, 166, 167, 167, 166,\n       167, 168, 168, 165, 167, 169, 167, 167, 170, 169, 167, 166, 167,\n       169, 167, 167, 164, 162, 156, 146, 138, 132, 127, 128, 137, 142,\n       140, 139, 139, 139, 140, 142, 143, 146, 147, 150, 152, 155, 157,\n       157, 159, 161, 162, 163, 165, 165, 166, 167, 167, 167, 167, 166,\n       170, 170, 170, 168, 166, 166, 161, 158, 148, 139, 136, 141, 145,\n       144, 145, 145, 146, 148, 149, 150, 150, 151, 154, 156, 159, 159,\n       163, 160, 161], dtype=uint8), array([4.18356936])], [array([167, 166, 165, 168, 167, 167, 168, 169, 169, 168, 169, 169, 168,\n       168, 170, 169, 169, 168, 166, 166, 168, 165, 165, 164, 165, 166,\n       167, 167, 171, 165, 166, 167, 169, 167, 168, 169, 170, 169, 165,\n       165, 168, 170, 167, 167, 167, 165, 166, 168, 165, 168, 166, 167,\n       168, 168, 169, 167, 169, 172, 167, 167, 166, 160, 153, 145, 137,\n       138, 141, 145, 142, 142, 142, 143, 144, 145, 145, 147, 149, 152,\n       153, 155, 156, 159, 161, 160, 161, 163, 161, 163, 164, 165, 165,\n       167, 167, 166, 166, 169, 170, 167, 171, 172, 168, 169, 168, 166,\n       170, 170, 172, 170, 169, 168, 164, 162, 161, 160, 161, 160, 159,\n       158, 159, 161], dtype=uint8), array([4.35067225])], [array([150, 152, 149, 148, 150, 152, 152, 150, 151, 152, 154, 154, 153,\n       151, 150, 152, 149, 150, 147, 152, 150, 150, 153, 152, 153, 150,\n       151, 151, 151, 151, 153, 154, 153, 152, 154, 151, 153, 152, 150,\n       151, 148, 153, 156, 150, 148, 148, 150, 150, 150, 151, 151, 151,\n       151, 152, 154, 153, 151, 153, 153, 152, 153, 151, 151, 151, 149,\n       149, 150, 150, 150, 148, 148, 147, 149, 148, 149, 148, 148, 147,\n       148, 147, 149, 149, 149, 149, 148, 151, 147, 148, 149, 149, 147,\n       145, 147, 146, 145, 145, 147, 147, 146, 147, 145, 147, 146, 147,\n       145, 145, 148, 147, 146, 149, 151, 147, 147, 149, 146, 146, 146,\n       146, 147, 147], dtype=uint8), array([0.])], [array([159, 158, 160, 160, 159, 159, 162, 160, 160, 158, 158, 156, 159,\n       160, 159, 158, 159, 160, 160, 158, 159, 157, 158, 160, 160, 159,\n       159, 161, 158, 157, 160, 161, 160, 159, 161, 158, 160, 160, 158,\n       157, 158, 157, 157, 157, 156, 161, 158, 157, 156, 156, 155, 159,\n       159, 158, 156, 155, 158, 159, 160, 160, 161, 159, 158, 161, 161,\n       163, 161, 160, 162, 160, 162, 161, 157, 146, 132, 120, 115, 105,\n       106, 124, 132, 133, 134, 136, 135, 135, 133, 133, 135, 135, 138,\n       139, 139, 142, 143, 143, 145, 147, 147, 147, 152, 152, 154, 154,\n       154, 153, 151, 151, 154, 153, 156, 159, 159, 160, 161, 160, 160,\n       159, 160, 159], dtype=uint8), array([4.75818342])], [array([161, 160, 160, 160, 160, 159, 158, 159, 159, 159, 159, 159, 161,\n       159, 158, 158, 158, 160, 159, 159, 159, 160, 157, 158, 157, 155,\n       158, 158, 158, 156, 153, 151, 155, 150, 150, 146, 144, 143, 143,\n       143, 141, 141, 139, 140, 139, 138, 137, 138, 139, 139, 138, 137,\n       138, 139, 139, 140, 139, 132, 126, 129, 138, 148, 156, 160, 159,\n       161, 160, 161, 158, 158, 157, 158, 159, 158, 159, 159, 160, 157,\n       158, 161, 158, 159, 158, 158, 157, 159, 158, 158, 158, 157, 157,\n       155, 156, 157, 156, 155, 154, 153, 153, 152, 151, 153, 154, 154,\n       154, 156, 156, 154, 154, 157, 158, 158, 158, 158, 156, 158, 157,\n       159, 160, 158], dtype=uint8), array([3.84824603])], [array([157, 159, 159, 160, 159, 157, 157, 158, 159, 157, 156, 157, 156,\n       154, 157, 157, 156, 154, 151, 153, 154, 156, 156, 155, 155, 156,\n       153, 152, 156, 157, 155, 155, 153, 153, 154, 152, 150, 153, 152,\n       152, 152, 151, 152, 153, 150, 149, 148, 147, 147, 144, 144, 141,\n       141, 139, 137, 137, 135, 135, 132, 132, 131, 132, 130, 129, 127,\n       128, 128, 128, 128, 116, 104, 106, 114, 121, 126, 136, 144, 147,\n       148, 152, 152, 152, 152, 152, 153, 153, 153, 153, 152, 153, 153,\n       152, 151, 150, 148, 147, 147, 147, 146, 142, 139, 132, 127, 126,\n       126, 124, 128, 133, 139, 142, 146, 147, 149, 147, 150, 152, 153,\n       153, 152, 154], dtype=uint8), array([5.52762087])], [array([156, 160, 162, 158, 157, 158, 157, 156, 156, 156, 157, 157, 159,\n       159, 156, 155, 156, 156, 156, 157, 156, 155, 154, 155, 154, 153,\n       153, 152, 149, 149, 148, 143, 146, 141, 140, 140, 137, 137, 137,\n       135, 134, 131, 129, 125, 126, 123, 121, 119, 122, 125, 126, 125,\n       130, 127, 128, 126, 115, 107, 114, 124, 130, 140, 151, 155, 157,\n       160, 158, 156, 156, 156, 158, 157, 156, 156, 155, 154, 154, 154,\n       153, 154, 157, 157, 154, 153, 153, 154, 152, 151, 153, 154, 153,\n       152, 152, 153, 153, 152, 154, 157, 152, 151, 152, 153, 153, 152,\n       149, 150, 152, 150, 151, 150, 149, 147, 151, 149, 151, 148, 147,\n       147, 146, 146], dtype=uint8), array([5.24173503])], [array([150, 151, 151, 151, 151, 153, 152, 154, 152, 152, 152, 149, 147,\n       146, 150, 150, 150, 151, 149, 146, 147, 150, 145, 144, 147, 145,\n       143, 142, 142, 142, 138, 134, 132, 130, 126, 128, 131, 128, 126,\n       128, 125, 126, 127, 125, 126, 128, 131, 132, 131, 133, 134, 133,\n       133, 131, 126, 118, 119, 132, 140, 151, 149, 150, 150, 151, 151,\n       150, 149, 148, 145, 148, 146, 147, 148, 147, 146, 147, 146, 147,\n       147, 149, 147, 146, 146, 143, 143, 145, 146, 146, 146, 145, 147,\n       147, 145, 144, 145, 143, 142, 145, 146, 146, 146, 146, 147, 146,\n       145, 148, 147, 147, 146, 146, 147, 147, 145, 146, 148, 146, 146,\n       146, 146, 145], dtype=uint8), array([3.48806279])], [array([148, 150, 150, 147, 148, 150, 146, 147, 147, 148, 146, 148, 147,\n       148, 147, 146, 145, 146, 144, 145, 147, 145, 148, 144, 145, 146,\n       147, 145, 146, 146, 145, 145, 145, 149, 147, 145, 147, 148, 147,\n       145, 147, 145, 146, 147, 145, 144, 147, 146, 144, 145, 144, 145,\n       145, 148, 144, 145, 144, 144, 142, 141, 142, 142, 140, 139, 139,\n       141, 140, 142, 139, 141, 138, 139, 138, 135, 134, 126, 114, 109,\n       104, 100, 108, 121, 124, 126, 125, 125, 126, 127, 124, 126, 127,\n       128, 128, 128, 127, 128, 126, 129, 128, 130, 128, 128, 124, 126,\n       126, 125, 126, 127, 126, 125, 126, 124, 125, 126, 123, 123, 125,\n       121, 116, 105], dtype=uint8), array([4.68352392])], [array([146, 148, 146, 147, 147, 147, 145, 144, 146, 144, 144, 146, 149,\n       143, 146, 144, 145, 144, 144, 144, 144, 140, 141, 142, 141, 141,\n       137, 137, 140, 142, 139, 137, 138, 141, 135, 134, 133, 130, 128,\n       127, 120, 107, 104, 105, 107, 110, 122, 127, 130, 129, 130, 130,\n       131, 131, 132, 133, 131, 128, 130, 132, 132, 128, 132, 132, 132,\n       131, 131, 133, 134, 131, 133, 128, 117, 111, 106, 105, 114, 126,\n       135, 137, 138, 140, 142, 143, 144, 145, 143, 144, 144, 144, 146,\n       145, 143, 144, 145, 146, 146, 146, 147, 145, 146, 146, 145, 145,\n       145, 146, 145, 145, 145, 149, 146, 147, 146, 145, 144, 144, 145,\n       144, 143, 146], dtype=uint8), array([4.45399496])], [array([162, 160, 159, 159, 158, 159, 159, 160, 158, 158, 160, 160, 159,\n       157, 157, 159, 160, 160, 163, 163, 161, 161, 160, 156, 155, 156,\n       158, 161, 156, 160, 159, 160, 159, 161, 161, 161, 160, 157, 157,\n       157, 158, 159, 159, 156, 156, 160, 159, 158, 160, 159, 159, 159,\n       160, 159, 158, 159, 161, 156, 160, 160, 161, 158, 160, 155, 156,\n       157, 158, 159, 156, 157, 159, 159, 155, 157, 156, 158, 157, 158,\n       156, 158, 159, 159, 156, 156, 158, 159, 158, 158, 157, 159, 159,\n       157, 158, 158, 157, 157, 157, 158, 156, 156, 157, 159, 158, 158,\n       159, 157, 160, 158, 161, 156, 154, 156, 157, 156, 154, 157, 157,\n       159, 155, 155], dtype=uint8), array([0.])], [array([171, 172, 174, 171, 171, 171, 169, 170, 174, 174, 174, 171, 171,\n       170, 169, 176, 173, 170, 171, 170, 172, 171, 173, 173, 172, 172,\n       173, 169, 171, 172, 172, 172, 171, 169, 170, 171, 170, 169, 171,\n       169, 170, 172, 172, 174, 171, 172, 168, 166, 168, 170, 171, 169,\n       170, 165, 165, 166, 164, 162, 161, 159, 159, 160, 154, 154, 149,\n       134, 111, 104, 109, 107,  90,  82,  95, 111, 120, 122, 126, 126,\n       129, 133, 137, 141, 143, 146, 148, 153, 156, 158, 158, 162, 164,\n       164, 165, 168, 169, 170, 168, 171, 170, 171, 171, 171, 170, 168,\n       168, 170, 169, 171, 171, 170, 171, 169, 170, 171, 171, 172, 172,\n       170, 170, 170], dtype=uint8), array([8.71474618])], [array([174, 175, 173, 173, 170, 172, 174, 170, 172, 173, 173, 171, 173,\n       173, 172, 172, 172, 171, 173, 172, 171, 174, 173, 172, 170, 170,\n       171, 171, 171, 171, 173, 175, 174, 172, 175, 171, 169, 172, 170,\n       171, 170, 165, 169, 169, 170, 169, 170, 173, 175, 170, 170, 170,\n       167, 168, 169, 166, 165, 166, 163, 163, 160, 159, 153, 155, 150,\n       149, 137, 116,  90,  74,  87, 109, 116, 110, 102, 108, 124, 135,\n       136, 137, 139, 142, 146, 149, 149, 153, 153, 157, 158, 159, 158,\n       162, 165, 166, 165, 167, 168, 168, 168, 168, 168, 166, 170, 172,\n       169, 169, 169, 173, 171, 170, 170, 172, 172, 173, 171, 172, 172,\n       172, 172, 170], dtype=uint8), array([9.02551505])], [array([137, 139, 145, 146, 146, 145, 146, 148, 151, 151, 152, 154, 153,\n       154, 157, 156, 157, 159, 161, 159, 158, 159, 161, 163, 162, 163,\n       165, 165, 162, 164, 165, 166, 169, 167, 166, 167, 166, 164, 167,\n       165, 167, 167, 167, 164, 161, 155, 144, 123, 115, 125, 123, 104,\n       101, 109, 116, 117, 120, 121, 124, 130, 133, 137, 140, 142, 145,\n       152, 152, 153, 155, 159, 160, 162, 163, 166, 168, 167, 168, 168,\n       166, 169, 168, 168, 169, 169, 171, 170, 172, 173, 172, 171, 170,\n       172, 169, 171, 170, 171, 172, 171, 169, 170, 171, 170, 172, 170,\n       169, 171, 173, 171, 171, 171, 170, 170, 170, 173, 171, 170, 171,\n       171, 172, 169], dtype=uint8), array([7.32964192])], [array([173, 174, 171, 173, 173, 173, 173, 173, 172, 173, 171, 173, 177,\n       173, 176, 173, 172, 172, 174, 175, 174, 173, 173, 173, 174, 176,\n       175, 172, 175, 174, 172, 170, 173, 171, 169, 170, 167, 164, 159,\n       161, 159, 162, 168, 167, 168, 169, 170, 171, 173, 173, 172, 171,\n       171, 170, 167, 168, 167, 170, 170, 165, 163, 162, 157, 143, 131,\n       126, 118, 120, 131, 140, 144, 144, 149, 153, 158, 161, 161, 163,\n       164, 165, 169, 170, 168, 173, 172, 172, 171, 171, 172, 174, 174,\n       174, 173, 172, 172, 172, 175, 165, 176, 174, 175, 174, 174, 175,\n       174, 173, 174, 174, 175, 176, 173, 173, 172, 174, 173, 172, 172,\n       173, 173, 172], dtype=uint8), array([4.88385177])], [array([168, 169, 171, 171, 172, 170, 170, 170, 172, 171, 170, 171, 171,\n       169, 168, 167, 172, 172, 169, 169, 169, 169, 170, 171, 172, 170,\n       172, 171, 173, 173, 170, 170, 170, 169, 168, 165, 163, 162, 165,\n       159, 156, 155, 158, 163, 165, 166, 167, 168, 166, 165, 167, 167,\n       162, 158, 155, 153, 150, 148, 148, 147, 150, 149, 148, 150, 142,\n       139, 137, 139, 132, 113,  94,  94, 104, 106, 103, 117, 144, 155,\n       158, 161, 161, 165, 165, 166, 168, 169, 169, 164, 167, 165, 171,\n       172, 170, 171, 169, 169, 171, 172, 172, 171, 170, 171, 173, 171,\n       173, 174, 172, 172, 171, 172, 171, 173, 175, 174, 175, 174, 174,\n       171, 172, 173], dtype=uint8), array([6.54541434])], [array([167, 164, 161, 160, 160, 160, 157, 157, 159, 157, 158, 157, 155,\n       154, 151, 150, 148, 147, 137, 127, 120, 119, 124, 132, 141, 148,\n       152, 155, 153, 152, 149, 140, 128, 119, 115, 123, 128, 135, 139,\n       137, 136, 137, 140, 149, 154, 162, 161, 163, 166, 166, 165, 167,\n       169, 167, 168, 166, 168, 168, 168, 165, 161, 162, 159, 155, 156,\n       154, 153, 153, 150, 135, 112, 100, 111, 117, 106, 109, 127, 149,\n       152, 160, 161, 161, 163, 167, 166, 166, 168, 170, 168, 169, 169,\n       173, 175, 171, 171, 172, 174, 174, 172, 174, 174, 173, 174, 173,\n       172, 169, 172, 172, 173, 174, 172, 174, 171, 172, 172, 167, 165,\n       169, 171, 173], dtype=uint8), array([7.03218657])], [array([162, 159, 159, 158, 155, 152, 148, 145, 135, 129, 109, 104, 106,\n       109, 112, 114, 116, 122, 134, 145, 153, 155, 157, 157, 161, 160,\n       157, 160, 161, 163, 163, 163, 164, 164, 166, 168, 165, 170, 172,\n       171, 168, 168, 168, 170, 174, 171, 168, 165, 165, 167, 167, 164,\n       164, 161, 159, 158, 156, 155, 149, 148, 145, 142, 138, 135, 134,\n       136, 134, 128, 115,  99,  97, 109, 110, 107, 118, 139, 153, 157,\n       156, 162, 162, 163, 164, 164, 164, 168, 168, 168, 169, 170, 170,\n       171, 171, 172, 173, 172, 175, 174, 175, 172, 171, 176, 174, 173,\n       174, 175, 174, 175, 174, 173, 172, 171, 171, 172, 171, 170, 170,\n       170, 170, 172], dtype=uint8), array([6.38074043])], [array([165, 162, 163, 163, 164, 162, 160, 161, 163, 163, 163, 166, 165,\n       163, 164, 167, 165, 170, 166, 170, 167, 169, 169, 170, 169, 168,\n       168, 169, 167, 167, 166, 165, 161, 168, 171, 166, 169, 170, 170,\n       168, 169, 169, 168, 168, 166, 167, 168, 168, 166, 165, 168, 163,\n       166, 166, 163, 165, 164, 163, 164, 165, 163, 161, 157, 154, 155,\n       158, 159, 160, 160, 164, 159, 160, 156, 150, 144, 128, 115, 120,\n       127, 129, 136, 153, 163, 164, 169, 167, 170, 170, 168, 169, 169,\n       170, 172, 172, 170, 169, 169, 170, 169, 170, 174, 170, 174, 173,\n       170, 169, 170, 170, 170, 170, 170, 169, 172, 171, 170, 173, 170,\n       173, 176, 174], dtype=uint8), array([5.54238319])], [array([171, 170, 171, 173, 172, 172, 173, 175, 177, 176, 176, 174, 173,\n       173, 170, 174, 173, 173, 173, 173, 174, 176, 174, 172, 169, 172,\n       171, 170, 169, 167, 170, 167, 166, 168, 169, 166, 167, 167, 163,\n       164, 158, 156, 154, 154, 151, 153, 153, 152, 152, 150, 148, 148,\n       154, 160, 160, 163, 164, 163, 164, 167, 168, 167, 166, 165, 165,\n       164, 165, 163, 160, 159, 159, 156, 153, 150, 146, 145, 141, 135,\n       135, 140, 145, 152, 163, 169, 169, 171, 169, 169, 170, 171, 170,\n       170, 172, 170, 169, 171, 173, 172, 167, 163, 165, 167, 162, 162,\n       163, 163, 166, 165, 162, 167, 170, 168, 171, 170, 169, 171, 174,\n       172, 173, 170], dtype=uint8), array([4.58639866])], [array([175, 175, 178, 173, 174, 175, 173, 174, 174, 178, 178, 176, 176,\n       179, 175, 173, 176, 173, 173, 173, 173, 173, 174, 176, 176, 173,\n       171, 172, 173, 173, 174, 172, 172, 173, 176, 175, 175, 175, 175,\n       174, 175, 174, 173, 172, 174, 172, 170, 169, 169, 167, 166, 164,\n       156, 145, 135, 123, 109, 109, 124, 138, 142, 138, 140, 142, 141,\n       142, 147, 149, 155, 158, 159, 162, 164, 168, 169, 169, 169, 170,\n       172, 174, 176, 177, 175, 173, 174, 176, 179, 174, 172, 175, 175,\n       175, 175, 179, 176, 175, 174, 177, 176, 176, 177, 177, 174, 174,\n       177, 176, 174, 175, 177, 175, 173, 175, 177, 177, 176, 174, 173,\n       173, 174, 178], dtype=uint8), array([5.4984222])], [array([163, 161, 158, 157, 160, 157, 152, 145, 136, 122, 109,  99,  96,\n       100, 107, 110, 117, 120, 126, 128, 130, 131, 135, 134, 141, 145,\n       150, 152, 155, 161, 161, 161, 164, 164, 162, 164, 164, 163, 162,\n       164, 167, 166, 163, 166, 168, 167, 167, 165, 166, 167, 167, 168,\n       168, 168, 164, 162, 162, 163, 166, 166, 164, 165, 164, 162, 159,\n       156, 146, 127, 117, 123, 128, 117,  96,  91, 102, 111, 117, 120,\n       122, 125, 128, 132, 135, 138, 141, 145, 146, 153, 157, 158, 161,\n       162, 160, 163, 165, 170, 170, 169, 168, 172, 171, 170, 169, 169,\n       168, 171, 169, 171, 173, 175, 173, 172, 172, 172, 173, 173, 172,\n       172, 173, 175], dtype=uint8), array([8.81468908])], [array([173, 173, 171, 172, 172, 172, 174, 173, 171, 170, 172, 173, 170,\n       169, 171, 171, 168, 169, 172, 173, 172, 172, 171, 169, 172, 173,\n       171, 171, 173, 173, 172, 174, 174, 173, 173, 172, 172, 173, 170,\n       172, 175, 174, 175, 175, 172, 171, 173, 174, 172, 171, 171, 170,\n       170, 173, 172, 169, 172, 168, 167, 164, 167, 168, 166, 166, 163,\n       163, 164, 162, 162, 162, 160, 162, 160, 156, 154, 141, 124,  96,\n        90,  89,  94, 118, 141, 155, 159, 162, 163, 163, 167, 166, 168,\n       170, 167, 168, 172, 174, 167, 170, 172, 173, 171, 173, 175, 174,\n       172, 173, 171, 175, 171, 171, 170, 173, 172, 170, 174, 176, 170,\n       173, 172, 176], dtype=uint8), array([5.09065576])], [array([147, 150, 150, 150, 150, 147, 149, 152, 151, 148, 149, 148, 151,\n       151, 152, 153, 151, 147, 148, 149, 150, 151, 153, 152, 151, 153,\n       153, 152, 150, 151, 152, 153, 151, 151, 150, 152, 151, 152, 151,\n       151, 151, 149, 150, 152, 153, 153, 155, 153, 153, 151, 152, 154,\n       152, 153, 151, 151, 151, 152, 154, 152, 150, 152, 153, 150, 154,\n       154, 154, 155, 153, 152, 157, 158, 157, 155, 156, 155, 154, 154,\n       153, 157, 156, 152, 152, 154, 156, 151, 152, 156, 157, 155, 153,\n       152, 154, 152, 152, 154, 152, 152, 154, 153, 155, 152, 152, 151,\n       153, 154, 151, 150, 152, 154, 154, 154, 151, 151, 153, 153, 153,\n       152, 152, 153], dtype=uint8), array([0.])], [array([171, 170, 168, 167, 171, 170, 167, 167, 168, 169, 169, 170, 168,\n       169, 168, 169, 171, 168, 167, 167, 168, 169, 170, 169, 164, 167,\n       166, 167, 168, 170, 169, 169, 167, 167, 168, 167, 167, 167, 168,\n       166, 168, 167, 166, 167, 167, 168, 170, 170, 168, 170, 171, 172,\n       168, 169, 167, 167, 168, 167, 169, 166, 164, 164, 159, 148, 130,\n       116, 107, 108, 116, 131, 138, 138, 142, 143, 142, 144, 144, 146,\n       148, 151, 153, 154, 157, 159, 161, 161, 162, 162, 161, 159, 164,\n       166, 167, 167, 168, 166, 168, 165, 169, 169, 169, 169, 170, 170,\n       168, 168, 169, 170, 170, 169, 167, 167, 167, 161, 154, 146, 137,\n       129, 131, 139], dtype=uint8), array([4.42544194])], [array([166, 168, 167, 164, 167, 166, 163, 167, 167, 165, 167, 166, 169,\n       167, 167, 169, 166, 167, 169, 168, 166, 167, 171, 169, 168, 170,\n       169, 168, 169, 168, 166, 168, 169, 170, 166, 167, 169, 166, 168,\n       166, 167, 167, 167, 165, 166, 164, 163, 158, 147, 141, 134, 126,\n       122, 126, 139, 142, 151, 153, 156, 160, 162, 161, 164, 165, 164,\n       164, 163, 165, 166, 167, 163, 155, 148, 137, 121, 112, 117, 131,\n       137, 139, 138, 137, 139, 141, 144, 145, 145, 148, 152, 152, 155,\n       157, 161, 160, 162, 162, 163, 163, 164, 165, 166, 166, 166, 166,\n       166, 167, 168, 171, 168, 167, 170, 166, 167, 168, 167, 168, 167,\n       167, 165, 165], dtype=uint8), array([4.45399496])], [array([143, 144, 146, 149, 150, 153, 150, 152, 154, 156, 154, 154, 158,\n       155, 159, 158, 153, 157, 157, 162, 162, 162, 160, 158, 159, 161,\n       163, 165, 165, 162, 163, 165, 164, 166, 166, 163, 165, 165, 167,\n       167, 167, 168, 167, 167, 165, 165, 167, 165, 168, 166, 167, 167,\n       168, 168, 167, 167, 167, 167, 168, 169, 169, 169, 169, 168, 170,\n       170, 168, 169, 168, 168, 167, 166, 165, 165, 165, 164, 158, 146,\n       132, 119, 109, 109, 124, 136, 141, 147, 148, 148, 150, 153, 154,\n       155, 156, 158, 159, 162, 164, 165, 164, 164, 166, 167, 167, 165,\n       166, 169, 168, 167, 167, 169, 171, 171, 171, 168, 163, 153, 141,\n       126, 113, 105], dtype=uint8), array([4.68352392])], [array([166, 170, 170, 167, 166, 167, 167, 167, 169, 168, 166, 165, 166,\n       168, 167, 167, 166, 168, 169, 166, 165, 162, 164, 165, 167, 167,\n       165, 170, 166, 166, 163, 165, 164, 161, 165, 165, 169, 168, 167,\n       169, 167, 166, 167, 165, 167, 165, 162, 160, 160, 154, 148, 138,\n       131, 130, 134, 141, 148, 150, 151, 152, 152, 153, 153, 151, 153,\n       154, 151, 151, 152, 152, 153, 153, 155, 156, 159, 161, 157, 161,\n       161, 163, 161, 161, 164, 165, 164, 164, 164, 165, 168, 163, 162,\n       163, 165, 166, 168, 168, 168, 167, 165, 169, 169, 168, 167, 168,\n       168, 167, 169, 169, 167, 167, 168, 168, 169, 169, 168, 168, 166,\n       169, 169, 165], dtype=uint8), array([3.48806279])], [array([153, 151, 152, 155, 157, 159, 163, 163, 163, 163, 165, 164, 169,\n       165, 163, 165, 166, 165, 164, 167, 166, 168, 166, 165, 165, 166,\n       167, 166, 165, 166, 168, 167, 167, 168, 170, 166, 170, 167, 167,\n       165, 165, 168, 168, 167, 168, 167, 168, 168, 167, 165, 165, 169,\n       167, 167, 166, 165, 167, 168, 165, 169, 168, 168, 167, 168, 168,\n       167, 166, 170, 167, 168, 166, 166, 164, 152, 140, 130, 116, 103,\n       105, 121, 131, 133, 134, 133, 137, 137, 138, 140, 143, 145, 143,\n       148, 151, 154, 156, 157, 159, 159, 159, 161, 162, 164, 164, 163,\n       165, 165, 165, 167, 167, 167, 168, 168, 169, 169, 171, 169, 170,\n       167, 165, 167], dtype=uint8), array([5.52762087])], [array([166, 166, 167, 168, 167, 164, 165, 166, 166, 168, 170, 168, 167,\n       168, 168, 167, 167, 167, 166, 166, 165, 165, 165, 166, 165, 166,\n       167, 168, 167, 166, 167, 166, 166, 165, 166, 166, 165, 165, 162,\n       156, 148, 141, 141, 148, 156, 161, 162, 162, 164, 165, 167, 166,\n       163, 159, 151, 141, 134, 130, 121, 111, 112, 120, 124, 127, 128,\n       125, 123, 124, 126, 129, 132, 136, 139, 142, 146, 147, 149, 151,\n       152, 155, 154, 157, 159, 159, 160, 162, 163, 163, 163, 164, 164,\n       166, 167, 167, 165, 163, 163, 164, 165, 166, 166, 165, 165, 165,\n       165, 167, 167, 167, 167, 167, 166, 166, 166, 165, 166, 166, 165,\n       168, 168, 168], dtype=uint8), array([5.24173503])], [array([164, 164, 166, 166, 168, 166, 165, 164, 167, 164, 163, 165, 165,\n       165, 165, 165, 166, 166, 166, 166, 162, 165, 166, 166, 161, 159,\n       159, 155, 151, 148, 148, 153, 156, 160, 164, 163, 162, 164, 164,\n       163, 164, 167, 165, 164, 166, 166, 163, 164, 164, 164, 168, 163,\n       162, 161, 162, 161, 159, 156, 157, 155, 155, 153, 149, 150, 147,\n       145, 143, 141, 139, 137, 139, 136, 134, 134, 135, 129, 119, 112,\n       114, 117, 125, 141, 152, 157, 159, 160, 162, 163, 165, 163, 162,\n       162, 163, 162, 165, 163, 165, 165, 166, 165, 165, 162, 163, 164,\n       163, 163, 167, 169, 167, 167, 167, 164, 165, 166, 164, 165, 164,\n       166, 164, 166], dtype=uint8), array([4.75818342])], [array([158, 159, 161, 162, 163, 163, 161, 162, 163, 162, 161, 162, 164,\n       163, 163, 163, 162, 161, 162, 163, 162, 160, 161, 165, 164, 166,\n       167, 163, 161, 163, 162, 162, 165, 163, 161, 159, 161, 160, 162,\n       162, 166, 163, 164, 165, 166, 169, 167, 165, 167, 166, 167, 166,\n       166, 164, 161, 155, 143, 131, 124, 127, 134, 136, 138, 141, 141,\n       136, 134, 135, 136, 137, 138, 140, 143, 146, 149, 152, 154, 155,\n       158, 159, 159, 159, 162, 163, 161, 160, 161, 163, 166, 162, 162,\n       164, 164, 164, 168, 168, 166, 167, 164, 167, 161, 165, 168, 164,\n       163, 162, 163, 164, 166, 163, 160, 157, 156, 157, 154, 152, 152,\n       152, 151, 153], dtype=uint8), array([3.84824603])], [array([157, 157, 156, 156, 159, 159, 158, 157, 157, 158, 157, 154, 155,\n       155, 154, 155, 156, 158, 157, 156, 155, 157, 154, 155, 157, 157,\n       156, 156, 157, 157, 156, 156, 159, 158, 158, 159, 160, 160, 158,\n       157, 155, 159, 160, 162, 161, 161, 161, 162, 162, 162, 163, 162,\n       161, 162, 162, 161, 159, 157, 155, 154, 151, 149, 140, 134, 133,\n       126, 116, 109, 113, 118, 121, 120, 113, 108, 108, 109, 110, 112,\n       116, 116, 121, 122, 124, 126, 129, 130, 134, 138, 140, 142, 143,\n       147, 150, 151, 152, 152, 154, 155, 157, 157, 159, 158, 159, 160,\n       159, 158, 158, 160, 157, 159, 159, 159, 159, 159, 158, 160, 162,\n       163, 163, 163], dtype=uint8), array([6.3266849])], [array([129, 130, 132, 134, 134, 133, 137, 140, 141, 139, 138, 140, 143,\n       145, 146, 144, 147, 146, 146, 148, 150, 153, 154, 154, 154, 154,\n       153, 155, 155, 156, 157, 157, 160, 159, 157, 157, 158, 156, 156,\n       157, 158, 161, 157, 160, 158, 159, 161, 160, 159, 158, 158, 158,\n       160, 160, 156, 159, 155, 153, 145, 140, 134, 129, 129, 136, 142,\n       147, 146, 148, 144, 142, 142, 143, 143, 139, 132, 117, 106, 101,\n        93,  90, 100, 111, 119, 122, 127, 130, 129, 131, 135, 138, 139,\n       140, 143, 146, 142, 146, 150, 153, 152, 154, 156, 157, 158, 161,\n       159, 162, 160, 160, 161, 161, 162, 163, 161, 161, 163, 162, 163,\n       161, 161, 163], dtype=uint8), array([5.48232787])], [array([133, 134, 132, 136, 134, 138, 140, 135, 138, 140, 140, 141, 140,\n       141, 143, 147, 143, 146, 146, 148, 149, 144, 150, 150, 153, 151,\n       148, 154, 152, 151, 150, 154, 151, 153, 152, 154, 150, 151, 150,\n       150, 153, 156, 156, 158, 151, 156, 153, 155, 155, 156, 156, 156,\n       158, 154, 156, 157, 155, 154, 157, 154, 157, 156, 158, 157, 159,\n       159, 158, 161, 158, 162, 160, 161, 162, 160, 155, 147, 138, 121,\n       111, 105, 108, 112, 118, 121, 122, 125, 125, 124, 125, 126, 126,\n       131, 130, 131, 135, 134, 137, 140, 137, 139, 145, 146, 150, 151,\n       152, 149, 155, 154, 154, 154, 152, 161, 157, 159, 158, 159, 159,\n       161, 160, 159], dtype=uint8), array([4.22418291])], [array([168, 169, 167, 170, 169, 170, 171, 169, 168, 168, 168, 165, 170,\n       167, 169, 171, 168, 166, 165, 166, 169, 168, 167, 165, 165, 166,\n       166, 167, 169, 169, 168, 169, 168, 169, 170, 168, 166, 167, 166,\n       167, 166, 167, 167, 168, 169, 168, 167, 167, 171, 170, 170, 168,\n       168, 169, 167, 170, 170, 170, 169, 169, 169, 170, 171, 170, 169,\n       167, 168, 168, 169, 168, 167, 168, 167, 165, 167, 169, 167, 169,\n       167, 169, 168, 167, 168, 168, 170, 170, 167, 167, 169, 170, 170,\n       168, 169, 167, 170, 170, 169, 171, 169, 167, 170, 167, 168, 170,\n       167, 168, 168, 168, 165, 165, 169, 167, 165, 168, 166, 165, 168,\n       168, 167, 167], dtype=uint8), array([0.])], [array([163, 162, 165, 164, 165, 162, 162, 163, 163, 164, 165, 164, 164,\n       165, 163, 162, 162, 164, 165, 166, 165, 163, 165, 165, 168, 164,\n       164, 166, 167, 166, 164, 168, 167, 164, 165, 165, 165, 167, 167,\n       167, 165, 165, 166, 165, 166, 166, 165, 166, 168, 166, 167, 167,\n       166, 167, 167, 167, 166, 166, 165, 168, 166, 166, 167, 164, 159,\n       154, 143, 130, 122, 126, 133, 139, 139, 139, 139, 141, 139, 141,\n       144, 146, 149, 149, 152, 150, 153, 154, 159, 158, 158, 159, 163,\n       164, 163, 164, 164, 164, 165, 165, 166, 165, 166, 167, 167, 167,\n       166, 166, 166, 166, 168, 167, 167, 167, 169, 168, 163, 166, 168,\n       165, 166, 166], dtype=uint8), array([3.71157107])], [array([166, 163, 163, 163, 165, 165, 164, 166, 167, 165, 165, 165, 166,\n       166, 167, 166, 166, 167, 165, 163, 165, 166, 165, 165, 165, 164,\n       168, 167, 168, 166, 165, 166, 165, 167, 165, 164, 166, 163, 165,\n       163, 161, 162, 160, 156, 157, 156, 154, 154, 154, 158, 158, 160,\n       162, 163, 162, 163, 164, 164, 167, 167, 167, 167, 161, 163, 162,\n       164, 163, 161, 158, 156, 155, 151, 150, 144, 129, 117, 113, 110,\n       114, 129, 139, 140, 141, 141, 144, 146, 147, 148, 150, 152, 153,\n       154, 156, 159, 162, 164, 162, 164, 163, 162, 165, 167, 166, 167,\n       166, 168, 165, 165, 165, 164, 165, 165, 165, 163, 165, 166, 167,\n       165, 165, 166], dtype=uint8), array([4.08382213])], [array([168, 167, 166, 164, 165, 167, 164, 165, 167, 168, 166, 167, 169,\n       167, 166, 167, 167, 166, 168, 168, 168, 165, 164, 164, 164, 168,\n       166, 165, 167, 167, 166, 166, 164, 166, 168, 164, 165, 164, 161,\n       160, 158, 156, 157, 153, 149, 141, 129, 119, 115, 119, 135, 150,\n       155, 160, 164, 161, 162, 164, 166, 166, 168, 166, 165, 168, 169,\n       163, 167, 165, 165, 167, 170, 165, 168, 168, 168, 165, 166, 166,\n       167, 166, 168, 169, 170, 167, 169, 169, 169, 167, 167, 169, 166,\n       166, 167, 168, 168, 166, 164, 163, 165, 164, 166, 167, 165, 162,\n       161, 160, 160, 160, 156, 153, 150, 148, 145, 137, 128, 126, 126,\n       127, 132, 136], dtype=uint8), array([3.69767209])], [array([158, 159, 158, 160, 161, 161, 159, 156, 161, 161, 162, 161, 161,\n       163, 165, 162, 163, 163, 159, 152, 144, 136, 133, 135, 139, 144,\n       147, 146, 145, 144, 144, 144, 143, 142, 137, 134, 133, 131, 128,\n       126, 123, 118, 117, 114, 114, 117, 127, 133, 137, 140, 142, 143,\n       146, 146, 146, 146, 148, 145, 147, 150, 151, 151, 153, 153, 150,\n       151, 155, 159, 157, 150, 142, 129, 117, 110, 114, 122, 131, 131,\n       132, 131, 130, 127, 125, 126, 128, 128, 132, 133, 135, 137, 140,\n       142, 142, 143, 146, 146, 150, 151, 153, 154, 154, 153, 157, 158,\n       157, 159, 159, 161, 160, 160, 161, 158, 159, 160, 161, 164, 160,\n       159, 161, 159], dtype=uint8), array([4.18255064])], [array([165, 165, 165, 167, 164, 161, 164, 165, 163, 168, 169, 166, 165,\n       163, 164, 167, 167, 165, 165, 163, 165, 166, 165, 166, 166, 164,\n       164, 166, 165, 165, 164, 161, 163, 163, 164, 163, 163, 165, 165,\n       163, 163, 163, 163, 163, 163, 160, 157, 159, 159, 156, 155, 155,\n       152, 149, 147, 146, 146, 144, 143, 140, 140, 136, 132, 129, 130,\n       130, 130, 128, 127, 122, 102,  84,  94, 106,  96,  85,  95, 121,\n       138, 145, 145, 149, 149, 151, 154, 154, 153, 157, 159, 161, 162,\n       163, 165, 163, 163, 165, 163, 164, 167, 164, 164, 167, 166, 164,\n       165, 164, 166, 163, 163, 165, 164, 165, 165, 164, 163, 162, 164,\n       163, 166, 161], dtype=uint8), array([9.01671984])], [array([119, 126, 132, 137, 139, 142, 144, 145, 144, 143, 143, 145, 146,\n       142, 141, 143, 141, 144, 142, 143, 143, 143, 143, 141, 140, 139,\n       139, 135, 135, 136, 139, 139, 140, 141, 143, 137, 135, 131, 132,\n       134, 132, 126, 123, 121, 119, 116, 112, 117, 124, 132, 137, 139,\n       139, 142, 145, 145, 143, 144, 143, 145, 147, 149, 150, 141, 130,\n       126, 133, 127, 127, 135, 147, 155, 155, 155, 158, 160, 163, 162,\n       159, 158, 161, 162, 162, 162, 165, 163, 161, 163, 163, 162, 160,\n       160, 162, 162, 159, 160, 160, 160, 158, 159, 158, 159, 161, 160,\n       161, 161, 160, 159, 159, 161, 159, 162, 163, 161, 159, 160, 161,\n       163, 161, 160], dtype=uint8), array([6.47364817])], [array([165, 162, 161, 161, 162, 159, 160, 159, 161, 163, 159, 157, 159,\n       159, 160, 159, 157, 160, 162, 159, 159, 161, 163, 158, 160, 163,\n       160, 157, 158, 159, 160, 161, 159, 161, 160, 159, 160, 162, 159,\n       160, 161, 159, 159, 160, 160, 163, 161, 159, 160, 158, 162, 164,\n       164, 163, 164, 162, 163, 164, 163, 164, 164, 165, 161, 163, 164,\n       165, 163, 162, 162, 162, 164, 165, 160, 153, 141, 129, 122, 118,\n       121, 136, 135, 136, 137, 137, 139, 140, 140, 142, 142, 140, 141,\n       141, 143, 146, 145, 147, 148, 151, 149, 151, 151, 154, 157, 155,\n       161, 159, 159, 158, 158, 157, 158, 159, 162, 161, 162, 162, 162,\n       162, 161, 161], dtype=uint8), array([4.51710674])], [array([168, 171, 167, 167, 165, 170, 169, 165, 167, 165, 168, 168, 166,\n       168, 167, 167, 166, 168, 167, 167, 166, 164, 163, 164, 163, 165,\n       166, 166, 168, 168, 167, 168, 166, 167, 167, 164, 167, 167, 166,\n       166, 166, 166, 167, 169, 168, 167, 170, 167, 170, 166, 168, 166,\n       169, 167, 166, 167, 169, 169, 168, 166, 164, 168, 169, 165, 166,\n       169, 169, 169, 169, 166, 166, 168, 166, 165, 166, 163, 158, 154,\n       148, 151, 153, 155, 154, 155, 156, 155, 156, 156, 158, 160, 162,\n       162, 159, 159, 160, 163, 162, 166, 165, 161, 165, 167, 165, 167,\n       166, 166, 167, 166, 166, 166, 167, 168, 166, 167, 165, 163, 164,\n       167, 166, 166], dtype=uint8), array([4.88037655])], [array([166, 168, 168, 167, 171, 170, 167, 166, 168, 166, 168, 166, 167,\n       168, 170, 167, 166, 169, 170, 169, 167, 167, 165, 165, 169, 168,\n       167, 167, 168, 167, 165, 165, 165, 165, 165, 165, 166, 168, 166,\n       168, 169, 169, 166, 165, 166, 168, 167, 164, 166, 164, 166, 167,\n       166, 164, 163, 164, 164, 163, 165, 164, 166, 162, 161, 164, 162,\n       163, 162, 165, 164, 161, 160, 158, 157, 159, 160, 160, 162, 166,\n       167, 162, 163, 160, 161, 164, 164, 162, 163, 162, 158, 158, 159,\n       161, 165, 166, 166, 166, 165, 165, 170, 168, 168, 167, 166, 164,\n       166, 165, 165, 165, 165, 167, 168, 165, 164, 162, 162, 163, 164,\n       165, 168, 165], dtype=uint8), array([4.75318777])], [array([164, 167, 165, 164, 165, 166, 167, 162, 163, 164, 163, 165, 166,\n       164, 161, 162, 161, 161, 160, 159, 158, 158, 158, 156, 155, 153,\n       150, 147, 146, 146, 144, 145, 143, 140, 138, 137, 138, 135, 134,\n       136, 133, 134, 134, 133, 133, 122, 109, 113, 123, 136, 151, 159,\n       163, 162, 159, 160, 163, 166, 162, 160, 160, 162, 168, 165, 165,\n       165, 167, 168, 166, 164, 166, 164, 163, 165, 166, 167, 165, 164,\n       166, 161, 163, 164, 166, 166, 164, 164, 164, 164, 164, 162, 165,\n       165, 164, 163, 164, 163, 163, 164, 164, 163, 164, 163, 165, 167,\n       164, 162, 161, 163, 163, 160, 162, 163, 160, 163, 164, 165, 164,\n       165, 163, 160], dtype=uint8), array([4.67930649])], [array([164, 165, 162, 163, 163, 165, 166, 164, 162, 161, 165, 169, 167,\n       165, 160, 164, 167, 162, 164, 165, 164, 164, 165, 163, 165, 168,\n       165, 163, 164, 163, 162, 165, 166, 164, 164, 162, 161, 161, 158,\n       161, 162, 163, 162, 161, 161, 162, 162, 164, 164, 162, 159, 159,\n       160, 161, 160, 162, 160, 158, 157, 154, 153, 156, 154, 152, 152,\n       150, 151, 143, 137, 133, 137, 142, 144, 145, 151, 149, 151, 151,\n       152, 152, 153, 153, 153, 155, 158, 160, 158, 158, 160, 160, 160,\n       161, 162, 161, 163, 159, 161, 162, 163, 164, 165, 166, 165, 164,\n       165, 165, 165, 164, 164, 163, 167, 163, 163, 164, 164, 163, 164,\n       166, 167, 167], dtype=uint8), array([3.66342182])], [array([147, 149, 147, 146, 146, 146, 145, 147, 146, 147, 147, 147, 146,\n       147, 146, 147, 148, 148, 148, 148, 149, 147, 146, 147, 147, 147,\n       147, 148, 147, 148, 149, 147, 149, 150, 146, 147, 148, 144, 146,\n       149, 147, 146, 151, 147, 147, 146, 147, 147, 147, 147, 148, 145,\n       145, 145, 144, 145, 146, 146, 145, 143, 141, 142, 143, 144, 143,\n       145, 146, 139, 138, 137, 137, 134, 131, 120, 107,  97,  98, 104,\n        94,  75,  67,  75,  77,  76,  76,  82,  84,  88,  92,  92,  92,\n        95,  96,  96, 100, 106, 108, 112, 114, 116, 117, 119, 121, 120,\n       124, 126, 126, 129, 131, 132, 133, 135, 136, 138, 139, 141, 145,\n       145, 143, 143], dtype=uint8), array([11.24816955])], [array([153, 152, 152, 151, 152, 152, 151, 153, 153, 150, 150, 150, 149,\n       151, 150, 148, 148, 148, 147, 145, 145, 139, 141, 138, 136, 135,\n       135, 131, 132, 133, 131, 130, 129, 125, 125, 128, 127, 126, 126,\n       126, 126, 129, 130, 132, 131, 131, 131, 123, 111, 112, 124, 136,\n       144, 152, 157, 157, 155, 158, 156, 156, 156, 156, 156, 152, 155,\n       155, 151, 151, 151, 150, 152, 153, 153, 149, 153, 151, 149, 151,\n       149, 148, 147, 148, 148, 151, 151, 149, 148, 149, 149, 149, 147,\n       148, 149, 150, 148, 146, 147, 148, 147, 150, 150, 150, 149, 148,\n       149, 150, 151, 151, 150, 150, 150, 150, 151, 149, 148, 147, 148,\n       150, 149, 148], dtype=uint8), array([5.29607184])], [array([153, 153, 151, 150, 152, 153, 154, 153, 150, 150, 150, 149, 149,\n       149, 149, 146, 149, 148, 147, 147, 146, 150, 147, 146, 144, 143,\n       142, 141, 141, 140, 137, 136, 135, 132, 130, 128, 128, 127, 125,\n       123, 119, 120, 120, 118, 119, 121, 121, 120, 119, 119, 115, 108,\n        97,  94, 109, 125, 135, 146, 156, 157, 156, 154, 155, 156, 156,\n       154, 154, 154, 155, 156, 156, 152, 151, 151, 152, 151, 150, 153,\n       154, 151, 151, 152, 151, 151, 149, 151, 150, 147, 147, 149, 148,\n       149, 149, 148, 146, 145, 143, 142, 142, 142, 139, 142, 142, 142,\n       141, 145, 144, 141, 145, 148, 145, 147, 149, 150, 149, 149, 149,\n       147, 146, 148], dtype=uint8), array([5.46791157])], [array([152, 152, 151, 152, 152, 152, 150, 151, 151, 151, 152, 153, 150,\n       151, 151, 153, 152, 150, 150, 150, 147, 147, 149, 147, 145, 144,\n       142, 142, 140, 138, 139, 138, 136, 134, 131, 131, 131, 128, 127,\n       128, 127, 124, 122, 122, 121, 120, 118, 120, 119, 122, 122, 126,\n       126, 126, 125, 116, 103, 103, 112, 124, 138, 149, 155, 156, 154,\n       155, 152, 148, 151, 155, 153, 153, 153, 151, 152, 152, 154, 153,\n       150, 152, 152, 151, 151, 153, 153, 152, 152, 150, 152, 153, 152,\n       152, 154, 153, 153, 153, 154, 151, 152, 155, 153, 152, 150, 151,\n       151, 150, 151, 151, 152, 150, 152, 151, 152, 152, 152, 151, 149,\n       149, 149, 143], dtype=uint8), array([5.45620238])], [array([167, 165, 166, 162, 161, 164, 163, 164, 166, 166, 164, 164, 165,\n       164, 164, 165, 164, 165, 165, 163, 163, 165, 167, 166, 166, 167,\n       168, 167, 168, 168, 164, 166, 166, 167, 166, 166, 167, 167, 166,\n       163, 162, 163, 161, 162, 163, 163, 163, 164, 167, 166, 167, 169,\n       166, 166, 168, 170, 168, 166, 167, 167, 167, 168, 168, 168, 168,\n       167, 166, 168, 168, 167, 167, 168, 169, 168, 167, 166, 166, 165,\n       164, 167, 169, 169, 166, 165, 166, 166, 165, 165, 165, 166, 166,\n       164, 164, 167, 168, 168, 169, 168, 167, 167, 167, 167, 167, 168,\n       167, 165, 166, 167, 165, 166, 166, 166, 167, 166, 170, 169, 166,\n       165, 165, 167], dtype=uint8), array([0.])], [array([130, 136, 144, 152, 155, 157, 160, 164, 164, 164, 164, 165, 166,\n       167, 168, 166, 167, 167, 168, 166, 169, 166, 166, 168, 168, 170,\n       170, 169, 170, 171, 171, 169, 172, 170, 169, 171, 170, 170, 171,\n       169, 171, 169, 170, 168, 173, 171, 173, 170, 170, 170, 167, 170,\n       169, 171, 170, 171, 173, 169, 169, 171, 170, 168, 169, 167, 165,\n       166, 162, 162, 163, 163, 156, 143, 123, 104,  96,  98,  97,  88,\n        76,  73,  80,  79,  80,  84,  92,  99, 103, 107, 108, 113, 119,\n       121, 124, 124, 127, 131, 135, 140, 142, 145, 148, 150, 153, 152,\n       156, 158, 158, 163, 164, 163, 165, 164, 165, 167, 166, 168, 169,\n       168, 169, 169], dtype=uint8), array([11.65322989])], [array([168, 167, 168, 168, 169, 170, 171, 167, 165, 168, 171, 172, 168,\n       170, 171, 172, 167, 168, 169, 169, 170, 169, 168, 169, 169, 168,\n       168, 167, 170, 172, 169, 168, 170, 171, 168, 172, 172, 170, 168,\n       167, 167, 168, 168, 166, 169, 169, 169, 168, 168, 169, 168, 169,\n       169, 170, 171, 169, 166, 168, 168, 167, 167, 165, 163, 160, 160,\n       160, 159, 153, 151, 145, 145, 141, 129, 114,  98, 100, 108, 108,\n       104,  95,  89,  94, 103, 111, 115, 117, 121, 126, 128, 130, 136,\n       140, 141, 144, 145, 148, 148, 151, 153, 155, 156, 158, 159, 163,\n       165, 164, 163, 163, 166, 165, 166, 168, 168, 167, 168, 169, 171,\n       170, 169, 168], dtype=uint8), array([11.24816955])], [array([168, 170, 169, 169, 172, 169, 167, 170, 169, 170, 169, 170, 170,\n       169, 169, 170, 172, 170, 171, 171, 171, 169, 169, 167, 171, 170,\n       168, 167, 168, 169, 169, 170, 170, 169, 169, 169, 168, 167, 168,\n       167, 169, 169, 166, 165, 166, 166, 165, 165, 164, 165, 163, 163,\n       160, 155, 157, 154, 153, 154, 150, 146, 136, 125, 116, 117, 120,\n       123, 124, 116, 105, 104, 114, 129, 142, 151, 157, 163, 165, 161,\n       159, 163, 166, 165, 165, 167, 167, 167, 165, 165, 167, 166, 167,\n       168, 164, 164, 168, 169, 167, 164, 165, 165, 166, 168, 165, 166,\n       167, 170, 169, 168, 168, 166, 166, 168, 165, 166, 168, 168, 167,\n       167, 164, 168], dtype=uint8), array([5.29607184])], [array([170, 173, 173, 169, 169, 170, 171, 171, 170, 172, 171, 172, 170,\n       169, 170, 169, 169, 172, 173, 172, 170, 170, 173, 174, 170, 169,\n       171, 170, 171, 170, 170, 170, 172, 170, 172, 172, 174, 173, 170,\n       171, 171, 169, 172, 172, 171, 169, 168, 169, 165, 160, 149, 135,\n       118, 105,  98, 108, 124, 133, 135, 137, 141, 145, 146, 149, 149,\n       151, 156, 160, 161, 160, 163, 166, 167, 167, 166, 170, 170, 171,\n       170, 169, 170, 172, 173, 169, 167, 169, 168, 172, 171, 170, 172,\n       172, 170, 169, 172, 170, 170, 169, 167, 166, 165, 165, 167, 167,\n       167, 167, 166, 168, 169, 169, 168, 169, 170, 169, 170, 170, 169,\n       170, 173, 172], dtype=uint8), array([5.46791157])], [array([170, 169, 169, 169, 168, 168, 169, 169, 171, 172, 170, 170, 172,\n       170, 171, 173, 170, 167, 168, 169, 168, 170, 170, 169, 169, 170,\n       170, 166, 163, 164, 161, 160, 162, 164, 165, 166, 169, 171, 167,\n       170, 169, 175, 172, 168, 171, 171, 171, 168, 170, 170, 169, 168,\n       165, 160, 149, 133, 117, 104,  95, 100, 114, 128, 129, 131, 135,\n       139, 142, 144, 144, 146, 149, 150, 157, 159, 160, 159, 163, 167,\n       166, 167, 169, 167, 170, 171, 171, 170, 166, 168, 166, 166, 167,\n       166, 169, 170, 169, 169, 169, 168, 168, 171, 172, 170, 168, 169,\n       172, 171, 168, 172, 169, 170, 173, 171, 171, 172, 171, 170, 167,\n       170, 172, 172], dtype=uint8), array([5.45620238])], [array([175, 171, 171, 172, 173, 172, 172, 173, 172, 172, 172, 172, 170,\n       171, 172, 171, 172, 173, 172, 172, 172, 171, 172, 173, 173, 174,\n       174, 173, 170, 170, 169, 168, 171, 169, 170, 170, 169, 171, 172,\n       172, 171, 172, 170, 173, 174, 172, 171, 170, 171, 170, 175, 173,\n       175, 174, 172, 171, 170, 169, 169, 170, 171, 172, 172, 171, 173,\n       169, 171, 168, 169, 172, 170, 169, 172, 172, 172, 169, 166, 163,\n       166, 168, 168, 169, 168, 167, 170, 169, 167, 170, 170, 170, 171,\n       172, 174, 172, 171, 171, 172, 172, 171, 173, 173, 171, 176, 172,\n       173, 172, 173, 173, 176, 174, 175, 173, 176, 172, 172, 173, 170,\n       171, 175, 170], dtype=uint8), array([3.54463004])], [array([154, 153, 153, 152, 153, 154, 153, 152, 155, 154, 155, 156, 155,\n       155, 157, 156, 156, 156, 156, 157, 155, 154, 156, 157, 157, 156,\n       155, 157, 158, 155, 157, 155, 156, 156, 155, 154, 155, 155, 156,\n       153, 158, 157, 157, 157, 158, 156, 156, 157, 158, 156, 156, 156,\n       154, 155, 155, 153, 153, 152, 150, 149, 147, 144, 144, 143, 142,\n       139, 137, 134, 131, 127, 125, 123, 120, 121, 116, 117, 115, 117,\n       114,  99,  90, 103, 124, 136, 151, 155, 159, 161, 160, 159, 159,\n       159, 158, 157, 156, 156, 157, 156, 155, 154, 153, 152, 153, 152,\n       150, 151, 151, 151, 150, 150, 151, 151, 149, 148, 148, 148, 149,\n       149, 146, 144], dtype=uint8), array([4.51179147])], [array([146, 150, 155, 157, 159, 165, 164, 165, 164, 163, 165, 164, 164,\n       164, 164, 166, 167, 166, 163, 165, 165, 167, 167, 166, 164, 165,\n       166, 166, 164, 164, 165, 165, 161, 163, 162, 161, 161, 160, 162,\n       157, 156, 155, 155, 156, 155, 154, 155, 153, 151, 151, 151, 151,\n       152, 150, 150, 149, 148, 147, 143, 139, 135, 125, 113, 107, 108,\n       120, 140, 155, 163, 168, 168, 166, 166, 166, 164, 163, 158, 159,\n       161, 162, 160, 160, 162, 159, 159, 158, 157, 157, 159, 157, 156,\n       152, 154, 154, 155, 154, 154, 154, 154, 152, 153, 155, 154, 153,\n       154, 154, 153, 157, 157, 155, 156, 156, 155, 155, 155, 154, 157,\n       157, 156, 156], dtype=uint8), array([4.37560143])], [array([166, 168, 166, 168, 165, 169, 165, 163, 164, 164, 163, 162, 162,\n       160, 161, 158, 162, 159, 162, 161, 161, 161, 162, 164, 164, 163,\n       161, 163, 162, 162, 163, 160, 160, 160, 161, 162, 159, 160, 161,\n       161, 159, 160, 160, 158, 157, 156, 156, 160, 159, 157, 158, 159,\n       157, 158, 157, 152, 152, 154, 154, 153, 147, 147, 147, 146, 144,\n       142, 141, 139, 137, 136, 133, 127, 126, 125, 130, 132, 131, 129,\n       119, 102,  94, 105, 123, 140, 152, 158, 158, 159, 162, 159, 161,\n       162, 158, 157, 156, 154, 152, 154, 153, 153, 154, 152, 151, 151,\n       152, 150, 148, 150, 150, 151, 153, 151, 149, 148, 149, 154, 150,\n       152, 151, 148], dtype=uint8), array([3.95002995])], [array([159, 156, 155, 156, 155, 153, 155, 156, 156, 155, 154, 156, 157,\n       155, 154, 156, 157, 154, 153, 152, 153, 154, 154, 153, 153, 152,\n       156, 153, 150, 153, 154, 153, 154, 155, 154, 157, 155, 155, 156,\n       153, 151, 152, 150, 151, 155, 154, 151, 153, 154, 152, 152, 151,\n       151, 151, 152, 150, 150, 149, 145, 147, 146, 143, 141, 140, 137,\n       135, 134, 132, 133, 131, 129, 128, 127, 126, 123, 123, 119, 110,\n       111, 124, 141, 154, 156, 157, 153, 157, 159, 158, 157, 154, 153,\n       148, 149, 147, 147, 144, 143, 143, 139, 135, 131, 134, 136, 136,\n       135, 136, 141, 143, 145, 145, 145, 146, 148, 145, 145, 145, 145,\n       144, 142, 141], dtype=uint8), array([3.53048839])], [array([137, 136, 135, 135, 137, 137, 135, 133, 131, 131, 132, 130, 128,\n       129, 128, 126, 126, 125, 125, 124, 123, 122, 123, 123, 123, 123,\n       123, 122, 122, 123, 124, 120, 116, 114, 116, 121, 125, 126, 127,\n       127, 127, 127, 127, 129, 129, 130, 126, 125, 124, 127, 128, 131,\n       131, 134, 136, 137, 137, 139, 139, 137, 137, 134, 128, 123, 123,\n       130, 142, 150, 154, 158, 159, 157, 156, 155, 154, 156, 157, 155,\n       153, 154, 155, 155, 156, 155, 153, 153, 153, 152, 152, 154, 154,\n       156, 159, 157, 155, 155, 152, 151, 148, 149, 149, 147, 146, 152,\n       154, 157, 157, 156, 156, 155, 151, 152, 151, 147, 141, 141, 144,\n       146, 147, 150], dtype=uint8), array([3.67640104])], [array([151, 151, 150, 151, 151, 148, 147, 151, 151, 149, 149, 149, 149,\n       145, 150, 150, 150, 147, 151, 149, 152, 150, 150, 150, 152, 150,\n       151, 151, 149, 147, 150, 148, 147, 150, 148, 148, 147, 146, 145,\n       145, 146, 145, 140, 138, 136, 133, 133, 129, 128, 125, 122, 118,\n       115, 113, 111, 109, 107, 105, 103, 104,  97,  92,  85,  84,  80,\n        78,  75,  69,  66,  69,  81,  92, 102, 121, 130, 128, 133, 148,\n       162, 165, 165, 168, 168, 167, 167, 167, 167, 164, 165, 163, 162,\n       162, 162, 159, 158, 155, 154, 154, 152, 150, 151, 149, 148, 146,\n       141, 144, 144, 145, 142, 141, 138, 138, 138, 138, 142, 142, 143,\n       144, 142, 141], dtype=uint8), array([8.97995119])], [array([159, 156, 158, 157, 157, 156, 156, 154, 153, 152, 153, 154, 152,\n       149, 152, 155, 150, 150, 152, 151, 149, 150, 148, 149, 150, 148,\n       148, 148, 148, 146, 145, 144, 148, 149, 149, 147, 145, 145, 147,\n       147, 147, 146, 144, 144, 142, 134, 126, 114, 106,  97,  90,  98,\n       116, 122, 127, 129, 130, 130, 131, 130, 134, 138, 137, 136, 137,\n       139, 141, 141, 142, 147, 150, 144, 144, 145, 146, 146, 146, 145,\n       145, 147, 147, 147, 147, 147, 146, 147, 149, 148, 147, 147, 144,\n       147, 145, 146, 147, 147, 147, 147, 149, 148, 147, 147, 146, 146,\n       151, 147, 144, 149, 147, 147, 144, 143, 146, 147, 147, 145, 144,\n       145, 145, 145], dtype=uint8), array([5.35827466])], [array([148, 149, 150, 151, 151, 150, 151, 151, 154, 153, 152, 154, 155,\n       157, 156, 159, 155, 158, 159, 158, 156, 159, 158, 158, 159, 157,\n       160, 158, 156, 156, 158, 160, 160, 158, 155, 155, 150, 144, 147,\n       148, 149, 150, 152, 154, 154, 157, 156, 154, 155, 157, 158, 160,\n       159, 161, 160, 159, 163, 161, 158, 157, 157, 158, 159, 155, 152,\n       152, 152, 150, 144, 137, 125, 113, 121, 127, 123, 111, 101,  98,\n       101, 104, 103, 104, 103, 105, 106, 110, 110, 112, 112, 114, 117,\n       118, 118, 120, 121, 122, 121, 123, 122, 122, 121, 123, 124, 123,\n       124, 124, 126, 128, 128, 127, 129, 127, 129, 127, 126, 128, 129,\n       130, 131, 128], dtype=uint8), array([8.97995119])], [array([123, 122, 125, 125, 125, 128, 127, 128, 132, 132, 131, 134, 133,\n       134, 133, 134, 135, 132, 131, 131, 132, 130, 131, 133, 133, 132,\n       132, 128, 131, 130, 129, 129, 125, 125, 126, 126, 124, 124, 124,\n       123, 124, 123, 124, 124, 126, 127, 120, 108,  99, 106, 116, 128,\n       138, 147, 154, 158, 159, 162, 162, 158, 159, 160, 160, 158, 156,\n       155, 155, 153, 155, 154, 155, 157, 154, 153, 156, 154, 158, 156,\n       156, 156, 156, 157, 155, 156, 155, 154, 156, 157, 155, 153, 155,\n       155, 156, 154, 158, 158, 158, 156, 160, 159, 158, 157, 157, 157,\n       158, 155, 154, 154, 155, 155, 154, 152, 152, 150, 138, 128, 125,\n       132, 140, 147], dtype=uint8), array([5.35827466])], [array([158, 160, 160, 161, 160, 161, 161, 162, 163, 161, 160, 162, 161,\n       159, 163, 162, 160, 162, 162, 162, 160, 161, 160, 160, 159, 158,\n       159, 162, 160, 157, 161, 159, 160, 161, 164, 163, 159, 158, 159,\n       158, 159, 159, 157, 159, 156, 157, 156, 157, 160, 155, 154, 154,\n       156, 160, 155, 154, 155, 153, 153, 151, 150, 153, 150, 148, 149,\n       152, 150, 154, 154, 154, 152, 151, 149, 149, 145, 135, 124, 115,\n       107, 114, 127, 132, 131, 129, 130, 130, 129, 126, 126, 127, 126,\n       128, 127, 128, 127, 123, 125, 125, 124, 126, 128, 128, 126, 125,\n       125, 126, 126, 125, 124, 124, 125, 126, 125, 124, 123, 123, 122,\n       122, 125, 123], dtype=uint8), array([3.76287851])], [array([163, 163, 162, 160, 164, 162, 161, 163, 164, 162, 163, 164, 164,\n       164, 166, 164, 163, 165, 161, 165, 162, 165, 164, 164, 166, 164,\n       162, 161, 158, 159, 157, 158, 158, 159, 159, 157, 156, 155, 154,\n       152, 148, 145, 143, 143, 148, 153, 156, 154, 156, 155, 157, 157,\n       159, 160, 162, 164, 161, 163, 165, 165, 164, 164, 165, 160, 167,\n       166, 166, 165, 166, 166, 164, 165, 166, 161, 156, 153, 153, 152,\n       151, 152, 150, 151, 149, 148, 149, 149, 149, 151, 152, 153, 154,\n       154, 157, 159, 158, 157, 159, 161, 162, 168, 163, 165, 163, 163,\n       165, 163, 163, 163, 163, 163, 163, 163, 161, 164, 165, 162, 163,\n       164, 167, 165], dtype=uint8), array([3.04808728])], [array([161, 162, 162, 163, 163, 164, 164, 163, 162, 164, 164, 165, 161,\n       161, 160, 164, 166, 168, 167, 167, 166, 164, 167, 167, 166, 166,\n       165, 165, 167, 166, 167, 166, 168, 166, 166, 166, 166, 163, 164,\n       165, 163, 166, 165, 165, 165, 165, 165, 168, 169, 167, 166, 165,\n       167, 168, 169, 166, 166, 166, 167, 165, 168, 168, 167, 167, 168,\n       169, 166, 167, 165, 166, 163, 162, 161, 156, 148, 138, 127, 124,\n       125, 134, 141, 142, 143, 144, 145, 144, 146, 148, 145, 143, 145,\n       144, 143, 149, 150, 148, 148, 152, 153, 150, 151, 152, 152, 149,\n       150, 152, 149, 150, 149, 151, 152, 149, 149, 147, 146, 149, 148,\n       147, 147, 144], dtype=uint8), array([3.04562947])], [array([171, 170, 170, 170, 171, 171, 172, 171, 172, 168, 167, 168, 168,\n       169, 169, 170, 168, 167, 169, 169, 167, 171, 170, 168, 168, 168,\n       168, 169, 170, 169, 169, 167, 168, 170, 169, 168, 170, 169, 167,\n       169, 170, 168, 169, 167, 172, 168, 169, 167, 168, 168, 168, 168,\n       168, 166, 167, 170, 171, 169, 168, 166, 169, 170, 170, 168, 166,\n       165, 165, 165, 162, 160, 159, 154, 146, 130, 109, 108, 123, 142,\n       153, 158, 160, 163, 161, 164, 162, 158, 159, 158, 161, 160, 158,\n       157, 156, 154, 153, 154, 153, 152, 150, 149, 150, 149, 149, 150,\n       150, 150, 148, 149, 148, 147, 145, 144, 136, 128, 122, 117, 115,\n       103,  95,  93], dtype=uint8), array([3.06895321])], [array([166, 164, 168, 166, 166, 165, 166, 166, 169, 162, 165, 160, 159,\n       157, 156, 152, 150, 145, 140, 135, 131, 126, 119, 121, 127, 129,\n       127, 126, 123, 128, 135, 139, 136, 142, 144, 146, 149, 151, 149,\n       149, 151, 155, 158, 157, 157, 159, 161, 159, 158, 154, 151, 147,\n       142, 132, 131, 140, 152, 157, 157, 161, 163, 161, 160, 160, 163,\n       164, 163, 161, 160, 160, 161, 167, 166, 165, 165, 165, 166, 167,\n       164, 166, 165, 165, 167, 169, 169, 170, 168, 168, 168, 169, 169,\n       167, 168, 169, 167, 170, 169, 168, 167, 168, 165, 166, 168, 168,\n       165, 164, 164, 163, 163, 163, 159, 158, 157, 158, 156, 153, 153,\n       150, 148, 147], dtype=uint8), array([2.85702873])], [array([147, 148, 146, 146, 148, 150, 147, 149, 148, 149, 150, 150, 148,\n       149, 150, 147, 149, 151, 149, 148, 150, 150, 150, 149, 149, 151,\n       148, 148, 150, 149, 149, 152, 153, 150, 148, 149, 150, 148, 147,\n       150, 152, 150, 150, 149, 149, 148, 150, 151, 151, 150, 150, 148,\n       148, 146, 147, 149, 150, 149, 149, 149, 148, 147, 149, 151, 150,\n       149, 150, 151, 153, 153, 153, 153, 152, 156, 157, 156, 156, 157,\n       157, 151, 146, 132, 119, 115, 118, 125, 128, 128, 126, 127, 126,\n       124, 123, 122, 124, 124, 126, 127, 129, 129, 132, 134, 134, 137,\n       137, 137, 141, 144, 144, 145, 146, 148, 146, 149, 149, 148, 148,\n       148, 153, 150], dtype=uint8), array([4.51179147])], [array([159, 159, 160, 160, 161, 162, 160, 159, 159, 159, 160, 159, 157,\n       157, 157, 153, 150, 151, 152, 153, 151, 150, 149, 147, 146, 143,\n       137, 136, 134, 130, 121, 115, 111, 109, 108, 108, 107, 112, 115,\n       117, 119, 125, 128, 128, 129, 129, 132, 132, 132, 134, 134, 135,\n       137, 137, 135, 136, 133, 133, 132, 122, 108, 103, 103, 103, 110,\n       122, 123, 125, 123, 123, 121, 119, 117, 116, 115, 115, 118, 116,\n       119, 120, 121, 122, 121, 121, 123, 122, 126, 125, 129, 131, 130,\n       133, 135, 134, 133, 133, 136, 135, 137, 139, 139, 140, 140, 141,\n       141, 142, 143, 144, 146, 145, 143, 145, 147, 147, 145, 148, 145,\n       149, 148, 149], dtype=uint8), array([4.37560143])], [array([130, 127, 126, 123, 119, 120, 120, 119, 119, 120, 118, 119, 118,\n       119, 117, 119, 121, 120, 122, 122, 121, 122, 125, 125, 122, 124,\n       126, 127, 127, 126, 127, 127, 129, 128, 132, 131, 134, 132, 133,\n       135, 135, 136, 136, 135, 136, 139, 141, 142, 141, 138, 140, 142,\n       143, 145, 141, 142, 142, 143, 146, 144, 145, 147, 145, 146, 148,\n       148, 149, 151, 153, 152, 153, 154, 153, 154, 156, 157, 156, 154,\n       153, 149, 135, 118, 108, 108, 115, 124, 125, 127, 127, 126, 128,\n       126, 126, 128, 130, 132, 132, 134, 135, 136, 139, 139, 144, 146,\n       147, 147, 149, 153, 154, 152, 152, 153, 154, 156, 157, 156, 155,\n       155, 156, 159], dtype=uint8), array([3.95002995])], [array([140, 143, 146, 145, 147, 150, 150, 150, 150, 149, 153, 152, 151,\n       154, 154, 154, 154, 155, 156, 154, 159, 157, 157, 159, 159, 158,\n       156, 158, 159, 157, 159, 159, 158, 160, 156, 158, 158, 157, 159,\n       161, 160, 160, 159, 159, 160, 159, 158, 160, 160, 161, 159, 159,\n       158, 159, 162, 160, 160, 162, 160, 161, 162, 162, 158, 158, 158,\n       157, 155, 155, 158, 161, 161, 160, 161, 164, 165, 162, 157, 153,\n       148, 138, 134, 136, 140, 146, 142, 144, 145, 144, 143, 142, 142,\n       141, 139, 143, 143, 145, 146, 148, 149, 151, 152, 151, 156, 155,\n       154, 155, 153, 154, 150, 148, 149, 150, 150, 152, 153, 155, 154,\n       154, 152, 152], dtype=uint8), array([3.53048839])], [array([161, 160, 162, 162, 163, 164, 164, 163, 161, 164, 163, 162, 162,\n       164, 163, 162, 165, 166, 161, 165, 165, 164, 162, 159, 163, 161,\n       160, 164, 165, 162, 160, 162, 158, 152, 153, 154, 157, 158, 160,\n       163, 163, 164, 162, 162, 163, 164, 164, 165, 165, 165, 166, 166,\n       166, 166, 164, 164, 164, 163, 157, 155, 151, 145, 139, 132, 125,\n       130, 139, 144, 147, 152, 151, 152, 151, 151, 152, 155, 153, 156,\n       157, 153, 153, 154, 152, 153, 154, 153, 153, 153, 150, 152, 150,\n       151, 151, 152, 151, 146, 143, 140, 145, 150, 151, 151, 151, 152,\n       153, 155, 153, 155, 155, 158, 160, 157, 158, 157, 159, 158, 158,\n       159, 159, 158], dtype=uint8), array([3.67640104])], [array([158, 157, 156, 157, 156, 156, 153, 154, 155, 156, 154, 153, 153,\n       153, 151, 152, 153, 151, 150, 152, 152, 152, 151, 153, 151, 152,\n       150, 152, 152, 152, 152, 151, 150, 150, 150, 150, 149, 150, 151,\n       149, 148, 146, 145, 148, 146, 145, 147, 147, 145, 144, 144, 146,\n       143, 143, 141, 141, 144, 145, 142, 139, 129, 109, 101, 104, 106,\n       116, 133, 137, 136, 139, 142, 144, 143, 144, 144, 146, 146, 147,\n       150, 150, 151, 149, 144, 136, 124, 124, 132, 143, 152, 154, 155,\n       156, 156, 159, 161, 159, 160, 158, 157, 156, 154, 156, 152, 156,\n       155, 157, 156, 159, 157, 158, 159, 160, 159, 159, 159, 157, 159,\n       157, 156, 158], dtype=uint8), array([5.21064103])], [array([178, 180, 180, 181, 180, 181, 183, 179, 181, 185, 182, 182, 181,\n       181, 179, 180, 181, 184, 182, 182, 182, 178, 179, 177, 177, 176,\n       178, 178, 180, 179, 177, 180, 179, 181, 181, 180, 181, 181, 182,\n       179, 179, 178, 176, 175, 173, 173, 171, 170, 167, 160, 142, 125,\n       114, 117, 125, 141, 152, 154, 156, 156, 152, 152, 152, 148, 146,\n       145, 141, 130, 117, 110, 114, 114, 102, 102, 118, 132, 133, 137,\n       142, 146, 149, 153, 155, 155, 156, 152, 150, 150, 151, 158, 159,\n       162, 166, 169, 169, 168, 172, 174, 174, 174, 173, 173, 174, 177,\n       176, 176, 178, 174, 178, 180, 178, 177, 178, 178, 177, 175, 170,\n       173, 173, 176], dtype=uint8), array([7.26221294])], [array([178, 179, 181, 180, 174, 179, 179, 175, 178, 177, 176, 178, 178,\n       178, 178, 179, 178, 180, 182, 179, 179, 181, 182, 177, 179, 178,\n       179, 178, 177, 178, 179, 179, 179, 179, 181, 185, 185, 182, 180,\n       180, 180, 183, 185, 178, 178, 178, 177, 179, 182, 182, 182, 179,\n       180, 181, 181, 182, 182, 183, 182, 187, 193, 189, 190, 191, 192,\n       193, 193, 192, 194, 193, 184, 172, 161, 144, 125, 119, 132, 144,\n       144, 143, 141, 136, 138, 141, 143, 145, 145, 148, 153, 154, 155,\n       159, 163, 163, 163, 164, 166, 170, 172, 176, 179, 179, 179, 180,\n       180, 183, 190, 186, 185, 183, 184, 187, 187, 185, 187, 183, 188,\n       188, 190, 186], dtype=uint8), array([5.93755418])], [array([182, 179, 181, 183, 181, 178, 180, 181, 180, 179, 177, 177, 180,\n       182, 180, 181, 181, 182, 183, 178, 179, 179, 181, 179, 178, 182,\n       182, 182, 182, 182, 183, 186, 183, 183, 185, 185, 186, 183, 184,\n       183, 185, 184, 182, 185, 185, 185, 183, 184, 185, 188, 187, 189,\n       186, 184, 185, 186, 191, 186, 188, 187, 187, 191, 191, 192, 190,\n       192, 191, 192, 191, 191, 186, 173, 158, 142, 130, 130, 146, 147,\n       147, 149, 145, 145, 147, 146, 146, 148, 151, 151, 152, 155, 157,\n       159, 161, 165, 166, 167, 171, 171, 174, 177, 178, 180, 183, 185,\n       185, 185, 185, 186, 186, 182, 185, 185, 187, 186, 186, 187, 186,\n       189, 187, 193], dtype=uint8), array([5.5774322])], [array([193, 192, 192, 189, 191, 193, 191, 191, 189, 189, 191, 191, 188,\n       190, 189, 190, 189, 190, 191, 192, 193, 192, 187, 193, 192, 191,\n       192, 195, 195, 193, 193, 194, 196, 195, 194, 193, 193, 193, 195,\n       192, 194, 193, 189, 191, 190, 190, 189, 189, 189, 191, 188, 187,\n       184, 182, 183, 184, 181, 181, 180, 176, 176, 174, 170, 168, 166,\n       160, 143, 131, 128, 131, 147, 163, 171, 172, 174, 171, 177, 179,\n       180, 181, 182, 182, 182, 185, 188, 190, 186, 187, 187, 188, 187,\n       188, 190, 188, 189, 194, 193, 191, 191, 192, 191, 190, 189, 188,\n       188, 187, 188, 190, 189, 185, 186, 187, 188, 188, 190, 190, 187,\n       192, 192, 187], dtype=uint8), array([4.19787153])], [array([189, 185, 185, 186, 188, 189, 188, 193, 193, 194, 193, 189, 192,\n       191, 192, 194, 193, 192, 191, 192, 194, 191, 191, 191, 193, 193,\n       192, 195, 194, 194, 193, 190, 192, 193, 190, 191, 193, 192, 192,\n       192, 193, 193, 193, 196, 192, 191, 193, 194, 190, 192, 192, 189,\n       188, 186, 186, 186, 185, 185, 186, 188, 186, 188, 188, 185, 186,\n       182, 180, 177, 172, 161, 147, 131, 132, 141, 152, 157, 162, 169,\n       175, 174, 175, 178, 181, 180, 179, 182, 182, 188, 188, 187, 185,\n       188, 194, 193, 193, 197, 195, 194, 197, 196, 197, 196, 193, 197,\n       195, 196, 196, 195, 192, 193, 194, 196, 194, 194, 193, 196, 195,\n       191, 193, 190], dtype=uint8), array([3.7441611])], [array([174, 173, 172, 172, 173, 175, 174, 173, 171, 174, 176, 177, 178,\n       176, 178, 179, 173, 173, 166, 162, 164, 164, 162, 168, 168, 169,\n       171, 169, 171, 174, 174, 177, 177, 175, 175, 174, 176, 176, 176,\n       177, 177, 175, 174, 174, 176, 176, 175, 176, 176, 177, 177, 176,\n       178, 174, 179, 179, 178, 177, 181, 184, 178, 180, 182, 180, 184,\n       184, 186, 184, 184, 182, 176, 165, 147, 130, 119, 131, 145, 148,\n       147, 147, 147, 145, 145, 147, 149, 152, 151, 152, 156, 158, 159,\n       162, 164, 166, 169, 169, 172, 171, 175, 175, 172, 178, 178, 178,\n       181, 178, 180, 178, 177, 175, 177, 178, 177, 177, 177, 175, 176,\n       177, 177, 176], dtype=uint8), array([5.20109506])], [array([166, 163, 163, 164, 164, 163, 162, 161, 163, 162, 163, 168, 169,\n       167, 166, 166, 168, 169, 169, 169, 166, 168, 171, 171, 171, 169,\n       170, 170, 171, 170, 168, 171, 170, 175, 172, 170, 171, 171, 167,\n       169, 168, 167, 172, 171, 169, 167, 168, 171, 171, 169, 170, 171,\n       172, 172, 171, 166, 165, 165, 167, 172, 172, 175, 177, 180, 182,\n       183, 183, 183, 183, 184, 182, 176, 163, 146, 129, 118, 127, 139,\n       144, 143, 142, 138, 137, 137, 138, 140, 140, 140, 141, 143, 147,\n       148, 151, 153, 154, 157, 157, 159, 160, 161, 162, 160, 162, 161,\n       161, 164, 160, 165, 162, 162, 162, 163, 162, 161, 160, 162, 161,\n       159, 157, 158], dtype=uint8), array([4.87914297])], [array([198, 201, 198, 199, 202, 202, 203, 205, 206, 206, 202, 205, 205,\n       203, 205, 204, 202, 199, 200, 203, 202, 204, 205, 205, 204, 204,\n       204, 204, 203, 205, 206, 205, 205, 200, 201, 201, 201, 203, 204,\n       202, 203, 204, 200, 201, 200, 203, 207, 203, 203, 205, 205, 201,\n       200, 202, 204, 203, 202, 201, 205, 206, 203, 203, 204, 204, 201,\n       204, 203, 203, 202, 200, 201, 205, 203, 202, 202, 203, 204, 205,\n       204, 203, 205, 204, 201, 202, 205, 207, 207, 204, 207, 205, 201,\n       200, 205, 202, 203, 204, 205, 202, 203, 205, 204, 202, 202, 203,\n       203, 203, 203, 202, 205, 200, 202, 204, 203, 204, 202, 202, 203,\n       205, 205, 204], dtype=uint8), array([0.])], [array([190, 192, 188, 187, 191, 190, 185, 187, 185, 184, 189, 187, 187,\n       184, 182, 186, 185, 185, 189, 189, 187, 186, 185, 186, 184, 188,\n       189, 190, 186, 187, 189, 189, 189, 190, 191, 192, 189, 191, 193,\n       191, 192, 191, 190, 190, 190, 192, 192, 194, 192, 192, 193, 191,\n       192, 193, 194, 194, 195, 194, 196, 194, 197, 196, 196, 196, 193,\n       193, 189, 175, 160, 157, 165, 168, 154, 136, 128, 131, 132, 132,\n       127, 122, 121, 122, 125, 129, 132, 134, 133, 133, 135, 137, 140,\n       145, 145, 152, 153, 155, 156, 159, 163, 165, 166, 167, 170, 174,\n       177, 177, 178, 182, 184, 183, 184, 186, 187, 189, 189, 192, 192,\n       193, 193, 194], dtype=uint8), array([8.52101685])], [array([184, 186, 186, 185, 187, 185, 186, 185, 185, 187, 191, 186, 187,\n       188, 188, 186, 186, 189, 188, 187, 189, 188, 187, 191, 187, 188,\n       188, 188, 188, 188, 187, 189, 190, 189, 189, 187, 186, 191, 190,\n       190, 189, 189, 192, 189, 191, 192, 194, 192, 192, 192, 192, 191,\n       193, 196, 194, 195, 194, 199, 198, 196, 197, 199, 199, 197, 195,\n       189, 176, 158, 150, 155, 160, 148, 129, 121, 122, 120, 119, 120,\n       120, 120, 123, 124, 124, 123, 126, 126, 129, 134, 137, 137, 141,\n       144, 148, 151, 153, 154, 156, 158, 162, 165, 164, 169, 172, 172,\n       175, 177, 180, 183, 184, 185, 186, 184, 188, 190, 191, 192, 192,\n       188, 191, 191], dtype=uint8), array([8.73503977])], [array([155, 154, 154, 153, 154, 146, 142, 141, 148, 153, 161, 171, 178,\n       180, 185, 185, 189, 188, 190, 187, 187, 188, 186, 187, 188, 185,\n       183, 184, 185, 186, 188, 187, 187, 186, 187, 188, 186, 185, 185,\n       187, 184, 184, 185, 186, 186, 186, 183, 183, 180, 183, 180, 177,\n       176, 178, 177, 176, 173, 171, 171, 173, 171, 168, 168, 168, 167,\n       165, 165, 164, 164, 162, 157, 150, 144, 142, 143, 152, 162, 165,\n       166, 168, 170, 169, 173, 173, 177, 172, 176, 177, 176, 175, 178,\n       181, 178, 178, 180, 182, 181, 183, 186, 182, 181, 179, 182, 184,\n       185, 181, 180, 182, 183, 183, 183, 183, 182, 182, 182, 182, 183,\n       182, 183, 180], dtype=uint8), array([4.59109883])], [array([189, 189, 188, 187, 187, 186, 187, 189, 188, 187, 185, 185, 189,\n       190, 191, 191, 191, 188, 186, 186, 188, 189, 187, 187, 187, 186,\n       187, 185, 184, 183, 186, 184, 182, 183, 182, 183, 179, 178, 181,\n       177, 177, 174, 171, 169, 168, 168, 165, 165, 164, 161, 158, 158,\n       155, 156, 156, 161, 158, 158, 157, 158, 154, 141, 129, 135, 152,\n       163, 174, 183, 188, 188, 190, 189, 189, 187, 187, 190, 188, 185,\n       187, 186, 189, 186, 184, 183, 183, 183, 182, 182, 180, 183, 184,\n       183, 181, 181, 182, 180, 180, 181, 181, 178, 177, 177, 177, 176,\n       176, 174, 177, 175, 175, 173, 172, 173, 171, 174, 173, 171, 169,\n       171, 171, 169], dtype=uint8), array([4.34090199])], [array([184, 185, 186, 180, 184, 182, 183, 185, 183, 184, 184, 183, 183,\n       183, 181, 180, 180, 181, 183, 184, 185, 185, 184, 184, 184, 187,\n       186, 185, 180, 181, 181, 180, 180, 177, 178, 177, 175, 175, 174,\n       175, 176, 173, 171, 169, 166, 166, 164, 160, 163, 165, 162, 161,\n       161, 161, 162, 161, 162, 162, 162, 162, 158, 151, 145, 150, 160,\n       175, 181, 184, 184, 184, 184, 181, 180, 178, 177, 178, 176, 175,\n       175, 173, 175, 174, 171, 173, 176, 175, 175, 176, 180, 178, 177,\n       179, 178, 175, 176, 178, 179, 177, 178, 175, 176, 177, 179, 179,\n       179, 180, 180, 181, 181, 183, 180, 181, 179, 178, 174, 174, 173,\n       173, 175, 175], dtype=uint8), array([4.35067225])], [array([181, 185, 184, 186, 187, 186, 186, 188, 187, 185, 188, 184, 186,\n       188, 184, 184, 182, 186, 186, 185, 186, 186, 186, 183, 183, 183,\n       180, 181, 188, 183, 180, 181, 180, 178, 178, 176, 173, 169, 167,\n       165, 163, 163, 163, 160, 160, 158, 160, 156, 156, 157, 156, 157,\n       159, 158, 157, 158, 157, 156, 152, 141, 137, 146, 163, 171, 180,\n       186, 186, 187, 186, 183, 182, 182, 177, 177, 177, 171, 172, 170,\n       168, 168, 165, 164, 167, 166, 165, 165, 164, 163, 161, 160, 162,\n       153, 143, 148, 162, 171, 178, 180, 180, 180, 181, 177, 172, 169,\n       169, 172, 173, 174, 177, 178, 174, 174, 174, 173, 171, 169, 169,\n       171, 171, 169], dtype=uint8), array([4.18356936])], [array([172, 172, 173, 171, 173, 172, 172, 167, 168, 169, 168, 171, 170,\n       170, 170, 170, 170, 171, 169, 168, 170, 173, 172, 171, 171, 170,\n       170, 172, 169, 169, 169, 170, 170, 168, 168, 168, 170, 170, 172,\n       170, 168, 169, 165, 170, 168, 167, 171, 171, 169, 171, 168, 169,\n       169, 169, 169, 170, 173, 171, 171, 171, 171, 171, 171, 172, 166,\n       171, 170, 170, 170, 170, 167, 160, 149, 142, 141, 141, 145, 153,\n       156, 154, 156, 150, 146, 149, 144, 145, 147, 144, 144, 146, 147,\n       151, 153, 152, 156, 157, 158, 160, 161, 161, 160, 163, 165, 166,\n       169, 171, 169, 170, 169, 171, 172, 171, 171, 172, 169, 168, 172,\n       171, 173, 173], dtype=uint8), array([5.923182])], [array([176, 175, 173, 171, 172, 174, 173, 177, 173, 177, 174, 175, 172,\n       172, 173, 174, 173, 168, 167, 162, 154, 156, 155, 156, 157, 163,\n       163, 168, 172, 170, 167, 160, 155, 143, 140, 143, 154, 163, 165,\n       167, 170, 170, 171, 173, 175, 173, 175, 176, 179, 180, 180, 177,\n       173, 173, 174, 177, 182, 186, 185, 191, 192, 192, 193, 189, 185,\n       175, 162, 163, 170, 156, 135, 117, 110, 104, 102, 102, 105, 108,\n       110, 110, 114, 114, 115, 117, 120, 123, 123, 125, 127, 129, 135,\n       136, 138, 138, 144, 149, 152, 153, 155, 158, 160, 162, 166, 163,\n       166, 169, 169, 170, 172, 174, 177, 176, 178, 178, 175, 177, 178,\n       180, 181, 183], dtype=uint8), array([8.89809448])], [array([170, 172, 170, 170, 171, 172, 171, 170, 168, 165, 166, 166, 170,\n       171, 173, 173, 170, 175, 174, 171, 173, 170, 174, 173, 176, 172,\n       172, 172, 171, 174, 175, 176, 174, 172, 171, 172, 174, 171, 173,\n       176, 173, 175, 172, 172, 171, 170, 169, 172, 174, 173, 171, 172,\n       169, 170, 170, 167, 165, 167, 168, 166, 163, 164, 166, 163, 161,\n       161, 161, 158, 155, 154, 150, 137, 121, 119, 125, 119, 117, 132,\n       147, 153, 152, 153, 158, 159, 160, 161, 161, 163, 165, 168, 171,\n       170, 168, 171, 172, 174, 171, 172, 175, 175, 175, 174, 175, 173,\n       174, 171, 169, 161, 157, 154, 150, 153, 154, 160, 162, 166, 172,\n       176, 174, 176], dtype=uint8), array([4.7800506])], [array([173, 174, 174, 172, 174, 174, 174, 173, 173, 173, 173, 174, 178,\n       175, 176, 175, 174, 172, 173, 174, 174, 174, 173, 172, 174, 172,\n       172, 174, 172, 171, 172, 173, 176, 175, 172, 172, 174, 172, 171,\n       173, 169, 170, 171, 171, 166, 163, 167, 165, 164, 162, 160, 160,\n       159, 157, 156, 155, 151, 149, 151, 150, 151, 149, 147, 147, 146,\n       147, 150, 148, 147, 143, 136, 120, 121, 128, 126, 136, 147, 158,\n       157, 159, 159, 163, 166, 161, 160, 159, 164, 168, 167, 166, 166,\n       167, 167, 165, 166, 168, 169, 170, 166, 166, 169, 168, 169, 172,\n       168, 167, 166, 169, 172, 173, 174, 172, 173, 170, 171, 172, 169,\n       171, 170, 170], dtype=uint8), array([5.29939395])], [array([173, 174, 171, 170, 173, 173, 174, 172, 172, 170, 174, 172, 173,\n       175, 173, 170, 172, 169, 171, 174, 175, 170, 173, 170, 170, 171,\n       168, 175, 169, 171, 171, 172, 167, 170, 174, 169, 172, 168, 169,\n       171, 167, 171, 171, 167, 168, 170, 168, 171, 167, 163, 164, 166,\n       166, 165, 164, 159, 162, 162, 165, 161, 159, 158, 160, 162, 159,\n       156, 160, 157, 153, 157, 151, 133, 128, 126, 124, 126, 140, 150,\n       151, 152, 154, 153, 155, 153, 157, 158, 158, 161, 157, 160, 158,\n       161, 166, 167, 165, 168, 164, 167, 167, 166, 167, 166, 168, 165,\n       166, 166, 167, 167, 171, 167, 172, 165, 169, 168, 169, 169, 169,\n       166, 169, 169], dtype=uint8), array([5.08347615])], [array([216, 216, 214, 213, 213, 214, 211, 214, 213, 214, 213, 213, 212,\n       210, 211, 212, 209, 210, 209, 211, 212, 211, 211, 211, 213, 212,\n       213, 213, 213, 219, 213, 210, 213, 213, 214, 211, 211, 213, 211,\n       212, 211, 210, 206, 203, 204, 204, 200, 198, 195, 188, 159, 129,\n       135, 158, 158, 126, 104, 117, 140, 143, 146, 148, 153, 157, 162,\n       164, 171, 176, 178, 182, 187, 188, 190, 191, 192, 195, 198, 202,\n       203, 206, 207, 208, 206, 205, 205, 207, 204, 208, 207, 211, 209,\n       210, 212, 212, 210, 211, 215, 212, 215, 214, 215, 213, 213, 214,\n       212, 213, 215, 214, 215, 211, 211, 214, 213, 212, 216, 217, 213,\n       215, 214, 211], dtype=uint8), array([8.36581426])], [array([208, 207, 211, 211, 211, 209, 210, 209, 206, 206, 206, 203, 202,\n       203, 203, 200, 197, 198, 192, 192, 192, 189, 178, 168, 168, 176,\n       176, 188, 198, 202, 204, 205, 206, 201, 201, 203, 203, 203, 204,\n       201, 203, 204, 202, 201, 199, 199, 197, 195, 192, 189, 185, 180,\n       179, 171, 166, 166, 161, 158, 152, 153, 158, 162, 160, 154, 136,\n       109, 113, 131, 139, 133, 131, 150, 176, 191, 197, 196, 200, 202,\n       203, 204, 205, 207, 207, 209, 206, 206, 210, 209, 208, 211, 209,\n       210, 211, 208, 211, 211, 212, 213, 214, 215, 210, 207, 209, 213,\n       213, 210, 213, 215, 212, 214, 214, 213, 214, 213, 211, 211, 212,\n       212, 211, 208], dtype=uint8), array([8.89809448])], [array([210, 209, 213, 213, 212, 211, 212, 213, 213, 210, 209, 211, 212,\n       210, 207, 206, 204, 205, 206, 207, 208, 212, 209, 211, 211, 213,\n       211, 207, 213, 207, 209, 211, 209, 209, 209, 213, 207, 208, 209,\n       210, 213, 212, 210, 207, 209, 212, 209, 209, 212, 213, 211, 209,\n       210, 212, 212, 213, 213, 211, 211, 210, 210, 211, 208, 209, 207,\n       209, 208, 205, 203, 195, 177, 159, 160, 154, 150, 173, 181, 184,\n       189, 193, 194, 197, 201, 205, 201, 201, 205, 210, 205, 209, 209,\n       209, 206, 210, 212, 206, 209, 211, 212, 210, 210, 210, 211, 210,\n       209, 210, 208, 209, 211, 211, 211, 210, 210, 208, 207, 209, 212,\n       207, 209, 209], dtype=uint8), array([4.7800506])], [array([208, 214, 211, 210, 212, 213, 210, 211, 210, 209, 211, 212, 214,\n       214, 212, 213, 212, 212, 212, 212, 210, 210, 211, 212, 208, 210,\n       210, 208, 212, 211, 210, 210, 211, 212, 212, 211, 211, 210, 209,\n       212, 212, 210, 210, 208, 211, 214, 213, 210, 213, 211, 211, 211,\n       216, 214, 214, 213, 215, 213, 214, 212, 214, 213, 211, 209, 209,\n       208, 204, 201, 189, 166, 146, 150, 140, 133, 158, 182, 187, 193,\n       192, 194, 197, 201, 199, 198, 201, 203, 204, 205, 208, 208, 207,\n       207, 208, 207, 207, 209, 205, 193, 180, 175, 175, 188, 203, 206,\n       210, 209, 214, 210, 212, 208, 210, 209, 209, 209, 211, 211, 211,\n       212, 215, 213], dtype=uint8), array([5.29939395])], [array([201, 202, 203, 203, 206, 205, 203, 204, 204, 206, 204, 203, 205,\n       208, 207, 208, 209, 207, 208, 207, 206, 208, 207, 205, 206, 207,\n       207, 208, 209, 206, 206, 207, 207, 209, 209, 209, 207, 209, 210,\n       210, 209, 209, 209, 207, 206, 204, 211, 211, 211, 210, 210, 209,\n       209, 208, 210, 208, 206, 208, 208, 208, 208, 212, 211, 209, 207,\n       205, 205, 207, 200, 198, 191, 171, 159, 154, 148, 166, 186, 191,\n       187, 200, 199, 201, 206, 208, 208, 207, 209, 208, 212, 210, 210,\n       213, 209, 211, 210, 212, 210, 211, 211, 213, 210, 208, 213, 212,\n       210, 213, 214, 214, 214, 213, 210, 213, 209, 211, 210, 212, 212,\n       210, 212, 216], dtype=uint8), array([5.08347615])], [array([208, 208, 208, 206, 204, 206, 206, 206, 207, 208, 205, 207, 209,\n       210, 212, 208, 210, 206, 205, 204, 208, 209, 207, 208, 206, 209,\n       210, 206, 212, 208, 207, 208, 204, 208, 210, 211, 210, 210, 210,\n       209, 209, 210, 211, 207, 208, 207, 211, 213, 208, 207, 208, 209,\n       210, 210, 210, 210, 209, 205, 210, 210, 206, 206, 207, 208, 206,\n       207, 204, 202, 199, 193, 177, 160, 156, 161, 166, 179, 185, 189,\n       192, 192, 196, 194, 199, 200, 203, 205, 206, 206, 206, 209, 210,\n       208, 207, 209, 209, 209, 211, 211, 211, 211, 209, 211, 212, 211,\n       210, 211, 209, 209, 209, 210, 209, 208, 211, 210, 208, 208, 208,\n       209, 209, 210], dtype=uint8), array([5.923182])], [array([204, 202, 202, 201, 196, 189, 185, 181, 176, 171, 168, 171, 180,\n       179, 177, 179, 179, 179, 180, 179, 180, 181, 183, 186, 185, 184,\n       188, 190, 192, 194, 191, 193, 196, 196, 197, 199, 201, 202, 200,\n       201, 205, 202, 204, 203, 203, 206, 207, 206, 207, 209, 207, 208,\n       207, 211, 209, 210, 209, 212, 210, 210, 211, 210, 209, 207, 209,\n       211, 209, 205, 199, 184, 172, 162, 154, 160, 175, 179, 178, 178,\n       181, 182, 185, 185, 184, 190, 192, 193, 196, 198, 203, 203, 203,\n       204, 202, 202, 207, 207, 206, 206, 209, 209, 210, 207, 208, 210,\n       210, 209, 212, 212, 210, 211, 210, 209, 210, 210, 208, 206, 209,\n       208, 210, 207], dtype=uint8), array([4.59109883])], [array([202, 203, 203, 201, 203, 200, 204, 204, 209, 203, 206, 206, 208,\n       207, 205, 205, 207, 207, 206, 206, 207, 207, 205, 207, 208, 203,\n       206, 208, 206, 208, 207, 208, 205, 206, 205, 203, 205, 205, 205,\n       202, 204, 204, 203, 206, 206, 207, 205, 207, 210, 207, 207, 208,\n       207, 206, 206, 206, 204, 204, 202, 201, 196, 190, 179, 169, 169,\n       173, 183, 179, 176, 177, 178, 179, 180, 182, 182, 184, 186, 189,\n       189, 194, 190, 194, 195, 198, 196, 196, 197, 200, 202, 200, 203,\n       203, 202, 204, 203, 206, 206, 208, 208, 208, 208, 209, 208, 208,\n       207, 208, 208, 208, 206, 205, 209, 209, 207, 208, 208, 206, 205,\n       202, 206, 207], dtype=uint8), array([4.34090199])], [array([207, 208, 207, 205, 202, 205, 205, 205, 206, 207, 207, 204, 205,\n       204, 204, 205, 207, 209, 207, 206, 204, 204, 203, 204, 204, 205,\n       202, 203, 204, 202, 205, 203, 202, 204, 202, 200, 200, 199, 195,\n       192, 192, 193, 192, 187, 184, 182, 169, 149, 138, 145, 151, 138,\n       114, 105, 118, 135, 140, 136, 135, 139, 143, 144, 147, 149, 152,\n       157, 162, 163, 168, 171, 173, 179, 182, 182, 189, 190, 193, 195,\n       193, 195, 196, 198, 201, 204, 205, 202, 202, 206, 206, 206, 207,\n       205, 204, 208, 207, 206, 205, 207, 205, 205, 206, 206, 205, 203,\n       202, 204, 204, 204, 204, 203, 199, 200, 200, 201, 201, 204, 203,\n       203, 199, 202], dtype=uint8), array([8.52101685])], [array([204, 206, 206, 206, 205, 209, 201, 206, 203, 206, 207, 209, 208,\n       207, 205, 207, 205, 207, 206, 208, 205, 206, 208, 206, 204, 205,\n       207, 208, 208, 207, 206, 208, 207, 207, 206, 207, 207, 204, 205,\n       203, 199, 199, 198, 198, 196, 193, 190, 183, 164, 145, 140, 156,\n       167, 140, 113, 112, 130, 140, 139, 139, 138, 135, 140, 145, 146,\n       149, 153, 158, 158, 162, 166, 171, 172, 174, 180, 181, 185, 188,\n       185, 190, 193, 195, 197, 201, 197, 203, 201, 200, 203, 206, 204,\n       205, 202, 205, 204, 205, 205, 205, 206, 207, 207, 208, 208, 203,\n       203, 205, 206, 205, 201, 206, 204, 206, 205, 205, 206, 209, 207,\n       207, 207, 205], dtype=uint8), array([8.73503977])], [array([203, 201, 205, 205, 208, 203, 203, 205, 206, 205, 203, 206, 207,\n       205, 207, 207, 206, 205, 204, 205, 207, 206, 208, 207, 207, 205,\n       202, 204, 205, 205, 202, 204, 203, 207, 207, 203, 203, 207, 204,\n       205, 207, 208, 205, 206, 209, 206, 208, 208, 207, 209, 208, 207,\n       207, 204, 203, 199, 195, 186, 177, 166, 159, 156, 161, 171, 170,\n       170, 172, 170, 171, 172, 176, 177, 179, 184, 188, 191, 190, 192,\n       193, 194, 199, 202, 203, 204, 204, 205, 209, 205, 204, 209, 208,\n       206, 209, 207, 209, 208, 203, 197, 190, 178, 171, 169, 173, 176,\n       177, 178, 179, 180, 182, 182, 183, 185, 186, 189, 196, 198, 199,\n       198, 198, 200], dtype=uint8), array([4.18356936])], [array([206, 203, 201, 203, 205, 204, 205, 208, 207, 206, 203, 207, 206,\n       207, 205, 204, 204, 206, 206, 207, 206, 205, 206, 209, 206, 207,\n       207, 206, 208, 204, 207, 206, 206, 204, 204, 204, 204, 204, 203,\n       204, 204, 206, 205, 204, 204, 202, 204, 204, 206, 206, 204, 207,\n       208, 209, 206, 208, 209, 207, 209, 202, 198, 194, 184, 172, 166,\n       169, 175, 176, 172, 175, 175, 176, 176, 179, 182, 182, 181, 182,\n       192, 192, 194, 195, 196, 198, 197, 198, 202, 203, 204, 204, 206,\n       206, 206, 207, 208, 207, 206, 205, 207, 206, 206, 205, 204, 205,\n       210, 206, 210, 210, 208, 205, 205, 202, 200, 201, 195, 196, 197,\n       194, 196, 199], dtype=uint8), array([4.35067225])], [array([186, 182, 184, 182, 183, 185, 185, 184, 184, 186, 188, 189, 187,\n       186, 187, 184, 183, 183, 183, 187, 184, 184, 188, 188, 185, 185,\n       185, 185, 186, 186, 187, 189, 187, 187, 189, 187, 190, 185, 187,\n       185, 185, 188, 186, 186, 185, 185, 185, 185, 187, 186, 186, 185,\n       186, 187, 188, 189, 190, 191, 187, 189, 188, 186, 186, 186, 183,\n       183, 185, 184, 183, 182, 182, 186, 185, 184, 184, 179, 182, 182,\n       180, 181, 183, 182, 184, 185, 184, 184, 183, 183, 184, 182, 182,\n       183, 180, 183, 181, 181, 180, 180, 176, 181, 180, 182, 181, 179,\n       180, 182, 182, 180, 180, 182, 184, 181, 180, 180, 178, 177, 181,\n       180, 181, 180], dtype=uint8), array([0.])], [array([195, 196, 198, 198, 196, 196, 195, 194, 195, 196, 194, 194, 193,\n       193, 195, 194, 195, 194, 192, 193, 195, 193, 195, 197, 196, 197,\n       195, 194, 193, 195, 196, 195, 193, 193, 196, 193, 197, 195, 197,\n       196, 196, 195, 195, 193, 192, 194, 193, 193, 194, 194, 194, 193,\n       194, 196, 191, 189, 194, 195, 197, 196, 196, 197, 195, 198, 196,\n       194, 199, 200, 196, 197, 197, 197, 194, 191, 177, 158, 151, 142,\n       131, 133, 153, 161, 162, 164, 163, 162, 163, 163, 161, 162, 167,\n       167, 166, 170, 179, 177, 176, 177, 182, 183, 186, 188, 187, 187,\n       190, 191, 189, 185, 185, 189, 190, 194, 197, 195, 196, 195, 196,\n       196, 196, 197], dtype=uint8), array([4.75818342])], [array([198, 199, 196, 193, 195, 195, 194, 194, 195, 196, 195, 197, 198,\n       194, 193, 196, 196, 197, 198, 200, 195, 194, 196, 193, 193, 193,\n       194, 191, 190, 190, 192, 187, 186, 186, 184, 184, 180, 177, 177,\n       175, 171, 172, 172, 171, 171, 169, 170, 167, 167, 169, 169, 171,\n       173, 174, 173, 171, 168, 164, 162, 166, 173, 184, 192, 198, 196,\n       197, 195, 198, 195, 197, 194, 195, 198, 191, 199, 199, 196, 196,\n       195, 196, 194, 194, 197, 198, 197, 196, 195, 197, 195, 194, 192,\n       192, 195, 193, 191, 191, 190, 189, 185, 186, 187, 186, 188, 189,\n       190, 191, 190, 189, 189, 190, 193, 192, 191, 191, 191, 191, 193,\n       194, 197, 196], dtype=uint8), array([3.84824603])], [array([193, 193, 194, 193, 193, 193, 195, 192, 196, 190, 189, 191, 191,\n       191, 190, 190, 191, 191, 185, 189, 192, 192, 193, 193, 190, 189,\n       188, 189, 190, 189, 188, 191, 189, 188, 191, 191, 187, 190, 189,\n       187, 183, 185, 185, 186, 185, 181, 178, 178, 181, 178, 178, 175,\n       177, 174, 171, 171, 170, 164, 163, 164, 162, 161, 160, 162, 160,\n       158, 158, 159, 158, 146, 134, 130, 135, 143, 156, 164, 174, 180,\n       183, 183, 186, 187, 188, 189, 189, 189, 188, 188, 188, 187, 188,\n       189, 188, 187, 185, 185, 184, 183, 179, 177, 172, 168, 161, 158,\n       154, 148, 147, 154, 162, 169, 176, 180, 184, 184, 185, 186, 188,\n       189, 188, 187], dtype=uint8), array([5.52762087])], [array([192, 194, 194, 193, 194, 193, 193, 190, 194, 195, 194, 194, 194,\n       192, 193, 192, 193, 190, 189, 191, 194, 189, 190, 191, 187, 186,\n       186, 185, 185, 183, 180, 180, 178, 174, 173, 171, 169, 168, 165,\n       165, 162, 155, 154, 156, 154, 153, 151, 150, 151, 155, 157, 157,\n       156, 157, 155, 149, 143, 141, 146, 157, 168, 179, 187, 192, 196,\n       197, 196, 195, 193, 193, 194, 193, 192, 193, 192, 194, 193, 189,\n       188, 191, 191, 191, 189, 190, 190, 189, 190, 188, 187, 187, 190,\n       189, 188, 188, 188, 188, 187, 190, 184, 182, 183, 185, 190, 188,\n       184, 185, 189, 185, 188, 185, 186, 184, 186, 183, 180, 181, 179,\n       180, 180, 178], dtype=uint8), array([5.24173503])], [array([187, 185, 186, 187, 186, 184, 186, 189, 186, 186, 187, 185, 185,\n       183, 184, 183, 184, 182, 183, 181, 178, 181, 180, 176, 178, 174,\n       177, 175, 174, 170, 166, 165, 161, 159, 160, 158, 158, 158, 157,\n       159, 158, 155, 153, 154, 154, 159, 160, 160, 164, 164, 164, 165,\n       161, 154, 147, 145, 152, 164, 178, 184, 190, 187, 187, 186, 186,\n       183, 185, 179, 181, 183, 184, 181, 181, 182, 180, 180, 183, 181,\n       183, 182, 180, 179, 179, 180, 179, 179, 182, 180, 178, 180, 179,\n       178, 178, 178, 177, 181, 181, 179, 178, 177, 178, 177, 177, 177,\n       179, 180, 181, 180, 179, 179, 179, 179, 180, 182, 183, 180, 178,\n       180, 180, 179], dtype=uint8), array([3.48806279])], [array([181, 182, 183, 182, 182, 184, 181, 182, 182, 185, 180, 182, 181,\n       180, 182, 179, 180, 181, 181, 180, 182, 182, 179, 178, 177, 179,\n       180, 180, 179, 179, 178, 177, 180, 178, 180, 179, 181, 181, 181,\n       179, 179, 178, 179, 178, 177, 179, 179, 180, 179, 180, 179, 177,\n       178, 178, 177, 176, 177, 176, 174, 174, 176, 176, 176, 172, 173,\n       171, 173, 171, 170, 169, 169, 168, 170, 170, 169, 164, 155, 144,\n       137, 131, 124, 134, 150, 156, 155, 154, 157, 155, 156, 155, 156,\n       157, 157, 159, 159, 157, 159, 157, 157, 156, 155, 159, 158, 156,\n       156, 155, 156, 155, 155, 154, 153, 152, 155, 151, 155, 153, 153,\n       152, 149, 137], dtype=uint8), array([4.68352392])], [array([181, 183, 180, 179, 180, 181, 180, 179, 178, 178, 181, 181, 181,\n       182, 180, 180, 181, 177, 175, 176, 175, 177, 177, 176, 175, 173,\n       174, 170, 170, 170, 171, 170, 168, 165, 166, 164, 161, 164, 160,\n       157, 155, 147, 135, 131, 132, 132, 139, 152, 158, 159, 159, 159,\n       160, 161, 162, 163, 162, 164, 162, 162, 162, 163, 162, 164, 165,\n       162, 164, 163, 163, 162, 165, 160, 153, 143, 135, 134, 138, 146,\n       160, 167, 171, 172, 172, 172, 175, 177, 178, 179, 179, 177, 181,\n       179, 179, 180, 181, 176, 179, 179, 178, 178, 179, 179, 179, 178,\n       177, 178, 180, 179, 180, 186, 178, 179, 180, 177, 179, 181, 180,\n       178, 179, 180], dtype=uint8), array([4.45399496])], [array([198, 197, 196, 197, 198, 198, 198, 196, 198, 197, 197, 197, 198,\n       195, 197, 194, 197, 197, 199, 199, 197, 200, 195, 196, 193, 196,\n       197, 196, 200, 198, 196, 195, 196, 196, 196, 198, 199, 196, 194,\n       196, 198, 197, 194, 193, 196, 196, 194, 195, 195, 193, 193, 195,\n       195, 193, 193, 193, 191, 194, 194, 197, 195, 192, 192, 190, 196,\n       193, 194, 195, 195, 193, 193, 193, 193, 195, 195, 194, 194, 193,\n       194, 195, 195, 196, 196, 194, 195, 197, 198, 194, 193, 194, 192,\n       190, 192, 196, 195, 193, 194, 190, 192, 194, 193, 193, 196, 192,\n       192, 193, 193, 196, 194, 195, 192, 196, 194, 192, 190, 191, 186,\n       192, 192, 191], dtype=uint8), array([0.])], [array([209, 211, 211, 209, 211, 212, 211, 211, 213, 209, 216, 211, 207,\n       211, 210, 212, 210, 210, 210, 209, 212, 215, 211, 210, 208, 210,\n       210, 211, 213, 212, 211, 212, 210, 212, 210, 209, 210, 206, 204,\n       208, 208, 210, 212, 214, 212, 211, 211, 208, 207, 208, 211, 207,\n       205, 205, 201, 202, 203, 203, 199, 196, 194, 195, 192, 189, 183,\n       171, 147, 133, 129, 129, 121, 111, 112, 126, 140, 148, 152, 153,\n       157, 160, 166, 170, 174, 179, 180, 186, 190, 193, 194, 198, 197,\n       199, 199, 204, 207, 207, 207, 209, 210, 210, 210, 208, 211, 212,\n       210, 211, 209, 210, 209, 208, 211, 208, 209, 208, 206, 208, 210,\n       210, 210, 210], dtype=uint8), array([8.71474618])], [array([212, 215, 213, 210, 210, 211, 212, 212, 212, 213, 215, 212, 213,\n       213, 212, 209, 208, 213, 212, 212, 209, 212, 212, 212, 209, 212,\n       213, 212, 210, 212, 213, 213, 209, 210, 212, 211, 205, 207, 207,\n       208, 210, 206, 209, 207, 206, 208, 208, 208, 207, 210, 208, 207,\n       209, 207, 206, 205, 204, 203, 198, 201, 198, 196, 188, 190, 186,\n       179, 173, 156, 128, 102,  95, 105, 120, 126, 124, 125, 138, 153,\n       165, 170, 174, 173, 176, 182, 185, 187, 188, 192, 193, 193, 195,\n       200, 201, 201, 203, 204, 205, 210, 208, 208, 205, 206, 208, 212,\n       209, 209, 211, 211, 211, 210, 215, 211, 211, 211, 210, 212, 210,\n       210, 209, 210], dtype=uint8), array([9.02551505])], [array([169, 169, 172, 177, 179, 178, 181, 181, 180, 183, 184, 186, 187,\n       189, 192, 190, 193, 193, 194, 193, 191, 196, 195, 199, 201, 201,\n       201, 203, 204, 204, 198, 201, 205, 204, 204, 204, 204, 204, 203,\n       204, 202, 202, 203, 199, 195, 183, 160, 143, 142, 144, 125, 114,\n       125, 137, 142, 146, 148, 152, 157, 162, 169, 172, 176, 179, 181,\n       183, 189, 194, 196, 194, 196, 202, 202, 202, 205, 207, 207, 205,\n       202, 206, 209, 209, 206, 206, 208, 212, 212, 210, 210, 211, 209,\n       208, 208, 213, 212, 209, 208, 208, 208, 207, 210, 210, 211, 205,\n       204, 210, 209, 209, 212, 210, 209, 208, 208, 207, 209, 210, 210,\n       211, 210, 214], dtype=uint8), array([7.32964192])], [array([211, 211, 211, 213, 214, 212, 214, 215, 216, 214, 209, 210, 215,\n       213, 215, 213, 213, 213, 215, 214, 213, 213, 212, 213, 213, 213,\n       213, 209, 209, 213, 209, 212, 211, 210, 210, 209, 206, 202, 200,\n       201, 197, 198, 208, 206, 206, 209, 212, 209, 211, 213, 211, 208,\n       210, 212, 211, 202, 204, 203, 202, 202, 202, 199, 193, 183, 172,\n       159, 152, 155, 163, 171, 174, 172, 175, 178, 185, 191, 199, 202,\n       203, 202, 205, 210, 205, 211, 213, 210, 211, 212, 211, 210, 212,\n       212, 210, 212, 213, 211, 210, 211, 214, 212, 210, 211, 212, 213,\n       213, 215, 216, 215, 215, 214, 215, 214, 213, 213, 215, 213, 210,\n       209, 212, 210], dtype=uint8), array([4.88385177])], [array([212, 208, 210, 208, 208, 206, 205, 207, 208, 211, 210, 210, 207,\n       207, 207, 208, 208, 210, 209, 210, 208, 207, 207, 208, 210, 208,\n       208, 208, 206, 211, 213, 208, 207, 206, 207, 205, 207, 204, 203,\n       198, 195, 196, 195, 199, 202, 204, 205, 206, 204, 202, 201, 200,\n       200, 197, 191, 185, 185, 185, 185, 185, 186, 186, 183, 178, 174,\n       168, 169, 170, 173, 160, 130, 111, 120, 133, 132, 135, 164, 184,\n       193, 196, 198, 198, 199, 200, 202, 202, 204, 207, 205, 207, 208,\n       207, 209, 210, 209, 208, 210, 212, 209, 207, 207, 209, 211, 208,\n       213, 212, 211, 211, 215, 213, 211, 212, 211, 210, 213, 212, 212,\n       209, 209, 211], dtype=uint8), array([6.54541434])], [array([202, 202, 202, 201, 199, 197, 196, 197, 194, 191, 195, 196, 191,\n       188, 185, 185, 181, 177, 172, 159, 151, 151, 153, 160, 170, 182,\n       185, 189, 190, 191, 188, 183, 177, 164, 151, 149, 152, 157, 158,\n       155, 150, 146, 146, 155, 169, 179, 187, 195, 199, 202, 201, 203,\n       205, 207, 208, 206, 202, 203, 203, 203, 199, 199, 197, 195, 195,\n       195, 194, 191, 186, 177, 154, 127, 119, 129, 128, 127, 141, 171,\n       186, 192, 195, 196, 200, 203, 202, 202, 204, 207, 207, 209, 207,\n       210, 208, 210, 210, 211, 213, 211, 212, 211, 213, 214, 214, 214,\n       212, 212, 213, 213, 211, 213, 211, 215, 212, 213, 209, 209, 207,\n       206, 209, 210], dtype=uint8), array([7.03218657])], [array([201, 197, 200, 202, 194, 195, 190, 182, 174, 164, 137, 125, 127,\n       139, 141, 137, 137, 150, 165, 176, 186, 188, 190, 193, 192, 196,\n       198, 199, 200, 201, 202, 204, 204, 204, 206, 206, 206, 205, 211,\n       207, 208, 207, 208, 207, 211, 209, 209, 205, 205, 206, 201, 203,\n       202, 200, 200, 197, 196, 193, 189, 183, 178, 176, 173, 168, 168,\n       166, 166, 167, 155, 130, 115, 125, 138, 126, 131, 158, 183, 191,\n       193, 198, 198, 201, 203, 204, 206, 207, 212, 209, 209, 211, 209,\n       211, 212, 210, 209, 211, 214, 211, 214, 214, 210, 212, 213, 213,\n       213, 215, 213, 214, 211, 213, 213, 212, 209, 211, 208, 213, 210,\n       209, 211, 210], dtype=uint8), array([6.38074043])], [array([199, 199, 197, 203, 200, 199, 197, 198, 201, 201, 200, 201, 203,\n       202, 202, 204, 206, 205, 203, 205, 206, 207, 202, 205, 209, 206,\n       204, 208, 207, 205, 206, 203, 204, 204, 208, 204, 204, 207, 208,\n       209, 207, 208, 206, 206, 206, 205, 206, 206, 208, 206, 204, 203,\n       206, 205, 203, 201, 200, 199, 200, 200, 201, 200, 196, 188, 189,\n       189, 192, 196, 200, 202, 198, 197, 200, 193, 188, 174, 155, 147,\n       148, 151, 159, 171, 188, 198, 206, 201, 212, 207, 207, 208, 209,\n       209, 210, 210, 210, 211, 209, 207, 209, 208, 211, 212, 210, 211,\n       209, 206, 211, 211, 210, 210, 210, 208, 209, 209, 210, 211, 210,\n       209, 208, 211], dtype=uint8), array([5.54238319])], [array([210, 209, 211, 213, 214, 213, 210, 213, 213, 212, 213, 213, 215,\n       217, 213, 210, 208, 209, 210, 211, 211, 214, 215, 214, 210, 212,\n       211, 211, 211, 207, 209, 205, 204, 207, 205, 210, 207, 205, 201,\n       203, 200, 197, 191, 191, 190, 188, 188, 187, 187, 187, 184, 179,\n       183, 190, 196, 200, 199, 198, 200, 202, 204, 203, 204, 206, 202,\n       202, 202, 199, 197, 197, 197, 194, 191, 188, 183, 179, 177, 171,\n       168, 166, 168, 177, 191, 198, 204, 207, 206, 208, 206, 208, 209,\n       210, 209, 209, 207, 207, 207, 205, 201, 203, 201, 198, 203, 203,\n       202, 197, 199, 201, 202, 207, 208, 206, 206, 210, 209, 209, 212,\n       211, 210, 212], dtype=uint8), array([4.58639866])], [array([215, 218, 216, 215, 218, 217, 213, 213, 216, 215, 216, 218, 215,\n       215, 215, 214, 215, 215, 214, 214, 214, 215, 215, 214, 214, 213,\n       211, 211, 212, 211, 212, 213, 212, 214, 213, 211, 218, 217, 216,\n       213, 213, 214, 213, 211, 212, 211, 209, 206, 206, 208, 205, 197,\n       187, 173, 163, 150, 135, 138, 161, 172, 173, 173, 170, 174, 176,\n       179, 182, 186, 190, 196, 197, 201, 206, 206, 207, 209, 211, 211,\n       212, 214, 213, 214, 214, 216, 217, 215, 212, 215, 213, 212, 217,\n       216, 219, 216, 218, 217, 215, 215, 218, 216, 213, 215, 215, 213,\n       213, 216, 216, 215, 216, 213, 213, 213, 215, 217, 215, 214, 212,\n       214, 214, 216], dtype=uint8), array([5.4984222])], [array([200, 198, 197, 199, 201, 195, 194, 191, 186, 173, 162, 148, 143,\n       136, 131, 124, 129, 130, 134, 140, 149, 154, 155, 156, 160, 165,\n       170, 171, 179, 186, 190, 191, 192, 195, 192, 193, 195, 197, 197,\n       202, 199, 199, 196, 196, 202, 200, 201, 202, 203, 203, 203, 204,\n       205, 205, 203, 203, 200, 201, 204, 202, 200, 199, 201, 200, 199,\n       193, 183, 165, 144, 138, 141, 136, 126, 116, 116, 127, 137, 143,\n       147, 152, 154, 160, 162, 166, 171, 177, 181, 183, 187, 192, 193,\n       196, 200, 200, 203, 205, 204, 204, 206, 205, 206, 207, 209, 210,\n       207, 209, 209, 212, 209, 210, 213, 211, 211, 213, 215, 212, 214,\n       210, 210, 213], dtype=uint8), array([8.81468908])], [array([210, 209, 210, 211, 212, 212, 212, 212, 212, 211, 210, 213, 214,\n       210, 210, 209, 210, 210, 211, 211, 213, 212, 210, 208, 210, 210,\n       211, 211, 210, 209, 212, 212, 212, 213, 211, 210, 208, 212, 210,\n       208, 210, 213, 215, 215, 210, 208, 211, 210, 211, 210, 209, 210,\n       206, 208, 210, 208, 209, 207, 205, 207, 207, 205, 203, 204, 204,\n       204, 202, 203, 202, 202, 197, 199, 196, 193, 190, 187, 178, 149,\n       122, 109, 108, 121, 150, 176, 192, 195, 200, 202, 202, 204, 204,\n       206, 208, 211, 212, 209, 207, 209, 210, 210, 210, 211, 211, 210,\n       213, 214, 209, 210, 218, 209, 210, 212, 212, 213, 213, 209, 210,\n       211, 207, 214], dtype=uint8), array([5.09065576])], [array([184, 185, 184, 184, 185, 184, 182, 185, 187, 186, 185, 186, 187,\n       183, 182, 186, 186, 183, 185, 185, 183, 187, 188, 189, 186, 186,\n       188, 186, 187, 186, 186, 188, 186, 185, 187, 186, 185, 185, 183,\n       182, 185, 185, 186, 185, 185, 186, 190, 187, 186, 185, 186, 187,\n       185, 189, 185, 183, 186, 187, 187, 187, 188, 187, 187, 188, 189,\n       187, 188, 189, 187, 188, 189, 189, 188, 193, 191, 190, 189, 190,\n       191, 188, 192, 189, 190, 190, 192, 192, 191, 190, 191, 191, 189,\n       189, 191, 190, 188, 188, 190, 189, 189, 189, 188, 187, 190, 190,\n       190, 188, 188, 187, 188, 190, 187, 186, 186, 188, 190, 192, 188,\n       186, 187, 188], dtype=uint8), array([0.])], [array([207, 207, 203, 204, 205, 207, 205, 206, 208, 209, 206, 206, 208,\n       205, 207, 206, 207, 207, 206, 205, 206, 208, 207, 208, 206, 205,\n       204, 207, 207, 205, 206, 206, 205, 206, 207, 208, 207, 205, 207,\n       205, 206, 207, 204, 203, 204, 206, 209, 208, 208, 207, 208, 207,\n       209, 205, 205, 206, 206, 206, 207, 204, 205, 201, 202, 194, 181,\n       163, 146, 133, 132, 147, 164, 173, 177, 176, 176, 176, 178, 179,\n       180, 181, 184, 190, 190, 192, 194, 196, 196, 199, 198, 199, 202,\n       202, 202, 204, 205, 203, 204, 209, 206, 205, 207, 207, 208, 207,\n       205, 208, 206, 209, 206, 211, 207, 204, 204, 201, 196, 189, 181,\n       172, 168, 170], dtype=uint8), array([4.42544194])], [array([203, 204, 204, 205, 203, 203, 204, 205, 205, 203, 206, 204, 205,\n       205, 206, 204, 204, 205, 205, 207, 206, 207, 205, 205, 204, 204,\n       207, 207, 209, 208, 207, 207, 206, 207, 209, 208, 209, 207, 206,\n       207, 209, 206, 205, 203, 204, 204, 200, 200, 192, 186, 176, 167,\n       159, 156, 159, 166, 177, 184, 187, 190, 194, 195, 197, 202, 201,\n       200, 201, 201, 203, 204, 202, 199, 192, 182, 171, 155, 146, 145,\n       155, 164, 170, 172, 170, 174, 176, 175, 176, 179, 183, 182, 187,\n       190, 197, 197, 195, 201, 197, 197, 199, 201, 201, 203, 204, 205,\n       204, 207, 206, 207, 208, 207, 207, 206, 204, 205, 205, 205, 208,\n       206, 207, 206], dtype=uint8), array([4.45399496])], [array([175, 177, 178, 184, 187, 186, 186, 188, 187, 190, 188, 185, 189,\n       190, 192, 192, 190, 196, 197, 196, 198, 198, 198, 198, 199, 196,\n       196, 198, 200, 201, 200, 203, 201, 204, 201, 202, 204, 203, 204,\n       203, 203, 206, 203, 205, 205, 205, 208, 207, 206, 204, 206, 207,\n       204, 205, 206, 205, 209, 208, 204, 205, 209, 208, 205, 206, 207,\n       206, 205, 208, 206, 205, 206, 205, 203, 202, 204, 201, 197, 191,\n       178, 159, 143, 134, 139, 153, 166, 173, 177, 181, 182, 184, 185,\n       188, 190, 192, 194, 194, 196, 201, 202, 201, 200, 205, 206, 204,\n       205, 207, 205, 205, 205, 204, 203, 205, 208, 208, 206, 202, 192,\n       177, 162, 149], dtype=uint8), array([4.68352392])], [array([204, 206, 206, 205, 206, 208, 206, 205, 206, 204, 204, 204, 206,\n       205, 205, 207, 206, 207, 205, 206, 202, 203, 202, 204, 204, 205,\n       204, 206, 205, 203, 206, 203, 203, 204, 206, 206, 206, 203, 207,\n       205, 206, 206, 205, 205, 204, 201, 200, 195, 197, 190, 180, 170,\n       159, 161, 167, 175, 182, 185, 189, 191, 189, 186, 186, 188, 188,\n       186, 185, 184, 185, 187, 185, 186, 190, 192, 191, 190, 191, 194,\n       198, 198, 198, 198, 199, 200, 196, 200, 203, 203, 205, 199, 201,\n       203, 201, 205, 206, 207, 204, 206, 206, 204, 205, 206, 206, 205,\n       205, 207, 207, 206, 204, 205, 206, 206, 206, 206, 207, 206, 205,\n       204, 204, 204], dtype=uint8), array([3.48806279])], [array([185, 186, 188, 188, 190, 193, 195, 199, 199, 198, 199, 201, 201,\n       202, 202, 204, 203, 202, 204, 203, 205, 203, 205, 205, 205, 204,\n       204, 207, 206, 205, 205, 206, 205, 206, 205, 202, 207, 206, 205,\n       204, 208, 205, 204, 207, 207, 205, 204, 205, 204, 205, 207, 202,\n       205, 202, 201, 205, 206, 207, 206, 204, 202, 202, 203, 205, 206,\n       204, 203, 206, 205, 207, 205, 205, 205, 197, 189, 177, 163, 148,\n       135, 133, 145, 156, 165, 163, 164, 167, 171, 171, 172, 174, 178,\n       181, 182, 185, 186, 191, 196, 196, 195, 195, 196, 199, 201, 202,\n       205, 206, 201, 205, 201, 205, 208, 207, 205, 204, 206, 203, 205,\n       207, 206, 206], dtype=uint8), array([5.52762087])], [array([205, 203, 202, 203, 205, 203, 202, 202, 205, 206, 203, 200, 203,\n       202, 202, 206, 204, 202, 203, 204, 204, 203, 200, 200, 202, 204,\n       206, 205, 203, 202, 204, 204, 201, 201, 204, 203, 204, 205, 202,\n       198, 194, 189, 188, 189, 193, 199, 202, 201, 201, 203, 203, 200,\n       200, 197, 191, 183, 172, 163, 155, 144, 135, 138, 150, 158, 157,\n       154, 155, 155, 154, 158, 162, 166, 168, 171, 175, 181, 184, 185,\n       185, 188, 191, 193, 195, 197, 197, 200, 202, 201, 199, 199, 201,\n       202, 204, 202, 202, 202, 203, 203, 206, 203, 201, 203, 204, 201,\n       202, 204, 207, 205, 203, 204, 206, 205, 205, 206, 203, 206, 203,\n       207, 206, 204], dtype=uint8), array([5.24173503])], [array([203, 206, 205, 203, 204, 204, 203, 202, 203, 203, 200, 201, 200,\n       200, 201, 202, 201, 203, 203, 198, 201, 205, 205, 203, 201, 199,\n       197, 194, 189, 185, 186, 186, 188, 191, 199, 198, 200, 203, 202,\n       199, 201, 199, 201, 203, 202, 203, 201, 202, 201, 201, 201, 196,\n       199, 198, 200, 198, 197, 193, 193, 191, 190, 188, 184, 181, 181,\n       175, 176, 174, 171, 168, 171, 168, 162, 164, 163, 160, 150, 137,\n       136, 141, 152, 169, 184, 193, 195, 196, 197, 201, 202, 201, 201,\n       202, 202, 202, 203, 203, 201, 199, 199, 200, 205, 202, 201, 202,\n       201, 202, 206, 204, 201, 203, 205, 204, 200, 204, 204, 205, 203,\n       203, 201, 202], dtype=uint8), array([4.75818342])], [array([195, 197, 197, 199, 198, 198, 198, 200, 203, 200, 197, 198, 198,\n       198, 200, 200, 198, 200, 202, 200, 202, 202, 201, 203, 201, 202,\n       203, 203, 201, 201, 198, 197, 201, 202, 198, 198, 198, 201, 201,\n       195, 199, 200, 203, 199, 202, 203, 200, 202, 204, 203, 204, 202,\n       204, 201, 200, 194, 182, 166, 159, 157, 161, 166, 169, 169, 168,\n       167, 165, 164, 166, 170, 172, 174, 177, 181, 183, 184, 187, 191,\n       191, 193, 197, 195, 194, 198, 200, 200, 199, 198, 200, 200, 200,\n       204, 202, 204, 205, 206, 200, 204, 203, 202, 200, 207, 205, 199,\n       202, 202, 201, 201, 202, 202, 200, 191, 190, 190, 189, 186, 186,\n       187, 185, 186], dtype=uint8), array([3.84824603])], [array([196, 198, 196, 194, 195, 192, 194, 194, 196, 194, 193, 194, 191,\n       191, 191, 189, 194, 193, 192, 193, 191, 192, 191, 191, 191, 191,\n       192, 190, 189, 188, 192, 191, 193, 194, 194, 194, 194, 196, 193,\n       195, 193, 196, 195, 196, 197, 197, 197, 198, 196, 196, 195, 198,\n       196, 197, 200, 199, 197, 195, 192, 184, 184, 183, 178, 170, 163,\n       159, 154, 144, 138, 136, 146, 151, 146, 138, 134, 133, 134, 137,\n       141, 143, 146, 149, 152, 154, 158, 162, 164, 169, 170, 172, 173,\n       176, 180, 183, 184, 185, 187, 189, 191, 193, 194, 193, 192, 194,\n       195, 196, 195, 196, 197, 196, 196, 195, 197, 196, 198, 197, 198,\n       199, 200, 201], dtype=uint8), array([6.3266849])], [array([157, 158, 158, 162, 162, 163, 167, 168, 169, 168, 172, 172, 174,\n       175, 176, 176, 178, 178, 180, 180, 182, 183, 183, 184, 186, 189,\n       189, 190, 188, 191, 189, 191, 193, 193, 193, 195, 193, 192, 193,\n       197, 195, 195, 196, 197, 197, 196, 195, 195, 193, 193, 194, 195,\n       194, 192, 196, 194, 191, 189, 186, 177, 163, 155, 152, 161, 166,\n       176, 177, 175, 176, 176, 179, 178, 176, 172, 164, 146, 126, 122,\n       116, 108, 111, 124, 138, 147, 152, 155, 159, 161, 168, 168, 169,\n       171, 177, 179, 181, 183, 186, 188, 188, 189, 192, 192, 193, 194,\n       194, 196, 196, 200, 199, 199, 197, 198, 198, 197, 198, 202, 202,\n       198, 200, 200], dtype=uint8), array([5.48232787])], [array([165, 165, 164, 162, 166, 166, 166, 164, 166, 173, 170, 168, 169,\n       172, 177, 177, 175, 181, 177, 179, 175, 180, 184, 181, 179, 182,\n       184, 188, 181, 184, 187, 186, 184, 191, 186, 188, 185, 189, 188,\n       187, 186, 189, 187, 193, 190, 194, 193, 193, 189, 193, 190, 187,\n       192, 191, 188, 192, 191, 192, 192, 187, 195, 193, 192, 192, 192,\n       190, 194, 194, 194, 197, 197, 195, 197, 200, 199, 194, 184, 174,\n       159, 145, 134, 133, 141, 148, 148, 152, 156, 156, 156, 152, 155,\n       160, 158, 162, 164, 163, 165, 170, 174, 171, 179, 178, 180, 182,\n       184, 188, 192, 190, 191, 186, 188, 192, 193, 192, 195, 191, 197,\n       196, 195, 199], dtype=uint8), array([4.22418291])], [array([207, 208, 206, 210, 209, 209, 210, 209, 206, 204, 206, 205, 208,\n       206, 206, 207, 206, 207, 208, 210, 205, 205, 203, 203, 205, 207,\n       207, 205, 208, 211, 207, 206, 204, 204, 206, 204, 205, 207, 207,\n       207, 208, 208, 208, 207, 206, 206, 205, 210, 206, 204, 210, 209,\n       207, 206, 205, 207, 206, 207, 207, 207, 209, 208, 208, 207, 205,\n       204, 205, 204, 205, 205, 206, 208, 209, 206, 205, 208, 204, 205,\n       207, 209, 210, 206, 206, 205, 206, 206, 209, 209, 208, 208, 207,\n       206, 206, 206, 209, 210, 210, 210, 208, 206, 206, 204, 206, 209,\n       206, 205, 206, 206, 202, 201, 207, 204, 203, 208, 208, 208, 208,\n       208, 207, 205], dtype=uint8), array([0.])], [array([203, 202, 203, 203, 203, 200, 201, 202, 202, 202, 202, 203, 202,\n       203, 202, 202, 205, 203, 202, 204, 203, 203, 203, 202, 203, 205,\n       203, 204, 203, 203, 204, 202, 202, 204, 201, 200, 201, 203, 204,\n       204, 203, 202, 201, 202, 202, 203, 204, 206, 206, 204, 206, 201,\n       206, 208, 206, 202, 205, 209, 202, 207, 203, 204, 204, 202, 199,\n       197, 190, 178, 165, 158, 157, 162, 170, 171, 170, 169, 172, 170,\n       172, 177, 179, 183, 183, 185, 186, 188, 191, 194, 194, 196, 198,\n       197, 199, 201, 200, 203, 201, 198, 203, 202, 204, 203, 201, 205,\n       204, 202, 205, 204, 202, 204, 206, 206, 203, 204, 202, 203, 205,\n       203, 205, 205], dtype=uint8), array([3.71157107])], [array([205, 205, 202, 208, 203, 203, 199, 205, 204, 207, 206, 205, 204,\n       202, 201, 204, 201, 204, 204, 203, 204, 205, 199, 203, 203, 206,\n       205, 205, 205, 202, 200, 201, 202, 205, 204, 201, 200, 201, 199,\n       199, 198, 197, 193, 189, 190, 191, 188, 192, 196, 198, 200, 202,\n       202, 201, 198, 202, 202, 202, 199, 203, 202, 203, 202, 198, 200,\n       201, 200, 198, 195, 192, 193, 188, 186, 176, 161, 148, 138, 134,\n       141, 155, 168, 172, 174, 173, 177, 181, 179, 179, 183, 190, 188,\n       193, 193, 193, 198, 199, 196, 197, 201, 200, 200, 204, 202, 204,\n       206, 203, 203, 202, 202, 198, 200, 203, 205, 205, 204, 204, 203,\n       203, 205, 206], dtype=uint8), array([4.08382213])], [array([204, 208, 205, 205, 205, 209, 205, 203, 204, 205, 202, 204, 206,\n       207, 208, 206, 208, 206, 203, 204, 205, 204, 202, 199, 204, 203,\n       203, 204, 205, 205, 205, 204, 201, 201, 203, 203, 199, 198, 198,\n       198, 196, 192, 191, 191, 187, 176, 163, 151, 142, 154, 172, 185,\n       193, 199, 200, 199, 201, 203, 204, 205, 205, 205, 205, 204, 206,\n       204, 206, 203, 204, 206, 207, 204, 202, 205, 207, 206, 202, 206,\n       206, 204, 205, 207, 208, 202, 208, 211, 207, 208, 210, 208, 207,\n       205, 206, 204, 203, 206, 202, 202, 202, 202, 204, 203, 202, 201,\n       198, 196, 194, 195, 192, 190, 186, 179, 173, 161, 152, 151, 152,\n       155, 162, 168], dtype=uint8), array([3.69767209])], [array([196, 197, 198, 195, 195, 198, 195, 195, 199, 198, 200, 199, 198,\n       201, 203, 200, 200, 200, 200, 193, 188, 178, 171, 165, 165, 171,\n       174, 176, 182, 181, 178, 176, 178, 176, 173, 173, 169, 164, 164,\n       161, 155, 152, 148, 148, 146, 145, 146, 150, 162, 166, 169, 172,\n       177, 181, 180, 180, 180, 180, 181, 183, 185, 185, 191, 186, 186,\n       186, 187, 189, 192, 189, 185, 172, 160, 150, 141, 141, 151, 158,\n       158, 161, 160, 156, 157, 156, 156, 156, 162, 159, 162, 164, 170,\n       175, 174, 174, 176, 177, 184, 183, 185, 187, 189, 189, 191, 190,\n       191, 195, 195, 194, 195, 197, 197, 196, 198, 199, 197, 199, 197,\n       199, 200, 198], dtype=uint8), array([4.18255064])], [array([205, 204, 204, 205, 204, 205, 205, 207, 201, 203, 205, 206, 204,\n       204, 204, 202, 205, 204, 203, 204, 204, 205, 205, 202, 201, 200,\n       201, 202, 201, 201, 203, 201, 201, 202, 203, 202, 200, 199, 199,\n       200, 199, 201, 201, 200, 198, 195, 196, 196, 195, 191, 190, 190,\n       186, 184, 180, 178, 181, 178, 174, 171, 169, 166, 164, 163, 161,\n       159, 161, 159, 158, 143, 122, 116, 128, 138, 130, 123, 132, 157,\n       176, 177, 179, 183, 186, 189, 188, 190, 191, 194, 198, 196, 199,\n       198, 202, 199, 201, 203, 203, 202, 202, 204, 205, 202, 201, 204,\n       202, 200, 203, 202, 203, 203, 201, 200, 201, 203, 200, 201, 202,\n       202, 201, 200], dtype=uint8), array([9.01671984])], [array([163, 166, 171, 170, 172, 175, 176, 175, 175, 175, 176, 175, 174,\n       175, 176, 175, 177, 175, 175, 176, 176, 173, 175, 176, 175, 178,\n       172, 172, 167, 167, 170, 171, 170, 170, 170, 170, 163, 163, 165,\n       170, 168, 165, 162, 159, 156, 146, 140, 142, 147, 154, 161, 164,\n       165, 168, 172, 176, 174, 176, 175, 175, 177, 180, 178, 169, 159,\n       156, 158, 152, 154, 164, 180, 188, 191, 191, 196, 197, 198, 199,\n       198, 198, 198, 197, 198, 200, 199, 197, 201, 200, 200, 197, 197,\n       198, 199, 199, 198, 196, 194, 196, 196, 198, 198, 198, 199, 197,\n       198, 195, 199, 199, 198, 198, 197, 198, 197, 196, 198, 198, 197,\n       194, 197, 196], dtype=uint8), array([6.47364817])], [array([199, 199, 199, 199, 197, 195, 197, 195, 198, 198, 198, 195, 194,\n       198, 197, 197, 196, 199, 198, 194, 197, 199, 196, 197, 195, 197,\n       198, 196, 195, 199, 198, 200, 197, 197, 196, 197, 198, 195, 194,\n       192, 198, 198, 200, 200, 199, 198, 201, 201, 197, 200, 201, 201,\n       199, 200, 202, 199, 200, 199, 201, 201, 200, 199, 200, 198, 200,\n       202, 200, 198, 201, 201, 200, 196, 190, 181, 169, 159, 150, 151,\n       159, 162, 168, 167, 170, 171, 172, 170, 172, 175, 174, 174, 175,\n       176, 178, 179, 180, 184, 187, 187, 189, 188, 189, 191, 191, 193,\n       192, 193, 197, 196, 196, 198, 198, 197, 199, 198, 199, 199, 198,\n       196, 198, 198], dtype=uint8), array([4.51710674])], [array([207, 206, 206, 205, 205, 211, 204, 203, 204, 203, 207, 207, 208,\n       207, 206, 205, 203, 204, 205, 206, 204, 202, 203, 203, 201, 202,\n       204, 206, 206, 204, 207, 205, 201, 202, 209, 208, 207, 206, 205,\n       205, 209, 198, 205, 205, 205, 205, 204, 206, 208, 204, 205, 204,\n       202, 204, 205, 208, 204, 208, 208, 205, 206, 207, 203, 203, 206,\n       207, 207, 204, 204, 207, 207, 205, 205, 204, 201, 199, 191, 184,\n       185, 188, 192, 188, 191, 189, 188, 191, 191, 192, 196, 195, 194,\n       201, 200, 200, 198, 199, 200, 206, 204, 202, 203, 206, 204, 204,\n       202, 202, 204, 203, 204, 203, 202, 206, 206, 206, 206, 202, 203,\n       202, 203, 207], dtype=uint8), array([4.88037655])], [array([208, 208, 208, 208, 207, 209, 207, 209, 204, 206, 207, 206, 205,\n       204, 205, 204, 205, 205, 206, 205, 203, 205, 205, 207, 205, 207,\n       203, 203, 203, 203, 203, 202, 202, 204, 204, 202, 205, 208, 205,\n       204, 204, 204, 205, 202, 203, 206, 204, 203, 203, 202, 205, 201,\n       201, 204, 203, 201, 201, 200, 200, 199, 199, 199, 200, 201, 199,\n       199, 203, 203, 202, 202, 202, 198, 196, 198, 200, 198, 199, 198,\n       200, 201, 201, 199, 199, 200, 200, 202, 202, 200, 195, 192, 195,\n       197, 199, 203, 205, 204, 204, 205, 204, 203, 205, 202, 204, 205,\n       203, 204, 204, 203, 205, 205, 203, 203, 202, 199, 198, 200, 204,\n       206, 202, 203], dtype=uint8), array([4.75318777])], [array([202, 204, 203, 202, 204, 205, 204, 203, 203, 202, 205, 202, 201,\n       200, 202, 201, 199, 202, 198, 199, 197, 196, 195, 192, 189, 188,\n       185, 183, 183, 177, 177, 176, 176, 172, 170, 174, 167, 166, 166,\n       165, 163, 164, 166, 166, 165, 158, 146, 138, 143, 160, 174, 188,\n       195, 196, 196, 197, 200, 202, 201, 200, 201, 201, 205, 202, 205,\n       201, 204, 201, 203, 202, 202, 202, 201, 204, 204, 203, 204, 202,\n       203, 201, 200, 201, 203, 201, 202, 205, 204, 202, 202, 202, 203,\n       203, 201, 200, 203, 201, 202, 203, 204, 201, 198, 201, 202, 204,\n       201, 201, 201, 200, 201, 200, 200, 201, 199, 201, 202, 201, 201,\n       201, 199, 196], dtype=uint8), array([4.67930649])], [array([200, 203, 202, 202, 201, 199, 206, 205, 202, 203, 205, 204, 204,\n       202, 198, 203, 203, 200, 199, 200, 201, 201, 203, 208, 205, 203,\n       204, 201, 200, 198, 199, 200, 200, 199, 199, 197, 198, 196, 192,\n       196, 201, 200, 201, 203, 198, 198, 202, 202, 202, 201, 198, 199,\n       198, 198, 197, 196, 194, 193, 192, 192, 191, 188, 189, 186, 188,\n       185, 187, 176, 167, 162, 168, 176, 178, 181, 183, 183, 183, 184,\n       185, 186, 186, 186, 186, 191, 193, 195, 197, 197, 198, 199, 198,\n       200, 200, 200, 199, 200, 198, 201, 203, 203, 200, 202, 204, 200,\n       201, 203, 202, 204, 201, 200, 203, 202, 201, 202, 207, 205, 201,\n       204, 202, 205], dtype=uint8), array([3.66342182])], [array([179, 178, 183, 183, 181, 181, 182, 178, 178, 179, 180, 181, 180,\n       179, 179, 178, 180, 181, 181, 182, 181, 181, 181, 180, 179, 179,\n       180, 180, 183, 183, 183, 180, 183, 180, 181, 177, 182, 183, 182,\n       184, 181, 178, 182, 180, 178, 178, 180, 177, 181, 182, 180, 180,\n       181, 179, 179, 179, 179, 179, 180, 177, 176, 178, 179, 178, 178,\n       176, 171, 171, 172, 169, 166, 161, 154, 140, 123, 112, 112, 110,\n        94,  82,  86,  92,  93,  93,  96,  99, 107, 108, 110, 113, 115,\n       117, 116, 120, 126, 133, 135, 136, 141, 144, 147, 148, 150, 150,\n       155, 158, 158, 160, 163, 166, 168, 168, 167, 171, 174, 173, 174,\n       174, 176, 177], dtype=uint8), array([11.24816955])], [array([188, 185, 187, 189, 186, 186, 187, 186, 185, 185, 187, 190, 185,\n       185, 185, 181, 180, 180, 180, 179, 176, 174, 174, 175, 171, 169,\n       167, 167, 166, 164, 161, 160, 159, 157, 156, 155, 153, 155, 158,\n       154, 157, 157, 159, 161, 164, 164, 158, 154, 146, 136, 140, 156,\n       170, 179, 188, 189, 191, 194, 189, 189, 190, 190, 189, 186, 189,\n       187, 188, 187, 185, 185, 185, 186, 186, 186, 183, 188, 184, 184,\n       183, 183, 186, 185, 182, 187, 185, 184, 182, 183, 185, 183, 182,\n       181, 181, 183, 181, 181, 182, 182, 185, 185, 185, 185, 184, 181,\n       183, 187, 187, 182, 184, 186, 182, 183, 181, 181, 183, 183, 184,\n       182, 185, 184], dtype=uint8), array([5.29607184])], [array([186, 188, 187, 189, 188, 189, 190, 188, 187, 188, 186, 185, 187,\n       187, 184, 183, 183, 182, 182, 181, 182, 182, 180, 182, 180, 179,\n       175, 176, 175, 172, 168, 169, 167, 164, 163, 159, 157, 155, 152,\n       150, 148, 146, 147, 146, 145, 147, 148, 147, 147, 149, 143, 137,\n       125, 119, 127, 145, 162, 175, 183, 191, 194, 192, 192, 193, 190,\n       190, 190, 191, 192, 190, 190, 186, 186, 189, 187, 186, 186, 188,\n       186, 185, 187, 189, 186, 186, 185, 185, 183, 184, 180, 180, 181,\n       183, 183, 181, 178, 178, 177, 174, 179, 178, 175, 175, 174, 177,\n       175, 175, 175, 175, 177, 178, 179, 184, 184, 182, 183, 183, 185,\n       186, 184, 183], dtype=uint8), array([5.46791157])], [array([187, 187, 188, 187, 184, 184, 184, 185, 187, 189, 187, 187, 188,\n       187, 185, 187, 187, 186, 185, 186, 183, 184, 183, 182, 179, 179,\n       177, 174, 173, 173, 170, 170, 166, 165, 168, 163, 162, 159, 158,\n       157, 156, 153, 152, 149, 147, 147, 146, 147, 147, 148, 151, 152,\n       153, 152, 151, 143, 133, 134, 143, 155, 168, 180, 186, 190, 188,\n       189, 187, 187, 186, 188, 187, 189, 188, 189, 188, 185, 188, 187,\n       187, 187, 186, 186, 187, 185, 186, 189, 189, 187, 188, 189, 189,\n       190, 189, 189, 188, 188, 188, 185, 187, 188, 186, 187, 187, 186,\n       187, 188, 188, 187, 187, 185, 187, 187, 187, 185, 187, 187, 186,\n       186, 185, 178], dtype=uint8), array([5.45620238])], [array([205, 206, 205, 202, 203, 205, 206, 207, 203, 202, 202, 202, 203,\n       201, 199, 201, 203, 204, 203, 202, 201, 202, 204, 206, 205, 205,\n       206, 207, 207, 206, 203, 201, 200, 203, 208, 208, 206, 206, 204,\n       202, 201, 200, 201, 200, 200, 201, 203, 205, 205, 206, 207, 207,\n       203, 205, 205, 202, 205, 206, 204, 203, 205, 206, 207, 207, 205,\n       206, 206, 206, 206, 205, 206, 206, 204, 205, 205, 204, 204, 203,\n       201, 203, 205, 209, 208, 205, 206, 206, 207, 208, 205, 205, 207,\n       206, 206, 207, 205, 203, 203, 203, 202, 203, 205, 206, 206, 205,\n       206, 205, 205, 207, 208, 208, 207, 207, 206, 204, 203, 204, 205,\n       204, 205, 206], dtype=uint8), array([0.])], [array([156, 166, 179, 191, 193, 192, 195, 201, 199, 200, 199, 200, 203,\n       203, 204, 206, 206, 202, 205, 208, 208, 208, 208, 206, 209, 210,\n       208, 208, 208, 208, 211, 210, 210, 208, 208, 207, 208, 212, 211,\n       209, 206, 210, 211, 209, 212, 209, 209, 207, 209, 211, 210, 209,\n       208, 212, 211, 208, 210, 207, 208, 207, 207, 205, 204, 206, 204,\n       206, 200, 201, 202, 200, 192, 175, 149, 121, 113, 115, 120, 115,\n        87,  66,  74,  87,  96, 105, 118, 124, 126, 131, 135, 140, 147,\n       150, 152, 152, 157, 163, 166, 172, 175, 179, 180, 186, 187, 191,\n       193, 196, 196, 200, 199, 200, 203, 204, 205, 205, 206, 205, 207,\n       207, 206, 208], dtype=uint8), array([11.65322989])], [array([208, 207, 207, 209, 207, 205, 210, 207, 205, 210, 207, 209, 208,\n       205, 204, 208, 208, 209, 209, 208, 209, 210, 209, 206, 206, 206,\n       207, 207, 207, 207, 204, 205, 208, 211, 209, 209, 209, 207, 208,\n       209, 204, 205, 207, 205, 206, 208, 208, 205, 207, 210, 211, 211,\n       209, 209, 210, 208, 204, 206, 207, 207, 206, 203, 204, 200, 198,\n       198, 194, 187, 187, 177, 172, 168, 157, 136, 113, 109, 116, 114,\n       106, 103, 104, 114, 127, 137, 142, 146, 150, 154, 159, 163, 167,\n       170, 173, 178, 175, 181, 183, 186, 190, 195, 195, 196, 196, 197,\n       202, 202, 200, 201, 203, 202, 201, 203, 204, 206, 208, 207, 208,\n       205, 205, 206], dtype=uint8), array([11.24816955])], [array([207, 208, 209, 207, 207, 205, 206, 207, 206, 208, 211, 208, 206,\n       208, 209, 210, 211, 211, 209, 208, 208, 208, 206, 207, 208, 208,\n       209, 207, 206, 207, 207, 209, 209, 209, 208, 205, 205, 206, 208,\n       203, 207, 207, 204, 204, 203, 200, 203, 204, 200, 200, 198, 198,\n       197, 194, 192, 189, 189, 189, 185, 177, 167, 151, 139, 140, 146,\n       151, 155, 147, 127, 120, 141, 154, 172, 188, 195, 198, 197, 198,\n       205, 203, 201, 203, 205, 204, 200, 202, 202, 203, 204, 204, 206,\n       208, 203, 203, 207, 206, 205, 206, 205, 205, 205, 207, 206, 207,\n       206, 208, 207, 206, 206, 205, 205, 206, 205, 206, 206, 204, 205,\n       204, 209, 199], dtype=uint8), array([5.29607184])], [array([205, 209, 213, 211, 213, 210, 208, 209, 208, 209, 211, 210, 212,\n       209, 207, 208, 209, 211, 210, 210, 210, 213, 214, 212, 211, 211,\n       211, 210, 213, 212, 212, 211, 212, 213, 214, 212, 211, 209, 212,\n       211, 210, 209, 208, 210, 207, 205, 207, 206, 208, 203, 186, 160,\n       147, 129, 118, 138, 161, 167, 168, 170, 173, 175, 179, 181, 184,\n       188, 192, 194, 195, 198, 202, 206, 205, 206, 206, 209, 210, 209,\n       212, 209, 209, 211, 212, 208, 205, 209, 207, 207, 212, 211, 207,\n       208, 208, 207, 206, 206, 205, 207, 205, 202, 201, 203, 204, 203,\n       204, 204, 205, 206, 206, 208, 210, 209, 208, 209, 210, 209, 212,\n       210, 211, 210], dtype=uint8), array([5.46791157])], [array([210, 208, 207, 206, 207, 208, 208, 209, 208, 206, 206, 208, 207,\n       210, 212, 211, 210, 209, 210, 207, 208, 210, 209, 208, 209, 208,\n       206, 206, 201, 202, 201, 199, 201, 203, 206, 206, 204, 207, 210,\n       211, 210, 210, 217, 210, 206, 208, 207, 207, 207, 206, 205, 204,\n       200, 197, 182, 161, 146, 126, 107, 123, 150, 156, 158, 164, 166,\n       171, 175, 175, 176, 180, 185, 189, 189, 197, 196, 198, 203, 204,\n       206, 206, 203, 208, 208, 207, 208, 204, 207, 209, 206, 208, 209,\n       204, 207, 208, 207, 208, 209, 210, 208, 210, 209, 211, 206, 207,\n       206, 210, 210, 212, 211, 208, 210, 209, 210, 212, 211, 211, 206,\n       207, 206, 210], dtype=uint8), array([5.45620238])], [array([211, 211, 212, 211, 211, 211, 209, 210, 210, 211, 211, 210, 211,\n       212, 214, 210, 209, 212, 211, 212, 211, 208, 208, 210, 213, 215,\n       211, 211, 211, 211, 212, 211, 209, 207, 206, 208, 208, 208, 209,\n       209, 208, 207, 205, 212, 210, 211, 209, 208, 211, 212, 212, 211,\n       209, 208, 211, 212, 208, 206, 206, 209, 209, 206, 210, 212, 211,\n       207, 208, 206, 209, 209, 211, 211, 212, 211, 212, 208, 203, 201,\n       201, 204, 206, 210, 208, 207, 208, 206, 208, 212, 209, 208, 210,\n       210, 211, 209, 206, 211, 213, 209, 208, 211, 212, 212, 211, 210,\n       213, 212, 214, 212, 212, 210, 212, 211, 214, 212, 211, 214, 210,\n       209, 213, 210], dtype=uint8), array([3.54463004])], [array([187, 187, 187, 188, 188, 189, 187, 186, 189, 192, 191, 189, 189,\n       190, 191, 190, 192, 192, 191, 191, 191, 190, 195, 193, 190, 192,\n       190, 191, 188, 190, 194, 194, 194, 193, 193, 190, 193, 192, 192,\n       194, 193, 193, 192, 193, 193, 190, 190, 193, 193, 194, 192, 191,\n       188, 187, 186, 185, 185, 183, 182, 178, 175, 175, 172, 168, 166,\n       163, 161, 156, 153, 152, 149, 149, 144, 146, 143, 143, 135, 119,\n       108, 120, 146, 167, 187, 193, 194, 199, 197, 197, 197, 196, 192,\n       188, 190, 191, 192, 187, 187, 189, 190, 188, 186, 186, 188, 187,\n       183, 185, 185, 184, 185, 184, 183, 180, 181, 181, 179, 181, 182,\n       179, 176, 174], dtype=uint8), array([4.51179147])], [array([204, 203, 199, 204, 204, 203, 203, 205, 207, 203, 205, 207, 205,\n       204, 204, 206, 206, 205, 203, 203, 204, 206, 202, 201, 205, 204,\n       204, 203, 203, 203, 198, 198, 196, 198, 197, 195, 194, 192, 192,\n       192, 191, 191, 190, 190, 188, 189, 188, 187, 182, 185, 182, 182,\n       180, 180, 178, 177, 178, 177, 174, 168, 164, 157, 150, 146, 160,\n       171, 189, 200, 202, 205, 205, 203, 205, 205, 202, 199, 195, 196,\n       196, 197, 197, 199, 198, 194, 196, 195, 193, 194, 194, 194, 193,\n       192, 193, 193, 192, 192, 192, 188, 188, 190, 191, 189, 189, 190,\n       190, 188, 186, 189, 192, 192, 189, 191, 191, 193, 191, 192, 191,\n       192, 193, 191], dtype=uint8), array([4.37560143])], [array([206, 205, 207, 205, 201, 201, 200, 199, 199, 201, 197, 196, 196,\n       196, 195, 196, 194, 195, 194, 196, 199, 198, 198, 198, 200, 200,\n       198, 196, 198, 200, 198, 196, 195, 196, 195, 196, 195, 196, 197,\n       194, 194, 195, 192, 193, 198, 193, 194, 193, 194, 192, 192, 191,\n       191, 192, 191, 188, 186, 185, 184, 178, 181, 178, 178, 175, 172,\n       169, 167, 166, 163, 159, 153, 157, 157, 162, 162, 159, 148, 125,\n       116, 129, 150, 168, 187, 195, 196, 198, 196, 192, 195, 197, 198,\n       197, 193, 189, 190, 189, 187, 187, 186, 185, 186, 183, 186, 183,\n       183, 186, 184, 183, 184, 184, 183, 185, 186, 186, 184, 187, 186,\n       184, 188, 187], dtype=uint8), array([3.95002995])], [array([189, 191, 195, 193, 193, 189, 191, 190, 190, 189, 189, 190, 190,\n       192, 189, 187, 193, 191, 187, 185, 188, 188, 189, 188, 190, 188,\n       192, 188, 191, 193, 190, 189, 190, 187, 189, 191, 188, 188, 191,\n       189, 188, 187, 186, 186, 188, 185, 187, 186, 187, 186, 188, 187,\n       187, 188, 187, 187, 184, 181, 176, 177, 175, 171, 170, 166, 163,\n       165, 163, 161, 162, 160, 158, 158, 153, 151, 147, 136, 128, 138,\n       159, 180, 184, 190, 196, 195, 192, 193, 192, 189, 189, 187, 185,\n       181, 181, 180, 178, 173, 170, 168, 165, 163, 164, 166, 166, 163,\n       166, 174, 178, 178, 179, 181, 180, 180, 177, 176, 175, 174, 177,\n       176, 174, 173], dtype=uint8), array([3.53048839])], [array([166, 164, 167, 166, 165, 162, 161, 160, 160, 160, 157, 157, 154,\n       156, 156, 155, 153, 154, 154, 154, 149, 150, 151, 150, 150, 149,\n       147, 146, 147, 148, 147, 148, 145, 144, 145, 147, 150, 156, 159,\n       163, 166, 166, 167, 165, 163, 159, 157, 159, 159, 161, 163, 165,\n       164, 167, 168, 170, 172, 169, 170, 167, 163, 156, 149, 146, 150,\n       166, 181, 191, 195, 194, 193, 194, 194, 192, 193, 194, 194, 195,\n       195, 193, 192, 193, 190, 190, 189, 188, 189, 190, 189, 190, 193,\n       193, 191, 190, 191, 189, 184, 186, 184, 185, 186, 186, 187, 190,\n       192, 191, 190, 188, 183, 185, 181, 176, 170, 161, 155, 161, 169,\n       178, 185, 184], dtype=uint8), array([3.67640104])], [array([184, 185, 187, 186, 183, 184, 186, 183, 183, 185, 183, 183, 183,\n       182, 185, 184, 184, 185, 184, 181, 183, 182, 183, 185, 185, 185,\n       185, 186, 185, 184, 186, 182, 181, 179, 180, 180, 177, 178, 177,\n       175, 175, 175, 171, 164, 164, 161, 161, 156, 150, 149, 145, 139,\n       137, 134, 132, 130, 128, 125, 119, 115, 110, 106, 100,  97,  92,\n        88,  84,  83,  83,  89,  91,  95, 106, 119, 136, 161, 182, 197,\n       204, 204, 206, 208, 205, 204, 203, 204, 202, 200, 199, 196, 195,\n       196, 195, 192, 191, 188, 187, 189, 186, 182, 180, 180, 180, 178,\n       177, 180, 178, 181, 177, 174, 174, 177, 174, 175, 176, 173, 175,\n       179, 177, 176], dtype=uint8), array([8.97995119])], [array([190, 192, 189, 189, 191, 190, 189, 188, 187, 186, 185, 186, 183,\n       183, 183, 187, 184, 182, 185, 186, 184, 182, 183, 183, 184, 181,\n       182, 181, 180, 178, 178, 177, 177, 177, 180, 179, 175, 181, 179,\n       178, 177, 177, 178, 176, 176, 170, 165, 156, 144, 126, 114, 112,\n       119, 134, 148, 155, 158, 156, 159, 161, 164, 167, 168, 167, 169,\n       172, 172, 175, 174, 176, 182, 176, 177, 178, 181, 180, 182, 183,\n       179, 180, 182, 181, 181, 180, 182, 180, 181, 181, 180, 184, 180,\n       179, 181, 180, 179, 179, 182, 182, 180, 181, 182, 182, 181, 178,\n       183, 180, 177, 183, 182, 180, 178, 177, 179, 179, 180, 180, 180,\n       181, 181, 183], dtype=uint8), array([5.35827466])], [array([183, 183, 186, 185, 184, 184, 188, 187, 190, 191, 194, 192, 191,\n       193, 191, 190, 195, 194, 195, 194, 194, 194, 192, 194, 194, 196,\n       195, 194, 191, 194, 196, 195, 195, 195, 192, 189, 184, 181, 183,\n       184, 186, 186, 187, 190, 191, 191, 189, 190, 192, 194, 197, 197,\n       197, 196, 197, 198, 197, 195, 193, 190, 192, 194, 190, 190, 182,\n       183, 183, 177, 174, 160, 144, 133, 135, 137, 132, 121, 115, 117,\n       118, 120, 123, 124, 129, 130, 134, 135, 136, 138, 139, 141, 142,\n       144, 145, 146, 148, 148, 147, 150, 151, 151, 155, 154, 154, 154,\n       154, 154, 154, 157, 157, 158, 155, 156, 157, 156, 158, 159, 158,\n       158, 157, 159], dtype=uint8), array([8.97995119])], [array([153, 152, 155, 156, 158, 158, 160, 159, 163, 164, 163, 162, 164,\n       168, 164, 168, 164, 162, 164, 165, 163, 162, 164, 164, 164, 163,\n       162, 162, 163, 158, 158, 160, 158, 157, 156, 154, 153, 155, 156,\n       155, 153, 151, 153, 153, 153, 158, 149, 130, 121, 129, 142, 154,\n       168, 183, 192, 193, 193, 199, 195, 196, 196, 197, 197, 193, 193,\n       193, 192, 191, 191, 191, 190, 192, 194, 193, 193, 190, 194, 194,\n       194, 193, 194, 194, 193, 190, 188, 191, 187, 186, 190, 191, 192,\n       190, 190, 190, 191, 192, 194, 194, 192, 192, 192, 195, 193, 191,\n       192, 189, 188, 189, 188, 187, 189, 188, 187, 181, 168, 154, 150,\n       158, 170, 181], dtype=uint8), array([5.35827466])], [array([193, 197, 199, 199, 198, 198, 198, 198, 197, 197, 198, 196, 197,\n       198, 200, 197, 197, 197, 197, 200, 199, 195, 197, 197, 195, 194,\n       197, 194, 194, 196, 196, 196, 197, 197, 198, 196, 196, 196, 196,\n       196, 191, 194, 194, 193, 191, 194, 193, 191, 189, 190, 189, 191,\n       192, 196, 194, 192, 186, 189, 188, 187, 187, 192, 189, 189, 188,\n       184, 187, 188, 187, 185, 188, 186, 183, 183, 174, 160, 150, 138,\n       138, 147, 159, 162, 164, 162, 161, 158, 155, 157, 158, 158, 159,\n       157, 155, 155, 156, 156, 155, 155, 156, 154, 154, 154, 156, 155,\n       153, 152, 154, 152, 155, 154, 152, 152, 153, 151, 154, 153, 154,\n       155, 154, 152], dtype=uint8), array([3.76287851])], [array([200, 200, 203, 199, 201, 201, 200, 200, 201, 204, 198, 199, 201,\n       200, 201, 202, 200, 199, 201, 203, 201, 200, 202, 203, 202, 201,\n       198, 195, 192, 191, 194, 193, 195, 195, 193, 192, 192, 191, 190,\n       188, 184, 181, 178, 179, 184, 189, 193, 190, 193, 191, 191, 194,\n       197, 200, 199, 200, 197, 198, 200, 198, 199, 198, 201, 201, 200,\n       202, 203, 206, 204, 202, 202, 202, 199, 198, 190, 188, 187, 188,\n       188, 185, 186, 185, 185, 186, 185, 186, 186, 187, 190, 191, 189,\n       194, 190, 192, 195, 196, 197, 198, 201, 202, 201, 201, 202, 199,\n       200, 202, 203, 200, 200, 200, 198, 202, 203, 203, 202, 201, 202,\n       205, 203, 204], dtype=uint8), array([3.04808728])], [array([198, 199, 198, 200, 203, 205, 205, 202, 198, 200, 202, 204, 201,\n       200, 196, 206, 206, 205, 201, 205, 204, 201, 204, 205, 205, 205,\n       204, 204, 206, 206, 202, 204, 206, 207, 205, 204, 202, 206, 204,\n       202, 205, 204, 204, 204, 204, 207, 206, 205, 206, 206, 205, 204,\n       201, 205, 205, 198, 206, 206, 208, 204, 207, 207, 206, 208, 205,\n       204, 202, 206, 204, 201, 203, 195, 191, 185, 176, 164, 155, 156,\n       161, 168, 174, 176, 178, 177, 179, 175, 177, 177, 180, 182, 181,\n       182, 183, 184, 184, 182, 182, 187, 188, 189, 182, 185, 184, 186,\n       184, 186, 186, 187, 184, 183, 183, 182, 185, 183, 183, 179, 180,\n       180, 176, 177], dtype=uint8), array([3.04562947])], [array([205, 207, 207, 206, 207, 210, 210, 209, 211, 208, 207, 210, 211,\n       207, 206, 207, 203, 205, 204, 205, 206, 208, 207, 208, 207, 207,\n       207, 209, 208, 207, 206, 206, 209, 210, 209, 209, 208, 210, 207,\n       208, 208, 207, 208, 212, 207, 206, 207, 205, 206, 205, 205, 206,\n       206, 203, 207, 209, 208, 206, 206, 206, 204, 205, 206, 203, 202,\n       206, 203, 201, 201, 197, 192, 184, 173, 149, 139, 143, 164, 180,\n       190, 194, 198, 200, 200, 199, 197, 196, 196, 194, 194, 194, 193,\n       192, 191, 190, 186, 188, 188, 186, 186, 186, 185, 183, 183, 185,\n       185, 185, 182, 182, 181, 177, 175, 172, 164, 154, 151, 144, 136,\n       124, 113, 114], dtype=uint8), array([3.06895321])], [array([203, 204, 203, 205, 205, 203, 203, 198, 199, 196, 200, 200, 200,\n       192, 189, 183, 177, 171, 162, 154, 148, 145, 141, 144, 149, 152,\n       150, 148, 149, 153, 161, 168, 172, 176, 180, 181, 186, 188, 188,\n       186, 188, 192, 194, 193, 194, 194, 197, 193, 195, 189, 185, 180,\n       172, 166, 169, 179, 187, 192, 198, 201, 199, 199, 198, 199, 200,\n       201, 198, 197, 199, 200, 201, 204, 202, 203, 201, 202, 206, 203,\n       204, 206, 203, 203, 205, 207, 207, 206, 206, 207, 207, 207, 209,\n       206, 205, 208, 206, 205, 206, 206, 207, 202, 206, 203, 205, 205,\n       204, 202, 200, 201, 199, 198, 198, 196, 193, 194, 193, 190, 186,\n       185, 182, 182], dtype=uint8), array([2.85702873])], [array([182, 182, 183, 184, 185, 185, 182, 182, 182, 183, 184, 185, 184,\n       183, 185, 182, 181, 182, 184, 183, 183, 182, 184, 182, 182, 180,\n       186, 183, 188, 184, 182, 184, 185, 185, 186, 183, 181, 184, 182,\n       183, 184, 183, 187, 184, 185, 184, 184, 185, 184, 182, 181, 181,\n       183, 182, 183, 184, 186, 183, 182, 183, 183, 182, 183, 185, 184,\n       186, 188, 187, 188, 190, 190, 190, 192, 194, 192, 191, 192, 191,\n       190, 185, 169, 153, 145, 141, 146, 153, 155, 156, 157, 155, 154,\n       153, 154, 154, 154, 155, 155, 158, 158, 162, 164, 163, 167, 169,\n       171, 173, 174, 179, 177, 178, 183, 179, 185, 187, 185, 182, 184,\n       184, 182, 187], dtype=uint8), array([4.51179147])], [array([198, 197, 194, 196, 199, 200, 195, 192, 192, 194, 193, 193, 195,\n       192, 188, 186, 181, 182, 184, 184, 179, 178, 178, 173, 171, 168,\n       164, 158, 154, 146, 140, 134, 132, 132, 132, 135, 137, 139, 148,\n       151, 152, 156, 154, 158, 161, 160, 160, 160, 161, 162, 163, 164,\n       166, 168, 170, 166, 165, 163, 160, 147, 132, 127, 127, 128, 139,\n       149, 152, 153, 152, 150, 149, 146, 145, 144, 144, 147, 147, 148,\n       148, 149, 148, 147, 148, 151, 154, 155, 155, 161, 160, 161, 162,\n       165, 166, 164, 162, 165, 171, 171, 172, 172, 173, 173, 173, 175,\n       174, 175, 173, 178, 177, 180, 180, 182, 182, 182, 182, 181, 181,\n       183, 184, 184], dtype=uint8), array([4.37560143])], [array([159, 157, 153, 150, 148, 145, 146, 147, 148, 149, 146, 149, 149,\n       144, 146, 145, 149, 151, 150, 149, 152, 153, 154, 154, 151, 152,\n       154, 154, 155, 157, 158, 159, 160, 159, 160, 161, 163, 163, 164,\n       166, 169, 168, 166, 167, 169, 170, 172, 174, 172, 171, 174, 174,\n       177, 176, 177, 175, 176, 175, 175, 179, 178, 181, 179, 181, 182,\n       183, 185, 185, 185, 189, 190, 187, 188, 192, 193, 192, 192, 190,\n       186, 175, 159, 139, 130, 136, 147, 155, 154, 155, 158, 159, 158,\n       155, 154, 156, 159, 164, 165, 168, 171, 171, 175, 173, 179, 179,\n       180, 183, 185, 189, 189, 190, 189, 190, 188, 191, 192, 190, 191,\n       191, 191, 192], dtype=uint8), array([3.95002995])], [array([175, 177, 177, 178, 180, 184, 184, 184, 184, 186, 188, 189, 190,\n       190, 189, 189, 190, 193, 192, 192, 193, 192, 192, 195, 193, 197,\n       196, 196, 195, 192, 196, 196, 195, 194, 193, 195, 194, 195, 196,\n       198, 197, 195, 196, 196, 198, 196, 194, 196, 198, 196, 194, 196,\n       198, 197, 196, 194, 195, 196, 198, 198, 198, 196, 193, 194, 195,\n       191, 191, 191, 197, 199, 199, 197, 198, 199, 197, 194, 193, 188,\n       180, 168, 163, 167, 173, 178, 177, 176, 176, 176, 173, 172, 174,\n       177, 174, 179, 178, 179, 182, 184, 185, 187, 189, 188, 188, 192,\n       188, 189, 188, 186, 182, 179, 178, 180, 184, 186, 185, 185, 186,\n       186, 183, 180], dtype=uint8), array([3.53048839])], [array([196, 195, 201, 200, 199, 201, 201, 202, 202, 199, 200, 200, 200,\n       201, 200, 204, 203, 197, 202, 201, 198, 195, 194, 194, 197, 197,\n       197, 199, 198, 197, 194, 195, 193, 189, 191, 194, 195, 197, 198,\n       203, 200, 198, 203, 205, 203, 204, 204, 203, 204, 202, 204, 204,\n       206, 204, 200, 201, 197, 199, 195, 191, 186, 179, 171, 160, 152,\n       162, 171, 178, 181, 185, 187, 185, 185, 190, 187, 190, 190, 190,\n       192, 189, 186, 189, 186, 189, 191, 188, 187, 186, 185, 186, 187,\n       188, 189, 188, 185, 177, 172, 173, 177, 180, 185, 186, 188, 188,\n       189, 188, 192, 190, 191, 194, 196, 195, 193, 193, 194, 193, 193,\n       195, 196, 198], dtype=uint8), array([3.67640104])], [array([197, 195, 192, 192, 193, 191, 192, 189, 188, 189, 189, 188, 188,\n       190, 191, 190, 187, 185, 186, 187, 187, 188, 188, 184, 185, 186,\n       185, 185, 188, 188, 184, 186, 185, 186, 186, 185, 184, 183, 182,\n       184, 179, 181, 180, 181, 180, 180, 180, 180, 178, 176, 176, 178,\n       177, 177, 175, 176, 177, 176, 175, 170, 155, 136, 127, 126, 134,\n       149, 162, 165, 169, 173, 173, 173, 176, 179, 180, 179, 181, 182,\n       185, 186, 184, 182, 178, 168, 161, 162, 170, 179, 186, 190, 190,\n       192, 191, 191, 192, 192, 193, 192, 192, 193, 192, 191, 190, 190,\n       194, 192, 194, 194, 196, 196, 194, 194, 195, 196, 199, 195, 195,\n       195, 194, 194], dtype=uint8), array([5.21064103])], [array([196, 195, 196, 197, 197, 197, 197, 197, 199, 202, 199, 198, 200,\n       198, 194, 198, 197, 196, 200, 198, 196, 196, 199, 197, 192, 192,\n       192, 194, 194, 195, 194, 194, 198, 200, 198, 196, 196, 196, 197,\n       195, 193, 195, 195, 195, 192, 192, 189, 186, 184, 180, 165, 142,\n       127, 124, 132, 148, 164, 169, 169, 170, 171, 169, 165, 163, 161,\n       159, 156, 145, 128, 112, 111, 115, 107,  99, 117, 140, 145, 146,\n       151, 159, 163, 164, 171, 167, 170, 167, 166, 163, 165, 171, 176,\n       179, 183, 183, 184, 185, 186, 187, 190, 189, 190, 190, 191, 192,\n       192, 193, 197, 193, 194, 197, 196, 195, 194, 193, 190, 190, 191,\n       190, 189, 194], dtype=uint8), array([7.26221294])], [array([193, 196, 198, 195, 195, 195, 193, 193, 194, 193, 193, 194, 193,\n       196, 198, 199, 196, 196, 198, 197, 196, 198, 201, 195, 195, 195,\n       196, 197, 196, 196, 198, 195, 195, 199, 200, 200, 200, 201, 197,\n       197, 199, 199, 200, 196, 197, 198, 198, 197, 198, 198, 195, 198,\n       197, 200, 199, 200, 198, 200, 200, 205, 205, 206, 204, 209, 208,\n       211, 211, 210, 208, 210, 203, 189, 171, 154, 132, 122, 132, 151,\n       155, 155, 154, 153, 152, 152, 155, 156, 158, 161, 162, 168, 170,\n       171, 174, 178, 180, 183, 187, 187, 189, 191, 194, 195, 196, 198,\n       198, 200, 203, 201, 200, 202, 201, 201, 204, 203, 205, 202, 202,\n       204, 202, 201], dtype=uint8), array([5.93755418])], [array([197, 197, 196, 198, 198, 197, 196, 198, 195, 197, 196, 194, 194,\n       194, 195, 199, 199, 197, 194, 198, 196, 196, 198, 197, 198, 200,\n       202, 198, 200, 199, 199, 200, 202, 202, 200, 201, 204, 201, 200,\n       202, 202, 201, 200, 202, 201, 202, 203, 205, 202, 203, 203, 203,\n       204, 202, 202, 201, 205, 204, 203, 203, 205, 207, 210, 208, 209,\n       211, 211, 214, 211, 212, 206, 195, 182, 168, 147, 135, 155, 162,\n       160, 159, 162, 159, 157, 158, 160, 162, 164, 166, 168, 165, 170,\n       172, 174, 178, 180, 181, 184, 185, 190, 190, 196, 197, 197, 199,\n       201, 200, 201, 201, 201, 208, 205, 204, 206, 203, 205, 204, 202,\n       205, 204, 211], dtype=uint8), array([5.5774322])], [array([210, 210, 213, 210, 211, 212, 209, 207, 208, 208, 211, 208, 210,\n       208, 207, 209, 204, 208, 212, 207, 208, 210, 210, 211, 210, 209,\n       211, 213, 214, 211, 211, 212, 210, 211, 211, 210, 211, 212, 211,\n       209, 212, 213, 208, 210, 210, 206, 207, 204, 204, 206, 204, 204,\n       200, 200, 200, 200, 198, 198, 196, 195, 195, 192, 189, 188, 182,\n       176, 164, 144, 137, 138, 149, 169, 184, 190, 192, 192, 192, 195,\n       197, 199, 201, 201, 200, 203, 204, 205, 205, 206, 202, 203, 204,\n       205, 205, 207, 205, 205, 208, 211, 208, 208, 210, 208, 208, 207,\n       206, 206, 206, 204, 205, 206, 207, 205, 203, 205, 204, 205, 210,\n       209, 209, 206], dtype=uint8), array([4.19787153])], [array([207, 206, 202, 197, 198, 204, 207, 206, 207, 207, 208, 212, 211,\n       208, 213, 210, 210, 210, 210, 210, 211, 209, 212, 211, 209, 210,\n       210, 211, 211, 208, 208, 209, 210, 213, 212, 211, 213, 211, 212,\n       211, 211, 209, 209, 211, 209, 210, 209, 208, 206, 205, 204, 203,\n       202, 203, 205, 203, 204, 201, 201, 203, 204, 206, 206, 207, 203,\n       201, 198, 194, 190, 181, 162, 150, 143, 148, 164, 175, 179, 184,\n       187, 191, 189, 194, 195, 198, 200, 200, 203, 203, 204, 203, 206,\n       211, 211, 212, 210, 213, 212, 212, 213, 212, 212, 213, 214, 212,\n       216, 214, 214, 212, 209, 211, 212, 215, 213, 213, 213, 212, 212,\n       208, 210, 207], dtype=uint8), array([3.7441611])], [array([189, 191, 191, 194, 194, 192, 192, 191, 190, 191, 190, 189, 192,\n       192, 197, 192, 189, 192, 186, 180, 177, 177, 178, 183, 184, 184,\n       184, 185, 188, 192, 193, 191, 190, 191, 192, 192, 192, 192, 191,\n       190, 191, 193, 192, 192, 193, 194, 193, 194, 192, 192, 193, 196,\n       194, 194, 194, 192, 196, 194, 197, 191, 197, 196, 200, 198, 201,\n       202, 202, 204, 201, 199, 195, 183, 167, 146, 128, 133, 152, 162,\n       159, 159, 158, 156, 157, 158, 159, 164, 165, 166, 171, 174, 175,\n       176, 180, 180, 181, 184, 185, 189, 190, 192, 188, 192, 194, 194,\n       196, 195, 194, 192, 194, 193, 195, 194, 194, 196, 195, 195, 196,\n       196, 196, 193], dtype=uint8), array([5.20109506])], [array([181, 179, 178, 177, 177, 178, 179, 180, 180, 179, 180, 181, 183,\n       184, 182, 182, 184, 186, 185, 185, 184, 182, 184, 187, 186, 182,\n       183, 183, 187, 189, 186, 188, 186, 187, 188, 186, 184, 185, 183,\n       186, 183, 185, 185, 182, 185, 184, 186, 185, 185, 185, 184, 184,\n       189, 189, 187, 184, 180, 180, 184, 187, 189, 192, 194, 194, 198,\n       201, 201, 204, 203, 200, 200, 195, 182, 167, 148, 127, 130, 147,\n       156, 154, 153, 150, 149, 149, 150, 152, 154, 153, 156, 157, 162,\n       162, 168, 164, 167, 171, 171, 173, 172, 174, 171, 176, 177, 176,\n       180, 177, 180, 177, 176, 177, 178, 177, 180, 178, 177, 180, 179,\n       173, 172, 174], dtype=uint8), array([4.87914297])], [array([224, 219, 216, 219, 221, 222, 224, 225, 225, 227, 223, 222, 225,\n       223, 221, 221, 222, 223, 222, 220, 220, 221, 226, 223, 223, 222,\n       221, 220, 222, 225, 224, 221, 219, 221, 223, 222, 224, 223, 222,\n       221, 221, 221, 220, 221, 220, 222, 223, 222, 220, 224, 227, 223,\n       220, 218, 219, 222, 223, 223, 220, 221, 221, 220, 221, 219, 220,\n       222, 222, 221, 223, 221, 220, 220, 222, 222, 221, 222, 225, 225,\n       224, 220, 221, 222, 219, 221, 222, 223, 225, 222, 221, 223, 222,\n       222, 224, 222, 222, 221, 221, 221, 220, 220, 222, 222, 227, 222,\n       221, 220, 220, 222, 221, 224, 222, 222, 223, 226, 222, 217, 221,\n       220, 224, 223], dtype=uint8), array([0.])], [array([208, 211, 207, 207, 206, 206, 202, 204, 205, 205, 202, 203, 202,\n       199, 198, 199, 204, 204, 204, 203, 203, 206, 206, 203, 203, 204,\n       204, 212, 203, 206, 205, 207, 206, 208, 209, 208, 205, 208, 208,\n       208, 212, 211, 205, 206, 208, 211, 211, 210, 207, 207, 210, 209,\n       210, 212, 214, 216, 216, 214, 215, 214, 214, 211, 213, 211, 214,\n       209, 198, 177, 160, 162, 172, 166, 148, 137, 138, 144, 143, 140,\n       137, 131, 129, 135, 140, 143, 146, 146, 148, 149, 149, 153, 155,\n       158, 162, 167, 170, 174, 176, 178, 180, 184, 184, 186, 190, 192,\n       194, 194, 199, 202, 204, 203, 203, 207, 210, 208, 207, 209, 211,\n       211, 214, 213], dtype=uint8), array([8.52101685])], [array([202, 204, 202, 200, 206, 205, 204, 203, 201, 202, 204, 205, 207,\n       204, 204, 205, 205, 204, 204, 207, 202, 203, 206, 207, 205, 204,\n       206, 203, 205, 207, 204, 204, 205, 207, 208, 206, 208, 208, 209,\n       207, 205, 206, 208, 208, 209, 209, 209, 209, 214, 210, 209, 207,\n       211, 212, 216, 215, 216, 217, 216, 215, 216, 215, 215, 215, 207,\n       193, 171, 156, 157, 162, 154, 139, 130, 133, 132, 134, 133, 131,\n       131, 132, 134, 136, 136, 138, 138, 140, 144, 149, 152, 153, 158,\n       162, 162, 168, 172, 173, 176, 180, 183, 186, 183, 186, 190, 192,\n       193, 195, 198, 203, 204, 203, 202, 208, 207, 206, 210, 210, 208,\n       209, 211, 213], dtype=uint8), array([8.73503977])], [array([165, 167, 169, 167, 168, 169, 174, 179, 173, 165, 162, 164, 164,\n       167, 178, 187, 195, 201, 204, 203, 205, 207, 206, 206, 205, 204,\n       204, 202, 202, 203, 201, 203, 204, 205, 206, 206, 203, 205, 204,\n       203, 203, 203, 202, 202, 205, 205, 203, 201, 197, 199, 199, 200,\n       196, 197, 193, 193, 190, 190, 190, 192, 191, 187, 187, 186, 186,\n       185, 182, 180, 180, 181, 179, 173, 163, 154, 151, 148, 157, 172,\n       178, 181, 181, 181, 183, 188, 188, 187, 190, 189, 190, 193, 195,\n       198, 196, 194, 196, 198, 197, 200, 197, 198, 199, 199, 201, 203,\n       201, 200, 199, 202, 200, 199, 201, 199, 195, 197, 200, 202, 204,\n       200, 199, 199], dtype=uint8), array([4.59109883])], [array([205, 207, 208, 209, 203, 208, 206, 207, 211, 207, 204, 204, 206,\n       207, 207, 207, 206, 204, 204, 204, 203, 208, 204, 205, 206, 206,\n       205, 204, 208, 201, 203, 203, 201, 201, 202, 198, 201, 197, 196,\n       195, 193, 196, 193, 190, 189, 187, 186, 186, 180, 181, 181, 177,\n       172, 173, 173, 175, 172, 172, 174, 173, 172, 171, 171, 154, 140,\n       146, 164, 180, 191, 201, 207, 205, 205, 204, 204, 205, 205, 203,\n       204, 206, 207, 203, 206, 204, 203, 203, 201, 202, 199, 202, 202,\n       200, 201, 198, 198, 198, 198, 201, 200, 197, 198, 197, 197, 196,\n       193, 195, 190, 194, 193, 191, 192, 190, 189, 190, 190, 188, 189,\n       186, 185, 187], dtype=uint8), array([4.34090199])], [array([202, 202, 201, 201, 202, 201, 202, 204, 201, 201, 200, 201, 200,\n       199, 200, 202, 202, 201, 201, 199, 200, 203, 202, 201, 201, 203,\n       201, 201, 200, 197, 199, 199, 199, 198, 198, 197, 194, 194, 193,\n       192, 193, 190, 192, 192, 188, 185, 185, 183, 180, 181, 179, 176,\n       175, 178, 174, 177, 174, 176, 177, 177, 175, 178, 175, 165, 155,\n       160, 176, 190, 195, 199, 202, 201, 200, 199, 197, 195, 191, 194,\n       194, 190, 190, 193, 194, 191, 191, 190, 189, 190, 190, 187, 192,\n       193, 192, 193, 193, 195, 192, 193, 194, 194, 193, 190, 193, 196,\n       197, 197, 198, 196, 194, 200, 198, 201, 199, 200, 197, 195, 195,\n       191, 192, 192], dtype=uint8), array([4.35067225])], [array([171, 183, 195, 200, 202, 203, 205, 205, 204, 200, 206, 205, 204,\n       203, 201, 204, 203, 201, 202, 202, 201, 199, 199, 202, 203, 201,\n       202, 201, 199, 203, 202, 201, 200, 198, 196, 194, 193, 191, 188,\n       185, 182, 182, 180, 175, 178, 178, 177, 175, 175, 173, 171, 172,\n       170, 169, 170, 172, 172, 174, 174, 173, 169, 151, 149, 159, 174,\n       188, 198, 205, 204, 201, 201, 200, 197, 197, 197, 196, 191, 193,\n       189, 186, 186, 184, 183, 181, 180, 180, 179, 179, 178, 179, 178,\n       179, 172, 165, 160, 162, 172, 186, 195, 199, 197, 197, 197, 196,\n       188, 184, 181, 184, 189, 191, 191, 190, 189, 190, 190, 190, 190,\n       189, 187, 187], dtype=uint8), array([4.18356936])], [array([190, 188, 189, 186, 185, 187, 184, 186, 185, 185, 185, 188, 187,\n       187, 187, 187, 187, 186, 184, 185, 185, 186, 188, 188, 185, 183,\n       184, 188, 188, 185, 184, 187, 187, 186, 187, 187, 185, 188, 190,\n       187, 186, 185, 188, 185, 187, 188, 185, 188, 187, 189, 186, 186,\n       186, 187, 187, 187, 187, 187, 187, 190, 187, 186, 188, 186, 186,\n       186, 187, 184, 187, 184, 184, 180, 169, 159, 154, 154, 152, 156,\n       167, 168, 171, 169, 166, 166, 161, 162, 159, 159, 160, 162, 165,\n       167, 167, 169, 173, 175, 174, 175, 177, 176, 178, 180, 183, 179,\n       184, 185, 186, 183, 187, 185, 186, 187, 186, 186, 186, 186, 187,\n       188, 188, 188], dtype=uint8), array([5.923182])], [array([193, 192, 188, 189, 190, 190, 190, 190, 193, 191, 190, 191, 188,\n       191, 191, 189, 190, 188, 189, 186, 184, 184, 183, 186, 186, 185,\n       186, 188, 191, 188, 179, 168, 157, 145, 145, 157, 170, 181, 182,\n       184, 188, 186, 189, 190, 194, 193, 195, 195, 197, 199, 196, 194,\n       195, 200, 202, 201, 203, 206, 207, 210, 211, 210, 206, 195, 179,\n       167, 167, 159, 140, 122, 114, 112, 107, 105, 107, 112, 114, 117,\n       117, 118, 120, 123, 126, 128, 132, 136, 137, 140, 141, 144, 147,\n       153, 156, 161, 164, 166, 168, 174, 176, 176, 178, 178, 184, 184,\n       185, 187, 188, 189, 188, 189, 194, 191, 196, 195, 194, 194, 196,\n       196, 197, 198], dtype=uint8), array([8.89809448])], [array([186, 187, 187, 186, 188, 185, 187, 183, 182, 184, 181, 180, 180,\n       184, 186, 184, 186, 187, 189, 188, 186, 186, 189, 193, 188, 188,\n       191, 191, 189, 192, 190, 190, 193, 192, 190, 190, 189, 189, 191,\n       190, 189, 186, 186, 187, 187, 188, 187, 189, 189, 188, 185, 184,\n       182, 186, 185, 183, 182, 182, 181, 180, 177, 177, 181, 181, 181,\n       179, 177, 176, 176, 174, 170, 164, 151, 135, 129, 128, 126, 134,\n       152, 166, 171, 169, 171, 174, 173, 173, 176, 177, 179, 180, 182,\n       182, 184, 185, 185, 186, 187, 187, 189, 188, 190, 190, 190, 190,\n       190, 190, 189, 187, 182, 185, 179, 177, 177, 180, 182, 181, 185,\n       187, 190, 192], dtype=uint8), array([4.7800506])], [array([189, 190, 191, 190, 188, 192, 188, 191, 187, 190, 191, 189, 188,\n       189, 192, 191, 192, 188, 187, 188, 188, 190, 191, 193, 190, 189,\n       192, 189, 188, 191, 191, 191, 190, 186, 184, 190, 192, 185, 191,\n       189, 189, 184, 188, 189, 187, 183, 187, 186, 183, 179, 178, 177,\n       179, 175, 173, 173, 171, 169, 169, 167, 166, 166, 166, 163, 160,\n       160, 160, 158, 162, 162, 163, 156, 142, 137, 144, 140, 141, 156,\n       166, 171, 173, 175, 176, 176, 175, 174, 175, 177, 180, 182, 182,\n       183, 183, 182, 182, 182, 184, 188, 185, 180, 185, 184, 186, 188,\n       188, 186, 181, 184, 187, 187, 187, 188, 190, 188, 187, 189, 187,\n       188, 190, 189], dtype=uint8), array([5.29939395])], [array([190, 190, 191, 187, 192, 188, 189, 187, 186, 185, 188, 184, 190,\n       192, 190, 186, 187, 187, 189, 184, 185, 188, 190, 188, 186, 187,\n       182, 187, 185, 187, 184, 186, 183, 188, 187, 186, 188, 185, 188,\n       183, 184, 183, 184, 188, 184, 186, 183, 184, 187, 182, 183, 181,\n       186, 185, 180, 178, 179, 178, 177, 180, 176, 181, 180, 179, 177,\n       177, 176, 174, 174, 170, 172, 169, 161, 150, 148, 143, 146, 153,\n       167, 163, 167, 166, 169, 169, 167, 169, 173, 175, 175, 173, 178,\n       176, 179, 181, 179, 179, 184, 180, 185, 182, 186, 184, 187, 179,\n       183, 186, 187, 184, 187, 187, 190, 184, 188, 183, 187, 187, 187,\n       187, 187, 184], dtype=uint8), array([5.08347615])], [array([237, 232, 230, 234, 234, 233, 232, 232, 232, 235, 229, 236, 230,\n       230, 230, 228, 226, 226, 225, 229, 226, 231, 230, 228, 229, 231,\n       231, 232, 232, 235, 230, 234, 233, 232, 230, 229, 232, 234, 232,\n       232, 228, 230, 229, 226, 223, 222, 220, 217, 217, 210, 205, 175,\n       145, 150, 176, 178, 145, 116, 126, 145, 158, 160, 165, 169, 174,\n       179, 182, 185, 190, 196, 199, 203, 207, 210, 213, 214, 219, 215,\n       221, 226, 225, 226, 227, 226, 224, 229, 229, 230, 231, 230, 230,\n       230, 232, 234, 229, 229, 232, 231, 232, 235, 234, 232, 231, 233,\n       230, 231, 234, 232, 231, 233, 234, 232, 231, 233, 236, 236, 231,\n       231, 232, 232], dtype=uint8), array([8.36581426])], [array([228, 231, 233, 232, 229, 228, 228, 228, 223, 225, 223, 222, 220,\n       222, 223, 219, 218, 214, 211, 209, 208, 205, 199, 184, 179, 182,\n       190, 203, 214, 221, 224, 224, 227, 226, 223, 227, 224, 221, 224,\n       222, 223, 223, 222, 223, 219, 219, 209, 208, 204, 199, 197, 194,\n       189, 182, 180, 173, 169, 166, 170, 179, 183, 180, 164, 138, 115,\n       134, 164, 169, 154, 152, 171, 198, 208, 215, 218, 221, 220, 221,\n       223, 224, 223, 227, 232, 230, 227, 226, 227, 228, 229, 229, 230,\n       229, 231, 229, 226, 228, 232, 233, 235, 234, 228, 229, 229, 230,\n       232, 229, 231, 233, 232, 230, 232, 235, 229, 232, 232, 231, 231,\n       233, 231, 231], dtype=uint8), array([8.89809448])], [array([232, 232, 230, 229, 231, 232, 233, 235, 232, 230, 230, 230, 230,\n       229, 227, 230, 226, 226, 227, 226, 229, 232, 229, 228, 230, 230,\n       229, 226, 232, 230, 229, 231, 229, 231, 227, 231, 231, 229, 230,\n       227, 227, 229, 228, 224, 225, 228, 229, 227, 226, 230, 231, 228,\n       229, 233, 232, 230, 231, 231, 231, 231, 230, 231, 232, 230, 228,\n       229, 229, 227, 226, 221, 216, 202, 177, 166, 164, 154, 173, 196,\n       201, 204, 212, 211, 217, 218, 222, 223, 223, 223, 221, 224, 226,\n       230, 227, 228, 229, 224, 228, 230, 230, 228, 226, 225, 230, 230,\n       230, 231, 230, 231, 229, 230, 230, 229, 228, 228, 226, 226, 226,\n       224, 228, 228], dtype=uint8), array([4.7800506])], [array([228, 230, 230, 230, 230, 230, 233, 232, 232, 232, 232, 232, 232,\n       229, 230, 231, 230, 230, 230, 230, 230, 232, 233, 231, 229, 233,\n       229, 229, 232, 229, 233, 233, 231, 232, 233, 230, 231, 233, 231,\n       229, 229, 229, 230, 228, 230, 232, 231, 232, 230, 227, 232, 232,\n       233, 229, 231, 232, 233, 232, 231, 228, 230, 232, 233, 228, 225,\n       227, 226, 225, 224, 217, 193, 173, 170, 167, 147, 168, 197, 203,\n       202, 213, 213, 214, 218, 216, 217, 221, 222, 223, 225, 227, 227,\n       229, 231, 228, 227, 228, 233, 225, 226, 222, 217, 218, 223, 228,\n       227, 229, 226, 228, 230, 231, 233, 231, 231, 231, 229, 230, 231,\n       231, 232, 232], dtype=uint8), array([5.29939395])], [array([217, 217, 217, 219, 222, 222, 222, 223, 221, 221, 221, 221, 222,\n       222, 223, 225, 224, 222, 222, 222, 221, 223, 224, 224, 223, 223,\n       221, 221, 223, 223, 223, 223, 223, 226, 227, 226, 224, 225, 229,\n       227, 226, 227, 228, 225, 226, 225, 227, 227, 230, 230, 226, 228,\n       230, 228, 226, 226, 229, 228, 227, 225, 230, 228, 225, 226, 227,\n       223, 221, 225, 221, 221, 216, 203, 174, 161, 160, 155, 179, 203,\n       205, 214, 217, 216, 218, 224, 224, 226, 226, 229, 225, 229, 229,\n       231, 226, 231, 229, 232, 234, 234, 232, 233, 230, 227, 230, 229,\n       231, 231, 232, 234, 235, 233, 230, 233, 234, 230, 229, 229, 229,\n       232, 231, 232], dtype=uint8), array([5.08347615])], [array([226, 225, 224, 225, 223, 223, 223, 226, 230, 227, 224, 227, 226,\n       227, 224, 226, 228, 227, 227, 227, 228, 229, 228, 226, 229, 230,\n       230, 229, 231, 227, 231, 227, 225, 229, 230, 229, 228, 226, 228,\n       230, 233, 230, 229, 230, 231, 229, 228, 228, 228, 225, 224, 226,\n       227, 227, 228, 230, 228, 229, 226, 226, 223, 224, 229, 227, 224,\n       223, 220, 220, 217, 212, 201, 182, 169, 170, 170, 183, 199, 203,\n       207, 211, 212, 216, 216, 218, 219, 222, 223, 223, 226, 223, 225,\n       229, 228, 227, 228, 233, 233, 230, 228, 230, 230, 231, 233, 232,\n       233, 230, 228, 227, 229, 230, 224, 228, 229, 228, 226, 226, 226,\n       228, 231, 231], dtype=uint8), array([5.923182])], [array([225, 225, 225, 228, 226, 221, 219, 215, 211, 207, 190, 177, 180,\n       183, 191, 195, 193, 192, 193, 194, 196, 199, 200, 199, 201, 198,\n       202, 205, 203, 204, 206, 209, 212, 212, 213, 216, 219, 216, 217,\n       223, 221, 222, 218, 220, 223, 224, 224, 227, 227, 225, 226, 226,\n       227, 229, 229, 229, 227, 227, 227, 228, 228, 229, 230, 227, 228,\n       228, 227, 228, 230, 224, 213, 198, 186, 175, 170, 179, 191, 195,\n       193, 195, 198, 200, 197, 203, 205, 207, 213, 213, 217, 218, 221,\n       224, 225, 222, 222, 228, 226, 224, 225, 225, 227, 225, 227, 232,\n       230, 228, 231, 232, 228, 228, 230, 228, 225, 226, 229, 227, 228,\n       226, 227, 227], dtype=uint8), array([4.59109883])], [array([220, 220, 219, 220, 223, 222, 221, 219, 225, 224, 222, 226, 227,\n       223, 226, 226, 225, 226, 225, 227, 226, 225, 221, 226, 227, 223,\n       224, 227, 228, 228, 226, 226, 224, 223, 225, 223, 222, 225, 227,\n       223, 223, 224, 223, 223, 223, 225, 223, 225, 224, 225, 226, 229,\n       229, 226, 224, 222, 225, 227, 227, 226, 220, 221, 213, 203, 195,\n       186, 185, 190, 195, 195, 195, 195, 195, 197, 200, 200, 200, 203,\n       204, 206, 208, 211, 212, 215, 218, 218, 216, 215, 214, 218, 218,\n       221, 222, 223, 221, 224, 225, 226, 224, 225, 226, 225, 226, 228,\n       226, 226, 226, 225, 226, 227, 228, 227, 226, 230, 227, 224, 228,\n       223, 226, 229], dtype=uint8), array([4.34090199])], [array([225, 225, 225, 224, 223, 227, 225, 223, 225, 225, 221, 221, 225,\n       226, 224, 224, 224, 226, 224, 227, 226, 223, 221, 221, 221, 220,\n       222, 222, 222, 219, 223, 222, 220, 223, 218, 216, 218, 218, 217,\n       214, 211, 207, 206, 206, 204, 202, 196, 180, 162, 156, 162, 160,\n       136, 113, 119, 136, 146, 149, 148, 150, 150, 153, 160, 164, 165,\n       171, 175, 178, 181, 183, 185, 193, 198, 203, 202, 205, 207, 211,\n       215, 215, 214, 218, 221, 222, 224, 222, 219, 225, 228, 226, 224,\n       223, 224, 228, 227, 220, 221, 225, 228, 225, 224, 224, 226, 224,\n       222, 221, 219, 221, 221, 219, 224, 221, 217, 218, 221, 223, 220,\n       223, 222, 224], dtype=uint8), array([8.52101685])], [array([221, 221, 222, 224, 224, 224, 224, 225, 224, 226, 226, 225, 230,\n       225, 227, 222, 222, 224, 226, 224, 225, 227, 226, 226, 226, 226,\n       226, 230, 224, 224, 226, 226, 225, 226, 229, 227, 225, 223, 223,\n       220, 219, 217, 212, 212, 212, 211, 208, 206, 199, 176, 152, 152,\n       169, 175, 152, 127, 128, 145, 157, 156, 151, 151, 152, 157, 159,\n       161, 165, 169, 170, 178, 180, 184, 186, 191, 191, 191, 198, 200,\n       202, 207, 211, 212, 214, 215, 217, 218, 218, 220, 221, 222, 222,\n       224, 224, 221, 225, 223, 223, 227, 225, 223, 225, 226, 224, 222,\n       221, 225, 225, 226, 225, 226, 226, 225, 224, 227, 226, 229, 221,\n       223, 225, 224], dtype=uint8), array([8.73503977])], [array([225, 223, 224, 224, 222, 223, 223, 225, 227, 223, 223, 225, 222,\n       226, 227, 225, 224, 224, 224, 222, 225, 225, 225, 226, 226, 224,\n       224, 223, 223, 224, 223, 225, 224, 224, 226, 221, 223, 225, 226,\n       224, 226, 224, 225, 224, 225, 225, 224, 226, 226, 226, 227, 226,\n       224, 223, 223, 220, 218, 218, 215, 202, 188, 183, 176, 165, 177,\n       189, 187, 188, 188, 185, 189, 192, 192, 194, 197, 199, 203, 206,\n       209, 212, 213, 216, 217, 219, 219, 224, 232, 223, 225, 226, 224,\n       225, 222, 229, 223, 225, 224, 224, 225, 217, 206, 196, 187, 185,\n       190, 194, 194, 196, 196, 196, 200, 201, 201, 203, 209, 210, 214,\n       216, 217, 213], dtype=uint8), array([4.18356936])], [array([228, 223, 221, 223, 223, 224, 225, 224, 225, 224, 223, 221, 228,\n       224, 224, 224, 226, 225, 224, 223, 228, 229, 227, 227, 222, 219,\n       224, 223, 228, 225, 229, 226, 224, 222, 225, 226, 224, 225, 224,\n       224, 223, 224, 224, 227, 227, 224, 226, 226, 226, 223, 227, 226,\n       225, 224, 226, 227, 225, 226, 225, 227, 228, 226, 218, 210, 198,\n       187, 183, 183, 190, 195, 193, 192, 190, 193, 192, 194, 196, 201,\n       202, 204, 208, 210, 211, 212, 215, 216, 216, 220, 222, 222, 223,\n       225, 224, 224, 225, 228, 227, 227, 226, 228, 227, 227, 224, 226,\n       229, 227, 230, 228, 229, 227, 224, 222, 223, 221, 220, 219, 214,\n       213, 216, 217], dtype=uint8), array([4.35067225])], [array([200, 203, 201, 200, 198, 200, 200, 200, 203, 205, 203, 203, 205,\n       206, 206, 205, 203, 198, 200, 200, 200, 204, 205, 203, 204, 205,\n       204, 201, 202, 203, 205, 208, 206, 204, 208, 203, 203, 206, 206,\n       200, 198, 203, 206, 202, 200, 202, 204, 204, 203, 201, 201, 204,\n       204, 207, 208, 205, 205, 204, 205, 208, 206, 203, 203, 202, 200,\n       203, 205, 204, 202, 201, 202, 199, 199, 200, 201, 197, 199, 198,\n       198, 198, 200, 199, 203, 202, 200, 200, 201, 202, 202, 200, 198,\n       198, 198, 199, 200, 201, 200, 199, 191, 195, 199, 199, 195, 197,\n       198, 198, 196, 196, 198, 201, 201, 197, 199, 199, 197, 196, 195,\n       197, 196, 201], dtype=uint8), array([0.])], [array([213, 214, 218, 214, 213, 214, 216, 214, 211, 211, 210, 208, 214,\n       214, 210, 212, 212, 214, 213, 216, 215, 212, 211, 217, 212, 211,\n       211, 214, 213, 215, 216, 214, 216, 213, 215, 213, 215, 211, 212,\n       213, 212, 208, 212, 210, 210, 211, 212, 213, 213, 211, 208, 213,\n       212, 211, 211, 208, 213, 213, 214, 213, 217, 214, 214, 217, 218,\n       218, 218, 220, 215, 212, 208, 199, 185, 167, 157, 146, 146, 158,\n       173, 177, 180, 179, 179, 177, 178, 180, 179, 178, 180, 183, 186,\n       188, 191, 194, 197, 195, 199, 200, 202, 204, 205, 205, 207, 205,\n       205, 202, 204, 206, 208, 215, 215, 214, 213, 213, 214, 216, 216,\n       216, 214, 214], dtype=uint8), array([4.75818342])], [array([216, 218, 214, 213, 215, 214, 213, 215, 216, 212, 212, 214, 213,\n       211, 213, 212, 213, 213, 214, 216, 212, 211, 216, 214, 214, 208,\n       213, 207, 209, 209, 209, 205, 207, 203, 202, 198, 197, 201, 197,\n       195, 191, 189, 190, 190, 189, 188, 188, 186, 187, 188, 188, 185,\n       184, 184, 188, 191, 189, 185, 178, 173, 172, 180, 192, 200, 207,\n       215, 214, 218, 211, 211, 213, 211, 215, 215, 213, 214, 212, 216,\n       214, 212, 209, 211, 214, 214, 215, 215, 214, 215, 212, 211, 214,\n       213, 213, 212, 210, 209, 209, 208, 205, 205, 207, 203, 205, 205,\n       204, 209, 206, 206, 209, 206, 207, 209, 212, 210, 211, 214, 210,\n       213, 212, 213], dtype=uint8), array([3.84824603])], [array([213, 214, 211, 212, 214, 215, 211, 208, 212, 212, 212, 210, 210,\n       209, 210, 212, 209, 209, 205, 208, 208, 210, 208, 210, 210, 210,\n       209, 209, 208, 203, 209, 209, 206, 204, 203, 209, 205, 203, 202,\n       204, 206, 206, 203, 201, 200, 195, 197, 197, 197, 197, 194, 192,\n       186, 189, 187, 185, 186, 186, 180, 177, 177, 176, 173, 175, 175,\n       173, 174, 174, 171, 162, 151, 147, 151, 157, 169, 180, 189, 197,\n       201, 205, 203, 205, 203, 203, 204, 207, 209, 204, 202, 204, 205,\n       201, 203, 200, 200, 201, 199, 199, 196, 194, 191, 187, 183, 181,\n       181, 182, 182, 188, 191, 196, 198, 201, 202, 202, 202, 203, 205,\n       206, 207, 205], dtype=uint8), array([5.52762087])], [array([211, 212, 211, 210, 210, 210, 212, 212, 212, 212, 212, 212, 213,\n       210, 211, 211, 211, 209, 208, 210, 211, 210, 207, 208, 208, 208,\n       210, 203, 202, 201, 201, 200, 197, 195, 194, 192, 189, 191, 182,\n       182, 180, 179, 176, 182, 172, 169, 170, 167, 164, 166, 166, 167,\n       170, 171, 172, 174, 172, 167, 157, 149, 158, 171, 181, 190, 200,\n       209, 211, 210, 212, 213, 215, 212, 210, 209, 209, 211, 210, 207,\n       208, 209, 213, 213, 209, 209, 207, 210, 208, 204, 206, 206, 204,\n       205, 206, 204, 206, 206, 206, 207, 202, 205, 206, 204, 206, 205,\n       204, 205, 204, 203, 203, 204, 203, 199, 200, 201, 200, 198, 197,\n       198, 198, 195], dtype=uint8), array([5.24173503])], [array([200, 201, 203, 204, 205, 204, 203, 203, 205, 203, 206, 204, 202,\n       201, 201, 199, 198, 199, 199, 197, 199, 199, 196, 193, 193, 192,\n       195, 194, 192, 187, 189, 186, 184, 187, 181, 176, 173, 174, 175,\n       172, 171, 171, 170, 166, 166, 169, 170, 173, 177, 176, 181, 178,\n       182, 179, 175, 175, 170, 165, 165, 175, 192, 200, 203, 205, 204,\n       204, 204, 200, 199, 200, 200, 196, 196, 196, 199, 197, 198, 198,\n       197, 198, 195, 198, 198, 195, 197, 198, 197, 197, 195, 195, 197,\n       195, 195, 196, 193, 195, 196, 195, 195, 194, 196, 194, 194, 193,\n       196, 195, 197, 197, 196, 196, 197, 196, 197, 197, 197, 196, 196,\n       196, 196, 196], dtype=uint8), array([3.48806279])], [array([196, 199, 200, 198, 199, 199, 197, 199, 202, 199, 198, 199, 196,\n       195, 199, 197, 196, 195, 196, 197, 198, 194, 195, 194, 193, 195,\n       198, 198, 198, 199, 194, 194, 196, 197, 199, 199, 197, 196, 198,\n       194, 195, 195, 197, 195, 198, 197, 196, 193, 194, 196, 197, 195,\n       195, 197, 192, 193, 192, 192, 191, 190, 189, 190, 190, 187, 187,\n       187, 188, 187, 190, 187, 187, 186, 186, 177, 166, 154, 144, 140,\n       140, 150, 161, 169, 171, 172, 172, 170, 172, 171, 169, 166, 169,\n       171, 173, 172, 171, 172, 172, 173, 171, 173, 169, 171, 170, 171,\n       172, 170, 168, 169, 169, 170, 167, 169, 165, 167, 167, 164, 166,\n       161, 154, 144], dtype=uint8), array([4.68352392])], [array([197, 195, 198, 196, 197, 199, 197, 196, 194, 197, 200, 198, 196,\n       198, 196, 198, 195, 193, 195, 195, 193, 192, 189, 189, 188, 188,\n       188, 187, 187, 187, 187, 186, 185, 184, 182, 181, 182, 180, 176,\n       169, 157, 149, 143, 142, 147, 154, 164, 173, 176, 175, 174, 175,\n       177, 177, 174, 177, 176, 173, 178, 175, 173, 176, 178, 176, 178,\n       180, 177, 178, 179, 179, 176, 171, 160, 148, 143, 142, 152, 164,\n       176, 186, 189, 188, 192, 193, 192, 192, 194, 196, 197, 197, 198,\n       197, 197, 198, 192, 196, 195, 195, 193, 193, 196, 194, 195, 197,\n       195, 194, 191, 194, 194, 197, 192, 195, 195, 197, 197, 196, 199,\n       200, 193, 193], dtype=uint8), array([4.45399496])], [array([215, 213, 212, 213, 214, 216, 215, 214, 214, 215, 212, 216, 214,\n       217, 219, 215, 213, 212, 214, 217, 219, 216, 217, 216, 212, 215,\n       210, 213, 214, 213, 212, 213, 213, 214, 213, 214, 213, 215, 214,\n       210, 213, 215, 212, 211, 215, 216, 213, 213, 213, 215, 214, 214,\n       215, 210, 210, 211, 212, 210, 211, 212, 214, 214, 212, 211, 213,\n       214, 210, 214, 213, 212, 214, 216, 214, 211, 209, 211, 212, 208,\n       211, 213, 213, 215, 215, 214, 211, 212, 212, 208, 209, 212, 213,\n       213, 211, 212, 212, 211, 215, 214, 211, 212, 213, 212, 211, 209,\n       212, 211, 209, 210, 211, 211, 211, 211, 210, 211, 211, 212, 209,\n       208, 208, 210], dtype=uint8), array([0.])], [array([228, 230, 233, 233, 227, 231, 228, 228, 231, 230, 230, 229, 228,\n       227, 225, 230, 231, 229, 230, 230, 231, 236, 232, 233, 231, 232,\n       229, 228, 228, 232, 231, 230, 231, 230, 229, 228, 227, 229, 228,\n       229, 226, 228, 231, 230, 227, 227, 226, 225, 226, 225, 224, 225,\n       223, 221, 224, 218, 220, 218, 215, 212, 215, 210, 208, 205, 203,\n       187, 167, 151, 145, 141, 132, 125, 124, 140, 154, 167, 172, 175,\n       177, 179, 184, 187, 194, 191, 197, 202, 206, 211, 216, 216, 219,\n       220, 222, 224, 224, 225, 226, 228, 229, 228, 228, 226, 230, 229,\n       229, 230, 224, 228, 229, 230, 233, 230, 230, 229, 228, 228, 229,\n       229, 229, 230], dtype=uint8), array([8.71474618])], [array([232, 232, 230, 229, 231, 229, 227, 230, 232, 229, 229, 230, 231,\n       233, 230, 229, 227, 229, 232, 232, 229, 233, 231, 227, 228, 228,\n       227, 231, 232, 231, 232, 234, 231, 231, 233, 228, 227, 229, 226,\n       226, 226, 224, 227, 227, 227, 232, 229, 227, 230, 227, 226, 226,\n       227, 228, 226, 224, 221, 220, 218, 218, 215, 213, 208, 206, 202,\n       192, 180, 154, 127, 111, 114, 129, 141, 145, 147, 158, 172, 180,\n       186, 187, 192, 191, 194, 197, 200, 205, 209, 209, 214, 212, 215,\n       218, 219, 221, 222, 225, 225, 223, 226, 229, 229, 229, 230, 228,\n       230, 231, 232, 230, 230, 230, 230, 231, 231, 232, 228, 232, 230,\n       230, 230, 230], dtype=uint8), array([9.02551505])], [array([187, 188, 191, 191, 192, 195, 197, 200, 202, 204, 204, 204, 201,\n       205, 209, 208, 208, 211, 214, 212, 210, 215, 218, 218, 216, 220,\n       224, 223, 226, 220, 222, 223, 222, 223, 225, 225, 224, 225, 222,\n       225, 222, 223, 224, 223, 219, 217, 216, 210, 197, 169, 141, 137,\n       137, 128, 125, 136, 152, 156, 157, 163, 168, 173, 177, 185, 190,\n       193, 197, 201, 204, 207, 212, 215, 214, 216, 221, 223, 224, 228,\n       222, 226, 224, 228, 229, 226, 226, 226, 227, 228, 227, 229, 231,\n       228, 225, 230, 230, 230, 230, 226, 230, 230, 231, 229, 225, 228,\n       227, 228, 230, 229, 228, 227, 229, 229, 228, 230, 229, 227, 228,\n       231, 232, 230], dtype=uint8), array([7.32964192])], [array([234, 231, 229, 234, 231, 229, 233, 233, 231, 230, 230, 229, 233,\n       233, 234, 232, 233, 235, 235, 236, 234, 233, 234, 234, 234, 237,\n       231, 232, 236, 231, 233, 232, 233, 231, 229, 232, 231, 226, 225,\n       226, 222, 227, 229, 229, 224, 229, 231, 232, 232, 232, 230, 225,\n       229, 231, 226, 225, 226, 225, 223, 219, 220, 220, 215, 203, 189,\n       175, 164, 165, 170, 177, 188, 194, 199, 204, 205, 211, 215, 216,\n       219, 222, 226, 227, 225, 230, 230, 229, 230, 230, 228, 231, 232,\n       230, 230, 231, 234, 232, 229, 230, 229, 233, 231, 230, 233, 234,\n       232, 233, 235, 232, 232, 231, 233, 235, 231, 234, 233, 231, 229,\n       232, 235, 234], dtype=uint8), array([4.88385177])], [array([228, 229, 227, 227, 226, 226, 226, 225, 229, 230, 229, 233, 229,\n       228, 227, 225, 227, 229, 225, 229, 230, 226, 230, 227, 229, 225,\n       227, 226, 228, 229, 226, 226, 224, 222, 220, 214, 213, 210, 212,\n       210, 214, 218, 219, 225, 223, 223, 222, 219, 218, 220, 213, 212,\n       210, 207, 200, 200, 197, 198, 197, 196, 197, 197, 190, 187, 191,\n       188, 172, 145, 127, 136, 152, 151, 152, 171, 195, 209, 217, 216,\n       216, 220, 221, 222, 221, 226, 223, 224, 224, 226, 227, 230, 228,\n       228, 228, 227, 227, 234, 229, 230, 231, 228, 229, 230, 228, 227,\n       231, 232, 228, 230, 231, 232, 232, 231, 233, 232, 233, 229, 231,\n       231, 230, 231], dtype=uint8), array([6.54541434])], [array([215, 213, 214, 212, 214, 211, 209, 211, 211, 210, 210, 205, 206,\n       201, 197, 193, 184, 169, 159, 155, 163, 175, 183, 193, 201, 201,\n       200, 198, 188, 172, 159, 159, 166, 171, 183, 190, 196, 193, 196,\n       196, 199, 209, 213, 216, 220, 220, 220, 220, 222, 223, 224, 224,\n       224, 224, 224, 224, 220, 219, 217, 213, 212, 212, 209, 208, 205,\n       203, 194, 173, 144, 136, 139, 140, 140, 157, 181, 202, 212, 217,\n       214, 219, 219, 220, 223, 226, 225, 223, 226, 229, 227, 227, 229,\n       230, 231, 231, 232, 229, 233, 231, 234, 230, 231, 232, 231, 234,\n       228, 230, 232, 233, 232, 237, 229, 230, 228, 228, 226, 227, 231,\n       230, 232, 232], dtype=uint8), array([7.03218657])], [array([210, 207, 205, 203, 198, 195, 188, 175, 163, 161, 161, 158, 153,\n       153, 159, 169, 182, 188, 199, 205, 207, 209, 208, 217, 216, 216,\n       215, 217, 218, 221, 220, 223, 226, 225, 226, 226, 227, 227, 231,\n       231, 230, 228, 226, 228, 225, 225, 224, 223, 223, 223, 219, 215,\n       215, 210, 209, 206, 200, 194, 192, 188, 184, 182, 181, 182, 181,\n       168, 147, 138, 145, 157, 158, 156, 172, 194, 206, 211, 215, 216,\n       216, 221, 223, 224, 228, 225, 225, 227, 227, 228, 231, 231, 232,\n       235, 232, 232, 230, 233, 230, 230, 234, 232, 232, 234, 231, 232,\n       233, 235, 236, 231, 227, 231, 232, 232, 233, 232, 229, 234, 232,\n       230, 228, 230], dtype=uint8), array([6.38074043])], [array([218, 220, 220, 223, 222, 222, 222, 220, 224, 226, 225, 224, 226,\n       227, 226, 225, 222, 229, 225, 227, 226, 226, 227, 226, 228, 227,\n       225, 223, 221, 218, 221, 221, 221, 225, 227, 230, 228, 230, 230,\n       230, 229, 228, 224, 225, 224, 225, 227, 225, 227, 222, 221, 225,\n       227, 222, 222, 218, 218, 218, 218, 218, 217, 216, 216, 216, 220,\n       218, 215, 213, 215, 212, 209, 206, 200, 184, 164, 157, 161, 166,\n       176, 192, 208, 217, 219, 222, 223, 229, 230, 228, 224, 229, 229,\n       227, 228, 229, 227, 226, 230, 233, 230, 230, 231, 231, 234, 233,\n       231, 229, 232, 233, 233, 233, 231, 230, 232, 234, 233, 233, 233,\n       233, 232, 231], dtype=uint8), array([5.54238319])], [array([233, 230, 232, 233, 233, 233, 234, 233, 232, 231, 231, 231, 232,\n       233, 227, 228, 228, 229, 230, 229, 229, 231, 233, 231, 229, 229,\n       227, 226, 224, 225, 222, 224, 227, 223, 225, 223, 215, 217, 212,\n       210, 209, 207, 206, 202, 198, 199, 208, 209, 211, 214, 215, 218,\n       219, 223, 223, 228, 227, 224, 226, 225, 222, 220, 222, 223, 222,\n       219, 218, 216, 212, 208, 210, 209, 202, 198, 195, 187, 179, 178,\n       183, 195, 209, 220, 225, 224, 225, 227, 227, 228, 227, 228, 230,\n       227, 226, 228, 228, 227, 229, 226, 221, 221, 220, 217, 219, 221,\n       218, 217, 218, 217, 217, 219, 219, 226, 225, 230, 227, 231, 232,\n       231, 229, 227], dtype=uint8), array([4.58639866])], [array([234, 236, 234, 236, 232, 234, 235, 233, 234, 230, 234, 235, 238,\n       240, 238, 235, 235, 236, 233, 231, 231, 230, 230, 230, 230, 230,\n       230, 231, 233, 234, 233, 233, 231, 235, 232, 232, 233, 233, 235,\n       228, 233, 232, 234, 233, 231, 232, 230, 229, 227, 228, 227, 223,\n       223, 218, 206, 193, 183, 164, 150, 151, 166, 179, 187, 190, 191,\n       191, 194, 194, 198, 204, 209, 212, 217, 217, 219, 224, 229, 228,\n       229, 233, 233, 234, 238, 237, 234, 235, 238, 235, 235, 236, 230,\n       235, 238, 237, 238, 238, 235, 238, 238, 239, 234, 233, 232, 235,\n       237, 235, 235, 235, 236, 235, 233, 234, 235, 233, 232, 234, 230,\n       235, 234, 234], dtype=uint8), array([5.4984222])], [array([207, 206, 201, 195, 185, 175, 164, 160, 157, 159, 156, 164, 168,\n       169, 173, 179, 191, 198, 207, 212, 212, 213, 217, 218, 221, 219,\n       221, 222, 221, 225, 224, 224, 222, 224, 222, 223, 226, 226, 223,\n       228, 226, 228, 223, 223, 227, 225, 224, 227, 226, 222, 224, 225,\n       224, 223, 224, 223, 223, 221, 224, 222, 222, 222, 222, 218, 213,\n       206, 191, 176, 150, 145, 140, 135, 128, 130, 142, 152, 160, 166,\n       167, 167, 175, 180, 183, 189, 191, 195, 201, 204, 205, 210, 212,\n       214, 219, 222, 222, 225, 227, 231, 228, 227, 229, 231, 231, 227,\n       228, 227, 227, 231, 228, 230, 231, 232, 232, 234, 231, 231, 231,\n       228, 232, 232], dtype=uint8), array([8.81468908])], [array([233, 230, 229, 230, 230, 231, 230, 232, 233, 231, 230, 230, 231,\n       230, 229, 230, 229, 229, 229, 228, 233, 234, 229, 227, 231, 233,\n       233, 232, 230, 231, 232, 231, 230, 232, 233, 231, 230, 230, 229,\n       227, 231, 232, 236, 234, 227, 228, 231, 231, 231, 228, 225, 229,\n       228, 227, 226, 225, 226, 225, 226, 224, 223, 226, 224, 223, 219,\n       219, 218, 217, 214, 213, 209, 210, 205, 194, 171, 137, 126, 126,\n       136, 160, 187, 204, 209, 215, 219, 224, 223, 223, 224, 225, 223,\n       231, 229, 229, 229, 227, 227, 230, 231, 232, 232, 232, 230, 228,\n       236, 228, 228, 230, 234, 234, 230, 231, 230, 230, 231, 229, 227,\n       228, 230, 231], dtype=uint8), array([5.09065576])], [array([202, 201, 204, 203, 203, 202, 200, 203, 203, 202, 201, 203, 204,\n       203, 202, 199, 200, 201, 202, 202, 201, 203, 204, 204, 202, 203,\n       204, 203, 205, 205, 204, 205, 200, 204, 203, 205, 205, 204, 204,\n       204, 205, 204, 203, 205, 202, 203, 205, 205, 207, 204, 204, 206,\n       203, 203, 205, 204, 202, 205, 208, 206, 202, 205, 204, 204, 207,\n       207, 208, 205, 206, 206, 211, 209, 208, 209, 210, 207, 206, 205,\n       206, 208, 210, 208, 209, 208, 208, 209, 209, 207, 206, 203, 205,\n       203, 203, 205, 204, 203, 209, 207, 208, 209, 209, 205, 205, 206,\n       207, 206, 205, 203, 205, 208, 209, 205, 206, 205, 206, 206, 208,\n       207, 209, 211], dtype=uint8), array([0.])], [array([228, 226, 223, 224, 226, 224, 226, 224, 221, 225, 225, 225, 226,\n       227, 223, 225, 231, 226, 223, 220, 224, 225, 226, 226, 225, 224,\n       227, 224, 225, 225, 227, 227, 226, 226, 226, 225, 224, 227, 224,\n       224, 225, 222, 225, 223, 223, 223, 226, 228, 228, 229, 228, 228,\n       227, 226, 224, 224, 224, 226, 226, 225, 221, 221, 220, 209, 194,\n       174, 158, 147, 141, 151, 167, 179, 185, 185, 188, 191, 192, 196,\n       197, 197, 200, 207, 213, 214, 216, 214, 217, 217, 219, 222, 221,\n       221, 222, 222, 228, 225, 225, 226, 226, 222, 225, 225, 227, 226,\n       223, 225, 224, 225, 223, 223, 222, 220, 220, 219, 217, 215, 208,\n       199, 194, 187], dtype=uint8), array([4.42544194])], [array([220, 221, 221, 221, 224, 224, 226, 225, 223, 223, 225, 225, 223,\n       225, 225, 227, 225, 225, 226, 227, 226, 224, 225, 224, 227, 228,\n       226, 224, 226, 224, 223, 225, 225, 228, 229, 229, 229, 228, 227,\n       227, 229, 224, 226, 224, 223, 219, 210, 198, 188, 181, 178, 176,\n       176, 185, 195, 198, 203, 206, 211, 215, 216, 217, 221, 224, 226,\n       225, 224, 221, 221, 224, 220, 213, 202, 184, 169, 158, 159, 171,\n       183, 188, 189, 188, 191, 192, 195, 197, 196, 199, 205, 204, 209,\n       210, 216, 214, 214, 217, 215, 219, 220, 224, 220, 222, 222, 222,\n       224, 224, 221, 225, 228, 228, 228, 225, 225, 226, 224, 224, 225,\n       227, 225, 224], dtype=uint8), array([4.45399496])], [array([189, 195, 201, 205, 201, 204, 203, 203, 204, 206, 207, 207, 206,\n       208, 211, 208, 209, 210, 212, 214, 215, 216, 219, 215, 215, 217,\n       218, 220, 221, 217, 220, 223, 220, 219, 217, 220, 223, 220, 220,\n       223, 223, 225, 222, 225, 225, 223, 222, 223, 226, 227, 224, 224,\n       224, 227, 226, 224, 226, 226, 224, 225, 228, 228, 224, 222, 225,\n       223, 224, 226, 226, 226, 224, 224, 223, 221, 219, 211, 193, 172,\n       157, 144, 150, 170, 184, 189, 191, 194, 196, 199, 202, 206, 208,\n       209, 211, 213, 215, 215, 216, 218, 219, 222, 223, 224, 223, 223,\n       226, 227, 226, 225, 226, 226, 226, 228, 228, 225, 220, 209, 193,\n       179, 163, 148], dtype=uint8), array([4.68352392])], [array([224, 226, 225, 224, 224, 225, 224, 222, 224, 223, 222, 225, 224,\n       223, 224, 225, 225, 223, 226, 224, 222, 220, 221, 221, 226, 224,\n       224, 221, 225, 223, 223, 222, 220, 217, 219, 221, 225, 223, 225,\n       225, 228, 228, 227, 225, 225, 223, 223, 222, 219, 218, 217, 212,\n       201, 190, 178, 171, 174, 185, 195, 202, 203, 203, 207, 206, 203,\n       204, 204, 203, 204, 202, 206, 210, 211, 213, 211, 209, 211, 211,\n       212, 217, 219, 222, 219, 222, 218, 221, 219, 218, 219, 222, 224,\n       222, 222, 220, 219, 225, 228, 227, 225, 224, 225, 225, 225, 225,\n       225, 224, 226, 226, 224, 223, 225, 225, 225, 226, 226, 225, 224,\n       223, 227, 227], dtype=uint8), array([3.48806279])], [array([206, 207, 207, 210, 211, 213, 218, 218, 217, 219, 220, 220, 223,\n       220, 220, 220, 222, 224, 223, 220, 224, 226, 224, 223, 225, 224,\n       222, 222, 221, 226, 224, 225, 225, 225, 223, 224, 227, 226, 225,\n       224, 226, 226, 224, 224, 223, 224, 222, 221, 224, 223, 224, 224,\n       225, 225, 225, 224, 224, 225, 227, 224, 225, 225, 224, 225, 224,\n       223, 223, 230, 226, 227, 224, 222, 216, 200, 177, 163, 154, 142,\n       142, 163, 178, 180, 181, 180, 180, 183, 186, 190, 192, 196, 201,\n       204, 208, 208, 211, 210, 212, 211, 213, 215, 217, 221, 223, 225,\n       226, 225, 223, 225, 225, 227, 224, 225, 224, 222, 227, 225, 227,\n       227, 226, 225], dtype=uint8), array([5.52762087])], [array([222, 222, 222, 223, 223, 223, 225, 224, 223, 222, 221, 222, 221,\n       222, 225, 225, 223, 221, 222, 223, 222, 222, 222, 223, 226, 226,\n       224, 224, 223, 223, 224, 225, 223, 221, 223, 221, 220, 223, 223,\n       220, 216, 205, 189, 179, 181, 189, 203, 213, 217, 219, 222, 223,\n       222, 221, 219, 211, 199, 182, 170, 163, 153, 146, 151, 162, 168,\n       168, 168, 168, 168, 169, 172, 175, 179, 184, 190, 195, 198, 199,\n       201, 203, 206, 208, 211, 210, 213, 216, 216, 218, 218, 219, 220,\n       220, 220, 218, 219, 223, 220, 219, 220, 222, 222, 222, 222, 220,\n       223, 224, 222, 223, 224, 227, 225, 223, 223, 225, 221, 226, 225,\n       223, 223, 224], dtype=uint8), array([5.24173503])], [array([223, 225, 223, 221, 220, 222, 223, 224, 220, 222, 222, 223, 223,\n       220, 219, 219, 221, 223, 221, 220, 217, 225, 225, 220, 216, 208,\n       204, 199, 199, 201, 208, 212, 215, 219, 222, 220, 221, 221, 220,\n       218, 220, 218, 220, 221, 221, 222, 223, 218, 218, 218, 219, 215,\n       216, 214, 214, 213, 214, 211, 208, 206, 204, 196, 196, 197, 191,\n       188, 186, 186, 185, 182, 184, 179, 177, 168, 154, 149, 157, 160,\n       174, 192, 204, 212, 215, 220, 223, 220, 219, 220, 219, 220, 222,\n       220, 218, 218, 219, 217, 218, 221, 219, 218, 220, 215, 222, 224,\n       221, 221, 221, 221, 222, 224, 226, 223, 222, 227, 222, 223, 221,\n       222, 225, 218], dtype=uint8), array([4.75818342])], [array([215, 214, 216, 219, 219, 219, 218, 217, 218, 216, 216, 218, 217,\n       217, 220, 220, 216, 214, 216, 218, 218, 217, 218, 217, 221, 221,\n       222, 221, 219, 221, 217, 217, 218, 224, 216, 216, 217, 216, 222,\n       217, 219, 217, 220, 220, 219, 222, 221, 220, 223, 223, 220, 223,\n       223, 223, 220, 219, 215, 204, 189, 176, 170, 172, 178, 184, 186,\n       185, 183, 183, 184, 183, 183, 183, 186, 192, 194, 197, 202, 206,\n       209, 211, 212, 210, 211, 214, 217, 219, 220, 216, 217, 220, 222,\n       221, 220, 224, 219, 221, 223, 222, 224, 222, 219, 225, 221, 224,\n       221, 220, 220, 220, 219, 221, 224, 221, 214, 214, 212, 210, 207,\n       205, 206, 207], dtype=uint8), array([3.84824603])], [array([215, 213, 212, 211, 213, 215, 213, 215, 215, 213, 212, 214, 212,\n       209, 207, 204, 210, 209, 212, 211, 209, 212, 207, 209, 212, 212,\n       210, 211, 211, 212, 211, 211, 211, 211, 213, 213, 212, 213, 210,\n       213, 213, 212, 215, 212, 215, 217, 216, 215, 215, 217, 215, 215,\n       215, 218, 219, 219, 218, 216, 216, 215, 212, 207, 204, 193, 183,\n       177, 169, 159, 149, 144, 150, 157, 157, 152, 150, 149, 150, 149,\n       151, 153, 160, 161, 164, 167, 171, 175, 177, 182, 184, 188, 191,\n       191, 196, 203, 203, 205, 207, 210, 211, 209, 213, 214, 213, 214,\n       215, 214, 216, 216, 215, 215, 216, 217, 216, 220, 216, 218, 218,\n       220, 218, 220], dtype=uint8), array([6.3266849])], [array([172, 176, 180, 183, 183, 183, 189, 189, 190, 190, 192, 194, 192,\n       192, 194, 196, 197, 199, 197, 199, 202, 206, 206, 207, 207, 208,\n       210, 212, 212, 213, 213, 212, 213, 211, 209, 208, 212, 212, 214,\n       216, 215, 216, 215, 214, 214, 215, 215, 213, 216, 216, 218, 214,\n       212, 208, 209, 204, 198, 189, 173, 171, 172, 180, 190, 195, 195,\n       195, 194, 191, 191, 187, 190, 189, 173, 153, 138, 132, 125, 119,\n       129, 146, 159, 166, 169, 171, 175, 177, 181, 185, 189, 191, 191,\n       195, 199, 202, 204, 206, 206, 209, 209, 207, 210, 212, 214, 214,\n       214, 216, 218, 215, 218, 218, 217, 224, 218, 220, 219, 216, 217,\n       217, 220, 215], dtype=uint8), array([5.48232787])], [array([174, 177, 174, 178, 179, 183, 181, 182, 183, 186, 184, 186, 186,\n       187, 188, 192, 190, 196, 193, 197, 191, 196, 201, 197, 200, 199,\n       203, 203, 199, 201, 206, 203, 203, 208, 203, 204, 200, 199, 199,\n       207, 207, 203, 211, 210, 208, 211, 204, 207, 208, 209, 208, 209,\n       213, 208, 212, 208, 213, 209, 211, 207, 210, 209, 211, 210, 210,\n       214, 212, 212, 214, 212, 220, 220, 215, 218, 210, 201, 184, 163,\n       151, 147, 159, 168, 172, 170, 173, 169, 167, 169, 168, 170, 176,\n       177, 178, 179, 179, 188, 187, 188, 195, 191, 197, 197, 201, 203,\n       205, 207, 207, 205, 212, 210, 211, 211, 214, 215, 214, 211, 213,\n       213, 216, 218], dtype=uint8), array([4.22418291])], [array([224, 227, 224, 224, 226, 226, 227, 228, 227, 226, 222, 226, 227,\n       230, 227, 226, 226, 225, 222, 224, 224, 222, 226, 223, 221, 225,\n       227, 225, 225, 225, 223, 227, 226, 227, 225, 222, 223, 226, 224,\n       226, 227, 224, 228, 228, 227, 227, 226, 228, 228, 224, 226, 223,\n       225, 226, 224, 227, 225, 225, 227, 228, 227, 228, 227, 226, 226,\n       223, 225, 225, 225, 228, 228, 227, 227, 226, 224, 226, 221, 223,\n       225, 228, 226, 224, 225, 228, 227, 225, 227, 228, 227, 226, 229,\n       227, 226, 226, 233, 228, 228, 228, 227, 227, 228, 226, 225, 228,\n       226, 225, 227, 225, 222, 222, 227, 226, 226, 228, 227, 224, 225,\n       227, 229, 226], dtype=uint8), array([0.])], [array([221, 223, 223, 222, 222, 221, 221, 221, 222, 223, 222, 224, 222,\n       222, 220, 220, 224, 218, 221, 222, 219, 218, 220, 218, 221, 222,\n       219, 220, 225, 225, 221, 220, 223, 220, 221, 220, 224, 224, 223,\n       222, 221, 223, 223, 219, 219, 221, 224, 224, 224, 223, 224, 221,\n       223, 221, 224, 225, 225, 224, 222, 227, 225, 225, 223, 222, 222,\n       218, 212, 197, 184, 172, 170, 177, 181, 187, 187, 184, 186, 187,\n       189, 191, 194, 197, 198, 202, 207, 207, 209, 210, 212, 214, 213,\n       219, 215, 217, 222, 222, 218, 219, 220, 222, 222, 219, 222, 225,\n       225, 222, 223, 223, 223, 226, 225, 224, 222, 222, 225, 223, 226,\n       223, 224, 225], dtype=uint8), array([3.71157107])], [array([223, 223, 222, 225, 224, 222, 220, 221, 221, 219, 222, 224, 222,\n       224, 220, 222, 224, 223, 220, 222, 221, 222, 221, 221, 222, 222,\n       225, 223, 223, 221, 220, 221, 224, 222, 221, 224, 216, 217, 218,\n       216, 210, 212, 206, 210, 210, 210, 211, 212, 217, 220, 219, 218,\n       220, 220, 215, 220, 221, 223, 221, 220, 222, 224, 217, 217, 215,\n       212, 213, 212, 211, 207, 201, 189, 171, 154, 151, 149, 156, 173,\n       183, 188, 189, 192, 194, 193, 198, 200, 201, 205, 208, 210, 213,\n       217, 217, 217, 220, 220, 220, 218, 222, 221, 220, 222, 223, 224,\n       225, 222, 221, 220, 224, 223, 224, 225, 221, 221, 224, 226, 220,\n       220, 220, 223], dtype=uint8), array([4.08382213])], [array([226, 224, 226, 225, 221, 224, 224, 223, 221, 222, 222, 225, 226,\n       224, 224, 225, 223, 223, 225, 224, 224, 222, 222, 221, 222, 223,\n       224, 224, 225, 222, 220, 219, 219, 222, 224, 225, 219, 222, 219,\n       220, 219, 216, 216, 211, 208, 204, 203, 195, 175, 162, 154, 162,\n       181, 202, 213, 215, 217, 220, 222, 225, 223, 222, 224, 227, 227,\n       228, 224, 222, 224, 224, 224, 223, 223, 221, 222, 223, 221, 223,\n       227, 225, 227, 228, 227, 225, 225, 226, 226, 226, 226, 228, 227,\n       225, 224, 224, 227, 224, 225, 222, 223, 222, 222, 223, 223, 224,\n       220, 217, 221, 220, 217, 214, 210, 210, 207, 203, 193, 185, 175,\n       170, 171, 173], dtype=uint8), array([3.69767209])], [array([217, 216, 214, 217, 214, 215, 217, 218, 215, 217, 216, 217, 220,\n       217, 222, 218, 218, 220, 218, 211, 200, 190, 182, 175, 177, 182,\n       185, 185, 182, 180, 173, 168, 164, 162, 160, 158, 158, 155, 154,\n       154, 154, 155, 161, 169, 172, 176, 185, 190, 186, 191, 191, 190,\n       193, 194, 192, 192, 198, 201, 197, 202, 204, 203, 206, 209, 211,\n       211, 209, 209, 208, 204, 196, 180, 165, 155, 154, 162, 175, 172,\n       174, 175, 173, 173, 170, 170, 174, 174, 181, 179, 183, 183, 186,\n       188, 192, 194, 195, 196, 202, 203, 205, 206, 207, 206, 211, 211,\n       212, 212, 215, 212, 215, 217, 215, 217, 215, 217, 217, 219, 217,\n       214, 218, 221], dtype=uint8), array([4.18255064])], [array([221, 220, 222, 225, 222, 222, 223, 224, 223, 223, 228, 225, 222,\n       220, 223, 224, 223, 222, 221, 223, 225, 223, 221, 221, 221, 221,\n       221, 222, 218, 221, 217, 222, 221, 222, 220, 221, 220, 221, 219,\n       219, 218, 221, 218, 212, 214, 216, 214, 213, 211, 208, 206, 204,\n       203, 201, 196, 196, 193, 189, 187, 181, 182, 181, 179, 174, 176,\n       177, 180, 180, 162, 137, 142, 163, 172, 156, 141, 156, 184, 196,\n       197, 199, 200, 208, 207, 208, 210, 211, 213, 215, 215, 220, 219,\n       217, 222, 218, 219, 225, 222, 223, 224, 221, 221, 221, 222, 222,\n       221, 216, 222, 221, 221, 221, 220, 222, 222, 219, 218, 218, 218,\n       220, 223, 223], dtype=uint8), array([9.01671984])], [array([192, 193, 191, 191, 193, 192, 195, 193, 194, 193, 195, 195, 194,\n       194, 192, 191, 193, 191, 190, 192, 192, 190, 191, 190, 192, 188,\n       186, 187, 185, 187, 188, 185, 183, 186, 188, 185, 181, 185, 186,\n       187, 185, 187, 185, 185, 180, 178, 164, 153, 145, 146, 147, 151,\n       156, 162, 168, 167, 171, 175, 176, 175, 177, 177, 171, 160, 154,\n       159, 161, 154, 168, 186, 200, 210, 211, 211, 214, 216, 217, 218,\n       217, 218, 215, 215, 217, 217, 220, 218, 217, 222, 219, 214, 214,\n       214, 216, 217, 215, 214, 214, 217, 213, 213, 216, 215, 215, 216,\n       215, 216, 216, 214, 216, 216, 215, 216, 217, 216, 214, 214, 215,\n       215, 215, 214], dtype=uint8), array([6.47364817])], [array([217, 216, 215, 216, 215, 214, 214, 213, 216, 216, 215, 213, 214,\n       219, 216, 218, 214, 216, 217, 215, 214, 215, 214, 219, 215, 213,\n       215, 215, 215, 214, 214, 218, 217, 218, 213, 212, 213, 212, 217,\n       216, 216, 215, 216, 216, 216, 217, 216, 218, 215, 216, 218, 217,\n       218, 214, 219, 217, 220, 220, 220, 219, 217, 220, 221, 221, 218,\n       219, 220, 221, 218, 215, 209, 193, 176, 169, 157, 167, 181, 184,\n       184, 183, 185, 185, 185, 189, 189, 188, 189, 193, 193, 196, 196,\n       198, 200, 199, 200, 207, 203, 208, 208, 209, 210, 213, 214, 214,\n       216, 218, 216, 215, 213, 214, 215, 213, 217, 218, 215, 217, 217,\n       216, 216, 219], dtype=uint8), array([4.51710674])], [array([228, 223, 226, 230, 223, 223, 227, 224, 228, 225, 227, 226, 226,\n       224, 222, 222, 223, 225, 224, 222, 222, 222, 220, 222, 221, 221,\n       223, 224, 223, 223, 222, 222, 224, 224, 230, 224, 223, 223, 223,\n       224, 228, 225, 225, 223, 224, 222, 226, 227, 224, 224, 225, 224,\n       223, 224, 225, 225, 224, 226, 227, 226, 227, 226, 224, 223, 226,\n       226, 225, 226, 227, 227, 224, 222, 220, 211, 202, 193, 192, 202,\n       204, 205, 206, 207, 209, 210, 212, 215, 217, 217, 216, 218, 218,\n       221, 222, 221, 218, 223, 219, 221, 224, 223, 223, 225, 223, 224,\n       224, 225, 225, 225, 224, 225, 225, 221, 222, 224, 224, 224, 222,\n       223, 223, 224], dtype=uint8), array([4.88037655])], [array([228, 229, 225, 224, 227, 224, 225, 226, 224, 225, 224, 223, 225,\n       225, 225, 223, 224, 224, 225, 225, 223, 225, 224, 222, 224, 223,\n       223, 220, 222, 225, 223, 221, 222, 224, 223, 224, 226, 226, 224,\n       224, 226, 224, 224, 222, 218, 221, 223, 221, 222, 221, 221, 222,\n       221, 221, 219, 221, 222, 221, 218, 217, 217, 211, 214, 214, 213,\n       215, 216, 215, 214, 217, 219, 220, 222, 221, 217, 216, 213, 213,\n       215, 215, 219, 218, 218, 220, 220, 219, 220, 217, 218, 210, 210,\n       213, 217, 222, 222, 223, 221, 224, 224, 219, 223, 221, 222, 219,\n       217, 218, 221, 223, 225, 222, 222, 224, 226, 223, 221, 220, 221,\n       221, 221, 217], dtype=uint8), array([4.75318777])], [array([221, 220, 221, 219, 221, 222, 221, 225, 223, 223, 224, 224, 223,\n       221, 218, 219, 218, 217, 218, 216, 215, 219, 215, 213, 210, 213,\n       210, 207, 204, 201, 199, 197, 197, 195, 193, 192, 188, 184, 184,\n       182, 182, 179, 179, 178, 182, 182, 181, 176, 159, 146, 150, 169,\n       187, 206, 216, 216, 214, 219, 216, 217, 220, 222, 222, 220, 218,\n       220, 222, 221, 223, 221, 223, 224, 224, 223, 223, 221, 221, 219,\n       218, 222, 219, 217, 223, 222, 221, 219, 223, 221, 219, 219, 222,\n       219, 221, 222, 221, 220, 221, 221, 220, 218, 220, 219, 219, 218,\n       222, 224, 219, 216, 220, 217, 219, 219, 213, 217, 218, 224, 221,\n       219, 219, 219], dtype=uint8), array([4.67930649])], [array([221, 220, 220, 222, 221, 220, 221, 219, 221, 219, 222, 220, 223,\n       223, 219, 221, 223, 224, 219, 221, 223, 219, 224, 222, 219, 221,\n       219, 220, 220, 218, 218, 218, 216, 219, 221, 220, 219, 216, 215,\n       216, 216, 219, 219, 217, 218, 217, 214, 219, 220, 217, 218, 218,\n       216, 215, 213, 214, 211, 211, 207, 209, 208, 207, 206, 206, 202,\n       200, 197, 188, 179, 175, 183, 193, 200, 203, 201, 201, 203, 206,\n       206, 209, 208, 208, 210, 212, 213, 215, 217, 214, 216, 219, 218,\n       219, 221, 219, 220, 220, 217, 219, 220, 222, 222, 221, 223, 219,\n       221, 225, 224, 223, 220, 220, 222, 223, 222, 221, 221, 221, 220,\n       222, 220, 223], dtype=uint8), array([3.66342182])], [array([197, 195, 200, 199, 196, 196, 198, 198, 199, 198, 198, 197, 198,\n       199, 199, 198, 198, 194, 194, 197, 198, 197, 196, 198, 200, 198,\n       198, 195, 195, 199, 198, 196, 198, 197, 196, 194, 195, 195, 198,\n       199, 195, 198, 197, 197, 199, 196, 197, 196, 197, 197, 197, 201,\n       199, 194, 196, 195, 196, 194, 194, 195, 194, 194, 193, 191, 191,\n       189, 187, 183, 182, 178, 169, 150, 131, 128, 135, 127, 103,  87,\n        93, 105, 102, 102, 107, 112, 118, 121, 123, 125, 126, 130, 137,\n       139, 143, 148, 150, 151, 154, 158, 159, 162, 164, 166, 169, 171,\n       174, 176, 179, 181, 183, 185, 183, 187, 188, 191, 194, 194, 194,\n       195, 197, 196], dtype=uint8), array([11.24816955])], [array([201, 204, 206, 205, 206, 204, 200, 202, 204, 205, 207, 202, 205,\n       203, 206, 202, 200, 201, 201, 200, 194, 195, 195, 191, 190, 191,\n       188, 183, 185, 184, 182, 178, 178, 176, 174, 171, 171, 170, 167,\n       166, 167, 169, 170, 171, 173, 178, 177, 177, 178, 174, 157, 146,\n       151, 171, 188, 195, 202, 207, 206, 206, 207, 209, 207, 208, 206,\n       206, 206, 209, 209, 206, 206, 206, 203, 204, 203, 206, 205, 204,\n       198, 199, 200, 200, 203, 202, 202, 204, 200, 202, 202, 200, 204,\n       201, 198, 200, 201, 200, 201, 201, 201, 202, 202, 202, 200, 201,\n       201, 201, 203, 201, 199, 201, 204, 203, 200, 198, 200, 201, 201,\n       200, 203, 201], dtype=uint8), array([5.29607184])], [array([205, 203, 207, 206, 206, 205, 205, 202, 202, 205, 205, 206, 205,\n       205, 204, 204, 203, 204, 206, 202, 201, 200, 200, 203, 198, 197,\n       196, 194, 195, 194, 188, 187, 186, 184, 180, 179, 176, 174, 172,\n       170, 166, 162, 163, 161, 157, 157, 158, 161, 157, 158, 162, 160,\n       155, 140, 126, 132, 148, 169, 190, 202, 209, 206, 206, 210, 209,\n       208, 208, 209, 209, 208, 206, 205, 205, 208, 208, 208, 204, 205,\n       203, 204, 201, 202, 202, 205, 204, 204, 201, 201, 201, 201, 201,\n       201, 200, 199, 198, 197, 195, 190, 196, 196, 196, 197, 196, 195,\n       196, 197, 194, 193, 192, 194, 196, 199, 197, 199, 201, 203, 202,\n       200, 201, 200], dtype=uint8), array([5.46791157])], [array([206, 206, 203, 202, 206, 206, 202, 204, 200, 205, 203, 203, 204,\n       205, 203, 205, 203, 206, 200, 202, 202, 200, 201, 197, 195, 197,\n       195, 196, 194, 192, 189, 190, 186, 185, 186, 183, 180, 179, 177,\n       176, 173, 169, 169, 168, 167, 163, 161, 161, 159, 157, 162, 164,\n       165, 169, 166, 166, 157, 144, 140, 157, 175, 188, 197, 204, 206,\n       210, 210, 209, 210, 212, 209, 208, 206, 206, 205, 205, 207, 207,\n       209, 205, 204, 204, 204, 205, 205, 203, 203, 201, 205, 205, 205,\n       202, 204, 206, 206, 205, 205, 207, 202, 206, 204, 207, 205, 207,\n       208, 206, 204, 205, 201, 203, 205, 205, 205, 205, 203, 205, 203,\n       203, 204, 203], dtype=uint8), array([5.45620238])], [array([223, 224, 225, 224, 224, 224, 223, 220, 221, 224, 222, 221, 224,\n       221, 220, 223, 223, 224, 222, 222, 224, 223, 223, 224, 225, 225,\n       223, 226, 225, 222, 223, 219, 218, 222, 224, 225, 226, 224, 222,\n       221, 221, 221, 221, 220, 222, 223, 224, 224, 222, 223, 226, 226,\n       226, 225, 224, 225, 223, 225, 225, 224, 227, 226, 224, 225, 225,\n       223, 223, 226, 226, 225, 227, 225, 222, 220, 216, 215, 217, 218,\n       219, 222, 224, 223, 225, 224, 225, 227, 228, 225, 224, 227, 226,\n       223, 224, 227, 226, 225, 225, 221, 221, 225, 227, 226, 224, 225,\n       226, 226, 224, 224, 225, 223, 222, 222, 222, 226, 227, 225, 225,\n       224, 224, 225], dtype=uint8), array([0.])], [array([205, 207, 215, 215, 216, 222, 222, 222, 220, 218, 223, 223, 223,\n       223, 226, 226, 227, 225, 226, 225, 227, 225, 226, 226, 225, 227,\n       228, 226, 228, 226, 229, 226, 230, 227, 228, 227, 232, 231, 229,\n       226, 232, 230, 231, 224, 230, 233, 229, 231, 229, 229, 228, 228,\n       227, 227, 227, 226, 229, 229, 227, 226, 225, 227, 222, 223, 221,\n       220, 219, 216, 212, 197, 165, 135, 119, 123, 126, 108,  87,  84,\n        91, 104, 107, 115, 125, 132, 136, 142, 149, 153, 160, 165, 165,\n       169, 175, 178, 185, 187, 192, 195, 196, 199, 206, 210, 212, 213,\n       215, 217, 217, 219, 221, 222, 221, 223, 222, 226, 226, 226, 226,\n       225, 222, 225], dtype=uint8), array([11.65322989])], [array([229, 225, 226, 224, 223, 226, 232, 230, 229, 228, 229, 227, 228,\n       226, 225, 228, 226, 225, 225, 225, 226, 227, 227, 223, 224, 227,\n       226, 227, 230, 229, 227, 225, 226, 227, 229, 233, 231, 227, 229,\n       225, 223, 223, 227, 222, 223, 224, 225, 227, 228, 230, 229, 227,\n       225, 224, 225, 224, 223, 225, 223, 221, 222, 218, 218, 213, 211,\n       205, 198, 192, 190, 184, 170, 144, 127, 129, 127, 122, 110, 100,\n       106, 119, 136, 150, 156, 158, 164, 169, 175, 179, 180, 185, 188,\n       193, 197, 201, 202, 200, 207, 208, 213, 214, 215, 216, 218, 223,\n       222, 223, 224, 221, 226, 225, 224, 223, 226, 226, 228, 230, 228,\n       225, 223, 225], dtype=uint8), array([11.24816955])], [array([226, 227, 226, 225, 224, 226, 226, 228, 226, 227, 230, 230, 228,\n       230, 231, 228, 229, 227, 226, 225, 226, 226, 225, 226, 228, 228,\n       230, 228, 229, 229, 225, 227, 226, 225, 227, 227, 225, 226, 229,\n       224, 227, 225, 224, 222, 222, 221, 220, 224, 220, 218, 217, 215,\n       211, 209, 210, 207, 203, 197, 184, 172, 164, 155, 147, 149, 150,\n       141, 134, 139, 152, 165, 186, 203, 211, 216, 218, 221, 219, 219,\n       217, 221, 223, 225, 223, 221, 223, 224, 224, 222, 225, 222, 222,\n       221, 223, 225, 225, 228, 224, 224, 225, 223, 222, 223, 229, 227,\n       224, 225, 226, 225, 225, 226, 220, 224, 224, 228, 225, 223, 223,\n       225, 225, 221], dtype=uint8), array([5.29607184])], [array([229, 231, 233, 230, 232, 231, 229, 230, 231, 227, 228, 228, 228,\n       230, 229, 229, 228, 230, 231, 229, 230, 232, 229, 228, 229, 230,\n       230, 229, 228, 227, 231, 230, 230, 233, 231, 228, 231, 230, 233,\n       228, 225, 229, 225, 228, 228, 231, 225, 225, 226, 224, 222, 212,\n       201, 183, 163, 149, 144, 156, 172, 181, 187, 190, 193, 193, 196,\n       201, 205, 211, 210, 211, 215, 216, 220, 222, 225, 227, 231, 229,\n       229, 225, 226, 227, 228, 228, 226, 228, 226, 228, 233, 232, 227,\n       231, 228, 227, 225, 226, 229, 227, 225, 226, 225, 225, 226, 226,\n       225, 222, 219, 222, 224, 224, 226, 228, 228, 226, 231, 230, 231,\n       230, 231, 230], dtype=uint8), array([5.46791157])], [array([228, 225, 225, 227, 227, 224, 223, 226, 229, 227, 228, 229, 229,\n       227, 228, 227, 228, 227, 228, 229, 227, 227, 226, 227, 228, 228,\n       229, 226, 224, 226, 224, 224, 225, 225, 224, 222, 224, 226, 225,\n       226, 230, 230, 234, 228, 227, 229, 229, 229, 225, 226, 224, 226,\n       226, 223, 213, 200, 181, 157, 140, 127, 132, 148, 167, 173, 177,\n       182, 182, 180, 187, 192, 198, 201, 205, 207, 210, 216, 218, 223,\n       223, 222, 221, 227, 227, 226, 225, 227, 225, 226, 227, 228, 223,\n       222, 228, 227, 227, 230, 232, 230, 225, 224, 228, 230, 226, 226,\n       224, 227, 226, 230, 229, 231, 228, 228, 230, 230, 231, 230, 229,\n       232, 230, 230], dtype=uint8), array([5.45620238])], [array([230, 229, 230, 230, 231, 230, 229, 230, 230, 233, 231, 230, 229,\n       230, 233, 232, 231, 230, 229, 228, 228, 230, 232, 232, 232, 233,\n       232, 232, 230, 232, 231, 230, 231, 230, 226, 229, 232, 230, 231,\n       233, 229, 229, 227, 231, 231, 230, 229, 230, 231, 231, 232, 231,\n       235, 230, 234, 230, 228, 229, 226, 229, 228, 229, 232, 232, 229,\n       227, 232, 234, 236, 233, 233, 231, 230, 225, 220, 219, 221, 222,\n       225, 225, 228, 229, 226, 224, 224, 227, 230, 231, 228, 229, 232,\n       231, 232, 231, 230, 234, 232, 229, 228, 230, 231, 232, 235, 231,\n       232, 233, 232, 230, 235, 234, 237, 232, 233, 231, 230, 231, 232,\n       232, 225, 217], dtype=uint8), array([3.54463004])], [array([208, 209, 206, 201, 204, 207, 205, 206, 206, 209, 208, 206, 208,\n       209, 212, 214, 213, 212, 210, 210, 211, 210, 211, 210, 210, 209,\n       208, 215, 211, 204, 211, 212, 210, 210, 210, 210, 211, 208, 210,\n       211, 211, 211, 211, 212, 210, 208, 213, 213, 210, 209, 210, 208,\n       206, 205, 204, 201, 201, 200, 199, 196, 194, 190, 185, 184, 181,\n       179, 178, 173, 169, 166, 163, 159, 160, 161, 160, 159, 149, 129,\n       124, 151, 172, 193, 208, 212, 215, 215, 217, 217, 212, 214, 211,\n       209, 209, 209, 209, 208, 207, 205, 204, 204, 206, 207, 206, 203,\n       201, 201, 202, 203, 204, 203, 203, 200, 199, 199, 200, 200, 197,\n       198, 197, 195], dtype=uint8), array([4.51179147])], [array([222, 221, 221, 224, 226, 220, 227, 226, 229, 225, 223, 225, 224,\n       221, 221, 224, 224, 223, 221, 219, 220, 220, 221, 217, 222, 222,\n       220, 220, 222, 223, 221, 221, 219, 218, 219, 214, 215, 211, 213,\n       209, 209, 209, 207, 208, 205, 206, 204, 204, 198, 201, 199, 197,\n       199, 198, 197, 197, 195, 195, 193, 189, 189, 182, 172, 166, 167,\n       177, 193, 207, 216, 223, 223, 223, 224, 222, 222, 224, 221, 216,\n       218, 213, 213, 212, 211, 214, 215, 210, 210, 213, 213, 212, 212,\n       210, 208, 208, 209, 211, 208, 210, 204, 206, 207, 208, 208, 207,\n       209, 208, 204, 204, 206, 210, 209, 210, 210, 207, 210, 209, 211,\n       211, 209, 208], dtype=uint8), array([4.37560143])], [array([223, 224, 223, 222, 221, 223, 220, 220, 219, 218, 218, 215, 212,\n       213, 215, 215, 220, 217, 217, 218, 221, 218, 219, 218, 218, 220,\n       220, 219, 219, 222, 216, 214, 218, 217, 216, 217, 214, 214, 213,\n       212, 212, 212, 211, 212, 217, 212, 214, 215, 213, 212, 211, 209,\n       209, 209, 206, 203, 205, 205, 200, 198, 197, 194, 194, 193, 191,\n       187, 183, 180, 178, 174, 171, 174, 177, 182, 175, 172, 152, 129,\n       132, 152, 175, 196, 213, 218, 215, 217, 215, 214, 212, 214, 211,\n       211, 211, 207, 208, 208, 207, 204, 203, 202, 206, 200, 204, 201,\n       204, 204, 202, 201, 201, 204, 204, 205, 205, 202, 199, 204, 202,\n       201, 201, 201], dtype=uint8), array([3.95002995])], [array([210, 211, 210, 208, 209, 207, 209, 210, 210, 209, 209, 211, 209,\n       210, 204, 206, 207, 205, 206, 207, 207, 207, 207, 206, 207, 204,\n       208, 207, 208, 208, 207, 206, 208, 206, 204, 209, 206, 203, 205,\n       206, 208, 205, 203, 203, 206, 205, 203, 204, 205, 205, 207, 205,\n       205, 202, 203, 201, 200, 198, 194, 192, 192, 188, 185, 182, 180,\n       182, 181, 177, 173, 173, 169, 167, 167, 162, 153, 149, 158, 179,\n       196, 208, 212, 211, 214, 212, 207, 210, 212, 205, 204, 203, 198,\n       196, 195, 190, 192, 190, 187, 184, 181, 182, 180, 182, 186, 187,\n       190, 193, 197, 197, 197, 197, 195, 198, 193, 193, 196, 193, 194,\n       190, 190, 192], dtype=uint8), array([3.53048839])], [array([181, 182, 181, 179, 179, 179, 175, 175, 174, 175, 174, 172, 171,\n       168, 166, 169, 168, 169, 168, 170, 163, 161, 160, 155, 151, 151,\n       153, 153, 152, 152, 154, 159, 157, 158, 155, 153, 154, 157, 166,\n       174, 177, 179, 181, 184, 183, 177, 173, 174, 173, 175, 179, 176,\n       180, 181, 183, 186, 187, 187, 183, 184, 181, 175, 168, 157, 147,\n       151, 169, 193, 204, 209, 211, 214, 213, 212, 214, 215, 214, 212,\n       215, 213, 211, 212, 212, 210, 208, 208, 207, 207, 205, 208, 208,\n       212, 213, 209, 209, 206, 204, 203, 202, 202, 204, 205, 203, 206,\n       205, 206, 208, 207, 204, 206, 200, 199, 192, 180, 165, 160, 166,\n       178, 188, 195], dtype=uint8), array([3.67640104])], [array([202, 204, 203, 202, 202, 201, 198, 202, 200, 200, 202, 198, 200,\n       198, 202, 198, 198, 203, 201, 200, 205, 199, 198, 201, 201, 202,\n       201, 199, 201, 202, 199, 201, 199, 196, 196, 199, 198, 197, 195,\n       194, 194, 193, 187, 184, 184, 176, 177, 172, 168, 166, 162, 158,\n       155, 152, 148, 145, 142, 139, 134, 132, 127, 121, 114, 109, 107,\n       105, 100,  95,  93, 105, 121, 137, 152, 166, 170, 177, 193, 211,\n       224, 224, 227, 226, 226, 225, 224, 222, 223, 221, 215, 216, 219,\n       216, 214, 214, 212, 207, 205, 208, 204, 201, 199, 198, 198, 197,\n       194, 197, 193, 195, 195, 193, 191, 189, 190, 192, 193, 194, 194,\n       198, 193, 191], dtype=uint8), array([8.97995119])], [array([210, 211, 210, 208, 207, 208, 210, 207, 205, 206, 205, 205, 205,\n       200, 203, 205, 202, 201, 202, 203, 200, 200, 198, 201, 202, 202,\n       199, 197, 198, 197, 193, 194, 198, 195, 199, 194, 195, 196, 194,\n       196, 196, 196, 196, 195, 194, 193, 188, 183, 177, 163, 144, 130,\n       126, 128, 144, 162, 169, 172, 173, 176, 179, 179, 177, 179, 183,\n       186, 187, 191, 190, 191, 197, 194, 193, 197, 196, 197, 196, 195,\n       197, 199, 200, 200, 198, 196, 197, 196, 198, 197, 200, 198, 200,\n       199, 198, 198, 198, 198, 199, 199, 201, 201, 199, 199, 196, 194,\n       198, 194, 198, 198, 199, 197, 201, 199, 197, 196, 198, 197, 194,\n       197, 198, 196], dtype=uint8), array([5.35827466])], [array([203, 203, 206, 202, 206, 207, 206, 207, 209, 209, 209, 210, 211,\n       211, 209, 209, 212, 212, 215, 214, 213, 213, 214, 210, 213, 214,\n       212, 210, 214, 214, 212, 211, 213, 214, 211, 209, 206, 207, 205,\n       205, 207, 204, 205, 209, 210, 209, 209, 210, 210, 209, 215, 214,\n       213, 215, 215, 214, 214, 214, 213, 215, 210, 208, 208, 209, 203,\n       202, 200, 197, 191, 178, 164, 160, 165, 169, 162, 142, 131, 125,\n       124, 128, 133, 139, 140, 143, 146, 146, 149, 151, 155, 154, 156,\n       156, 158, 160, 163, 164, 163, 166, 165, 165, 166, 169, 169, 172,\n       172, 171, 170, 175, 173, 171, 173, 170, 169, 167, 168, 170, 173,\n       174, 177, 176], dtype=uint8), array([8.97995119])], [array([168, 170, 171, 170, 170, 177, 176, 175, 179, 178, 178, 179, 179,\n       180, 182, 181, 177, 181, 182, 181, 182, 183, 182, 182, 182, 181,\n       180, 176, 177, 180, 179, 174, 171, 175, 175, 173, 172, 169, 167,\n       168, 168, 169, 170, 166, 169, 171, 169, 165, 155, 138, 134, 147,\n       160, 175, 193, 207, 214, 214, 217, 215, 216, 216, 214, 213, 213,\n       210, 211, 212, 213, 210, 209, 210, 212, 209, 212, 208, 210, 212,\n       212, 211, 211, 211, 208, 207, 209, 206, 207, 206, 208, 207, 211,\n       210, 208, 206, 208, 209, 208, 209, 210, 212, 211, 208, 208, 209,\n       210, 207, 207, 208, 208, 207, 207, 205, 203, 206, 200, 190, 177,\n       167, 170, 179], dtype=uint8), array([5.35827466])], [array([213, 214, 215, 215, 216, 211, 215, 215, 213, 216, 218, 217, 217,\n       219, 217, 217, 217, 219, 216, 217, 217, 214, 217, 215, 213, 215,\n       217, 213, 212, 214, 213, 214, 215, 215, 214, 215, 216, 215, 216,\n       214, 209, 214, 218, 215, 214, 213, 214, 217, 209, 210, 210, 211,\n       213, 215, 211, 211, 209, 209, 210, 207, 208, 206, 206, 207, 208,\n       205, 207, 207, 208, 208, 206, 203, 200, 195, 185, 174, 165, 158,\n       165, 173, 179, 178, 177, 175, 175, 176, 173, 173, 176, 175, 173,\n       173, 173, 175, 174, 173, 171, 174, 174, 174, 172, 173, 172, 173,\n       171, 170, 168, 171, 172, 168, 169, 166, 166, 166, 166, 168, 167,\n       166, 167, 169], dtype=uint8), array([3.76287851])], [array([217, 219, 219, 220, 222, 221, 217, 218, 221, 219, 219, 216, 219,\n       218, 220, 220, 219, 219, 219, 222, 220, 222, 223, 219, 219, 216,\n       211, 212, 211, 216, 215, 212, 213, 212, 209, 210, 208, 206, 199,\n       197, 194, 196, 201, 205, 208, 206, 212, 211, 213, 213, 214, 211,\n       211, 217, 219, 220, 220, 218, 217, 220, 220, 218, 220, 222, 224,\n       223, 224, 223, 222, 222, 221, 219, 211, 206, 203, 206, 204, 204,\n       207, 204, 202, 202, 202, 201, 203, 203, 205, 207, 207, 210, 214,\n       210, 210, 214, 216, 217, 217, 216, 217, 220, 220, 221, 219, 218,\n       220, 219, 221, 219, 222, 219, 220, 220, 223, 223, 221, 220, 220,\n       220, 220, 220], dtype=uint8), array([3.04808728])], [array([216, 216, 220, 218, 219, 219, 220, 222, 220, 223, 220, 222, 221,\n       221, 220, 225, 222, 219, 225, 226, 225, 222, 222, 223, 226, 221,\n       223, 223, 225, 226, 223, 221, 224, 229, 223, 222, 223, 219, 221,\n       222, 221, 223, 225, 222, 224, 224, 223, 225, 227, 223, 224, 227,\n       225, 223, 223, 220, 223, 223, 225, 220, 224, 224, 217, 224, 223,\n       224, 225, 225, 222, 219, 215, 211, 202, 191, 178, 171, 168, 175,\n       186, 191, 191, 194, 195, 196, 198, 197, 198, 200, 203, 201, 202,\n       201, 200, 201, 204, 203, 200, 207, 208, 208, 206, 208, 206, 207,\n       206, 207, 206, 208, 204, 206, 205, 202, 202, 202, 202, 203, 199,\n       197, 196, 196], dtype=uint8), array([3.04562947])], [array([226, 225, 226, 229, 229, 229, 230, 229, 227, 226, 226, 226, 228,\n       230, 231, 229, 225, 227, 229, 227, 227, 230, 231, 229, 226, 226,\n       225, 224, 229, 225, 227, 227, 229, 228, 228, 228, 230, 227, 226,\n       227, 227, 225, 226, 226, 227, 228, 226, 224, 226, 227, 228, 223,\n       226, 223, 226, 226, 226, 225, 225, 228, 226, 224, 224, 226, 227,\n       224, 223, 223, 220, 215, 209, 202, 193, 176, 172, 174, 189, 201,\n       209, 212, 214, 218, 217, 217, 216, 218, 217, 214, 216, 215, 213,\n       215, 212, 210, 208, 207, 210, 209, 206, 206, 206, 209, 205, 206,\n       206, 205, 206, 206, 203, 200, 195, 194, 189, 185, 182, 174, 161,\n       153, 139, 131], dtype=uint8), array([3.06895321])], [array([224, 224, 224, 221, 221, 219, 218, 224, 218, 216, 217, 216, 213,\n       210, 209, 207, 203, 193, 181, 169, 157, 145, 137, 140, 145, 151,\n       158, 160, 154, 156, 162, 172, 185, 189, 195, 203, 207, 207, 211,\n       213, 211, 212, 212, 214, 216, 215, 213, 215, 213, 210, 206, 204,\n       199, 189, 183, 186, 194, 204, 213, 219, 217, 220, 218, 216, 218,\n       219, 219, 219, 220, 223, 218, 219, 220, 221, 221, 221, 223, 223,\n       223, 226, 226, 222, 221, 221, 223, 223, 224, 225, 226, 226, 226,\n       227, 223, 225, 226, 229, 228, 229, 227, 228, 223, 224, 225, 223,\n       223, 220, 220, 220, 219, 219, 219, 216, 216, 213, 213, 210, 209,\n       206, 203, 200], dtype=uint8), array([2.85702873])], [array([200, 200, 201, 200, 199, 202, 202, 198, 200, 200, 201, 200, 201,\n       201, 201, 200, 201, 201, 199, 201, 200, 201, 201, 196, 198, 204,\n       203, 202, 203, 199, 200, 201, 198, 200, 198, 200, 196, 197, 198,\n       203, 202, 199, 203, 201, 200, 202, 199, 204, 201, 196, 199, 199,\n       199, 198, 199, 201, 201, 200, 199, 201, 202, 199, 201, 204, 202,\n       203, 206, 206, 207, 209, 209, 208, 211, 213, 212, 211, 210, 205,\n       195, 182, 164, 153, 156, 164, 169, 171, 173, 174, 169, 168, 168,\n       166, 167, 166, 168, 168, 171, 175, 177, 178, 181, 182, 187, 186,\n       189, 191, 192, 197, 194, 196, 197, 200, 200, 199, 198, 195, 194,\n       200, 200, 200], dtype=uint8), array([4.51179147])], [array([216, 218, 216, 217, 219, 219, 215, 210, 210, 209, 207, 203, 202,\n       196, 195, 193, 186, 182, 183, 182, 180, 177, 175, 175, 172, 168,\n       162, 156, 149, 144, 142, 140, 144, 150, 154, 160, 163, 164, 168,\n       170, 169, 169, 169, 171, 172, 172, 177, 173, 176, 173, 174, 174,\n       175, 177, 179, 176, 176, 177, 173, 169, 156, 142, 134, 134, 133,\n       142, 153, 161, 164, 163, 162, 161, 163, 161, 156, 159, 159, 163,\n       163, 163, 165, 167, 169, 167, 169, 173, 175, 176, 179, 181, 181,\n       182, 184, 185, 184, 181, 187, 187, 189, 192, 192, 190, 191, 194,\n       194, 194, 196, 195, 197, 200, 200, 199, 201, 201, 200, 199, 198,\n       200, 203, 203], dtype=uint8), array([4.37560143])], [array([173, 170, 166, 164, 161, 160, 162, 162, 158, 160, 158, 158, 158,\n       163, 162, 162, 164, 165, 167, 164, 165, 164, 164, 166, 167, 169,\n       170, 172, 172, 172, 173, 173, 175, 177, 173, 175, 179, 180, 180,\n       181, 183, 183, 185, 183, 185, 188, 189, 190, 191, 191, 192, 190,\n       190, 190, 192, 189, 193, 192, 195, 194, 196, 193, 194, 199, 200,\n       203, 206, 205, 204, 205, 206, 207, 210, 212, 211, 211, 205, 195,\n       184, 168, 149, 147, 158, 166, 166, 171, 170, 171, 173, 170, 170,\n       173, 176, 178, 179, 181, 184, 187, 191, 190, 194, 194, 199, 200,\n       198, 203, 205, 210, 207, 209, 208, 209, 209, 209, 208, 208, 208,\n       207, 210, 212], dtype=uint8), array([3.95002995])], [array([194, 196, 198, 199, 201, 202, 203, 202, 203, 203, 203, 206, 204,\n       205, 208, 209, 210, 211, 209, 211, 211, 212, 213, 213, 211, 212,\n       213, 213, 213, 213, 217, 215, 208, 213, 211, 215, 213, 212, 216,\n       214, 213, 216, 214, 216, 219, 216, 214, 215, 215, 213, 211, 211,\n       212, 214, 215, 212, 217, 213, 217, 217, 218, 215, 211, 208, 209,\n       211, 212, 215, 218, 221, 220, 216, 215, 220, 218, 206, 195, 185,\n       178, 180, 193, 192, 194, 195, 195, 193, 190, 189, 190, 191, 191,\n       194, 195, 194, 196, 199, 206, 207, 207, 208, 211, 212, 209, 208,\n       203, 203, 202, 203, 202, 202, 202, 203, 206, 202, 206, 205, 205,\n       203, 204, 202], dtype=uint8), array([3.53048839])], [array([216, 214, 218, 218, 217, 220, 222, 220, 223, 219, 222, 222, 223,\n       223, 220, 220, 218, 215, 218, 215, 212, 208, 205, 207, 203, 203,\n       204, 203, 202, 201, 201, 202, 208, 207, 207, 208, 210, 209, 208,\n       210, 214, 216, 216, 220, 220, 222, 223, 220, 221, 220, 223, 221,\n       220, 221, 221, 219, 217, 218, 217, 212, 209, 205, 197, 187, 178,\n       172, 178, 187, 197, 202, 201, 200, 202, 203, 203, 206, 208, 207,\n       209, 209, 207, 207, 206, 205, 207, 206, 206, 205, 204, 202, 205,\n       204, 200, 201, 203, 199, 194, 192, 190, 192, 193, 194, 193, 197,\n       201, 202, 206, 206, 207, 208, 211, 209, 210, 211, 209, 210, 213,\n       213, 213, 214], dtype=uint8), array([3.67640104])], [array([211, 211, 209, 209, 210, 210, 210, 208, 209, 207, 209, 208, 208,\n       208, 210, 206, 206, 206, 205, 207, 208, 208, 205, 207, 206, 204,\n       205, 205, 206, 203, 205, 204, 203, 202, 203, 204, 202, 202, 201,\n       201, 200, 201, 197, 198, 199, 201, 200, 200, 199, 198, 195, 195,\n       196, 197, 193, 196, 195, 196, 194, 192, 183, 165, 149, 144, 144,\n       151, 165, 178, 182, 187, 191, 189, 193, 195, 194, 196, 199, 200,\n       203, 203, 203, 203, 197, 195, 198, 201, 200, 201, 206, 205, 208,\n       210, 211, 210, 210, 210, 211, 210, 211, 210, 212, 208, 206, 208,\n       211, 213, 212, 212, 213, 213, 213, 212, 214, 212, 211, 214, 214,\n       211, 211, 213], dtype=uint8), array([5.21064103])], [array([241, 243, 244, 241, 244, 245, 239, 238, 234, 235, 236, 241, 235,\n       234, 235, 236, 239, 239, 235, 236, 239, 237, 240, 238, 239, 239,\n       238, 238, 239, 239, 240, 242, 244, 242, 243, 246, 240, 242, 243,\n       245, 247, 245, 244, 244, 242, 245, 246, 245, 242, 244, 247, 242,\n       245, 246, 248, 250, 247, 247, 249, 251, 250, 248, 249, 246, 248,\n       247, 238, 214, 189, 186, 198, 197, 178, 158, 157, 162, 160, 161,\n       159, 157, 152, 156, 160, 165, 167, 174, 173, 172, 173, 180, 186,\n       186, 190, 196, 196, 199, 204, 211, 214, 213, 213, 217, 218, 224,\n       225, 227, 231, 232, 236, 239, 236, 241, 243, 243, 246, 247, 247,\n       244, 249, 248], dtype=uint8), array([8.52101685])], [array([238, 240, 238, 236, 238, 238, 237, 237, 238, 238, 239, 238, 239,\n       241, 238, 237, 240, 240, 236, 237, 241, 240, 242, 242, 242, 240,\n       241, 242, 242, 239, 238, 238, 241, 240, 240, 241, 240, 242, 241,\n       242, 245, 244, 243, 243, 243, 243, 246, 247, 247, 248, 244, 246,\n       249, 249, 249, 247, 253, 254, 251, 251, 252, 252, 250, 252, 249,\n       232, 211, 178, 169, 179, 183, 168, 147, 142, 147, 152, 156, 156,\n       152, 151, 156, 158, 159, 157, 161, 162, 167, 174, 178, 178, 179,\n       186, 191, 195, 202, 202, 209, 211, 212, 213, 215, 215, 218, 225,\n       226, 228, 232, 236, 237, 241, 234, 237, 241, 244, 243, 245, 244,\n       245, 242, 243], dtype=uint8), array([8.73503977])], [array([197, 199, 200, 199, 194, 191, 187, 186, 187, 197, 206, 213, 225,\n       226, 235, 237, 241, 244, 243, 237, 239, 241, 238, 241, 241, 242,\n       240, 238, 237, 238, 238, 237, 238, 239, 238, 242, 239, 237, 236,\n       238, 237, 238, 236, 238, 238, 235, 232, 229, 230, 229, 231, 231,\n       230, 226, 226, 225, 222, 220, 218, 221, 219, 219, 217, 216, 214,\n       215, 213, 210, 212, 207, 196, 185, 180, 179, 183, 197, 207, 211,\n       215, 214, 219, 220, 221, 220, 223, 221, 225, 227, 225, 227, 229,\n       230, 230, 230, 232, 233, 233, 235, 234, 235, 234, 232, 233, 237,\n       234, 234, 234, 234, 232, 230, 230, 232, 231, 233, 236, 233, 234,\n       232, 232, 231], dtype=uint8), array([4.59109883])], [array([242, 243, 243, 239, 239, 236, 241, 242, 243, 243, 237, 239, 241,\n       241, 241, 243, 242, 239, 240, 239, 239, 240, 229, 235, 239, 239,\n       237, 237, 235, 235, 234, 235, 233, 232, 232, 232, 228, 230, 230,\n       226, 224, 225, 224, 219, 220, 216, 214, 210, 208, 208, 206, 204,\n       202, 203, 199, 203, 200, 200, 203, 201, 196, 184, 166, 166, 184,\n       201, 219, 232, 237, 238, 240, 244, 239, 238, 237, 240, 241, 239,\n       240, 240, 244, 238, 237, 235, 234, 232, 230, 234, 237, 236, 235,\n       233, 233, 233, 232, 231, 230, 232, 231, 228, 230, 229, 226, 226,\n       225, 223, 219, 223, 221, 222, 224, 223, 223, 222, 223, 217, 222,\n       220, 217, 217], dtype=uint8), array([4.34090199])], [array([234, 235, 243, 236, 236, 230, 237, 238, 233, 233, 233, 233, 235,\n       234, 235, 233, 231, 235, 236, 233, 234, 233, 235, 234, 235, 236,\n       236, 233, 233, 232, 231, 232, 232, 230, 230, 229, 227, 227, 227,\n       226, 226, 223, 219, 217, 214, 211, 212, 214, 211, 212, 209, 205,\n       209, 206, 208, 206, 208, 209, 209, 208, 204, 194, 185, 190, 205,\n       219, 228, 231, 234, 236, 235, 234, 231, 229, 229, 224, 225, 226,\n       225, 224, 226, 224, 223, 223, 223, 224, 223, 227, 226, 226, 226,\n       229, 225, 224, 224, 226, 226, 225, 228, 230, 228, 232, 230, 231,\n       227, 229, 233, 235, 231, 233, 230, 233, 230, 230, 234, 227, 223,\n       220, 224, 225], dtype=uint8), array([4.35067225])], [array([229, 236, 236, 235, 237, 237, 235, 238, 240, 241, 236, 238, 238,\n       238, 236, 234, 235, 236, 236, 237, 233, 233, 236, 236, 236, 236,\n       231, 236, 234, 236, 232, 231, 230, 228, 229, 225, 222, 221, 217,\n       215, 217, 215, 207, 203, 207, 206, 200, 202, 202, 198, 200, 200,\n       199, 201, 204, 205, 201, 205, 196, 181, 174, 188, 203, 219, 230,\n       236, 238, 239, 236, 233, 231, 232, 230, 229, 230, 225, 222, 219,\n       220, 217, 217, 216, 213, 212, 211, 210, 208, 208, 207, 205, 206,\n       199, 186, 187, 202, 218, 226, 232, 232, 231, 232, 228, 222, 222,\n       219, 220, 222, 226, 230, 223, 226, 224, 222, 221, 221, 220, 217,\n       218, 217, 216], dtype=uint8), array([4.18356936])], [array([221, 220, 221, 219, 220, 215, 219, 215, 221, 219, 216, 215, 217,\n       218, 218, 219, 218, 219, 219, 216, 219, 222, 221, 220, 218, 219,\n       219, 216, 218, 216, 217, 220, 217, 217, 219, 217, 219, 221, 219,\n       218, 218, 216, 214, 216, 219, 214, 216, 220, 217, 223, 217, 217,\n       219, 218, 218, 220, 220, 220, 219, 219, 220, 219, 221, 221, 215,\n       219, 221, 221, 216, 216, 212, 201, 187, 182, 182, 182, 190, 198,\n       198, 198, 196, 195, 192, 190, 187, 184, 184, 185, 187, 191, 191,\n       195, 198, 199, 200, 200, 201, 208, 212, 209, 211, 217, 214, 215,\n       217, 218, 218, 217, 221, 218, 218, 219, 221, 219, 217, 218, 221,\n       221, 223, 221], dtype=uint8), array([5.923182])], [array([223, 229, 224, 224, 227, 224, 223, 223, 222, 221, 223, 221, 221,\n       221, 222, 221, 220, 214, 209, 205, 198, 192, 197, 197, 204, 209,\n       212, 215, 219, 219, 209, 204, 190, 182, 181, 190, 203, 211, 210,\n       212, 218, 215, 218, 223, 224, 224, 224, 225, 229, 230, 228, 224,\n       218, 221, 225, 233, 232, 239, 240, 240, 239, 242, 242, 239, 231,\n       204, 187, 177, 178, 163, 143, 133, 130, 128, 127, 127, 134, 135,\n       140, 140, 143, 144, 148, 149, 152, 156, 159, 160, 163, 167, 173,\n       175, 178, 185, 187, 192, 196, 198, 202, 204, 204, 212, 215, 215,\n       217, 219, 218, 219, 223, 222, 224, 228, 226, 229, 228, 227, 228,\n       229, 230, 228], dtype=uint8), array([8.89809448])], [array([215, 217, 219, 217, 222, 220, 220, 218, 217, 216, 211, 207, 214,\n       220, 222, 222, 218, 219, 222, 222, 219, 220, 223, 219, 222, 221,\n       219, 226, 223, 225, 223, 225, 224, 223, 222, 218, 219, 222, 221,\n       224, 225, 224, 223, 221, 219, 219, 222, 221, 222, 222, 217, 218,\n       217, 219, 216, 214, 213, 215, 214, 212, 211, 208, 209, 209, 209,\n       208, 205, 201, 200, 198, 188, 167, 151, 152, 155, 150, 157, 179,\n       194, 199, 202, 204, 203, 203, 207, 207, 207, 210, 214, 216, 216,\n       214, 219, 220, 219, 221, 223, 224, 220, 224, 223, 221, 224, 221,\n       221, 219, 217, 211, 200, 198, 200, 198, 202, 205, 212, 214, 222,\n       223, 225, 223], dtype=uint8), array([4.7800506])], [array([223, 222, 226, 224, 222, 224, 223, 225, 223, 219, 220, 221, 226,\n       223, 224, 223, 222, 219, 222, 224, 222, 222, 223, 225, 225, 225,\n       221, 219, 220, 221, 221, 221, 223, 220, 221, 220, 222, 217, 221,\n       219, 220, 218, 218, 218, 216, 215, 214, 212, 211, 207, 205, 205,\n       203, 204, 202, 199, 196, 194, 195, 194, 195, 193, 191, 188, 189,\n       191, 187, 190, 192, 189, 175, 160, 162, 169, 166, 179, 191, 199,\n       202, 205, 205, 205, 204, 207, 208, 208, 210, 211, 212, 213, 213,\n       214, 213, 214, 215, 218, 217, 216, 217, 215, 219, 217, 218, 220,\n       215, 216, 213, 220, 218, 221, 223, 217, 223, 221, 221, 224, 218,\n       222, 222, 217], dtype=uint8), array([5.29939395])], [array([222, 221, 221, 223, 224, 216, 220, 215, 222, 222, 226, 220, 222,\n       223, 221, 223, 218, 220, 222, 222, 219, 217, 222, 218, 219, 222,\n       215, 219, 217, 218, 220, 218, 220, 216, 220, 217, 214, 220, 216,\n       220, 215, 211, 215, 215, 214, 213, 212, 217, 212, 212, 211, 215,\n       211, 210, 214, 209, 207, 207, 209, 204, 205, 207, 209, 204, 200,\n       199, 198, 201, 202, 197, 192, 175, 161, 158, 162, 168, 185, 194,\n       195, 195, 199, 194, 199, 198, 201, 200, 200, 203, 204, 199, 207,\n       208, 209, 211, 209, 217, 213, 210, 214, 213, 216, 214, 217, 214,\n       219, 214, 214, 214, 219, 216, 221, 214, 218, 218, 214, 218, 216,\n       213, 216, 217], dtype=uint8), array([5.08347615])], [array([255, 255, 255, 255, 255, 255, 255, 255, 255, 255, 255, 255, 255,\n       255, 254, 255, 255, 255, 255, 255, 255, 255, 255, 255, 255, 255,\n       255, 255, 255, 255, 255, 255, 255, 255, 255, 255, 255, 255, 255,\n       255, 255, 255, 255, 255, 255, 255, 252, 251, 250, 233, 196, 177,\n       202, 228, 211, 167, 140, 160, 185, 185, 189, 192, 197, 205, 210,\n       214, 220, 225, 227, 231, 237, 239, 243, 248, 252, 253, 255, 255,\n       255, 255, 255, 255, 255, 255, 255, 255, 255, 255, 255, 255, 255,\n       255, 255, 255, 255, 255, 255, 255, 255, 255, 255, 255, 255, 255,\n       255, 255, 255, 255, 255, 255, 255, 255, 255, 255, 255, 255, 255,\n       255, 255, 255], dtype=uint8), array([8.36581426])], [array([255, 255, 255, 255, 255, 255, 255, 255, 255, 255, 255, 255, 255,\n       255, 255, 255, 255, 254, 248, 244, 245, 243, 242, 232, 219, 214,\n       218, 227, 237, 248, 253, 255, 255, 255, 255, 255, 255, 254, 255,\n       255, 255, 255, 255, 255, 255, 252, 245, 246, 245, 244, 238, 230,\n       223, 221, 220, 213, 206, 202, 195, 195, 204, 210, 207, 201, 176,\n       142, 135, 165, 186, 177, 167, 186, 223, 244, 254, 251, 252, 254,\n       254, 255, 255, 255, 255, 255, 255, 255, 255, 255, 255, 255, 255,\n       255, 255, 255, 255, 255, 255, 255, 255, 255, 255, 255, 255, 255,\n       255, 255, 255, 255, 255, 255, 255, 255, 255, 255, 255, 255, 255,\n       255, 255, 255], dtype=uint8), array([8.89809448])], [array([255, 255, 255, 255, 255, 255, 255, 255, 255, 255, 255, 255, 255,\n       255, 255, 255, 255, 255, 255, 255, 255, 255, 255, 255, 255, 255,\n       255, 255, 255, 255, 255, 255, 255, 255, 255, 255, 255, 255, 255,\n       255, 255, 255, 255, 255, 255, 255, 255, 255, 255, 255, 255, 255,\n       255, 255, 255, 255, 255, 255, 255, 255, 255, 255, 255, 255, 255,\n       255, 255, 255, 255, 254, 248, 229, 208, 206, 199, 193, 214, 237,\n       236, 243, 244, 254, 255, 255, 255, 255, 255, 255, 255, 255, 255,\n       255, 255, 255, 255, 255, 255, 255, 255, 255, 255, 255, 255, 255,\n       255, 255, 255, 255, 255, 255, 255, 255, 255, 255, 255, 255, 255,\n       255, 255, 255], dtype=uint8), array([4.7800506])], [array([255, 255, 255, 255, 255, 255, 255, 255, 255, 255, 255, 255, 255,\n       255, 255, 255, 255, 255, 255, 255, 255, 255, 255, 255, 255, 255,\n       255, 255, 255, 255, 255, 255, 255, 255, 255, 255, 255, 255, 255,\n       255, 255, 255, 255, 255, 255, 255, 255, 255, 255, 255, 255, 255,\n       255, 255, 255, 255, 255, 255, 255, 255, 255, 255, 255, 255, 255,\n       255, 255, 255, 255, 245, 213, 191, 194, 185, 169, 203, 234, 235,\n       239, 245, 251, 253, 254, 251, 248, 251, 254, 254, 254, 255, 255,\n       255, 255, 255, 255, 255, 255, 254, 243, 227, 219, 218, 231, 251,\n       255, 255, 255, 255, 255, 255, 255, 255, 255, 255, 255, 255, 255,\n       255, 255, 255], dtype=uint8), array([5.29939395])], [array([255, 255, 255, 254, 255, 255, 255, 255, 255, 255, 255, 255, 255,\n       255, 255, 255, 255, 255, 255, 255, 255, 255, 255, 255, 255, 255,\n       255, 255, 255, 255, 255, 254, 253, 255, 255, 255, 255, 255, 255,\n       255, 255, 255, 255, 255, 255, 255, 255, 255, 255, 255, 255, 255,\n       255, 255, 255, 255, 255, 255, 255, 255, 255, 255, 255, 255, 255,\n       255, 255, 255, 255, 255, 253, 246, 217, 198, 196, 186, 208, 233,\n       241, 244, 249, 255, 255, 254, 255, 255, 255, 255, 255, 255, 255,\n       255, 255, 255, 255, 255, 255, 255, 255, 255, 255, 255, 255, 255,\n       255, 255, 255, 255, 255, 255, 255, 255, 255, 255, 255, 255, 255,\n       255, 255, 255], dtype=uint8), array([5.08347615])], [array([255, 255, 255, 255, 255, 255, 255, 255, 255, 255, 255, 255, 255,\n       255, 255, 255, 255, 255, 255, 255, 255, 255, 255, 255, 255, 255,\n       255, 255, 255, 255, 255, 255, 255, 255, 255, 255, 255, 255, 255,\n       255, 255, 255, 255, 255, 255, 255, 255, 255, 255, 255, 255, 255,\n       255, 255, 255, 255, 255, 255, 255, 254, 243, 255, 255, 255, 255,\n       255, 255, 255, 253, 249, 244, 226, 202, 199, 206, 214, 230, 242,\n       238, 246, 249, 252, 253, 253, 255, 255, 255, 255, 255, 255, 255,\n       255, 255, 255, 255, 255, 255, 255, 255, 255, 255, 255, 255, 255,\n       255, 255, 255, 255, 255, 255, 255, 255, 255, 255, 255, 255, 255,\n       255, 255, 255], dtype=uint8), array([5.923182])], [array([255, 255, 255, 255, 252, 247, 243, 237, 233, 226, 217, 214, 221,\n       224, 228, 228, 226, 225, 228, 229, 230, 232, 232, 232, 237, 237,\n       235, 237, 244, 243, 244, 247, 249, 249, 253, 254, 254, 253, 251,\n       255, 255, 254, 255, 255, 254, 255, 255, 255, 255, 255, 255, 255,\n       255, 255, 255, 255, 255, 255, 255, 255, 255, 255, 255, 255, 255,\n       255, 255, 255, 255, 253, 236, 220, 206, 196, 199, 215, 227, 228,\n       231, 233, 234, 237, 233, 239, 245, 243, 246, 251, 254, 253, 254,\n       255, 255, 255, 255, 255, 255, 255, 255, 255, 255, 255, 255, 255,\n       255, 255, 255, 255, 255, 255, 255, 255, 255, 255, 255, 255, 255,\n       255, 255, 255], dtype=uint8), array([4.59109883])], [array([255, 255, 255, 255, 255, 255, 255, 255, 255, 255, 255, 255, 255,\n       255, 255, 255, 255, 255, 255, 255, 255, 255, 255, 255, 255, 255,\n       255, 255, 255, 255, 255, 255, 255, 255, 255, 255, 255, 255, 255,\n       255, 255, 255, 255, 255, 255, 255, 255, 255, 255, 255, 255, 255,\n       255, 255, 255, 255, 255, 255, 255, 254, 252, 251, 238, 229, 222,\n       219, 227, 230, 227, 227, 229, 228, 230, 234, 233, 234, 239, 239,\n       240, 242, 244, 248, 246, 251, 251, 251, 251, 252, 253, 255, 255,\n       255, 255, 255, 255, 255, 255, 255, 255, 255, 255, 255, 255, 255,\n       255, 255, 255, 255, 255, 255, 255, 255, 255, 255, 255, 255, 255,\n       255, 255, 255], dtype=uint8), array([4.34090199])], [array([255, 255, 255, 255, 255, 255, 255, 255, 255, 255, 255, 255, 255,\n       255, 255, 255, 255, 255, 255, 255, 255, 255, 255, 255, 255, 255,\n       255, 255, 254, 255, 255, 253, 254, 255, 254, 254, 254, 255, 247,\n       243, 240, 242, 242, 237, 234, 222, 204, 175, 165, 178, 176, 153,\n       126, 140, 162, 172, 171, 172, 177, 178, 182, 185, 189, 197, 202,\n       204, 209, 210, 219, 223, 224, 232, 233, 239, 245, 245, 244, 251,\n       251, 251, 252, 255, 255, 255, 255, 255, 255, 255, 255, 255, 255,\n       255, 255, 255, 255, 255, 255, 255, 255, 255, 255, 255, 255, 255,\n       255, 255, 253, 254, 255, 255, 255, 252, 254, 252, 253, 255, 255,\n       255, 254, 255], dtype=uint8), array([8.52101685])], [array([255, 255, 255, 255, 255, 255, 255, 255, 255, 255, 255, 255, 255,\n       255, 255, 255, 255, 255, 255, 255, 255, 255, 255, 255, 255, 255,\n       255, 255, 255, 255, 255, 255, 255, 255, 255, 255, 255, 255, 255,\n       255, 251, 251, 251, 251, 250, 244, 238, 223, 199, 176, 178, 195,\n       192, 163, 141, 152, 172, 180, 176, 174, 177, 182, 183, 186, 190,\n       196, 199, 202, 205, 211, 215, 221, 222, 225, 230, 233, 236, 240,\n       244, 248, 250, 250, 248, 249, 252, 255, 251, 252, 255, 255, 255,\n       255, 255, 255, 255, 255, 255, 255, 255, 255, 255, 255, 255, 255,\n       255, 255, 255, 255, 255, 255, 255, 255, 255, 255, 255, 255, 255,\n       255, 255, 255], dtype=uint8), array([8.73503977])], [array([255, 255, 255, 255, 255, 255, 255, 255, 255, 255, 255, 255, 255,\n       255, 255, 255, 255, 255, 255, 255, 255, 255, 255, 255, 255, 255,\n       255, 255, 255, 255, 255, 255, 255, 255, 255, 255, 255, 255, 255,\n       255, 255, 255, 255, 255, 255, 255, 255, 255, 255, 255, 255, 255,\n       255, 255, 255, 254, 254, 247, 232, 218, 213, 203, 203, 213, 219,\n       219, 217, 221, 223, 219, 221, 224, 229, 234, 236, 238, 242, 246,\n       249, 249, 251, 254, 254, 255, 255, 255, 255, 255, 255, 255, 255,\n       255, 255, 255, 241, 254, 255, 255, 251, 239, 225, 218, 219, 223,\n       225, 226, 227, 229, 229, 232, 235, 236, 238, 242, 250, 250, 250,\n       253, 253, 255], dtype=uint8), array([4.18356936])], [array([255, 255, 254, 255, 255, 255, 255, 255, 255, 255, 255, 255, 255,\n       255, 255, 254, 255, 255, 255, 255, 255, 255, 255, 255, 255, 255,\n       255, 255, 255, 255, 255, 255, 255, 255, 255, 255, 255, 255, 255,\n       255, 255, 255, 255, 255, 255, 255, 255, 255, 253, 255, 255, 255,\n       255, 255, 255, 255, 255, 255, 255, 255, 255, 254, 244, 230, 219,\n       214, 219, 225, 226, 224, 223, 226, 227, 229, 229, 229, 234, 235,\n       241, 244, 247, 250, 249, 252, 251, 249, 255, 254, 255, 255, 254,\n       255, 255, 255, 255, 255, 255, 255, 255, 255, 255, 255, 255, 255,\n       255, 255, 255, 255, 255, 255, 255, 255, 255, 253, 249, 252, 252,\n       252, 253, 255], dtype=uint8), array([4.35067225])], [array([236, 232, 233, 233, 232, 237, 238, 237, 238, 239, 241, 242, 239,\n       237, 238, 236, 237, 238, 232, 236, 236, 237, 239, 236, 236, 237,\n       237, 236, 237, 238, 240, 241, 242, 242, 242, 238, 241, 238, 237,\n       236, 236, 238, 243, 240, 238, 237, 239, 238, 237, 238, 239, 239,\n       237, 240, 241, 239, 235, 237, 238, 238, 237, 239, 237, 236, 236,\n       237, 234, 233, 231, 232, 234, 232, 235, 236, 236, 230, 233, 233,\n       236, 232, 231, 234, 236, 235, 233, 233, 232, 231, 235, 237, 231,\n       229, 228, 229, 233, 232, 234, 232, 226, 230, 235, 230, 230, 228,\n       230, 229, 228, 230, 233, 232, 231, 229, 231, 233, 230, 230, 230,\n       236, 232, 234], dtype=uint8), array([0.])], [array([248, 248, 253, 252, 254, 253, 248, 247, 246, 251, 249, 251, 249,\n       250, 248, 248, 249, 248, 247, 250, 250, 249, 249, 248, 247, 248,\n       246, 249, 248, 251, 251, 249, 250, 250, 250, 250, 252, 253, 247,\n       246, 246, 249, 247, 248, 245, 248, 249, 246, 246, 249, 246, 248,\n       247, 246, 248, 250, 247, 249, 250, 249, 249, 250, 248, 252, 250,\n       250, 253, 254, 252, 252, 251, 250, 248, 236, 215, 190, 178, 164,\n       159, 180, 213, 212, 210, 208, 211, 210, 209, 207, 208, 211, 212,\n       216, 221, 223, 223, 224, 227, 229, 232, 237, 239, 238, 238, 243,\n       244, 245, 240, 236, 236, 242, 244, 248, 248, 248, 249, 251, 252,\n       252, 249, 251], dtype=uint8), array([4.75818342])], [array([253, 251, 250, 248, 250, 251, 249, 251, 251, 249, 249, 248, 250,\n       251, 248, 248, 253, 252, 250, 253, 251, 249, 248, 246, 248, 244,\n       245, 246, 244, 245, 244, 239, 240, 238, 237, 230, 227, 229, 226,\n       224, 221, 219, 219, 221, 219, 217, 217, 216, 217, 217, 217, 219,\n       220, 219, 219, 222, 218, 208, 203, 207, 220, 235, 247, 249, 249,\n       251, 251, 252, 250, 249, 252, 250, 248, 249, 252, 248, 245, 249,\n       246, 246, 249, 249, 249, 248, 249, 249, 247, 248, 247, 248, 250,\n       247, 246, 245, 244, 242, 237, 239, 240, 237, 241, 242, 241, 241,\n       241, 242, 243, 239, 244, 243, 245, 248, 245, 245, 245, 246, 242,\n       246, 249, 253], dtype=uint8), array([3.84824603])], [array([250, 249, 248, 245, 246, 249, 247, 246, 249, 248, 248, 245, 243,\n       245, 243, 243, 244, 243, 239, 246, 244, 245, 247, 245, 247, 242,\n       241, 241, 242, 243, 241, 242, 241, 239, 243, 239, 241, 239, 238,\n       240, 239, 239, 236, 237, 238, 232, 230, 228, 229, 226, 224, 223,\n       223, 222, 222, 220, 217, 221, 210, 206, 207, 207, 200, 203, 202,\n       200, 203, 202, 203, 185, 166, 166, 177, 187, 198, 211, 228, 234,\n       234, 236, 240, 240, 240, 239, 238, 243, 241, 241, 243, 241, 242,\n       238, 237, 235, 236, 235, 232, 233, 230, 224, 218, 208, 205, 201,\n       197, 193, 194, 203, 210, 219, 227, 231, 238, 240, 237, 236, 240,\n       243, 239, 239], dtype=uint8), array([5.52762087])], [array([247, 246, 247, 247, 249, 248, 246, 246, 248, 250, 250, 247, 246,\n       244, 247, 244, 245, 244, 246, 246, 247, 242, 242, 240, 242, 235,\n       237, 237, 237, 232, 230, 231, 226, 224, 224, 219, 220, 218, 213,\n       214, 208, 205, 200, 203, 200, 193, 192, 189, 192, 194, 198, 199,\n       201, 203, 201, 197, 178, 165, 175, 193, 210, 223, 236, 248, 249,\n       250, 250, 251, 248, 250, 251, 250, 247, 245, 246, 246, 248, 246,\n       244, 248, 246, 242, 242, 244, 242, 240, 241, 240, 244, 243, 241,\n       243, 242, 241, 241, 240, 238, 243, 246, 236, 239, 240, 242, 237,\n       238, 241, 240, 237, 237, 243, 236, 235, 237, 234, 232, 230, 226,\n       229, 226, 231], dtype=uint8), array([5.24173503])], [array([236, 233, 236, 241, 236, 237, 241, 242, 239, 238, 241, 234, 235,\n       234, 232, 235, 237, 233, 235, 230, 232, 230, 228, 226, 225, 222,\n       226, 226, 221, 220, 220, 213, 207, 206, 205, 204, 204, 202, 201,\n       199, 197, 194, 199, 196, 200, 206, 206, 209, 210, 208, 212, 209,\n       210, 208, 195, 182, 187, 207, 228, 235, 242, 241, 239, 234, 234,\n       232, 234, 231, 231, 230, 233, 233, 234, 232, 227, 232, 233, 227,\n       231, 235, 231, 229, 229, 227, 228, 229, 234, 232, 230, 230, 232,\n       230, 228, 229, 228, 229, 226, 226, 228, 226, 229, 227, 226, 228,\n       231, 229, 230, 229, 230, 231, 231, 229, 229, 230, 231, 229, 229,\n       229, 229, 229], dtype=uint8), array([3.48806279])], [array([232, 230, 234, 232, 233, 235, 234, 230, 235, 236, 231, 232, 233,\n       231, 235, 230, 227, 230, 229, 228, 227, 228, 230, 228, 225, 227,\n       230, 229, 228, 231, 229, 230, 227, 231, 231, 230, 232, 231, 232,\n       230, 230, 229, 228, 229, 230, 227, 230, 232, 229, 229, 231, 229,\n       227, 226, 223, 227, 224, 226, 226, 224, 224, 222, 222, 220, 219,\n       219, 221, 221, 221, 217, 219, 217, 218, 216, 212, 208, 190, 179,\n       172, 163, 167, 185, 197, 197, 200, 198, 198, 201, 199, 196, 202,\n       200, 201, 202, 200, 199, 203, 201, 203, 203, 202, 203, 202, 199,\n       201, 200, 200, 199, 200, 200, 200, 199, 199, 201, 198, 199, 197,\n       196, 188, 171], dtype=uint8), array([4.68352392])], [array([232, 231, 230, 233, 231, 229, 229, 228, 230, 231, 232, 229, 230,\n       229, 230, 230, 230, 226, 226, 226, 228, 226, 223, 223, 220, 223,\n       220, 216, 219, 219, 219, 217, 216, 217, 211, 212, 211, 209, 208,\n       202, 194, 180, 169, 169, 171, 174, 190, 200, 205, 206, 210, 206,\n       205, 209, 210, 208, 210, 207, 207, 210, 208, 209, 208, 207, 206,\n       210, 208, 211, 211, 210, 208, 204, 189, 169, 162, 162, 172, 191,\n       208, 216, 219, 217, 224, 224, 228, 227, 228, 228, 227, 228, 228,\n       228, 228, 227, 231, 228, 228, 227, 225, 227, 230, 229, 226, 228,\n       227, 227, 230, 226, 229, 233, 230, 231, 230, 229, 231, 230, 231,\n       229, 228, 230], dtype=uint8), array([4.45399496])], [array([248, 251, 249, 249, 249, 251, 249, 250, 247, 249, 246, 248, 247,\n       250, 253, 249, 253, 252, 250, 255, 255, 254, 251, 250, 248, 249,\n       251, 248, 248, 248, 250, 251, 252, 250, 248, 249, 249, 251, 249,\n       246, 250, 250, 250, 248, 248, 250, 249, 250, 251, 251, 249, 247,\n       249, 247, 246, 243, 246, 246, 246, 245, 248, 246, 246, 246, 245,\n       242, 252, 250, 248, 243, 248, 250, 246, 246, 249, 245, 245, 245,\n       247, 246, 247, 247, 249, 249, 248, 248, 248, 249, 249, 247, 247,\n       249, 249, 247, 247, 246, 247, 245, 243, 247, 246, 249, 246, 244,\n       247, 247, 247, 246, 244, 250, 249, 250, 243, 248, 244, 246, 244,\n       245, 245, 244], dtype=uint8), array([0.])], [array([255, 255, 255, 255, 255, 255, 255, 255, 255, 255, 255, 255, 255,\n       255, 255, 255, 255, 255, 255, 255, 255, 255, 255, 255, 255, 255,\n       255, 255, 255, 255, 255, 255, 255, 255, 255, 255, 255, 255, 255,\n       255, 255, 255, 255, 255, 255, 255, 255, 255, 255, 255, 255, 255,\n       255, 255, 255, 255, 254, 252, 249, 248, 248, 247, 242, 237, 219,\n       185, 153, 162, 177, 162, 136, 143, 167, 190, 195, 195, 204, 208,\n       213, 215, 221, 226, 232, 234, 240, 242, 250, 252, 252, 251, 255,\n       255, 255, 255, 255, 255, 255, 255, 255, 255, 255, 255, 255, 255,\n       255, 254, 243, 253, 255, 255, 255, 255, 255, 255, 255, 255, 255,\n       255, 255, 255], dtype=uint8), array([8.71474618])], [array([255, 255, 255, 255, 255, 255, 255, 255, 255, 255, 255, 255, 255,\n       255, 255, 255, 255, 255, 255, 255, 255, 255, 255, 255, 255, 255,\n       255, 255, 255, 255, 255, 255, 255, 255, 255, 255, 255, 255, 255,\n       255, 255, 255, 255, 254, 255, 255, 255, 255, 255, 255, 255, 255,\n       255, 255, 254, 248, 253, 253, 248, 249, 246, 244, 245, 239, 233,\n       225, 192, 147, 115, 122, 150, 169, 164, 157, 171, 196, 213, 215,\n       220, 224, 225, 225, 230, 236, 239, 244, 248, 247, 249, 250, 251,\n       253, 254, 255, 255, 255, 254, 255, 255, 255, 255, 255, 255, 255,\n       255, 255, 255, 255, 255, 255, 255, 255, 255, 255, 255, 255, 255,\n       255, 255, 255], dtype=uint8), array([9.02551505])], [array([225, 224, 226, 233, 234, 231, 233, 237, 237, 242, 243, 242, 238,\n       242, 247, 245, 247, 249, 251, 251, 249, 253, 255, 255, 255, 255,\n       255, 255, 255, 255, 255, 255, 255, 255, 255, 255, 255, 255, 254,\n       255, 255, 255, 255, 253, 255, 250, 238, 203, 165, 159, 172, 157,\n       143, 155, 172, 182, 187, 189, 195, 201, 205, 212, 219, 226, 227,\n       233, 236, 239, 241, 246, 249, 253, 255, 255, 255, 255, 255, 255,\n       255, 255, 255, 255, 255, 255, 255, 255, 255, 255, 255, 255, 255,\n       255, 255, 255, 255, 255, 255, 255, 255, 255, 255, 255, 255, 255,\n       255, 255, 255, 255, 255, 255, 255, 255, 255, 255, 255, 255, 255,\n       255, 255, 255], dtype=uint8), array([7.32964192])], [array([255, 255, 255, 255, 255, 255, 255, 255, 255, 255, 255, 254, 255,\n       255, 255, 255, 255, 255, 255, 255, 255, 255, 255, 255, 255, 255,\n       255, 255, 255, 255, 255, 255, 255, 255, 255, 255, 253, 249, 251,\n       255, 255, 255, 255, 255, 255, 255, 255, 255, 255, 255, 255, 255,\n       255, 255, 255, 255, 255, 255, 255, 255, 251, 246, 231, 213, 203,\n       194, 189, 200, 219, 227, 227, 234, 243, 247, 249, 251, 252, 255,\n       255, 255, 255, 255, 255, 255, 255, 255, 255, 255, 255, 255, 255,\n       255, 254, 254, 255, 255, 255, 255, 255, 255, 255, 255, 255, 255,\n       255, 255, 255, 255, 255, 255, 255, 255, 255, 255, 255, 255, 255,\n       255, 255, 255], dtype=uint8), array([4.88385177])], [array([255, 255, 255, 255, 255, 255, 255, 255, 255, 255, 255, 255, 255,\n       255, 255, 255, 255, 255, 255, 255, 255, 255, 255, 255, 255, 255,\n       255, 254, 255, 255, 255, 255, 255, 255, 254, 254, 252, 250, 248,\n       244, 244, 246, 246, 255, 255, 255, 255, 255, 255, 255, 254, 254,\n       254, 249, 243, 240, 229, 228, 230, 229, 231, 235, 234, 231, 227,\n       223, 224, 219, 199, 157, 142, 169, 190, 182, 182, 213, 236, 245,\n       248, 252, 253, 255, 254, 255, 255, 255, 255, 255, 255, 255, 255,\n       255, 255, 255, 255, 255, 255, 255, 255, 255, 255, 255, 255, 255,\n       255, 255, 255, 255, 255, 255, 255, 255, 255, 255, 255, 255, 255,\n       255, 255, 255], dtype=uint8), array([6.54541434])], [array([254, 254, 253, 253, 250, 251, 250, 249, 249, 249, 247, 244, 245,\n       240, 237, 232, 229, 226, 217, 196, 183, 179, 188, 200, 214, 230,\n       232, 233, 232, 222, 206, 193, 186, 194, 201, 209, 220, 227, 234,\n       237, 238, 247, 249, 252, 254, 254, 254, 255, 255, 255, 255, 255,\n       255, 255, 255, 255, 255, 255, 255, 253, 252, 251, 248, 246, 243,\n       243, 238, 239, 223, 196, 166, 168, 187, 177, 166, 193, 222, 242,\n       243, 243, 249, 252, 254, 255, 255, 255, 255, 255, 255, 255, 255,\n       255, 255, 255, 255, 255, 255, 255, 255, 255, 255, 255, 255, 255,\n       255, 255, 255, 255, 255, 255, 255, 255, 255, 255, 255, 255, 255,\n       255, 255, 255], dtype=uint8), array([7.03218657])], [array([242, 241, 239, 242, 239, 236, 232, 223, 220, 217, 205, 196, 187,\n       176, 171, 176, 182, 192, 210, 225, 236, 242, 242, 248, 246, 248,\n       252, 252, 253, 253, 255, 255, 255, 254, 255, 255, 255, 255, 255,\n       255, 255, 255, 255, 255, 255, 255, 255, 255, 255, 255, 255, 255,\n       255, 253, 251, 246, 242, 240, 233, 229, 226, 221, 214, 209, 210,\n       212, 210, 195, 168, 150, 165, 183, 173, 176, 207, 234, 245, 245,\n       249, 255, 253, 255, 255, 255, 255, 255, 255, 255, 255, 255, 255,\n       255, 255, 255, 255, 255, 255, 255, 255, 255, 255, 255, 255, 255,\n       255, 255, 255, 255, 255, 255, 255, 255, 255, 255, 255, 255, 255,\n       255, 255, 255], dtype=uint8), array([6.38074043])], [array([252, 252, 254, 255, 255, 254, 254, 254, 255, 255, 255, 255, 255,\n       255, 255, 255, 255, 255, 255, 255, 255, 255, 255, 255, 255, 255,\n       255, 255, 255, 255, 255, 255, 255, 255, 255, 255, 255, 255, 255,\n       255, 255, 255, 255, 255, 255, 255, 255, 255, 255, 255, 255, 255,\n       255, 255, 255, 246, 253, 255, 255, 254, 251, 248, 244, 246, 251,\n       252, 253, 252, 254, 251, 248, 245, 243, 225, 198, 185, 189, 196,\n       204, 219, 243, 255, 255, 255, 255, 255, 255, 255, 255, 255, 255,\n       255, 255, 255, 255, 255, 255, 255, 255, 255, 255, 255, 255, 255,\n       255, 255, 255, 255, 255, 255, 255, 255, 255, 255, 255, 255, 255,\n       255, 255, 255], dtype=uint8), array([5.54238319])], [array([255, 255, 255, 255, 255, 255, 255, 255, 255, 255, 255, 255, 255,\n       255, 255, 255, 255, 255, 255, 255, 255, 255, 255, 255, 255, 255,\n       255, 255, 255, 255, 255, 255, 255, 255, 255, 255, 255, 253, 253,\n       250, 247, 245, 240, 237, 240, 238, 240, 239, 235, 232, 231, 237,\n       246, 253, 255, 255, 255, 255, 255, 255, 255, 255, 255, 255, 254,\n       254, 255, 253, 251, 247, 244, 243, 236, 229, 227, 223, 215, 214,\n       222, 232, 244, 252, 255, 255, 255, 255, 255, 255, 255, 255, 255,\n       255, 255, 255, 255, 255, 255, 255, 254, 254, 254, 251, 255, 255,\n       252, 255, 255, 255, 255, 255, 255, 255, 255, 255, 255, 255, 255,\n       255, 255, 255], dtype=uint8), array([4.58639866])], [array([255, 255, 255, 255, 255, 255, 255, 255, 255, 246, 254, 255, 255,\n       255, 255, 255, 255, 254, 255, 255, 255, 255, 255, 255, 255, 255,\n       255, 255, 255, 255, 255, 255, 255, 255, 255, 255, 255, 255, 255,\n       255, 255, 255, 255, 255, 255, 255, 255, 255, 255, 255, 255, 254,\n       245, 227, 218, 202, 179, 166, 192, 216, 217, 217, 222, 220, 224,\n       226, 231, 232, 236, 246, 252, 254, 255, 255, 255, 255, 255, 255,\n       255, 255, 255, 255, 255, 255, 255, 255, 255, 255, 255, 255, 255,\n       255, 255, 255, 255, 255, 255, 255, 255, 255, 255, 255, 255, 255,\n       255, 255, 255, 255, 255, 255, 255, 255, 255, 255, 255, 255, 255,\n       255, 255, 255], dtype=uint8), array([5.4984222])], [array([250, 250, 245, 241, 241, 229, 215, 201, 182, 168, 158, 159, 160,\n       161, 170, 181, 203, 214, 225, 234, 238, 238, 245, 245, 246, 246,\n       253, 254, 254, 255, 255, 255, 255, 255, 255, 255, 255, 254, 248,\n       255, 255, 255, 252, 254, 255, 255, 254, 255, 255, 255, 255, 255,\n       255, 255, 255, 255, 255, 255, 255, 255, 255, 255, 255, 255, 247,\n       235, 213, 189, 192, 203, 189, 158, 140, 159, 183, 189, 191, 195,\n       197, 203, 206, 213, 217, 224, 230, 237, 236, 241, 244, 249, 252,\n       254, 255, 255, 255, 255, 255, 255, 255, 255, 255, 255, 255, 255,\n       255, 255, 255, 255, 255, 255, 255, 255, 255, 255, 255, 255, 255,\n       255, 255, 255], dtype=uint8), array([8.81468908])], [array([255, 255, 255, 255, 255, 255, 255, 255, 255, 255, 255, 255, 255,\n       255, 255, 255, 255, 255, 255, 255, 255, 255, 255, 254, 255, 255,\n       255, 255, 255, 255, 255, 255, 255, 255, 255, 255, 255, 255, 255,\n       255, 255, 255, 255, 255, 255, 255, 255, 255, 255, 252, 245, 255,\n       255, 255, 255, 255, 255, 255, 255, 255, 255, 255, 255, 255, 255,\n       254, 255, 253, 251, 251, 248, 248, 245, 240, 226, 190, 148, 136,\n       142, 154, 188, 229, 243, 251, 255, 254, 255, 255, 255, 255, 255,\n       255, 255, 255, 255, 255, 255, 255, 255, 255, 255, 255, 255, 255,\n       255, 255, 255, 255, 255, 255, 255, 255, 255, 255, 255, 255, 255,\n       255, 255, 255], dtype=uint8), array([5.09065576])], [array([235, 236, 237, 235, 236, 233, 231, 237, 237, 235, 237, 232, 237,\n       236, 235, 236, 237, 234, 237, 237, 234, 237, 239, 239, 237, 237,\n       239, 237, 241, 242, 242, 241, 236, 237, 237, 238, 241, 239, 240,\n       237, 239, 237, 236, 238, 236, 238, 242, 240, 242, 238, 237, 240,\n       240, 239, 239, 237, 236, 237, 242, 240, 239, 242, 240, 238, 242,\n       242, 244, 242, 240, 243, 245, 247, 246, 245, 240, 244, 243, 241,\n       244, 242, 247, 246, 243, 242, 245, 244, 247, 244, 244, 244, 240,\n       242, 243, 241, 243, 240, 239, 241, 244, 243, 239, 241, 240, 240,\n       244, 239, 239, 237, 239, 240, 246, 243, 243, 241, 242, 245, 245,\n       242, 241, 243], dtype=uint8), array([0.])], [array([255, 255, 255, 255, 255, 255, 255, 255, 255, 255, 255, 255, 255,\n       255, 255, 255, 255, 255, 255, 255, 255, 255, 255, 255, 255, 255,\n       255, 255, 255, 255, 255, 255, 255, 255, 255, 255, 255, 255, 255,\n       255, 255, 255, 255, 255, 255, 255, 255, 255, 255, 255, 255, 255,\n       255, 255, 254, 255, 255, 255, 255, 255, 255, 255, 248, 231, 203,\n       182, 171, 166, 175, 198, 212, 218, 219, 220, 224, 228, 227, 231,\n       235, 237, 241, 242, 245, 249, 250, 251, 252, 254, 255, 255, 255,\n       255, 255, 255, 255, 255, 255, 255, 255, 255, 255, 255, 255, 255,\n       255, 255, 255, 255, 254, 254, 253, 254, 255, 254, 252, 244, 228,\n       221, 217, 221], dtype=uint8), array([4.42544194])], [array([255, 255, 255, 255, 255, 254, 255, 255, 255, 255, 255, 255, 255,\n       255, 255, 255, 255, 255, 255, 255, 254, 255, 255, 255, 255, 255,\n       255, 255, 255, 255, 255, 255, 255, 255, 255, 255, 255, 255, 255,\n       255, 255, 255, 255, 255, 255, 252, 239, 228, 219, 215, 210, 207,\n       212, 225, 234, 234, 241, 242, 247, 253, 255, 254, 254, 255, 255,\n       255, 255, 255, 255, 255, 250, 237, 223, 200, 187, 186, 204, 217,\n       218, 222, 221, 219, 225, 225, 230, 231, 233, 235, 240, 244, 245,\n       246, 252, 255, 253, 253, 252, 255, 255, 255, 255, 255, 255, 255,\n       255, 255, 255, 255, 255, 255, 255, 255, 255, 255, 255, 255, 255,\n       255, 255, 255], dtype=uint8), array([4.45399496])], [array([232, 235, 236, 237, 237, 237, 242, 242, 242, 243, 243, 243, 248,\n       249, 245, 247, 249, 252, 252, 251, 251, 254, 255, 250, 252, 251,\n       254, 255, 255, 255, 255, 255, 252, 254, 255, 255, 255, 255, 255,\n       255, 254, 255, 255, 255, 255, 255, 255, 255, 255, 255, 255, 255,\n       255, 255, 255, 255, 255, 255, 255, 255, 255, 255, 255, 255, 255,\n       255, 255, 255, 255, 255, 255, 255, 255, 254, 250, 242, 221, 199,\n       180, 165, 177, 204, 218, 222, 227, 232, 232, 233, 237, 241, 241,\n       245, 249, 249, 251, 253, 254, 255, 255, 255, 254, 255, 255, 255,\n       255, 255, 255, 255, 255, 255, 255, 255, 255, 255, 247, 229, 211,\n       194, 177, 166], dtype=uint8), array([4.68352392])], [array([255, 255, 255, 255, 255, 255, 255, 255, 255, 255, 255, 255, 255,\n       255, 255, 255, 255, 255, 255, 255, 255, 255, 253, 255, 255, 255,\n       255, 255, 255, 255, 255, 255, 251, 252, 255, 255, 255, 255, 255,\n       255, 255, 255, 255, 255, 255, 255, 254, 254, 254, 248, 249, 242,\n       227, 209, 196, 196, 209, 227, 236, 238, 238, 237, 240, 244, 242,\n       240, 237, 239, 240, 240, 242, 246, 246, 248, 249, 246, 247, 247,\n       255, 254, 254, 255, 253, 255, 252, 255, 255, 255, 255, 255, 255,\n       255, 255, 255, 255, 255, 255, 255, 255, 255, 255, 255, 255, 255,\n       255, 255, 255, 255, 255, 255, 255, 255, 255, 255, 255, 255, 255,\n       255, 255, 255], dtype=uint8), array([3.48806279])], [array([240, 241, 245, 246, 253, 251, 254, 255, 255, 254, 255, 255, 255,\n       255, 254, 254, 255, 255, 255, 255, 255, 255, 255, 255, 255, 255,\n       255, 255, 255, 255, 255, 255, 255, 255, 255, 255, 255, 255, 255,\n       255, 255, 255, 255, 255, 255, 255, 255, 255, 255, 255, 255, 255,\n       255, 255, 255, 255, 255, 255, 255, 255, 255, 255, 255, 255, 255,\n       255, 255, 255, 255, 255, 254, 253, 242, 220, 201, 190, 170, 168,\n       186, 203, 210, 211, 215, 210, 217, 218, 223, 227, 228, 231, 237,\n       240, 244, 243, 246, 247, 250, 253, 254, 253, 255, 254, 255, 255,\n       255, 255, 255, 255, 255, 255, 255, 255, 255, 255, 255, 255, 255,\n       255, 255, 255], dtype=uint8), array([5.52762087])], [array([255, 255, 255, 255, 255, 255, 255, 255, 255, 255, 255, 255, 255,\n       255, 255, 255, 255, 255, 255, 255, 255, 255, 255, 255, 255, 255,\n       255, 255, 255, 255, 255, 255, 255, 255, 255, 254, 255, 255, 255,\n       251, 241, 223, 203, 203, 222, 239, 248, 253, 254, 255, 255, 255,\n       255, 252, 242, 221, 189, 163, 150, 146, 154, 173, 188, 192, 195,\n       196, 196, 198, 199, 202, 205, 210, 215, 220, 226, 232, 233, 234,\n       234, 238, 242, 245, 247, 248, 253, 255, 255, 255, 255, 254, 254,\n       255, 255, 255, 255, 255, 255, 255, 255, 255, 255, 254, 253, 255,\n       255, 255, 255, 255, 255, 255, 255, 255, 255, 255, 255, 255, 255,\n       255, 255, 255], dtype=uint8), array([5.24173503])], [array([255, 255, 255, 255, 255, 255, 255, 255, 255, 255, 255, 255, 255,\n       255, 255, 255, 255, 255, 255, 254, 253, 255, 255, 255, 253, 247,\n       243, 233, 228, 237, 245, 249, 253, 254, 255, 254, 255, 255, 255,\n       255, 255, 255, 255, 255, 255, 255, 255, 255, 254, 253, 251, 251,\n       249, 252, 253, 251, 249, 245, 245, 243, 240, 235, 232, 232, 225,\n       225, 222, 219, 220, 217, 216, 212, 209, 210, 196, 169, 169, 173,\n       179, 209, 235, 248, 252, 249, 251, 252, 253, 251, 254, 251, 254,\n       254, 255, 255, 253, 255, 255, 255, 255, 255, 254, 251, 254, 255,\n       255, 255, 255, 254, 255, 255, 255, 255, 254, 255, 255, 255, 255,\n       255, 255, 255], dtype=uint8), array([4.75818342])], [array([251, 254, 249, 252, 255, 255, 255, 255, 254, 253, 253, 253, 252,\n       250, 254, 255, 253, 253, 254, 254, 254, 253, 252, 251, 255, 255,\n       255, 254, 253, 254, 250, 251, 255, 255, 252, 253, 252, 251, 254,\n       253, 255, 252, 255, 255, 255, 255, 255, 255, 255, 255, 255, 255,\n       255, 255, 255, 255, 243, 223, 203, 195, 201, 211, 212, 213, 216,\n       214, 214, 213, 213, 216, 218, 219, 224, 229, 232, 238, 241, 243,\n       247, 249, 248, 250, 250, 251, 253, 254, 255, 254, 254, 254, 255,\n       255, 255, 254, 255, 255, 252, 255, 255, 255, 255, 255, 255, 255,\n       255, 255, 254, 255, 253, 254, 253, 253, 250, 246, 244, 242, 241,\n       240, 238, 241], dtype=uint8), array([3.84824603])], [array([249, 248, 248, 247, 250, 250, 249, 248, 245, 249, 251, 246, 243,\n       241, 241, 243, 245, 247, 248, 247, 244, 246, 246, 245, 246, 247,\n       247, 246, 243, 246, 248, 247, 249, 247, 247, 250, 246, 249, 249,\n       249, 250, 249, 249, 251, 249, 250, 250, 250, 253, 250, 251, 254,\n       249, 252, 255, 253, 254, 254, 251, 245, 243, 239, 229, 218, 213,\n       208, 195, 177, 171, 181, 185, 185, 181, 175, 172, 174, 176, 178,\n       181, 187, 190, 192, 201, 200, 203, 209, 213, 217, 221, 226, 230,\n       229, 233, 236, 235, 240, 243, 245, 246, 249, 249, 249, 249, 252,\n       251, 253, 252, 253, 254, 253, 252, 252, 252, 251, 254, 252, 254,\n       254, 254, 254], dtype=uint8), array([6.3266849])], [array([208, 213, 214, 218, 219, 218, 221, 222, 223, 224, 226, 226, 228,\n       231, 226, 232, 231, 235, 233, 238, 239, 240, 239, 243, 244, 244,\n       246, 247, 248, 252, 249, 252, 253, 248, 245, 244, 248, 247, 250,\n       250, 250, 250, 253, 251, 251, 250, 247, 251, 249, 248, 252, 249,\n       249, 246, 246, 244, 237, 234, 220, 210, 208, 213, 223, 232, 232,\n       231, 232, 228, 226, 226, 227, 226, 216, 193, 170, 155, 147, 136,\n       148, 173, 184, 191, 196, 200, 203, 205, 210, 214, 218, 222, 223,\n       229, 231, 235, 236, 238, 241, 241, 243, 247, 247, 249, 253, 252,\n       254, 254, 253, 252, 253, 252, 253, 255, 252, 254, 250, 249, 254,\n       255, 254, 254], dtype=uint8), array([5.48232787])], [array([211, 206, 211, 213, 214, 215, 217, 217, 219, 221, 220, 220, 224,\n       226, 227, 227, 228, 229, 231, 230, 232, 231, 229, 235, 235, 232,\n       239, 238, 236, 237, 245, 244, 242, 237, 240, 237, 234, 234, 236,\n       246, 244, 244, 244, 246, 241, 246, 243, 246, 245, 246, 245, 244,\n       249, 240, 247, 247, 250, 246, 244, 245, 248, 250, 250, 245, 249,\n       249, 251, 252, 250, 254, 253, 254, 252, 245, 234, 225, 203, 183,\n       172, 177, 187, 192, 196, 196, 196, 197, 199, 202, 201, 204, 206,\n       213, 210, 212, 220, 220, 222, 223, 226, 228, 232, 231, 237, 239,\n       242, 242, 243, 245, 244, 243, 246, 250, 247, 249, 248, 251, 250,\n       248, 250, 251], dtype=uint8), array([4.22418291])], [array([255, 255, 255, 255, 255, 255, 255, 255, 255, 255, 255, 255, 255,\n       255, 255, 255, 255, 255, 255, 255, 255, 255, 255, 255, 255, 255,\n       255, 255, 255, 255, 255, 255, 255, 255, 255, 255, 255, 255, 255,\n       255, 255, 255, 255, 255, 255, 255, 255, 255, 255, 255, 255, 255,\n       255, 255, 255, 255, 255, 255, 255, 255, 255, 255, 255, 255, 255,\n       255, 255, 255, 255, 255, 255, 255, 255, 255, 255, 255, 255, 255,\n       255, 255, 255, 255, 255, 255, 255, 255, 255, 255, 255, 255, 255,\n       255, 255, 255, 255, 255, 255, 255, 255, 255, 255, 255, 255, 255,\n       255, 255, 255, 255, 253, 252, 255, 255, 255, 255, 255, 255, 255,\n       255, 255, 255], dtype=uint8), array([0.])], [array([255, 255, 255, 255, 255, 254, 254, 254, 255, 255, 255, 255, 255,\n       254, 255, 255, 255, 254, 255, 255, 254, 254, 255, 254, 255, 252,\n       255, 255, 255, 255, 255, 255, 255, 251, 253, 254, 255, 255, 255,\n       255, 255, 255, 255, 255, 255, 255, 255, 255, 255, 255, 255, 255,\n       255, 255, 255, 255, 255, 255, 255, 255, 255, 255, 255, 255, 253,\n       243, 232, 211, 199, 198, 208, 218, 218, 218, 218, 220, 219, 222,\n       225, 229, 233, 232, 237, 239, 243, 244, 246, 246, 248, 252, 253,\n       253, 253, 254, 254, 255, 255, 254, 255, 255, 255, 255, 255, 255,\n       255, 255, 255, 255, 255, 255, 255, 255, 255, 255, 255, 255, 255,\n       255, 255, 255], dtype=uint8), array([3.71157107])], [array([255, 255, 255, 255, 255, 255, 255, 255, 255, 253, 254, 255, 255,\n       255, 255, 255, 254, 255, 255, 255, 255, 255, 255, 255, 255, 255,\n       255, 255, 255, 255, 255, 255, 255, 255, 255, 255, 255, 254, 255,\n       251, 253, 251, 245, 246, 244, 237, 239, 242, 249, 253, 253, 254,\n       252, 254, 255, 255, 254, 253, 255, 255, 255, 255, 254, 254, 253,\n       254, 252, 248, 247, 245, 241, 231, 215, 191, 178, 179, 168, 189,\n       217, 220, 220, 224, 227, 228, 232, 237, 236, 241, 240, 242, 248,\n       248, 251, 254, 255, 254, 254, 252, 255, 255, 255, 255, 255, 255,\n       255, 255, 255, 255, 255, 255, 255, 255, 255, 255, 255, 255, 255,\n       253, 255, 255], dtype=uint8), array([4.08382213])], [array([255, 255, 255, 255, 255, 255, 255, 255, 255, 255, 255, 255, 255,\n       255, 255, 255, 255, 255, 255, 255, 255, 255, 255, 255, 255, 255,\n       255, 255, 255, 255, 255, 255, 253, 253, 255, 255, 255, 255, 255,\n       253, 252, 253, 248, 245, 244, 237, 235, 213, 185, 174, 176, 201,\n       231, 248, 251, 252, 253, 255, 255, 255, 255, 255, 255, 255, 255,\n       255, 255, 255, 255, 255, 255, 255, 255, 255, 255, 255, 255, 255,\n       255, 255, 255, 255, 255, 255, 255, 255, 255, 255, 255, 255, 255,\n       255, 255, 255, 255, 255, 255, 254, 254, 255, 255, 255, 255, 253,\n       253, 251, 255, 253, 255, 251, 249, 246, 240, 236, 223, 213, 207,\n       199, 203, 202], dtype=uint8), array([3.69767209])], [array([253, 253, 254, 255, 252, 251, 251, 250, 253, 252, 254, 253, 255,\n       255, 255, 252, 252, 250, 243, 233, 221, 214, 211, 211, 218, 227,\n       225, 224, 219, 213, 210, 207, 202, 198, 194, 193, 191, 182, 178,\n       174, 170, 176, 184, 193, 200, 209, 216, 221, 222, 224, 224, 226,\n       226, 231, 230, 229, 232, 236, 237, 239, 242, 242, 242, 245, 243,\n       245, 246, 246, 241, 232, 217, 195, 179, 176, 189, 203, 208, 205,\n       207, 203, 202, 198, 202, 200, 204, 209, 211, 215, 217, 221, 223,\n       226, 227, 229, 233, 235, 241, 242, 241, 241, 243, 247, 247, 248,\n       249, 250, 252, 252, 254, 254, 252, 250, 250, 253, 253, 253, 254,\n       252, 253, 253], dtype=uint8), array([4.18255064])], [array([255, 255, 255, 255, 255, 255, 255, 255, 255, 255, 255, 255, 255,\n       255, 255, 255, 255, 255, 255, 253, 255, 255, 255, 255, 255, 254,\n       253, 253, 250, 255, 255, 255, 255, 255, 254, 255, 255, 255, 255,\n       252, 252, 255, 254, 251, 248, 254, 249, 247, 241, 241, 243, 241,\n       238, 233, 232, 228, 226, 221, 220, 216, 215, 211, 210, 207, 204,\n       205, 203, 195, 179, 137, 122, 135, 144, 140, 147, 178, 212, 223,\n       228, 229, 236, 240, 239, 240, 247, 246, 246, 250, 249, 253, 254,\n       251, 255, 255, 255, 255, 255, 255, 255, 255, 250, 243, 255, 255,\n       255, 255, 255, 255, 255, 254, 255, 255, 255, 255, 255, 252, 254,\n       255, 255, 255], dtype=uint8), array([9.01671984])], [array([224, 223, 222, 223, 223, 223, 227, 229, 226, 226, 226, 226, 227,\n       228, 223, 225, 223, 226, 221, 224, 223, 221, 223, 221, 222, 224,\n       219, 219, 220, 219, 219, 221, 219, 217, 218, 216, 212, 216, 216,\n       214, 216, 214, 213, 210, 196, 185, 170, 169, 171, 182, 188, 195,\n       203, 211, 212, 214, 209, 213, 212, 215, 216, 213, 203, 186, 177,\n       176, 171, 180, 207, 229, 241, 247, 248, 246, 249, 252, 248, 253,\n       253, 254, 252, 253, 254, 253, 254, 253, 255, 252, 252, 252, 251,\n       250, 252, 250, 249, 251, 251, 249, 250, 251, 253, 251, 251, 251,\n       251, 247, 253, 250, 253, 252, 251, 252, 253, 254, 251, 251, 252,\n       254, 252, 249], dtype=uint8), array([6.47364817])], [array([253, 252, 251, 253, 253, 250, 248, 250, 252, 251, 250, 249, 251,\n       254, 249, 255, 250, 250, 250, 251, 251, 250, 249, 251, 250, 250,\n       251, 251, 252, 254, 252, 250, 248, 252, 251, 251, 252, 252, 252,\n       250, 250, 253, 253, 251, 252, 252, 254, 254, 251, 252, 254, 254,\n       249, 249, 255, 253, 255, 254, 255, 254, 255, 255, 254, 252, 253,\n       255, 254, 254, 255, 254, 250, 245, 220, 201, 187, 182, 192, 207,\n       214, 218, 220, 218, 221, 222, 221, 220, 219, 222, 223, 225, 225,\n       228, 229, 231, 232, 237, 237, 239, 241, 242, 243, 244, 248, 247,\n       246, 250, 251, 251, 251, 251, 250, 251, 251, 252, 250, 252, 253,\n       251, 253, 254], dtype=uint8), array([4.51710674])], [array([255, 255, 255, 255, 255, 255, 255, 255, 255, 255, 255, 255, 255,\n       255, 255, 255, 255, 255, 255, 255, 255, 255, 254, 254, 254, 255,\n       255, 255, 255, 255, 255, 255, 255, 255, 255, 255, 255, 255, 255,\n       255, 254, 251, 255, 255, 255, 255, 255, 255, 255, 255, 255, 255,\n       255, 255, 255, 255, 255, 255, 255, 255, 255, 255, 255, 255, 255,\n       255, 255, 255, 255, 255, 255, 255, 254, 251, 247, 241, 230, 235,\n       241, 238, 242, 238, 245, 245, 245, 249, 246, 248, 250, 253, 254,\n       255, 255, 255, 255, 255, 255, 255, 253, 254, 255, 255, 255, 255,\n       254, 255, 255, 255, 255, 255, 255, 255, 255, 255, 255, 255, 255,\n       255, 255, 255], dtype=uint8), array([4.88037655])], [array([255, 255, 255, 255, 255, 255, 255, 255, 255, 255, 255, 255, 255,\n       255, 254, 250, 255, 255, 255, 255, 255, 255, 255, 255, 255, 255,\n       255, 255, 255, 255, 255, 255, 255, 255, 255, 255, 255, 255, 255,\n       255, 255, 255, 255, 255, 255, 255, 255, 255, 255, 255, 255, 255,\n       255, 255, 255, 255, 255, 254, 253, 254, 253, 254, 251, 254, 255,\n       255, 254, 254, 253, 254, 254, 254, 254, 254, 253, 248, 249, 252,\n       252, 254, 254, 251, 255, 255, 255, 255, 254, 252, 251, 247, 249,\n       252, 253, 255, 255, 255, 255, 254, 255, 255, 255, 253, 255, 254,\n       254, 255, 255, 255, 255, 255, 255, 255, 254, 254, 255, 255, 255,\n       255, 255, 255], dtype=uint8), array([4.75318777])], [array([255, 255, 255, 255, 255, 255, 255, 255, 254, 255, 255, 255, 255,\n       255, 255, 254, 253, 252, 250, 251, 252, 249, 249, 244, 244, 243,\n       244, 241, 236, 236, 232, 228, 230, 226, 223, 225, 217, 214, 215,\n       214, 213, 212, 212, 212, 211, 212, 203, 184, 174, 182, 200, 222,\n       239, 252, 254, 253, 250, 254, 254, 253, 255, 255, 254, 253, 255,\n       255, 255, 255, 254, 255, 255, 255, 255, 255, 255, 255, 255, 255,\n       255, 255, 255, 255, 255, 255, 255, 255, 255, 255, 255, 254, 254,\n       255, 255, 255, 255, 255, 255, 255, 255, 255, 253, 252, 254, 255,\n       254, 255, 252, 243, 251, 253, 254, 255, 255, 254, 255, 253, 252,\n       255, 255, 255], dtype=uint8), array([4.67930649])], [array([255, 255, 255, 255, 255, 255, 255, 255, 255, 255, 255, 254, 255,\n       255, 252, 255, 255, 255, 251, 253, 255, 255, 255, 255, 255, 255,\n       253, 253, 254, 254, 252, 255, 254, 254, 254, 254, 253, 250, 250,\n       253, 254, 254, 251, 251, 253, 253, 252, 254, 255, 254, 254, 254,\n       253, 250, 250, 247, 248, 246, 243, 243, 242, 244, 240, 238, 237,\n       231, 227, 215, 209, 214, 224, 231, 231, 233, 235, 238, 238, 240,\n       239, 247, 243, 245, 246, 248, 247, 251, 253, 252, 253, 253, 253,\n       255, 253, 252, 254, 254, 253, 254, 255, 255, 254, 254, 255, 255,\n       252, 255, 255, 255, 253, 254, 254, 255, 253, 254, 255, 255, 255,\n       254, 253, 255], dtype=uint8), array([3.66342182])], [array([233, 229, 233, 233, 231, 230, 231, 232, 230, 231, 232, 232, 231,\n       231, 230, 231, 232, 231, 230, 231, 234, 234, 231, 229, 233, 231,\n       231, 235, 231, 231, 235, 232, 230, 232, 232, 231, 232, 230, 231,\n       230, 232, 231, 234, 229, 230, 228, 235, 232, 231, 229, 229, 231,\n       228, 228, 230, 230, 227, 225, 226, 227, 227, 227, 226, 225, 225,\n       222, 221, 219, 216, 213, 206, 189, 164, 144, 146, 154, 142, 114,\n       101, 113, 118, 117, 119, 127, 133, 139, 141, 141, 145, 147, 150,\n       152, 159, 166, 170, 175, 181, 184, 188, 189, 191, 191, 195, 198,\n       204, 206, 207, 210, 214, 216, 215, 219, 220, 222, 223, 222, 224,\n       228, 229, 231], dtype=uint8), array([11.24816955])], [array([242, 240, 240, 243, 243, 243, 236, 235, 235, 236, 238, 239, 239,\n       238, 239, 237, 236, 233, 231, 229, 230, 226, 227, 224, 221, 219,\n       217, 213, 213, 211, 209, 210, 206, 202, 200, 199, 199, 199, 197,\n       195, 198, 198, 199, 202, 205, 209, 209, 205, 198, 178, 161, 163,\n       179, 204, 222, 235, 244, 248, 243, 243, 242, 244, 241, 238, 240,\n       240, 240, 241, 241, 241, 240, 238, 237, 239, 241, 242, 239, 237,\n       236, 237, 237, 234, 238, 237, 237, 235, 234, 235, 236, 236, 233,\n       234, 235, 233, 234, 233, 233, 234, 236, 235, 233, 234, 233, 231,\n       235, 234, 236, 238, 240, 235, 233, 235, 235, 234, 233, 234, 236,\n       232, 234, 237], dtype=uint8), array([5.29607184])], [array([239, 239, 243, 239, 240, 241, 239, 236, 237, 238, 238, 238, 240,\n       239, 237, 236, 236, 233, 235, 231, 236, 235, 234, 234, 230, 231,\n       229, 225, 226, 226, 219, 217, 216, 213, 209, 206, 204, 202, 200,\n       195, 193, 191, 189, 187, 187, 189, 189, 189, 188, 189, 186, 178,\n       164, 155, 165, 183, 203, 221, 239, 243, 247, 243, 244, 246, 242,\n       242, 242, 241, 243, 243, 242, 242, 241, 239, 241, 242, 238, 240,\n       240, 238, 238, 241, 236, 239, 241, 238, 237, 237, 237, 236, 235,\n       235, 234, 235, 233, 230, 230, 229, 232, 230, 229, 227, 228, 229,\n       227, 227, 228, 226, 227, 228, 228, 233, 232, 233, 236, 236, 235,\n       236, 234, 233], dtype=uint8), array([5.46791157])], [array([237, 242, 240, 239, 238, 237, 235, 239, 240, 240, 240, 242, 241,\n       241, 238, 239, 238, 239, 237, 238, 235, 233, 233, 230, 231, 227,\n       225, 226, 222, 222, 220, 218, 216, 215, 213, 210, 209, 206, 204,\n       204, 201, 197, 194, 193, 192, 188, 190, 187, 185, 188, 192, 196,\n       197, 197, 193, 183, 169, 167, 182, 201, 215, 222, 239, 244, 240,\n       241, 240, 242, 243, 245, 242, 243, 241, 240, 239, 239, 241, 240,\n       240, 239, 237, 239, 240, 240, 240, 243, 237, 238, 241, 241, 240,\n       242, 239, 241, 239, 239, 238, 241, 240, 240, 242, 240, 239, 241,\n       238, 240, 238, 239, 241, 243, 238, 241, 239, 239, 237, 240, 240,\n       236, 236, 227], dtype=uint8), array([5.45620238])], [array([255, 255, 254, 255, 255, 255, 255, 248, 249, 255, 255, 255, 255,\n       254, 255, 255, 254, 254, 255, 255, 255, 255, 255, 255, 255, 255,\n       255, 255, 255, 255, 255, 255, 255, 255, 255, 255, 255, 255, 255,\n       254, 254, 254, 253, 254, 254, 255, 255, 255, 255, 255, 255, 255,\n       255, 255, 255, 255, 255, 255, 255, 255, 255, 255, 255, 255, 255,\n       255, 255, 255, 255, 255, 255, 255, 255, 255, 255, 255, 255, 255,\n       255, 255, 255, 255, 255, 255, 255, 255, 255, 255, 255, 255, 254,\n       254, 255, 255, 255, 255, 255, 255, 255, 255, 255, 255, 255, 255,\n       255, 255, 255, 255, 255, 255, 255, 255, 255, 255, 255, 255, 255,\n       255, 255, 255], dtype=uint8), array([0.])], [array([229, 237, 245, 246, 252, 255, 253, 254, 255, 254, 255, 255, 255,\n       255, 255, 255, 255, 255, 255, 255, 255, 255, 255, 255, 255, 255,\n       255, 255, 255, 255, 255, 255, 255, 255, 255, 255, 255, 255, 255,\n       255, 255, 255, 255, 255, 255, 255, 255, 255, 255, 255, 255, 255,\n       254, 252, 255, 255, 255, 255, 255, 255, 255, 255, 254, 255, 255,\n       255, 253, 254, 248, 236, 204, 174, 169, 164, 151, 129, 107, 107,\n       123, 127, 126, 135, 148, 159, 163, 167, 172, 178, 189, 194, 199,\n       198, 206, 209, 211, 216, 227, 231, 232, 237, 240, 244, 247, 250,\n       249, 253, 250, 254, 254, 255, 255, 255, 255, 255, 255, 255, 255,\n       255, 255, 255], dtype=uint8), array([11.65322989])], [array([255, 255, 255, 255, 255, 255, 255, 255, 255, 255, 255, 255, 255,\n       255, 255, 255, 255, 255, 255, 255, 255, 255, 255, 255, 255, 255,\n       255, 255, 255, 255, 255, 255, 255, 255, 255, 255, 255, 255, 255,\n       255, 255, 255, 255, 255, 255, 255, 255, 255, 255, 255, 255, 255,\n       255, 255, 255, 255, 255, 255, 255, 255, 255, 255, 255, 253, 250,\n       245, 239, 232, 231, 212, 201, 183, 151, 151, 169, 173, 162, 144,\n       135, 143, 158, 174, 185, 187, 191, 197, 200, 206, 212, 217, 222,\n       228, 227, 236, 237, 238, 242, 243, 248, 251, 253, 253, 255, 255,\n       254, 255, 255, 255, 255, 255, 255, 255, 255, 255, 255, 255, 255,\n       255, 255, 255], dtype=uint8), array([11.24816955])], [array([255, 255, 255, 255, 255, 255, 255, 253, 254, 255, 255, 255, 255,\n       255, 255, 255, 255, 255, 255, 255, 255, 255, 255, 255, 255, 255,\n       255, 255, 255, 255, 255, 255, 255, 255, 255, 255, 255, 255, 255,\n       255, 255, 255, 255, 255, 255, 255, 255, 255, 254, 254, 254, 254,\n       253, 247, 244, 244, 240, 234, 228, 217, 201, 188, 172, 164, 167,\n       165, 156, 138, 130, 141, 171, 205, 233, 244, 252, 254, 255, 254,\n       255, 255, 255, 255, 255, 255, 255, 255, 255, 248, 254, 255, 255,\n       255, 255, 255, 255, 255, 255, 255, 255, 255, 255, 255, 255, 255,\n       255, 255, 255, 255, 255, 255, 255, 255, 255, 255, 255, 255, 255,\n       255, 255, 255], dtype=uint8), array([5.29607184])], [array([255, 255, 255, 255, 255, 255, 255, 255, 255, 255, 255, 255, 255,\n       255, 255, 255, 255, 255, 255, 255, 255, 255, 255, 255, 255, 255,\n       255, 255, 255, 255, 255, 255, 255, 255, 255, 255, 254, 249, 255,\n       255, 255, 255, 255, 255, 255, 255, 255, 255, 255, 255, 248, 236,\n       218, 200, 184, 170, 183, 205, 215, 217, 221, 224, 225, 229, 234,\n       236, 241, 246, 248, 251, 253, 255, 255, 255, 255, 255, 255, 255,\n       255, 255, 255, 255, 255, 255, 255, 255, 255, 255, 255, 255, 255,\n       255, 255, 255, 255, 255, 255, 255, 255, 255, 255, 255, 255, 255,\n       255, 255, 254, 254, 255, 255, 255, 255, 255, 255, 255, 255, 255,\n       255, 255, 255], dtype=uint8), array([5.46791157])], [array([255, 255, 255, 255, 255, 255, 255, 255, 255, 255, 255, 255, 255,\n       255, 255, 255, 255, 255, 255, 255, 255, 255, 255, 255, 255, 255,\n       255, 255, 255, 255, 255, 255, 255, 255, 255, 255, 255, 255, 255,\n       255, 255, 255, 255, 255, 255, 255, 255, 255, 255, 255, 255, 255,\n       255, 253, 239, 215, 193, 169, 153, 152, 172, 194, 204, 207, 211,\n       212, 212, 218, 225, 233, 238, 238, 243, 251, 249, 254, 255, 255,\n       255, 255, 255, 255, 255, 255, 255, 255, 255, 255, 255, 255, 255,\n       255, 255, 255, 255, 255, 255, 255, 255, 255, 255, 255, 255, 255,\n       255, 255, 255, 255, 255, 255, 255, 255, 255, 255, 255, 255, 255,\n       255, 255, 255], dtype=uint8), array([5.45620238])], [array([255, 255, 255, 255, 255, 255, 255, 255, 255, 255, 255, 255, 255,\n       255, 255, 255, 255, 255, 255, 255, 255, 255, 255, 255, 255, 255,\n       255, 255, 255, 255, 255, 255, 255, 255, 255, 255, 253, 255, 255,\n       255, 255, 255, 255, 255, 255, 255, 255, 255, 255, 255, 255, 255,\n       255, 255, 255, 255, 255, 255, 255, 255, 255, 255, 255, 255, 255,\n       255, 255, 255, 255, 255, 255, 255, 255, 255, 255, 255, 255, 255,\n       255, 255, 255, 255, 255, 255, 255, 255, 255, 255, 255, 255, 255,\n       255, 255, 255, 255, 255, 255, 255, 255, 255, 255, 255, 255, 255,\n       255, 255, 255, 255, 255, 255, 255, 255, 255, 255, 255, 255, 255,\n       255, 255, 255], dtype=uint8), array([3.54463004])], [array([243, 240, 236, 237, 240, 243, 239, 244, 248, 246, 247, 244, 239,\n       241, 249, 251, 251, 249, 246, 246, 243, 239, 245, 246, 243, 244,\n       242, 241, 242, 242, 247, 245, 246, 250, 245, 246, 247, 246, 243,\n       249, 244, 250, 249, 248, 247, 244, 244, 246, 242, 244, 245, 245,\n       241, 238, 238, 237, 235, 233, 231, 226, 222, 221, 217, 214, 210,\n       205, 203, 199, 195, 191, 189, 186, 186, 188, 186, 178, 157, 138,\n       150, 177, 208, 233, 246, 246, 250, 247, 248, 250, 248, 248, 246,\n       244, 246, 243, 242, 241, 239, 239, 243, 240, 239, 242, 240, 236,\n       236, 238, 237, 236, 235, 234, 235, 233, 232, 229, 230, 233, 230,\n       228, 228, 224], dtype=uint8), array([4.51179147])], [array([253, 254, 255, 255, 255, 255, 255, 255, 255, 255, 255, 255, 255,\n       255, 252, 255, 255, 255, 255, 255, 255, 255, 253, 255, 255, 255,\n       255, 255, 253, 253, 254, 254, 252, 253, 250, 251, 248, 247, 248,\n       241, 243, 241, 239, 239, 238, 239, 241, 238, 233, 233, 231, 229,\n       230, 233, 230, 230, 229, 229, 225, 220, 215, 204, 195, 196, 204,\n       224, 247, 254, 255, 255, 255, 255, 255, 255, 255, 254, 251, 251,\n       252, 252, 253, 251, 251, 250, 249, 247, 246, 249, 250, 247, 247,\n       245, 245, 246, 244, 244, 244, 243, 240, 240, 241, 242, 241, 240,\n       241, 239, 238, 240, 244, 245, 243, 244, 248, 246, 246, 244, 242,\n       244, 246, 246], dtype=uint8), array([4.37560143])], [array([254, 255, 255, 249, 254, 255, 255, 253, 254, 254, 252, 250, 251,\n       250, 250, 251, 252, 254, 255, 254, 252, 251, 252, 253, 254, 253,\n       253, 249, 252, 255, 254, 252, 252, 252, 249, 249, 248, 249, 248,\n       248, 248, 248, 250, 247, 246, 246, 245, 251, 247, 244, 244, 243,\n       240, 240, 240, 239, 237, 233, 233, 227, 227, 225, 226, 221, 217,\n       216, 213, 209, 206, 200, 200, 207, 209, 205, 202, 194, 168, 149,\n       163, 190, 215, 231, 244, 253, 253, 248, 250, 248, 247, 247, 249,\n       249, 245, 244, 244, 241, 239, 237, 238, 236, 240, 235, 237, 237,\n       238, 241, 237, 237, 240, 239, 236, 237, 238, 237, 238, 238, 242,\n       237, 238, 240], dtype=uint8), array([3.95002995])], [array([243, 246, 246, 243, 242, 241, 244, 243, 243, 243, 244, 246, 245,\n       242, 243, 241, 241, 239, 240, 239, 241, 237, 241, 240, 240, 241,\n       240, 243, 242, 240, 240, 243, 242, 240, 242, 242, 237, 241, 246,\n       242, 241, 242, 240, 240, 239, 241, 237, 239, 241, 238, 237, 238,\n       237, 235, 236, 235, 234, 229, 225, 224, 220, 216, 214, 215, 212,\n       212, 213, 207, 203, 200, 197, 197, 195, 193, 178, 166, 172, 199,\n       227, 241, 245, 245, 248, 249, 245, 246, 244, 242, 241, 239, 234,\n       231, 227, 226, 224, 217, 214, 213, 210, 210, 210, 211, 212, 217,\n       222, 226, 230, 231, 230, 230, 231, 231, 225, 226, 228, 224, 222,\n       223, 226, 223], dtype=uint8), array([3.53048839])], [array([215, 212, 212, 211, 212, 210, 206, 205, 202, 205, 204, 199, 199,\n       198, 195, 198, 199, 199, 194, 196, 188, 182, 180, 178, 181, 181,\n       179, 177, 179, 182, 184, 185, 186, 182, 178, 175, 185, 197, 207,\n       209, 212, 216, 215, 211, 210, 206, 204, 202, 201, 206, 210, 212,\n       215, 219, 218, 220, 217, 217, 212, 213, 208, 196, 178, 168, 176,\n       202, 229, 245, 250, 252, 249, 251, 249, 248, 248, 247, 247, 246,\n       248, 247, 244, 244, 244, 247, 243, 241, 241, 242, 243, 246, 246,\n       246, 247, 244, 240, 240, 237, 238, 239, 238, 240, 240, 238, 241,\n       242, 246, 245, 236, 232, 232, 232, 228, 210, 195, 183, 197, 213,\n       228, 234, 234], dtype=uint8), array([3.67640104])], [array([237, 238, 236, 240, 235, 236, 233, 232, 233, 236, 238, 233, 235,\n       235, 235, 234, 234, 233, 234, 234, 238, 236, 235, 236, 238, 237,\n       236, 236, 235, 234, 237, 232, 230, 230, 232, 229, 229, 228, 228,\n       225, 224, 219, 216, 211, 210, 207, 208, 202, 194, 191, 184, 181,\n       179, 172, 170, 166, 163, 162, 159, 150, 143, 136, 131, 127, 124,\n       117, 109, 109, 118, 132, 146, 168, 184, 191, 200, 221, 246, 254,\n       255, 255, 255, 255, 255, 255, 255, 255, 255, 254, 255, 252, 249,\n       252, 249, 246, 248, 241, 239, 241, 237, 234, 231, 226, 231, 232,\n       228, 230, 229, 227, 225, 224, 226, 228, 226, 227, 224, 225, 224,\n       226, 222, 225], dtype=uint8), array([8.97995119])], [array([243, 243, 246, 242, 242, 239, 241, 238, 236, 240, 241, 238, 234,\n       235, 233, 239, 237, 233, 238, 235, 235, 229, 232, 230, 231, 232,\n       231, 229, 231, 232, 228, 228, 226, 228, 233, 227, 227, 228, 227,\n       227, 231, 232, 227, 227, 226, 224, 219, 214, 200, 180, 162, 148,\n       137, 154, 179, 193, 199, 202, 204, 207, 209, 211, 214, 213, 213,\n       217, 219, 224, 223, 226, 230, 224, 226, 228, 233, 231, 229, 230,\n       229, 229, 231, 233, 230, 229, 231, 231, 232, 234, 229, 232, 233,\n       232, 232, 232, 232, 232, 233, 231, 231, 232, 230, 233, 231, 231,\n       231, 232, 230, 232, 232, 233, 235, 231, 228, 230, 231, 229, 230,\n       232, 231, 228], dtype=uint8), array([5.35827466])], [array([237, 239, 240, 239, 235, 241, 243, 242, 244, 246, 244, 245, 247,\n       247, 245, 246, 246, 247, 248, 248, 246, 248, 250, 247, 248, 249,\n       248, 244, 246, 248, 249, 249, 249, 249, 245, 241, 234, 235, 235,\n       236, 237, 236, 240, 242, 244, 242, 244, 245, 246, 250, 250, 249,\n       251, 249, 249, 249, 249, 250, 248, 249, 251, 245, 244, 241, 237,\n       237, 235, 236, 224, 203, 178, 170, 184, 185, 174, 163, 150, 148,\n       150, 156, 161, 164, 167, 171, 170, 174, 177, 178, 178, 182, 184,\n       186, 188, 189, 192, 190, 191, 195, 194, 195, 199, 198, 199, 199,\n       197, 196, 196, 198, 203, 202, 200, 200, 200, 201, 203, 205, 203,\n       205, 203, 203], dtype=uint8), array([8.97995119])], [array([198, 198, 203, 201, 204, 206, 206, 205, 209, 209, 210, 212, 213,\n       213, 212, 213, 213, 212, 209, 214, 212, 211, 212, 213, 214, 212,\n       209, 207, 207, 209, 207, 201, 203, 204, 201, 198, 196, 197, 197,\n       196, 196, 199, 198, 197, 199, 198, 195, 178, 155, 155, 171, 186,\n       202, 224, 242, 252, 251, 251, 248, 250, 250, 253, 248, 246, 247,\n       247, 248, 247, 246, 243, 243, 246, 246, 244, 245, 246, 245, 245,\n       246, 247, 246, 246, 243, 242, 243, 243, 245, 245, 243, 245, 241,\n       245, 244, 244, 246, 244, 244, 247, 248, 246, 248, 245, 247, 246,\n       244, 244, 242, 242, 244, 243, 238, 238, 239, 236, 221, 203, 194,\n       196, 208, 226], dtype=uint8), array([5.35827466])], [array([247, 252, 253, 255, 255, 251, 252, 253, 251, 249, 251, 252, 251,\n       251, 254, 253, 250, 252, 252, 253, 251, 248, 253, 251, 250, 250,\n       250, 247, 248, 249, 250, 251, 251, 250, 249, 249, 249, 250, 253,\n       249, 245, 247, 248, 249, 248, 245, 246, 246, 247, 244, 246, 245,\n       244, 247, 245, 244, 244, 244, 241, 237, 237, 240, 238, 238, 242,\n       238, 240, 241, 240, 240, 237, 237, 234, 229, 218, 199, 184, 179,\n       183, 202, 207, 206, 208, 206, 203, 201, 202, 201, 203, 202, 202,\n       203, 202, 203, 203, 202, 201, 198, 199, 201, 201, 201, 199, 198,\n       198, 198, 196, 198, 197, 194, 195, 195, 195, 194, 198, 195, 196,\n       198, 195, 194], dtype=uint8), array([3.76287851])], [array([255, 255, 255, 254, 254, 255, 254, 253, 253, 254, 252, 255, 255,\n       255, 255, 255, 255, 254, 253, 254, 255, 255, 255, 255, 255, 254,\n       252, 247, 243, 244, 247, 243, 246, 248, 248, 245, 242, 242, 243,\n       237, 229, 227, 229, 234, 239, 245, 245, 244, 247, 246, 250, 250,\n       251, 254, 253, 253, 255, 255, 254, 254, 253, 254, 254, 255, 255,\n       253, 255, 255, 255, 255, 255, 253, 252, 242, 235, 237, 242, 241,\n       239, 234, 237, 237, 235, 238, 236, 238, 239, 239, 240, 243, 247,\n       248, 246, 249, 251, 250, 252, 248, 246, 255, 255, 255, 255, 253,\n       254, 252, 253, 254, 255, 255, 255, 255, 255, 255, 255, 255, 255,\n       255, 255, 255], dtype=uint8), array([3.04808728])], [array([251, 251, 254, 254, 255, 255, 255, 254, 253, 255, 255, 255, 254,\n       253, 255, 255, 255, 255, 255, 255, 255, 255, 255, 254, 255, 255,\n       255, 255, 255, 255, 255, 255, 255, 255, 255, 255, 255, 255, 255,\n       255, 255, 255, 255, 255, 255, 255, 255, 255, 255, 255, 255, 255,\n       255, 255, 255, 255, 255, 255, 255, 255, 255, 255, 255, 255, 255,\n       255, 255, 255, 255, 254, 248, 251, 246, 235, 212, 201, 195, 195,\n       214, 221, 224, 228, 225, 229, 229, 227, 229, 231, 233, 233, 233,\n       232, 230, 237, 235, 234, 237, 238, 239, 238, 240, 239, 240, 238,\n       241, 241, 240, 242, 241, 242, 238, 236, 237, 233, 231, 234, 232,\n       228, 230, 227], dtype=uint8), array([3.04562947])], [array([255, 255, 255, 255, 255, 255, 255, 255, 255, 255, 255, 255, 255,\n       255, 255, 255, 255, 255, 255, 255, 255, 255, 255, 255, 255, 255,\n       255, 255, 255, 255, 255, 255, 255, 255, 255, 255, 255, 255, 255,\n       255, 255, 255, 255, 255, 255, 255, 255, 255, 255, 255, 255, 255,\n       255, 255, 255, 255, 255, 255, 255, 255, 255, 255, 255, 255, 255,\n       255, 254, 255, 254, 252, 247, 238, 220, 190, 178, 192, 218, 237,\n       246, 251, 253, 255, 254, 251, 250, 251, 249, 247, 248, 249, 245,\n       246, 244, 243, 241, 244, 241, 240, 238, 237, 239, 240, 238, 238,\n       238, 239, 236, 232, 232, 229, 224, 224, 210, 204, 198, 186, 171,\n       152, 136, 132], dtype=uint8), array([3.06895321])], [array([255, 255, 255, 255, 254, 251, 255, 255, 254, 253, 255, 253, 252,\n       247, 243, 237, 232, 222, 209, 190, 176, 169, 165, 171, 176, 183,\n       185, 181, 177, 183, 192, 210, 219, 227, 229, 238, 242, 244, 245,\n       246, 245, 246, 249, 250, 250, 252, 251, 250, 249, 240, 239, 233,\n       222, 211, 211, 223, 237, 248, 252, 254, 255, 254, 253, 254, 253,\n       254, 255, 253, 252, 255, 254, 255, 255, 255, 255, 255, 255, 255,\n       255, 255, 255, 255, 255, 255, 255, 255, 255, 255, 255, 255, 255,\n       255, 255, 255, 255, 255, 255, 255, 255, 255, 255, 255, 255, 255,\n       254, 255, 255, 255, 255, 255, 254, 250, 247, 246, 242, 246, 242,\n       237, 234, 234], dtype=uint8), array([2.85702873])], [array([233, 234, 235, 233, 233, 235, 234, 234, 236, 236, 236, 233, 236,\n       236, 235, 233, 233, 233, 235, 236, 234, 231, 234, 233, 234, 236,\n       234, 232, 239, 234, 233, 235, 235, 238, 233, 234, 232, 230, 228,\n       234, 235, 232, 237, 235, 234, 236, 237, 240, 242, 235, 233, 233,\n       233, 233, 232, 234, 233, 237, 235, 234, 235, 234, 236, 239, 237,\n       237, 241, 241, 240, 241, 243, 245, 245, 246, 248, 248, 248, 247,\n       239, 226, 204, 182, 176, 188, 196, 200, 201, 204, 201, 199, 198,\n       197, 196, 197, 197, 200, 200, 205, 208, 208, 210, 212, 215, 214,\n       219, 223, 225, 227, 227, 229, 233, 235, 234, 238, 232, 235, 236,\n       237, 236, 238], dtype=uint8), array([4.51179147])], [array([251, 251, 252, 253, 254, 254, 251, 248, 247, 247, 246, 244, 242,\n       239, 236, 233, 228, 226, 227, 225, 223, 224, 221, 219, 213, 207,\n       206, 197, 190, 179, 169, 162, 166, 168, 173, 181, 184, 189, 195,\n       199, 196, 198, 201, 199, 200, 206, 207, 208, 204, 209, 209, 210,\n       211, 211, 209, 210, 211, 207, 204, 189, 166, 155, 155, 159, 170,\n       189, 194, 193, 191, 190, 188, 188, 188, 185, 187, 187, 187, 187,\n       190, 193, 192, 192, 195, 196, 197, 198, 200, 204, 207, 207, 209,\n       214, 217, 215, 216, 216, 216, 218, 220, 224, 225, 223, 223, 225,\n       230, 229, 230, 230, 231, 230, 234, 234, 234, 234, 234, 233, 237,\n       234, 237, 235], dtype=uint8), array([4.37560143])], [array([204, 200, 197, 196, 192, 192, 189, 188, 186, 186, 186, 187, 186,\n       190, 189, 191, 193, 193, 193, 193, 196, 193, 195, 197, 195, 197,\n       201, 201, 204, 206, 206, 205, 207, 207, 205, 205, 210, 210, 211,\n       211, 215, 217, 219, 217, 218, 221, 222, 223, 221, 222, 225, 226,\n       227, 227, 223, 225, 226, 222, 231, 228, 230, 229, 228, 233, 235,\n       237, 237, 237, 239, 240, 242, 243, 246, 246, 247, 248, 245, 242,\n       232, 215, 190, 170, 167, 183, 193, 198, 202, 202, 200, 199, 201,\n       202, 203, 206, 208, 210, 213, 216, 218, 219, 225, 226, 230, 232,\n       232, 237, 237, 239, 243, 242, 243, 244, 243, 244, 245, 245, 244,\n       243, 244, 246], dtype=uint8), array([3.95002995])], [array([228, 227, 227, 228, 232, 235, 236, 237, 238, 238, 241, 241, 240,\n       239, 243, 243, 245, 244, 244, 245, 246, 248, 249, 246, 250, 250,\n       247, 248, 244, 246, 251, 249, 245, 248, 246, 249, 251, 248, 249,\n       250, 251, 248, 247, 252, 253, 251, 247, 250, 249, 247, 246, 248,\n       252, 251, 249, 249, 252, 247, 252, 255, 253, 250, 251, 248, 248,\n       244, 246, 247, 249, 251, 253, 248, 252, 253, 253, 249, 243, 235,\n       222, 212, 212, 222, 226, 229, 226, 228, 225, 223, 225, 224, 221,\n       224, 224, 229, 227, 231, 236, 237, 239, 242, 243, 243, 246, 250,\n       240, 240, 237, 237, 232, 228, 231, 233, 235, 235, 236, 237, 236,\n       238, 235, 235], dtype=uint8), array([3.53048839])], [array([253, 251, 253, 253, 251, 254, 255, 255, 255, 254, 255, 255, 255,\n       255, 255, 255, 253, 254, 252, 251, 249, 245, 246, 249, 247, 247,\n       252, 251, 249, 246, 246, 248, 248, 241, 244, 246, 250, 251, 251,\n       253, 253, 251, 252, 253, 255, 255, 255, 255, 255, 255, 255, 255,\n       255, 255, 255, 254, 254, 253, 250, 247, 240, 233, 221, 211, 198,\n       202, 219, 229, 232, 236, 238, 238, 238, 237, 240, 242, 243, 246,\n       245, 242, 240, 240, 241, 241, 240, 243, 242, 240, 238, 239, 241,\n       242, 239, 239, 235, 227, 224, 223, 228, 232, 233, 231, 234, 239,\n       239, 240, 244, 242, 247, 248, 249, 250, 247, 248, 251, 249, 248,\n       249, 251, 251], dtype=uint8), array([3.67640104])], [array([248, 248, 247, 247, 247, 246, 242, 242, 245, 246, 245, 240, 243,\n       245, 240, 240, 239, 238, 239, 242, 240, 239, 241, 240, 237, 239,\n       240, 236, 239, 239, 238, 235, 236, 236, 238, 239, 237, 238, 235,\n       234, 230, 231, 228, 232, 230, 232, 231, 228, 229, 230, 228, 230,\n       229, 227, 228, 227, 226, 224, 227, 223, 202, 172, 163, 166, 171,\n       192, 214, 219, 219, 222, 220, 222, 221, 226, 230, 234, 233, 233,\n       239, 237, 236, 232, 230, 223, 219, 223, 228, 235, 239, 242, 243,\n       246, 248, 250, 249, 249, 247, 245, 245, 246, 246, 241, 242, 245,\n       248, 245, 248, 249, 249, 251, 251, 248, 250, 249, 247, 249, 250,\n       248, 244, 249], dtype=uint8), array([5.21064103])]] with type list",
      "\nDuring handling of the above exception, another exception occurred:\n",
      "\u001b[0;31mValueError\u001b[0m                                Traceback (most recent call last)",
      "Input \u001b[0;32mIn [210]\u001b[0m, in \u001b[0;36m<cell line: 1>\u001b[0;34m()\u001b[0m\n\u001b[0;32m----> 1\u001b[0m both_path \u001b[38;5;241m=\u001b[39m \u001b[43mtf\u001b[49m\u001b[38;5;241;43m.\u001b[39;49m\u001b[43mdata\u001b[49m\u001b[38;5;241;43m.\u001b[39;49m\u001b[43mDataset\u001b[49m\u001b[38;5;241;43m.\u001b[39;49m\u001b[43mfrom_tensor_slices\u001b[49m\u001b[43m(\u001b[49m\n\u001b[1;32m      2\u001b[0m \u001b[43m        \u001b[49m\u001b[43m[\u001b[49m\u001b[38;5;28;43mlist\u001b[39;49m\u001b[43m(\u001b[49m\u001b[43mcouple\u001b[49m\u001b[43m)\u001b[49m\u001b[43m \u001b[49m\u001b[38;5;28;43;01mfor\u001b[39;49;00m\u001b[43m \u001b[49m\u001b[43mcouple\u001b[49m\u001b[43m \u001b[49m\u001b[38;5;129;43;01min\u001b[39;49;00m\u001b[43m \u001b[49m\u001b[38;5;28;43mzip\u001b[39;49m\u001b[43m(\u001b[49m\u001b[43m[\u001b[49m\u001b[43mnp\u001b[49m\u001b[38;5;241;43m.\u001b[39;49m\u001b[43marray\u001b[49m\u001b[43m(\u001b[49m\u001b[43mtrain_feature\u001b[49m\u001b[43m[\u001b[49m\u001b[43mi\u001b[49m\u001b[43m,\u001b[49m\u001b[43m:\u001b[49m\u001b[43m]\u001b[49m\u001b[43m)\u001b[49m\u001b[43m \u001b[49m\u001b[38;5;28;43;01mfor\u001b[39;49;00m\u001b[43m \u001b[49m\u001b[43mi\u001b[49m\u001b[43m \u001b[49m\u001b[38;5;129;43;01min\u001b[39;49;00m\u001b[43m \u001b[49m\u001b[38;5;28;43mrange\u001b[39;49m\u001b[43m(\u001b[49m\u001b[38;5;28;43mlen\u001b[39;49m\u001b[43m(\u001b[49m\u001b[43mtrain_feature\u001b[49m\u001b[43m)\u001b[49m\u001b[43m)\u001b[49m\u001b[43m]\u001b[49m\u001b[43m,\u001b[49m\u001b[43m \u001b[49m\u001b[43mtrain_label\u001b[49m\u001b[43m)\u001b[49m\u001b[43m]\u001b[49m\n\u001b[1;32m      3\u001b[0m \u001b[43m    \u001b[49m\u001b[43m)\u001b[49m\n",
      "File \u001b[0;32m~/Wks/AMFtrack/venv/lib/python3.8/site-packages/tensorflow/python/data/ops/dataset_ops.py:793\u001b[0m, in \u001b[0;36mDatasetV2.from_tensor_slices\u001b[0;34m(tensors, name)\u001b[0m\n\u001b[1;32m    715\u001b[0m \u001b[38;5;129m@staticmethod\u001b[39m\n\u001b[1;32m    716\u001b[0m \u001b[38;5;28;01mdef\u001b[39;00m \u001b[38;5;21mfrom_tensor_slices\u001b[39m(tensors, name\u001b[38;5;241m=\u001b[39m\u001b[38;5;28;01mNone\u001b[39;00m):\n\u001b[1;32m    717\u001b[0m   \u001b[38;5;124;03m\"\"\"Creates a `Dataset` whose elements are slices of the given tensors.\u001b[39;00m\n\u001b[1;32m    718\u001b[0m \n\u001b[1;32m    719\u001b[0m \u001b[38;5;124;03m  The given tensors are sliced along their first dimension. This operation\u001b[39;00m\n\u001b[0;32m   (...)\u001b[0m\n\u001b[1;32m    791\u001b[0m \u001b[38;5;124;03m    Dataset: A `Dataset`.\u001b[39;00m\n\u001b[1;32m    792\u001b[0m \u001b[38;5;124;03m  \"\"\"\u001b[39;00m\n\u001b[0;32m--> 793\u001b[0m   \u001b[38;5;28;01mreturn\u001b[39;00m \u001b[43mTensorSliceDataset\u001b[49m\u001b[43m(\u001b[49m\u001b[43mtensors\u001b[49m\u001b[43m,\u001b[49m\u001b[43m \u001b[49m\u001b[43mname\u001b[49m\u001b[38;5;241;43m=\u001b[39;49m\u001b[43mname\u001b[49m\u001b[43m)\u001b[49m\n",
      "File \u001b[0;32m~/Wks/AMFtrack/venv/lib/python3.8/site-packages/tensorflow/python/data/ops/dataset_ops.py:4477\u001b[0m, in \u001b[0;36mTensorSliceDataset.__init__\u001b[0;34m(self, element, is_files, name)\u001b[0m\n\u001b[1;32m   4475\u001b[0m \u001b[38;5;28;01mdef\u001b[39;00m \u001b[38;5;21m__init__\u001b[39m(\u001b[38;5;28mself\u001b[39m, element, is_files\u001b[38;5;241m=\u001b[39m\u001b[38;5;28;01mFalse\u001b[39;00m, name\u001b[38;5;241m=\u001b[39m\u001b[38;5;28;01mNone\u001b[39;00m):\n\u001b[1;32m   4476\u001b[0m   \u001b[38;5;124;03m\"\"\"See `Dataset.from_tensor_slices()` for details.\"\"\"\u001b[39;00m\n\u001b[0;32m-> 4477\u001b[0m   element \u001b[38;5;241m=\u001b[39m \u001b[43mstructure\u001b[49m\u001b[38;5;241;43m.\u001b[39;49m\u001b[43mnormalize_element\u001b[49m\u001b[43m(\u001b[49m\u001b[43melement\u001b[49m\u001b[43m)\u001b[49m\n\u001b[1;32m   4478\u001b[0m   batched_spec \u001b[38;5;241m=\u001b[39m structure\u001b[38;5;241m.\u001b[39mtype_spec_from_value(element)\n\u001b[1;32m   4479\u001b[0m   \u001b[38;5;28mself\u001b[39m\u001b[38;5;241m.\u001b[39m_tensors \u001b[38;5;241m=\u001b[39m structure\u001b[38;5;241m.\u001b[39mto_batched_tensor_list(batched_spec, element)\n",
      "File \u001b[0;32m~/Wks/AMFtrack/venv/lib/python3.8/site-packages/tensorflow/python/data/util/structure.py:107\u001b[0m, in \u001b[0;36mnormalize_element\u001b[0;34m(element, element_signature)\u001b[0m\n\u001b[1;32m    102\u001b[0m     spec \u001b[38;5;241m=\u001b[39m type_spec_from_value(t, use_fallback\u001b[38;5;241m=\u001b[39m\u001b[38;5;28;01mFalse\u001b[39;00m)\n\u001b[1;32m    103\u001b[0m \u001b[38;5;28;01mexcept\u001b[39;00m \u001b[38;5;167;01mTypeError\u001b[39;00m:\n\u001b[1;32m    104\u001b[0m   \u001b[38;5;66;03m# TypeError indicates it was not possible to compute a `TypeSpec` for\u001b[39;00m\n\u001b[1;32m    105\u001b[0m   \u001b[38;5;66;03m# the value. As a fallback try converting the value to a tensor.\u001b[39;00m\n\u001b[1;32m    106\u001b[0m   normalized_components\u001b[38;5;241m.\u001b[39mappend(\n\u001b[0;32m--> 107\u001b[0m       \u001b[43mops\u001b[49m\u001b[38;5;241;43m.\u001b[39;49m\u001b[43mconvert_to_tensor\u001b[49m\u001b[43m(\u001b[49m\u001b[43mt\u001b[49m\u001b[43m,\u001b[49m\u001b[43m \u001b[49m\u001b[43mname\u001b[49m\u001b[38;5;241;43m=\u001b[39;49m\u001b[38;5;124;43m\"\u001b[39;49m\u001b[38;5;124;43mcomponent_\u001b[39;49m\u001b[38;5;132;43;01m%d\u001b[39;49;00m\u001b[38;5;124;43m\"\u001b[39;49m\u001b[43m \u001b[49m\u001b[38;5;241;43m%\u001b[39;49m\u001b[43m \u001b[49m\u001b[43mi\u001b[49m\u001b[43m)\u001b[49m)\n\u001b[1;32m    108\u001b[0m \u001b[38;5;28;01melse\u001b[39;00m:\n\u001b[1;32m    109\u001b[0m   \u001b[38;5;28;01mif\u001b[39;00m \u001b[38;5;28misinstance\u001b[39m(spec, sparse_tensor\u001b[38;5;241m.\u001b[39mSparseTensorSpec):\n",
      "File \u001b[0;32m~/Wks/AMFtrack/venv/lib/python3.8/site-packages/tensorflow/python/profiler/trace.py:183\u001b[0m, in \u001b[0;36mtrace_wrapper.<locals>.inner_wrapper.<locals>.wrapped\u001b[0;34m(*args, **kwargs)\u001b[0m\n\u001b[1;32m    181\u001b[0m   \u001b[38;5;28;01mwith\u001b[39;00m Trace(trace_name, \u001b[38;5;241m*\u001b[39m\u001b[38;5;241m*\u001b[39mtrace_kwargs):\n\u001b[1;32m    182\u001b[0m     \u001b[38;5;28;01mreturn\u001b[39;00m func(\u001b[38;5;241m*\u001b[39margs, \u001b[38;5;241m*\u001b[39m\u001b[38;5;241m*\u001b[39mkwargs)\n\u001b[0;32m--> 183\u001b[0m \u001b[38;5;28;01mreturn\u001b[39;00m \u001b[43mfunc\u001b[49m\u001b[43m(\u001b[49m\u001b[38;5;241;43m*\u001b[39;49m\u001b[43margs\u001b[49m\u001b[43m,\u001b[49m\u001b[43m \u001b[49m\u001b[38;5;241;43m*\u001b[39;49m\u001b[38;5;241;43m*\u001b[39;49m\u001b[43mkwargs\u001b[49m\u001b[43m)\u001b[49m\n",
      "File \u001b[0;32m~/Wks/AMFtrack/venv/lib/python3.8/site-packages/tensorflow/python/framework/ops.py:1695\u001b[0m, in \u001b[0;36mconvert_to_tensor\u001b[0;34m(value, dtype, name, as_ref, preferred_dtype, dtype_hint, ctx, accepted_result_types)\u001b[0m\n\u001b[1;32m   1690\u001b[0m       \u001b[38;5;28;01mraise\u001b[39;00m \u001b[38;5;167;01mTypeError\u001b[39;00m(\u001b[38;5;124m\"\u001b[39m\u001b[38;5;124mconvert_to_tensor did not convert to \u001b[39m\u001b[38;5;124m\"\u001b[39m\n\u001b[1;32m   1691\u001b[0m                       \u001b[38;5;124m\"\u001b[39m\u001b[38;5;124mthe preferred dtype: \u001b[39m\u001b[38;5;132;01m%s\u001b[39;00m\u001b[38;5;124m vs \u001b[39m\u001b[38;5;132;01m%s\u001b[39;00m\u001b[38;5;124m \u001b[39m\u001b[38;5;124m\"\u001b[39m \u001b[38;5;241m%\u001b[39m\n\u001b[1;32m   1692\u001b[0m                       (ret\u001b[38;5;241m.\u001b[39mdtype\u001b[38;5;241m.\u001b[39mbase_dtype, preferred_dtype\u001b[38;5;241m.\u001b[39mbase_dtype))\n\u001b[1;32m   1694\u001b[0m \u001b[38;5;28;01mif\u001b[39;00m ret \u001b[38;5;129;01mis\u001b[39;00m \u001b[38;5;28;01mNone\u001b[39;00m:\n\u001b[0;32m-> 1695\u001b[0m   ret \u001b[38;5;241m=\u001b[39m \u001b[43mconversion_func\u001b[49m\u001b[43m(\u001b[49m\u001b[43mvalue\u001b[49m\u001b[43m,\u001b[49m\u001b[43m \u001b[49m\u001b[43mdtype\u001b[49m\u001b[38;5;241;43m=\u001b[39;49m\u001b[43mdtype\u001b[49m\u001b[43m,\u001b[49m\u001b[43m \u001b[49m\u001b[43mname\u001b[49m\u001b[38;5;241;43m=\u001b[39;49m\u001b[43mname\u001b[49m\u001b[43m,\u001b[49m\u001b[43m \u001b[49m\u001b[43mas_ref\u001b[49m\u001b[38;5;241;43m=\u001b[39;49m\u001b[43mas_ref\u001b[49m\u001b[43m)\u001b[49m\n\u001b[1;32m   1697\u001b[0m \u001b[38;5;28;01mif\u001b[39;00m ret \u001b[38;5;129;01mis\u001b[39;00m \u001b[38;5;28mNotImplemented\u001b[39m:\n\u001b[1;32m   1698\u001b[0m   \u001b[38;5;28;01mcontinue\u001b[39;00m\n",
      "File \u001b[0;32m~/Wks/AMFtrack/venv/lib/python3.8/site-packages/tensorflow/python/framework/constant_op.py:343\u001b[0m, in \u001b[0;36m_constant_tensor_conversion_function\u001b[0;34m(v, dtype, name, as_ref)\u001b[0m\n\u001b[1;32m    340\u001b[0m \u001b[38;5;28;01mdef\u001b[39;00m \u001b[38;5;21m_constant_tensor_conversion_function\u001b[39m(v, dtype\u001b[38;5;241m=\u001b[39m\u001b[38;5;28;01mNone\u001b[39;00m, name\u001b[38;5;241m=\u001b[39m\u001b[38;5;28;01mNone\u001b[39;00m,\n\u001b[1;32m    341\u001b[0m                                          as_ref\u001b[38;5;241m=\u001b[39m\u001b[38;5;28;01mFalse\u001b[39;00m):\n\u001b[1;32m    342\u001b[0m   _ \u001b[38;5;241m=\u001b[39m as_ref\n\u001b[0;32m--> 343\u001b[0m   \u001b[38;5;28;01mreturn\u001b[39;00m \u001b[43mconstant\u001b[49m\u001b[43m(\u001b[49m\u001b[43mv\u001b[49m\u001b[43m,\u001b[49m\u001b[43m \u001b[49m\u001b[43mdtype\u001b[49m\u001b[38;5;241;43m=\u001b[39;49m\u001b[43mdtype\u001b[49m\u001b[43m,\u001b[49m\u001b[43m \u001b[49m\u001b[43mname\u001b[49m\u001b[38;5;241;43m=\u001b[39;49m\u001b[43mname\u001b[49m\u001b[43m)\u001b[49m\n",
      "File \u001b[0;32m~/Wks/AMFtrack/venv/lib/python3.8/site-packages/tensorflow/python/framework/constant_op.py:267\u001b[0m, in \u001b[0;36mconstant\u001b[0;34m(value, dtype, shape, name)\u001b[0m\n\u001b[1;32m    170\u001b[0m \u001b[38;5;129m@tf_export\u001b[39m(\u001b[38;5;124m\"\u001b[39m\u001b[38;5;124mconstant\u001b[39m\u001b[38;5;124m\"\u001b[39m, v1\u001b[38;5;241m=\u001b[39m[])\n\u001b[1;32m    171\u001b[0m \u001b[38;5;28;01mdef\u001b[39;00m \u001b[38;5;21mconstant\u001b[39m(value, dtype\u001b[38;5;241m=\u001b[39m\u001b[38;5;28;01mNone\u001b[39;00m, shape\u001b[38;5;241m=\u001b[39m\u001b[38;5;28;01mNone\u001b[39;00m, name\u001b[38;5;241m=\u001b[39m\u001b[38;5;124m\"\u001b[39m\u001b[38;5;124mConst\u001b[39m\u001b[38;5;124m\"\u001b[39m):\n\u001b[1;32m    172\u001b[0m   \u001b[38;5;124;03m\"\"\"Creates a constant tensor from a tensor-like object.\u001b[39;00m\n\u001b[1;32m    173\u001b[0m \n\u001b[1;32m    174\u001b[0m \u001b[38;5;124;03m  Note: All eager `tf.Tensor` values are immutable (in contrast to\u001b[39;00m\n\u001b[0;32m   (...)\u001b[0m\n\u001b[1;32m    265\u001b[0m \u001b[38;5;124;03m    ValueError: if called on a symbolic tensor.\u001b[39;00m\n\u001b[1;32m    266\u001b[0m \u001b[38;5;124;03m  \"\"\"\u001b[39;00m\n\u001b[0;32m--> 267\u001b[0m   \u001b[38;5;28;01mreturn\u001b[39;00m \u001b[43m_constant_impl\u001b[49m\u001b[43m(\u001b[49m\u001b[43mvalue\u001b[49m\u001b[43m,\u001b[49m\u001b[43m \u001b[49m\u001b[43mdtype\u001b[49m\u001b[43m,\u001b[49m\u001b[43m \u001b[49m\u001b[43mshape\u001b[49m\u001b[43m,\u001b[49m\u001b[43m \u001b[49m\u001b[43mname\u001b[49m\u001b[43m,\u001b[49m\u001b[43m \u001b[49m\u001b[43mverify_shape\u001b[49m\u001b[38;5;241;43m=\u001b[39;49m\u001b[38;5;28;43;01mFalse\u001b[39;49;00m\u001b[43m,\u001b[49m\n\u001b[1;32m    268\u001b[0m \u001b[43m                        \u001b[49m\u001b[43mallow_broadcast\u001b[49m\u001b[38;5;241;43m=\u001b[39;49m\u001b[38;5;28;43;01mTrue\u001b[39;49;00m\u001b[43m)\u001b[49m\n",
      "File \u001b[0;32m~/Wks/AMFtrack/venv/lib/python3.8/site-packages/tensorflow/python/framework/constant_op.py:279\u001b[0m, in \u001b[0;36m_constant_impl\u001b[0;34m(value, dtype, shape, name, verify_shape, allow_broadcast)\u001b[0m\n\u001b[1;32m    277\u001b[0m     \u001b[38;5;28;01mwith\u001b[39;00m trace\u001b[38;5;241m.\u001b[39mTrace(\u001b[38;5;124m\"\u001b[39m\u001b[38;5;124mtf.constant\u001b[39m\u001b[38;5;124m\"\u001b[39m):\n\u001b[1;32m    278\u001b[0m       \u001b[38;5;28;01mreturn\u001b[39;00m _constant_eager_impl(ctx, value, dtype, shape, verify_shape)\n\u001b[0;32m--> 279\u001b[0m   \u001b[38;5;28;01mreturn\u001b[39;00m \u001b[43m_constant_eager_impl\u001b[49m\u001b[43m(\u001b[49m\u001b[43mctx\u001b[49m\u001b[43m,\u001b[49m\u001b[43m \u001b[49m\u001b[43mvalue\u001b[49m\u001b[43m,\u001b[49m\u001b[43m \u001b[49m\u001b[43mdtype\u001b[49m\u001b[43m,\u001b[49m\u001b[43m \u001b[49m\u001b[43mshape\u001b[49m\u001b[43m,\u001b[49m\u001b[43m \u001b[49m\u001b[43mverify_shape\u001b[49m\u001b[43m)\u001b[49m\n\u001b[1;32m    281\u001b[0m g \u001b[38;5;241m=\u001b[39m ops\u001b[38;5;241m.\u001b[39mget_default_graph()\n\u001b[1;32m    282\u001b[0m tensor_value \u001b[38;5;241m=\u001b[39m attr_value_pb2\u001b[38;5;241m.\u001b[39mAttrValue()\n",
      "File \u001b[0;32m~/Wks/AMFtrack/venv/lib/python3.8/site-packages/tensorflow/python/framework/constant_op.py:304\u001b[0m, in \u001b[0;36m_constant_eager_impl\u001b[0;34m(ctx, value, dtype, shape, verify_shape)\u001b[0m\n\u001b[1;32m    302\u001b[0m \u001b[38;5;28;01mdef\u001b[39;00m \u001b[38;5;21m_constant_eager_impl\u001b[39m(ctx, value, dtype, shape, verify_shape):\n\u001b[1;32m    303\u001b[0m   \u001b[38;5;124;03m\"\"\"Creates a constant on the current device.\"\"\"\u001b[39;00m\n\u001b[0;32m--> 304\u001b[0m   t \u001b[38;5;241m=\u001b[39m \u001b[43mconvert_to_eager_tensor\u001b[49m\u001b[43m(\u001b[49m\u001b[43mvalue\u001b[49m\u001b[43m,\u001b[49m\u001b[43m \u001b[49m\u001b[43mctx\u001b[49m\u001b[43m,\u001b[49m\u001b[43m \u001b[49m\u001b[43mdtype\u001b[49m\u001b[43m)\u001b[49m\n\u001b[1;32m    305\u001b[0m   \u001b[38;5;28;01mif\u001b[39;00m shape \u001b[38;5;129;01mis\u001b[39;00m \u001b[38;5;28;01mNone\u001b[39;00m:\n\u001b[1;32m    306\u001b[0m     \u001b[38;5;28;01mreturn\u001b[39;00m t\n",
      "File \u001b[0;32m~/Wks/AMFtrack/venv/lib/python3.8/site-packages/tensorflow/python/framework/constant_op.py:102\u001b[0m, in \u001b[0;36mconvert_to_eager_tensor\u001b[0;34m(value, ctx, dtype)\u001b[0m\n\u001b[1;32m    100\u001b[0m     dtype \u001b[38;5;241m=\u001b[39m dtypes\u001b[38;5;241m.\u001b[39mas_dtype(dtype)\u001b[38;5;241m.\u001b[39mas_datatype_enum\n\u001b[1;32m    101\u001b[0m ctx\u001b[38;5;241m.\u001b[39mensure_initialized()\n\u001b[0;32m--> 102\u001b[0m \u001b[38;5;28;01mreturn\u001b[39;00m \u001b[43mops\u001b[49m\u001b[38;5;241;43m.\u001b[39;49m\u001b[43mEagerTensor\u001b[49m\u001b[43m(\u001b[49m\u001b[43mvalue\u001b[49m\u001b[43m,\u001b[49m\u001b[43m \u001b[49m\u001b[43mctx\u001b[49m\u001b[38;5;241;43m.\u001b[39;49m\u001b[43mdevice_name\u001b[49m\u001b[43m,\u001b[49m\u001b[43m \u001b[49m\u001b[43mdtype\u001b[49m\u001b[43m)\u001b[49m\n",
      "\u001b[0;31mValueError\u001b[0m: Can't convert non-rectangular Python sequence to Tensor."
     ]
    }
   ],
   "source": [
    "both_path = tf.data.Dataset.from_tensor_slices(\n",
    "        [list(couple) for couple in zip([np.array(train_feature[i,:]) for i in range(len(train_feature))], train_label)]\n",
    "    )"
   ]
  },
  {
   "cell_type": "code",
   "execution_count": 232,
   "id": "b7a02141",
   "metadata": {},
   "outputs": [
    {
     "data": {
      "text/plain": [
       "(527, 120)"
      ]
     },
     "execution_count": 232,
     "metadata": {},
     "output_type": "execute_result"
    }
   ],
   "source": [
    "train_feature.shape"
   ]
  },
  {
   "cell_type": "code",
   "execution_count": 233,
   "id": "75695e35",
   "metadata": {},
   "outputs": [
    {
     "data": {
      "text/plain": [
       "TensorShape([527, 80, 1])"
      ]
     },
     "execution_count": 233,
     "metadata": {},
     "output_type": "execute_result"
    }
   ],
   "source": [
    "data_augmentation(train_feature).shape"
   ]
  },
  {
   "cell_type": "code",
   "execution_count": 233,
   "id": "9e848b4d",
   "metadata": {},
   "outputs": [
    {
     "data": {
      "text/plain": [
       "TensorShape([527, 80, 1])"
      ]
     },
     "execution_count": 233,
     "metadata": {},
     "output_type": "execute_result"
    }
   ],
   "source": [
    "data_augmentation(train_feature).shape"
   ]
  },
  {
   "cell_type": "code",
   "execution_count": 230,
   "id": "50a9c35a",
   "metadata": {},
   "outputs": [
    {
     "ename": "NotImplementedError",
     "evalue": "in user code:\n\n    File \"/tmp/ipykernel_21812/3081659417.py\", line 2, in None  *\n        lambda x: np.expand_dims(x, 0)\n    File \"<__array_function__ internals>\", line 180, in expand_dims  **\n        \n    File \"/home/felix/Wks/AMFtrack/venv/lib/python3.8/site-packages/numpy/lib/shape_base.py\", line 591, in expand_dims\n        a = asanyarray(a)\n\n    NotImplementedError: Cannot convert a symbolic Tensor (args_0:0) to a numpy array. This error may indicate that you're trying to pass a Tensor to a NumPy call, which is not supported\n",
     "output_type": "error",
     "traceback": [
      "\u001b[0;31m---------------------------------------------------------------------------\u001b[0m",
      "\u001b[0;31mNotImplementedError\u001b[0m                       Traceback (most recent call last)",
      "Input \u001b[0;32mIn [230]\u001b[0m, in \u001b[0;36m<cell line: 2>\u001b[0;34m()\u001b[0m\n\u001b[1;32m      1\u001b[0m d1 \u001b[38;5;241m=\u001b[39m tf\u001b[38;5;241m.\u001b[39mdata\u001b[38;5;241m.\u001b[39mDataset\u001b[38;5;241m.\u001b[39mfrom_tensor_slices(train_feature)\n\u001b[0;32m----> 2\u001b[0m d1_ \u001b[38;5;241m=\u001b[39m \u001b[43md1\u001b[49m\u001b[38;5;241;43m.\u001b[39;49m\u001b[43mmap\u001b[49m\u001b[43m(\u001b[49m\u001b[38;5;28;43;01mlambda\u001b[39;49;00m\u001b[43m \u001b[49m\u001b[43mx\u001b[49m\u001b[43m:\u001b[49m\u001b[43m \u001b[49m\u001b[43mnp\u001b[49m\u001b[38;5;241;43m.\u001b[39;49m\u001b[43mexpand_dims\u001b[49m\u001b[43m(\u001b[49m\u001b[43mx\u001b[49m\u001b[43m,\u001b[49m\u001b[43m \u001b[49m\u001b[38;5;241;43m0\u001b[39;49m\u001b[43m)\u001b[49m\u001b[43m)\u001b[49m\n",
      "File \u001b[0;32m~/Wks/AMFtrack/venv/lib/python3.8/site-packages/tensorflow/python/data/ops/dataset_ops.py:2016\u001b[0m, in \u001b[0;36mDatasetV2.map\u001b[0;34m(self, map_func, num_parallel_calls, deterministic, name)\u001b[0m\n\u001b[1;32m   2013\u001b[0m   \u001b[38;5;28;01mif\u001b[39;00m deterministic \u001b[38;5;129;01mis\u001b[39;00m \u001b[38;5;129;01mnot\u001b[39;00m \u001b[38;5;28;01mNone\u001b[39;00m \u001b[38;5;129;01mand\u001b[39;00m \u001b[38;5;129;01mnot\u001b[39;00m DEBUG_MODE:\n\u001b[1;32m   2014\u001b[0m     warnings\u001b[38;5;241m.\u001b[39mwarn(\u001b[38;5;124m\"\u001b[39m\u001b[38;5;124mThe `deterministic` argument has no effect unless the \u001b[39m\u001b[38;5;124m\"\u001b[39m\n\u001b[1;32m   2015\u001b[0m                   \u001b[38;5;124m\"\u001b[39m\u001b[38;5;124m`num_parallel_calls` argument is specified.\u001b[39m\u001b[38;5;124m\"\u001b[39m)\n\u001b[0;32m-> 2016\u001b[0m   \u001b[38;5;28;01mreturn\u001b[39;00m \u001b[43mMapDataset\u001b[49m\u001b[43m(\u001b[49m\u001b[38;5;28;43mself\u001b[39;49m\u001b[43m,\u001b[49m\u001b[43m \u001b[49m\u001b[43mmap_func\u001b[49m\u001b[43m,\u001b[49m\u001b[43m \u001b[49m\u001b[43mpreserve_cardinality\u001b[49m\u001b[38;5;241;43m=\u001b[39;49m\u001b[38;5;28;43;01mTrue\u001b[39;49;00m\u001b[43m,\u001b[49m\u001b[43m \u001b[49m\u001b[43mname\u001b[49m\u001b[38;5;241;43m=\u001b[39;49m\u001b[43mname\u001b[49m\u001b[43m)\u001b[49m\n\u001b[1;32m   2017\u001b[0m \u001b[38;5;28;01melse\u001b[39;00m:\n\u001b[1;32m   2018\u001b[0m   \u001b[38;5;28;01mreturn\u001b[39;00m ParallelMapDataset(\n\u001b[1;32m   2019\u001b[0m       \u001b[38;5;28mself\u001b[39m,\n\u001b[1;32m   2020\u001b[0m       map_func,\n\u001b[0;32m   (...)\u001b[0m\n\u001b[1;32m   2023\u001b[0m       preserve_cardinality\u001b[38;5;241m=\u001b[39m\u001b[38;5;28;01mTrue\u001b[39;00m,\n\u001b[1;32m   2024\u001b[0m       name\u001b[38;5;241m=\u001b[39mname)\n",
      "File \u001b[0;32m~/Wks/AMFtrack/venv/lib/python3.8/site-packages/tensorflow/python/data/ops/dataset_ops.py:5191\u001b[0m, in \u001b[0;36mMapDataset.__init__\u001b[0;34m(self, input_dataset, map_func, use_inter_op_parallelism, preserve_cardinality, use_legacy_function, name)\u001b[0m\n\u001b[1;32m   5189\u001b[0m \u001b[38;5;28mself\u001b[39m\u001b[38;5;241m.\u001b[39m_use_inter_op_parallelism \u001b[38;5;241m=\u001b[39m use_inter_op_parallelism\n\u001b[1;32m   5190\u001b[0m \u001b[38;5;28mself\u001b[39m\u001b[38;5;241m.\u001b[39m_preserve_cardinality \u001b[38;5;241m=\u001b[39m preserve_cardinality\n\u001b[0;32m-> 5191\u001b[0m \u001b[38;5;28mself\u001b[39m\u001b[38;5;241m.\u001b[39m_map_func \u001b[38;5;241m=\u001b[39m \u001b[43mstructured_function\u001b[49m\u001b[38;5;241;43m.\u001b[39;49m\u001b[43mStructuredFunctionWrapper\u001b[49m\u001b[43m(\u001b[49m\n\u001b[1;32m   5192\u001b[0m \u001b[43m    \u001b[49m\u001b[43mmap_func\u001b[49m\u001b[43m,\u001b[49m\n\u001b[1;32m   5193\u001b[0m \u001b[43m    \u001b[49m\u001b[38;5;28;43mself\u001b[39;49m\u001b[38;5;241;43m.\u001b[39;49m\u001b[43m_transformation_name\u001b[49m\u001b[43m(\u001b[49m\u001b[43m)\u001b[49m\u001b[43m,\u001b[49m\n\u001b[1;32m   5194\u001b[0m \u001b[43m    \u001b[49m\u001b[43mdataset\u001b[49m\u001b[38;5;241;43m=\u001b[39;49m\u001b[43minput_dataset\u001b[49m\u001b[43m,\u001b[49m\n\u001b[1;32m   5195\u001b[0m \u001b[43m    \u001b[49m\u001b[43muse_legacy_function\u001b[49m\u001b[38;5;241;43m=\u001b[39;49m\u001b[43muse_legacy_function\u001b[49m\u001b[43m)\u001b[49m\n\u001b[1;32m   5196\u001b[0m \u001b[38;5;28mself\u001b[39m\u001b[38;5;241m.\u001b[39m_metadata \u001b[38;5;241m=\u001b[39m dataset_metadata_pb2\u001b[38;5;241m.\u001b[39mMetadata()\n\u001b[1;32m   5197\u001b[0m \u001b[38;5;28;01mif\u001b[39;00m name:\n",
      "File \u001b[0;32m~/Wks/AMFtrack/venv/lib/python3.8/site-packages/tensorflow/python/data/ops/structured_function.py:271\u001b[0m, in \u001b[0;36mStructuredFunctionWrapper.__init__\u001b[0;34m(self, func, transformation_name, dataset, input_classes, input_shapes, input_types, input_structure, add_to_graph, use_legacy_function, defun_kwargs)\u001b[0m\n\u001b[1;32m    264\u001b[0m       warnings\u001b[38;5;241m.\u001b[39mwarn(\n\u001b[1;32m    265\u001b[0m           \u001b[38;5;124m\"\u001b[39m\u001b[38;5;124mEven though the `tf.config.experimental_run_functions_eagerly` \u001b[39m\u001b[38;5;124m\"\u001b[39m\n\u001b[1;32m    266\u001b[0m           \u001b[38;5;124m\"\u001b[39m\u001b[38;5;124moption is set, this option does not apply to tf.data functions. \u001b[39m\u001b[38;5;124m\"\u001b[39m\n\u001b[1;32m    267\u001b[0m           \u001b[38;5;124m\"\u001b[39m\u001b[38;5;124mTo force eager execution of tf.data functions, please use \u001b[39m\u001b[38;5;124m\"\u001b[39m\n\u001b[1;32m    268\u001b[0m           \u001b[38;5;124m\"\u001b[39m\u001b[38;5;124m`tf.data.experimental.enable_debug_mode()`.\u001b[39m\u001b[38;5;124m\"\u001b[39m)\n\u001b[1;32m    269\u001b[0m     fn_factory \u001b[38;5;241m=\u001b[39m trace_tf_function(defun_kwargs)\n\u001b[0;32m--> 271\u001b[0m \u001b[38;5;28mself\u001b[39m\u001b[38;5;241m.\u001b[39m_function \u001b[38;5;241m=\u001b[39m \u001b[43mfn_factory\u001b[49m\u001b[43m(\u001b[49m\u001b[43m)\u001b[49m\n\u001b[1;32m    272\u001b[0m \u001b[38;5;66;03m# There is no graph to add in eager mode.\u001b[39;00m\n\u001b[1;32m    273\u001b[0m add_to_graph \u001b[38;5;241m&\u001b[39m\u001b[38;5;241m=\u001b[39m \u001b[38;5;129;01mnot\u001b[39;00m context\u001b[38;5;241m.\u001b[39mexecuting_eagerly()\n",
      "File \u001b[0;32m~/Wks/AMFtrack/venv/lib/python3.8/site-packages/tensorflow/python/eager/function.py:3070\u001b[0m, in \u001b[0;36mFunction.get_concrete_function\u001b[0;34m(self, *args, **kwargs)\u001b[0m\n\u001b[1;32m   3061\u001b[0m \u001b[38;5;28;01mdef\u001b[39;00m \u001b[38;5;21mget_concrete_function\u001b[39m(\u001b[38;5;28mself\u001b[39m, \u001b[38;5;241m*\u001b[39margs, \u001b[38;5;241m*\u001b[39m\u001b[38;5;241m*\u001b[39mkwargs):\n\u001b[1;32m   3062\u001b[0m   \u001b[38;5;124;03m\"\"\"Returns a `ConcreteFunction` specialized to inputs and execution context.\u001b[39;00m\n\u001b[1;32m   3063\u001b[0m \n\u001b[1;32m   3064\u001b[0m \u001b[38;5;124;03m  Args:\u001b[39;00m\n\u001b[0;32m   (...)\u001b[0m\n\u001b[1;32m   3068\u001b[0m \u001b[38;5;124;03m       or `tf.Tensor` or `tf.TensorSpec`.\u001b[39;00m\n\u001b[1;32m   3069\u001b[0m \u001b[38;5;124;03m  \"\"\"\u001b[39;00m\n\u001b[0;32m-> 3070\u001b[0m   graph_function \u001b[38;5;241m=\u001b[39m \u001b[38;5;28;43mself\u001b[39;49m\u001b[38;5;241;43m.\u001b[39;49m\u001b[43m_get_concrete_function_garbage_collected\u001b[49m\u001b[43m(\u001b[49m\n\u001b[1;32m   3071\u001b[0m \u001b[43m      \u001b[49m\u001b[38;5;241;43m*\u001b[39;49m\u001b[43margs\u001b[49m\u001b[43m,\u001b[49m\u001b[43m \u001b[49m\u001b[38;5;241;43m*\u001b[39;49m\u001b[38;5;241;43m*\u001b[39;49m\u001b[43mkwargs\u001b[49m\u001b[43m)\u001b[49m\n\u001b[1;32m   3072\u001b[0m   graph_function\u001b[38;5;241m.\u001b[39m_garbage_collector\u001b[38;5;241m.\u001b[39mrelease()  \u001b[38;5;66;03m# pylint: disable=protected-access\u001b[39;00m\n\u001b[1;32m   3073\u001b[0m   \u001b[38;5;28;01mreturn\u001b[39;00m graph_function\n",
      "File \u001b[0;32m~/Wks/AMFtrack/venv/lib/python3.8/site-packages/tensorflow/python/eager/function.py:3036\u001b[0m, in \u001b[0;36mFunction._get_concrete_function_garbage_collected\u001b[0;34m(self, *args, **kwargs)\u001b[0m\n\u001b[1;32m   3034\u001b[0m   args, kwargs \u001b[38;5;241m=\u001b[39m \u001b[38;5;28;01mNone\u001b[39;00m, \u001b[38;5;28;01mNone\u001b[39;00m\n\u001b[1;32m   3035\u001b[0m \u001b[38;5;28;01mwith\u001b[39;00m \u001b[38;5;28mself\u001b[39m\u001b[38;5;241m.\u001b[39m_lock:\n\u001b[0;32m-> 3036\u001b[0m   graph_function, _ \u001b[38;5;241m=\u001b[39m \u001b[38;5;28;43mself\u001b[39;49m\u001b[38;5;241;43m.\u001b[39;49m\u001b[43m_maybe_define_function\u001b[49m\u001b[43m(\u001b[49m\u001b[43margs\u001b[49m\u001b[43m,\u001b[49m\u001b[43m \u001b[49m\u001b[43mkwargs\u001b[49m\u001b[43m)\u001b[49m\n\u001b[1;32m   3037\u001b[0m   seen_names \u001b[38;5;241m=\u001b[39m \u001b[38;5;28mset\u001b[39m()\n\u001b[1;32m   3038\u001b[0m   captured \u001b[38;5;241m=\u001b[39m object_identity\u001b[38;5;241m.\u001b[39mObjectIdentitySet(\n\u001b[1;32m   3039\u001b[0m       graph_function\u001b[38;5;241m.\u001b[39mgraph\u001b[38;5;241m.\u001b[39minternal_captures)\n",
      "File \u001b[0;32m~/Wks/AMFtrack/venv/lib/python3.8/site-packages/tensorflow/python/eager/function.py:3292\u001b[0m, in \u001b[0;36mFunction._maybe_define_function\u001b[0;34m(self, args, kwargs)\u001b[0m\n\u001b[1;32m   3288\u001b[0m   \u001b[38;5;28;01mreturn\u001b[39;00m \u001b[38;5;28mself\u001b[39m\u001b[38;5;241m.\u001b[39m_define_function_with_shape_relaxation(\n\u001b[1;32m   3289\u001b[0m       args, kwargs, flat_args, filtered_flat_args)\n\u001b[1;32m   3291\u001b[0m \u001b[38;5;28mself\u001b[39m\u001b[38;5;241m.\u001b[39m_function_cache\u001b[38;5;241m.\u001b[39madd_call_context(cache_key\u001b[38;5;241m.\u001b[39mcall_context)\n\u001b[0;32m-> 3292\u001b[0m graph_function \u001b[38;5;241m=\u001b[39m \u001b[38;5;28;43mself\u001b[39;49m\u001b[38;5;241;43m.\u001b[39;49m\u001b[43m_create_graph_function\u001b[49m\u001b[43m(\u001b[49m\u001b[43margs\u001b[49m\u001b[43m,\u001b[49m\u001b[43m \u001b[49m\u001b[43mkwargs\u001b[49m\u001b[43m)\u001b[49m\n\u001b[1;32m   3293\u001b[0m \u001b[38;5;28mself\u001b[39m\u001b[38;5;241m.\u001b[39m_function_cache\u001b[38;5;241m.\u001b[39madd(cache_key, cache_key_deletion_observer,\n\u001b[1;32m   3294\u001b[0m                          graph_function)\n\u001b[1;32m   3296\u001b[0m \u001b[38;5;28;01mreturn\u001b[39;00m graph_function, filtered_flat_args\n",
      "File \u001b[0;32m~/Wks/AMFtrack/venv/lib/python3.8/site-packages/tensorflow/python/eager/function.py:3130\u001b[0m, in \u001b[0;36mFunction._create_graph_function\u001b[0;34m(self, args, kwargs, override_flat_arg_shapes)\u001b[0m\n\u001b[1;32m   3125\u001b[0m missing_arg_names \u001b[38;5;241m=\u001b[39m [\n\u001b[1;32m   3126\u001b[0m     \u001b[38;5;124m\"\u001b[39m\u001b[38;5;132;01m%s\u001b[39;00m\u001b[38;5;124m_\u001b[39m\u001b[38;5;132;01m%d\u001b[39;00m\u001b[38;5;124m\"\u001b[39m \u001b[38;5;241m%\u001b[39m (arg, i) \u001b[38;5;28;01mfor\u001b[39;00m i, arg \u001b[38;5;129;01min\u001b[39;00m \u001b[38;5;28menumerate\u001b[39m(missing_arg_names)\n\u001b[1;32m   3127\u001b[0m ]\n\u001b[1;32m   3128\u001b[0m arg_names \u001b[38;5;241m=\u001b[39m base_arg_names \u001b[38;5;241m+\u001b[39m missing_arg_names\n\u001b[1;32m   3129\u001b[0m graph_function \u001b[38;5;241m=\u001b[39m ConcreteFunction(\n\u001b[0;32m-> 3130\u001b[0m     \u001b[43mfunc_graph_module\u001b[49m\u001b[38;5;241;43m.\u001b[39;49m\u001b[43mfunc_graph_from_py_func\u001b[49m\u001b[43m(\u001b[49m\n\u001b[1;32m   3131\u001b[0m \u001b[43m        \u001b[49m\u001b[38;5;28;43mself\u001b[39;49m\u001b[38;5;241;43m.\u001b[39;49m\u001b[43m_name\u001b[49m\u001b[43m,\u001b[49m\n\u001b[1;32m   3132\u001b[0m \u001b[43m        \u001b[49m\u001b[38;5;28;43mself\u001b[39;49m\u001b[38;5;241;43m.\u001b[39;49m\u001b[43m_python_function\u001b[49m\u001b[43m,\u001b[49m\n\u001b[1;32m   3133\u001b[0m \u001b[43m        \u001b[49m\u001b[43margs\u001b[49m\u001b[43m,\u001b[49m\n\u001b[1;32m   3134\u001b[0m \u001b[43m        \u001b[49m\u001b[43mkwargs\u001b[49m\u001b[43m,\u001b[49m\n\u001b[1;32m   3135\u001b[0m \u001b[43m        \u001b[49m\u001b[38;5;28;43mself\u001b[39;49m\u001b[38;5;241;43m.\u001b[39;49m\u001b[43minput_signature\u001b[49m\u001b[43m,\u001b[49m\n\u001b[1;32m   3136\u001b[0m \u001b[43m        \u001b[49m\u001b[43mautograph\u001b[49m\u001b[38;5;241;43m=\u001b[39;49m\u001b[38;5;28;43mself\u001b[39;49m\u001b[38;5;241;43m.\u001b[39;49m\u001b[43m_autograph\u001b[49m\u001b[43m,\u001b[49m\n\u001b[1;32m   3137\u001b[0m \u001b[43m        \u001b[49m\u001b[43mautograph_options\u001b[49m\u001b[38;5;241;43m=\u001b[39;49m\u001b[38;5;28;43mself\u001b[39;49m\u001b[38;5;241;43m.\u001b[39;49m\u001b[43m_autograph_options\u001b[49m\u001b[43m,\u001b[49m\n\u001b[1;32m   3138\u001b[0m \u001b[43m        \u001b[49m\u001b[43marg_names\u001b[49m\u001b[38;5;241;43m=\u001b[39;49m\u001b[43marg_names\u001b[49m\u001b[43m,\u001b[49m\n\u001b[1;32m   3139\u001b[0m \u001b[43m        \u001b[49m\u001b[43moverride_flat_arg_shapes\u001b[49m\u001b[38;5;241;43m=\u001b[39;49m\u001b[43moverride_flat_arg_shapes\u001b[49m\u001b[43m,\u001b[49m\n\u001b[1;32m   3140\u001b[0m \u001b[43m        \u001b[49m\u001b[43mcapture_by_value\u001b[49m\u001b[38;5;241;43m=\u001b[39;49m\u001b[38;5;28;43mself\u001b[39;49m\u001b[38;5;241;43m.\u001b[39;49m\u001b[43m_capture_by_value\u001b[49m\u001b[43m)\u001b[49m,\n\u001b[1;32m   3141\u001b[0m     \u001b[38;5;28mself\u001b[39m\u001b[38;5;241m.\u001b[39m_function_attributes,\n\u001b[1;32m   3142\u001b[0m     function_spec\u001b[38;5;241m=\u001b[39m\u001b[38;5;28mself\u001b[39m\u001b[38;5;241m.\u001b[39mfunction_spec,\n\u001b[1;32m   3143\u001b[0m     \u001b[38;5;66;03m# Tell the ConcreteFunction to clean up its graph once it goes out of\u001b[39;00m\n\u001b[1;32m   3144\u001b[0m     \u001b[38;5;66;03m# scope. This is not the default behavior since it gets used in some\u001b[39;00m\n\u001b[1;32m   3145\u001b[0m     \u001b[38;5;66;03m# places (like Keras) where the FuncGraph lives longer than the\u001b[39;00m\n\u001b[1;32m   3146\u001b[0m     \u001b[38;5;66;03m# ConcreteFunction.\u001b[39;00m\n\u001b[1;32m   3147\u001b[0m     shared_func_graph\u001b[38;5;241m=\u001b[39m\u001b[38;5;28;01mFalse\u001b[39;00m)\n\u001b[1;32m   3148\u001b[0m \u001b[38;5;28;01mreturn\u001b[39;00m graph_function\n",
      "File \u001b[0;32m~/Wks/AMFtrack/venv/lib/python3.8/site-packages/tensorflow/python/framework/func_graph.py:1161\u001b[0m, in \u001b[0;36mfunc_graph_from_py_func\u001b[0;34m(name, python_func, args, kwargs, signature, func_graph, autograph, autograph_options, add_control_dependencies, arg_names, op_return_value, collections, capture_by_value, override_flat_arg_shapes, acd_record_initial_resource_uses)\u001b[0m\n\u001b[1;32m   1158\u001b[0m \u001b[38;5;28;01melse\u001b[39;00m:\n\u001b[1;32m   1159\u001b[0m   _, original_func \u001b[38;5;241m=\u001b[39m tf_decorator\u001b[38;5;241m.\u001b[39munwrap(python_func)\n\u001b[0;32m-> 1161\u001b[0m func_outputs \u001b[38;5;241m=\u001b[39m \u001b[43mpython_func\u001b[49m\u001b[43m(\u001b[49m\u001b[38;5;241;43m*\u001b[39;49m\u001b[43mfunc_args\u001b[49m\u001b[43m,\u001b[49m\u001b[43m \u001b[49m\u001b[38;5;241;43m*\u001b[39;49m\u001b[38;5;241;43m*\u001b[39;49m\u001b[43mfunc_kwargs\u001b[49m\u001b[43m)\u001b[49m\n\u001b[1;32m   1163\u001b[0m \u001b[38;5;66;03m# invariant: `func_outputs` contains only Tensors, CompositeTensors,\u001b[39;00m\n\u001b[1;32m   1164\u001b[0m \u001b[38;5;66;03m# TensorArrays and `None`s.\u001b[39;00m\n\u001b[1;32m   1165\u001b[0m func_outputs \u001b[38;5;241m=\u001b[39m nest\u001b[38;5;241m.\u001b[39mmap_structure(convert, func_outputs,\n\u001b[1;32m   1166\u001b[0m                                   expand_composites\u001b[38;5;241m=\u001b[39m\u001b[38;5;28;01mTrue\u001b[39;00m)\n",
      "File \u001b[0;32m~/Wks/AMFtrack/venv/lib/python3.8/site-packages/tensorflow/python/data/ops/structured_function.py:248\u001b[0m, in \u001b[0;36mStructuredFunctionWrapper.__init__.<locals>.trace_tf_function.<locals>.wrapped_fn\u001b[0;34m(*args)\u001b[0m\n\u001b[1;32m    242\u001b[0m \u001b[38;5;129m@eager_function\u001b[39m\u001b[38;5;241m.\u001b[39mdefun_with_attributes(\n\u001b[1;32m    243\u001b[0m     input_signature\u001b[38;5;241m=\u001b[39mstructure\u001b[38;5;241m.\u001b[39mget_flat_tensor_specs(\n\u001b[1;32m    244\u001b[0m         \u001b[38;5;28mself\u001b[39m\u001b[38;5;241m.\u001b[39m_input_structure),\n\u001b[1;32m    245\u001b[0m     autograph\u001b[38;5;241m=\u001b[39m\u001b[38;5;28;01mFalse\u001b[39;00m,\n\u001b[1;32m    246\u001b[0m     attributes\u001b[38;5;241m=\u001b[39mdefun_kwargs)\n\u001b[1;32m    247\u001b[0m \u001b[38;5;28;01mdef\u001b[39;00m \u001b[38;5;21mwrapped_fn\u001b[39m(\u001b[38;5;241m*\u001b[39margs):  \u001b[38;5;66;03m# pylint: disable=missing-docstring\u001b[39;00m\n\u001b[0;32m--> 248\u001b[0m   ret \u001b[38;5;241m=\u001b[39m \u001b[43mwrapper_helper\u001b[49m\u001b[43m(\u001b[49m\u001b[38;5;241;43m*\u001b[39;49m\u001b[43margs\u001b[49m\u001b[43m)\u001b[49m\n\u001b[1;32m    249\u001b[0m   ret \u001b[38;5;241m=\u001b[39m structure\u001b[38;5;241m.\u001b[39mto_tensor_list(\u001b[38;5;28mself\u001b[39m\u001b[38;5;241m.\u001b[39m_output_structure, ret)\n\u001b[1;32m    250\u001b[0m   \u001b[38;5;28;01mreturn\u001b[39;00m [ops\u001b[38;5;241m.\u001b[39mconvert_to_tensor(t) \u001b[38;5;28;01mfor\u001b[39;00m t \u001b[38;5;129;01min\u001b[39;00m ret]\n",
      "File \u001b[0;32m~/Wks/AMFtrack/venv/lib/python3.8/site-packages/tensorflow/python/data/ops/structured_function.py:177\u001b[0m, in \u001b[0;36mStructuredFunctionWrapper.__init__.<locals>.wrapper_helper\u001b[0;34m(*args)\u001b[0m\n\u001b[1;32m    175\u001b[0m \u001b[38;5;28;01mif\u001b[39;00m \u001b[38;5;129;01mnot\u001b[39;00m _should_unpack(nested_args):\n\u001b[1;32m    176\u001b[0m   nested_args \u001b[38;5;241m=\u001b[39m (nested_args,)\n\u001b[0;32m--> 177\u001b[0m ret \u001b[38;5;241m=\u001b[39m \u001b[43mautograph\u001b[49m\u001b[38;5;241;43m.\u001b[39;49m\u001b[43mtf_convert\u001b[49m\u001b[43m(\u001b[49m\u001b[38;5;28;43mself\u001b[39;49m\u001b[38;5;241;43m.\u001b[39;49m\u001b[43m_func\u001b[49m\u001b[43m,\u001b[49m\u001b[43m \u001b[49m\u001b[43mag_ctx\u001b[49m\u001b[43m)\u001b[49m\u001b[43m(\u001b[49m\u001b[38;5;241;43m*\u001b[39;49m\u001b[43mnested_args\u001b[49m\u001b[43m)\u001b[49m\n\u001b[1;32m    178\u001b[0m \u001b[38;5;28;01mif\u001b[39;00m _should_pack(ret):\n\u001b[1;32m    179\u001b[0m   ret \u001b[38;5;241m=\u001b[39m \u001b[38;5;28mtuple\u001b[39m(ret)\n",
      "File \u001b[0;32m~/Wks/AMFtrack/venv/lib/python3.8/site-packages/tensorflow/python/autograph/impl/api.py:692\u001b[0m, in \u001b[0;36mconvert.<locals>.decorator.<locals>.wrapper\u001b[0;34m(*args, **kwargs)\u001b[0m\n\u001b[1;32m    690\u001b[0m \u001b[38;5;28;01mexcept\u001b[39;00m \u001b[38;5;167;01mException\u001b[39;00m \u001b[38;5;28;01mas\u001b[39;00m e:  \u001b[38;5;66;03m# pylint:disable=broad-except\u001b[39;00m\n\u001b[1;32m    691\u001b[0m   \u001b[38;5;28;01mif\u001b[39;00m \u001b[38;5;28mhasattr\u001b[39m(e, \u001b[38;5;124m'\u001b[39m\u001b[38;5;124mag_error_metadata\u001b[39m\u001b[38;5;124m'\u001b[39m):\n\u001b[0;32m--> 692\u001b[0m     \u001b[38;5;28;01mraise\u001b[39;00m e\u001b[38;5;241m.\u001b[39mag_error_metadata\u001b[38;5;241m.\u001b[39mto_exception(e)\n\u001b[1;32m    693\u001b[0m   \u001b[38;5;28;01melse\u001b[39;00m:\n\u001b[1;32m    694\u001b[0m     \u001b[38;5;28;01mraise\u001b[39;00m\n",
      "\u001b[0;31mNotImplementedError\u001b[0m: in user code:\n\n    File \"/tmp/ipykernel_21812/3081659417.py\", line 2, in None  *\n        lambda x: np.expand_dims(x, 0)\n    File \"<__array_function__ internals>\", line 180, in expand_dims  **\n        \n    File \"/home/felix/Wks/AMFtrack/venv/lib/python3.8/site-packages/numpy/lib/shape_base.py\", line 591, in expand_dims\n        a = asanyarray(a)\n\n    NotImplementedError: Cannot convert a symbolic Tensor (args_0:0) to a numpy array. This error may indicate that you're trying to pass a Tensor to a NumPy call, which is not supported\n"
     ]
    }
   ],
   "source": [
    "d1 = tf.data.Dataset.from_tensor_slices(train_feature)\n",
    "d1_ = d1.map(lambda x: np.expand_dims(x, 0))"
   ]
  },
  {
   "cell_type": "code",
   "execution_count": 227,
   "id": "9d83d58a",
   "metadata": {},
   "outputs": [],
   "source": [
    "d2 = tf.data.Dataset.from_tensor_slices(train_label)\n",
    "d3 = tf.data.Dataset.zip((d1, d2))"
   ]
  },
  {
   "cell_type": "code",
   "execution_count": 225,
   "id": "910f3881",
   "metadata": {},
   "outputs": [
    {
     "name": "stdout",
     "output_type": "stream",
     "text": [
      "WARNING:tensorflow:Model was constructed with shape (None, 120, 1) for input KerasTensor(type_spec=TensorSpec(shape=(None, 120, 1), dtype=tf.float32, name='input_1'), name='input_1', description=\"created by layer 'input_1'\"), but it was called on an input with incompatible shape (120,).\n",
      "2022-08-16 18:05:48,465-[WARNING]- tensorflow:665 -> Model was constructed with shape (None, 120, 1) for input KerasTensor(type_spec=TensorSpec(shape=(None, 120, 1), dtype=tf.float32, name='input_1'), name='input_1', description=\"created by layer 'input_1'\"), but it was called on an input with incompatible shape (120,).\n"
     ]
    },
    {
     "ename": "ValueError",
     "evalue": "in user code:\n\n    File \"/tmp/ipykernel_21812/1607789451.py\", line 2, in None  *\n        lambda x, y: (data_augmentation(x, training=True), y)\n    File \"/home/felix/Wks/AMFtrack/venv/lib/python3.8/site-packages/keras/utils/traceback_utils.py\", line 67, in error_handler  **\n        raise e.with_traceback(filtered_tb) from None\n    File \"/home/felix/Wks/AMFtrack/amftrack/ml/width/data_augmentation.py\", line 80, in <lambda>\n        lambda x: random_crop_slice(x, original_size, input_size, offset),\n\n    ValueError: Exception encountered when calling layer \"random_crop_with_offset_0\" (type Lambda).\n    \n    in user code:\n    \n        File \"/home/felix/Wks/AMFtrack/amftrack/ml/width/data_augmentation.py\", line 74, in random_crop_slice  *\n            return x[..., start_index : start_index + input_size, :]\n    \n        ValueError: Index out of range using input dim 1; input has only 1 dims for '{{node strided_slice}} = StridedSlice[Index=DT_INT64, T=DT_FLOAT, begin_mask=4, ellipsis_mask=1, end_mask=4, new_axis_mask=0, shrink_axis_mask=0](x, strided_slice/stack, strided_slice/stack_1, strided_slice/Cast)' with input shapes: [120], [3], [3], [3] and with computed input tensors: input[3] = <1 1 1>.\n    \n    \n    Call arguments received:\n      • inputs=tf.Tensor(shape=(120,), dtype=float32)\n      • mask=None\n      • training=True\n",
     "output_type": "error",
     "traceback": [
      "\u001b[0;31m---------------------------------------------------------------------------\u001b[0m",
      "\u001b[0;31mValueError\u001b[0m                                Traceback (most recent call last)",
      "Input \u001b[0;32mIn [225]\u001b[0m, in \u001b[0;36m<cell line: 2>\u001b[0;34m()\u001b[0m\n\u001b[1;32m      1\u001b[0m train \u001b[38;5;241m=\u001b[39m (\n\u001b[0;32m----> 2\u001b[0m     \u001b[43md3\u001b[49m\u001b[38;5;241;43m.\u001b[39;49m\u001b[43mmap\u001b[49m\u001b[43m(\u001b[49m\u001b[38;5;28;43;01mlambda\u001b[39;49;00m\u001b[43m \u001b[49m\u001b[43mx\u001b[49m\u001b[43m,\u001b[49m\u001b[43m \u001b[49m\u001b[43my\u001b[49m\u001b[43m:\u001b[49m\u001b[43m \u001b[49m\u001b[43m(\u001b[49m\u001b[43mdata_augmentation\u001b[49m\u001b[43m(\u001b[49m\u001b[43mx\u001b[49m\u001b[43m,\u001b[49m\u001b[43m \u001b[49m\u001b[43mtraining\u001b[49m\u001b[38;5;241;43m=\u001b[39;49m\u001b[38;5;28;43;01mTrue\u001b[39;49;00m\u001b[43m)\u001b[49m\u001b[43m,\u001b[49m\u001b[43m \u001b[49m\u001b[43my\u001b[49m\u001b[43m)\u001b[49m\u001b[43m)\u001b[49m\n\u001b[1;32m      3\u001b[0m     \u001b[38;5;241m.\u001b[39munbatch()\n\u001b[1;32m      4\u001b[0m     \u001b[38;5;241m.\u001b[39mbatch(BATCHSIZE)\n\u001b[1;32m      5\u001b[0m     \u001b[38;5;241m.\u001b[39mprefetch(tf\u001b[38;5;241m.\u001b[39mdata\u001b[38;5;241m.\u001b[39mAUTOTUNE)\n\u001b[1;32m      6\u001b[0m )\n",
      "File \u001b[0;32m~/Wks/AMFtrack/venv/lib/python3.8/site-packages/tensorflow/python/data/ops/dataset_ops.py:2016\u001b[0m, in \u001b[0;36mDatasetV2.map\u001b[0;34m(self, map_func, num_parallel_calls, deterministic, name)\u001b[0m\n\u001b[1;32m   2013\u001b[0m   \u001b[38;5;28;01mif\u001b[39;00m deterministic \u001b[38;5;129;01mis\u001b[39;00m \u001b[38;5;129;01mnot\u001b[39;00m \u001b[38;5;28;01mNone\u001b[39;00m \u001b[38;5;129;01mand\u001b[39;00m \u001b[38;5;129;01mnot\u001b[39;00m DEBUG_MODE:\n\u001b[1;32m   2014\u001b[0m     warnings\u001b[38;5;241m.\u001b[39mwarn(\u001b[38;5;124m\"\u001b[39m\u001b[38;5;124mThe `deterministic` argument has no effect unless the \u001b[39m\u001b[38;5;124m\"\u001b[39m\n\u001b[1;32m   2015\u001b[0m                   \u001b[38;5;124m\"\u001b[39m\u001b[38;5;124m`num_parallel_calls` argument is specified.\u001b[39m\u001b[38;5;124m\"\u001b[39m)\n\u001b[0;32m-> 2016\u001b[0m   \u001b[38;5;28;01mreturn\u001b[39;00m \u001b[43mMapDataset\u001b[49m\u001b[43m(\u001b[49m\u001b[38;5;28;43mself\u001b[39;49m\u001b[43m,\u001b[49m\u001b[43m \u001b[49m\u001b[43mmap_func\u001b[49m\u001b[43m,\u001b[49m\u001b[43m \u001b[49m\u001b[43mpreserve_cardinality\u001b[49m\u001b[38;5;241;43m=\u001b[39;49m\u001b[38;5;28;43;01mTrue\u001b[39;49;00m\u001b[43m,\u001b[49m\u001b[43m \u001b[49m\u001b[43mname\u001b[49m\u001b[38;5;241;43m=\u001b[39;49m\u001b[43mname\u001b[49m\u001b[43m)\u001b[49m\n\u001b[1;32m   2017\u001b[0m \u001b[38;5;28;01melse\u001b[39;00m:\n\u001b[1;32m   2018\u001b[0m   \u001b[38;5;28;01mreturn\u001b[39;00m ParallelMapDataset(\n\u001b[1;32m   2019\u001b[0m       \u001b[38;5;28mself\u001b[39m,\n\u001b[1;32m   2020\u001b[0m       map_func,\n\u001b[0;32m   (...)\u001b[0m\n\u001b[1;32m   2023\u001b[0m       preserve_cardinality\u001b[38;5;241m=\u001b[39m\u001b[38;5;28;01mTrue\u001b[39;00m,\n\u001b[1;32m   2024\u001b[0m       name\u001b[38;5;241m=\u001b[39mname)\n",
      "File \u001b[0;32m~/Wks/AMFtrack/venv/lib/python3.8/site-packages/tensorflow/python/data/ops/dataset_ops.py:5191\u001b[0m, in \u001b[0;36mMapDataset.__init__\u001b[0;34m(self, input_dataset, map_func, use_inter_op_parallelism, preserve_cardinality, use_legacy_function, name)\u001b[0m\n\u001b[1;32m   5189\u001b[0m \u001b[38;5;28mself\u001b[39m\u001b[38;5;241m.\u001b[39m_use_inter_op_parallelism \u001b[38;5;241m=\u001b[39m use_inter_op_parallelism\n\u001b[1;32m   5190\u001b[0m \u001b[38;5;28mself\u001b[39m\u001b[38;5;241m.\u001b[39m_preserve_cardinality \u001b[38;5;241m=\u001b[39m preserve_cardinality\n\u001b[0;32m-> 5191\u001b[0m \u001b[38;5;28mself\u001b[39m\u001b[38;5;241m.\u001b[39m_map_func \u001b[38;5;241m=\u001b[39m \u001b[43mstructured_function\u001b[49m\u001b[38;5;241;43m.\u001b[39;49m\u001b[43mStructuredFunctionWrapper\u001b[49m\u001b[43m(\u001b[49m\n\u001b[1;32m   5192\u001b[0m \u001b[43m    \u001b[49m\u001b[43mmap_func\u001b[49m\u001b[43m,\u001b[49m\n\u001b[1;32m   5193\u001b[0m \u001b[43m    \u001b[49m\u001b[38;5;28;43mself\u001b[39;49m\u001b[38;5;241;43m.\u001b[39;49m\u001b[43m_transformation_name\u001b[49m\u001b[43m(\u001b[49m\u001b[43m)\u001b[49m\u001b[43m,\u001b[49m\n\u001b[1;32m   5194\u001b[0m \u001b[43m    \u001b[49m\u001b[43mdataset\u001b[49m\u001b[38;5;241;43m=\u001b[39;49m\u001b[43minput_dataset\u001b[49m\u001b[43m,\u001b[49m\n\u001b[1;32m   5195\u001b[0m \u001b[43m    \u001b[49m\u001b[43muse_legacy_function\u001b[49m\u001b[38;5;241;43m=\u001b[39;49m\u001b[43muse_legacy_function\u001b[49m\u001b[43m)\u001b[49m\n\u001b[1;32m   5196\u001b[0m \u001b[38;5;28mself\u001b[39m\u001b[38;5;241m.\u001b[39m_metadata \u001b[38;5;241m=\u001b[39m dataset_metadata_pb2\u001b[38;5;241m.\u001b[39mMetadata()\n\u001b[1;32m   5197\u001b[0m \u001b[38;5;28;01mif\u001b[39;00m name:\n",
      "File \u001b[0;32m~/Wks/AMFtrack/venv/lib/python3.8/site-packages/tensorflow/python/data/ops/structured_function.py:271\u001b[0m, in \u001b[0;36mStructuredFunctionWrapper.__init__\u001b[0;34m(self, func, transformation_name, dataset, input_classes, input_shapes, input_types, input_structure, add_to_graph, use_legacy_function, defun_kwargs)\u001b[0m\n\u001b[1;32m    264\u001b[0m       warnings\u001b[38;5;241m.\u001b[39mwarn(\n\u001b[1;32m    265\u001b[0m           \u001b[38;5;124m\"\u001b[39m\u001b[38;5;124mEven though the `tf.config.experimental_run_functions_eagerly` \u001b[39m\u001b[38;5;124m\"\u001b[39m\n\u001b[1;32m    266\u001b[0m           \u001b[38;5;124m\"\u001b[39m\u001b[38;5;124moption is set, this option does not apply to tf.data functions. \u001b[39m\u001b[38;5;124m\"\u001b[39m\n\u001b[1;32m    267\u001b[0m           \u001b[38;5;124m\"\u001b[39m\u001b[38;5;124mTo force eager execution of tf.data functions, please use \u001b[39m\u001b[38;5;124m\"\u001b[39m\n\u001b[1;32m    268\u001b[0m           \u001b[38;5;124m\"\u001b[39m\u001b[38;5;124m`tf.data.experimental.enable_debug_mode()`.\u001b[39m\u001b[38;5;124m\"\u001b[39m)\n\u001b[1;32m    269\u001b[0m     fn_factory \u001b[38;5;241m=\u001b[39m trace_tf_function(defun_kwargs)\n\u001b[0;32m--> 271\u001b[0m \u001b[38;5;28mself\u001b[39m\u001b[38;5;241m.\u001b[39m_function \u001b[38;5;241m=\u001b[39m \u001b[43mfn_factory\u001b[49m\u001b[43m(\u001b[49m\u001b[43m)\u001b[49m\n\u001b[1;32m    272\u001b[0m \u001b[38;5;66;03m# There is no graph to add in eager mode.\u001b[39;00m\n\u001b[1;32m    273\u001b[0m add_to_graph \u001b[38;5;241m&\u001b[39m\u001b[38;5;241m=\u001b[39m \u001b[38;5;129;01mnot\u001b[39;00m context\u001b[38;5;241m.\u001b[39mexecuting_eagerly()\n",
      "File \u001b[0;32m~/Wks/AMFtrack/venv/lib/python3.8/site-packages/tensorflow/python/eager/function.py:3070\u001b[0m, in \u001b[0;36mFunction.get_concrete_function\u001b[0;34m(self, *args, **kwargs)\u001b[0m\n\u001b[1;32m   3061\u001b[0m \u001b[38;5;28;01mdef\u001b[39;00m \u001b[38;5;21mget_concrete_function\u001b[39m(\u001b[38;5;28mself\u001b[39m, \u001b[38;5;241m*\u001b[39margs, \u001b[38;5;241m*\u001b[39m\u001b[38;5;241m*\u001b[39mkwargs):\n\u001b[1;32m   3062\u001b[0m   \u001b[38;5;124;03m\"\"\"Returns a `ConcreteFunction` specialized to inputs and execution context.\u001b[39;00m\n\u001b[1;32m   3063\u001b[0m \n\u001b[1;32m   3064\u001b[0m \u001b[38;5;124;03m  Args:\u001b[39;00m\n\u001b[0;32m   (...)\u001b[0m\n\u001b[1;32m   3068\u001b[0m \u001b[38;5;124;03m       or `tf.Tensor` or `tf.TensorSpec`.\u001b[39;00m\n\u001b[1;32m   3069\u001b[0m \u001b[38;5;124;03m  \"\"\"\u001b[39;00m\n\u001b[0;32m-> 3070\u001b[0m   graph_function \u001b[38;5;241m=\u001b[39m \u001b[38;5;28;43mself\u001b[39;49m\u001b[38;5;241;43m.\u001b[39;49m\u001b[43m_get_concrete_function_garbage_collected\u001b[49m\u001b[43m(\u001b[49m\n\u001b[1;32m   3071\u001b[0m \u001b[43m      \u001b[49m\u001b[38;5;241;43m*\u001b[39;49m\u001b[43margs\u001b[49m\u001b[43m,\u001b[49m\u001b[43m \u001b[49m\u001b[38;5;241;43m*\u001b[39;49m\u001b[38;5;241;43m*\u001b[39;49m\u001b[43mkwargs\u001b[49m\u001b[43m)\u001b[49m\n\u001b[1;32m   3072\u001b[0m   graph_function\u001b[38;5;241m.\u001b[39m_garbage_collector\u001b[38;5;241m.\u001b[39mrelease()  \u001b[38;5;66;03m# pylint: disable=protected-access\u001b[39;00m\n\u001b[1;32m   3073\u001b[0m   \u001b[38;5;28;01mreturn\u001b[39;00m graph_function\n",
      "File \u001b[0;32m~/Wks/AMFtrack/venv/lib/python3.8/site-packages/tensorflow/python/eager/function.py:3036\u001b[0m, in \u001b[0;36mFunction._get_concrete_function_garbage_collected\u001b[0;34m(self, *args, **kwargs)\u001b[0m\n\u001b[1;32m   3034\u001b[0m   args, kwargs \u001b[38;5;241m=\u001b[39m \u001b[38;5;28;01mNone\u001b[39;00m, \u001b[38;5;28;01mNone\u001b[39;00m\n\u001b[1;32m   3035\u001b[0m \u001b[38;5;28;01mwith\u001b[39;00m \u001b[38;5;28mself\u001b[39m\u001b[38;5;241m.\u001b[39m_lock:\n\u001b[0;32m-> 3036\u001b[0m   graph_function, _ \u001b[38;5;241m=\u001b[39m \u001b[38;5;28;43mself\u001b[39;49m\u001b[38;5;241;43m.\u001b[39;49m\u001b[43m_maybe_define_function\u001b[49m\u001b[43m(\u001b[49m\u001b[43margs\u001b[49m\u001b[43m,\u001b[49m\u001b[43m \u001b[49m\u001b[43mkwargs\u001b[49m\u001b[43m)\u001b[49m\n\u001b[1;32m   3037\u001b[0m   seen_names \u001b[38;5;241m=\u001b[39m \u001b[38;5;28mset\u001b[39m()\n\u001b[1;32m   3038\u001b[0m   captured \u001b[38;5;241m=\u001b[39m object_identity\u001b[38;5;241m.\u001b[39mObjectIdentitySet(\n\u001b[1;32m   3039\u001b[0m       graph_function\u001b[38;5;241m.\u001b[39mgraph\u001b[38;5;241m.\u001b[39minternal_captures)\n",
      "File \u001b[0;32m~/Wks/AMFtrack/venv/lib/python3.8/site-packages/tensorflow/python/eager/function.py:3292\u001b[0m, in \u001b[0;36mFunction._maybe_define_function\u001b[0;34m(self, args, kwargs)\u001b[0m\n\u001b[1;32m   3288\u001b[0m   \u001b[38;5;28;01mreturn\u001b[39;00m \u001b[38;5;28mself\u001b[39m\u001b[38;5;241m.\u001b[39m_define_function_with_shape_relaxation(\n\u001b[1;32m   3289\u001b[0m       args, kwargs, flat_args, filtered_flat_args)\n\u001b[1;32m   3291\u001b[0m \u001b[38;5;28mself\u001b[39m\u001b[38;5;241m.\u001b[39m_function_cache\u001b[38;5;241m.\u001b[39madd_call_context(cache_key\u001b[38;5;241m.\u001b[39mcall_context)\n\u001b[0;32m-> 3292\u001b[0m graph_function \u001b[38;5;241m=\u001b[39m \u001b[38;5;28;43mself\u001b[39;49m\u001b[38;5;241;43m.\u001b[39;49m\u001b[43m_create_graph_function\u001b[49m\u001b[43m(\u001b[49m\u001b[43margs\u001b[49m\u001b[43m,\u001b[49m\u001b[43m \u001b[49m\u001b[43mkwargs\u001b[49m\u001b[43m)\u001b[49m\n\u001b[1;32m   3293\u001b[0m \u001b[38;5;28mself\u001b[39m\u001b[38;5;241m.\u001b[39m_function_cache\u001b[38;5;241m.\u001b[39madd(cache_key, cache_key_deletion_observer,\n\u001b[1;32m   3294\u001b[0m                          graph_function)\n\u001b[1;32m   3296\u001b[0m \u001b[38;5;28;01mreturn\u001b[39;00m graph_function, filtered_flat_args\n",
      "File \u001b[0;32m~/Wks/AMFtrack/venv/lib/python3.8/site-packages/tensorflow/python/eager/function.py:3130\u001b[0m, in \u001b[0;36mFunction._create_graph_function\u001b[0;34m(self, args, kwargs, override_flat_arg_shapes)\u001b[0m\n\u001b[1;32m   3125\u001b[0m missing_arg_names \u001b[38;5;241m=\u001b[39m [\n\u001b[1;32m   3126\u001b[0m     \u001b[38;5;124m\"\u001b[39m\u001b[38;5;132;01m%s\u001b[39;00m\u001b[38;5;124m_\u001b[39m\u001b[38;5;132;01m%d\u001b[39;00m\u001b[38;5;124m\"\u001b[39m \u001b[38;5;241m%\u001b[39m (arg, i) \u001b[38;5;28;01mfor\u001b[39;00m i, arg \u001b[38;5;129;01min\u001b[39;00m \u001b[38;5;28menumerate\u001b[39m(missing_arg_names)\n\u001b[1;32m   3127\u001b[0m ]\n\u001b[1;32m   3128\u001b[0m arg_names \u001b[38;5;241m=\u001b[39m base_arg_names \u001b[38;5;241m+\u001b[39m missing_arg_names\n\u001b[1;32m   3129\u001b[0m graph_function \u001b[38;5;241m=\u001b[39m ConcreteFunction(\n\u001b[0;32m-> 3130\u001b[0m     \u001b[43mfunc_graph_module\u001b[49m\u001b[38;5;241;43m.\u001b[39;49m\u001b[43mfunc_graph_from_py_func\u001b[49m\u001b[43m(\u001b[49m\n\u001b[1;32m   3131\u001b[0m \u001b[43m        \u001b[49m\u001b[38;5;28;43mself\u001b[39;49m\u001b[38;5;241;43m.\u001b[39;49m\u001b[43m_name\u001b[49m\u001b[43m,\u001b[49m\n\u001b[1;32m   3132\u001b[0m \u001b[43m        \u001b[49m\u001b[38;5;28;43mself\u001b[39;49m\u001b[38;5;241;43m.\u001b[39;49m\u001b[43m_python_function\u001b[49m\u001b[43m,\u001b[49m\n\u001b[1;32m   3133\u001b[0m \u001b[43m        \u001b[49m\u001b[43margs\u001b[49m\u001b[43m,\u001b[49m\n\u001b[1;32m   3134\u001b[0m \u001b[43m        \u001b[49m\u001b[43mkwargs\u001b[49m\u001b[43m,\u001b[49m\n\u001b[1;32m   3135\u001b[0m \u001b[43m        \u001b[49m\u001b[38;5;28;43mself\u001b[39;49m\u001b[38;5;241;43m.\u001b[39;49m\u001b[43minput_signature\u001b[49m\u001b[43m,\u001b[49m\n\u001b[1;32m   3136\u001b[0m \u001b[43m        \u001b[49m\u001b[43mautograph\u001b[49m\u001b[38;5;241;43m=\u001b[39;49m\u001b[38;5;28;43mself\u001b[39;49m\u001b[38;5;241;43m.\u001b[39;49m\u001b[43m_autograph\u001b[49m\u001b[43m,\u001b[49m\n\u001b[1;32m   3137\u001b[0m \u001b[43m        \u001b[49m\u001b[43mautograph_options\u001b[49m\u001b[38;5;241;43m=\u001b[39;49m\u001b[38;5;28;43mself\u001b[39;49m\u001b[38;5;241;43m.\u001b[39;49m\u001b[43m_autograph_options\u001b[49m\u001b[43m,\u001b[49m\n\u001b[1;32m   3138\u001b[0m \u001b[43m        \u001b[49m\u001b[43marg_names\u001b[49m\u001b[38;5;241;43m=\u001b[39;49m\u001b[43marg_names\u001b[49m\u001b[43m,\u001b[49m\n\u001b[1;32m   3139\u001b[0m \u001b[43m        \u001b[49m\u001b[43moverride_flat_arg_shapes\u001b[49m\u001b[38;5;241;43m=\u001b[39;49m\u001b[43moverride_flat_arg_shapes\u001b[49m\u001b[43m,\u001b[49m\n\u001b[1;32m   3140\u001b[0m \u001b[43m        \u001b[49m\u001b[43mcapture_by_value\u001b[49m\u001b[38;5;241;43m=\u001b[39;49m\u001b[38;5;28;43mself\u001b[39;49m\u001b[38;5;241;43m.\u001b[39;49m\u001b[43m_capture_by_value\u001b[49m\u001b[43m)\u001b[49m,\n\u001b[1;32m   3141\u001b[0m     \u001b[38;5;28mself\u001b[39m\u001b[38;5;241m.\u001b[39m_function_attributes,\n\u001b[1;32m   3142\u001b[0m     function_spec\u001b[38;5;241m=\u001b[39m\u001b[38;5;28mself\u001b[39m\u001b[38;5;241m.\u001b[39mfunction_spec,\n\u001b[1;32m   3143\u001b[0m     \u001b[38;5;66;03m# Tell the ConcreteFunction to clean up its graph once it goes out of\u001b[39;00m\n\u001b[1;32m   3144\u001b[0m     \u001b[38;5;66;03m# scope. This is not the default behavior since it gets used in some\u001b[39;00m\n\u001b[1;32m   3145\u001b[0m     \u001b[38;5;66;03m# places (like Keras) where the FuncGraph lives longer than the\u001b[39;00m\n\u001b[1;32m   3146\u001b[0m     \u001b[38;5;66;03m# ConcreteFunction.\u001b[39;00m\n\u001b[1;32m   3147\u001b[0m     shared_func_graph\u001b[38;5;241m=\u001b[39m\u001b[38;5;28;01mFalse\u001b[39;00m)\n\u001b[1;32m   3148\u001b[0m \u001b[38;5;28;01mreturn\u001b[39;00m graph_function\n",
      "File \u001b[0;32m~/Wks/AMFtrack/venv/lib/python3.8/site-packages/tensorflow/python/framework/func_graph.py:1161\u001b[0m, in \u001b[0;36mfunc_graph_from_py_func\u001b[0;34m(name, python_func, args, kwargs, signature, func_graph, autograph, autograph_options, add_control_dependencies, arg_names, op_return_value, collections, capture_by_value, override_flat_arg_shapes, acd_record_initial_resource_uses)\u001b[0m\n\u001b[1;32m   1158\u001b[0m \u001b[38;5;28;01melse\u001b[39;00m:\n\u001b[1;32m   1159\u001b[0m   _, original_func \u001b[38;5;241m=\u001b[39m tf_decorator\u001b[38;5;241m.\u001b[39munwrap(python_func)\n\u001b[0;32m-> 1161\u001b[0m func_outputs \u001b[38;5;241m=\u001b[39m \u001b[43mpython_func\u001b[49m\u001b[43m(\u001b[49m\u001b[38;5;241;43m*\u001b[39;49m\u001b[43mfunc_args\u001b[49m\u001b[43m,\u001b[49m\u001b[43m \u001b[49m\u001b[38;5;241;43m*\u001b[39;49m\u001b[38;5;241;43m*\u001b[39;49m\u001b[43mfunc_kwargs\u001b[49m\u001b[43m)\u001b[49m\n\u001b[1;32m   1163\u001b[0m \u001b[38;5;66;03m# invariant: `func_outputs` contains only Tensors, CompositeTensors,\u001b[39;00m\n\u001b[1;32m   1164\u001b[0m \u001b[38;5;66;03m# TensorArrays and `None`s.\u001b[39;00m\n\u001b[1;32m   1165\u001b[0m func_outputs \u001b[38;5;241m=\u001b[39m nest\u001b[38;5;241m.\u001b[39mmap_structure(convert, func_outputs,\n\u001b[1;32m   1166\u001b[0m                                   expand_composites\u001b[38;5;241m=\u001b[39m\u001b[38;5;28;01mTrue\u001b[39;00m)\n",
      "File \u001b[0;32m~/Wks/AMFtrack/venv/lib/python3.8/site-packages/tensorflow/python/data/ops/structured_function.py:248\u001b[0m, in \u001b[0;36mStructuredFunctionWrapper.__init__.<locals>.trace_tf_function.<locals>.wrapped_fn\u001b[0;34m(*args)\u001b[0m\n\u001b[1;32m    242\u001b[0m \u001b[38;5;129m@eager_function\u001b[39m\u001b[38;5;241m.\u001b[39mdefun_with_attributes(\n\u001b[1;32m    243\u001b[0m     input_signature\u001b[38;5;241m=\u001b[39mstructure\u001b[38;5;241m.\u001b[39mget_flat_tensor_specs(\n\u001b[1;32m    244\u001b[0m         \u001b[38;5;28mself\u001b[39m\u001b[38;5;241m.\u001b[39m_input_structure),\n\u001b[1;32m    245\u001b[0m     autograph\u001b[38;5;241m=\u001b[39m\u001b[38;5;28;01mFalse\u001b[39;00m,\n\u001b[1;32m    246\u001b[0m     attributes\u001b[38;5;241m=\u001b[39mdefun_kwargs)\n\u001b[1;32m    247\u001b[0m \u001b[38;5;28;01mdef\u001b[39;00m \u001b[38;5;21mwrapped_fn\u001b[39m(\u001b[38;5;241m*\u001b[39margs):  \u001b[38;5;66;03m# pylint: disable=missing-docstring\u001b[39;00m\n\u001b[0;32m--> 248\u001b[0m   ret \u001b[38;5;241m=\u001b[39m \u001b[43mwrapper_helper\u001b[49m\u001b[43m(\u001b[49m\u001b[38;5;241;43m*\u001b[39;49m\u001b[43margs\u001b[49m\u001b[43m)\u001b[49m\n\u001b[1;32m    249\u001b[0m   ret \u001b[38;5;241m=\u001b[39m structure\u001b[38;5;241m.\u001b[39mto_tensor_list(\u001b[38;5;28mself\u001b[39m\u001b[38;5;241m.\u001b[39m_output_structure, ret)\n\u001b[1;32m    250\u001b[0m   \u001b[38;5;28;01mreturn\u001b[39;00m [ops\u001b[38;5;241m.\u001b[39mconvert_to_tensor(t) \u001b[38;5;28;01mfor\u001b[39;00m t \u001b[38;5;129;01min\u001b[39;00m ret]\n",
      "File \u001b[0;32m~/Wks/AMFtrack/venv/lib/python3.8/site-packages/tensorflow/python/data/ops/structured_function.py:177\u001b[0m, in \u001b[0;36mStructuredFunctionWrapper.__init__.<locals>.wrapper_helper\u001b[0;34m(*args)\u001b[0m\n\u001b[1;32m    175\u001b[0m \u001b[38;5;28;01mif\u001b[39;00m \u001b[38;5;129;01mnot\u001b[39;00m _should_unpack(nested_args):\n\u001b[1;32m    176\u001b[0m   nested_args \u001b[38;5;241m=\u001b[39m (nested_args,)\n\u001b[0;32m--> 177\u001b[0m ret \u001b[38;5;241m=\u001b[39m \u001b[43mautograph\u001b[49m\u001b[38;5;241;43m.\u001b[39;49m\u001b[43mtf_convert\u001b[49m\u001b[43m(\u001b[49m\u001b[38;5;28;43mself\u001b[39;49m\u001b[38;5;241;43m.\u001b[39;49m\u001b[43m_func\u001b[49m\u001b[43m,\u001b[49m\u001b[43m \u001b[49m\u001b[43mag_ctx\u001b[49m\u001b[43m)\u001b[49m\u001b[43m(\u001b[49m\u001b[38;5;241;43m*\u001b[39;49m\u001b[43mnested_args\u001b[49m\u001b[43m)\u001b[49m\n\u001b[1;32m    178\u001b[0m \u001b[38;5;28;01mif\u001b[39;00m _should_pack(ret):\n\u001b[1;32m    179\u001b[0m   ret \u001b[38;5;241m=\u001b[39m \u001b[38;5;28mtuple\u001b[39m(ret)\n",
      "File \u001b[0;32m~/Wks/AMFtrack/venv/lib/python3.8/site-packages/tensorflow/python/autograph/impl/api.py:692\u001b[0m, in \u001b[0;36mconvert.<locals>.decorator.<locals>.wrapper\u001b[0;34m(*args, **kwargs)\u001b[0m\n\u001b[1;32m    690\u001b[0m \u001b[38;5;28;01mexcept\u001b[39;00m \u001b[38;5;167;01mException\u001b[39;00m \u001b[38;5;28;01mas\u001b[39;00m e:  \u001b[38;5;66;03m# pylint:disable=broad-except\u001b[39;00m\n\u001b[1;32m    691\u001b[0m   \u001b[38;5;28;01mif\u001b[39;00m \u001b[38;5;28mhasattr\u001b[39m(e, \u001b[38;5;124m'\u001b[39m\u001b[38;5;124mag_error_metadata\u001b[39m\u001b[38;5;124m'\u001b[39m):\n\u001b[0;32m--> 692\u001b[0m     \u001b[38;5;28;01mraise\u001b[39;00m e\u001b[38;5;241m.\u001b[39mag_error_metadata\u001b[38;5;241m.\u001b[39mto_exception(e)\n\u001b[1;32m    693\u001b[0m   \u001b[38;5;28;01melse\u001b[39;00m:\n\u001b[1;32m    694\u001b[0m     \u001b[38;5;28;01mraise\u001b[39;00m\n",
      "\u001b[0;31mValueError\u001b[0m: in user code:\n\n    File \"/tmp/ipykernel_21812/1607789451.py\", line 2, in None  *\n        lambda x, y: (data_augmentation(x, training=True), y)\n    File \"/home/felix/Wks/AMFtrack/venv/lib/python3.8/site-packages/keras/utils/traceback_utils.py\", line 67, in error_handler  **\n        raise e.with_traceback(filtered_tb) from None\n    File \"/home/felix/Wks/AMFtrack/amftrack/ml/width/data_augmentation.py\", line 80, in <lambda>\n        lambda x: random_crop_slice(x, original_size, input_size, offset),\n\n    ValueError: Exception encountered when calling layer \"random_crop_with_offset_0\" (type Lambda).\n    \n    in user code:\n    \n        File \"/home/felix/Wks/AMFtrack/amftrack/ml/width/data_augmentation.py\", line 74, in random_crop_slice  *\n            return x[..., start_index : start_index + input_size, :]\n    \n        ValueError: Index out of range using input dim 1; input has only 1 dims for '{{node strided_slice}} = StridedSlice[Index=DT_INT64, T=DT_FLOAT, begin_mask=4, ellipsis_mask=1, end_mask=4, new_axis_mask=0, shrink_axis_mask=0](x, strided_slice/stack, strided_slice/stack_1, strided_slice/Cast)' with input shapes: [120], [3], [3], [3] and with computed input tensors: input[3] = <1 1 1>.\n    \n    \n    Call arguments received:\n      • inputs=tf.Tensor(shape=(120,), dtype=float32)\n      • mask=None\n      • training=True\n"
     ]
    }
   ],
   "source": [
    "train = (\n",
    "    d3.map(lambda x, y: (data_augmentation(x, training=True), y))\n",
    "    .unbatch()\n",
    "    .batch(BATCHSIZE)\n",
    "    .prefetch(tf.data.AUTOTUNE)\n",
    ")"
   ]
  },
  {
   "cell_type": "markdown",
   "id": "7892890c",
   "metadata": {},
   "source": [
    "## BROUILLON"
   ]
  },
  {
   "cell_type": "code",
   "execution_count": 66,
   "id": "07f31a2f",
   "metadata": {},
   "outputs": [
    {
     "data": {
      "text/plain": [
       "(377, 120)"
      ]
     },
     "execution_count": 66,
     "metadata": {},
     "output_type": "execute_result"
    }
   ],
   "source": [
    "train_feature.shape"
   ]
  },
  {
   "cell_type": "code",
   "execution_count": 77,
   "id": "1c0fbd40",
   "metadata": {
    "scrolled": true
   },
   "outputs": [],
   "source": [
    "prov = np.expand_dims(train_feature, axis=-1).shape"
   ]
  },
  {
   "cell_type": "code",
   "execution_count": 79,
   "id": "91b87668",
   "metadata": {},
   "outputs": [
    {
     "name": "stdout",
     "output_type": "stream",
     "text": [
      "Help on function from_tensor_slices in module tensorflow.python.data.ops.dataset_ops:\n",
      "\n",
      "from_tensor_slices(tensors, name=None)\n",
      "    Creates a `Dataset` whose elements are slices of the given tensors.\n",
      "    \n",
      "    The given tensors are sliced along their first dimension. This operation\n",
      "    preserves the structure of the input tensors, removing the first dimension\n",
      "    of each tensor and using it as the dataset dimension. All input tensors\n",
      "    must have the same size in their first dimensions.\n",
      "    \n",
      "    >>> # Slicing a 1D tensor produces scalar tensor elements.\n",
      "    >>> dataset = tf.data.Dataset.from_tensor_slices([1, 2, 3])\n",
      "    >>> list(dataset.as_numpy_iterator())\n",
      "    [1, 2, 3]\n",
      "    \n",
      "    >>> # Slicing a 2D tensor produces 1D tensor elements.\n",
      "    >>> dataset = tf.data.Dataset.from_tensor_slices([[1, 2], [3, 4]])\n",
      "    >>> list(dataset.as_numpy_iterator())\n",
      "    [array([1, 2], dtype=int32), array([3, 4], dtype=int32)]\n",
      "    \n",
      "    >>> # Slicing a tuple of 1D tensors produces tuple elements containing\n",
      "    >>> # scalar tensors.\n",
      "    >>> dataset = tf.data.Dataset.from_tensor_slices(([1, 2], [3, 4], [5, 6]))\n",
      "    >>> list(dataset.as_numpy_iterator())\n",
      "    [(1, 3, 5), (2, 4, 6)]\n",
      "    \n",
      "    >>> # Dictionary structure is also preserved.\n",
      "    >>> dataset = tf.data.Dataset.from_tensor_slices({\"a\": [1, 2], \"b\": [3, 4]})\n",
      "    >>> list(dataset.as_numpy_iterator()) == [{'a': 1, 'b': 3},\n",
      "    ...                                       {'a': 2, 'b': 4}]\n",
      "    True\n",
      "    \n",
      "    >>> # Two tensors can be combined into one Dataset object.\n",
      "    >>> features = tf.constant([[1, 3], [2, 1], [3, 3]]) # ==> 3x2 tensor\n",
      "    >>> labels = tf.constant(['A', 'B', 'A']) # ==> 3x1 tensor\n",
      "    >>> dataset = Dataset.from_tensor_slices((features, labels))\n",
      "    >>> # Both the features and the labels tensors can be converted\n",
      "    >>> # to a Dataset object separately and combined after.\n",
      "    >>> features_dataset = Dataset.from_tensor_slices(features)\n",
      "    >>> labels_dataset = Dataset.from_tensor_slices(labels)\n",
      "    >>> dataset = Dataset.zip((features_dataset, labels_dataset))\n",
      "    >>> # A batched feature and label set can be converted to a Dataset\n",
      "    >>> # in similar fashion.\n",
      "    >>> batched_features = tf.constant([[[1, 3], [2, 3]],\n",
      "    ...                                 [[2, 1], [1, 2]],\n",
      "    ...                                 [[3, 3], [3, 2]]], shape=(3, 2, 2))\n",
      "    >>> batched_labels = tf.constant([['A', 'A'],\n",
      "    ...                               ['B', 'B'],\n",
      "    ...                               ['A', 'B']], shape=(3, 2, 1))\n",
      "    >>> dataset = Dataset.from_tensor_slices((batched_features, batched_labels))\n",
      "    >>> for element in dataset.as_numpy_iterator():\n",
      "    ...   print(element)\n",
      "    (array([[1, 3],\n",
      "           [2, 3]], dtype=int32), array([[b'A'],\n",
      "           [b'A']], dtype=object))\n",
      "    (array([[2, 1],\n",
      "           [1, 2]], dtype=int32), array([[b'B'],\n",
      "           [b'B']], dtype=object))\n",
      "    (array([[3, 3],\n",
      "           [3, 2]], dtype=int32), array([[b'A'],\n",
      "           [b'B']], dtype=object))\n",
      "    \n",
      "    Note that if `tensors` contains a NumPy array, and eager execution is not\n",
      "    enabled, the values will be embedded in the graph as one or more\n",
      "    `tf.constant` operations. For large datasets (> 1 GB), this can waste\n",
      "    memory and run into byte limits of graph serialization. If `tensors`\n",
      "    contains one or more large NumPy arrays, consider the alternative described\n",
      "    in [this guide](\n",
      "    https://tensorflow.org/guide/data#consuming_numpy_arrays).\n",
      "    \n",
      "    Args:\n",
      "      tensors: A dataset element, whose components have the same first\n",
      "        dimension. Supported values are documented\n",
      "        [here](https://www.tensorflow.org/guide/data#dataset_structure).\n",
      "      name: (Optional.) A name for the tf.data operation.\n",
      "    \n",
      "    Returns:\n",
      "      Dataset: A `Dataset`.\n",
      "\n"
     ]
    }
   ],
   "source": [
    "help(tf.data.Dataset.from_tensor_slices)"
   ]
  },
  {
   "cell_type": "code",
   "execution_count": 78,
   "id": "fa6672f3",
   "metadata": {},
   "outputs": [
    {
     "ename": "ValueError",
     "evalue": "Unbatching a tensor is only supported for rank >= 1",
     "output_type": "error",
     "traceback": [
      "\u001b[0;31m---------------------------------------------------------------------------\u001b[0m",
      "\u001b[0;31mValueError\u001b[0m                                Traceback (most recent call last)",
      "Input \u001b[0;32mIn [78]\u001b[0m, in \u001b[0;36m<cell line: 1>\u001b[0;34m()\u001b[0m\n\u001b[0;32m----> 1\u001b[0m train_ds \u001b[38;5;241m=\u001b[39m \u001b[43mtf\u001b[49m\u001b[38;5;241;43m.\u001b[39;49m\u001b[43mdata\u001b[49m\u001b[38;5;241;43m.\u001b[39;49m\u001b[43mDataset\u001b[49m\u001b[38;5;241;43m.\u001b[39;49m\u001b[43mfrom_tensor_slices\u001b[49m\u001b[43m(\u001b[49m\u001b[43mprov\u001b[49m\u001b[43m)\u001b[49m\n",
      "File \u001b[0;32m~/Wks/AMFtrack/venv/lib/python3.8/site-packages/tensorflow/python/data/ops/dataset_ops.py:793\u001b[0m, in \u001b[0;36mDatasetV2.from_tensor_slices\u001b[0;34m(tensors, name)\u001b[0m\n\u001b[1;32m    715\u001b[0m \u001b[38;5;129m@staticmethod\u001b[39m\n\u001b[1;32m    716\u001b[0m \u001b[38;5;28;01mdef\u001b[39;00m \u001b[38;5;21mfrom_tensor_slices\u001b[39m(tensors, name\u001b[38;5;241m=\u001b[39m\u001b[38;5;28;01mNone\u001b[39;00m):\n\u001b[1;32m    717\u001b[0m   \u001b[38;5;124;03m\"\"\"Creates a `Dataset` whose elements are slices of the given tensors.\u001b[39;00m\n\u001b[1;32m    718\u001b[0m \n\u001b[1;32m    719\u001b[0m \u001b[38;5;124;03m  The given tensors are sliced along their first dimension. This operation\u001b[39;00m\n\u001b[0;32m   (...)\u001b[0m\n\u001b[1;32m    791\u001b[0m \u001b[38;5;124;03m    Dataset: A `Dataset`.\u001b[39;00m\n\u001b[1;32m    792\u001b[0m \u001b[38;5;124;03m  \"\"\"\u001b[39;00m\n\u001b[0;32m--> 793\u001b[0m   \u001b[38;5;28;01mreturn\u001b[39;00m \u001b[43mTensorSliceDataset\u001b[49m\u001b[43m(\u001b[49m\u001b[43mtensors\u001b[49m\u001b[43m,\u001b[49m\u001b[43m \u001b[49m\u001b[43mname\u001b[49m\u001b[38;5;241;43m=\u001b[39;49m\u001b[43mname\u001b[49m\u001b[43m)\u001b[49m\n",
      "File \u001b[0;32m~/Wks/AMFtrack/venv/lib/python3.8/site-packages/tensorflow/python/data/ops/dataset_ops.py:4482\u001b[0m, in \u001b[0;36mTensorSliceDataset.__init__\u001b[0;34m(self, element, is_files, name)\u001b[0m\n\u001b[1;32m   4480\u001b[0m \u001b[38;5;28;01mif\u001b[39;00m \u001b[38;5;129;01mnot\u001b[39;00m \u001b[38;5;28mself\u001b[39m\u001b[38;5;241m.\u001b[39m_tensors:\n\u001b[1;32m   4481\u001b[0m   \u001b[38;5;28;01mraise\u001b[39;00m \u001b[38;5;167;01mValueError\u001b[39;00m(\u001b[38;5;124m\"\u001b[39m\u001b[38;5;124mInvalid `element`. `element` should not be empty.\u001b[39m\u001b[38;5;124m\"\u001b[39m)\n\u001b[0;32m-> 4482\u001b[0m \u001b[38;5;28mself\u001b[39m\u001b[38;5;241m.\u001b[39m_structure \u001b[38;5;241m=\u001b[39m \u001b[43mnest\u001b[49m\u001b[38;5;241;43m.\u001b[39;49m\u001b[43mmap_structure\u001b[49m\u001b[43m(\u001b[49m\n\u001b[1;32m   4483\u001b[0m \u001b[43m    \u001b[49m\u001b[38;5;28;43;01mlambda\u001b[39;49;00m\u001b[43m \u001b[49m\u001b[43mcomponent_spec\u001b[49m\u001b[43m:\u001b[49m\u001b[43m \u001b[49m\u001b[43mcomponent_spec\u001b[49m\u001b[38;5;241;43m.\u001b[39;49m\u001b[43m_unbatch\u001b[49m\u001b[43m(\u001b[49m\u001b[43m)\u001b[49m\u001b[43m,\u001b[49m\u001b[43m \u001b[49m\u001b[43mbatched_spec\u001b[49m\u001b[43m)\u001b[49m  \u001b[38;5;66;03m# pylint: disable=protected-access\u001b[39;00m\n\u001b[1;32m   4484\u001b[0m \u001b[38;5;28mself\u001b[39m\u001b[38;5;241m.\u001b[39m_metadata \u001b[38;5;241m=\u001b[39m dataset_metadata_pb2\u001b[38;5;241m.\u001b[39mMetadata()\n\u001b[1;32m   4485\u001b[0m \u001b[38;5;28;01mif\u001b[39;00m name:\n",
      "File \u001b[0;32m~/Wks/AMFtrack/venv/lib/python3.8/site-packages/tensorflow/python/data/util/nest.py:228\u001b[0m, in \u001b[0;36mmap_structure\u001b[0;34m(func, *structure, **check_types_dict)\u001b[0m\n\u001b[1;32m    224\u001b[0m flat_structure \u001b[38;5;241m=\u001b[39m (flatten(s) \u001b[38;5;28;01mfor\u001b[39;00m s \u001b[38;5;129;01min\u001b[39;00m structure)\n\u001b[1;32m    225\u001b[0m entries \u001b[38;5;241m=\u001b[39m \u001b[38;5;28mzip\u001b[39m(\u001b[38;5;241m*\u001b[39mflat_structure)\n\u001b[1;32m    227\u001b[0m \u001b[38;5;28;01mreturn\u001b[39;00m pack_sequence_as(\n\u001b[0;32m--> 228\u001b[0m     structure[\u001b[38;5;241m0\u001b[39m], [func(\u001b[38;5;241m*\u001b[39mx) \u001b[38;5;28;01mfor\u001b[39;00m x \u001b[38;5;129;01min\u001b[39;00m entries])\n",
      "File \u001b[0;32m~/Wks/AMFtrack/venv/lib/python3.8/site-packages/tensorflow/python/data/util/nest.py:228\u001b[0m, in \u001b[0;36m<listcomp>\u001b[0;34m(.0)\u001b[0m\n\u001b[1;32m    224\u001b[0m flat_structure \u001b[38;5;241m=\u001b[39m (flatten(s) \u001b[38;5;28;01mfor\u001b[39;00m s \u001b[38;5;129;01min\u001b[39;00m structure)\n\u001b[1;32m    225\u001b[0m entries \u001b[38;5;241m=\u001b[39m \u001b[38;5;28mzip\u001b[39m(\u001b[38;5;241m*\u001b[39mflat_structure)\n\u001b[1;32m    227\u001b[0m \u001b[38;5;28;01mreturn\u001b[39;00m pack_sequence_as(\n\u001b[0;32m--> 228\u001b[0m     structure[\u001b[38;5;241m0\u001b[39m], [\u001b[43mfunc\u001b[49m\u001b[43m(\u001b[49m\u001b[38;5;241;43m*\u001b[39;49m\u001b[43mx\u001b[49m\u001b[43m)\u001b[49m \u001b[38;5;28;01mfor\u001b[39;00m x \u001b[38;5;129;01min\u001b[39;00m entries])\n",
      "File \u001b[0;32m~/Wks/AMFtrack/venv/lib/python3.8/site-packages/tensorflow/python/data/ops/dataset_ops.py:4483\u001b[0m, in \u001b[0;36mTensorSliceDataset.__init__.<locals>.<lambda>\u001b[0;34m(component_spec)\u001b[0m\n\u001b[1;32m   4480\u001b[0m \u001b[38;5;28;01mif\u001b[39;00m \u001b[38;5;129;01mnot\u001b[39;00m \u001b[38;5;28mself\u001b[39m\u001b[38;5;241m.\u001b[39m_tensors:\n\u001b[1;32m   4481\u001b[0m   \u001b[38;5;28;01mraise\u001b[39;00m \u001b[38;5;167;01mValueError\u001b[39;00m(\u001b[38;5;124m\"\u001b[39m\u001b[38;5;124mInvalid `element`. `element` should not be empty.\u001b[39m\u001b[38;5;124m\"\u001b[39m)\n\u001b[1;32m   4482\u001b[0m \u001b[38;5;28mself\u001b[39m\u001b[38;5;241m.\u001b[39m_structure \u001b[38;5;241m=\u001b[39m nest\u001b[38;5;241m.\u001b[39mmap_structure(\n\u001b[0;32m-> 4483\u001b[0m     \u001b[38;5;28;01mlambda\u001b[39;00m component_spec: \u001b[43mcomponent_spec\u001b[49m\u001b[38;5;241;43m.\u001b[39;49m\u001b[43m_unbatch\u001b[49m\u001b[43m(\u001b[49m\u001b[43m)\u001b[49m, batched_spec)  \u001b[38;5;66;03m# pylint: disable=protected-access\u001b[39;00m\n\u001b[1;32m   4484\u001b[0m \u001b[38;5;28mself\u001b[39m\u001b[38;5;241m.\u001b[39m_metadata \u001b[38;5;241m=\u001b[39m dataset_metadata_pb2\u001b[38;5;241m.\u001b[39mMetadata()\n\u001b[1;32m   4485\u001b[0m \u001b[38;5;28;01mif\u001b[39;00m name:\n",
      "File \u001b[0;32m~/Wks/AMFtrack/venv/lib/python3.8/site-packages/tensorflow/python/framework/tensor_spec.py:216\u001b[0m, in \u001b[0;36mTensorSpec._unbatch\u001b[0;34m(self)\u001b[0m\n\u001b[1;32m    214\u001b[0m \u001b[38;5;28;01mdef\u001b[39;00m \u001b[38;5;21m_unbatch\u001b[39m(\u001b[38;5;28mself\u001b[39m):\n\u001b[1;32m    215\u001b[0m   \u001b[38;5;28;01mif\u001b[39;00m \u001b[38;5;28mself\u001b[39m\u001b[38;5;241m.\u001b[39m_shape\u001b[38;5;241m.\u001b[39mndims \u001b[38;5;241m==\u001b[39m \u001b[38;5;241m0\u001b[39m:\n\u001b[0;32m--> 216\u001b[0m     \u001b[38;5;28;01mraise\u001b[39;00m \u001b[38;5;167;01mValueError\u001b[39;00m(\u001b[38;5;124m\"\u001b[39m\u001b[38;5;124mUnbatching a tensor is only supported for rank >= 1\u001b[39m\u001b[38;5;124m\"\u001b[39m)\n\u001b[1;32m    217\u001b[0m   \u001b[38;5;28;01mreturn\u001b[39;00m TensorSpec(\u001b[38;5;28mself\u001b[39m\u001b[38;5;241m.\u001b[39m_shape[\u001b[38;5;241m1\u001b[39m:], \u001b[38;5;28mself\u001b[39m\u001b[38;5;241m.\u001b[39m_dtype)\n",
      "\u001b[0;31mValueError\u001b[0m: Unbatching a tensor is only supported for rank >= 1"
     ]
    }
   ],
   "source": [
    "train_ds = tf.data.Dataset.from_tensor_slices(prov)"
   ]
  },
  {
   "cell_type": "code",
   "execution_count": 69,
   "id": "eb1b9690",
   "metadata": {},
   "outputs": [
    {
     "name": "stdout",
     "output_type": "stream",
     "text": [
      "(1, 120)\n",
      "(1, 120)\n",
      "(1, 120)\n",
      "(1, 120)\n",
      "(1, 120)\n",
      "(1, 120)\n",
      "(1, 120)\n",
      "(1, 120)\n",
      "(1, 120)\n",
      "(1, 120)\n",
      "(1, 120)\n",
      "(1, 120)\n",
      "(1, 120)\n",
      "(1, 120)\n",
      "(1, 120)\n",
      "(1, 120)\n",
      "(1, 120)\n",
      "(1, 120)\n",
      "(1, 120)\n",
      "(1, 120)\n",
      "(1, 120)\n",
      "(1, 120)\n",
      "(1, 120)\n",
      "(1, 120)\n",
      "(1, 120)\n",
      "(1, 120)\n",
      "(1, 120)\n",
      "(1, 120)\n",
      "(1, 120)\n",
      "(1, 120)\n",
      "(1, 120)\n",
      "(1, 120)\n",
      "(1, 120)\n",
      "(1, 120)\n",
      "(1, 120)\n",
      "(1, 120)\n",
      "(1, 120)\n",
      "(1, 120)\n",
      "(1, 120)\n",
      "(1, 120)\n",
      "(1, 120)\n",
      "(1, 120)\n",
      "(1, 120)\n",
      "(1, 120)\n",
      "(1, 120)\n",
      "(1, 120)\n",
      "(1, 120)\n",
      "(1, 120)\n",
      "(1, 120)\n",
      "(1, 120)\n",
      "(1, 120)\n",
      "(1, 120)\n",
      "(1, 120)\n",
      "(1, 120)\n",
      "(1, 120)\n",
      "(1, 120)\n",
      "(1, 120)\n",
      "(1, 120)\n",
      "(1, 120)\n",
      "(1, 120)\n",
      "(1, 120)\n",
      "(1, 120)\n",
      "(1, 120)\n",
      "(1, 120)\n",
      "(1, 120)\n",
      "(1, 120)\n",
      "(1, 120)\n",
      "(1, 120)\n",
      "(1, 120)\n",
      "(1, 120)\n",
      "(1, 120)\n",
      "(1, 120)\n",
      "(1, 120)\n",
      "(1, 120)\n",
      "(1, 120)\n",
      "(1, 120)\n",
      "(1, 120)\n",
      "(1, 120)\n",
      "(1, 120)\n",
      "(1, 120)\n",
      "(1, 120)\n",
      "(1, 120)\n",
      "(1, 120)\n",
      "(1, 120)\n",
      "(1, 120)\n",
      "(1, 120)\n",
      "(1, 120)\n",
      "(1, 120)\n",
      "(1, 120)\n",
      "(1, 120)\n",
      "(1, 120)\n",
      "(1, 120)\n",
      "(1, 120)\n",
      "(1, 120)\n",
      "(1, 120)\n",
      "(1, 120)\n",
      "(1, 120)\n",
      "(1, 120)\n",
      "(1, 120)\n",
      "(1, 120)\n",
      "(1, 120)\n",
      "(1, 120)\n",
      "(1, 120)\n",
      "(1, 120)\n",
      "(1, 120)\n",
      "(1, 120)\n",
      "(1, 120)\n",
      "(1, 120)\n",
      "(1, 120)\n",
      "(1, 120)\n",
      "(1, 120)\n",
      "(1, 120)\n",
      "(1, 120)\n",
      "(1, 120)\n",
      "(1, 120)\n",
      "(1, 120)\n",
      "(1, 120)\n",
      "(1, 120)\n",
      "(1, 120)\n",
      "(1, 120)\n",
      "(1, 120)\n",
      "(1, 120)\n",
      "(1, 120)\n",
      "(1, 120)\n",
      "(1, 120)\n",
      "(1, 120)\n",
      "(1, 120)\n",
      "(1, 120)\n",
      "(1, 120)\n",
      "(1, 120)\n",
      "(1, 120)\n",
      "(1, 120)\n",
      "(1, 120)\n",
      "(1, 120)\n",
      "(1, 120)\n",
      "(1, 120)\n",
      "(1, 120)\n",
      "(1, 120)\n",
      "(1, 120)\n",
      "(1, 120)\n",
      "(1, 120)\n",
      "(1, 120)\n",
      "(1, 120)\n",
      "(1, 120)\n",
      "(1, 120)\n",
      "(1, 120)\n",
      "(1, 120)\n",
      "(1, 120)\n",
      "(1, 120)\n",
      "(1, 120)\n",
      "(1, 120)\n",
      "(1, 120)\n",
      "(1, 120)\n",
      "(1, 120)\n",
      "(1, 120)\n",
      "(1, 120)\n",
      "(1, 120)\n",
      "(1, 120)\n",
      "(1, 120)\n",
      "(1, 120)\n",
      "(1, 120)\n",
      "(1, 120)\n",
      "(1, 120)\n",
      "(1, 120)\n",
      "(1, 120)\n",
      "(1, 120)\n",
      "(1, 120)\n",
      "(1, 120)\n",
      "(1, 120)\n",
      "(1, 120)\n",
      "(1, 120)\n",
      "(1, 120)\n",
      "(1, 120)\n",
      "(1, 120)\n",
      "(1, 120)\n",
      "(1, 120)\n",
      "(1, 120)\n",
      "(1, 120)\n",
      "(1, 120)\n",
      "(1, 120)\n",
      "(1, 120)\n",
      "(1, 120)\n",
      "(1, 120)\n",
      "(1, 120)\n",
      "(1, 120)\n",
      "(1, 120)\n",
      "(1, 120)\n",
      "(1, 120)\n",
      "(1, 120)\n",
      "(1, 120)\n",
      "(1, 120)\n",
      "(1, 120)\n",
      "(1, 120)\n",
      "(1, 120)\n",
      "(1, 120)\n",
      "(1, 120)\n",
      "(1, 120)\n",
      "(1, 120)\n",
      "(1, 120)\n",
      "(1, 120)\n",
      "(1, 120)\n",
      "(1, 120)\n",
      "(1, 120)\n",
      "(1, 120)\n",
      "(1, 120)\n",
      "(1, 120)\n",
      "(1, 120)\n",
      "(1, 120)\n",
      "(1, 120)\n",
      "(1, 120)\n",
      "(1, 120)\n",
      "(1, 120)\n",
      "(1, 120)\n",
      "(1, 120)\n",
      "(1, 120)\n",
      "(1, 120)\n",
      "(1, 120)\n",
      "(1, 120)\n",
      "(1, 120)\n",
      "(1, 120)\n",
      "(1, 120)\n",
      "(1, 120)\n",
      "(1, 120)\n",
      "(1, 120)\n",
      "(1, 120)\n",
      "(1, 120)\n",
      "(1, 120)\n",
      "(1, 120)\n",
      "(1, 120)\n",
      "(1, 120)\n",
      "(1, 120)\n",
      "(1, 120)\n",
      "(1, 120)\n",
      "(1, 120)\n",
      "(1, 120)\n",
      "(1, 120)\n",
      "(1, 120)\n",
      "(1, 120)\n",
      "(1, 120)\n",
      "(1, 120)\n",
      "(1, 120)\n",
      "(1, 120)\n",
      "(1, 120)\n",
      "(1, 120)\n",
      "(1, 120)\n",
      "(1, 120)\n",
      "(1, 120)\n",
      "(1, 120)\n",
      "(1, 120)\n",
      "(1, 120)\n",
      "(1, 120)\n",
      "(1, 120)\n",
      "(1, 120)\n",
      "(1, 120)\n",
      "(1, 120)\n",
      "(1, 120)\n",
      "(1, 120)\n",
      "(1, 120)\n",
      "(1, 120)\n",
      "(1, 120)\n",
      "(1, 120)\n",
      "(1, 120)\n",
      "(1, 120)\n",
      "(1, 120)\n",
      "(1, 120)\n",
      "(1, 120)\n",
      "(1, 120)\n",
      "(1, 120)\n",
      "(1, 120)\n",
      "(1, 120)\n",
      "(1, 120)\n",
      "(1, 120)\n",
      "(1, 120)\n",
      "(1, 120)\n",
      "(1, 120)\n",
      "(1, 120)\n",
      "(1, 120)\n",
      "(1, 120)\n",
      "(1, 120)\n",
      "(1, 120)\n",
      "(1, 120)\n",
      "(1, 120)\n",
      "(1, 120)\n",
      "(1, 120)\n",
      "(1, 120)\n",
      "(1, 120)\n",
      "(1, 120)\n",
      "(1, 120)\n",
      "(1, 120)\n",
      "(1, 120)\n",
      "(1, 120)\n",
      "(1, 120)\n",
      "(1, 120)\n",
      "(1, 120)\n",
      "(1, 120)\n",
      "(1, 120)\n",
      "(1, 120)\n",
      "(1, 120)\n",
      "(1, 120)\n",
      "(1, 120)\n",
      "(1, 120)\n",
      "(1, 120)\n",
      "(1, 120)\n",
      "(1, 120)\n",
      "(1, 120)\n",
      "(1, 120)\n",
      "(1, 120)\n",
      "(1, 120)\n",
      "(1, 120)\n",
      "(1, 120)\n",
      "(1, 120)\n",
      "(1, 120)\n",
      "(1, 120)\n",
      "(1, 120)\n",
      "(1, 120)\n",
      "(1, 120)\n",
      "(1, 120)\n",
      "(1, 120)\n",
      "(1, 120)\n",
      "(1, 120)\n",
      "(1, 120)\n",
      "(1, 120)\n",
      "(1, 120)\n",
      "(1, 120)\n",
      "(1, 120)\n",
      "(1, 120)\n",
      "(1, 120)\n",
      "(1, 120)\n",
      "(1, 120)\n",
      "(1, 120)\n",
      "(1, 120)\n",
      "(1, 120)\n",
      "(1, 120)\n",
      "(1, 120)\n",
      "(1, 120)\n",
      "(1, 120)\n",
      "(1, 120)\n",
      "(1, 120)\n",
      "(1, 120)\n",
      "(1, 120)\n",
      "(1, 120)\n",
      "(1, 120)\n",
      "(1, 120)\n",
      "(1, 120)\n",
      "(1, 120)\n",
      "(1, 120)\n",
      "(1, 120)\n",
      "(1, 120)\n",
      "(1, 120)\n",
      "(1, 120)\n",
      "(1, 120)\n",
      "(1, 120)\n",
      "(1, 120)\n",
      "(1, 120)\n",
      "(1, 120)\n",
      "(1, 120)\n",
      "(1, 120)\n",
      "(1, 120)\n",
      "(1, 120)\n",
      "(1, 120)\n",
      "(1, 120)\n",
      "(1, 120)\n",
      "(1, 120)\n",
      "(1, 120)\n",
      "(1, 120)\n",
      "(1, 120)\n",
      "(1, 120)\n",
      "(1, 120)\n",
      "(1, 120)\n",
      "(1, 120)\n",
      "(1, 120)\n",
      "(1, 120)\n",
      "(1, 120)\n",
      "(1, 120)\n",
      "(1, 120)\n",
      "(1, 120)\n",
      "(1, 120)\n"
     ]
    }
   ],
   "source": [
    "for e in train_ds:\n",
    "    print(e.shape)"
   ]
  },
  {
   "cell_type": "code",
   "execution_count": 65,
   "id": "ba25fc97",
   "metadata": {},
   "outputs": [
    {
     "data": {
      "text/plain": [
       "TensorShape([377, 80, 1])"
      ]
     },
     "execution_count": 65,
     "metadata": {},
     "output_type": "execute_result"
    }
   ],
   "source": [
    "data_preparation(train_feature).shape"
   ]
  },
  {
   "cell_type": "code",
   "execution_count": 62,
   "id": "970cf762",
   "metadata": {},
   "outputs": [
    {
     "data": {
      "text/plain": [
       "<TensorSliceDataset element_spec=TensorSpec(shape=(120,), dtype=tf.uint8, name=None)>"
      ]
     },
     "execution_count": 62,
     "metadata": {},
     "output_type": "execute_result"
    }
   ],
   "source": [
    "train_dataset = tf.data.Dataset.from_tensor_slices(train_feature)\n",
    "train_dataset"
   ]
  },
  {
   "cell_type": "code",
   "execution_count": 57,
   "id": "9764f210",
   "metadata": {},
   "outputs": [
    {
     "name": "stdout",
     "output_type": "stream",
     "text": [
      "WARNING:tensorflow:Model was constructed with shape (None, 120, 1) for input KerasTensor(type_spec=TensorSpec(shape=(None, 120, 1), dtype=tf.float32, name='input_1'), name='input_1', description=\"created by layer 'input_1'\"), but it was called on an input with incompatible shape (120,).\n",
      "2022-08-16 16:51:06,205-[WARNING]- tensorflow:665 -> Model was constructed with shape (None, 120, 1) for input KerasTensor(type_spec=TensorSpec(shape=(None, 120, 1), dtype=tf.float32, name='input_1'), name='input_1', description=\"created by layer 'input_1'\"), but it was called on an input with incompatible shape (120,).\n"
     ]
    },
    {
     "ename": "ValueError",
     "evalue": "in user code:\n\n    File \"/tmp/ipykernel_21812/1439737797.py\", line 2, in None  *\n        lambda x: (data_augmentation(x, training=True))\n    File \"/home/felix/Wks/AMFtrack/venv/lib/python3.8/site-packages/keras/utils/traceback_utils.py\", line 67, in error_handler  **\n        raise e.with_traceback(filtered_tb) from None\n    File \"/home/felix/Wks/AMFtrack/amftrack/ml/width/data_augmentation.py\", line 80, in <lambda>\n        lambda x: random_crop_slice(x, original_size, input_size, offset),\n\n    ValueError: Exception encountered when calling layer \"random_crop_with_offset_0\" (type Lambda).\n    \n    in user code:\n    \n        File \"/home/felix/Wks/AMFtrack/amftrack/ml/width/data_augmentation.py\", line 74, in random_crop_slice  *\n            return x[..., start_index : start_index + input_size, :]\n    \n        ValueError: Index out of range using input dim 1; input has only 1 dims for '{{node strided_slice}} = StridedSlice[Index=DT_INT64, T=DT_FLOAT, begin_mask=4, ellipsis_mask=1, end_mask=4, new_axis_mask=0, shrink_axis_mask=0](x, strided_slice/stack, strided_slice/stack_1, strided_slice/Cast)' with input shapes: [120], [3], [3], [3] and with computed input tensors: input[3] = <1 1 1>.\n    \n    \n    Call arguments received:\n      • inputs=tf.Tensor(shape=(120,), dtype=float32)\n      • mask=None\n      • training=True\n",
     "output_type": "error",
     "traceback": [
      "\u001b[0;31m---------------------------------------------------------------------------\u001b[0m",
      "\u001b[0;31mValueError\u001b[0m                                Traceback (most recent call last)",
      "Input \u001b[0;32mIn [57]\u001b[0m, in \u001b[0;36m<cell line: 2>\u001b[0;34m()\u001b[0m\n\u001b[1;32m      1\u001b[0m train \u001b[38;5;241m=\u001b[39m (\n\u001b[0;32m----> 2\u001b[0m     \u001b[43mtrain_dataset\u001b[49m\u001b[38;5;241;43m.\u001b[39;49m\u001b[43mmap\u001b[49m\u001b[43m(\u001b[49m\u001b[38;5;28;43;01mlambda\u001b[39;49;00m\u001b[43m \u001b[49m\u001b[43mx\u001b[49m\u001b[43m:\u001b[49m\u001b[43m \u001b[49m\u001b[43m(\u001b[49m\u001b[43mdata_augmentation\u001b[49m\u001b[43m(\u001b[49m\u001b[43mx\u001b[49m\u001b[43m,\u001b[49m\u001b[43m \u001b[49m\u001b[43mtraining\u001b[49m\u001b[38;5;241;43m=\u001b[39;49m\u001b[38;5;28;43;01mTrue\u001b[39;49;00m\u001b[43m)\u001b[49m\u001b[43m)\u001b[49m\u001b[43m)\u001b[49m\n\u001b[1;32m      3\u001b[0m     \u001b[38;5;241m.\u001b[39munbatch()\n\u001b[1;32m      4\u001b[0m     \u001b[38;5;241m.\u001b[39mbatch(BATCHSIZE)\n\u001b[1;32m      5\u001b[0m     \u001b[38;5;241m.\u001b[39mprefetch(tf\u001b[38;5;241m.\u001b[39mdata\u001b[38;5;241m.\u001b[39mAUTOTUNE)\n\u001b[1;32m      6\u001b[0m )\n",
      "File \u001b[0;32m~/Wks/AMFtrack/venv/lib/python3.8/site-packages/tensorflow/python/data/ops/dataset_ops.py:2016\u001b[0m, in \u001b[0;36mDatasetV2.map\u001b[0;34m(self, map_func, num_parallel_calls, deterministic, name)\u001b[0m\n\u001b[1;32m   2013\u001b[0m   \u001b[38;5;28;01mif\u001b[39;00m deterministic \u001b[38;5;129;01mis\u001b[39;00m \u001b[38;5;129;01mnot\u001b[39;00m \u001b[38;5;28;01mNone\u001b[39;00m \u001b[38;5;129;01mand\u001b[39;00m \u001b[38;5;129;01mnot\u001b[39;00m DEBUG_MODE:\n\u001b[1;32m   2014\u001b[0m     warnings\u001b[38;5;241m.\u001b[39mwarn(\u001b[38;5;124m\"\u001b[39m\u001b[38;5;124mThe `deterministic` argument has no effect unless the \u001b[39m\u001b[38;5;124m\"\u001b[39m\n\u001b[1;32m   2015\u001b[0m                   \u001b[38;5;124m\"\u001b[39m\u001b[38;5;124m`num_parallel_calls` argument is specified.\u001b[39m\u001b[38;5;124m\"\u001b[39m)\n\u001b[0;32m-> 2016\u001b[0m   \u001b[38;5;28;01mreturn\u001b[39;00m \u001b[43mMapDataset\u001b[49m\u001b[43m(\u001b[49m\u001b[38;5;28;43mself\u001b[39;49m\u001b[43m,\u001b[49m\u001b[43m \u001b[49m\u001b[43mmap_func\u001b[49m\u001b[43m,\u001b[49m\u001b[43m \u001b[49m\u001b[43mpreserve_cardinality\u001b[49m\u001b[38;5;241;43m=\u001b[39;49m\u001b[38;5;28;43;01mTrue\u001b[39;49;00m\u001b[43m,\u001b[49m\u001b[43m \u001b[49m\u001b[43mname\u001b[49m\u001b[38;5;241;43m=\u001b[39;49m\u001b[43mname\u001b[49m\u001b[43m)\u001b[49m\n\u001b[1;32m   2017\u001b[0m \u001b[38;5;28;01melse\u001b[39;00m:\n\u001b[1;32m   2018\u001b[0m   \u001b[38;5;28;01mreturn\u001b[39;00m ParallelMapDataset(\n\u001b[1;32m   2019\u001b[0m       \u001b[38;5;28mself\u001b[39m,\n\u001b[1;32m   2020\u001b[0m       map_func,\n\u001b[0;32m   (...)\u001b[0m\n\u001b[1;32m   2023\u001b[0m       preserve_cardinality\u001b[38;5;241m=\u001b[39m\u001b[38;5;28;01mTrue\u001b[39;00m,\n\u001b[1;32m   2024\u001b[0m       name\u001b[38;5;241m=\u001b[39mname)\n",
      "File \u001b[0;32m~/Wks/AMFtrack/venv/lib/python3.8/site-packages/tensorflow/python/data/ops/dataset_ops.py:5191\u001b[0m, in \u001b[0;36mMapDataset.__init__\u001b[0;34m(self, input_dataset, map_func, use_inter_op_parallelism, preserve_cardinality, use_legacy_function, name)\u001b[0m\n\u001b[1;32m   5189\u001b[0m \u001b[38;5;28mself\u001b[39m\u001b[38;5;241m.\u001b[39m_use_inter_op_parallelism \u001b[38;5;241m=\u001b[39m use_inter_op_parallelism\n\u001b[1;32m   5190\u001b[0m \u001b[38;5;28mself\u001b[39m\u001b[38;5;241m.\u001b[39m_preserve_cardinality \u001b[38;5;241m=\u001b[39m preserve_cardinality\n\u001b[0;32m-> 5191\u001b[0m \u001b[38;5;28mself\u001b[39m\u001b[38;5;241m.\u001b[39m_map_func \u001b[38;5;241m=\u001b[39m \u001b[43mstructured_function\u001b[49m\u001b[38;5;241;43m.\u001b[39;49m\u001b[43mStructuredFunctionWrapper\u001b[49m\u001b[43m(\u001b[49m\n\u001b[1;32m   5192\u001b[0m \u001b[43m    \u001b[49m\u001b[43mmap_func\u001b[49m\u001b[43m,\u001b[49m\n\u001b[1;32m   5193\u001b[0m \u001b[43m    \u001b[49m\u001b[38;5;28;43mself\u001b[39;49m\u001b[38;5;241;43m.\u001b[39;49m\u001b[43m_transformation_name\u001b[49m\u001b[43m(\u001b[49m\u001b[43m)\u001b[49m\u001b[43m,\u001b[49m\n\u001b[1;32m   5194\u001b[0m \u001b[43m    \u001b[49m\u001b[43mdataset\u001b[49m\u001b[38;5;241;43m=\u001b[39;49m\u001b[43minput_dataset\u001b[49m\u001b[43m,\u001b[49m\n\u001b[1;32m   5195\u001b[0m \u001b[43m    \u001b[49m\u001b[43muse_legacy_function\u001b[49m\u001b[38;5;241;43m=\u001b[39;49m\u001b[43muse_legacy_function\u001b[49m\u001b[43m)\u001b[49m\n\u001b[1;32m   5196\u001b[0m \u001b[38;5;28mself\u001b[39m\u001b[38;5;241m.\u001b[39m_metadata \u001b[38;5;241m=\u001b[39m dataset_metadata_pb2\u001b[38;5;241m.\u001b[39mMetadata()\n\u001b[1;32m   5197\u001b[0m \u001b[38;5;28;01mif\u001b[39;00m name:\n",
      "File \u001b[0;32m~/Wks/AMFtrack/venv/lib/python3.8/site-packages/tensorflow/python/data/ops/structured_function.py:271\u001b[0m, in \u001b[0;36mStructuredFunctionWrapper.__init__\u001b[0;34m(self, func, transformation_name, dataset, input_classes, input_shapes, input_types, input_structure, add_to_graph, use_legacy_function, defun_kwargs)\u001b[0m\n\u001b[1;32m    264\u001b[0m       warnings\u001b[38;5;241m.\u001b[39mwarn(\n\u001b[1;32m    265\u001b[0m           \u001b[38;5;124m\"\u001b[39m\u001b[38;5;124mEven though the `tf.config.experimental_run_functions_eagerly` \u001b[39m\u001b[38;5;124m\"\u001b[39m\n\u001b[1;32m    266\u001b[0m           \u001b[38;5;124m\"\u001b[39m\u001b[38;5;124moption is set, this option does not apply to tf.data functions. \u001b[39m\u001b[38;5;124m\"\u001b[39m\n\u001b[1;32m    267\u001b[0m           \u001b[38;5;124m\"\u001b[39m\u001b[38;5;124mTo force eager execution of tf.data functions, please use \u001b[39m\u001b[38;5;124m\"\u001b[39m\n\u001b[1;32m    268\u001b[0m           \u001b[38;5;124m\"\u001b[39m\u001b[38;5;124m`tf.data.experimental.enable_debug_mode()`.\u001b[39m\u001b[38;5;124m\"\u001b[39m)\n\u001b[1;32m    269\u001b[0m     fn_factory \u001b[38;5;241m=\u001b[39m trace_tf_function(defun_kwargs)\n\u001b[0;32m--> 271\u001b[0m \u001b[38;5;28mself\u001b[39m\u001b[38;5;241m.\u001b[39m_function \u001b[38;5;241m=\u001b[39m \u001b[43mfn_factory\u001b[49m\u001b[43m(\u001b[49m\u001b[43m)\u001b[49m\n\u001b[1;32m    272\u001b[0m \u001b[38;5;66;03m# There is no graph to add in eager mode.\u001b[39;00m\n\u001b[1;32m    273\u001b[0m add_to_graph \u001b[38;5;241m&\u001b[39m\u001b[38;5;241m=\u001b[39m \u001b[38;5;129;01mnot\u001b[39;00m context\u001b[38;5;241m.\u001b[39mexecuting_eagerly()\n",
      "File \u001b[0;32m~/Wks/AMFtrack/venv/lib/python3.8/site-packages/tensorflow/python/eager/function.py:3070\u001b[0m, in \u001b[0;36mFunction.get_concrete_function\u001b[0;34m(self, *args, **kwargs)\u001b[0m\n\u001b[1;32m   3061\u001b[0m \u001b[38;5;28;01mdef\u001b[39;00m \u001b[38;5;21mget_concrete_function\u001b[39m(\u001b[38;5;28mself\u001b[39m, \u001b[38;5;241m*\u001b[39margs, \u001b[38;5;241m*\u001b[39m\u001b[38;5;241m*\u001b[39mkwargs):\n\u001b[1;32m   3062\u001b[0m   \u001b[38;5;124;03m\"\"\"Returns a `ConcreteFunction` specialized to inputs and execution context.\u001b[39;00m\n\u001b[1;32m   3063\u001b[0m \n\u001b[1;32m   3064\u001b[0m \u001b[38;5;124;03m  Args:\u001b[39;00m\n\u001b[0;32m   (...)\u001b[0m\n\u001b[1;32m   3068\u001b[0m \u001b[38;5;124;03m       or `tf.Tensor` or `tf.TensorSpec`.\u001b[39;00m\n\u001b[1;32m   3069\u001b[0m \u001b[38;5;124;03m  \"\"\"\u001b[39;00m\n\u001b[0;32m-> 3070\u001b[0m   graph_function \u001b[38;5;241m=\u001b[39m \u001b[38;5;28;43mself\u001b[39;49m\u001b[38;5;241;43m.\u001b[39;49m\u001b[43m_get_concrete_function_garbage_collected\u001b[49m\u001b[43m(\u001b[49m\n\u001b[1;32m   3071\u001b[0m \u001b[43m      \u001b[49m\u001b[38;5;241;43m*\u001b[39;49m\u001b[43margs\u001b[49m\u001b[43m,\u001b[49m\u001b[43m \u001b[49m\u001b[38;5;241;43m*\u001b[39;49m\u001b[38;5;241;43m*\u001b[39;49m\u001b[43mkwargs\u001b[49m\u001b[43m)\u001b[49m\n\u001b[1;32m   3072\u001b[0m   graph_function\u001b[38;5;241m.\u001b[39m_garbage_collector\u001b[38;5;241m.\u001b[39mrelease()  \u001b[38;5;66;03m# pylint: disable=protected-access\u001b[39;00m\n\u001b[1;32m   3073\u001b[0m   \u001b[38;5;28;01mreturn\u001b[39;00m graph_function\n",
      "File \u001b[0;32m~/Wks/AMFtrack/venv/lib/python3.8/site-packages/tensorflow/python/eager/function.py:3036\u001b[0m, in \u001b[0;36mFunction._get_concrete_function_garbage_collected\u001b[0;34m(self, *args, **kwargs)\u001b[0m\n\u001b[1;32m   3034\u001b[0m   args, kwargs \u001b[38;5;241m=\u001b[39m \u001b[38;5;28;01mNone\u001b[39;00m, \u001b[38;5;28;01mNone\u001b[39;00m\n\u001b[1;32m   3035\u001b[0m \u001b[38;5;28;01mwith\u001b[39;00m \u001b[38;5;28mself\u001b[39m\u001b[38;5;241m.\u001b[39m_lock:\n\u001b[0;32m-> 3036\u001b[0m   graph_function, _ \u001b[38;5;241m=\u001b[39m \u001b[38;5;28;43mself\u001b[39;49m\u001b[38;5;241;43m.\u001b[39;49m\u001b[43m_maybe_define_function\u001b[49m\u001b[43m(\u001b[49m\u001b[43margs\u001b[49m\u001b[43m,\u001b[49m\u001b[43m \u001b[49m\u001b[43mkwargs\u001b[49m\u001b[43m)\u001b[49m\n\u001b[1;32m   3037\u001b[0m   seen_names \u001b[38;5;241m=\u001b[39m \u001b[38;5;28mset\u001b[39m()\n\u001b[1;32m   3038\u001b[0m   captured \u001b[38;5;241m=\u001b[39m object_identity\u001b[38;5;241m.\u001b[39mObjectIdentitySet(\n\u001b[1;32m   3039\u001b[0m       graph_function\u001b[38;5;241m.\u001b[39mgraph\u001b[38;5;241m.\u001b[39minternal_captures)\n",
      "File \u001b[0;32m~/Wks/AMFtrack/venv/lib/python3.8/site-packages/tensorflow/python/eager/function.py:3292\u001b[0m, in \u001b[0;36mFunction._maybe_define_function\u001b[0;34m(self, args, kwargs)\u001b[0m\n\u001b[1;32m   3288\u001b[0m   \u001b[38;5;28;01mreturn\u001b[39;00m \u001b[38;5;28mself\u001b[39m\u001b[38;5;241m.\u001b[39m_define_function_with_shape_relaxation(\n\u001b[1;32m   3289\u001b[0m       args, kwargs, flat_args, filtered_flat_args)\n\u001b[1;32m   3291\u001b[0m \u001b[38;5;28mself\u001b[39m\u001b[38;5;241m.\u001b[39m_function_cache\u001b[38;5;241m.\u001b[39madd_call_context(cache_key\u001b[38;5;241m.\u001b[39mcall_context)\n\u001b[0;32m-> 3292\u001b[0m graph_function \u001b[38;5;241m=\u001b[39m \u001b[38;5;28;43mself\u001b[39;49m\u001b[38;5;241;43m.\u001b[39;49m\u001b[43m_create_graph_function\u001b[49m\u001b[43m(\u001b[49m\u001b[43margs\u001b[49m\u001b[43m,\u001b[49m\u001b[43m \u001b[49m\u001b[43mkwargs\u001b[49m\u001b[43m)\u001b[49m\n\u001b[1;32m   3293\u001b[0m \u001b[38;5;28mself\u001b[39m\u001b[38;5;241m.\u001b[39m_function_cache\u001b[38;5;241m.\u001b[39madd(cache_key, cache_key_deletion_observer,\n\u001b[1;32m   3294\u001b[0m                          graph_function)\n\u001b[1;32m   3296\u001b[0m \u001b[38;5;28;01mreturn\u001b[39;00m graph_function, filtered_flat_args\n",
      "File \u001b[0;32m~/Wks/AMFtrack/venv/lib/python3.8/site-packages/tensorflow/python/eager/function.py:3130\u001b[0m, in \u001b[0;36mFunction._create_graph_function\u001b[0;34m(self, args, kwargs, override_flat_arg_shapes)\u001b[0m\n\u001b[1;32m   3125\u001b[0m missing_arg_names \u001b[38;5;241m=\u001b[39m [\n\u001b[1;32m   3126\u001b[0m     \u001b[38;5;124m\"\u001b[39m\u001b[38;5;132;01m%s\u001b[39;00m\u001b[38;5;124m_\u001b[39m\u001b[38;5;132;01m%d\u001b[39;00m\u001b[38;5;124m\"\u001b[39m \u001b[38;5;241m%\u001b[39m (arg, i) \u001b[38;5;28;01mfor\u001b[39;00m i, arg \u001b[38;5;129;01min\u001b[39;00m \u001b[38;5;28menumerate\u001b[39m(missing_arg_names)\n\u001b[1;32m   3127\u001b[0m ]\n\u001b[1;32m   3128\u001b[0m arg_names \u001b[38;5;241m=\u001b[39m base_arg_names \u001b[38;5;241m+\u001b[39m missing_arg_names\n\u001b[1;32m   3129\u001b[0m graph_function \u001b[38;5;241m=\u001b[39m ConcreteFunction(\n\u001b[0;32m-> 3130\u001b[0m     \u001b[43mfunc_graph_module\u001b[49m\u001b[38;5;241;43m.\u001b[39;49m\u001b[43mfunc_graph_from_py_func\u001b[49m\u001b[43m(\u001b[49m\n\u001b[1;32m   3131\u001b[0m \u001b[43m        \u001b[49m\u001b[38;5;28;43mself\u001b[39;49m\u001b[38;5;241;43m.\u001b[39;49m\u001b[43m_name\u001b[49m\u001b[43m,\u001b[49m\n\u001b[1;32m   3132\u001b[0m \u001b[43m        \u001b[49m\u001b[38;5;28;43mself\u001b[39;49m\u001b[38;5;241;43m.\u001b[39;49m\u001b[43m_python_function\u001b[49m\u001b[43m,\u001b[49m\n\u001b[1;32m   3133\u001b[0m \u001b[43m        \u001b[49m\u001b[43margs\u001b[49m\u001b[43m,\u001b[49m\n\u001b[1;32m   3134\u001b[0m \u001b[43m        \u001b[49m\u001b[43mkwargs\u001b[49m\u001b[43m,\u001b[49m\n\u001b[1;32m   3135\u001b[0m \u001b[43m        \u001b[49m\u001b[38;5;28;43mself\u001b[39;49m\u001b[38;5;241;43m.\u001b[39;49m\u001b[43minput_signature\u001b[49m\u001b[43m,\u001b[49m\n\u001b[1;32m   3136\u001b[0m \u001b[43m        \u001b[49m\u001b[43mautograph\u001b[49m\u001b[38;5;241;43m=\u001b[39;49m\u001b[38;5;28;43mself\u001b[39;49m\u001b[38;5;241;43m.\u001b[39;49m\u001b[43m_autograph\u001b[49m\u001b[43m,\u001b[49m\n\u001b[1;32m   3137\u001b[0m \u001b[43m        \u001b[49m\u001b[43mautograph_options\u001b[49m\u001b[38;5;241;43m=\u001b[39;49m\u001b[38;5;28;43mself\u001b[39;49m\u001b[38;5;241;43m.\u001b[39;49m\u001b[43m_autograph_options\u001b[49m\u001b[43m,\u001b[49m\n\u001b[1;32m   3138\u001b[0m \u001b[43m        \u001b[49m\u001b[43marg_names\u001b[49m\u001b[38;5;241;43m=\u001b[39;49m\u001b[43marg_names\u001b[49m\u001b[43m,\u001b[49m\n\u001b[1;32m   3139\u001b[0m \u001b[43m        \u001b[49m\u001b[43moverride_flat_arg_shapes\u001b[49m\u001b[38;5;241;43m=\u001b[39;49m\u001b[43moverride_flat_arg_shapes\u001b[49m\u001b[43m,\u001b[49m\n\u001b[1;32m   3140\u001b[0m \u001b[43m        \u001b[49m\u001b[43mcapture_by_value\u001b[49m\u001b[38;5;241;43m=\u001b[39;49m\u001b[38;5;28;43mself\u001b[39;49m\u001b[38;5;241;43m.\u001b[39;49m\u001b[43m_capture_by_value\u001b[49m\u001b[43m)\u001b[49m,\n\u001b[1;32m   3141\u001b[0m     \u001b[38;5;28mself\u001b[39m\u001b[38;5;241m.\u001b[39m_function_attributes,\n\u001b[1;32m   3142\u001b[0m     function_spec\u001b[38;5;241m=\u001b[39m\u001b[38;5;28mself\u001b[39m\u001b[38;5;241m.\u001b[39mfunction_spec,\n\u001b[1;32m   3143\u001b[0m     \u001b[38;5;66;03m# Tell the ConcreteFunction to clean up its graph once it goes out of\u001b[39;00m\n\u001b[1;32m   3144\u001b[0m     \u001b[38;5;66;03m# scope. This is not the default behavior since it gets used in some\u001b[39;00m\n\u001b[1;32m   3145\u001b[0m     \u001b[38;5;66;03m# places (like Keras) where the FuncGraph lives longer than the\u001b[39;00m\n\u001b[1;32m   3146\u001b[0m     \u001b[38;5;66;03m# ConcreteFunction.\u001b[39;00m\n\u001b[1;32m   3147\u001b[0m     shared_func_graph\u001b[38;5;241m=\u001b[39m\u001b[38;5;28;01mFalse\u001b[39;00m)\n\u001b[1;32m   3148\u001b[0m \u001b[38;5;28;01mreturn\u001b[39;00m graph_function\n",
      "File \u001b[0;32m~/Wks/AMFtrack/venv/lib/python3.8/site-packages/tensorflow/python/framework/func_graph.py:1161\u001b[0m, in \u001b[0;36mfunc_graph_from_py_func\u001b[0;34m(name, python_func, args, kwargs, signature, func_graph, autograph, autograph_options, add_control_dependencies, arg_names, op_return_value, collections, capture_by_value, override_flat_arg_shapes, acd_record_initial_resource_uses)\u001b[0m\n\u001b[1;32m   1158\u001b[0m \u001b[38;5;28;01melse\u001b[39;00m:\n\u001b[1;32m   1159\u001b[0m   _, original_func \u001b[38;5;241m=\u001b[39m tf_decorator\u001b[38;5;241m.\u001b[39munwrap(python_func)\n\u001b[0;32m-> 1161\u001b[0m func_outputs \u001b[38;5;241m=\u001b[39m \u001b[43mpython_func\u001b[49m\u001b[43m(\u001b[49m\u001b[38;5;241;43m*\u001b[39;49m\u001b[43mfunc_args\u001b[49m\u001b[43m,\u001b[49m\u001b[43m \u001b[49m\u001b[38;5;241;43m*\u001b[39;49m\u001b[38;5;241;43m*\u001b[39;49m\u001b[43mfunc_kwargs\u001b[49m\u001b[43m)\u001b[49m\n\u001b[1;32m   1163\u001b[0m \u001b[38;5;66;03m# invariant: `func_outputs` contains only Tensors, CompositeTensors,\u001b[39;00m\n\u001b[1;32m   1164\u001b[0m \u001b[38;5;66;03m# TensorArrays and `None`s.\u001b[39;00m\n\u001b[1;32m   1165\u001b[0m func_outputs \u001b[38;5;241m=\u001b[39m nest\u001b[38;5;241m.\u001b[39mmap_structure(convert, func_outputs,\n\u001b[1;32m   1166\u001b[0m                                   expand_composites\u001b[38;5;241m=\u001b[39m\u001b[38;5;28;01mTrue\u001b[39;00m)\n",
      "File \u001b[0;32m~/Wks/AMFtrack/venv/lib/python3.8/site-packages/tensorflow/python/data/ops/structured_function.py:248\u001b[0m, in \u001b[0;36mStructuredFunctionWrapper.__init__.<locals>.trace_tf_function.<locals>.wrapped_fn\u001b[0;34m(*args)\u001b[0m\n\u001b[1;32m    242\u001b[0m \u001b[38;5;129m@eager_function\u001b[39m\u001b[38;5;241m.\u001b[39mdefun_with_attributes(\n\u001b[1;32m    243\u001b[0m     input_signature\u001b[38;5;241m=\u001b[39mstructure\u001b[38;5;241m.\u001b[39mget_flat_tensor_specs(\n\u001b[1;32m    244\u001b[0m         \u001b[38;5;28mself\u001b[39m\u001b[38;5;241m.\u001b[39m_input_structure),\n\u001b[1;32m    245\u001b[0m     autograph\u001b[38;5;241m=\u001b[39m\u001b[38;5;28;01mFalse\u001b[39;00m,\n\u001b[1;32m    246\u001b[0m     attributes\u001b[38;5;241m=\u001b[39mdefun_kwargs)\n\u001b[1;32m    247\u001b[0m \u001b[38;5;28;01mdef\u001b[39;00m \u001b[38;5;21mwrapped_fn\u001b[39m(\u001b[38;5;241m*\u001b[39margs):  \u001b[38;5;66;03m# pylint: disable=missing-docstring\u001b[39;00m\n\u001b[0;32m--> 248\u001b[0m   ret \u001b[38;5;241m=\u001b[39m \u001b[43mwrapper_helper\u001b[49m\u001b[43m(\u001b[49m\u001b[38;5;241;43m*\u001b[39;49m\u001b[43margs\u001b[49m\u001b[43m)\u001b[49m\n\u001b[1;32m    249\u001b[0m   ret \u001b[38;5;241m=\u001b[39m structure\u001b[38;5;241m.\u001b[39mto_tensor_list(\u001b[38;5;28mself\u001b[39m\u001b[38;5;241m.\u001b[39m_output_structure, ret)\n\u001b[1;32m    250\u001b[0m   \u001b[38;5;28;01mreturn\u001b[39;00m [ops\u001b[38;5;241m.\u001b[39mconvert_to_tensor(t) \u001b[38;5;28;01mfor\u001b[39;00m t \u001b[38;5;129;01min\u001b[39;00m ret]\n",
      "File \u001b[0;32m~/Wks/AMFtrack/venv/lib/python3.8/site-packages/tensorflow/python/data/ops/structured_function.py:177\u001b[0m, in \u001b[0;36mStructuredFunctionWrapper.__init__.<locals>.wrapper_helper\u001b[0;34m(*args)\u001b[0m\n\u001b[1;32m    175\u001b[0m \u001b[38;5;28;01mif\u001b[39;00m \u001b[38;5;129;01mnot\u001b[39;00m _should_unpack(nested_args):\n\u001b[1;32m    176\u001b[0m   nested_args \u001b[38;5;241m=\u001b[39m (nested_args,)\n\u001b[0;32m--> 177\u001b[0m ret \u001b[38;5;241m=\u001b[39m \u001b[43mautograph\u001b[49m\u001b[38;5;241;43m.\u001b[39;49m\u001b[43mtf_convert\u001b[49m\u001b[43m(\u001b[49m\u001b[38;5;28;43mself\u001b[39;49m\u001b[38;5;241;43m.\u001b[39;49m\u001b[43m_func\u001b[49m\u001b[43m,\u001b[49m\u001b[43m \u001b[49m\u001b[43mag_ctx\u001b[49m\u001b[43m)\u001b[49m\u001b[43m(\u001b[49m\u001b[38;5;241;43m*\u001b[39;49m\u001b[43mnested_args\u001b[49m\u001b[43m)\u001b[49m\n\u001b[1;32m    178\u001b[0m \u001b[38;5;28;01mif\u001b[39;00m _should_pack(ret):\n\u001b[1;32m    179\u001b[0m   ret \u001b[38;5;241m=\u001b[39m \u001b[38;5;28mtuple\u001b[39m(ret)\n",
      "File \u001b[0;32m~/Wks/AMFtrack/venv/lib/python3.8/site-packages/tensorflow/python/autograph/impl/api.py:692\u001b[0m, in \u001b[0;36mconvert.<locals>.decorator.<locals>.wrapper\u001b[0;34m(*args, **kwargs)\u001b[0m\n\u001b[1;32m    690\u001b[0m \u001b[38;5;28;01mexcept\u001b[39;00m \u001b[38;5;167;01mException\u001b[39;00m \u001b[38;5;28;01mas\u001b[39;00m e:  \u001b[38;5;66;03m# pylint:disable=broad-except\u001b[39;00m\n\u001b[1;32m    691\u001b[0m   \u001b[38;5;28;01mif\u001b[39;00m \u001b[38;5;28mhasattr\u001b[39m(e, \u001b[38;5;124m'\u001b[39m\u001b[38;5;124mag_error_metadata\u001b[39m\u001b[38;5;124m'\u001b[39m):\n\u001b[0;32m--> 692\u001b[0m     \u001b[38;5;28;01mraise\u001b[39;00m e\u001b[38;5;241m.\u001b[39mag_error_metadata\u001b[38;5;241m.\u001b[39mto_exception(e)\n\u001b[1;32m    693\u001b[0m   \u001b[38;5;28;01melse\u001b[39;00m:\n\u001b[1;32m    694\u001b[0m     \u001b[38;5;28;01mraise\u001b[39;00m\n",
      "\u001b[0;31mValueError\u001b[0m: in user code:\n\n    File \"/tmp/ipykernel_21812/1439737797.py\", line 2, in None  *\n        lambda x: (data_augmentation(x, training=True))\n    File \"/home/felix/Wks/AMFtrack/venv/lib/python3.8/site-packages/keras/utils/traceback_utils.py\", line 67, in error_handler  **\n        raise e.with_traceback(filtered_tb) from None\n    File \"/home/felix/Wks/AMFtrack/amftrack/ml/width/data_augmentation.py\", line 80, in <lambda>\n        lambda x: random_crop_slice(x, original_size, input_size, offset),\n\n    ValueError: Exception encountered when calling layer \"random_crop_with_offset_0\" (type Lambda).\n    \n    in user code:\n    \n        File \"/home/felix/Wks/AMFtrack/amftrack/ml/width/data_augmentation.py\", line 74, in random_crop_slice  *\n            return x[..., start_index : start_index + input_size, :]\n    \n        ValueError: Index out of range using input dim 1; input has only 1 dims for '{{node strided_slice}} = StridedSlice[Index=DT_INT64, T=DT_FLOAT, begin_mask=4, ellipsis_mask=1, end_mask=4, new_axis_mask=0, shrink_axis_mask=0](x, strided_slice/stack, strided_slice/stack_1, strided_slice/Cast)' with input shapes: [120], [3], [3], [3] and with computed input tensors: input[3] = <1 1 1>.\n    \n    \n    Call arguments received:\n      • inputs=tf.Tensor(shape=(120,), dtype=float32)\n      • mask=None\n      • training=True\n"
     ]
    }
   ],
   "source": [
    "train = (\n",
    "    train_dataset.map(lambda x: (data_augmentation(x, training=True)))\n",
    "    .unbatch()\n",
    "    .batch(BATCHSIZE)\n",
    "    .prefetch(tf.data.AUTOTUNE)\n",
    ")"
   ]
  },
  {
   "cell_type": "code",
   "execution_count": 55,
   "id": "cef90cc2",
   "metadata": {},
   "outputs": [
    {
     "name": "stdout",
     "output_type": "stream",
     "text": [
      "WARNING:tensorflow:Model was constructed with shape (None, 120, 1) for input KerasTensor(type_spec=TensorSpec(shape=(None, 120, 1), dtype=tf.float32, name='input_1'), name='input_1', description=\"created by layer 'input_1'\"), but it was called on an input with incompatible shape (120,).\n",
      "2022-08-16 16:49:36,925-[WARNING]- tensorflow:665 -> Model was constructed with shape (None, 120, 1) for input KerasTensor(type_spec=TensorSpec(shape=(None, 120, 1), dtype=tf.float32, name='input_1'), name='input_1', description=\"created by layer 'input_1'\"), but it was called on an input with incompatible shape (120,).\n"
     ]
    },
    {
     "ename": "ValueError",
     "evalue": "Exception encountered when calling layer \"random_crop_with_offset_0\" (type Lambda).\n\nin user code:\n\n    File \"/home/felix/Wks/AMFtrack/amftrack/ml/width/data_augmentation.py\", line 74, in random_crop_slice  *\n        return x[..., start_index : start_index + input_size, :]\n\n    ValueError: Index out of range using input dim 1; input has only 1 dims for '{{node strided_slice}} = StridedSlice[Index=DT_INT64, T=DT_FLOAT, begin_mask=4, ellipsis_mask=1, end_mask=4, new_axis_mask=0, shrink_axis_mask=0](x, strided_slice/stack, strided_slice/stack_1, strided_slice/Cast)' with input shapes: [120], [3], [3], [3] and with computed input tensors: input[3] = <1 1 1>.\n\n\nCall arguments received:\n  • inputs=tf.Tensor(shape=(120,), dtype=float32)\n  • mask=None\n  • training=False",
     "output_type": "error",
     "traceback": [
      "\u001b[0;31m---------------------------------------------------------------------------\u001b[0m",
      "\u001b[0;31mValueError\u001b[0m                                Traceback (most recent call last)",
      "Input \u001b[0;32mIn [55]\u001b[0m, in \u001b[0;36m<cell line: 2>\u001b[0;34m()\u001b[0m\n\u001b[1;32m      1\u001b[0m train_dataset \u001b[38;5;241m=\u001b[39m (\n\u001b[0;32m----> 2\u001b[0m         \u001b[43mtrain_dataset\u001b[49m\u001b[38;5;241;43m.\u001b[39;49m\u001b[43mmap\u001b[49m\u001b[43m(\u001b[49m\u001b[43mdata_augmentation\u001b[49m\u001b[43m)\u001b[49m\n\u001b[1;32m      3\u001b[0m         \u001b[38;5;241m.\u001b[39munbatch()\n\u001b[1;32m      4\u001b[0m         \u001b[38;5;241m.\u001b[39mbatch(BATCHSIZE)\n\u001b[1;32m      5\u001b[0m         \u001b[38;5;241m.\u001b[39mprefetch(tf\u001b[38;5;241m.\u001b[39mdata\u001b[38;5;241m.\u001b[39mAUTOTUNE)\n\u001b[1;32m      6\u001b[0m     )\n",
      "File \u001b[0;32m~/Wks/AMFtrack/venv/lib/python3.8/site-packages/tensorflow/python/data/ops/dataset_ops.py:2016\u001b[0m, in \u001b[0;36mDatasetV2.map\u001b[0;34m(self, map_func, num_parallel_calls, deterministic, name)\u001b[0m\n\u001b[1;32m   2013\u001b[0m   \u001b[38;5;28;01mif\u001b[39;00m deterministic \u001b[38;5;129;01mis\u001b[39;00m \u001b[38;5;129;01mnot\u001b[39;00m \u001b[38;5;28;01mNone\u001b[39;00m \u001b[38;5;129;01mand\u001b[39;00m \u001b[38;5;129;01mnot\u001b[39;00m DEBUG_MODE:\n\u001b[1;32m   2014\u001b[0m     warnings\u001b[38;5;241m.\u001b[39mwarn(\u001b[38;5;124m\"\u001b[39m\u001b[38;5;124mThe `deterministic` argument has no effect unless the \u001b[39m\u001b[38;5;124m\"\u001b[39m\n\u001b[1;32m   2015\u001b[0m                   \u001b[38;5;124m\"\u001b[39m\u001b[38;5;124m`num_parallel_calls` argument is specified.\u001b[39m\u001b[38;5;124m\"\u001b[39m)\n\u001b[0;32m-> 2016\u001b[0m   \u001b[38;5;28;01mreturn\u001b[39;00m \u001b[43mMapDataset\u001b[49m\u001b[43m(\u001b[49m\u001b[38;5;28;43mself\u001b[39;49m\u001b[43m,\u001b[49m\u001b[43m \u001b[49m\u001b[43mmap_func\u001b[49m\u001b[43m,\u001b[49m\u001b[43m \u001b[49m\u001b[43mpreserve_cardinality\u001b[49m\u001b[38;5;241;43m=\u001b[39;49m\u001b[38;5;28;43;01mTrue\u001b[39;49;00m\u001b[43m,\u001b[49m\u001b[43m \u001b[49m\u001b[43mname\u001b[49m\u001b[38;5;241;43m=\u001b[39;49m\u001b[43mname\u001b[49m\u001b[43m)\u001b[49m\n\u001b[1;32m   2017\u001b[0m \u001b[38;5;28;01melse\u001b[39;00m:\n\u001b[1;32m   2018\u001b[0m   \u001b[38;5;28;01mreturn\u001b[39;00m ParallelMapDataset(\n\u001b[1;32m   2019\u001b[0m       \u001b[38;5;28mself\u001b[39m,\n\u001b[1;32m   2020\u001b[0m       map_func,\n\u001b[0;32m   (...)\u001b[0m\n\u001b[1;32m   2023\u001b[0m       preserve_cardinality\u001b[38;5;241m=\u001b[39m\u001b[38;5;28;01mTrue\u001b[39;00m,\n\u001b[1;32m   2024\u001b[0m       name\u001b[38;5;241m=\u001b[39mname)\n",
      "File \u001b[0;32m~/Wks/AMFtrack/venv/lib/python3.8/site-packages/tensorflow/python/data/ops/dataset_ops.py:5191\u001b[0m, in \u001b[0;36mMapDataset.__init__\u001b[0;34m(self, input_dataset, map_func, use_inter_op_parallelism, preserve_cardinality, use_legacy_function, name)\u001b[0m\n\u001b[1;32m   5189\u001b[0m \u001b[38;5;28mself\u001b[39m\u001b[38;5;241m.\u001b[39m_use_inter_op_parallelism \u001b[38;5;241m=\u001b[39m use_inter_op_parallelism\n\u001b[1;32m   5190\u001b[0m \u001b[38;5;28mself\u001b[39m\u001b[38;5;241m.\u001b[39m_preserve_cardinality \u001b[38;5;241m=\u001b[39m preserve_cardinality\n\u001b[0;32m-> 5191\u001b[0m \u001b[38;5;28mself\u001b[39m\u001b[38;5;241m.\u001b[39m_map_func \u001b[38;5;241m=\u001b[39m \u001b[43mstructured_function\u001b[49m\u001b[38;5;241;43m.\u001b[39;49m\u001b[43mStructuredFunctionWrapper\u001b[49m\u001b[43m(\u001b[49m\n\u001b[1;32m   5192\u001b[0m \u001b[43m    \u001b[49m\u001b[43mmap_func\u001b[49m\u001b[43m,\u001b[49m\n\u001b[1;32m   5193\u001b[0m \u001b[43m    \u001b[49m\u001b[38;5;28;43mself\u001b[39;49m\u001b[38;5;241;43m.\u001b[39;49m\u001b[43m_transformation_name\u001b[49m\u001b[43m(\u001b[49m\u001b[43m)\u001b[49m\u001b[43m,\u001b[49m\n\u001b[1;32m   5194\u001b[0m \u001b[43m    \u001b[49m\u001b[43mdataset\u001b[49m\u001b[38;5;241;43m=\u001b[39;49m\u001b[43minput_dataset\u001b[49m\u001b[43m,\u001b[49m\n\u001b[1;32m   5195\u001b[0m \u001b[43m    \u001b[49m\u001b[43muse_legacy_function\u001b[49m\u001b[38;5;241;43m=\u001b[39;49m\u001b[43muse_legacy_function\u001b[49m\u001b[43m)\u001b[49m\n\u001b[1;32m   5196\u001b[0m \u001b[38;5;28mself\u001b[39m\u001b[38;5;241m.\u001b[39m_metadata \u001b[38;5;241m=\u001b[39m dataset_metadata_pb2\u001b[38;5;241m.\u001b[39mMetadata()\n\u001b[1;32m   5197\u001b[0m \u001b[38;5;28;01mif\u001b[39;00m name:\n",
      "File \u001b[0;32m~/Wks/AMFtrack/venv/lib/python3.8/site-packages/tensorflow/python/data/ops/structured_function.py:271\u001b[0m, in \u001b[0;36mStructuredFunctionWrapper.__init__\u001b[0;34m(self, func, transformation_name, dataset, input_classes, input_shapes, input_types, input_structure, add_to_graph, use_legacy_function, defun_kwargs)\u001b[0m\n\u001b[1;32m    264\u001b[0m       warnings\u001b[38;5;241m.\u001b[39mwarn(\n\u001b[1;32m    265\u001b[0m           \u001b[38;5;124m\"\u001b[39m\u001b[38;5;124mEven though the `tf.config.experimental_run_functions_eagerly` \u001b[39m\u001b[38;5;124m\"\u001b[39m\n\u001b[1;32m    266\u001b[0m           \u001b[38;5;124m\"\u001b[39m\u001b[38;5;124moption is set, this option does not apply to tf.data functions. \u001b[39m\u001b[38;5;124m\"\u001b[39m\n\u001b[1;32m    267\u001b[0m           \u001b[38;5;124m\"\u001b[39m\u001b[38;5;124mTo force eager execution of tf.data functions, please use \u001b[39m\u001b[38;5;124m\"\u001b[39m\n\u001b[1;32m    268\u001b[0m           \u001b[38;5;124m\"\u001b[39m\u001b[38;5;124m`tf.data.experimental.enable_debug_mode()`.\u001b[39m\u001b[38;5;124m\"\u001b[39m)\n\u001b[1;32m    269\u001b[0m     fn_factory \u001b[38;5;241m=\u001b[39m trace_tf_function(defun_kwargs)\n\u001b[0;32m--> 271\u001b[0m \u001b[38;5;28mself\u001b[39m\u001b[38;5;241m.\u001b[39m_function \u001b[38;5;241m=\u001b[39m \u001b[43mfn_factory\u001b[49m\u001b[43m(\u001b[49m\u001b[43m)\u001b[49m\n\u001b[1;32m    272\u001b[0m \u001b[38;5;66;03m# There is no graph to add in eager mode.\u001b[39;00m\n\u001b[1;32m    273\u001b[0m add_to_graph \u001b[38;5;241m&\u001b[39m\u001b[38;5;241m=\u001b[39m \u001b[38;5;129;01mnot\u001b[39;00m context\u001b[38;5;241m.\u001b[39mexecuting_eagerly()\n",
      "File \u001b[0;32m~/Wks/AMFtrack/venv/lib/python3.8/site-packages/tensorflow/python/eager/function.py:3070\u001b[0m, in \u001b[0;36mFunction.get_concrete_function\u001b[0;34m(self, *args, **kwargs)\u001b[0m\n\u001b[1;32m   3061\u001b[0m \u001b[38;5;28;01mdef\u001b[39;00m \u001b[38;5;21mget_concrete_function\u001b[39m(\u001b[38;5;28mself\u001b[39m, \u001b[38;5;241m*\u001b[39margs, \u001b[38;5;241m*\u001b[39m\u001b[38;5;241m*\u001b[39mkwargs):\n\u001b[1;32m   3062\u001b[0m   \u001b[38;5;124;03m\"\"\"Returns a `ConcreteFunction` specialized to inputs and execution context.\u001b[39;00m\n\u001b[1;32m   3063\u001b[0m \n\u001b[1;32m   3064\u001b[0m \u001b[38;5;124;03m  Args:\u001b[39;00m\n\u001b[0;32m   (...)\u001b[0m\n\u001b[1;32m   3068\u001b[0m \u001b[38;5;124;03m       or `tf.Tensor` or `tf.TensorSpec`.\u001b[39;00m\n\u001b[1;32m   3069\u001b[0m \u001b[38;5;124;03m  \"\"\"\u001b[39;00m\n\u001b[0;32m-> 3070\u001b[0m   graph_function \u001b[38;5;241m=\u001b[39m \u001b[38;5;28;43mself\u001b[39;49m\u001b[38;5;241;43m.\u001b[39;49m\u001b[43m_get_concrete_function_garbage_collected\u001b[49m\u001b[43m(\u001b[49m\n\u001b[1;32m   3071\u001b[0m \u001b[43m      \u001b[49m\u001b[38;5;241;43m*\u001b[39;49m\u001b[43margs\u001b[49m\u001b[43m,\u001b[49m\u001b[43m \u001b[49m\u001b[38;5;241;43m*\u001b[39;49m\u001b[38;5;241;43m*\u001b[39;49m\u001b[43mkwargs\u001b[49m\u001b[43m)\u001b[49m\n\u001b[1;32m   3072\u001b[0m   graph_function\u001b[38;5;241m.\u001b[39m_garbage_collector\u001b[38;5;241m.\u001b[39mrelease()  \u001b[38;5;66;03m# pylint: disable=protected-access\u001b[39;00m\n\u001b[1;32m   3073\u001b[0m   \u001b[38;5;28;01mreturn\u001b[39;00m graph_function\n",
      "File \u001b[0;32m~/Wks/AMFtrack/venv/lib/python3.8/site-packages/tensorflow/python/eager/function.py:3036\u001b[0m, in \u001b[0;36mFunction._get_concrete_function_garbage_collected\u001b[0;34m(self, *args, **kwargs)\u001b[0m\n\u001b[1;32m   3034\u001b[0m   args, kwargs \u001b[38;5;241m=\u001b[39m \u001b[38;5;28;01mNone\u001b[39;00m, \u001b[38;5;28;01mNone\u001b[39;00m\n\u001b[1;32m   3035\u001b[0m \u001b[38;5;28;01mwith\u001b[39;00m \u001b[38;5;28mself\u001b[39m\u001b[38;5;241m.\u001b[39m_lock:\n\u001b[0;32m-> 3036\u001b[0m   graph_function, _ \u001b[38;5;241m=\u001b[39m \u001b[38;5;28;43mself\u001b[39;49m\u001b[38;5;241;43m.\u001b[39;49m\u001b[43m_maybe_define_function\u001b[49m\u001b[43m(\u001b[49m\u001b[43margs\u001b[49m\u001b[43m,\u001b[49m\u001b[43m \u001b[49m\u001b[43mkwargs\u001b[49m\u001b[43m)\u001b[49m\n\u001b[1;32m   3037\u001b[0m   seen_names \u001b[38;5;241m=\u001b[39m \u001b[38;5;28mset\u001b[39m()\n\u001b[1;32m   3038\u001b[0m   captured \u001b[38;5;241m=\u001b[39m object_identity\u001b[38;5;241m.\u001b[39mObjectIdentitySet(\n\u001b[1;32m   3039\u001b[0m       graph_function\u001b[38;5;241m.\u001b[39mgraph\u001b[38;5;241m.\u001b[39minternal_captures)\n",
      "File \u001b[0;32m~/Wks/AMFtrack/venv/lib/python3.8/site-packages/tensorflow/python/eager/function.py:3292\u001b[0m, in \u001b[0;36mFunction._maybe_define_function\u001b[0;34m(self, args, kwargs)\u001b[0m\n\u001b[1;32m   3288\u001b[0m   \u001b[38;5;28;01mreturn\u001b[39;00m \u001b[38;5;28mself\u001b[39m\u001b[38;5;241m.\u001b[39m_define_function_with_shape_relaxation(\n\u001b[1;32m   3289\u001b[0m       args, kwargs, flat_args, filtered_flat_args)\n\u001b[1;32m   3291\u001b[0m \u001b[38;5;28mself\u001b[39m\u001b[38;5;241m.\u001b[39m_function_cache\u001b[38;5;241m.\u001b[39madd_call_context(cache_key\u001b[38;5;241m.\u001b[39mcall_context)\n\u001b[0;32m-> 3292\u001b[0m graph_function \u001b[38;5;241m=\u001b[39m \u001b[38;5;28;43mself\u001b[39;49m\u001b[38;5;241;43m.\u001b[39;49m\u001b[43m_create_graph_function\u001b[49m\u001b[43m(\u001b[49m\u001b[43margs\u001b[49m\u001b[43m,\u001b[49m\u001b[43m \u001b[49m\u001b[43mkwargs\u001b[49m\u001b[43m)\u001b[49m\n\u001b[1;32m   3293\u001b[0m \u001b[38;5;28mself\u001b[39m\u001b[38;5;241m.\u001b[39m_function_cache\u001b[38;5;241m.\u001b[39madd(cache_key, cache_key_deletion_observer,\n\u001b[1;32m   3294\u001b[0m                          graph_function)\n\u001b[1;32m   3296\u001b[0m \u001b[38;5;28;01mreturn\u001b[39;00m graph_function, filtered_flat_args\n",
      "File \u001b[0;32m~/Wks/AMFtrack/venv/lib/python3.8/site-packages/tensorflow/python/eager/function.py:3130\u001b[0m, in \u001b[0;36mFunction._create_graph_function\u001b[0;34m(self, args, kwargs, override_flat_arg_shapes)\u001b[0m\n\u001b[1;32m   3125\u001b[0m missing_arg_names \u001b[38;5;241m=\u001b[39m [\n\u001b[1;32m   3126\u001b[0m     \u001b[38;5;124m\"\u001b[39m\u001b[38;5;132;01m%s\u001b[39;00m\u001b[38;5;124m_\u001b[39m\u001b[38;5;132;01m%d\u001b[39;00m\u001b[38;5;124m\"\u001b[39m \u001b[38;5;241m%\u001b[39m (arg, i) \u001b[38;5;28;01mfor\u001b[39;00m i, arg \u001b[38;5;129;01min\u001b[39;00m \u001b[38;5;28menumerate\u001b[39m(missing_arg_names)\n\u001b[1;32m   3127\u001b[0m ]\n\u001b[1;32m   3128\u001b[0m arg_names \u001b[38;5;241m=\u001b[39m base_arg_names \u001b[38;5;241m+\u001b[39m missing_arg_names\n\u001b[1;32m   3129\u001b[0m graph_function \u001b[38;5;241m=\u001b[39m ConcreteFunction(\n\u001b[0;32m-> 3130\u001b[0m     \u001b[43mfunc_graph_module\u001b[49m\u001b[38;5;241;43m.\u001b[39;49m\u001b[43mfunc_graph_from_py_func\u001b[49m\u001b[43m(\u001b[49m\n\u001b[1;32m   3131\u001b[0m \u001b[43m        \u001b[49m\u001b[38;5;28;43mself\u001b[39;49m\u001b[38;5;241;43m.\u001b[39;49m\u001b[43m_name\u001b[49m\u001b[43m,\u001b[49m\n\u001b[1;32m   3132\u001b[0m \u001b[43m        \u001b[49m\u001b[38;5;28;43mself\u001b[39;49m\u001b[38;5;241;43m.\u001b[39;49m\u001b[43m_python_function\u001b[49m\u001b[43m,\u001b[49m\n\u001b[1;32m   3133\u001b[0m \u001b[43m        \u001b[49m\u001b[43margs\u001b[49m\u001b[43m,\u001b[49m\n\u001b[1;32m   3134\u001b[0m \u001b[43m        \u001b[49m\u001b[43mkwargs\u001b[49m\u001b[43m,\u001b[49m\n\u001b[1;32m   3135\u001b[0m \u001b[43m        \u001b[49m\u001b[38;5;28;43mself\u001b[39;49m\u001b[38;5;241;43m.\u001b[39;49m\u001b[43minput_signature\u001b[49m\u001b[43m,\u001b[49m\n\u001b[1;32m   3136\u001b[0m \u001b[43m        \u001b[49m\u001b[43mautograph\u001b[49m\u001b[38;5;241;43m=\u001b[39;49m\u001b[38;5;28;43mself\u001b[39;49m\u001b[38;5;241;43m.\u001b[39;49m\u001b[43m_autograph\u001b[49m\u001b[43m,\u001b[49m\n\u001b[1;32m   3137\u001b[0m \u001b[43m        \u001b[49m\u001b[43mautograph_options\u001b[49m\u001b[38;5;241;43m=\u001b[39;49m\u001b[38;5;28;43mself\u001b[39;49m\u001b[38;5;241;43m.\u001b[39;49m\u001b[43m_autograph_options\u001b[49m\u001b[43m,\u001b[49m\n\u001b[1;32m   3138\u001b[0m \u001b[43m        \u001b[49m\u001b[43marg_names\u001b[49m\u001b[38;5;241;43m=\u001b[39;49m\u001b[43marg_names\u001b[49m\u001b[43m,\u001b[49m\n\u001b[1;32m   3139\u001b[0m \u001b[43m        \u001b[49m\u001b[43moverride_flat_arg_shapes\u001b[49m\u001b[38;5;241;43m=\u001b[39;49m\u001b[43moverride_flat_arg_shapes\u001b[49m\u001b[43m,\u001b[49m\n\u001b[1;32m   3140\u001b[0m \u001b[43m        \u001b[49m\u001b[43mcapture_by_value\u001b[49m\u001b[38;5;241;43m=\u001b[39;49m\u001b[38;5;28;43mself\u001b[39;49m\u001b[38;5;241;43m.\u001b[39;49m\u001b[43m_capture_by_value\u001b[49m\u001b[43m)\u001b[49m,\n\u001b[1;32m   3141\u001b[0m     \u001b[38;5;28mself\u001b[39m\u001b[38;5;241m.\u001b[39m_function_attributes,\n\u001b[1;32m   3142\u001b[0m     function_spec\u001b[38;5;241m=\u001b[39m\u001b[38;5;28mself\u001b[39m\u001b[38;5;241m.\u001b[39mfunction_spec,\n\u001b[1;32m   3143\u001b[0m     \u001b[38;5;66;03m# Tell the ConcreteFunction to clean up its graph once it goes out of\u001b[39;00m\n\u001b[1;32m   3144\u001b[0m     \u001b[38;5;66;03m# scope. This is not the default behavior since it gets used in some\u001b[39;00m\n\u001b[1;32m   3145\u001b[0m     \u001b[38;5;66;03m# places (like Keras) where the FuncGraph lives longer than the\u001b[39;00m\n\u001b[1;32m   3146\u001b[0m     \u001b[38;5;66;03m# ConcreteFunction.\u001b[39;00m\n\u001b[1;32m   3147\u001b[0m     shared_func_graph\u001b[38;5;241m=\u001b[39m\u001b[38;5;28;01mFalse\u001b[39;00m)\n\u001b[1;32m   3148\u001b[0m \u001b[38;5;28;01mreturn\u001b[39;00m graph_function\n",
      "File \u001b[0;32m~/Wks/AMFtrack/venv/lib/python3.8/site-packages/tensorflow/python/framework/func_graph.py:1161\u001b[0m, in \u001b[0;36mfunc_graph_from_py_func\u001b[0;34m(name, python_func, args, kwargs, signature, func_graph, autograph, autograph_options, add_control_dependencies, arg_names, op_return_value, collections, capture_by_value, override_flat_arg_shapes, acd_record_initial_resource_uses)\u001b[0m\n\u001b[1;32m   1158\u001b[0m \u001b[38;5;28;01melse\u001b[39;00m:\n\u001b[1;32m   1159\u001b[0m   _, original_func \u001b[38;5;241m=\u001b[39m tf_decorator\u001b[38;5;241m.\u001b[39munwrap(python_func)\n\u001b[0;32m-> 1161\u001b[0m func_outputs \u001b[38;5;241m=\u001b[39m \u001b[43mpython_func\u001b[49m\u001b[43m(\u001b[49m\u001b[38;5;241;43m*\u001b[39;49m\u001b[43mfunc_args\u001b[49m\u001b[43m,\u001b[49m\u001b[43m \u001b[49m\u001b[38;5;241;43m*\u001b[39;49m\u001b[38;5;241;43m*\u001b[39;49m\u001b[43mfunc_kwargs\u001b[49m\u001b[43m)\u001b[49m\n\u001b[1;32m   1163\u001b[0m \u001b[38;5;66;03m# invariant: `func_outputs` contains only Tensors, CompositeTensors,\u001b[39;00m\n\u001b[1;32m   1164\u001b[0m \u001b[38;5;66;03m# TensorArrays and `None`s.\u001b[39;00m\n\u001b[1;32m   1165\u001b[0m func_outputs \u001b[38;5;241m=\u001b[39m nest\u001b[38;5;241m.\u001b[39mmap_structure(convert, func_outputs,\n\u001b[1;32m   1166\u001b[0m                                   expand_composites\u001b[38;5;241m=\u001b[39m\u001b[38;5;28;01mTrue\u001b[39;00m)\n",
      "File \u001b[0;32m~/Wks/AMFtrack/venv/lib/python3.8/site-packages/tensorflow/python/data/ops/structured_function.py:248\u001b[0m, in \u001b[0;36mStructuredFunctionWrapper.__init__.<locals>.trace_tf_function.<locals>.wrapped_fn\u001b[0;34m(*args)\u001b[0m\n\u001b[1;32m    242\u001b[0m \u001b[38;5;129m@eager_function\u001b[39m\u001b[38;5;241m.\u001b[39mdefun_with_attributes(\n\u001b[1;32m    243\u001b[0m     input_signature\u001b[38;5;241m=\u001b[39mstructure\u001b[38;5;241m.\u001b[39mget_flat_tensor_specs(\n\u001b[1;32m    244\u001b[0m         \u001b[38;5;28mself\u001b[39m\u001b[38;5;241m.\u001b[39m_input_structure),\n\u001b[1;32m    245\u001b[0m     autograph\u001b[38;5;241m=\u001b[39m\u001b[38;5;28;01mFalse\u001b[39;00m,\n\u001b[1;32m    246\u001b[0m     attributes\u001b[38;5;241m=\u001b[39mdefun_kwargs)\n\u001b[1;32m    247\u001b[0m \u001b[38;5;28;01mdef\u001b[39;00m \u001b[38;5;21mwrapped_fn\u001b[39m(\u001b[38;5;241m*\u001b[39margs):  \u001b[38;5;66;03m# pylint: disable=missing-docstring\u001b[39;00m\n\u001b[0;32m--> 248\u001b[0m   ret \u001b[38;5;241m=\u001b[39m \u001b[43mwrapper_helper\u001b[49m\u001b[43m(\u001b[49m\u001b[38;5;241;43m*\u001b[39;49m\u001b[43margs\u001b[49m\u001b[43m)\u001b[49m\n\u001b[1;32m    249\u001b[0m   ret \u001b[38;5;241m=\u001b[39m structure\u001b[38;5;241m.\u001b[39mto_tensor_list(\u001b[38;5;28mself\u001b[39m\u001b[38;5;241m.\u001b[39m_output_structure, ret)\n\u001b[1;32m    250\u001b[0m   \u001b[38;5;28;01mreturn\u001b[39;00m [ops\u001b[38;5;241m.\u001b[39mconvert_to_tensor(t) \u001b[38;5;28;01mfor\u001b[39;00m t \u001b[38;5;129;01min\u001b[39;00m ret]\n",
      "File \u001b[0;32m~/Wks/AMFtrack/venv/lib/python3.8/site-packages/tensorflow/python/data/ops/structured_function.py:177\u001b[0m, in \u001b[0;36mStructuredFunctionWrapper.__init__.<locals>.wrapper_helper\u001b[0;34m(*args)\u001b[0m\n\u001b[1;32m    175\u001b[0m \u001b[38;5;28;01mif\u001b[39;00m \u001b[38;5;129;01mnot\u001b[39;00m _should_unpack(nested_args):\n\u001b[1;32m    176\u001b[0m   nested_args \u001b[38;5;241m=\u001b[39m (nested_args,)\n\u001b[0;32m--> 177\u001b[0m ret \u001b[38;5;241m=\u001b[39m \u001b[43mautograph\u001b[49m\u001b[38;5;241;43m.\u001b[39;49m\u001b[43mtf_convert\u001b[49m\u001b[43m(\u001b[49m\u001b[38;5;28;43mself\u001b[39;49m\u001b[38;5;241;43m.\u001b[39;49m\u001b[43m_func\u001b[49m\u001b[43m,\u001b[49m\u001b[43m \u001b[49m\u001b[43mag_ctx\u001b[49m\u001b[43m)\u001b[49m\u001b[43m(\u001b[49m\u001b[38;5;241;43m*\u001b[39;49m\u001b[43mnested_args\u001b[49m\u001b[43m)\u001b[49m\n\u001b[1;32m    178\u001b[0m \u001b[38;5;28;01mif\u001b[39;00m _should_pack(ret):\n\u001b[1;32m    179\u001b[0m   ret \u001b[38;5;241m=\u001b[39m \u001b[38;5;28mtuple\u001b[39m(ret)\n",
      "File \u001b[0;32m~/Wks/AMFtrack/venv/lib/python3.8/site-packages/tensorflow/python/autograph/impl/api.py:689\u001b[0m, in \u001b[0;36mconvert.<locals>.decorator.<locals>.wrapper\u001b[0;34m(*args, **kwargs)\u001b[0m\n\u001b[1;32m    687\u001b[0m \u001b[38;5;28;01mtry\u001b[39;00m:\n\u001b[1;32m    688\u001b[0m   \u001b[38;5;28;01mwith\u001b[39;00m conversion_ctx:\n\u001b[0;32m--> 689\u001b[0m     \u001b[38;5;28;01mreturn\u001b[39;00m \u001b[43mconverted_call\u001b[49m\u001b[43m(\u001b[49m\u001b[43mf\u001b[49m\u001b[43m,\u001b[49m\u001b[43m \u001b[49m\u001b[43margs\u001b[49m\u001b[43m,\u001b[49m\u001b[43m \u001b[49m\u001b[43mkwargs\u001b[49m\u001b[43m,\u001b[49m\u001b[43m \u001b[49m\u001b[43moptions\u001b[49m\u001b[38;5;241;43m=\u001b[39;49m\u001b[43moptions\u001b[49m\u001b[43m)\u001b[49m\n\u001b[1;32m    690\u001b[0m \u001b[38;5;28;01mexcept\u001b[39;00m \u001b[38;5;167;01mException\u001b[39;00m \u001b[38;5;28;01mas\u001b[39;00m e:  \u001b[38;5;66;03m# pylint:disable=broad-except\u001b[39;00m\n\u001b[1;32m    691\u001b[0m   \u001b[38;5;28;01mif\u001b[39;00m \u001b[38;5;28mhasattr\u001b[39m(e, \u001b[38;5;124m'\u001b[39m\u001b[38;5;124mag_error_metadata\u001b[39m\u001b[38;5;124m'\u001b[39m):\n",
      "File \u001b[0;32m~/Wks/AMFtrack/venv/lib/python3.8/site-packages/tensorflow/python/autograph/impl/api.py:377\u001b[0m, in \u001b[0;36mconverted_call\u001b[0;34m(f, args, kwargs, caller_fn_scope, options)\u001b[0m\n\u001b[1;32m    374\u001b[0m   \u001b[38;5;28;01mreturn\u001b[39;00m _call_unconverted(f, args, kwargs, options)\n\u001b[1;32m    376\u001b[0m \u001b[38;5;28;01mif\u001b[39;00m \u001b[38;5;129;01mnot\u001b[39;00m options\u001b[38;5;241m.\u001b[39muser_requested \u001b[38;5;129;01mand\u001b[39;00m conversion\u001b[38;5;241m.\u001b[39mis_allowlisted(f):\n\u001b[0;32m--> 377\u001b[0m   \u001b[38;5;28;01mreturn\u001b[39;00m \u001b[43m_call_unconverted\u001b[49m\u001b[43m(\u001b[49m\u001b[43mf\u001b[49m\u001b[43m,\u001b[49m\u001b[43m \u001b[49m\u001b[43margs\u001b[49m\u001b[43m,\u001b[49m\u001b[43m \u001b[49m\u001b[43mkwargs\u001b[49m\u001b[43m,\u001b[49m\u001b[43m \u001b[49m\u001b[43moptions\u001b[49m\u001b[43m)\u001b[49m\n\u001b[1;32m    379\u001b[0m \u001b[38;5;66;03m# internal_convert_user_code is for example turned off when issuing a dynamic\u001b[39;00m\n\u001b[1;32m    380\u001b[0m \u001b[38;5;66;03m# call conversion from generated code while in nonrecursive mode. In that\u001b[39;00m\n\u001b[1;32m    381\u001b[0m \u001b[38;5;66;03m# case we evidently don't want to recurse, but we still have to convert\u001b[39;00m\n\u001b[1;32m    382\u001b[0m \u001b[38;5;66;03m# things like builtins.\u001b[39;00m\n\u001b[1;32m    383\u001b[0m \u001b[38;5;28;01mif\u001b[39;00m \u001b[38;5;129;01mnot\u001b[39;00m options\u001b[38;5;241m.\u001b[39minternal_convert_user_code:\n",
      "File \u001b[0;32m~/Wks/AMFtrack/venv/lib/python3.8/site-packages/tensorflow/python/autograph/impl/api.py:458\u001b[0m, in \u001b[0;36m_call_unconverted\u001b[0;34m(f, args, kwargs, options, update_cache)\u001b[0m\n\u001b[1;32m    455\u001b[0m   \u001b[38;5;28;01mreturn\u001b[39;00m f\u001b[38;5;241m.\u001b[39m\u001b[38;5;18m__self__\u001b[39m\u001b[38;5;241m.\u001b[39mcall(args, kwargs)\n\u001b[1;32m    457\u001b[0m \u001b[38;5;28;01mif\u001b[39;00m kwargs \u001b[38;5;129;01mis\u001b[39;00m \u001b[38;5;129;01mnot\u001b[39;00m \u001b[38;5;28;01mNone\u001b[39;00m:\n\u001b[0;32m--> 458\u001b[0m   \u001b[38;5;28;01mreturn\u001b[39;00m \u001b[43mf\u001b[49m\u001b[43m(\u001b[49m\u001b[38;5;241;43m*\u001b[39;49m\u001b[43margs\u001b[49m\u001b[43m,\u001b[49m\u001b[43m \u001b[49m\u001b[38;5;241;43m*\u001b[39;49m\u001b[38;5;241;43m*\u001b[39;49m\u001b[43mkwargs\u001b[49m\u001b[43m)\u001b[49m\n\u001b[1;32m    459\u001b[0m \u001b[38;5;28;01mreturn\u001b[39;00m f(\u001b[38;5;241m*\u001b[39margs)\n",
      "File \u001b[0;32m~/Wks/AMFtrack/venv/lib/python3.8/site-packages/keras/utils/traceback_utils.py:67\u001b[0m, in \u001b[0;36mfilter_traceback.<locals>.error_handler\u001b[0;34m(*args, **kwargs)\u001b[0m\n\u001b[1;32m     65\u001b[0m \u001b[38;5;28;01mexcept\u001b[39;00m \u001b[38;5;167;01mException\u001b[39;00m \u001b[38;5;28;01mas\u001b[39;00m e:  \u001b[38;5;66;03m# pylint: disable=broad-except\u001b[39;00m\n\u001b[1;32m     66\u001b[0m   filtered_tb \u001b[38;5;241m=\u001b[39m _process_traceback_frames(e\u001b[38;5;241m.\u001b[39m__traceback__)\n\u001b[0;32m---> 67\u001b[0m   \u001b[38;5;28;01mraise\u001b[39;00m e\u001b[38;5;241m.\u001b[39mwith_traceback(filtered_tb) \u001b[38;5;28;01mfrom\u001b[39;00m \u001b[38;5;28mNone\u001b[39m\n\u001b[1;32m     68\u001b[0m \u001b[38;5;28;01mfinally\u001b[39;00m:\n\u001b[1;32m     69\u001b[0m   \u001b[38;5;28;01mdel\u001b[39;00m filtered_tb\n",
      "File \u001b[0;32m~/Wks/AMFtrack/amftrack/ml/width/data_augmentation.py:80\u001b[0m, in \u001b[0;36mrandom_crop.<locals>.<lambda>\u001b[0;34m(x)\u001b[0m\n\u001b[1;32m     77\u001b[0m \u001b[38;5;28;01mdef\u001b[39;00m \u001b[38;5;21mrandom_crop\u001b[39m(original_size\u001b[38;5;241m=\u001b[39m\u001b[38;5;241m120\u001b[39m, input_size\u001b[38;5;241m=\u001b[39m\u001b[38;5;241m80\u001b[39m, offset\u001b[38;5;241m=\u001b[39m\u001b[38;5;241m0\u001b[39m):\n\u001b[1;32m     78\u001b[0m     \u001b[38;5;124m\"\u001b[39m\u001b[38;5;124mWrapper function to generate a random croping layer\u001b[39m\u001b[38;5;124m\"\u001b[39m\n\u001b[1;32m     79\u001b[0m     \u001b[38;5;28;01mreturn\u001b[39;00m tf\u001b[38;5;241m.\u001b[39mkeras\u001b[38;5;241m.\u001b[39mlayers\u001b[38;5;241m.\u001b[39mLambda(\n\u001b[0;32m---> 80\u001b[0m         \u001b[38;5;28;01mlambda\u001b[39;00m x: \u001b[43mrandom_crop_slice\u001b[49m\u001b[43m(\u001b[49m\u001b[43mx\u001b[49m\u001b[43m,\u001b[49m\u001b[43m \u001b[49m\u001b[43moriginal_size\u001b[49m\u001b[43m,\u001b[49m\u001b[43m \u001b[49m\u001b[43minput_size\u001b[49m\u001b[43m,\u001b[49m\u001b[43m \u001b[49m\u001b[43moffset\u001b[49m\u001b[43m)\u001b[49m,\n\u001b[1;32m     81\u001b[0m         name\u001b[38;5;241m=\u001b[39m\u001b[38;5;124mf\u001b[39m\u001b[38;5;124m\"\u001b[39m\u001b[38;5;124mrandom_crop_with_offset_\u001b[39m\u001b[38;5;132;01m{\u001b[39;00moffset\u001b[38;5;132;01m}\u001b[39;00m\u001b[38;5;124m\"\u001b[39m,\n\u001b[1;32m     82\u001b[0m     )\n",
      "\u001b[0;31mValueError\u001b[0m: Exception encountered when calling layer \"random_crop_with_offset_0\" (type Lambda).\n\nin user code:\n\n    File \"/home/felix/Wks/AMFtrack/amftrack/ml/width/data_augmentation.py\", line 74, in random_crop_slice  *\n        return x[..., start_index : start_index + input_size, :]\n\n    ValueError: Index out of range using input dim 1; input has only 1 dims for '{{node strided_slice}} = StridedSlice[Index=DT_INT64, T=DT_FLOAT, begin_mask=4, ellipsis_mask=1, end_mask=4, new_axis_mask=0, shrink_axis_mask=0](x, strided_slice/stack, strided_slice/stack_1, strided_slice/Cast)' with input shapes: [120], [3], [3], [3] and with computed input tensors: input[3] = <1 1 1>.\n\n\nCall arguments received:\n  • inputs=tf.Tensor(shape=(120,), dtype=float32)\n  • mask=None\n  • training=False"
     ]
    }
   ],
   "source": [
    "train_dataset = (\n",
    "        train_dataset.map(data_augmentation)\n",
    "        .unbatch()\n",
    "        .batch(BATCHSIZE)\n",
    "        .prefetch(tf.data.AUTOTUNE)\n",
    "    )"
   ]
  }
 ],
 "metadata": {
  "kernelspec": {
   "display_name": "Python 3 (ipykernel)",
   "language": "python",
   "name": "python3"
  },
  "language_info": {
   "codemirror_mode": {
    "name": "ipython",
    "version": 3
   },
   "file_extension": ".py",
   "mimetype": "text/x-python",
   "name": "python",
   "nbconvert_exporter": "python",
   "pygments_lexer": "ipython3",
   "version": "3.8.10"
  }
 },
 "nbformat": 4,
 "nbformat_minor": 5
}

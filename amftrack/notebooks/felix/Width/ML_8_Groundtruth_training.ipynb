{
 "cells": [
  {
   "cell_type": "markdown",
   "id": "2a88eb95",
   "metadata": {},
   "source": [
    "# Hyperparameter tuning"
   ]
  },
  {
   "cell_type": "code",
   "execution_count": 1,
   "id": "46b5b487",
   "metadata": {},
   "outputs": [
    {
     "data": {
      "application/javascript": [
       "$('<div id=\"toc\"></div>').css({position: 'fixed', top: '120px', left: 0}).appendTo(document.body);\n",
       "$.getScript('https://kmahelona.github.io/ipython_notebook_goodies/ipython_notebook_toc.js');\n"
      ],
      "text/plain": [
       "<IPython.core.display.Javascript object>"
      ]
     },
     "metadata": {},
     "output_type": "display_data"
    }
   ],
   "source": [
    "%%javascript\n",
    "$('<div id=\"toc\"></div>').css({position: 'fixed', top: '120px', left: 0}).appendTo(document.body);\n",
    "$.getScript('https://kmahelona.github.io/ipython_notebook_goodies/ipython_notebook_toc.js');"
   ]
  },
  {
   "cell_type": "markdown",
   "id": "ffa80930",
   "metadata": {},
   "source": [
    "## Presentation"
   ]
  },
  {
   "cell_type": "markdown",
   "id": "90444c84",
   "metadata": {},
   "source": [
    "Step 1: random search over a lot of models and parameters\n",
    "\n",
    "Step 2: bayesian search\n",
    "\n",
    "Step 3: evaluate best models with cross validation\n",
    "\n",
    "For the seed, we always take the same seed: 100"
   ]
  },
  {
   "cell_type": "markdown",
   "id": "870525d5",
   "metadata": {},
   "source": [
    "## Setup"
   ]
  },
  {
   "cell_type": "code",
   "execution_count": 2,
   "id": "060f5678",
   "metadata": {},
   "outputs": [
    {
     "name": "stderr",
     "output_type": "stream",
     "text": [
      "2022-08-12 14:10:26.926611: W tensorflow/stream_executor/platform/default/dso_loader.cc:64] Could not load dynamic library 'libcudart.so.11.0'; dlerror: libcudart.so.11.0: cannot open shared object file: No such file or directory\n",
      "2022-08-12 14:10:26.926628: I tensorflow/stream_executor/cuda/cudart_stub.cc:29] Ignore above cudart dlerror if you do not have a GPU set up on your machine.\n",
      "2022-08-12 14:10:46.589491: W tensorflow/stream_executor/platform/default/dso_loader.cc:64] Could not load dynamic library 'libcuda.so.1'; dlerror: libcuda.so.1: cannot open shared object file: No such file or directory; LD_LIBRARY_PATH: /home/ipausers/kahane/.local/lib/python3.8/site-packages/cv2/../../lib64:\n",
      "2022-08-12 14:10:46.589512: W tensorflow/stream_executor/cuda/cuda_driver.cc:269] failed call to cuInit: UNKNOWN ERROR (303)\n",
      "2022-08-12 14:10:46.589527: I tensorflow/stream_executor/cuda/cuda_diagnostics.cc:156] kernel driver does not appear to be running on this host (morricone.ipa.amolf.nl): /proc/driver/nvidia/version does not exist\n",
      "2022-08-12 14:10:46.589681: I tensorflow/core/platform/cpu_feature_guard.cc:151] This TensorFlow binary is optimized with oneAPI Deep Neural Network Library (oneDNN) to use the following CPU instructions in performance-critical operations:  AVX2 FMA\n",
      "To enable them in other operations, rebuild TensorFlow with the appropriate compiler flags.\n"
     ]
    }
   ],
   "source": [
    "import numpy as np\n",
    "import matplotlib.pyplot as plt\n",
    "import os\n",
    "import random\n",
    "import imageio\n",
    "\n",
    "from sklearn.model_selection import KFold\n",
    "\n",
    "import tensorflow as tf\n",
    "from tensorflow import keras\n",
    "from tensorflow.keras import regularizers\n",
    "import keras_tuner as kt\n",
    "import tensorflow_datasets as tfds\n",
    "\n",
    "from amftrack.ml.width.models import hyper_model_builder_simple, build_model_dense, build_model_conv\n",
    "from amftrack.util.sys import storage_path\n",
    "from amftrack.ml.width.data_augmentation import data_augmentation"
   ]
  },
  {
   "cell_type": "markdown",
   "id": "485285ad",
   "metadata": {},
   "source": [
    "### Fetch data"
   ]
  },
  {
   "cell_type": "code",
   "execution_count": 6,
   "id": "7e5d9e3c",
   "metadata": {},
   "outputs": [],
   "source": [
    "path = os.path.join(storage_path, \"train_final\")\n",
    "im_path = os.path.join(path, \"slices.png\")\n",
    "label_path = os.path.join(path, \"labels.npy\")"
   ]
  },
  {
   "cell_type": "code",
   "execution_count": 7,
   "id": "cab14b2e",
   "metadata": {},
   "outputs": [
    {
     "name": "stdout",
     "output_type": "stream",
     "text": [
      "(1512, 120)\n"
     ]
    }
   ],
   "source": [
    "im = imageio.imread(im_path)\n",
    "print(im.shape)"
   ]
  },
  {
   "cell_type": "code",
   "execution_count": 8,
   "id": "8c26d17c",
   "metadata": {},
   "outputs": [
    {
     "name": "stdout",
     "output_type": "stream",
     "text": [
      "(1512,)\n"
     ]
    }
   ],
   "source": [
    "with open(label_path, 'rb') as f:\n",
    "    label = np.load(f)\n",
    "print(label.shape)"
   ]
  },
  {
   "cell_type": "code",
   "execution_count": 9,
   "id": "c568feb6",
   "metadata": {},
   "outputs": [],
   "source": [
    "label = np.expand_dims(label, axis = 1)"
   ]
  },
  {
   "cell_type": "code",
   "execution_count": 10,
   "id": "9d530f01",
   "metadata": {},
   "outputs": [
    {
     "data": {
      "text/plain": [
       "(1512, 1)"
      ]
     },
     "execution_count": 10,
     "metadata": {},
     "output_type": "execute_result"
    }
   ],
   "source": [
    "label.shape"
   ]
  },
  {
   "cell_type": "markdown",
   "id": "5b4d5dd1",
   "metadata": {},
   "source": [
    "### Data preparation"
   ]
  },
  {
   "cell_type": "code",
   "execution_count": 11,
   "id": "da73812c",
   "metadata": {},
   "outputs": [],
   "source": [
    "seed = 11"
   ]
  },
  {
   "cell_type": "code",
   "execution_count": 12,
   "id": "f63dcead",
   "metadata": {},
   "outputs": [],
   "source": [
    "np.random.seed(11)"
   ]
  },
  {
   "cell_type": "code",
   "execution_count": 13,
   "id": "e406ed5e",
   "metadata": {
    "scrolled": true
   },
   "outputs": [],
   "source": [
    "p = np.random.permutation(224)"
   ]
  },
  {
   "cell_type": "code",
   "execution_count": 14,
   "id": "0f67c50d",
   "metadata": {},
   "outputs": [
    {
     "name": "stdout",
     "output_type": "stream",
     "text": [
      "150\n",
      "74\n"
     ]
    }
   ],
   "source": [
    "training = p[:150]\n",
    "test = p[150:]\n",
    "print(len(training))\n",
    "print(len(test))"
   ]
  },
  {
   "cell_type": "code",
   "execution_count": 15,
   "id": "f2101f09",
   "metadata": {},
   "outputs": [],
   "source": [
    "train_feature = im[training, :]\n",
    "train_label = label[training,0]\n",
    "test_feature = im[test, :]\n",
    "test_label = label[test, :]"
   ]
  },
  {
   "cell_type": "code",
   "execution_count": 16,
   "id": "aeb87d01",
   "metadata": {},
   "outputs": [
    {
     "data": {
      "text/plain": [
       "(74, 120)"
      ]
     },
     "execution_count": 16,
     "metadata": {},
     "output_type": "execute_result"
    }
   ],
   "source": [
    "test_feature.shape"
   ]
  },
  {
   "cell_type": "markdown",
   "id": "b26c2475",
   "metadata": {},
   "source": [
    "## Visualisation"
   ]
  },
  {
   "cell_type": "code",
   "execution_count": 17,
   "id": "5a8a0447",
   "metadata": {},
   "outputs": [],
   "source": [
    "i = 68"
   ]
  },
  {
   "cell_type": "code",
   "execution_count": 18,
   "id": "197fd5be",
   "metadata": {
    "scrolled": true
   },
   "outputs": [
    {
     "data": {
      "text/plain": [
       "[<matplotlib.lines.Line2D at 0x7f75c47f7940>]"
      ]
     },
     "execution_count": 18,
     "metadata": {},
     "output_type": "execute_result"
    },
    {
     "data": {
      "image/png": "[encoded data removed]",
      "text/plain": [
       "<Figure size 432x288 with 1 Axes>"
      ]
     },
     "metadata": {
      "needs_background": "light"
     },
     "output_type": "display_data"
    }
   ],
   "source": [
    "plt.plot(im[i,:])"
   ]
  },
  {
   "cell_type": "code",
   "execution_count": 19,
   "id": "a27e66af",
   "metadata": {},
   "outputs": [
    {
     "data": {
      "text/plain": [
       "array([5.39951104])"
      ]
     },
     "execution_count": 19,
     "metadata": {},
     "output_type": "execute_result"
    }
   ],
   "source": [
    "label[i,:]"
   ]
  },
  {
   "cell_type": "code",
   "execution_count": 20,
   "id": "16f37136",
   "metadata": {},
   "outputs": [
    {
     "data": {
      "text/plain": [
       "array([5.39951104])"
      ]
     },
     "execution_count": 20,
     "metadata": {},
     "output_type": "execute_result"
    }
   ],
   "source": [
    "label[i,:]"
   ]
  },
  {
   "cell_type": "markdown",
   "id": "3b62d96f",
   "metadata": {},
   "source": [
    "## Random search with dense model"
   ]
  },
  {
   "cell_type": "markdown",
   "id": "4e30a315",
   "metadata": {},
   "source": [
    "### Training"
   ]
  },
  {
   "cell_type": "code",
   "execution_count": 21,
   "id": "3a80fc8e",
   "metadata": {},
   "outputs": [],
   "source": [
    "from amftrack.ml.width.data_augmentation import data_preparation"
   ]
  },
  {
   "cell_type": "code",
   "execution_count": 22,
   "id": "ff749531",
   "metadata": {},
   "outputs": [
    {
     "data": {
      "text/plain": [
       "(150, 120)"
      ]
     },
     "execution_count": 22,
     "metadata": {},
     "output_type": "execute_result"
    }
   ],
   "source": [
    "train_feature.shape"
   ]
  },
  {
   "cell_type": "code",
   "execution_count": 151,
   "id": "9e486f2d",
   "metadata": {},
   "outputs": [
    {
     "data": {
      "text/plain": [
       "TensorShape([150, 80, 1])"
      ]
     },
     "execution_count": 151,
     "metadata": {},
     "output_type": "execute_result"
    }
   ],
   "source": [
    "data_preparation(train_feature).shape"
   ]
  },
  {
   "cell_type": "code",
   "execution_count": 13,
   "id": "99c9f9fa",
   "metadata": {},
   "outputs": [],
   "source": [
    "tuner = kt.RandomSearch(\n",
    "    build_model_dense,\n",
    "    objective='val_mean_absolute_error',\n",
    "    max_trials=50,\n",
    "    seed=seed,\n",
    "    hyperparameters=None,\n",
    "    tune_new_entries=True,\n",
    "    allow_new_entries=True,\n",
    "    overwrite=True\n",
    ")"
   ]
  },
  {
   "cell_type": "raw",
   "id": "af021cb6",
   "metadata": {},
   "source": [
    "tuner.search(train_ds,\n",
    "             validation_data=test_ds,\n",
    "             epochs=30,\n",
    "             callbacks=[tf.keras.callbacks.EarlyStopping(patience=5)])"
   ]
  },
  {
   "cell_type": "code",
   "execution_count": 20,
   "id": "7bc88911",
   "metadata": {},
   "outputs": [
    {
     "name": "stdout",
     "output_type": "stream",
     "text": [
      "Trial 50 Complete [00h 00m 06s]\n",
      "val_mean_absolute_error: 0.7195175886154175\n",
      "\n",
      "Best val_mean_absolute_error So Far: 0.658259391784668\n",
      "Total elapsed time: 00h 05m 54s\n",
      "INFO:tensorflow:Oracle triggered exit\n",
      "2022-06-07 16:18:06,772-[INFO]- tensorflow:1 -> Oracle triggered exit\n"
     ]
    }
   ],
   "source": [
    "tuner.search(data_preparation(train_feature),\n",
    "             train_label,\n",
    "             validation_split=0.2,\n",
    "             epochs=100,\n",
    "             callbacks=[tf.keras.callbacks.EarlyStopping(patience=8)])"
   ]
  },
  {
   "cell_type": "markdown",
   "id": "3bafe37f",
   "metadata": {},
   "source": [
    "### Analyse results: run 2"
   ]
  },
  {
   "cell_type": "markdown",
   "id": "a2734bd6",
   "metadata": {},
   "source": [
    "#### Results"
   ]
  },
  {
   "cell_type": "code",
   "execution_count": 43,
   "id": "96694849",
   "metadata": {},
   "outputs": [],
   "source": [
    "best_model = tuner.get_best_models(1)[0]"
   ]
  },
  {
   "cell_type": "code",
   "execution_count": 27,
   "id": "18f92423",
   "metadata": {},
   "outputs": [],
   "source": [
    "best_hyperparameters = tuner.get_best_hyperparameters(1)[0]"
   ]
  },
  {
   "cell_type": "code",
   "execution_count": 28,
   "id": "675ac323",
   "metadata": {},
   "outputs": [
    {
     "name": "stdout",
     "output_type": "stream",
     "text": [
      "Model: \"model\"\n",
      "_________________________________________________________________\n",
      " Layer (type)                Output Shape              Param #   \n",
      "=================================================================\n",
      " input_1 (InputLayer)        [(None, 80, 1)]           0         \n",
      "                                                                 \n",
      " reshape (Reshape)           (None, 80)                0         \n",
      "                                                                 \n",
      " rescaling (Rescaling)       (None, 80)                0         \n",
      "                                                                 \n",
      " dense (Dense)               (None, 74)                5994      \n",
      "                                                                 \n",
      " dropout (Dropout)           (None, 74)                0         \n",
      "                                                                 \n",
      " dense_1 (Dense)             (None, 74)                5550      \n",
      "                                                                 \n",
      " dropout_1 (Dropout)         (None, 74)                0         \n",
      "                                                                 \n",
      " dense_2 (Dense)             (None, 74)                5550      \n",
      "                                                                 \n",
      " dropout_2 (Dropout)         (None, 74)                0         \n",
      "                                                                 \n",
      " dense_3 (Dense)             (None, 74)                5550      \n",
      "                                                                 \n",
      " dropout_3 (Dropout)         (None, 74)                0         \n",
      "                                                                 \n",
      " dense_4 (Dense)             (None, 1)                 75        \n",
      "                                                                 \n",
      "=================================================================\n",
      "Total params: 22,719\n",
      "Trainable params: 22,719\n",
      "Non-trainable params: 0\n",
      "_________________________________________________________________\n"
     ]
    }
   ],
   "source": [
    "best_model.summary()"
   ]
  },
  {
   "cell_type": "code",
   "execution_count": 29,
   "id": "00be1ffa",
   "metadata": {
    "scrolled": true
   },
   "outputs": [
    {
     "name": "stdout",
     "output_type": "stream",
     "text": [
      "Results summary\n",
      "Results in ./untitled_project\n",
      "Showing 10 best trials\n",
      "<keras_tuner.engine.objective.Objective object at 0x7f11143a7df0>\n",
      "Trial summary\n",
      "Hyperparameters:\n",
      "input_size: 80\n",
      "hidden_size: 74\n",
      "regul: 0.0014215854798312684\n",
      "dense_blocks: 4\n",
      "dropout: 0.0\n",
      "learning_rate: 0.0009024056738718249\n",
      "Score: 0.658259391784668\n",
      "Trial summary\n",
      "Hyperparameters:\n",
      "input_size: 80\n",
      "hidden_size: 74\n",
      "regul: 2.2980497006447554e-05\n",
      "dense_blocks: 10\n",
      "dropout: 0.0\n",
      "learning_rate: 0.002103917275801273\n",
      "Score: 0.7131851315498352\n",
      "Trial summary\n",
      "Hyperparameters:\n",
      "input_size: 80\n",
      "hidden_size: 42\n",
      "regul: 0.0035557261842639634\n",
      "dense_blocks: 3\n",
      "dropout: 0.0\n",
      "learning_rate: 0.0016003804865801434\n",
      "Score: 0.7195175886154175\n",
      "Trial summary\n",
      "Hyperparameters:\n",
      "input_size: 80\n",
      "hidden_size: 10\n",
      "regul: 0.00023822269216557592\n",
      "dense_blocks: 1\n",
      "dropout: 0.0\n",
      "learning_rate: 0.011363871072843399\n",
      "Score: 0.7515721917152405\n",
      "Trial summary\n",
      "Hyperparameters:\n",
      "input_size: 80\n",
      "hidden_size: 74\n",
      "regul: 0.00021301425578360573\n",
      "dense_blocks: 2\n",
      "dropout: 0.4\n",
      "learning_rate: 0.0008633835677522632\n",
      "Score: 0.771540105342865\n",
      "Trial summary\n",
      "Hyperparameters:\n",
      "input_size: 80\n",
      "hidden_size: 74\n",
      "regul: 1.1197291634395498e-05\n",
      "dense_blocks: 2\n",
      "dropout: 0.30000000000000004\n",
      "learning_rate: 0.0013053937581869813\n",
      "Score: 0.7827145457267761\n",
      "Trial summary\n",
      "Hyperparameters:\n",
      "input_size: 80\n",
      "hidden_size: 74\n",
      "regul: 0.0005968120420262622\n",
      "dense_blocks: 1\n",
      "dropout: 0.5\n",
      "learning_rate: 0.06229989301913533\n",
      "Score: 0.7960357666015625\n",
      "Trial summary\n",
      "Hyperparameters:\n",
      "input_size: 80\n",
      "hidden_size: 42\n",
      "regul: 0.005345868140133228\n",
      "dense_blocks: 7\n",
      "dropout: 0.1\n",
      "learning_rate: 0.0006830096465894109\n",
      "Score: 0.8087616562843323\n",
      "Trial summary\n",
      "Hyperparameters:\n",
      "input_size: 80\n",
      "hidden_size: 42\n",
      "regul: 0.001817958232424904\n",
      "dense_blocks: 5\n",
      "dropout: 0.1\n",
      "learning_rate: 0.001172556665655592\n",
      "Score: 0.8099672794342041\n",
      "Trial summary\n",
      "Hyperparameters:\n",
      "input_size: 80\n",
      "hidden_size: 42\n",
      "regul: 0.03833623865750072\n",
      "dense_blocks: 8\n",
      "dropout: 0.1\n",
      "learning_rate: 0.0069811837832962605\n",
      "Score: 0.8314694166183472\n"
     ]
    }
   ],
   "source": [
    "tuner.results_summary()"
   ]
  },
  {
   "cell_type": "code",
   "execution_count": 30,
   "id": "7b8a5e5a",
   "metadata": {},
   "outputs": [
    {
     "name": "stdout",
     "output_type": "stream",
     "text": [
      "Search space summary\n",
      "Default search space size: 6\n",
      "input_size (Fixed)\n",
      "{'conditions': [], 'value': 80}\n",
      "hidden_size (Int)\n",
      "{'default': 32, 'conditions': [], 'min_value': 10, 'max_value': 100, 'step': 32, 'sampling': None}\n",
      "regul (Float)\n",
      "{'default': 0.0001, 'conditions': [], 'min_value': 1e-05, 'max_value': 0.1, 'step': None, 'sampling': 'log'}\n",
      "dense_blocks (Int)\n",
      "{'default': 3, 'conditions': [], 'min_value': 1, 'max_value': 10, 'step': 1, 'sampling': None}\n",
      "dropout (Float)\n",
      "{'default': 0.5, 'conditions': [], 'min_value': 0.0, 'max_value': 0.5, 'step': 0.1, 'sampling': None}\n",
      "learning_rate (Float)\n",
      "{'default': 0.001, 'conditions': [], 'min_value': 1e-05, 'max_value': 0.1, 'step': None, 'sampling': 'log'}\n"
     ]
    }
   ],
   "source": [
    "tuner.search_space_summary()"
   ]
  },
  {
   "cell_type": "code",
   "execution_count": 31,
   "id": "1d696ec3",
   "metadata": {},
   "outputs": [],
   "source": [
    "def plot_against(model, test_feature, test_label):\n",
    "    predicted = model.predict(test_feature)\n",
    "    plt.scatter(test_label, predicted, marker='o')\n",
    "    plt.plot([0,12],[0,12])\n",
    "    plt.xlim(2, 16)\n",
    "    plt.ylim(2, 16)"
   ]
  },
  {
   "cell_type": "code",
   "execution_count": 33,
   "id": "4f177b4f",
   "metadata": {
    "scrolled": false
   },
   "outputs": [
    {
     "data": {
      "image/png": "[encoded data removed]",
      "text/plain": [
       "<Figure size 432x288 with 1 Axes>"
      ]
     },
     "metadata": {
      "needs_background": "light"
     },
     "output_type": "display_data"
    }
   ],
   "source": [
    "plot_against(best_model, data_preparation(test_feature), test_label)"
   ]
  },
  {
   "cell_type": "code",
   "execution_count": 38,
   "id": "6c96324b",
   "metadata": {},
   "outputs": [],
   "source": [
    "feature_vector = data_preparation(test_feature)"
   ]
  },
  {
   "cell_type": "code",
   "execution_count": 44,
   "id": "9376db3e",
   "metadata": {},
   "outputs": [
    {
     "name": "stdout",
     "output_type": "stream",
     "text": [
      "3/3 [==============================] - 0s 1ms/step - loss: 3.1173 - mean_absolute_error: 0.9405\n"
     ]
    },
    {
     "data": {
      "text/plain": [
       "[3.117264986038208, 0.940484344959259]"
      ]
     },
     "execution_count": 44,
     "metadata": {},
     "output_type": "execute_result"
    }
   ],
   "source": [
    "best_model.evaluate(feature_vector, test_label)"
   ]
  },
  {
   "cell_type": "code",
   "execution_count": 45,
   "id": "b254111f",
   "metadata": {
    "scrolled": true
   },
   "outputs": [
    {
     "name": "stdout",
     "output_type": "stream",
     "text": [
      "Model: \"model\"\n",
      "_________________________________________________________________\n",
      " Layer (type)                Output Shape              Param #   \n",
      "=================================================================\n",
      " input_1 (InputLayer)        [(None, 80, 1)]           0         \n",
      "                                                                 \n",
      " reshape (Reshape)           (None, 80)                0         \n",
      "                                                                 \n",
      " rescaling (Rescaling)       (None, 80)                0         \n",
      "                                                                 \n",
      " dense (Dense)               (None, 74)                5994      \n",
      "                                                                 \n",
      " dropout (Dropout)           (None, 74)                0         \n",
      "                                                                 \n",
      " dense_1 (Dense)             (None, 74)                5550      \n",
      "                                                                 \n",
      " dropout_1 (Dropout)         (None, 74)                0         \n",
      "                                                                 \n",
      " dense_2 (Dense)             (None, 74)                5550      \n",
      "                                                                 \n",
      " dropout_2 (Dropout)         (None, 74)                0         \n",
      "                                                                 \n",
      " dense_3 (Dense)             (None, 74)                5550      \n",
      "                                                                 \n",
      " dropout_3 (Dropout)         (None, 74)                0         \n",
      "                                                                 \n",
      " dense_4 (Dense)             (None, 1)                 75        \n",
      "                                                                 \n",
      "=================================================================\n",
      "Total params: 22,719\n",
      "Trainable params: 22,719\n",
      "Non-trainable params: 0\n",
      "_________________________________________________________________\n"
     ]
    }
   ],
   "source": [
    "best_model.summary()"
   ]
  },
  {
   "cell_type": "markdown",
   "id": "e2efbe57",
   "metadata": {},
   "source": [
    "#### Evaluate with random crops"
   ]
  },
  {
   "cell_type": "code",
   "execution_count": 143,
   "id": "62667bb0",
   "metadata": {},
   "outputs": [],
   "source": [
    "def random_crop(output_size):\n",
    "    # TODO(FK): add name\n",
    "    # TODO(FK): handle size\n",
    "    size = [74, output_size, 1]\n",
    "    return tf.keras.layers.Lambda(lambda x: tf.image.random_crop(x, size=size))\n",
    "\n",
    "\n",
    "@tf.function\n",
    "def center_crop_slice(x, margin):\n",
    "    return x[..., margin:-margin, :]\n",
    "\n",
    "\n",
    "def center_crop(input_size=120, output_size=80):\n",
    "    return tf.keras.layers.Lambda(\n",
    "        lambda x: center_crop_slice(x, (input_size - output_size) // 2)\n",
    "    )\n",
    "\n",
    "\n",
    "data_augmentation = tf.keras.Sequential(\n",
    "    [\n",
    "        tf.keras.Input(shape=(120, 1)),\n",
    "        random_crop(80),\n",
    "        # random_invert(p=0.5),  # TODO(FK): keep?\n",
    "        #random_mirror(p=0.5),\n",
    "        #random_brightness(10),\n",
    "    ]\n",
    ")"
   ]
  },
  {
   "cell_type": "code",
   "execution_count": 100,
   "id": "90acfae4",
   "metadata": {},
   "outputs": [],
   "source": [
    "from amftrack.ml.width.data_augmentation import *"
   ]
  },
  {
   "cell_type": "raw",
   "id": "bfbb8ffb",
   "metadata": {},
   "source": [
    "data_augmentation = tf.keras.Sequential(\n",
    "    [\n",
    "        tf.keras.Input(shape=(120, 1)),\n",
    "        random_crop(120),\n",
    "        # random_invert(p=0.5),  # TODO(FK): keep?\n",
    "        random_mirror(p=0.5),\n",
    "        random_brightness(20),\n",
    "    ]\n",
    ")"
   ]
  },
  {
   "cell_type": "code",
   "execution_count": 79,
   "id": "8a53a48a",
   "metadata": {},
   "outputs": [],
   "source": [
    "data_augmentation = tf.keras.Sequential(\n",
    "    [\n",
    "        tf.keras.Input(shape=(120, 1)),\n",
    "        random_crop(80),\n",
    "    ]\n",
    ")"
   ]
  },
  {
   "cell_type": "code",
   "execution_count": 132,
   "id": "1ed5fa01",
   "metadata": {
    "scrolled": true
   },
   "outputs": [
    {
     "data": {
      "text/plain": [
       "Array([[199, 198, 197, ..., 203, 204, 207],\n",
       "       [175, 177, 176, ..., 167, 166, 166],\n",
       "       [194, 194, 194, ..., 146, 134, 120],\n",
       "       ...,\n",
       "       [186, 186, 186, ..., 179, 177, 179],\n",
       "       [204, 206, 206, ..., 205, 206, 206],\n",
       "       [188, 189, 188, ..., 174, 177, 179]], dtype=uint8)"
      ]
     },
     "execution_count": 132,
     "metadata": {},
     "output_type": "execute_result"
    }
   ],
   "source": [
    "test_feature"
   ]
  },
  {
   "cell_type": "code",
   "execution_count": 144,
   "id": "d4ae11b9",
   "metadata": {},
   "outputs": [],
   "source": [
    "feature_vector = data_augmentation(test_feature)"
   ]
  },
  {
   "cell_type": "code",
   "execution_count": 145,
   "id": "c74b492f",
   "metadata": {},
   "outputs": [],
   "source": [
    "tf.random.set_seed(12)"
   ]
  },
  {
   "cell_type": "code",
   "execution_count": 146,
   "id": "4a2789df",
   "metadata": {
    "scrolled": false
   },
   "outputs": [
    {
     "data": {
      "text/plain": [
       "<tf.Tensor: shape=(74,), dtype=float32, numpy=\n",
       "array([196., 166., 188., 186., 162., 200., 198., 157., 201., 180., 194.,\n",
       "       188., 184., 189., 183., 180., 165., 155., 202., 171., 171., 203.,\n",
       "       186., 173., 206., 176., 161., 200., 187., 175., 177., 194., 184.,\n",
       "       181., 189., 194., 197., 194., 193., 200., 165., 183., 197., 205.,\n",
       "       191., 155., 167., 168., 182., 178., 185., 192., 198., 158., 196.,\n",
       "       168., 199., 177., 196., 203., 164., 193., 174., 189., 178., 197.,\n",
       "       178., 202., 126., 175., 146., 170., 209., 186.], dtype=float32)>"
      ]
     },
     "execution_count": 146,
     "metadata": {},
     "output_type": "execute_result"
    }
   ],
   "source": [
    "feature_vector[:, 0, 0]"
   ]
  },
  {
   "cell_type": "code",
   "execution_count": 147,
   "id": "e0a635e2",
   "metadata": {},
   "outputs": [
    {
     "data": {
      "text/plain": [
       "<tf.Tensor: shape=(74,), dtype=float32, numpy=\n",
       "array([196., 166., 188., 186., 162., 200., 198., 157., 201., 180., 194.,\n",
       "       188., 184., 189., 183., 180., 165., 155., 202., 171., 171., 203.,\n",
       "       186., 173., 206., 176., 161., 200., 187., 175., 177., 194., 184.,\n",
       "       181., 189., 194., 197., 194., 193., 200., 165., 183., 197., 205.,\n",
       "       191., 155., 167., 168., 182., 178., 185., 192., 198., 158., 196.,\n",
       "       168., 199., 177., 196., 203., 164., 193., 174., 189., 178., 197.,\n",
       "       178., 202., 126., 175., 146., 170., 209., 186.], dtype=float32)>"
      ]
     },
     "execution_count": 147,
     "metadata": {},
     "output_type": "execute_result"
    }
   ],
   "source": [
    "feature_vector[:, 0, 0]"
   ]
  },
  {
   "cell_type": "code",
   "execution_count": 148,
   "id": "2707a279",
   "metadata": {
    "scrolled": false
   },
   "outputs": [
    {
     "name": "stdout",
     "output_type": "stream",
     "text": [
      "3/3 [==============================] - 0s 1ms/step - loss: 5.2993 - mean_absolute_error: 1.2498\n"
     ]
    },
    {
     "data": {
      "text/plain": [
       "[5.299310207366943, 1.2498197555541992]"
      ]
     },
     "execution_count": 148,
     "metadata": {},
     "output_type": "execute_result"
    }
   ],
   "source": [
    "best_model.evaluate(feature_vector, test_label)"
   ]
  },
  {
   "cell_type": "code",
   "execution_count": 149,
   "id": "5bd83327",
   "metadata": {
    "scrolled": false
   },
   "outputs": [
    {
     "data": {
      "image/png": "[encoded data removed]",
      "text/plain": [
       "<Figure size 432x288 with 1 Axes>"
      ]
     },
     "metadata": {
      "needs_background": "light"
     },
     "output_type": "display_data"
    }
   ],
   "source": [
    "plot_against(best_model, feature_vector, test_label)"
   ]
  },
  {
   "cell_type": "markdown",
   "id": "6035dd3a",
   "metadata": {},
   "source": [
    "### Analyse results: run 1"
   ]
  },
  {
   "cell_type": "code",
   "execution_count": 37,
   "id": "f39164b4",
   "metadata": {},
   "outputs": [],
   "source": [
    "best_model = tuner.get_best_models(1)[0]"
   ]
  },
  {
   "cell_type": "code",
   "execution_count": 38,
   "id": "72cf5803",
   "metadata": {},
   "outputs": [],
   "source": [
    "best_hyperparameters = tuner.get_best_hyperparameters(1)[0]"
   ]
  },
  {
   "cell_type": "code",
   "execution_count": 39,
   "id": "99b4c411",
   "metadata": {},
   "outputs": [
    {
     "name": "stdout",
     "output_type": "stream",
     "text": [
      "Model: \"model\"\n",
      "_________________________________________________________________\n",
      " Layer (type)                Output Shape              Param #   \n",
      "=================================================================\n",
      " input_1 (InputLayer)        [(None, 120, 1)]          0         \n",
      "                                                                 \n",
      " reshape (Reshape)           (None, 120)               0         \n",
      "                                                                 \n",
      " rescaling (Rescaling)       (None, 120)               0         \n",
      "                                                                 \n",
      " dense (Dense)               (None, 74)                8954      \n",
      "                                                                 \n",
      " dropout (Dropout)           (None, 74)                0         \n",
      "                                                                 \n",
      " dense_1 (Dense)             (None, 74)                5550      \n",
      "                                                                 \n",
      " dropout_1 (Dropout)         (None, 74)                0         \n",
      "                                                                 \n",
      " dense_2 (Dense)             (None, 74)                5550      \n",
      "                                                                 \n",
      " dropout_2 (Dropout)         (None, 74)                0         \n",
      "                                                                 \n",
      " dense_3 (Dense)             (None, 74)                5550      \n",
      "                                                                 \n",
      " dropout_3 (Dropout)         (None, 74)                0         \n",
      "                                                                 \n",
      " dense_4 (Dense)             (None, 1)                 75        \n",
      "                                                                 \n",
      "=================================================================\n",
      "Total params: 25,679\n",
      "Trainable params: 25,679\n",
      "Non-trainable params: 0\n",
      "_________________________________________________________________\n"
     ]
    }
   ],
   "source": [
    "best_model.summary()"
   ]
  },
  {
   "cell_type": "code",
   "execution_count": 40,
   "id": "bcc76a63",
   "metadata": {
    "scrolled": true
   },
   "outputs": [
    {
     "name": "stdout",
     "output_type": "stream",
     "text": [
      "Results summary\n",
      "Results in ./untitled_project\n",
      "Showing 10 best trials\n",
      "<keras_tuner.engine.objective.Objective object at 0x7f8c58d1d4c0>\n",
      "Trial summary\n",
      "Hyperparameters:\n",
      "input_size: 120\n",
      "hidden_size: 74\n",
      "regul: 0.0014215854798312684\n",
      "dense_blocks: 4\n",
      "dropout: 0.0\n",
      "learning_rate: 0.0009024056738718249\n",
      "Score: 0.6060740947723389\n",
      "Trial summary\n",
      "Hyperparameters:\n",
      "input_size: 120\n",
      "hidden_size: 74\n",
      "regul: 2.2980497006447554e-05\n",
      "dense_blocks: 10\n",
      "dropout: 0.0\n",
      "learning_rate: 0.002103917275801273\n",
      "Score: 0.6174165606498718\n",
      "Trial summary\n",
      "Hyperparameters:\n",
      "input_size: 120\n",
      "hidden_size: 42\n",
      "regul: 0.0035557261842639634\n",
      "dense_blocks: 3\n",
      "dropout: 0.0\n",
      "learning_rate: 0.0016003804865801434\n",
      "Score: 0.6346872448921204\n",
      "Trial summary\n",
      "Hyperparameters:\n",
      "input_size: 120\n",
      "hidden_size: 74\n",
      "regul: 1.1197291634395498e-05\n",
      "dense_blocks: 2\n",
      "dropout: 0.30000000000000004\n",
      "learning_rate: 0.0013053937581869813\n",
      "Score: 0.6696577668190002\n",
      "Trial summary\n",
      "Hyperparameters:\n",
      "input_size: 120\n",
      "hidden_size: 74\n",
      "regul: 0.0005968120420262622\n",
      "dense_blocks: 1\n",
      "dropout: 0.5\n",
      "learning_rate: 0.06229989301913533\n",
      "Score: 0.7698021531105042\n",
      "Trial summary\n",
      "Hyperparameters:\n",
      "input_size: 120\n",
      "hidden_size: 42\n",
      "regul: 0.005345868140133228\n",
      "dense_blocks: 7\n",
      "dropout: 0.1\n",
      "learning_rate: 0.0006830096465894109\n",
      "Score: 0.7981567978858948\n",
      "Trial summary\n",
      "Hyperparameters:\n",
      "input_size: 120\n",
      "hidden_size: 42\n",
      "regul: 0.03833623865750072\n",
      "dense_blocks: 8\n",
      "dropout: 0.1\n",
      "learning_rate: 0.0069811837832962605\n",
      "Score: 0.808732807636261\n",
      "Trial summary\n",
      "Hyperparameters:\n",
      "input_size: 120\n",
      "hidden_size: 42\n",
      "regul: 0.001817958232424904\n",
      "dense_blocks: 5\n",
      "dropout: 0.1\n",
      "learning_rate: 0.001172556665655592\n",
      "Score: 0.8203661441802979\n",
      "Trial summary\n",
      "Hyperparameters:\n",
      "input_size: 120\n",
      "hidden_size: 74\n",
      "regul: 0.024986191484086363\n",
      "dense_blocks: 6\n",
      "dropout: 0.30000000000000004\n",
      "learning_rate: 0.011804223748334806\n",
      "Score: 0.8840033411979675\n",
      "Trial summary\n",
      "Hyperparameters:\n",
      "input_size: 120\n",
      "hidden_size: 74\n",
      "regul: 6.28571702038226e-05\n",
      "dense_blocks: 8\n",
      "dropout: 0.1\n",
      "learning_rate: 0.0003890052906107908\n",
      "Score: 0.8874892592430115\n"
     ]
    }
   ],
   "source": [
    "tuner.results_summary()"
   ]
  },
  {
   "cell_type": "code",
   "execution_count": 41,
   "id": "a3ad742e",
   "metadata": {},
   "outputs": [
    {
     "name": "stdout",
     "output_type": "stream",
     "text": [
      "Search space summary\n",
      "Default search space size: 6\n",
      "input_size (Fixed)\n",
      "{'conditions': [], 'value': 120}\n",
      "hidden_size (Int)\n",
      "{'default': 32, 'conditions': [], 'min_value': 10, 'max_value': 100, 'step': 32, 'sampling': None}\n",
      "regul (Float)\n",
      "{'default': 0.0001, 'conditions': [], 'min_value': 1e-05, 'max_value': 0.1, 'step': None, 'sampling': 'log'}\n",
      "dense_blocks (Int)\n",
      "{'default': 3, 'conditions': [], 'min_value': 1, 'max_value': 10, 'step': 1, 'sampling': None}\n",
      "dropout (Float)\n",
      "{'default': 0.5, 'conditions': [], 'min_value': 0.0, 'max_value': 0.5, 'step': 0.1, 'sampling': None}\n",
      "learning_rate (Float)\n",
      "{'default': 0.001, 'conditions': [], 'min_value': 1e-05, 'max_value': 0.1, 'step': None, 'sampling': 'log'}\n"
     ]
    }
   ],
   "source": [
    "tuner.search_space_summary()"
   ]
  },
  {
   "cell_type": "code",
   "execution_count": 46,
   "id": "de84cf64",
   "metadata": {},
   "outputs": [],
   "source": [
    "def plot_against(model, test_feature, test_label):\n",
    "    predicted = model.predict(test_feature)\n",
    "    plt.scatter(test_label, predicted, marker='o')\n",
    "    plt.plot([0,12],[0,12])\n",
    "    plt.xlim(2, 16)\n",
    "    plt.ylim(2, 16)"
   ]
  },
  {
   "cell_type": "code",
   "execution_count": 47,
   "id": "1c25be78",
   "metadata": {
    "scrolled": false
   },
   "outputs": [
    {
     "data": {
      "image/png": "[encoded data removed]",
      "text/plain": [
       "<Figure size 432x288 with 1 Axes>"
      ]
     },
     "metadata": {
      "needs_background": "light"
     },
     "output_type": "display_data"
    }
   ],
   "source": [
    "plot_against(best_model, test_feature, test_label)"
   ]
  },
  {
   "cell_type": "code",
   "execution_count": 50,
   "id": "96325291",
   "metadata": {},
   "outputs": [
    {
     "name": "stdout",
     "output_type": "stream",
     "text": [
      "3/3 [==============================] - 0s 1ms/step - loss: 3.1182 - mean_absolute_error: 0.8862\n"
     ]
    },
    {
     "data": {
      "text/plain": [
       "[3.118171453475952, 0.8862246870994568]"
      ]
     },
     "execution_count": 50,
     "metadata": {},
     "output_type": "execute_result"
    }
   ],
   "source": [
    "best_model.evaluate(test_feature, test_label)"
   ]
  },
  {
   "cell_type": "code",
   "execution_count": 51,
   "id": "d20752f0",
   "metadata": {
    "scrolled": true
   },
   "outputs": [
    {
     "name": "stdout",
     "output_type": "stream",
     "text": [
      "Model: \"model\"\n",
      "_________________________________________________________________\n",
      " Layer (type)                Output Shape              Param #   \n",
      "=================================================================\n",
      " input_1 (InputLayer)        [(None, 120, 1)]          0         \n",
      "                                                                 \n",
      " reshape (Reshape)           (None, 120)               0         \n",
      "                                                                 \n",
      " rescaling (Rescaling)       (None, 120)               0         \n",
      "                                                                 \n",
      " dense (Dense)               (None, 74)                8954      \n",
      "                                                                 \n",
      " dropout (Dropout)           (None, 74)                0         \n",
      "                                                                 \n",
      " dense_1 (Dense)             (None, 74)                5550      \n",
      "                                                                 \n",
      " dropout_1 (Dropout)         (None, 74)                0         \n",
      "                                                                 \n",
      " dense_2 (Dense)             (None, 74)                5550      \n",
      "                                                                 \n",
      " dropout_2 (Dropout)         (None, 74)                0         \n",
      "                                                                 \n",
      " dense_3 (Dense)             (None, 74)                5550      \n",
      "                                                                 \n",
      " dropout_3 (Dropout)         (None, 74)                0         \n",
      "                                                                 \n",
      " dense_4 (Dense)             (None, 1)                 75        \n",
      "                                                                 \n",
      "=================================================================\n",
      "Total params: 25,679\n",
      "Trainable params: 25,679\n",
      "Non-trainable params: 0\n",
      "_________________________________________________________________\n"
     ]
    }
   ],
   "source": [
    "best_model.summary()"
   ]
  },
  {
   "cell_type": "code",
   "execution_count": 23,
   "id": "8b48a636",
   "metadata": {},
   "outputs": [
    {
     "data": {
      "text/plain": [
       "[<keras.engine.functional.Functional at 0x7fdd2c607ee0>,\n",
       " <keras.engine.functional.Functional at 0x7fdd2c791a90>,\n",
       " <keras.engine.functional.Functional at 0x7fdd2c674a30>,\n",
       " <keras.engine.functional.Functional at 0x7fdd2c7a5ca0>,\n",
       " <keras.engine.functional.Functional at 0x7fdd2c6ae970>]"
      ]
     },
     "execution_count": 23,
     "metadata": {},
     "output_type": "execute_result"
    }
   ],
   "source": [
    "tuner.get_best_models(5)"
   ]
  },
  {
   "cell_type": "markdown",
   "id": "e30e4301",
   "metadata": {},
   "source": [
    "## Random search with conv model"
   ]
  },
  {
   "cell_type": "markdown",
   "id": "35bd2ea9",
   "metadata": {},
   "source": [
    "### Training"
   ]
  },
  {
   "cell_type": "code",
   "execution_count": 23,
   "id": "3d1148ee",
   "metadata": {},
   "outputs": [],
   "source": [
    "tuner = kt.RandomSearch(\n",
    "    build_model_conv,\n",
    "    objective='val_mean_absolute_error',\n",
    "    max_trials=50,\n",
    "    seed=seed,\n",
    "    hyperparameters=None,\n",
    "    tune_new_entries=True,\n",
    "    allow_new_entries=True,\n",
    "    overwrite=True\n",
    ")"
   ]
  },
  {
   "cell_type": "code",
   "execution_count": 25,
   "id": "b8ff0b28",
   "metadata": {},
   "outputs": [
    {
     "name": "stdout",
     "output_type": "stream",
     "text": [
      "Trial 50 Complete [00h 02m 13s]\n",
      "val_mean_absolute_error: 0.8619729280471802\n",
      "\n",
      "Best val_mean_absolute_error So Far: 0.702015221118927\n",
      "Total elapsed time: 01h 30m 12s\n",
      "INFO:tensorflow:Oracle triggered exit\n",
      "2022-08-12 15:44:42,115-[INFO]- tensorflow:1 -> Oracle triggered exit\n"
     ]
    }
   ],
   "source": [
    "tuner.search(data_preparation(im),\n",
    "             label,\n",
    "             validation_split=0.2,\n",
    "             epochs=200,\n",
    "             callbacks=[tf.keras.callbacks.EarlyStopping(patience=8, restore_best_weights = True)])"
   ]
  },
  {
   "cell_type": "markdown",
   "id": "492ab450",
   "metadata": {},
   "source": [
    "### Analyse results"
   ]
  },
  {
   "cell_type": "code",
   "execution_count": 27,
   "id": "c9d257f8",
   "metadata": {
    "scrolled": true
   },
   "outputs": [
    {
     "name": "stdout",
     "output_type": "stream",
     "text": [
      "Results summary\n",
      "Results in ./untitled_project\n",
      "Showing 10 best trials\n",
      "<keras_tuner.engine.objective.Objective object at 0x7f75c4753eb0>\n",
      "Trial summary\n",
      "Hyperparameters:\n",
      "input_size: 80\n",
      "regul: 0.0002707623734125964\n",
      "batch_normalization: True\n",
      "conv_blocks: 3\n",
      "filters_0: 224\n",
      "kernel_size0: 19\n",
      "filters_1: 160\n",
      "kernel_size1: 20\n",
      "pooling_1: avg\n",
      "hidden_size: 10\n",
      "dense_blocks: 3\n",
      "dropout: 0.1\n",
      "learning_rate: 0.020272548846591663\n",
      "pooling_0: avg\n",
      "filters_2: 256\n",
      "kernel_size2: 17\n",
      "pooling_2: none\n",
      "Score: 0.702015221118927\n",
      "Trial summary\n",
      "Hyperparameters:\n",
      "input_size: 80\n",
      "regul: 0.00010991863288278036\n",
      "batch_normalization: False\n",
      "conv_blocks: 2\n",
      "filters_0: 64\n",
      "kernel_size0: 14\n",
      "filters_1: 160\n",
      "kernel_size1: 18\n",
      "pooling_1: avg\n",
      "hidden_size: 42\n",
      "dense_blocks: 3\n",
      "dropout: 0.5\n",
      "learning_rate: 0.00638224910178181\n",
      "pooling_0: max\n",
      "filters_2: 192\n",
      "kernel_size2: 15\n",
      "pooling_2: max\n",
      "Score: 0.704502284526825\n",
      "Trial summary\n",
      "Hyperparameters:\n",
      "input_size: 80\n",
      "regul: 0.00032199506051567314\n",
      "batch_normalization: True\n",
      "conv_blocks: 2\n",
      "filters_0: 64\n",
      "kernel_size0: 13\n",
      "filters_1: 160\n",
      "kernel_size1: 5\n",
      "pooling_1: avg\n",
      "hidden_size: 74\n",
      "dense_blocks: 2\n",
      "dropout: 0.30000000000000004\n",
      "learning_rate: 0.00020644391295639603\n",
      "pooling_0: none\n",
      "Score: 0.7146832942962646\n",
      "Trial summary\n",
      "Hyperparameters:\n",
      "input_size: 80\n",
      "regul: 6.908837503318941e-05\n",
      "batch_normalization: False\n",
      "conv_blocks: 2\n",
      "filters_0: 160\n",
      "kernel_size0: 6\n",
      "filters_1: 128\n",
      "kernel_size1: 9\n",
      "pooling_1: avg\n",
      "hidden_size: 42\n",
      "dense_blocks: 2\n",
      "dropout: 0.0\n",
      "learning_rate: 0.0009775664203574934\n",
      "pooling_0: avg\n",
      "Score: 0.7626064419746399\n",
      "Trial summary\n",
      "Hyperparameters:\n",
      "input_size: 80\n",
      "regul: 0.0010562376768930327\n",
      "batch_normalization: True\n",
      "conv_blocks: 2\n",
      "filters_0: 192\n",
      "kernel_size0: 8\n",
      "filters_1: 224\n",
      "kernel_size1: 7\n",
      "pooling_1: max\n",
      "hidden_size: 10\n",
      "dense_blocks: 1\n",
      "dropout: 0.0\n",
      "learning_rate: 0.0004832573378556583\n",
      "pooling_0: max\n",
      "Score: 0.7866157293319702\n",
      "Trial summary\n",
      "Hyperparameters:\n",
      "input_size: 80\n",
      "regul: 1.619773895005048e-05\n",
      "batch_normalization: False\n",
      "conv_blocks: 3\n",
      "filters_0: 160\n",
      "kernel_size0: 6\n",
      "filters_1: 256\n",
      "kernel_size1: 14\n",
      "pooling_1: none\n",
      "hidden_size: 42\n",
      "dense_blocks: 2\n",
      "dropout: 0.2\n",
      "learning_rate: 0.0008639229762234833\n",
      "pooling_0: none\n",
      "filters_2: 160\n",
      "kernel_size2: 6\n",
      "pooling_2: avg\n",
      "Score: 0.7882844805717468\n",
      "Trial summary\n",
      "Hyperparameters:\n",
      "input_size: 80\n",
      "regul: 0.00050472731221573\n",
      "batch_normalization: False\n",
      "conv_blocks: 1\n",
      "filters_0: 224\n",
      "kernel_size0: 8\n",
      "filters_1: 160\n",
      "kernel_size1: 8\n",
      "pooling_1: max\n",
      "hidden_size: 74\n",
      "dense_blocks: 2\n",
      "dropout: 0.1\n",
      "learning_rate: 0.0004956405624619392\n",
      "pooling_0: max\n",
      "filters_2: 64\n",
      "kernel_size2: 16\n",
      "pooling_2: max\n",
      "Score: 0.8011331558227539\n",
      "Trial summary\n",
      "Hyperparameters:\n",
      "input_size: 80\n",
      "regul: 0.0097400166982067\n",
      "batch_normalization: True\n",
      "conv_blocks: 1\n",
      "filters_0: 224\n",
      "kernel_size0: 17\n",
      "filters_1: 160\n",
      "kernel_size1: 5\n",
      "pooling_1: avg\n",
      "hidden_size: 74\n",
      "dense_blocks: 2\n",
      "dropout: 0.30000000000000004\n",
      "learning_rate: 0.0001465777550436778\n",
      "pooling_0: max\n",
      "filters_2: 192\n",
      "kernel_size2: 13\n",
      "pooling_2: avg\n",
      "Score: 0.8049061298370361\n",
      "Trial summary\n",
      "Hyperparameters:\n",
      "input_size: 80\n",
      "regul: 1.5061420490559164e-05\n",
      "batch_normalization: True\n",
      "conv_blocks: 2\n",
      "filters_0: 64\n",
      "kernel_size0: 12\n",
      "filters_1: 160\n",
      "kernel_size1: 16\n",
      "pooling_1: avg\n",
      "hidden_size: 42\n",
      "dense_blocks: 2\n",
      "dropout: 0.30000000000000004\n",
      "learning_rate: 0.0008758408573224307\n",
      "pooling_0: avg\n",
      "filters_2: 160\n",
      "kernel_size2: 19\n",
      "pooling_2: none\n",
      "Score: 0.807873547077179\n",
      "Trial summary\n",
      "Hyperparameters:\n",
      "input_size: 80\n",
      "regul: 0.00030389246930894354\n",
      "batch_normalization: True\n",
      "conv_blocks: 1\n",
      "filters_0: 256\n",
      "kernel_size0: 6\n",
      "filters_1: 96\n",
      "kernel_size1: 12\n",
      "pooling_1: max\n",
      "hidden_size: 42\n",
      "dense_blocks: 1\n",
      "dropout: 0.0\n",
      "learning_rate: 0.0004831323790896749\n",
      "pooling_0: none\n",
      "filters_2: 224\n",
      "kernel_size2: 17\n",
      "pooling_2: avg\n",
      "Score: 0.8135343194007874\n"
     ]
    }
   ],
   "source": [
    "tuner.results_summary()"
   ]
  },
  {
   "cell_type": "code",
   "execution_count": 28,
   "id": "1a04d770",
   "metadata": {},
   "outputs": [
    {
     "name": "stdout",
     "output_type": "stream",
     "text": [
      "WARNING:tensorflow:Detecting that an object or model or tf.train.Checkpoint is being deleted with unrestored values. See the following logs for the specific values in question. To silence these warnings, use `status.expect_partial()`. See https://www.tensorflow.org/api_docs/python/tf/train/Checkpoint#restorefor details about the status object returned by the restore function.\n",
      "2022-08-12 15:46:06,331-[WARNING]- tensorflow:185 -> Detecting that an object or model or tf.train.Checkpoint is being deleted with unrestored values. See the following logs for the specific values in question. To silence these warnings, use `status.expect_partial()`. See https://www.tensorflow.org/api_docs/python/tf/train/Checkpoint#restorefor details about the status object returned by the restore function.\n",
      "WARNING:tensorflow:Value in checkpoint could not be found in the restored object: (root).optimizer.iter\n",
      "2022-08-12 15:46:06,332-[WARNING]- tensorflow:194 -> Value in checkpoint could not be found in the restored object: (root).optimizer.iter\n",
      "WARNING:tensorflow:Value in checkpoint could not be found in the restored object: (root).optimizer.beta_1\n",
      "2022-08-12 15:46:06,332-[WARNING]- tensorflow:194 -> Value in checkpoint could not be found in the restored object: (root).optimizer.beta_1\n",
      "WARNING:tensorflow:Value in checkpoint could not be found in the restored object: (root).optimizer.beta_2\n",
      "2022-08-12 15:46:06,333-[WARNING]- tensorflow:194 -> Value in checkpoint could not be found in the restored object: (root).optimizer.beta_2\n",
      "WARNING:tensorflow:Value in checkpoint could not be found in the restored object: (root).optimizer.decay\n",
      "2022-08-12 15:46:06,333-[WARNING]- tensorflow:194 -> Value in checkpoint could not be found in the restored object: (root).optimizer.decay\n",
      "WARNING:tensorflow:Value in checkpoint could not be found in the restored object: (root).optimizer.learning_rate\n",
      "2022-08-12 15:46:06,334-[WARNING]- tensorflow:194 -> Value in checkpoint could not be found in the restored object: (root).optimizer.learning_rate\n"
     ]
    }
   ],
   "source": [
    "best_model = tuner.get_best_models(2)[1]"
   ]
  },
  {
   "cell_type": "code",
   "execution_count": 29,
   "id": "17fe4590",
   "metadata": {},
   "outputs": [],
   "source": [
    "best_hyperparameters = tuner.get_best_hyperparameters(1)[0]"
   ]
  },
  {
   "cell_type": "code",
   "execution_count": 30,
   "id": "899c8b56",
   "metadata": {},
   "outputs": [
    {
     "name": "stdout",
     "output_type": "stream",
     "text": [
      "Model: \"model\"\n",
      "_________________________________________________________________\n",
      " Layer (type)                Output Shape              Param #   \n",
      "=================================================================\n",
      " input_1 (InputLayer)        [(None, 80, 1)]           0         \n",
      "                                                                 \n",
      " rescaling (Rescaling)       (None, 80, 1)             0         \n",
      "                                                                 \n",
      " conv1d (Conv1D)             (None, 71, 64)            704       \n",
      "                                                                 \n",
      " re_lu (ReLU)                (None, 71, 64)            0         \n",
      "                                                                 \n",
      " conv1d_1 (Conv1D)           (None, 62, 160)           102560    \n",
      "                                                                 \n",
      " re_lu_1 (ReLU)              (None, 62, 160)           0         \n",
      "                                                                 \n",
      " average_pooling1d (AverageP  (None, 31, 160)          0         \n",
      " ooling1D)                                                       \n",
      "                                                                 \n",
      " flatten (Flatten)           (None, 4960)              0         \n",
      "                                                                 \n",
      " dense (Dense)               (None, 42)                208362    \n",
      "                                                                 \n",
      " dense_1 (Dense)             (None, 42)                1806      \n",
      "                                                                 \n",
      " dense_2 (Dense)             (None, 42)                1806      \n",
      "                                                                 \n",
      " dropout (Dropout)           (None, 42)                0         \n",
      "                                                                 \n",
      " dense_3 (Dense)             (None, 1)                 43        \n",
      "                                                                 \n",
      "=================================================================\n",
      "Total params: 315,281\n",
      "Trainable params: 315,281\n",
      "Non-trainable params: 0\n",
      "_________________________________________________________________\n"
     ]
    }
   ],
   "source": [
    "best_model.summary()"
   ]
  },
  {
   "cell_type": "code",
   "execution_count": 31,
   "id": "802d0f4e",
   "metadata": {},
   "outputs": [
    {
     "name": "stdout",
     "output_type": "stream",
     "text": [
      "Search space summary\n",
      "Default search space size: 17\n",
      "input_size (Fixed)\n",
      "{'conditions': [], 'value': 80}\n",
      "regul (Float)\n",
      "{'default': 0.0001, 'conditions': [], 'min_value': 1e-05, 'max_value': 0.1, 'step': None, 'sampling': 'log'}\n",
      "batch_normalization (Boolean)\n",
      "{'default': False, 'conditions': []}\n",
      "conv_blocks (Int)\n",
      "{'default': 2, 'conditions': [], 'min_value': 1, 'max_value': 3, 'step': 1, 'sampling': None}\n",
      "filters_0 (Int)\n",
      "{'default': None, 'conditions': [], 'min_value': 32, 'max_value': 256, 'step': 32, 'sampling': None}\n",
      "kernel_size0 (Int)\n",
      "{'default': None, 'conditions': [], 'min_value': 5, 'max_value': 20, 'step': 1, 'sampling': None}\n",
      "filters_1 (Int)\n",
      "{'default': None, 'conditions': [], 'min_value': 32, 'max_value': 256, 'step': 32, 'sampling': None}\n",
      "kernel_size1 (Int)\n",
      "{'default': None, 'conditions': [], 'min_value': 5, 'max_value': 20, 'step': 1, 'sampling': None}\n",
      "pooling_1 (Choice)\n",
      "{'default': 'avg', 'conditions': [], 'values': ['avg', 'max', 'none'], 'ordered': False}\n",
      "hidden_size (Int)\n",
      "{'default': 32, 'conditions': [], 'min_value': 10, 'max_value': 100, 'step': 32, 'sampling': None}\n",
      "dense_blocks (Int)\n",
      "{'default': 1, 'conditions': [], 'min_value': 1, 'max_value': 3, 'step': 1, 'sampling': None}\n",
      "dropout (Float)\n",
      "{'default': 0.5, 'conditions': [], 'min_value': 0.0, 'max_value': 0.5, 'step': 0.1, 'sampling': None}\n",
      "learning_rate (Float)\n",
      "{'default': 0.001, 'conditions': [], 'min_value': 1e-05, 'max_value': 0.1, 'step': None, 'sampling': 'log'}\n",
      "pooling_0 (Choice)\n",
      "{'default': 'avg', 'conditions': [], 'values': ['avg', 'max', 'none'], 'ordered': False}\n",
      "filters_2 (Int)\n",
      "{'default': None, 'conditions': [], 'min_value': 32, 'max_value': 256, 'step': 32, 'sampling': None}\n",
      "kernel_size2 (Int)\n",
      "{'default': None, 'conditions': [], 'min_value': 5, 'max_value': 20, 'step': 1, 'sampling': None}\n",
      "pooling_2 (Choice)\n",
      "{'default': 'avg', 'conditions': [], 'values': ['avg', 'max', 'none'], 'ordered': False}\n"
     ]
    }
   ],
   "source": [
    "tuner.search_space_summary()"
   ]
  },
  {
   "cell_type": "code",
   "execution_count": 32,
   "id": "504d343e",
   "metadata": {},
   "outputs": [],
   "source": [
    "def plot_against(model, test_feature, test_label):\n",
    "    predicted = model.predict(test_feature)\n",
    "    plt.scatter(test_label, predicted, marker='o')\n",
    "    plt.plot([0,12],[0,12])\n",
    "    plt.xlim(2, 16)\n",
    "    plt.ylim(2, 16)"
   ]
  },
  {
   "cell_type": "code",
   "execution_count": 33,
   "id": "7c343ab6",
   "metadata": {},
   "outputs": [
    {
     "data": {
      "text/plain": [
       "Array([[179, 178, 179, ..., 166, 169, 169],\n",
       "       [188, 185, 185, ..., 191, 193, 192],\n",
       "       [184, 186, 184, ..., 183, 182, 180],\n",
       "       ...,\n",
       "       [191, 189, 191, ..., 195, 193, 195],\n",
       "       [187, 187, 188, ..., 189, 190, 190],\n",
       "       [187, 185, 186, ..., 163, 162, 166]], dtype=uint8)"
      ]
     },
     "execution_count": 33,
     "metadata": {},
     "output_type": "execute_result"
    }
   ],
   "source": [
    "test_feature"
   ]
  },
  {
   "cell_type": "code",
   "execution_count": 56,
   "id": "7a2d0c3b",
   "metadata": {},
   "outputs": [],
   "source": [
    "path = os.path.join(storage_path, \"test_final\")\n",
    "im_path_test = os.path.join(path, \"slices.png\")\n",
    "label_path_test = os.path.join(path, \"labels.npy\")"
   ]
  },
  {
   "cell_type": "code",
   "execution_count": 57,
   "id": "d0e19521",
   "metadata": {},
   "outputs": [
    {
     "name": "stdout",
     "output_type": "stream",
     "text": [
      "(810, 120)\n"
     ]
    }
   ],
   "source": [
    "im_test = imageio.imread(im_path_test)\n",
    "print(im_test.shape)"
   ]
  },
  {
   "cell_type": "code",
   "execution_count": 61,
   "id": "e2dcfdd5",
   "metadata": {},
   "outputs": [
    {
     "name": "stdout",
     "output_type": "stream",
     "text": [
      "(810,)\n"
     ]
    }
   ],
   "source": [
    "with open(label_path, 'rb') as f:\n",
    "    label_test = np.load(f)\n",
    "print(label_test.shape)"
   ]
  },
  {
   "cell_type": "code",
   "execution_count": 62,
   "id": "a3055d4f",
   "metadata": {},
   "outputs": [],
   "source": [
    "label_test = np.expand_dims(label_test, axis = 1)"
   ]
  },
  {
   "cell_type": "code",
   "execution_count": null,
   "id": "db8218f6",
   "metadata": {},
   "outputs": [],
   "source": []
  },
  {
   "cell_type": "code",
   "execution_count": 64,
   "id": "13b40dc0",
   "metadata": {
    "scrolled": true
   },
   "outputs": [
    {
     "data": {
      "application/vnd.jupyter.widget-view+json": {
       "model_id": "8a42bf64ae3144808defd36fa7e1c212",
       "version_major": 2,
       "version_minor": 0
      },
      "image/png": "[encoded data removed]",
      "text/html": [
       "\n",
       "            <div style=\"display: inline-block;\">\n",
       "                <div class=\"jupyter-widgets widget-label\" style=\"text-align: center;\">\n",
       "                    Figure\n",
       "                </div>\n",
       "                <img src='data:image/png;base64,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' width=640.0/>\n",
       "            </div>\n",
       "        "
      ],
      "text/plain": [
       "Canvas(toolbar=Toolbar(toolitems=[('Home', 'Reset original view', 'home', 'home'), ('Back', 'Back to previous …"
      ]
     },
     "metadata": {},
     "output_type": "display_data"
    }
   ],
   "source": [
    "%matplotlib widget\n",
    "plot_against(best_model, data_preparation(im_test), label_test)"
   ]
  },
  {
   "cell_type": "code",
   "execution_count": 66,
   "id": "a5100144",
   "metadata": {},
   "outputs": [
    {
     "name": "stderr",
     "output_type": "stream",
     "text": [
      "2022-08-12 16:34:00.585513: W tensorflow/python/util/util.cc:368] Sets are not currently considered sequences, but this may change in the future, so consider avoiding using them.\n"
     ]
    },
    {
     "name": "stdout",
     "output_type": "stream",
     "text": [
      "INFO:tensorflow:Assets written to: /media/kahane/AMFtopology02/storage/models/model_vendredi/assets\n",
      "2022-08-12 16:34:02,605-[INFO]- tensorflow:779 -> Assets written to: /media/kahane/AMFtopology02/storage/models/model_vendredi/assets\n"
     ]
    }
   ],
   "source": [
    "save_path = os.path.join(storage_path, \"models\", \"model_vendredi\")\n",
    "best_model.save(save_path)"
   ]
  },
  {
   "cell_type": "code",
   "execution_count": 38,
   "id": "4f889166",
   "metadata": {
    "scrolled": true
   },
   "outputs": [
    {
     "name": "stdout",
     "output_type": "stream",
     "text": [
      "3/3 [==============================] - 0s 6ms/step - loss: 2.2786 - mean_absolute_error: 1.0133\n"
     ]
    },
    {
     "data": {
      "text/plain": [
       "[2.278571844100952, 1.0132561922073364]"
      ]
     },
     "execution_count": 38,
     "metadata": {},
     "output_type": "execute_result"
    }
   ],
   "source": [
    "best_model.evaluate(test_feature, test_label)"
   ]
  },
  {
   "cell_type": "code",
   "execution_count": 39,
   "id": "80d3a718",
   "metadata": {
    "scrolled": true
   },
   "outputs": [
    {
     "name": "stdout",
     "output_type": "stream",
     "text": [
      "Model: \"model\"\n",
      "_________________________________________________________________\n",
      " Layer (type)                Output Shape              Param #   \n",
      "=================================================================\n",
      " input_1 (InputLayer)        [(None, 120, 1)]          0         \n",
      "                                                                 \n",
      " rescaling (Rescaling)       (None, 120, 1)            0         \n",
      "                                                                 \n",
      " conv1d (Conv1D)             (None, 111, 160)          1760      \n",
      "                                                                 \n",
      " re_lu (ReLU)                (None, 111, 160)          0         \n",
      "                                                                 \n",
      " conv1d_1 (Conv1D)           (None, 102, 128)          204928    \n",
      "                                                                 \n",
      " re_lu_1 (ReLU)              (None, 102, 128)          0         \n",
      "                                                                 \n",
      " average_pooling1d (AverageP  (None, 51, 128)          0         \n",
      " ooling1D)                                                       \n",
      "                                                                 \n",
      " flatten (Flatten)           (None, 6528)              0         \n",
      "                                                                 \n",
      " dense (Dense)               (None, 42)                274218    \n",
      "                                                                 \n",
      " dense_1 (Dense)             (None, 42)                1806      \n",
      "                                                                 \n",
      " dropout (Dropout)           (None, 42)                0         \n",
      "                                                                 \n",
      " dense_2 (Dense)             (None, 1)                 43        \n",
      "                                                                 \n",
      "=================================================================\n",
      "Total params: 482,755\n",
      "Trainable params: 482,755\n",
      "Non-trainable params: 0\n",
      "_________________________________________________________________\n"
     ]
    }
   ],
   "source": [
    "best_model.summary()"
   ]
  },
  {
   "cell_type": "code",
   "execution_count": 40,
   "id": "bbe87426",
   "metadata": {},
   "outputs": [
    {
     "name": "stdout",
     "output_type": "stream",
     "text": [
      "WARNING:tensorflow:Detecting that an object or model or tf.train.Checkpoint is being deleted with unrestored values. See the following logs for the specific values in question. To silence these warnings, use `status.expect_partial()`. See https://www.tensorflow.org/api_docs/python/tf/train/Checkpoint#restorefor details about the status object returned by the restore function.\n",
      "2022-06-07 15:53:58,773-[WARNING]- tensorflow:185 -> Detecting that an object or model or tf.train.Checkpoint is being deleted with unrestored values. See the following logs for the specific values in question. To silence these warnings, use `status.expect_partial()`. See https://www.tensorflow.org/api_docs/python/tf/train/Checkpoint#restorefor details about the status object returned by the restore function.\n",
      "WARNING:tensorflow:Value in checkpoint could not be found in the restored object: (root).optimizer.iter\n",
      "2022-06-07 15:53:58,774-[WARNING]- tensorflow:194 -> Value in checkpoint could not be found in the restored object: (root).optimizer.iter\n",
      "WARNING:tensorflow:Value in checkpoint could not be found in the restored object: (root).optimizer.beta_1\n",
      "2022-06-07 15:53:58,775-[WARNING]- tensorflow:194 -> Value in checkpoint could not be found in the restored object: (root).optimizer.beta_1\n",
      "WARNING:tensorflow:Value in checkpoint could not be found in the restored object: (root).optimizer.beta_2\n",
      "2022-06-07 15:53:58,777-[WARNING]- tensorflow:194 -> Value in checkpoint could not be found in the restored object: (root).optimizer.beta_2\n",
      "WARNING:tensorflow:Value in checkpoint could not be found in the restored object: (root).optimizer.decay\n",
      "2022-06-07 15:53:58,778-[WARNING]- tensorflow:194 -> Value in checkpoint could not be found in the restored object: (root).optimizer.decay\n",
      "WARNING:tensorflow:Value in checkpoint could not be found in the restored object: (root).optimizer.learning_rate\n",
      "2022-06-07 15:53:58,779-[WARNING]- tensorflow:194 -> Value in checkpoint could not be found in the restored object: (root).optimizer.learning_rate\n"
     ]
    },
    {
     "data": {
      "text/plain": [
       "[<keras.engine.functional.Functional at 0x7fcbc5fc2460>,\n",
       " <keras.engine.functional.Functional at 0x7fcbc5fd1040>,\n",
       " <keras.engine.functional.Functional at 0x7fcbc5ff2370>,\n",
       " <keras.engine.functional.Functional at 0x7fcbe442f370>,\n",
       " <keras.engine.functional.Functional at 0x7fcbe460e8e0>]"
      ]
     },
     "execution_count": 40,
     "metadata": {},
     "output_type": "execute_result"
    }
   ],
   "source": [
    "tuner.get_best_models(5)"
   ]
  },
  {
   "cell_type": "markdown",
   "id": "7656f24e",
   "metadata": {},
   "source": [
    "### Evaluate with data augmentation"
   ]
  },
  {
   "cell_type": "code",
   "execution_count": 49,
   "id": "91028823",
   "metadata": {},
   "outputs": [],
   "source": [
    "from amftrack.ml.width.data_augmentation import *"
   ]
  },
  {
   "cell_type": "code",
   "execution_count": null,
   "id": "32aabccc",
   "metadata": {},
   "outputs": [],
   "source": [
    "data_augmentation = tf.keras.Sequential(\n",
    "    [\n",
    "        tf.keras.Input(shape=(120, 1)),\n",
    "        random_crop(120),\n",
    "        # random_invert(p=0.5),  # TODO(FK): keep?\n",
    "        random_mirror(p=0.5),\n",
    "        random_brightness(20),\n",
    "    ]\n",
    ")"
   ]
  },
  {
   "cell_type": "code",
   "execution_count": 50,
   "id": "81f531c2",
   "metadata": {},
   "outputs": [
    {
     "data": {
      "text/plain": [
       "<keras.engine.sequential.Sequential at 0x7fcbf42ec700>"
      ]
     },
     "execution_count": 50,
     "metadata": {},
     "output_type": "execute_result"
    }
   ],
   "source": [
    "data_preparation"
   ]
  },
  {
   "cell_type": "code",
   "execution_count": 42,
   "id": "f08d1d37",
   "metadata": {},
   "outputs": [
    {
     "data": {
      "text/plain": [
       "Array([[199, 198, 197, ..., 203, 204, 207],\n",
       "       [175, 177, 176, ..., 167, 166, 166],\n",
       "       [194, 194, 194, ..., 146, 134, 120],\n",
       "       ...,\n",
       "       [186, 186, 186, ..., 179, 177, 179],\n",
       "       [204, 206, 206, ..., 205, 206, 206],\n",
       "       [188, 189, 188, ..., 174, 177, 179]], dtype=uint8)"
      ]
     },
     "execution_count": 42,
     "metadata": {},
     "output_type": "execute_result"
    }
   ],
   "source": [
    "test_feature"
   ]
  },
  {
   "cell_type": "code",
   "execution_count": 44,
   "id": "f8ea1200",
   "metadata": {},
   "outputs": [
    {
     "data": {
      "text/plain": [
       "(74, 1)"
      ]
     },
     "execution_count": 44,
     "metadata": {},
     "output_type": "execute_result"
    }
   ],
   "source": [
    "test_label.shape"
   ]
  },
  {
   "cell_type": "code",
   "execution_count": 45,
   "id": "61098b01",
   "metadata": {},
   "outputs": [],
   "source": [
    "test_feature_ = data_augmentation(test_feature)"
   ]
  },
  {
   "cell_type": "code",
   "execution_count": 46,
   "id": "2bea5a70",
   "metadata": {},
   "outputs": [
    {
     "data": {
      "text/plain": [
       "TensorShape([1, 80, 1])"
      ]
     },
     "execution_count": 46,
     "metadata": {},
     "output_type": "execute_result"
    }
   ],
   "source": []
  },
  {
   "cell_type": "code",
   "execution_count": null,
   "id": "a1f80240",
   "metadata": {},
   "outputs": [],
   "source": [
    "best_model.evaluate(test_feature, test_label)"
   ]
  },
  {
   "cell_type": "code",
   "execution_count": 41,
   "id": "5d366d12",
   "metadata": {},
   "outputs": [
    {
     "data": {
      "text/plain": [
       "<keras.engine.sequential.Sequential at 0x7fcbf74f6b20>"
      ]
     },
     "execution_count": 41,
     "metadata": {},
     "output_type": "execute_result"
    }
   ],
   "source": [
    "data_augmentation"
   ]
  }
 ],
 "metadata": {
  "kernelspec": {
   "display_name": "Python 3 (ipykernel)",
   "language": "python",
   "name": "python3"
  },
  "language_info": {
   "codemirror_mode": {
    "name": "ipython",
    "version": 3
   },
   "file_extension": ".py",
   "mimetype": "text/x-python",
   "name": "python",
   "nbconvert_exporter": "python",
   "pygments_lexer": "ipython3",
   "version": "3.8.10"
  }
 },
 "nbformat": 4,
 "nbformat_minor": 5
}

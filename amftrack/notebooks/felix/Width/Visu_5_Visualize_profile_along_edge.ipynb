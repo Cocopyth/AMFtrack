{
 "cells": [
  {
   "cell_type": "markdown",
   "id": "0376541d",
   "metadata": {},
   "source": [
    "# Profile along the edge for width computation"
   ]
  },
  {
   "cell_type": "markdown",
   "id": "16d46417",
   "metadata": {},
   "source": [
    "## Setup"
   ]
  },
  {
   "cell_type": "code",
   "execution_count": 144,
   "id": "3f8fd0a7",
   "metadata": {},
   "outputs": [],
   "source": [
    "import os\n",
    "import unittest\n",
    "from amftrack.util.sys import (\n",
    "    update_plate_info_local,\n",
    "    get_current_folders_local,\n",
    "    test_path,\n",
    ")\n",
    "from amftrack.pipeline.functions.image_processing.experiment_class_surf import (\n",
    "    Experiment, Edge, Node\n",
    ")\n",
    "from amftrack.pipeline.functions.image_processing.extract_width_fun import (\n",
    "    generate_pivot_indexes,\n",
    "    compute_section_coordinates,\n",
    "    find_source_images,\n",
    "    extract_section_profiles_for_edge,\n",
    ")\n",
    "from amftrack.pipeline.functions.image_processing.experiment_util import get_random_edge\n",
    "from random import choice"
   ]
  },
  {
   "cell_type": "code",
   "execution_count": 145,
   "id": "36b4b964",
   "metadata": {},
   "outputs": [],
   "source": [
    "import matplotlib.pyplot as plt\n",
    "import numpy as np"
   ]
  },
  {
   "cell_type": "code",
   "execution_count": 146,
   "id": "4d0d0120",
   "metadata": {},
   "outputs": [
    {
     "data": {
      "application/vnd.jupyter.widget-view+json": {
       "model_id": "af5b2a7dd03e49569b41d39db3a4fd1d",
       "version_major": 2,
       "version_minor": 0
      },
      "text/plain": [
       "analysed:   0%|          | 0/1 [00:00<?, ?it/s]"
      ]
     },
     "metadata": {},
     "output_type": "display_data"
    },
    {
     "name": "stdout",
     "output_type": "stream",
     "text": [
      "2022-03-30 23:57:00\n"
     ]
    }
   ],
   "source": [
    "directory = test_path + \"/\"  # TODO(FK): fix this error\n",
    "plate_name = \"20220330_2357_Plate19\"\n",
    "update_plate_info_local(directory)\n",
    "folder_df = get_current_folders_local(directory)\n",
    "selected_df = folder_df.loc[folder_df[\"folder\"] == plate_name]\n",
    "i = 0\n",
    "plate = int(list(selected_df[\"folder\"])[i].split(\"_\")[-1][5:])\n",
    "folder_list = list(selected_df[\"folder\"])\n",
    "directory_name = folder_list[i]\n",
    "exp = Experiment(plate, directory)\n",
    "exp.load(\n",
    "    selected_df.loc[selected_df[\"folder\"] == directory_name], labeled=False\n",
    ")"
   ]
  },
  {
   "cell_type": "markdown",
   "id": "abc5b5b9",
   "metadata": {},
   "source": [
    "## I/ Repartition of hyphae length"
   ]
  },
  {
   "cell_type": "code",
   "execution_count": 147,
   "id": "6c76e1c4",
   "metadata": {},
   "outputs": [],
   "source": [
    "def get_all_edges(exp, t):\n",
    "    (G, pos) = exp.nx_graph[t], exp.positions[t]\n",
    "    return [Edge(Node(edge_coord[0], exp), Node(edge_coord[1], exp), exp) for edge_coord in list(G.edges)]"
   ]
  },
  {
   "cell_type": "code",
   "execution_count": 148,
   "id": "61eca084",
   "metadata": {},
   "outputs": [],
   "source": [
    "a = get_all_edges(exp, 0)"
   ]
  },
  {
   "cell_type": "code",
   "execution_count": 149,
   "id": "a9a5630d",
   "metadata": {},
   "outputs": [],
   "source": [
    "def get_all_length(exp, t):\n",
    "    a = get_all_edges(exp, t)\n",
    "    return [len(a[i].pixel_list(0)) for i in range(len(a))]"
   ]
  },
  {
   "cell_type": "code",
   "execution_count": 150,
   "id": "04ed3c82",
   "metadata": {},
   "outputs": [],
   "source": [
    "l = np.array(get_all_length(exp, 0))"
   ]
  },
  {
   "cell_type": "code",
   "execution_count": 151,
   "id": "b3e51434",
   "metadata": {},
   "outputs": [
    {
     "data": {
      "text/plain": [
       "(array([33., 13.,  6.,  1.,  0.,  3.,  1.,  2.,  1.,  1.]),\n",
       " array([ 2. ,  2.8,  3.6,  4.4,  5.2,  6. ,  6.8,  7.6,  8.4,  9.2, 10. ]),\n",
       " <a list of 10 Patch objects>)"
      ]
     },
     "execution_count": 151,
     "metadata": {},
     "output_type": "execute_result"
    },
    {
     "data": {
      "image/png": "[encoded data removed]",
      "text/plain": [
       "<Figure size 432x288 with 1 Axes>"
      ]
     },
     "metadata": {
      "needs_background": "light"
     },
     "output_type": "display_data"
    }
   ],
   "source": [
    "plt.hist(l, range=(2, 10))"
   ]
  },
  {
   "cell_type": "code",
   "execution_count": 152,
   "id": "bcc35d2f",
   "metadata": {},
   "outputs": [
    {
     "data": {
      "text/plain": [
       "(array([12., 10.,  9., 21., 15., 18., 15., 15., 12., 18.]),\n",
       " array([ 10.,  19.,  28.,  37.,  46.,  55.,  64.,  73.,  82.,  91., 100.]),\n",
       " <a list of 10 Patch objects>)"
      ]
     },
     "execution_count": 152,
     "metadata": {},
     "output_type": "execute_result"
    },
    {
     "data": {
      "image/png": "[encoded data removed]",
      "text/plain": [
       "<Figure size 432x288 with 1 Axes>"
      ]
     },
     "metadata": {
      "needs_background": "light"
     },
     "output_type": "display_data"
    }
   ],
   "source": [
    "plt.hist(l, range=(10, 100))"
   ]
  },
  {
   "cell_type": "code",
   "execution_count": 153,
   "id": "1231ca1c",
   "metadata": {},
   "outputs": [
    {
     "data": {
      "text/plain": [
       "(array([122.,  83., 102.,  51.,  37.,  34.,  22.,  18.,  13.,  20.,   9.,\n",
       "         12.,   5.,   8.,   6.,   5.,   7.,   8.,   2.,   5.,   3.,   1.,\n",
       "          4.,   4.,   7.,   2.,   1.,   2.,   2.,   3.,   2.,   0.,   0.,\n",
       "          0.,   1.,   2.,   0.,   0.,   0.,   0.]),\n",
       " array([1.000000e+00, 5.097500e+01, 1.009500e+02, 1.509250e+02,\n",
       "        2.009000e+02, 2.508750e+02, 3.008500e+02, 3.508250e+02,\n",
       "        4.008000e+02, 4.507750e+02, 5.007500e+02, 5.507250e+02,\n",
       "        6.007000e+02, 6.506750e+02, 7.006500e+02, 7.506250e+02,\n",
       "        8.006000e+02, 8.505750e+02, 9.005500e+02, 9.505250e+02,\n",
       "        1.000500e+03, 1.050475e+03, 1.100450e+03, 1.150425e+03,\n",
       "        1.200400e+03, 1.250375e+03, 1.300350e+03, 1.350325e+03,\n",
       "        1.400300e+03, 1.450275e+03, 1.500250e+03, 1.550225e+03,\n",
       "        1.600200e+03, 1.650175e+03, 1.700150e+03, 1.750125e+03,\n",
       "        1.800100e+03, 1.850075e+03, 1.900050e+03, 1.950025e+03,\n",
       "        2.000000e+03]),\n",
       " <a list of 40 Patch objects>)"
      ]
     },
     "execution_count": 153,
     "metadata": {},
     "output_type": "execute_result"
    },
    {
     "data": {
      "image/png": "[encoded data removed]",
      "text/plain": [
       "<Figure size 432x288 with 1 Axes>"
      ]
     },
     "metadata": {
      "needs_background": "light"
     },
     "output_type": "display_data"
    }
   ],
   "source": [
    "plt.hist(l, bins = 40, range = (1, 2000))"
   ]
  },
  {
   "cell_type": "code",
   "execution_count": 154,
   "id": "c6392be7",
   "metadata": {},
   "outputs": [
    {
     "data": {
      "text/plain": [
       "4160"
      ]
     },
     "execution_count": 154,
     "metadata": {},
     "output_type": "execute_result"
    }
   ],
   "source": [
    "np.max(l)"
   ]
  },
  {
   "cell_type": "code",
   "execution_count": 155,
   "id": "42885586",
   "metadata": {
    "scrolled": true
   },
   "outputs": [
    {
     "data": {
      "text/plain": [
       "2"
      ]
     },
     "execution_count": 155,
     "metadata": {},
     "output_type": "execute_result"
    }
   ],
   "source": [
    "np.min(l)"
   ]
  },
  {
   "cell_type": "code",
   "execution_count": 156,
   "id": "f3832694",
   "metadata": {},
   "outputs": [
    {
     "data": {
      "text/plain": [
       "33"
      ]
     },
     "execution_count": 156,
     "metadata": {},
     "output_type": "execute_result"
    }
   ],
   "source": [
    "np.sum(l==2)"
   ]
  },
  {
   "cell_type": "code",
   "execution_count": 157,
   "id": "9f4f448a",
   "metadata": {},
   "outputs": [
    {
     "data": {
      "text/plain": [
       "2"
      ]
     },
     "execution_count": 157,
     "metadata": {},
     "output_type": "execute_result"
    }
   ],
   "source": [
    "np.sum(l==100)"
   ]
  },
  {
   "cell_type": "markdown",
   "id": "d47d88bb",
   "metadata": {},
   "source": [
    "## Proportion of network in each category"
   ]
  },
  {
   "cell_type": "code",
   "execution_count": 158,
   "id": "52e13dd3",
   "metadata": {
    "scrolled": false
   },
   "outputs": [],
   "source": [
    "effectif = np.bincount(l)"
   ]
  },
  {
   "cell_type": "code",
   "execution_count": 159,
   "id": "235eebd6",
   "metadata": {},
   "outputs": [],
   "source": [
    "weight = [effectif[i]*i for i in range(len(effectif))]"
   ]
  },
  {
   "cell_type": "code",
   "execution_count": 160,
   "id": "fb02f59a",
   "metadata": {},
   "outputs": [],
   "source": [
    "cum_weight = np.cumsum(weight)"
   ]
  },
  {
   "cell_type": "code",
   "execution_count": 161,
   "id": "c5346138",
   "metadata": {},
   "outputs": [],
   "source": [
    "cum_weight_normalized = cum_weight/np.max(cum_weight)"
   ]
  },
  {
   "cell_type": "code",
   "execution_count": 162,
   "id": "291d3604",
   "metadata": {},
   "outputs": [
    {
     "data": {
      "text/plain": [
       "[<matplotlib.lines.Line2D at 0x7ff0f2a92400>]"
      ]
     },
     "execution_count": 162,
     "metadata": {},
     "output_type": "execute_result"
    },
    {
     "data": {
      "image/png": "[encoded data removed]",
      "text/plain": [
       "<Figure size 432x288 with 1 Axes>"
      ]
     },
     "metadata": {
      "needs_background": "light"
     },
     "output_type": "display_data"
    }
   ],
   "source": [
    "plt.plot(cum_weight_normalized)\n",
    "#plt.xlim([2, 30])"
   ]
  },
  {
   "cell_type": "code",
   "execution_count": 163,
   "id": "20955453",
   "metadata": {
    "scrolled": true
   },
   "outputs": [
    {
     "name": "stdout",
     "output_type": "stream",
     "text": [
      "1\n",
      "None\n",
      "3\n"
     ]
    }
   ],
   "source": [
    "for e in set([1, 3, None]):\n",
    "    print(e)"
   ]
  },
  {
   "cell_type": "markdown",
   "id": "5e473608",
   "metadata": {},
   "source": [
    "## First visualisation"
   ]
  },
  {
   "cell_type": "code",
   "execution_count": 186,
   "id": "ce4056dc",
   "metadata": {},
   "outputs": [
    {
     "name": "stdout",
     "output_type": "stream",
     "text": [
      "The autoreload extension is already loaded. To reload it, use:\n",
      "  %reload_ext autoreload\n"
     ]
    }
   ],
   "source": [
    "%load_ext autoreload\n",
    "%autoreload 2"
   ]
  },
  {
   "cell_type": "code",
   "execution_count": 187,
   "id": "f1795aba",
   "metadata": {},
   "outputs": [],
   "source": [
    "edge = get_random_edge(exp, 0)"
   ]
  },
  {
   "cell_type": "code",
   "execution_count": 188,
   "id": "3fb229f0",
   "metadata": {},
   "outputs": [
    {
     "data": {
      "text/plain": [
       "<matplotlib.image.AxesImage at 0x7ff0eb4f85b0>"
      ]
     },
     "execution_count": 188,
     "metadata": {},
     "output_type": "execute_result"
    },
    {
     "data": {
      "image/png": "[encoded data removed]",
      "text/plain": [
       "<Figure size 432x288 with 1 Axes>"
      ]
     },
     "metadata": {
      "needs_background": "light"
     },
     "output_type": "display_data"
    }
   ],
   "source": [
    "plt.imshow(pixel_list_to_matrix(edge.pixel_list(0)))"
   ]
  },
  {
   "cell_type": "code",
   "execution_count": 189,
   "id": "eb95cdd6",
   "metadata": {},
   "outputs": [],
   "source": [
    "result = extract_section_profiles_for_edge(exp, 0, edge)"
   ]
  },
  {
   "cell_type": "code",
   "execution_count": 190,
   "id": "597db538",
   "metadata": {
    "scrolled": true
   },
   "outputs": [
    {
     "data": {
      "text/plain": [
       "<matplotlib.image.AxesImage at 0x7ff0eb2053d0>"
      ]
     },
     "execution_count": 190,
     "metadata": {},
     "output_type": "execute_result"
    },
    {
     "data": {
      "image/png": "[encoded data removed]",
      "text/plain": [
       "<Figure size 432x288 with 1 Axes>"
      ]
     },
     "metadata": {
      "needs_background": "light"
     },
     "output_type": "display_data"
    }
   ],
   "source": [
    "plt.imshow(result)"
   ]
  },
  {
   "cell_type": "code",
   "execution_count": 197,
   "id": "79b0e439",
   "metadata": {},
   "outputs": [
    {
     "ename": "TypeError",
     "evalue": "general_to_image_coords() takes 3 positional arguments but 4 were given",
     "output_type": "error",
     "traceback": [
      "\u001b[0;31m---------------------------------------------------------------------------\u001b[0m",
      "\u001b[0;31mTypeError\u001b[0m                                 Traceback (most recent call last)",
      "Input \u001b[0;32mIn [197]\u001b[0m, in \u001b[0;36m<cell line: 1>\u001b[0;34m()\u001b[0m\n\u001b[0;32m----> 1\u001b[0m x, y \u001b[38;5;241m=\u001b[39m \u001b[43mexp\u001b[49m\u001b[38;5;241;43m.\u001b[39;49m\u001b[43mgeneral_to_image_coords\u001b[49m\u001b[43m(\u001b[49m\u001b[43medge\u001b[49m\u001b[38;5;241;43m.\u001b[39;49m\u001b[43mbegin\u001b[49m\u001b[38;5;241;43m.\u001b[39;49m\u001b[43mpos\u001b[49m\u001b[43m(\u001b[49m\u001b[38;5;241;43m0\u001b[39;49m\u001b[43m)\u001b[49m\u001b[43m[\u001b[49m\u001b[38;5;241;43m0\u001b[39;49m\u001b[43m]\u001b[49m\u001b[43m,\u001b[49m\u001b[43m \u001b[49m\u001b[43medge\u001b[49m\u001b[38;5;241;43m.\u001b[39;49m\u001b[43mbegin\u001b[49m\u001b[38;5;241;43m.\u001b[39;49m\u001b[43mpos\u001b[49m\u001b[43m(\u001b[49m\u001b[38;5;241;43m0\u001b[39;49m\u001b[43m)\u001b[49m\u001b[43m[\u001b[49m\u001b[38;5;241;43m1\u001b[39;49m\u001b[43m]\u001b[49m\u001b[43m,\u001b[49m\u001b[43m \u001b[49m\u001b[38;5;241;43m0\u001b[39;49m\u001b[43m)\u001b[49m\n\u001b[1;32m      2\u001b[0m im_index \u001b[38;5;241m=\u001b[39m exp\u001b[38;5;241m.\u001b[39mfind_im_indexes(x, y, \u001b[38;5;241m0\u001b[39m)\n\u001b[1;32m      3\u001b[0m image \u001b[38;5;241m=\u001b[39m exp\u001b[38;5;241m.\u001b[39mget_image(\u001b[38;5;241m0\u001b[39m, im_index)\n",
      "\u001b[0;31mTypeError\u001b[0m: general_to_image_coords() takes 3 positional arguments but 4 were given"
     ]
    }
   ],
   "source": [
    "x, y = exp.general_to_image_coords(edge.begin.pos(0)[0], edge.begin.pos(0)[1], 0)\n",
    "im_index = exp.find_im_indexes(x, y, 0)\n",
    "image = exp.get_image(0, im_index)"
   ]
  },
  {
   "cell_type": "code",
   "execution_count": null,
   "id": "d407a8f1",
   "metadata": {},
   "outputs": [],
   "source": []
  }
 ],
 "metadata": {
  "kernelspec": {
   "display_name": "Python 3 (ipykernel)",
   "language": "python",
   "name": "python3"
  },
  "language_info": {
   "codemirror_mode": {
    "name": "ipython",
    "version": 3
   },
   "file_extension": ".py",
   "mimetype": "text/x-python",
   "name": "python",
   "nbconvert_exporter": "python",
   "pygments_lexer": "ipython3",
   "version": "3.8.10"
  }
 },
 "nbformat": 4,
 "nbformat_minor": 5
}

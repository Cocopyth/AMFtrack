{
 "cells": [
  {
   "cell_type": "markdown",
   "id": "79f0d214",
   "metadata": {},
   "source": [
    "# Assess the variance"
   ]
  },
  {
   "cell_type": "markdown",
   "id": "0b19ca3f",
   "metadata": {},
   "source": [
    "The goal of this notebook is to have an approximation of the variance of my measures of width.\n",
    "We still don't know the bias, but we can at least have an approximation of the standard deviation of the measuring process.\\\n",
    "Data:\\\n",
    "For 3 hyphas we took 10 independent pictures (refocussed each time) and measured the width on each image in the same location.\\\n",
    "There is a small hypha (0), a medium (1) and a thick hypha (2).\n",
    "\n",
    "We take as an estimation of the SD, the mean of the experimental SD of the three points."
   ]
  },
  {
   "cell_type": "markdown",
   "id": "7faa5262",
   "metadata": {},
   "source": [
    "## Setup"
   ]
  },
  {
   "cell_type": "code",
   "execution_count": 66,
   "id": "ce4122e9",
   "metadata": {},
   "outputs": [],
   "source": [
    "import os\n",
    "import numpy as np\n",
    "import pandas as pd\n",
    "import json\n",
    "import matplotlib.pyplot as plt\n",
    "from amftrack.util.sys import storage_path\n",
    "from amftrack.util.image_analysis import convert_to_micrometer"
   ]
  },
  {
   "cell_type": "markdown",
   "id": "bdc1d18f",
   "metadata": {},
   "source": [
    "## 1/ Retrieve the widths"
   ]
  },
  {
   "cell_type": "code",
   "execution_count": 67,
   "id": "f38fe520",
   "metadata": {},
   "outputs": [],
   "source": [
    "directory_path = os.path.join(storage_path, \"plate931-measuring-my-error\")\n",
    "sub_directory = [\"error_margin_1\", \"error_margin_2\", \"error_margin_3\"]"
   ]
  },
  {
   "cell_type": "code",
   "execution_count": 68,
   "id": "9138d86c",
   "metadata": {},
   "outputs": [],
   "source": [
    "def is_valid(name):\n",
    "    return \".json\" in name"
   ]
  },
  {
   "cell_type": "code",
   "execution_count": 69,
   "id": "3ca9d1f6",
   "metadata": {},
   "outputs": [],
   "source": [
    "def fetch_data():\n",
    "    d = {}\n",
    "    for i, sub_dir in enumerate(sub_directory):\n",
    "        sub_directory_path = os.path.join(directory_path, sub_dir)\n",
    "        d[f\"hypha{i}\"] = []\n",
    "        for file in os.listdir(sub_directory_path):\n",
    "            if is_valid(file):\n",
    "                path = os.path.join(sub_directory_path, file)\n",
    "                with open(path) as f:\n",
    "                    json_from_file = json.load(f)\n",
    "\n",
    "                for shape in json_from_file[\"shapes\"]:\n",
    "                    if shape[\"label\"] == \"width\":\n",
    "                        point1 = shape[\"points\"][0]\n",
    "                        point2 = shape[\"points\"][1]\n",
    "                        width_pix = np.linalg.norm(np.array(point1) - np.array(point2))\n",
    "                        width_micro = convert_to_micrometer(\n",
    "                            width_pix, magnification=100\n",
    "                        )\n",
    "                        d[f\"hypha{i}\"].append(width_micro)\n",
    "    return d"
   ]
  },
  {
   "cell_type": "code",
   "execution_count": 70,
   "id": "4e5f40d2",
   "metadata": {},
   "outputs": [],
   "source": [
    "d = fetch_data()"
   ]
  },
  {
   "cell_type": "code",
   "execution_count": 71,
   "id": "a2e8e77e",
   "metadata": {},
   "outputs": [
    {
     "data": {
      "text/plain": [
       "{'hypha0': [2.7616341409467817,\n",
       "  3.1920062054065816,\n",
       "  3.2629037336329314,\n",
       "  2.95462569869528,\n",
       "  2.746039377283966,\n",
       "  2.7389408995349553,\n",
       "  2.672114491304291,\n",
       "  2.695475175132031,\n",
       "  2.8685699741183814,\n",
       "  2.5898305392867353],\n",
       " 'hypha1': [4.965420560747658,\n",
       "  4.831131311821912,\n",
       "  4.809748696756577,\n",
       "  4.776996794302995,\n",
       "  4.768375178626406,\n",
       "  4.64622771719166,\n",
       "  4.342867452324414,\n",
       "  4.985475598415686,\n",
       "  4.779777003305683,\n",
       "  4.813366805054443],\n",
       " 'hypha2': [6.420452920353775,\n",
       "  6.278772871307923,\n",
       "  6.668000555260827,\n",
       "  6.471591639396562,\n",
       "  7.058323883895551,\n",
       "  6.3377854057846275,\n",
       "  6.384980439015582,\n",
       "  6.513192384424325,\n",
       "  6.142320354199297,\n",
       "  6.625436179622754]}"
      ]
     },
     "execution_count": 71,
     "metadata": {},
     "output_type": "execute_result"
    }
   ],
   "source": [
    "d"
   ]
  },
  {
   "cell_type": "markdown",
   "id": "06f48f99",
   "metadata": {},
   "source": [
    "## 2/ Analysis of the variance"
   ]
  },
  {
   "cell_type": "code",
   "execution_count": 72,
   "id": "c1661230",
   "metadata": {},
   "outputs": [],
   "source": [
    "standard_deviations = []\n",
    "mean = []\n",
    "for i in range(3):\n",
    "    key = f\"hypha{i}\"\n",
    "    values = np.array(d[key])\n",
    "    standard_deviations.append(np.std(values, ddof=1))\n",
    "    mean.append(np.mean(d[key]))"
   ]
  },
  {
   "cell_type": "code",
   "execution_count": 73,
   "id": "4f62124f",
   "metadata": {},
   "outputs": [
    {
     "data": {
      "text/plain": [
       "[0.2243204566243853, 0.17940890453640998, 0.2535150877937952]"
      ]
     },
     "execution_count": 73,
     "metadata": {},
     "output_type": "execute_result"
    }
   ],
   "source": [
    "standard_deviations"
   ]
  },
  {
   "cell_type": "code",
   "execution_count": 74,
   "id": "2cd11997",
   "metadata": {},
   "outputs": [],
   "source": [
    "SD = np.mean(deviations)"
   ]
  },
  {
   "cell_type": "code",
   "execution_count": 75,
   "id": "23fd99c4",
   "metadata": {},
   "outputs": [
    {
     "data": {
      "text/plain": [
       "0.22"
      ]
     },
     "execution_count": 75,
     "metadata": {},
     "output_type": "execute_result"
    }
   ],
   "source": [
    "SD.round(2)"
   ]
  },
  {
   "cell_type": "markdown",
   "id": "d1f3683a",
   "metadata": {},
   "source": [
    "## 3/ Plots"
   ]
  },
  {
   "cell_type": "code",
   "execution_count": 77,
   "id": "d5249faf",
   "metadata": {},
   "outputs": [
    {
     "data": {
      "text/plain": [
       "[]"
      ]
     },
     "execution_count": 77,
     "metadata": {},
     "output_type": "execute_result"
    },
    {
     "data": {
      "image/png": "[encoded data removed]",
      "text/plain": [
       "<Figure size 432x288 with 1 Axes>"
      ]
     },
     "metadata": {
      "needs_background": "light"
     },
     "output_type": "display_data"
    }
   ],
   "source": [
    "ax = plt.gca()\n",
    "ax.set_ylim([0, 10])\n",
    "plt.errorbar([0, 1, 2], mean, standard_deviations)\n",
    "plt.plot()"
   ]
  },
  {
   "cell_type": "code",
   "execution_count": 78,
   "id": "a216f840",
   "metadata": {},
   "outputs": [
    {
     "data": {
      "image/png": "[encoded data removed]",
      "text/plain": [
       "<Figure size 432x288 with 1 Axes>"
      ]
     },
     "metadata": {
      "needs_background": "light"
     },
     "output_type": "display_data"
    }
   ],
   "source": [
    "ax = plt.gca()\n",
    "ax.set_ylim([0, 10])\n",
    "plt.errorbar([0, 1, 2], mean, standard_deviations)\n",
    "plt.plot()\n",
    "for i in range(3):\n",
    "    for width in d[f\"hypha{i}\"]:\n",
    "        plt.plot(i, width, marker=\"x\", color=\"red\")"
   ]
  }
 ],
 "metadata": {
  "kernelspec": {
   "display_name": "Python 3 (ipykernel)",
   "language": "python",
   "name": "python3"
  },
  "language_info": {
   "codemirror_mode": {
    "name": "ipython",
    "version": 3
   },
   "file_extension": ".py",
   "mimetype": "text/x-python",
   "name": "python",
   "nbconvert_exporter": "python",
   "pygments_lexer": "ipython3",
   "version": "3.8.0"
  }
 },
 "nbformat": 4,
 "nbformat_minor": 5
}

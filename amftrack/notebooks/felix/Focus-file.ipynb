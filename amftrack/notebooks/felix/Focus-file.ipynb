{
 "cells": [
  {
   "cell_type": "markdown",
   "id": "3456a546",
   "metadata": {},
   "source": [
    "# Focus file"
   ]
  },
  {
   "cell_type": "markdown",
   "id": "5c6578eb",
   "metadata": {},
   "source": [
    "This notebook is used to create a new focus file from an original focus file by incrementing the Z position of a certain amount"
   ]
  },
  {
   "cell_type": "code",
   "execution_count": 1,
   "id": "d8445bdf",
   "metadata": {},
   "outputs": [],
   "source": [
    "import os"
   ]
  },
  {
   "cell_type": "code",
   "execution_count": 2,
   "id": "4792d849",
   "metadata": {},
   "outputs": [],
   "source": [
    "focus_file = \"/media/kahane/AMFtopology02/storage/try-different-focuses/Prince_plates_metadata_With_ZPosition_20220613T175520.prince\""
   ]
  },
  {
   "cell_type": "code",
   "execution_count": 10,
   "id": "54867430",
   "metadata": {},
   "outputs": [],
   "source": [
    "def increment_file(focus_file, output_directory, delta = 0.1):\n",
    "    # opening the file in read mode\n",
    "    file = open(focus_file, \"r\", encoding=\"UTF-16\")\n",
    "    replacement = \"\"\n",
    "    # using the for loop\n",
    "    for line in file:\n",
    "        line = line.strip()\n",
    "        if \"<Z>\" in line:\n",
    "            start, rest = line.split(\"<Z>\")\n",
    "            middle, end = rest.split(\"</Z>\")\n",
    "            changes = start + \"<Z>\" + str(float(middle) + delta) + \"</Z>\"\n",
    "        else:\n",
    "            changes = line\n",
    "        replacement = replacement + changes + \"\\n\"\n",
    "\n",
    "    # opening the file in write mode\n",
    "    fout = open(os.path.join(output_directory, f'focus{delta}.prince'), \"wb\")\n",
    "    fout.write(replacement.encode('utf16'))\n",
    "    fout.close()"
   ]
  },
  {
   "cell_type": "code",
   "execution_count": 11,
   "id": "47d5aed7",
   "metadata": {},
   "outputs": [],
   "source": [
    "target_dir = \"/media/kahane/AMFtopology02/storage/try-different-focuses-2\"\n",
    "for delta in [-0.5, -0.4, -0.3, -0.2, -0.1, 0, 0.1, 0.2, 0.3, 0.4, 0.5]:\n",
    "    increment_file(focus_file, target_dir, delta)"
   ]
  }
 ],
 "metadata": {
  "kernelspec": {
   "display_name": "Python 3",
   "language": "python",
   "name": "python3"
  },
  "language_info": {
   "codemirror_mode": {
    "name": "ipython",
    "version": 3
   },
   "file_extension": ".py",
   "mimetype": "text/x-python",
   "name": "python",
   "nbconvert_exporter": "python",
   "pygments_lexer": "ipython3",
   "version": "3.7.9"
  }
 },
 "nbformat": 4,
 "nbformat_minor": 5
}

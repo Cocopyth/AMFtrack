{
 "cells": [
  {
   "cell_type": "markdown",
   "id": "3456a546",
   "metadata": {},
   "source": [
    "# Focus file"
   ]
  },
  {
   "cell_type": "markdown",
   "id": "5c6578eb",
   "metadata": {},
   "source": [
    "This notebook is used to create a new focus file from an original focus file by incrementing the Z position of a certain amount"
   ]
  },
  {
   "cell_type": "code",
   "execution_count": 2,
   "id": "d8445bdf",
   "metadata": {},
   "outputs": [],
   "source": [
    "import os"
   ]
  },
  {
   "cell_type": "code",
   "execution_count": 3,
   "id": "4792d849",
   "metadata": {},
   "outputs": [],
   "source": [
    "focus_file = \"/media/kahane/AMFtopology02/storage/try-different-focuses/Prince_plates_metadata_With_ZPosition_20220613T175520.prince\"\n",
    "focus_file = (\n",
    "    r\"C:\\Users\\coren\\AMOLF-SHIMIZU Dropbox\\Corentin Bisot\\temp\\CARBON_AUTOFOCUS.prince\"\n",
    ")\n",
    "focus_file = \"/mnt/sun/shimizu-data/group-folder/Felix/Prince_plates_metadata_With_ZPosition_20220714T122943.prince\""
   ]
  },
  {
   "cell_type": "code",
   "execution_count": 5,
   "id": "54867430",
   "metadata": {},
   "outputs": [],
   "source": [
    "def increment_file(focus_file, output_directory, delta=0.1):\n",
    "    # opening the file in read mode\n",
    "    file = open(focus_file, \"r\", encoding=\"UTF-16\")\n",
    "    replacement = \"\"\n",
    "    # using the for loop\n",
    "    for line in file:\n",
    "        line = line.strip()\n",
    "        if \"<Z>\" in line:\n",
    "            start, rest = line.split(\"<Z>\")\n",
    "            middle, end = rest.split(\"</Z>\")\n",
    "            changes = start + \"<Z>\" + str(float(middle) + delta) + \"</Z>\"\n",
    "        else:\n",
    "            changes = line\n",
    "        replacement = replacement + changes + \"\\n\"\n",
    "\n",
    "    # opening the file in write mode\n",
    "    fout = open(os.path.join(output_directory, f\"focus{delta}.prince\"), \"wb\")\n",
    "    fout.write(replacement.encode(\"utf16\"))\n",
    "    fout.close()"
   ]
  },
  {
   "cell_type": "code",
   "execution_count": null,
   "id": "47d5aed7",
   "metadata": {},
   "outputs": [],
   "source": [
    "target_dir = \"/mnt/sun/shimizu-data/group-folder/Felix/Plate18_focuses\"\n",
    "for delta in [-0.5, -0.4, -0.3, -0.2, -0.1, 0, 0.1, 0.2, 0.3, 0.4, 0.5]:\n",
    "    increment_file(focus_file, target_dir, delta)"
   ]
  },
  {
   "cell_type": "code",
   "execution_count": 5,
   "id": "42f551e9-75dd-4aca-bc77-75378c5b8c9c",
   "metadata": {
    "tags": []
   },
   "outputs": [],
   "source": [
    "def fixed_focus(focus_file, prince_positions, output_directory):\n",
    "    file = open(focus_file, \"r\", encoding=\"UTF-16\")\n",
    "    replacement = \"\"\n",
    "    # using the for loop\n",
    "    prince_pos = \"00\"\n",
    "    for line in file:\n",
    "        line = line.strip()\n",
    "        if \"Plate #\" in line:\n",
    "            prince_pos = int(line.split(\"Plate #\")[1][:2])\n",
    "            print(int(prince_pos))\n",
    "        if prince_pos in prince_positions.keys():\n",
    "            if \"<Z>\" in line:\n",
    "                start, rest = line.split(\"<Z>\")\n",
    "                middle, end = rest.split(\"</Z>\")\n",
    "                changes = (\n",
    "                    start + \"<Z>\" + str(float(prince_positions[prince_pos])) + \"</Z>\"\n",
    "                )\n",
    "                # print(changes)\n",
    "            else:\n",
    "                changes = line\n",
    "        else:\n",
    "            changes = line\n",
    "        replacement = replacement + changes + \"\\n\"\n",
    "    fout = open(os.path.join(output_directory, f\"focus.prince\"), \"wb\")\n",
    "    fout.write(replacement.encode(\"utf16\"))\n",
    "    fout.close()"
   ]
  },
  {
   "cell_type": "code",
   "execution_count": 9,
   "id": "cff6213b-d64c-44b2-9dae-ddc2ab57d4f7",
   "metadata": {},
   "outputs": [],
   "source": [
    "prince_positions = {\n",
    "    3: 2.1,\n",
    "    7: 1.8,\n",
    "    8: 0.6,\n",
    "    11: 2.0,\n",
    "    13: 1.6,\n",
    "    32: 1.9,\n",
    "    34: 1.7,\n",
    "    4: 1.6,\n",
    "    6: 1.5,\n",
    "    12: 1.9,\n",
    "    14: 1.7,\n",
    "    31: 1.8,\n",
    "    17: 1.7,\n",
    "    18: 1.7,\n",
    "    19: 1.7,\n",
    "}"
   ]
  },
  {
   "cell_type": "code",
   "execution_count": 10,
   "id": "965f46c3-9cd6-4824-b4b8-3f8808a72951",
   "metadata": {},
   "outputs": [],
   "source": [
    "target_dir = r\"C:\\Users\\coren\\AMOLF-SHIMIZU Dropbox\\Corentin Bisot\\temp\""
   ]
  },
  {
   "cell_type": "code",
   "execution_count": 11,
   "id": "df26c00d-c367-4fda-ab48-4fd8cd8ad5ae",
   "metadata": {
    "collapsed": true,
    "jupyter": {
     "outputs_hidden": true
    },
    "tags": []
   },
   "outputs": [
    {
     "name": "stdout",
     "output_type": "stream",
     "text": [
      "1\n",
      "2\n",
      "3\n",
      "4\n",
      "5\n",
      "6\n",
      "7\n",
      "8\n",
      "9\n",
      "10\n",
      "11\n",
      "12\n",
      "13\n",
      "14\n",
      "15\n",
      "16\n",
      "17\n",
      "18\n",
      "19\n",
      "20\n",
      "21\n",
      "22\n",
      "23\n",
      "24\n",
      "25\n",
      "26\n",
      "27\n",
      "28\n",
      "29\n",
      "30\n",
      "31\n",
      "32\n",
      "33\n",
      "34\n",
      "35\n",
      "36\n",
      "37\n",
      "38\n",
      "39\n",
      "40\n"
     ]
    }
   ],
   "source": [
    "fixed_focus(focus_file, prince_positions, target_dir)"
   ]
  }
 ],
 "metadata": {
  "kernelspec": {
   "display_name": "Python 3.8.10 64-bit",
   "language": "python",
   "name": "python3"
  },
  "language_info": {
   "codemirror_mode": {
    "name": "ipython",
    "version": 3
   },
   "file_extension": ".py",
   "mimetype": "text/x-python",
   "name": "python",
   "nbconvert_exporter": "python",
   "pygments_lexer": "ipython3",
   "version": "3.8.10"
  },
  "vscode": {
   "interpreter": {
    "hash": "31f2aee4e71d21fbe5cf8b01ff0e069b9275f58929596ceb00d14d90e3e16cd6"
   }
  }
 },
 "nbformat": 4,
 "nbformat_minor": 5
}

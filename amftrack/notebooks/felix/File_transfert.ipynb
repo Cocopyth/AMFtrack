{
 "cells": [
  {
   "cell_type": "markdown",
   "id": "5c25ed23",
   "metadata": {},
   "source": [
    "# File transfer"
   ]
  },
  {
   "cell_type": "markdown",
   "id": "a8e3a283",
   "metadata": {},
   "source": [
    "Useful code snippets to move files around."
   ]
  },
  {
   "cell_type": "code",
   "execution_count": null,
   "id": "215b7a3e",
   "metadata": {},
   "outputs": [],
   "source": [
    "import shutil\n",
    "import subprocess\n",
    "from amftrack.util.sys import storage_path"
   ]
  },
  {
   "cell_type": "markdown",
   "id": "23affb7c",
   "metadata": {},
   "source": [
    "## Making videos"
   ]
  },
  {
   "cell_type": "code",
   "execution_count": null,
   "id": "32231bd3",
   "metadata": {},
   "outputs": [],
   "source": [
    "def is_valid(file_name):\n",
    "    if \"video\" in file_name:\n",
    "        return True\n",
    "\n",
    "files = []\n",
    "directory_path = \"/media/kahane/AMFtopology02/storage/plate931-anastomosis\"\n",
    "for file in os.listdir(directory_path):\n",
    "    if is_valid(file):\n",
    "        files.append(os.path.join(directory_path, file))\n",
    "files.sort()"
   ]
  },
  {
   "cell_type": "code",
   "execution_count": null,
   "id": "8b10f4b2",
   "metadata": {},
   "outputs": [],
   "source": [
    "def generate_video(path):\n",
    "    os.chdir(os.path.join(path, \"Img\"))\n",
    "    command = \"\"\"ffmpeg -framerate 20 -pattern_type glob -i *.tiff -c:v libx264 -pix_fmt yuv420p flow_video.mp4\"\"\".split(\" \")\n",
    "    #print(os.getcwd())\n",
    "    #subprocess.run([\"ls\", \"-l\"])\n",
    "    print(f\"Handling directory {path}\")\n",
    "    subprocess.run(command)"
   ]
  },
  {
   "cell_type": "code",
   "execution_count": null,
   "id": "4f973b03",
   "metadata": {},
   "outputs": [],
   "source": [
    "for i in range(len(files)):\n",
    "    generate_video(files[i])"
   ]
  },
  {
   "cell_type": "markdown",
   "id": "1f760f3a",
   "metadata": {},
   "source": [
    "## Moving files around"
   ]
  },
  {
   "cell_type": "code",
   "execution_count": null,
   "id": "0858d695",
   "metadata": {},
   "outputs": [],
   "source": [
    "for directory in files:\n",
    "    source = os.path.join(directory, \"Img\", \"flow_video.mp4\")\n",
    "    target = os.path.join(\"/media/kahane/AMFtopology02/storage/transport-videos-907\", os.path.basename(directory) + \".mp4\")\n",
    "    shutil.copyfile(source, target)"
   ]
  }
 ],
 "metadata": {
  "kernelspec": {
   "display_name": "Python 3 (ipykernel)",
   "language": "python",
   "name": "python3"
  },
  "language_info": {
   "codemirror_mode": {
    "name": "ipython",
    "version": 3
   },
   "file_extension": ".py",
   "mimetype": "text/x-python",
   "name": "python",
   "nbconvert_exporter": "python",
   "pygments_lexer": "ipython3",
   "version": "3.8.10"
  }
 },
 "nbformat": 4,
 "nbformat_minor": 5
}

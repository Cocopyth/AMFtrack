{
 "cells": [
  {
   "cell_type": "code",
   "execution_count": 1,
   "metadata": {},
   "outputs": [],
   "source": [
    "%matplotlib widget\n",
    "\n",
    "import os\n",
    "import sys\n",
    "\n",
    "sys.path.insert(0, os.getenv(\"HOME\") + \"/pycode/MscThesis/\")\n",
    "import pandas as pd\n",
    "from amftrack.util.sys import (\n",
    "    get_dates_datetime,\n",
    "    get_dirname,\n",
    "    temp_path,\n",
    "    get_plate_number,\n",
    "    get_postion_number,\n",
    "    get_begin_index,\n",
    ")\n",
    "import ast\n",
    "from amftrack.plotutil import plot_t_tp1\n",
    "from scipy import sparse\n",
    "from datetime import datetime\n",
    "from amftrack.pipeline.functions.node_id import orient\n",
    "import pickle\n",
    "import scipy.io as sio\n",
    "from pymatreader import read_mat\n",
    "from matplotlib import colors\n",
    "import cv2\n",
    "import imageio\n",
    "import matplotlib.pyplot as plt\n",
    "import numpy as np\n",
    "from skimage.filters import frangi\n",
    "from skimage import filters\n",
    "from random import choice\n",
    "import scipy.sparse\n",
    "import os\n",
    "from amftrack.pipeline.functions.extract_graph import (\n",
    "    from_sparse_to_graph,\n",
    "    generate_nx_graph,\n",
    "    sparse_to_doc,\n",
    ")\n",
    "from skimage.feature import hessian_matrix_det\n",
    "from amftrack.pipeline.functions.experiment_class_surf import (\n",
    "    Experiment,\n",
    "    Edge,\n",
    "    Node,\n",
    "    Hyphae,\n",
    "    plot_raw_plus,\n",
    ")\n",
    "from amftrack.pipeline.paths.directory import (\n",
    "    run_parallel,\n",
    "    find_state,\n",
    "    directory_scratch,\n",
    "    directory_project,\n",
    ")\n",
    "from amftrack.notebooks.analysis.util import *\n",
    "from scipy import stats\n",
    "from scipy.ndimage.filters import uniform_filter1d\n",
    "from statsmodels.stats import weightstats as stests\n",
    "from amftrack.pipeline.functions.hyphae_id_surf import get_pixel_growth_and_new_children\n",
    "from collections import Counter\n",
    "from IPython.display import clear_output\n",
    "from amftrack.notebooks.analysis.data_info import *\n",
    "from IPython.core.interactiveshell import InteractiveShell\n",
    "\n",
    "InteractiveShell.ast_node_interactivity = \"all\"\n",
    "plt.rcParams.update(\n",
    "    {\"font.family\": \"verdana\", \"font.weight\": \"normal\", \"font.size\": 20}\n",
    ")\n",
    "from amftrack.plotutil import plot_node_skel"
   ]
  },
  {
   "cell_type": "code",
   "execution_count": 2,
   "metadata": {},
   "outputs": [
    {
     "name": "stdout",
     "output_type": "stream",
     "text": [
      "begin = 2021-08-18 13:24:00 \n",
      "  end = 2021-08-23 15:24:00\n"
     ]
    }
   ],
   "source": [
    "lapse = 60\n",
    "exp = get_exp((38, 131, 131 + lapse), directory_project)"
   ]
  },
  {
   "cell_type": "code",
   "execution_count": 3,
   "metadata": {},
   "outputs": [],
   "source": [
    "exp2 = Experiment(38, directory_project)\n",
    "exp2.copy(exp)"
   ]
  },
  {
   "cell_type": "code",
   "execution_count": 4,
   "metadata": {},
   "outputs": [],
   "source": [
    "exp = exp2"
   ]
  },
  {
   "cell_type": "code",
   "execution_count": 5,
   "metadata": {},
   "outputs": [],
   "source": [
    "def transform_skeleton_final_for_show(skeleton_doc, Rot, trans):\n",
    "    skeleton_transformed = {}\n",
    "    transformed_keys = np.round(\n",
    "        np.transpose(np.dot(Rot, np.transpose(np.array(list(skeleton_doc.keys())))))\n",
    "        + trans\n",
    "    ).astype(np.int)\n",
    "    i = 0\n",
    "    for pixel in list(transformed_keys):\n",
    "        i += 1\n",
    "        skeleton_transformed[(pixel[0], pixel[1])] = 1\n",
    "    skeleton_transformed_sparse = sparse.lil_matrix((27000, 60000))\n",
    "    for pixel in list(skeleton_transformed.keys()):\n",
    "        i += 1\n",
    "        skeleton_transformed_sparse[(pixel[0], pixel[1])] = 1\n",
    "    return skeleton_transformed_sparse\n",
    "\n",
    "\n",
    "def get_skeleton_non_aligned(exp, boundaries, t, directory):\n",
    "    i = t\n",
    "    plate = exp.plate\n",
    "    listdir = os.listdir(directory)\n",
    "    dates = exp.dates\n",
    "    date = dates[i]\n",
    "    directory_name = get_dirname(date, plate)\n",
    "    path_snap = directory + directory_name\n",
    "    skel = read_mat(path_snap + \"/Analysis/skeleton.mat\")\n",
    "    skelet = skel[\"skeleton\"]\n",
    "    skelet = sparse_to_doc(skelet)\n",
    "    #     Rot= skel['R']\n",
    "    #     trans = skel['t']\n",
    "    skel_aligned = transform_skeleton_final_for_show(\n",
    "        skelet, np.array([[1, 0], [0, 1]]), np.array([0, 0])\n",
    "    )\n",
    "    output = skel_aligned[\n",
    "        boundaries[2] : boundaries[3], boundaries[0] : boundaries[1]\n",
    "    ].todense()\n",
    "    kernel = np.ones((5, 5), np.uint8)\n",
    "    output = cv2.dilate(output.astype(np.uint8), kernel, iterations=1)\n",
    "    return output"
   ]
  },
  {
   "cell_type": "code",
   "execution_count": 12,
   "metadata": {},
   "outputs": [],
   "source": [
    "from amftrack.util.sys import get_skeleton\n",
    "\n",
    "\n",
    "def plot_raw_plus_random(exp, compress=5, ranges=1000):\n",
    "    t0 = choice(range(exp.ts))\n",
    "    node_ch = choice(\n",
    "        [node for node in exp.nodes if node.is_in(t0) and node.degree(t0) == 1]\n",
    "    )\n",
    "    #     node_ch = choice(exp.nodes)\n",
    "    #     t0 = choice(node_ch.ts())\n",
    "    node_ch.show_source_image(t0, t0 + 1)\n",
    "    for index, t in enumerate([t0, t0 + 1]):\n",
    "        date = exp.dates[t]\n",
    "        anchor_time = t0\n",
    "        center = node_ch.pos(anchor_time)[1], node_ch.pos(anchor_time)[0]\n",
    "        window = (\n",
    "            center[0] - ranges,\n",
    "            center[0] + ranges,\n",
    "            center[1] - ranges,\n",
    "            center[1] + ranges,\n",
    "        )\n",
    "        skelet = get_skeleton_non_aligned(exp, window, t, exp.directory)\n",
    "        tips = [\n",
    "            node.label\n",
    "            for node in exp.nodes\n",
    "            if t in node.ts()\n",
    "            and node.degree(t) == 1\n",
    "            and node.pos(t)[1] >= window[0] - ranges\n",
    "            and node.pos(t)[1] <= window[1] + ranges\n",
    "            and node.pos(t)[0] >= window[2] - ranges\n",
    "            and node.pos(t)[0] <= window[3] + ranges\n",
    "        ]\n",
    "        junction = [\n",
    "            node.label\n",
    "            for node in exp.nodes\n",
    "            if t in node.ts()\n",
    "            and node.degree(t) >= 2\n",
    "            and node.pos(t)[1] >= window[0] - ranges\n",
    "            and node.pos(t)[1] <= window[1] + ranges\n",
    "            and node.pos(t)[0] >= window[2] - ranges\n",
    "            and node.pos(t)[0] <= window[3] + ranges\n",
    "        ]\n",
    "        directory_name = get_dirname(date, exp.plate)\n",
    "        path_snap = exp.directory + directory_name\n",
    "        skel = read_mat(path_snap + \"/Analysis/skeleton_pruned_realigned.mat\")\n",
    "        Rot = skel[\"R\"]\n",
    "        trans = skel[\"t\"]\n",
    "        im = read_mat(path_snap + \"/Analysis/raw_image.mat\")[\"raw\"]\n",
    "        size = 8\n",
    "        fig = plt.figure(figsize=(9, 9))\n",
    "        ax = fig.add_subplot(111)\n",
    "        ax.imshow(\n",
    "            im[\n",
    "                (window[2] // compress) : (window[3] // compress),\n",
    "                (window[0] // compress) : (window[1] // compress),\n",
    "            ]\n",
    "        )\n",
    "        ax.imshow(\n",
    "            cv2.resize(skelet, (2 * ranges // compress, 2 * ranges // compress)),\n",
    "            alpha=0.2,\n",
    "        )\n",
    "        shift = (window[2], window[0])\n",
    "        greys = [1, 0.5]\n",
    "        for i, node_list in enumerate([tips, junction]):\n",
    "            grey = greys[i]\n",
    "            bbox = dict(boxstyle=\"circle\", fc=colors.rgb2hex((grey, grey, grey)))\n",
    "            #             ax.text(right, top, time,\n",
    "            #                 horizontalalignment='right',\n",
    "            #                 verticalalignment='bottom',\n",
    "            #                 transform=ax.transAxes,color='white')\n",
    "            for node in node_list:\n",
    "                #                     print(self.positions[ts[i]])\n",
    "                if node in exp.positions[t].keys():\n",
    "                    xs, ys = exp.positions[t][node]\n",
    "                    rottrans = np.dot(np.linalg.inv(Rot), np.array([xs, ys] - trans))\n",
    "                    ys, xs = round(rottrans[0]), round(rottrans[1])\n",
    "                    tex = ax.text(\n",
    "                        (xs - shift[1]) // compress,\n",
    "                        (ys - shift[0]) // compress,\n",
    "                        str(node),\n",
    "                        ha=\"center\",\n",
    "                        va=\"center\",\n",
    "                        size=size,\n",
    "                        bbox=bbox,\n",
    "                    )\n",
    "        plt.show()"
   ]
  },
  {
   "cell_type": "code",
   "execution_count": 15,
   "metadata": {},
   "outputs": [
    {
     "data": {
      "application/vnd.jupyter.widget-view+json": {
       "model_id": "9177029b49d549f2a68450f7c628b61f",
       "version_major": 2,
       "version_minor": 0
      },
      "text/plain": [
       "Canvas(toolbar=Toolbar(toolitems=[('Home', 'Reset original view', 'home', 'home'), ('Back', 'Back to previous …"
      ]
     },
     "metadata": {},
     "output_type": "display_data"
    },
    {
     "data": {
      "application/vnd.jupyter.widget-view+json": {
       "model_id": "25c07224b1594a3b829dc0f4b95bbc34",
       "version_major": 2,
       "version_minor": 0
      },
      "text/plain": [
       "Canvas(toolbar=Toolbar(toolitems=[('Home', 'Reset original view', 'home', 'home'), ('Back', 'Back to previous …"
      ]
     },
     "metadata": {},
     "output_type": "display_data"
    },
    {
     "data": {
      "application/vnd.jupyter.widget-view+json": {
       "model_id": "d0b395f7c7c34331b7878f805e00c28f",
       "version_major": 2,
       "version_minor": 0
      },
      "text/plain": [
       "Canvas(toolbar=Toolbar(toolitems=[('Home', 'Reset original view', 'home', 'home'), ('Back', 'Back to previous …"
      ]
     },
     "metadata": {},
     "output_type": "display_data"
    }
   ],
   "source": [
    "plt.close(\"all\")\n",
    "plot_raw_plus_random(exp, compress=5, ranges=700)"
   ]
  },
  {
   "cell_type": "code",
   "execution_count": null,
   "metadata": {},
   "outputs": [],
   "source": []
  }
 ],
 "metadata": {
  "kernelspec": {
   "display_name": "Python 3 (ipykernel)",
   "language": "python",
   "name": "python3"
  },
  "language_info": {
   "codemirror_mode": {
    "name": "ipython",
    "version": 3
   },
   "file_extension": ".py",
   "mimetype": "text/x-python",
   "name": "python",
   "nbconvert_exporter": "python",
   "pygments_lexer": "ipython3",
   "version": "3.7.11"
  }
 },
 "nbformat": 4,
 "nbformat_minor": 4
}

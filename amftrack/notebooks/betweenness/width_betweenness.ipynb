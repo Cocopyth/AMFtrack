{
 "cells": [
  {
   "cell_type": "code",
   "execution_count": null,
   "id": "eff8b9c3-3ece-4469-9103-5eab5d2c94c5",
   "metadata": {
    "jupyter": {
     "outputs_hidden": true
    },
    "tags": []
   },
   "outputs": [],
   "source": [
    "%load_ext autoreload\n",
    "%matplotlib widget\n",
    "%autoreload 2\n",
    "from amftrack.pipeline.launching.run_super import (\n",
    "    run_launcher,\n",
    "    directory_scratch,\n",
    "    directory_project,\n",
    "    directory_project,\n",
    "    run_parallel_stitch,\n",
    "    run_parallel_transfer,\n",
    ")\n",
    "import os\n",
    "from amftrack.util.sys import (\n",
    "    get_dates_datetime,\n",
    "    get_dirname,\n",
    "    temp_path,\n",
    "    get_data_info,\n",
    "    update_plate_info,\n",
    "    update_analysis_info,\n",
    "    get_analysis_info,\n",
    "    get_current_folders,\n",
    "    get_folders_by_plate_id,\n",
    ")\n",
    "from time import time_ns\n",
    "from amftrack.util.dbx import upload_folders, load_dbx, download, get_dropbox_folders_prince\n",
    "from datetime import datetime\n",
    "\n",
    "from amftrack.pipeline.functions.image_processing.experiment_class_surf import (\n",
    "    load_graphs,\n",
    ")\n",
    "from amftrack.pipeline.functions.post_processing.extract_study_zone import (\n",
    "    load_study_zone,\n",
    ")\n",
    "from amftrack.pipeline.functions.image_processing.experiment_util import (\n",
    "    get_random_edge,\n",
    "    distance_point_edge,\n",
    "    plot_edge,\n",
    "    plot_edge_cropped,\n",
    "    find_nearest_edge,\n",
    "    get_edge_from_node_labels,\n",
    "    plot_full_image_with_features,\n",
    "    get_all_edges,\n",
    "    get_all_nodes,\n",
    "    find_neighboring_edges,\n",
    "    reconstruct_image,\n",
    "    reconstruct_skeletton_from_edges,\n",
    "    reconstruct_skeletton_unicolor,\n",
    "    plot_edge_color_value,\n",
    "    reconstruct_image_from_general,\n",
    "    plot_full,\n",
    "    find_nearest_edge,\n",
    ")\n",
    "from amftrack.pipeline.functions.image_processing.extract_width_fun import (\n",
    "    get_width_info,\n",
    "    get_width_info_new,\n",
    ")\n",
    "import matplotlib.pyplot as plt\n",
    "from amftrack.pipeline.functions.image_processing.experiment_class_surf import (\n",
    "    Experiment,\n",
    "    save_graphs,\n",
    ")\n",
    "import pandas as pd\n",
    "from amftrack.pipeline.functions.spore_processing.spore_id import make_spore_data\n",
    "from amftrack.pipeline.functions.image_processing.hyphae_id_surf import (\n",
    "    resolve_anastomosis_crossing_by_root,\n",
    ")\n",
    "from amftrack.pipeline.functions.post_processing.time_hypha import *\n",
    "from amftrack.pipeline.functions.image_processing.experiment_class_surf import (\n",
    "    Node,\n",
    "    Edge,\n",
    "    Hyphae,\n",
    ")\n",
    "from datetime import datetime\n",
    "from matplotlib import cm\n",
    "from amftrack.pipeline.functions.post_processing.extract_study_zone import (\n",
    "    load_study_zone,\n",
    ")\n",
    "from IPython.display import clear_output\n",
    "from amftrack.pipeline.functions.post_processing.exp_plot import *"
   ]
  },
  {
   "cell_type": "code",
   "execution_count": null,
   "id": "c7a5a865-d993-450e-9094-6bc8e7aec9f1",
   "metadata": {
    "tags": []
   },
   "outputs": [],
   "source": [
    "plates = [\"310_20230830\"]\n",
    "directory_targ = directory_project\n",
    "# update_analysis_info(directory_targ)\n",
    "# analysis_info = get_analysis_info(directory_targ)\n",
    "# analysis_folders = analysis_info.loc[analysis_info[\"unique_id\"].isin(plates)]\n",
    "update_plate_info(directory_targ, local=True)\n",
    "all_folders = get_current_folders(directory_targ, local=True)"
   ]
  },
  {
   "cell_type": "code",
   "execution_count": null,
   "id": "35ae6d46-1f73-4147-b064-4ec85c1e14d4",
   "metadata": {
    "tags": []
   },
   "outputs": [],
   "source": [
    "folders = all_folders.loc[all_folders[\"unique_id\"] == \"310_20230830\"]\n",
    "folders = folders.sort_values(by=\"datetime\")\n",
    "folders = folders.iloc[50:52]\n",
    "folders"
   ]
  },
  {
   "cell_type": "code",
   "execution_count": null,
   "id": "763facba-ee54-4b95-8697-1dddd8f47819",
   "metadata": {
    "tags": []
   },
   "outputs": [],
   "source": [
    "# folders = all_folders.loc[all_folders[\"unique_id\"] == \"1045_20220504\"]\n",
    "# folders = folders.sort_values(by=\"datetime\")\n",
    "# folders = folders.iloc[60:62]\n",
    "\n",
    "exp = Experiment(directory_targ)\n",
    "exp.load(folders)\n",
    "exp.dates.sort()\n",
    "for t in range(len(folders)):\n",
    "    exp.load_tile_information(t)"
   ]
  },
  {
   "cell_type": "code",
   "execution_count": null,
   "id": "bfc29cbb-fa74-41cd-89b4-b61763c8c6d0",
   "metadata": {},
   "outputs": [],
   "source": [
    "edges = get_all_edges(exp, t)\n",
    "edges[10].width(t)"
   ]
  },
  {
   "cell_type": "code",
   "execution_count": null,
   "id": "f2c99924-ddb1-467a-a987-5788e6ec4c6b",
   "metadata": {
    "tags": []
   },
   "outputs": [],
   "source": [
    "plt.close(\"all\")\n",
    "t = 0\n",
    "vmax = 0\n",
    "vmin = 7\n",
    "ax = plot_edge_color_value(\n",
    "    exp,\n",
    "    t,\n",
    "    lambda edge: edge.width(t),\n",
    "    cmap=cm.get_cmap(\"viridis\", 100),\n",
    "    v_min=vmin,\n",
    "    v_max=vmax,\n",
    "    plot_cmap=True,\n",
    "    show_background=True,\n",
    "    dilation=20,\n",
    "    figsize=(12, 8),\n",
    "    label_colorbar=\"log CFBC\",\n",
    ")"
   ]
  },
  {
   "cell_type": "code",
   "execution_count": null,
   "id": "ffb522a7-608e-4d9b-937e-c4c39d3bf0b0",
   "metadata": {
    "tags": []
   },
   "outputs": [],
   "source": [
    "vmax = 10\n",
    "vmin = 2\n",
    "plot_edge_color_value(\n",
    "    exp,\n",
    "    t,\n",
    "    lambda edge: edge.width(t),\n",
    "    cmap=cm.get_cmap(\"viridis\", 100),\n",
    "    v_min=vmin,\n",
    "    v_max=vmax,\n",
    "    plot_cmap=True,\n",
    "    show_background=False,\n",
    "    dilation=20,\n",
    "    figsize=(12, 8),\n",
    ")\n",
    "# path = r\"/scratch-shared/amftrack/transport/full_picture/\"\n",
    "# file_name = f'width.png'\n",
    "# save_path = os.path.join(path,file_name)\n",
    "# plt.savefig(save_path, dpi=dpi)"
   ]
  },
  {
   "cell_type": "code",
   "execution_count": null,
   "id": "6f04176c-d310-46fe-bb9b-22671a2fd126",
   "metadata": {},
   "outputs": [],
   "source": [
    "t = 20\n",
    "thresh = 10 ** (-6)\n",
    "edges = get_all_edges(exp, t)\n",
    "edges = [\n",
    "    edge\n",
    "    for edge in edges\n",
    "    if edge.width(t) > 7 and edge.current_flow_betweeness(t) > thresh\n",
    "]"
   ]
  },
  {
   "cell_type": "code",
   "execution_count": null,
   "id": "cae8748c-2bbb-42da-93f8-e661f60416e5",
   "metadata": {
    "tags": []
   },
   "outputs": [],
   "source": [
    "edges = [edge for edge in edges if len(edge.ts()) >= 10]\n",
    "# edges = [edge for edge in edges if len(edge.begin.ts())==42]\n",
    "# edges"
   ]
  },
  {
   "cell_type": "code",
   "execution_count": null,
   "id": "2584796c-ff53-41fd-9a56-203b725f533b",
   "metadata": {
    "tags": []
   },
   "outputs": [],
   "source": [
    "# edges = [edge for edge in edges if len(edge.begin.ts())==42]\n",
    "plt.close(\"all\")\n",
    "vmax = 0\n",
    "vmin = 1\n",
    "ax = plot_edge_color_value(\n",
    "    exp,\n",
    "    t,\n",
    "    lambda edge: edge in edges,\n",
    "    cmap=cm.get_cmap(\"viridis\", 100),\n",
    "    v_min=vmin,\n",
    "    v_max=vmax,\n",
    "    plot_cmap=True,\n",
    "    show_background=False,\n",
    "    dilation=20,\n",
    "    figsize=(12, 8),\n",
    "    label_colorbar=\"log CFBC\",\n",
    ")"
   ]
  },
  {
   "cell_type": "code",
   "execution_count": null,
   "id": "bb2858fa-57e3-464f-9180-122cd69a0251",
   "metadata": {},
   "outputs": [],
   "source": [
    "fig, ax = plt.subplots()\n",
    "edge_choice = np.random.choice(edges, 5)\n",
    "for edge in edge_choice:\n",
    "    widths = [edge.width(t) for t in edge.ts()]\n",
    "    ax.plot(edge.ts(), widths)\n",
    "ax2 = ax.twinx()\n",
    "for edge in edge_choice:\n",
    "    cenralities_m = centralities_min[edge.ts()]\n",
    "    cenralities_M = centralities_max[edge.ts()]\n",
    "    widths = np.log10(\n",
    "        (np.array([edge.current_flow_betweeness(t) for t in edge.ts()]) - cenralities_m)\n",
    "        / (cenralities_M - cenralities_m)\n",
    "    )\n",
    "    ax2.plot(edge.ts(), widths, linestyle=\"--\")"
   ]
  },
  {
   "cell_type": "code",
   "execution_count": null,
   "id": "42616a39-c5c0-49c8-b792-038a4127cb7e",
   "metadata": {},
   "outputs": [],
   "source": [
    "fig, ax = plt.subplots()\n",
    "edge_choice = np.random.choice(edges, 5)\n",
    "for edge in edge_choice:\n",
    "    widths = [edge.width(t) for t in edge.ts()]\n",
    "    ax.plot(edge.ts(), widths)\n",
    "ax2 = ax.twinx()\n",
    "for edge in edge_choice:\n",
    "    cenralities_m = centralities_min[edge.ts()]\n",
    "    cenralities_M = centralities_max[edge.ts()]\n",
    "    widths = np.log10(\n",
    "        (np.array([edge.betweeness(t) for t in edge.ts()]) - cenralities_m)\n",
    "    )\n",
    "    ax2.plot(edge.ts(), widths, linestyle=\"--\")"
   ]
  },
  {
   "cell_type": "code",
   "execution_count": null,
   "id": "d4a95e63-edc1-41f3-afee-f445c46dd662",
   "metadata": {},
   "outputs": [],
   "source": [
    "edgess = [get_all_edges(exp, t) for t in range(0, 41)]\n",
    "centralities = [\n",
    "    [edge.current_flow_betweeness(t) for edge in edges]\n",
    "    for t, edges in enumerate(edgess)\n",
    "]\n",
    "centralities_max = np.array([np.max(centraliti) for centraliti in centralities])\n",
    "centralities_min = np.array([np.min(centraliti) for centraliti in centralities])"
   ]
  },
  {
   "cell_type": "code",
   "execution_count": null,
   "id": "15d74882-1b2f-492b-8d3e-a17c89518c39",
   "metadata": {
    "tags": []
   },
   "outputs": [],
   "source": [
    "edgess = [get_all_edges(exp, t) for t in range(0, 41)]\n",
    "centralities = [\n",
    "    [edge.betweeness(t) for edge in edges] for t, edges in enumerate(edgess)\n",
    "]\n",
    "centralities_max2 = np.array([np.max(centraliti) for centraliti in centralities])\n",
    "centralities_min2 = np.array([np.min(centraliti) for centraliti in centralities])"
   ]
  },
  {
   "cell_type": "code",
   "execution_count": null,
   "id": "df7fdeb5-fdea-468d-bfd0-d754cf425b77",
   "metadata": {
    "jupyter": {
     "outputs_hidden": true
    },
    "tags": []
   },
   "outputs": [],
   "source": [
    "widths"
   ]
  },
  {
   "cell_type": "code",
   "execution_count": null,
   "id": "03c31d6d-a710-4ff3-b3c9-fc0a6b81feb9",
   "metadata": {
    "tags": []
   },
   "outputs": [],
   "source": [
    "thresh = 1e-4\n",
    "widths = [\n",
    "    edge.width(t)\n",
    "    for edge in edges\n",
    "    if edge.width(t) > 0 and edge.current_flow_betweeness(t) > thresh\n",
    "]\n",
    "centrality = [\n",
    "    np.log10(edge.current_flow_betweeness(t))\n",
    "    for edge in edges\n",
    "    if edge.width(t) > 0 and edge.current_flow_betweeness(t) > thresh\n",
    "]\n",
    "fig, ax = plt.subplots()\n",
    "ax.scatter(widths, centrality, alpha=0.2)\n",
    "# ax.set_xlim(4,8)"
   ]
  },
  {
   "cell_type": "code",
   "execution_count": null,
   "id": "d01739cc-ae39-4bd3-b2af-38d0385dffed",
   "metadata": {},
   "outputs": [],
   "source": [
    "thresh = 1e-4\n",
    "widths = [\n",
    "    edge.width(t)\n",
    "    for edge in edges\n",
    "    if edge.width(t) > 0 and edge.current_flow_betweeness(t) > thresh\n",
    "]\n",
    "centrality = [\n",
    "    np.log10(edge.betweeness(t))\n",
    "    for edge in edges\n",
    "    if edge.width(t) > 0 and edge.current_flow_betweeness(t) > thresh\n",
    "]\n",
    "fig, ax = plt.subplots()\n",
    "ax.scatter(widths, centrality, alpha=0.2)\n",
    "# ax.set_xlim(4,8)"
   ]
  },
  {
   "cell_type": "code",
   "execution_count": null,
   "id": "ec7f2329-cbb4-4a25-b158-def442fdae6c",
   "metadata": {},
   "outputs": [],
   "source": [
    "fig, ax = plt.subplots()\n",
    "ax.hist(centrality, 20)"
   ]
  },
  {
   "cell_type": "code",
   "execution_count": null,
   "id": "6aaeb3e7-3f48-47b5-abc1-7c476832b4ac",
   "metadata": {},
   "outputs": [],
   "source": [
    "fig, ax = plt.subplots()\n",
    "ax.hist(widths, 20)"
   ]
  }
 ],
 "metadata": {
  "kernelspec": {
   "display_name": "Python 3 (ipykernel)",
   "language": "python",
   "name": "python3"
  },
  "language_info": {
   "codemirror_mode": {
    "name": "ipython",
    "version": 3
   },
   "file_extension": ".py",
   "mimetype": "text/x-python",
   "name": "python",
   "nbconvert_exporter": "python",
   "pygments_lexer": "ipython3",
   "version": "3.7.13"
  }
 },
 "nbformat": 4,
 "nbformat_minor": 5
}

{
 "cells": [
  {
   "cell_type": "code",
   "execution_count": 1,
   "id": "65ee96ef-8fcd-4790-bb7c-58fb3316018e",
   "metadata": {},
   "outputs": [],
   "source": [
    "%matplotlib widget\n",
    "import sys  \n",
    "sys.path.insert(0, '/home/cbisot/pycode/MscThesis/')\n",
    "from amftrack.pipeline.functions.post_processing import *\n",
    "import pandas as pd\n",
    "import ast\n",
    "from amftrack.plotutil import plot_t_tp1\n",
    "from scipy import sparse\n",
    "from datetime import datetime\n",
    "from amftrack.pipeline.functions.node_id import orient\n",
    "import pickle\n",
    "import scipy.io as sio\n",
    "from pymatreader import read_mat\n",
    "from matplotlib import colors\n",
    "import cv2\n",
    "import imageio\n",
    "import matplotlib.pyplot as plt\n",
    "import numpy as np\n",
    "from skimage.filters import frangi\n",
    "from skimage import filters\n",
    "from random import choice\n",
    "import scipy.sparse\n",
    "import os\n",
    "from amftrack.pipeline.functions.extract_graph import from_sparse_to_graph, generate_nx_graph, sparse_to_doc\n",
    "from skimage.feature import hessian_matrix_det\n",
    "from amftrack.pipeline.functions.experiment_class_surf import Experiment, Edge, Node, Hyphae, plot_raw_plus, get_hyphae\n",
    "from amftrack.pipeline.paths.directory import run_parallel, find_state, directory_scratch, directory_project\n",
    "from amftrack.notebooks.analysis.util import * \n",
    "from scipy import stats\n",
    "from scipy.ndimage.filters import uniform_filter1d\n",
    "from amftrack.pipeline.functions.hyphae_id_surf import get_pixel_growth_and_new_children\n",
    "from collections import Counter\n",
    "from IPython.display import clear_output\n",
    "from amftrack.notebooks.analysis.data_info import *\n",
    "from IPython.core.interactiveshell import InteractiveShell\n",
    "InteractiveShell.ast_node_interactivity = \"all\"\n",
    "plt.rcParams.update({\n",
    "    \"font.family\": \"verdana\",\n",
    "'font.weight' : 'normal',\n",
    "'font.size': 20})\n",
    "from amftrack.plotutil import plot_node_skel\n",
    "from amftrack.notebooks.validation.util import *\n",
    "from amftrack.pipeline.paths.directory import *\n",
    "from amftrack.util import *\n",
    "import pickle\n",
    "from amftrack.pipeline.functions.extract_observable import *\n",
    "from amftrack.pipeline.functions.post_processing import load_study_zone"
   ]
  },
  {
   "cell_type": "code",
   "execution_count": 3,
   "id": "8391a41f-6d86-414a-be62-6f824fe1824a",
   "metadata": {},
   "outputs": [],
   "source": [
    "directory = directory_project\n",
    "update_analysis_info(directory)\n",
    "analysis_info = get_current_analysis(directory)"
   ]
  },
  {
   "cell_type": "code",
   "execution_count": 4,
   "id": "6f383493-fa71-4567-8673-7a425232c9ed",
   "metadata": {},
   "outputs": [
    {
     "data": {
      "text/plain": [
       "{10, 22, 26, 76, 80, 88, 91, 94, 102, 152, 790, 792, 799, 800, 808}"
      ]
     },
     "execution_count": 4,
     "metadata": {},
     "output_type": "execute_result"
    }
   ],
   "source": [
    "select_v7 = analysis_info.loc[(analysis_info['version']=='Version7')]\n",
    "plates = set(select_v7['Plate'].values)\n",
    "plates\n",
    "selection = []\n",
    "for plate in plates:\n",
    "    select_folder = np.min(select_v7.loc[(select_v7['Plate']==plate)]['folder_analysis'])\n",
    "    selection.append(select_folder)\n",
    "select = select_v7.loc[(select_v7['folder_analysis'].isin(selection))]"
   ]
  },
  {
   "cell_type": "code",
   "execution_count": 5,
   "id": "2b838262-5505-4540-9551-9f21b8f1b7aa",
   "metadata": {},
   "outputs": [
    {
     "name": "stdout",
     "output_type": "stream",
     "text": [
      "0 22\n",
      "0 22\n",
      "1 808\n",
      "2 76\n",
      "3 26\n",
      "4 80\n",
      "5 799\n"
     ]
    }
   ],
   "source": [
    "num = 5\n",
    "rows = [row for (index, row) in select.iterrows()]\n",
    "for index,row in enumerate(rows):\n",
    "    path = f'{directory}{row[\"folder_analysis\"]}'\n",
    "    print(index,row[\"Plate\"])\n",
    "    try:\n",
    "        a = np.load(f'{path}/center.npy')\n",
    "    except:\n",
    "        print(index,row[\"Plate\"])\n",
    "    if index == num:\n",
    "        path_exp = f'{directory}{row[\"path_exp\"]}'\n",
    "        exp = pickle.load(open(path_exp, \"rb\"))\n",
    "        exp.dates.sort()\n",
    "        break"
   ]
  },
  {
   "cell_type": "code",
   "execution_count": 6,
   "id": "06c0b674-c276-420d-b6c5-a9cd7f7b66f8",
   "metadata": {},
   "outputs": [],
   "source": [
    "load_study_zone(exp)"
   ]
  },
  {
   "cell_type": "code",
   "execution_count": 7,
   "id": "480120ee-11c5-4de9-801e-224107d52e1c",
   "metadata": {},
   "outputs": [],
   "source": [
    "exp.inconsistent_root = [1,2,3]"
   ]
  },
  {
   "cell_type": "code",
   "execution_count": null,
   "id": "67827dd4-421c-4b94-9a49-8f6e7743c5cc",
   "metadata": {},
   "outputs": [],
   "source": []
  }
 ],
 "metadata": {
  "kernelspec": {
   "display_name": "Python 3 (ipykernel)",
   "language": "python",
   "name": "python3"
  },
  "language_info": {
   "codemirror_mode": {
    "name": "ipython",
    "version": 3
   },
   "file_extension": ".py",
   "mimetype": "text/x-python",
   "name": "python",
   "nbconvert_exporter": "python",
   "pygments_lexer": "ipython3",
   "version": "3.7.11"
  }
 },
 "nbformat": 4,
 "nbformat_minor": 5
}

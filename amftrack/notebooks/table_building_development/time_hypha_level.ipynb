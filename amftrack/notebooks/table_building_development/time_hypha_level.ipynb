{
 "cells": [
  {
   "cell_type": "code",
   "execution_count": 1,
   "id": "82636936-3464-47b0-bb7f-3cf83ea629b0",
   "metadata": {},
   "outputs": [
    {
     "name": "stderr",
     "output_type": "stream",
     "text": [
      "/home/cbisot/pycode/MscThesis/amftrack/transfer/functions/transfer.py:1: TqdmExperimentalWarning: Using `tqdm.autonotebook.tqdm` in notebook mode. Use `tqdm.tqdm` instead to force console mode (e.g. in jupyter console)\n",
      "  from tqdm.autonotebook import tqdm\n"
     ]
    }
   ],
   "source": [
    "%matplotlib widget\n",
    "import os  \n",
    "import sys  \n",
    "sys.path.insert(0, os.getenv('HOME')+'/pycode/MscThesis/')\n",
    "from amftrack.pipeline.functions.post_processing.extract_study_zone import *\n",
    "import pandas as pd\n",
    "import ast\n",
    "from amftrack.plotutil import plot_t_tp1\n",
    "from scipy import sparse\n",
    "from datetime import datetime\n",
    "import pickle\n",
    "import scipy.io as sio\n",
    "from pymatreader import read_mat\n",
    "from matplotlib import colors\n",
    "import cv2\n",
    "import imageio\n",
    "import matplotlib.pyplot as plt\n",
    "import numpy as np\n",
    "from skimage.filters import frangi\n",
    "from skimage import filters\n",
    "from random import choice\n",
    "import scipy.sparse\n",
    "import os\n",
    "from skimage.feature import hessian_matrix_det\n",
    "from amftrack.pipeline.paths.directory import run_parallel, find_state, directory_scratch, directory_project\n",
    "from amftrack.notebooks.analysis.util import * \n",
    "from scipy import stats\n",
    "from scipy.ndimage.filters import uniform_filter1d\n",
    "from collections import Counter\n",
    "from IPython.display import clear_output\n",
    "from amftrack.notebooks.analysis.data_info import *\n",
    "from IPython.core.interactiveshell import InteractiveShell\n",
    "InteractiveShell.ast_node_interactivity = \"all\"\n",
    "plt.rcParams.update({\n",
    "    \"font.family\": \"verdana\",\n",
    "'font.weight' : 'normal',\n",
    "'font.size': 20})\n",
    "from amftrack.plotutil import plot_node_skel\n",
    "from amftrack.notebooks.validation.util import *\n",
    "from amftrack.pipeline.paths.directory import *\n",
    "from amftrack.util import *\n",
    "import pickle\n",
    "from amftrack.pipeline.functions.post_processing.extract_study_zone import load_study_zone\n",
    "from amftrack.pipeline.functions.post_processing.time_hypha import *\n",
    "from amftrack.pipeline.functions.image_processing.experiment_class_surf import Experiment, save_graphs, load_graphs, load_skel\n"
   ]
  },
  {
   "cell_type": "code",
   "execution_count": 2,
   "id": "09b9c340-905d-4354-972d-5d6e693a7472",
   "metadata": {},
   "outputs": [],
   "source": [
    "directory = directory_project\n",
    "# update_analysis_info(directory)\n",
    "analysis_info = get_analysis_info(directory)"
   ]
  },
  {
   "cell_type": "code",
   "execution_count": 4,
   "id": "79e1f469-03f3-4bab-8d11-a1b1d1ba4d8c",
   "metadata": {},
   "outputs": [
    {
     "name": "stdout",
     "output_type": "stream",
     "text": [
      "0 799\n",
      "1 790\n",
      "2 792\n",
      "3 800\n",
      "4 22\n",
      "4 22\n",
      "5 80\n",
      "6 10\n",
      "7 76\n",
      "8 102\n",
      "9 94\n"
     ]
    }
   ],
   "source": [
    "select = analysis_info \n",
    "num = 9\n",
    "rows = [row for (index, row) in select.iterrows()]\n",
    "for index,row in enumerate(rows):\n",
    "    path = f'{directory}{row[\"folder_analysis\"]}'\n",
    "    print(index,row[\"Plate\"])\n",
    "    try:\n",
    "        a = np.load(f'{path}/center.npy')\n",
    "    except:\n",
    "        print(index,row[\"Plate\"])\n",
    "    if index == num:\n",
    "        path_exp = f'{directory}{row[\"path_exp\"]}'\n",
    "        exp = pickle.load(open(path_exp, \"rb\"))\n",
    "        exp.dates.sort()\n",
    "        break"
   ]
  },
  {
   "cell_type": "code",
   "execution_count": 7,
   "id": "4cb130f9-2869-4d12-89b6-485c780bc247",
   "metadata": {},
   "outputs": [],
   "source": [
    "load_study_zone(exp)\n",
    "load_graphs(exp,labeled=True,indexes = [t,tp1])\n",
    "load_skel(exp,[t,tp1])"
   ]
  },
  {
   "cell_type": "code",
   "execution_count": 9,
   "id": "7df037f2-865d-4da0-8656-6fd1c94d02e0",
   "metadata": {},
   "outputs": [
    {
     "data": {
      "text/plain": [
       "([19015, 19019, 19033], [Edge(19015,19019), Edge(19019,19033)])"
      ]
     },
     "execution_count": 9,
     "metadata": {},
     "output_type": "execute_result"
    }
   ],
   "source": [
    "hyph.get_nodes_within(t)"
   ]
  },
  {
   "cell_type": "code",
   "execution_count": 8,
   "id": "a7bb6a3f-64f6-420a-8c2d-1597960f21d3",
   "metadata": {
    "collapsed": true,
    "jupyter": {
     "outputs_hidden": true
    },
    "tags": []
   },
   "outputs": [
    {
     "data": {
      "text/plain": [
       "('speed', 159.8542088647885)"
      ]
     },
     "execution_count": 8,
     "metadata": {},
     "output_type": "execute_result"
    },
    {
     "data": {
      "text/plain": [
       "('timestep', 38)"
      ]
     },
     "execution_count": 8,
     "metadata": {},
     "output_type": "execute_result"
    },
    {
     "data": {
      "text/plain": [
       "('degree', 1)"
      ]
     },
     "execution_count": 8,
     "metadata": {},
     "output_type": "execute_result"
    },
    {
     "data": {
      "text/plain": [
       "('width_tip_edge', 8.296408207778246)"
      ]
     },
     "execution_count": 8,
     "metadata": {},
     "output_type": "execute_result"
    },
    {
     "data": {
      "text/plain": [
       "('width_root_edge', 8.168785884492257)"
      ]
     },
     "execution_count": 8,
     "metadata": {},
     "output_type": "execute_result"
    },
    {
     "data": {
      "text/plain": [
       "('av_width', 8.266330707226807)"
      ]
     },
     "execution_count": 8,
     "metadata": {},
     "output_type": "execute_result"
    },
    {
     "data": {
      "text/plain": [
       "('timestep_init', 38)"
      ]
     },
     "execution_count": 8,
     "metadata": {},
     "output_type": "execute_result"
    },
    {
     "data": {
      "text/plain": [
       "('time_init', 163.18333333333334)"
      ]
     },
     "execution_count": 8,
     "metadata": {},
     "output_type": "execute_result"
    },
    {
     "data": {
      "text/plain": [
       "('has_reached_final_pos', False)"
      ]
     },
     "execution_count": 8,
     "metadata": {},
     "output_type": "execute_result"
    },
    {
     "name": "stderr",
     "output_type": "stream",
     "text": [
      "/home/cbisot/miniconda3/envs/amftrack/lib/python3.7/site-packages/scipy/sparse/sputils.py:114: UserWarning: object dtype is not supported by sparse matrices\n",
      "  warnings.warn(\"object dtype is not supported by sparse matrices\")\n"
     ]
    },
    {
     "data": {
      "text/plain": [
       "('density_window1000', 1273.623188405797)"
      ]
     },
     "execution_count": 8,
     "metadata": {},
     "output_type": "execute_result"
    },
    {
     "data": {
      "text/plain": [
       "('density_window500', 3383.1884057971015)"
      ]
     },
     "execution_count": 8,
     "metadata": {},
     "output_type": "execute_result"
    },
    {
     "data": {
      "text/plain": [
       "('density_window2000', 1826.0869565217392)"
      ]
     },
     "execution_count": 8,
     "metadata": {},
     "output_type": "execute_result"
    },
    {
     "data": {
      "text/plain": [
       "('in_ROI', True)"
      ]
     },
     "execution_count": 8,
     "metadata": {},
     "output_type": "execute_result"
    }
   ],
   "source": [
    "get_speed(hyph,t,tp1,None)\n",
    "get_timestep(hyph,t,tp1,None)\n",
    "get_degree(hyph,t,tp1,None)\n",
    "get_width_tip_edge(hyph,t,tp1,None)\n",
    "get_width_root_edge(hyph,t,tp1,None)\n",
    "get_width_average(hyph,t,tp1,None)\n",
    "get_timestep_init(hyph,t,tp1,None)\n",
    "get_time_init(hyph,t,tp1,None)\n",
    "has_reached_final_pos(hyph,t,tp1,None)\n",
    "local_density(hyph,t,tp1,[1000])\n",
    "local_density(hyph,t,tp1,[500])\n",
    "local_density(hyph,t,tp1,[2000])\n",
    "in_ROI(hyph,t,tp1,[2000])"
   ]
  }
 ],
 "metadata": {
  "kernelspec": {
   "display_name": "Python 3 (ipykernel)",
   "language": "python",
   "name": "python3"
  },
  "language_info": {
   "codemirror_mode": {
    "name": "ipython",
    "version": 3
   },
   "file_extension": ".py",
   "mimetype": "text/x-python",
   "name": "python",
   "nbconvert_exporter": "python",
   "pygments_lexer": "ipython3",
   "version": "3.7.11"
  }
 },
 "nbformat": 4,
 "nbformat_minor": 5
}

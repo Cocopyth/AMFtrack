{
 "cells": [
  {
   "cell_type": "code",
   "execution_count": 18,
   "id": "69252316-42ec-479c-a3d8-a8767a109f26",
   "metadata": {
    "tags": []
   },
   "outputs": [
    {
     "name": "stdout",
     "output_type": "stream",
     "text": [
      "The autoreload extension is already loaded. To reload it, use:\n",
      "  %reload_ext autoreload\n"
     ]
    }
   ],
   "source": [
    "%load_ext autoreload\n",
    "%matplotlib widget\n",
    "%autoreload 2\n",
    "from amftrack.pipeline.launching.run_super import (\n",
    "    run_launcher,\n",
    "    directory_scratch,\n",
    "    directory_project,\n",
    "    directory_project,\n",
    "    run_parallel_stitch,\n",
    "    run_parallel_transfer,\n",
    ")\n",
    "import os\n",
    "from amftrack.util.sys import (\n",
    "    get_dates_datetime,\n",
    "    get_dirname,\n",
    "    temp_path,\n",
    "    get_data_info,\n",
    "    update_plate_info,\n",
    "    update_analysis_info,\n",
    "    get_analysis_info,\n",
    "    get_current_folders,\n",
    "    get_folders_by_plate_id,\n",
    ")\n",
    "from time import time_ns\n",
    "from amftrack.util.dbx import upload_folders, load_dbx, download, get_dropbox_folders\n",
    "from datetime import datetime\n",
    "\n",
    "from amftrack.pipeline.functions.image_processing.experiment_class_surf import (\n",
    "    load_graphs,\n",
    ")\n",
    "from amftrack.pipeline.functions.post_processing.extract_study_zone import (\n",
    "    load_study_zone,\n",
    ")\n",
    "from amftrack.pipeline.functions.image_processing.experiment_util import (\n",
    "    get_random_edge,\n",
    "    distance_point_edge,\n",
    "    plot_edge,\n",
    "    plot_edge_cropped,\n",
    "    find_nearest_edge,\n",
    "    get_edge_from_node_labels,\n",
    "    plot_full_image_with_features,\n",
    "    get_all_edges,\n",
    "    get_all_nodes,\n",
    "    find_neighboring_edges,\n",
    "    reconstruct_image,\n",
    "    reconstruct_skeletton_from_edges,\n",
    "    reconstruct_skeletton_unicolor,\n",
    "    plot_edge_color_value,\n",
    "    reconstruct_image_from_general,\n",
    "    plot_full,\n",
    "    find_nearest_edge,\n",
    ")\n",
    "from amftrack.pipeline.functions.image_processing.extract_width_fun import (\n",
    "    get_width_info,\n",
    "    get_width_info_new,\n",
    ")\n",
    "import matplotlib.pyplot as plt\n",
    "from amftrack.pipeline.functions.image_processing.experiment_class_surf import (\n",
    "    Experiment,\n",
    "    save_graphs,\n",
    "    find_node_equ,\n",
    ")\n",
    "import pandas as pd\n",
    "from amftrack.pipeline.functions.spore_processing.spore_id import make_spore_data\n",
    "from amftrack.pipeline.functions.image_processing.hyphae_id_surf import (\n",
    "    resolve_anastomosis_crossing_by_root,\n",
    ")\n",
    "from amftrack.pipeline.functions.post_processing.time_hypha import *\n",
    "from amftrack.pipeline.functions.image_processing.experiment_class_surf import (\n",
    "    Node,\n",
    "    Edge,\n",
    "    Hyphae,\n",
    "    get_distance,\n",
    ")\n",
    "from amftrack.util.sys import (\n",
    "    get_analysis_folders,\n",
    "    get_time_plate_info_from_analysis,\n",
    "    get_time_hypha_info_from_analysis,\n",
    "    get_global_hypha_info_from_analysis,\n",
    ")\n",
    "\n",
    "from datetime import datetime\n",
    "from matplotlib import cm\n",
    "from amftrack.pipeline.functions.post_processing.extract_study_zone import (\n",
    "    load_study_zone,\n",
    ")\n",
    "from IPython.display import clear_output\n",
    "from amftrack.pipeline.functions.post_processing.exp_plot import *\n",
    "import pickle\n",
    "import networkx as nx"
   ]
  },
  {
   "cell_type": "code",
   "execution_count": 2,
   "id": "52b9bd21-abce-427c-a490-79090904722c",
   "metadata": {
    "jupyter": {
     "source_hidden": true
    },
    "tags": []
   },
   "outputs": [],
   "source": [
    "def compute_ratio(G, pos, node1, node2):\n",
    "    # Calculate the shortest path length\n",
    "    shortest_path_length = nx.shortest_path_length(G, node1, node2, weight='length')\n",
    "\n",
    "    # Calculate the Euclidean distance between node positions\n",
    "    node1_pos = pos[node1]\n",
    "    node2_pos = pos[node2]\n",
    "    distance = np.sqrt((node1_pos[0] - node2_pos[0]) ** 2 + (node1_pos[1] - node2_pos[1]) ** 2)*1.725\n",
    "\n",
    "    # Compute the ratio\n",
    "    ratio = distance / shortest_path_length\n",
    "\n",
    "    return ratio\n",
    "\n",
    "def compute_global_efficiency(G, pos):\n",
    "    total_ratio = 0\n",
    "    count = 0\n",
    "    all_pairs = nx.all_pairs_dijkstra_path_length(G, weight='length')\n",
    "    # Iterate over all pairs of nodes\n",
    "    for node1,distances in all_pairs:\n",
    "        for node2 in distances.keys():\n",
    "            if node1 != node2:\n",
    "                node1_pos = pos[node1]\n",
    "                node2_pos = pos[node2]\n",
    "                shortest_path_length = distances[node2]\n",
    "                distance = np.sqrt((node1_pos[0] - node2_pos[0]) ** 2 + (node1_pos[1] - node2_pos[1]) ** 2)*1.725\n",
    "\n",
    "                    # Compute the ratio\n",
    "                ratio = distance / shortest_path_length\n",
    "                # Accumulate the ratio and increment the count\n",
    "                total_ratio += ratio\n",
    "                count += 1\n",
    "            if count%1e6==0:\n",
    "                print(count)\n",
    "    # Compute the average ratio\n",
    "        # break\n",
    "    average_ratio = total_ratio / count\n",
    "\n",
    "    return average_ratio\n",
    "\n",
    "def get_crossingness(node,t):\n",
    "    pairs = []\n",
    "    can_be_removed = True\n",
    "\n",
    "    for edge in node.edges(t):\n",
    "        mini = np.inf\n",
    "        for edge_candidate in node.edges(t):\n",
    "            angle = np.cos(\n",
    "                (\n",
    "                    edge.orientation_begin(t, 100)\n",
    "                    - edge_candidate.orientation_begin(t, 100)\n",
    "                )\n",
    "                / 360\n",
    "                * 2\n",
    "                * np.pi\n",
    "            )\n",
    "            if angle < mini:\n",
    "                winner = edge_candidate\n",
    "                mini = angle\n",
    "        if (edge, winner) not in pairs and (\n",
    "            winner,\n",
    "            edge,\n",
    "        ) not in pairs:\n",
    "            pairs.append((edge, winner,mini))\n",
    "    crossingness = np.min([-pair[2] for pair in pairs])\n",
    "    pairs = [(pair[0],pair[1]) for pair in pairs]\n",
    "    symetric = np.all([(pair[1],pair[0]) in pairs for pair in pairs])\n",
    "    return(crossingness,symetric)\n",
    "\n",
    "def treat_node(G,node):\n",
    "    pairs = []\n",
    "    \n",
    "    for edge in node.edges(t):\n",
    "        mini = np.inf\n",
    "        for edge_candidate in node.edges(t):\n",
    "            angle = np.cos(\n",
    "                (\n",
    "                    edge.orientation_begin(t, 100)\n",
    "                    - edge_candidate.orientation_begin(t, 100)\n",
    "                )\n",
    "                / 360\n",
    "                * 2\n",
    "                * np.pi\n",
    "            )\n",
    "            if angle < mini:\n",
    "                winner = edge_candidate\n",
    "                mini = angle\n",
    "        if (edge, winner) not in pairs and (\n",
    "            winner,\n",
    "            edge,\n",
    "        ) not in pairs:\n",
    "            pairs.append((edge, winner))\n",
    "    can_be_removed = True\n",
    "    # for pair in pairs:\n",
    "    #     can_be_removed *= (\n",
    "    #         pair[0].end.degree(t) != 1 or pair[1].end.degree(t) != 1\n",
    "    #     )\n",
    "    #     can_be_removed *= (\n",
    "    #         pair[0].end.label not in articulation_points\n",
    "    #         or pair[1].end.label not in articulation_points\n",
    "    #     )\n",
    "    if can_be_removed:\n",
    "        for pair in pairs:\n",
    "            right_n = pair[0].end\n",
    "            left_n = pair[1].end\n",
    "            right_edge = pair[0].pixel_list(t)\n",
    "            left_edge = list(reversed(pair[1].pixel_list(t)))\n",
    "            right_edge_width = pair[0].width(t)\n",
    "            left_edge_width = pair[1].width(t)\n",
    "            right_edge_length = pair[0].length_um(t)\n",
    "            left_edge_length= pair[1].length_um(t)\n",
    "            pixel_list = left_edge + right_edge[1:]\n",
    "            info = {\n",
    "                \"weight\": len(pixel_list),\n",
    "                \"pixel_list\": pixel_list,\n",
    "                \"width\": (\n",
    "                    (len(right_edge) * right_edge_width)\n",
    "                    + (len(left_edge) * left_edge_width)\n",
    "                )\n",
    "                / (left_edge_width + right_edge_width),\n",
    "                \"length\" : right_edge_length + left_edge_length\n",
    "            }\n",
    "            if right_n != left_n:\n",
    "                G.add_edges_from(\n",
    "                    [(left_n.label, right_n.label, info)]\n",
    "                )\n",
    "\n",
    "        G.remove_node(node.label)"
   ]
  },
  {
   "cell_type": "code",
   "execution_count": 4,
   "id": "06930270-29f6-4cb8-ab02-1e95506eda02",
   "metadata": {},
   "outputs": [
    {
     "data": {
      "application/vnd.jupyter.widget-view+json": {
       "model_id": "cdae3f09793844be864ec401bbeb3215",
       "version_major": 2,
       "version_minor": 0
      },
      "text/plain": [
       "analysed:   0%|          | 0/3670 [00:00<?, ?it/s]"
      ]
     },
     "metadata": {},
     "output_type": "display_data"
    }
   ],
   "source": [
    "directory_targ = directory_project\n",
    "\n",
    "update_plate_info(directory_targ, local=True)\n",
    "all_folders = get_current_folders(directory_targ, local=True)\n",
    "folders = all_folders.loc[all_folders['unique_id']=='94_20201123']\n",
    "folders = folders.loc[folders[\"/Analysis/nx_graph_pruned_labeled.p\"] == True]"
   ]
  },
  {
   "cell_type": "code",
   "execution_count": 6,
   "id": "ba45e556-c2a3-48d2-b7d6-0931953f397e",
   "metadata": {},
   "outputs": [
    {
     "name": "stderr",
     "output_type": "stream",
     "text": [
      "/gpfs/home2/cbisot/pycode/AMFtrack/amftrack/pipeline/functions/image_processing/experiment_class_surf.py:104: SettingWithCopyWarning: \n",
      "A value is trying to be set on a copy of a slice from a DataFrame.\n",
      "Try using .loc[row_indexer,col_indexer] = value instead\n",
      "\n",
      "See the caveats in the documentation: https://pandas.pydata.org/pandas-docs/stable/user_guide/indexing.html#returning-a-view-versus-a-copy\n",
      "  self.folders[\"date\"], format=\"%d.%m.%Y, %H:%M:\"\n"
     ]
    },
    {
     "name": "stdout",
     "output_type": "stream",
     "text": [
      "2020-11-25 10:02:00\n"
     ]
    }
   ],
   "source": [
    "folders = folders.sort_values(by=\"datetime\")\n",
    "\n",
    "exp = Experiment(directory_targ)\n",
    "i = 45\n",
    "exp.load(folders.iloc[i:i+1],suffix=\"_labeled\")\n",
    "for t in range(exp.ts):\n",
    "    exp.load_tile_information(t)\n",
    "t = 0\n",
    "nodes = get_all_nodes(exp, t)\n",
    "nodes = [node for node in nodes if node.degree(t)>0]\n",
    "high_degree_nodes = [node for node in nodes if node.degree(t)==4]\n",
    "articulation_points = list(nx.articulation_points(exp.nx_graph[t]))\n",
    "edges = get_all_edges(exp,t)\n",
    "weights = {(edge.begin.label, edge.end.label): edge.length_um(t) for edge in edges}\n",
    "nx.set_edge_attributes(exp.nx_graph[t], weights, \"length\")\n",
    "crossingnesses = [get_crossingness(node,t)[0] for node in high_degree_nodes]\n",
    "symetrics = [get_crossingness(node,t)[1] for node in high_degree_nodes]\n",
    "crossing_nodes = [node for node in high_degree_nodes if get_crossingness(node,t)[1] and get_crossingness(node,t)[0]>=0.85]\n",
    "crossing_nodes_label = [node.label for node in crossing_nodes]\n",
    "G = exp.nx_graph[t]\n",
    "components = nx.connected_components(G)\n",
    "\n",
    "# Find the largest connected component\n",
    "largest_component = max(components, key=len)\n",
    "\n",
    "# Create a new graph representing the largest connected component\n",
    "largest_component_graph = G.subgraph(largest_component)\n",
    "largest_component_graph_no_cross = largest_component_graph.copy()\n",
    "for node in crossing_nodes:\n",
    "    if node.label in largest_component_graph_no_cross:\n",
    "        treat_node(largest_component_graph_no_cross,node)"
   ]
  },
  {
   "cell_type": "code",
   "execution_count": 12,
   "id": "1d49ceb2-e7e0-4f3b-a7d3-530d1aea61db",
   "metadata": {},
   "outputs": [],
   "source": [
    "def global_eff(k):\n",
    "    i = k\n",
    "    exp.load(folders.iloc[i:i+1],suffix=\"_labeled\")\n",
    "    for t in range(exp.ts):\n",
    "        exp.load_tile_information(t)\n",
    "    t = 0\n",
    "    edges = get_all_edges(exp,t)\n",
    "    weights = {(edge.begin.label, edge.end.label): edge.length_um(t) for edge in edges}\n",
    "    nx.set_edge_attributes(exp.nx_graph[t], weights, \"length\")\n",
    "    G = exp.nx_graph[t]\n",
    "    components = nx.connected_components(G)\n",
    "\n",
    "    # Find the largest connected component\n",
    "    largest_component = max(components, key=len)\n",
    "\n",
    "    # Create a new graph representing the largest connected component\n",
    "    largest_component_graph = G.subgraph(largest_component)\n",
    "    return(compute_global_efficiency(largest_component_graph, exp.positions[t]))"
   ]
  },
  {
   "cell_type": "code",
   "execution_count": 24,
   "id": "30075b73-185d-48fb-a4a9-5b7113dccd44",
   "metadata": {},
   "outputs": [],
   "source": [
    "def global_eff_corrected(k):\n",
    "    i = k\n",
    "    exp.load(folders.iloc[i:i+1],suffix=\"_labeled\")\n",
    "    for t in range(exp.ts):\n",
    "        exp.load_tile_information(t)\n",
    "    t = 0\n",
    "    nodes = get_all_nodes(exp, t)\n",
    "    nodes = [node for node in nodes if node.degree(t)>0]\n",
    "    high_degree_nodes = [node for node in nodes if node.degree(t)==4]\n",
    "    articulation_points = list(nx.articulation_points(exp.nx_graph[t]))\n",
    "    edges = get_all_edges(exp,t)\n",
    "    weights = {(edge.begin.label, edge.end.label): edge.length_um(t) for edge in edges}\n",
    "    nx.set_edge_attributes(exp.nx_graph[t], weights, \"length\")\n",
    "    crossingnesses = [get_crossingness(node,t)[0] for node in high_degree_nodes]\n",
    "    symetrics = [get_crossingness(node,t)[1] for node in high_degree_nodes]\n",
    "    crossing_nodes = [node for node in high_degree_nodes if get_crossingness(node,t)[1] and get_crossingness(node,t)[0]>=0.85]\n",
    "    crossing_nodes_label = [node.label for node in crossing_nodes]\n",
    "    G = exp.nx_graph[t]\n",
    "    components = nx.connected_components(G)\n",
    "\n",
    "    # Find the largest connected component\n",
    "    largest_component = max(components, key=len)\n",
    "\n",
    "    # Create a new graph representing the largest connected component\n",
    "    largest_component_graph = G.subgraph(largest_component)\n",
    "    largest_component_graph_no_cross = largest_component_graph.copy()\n",
    "    for node in crossing_nodes:\n",
    "        if node.label in largest_component_graph_no_cross:\n",
    "            treat_node(largest_component_graph_no_cross,node)\n",
    "    return(compute_global_efficiency(largest_component_graph_no_cross, exp.positions[t]))"
   ]
  },
  {
   "cell_type": "code",
   "execution_count": null,
   "id": "a02148a4-9dc2-4ed4-a83f-de9f345b7026",
   "metadata": {},
   "outputs": [],
   "source": []
  },
  {
   "cell_type": "code",
   "execution_count": 17,
   "id": "8eaa4dad-e67c-46f7-8e70-8fd51fc39e5e",
   "metadata": {},
   "outputs": [],
   "source": [
    "def global_eff_MS(k):\n",
    "    i = k\n",
    "    exp.load(folders.iloc[i:i+1],suffix=\"_labeled\")\n",
    "    for t in range(exp.ts):\n",
    "        exp.load_tile_information(t)\n",
    "    t = 0\n",
    "    edges = get_all_edges(exp,t)\n",
    "    weights = {(edge.begin.label, edge.end.label): edge.length_um(t) for edge in edges}\n",
    "    nx.set_edge_attributes(exp.nx_graph[t], weights, \"length\")\n",
    "    G = exp.nx_graph[t]\n",
    "    components = nx.connected_components(G)\n",
    "\n",
    "    # Find the largest connected component\n",
    "    largest_component = max(components, key=len)\n",
    "\n",
    "    # Create a new graph representing the largest connected component\n",
    "    largest_component_graph = G.subgraph(largest_component)\n",
    "    MS = nx.minimum_spanning_tree(largest_component_graph)\n",
    "    return(compute_global_efficiency(MS, exp.positions[t]))"
   ]
  },
  {
   "cell_type": "code",
   "execution_count": 15,
   "id": "8b508db2-67ee-4792-b247-f7d47efba0bc",
   "metadata": {
    "collapsed": true,
    "jupyter": {
     "outputs_hidden": true
    },
    "tags": []
   },
   "outputs": [
    {
     "name": "stderr",
     "output_type": "stream",
     "text": [
      "/gpfs/home2/cbisot/pycode/AMFtrack/amftrack/pipeline/functions/image_processing/experiment_class_surf.py:104: SettingWithCopyWarning: \n",
      "A value is trying to be set on a copy of a slice from a DataFrame.\n",
      "Try using .loc[row_indexer,col_indexer] = value instead\n",
      "\n",
      "See the caveats in the documentation: https://pandas.pydata.org/pandas-docs/stable/user_guide/indexing.html#returning-a-view-versus-a-copy\n",
      "  self.folders[\"date\"], format=\"%d.%m.%Y, %H:%M:\"\n"
     ]
    },
    {
     "name": "stdout",
     "output_type": "stream",
     "text": [
      "2020-11-23 12:53:00\n",
      "0\n"
     ]
    },
    {
     "name": "stderr",
     "output_type": "stream",
     "text": [
      "/gpfs/home2/cbisot/pycode/AMFtrack/amftrack/pipeline/functions/image_processing/experiment_class_surf.py:104: SettingWithCopyWarning: \n",
      "A value is trying to be set on a copy of a slice from a DataFrame.\n",
      "Try using .loc[row_indexer,col_indexer] = value instead\n",
      "\n",
      "See the caveats in the documentation: https://pandas.pydata.org/pandas-docs/stable/user_guide/indexing.html#returning-a-view-versus-a-copy\n",
      "  self.folders[\"date\"], format=\"%d.%m.%Y, %H:%M:\"\n"
     ]
    },
    {
     "name": "stdout",
     "output_type": "stream",
     "text": [
      "2020-11-23 23:00:00\n",
      "0\n"
     ]
    },
    {
     "name": "stderr",
     "output_type": "stream",
     "text": [
      "/gpfs/home2/cbisot/pycode/AMFtrack/amftrack/pipeline/functions/image_processing/experiment_class_surf.py:104: SettingWithCopyWarning: \n",
      "A value is trying to be set on a copy of a slice from a DataFrame.\n",
      "Try using .loc[row_indexer,col_indexer] = value instead\n",
      "\n",
      "See the caveats in the documentation: https://pandas.pydata.org/pandas-docs/stable/user_guide/indexing.html#returning-a-view-versus-a-copy\n",
      "  self.folders[\"date\"], format=\"%d.%m.%Y, %H:%M:\"\n"
     ]
    },
    {
     "name": "stdout",
     "output_type": "stream",
     "text": [
      "2020-11-24 09:01:00\n",
      "0\n"
     ]
    },
    {
     "name": "stderr",
     "output_type": "stream",
     "text": [
      "/gpfs/home2/cbisot/pycode/AMFtrack/amftrack/pipeline/functions/image_processing/experiment_class_surf.py:104: SettingWithCopyWarning: \n",
      "A value is trying to be set on a copy of a slice from a DataFrame.\n",
      "Try using .loc[row_indexer,col_indexer] = value instead\n",
      "\n",
      "See the caveats in the documentation: https://pandas.pydata.org/pandas-docs/stable/user_guide/indexing.html#returning-a-view-versus-a-copy\n",
      "  self.folders[\"date\"], format=\"%d.%m.%Y, %H:%M:\"\n"
     ]
    },
    {
     "name": "stdout",
     "output_type": "stream",
     "text": [
      "2020-11-24 19:02:00\n",
      "0\n"
     ]
    },
    {
     "name": "stderr",
     "output_type": "stream",
     "text": [
      "/gpfs/home2/cbisot/pycode/AMFtrack/amftrack/pipeline/functions/image_processing/experiment_class_surf.py:104: SettingWithCopyWarning: \n",
      "A value is trying to be set on a copy of a slice from a DataFrame.\n",
      "Try using .loc[row_indexer,col_indexer] = value instead\n",
      "\n",
      "See the caveats in the documentation: https://pandas.pydata.org/pandas-docs/stable/user_guide/indexing.html#returning-a-view-versus-a-copy\n",
      "  self.folders[\"date\"], format=\"%d.%m.%Y, %H:%M:\"\n"
     ]
    },
    {
     "name": "stdout",
     "output_type": "stream",
     "text": [
      "2020-11-25 05:02:00\n",
      "0\n",
      "1000000\n"
     ]
    },
    {
     "name": "stderr",
     "output_type": "stream",
     "text": [
      "/gpfs/home2/cbisot/pycode/AMFtrack/amftrack/pipeline/functions/image_processing/experiment_class_surf.py:104: SettingWithCopyWarning: \n",
      "A value is trying to be set on a copy of a slice from a DataFrame.\n",
      "Try using .loc[row_indexer,col_indexer] = value instead\n",
      "\n",
      "See the caveats in the documentation: https://pandas.pydata.org/pandas-docs/stable/user_guide/indexing.html#returning-a-view-versus-a-copy\n",
      "  self.folders[\"date\"], format=\"%d.%m.%Y, %H:%M:\"\n"
     ]
    },
    {
     "name": "stdout",
     "output_type": "stream",
     "text": [
      "2020-11-25 15:02:00\n",
      "0\n",
      "1000000\n",
      "2000000\n"
     ]
    },
    {
     "name": "stderr",
     "output_type": "stream",
     "text": [
      "/gpfs/home2/cbisot/pycode/AMFtrack/amftrack/pipeline/functions/image_processing/experiment_class_surf.py:104: SettingWithCopyWarning: \n",
      "A value is trying to be set on a copy of a slice from a DataFrame.\n",
      "Try using .loc[row_indexer,col_indexer] = value instead\n",
      "\n",
      "See the caveats in the documentation: https://pandas.pydata.org/pandas-docs/stable/user_guide/indexing.html#returning-a-view-versus-a-copy\n",
      "  self.folders[\"date\"], format=\"%d.%m.%Y, %H:%M:\"\n"
     ]
    },
    {
     "name": "stdout",
     "output_type": "stream",
     "text": [
      "2020-11-26 01:02:00\n",
      "0\n",
      "1000000\n",
      "2000000\n",
      "3000000\n",
      "4000000\n"
     ]
    },
    {
     "name": "stderr",
     "output_type": "stream",
     "text": [
      "/gpfs/home2/cbisot/pycode/AMFtrack/amftrack/pipeline/functions/image_processing/experiment_class_surf.py:104: SettingWithCopyWarning: \n",
      "A value is trying to be set on a copy of a slice from a DataFrame.\n",
      "Try using .loc[row_indexer,col_indexer] = value instead\n",
      "\n",
      "See the caveats in the documentation: https://pandas.pydata.org/pandas-docs/stable/user_guide/indexing.html#returning-a-view-versus-a-copy\n",
      "  self.folders[\"date\"], format=\"%d.%m.%Y, %H:%M:\"\n"
     ]
    },
    {
     "name": "stdout",
     "output_type": "stream",
     "text": [
      "2020-11-26 11:02:00\n",
      "0\n",
      "1000000\n",
      "2000000\n",
      "3000000\n",
      "4000000\n",
      "5000000\n",
      "6000000\n"
     ]
    },
    {
     "name": "stderr",
     "output_type": "stream",
     "text": [
      "/gpfs/home2/cbisot/pycode/AMFtrack/amftrack/pipeline/functions/image_processing/experiment_class_surf.py:104: SettingWithCopyWarning: \n",
      "A value is trying to be set on a copy of a slice from a DataFrame.\n",
      "Try using .loc[row_indexer,col_indexer] = value instead\n",
      "\n",
      "See the caveats in the documentation: https://pandas.pydata.org/pandas-docs/stable/user_guide/indexing.html#returning-a-view-versus-a-copy\n",
      "  self.folders[\"date\"], format=\"%d.%m.%Y, %H:%M:\"\n"
     ]
    },
    {
     "name": "stdout",
     "output_type": "stream",
     "text": [
      "2020-11-26 21:09:00\n",
      "0\n",
      "1000000\n",
      "2000000\n",
      "3000000\n",
      "4000000\n",
      "5000000\n",
      "6000000\n",
      "7000000\n",
      "8000000\n",
      "9000000\n",
      "10000000\n"
     ]
    },
    {
     "name": "stderr",
     "output_type": "stream",
     "text": [
      "/gpfs/home2/cbisot/pycode/AMFtrack/amftrack/pipeline/functions/image_processing/experiment_class_surf.py:104: SettingWithCopyWarning: \n",
      "A value is trying to be set on a copy of a slice from a DataFrame.\n",
      "Try using .loc[row_indexer,col_indexer] = value instead\n",
      "\n",
      "See the caveats in the documentation: https://pandas.pydata.org/pandas-docs/stable/user_guide/indexing.html#returning-a-view-versus-a-copy\n",
      "  self.folders[\"date\"], format=\"%d.%m.%Y, %H:%M:\"\n"
     ]
    },
    {
     "name": "stdout",
     "output_type": "stream",
     "text": [
      "2020-11-27 07:09:00\n",
      "0\n",
      "1000000\n",
      "2000000\n",
      "3000000\n",
      "4000000\n",
      "5000000\n",
      "6000000\n",
      "7000000\n",
      "8000000\n",
      "9000000\n",
      "9000000\n",
      "10000000\n",
      "11000000\n",
      "12000000\n"
     ]
    }
   ],
   "source": [
    "efficiencies = [global_eff(10*k) for k in range(10)]"
   ]
  },
  {
   "cell_type": "code",
   "execution_count": 25,
   "id": "a362bda0-fce0-4abe-853b-9c714a3179c8",
   "metadata": {
    "collapsed": true,
    "jupyter": {
     "outputs_hidden": true
    },
    "tags": []
   },
   "outputs": [
    {
     "name": "stderr",
     "output_type": "stream",
     "text": [
      "/gpfs/home2/cbisot/pycode/AMFtrack/amftrack/pipeline/functions/image_processing/experiment_class_surf.py:104: SettingWithCopyWarning: \n",
      "A value is trying to be set on a copy of a slice from a DataFrame.\n",
      "Try using .loc[row_indexer,col_indexer] = value instead\n",
      "\n",
      "See the caveats in the documentation: https://pandas.pydata.org/pandas-docs/stable/user_guide/indexing.html#returning-a-view-versus-a-copy\n",
      "  self.folders[\"date\"], format=\"%d.%m.%Y, %H:%M:\"\n"
     ]
    },
    {
     "name": "stdout",
     "output_type": "stream",
     "text": [
      "2020-11-23 12:53:00\n",
      "0\n"
     ]
    },
    {
     "name": "stderr",
     "output_type": "stream",
     "text": [
      "/gpfs/home2/cbisot/pycode/AMFtrack/amftrack/pipeline/functions/image_processing/experiment_class_surf.py:104: SettingWithCopyWarning: \n",
      "A value is trying to be set on a copy of a slice from a DataFrame.\n",
      "Try using .loc[row_indexer,col_indexer] = value instead\n",
      "\n",
      "See the caveats in the documentation: https://pandas.pydata.org/pandas-docs/stable/user_guide/indexing.html#returning-a-view-versus-a-copy\n",
      "  self.folders[\"date\"], format=\"%d.%m.%Y, %H:%M:\"\n"
     ]
    },
    {
     "name": "stdout",
     "output_type": "stream",
     "text": [
      "2020-11-23 23:00:00\n",
      "0\n"
     ]
    },
    {
     "name": "stderr",
     "output_type": "stream",
     "text": [
      "/gpfs/home2/cbisot/pycode/AMFtrack/amftrack/pipeline/functions/image_processing/experiment_class_surf.py:104: SettingWithCopyWarning: \n",
      "A value is trying to be set on a copy of a slice from a DataFrame.\n",
      "Try using .loc[row_indexer,col_indexer] = value instead\n",
      "\n",
      "See the caveats in the documentation: https://pandas.pydata.org/pandas-docs/stable/user_guide/indexing.html#returning-a-view-versus-a-copy\n",
      "  self.folders[\"date\"], format=\"%d.%m.%Y, %H:%M:\"\n"
     ]
    },
    {
     "name": "stdout",
     "output_type": "stream",
     "text": [
      "2020-11-24 09:01:00\n",
      "0\n"
     ]
    },
    {
     "name": "stderr",
     "output_type": "stream",
     "text": [
      "/gpfs/home2/cbisot/pycode/AMFtrack/amftrack/pipeline/functions/image_processing/experiment_class_surf.py:104: SettingWithCopyWarning: \n",
      "A value is trying to be set on a copy of a slice from a DataFrame.\n",
      "Try using .loc[row_indexer,col_indexer] = value instead\n",
      "\n",
      "See the caveats in the documentation: https://pandas.pydata.org/pandas-docs/stable/user_guide/indexing.html#returning-a-view-versus-a-copy\n",
      "  self.folders[\"date\"], format=\"%d.%m.%Y, %H:%M:\"\n"
     ]
    },
    {
     "name": "stdout",
     "output_type": "stream",
     "text": [
      "2020-11-24 19:02:00\n",
      "0\n"
     ]
    },
    {
     "name": "stderr",
     "output_type": "stream",
     "text": [
      "/gpfs/home2/cbisot/pycode/AMFtrack/amftrack/pipeline/functions/image_processing/experiment_class_surf.py:104: SettingWithCopyWarning: \n",
      "A value is trying to be set on a copy of a slice from a DataFrame.\n",
      "Try using .loc[row_indexer,col_indexer] = value instead\n",
      "\n",
      "See the caveats in the documentation: https://pandas.pydata.org/pandas-docs/stable/user_guide/indexing.html#returning-a-view-versus-a-copy\n",
      "  self.folders[\"date\"], format=\"%d.%m.%Y, %H:%M:\"\n"
     ]
    },
    {
     "name": "stdout",
     "output_type": "stream",
     "text": [
      "2020-11-25 05:02:00\n",
      "0\n"
     ]
    },
    {
     "name": "stderr",
     "output_type": "stream",
     "text": [
      "/gpfs/home2/cbisot/pycode/AMFtrack/amftrack/pipeline/functions/image_processing/experiment_class_surf.py:104: SettingWithCopyWarning: \n",
      "A value is trying to be set on a copy of a slice from a DataFrame.\n",
      "Try using .loc[row_indexer,col_indexer] = value instead\n",
      "\n",
      "See the caveats in the documentation: https://pandas.pydata.org/pandas-docs/stable/user_guide/indexing.html#returning-a-view-versus-a-copy\n",
      "  self.folders[\"date\"], format=\"%d.%m.%Y, %H:%M:\"\n"
     ]
    },
    {
     "name": "stdout",
     "output_type": "stream",
     "text": [
      "2020-11-25 15:02:00\n",
      "0\n",
      "1000000\n",
      "2000000\n"
     ]
    },
    {
     "name": "stderr",
     "output_type": "stream",
     "text": [
      "/gpfs/home2/cbisot/pycode/AMFtrack/amftrack/pipeline/functions/image_processing/experiment_class_surf.py:104: SettingWithCopyWarning: \n",
      "A value is trying to be set on a copy of a slice from a DataFrame.\n",
      "Try using .loc[row_indexer,col_indexer] = value instead\n",
      "\n",
      "See the caveats in the documentation: https://pandas.pydata.org/pandas-docs/stable/user_guide/indexing.html#returning-a-view-versus-a-copy\n",
      "  self.folders[\"date\"], format=\"%d.%m.%Y, %H:%M:\"\n"
     ]
    },
    {
     "name": "stdout",
     "output_type": "stream",
     "text": [
      "2020-11-26 01:02:00\n",
      "0\n",
      "1000000\n",
      "2000000\n",
      "3000000\n",
      "4000000\n"
     ]
    },
    {
     "name": "stderr",
     "output_type": "stream",
     "text": [
      "/gpfs/home2/cbisot/pycode/AMFtrack/amftrack/pipeline/functions/image_processing/experiment_class_surf.py:104: SettingWithCopyWarning: \n",
      "A value is trying to be set on a copy of a slice from a DataFrame.\n",
      "Try using .loc[row_indexer,col_indexer] = value instead\n",
      "\n",
      "See the caveats in the documentation: https://pandas.pydata.org/pandas-docs/stable/user_guide/indexing.html#returning-a-view-versus-a-copy\n",
      "  self.folders[\"date\"], format=\"%d.%m.%Y, %H:%M:\"\n"
     ]
    },
    {
     "name": "stdout",
     "output_type": "stream",
     "text": [
      "2020-11-26 11:02:00\n",
      "0\n",
      "1000000\n",
      "2000000\n",
      "3000000\n",
      "4000000\n",
      "5000000\n",
      "6000000\n"
     ]
    },
    {
     "name": "stderr",
     "output_type": "stream",
     "text": [
      "/gpfs/home2/cbisot/pycode/AMFtrack/amftrack/pipeline/functions/image_processing/experiment_class_surf.py:104: SettingWithCopyWarning: \n",
      "A value is trying to be set on a copy of a slice from a DataFrame.\n",
      "Try using .loc[row_indexer,col_indexer] = value instead\n",
      "\n",
      "See the caveats in the documentation: https://pandas.pydata.org/pandas-docs/stable/user_guide/indexing.html#returning-a-view-versus-a-copy\n",
      "  self.folders[\"date\"], format=\"%d.%m.%Y, %H:%M:\"\n"
     ]
    },
    {
     "name": "stdout",
     "output_type": "stream",
     "text": [
      "2020-11-26 21:09:00\n",
      "0\n",
      "1000000\n",
      "2000000\n",
      "3000000\n",
      "4000000\n",
      "5000000\n",
      "6000000\n",
      "7000000\n",
      "8000000\n",
      "9000000\n"
     ]
    },
    {
     "name": "stderr",
     "output_type": "stream",
     "text": [
      "/gpfs/home2/cbisot/pycode/AMFtrack/amftrack/pipeline/functions/image_processing/experiment_class_surf.py:104: SettingWithCopyWarning: \n",
      "A value is trying to be set on a copy of a slice from a DataFrame.\n",
      "Try using .loc[row_indexer,col_indexer] = value instead\n",
      "\n",
      "See the caveats in the documentation: https://pandas.pydata.org/pandas-docs/stable/user_guide/indexing.html#returning-a-view-versus-a-copy\n",
      "  self.folders[\"date\"], format=\"%d.%m.%Y, %H:%M:\"\n"
     ]
    },
    {
     "name": "stdout",
     "output_type": "stream",
     "text": [
      "2020-11-27 07:09:00\n",
      "0\n",
      "1000000\n",
      "2000000\n",
      "3000000\n",
      "4000000\n",
      "5000000\n",
      "6000000\n",
      "7000000\n",
      "8000000\n",
      "9000000\n",
      "10000000\n",
      "11000000\n",
      "12000000\n"
     ]
    }
   ],
   "source": [
    "efficiencies_corrected = [global_eff_corrected(10*k) for k in range(10)]"
   ]
  },
  {
   "cell_type": "code",
   "execution_count": 28,
   "id": "4b9bd0cb-fce9-41c2-b245-6c8e2f1b4b0e",
   "metadata": {},
   "outputs": [
    {
     "data": {
      "text/plain": [
       "<matplotlib.legend.Legend at 0x146ad0128b90>"
      ]
     },
     "execution_count": 28,
     "metadata": {},
     "output_type": "execute_result"
    },
    {
     "data": {
      "application/vnd.jupyter.widget-view+json": {
       "model_id": "6da67a39b6ec4e67b88943240e4535f1",
       "version_major": 2,
       "version_minor": 0
      },
      "image/png": "[encoded data removed]",
      "text/html": [
       "\n",
       "            <div style=\"display: inline-block;\">\n",
       "                <div class=\"jupyter-widgets widget-label\" style=\"text-align: center;\">\n",
       "                    Figure\n",
       "                </div>\n",
       "                <img src='data:image/png;base64,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' width=640.0/>\n",
       "            </div>\n",
       "        "
      ],
      "text/plain": [
       "Canvas(toolbar=Toolbar(toolitems=[('Home', 'Reset original view', 'home', 'home'), ('Back', 'Back to previous …"
      ]
     },
     "metadata": {},
     "output_type": "display_data"
    }
   ],
   "source": [
    "fig,ax = plt.subplots()\n",
    "time = [10*k for k in range(10)]\n",
    "ax.plot(time,efficiencies,label =\"Global efficiency (all overlap considered anastomosed)\")\n",
    "ax.plot(time,efficiencies_corrected,label =\"Global efficiency (no overlap considered anastomosed)\")\n",
    "\n",
    "ax.plot(time,efficienciesMS,label =\"Global efficiency MStree\")\n",
    "ax.set_xlabel(\"time (h)\")\n",
    "ax.set_ylabel(\"efficiency\")\n",
    "\n",
    "ax.legend()"
   ]
  },
  {
   "cell_type": "code",
   "execution_count": 19,
   "id": "69216bb9-cda9-4508-8ea2-d14018e1e1a2",
   "metadata": {
    "collapsed": true,
    "jupyter": {
     "outputs_hidden": true
    },
    "tags": []
   },
   "outputs": [
    {
     "name": "stderr",
     "output_type": "stream",
     "text": [
      "/gpfs/home2/cbisot/pycode/AMFtrack/amftrack/pipeline/functions/image_processing/experiment_class_surf.py:104: SettingWithCopyWarning: \n",
      "A value is trying to be set on a copy of a slice from a DataFrame.\n",
      "Try using .loc[row_indexer,col_indexer] = value instead\n",
      "\n",
      "See the caveats in the documentation: https://pandas.pydata.org/pandas-docs/stable/user_guide/indexing.html#returning-a-view-versus-a-copy\n",
      "  self.folders[\"date\"], format=\"%d.%m.%Y, %H:%M:\"\n"
     ]
    },
    {
     "name": "stdout",
     "output_type": "stream",
     "text": [
      "2020-11-23 12:53:00\n",
      "0\n"
     ]
    },
    {
     "name": "stderr",
     "output_type": "stream",
     "text": [
      "/gpfs/home2/cbisot/pycode/AMFtrack/amftrack/pipeline/functions/image_processing/experiment_class_surf.py:104: SettingWithCopyWarning: \n",
      "A value is trying to be set on a copy of a slice from a DataFrame.\n",
      "Try using .loc[row_indexer,col_indexer] = value instead\n",
      "\n",
      "See the caveats in the documentation: https://pandas.pydata.org/pandas-docs/stable/user_guide/indexing.html#returning-a-view-versus-a-copy\n",
      "  self.folders[\"date\"], format=\"%d.%m.%Y, %H:%M:\"\n"
     ]
    },
    {
     "name": "stdout",
     "output_type": "stream",
     "text": [
      "2020-11-23 23:00:00\n",
      "0\n"
     ]
    },
    {
     "name": "stderr",
     "output_type": "stream",
     "text": [
      "/gpfs/home2/cbisot/pycode/AMFtrack/amftrack/pipeline/functions/image_processing/experiment_class_surf.py:104: SettingWithCopyWarning: \n",
      "A value is trying to be set on a copy of a slice from a DataFrame.\n",
      "Try using .loc[row_indexer,col_indexer] = value instead\n",
      "\n",
      "See the caveats in the documentation: https://pandas.pydata.org/pandas-docs/stable/user_guide/indexing.html#returning-a-view-versus-a-copy\n",
      "  self.folders[\"date\"], format=\"%d.%m.%Y, %H:%M:\"\n"
     ]
    },
    {
     "name": "stdout",
     "output_type": "stream",
     "text": [
      "2020-11-24 09:01:00\n",
      "0\n"
     ]
    },
    {
     "name": "stderr",
     "output_type": "stream",
     "text": [
      "/gpfs/home2/cbisot/pycode/AMFtrack/amftrack/pipeline/functions/image_processing/experiment_class_surf.py:104: SettingWithCopyWarning: \n",
      "A value is trying to be set on a copy of a slice from a DataFrame.\n",
      "Try using .loc[row_indexer,col_indexer] = value instead\n",
      "\n",
      "See the caveats in the documentation: https://pandas.pydata.org/pandas-docs/stable/user_guide/indexing.html#returning-a-view-versus-a-copy\n",
      "  self.folders[\"date\"], format=\"%d.%m.%Y, %H:%M:\"\n"
     ]
    },
    {
     "name": "stdout",
     "output_type": "stream",
     "text": [
      "2020-11-24 19:02:00\n",
      "0\n"
     ]
    },
    {
     "name": "stderr",
     "output_type": "stream",
     "text": [
      "/gpfs/home2/cbisot/pycode/AMFtrack/amftrack/pipeline/functions/image_processing/experiment_class_surf.py:104: SettingWithCopyWarning: \n",
      "A value is trying to be set on a copy of a slice from a DataFrame.\n",
      "Try using .loc[row_indexer,col_indexer] = value instead\n",
      "\n",
      "See the caveats in the documentation: https://pandas.pydata.org/pandas-docs/stable/user_guide/indexing.html#returning-a-view-versus-a-copy\n",
      "  self.folders[\"date\"], format=\"%d.%m.%Y, %H:%M:\"\n"
     ]
    },
    {
     "name": "stdout",
     "output_type": "stream",
     "text": [
      "2020-11-25 05:02:00\n",
      "0\n",
      "1000000\n"
     ]
    },
    {
     "name": "stderr",
     "output_type": "stream",
     "text": [
      "/gpfs/home2/cbisot/pycode/AMFtrack/amftrack/pipeline/functions/image_processing/experiment_class_surf.py:104: SettingWithCopyWarning: \n",
      "A value is trying to be set on a copy of a slice from a DataFrame.\n",
      "Try using .loc[row_indexer,col_indexer] = value instead\n",
      "\n",
      "See the caveats in the documentation: https://pandas.pydata.org/pandas-docs/stable/user_guide/indexing.html#returning-a-view-versus-a-copy\n",
      "  self.folders[\"date\"], format=\"%d.%m.%Y, %H:%M:\"\n"
     ]
    },
    {
     "name": "stdout",
     "output_type": "stream",
     "text": [
      "2020-11-25 15:02:00\n",
      "0\n",
      "1000000\n",
      "2000000\n"
     ]
    },
    {
     "name": "stderr",
     "output_type": "stream",
     "text": [
      "/gpfs/home2/cbisot/pycode/AMFtrack/amftrack/pipeline/functions/image_processing/experiment_class_surf.py:104: SettingWithCopyWarning: \n",
      "A value is trying to be set on a copy of a slice from a DataFrame.\n",
      "Try using .loc[row_indexer,col_indexer] = value instead\n",
      "\n",
      "See the caveats in the documentation: https://pandas.pydata.org/pandas-docs/stable/user_guide/indexing.html#returning-a-view-versus-a-copy\n",
      "  self.folders[\"date\"], format=\"%d.%m.%Y, %H:%M:\"\n"
     ]
    },
    {
     "name": "stdout",
     "output_type": "stream",
     "text": [
      "2020-11-26 01:02:00\n",
      "0\n",
      "1000000\n",
      "2000000\n",
      "3000000\n",
      "4000000\n"
     ]
    },
    {
     "name": "stderr",
     "output_type": "stream",
     "text": [
      "/gpfs/home2/cbisot/pycode/AMFtrack/amftrack/pipeline/functions/image_processing/experiment_class_surf.py:104: SettingWithCopyWarning: \n",
      "A value is trying to be set on a copy of a slice from a DataFrame.\n",
      "Try using .loc[row_indexer,col_indexer] = value instead\n",
      "\n",
      "See the caveats in the documentation: https://pandas.pydata.org/pandas-docs/stable/user_guide/indexing.html#returning-a-view-versus-a-copy\n",
      "  self.folders[\"date\"], format=\"%d.%m.%Y, %H:%M:\"\n"
     ]
    },
    {
     "name": "stdout",
     "output_type": "stream",
     "text": [
      "2020-11-26 11:02:00\n",
      "0\n",
      "1000000\n",
      "2000000\n",
      "3000000\n",
      "4000000\n",
      "5000000\n",
      "6000000\n"
     ]
    },
    {
     "name": "stderr",
     "output_type": "stream",
     "text": [
      "/gpfs/home2/cbisot/pycode/AMFtrack/amftrack/pipeline/functions/image_processing/experiment_class_surf.py:104: SettingWithCopyWarning: \n",
      "A value is trying to be set on a copy of a slice from a DataFrame.\n",
      "Try using .loc[row_indexer,col_indexer] = value instead\n",
      "\n",
      "See the caveats in the documentation: https://pandas.pydata.org/pandas-docs/stable/user_guide/indexing.html#returning-a-view-versus-a-copy\n",
      "  self.folders[\"date\"], format=\"%d.%m.%Y, %H:%M:\"\n"
     ]
    },
    {
     "name": "stdout",
     "output_type": "stream",
     "text": [
      "2020-11-26 21:09:00\n",
      "0\n",
      "1000000\n",
      "2000000\n",
      "3000000\n",
      "4000000\n",
      "5000000\n",
      "6000000\n",
      "7000000\n",
      "8000000\n",
      "9000000\n",
      "10000000\n",
      "2020-11-27 07:09:00\n"
     ]
    },
    {
     "name": "stderr",
     "output_type": "stream",
     "text": [
      "/gpfs/home2/cbisot/pycode/AMFtrack/amftrack/pipeline/functions/image_processing/experiment_class_surf.py:104: SettingWithCopyWarning: \n",
      "A value is trying to be set on a copy of a slice from a DataFrame.\n",
      "Try using .loc[row_indexer,col_indexer] = value instead\n",
      "\n",
      "See the caveats in the documentation: https://pandas.pydata.org/pandas-docs/stable/user_guide/indexing.html#returning-a-view-versus-a-copy\n",
      "  self.folders[\"date\"], format=\"%d.%m.%Y, %H:%M:\"\n"
     ]
    },
    {
     "name": "stdout",
     "output_type": "stream",
     "text": [
      "0\n",
      "1000000\n",
      "2000000\n",
      "3000000\n",
      "4000000\n",
      "5000000\n",
      "6000000\n",
      "7000000\n",
      "8000000\n",
      "9000000\n",
      "9000000\n",
      "10000000\n",
      "11000000\n",
      "12000000\n"
     ]
    }
   ],
   "source": [
    "efficienciesMS = [global_eff_MS(10*k) for k in range(10)]"
   ]
  },
  {
   "cell_type": "code",
   "execution_count": 20,
   "id": "5964c3c5-a50f-4ba3-960d-efac20bd0b90",
   "metadata": {},
   "outputs": [
    {
     "data": {
      "text/plain": [
       "[0.5701333160058668,\n",
       " 0.5334182589302037,\n",
       " 0.5293376275847033,\n",
       " 0.5659122116037855,\n",
       " 0.5273215615624443,\n",
       " 0.4846615016927764,\n",
       " 0.4444674991559014,\n",
       " 0.4318284790298444,\n",
       " 0.43057991519243044,\n",
       " 0.4072560955764963]"
      ]
     },
     "execution_count": 20,
     "metadata": {},
     "output_type": "execute_result"
    }
   ],
   "source": [
    "efficienciesMS"
   ]
  }
 ],
 "metadata": {
  "kernelspec": {
   "display_name": "Python 3 (ipykernel)",
   "language": "python",
   "name": "python3"
  },
  "language_info": {
   "codemirror_mode": {
    "name": "ipython",
    "version": 3
   },
   "file_extension": ".py",
   "mimetype": "text/x-python",
   "name": "python",
   "nbconvert_exporter": "python",
   "pygments_lexer": "ipython3",
   "version": "3.7.13"
  }
 },
 "nbformat": 4,
 "nbformat_minor": 5
}

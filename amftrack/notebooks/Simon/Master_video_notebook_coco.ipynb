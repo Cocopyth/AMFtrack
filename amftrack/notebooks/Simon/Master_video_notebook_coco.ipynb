{
 "cells": [
  {
   "cell_type": "markdown",
   "metadata": {},
   "source": [
    "# Master video notebook!\n",
    "This title might be a bit ambitious, but this notebook is supposed to be able to do all of the administration work when it comes to downloading, processing and analysing videos. The most important functions that will be called are stored in other python files, such that this notebook will remain legible. Analysis will be able to be done with a hierarchy structure of dataset, plate, video, hypha.\n",
    "\n",
    "BEWARE:\n",
    "When saving this document through a GitHub commit, make sure to clear all outputs. This document can easily go over the 100 MB size limit of GitHub files. \n",
    "\n",
    "### In MODULE one,\n",
    "the Dropbox is scoured for information about videos. If the videos do not have a VideoInfo.txt, the program will look for a .csv, if there is no .csv, the program will look for a .xlsx file. Once these files have been found, all information will be merged into a pandas dataframe, and saved as a json file for the dataset and for each video. Some datasets contain thousands of videos, so scouring the dropbox for info on all of them is going to be an hours-long affair. Plan your analysis accordingly.\n",
    "\n",
    "After scouring is complete, a final filtering step can be taken, whereupon the whole list of videos can be downloaded. NB: Downloading happens in two ways: videos are downloaded to the specified analysis folder, whereas video parameters and analysis will be downloaded to the specified analysis folder. This separation is done such that videos can be stored on larger storage drives, and analysis folders on faster storage drives.\n",
    "\n",
    "(if Snellius is still used, it is recommended to use your scratch storage to store videos, and your home storage to store analysis. Scratch storage gets wiped every two weeks, but is much larger than home storage. )\n",
    "\n",
    "TODO: Give options to download with SLURM job or manually.\n",
    "\n",
    "### In MODULE two,\n",
    "the downloaded videos with their respective information can be filtered, then analysed with a large SLURM job. In the future there might need to be functionality that allows processing without the use of a SLURM job. If you're reading this in 2024, you better apply for another Snellius grant!\n",
    "\n",
    "### In MODULE three,\n",
    "This is where all the bulk analysis is going to be. In high_mag_analysis.py, there are a number of classes and functions that will help you with parsing the data into meaningful graphs. This MODULE assumes the existence of the video_info.json files that are generated partly in MODULE 1.\n",
    "\n",
    "### Below code:\n",
    "Are just import statements"
   ]
  },
  {
   "cell_type": "code",
   "execution_count": null,
   "metadata": {
    "tags": []
   },
   "outputs": [],
   "source": [
    "from IPython.display import clear_output\n",
    "import os\n",
    "\n",
    "os.environ[\"CUDA_VISIBLE_DEVICES\"] = \"-1\"\n",
    "import re\n",
    "import dropbox\n",
    "import sys\n",
    "import pandas as pd\n",
    "import numpy as np\n",
    "import imageio.v2 as imageio\n",
    "import matplotlib.pyplot as plt\n",
    "import cv2\n",
    "import logging\n",
    "import datetime\n",
    "import glob\n",
    "import json\n",
    "import scipy\n",
    "import matplotlib as mpl\n",
    "\n",
    "from subprocess import call\n",
    "from tifffile import imwrite\n",
    "from tqdm import tqdm\n",
    "from pathlib import Path\n",
    "from amftrack.util.dbx import (\n",
    "    upload_folder,\n",
    "    download,\n",
    "    read_saved_dropbox_state,\n",
    "    save_dropbox_state,\n",
    "    load_dbx,\n",
    "    get_dropbox_folders_prince,\n",
    "    get_dropbox_video_folders,\n",
    "    download_video_folders_drop,\n",
    "    download_analysis_folders_drop,\n",
    ")\n",
    "from amftrack.pipeline.launching.run import (\n",
    "    run_transfer,\n",
    ")\n",
    "from amftrack.pipeline.launching.run_super import run_parallel_transfer\n",
    "from amftrack.pipeline.launching.run_super import run_parallel_flows\n",
    "from amftrack.pipeline.functions.transport_processing.high_mag_videos.plot_data import (\n",
    "    plot_summary,\n",
    "    save_raw_data,\n",
    ")\n",
    "from amftrack.pipeline.functions.transport_processing.high_mag_videos.high_mag_analysis import (\n",
    "    HighmagDataset,\n",
    "    VideoDataset,\n",
    "    EdgeDataset,\n",
    "    index_videos_dropbox_new,\n",
    "    analysis_run,\n",
    ")\n",
    "from amftrack.pipeline.functions.transport_processing.high_mag_videos.kymo_class import (\n",
    "    KymoVideoAnalysis,\n",
    "    KymoEdgeAnalysis,\n",
    ")\n",
    "\n",
    "%matplotlib widget\n",
    "%load_ext autoreload\n",
    "%autoreload 2\n",
    "logging.basicConfig(stream=sys.stdout, level=logging.debug)\n",
    "mpl.rcParams[\"figure.dpi\"] = 200"
   ]
  },
  {
   "cell_type": "code",
   "execution_count": null,
   "metadata": {},
   "outputs": [],
   "source": [
    "from amftrack.util.dbx import download_analysis_folders_drop"
   ]
  },
  {
   "cell_type": "code",
   "execution_count": null,
   "metadata": {},
   "outputs": [],
   "source": [
    "download_analysis_folders_drop"
   ]
  },
  {
   "cell_type": "markdown",
   "metadata": {},
   "source": [
    "## File declaration\n",
    "As this notebook is designed to work with Snellius (now also on a local computer!), two items to separate are the raw video files and the analysis. The raw video files are large, bulky and not so easy to flip through. Ideally, the video files would be downloaded and the analysis would be stored on a separate folder structure entirely. That way, large scale analysis of analysis folders can happen when there are thousands of videos in the dataset, without having to have those raw video folders on hand.\n",
    "\n",
    "Below function will basically make your folders fertile ground to accept all the video info folders and raw video files.\n",
    "\n",
    "### Input:\n",
    "Please give separately the folder where raw video data is stored, and where the analysis will be stored. Also give the dropbox address of the dataset you want to analyze.\n",
    "\n",
    "### Output:\n",
    "The specified dropbox folder will be looked through, and all relevant video information will be downloaded to an analysis folder structure identical to what is present on teh dropbox. The relevant raw video folder structure will also be generated, if specified so. Will also create cache files in the form of .json files such that next time, the scrounging does not have to happen."
   ]
  },
  {
   "cell_type": "code",
   "execution_count": null,
   "metadata": {},
   "outputs": [],
   "source": [
    "# videos_folder = \"E:\\\\AMOLF_Data\\\\AMOLF-SHIMIZU Dropbox\\\\DATA\\\\\"\n",
    "# analysis_folder = \"E:\\\\AMOLF_Data\\\\analysis\\\\\"\n",
    "\n",
    "videos_folder = \"/projects/0/einf914/videos/\"\n",
    "\n",
    "analysis_folder = \"/projects/0/einf914/analysis_videos/\""
   ]
  },
  {
   "cell_type": "code",
   "execution_count": null,
   "metadata": {},
   "outputs": [],
   "source": [
    "# dropbox_address = \"/DATA/FLUORESCENCE/DATA_NileRed/\"\n",
    "# dropbox_address=  \"/DATA/MYRISTATE/DATA/\"\n",
    "# dropbox_address = \"/DATA/TransportROOT/\"\n",
    "dropbox_address = \"/DATA/CocoTransport/20230815_Plate449/\"\n",
    "dropbox_address = \"/DATA/CocoTransport/\"\n",
    "\n",
    "# dropbox_address = \"/DATA/TRANSPORT/DATA/20230721_Plate301/\""
   ]
  },
  {
   "cell_type": "code",
   "execution_count": null,
   "metadata": {
    "tags": []
   },
   "outputs": [],
   "source": [
    "video_param_frame = index_videos_dropbox(\n",
    "    analysis_folder, videos_folder, dropbox_address, REDO_SCROUNGING=True\n",
    ")\n",
    "video_param_frame"
   ]
  },
  {
   "cell_type": "markdown",
   "metadata": {},
   "source": [
    "## Where to go?\n",
    "If you want to download videos:\n",
    "Use MODULE 1\n",
    "\n",
    "If you want to analyze already downloaded videos:\n",
    "Skip MODULE 1, use MODULE 2"
   ]
  },
  {
   "cell_type": "markdown",
   "metadata": {},
   "source": [
    "# MODULE 1: Downloading\n",
    "This section, there is one block of code that will ask you one last time whether all of the parameters are correct. The block of code after that will initiate Snellius jobs to download the videos in the DataFrame from the dropbox. Downloading videos is not that costly, but of course we prefer it to be done as efficiently as possible.\n",
    "## I'm not on Snellius! How do i download stuff??\n",
    "Easy. Just skip the second block of code. The one below will just use the dropbox API to properly download all your raw data.\n",
    "WARNING: This process can be quite long if you are queueing up a lot of videos. Do not use that block of code on Snellius, they will get mad at you (and prematurely stop your running program), just use the SLURM job in that case.\n",
    "\n",
    "### Input:\n",
    "Nothing\n",
    "### Output:\n",
    "Print statement with the DataFrame and the folders where everything will be stored.\n",
    "Subsequent block of code will download raw video files to the videos folder."
   ]
  },
  {
   "cell_type": "code",
   "execution_count": null,
   "metadata": {},
   "outputs": [],
   "source": [
    "#####################################################################################\n",
    "### This is where you can apply the filters. Only those videos will be downloaded ###\n",
    "#####################################################################################\n",
    "\n",
    "download_frame = video_param_frame[video_param_frame[\"imaging_day\"].ge(\"20230730\")]\n",
    "\n",
    "#####################################################################################\n",
    "### Below code will prepare for those videos to be downloaded into videos_folder  ###\n",
    "#####################################################################################\n",
    "print(f\"Number of videos that will be downloaded: {len(download_frame)}\")\n",
    "download_frame.head(5)"
   ]
  },
  {
   "cell_type": "code",
   "execution_count": null,
   "metadata": {},
   "outputs": [],
   "source": [
    "run_parallel_transfer(\n",
    "    \"from_drop_video.py\",\n",
    "    [videos_folder],\n",
    "    download_frame,\n",
    "    1,\n",
    "    \"10:00:00\",\n",
    "    \"transfer_test\",\n",
    ")\n",
    "clear_output(wait=False)\n",
    "\n",
    "print(\n",
    "    \"Sent all the jobs! Use the command '$ squeue' in the terminal to see the progress\"\n",
    ")"
   ]
  },
  {
   "cell_type": "markdown",
   "metadata": {
    "tags": []
   },
   "source": [
    "### Download videos from Dropbox (Not a SLURM job)\n",
    "This block of code can be used to download videos individually from dropbox. \n",
    "Be aware:\n",
    "- This is significantly slower than launching a SLURM job\n",
    "- This downloads videos sequentially, not in parallel\n",
    "- If this function is running for too long on Snellius, it might get you booted from the interactive node\n",
    "- Videos are large. Make sure you have the space."
   ]
  },
  {
   "cell_type": "code",
   "execution_count": null,
   "metadata": {
    "tags": []
   },
   "outputs": [],
   "source": [
    "download_video_folders_drop(download_frame, videos_folder)\n",
    "clear_output(wait=False)\n",
    "print(\"All videos downloaded!\")"
   ]
  },
  {
   "cell_type": "markdown",
   "metadata": {},
   "source": [
    "### Download Analysis folders from Dropbox (not a SLURM job)\n",
    "Similar warnings apply as the video download function above. The file sizes for the analysis folders are, however, vastly smaller than video files. This allows for a bit more wiggle room."
   ]
  },
  {
   "cell_type": "code",
   "execution_count": null,
   "metadata": {},
   "outputs": [],
   "source": [
    "from amftrack.util.dbx import app_key, app_secret, refresh_token"
   ]
  },
  {
   "cell_type": "code",
   "execution_count": null,
   "metadata": {},
   "outputs": [],
   "source": [
    "def get_team_member_id(app_key, app_secret, refresh_token):\n",
    "    url = \"https://api.dropboxapi.com/2/team/members/list\"\n",
    "    access_token = get_access_token(app_key, app_secret, refresh_token)\n",
    "    headers = {\n",
    "        \"Authorization\": f\"Bearer {access_token}\",\n",
    "        \"Content-Type\": \"application/json\",\n",
    "    }\n",
    "    data = {\"limit\": 1000}  # Gets the first 1000 team members. Adjust as needed.\n",
    "\n",
    "    response = requests.post(url, headers=headers, json=data)\n",
    "\n",
    "    if response.status_code == 200:\n",
    "        return response.json()[\"members\"][1][\"profile\"][\"team_member_id\"]\n",
    "    else:\n",
    "        print(f\"Failed to fetch team members. Error: {response.json()}\")\n",
    "        return None"
   ]
  },
  {
   "cell_type": "code",
   "execution_count": null,
   "metadata": {
    "tags": []
   },
   "outputs": [],
   "source": [
    "import requests\n",
    "import json\n",
    "\n",
    "\n",
    "def list_files_for_user(dropbox_folder, app_key, app_secret, refresh_token, user_id):\n",
    "    \"\"\"\n",
    "    List files and folders for a specific user in a given Dropbox directory.\n",
    "    :param dropbox_folder: The path in Dropbox where you want to list files/folders.\n",
    "    :param app_key: Your Dropbox App Key.\n",
    "    :param app_secret: Your Dropbox App Secret.\n",
    "    :param refresh_token: Refresh token for obtaining access token.\n",
    "    :param user_id: The specific user's ID.\n",
    "    :return: List of files and folders or None.\n",
    "    \"\"\"\n",
    "    # Get the access token using the earlier provided function\n",
    "    access_token = get_access_token(app_key, app_secret, refresh_token)\n",
    "    if not access_token:\n",
    "        return None\n",
    "\n",
    "    url = \"https://api.dropboxapi.com/2/files/list_folder\"\n",
    "    headers = {\n",
    "        \"Authorization\": f\"Bearer {access_token}\",\n",
    "        \"Content-Type\": \"application/json\",\n",
    "        \"Dropbox-API-Select-User\": user_id,\n",
    "    }\n",
    "    data = {\n",
    "        \"path\": dropbox_folder,\n",
    "        \"recursive\": False,  # Set to True if you want to list recursively\n",
    "        \"include_media_info\": False,\n",
    "        \"include_deleted\": False,\n",
    "    }\n",
    "\n",
    "    response = requests.post(url, headers=headers, data=json.dumps(data))\n",
    "\n",
    "    if response.status_code == 200:\n",
    "        return response.json()[\"entries\"]\n",
    "    else:\n",
    "        print(f\"Failed to fetch files/folders. Error: {response.json()}\")\n",
    "        return None\n",
    "\n",
    "\n",
    "# Example usage\n",
    "user_id = get_team_member_id(app_key, app_secret, refresh_token)\n",
    "file_list = list_files_for_user(\"\", app_key, app_secret, refresh_token, user_id)"
   ]
  },
  {
   "cell_type": "code",
   "execution_count": null,
   "metadata": {
    "tags": []
   },
   "outputs": [],
   "source": [
    "import requests\n",
    "import zipfile\n",
    "\n",
    "\n",
    "def get_access_token(app_key, app_secret, refresh_token):\n",
    "    token_url = \"https://api.dropbox.com/oauth2/token\"\n",
    "    payload = {\n",
    "        \"grant_type\": \"refresh_token\",\n",
    "        \"refresh_token\": refresh_token,\n",
    "        \"client_id\": app_key,\n",
    "        \"client_secret\": app_secret,\n",
    "    }\n",
    "\n",
    "    response = requests.post(token_url, data=payload)\n",
    "    if response.status_code != 200:\n",
    "        print(\"Failed to get access token.\")\n",
    "        return None\n",
    "    return response.json().get(\"access_token\")\n",
    "\n",
    "\n",
    "def download_analysis_folders_drop(analysis_folder, dropbox_folder):\n",
    "    access_token = get_access_token(app_key, app_secret, refresh_token)\n",
    "    user_id = get_team_member_id(app_key, app_secret, refresh_token)\n",
    "    if not access_token:\n",
    "        return\n",
    "\n",
    "    # Define the URL and headers\n",
    "    url = \"https://content.dropboxapi.com/2/files/download_zip\"\n",
    "    headers = {\n",
    "        \"Authorization\": f\"Bearer {access_token}\",\n",
    "        \"Dropbox-API-Arg\": f'{{\"path\":\"{dropbox_folder}\"}}',\n",
    "        \"Dropbox-API-Select-User\": user_id,\n",
    "    }\n",
    "\n",
    "    # Make the request\n",
    "    response = requests.post(url, headers=headers, stream=True)\n",
    "\n",
    "    # Ensure the request was successful\n",
    "    if response.status_code != 200:\n",
    "        print(response.content)\n",
    "        print(\"Failed to download folder.\")\n",
    "        return\n",
    "\n",
    "    # Define the local path for the zip file\n",
    "    zip_path = os.path.join(analysis_folder, \"downloaded_folder.zip\")\n",
    "\n",
    "    # Save the zip file locally\n",
    "    with open(zip_path, \"wb\") as file:\n",
    "        for chunk in response.iter_content(chunk_size=256 * 1024 * 1024):\n",
    "            file.write(chunk)\n",
    "\n",
    "    # Extract the zip file to the desired directory\n",
    "    with zipfile.ZipFile(zip_path, \"r\") as zip_ref:\n",
    "        zip_ref.extractall(analysis_folder)\n",
    "\n",
    "    # Optional: remove the zip file after extraction\n",
    "    os.remove(zip_path)\n",
    "\n",
    "    return None"
   ]
  },
  {
   "cell_type": "code",
   "execution_count": null,
   "metadata": {},
   "outputs": [],
   "source": [
    "dropbox_addresses = [\n",
    "    \"20230901_Plate310\",\n",
    "    \"20230902_Plate310\",\n",
    "    \"20230903_Plate310\",\n",
    "    \"20230904_Plate310\",\n",
    "    \"20230905_Plate310\",\n",
    "    \"20230906_Plate310\",\n",
    "    \n",
    "]\n",
    "dropbox_addresses = [f\"/Analysis_Cocotransport/{name}\" for name in dropbox_addresses]"
   ]
  },
  {
   "cell_type": "code",
   "execution_count": null,
   "metadata": {},
   "outputs": [],
   "source": [
    "analysis_folder = \"/projects/0/einf914/analysis_videos/\""
   ]
  },
  {
   "cell_type": "code",
   "execution_count": null,
   "metadata": {},
   "outputs": [],
   "source": [
    "for dropbox_address in dropbox_addresses:\n",
    "    download_analysis_folders_drop(analysis_folder, dropbox_address)\n",
    "    # clear_output(wait=False)\n",
    "    print(\"All analysis folders downloaded!\")"
   ]
  },
  {
   "cell_type": "code",
   "execution_count": null,
   "metadata": {},
   "outputs": [],
   "source": [
    "analysis_folder"
   ]
  },
  {
   "cell_type": "markdown",
   "metadata": {},
   "source": [
    "# Module 2: Analysis\n",
    "Now that the files have been downloaded, it's time to analyse them. In the below code, you'll be able to either do a complete survey of the analysis folder for as many videos as possible, or use the DataFrame of recently downloaded videos to filter for the videos you want to analyse.\n",
    "\n",
    "Also possible to analyse videos directly in this notebook. Be aware again that this is a sequential, and slower analysis than running a SLURM job. \n",
    "\n",
    "### Input:\n",
    "DataFrame filters of all videos to be analysed\n",
    "### Output:\n",
    "Print statements for all parameters of the analysis session that is about to take place."
   ]
  },
  {
   "cell_type": "code",
   "execution_count": null,
   "metadata": {},
   "outputs": [],
   "source": [
    "print(dropbox_address)"
   ]
  },
  {
   "cell_type": "code",
   "execution_count": null,
   "metadata": {},
   "outputs": [],
   "source": [
    "folder_filter = dropbox_address[:]\n",
    "\n",
    "img_infos = glob.glob(\n",
    "    f\"{analysis_folder}{folder_filter}/**/video_data.json\", recursive=True\n",
    ")\n",
    "print(len(img_infos))\n",
    "vid_anls_frame = pd.DataFrame()\n",
    "for address in img_infos:\n",
    "    add_info = pd.read_json(address, orient=\"index\").T\n",
    "    vid_anls_frame = pd.concat([vid_anls_frame, add_info], ignore_index=True)\n",
    "\n",
    "vid_anls_frame = vid_anls_frame.sort_values(\"unique_id\").reset_index(drop=True)\n",
    "vid_anls_frame"
   ]
  },
  {
   "cell_type": "code",
   "execution_count": null,
   "metadata": {},
   "outputs": [],
   "source": [
    "print(vid_anls_frame[\"analysis_folder\"][0])"
   ]
  },
  {
   "cell_type": "code",
   "execution_count": null,
   "metadata": {},
   "outputs": [],
   "source": [
    "####################################################################################\n",
    "### This is where you can apply the filters. Only those videos will be analyzed. ###\n",
    "####################################################################################\n",
    "\n",
    "analysis_frame = vid_anls_frame[vid_anls_frame[\"unique_id\"] == \"20230813_Plate441_081\"]\n",
    "\n",
    "####################################################################################\n",
    "### Below code will prepare for those videos to be downloaded to videos_folder.  ###\n",
    "####################################################################################\n",
    "\n",
    "print(f\"Number of videos to be analyzed: {len(analysis_frame)}\")\n",
    "analysis_frame.head(5)"
   ]
  },
  {
   "cell_type": "markdown",
   "metadata": {},
   "source": [
    "## Run SLURM Analysis job\n",
    "Two options: For small analysis, use the first block. This will just do the calculations on the machine. For large-scale analysis, use the second block, as it will create a Snellius job.\n",
    "## Input:\n",
    "Snellius job parameters\n",
    "## Output:\n",
    "Analysis folder will be populated with analysis tiffs and csv sheets. At the same time, this analysis folder will also be uploaded to the dropbox."
   ]
  },
  {
   "cell_type": "code",
   "execution_count": null,
   "metadata": {},
   "outputs": [],
   "source": [
    "### LARGE VIDEO ANALYSIS\n",
    "\n",
    "nr_parallel = np.min([len(analysis_frame.index), 4])\n",
    "\n",
    "run_parallel_flows(\n",
    "    \"flux_extract.py\",\n",
    "    [analysis_folder, 9, 0.95, 0.005, 80, dropbox_address],\n",
    "    analysis_frame,\n",
    "    nr_parallel,\n",
    "    \"2:00:00\",\n",
    "    \"flux_extract\",\n",
    ")\n",
    "clear_output(wait=False)\n",
    "\n",
    "print(\n",
    "    \"Sent all the jobs! Use the command '$ squeue' in the terminal to see the progress\"\n",
    ")"
   ]
  },
  {
   "cell_type": "markdown",
   "metadata": {},
   "source": [
    "## Run local analysis\n",
    "First the analysis function is defined, which you can change to fit the parameters you want. Then the next block of code will use that function to go through each row in the video analyis dataframe and executes the analysis. NOTE: This is not code to go through the analysis, that is for MODULE 3.\n"
   ]
  },
  {
   "cell_type": "code",
   "execution_count": null,
   "metadata": {},
   "outputs": [],
   "source": [
    "edges_objs = analysis_run(\n",
    "    analysis_frame,\n",
    "    analysis_folder,\n",
    "    videos_folder,\n",
    "    dropbox_address,\n",
    "    logging=True,  # Print progress to console\n",
    "    kymo_normalize=True,\n",
    "    kymo_section_width=2.6,  # Width of kymograph lines, adjusted for magnification\n",
    "    edge_len_min=20,\n",
    "    save_edge_extraction_plot=True,\n",
    "    make_video=False,  # Make mp4 of raw data TIFFs\n",
    "    create_snapshot=False,  # Save image of edge\n",
    "    create_edge_video=False,  # Save video of edge\n",
    "    photobleach_adjust=False,  # Adjust kymograph for photobleaching\n",
    "    speed_ext_window_number=9,  # Size range to investigate speeds\n",
    "    speed_ext_window_start=3,  # Start size of window for GST\n",
    "    speed_ext_c_thresh=0.95,  # Confidence threshold for speed determination\n",
    "    speed_ext_c_falloff=0.005,  # Confidence falloff as window size increases\n",
    "    speed_ext_blur_size=1,  # Kymograph blur Gaussian kernel size\n",
    "    speed_ext_blur=False,  # Whether to preblur at all\n",
    "    speed_ext_max_thresh=80,  # Maximum expected speeds (in um/s)\n",
    "    dropbox_upload=False,  # Whether to upload results to dropbox\n",
    ")"
   ]
  },
  {
   "cell_type": "code",
   "execution_count": null,
   "metadata": {},
   "outputs": [],
   "source": [
    "plot_summary(edges_objs[0])"
   ]
  },
  {
   "cell_type": "markdown",
   "metadata": {},
   "source": [
    "### Width profile Kymograph analysis\n",
    "This is going to be some special code to extract multiple kymographs from the same edge, all next to each other. Requires running the previous code to get the analysis objects."
   ]
  },
  {
   "cell_type": "code",
   "execution_count": null,
   "metadata": {},
   "outputs": [],
   "source": [
    "print([[edge.edge_name for edge in edge_list] for edge_list in edges_objs])\n",
    "edge_interest = edges_objs[0][2]\n",
    "\n",
    "width_len = 8\n",
    "# TODO: Get effective mean speed calculation in here too\n",
    "\n",
    "kymos = edge_interest.extract_multi_kymo(width_len, target_length=90)\n",
    "fourier_kymos = edge_interest.fourier_kymo()\n",
    "speeds, times = edge_interest.extract_speeds(15)"
   ]
  },
  {
   "cell_type": "code",
   "execution_count": null,
   "metadata": {},
   "outputs": [],
   "source": [
    "print(np.array(times).shape)\n",
    "speed_max = 20\n",
    "fig, ax = plt.subplots(width_len)\n",
    "for i in range(width_len):\n",
    "    ax[i].plot(times[i], np.nanmean(speeds[i][0], axis=1))\n",
    "    ax[i].plot(times[i], np.nanmean(speeds[i][1], axis=1))\n",
    "    ax[i].fill_between(\n",
    "        times[i],\n",
    "        np.nanmean(speeds[i][0], axis=1) + np.nanstd(speeds[i][0], axis=1),\n",
    "        np.nanmean(speeds[i][0], axis=1) - np.nanstd(speeds[i][0], axis=1),\n",
    "        alpha=0.5,\n",
    "        facecolor=\"tab:blue\",\n",
    "    )\n",
    "    ax[i].fill_between(\n",
    "        times[i],\n",
    "        np.nanmean(speeds[i][1], axis=1) + np.nanstd(speeds[i][1], axis=1),\n",
    "        np.nanmean(speeds[i][1], axis=1) - np.nanstd(speeds[i][1], axis=1),\n",
    "        alpha=0.5,\n",
    "        facecolor=\"tab:orange\",\n",
    "    )\n",
    "    ax[i].set_ylim((-speed_max, speed_max))\n",
    "\n",
    "fig, ax = plt.subplots()\n",
    "for i in range(width_len):\n",
    "    ax.scatter(\n",
    "        i,\n",
    "        np.mean(np.nanmean(speeds[i][0], axis=1)[200:300]),\n",
    "        c=\"tab:blue\",\n",
    "        label=\"to tip\",\n",
    "    )\n",
    "    ax.errorbar(\n",
    "        i,\n",
    "        np.mean(np.nanmean(speeds[i][0], axis=1)[200:300]),\n",
    "        np.nanstd(speeds[i][0][200:300].flatten()),\n",
    "        capsize=5,\n",
    "        c=\"tab:blue\",\n",
    "    )\n",
    "    ax.scatter(\n",
    "        i,\n",
    "        np.mean(np.nanmean(speeds[i][1], axis=1)[200:300]),\n",
    "        c=\"tab:orange\",\n",
    "        label=\"to root\",\n",
    "    )\n",
    "    ax.errorbar(\n",
    "        i,\n",
    "        np.mean(np.nanmean(speeds[i][1], axis=1)[200:300]),\n",
    "        np.nanstd(speeds[i][1][200:300].flatten()),\n",
    "        capsize=5,\n",
    "        c=\"tab:orange\",\n",
    "    )"
   ]
  },
  {
   "cell_type": "markdown",
   "metadata": {},
   "source": [
    "# Module 3: Bulk Analysis\n",
    "## First part: Assemble Edge DataFrame\n",
    "\n",
    "\n",
    "In this initial part of the bulk analysis, all of the analysis folders will be looked through to find the edge data we're looking for. Additionally, there is an optional part to download the analysis folder back to the analysis folder we specified right at the top."
   ]
  },
  {
   "cell_type": "markdown",
   "metadata": {},
   "source": [
    "## Assuming all the analysis folders are already downloaded:\n",
    "You can use below code to read the video_data.json files that are created during indexing of all the videos"
   ]
  },
  {
   "cell_type": "code",
   "execution_count": null,
   "metadata": {},
   "outputs": [],
   "source": [
    "folder_filter = dropbox_address[:]\n",
    "\n",
    "img_infos = glob.glob(\n",
    "    f\"{analysis_folder}{folder_filter}/**/video_data.json\", recursive=True\n",
    ")\n",
    "print(len(img_infos))\n",
    "vid_anls_frame = pd.DataFrame()\n",
    "for address in tqdm(img_infos):\n",
    "    add_info = pd.read_json(address, orient=\"index\").T\n",
    "    vid_anls_frame = pd.concat([vid_anls_frame, add_info], ignore_index=True)\n",
    "\n",
    "vid_frame = vid_anls_frame.sort_values(\"unique_id\").reset_index(drop=True)"
   ]
  },
  {
   "cell_type": "code",
   "execution_count": null,
   "metadata": {},
   "outputs": [],
   "source": [
    "####################################################################################\n",
    "### This is where you can apply the filters. Only those videos will be analyzed. ###\n",
    "####################################################################################\n",
    "\n",
    "analysis_frame = vid_anls_frame[vid_anls_frame[\"unique_id\"] == \"20230813_Plate441_082\"]\n",
    "\n",
    "####################################################################################\n",
    "### Below code will prepare for those videos to be downloaded to videos_folder.  ###\n",
    "####################################################################################\n",
    "# analysis_frame['plate_int'] = [entry.split('_')[-1] for entry in analysis_frame['plate_id']]\n",
    "# analysis_frame['video_int'] = [entry.split('_')[-1] for entry in analysis_frame['unique_id']]\n",
    "analysis_frame"
   ]
  },
  {
   "cell_type": "code",
   "execution_count": null,
   "metadata": {},
   "outputs": [],
   "source": [
    "data_obj = HighmagDataset(analysis_frame, analysis_folder, videos_folder)"
   ]
  },
  {
   "cell_type": "code",
   "execution_count": null,
   "metadata": {},
   "outputs": [],
   "source": [
    "plt.close(\"all\")"
   ]
  },
  {
   "cell_type": "markdown",
   "metadata": {
    "tags": []
   },
   "source": [
    "### Example code 50x speed arrows"
   ]
  },
  {
   "cell_type": "code",
   "execution_count": null,
   "metadata": {},
   "outputs": [],
   "source": [
    "plt.close(\"all\")\n",
    "data_interest = data_obj.filter_edges(\"video_int\", \"<=\", \"004\")\n",
    "\n",
    "for vid_obj in data_interest.video_objs:\n",
    "    vid_obj.plot_speed_arrows()"
   ]
  },
  {
   "cell_type": "markdown",
   "metadata": {},
   "source": [
    "### Example code binned violin-plot\n",
    "bin-column represents the value to be binned, then multiple violin plots are graphed on the same axis."
   ]
  },
  {
   "cell_type": "code",
   "execution_count": null,
   "metadata": {},
   "outputs": [],
   "source": [
    "cover_filter_data = data_obj.filter_edges(\"coverage_tot\", \">=\", 0.5)\n",
    "filter_BF = cover_filter_data.filter_edges(\"mode\", \"==\", \"BF\")\n",
    "# filter_BF = cover_filter_data\n",
    "bin_column = \"edge_width\"\n",
    "\n",
    "# bins = np.linspace(5, 15, 10)\n",
    "bins = np.linspace(\n",
    "    filter_BF.return_edge_frame()[bin_column].min(),\n",
    "    filter_BF.return_edge_frame()[bin_column].max(),\n",
    "    7,\n",
    ")\n",
    "bin_series = filter_BF.bin_values(bin_column, bins)\n",
    "# print(bin_series)\n",
    "\n",
    "labels = []\n",
    "fig, ax = filter_BF.plot_violins(\"speed_right\", bins, c=\"tab:orange\", labels=labels)\n",
    "fig, ax = filter_BF.plot_violins(\n",
    "    \"speed_left\", bins, c=\"tab:blue\", ax=ax, fig=fig, labels=labels\n",
    ")\n",
    "fig, ax = filter_BF.plot_violins(\n",
    "    \"speed_mean\", bins, c=\"tab:red\", ax=ax, fig=fig, labels=labels\n",
    ")\n",
    "\n",
    "ax.axhline(c=\"black\", alpha=0.5, linestyle=\"--\")\n",
    "ax.set_ylabel(\"v $(\\mu m / s)$\")\n",
    "ax.set_xlabel(\"y-position $(\\mu m)$\")\n",
    "ax.legend(*zip(*labels))"
   ]
  },
  {
   "cell_type": "markdown",
   "metadata": {},
   "source": [
    "### Example code for bin-less violin plots\n",
    "This can be for comparing videos, plates, anything with a unique ID"
   ]
  },
  {
   "cell_type": "code",
   "execution_count": null,
   "metadata": {},
   "outputs": [],
   "source": [
    "cover_filter_data = data_obj.filter_edges(\"coverage_tot\", \">=\", 0.3)\n",
    "filter_BF = cover_filter_data\n",
    "\n",
    "labels = []\n",
    "fig, ax = filter_BF.plot_violins(\n",
    "    \"speed_right\", bin_separator=\"plate_id\", c=\"tab:orange\", labels=labels\n",
    ")\n",
    "fig, ax = filter_BF.plot_violins(\n",
    "    \"speed_left\", bin_separator=\"plate_id\", c=\"tab:blue\", ax=ax, fig=fig, labels=labels\n",
    ")\n",
    "fig, ax = filter_BF.plot_violins(\n",
    "    \"speed_mean\", bin_separator=\"plate_id\", c=\"tab:red\", ax=ax, fig=fig, labels=labels\n",
    ")\n",
    "\n",
    "ax.axhline(c=\"black\", alpha=0.5, linestyle=\"--\")\n",
    "ax.set_ylabel(\"v $(\\mu m / s)$\")\n",
    "ax.set_xlabel(\"Plate id's\")\n",
    "ax.legend(*zip(*labels))\n",
    "fig.tight_layout()"
   ]
  },
  {
   "cell_type": "code",
   "execution_count": null,
   "metadata": {},
   "outputs": [],
   "source": [
    "print(data_obj.video_frame[\"video_int\"].to_string())"
   ]
  },
  {
   "cell_type": "markdown",
   "metadata": {},
   "source": [
    "### Example code on visualizing 4x/50x comparisons"
   ]
  },
  {
   "cell_type": "code",
   "execution_count": null,
   "metadata": {},
   "outputs": [],
   "source": [
    "data_4x_filter = data_obj.filter_edges(\"magnification\", \"==\", 4.0)\n",
    "mag_corr_groups = [\n",
    "    data_obj.context_4x(row) for index, row in data_4x_filter.video_frame.iterrows()\n",
    "]\n",
    "for group in tqdm(mag_corr_groups):\n",
    "    group.plot_4x_locs(analysis_folder)"
   ]
  },
  {
   "cell_type": "markdown",
   "metadata": {},
   "source": [
    "### Example code for creating different plate maps\n",
    "Below you can see the filtering options for different plates and the plot_plate_locs function that outputs a map with dots or arrows depending on your wishes. Current drawing modes are:\n",
    "- 'scatter' for dots of the videos, separated by magnification\n",
    "- 'speeds_mean' for black arrows denoting the effective mean speed of the flows\n",
    "- 'speeds_both' for blue and orange arrows denoting the effective speed of flows in both directions\n",
    "- 'vid_labels'  for a list of what videos were taken at each position"
   ]
  },
  {
   "cell_type": "code",
   "execution_count": null,
   "metadata": {},
   "outputs": [],
   "source": [
    "plt.close(\"all\")\n",
    "print(data_obj.video_frame.columns)\n",
    "\n",
    "for plate_id in tqdm(data_obj.video_frame[\"plate_id\"].unique()):\n",
    "    plate_group = data_obj.filter_edges(\"coverage_tot\", \">=\", 0.3)\n",
    "    plate_group = data_obj.filter_edges(\"plate_id\", \"==\", plate_id)\n",
    "    plate_group.plot_plate_locs(\n",
    "        analysis_folder, spd_adj=0.2, modes=[\"scatter\", \"speeds_text\"]\n",
    "    )"
   ]
  },
  {
   "cell_type": "code",
   "execution_count": null,
   "metadata": {},
   "outputs": [],
   "source": [
    "plt.close(\"all\")\n",
    "\n",
    "spd_maxes = []\n",
    "\n",
    "print(data_obj.video_frame[\"plate_int\"].unique())\n",
    "\n",
    "linear_edges = data_obj.filter_edges(\"plate_int\", \"==\", \"Plate440\")\n",
    "linear_edges = linear_edges.filter_edges(\"coverage_left\", \">=\", 0.3)\n",
    "linear_edges = linear_edges.filter_edges(\"coverage_right\", \">=\", 0.3)\n",
    "# linear_edges = linear_edges.filter_edges('speed_left_std', '<=', 0.5)\n",
    "# linear_edges = linear_edges.filter_edges('speed_right_std', '<=', 0.5)\n",
    "# linear_edges = linear_edges.filter_edges('speed_left', '<=', -0.9)\n",
    "# linear_edges = linear_edges.filter_edges('speed_right', '>=', 0.9)\n",
    "for edge in tqdm(linear_edges.edge_objs):\n",
    "    spd_maxes.append(\n",
    "        edge.plot_speed_histo(\n",
    "            spd_extent=10,\n",
    "            spd_tiff_lowbound=0.5,\n",
    "            spd_cutoff=0.5,\n",
    "            bin_res=1000,\n",
    "            plot_fig=False,\n",
    "        )\n",
    "    )"
   ]
  },
  {
   "cell_type": "code",
   "execution_count": null,
   "metadata": {},
   "outputs": [],
   "source": [
    "print(linear_edges.edges_frame[\"video_int\"].to_string())"
   ]
  },
  {
   "cell_type": "code",
   "execution_count": null,
   "metadata": {},
   "outputs": [],
   "source": [
    "spd_maxes = np.array(spd_maxes)\n",
    "fig, ax = plt.subplots(figsize=(10, 5))\n",
    "ax.scatter(\n",
    "    linear_edges.edges_frame[\"ypos\"].astype(float)[:98],\n",
    "    spd_maxes.T[0][:98],\n",
    "    label=\"to tip, hypha 1\",\n",
    ")\n",
    "ax.scatter(\n",
    "    linear_edges.edges_frame[\"ypos\"].astype(float)[:98],\n",
    "    spd_maxes.T[1][:98],\n",
    "    label=\"to root, hypha 1\",\n",
    ")\n",
    "ax.scatter(\n",
    "    linear_edges.edges_frame[\"ypos\"].astype(float)[98:137],\n",
    "    spd_maxes.T[0][98:137],\n",
    "    label=\"to tip, hypha 2\",\n",
    ")\n",
    "ax.scatter(\n",
    "    linear_edges.edges_frame[\"ypos\"].astype(float)[98:137],\n",
    "    spd_maxes.T[1][98:137],\n",
    "    label=\"to root, hypha 2\",\n",
    ")\n",
    "ax.scatter(\n",
    "    linear_edges.edges_frame[\"ypos\"].astype(float)[144:193],\n",
    "    spd_maxes.T[0][144:193],\n",
    "    label=\"to tip, hypha 3\",\n",
    ")\n",
    "ax.scatter(\n",
    "    linear_edges.edges_frame[\"ypos\"].astype(float)[144:193],\n",
    "    spd_maxes.T[1][144:193],\n",
    "    label=\"to root, hypha 3\",\n",
    ")\n",
    "ax.scatter(\n",
    "    linear_edges.edges_frame[\"ypos\"].astype(float)[193:],\n",
    "    spd_maxes.T[0][193:],\n",
    "    label=\"to tip, hypha 4\",\n",
    ")\n",
    "ax.scatter(\n",
    "    linear_edges.edges_frame[\"ypos\"].astype(float)[193:],\n",
    "    spd_maxes.T[1][193:],\n",
    "    label=\"to root, hypha 4\",\n",
    ")\n",
    "# ax.scatter(linear_edges.edges_frame['ypos'].astype(int), spd_maxes.T[0], label='to tip')\n",
    "# ax.scatter(linear_edges.edges_frame['ypos'].astype(int), spd_maxes.T[1], label='to root')\n",
    "ax.grid(True)\n",
    "ax.set_ylabel(\"Measured speed (max of histogram) $(\\mu m /s)$\")\n",
    "ax.set_xlabel(\"y-position (root to tip)\")\n",
    "ax.set_title(\"Speeds along a single hypha\")\n",
    "ax.legend()\n",
    "# print(linear_edges.edges_frame['video_int'].to_string())"
   ]
  },
  {
   "cell_type": "code",
   "execution_count": null,
   "metadata": {},
   "outputs": [],
   "source": [
    "for edge in data_obj.edge_objs:\n",
    "    edge.show_summary()"
   ]
  },
  {
   "cell_type": "code",
   "execution_count": null,
   "metadata": {},
   "outputs": [],
   "source": []
  }
 ],
 "metadata": {
  "kernelspec": {
   "display_name": "Python 3 (ipykernel)",
   "language": "python",
   "name": "python3"
  },
  "language_info": {
   "codemirror_mode": {
    "name": "ipython",
    "version": 3
   },
   "file_extension": ".py",
   "mimetype": "text/x-python",
   "name": "python",
   "nbconvert_exporter": "python",
   "pygments_lexer": "ipython3",
   "version": "3.7.13"
  }
 },
 "nbformat": 4,
 "nbformat_minor": 4
}

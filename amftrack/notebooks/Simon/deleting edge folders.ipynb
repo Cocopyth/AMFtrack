{
 "cells": [
  {
   "cell_type": "code",
   "execution_count": 12,
   "id": "01180447",
   "metadata": {},
   "outputs": [
    {
     "name": "stdout",
     "output_type": "stream",
     "text": [
      "The autoreload extension is already loaded. To reload it, use:\n",
      "  %reload_ext autoreload\n",
      "import great succes!\n"
     ]
    }
   ],
   "source": [
    "from IPython.display import clear_output\n",
    "import os\n",
    "os.environ['CUDA_VISIBLE_DEVICES'] = '-1'\n",
    "import re\n",
    "\n",
    "import sys\n",
    "import dropbox\n",
    "import pandas as pd\n",
    "import numpy as np\n",
    "import imageio.v2 as imageio\n",
    "import matplotlib.pyplot as plt\n",
    "import cv2\n",
    "import logging\n",
    "import datetime\n",
    "import glob\n",
    "import json\n",
    "import scipy\n",
    "import matplotlib as mpl\n",
    "from amftrack.util.dbx import load_dbx\n",
    "\n",
    "from amftrack.pipeline.development.high_mag_videos.plot_data import (\n",
    "    plot_summary,\n",
    "    save_raw_data,\n",
    "    delete_dropbox_folders,\n",
    ")\n",
    "\n",
    "%matplotlib widget\n",
    "%load_ext autoreload\n",
    "%autoreload 2\n",
    "logging.basicConfig(stream=sys.stdout, level=logging.debug)\n",
    "mpl.rcParams['figure.dpi'] = 200\n",
    "\n",
    "print(\"import great succes!\")\n",
    "%reload_ext autoreload"
   ]
  },
  {
   "cell_type": "code",
   "execution_count": 2,
   "id": "d28b4d8b",
   "metadata": {},
   "outputs": [],
   "source": [
    "dropbox_folder=\"/DATA/CocoTransport/KymoSpeeDExtract/20230906_Plate310/001/Img\""
   ]
  },
  {
   "cell_type": "code",
   "execution_count": 31,
   "id": "a35a4847",
   "metadata": {},
   "outputs": [
    {
     "name": "stdout",
     "output_type": "stream",
     "text": [
      "2023-11-24 10:17:36,183-[INFO]- dropbox:390 -> Refreshing access token.\n",
      "2023-11-24 10:17:36,332-[INFO]- dropbox:474 -> Request to files/list_folder\n",
      "2023-11-24 10:17:36,647-[INFO]- dropbox:474 -> Request to files/delete_v2\n",
      "Deleted folder: edge (10, 7)\n",
      "2023-11-24 10:17:37,253-[INFO]- dropbox:474 -> Request to files/delete_v2\n",
      "Deleted folder: edge (2, 0)\n",
      "2023-11-24 10:17:37,884-[INFO]- dropbox:474 -> Request to files/delete_v2\n",
      "Deleted folder: edge (4, 2)\n",
      "2023-11-24 10:17:38,456-[INFO]- dropbox:474 -> Request to files/delete_v2\n",
      "Deleted folder: edge (11, 4)\n",
      "2023-11-24 10:17:39,065-[INFO]- dropbox:474 -> Request to files/delete_v2\n",
      "Deleted folder: edge (5, 2)\n",
      "2023-11-24 10:17:39,685-[INFO]- dropbox:474 -> Request to files/delete_v2\n",
      "Deleted folder: edge (5, 4)\n",
      "2023-11-24 10:17:40,314-[INFO]- dropbox:474 -> Request to files/delete_v2\n",
      "Deleted folder: edge (4, 3)\n",
      "2023-11-24 10:17:40,905-[INFO]- dropbox:474 -> Request to files/delete_v2\n",
      "Deleted folder: edge (15, 14)\n",
      "2023-11-24 10:17:41,560-[INFO]- dropbox:474 -> Request to files/delete_v2\n",
      "Deleted folder: edge (9, 7)\n"
     ]
    }
   ],
   "source": [
    "# dbx=load_dbx()\n",
    "delete_dropbox_folders(dropbox_folder)"
   ]
  },
  {
   "cell_type": "code",
   "execution_count": null,
   "id": "bcaadc95",
   "metadata": {},
   "outputs": [],
   "source": []
  }
 ],
 "metadata": {
  "kernelspec": {
   "display_name": "Python 3 (ipykernel)",
   "language": "python",
   "name": "python3"
  },
  "language_info": {
   "codemirror_mode": {
    "name": "ipython",
    "version": 3
   },
   "file_extension": ".py",
   "mimetype": "text/x-python",
   "name": "python",
   "nbconvert_exporter": "python",
   "pygments_lexer": "ipython3",
   "version": "3.9.5"
  }
 },
 "nbformat": 4,
 "nbformat_minor": 5
}

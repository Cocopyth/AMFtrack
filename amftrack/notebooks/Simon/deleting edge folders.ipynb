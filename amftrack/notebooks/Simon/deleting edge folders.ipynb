{
 "cells": [
  {
   "cell_type": "code",
   "execution_count": null,
   "id": "01180447",
   "metadata": {},
   "outputs": [],
   "source": [
    "from IPython.display import clear_output\n",
    "import os\n",
    "os.environ['CUDA_VISIBLE_DEVICES'] = '-1'\n",
    "import re\n",
    "\n",
    "import sys\n",
    "import dropbox\n",
    "import pandas as pd\n",
    "import numpy as np\n",
    "import imageio.v2 as imageio\n",
    "import matplotlib.pyplot as plt\n",
    "import cv2\n",
    "import logging\n",
    "import datetime\n",
    "import glob\n",
    "import json\n",
    "import scipy\n",
    "import matplotlib as mpl\n",
    "from amftrack.util.dbx import load_dbx\n",
    "\n",
    "from amftrack.pipeline.development.high_mag_videos.plot_data import (\n",
    "    plot_summary,\n",
    "    save_raw_data,\n",
    "    delete_dropbox_folders,\n",
    ")\n",
    "\n",
    "%matplotlib widget\n",
    "%load_ext autoreload\n",
    "%autoreload 2\n",
    "logging.basicConfig(stream=sys.stdout, level=logging.debug)\n",
    "mpl.rcParams['figure.dpi'] = 200\n",
    "\n",
    "print(\"import great succes!\")\n",
    "%reload_ext autoreload"
   ]
  },
  {
   "cell_type": "code",
   "execution_count": null,
   "id": "d28b4d8b",
   "metadata": {},
   "outputs": [],
   "source": [
    "dropbox_folder=\"/DATA/CocoTransport/KymoSpeeDExtract/20230906_Plate310/001/Img\""
   ]
  },
  {
   "cell_type": "code",
   "execution_count": null,
   "id": "a35a4847",
   "metadata": {},
   "outputs": [],
   "source": [
    "# dbx=load_dbx()\n",
    "delete_dropbox_folders(dropbox_folder)"
   ]
  },
  {
   "cell_type": "code",
   "execution_count": null,
   "id": "bcaadc95",
   "metadata": {},
   "outputs": [],
   "source": []
  }
 ],
 "metadata": {
  "kernelspec": {
   "display_name": "Python 3 (ipykernel)",
   "language": "python",
   "name": "python3"
  },
  "language_info": {
   "codemirror_mode": {
    "name": "ipython",
    "version": 3
   },
   "file_extension": ".py",
   "mimetype": "text/x-python",
   "name": "python",
   "nbconvert_exporter": "python",
   "pygments_lexer": "ipython3",
   "version": "3.9.5"
  }
 },
 "nbformat": 4,
 "nbformat_minor": 5
}

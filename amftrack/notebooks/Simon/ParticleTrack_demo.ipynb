{
 "cells": [
  {
   "cell_type": "markdown",
   "metadata": {
    "pycharm": {
     "name": "#%% md\n"
    }
   },
   "source": [
    "# Particle Tracker Demo\n",
    "This file serves to show off a hacked together version of a particle tracker system I would like to build. The applications of this tracker would be to characterize the speed of particles, their shape, the tracks that they pursue and the particle fluxed of the Hyphae that they travel in."
   ]
  },
  {
   "cell_type": "code",
   "execution_count": 7,
   "metadata": {
    "pycharm": {
     "name": "#%%\n"
    }
   },
   "outputs": [],
   "source": [
    "%matplotlib widget\n",
    "%load_ext autoreload\n",
    "%autoreload 2\n",
    "\n",
    "import cv2 as cv\n",
    "import numpy as np\n",
    "import matplotlib.pyplot as plt\n",
    "import glob\n",
    "import os\n",
    "from amftrack.util.sys import storage_path\n",
    "from amftrack.util.sys import temp_path\n",
    "\n",
    "\n",
    "plate_name = '20221109_Plate462_04'\n",
    "\n",
    "img_seq = glob.glob(storage_path + '\\\\' + plate_name + '\\\\*')"
   ]
  },
  {
   "cell_type": "markdown",
   "metadata": {
    "pycharm": {
     "name": "#%% md\n"
    }
   },
   "source": [
    "## Preprocessing\n",
    "This file will use the TIFF format from the transfer setup. These videos can sometimes have a bit of vibration in them, and they can be grainy. Some preprocessing options should be available to blur and stabilize the videos."
   ]
  },
  {
   "cell_type": "code",
   "execution_count": 8,
   "metadata": {
    "pycharm": {
     "name": "#%%\n"
    }
   },
   "outputs": [],
   "source": [
    "# for img_name in img_seq:\n",
    "#     img = 255 - cv.imread(img_name)\n",
    "#     img = cv.GaussianBlur(img, (5,5), 0)\n",
    "#     cv.imwrite(temp_path + '\\\\' + img_name[-9:-5]+'.tiff', img)\n",
    "\n",
    "fig, ax = plt.subplots(1,2)\n",
    "img = cv.imread(img_seq[-1])\n",
    "ax[0].imshow(img)\n",
    "ax[1].imshow(cv.imread(glob.glob(temp_path + '\\\\*.tiff')[-1]))"
   ]
  },
  {
   "cell_type": "markdown",
   "metadata": {
    "pycharm": {
     "name": "#%% md\n"
    }
   },
   "source": [
    "## Hypha Detection\n",
    "For the purposes of this project, it might be useful to be able to filter out the non-hypha data. These functions then serve to create a binary map between hypha and non-hypha pixels.\n",
    "\n",
    "## Blob detection\n",
    "Here we create distance maps within the Hypha pixels to ultimately detect the center and radius of a blob. Blender will later use these data to create its trackers.\n",
    "\n",
    "## Treatment of certain frames\n",
    "The preprocessing described above does not have to be done to every frame. We trust Blender to be able to track particles through a certain amount of frames. As such, we only have to detect blobs and initiate tracking in a few frames of the video.\n",
    "\n",
    "## Blender\n",
    "This is where the magic happens. We are running Blender in the background in order to use its particle tracking system. This means that we need to open it in the background, and let it run a script. Then Blender will save the tracking data in a file format that was chosen for this."
   ]
  },
  {
   "cell_type": "code",
   "execution_count": 2,
   "metadata": {
    "pycharm": {
     "name": "#%%\n"
    }
   },
   "outputs": [],
   "source": []
  }
 ],
 "metadata": {
  "kernelspec": {
   "display_name": "Python 3 (ipykernel)",
   "language": "python",
   "name": "python3"
  },
  "language_info": {
   "codemirror_mode": {
    "name": "ipython",
    "version": 3
   },
   "file_extension": ".py",
   "mimetype": "text/x-python",
   "name": "python",
   "nbconvert_exporter": "python",
   "pygments_lexer": "ipython3",
   "version": "3.10.10"
  }
 },
 "nbformat": 4,
 "nbformat_minor": 1
}
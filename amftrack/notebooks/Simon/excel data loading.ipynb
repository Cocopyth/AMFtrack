{
 "cells": [
  {
   "cell_type": "code",
   "execution_count": null,
   "id": "01180447",
   "metadata": {},
   "outputs": [],
   "source": [
    "from IPython.display import clear_output\n",
    "import os\n",
    "os.environ['CUDA_VISIBLE_DEVICES'] = '-1'\n",
    "import re\n",
    "\n",
    "import sys\n",
    "import dropbox\n",
    "import pandas as pd\n",
    "import numpy as np\n",
    "import imageio.v2 as imageio\n",
    "import matplotlib.pyplot as plt\n",
    "import cv2\n",
    "import logging\n",
    "import datetime\n",
    "import glob\n",
    "import json\n",
    "import scipy\n",
    "import matplotlib as mpl\n",
    "from amftrack.util.dbx import load_dbx\n",
    "\n",
    "from amftrack.pipeline.development.high_mag_videos.plot_data import (\n",
    "    plot_summary,\n",
    "    save_raw_data,\n",
    "    delete_dropbox_folders,\n",
    ")\n",
    "\n",
    "%matplotlib widget\n",
    "%load_ext autoreload\n",
    "%autoreload 2\n",
    "logging.basicConfig(stream=sys.stdout, level=logging.debug)\n",
    "mpl.rcParams['figure.dpi'] = 200\n",
    "\n",
    "print(\"import great succes!\")\n",
    "%reload_ext autoreload"
   ]
  },
  {
   "cell_type": "code",
   "execution_count": null,
   "id": "d28b4d8b",
   "metadata": {},
   "outputs": [],
   "source": [
    "analysis_folder=\"/gpfs/home6/svstaalduine/Analysis/CocoTransport/\"\n",
    "\n",
    "excel_address = \"/Daan te Rietmole/SpeedCheck.xlx\""
   ]
  },
  {
   "cell_type": "code",
   "execution_count": null,
   "id": "213948ea",
   "metadata": {},
   "outputs": [],
   "source": [
    "analysis_filter = \"20230906_Plate310/\""
   ]
  },
  {
   "cell_type": "code",
   "execution_count": null,
   "id": "a35a4847",
   "metadata": {},
   "outputs": [],
   "source": [
    "%%time\n",
    "edgedata = glob.glob(analysis_folder+analysis_filter+\"*/*.csv\")\n",
    "print(len(edgedata))\n",
    "print(analysis_folder+analysis_filter+\"*/*.csv\")"
   ]
  },
  {
   "cell_type": "code",
   "execution_count": null,
   "id": "bcaadc95",
   "metadata": {},
   "outputs": [],
   "source": [
    "%%time\n",
    "\n",
    "list_of_BF_dfs = []\n",
    "list_of_FL_dfs = []\n",
    "\n",
    "interested_subdirectories = ['20230906_Plate310']\n",
    "# Walk through the directory and its subdirectories\n",
    "i=0\n",
    "for root, dirs, files in os.walk(analysis_folder):\n",
    "    if any(subdir in root for subdir in interested_subdirectories):\n",
    "        for file in files:\n",
    "            if file.endswith('.csv'):\n",
    "                i+=1\n",
    "                file_path = os.path.join(root, file)\n",
    "                df = pd.read_csv(file_path)\n",
    "                if i%2==0:\n",
    "                    list_of_FL_dfs.append(df)\n",
    "                else:\n",
    "                    list_of_BF_dfs.append(df)\n",
    "                    \n",
    "\n",
    "# Concatenate all DataFrames in the list into a single DataFrame\n",
    "combined_FL_df = pd.concat(list_of_FL_dfs, ignore_index=True)\n",
    "combined_BF_df = pd.concat(list_of_BF_dfs, ignore_index=True)"
   ]
  },
  {
   "cell_type": "code",
   "execution_count": null,
   "id": "ebec6943",
   "metadata": {},
   "outputs": [],
   "source": [
    "print(len(list_of_BF_dfs))\n",
    "print(len(list_of_FL_dfs))\n",
    "\n",
    "print(df.columns.tolist())"
   ]
  },
  {
   "cell_type": "code",
   "execution_count": null,
   "id": "158eb785",
   "metadata": {},
   "outputs": [],
   "source": [
    "print(combined_df['edge_name'].iloc[2])"
   ]
  },
  {
   "cell_type": "code",
   "execution_count": null,
   "id": "32698da7",
   "metadata": {},
   "outputs": [],
   "source": [
    "%%time\n",
    "FL_df = combined_FL_df[combined_FL_df['coverage_tot']>=0]\n",
    "BF_df = combined_BF_df[combined_BF_df['coverage_tot']>=0]\n",
    "print(len(FL_df))\n",
    "print(len(BF_df))"
   ]
  },
  {
   "cell_type": "code",
   "execution_count": null,
   "id": "76cdfc50",
   "metadata": {},
   "outputs": [],
   "source": [
    "fig, ax = plt.subplots()\n",
    "ax.scatter(combined_BF_df['speed_left'],combined_BF_df['speed_right'], alpha=combined_BF_df['coverage_tot'], color='red')\n",
    "ax.scatter(combined_FL_df['speed_left'],combined_FL_df['speed_right'], alpha=combined_FL_df['coverage_tot'], color='green')\n",
    "plt.show()"
   ]
  },
  {
   "cell_type": "code",
   "execution_count": null,
   "id": "57125cea",
   "metadata": {},
   "outputs": [],
   "source": []
  }
 ],
 "metadata": {
  "kernelspec": {
   "display_name": "Python 3 (ipykernel)",
   "language": "python",
   "name": "python3"
  },
  "language_info": {
   "codemirror_mode": {
    "name": "ipython",
    "version": 3
   },
   "file_extension": ".py",
   "mimetype": "text/x-python",
   "name": "python",
   "nbconvert_exporter": "python",
   "pygments_lexer": "ipython3",
   "version": "3.9.5"
  }
 },
 "nbformat": 4,
 "nbformat_minor": 5
}

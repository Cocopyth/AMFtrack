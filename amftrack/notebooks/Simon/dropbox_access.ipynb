{
 "cells": [
  {
   "cell_type": "markdown",
   "id": "cae9c7c7",
   "metadata": {},
   "source": [
    "## shh, I just want to download some plate maps\n",
    "\n",
    "Don't mind me"
   ]
  },
  {
   "cell_type": "code",
   "execution_count": null,
   "id": "3ec8317c",
   "metadata": {},
   "outputs": [],
   "source": [
    "from IPython.display import clear_output\n",
    "import os\n",
    "os.environ['CUDA_VISIBLE_DEVICES'] = '-1'\n",
    "import re\n",
    "\n",
    "import sys\n",
    "import dropbox\n",
    "import pandas as pd\n",
    "import numpy as np\n",
    "import imageio.v2 as imageio\n",
    "import matplotlib.pyplot as plt\n",
    "import cv2\n",
    "import matplotlib as mpl\n",
    "\n",
    "from subprocess import call\n",
    "from tifffile import imwrite\n",
    "from tqdm import tqdm\n",
    "from pathlib import Path\n",
    "from amftrack.util.dbx import upload_folder, download, read_saved_dropbox_state, save_dropbox_state, load_dbx, get_dropbox_folders_prince, get_dropbox_video_folders, download_video_folders_drop, download_analysis_folders_drop\n",
    "from amftrack.pipeline.launching.run import (\n",
    "    run_transfer,\n",
    ")\n",
    "\n",
    "%matplotlib widget\n",
    "%load_ext autoreload\n",
    "%autoreload 2\n",
    "mpl.rcParams['figure.dpi'] = 200\n",
    "dbx = load_dbx()\n"
   ]
  },
  {
   "cell_type": "code",
   "execution_count": null,
   "id": "9be46459",
   "metadata": {},
   "outputs": [],
   "source": [
    "folder_address = Path(\"/DATA/FLUORESCENCE/DATA_NileRed/20230125_Plate532/\")\n",
    "target_address = Path(\"/gpfs/home6/svstaalduine/Analysis/plate_maps/rachael/\")\n",
    "\n",
    "target_address.mkdir(parents=True, exist_ok=True)\n",
    "\n",
    "response = dbx.files_list_folder(folder_address.as_posix(), recursive=False)\n",
    "continue_bool=True\n",
    "while continue_bool:\n",
    "    for entry in response.entries:\n",
    "        print(entry.name)\n",
    "    continue_bool = response.has_more\n"
   ]
  },
  {
   "cell_type": "code",
   "execution_count": null,
   "id": "c85d0b1d",
   "metadata": {},
   "outputs": [],
   "source": [
    "target_file = \"Scan_Plate532.pdf\"\n",
    "db_in = (folder_address/target_file).as_posix()\n",
    "db_out = (target_address / target_file).as_posix()\n",
    "\n",
    "download(db_in, db_out)\n"
   ]
  },
  {
   "cell_type": "code",
   "execution_count": null,
   "id": "1ac674c8",
   "metadata": {},
   "outputs": [],
   "source": []
  }
 ],
 "metadata": {
  "kernelspec": {
   "display_name": "Python 3 (ipykernel)",
   "language": "python",
   "name": "python3"
  },
  "language_info": {
   "codemirror_mode": {
    "name": "ipython",
    "version": 3
   },
   "file_extension": ".py",
   "mimetype": "text/x-python",
   "name": "python",
   "nbconvert_exporter": "python",
   "pygments_lexer": "ipython3",
   "version": "3.9.5"
  }
 },
 "nbformat": 4,
 "nbformat_minor": 5
}

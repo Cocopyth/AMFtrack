{
 "cells": [
  {
   "cell_type": "code",
   "execution_count": null,
   "id": "3ed8b1e4",
   "metadata": {},
   "outputs": [],
   "source": [
    "from amftrack.pipeline.development.high_mag_videos.kymo_class import *\n",
    "from amftrack.pipeline.development.high_mag_videos.plot_data import (\n",
    "    save_raw_data,\n",
    "    plot_summary\n",
    ")\n",
    "# from amftrack.pipeline.development.high_mag_videos.high_mag_videos_fun import segment_brightfield\n",
    "import os\n",
    "import imageio.v2 as imageio\n",
    "import matplotlib.pyplot as plt\n",
    "import cv2\n",
    "from tifffile import imwrite\n",
    "from tifffile import imread\n",
    "from tqdm import tqdm\n",
    "%matplotlib widget\n",
    "%load_ext autoreload\n",
    "%autoreload 2\n",
    "from amftrack.pipeline.functions.image_processing.extract_graph import (\n",
    "    from_sparse_to_graph,\n",
    "    generate_nx_graph,\n",
    "    clean_degree_4,\n",
    ")\n",
    "import scipy\n",
    "from pathlib import Path\n",
    "import matplotlib as mpl\n",
    "mpl.rcParams['figure.dpi'] = 300\n"
   ]
  },
  {
   "cell_type": "code",
   "execution_count": null,
   "id": "86da390e",
   "metadata": {},
   "outputs": [],
   "source": [
    "def segment_brightfield(image, thresh=0.5e-6, frangi_range=np.arange(70, 170, 30), seg_thresh = 11, binning=2):\n",
    "    frangi_range = frangi_range * 2 / binning\n",
    "    smooth_im_blur = cv2.blur(-image, (11, 11))\n",
    "    smooth_im = frangi(-smooth_im_blur, frangi_range)\n",
    "    smooth_im = np.array(smooth_im * (255/np.max(smooth_im)), dtype=np.uint8)\n",
    "    seg_shape = smooth_im.shape\n",
    "\n",
    "#     for i in range(1, 100):\n",
    "#         _, segmented = cv2.threshold(smooth_im, i, 255, cv2.THRESH_BINARY)\n",
    "#         coverage = 100 * np.sum(1 * segmented.flatten()) / (255 * seg_shape[0] * seg_shape[1])\n",
    "#         if coverage < seg_thresh:\n",
    "#             break\n",
    "    return smooth_im\n",
    "    \n",
    "\n",
    "vid_folder = Path(\"/gpfs/scratch1/shared/amftrackflow/videos/CocoTransport/\")\n",
    "plate = \"20230729_Plate440\"\n",
    "vid_interest = \"090\"\n",
    "img_address = vid_folder / plate / vid_interest\n",
    "\n",
    "imgs = sorted([path for path in img_address.glob(\"*/*.ti*\")])\n",
    "img = imread(imgs[0])\n",
    "\n",
    "print(imgs[0])"
   ]
  },
  {
   "cell_type": "code",
   "execution_count": null,
   "id": "75b05813",
   "metadata": {},
   "outputs": [],
   "source": [
    "# segmented = segment_brightfield(img, frangi_range = np.arange(5, 40, 3))\n",
    "segmented = segment_brightfield(img, frangi_range = np.arange(10, 150, 20))\n",
    "_, segment_thresh = cv2.threshold(segmented, 0,255,cv2.THRESH_BINARY+cv2.THRESH_OTSU)\n",
    "segment_thresh = cv2.morphologyEx(segment_thresh, cv2.MORPH_CLOSE, np.ones((250,250)))\n",
    "\n",
    "fig, ax = plt.subplots(2, 2, figsize=(10, 5))\n",
    "ax[0][0].imshow(img)\n",
    "ax[0][1].imshow(segmented)\n",
    "ax[1][0].imshow(segment_thresh)\n",
    "fig.tight_layout()\n",
    "\n",
    "# fig, ax = plt.subplots()\n",
    "# ax.hist(segmented.flatten())"
   ]
  },
  {
   "cell_type": "code",
   "execution_count": null,
   "id": "a9d7eb93",
   "metadata": {},
   "outputs": [],
   "source": []
  }
 ],
 "metadata": {
  "kernelspec": {
   "display_name": "Python 3 (ipykernel)",
   "language": "python",
   "name": "python3"
  },
  "language_info": {
   "codemirror_mode": {
    "name": "ipython",
    "version": 3
   },
   "file_extension": ".py",
   "mimetype": "text/x-python",
   "name": "python",
   "nbconvert_exporter": "python",
   "pygments_lexer": "ipython3",
   "version": "3.9.5"
  }
 },
 "nbformat": 4,
 "nbformat_minor": 5
}

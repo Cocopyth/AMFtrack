{
 "cells": [
  {
   "cell_type": "code",
   "execution_count": 9,
   "id": "5dc993d4",
   "metadata": {
    "pycharm": {
     "name": "#%%\n"
    },
    "ExecuteTime": {
     "end_time": "2023-08-24T09:03:19.805106900Z",
     "start_time": "2023-08-24T09:03:18.540136800Z"
    }
   },
   "outputs": [
    {
     "name": "stdout",
     "output_type": "stream",
     "text": [
      "The autoreload extension is already loaded. To reload it, use:\n",
      "  %reload_ext autoreload\n"
     ]
    }
   ],
   "source": [
    "from amftrack.pipeline.development.high_mag_videos.kymo_class import *\n",
    "from amftrack.pipeline.development.high_mag_videos.plot_data import save_raw_data, plot_summary\n",
    "import os\n",
    "from pathlib import Path\n",
    "import pandas as pd\n",
    "import imageio.v2 as imageio\n",
    "import matplotlib.pyplot as plt\n",
    "import cv2\n",
    "from glob import glob\n",
    "from tqdm import tqdm\n",
    "from tifffile import imwrite\n",
    "\n",
    "%matplotlib widget\n",
    "%load_ext autoreload\n",
    "%autoreload 2\n"
   ]
  },
  {
   "cell_type": "markdown",
   "id": "4730c092",
   "metadata": {
    "pycharm": {
     "name": "#%% md\n"
    }
   },
   "source": [
    "# Welcome to the kymograph analysis pipeline module!\n",
    "\n",
    "Use this notebook to load kymographs and extract transport flows from them. The first step is to supply some file parameters to make sure that the measurements are connected to real metrics and that the segmentation method is correct.\n",
    "\n",
    "Important to note: \n",
    "Seg-Tresh is the limit of what percentage of the segmented image should be hypha. "
   ]
  },
  {
   "cell_type": "code",
   "execution_count": 33,
   "id": "2dd5a1b0",
   "metadata": {
    "pycharm": {
     "is_executing": true,
     "name": "#%%\n"
    },
    "scrolled": false,
    "ExecuteTime": {
     "end_time": "2023-08-24T09:51:07.283098200Z",
     "start_time": "2023-08-24T09:44:08.607999400Z"
    }
   },
   "outputs": [
    {
     "name": "stderr",
     "output_type": "stream",
     "text": [
      "100%|██████████| 9/9 [06:50<00:00, 45.66s/it]\n"
     ]
    }
   ],
   "source": [
    "### Please supply a folder with kymographs. You can filter it based on the title. \n",
    "### Doing that makes it easier to set image parameters for each kymo group.\n",
    "### Spatial resolution should be in micrometers\n",
    "\n",
    "img_address = 'E:\\\\AMOLF_Data\\\\single_tiffs\\\\*.tif'\n",
    "out_address = Path('E:\\\\AMOLF_Data\\\\single_tiffs_output\\\\')\n",
    "    \n",
    "# space_resolution is in micrometers per pixel,\n",
    "# fps is in frames per second\n",
    "# space_resolution = 4*1.725 / 50\n",
    "space_resolution = 0.8625\n",
    "fps = 10\n",
    "display_kymos=True\n",
    "\n",
    "address_list = [Path(address) for address in glob(img_address)]\n",
    "kymo_stack  = [imageio.imread(address) for address in address_list]\n",
    "kymo_edge_list = [KymoEdgeAnalysis(kymo=kymo, edge_name=address_list[i].stem, address=out_address) for i, kymo in enumerate(kymo_stack)]\n",
    "\n",
    "for i, kymo_anal in enumerate(tqdm(kymo_edge_list)):\n",
    "    title = address_list[i].name.split('.')[-2]\n",
    "    imshow_extent = [0, space_resolution * kymo_anal.kymo.shape[1],\n",
    "                1/fps * kymo_anal.kymo.shape[0], 0]\n",
    "    kymo_anal.space_pixel_size = space_resolution\n",
    "    kymo_anal.time_pixel_size = 1/fps    \n",
    "    forw_thresh, back_thresh = kymo_anal.fourier_kymo(1, test_plots=False)\n",
    "    speeds, times = kymo_anal.extract_speeds(15, w_start=3, C_thresh=0.95, C_thresh_falloff = 0.00, blur_size = 3, preblur=True, speed_thresh=80)\n",
    "    flux_tot = kymo_anal.extract_transport()"
   ]
  },
  {
   "cell_type": "code",
   "execution_count": 35,
   "id": "43383edc",
   "metadata": {
    "ExecuteTime": {
     "end_time": "2023-08-24T09:58:20.736377200Z",
     "start_time": "2023-08-24T09:55:59.012643300Z"
    }
   },
   "outputs": [
    {
     "name": "stderr",
     "output_type": "stream",
     "text": [
      "C:\\GitHub_Projects\\AMOLF\\amftrack\\pipeline\\development\\high_mag_videos\\plot_data.py:135: RuntimeWarning: divide by zero encountered in true_divide\n",
      "  vel_adj = np.where(np.isinf(np.divide(spd_tiff[2], kymo_tiff[1])), np.nan, np.divide(spd_tiff[2], kymo_tiff[1]))\n",
      "C:\\GitHub_Projects\\AMOLF\\amftrack\\pipeline\\development\\high_mag_videos\\plot_data.py:56: RuntimeWarning: divide by zero encountered in true_divide\n",
      "  vel_adj = np.where(np.isinf(np.divide(spd_tiff[2], kymo_tiff[1])), np.nan, np.divide(spd_tiff[2], kymo_tiff[1]))\n",
      "C:\\GitHub_Projects\\AMOLF\\amftrack\\pipeline\\development\\high_mag_videos\\plot_data.py:56: RuntimeWarning: divide by zero encountered in true_divide\n",
      "  vel_adj = np.where(np.isinf(np.divide(spd_tiff[2], kymo_tiff[1])), np.nan, np.divide(spd_tiff[2], kymo_tiff[1]))\n",
      "C:\\GitHub_Projects\\AMOLF\\amftrack\\pipeline\\development\\high_mag_videos\\plot_data.py:56: RuntimeWarning: divide by zero encountered in true_divide\n",
      "  vel_adj = np.where(np.isinf(np.divide(spd_tiff[2], kymo_tiff[1])), np.nan, np.divide(spd_tiff[2], kymo_tiff[1]))\n",
      "C:\\GitHub_Projects\\AMOLF\\amftrack\\pipeline\\development\\high_mag_videos\\plot_data.py:56: RuntimeWarning: divide by zero encountered in true_divide\n",
      "  vel_adj = np.where(np.isinf(np.divide(spd_tiff[2], kymo_tiff[1])), np.nan, np.divide(spd_tiff[2], kymo_tiff[1]))\n"
     ]
    }
   ],
   "source": [
    "for i, edge in enumerate(kymo_edge_list):\n",
    "    edge.edge_name = (i,i)\n",
    "plot_summary(kymo_edge_list)\n",
    "save_raw_data(kymo_edge_list, out_address)"
   ]
  },
  {
   "cell_type": "code",
   "execution_count": null,
   "outputs": [],
   "source": [],
   "metadata": {
    "collapsed": false
   }
  }
 ],
 "metadata": {
  "kernelspec": {
   "display_name": "Python 3 (ipykernel)",
   "language": "python",
   "name": "python3"
  },
  "language_info": {
   "codemirror_mode": {
    "name": "ipython",
    "version": 3
   },
   "file_extension": ".py",
   "mimetype": "text/x-python",
   "name": "python",
   "nbconvert_exporter": "python",
   "pygments_lexer": "ipython3",
   "version": "3.10.10"
  }
 },
 "nbformat": 4,
 "nbformat_minor": 5
}

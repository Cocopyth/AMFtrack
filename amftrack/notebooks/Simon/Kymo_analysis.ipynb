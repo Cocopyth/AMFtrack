{
 "cells": [
  {
   "cell_type": "code",
   "execution_count": null,
   "id": "5dc993d4",
   "metadata": {
    "pycharm": {
     "name": "#%%\n"
    }
   },
   "outputs": [],
   "source": [
    "from amftrack.pipeline.development.high_mag_videos.kymo_class import *\n",
    "from amftrack.pipeline.development.high_mag_videos.plot_data import (\n",
    "    save_raw_data,\n",
    "    plot_summary,\n",
    ")\n",
    "from scipy.signal import find_peaks\n",
    "import os\n",
    "from pathlib import Path\n",
    "import pandas as pd\n",
    "import imageio.v2 as imageio\n",
    "import matplotlib.pyplot as plt\n",
    "import cv2\n",
    "from glob import glob\n",
    "from tqdm import tqdm\n",
    "from tifffile import imwrite\n",
    "\n",
    "%matplotlib widget\n",
    "%load_ext autoreload\n",
    "%autoreload 2"
   ]
  },
  {
   "cell_type": "markdown",
   "id": "4730c092",
   "metadata": {
    "pycharm": {
     "name": "#%% md\n"
    }
   },
   "source": [
    "# Welcome to the kymograph analysis pipeline module!\n",
    "\n",
    "Use this notebook to load kymographs and extract transport flows from them. The first step is to supply some file parameters to make sure that the measurements are connected to real metrics and that the segmentation method is correct.\n",
    "\n",
    "Important to note: \n",
    "Seg-Tresh is the limit of what percentage of the segmented image should be hypha. "
   ]
  },
  {
   "cell_type": "code",
   "execution_count": null,
   "id": "2dd5a1b0",
   "metadata": {
    "pycharm": {
     "is_executing": true,
     "name": "#%%\n"
    }
   },
   "outputs": [],
   "source": [
    "### Please supply a folder with kymographs. You can filter it based on the title.\n",
    "### Doing that makes it easier to set image parameters for each kymo group.\n",
    "### Spatial resolution should be in micrometers\n",
    "\n",
    "img_address = r\"C:\\Users\\coren\\AMOLF-SHIMIZU Dropbox\\Corentin Bisot\\PC\\Documents\\PhD\\Code\\kymo\\*.tiff\"\n",
    "out_address = r\"C:\\Users\\coren\\AMOLF-SHIMIZU Dropbox\\Corentin Bisot\\PC\\Documents\\PhD\\Code\\kymo\\output\"\n",
    "\n",
    "# space_resolution is in micrometers per pixel,\n",
    "# fps is in frames per second\n",
    "# space_resolution = 4*1.725 / 50\n",
    "space_resolution = 0.8625\n",
    "space_resolution = 1\n",
    "\n",
    "fps = 1\n",
    "display_kymos = False\n",
    "\n",
    "address_list = [Path(address) for address in glob(img_address)]\n",
    "kymo_stack = [imageio.imread(address) for address in address_list]\n",
    "kymo_edge_list = [\n",
    "    KymoEdgeAnalysis(kymo=kymo, edge_name=address_list[i].stem, address=out_address)\n",
    "    for i, kymo in enumerate(kymo_stack)\n",
    "]\n",
    "\n",
    "for i, kymo_anal in enumerate(tqdm(kymo_edge_list)):\n",
    "    title = address_list[i].name.split(\".\")[-2]\n",
    "    imshow_extent = [\n",
    "        0,\n",
    "        space_resolution * kymo_anal.kymo.shape[1],\n",
    "        1 / fps * kymo_anal.kymo.shape[0],\n",
    "        0,\n",
    "    ]\n",
    "    kymo_anal.space_pixel_size = space_resolution\n",
    "    kymo_anal.time_pixel_size = 1 / fps\n",
    "    forw_thresh, back_thresh = kymo_anal.fourier_kymo(1, test_plots=False)\n",
    "    speeds, times = kymo_anal.extract_speeds(\n",
    "        15,\n",
    "        w_start=3,\n",
    "        C_thresh=0.95,\n",
    "        C_thresh_falloff=0.00,\n",
    "        blur_size=3,\n",
    "        preblur=True,\n",
    "        speed_thresh=80,\n",
    "    )\n",
    "    flux_tot = kymo_anal.extract_transport()"
   ]
  },
  {
   "cell_type": "code",
   "execution_count": null,
   "id": "43383edc",
   "metadata": {},
   "outputs": [],
   "source": [
    "plot_summary(kymo_edge_list)\n",
    "# save_raw_data(kymo_edge_list, out_address)"
   ]
  },
  {
   "cell_type": "code",
   "execution_count": null,
   "id": "51b9e6cb-da39-45c8-9f9d-1f8d843369bf",
   "metadata": {},
   "outputs": [],
   "source": [
    "np.median(kymo_edge_list[0].speeds_tot[0][1])"
   ]
  },
  {
   "cell_type": "code",
   "execution_count": null,
   "id": "879170df",
   "metadata": {},
   "outputs": [],
   "source": [
    "R = 60\n",
    "\n",
    "plt.close(\"all\")\n",
    "for i, img in enumerate(kymo_stack):\n",
    "    img_dims = np.array(img.shape)\n",
    "    ftimage = np.fft.fft2(img)\n",
    "    ftimage = np.fft.fftshift(ftimage)\n",
    "    ftabsimage = np.log(abs(ftimage.real))\n",
    "    ftpolarimage = cv2.warpPolar(\n",
    "        ftabsimage,\n",
    "        (-1, -1),\n",
    "        (img_dims[1] / 2, img_dims[0] / 2),\n",
    "        img_dims[1],\n",
    "        cv2.WARP_POLAR_LINEAR + cv2.WARP_FILL_OUTLIERS,\n",
    "    )\n",
    "    polardims = ftpolarimage.shape\n",
    "    ftpolarimage = ftpolarimage[0 : polardims[0] // 2, R : polardims[1]]\n",
    "    ftpolarimage = np.where(ftpolarimage == 0, np.nan, ftpolarimage)\n",
    "    angle_plot = [\n",
    "        np.linspace(0, np.pi, len(ftpolarimage)),\n",
    "        np.nanmean(ftpolarimage, axis=1),\n",
    "    ]\n",
    "    peaks, _ = find_peaks(angle_plot[1], prominence=0.35)\n",
    "    speeds = (\n",
    "        np.tan((angle_plot[0][peaks] - 0.5 * np.pi))\n",
    "        * kymo_edge_list[i].space_pixel_size\n",
    "        / kymo_edge_list[i].time_pixel_size\n",
    "    )\n",
    "    print(angle_plot[0][peaks])\n",
    "    print(speeds)\n",
    "\n",
    "    fig, ax = plt.subplot_mosaic(\n",
    "        [[\"fft\", \"polarfft\"], [\"angle_plot\", \"angle_plot\"]], figsize=(10, 6)\n",
    "    )\n",
    "    ax[\"fft\"].imshow(ftabsimage, aspect=\"auto\")\n",
    "    ax[\"fft\"].set_xlabel(\"u\")\n",
    "    ax[\"fft\"].set_ylabel(\"v\")\n",
    "    ax[\"fft\"].set_title(\"Fourier Transform\")\n",
    "\n",
    "    ax[\"polarfft\"].imshow(ftpolarimage, aspect=\"auto\", extent=[0, 1, 0, np.pi])\n",
    "    ax[\"polarfft\"].set_xlabel(\"radius\")\n",
    "    ax[\"polarfft\"].set_ylabel(\"orientation (rad)\")\n",
    "    ax[\"polarfft\"].set_title(\"Polar representation\")\n",
    "\n",
    "    ax[\"angle_plot\"].plot(angle_plot[0], angle_plot[1])\n",
    "    ax[\"angle_plot\"].set_xlabel(\"Angle (rad)\")\n",
    "    ax[\"angle_plot\"].set_ylabel(\"Prominence\")\n",
    "    ax[\"angle_plot\"].plot(angle_plot[0][peaks], angle_plot[1][peaks], \"xr\")\n",
    "    ax[\"angle_plot\"].set_title(\n",
    "        f\"Angle intensity with found peaks {[round(speed, 4) for speed in speeds]} $\\mu m / s$\"\n",
    "    )\n",
    "    fig.suptitle(f\"{kymo_edge_list[i].edge_name} Fourier analysis\")\n",
    "    fig.tight_layout()"
   ]
  },
  {
   "cell_type": "code",
   "execution_count": null,
   "id": "71cc02df",
   "metadata": {},
   "outputs": [],
   "source": []
  }
 ],
 "metadata": {
  "kernelspec": {
   "display_name": "Python 3 (ipykernel)",
   "language": "python",
   "name": "python3"
  },
  "language_info": {
   "codemirror_mode": {
    "name": "ipython",
    "version": 3
   },
   "file_extension": ".py",
   "mimetype": "text/x-python",
   "name": "python",
   "nbconvert_exporter": "python",
   "pygments_lexer": "ipython3",
   "version": "3.7.13"
  }
 },
 "nbformat": 4,
 "nbformat_minor": 5
}

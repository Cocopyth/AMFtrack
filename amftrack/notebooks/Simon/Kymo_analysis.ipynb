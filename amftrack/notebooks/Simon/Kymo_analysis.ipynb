{
 "cells": [
  {
   "cell_type": "code",
   "execution_count": 3,
   "id": "5dc993d4",
   "metadata": {
    "pycharm": {
     "name": "#%%\n"
    }
   },
   "outputs": [
    {
     "name": "stderr",
     "output_type": "stream",
     "text": [
      "/gpfs/home6/svstaalduine/AMF_project/amftrack/util/dbx.py:3: TqdmExperimentalWarning: Using `tqdm.autonotebook.tqdm` in notebook mode. Use `tqdm.tqdm` instead to force console mode (e.g. in jupyter console)\n",
      "  from tqdm.autonotebook import tqdm\n"
     ]
    },
    {
     "name": "stdout",
     "output_type": "stream",
     "text": [
      "/gpfs/scratch1/shared/amftrackflow/temp\n"
     ]
    },
    {
     "name": "stderr",
     "output_type": "stream",
     "text": [
      "2023-05-22 15:30:38.425156: I tensorflow/core/platform/cpu_feature_guard.cc:193] This TensorFlow binary is optimized with oneAPI Deep Neural Network Library (oneDNN) to use the following CPU instructions in performance-critical operations:  AVX2 FMA\n",
      "To enable them in other operations, rebuild TensorFlow with the appropriate compiler flags.\n",
      "2023-05-22 15:30:38.590600: W tensorflow/compiler/xla/stream_executor/platform/default/dso_loader.cc:64] Could not load dynamic library 'libcudart.so.11.0'; dlerror: libcudart.so.11.0: cannot open shared object file: No such file or directory; LD_LIBRARY_PATH: /gpfs/home6/svstaalduine/.local/lib/python3.9/site-packages/cv2/../../lib64:/sw/arch/Centos8/EB_production/2021/software/ZeroMQ/4.3.4-GCCcore-10.3.0/lib:/sw/arch/Centos8/EB_production/2021/software/util-linux/2.36-GCCcore-10.3.0/lib:/sw/arch/Centos8/EB_production/2021/software/libsodium/1.0.18-GCCcore-10.3.0/lib:/sw/arch/Centos8/EB_production/2021/software/OpenPGM/5.2.122-GCCcore-10.3.0/lib:/sw/arch/Centos8/EB_production/2021/software/Python/3.9.5-GCCcore-10.3.0/lib:/sw/arch/Centos8/EB_production/2021/software/OpenSSL/1.1/lib:/sw/arch/Centos8/EB_production/2021/software/libffi/3.3-GCCcore-10.3.0/lib64:/sw/arch/Centos8/EB_production/2021/software/GMP/6.2.1-GCCcore-10.3.0/lib:/sw/arch/Centos8/EB_production/2021/software/XZ/5.2.5-GCCcore-10.3.0/lib:/sw/arch/Centos8/EB_production/2021/software/SQLite/3.35.4-GCCcore-10.3.0/lib:/sw/arch/Centos8/EB_production/2021/software/Tcl/8.6.11-GCCcore-10.3.0/lib:/sw/arch/Centos8/EB_production/2021/software/libreadline/8.1-GCCcore-10.3.0/lib:/sw/arch/Centos8/EB_production/2021/software/ncurses/6.2-GCCcore-10.3.0/lib:/sw/arch/Centos8/EB_production/2021/software/bzip2/1.0.8-GCCcore-10.3.0/lib:/sw/arch/Centos8/EB_production/2021/software/binutils/2.36.1-GCCcore-10.3.0/lib:/sw/arch/Centos8/EB_production/2021/software/zlib/1.2.11-GCCcore-10.3.0/lib:/sw/arch/Centos8/EB_production/2021/software/GCCcore/10.3.0/lib64\n",
      "2023-05-22 15:30:38.590638: I tensorflow/compiler/xla/stream_executor/cuda/cudart_stub.cc:29] Ignore above cudart dlerror if you do not have a GPU set up on your machine.\n",
      "2023-05-22 15:30:57.256824: W tensorflow/compiler/xla/stream_executor/platform/default/dso_loader.cc:64] Could not load dynamic library 'libnvinfer.so.7'; dlerror: libnvinfer.so.7: cannot open shared object file: No such file or directory; LD_LIBRARY_PATH: /gpfs/home6/svstaalduine/.local/lib/python3.9/site-packages/cv2/../../lib64:/sw/arch/Centos8/EB_production/2021/software/ZeroMQ/4.3.4-GCCcore-10.3.0/lib:/sw/arch/Centos8/EB_production/2021/software/util-linux/2.36-GCCcore-10.3.0/lib:/sw/arch/Centos8/EB_production/2021/software/libsodium/1.0.18-GCCcore-10.3.0/lib:/sw/arch/Centos8/EB_production/2021/software/OpenPGM/5.2.122-GCCcore-10.3.0/lib:/sw/arch/Centos8/EB_production/2021/software/Python/3.9.5-GCCcore-10.3.0/lib:/sw/arch/Centos8/EB_production/2021/software/OpenSSL/1.1/lib:/sw/arch/Centos8/EB_production/2021/software/libffi/3.3-GCCcore-10.3.0/lib64:/sw/arch/Centos8/EB_production/2021/software/GMP/6.2.1-GCCcore-10.3.0/lib:/sw/arch/Centos8/EB_production/2021/software/XZ/5.2.5-GCCcore-10.3.0/lib:/sw/arch/Centos8/EB_production/2021/software/SQLite/3.35.4-GCCcore-10.3.0/lib:/sw/arch/Centos8/EB_production/2021/software/Tcl/8.6.11-GCCcore-10.3.0/lib:/sw/arch/Centos8/EB_production/2021/software/libreadline/8.1-GCCcore-10.3.0/lib:/sw/arch/Centos8/EB_production/2021/software/ncurses/6.2-GCCcore-10.3.0/lib:/sw/arch/Centos8/EB_production/2021/software/bzip2/1.0.8-GCCcore-10.3.0/lib:/sw/arch/Centos8/EB_production/2021/software/binutils/2.36.1-GCCcore-10.3.0/lib:/sw/arch/Centos8/EB_production/2021/software/zlib/1.2.11-GCCcore-10.3.0/lib:/sw/arch/Centos8/EB_production/2021/software/GCCcore/10.3.0/lib64\n",
      "2023-05-22 15:30:57.257169: W tensorflow/compiler/xla/stream_executor/platform/default/dso_loader.cc:64] Could not load dynamic library 'libnvinfer_plugin.so.7'; dlerror: libnvinfer_plugin.so.7: cannot open shared object file: No such file or directory; LD_LIBRARY_PATH: /gpfs/home6/svstaalduine/.local/lib/python3.9/site-packages/cv2/../../lib64:/sw/arch/Centos8/EB_production/2021/software/ZeroMQ/4.3.4-GCCcore-10.3.0/lib:/sw/arch/Centos8/EB_production/2021/software/util-linux/2.36-GCCcore-10.3.0/lib:/sw/arch/Centos8/EB_production/2021/software/libsodium/1.0.18-GCCcore-10.3.0/lib:/sw/arch/Centos8/EB_production/2021/software/OpenPGM/5.2.122-GCCcore-10.3.0/lib:/sw/arch/Centos8/EB_production/2021/software/Python/3.9.5-GCCcore-10.3.0/lib:/sw/arch/Centos8/EB_production/2021/software/OpenSSL/1.1/lib:/sw/arch/Centos8/EB_production/2021/software/libffi/3.3-GCCcore-10.3.0/lib64:/sw/arch/Centos8/EB_production/2021/software/GMP/6.2.1-GCCcore-10.3.0/lib:/sw/arch/Centos8/EB_production/2021/software/XZ/5.2.5-GCCcore-10.3.0/lib:/sw/arch/Centos8/EB_production/2021/software/SQLite/3.35.4-GCCcore-10.3.0/lib:/sw/arch/Centos8/EB_production/2021/software/Tcl/8.6.11-GCCcore-10.3.0/lib:/sw/arch/Centos8/EB_production/2021/software/libreadline/8.1-GCCcore-10.3.0/lib:/sw/arch/Centos8/EB_production/2021/software/ncurses/6.2-GCCcore-10.3.0/lib:/sw/arch/Centos8/EB_production/2021/software/bzip2/1.0.8-GCCcore-10.3.0/lib:/sw/arch/Centos8/EB_production/2021/software/binutils/2.36.1-GCCcore-10.3.0/lib:/sw/arch/Centos8/EB_production/2021/software/zlib/1.2.11-GCCcore-10.3.0/lib:/sw/arch/Centos8/EB_production/2021/software/GCCcore/10.3.0/lib64\n",
      "2023-05-22 15:30:57.257191: W tensorflow/compiler/tf2tensorrt/utils/py_utils.cc:38] TF-TRT Warning: Cannot dlopen some TensorRT libraries. If you would like to use Nvidia GPU with TensorRT, please make sure the missing libraries mentioned above are installed properly.\n",
      "2023-05-22 15:31:28.794148: W tensorflow/compiler/xla/stream_executor/platform/default/dso_loader.cc:64] Could not load dynamic library 'libcuda.so.1'; dlerror: libcuda.so.1: cannot open shared object file: No such file or directory; LD_LIBRARY_PATH: /gpfs/home6/svstaalduine/.local/lib/python3.9/site-packages/cv2/../../lib64:/sw/arch/Centos8/EB_production/2021/software/ZeroMQ/4.3.4-GCCcore-10.3.0/lib:/sw/arch/Centos8/EB_production/2021/software/util-linux/2.36-GCCcore-10.3.0/lib:/sw/arch/Centos8/EB_production/2021/software/libsodium/1.0.18-GCCcore-10.3.0/lib:/sw/arch/Centos8/EB_production/2021/software/OpenPGM/5.2.122-GCCcore-10.3.0/lib:/sw/arch/Centos8/EB_production/2021/software/Python/3.9.5-GCCcore-10.3.0/lib:/sw/arch/Centos8/EB_production/2021/software/OpenSSL/1.1/lib:/sw/arch/Centos8/EB_production/2021/software/libffi/3.3-GCCcore-10.3.0/lib64:/sw/arch/Centos8/EB_production/2021/software/GMP/6.2.1-GCCcore-10.3.0/lib:/sw/arch/Centos8/EB_production/2021/software/XZ/5.2.5-GCCcore-10.3.0/lib:/sw/arch/Centos8/EB_production/2021/software/SQLite/3.35.4-GCCcore-10.3.0/lib:/sw/arch/Centos8/EB_production/2021/software/Tcl/8.6.11-GCCcore-10.3.0/lib:/sw/arch/Centos8/EB_production/2021/software/libreadline/8.1-GCCcore-10.3.0/lib:/sw/arch/Centos8/EB_production/2021/software/ncurses/6.2-GCCcore-10.3.0/lib:/sw/arch/Centos8/EB_production/2021/software/bzip2/1.0.8-GCCcore-10.3.0/lib:/sw/arch/Centos8/EB_production/2021/software/binutils/2.36.1-GCCcore-10.3.0/lib:/sw/arch/Centos8/EB_production/2021/software/zlib/1.2.11-GCCcore-10.3.0/lib:/sw/arch/Centos8/EB_production/2021/software/GCCcore/10.3.0/lib64\n",
      "2023-05-22 15:31:28.794200: W tensorflow/compiler/xla/stream_executor/cuda/cuda_driver.cc:265] failed call to cuInit: UNKNOWN ERROR (303)\n",
      "2023-05-22 15:31:28.794220: I tensorflow/compiler/xla/stream_executor/cuda/cuda_diagnostics.cc:156] kernel driver does not appear to be running on this host (int5): /proc/driver/nvidia/version does not exist\n",
      "2023-05-22 15:31:28.794500: I tensorflow/core/platform/cpu_feature_guard.cc:193] This TensorFlow binary is optimized with oneAPI Deep Neural Network Library (oneDNN) to use the following CPU instructions in performance-critical operations:  AVX2 FMA\n",
      "To enable them in other operations, rebuild TensorFlow with the appropriate compiler flags.\n"
     ]
    }
   ],
   "source": [
    "from amftrack.pipeline.development.high_mag_videos.kymo_class import *\n",
    "import os\n",
    "from pathlib import Path\n",
    "import pandas as pd\n",
    "import imageio.v2 as imageio\n",
    "import matplotlib.pyplot as plt\n",
    "import cv2\n",
    "from glob import glob\n",
    "from tqdm import tqdm\n",
    "from tifffile import imwrite\n",
    "\n",
    "%matplotlib widget\n",
    "%load_ext autoreload\n",
    "%autoreload 2\n"
   ]
  },
  {
   "cell_type": "markdown",
   "id": "4730c092",
   "metadata": {
    "pycharm": {
     "name": "#%% md\n"
    }
   },
   "source": [
    "# Welcome to the kymograph analysis pipeline module!\n",
    "\n",
    "Use this notebook to load kymographs and extract transport flows from them. The first step is to supply some file parameters to make sure that the measurements are connected to real metrics and that the segmentation method is correct.\n",
    "\n",
    "Important to note: \n",
    "Seg-Tresh is the limit of what percentage of the segmented image should be hypha. "
   ]
  },
  {
   "cell_type": "code",
   "execution_count": 2,
   "id": "2dd5a1b0",
   "metadata": {
    "pycharm": {
     "is_executing": true,
     "name": "#%%\n"
    },
    "scrolled": false
   },
   "outputs": [
    {
     "name": "stderr",
     "output_type": "stream",
     "text": [
      "100%|██████████| 7/7 [04:32<00:00, 38.95s/it]"
     ]
    }
   ],
   "source": [
    "### Please supply a folder with kymographs. You can filter it based on the title. \n",
    "### Doing that makes it easier to set image parameters for each kymo group.\n",
    "### Spatial resolution should be in micrometers\n",
    "\n",
    "img_address = 'C:/GitHub_Projects/AMOLF_Data/kymo_requests/Input/*.tif'\n",
    "out_address = Path('C:/GitHub_Projects/AMOLF_Data/kymo_requests/Output/')\n",
    "    \n",
    "# space_resolution is in micrometers per pixel,\n",
    "# fps is in frames per second\n",
    "space_resolution = 4*1.725 / 50\n",
    "fps = 20\n",
    "display_kymos=True\n",
    "\n",
    "address_list = [Path(address) for address in glob(img_address)]\n",
    "kymo_stack  = [imageio.imread(address) for address in address_list]\n",
    "kymo_edge_list = [Kymo_edge_analysis(kymo=kymo) for kymo in kymo_stack]\n",
    "\n",
    "for i, kymo_anal in enumerate(tqdm(kymo_edge_list)):\n",
    "    title = address_list[i].name.split('.')[-2]\n",
    "    \n",
    "    imshow_extent = [0, space_resolution * kymo_anal.kymo.shape[1],\n",
    "                1/fps * kymo_anal.kymo.shape[0], 0]\n",
    "    kymo_anal.space_pixel_size = space_resolution\n",
    "    kymo_anal.time_pixel_size = 1/fps    \n",
    "    forw_thresh, back_thresh = kymo_anal.fourier_kymo(1, test_plots=False)\n",
    "    speeds, times = kymo_anal.test_GST(15, w_start=3, C_thresh=0.92, C_thresh_falloff = 0.01, blur_size = 3, preblur=True, speed_thresh=50, plots=False)\n",
    "    x_array = np.array(times[0])\n",
    "    y_mean_back = np.nanmean(speeds[0][0], axis=1)\n",
    "    y_std_back = np.nanstd(speeds[0][0], axis=1)\n",
    "    y_mean_forw = np.nanmean(speeds[0][1], axis=1)\n",
    "    y_std_forw = np.nanstd(speeds[0][1], axis=1)\n",
    "    \n",
    "    fig, ax = plt.subplots(figsize=(9, 9))\n",
    "    \n",
    "#     ax[0][0].imshow(forw_thresh[0], extent=imshow_extent, aspect='auto')\n",
    "#     ax[0][0].set_xlabel(\"Space ($\\mu m$)\")\n",
    "#     ax[0][0].set_ylabel(\"Time (s)\")\n",
    "#     ax[0][0].set_title(\"Forward kymo\")\n",
    "    \n",
    "#     ax[0][1].imshow(back_thresh[0], extent=imshow_extent, aspect='auto')\n",
    "#     ax[0][1].set_xlabel(\"Space ($\\mu m$)\")\n",
    "#     ax[0][1].set_ylabel(\"Time (s)\")    \n",
    "#     ax[0][1].set_title(\"Backward kymo\")\n",
    "\n",
    "#     ax[1][0].imshow(kymo_anal.kymo, extent=imshow_extent, aspect='auto')\n",
    "#     ax[1][0].set_xlabel(\"Space ($\\mu m$)\")\n",
    "#     ax[1][0].set_ylabel(\"Time (s)\")\n",
    "#     ax[1][0].set_title(\"Original kymo\")\n",
    "\n",
    "    ax.errorbar(x_array, y_mean_forw, y_std_forw, alpha=0.5, errorevery=20)\n",
    "    ax.errorbar(x_array, y_mean_back, y_std_back, alpha=0.5, errorevery=20)\n",
    "    ax.plot(x_array, y_mean_forw, c='blue', label='Forward mean speed')\n",
    "    ax.plot(x_array, y_mean_back, c='orange', label='Backward mean speed')\n",
    "    ax.set_xlabel(\"Time (s)\")\n",
    "    ax.set_ylabel(\"Speed ($\\mu m / s$)\")\n",
    "    ax.legend()\n",
    "    ax.grid(True)\n",
    "    ax.set_title(f\"{title} Mean speeds with stds\")\n",
    "    plt.savefig(out_address.joinpath(title))\n",
    "    \n",
    "    csv_dataframe = pd.DataFrame(\n",
    "        {\n",
    "            'y_mean_forw': y_mean_forw,\n",
    "            'y_mean_back': y_mean_back,\n",
    "            'y_std_forw' : y_std_forw,\n",
    "            'y_std_back' : y_std_back,\n",
    "        }\n",
    "    )\n",
    "    csv_dataframe.to_csv(out_address.joinpath(title + '.csv'))\n",
    "    spds_tiff = np.array([\n",
    "        speeds[0][0],\n",
    "        speeds[0][1],\n",
    "    ], dtype=float)\n",
    "    imwrite(out_address.joinpath(title+'_spd_fields.tiff'), spds_tiff, photometric='minisblack')\n",
    "\n",
    "    \n",
    "if display_kymos:\n",
    "    for kymo in kymo_stack:\n",
    "        imshow_extent = [0, space_resolution * kymo.shape[1],\n",
    "                1/fps * kymo.shape[0], 0]\n",
    "        fig, ax = plt.subplots(figsize=(8,8))\n",
    "        ax.imshow(kymo, extent=imshow_extent, aspect='auto')\n",
    "        ax.set_xlabel(\"Space ($\\mu m$)\")\n",
    "        ax.set_ylabel(\"Time (s)\")\n",
    "        \n",
    "        \n",
    "\n",
    "csv_dataframe\n",
    "        "
   ]
  },
  {
   "cell_type": "code",
   "execution_count": null,
   "id": "43383edc",
   "metadata": {},
   "outputs": [],
   "source": []
  }
 ],
 "metadata": {
  "kernelspec": {
   "display_name": "Python 3 (ipykernel)",
   "language": "python",
   "name": "python3"
  },
  "language_info": {
   "codemirror_mode": {
    "name": "ipython",
    "version": 3
   },
   "file_extension": ".py",
   "mimetype": "text/x-python",
   "name": "python",
   "nbconvert_exporter": "python",
   "pygments_lexer": "ipython3",
   "version": "3.10.10"
  }
 },
 "nbformat": 4,
 "nbformat_minor": 5
}
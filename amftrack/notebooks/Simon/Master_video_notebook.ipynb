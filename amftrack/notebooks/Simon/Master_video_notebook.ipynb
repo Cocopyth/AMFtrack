{
 "cells": [
  {
   "cell_type": "markdown",
   "metadata": {},
   "source": [
    "# Master video notebook!\n",
    "This title might be a bit ambitious, but this notebook is supposed to be able to do all of the administration work when it comes to downloading, processing and analysing videos. The most important functions that will be called are stored in other python files, such that this notebook will remain legible. Analysis will be able to be done with a hierarchy structure of dataset, plate, video, hypha.\n",
    "\n",
    "BEWARE:\n",
    "When saving this document through a GitHub commit, make sure to clear all outputs. This document can easily go over the 100 MB size limit of GitHub files. \n",
    "\n",
    "### In MODULE one,\n",
    "the Dropbox is scoured for information about videos. If the videos do not have a VideoInfo.txt, the program will look for a .csv, if there is no .csv, the program will look for a .xlsx file. Once these files have been found, all information will be merged into a pandas dataframe, and saved as a json file for the dataset and for each video. Some datasets contain thousands of videos, so scouring the dropbox for info on all of them is going to be an hours-long affair. Plan your analysis accordingly.\n",
    "\n",
    "After scouring is complete, a final filtering step can be taken, whereupon the whole list of videos can be downloaded. NB: Downloading happens in two ways: videos are downloaded to the specified analysis folder, whereas video parameters and analysis will be downloaded to the specified analysis folder. This separation is done such that videos can be stored on larger storage drives, and analysis folders on faster storage drives.\n",
    "\n",
    "(if Snellius is still used, it is recommended to use your scratch storage to store videos, and your home storage to store analysis. Scratch storage gets wiped every two weeks, but is much larger than home storage. )\n",
    "\n",
    "TODO: Give options to download with SLURM job or manually.\n",
    "\n",
    "### In MODULE two,\n",
    "the downloaded videos with their respective information can be filtered, then analysed with a large SLURM job. In the future there might need to be functionality that allows processing without the use of a SLURM job. If you're reading this in 2024, you better apply for another Snellius grant!\n",
    "\n",
    "### In MODULE three,\n",
    "This is where all the bulk analysis is going to be. In high_mag_analysis.py, there are a number of classes and functions that will help you with parsing the data into meaningful graphs. This MODULE assumes the existence of the video_info.json files that are generated partly in MODULE 1.\n",
    "\n",
    "### Below code:\n",
    "Are just import statements"
   ]
  },
  {
   "cell_type": "code",
   "execution_count": null,
   "metadata": {
    "scrolled": true
   },
   "outputs": [],
   "source": [
    "from IPython.display import clear_output\n",
    "import re\n",
    "from amftrack.pipeline.development.high_mag_videos.plot_data import (\n",
    "    plot_summary,\n",
    "    save_raw_data,\n",
    ")\n",
    "from amftrack.pipeline.development.high_mag_videos.high_mag_analysis import (\n",
    "    HighmagDataset,\n",
    "    VideoDataset,\n",
    "    EdgeDataset,\n",
    "    index_videos_dropbox,\n",
    "    index_videos_dropbox_new,\n",
    "    analysis_run,\n",
    ")\n",
    "from amftrack.pipeline.development.high_mag_videos.kymo_class import (\n",
    "    KymoVideoAnalysis,\n",
    "    KymoEdgeAnalysis\n",
    ")\n",
    "import sys\n",
    "import os\n",
    "import pandas as pd\n",
    "import numpy as np\n",
    "import imageio.v2 as imageio\n",
    "import matplotlib.pyplot as plt\n",
    "import cv2\n",
    "from tifffile import imwrite\n",
    "from tqdm import tqdm\n",
    "import scipy\n",
    "import matplotlib as mpl\n",
    "from pathlib import Path\n",
    "from amftrack.pipeline.launching.run import (\n",
    "    run_transfer,\n",
    ")\n",
    "from amftrack.pipeline.launching.run_super import run_parallel_transfer\n",
    "import dropbox\n",
    "from amftrack.util.dbx import upload_folder, download, read_saved_dropbox_state, save_dropbox_state, load_dbx, get_dropbox_folders, get_dropbox_video_folders, download_video_folders_drop, download_analysis_folders_drop\n",
    "from subprocess import call\n",
    "import logging\n",
    "import datetime\n",
    "import glob\n",
    "import json\n",
    "from amftrack.pipeline.launching.run_super import run_parallel_flows\n",
    "\n",
    "%matplotlib widget\n",
    "%load_ext autoreload\n",
    "%autoreload 2\n",
    "logging.basicConfig(stream=sys.stdout, level=logging.debug)\n",
    "mpl.rcParams['figure.dpi'] = 200\n"
   ]
  },
  {
   "cell_type": "markdown",
   "metadata": {},
   "source": [
    "## File declaration\n",
    "As this notebook is designed to work with Snellius (now also on a local computer!), two items to separate are the raw video files and the analysis. The raw video files are large, bulky and not so easy to flip through. Ideally, the video files would be downloaded and the analysis would be stored on a separate folder structure entirely. That way, large scale analysis of analysis folders can happen when there are thousands of videos in the dataset, without having to have those raw video folders on hand.\n",
    "\n",
    "Below function will basically make your folders fertile ground to accept all the video info folders and raw video files.\n",
    "\n",
    "### Input:\n",
    "Please give separately the folder where raw video data is stored, and where the analysis will be stored. Also give the dropbox address of the dataset you want to analyze.\n",
    "\n",
    "### Output:\n",
    "The specified dropbox folder will be looked through, and all relevant video information will be downloaded to an analysis folder structure identical to what is present on teh dropbox. The relevant raw video folder structure will also be generated, if specified so. Will also create cache files in the form of .json files such that next time, the scrounging does not have to happen."
   ]
  },
  {
   "cell_type": "code",
   "execution_count": 2,
   "metadata": {
    "ExecuteTime": {
     "end_time": "2023-08-02T14:22:42.122682400Z",
     "start_time": "2023-08-02T14:22:41.883759100Z"
    }
   },
   "outputs": [],
   "source": [
    "videos_folder = \"E:\\\\AMOLF_Data\\\\videos\\\\\"\n",
    "analysis_folder = \"E:\\\\AMOLF_Data\\\\analysis\\\\\"\n",
    "\n",
    "# videos_folder = \"/gpfs/scratch1/shared/amftrackflow/videos/\"\n",
    "# analysis_folder = \"/gpfs/home6/svstaalduine/Analysis/\""
   ]
  },
  {
   "cell_type": "code",
   "execution_count": 35,
   "metadata": {
    "ExecuteTime": {
     "end_time": "2023-08-02T15:59:53.305159500Z",
     "start_time": "2023-08-02T15:59:51.352252300Z"
    }
   },
   "outputs": [],
   "source": [
    "# dropbox_address = \"/DATA/FLUORESCENCE/DATA_NileRed/20221026_Plate452/\"\n",
    "# dropbox_address=  \"/DATA/MYRISTATE/DATA/2_weeks\"\n",
    "# dropbox_address = \"/DATA/TransportROOT/\"\n",
    "dropbox_address = \"/DATA/CocoTransport/\"\n",
    "# dropbox_address = \"/DATA/TRANSPORT/DATA/20230721_Plate301/002/\""
   ]
  },
  {
   "cell_type": "code",
   "execution_count": null,
   "metadata": {
    "scrolled": true
   },
   "outputs": [],
   "source": [
    "video_param_frame = index_videos_dropbox_new(analysis_folder, videos_folder, dropbox_address, REDO_SCROUNGING=True)\n",
    "video_param_frame"
   ]
  },
  {
   "cell_type": "markdown",
   "metadata": {},
   "source": [
    "## Where to go?\n",
    "If you want to download videos:\n",
    "Use MODULE 1\n",
    "\n",
    "If you want to analyze already downloaded videos:\n",
    "Skip MODULE 1, use MODULE 2"
   ]
  },
  {
   "cell_type": "markdown",
   "metadata": {},
   "source": [
    "# MODULE 1: Downloading\n",
    "This section, there is one block of code that will ask you one last time whether all of the parameters are correct. The block of code after that will initiate Snellius jobs to download the videos in the DataFrame from the dropbox. Downloading videos is not that costly, but of course we prefer it to be done as efficiently as possible.\n",
    "## I'm not on Snellius! How do i download stuff??\n",
    "Easy. Just skip the second block of code. The one below will just use the dropbox API to properly download all your raw data.\n",
    "WARNING: This process can be quite long if you are queueing up a lot of videos. Do not use that block of code on Snellius, they will get mad at you (and prematurely stop your running program), just use the SLURM job in that case.\n",
    "\n",
    "### Input:\n",
    "Nothing\n",
    "### Output:\n",
    "Print statement with the DataFrame and the folders where everything will be stored.\n",
    "Subsequent block of code will download raw video files to the videos folder."
   ]
  },
  {
   "cell_type": "code",
   "execution_count": null,
   "metadata": {
    "ExecuteTime": {
     "end_time": "2023-07-30T15:49:08.617321800Z",
     "start_time": "2023-07-30T15:49:07.229892500Z"
    }
   },
   "outputs": [],
   "source": [
    "#####################################################################################\n",
    "### This is where you can apply the filters. Only those videos will be downloaded ###\n",
    "#####################################################################################\n",
    "\n",
    "download_frame = video_param_frame[video_param_frame['imaging_day'].ge(\"20230730\")]\n",
    "\n",
    "#####################################################################################\n",
    "### Below code will prepare for those videos to be downloaded into videos_folder  ###\n",
    "#####################################################################################\n",
    "print(f\"Number of videos that will be downloaded: {len(download_frame)}\")\n",
    "download_frame.head(5)"
   ]
  },
  {
   "cell_type": "code",
   "execution_count": null,
   "metadata": {
    "scrolled": true
   },
   "outputs": [],
   "source": [
    "run_parallel_transfer(\n",
    "    \"from_drop_video.py\",\n",
    "    [videos_folder],\n",
    "    download_frame,\n",
    "    1,\n",
    "    \"10:00:00\",\n",
    "    \"transfer_test\"\n",
    ")\n",
    "clear_output(wait=False)\n",
    "\n",
    "print(\"Sent all the jobs! Use the command '$ squeue' in the terminal to see the progress\")"
   ]
  },
  {
   "cell_type": "markdown",
   "metadata": {},
   "source": [
    "### Download videos from Dropbox (Not a SLURM job)\n",
    "This block of code can be used to download videos individually from dropbox. \n",
    "Be aware:\n",
    "- This is significantly slower than launching a SLURM job\n",
    "- This downloads videos sequentially, not in parallel\n",
    "- If this function is running for too long on Snellius, it might get you booted from the interactive node\n",
    "- Videos are large. Make sure you have the space."
   ]
  },
  {
   "cell_type": "code",
   "execution_count": null,
   "metadata": {
    "ExecuteTime": {
     "end_time": "2023-07-30T15:56:24.199248200Z",
     "start_time": "2023-07-30T15:49:19.012815800Z"
    }
   },
   "outputs": [],
   "source": [
    "download_video_folders_drop(download_frame, videos_folder)\n",
    "clear_output(wait=False)\n",
    "print(\"All videos downloaded!\")"
   ]
  },
  {
   "cell_type": "markdown",
   "metadata": {},
   "source": [
    "### Download Analysis folders from Dropbox (not a SLURM job)\n",
    "Similar warnings apply as the video download function above. The file sizes for the analysis folders are, however, vastly smaller than video files. This allows for a bit more wiggle room."
   ]
  },
  {
   "cell_type": "code",
   "execution_count": null,
   "metadata": {},
   "outputs": [],
   "source": [
    "download_analysis_folders_drop(analysis_folder, dropbox_address)\n",
    "clear_output(wait=False)\n",
    "print(\"All analysis folders downloaded!\")"
   ]
  },
  {
   "cell_type": "markdown",
   "metadata": {},
   "source": [
    "# Module 2: Analysis\n",
    "Now that the files have been downloaded, it's time to analyse them. In the below code, you'll be able to either do a complete survey of the analysis folder for as many videos as possible, or use the DataFrame of recently downloaded videos to filter for the videos you want to analyse.\n",
    "\n",
    "Also possible to analyse videos directly in this notebook. Be aware again that this is a sequential, and slower analysis than running a SLURM job. \n",
    "\n",
    "### Input:\n",
    "DataFrame filters of all videos to be analysed\n",
    "### Output:\n",
    "Print statements for all parameters of the analysis session that is about to take place."
   ]
  },
  {
   "cell_type": "code",
   "execution_count": null,
   "metadata": {
    "ExecuteTime": {
     "end_time": "2023-07-30T16:05:33.211472300Z",
     "start_time": "2023-07-30T16:05:32.454402900Z"
    }
   },
   "outputs": [],
   "source": [
    "print(dropbox_address)"
   ]
  },
  {
   "cell_type": "code",
   "execution_count": null,
   "metadata": {
    "ExecuteTime": {
     "end_time": "2023-07-30T16:05:36.170939100Z",
     "start_time": "2023-07-30T16:05:33.227092100Z"
    }
   },
   "outputs": [],
   "source": [
    "folder_filter = dropbox_address[5:]\n",
    "\n",
    "img_infos = glob.glob(f\"{analysis_folder}{folder_filter}/**/video_data.json\", recursive=True)\n",
    "vid_anls_frame = pd.DataFrame()\n",
    "for address in img_infos:\n",
    "    add_info = pd.read_json(address, orient='index').T\n",
    "    vid_anls_frame = pd.concat([vid_anls_frame, add_info], ignore_index=True)\n",
    "\n",
    "vid_anls_frame = vid_anls_frame.sort_values('unique_id').reset_index(drop=True)\n",
    "vid_anls_frame"
   ]
  },
  {
   "cell_type": "code",
   "execution_count": null,
   "metadata": {
    "ExecuteTime": {
     "end_time": "2023-07-30T16:05:36.928144600Z",
     "start_time": "2023-07-30T16:05:36.170939100Z"
    }
   },
   "outputs": [],
   "source": [
    "print(vid_anls_frame['analysis_folder'][0])"
   ]
  },
  {
   "cell_type": "code",
   "execution_count": null,
   "metadata": {
    "ExecuteTime": {
     "end_time": "2023-07-30T16:05:38.100029300Z",
     "start_time": "2023-07-30T16:05:36.943765900Z"
    }
   },
   "outputs": [],
   "source": [
    "####################################################################################\n",
    "### This is where you can apply the filters. Only those videos will be analyzed. ###\n",
    "####################################################################################\n",
    "\n",
    "analysis_frame = vid_anls_frame[vid_anls_frame['imaging_day'].ge(\"20230731\")]\n",
    "analysis_frame = analysis_frame[analysis_frame['video_int'].ge(31)].iloc[:3]\n",
    "\n",
    "####################################################################################\n",
    "### Below code will prepare for those videos to be downloaded to videos_folder.  ###\n",
    "####################################################################################\n",
    "\n",
    "print(f\"Number of videos to be analyzed: {len(analysis_frame)}\")\n",
    "analysis_frame.head(5)"
   ]
  },
  {
   "cell_type": "markdown",
   "metadata": {},
   "source": [
    "## Run SLURM Analysis job\n",
    "Two options: For small analysis, use the first block. This will just do the calculations on the machine. For large-scale analysis, use the second block, as it will create a Snellius job.\n",
    "## Input:\n",
    "Snellius job parameters\n",
    "## Output:\n",
    "Analysis folder will be populated with analysis tiffs and csv sheets. At the same time, this analysis folder will also be uploaded to the dropbox."
   ]
  },
  {
   "cell_type": "code",
   "execution_count": null,
   "metadata": {
    "scrolled": true
   },
   "outputs": [],
   "source": [
    "### LARGE VIDEO ANALYSIS\n",
    "\n",
    "nr_parallel = np.min([len(analysis_frame.index), 8])\n",
    "\n",
    "run_parallel_flows(\n",
    "    \"flux_extract.py\",\n",
    "    [analysis_folder, 9, 0.95, 0.005, 80, dropbox_address],\n",
    "    analysis_frame,\n",
    "    nr_parallel,\n",
    "    \"2:00:00\",\n",
    "    \"flux_extract\"\n",
    ")\n",
    "clear_output(wait=False)\n",
    "\n",
    "print(\"Sent all the jobs! Use the command '$ squeue' in the terminal to see the progress\")"
   ]
  },
  {
   "cell_type": "markdown",
   "metadata": {},
   "source": [
    "## Run local analysis\n",
    "This is code where you can run a specialized analysis on a limited number of videos. This uses the same analysis frame which you use to filter videos for the SLURM jobs.\n",
    "\n",
    "First the analysis function is defined, which you can change to fit the parameters you want. Then the next block of code will use that function to go through each row in the video analyis dataframe and executes the analysis. NOTE: This is not code to go through the analysis, that is for MODULE 3.\n"
   ]
  },
  {
   "cell_type": "code",
   "execution_count": null,
   "metadata": {
    "ExecuteTime": {
     "end_time": "2023-07-30T16:24:06.361668200Z",
     "start_time": "2023-07-30T16:21:17.123016500Z"
    },
    "scrolled": false
   },
   "outputs": [],
   "source": [
    "edges_objs = analysis_run(analysis_frame, analysis_folder, videos_folder, dropbox_address,\n",
    "             logging=True,                 # Print progress to console\n",
    "             kymo_normalize=True,                 \n",
    "             kymo_section_width=2.4,       # Width of kymograph lines, adjusted for magnification\n",
    "             edge_len_min=40,\n",
    "             save_edge_extraction_plot=True,\n",
    "             make_video=False,             # Make mp4 of raw data TIFFs\n",
    "             create_snapshot=True,         # Save image of edge\n",
    "             create_edge_video=False,      # Save video of edge\n",
    "             photobleach_adjust=False,     # Adjust kymograph for photobleaching\n",
    "             speed_ext_window_number=9,    # Size range to investigate speeds\n",
    "             speed_ext_window_start = 3,   # Start size of window for GST\n",
    "             speed_ext_c_thresh=0.95,      # Confidence threshold for speed determination\n",
    "             speed_ext_c_falloff = 0.005,  # Confidence falloff as window size increases\n",
    "             speed_ext_blur_size = 3,      # Kymograph blur Gaussian kernel size\n",
    "             speed_ext_blur=True,          # Whether to preblur at all\n",
    "             speed_ext_max_thresh = 80,    # Maximum expected speeds (in um/s)\n",
    "             dropbox_upload=False          # Whether to upload results to dropbox\n",
    "             )"
   ]
  },
  {
   "cell_type": "code",
   "execution_count": null,
   "metadata": {},
   "outputs": [],
   "source": [
    "# for edge_group in edges_objs:\n",
    "#     print(edge_group)\n",
    "# print(np.array(edges_objs).flatten())\n",
    "small_data_obj = HighmagDataset(analysis_frame, analysis_folder, videos_folder)"
   ]
  },
  {
   "cell_type": "code",
   "execution_count": null,
   "metadata": {
    "ExecuteTime": {
     "end_time": "2023-07-30T16:27:36.966856900Z",
     "start_time": "2023-07-30T16:27:20.637632600Z"
    },
    "scrolled": false
   },
   "outputs": [],
   "source": [
    "for edge in small_data_obj.edge_objs:\n",
    "    edge.show_summary()"
   ]
  },
  {
   "cell_type": "markdown",
   "metadata": {},
   "source": [
    "### Width profile Kymograph analysis\n",
    "This is going to be some special code to extract multiple kymographs from the same edge, all next to each other. Requires running the previous code to get the analysis objects."
   ]
  },
  {
   "cell_type": "code",
   "execution_count": null,
   "metadata": {
    "ExecuteTime": {
     "end_time": "2023-07-19T13:19:01.028742400Z",
     "start_time": "2023-07-19T13:07:23.507976500Z"
    }
   },
   "outputs": [],
   "source": [
    "print([[edge.edge_name for edge in edge_list] for edge_list in edges_objs])\n",
    "edge_interest = edges_objs[0][2]\n",
    "\n",
    "width_len = 8\n",
    "#TODO: Get effective mean speed calculation in here too\n",
    "\n",
    "kymos = edge_interest.extract_multi_kymo(width_len, target_length=90)\n",
    "fourier_kymos = edge_interest.fourier_kymo()\n",
    "speeds, times = edge_interest.extract_speeds(15)\n"
   ]
  },
  {
   "cell_type": "code",
   "execution_count": null,
   "metadata": {
    "ExecuteTime": {
     "end_time": "2023-07-19T13:19:05.489152500Z",
     "start_time": "2023-07-19T13:19:01.263864500Z"
    }
   },
   "outputs": [],
   "source": [
    "print(np.array(times).shape)\n",
    "speed_max = 20\n",
    "fig, ax = plt.subplots(width_len)\n",
    "for i in range(width_len):\n",
    "    ax[i].plot(times[i], np.nanmean(speeds[i][0], axis=1))\n",
    "    ax[i].plot(times[i], np.nanmean(speeds[i][1], axis=1))\n",
    "    ax[i].fill_between(times[i], np.nanmean(speeds[i][0], axis=1) + np.nanstd(speeds[i][0], axis=1), np.nanmean(speeds[i][0], axis=1) - np.nanstd(speeds[i][0],axis=1),alpha=0.5, facecolor='tab:blue')\n",
    "    ax[i].fill_between(times[i], np.nanmean(speeds[i][1], axis=1) + np.nanstd(speeds[i][1], axis=1), np.nanmean(speeds[i][1], axis=1) - np.nanstd(speeds[i][1],axis=1),alpha=0.5, facecolor='tab:orange')\n",
    "    ax[i].set_ylim((-speed_max, speed_max))\n",
    "\n",
    "fig, ax = plt.subplots()\n",
    "for i in range(width_len):\n",
    "    ax.scatter(i, np.mean(np.nanmean(speeds[i][0], axis=1)[200:300]), c='tab:blue', label='to tip')\n",
    "    ax.errorbar(i, np.mean(np.nanmean(speeds[i][0], axis=1)[200:300]), np.nanstd(speeds[i][0][200:300].flatten()), capsize=5, c='tab:blue')\n",
    "    ax.scatter(i, np.mean(np.nanmean(speeds[i][1], axis=1)[200:300]), c='tab:orange', label='to root')\n",
    "    ax.errorbar(i, np.mean(np.nanmean(speeds[i][1], axis=1)[200:300]), np.nanstd(speeds[i][1][200:300].flatten()), capsize=5, c='tab:orange')"
   ]
  },
  {
   "cell_type": "markdown",
   "metadata": {},
   "source": [
    "# Module 3: Bulk Analysis\n",
    "## First part: Assemble Edge DataFrame\n",
    "\n",
    "\n",
    "In this initial part of the bulk analysis, all of the analysis folders will be looked through to find the edge data we're looking for. Additionally, there is an optional part to download the analysis folder back to the analysis folder we specified right at the top."
   ]
  },
  {
   "cell_type": "markdown",
   "metadata": {},
   "source": [
    "## Assuming all the analysis folders are already downloaded:\n",
    "You can use below code to read the video_data.json files that are created during indexing of all the videos"
   ]
  },
  {
   "cell_type": "code",
   "execution_count": null,
   "metadata": {
    "ExecuteTime": {
     "end_time": "2023-07-30T16:31:17.308703300Z",
     "start_time": "2023-07-30T16:31:15.557226300Z"
    }
   },
   "outputs": [],
   "source": [
    "folder_filter = dropbox_address[5:]\n",
    "\n",
    "img_infos = glob.glob(f\"{analysis_folder}{folder_filter}/**/video_data.json\", recursive=True)\n",
    "vid_anls_frame = pd.DataFrame()\n",
    "for address in tqdm(img_infos):\n",
    "    add_info = pd.read_json(address, orient='index').T\n",
    "    vid_anls_frame = pd.concat([vid_anls_frame, add_info], ignore_index=True)\n",
    "\n",
    "vid_frame = vid_anls_frame.sort_values('unique_id').reset_index(drop=True)"
   ]
  },
  {
   "cell_type": "code",
   "execution_count": null,
   "metadata": {
    "ExecuteTime": {
     "end_time": "2023-07-30T16:31:17.838245800Z",
     "start_time": "2023-07-30T16:31:17.184512Z"
    }
   },
   "outputs": [],
   "source": [
    "####################################################################################\n",
    "### This is where you can apply the filters. Only those videos will be analyzed. ###\n",
    "####################################################################################\n",
    "\n",
    "analysis_frame = vid_frame[vid_frame['imaging_day'].ge(\"20230727\")].reset_index(drop=True)\n",
    "\n",
    "analysis_frame['plate_int'] = [entry.split('_')[-1] for entry in analysis_frame['plate_id']]\n",
    "analysis_frame['video_int'] = [entry.split('_')[-1] for entry in analysis_frame['unique_id']]\n",
    "\n",
    "analysis_frame = analysis_frame[analysis_frame['plate_int'] == \"Plate440\"].reset_index(drop=True)\n",
    "\n",
    "####################################################################################\n",
    "### Below code will prepare for those videos to be downloaded to videos_folder.  ###\n",
    "####################################################################################\n",
    "analysis_frame"
   ]
  },
  {
   "cell_type": "code",
   "execution_count": null,
   "metadata": {
    "ExecuteTime": {
     "end_time": "2023-07-30T16:31:22.560594500Z",
     "start_time": "2023-07-30T16:31:18.836174300Z"
    },
    "scrolled": true
   },
   "outputs": [],
   "source": [
    "data_obj = HighmagDataset(analysis_frame, analysis_folder, videos_folder)"
   ]
  },
  {
   "cell_type": "code",
   "execution_count": null,
   "metadata": {
    "ExecuteTime": {
     "end_time": "2023-07-30T16:31:26.849351Z",
     "start_time": "2023-07-30T16:31:26.058765100Z"
    }
   },
   "outputs": [],
   "source": [
    "plt.close('all')"
   ]
  },
  {
   "cell_type": "markdown",
   "metadata": {},
   "source": [
    "### Example code 50x speed arrows"
   ]
  },
  {
   "cell_type": "code",
   "execution_count": null,
   "metadata": {
    "scrolled": true
   },
   "outputs": [],
   "source": [
    "plt.close('all')\n",
    "data_interest = data_obj.filter_edges('video_int', \"<=\", \"004\")\n",
    "\n",
    "for vid_obj in data_interest.video_objs:\n",
    "    vid_obj.plot_speed_arrows()"
   ]
  },
  {
   "cell_type": "markdown",
   "metadata": {},
   "source": [
    "### Example code plot summaries of videos\n"
   ]
  },
  {
   "cell_type": "code",
   "execution_count": null,
   "metadata": {
    "scrolled": false
   },
   "outputs": [],
   "source": [
    "data_obj_filt = data_obj.filter_edges(\"mode\", \"==\", \"010\")\n",
    "print(len(data_obj_filt.edges_frame))\n",
    "for edge in data_obj_filt.edge_objs:\n",
    "    edge.show_summary()"
   ]
  },
  {
   "cell_type": "markdown",
   "metadata": {},
   "source": [
    "### Example code binned violin-plot\n",
    "bin-column represents the value to be binned, then multiple violin plots are graphed on the same axis."
   ]
  },
  {
   "cell_type": "code",
   "execution_count": null,
   "metadata": {
    "ExecuteTime": {
     "end_time": "2023-07-30T16:17:53.811492400Z",
     "start_time": "2023-07-30T16:17:52.103073100Z"
    },
    "scrolled": false
   },
   "outputs": [],
   "source": [
    "cover_filter_data = data_obj.filter_edges('coverage_tot', '>=', 0.5)\n",
    "filter_BF = cover_filter_data.filter_edges('mode', '==', 'BF')\n",
    "# filter_BF = cover_filter_data\n",
    "bin_column = 'edge_width'\n",
    "\n",
    "# bins = np.linspace(5, 15, 10)\n",
    "bins = np.linspace(filter_BF.return_edge_frame()[bin_column].min(), filter_BF.return_edge_frame()[bin_column].max(), 7)\n",
    "bin_series = filter_BF.bin_values(bin_column, bins)\n",
    "# print(bin_series)\n",
    "\n",
    "labels = []\n",
    "fig, ax = filter_BF.plot_violins('speed_right', bins, c='tab:orange', labels=labels)\n",
    "fig, ax = filter_BF.plot_violins('speed_left', bins, c='tab:blue', ax=ax, fig=fig, labels=labels)\n",
    "fig, ax = filter_BF.plot_violins('speed_mean', bins, c='tab:red', ax=ax, fig=fig, labels=labels)\n",
    "\n",
    "ax.axhline(c='black', alpha=0.5, linestyle='--')\n",
    "ax.set_ylabel('v $(\\mu m / s)$')\n",
    "ax.set_xlabel('y-position $(\\mu m)$')\n",
    "ax.legend(*zip(*labels))\n",
    "\n"
   ]
  },
  {
   "cell_type": "markdown",
   "metadata": {},
   "source": [
    "### Example code for bin-less violin plots\n",
    "This can be for comparing videos, plates, anything with a unique ID"
   ]
  },
  {
   "cell_type": "code",
   "execution_count": null,
   "metadata": {
    "ExecuteTime": {
     "end_time": "2023-07-30T16:18:03.067621600Z",
     "start_time": "2023-07-30T16:17:58.445552400Z"
    }
   },
   "outputs": [],
   "source": [
    "cover_filter_data = data_obj.filter_edges('coverage_tot', '>=', 0.3)\n",
    "filter_BF = cover_filter_data\n",
    "\n",
    "labels = []\n",
    "fig, ax = filter_BF.plot_violins('speed_right', bin_separator='plate_id', c='tab:orange', labels=labels)\n",
    "fig, ax = filter_BF.plot_violins('speed_left', bin_separator='plate_id', c='tab:blue', ax=ax, fig=fig, labels=labels)\n",
    "fig, ax = filter_BF.plot_violins('speed_mean', bin_separator='plate_id', c='tab:red', ax=ax, fig=fig, labels=labels)\n",
    "\n",
    "ax.axhline(c='black', alpha=0.5, linestyle='--')\n",
    "ax.set_ylabel('v $(\\mu m / s)$')\n",
    "ax.set_xlabel('Plate id\\'s')\n",
    "ax.legend(*zip(*labels))\n",
    "fig.tight_layout()"
   ]
  },
  {
   "cell_type": "code",
   "execution_count": null,
   "metadata": {},
   "outputs": [],
   "source": [
    "print(data_obj.video_frame['video_int'].to_string())"
   ]
  },
  {
   "cell_type": "markdown",
   "metadata": {},
   "source": [
    "### Example code on visualizing 4x/50x comparisons"
   ]
  },
  {
   "cell_type": "code",
   "execution_count": null,
   "metadata": {
    "ExecuteTime": {
     "end_time": "2023-07-17T15:05:10.624462400Z",
     "start_time": "2023-07-17T15:04:54.452584500Z"
    }
   },
   "outputs": [],
   "source": [
    "data_4x_filter = data_obj.filter_edges('magnification', '==', 4.0)\n",
    "mag_corr_groups = [data_obj.context_4x(row) for index, row in data_4x_filter.video_frame.iterrows()]\n",
    "for group in tqdm(mag_corr_groups):\n",
    "    group.plot_4x_locs(analysis_folder)"
   ]
  },
  {
   "cell_type": "markdown",
   "metadata": {},
   "source": [
    "### Example code for creating different plate maps\n",
    "Below you can see the filtering options for different plates and the plot_plate_locs function that outputs a map with dots or arrows depending on your wishes. Current drawing modes are:\n",
    "- 'scatter' for dots of the videos, separated by magnification\n",
    "- 'speeds_mean' for black arrows denoting the effective mean speed of the flows\n",
    "- 'speeds_both' for blue and orange arrows denoting the effective speed of flows in both directions\n",
    "- 'vid_labels'  for a list of what videos were taken at each position"
   ]
  },
  {
   "cell_type": "code",
   "execution_count": null,
   "metadata": {
    "ExecuteTime": {
     "end_time": "2023-07-30T16:18:24.869192700Z",
     "start_time": "2023-07-30T16:18:18.010258400Z"
    },
    "scrolled": false
   },
   "outputs": [],
   "source": [
    "plt.close('all')\n",
    "print(data_obj.video_frame.columns)\n",
    "\n",
    "for plate_id in tqdm(data_obj.video_frame['plate_id'].unique()):\n",
    "    plate_group = data_obj.filter_edges('coverage_tot', '>=', 0.3)\n",
    "    plate_group = data_obj.filter_edges('plate_id', '==', plate_id)\n",
    "    plate_group.plot_plate_locs(analysis_folder, spd_adj=0.2, modes=['speeds_mean'])"
   ]
  },
  {
   "cell_type": "code",
   "execution_count": null,
   "metadata": {
    "scrolled": true
   },
   "outputs": [],
   "source": [
    "plt.close('all')\n",
    "\n",
    "spd_maxes= []\n",
    "\n",
    "print(data_obj.video_frame['plate_int'].unique())\n",
    "\n",
    "linear_edges = data_obj.filter_edges('plate_int',  '==', 'Plate440')\n",
    "linear_edges = linear_edges.filter_edges('coverage_left', '>=', 0.3)\n",
    "linear_edges = linear_edges.filter_edges('coverage_right', '>=', 0.3)\n",
    "# linear_edges = linear_edges.filter_edges('speed_left_std', '<=', 0.5)\n",
    "# linear_edges = linear_edges.filter_edges('speed_right_std', '<=', 0.5)\n",
    "# linear_edges = linear_edges.filter_edges('speed_left', '<=', -0.9)\n",
    "# linear_edges = linear_edges.filter_edges('speed_right', '>=', 0.9)\n",
    "for edge in tqdm(linear_edges.edge_objs):\n",
    "    spd_maxes.append(edge.plot_speed_histo(spd_extent=10, spd_tiff_lowbound=0.5, spd_cutoff = 0.5, bin_res=1000, plot_fig=False))\n",
    "    \n",
    "    "
   ]
  },
  {
   "cell_type": "code",
   "execution_count": null,
   "metadata": {},
   "outputs": [],
   "source": [
    "print(linear_edges.edges_frame['video_int'].to_string())"
   ]
  },
  {
   "cell_type": "code",
   "execution_count": null,
   "metadata": {
    "scrolled": false
   },
   "outputs": [],
   "source": [
    "spd_maxes = np.array(spd_maxes)\n",
    "fig, ax = plt.subplots(figsize=(10, 5))\n",
    "ax.scatter(linear_edges.edges_frame['ypos'].astype(float)[:98], spd_maxes.T[0][:98], alpha=0.7, label='to tip, hypha 1')\n",
    "ax.scatter(linear_edges.edges_frame['ypos'].astype(float)[:98], spd_maxes.T[1][:98], alpha=0.7, label='to root, hypha 1')\n",
    "ax.scatter(linear_edges.edges_frame['ypos'].astype(float)[98:137], spd_maxes.T[0][98:137], alpha=0.7, label='to tip, hypha 2')\n",
    "ax.scatter(linear_edges.edges_frame['ypos'].astype(float)[98:137], spd_maxes.T[1][98:137], alpha=0.7, label='to root, hypha 2')\n",
    "ax.scatter(linear_edges.edges_frame['ypos'].astype(float)[144:193], spd_maxes.T[0][144:193], alpha=0.7, label='to tip, hypha 3')\n",
    "ax.scatter(linear_edges.edges_frame['ypos'].astype(float)[144:193], spd_maxes.T[1][144:193], alpha=0.7, label='to root, hypha 3')\n",
    "ax.scatter(linear_edges.edges_frame['ypos'].astype(float)[193:], spd_maxes.T[0][193:], alpha=0.7, label='to tip, hypha 4')\n",
    "ax.scatter(linear_edges.edges_frame['ypos'].astype(float)[193:], spd_maxes.T[1][193:], alpha=0.7, label='to root, hypha 4')\n",
    "# ax.scatter(linear_edges.edges_frame['ypos'].astype(int), spd_maxes.T[0], label='to tip')\n",
    "# ax.scatter(linear_edges.edges_frame['ypos'].astype(int), spd_maxes.T[1], label='to root')\n",
    "ax.grid(True)\n",
    "ax.set_ylabel(\"Measured speed (max of histogram) $(\\mu m /s)$\")\n",
    "ax.set_xlabel(\"y-position (root to tip)\")\n",
    "ax.set_title(\"Speeds along a single hypha\")\n",
    "ax.legend()\n",
    "# print(linear_edges.edges_frame['video_int'].to_string())"
   ]
  },
  {
   "cell_type": "code",
   "execution_count": null,
   "metadata": {},
   "outputs": [],
   "source": []
  }
 ],
 "metadata": {
  "kernelspec": {
   "display_name": "Python 3 (ipykernel)",
   "language": "python",
   "name": "python3"
  },
  "language_info": {
   "codemirror_mode": {
    "name": "ipython",
    "version": 3
   },
   "file_extension": ".py",
   "mimetype": "text/x-python",
   "name": "python",
   "nbconvert_exporter": "python",
   "pygments_lexer": "ipython3",
   "version": "3.9.5"
  }
 },
 "nbformat": 4,
 "nbformat_minor": 1
}

{
 "cells": [
  {
   "cell_type": "markdown",
   "source": [
    "# Master video notebook!\n",
    "This title might be a bit ambitious, but this notebook is supposed to be able to do all of the administration work when it comes to analysing videos. Of course, many functions are already inherent to the kymo_class file and the plot_data file. Ultimately, this notebook is about creating a file hierarchy for the analysis files.\n",
    "\n",
    "In step one, the Dropbox is scoured for information about videos. If the videos do not have a VideoInfo.txt, the program will look for a .csv, if there is no .csv, the program will look for a .xlsx file. This is currently in conflict with what is happening in the kymo_class.py file, so that one will have to be amended.\n",
    "\n",
    "### Let's say that there are three ways to initiate a kymograph class:\n",
    "1. No info file is submitted, and the class will look for such a file itself.\n",
    "2. An info file is submitted, and the class will use the data in there.\n",
    "3. A kymograph is submitted, and the class will instantiate with the parameters that are passed with the kymograph.\n",
    "\n",
    "TODO: Make it so in the kymo_class\n",
    "TODO: Streamline the variable storage such that edge properties are stored in the edge_analysis class, and video properties are stored in the video_analysis class.\n",
    "\n",
    "### Below code:\n",
    "Are just import statements"
   ],
   "metadata": {
    "collapsed": false
   }
  },
  {
   "cell_type": "markdown",
   "source": [
    "## File declaration\n",
    "As this notebook is designed to work with Snellius, two items to separate are the raw video files and the anaylsis. The raw video files are large, bulky and not so easy to flip through. Ideally, the video files would be downloaded and the analysis would be stored on a separate folder structure entirely. That way, large scale analysis of analysis folders can happen when there are thousands of videos in the dataset, without having to have those raw video folders on hand.\n",
    "\n",
    "### Input and output:\n",
    "Please give separately the folder where raw video data is stored, and where the analysis will be stored."
   ],
   "metadata": {
    "collapsed": false
   }
  },
  {
   "cell_type": "markdown",
   "source": [
    "## Dropbox scouring\n",
    "The below code is meant to scour the dropbox for information files on the videos. It is also to create a list of the videos within a certain database. The expectation at the very least is that one plate contains many videos, all labeled with a number. The code will take this list, and recreate the hierarchy within the Analysis_Output folder.\n",
    "\n",
    "### Input and output:\n",
    "The input will be the highest folder of the dropbox that needs to be analyzed. The output will be a DataFrame that can be filtered in the next code block to prepare for downloading."
   ],
   "metadata": {
    "collapsed": false
   }
  },
  {
   "cell_type": "markdown",
   "source": [
    "## Dropbox filtering\n",
    "If you want all videos in a plate or dataset, you can run this block and forget about it.\n",
    "Otherwise, this block is where filtering can take place to only download videos with certain properties, like imaging mode.\n",
    "\n",
    "### Input\n",
    "Use the section between commented lines to filter the DataFrame, otherwise leave blank\n",
    "### Output\n",
    "Within the video and analysis folder, a hierarchy will be created to mimic that of the dropbox folder structure, using the filtered DataFrame. Inside the analysis folder hierarchy, the VideoInfo.txt file will be generated. Either from an existing videoInfo.txt, or the excel/csv sheets."
   ],
   "metadata": {
    "collapsed": false
   }
  },
  {
   "cell_type": "markdown",
   "source": [],
   "metadata": {
    "collapsed": false
   }
  }
 ],
 "metadata": {
  "kernelspec": {
   "display_name": "Python 3",
   "language": "python",
   "name": "python3"
  },
  "language_info": {
   "codemirror_mode": {
    "name": "ipython",
    "version": 2
   },
   "file_extension": ".py",
   "mimetype": "text/x-python",
   "name": "python",
   "nbconvert_exporter": "python",
   "pygments_lexer": "ipython2",
   "version": "2.7.6"
  }
 },
 "nbformat": 4,
 "nbformat_minor": 0
}

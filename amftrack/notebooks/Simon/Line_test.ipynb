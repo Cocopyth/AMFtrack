{
 "cells": [
  {
   "cell_type": "code",
   "execution_count": 84,
   "id": "189da27f",
   "metadata": {
    "pycharm": {
     "name": "#%%\n"
    }
   },
   "outputs": [
    {
     "name": "stdout",
     "output_type": "stream",
     "text": [
      "The autoreload extension is already loaded. To reload it, use:\n",
      "  %reload_ext autoreload\n"
     ]
    }
   ],
   "source": [
    "from amftrack.pipeline.development.high_mag_videos.kymo_class import *\n",
    "import os\n",
    "import imageio.v2 as imageio\n",
    "import matplotlib.pyplot as plt\n",
    "import cv2\n",
    "from matplotlib import cm, colors\n",
    "\n",
    "%matplotlib widget\n",
    "%load_ext autoreload\n",
    "%autoreload 2\n",
    "from amftrack.pipeline.functions.image_processing.extract_graph import (\n",
    "    from_sparse_to_graph,\n",
    "    generate_nx_graph,\n",
    "    clean_degree_4,\n",
    ")\n",
    "import scipy\n",
    "import scipy.stats as stats\n"
   ]
  },
  {
   "cell_type": "code",
   "execution_count": 85,
   "id": "6bb4df70",
   "metadata": {
    "pycharm": {
     "name": "#%%\n"
    }
   },
   "outputs": [],
   "source": [
    "class Line:\n",
    "    \"\"\"\n",
    "    Creates a line object with a speed, offset and width. Lines are drawn in an image with gen_image. \n",
    "    Currently only gauss type lines work. These are all normalized such that the sum over space (x) = 1. \n",
    "    With this normalization we would expect the net transport over time graph to increase by one for every line that it crosses. \n",
    "    \"\"\"\n",
    "    def __init__(self,speed, offset, line_type=\"gauss\", width=5, intens = 1):\n",
    "        self.line_type=line_type\n",
    "        self.width = width\n",
    "        self.speed = speed\n",
    "        self.direc = np.sign(self.speed)\n",
    "        self.offset = offset\n",
    "        return None\n",
    "        \n",
    "    def block(self, array, speed_offset, normalize=False):\n",
    "        if not normalize:\n",
    "            return (np.heaviside(array - speed_offset + self.width, 0.5) - np.heaviside(array - speed_offset - self.width, 0.5))\n",
    "        else:\n",
    "            out_arr = (np.heaviside(array - speed_offset + self.width, 0.5) - np.heaviside(array - speed_offset - self.width, 0.5))\n",
    "            return out_arr / np.sum(out_arr)\n",
    "        \n",
    "    def gauss(self, array, speed_offset, normalize = False):\n",
    "        return stats.norm.pdf(array, speed_offset, self.width)\n",
    "        \n",
    "    def gen_image(self, x_res, y_res, normalize = False):\n",
    "        x_line = np.linspace(0, x_res-1, x_res)\n",
    "        line_pos = np.linspace(self.offset, self.offset + self.speed*y_res, y_res)\n",
    "        if self.line_type == \"block\":\n",
    "            line_img = [self.block(x_line, v_offset, normalize=normalize) for v_offset in line_pos]\n",
    "        elif self.line_type == \"gauss\":\n",
    "            line_img = [self.gauss(x_line, v_offset, normalize=normalize) for v_offset in line_pos]\n",
    "        return line_img\n",
    "    \n",
    "# def gen_feather(img, height, zero_frac):\n",
    "#     zero_thresh = int(height * zero_frac)\n",
    "#     feather = np.linspace(0,1, height - zero_thresh)\n",
    "#     out_img = img.copy()\n",
    "#     for i in range(zero_thresh):\n",
    "#         out_img[-1-i] *= 0\n",
    "#     for i, j in enumerate(range(zero_thresh, height)):\n",
    "#         out_img[-1-j] *= feather[i]\n",
    "#     return out_img\n",
    "\n",
    "def kymo_titles(axis, title):\n",
    "    axis.set_title(title)\n",
    "    axis.set_xlabel(\"space (x)\")\n",
    "    axis.set_ylabel(\"time (t)\")\n",
    "    return None\n",
    "\n",
    "def flux_int(img, line = 200):\n",
    "    flux_max = np.max(abs(img.flatten()))\n",
    "    [x_res, y_res] = np.shape(img)\n",
    "    int_line = img.transpose()[line]\n",
    "    int_plot = np.cumsum(int_line)\n",
    "    fig, ax = plt.subplots(1,2)\n",
    "    fig.tight_layout()\n",
    "    \n",
    "    ax[0].imshow(img, cmap='bwr', vmin = -1*flux_max, vmax = flux_max)\n",
    "    ax[0].vlines(line, 0, x_res-1, colors='black')\n",
    "    kymo_titles(ax[0], \"Flux with integral line\")\n",
    "    \n",
    "    ax[1].plot(int_plot, label=\"Ground Truth\")\n",
    "    ax[1].grid()\n",
    "    ax[1].hlines(0, 0, x_res, colors='black', label=\"\")\n",
    "    ax[1].set_title(\"Net Transport\")\n",
    "    ax[1].set_xlabel(\"time (t)\")\n",
    "    ax[1].set_ylabel(\"transport (q)\")\n",
    "    ax[1].legend()\n",
    "    return ax[1]\n",
    "\n",
    "\n"
   ]
  },
  {
   "cell_type": "markdown",
   "id": "df7fd491",
   "metadata": {
    "pycharm": {
     "name": "#%% md\n"
    }
   },
   "source": [
    "# Big Line Test doc\n",
    "\n",
    "This document generates lines for analysis of the kymograph flux calculation algorithms. \n",
    "\n",
    "## Line Gen\n",
    "The next piece of code generates these lines and sets up the ground truth for the flux calculation."
   ]
  },
  {
   "cell_type": "code",
   "execution_count": null,
   "outputs": [],
   "source": [
    "display_figs = True \n",
    "# Display debug figures (False for faster performance)\n",
    "noise_thresh = 0.01\n",
    "#Remove low intensity background noise from kymograph, needs to change once we're dealing with actual pixel values\n",
    "speed_thresh = 5.0\n",
    "#Puts an upper boundary to the function that finds speeds\n",
    "\n",
    "nr_forw_lines = 100\n",
    "nr_back_lines = 200\n",
    "nr_total_lines = nr_forw_lines + nr_back_lines\n",
    "\n",
    "x_res_kymo = 300\n",
    "y_res_kymo = 400\n",
    "\n",
    "# lines_left = []\n",
    "# lines_right=  []\n",
    "img_stack = []\n",
    "img_forw_stack = []\n",
    "img_back_stack = []\n",
    "flux_stack = []\n",
    "flux_stack_back = []\n",
    "flux_stack_forw = []\n",
    "\n",
    "forw_spd_adjust = 1.0\n",
    "back_spd_adjust = 1.8\n",
    "\n",
    "for i in range(nr_forw_lines):\n",
    "    params = np.random.rand(3)\n",
    "    params_proc = ((params[0] + 0.5) * forw_spd_adjust, \n",
    "                   int(params[1] * x_res_kymo) - int((params[0] + 0.5) * forw_spd_adjust*x_res_kymo / 2), \n",
    "                   (params[2]+0.5)*10)\n",
    "#                    5)\n",
    "#     lines_right.append(Line(params_proc[0], params_proc[1], width=params_proc[2]))\n",
    "    line = Line(params_proc[0], params_proc[1], width=params_proc[2])\n",
    "    \n",
    "    img_forw = np.array(line.gen_image(x_res_kymo, y_res_kymo, normalize=True))\n",
    "    img_stack.append(img_forw)\n",
    "    img_forw_stack.append(img_forw)\n",
    "    flux_img_forw = img_forw * params_proc[0]\n",
    "    flux_stack_forw.append(flux_img_forw)\n",
    "    flux_stack.append(flux_img_forw)\n",
    "    \n",
    "for i in range(nr_back_lines):\n",
    "    params = np.random.rand(3)\n",
    "    params_proc = ((params[0] - 1.5) * back_spd_adjust, \n",
    "                   int(params[1]* x_res_kymo) - int((params[0] - 1.5) * back_spd_adjust*x_res_kymo / 2), \n",
    "                   (params[2]+0.5)*10)\n",
    "#                    5)\n",
    "    line = Line(params_proc[0], params_proc[1], width=params_proc[2])\n",
    "    \n",
    "    img_back = np.array(line.gen_image(x_res_kymo, y_res_kymo, normalize=True))\n",
    "    img_stack.append(img_back)\n",
    "    img_back_stack.append(img_back)\n",
    "    flux_img_back = img_back * params_proc[0]\n",
    "    flux_stack_back.append(flux_img_back)\n",
    "    flux_stack.append(flux_img_back)\n",
    "\n",
    "# for line in lines_left:\n",
    "#     img_left = np.array(line.gen_image(x_res_kymo, y_res_kymo, normalize=True))\n",
    "#     img_stack.append(img_left)\n",
    "#     img_left_stack.append(img_left)\n",
    "#     flux_img_left = img_left * line.speed\n",
    "#     flux_stack_left.append(flux_img_left)\n",
    "#     flux_stack.append(flux_img_left)\n",
    "    \n",
    "# for line in lines_right:\n",
    "#     img_ = np.array(line.gen_image(x_res_kymo, y_res_kymo, normalize=True))\n",
    "#     img_stack.append(img_right)\n",
    "#     img_right_stack.append(img_right)\n",
    "#     flux_img_right = img_right * line.speed\n",
    "#     flux_stack_right.append(flux_img_right)\n",
    "#     flux_stack.append(flux_img_right)\n",
    "    \n",
    "    \n",
    "tot_img = np.sum(img_stack, axis=0)\n",
    "tot_img_forw = np.sum(img_forw_stack, axis=0)\n",
    "tot_img_back = np.sum(img_back_stack, axis=0)\n",
    "tot_flux = np.sum(flux_stack, axis=0)\n",
    "tot_flux_forw = np.sum(flux_stack_forw, axis=0)\n",
    "tot_flux_back = np.sum(flux_stack_back, axis=0)\n",
    "\n",
    "print(tot_flux_forw.shape)\n",
    "print(tot_flux_back.shape)\n",
    "\n",
    "img_max = np.max(abs(tot_img.flatten()))\n",
    "flux_max = np.max(abs(tot_flux.flatten()))\n",
    "\n",
    "# feather_img = gen_feather(tot_img, 40, 0.2)\n"
   ],
   "metadata": {
    "collapsed": false,
    "pycharm": {
     "name": "#%%\n"
    }
   }
  },
  {
   "cell_type": "markdown",
   "source": [
    "### FIGURES:\n",
    "Run to see the generated lines, and the fluxes, also the forward and backward fluxes only."
   ],
   "metadata": {
    "collapsed": false,
    "pycharm": {
     "name": "#%% md\n"
    }
   }
  },
  {
   "cell_type": "code",
   "execution_count": null,
   "outputs": [],
   "source": [
    "if display_figs:    \n",
    "    fig, ax = plt.subplots(1,2, sharey = True)\n",
    "    ax[0].imshow(tot_img)\n",
    "    kymo_titles(ax[0], \"Original kymo\")\n",
    "    # ax[1].imshow(feather_img)\n",
    "    # kymo_titles(ax[1], \"Feathered kymo\")\n",
    "    flx = ax[1].imshow(tot_flux, cmap='bwr', vmin = -1*flux_max, vmax = flux_max)\n",
    "    kymo_titles(ax[1], \"Flux kymo\")\n",
    "    cbar = plt.colorbar(flx, fraction=0.056, pad=0.02)\n",
    "    cbar.ax.set_ylabel(\"Speed*Intensity\", rotation=270)\n",
    "\n",
    "    fig.tight_layout()\n",
    "\n",
    "    fig, ax = plt.subplots(1,2)\n",
    "    for i in [0,1]:\n",
    "        thi = ax[i].imshow([tot_flux_forw, tot_flux_back][i], cmap='bwr', vmin = -1*flux_max, vmax = flux_max)\n",
    "        ax[i].set_title(\"Flux {}\".format([\"forward\", \"backward\"][i]))\n",
    "\n",
    "    cbar2 = plt.colorbar(thi, fraction=0.056, pad=0.02)\n",
    "    cbar2.ax.set_ylabel(\"Speed*Intensity\", rotation=270)\n",
    "\n",
    "    fig.tight_layout()"
   ],
   "metadata": {
    "collapsed": false,
    "pycharm": {
     "name": "#%%\n"
    }
   }
  },
  {
   "cell_type": "markdown",
   "source": [
    "## Fourier Filtering\n",
    "Here the original image is filtered to extract the forward and backward speeds. The filtering will lose the baseline, which means the values in the images are balanced around zero. To account for this, the average error of the reconstructed image with the original image is used to restore the proper values."
   ],
   "metadata": {
    "collapsed": false,
    "pycharm": {
     "name": "#%% md\n"
    }
   }
  },
  {
   "cell_type": "code",
   "execution_count": null,
   "outputs": [],
   "source": [
    "kymo_anal = Kymo_edge_analysis(kymo = tot_img)\n",
    "back, forw = kymo_anal.fourier_kymo()\n",
    "forw_back = np.add(forw, back)\n",
    "\n",
    "zero_point = np.average(np.subtract(forw_back.flatten(),  tot_img.flatten()))\n",
    "\n",
    "forw_thresh = np.where((forw - zero_point/2) < noise_thresh, 0, forw - zero_point/2)\n",
    "back_thresh = np.where((back - zero_point/2) < noise_thresh, 0, back - zero_point/2)\n",
    "forw_back_thresh = np.where((forw_back - zero_point) < noise_thresh, 0, forw_back - zero_point)"
   ],
   "metadata": {
    "collapsed": false,
    "pycharm": {
     "name": "#%%\n"
    }
   }
  },
  {
   "cell_type": "markdown",
   "source": [
    "### FIGURES\n",
    "View the filtered forward and backward lines, as well as the two together. Also the histograms with the original images is overlayed on the histogram of the filtered images. This is to check if they correspond."
   ],
   "metadata": {
    "collapsed": false,
    "pycharm": {
     "name": "#%% md\n"
    }
   }
  },
  {
   "cell_type": "code",
   "execution_count": null,
   "outputs": [],
   "source": [
    "if display_figs:\n",
    "    fig, ax = plt.subplots(2,3, sharey='row', figsize=(10, 6))\n",
    "    fig.suptitle(\"Filtered lines with histo's, compared to original histo\")\n",
    "    for i in range(3):\n",
    "        ax[0][i].imshow([forw_back_thresh[0], forw_thresh[0], back_thresh[0]][i], vmin = 0, vmax = img_max)\n",
    "        ax[0][i].set_title(\"Fourier {}\".format([\"total\", \"forward\", \"back\"][i]))\n",
    "        ax[0][i].set_xlabel(\"space (x)\")\n",
    "        ax[0][i].set_ylabel(\"time (t)\")\n",
    "\n",
    "        ax[1][i].hist([forw_back_thresh[0].flatten(), back_thresh[0].flatten(), forw_thresh[0].flatten()][i], bins = np.linspace(-0.01, img_max, 50), log=True, label='filter')\n",
    "        ax[1][i].hist([tot_img.flatten(), tot_img_back.flatten(), tot_img_forw.flatten()][i], bins = np.linspace(-0.01, img_max, 50), log=True, label='ground truth', alpha=0.5)\n",
    "        ax[1][i].legend()\n",
    "\n",
    "    fig.tight_layout()"
   ],
   "metadata": {
    "collapsed": false,
    "pycharm": {
     "name": "#%%\n"
    }
   }
  },
  {
   "cell_type": "markdown",
   "source": [
    "## Speed extraction\n",
    "Now that the images are filtered, both forward an backward filtered images can be used for speed extraction. These can then be added with each other to get the general flux of the kymographs."
   ],
   "metadata": {
    "collapsed": false,
    "pycharm": {
     "name": "#%% md\n"
    }
   }
  },
  {
   "cell_type": "code",
   "execution_count": null,
   "outputs": [],
   "source": [
    "speeds, times = kymo_anal.extract_speeds(speed_thresh = speed_thresh, c_thr = .95, plots=False, speedplot=True, w=3)\n",
    "\n",
    "spd_max = np.nanmax(abs(speeds.flatten()))\n",
    "\n",
    "spds_back = np.where(speeds[0][0] < 0, speeds[0][0], 0)\n",
    "spds_forw = np.where(speeds[0][1] > 0, speeds[0][1], 0)\n",
    "# spds_forw = speeds[0][1]\n",
    "# spds_back = speeds[0][0]\n",
    "\n",
    "spds_back = np.where(spds_back is np.nan, 0, spds_back)\n",
    "spds_forw = np.where(spds_forw is np.nan, 0, spds_forw)\n",
    "\n",
    "kernel = np.ones((5,5),np.uint8)\n",
    "\n",
    "k = cv2.getGaussianKernel(7, -1)\n",
    "kernel = k @ k.T\n",
    "\n",
    "iters = 1\n",
    "\n",
    "spds_back = cv2.morphologyEx(spds_back, cv2.MORPH_OPEN, kernel, iterations=iters)\n",
    "spds_forw = cv2.morphologyEx(spds_forw, cv2.MORPH_CLOSE, kernel, iterations=iters)\n",
    "# spds_back = cv2.GaussianBlur(spds_back, (5,5), 0)\n",
    "# spds_forw = cv2.GaussianBlur(spds_forw, (5,5), 0)\n",
    "\n",
    "\n",
    "\n",
    "spds_tot = np.nansum(np.dstack((spds_back,spds_forw)),2)\n",
    "flux_tot = np.nansum((np.prod((spds_forw, forw_thresh[0]), 0), np.prod((spds_back, back_thresh[0]), 0)), 0)"
   ],
   "metadata": {
    "collapsed": false,
    "pycharm": {
     "name": "#%%\n"
    }
   }
  },
  {
   "cell_type": "markdown",
   "source": [
    "### FIGURES\n",
    "View the extracted speeds, as well as the speeds multiplied with the lines, creating the flux images. Also compare the reconstructed flux with the ground truth, and look at the log ratio error. Lastly, there is a histogram with the fold change error. Previously, this showed a consistent fold change error of ~1.3. This was fixed by properly calculating the constant mentioned in fourier filtering. "
   ],
   "metadata": {
    "collapsed": false,
    "pycharm": {
     "name": "#%% md\n"
    }
   }
  },
  {
   "cell_type": "code",
   "execution_count": null,
   "outputs": [],
   "source": [
    "if display_figs:\n",
    "    fig, ax = plt.subplots(2,3, sharey = 'row', figsize = (10,6))\n",
    "    fig.suptitle(\"Speeds and speeds * intensities\")\n",
    "    for i in range(3):\n",
    "        spds = ax[0][i].imshow([spds_forw, spds_back, spds_tot][i],\n",
    "                              vmin = -1*spd_max, vmax = spd_max,\n",
    "                              cmap = 'bwr'\n",
    "                              )\n",
    "        ax[0][i].set_title(\"{} speeds\".format([\"Forward\", \"Backward\", \"Total\"][i]))\n",
    "        ax[i%2][0].set_ylabel(\"time (t)\")\n",
    "        ax[0][i].set_xlabel(\"space (x)\")\n",
    "        ax[1][i].set_xlabel(\"space (x)\")\n",
    "\n",
    "        spdints = ax[1][i].imshow([np.prod((spds_forw, forw_thresh[0]), 0),\n",
    "                                  np.prod((spds_back, back_thresh[0]), 0),\n",
    "                                  flux_tot]\n",
    "                                  [i],\n",
    "                                  vmin = -1*flux_max, vmax = flux_max,\n",
    "                                  cmap = 'bwr'\n",
    "                                 )\n",
    "        ax[1][i].set_title(\"{} flux\".format([\"Forward\", \"Backward\", \"Total\"][i]))\n",
    "\n",
    "\n",
    "    cbar3 = plt.colorbar(spds, fraction=0.056, pad=0.02)\n",
    "    cbar3 = plt.colorbar(spdints, fraction=0.056, pad=0.02)\n",
    "    fig.tight_layout()\n",
    "\n",
    "\n",
    "    fig, ax = plt.subplots(1,3, sharey = True, figsize = (9,3))\n",
    "    for i in range(3):\n",
    "        comp = ax[i].imshow([flux_tot, tot_flux, np.log(abs(flux_tot) / abs(tot_flux))][i], vmin = -1*flux_max, vmax = flux_max, cmap = 'bwr')\n",
    "        ax[i].set_title(\"Flux {}\".format([\"reconstructed\", \"ground truth\", \"ratio log error\"][i]))\n",
    "    plt.colorbar(comp, fraction=0.056, pad=0.02)\n",
    "\n",
    "    fig, ax = plt.subplots()\n",
    "    err_hist = ax.hist((abs(flux_tot) / abs(tot_flux)).flatten(), bins = np.logspace(-5, 5, 50), log=False)\n",
    "    ax.set_xscale('log')\n",
    "    fold_max = (err_hist[1][np.argmax(err_hist[0][1:])] + err_hist[1][np.argmax(err_hist[0][1:])+1])/2\n",
    "    ax.set_title(\"Error Ratio Histo (non-zero max at fold {:.4})\".format(fold_max))\n",
    "    ax.set_xlabel(\"fold change\")\n",
    "    ax.set_ylabel(\"log frequency\")"
   ],
   "metadata": {
    "collapsed": false,
    "pycharm": {
     "name": "#%%\n"
    }
   }
  },
  {
   "cell_type": "markdown",
   "source": [
    "### FIGURES:\n",
    "We're getting towards the end, here we check to see how line integrals are doing. We are plotting the ground truth net transport, the transport with just the fourier filtered images (speed is assumed to be 1), and the integral over the flux images that were created. "
   ],
   "metadata": {
    "collapsed": false,
    "pycharm": {
     "name": "#%% md\n"
    }
   }
  },
  {
   "cell_type": "code",
   "execution_count": null,
   "outputs": [],
   "source": [
    "# # fig, ax = plt.subplots(1,2, sharey=True)\n",
    "\n",
    "# # im_l = ax[0].imshow(left - zero_point, vmin = 0, vmax = img_max)\n",
    "# # kymo_titles(ax[0], \"Backward filter\")\n",
    "# # ax[0].vlines(200, 0, 399, colors='black', label=\"\")\n",
    "# # im_r = ax[1].imshow(right - zero_point, vmin = 0, vmax = img_max)\n",
    "# # kymo_titles(ax[1], \"Forward filter\")\n",
    "# # ax[1].vlines(200, 0, 399, colors='black', label=\"\")\n",
    "\n",
    "# line_interest = 100\n",
    "\n",
    "# fig, ax = plt.subplots()\n",
    "# comp = ax.imshow(flux_tot, vmin = -1*flux_max, vmax = flux_max, cmap = 'bwr')\n",
    "# ax.vlines(line_interest, 1, flux_tot.shape[0] -1, color='black')\n",
    "# ax.set_title(\"reconstructed flux with line int\")\n",
    "\n",
    "# int_ax = flux_int(tot_flux, line=line_interest)\n",
    "# fourier_int = np.cumsum(np.subtract(right, left).transpose()[line_interest])\n",
    "# fourier_adj_int = np.nancumsum(flux_tot.transpose()[line_interest])\n",
    "# fourier_avg_int = np.nancumsum(np.subtract(np.array(right)*right_avg, np.array(left)*-1*left_avg).transpose()[line_interest])\n",
    "# int_ax.plot(fourier_int, label=\"Simple Fourier Int\")\n",
    "# int_ax.plot(fourier_adj_int, label=\"Flux Fourier Int\")\n",
    "# int_ax.legend()\n"
   ],
   "metadata": {
    "collapsed": false,
    "pycharm": {
     "name": "#%%\n"
    }
   }
  },
  {
   "cell_type": "code",
   "execution_count": null,
   "outputs": [],
   "source": [
    "def extract_net_transport(line, orig_img, recon_img):\n",
    "    int_line = orig_img.transpose()[line]\n",
    "    int_plot = np.cumsum(int_line)\n",
    "    fourier_adj_int = np.nancumsum(recon_img.transpose()[line])\n",
    "    return np.array([int_plot[-1] - int_plot[0], fourier_adj_int[-1] - fourier_adj_int[0]])\n",
    "\n",
    "# print(extract_net_transport(209, flux_tot, tot_flux).shape)\n",
    "\n",
    "fig, ax = plt.subplots()\n",
    "ax.set_xlabel(\"space (x)\")\n",
    "ax.set_ylabel(\"fold change transport error\")\n",
    "\n",
    "\n",
    "trans_plots = np.array([extract_net_transport(line, tot_flux, flux_tot) for line in range(flux_tot.shape[1])]).transpose()\n",
    "\n",
    "# print(trans_plots.shape)\n",
    "\n",
    "ax.plot((trans_plots[1] - trans_plots[0]) / nr_total_lines, color='black', alpha=0.5, label='error')\n",
    "# ax.set_ylim([-5, 5])\n",
    "# ax.hlines(1, 0, 299, label='Desired error')\n",
    "ax.legend()\n",
    "\n",
    "line_interest = 200\n",
    "fig, ax = plt.subplots()\n",
    "ax.plot(np.nancumsum(flux_tot.transpose()[line_interest]))\n",
    "ax.plot(np.nancumsum(tot_flux.transpose()[line_interest]))"
   ],
   "metadata": {
    "collapsed": false,
    "pycharm": {
     "name": "#%%\n"
    }
   }
  },
  {
   "cell_type": "code",
   "execution_count": null,
   "outputs": [],
   "source": [],
   "metadata": {
    "collapsed": false,
    "pycharm": {
     "name": "#%%\n"
    }
   }
  },
  {
   "cell_type": "code",
   "execution_count": null,
   "id": "30660d9f",
   "metadata": {
    "pycharm": {
     "name": "#%%\n"
    }
   },
   "outputs": [],
   "source": []
  },
  {
   "cell_type": "code",
   "execution_count": null,
   "id": "c29de55e",
   "metadata": {},
   "outputs": [],
   "source": []
  }
 ],
 "metadata": {
  "kernelspec": {
   "display_name": "Python 3 (ipykernel)",
   "language": "python",
   "name": "python3"
  },
  "language_info": {
   "codemirror_mode": {
    "name": "ipython",
    "version": 3
   },
   "file_extension": ".py",
   "mimetype": "text/x-python",
   "name": "python",
   "nbconvert_exporter": "python",
   "pygments_lexer": "ipython3",
   "version": "3.10.10"
  }
 },
 "nbformat": 4,
 "nbformat_minor": 5
}
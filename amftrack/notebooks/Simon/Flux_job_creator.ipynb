{
 "cells": [
  {
   "cell_type": "code",
   "execution_count": 21,
   "id": "118935f1",
   "metadata": {
    "pycharm": {
     "name": "#%%\n"
    }
   },
   "outputs": [
    {
     "name": "stdout",
     "output_type": "stream",
     "text": [
      "The autoreload extension is already loaded. To reload it, use:\n",
      "  %reload_ext autoreload\n"
     ]
    }
   ],
   "source": [
    "from amftrack.pipeline.development.high_mag_videos.kymo_class import *\n",
    "import os\n",
    "import pandas as pd\n",
    "import imageio.v2 as imageio\n",
    "import matplotlib.pyplot as plt\n",
    "import cv2\n",
    "from glob import glob\n",
    "from tqdm import tqdm\n",
    "%matplotlib widget\n",
    "%load_ext autoreload\n",
    "%autoreload 2\n",
    "from amftrack.pipeline.functions.image_processing.extract_graph import (\n",
    "    from_sparse_to_graph,\n",
    "    generate_nx_graph,\n",
    "    clean_degree_4,\n",
    ")\n",
    "import scipy\n",
    "from pathlib import Path\n",
    "from amftrack.pipeline.launching.run_super import run_parallel\n",
    "import re\n",
    "\n"
   ]
  },
  {
   "cell_type": "code",
   "execution_count": 11,
   "id": "7e988655",
   "metadata": {
    "pycharm": {
     "name": "#%%\n"
    }
   },
   "outputs": [],
   "source": [
    "directory_targ = \"/gpfs/scratch1/shared/amftrackflow/Hannah_set/1_week/\"\n",
    "upload_targ = \"/DATA/MYRISTATE/DATA/1_week/\""
   ]
  },
  {
   "cell_type": "code",
   "execution_count": 12,
   "id": "836dd4d0",
   "metadata": {},
   "outputs": [
    {
     "name": "stdout",
     "output_type": "stream",
     "text": [
      "/gpfs/scratch1/shared/amftrackflow/Hannah_set/1_week/20230307_plate010.csv\n"
     ]
    }
   ],
   "source": [
    "test_name = glob(directory_targ + '*')[0]\n",
    "imgs_address = test_name\n",
    "print(test_name)"
   ]
  },
  {
   "cell_type": "code",
   "execution_count": 63,
   "id": "7e1ba1fb",
   "metadata": {
    "pycharm": {
     "name": "#%%\n"
    },
    "scrolled": false
   },
   "outputs": [
    {
     "name": "stdout",
     "output_type": "stream",
     "text": [
      "/gpfs/scratch1/shared/amftrackflow/Hannah_set/1_week/20230518_Plate051/002/\n",
      "/gpfs/scratch1/shared/amftrackflow/Hannah_set/1_week/20230518_Plate051/001/\n",
      "/gpfs/scratch1/shared/amftrackflow/Hannah_set/1_week/20230518_Plate063/014/\n",
      "/gpfs/scratch1/shared/amftrackflow/Hannah_set/1_week/20230518_Plate063/006/\n",
      "/gpfs/scratch1/shared/amftrackflow/Hannah_set/1_week/20230518_Plate063/002/\n",
      "/gpfs/scratch1/shared/amftrackflow/Hannah_set/1_week/20230518_Plate063/007/\n",
      "/gpfs/scratch1/shared/amftrackflow/Hannah_set/1_week/20230518_Plate063/003/\n",
      "/gpfs/scratch1/shared/amftrackflow/Hannah_set/1_week/20230518_Plate063/008/\n",
      "/gpfs/scratch1/shared/amftrackflow/Hannah_set/1_week/20230518_Plate063/010/\n",
      "/gpfs/scratch1/shared/amftrackflow/Hannah_set/1_week/20230518_Plate063/009/\n",
      "/gpfs/scratch1/shared/amftrackflow/Hannah_set/1_week/20230518_Plate063/015/\n",
      "/gpfs/scratch1/shared/amftrackflow/Hannah_set/1_week/20230518_Plate063/011/\n",
      "/gpfs/scratch1/shared/amftrackflow/Hannah_set/1_week/20230518_Plate063/012/\n",
      "/gpfs/scratch1/shared/amftrackflow/Hannah_set/1_week/20230518_Plate063/004/\n",
      "/gpfs/scratch1/shared/amftrackflow/Hannah_set/1_week/20230518_Plate063/013/\n",
      "/gpfs/scratch1/shared/amftrackflow/Hannah_set/1_week/20230518_Plate063/005/\n",
      "/gpfs/scratch1/shared/amftrackflow/Hannah_set/1_week/20230518_Plate063/001/\n",
      "/gpfs/scratch1/shared/amftrackflow/Hannah_set/1_week/20230307_Plate030/02/\n",
      "/gpfs/scratch1/shared/amftrackflow/Hannah_set/1_week/20230307_Plate030/05/\n",
      "/gpfs/scratch1/shared/amftrackflow/Hannah_set/1_week/20230307_Plate030/08/\n",
      "/gpfs/scratch1/shared/amftrackflow/Hannah_set/1_week/20230307_Plate030/11/\n",
      "/gpfs/scratch1/shared/amftrackflow/Hannah_set/1_week/20230307_Plate030/14/\n",
      "/gpfs/scratch1/shared/amftrackflow/Hannah_set/1_week/20230307_Plate030/01/\n",
      "/gpfs/scratch1/shared/amftrackflow/Hannah_set/1_week/20230307_Plate030/09/\n",
      "/gpfs/scratch1/shared/amftrackflow/Hannah_set/1_week/20230307_Plate030/04/\n",
      "/gpfs/scratch1/shared/amftrackflow/Hannah_set/1_week/20230307_Plate030/07/\n",
      "/gpfs/scratch1/shared/amftrackflow/Hannah_set/1_week/20230307_Plate030/13/\n",
      "/gpfs/scratch1/shared/amftrackflow/Hannah_set/1_week/20230307_Plate030/16/\n",
      "/gpfs/scratch1/shared/amftrackflow/Hannah_set/1_week/20230307_Plate030/03/\n",
      "/gpfs/scratch1/shared/amftrackflow/Hannah_set/1_week/20230307_Plate030/06/\n",
      "/gpfs/scratch1/shared/amftrackflow/Hannah_set/1_week/20230307_Plate030/12/\n",
      "/gpfs/scratch1/shared/amftrackflow/Hannah_set/1_week/20230307_Plate030/15/\n",
      "/gpfs/scratch1/shared/amftrackflow/Hannah_set/1_week/20230307_Plate030/10/\n",
      "/gpfs/scratch1/shared/amftrackflow/Hannah_set/1_week/20230508_Plate067/018/\n",
      "/gpfs/scratch1/shared/amftrackflow/Hannah_set/1_week/20230508_Plate067/014/\n",
      "/gpfs/scratch1/shared/amftrackflow/Hannah_set/1_week/20230508_Plate067/006/\n",
      "/gpfs/scratch1/shared/amftrackflow/Hannah_set/1_week/20230508_Plate067/002/\n",
      "/gpfs/scratch1/shared/amftrackflow/Hannah_set/1_week/20230508_Plate067/020/\n",
      "/gpfs/scratch1/shared/amftrackflow/Hannah_set/1_week/20230508_Plate067/019/\n",
      "/gpfs/scratch1/shared/amftrackflow/Hannah_set/1_week/20230508_Plate067/007/\n",
      "/gpfs/scratch1/shared/amftrackflow/Hannah_set/1_week/20230508_Plate067/003/\n",
      "/gpfs/scratch1/shared/amftrackflow/Hannah_set/1_week/20230508_Plate067/021/\n",
      "/gpfs/scratch1/shared/amftrackflow/Hannah_set/1_week/20230508_Plate067/008/\n",
      "/gpfs/scratch1/shared/amftrackflow/Hannah_set/1_week/20230508_Plate067/010/\n",
      "/gpfs/scratch1/shared/amftrackflow/Hannah_set/1_week/20230508_Plate067/009/\n",
      "/gpfs/scratch1/shared/amftrackflow/Hannah_set/1_week/20230508_Plate067/015/\n",
      "/gpfs/scratch1/shared/amftrackflow/Hannah_set/1_week/20230508_Plate067/011/\n",
      "/gpfs/scratch1/shared/amftrackflow/Hannah_set/1_week/20230508_Plate067/016/\n",
      "/gpfs/scratch1/shared/amftrackflow/Hannah_set/1_week/20230508_Plate067/012/\n",
      "/gpfs/scratch1/shared/amftrackflow/Hannah_set/1_week/20230508_Plate067/004/\n",
      "/gpfs/scratch1/shared/amftrackflow/Hannah_set/1_week/20230508_Plate067/017/\n",
      "/gpfs/scratch1/shared/amftrackflow/Hannah_set/1_week/20230508_Plate067/013/\n",
      "/gpfs/scratch1/shared/amftrackflow/Hannah_set/1_week/20230508_Plate067/005/\n",
      "/gpfs/scratch1/shared/amftrackflow/Hannah_set/1_week/20230508_Plate067/001/\n",
      "/gpfs/scratch1/shared/amftrackflow/Hannah_set/1_week/20230515_Plate060/006/\n",
      "/gpfs/scratch1/shared/amftrackflow/Hannah_set/1_week/20230515_Plate060/002/\n",
      "/gpfs/scratch1/shared/amftrackflow/Hannah_set/1_week/20230515_Plate060/007/\n",
      "/gpfs/scratch1/shared/amftrackflow/Hannah_set/1_week/20230515_Plate060/003/\n",
      "/gpfs/scratch1/shared/amftrackflow/Hannah_set/1_week/20230515_Plate060/008/\n",
      "/gpfs/scratch1/shared/amftrackflow/Hannah_set/1_week/20230515_Plate060/009/\n",
      "/gpfs/scratch1/shared/amftrackflow/Hannah_set/1_week/20230515_Plate060/004/\n",
      "/gpfs/scratch1/shared/amftrackflow/Hannah_set/1_week/20230515_Plate060/005/\n",
      "/gpfs/scratch1/shared/amftrackflow/Hannah_set/1_week/20230515_Plate060/001/\n",
      "/gpfs/scratch1/shared/amftrackflow/Hannah_set/1_week/20230518_Plate056/018/\n",
      "/gpfs/scratch1/shared/amftrackflow/Hannah_set/1_week/20230518_Plate056/014/\n",
      "/gpfs/scratch1/shared/amftrackflow/Hannah_set/1_week/20230518_Plate056/006/\n",
      "/gpfs/scratch1/shared/amftrackflow/Hannah_set/1_week/20230518_Plate056/002/\n",
      "/gpfs/scratch1/shared/amftrackflow/Hannah_set/1_week/20230518_Plate056/020/\n",
      "/gpfs/scratch1/shared/amftrackflow/Hannah_set/1_week/20230518_Plate056/019/\n",
      "/gpfs/scratch1/shared/amftrackflow/Hannah_set/1_week/20230518_Plate056/007/\n",
      "/gpfs/scratch1/shared/amftrackflow/Hannah_set/1_week/20230518_Plate056/003/\n",
      "/gpfs/scratch1/shared/amftrackflow/Hannah_set/1_week/20230518_Plate056/008/\n",
      "/gpfs/scratch1/shared/amftrackflow/Hannah_set/1_week/20230518_Plate056/010/\n",
      "/gpfs/scratch1/shared/amftrackflow/Hannah_set/1_week/20230518_Plate056/009/\n",
      "/gpfs/scratch1/shared/amftrackflow/Hannah_set/1_week/20230518_Plate056/015/\n",
      "/gpfs/scratch1/shared/amftrackflow/Hannah_set/1_week/20230518_Plate056/011/\n",
      "/gpfs/scratch1/shared/amftrackflow/Hannah_set/1_week/20230518_Plate056/016/\n",
      "/gpfs/scratch1/shared/amftrackflow/Hannah_set/1_week/20230518_Plate056/012/\n",
      "/gpfs/scratch1/shared/amftrackflow/Hannah_set/1_week/20230518_Plate056/004/\n",
      "/gpfs/scratch1/shared/amftrackflow/Hannah_set/1_week/20230518_Plate056/017/\n",
      "/gpfs/scratch1/shared/amftrackflow/Hannah_set/1_week/20230518_Plate056/013/\n",
      "/gpfs/scratch1/shared/amftrackflow/Hannah_set/1_week/20230518_Plate056/005/\n",
      "/gpfs/scratch1/shared/amftrackflow/Hannah_set/1_week/20230518_Plate056/001/\n",
      "/gpfs/scratch1/shared/amftrackflow/Hannah_set/1_week/20230307_Plate010/02/\n",
      "/gpfs/scratch1/shared/amftrackflow/Hannah_set/1_week/20230307_Plate010/01/\n",
      "/gpfs/scratch1/shared/amftrackflow/Hannah_set/1_week/20230307_Plate010/04/\n",
      "/gpfs/scratch1/shared/amftrackflow/Hannah_set/1_week/20230307_Plate010/03/\n",
      "/gpfs/scratch1/shared/amftrackflow/Hannah_set/1_week/20230301_Plate046/02/\n",
      "/gpfs/scratch1/shared/amftrackflow/Hannah_set/1_week/20230301_Plate046/05/\n",
      "/gpfs/scratch1/shared/amftrackflow/Hannah_set/1_week/20230301_Plate046/08/\n",
      "/gpfs/scratch1/shared/amftrackflow/Hannah_set/1_week/20230301_Plate046/21/\n",
      "/gpfs/scratch1/shared/amftrackflow/Hannah_set/1_week/20230301_Plate046/24/\n",
      "/gpfs/scratch1/shared/amftrackflow/Hannah_set/1_week/20230301_Plate046/27/\n",
      "/gpfs/scratch1/shared/amftrackflow/Hannah_set/1_week/20230301_Plate046/11/\n",
      "/gpfs/scratch1/shared/amftrackflow/Hannah_set/1_week/20230301_Plate046/19/\n",
      "/gpfs/scratch1/shared/amftrackflow/Hannah_set/1_week/20230301_Plate046/14/\n",
      "/gpfs/scratch1/shared/amftrackflow/Hannah_set/1_week/20230301_Plate046/17/\n",
      "/gpfs/scratch1/shared/amftrackflow/Hannah_set/1_week/20230301_Plate046/01/\n",
      "/gpfs/scratch1/shared/amftrackflow/Hannah_set/1_week/20230301_Plate046/09/\n",
      "/gpfs/scratch1/shared/amftrackflow/Hannah_set/1_week/20230301_Plate046/04/\n",
      "/gpfs/scratch1/shared/amftrackflow/Hannah_set/1_week/20230301_Plate046/07/\n",
      "/gpfs/scratch1/shared/amftrackflow/Hannah_set/1_week/20230301_Plate046/23/\n",
      "/gpfs/scratch1/shared/amftrackflow/Hannah_set/1_week/20230301_Plate046/26/\n",
      "/gpfs/scratch1/shared/amftrackflow/Hannah_set/1_week/20230301_Plate046/13/\n",
      "/gpfs/scratch1/shared/amftrackflow/Hannah_set/1_week/20230301_Plate046/16/\n",
      "/gpfs/scratch1/shared/amftrackflow/Hannah_set/1_week/20230301_Plate046/03/\n",
      "/gpfs/scratch1/shared/amftrackflow/Hannah_set/1_week/20230301_Plate046/06/\n",
      "/gpfs/scratch1/shared/amftrackflow/Hannah_set/1_week/20230301_Plate046/22/\n",
      "/gpfs/scratch1/shared/amftrackflow/Hannah_set/1_week/20230301_Plate046/25/\n",
      "/gpfs/scratch1/shared/amftrackflow/Hannah_set/1_week/20230301_Plate046/20/\n",
      "/gpfs/scratch1/shared/amftrackflow/Hannah_set/1_week/20230301_Plate046/12/\n",
      "/gpfs/scratch1/shared/amftrackflow/Hannah_set/1_week/20230301_Plate046/15/\n",
      "/gpfs/scratch1/shared/amftrackflow/Hannah_set/1_week/20230301_Plate046/10/\n",
      "/gpfs/scratch1/shared/amftrackflow/Hannah_set/1_week/20230301_Plate046/18/\n",
      "/gpfs/scratch1/shared/amftrackflow/Hannah_set/1_week/20230301_Plate016/02/\n"
     ]
    },
    {
     "name": "stdout",
     "output_type": "stream",
     "text": [
      "/gpfs/scratch1/shared/amftrackflow/Hannah_set/1_week/20230301_Plate016/05/\n",
      "/gpfs/scratch1/shared/amftrackflow/Hannah_set/1_week/20230301_Plate016/08/\n",
      "/gpfs/scratch1/shared/amftrackflow/Hannah_set/1_week/20230301_Plate016/11/\n",
      "/gpfs/scratch1/shared/amftrackflow/Hannah_set/1_week/20230301_Plate016/14/\n",
      "/gpfs/scratch1/shared/amftrackflow/Hannah_set/1_week/20230301_Plate016/01/\n",
      "/gpfs/scratch1/shared/amftrackflow/Hannah_set/1_week/20230301_Plate016/09/\n",
      "/gpfs/scratch1/shared/amftrackflow/Hannah_set/1_week/20230301_Plate016/04/\n",
      "/gpfs/scratch1/shared/amftrackflow/Hannah_set/1_week/20230301_Plate016/07/\n",
      "/gpfs/scratch1/shared/amftrackflow/Hannah_set/1_week/20230301_Plate016/13/\n",
      "/gpfs/scratch1/shared/amftrackflow/Hannah_set/1_week/20230301_Plate016/03/\n",
      "/gpfs/scratch1/shared/amftrackflow/Hannah_set/1_week/20230301_Plate016/06/\n",
      "/gpfs/scratch1/shared/amftrackflow/Hannah_set/1_week/20230301_Plate016/12/\n",
      "/gpfs/scratch1/shared/amftrackflow/Hannah_set/1_week/20230301_Plate016/10/\n",
      "/gpfs/scratch1/shared/amftrackflow/Hannah_set/1_week/20230518_Plate049/006/\n",
      "/gpfs/scratch1/shared/amftrackflow/Hannah_set/1_week/20230518_Plate049/002/\n",
      "/gpfs/scratch1/shared/amftrackflow/Hannah_set/1_week/20230518_Plate049/007/\n",
      "/gpfs/scratch1/shared/amftrackflow/Hannah_set/1_week/20230518_Plate049/003/\n",
      "/gpfs/scratch1/shared/amftrackflow/Hannah_set/1_week/20230518_Plate049/008/\n",
      "/gpfs/scratch1/shared/amftrackflow/Hannah_set/1_week/20230518_Plate049/009/\n",
      "/gpfs/scratch1/shared/amftrackflow/Hannah_set/1_week/20230518_Plate049/004/\n",
      "/gpfs/scratch1/shared/amftrackflow/Hannah_set/1_week/20230518_Plate049/005/\n",
      "/gpfs/scratch1/shared/amftrackflow/Hannah_set/1_week/20230518_Plate049/001/\n",
      "/gpfs/scratch1/shared/amftrackflow/Hannah_set/1_week/20230515_Plate064/006/\n",
      "/gpfs/scratch1/shared/amftrackflow/Hannah_set/1_week/20230515_Plate064/002/\n",
      "/gpfs/scratch1/shared/amftrackflow/Hannah_set/1_week/20230515_Plate064/007/\n",
      "/gpfs/scratch1/shared/amftrackflow/Hannah_set/1_week/20230515_Plate064/003/\n",
      "/gpfs/scratch1/shared/amftrackflow/Hannah_set/1_week/20230515_Plate064/008/\n",
      "/gpfs/scratch1/shared/amftrackflow/Hannah_set/1_week/20230515_Plate064/010/\n",
      "/gpfs/scratch1/shared/amftrackflow/Hannah_set/1_week/20230515_Plate064/009/\n",
      "/gpfs/scratch1/shared/amftrackflow/Hannah_set/1_week/20230515_Plate064/011/\n",
      "/gpfs/scratch1/shared/amftrackflow/Hannah_set/1_week/20230515_Plate064/004/\n",
      "/gpfs/scratch1/shared/amftrackflow/Hannah_set/1_week/20230515_Plate064/005/\n",
      "/gpfs/scratch1/shared/amftrackflow/Hannah_set/1_week/20230515_Plate064/001/\n",
      "/gpfs/scratch1/shared/amftrackflow/Hannah_set/1_week/20230518_Plate055/006/\n",
      "/gpfs/scratch1/shared/amftrackflow/Hannah_set/1_week/20230518_Plate055/002/\n",
      "/gpfs/scratch1/shared/amftrackflow/Hannah_set/1_week/20230518_Plate055/007/\n",
      "/gpfs/scratch1/shared/amftrackflow/Hannah_set/1_week/20230518_Plate055/003/\n",
      "/gpfs/scratch1/shared/amftrackflow/Hannah_set/1_week/20230518_Plate055/004/\n",
      "/gpfs/scratch1/shared/amftrackflow/Hannah_set/1_week/20230518_Plate055/005/\n",
      "/gpfs/scratch1/shared/amftrackflow/Hannah_set/1_week/20230518_Plate055/001/\n",
      "/gpfs/scratch1/shared/amftrackflow/Hannah_set/1_week/20230515_Plate059/018/\n",
      "/gpfs/scratch1/shared/amftrackflow/Hannah_set/1_week/20230515_Plate059/014/\n",
      "/gpfs/scratch1/shared/amftrackflow/Hannah_set/1_week/20230515_Plate059/006/\n",
      "/gpfs/scratch1/shared/amftrackflow/Hannah_set/1_week/20230515_Plate059/002/\n",
      "/gpfs/scratch1/shared/amftrackflow/Hannah_set/1_week/20230515_Plate059/020/\n",
      "/gpfs/scratch1/shared/amftrackflow/Hannah_set/1_week/20230515_Plate059/019/\n",
      "/gpfs/scratch1/shared/amftrackflow/Hannah_set/1_week/20230515_Plate059/007/\n",
      "/gpfs/scratch1/shared/amftrackflow/Hannah_set/1_week/20230515_Plate059/003/\n",
      "/gpfs/scratch1/shared/amftrackflow/Hannah_set/1_week/20230515_Plate059/021/\n",
      "/gpfs/scratch1/shared/amftrackflow/Hannah_set/1_week/20230515_Plate059/008/\n",
      "/gpfs/scratch1/shared/amftrackflow/Hannah_set/1_week/20230515_Plate059/022/\n",
      "/gpfs/scratch1/shared/amftrackflow/Hannah_set/1_week/20230515_Plate059/010/\n",
      "/gpfs/scratch1/shared/amftrackflow/Hannah_set/1_week/20230515_Plate059/009/\n",
      "/gpfs/scratch1/shared/amftrackflow/Hannah_set/1_week/20230515_Plate059/015/\n",
      "/gpfs/scratch1/shared/amftrackflow/Hannah_set/1_week/20230515_Plate059/011/\n",
      "/gpfs/scratch1/shared/amftrackflow/Hannah_set/1_week/20230515_Plate059/016/\n",
      "/gpfs/scratch1/shared/amftrackflow/Hannah_set/1_week/20230515_Plate059/012/\n",
      "/gpfs/scratch1/shared/amftrackflow/Hannah_set/1_week/20230515_Plate059/004/\n",
      "/gpfs/scratch1/shared/amftrackflow/Hannah_set/1_week/20230515_Plate059/017/\n",
      "/gpfs/scratch1/shared/amftrackflow/Hannah_set/1_week/20230515_Plate059/013/\n",
      "/gpfs/scratch1/shared/amftrackflow/Hannah_set/1_week/20230515_Plate059/005/\n",
      "/gpfs/scratch1/shared/amftrackflow/Hannah_set/1_week/20230515_Plate059/001/\n",
      "/gpfs/scratch1/shared/amftrackflow/Hannah_set/1_week/20230508_Plate068/018/\n",
      "/gpfs/scratch1/shared/amftrackflow/Hannah_set/1_week/20230508_Plate068/014/\n",
      "/gpfs/scratch1/shared/amftrackflow/Hannah_set/1_week/20230508_Plate068/006/\n",
      "/gpfs/scratch1/shared/amftrackflow/Hannah_set/1_week/20230508_Plate068/002/\n",
      "/gpfs/scratch1/shared/amftrackflow/Hannah_set/1_week/20230508_Plate068/020/\n",
      "/gpfs/scratch1/shared/amftrackflow/Hannah_set/1_week/20230508_Plate068/019/\n",
      "/gpfs/scratch1/shared/amftrackflow/Hannah_set/1_week/20230508_Plate068/007/\n",
      "/gpfs/scratch1/shared/amftrackflow/Hannah_set/1_week/20230508_Plate068/003/\n",
      "/gpfs/scratch1/shared/amftrackflow/Hannah_set/1_week/20230508_Plate068/021/\n",
      "/gpfs/scratch1/shared/amftrackflow/Hannah_set/1_week/20230508_Plate068/008/\n",
      "/gpfs/scratch1/shared/amftrackflow/Hannah_set/1_week/20230508_Plate068/022/\n",
      "/gpfs/scratch1/shared/amftrackflow/Hannah_set/1_week/20230508_Plate068/010/\n",
      "/gpfs/scratch1/shared/amftrackflow/Hannah_set/1_week/20230508_Plate068/009/\n",
      "/gpfs/scratch1/shared/amftrackflow/Hannah_set/1_week/20230508_Plate068/023/\n",
      "/gpfs/scratch1/shared/amftrackflow/Hannah_set/1_week/20230508_Plate068/015/\n",
      "/gpfs/scratch1/shared/amftrackflow/Hannah_set/1_week/20230508_Plate068/011/\n",
      "/gpfs/scratch1/shared/amftrackflow/Hannah_set/1_week/20230508_Plate068/024/\n",
      "/gpfs/scratch1/shared/amftrackflow/Hannah_set/1_week/20230508_Plate068/016/\n",
      "/gpfs/scratch1/shared/amftrackflow/Hannah_set/1_week/20230508_Plate068/012/\n",
      "/gpfs/scratch1/shared/amftrackflow/Hannah_set/1_week/20230508_Plate068/004/\n",
      "/gpfs/scratch1/shared/amftrackflow/Hannah_set/1_week/20230508_Plate068/017/\n",
      "/gpfs/scratch1/shared/amftrackflow/Hannah_set/1_week/20230508_Plate068/013/\n",
      "/gpfs/scratch1/shared/amftrackflow/Hannah_set/1_week/20230508_Plate068/005/\n",
      "/gpfs/scratch1/shared/amftrackflow/Hannah_set/1_week/20230508_Plate068/001/\n",
      "/gpfs/scratch1/shared/amftrackflow/Hannah_set/1_week/20230308_Plate048/02/\n",
      "/gpfs/scratch1/shared/amftrackflow/Hannah_set/1_week/20230308_Plate048/05/\n",
      "/gpfs/scratch1/shared/amftrackflow/Hannah_set/1_week/20230308_Plate048/08/\n",
      "/gpfs/scratch1/shared/amftrackflow/Hannah_set/1_week/20230308_Plate048/21/\n",
      "/gpfs/scratch1/shared/amftrackflow/Hannah_set/1_week/20230308_Plate048/24/\n",
      "/gpfs/scratch1/shared/amftrackflow/Hannah_set/1_week/20230308_Plate048/27/\n",
      "/gpfs/scratch1/shared/amftrackflow/Hannah_set/1_week/20230308_Plate048/11/\n",
      "/gpfs/scratch1/shared/amftrackflow/Hannah_set/1_week/20230308_Plate048/19/\n",
      "/gpfs/scratch1/shared/amftrackflow/Hannah_set/1_week/20230308_Plate048/14/\n",
      "/gpfs/scratch1/shared/amftrackflow/Hannah_set/1_week/20230308_Plate048/17/\n",
      "/gpfs/scratch1/shared/amftrackflow/Hannah_set/1_week/20230308_Plate048/31/\n",
      "/gpfs/scratch1/shared/amftrackflow/Hannah_set/1_week/20230308_Plate048/01/\n",
      "/gpfs/scratch1/shared/amftrackflow/Hannah_set/1_week/20230308_Plate048/09/\n",
      "/gpfs/scratch1/shared/amftrackflow/Hannah_set/1_week/20230308_Plate048/04/\n",
      "/gpfs/scratch1/shared/amftrackflow/Hannah_set/1_week/20230308_Plate048/07/\n",
      "/gpfs/scratch1/shared/amftrackflow/Hannah_set/1_week/20230308_Plate048/23/\n",
      "/gpfs/scratch1/shared/amftrackflow/Hannah_set/1_week/20230308_Plate048/26/\n",
      "/gpfs/scratch1/shared/amftrackflow/Hannah_set/1_week/20230308_Plate048/29/\n",
      "/gpfs/scratch1/shared/amftrackflow/Hannah_set/1_week/20230308_Plate048/13/\n",
      "/gpfs/scratch1/shared/amftrackflow/Hannah_set/1_week/20230308_Plate048/16/\n",
      "/gpfs/scratch1/shared/amftrackflow/Hannah_set/1_week/20230308_Plate048/30/\n",
      "/gpfs/scratch1/shared/amftrackflow/Hannah_set/1_week/20230308_Plate048/03/\n",
      "/gpfs/scratch1/shared/amftrackflow/Hannah_set/1_week/20230308_Plate048/06/\n",
      "/gpfs/scratch1/shared/amftrackflow/Hannah_set/1_week/20230308_Plate048/22/\n",
      "/gpfs/scratch1/shared/amftrackflow/Hannah_set/1_week/20230308_Plate048/25/\n",
      "/gpfs/scratch1/shared/amftrackflow/Hannah_set/1_week/20230308_Plate048/20/\n",
      "/gpfs/scratch1/shared/amftrackflow/Hannah_set/1_week/20230308_Plate048/28/\n",
      "/gpfs/scratch1/shared/amftrackflow/Hannah_set/1_week/20230308_Plate048/12/\n",
      "/gpfs/scratch1/shared/amftrackflow/Hannah_set/1_week/20230308_Plate048/15/\n",
      "/gpfs/scratch1/shared/amftrackflow/Hannah_set/1_week/20230308_Plate048/10/\n",
      "/gpfs/scratch1/shared/amftrackflow/Hannah_set/1_week/20230308_Plate048/18/\n",
      "/gpfs/scratch1/shared/amftrackflow/Hannah_set/1_week/20230518_Plate050/002/\n",
      "/gpfs/scratch1/shared/amftrackflow/Hannah_set/1_week/20230518_Plate050/003/\n",
      "/gpfs/scratch1/shared/amftrackflow/Hannah_set/1_week/20230518_Plate050/001/\n",
      "/gpfs/scratch1/shared/amftrackflow/Hannah_set/1_week/20230313_Plate026/02/\n",
      "/gpfs/scratch1/shared/amftrackflow/Hannah_set/1_week/20230313_Plate026/05/\n",
      "/gpfs/scratch1/shared/amftrackflow/Hannah_set/1_week/20230313_Plate026/08/\n",
      "/gpfs/scratch1/shared/amftrackflow/Hannah_set/1_week/20230313_Plate026/11/\n",
      "/gpfs/scratch1/shared/amftrackflow/Hannah_set/1_week/20230313_Plate026/14/\n",
      "/gpfs/scratch1/shared/amftrackflow/Hannah_set/1_week/20230313_Plate026/01/\n",
      "/gpfs/scratch1/shared/amftrackflow/Hannah_set/1_week/20230313_Plate026/09/\n",
      "/gpfs/scratch1/shared/amftrackflow/Hannah_set/1_week/20230313_Plate026/04/\n",
      "/gpfs/scratch1/shared/amftrackflow/Hannah_set/1_week/20230313_Plate026/07/\n",
      "/gpfs/scratch1/shared/amftrackflow/Hannah_set/1_week/20230313_Plate026/13/\n",
      "/gpfs/scratch1/shared/amftrackflow/Hannah_set/1_week/20230313_Plate026/03/\n",
      "/gpfs/scratch1/shared/amftrackflow/Hannah_set/1_week/20230313_Plate026/06/\n",
      "/gpfs/scratch1/shared/amftrackflow/Hannah_set/1_week/20230313_Plate026/12/\n",
      "/gpfs/scratch1/shared/amftrackflow/Hannah_set/1_week/20230313_Plate026/15/\n",
      "/gpfs/scratch1/shared/amftrackflow/Hannah_set/1_week/20230313_Plate026/10/\n",
      "/gpfs/scratch1/shared/amftrackflow/Hannah_set/1_week/20230518_Plate061/018/\n",
      "/gpfs/scratch1/shared/amftrackflow/Hannah_set/1_week/20230518_Plate061/014/\n",
      "/gpfs/scratch1/shared/amftrackflow/Hannah_set/1_week/20230518_Plate061/006/\n",
      "/gpfs/scratch1/shared/amftrackflow/Hannah_set/1_week/20230518_Plate061/002/\n",
      "/gpfs/scratch1/shared/amftrackflow/Hannah_set/1_week/20230518_Plate061/019/\n",
      "/gpfs/scratch1/shared/amftrackflow/Hannah_set/1_week/20230518_Plate061/007/\n"
     ]
    },
    {
     "name": "stdout",
     "output_type": "stream",
     "text": [
      "/gpfs/scratch1/shared/amftrackflow/Hannah_set/1_week/20230518_Plate061/003/\n",
      "/gpfs/scratch1/shared/amftrackflow/Hannah_set/1_week/20230518_Plate061/008/\n",
      "/gpfs/scratch1/shared/amftrackflow/Hannah_set/1_week/20230518_Plate061/010/\n",
      "/gpfs/scratch1/shared/amftrackflow/Hannah_set/1_week/20230518_Plate061/009/\n",
      "/gpfs/scratch1/shared/amftrackflow/Hannah_set/1_week/20230518_Plate061/015/\n",
      "/gpfs/scratch1/shared/amftrackflow/Hannah_set/1_week/20230518_Plate061/011/\n",
      "/gpfs/scratch1/shared/amftrackflow/Hannah_set/1_week/20230518_Plate061/016/\n",
      "/gpfs/scratch1/shared/amftrackflow/Hannah_set/1_week/20230518_Plate061/012/\n",
      "/gpfs/scratch1/shared/amftrackflow/Hannah_set/1_week/20230518_Plate061/004/\n",
      "/gpfs/scratch1/shared/amftrackflow/Hannah_set/1_week/20230518_Plate061/017/\n",
      "/gpfs/scratch1/shared/amftrackflow/Hannah_set/1_week/20230518_Plate061/013/\n",
      "/gpfs/scratch1/shared/amftrackflow/Hannah_set/1_week/20230518_Plate061/005/\n",
      "/gpfs/scratch1/shared/amftrackflow/Hannah_set/1_week/20230518_Plate061/001/\n",
      "/gpfs/scratch1/shared/amftrackflow/Hannah_set/1_week/20230307_Plate012/02/\n",
      "/gpfs/scratch1/shared/amftrackflow/Hannah_set/1_week/20230307_Plate012/05/\n",
      "/gpfs/scratch1/shared/amftrackflow/Hannah_set/1_week/20230307_Plate012/08/\n",
      "/gpfs/scratch1/shared/amftrackflow/Hannah_set/1_week/20230307_Plate012/01/\n",
      "/gpfs/scratch1/shared/amftrackflow/Hannah_set/1_week/20230307_Plate012/09/\n",
      "/gpfs/scratch1/shared/amftrackflow/Hannah_set/1_week/20230307_Plate012/04/\n",
      "/gpfs/scratch1/shared/amftrackflow/Hannah_set/1_week/20230307_Plate012/07/\n",
      "/gpfs/scratch1/shared/amftrackflow/Hannah_set/1_week/20230307_Plate012/03/\n",
      "/gpfs/scratch1/shared/amftrackflow/Hannah_set/1_week/20230307_Plate012/06/\n",
      "/gpfs/scratch1/shared/amftrackflow/Hannah_set/1_week/20230307_Plate012/10/\n",
      "/gpfs/scratch1/shared/amftrackflow/Hannah_set/1_week/20230508_Plate069/018/\n",
      "/gpfs/scratch1/shared/amftrackflow/Hannah_set/1_week/20230508_Plate069/014/\n",
      "/gpfs/scratch1/shared/amftrackflow/Hannah_set/1_week/20230508_Plate069/006/\n",
      "/gpfs/scratch1/shared/amftrackflow/Hannah_set/1_week/20230508_Plate069/002/\n",
      "/gpfs/scratch1/shared/amftrackflow/Hannah_set/1_week/20230508_Plate069/020/\n",
      "/gpfs/scratch1/shared/amftrackflow/Hannah_set/1_week/20230508_Plate069/019/\n",
      "/gpfs/scratch1/shared/amftrackflow/Hannah_set/1_week/20230508_Plate069/007/\n",
      "/gpfs/scratch1/shared/amftrackflow/Hannah_set/1_week/20230508_Plate069/003/\n",
      "/gpfs/scratch1/shared/amftrackflow/Hannah_set/1_week/20230508_Plate069/021/\n",
      "/gpfs/scratch1/shared/amftrackflow/Hannah_set/1_week/20230508_Plate069/008/\n",
      "/gpfs/scratch1/shared/amftrackflow/Hannah_set/1_week/20230508_Plate069/026/\n",
      "/gpfs/scratch1/shared/amftrackflow/Hannah_set/1_week/20230508_Plate069/022/\n",
      "/gpfs/scratch1/shared/amftrackflow/Hannah_set/1_week/20230508_Plate069/010/\n",
      "/gpfs/scratch1/shared/amftrackflow/Hannah_set/1_week/20230508_Plate069/009/\n",
      "/gpfs/scratch1/shared/amftrackflow/Hannah_set/1_week/20230508_Plate069/027/\n",
      "/gpfs/scratch1/shared/amftrackflow/Hannah_set/1_week/20230508_Plate069/023/\n",
      "/gpfs/scratch1/shared/amftrackflow/Hannah_set/1_week/20230508_Plate069/015/\n",
      "/gpfs/scratch1/shared/amftrackflow/Hannah_set/1_week/20230508_Plate069/011/\n",
      "/gpfs/scratch1/shared/amftrackflow/Hannah_set/1_week/20230508_Plate069/028/\n",
      "/gpfs/scratch1/shared/amftrackflow/Hannah_set/1_week/20230508_Plate069/024/\n",
      "/gpfs/scratch1/shared/amftrackflow/Hannah_set/1_week/20230508_Plate069/016/\n",
      "/gpfs/scratch1/shared/amftrackflow/Hannah_set/1_week/20230508_Plate069/012/\n",
      "/gpfs/scratch1/shared/amftrackflow/Hannah_set/1_week/20230508_Plate069/004/\n",
      "/gpfs/scratch1/shared/amftrackflow/Hannah_set/1_week/20230508_Plate069/025/\n",
      "/gpfs/scratch1/shared/amftrackflow/Hannah_set/1_week/20230508_Plate069/017/\n",
      "/gpfs/scratch1/shared/amftrackflow/Hannah_set/1_week/20230508_Plate069/013/\n",
      "/gpfs/scratch1/shared/amftrackflow/Hannah_set/1_week/20230508_Plate069/005/\n",
      "/gpfs/scratch1/shared/amftrackflow/Hannah_set/1_week/20230508_Plate069/001/\n",
      "Found NaNs in the excel files! Blame the experimentalists.\n"
     ]
    },
    {
     "data": {
      "text/html": [
       "<div>\n",
       "<style scoped>\n",
       "    .dataframe tbody tr th:only-of-type {\n",
       "        vertical-align: middle;\n",
       "    }\n",
       "\n",
       "    .dataframe tbody tr th {\n",
       "        vertical-align: top;\n",
       "    }\n",
       "\n",
       "    .dataframe thead th {\n",
       "        text-align: right;\n",
       "    }\n",
       "</style>\n",
       "<table border=\"1\" class=\"dataframe\">\n",
       "  <thead>\n",
       "    <tr style=\"text-align: right;\">\n",
       "      <th></th>\n",
       "      <th>address_total</th>\n",
       "      <th>video_name</th>\n",
       "      <th>plate_nr</th>\n",
       "      <th>video_nr</th>\n",
       "      <th>date_imaged</th>\n",
       "      <th>fps</th>\n",
       "      <th>magnification</th>\n",
       "      <th>mode</th>\n",
       "      <th>parent_folder</th>\n",
       "      <th>data_table</th>\n",
       "    </tr>\n",
       "  </thead>\n",
       "  <tbody>\n",
       "    <tr>\n",
       "      <th>306</th>\n",
       "      <td>/gpfs/scratch1/shared/amftrackflow/Hannah_set/...</td>\n",
       "      <td>001</td>\n",
       "      <td>069</td>\n",
       "      <td>1</td>\n",
       "      <td></td>\n",
       "      <td>20</td>\n",
       "      <td>50</td>\n",
       "      <td>BF</td>\n",
       "      <td>/gpfs/scratch1/shared/amftrackflow/Hannah_set/...</td>\n",
       "      <td>/gpfs/scratch1/shared/amftrackflow/Hannah_set/...</td>\n",
       "    </tr>\n",
       "    <tr>\n",
       "      <th>62</th>\n",
       "      <td>/gpfs/scratch1/shared/amftrackflow/Hannah_set/...</td>\n",
       "      <td>001</td>\n",
       "      <td>060</td>\n",
       "      <td>1</td>\n",
       "      <td></td>\n",
       "      <td>20</td>\n",
       "      <td>50</td>\n",
       "      <td>BF</td>\n",
       "      <td>/gpfs/scratch1/shared/amftrackflow/Hannah_set/...</td>\n",
       "      <td>/gpfs/scratch1/shared/amftrackflow/Hannah_set/...</td>\n",
       "    </tr>\n",
       "    <tr>\n",
       "      <th>82</th>\n",
       "      <td>/gpfs/scratch1/shared/amftrackflow/Hannah_set/...</td>\n",
       "      <td>001</td>\n",
       "      <td>056</td>\n",
       "      <td>1</td>\n",
       "      <td></td>\n",
       "      <td>20</td>\n",
       "      <td>50</td>\n",
       "      <td>BF</td>\n",
       "      <td>/gpfs/scratch1/shared/amftrackflow/Hannah_set/...</td>\n",
       "      <td>/gpfs/scratch1/shared/amftrackflow/Hannah_set/...</td>\n",
       "    </tr>\n",
       "    <tr>\n",
       "      <th>16</th>\n",
       "      <td>/gpfs/scratch1/shared/amftrackflow/Hannah_set/...</td>\n",
       "      <td>001</td>\n",
       "      <td>063</td>\n",
       "      <td>1</td>\n",
       "      <td></td>\n",
       "      <td>20</td>\n",
       "      <td>50</td>\n",
       "      <td>BF</td>\n",
       "      <td>/gpfs/scratch1/shared/amftrackflow/Hannah_set/...</td>\n",
       "      <td>/gpfs/scratch1/shared/amftrackflow/Hannah_set/...</td>\n",
       "    </tr>\n",
       "    <tr>\n",
       "      <th>136</th>\n",
       "      <td>/gpfs/scratch1/shared/amftrackflow/Hannah_set/...</td>\n",
       "      <td>001</td>\n",
       "      <td>049</td>\n",
       "      <td>1</td>\n",
       "      <td></td>\n",
       "      <td>20</td>\n",
       "      <td>50</td>\n",
       "      <td>BF</td>\n",
       "      <td>/gpfs/scratch1/shared/amftrackflow/Hannah_set/...</td>\n",
       "      <td>/gpfs/scratch1/shared/amftrackflow/Hannah_set/...</td>\n",
       "    </tr>\n",
       "    <tr>\n",
       "      <th>...</th>\n",
       "      <td>...</td>\n",
       "      <td>...</td>\n",
       "      <td>...</td>\n",
       "      <td>...</td>\n",
       "      <td>...</td>\n",
       "      <td>...</td>\n",
       "      <td>...</td>\n",
       "      <td>...</td>\n",
       "      <td>...</td>\n",
       "      <td>...</td>\n",
       "    </tr>\n",
       "    <tr>\n",
       "      <th>206</th>\n",
       "      <td>/gpfs/scratch1/shared/amftrackflow/Hannah_set/...</td>\n",
       "      <td>27</td>\n",
       "      <td>048</td>\n",
       "      <td>27</td>\n",
       "      <td></td>\n",
       "      <td>20</td>\n",
       "      <td>50</td>\n",
       "      <td>BF</td>\n",
       "      <td>/gpfs/scratch1/shared/amftrackflow/Hannah_set/...</td>\n",
       "      <td>/gpfs/scratch1/shared/amftrackflow/Hannah_set/...</td>\n",
       "    </tr>\n",
       "    <tr>\n",
       "      <th>227</th>\n",
       "      <td>/gpfs/scratch1/shared/amftrackflow/Hannah_set/...</td>\n",
       "      <td>28</td>\n",
       "      <td>048</td>\n",
       "      <td>28</td>\n",
       "      <td></td>\n",
       "      <td>20</td>\n",
       "      <td>50</td>\n",
       "      <td>BF</td>\n",
       "      <td>/gpfs/scratch1/shared/amftrackflow/Hannah_set/...</td>\n",
       "      <td>/gpfs/scratch1/shared/amftrackflow/Hannah_set/...</td>\n",
       "    </tr>\n",
       "    <tr>\n",
       "      <th>218</th>\n",
       "      <td>/gpfs/scratch1/shared/amftrackflow/Hannah_set/...</td>\n",
       "      <td>29</td>\n",
       "      <td>048</td>\n",
       "      <td>29</td>\n",
       "      <td></td>\n",
       "      <td>20</td>\n",
       "      <td>50</td>\n",
       "      <td>BF</td>\n",
       "      <td>/gpfs/scratch1/shared/amftrackflow/Hannah_set/...</td>\n",
       "      <td>/gpfs/scratch1/shared/amftrackflow/Hannah_set/...</td>\n",
       "    </tr>\n",
       "    <tr>\n",
       "      <th>221</th>\n",
       "      <td>/gpfs/scratch1/shared/amftrackflow/Hannah_set/...</td>\n",
       "      <td>30</td>\n",
       "      <td>048</td>\n",
       "      <td>30</td>\n",
       "      <td></td>\n",
       "      <td>20</td>\n",
       "      <td>50</td>\n",
       "      <td>BF</td>\n",
       "      <td>/gpfs/scratch1/shared/amftrackflow/Hannah_set/...</td>\n",
       "      <td>/gpfs/scratch1/shared/amftrackflow/Hannah_set/...</td>\n",
       "    </tr>\n",
       "    <tr>\n",
       "      <th>211</th>\n",
       "      <td>/gpfs/scratch1/shared/amftrackflow/Hannah_set/...</td>\n",
       "      <td>31</td>\n",
       "      <td>048</td>\n",
       "      <td>31</td>\n",
       "      <td></td>\n",
       "      <td>20</td>\n",
       "      <td>50</td>\n",
       "      <td>BF</td>\n",
       "      <td>/gpfs/scratch1/shared/amftrackflow/Hannah_set/...</td>\n",
       "      <td>/gpfs/scratch1/shared/amftrackflow/Hannah_set/...</td>\n",
       "    </tr>\n",
       "  </tbody>\n",
       "</table>\n",
       "<p>307 rows × 10 columns</p>\n",
       "</div>"
      ],
      "text/plain": [
       "                                         address_total video_name plate_nr  \\\n",
       "306  /gpfs/scratch1/shared/amftrackflow/Hannah_set/...        001      069   \n",
       "62   /gpfs/scratch1/shared/amftrackflow/Hannah_set/...        001      060   \n",
       "82   /gpfs/scratch1/shared/amftrackflow/Hannah_set/...        001      056   \n",
       "16   /gpfs/scratch1/shared/amftrackflow/Hannah_set/...        001      063   \n",
       "136  /gpfs/scratch1/shared/amftrackflow/Hannah_set/...        001      049   \n",
       "..                                                 ...        ...      ...   \n",
       "206  /gpfs/scratch1/shared/amftrackflow/Hannah_set/...         27      048   \n",
       "227  /gpfs/scratch1/shared/amftrackflow/Hannah_set/...         28      048   \n",
       "218  /gpfs/scratch1/shared/amftrackflow/Hannah_set/...         29      048   \n",
       "221  /gpfs/scratch1/shared/amftrackflow/Hannah_set/...         30      048   \n",
       "211  /gpfs/scratch1/shared/amftrackflow/Hannah_set/...         31      048   \n",
       "\n",
       "     video_nr date_imaged  fps  magnification mode  \\\n",
       "306         1               20             50   BF   \n",
       "62          1               20             50   BF   \n",
       "82          1               20             50   BF   \n",
       "16          1               20             50   BF   \n",
       "136         1               20             50   BF   \n",
       "..        ...         ...  ...            ...  ...   \n",
       "206        27               20             50   BF   \n",
       "227        28               20             50   BF   \n",
       "218        29               20             50   BF   \n",
       "221        30               20             50   BF   \n",
       "211        31               20             50   BF   \n",
       "\n",
       "                                         parent_folder  \\\n",
       "306  /gpfs/scratch1/shared/amftrackflow/Hannah_set/...   \n",
       "62   /gpfs/scratch1/shared/amftrackflow/Hannah_set/...   \n",
       "82   /gpfs/scratch1/shared/amftrackflow/Hannah_set/...   \n",
       "16   /gpfs/scratch1/shared/amftrackflow/Hannah_set/...   \n",
       "136  /gpfs/scratch1/shared/amftrackflow/Hannah_set/...   \n",
       "..                                                 ...   \n",
       "206  /gpfs/scratch1/shared/amftrackflow/Hannah_set/...   \n",
       "227  /gpfs/scratch1/shared/amftrackflow/Hannah_set/...   \n",
       "218  /gpfs/scratch1/shared/amftrackflow/Hannah_set/...   \n",
       "221  /gpfs/scratch1/shared/amftrackflow/Hannah_set/...   \n",
       "211  /gpfs/scratch1/shared/amftrackflow/Hannah_set/...   \n",
       "\n",
       "                                            data_table  \n",
       "306  /gpfs/scratch1/shared/amftrackflow/Hannah_set/...  \n",
       "62   /gpfs/scratch1/shared/amftrackflow/Hannah_set/...  \n",
       "82   /gpfs/scratch1/shared/amftrackflow/Hannah_set/...  \n",
       "16   /gpfs/scratch1/shared/amftrackflow/Hannah_set/...  \n",
       "136  /gpfs/scratch1/shared/amftrackflow/Hannah_set/...  \n",
       "..                                                 ...  \n",
       "206  /gpfs/scratch1/shared/amftrackflow/Hannah_set/...  \n",
       "227  /gpfs/scratch1/shared/amftrackflow/Hannah_set/...  \n",
       "218  /gpfs/scratch1/shared/amftrackflow/Hannah_set/...  \n",
       "221  /gpfs/scratch1/shared/amftrackflow/Hannah_set/...  \n",
       "211  /gpfs/scratch1/shared/amftrackflow/Hannah_set/...  \n",
       "\n",
       "[307 rows x 10 columns]"
      ]
     },
     "execution_count": 63,
     "metadata": {},
     "output_type": "execute_result"
    }
   ],
   "source": [
    "plate_list = glob(directory_targ + \"*_Plate*/*/\")\n",
    "datadict = {'address_total' : plate_list}\n",
    "dataframe = pd.DataFrame(data=datadict)\n",
    "\n",
    "# print(dataframe['address_total'][0])\n",
    "\n",
    "dataframe['video_name'] = [address[:-1].split('/')[-1] for address in dataframe['address_total']]\n",
    "dataframe['plate_nr'] = [re.split('_|/', address.split('_')[-1])[0][5:] for address in dataframe['address_total']]\n",
    "dataframe['video_nr'] = [int(re.split('_|/', address[:-1])[-1]) for address in dataframe['address_total']]\n",
    "dataframe['date_imaged'] = [address.split('/')[-1][:8] for address in dataframe['address_total']]\n",
    "\n",
    "parent_folder = []\n",
    "data_table = []\n",
    "magnification = []\n",
    "fps = []\n",
    "mode = []\n",
    "\n",
    "for row in dataframe.iloc:\n",
    "    print(row['address_total'])\n",
    "    parent_folder.append(str(Path(row['address_total']).parent))\n",
    "    excel_file = glob(str(Path(row['address_total']).parent) + f'/*{row[\"date_imaged\"]}*{row[\"plate_nr\"]}.xl*')\n",
    "    if len(excel_file) > 0:\n",
    "        data_table.append(excel_file[0])\n",
    "        excel_table = pd.read_excel(excel_file[0])\n",
    "#         print(row['video_name'])\n",
    "#         print(excel_table['Unnamed: 0'][21])\n",
    "#         print(excel_table[excel_table['Unnamed: 0'].str.contains(row['video_name'], case=False, na=False)]['Magnification'])\n",
    "        magnification.append(excel_table[excel_table['Unnamed: 0'].str.contains(row['video_name'], case=False, na=False)]['Magnification'].iloc[0])\n",
    "        fps.append(excel_table.loc[excel_table['Unnamed: 0'].str.contains(row['video_name'], case=False, na=False)]['FPS'].iloc[0])\n",
    "        mode.append(excel_table.loc[excel_table['Unnamed: 0'].str.contains(row['video_name'], case=False, na=False)]['Bright-field (BF)\\nor\\nFluorescence (F)'].iloc[0])\n",
    "        \n",
    "    else:\n",
    "        csv_file = glob(str(Path(row['address_total']).parent) + f'/{row[\"date_imaged\"]}*{row[\"plate_nr\"]}.csv')\n",
    "        if len(csv_file) > 0:\n",
    "            data_table.append(csv_file[0])\n",
    "            df_comma = pd.read_csv(csv_file[0], nrows=1,sep=\",\")\n",
    "            df_semi = pd.read_csv(csv_file[0], nrows=1, sep=\";\")\n",
    "            if df_comma.shape[1]>df_semi.shape[1]:\n",
    "                csv_table = pd.read_csv(csv_file[0], sep=\",\")\n",
    "            else:\n",
    "                csv_table = pd.read_csv(csv_file[0], sep=\";\")\n",
    "                \n",
    "#             print(csv_table['video'])\n",
    "#             print(row['video_name'])\n",
    "            magnification.append(csv_table[csv_table['video']==int(row['video_name'])]['Lens'].iloc[0])\n",
    "            fps.append(csv_table.loc[csv_table['video'] == int(row['video_name'].split(\"_\")[-1])]['fps'].iloc[0])\n",
    "            mode.append(csv_table.loc[csv_table['video'] == int(row['video_name'].split(\"_\")[-1])]['Illumination'].iloc[0])\n",
    "\n",
    "        else:\n",
    "            print(\"Halp! No datatable found! Pls add the excel file to the folders.\")\n",
    "\n",
    "dataframe['fps'] = fps\n",
    "dataframe['magnification'] = magnification\n",
    "dataframe['mode'] = mode\n",
    "dataframe['parent_folder'] = parent_folder\n",
    "dataframe['data_table'] = data_table\n",
    "\n",
    "dataframe = dataframe.sort_values(by='video_name')\n",
    "# dataframe = dataframe[dataframe['video_nr']== 5]\n",
    "# dataframe = dataframe[dataframe['date_imaged'] == '20221026']\n",
    "# print(len(dataframe))\n",
    "\n",
    "\n",
    "if dataframe.isnull().values.any():\n",
    "    print(\"Found NaNs in the excel files! Blame the experimentalists.\")\n",
    "    dataframe = dataframe.interpolate(method='pad', limit_direction='forward')\n",
    "if dataframe.isnull().values.any():\n",
    "    raise(\"This excel sheet is unworkable, please ask the responsible person\")\n",
    "dataframe"
   ]
  },
  {
   "cell_type": "code",
   "execution_count": 64,
   "id": "b0c49c23",
   "metadata": {},
   "outputs": [
    {
     "name": "stdout",
     "output_type": "stream",
     "text": [
      "/gpfs/scratch1/shared/amftrackflow/Hannah_set/1_week/\n",
      "/DATA/MYRISTATE/DATA/1_week/\n"
     ]
    }
   ],
   "source": [
    "# FINAL CHECK FOR SOURCE FOLDER AND UPLOAD FOLDER\n",
    "\n",
    "# Please make sure that the upload folder is correct, \n",
    "# as the program WILL overwrite that which is already there.\n",
    "print(directory_targ)\n",
    "print(upload_targ)"
   ]
  },
  {
   "cell_type": "code",
   "execution_count": 65,
   "id": "26548a30",
   "metadata": {
    "pycharm": {
     "name": "#%%\n"
    },
    "scrolled": true
   },
   "outputs": [
    {
     "name": "stdout",
     "output_type": "stream",
     "text": [
      "/home/svstaalduine/bash/job.sh\n",
      "Sending jobs with id 1686255568686840909\n",
      "307\n",
      "Submitted batch job 2879209\n"
     ]
    },
    {
     "name": "stderr",
     "output_type": "stream",
     "text": [
      "sbatch: Single-node jobs run on a shared node by default. Add --exclusive if you want to use a node exclusively.\n",
      "sbatch: A full node consists of 128 CPU cores, 229376 MiB of memory and 0 GPUs and can be shared by up to 4 jobs.\n",
      "sbatch: By default shared jobs get 1792 MiB of memory per CPU core, unless explicitly overridden with --mem-per-cpu, --mem-per-gpu or --mem.\n",
      "sbatch: You will be charged for 0.25 node, based on the number of CPUs, GPUs and the amount memory that you've requested.\n",
      "sbatch: Single-node jobs run on a shared node by default. Add --exclusive if you want to use a node exclusively.\n",
      "sbatch: A full node consists of 128 CPU cores, 229376 MiB of memory and 0 GPUs and can be shared by up to 4 jobs.\n",
      "sbatch: By default shared jobs get 1792 MiB of memory per CPU core, unless explicitly overridden with --mem-per-cpu, --mem-per-gpu or --mem.\n",
      "sbatch: You will be charged for 0.25 node, based on the number of CPUs, GPUs and the amount memory that you've requested.\n"
     ]
    },
    {
     "name": "stdout",
     "output_type": "stream",
     "text": [
      "Submitted batch job 2879210\n"
     ]
    },
    {
     "name": "stderr",
     "output_type": "stream",
     "text": [
      "sbatch: Single-node jobs run on a shared node by default. Add --exclusive if you want to use a node exclusively.\n",
      "sbatch: A full node consists of 128 CPU cores, 229376 MiB of memory and 0 GPUs and can be shared by up to 4 jobs.\n",
      "sbatch: By default shared jobs get 1792 MiB of memory per CPU core, unless explicitly overridden with --mem-per-cpu, --mem-per-gpu or --mem.\n",
      "sbatch: You will be charged for 0.25 node, based on the number of CPUs, GPUs and the amount memory that you've requested.\n"
     ]
    },
    {
     "name": "stdout",
     "output_type": "stream",
     "text": [
      "Submitted batch job 2879215\n"
     ]
    },
    {
     "name": "stderr",
     "output_type": "stream",
     "text": [
      "sbatch: Single-node jobs run on a shared node by default. Add --exclusive if you want to use a node exclusively.\n",
      "sbatch: A full node consists of 128 CPU cores, 229376 MiB of memory and 0 GPUs and can be shared by up to 4 jobs.\n",
      "sbatch: By default shared jobs get 1792 MiB of memory per CPU core, unless explicitly overridden with --mem-per-cpu, --mem-per-gpu or --mem.\n",
      "sbatch: You will be charged for 0.25 node, based on the number of CPUs, GPUs and the amount memory that you've requested.\n"
     ]
    },
    {
     "name": "stdout",
     "output_type": "stream",
     "text": [
      "Submitted batch job 2879216\n"
     ]
    },
    {
     "name": "stderr",
     "output_type": "stream",
     "text": [
      "sbatch: Single-node jobs run on a shared node by default. Add --exclusive if you want to use a node exclusively.\n",
      "sbatch: A full node consists of 128 CPU cores, 229376 MiB of memory and 0 GPUs and can be shared by up to 4 jobs.\n",
      "sbatch: By default shared jobs get 1792 MiB of memory per CPU core, unless explicitly overridden with --mem-per-cpu, --mem-per-gpu or --mem.\n",
      "sbatch: You will be charged for 0.25 node, based on the number of CPUs, GPUs and the amount memory that you've requested.\n"
     ]
    },
    {
     "name": "stdout",
     "output_type": "stream",
     "text": [
      "Submitted batch job 2879217\n",
      "Submitted batch job 2879218\n"
     ]
    },
    {
     "name": "stderr",
     "output_type": "stream",
     "text": [
      "sbatch: Single-node jobs run on a shared node by default. Add --exclusive if you want to use a node exclusively.\n",
      "sbatch: A full node consists of 128 CPU cores, 229376 MiB of memory and 0 GPUs and can be shared by up to 4 jobs.\n",
      "sbatch: By default shared jobs get 1792 MiB of memory per CPU core, unless explicitly overridden with --mem-per-cpu, --mem-per-gpu or --mem.\n",
      "sbatch: You will be charged for 0.25 node, based on the number of CPUs, GPUs and the amount memory that you've requested.\n",
      "sbatch: Single-node jobs run on a shared node by default. Add --exclusive if you want to use a node exclusively.\n",
      "sbatch: A full node consists of 128 CPU cores, 229376 MiB of memory and 0 GPUs and can be shared by up to 4 jobs.\n",
      "sbatch: By default shared jobs get 1792 MiB of memory per CPU core, unless explicitly overridden with --mem-per-cpu, --mem-per-gpu or --mem.\n",
      "sbatch: You will be charged for 0.25 node, based on the number of CPUs, GPUs and the amount memory that you've requested.\n"
     ]
    },
    {
     "name": "stdout",
     "output_type": "stream",
     "text": [
      "Submitted batch job 2879219\n"
     ]
    },
    {
     "name": "stderr",
     "output_type": "stream",
     "text": [
      "sbatch: Single-node jobs run on a shared node by default. Add --exclusive if you want to use a node exclusively.\n",
      "sbatch: A full node consists of 128 CPU cores, 229376 MiB of memory and 0 GPUs and can be shared by up to 4 jobs.\n",
      "sbatch: By default shared jobs get 1792 MiB of memory per CPU core, unless explicitly overridden with --mem-per-cpu, --mem-per-gpu or --mem.\n",
      "sbatch: You will be charged for 0.25 node, based on the number of CPUs, GPUs and the amount memory that you've requested.\n"
     ]
    },
    {
     "name": "stdout",
     "output_type": "stream",
     "text": [
      "Submitted batch job 2879220\n"
     ]
    },
    {
     "name": "stderr",
     "output_type": "stream",
     "text": [
      "sbatch: Single-node jobs run on a shared node by default. Add --exclusive if you want to use a node exclusively.\n",
      "sbatch: A full node consists of 128 CPU cores, 229376 MiB of memory and 0 GPUs and can be shared by up to 4 jobs.\n",
      "sbatch: By default shared jobs get 1792 MiB of memory per CPU core, unless explicitly overridden with --mem-per-cpu, --mem-per-gpu or --mem.\n",
      "sbatch: You will be charged for 0.25 node, based on the number of CPUs, GPUs and the amount memory that you've requested.\n"
     ]
    },
    {
     "name": "stdout",
     "output_type": "stream",
     "text": [
      "Submitted batch job 2879221\n"
     ]
    },
    {
     "name": "stderr",
     "output_type": "stream",
     "text": [
      "sbatch: Single-node jobs run on a shared node by default. Add --exclusive if you want to use a node exclusively.\n",
      "sbatch: A full node consists of 128 CPU cores, 229376 MiB of memory and 0 GPUs and can be shared by up to 4 jobs.\n",
      "sbatch: By default shared jobs get 1792 MiB of memory per CPU core, unless explicitly overridden with --mem-per-cpu, --mem-per-gpu or --mem.\n",
      "sbatch: You will be charged for 0.25 node, based on the number of CPUs, GPUs and the amount memory that you've requested.\n"
     ]
    },
    {
     "name": "stdout",
     "output_type": "stream",
     "text": [
      "Submitted batch job 2879222\n"
     ]
    },
    {
     "name": "stderr",
     "output_type": "stream",
     "text": [
      "sbatch: Single-node jobs run on a shared node by default. Add --exclusive if you want to use a node exclusively.\n",
      "sbatch: A full node consists of 128 CPU cores, 229376 MiB of memory and 0 GPUs and can be shared by up to 4 jobs.\n",
      "sbatch: By default shared jobs get 1792 MiB of memory per CPU core, unless explicitly overridden with --mem-per-cpu, --mem-per-gpu or --mem.\n",
      "sbatch: You will be charged for 0.25 node, based on the number of CPUs, GPUs and the amount memory that you've requested.\n"
     ]
    },
    {
     "name": "stdout",
     "output_type": "stream",
     "text": [
      "Submitted batch job 2879223\n"
     ]
    },
    {
     "name": "stderr",
     "output_type": "stream",
     "text": [
      "sbatch: Single-node jobs run on a shared node by default. Add --exclusive if you want to use a node exclusively.\n",
      "sbatch: A full node consists of 128 CPU cores, 229376 MiB of memory and 0 GPUs and can be shared by up to 4 jobs.\n",
      "sbatch: By default shared jobs get 1792 MiB of memory per CPU core, unless explicitly overridden with --mem-per-cpu, --mem-per-gpu or --mem.\n",
      "sbatch: You will be charged for 0.25 node, based on the number of CPUs, GPUs and the amount memory that you've requested.\n"
     ]
    },
    {
     "name": "stdout",
     "output_type": "stream",
     "text": [
      "Submitted batch job 2879224\n"
     ]
    },
    {
     "name": "stderr",
     "output_type": "stream",
     "text": [
      "sbatch: Single-node jobs run on a shared node by default. Add --exclusive if you want to use a node exclusively.\n",
      "sbatch: A full node consists of 128 CPU cores, 229376 MiB of memory and 0 GPUs and can be shared by up to 4 jobs.\n",
      "sbatch: By default shared jobs get 1792 MiB of memory per CPU core, unless explicitly overridden with --mem-per-cpu, --mem-per-gpu or --mem.\n",
      "sbatch: You will be charged for 0.25 node, based on the number of CPUs, GPUs and the amount memory that you've requested.\n"
     ]
    },
    {
     "name": "stdout",
     "output_type": "stream",
     "text": [
      "Submitted batch job 2879225\n",
      "Submitted batch job 2879226\n"
     ]
    },
    {
     "name": "stderr",
     "output_type": "stream",
     "text": [
      "sbatch: Single-node jobs run on a shared node by default. Add --exclusive if you want to use a node exclusively.\n",
      "sbatch: A full node consists of 128 CPU cores, 229376 MiB of memory and 0 GPUs and can be shared by up to 4 jobs.\n",
      "sbatch: By default shared jobs get 1792 MiB of memory per CPU core, unless explicitly overridden with --mem-per-cpu, --mem-per-gpu or --mem.\n",
      "sbatch: You will be charged for 0.25 node, based on the number of CPUs, GPUs and the amount memory that you've requested.\n",
      "sbatch: Single-node jobs run on a shared node by default. Add --exclusive if you want to use a node exclusively.\n",
      "sbatch: A full node consists of 128 CPU cores, 229376 MiB of memory and 0 GPUs and can be shared by up to 4 jobs.\n",
      "sbatch: By default shared jobs get 1792 MiB of memory per CPU core, unless explicitly overridden with --mem-per-cpu, --mem-per-gpu or --mem.\n",
      "sbatch: You will be charged for 0.25 node, based on the number of CPUs, GPUs and the amount memory that you've requested.\n"
     ]
    },
    {
     "name": "stdout",
     "output_type": "stream",
     "text": [
      "Submitted batch job 2879227\n"
     ]
    },
    {
     "name": "stderr",
     "output_type": "stream",
     "text": [
      "sbatch: Single-node jobs run on a shared node by default. Add --exclusive if you want to use a node exclusively.\n",
      "sbatch: A full node consists of 128 CPU cores, 229376 MiB of memory and 0 GPUs and can be shared by up to 4 jobs.\n",
      "sbatch: By default shared jobs get 1792 MiB of memory per CPU core, unless explicitly overridden with --mem-per-cpu, --mem-per-gpu or --mem.\n",
      "sbatch: You will be charged for 0.25 node, based on the number of CPUs, GPUs and the amount memory that you've requested.\n"
     ]
    },
    {
     "name": "stdout",
     "output_type": "stream",
     "text": [
      "Submitted batch job 2879228\n"
     ]
    },
    {
     "name": "stderr",
     "output_type": "stream",
     "text": [
      "sbatch: Single-node jobs run on a shared node by default. Add --exclusive if you want to use a node exclusively.\n",
      "sbatch: A full node consists of 128 CPU cores, 229376 MiB of memory and 0 GPUs and can be shared by up to 4 jobs.\n",
      "sbatch: By default shared jobs get 1792 MiB of memory per CPU core, unless explicitly overridden with --mem-per-cpu, --mem-per-gpu or --mem.\n",
      "sbatch: You will be charged for 0.25 node, based on the number of CPUs, GPUs and the amount memory that you've requested.\n"
     ]
    },
    {
     "name": "stdout",
     "output_type": "stream",
     "text": [
      "Submitted batch job 2879229\n"
     ]
    },
    {
     "name": "stderr",
     "output_type": "stream",
     "text": [
      "sbatch: Single-node jobs run on a shared node by default. Add --exclusive if you want to use a node exclusively.\n",
      "sbatch: A full node consists of 128 CPU cores, 229376 MiB of memory and 0 GPUs and can be shared by up to 4 jobs.\n",
      "sbatch: By default shared jobs get 1792 MiB of memory per CPU core, unless explicitly overridden with --mem-per-cpu, --mem-per-gpu or --mem.\n",
      "sbatch: You will be charged for 0.25 node, based on the number of CPUs, GPUs and the amount memory that you've requested.\n"
     ]
    },
    {
     "name": "stdout",
     "output_type": "stream",
     "text": [
      "Submitted batch job 2879230\n"
     ]
    },
    {
     "name": "stderr",
     "output_type": "stream",
     "text": [
      "sbatch: Single-node jobs run on a shared node by default. Add --exclusive if you want to use a node exclusively.\n",
      "sbatch: A full node consists of 128 CPU cores, 229376 MiB of memory and 0 GPUs and can be shared by up to 4 jobs.\n",
      "sbatch: By default shared jobs get 1792 MiB of memory per CPU core, unless explicitly overridden with --mem-per-cpu, --mem-per-gpu or --mem.\n",
      "sbatch: You will be charged for 0.25 node, based on the number of CPUs, GPUs and the amount memory that you've requested.\n"
     ]
    },
    {
     "name": "stdout",
     "output_type": "stream",
     "text": [
      "Submitted batch job 2879231\n"
     ]
    }
   ],
   "source": [
    "nr_parallel = np.min([len(dataframe.index), 16])\n",
    "\n",
    "run_parallel(\n",
    "    \"flux_extract.py\",\n",
    "    [directory_targ, 15, 0.95, 0.001, 60, upload_targ],\n",
    "    dataframe,\n",
    "    nr_parallel,\n",
    "    \"1:00:00\",\n",
    "    \"flux_extract\"\n",
    ")"
   ]
  },
  {
   "cell_type": "code",
   "execution_count": null,
   "id": "51cb59f7",
   "metadata": {
    "pycharm": {
     "name": "#%%\n"
    }
   },
   "outputs": [],
   "source": []
  }
 ],
 "metadata": {
  "kernelspec": {
   "display_name": "Python 3 (ipykernel)",
   "language": "python",
   "name": "python3"
  },
  "language_info": {
   "codemirror_mode": {
    "name": "ipython",
    "version": 3
   },
   "file_extension": ".py",
   "mimetype": "text/x-python",
   "name": "python",
   "nbconvert_exporter": "python",
   "pygments_lexer": "ipython3",
   "version": "3.9.5"
  }
 },
 "nbformat": 4,
 "nbformat_minor": 5
}

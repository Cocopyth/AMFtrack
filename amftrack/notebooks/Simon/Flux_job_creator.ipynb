{
 "cells": [
  {
   "cell_type": "code",
   "execution_count": 11,
   "id": "118935f1",
   "metadata": {
    "pycharm": {
     "name": "#%%\n"
    }
   },
   "outputs": [
    {
     "name": "stdout",
     "output_type": "stream",
     "text": [
      "The autoreload extension is already loaded. To reload it, use:\n",
      "  %reload_ext autoreload\n"
     ]
    }
   ],
   "source": [
    "from amftrack.pipeline.development.high_mag_videos.kymo_class import *\n",
    "import os\n",
    "import pandas as pd\n",
    "import imageio.v2 as imageio\n",
    "import matplotlib.pyplot as plt\n",
    "import cv2\n",
    "from glob import glob\n",
    "from tqdm import tqdm\n",
    "%matplotlib widget\n",
    "%load_ext autoreload\n",
    "%autoreload 2\n",
    "from amftrack.pipeline.functions.image_processing.extract_graph import (\n",
    "    from_sparse_to_graph,\n",
    "    generate_nx_graph,\n",
    "    clean_degree_4,\n",
    ")\n",
    "import scipy\n",
    "from pathlib import Path\n",
    "from amftrack.pipeline.launching.run_super import run_parallel\n",
    "\n"
   ]
  },
  {
   "cell_type": "code",
   "execution_count": 58,
   "id": "7e988655",
   "metadata": {
    "pycharm": {
     "name": "#%%\n"
    }
   },
   "outputs": [],
   "source": [
    "directory_targ = \"/gpfs/scratch1/shared/amftrackflow/Drp_downs/20230123_Plate530/\"\n",
    "upload_targ = \"/DATA/FLUORESCENCE/DATA_NileRed/20230123_Plate530/Analysis/\""
   ]
  },
  {
   "cell_type": "code",
   "execution_count": 59,
   "id": "836dd4d0",
   "metadata": {},
   "outputs": [
    {
     "name": "stdout",
     "output_type": "stream",
     "text": [
      "/gpfs/scratch1/shared/amftrackflow/Drp_downs/20230123_Plate530/20230123_Plate530_002\n"
     ]
    }
   ],
   "source": [
    "test_name = glob(directory_targ + '*')[0]\n",
    "imgs_address = test_name\n",
    "print(test_name)"
   ]
  },
  {
   "cell_type": "code",
   "execution_count": 60,
   "id": "7e1ba1fb",
   "metadata": {
    "pycharm": {
     "name": "#%%\n"
    },
    "scrolled": false
   },
   "outputs": [
    {
     "data": {
      "text/html": [
       "<div>\n",
       "<style scoped>\n",
       "    .dataframe tbody tr th:only-of-type {\n",
       "        vertical-align: middle;\n",
       "    }\n",
       "\n",
       "    .dataframe tbody tr th {\n",
       "        vertical-align: top;\n",
       "    }\n",
       "\n",
       "    .dataframe thead th {\n",
       "        text-align: right;\n",
       "    }\n",
       "</style>\n",
       "<table border=\"1\" class=\"dataframe\">\n",
       "  <thead>\n",
       "    <tr style=\"text-align: right;\">\n",
       "      <th></th>\n",
       "      <th>address_total</th>\n",
       "      <th>video_name</th>\n",
       "      <th>plate_nr</th>\n",
       "      <th>video_nr</th>\n",
       "      <th>date_imaged</th>\n",
       "      <th>fps</th>\n",
       "      <th>magnification</th>\n",
       "      <th>mode</th>\n",
       "      <th>parent_folder</th>\n",
       "      <th>data_table</th>\n",
       "    </tr>\n",
       "  </thead>\n",
       "  <tbody>\n",
       "    <tr>\n",
       "      <th>2</th>\n",
       "      <td>/gpfs/scratch1/shared/amftrackflow/Drp_downs/2...</td>\n",
       "      <td>20230123_Plate530_001</td>\n",
       "      <td>530</td>\n",
       "      <td>1</td>\n",
       "      <td>20230123</td>\n",
       "      <td>10.0</td>\n",
       "      <td>4.0</td>\n",
       "      <td>F</td>\n",
       "      <td>/gpfs/scratch1/shared/amftrackflow/Drp_downs/2...</td>\n",
       "      <td>/gpfs/scratch1/shared/amftrackflow/Drp_downs/2...</td>\n",
       "    </tr>\n",
       "    <tr>\n",
       "      <th>0</th>\n",
       "      <td>/gpfs/scratch1/shared/amftrackflow/Drp_downs/2...</td>\n",
       "      <td>20230123_Plate530_002</td>\n",
       "      <td>530</td>\n",
       "      <td>2</td>\n",
       "      <td>20230123</td>\n",
       "      <td>20.0</td>\n",
       "      <td>50.0</td>\n",
       "      <td>BF</td>\n",
       "      <td>/gpfs/scratch1/shared/amftrackflow/Drp_downs/2...</td>\n",
       "      <td>/gpfs/scratch1/shared/amftrackflow/Drp_downs/2...</td>\n",
       "    </tr>\n",
       "    <tr>\n",
       "      <th>95</th>\n",
       "      <td>/gpfs/scratch1/shared/amftrackflow/Drp_downs/2...</td>\n",
       "      <td>20230123_Plate530_003</td>\n",
       "      <td>530</td>\n",
       "      <td>3</td>\n",
       "      <td>20230123</td>\n",
       "      <td>20.0</td>\n",
       "      <td>50.0</td>\n",
       "      <td>F</td>\n",
       "      <td>/gpfs/scratch1/shared/amftrackflow/Drp_downs/2...</td>\n",
       "      <td>/gpfs/scratch1/shared/amftrackflow/Drp_downs/2...</td>\n",
       "    </tr>\n",
       "    <tr>\n",
       "      <th>70</th>\n",
       "      <td>/gpfs/scratch1/shared/amftrackflow/Drp_downs/2...</td>\n",
       "      <td>20230123_Plate530_004</td>\n",
       "      <td>530</td>\n",
       "      <td>4</td>\n",
       "      <td>20230123</td>\n",
       "      <td>20.0</td>\n",
       "      <td>50.0</td>\n",
       "      <td>BF</td>\n",
       "      <td>/gpfs/scratch1/shared/amftrackflow/Drp_downs/2...</td>\n",
       "      <td>/gpfs/scratch1/shared/amftrackflow/Drp_downs/2...</td>\n",
       "    </tr>\n",
       "    <tr>\n",
       "      <th>3</th>\n",
       "      <td>/gpfs/scratch1/shared/amftrackflow/Drp_downs/2...</td>\n",
       "      <td>20230123_Plate530_005</td>\n",
       "      <td>530</td>\n",
       "      <td>5</td>\n",
       "      <td>20230123</td>\n",
       "      <td>20.0</td>\n",
       "      <td>50.0</td>\n",
       "      <td>F</td>\n",
       "      <td>/gpfs/scratch1/shared/amftrackflow/Drp_downs/2...</td>\n",
       "      <td>/gpfs/scratch1/shared/amftrackflow/Drp_downs/2...</td>\n",
       "    </tr>\n",
       "    <tr>\n",
       "      <th>...</th>\n",
       "      <td>...</td>\n",
       "      <td>...</td>\n",
       "      <td>...</td>\n",
       "      <td>...</td>\n",
       "      <td>...</td>\n",
       "      <td>...</td>\n",
       "      <td>...</td>\n",
       "      <td>...</td>\n",
       "      <td>...</td>\n",
       "      <td>...</td>\n",
       "    </tr>\n",
       "    <tr>\n",
       "      <th>12</th>\n",
       "      <td>/gpfs/scratch1/shared/amftrackflow/Drp_downs/2...</td>\n",
       "      <td>20230123_Plate530_097</td>\n",
       "      <td>530</td>\n",
       "      <td>97</td>\n",
       "      <td>20230123</td>\n",
       "      <td>20.0</td>\n",
       "      <td>50.0</td>\n",
       "      <td>F</td>\n",
       "      <td>/gpfs/scratch1/shared/amftrackflow/Drp_downs/2...</td>\n",
       "      <td>/gpfs/scratch1/shared/amftrackflow/Drp_downs/2...</td>\n",
       "    </tr>\n",
       "    <tr>\n",
       "      <th>21</th>\n",
       "      <td>/gpfs/scratch1/shared/amftrackflow/Drp_downs/2...</td>\n",
       "      <td>20230123_Plate530_098</td>\n",
       "      <td>530</td>\n",
       "      <td>98</td>\n",
       "      <td>20230123</td>\n",
       "      <td>20.0</td>\n",
       "      <td>50.0</td>\n",
       "      <td>F</td>\n",
       "      <td>/gpfs/scratch1/shared/amftrackflow/Drp_downs/2...</td>\n",
       "      <td>/gpfs/scratch1/shared/amftrackflow/Drp_downs/2...</td>\n",
       "    </tr>\n",
       "    <tr>\n",
       "      <th>72</th>\n",
       "      <td>/gpfs/scratch1/shared/amftrackflow/Drp_downs/2...</td>\n",
       "      <td>20230123_Plate530_099</td>\n",
       "      <td>530</td>\n",
       "      <td>99</td>\n",
       "      <td>20230123</td>\n",
       "      <td>20.0</td>\n",
       "      <td>50.0</td>\n",
       "      <td>BF</td>\n",
       "      <td>/gpfs/scratch1/shared/amftrackflow/Drp_downs/2...</td>\n",
       "      <td>/gpfs/scratch1/shared/amftrackflow/Drp_downs/2...</td>\n",
       "    </tr>\n",
       "    <tr>\n",
       "      <th>23</th>\n",
       "      <td>/gpfs/scratch1/shared/amftrackflow/Drp_downs/2...</td>\n",
       "      <td>20230123_Plate530_100</td>\n",
       "      <td>530</td>\n",
       "      <td>100</td>\n",
       "      <td>20230123</td>\n",
       "      <td>20.0</td>\n",
       "      <td>50.0</td>\n",
       "      <td>F</td>\n",
       "      <td>/gpfs/scratch1/shared/amftrackflow/Drp_downs/2...</td>\n",
       "      <td>/gpfs/scratch1/shared/amftrackflow/Drp_downs/2...</td>\n",
       "    </tr>\n",
       "    <tr>\n",
       "      <th>83</th>\n",
       "      <td>/gpfs/scratch1/shared/amftrackflow/Drp_downs/2...</td>\n",
       "      <td>20230123_Plate530_101</td>\n",
       "      <td>530</td>\n",
       "      <td>101</td>\n",
       "      <td>20230123</td>\n",
       "      <td>20.0</td>\n",
       "      <td>50.0</td>\n",
       "      <td>F</td>\n",
       "      <td>/gpfs/scratch1/shared/amftrackflow/Drp_downs/2...</td>\n",
       "      <td>/gpfs/scratch1/shared/amftrackflow/Drp_downs/2...</td>\n",
       "    </tr>\n",
       "  </tbody>\n",
       "</table>\n",
       "<p>101 rows × 10 columns</p>\n",
       "</div>"
      ],
      "text/plain": [
       "                                        address_total             video_name  \\\n",
       "2   /gpfs/scratch1/shared/amftrackflow/Drp_downs/2...  20230123_Plate530_001   \n",
       "0   /gpfs/scratch1/shared/amftrackflow/Drp_downs/2...  20230123_Plate530_002   \n",
       "95  /gpfs/scratch1/shared/amftrackflow/Drp_downs/2...  20230123_Plate530_003   \n",
       "70  /gpfs/scratch1/shared/amftrackflow/Drp_downs/2...  20230123_Plate530_004   \n",
       "3   /gpfs/scratch1/shared/amftrackflow/Drp_downs/2...  20230123_Plate530_005   \n",
       "..                                                ...                    ...   \n",
       "12  /gpfs/scratch1/shared/amftrackflow/Drp_downs/2...  20230123_Plate530_097   \n",
       "21  /gpfs/scratch1/shared/amftrackflow/Drp_downs/2...  20230123_Plate530_098   \n",
       "72  /gpfs/scratch1/shared/amftrackflow/Drp_downs/2...  20230123_Plate530_099   \n",
       "23  /gpfs/scratch1/shared/amftrackflow/Drp_downs/2...  20230123_Plate530_100   \n",
       "83  /gpfs/scratch1/shared/amftrackflow/Drp_downs/2...  20230123_Plate530_101   \n",
       "\n",
       "   plate_nr  video_nr date_imaged   fps  magnification mode  \\\n",
       "2       530         1    20230123  10.0            4.0    F   \n",
       "0       530         2    20230123  20.0           50.0   BF   \n",
       "95      530         3    20230123  20.0           50.0    F   \n",
       "70      530         4    20230123  20.0           50.0   BF   \n",
       "3       530         5    20230123  20.0           50.0    F   \n",
       "..      ...       ...         ...   ...            ...  ...   \n",
       "12      530        97    20230123  20.0           50.0    F   \n",
       "21      530        98    20230123  20.0           50.0    F   \n",
       "72      530        99    20230123  20.0           50.0   BF   \n",
       "23      530       100    20230123  20.0           50.0    F   \n",
       "83      530       101    20230123  20.0           50.0    F   \n",
       "\n",
       "                                        parent_folder  \\\n",
       "2   /gpfs/scratch1/shared/amftrackflow/Drp_downs/2...   \n",
       "0   /gpfs/scratch1/shared/amftrackflow/Drp_downs/2...   \n",
       "95  /gpfs/scratch1/shared/amftrackflow/Drp_downs/2...   \n",
       "70  /gpfs/scratch1/shared/amftrackflow/Drp_downs/2...   \n",
       "3   /gpfs/scratch1/shared/amftrackflow/Drp_downs/2...   \n",
       "..                                                ...   \n",
       "12  /gpfs/scratch1/shared/amftrackflow/Drp_downs/2...   \n",
       "21  /gpfs/scratch1/shared/amftrackflow/Drp_downs/2...   \n",
       "72  /gpfs/scratch1/shared/amftrackflow/Drp_downs/2...   \n",
       "23  /gpfs/scratch1/shared/amftrackflow/Drp_downs/2...   \n",
       "83  /gpfs/scratch1/shared/amftrackflow/Drp_downs/2...   \n",
       "\n",
       "                                           data_table  \n",
       "2   /gpfs/scratch1/shared/amftrackflow/Drp_downs/2...  \n",
       "0   /gpfs/scratch1/shared/amftrackflow/Drp_downs/2...  \n",
       "95  /gpfs/scratch1/shared/amftrackflow/Drp_downs/2...  \n",
       "70  /gpfs/scratch1/shared/amftrackflow/Drp_downs/2...  \n",
       "3   /gpfs/scratch1/shared/amftrackflow/Drp_downs/2...  \n",
       "..                                                ...  \n",
       "12  /gpfs/scratch1/shared/amftrackflow/Drp_downs/2...  \n",
       "21  /gpfs/scratch1/shared/amftrackflow/Drp_downs/2...  \n",
       "72  /gpfs/scratch1/shared/amftrackflow/Drp_downs/2...  \n",
       "23  /gpfs/scratch1/shared/amftrackflow/Drp_downs/2...  \n",
       "83  /gpfs/scratch1/shared/amftrackflow/Drp_downs/2...  \n",
       "\n",
       "[101 rows x 10 columns]"
      ]
     },
     "execution_count": 60,
     "metadata": {},
     "output_type": "execute_result"
    }
   ],
   "source": [
    "\n",
    "plate_list = glob(directory_targ + \"*_Plate*_*\")\n",
    "datadict = {'address_total' : plate_list}\n",
    "dataframe = pd.DataFrame(data=datadict)\n",
    "dataframe['video_name'] = [address.split('/')[-1] for address in dataframe['address_total']]\n",
    "dataframe['plate_nr'] = [address.split('/')[-1].split('_')[-2][5:] for address in dataframe['address_total']]\n",
    "dataframe['video_nr'] = [int(address.split('/')[-1].split('_')[-1]) for address in dataframe['address_total']]\n",
    "dataframe['date_imaged'] = [address.split('/')[-1][:8] for address in dataframe['address_total']]\n",
    "\n",
    "parent_folder = []\n",
    "data_table = []\n",
    "magnification = []\n",
    "fps = []\n",
    "mode = []\n",
    "\n",
    "for row in dataframe.iloc:\n",
    "#     print(row)\n",
    "    parent_folder.append(str(Path(row['address_total']).parent))\n",
    "    excel_file = glob(str(Path(row['address_total']).parent) + f'/*{row[\"date_imaged\"]}*{row[\"plate_nr\"]}.xl*')\n",
    "    if len(excel_file) > 0:\n",
    "        data_table.append(excel_file[0])\n",
    "        excel_table = pd.read_excel(excel_file[0])\n",
    "#         print(row['video_name'])\n",
    "#         print(excel_table['Unnamed: 0'][21])\n",
    "#         print(excel_table[excel_table['Unnamed: 0'].str.contains(row['video_name'], case=False, na=False)]['Magnification'])\n",
    "        magnification.append(excel_table[excel_table['Unnamed: 0'].str.contains(row['video_name'], case=False, na=False)]['Magnification'].iloc[0])\n",
    "        fps.append(excel_table.loc[excel_table['Unnamed: 0'].str.contains(row['video_name'], case=False, na=False)]['FPS'].iloc[0])\n",
    "        mode.append(excel_table.loc[excel_table['Unnamed: 0'].str.contains(row['video_name'], case=False, na=False)]['Bright-field (BF)\\nor\\nFluorescence (F)'].iloc[0])\n",
    "        \n",
    "    else:\n",
    "        csv_file = glob(str(Path(row['address_total']).parent) + f'/{row[\"date_imaged\"]}*{row[\"plate_nr\"]}.csv')\n",
    "        if len(csv_file) > 0:\n",
    "            data_table.append(csv_file[0])\n",
    "            df_comma = pd.read_csv(csv_file[0], nrows=1,sep=\",\")\n",
    "            df_semi = pd.read_csv(csv_file[0], nrows=1, sep=\";\")\n",
    "            if df_comma.shape[1]>df_semi.shape[1]:\n",
    "                csv_table = pd.read_csv(csv_file[0], sep=\",\")\n",
    "            else:\n",
    "                csv_table = pd.read_csv(csv_file[0], sep=\";\")\n",
    "            magnification.append(csv_table[csv_table['video']==int(row['video_name'].split(\"_\")[-1])]['Lens'].iloc[0])\n",
    "            fps.append(csv_table.loc[csv_table['video'] == int(row['video_name'].split(\"_\")[-1])]['fps'].iloc[0])\n",
    "            mode.append(csv_table.loc[csv_table['video'] == int(row['video_name'].split(\"_\")[-1])]['Illumination'].iloc[0])\n",
    "\n",
    "        else:\n",
    "            print(\"Halp! No datatable found! Pls add the excel file to the folders.\")\n",
    "\n",
    "dataframe['fps'] = fps\n",
    "dataframe['magnification'] = magnification\n",
    "dataframe['mode'] = mode\n",
    "dataframe['parent_folder'] = parent_folder\n",
    "dataframe['data_table'] = data_table\n",
    "\n",
    "dataframe = dataframe.sort_values(by='video_name')\n",
    "# dataframe = dataframe[dataframe['video_nr']== 5]\n",
    "# dataframe = dataframe[dataframe['date_imaged'] == '20221026']\n",
    "# print(len(dataframe))\n",
    "\n",
    "\n",
    "if dataframe.isnull().values.any():\n",
    "    print(\"Found NaNs in the excel files! Blame the experimentalists.\")\n",
    "    dataframe = dataframe.interpolate(method='pad', limit_direction='forward')\n",
    "if dataframe.isnull().values.any():\n",
    "    raise(\"This excel sheet is unworkable, please ask the responisble person\")\n",
    "dataframe"
   ]
  },
  {
   "cell_type": "code",
   "execution_count": 61,
   "id": "b0c49c23",
   "metadata": {},
   "outputs": [
    {
     "name": "stdout",
     "output_type": "stream",
     "text": [
      "/gpfs/scratch1/shared/amftrackflow/Drp_downs/20230123_Plate530/\n",
      "/DATA/FLUORESCENCE/DATA_NileRed/20230123_Plate530/Analysis/\n"
     ]
    }
   ],
   "source": [
    "# FINAL CHECK FOR SOURCE FOLDER AND UPLOAD FOLDER\n",
    "\n",
    "# Please make sure that the upload folder is correct, \n",
    "# as the program WILL overwrite that which is already there.\n",
    "print(directory_targ)\n",
    "print(upload_targ)"
   ]
  },
  {
   "cell_type": "code",
   "execution_count": 62,
   "id": "26548a30",
   "metadata": {
    "pycharm": {
     "name": "#%%\n"
    },
    "scrolled": false
   },
   "outputs": [
    {
     "name": "stdout",
     "output_type": "stream",
     "text": [
      "/home/svstaalduine/bash/job.sh\n",
      "Sending jobs with id 1685023637507765840\n",
      "101\n",
      "Submitted batch job 2799546\n"
     ]
    },
    {
     "name": "stderr",
     "output_type": "stream",
     "text": [
      "sbatch: Single-node jobs run on a shared node by default. Add --exclusive if you want to use a node exclusively.\n",
      "sbatch: A full node consists of 128 CPU cores, 229376 MiB of memory and 0 GPUs and can be shared by up to 4 jobs.\n",
      "sbatch: By default shared jobs get 1792 MiB of memory per CPU core, unless explicitly overridden with --mem-per-cpu, --mem-per-gpu or --mem.\n",
      "sbatch: You will be charged for 0.25 node, based on the number of CPUs, GPUs and the amount memory that you've requested.\n",
      "sbatch: Single-node jobs run on a shared node by default. Add --exclusive if you want to use a node exclusively.\n",
      "sbatch: A full node consists of 128 CPU cores, 229376 MiB of memory and 0 GPUs and can be shared by up to 4 jobs.\n",
      "sbatch: By default shared jobs get 1792 MiB of memory per CPU core, unless explicitly overridden with --mem-per-cpu, --mem-per-gpu or --mem.\n",
      "sbatch: You will be charged for 0.25 node, based on the number of CPUs, GPUs and the amount memory that you've requested.\n"
     ]
    },
    {
     "name": "stdout",
     "output_type": "stream",
     "text": [
      "Submitted batch job 2799547\n"
     ]
    },
    {
     "name": "stderr",
     "output_type": "stream",
     "text": [
      "sbatch: Single-node jobs run on a shared node by default. Add --exclusive if you want to use a node exclusively.\n",
      "sbatch: A full node consists of 128 CPU cores, 229376 MiB of memory and 0 GPUs and can be shared by up to 4 jobs.\n",
      "sbatch: By default shared jobs get 1792 MiB of memory per CPU core, unless explicitly overridden with --mem-per-cpu, --mem-per-gpu or --mem.\n",
      "sbatch: You will be charged for 0.25 node, based on the number of CPUs, GPUs and the amount memory that you've requested.\n"
     ]
    },
    {
     "name": "stdout",
     "output_type": "stream",
     "text": [
      "Submitted batch job 2799548\n"
     ]
    },
    {
     "name": "stderr",
     "output_type": "stream",
     "text": [
      "sbatch: Single-node jobs run on a shared node by default. Add --exclusive if you want to use a node exclusively.\n",
      "sbatch: A full node consists of 128 CPU cores, 229376 MiB of memory and 0 GPUs and can be shared by up to 4 jobs.\n",
      "sbatch: By default shared jobs get 1792 MiB of memory per CPU core, unless explicitly overridden with --mem-per-cpu, --mem-per-gpu or --mem.\n",
      "sbatch: You will be charged for 0.25 node, based on the number of CPUs, GPUs and the amount memory that you've requested.\n"
     ]
    },
    {
     "name": "stdout",
     "output_type": "stream",
     "text": [
      "Submitted batch job 2799549\n"
     ]
    },
    {
     "name": "stderr",
     "output_type": "stream",
     "text": [
      "sbatch: Single-node jobs run on a shared node by default. Add --exclusive if you want to use a node exclusively.\n",
      "sbatch: A full node consists of 128 CPU cores, 229376 MiB of memory and 0 GPUs and can be shared by up to 4 jobs.\n",
      "sbatch: By default shared jobs get 1792 MiB of memory per CPU core, unless explicitly overridden with --mem-per-cpu, --mem-per-gpu or --mem.\n",
      "sbatch: You will be charged for 0.25 node, based on the number of CPUs, GPUs and the amount memory that you've requested.\n"
     ]
    },
    {
     "name": "stdout",
     "output_type": "stream",
     "text": [
      "Submitted batch job 2799550\n"
     ]
    },
    {
     "name": "stderr",
     "output_type": "stream",
     "text": [
      "sbatch: Single-node jobs run on a shared node by default. Add --exclusive if you want to use a node exclusively.\n",
      "sbatch: A full node consists of 128 CPU cores, 229376 MiB of memory and 0 GPUs and can be shared by up to 4 jobs.\n",
      "sbatch: By default shared jobs get 1792 MiB of memory per CPU core, unless explicitly overridden with --mem-per-cpu, --mem-per-gpu or --mem.\n",
      "sbatch: You will be charged for 0.25 node, based on the number of CPUs, GPUs and the amount memory that you've requested.\n"
     ]
    },
    {
     "name": "stdout",
     "output_type": "stream",
     "text": [
      "Submitted batch job 2799551\n"
     ]
    }
   ],
   "source": [
    "nr_parallel = np.min([len(dataframe.index), 16])\n",
    "\n",
    "run_parallel(\n",
    "    \"flux_extract.py\",\n",
    "    [directory_targ, 15, 0.95, 0.001, 50, upload_targ],\n",
    "    dataframe,\n",
    "    nr_parallel,\n",
    "    \"1:00:00\",\n",
    "    \"flux_extract\"\n",
    ")"
   ]
  },
  {
   "cell_type": "code",
   "execution_count": null,
   "id": "51cb59f7",
   "metadata": {
    "pycharm": {
     "name": "#%%\n"
    }
   },
   "outputs": [],
   "source": []
  }
 ],
 "metadata": {
  "kernelspec": {
   "display_name": "Python 3 (ipykernel)",
   "language": "python",
   "name": "python3"
  },
  "language_info": {
   "codemirror_mode": {
    "name": "ipython",
    "version": 3
   },
   "file_extension": ".py",
   "mimetype": "text/x-python",
   "name": "python",
   "nbconvert_exporter": "python",
   "pygments_lexer": "ipython3",
   "version": "3.9.5"
  }
 },
 "nbformat": 4,
 "nbformat_minor": 5
}

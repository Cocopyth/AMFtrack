{
 "cells": [
  {
   "cell_type": "code",
   "execution_count": 1,
   "metadata": {},
   "outputs": [
    {
     "name": "stderr",
     "output_type": "stream",
     "text": [
      "/gpfs/home6/svstaalduine/AMF_project/amftrack/util/dbx.py:3: TqdmExperimentalWarning: Using `tqdm.autonotebook.tqdm` in notebook mode. Use `tqdm.tqdm` instead to force console mode (e.g. in jupyter console)\n",
      "  from tqdm.autonotebook import tqdm\n"
     ]
    }
   ],
   "source": [
    "import sys\n",
    "import os\n",
    "from amftrack.util.sys import (\n",
    "    get_video_info,\n",
    "    get_current_folders,\n",
    ")\n",
    "import pandas as pd\n",
    "\n",
    "from amftrack.pipeline.launching.run_super import run_parallel, run_launcher\n",
    "from time import time_ns\n",
    "\n",
    "directory_targ = \"/gpfs/home6/svstaalduine/dummy_plates/462_20221013/\"\n",
    "suffix_data_info = time_ns()\n",
    "videos= [\"20221109_fl_04\"]\n",
    "# videos= [\n",
    "#     \"20230206_br_05\",\n",
    "#     \"20230206_br_01\",\n",
    "#     \"20230206_br_04\",\n",
    "#     \"20230206_br_02\",\n",
    "# ]\n",
    "# plates= [\"462_20221013\"]\n",
    "# plates = [\"40_20220920\"]\n",
    "name_job=\"TEST\""
   ]
  },
  {
   "cell_type": "code",
   "execution_count": 2,
   "metadata": {
    "pycharm": {
     "name": "#%%\n"
    }
   },
   "outputs": [
    {
     "data": {
      "application/vnd.jupyter.widget-view+json": {
       "model_id": "11e7c2152d174375a3b5c3edd761a19b",
       "version_major": 2,
       "version_minor": 0
      },
      "text/plain": [
       "analysed:   0%|          | 0/4 [00:00<?, ?it/s]"
      ]
     },
     "metadata": {},
     "output_type": "display_data"
    },
    {
     "name": "stdout",
     "output_type": "stream",
     "text": [
      "['20221109_fl_04']\n",
      "['1%P100&N']\n",
      "['C2']\n",
      "['27 days']\n",
      "[25.0]\n",
      "[46860]\n",
      "[40520]\n",
      "[3.0]\n",
      "[3.0]\n",
      "['F']\n",
      "['Y']\n",
      "[50.0]\n",
      "[20.0]\n",
      "[30.0]\n",
      "['Set 1\\nBig blobs. Good signal, oscillations. Examples of condensate particles \\ndeforming']\n"
     ]
    }
   ],
   "source": [
    "get_video_info(directory_targ, local=True, suffix_data_info=suffix_data_info)"
   ]
  },
  {
   "cell_type": "code",
   "execution_count": 3,
   "metadata": {
    "pycharm": {
     "name": "#%%\n"
    }
   },
   "outputs": [
    {
     "name": "stdout",
     "output_type": "stream",
     "text": [
      "/gpfs/home6/svstaalduine/dummy_plates/462_20221013/20221109_fl_04\n",
      "/gpfs/home6/svstaalduine/dummy_plates/462_20221013/20221109_fl_04\n",
      "0    20221109_fl_04\n",
      "Name: folder, dtype: object\n",
      "                                                          total_path Binned (Y/N) Bright-field (BF)\\nor\\nFluorescence (F)                                                                                   Comments CrossDate   FPS Growing temperature Magnification Plate Position mm Strain Time after crossing Treatment      Unnamed: 0 Unnamed: 6 Video Length (s)                date dcenter mm droot mm          folder type     unique_id            datetime\n",
      "0  /gpfs/home6/svstaalduine/dummy_plates/462_20221013/20221109_fl_04            Y                                       F  Set 1\\nBig blobs. Good signal, oscillations. Examples of condensate particles \\ndeforming  20221013  20.0                25.0          50.0   462       46860     C2             27 days  1%P100&N  20221109_fl_04      40520             30.0  09.11.2022, 09:45:        3.0      3.0  20221109_fl_04   fl  462_20221013 2022-11-09 09:45:00\n"
     ]
    }
   ],
   "source": [
    "all_folders = get_current_folders(\n",
    "    directory_targ, local=True, suffix_data_info=suffix_data_info\n",
    ")\n",
    "# print(all_folders.to_string())\n",
    "folders = all_folders.loc[all_folders[\"folder\"].isin(videos)]\n",
    "print(all_folders[\"folder\"])\n",
    "print(folders.to_string())\n",
    "num_parallel = 32\n",
    "time = \"6:00:00\"\n",
    "args = [directory_targ, name_job]\n",
    "cpus = 32\n",
    "node=\"thin\",\n",
    "name_job=name_job\n",
    "name=\"extract_kymo\"\n",
    "code = \"kymo_extract.py\"\n"
   ]
  },
  {
   "cell_type": "code",
   "execution_count": 4,
   "metadata": {},
   "outputs": [
    {
     "name": "stdout",
     "output_type": "stream",
     "text": [
      "Submitted batch job 2317264\n"
     ]
    },
    {
     "name": "stderr",
     "output_type": "stream",
     "text": [
      "sbatch: Single-node jobs run on a shared node by default. Add --exclusive if you want to use a node exclusively.\n",
      "sbatch: A full node consists of 128 CPU cores, 229376 MiB of memory and 0 GPUs and can be shared by up to 4 jobs.\n",
      "sbatch: By default shared jobs get 1792 MiB of memory per CPU core, unless explicitly overridden with --mem-per-cpu, --mem-per-gpu or --mem.\n",
      "sbatch: You will be charged for 0.25 node, based on the number of CPUs, GPUs and the amount memory that you've requested.\n"
     ]
    }
   ],
   "source": [
    "run_parallel(\n",
    "    \"kymo_extract.py\",\n",
    "    args,\n",
    "    folders,\n",
    "    num_parallel,\n",
    "    time,\n",
    "    \"extract_kymo\",\n",
    "    cpus=1,\n",
    "    node=\"thin\",\n",
    "    name_job=name_job,\n",
    ")\n"
   ]
  }
 ],
 "metadata": {
  "kernelspec": {
   "display_name": "Python 3 (ipykernel)",
   "language": "python",
   "name": "python3"
  },
  "language_info": {
   "codemirror_mode": {
    "name": "ipython",
    "version": 3
   },
   "file_extension": ".py",
   "mimetype": "text/x-python",
   "name": "python",
   "nbconvert_exporter": "python",
   "pygments_lexer": "ipython3",
   "version": "3.9.5"
  }
 },
 "nbformat": 4,
 "nbformat_minor": 1
}
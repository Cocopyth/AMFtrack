{
 "cells": [
  {
   "cell_type": "code",
   "execution_count": null,
   "metadata": {
    "collapsed": true
   },
   "outputs": [],
   "source": [
    "import sys\n",
    "from amftrack.util.sys import (\n",
    "    update_plate_info,\n",
    "    get_current_folders,\n",
    ")\n",
    "from amftrack.pipeline.launching.run_super import run_parallel, run_launcher\n",
    "from time import time_ns\n",
    "\n",
    "directory_targ = \"/gpfs/home6/svstaalduine/dummy_plates/462_20221013/\"\n",
    "suffix_data_info = time_ns()\n",
    "plates= \"20221109_fl_04\"\n",
    "name_job=\"TEST\""
   ]
  },
  {
   "cell_type": "code",
   "execution_count": null,
   "outputs": [],
   "source": [
    "all_folders = get_current_folders(\n",
    "    directory_targ, local=True, suffix_data_info=suffix_data_info\n",
    ")\n",
    "folders = all_folders.loc[all_folders[\"unique_id\"].isin(plates)]\n",
    "folders = folders.loc[folders[\"/Img/TileConfiguration.txt.registered\"] == True]\n",
    "num_parallel = 100\n",
    "time = \"6:00:00\"\n",
    "hyph_width = 30\n",
    "perc_low = 93\n",
    "perc_high = 99.5\n",
    "args = [hyph_width, perc_low, perc_high, directory_targ]\n",
    "\n",
    "\n",
    "run_parallel(\n",
    "    \"extract_kymo.py\",\n",
    "    args,\n",
    "    folders,\n",
    "    num_parallel,\n",
    "    time,\n",
    "    \"skeletonization\",\n",
    "    cpus=128,\n",
    "    node=\"fat\",\n",
    "    name_job=name_job,\n",
    ")\n"
   ],
   "metadata": {
    "collapsed": false,
    "pycharm": {
     "name": "#%%\n"
    }
   }
  }
 ],
 "metadata": {
  "kernelspec": {
   "display_name": "Python 3",
   "language": "python",
   "name": "python3"
  },
  "language_info": {
   "codemirror_mode": {
    "name": "ipython",
    "version": 2
   },
   "file_extension": ".py",
   "mimetype": "text/x-python",
   "name": "python",
   "nbconvert_exporter": "python",
   "pygments_lexer": "ipython2",
   "version": "2.7.6"
  }
 },
 "nbformat": 4,
 "nbformat_minor": 0
}
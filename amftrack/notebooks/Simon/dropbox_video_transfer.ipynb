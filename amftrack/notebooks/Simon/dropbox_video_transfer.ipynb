{
 "cells": [
  {
   "cell_type": "code",
   "execution_count": 87,
   "id": "95be08ff",
   "metadata": {},
   "outputs": [
    {
     "name": "stdout",
     "output_type": "stream",
     "text": [
      "The autoreload extension is already loaded. To reload it, use:\n",
      "  %reload_ext autoreload\n"
     ]
    }
   ],
   "source": [
    "%matplotlib widget\n",
    "%load_ext autoreload\n",
    "%autoreload 2\n",
    "from IPython.display import clear_output\n",
    "import os\n",
    "import sys\n",
    "\n",
    "# sys.path.insert(0, os.getenv('HOME')+'/pycode/MscThesis/')\n",
    "# sys.path.insert(0,r'C:\\Users\\coren\\Documents\\PhD\\Code\\AMFtrack')\n",
    "\n",
    "import pandas as pd\n",
    "from amftrack.util.sys import (\n",
    "    get_dates_datetime,\n",
    "    get_dirname,\n",
    "    temp_path,\n",
    "    get_data_info,\n",
    "    update_plate_info,\n",
    "    get_current_folders,\n",
    "    get_folders_by_plate_id,\n",
    ")\n",
    "\n",
    "\n",
    "import ast\n",
    "from amftrack.plotutil import plot_t_tp1\n",
    "from scipy import sparse\n",
    "from datetime import datetime\n",
    "import pickle\n",
    "import scipy.io as sio\n",
    "from pymatreader import read_mat\n",
    "from matplotlib import colors\n",
    "import cv2\n",
    "import imageio\n",
    "import matplotlib.pyplot as plt\n",
    "import numpy as np\n",
    "from skimage.filters import frangi\n",
    "from skimage import filters\n",
    "from random import choice\n",
    "import scipy.sparse\n",
    "import os\n",
    "from amftrack.pipeline.functions.image_processing.extract_graph import (\n",
    "    from_sparse_to_graph,\n",
    "    generate_nx_graph,\n",
    "    sparse_to_doc,\n",
    ")\n",
    "from skimage.feature import hessian_matrix_det\n",
    "\n",
    "# from amftrack.pipeline.functions.image_processing.experiment_class_surf import Experiment\n",
    "from amftrack.pipeline.launching.run import (\n",
    "    run_transfer,\n",
    ")\n",
    "from amftrack.pipeline.launching.run_super import run_parallel_transfer\n",
    "\n",
    "import dropbox\n",
    "from amftrack.util.dbx import upload_folders, download, read_saved_dropbox_state, save_dropbox_state, load_dbx, download, get_dropbox_folders, get_dropbox_video_folders\n",
    "from subprocess import call\n",
    "import logging\n",
    "\n",
    "logging.basicConfig(stream=sys.stdout, level=logging.debug)"
   ]
  },
  {
   "cell_type": "markdown",
   "id": "037f25a3",
   "metadata": {},
   "source": [
    "**To transfer data from dropbox to surfsara**\n",
    "- select the folders of interest within the folders of dropbox"
   ]
  },
  {
   "cell_type": "code",
   "execution_count": 88,
   "id": "741b6a21",
   "metadata": {
    "scrolled": true
   },
   "outputs": [
    {
     "data": {
      "text/html": [
       "<div>\n",
       "<style scoped>\n",
       "    .dataframe tbody tr th:only-of-type {\n",
       "        vertical-align: middle;\n",
       "    }\n",
       "\n",
       "    .dataframe tbody tr th {\n",
       "        vertical-align: top;\n",
       "    }\n",
       "\n",
       "    .dataframe thead th {\n",
       "        text-align: right;\n",
       "    }\n",
       "</style>\n",
       "<table border=\"1\" class=\"dataframe\">\n",
       "  <thead>\n",
       "    <tr style=\"text-align: right;\">\n",
       "      <th></th>\n",
       "      <th>folder</th>\n",
       "      <th>Plate number</th>\n",
       "      <th>Date Imaged</th>\n",
       "      <th>tot_path_drop</th>\n",
       "      <th>video</th>\n",
       "    </tr>\n",
       "  </thead>\n",
       "  <tbody>\n",
       "    <tr>\n",
       "      <th>0</th>\n",
       "      <td>20230307_Plate033_02/Img/</td>\n",
       "      <td>033</td>\n",
       "      <td>20230307</td>\n",
       "      <td>DATA/MYRISTATE/DATA/2_weeks/20230307_Plate033/...</td>\n",
       "      <td>02/Img/</td>\n",
       "    </tr>\n",
       "    <tr>\n",
       "      <th>1</th>\n",
       "      <td>20230307_Plate033_01/Img/</td>\n",
       "      <td>033</td>\n",
       "      <td>20230307</td>\n",
       "      <td>DATA/MYRISTATE/DATA/2_weeks/20230307_Plate033/...</td>\n",
       "      <td>01/Img/</td>\n",
       "    </tr>\n",
       "    <tr>\n",
       "      <th>2</th>\n",
       "      <td>20230307_Plate033_03/Img/</td>\n",
       "      <td>033</td>\n",
       "      <td>20230307</td>\n",
       "      <td>DATA/MYRISTATE/DATA/2_weeks/20230307_Plate033/...</td>\n",
       "      <td>03/Img/</td>\n",
       "    </tr>\n",
       "    <tr>\n",
       "      <th>3</th>\n",
       "      <td>20230307_Plate033_04/Img/</td>\n",
       "      <td>033</td>\n",
       "      <td>20230307</td>\n",
       "      <td>DATA/MYRISTATE/DATA/2_weeks/20230307_Plate033/...</td>\n",
       "      <td>04/Img/</td>\n",
       "    </tr>\n",
       "    <tr>\n",
       "      <th>4</th>\n",
       "      <td>20230307_Plate033_05/Img/</td>\n",
       "      <td>033</td>\n",
       "      <td>20230307</td>\n",
       "      <td>DATA/MYRISTATE/DATA/2_weeks/20230307_Plate033/...</td>\n",
       "      <td>05/Img/</td>\n",
       "    </tr>\n",
       "    <tr>\n",
       "      <th>5</th>\n",
       "      <td>20230307_Plate033_06/Img/</td>\n",
       "      <td>033</td>\n",
       "      <td>20230307</td>\n",
       "      <td>DATA/MYRISTATE/DATA/2_weeks/20230307_Plate033/...</td>\n",
       "      <td>06/Img/</td>\n",
       "    </tr>\n",
       "    <tr>\n",
       "      <th>6</th>\n",
       "      <td>20230307_Plate033_07/Img/</td>\n",
       "      <td>033</td>\n",
       "      <td>20230307</td>\n",
       "      <td>DATA/MYRISTATE/DATA/2_weeks/20230307_Plate033/...</td>\n",
       "      <td>07/Img/</td>\n",
       "    </tr>\n",
       "    <tr>\n",
       "      <th>7</th>\n",
       "      <td>20230307_Plate033_08/Img/</td>\n",
       "      <td>033</td>\n",
       "      <td>20230307</td>\n",
       "      <td>DATA/MYRISTATE/DATA/2_weeks/20230307_Plate033/...</td>\n",
       "      <td>08/Img/</td>\n",
       "    </tr>\n",
       "    <tr>\n",
       "      <th>8</th>\n",
       "      <td>20230307_Plate033_09/Img/</td>\n",
       "      <td>033</td>\n",
       "      <td>20230307</td>\n",
       "      <td>DATA/MYRISTATE/DATA/2_weeks/20230307_Plate033/...</td>\n",
       "      <td>09/Img/</td>\n",
       "    </tr>\n",
       "    <tr>\n",
       "      <th>9</th>\n",
       "      <td>20230307_Plate033_10/Img/</td>\n",
       "      <td>033</td>\n",
       "      <td>20230307</td>\n",
       "      <td>DATA/MYRISTATE/DATA/2_weeks/20230307_Plate033/...</td>\n",
       "      <td>10/Img/</td>\n",
       "    </tr>\n",
       "    <tr>\n",
       "      <th>10</th>\n",
       "      <td>20230307_Plate033_11/Img/</td>\n",
       "      <td>033</td>\n",
       "      <td>20230307</td>\n",
       "      <td>DATA/MYRISTATE/DATA/2_weeks/20230307_Plate033/...</td>\n",
       "      <td>11/Img/</td>\n",
       "    </tr>\n",
       "    <tr>\n",
       "      <th>11</th>\n",
       "      <td>20230307_Plate033_12/Img/</td>\n",
       "      <td>033</td>\n",
       "      <td>20230307</td>\n",
       "      <td>DATA/MYRISTATE/DATA/2_weeks/20230307_Plate033/...</td>\n",
       "      <td>12/Img/</td>\n",
       "    </tr>\n",
       "    <tr>\n",
       "      <th>12</th>\n",
       "      <td>20230307_Plate033_13/Img/</td>\n",
       "      <td>033</td>\n",
       "      <td>20230307</td>\n",
       "      <td>DATA/MYRISTATE/DATA/2_weeks/20230307_Plate033/...</td>\n",
       "      <td>13/Img/</td>\n",
       "    </tr>\n",
       "    <tr>\n",
       "      <th>13</th>\n",
       "      <td>20230307_Plate033_14/Img/</td>\n",
       "      <td>033</td>\n",
       "      <td>20230307</td>\n",
       "      <td>DATA/MYRISTATE/DATA/2_weeks/20230307_Plate033/...</td>\n",
       "      <td>14/Img/</td>\n",
       "    </tr>\n",
       "    <tr>\n",
       "      <th>14</th>\n",
       "      <td>20230307_Plate033_15/Img/</td>\n",
       "      <td>033</td>\n",
       "      <td>20230307</td>\n",
       "      <td>DATA/MYRISTATE/DATA/2_weeks/20230307_Plate033/...</td>\n",
       "      <td>15/Img/</td>\n",
       "    </tr>\n",
       "    <tr>\n",
       "      <th>15</th>\n",
       "      <td>20230307_Plate033_16/Img/</td>\n",
       "      <td>033</td>\n",
       "      <td>20230307</td>\n",
       "      <td>DATA/MYRISTATE/DATA/2_weeks/20230307_Plate033/...</td>\n",
       "      <td>16/Img/</td>\n",
       "    </tr>\n",
       "    <tr>\n",
       "      <th>16</th>\n",
       "      <td>20230307_Plate033_17/Img/</td>\n",
       "      <td>033</td>\n",
       "      <td>20230307</td>\n",
       "      <td>DATA/MYRISTATE/DATA/2_weeks/20230307_Plate033/...</td>\n",
       "      <td>17/Img/</td>\n",
       "    </tr>\n",
       "    <tr>\n",
       "      <th>17</th>\n",
       "      <td>20230307_Plate033_18/Img/</td>\n",
       "      <td>033</td>\n",
       "      <td>20230307</td>\n",
       "      <td>DATA/MYRISTATE/DATA/2_weeks/20230307_Plate033/...</td>\n",
       "      <td>18/Img/</td>\n",
       "    </tr>\n",
       "    <tr>\n",
       "      <th>18</th>\n",
       "      <td>20230307_Plate033_19/Img/</td>\n",
       "      <td>033</td>\n",
       "      <td>20230307</td>\n",
       "      <td>DATA/MYRISTATE/DATA/2_weeks/20230307_Plate033/...</td>\n",
       "      <td>19/Img/</td>\n",
       "    </tr>\n",
       "    <tr>\n",
       "      <th>19</th>\n",
       "      <td>20230307_Plate033_20/Img/</td>\n",
       "      <td>033</td>\n",
       "      <td>20230307</td>\n",
       "      <td>DATA/MYRISTATE/DATA/2_weeks/20230307_Plate033/...</td>\n",
       "      <td>20/Img/</td>\n",
       "    </tr>\n",
       "    <tr>\n",
       "      <th>20</th>\n",
       "      <td>20230307_Plate033_21/Img/</td>\n",
       "      <td>033</td>\n",
       "      <td>20230307</td>\n",
       "      <td>DATA/MYRISTATE/DATA/2_weeks/20230307_Plate033/...</td>\n",
       "      <td>21/Img/</td>\n",
       "    </tr>\n",
       "    <tr>\n",
       "      <th>21</th>\n",
       "      <td>20230307_Plate033_22/Img/</td>\n",
       "      <td>033</td>\n",
       "      <td>20230307</td>\n",
       "      <td>DATA/MYRISTATE/DATA/2_weeks/20230307_Plate033/...</td>\n",
       "      <td>22/Img/</td>\n",
       "    </tr>\n",
       "    <tr>\n",
       "      <th>22</th>\n",
       "      <td>20230307_Plate033_23/Img/</td>\n",
       "      <td>033</td>\n",
       "      <td>20230307</td>\n",
       "      <td>DATA/MYRISTATE/DATA/2_weeks/20230307_Plate033/...</td>\n",
       "      <td>23/Img/</td>\n",
       "    </tr>\n",
       "    <tr>\n",
       "      <th>23</th>\n",
       "      <td>20230307_Plate033_24/Img/</td>\n",
       "      <td>033</td>\n",
       "      <td>20230307</td>\n",
       "      <td>DATA/MYRISTATE/DATA/2_weeks/20230307_Plate033/...</td>\n",
       "      <td>24/Img/</td>\n",
       "    </tr>\n",
       "    <tr>\n",
       "      <th>24</th>\n",
       "      <td>20230307_Plate033_25/Img/</td>\n",
       "      <td>033</td>\n",
       "      <td>20230307</td>\n",
       "      <td>DATA/MYRISTATE/DATA/2_weeks/20230307_Plate033/...</td>\n",
       "      <td>25/Img/</td>\n",
       "    </tr>\n",
       "  </tbody>\n",
       "</table>\n",
       "</div>"
      ],
      "text/plain": [
       "                       folder Plate number Date Imaged  \\\n",
       "0   20230307_Plate033_02/Img/          033    20230307   \n",
       "1   20230307_Plate033_01/Img/          033    20230307   \n",
       "2   20230307_Plate033_03/Img/          033    20230307   \n",
       "3   20230307_Plate033_04/Img/          033    20230307   \n",
       "4   20230307_Plate033_05/Img/          033    20230307   \n",
       "5   20230307_Plate033_06/Img/          033    20230307   \n",
       "6   20230307_Plate033_07/Img/          033    20230307   \n",
       "7   20230307_Plate033_08/Img/          033    20230307   \n",
       "8   20230307_Plate033_09/Img/          033    20230307   \n",
       "9   20230307_Plate033_10/Img/          033    20230307   \n",
       "10  20230307_Plate033_11/Img/          033    20230307   \n",
       "11  20230307_Plate033_12/Img/          033    20230307   \n",
       "12  20230307_Plate033_13/Img/          033    20230307   \n",
       "13  20230307_Plate033_14/Img/          033    20230307   \n",
       "14  20230307_Plate033_15/Img/          033    20230307   \n",
       "15  20230307_Plate033_16/Img/          033    20230307   \n",
       "16  20230307_Plate033_17/Img/          033    20230307   \n",
       "17  20230307_Plate033_18/Img/          033    20230307   \n",
       "18  20230307_Plate033_19/Img/          033    20230307   \n",
       "19  20230307_Plate033_20/Img/          033    20230307   \n",
       "20  20230307_Plate033_21/Img/          033    20230307   \n",
       "21  20230307_Plate033_22/Img/          033    20230307   \n",
       "22  20230307_Plate033_23/Img/          033    20230307   \n",
       "23  20230307_Plate033_24/Img/          033    20230307   \n",
       "24  20230307_Plate033_25/Img/          033    20230307   \n",
       "\n",
       "                                        tot_path_drop    video  \n",
       "0   DATA/MYRISTATE/DATA/2_weeks/20230307_Plate033/...  02/Img/  \n",
       "1   DATA/MYRISTATE/DATA/2_weeks/20230307_Plate033/...  01/Img/  \n",
       "2   DATA/MYRISTATE/DATA/2_weeks/20230307_Plate033/...  03/Img/  \n",
       "3   DATA/MYRISTATE/DATA/2_weeks/20230307_Plate033/...  04/Img/  \n",
       "4   DATA/MYRISTATE/DATA/2_weeks/20230307_Plate033/...  05/Img/  \n",
       "5   DATA/MYRISTATE/DATA/2_weeks/20230307_Plate033/...  06/Img/  \n",
       "6   DATA/MYRISTATE/DATA/2_weeks/20230307_Plate033/...  07/Img/  \n",
       "7   DATA/MYRISTATE/DATA/2_weeks/20230307_Plate033/...  08/Img/  \n",
       "8   DATA/MYRISTATE/DATA/2_weeks/20230307_Plate033/...  09/Img/  \n",
       "9   DATA/MYRISTATE/DATA/2_weeks/20230307_Plate033/...  10/Img/  \n",
       "10  DATA/MYRISTATE/DATA/2_weeks/20230307_Plate033/...  11/Img/  \n",
       "11  DATA/MYRISTATE/DATA/2_weeks/20230307_Plate033/...  12/Img/  \n",
       "12  DATA/MYRISTATE/DATA/2_weeks/20230307_Plate033/...  13/Img/  \n",
       "13  DATA/MYRISTATE/DATA/2_weeks/20230307_Plate033/...  14/Img/  \n",
       "14  DATA/MYRISTATE/DATA/2_weeks/20230307_Plate033/...  15/Img/  \n",
       "15  DATA/MYRISTATE/DATA/2_weeks/20230307_Plate033/...  16/Img/  \n",
       "16  DATA/MYRISTATE/DATA/2_weeks/20230307_Plate033/...  17/Img/  \n",
       "17  DATA/MYRISTATE/DATA/2_weeks/20230307_Plate033/...  18/Img/  \n",
       "18  DATA/MYRISTATE/DATA/2_weeks/20230307_Plate033/...  19/Img/  \n",
       "19  DATA/MYRISTATE/DATA/2_weeks/20230307_Plate033/...  20/Img/  \n",
       "20  DATA/MYRISTATE/DATA/2_weeks/20230307_Plate033/...  21/Img/  \n",
       "21  DATA/MYRISTATE/DATA/2_weeks/20230307_Plate033/...  22/Img/  \n",
       "22  DATA/MYRISTATE/DATA/2_weeks/20230307_Plate033/...  23/Img/  \n",
       "23  DATA/MYRISTATE/DATA/2_weeks/20230307_Plate033/...  24/Img/  \n",
       "24  DATA/MYRISTATE/DATA/2_weeks/20230307_Plate033/...  25/Img/  "
      ]
     },
     "execution_count": 88,
     "metadata": {},
     "output_type": "execute_result"
    }
   ],
   "source": [
    "directory_targ = \"/gpfs/scratch1/shared/amftrackflow/Drp_downs/20230307_Plate033/\"\n",
    "\n",
    "if not os.path.exists(directory_targ):\n",
    "    os.makedirs(directory_targ)\n",
    "\n",
    "all_folders_drop, excel_drop = get_dropbox_video_folders(\"/DATA/MYRISTATE/DATA/2_weeks/20230307_Plate033/\", True)\n",
    "# folders_drop = all_folders_drop.loc[all_folders_drop[\"Plate number\"] == \"452\"]\n",
    "# all_folders_drop = pd.read_json(\"/gpfs/home6/svstaalduine/dropbox_file_structure/data_nile_red.json\")\n",
    "\n",
    "# for xl_adress in excel_drop:\n",
    "#     file_name = xl_adress.split('/')[-1]\n",
    "    \n",
    "#     download(xl_adress, directory_targ+file_name)\n",
    "clear_output(wait=False)\n",
    "\n",
    "all_folders_drop"
   ]
  },
  {
   "cell_type": "code",
   "execution_count": 89,
   "id": "2ab21ced",
   "metadata": {
    "scrolled": false
   },
   "outputs": [],
   "source": [
    "# directory_targ = \"/gpfs/scratch1/shared/amftrackflow/Rachael_dataset/\"\n",
    "# all_folders_drop.to_json(\"/gpfs/home6/svstaalduine/dropbox_file_structure/data_nile_red.json\")\n",
    "\n",
    "# save_dropbox_state(\"/DATA/FLUORESCENCE/DATA_NileRed/20230201_Plate552/\", is_video=True)\n",
    "\n",
    "folders_drop = all_folders_drop.loc[all_folders_drop[\"Plate number\"].ge(\"031\")]\n",
    "# folders_drop = folders_drop.loc[folders_drop[\"Date Imaged\"] == \"20221208\"]"
   ]
  },
  {
   "cell_type": "code",
   "execution_count": 90,
   "id": "fac44fcd",
   "metadata": {},
   "outputs": [],
   "source": [
    "folders_drop = folders_drop.sort_values(by=['folder'])"
   ]
  },
  {
   "cell_type": "code",
   "execution_count": 91,
   "id": "b1d6ad96",
   "metadata": {},
   "outputs": [
    {
     "name": "stdout",
     "output_type": "stream",
     "text": [
      "/gpfs/scratch1/shared/amftrackflow/Drp_downs/20230307_Plate033/\n"
     ]
    },
    {
     "data": {
      "text/html": [
       "<div>\n",
       "<style scoped>\n",
       "    .dataframe tbody tr th:only-of-type {\n",
       "        vertical-align: middle;\n",
       "    }\n",
       "\n",
       "    .dataframe tbody tr th {\n",
       "        vertical-align: top;\n",
       "    }\n",
       "\n",
       "    .dataframe thead th {\n",
       "        text-align: right;\n",
       "    }\n",
       "</style>\n",
       "<table border=\"1\" class=\"dataframe\">\n",
       "  <thead>\n",
       "    <tr style=\"text-align: right;\">\n",
       "      <th></th>\n",
       "      <th>folder</th>\n",
       "      <th>Plate number</th>\n",
       "      <th>Date Imaged</th>\n",
       "      <th>tot_path_drop</th>\n",
       "      <th>video</th>\n",
       "    </tr>\n",
       "  </thead>\n",
       "  <tbody>\n",
       "    <tr>\n",
       "      <th>1</th>\n",
       "      <td>20230307_Plate033_01/Img/</td>\n",
       "      <td>033</td>\n",
       "      <td>20230307</td>\n",
       "      <td>DATA/MYRISTATE/DATA/2_weeks/20230307_Plate033/...</td>\n",
       "      <td>01/Img/</td>\n",
       "    </tr>\n",
       "    <tr>\n",
       "      <th>0</th>\n",
       "      <td>20230307_Plate033_02/Img/</td>\n",
       "      <td>033</td>\n",
       "      <td>20230307</td>\n",
       "      <td>DATA/MYRISTATE/DATA/2_weeks/20230307_Plate033/...</td>\n",
       "      <td>02/Img/</td>\n",
       "    </tr>\n",
       "    <tr>\n",
       "      <th>2</th>\n",
       "      <td>20230307_Plate033_03/Img/</td>\n",
       "      <td>033</td>\n",
       "      <td>20230307</td>\n",
       "      <td>DATA/MYRISTATE/DATA/2_weeks/20230307_Plate033/...</td>\n",
       "      <td>03/Img/</td>\n",
       "    </tr>\n",
       "    <tr>\n",
       "      <th>3</th>\n",
       "      <td>20230307_Plate033_04/Img/</td>\n",
       "      <td>033</td>\n",
       "      <td>20230307</td>\n",
       "      <td>DATA/MYRISTATE/DATA/2_weeks/20230307_Plate033/...</td>\n",
       "      <td>04/Img/</td>\n",
       "    </tr>\n",
       "    <tr>\n",
       "      <th>4</th>\n",
       "      <td>20230307_Plate033_05/Img/</td>\n",
       "      <td>033</td>\n",
       "      <td>20230307</td>\n",
       "      <td>DATA/MYRISTATE/DATA/2_weeks/20230307_Plate033/...</td>\n",
       "      <td>05/Img/</td>\n",
       "    </tr>\n",
       "    <tr>\n",
       "      <th>5</th>\n",
       "      <td>20230307_Plate033_06/Img/</td>\n",
       "      <td>033</td>\n",
       "      <td>20230307</td>\n",
       "      <td>DATA/MYRISTATE/DATA/2_weeks/20230307_Plate033/...</td>\n",
       "      <td>06/Img/</td>\n",
       "    </tr>\n",
       "    <tr>\n",
       "      <th>6</th>\n",
       "      <td>20230307_Plate033_07/Img/</td>\n",
       "      <td>033</td>\n",
       "      <td>20230307</td>\n",
       "      <td>DATA/MYRISTATE/DATA/2_weeks/20230307_Plate033/...</td>\n",
       "      <td>07/Img/</td>\n",
       "    </tr>\n",
       "    <tr>\n",
       "      <th>7</th>\n",
       "      <td>20230307_Plate033_08/Img/</td>\n",
       "      <td>033</td>\n",
       "      <td>20230307</td>\n",
       "      <td>DATA/MYRISTATE/DATA/2_weeks/20230307_Plate033/...</td>\n",
       "      <td>08/Img/</td>\n",
       "    </tr>\n",
       "    <tr>\n",
       "      <th>8</th>\n",
       "      <td>20230307_Plate033_09/Img/</td>\n",
       "      <td>033</td>\n",
       "      <td>20230307</td>\n",
       "      <td>DATA/MYRISTATE/DATA/2_weeks/20230307_Plate033/...</td>\n",
       "      <td>09/Img/</td>\n",
       "    </tr>\n",
       "    <tr>\n",
       "      <th>9</th>\n",
       "      <td>20230307_Plate033_10/Img/</td>\n",
       "      <td>033</td>\n",
       "      <td>20230307</td>\n",
       "      <td>DATA/MYRISTATE/DATA/2_weeks/20230307_Plate033/...</td>\n",
       "      <td>10/Img/</td>\n",
       "    </tr>\n",
       "    <tr>\n",
       "      <th>10</th>\n",
       "      <td>20230307_Plate033_11/Img/</td>\n",
       "      <td>033</td>\n",
       "      <td>20230307</td>\n",
       "      <td>DATA/MYRISTATE/DATA/2_weeks/20230307_Plate033/...</td>\n",
       "      <td>11/Img/</td>\n",
       "    </tr>\n",
       "    <tr>\n",
       "      <th>11</th>\n",
       "      <td>20230307_Plate033_12/Img/</td>\n",
       "      <td>033</td>\n",
       "      <td>20230307</td>\n",
       "      <td>DATA/MYRISTATE/DATA/2_weeks/20230307_Plate033/...</td>\n",
       "      <td>12/Img/</td>\n",
       "    </tr>\n",
       "    <tr>\n",
       "      <th>12</th>\n",
       "      <td>20230307_Plate033_13/Img/</td>\n",
       "      <td>033</td>\n",
       "      <td>20230307</td>\n",
       "      <td>DATA/MYRISTATE/DATA/2_weeks/20230307_Plate033/...</td>\n",
       "      <td>13/Img/</td>\n",
       "    </tr>\n",
       "    <tr>\n",
       "      <th>13</th>\n",
       "      <td>20230307_Plate033_14/Img/</td>\n",
       "      <td>033</td>\n",
       "      <td>20230307</td>\n",
       "      <td>DATA/MYRISTATE/DATA/2_weeks/20230307_Plate033/...</td>\n",
       "      <td>14/Img/</td>\n",
       "    </tr>\n",
       "    <tr>\n",
       "      <th>14</th>\n",
       "      <td>20230307_Plate033_15/Img/</td>\n",
       "      <td>033</td>\n",
       "      <td>20230307</td>\n",
       "      <td>DATA/MYRISTATE/DATA/2_weeks/20230307_Plate033/...</td>\n",
       "      <td>15/Img/</td>\n",
       "    </tr>\n",
       "    <tr>\n",
       "      <th>15</th>\n",
       "      <td>20230307_Plate033_16/Img/</td>\n",
       "      <td>033</td>\n",
       "      <td>20230307</td>\n",
       "      <td>DATA/MYRISTATE/DATA/2_weeks/20230307_Plate033/...</td>\n",
       "      <td>16/Img/</td>\n",
       "    </tr>\n",
       "    <tr>\n",
       "      <th>16</th>\n",
       "      <td>20230307_Plate033_17/Img/</td>\n",
       "      <td>033</td>\n",
       "      <td>20230307</td>\n",
       "      <td>DATA/MYRISTATE/DATA/2_weeks/20230307_Plate033/...</td>\n",
       "      <td>17/Img/</td>\n",
       "    </tr>\n",
       "    <tr>\n",
       "      <th>17</th>\n",
       "      <td>20230307_Plate033_18/Img/</td>\n",
       "      <td>033</td>\n",
       "      <td>20230307</td>\n",
       "      <td>DATA/MYRISTATE/DATA/2_weeks/20230307_Plate033/...</td>\n",
       "      <td>18/Img/</td>\n",
       "    </tr>\n",
       "    <tr>\n",
       "      <th>18</th>\n",
       "      <td>20230307_Plate033_19/Img/</td>\n",
       "      <td>033</td>\n",
       "      <td>20230307</td>\n",
       "      <td>DATA/MYRISTATE/DATA/2_weeks/20230307_Plate033/...</td>\n",
       "      <td>19/Img/</td>\n",
       "    </tr>\n",
       "    <tr>\n",
       "      <th>19</th>\n",
       "      <td>20230307_Plate033_20/Img/</td>\n",
       "      <td>033</td>\n",
       "      <td>20230307</td>\n",
       "      <td>DATA/MYRISTATE/DATA/2_weeks/20230307_Plate033/...</td>\n",
       "      <td>20/Img/</td>\n",
       "    </tr>\n",
       "    <tr>\n",
       "      <th>20</th>\n",
       "      <td>20230307_Plate033_21/Img/</td>\n",
       "      <td>033</td>\n",
       "      <td>20230307</td>\n",
       "      <td>DATA/MYRISTATE/DATA/2_weeks/20230307_Plate033/...</td>\n",
       "      <td>21/Img/</td>\n",
       "    </tr>\n",
       "    <tr>\n",
       "      <th>21</th>\n",
       "      <td>20230307_Plate033_22/Img/</td>\n",
       "      <td>033</td>\n",
       "      <td>20230307</td>\n",
       "      <td>DATA/MYRISTATE/DATA/2_weeks/20230307_Plate033/...</td>\n",
       "      <td>22/Img/</td>\n",
       "    </tr>\n",
       "    <tr>\n",
       "      <th>22</th>\n",
       "      <td>20230307_Plate033_23/Img/</td>\n",
       "      <td>033</td>\n",
       "      <td>20230307</td>\n",
       "      <td>DATA/MYRISTATE/DATA/2_weeks/20230307_Plate033/...</td>\n",
       "      <td>23/Img/</td>\n",
       "    </tr>\n",
       "    <tr>\n",
       "      <th>23</th>\n",
       "      <td>20230307_Plate033_24/Img/</td>\n",
       "      <td>033</td>\n",
       "      <td>20230307</td>\n",
       "      <td>DATA/MYRISTATE/DATA/2_weeks/20230307_Plate033/...</td>\n",
       "      <td>24/Img/</td>\n",
       "    </tr>\n",
       "    <tr>\n",
       "      <th>24</th>\n",
       "      <td>20230307_Plate033_25/Img/</td>\n",
       "      <td>033</td>\n",
       "      <td>20230307</td>\n",
       "      <td>DATA/MYRISTATE/DATA/2_weeks/20230307_Plate033/...</td>\n",
       "      <td>25/Img/</td>\n",
       "    </tr>\n",
       "  </tbody>\n",
       "</table>\n",
       "</div>"
      ],
      "text/plain": [
       "                       folder Plate number Date Imaged  \\\n",
       "1   20230307_Plate033_01/Img/          033    20230307   \n",
       "0   20230307_Plate033_02/Img/          033    20230307   \n",
       "2   20230307_Plate033_03/Img/          033    20230307   \n",
       "3   20230307_Plate033_04/Img/          033    20230307   \n",
       "4   20230307_Plate033_05/Img/          033    20230307   \n",
       "5   20230307_Plate033_06/Img/          033    20230307   \n",
       "6   20230307_Plate033_07/Img/          033    20230307   \n",
       "7   20230307_Plate033_08/Img/          033    20230307   \n",
       "8   20230307_Plate033_09/Img/          033    20230307   \n",
       "9   20230307_Plate033_10/Img/          033    20230307   \n",
       "10  20230307_Plate033_11/Img/          033    20230307   \n",
       "11  20230307_Plate033_12/Img/          033    20230307   \n",
       "12  20230307_Plate033_13/Img/          033    20230307   \n",
       "13  20230307_Plate033_14/Img/          033    20230307   \n",
       "14  20230307_Plate033_15/Img/          033    20230307   \n",
       "15  20230307_Plate033_16/Img/          033    20230307   \n",
       "16  20230307_Plate033_17/Img/          033    20230307   \n",
       "17  20230307_Plate033_18/Img/          033    20230307   \n",
       "18  20230307_Plate033_19/Img/          033    20230307   \n",
       "19  20230307_Plate033_20/Img/          033    20230307   \n",
       "20  20230307_Plate033_21/Img/          033    20230307   \n",
       "21  20230307_Plate033_22/Img/          033    20230307   \n",
       "22  20230307_Plate033_23/Img/          033    20230307   \n",
       "23  20230307_Plate033_24/Img/          033    20230307   \n",
       "24  20230307_Plate033_25/Img/          033    20230307   \n",
       "\n",
       "                                        tot_path_drop    video  \n",
       "1   DATA/MYRISTATE/DATA/2_weeks/20230307_Plate033/...  01/Img/  \n",
       "0   DATA/MYRISTATE/DATA/2_weeks/20230307_Plate033/...  02/Img/  \n",
       "2   DATA/MYRISTATE/DATA/2_weeks/20230307_Plate033/...  03/Img/  \n",
       "3   DATA/MYRISTATE/DATA/2_weeks/20230307_Plate033/...  04/Img/  \n",
       "4   DATA/MYRISTATE/DATA/2_weeks/20230307_Plate033/...  05/Img/  \n",
       "5   DATA/MYRISTATE/DATA/2_weeks/20230307_Plate033/...  06/Img/  \n",
       "6   DATA/MYRISTATE/DATA/2_weeks/20230307_Plate033/...  07/Img/  \n",
       "7   DATA/MYRISTATE/DATA/2_weeks/20230307_Plate033/...  08/Img/  \n",
       "8   DATA/MYRISTATE/DATA/2_weeks/20230307_Plate033/...  09/Img/  \n",
       "9   DATA/MYRISTATE/DATA/2_weeks/20230307_Plate033/...  10/Img/  \n",
       "10  DATA/MYRISTATE/DATA/2_weeks/20230307_Plate033/...  11/Img/  \n",
       "11  DATA/MYRISTATE/DATA/2_weeks/20230307_Plate033/...  12/Img/  \n",
       "12  DATA/MYRISTATE/DATA/2_weeks/20230307_Plate033/...  13/Img/  \n",
       "13  DATA/MYRISTATE/DATA/2_weeks/20230307_Plate033/...  14/Img/  \n",
       "14  DATA/MYRISTATE/DATA/2_weeks/20230307_Plate033/...  15/Img/  \n",
       "15  DATA/MYRISTATE/DATA/2_weeks/20230307_Plate033/...  16/Img/  \n",
       "16  DATA/MYRISTATE/DATA/2_weeks/20230307_Plate033/...  17/Img/  \n",
       "17  DATA/MYRISTATE/DATA/2_weeks/20230307_Plate033/...  18/Img/  \n",
       "18  DATA/MYRISTATE/DATA/2_weeks/20230307_Plate033/...  19/Img/  \n",
       "19  DATA/MYRISTATE/DATA/2_weeks/20230307_Plate033/...  20/Img/  \n",
       "20  DATA/MYRISTATE/DATA/2_weeks/20230307_Plate033/...  21/Img/  \n",
       "21  DATA/MYRISTATE/DATA/2_weeks/20230307_Plate033/...  22/Img/  \n",
       "22  DATA/MYRISTATE/DATA/2_weeks/20230307_Plate033/...  23/Img/  \n",
       "23  DATA/MYRISTATE/DATA/2_weeks/20230307_Plate033/...  24/Img/  \n",
       "24  DATA/MYRISTATE/DATA/2_weeks/20230307_Plate033/...  25/Img/  "
      ]
     },
     "execution_count": 91,
     "metadata": {},
     "output_type": "execute_result"
    }
   ],
   "source": [
    "# FINAL CHECK\n",
    "\n",
    "print(directory_targ)\n",
    "folders_drop"
   ]
  },
  {
   "cell_type": "code",
   "execution_count": 92,
   "id": "6fd95d98",
   "metadata": {},
   "outputs": [
    {
     "name": "stdout",
     "output_type": "stream",
     "text": [
      "Submitted batch job 2791700\n"
     ]
    },
    {
     "name": "stderr",
     "output_type": "stream",
     "text": [
      "sbatch: Single-node jobs run on a shared node by default. Add --exclusive if you want to use a node exclusively.\n",
      "sbatch: A full node consists of 32 CPU cores, 229376 MiB of memory and 0 GPUs and can be shared by up to 32 jobs.\n",
      "sbatch: By default shared jobs get 7168 MiB of memory per CPU core, unless explicitly overridden with --mem-per-cpu, --mem-per-gpu or --mem.\n",
      "sbatch: You will be charged for 0.03125 node, based on the number of CPUs, GPUs and the amount memory that you've requested.\n",
      "sbatch: Single-node jobs run on a shared node by default. Add --exclusive if you want to use a node exclusively.\n",
      "sbatch: A full node consists of 32 CPU cores, 229376 MiB of memory and 0 GPUs and can be shared by up to 32 jobs.\n",
      "sbatch: By default shared jobs get 7168 MiB of memory per CPU core, unless explicitly overridden with --mem-per-cpu, --mem-per-gpu or --mem.\n",
      "sbatch: You will be charged for 0.03125 node, based on the number of CPUs, GPUs and the amount memory that you've requested.\n"
     ]
    },
    {
     "name": "stdout",
     "output_type": "stream",
     "text": [
      "Submitted batch job 2791701\n"
     ]
    },
    {
     "name": "stderr",
     "output_type": "stream",
     "text": [
      "sbatch: Single-node jobs run on a shared node by default. Add --exclusive if you want to use a node exclusively.\n",
      "sbatch: A full node consists of 32 CPU cores, 229376 MiB of memory and 0 GPUs and can be shared by up to 32 jobs.\n",
      "sbatch: By default shared jobs get 7168 MiB of memory per CPU core, unless explicitly overridden with --mem-per-cpu, --mem-per-gpu or --mem.\n",
      "sbatch: You will be charged for 0.03125 node, based on the number of CPUs, GPUs and the amount memory that you've requested.\n"
     ]
    },
    {
     "name": "stdout",
     "output_type": "stream",
     "text": [
      "Submitted batch job 2791703\n"
     ]
    },
    {
     "name": "stderr",
     "output_type": "stream",
     "text": [
      "sbatch: Single-node jobs run on a shared node by default. Add --exclusive if you want to use a node exclusively.\n",
      "sbatch: A full node consists of 32 CPU cores, 229376 MiB of memory and 0 GPUs and can be shared by up to 32 jobs.\n",
      "sbatch: By default shared jobs get 7168 MiB of memory per CPU core, unless explicitly overridden with --mem-per-cpu, --mem-per-gpu or --mem.\n",
      "sbatch: You will be charged for 0.03125 node, based on the number of CPUs, GPUs and the amount memory that you've requested.\n"
     ]
    },
    {
     "name": "stdout",
     "output_type": "stream",
     "text": [
      "Submitted batch job 2791704\n"
     ]
    },
    {
     "name": "stderr",
     "output_type": "stream",
     "text": [
      "sbatch: Single-node jobs run on a shared node by default. Add --exclusive if you want to use a node exclusively.\n",
      "sbatch: A full node consists of 32 CPU cores, 229376 MiB of memory and 0 GPUs and can be shared by up to 32 jobs.\n",
      "sbatch: By default shared jobs get 7168 MiB of memory per CPU core, unless explicitly overridden with --mem-per-cpu, --mem-per-gpu or --mem.\n",
      "sbatch: You will be charged for 0.03125 node, based on the number of CPUs, GPUs and the amount memory that you've requested.\n"
     ]
    },
    {
     "name": "stdout",
     "output_type": "stream",
     "text": [
      "Submitted batch job 2791705\n"
     ]
    },
    {
     "name": "stderr",
     "output_type": "stream",
     "text": [
      "sbatch: Single-node jobs run on a shared node by default. Add --exclusive if you want to use a node exclusively.\n",
      "sbatch: A full node consists of 32 CPU cores, 229376 MiB of memory and 0 GPUs and can be shared by up to 32 jobs.\n",
      "sbatch: By default shared jobs get 7168 MiB of memory per CPU core, unless explicitly overridden with --mem-per-cpu, --mem-per-gpu or --mem.\n",
      "sbatch: You will be charged for 0.03125 node, based on the number of CPUs, GPUs and the amount memory that you've requested.\n"
     ]
    },
    {
     "name": "stdout",
     "output_type": "stream",
     "text": [
      "Submitted batch job 2791706\n",
      "Submitted batch job 2791707\n"
     ]
    },
    {
     "name": "stderr",
     "output_type": "stream",
     "text": [
      "sbatch: Single-node jobs run on a shared node by default. Add --exclusive if you want to use a node exclusively.\n",
      "sbatch: A full node consists of 32 CPU cores, 229376 MiB of memory and 0 GPUs and can be shared by up to 32 jobs.\n",
      "sbatch: By default shared jobs get 7168 MiB of memory per CPU core, unless explicitly overridden with --mem-per-cpu, --mem-per-gpu or --mem.\n",
      "sbatch: You will be charged for 0.03125 node, based on the number of CPUs, GPUs and the amount memory that you've requested.\n",
      "sbatch: Single-node jobs run on a shared node by default. Add --exclusive if you want to use a node exclusively.\n",
      "sbatch: A full node consists of 32 CPU cores, 229376 MiB of memory and 0 GPUs and can be shared by up to 32 jobs.\n",
      "sbatch: By default shared jobs get 7168 MiB of memory per CPU core, unless explicitly overridden with --mem-per-cpu, --mem-per-gpu or --mem.\n",
      "sbatch: You will be charged for 0.03125 node, based on the number of CPUs, GPUs and the amount memory that you've requested.\n"
     ]
    },
    {
     "name": "stdout",
     "output_type": "stream",
     "text": [
      "Submitted batch job 2791708\n"
     ]
    },
    {
     "name": "stderr",
     "output_type": "stream",
     "text": [
      "sbatch: Single-node jobs run on a shared node by default. Add --exclusive if you want to use a node exclusively.\n",
      "sbatch: A full node consists of 32 CPU cores, 229376 MiB of memory and 0 GPUs and can be shared by up to 32 jobs.\n",
      "sbatch: By default shared jobs get 7168 MiB of memory per CPU core, unless explicitly overridden with --mem-per-cpu, --mem-per-gpu or --mem.\n",
      "sbatch: You will be charged for 0.03125 node, based on the number of CPUs, GPUs and the amount memory that you've requested.\n"
     ]
    },
    {
     "name": "stdout",
     "output_type": "stream",
     "text": [
      "Submitted batch job 2791709\n"
     ]
    },
    {
     "name": "stderr",
     "output_type": "stream",
     "text": [
      "sbatch: Single-node jobs run on a shared node by default. Add --exclusive if you want to use a node exclusively.\n",
      "sbatch: A full node consists of 32 CPU cores, 229376 MiB of memory and 0 GPUs and can be shared by up to 32 jobs.\n",
      "sbatch: By default shared jobs get 7168 MiB of memory per CPU core, unless explicitly overridden with --mem-per-cpu, --mem-per-gpu or --mem.\n",
      "sbatch: You will be charged for 0.03125 node, based on the number of CPUs, GPUs and the amount memory that you've requested.\n"
     ]
    },
    {
     "name": "stdout",
     "output_type": "stream",
     "text": [
      "Submitted batch job 2791710\n"
     ]
    },
    {
     "name": "stderr",
     "output_type": "stream",
     "text": [
      "sbatch: Single-node jobs run on a shared node by default. Add --exclusive if you want to use a node exclusively.\n",
      "sbatch: A full node consists of 32 CPU cores, 229376 MiB of memory and 0 GPUs and can be shared by up to 32 jobs.\n",
      "sbatch: By default shared jobs get 7168 MiB of memory per CPU core, unless explicitly overridden with --mem-per-cpu, --mem-per-gpu or --mem.\n",
      "sbatch: You will be charged for 0.03125 node, based on the number of CPUs, GPUs and the amount memory that you've requested.\n"
     ]
    },
    {
     "name": "stdout",
     "output_type": "stream",
     "text": [
      "Submitted batch job 2791711\n",
      "Submitted batch job 2791712\n"
     ]
    },
    {
     "name": "stderr",
     "output_type": "stream",
     "text": [
      "sbatch: Single-node jobs run on a shared node by default. Add --exclusive if you want to use a node exclusively.\n",
      "sbatch: A full node consists of 32 CPU cores, 229376 MiB of memory and 0 GPUs and can be shared by up to 32 jobs.\n",
      "sbatch: By default shared jobs get 7168 MiB of memory per CPU core, unless explicitly overridden with --mem-per-cpu, --mem-per-gpu or --mem.\n",
      "sbatch: You will be charged for 0.03125 node, based on the number of CPUs, GPUs and the amount memory that you've requested.\n"
     ]
    },
    {
     "name": "stdout",
     "output_type": "stream",
     "text": [
      "Submitted batch job 2791713\n"
     ]
    },
    {
     "name": "stderr",
     "output_type": "stream",
     "text": [
      "sbatch: Single-node jobs run on a shared node by default. Add --exclusive if you want to use a node exclusively.\n",
      "sbatch: A full node consists of 32 CPU cores, 229376 MiB of memory and 0 GPUs and can be shared by up to 32 jobs.\n",
      "sbatch: By default shared jobs get 7168 MiB of memory per CPU core, unless explicitly overridden with --mem-per-cpu, --mem-per-gpu or --mem.\n",
      "sbatch: You will be charged for 0.03125 node, based on the number of CPUs, GPUs and the amount memory that you've requested.\n",
      "sbatch: Single-node jobs run on a shared node by default. Add --exclusive if you want to use a node exclusively.\n",
      "sbatch: A full node consists of 32 CPU cores, 229376 MiB of memory and 0 GPUs and can be shared by up to 32 jobs.\n",
      "sbatch: By default shared jobs get 7168 MiB of memory per CPU core, unless explicitly overridden with --mem-per-cpu, --mem-per-gpu or --mem.\n",
      "sbatch: You will be charged for 0.03125 node, based on the number of CPUs, GPUs and the amount memory that you've requested.\n"
     ]
    },
    {
     "name": "stdout",
     "output_type": "stream",
     "text": [
      "Submitted batch job 2791714\n"
     ]
    },
    {
     "name": "stderr",
     "output_type": "stream",
     "text": [
      "sbatch: Single-node jobs run on a shared node by default. Add --exclusive if you want to use a node exclusively.\n",
      "sbatch: A full node consists of 32 CPU cores, 229376 MiB of memory and 0 GPUs and can be shared by up to 32 jobs.\n",
      "sbatch: By default shared jobs get 7168 MiB of memory per CPU core, unless explicitly overridden with --mem-per-cpu, --mem-per-gpu or --mem.\n",
      "sbatch: You will be charged for 0.03125 node, based on the number of CPUs, GPUs and the amount memory that you've requested.\n"
     ]
    },
    {
     "name": "stdout",
     "output_type": "stream",
     "text": [
      "Submitted batch job 2791715\n",
      "Submitted batch job 2791716\n"
     ]
    },
    {
     "name": "stderr",
     "output_type": "stream",
     "text": [
      "sbatch: Single-node jobs run on a shared node by default. Add --exclusive if you want to use a node exclusively.\n",
      "sbatch: A full node consists of 32 CPU cores, 229376 MiB of memory and 0 GPUs and can be shared by up to 32 jobs.\n",
      "sbatch: By default shared jobs get 7168 MiB of memory per CPU core, unless explicitly overridden with --mem-per-cpu, --mem-per-gpu or --mem.\n",
      "sbatch: You will be charged for 0.03125 node, based on the number of CPUs, GPUs and the amount memory that you've requested.\n",
      "sbatch: Single-node jobs run on a shared node by default. Add --exclusive if you want to use a node exclusively.\n",
      "sbatch: A full node consists of 32 CPU cores, 229376 MiB of memory and 0 GPUs and can be shared by up to 32 jobs.\n",
      "sbatch: By default shared jobs get 7168 MiB of memory per CPU core, unless explicitly overridden with --mem-per-cpu, --mem-per-gpu or --mem.\n",
      "sbatch: You will be charged for 0.03125 node, based on the number of CPUs, GPUs and the amount memory that you've requested.\n"
     ]
    },
    {
     "name": "stdout",
     "output_type": "stream",
     "text": [
      "Submitted batch job 2791717\n",
      "Submitted batch job 2791718\n"
     ]
    },
    {
     "name": "stderr",
     "output_type": "stream",
     "text": [
      "sbatch: Single-node jobs run on a shared node by default. Add --exclusive if you want to use a node exclusively.\n",
      "sbatch: A full node consists of 32 CPU cores, 229376 MiB of memory and 0 GPUs and can be shared by up to 32 jobs.\n",
      "sbatch: By default shared jobs get 7168 MiB of memory per CPU core, unless explicitly overridden with --mem-per-cpu, --mem-per-gpu or --mem.\n",
      "sbatch: You will be charged for 0.03125 node, based on the number of CPUs, GPUs and the amount memory that you've requested.\n",
      "sbatch: Single-node jobs run on a shared node by default. Add --exclusive if you want to use a node exclusively.\n",
      "sbatch: A full node consists of 32 CPU cores, 229376 MiB of memory and 0 GPUs and can be shared by up to 32 jobs.\n",
      "sbatch: By default shared jobs get 7168 MiB of memory per CPU core, unless explicitly overridden with --mem-per-cpu, --mem-per-gpu or --mem.\n",
      "sbatch: You will be charged for 0.03125 node, based on the number of CPUs, GPUs and the amount memory that you've requested.\n"
     ]
    },
    {
     "name": "stdout",
     "output_type": "stream",
     "text": [
      "Submitted batch job 2791719\n",
      "Submitted batch job 2791720\n"
     ]
    },
    {
     "name": "stderr",
     "output_type": "stream",
     "text": [
      "sbatch: Single-node jobs run on a shared node by default. Add --exclusive if you want to use a node exclusively.\n",
      "sbatch: A full node consists of 32 CPU cores, 229376 MiB of memory and 0 GPUs and can be shared by up to 32 jobs.\n",
      "sbatch: By default shared jobs get 7168 MiB of memory per CPU core, unless explicitly overridden with --mem-per-cpu, --mem-per-gpu or --mem.\n",
      "sbatch: You will be charged for 0.03125 node, based on the number of CPUs, GPUs and the amount memory that you've requested.\n",
      "sbatch: Single-node jobs run on a shared node by default. Add --exclusive if you want to use a node exclusively.\n",
      "sbatch: A full node consists of 32 CPU cores, 229376 MiB of memory and 0 GPUs and can be shared by up to 32 jobs.\n",
      "sbatch: By default shared jobs get 7168 MiB of memory per CPU core, unless explicitly overridden with --mem-per-cpu, --mem-per-gpu or --mem.\n",
      "sbatch: You will be charged for 0.03125 node, based on the number of CPUs, GPUs and the amount memory that you've requested.\n"
     ]
    },
    {
     "name": "stdout",
     "output_type": "stream",
     "text": [
      "Submitted batch job 2791721\n"
     ]
    },
    {
     "name": "stderr",
     "output_type": "stream",
     "text": [
      "sbatch: Single-node jobs run on a shared node by default. Add --exclusive if you want to use a node exclusively.\n",
      "sbatch: A full node consists of 32 CPU cores, 229376 MiB of memory and 0 GPUs and can be shared by up to 32 jobs.\n",
      "sbatch: By default shared jobs get 7168 MiB of memory per CPU core, unless explicitly overridden with --mem-per-cpu, --mem-per-gpu or --mem.\n",
      "sbatch: You will be charged for 0.03125 node, based on the number of CPUs, GPUs and the amount memory that you've requested.\n"
     ]
    },
    {
     "name": "stdout",
     "output_type": "stream",
     "text": [
      "Submitted batch job 2791722\n"
     ]
    },
    {
     "name": "stderr",
     "output_type": "stream",
     "text": [
      "sbatch: Single-node jobs run on a shared node by default. Add --exclusive if you want to use a node exclusively.\n",
      "sbatch: A full node consists of 32 CPU cores, 229376 MiB of memory and 0 GPUs and can be shared by up to 32 jobs.\n",
      "sbatch: By default shared jobs get 7168 MiB of memory per CPU core, unless explicitly overridden with --mem-per-cpu, --mem-per-gpu or --mem.\n",
      "sbatch: You will be charged for 0.03125 node, based on the number of CPUs, GPUs and the amount memory that you've requested.\n"
     ]
    },
    {
     "name": "stdout",
     "output_type": "stream",
     "text": [
      "Submitted batch job 2791723\n"
     ]
    },
    {
     "name": "stderr",
     "output_type": "stream",
     "text": [
      "sbatch: Single-node jobs run on a shared node by default. Add --exclusive if you want to use a node exclusively.\n",
      "sbatch: A full node consists of 32 CPU cores, 229376 MiB of memory and 0 GPUs and can be shared by up to 32 jobs.\n",
      "sbatch: By default shared jobs get 7168 MiB of memory per CPU core, unless explicitly overridden with --mem-per-cpu, --mem-per-gpu or --mem.\n",
      "sbatch: You will be charged for 0.03125 node, based on the number of CPUs, GPUs and the amount memory that you've requested.\n"
     ]
    },
    {
     "name": "stdout",
     "output_type": "stream",
     "text": [
      "Submitted batch job 2791725\n"
     ]
    },
    {
     "name": "stderr",
     "output_type": "stream",
     "text": [
      "sbatch: Single-node jobs run on a shared node by default. Add --exclusive if you want to use a node exclusively.\n",
      "sbatch: A full node consists of 32 CPU cores, 229376 MiB of memory and 0 GPUs and can be shared by up to 32 jobs.\n",
      "sbatch: By default shared jobs get 7168 MiB of memory per CPU core, unless explicitly overridden with --mem-per-cpu, --mem-per-gpu or --mem.\n",
      "sbatch: You will be charged for 0.03125 node, based on the number of CPUs, GPUs and the amount memory that you've requested.\n"
     ]
    },
    {
     "name": "stdout",
     "output_type": "stream",
     "text": [
      "Submitted batch job 2791726\n",
      "Submitted batch job 2791727\n"
     ]
    },
    {
     "name": "stderr",
     "output_type": "stream",
     "text": [
      "sbatch: Single-node jobs run on a shared node by default. Add --exclusive if you want to use a node exclusively.\n",
      "sbatch: A full node consists of 32 CPU cores, 229376 MiB of memory and 0 GPUs and can be shared by up to 32 jobs.\n",
      "sbatch: By default shared jobs get 7168 MiB of memory per CPU core, unless explicitly overridden with --mem-per-cpu, --mem-per-gpu or --mem.\n",
      "sbatch: You will be charged for 0.03125 node, based on the number of CPUs, GPUs and the amount memory that you've requested.\n"
     ]
    }
   ],
   "source": [
    "run_parallel_transfer(\n",
    "    \"from_drop.py\",\n",
    "    [directory_targ],\n",
    "    folders_drop,\n",
    "    1,\n",
    "    \"10:00:00\",\n",
    "    \"transfer_test\"\n",
    ")\n"
   ]
  },
  {
   "cell_type": "code",
   "execution_count": 93,
   "id": "65a4cc3d",
   "metadata": {},
   "outputs": [
    {
     "name": "stdout",
     "output_type": "stream",
     "text": [
      "2023-05-24 12:03:44,265-[INFO]- dropbox:390 -> Refreshing access token.\n",
      "2023-05-24 12:03:44,412-[INFO]- dropbox:474 -> Request to files/download\n"
     ]
    }
   ],
   "source": [
    "for xl_adress in excel_drop:\n",
    "    file_name = xl_adress.split('/')[-1]\n",
    "    \n",
    "    download(xl_adress, directory_targ+file_name)"
   ]
  },
  {
   "cell_type": "code",
   "execution_count": null,
   "id": "7a49f377",
   "metadata": {},
   "outputs": [],
   "source": []
  }
 ],
 "metadata": {
  "kernelspec": {
   "display_name": "Python 3 (ipykernel)",
   "language": "python",
   "name": "python3"
  },
  "language_info": {
   "codemirror_mode": {
    "name": "ipython",
    "version": 3
   },
   "file_extension": ".py",
   "mimetype": "text/x-python",
   "name": "python",
   "nbconvert_exporter": "python",
   "pygments_lexer": "ipython3",
   "version": "3.9.5"
  }
 },
 "nbformat": 4,
 "nbformat_minor": 5
}

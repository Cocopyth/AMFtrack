{
 "cells": [
  {
   "cell_type": "code",
   "execution_count": 1,
   "id": "95be08ff",
   "metadata": {},
   "outputs": [
    {
     "name": "stderr",
     "output_type": "stream",
     "text": [
      "/gpfs/home6/svstaalduine/AMF_project/amftrack/util/dbx.py:3: TqdmExperimentalWarning: Using `tqdm.autonotebook.tqdm` in notebook mode. Use `tqdm.tqdm` instead to force console mode (e.g. in jupyter console)\n",
      "  from tqdm.autonotebook import tqdm\n"
     ]
    },
    {
     "name": "stdout",
     "output_type": "stream",
     "text": [
      "/gpfs/scratch1/shared/amftrackflow/temp\n"
     ]
    }
   ],
   "source": [
    "%matplotlib widget\n",
    "%load_ext autoreload\n",
    "%autoreload 2\n",
    "from IPython.display import clear_output\n",
    "import os\n",
    "import sys\n",
    "\n",
    "# sys.path.insert(0, os.getenv('HOME')+'/pycode/MscThesis/')\n",
    "# sys.path.insert(0,r'C:\\Users\\coren\\Documents\\PhD\\Code\\AMFtrack')\n",
    "\n",
    "import pandas as pd\n",
    "from amftrack.util.sys import (\n",
    "    get_dates_datetime,\n",
    "    get_dirname,\n",
    "    temp_path,\n",
    "    get_data_info,\n",
    "    update_plate_info,\n",
    "    get_current_folders,\n",
    "    get_folders_by_plate_id,\n",
    ")\n",
    "\n",
    "\n",
    "import ast\n",
    "from amftrack.plotutil import plot_t_tp1\n",
    "from scipy import sparse\n",
    "from datetime import datetime\n",
    "import pickle\n",
    "import scipy.io as sio\n",
    "from pymatreader import read_mat\n",
    "from matplotlib import colors\n",
    "import cv2\n",
    "import imageio\n",
    "import matplotlib.pyplot as plt\n",
    "import numpy as np\n",
    "from skimage.filters import frangi\n",
    "from skimage import filters\n",
    "from random import choice\n",
    "import scipy.sparse\n",
    "import os\n",
    "from amftrack.pipeline.functions.image_processing.extract_graph import (\n",
    "    from_sparse_to_graph,\n",
    "    generate_nx_graph,\n",
    "    sparse_to_doc,\n",
    ")\n",
    "from skimage.feature import hessian_matrix_det\n",
    "\n",
    "# from amftrack.pipeline.functions.image_processing.experiment_class_surf import Experiment\n",
    "from amftrack.pipeline.launching.run import (\n",
    "    run_transfer,\n",
    ")\n",
    "from amftrack.pipeline.launching.run_super import run_parallel_transfer\n",
    "\n",
    "import dropbox\n",
    "from amftrack.util.dbx import upload_folders, download, read_saved_dropbox_state, save_dropbox_state, load_dbx, download, get_dropbox_folders, get_dropbox_video_folders\n",
    "from subprocess import call\n",
    "import logging\n",
    "\n",
    "logging.basicConfig(stream=sys.stdout, level=logging.debug)"
   ]
  },
  {
   "cell_type": "markdown",
   "id": "037f25a3",
   "metadata": {},
   "source": [
    "**To transfer data from dropbox to surfsara**\n",
    "- select the folders of interest within the folders of dropbox"
   ]
  },
  {
   "cell_type": "code",
   "execution_count": 4,
   "id": "741b6a21",
   "metadata": {
    "scrolled": true
   },
   "outputs": [
    {
     "data": {
      "text/html": [
       "<div>\n",
       "<style scoped>\n",
       "    .dataframe tbody tr th:only-of-type {\n",
       "        vertical-align: middle;\n",
       "    }\n",
       "\n",
       "    .dataframe tbody tr th {\n",
       "        vertical-align: top;\n",
       "    }\n",
       "\n",
       "    .dataframe thead th {\n",
       "        text-align: right;\n",
       "    }\n",
       "</style>\n",
       "<table border=\"1\" class=\"dataframe\">\n",
       "  <thead>\n",
       "    <tr style=\"text-align: right;\">\n",
       "      <th></th>\n",
       "      <th>folder</th>\n",
       "      <th>Plate number</th>\n",
       "      <th>Date Imaged</th>\n",
       "      <th>tot_path_drop</th>\n",
       "      <th>video</th>\n",
       "    </tr>\n",
       "  </thead>\n",
       "  <tbody>\n",
       "    <tr>\n",
       "      <th>0</th>\n",
       "      <td>20230123_Plate530_001</td>\n",
       "      <td>530</td>\n",
       "      <td>20230123</td>\n",
       "      <td>DATA/FLUORESCENCE/DATA_NileRed/20230123_Plate5...</td>\n",
       "      <td>1</td>\n",
       "    </tr>\n",
       "    <tr>\n",
       "      <th>1</th>\n",
       "      <td>20230123_Plate530_002</td>\n",
       "      <td>530</td>\n",
       "      <td>20230123</td>\n",
       "      <td>DATA/FLUORESCENCE/DATA_NileRed/20230123_Plate5...</td>\n",
       "      <td>2</td>\n",
       "    </tr>\n",
       "    <tr>\n",
       "      <th>2</th>\n",
       "      <td>20230123_Plate530_003</td>\n",
       "      <td>530</td>\n",
       "      <td>20230123</td>\n",
       "      <td>DATA/FLUORESCENCE/DATA_NileRed/20230123_Plate5...</td>\n",
       "      <td>3</td>\n",
       "    </tr>\n",
       "    <tr>\n",
       "      <th>3</th>\n",
       "      <td>20230123_Plate530_004</td>\n",
       "      <td>530</td>\n",
       "      <td>20230123</td>\n",
       "      <td>DATA/FLUORESCENCE/DATA_NileRed/20230123_Plate5...</td>\n",
       "      <td>4</td>\n",
       "    </tr>\n",
       "    <tr>\n",
       "      <th>4</th>\n",
       "      <td>20230123_Plate530_005</td>\n",
       "      <td>530</td>\n",
       "      <td>20230123</td>\n",
       "      <td>DATA/FLUORESCENCE/DATA_NileRed/20230123_Plate5...</td>\n",
       "      <td>5</td>\n",
       "    </tr>\n",
       "    <tr>\n",
       "      <th>...</th>\n",
       "      <td>...</td>\n",
       "      <td>...</td>\n",
       "      <td>...</td>\n",
       "      <td>...</td>\n",
       "      <td>...</td>\n",
       "    </tr>\n",
       "    <tr>\n",
       "      <th>800</th>\n",
       "      <td>20230201_Plate558_37</td>\n",
       "      <td>558</td>\n",
       "      <td>20230201</td>\n",
       "      <td>DATA/FLUORESCENCE/DATA_NileRed/20230201_Plate5...</td>\n",
       "      <td>37</td>\n",
       "    </tr>\n",
       "    <tr>\n",
       "      <th>801</th>\n",
       "      <td>20230201_Plate558_38</td>\n",
       "      <td>558</td>\n",
       "      <td>20230201</td>\n",
       "      <td>DATA/FLUORESCENCE/DATA_NileRed/20230201_Plate5...</td>\n",
       "      <td>38</td>\n",
       "    </tr>\n",
       "    <tr>\n",
       "      <th>802</th>\n",
       "      <td>20230201_Plate558_39</td>\n",
       "      <td>558</td>\n",
       "      <td>20230201</td>\n",
       "      <td>DATA/FLUORESCENCE/DATA_NileRed/20230201_Plate5...</td>\n",
       "      <td>39</td>\n",
       "    </tr>\n",
       "    <tr>\n",
       "      <th>803</th>\n",
       "      <td>20230201_Plate558_40</td>\n",
       "      <td>558</td>\n",
       "      <td>20230201</td>\n",
       "      <td>DATA/FLUORESCENCE/DATA_NileRed/20230201_Plate5...</td>\n",
       "      <td>40</td>\n",
       "    </tr>\n",
       "    <tr>\n",
       "      <th>804</th>\n",
       "      <td>20230201_Plate558_41</td>\n",
       "      <td>558</td>\n",
       "      <td>20230201</td>\n",
       "      <td>DATA/FLUORESCENCE/DATA_NileRed/20230201_Plate5...</td>\n",
       "      <td>41</td>\n",
       "    </tr>\n",
       "  </tbody>\n",
       "</table>\n",
       "<p>805 rows × 5 columns</p>\n",
       "</div>"
      ],
      "text/plain": [
       "                    folder  Plate number  Date Imaged  \\\n",
       "0    20230123_Plate530_001           530     20230123   \n",
       "1    20230123_Plate530_002           530     20230123   \n",
       "2    20230123_Plate530_003           530     20230123   \n",
       "3    20230123_Plate530_004           530     20230123   \n",
       "4    20230123_Plate530_005           530     20230123   \n",
       "..                     ...           ...          ...   \n",
       "800   20230201_Plate558_37           558     20230201   \n",
       "801   20230201_Plate558_38           558     20230201   \n",
       "802   20230201_Plate558_39           558     20230201   \n",
       "803   20230201_Plate558_40           558     20230201   \n",
       "804   20230201_Plate558_41           558     20230201   \n",
       "\n",
       "                                         tot_path_drop  video  \n",
       "0    DATA/FLUORESCENCE/DATA_NileRed/20230123_Plate5...      1  \n",
       "1    DATA/FLUORESCENCE/DATA_NileRed/20230123_Plate5...      2  \n",
       "2    DATA/FLUORESCENCE/DATA_NileRed/20230123_Plate5...      3  \n",
       "3    DATA/FLUORESCENCE/DATA_NileRed/20230123_Plate5...      4  \n",
       "4    DATA/FLUORESCENCE/DATA_NileRed/20230123_Plate5...      5  \n",
       "..                                                 ...    ...  \n",
       "800  DATA/FLUORESCENCE/DATA_NileRed/20230201_Plate5...     37  \n",
       "801  DATA/FLUORESCENCE/DATA_NileRed/20230201_Plate5...     38  \n",
       "802  DATA/FLUORESCENCE/DATA_NileRed/20230201_Plate5...     39  \n",
       "803  DATA/FLUORESCENCE/DATA_NileRed/20230201_Plate5...     40  \n",
       "804  DATA/FLUORESCENCE/DATA_NileRed/20230201_Plate5...     41  \n",
       "\n",
       "[805 rows x 5 columns]"
      ]
     },
     "execution_count": 4,
     "metadata": {},
     "output_type": "execute_result"
    }
   ],
   "source": [
    "directory_targ = \"/gpfs/scratch1/shared/amftrackflow/Rachael_set/\"\n",
    "\n",
    "if not os.path.exists(directory_targ):\n",
    "    os.makedirs(directory_targ)\n",
    "    \n",
    "### IS THIS RACHAEL'S DATASET OR SOMEONE WHO HAS VIDEOINFO.TXT IN THEIR FOLDER???\n",
    "\n",
    "all_folders_drop, excel_drop, txt_drop = get_dropbox_video_folders(\"/DATA/FLUORESCENCE/DATA_NileRed/\", True)\n",
    "\n",
    "# folders_drop = all_folders_drop.loc[all_folders_drop[\"Plate number\"] == \"452\"]\n",
    "all_folders_drop = pd.read_json(\"/gpfs/home6/svstaalduine/dropbox_file_structure/data_nile_red.json\")\n",
    "\n",
    "clear_output(wait=False)\n",
    "\n",
    "all_folders_drop"
   ]
  },
  {
   "cell_type": "code",
   "execution_count": 13,
   "id": "2ab21ced",
   "metadata": {
    "scrolled": false
   },
   "outputs": [],
   "source": [
    "# directory_targ = \"/gpfs/scratch1/shared/amftrackflow/Rachael_dataset/\"\n",
    "# all_folders_drop.to_json(\"/gpfs/home6/svstaalduine/dropbox_file_structure/data_nile_red.json\")\n",
    "\n",
    "# save_dropbox_state(\"/DATA/FLUORESCENCE/DATA_NileRed/20230201_Plate552/\", is_video=True)\n",
    "\n",
    "folders_drop = all_folders_drop\n",
    "folders_drop = folders_drop.loc[folders_drop[\"Plate number\"] == 532]\n",
    "folders_drop = folders_drop.loc[folders_drop[\"video\"] == 15]"
   ]
  },
  {
   "cell_type": "code",
   "execution_count": 14,
   "id": "fac44fcd",
   "metadata": {},
   "outputs": [],
   "source": [
    "folders_drop = folders_drop.sort_values(by=['folder'], ignore_index=True)\n",
    "# folders_drop[\"folder\"] = [os.path.relpath(entry, \"DATA/FLUORESCENCE/DATA_NileRed/\") for entry in folders_drop[\"tot_path_drop\"]]\n",
    "folders_drop[\"video\"]  = [entry.split('_')[-1] for entry in folders_drop[\"tot_path_drop\"]]\n",
    "folders_drop[\"folder\"] = [f\"{entry.split('/')[-3]}/{entry.split('_')[-1]}/Img\" for entry in folders_drop[\"tot_path_drop\"]]\n",
    "\n",
    "# folders_drop = folders_drop.loc[folders_drop[\"video\"] == \"005\"]"
   ]
  },
  {
   "cell_type": "code",
   "execution_count": 15,
   "id": "b1d6ad96",
   "metadata": {},
   "outputs": [
    {
     "name": "stdout",
     "output_type": "stream",
     "text": [
      "/gpfs/scratch1/shared/amftrackflow/Rachael_set/\n",
      "DATA/FLUORESCENCE/DATA_NileRed/20230125_Plate532/DATA/20230125_Plate532_15\n",
      "[20230125]\n"
     ]
    },
    {
     "data": {
      "text/html": [
       "<div>\n",
       "<style scoped>\n",
       "    .dataframe tbody tr th:only-of-type {\n",
       "        vertical-align: middle;\n",
       "    }\n",
       "\n",
       "    .dataframe tbody tr th {\n",
       "        vertical-align: top;\n",
       "    }\n",
       "\n",
       "    .dataframe thead th {\n",
       "        text-align: right;\n",
       "    }\n",
       "</style>\n",
       "<table border=\"1\" class=\"dataframe\">\n",
       "  <thead>\n",
       "    <tr style=\"text-align: right;\">\n",
       "      <th></th>\n",
       "      <th>folder</th>\n",
       "      <th>Plate number</th>\n",
       "      <th>Date Imaged</th>\n",
       "      <th>tot_path_drop</th>\n",
       "      <th>video</th>\n",
       "    </tr>\n",
       "  </thead>\n",
       "  <tbody>\n",
       "    <tr>\n",
       "      <th>0</th>\n",
       "      <td>20230125_Plate532/15/Img</td>\n",
       "      <td>532</td>\n",
       "      <td>20230125</td>\n",
       "      <td>DATA/FLUORESCENCE/DATA_NileRed/20230125_Plate5...</td>\n",
       "      <td>15</td>\n",
       "    </tr>\n",
       "  </tbody>\n",
       "</table>\n",
       "</div>"
      ],
      "text/plain": [
       "                     folder  Plate number  Date Imaged  \\\n",
       "0  20230125_Plate532/15/Img           532     20230125   \n",
       "\n",
       "                                       tot_path_drop video  \n",
       "0  DATA/FLUORESCENCE/DATA_NileRed/20230125_Plate5...    15  "
      ]
     },
     "execution_count": 15,
     "metadata": {},
     "output_type": "execute_result"
    }
   ],
   "source": [
    "# FINAL CHECK\n",
    "\n",
    "print(directory_targ)\n",
    "print(folders_drop[\"tot_path_drop\"].iloc[0])\n",
    "print(folders_drop[\"Date Imaged\"].unique())\n",
    "folders_drop"
   ]
  },
  {
   "cell_type": "code",
   "execution_count": 16,
   "id": "6fd95d98",
   "metadata": {
    "scrolled": true
   },
   "outputs": [
    {
     "name": "stderr",
     "output_type": "stream",
     "text": [
      "sbatch: Single-node jobs run on a shared node by default. Add --exclusive if you want to use a node exclusively.\n",
      "sbatch: A full node consists of 32 CPU cores, 229376 MiB of memory and 0 GPUs and can be shared by up to 32 jobs.\n",
      "sbatch: By default shared jobs get 7168 MiB of memory per CPU core, unless explicitly overridden with --mem-per-cpu, --mem-per-gpu or --mem.\n",
      "sbatch: You will be charged for 0.03125 node, based on the number of CPUs, GPUs and the amount memory that you've requested.\n"
     ]
    },
    {
     "name": "stdout",
     "output_type": "stream",
     "text": [
      "Submitted batch job 2945616\n",
      "Submitted batch job 2945617\n"
     ]
    },
    {
     "name": "stderr",
     "output_type": "stream",
     "text": [
      "sbatch: Single-node jobs run on a shared node by default. Add --exclusive if you want to use a node exclusively.\n",
      "sbatch: A full node consists of 32 CPU cores, 229376 MiB of memory and 0 GPUs and can be shared by up to 32 jobs.\n",
      "sbatch: By default shared jobs get 7168 MiB of memory per CPU core, unless explicitly overridden with --mem-per-cpu, --mem-per-gpu or --mem.\n",
      "sbatch: You will be charged for 0.03125 node, based on the number of CPUs, GPUs and the amount memory that you've requested.\n"
     ]
    }
   ],
   "source": [
    "run_parallel_transfer(\n",
    "    \"from_drop.py\",\n",
    "    [directory_targ],\n",
    "    folders_drop,\n",
    "    1,\n",
    "    \"10:00:00\",\n",
    "    \"transfer_test\"\n",
    ")\n"
   ]
  },
  {
   "cell_type": "code",
   "execution_count": 73,
   "id": "65a4cc3d",
   "metadata": {},
   "outputs": [
    {
     "name": "stdout",
     "output_type": "stream",
     "text": [
      "e462\n",
      "2023-06-16 23:29:45,748-[INFO]- dropbox:390 -> Refreshing access token.\n",
      "2023-06-16 23:29:45,909-[INFO]- dropbox:474 -> Request to files/download\n",
      "e530\n",
      "2023-06-16 23:29:46,436-[INFO]- dropbox:390 -> Refreshing access token.\n",
      "2023-06-16 23:29:46,622-[INFO]- dropbox:474 -> Request to files/download\n",
      "e462\n",
      "2023-06-16 23:29:47,015-[INFO]- dropbox:390 -> Refreshing access token.\n",
      "2023-06-16 23:29:47,163-[INFO]- dropbox:474 -> Request to files/download\n",
      "e545\n",
      "2023-06-16 23:29:47,528-[INFO]- dropbox:390 -> Refreshing access token.\n",
      "2023-06-16 23:29:47,698-[INFO]- dropbox:474 -> Request to files/download\n",
      "e510\n",
      "2023-06-16 23:29:48,399-[INFO]- dropbox:390 -> Refreshing access token.\n",
      "2023-06-16 23:29:48,549-[INFO]- dropbox:474 -> Request to files/download\n",
      "e452\n",
      "2023-06-16 23:29:48,969-[INFO]- dropbox:390 -> Refreshing access token.\n",
      "2023-06-16 23:29:49,133-[INFO]- dropbox:474 -> Request to files/download\n",
      "e452\n",
      "2023-06-16 23:29:49,676-[INFO]- dropbox:390 -> Refreshing access token.\n",
      "2023-06-16 23:29:49,826-[INFO]- dropbox:474 -> Request to files/download\n",
      "e537\n",
      "2023-06-16 23:29:50,320-[INFO]- dropbox:390 -> Refreshing access token.\n",
      "2023-06-16 23:29:50,614-[INFO]- dropbox:474 -> Request to files/download\n",
      "2_NR\n",
      "2023-06-16 23:29:51,019-[INFO]- dropbox:390 -> Refreshing access token.\n",
      "2023-06-16 23:29:51,178-[INFO]- dropbox:474 -> Request to files/download\n",
      "7_NR\n",
      "2023-06-16 23:29:51,803-[INFO]- dropbox:390 -> Refreshing access token.\n",
      "2023-06-16 23:29:51,954-[INFO]- dropbox:474 -> Request to files/download\n",
      "8_NR\n",
      "2023-06-16 23:29:52,474-[INFO]- dropbox:390 -> Refreshing access token.\n",
      "2023-06-16 23:29:52,632-[INFO]- dropbox:474 -> Request to files/download\n",
      "2_NR\n",
      "2023-06-16 23:29:52,979-[INFO]- dropbox:390 -> Refreshing access token.\n",
      "2023-06-16 23:29:53,154-[INFO]- dropbox:474 -> Request to files/download\n",
      "8_NR\n",
      "2023-06-16 23:29:54,158-[INFO]- dropbox:390 -> Refreshing access token.\n",
      "2023-06-16 23:29:54,349-[INFO]- dropbox:474 -> Request to files/download\n"
     ]
    }
   ],
   "source": [
    "# print(excel_drop)\n",
    "for xl_adress in excel_drop:\n",
    "    file_name = f\"{xl_adress.split('/')[-2]}/{xl_adress.split('/')[-1]}\"\n",
    "    if file_name.split(\".\")[-2][-4:] == 'data':\n",
    "        continue\n",
    "    print(file_name.split(\".\")[-2][-4:])\n",
    "\n",
    "    download(xl_adress, directory_targ+file_name)"
   ]
  },
  {
   "cell_type": "code",
   "execution_count": null,
   "id": "7a49f377",
   "metadata": {},
   "outputs": [],
   "source": []
  }
 ],
 "metadata": {
  "kernelspec": {
   "display_name": "Python 3 (ipykernel)",
   "language": "python",
   "name": "python3"
  },
  "language_info": {
   "codemirror_mode": {
    "name": "ipython",
    "version": 3
   },
   "file_extension": ".py",
   "mimetype": "text/x-python",
   "name": "python",
   "nbconvert_exporter": "python",
   "pygments_lexer": "ipython3",
   "version": "3.9.5"
  }
 },
 "nbformat": 4,
 "nbformat_minor": 5
}

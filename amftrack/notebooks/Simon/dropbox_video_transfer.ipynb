{
 "cells": [
  {
   "cell_type": "code",
   "execution_count": 1,
   "id": "95be08ff",
   "metadata": {},
   "outputs": [
    {
     "name": "stderr",
     "output_type": "stream",
     "text": [
      "/gpfs/home6/svstaalduine/AMF_project/amftrack/util/dbx.py:3: TqdmExperimentalWarning: Using `tqdm.autonotebook.tqdm` in notebook mode. Use `tqdm.tqdm` instead to force console mode (e.g. in jupyter console)\n",
      "  from tqdm.autonotebook import tqdm\n"
     ]
    },
    {
     "name": "stdout",
     "output_type": "stream",
     "text": [
      "/gpfs/scratch1/shared/amftrackflow/temp\n"
     ]
    }
   ],
   "source": [
    "%matplotlib widget\n",
    "%load_ext autoreload\n",
    "%autoreload 2\n",
    "from IPython.display import clear_output\n",
    "import os\n",
    "import sys\n",
    "\n",
    "# sys.path.insert(0, os.getenv('HOME')+'/pycode/MscThesis/')\n",
    "# sys.path.insert(0,r'C:\\Users\\coren\\Documents\\PhD\\Code\\AMFtrack')\n",
    "\n",
    "import pandas as pd\n",
    "from amftrack.util.sys import (\n",
    "    get_dates_datetime,\n",
    "    get_dirname,\n",
    "    temp_path,\n",
    "    get_data_info,\n",
    "    update_plate_info,\n",
    "    get_current_folders,\n",
    "    get_folders_by_plate_id,\n",
    ")\n",
    "\n",
    "\n",
    "import ast\n",
    "from amftrack.plotutil import plot_t_tp1\n",
    "from scipy import sparse\n",
    "from datetime import datetime\n",
    "import pickle\n",
    "import scipy.io as sio\n",
    "from pymatreader import read_mat\n",
    "from matplotlib import colors\n",
    "import cv2\n",
    "import imageio\n",
    "import matplotlib.pyplot as plt\n",
    "import numpy as np\n",
    "from skimage.filters import frangi\n",
    "from skimage import filters\n",
    "from random import choice\n",
    "import scipy.sparse\n",
    "import os\n",
    "from amftrack.pipeline.functions.image_processing.extract_graph import (\n",
    "    from_sparse_to_graph,\n",
    "    generate_nx_graph,\n",
    "    sparse_to_doc,\n",
    ")\n",
    "from skimage.feature import hessian_matrix_det\n",
    "\n",
    "# from amftrack.pipeline.functions.image_processing.experiment_class_surf import Experiment\n",
    "from amftrack.pipeline.launching.run import (\n",
    "    run_transfer,\n",
    ")\n",
    "from amftrack.pipeline.launching.run_super import run_parallel_transfer\n",
    "\n",
    "import dropbox\n",
    "from amftrack.util.dbx import upload_folders, download, read_saved_dropbox_state, save_dropbox_state, load_dbx, download, get_dropbox_folders, get_dropbox_video_folders\n",
    "from subprocess import call\n",
    "import logging\n",
    "\n",
    "logging.basicConfig(stream=sys.stdout, level=logging.debug)"
   ]
  },
  {
   "cell_type": "markdown",
   "id": "037f25a3",
   "metadata": {},
   "source": [
    "**To transfer data from dropbox to surfsara**\n",
    "- select the folders of interest within the folders of dropbox"
   ]
  },
  {
   "cell_type": "code",
   "execution_count": 2,
   "id": "741b6a21",
   "metadata": {
    "scrolled": true
   },
   "outputs": [
    {
     "data": {
      "text/html": [
       "<div>\n",
       "<style scoped>\n",
       "    .dataframe tbody tr th:only-of-type {\n",
       "        vertical-align: middle;\n",
       "    }\n",
       "\n",
       "    .dataframe tbody tr th {\n",
       "        vertical-align: top;\n",
       "    }\n",
       "\n",
       "    .dataframe thead th {\n",
       "        text-align: right;\n",
       "    }\n",
       "</style>\n",
       "<table border=\"1\" class=\"dataframe\">\n",
       "  <thead>\n",
       "    <tr style=\"text-align: right;\">\n",
       "      <th></th>\n",
       "      <th>folder</th>\n",
       "      <th>Plate number</th>\n",
       "      <th>Date Imaged</th>\n",
       "      <th>tot_path_drop</th>\n",
       "      <th>video</th>\n",
       "    </tr>\n",
       "  </thead>\n",
       "  <tbody>\n",
       "    <tr>\n",
       "      <th>0</th>\n",
       "      <td>20220118_Plate537_001</td>\n",
       "      <td>537</td>\n",
       "      <td>20230118</td>\n",
       "      <td>DATA/FLUORESCENCE/DATA_NileRed/20230118_Plate5...</td>\n",
       "      <td>001</td>\n",
       "    </tr>\n",
       "    <tr>\n",
       "      <th>1</th>\n",
       "      <td>20220118_Plate537_002</td>\n",
       "      <td>537</td>\n",
       "      <td>20230118</td>\n",
       "      <td>DATA/FLUORESCENCE/DATA_NileRed/20230118_Plate5...</td>\n",
       "      <td>002</td>\n",
       "    </tr>\n",
       "    <tr>\n",
       "      <th>2</th>\n",
       "      <td>20220118_Plate537_003</td>\n",
       "      <td>537</td>\n",
       "      <td>20230118</td>\n",
       "      <td>DATA/FLUORESCENCE/DATA_NileRed/20230118_Plate5...</td>\n",
       "      <td>003</td>\n",
       "    </tr>\n",
       "    <tr>\n",
       "      <th>3</th>\n",
       "      <td>20220118_Plate537_004</td>\n",
       "      <td>537</td>\n",
       "      <td>20230118</td>\n",
       "      <td>DATA/FLUORESCENCE/DATA_NileRed/20230118_Plate5...</td>\n",
       "      <td>004</td>\n",
       "    </tr>\n",
       "    <tr>\n",
       "      <th>4</th>\n",
       "      <td>20220118_Plate537_005</td>\n",
       "      <td>537</td>\n",
       "      <td>20230118</td>\n",
       "      <td>DATA/FLUORESCENCE/DATA_NileRed/20230118_Plate5...</td>\n",
       "      <td>005</td>\n",
       "    </tr>\n",
       "    <tr>\n",
       "      <th>...</th>\n",
       "      <td>...</td>\n",
       "      <td>...</td>\n",
       "      <td>...</td>\n",
       "      <td>...</td>\n",
       "      <td>...</td>\n",
       "    </tr>\n",
       "    <tr>\n",
       "      <th>84</th>\n",
       "      <td>20220118_Plate537_086</td>\n",
       "      <td>537</td>\n",
       "      <td>20230118</td>\n",
       "      <td>DATA/FLUORESCENCE/DATA_NileRed/20230118_Plate5...</td>\n",
       "      <td>086</td>\n",
       "    </tr>\n",
       "    <tr>\n",
       "      <th>85</th>\n",
       "      <td>20220118_Plate537_087</td>\n",
       "      <td>537</td>\n",
       "      <td>20230118</td>\n",
       "      <td>DATA/FLUORESCENCE/DATA_NileRed/20230118_Plate5...</td>\n",
       "      <td>087</td>\n",
       "    </tr>\n",
       "    <tr>\n",
       "      <th>86</th>\n",
       "      <td>20220118_Plate537_088</td>\n",
       "      <td>537</td>\n",
       "      <td>20230118</td>\n",
       "      <td>DATA/FLUORESCENCE/DATA_NileRed/20230118_Plate5...</td>\n",
       "      <td>088</td>\n",
       "    </tr>\n",
       "    <tr>\n",
       "      <th>87</th>\n",
       "      <td>20220118_Plate537_089</td>\n",
       "      <td>537</td>\n",
       "      <td>20230118</td>\n",
       "      <td>DATA/FLUORESCENCE/DATA_NileRed/20230118_Plate5...</td>\n",
       "      <td>089</td>\n",
       "    </tr>\n",
       "    <tr>\n",
       "      <th>88</th>\n",
       "      <td>20220118_Plate537_049</td>\n",
       "      <td>537</td>\n",
       "      <td>20230118</td>\n",
       "      <td>DATA/FLUORESCENCE/DATA_NileRed/20230118_Plate5...</td>\n",
       "      <td>049</td>\n",
       "    </tr>\n",
       "  </tbody>\n",
       "</table>\n",
       "<p>89 rows × 5 columns</p>\n",
       "</div>"
      ],
      "text/plain": [
       "                   folder Plate number Date Imaged  \\\n",
       "0   20220118_Plate537_001          537    20230118   \n",
       "1   20220118_Plate537_002          537    20230118   \n",
       "2   20220118_Plate537_003          537    20230118   \n",
       "3   20220118_Plate537_004          537    20230118   \n",
       "4   20220118_Plate537_005          537    20230118   \n",
       "..                    ...          ...         ...   \n",
       "84  20220118_Plate537_086          537    20230118   \n",
       "85  20220118_Plate537_087          537    20230118   \n",
       "86  20220118_Plate537_088          537    20230118   \n",
       "87  20220118_Plate537_089          537    20230118   \n",
       "88  20220118_Plate537_049          537    20230118   \n",
       "\n",
       "                                        tot_path_drop video  \n",
       "0   DATA/FLUORESCENCE/DATA_NileRed/20230118_Plate5...   001  \n",
       "1   DATA/FLUORESCENCE/DATA_NileRed/20230118_Plate5...   002  \n",
       "2   DATA/FLUORESCENCE/DATA_NileRed/20230118_Plate5...   003  \n",
       "3   DATA/FLUORESCENCE/DATA_NileRed/20230118_Plate5...   004  \n",
       "4   DATA/FLUORESCENCE/DATA_NileRed/20230118_Plate5...   005  \n",
       "..                                                ...   ...  \n",
       "84  DATA/FLUORESCENCE/DATA_NileRed/20230118_Plate5...   086  \n",
       "85  DATA/FLUORESCENCE/DATA_NileRed/20230118_Plate5...   087  \n",
       "86  DATA/FLUORESCENCE/DATA_NileRed/20230118_Plate5...   088  \n",
       "87  DATA/FLUORESCENCE/DATA_NileRed/20230118_Plate5...   089  \n",
       "88  DATA/FLUORESCENCE/DATA_NileRed/20230118_Plate5...   049  \n",
       "\n",
       "[89 rows x 5 columns]"
      ]
     },
     "execution_count": 2,
     "metadata": {},
     "output_type": "execute_result"
    }
   ],
   "source": [
    "directory_targ = \"/gpfs/scratch1/shared/amftrackflow/Drp_downs/20230118_Plate537/\"\n",
    "\n",
    "if not os.path.exists(directory_targ):\n",
    "    os.makedirs(directory_targ)\n",
    "\n",
    "all_folders_drop, excel_drop = get_dropbox_video_folders(\"/DATA/FLUORESCENCE/DATA_NileRed/20230118_Plate537/DATA/\", True)\n",
    "# folders_drop = all_folders_drop.loc[all_folders_drop[\"Plate number\"] == \"452\"]\n",
    "# all_folders_drop = pd.read_json(\"/gpfs/home6/svstaalduine/dropbox_file_structure/data_nile_red.json\")\n",
    "\n",
    "clear_output(wait=False)\n",
    "\n",
    "all_folders_drop"
   ]
  },
  {
   "cell_type": "code",
   "execution_count": 14,
   "id": "2ab21ced",
   "metadata": {
    "scrolled": false
   },
   "outputs": [],
   "source": [
    "# directory_targ = \"/gpfs/scratch1/shared/amftrackflow/Rachael_dataset/\"\n",
    "# all_folders_drop.to_json(\"/gpfs/home6/svstaalduine/dropbox_file_structure/data_nile_red.json\")\n",
    "\n",
    "# save_dropbox_state(\"/DATA/FLUORESCENCE/DATA_NileRed/20230201_Plate552/\", is_video=True)\n",
    "\n",
    "folders_drop = all_folders_drop.loc[all_folders_drop[\"Plate number\"].ge(\"452\")]\n",
    "folders_drop = folders_drop.loc[folders_drop[\"video\"] == \"084\"]"
   ]
  },
  {
   "cell_type": "code",
   "execution_count": 15,
   "id": "fac44fcd",
   "metadata": {},
   "outputs": [],
   "source": [
    "folders_drop = folders_drop.sort_values(by=['folder'])"
   ]
  },
  {
   "cell_type": "code",
   "execution_count": 16,
   "id": "b1d6ad96",
   "metadata": {},
   "outputs": [
    {
     "name": "stdout",
     "output_type": "stream",
     "text": [
      "/gpfs/scratch1/shared/amftrackflow/Drp_downs/20230118_Plate537/\n"
     ]
    },
    {
     "data": {
      "text/html": [
       "<div>\n",
       "<style scoped>\n",
       "    .dataframe tbody tr th:only-of-type {\n",
       "        vertical-align: middle;\n",
       "    }\n",
       "\n",
       "    .dataframe tbody tr th {\n",
       "        vertical-align: top;\n",
       "    }\n",
       "\n",
       "    .dataframe thead th {\n",
       "        text-align: right;\n",
       "    }\n",
       "</style>\n",
       "<table border=\"1\" class=\"dataframe\">\n",
       "  <thead>\n",
       "    <tr style=\"text-align: right;\">\n",
       "      <th></th>\n",
       "      <th>folder</th>\n",
       "      <th>Plate number</th>\n",
       "      <th>Date Imaged</th>\n",
       "      <th>tot_path_drop</th>\n",
       "      <th>video</th>\n",
       "    </tr>\n",
       "  </thead>\n",
       "  <tbody>\n",
       "    <tr>\n",
       "      <th>82</th>\n",
       "      <td>20220118_Plate537_084</td>\n",
       "      <td>537</td>\n",
       "      <td>20230118</td>\n",
       "      <td>DATA/FLUORESCENCE/DATA_NileRed/20230118_Plate5...</td>\n",
       "      <td>084</td>\n",
       "    </tr>\n",
       "  </tbody>\n",
       "</table>\n",
       "</div>"
      ],
      "text/plain": [
       "                   folder Plate number Date Imaged  \\\n",
       "82  20220118_Plate537_084          537    20230118   \n",
       "\n",
       "                                        tot_path_drop video  \n",
       "82  DATA/FLUORESCENCE/DATA_NileRed/20230118_Plate5...   084  "
      ]
     },
     "execution_count": 16,
     "metadata": {},
     "output_type": "execute_result"
    }
   ],
   "source": [
    "# FINAL CHECK\n",
    "\n",
    "print(directory_targ)\n",
    "folders_drop"
   ]
  },
  {
   "cell_type": "code",
   "execution_count": 17,
   "id": "6fd95d98",
   "metadata": {
    "scrolled": true
   },
   "outputs": [
    {
     "name": "stderr",
     "output_type": "stream",
     "text": [
      "sbatch: Single-node jobs run on a shared node by default. Add --exclusive if you want to use a node exclusively.\n",
      "sbatch: A full node consists of 32 CPU cores, 229376 MiB of memory and 0 GPUs and can be shared by up to 32 jobs.\n",
      "sbatch: By default shared jobs get 7168 MiB of memory per CPU core, unless explicitly overridden with --mem-per-cpu, --mem-per-gpu or --mem.\n",
      "sbatch: You will be charged for 0.03125 node, based on the number of CPUs, GPUs and the amount memory that you've requested.\n"
     ]
    },
    {
     "name": "stdout",
     "output_type": "stream",
     "text": [
      "Submitted batch job 2830035\n"
     ]
    },
    {
     "name": "stderr",
     "output_type": "stream",
     "text": [
      "sbatch: Single-node jobs run on a shared node by default. Add --exclusive if you want to use a node exclusively.\n",
      "sbatch: A full node consists of 32 CPU cores, 229376 MiB of memory and 0 GPUs and can be shared by up to 32 jobs.\n",
      "sbatch: By default shared jobs get 7168 MiB of memory per CPU core, unless explicitly overridden with --mem-per-cpu, --mem-per-gpu or --mem.\n",
      "sbatch: You will be charged for 0.03125 node, based on the number of CPUs, GPUs and the amount memory that you've requested.\n"
     ]
    },
    {
     "name": "stdout",
     "output_type": "stream",
     "text": [
      "Submitted batch job 2830036\n"
     ]
    }
   ],
   "source": [
    "run_parallel_transfer(\n",
    "    \"from_drop.py\",\n",
    "    [directory_targ],\n",
    "    folders_drop,\n",
    "    1,\n",
    "    \"10:00:00\",\n",
    "    \"transfer_test\"\n",
    ")\n"
   ]
  },
  {
   "cell_type": "code",
   "execution_count": 10,
   "id": "65a4cc3d",
   "metadata": {},
   "outputs": [],
   "source": [
    "for xl_adress in excel_drop:\n",
    "    file_name = xl_adress.split('/')[-1]\n",
    "    \n",
    "    download(xl_adress, directory_targ+file_name)"
   ]
  },
  {
   "cell_type": "code",
   "execution_count": null,
   "id": "7a49f377",
   "metadata": {},
   "outputs": [],
   "source": []
  }
 ],
 "metadata": {
  "kernelspec": {
   "display_name": "Python 3 (ipykernel)",
   "language": "python",
   "name": "python3"
  },
  "language_info": {
   "codemirror_mode": {
    "name": "ipython",
    "version": 3
   },
   "file_extension": ".py",
   "mimetype": "text/x-python",
   "name": "python",
   "nbconvert_exporter": "python",
   "pygments_lexer": "ipython3",
   "version": "3.9.5"
  }
 },
 "nbformat": 4,
 "nbformat_minor": 5
}

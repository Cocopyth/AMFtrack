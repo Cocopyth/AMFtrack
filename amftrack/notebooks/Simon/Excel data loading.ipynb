{
 "cells": [
  {
   "cell_type": "code",
   "execution_count": null,
   "id": "95e6e2b8",
   "metadata": {},
   "outputs": [],
   "source": [
    "from IPython.display import clear_output\n",
    "import os\n",
    "os.environ['CUDA_VISIBLE_DEVICES'] = '-1'\n",
    "import re\n",
    "\n",
    "from tqdm import tqdm\n",
    "import sys\n",
    "import dropbox\n",
    "import pandas as pd\n",
    "import numpy as np\n",
    "import imageio.v2 as imageio\n",
    "import matplotlib.pyplot as plt\n",
    "import cv2\n",
    "import logging\n",
    "import datetime\n",
    "import glob\n",
    "import json\n",
    "import scipy\n",
    "import matplotlib as mpl\n",
    "from amftrack.util.dbx import load_dbx\n",
    "from amftrack.pipeline.functions.transport_processing.high_mag_videos.high_mag_analysis import (\n",
    "    HighmagDataset,\n",
    "    VideoDataset,\n",
    "    EdgeDataset,\n",
    "    index_videos_dropbox_new,\n",
    ")\n",
    "from amftrack.pipeline.development.high_mag_videos.plot_data import (\n",
    "    plot_summary,\n",
    "    save_raw_data,\n",
    "    \n",
    ")\n",
    "\n",
    "%matplotlib widget\n",
    "%load_ext autoreload\n",
    "%autoreload 2\n",
    "logging.basicConfig(stream=sys.stdout, level=logging.debug)\n",
    "mpl.rcParams['figure.dpi'] = 200\n",
    "\n",
    "print(\"import great succes!\")\n",
    "%reload_ext autoreload"
   ]
  },
  {
   "cell_type": "code",
   "execution_count": null,
   "id": "d35d8add",
   "metadata": {},
   "outputs": [],
   "source": [
    "analysis_folder = \"/gpfs/home6/svstaalduine/Analysis/CocoTransport/\"\n",
    "dropbox_address = \"/DATA/CocoTransport/\"\n",
    "excel_address = \"/Daan te Rietmole/SpeedCheck.xlx\"\n",
    "\n",
    "analysis_filter = \"20230906_Plate310/\""
   ]
  },
  {
   "cell_type": "code",
   "execution_count": null,
   "id": "f0ccbaa4",
   "metadata": {},
   "outputs": [],
   "source": [
    "%%time\n",
    "# edgedata = glob.glob(\"/gpfs/home6/svstaalduine/Analysis/CocoTransport/20230906_Plate310/052/Img/*csv\")\n",
    "edgedata = glob.glob(analysis_folder+analysis_filter+\"*/*/*.csv\")\n",
    "print(len(edgedata))\n",
    "print(analysis_folder+analysis_filter+\"*/*.csv\")"
   ]
  },
  {
   "cell_type": "code",
   "execution_count": null,
   "id": "975427d3",
   "metadata": {},
   "outputs": [],
   "source": [
    "df1 = pd.read_csv(edgedata[0])\n",
    "print(df1)"
   ]
  },
  {
   "cell_type": "code",
   "execution_count": null,
   "id": "7c8e49b2",
   "metadata": {},
   "outputs": [],
   "source": [
    "%%time\n",
    "\n",
    "list_of_dfs = []\n",
    "\n",
    "interested_subdirectories = ['20230906_Plate310']\n",
    "# Walk through the directory and its subdirectories\n",
    "i=0\n",
    "for root, dirs, files in os.walk(analysis_folder):\n",
    "    if any(subdir in root for subdir in interested_subdirectories):\n",
    "        for file in files:\n",
    "            if file.endswith('edges_data.csv'):\n",
    "                \n",
    "                file_path = os.path.join(root, file)\n",
    "                df = pd.read_csv(file_path)\n",
    "                jsnpath = file_path[:-14]+'video_data.json'\n",
    "                 \n",
    "                with open(jsnpath, 'r') as file:\n",
    "                    jason = json.load(file)\n",
    "                 \n",
    "                df.insert(1,\"mode\",jason['mode'])\n",
    "                df.insert(2,\"video_int\",jason['video_int'])\n",
    "                 \n",
    "                list_of_dfs.append(df)\n",
    "                    \n",
    "\n",
    "# Concatenate all DataFrames in the list into a single DataFrame\n",
    "combined_df = pd.concat(list_of_dfs, ignore_index=True)\n",
    "\n",
    "print(len(combined_df))\n",
    "print(combined_df.iloc[0])"
   ]
  },
  {
   "cell_type": "code",
   "execution_count": null,
   "id": "b9f3d2a8",
   "metadata": {},
   "outputs": [],
   "source": [
    "print(df.columns.tolist())"
   ]
  },
  {
   "cell_type": "code",
   "execution_count": null,
   "id": "815d8db9",
   "metadata": {},
   "outputs": [],
   "source": [
    "print(combined_df['edge_name'].iloc[2])"
   ]
  },
  {
   "cell_type": "code",
   "execution_count": null,
   "id": "6467966e",
   "metadata": {},
   "outputs": [],
   "source": [
    "%%time\n",
    "sel_df = combined_df\n",
    "# sel_df = combined_df[combined_df['speed_left']<=-4]\n",
    "# sel_df = sel_df[sel_df['speed_right']>=4]\n",
    "# sel_df = sel_df[sel_df['coverage_right']>=0.25]\n",
    "# sel_df = sel_df[sel_df['coverage_left']>=0.25]\n",
    "# sel_df = sel_df[sel_df['coverage_tot']>=0.7]\n",
    "# sel_df = sel_df[sel_df['straight_length']<=200]\n",
    "\n",
    "\n",
    "# sel_df = sel_df[sel_df['std_right']<=0.16]\n",
    "\n",
    "\n",
    "\n",
    "BF_df = sel_df[sel_df['mode']=='BF']\n",
    "FL_df = sel_df[sel_df['mode']=='F']\n",
    "\n",
    "print(len(BF_df))\n",
    "print(len(FL_df))\n",
    "\n",
    "# print(BF_df[BF_df['edge_name']=='(24, 5)'])"
   ]
  },
  {
   "cell_type": "code",
   "execution_count": null,
   "id": "248c2a99",
   "metadata": {},
   "outputs": [],
   "source": [
    "with pd.option_context('display.max_rows', None,\n",
    "                       'display.max_columns', None,\n",
    "                       'display.precision', 3,\n",
    "                       ):\n",
    "    print(FL_df)"
   ]
  },
  {
   "cell_type": "code",
   "execution_count": null,
   "id": "1636d8fd",
   "metadata": {},
   "outputs": [],
   "source": [
    "fig, ax = plt.subplots()\n",
    "ax.scatter(combined_BF_df['speed_left'],combined_BF_df['speed_right'], alpha=combined_BF_df['coverage_tot'], color='green')\n",
    "ax.scatter(combined_FL_df['speed_left'],combined_FL_df['speed_right'], alpha=combined_FL_df['coverage_tot'], color='red')\n",
    "plt.show()"
   ]
  },
  {
   "cell_type": "code",
   "execution_count": null,
   "id": "6f5b6715",
   "metadata": {},
   "outputs": [],
   "source": [
    "plt.close('all')\n",
    "fig, ax = plt.subplots(2,2, figsize=(10, 10))\n",
    "ax[0][0].set_xlim(-12,0)\n",
    "ax[0][0].set_ylim(0,12)\n",
    "ax[1][0].set_xlim(-12,0)\n",
    "ax[1][0].set_ylim(0,12)\n",
    "ax[1][1].set_xlim(-12,0)\n",
    "ax[1][1].set_ylim(0,12)\n",
    "ax[0][0].scatter(BF_df['speed_left'],BF_df['speed_right'], alpha=BF_df['coverage_left'], color='green')\n",
    "ax[0][0].scatter(FL_df['speed_left'],FL_df['speed_right'], alpha=FL_df['coverage_left'], color='red')\n",
    "ax[1][0].scatter(BF_df['speed_left'],BF_df['speed_right'], alpha=BF_df['coverage_right'], color='green')\n",
    "ax[1][0].scatter(FL_df['speed_left'],FL_df['speed_right'], alpha=FL_df['coverage_right'], color='red')\n",
    "ax[1][1].scatter(BF_df['speed_left'],BF_df['speed_right'], alpha=BF_df['coverage_tot'], color='green')\n",
    "ax[1][1].scatter(FL_df['speed_left'],FL_df['speed_right'], alpha=FL_df['coverage_tot'], color='red')\n",
    "plt.show()"
   ]
  },
  {
   "cell_type": "code",
   "execution_count": null,
   "id": "8758ae4d",
   "metadata": {},
   "outputs": [],
   "source": []
  },
  {
   "cell_type": "code",
   "execution_count": null,
   "id": "fa888531",
   "metadata": {},
   "outputs": [],
   "source": [
    "plt.close('all')\n",
    "fig, ax = plt.subplots()\n",
    "ax.scatter(BF_df['speed_left'],BF_df['speed_right'], alpha=BF_df['coverage_tot'], color='green')\n",
    "ax.scatter(FL_df['speed_left'],FL_df['speed_right'], alpha=FL_df['coverage_tot'], color='red')\n",
    "plt.show()"
   ]
  },
  {
   "cell_type": "markdown",
   "id": "fccb4cf2",
   "metadata": {},
   "source": [
    "1. download the excel by hand analysis.\n",
    "2. load it into a dataframe.\n",
    "3. compare it with the automated simon analysis."
   ]
  },
  {
   "cell_type": "code",
   "execution_count": null,
   "id": "2a1a3b55",
   "metadata": {},
   "outputs": [],
   "source": [
    "excel_address"
   ]
  },
  {
   "cell_type": "code",
   "execution_count": null,
   "id": "1dc4d603",
   "metadata": {},
   "outputs": [],
   "source": []
  },
  {
   "cell_type": "code",
   "execution_count": null,
   "id": "e3ca96da",
   "metadata": {},
   "outputs": [],
   "source": []
  }
 ],
 "metadata": {
  "kernelspec": {
   "display_name": "Python 3 (ipykernel)",
   "language": "python",
   "name": "python3"
  },
  "language_info": {
   "codemirror_mode": {
    "name": "ipython",
    "version": 3
   },
   "file_extension": ".py",
   "mimetype": "text/x-python",
   "name": "python",
   "nbconvert_exporter": "python",
   "pygments_lexer": "ipython3",
   "version": "3.9.5"
  }
 },
 "nbformat": 4,
 "nbformat_minor": 5
}

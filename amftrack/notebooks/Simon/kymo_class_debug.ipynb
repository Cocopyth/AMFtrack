{
 "cells": [
  {
   "cell_type": "code",
   "execution_count": null,
   "outputs": [],
   "source": [
    "from amftrack.pipeline.development.high_mag_videos.kymo_class import *\n",
    "import os\n",
    "import imageio.v2 as imageio\n",
    "import matplotlib.pyplot as plt\n",
    "import cv2\n",
    "from tqdm import tqdm\n",
    "%matplotlib widget\n",
    "%load_ext autoreload\n",
    "%autoreload 2\n",
    "from amftrack.pipeline.functions.image_processing.extract_graph import (\n",
    "    from_sparse_to_graph,\n",
    "    generate_nx_graph,\n",
    "    clean_degree_4,\n",
    ")\n",
    "import scipy\n"
   ],
   "metadata": {
    "collapsed": false,
    "pycharm": {
     "name": "#%%\n"
    }
   }
  },
  {
   "cell_type": "markdown",
   "source": [
    "Important to note: \n",
    "Seg-Tresh is the limit of what percentage of the segmented image should be hypha. "
   ],
   "metadata": {
    "collapsed": false,
    "pycharm": {
     "name": "#%% md\n"
    }
   }
  },
  {
   "cell_type": "code",
   "execution_count": null,
   "outputs": [],
   "source": [
    "img_address = '/gpfs/scratch1/shared/amftrackflow/Drp_downs/20220118_Plate537/20220118_Plate537_009/'\n",
    "\n",
    "test_video = Kymo_video_analysis(img_address, logging=True, vid_type=None, \n",
    "                                 fps=None, binning=None, filter_step=80,\n",
    "                                seg_thresh=9, show_seg=True)\n",
    "edge_list = test_video.edge_objects"
   ],
   "metadata": {
    "collapsed": false,
    "pycharm": {
     "name": "#%%\n"
    }
   }
  },
  {
   "cell_type": "code",
   "execution_count": null,
   "outputs": [],
   "source": [
    "print('\\n To work with individual edges, here is a list of their indices:')\n",
    "for i, edge in enumerate(edge_list):\n",
    "    print('edge {}, {}'.format(i, edge.edge_name))\n",
    "    \n",
    "target_length = int(1.9*test_video.magnification)\n",
    "\n",
    "test_video.plot_extraction_img(target_length=target_length, save_img=True)\n",
    "edges_total = test_video.edge_objects"
   ],
   "metadata": {
    "collapsed": false,
    "pycharm": {
     "name": "#%%\n"
    }
   }
  },
  {
   "cell_type": "code",
   "execution_count": null,
   "outputs": [],
   "source": [
    "test_video.makeVideo()"
   ],
   "metadata": {
    "collapsed": false,
    "pycharm": {
     "name": "#%%\n"
    }
   }
  },
  {
   "cell_type": "markdown",
   "source": [
    "## Important! This is where you select the edges that you want to analyze."
   ],
   "metadata": {
    "collapsed": false,
    "pycharm": {
     "name": "#%% md\n"
    }
   }
  },
  {
   "cell_type": "code",
   "execution_count": null,
   "outputs": [],
   "source": [
    "edge_seq = [0,1,2]\n",
    "bin_nrs = np.arange(1,9)"
   ],
   "metadata": {
    "collapsed": false,
    "pycharm": {
     "name": "#%%\n"
    }
   }
  },
  {
   "cell_type": "code",
   "execution_count": null,
   "outputs": [],
   "source": [
    "edge_objs  = [edges_total[i] for i in edge_seq]\n",
    "\n",
    "img_seq    = np.arange(len(edge_objs[0].video_analysis.selection_file))\n",
    "exp_fit    = test_video.fit_backgr(img_seq, plots=True)\n",
    "edge_pic   = edge.view_edge(img_frame=40 ,save_im=True, target_length = target_length)\n",
    "edge_video = edge.view_edge(img_frame = img_seq, save_im=True, quality = 6, target_length=target_length)\n",
    "\n",
    "for bin_nr in bin_nrs:    \n",
    "    for edge in edge_objs:\n",
    "        edge.extract_multi_kymo(bin_nr, target_length=target_length, plots=False, subtr_backg=False, kymo_adj=True)\n",
    "        kymos_lefts, kymos_rights = edge.fourier_kymo(bin_nr, plots=False, save_im=True, save_array=True)    \n",
    "        huh = edge.test_GST(20, w_start=3, C_thresh=0.95, C_thresh_falloff = 0.0, blur_size = 7, preblur=True, speed_thresh=10, plots=False)    \n",
    "        huh = edge.extract_transport(noise_thresh=0.15, plots=False, save_im=True, save_flux_array=True, photobleach_adjust=False)    \n",
    "    "
   ],
   "metadata": {
    "collapsed": false,
    "pycharm": {
     "name": "#%%\n"
    }
   }
  },
  {
   "cell_type": "code",
   "execution_count": null,
   "outputs": [],
   "source": [
    "# bins = 3\n",
    "# bins_space = np.linspace(0, len(kymo[0][0]), bins+1, dtype=int)\n",
    "# fig, ax = plt.subplots(1, bins)\n",
    "# fig2, ax2 = plt.subplots(1, bins)\n",
    "# kymo_means = np.percentile(kymo[1], .4, axis=0)\n",
    "# kymo_normal = kymo[1] / kymo_means\n",
    "# kymo_min, kymo_max = (np.min(kymo_normal), np.max(kymo_normal))\n",
    "# for i in range(bins):\n",
    "#     ax[i].plot(kymo_means[bins_space[i]:bins_space[i+1]])\n",
    "#     ax2[i].imshow(kymo_normal.transpose()[bins_space[i]:bins_space[i+1]].transpose(), vmin=kymo_min, vmax = kymo_max)\n",
    "# plt.show()"
   ],
   "metadata": {
    "collapsed": false,
    "pycharm": {
     "name": "#%%\n"
    }
   }
  },
  {
   "cell_type": "code",
   "execution_count": null,
   "outputs": [],
   "source": [
    "\n",
    "# fig, ax = plt.subplots(1, bins)\n",
    "# for i in range(1, 30):\n",
    "#     for j in range(bins):\n",
    "#         corr = signal.correlate(kymo[1][0], kymo[1][bins_space[j]:bins_space[j+1]][i])\n",
    "#         corr /= np.max(corr)\n",
    "#         lags = signal.correlation_lags(len(kymo[0][0]), len(kymo[0][bins_space[j]:bins_space[j+1]][i]))\n",
    "#         ax[j].plot(lags, corr)\n",
    "# plt.show()"
   ],
   "metadata": {
    "collapsed": false,
    "pycharm": {
     "name": "#%%\n"
    }
   }
  },
  {
   "cell_type": "code",
   "execution_count": null,
   "outputs": [],
   "source": [
    "# fig, ax = plt.subplots(len(edge_objs), bin_nr, figsize=(6, 12), sharey='row')\n",
    "# count = 0\n",
    "\n",
    "# bin_space = np.linspace(0,1, bin_nr+1)\n",
    "\n",
    "# for i in range(len(edge_objs)):\n",
    "#     for j in range(bin_nr):\n",
    "#         if len(edge_objs) > 1:\n",
    "#             if bin_nr > 1:\n",
    "#                 ax[i][j].imshow(kymo[i][j])\n",
    "#                 ax[i][j].set_title(f\"Kymo [{bin_space[j]}-{bin_space[j+1]}] of edge {edge_objs[i].edge_name}\")\n",
    "#                 ax[i][j].set_xlabel(\"space ($x$)\")\n",
    "#                 ax[i][j].set_ylabel(\"time ($t$)\")\n",
    "#             elif bin_nr == 1:\n",
    "#                 ax[i].imshow(kymo[i][0])\n",
    "#                 ax[i].set_title(f\"Kymo of edge {edge_objs[i].edge_name}\")\n",
    "#                 ax[i].set_xlabel(\"space ($x$)\")\n",
    "#                 ax[i].set_ylabel(\"time ($t$)\")\n",
    "                \n",
    "#         else:\n",
    "#             if bin_nr == 1:\n",
    "#                 ax = [ax]\n",
    "#             ax[j].imshow(kymo[i][j])\n",
    "#             ax[j].set_title(f\"Kymo [{bin_space[j]}-{bin_space[j+1]}]\")\n",
    "#             ax[j].set_xlabel(\"space ($x$)\")\n",
    "#             ax[j].set_ylabel(\"time ($t$)\")\n",
    "\n",
    "# fig.tight_layout()\n",
    "# # plt.show()"
   ],
   "metadata": {
    "collapsed": false,
    "pycharm": {
     "name": "#%%\n"
    }
   }
  },
  {
   "cell_type": "code",
   "execution_count": 90,
   "id": "f3f7c341",
   "metadata": {
    "pycharm": {
     "name": "#%%\n"
    }
   },
   "outputs": [],
   "source": [
    "\n",
    "# fig, ax = plt.subplots(1, bins)\n",
    "# for i in range(1, 30):\n",
    "#     for j in range(bins):\n",
    "#         corr = signal.correlate(kymo[1][0], kymo[1][bins_space[j]:bins_space[j+1]][i])\n",
    "#         corr /= np.max(corr)\n",
    "#         lags = signal.correlation_lags(len(kymo[0][0]), len(kymo[0][bins_space[j]:bins_space[j+1]][i]))\n",
    "#         ax[j].plot(lags, corr)\n",
    "# plt.show()"
   ]
  },
  {
   "cell_type": "code",
   "execution_count": 91,
   "id": "abbcc751",
   "metadata": {
    "pycharm": {
     "name": "#%%\n"
    }
   },
   "outputs": [],
   "source": [
    "# fig, ax = plt.subplots(len(edge_objs), bin_nr, figsize=(6, 12), sharey='row')\n",
    "# count = 0\n",
    "\n",
    "# bin_space = np.linspace(0,1, bin_nr+1)\n",
    "\n",
    "# for i in range(len(edge_objs)):\n",
    "#     for j in range(bin_nr):\n",
    "#         if len(edge_objs) > 1:\n",
    "#             if bin_nr > 1:\n",
    "#                 ax[i][j].imshow(kymo[i][j])\n",
    "#                 ax[i][j].set_title(f\"Kymo [{bin_space[j]}-{bin_space[j+1]}] of edge {edge_objs[i].edge_name}\")\n",
    "#                 ax[i][j].set_xlabel(\"space ($x$)\")\n",
    "#                 ax[i][j].set_ylabel(\"time ($t$)\")\n",
    "#             elif bin_nr == 1:\n",
    "#                 ax[i].imshow(kymo[i][0])\n",
    "#                 ax[i].set_title(f\"Kymo of edge {edge_objs[i].edge_name}\")\n",
    "#                 ax[i].set_xlabel(\"space ($x$)\")\n",
    "#                 ax[i].set_ylabel(\"time ($t$)\")\n",
    "                \n",
    "#         else:\n",
    "#             if bin_nr == 1:\n",
    "#                 ax = [ax]\n",
    "#             ax[j].imshow(kymo[i][j])\n",
    "#             ax[j].set_title(f\"Kymo [{bin_space[j]}-{bin_space[j+1]}]\")\n",
    "#             ax[j].set_xlabel(\"space ($x$)\")\n",
    "#             ax[j].set_ylabel(\"time ($t$)\")\n",
    "\n",
    "# fig.tight_layout()\n",
    "# # plt.show()"
   ]
  }
 ],
 "metadata": {
  "kernelspec": {
   "display_name": "Python 3 (ipykernel)",
   "language": "python",
   "name": "python3"
  },
  "language_info": {
   "codemirror_mode": {
    "name": "ipython",
    "version": 3
   },
   "file_extension": ".py",
   "mimetype": "text/x-python",
   "name": "python",
   "nbconvert_exporter": "python",
   "pygments_lexer": "ipython3",
   "version": "3.9.5"
  }
 },
 "nbformat": 4,
 "nbformat_minor": 5
}
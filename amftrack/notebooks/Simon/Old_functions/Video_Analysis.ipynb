{
 "cells": [
  {
   "cell_type": "code",
   "execution_count": null,
   "id": "d628ae9e",
   "metadata": {
    "pycharm": {
     "name": "#%%\n"
    }
   },
   "outputs": [],
   "source": [
    "from amftrack.pipeline.development.high_mag_videos.kymo_class import *\n",
    "from amftrack.pipeline.development.high_mag_videos.plot_data import (\n",
    "    save_raw_data,\n",
    "    plot_summary,\n",
    ")\n",
    "import os\n",
    "import imageio.v2 as imageio\n",
    "import matplotlib.pyplot as plt\n",
    "import cv2\n",
    "from tifffile import imwrite\n",
    "from tqdm import tqdm\n",
    "\n",
    "%matplotlib widget\n",
    "%load_ext autoreload\n",
    "%autoreload 2\n",
    "from amftrack.pipeline.functions.image_processing.extract_graph import (\n",
    "    from_sparse_to_graph,\n",
    "    generate_nx_graph,\n",
    "    clean_degree_4,\n",
    ")\n",
    "import scipy\n",
    "import matplotlib as mpl\n",
    "\n",
    "mpl.rcParams[\"figure.dpi\"] = 300"
   ]
  },
  {
   "cell_type": "markdown",
   "id": "1af74eb1",
   "metadata": {
    "pycharm": {
     "name": "#%% md\n"
    }
   },
   "source": [
    "# Welcome to the video analysis pipeline module!\n",
    "\n",
    "TODO: Fix dropbox uploads in flux_extract!!!\n",
    "TODO: Streamline actions taken in flux_extract!!!\n",
    "TODO: Fix videoInfo being downloaded to analysis!!!\n",
    "\n",
    "Use this notebook to extract kymographs and transport flows from raw video TIFFs. The first step is to supply some file parameters to make sure that the measurements are connected to real metrics and that the segmentation method is correct.\n",
    "\n",
    "Important to note: \n",
    "Seg-Tresh is the limit of what percentage of the segmented image should be hypha. "
   ]
  },
  {
   "cell_type": "code",
   "execution_count": null,
   "id": "08c0b895",
   "metadata": {
    "pycharm": {
     "name": "#%%\n"
    }
   },
   "outputs": [],
   "source": [
    "### This is where the video folder in question is supplied. If there is an excel file one level higher,\n",
    "### it will pull the relevant parameters from that.\n",
    "\n",
    "img_address = \"/gpfs/scratch1/shared/amftrackflow/videos/MYRISTATE/DATA/2_weeks/20230313_Plate031/02/\""
   ]
  },
  {
   "cell_type": "code",
   "execution_count": null,
   "id": "637da587",
   "metadata": {},
   "outputs": [],
   "source": [
    "### Logging     means that you will see print messages documenting the progress.\n",
    "### vid_type    is either 'BRIGHT' or 'FLUO' for brightfield and fluorescence microscopy respectively.\n",
    "###                 Will be overruled if excel file is present\n",
    "### fps         is the frames per second of the video\n",
    "###                 Will be overruled if excel file is present\n",
    "### binning     is whether the video was imaged at full resolution, or half resolution\n",
    "###                 Will be overruled if excel file is present\n",
    "### filter_step is not a known value\n",
    "### seg_thresh  is the percentage coverage that the segmentation must achieve\n",
    "### show_seg    if true will plot the segmentation image\n",
    "\n",
    "\n",
    "test_video = Kymo_video_analysis(\n",
    "    img_address,\n",
    "    logging=True,\n",
    "    vid_type=None,\n",
    "    fps=None,\n",
    "    binning=None,\n",
    "    filter_step=60,\n",
    "    seg_thresh=20,\n",
    "    show_seg=True,\n",
    ")"
   ]
  },
  {
   "cell_type": "markdown",
   "id": "60dc6aa0",
   "metadata": {
    "pycharm": {
     "name": "#%% md\n"
    }
   },
   "source": [
    "If the segmentation is satisfactory, you can proceed with plotting the edges that will be analyzed. "
   ]
  },
  {
   "cell_type": "code",
   "execution_count": null,
   "id": "3c4e0f95",
   "metadata": {
    "pycharm": {
     "name": "#%%\n"
    }
   },
   "outputs": [],
   "source": [
    "edge_list = test_video.edge_objects\n",
    "\n",
    "### The print statement will give you the edge indices such that you can select which edges to analyze.\n",
    "# print('\\n To work with individual edges, here is a list of their indices:')\n",
    "# for i, edge in enumerate(edge_list):\n",
    "#     print('edge {}, {}'.format(i, edge.edge_name))\n",
    "\n",
    "### Target length here determines the *width* of the analysis box.\n",
    "### Too shallow, and you won't capture the entire hypha, too big and the analysis is plagued with background.\n",
    "target_length = int(1.9 * test_video.magnification)\n",
    "\n",
    "test_video.plot_extraction_img(target_length=target_length, save_img=True)\n",
    "edges_total = test_video.edge_objects"
   ]
  },
  {
   "cell_type": "markdown",
   "id": "8cfdfe25",
   "metadata": {
    "pycharm": {
     "name": "#%% md\n"
    }
   },
   "source": [
    "## Below function will make an mp4 from the tiff files, can take a while, if you prefer to skip, that's fine."
   ]
  },
  {
   "cell_type": "code",
   "execution_count": null,
   "id": "932dbd7b",
   "metadata": {
    "pycharm": {
     "name": "#%%\n"
    }
   },
   "outputs": [],
   "source": [
    "test_video.makeVideo()"
   ]
  },
  {
   "cell_type": "markdown",
   "id": "14b8666e",
   "metadata": {
    "pycharm": {
     "name": "#%% md\n"
    }
   },
   "source": [
    "## This is where you select the edges that you want to analyze.\n",
    "Bin number creates a range of how the edges will be partitioned along their length."
   ]
  },
  {
   "cell_type": "code",
   "execution_count": null,
   "id": "a835a562",
   "metadata": {
    "pycharm": {
     "name": "#%%\n"
    }
   },
   "outputs": [],
   "source": [
    "edge_seq = [5]\n",
    "# bin_nrs = np.arange(1,5)"
   ]
  },
  {
   "cell_type": "code",
   "execution_count": null,
   "id": "bc6d0c42",
   "metadata": {},
   "outputs": [],
   "source": [
    "bin_nr = 1\n",
    "edge_objs = [edges_total[i] for i in edge_seq]\n",
    "img_seq = np.arange(len(edge_objs[0].video_analysis.selection_file))\n",
    "kymos = []"
   ]
  },
  {
   "cell_type": "code",
   "execution_count": null,
   "id": "5d7e0e7e",
   "metadata": {
    "pycharm": {
     "name": "#%%\n"
    }
   },
   "outputs": [],
   "source": [
    "### Exponential fit is performed to adjust for photobleaching\n",
    "# exp_fit    = test_video.fit_backgr(img_seq, plots=True)\n",
    "\n",
    "### A video and single frame will be made of each edge to get a closer look\n",
    "# edge_pic   = edge.view_edge(img_frame=40 ,save_im=True, target_length = target_length)\n",
    "# edge_video = edge.view_edge(img_frame = img_seq, save_im=True, quality = 6, target_length=target_length)\n",
    "\n",
    "### Analysis consists of extracting a kymograph, doing fourier filtering, then extracting speeds, then transport.\n",
    "### plots in each function turn on plt plots.\n",
    "# for bin_nr in bin_nrs:\n",
    "for edge in edge_objs:\n",
    "    space_res = edge.video_analysis.space_pixel_size\n",
    "    time_res = edge.video_analysis.time_pixel_size\n",
    "    video_kymos = edge.extract_multi_kymo(\n",
    "        bin_nr, target_length=target_length, kymo_adj=False\n",
    "    )\n",
    "    kymos.append(video_kymos)\n",
    "    imshow_extent = [\n",
    "        0,\n",
    "        edge.video_analysis.space_pixel_size * edge.kymos[0].shape[1],\n",
    "        edge.video_analysis.time_pixel_size * edge.kymos[0].shape[0],\n",
    "        0,\n",
    "    ]\n",
    "    kymos_lefts, kymos_rights = edge.fourier_kymo(bin_nr, save_im=True, save_array=True)\n",
    "    speeds, times = edge.test_GST(\n",
    "        15,\n",
    "        w_start=3,\n",
    "        C_thresh=0.95,\n",
    "        C_thresh_falloff=0.001,\n",
    "        blur_size=5,\n",
    "        preblur=True,\n",
    "        speed_thresh=50,\n",
    "        plots=False,\n",
    "    )\n",
    "    net_trans = edge.extract_transport(\n",
    "        noise_thresh=0.15, plots=False, save_im=True, save_flux_array=True, margin=5\n",
    "    )\n",
    "\n",
    "#     fig, ax = plt.subplots(2, figsize=(8,8*1.7))\n",
    "#     ax[0].imshow(video_kymos[0], extent=imshow_extent, aspect='auto')\n",
    "#     ax[1].imshow(net_trans, cmap = 'coolwarm', aspect='auto', extent = imshow_extent)\n",
    "#     fig.tight_layout()"
   ]
  },
  {
   "cell_type": "code",
   "execution_count": null,
   "id": "9aafd4f4",
   "metadata": {},
   "outputs": [],
   "source": [
    "plot_summary(edge_objs)"
   ]
  },
  {
   "cell_type": "code",
   "execution_count": null,
   "id": "64d6b3e1",
   "metadata": {},
   "outputs": [],
   "source": [
    "for edge in edge_objs:\n",
    "    widths = edge.get_widths(img_frame=40, save_im=True, target_length=200, step=80)\n",
    "    print(np.mean(widths))\n",
    "\n",
    "    fig, ax = plt.subplots()\n",
    "    ax.plot(widths)\n",
    "    ax.set_ylim([0, 20])\n",
    "\n",
    "# 9.427204\n",
    "# 9.574729\n",
    "# 6.1030574"
   ]
  },
  {
   "cell_type": "markdown",
   "id": "15452697",
   "metadata": {
    "pycharm": {
     "name": "#%% md\n"
    }
   },
   "source": [
    "## Experiment zone!!!\n"
   ]
  },
  {
   "cell_type": "code",
   "execution_count": null,
   "id": "7b7ee6e8",
   "metadata": {},
   "outputs": [],
   "source": [
    "edge_table = {\n",
    "    \"edge_name\": [],\n",
    "    \"edge_length\": [],\n",
    "    \"straight_length\": [],\n",
    "    \"speed_max\": [],\n",
    "    \"speed_min\": [],\n",
    "    \"flux_avg\": [],\n",
    "    \"flux_min\": [],\n",
    "    \"flux_max\": [],\n",
    "}\n",
    "data_edge = pd.DataFrame(data=edge_table)\n",
    "\n",
    "for edge in edge_objs:\n",
    "    straight_len = (\n",
    "        np.linalg.norm(\n",
    "            (edge.segments[0][0] + edge.segments[0][1]) / 2\n",
    "            - (edge.segments[-1][0] + edge.segments[-1][1]) / 2\n",
    "        )\n",
    "        * space_res\n",
    "    )\n",
    "\n",
    "    new_row = pd.DataFrame(\n",
    "        [\n",
    "            {\n",
    "                \"edge_name\": f\"{edge.edge_name}\",\n",
    "                \"edge_length\": space_res * edge.kymos[0].shape[1],\n",
    "                \"straight_length\": straight_len,\n",
    "                \"speed_max\": np.nanpercentile(speeds[0][1], 97),\n",
    "                \"speed_min\": np.nanpercentile(speeds[0][0], 3),\n",
    "                \"flux_avg\": np.nanmean(net_trans),\n",
    "                \"flux_min\": np.nanpercentile(net_trans, 3),\n",
    "                \"flux_max\": np.nanpercentile(net_trans, 97),\n",
    "            }\n",
    "        ]\n",
    "    )\n",
    "\n",
    "    data_edge = pd.concat([data_edge, new_row])\n",
    "\n",
    "data_edge"
   ]
  },
  {
   "cell_type": "code",
   "execution_count": null,
   "id": "b9412684",
   "metadata": {},
   "outputs": [],
   "source": [
    "fig, ax = plt.subplots(1, 3, figsize=(9, 3.3))\n",
    "ax[0].imshow(video_kymos[0], cmap=\"gray\", vmin=0, aspect=\"auto\", extent=imshow_extent)\n",
    "# ax[0].imshow((kymos_lefts[0]+ kymos_rights[0])/2, cmap='gray', vmin=0, aspect='auto', extent=imshow_extent)\n",
    "ax[2].imshow(kymos_lefts[0], cmap=\"gray\", vmin=0, aspect=\"auto\", extent=imshow_extent)\n",
    "ax[1].imshow(kymos_rights[0], cmap=\"gray\", vmin=0, aspect=\"auto\", extent=imshow_extent)\n",
    "\n",
    "ax[0].set_title(\"Kymograph\")\n",
    "ax[0].set_xlabel(\"space $(\\mu m)$\")\n",
    "ax[0].set_ylabel(\"time (s)\")\n",
    "# ax[0][1].set_title(\"Kymograph (no static)\")\n",
    "# ax[0][1].set_xlabel(\"space $(\\mu m)$\")\n",
    "# ax[0][1].set_ylabel(\"time (s)\")\n",
    "ax[2].set_title(\"Right filtered\")\n",
    "ax[2].set_xlabel(\"space $(\\mu m)$\")\n",
    "# ax[1].set_ylabel(\"time (s)\")\n",
    "ax[1].set_title(\"Left filtered\")\n",
    "ax[1].set_xlabel(\"space $(\\mu m)$\")\n",
    "# ax[1].set_ylabel(\"time (s)\")\n",
    "fig.tight_layout()\n",
    "fig.savefig(\n",
    "    \"/gpfs/scratch1/shared/amftrackflow/Drp_downs/20230126_Plate527/20230126_Plate527_03/Analysis/edge (840, 306)/kymographs_graph.png\"\n",
    ")"
   ]
  },
  {
   "cell_type": "code",
   "execution_count": null,
   "id": "1613a3c6",
   "metadata": {},
   "outputs": [],
   "source": [
    "kymo_tiff = np.array(\n",
    "    [video_kymos[0], kymos_lefts[0] + kymos_rights[0], kymos_lefts[0], kymos_rights[0]],\n",
    "    dtype=np.int16,\n",
    ")\n",
    "imwrite(\n",
    "    \"/gpfs/scratch1/shared/amftrackflow/Drp_downs/20230126_Plate527/20230126_Plate527_03/Analysis/edge (840, 306)/kymographs_array.tiff\",\n",
    "    kymo_tiff,\n",
    "    photometric=\"minisblack\",\n",
    ")"
   ]
  },
  {
   "cell_type": "code",
   "execution_count": null,
   "id": "d214a0bb",
   "metadata": {},
   "outputs": [],
   "source": [
    "speedmax = np.nanmax(abs(np.array([speeds[0][0], speeds[0][1]])))\n",
    "# flux_non_nan = ~(np.isnan(speeds[0][0]) * np.isnan(speeds[0][1]))\n",
    "\n",
    "fig, ax = plt.subplots(1, 3, figsize=(9, 3.3), layout=\"constrained\")\n",
    "ax[1].imshow(\n",
    "    speeds[0][0],\n",
    "    cmap=\"coolwarm\",\n",
    "    aspect=\"auto\",\n",
    "    vmax=speedmax,\n",
    "    vmin=-speedmax,\n",
    "    extent=imshow_extent,\n",
    ")\n",
    "cbar = ax[2].imshow(\n",
    "    speeds[0][1],\n",
    "    cmap=\"coolwarm\",\n",
    "    aspect=\"auto\",\n",
    "    vmax=speedmax,\n",
    "    vmin=-speedmax,\n",
    "    extent=imshow_extent,\n",
    ")\n",
    "cbar_a = fig.colorbar(cbar, ax=ax[0], location=\"left\")\n",
    "cbar2 = ax[0].imshow(net_trans, cmap=\"coolwarm\", aspect=\"auto\", extent=imshow_extent)\n",
    "# fig.colorbar(cbar2, ax=ax[1][1])\n",
    "# ax[1][0].plot(times[0], 1 - np.count_nonzero(np.isnan(speeds[0][0]), axis=1) / len(net_trans[0]), label=\"Left\")\n",
    "# ax[1][0].plot(times[0], 1 - np.count_nonzero(np.isnan(speeds[0][1]), axis=1) / len(net_trans[0]), label=\"Right\")\n",
    "# ax[1][0].plot(times[0], 1 - np.count_nonzero(np.isnan(net_trans), axis=1) / len(net_trans[0]), label=\"Total\")\n",
    "\n",
    "# ax[1][0].set_ylim([0, 1])\n",
    "# ax[1][0].legend()\n",
    "# ax[1][0].grid(True)\n",
    "# ax[1][0].set_title(\"Speed coverage\")\n",
    "# ax[1][0].set_xlabel(\"time (s)\")\n",
    "# ax[1][0].set_ylabel(\"Hypha length coverage (%)\")\n",
    "\n",
    "ax[0].set_title(\"Left + Right\")\n",
    "ax[0].set_xlabel(\"space $(\\mu m)$\")\n",
    "ax[0].set_ylabel(\"time (s)\")\n",
    "ax[1].set_title(\"Speeds left\")\n",
    "ax[1].set_xlabel(\"space $(\\mu m)$\")\n",
    "# ax[0][1].set_ylabel(\"time (s)\")\n",
    "ax[2].set_title(\"Speeds right\")\n",
    "ax[2].set_xlabel(\"space $(\\mu m)$\")\n",
    "\n",
    "cbar_a.set_label(\"speed $(\\mu m / s)$\")\n",
    "\n",
    "# ax[1][1].set_ylabel(\"time (s)\")\n",
    "\n",
    "# fig.tight_layout()"
   ]
  },
  {
   "cell_type": "code",
   "execution_count": null,
   "id": "ef840a8b",
   "metadata": {},
   "outputs": [],
   "source": [
    "spds_tiff = np.array([speeds[0][0], speeds[0][1], net_trans], dtype=float)\n",
    "imwrite(\n",
    "    \"/gpfs/scratch1/shared/amftrackflow/Drp_downs/20230126_Plate527/20230126_Plate527_03/Analysis/edge (840, 306)/speeds_flux_array.tiff\",\n",
    "    spds_tiff,\n",
    "    photometric=\"minisblack\",\n",
    ")"
   ]
  },
  {
   "cell_type": "code",
   "execution_count": null,
   "id": "3e4203f4",
   "metadata": {
    "pycharm": {
     "name": "#%%\n"
    }
   },
   "outputs": [],
   "source": [
    "total_len = video_kymos[0].shape[1]\n",
    "split_index = 300\n",
    "split_invers = total_len - split_index\n",
    "\n",
    "split_kymo = [video_kymos[0].T[:split_index].T, video_kymos[0].T[split_index:].T]\n",
    "\n",
    "kymo_edge_list = [Kymo_edge_analysis(kymo=kymo) for kymo in split_kymo]\n",
    "\n",
    "fig, ax = plt.subplots(3, 3, figsize=(12, 15), sharey=\"row\")\n",
    "net_speeds = []\n",
    "net_net_trans = []\n",
    "\n",
    "for i, kymo_anal in enumerate(tqdm(kymo_edge_list)):\n",
    "    title = f\"({i}, {i+1})\"\n",
    "\n",
    "    imshow_extent = [\n",
    "        0,\n",
    "        space_res * kymo_anal.kymo.shape[1],\n",
    "        time_res * kymo_anal.kymo.shape[0],\n",
    "        0,\n",
    "    ]\n",
    "    kymo_anal.space_pixel_size = space_res\n",
    "    kymo_anal.time_pixel_size = time_res\n",
    "\n",
    "    forw_thresh, back_thresh = kymo_anal.fourier_kymo(1, test_plots=False)\n",
    "\n",
    "    speeds_split, times = kymo_anal.test_GST(\n",
    "        15,\n",
    "        w_start=3,\n",
    "        C_thresh=0.95,\n",
    "        C_thresh_falloff=0.001,\n",
    "        blur_size=3,\n",
    "        preblur=True,\n",
    "        speed_thresh=50,\n",
    "        plots=False,\n",
    "    )\n",
    "    net_trans_split = kymo_anal.extract_transport(\n",
    "        noise_thresh=0.15,\n",
    "        plots=False,\n",
    "        save_im=False,\n",
    "        save_flux_array=False,\n",
    "        save_filters=False,\n",
    "        margin=5,\n",
    "    )\n",
    "\n",
    "    net_net_trans.append(net_trans_split)\n",
    "    net_speeds.append(speeds_split)\n",
    "    ax[0][i].imshow(kymo_anal.kymo, extent=imshow_extent, aspect=\"auto\")\n",
    "    ax[0][i].set_title(f\"{['Left','Right'][i]} partition kymo\")\n",
    "    ax[0][i].set_xlabel(\"space ($\\mu m$)\")\n",
    "    ax[0][i].set_ylabel(\"time (s)\")\n",
    "\n",
    "    ax[1][i].errorbar(\n",
    "        times[0],\n",
    "        np.nanmean(speeds_split[0][0], axis=1),\n",
    "        np.nanstd(speeds_split[0][0], axis=1),\n",
    "        label=\"Backward speed\",\n",
    "        errorevery=15,\n",
    "    )\n",
    "    ax[1][i].errorbar(\n",
    "        times[0],\n",
    "        np.nanmean(speeds_split[0][1], axis=1),\n",
    "        np.nanstd(speeds_split[0][1], axis=1),\n",
    "        label=\"Forward speed\",\n",
    "        errorevery=15,\n",
    "    )\n",
    "    ax[1][i].set_title(f\"{['Left','Right'][i]} partition mean speed\")\n",
    "    ax[1][i].set_xlabel(\"time (s)\")\n",
    "    ax[1][i].set_ylabel(\"speed ($\\mu m/s$)\")\n",
    "    ax[1][i].legend()\n",
    "    ax[1][i].grid(True)\n",
    "\n",
    "    ax[2][i].plot(times[0], np.nanmean(net_trans_split, axis=1))\n",
    "    ax[2][i].set_title(f\"{['Left','Right'][i]} partition mean flux\")\n",
    "    ax[2][i].set_xlabel(\"time (s)\")\n",
    "    ax[2][i].set_ylabel(\"flux ($q \\mu m / s$)\")\n",
    "    ax[2][i].grid(True)\n",
    "\n",
    "\n",
    "# net_speeds = np.array(speeds)\n",
    "speed_mean = [np.nanmean(speed[0][0], axis=1) for speed in net_speeds]\n",
    "\n",
    "imshow_extent = [\n",
    "    0,\n",
    "    space_res * video_kymos[0].shape[1],\n",
    "    time_res * video_kymos[0].shape[0],\n",
    "    0,\n",
    "]\n",
    "\n",
    "ax[0][2].imshow(video_kymos[0], extent=imshow_extent, aspect=\"auto\")\n",
    "ax[0][2].set_title(\"Full kymo\")\n",
    "ax[1][2].plot(\n",
    "    times[0], np.nanmean(speeds[0][0], axis=1), c=\"tab:blue\", label=\"Full kymo backward\"\n",
    ")\n",
    "ax[1][2].plot(\n",
    "    times[0],\n",
    "    np.sum(\n",
    "        [\n",
    "            np.nanmean(speed[0][0], axis=1)\n",
    "            * ([split_index / total_len, split_invers / total_len][i])\n",
    "            for i, speed in enumerate(net_speeds)\n",
    "        ],\n",
    "        axis=0,\n",
    "    ),\n",
    "    alpha=0.5,\n",
    "    c=\"tab:blue\",\n",
    "    label=\"Sum of partition backward\",\n",
    ")\n",
    "\n",
    "ax[1][2].plot(\n",
    "    times[0],\n",
    "    np.nanmean(speeds[0][1], axis=1),\n",
    "    c=\"tab:orange\",\n",
    "    label=\"Full kymo forward\",\n",
    ")\n",
    "ax[1][2].plot(\n",
    "    times[0],\n",
    "    np.sum(\n",
    "        [\n",
    "            np.nanmean(speed[0][1], axis=1)\n",
    "            * ([split_index / total_len, split_invers / total_len][i])\n",
    "            for i, speed in enumerate(net_speeds)\n",
    "        ],\n",
    "        axis=0,\n",
    "    ),\n",
    "    alpha=0.5,\n",
    "    c=\"tab:orange\",\n",
    "    label=\"Sum of partition forward\",\n",
    ")\n",
    "\n",
    "\n",
    "ax[1][2].set_title(f\"Full mean speed\")\n",
    "ax[1][2].set_xlabel(\"time (s)\")\n",
    "ax[1][2].set_ylabel(\"speed ($\\mu m/s$)\")\n",
    "ax[1][2].legend()\n",
    "ax[1][2].grid(True)\n",
    "ax[2][2].plot(times[0], np.nanmean(net_trans, axis=1), label=\"Full kymo\")\n",
    "ax[2][2].plot(\n",
    "    times[0],\n",
    "    np.sum(\n",
    "        [\n",
    "            np.nanmean(net_net_trans_t, axis=1)\n",
    "            * ([split_index / total_len, split_invers / total_len][i])\n",
    "            for i, net_net_trans_t in enumerate(net_net_trans)\n",
    "        ],\n",
    "        axis=0,\n",
    "    ),\n",
    "    alpha=0.5,\n",
    "    label=\"Sum of partition\",\n",
    ")\n",
    "ax[2][2].set_title(f\"Full mean flux\")\n",
    "ax[2][2].set_xlabel(\"time (s)\")\n",
    "ax[2][2].set_ylabel(\"flux ($q \\mu m / s$)\")\n",
    "ax[2][2].legend()\n",
    "ax[2][2].grid(True)\n",
    "\n",
    "fig.tight_layout()"
   ]
  },
  {
   "cell_type": "code",
   "execution_count": null,
   "id": "3a463557",
   "metadata": {
    "pycharm": {
     "name": "#%%\n"
    }
   },
   "outputs": [],
   "source": [
    "total_len = video_kymos[0].shape[1]\n",
    "# split_index = 300\n",
    "# split_invers = total_len - split_index\n",
    "\n",
    "# split_kymo = [video_kymos[0].T[:split_index].T, video_kymos[0].T[split_index:].T]\n",
    "\n",
    "# kymo_edge_list = [Kymo_edge_analysis(kymo=kymo) for kymo in split_kymo]\n",
    "\n",
    "fig, ax = plt.subplots(3, figsize=(7, 7 * 3))\n",
    "net_speeds = []\n",
    "net_net_trans = []\n",
    "\n",
    "# for i, kymo_anal in enumerate(tqdm(kymo_edge_list)):\n",
    "#     title = f\"({i}, {i+1})\"\n",
    "\n",
    "#     imshow_extent = [0, space_res * kymo_anal.kymo.shape[1],\n",
    "#                 time_res * kymo_anal.kymo.shape[0], 0]\n",
    "#     kymo_anal.space_pixel_size = space_res\n",
    "#     kymo_anal.time_pixel_size = time_res\n",
    "\n",
    "#     forw_thresh, back_thresh = kymo_anal.fourier_kymo(1, test_plots=False)\n",
    "\n",
    "#     speeds_split, times = kymo_anal.test_GST(15, w_start=3, C_thresh=0.95, C_thresh_falloff = 0.001, blur_size = 3, preblur=True, speed_thresh=50, plots=False)\n",
    "#     net_trans_split = kymo_anal.extract_transport(noise_thresh=0.15, plots=False, save_im=False, save_flux_array=False, save_filters=False, margin=5)\n",
    "\n",
    "#     net_net_trans.append(net_trans_split)\n",
    "#     net_speeds.append(speeds_split)\n",
    "\n",
    "\n",
    "# net_speeds = np.array(speeds)\n",
    "speed_mean = [np.nanmean(speed[0][0], axis=1) for speed in net_speeds]\n",
    "\n",
    "imshow_extent = [\n",
    "    0,\n",
    "    space_res * video_kymos[0].shape[1],\n",
    "    time_res * video_kymos[0].shape[0],\n",
    "    0,\n",
    "]\n",
    "\n",
    "ax[0].imshow(video_kymos[0], extent=imshow_extent, aspect=\"auto\")\n",
    "ax[0].set_title(\"Full kymo\")\n",
    "ax[1].errorbar(\n",
    "    times[0],\n",
    "    np.nanmean(speeds[0][0], axis=1),\n",
    "    np.nanstd(speeds[0][0], axis=1),\n",
    "    c=\"tab:blue\",\n",
    "    label=\"Full kymo backward\",\n",
    "    errorevery=10,\n",
    ")\n",
    "# ax[1].plot(times[0], np.sum([np.nanmean(speed[0][0], axis=1)*([split_index/total_len, split_invers/total_len][i]) for i, speed in enumerate(net_speeds)], axis=0), alpha=0.5, c='tab:blue', label='Sum of partition backward')\n",
    "\n",
    "ax[1].errorbar(\n",
    "    times[0],\n",
    "    np.nanmean(speeds[0][1], axis=1),\n",
    "    np.nanstd(speeds[0][1], axis=1),\n",
    "    c=\"tab:orange\",\n",
    "    label=\"Full kymo forward\",\n",
    "    errorevery=10,\n",
    ")\n",
    "# ax[1].plot(times[0], np.sum([np.nanmean(speed[0][1], axis=1)*([split_index/total_len, split_invers/total_len][i]) for i, speed in enumerate(net_speeds)], axis=0), alpha=0.5, c='tab:orange', label='Sum of partition forward')\n",
    "\n",
    "\n",
    "ax[1].set_title(f\"Full mean speed\")\n",
    "ax[1].set_xlabel(\"time (s)\")\n",
    "ax[1].set_ylabel(\"speed ($\\mu m/s$)\")\n",
    "ax[1].legend()\n",
    "ax[1].grid(True)\n",
    "ax[2].errorbar(\n",
    "    times[0],\n",
    "    np.nanmean(net_trans, axis=1),\n",
    "    np.nanstd(net_trans, axis=1),\n",
    "    label=\"Full kymo\",\n",
    "    errorevery=10,\n",
    ")\n",
    "# ax[2].plot(times[0], np.sum([np.nanmean(net_net_trans_t, axis=1)*([split_index/total_len, split_invers/total_len][i]) for i, net_net_trans_t in enumerate(net_net_trans)], axis=0), alpha=0.5, label='Sum of partition')\n",
    "ax[2].set_title(f\"Full mean flux\")\n",
    "ax[2].set_xlabel(\"time (s)\")\n",
    "ax[2].set_ylabel(\"flux ($q \\mu m / s$)\")\n",
    "ax[2].legend()\n",
    "ax[2].grid(True)\n",
    "\n",
    "fig.tight_layout()"
   ]
  },
  {
   "cell_type": "code",
   "execution_count": null,
   "id": "c89faf4b",
   "metadata": {},
   "outputs": [],
   "source": [
    "data_table = {\n",
    "    \"times\": times[0],\n",
    "    \"speed_right_mean\": np.nanmean(speeds[0][1], axis=1),\n",
    "    \"speed_left_mean\": np.nanmean(speeds[0][0], axis=1),\n",
    "    \"speed_right_std\": np.nanstd(speeds[0][0], axis=1),\n",
    "    \"speed_left_std\": np.nanstd(speeds[0][1], axis=1),\n",
    "    \"flux_mean\": np.nanmean(net_trans, axis=1),\n",
    "    \"flux_std\": np.nanstd(net_trans, axis=1),\n",
    "    \"flux_coverage\": np.count_nonzero(net_trans, axis=1) / len(net_trans[0]),\n",
    "    \"speed_left_coverage\": 1\n",
    "    - np.count_nonzero(np.isnan(speeds[0][0]), axis=1) / len(net_trans[0]),\n",
    "    \"speed_right_coverage\": 1\n",
    "    - np.count_nonzero(np.isnan(speeds[0][1]), axis=1) / len(net_trans[0]),\n",
    "}\n",
    "\n",
    "data_out = pd.DataFrame(data=data_table)\n",
    "data_out"
   ]
  },
  {
   "cell_type": "code",
   "execution_count": null,
   "id": "27bbbf70",
   "metadata": {
    "pycharm": {
     "name": "#%%\n"
    }
   },
   "outputs": [],
   "source": [
    "# fig, ax = plt.subplots(len(edge_objs), bin_nr, figsize=(6, 12), sharey='row')\n",
    "# count = 0\n",
    "\n",
    "# bin_space = np.linspace(0,1, bin_nr+1)\n",
    "\n",
    "# for i in range(len(edge_objs)):\n",
    "#     for j in range(bin_nr):\n",
    "#         if len(edge_objs) > 1:\n",
    "#             if bin_nr > 1:\n",
    "#                 ax[i][j].imshow(kymo[i][j])\n",
    "#                 ax[i][j].set_title(f\"Kymo [{bin_space[j]}-{bin_space[j+1]}] of edge {edge_objs[i].edge_name}\")\n",
    "#                 ax[i][j].set_xlabel(\"space ($x$)\")\n",
    "#                 ax[i][j].set_ylabel(\"time ($t$)\")\n",
    "#             elif bin_nr == 1:\n",
    "#                 ax[i].imshow(kymo[i][0])\n",
    "#                 ax[i].set_title(f\"Kymo of edge {edge_objs[i].edge_name}\")\n",
    "#                 ax[i].set_xlabel(\"space ($x$)\")\n",
    "#                 ax[i].set_ylabel(\"time ($t$)\")\n",
    "\n",
    "#         else:\n",
    "#             if bin_nr == 1:\n",
    "#                 ax = [ax]\n",
    "#             ax[j].imshow(kymo[i][j])\n",
    "#             ax[j].set_title(f\"Kymo [{bin_space[j]}-{bin_space[j+1]}]\")\n",
    "#             ax[j].set_xlabel(\"space ($x$)\")\n",
    "#             ax[j].set_ylabel(\"time ($t$)\")\n",
    "\n",
    "# fig.tight_layout()\n",
    "# # plt.show()"
   ]
  },
  {
   "cell_type": "code",
   "execution_count": null,
   "id": "f3f7c341",
   "metadata": {
    "pycharm": {
     "name": "#%%\n"
    }
   },
   "outputs": [],
   "source": [
    "# fig, ax = plt.subplots(1, bins)\n",
    "# for i in range(1, 30):\n",
    "#     for j in range(bins):\n",
    "#         corr = signal.correlate(kymo[1][0], kymo[1][bins_space[j]:bins_space[j+1]][i])\n",
    "#         corr /= np.max(corr)\n",
    "#         lags = signal.correlation_lags(len(kymo[0][0]), len(kymo[0][bins_space[j]:bins_space[j+1]][i]))\n",
    "#         ax[j].plot(lags, corr)\n",
    "# plt.show()"
   ]
  },
  {
   "cell_type": "code",
   "execution_count": null,
   "id": "abbcc751",
   "metadata": {
    "pycharm": {
     "name": "#%%\n"
    }
   },
   "outputs": [],
   "source": [
    "# fig, ax = plt.subplots(len(edge_objs), bin_nr, figsize=(6, 12), sharey='row')\n",
    "# count = 0\n",
    "\n",
    "# bin_space = np.linspace(0,1, bin_nr+1)\n",
    "\n",
    "# for i in range(len(edge_objs)):\n",
    "#     for j in range(bin_nr):\n",
    "#         if len(edge_objs) > 1:\n",
    "#             if bin_nr > 1:\n",
    "#                 ax[i][j].imshow(kymo[i][j])\n",
    "#                 ax[i][j].set_title(f\"Kymo [{bin_space[j]}-{bin_space[j+1]}] of edge {edge_objs[i].edge_name}\")\n",
    "#                 ax[i][j].set_xlabel(\"space ($x$)\")\n",
    "#                 ax[i][j].set_ylabel(\"time ($t$)\")\n",
    "#             elif bin_nr == 1:\n",
    "#                 ax[i].imshow(kymo[i][0])\n",
    "#                 ax[i].set_title(f\"Kymo of edge {edge_objs[i].edge_name}\")\n",
    "#                 ax[i].set_xlabel(\"space ($x$)\")\n",
    "#                 ax[i].set_ylabel(\"time ($t$)\")\n",
    "\n",
    "#         else:\n",
    "#             if bin_nr == 1:\n",
    "#                 ax = [ax]\n",
    "#             ax[j].imshow(kymo[i][j])\n",
    "#             ax[j].set_title(f\"Kymo [{bin_space[j]}-{bin_space[j+1]}]\")\n",
    "#             ax[j].set_xlabel(\"space ($x$)\")\n",
    "#             ax[j].set_ylabel(\"time ($t$)\")\n",
    "\n",
    "# fig.tight_layout()\n",
    "# # plt.show()"
   ]
  }
 ],
 "metadata": {
  "kernelspec": {
   "display_name": "Python 3 (ipykernel)",
   "language": "python",
   "name": "python3"
  },
  "language_info": {
   "codemirror_mode": {
    "name": "ipython",
    "version": 3
   },
   "file_extension": ".py",
   "mimetype": "text/x-python",
   "name": "python",
   "nbconvert_exporter": "python",
   "pygments_lexer": "ipython3",
   "version": "3.9.5"
  }
 },
 "nbformat": 4,
 "nbformat_minor": 5
}

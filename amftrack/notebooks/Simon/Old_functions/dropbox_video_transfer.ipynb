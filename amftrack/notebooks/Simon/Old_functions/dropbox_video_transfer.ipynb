{
 "cells": [
  {
   "cell_type": "code",
   "execution_count": null,
   "id": "95be08ff",
   "metadata": {},
   "outputs": [],
   "source": [
    "%matplotlib widget\n",
    "%load_ext autoreload\n",
    "%autoreload 2\n",
    "from IPython.display import clear_output\n",
    "import os\n",
    "import sys\n",
    "\n",
    "# sys.path.insert(0, os.getenv('HOME')+'/pycode/MscThesis/')\n",
    "# sys.path.insert(0,r'C:\\Users\\coren\\Documents\\PhD\\Code\\AMFtrack')\n",
    "\n",
    "import pandas as pd\n",
    "from amftrack.util.sys import (\n",
    "    get_dates_datetime,\n",
    "    get_dirname,\n",
    "    temp_path,\n",
    "    get_data_info,\n",
    "    update_plate_info,\n",
    "    get_current_folders,\n",
    "    get_folders_by_plate_id,\n",
    ")\n",
    "\n",
    "\n",
    "import ast\n",
    "from amftrack.plotutil import plot_t_tp1\n",
    "from scipy import sparse\n",
    "from datetime import datetime\n",
    "import pickle\n",
    "import scipy.io as sio\n",
    "from pymatreader import read_mat\n",
    "from matplotlib import colors\n",
    "import cv2\n",
    "import imageio\n",
    "import matplotlib.pyplot as plt\n",
    "import numpy as np\n",
    "from skimage.filters import frangi\n",
    "from skimage import filters\n",
    "from random import choice\n",
    "import scipy.sparse\n",
    "import os\n",
    "from amftrack.pipeline.functions.image_processing.extract_graph import (\n",
    "    from_sparse_to_graph,\n",
    "    generate_nx_graph,\n",
    "    sparse_to_doc,\n",
    ")\n",
    "from skimage.feature import hessian_matrix_det\n",
    "\n",
    "# from amftrack.pipeline.functions.image_processing.experiment_class_surf import Experiment\n",
    "from amftrack.pipeline.launching.run import (\n",
    "    run_transfer,\n",
    ")\n",
    "from amftrack.pipeline.launching.run_super import run_parallel_transfer\n",
    "\n",
    "import dropbox\n",
    "from amftrack.util.dbx import (\n",
    "    upload_folders,\n",
    "    download,\n",
    "    read_saved_dropbox_state,\n",
    "    save_dropbox_state,\n",
    "    load_dbx,\n",
    "    download,\n",
    "    get_dropbox_folders,\n",
    "    get_dropbox_video_folders,\n",
    ")\n",
    "from subprocess import call\n",
    "import logging\n",
    "\n",
    "logging.basicConfig(stream=sys.stdout, level=logging.debug)"
   ]
  },
  {
   "cell_type": "markdown",
   "id": "037f25a3",
   "metadata": {},
   "source": [
    "**To transfer data from dropbox to surfsara**\n",
    "- select the folders of interest within the folders of dropbox"
   ]
  },
  {
   "cell_type": "code",
   "execution_count": null,
   "id": "741b6a21",
   "metadata": {},
   "outputs": [],
   "source": [
    "directory_targ = \"/gpfs/scratch1/shared/amftrackflow/Rachael_set/\"\n",
    "\n",
    "if not os.path.exists(directory_targ):\n",
    "    os.makedirs(directory_targ)\n",
    "\n",
    "### IS THIS RACHAEL'S DATASET OR SOMEONE WHO HAS VIDEOINFO.TXT IN THEIR FOLDER???\n",
    "\n",
    "all_folders_drop, excel_drop, txt_drop = get_dropbox_video_folders(\n",
    "    \"/DATA/FLUORESCENCE/DATA_NileRed/\", True\n",
    ")\n",
    "\n",
    "# folders_drop = all_folders_drop.loc[all_folders_drop[\"Plate number\"] == \"452\"]\n",
    "all_folders_drop = pd.read_json(\n",
    "    \"/gpfs/home6/svstaalduine/dropbox_file_structure/data_nile_red.json\"\n",
    ")\n",
    "\n",
    "clear_output(wait=False)\n",
    "\n",
    "all_folders_drop"
   ]
  },
  {
   "cell_type": "code",
   "execution_count": null,
   "id": "2ab21ced",
   "metadata": {},
   "outputs": [],
   "source": [
    "# directory_targ = \"/gpfs/scratch1/shared/amftrackflow/Rachael_dataset/\"\n",
    "# all_folders_drop.to_json(\"/gpfs/home6/svstaalduine/dropbox_file_structure/data_nile_red.json\")\n",
    "\n",
    "# save_dropbox_state(\"/DATA/FLUORESCENCE/DATA_NileRed/20230201_Plate552/\", is_video=True)\n",
    "\n",
    "folders_drop = all_folders_drop\n",
    "folders_drop = folders_drop.loc[folders_drop[\"Plate number\"] == 532]\n",
    "folders_drop = folders_drop.loc[folders_drop[\"video\"] == 15]"
   ]
  },
  {
   "cell_type": "code",
   "execution_count": null,
   "id": "fac44fcd",
   "metadata": {},
   "outputs": [],
   "source": [
    "folders_drop = folders_drop.sort_values(by=[\"folder\"], ignore_index=True)\n",
    "# folders_drop[\"folder\"] = [os.path.relpath(entry, \"DATA/FLUORESCENCE/DATA_NileRed/\") for entry in folders_drop[\"tot_path_drop\"]]\n",
    "folders_drop[\"video\"] = [\n",
    "    entry.split(\"_\")[-1] for entry in folders_drop[\"tot_path_drop\"]\n",
    "]\n",
    "folders_drop[\"folder\"] = [\n",
    "    f\"{entry.split('/')[-3]}/{entry.split('_')[-1]}/Img\"\n",
    "    for entry in folders_drop[\"tot_path_drop\"]\n",
    "]\n",
    "\n",
    "# folders_drop = folders_drop.loc[folders_drop[\"video\"] == \"005\"]"
   ]
  },
  {
   "cell_type": "code",
   "execution_count": null,
   "id": "b1d6ad96",
   "metadata": {},
   "outputs": [],
   "source": [
    "# FINAL CHECK\n",
    "\n",
    "print(directory_targ)\n",
    "print(folders_drop[\"tot_path_drop\"].iloc[0])\n",
    "print(folders_drop[\"Date Imaged\"].unique())\n",
    "folders_drop"
   ]
  },
  {
   "cell_type": "code",
   "execution_count": null,
   "id": "6fd95d98",
   "metadata": {},
   "outputs": [],
   "source": [
    "run_parallel_transfer(\n",
    "    \"from_drop.py\", [directory_targ], folders_drop, 1, \"10:00:00\", \"transfer_test\"\n",
    ")"
   ]
  },
  {
   "cell_type": "code",
   "execution_count": null,
   "id": "65a4cc3d",
   "metadata": {},
   "outputs": [],
   "source": [
    "# print(excel_drop)\n",
    "for xl_adress in excel_drop:\n",
    "    file_name = f\"{xl_adress.split('/')[-2]}/{xl_adress.split('/')[-1]}\"\n",
    "    if file_name.split(\".\")[-2][-4:] == \"data\":\n",
    "        continue\n",
    "    print(file_name.split(\".\")[-2][-4:])\n",
    "\n",
    "    download(xl_adress, directory_targ + file_name)"
   ]
  },
  {
   "cell_type": "code",
   "execution_count": null,
   "id": "7a49f377",
   "metadata": {},
   "outputs": [],
   "source": []
  }
 ],
 "metadata": {
  "kernelspec": {
   "display_name": "Python 3 (ipykernel)",
   "language": "python",
   "name": "python3"
  },
  "language_info": {
   "codemirror_mode": {
    "name": "ipython",
    "version": 3
   },
   "file_extension": ".py",
   "mimetype": "text/x-python",
   "name": "python",
   "nbconvert_exporter": "python",
   "pygments_lexer": "ipython3",
   "version": "3.9.5"
  }
 },
 "nbformat": 4,
 "nbformat_minor": 5
}

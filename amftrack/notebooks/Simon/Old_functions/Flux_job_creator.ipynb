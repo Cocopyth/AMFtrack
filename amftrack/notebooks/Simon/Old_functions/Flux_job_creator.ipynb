{
 "cells": [
  {
   "cell_type": "code",
   "execution_count": 94,
   "id": "118935f1",
   "metadata": {
    "pycharm": {
     "name": "#%%\n"
    }
   },
   "outputs": [
    {
     "name": "stdout",
     "output_type": "stream",
     "text": [
      "The autoreload extension is already loaded. To reload it, use:\n",
      "  %reload_ext autoreload\n"
     ]
    }
   ],
   "source": [
    "from amftrack.pipeline.development.high_mag_videos.kymo_class import *\n",
    "from amftrack.pipeline.development.high_mag_videos.plot_data import (\n",
    "    read_video_data,\n",
    "    plot_summary\n",
    ")\n",
    "import os\n",
    "import pandas as pd\n",
    "import imageio.v2 as imageio\n",
    "import matplotlib.pyplot as plt\n",
    "import cv2\n",
    "from glob import glob\n",
    "from tqdm import tqdm\n",
    "%matplotlib widget\n",
    "%load_ext autoreload\n",
    "%autoreload 2\n",
    "from amftrack.pipeline.functions.image_processing.extract_graph import (\n",
    "    from_sparse_to_graph,\n",
    "    generate_nx_graph,\n",
    "    clean_degree_4,\n",
    ")\n",
    "import scipy\n",
    "from pathlib import Path\n",
    "from amftrack.pipeline.launching.run_super import run_parallel_flows\n",
    "import re\n",
    "from amftrack.util.dbx import upload_folders, upload, download, read_saved_dropbox_state, save_dropbox_state, load_dbx, get_dropbox_folders, get_dropbox_video_folders\n",
    "import matplotlib as mpl\n",
    "mpl.rcParams['figure.dpi'] = 300\n",
    "\n",
    "\n"
   ]
  },
  {
   "cell_type": "code",
   "execution_count": 95,
   "id": "7e988655",
   "metadata": {
    "pycharm": {
     "name": "#%%\n"
    }
   },
   "outputs": [],
   "source": [
    "directory_targ = \"/gpfs/scratch1/shared/amftrackflow/videos/MYRISTATE/DATA/2_weeks/\"\n",
    "upload_targ = \"/DATA/MYRISTATE/DATA/2_weeks/\""
   ]
  },
  {
   "cell_type": "code",
   "execution_count": 96,
   "id": "836dd4d0",
   "metadata": {},
   "outputs": [
    {
     "name": "stdout",
     "output_type": "stream",
     "text": [
      "/gpfs/scratch1/shared/amftrackflow/videos/MYRISTATE/DATA/2_weeks/20230313_Plate031\n"
     ]
    }
   ],
   "source": [
    "test_name = glob(directory_targ + \"*\")[0]\n",
    "imgs_address = test_name\n",
    "print(test_name)"
   ]
  },
  {
   "cell_type": "code",
   "execution_count": 105,
   "id": "7e1ba1fb",
   "metadata": {
    "pycharm": {
     "name": "#%%\n"
    },
    "scrolled": true
   },
   "outputs": [
    {
     "name": "stdout",
     "output_type": "stream",
     "text": [
      "/gpfs/scratch1/shared/amftrackflow/videos/MYRISTATE/DATA/2_weeks/20230313_Plate031/02/\n"
     ]
    },
    {
     "data": {
      "text/html": [
       "<div>\n",
       "<style scoped>\n",
       "    .dataframe tbody tr th:only-of-type {\n",
       "        vertical-align: middle;\n",
       "    }\n",
       "\n",
       "    .dataframe tbody tr th {\n",
       "        vertical-align: top;\n",
       "    }\n",
       "\n",
       "    .dataframe thead th {\n",
       "        text-align: right;\n",
       "    }\n",
       "</style>\n",
       "<table border=\"1\" class=\"dataframe\">\n",
       "  <thead>\n",
       "    <tr style=\"text-align: right;\">\n",
       "      <th></th>\n",
       "      <th>tot_path_drop</th>\n",
       "      <th>video</th>\n",
       "      <th>Plate number</th>\n",
       "      <th>video_int</th>\n",
       "      <th>Date Imaged</th>\n",
       "      <th>folder</th>\n",
       "    </tr>\n",
       "  </thead>\n",
       "  <tbody>\n",
       "    <tr>\n",
       "      <th>2</th>\n",
       "      <td>/gpfs/scratch1/shared/amftrackflow/videos/MYRI...</td>\n",
       "      <td>01</td>\n",
       "      <td>031</td>\n",
       "      <td>1</td>\n",
       "      <td>20230313</td>\n",
       "      <td>20230313_plate031_01</td>\n",
       "    </tr>\n",
       "    <tr>\n",
       "      <th>0</th>\n",
       "      <td>/gpfs/scratch1/shared/amftrackflow/videos/MYRI...</td>\n",
       "      <td>02</td>\n",
       "      <td>031</td>\n",
       "      <td>2</td>\n",
       "      <td>20230313</td>\n",
       "      <td>20230313_plate031_02</td>\n",
       "    </tr>\n",
       "    <tr>\n",
       "      <th>4</th>\n",
       "      <td>/gpfs/scratch1/shared/amftrackflow/videos/MYRI...</td>\n",
       "      <td>03</td>\n",
       "      <td>031</td>\n",
       "      <td>3</td>\n",
       "      <td>20230313</td>\n",
       "      <td>20230313_plate031_03</td>\n",
       "    </tr>\n",
       "    <tr>\n",
       "      <th>3</th>\n",
       "      <td>/gpfs/scratch1/shared/amftrackflow/videos/MYRI...</td>\n",
       "      <td>04</td>\n",
       "      <td>031</td>\n",
       "      <td>4</td>\n",
       "      <td>20230313</td>\n",
       "      <td>20230313_plate031_04</td>\n",
       "    </tr>\n",
       "    <tr>\n",
       "      <th>1</th>\n",
       "      <td>/gpfs/scratch1/shared/amftrackflow/videos/MYRI...</td>\n",
       "      <td>05</td>\n",
       "      <td>031</td>\n",
       "      <td>5</td>\n",
       "      <td>20230313</td>\n",
       "      <td>20230313_plate031_05</td>\n",
       "    </tr>\n",
       "    <tr>\n",
       "      <th>5</th>\n",
       "      <td>/gpfs/scratch1/shared/amftrackflow/videos/MYRI...</td>\n",
       "      <td>06</td>\n",
       "      <td>031</td>\n",
       "      <td>6</td>\n",
       "      <td>20230313</td>\n",
       "      <td>20230313_plate031_06</td>\n",
       "    </tr>\n",
       "  </tbody>\n",
       "</table>\n",
       "</div>"
      ],
      "text/plain": [
       "                                       tot_path_drop video Plate number  \\\n",
       "2  /gpfs/scratch1/shared/amftrackflow/videos/MYRI...    01          031   \n",
       "0  /gpfs/scratch1/shared/amftrackflow/videos/MYRI...    02          031   \n",
       "4  /gpfs/scratch1/shared/amftrackflow/videos/MYRI...    03          031   \n",
       "3  /gpfs/scratch1/shared/amftrackflow/videos/MYRI...    04          031   \n",
       "1  /gpfs/scratch1/shared/amftrackflow/videos/MYRI...    05          031   \n",
       "5  /gpfs/scratch1/shared/amftrackflow/videos/MYRI...    06          031   \n",
       "\n",
       "   video_int Date Imaged                folder  \n",
       "2          1    20230313  20230313_plate031_01  \n",
       "0          2    20230313  20230313_plate031_02  \n",
       "4          3    20230313  20230313_plate031_03  \n",
       "3          4    20230313  20230313_plate031_04  \n",
       "1          5    20230313  20230313_plate031_05  \n",
       "5          6    20230313  20230313_plate031_06  "
      ]
     },
     "execution_count": 105,
     "metadata": {},
     "output_type": "execute_result"
    }
   ],
   "source": [
    "plate_list = glob(directory_targ + \"*_Plate*/*/\")\n",
    "datadict = {\"tot_path_drop\": plate_list}\n",
    "dataframe = pd.DataFrame(data=datadict)\n",
    "\n",
    "# print(dataframe['tot_path_drop'][0])\n",
    "\n",
    "dataframe[\"video\"] = [\n",
    "    address[:-1].split(os.sep)[-1] for address in dataframe[\"tot_path_drop\"]\n",
    "]\n",
    "dataframe[\"Plate number\"] = [\n",
    "    re.split(\"_|/\", address.split(\"_\")[-1])[0][5:]\n",
    "    for address in dataframe[\"tot_path_drop\"]\n",
    "]\n",
    "dataframe[\"video_int\"] = [\n",
    "    int(re.split(\"_|/\", address[:-1])[-1]) for address in dataframe[\"tot_path_drop\"]\n",
    "]\n",
    "dataframe[\"Date Imaged\"] = [\n",
    "    address.split(\"/\")[-3][:8] for address in dataframe[\"tot_path_drop\"]\n",
    "]\n",
    "dataframe[\"folder\"] = [\n",
    "    f\"{row['Date Imaged']}_plate{row['Plate number']}_{row['video']}\"\n",
    "    for index, row in dataframe.iterrows()\n",
    "]\n",
    "\n",
    "print(dataframe[\"tot_path_drop\"][0])\n",
    "dataframe.sort_values(by=\"video\")"
   ]
  },
  {
   "cell_type": "code",
   "execution_count": 106,
   "id": "ddc275f9",
   "metadata": {},
   "outputs": [
    {
     "data": {
      "text/plain": [
       "array(['/gpfs/scratch1/shared/amftrackflow/videos/MYRISTATE/DATA/2_weeks/20230313_Plate031/20230313_Plate031.csv'],\n",
       "      dtype=object)"
      ]
     },
     "execution_count": 106,
     "metadata": {},
     "output_type": "execute_result"
    }
   ],
   "source": [
    "data_table = []\n",
    "for row in dataframe.iloc:\n",
    "    excel_file = glob(\n",
    "        str(Path(row[\"tot_path_drop\"]).parent)\n",
    "        + f'/*{row[\"Date Imaged\"]}*{row[\"Plate number\"]}.xl*'\n",
    "    )\n",
    "    if len(excel_file) > 0:\n",
    "        data_table.append(excel_file[0])\n",
    "    else:\n",
    "        csv_file = glob(\n",
    "            str(Path(row[\"tot_path_drop\"]).parent)\n",
    "            + f'/{row[\"Date Imaged\"]}*{row[\"Plate number\"]}.csv'\n",
    "        )\n",
    "        if len(csv_file) > 0:\n",
    "            data_table.append(csv_file[0])\n",
    "excel_addresses = pd.Series(data_table).unique()\n",
    "excel_addresses"
   ]
  },
  {
   "cell_type": "code",
   "execution_count": 103,
   "id": "f96e170b",
   "metadata": {},
   "outputs": [
    {
     "name": "stderr",
     "output_type": "stream",
     "text": [
      "100%|███████████████████████████████████████████████████████████████████████████████████████████████████████████████████████| 1/1 [00:00<00:00, 58.08it/s]\n"
     ]
    },
    {
     "data": {
      "text/plain": [
       "'/scratch1/shared/amftrackflow/videos/MYRISTATE/DATA/2_weeks/20230313_Plate031/02//'"
      ]
     },
     "execution_count": 103,
     "metadata": {},
     "output_type": "execute_result"
    }
   ],
   "source": [
    "merge_frame = read_video_data(excel_addresses, dataframe)\n",
    "merge_frame.tot_path[0]"
   ]
  },
  {
   "cell_type": "code",
   "execution_count": 104,
   "id": "9eb97087",
   "metadata": {},
   "outputs": [
    {
     "data": {
      "text/html": [
       "<div>\n",
       "<style scoped>\n",
       "    .dataframe tbody tr th:only-of-type {\n",
       "        vertical-align: middle;\n",
       "    }\n",
       "\n",
       "    .dataframe tbody tr th {\n",
       "        vertical-align: top;\n",
       "    }\n",
       "\n",
       "    .dataframe thead th {\n",
       "        text-align: right;\n",
       "    }\n",
       "</style>\n",
       "<table border=\"1\" class=\"dataframe\">\n",
       "  <thead>\n",
       "    <tr style=\"text-align: right;\">\n",
       "      <th></th>\n",
       "      <th>unique_id</th>\n",
       "      <th>video_int</th>\n",
       "      <th>treatment</th>\n",
       "      <th>strain</th>\n",
       "      <th>xpos</th>\n",
       "      <th>ypos</th>\n",
       "      <th>mode</th>\n",
       "      <th>binning</th>\n",
       "      <th>magnification</th>\n",
       "      <th>fps</th>\n",
       "      <th>time_(s)</th>\n",
       "      <th>tot_path_drop</th>\n",
       "      <th>video_name</th>\n",
       "      <th>imaging_day</th>\n",
       "      <th>plate_id</th>\n",
       "      <th>tot_path</th>\n",
       "      <th>video_id</th>\n",
       "      <th>plate_nr</th>\n",
       "    </tr>\n",
       "  </thead>\n",
       "  <tbody>\n",
       "    <tr>\n",
       "      <th>0</th>\n",
       "      <td>20230313_Plate031_2</td>\n",
       "      <td>1</td>\n",
       "      <td>0Myr</td>\n",
       "      <td>C2</td>\n",
       "      <td>28520</td>\n",
       "      <td>80140</td>\n",
       "      <td>BF</td>\n",
       "      <td>2</td>\n",
       "      <td>50.0</td>\n",
       "      <td>20.0</td>\n",
       "      <td>30.0</td>\n",
       "      <td>/gpfs/scratch1/shared/amftrackflow/videos/MYRI...</td>\n",
       "      <td>02</td>\n",
       "      <td>20230313</td>\n",
       "      <td>20230313_Plate031</td>\n",
       "      <td>/scratch1/shared/amftrackflow/videos/MYRISTATE...</td>\n",
       "      <td>2</td>\n",
       "      <td>31</td>\n",
       "    </tr>\n",
       "    <tr>\n",
       "      <th>1</th>\n",
       "      <td>20230313_Plate031_5</td>\n",
       "      <td>2</td>\n",
       "      <td>0Myr</td>\n",
       "      <td>C2</td>\n",
       "      <td>27140</td>\n",
       "      <td>80180</td>\n",
       "      <td>BF</td>\n",
       "      <td>2</td>\n",
       "      <td>50.0</td>\n",
       "      <td>20.0</td>\n",
       "      <td>10.0</td>\n",
       "      <td>/gpfs/scratch1/shared/amftrackflow/videos/MYRI...</td>\n",
       "      <td>05</td>\n",
       "      <td>20230313</td>\n",
       "      <td>20230313_Plate031</td>\n",
       "      <td>/scratch1/shared/amftrackflow/videos/MYRISTATE...</td>\n",
       "      <td>5</td>\n",
       "      <td>31</td>\n",
       "    </tr>\n",
       "    <tr>\n",
       "      <th>2</th>\n",
       "      <td>20230313_Plate031_1</td>\n",
       "      <td>3</td>\n",
       "      <td>0Myr</td>\n",
       "      <td>C2</td>\n",
       "      <td>32600</td>\n",
       "      <td>86020</td>\n",
       "      <td>BF</td>\n",
       "      <td>2</td>\n",
       "      <td>50.0</td>\n",
       "      <td>20.0</td>\n",
       "      <td>10.0</td>\n",
       "      <td>/gpfs/scratch1/shared/amftrackflow/videos/MYRI...</td>\n",
       "      <td>01</td>\n",
       "      <td>20230313</td>\n",
       "      <td>20230313_Plate031</td>\n",
       "      <td>/scratch1/shared/amftrackflow/videos/MYRISTATE...</td>\n",
       "      <td>1</td>\n",
       "      <td>31</td>\n",
       "    </tr>\n",
       "    <tr>\n",
       "      <th>3</th>\n",
       "      <td>20230313_Plate031_4</td>\n",
       "      <td>4</td>\n",
       "      <td>0Myr</td>\n",
       "      <td>C2</td>\n",
       "      <td>35220</td>\n",
       "      <td>78840</td>\n",
       "      <td>BF</td>\n",
       "      <td>2</td>\n",
       "      <td>50.0</td>\n",
       "      <td>20.0</td>\n",
       "      <td>10.0</td>\n",
       "      <td>/gpfs/scratch1/shared/amftrackflow/videos/MYRI...</td>\n",
       "      <td>04</td>\n",
       "      <td>20230313</td>\n",
       "      <td>20230313_Plate031</td>\n",
       "      <td>/scratch1/shared/amftrackflow/videos/MYRISTATE...</td>\n",
       "      <td>4</td>\n",
       "      <td>31</td>\n",
       "    </tr>\n",
       "    <tr>\n",
       "      <th>4</th>\n",
       "      <td>20230313_Plate031_3</td>\n",
       "      <td>5</td>\n",
       "      <td>0Myr</td>\n",
       "      <td>C2</td>\n",
       "      <td>38860</td>\n",
       "      <td>93780</td>\n",
       "      <td>BF</td>\n",
       "      <td>2</td>\n",
       "      <td>50.0</td>\n",
       "      <td>20.0</td>\n",
       "      <td>30.0</td>\n",
       "      <td>/gpfs/scratch1/shared/amftrackflow/videos/MYRI...</td>\n",
       "      <td>03</td>\n",
       "      <td>20230313</td>\n",
       "      <td>20230313_Plate031</td>\n",
       "      <td>/scratch1/shared/amftrackflow/videos/MYRISTATE...</td>\n",
       "      <td>3</td>\n",
       "      <td>31</td>\n",
       "    </tr>\n",
       "    <tr>\n",
       "      <th>5</th>\n",
       "      <td>20230313_Plate031_6</td>\n",
       "      <td>6</td>\n",
       "      <td>0Myr</td>\n",
       "      <td>C2</td>\n",
       "      <td>39560</td>\n",
       "      <td>93820</td>\n",
       "      <td>BF</td>\n",
       "      <td>2</td>\n",
       "      <td>50.0</td>\n",
       "      <td>20.0</td>\n",
       "      <td>10.0</td>\n",
       "      <td>/gpfs/scratch1/shared/amftrackflow/videos/MYRI...</td>\n",
       "      <td>06</td>\n",
       "      <td>20230313</td>\n",
       "      <td>20230313_Plate031</td>\n",
       "      <td>/scratch1/shared/amftrackflow/videos/MYRISTATE...</td>\n",
       "      <td>6</td>\n",
       "      <td>31</td>\n",
       "    </tr>\n",
       "  </tbody>\n",
       "</table>\n",
       "</div>"
      ],
      "text/plain": [
       "             unique_id  video_int treatment strain   xpos   ypos mode  \\\n",
       "0  20230313_Plate031_2          1      0Myr     C2  28520  80140   BF   \n",
       "1  20230313_Plate031_5          2      0Myr     C2  27140  80180   BF   \n",
       "2  20230313_Plate031_1          3      0Myr     C2  32600  86020   BF   \n",
       "3  20230313_Plate031_4          4      0Myr     C2  35220  78840   BF   \n",
       "4  20230313_Plate031_3          5      0Myr     C2  38860  93780   BF   \n",
       "5  20230313_Plate031_6          6      0Myr     C2  39560  93820   BF   \n",
       "\n",
       "   binning  magnification   fps  time_(s)  \\\n",
       "0        2           50.0  20.0      30.0   \n",
       "1        2           50.0  20.0      10.0   \n",
       "2        2           50.0  20.0      10.0   \n",
       "3        2           50.0  20.0      10.0   \n",
       "4        2           50.0  20.0      30.0   \n",
       "5        2           50.0  20.0      10.0   \n",
       "\n",
       "                                       tot_path_drop video_name imaging_day  \\\n",
       "0  /gpfs/scratch1/shared/amftrackflow/videos/MYRI...         02    20230313   \n",
       "1  /gpfs/scratch1/shared/amftrackflow/videos/MYRI...         05    20230313   \n",
       "2  /gpfs/scratch1/shared/amftrackflow/videos/MYRI...         01    20230313   \n",
       "3  /gpfs/scratch1/shared/amftrackflow/videos/MYRI...         04    20230313   \n",
       "4  /gpfs/scratch1/shared/amftrackflow/videos/MYRI...         03    20230313   \n",
       "5  /gpfs/scratch1/shared/amftrackflow/videos/MYRI...         06    20230313   \n",
       "\n",
       "            plate_id                                           tot_path  \\\n",
       "0  20230313_Plate031  /scratch1/shared/amftrackflow/videos/MYRISTATE...   \n",
       "1  20230313_Plate031  /scratch1/shared/amftrackflow/videos/MYRISTATE...   \n",
       "2  20230313_Plate031  /scratch1/shared/amftrackflow/videos/MYRISTATE...   \n",
       "3  20230313_Plate031  /scratch1/shared/amftrackflow/videos/MYRISTATE...   \n",
       "4  20230313_Plate031  /scratch1/shared/amftrackflow/videos/MYRISTATE...   \n",
       "5  20230313_Plate031  /scratch1/shared/amftrackflow/videos/MYRISTATE...   \n",
       "\n",
       "  video_id  plate_nr  \n",
       "0        2        31  \n",
       "1        5        31  \n",
       "2        1        31  \n",
       "3        4        31  \n",
       "4        3        31  \n",
       "5        6        31  "
      ]
     },
     "execution_count": 104,
     "metadata": {},
     "output_type": "execute_result"
    }
   ],
   "source": [
    "download_frame = merge_frame.rename(columns={\"tot_path\": \"folder\"})\n",
    "download_frame = download_frame.sort_values(\"unique_id\")\n",
    "download_frame = download_frame.reset_index(drop=True)\n",
    "# dataframe_filtered = dataframe_filtered[dataframe_filtered['date_imaged'] == \"20221026\"]\n",
    "# dataframe_filtered['plate_nr'].unique()\n",
    "dataframe_filtered"
   ]
  },
  {
   "cell_type": "code",
   "execution_count": 107,
   "id": "b0c49c23",
   "metadata": {},
   "outputs": [
    {
     "name": "stdout",
     "output_type": "stream",
     "text": [
      "/gpfs/scratch1/shared/amftrackflow/videos/MYRISTATE/DATA/2_weeks/\n",
      "/DATA/MYRISTATE/DATA/2_weeks/\n"
     ]
    }
   ],
   "source": [
    "# FINAL CHECK FOR SOURCE FOLDER AND UPLOAD FOLDER\n",
    "\n",
    "# Please make sure that the upload folder is correct,\n",
    "# as the program WILL overwrite that which is already there.\n",
    "print(directory_targ)\n",
    "print(upload_targ)"
   ]
  },
  {
   "cell_type": "code",
   "execution_count": 108,
   "id": "26548a30",
   "metadata": {
    "pycharm": {
     "name": "#%%\n"
    },
    "scrolled": true
   },
   "outputs": [
    {
     "name": "stdout",
     "output_type": "stream",
     "text": [
      "/home/svstaalduine/bash/job.sh\n",
      "Sending jobs with id 1688478924896177678\n",
      "6\n"
     ]
    },
    {
     "name": "stderr",
     "output_type": "stream",
     "text": [
      "sbatch: Single-node jobs run on a shared node by default. Add --exclusive if you want to use a node exclusively.\n",
      "sbatch: A full node consists of 128 CPU cores, 229376 MiB of memory and 0 GPUs and can be shared by up to 4 jobs.\n",
      "sbatch: By default shared jobs get 1792 MiB of memory per CPU core, unless explicitly overridden with --mem-per-cpu, --mem-per-gpu or --mem.\n",
      "sbatch: You will be charged for 0.25 node, based on the number of CPUs, GPUs and the amount memory that you've requested.\n"
     ]
    },
    {
     "name": "stdout",
     "output_type": "stream",
     "text": [
      "Submitted batch job 3015215\n"
     ]
    }
   ],
   "source": [
    "nr_parallel = np.min([len(dataframe.index), 16])\n",
    "\n",
    "run_parallel_flows(\n",
    "    \"flux_extract.py\",\n",
    "    [directory_targ, 15, 0.95, 0.001, 60, upload_targ],\n",
    "    dataframe_filtered,\n",
    "    nr_parallel,\n",
    "    \"1:00:00\",\n",
    "    \"flux_extract\",\n",
    ")"
   ]
  },
  {
   "cell_type": "markdown",
   "id": "acce42c0",
   "metadata": {},
   "source": [
    "Upload the proper excel files to the analysis folder."
   ]
  },
  {
   "cell_type": "code",
   "execution_count": 56,
   "id": "6bfaeee3",
   "metadata": {},
   "outputs": [],
   "source": [
    "parent_folder = []\n",
    "data_table = []\n",
    "magnification = []\n",
    "fps = []\n",
    "mode = []\n",
    "binning = []\n",
    "\n",
    "\n",
    "for row in dataframe.iloc:\n",
    "    parent_folder.append(str(Path(row[\"tot_path_drop\"]).parent))\n",
    "    excel_file = glob(\n",
    "        str(Path(row[\"tot_path_drop\"]).parent)\n",
    "        + f'/*{row[\"Date Imaged\"]}*{row[\"Plate number\"]}.xl*'\n",
    "    )\n",
    "    if len(excel_file) > 0:\n",
    "        data_table.append(excel_file[0])\n",
    "        excel_table = pd.read_excel(excel_file[0])\n",
    "        magnification.append(\n",
    "            excel_table[\n",
    "                excel_table[\"Unnamed: 0\"].str.contains(\n",
    "                    row[\"video_name\"], case=False, na=False\n",
    "                )\n",
    "            ][\"Magnification\"].iloc[0]\n",
    "        )\n",
    "        fps.append(\n",
    "            excel_table.loc[\n",
    "                excel_table[\"Unnamed: 0\"].str.contains(\n",
    "                    row[\"video_name\"], case=False, na=False\n",
    "                )\n",
    "            ][\"FPS\"].iloc[0]\n",
    "        )\n",
    "        mode.append(\n",
    "            excel_table.loc[\n",
    "                excel_table[\"Unnamed: 0\"].str.contains(\n",
    "                    row[\"video_name\"], case=False, na=False\n",
    "                )\n",
    "            ][\"Bright-field (BF)\\nor\\nFluorescence (F)\"].iloc[0]\n",
    "        )\n",
    "        if \"Binned (Y/N)\" in excel_table:\n",
    "            binning.append(\n",
    "                excel_table.loc[\n",
    "                    excel_table[\"Unnamed: 0\"].str.contains(\n",
    "                        row[\"video_name\"], case=False, na=False\n",
    "                    )\n",
    "                ][\"Binned (Y/N)\"].iloc[0]\n",
    "            )\n",
    "        else:\n",
    "            binning.append(\"N\")\n",
    "    else:\n",
    "        csv_file = glob(\n",
    "            str(Path(row[\"tot_path_drop\"]).parent)\n",
    "            + f'/{row[\"Date Imaged\"]}*{row[\"Plate number\"]}.csv'\n",
    "        )\n",
    "        if len(csv_file) > 0:\n",
    "            data_table.append(csv_file[0])\n",
    "            df_comma = pd.read_csv(csv_file[0], nrows=1, sep=\",\")\n",
    "            df_semi = pd.read_csv(csv_file[0], nrows=1, sep=\";\")\n",
    "            if df_comma.shape[1] > df_semi.shape[1]:\n",
    "                csv_table = pd.read_csv(csv_file[0], sep=\",\")\n",
    "            else:\n",
    "                csv_table = pd.read_csv(csv_file[0], sep=\";\")\n",
    "\n",
    "            magnification.append(\n",
    "                csv_table[csv_table[\"video\"] == int(row[\"video_name\"])][\"Lens\"].iloc[0]\n",
    "            )\n",
    "            fps.append(\n",
    "                csv_table.loc[\n",
    "                    csv_table[\"video\"] == int(row[\"video_name\"].split(\"_\")[-1])\n",
    "                ][\"fps\"].iloc[0]\n",
    "            )\n",
    "            mode.append(\n",
    "                csv_table.loc[\n",
    "                    csv_table[\"video\"] == int(row[\"video_name\"].split(\"_\")[-1])\n",
    "                ][\"Illumination\"].iloc[0]\n",
    "            )\n",
    "            binning.append(\n",
    "                csv_table.loc[\n",
    "                    csv_table[\"video\"] == int(row[\"video_name\"].split(\"_\")[-1])\n",
    "                ][\"Binned\"].iloc[0]\n",
    "            )\n",
    "        else:\n",
    "            print(\"Halp! No datatable found! Pls add the excel file to the folders.\")\n",
    "\n",
    "dataframe[\"fps\"] = fps\n",
    "dataframe[\"magnification\"] = magnification\n",
    "dataframe[\"mode\"] = mode\n",
    "dataframe[\"parent_folder\"] = [\n",
    "    os.path.relpath(address, directory_targ) for address in dataframe[\"tot_path_drop\"]\n",
    "]\n",
    "dataframe[\"data_table\"] = data_table\n",
    "dataframe[\"binned\"] = binning\n",
    "\n",
    "dataframe = dataframe.sort_values(by=\"video_name\", ignore_index=True)\n",
    "# dataframe = dataframe[dataframe['video_nr']== 9]\n",
    "# dataframe = dataframe[dataframe['plate_nr'] == '046']\n",
    "# print(len(dataframe))\n",
    "# print(data_table)\n",
    "\n",
    "\n",
    "if dataframe.isnull().values.any():\n",
    "    print(\"Found NaNs in the excel files! Blame the experimentalists.\")\n",
    "    dataframe = dataframe.interpolate(method=\"pad\", limit_direction=\"forward\")\n",
    "if dataframe.isnull().values.any():\n",
    "    raise (\"This excel sheet is unworkable, please ask the responsible person\")"
   ]
  },
  {
   "cell_type": "code",
   "execution_count": 28,
   "id": "57f08d04",
   "metadata": {},
   "outputs": [
    {
     "data": {
      "text/plain": [
       "array(['/gpfs/scratch1/shared/amftrackflow/videos/MYRISTATE/DATA/2_weeks/20230313_Plate031/20230313_Plate031.csv'],\n",
       "      dtype=object)"
      ]
     },
     "execution_count": 28,
     "metadata": {},
     "output_type": "execute_result"
    }
   ],
   "source": [
    "excel_series = pd.Series(data_table).unique()\n",
    "excel_series"
   ]
  },
  {
   "cell_type": "code",
   "execution_count": 19,
   "id": "51cb59f7",
   "metadata": {
    "pycharm": {
     "name": "#%%\n"
    }
   },
   "outputs": [
    {
     "name": "stdout",
     "output_type": "stream",
     "text": [
      "/DATA/FLUORESCENCE/DATA_NileRed/Analysis/20230123_Plate545/Fluorescence_ex_20230123_Plate545.xlsx\n",
      "2023-06-20 11:12:22,949-[INFO]- dropbox:390 -> Refreshing access token.\n",
      "2023-06-20 11:12:23,475-[INFO]- dropbox:474 -> Request to files/upload\n",
      "/DATA/FLUORESCENCE/DATA_NileRed/Analysis/20221108_Plate462/Fluorescence_ex_20221108_plate462.xlsx\n",
      "2023-06-20 11:12:24,281-[INFO]- dropbox:390 -> Refreshing access token.\n",
      "2023-06-20 11:12:24,452-[INFO]- dropbox:474 -> Request to files/upload\n",
      "/DATA/FLUORESCENCE/DATA_NileRed/Analysis/20230125_Plate532/Fluorescence_ex_20230125_Plate532.xlsx\n",
      "2023-06-20 11:12:24,970-[INFO]- dropbox:390 -> Refreshing access token.\n",
      "2023-06-20 11:12:25,158-[INFO]- dropbox:474 -> Request to files/upload\n",
      "/DATA/FLUORESCENCE/DATA_NileRed/Analysis/20221109_Plate462/Fluorescence_ex_20221109_plate462.xlsx\n",
      "2023-06-20 11:12:25,825-[INFO]- dropbox:390 -> Refreshing access token.\n",
      "2023-06-20 11:12:26,029-[INFO]- dropbox:474 -> Request to files/upload\n",
      "/DATA/FLUORESCENCE/DATA_NileRed/Analysis/20230123_Plate530/Fluorescence_ex_20230123_Plate530.xlsx\n",
      "2023-06-20 11:12:26,936-[INFO]- dropbox:390 -> Refreshing access token.\n",
      "2023-06-20 11:12:27,118-[INFO]- dropbox:474 -> Request to files/upload\n",
      "/DATA/FLUORESCENCE/DATA_NileRed/Analysis/20230201_Plate552/Fluorescence_ex_20230201_Plate552.xlsx\n",
      "2023-06-20 11:12:27,802-[INFO]- dropbox:390 -> Refreshing access token.\n",
      "2023-06-20 11:12:27,951-[INFO]- dropbox:474 -> Request to files/upload\n",
      "/DATA/FLUORESCENCE/DATA_NileRed/Analysis/20221208_Plate510/Fluorescence_ex_20221208_Plate510.xlsx\n",
      "2023-06-20 11:12:28,524-[INFO]- dropbox:390 -> Refreshing access token.\n",
      "2023-06-20 11:12:28,674-[INFO]- dropbox:474 -> Request to files/upload\n",
      "/DATA/FLUORESCENCE/DATA_NileRed/Analysis/20221026_Plate452/Fluorescence_ex_20221026_plate452.xlsx\n",
      "2023-06-20 11:12:29,265-[INFO]- dropbox:390 -> Refreshing access token.\n",
      "2023-06-20 11:12:29,418-[INFO]- dropbox:474 -> Request to files/upload\n",
      "/DATA/FLUORESCENCE/DATA_NileRed/Analysis/20230201_Plate558/Fluorescence_ex_20230201_Plate558.xlsx\n",
      "2023-06-20 11:12:30,140-[INFO]- dropbox:390 -> Refreshing access token.\n",
      "2023-06-20 11:12:30,291-[INFO]- dropbox:474 -> Request to files/upload\n",
      "/DATA/FLUORESCENCE/DATA_NileRed/Analysis/20221027_Plate452/Fluorescence_ex_20221027_plate452.xlsx\n",
      "2023-06-20 11:12:31,018-[INFO]- dropbox:390 -> Refreshing access token.\n",
      "2023-06-20 11:12:31,169-[INFO]- dropbox:474 -> Request to files/upload\n",
      "/DATA/FLUORESCENCE/DATA_NileRed/Analysis/20230126_Plate528/Fluorescence_ex_20230126_Plate528.xlsx\n",
      "2023-06-20 11:12:31,820-[INFO]- dropbox:390 -> Refreshing access token.\n",
      "2023-06-20 11:12:31,989-[INFO]- dropbox:474 -> Request to files/upload\n",
      "/DATA/FLUORESCENCE/DATA_NileRed/Analysis/20230126_Plate527/Fluorescence_ex_20230126_Plate527.xlsx\n",
      "2023-06-20 11:12:32,645-[INFO]- dropbox:390 -> Refreshing access token.\n",
      "2023-06-20 11:12:32,794-[INFO]- dropbox:474 -> Request to files/upload\n",
      "/DATA/FLUORESCENCE/DATA_NileRed/Analysis/20230118_Plate537/Fluorescence_ex_20230118_Plate537.xlsx\n",
      "2023-06-20 11:12:33,430-[INFO]- dropbox:390 -> Refreshing access token.\n",
      "2023-06-20 11:12:33,586-[INFO]- dropbox:474 -> Request to files/upload\n"
     ]
    }
   ],
   "source": [
    "for xl_address in excel_series:\n",
    "    file_name = \"Analysis/\" + os.path.relpath(xl_address, directory_targ)\n",
    "    print(upload_targ + file_name)\n",
    "    upload(xl_adress, upload_targ + file_name)"
   ]
  },
  {
   "cell_type": "code",
   "execution_count": null,
   "id": "6bba2118",
   "metadata": {},
   "outputs": [],
   "source": []
  }
 ],
 "metadata": {
  "kernelspec": {
   "display_name": "Python 3 (ipykernel)",
   "language": "python",
   "name": "python3"
  },
  "language_info": {
   "codemirror_mode": {
    "name": "ipython",
    "version": 3
   },
   "file_extension": ".py",
   "mimetype": "text/x-python",
   "name": "python",
   "nbconvert_exporter": "python",
   "pygments_lexer": "ipython3",
   "version": "3.9.5"
  }
 },
 "nbformat": 4,
 "nbformat_minor": 5
}

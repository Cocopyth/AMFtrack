{
 "cells": [
  {
   "cell_type": "code",
   "execution_count": 6,
   "id": "382a263d-1ac6-44d1-885d-4e898f40caa9",
   "metadata": {},
   "outputs": [
    {
     "name": "stdout",
     "output_type": "stream",
     "text": [
      "The autoreload extension is already loaded. To reload it, use:\n",
      "  %reload_ext autoreload\n"
     ]
    }
   ],
   "source": [
    "%load_ext autoreload\n",
    "%autoreload 2\n",
    "%matplotlib widget\n",
    "from datetime import timedelta\n",
    "import networkx as nx\n",
    "from amftrack.pipeline.launching.run_super import (\n",
    "    run_launcher,\n",
    "    directory_scratch,\n",
    "    directory_project,\n",
    "    directory_project,\n",
    "    run_parallel_stitch,\n",
    "    run_parallel_transfer,\n",
    ")\n",
    "import os\n",
    "from amftrack.util.sys import (\n",
    "    get_dates_datetime,\n",
    "    get_dirname,\n",
    "    temp_path,\n",
    "    get_data_info,\n",
    "    update_plate_info,\n",
    "    update_analysis_info,\n",
    "    get_analysis_info,\n",
    "    get_current_folders,\n",
    "    get_folders_by_plate_id,\n",
    ")\n",
    "\n",
    "from time import time_ns\n",
    "from amftrack.util.dbx import upload_folders, load_dbx, download, get_dropbox_folders\n",
    "from datetime import datetime\n",
    "from amftrack.pipeline.launching.run_super import (\n",
    "    run_parallel,\n",
    "    directory_scratch,\n",
    "    directory_project,\n",
    "    run_parallel_stitch,\n",
    ")\n",
    "from amftrack.util.dbx import read_saved_dropbox_state, get_dropbox_folders\n",
    "import sys\n",
    "import os\n",
    "\n",
    "from amftrack.util.sys import get_dirname, temp_path\n",
    "import pandas as pd\n",
    "import ast\n",
    "from scipy import sparse\n",
    "import scipy.io as sio\n",
    "import cv2\n",
    "import imageio.v2 as imageio\n",
    "import numpy as np\n",
    "import scipy.sparse\n",
    "import os\n",
    "from time import time\n",
    "from amftrack.pipeline.functions.image_processing.extract_skel import (\n",
    "    extract_skel_new_prince,\n",
    "    run_back_sub,\n",
    "    bowler_hat,\n",
    ")\n",
    "\n",
    "from amftrack.util.sys import get_dates_datetime, get_dirname\n",
    "import shutil\n",
    "import matplotlib.pyplot as plt\n",
    "from amftrack.pipeline.functions.image_processing.experiment_class_surf import (\n",
    "    Experiment,\n",
    "    save_graphs,\n",
    "    load_graphs,\n",
    "    Edge,\n",
    "    Node,\n",
    ")\n",
    "from amftrack.pipeline.functions.image_processing.experiment_util import (\n",
    "    get_random_edge,\n",
    "    distance_point_edge,\n",
    "    plot_edge,\n",
    "    plot_edge_cropped,\n",
    "    find_nearest_edge,\n",
    "    get_edge_from_node_labels,\n",
    "    plot_full_image_with_features,\n",
    "    get_all_edges,\n",
    "    get_all_nodes,\n",
    "    find_neighboring_edges,\n",
    "    reconstruct_image,\n",
    "    reconstruct_skeletton_from_edges,\n",
    "    reconstruct_skeletton_unicolor,\n",
    "    reconstruct_image_from_general,\n",
    "    plot_full,\n",
    "    plot_edge_color_value,\n",
    ")\n",
    "from matplotlib import cm\n",
    "import matplotlib.patches as mpatches"
   ]
  },
  {
   "cell_type": "code",
   "execution_count": 2,
   "id": "1e050588-7e69-4944-ac9f-d139ff3ba403",
   "metadata": {},
   "outputs": [],
   "source": [
    "plates = [\n",
    "    # \"52_20220707\",\n",
    "    # \"56_20220701\",\n",
    "    # \"59_20201126\",\n",
    "    # \"69_20201119\",\n",
    "    # \"76_20210108\",\n",
    "    # \"81_20220704\",\n",
    "    # \"84_20220621\",\n",
    "    # \"94_20201123\",\n",
    "    # \"102_20201226\",\n",
    "    # \"152_20201224\",\n",
    "    \"59_20201126\",\n",
    "    \"792_20210915\",\n",
    "    \"1076_20220511\",\n",
    "    \"1014_20220525\",\n",
    "    \"1023_20220502\",\n",
    "    \"1042_20220523\",\n",
    "    # '1045_20220504',\n",
    "    \"1048_20220506\",\n",
    "    \"1053_20220413\",\n",
    "    \"52_20220707\",\n",
    "    \"56_20220701\",\n",
    "]"
   ]
  },
  {
   "cell_type": "code",
   "execution_count": 7,
   "id": "4b716fc8-ef48-427f-8676-479c8dc60327",
   "metadata": {},
   "outputs": [
    {
     "data": {
      "application/vnd.jupyter.widget-view+json": {
       "model_id": "59721775d71f467c983c0bb021ce78f3",
       "version_major": 2,
       "version_minor": 0
      },
      "text/plain": [
       "analysed:   0%|          | 0/2559 [00:00<?, ?it/s]"
      ]
     },
     "metadata": {},
     "output_type": "display_data"
    }
   ],
   "source": [
    "directory_targ = os.path.join(directory_scratch, \"stitch_temp2\") + \"/\"\n",
    "# directory_targ = directory_project\n",
    "\n",
    "update_plate_info(directory_targ, local=True)\n",
    "all_folders = get_current_folders(directory_targ, local=True)"
   ]
  },
  {
   "cell_type": "code",
   "execution_count": 8,
   "id": "53173750-9bfe-4311-a013-fe8501691e2a",
   "metadata": {},
   "outputs": [],
   "source": [
    "plate = \"792_20210915\"\n",
    "folders = all_folders.loc[all_folders[\"unique_id\"] == plate]\n",
    "folders = folders.loc[folders[\"/Analysis/nx_graph_pruned_width.p\"] == True]\n",
    "folders = folders.sort_values(by=\"datetime\")"
   ]
  },
  {
   "cell_type": "code",
   "execution_count": 9,
   "id": "9eed549a-de7e-4587-b262-6747a93b7c36",
   "metadata": {},
   "outputs": [
    {
     "name": "stderr",
     "output_type": "stream",
     "text": [
      "/gpfs/home2/cbisot/pycode/AMFtrack/amftrack/pipeline/functions/image_processing/experiment_class_surf.py:104: SettingWithCopyWarning: \n",
      "A value is trying to be set on a copy of a slice from a DataFrame.\n",
      "Try using .loc[row_indexer,col_indexer] = value instead\n",
      "\n",
      "See the caveats in the documentation: https://pandas.pydata.org/pandas-docs/stable/user_guide/indexing.html#returning-a-view-versus-a-copy\n",
      "  self.folders[\"date\"], format=\"%d.%m.%Y, %H:%M:\"\n"
     ]
    },
    {
     "name": "stdout",
     "output_type": "stream",
     "text": [
      "2021-09-16 11:18:00\n"
     ]
    }
   ],
   "source": [
    "folders = folders.sort_values(by=\"datetime\")\n",
    "\n",
    "exp = Experiment(directory_targ)\n",
    "i = 10\n",
    "exp.load(folders.iloc[i : i + 1], suffix=\"_width\")\n",
    "for t in range(exp.ts):\n",
    "    exp.load_tile_information(t)"
   ]
  },
  {
   "cell_type": "code",
   "execution_count": null,
   "id": "b1491090-2b27-4416-b8a7-b07d2754ec3e",
   "metadata": {},
   "outputs": [],
   "source": [
    "import networkx as nx\n",
    "\n",
    "G = exp.nx_graph[t]\n",
    "components = nx.connected_components(G)\n",
    "\n",
    "# Find the largest connected component\n",
    "largest_component = max(components, key=len)\n",
    "\n",
    "# Create a new graph representing the largest connected component\n",
    "largest_component_graph = G.subgraph(largest_component)\n",
    "exp.nx_graph[t] = largest_component_graph"
   ]
  },
  {
   "cell_type": "code",
   "execution_count": 10,
   "id": "b4ca62ac-0cfd-45ef-aa07-9bc4022e39e2",
   "metadata": {},
   "outputs": [],
   "source": [
    "from amftrack.pipeline.functions.image_processing.experiment_util import *"
   ]
  },
  {
   "cell_type": "code",
   "execution_count": 11,
   "id": "a1f42bef-2b5d-4b5c-bad8-8dae848503be",
   "metadata": {
    "tags": []
   },
   "outputs": [],
   "source": [
    "def plot_paper(\n",
    "    exp: Experiment,\n",
    "    t: int,\n",
    "    color_fun: Callable,\n",
    "    region=None,\n",
    "    intervals=[[1, 4], [4, 6], [6, 10], [10, 20]],\n",
    "    cmap=cm.get_cmap(\"Reds\", 100),\n",
    "    plot_cmap=False,\n",
    "    v_max=10,\n",
    "    v_min=0,\n",
    "    nodes: List[Node] = [],\n",
    "    downsizing=5,\n",
    "    dilation=5,\n",
    "    save_path=\"\",\n",
    "    color_seed=12,\n",
    "    dpi=None,\n",
    "    show_background=True,\n",
    "    label_colorbar=\"Width ($\\mu m)$\",\n",
    "    figsize=(36, 24),\n",
    "    figax=None,\n",
    "    alpha=0.5,\n",
    ") -> None:\n",
    "    \"\"\"\n",
    "    Plot the width for all the edges at a given timestep.\n",
    "\n",
    "    :param region: choosen region in the full image, such as [[100, 100], [2000,2000]], if None the full image is shown\n",
    "    :param color_fun: edge -> float a function of edges that needs to be color plotted\n",
    "\n",
    "    :param nodes: list of nodes to plot\n",
    "    :param downsizing: factor by which we reduce the image resolution (5 -> image 25 times lighter)\n",
    "    :param dilation: only for edges: thickness of the edges (dilation applied to the pixel list)\n",
    "    :param save_path: full path to the location where the plot will be saved\n",
    "    :param intervals: different width intervals that will be given different colors\n",
    "    :param cmap: a colormap to map width to color\n",
    "    :param plot_cmap: a boolean, whether or not to plot with cmap\n",
    "    :param v_max: the max width for the colorbar/colormap\n",
    "    \"\"\"\n",
    "    DIM_X, DIM_Y = get_dimX_dimY(exp)\n",
    "\n",
    "    if region == None:\n",
    "        # Full image\n",
    "        image_coodinates = exp.image_coordinates[t]\n",
    "        region = get_bounding_box(image_coodinates)\n",
    "        region[1][0] += DIM_X\n",
    "        region[1][1] += DIM_Y\n",
    "\n",
    "    edges = get_all_edges(exp, t)\n",
    "    if figax is None:\n",
    "        fig = plt.figure(\n",
    "            figsize=figsize\n",
    "        )  # width: 30 cm height: 20 cm # TODO(FK): change dpi\n",
    "        ax = fig.add_subplot(111)\n",
    "    else:\n",
    "        fig, ax = figax\n",
    "\n",
    "    # Give colors to edges\n",
    "    default_color = 1000\n",
    "    colors = []\n",
    "    widths = []\n",
    "    for edge in edges:\n",
    "        width = color_fun(edge)\n",
    "        widths.append(width)\n",
    "        if not plot_cmap:\n",
    "            color = default_color\n",
    "            for i, interval in enumerate(intervals):\n",
    "                if interval[0] <= width and width < interval[1]:\n",
    "                    color = i + color_seed\n",
    "            colors.append(color)\n",
    "    if plot_cmap:\n",
    "        colors = [cmap((width - v_min) / (v_max - v_min)) for width in widths]\n",
    "    # 0/ Make color legend\n",
    "    def convert(c):\n",
    "        c_ = c / 255\n",
    "        return (c_[0], c_[1], c_[2])\n",
    "\n",
    "    # 1/ Image layer\n",
    "    if show_background:\n",
    "        im, f = reconstruct_image_from_general(\n",
    "            exp,\n",
    "            t,\n",
    "            downsizing=downsizing,\n",
    "            region=region,\n",
    "            prettify=False,\n",
    "            white_background=False,\n",
    "        )\n",
    "        f_int = lambda c: f(c).astype(int)\n",
    "\n",
    "    # 2/ Edges layer\n",
    "    color_list = (\n",
    "        [(np.array(color) * 255).astype(int) for color in colors] if plot_cmap else None\n",
    "    )\n",
    "    from_edges = reconstruct_skeletton_from_edges(\n",
    "        exp,\n",
    "        t,\n",
    "        edges=edges,\n",
    "        region=region,\n",
    "        color_seeds=colors,\n",
    "        color_list=color_list,\n",
    "        downsizing=downsizing,\n",
    "        dilation=dilation,\n",
    "        timestep=False,\n",
    "    )\n",
    "    skel_im, _ = from_edges\n",
    "    if show_background:\n",
    "        new_region = [\n",
    "            f_int(region[0]),\n",
    "            f_int(region[1]),\n",
    "        ]  # should be [[0, 0], [d_x/downsized, d_y/downsized]]\n",
    "\n",
    "    # 3/ Fusing layers\n",
    "    if show_background:\n",
    "        ax.imshow(im, cmap=\"gray\", interpolation=\"none\")\n",
    "    ax.imshow(skel_im, alpha=alpha, interpolation=\"none\", aspect=\"equal\")\n",
    "\n",
    "    # 3/ Plotting the Nodes\n",
    "    size = 5\n",
    "    bbox_props = dict(boxstyle=\"circle\", fc=\"white\")\n",
    "    for node in nodes:\n",
    "        c = node.pos(t)\n",
    "        if is_in_bounding_box(c, region):\n",
    "            c = f(node.pos(t))\n",
    "            node_text = ax.text(\n",
    "                c[1],\n",
    "                c[0],\n",
    "                str(node.label),\n",
    "                ha=\"center\",\n",
    "                va=\"center\",\n",
    "                size=size,\n",
    "                bbox=bbox_props,\n",
    "            )\n",
    "    ax.set_xticks([])\n",
    "    ax.set_yticks([])\n",
    "    return fig, ax"
   ]
  },
  {
   "cell_type": "code",
   "execution_count": null,
   "id": "2af94b13-6009-470f-bded-5e9648fe8699",
   "metadata": {},
   "outputs": [],
   "source": [
    "vmax = 10\n",
    "vmin = 0\n",
    "downsizing = 10\n",
    "width = 2\n",
    "height = 1.5\n",
    "region = [[0, 0], [4000 * 5, 10000 * 5]]\n",
    "nodes = get_all_nodes(exp, t)\n",
    "\n",
    "fig, ax = plot_paper(\n",
    "    exp,\n",
    "    t,\n",
    "    lambda edge: 5,\n",
    "    region=region,\n",
    "    # nodes = nodes,\n",
    "    cmap=cm.get_cmap(\"viridis\", 100),\n",
    "    v_min=vmin,\n",
    "    v_max=vmax,\n",
    "    plot_cmap=False,\n",
    "    show_background=False,\n",
    "    dilation=5,\n",
    "    figsize=(width, height),\n",
    "    alpha=1,\n",
    "    downsizing=downsizing,\n",
    ")\n",
    "rect = mpatches.Rectangle((100, 100), 1000 * 1.725 / downsizing, 50, color=\"black\")\n",
    "\n",
    "# Add the rectangle to the plot\n",
    "ax.add_patch(rect)\n",
    "time = int(\n",
    "    (\n",
    "        folders.iloc[i : i + 1][\"datetime\"].iloc[0] - folders.iloc[0][\"datetime\"]\n",
    "    ).total_seconds()\n",
    "    / 3600\n",
    ")\n",
    "# plt.savefig(os.path.join(\"figures\",f\"{folders.iloc[i:i+1]['datetime'].iloc[0]}_{plate}.pdf\"), transparent=True, bbox_inches='tight')\n",
    "ax.text(3500, 400, f\"t = {time}h\", size=6)\n",
    "\n",
    "plt.savefig(\n",
    "    os.path.join(\"figures\", f\"{time}_{plate}.pdf\"),\n",
    "    transparent=True,\n",
    "    bbox_inches=\"tight\",\n",
    ")"
   ]
  },
  {
   "cell_type": "code",
   "execution_count": 12,
   "id": "38d76a8b-1df2-4192-b265-f8717227f3e0",
   "metadata": {},
   "outputs": [],
   "source": [
    "shifts = {\n",
    "    52: 20,\n",
    "    56: 30,\n",
    "    59: 10,\n",
    "    76: 5,\n",
    "    # 69 : 30,\n",
    "    # 81 : 0,\n",
    "    84: 30,\n",
    "    94: 40,\n",
    "    # 102 : 10,\n",
    "    152: 15,\n",
    "    792: 30,\n",
    "    1076: 15,\n",
    "    941: 10,\n",
    "}"
   ]
  },
  {
   "cell_type": "code",
   "execution_count": 15,
   "id": "90497434-1393-41d6-935c-e6857a61613a",
   "metadata": {},
   "outputs": [
    {
     "name": "stdout",
     "output_type": "stream",
     "text": [
      "0 days 00:00:00\n",
      "0 days 01:57:00\n",
      "0 days 00:03:00\n",
      "2020-11-29 14:09:00\n"
     ]
    },
    {
     "name": "stderr",
     "output_type": "stream",
     "text": [
      "/gpfs/home2/cbisot/pycode/AMFtrack/amftrack/pipeline/functions/image_processing/experiment_class_surf.py:104: SettingWithCopyWarning: \n",
      "A value is trying to be set on a copy of a slice from a DataFrame.\n",
      "Try using .loc[row_indexer,col_indexer] = value instead\n",
      "\n",
      "See the caveats in the documentation: https://pandas.pydata.org/pandas-docs/stable/user_guide/indexing.html#returning-a-view-versus-a-copy\n",
      "  self.folders[\"date\"], format=\"%d.%m.%Y, %H:%M:\"\n",
      "/gpfs/home2/cbisot/pycode/AMFtrack/amftrack/pipeline/functions/image_processing/experiment_class_surf.py:104: SettingWithCopyWarning: \n",
      "A value is trying to be set on a copy of a slice from a DataFrame.\n",
      "Try using .loc[row_indexer,col_indexer] = value instead\n",
      "\n",
      "See the caveats in the documentation: https://pandas.pydata.org/pandas-docs/stable/user_guide/indexing.html#returning-a-view-versus-a-copy\n",
      "  self.folders[\"date\"], format=\"%d.%m.%Y, %H:%M:\"\n"
     ]
    },
    {
     "name": "stdout",
     "output_type": "stream",
     "text": [
      "2020-11-30 22:06:00\n"
     ]
    },
    {
     "name": "stderr",
     "output_type": "stream",
     "text": [
      "/gpfs/home2/cbisot/pycode/AMFtrack/amftrack/pipeline/functions/image_processing/experiment_class_surf.py:104: SettingWithCopyWarning: \n",
      "A value is trying to be set on a copy of a slice from a DataFrame.\n",
      "Try using .loc[row_indexer,col_indexer] = value instead\n",
      "\n",
      "See the caveats in the documentation: https://pandas.pydata.org/pandas-docs/stable/user_guide/indexing.html#returning-a-view-versus-a-copy\n",
      "  self.folders[\"date\"], format=\"%d.%m.%Y, %H:%M:\"\n"
     ]
    },
    {
     "name": "stdout",
     "output_type": "stream",
     "text": [
      "2020-12-02 02:06:00\n",
      "0 days 00:00:00\n",
      "0 days 00:54:00\n",
      "0 days 03:05:00\n",
      "2022-07-04 00:07:00\n"
     ]
    },
    {
     "name": "stderr",
     "output_type": "stream",
     "text": [
      "/gpfs/home2/cbisot/pycode/AMFtrack/amftrack/pipeline/functions/image_processing/experiment_class_surf.py:104: SettingWithCopyWarning: \n",
      "A value is trying to be set on a copy of a slice from a DataFrame.\n",
      "Try using .loc[row_indexer,col_indexer] = value instead\n",
      "\n",
      "See the caveats in the documentation: https://pandas.pydata.org/pandas-docs/stable/user_guide/indexing.html#returning-a-view-versus-a-copy\n",
      "  self.folders[\"date\"], format=\"%d.%m.%Y, %H:%M:\"\n",
      "/gpfs/home2/cbisot/pycode/AMFtrack/amftrack/pipeline/functions/image_processing/experiment_class_surf.py:104: SettingWithCopyWarning: \n",
      "A value is trying to be set on a copy of a slice from a DataFrame.\n",
      "Try using .loc[row_indexer,col_indexer] = value instead\n",
      "\n",
      "See the caveats in the documentation: https://pandas.pydata.org/pandas-docs/stable/user_guide/indexing.html#returning-a-view-versus-a-copy\n",
      "  self.folders[\"date\"], format=\"%d.%m.%Y, %H:%M:\"\n"
     ]
    },
    {
     "name": "stdout",
     "output_type": "stream",
     "text": [
      "2022-07-05 05:13:00\n"
     ]
    },
    {
     "name": "stderr",
     "output_type": "stream",
     "text": [
      "/gpfs/home2/cbisot/pycode/AMFtrack/amftrack/pipeline/functions/image_processing/experiment_class_surf.py:104: SettingWithCopyWarning: \n",
      "A value is trying to be set on a copy of a slice from a DataFrame.\n",
      "Try using .loc[row_indexer,col_indexer] = value instead\n",
      "\n",
      "See the caveats in the documentation: https://pandas.pydata.org/pandas-docs/stable/user_guide/indexing.html#returning-a-view-versus-a-copy\n",
      "  self.folders[\"date\"], format=\"%d.%m.%Y, %H:%M:\"\n"
     ]
    },
    {
     "name": "stdout",
     "output_type": "stream",
     "text": [
      "2022-07-06 09:02:00\n",
      "0 days 00:00:00\n",
      "0 days 00:00:00\n",
      "0 days 00:06:00\n",
      "2021-09-18 03:29:00\n"
     ]
    },
    {
     "name": "stderr",
     "output_type": "stream",
     "text": [
      "/gpfs/home2/cbisot/pycode/AMFtrack/amftrack/pipeline/functions/image_processing/experiment_class_surf.py:104: SettingWithCopyWarning: \n",
      "A value is trying to be set on a copy of a slice from a DataFrame.\n",
      "Try using .loc[row_indexer,col_indexer] = value instead\n",
      "\n",
      "See the caveats in the documentation: https://pandas.pydata.org/pandas-docs/stable/user_guide/indexing.html#returning-a-view-versus-a-copy\n",
      "  self.folders[\"date\"], format=\"%d.%m.%Y, %H:%M:\"\n",
      "/gpfs/home2/cbisot/pycode/AMFtrack/amftrack/pipeline/functions/image_processing/experiment_class_surf.py:104: SettingWithCopyWarning: \n",
      "A value is trying to be set on a copy of a slice from a DataFrame.\n",
      "Try using .loc[row_indexer,col_indexer] = value instead\n",
      "\n",
      "See the caveats in the documentation: https://pandas.pydata.org/pandas-docs/stable/user_guide/indexing.html#returning-a-view-versus-a-copy\n",
      "  self.folders[\"date\"], format=\"%d.%m.%Y, %H:%M:\"\n"
     ]
    },
    {
     "name": "stdout",
     "output_type": "stream",
     "text": [
      "2021-09-19 09:29:00\n"
     ]
    },
    {
     "name": "stderr",
     "output_type": "stream",
     "text": [
      "/gpfs/home2/cbisot/pycode/AMFtrack/amftrack/pipeline/functions/image_processing/experiment_class_surf.py:104: SettingWithCopyWarning: \n",
      "A value is trying to be set on a copy of a slice from a DataFrame.\n",
      "Try using .loc[row_indexer,col_indexer] = value instead\n",
      "\n",
      "See the caveats in the documentation: https://pandas.pydata.org/pandas-docs/stable/user_guide/indexing.html#returning-a-view-versus-a-copy\n",
      "  self.folders[\"date\"], format=\"%d.%m.%Y, %H:%M:\"\n"
     ]
    },
    {
     "name": "stdout",
     "output_type": "stream",
     "text": [
      "2021-09-20 15:23:00\n",
      "0 days 00:00:00\n",
      "0 days 00:02:00\n",
      "0 days 00:04:00\n",
      "2022-05-12 22:23:00\n"
     ]
    },
    {
     "name": "stderr",
     "output_type": "stream",
     "text": [
      "/gpfs/home2/cbisot/pycode/AMFtrack/amftrack/pipeline/functions/image_processing/experiment_class_surf.py:104: SettingWithCopyWarning: \n",
      "A value is trying to be set on a copy of a slice from a DataFrame.\n",
      "Try using .loc[row_indexer,col_indexer] = value instead\n",
      "\n",
      "See the caveats in the documentation: https://pandas.pydata.org/pandas-docs/stable/user_guide/indexing.html#returning-a-view-versus-a-copy\n",
      "  self.folders[\"date\"], format=\"%d.%m.%Y, %H:%M:\"\n",
      "/gpfs/home2/cbisot/pycode/AMFtrack/amftrack/pipeline/functions/image_processing/experiment_class_surf.py:104: SettingWithCopyWarning: \n",
      "A value is trying to be set on a copy of a slice from a DataFrame.\n",
      "Try using .loc[row_indexer,col_indexer] = value instead\n",
      "\n",
      "See the caveats in the documentation: https://pandas.pydata.org/pandas-docs/stable/user_guide/indexing.html#returning-a-view-versus-a-copy\n",
      "  self.folders[\"date\"], format=\"%d.%m.%Y, %H:%M:\"\n"
     ]
    },
    {
     "name": "stdout",
     "output_type": "stream",
     "text": [
      "2022-05-14 04:25:00\n"
     ]
    },
    {
     "name": "stderr",
     "output_type": "stream",
     "text": [
      "/gpfs/home2/cbisot/pycode/AMFtrack/amftrack/pipeline/functions/image_processing/experiment_class_surf.py:104: SettingWithCopyWarning: \n",
      "A value is trying to be set on a copy of a slice from a DataFrame.\n",
      "Try using .loc[row_indexer,col_indexer] = value instead\n",
      "\n",
      "See the caveats in the documentation: https://pandas.pydata.org/pandas-docs/stable/user_guide/indexing.html#returning-a-view-versus-a-copy\n",
      "  self.folders[\"date\"], format=\"%d.%m.%Y, %H:%M:\"\n"
     ]
    },
    {
     "name": "stdout",
     "output_type": "stream",
     "text": [
      "2022-05-15 10:27:00\n"
     ]
    },
    {
     "data": {
      "application/vnd.jupyter.widget-view+json": {
       "model_id": "f3e6ccc4aa7848c58617aae82d03ca3e",
       "version_major": 2,
       "version_minor": 0
      },
      "image/png": "[encoded data removed]",
      "text/html": [
       "\n",
       "            <div style=\"display: inline-block;\">\n",
       "                <div class=\"jupyter-widgets widget-label\" style=\"text-align: center;\">\n",
       "                    Figure\n",
       "                </div>\n",
       "                <img src='data:image/png;base64,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' width=200.0/>\n",
       "            </div>\n",
       "        "
      ],
      "text/plain": [
       "Canvas(toolbar=Toolbar(toolitems=[('Home', 'Reset original view', 'home', 'home'), ('Back', 'Back to previous …"
      ]
     },
     "metadata": {},
     "output_type": "display_data"
    },
    {
     "data": {
      "application/vnd.jupyter.widget-view+json": {
       "model_id": "b26bc5b0fe1544fea200498363434a00",
       "version_major": 2,
       "version_minor": 0
      },
      "image/png": "[encoded data removed]",
      "text/html": [
       "\n",
       "            <div style=\"display: inline-block;\">\n",
       "                <div class=\"jupyter-widgets widget-label\" style=\"text-align: center;\">\n",
       "                    Figure\n",
       "                </div>\n",
       "                <img src='data:image/png;base64,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' width=200.0/>\n",
       "            </div>\n",
       "        "
      ],
      "text/plain": [
       "Canvas(toolbar=Toolbar(toolitems=[('Home', 'Reset original view', 'home', 'home'), ('Back', 'Back to previous …"
      ]
     },
     "metadata": {},
     "output_type": "display_data"
    },
    {
     "data": {
      "application/vnd.jupyter.widget-view+json": {
       "model_id": "942b0621dd894274a841cfc691b09d27",
       "version_major": 2,
       "version_minor": 0
      },
      "image/png": "[encoded data removed]",
      "text/html": [
       "\n",
       "            <div style=\"display: inline-block;\">\n",
       "                <div class=\"jupyter-widgets widget-label\" style=\"text-align: center;\">\n",
       "                    Figure\n",
       "                </div>\n",
       "                <img src='data:image/png;base64,iVBORw0KGgoAAAANSUhEUgAAAMgAAACWCAYAAACb3McZAAAAOXRFWHRTb2Z0d2FyZQBNYXRwbG90bGliIHZlcnNpb24zLjUuMywgaHR0cHM6Ly9tYXRwbG90bGliLm9yZy/NK7nSAAAACXBIWXMAAA9hAAAPYQGoP6dpAAAIUElEQVR4nO3dv2sU2x/G8SchQprdBLExZAPa2JhKEEwQQgIixou3uOJfEMRCK8HCP8AmhWAhNvaC8FW+XlDxSgR/VIKSKqYJWYlNMNlNo0Wyt7hsmExmPzOzc87uzO77BcE4uzszi/PsOZ9zzqwDjUajIQCRBrt9AkCeERDAQEAAAwEBDAQEMBAQwEBAAAMBAQwEBDAQEMBAQAADAQEMBAQwEBDAQEAAAwEBDAQEMBAQwEBAAAMBAQwEBDAQEMBAQAADAQEMBAQwEBDAQEAAAwEBDAQEMBAQwEBAAAMBAQwEBDAQEMBAQAADAQEMBAQwEBDAQEAAAwEBDAQEMBAQwEBAAMOQ7wPs7e1pY2NDpVJJAwMDvg+HPtZoNLSzs6OxsTENDrr57PcekI2NDVUqFd+HAfZVq1WNj4872Zf3gJRKJUn/nXS5XPZ9OPSxer2uSqWyf8254D0gzW5VuVxWuVzW+vq6Njc3Dzzn2LFjmpiY8H0q6BMuu/LeAxK0vr6uU6dO6devXwe2Dw8Pa2VlhZAgdxjFAgwdbUEmJia0srJCF6sA1tbW9O3bN124cKGt1//+/Vu3bt3S6uqqSqWSnj9/rt3dXS0sLGh1dVVnzpzR/fv3tba2ptu3b+vp06eO34EbHQ2I9F9ICEP+ra2t6fXr120H5MGDB7p06ZKuXLmyv+3FixcaGxvT48ePtbCwoE+fPun48eOuTtkLuliI9PDhQz158kQzMzP6+fNn6te/fPlS79+/18zMjB49eiRJ+vjx437gLl68qA8fPkiSfvz4oWvXrmlyclJv37519yYc6HgLgmK4ceOGKpWKFhcXD2xfXl7WzZs3Dz1/aWnpwN+r1aquX7+ue/fuaW5uTvPz89ra2tof6h8ZGdkP3ubmpt69e6fV1VXdvXtXs7Ozft5UGwgIUpmcnDwUhiijo6OanZ3V0NCQpqamtLKyotHRUdXrdUlSrVbT0aNHJUmnT5/W0NCQKpWKtra2fJ5+anSxEOnIkSPa3d09tH15eVkzMzOHfsKmp6f15csXSdLXr1914sQJTU1N6c2bN5KkV69eaXp6WtLBeYtGo+H+zWRAQPrU3Pwz8/HJyUl9/vxZV69e1fb29oHtS0tLh37C7ty5o8XFRU1PT+vs2bM6efKkLl++rPX1dZ0/f17Dw8M6d+6c2zflwUDDc2Tr9bpGRkZUq9VYapIjzYD88/efmpt/pn/+/rOr5+OCj2uNgKBn+LjW6GIBBgICGAhInwoX6XFFe78iIH0qWJT3SpHuAwEB4TAQkC7rVNeGLlR7CEiXderTO+44LgIUtY+iB5OA5FA3LqrmhKHrfRS9+0ZAuiDuQuzWReXiuOHiv+gISJf0YnekKbiMpehYatJlwVC4vqD6bfiWpSY9IhyK5k/4sayCNUG3R8sK2zo2PKvVag1JjVqt5vtQhTJ76X/7fzZ/97H/bujWsX1ca7QgXdJsMZqtx9z8M+etRzsK+0nvCQHpkuCF2KwVstYL3VpfFQ53L9U9BKRLfFxELuqYtOcVHrHquRbIWWetBWqQZIK1iIs+fDdrkKBOnoePa41h3hzoleHYJO/DZ1eMW25zzuUEWfBiK+rEW6eD7+Vac9YWtUAXK1qrrofr7pWvLk5eunBBDPMWRNJCNep54U/cdore4D58fYLHFeVxS2kKU8w7i1oLtCAHtfPJm7RFiHqs1yYhLbQgPaCdT/TgkhFrtayr2sfa7uu+kbwiIBl16h87qkvTKixZ50GskLQKYdKVAEUbsSMgGcUtE8myrD1JjRLeHjVDn1Y7k4VJVwIUKRySqEF8S9pfT7NoMWpCsVOjYs2/+6p3size9HGtEZAO6lRxGzUr3+6xo8LhGwHpE528uHx8osedf96WxDCKVRDNmiTc3w7fwOTr5igX0tQ/7e63EAW7s6i10K8tSLg+8FkjJDkXl8dxuajSJbpYBZfmgmp3QjHNxZsmtOF9Zz0/HwhID0g7UuVi33Gz7z6DW/Tl7tQgHZa0z+2ybx6cqwnPiFvHiZo9tyYKo37PfY0Rg4B0UJoiOksRH/Xa4D3wcUtU4v57NquAL0ThnQIB6aC0F07SUa+4EafgqFpw1rvV/uJalaTvo0hrrlpy1llrgRokvSy1RPAnuD3u9UmOlXYlcdT5pT1mGhTpPSbpRRg3euTyO7baGZLOy3AvAekhWS6qNJ/E1nxMlhYhan9pz801RrF6TLt99GBBbO0jXC+Ev6Quqk4JPjdJzdNOXRW3z1xxFrUWaEEOyrqeKcvkXqvXxL3WN1fH4Wt/epSroVHrrsNWw7DtjGTlFd9qgkxLSFo9HlWnxLUgrmb6876al4B0SaubkJIsMbcK7bibqVzcJ5LXe0IISI9KOrKUdD9WSFpti3tup2Sp0RjF6lGtlnKE108l3U/4z6hjBI8VN7MedW7tPCfJe4m6h6arnEWtBVqQeHHdJBd1R9yx8iYvXSxakByI+g7eqJW01lf7JFmVa+07iXAL4Gruwtfdiy54H+at1WoaHR1VtVplmNezP/56of8/vRy5XVLLx6K2J9l/lte2ew6Wer2uSqWi7e1tjYyMZN6f1IGAfP/+XZVKxechgAOq1arGx8ed7Mt7QPb29rSxsaFSqaSBgQGfh0KfazQa2tnZ0djYmAYH3VQP3gMCFBlFOmAgIICBgAAGAgIYCAhgICCAgYAABgICGAgIYCAggIGAAAYCAhgICGAgIICBgAAGAgIYCAhgICCAgYAABgICGAgIYCAggIGAAAYCAhgICGAgIICBgAAGAgIYCAhgICCAgYAABgICGAgIYCAggIGAAAYCAhgICGAgIICBgAAGAgIY/gV7X12blyU0UwAAAABJRU5ErkJggg==' width=200.0/>\n",
       "            </div>\n",
       "        "
      ],
      "text/plain": [
       "Canvas(toolbar=Toolbar(toolitems=[('Home', 'Reset original view', 'home', 'home'), ('Back', 'Back to previous …"
      ]
     },
     "metadata": {},
     "output_type": "display_data"
    }
   ],
   "source": [
    "plates_for_plot = [\n",
    "    \"59_20201126\",\n",
    "    \"56_20220701\",\n",
    "    \"792_20210915\",\n",
    "    \"1076_20220511\",\n",
    "]\n",
    "for plate in plates_for_plot:\n",
    "    plt.close(\"all\")\n",
    "    folders = all_folders.loc[all_folders[\"unique_id\"] == plate]\n",
    "    folders = folders.loc[folders[\"/Analysis/nx_graph_pruned_width.p\"] == True]\n",
    "    folders = folders.sort_values(by=\"datetime\")\n",
    "\n",
    "    folders[\"time_since_begin\"] = folders[\"datetime\"] - folders.iloc[0][\"datetime\"]\n",
    "    plate_num = int(plate.split(\"_\")[0])\n",
    "    shift = shifts[plate_num]\n",
    "    i0 = shift\n",
    "    timesteps_select = []\n",
    "    folders_copy = folders.copy()\n",
    "    folders_copy = folders_copy.reset_index()\n",
    "    deltas = [0, 30, 60]\n",
    "    for delta in deltas:\n",
    "        target_value = folders_copy[\"time_since_begin\"].iloc[i0] + timedelta(\n",
    "            hours=delta\n",
    "        )\n",
    "        differences = abs(folders_copy[\"time_since_begin\"] - target_value)\n",
    "        closest_index = differences.idxmin()\n",
    "        closest_row = folders_copy.loc[closest_index]\n",
    "        print(differences[closest_index])\n",
    "        timesteps_select.append(closest_index)\n",
    "    for k, i in enumerate(timesteps_select):\n",
    "        exp = Experiment(directory_targ)\n",
    "        exp.load(folders.iloc[i : i + 1], suffix=\"_width\")\n",
    "        for t in range(exp.ts):\n",
    "            exp.load_tile_information(t)\n",
    "        G = exp.nx_graph[t]\n",
    "        components = nx.connected_components(G)\n",
    "\n",
    "        # Find the largest connected component\n",
    "        largest_component = max(components, key=len)\n",
    "\n",
    "        # Create a new graph representing the largest connected component\n",
    "        largest_component_graph = G.subgraph(largest_component)\n",
    "        exp.nx_graph[t] = largest_component_graph\n",
    "        vmax = 10\n",
    "        vmin = 0\n",
    "        downsizing = 10\n",
    "        width = 2\n",
    "        height = 1.5\n",
    "        region = [[0, 0], [4000 * 5, 10000 * 5]]\n",
    "        nodes = get_all_nodes(exp, t)\n",
    "\n",
    "        fig, ax = plot_paper(\n",
    "            exp,\n",
    "            t,\n",
    "            lambda edge: 5,\n",
    "            region=region,\n",
    "            # nodes = nodes,\n",
    "            cmap=cm.get_cmap(\"viridis\", 100),\n",
    "            v_min=vmin,\n",
    "            v_max=vmax,\n",
    "            plot_cmap=False,\n",
    "            show_background=False,\n",
    "            dilation=5,\n",
    "            figsize=(width, height),\n",
    "            alpha=1,\n",
    "            downsizing=downsizing,\n",
    "        )\n",
    "        rect = mpatches.Rectangle(\n",
    "            (100, 100), 1000 * 1.725 / downsizing, 50, color=\"black\"\n",
    "        )\n",
    "\n",
    "        # Add the rectangle to the plot\n",
    "        ax.add_patch(rect)\n",
    "        time = int(\n",
    "            (\n",
    "                folders.iloc[i : i + 1][\"datetime\"].iloc[0]\n",
    "                - folders.iloc[i0][\"datetime\"]\n",
    "            ).total_seconds()\n",
    "            / 3600\n",
    "        )\n",
    "        # plt.savefig(os.path.join(\"figures\",f\"{folders.iloc[i:i+1]['datetime'].iloc[0]}_{plate}.pdf\"), transparent=True, bbox_inches='tight')\n",
    "        ax.text(3500, 400, f\"t = {deltas[k]}h\", size=6)\n",
    "\n",
    "        plt.savefig(\n",
    "            os.path.join(\"figures\", f\"{time}_{plate}.pdf\"),\n",
    "            transparent=True,\n",
    "            bbox_inches=\"tight\",\n",
    "        )"
   ]
  }
 ],
 "metadata": {
  "kernelspec": {
   "display_name": "Python 3 (ipykernel)",
   "language": "python",
   "name": "python3"
  },
  "language_info": {
   "codemirror_mode": {
    "name": "ipython",
    "version": 3
   },
   "file_extension": ".py",
   "mimetype": "text/x-python",
   "name": "python",
   "nbconvert_exporter": "python",
   "pygments_lexer": "ipython3",
   "version": "3.12.3"
  }
 },
 "nbformat": 4,
 "nbformat_minor": 5
}

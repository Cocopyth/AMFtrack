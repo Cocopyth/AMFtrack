{
 "cells": [
  {
   "cell_type": "code",
   "execution_count": 12,
   "id": "382a263d-1ac6-44d1-885d-4e898f40caa9",
   "metadata": {},
   "outputs": [
    {
     "name": "stdout",
     "output_type": "stream",
     "text": [
      "The autoreload extension is already loaded. To reload it, use:\n",
      "  %reload_ext autoreload\n"
     ]
    }
   ],
   "source": [
    "%load_ext autoreload\n",
    "%autoreload 2\n",
    "%matplotlib widget\n",
    "\n",
    "from amftrack.pipeline.launching.run_super import (\n",
    "    run_launcher,\n",
    "    directory_scratch,\n",
    "    directory_project,\n",
    "    directory_project,\n",
    "    run_parallel_stitch,\n",
    "    run_parallel_transfer,\n",
    ")\n",
    "import os\n",
    "from amftrack.util.sys import (\n",
    "    get_dates_datetime,\n",
    "    get_dirname,\n",
    "    temp_path,\n",
    "    get_data_info,\n",
    "    update_plate_info,\n",
    "    update_analysis_info,\n",
    "    get_analysis_info,\n",
    "    get_current_folders,\n",
    "    get_folders_by_plate_id,\n",
    ")\n",
    "from datetime import timedelta\n",
    "import networkx as nx\n",
    "from time import time_ns\n",
    "from amftrack.util.dbx import upload_folders, load_dbx, download, get_dropbox_folders\n",
    "from datetime import datetime\n",
    "from amftrack.pipeline.launching.run_super import (\n",
    "    run_parallel,\n",
    "    directory_scratch,\n",
    "    directory_project,\n",
    "    run_parallel_stitch,\n",
    ")\n",
    "from amftrack.util.dbx import read_saved_dropbox_state,get_dropbox_folders\n",
    "import sys\n",
    "import os\n",
    "\n",
    "from amftrack.util.sys import get_dirname, temp_path\n",
    "import pandas as pd\n",
    "import ast\n",
    "from scipy import sparse\n",
    "import scipy.io as sio\n",
    "import cv2\n",
    "import imageio.v2 as imageio\n",
    "import numpy as np\n",
    "import scipy.sparse\n",
    "import os\n",
    "from time import time\n",
    "from amftrack.pipeline.functions.image_processing.extract_skel import (\n",
    "    extract_skel_new_prince,\n",
    "    run_back_sub,\n",
    "    bowler_hat,\n",
    ")\n",
    "\n",
    "from amftrack.util.sys import get_dates_datetime, get_dirname\n",
    "import shutil\n",
    "import matplotlib.pyplot as plt\n",
    "from amftrack.pipeline.functions.image_processing.experiment_class_surf import (\n",
    "    Experiment,\n",
    "    save_graphs,\n",
    "    load_graphs,\n",
    "    Edge,\n",
    "    Node\n",
    ")\n",
    "from amftrack.pipeline.functions.image_processing.experiment_util import (\n",
    "    get_random_edge,\n",
    "    distance_point_edge,\n",
    "    plot_edge,\n",
    "    plot_edge_cropped,\n",
    "    find_nearest_edge,\n",
    "    get_edge_from_node_labels,\n",
    "    plot_full_image_with_features,\n",
    "    get_all_edges,\n",
    "    get_all_nodes,\n",
    "    find_neighboring_edges,\n",
    "    reconstruct_image,\n",
    "    reconstruct_skeletton_from_edges,\n",
    "    reconstruct_skeletton_unicolor,\n",
    "    reconstruct_image_from_general,\n",
    "    plot_full,\n",
    "    plot_edge_color_value\n",
    ")\n",
    "from matplotlib import cm\n",
    "import matplotlib.patches as mpatches\n"
   ]
  },
  {
   "cell_type": "code",
   "execution_count": 2,
   "id": "1e050588-7e69-4944-ac9f-d139ff3ba403",
   "metadata": {},
   "outputs": [],
   "source": [
    "plates = [\n",
    "    # \"52_20220707\",\n",
    "    # \"56_20220701\",\n",
    "    # \"59_20201126\",\n",
    "    # \"69_20201119\",\n",
    "    # \"76_20210108\",\n",
    "    # \"81_20220704\",\n",
    "    # \"84_20220621\",\n",
    "    # \"94_20201123\",\n",
    "    # \"102_20201226\",\n",
    "    # \"152_20201224\",\n",
    "    \"59_20201126\",\n",
    "\n",
    "    \"792_20210915\",\n",
    "    \"1076_20220511\",\n",
    "    '1014_20220525', \n",
    "  '1023_20220502',\n",
    "  '1042_20220523',\n",
    "# '1045_20220504',\n",
    "  '1048_20220506',\n",
    "  '1053_20220413',\n",
    "        \"52_20220707\",\n",
    "    \"56_20220701\",\n",
    "]"
   ]
  },
  {
   "cell_type": "code",
   "execution_count": 7,
   "id": "4b716fc8-ef48-427f-8676-479c8dc60327",
   "metadata": {},
   "outputs": [
    {
     "data": {
      "application/vnd.jupyter.widget-view+json": {
       "model_id": "8e56dee4fc064700941abe4c2463e991",
       "version_major": 2,
       "version_minor": 0
      },
      "text/plain": [
       "analysed:   0%|          | 0/2559 [00:00<?, ?it/s]"
      ]
     },
     "metadata": {},
     "output_type": "display_data"
    }
   ],
   "source": [
    "directory_targ = os.path.join(directory_scratch, \"stitch_temp2\") + \"/\"\n",
    "# directory_targ = directory_project\n",
    "\n",
    "update_plate_info(directory_targ, local=True)\n",
    "all_folders = get_current_folders(directory_targ, local=True)"
   ]
  },
  {
   "cell_type": "code",
   "execution_count": 8,
   "id": "53173750-9bfe-4311-a013-fe8501691e2a",
   "metadata": {},
   "outputs": [],
   "source": [
    "plate = \"1042_20220523\"\n",
    "folders = all_folders.loc[all_folders['unique_id']==plate]\n",
    "folders = folders.loc[folders[\"/Analysis/nx_graph_pruned_width.p\"] == True]\n",
    "folders = folders.sort_values(by=\"datetime\")\n"
   ]
  },
  {
   "cell_type": "code",
   "execution_count": 5,
   "id": "9eed549a-de7e-4587-b262-6747a93b7c36",
   "metadata": {
    "collapsed": true,
    "jupyter": {
     "outputs_hidden": true
    },
    "tags": []
   },
   "outputs": [
    {
     "ename": "AssertionError",
     "evalue": "multiple plate id",
     "output_type": "error",
     "traceback": [
      "\u001b[0;31m---------------------------------------------------------------------------\u001b[0m",
      "\u001b[0;31mAssertionError\u001b[0m                            Traceback (most recent call last)",
      "\u001b[0;32m/scratch-local/cbisot/ipykernel_3932241/3615181051.py\u001b[0m in \u001b[0;36m<module>\u001b[0;34m\u001b[0m\n\u001b[1;32m      3\u001b[0m \u001b[0mexp\u001b[0m \u001b[0;34m=\u001b[0m \u001b[0mExperiment\u001b[0m\u001b[0;34m(\u001b[0m\u001b[0mdirectory_targ\u001b[0m\u001b[0;34m)\u001b[0m\u001b[0;34m\u001b[0m\u001b[0;34m\u001b[0m\u001b[0m\n\u001b[1;32m      4\u001b[0m \u001b[0mi\u001b[0m \u001b[0;34m=\u001b[0m \u001b[0;36m10\u001b[0m\u001b[0;34m\u001b[0m\u001b[0;34m\u001b[0m\u001b[0m\n\u001b[0;32m----> 5\u001b[0;31m \u001b[0mexp\u001b[0m\u001b[0;34m.\u001b[0m\u001b[0mload\u001b[0m\u001b[0;34m(\u001b[0m\u001b[0mfolders\u001b[0m\u001b[0;34m.\u001b[0m\u001b[0miloc\u001b[0m\u001b[0;34m[\u001b[0m\u001b[0mi\u001b[0m\u001b[0;34m:\u001b[0m\u001b[0mi\u001b[0m\u001b[0;34m+\u001b[0m\u001b[0;36m1\u001b[0m\u001b[0;34m]\u001b[0m\u001b[0;34m,\u001b[0m\u001b[0msuffix\u001b[0m\u001b[0;34m=\u001b[0m\u001b[0;34m\"_width\"\u001b[0m\u001b[0;34m)\u001b[0m\u001b[0;34m\u001b[0m\u001b[0;34m\u001b[0m\u001b[0m\n\u001b[0m\u001b[1;32m      6\u001b[0m \u001b[0;32mfor\u001b[0m \u001b[0mt\u001b[0m \u001b[0;32min\u001b[0m \u001b[0mrange\u001b[0m\u001b[0;34m(\u001b[0m\u001b[0mexp\u001b[0m\u001b[0;34m.\u001b[0m\u001b[0mts\u001b[0m\u001b[0;34m)\u001b[0m\u001b[0;34m:\u001b[0m\u001b[0;34m\u001b[0m\u001b[0;34m\u001b[0m\u001b[0m\n\u001b[1;32m      7\u001b[0m     \u001b[0mexp\u001b[0m\u001b[0;34m.\u001b[0m\u001b[0mload_tile_information\u001b[0m\u001b[0;34m(\u001b[0m\u001b[0mt\u001b[0m\u001b[0;34m)\u001b[0m\u001b[0;34m\u001b[0m\u001b[0;34m\u001b[0m\u001b[0m\n",
      "\u001b[0;32m/gpfs/home2/cbisot/pycode/AMFtrack/amftrack/pipeline/functions/image_processing/experiment_class_surf.py\u001b[0m in \u001b[0;36mload\u001b[0;34m(self, folders, suffix)\u001b[0m\n\u001b[1;32m     95\u001b[0m         \u001b[0;34m\"\"\"Loads the graphs from the different time points and other useful attributes\"\"\"\u001b[0m\u001b[0;34m\u001b[0m\u001b[0;34m\u001b[0m\u001b[0m\n\u001b[1;32m     96\u001b[0m         \u001b[0mself\u001b[0m\u001b[0;34m.\u001b[0m\u001b[0mfolders\u001b[0m \u001b[0;34m=\u001b[0m \u001b[0mfolders\u001b[0m\u001b[0;34m\u001b[0m\u001b[0;34m\u001b[0m\u001b[0m\n\u001b[0;32m---> 97\u001b[0;31m         \u001b[0;32massert\u001b[0m \u001b[0mlen\u001b[0m\u001b[0;34m(\u001b[0m\u001b[0mfolders\u001b[0m\u001b[0;34m[\u001b[0m\u001b[0;34m\"unique_id\"\u001b[0m\u001b[0;34m]\u001b[0m\u001b[0;34m.\u001b[0m\u001b[0munique\u001b[0m\u001b[0;34m(\u001b[0m\u001b[0;34m)\u001b[0m\u001b[0;34m)\u001b[0m \u001b[0;34m==\u001b[0m \u001b[0;36m1\u001b[0m\u001b[0;34m,\u001b[0m \u001b[0;34m\"multiple plate id\"\u001b[0m\u001b[0;34m\u001b[0m\u001b[0;34m\u001b[0m\u001b[0m\n\u001b[0m\u001b[1;32m     98\u001b[0m         \u001b[0mself\u001b[0m\u001b[0;34m.\u001b[0m\u001b[0munique_id\u001b[0m \u001b[0;34m=\u001b[0m \u001b[0mfolders\u001b[0m\u001b[0;34m[\u001b[0m\u001b[0;34m\"unique_id\"\u001b[0m\u001b[0;34m]\u001b[0m\u001b[0;34m.\u001b[0m\u001b[0munique\u001b[0m\u001b[0;34m(\u001b[0m\u001b[0;34m)\u001b[0m\u001b[0;34m[\u001b[0m\u001b[0;36m0\u001b[0m\u001b[0;34m]\u001b[0m\u001b[0;34m\u001b[0m\u001b[0;34m\u001b[0m\u001b[0m\n\u001b[1;32m     99\u001b[0m         \u001b[0mself\u001b[0m\u001b[0;34m.\u001b[0m\u001b[0mimage_coordinates\u001b[0m \u001b[0;34m=\u001b[0m \u001b[0;34m[\u001b[0m\u001b[0;32mNone\u001b[0m\u001b[0;34m]\u001b[0m \u001b[0;34m*\u001b[0m \u001b[0mlen\u001b[0m\u001b[0;34m(\u001b[0m\u001b[0mfolders\u001b[0m\u001b[0;34m)\u001b[0m\u001b[0;34m\u001b[0m\u001b[0;34m\u001b[0m\u001b[0m\n",
      "\u001b[0;31mAssertionError\u001b[0m: multiple plate id"
     ]
    }
   ],
   "source": [
    "folders = folders.sort_values(by=\"datetime\")\n",
    "\n",
    "exp = Experiment(directory_targ)\n",
    "i = 10\n",
    "exp.load(folders.iloc[i:i+1],suffix=\"_width\")\n",
    "for t in range(exp.ts):\n",
    "    exp.load_tile_information(t)"
   ]
  },
  {
   "cell_type": "code",
   "execution_count": null,
   "id": "b1491090-2b27-4416-b8a7-b07d2754ec3e",
   "metadata": {},
   "outputs": [],
   "source": [
    "import networkx as nx\n",
    "G = exp.nx_graph[t]\n",
    "components = nx.connected_components(G)\n",
    "\n",
    "# Find the largest connected component\n",
    "largest_component = max(components, key=len)\n",
    "\n",
    "# Create a new graph representing the largest connected component\n",
    "largest_component_graph = G.subgraph(largest_component)\n",
    "exp.nx_graph[t] = largest_component_graph"
   ]
  },
  {
   "cell_type": "code",
   "execution_count": 15,
   "id": "b4ca62ac-0cfd-45ef-aa07-9bc4022e39e2",
   "metadata": {},
   "outputs": [],
   "source": [
    "from amftrack.pipeline.functions.image_processing.experiment_util import *"
   ]
  },
  {
   "cell_type": "code",
   "execution_count": 16,
   "id": "a1f42bef-2b5d-4b5c-bad8-8dae848503be",
   "metadata": {
    "jupyter": {
     "source_hidden": true
    },
    "tags": []
   },
   "outputs": [],
   "source": [
    "def plot_paper(\n",
    "    exp: Experiment,\n",
    "    t: int,\n",
    "    color_fun: Callable,\n",
    "    region=None,\n",
    "    intervals=[[1, 4], [4, 6], [6, 10], [10, 20]],\n",
    "    cmap=cm.get_cmap(\"Reds\", 100),\n",
    "    plot_cmap=False,\n",
    "    v_max=10,\n",
    "    v_min=0,\n",
    "    nodes: List[Node] = [],\n",
    "    downsizing=5,\n",
    "    dilation=5,\n",
    "    save_path=\"\",\n",
    "    color_seed=12,\n",
    "    dpi=None,\n",
    "    show_background=True,\n",
    "    label_colorbar=\"Width ($\\mu m)$\",\n",
    "    figsize=(36, 24),\n",
    "    figax=None,\n",
    "    alpha=0.5,\n",
    ") -> None:\n",
    "    \"\"\"\n",
    "    Plot the width for all the edges at a given timestep.\n",
    "\n",
    "    :param region: choosen region in the full image, such as [[100, 100], [2000,2000]], if None the full image is shown\n",
    "    :param color_fun: edge -> float a function of edges that needs to be color plotted\n",
    "\n",
    "    :param nodes: list of nodes to plot\n",
    "    :param downsizing: factor by which we reduce the image resolution (5 -> image 25 times lighter)\n",
    "    :param dilation: only for edges: thickness of the edges (dilation applied to the pixel list)\n",
    "    :param save_path: full path to the location where the plot will be saved\n",
    "    :param intervals: different width intervals that will be given different colors\n",
    "    :param cmap: a colormap to map width to color\n",
    "    :param plot_cmap: a boolean, whether or not to plot with cmap\n",
    "    :param v_max: the max width for the colorbar/colormap\n",
    "    \"\"\"\n",
    "    DIM_X, DIM_Y = get_dimX_dimY(exp)\n",
    "\n",
    "    if region == None:\n",
    "        # Full image\n",
    "        image_coodinates = exp.image_coordinates[t]\n",
    "        region = get_bounding_box(image_coodinates)\n",
    "        region[1][0] += DIM_X\n",
    "        region[1][1] += DIM_Y\n",
    "\n",
    "    edges = get_all_edges(exp, t)\n",
    "    if figax is None:\n",
    "        fig = plt.figure(\n",
    "            figsize=figsize\n",
    "        )  # width: 30 cm height: 20 cm # TODO(FK): change dpi\n",
    "        ax = fig.add_subplot(111)\n",
    "    else:\n",
    "        fig, ax = figax\n",
    "\n",
    "    # Give colors to edges\n",
    "    default_color = 1000\n",
    "    colors = []\n",
    "    widths = []\n",
    "    for edge in edges:\n",
    "        width = color_fun(edge)\n",
    "        widths.append(width)\n",
    "        if not plot_cmap:\n",
    "            color = default_color\n",
    "            for i, interval in enumerate(intervals):\n",
    "                if interval[0] <= width and width < interval[1]:\n",
    "                    color = i + color_seed\n",
    "            colors.append(color)\n",
    "    if plot_cmap:\n",
    "        colors = [cmap((width - v_min) / (v_max - v_min)) for width in widths]\n",
    "    # 0/ Make color legend\n",
    "    def convert(c):\n",
    "        c_ = c / 255\n",
    "        return (c_[0], c_[1], c_[2])\n",
    "\n",
    "    # 1/ Image layer\n",
    "    if show_background:\n",
    "        im, f = reconstruct_image_from_general(\n",
    "            exp,\n",
    "            t,\n",
    "            downsizing=downsizing,\n",
    "            region=region,\n",
    "            prettify=False,\n",
    "            white_background=False,\n",
    "        )\n",
    "        f_int = lambda c: f(c).astype(int)\n",
    "\n",
    "    # 2/ Edges layer\n",
    "    color_list = (\n",
    "        [(np.array(color) * 255).astype(int) for color in colors] if plot_cmap else None\n",
    "    )\n",
    "    from_edges = reconstruct_skeletton_from_edges(\n",
    "        exp,\n",
    "        t,\n",
    "        edges=edges,\n",
    "        region=region,\n",
    "        color_seeds=colors,\n",
    "        color_list=color_list,\n",
    "        downsizing=downsizing,\n",
    "        dilation=dilation,\n",
    "        timestep=False,\n",
    "    )\n",
    "    skel_im, _ = from_edges\n",
    "    if show_background:\n",
    "        new_region = [\n",
    "            f_int(region[0]),\n",
    "            f_int(region[1]),\n",
    "        ]  # should be [[0, 0], [d_x/downsized, d_y/downsized]]\n",
    "\n",
    "    # 3/ Fusing layers\n",
    "    if show_background:\n",
    "        ax.imshow(im, cmap=\"gray\", interpolation=\"none\")\n",
    "    ax.imshow(skel_im, alpha=alpha, interpolation=\"none\",aspect=\"equal\")\n",
    "\n",
    "    # 3/ Plotting the Nodes\n",
    "    size = 5\n",
    "    bbox_props = dict(boxstyle=\"circle\", fc=\"white\")\n",
    "    for node in nodes:\n",
    "        c = node.pos(t)\n",
    "        if is_in_bounding_box(c, region):\n",
    "            c = f(node.pos(t))\n",
    "            node_text = ax.text(\n",
    "                c[1],\n",
    "                c[0],\n",
    "                str(node.label),\n",
    "                ha=\"center\",\n",
    "                va=\"center\",\n",
    "                size=size,\n",
    "                bbox=bbox_props,\n",
    "            )\n",
    "    ax.set_xticks([])\n",
    "    ax.set_yticks([])\n",
    "    return fig,ax"
   ]
  },
  {
   "cell_type": "code",
   "execution_count": null,
   "id": "2af94b13-6009-470f-bded-5e9648fe8699",
   "metadata": {},
   "outputs": [],
   "source": [
    "vmax = 10\n",
    "vmin = 0\n",
    "downsizing = 10\n",
    "width = 2\n",
    "height = 1.5\n",
    "region = [[0,0],[4000*5,10000*5]]\n",
    "nodes = get_all_nodes(exp,t)\n",
    "\n",
    "fig,ax = plot_paper(\n",
    "    exp,\n",
    "    t,\n",
    "    lambda edge: 5,\n",
    "    region = region,\n",
    "    # nodes = nodes,\n",
    "    cmap=cm.get_cmap(\"viridis\", 100),\n",
    "    v_min=vmin,\n",
    "    v_max=vmax,\n",
    "    plot_cmap=False,\n",
    "    show_background=False,\n",
    "    dilation=5,\n",
    "    figsize=(width, height),\n",
    "    alpha = 1,\n",
    "    downsizing = downsizing\n",
    "    \n",
    ")\n",
    "rect = mpatches.Rectangle((100, 100), 1000*1.725/downsizing, 50, \n",
    "                          color='black')\n",
    "\n",
    "# Add the rectangle to the plot\n",
    "ax.add_patch(rect)\n",
    "time = int((folders.iloc[i:i+1]['datetime'].iloc[0]-folders.iloc[0]['datetime']).total_seconds() / 3600)\n",
    "# plt.savefig(os.path.join(\"figures\",f\"{folders.iloc[i:i+1]['datetime'].iloc[0]}_{plate}.pdf\"), transparent=True, bbox_inches='tight')\n",
    "ax.text(3500, 400, f't = {time}h',size = 6)\n",
    "\n",
    "plt.savefig(os.path.join(\"figures\",f\"{time}_{plate}.pdf\"), transparent=True, bbox_inches='tight')\n"
   ]
  },
  {
   "cell_type": "code",
   "execution_count": 6,
   "id": "1531be1a-91a9-48d5-aed6-1343015ebb3d",
   "metadata": {},
   "outputs": [],
   "source": [
    "shifts = {1014: 15,\n",
    "          1023: 10,\n",
    "          1042: 10,\n",
    "          1045: 10,\n",
    "          1048: 15,\n",
    "          1053: 10, \n",
    "          127: 10,\n",
    "          130: 15,\n",
    "          800: 10}"
   ]
  },
  {
   "cell_type": "code",
   "execution_count": 20,
   "id": "90497434-1393-41d6-935c-e6857a61613a",
   "metadata": {},
   "outputs": [
    {
     "name": "stdout",
     "output_type": "stream",
     "text": [
      "0 days 00:00:00\n",
      "0 days 00:55:00\n",
      "0 days 00:55:00\n",
      "2022-05-27 01:32:00\n"
     ]
    },
    {
     "name": "stderr",
     "output_type": "stream",
     "text": [
      "/gpfs/home2/cbisot/pycode/AMFtrack/amftrack/pipeline/functions/image_processing/experiment_class_surf.py:104: SettingWithCopyWarning: \n",
      "A value is trying to be set on a copy of a slice from a DataFrame.\n",
      "Try using .loc[row_indexer,col_indexer] = value instead\n",
      "\n",
      "See the caveats in the documentation: https://pandas.pydata.org/pandas-docs/stable/user_guide/indexing.html#returning-a-view-versus-a-copy\n",
      "  self.folders[\"date\"], format=\"%d.%m.%Y, %H:%M:\"\n",
      "/gpfs/home2/cbisot/pycode/AMFtrack/amftrack/pipeline/functions/image_processing/experiment_class_surf.py:104: SettingWithCopyWarning: \n",
      "A value is trying to be set on a copy of a slice from a DataFrame.\n",
      "Try using .loc[row_indexer,col_indexer] = value instead\n",
      "\n",
      "See the caveats in the documentation: https://pandas.pydata.org/pandas-docs/stable/user_guide/indexing.html#returning-a-view-versus-a-copy\n",
      "  self.folders[\"date\"], format=\"%d.%m.%Y, %H:%M:\"\n"
     ]
    },
    {
     "name": "stdout",
     "output_type": "stream",
     "text": [
      "2022-05-28 08:27:00\n"
     ]
    },
    {
     "name": "stderr",
     "output_type": "stream",
     "text": [
      "/gpfs/home2/cbisot/pycode/AMFtrack/amftrack/pipeline/functions/image_processing/experiment_class_surf.py:104: SettingWithCopyWarning: \n",
      "A value is trying to be set on a copy of a slice from a DataFrame.\n",
      "Try using .loc[row_indexer,col_indexer] = value instead\n",
      "\n",
      "See the caveats in the documentation: https://pandas.pydata.org/pandas-docs/stable/user_guide/indexing.html#returning-a-view-versus-a-copy\n",
      "  self.folders[\"date\"], format=\"%d.%m.%Y, %H:%M:\"\n"
     ]
    },
    {
     "name": "stdout",
     "output_type": "stream",
     "text": [
      "2022-05-29 14:27:00\n",
      "0 days 00:00:00\n",
      "0 days 00:17:00\n",
      "0 days 00:38:00\n",
      "2022-05-25 10:04:00\n"
     ]
    },
    {
     "name": "stderr",
     "output_type": "stream",
     "text": [
      "/gpfs/home2/cbisot/pycode/AMFtrack/amftrack/pipeline/functions/image_processing/experiment_class_surf.py:104: SettingWithCopyWarning: \n",
      "A value is trying to be set on a copy of a slice from a DataFrame.\n",
      "Try using .loc[row_indexer,col_indexer] = value instead\n",
      "\n",
      "See the caveats in the documentation: https://pandas.pydata.org/pandas-docs/stable/user_guide/indexing.html#returning-a-view-versus-a-copy\n",
      "  self.folders[\"date\"], format=\"%d.%m.%Y, %H:%M:\"\n",
      "/gpfs/home2/cbisot/pycode/AMFtrack/amftrack/pipeline/functions/image_processing/experiment_class_surf.py:104: SettingWithCopyWarning: \n",
      "A value is trying to be set on a copy of a slice from a DataFrame.\n",
      "Try using .loc[row_indexer,col_indexer] = value instead\n",
      "\n",
      "See the caveats in the documentation: https://pandas.pydata.org/pandas-docs/stable/user_guide/indexing.html#returning-a-view-versus-a-copy\n",
      "  self.folders[\"date\"], format=\"%d.%m.%Y, %H:%M:\"\n"
     ]
    },
    {
     "name": "stdout",
     "output_type": "stream",
     "text": [
      "2022-05-26 15:47:00\n"
     ]
    },
    {
     "name": "stderr",
     "output_type": "stream",
     "text": [
      "/gpfs/home2/cbisot/pycode/AMFtrack/amftrack/pipeline/functions/image_processing/experiment_class_surf.py:104: SettingWithCopyWarning: \n",
      "A value is trying to be set on a copy of a slice from a DataFrame.\n",
      "Try using .loc[row_indexer,col_indexer] = value instead\n",
      "\n",
      "See the caveats in the documentation: https://pandas.pydata.org/pandas-docs/stable/user_guide/indexing.html#returning-a-view-versus-a-copy\n",
      "  self.folders[\"date\"], format=\"%d.%m.%Y, %H:%M:\"\n"
     ]
    },
    {
     "name": "stdout",
     "output_type": "stream",
     "text": [
      "2022-05-27 22:42:00\n",
      "0 days 00:00:00\n",
      "0 days 00:11:00\n",
      "0 days 00:20:00\n",
      "2022-05-08 05:50:00\n"
     ]
    },
    {
     "name": "stderr",
     "output_type": "stream",
     "text": [
      "/gpfs/home2/cbisot/pycode/AMFtrack/amftrack/pipeline/functions/image_processing/experiment_class_surf.py:104: SettingWithCopyWarning: \n",
      "A value is trying to be set on a copy of a slice from a DataFrame.\n",
      "Try using .loc[row_indexer,col_indexer] = value instead\n",
      "\n",
      "See the caveats in the documentation: https://pandas.pydata.org/pandas-docs/stable/user_guide/indexing.html#returning-a-view-versus-a-copy\n",
      "  self.folders[\"date\"], format=\"%d.%m.%Y, %H:%M:\"\n",
      "/gpfs/home2/cbisot/pycode/AMFtrack/amftrack/pipeline/functions/image_processing/experiment_class_surf.py:104: SettingWithCopyWarning: \n",
      "A value is trying to be set on a copy of a slice from a DataFrame.\n",
      "Try using .loc[row_indexer,col_indexer] = value instead\n",
      "\n",
      "See the caveats in the documentation: https://pandas.pydata.org/pandas-docs/stable/user_guide/indexing.html#returning-a-view-versus-a-copy\n",
      "  self.folders[\"date\"], format=\"%d.%m.%Y, %H:%M:\"\n"
     ]
    },
    {
     "name": "stdout",
     "output_type": "stream",
     "text": [
      "2022-05-09 11:39:00\n"
     ]
    },
    {
     "name": "stderr",
     "output_type": "stream",
     "text": [
      "/gpfs/home2/cbisot/pycode/AMFtrack/amftrack/pipeline/functions/image_processing/experiment_class_surf.py:104: SettingWithCopyWarning: \n",
      "A value is trying to be set on a copy of a slice from a DataFrame.\n",
      "Try using .loc[row_indexer,col_indexer] = value instead\n",
      "\n",
      "See the caveats in the documentation: https://pandas.pydata.org/pandas-docs/stable/user_guide/indexing.html#returning-a-view-versus-a-copy\n",
      "  self.folders[\"date\"], format=\"%d.%m.%Y, %H:%M:\"\n"
     ]
    },
    {
     "name": "stdout",
     "output_type": "stream",
     "text": [
      "2022-05-10 18:10:00\n",
      "0 days 00:00:00\n",
      "0 days 00:03:00\n",
      "0 days 00:03:00\n",
      "2022-04-16 11:42:00\n"
     ]
    },
    {
     "name": "stderr",
     "output_type": "stream",
     "text": [
      "/gpfs/home2/cbisot/pycode/AMFtrack/amftrack/pipeline/functions/image_processing/experiment_class_surf.py:104: SettingWithCopyWarning: \n",
      "A value is trying to be set on a copy of a slice from a DataFrame.\n",
      "Try using .loc[row_indexer,col_indexer] = value instead\n",
      "\n",
      "See the caveats in the documentation: https://pandas.pydata.org/pandas-docs/stable/user_guide/indexing.html#returning-a-view-versus-a-copy\n",
      "  self.folders[\"date\"], format=\"%d.%m.%Y, %H:%M:\"\n",
      "/gpfs/home2/cbisot/pycode/AMFtrack/amftrack/pipeline/functions/image_processing/experiment_class_surf.py:104: SettingWithCopyWarning: \n",
      "A value is trying to be set on a copy of a slice from a DataFrame.\n",
      "Try using .loc[row_indexer,col_indexer] = value instead\n",
      "\n",
      "See the caveats in the documentation: https://pandas.pydata.org/pandas-docs/stable/user_guide/indexing.html#returning-a-view-versus-a-copy\n",
      "  self.folders[\"date\"], format=\"%d.%m.%Y, %H:%M:\"\n"
     ]
    },
    {
     "name": "stdout",
     "output_type": "stream",
     "text": [
      "2022-04-17 17:45:00\n"
     ]
    },
    {
     "name": "stderr",
     "output_type": "stream",
     "text": [
      "/gpfs/home2/cbisot/pycode/AMFtrack/amftrack/pipeline/functions/image_processing/experiment_class_surf.py:104: SettingWithCopyWarning: \n",
      "A value is trying to be set on a copy of a slice from a DataFrame.\n",
      "Try using .loc[row_indexer,col_indexer] = value instead\n",
      "\n",
      "See the caveats in the documentation: https://pandas.pydata.org/pandas-docs/stable/user_guide/indexing.html#returning-a-view-versus-a-copy\n",
      "  self.folders[\"date\"], format=\"%d.%m.%Y, %H:%M:\"\n"
     ]
    },
    {
     "name": "stdout",
     "output_type": "stream",
     "text": [
      "2022-04-18 23:45:00\n"
     ]
    },
    {
     "data": {
      "application/vnd.jupyter.widget-view+json": {
       "model_id": "afac809117024b55b23b10930a0c6429",
       "version_major": 2,
       "version_minor": 0
      },
      "image/png": "[encoded data removed]",
      "text/html": [
       "\n",
       "            <div style=\"display: inline-block;\">\n",
       "                <div class=\"jupyter-widgets widget-label\" style=\"text-align: center;\">\n",
       "                    Figure\n",
       "                </div>\n",
       "                <img src='data:image/png;base64,iVBORw0KGgoAAAANSUhEUgAAAMgAAACWCAYAAACb3McZAAAAOXRFWHRTb2Z0d2FyZQBNYXRwbG90bGliIHZlcnNpb24zLjUuMywgaHR0cHM6Ly9tYXRwbG90bGliLm9yZy/NK7nSAAAACXBIWXMAAA9hAAAPYQGoP6dpAAAEzUlEQVR4nO3av0sjaQDG8Seygk2iiCgbHDuxshDslQsIujnZ4uytBAtr0UoRO3sLsRLuEIQ78LZRFvwfbFQQRCWVKI6ggpq5YkkwmntWlxl/5fup4jjJ+4Lz9X0nSSqKokgAqqp77QkAbxmBAAaBAAaBAAaBAAaBAAaBAAaBAAaBAAaBAAaBAAaBAAaBAAaBAAaBAAaBAAaBAAaBAAaBAAaBAAaBAAaBAAaBAAaBAAaBAAaBAAaBAAaBAAaBAAaBAAaBAAaBAAaBAAaBAAaBAAaBAAaBAAaBAAaBAAaBAAaBAAaBAAaBAManpAcoFosqFApKp9NKpVJJD4caFkWRLi4ulM1mVVcXz//+xAMpFAoKgiDpYYCyo6Mjtbe3x/JaiQeSTqcl/Zh0JpNJejjUsDAMFQRB+ZqLQ+KBlLZVmUxGmUxGh4eHOjk5qTinpaVFHR0dSU8FNSLOrXzigdx3eHiorq4uXV9fVxxvaGjQ7u4ukeDN4V0swHjRFaSjo0O7u7tssd6Bg4MD7e3taWBg4Jeev7Ozo7GxMd3e3mpubk65XE4zMzPq7e1VPp+PebbJedFApB+REMPbd3BwoI2NjV8OZHp6WsvLy2pra9Pg4KByuVzMM3wZbLFQ1eLiolZXV9Xf36/T09NnP79QKKizs1OZTEbNzc3lXcPq6qqGhobU19enq6uruKcduxdfQfA+jI+PKwgCLSwsVBzf3t7WxMTEo/O3trYqfi4Wi+XHjY2N5cg6Ozu1srKiyclJbW5uanh4OP7Jx4hA8Czd3d2PYqjm/ifZ5+fnam5uliT19PRIkoIg0NnZWSJzjBOBoKr6+nrd3d09Ov7UFeTz58/a399Xa2urTk9P1dLSIqnyM4ooiuKddAIIBFV1d3drampKIyMjWlpaUlNTU/n4U1aQ+fl5jY6O6u7uTrOzs8lONkGpKOGMwzBUY2Ojzs/P+aoJEpXEtca7WIBBIIBBIIBBIIBBIIBBIIBBIIBBIIBBIIBBIIBBIIBBIIBBIIBBIIBBIIBBIIBBIIBBIIBBIIBBIIBBIIBBIIBBIIBBIIBBIIBBIIBBIIBBIIBBIIBBIIBBIIBBIIBBIIBBIIBBIIBBIIBBIIBBIHi23Jd/XnsKL4ZAAINA8Gzfv30tP/7oqwmB4MmqxXA/lo+IQPBk3799rYjko68eEoHgJ0oRVAvjo68eEoHggYchPFw1pNoIo4RAapjbIt1fOR4GUQtbq5JPrz0BvI7/u/BLxx7+rtpKUgtYQWrUz7ZOD+897p8bZyxvPToCqVHP2TrdvymP+/7jrd/PJL7FiqJIkhSGYdJDoYrf//hX62v5R8ekx3+Tv//6TX0Df2p9La/bm0uFYajbm0tJ0vpavuL825vL8rlvRWl+pWsuDqkozler4vj4WEEQJDkEUOHo6Ejt7e2xvFbigRSLRRUKBaXTaaVSqSSHQo2LokgXFxfKZrOqq4vn7iHxQID3jJt0wCAQwCAQwCAQwCAQwCAQwCAQwCAQwCAQwCAQwCAQwCAQwCAQwCAQwCAQwCAQwCAQwCAQwCAQwCAQwCAQwCAQwCAQwCAQwCAQwCAQwCAQwCAQwCAQwCAQwCAQwCAQwCAQwCAQwCAQwCAQwCAQwCAQwCAQwCAQwPgPnVs+taRc6UkAAAAASUVORK5CYII=' width=200.0/>\n",
       "            </div>\n",
       "        "
      ],
      "text/plain": [
       "Canvas(toolbar=Toolbar(toolitems=[('Home', 'Reset original view', 'home', 'home'), ('Back', 'Back to previous …"
      ]
     },
     "metadata": {},
     "output_type": "display_data"
    },
    {
     "data": {
      "application/vnd.jupyter.widget-view+json": {
       "model_id": "113e698433124c75a367d858f7d90112",
       "version_major": 2,
       "version_minor": 0
      },
      "image/png": "[encoded data removed]",
      "text/html": [
       "\n",
       "            <div style=\"display: inline-block;\">\n",
       "                <div class=\"jupyter-widgets widget-label\" style=\"text-align: center;\">\n",
       "                    Figure\n",
       "                </div>\n",
       "                <img src='data:image/png;base64,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' width=200.0/>\n",
       "            </div>\n",
       "        "
      ],
      "text/plain": [
       "Canvas(toolbar=Toolbar(toolitems=[('Home', 'Reset original view', 'home', 'home'), ('Back', 'Back to previous …"
      ]
     },
     "metadata": {},
     "output_type": "display_data"
    },
    {
     "data": {
      "application/vnd.jupyter.widget-view+json": {
       "model_id": "795fe15159b4479b8185f3d18c060f42",
       "version_major": 2,
       "version_minor": 0
      },
      "image/png": "[encoded data removed]",
      "text/html": [
       "\n",
       "            <div style=\"display: inline-block;\">\n",
       "                <div class=\"jupyter-widgets widget-label\" style=\"text-align: center;\">\n",
       "                    Figure\n",
       "                </div>\n",
       "                <img src='data:image/png;base64,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' width=200.0/>\n",
       "            </div>\n",
       "        "
      ],
      "text/plain": [
       "Canvas(toolbar=Toolbar(toolitems=[('Home', 'Reset original view', 'home', 'home'), ('Back', 'Back to previous …"
      ]
     },
     "metadata": {},
     "output_type": "display_data"
    },
    {
     "data": {
      "application/vnd.jupyter.widget-view+json": {
       "model_id": "3637eee90d2e43638255e1911d43645f",
       "version_major": 2,
       "version_minor": 0
      },
      "image/png": "[encoded data removed]",
      "text/html": [
       "\n",
       "            <div style=\"display: inline-block;\">\n",
       "                <div class=\"jupyter-widgets widget-label\" style=\"text-align: center;\">\n",
       "                    Figure\n",
       "                </div>\n",
       "                <img src='data:image/png;base64,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' width=200.0/>\n",
       "            </div>\n",
       "        "
      ],
      "text/plain": [
       "Canvas(toolbar=Toolbar(toolitems=[('Home', 'Reset original view', 'home', 'home'), ('Back', 'Back to previous …"
      ]
     },
     "metadata": {},
     "output_type": "display_data"
    },
    {
     "data": {
      "application/vnd.jupyter.widget-view+json": {
       "model_id": "b1a6732f55c84490b637353bea88b568",
       "version_major": 2,
       "version_minor": 0
      },
      "image/png": "[encoded data removed]",
      "text/html": [
       "\n",
       "            <div style=\"display: inline-block;\">\n",
       "                <div class=\"jupyter-widgets widget-label\" style=\"text-align: center;\">\n",
       "                    Figure\n",
       "                </div>\n",
       "                <img src='data:image/png;base64,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' width=200.0/>\n",
       "            </div>\n",
       "        "
      ],
      "text/plain": [
       "Canvas(toolbar=Toolbar(toolitems=[('Home', 'Reset original view', 'home', 'home'), ('Back', 'Back to previous …"
      ]
     },
     "metadata": {},
     "output_type": "display_data"
    },
    {
     "data": {
      "application/vnd.jupyter.widget-view+json": {
       "model_id": "18ece7b9d6764c5e9f4c2d2882c25323",
       "version_major": 2,
       "version_minor": 0
      },
      "image/png": "[encoded data removed]",
      "text/html": [
       "\n",
       "            <div style=\"display: inline-block;\">\n",
       "                <div class=\"jupyter-widgets widget-label\" style=\"text-align: center;\">\n",
       "                    Figure\n",
       "                </div>\n",
       "                <img src='data:image/png;base64,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' width=200.0/>\n",
       "            </div>\n",
       "        "
      ],
      "text/plain": [
       "Canvas(toolbar=Toolbar(toolitems=[('Home', 'Reset original view', 'home', 'home'), ('Back', 'Back to previous …"
      ]
     },
     "metadata": {},
     "output_type": "display_data"
    },
    {
     "data": {
      "application/vnd.jupyter.widget-view+json": {
       "model_id": "84194dfca0b34d909176b909d01478c4",
       "version_major": 2,
       "version_minor": 0
      },
      "image/png": "[encoded data removed]",
      "text/html": [
       "\n",
       "            <div style=\"display: inline-block;\">\n",
       "                <div class=\"jupyter-widgets widget-label\" style=\"text-align: center;\">\n",
       "                    Figure\n",
       "                </div>\n",
       "                <img src='data:image/png;base64,iVBORw0KGgoAAAANSUhEUgAAAMgAAACWCAYAAACb3McZAAAAOXRFWHRTb2Z0d2FyZQBNYXRwbG90bGliIHZlcnNpb24zLjUuMywgaHR0cHM6Ly9tYXRwbG90bGliLm9yZy/NK7nSAAAACXBIWXMAAA9hAAAPYQGoP6dpAAAFL0lEQVR4nO3dv0ubWwDG8SdyBZckImKp+LqJk4PgrjRQqPWWDtfdSXDoXOykiJu7gzg5CYUKvV1aCv0futRCQUzJJLZvHOxQ896hNDfW+NQf56Qxfj+LTUjOe4bzzTl5LZjLsiwTgKa6/vQEgHZGIIBBIIBBIIBBIIBBIIBBIIBBIIBBIIBBIIBBIIBBIIBBIIBBIIBBIIBBIIBBIIBBIIBBIIBBIIBBIIBBIIBBIIBBIIBBIIBBIIBBIIBBIIBBIIBBIIBBIIBBIIBBIIBBIIBBIIBBIIBBIIBBIIBBIIBBIIBBIIBBIIBBIIDxV+wL1Go1VSoV5fN55XK52JfDLZZlmY6OjjQ4OKiurjCf/dEDqVQqSpIk9mWAunK5rKGhoSBjRQ8kn89L+jHpQqEQ+3K4xarVqpIkqa+5EKIH8vNYVSgUVCgUtL+/r4ODg1Ov6e/v1/DwcOyp4JYIeZSPHkij/f19jY6O6tu3b6ee7+np0e7uLpGg7XAXCzBauoMMDw9rd3eXI9YNsLe3p48fP+r+/ftXev+HDx80Pz+v79+/a2VlRaVSSUtLS5qYmNDMzEzg2cbT0kCkH5EQQ/vb29vT69evrxzIs2fPtLm5qTt37ujBgwcqlUqBZ9gaHLHQ1Pr6ura3tzU1NaXDw8NLv79SqWhkZESFQkF9fX31U8P29ramp6c1OTmp4+Pj0NMOruU7CG6GhYUFJUmitbW1U8+/f/9eT548OfP6d+/enXpcq9Xq/y4Wi/XIRkZGtLW1padPn+rNmzd69OhR+MkHRCC4lLGxsTMxNNP4m+w0TdXX1ydJGh8flyQlSaIvX75EmWNIBIKmuru7dXJycub5i+4gd+/e1adPnzQwMKDDw0P19/dLOv07iizLwk46AgJBU2NjY1pcXNTs7Kw2NjbU29tbf/4iO8jq6qrm5uZ0cnKi5eXluJONKJdFzrharapYLCpNU/6rCaKKsda4iwUYBAIYBAIYBAIYBAIYBAIYBAIYBAIYBAIYBAIYBAIYBAIYBAIYBAIYBAIYBAIYBAIYBAIYBAIYBAIYBAIYBAIYBAIYBAIYBAIYBAIYBAIYBAIYBAIYBAIYBAIYBAIYBAIYBAIYBAIYBAIYBAIYBNImSg93Ouo6nYJA2sTbV48l/b+Af13IoRb2z+tc120Jjb+T3oZKD3eiLeRQ4/4cO+R418XfSe9AzXaKkIuucazYi7kTdxV2kDZ33WDa7VM+JnaQDlZ6uNP0+8ev300u67z3h/i0P2/OHSWLLE3TTFKWpmnsS3Wke9MvsnvTL4KO1/jzqu9vfNxsrJBzvqgYa40dpM29ffX4ykekZp/qrbqL9fbV447YVQikjTVbYJdddI2vbzwSXTWUxvc1jhUzxj8q2F50Do5Y13ed44o7Ul33uOWu2Thmq45bHLFuoVB3odyR5yrjN+5GzcZr5e3lmKLf5k3TVL29vSqXy9zmNf7+519J0svnM/XHL5/P1H82vq7Z878b+6Kv/d0YIcaKpVqtKkkSff36VcViMciY0QP5/PmzkiSJeQnglHK5rKGhoSBjRQ+kVqupUqkon88rl8vFvBRuuSzLdHR0pMHBQXV1hfn2ED0Q4CbjSzpgEAhgEAhgEAhgEAhgEAhgEAhgEAhgEAhgEAhgEAhgEAhgEAhgEAhgEAhgEAhgEAhgEAhgEAhgEAhgEAhgEAhgEAhgEAhgEAhgEAhgEAhgEAhgEAhgEAhgEAhgEAhgEAhgEAhgEAhgEAhgEAhgEAhgEAhgEAhg/AeVDYedT8An3QAAAABJRU5ErkJggg==' width=200.0/>\n",
       "            </div>\n",
       "        "
      ],
      "text/plain": [
       "Canvas(toolbar=Toolbar(toolitems=[('Home', 'Reset original view', 'home', 'home'), ('Back', 'Back to previous …"
      ]
     },
     "metadata": {},
     "output_type": "display_data"
    },
    {
     "data": {
      "application/vnd.jupyter.widget-view+json": {
       "model_id": "b89ab0dbcdae4629be62dd441ced3f13",
       "version_major": 2,
       "version_minor": 0
      },
      "image/png": "[encoded data removed]",
      "text/html": [
       "\n",
       "            <div style=\"display: inline-block;\">\n",
       "                <div class=\"jupyter-widgets widget-label\" style=\"text-align: center;\">\n",
       "                    Figure\n",
       "                </div>\n",
       "                <img src='data:image/png;base64,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' width=200.0/>\n",
       "            </div>\n",
       "        "
      ],
      "text/plain": [
       "Canvas(toolbar=Toolbar(toolitems=[('Home', 'Reset original view', 'home', 'home'), ('Back', 'Back to previous …"
      ]
     },
     "metadata": {},
     "output_type": "display_data"
    },
    {
     "data": {
      "application/vnd.jupyter.widget-view+json": {
       "model_id": "84b6e1c50f664e949736e69a18598c66",
       "version_major": 2,
       "version_minor": 0
      },
      "image/png": "[encoded data removed]",
      "text/html": [
       "\n",
       "            <div style=\"display: inline-block;\">\n",
       "                <div class=\"jupyter-widgets widget-label\" style=\"text-align: center;\">\n",
       "                    Figure\n",
       "                </div>\n",
       "                <img src='data:image/png;base64,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' width=200.0/>\n",
       "            </div>\n",
       "        "
      ],
      "text/plain": [
       "Canvas(toolbar=Toolbar(toolitems=[('Home', 'Reset original view', 'home', 'home'), ('Back', 'Back to previous …"
      ]
     },
     "metadata": {},
     "output_type": "display_data"
    },
    {
     "data": {
      "application/vnd.jupyter.widget-view+json": {
       "model_id": "20821139e4fe4d8797ecf3ccd9a40440",
       "version_major": 2,
       "version_minor": 0
      },
      "image/png": "[encoded data removed]",
      "text/html": [
       "\n",
       "            <div style=\"display: inline-block;\">\n",
       "                <div class=\"jupyter-widgets widget-label\" style=\"text-align: center;\">\n",
       "                    Figure\n",
       "                </div>\n",
       "                <img src='data:image/png;base64,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' width=200.0/>\n",
       "            </div>\n",
       "        "
      ],
      "text/plain": [
       "Canvas(toolbar=Toolbar(toolitems=[('Home', 'Reset original view', 'home', 'home'), ('Back', 'Back to previous …"
      ]
     },
     "metadata": {},
     "output_type": "display_data"
    },
    {
     "data": {
      "application/vnd.jupyter.widget-view+json": {
       "model_id": "090025f417b2475b838b897c6940d8fd",
       "version_major": 2,
       "version_minor": 0
      },
      "image/png": "[encoded data removed]",
      "text/html": [
       "\n",
       "            <div style=\"display: inline-block;\">\n",
       "                <div class=\"jupyter-widgets widget-label\" style=\"text-align: center;\">\n",
       "                    Figure\n",
       "                </div>\n",
       "                <img src='data:image/png;base64,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' width=200.0/>\n",
       "            </div>\n",
       "        "
      ],
      "text/plain": [
       "Canvas(toolbar=Toolbar(toolitems=[('Home', 'Reset original view', 'home', 'home'), ('Back', 'Back to previous …"
      ]
     },
     "metadata": {},
     "output_type": "display_data"
    },
    {
     "data": {
      "application/vnd.jupyter.widget-view+json": {
       "model_id": "795c76a51eec42cfacd7e20126218d01",
       "version_major": 2,
       "version_minor": 0
      },
      "image/png": "[encoded data removed]",
      "text/html": [
       "\n",
       "            <div style=\"display: inline-block;\">\n",
       "                <div class=\"jupyter-widgets widget-label\" style=\"text-align: center;\">\n",
       "                    Figure\n",
       "                </div>\n",
       "                <img src='data:image/png;base64,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' width=200.0/>\n",
       "            </div>\n",
       "        "
      ],
      "text/plain": [
       "Canvas(toolbar=Toolbar(toolitems=[('Home', 'Reset original view', 'home', 'home'), ('Back', 'Back to previous …"
      ]
     },
     "metadata": {},
     "output_type": "display_data"
    }
   ],
   "source": [
    "plates_for_plot =   ['1014_20220525', \n",
    "  # '1023_20220502',\n",
    "  '1042_20220523',\n",
    "# '1045_20220504',\n",
    "  '1048_20220506',\n",
    "  '1053_20220413',]\n",
    "for plate in   plates_for_plot:\n",
    "    plt.close(\"all\")\n",
    "    folders = all_folders.loc[all_folders['unique_id']==plate]\n",
    "    folders = folders.loc[folders[\"/Analysis/nx_graph_pruned_width.p\"] == True]\n",
    "    folders = folders.sort_values(by=\"datetime\")\n",
    "\n",
    "    folders['time_since_begin'] = folders['datetime']-folders.iloc[0]['datetime']\n",
    "    plate_num = int(plate.split('_')[0])\n",
    "    shift = shifts[plate_num]\n",
    "    i0 = shift\n",
    "    timesteps_select = []\n",
    "    folders_copy = folders.copy()\n",
    "    folders_copy = folders_copy.reset_index()\n",
    "    deltas = [0,30,60]\n",
    "    for delta in deltas:\n",
    "        target_value = folders_copy[\"time_since_begin\"].iloc[i0] + timedelta(hours=delta)\n",
    "        differences = abs(folders_copy[\"time_since_begin\"] - target_value)\n",
    "        closest_index = differences.idxmin()\n",
    "        closest_row = folders_copy.loc[closest_index]\n",
    "        print(differences[closest_index])\n",
    "        timesteps_select.append(closest_index)\n",
    "    for k,i in enumerate(timesteps_select):\n",
    "        exp = Experiment(directory_targ)\n",
    "        exp.load(folders.iloc[i:i+1],suffix=\"_width\")\n",
    "        for t in range(exp.ts):\n",
    "            exp.load_tile_information(t)\n",
    "        G = exp.nx_graph[t]\n",
    "        components = nx.connected_components(G)\n",
    "\n",
    "        # Find the largest connected component\n",
    "        largest_component = max(components, key=len)\n",
    "\n",
    "        # Create a new graph representing the largest connected component\n",
    "        largest_component_graph = G.subgraph(largest_component)\n",
    "        exp.nx_graph[t] = largest_component_graph\n",
    "        vmax = 10\n",
    "        vmin = 0\n",
    "        downsizing = 10\n",
    "        width = 2\n",
    "        height = 1.5\n",
    "        region = [[0,0],[4000*5,10000*5]]\n",
    "        nodes = get_all_nodes(exp,t)\n",
    "\n",
    "        fig,ax = plot_paper(\n",
    "            exp,\n",
    "            t,\n",
    "            lambda edge: 5,\n",
    "            region = region,\n",
    "            # nodes = nodes,\n",
    "            cmap=cm.get_cmap(\"viridis\", 100),\n",
    "            v_min=vmin,\n",
    "            v_max=vmax,\n",
    "            plot_cmap=False,\n",
    "            show_background=False,\n",
    "            dilation=5,\n",
    "            figsize=(width, height),\n",
    "            alpha = 1,\n",
    "            downsizing = downsizing\n",
    "\n",
    "        )\n",
    "        rect = mpatches.Rectangle((100, 100), 1000*1.725/downsizing, 50, \n",
    "                                  color='black')\n",
    "\n",
    "        # Add the rectangle to the plot\n",
    "        ax.add_patch(rect)\n",
    "        time = int((folders.iloc[i:i+1]['datetime'].iloc[0]-folders.iloc[i0]['datetime']).total_seconds() / 3600)\n",
    "        # plt.savefig(os.path.join(\"figures\",f\"{folders.iloc[i:i+1]['datetime'].iloc[0]}_{plate}.pdf\"), transparent=True, bbox_inches='tight')\n",
    "        ax.text(3500, 400, f't = {deltas[k]}h',size = 6)\n",
    "\n",
    "        plt.savefig(os.path.join(\"figures\",f\"{time}_{plate}.pdf\"), transparent=True, bbox_inches='tight')\n"
   ]
  }
 ],
 "metadata": {
  "kernelspec": {
   "display_name": "Python 3 (ipykernel)",
   "language": "python",
   "name": "python3"
  },
  "language_info": {
   "codemirror_mode": {
    "name": "ipython",
    "version": 3
   },
   "file_extension": ".py",
   "mimetype": "text/x-python",
   "name": "python",
   "nbconvert_exporter": "python",
   "pygments_lexer": "ipython3",
   "version": "3.7.13"
  }
 },
 "nbformat": 4,
 "nbformat_minor": 5
}

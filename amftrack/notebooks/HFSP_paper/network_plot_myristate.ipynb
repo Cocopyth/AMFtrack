{
 "cells": [
  {
   "cell_type": "code",
   "execution_count": 1,
   "id": "382a263d-1ac6-44d1-885d-4e898f40caa9",
   "metadata": {
    "tags": []
   },
   "outputs": [
    {
     "name": "stderr",
     "output_type": "stream",
     "text": [
      "/gpfs/home2/cbisot/pycode/AMFtrack/amftrack/util/dbx.py:3: TqdmExperimentalWarning: Using `tqdm.autonotebook.tqdm` in notebook mode. Use `tqdm.tqdm` instead to force console mode (e.g. in jupyter console)\n",
      "  from tqdm.autonotebook import tqdm\n"
     ]
    }
   ],
   "source": [
    "%load_ext autoreload\n",
    "%autoreload 2\n",
    "%matplotlib widget\n",
    "\n",
    "from amftrack.pipeline.launching.run_super import (\n",
    "    run_launcher,\n",
    "    directory_scratch,\n",
    "    directory_project,\n",
    "    directory_project,\n",
    "    run_parallel_stitch,\n",
    "    run_parallel_transfer,\n",
    ")\n",
    "import os\n",
    "from amftrack.util.sys import (\n",
    "    get_dates_datetime,\n",
    "    get_dirname,\n",
    "    temp_path,\n",
    "    get_data_info,\n",
    "    update_plate_info,\n",
    "    update_analysis_info,\n",
    "    get_analysis_info,\n",
    "    get_current_folders,\n",
    "    get_folders_by_plate_id,\n",
    ")\n",
    "from datetime import timedelta\n",
    "\n",
    "from time import time_ns\n",
    "from amftrack.util.dbx import (\n",
    "    upload_folders,\n",
    "    load_dbx,\n",
    "    download,\n",
    "    get_dropbox_folders_prince,\n",
    ")\n",
    "from datetime import datetime\n",
    "from amftrack.pipeline.launching.run_super import (\n",
    "    run_parallel,\n",
    "    directory_scratch,\n",
    "    directory_project,\n",
    "    run_parallel_stitch,\n",
    ")\n",
    "from amftrack.util.dbx import read_saved_dropbox_state, get_dropbox_folders_prince\n",
    "import sys\n",
    "import os\n",
    "\n",
    "from amftrack.util.sys import get_dirname, temp_path\n",
    "import pandas as pd\n",
    "import ast\n",
    "from scipy import sparse\n",
    "import scipy.io as sio\n",
    "import cv2\n",
    "import imageio.v2 as imageio\n",
    "import numpy as np\n",
    "import scipy.sparse\n",
    "import os\n",
    "from time import time\n",
    "from amftrack.pipeline.functions.image_processing.extract_skel import (\n",
    "    extract_skel_new_prince,\n",
    "    run_back_sub,\n",
    "    bowler_hat,\n",
    ")\n",
    "\n",
    "from amftrack.util.sys import get_dates_datetime, get_dirname\n",
    "import shutil\n",
    "import matplotlib.pyplot as plt\n",
    "from amftrack.pipeline.functions.image_processing.experiment_class_surf import (\n",
    "    Experiment,\n",
    "    save_graphs,\n",
    "    load_graphs,\n",
    "    Edge,\n",
    "    Node,\n",
    ")\n",
    "from amftrack.pipeline.functions.image_processing.experiment_util import (\n",
    "    get_random_edge,\n",
    "    distance_point_edge,\n",
    "    plot_edge,\n",
    "    plot_edge_cropped,\n",
    "    find_nearest_edge,\n",
    "    get_edge_from_node_labels,\n",
    "    plot_full_image_with_features,\n",
    "    get_all_edges,\n",
    "    get_all_nodes,\n",
    "    find_neighboring_edges,\n",
    "    reconstruct_image,\n",
    "    reconstruct_skeletton_from_edges,\n",
    "    reconstruct_skeletton_unicolor,\n",
    "    reconstruct_image_from_general,\n",
    "    plot_full,\n",
    "    plot_edge_color_value,\n",
    ")\n",
    "from matplotlib import cm\n",
    "import matplotlib.patches as mpatches\n",
    "import networkx as nx\n",
    "from amftrack.pipeline.functions.post_processing.time_plate import *"
   ]
  },
  {
   "cell_type": "code",
   "execution_count": 3,
   "id": "4b716fc8-ef48-427f-8676-479c8dc60327",
   "metadata": {
    "tags": []
   },
   "outputs": [
    {
     "data": {
      "application/vnd.jupyter.widget-view+json": {
       "model_id": "f0e93d1cb190411d8a7a4aad61636ac7",
       "version_major": 2,
       "version_minor": 0
      },
      "text/plain": [
       "analysed:   0%|          | 0/1 [00:00<?, ?it/s]"
      ]
     },
     "metadata": {},
     "output_type": "display_data"
    }
   ],
   "source": [
    "# directory_targ = os.path.join(directory_scratch, \"stitch_temp2\") + \"/\"\n",
    "# directory_targ = directory_project\n",
    "directory_targ = directory_scratch+'myr/'\n",
    "# directory_targ = directory_project + \"myr/\"\n",
    "\n",
    "update_plate_info(directory_targ, local=True, strong_constraint=True)\n",
    "all_folders = get_current_folders(directory_targ, local=True)"
   ]
  },
  {
   "cell_type": "code",
   "execution_count": null,
   "id": "30a9e89f-7544-4b32-9411-15c161c574d7",
   "metadata": {
    "tags": []
   },
   "outputs": [],
   "source": [
    "all_folders"
   ]
  },
  {
   "cell_type": "code",
   "execution_count": null,
   "id": "df37e979-80cc-4f52-994c-3c96c6b2c05b",
   "metadata": {
    "collapsed": true,
    "jupyter": {
     "outputs_hidden": true
    },
    "tags": []
   },
   "outputs": [],
   "source": [
    "folders = all_folders[all_folders[\"medium\"] == \"'0Myr'\"]\n",
    "folders = folders[folders[\"/Analysis/nx_graph_pruned.p\"] == True]\n",
    "folders"
   ]
  },
  {
   "cell_type": "code",
   "execution_count": null,
   "id": "093ec752-9743-4ef9-a1ab-0206b486d03f",
   "metadata": {},
   "outputs": [],
   "source": [
    "plates = [\n",
    "    \"63_20230510\",\n",
    "    \"34_20230221\",\n",
    "    \"61_20230510\",\n",
    "    \"64_20230508\",\n",
    "    \"33_20230221\",\n",
    "    \"35_20230227\",\n",
    "]"
   ]
  },
  {
   "cell_type": "code",
   "execution_count": null,
   "id": "89ffb854-c884-43b2-bb5c-63614f0a32f8",
   "metadata": {
    "collapsed": true,
    "jupyter": {
     "outputs_hidden": true
    },
    "tags": []
   },
   "outputs": [],
   "source": [
    "# folders = all_folders[all_folders['unique_id'].isin(plates)]\n",
    "folders = all_folders\n",
    "folders"
   ]
  },
  {
   "cell_type": "code",
   "execution_count": null,
   "id": "a691c13d-10eb-4c4a-899b-88ed126071ef",
   "metadata": {
    "collapsed": true,
    "jupyter": {
     "outputs_hidden": true
    },
    "tags": []
   },
   "outputs": [],
   "source": [
    "run_parallel_stitch(\n",
    "    directory_targ,\n",
    "    folders,\n",
    "    32,\n",
    "    \"2:00:00\",\n",
    "    cpus=128,\n",
    "    node=\"fat_rome\",\n",
    "    name_job=\"stitch\",\n",
    "    dependency=False,\n",
    "    size_x=15,\n",
    "    size_y=15,\n",
    ")"
   ]
  },
  {
   "cell_type": "code",
   "execution_count": null,
   "id": "bfae865e-b59b-4a9f-94c3-671181ae2740",
   "metadata": {},
   "outputs": [],
   "source": [
    "len(all_folders[all_folders[\"unique_id\"].isin(plates)])"
   ]
  },
  {
   "cell_type": "code",
   "execution_count": null,
   "id": "f2b48bd5-cd95-43ff-b3d0-31f83334fdb9",
   "metadata": {},
   "outputs": [],
   "source": [
    "len(all_folders[all_folders[\"unique_id\"].isin(plates)])"
   ]
  },
  {
   "cell_type": "code",
   "execution_count": null,
   "id": "9755061e-69ce-47e4-afb6-072bfe5a9ef0",
   "metadata": {},
   "outputs": [],
   "source": [
    "plates = all_folders[\"unique_id\"].unique()\n",
    "# plates = plates[5:]"
   ]
  },
  {
   "cell_type": "code",
   "execution_count": null,
   "id": "025e8e06-8be3-4ca6-96e8-ae291e4d37a0",
   "metadata": {
    "tags": []
   },
   "outputs": [],
   "source": [
    "name_job = \"Myr\"\n",
    "run_launcher(\n",
    "    \"video_maker.py\",\n",
    "    [directory_targ, name_job, 20],\n",
    "    plates,\n",
    "    \"24:00:00\",\n",
    "    dependency=True,\n",
    "    name_job=\"stitch\",\n",
    ")"
   ]
  },
  {
   "cell_type": "code",
   "execution_count": null,
   "id": "a671eaae-f410-40ea-8fbf-fd3f39d88acc",
   "metadata": {
    "tags": []
   },
   "outputs": [],
   "source": [
    "import datetime\n",
    "\n",
    "results = {}\n",
    "for plate in plates:\n",
    "    folders = all_folders.loc[all_folders[\"unique_id\"] == plate].copy()\n",
    "    folders = folders.loc[folders[\"/Analysis/nx_graph_pruned_width.p\"] == True]\n",
    "    folders = folders.sort_values(by=\"datetime\")\n",
    "    folders = folders.reset_index()\n",
    "    folders[\"days_after_crossing\"] = [\n",
    "        (\n",
    "            row[\"datetime\"]\n",
    "            - datetime.datetime(\n",
    "                int(row[\"CrossDate\"][:4]),\n",
    "                int(row[\"CrossDate\"][4:6]),\n",
    "                int(row[\"CrossDate\"][6:]),\n",
    "            )\n",
    "        )\n",
    "        for index, row in folders.iterrows()\n",
    "    ]\n",
    "    abs_diff_from_14 = (folders[\"days_after_crossing\"].dt.days - 14).abs()\n",
    "\n",
    "    # Find the index of the row with the smallest difference\n",
    "    closest_index = abs_diff_from_14.idxmin()\n",
    "    exp = Experiment(directory_targ)\n",
    "    i = closest_index\n",
    "    exp.load(folders.loc[i:i], suffix=\"_width\")\n",
    "    for t in range(exp.ts):\n",
    "        exp.load_tile_information(t)\n",
    "    G = exp.nx_graph[t]\n",
    "    components = nx.connected_components(G)\n",
    "\n",
    "    # Find the largest connected component\n",
    "    largest_component = max(components, key=len)\n",
    "\n",
    "    # Create a new graph representing the largest connected component\n",
    "    largest_component_graph = G.subgraph(largest_component)\n",
    "    exp.nx_graph[t] = largest_component_graph\n",
    "    break"
   ]
  },
  {
   "cell_type": "code",
   "execution_count": null,
   "id": "d73cb404-4b3d-428f-b05d-786d8f0d8c9e",
   "metadata": {
    "tags": []
   },
   "outputs": [],
   "source": [
    "import networkx as nx\n",
    "\n",
    "data = {}\n",
    "for plate in plates[2:]:\n",
    "    folders = all_folders.loc[all_folders[\"unique_id\"] == plate]\n",
    "    folders = folders.sort_values(by=\"datetime\")\n",
    "\n",
    "    exp = Experiment(directory_targ)\n",
    "    i = 0\n",
    "    exp.load(folders.iloc[i : i + 1], suffix=\"_width\")\n",
    "    for t in range(exp.ts):\n",
    "        exp.load_tile_information(t)\n",
    "\n",
    "    G = exp.nx_graph[t]\n",
    "    components = nx.connected_components(G)\n",
    "\n",
    "    # Find the largest connected component\n",
    "    largest_component = max(components, key=len)\n",
    "\n",
    "    # Create a new graph representing the largest connected component\n",
    "    largest_component_graph = G.subgraph(largest_component)\n",
    "    exp.nx_graph[t] = largest_component_graph\n",
    "    area, length = get_area(exp, 0)[1], get_length_tot(exp, 0)[1]\n",
    "    strain = folders[\"strain\"].iloc[0]\n",
    "    unique_id = folders[\"unique_id\"].iloc[0]\n",
    "    data[unique_id] = {\"strain\": strain, \"density\": length / area}\n",
    "    print(length / area)"
   ]
  },
  {
   "cell_type": "code",
   "execution_count": null,
   "id": "f99699f2-2712-4cb8-a2e1-ba08d2ed0dc1",
   "metadata": {},
   "outputs": [],
   "source": [
    "pd.DataFrame(data).transpose().to_csv(\"myristate.csv\")"
   ]
  },
  {
   "cell_type": "code",
   "execution_count": 4,
   "id": "53173750-9bfe-4311-a013-fe8501691e2a",
   "metadata": {
    "tags": []
   },
   "outputs": [],
   "source": [
    "plate = \"68_20230501\"\n",
    "folders = all_folders.loc[all_folders[\"unique_id\"] == plate]\n",
    "# folders = folders.loc[folders[\"/Analysis/nx_graph_pruned_labeled.p\"] == True]\n",
    "# folders = folders.sort_values(by=\"datetime\")"
   ]
  },
  {
   "cell_type": "code",
   "execution_count": 5,
   "id": "9eed549a-de7e-4587-b262-6747a93b7c36",
   "metadata": {
    "tags": []
   },
   "outputs": [
    {
     "name": "stdout",
     "output_type": "stream",
     "text": [
      "2023-05-23 22:52:00\n"
     ]
    }
   ],
   "source": [
    "folders = folders.sort_values(by=\"datetime\")\n",
    "\n",
    "exp = Experiment(directory_targ)\n",
    "i = 0\n",
    "exp.load(folders.iloc[i : i + 1], suffix=\"_width\")\n",
    "for t in range(exp.ts):\n",
    "    exp.load_tile_information(t)"
   ]
  },
  {
   "cell_type": "code",
   "execution_count": 6,
   "id": "b1491090-2b27-4416-b8a7-b07d2754ec3e",
   "metadata": {
    "tags": []
   },
   "outputs": [],
   "source": [
    "import networkx as nx\n",
    "\n",
    "G = exp.nx_graph[t]\n",
    "components = nx.connected_components(G)\n",
    "\n",
    "# Find the largest connected component\n",
    "largest_component = max(components, key=len)\n",
    "\n",
    "# Create a new graph representing the largest connected component\n",
    "largest_component_graph = G.subgraph(largest_component)\n",
    "exp.nx_graph[t] = largest_component_graph"
   ]
  },
  {
   "cell_type": "code",
   "execution_count": null,
   "id": "d4800a16-8861-4526-9f95-9fc428bc1600",
   "metadata": {},
   "outputs": [],
   "source": [
    "from amftrack.pipeline.functions.post_processing.time_plate import *\n",
    "\n",
    "area, length = get_area(exp, 0)[1], get_length_tot(exp, 0)[1]"
   ]
  },
  {
   "cell_type": "code",
   "execution_count": null,
   "id": "e368b580-6ad4-43f6-84b5-41f87c611087",
   "metadata": {},
   "outputs": [],
   "source": [
    "length / area"
   ]
  },
  {
   "cell_type": "code",
   "execution_count": null,
   "id": "3cd648ec-5249-43d6-927a-b2ae48e11316",
   "metadata": {},
   "outputs": [],
   "source": [
    "get_area(exp, 0)"
   ]
  },
  {
   "cell_type": "code",
   "execution_count": 7,
   "id": "b4ca62ac-0cfd-45ef-aa07-9bc4022e39e2",
   "metadata": {
    "tags": []
   },
   "outputs": [],
   "source": [
    "from amftrack.pipeline.functions.image_processing.experiment_util import *"
   ]
  },
  {
   "cell_type": "code",
   "execution_count": 8,
   "id": "a1f42bef-2b5d-4b5c-bad8-8dae848503be",
   "metadata": {
    "tags": []
   },
   "outputs": [],
   "source": [
    "def plot_paper(\n",
    "    exp: Experiment,\n",
    "    t: int,\n",
    "    color_fun: Callable,\n",
    "    region=None,\n",
    "    intervals=[[1, 4], [4, 6], [6, 10], [10, 20]],\n",
    "    cmap=cm.get_cmap(\"Reds\", 100),\n",
    "    plot_cmap=False,\n",
    "    v_max=10,\n",
    "    v_min=0,\n",
    "    nodes: List[Node] = [],\n",
    "    downsizing=5,\n",
    "    dilation=5,\n",
    "    save_path=\"\",\n",
    "    color_seed=12,\n",
    "    dpi=None,\n",
    "    show_background=True,\n",
    "    label_colorbar=\"Width ($\\mu m)$\",\n",
    "    figsize=(36, 24),\n",
    "    figax=None,\n",
    "    alpha=0.5,\n",
    ") -> None:\n",
    "    \"\"\"\n",
    "    Plot the width for all the edges at a given timestep.\n",
    "\n",
    "    :param region: choosen region in the full image, such as [[100, 100], [2000,2000]], if None the full image is shown\n",
    "    :param color_fun: edge -> float a function of edges that needs to be color plotted\n",
    "\n",
    "    :param nodes: list of nodes to plot\n",
    "    :param downsizing: factor by which we reduce the image resolution (5 -> image 25 times lighter)\n",
    "    :param dilation: only for edges: thickness of the edges (dilation applied to the pixel list)\n",
    "    :param save_path: full path to the location where the plot will be saved\n",
    "    :param intervals: different width intervals that will be given different colors\n",
    "    :param cmap: a colormap to map width to color\n",
    "    :param plot_cmap: a boolean, whether or not to plot with cmap\n",
    "    :param v_max: the max width for the colorbar/colormap\n",
    "    \"\"\"\n",
    "    DIM_X, DIM_Y = get_dimX_dimY(exp)\n",
    "\n",
    "    if region == None:\n",
    "        # Full image\n",
    "        image_coodinates = exp.image_coordinates[t]\n",
    "        region = get_bounding_box(image_coodinates)\n",
    "        region[1][0] += DIM_X\n",
    "        region[1][1] += DIM_Y\n",
    "\n",
    "    edges = get_all_edges(exp, t)\n",
    "    if figax is None:\n",
    "        fig = plt.figure(\n",
    "            figsize=figsize\n",
    "        )  # width: 30 cm height: 20 cm # TODO(FK): change dpi\n",
    "        ax = fig.add_subplot(111)\n",
    "    else:\n",
    "        fig, ax = figax\n",
    "\n",
    "    # Give colors to edges\n",
    "    default_color = 1000\n",
    "    colors = []\n",
    "    widths = []\n",
    "    for edge in edges:\n",
    "        width = color_fun(edge)\n",
    "        widths.append(width)\n",
    "        if not plot_cmap:\n",
    "            color = default_color\n",
    "            for i, interval in enumerate(intervals):\n",
    "                if interval[0] <= width and width < interval[1]:\n",
    "                    color = i + color_seed\n",
    "            colors.append(color)\n",
    "    if plot_cmap:\n",
    "        colors = [cmap((width - v_min) / (v_max - v_min)) for width in widths]\n",
    "    # 0/ Make color legend\n",
    "    def convert(c):\n",
    "        c_ = c / 255\n",
    "        return (c_[0], c_[1], c_[2])\n",
    "\n",
    "    # 1/ Image layer\n",
    "    if show_background:\n",
    "        im, f = reconstruct_image_from_general(\n",
    "            exp,\n",
    "            t,\n",
    "            downsizing=downsizing,\n",
    "            region=region,\n",
    "            prettify=False,\n",
    "            white_background=False,\n",
    "        )\n",
    "        f_int = lambda c: f(c).astype(int)\n",
    "\n",
    "    # 2/ Edges layer\n",
    "    color_list = (\n",
    "        [(np.array(color) * 255).astype(int) for color in colors] if plot_cmap else None\n",
    "    )\n",
    "    from_edges = reconstruct_skeletton_from_edges(\n",
    "        exp,\n",
    "        t,\n",
    "        edges=edges,\n",
    "        region=region,\n",
    "        color_seeds=colors,\n",
    "        color_list=color_list,\n",
    "        downsizing=downsizing,\n",
    "        dilation=dilation,\n",
    "        timestep=False,\n",
    "    )\n",
    "    skel_im, _ = from_edges\n",
    "    if show_background:\n",
    "        new_region = [\n",
    "            f_int(region[0]),\n",
    "            f_int(region[1]),\n",
    "        ]  # should be [[0, 0], [d_x/downsized, d_y/downsized]]\n",
    "\n",
    "    # 3/ Fusing layers\n",
    "    if show_background:\n",
    "        ax.imshow(im, cmap=\"gray\", interpolation=\"none\")\n",
    "    ax.imshow(skel_im, alpha=alpha, interpolation=\"none\", aspect=\"equal\")\n",
    "\n",
    "    # 3/ Plotting the Nodes\n",
    "    size = 5\n",
    "    bbox_props = dict(boxstyle=\"circle\", fc=\"white\")\n",
    "    for node in nodes:\n",
    "        c = node.pos(t)\n",
    "        if is_in_bounding_box(c, region):\n",
    "            c = f(node.pos(t))\n",
    "            node_text = ax.text(\n",
    "                c[1],\n",
    "                c[0],\n",
    "                str(node.label),\n",
    "                ha=\"center\",\n",
    "                va=\"center\",\n",
    "                size=size,\n",
    "                bbox=bbox_props,\n",
    "            )\n",
    "    ax.set_xticks([])\n",
    "    ax.set_yticks([])\n",
    "    return fig, ax"
   ]
  },
  {
   "cell_type": "code",
   "execution_count": null,
   "id": "291ec37c-0f27-466a-a6f5-4ddd95f653c9",
   "metadata": {},
   "outputs": [],
   "source": [
    "plates = [\n",
    "    \"62_20230511\",\n",
    "    \"49_20230510\",\n",
    "    \"60_20230508\",\n",
    "    \"68_20230501\",\n",
    "    \"14_20230301\",\n",
    "    \"58_20230511\",\n",
    "    \"1_20230221\",\n",
    "    \"51_20230511\",\n",
    "    \"48_20230301\",\n",
    "    \"33_20230221\",\n",
    "    \"46_20230221\",\n",
    "]"
   ]
  },
  {
   "cell_type": "code",
   "execution_count": null,
   "id": "0e9450c9-b8d9-41f5-bdf8-0fd443c148e4",
   "metadata": {},
   "outputs": [],
   "source": [
    "plates = folders[\"unique_id\"].unique()"
   ]
  },
  {
   "cell_type": "code",
   "execution_count": null,
   "id": "5e9a9b7c-d71d-49dd-b9dd-66faba5561ea",
   "metadata": {
    "tags": []
   },
   "outputs": [],
   "source": [
    "folders2 = all_folders[all_folders[\"medium\"] == \"'0Myr'\"]"
   ]
  },
  {
   "cell_type": "code",
   "execution_count": null,
   "id": "a7cd70c5-1aba-4594-89b2-1682693c001c",
   "metadata": {},
   "outputs": [],
   "source": [
    "plates = folders2[folders2[\"Plate\"].isin(plates_num)][\"unique_id\"].unique()"
   ]
  },
  {
   "cell_type": "code",
   "execution_count": null,
   "id": "c2f8ed18-6555-4802-b9c6-a7e7ac1a72ed",
   "metadata": {},
   "outputs": [],
   "source": [
    "plates"
   ]
  },
  {
   "cell_type": "code",
   "execution_count": null,
   "id": "360ef580-4b38-48f6-bfe6-ad131a701bbb",
   "metadata": {},
   "outputs": [],
   "source": [
    "plates_num = [\"31\", \"33\", \"34\", \"35\", \"61\", \"62\", \"63\", \"64\", \"67\", \"68\", \"69\", \"72\"]"
   ]
  },
  {
   "cell_type": "code",
   "execution_count": null,
   "id": "05366d34-eef6-44c4-8512-51946d4b5bd2",
   "metadata": {},
   "outputs": [],
   "source": [
    "plates[6:]"
   ]
  },
  {
   "cell_type": "code",
   "execution_count": null,
   "id": "b42804c1-aed9-460d-967d-e63147c3275f",
   "metadata": {},
   "outputs": [],
   "source": [
    "plates"
   ]
  },
  {
   "cell_type": "code",
   "execution_count": null,
   "id": "b4a5e5f0-c91e-4d5b-ad62-e7e329d144c3",
   "metadata": {},
   "outputs": [],
   "source": [
    "import datetime\n",
    "\n",
    "results = {}\n",
    "for plate in plates[0:]:\n",
    "    folders = all_folders.loc[all_folders[\"unique_id\"] == plate].copy()\n",
    "    folders = folders.loc[folders[\"/Analysis/nx_graph_pruned_width.p\"] == True]\n",
    "    folders = folders.sort_values(by=\"datetime\")\n",
    "    folders = folders.reset_index()\n",
    "    folders[\"days_after_crossing\"] = [\n",
    "        (\n",
    "            row[\"datetime\"]\n",
    "            - datetime.datetime(\n",
    "                int(row[\"CrossDate\"][:4]),\n",
    "                int(row[\"CrossDate\"][4:6]),\n",
    "                int(row[\"CrossDate\"][6:]),\n",
    "            )\n",
    "        )\n",
    "        for index, row in folders.iterrows()\n",
    "    ]\n",
    "    abs_diff_from_14 = (folders[\"days_after_crossing\"].dt.days - 15).abs()\n",
    "\n",
    "    # Find the index of the row with the smallest difference\n",
    "    closest_index = abs_diff_from_14.idxmin()\n",
    "    exp = Experiment(directory_targ)\n",
    "    i = closest_index\n",
    "    i = len(folders) - 1\n",
    "    # i=0\n",
    "    exp.load(folders.loc[i:i], suffix=\"\")\n",
    "    for t in range(exp.ts):\n",
    "        exp.load_tile_information(t)\n",
    "    G = exp.nx_graph[t]\n",
    "    components = nx.connected_components(G)\n",
    "\n",
    "    # Find the largest connected component\n",
    "    largest_component = max(components, key=len)\n",
    "\n",
    "    # Create a new graph representing the largest connected component\n",
    "    largest_component_graph = G.subgraph(largest_component)\n",
    "    exp.nx_graph[t] = largest_component_graph\n",
    "    # if abs_diff_from_14.iloc[0]<=2:\n",
    "    print(get_length_tot(exp, 0)[1], abs_diff_from_14)\n",
    "    break"
   ]
  },
  {
   "cell_type": "code",
   "execution_count": 11,
   "id": "2af94b13-6009-470f-bded-5e9648fe8699",
   "metadata": {
    "tags": []
   },
   "outputs": [
    {
     "data": {
      "application/vnd.jupyter.widget-view+json": {
       "model_id": "4af95bcf835340c9be5812a68f7f264f",
       "version_major": 2,
       "version_minor": 0
      },
      "image/png": "[encoded data removed]",
      "text/html": [
       "\n",
       "            <div style=\"display: inline-block;\">\n",
       "                <div class=\"jupyter-widgets widget-label\" style=\"text-align: center;\">\n",
       "                    Figure\n",
       "                </div>\n",
       "                <img src='data:image/png;base64,iVBORw0KGgoAAAANSUhEUgAAA+gAAAK8CAYAAAB8y5WxAAAAOXRFWHRTb2Z0d2FyZQBNYXRwbG90bGliIHZlcnNpb24zLjUuMywgaHR0cHM6Ly9tYXRwbG90bGliLm9yZy/NK7nSAAAACXBIWXMAAA9hAAAPYQGoP6dpAAAjYElEQVR4nO3dvW4bV8LH4VHgwo2lxlWwdrsXkjKNLzWNy1xI2izgKo3oJlX4Fgsms+c9Z76H8x/qeYAglkRyRmqIH8/X0/V6vXYAAADAoX44+gYAAAAAgQ4AAAARBDoAAAAEEOgAAAAQQKADAABAAIEOAAAAAQQ6AAAABBDoAAAAEECgAwAAQACBDgAAAAEEOgAAAAQQ6AAAABBAoAMAAEAAgQ4AAAABBDoAAAAEEOgAAAAQQKADAABAAIEOAAAAAQQ6AAAABBDoAAAAEECgAwAAQACBDgAAAAEEOgAAAAQQ6AAAABBAoAMAAEAAgQ4AAAABBDoAAAAEEOgAAAAQQKADAABAAIEOAAAAAQQ6AAAABBDoAAAAEECgAwAAQACBDgAAAAEEOgAAAAQQ6AAAABBAoAMAAEAAgQ4AAAABBDoAAAAEEOgAAAAQQKADAABAAIEOAAAAAQQ6AAAABBDoAAAAEECgAwAAQACBDgAAAAEEOgAAAAQQ6AAAABBAoAMAAEAAgQ4AAAABBDoAAAAEEOgAAAAQQKADAABAAIEOAAAAAQQ6AAAABBDoAAAAEECgAwAAQACBDgAAAAEEOgAAAAQQ6AAAABBAoAMAAEAAgQ4AAAABBDoAAAAEEOgAAAAQQKADAABAAIEOAAAAAQQ6AAAABBDoAAAAEECgAwAAQACBDgAAAAEEOgAAAAQQ6AAAABBAoAMAAEAAgQ4AAAABBDoAAAAEEOgAAAAQQKADAABAAIEOAAAAAQQ6AAAABBDoAAAAEECgAwAAQACBDgAAAAHeHX0DwPH++uuv7tu3b92HDx+6p6eno28HANjY9Xrtvn//3v3444/dDz8Yo4NUAh3ovn371n369Ono2wAAdvaf//yn+9e//nX0bQANAh3oPnz40HXdf9+0n5+fD74bAGBrl8ul+/Tp09/v+UAmgQ78Pa39+flZoAPAA7OUDbJZgAIAAAABBDoAAAAEEOgAAAAQQKADAABAAIEOAAAAAQQ6AAAABBDoAAAAEECgAwAAQACBDgAAAAEEOgAAAAR4d/QNAOf2+++/d3/88ceu1/j48WP3+fPnXa8BAABHE+jAYr///nv373//u/vzzz93vc779++73377TaQDAPDQTHEHFvvjjz92j/Ou67o///xz91F6AAA4mkAHAACAAAIdAAAAAgh0AAAACCDQAQAAIIBABwAAgAACHQAAAAIIdGCxjx8/du/fv9/9Ou/fv+8+fvy4+3UAAOBI746+AeC8Pn/+3P3222+7n1H+8ePH7vPnz7teAwAAjibQgVU+f/4sngEAYAOmuAMAAEAAgQ4AAAABBDoAAAAEEOgAAAAQQKADAABAAIEOAAAAAQQ6AAAABBDoAAAAEECgAwAAQACBDgAAAAEEOgAAAAQQ6AAAABBAoAMAAEAAgQ4AAAABBDoAAAAEEOgAAAAQQKADAABAAIEOAAAAAQQ6AAAABBDoAAAAEECgAwAAQACBDgAAAAEEOgAAAAQQ6AAAABBAoAMAAEAAgQ4AAAABBDoAAAAEEOgAAAAQQKADAABAAIEOAAAAAQQ6AAAABBDoAAAAEECgAwAAQACBDgAAAAEEOgAAAAQQ6AAAABBAoAMAAEAAgQ4AAAABBDoAAAAEEOgAAAAQQKADAABAAIEOAAAAAQQ6AAAABBDoAAAAEECgAwAAQACBDgAAAAEEOgAAAAQQ6AAAABBAoAMAAEAAgQ4AAAABBDoAAAAEEOgAAAAQQKADAABAAIEOAAAAAQQ6AAAABBDoAAAAEECgAwAAQACBDgAAAAEEOgAAAAQQ6AAAABBAoAMAAEAAgQ4AAAABBDoAAAAEEOgAAAAQQKADAABAAIEOAAAAAQQ6AAAABBDoAAAAEECgAwAAQACBDgAAAAEEOgAAAAQQ6AAAABBAoAMAAEAAgQ4AAAABBDoAAAAEEOgAAAAQQKADAABAAIEOAAAAAQQ6AAAABBDoAAAAEECgAwAAQACBDgAAAAEEOgAAAAQQ6AAAABBAoAMAAEAAgQ4AAAABBDoAAAAEEOgAAAAQQKADAABAAIEOAAAAAQQ6AAAABBDoAAAAEECgAwAAQACBDgAAAAEEOgAAAAQQ6AAAABBAoAMAAEAAgQ4AAAABBDoAAAAEEOgAAAAQQKADwAn89PMvR98CALAzgQ4AJ/HTz78IdQB4YAIdAAAAAgh0ADiBX79+6X79+uXo2wAAdiTQAeABmP4OAOf37ugbAIC37qeff+l+/frl7/+3HlP7d58RdgA4N4EOAAfqx/nt65v+9/vx3Q/5/s9rjwUAzuPper1ej74J4FiXy6V7eXnpXl9fu+fn56NvB96UMsjL70+N7Vq0z3k+8Ni818M5WIMOAAdpTWm/fX9OXPcf23+udekAcB4CHQB2NiWS+0G91ai30XMAOBeBDgA7asV5P8T3iPMbkQ4A52GTOADYUX/ztpvahnC3x25paOS+vNYeHw4AAPMYQQeAHZUx3tr8bas4bl3nti69XNvu/HQAyGEXd8DOrnAHrePTbl/vcY3+96dcwzFt8Li818M5CHTAmzbcwdgo9doo3mqKuqnu8Ji818M5WIMOAHfUOlZtiVtM2/kdAB6DNegAcCet+K1tJDf19awfB4DHYQQdAALUYnvqaPbUx5m+DgDZjKADwM6mhnHtXPQtXnfuYwGAYwh0ADhQ7Uz08t/lUWi3r+fEOQCQzxR3ANjZnJHr1rry/vfnvF4r/Oe+DgCwP4EOADsaiuoymPuPrf1s6Yh563mmvQNAFoEOAHdUGx3vf29oZ/YpU9XL4B4K8KWj8gDAPp6u1+v16JsAjnW5XLqXl5fu9fW1e35+Pvp24KHMmVbeGtFeOtI9Nb7HXr//c0EP5+S9Hs7BCDoA3MlY1N5GtPsxvCaE55yT3lr3Xvu5OAeAfdjFHQB2MhTHrZ+1onpNaE95/K9fv/zPf7ef2VgOAO7HCDoA7GBp2JbHri2dUj7lDPWh122dxW6KOwDsxwg6AGysFrFjo+ljZ5vPGRmvRXU/+G/XmRLZ/cdNfQ4AsIxN4gAbx8DGpqwdH1rTXdvVfenZ57WR8KWR7Vg2OC/v9XAORtABYENrI3bO6HZLbR15fxR8zevOXeMOAExnDToAHKw14r02iPuj71uNfjs7HQD2YwQdADY0JVr7o+TlGu/ycYlaG8gBAOsIdADYyNyN3FqbuZWj3UnT0sv7FukAsB2BDgB3VK4x7wdvufZ8y5HqLaajlyP/AMC2BDoAbKg2Mt5y78hdG/rl/ZrqDgDbEugAsLE54b0k0pcE8V4RXYt0wQ4Ay9jFHQA2NDe4p+6IvvQc83vEcrnzvJ3eAWAZI+gAsLGpUTx29FlrbfrUafTl+ed7x3K5IZ04B4B5jKADwIbmjFiPnU9emz4+dd337edHTDcvry3UAWAagQ4AGylHuedMWx/6Xv+1y7XetWsctQa8fz9T7hMA+F8CHQA21ArTVqSOfW9sNLp83dvXZxm9Fu8A8A9r0AFgY/113/3vTZmW3gr2KWvIj57W3jqGbcpzAQAj6ACwmbHQ7Ed6OdJ9+/lW177nqHTt9y5H8Y2UA8A4I+gAsLFyJLsM2KlxPjVqj9w5fehDibTj4AAgnUAHgJVux57VpqK3Nk7rumVnpk/dvf0eynXurWv3P6hojbYDAAIdAFarrQ+vrUPv/2zqWeZTrz90L3uY82FD8tp5AEhiDToAbKQWrUMhO7Rx3JJYvfdI9JRN4fofVNR2nC8fZ606AG/Z0/V6vR59E8CxLpdL9/Ly0r2+vnbPz89H3w48pHLDtClaoVpbwz70+C2tOb5t7Nx2YQ778V4P52AEHQDupDbtfekGb0dF7R7Xm/OhBQA8MmvQAWAnY+vMh6Z87+l2X7Xd5Vv3PPR9AGAbprgDpr3BRmpTuKccpdb62dxrzX1+TWs0uzzXfMl9jD3W+nPYj/d6OAdT3AFgpbFR5Ck7nN8zTssPDfpf146Fq8X5HiPntY3kAOAtEegAsEJrJ/LWY1vxec8oHQrw/vfLr8sd6Pe6N5EOwFtlDToArDR2DvpZ1mmXv8fWQb5kEzwAeEsEOgAsNLRpWmsUeitbBXNr87ep57XPNeV1bh8UiHQA3hqBDgAL1KaE36ZmD41Epyk3fCunl9d+PseS5/SvLdIBeEvs4g7Y2RVWGBt93mM99V5rtKdudjd35/baa8y9r+QPOeAMvNfDORhBB4AVWkenrRk5vqexDxj631vyO9XW52/lDH9fAJhDoAPASv0N4WpT3JP1w7tc+12bqr/kmLUtRsD3XtMPAAkEOgCsMDSq3I/Z5KCshXcZ1HOOk9vaUNwn/10BYC7noAPARmojxWc513vKCHUZ6bVN5fY058MDADgjgQ4AK5Qbwp3NnHtunfW+9PlzTTkW7gwfhgBAiynuALBSPxpb8Zg6zX3Kevk1a+qH/i5z1I5cE+IAPBoj6ACwUm3KdWuqe6Lb/W59f60p6Utf56b2gUfq3xYA5hDoALCxrdad9wN376nbU49bm6M2/X+r3+Esa/sBYA5T3AFgB7VR3jkxWY4O7xmi/WPiyu9toX+E21K154tzAB6NQAeAndSOI1syFXvvEC3XiaeFb9r9AMBeBDoA7GhuXNY2k9t7g7m9Rs73kLyWHwDWEugAsLN+VE7dMb0/7bwciU+P6D7rxAFgOoEOAIFqO5fvfVzbmULaKDoAj0igA8AdzInr2hT32/9rEb02Vs86yi3SAXg0Ah0A7qS2adzQ426PHTtSbE1cbx3n/Q8h9gr/8u8j1AF4FAIdAO5oarD216DXpruv3Rl+b3vfU3nsWuLfAADmEugAcAJ7jESfdWp7n0gH4JG8O/oGAOCtq42Qj2mNoh8d3EccgzZ3SQAApDKCDgAB+lPaWz9rPa+c7j3FvQL2iFHtfqQDwJkIdAA4UCsmpwZ07XlLNk7bKmZv9107v/0e+sfR3a4t1AE4C4EOAAfph2M5Cj4W50PRORbGY8e1taJ2SuimTCvvf0iQck8AMMYadAA4oXKU+Pa98uupI/Fj57SX12q9Ru05AhkApjGCDgAH2OKYtNro8JQj2YZGz/vPqz2nds3+tPKhWQEAwLCn6/V6PfomgGNdLpfu5eWle3197Z6fn4++HXh4S3Ztn/O6rSnuYyPqY3FfY9QczsF7PZyDKe4AcLAtdlSvvcbcTdrKx5ej4VNfw6ZsALCMKe4A8EBa68jnng0+NKV9ynNFOgDMJ9AB4EDlsWBdt/xosFqAl6PhY69bvsaa9fEiHQDmsQYdsC4N7qgfwFM3bOu65Wu6h3Z4H7vHtfdhPTrk8F4P52ANOgDcydimbVtuHjcUx0PT3Vvrz5eMhhtFB4B5jKADPlWHFeaMEg9NQS9fo/W6Y+vIp46Q16455X7GXrt1PaPocCzv9XAOAh3wpg0rjW3KNmcUeewItKU/bz1nyjFpprrD+Xmvh3MwxR0AVipjvB/lQ3Fei+Oxx7c2cVsSv/cKZlPdAWAagQ4AC7SmfC8dOe9rrQ2vve5ekb3lRnW355rqDgDDTHEHTHuDlYZGsVuRPvbYJT9fY2xd+hbXE+hwHO/1cA7OQQeAleZG55TN11oj2Lf/hiw9R7117f4u82te11R3ABgm0AFgQ/2IrcX30CZvW8XrVqPd/f+21H89wQ4A/xDoALCh2wh3GZ6tHdP74V6uZV97H1vGddKHBwDwqAQ6AGxsTswOTSdfqzYdvva6rZH+1pT6tfe29YcHAPAoBDoArLTlRnBTXneq/lT7cup9eR9liNemuPfjfasPEACAf9jFHbCzKyzU2sitNipeBvHUwF0TsXPOYF/y3DVnsPen9/dfx07vsA/v9XAORtABYKHWFPDWueg3tYCvTSmfEvK1DeluX5evVbuH1lTzWiS3fs8lo+lDswtMfQfgrRLoALCRoVCf8nWpNZo8dDRbGdytNe7lz2qhPmUke+lod236fP9DBJEOwFv07ugbAICzu4X03Kgcm0a+1TrvqaPkZTBP+b2mTEmfMoW9ts4dAN4agQ4AG1i6xnyL6615TP9x/fsuj4DrP27u71Z+SFCGf2sZgEgH4K0xxR0ANjB35HfocbeYnRL6rXXwc65brlXfQ+t1p6x1B4C3QqADwI7KkeCxGK5t7lY78qxlKHjL4G+95pyYnqNcY177d/+x1qED8NYIdABYYe3O41OmdU8J46Ep4UOvOze6xzatG1N+ANF6zdv3RToAb4lAB4CVWqHbOsqsFp1rQrT12mPHwE05wq01wj4lsMdedwrT3QF4S56u1+v16JsAjnW5XLqXl5fu9fW1e35+Pvp24DRqI9NTdmYfGxleM0o9trZ96vPKXdXHXnPqKH/reglsTMcj814P5yDQAW/asMBYmM5dKz62Jrv2ulMeX95r677Kny0ZFR973pyYvzdxzqPzXg/n4Jg1AFhoKOjGYrjrhteGzwn8OaPmrentUyJ+yv20PkBo3VtCFKfcBwAIdADYyVDsjq1JLzePG/vZ0BT12rT6OVPz5xja5K62od7RcXz09QGgzyZxADDTnKhrHalWRuvYaPyUeyo3devHee217r1D+twz2/cmzgFIYwQdAO6gXGN+Myf05wT1lBAvw33vNeIpQZy8Fh6At02gA8BMS8Ju6fnmN62obIV74vnhCeeaH319ABgi0AFghrWjwHOfv2VQtqbb30trFsE9r991Rs4ByCXQAWBna6aPDwVtOVW+9nU51f3IOC3/DkdEujgHIJlN4gBgZ2tHbqesIa89Z85GdEe454ZxR384AQBTCHQA2NHWcVw7cm3qmegJjpjiLs4BOAuBDgA7uYXhlmvWyynr/bPFa7uyj4XwvaeZ7xXLQ+fNi3MAzsIadADYwZZhOPWYtNZzkgK1dvxb6/7Gfgc7sgPwaIygA8CGbqPWQ9E5NNrbMmdqeH+39nIztrQR9aEPD8ZmH5Q/L2cUGD0H4GwEOgBsZM568zKEazFZTpFfEulT7qcftlOnxm9hyu9TBnft52N/NwA4C1PcAWADS0Zrl0RwLaCnXrcfu63Xrl3jHqFbu6daZI8dNzf0vdrrA0ASgQ4AK82J86lnoo9Ndy+nrfdHo1vXaMXu0HFstfPVt9L6O7T+nuXvVlpzjJ1YByCBKe4AsNDe65zXrs9uqd13f1r40Bnqa9ew16aqT1k3PjT6v3Y6uzgHIIURdACYqR+RS6e1L4nCoVHx2kZwQyPmrRH4/vPK5/envs+5/9oIfCvSW88fGuUHgEfxdL1er0ffBHCsy+XSvby8dK+vr93z8/PRtwPR+tOst4rs1mNuaiPdY88pn9uK5LEp90Nx3Xqd2s9qrztl87rWfQHzeK+HczCCDgALLQ3IKY+fs2N77TWHpoS3docfu49yGnxrWnz/unM2sFvzfAB4BAIdABYaGyUuzRk17l9jaqyWI9itKe1z7rn/2Nru8UuPY2s9d68N6QDgDExxB0x7g5nKae5LA3rsMUOGRptbG6nVrrXkzPb+a47tNj/3dVvT+e20Dut4r4dzMIIOAAtNGUFurScvR7drrzX2+kNhPuWDgzlHw7Wu3Xr8lLPax45wa80CmPOhCACciRF0wKfqMFNtNHfsjO6b2sh3/2dDo/JDo8hrpsYvMfV6U/8eY/da+0ADmM57PZyDEXQAmGnO+eNDa7ZbITvlyLTaY8eusbWxWJ4T1VOnyy9d8w4AZ2AEHfCpOiwwd/322A7lrfXYa9Z472lsev3te0vOiZ96BJ1RdJjOez2cgxF0AFhoSoAOrQ+fu369/3pjz7lHvNbWjO+p3DTOVHcAHo0RdMCn6rDQFoE4ZbO1/tcJhtbg3/Oa97guPArv9XAOPxx9AwBwRrdwnrMmemxE/Pbvcor47b8UU6eg3+Oaa85iB4A0Ah0AFuhHcxmIY0ejDW0CV26oNue1j3TkBwhTlwwAQDqBDgAbWjKi3lrLPXa++S1Kjw7To6/fdf98YJJwLwCwlE3iAGADc9eKT93MbcqO6Am7ud/+ffRU/L3PfweAPRlBB4AVpkbgFiO75bnic66/tXIX9aSRa6PpAJyVQAeAlcY2cmuF4py4Hjsz/d7OEMHp9wcAJYEOABsb2gTu9u858dhfZy445xHpAJyJNegAsKFyyvdWZ3enrad2LjkAbO/per1ej74J4FiXy6V7eXnpXl9fu+fn56NvBx5Kawf2vinnipfHryUoP4Qof7e0e026H7g37/VwDgId8KYNd1TbWG0sHBPDt3XvR29e1zJ3l314NN7r4RysQQeAO6qtRZ/znK47fh167fq1mQJH32dJmAOQTqADQLjbqHu5k/vREVxO2a9tZCfSAWA6m8QBQLBy7XQZxfdemz42hd3GcQCwnDXogHVpEGxq3N4jgtesL09dmw5vhfd6OAdT3AEg1Jzo3vO87y2m0vc3xjtq2nvadHsAKAl0AAhUW88953mJyjX0AMD/EugAEOgWs1NHxvsbyW29gdyW09JrG90BAP9lkzgACDc3kFsj1WtCe6sp9LVz4Pv/3muNug8CADgDm8QBNo6BEyvDcyhw18b6XhvR1aJ9y+vM+RvBo/JeD+dgBB0ATuoWtlNHh4fWgB8ZrbVj5LYO9dqoPQCksQYdAE5sacje1qsn7K5e2nozOSPmAJyFEXQAOJFWsK4J2VoQl1F7j3PWW468NgDck0AHgBNphepWEVubCn5UHO95tjsAJBLoAMD/c+SZ5eWHDf1Q73+AYFQdgEdjF3fAzq7AJHsfhVZeqzbN/mbpLvRrng9n5r0ezsEmcQDAJLdN5e6xoVwtoNdE9T0/XACApQQ6ALDIETu/Lz0urb9jPQCkEugAwCL3HFEvrzuXzeYAOAObxAEAq5Sj2vcYqV5y7jsApBPoAMAsrdi9Z6jbxR2AR2SKOwCwqaXrxJdcYy5T3QFIJtABgM3116cDANMIdABgN0dsIjfEtHgAkgl0AGBX95jyPodIByCVQAcAdjd3ynvSqDsA3ItABwDuZsqU9/7PRDoAb4lj1gCAuzri3HQAOAMj6ADAIdLWpgPA0QQ6AHCYMtL7sX5btw4Ab4Up7gDAoYykA8B/GUEHAACAAAIdADhcbfTciDoAb41ABwBiiXQA3hKBDgDE6W8ON3ZuOgA8iqfr9Xo9+iaAY10ul+7l5aV7fX3tnp+fj74dgL/99PMv3a9fvzgzHVbyXg/nYAQdAIhVxrmRdAAemUAHAKINnZUOAI9EoAMA8cqp7SIdgEf07ugbAAAY0o/x/mj6bX36GUz9QOEsvw8A+xDoAMAp9OO1nPZe/nyNNeFfC/Ffv34R3gBMItABgHitwC2PYxt67FZao+FliJ9phB+ADI5ZAxy9AjycJbFePqcM8SWxLdJJ4b0ezkGgA960gYfVmnI+9zFr70GkczTv9XAOprgDAA9rShiLZwBSOGYNAGBjzmwHYAmBDgCwsV+/fhHnAMxmijsAwA6O2GEegHMzgg4AsLPWzvAA0CfQAQDuSKQD0CLQAQAAIIA16AAAd2D9OQBjjKADAABAAIEOAAAAAQQ6AAAABBDoAAAAEECgAwAAQACBDgAAAAEEOgAAAAQQ6AAAABBAoAMAAEAAgQ4AAAABBDoAAAAEEOgAAAAQQKADAABAAIEOAAAAAQQ6AAAABBDoAAAAEECgAwAAQACBDgAAAAEEOgAAAAQQ6AAAABBAoAMAAEAAgQ4AAAABBDoAAAAEEOgAAAAQQKADAABAAIEOAAAAAQQ6AAAABBDoAAAAEECgAwAAQACBDgAAAAEEOgAAAAQQ6AAAABBAoAMAAEAAgQ4AAAABBDoAAAAEEOgAAAAQQKADAABAAIEOAAAAAQQ6AAAABBDoAAAAEECgAwAAQACBDgAAAAEEOgAAAAQQ6AAAABBAoAMAAEAAgQ4AAAABBDoAAAAEEOgAAAAQQKADAABAAIEOAAAAAQQ6AAAABBDoAAAAEECgAwAAQACBDgAAAAEEOgAAAAQQ6AAAABBAoAMAAEAAgQ4AAAABBDoAAAAEEOgAAAAQQKADAABAAIEOAAAAAQQ6AAAABBDoAAAAEECgAwAAQACBDgAAAAEEOgAAAAQQ6AAAABBAoAMAAEAAgQ4AAAABBDoAAAAEEOgAAAAQQKADAABAAIEOAAAAAQQ6AAAABBDoAAAAEECgAwAAQACBDgAAAAEEOgAAAAQQ6AAAABBAoAMAAEAAgQ4AAAABBDoAAAAEEOgAAAAQQKADAABAAIEOAAAAAQQ6AAAABBDoAAAAEECgAwAAQACBDgAAAAEEOgAAAAQQ6AAAABBAoAMAAEAAgQ4AAAABBDoAAAAEEOgAAAAQQKADAABAAIEOAAAAAQQ6AAAABBDoAAAAEECgAwAAQACBDgAAAAEEOgAAAAQQ6AAAABBAoAMAAEAAgQ4AAAABBDoAAAAEEOgAAAAQQKADAABAAIEOAAAAAQQ6AAAABBDoAAAAEECgAwAAQACBDgAAAAEEOgAAAAQQ6AAAABBAoAMAAEAAgQ4AAAABBDoAAAAEEOgAAAAQQKADAABAAIEOAAAAAQQ6AAAABBDoAAAAEECgAwAAQACBDgAAAAEEOgAAAAQQ6AAAABBAoAMAAEAAgQ4AAAABBDoAAAAEEOgAAAAQQKADAABAAIEOAAAAAQQ6AAAABBDoAAAAEECgAwAAQACBDgAAAAEEOgAAAAQQ6AAAABBAoAMAAEAAgQ4AAAABBDoAAAAEEOgAAAAQQKADAABAAIEOAAAAAQQ6AAAABBDoAAAAEECgAwAAQACBDgAAAAEEOgAAAAQQ6AAAABBAoAMAAEAAgQ4AAAABBDoAAAAEEOgAAAAQQKADAABAAIEOAAAAAQQ6AAAABBDoAAAAEECgAwAAQACBDgAAAAEEOgAAAAQQ6AAAABBAoAMAAEAAgQ4AAAABBDoAAAAEEOgAAAAQQKADAABAAIEOAAAAAQQ6AAAABBDoAAAAEECgAwAAQACBDgAAAAEEOgAAAAQQ6AAAABBAoAMAAEAAgQ4AAAABBDoAAAAEEOgAAAAQQKADAABAAIEOAAAAAQQ6AAAABBDoAAAAEECgAwAAQACBDgAAAAEEOgAAAAQQ6AAAABBAoAMAAEAAgQ4AAAABBDoAAAAEEOgAAAAQQKADAABAAIEOAAAAAQQ6AAAABBDoAAAAEECgAwAAQACBDgAAAAEEOgAAAAQQ6AAAABBAoAMAAEAAgQ4AAAABBDoAAAAEEOgAAAAQQKADAABAAIEOAAAAAQQ6AAAABBDoAAAAEECgAwAAQACBDgAAAAEEOgAAAAQQ6AAAABBAoAMAAEAAgQ4AAAABBDoAAAAEEOgAAAAQQKADAABAAIEOAAAAAd4dfQPA8a7Xa9d1XXe5XA6+EwBgD7f3+Nt7PpBJoAPd9+/fu67ruk+fPh18JwDAnr5//969vLwcfRtAw9PVx2jw5v3111/dt2/fug8fPnRPT09H3w4AsLHr9dp9//69+/HHH7sffrDKFVIJdAAAAAjg4zMAAAAIINABAAAggEAHAACAAAIdAAAAAgh0AAAACCDQAQAAIIBABwAAgAACHQAAAAIIdAAAAAgg0AEAACCAQAcAAIAAAh0AAAACCHQAAAAIINABAAAggEAHAACAAAIdAAAAAgh0AAAACCDQAQAAIIBABwAAgAACHQAAAAIIdAAAAAgg0AEAACCAQAcAAIAAAh0AAAACCHQAAAAIINABAAAggEAHAACAAAIdAAAAAgh0AAAACCDQAQAAIIBABwAAgAACHQAAAAIIdAAAAAgg0AEAACCAQAcAAIAAAh0AAAACCHQAAAAIINABAAAggEAHAACAAAIdAAAAAgh0AAAACCDQAQAAIIBABwAAgAACHQAAAAIIdAAAAAgg0AEAACCAQAcAAIAAAh0AAAACCHQAAAAIINABAAAggEAHAACAAAIdAAAAAgh0AAAACCDQAQAAIIBABwAAgAACHQAAAAIIdAAAAAgg0AEAACCAQAcAAIAAAh0AAAACCHQAAAAIINABAAAggEAHAACAAAIdAAAAAgh0AAAACCDQAQAAIIBABwAAgAACHQAAAAIIdAAAAAgg0AEAACCAQAcAAIAAAh0AAAACCHQAAAAIINABAAAgwP8BCj3eKoLoTK4AAAAASUVORK5CYII=' width=1000.0/>\n",
       "            </div>\n",
       "        "
      ],
      "text/plain": [
       "Canvas(toolbar=Toolbar(toolitems=[('Home', 'Reset original view', 'home', 'home'), ('Back', 'Back to previous …"
      ]
     },
     "metadata": {},
     "output_type": "display_data"
    }
   ],
   "source": [
    "vmax = 10\n",
    "vmin = 0\n",
    "downsizing = 10\n",
    "width = 10\n",
    "height = 7\n",
    "region = [[0, 0], [4000 * 5, 10000 * 5]]\n",
    "nodes = get_all_nodes(exp, t)\n",
    "\n",
    "fig, ax = plot_paper(\n",
    "    exp,\n",
    "    t,\n",
    "    lambda edge: 5,\n",
    "    # region=region,\n",
    "    # nodes = nodes,\n",
    "    cmap=cm.get_cmap(\"viridis\", 100),\n",
    "    v_min=vmin,\n",
    "    v_max=vmax,\n",
    "    plot_cmap=False,\n",
    "    show_background=False,\n",
    "    dilation=5,\n",
    "    figsize=(width, height),\n",
    "    alpha=1,\n",
    "    downsizing=downsizing,\n",
    ")\n",
    "rect = mpatches.Rectangle((100, 100), 1000 * 1.725 / downsizing, 50, color=\"black\")\n",
    "\n",
    "# Add the rectangle to the plot\n",
    "ax.add_patch(rect)\n",
    "# time = int(\n",
    "#     (\n",
    "#         folders.iloc[i : i + 1][\"datetime\"].iloc[0] - folders.iloc[0][\"datetime\"]\n",
    "#     ).total_seconds()\n",
    "#     / 3600\n",
    "# )\n",
    "# # plt.savefig(os.path.join(\"figures\",f\"{folders.iloc[i:i+1]['datetime'].iloc[0]}_{plate}.pdf\"), transparent=True, bbox_inches='tight')\n",
    "# ax.text(3500, 400, f\"t = {time}h\", size=6)\n",
    "plt.savefig(\n",
    "    os.path.join(\"figures\", f\"myristate.pdf\"),\n",
    "    transparent=True,\n",
    "    bbox_inches=\"tight\",\n",
    ")"
   ]
  },
  {
   "cell_type": "code",
   "execution_count": null,
   "id": "39f0ca8c-3c63-4039-b516-f187ef6ebf68",
   "metadata": {
    "collapsed": true,
    "jupyter": {
     "outputs_hidden": true
    },
    "tags": []
   },
   "outputs": [],
   "source": [
    "from amftrack.pipeline.functions.post_processing.time_plate import *\n",
    "\n",
    "data = {}\n",
    "for plate in plates:\n",
    "    folders = all_folders.loc[all_folders[\"unique_id\"] == plate].copy()\n",
    "    folders = folders.loc[folders[\"/Analysis/nx_graph_pruned_width.p\"] == True]\n",
    "    folders = folders.sort_values(by=\"datetime\")\n",
    "    folders = folders.reset_index()\n",
    "    folders[\"days_after_crossing\"] = [\n",
    "        (\n",
    "            row[\"datetime\"]\n",
    "            - datetime.datetime(\n",
    "                int(row[\"CrossDate\"][:4]),\n",
    "                int(row[\"CrossDate\"][4:6]),\n",
    "                int(row[\"CrossDate\"][6:]),\n",
    "            )\n",
    "        )\n",
    "        for index, row in folders.iterrows()\n",
    "    ]\n",
    "    if len(folders) > 0:\n",
    "        abs_diff_from_14 = (folders[\"days_after_crossing\"].dt.days - 14).abs()\n",
    "\n",
    "        # Find the index of the row with the smallest difference\n",
    "        closest_index = abs_diff_from_14.idxmin()\n",
    "        exp = Experiment(directory_targ)\n",
    "        i = closest_index\n",
    "        exp.load(folders.loc[i:i], suffix=\"_width\")\n",
    "        for t in range(exp.ts):\n",
    "            exp.load_tile_information(t)\n",
    "        G = exp.nx_graph[t]\n",
    "        try:\n",
    "\n",
    "            components = nx.connected_components(G)\n",
    "\n",
    "            # Find the largest connected component\n",
    "            largest_component = max(components, key=len)\n",
    "\n",
    "            # Create a new graph representing the largest connected component\n",
    "            largest_component_graph = G.subgraph(largest_component)\n",
    "            exp.nx_graph[t] = largest_component_graph\n",
    "            area, length = get_area(exp, 0)[1], get_length_tot(exp, 0)[1]\n",
    "            strain = folders[\"strain\"].iloc[0]\n",
    "            unique_id = folders[\"unique_id\"].iloc[0]\n",
    "            medium = folders[\"medium\"].iloc[0]\n",
    "            data[unique_id] = {\n",
    "                \"strain\": strain,\n",
    "                \"density\": length / area,\n",
    "                \"medium\": medium,\n",
    "            }\n",
    "        except:\n",
    "            print(plate)\n",
    "        print(length / area)"
   ]
  },
  {
   "cell_type": "code",
   "execution_count": null,
   "id": "426c18bb-6b40-4736-a114-41966a67a635",
   "metadata": {},
   "outputs": [],
   "source": [
    "pd.DataFrame(data).transpose().to_csv(\"control.csv\")"
   ]
  },
  {
   "cell_type": "code",
   "execution_count": null,
   "id": "d98231ac-f34f-4877-9033-03d5ec72c8ef",
   "metadata": {},
   "outputs": [],
   "source": [
    "pd.DataFrame(data).transpose()"
   ]
  }
 ],
 "metadata": {
  "kernelspec": {
   "display_name": "Python 3 (ipykernel)",
   "language": "python",
   "name": "python3"
  },
  "language_info": {
   "codemirror_mode": {
    "name": "ipython",
    "version": 3
   },
   "file_extension": ".py",
   "mimetype": "text/x-python",
   "name": "python",
   "nbconvert_exporter": "python",
   "pygments_lexer": "ipython3",
   "version": "3.12.3"
  }
 },
 "nbformat": 4,
 "nbformat_minor": 5
}

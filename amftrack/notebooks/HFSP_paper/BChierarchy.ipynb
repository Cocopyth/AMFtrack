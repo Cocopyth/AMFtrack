{
 "cells": [
  {
   "cell_type": "code",
   "execution_count": null,
   "id": "7e288967-31f3-480f-aa2b-107247469e08",
   "metadata": {
    "tags": []
   },
   "outputs": [],
   "source": [
    "%load_ext autoreload\n",
    "%matplotlib widget\n",
    "%autoreload 2\n",
    "from amftrack.pipeline.launching.run_super import (\n",
    "    run_launcher,\n",
    "    directory_scratch,\n",
    "    directory_project,\n",
    "    directory_project,\n",
    "    run_parallel_stitch,\n",
    "    run_parallel_transfer,\n",
    ")\n",
    "import os\n",
    "from amftrack.util.sys import (\n",
    "    get_dates_datetime,\n",
    "    get_dirname,\n",
    "    temp_path,\n",
    "    get_data_info,\n",
    "    update_plate_info,\n",
    "    update_analysis_info,\n",
    "    get_analysis_info,\n",
    "    get_current_folders,\n",
    "    get_folders_by_plate_id,\n",
    ")\n",
    "from time import time_ns\n",
    "from datetime import datetime\n",
    "\n",
    "from amftrack.pipeline.functions.image_processing.experiment_class_surf import (\n",
    "    load_graphs,\n",
    ")\n",
    "from amftrack.pipeline.functions.post_processing.extract_study_zone import (\n",
    "    load_study_zone,\n",
    ")\n",
    "from amftrack.pipeline.functions.image_processing.experiment_util import (\n",
    "    get_random_edge,\n",
    "    distance_point_edge,\n",
    "    plot_edge,\n",
    "    plot_edge_cropped,\n",
    "    find_nearest_edge,\n",
    "    get_edge_from_node_labels,\n",
    "    plot_full_image_with_features,\n",
    "    get_all_edges,\n",
    "    get_all_nodes,\n",
    "    find_neighboring_edges,\n",
    "    reconstruct_image,\n",
    "    reconstruct_skeletton_from_edges,\n",
    "    reconstruct_skeletton_unicolor,\n",
    "    plot_edge_color_value,\n",
    "    reconstruct_image_from_general,\n",
    "    plot_full,\n",
    "    find_nearest_edge,\n",
    ")\n",
    "from amftrack.pipeline.functions.image_processing.extract_width_fun import (\n",
    "    get_width_info,\n",
    "    get_width_info_new,\n",
    ")\n",
    "import matplotlib.pyplot as plt\n",
    "from amftrack.pipeline.functions.image_processing.experiment_class_surf import (\n",
    "    Experiment,\n",
    "    save_graphs,\n",
    ")\n",
    "import pandas as pd\n",
    "from amftrack.pipeline.functions.spore_processing.spore_id import make_spore_data\n",
    "from amftrack.pipeline.functions.image_processing.hyphae_id_surf import (\n",
    "    resolve_anastomosis_crossing_by_root,\n",
    ")\n",
    "from amftrack.pipeline.functions.post_processing.time_hypha import *\n",
    "from amftrack.pipeline.functions.image_processing.experiment_class_surf import (\n",
    "    Node,\n",
    "    Edge,\n",
    "    Hyphae,\n",
    ")\n",
    "from datetime import datetime\n",
    "from matplotlib import cm\n",
    "from amftrack.pipeline.functions.post_processing.extract_study_zone import (\n",
    "    load_study_zone,\n",
    ")\n",
    "from IPython.display import clear_output\n",
    "from amftrack.pipeline.functions.post_processing.exp_plot import *"
   ]
  },
  {
   "cell_type": "code",
   "execution_count": null,
   "id": "e4756b4c-51b8-47a5-bd47-701dabd75b44",
   "metadata": {},
   "outputs": [],
   "source": [
    "plates = [\n",
    "# \"111_20240131\",\n",
    "# \"179_20240219\",\n",
    "# \"199_20240130\",\n",
    "\"393_20231129\",\n",
    "# \"401_20231123\",\n",
    "# \"404_20231127\",\n",
    "# \"407_20240102\"\n",
    "]\n",
    "directory_targ = directory_project\n",
    "update_plate_info(directory_targ, local=True)\n",
    "all_folders = get_current_folders(directory_targ, local=True)"
   ]
  },
  {
   "cell_type": "code",
   "execution_count": null,
   "id": "608dabc0-ee4c-4674-863d-7e39432876a8",
   "metadata": {},
   "outputs": [],
   "source": [
    "folders = all_folders.loc[all_folders[\"unique_id\"] == \"393_20231129\"]\n",
    "folders = folders.sort_values(by=\"datetime\")\n",
    "folders = folders.iloc[72:73]\n",
    "\n",
    "exp = Experiment(directory_targ)\n",
    "exp.load(folders)\n",
    "exp.dates.sort()\n",
    "for t in range(len(folders)):\n",
    "    exp.load_tile_information(t)"
   ]
  },
  {
   "cell_type": "code",
   "execution_count": null,
   "id": "fa6af203-78c7-42f7-b515-6d6cd3269d6c",
   "metadata": {},
   "outputs": [],
   "source": [
    "load_graphs(exp, directory_targ)\n",
    "exp.save_location = \"\"\n",
    "\n",
    "load_study_zone(exp)"
   ]
  },
  {
   "cell_type": "code",
   "execution_count": null,
   "id": "08b5aaca-0581-4e7a-9c6c-c5ee683496b6",
   "metadata": {},
   "outputs": [],
   "source": [
    "import networkx as nx\n",
    "\n",
    "G = exp.nx_graph[t]\n",
    "components = nx.connected_components(G)\n",
    "\n",
    "# Find the largest connected component\n",
    "largest_component = max(components, key=len)\n",
    "\n",
    "# Create a new graph representing the largest connected component\n",
    "largest_component_graph = G.subgraph(largest_component)\n",
    "exp.nx_graph[t] = largest_component_graph"
   ]
  },
  {
   "cell_type": "code",
   "execution_count": null,
   "id": "c9db055b-c3c7-4a3c-8674-e3e7ddd143e0",
   "metadata": {},
   "outputs": [],
   "source": [
    "edges = get_all_edges(exp, t)\n",
    "nodes = get_all_nodes(exp, t)\n",
    "nodes_source = [\n",
    "    node\n",
    "    for node in nodes\n",
    "    if not is_in_study_zone(node, t, 1000, 150)[1]\n",
    "    and is_in_study_zone(node, t, 1000, 150)[0]\n",
    "]\n",
    "nodes_sink = [\n",
    "    node\n",
    "    for node in nodes\n",
    "    if is_in_study_zone(node, t, 1000, 150)[1] and node.degree(t) == 1\n",
    "]"
   ]
  },
  {
   "cell_type": "code",
   "execution_count": null,
   "id": "f5f597bf-fa14-4f5e-8317-039ef0c1e4c7",
   "metadata": {},
   "outputs": [],
   "source": [
    "nodes_source_label = [\n",
    "    562057,\n",
    "    562065,\n",
    "    511904,\n",
    "    512822,\n",
    "    512830,\n",
    "    529474,\n",
    "    228,\n",
    "    229,\n",
    "    564159,\n",
    "    230,\n",
    "    562095,\n",
    "    527119,\n",
    "]\n",
    "nodes_source2 = [Node(label, exp) for label in nodes_source_label]"
   ]
  },
  {
   "cell_type": "code",
   "execution_count": null,
   "id": "ff222819-ae3f-4f71-bb0d-d32823e48d1a",
   "metadata": {
    "jupyter": {
     "outputs_hidden": true
    },
    "tags": []
   },
   "outputs": [],
   "source": [
    "ax = plot_full(exp, t, nodes=nodes_source)\n",
    "# ax.scatter(\n",
    "#     spore_datatable[\"y\"] / 5, spore_datatable[\"x\"] / 5, s=20, color=\"blue\", alpha=0.4\n",
    "# )"
   ]
  },
  {
   "cell_type": "code",
   "execution_count": null,
   "id": "08eb37bc-a6bf-4897-bf8f-cb184d4739cd",
   "metadata": {
    "tags": []
   },
   "outputs": [],
   "source": [
    "f = lambda edge: np.log(\n",
    "    edge.width(t) * edge.length_um(t) * edge.end.degree(t) * edge.begin.degree(t)\n",
    ")\n",
    "edges = get_all_edges(exp, t)\n",
    "values = [f(edge) for edge in edges]\n",
    "weights = [edge.length_um(t) for edge in edges]\n"
   ]
  },
  {
   "cell_type": "code",
   "execution_count": null,
   "id": "6ba5cc0c-54b0-4532-b821-67cb1f898a99",
   "metadata": {
    "tags": []
   },
   "outputs": [],
   "source": [
    "edges = get_all_edges(exp, t)\n",
    "nodes = get_all_nodes(exp, t)\n",
    "# nodes_source = [\n",
    "#     node\n",
    "#     for node in nodes\n",
    "#     if not is_in_study_zone(node, t, 1000, 150)[1]\n",
    "#     and is_in_study_zone(node, t, 1000, 150)[0]\n",
    "# ]\n",
    "nodes_source = nodes_source\n",
    "nodes_sink = [\n",
    "    node\n",
    "    for node in nodes\n",
    "    if is_in_study_zone(node, t, 1000, 150)[1] and node.degree(t) == 1\n",
    "]\n",
    "weights = {(edge.begin.label, edge.end.label): edge.length_um(t) for edge in edges}\n",
    "nx.set_edge_attributes(exp.nx_graph[t], weights, \"length\")\n",
    "weights = {(edge.begin.label, edge.end.label): 1 / edge.length_um(t) for edge in edges}\n",
    "nx.set_edge_attributes(exp.nx_graph[t], weights, \"1/length\")\n",
    "t = 0\n",
    "G = exp.nx_graph[t]\n",
    "S = [G.subgraph(c).copy() for c in nx.connected_components(G)]\n",
    "len_connected = [len(nx_graph.nodes) for nx_graph in S]\n",
    "final_current_flow_betweeness = {}\n",
    "final_betweeness = {}\n",
    "\n",
    "for g in S:\n",
    "    source = [node.label for node in nodes_source if node.label in g]\n",
    "    sink = [node.label for node in nodes_sink if node.label in g]\n",
    "    # current_flow_betweeness = nx.edge_current_flow_betweenness_centrality_subset(\n",
    "    #     g, source, sink, weight=\"1/length\"\n",
    "    # )\n",
    "    # betweeness = nx.edge_current_flow_betweenness_centrality_subset(\n",
    "    #     g, sink, source, weight=\"length\"\n",
    "    # )\n",
    "\n",
    "    betweeness = nx.edge_betweenness_centrality_subset(\n",
    "        g, source, sink, normalized=True, weight=\"length\"\n",
    "    )\n",
    "    # for edge in current_flow_betweeness.keys():\n",
    "    #     final_current_flow_betweeness[edge] = current_flow_betweeness[edge]\n",
    "    for edge in betweeness.keys():\n",
    "        final_betweeness[edge] = betweeness[edge]\n",
    "\n",
    "for edge in exp.nx_graph[t].edges:\n",
    "    # if (\n",
    "    #     edge not in final_current_flow_betweeness.keys()\n",
    "    #     and (edge[1], edge[0]) not in final_current_flow_betweeness.keys()\n",
    "    # ):\n",
    "    #     final_current_flow_betweeness[edge] = 0\n",
    "    if (\n",
    "        edge not in final_betweeness.keys()\n",
    "        and (edge[1], edge[0]) not in final_betweeness.keys()\n",
    "    ):\n",
    "        final_betweeness[edge] = 0\n",
    "nx.set_edge_attributes(exp.nx_graph[t], final_betweeness, \"betweenness\")"
   ]
  },
  {
   "cell_type": "code",
   "execution_count": null,
   "id": "0a0cb9ee-103b-4aea-b9f3-9661e4b93843",
   "metadata": {
    "tags": []
   },
   "outputs": [],
   "source": [
    "vmax = 12\n",
    "vmin = 2\n",
    "plot_edge_color_value(\n",
    "    exp,\n",
    "    t,\n",
    "    lambda edge: edge.width(t),\n",
    "    cmap=cm.get_cmap(\"cool\", 100),\n",
    "    v_min=vmin,\n",
    "    v_max=vmax,\n",
    "    plot_cmap=True,\n",
    "    show_background=False,\n",
    "    dilation=10,\n",
    ")"
   ]
  },
  {
   "cell_type": "code",
   "execution_count": null,
   "id": "6041219b-e0aa-4ca9-a792-ac71f4a21c5a",
   "metadata": {
    "tags": []
   },
   "outputs": [],
   "source": [
    "plt.close(\"all\")\n",
    "vmax = -2.2\n",
    "vmin = -4.5\n",
    "ax = plot_edge_color_value(\n",
    "    exp,\n",
    "    t,\n",
    "    lambda edge: np.log10(edge.betweeness(t)),\n",
    "    cmap=cm.get_cmap(\"autumn\", 100),\n",
    "    v_min=vmin,\n",
    "    v_max=vmax,\n",
    "    plot_cmap=True,\n",
    "    show_background=False,\n",
    "    dilation=10,\n",
    "    figsize = (12,7)\n",
    ")"
   ]
  },
  {
   "cell_type": "code",
   "execution_count": null,
   "id": "76a60461-bbeb-4164-879d-39c0ab30a407",
   "metadata": {
    "tags": []
   },
   "outputs": [],
   "source": [
    "plt.close(\"all\")\n",
    "vmax = -2.2\n",
    "vmin = -4.5\n",
    "ax = plot_edge_color_value(\n",
    "    exp,\n",
    "    t,\n",
    "    lambda edge: np.log10(edge.current_flow_betweeness(t)),\n",
    "    cmap=cm.get_cmap(\"cool\", 100),\n",
    "    v_min=vmin,\n",
    "    v_max=vmax,\n",
    "    plot_cmap=True,\n",
    "    show_background=False,\n",
    "    dilation=10,\n",
    ")\n",
    "path = r\"/scratch-shared/amftrack/transport/full_picture/\"\n",
    "file_name = f\"betweeness_random.png\"\n",
    "save_path = os.path.join(path, file_name)\n",
    "plt.savefig(save_path, dpi=dpi)\n",
    "file_name = f\"betweeness_random.csv\"\n",
    "save_path = os.path.join(path, file_name)\n",
    "plt.savefig(save_path)\n",
    "file_name = f\"betweeness_random.eps\"\n",
    "save_path = os.path.join(path, file_name)\n",
    "plt.savefig(save_path)"
   ]
  },
  {
   "cell_type": "code",
   "execution_count": null,
   "id": "0ff10486-d2de-4534-a348-825ad200f1e9",
   "metadata": {
    "jupyter": {
     "outputs_hidden": true
    },
    "tags": []
   },
   "outputs": [],
   "source": [
    "vmax = 0\n",
    "vmin = 10\n",
    "dpi = 400\n",
    "\n",
    "# ax = plot_edge_color_value(exp,t,lambda edge : 5,cmap = cm.get_cmap(\"Reds\", 100),v_min =vmin,v_max = vmax,plot_cmap=True,show_background=True,dilation =10,figsize = (12,8))\n",
    "ax = plot_full(exp, t)\n",
    "ax.scatter(\n",
    "    spore_datatable[\"y\"] / 5, spore_datatable[\"x\"] / 5, s=20, color=\"blue\", alpha=0.4\n",
    ")\n",
    "path = r\"/scratch-shared/amftrack/transport/full_picture/\"\n",
    "file_name = f\"spores.png\"\n",
    "save_path = os.path.join(path, file_name)\n",
    "# plt.savefig(save_path, dpi=dpi)"
   ]
  },
  {
   "cell_type": "code",
   "execution_count": null,
   "id": "4988967e-7daf-4206-865f-9ae755fc0980",
   "metadata": {},
   "outputs": [],
   "source": [
    "edges = get_all_edges(exp, t)\n",
    "nodes = get_all_nodes(exp, t)"
   ]
  },
  {
   "cell_type": "code",
   "execution_count": null,
   "id": "105a653a-78f5-4de6-a317-495866f6b17a",
   "metadata": {},
   "outputs": [],
   "source": [
    "nodes_source = [\n",
    "    node\n",
    "    for node in nodes\n",
    "    if not is_in_study_zone(node, t, 1000, 150)[1]\n",
    "    and is_in_study_zone(node, t, 1000, 150)[0]\n",
    "]"
   ]
  },
  {
   "cell_type": "code",
   "execution_count": null,
   "id": "cf29d1ab-e409-4682-b16f-2ffdc7f4fc8c",
   "metadata": {},
   "outputs": [],
   "source": [
    "nodes_sink = [\n",
    "    node\n",
    "    for node in nodes\n",
    "    if is_in_study_zone(node, t, 1000, 150)[1] and node.degree(t) == 1\n",
    "]\n",
    "# nodes_sink = [node for node in nodes if is_in_study_zone(node,t,1000,150)[1] ]"
   ]
  },
  {
   "cell_type": "code",
   "execution_count": null,
   "id": "961276c1-0074-4207-9424-270f50fd2adb",
   "metadata": {},
   "outputs": [],
   "source": [
    "len(nodes_source), len(nodes_sink)"
   ]
  },
  {
   "cell_type": "code",
   "execution_count": null,
   "id": "c8f1927c-b47b-4c9d-ae47-7af062193eb7",
   "metadata": {},
   "outputs": [],
   "source": [
    "weights = {(edge.begin.label, edge.end.label): edge.length_um(t) for edge in edges}\n",
    "nx.set_edge_attributes(exp.nx_graph[t], weights, \"length\")\n",
    "weights = {(edge.begin.label, edge.end.label): 1 / edge.length_um(t) for edge in edges}\n",
    "nx.set_edge_attributes(exp.nx_graph[t], weights, \"1/length\")"
   ]
  },
  {
   "cell_type": "code",
   "execution_count": null,
   "id": "ba2c257a-8bb9-4985-bb29-0c7380573ff8",
   "metadata": {
    "tags": []
   },
   "outputs": [],
   "source": [
    "t = 0\n",
    "G = exp.nx_graph[t]\n",
    "S = [G.subgraph(c).copy() for c in nx.connected_components(G)]\n",
    "len_connected = [len(nx_graph.nodes) for nx_graph in S]\n",
    "final_current_flow_betweeness = {}\n",
    "final_betweeness = {}\n",
    "\n",
    "for g in S:\n",
    "    source = [node.label for node in nodes_source if node.label in g]\n",
    "    sink = [node.label for node in nodes_sink if node.label in g]\n",
    "    current_flow_betweeness = nx.edge_current_flow_betweenness_centrality_subset(\n",
    "        g, source, sink, weight=\"1/length\"\n",
    "    )\n",
    "    betweeness = nx.edge_current_flow_betweenness_centrality_subset(\n",
    "        g, sink, source, weight=\"length\"\n",
    "    )\n",
    "\n",
    "    # betweeness = nx.edge_betweenness_centrality_subset(g,source,sink,normalized=True,weight = \"length\")\n",
    "    for edge in current_flow_betweeness.keys():\n",
    "        final_current_flow_betweeness[edge] = current_flow_betweeness[edge]\n",
    "    for edge in betweeness.keys():\n",
    "        final_betweeness[edge] = betweeness[edge]\n",
    "\n",
    "for edge in exp.nx_graph[t].edges:\n",
    "    if (\n",
    "        edge not in final_current_flow_betweeness.keys()\n",
    "        and (edge[1], edge[0]) not in final_current_flow_betweeness.keys()\n",
    "    ):\n",
    "        final_current_flow_betweeness[edge] = 0\n",
    "    if (\n",
    "        edge not in final_betweeness.keys()\n",
    "        and (edge[1], edge[0]) not in final_betweeness.keys()\n",
    "    ):\n",
    "        final_betweeness[edge] = 0\n",
    "nx.set_edge_attributes(\n",
    "    exp.nx_graph[t], final_current_flow_betweeness, \"current_flow_betweenness\"\n",
    ")\n",
    "nx.set_edge_attributes(exp.nx_graph[t], final_betweeness, \"betweenness\")\n",
    "betweenessses = list(final_current_flow_betweeness.values())\n",
    "np.mean(betweenessses), np.max(betweenessses)"
   ]
  },
  {
   "cell_type": "code",
   "execution_count": null,
   "id": "e2275f6d-1197-46e7-8f49-8de1da1f7d67",
   "metadata": {},
   "outputs": [],
   "source": [
    "betweenessses = list(final_current_flow_betweeness.values())\n",
    "betweenessses2 = list(final_betweeness.values())\n",
    "fig, ax = plt.subplots()\n",
    "h = ax.hist(np.log10([bet for bet in betweenessses if bet > 1e-4]), 20)"
   ]
  },
  {
   "cell_type": "code",
   "execution_count": null,
   "id": "24def2b2-e715-4c78-82ff-596641fd345a",
   "metadata": {},
   "outputs": [],
   "source": [
    "final_current_flow_betweeness[(527418, 512522)], final_betweeness[(527418, 512522)]"
   ]
  },
  {
   "cell_type": "code",
   "execution_count": null,
   "id": "8cd6660d-c80c-4d56-bf9b-aa9d5d84a3f8",
   "metadata": {},
   "outputs": [],
   "source": [
    "final_current_flow_betweeness[(527418, 512522)], final_betweeness[(527418, 512522)]"
   ]
  },
  {
   "cell_type": "code",
   "execution_count": null,
   "id": "823c16ac-9ea5-4552-84ba-7f2899f60c5b",
   "metadata": {
    "tags": []
   },
   "outputs": [],
   "source": [
    "plt.close(\"all\")\n",
    "vmax = -2.8\n",
    "vmin = -4.5\n",
    "ax = plot_edge_color_value(\n",
    "    exp,\n",
    "    t,\n",
    "    lambda edge: np.log10(edge.current_flow_betweeness(t)),\n",
    "    cmap=cm.get_cmap(\"viridis\", 100),\n",
    "    v_min=vmin,\n",
    "    v_max=vmax,\n",
    "    plot_cmap=True,\n",
    "    show_background=False,\n",
    "    dilation=10,\n",
    "    figsize=(16, 10),\n",
    ")\n",
    "# path = r\"/scratch-shared/amftrack/transport/full_picture/\"\n",
    "# file_name = f'betweeness_random.png'\n",
    "# save_path = os.path.join(path,file_name)\n",
    "# plt.savefig(save_path, dpi=dpi)"
   ]
  },
  {
   "cell_type": "code",
   "execution_count": null,
   "id": "ccb459d2-b4d9-4a1c-9383-4eab20f462d9",
   "metadata": {},
   "outputs": [],
   "source": [
    "vmax = -2.8\n",
    "vmin = -4.5\n",
    "ax = plot_edge_color_value(\n",
    "    exp,\n",
    "    t,\n",
    "    lambda edge: np.log10(edge.betweeness(t)),\n",
    "    cmap=cm.get_cmap(\"viridis\", 100),\n",
    "    v_min=vmin,\n",
    "    v_max=vmax,\n",
    "    plot_cmap=True,\n",
    "    show_background=False,\n",
    "    dilation=10,\n",
    "    figsize=(16, 10),\n",
    ")\n",
    "# path = r\"/scratch-shared/amftrack/transport/full_picture/\"\n",
    "# file_name = f'betweeness_random.png'\n",
    "# save_path = os.path.join(path,file_name)\n",
    "# plt.savefig(save_path, dpi=dpi)"
   ]
  },
  {
   "cell_type": "code",
   "execution_count": null,
   "id": "cebf443d-aecb-440a-8b1d-d82eb0a0157e",
   "metadata": {},
   "outputs": [],
   "source": [
    "plt.close(\"all\")\n",
    "vmax = -2.8\n",
    "vmin = -4.5\n",
    "ax = plot_edge_color_value(\n",
    "    exp,\n",
    "    t,\n",
    "    lambda edge: np.log10(edge.current_flow_betweeness(t)),\n",
    "    cmap=cm.get_cmap(\"cool\", 100),\n",
    "    v_min=vmin,\n",
    "    v_max=vmax,\n",
    "    plot_cmap=True,\n",
    "    show_background=False,\n",
    "    dilation=10,\n",
    "    figsize=(16, 10),\n",
    ")\n",
    "# path = r\"/scratch-shared/amftrack/transport/full_picture/\"\n",
    "# file_name = f'betweeness_random.png'\n",
    "# save_path = os.path.join(path,file_name)\n",
    "# plt.savefig(save_path, dpi=dpi)"
   ]
  },
  {
   "cell_type": "code",
   "execution_count": null,
   "id": "d869940e-e09c-45e0-9e4b-c4cd2c621348",
   "metadata": {},
   "outputs": [],
   "source": [
    "betweenessses = list(current_flow_betweeness.values())\n",
    "vmax = np.log10(np.max(betweenessses))\n",
    "vmax"
   ]
  },
  {
   "cell_type": "code",
   "execution_count": null,
   "id": "96281114-d1a1-4600-b1da-120f4a8c211c",
   "metadata": {},
   "outputs": [],
   "source": [
    "betweenessses = [edge.current_flow_betweeness(t) for edge in edges]\n",
    "betweenessses = [betweeness for betweeness in betweenessses if betweeness > 1e-5]\n",
    "np.max(betweenessses), np.mean(betweenessses)\n",
    "fig, ax = plt.subplots()\n",
    "ax.hist(np.log10(betweenessses))"
   ]
  },
  {
   "cell_type": "code",
   "execution_count": null,
   "id": "baf58940-868a-48f4-9632-5d7ee4b3bdfe",
   "metadata": {
    "tags": []
   },
   "outputs": [],
   "source": [
    "plt.close(\"all\")\n",
    "# betweenessses = list(current_flow_betweeness.values())\n",
    "vmax = -2.5\n",
    "vmin = -4.5\n",
    "\n",
    "plot_edge_color_value(\n",
    "    exp,\n",
    "    t,\n",
    "    lambda edge: np.log10(edge.current_flow_betweeness(t)),\n",
    "    cmap=cm.get_cmap(\"Reds\", 100),\n",
    "    v_min=vmin,\n",
    "    v_max=vmax,\n",
    "    plot_cmap=True,\n",
    "    show_background=False,\n",
    "    dilation=10,\n",
    "    label_colorbar=\"log random walk edge betweeness centrality\",\n",
    ")"
   ]
  },
  {
   "cell_type": "code",
   "execution_count": null,
   "id": "241fb3cf-ac86-437a-8640-01db76f3a752",
   "metadata": {},
   "outputs": [],
   "source": [
    "betweenessses = [edge.betweeness(t) for edge in edges]\n",
    "betweenessses = [betweeness for betweeness in betweenessses if betweeness > 0]\n",
    "np.max(betweenessses), np.mean(betweenessses)\n",
    "fig, ax = plt.subplots()\n",
    "ax.hist(np.log10(betweenessses))"
   ]
  }
 ],
 "metadata": {
  "kernelspec": {
   "display_name": "Python 3 (ipykernel)",
   "language": "python",
   "name": "python3"
  },
  "language_info": {
   "codemirror_mode": {
    "name": "ipython",
    "version": 3
   },
   "file_extension": ".py",
   "mimetype": "text/x-python",
   "name": "python",
   "nbconvert_exporter": "python",
   "pygments_lexer": "ipython3",
   "version": "3.7.13"
  }
 },
 "nbformat": 4,
 "nbformat_minor": 5
}

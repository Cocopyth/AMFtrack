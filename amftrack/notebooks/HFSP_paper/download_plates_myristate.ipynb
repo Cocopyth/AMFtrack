{
 "cells": [
  {
   "cell_type": "code",
   "execution_count": 1,
   "id": "2c1e3e9d-403f-4639-9106-5a1021c99c25",
   "metadata": {
    "tags": []
   },
   "outputs": [
    {
     "name": "stderr",
     "output_type": "stream",
     "text": [
      "/gpfs/home2/cbisot/pycode/AMFtrack/amftrack/util/dbx.py:3: TqdmExperimentalWarning: Using `tqdm.autonotebook.tqdm` in notebook mode. Use `tqdm.tqdm` instead to force console mode (e.g. in jupyter console)\n",
      "  from tqdm.autonotebook import tqdm\n"
     ]
    }
   ],
   "source": [
    "%load_ext autoreload\n",
    "%autoreload 2\n",
    "from amftrack.pipeline.launching.run_super import (\n",
    "    run_launcher,\n",
    "    directory_scratch,\n",
    "    directory_project,\n",
    "    directory_project,\n",
    "    run_parallel_stitch,\n",
    "    run_parallel_transfer,\n",
    ")\n",
    "import os\n",
    "from amftrack.util.sys import (\n",
    "    get_dates_datetime,\n",
    "    get_dirname,\n",
    "    temp_path,\n",
    "    get_data_info,\n",
    "    update_plate_info,\n",
    "    update_analysis_info,\n",
    "    get_analysis_info,\n",
    "    get_current_folders,\n",
    "    get_folders_by_plate_id,\n",
    ")\n",
    "\n",
    "from time import time_ns\n",
    "\n",
    "from amftrack.util.dbx import upload_folders, load_dbx, download\n",
    "from datetime import datetime\n",
    "from amftrack.pipeline.launching.run_super import (\n",
    "    run_parallel,\n",
    "    directory_scratch,\n",
    "    directory_project,\n",
    "    run_parallel_stitch,\n",
    ")\n",
    "from amftrack.util.dbx import (\n",
    "    read_saved_dropbox_state,\n",
    "    get_dropbox_folders_prince,\n",
    "    get_dropbox_folders_general,\n",
    "    save_dropbox_state,\n",
    "    get_dropbox_folders_general_recursive,\n",
    ")"
   ]
  },
  {
   "cell_type": "code",
   "execution_count": 2,
   "id": "e9e194b4-d322-4d9a-a4ba-98c52791d0a2",
   "metadata": {
    "collapsed": true,
    "jupyter": {
     "outputs_hidden": true
    },
    "tags": []
   },
   "outputs": [
    {
     "name": "stdout",
     "output_type": "stream",
     "text": [
      "2024-04-25 09:42:45,992-[INFO]- dropbox:390 -> Refreshing access token.\n",
      "2024-04-25 09:42:46,237-[INFO]- dropbox:474 -> Request to files/list_folder\n"
     ]
    },
    {
     "data": {
      "application/vnd.jupyter.widget-view+json": {
       "model_id": "a4b423b7623b46d382f14bf46d34e017",
       "version_major": 2,
       "version_minor": 0
      },
      "text/plain": [
       "sizes:   0%|          | 0/118 [00:00<?, ?it/s]"
      ]
     },
     "metadata": {},
     "output_type": "display_data"
    },
    {
     "name": "stdout",
     "output_type": "stream",
     "text": [
      "2024-04-25 09:42:46,752-[INFO]- dropbox:390 -> Refreshing access token.\n",
      "2024-04-25 09:42:46,970-[INFO]- dropbox:474 -> Request to files/list_folder\n",
      "2024-04-25 09:42:47,291-[INFO]- dropbox:390 -> Refreshing access token.\n",
      "2024-04-25 09:42:47,510-[INFO]- dropbox:474 -> Request to files/list_folder\n",
      "2024-04-25 09:42:47,810-[INFO]- dropbox:390 -> Refreshing access token.\n",
      "2024-04-25 09:42:48,011-[INFO]- dropbox:474 -> Request to files/list_folder\n",
      "2024-04-25 09:42:48,308-[INFO]- dropbox:390 -> Refreshing access token.\n",
      "2024-04-25 09:42:48,510-[INFO]- dropbox:474 -> Request to files/list_folder\n",
      "2024-04-25 09:42:49,009-[INFO]- dropbox:390 -> Refreshing access token.\n",
      "2024-04-25 09:42:49,259-[INFO]- dropbox:474 -> Request to files/list_folder\n",
      "2024-04-25 09:42:49,681-[INFO]- dropbox:390 -> Refreshing access token.\n",
      "2024-04-25 09:42:49,950-[INFO]- dropbox:474 -> Request to files/list_folder\n",
      "2024-04-25 09:42:50,407-[INFO]- dropbox:390 -> Refreshing access token.\n",
      "2024-04-25 09:42:50,694-[INFO]- dropbox:474 -> Request to files/list_folder\n",
      "2024-04-25 09:42:51,010-[INFO]- dropbox:390 -> Refreshing access token.\n",
      "2024-04-25 09:42:51,207-[INFO]- dropbox:474 -> Request to files/list_folder\n",
      "2024-04-25 09:42:51,503-[INFO]- dropbox:390 -> Refreshing access token.\n",
      "2024-04-25 09:42:51,700-[INFO]- dropbox:474 -> Request to files/list_folder\n",
      "2024-04-25 09:42:52,012-[INFO]- dropbox:390 -> Refreshing access token.\n",
      "2024-04-25 09:42:52,215-[INFO]- dropbox:474 -> Request to files/list_folder\n",
      "2024-04-25 09:42:53,107-[INFO]- dropbox:390 -> Refreshing access token.\n",
      "2024-04-25 09:42:53,323-[INFO]- dropbox:474 -> Request to files/list_folder\n",
      "2024-04-25 09:42:53,668-[INFO]- dropbox:390 -> Refreshing access token.\n",
      "2024-04-25 09:42:53,875-[INFO]- dropbox:474 -> Request to files/list_folder\n",
      "2024-04-25 09:42:54,257-[INFO]- dropbox:390 -> Refreshing access token.\n",
      "2024-04-25 09:42:54,549-[INFO]- dropbox:474 -> Request to files/list_folder\n",
      "2024-04-25 09:42:54,909-[INFO]- dropbox:390 -> Refreshing access token.\n",
      "2024-04-25 09:42:55,214-[INFO]- dropbox:474 -> Request to files/list_folder\n",
      "2024-04-25 09:42:55,527-[INFO]- dropbox:390 -> Refreshing access token.\n",
      "2024-04-25 09:42:55,817-[INFO]- dropbox:474 -> Request to files/list_folder\n",
      "2024-04-25 09:42:56,775-[INFO]- dropbox:390 -> Refreshing access token.\n",
      "2024-04-25 09:42:57,078-[INFO]- dropbox:474 -> Request to files/list_folder\n",
      "2024-04-25 09:42:57,402-[INFO]- dropbox:390 -> Refreshing access token.\n",
      "2024-04-25 09:42:57,603-[INFO]- dropbox:474 -> Request to files/list_folder\n",
      "2024-04-25 09:42:57,943-[INFO]- dropbox:390 -> Refreshing access token.\n",
      "2024-04-25 09:42:58,153-[INFO]- dropbox:474 -> Request to files/list_folder\n",
      "2024-04-25 09:42:58,518-[INFO]- dropbox:390 -> Refreshing access token.\n",
      "2024-04-25 09:42:58,710-[INFO]- dropbox:474 -> Request to files/list_folder\n",
      "2024-04-25 09:42:59,010-[INFO]- dropbox:390 -> Refreshing access token.\n",
      "2024-04-25 09:42:59,221-[INFO]- dropbox:474 -> Request to files/list_folder\n",
      "2024-04-25 09:42:59,538-[INFO]- dropbox:390 -> Refreshing access token.\n",
      "2024-04-25 09:42:59,741-[INFO]- dropbox:474 -> Request to files/list_folder\n",
      "2024-04-25 09:43:00,130-[INFO]- dropbox:390 -> Refreshing access token.\n",
      "2024-04-25 09:43:00,329-[INFO]- dropbox:474 -> Request to files/list_folder\n",
      "2024-04-25 09:43:00,662-[INFO]- dropbox:390 -> Refreshing access token.\n",
      "2024-04-25 09:43:00,860-[INFO]- dropbox:474 -> Request to files/list_folder\n",
      "2024-04-25 09:43:01,226-[INFO]- dropbox:390 -> Refreshing access token.\n",
      "2024-04-25 09:43:01,465-[INFO]- dropbox:474 -> Request to files/list_folder\n",
      "2024-04-25 09:43:01,798-[INFO]- dropbox:390 -> Refreshing access token.\n",
      "2024-04-25 09:43:02,076-[INFO]- dropbox:474 -> Request to files/list_folder\n",
      "2024-04-25 09:43:02,419-[INFO]- dropbox:390 -> Refreshing access token.\n",
      "2024-04-25 09:43:02,629-[INFO]- dropbox:474 -> Request to files/list_folder\n",
      "2024-04-25 09:43:02,912-[INFO]- dropbox:390 -> Refreshing access token.\n",
      "2024-04-25 09:43:03,119-[INFO]- dropbox:474 -> Request to files/list_folder\n",
      "2024-04-25 09:43:03,501-[INFO]- dropbox:390 -> Refreshing access token.\n",
      "2024-04-25 09:43:03,743-[INFO]- dropbox:474 -> Request to files/list_folder\n",
      "2024-04-25 09:43:04,055-[INFO]- dropbox:390 -> Refreshing access token.\n",
      "2024-04-25 09:43:04,345-[INFO]- dropbox:474 -> Request to files/list_folder\n",
      "2024-04-25 09:43:04,655-[INFO]- dropbox:390 -> Refreshing access token.\n",
      "2024-04-25 09:43:04,849-[INFO]- dropbox:474 -> Request to files/list_folder\n",
      "2024-04-25 09:43:05,152-[INFO]- dropbox:390 -> Refreshing access token.\n",
      "2024-04-25 09:43:05,511-[INFO]- dropbox:474 -> Request to files/list_folder\n",
      "2024-04-25 09:43:05,813-[INFO]- dropbox:390 -> Refreshing access token.\n",
      "2024-04-25 09:43:06,052-[INFO]- dropbox:474 -> Request to files/list_folder\n",
      "2024-04-25 09:43:06,344-[INFO]- dropbox:390 -> Refreshing access token.\n",
      "2024-04-25 09:43:06,544-[INFO]- dropbox:474 -> Request to files/list_folder\n",
      "2024-04-25 09:43:07,761-[INFO]- dropbox:390 -> Refreshing access token.\n",
      "2024-04-25 09:43:07,965-[INFO]- dropbox:474 -> Request to files/list_folder\n",
      "2024-04-25 09:43:08,291-[INFO]- dropbox:390 -> Refreshing access token.\n",
      "2024-04-25 09:43:08,548-[INFO]- dropbox:474 -> Request to files/list_folder\n",
      "2024-04-25 09:43:08,911-[INFO]- dropbox:390 -> Refreshing access token.\n",
      "2024-04-25 09:43:09,108-[INFO]- dropbox:474 -> Request to files/list_folder\n",
      "2024-04-25 09:43:09,588-[INFO]- dropbox:390 -> Refreshing access token.\n",
      "2024-04-25 09:43:09,834-[INFO]- dropbox:474 -> Request to files/list_folder\n",
      "2024-04-25 09:43:10,297-[INFO]- dropbox:390 -> Refreshing access token.\n",
      "2024-04-25 09:43:10,526-[INFO]- dropbox:474 -> Request to files/list_folder\n",
      "2024-04-25 09:43:10,898-[INFO]- dropbox:390 -> Refreshing access token.\n",
      "2024-04-25 09:43:11,101-[INFO]- dropbox:474 -> Request to files/list_folder\n",
      "2024-04-25 09:43:11,430-[INFO]- dropbox:390 -> Refreshing access token.\n",
      "2024-04-25 09:43:11,654-[INFO]- dropbox:474 -> Request to files/list_folder\n",
      "2024-04-25 09:43:12,065-[INFO]- dropbox:390 -> Refreshing access token.\n",
      "2024-04-25 09:43:12,273-[INFO]- dropbox:474 -> Request to files/list_folder\n",
      "2024-04-25 09:43:13,177-[INFO]- dropbox:474 -> Request to files/list_folder/continue\n",
      "2024-04-25 09:43:13,711-[INFO]- dropbox:390 -> Refreshing access token.\n",
      "2024-04-25 09:43:13,970-[INFO]- dropbox:474 -> Request to files/list_folder\n",
      "2024-04-25 09:43:14,253-[INFO]- dropbox:390 -> Refreshing access token.\n",
      "2024-04-25 09:43:14,452-[INFO]- dropbox:474 -> Request to files/list_folder\n",
      "2024-04-25 09:43:14,818-[INFO]- dropbox:390 -> Refreshing access token.\n",
      "2024-04-25 09:43:15,013-[INFO]- dropbox:474 -> Request to files/list_folder\n",
      "2024-04-25 09:43:15,317-[INFO]- dropbox:390 -> Refreshing access token.\n",
      "2024-04-25 09:43:15,565-[INFO]- dropbox:474 -> Request to files/list_folder\n",
      "2024-04-25 09:43:15,860-[INFO]- dropbox:390 -> Refreshing access token.\n",
      "2024-04-25 09:43:16,099-[INFO]- dropbox:474 -> Request to files/list_folder\n",
      "2024-04-25 09:43:16,426-[INFO]- dropbox:390 -> Refreshing access token.\n",
      "2024-04-25 09:43:16,619-[INFO]- dropbox:474 -> Request to files/list_folder\n",
      "2024-04-25 09:43:16,904-[INFO]- dropbox:390 -> Refreshing access token.\n",
      "2024-04-25 09:43:17,139-[INFO]- dropbox:474 -> Request to files/list_folder\n",
      "2024-04-25 09:43:17,537-[INFO]- dropbox:390 -> Refreshing access token.\n",
      "2024-04-25 09:43:17,766-[INFO]- dropbox:474 -> Request to files/list_folder\n",
      "2024-04-25 09:43:18,135-[INFO]- dropbox:390 -> Refreshing access token.\n",
      "2024-04-25 09:43:18,354-[INFO]- dropbox:474 -> Request to files/list_folder\n",
      "2024-04-25 09:43:19,381-[INFO]- dropbox:474 -> Request to files/list_folder/continue\n",
      "2024-04-25 09:43:19,712-[INFO]- dropbox:390 -> Refreshing access token.\n",
      "2024-04-25 09:43:19,964-[INFO]- dropbox:474 -> Request to files/list_folder\n",
      "2024-04-25 09:43:20,282-[INFO]- dropbox:390 -> Refreshing access token.\n",
      "2024-04-25 09:43:20,483-[INFO]- dropbox:474 -> Request to files/list_folder\n",
      "2024-04-25 09:43:20,780-[INFO]- dropbox:390 -> Refreshing access token.\n",
      "2024-04-25 09:43:20,975-[INFO]- dropbox:474 -> Request to files/list_folder\n",
      "2024-04-25 09:43:21,351-[INFO]- dropbox:390 -> Refreshing access token.\n",
      "2024-04-25 09:43:21,544-[INFO]- dropbox:474 -> Request to files/list_folder\n",
      "2024-04-25 09:43:22,049-[INFO]- dropbox:390 -> Refreshing access token.\n",
      "2024-04-25 09:43:22,253-[INFO]- dropbox:474 -> Request to files/list_folder\n",
      "2024-04-25 09:43:22,595-[INFO]- dropbox:390 -> Refreshing access token.\n",
      "2024-04-25 09:43:22,850-[INFO]- dropbox:474 -> Request to files/list_folder\n",
      "2024-04-25 09:43:23,140-[INFO]- dropbox:390 -> Refreshing access token.\n",
      "2024-04-25 09:43:23,335-[INFO]- dropbox:474 -> Request to files/list_folder\n",
      "2024-04-25 09:43:23,804-[INFO]- dropbox:390 -> Refreshing access token.\n",
      "2024-04-25 09:43:24,003-[INFO]- dropbox:474 -> Request to files/list_folder\n",
      "2024-04-25 09:43:24,304-[INFO]- dropbox:390 -> Refreshing access token.\n",
      "2024-04-25 09:43:24,515-[INFO]- dropbox:474 -> Request to files/list_folder\n",
      "2024-04-25 09:43:25,344-[INFO]- dropbox:474 -> Request to files/list_folder/continue\n",
      "2024-04-25 09:43:26,281-[INFO]- dropbox:474 -> Request to files/list_folder/continue\n",
      "2024-04-25 09:43:27,140-[INFO]- dropbox:474 -> Request to files/list_folder/continue\n",
      "2024-04-25 09:43:28,051-[INFO]- dropbox:474 -> Request to files/list_folder/continue\n",
      "2024-04-25 09:43:28,880-[INFO]- dropbox:474 -> Request to files/list_folder/continue\n",
      "2024-04-25 09:43:29,578-[INFO]- dropbox:390 -> Refreshing access token.\n",
      "2024-04-25 09:43:29,791-[INFO]- dropbox:474 -> Request to files/list_folder\n",
      "2024-04-25 09:43:30,204-[INFO]- dropbox:390 -> Refreshing access token.\n",
      "2024-04-25 09:43:30,416-[INFO]- dropbox:474 -> Request to files/list_folder\n",
      "2024-04-25 09:43:30,726-[INFO]- dropbox:390 -> Refreshing access token.\n",
      "2024-04-25 09:43:30,933-[INFO]- dropbox:474 -> Request to files/list_folder\n",
      "2024-04-25 09:43:31,705-[INFO]- dropbox:390 -> Refreshing access token.\n",
      "2024-04-25 09:43:31,899-[INFO]- dropbox:474 -> Request to files/list_folder\n",
      "2024-04-25 09:43:32,685-[INFO]- dropbox:474 -> Request to files/list_folder/continue\n",
      "2024-04-25 09:43:33,198-[INFO]- dropbox:390 -> Refreshing access token.\n",
      "2024-04-25 09:43:33,472-[INFO]- dropbox:474 -> Request to files/list_folder\n",
      "2024-04-25 09:43:33,864-[INFO]- dropbox:390 -> Refreshing access token.\n",
      "2024-04-25 09:43:34,068-[INFO]- dropbox:474 -> Request to files/list_folder\n",
      "2024-04-25 09:43:34,639-[INFO]- dropbox:390 -> Refreshing access token.\n",
      "2024-04-25 09:43:34,889-[INFO]- dropbox:474 -> Request to files/list_folder\n",
      "2024-04-25 09:43:35,218-[INFO]- dropbox:390 -> Refreshing access token.\n",
      "2024-04-25 09:43:35,428-[INFO]- dropbox:474 -> Request to files/list_folder\n",
      "2024-04-25 09:43:35,762-[INFO]- dropbox:390 -> Refreshing access token.\n",
      "2024-04-25 09:43:35,973-[INFO]- dropbox:474 -> Request to files/list_folder\n",
      "2024-04-25 09:43:36,357-[INFO]- dropbox:390 -> Refreshing access token.\n",
      "2024-04-25 09:43:36,694-[INFO]- dropbox:474 -> Request to files/list_folder\n",
      "2024-04-25 09:43:37,019-[INFO]- dropbox:390 -> Refreshing access token.\n",
      "2024-04-25 09:43:37,218-[INFO]- dropbox:474 -> Request to files/list_folder\n",
      "2024-04-25 09:43:37,656-[INFO]- dropbox:390 -> Refreshing access token.\n",
      "2024-04-25 09:43:37,868-[INFO]- dropbox:474 -> Request to files/list_folder\n",
      "2024-04-25 09:43:38,317-[INFO]- dropbox:390 -> Refreshing access token.\n",
      "2024-04-25 09:43:38,511-[INFO]- dropbox:474 -> Request to files/list_folder\n",
      "2024-04-25 09:43:38,829-[INFO]- dropbox:390 -> Refreshing access token.\n",
      "2024-04-25 09:43:39,028-[INFO]- dropbox:474 -> Request to files/list_folder\n",
      "2024-04-25 09:43:39,464-[INFO]- dropbox:390 -> Refreshing access token.\n",
      "2024-04-25 09:43:39,667-[INFO]- dropbox:474 -> Request to files/list_folder\n",
      "2024-04-25 09:43:40,109-[INFO]- dropbox:390 -> Refreshing access token.\n",
      "2024-04-25 09:43:40,326-[INFO]- dropbox:474 -> Request to files/list_folder\n",
      "2024-04-25 09:43:40,716-[INFO]- dropbox:390 -> Refreshing access token.\n",
      "2024-04-25 09:43:40,920-[INFO]- dropbox:474 -> Request to files/list_folder\n",
      "2024-04-25 09:43:41,377-[INFO]- dropbox:390 -> Refreshing access token.\n",
      "2024-04-25 09:43:41,621-[INFO]- dropbox:474 -> Request to files/list_folder\n",
      "2024-04-25 09:43:42,038-[INFO]- dropbox:390 -> Refreshing access token.\n",
      "2024-04-25 09:43:42,240-[INFO]- dropbox:474 -> Request to files/list_folder\n",
      "2024-04-25 09:43:42,630-[INFO]- dropbox:390 -> Refreshing access token.\n",
      "2024-04-25 09:43:42,858-[INFO]- dropbox:474 -> Request to files/list_folder\n",
      "2024-04-25 09:43:43,191-[INFO]- dropbox:390 -> Refreshing access token.\n",
      "2024-04-25 09:43:43,388-[INFO]- dropbox:474 -> Request to files/list_folder\n",
      "2024-04-25 09:43:43,766-[INFO]- dropbox:390 -> Refreshing access token.\n",
      "2024-04-25 09:43:43,970-[INFO]- dropbox:474 -> Request to files/list_folder\n",
      "2024-04-25 09:43:44,329-[INFO]- dropbox:390 -> Refreshing access token.\n",
      "2024-04-25 09:43:44,522-[INFO]- dropbox:474 -> Request to files/list_folder\n",
      "2024-04-25 09:43:44,888-[INFO]- dropbox:390 -> Refreshing access token.\n",
      "2024-04-25 09:43:45,094-[INFO]- dropbox:474 -> Request to files/list_folder\n",
      "2024-04-25 09:43:45,458-[INFO]- dropbox:390 -> Refreshing access token.\n",
      "2024-04-25 09:43:45,659-[INFO]- dropbox:474 -> Request to files/list_folder\n",
      "2024-04-25 09:43:46,043-[INFO]- dropbox:390 -> Refreshing access token.\n",
      "2024-04-25 09:43:46,267-[INFO]- dropbox:474 -> Request to files/list_folder\n",
      "2024-04-25 09:43:46,683-[INFO]- dropbox:390 -> Refreshing access token.\n",
      "2024-04-25 09:43:46,884-[INFO]- dropbox:474 -> Request to files/list_folder\n",
      "2024-04-25 09:43:47,274-[INFO]- dropbox:390 -> Refreshing access token.\n",
      "2024-04-25 09:43:47,471-[INFO]- dropbox:474 -> Request to files/list_folder\n",
      "2024-04-25 09:43:47,801-[INFO]- dropbox:390 -> Refreshing access token.\n",
      "2024-04-25 09:43:48,025-[INFO]- dropbox:474 -> Request to files/list_folder\n",
      "2024-04-25 09:43:48,369-[INFO]- dropbox:390 -> Refreshing access token.\n",
      "2024-04-25 09:43:48,626-[INFO]- dropbox:474 -> Request to files/list_folder\n",
      "2024-04-25 09:43:49,040-[INFO]- dropbox:390 -> Refreshing access token.\n",
      "2024-04-25 09:43:49,243-[INFO]- dropbox:474 -> Request to files/list_folder\n",
      "2024-04-25 09:43:49,602-[INFO]- dropbox:390 -> Refreshing access token.\n",
      "2024-04-25 09:43:49,863-[INFO]- dropbox:474 -> Request to files/list_folder\n",
      "2024-04-25 09:43:50,217-[INFO]- dropbox:390 -> Refreshing access token.\n",
      "2024-04-25 09:43:50,423-[INFO]- dropbox:474 -> Request to files/list_folder\n",
      "2024-04-25 09:43:50,855-[INFO]- dropbox:390 -> Refreshing access token.\n",
      "2024-04-25 09:43:51,065-[INFO]- dropbox:474 -> Request to files/list_folder\n",
      "2024-04-25 09:43:51,371-[INFO]- dropbox:390 -> Refreshing access token.\n",
      "2024-04-25 09:43:51,571-[INFO]- dropbox:474 -> Request to files/list_folder\n",
      "2024-04-25 09:43:51,907-[INFO]- dropbox:390 -> Refreshing access token.\n",
      "2024-04-25 09:43:52,108-[INFO]- dropbox:474 -> Request to files/list_folder\n",
      "2024-04-25 09:43:52,484-[INFO]- dropbox:390 -> Refreshing access token.\n",
      "2024-04-25 09:43:52,688-[INFO]- dropbox:474 -> Request to files/list_folder\n",
      "2024-04-25 09:43:53,010-[INFO]- dropbox:390 -> Refreshing access token.\n",
      "2024-04-25 09:43:53,209-[INFO]- dropbox:474 -> Request to files/list_folder\n",
      "2024-04-25 09:43:53,522-[INFO]- dropbox:390 -> Refreshing access token.\n",
      "2024-04-25 09:43:53,819-[INFO]- dropbox:474 -> Request to files/list_folder\n",
      "2024-04-25 09:43:54,126-[INFO]- dropbox:390 -> Refreshing access token.\n",
      "2024-04-25 09:43:54,349-[INFO]- dropbox:474 -> Request to files/list_folder\n",
      "2024-04-25 09:43:54,824-[INFO]- dropbox:390 -> Refreshing access token.\n",
      "2024-04-25 09:43:55,025-[INFO]- dropbox:474 -> Request to files/list_folder\n",
      "2024-04-25 09:43:55,400-[INFO]- dropbox:390 -> Refreshing access token.\n",
      "2024-04-25 09:43:55,596-[INFO]- dropbox:474 -> Request to files/list_folder\n",
      "2024-04-25 09:43:56,079-[INFO]- dropbox:390 -> Refreshing access token.\n",
      "2024-04-25 09:43:56,283-[INFO]- dropbox:474 -> Request to files/list_folder\n",
      "2024-04-25 09:43:56,617-[INFO]- dropbox:390 -> Refreshing access token.\n",
      "2024-04-25 09:43:56,830-[INFO]- dropbox:474 -> Request to files/list_folder\n",
      "2024-04-25 09:43:57,199-[INFO]- dropbox:390 -> Refreshing access token.\n",
      "2024-04-25 09:43:57,392-[INFO]- dropbox:474 -> Request to files/list_folder\n",
      "2024-04-25 09:43:57,714-[INFO]- dropbox:390 -> Refreshing access token.\n",
      "2024-04-25 09:43:57,924-[INFO]- dropbox:474 -> Request to files/list_folder\n",
      "2024-04-25 09:43:58,271-[INFO]- dropbox:390 -> Refreshing access token.\n",
      "2024-04-25 09:43:58,509-[INFO]- dropbox:474 -> Request to files/list_folder\n",
      "2024-04-25 09:43:58,820-[INFO]- dropbox:390 -> Refreshing access token.\n",
      "2024-04-25 09:43:59,081-[INFO]- dropbox:474 -> Request to files/list_folder\n",
      "2024-04-25 09:43:59,434-[INFO]- dropbox:390 -> Refreshing access token.\n",
      "2024-04-25 09:43:59,661-[INFO]- dropbox:474 -> Request to files/list_folder\n",
      "2024-04-25 09:43:59,971-[INFO]- dropbox:390 -> Refreshing access token.\n",
      "2024-04-25 09:44:00,165-[INFO]- dropbox:474 -> Request to files/list_folder\n",
      "2024-04-25 09:44:00,548-[INFO]- dropbox:390 -> Refreshing access token.\n",
      "2024-04-25 09:44:00,745-[INFO]- dropbox:474 -> Request to files/list_folder\n",
      "2024-04-25 09:44:01,169-[INFO]- dropbox:390 -> Refreshing access token.\n",
      "2024-04-25 09:44:01,367-[INFO]- dropbox:474 -> Request to files/list_folder\n",
      "2024-04-25 09:44:01,693-[INFO]- dropbox:390 -> Refreshing access token.\n",
      "2024-04-25 09:44:01,924-[INFO]- dropbox:474 -> Request to files/list_folder\n",
      "2024-04-25 09:44:02,450-[INFO]- dropbox:390 -> Refreshing access token.\n",
      "2024-04-25 09:44:02,644-[INFO]- dropbox:474 -> Request to files/list_folder\n",
      "2024-04-25 09:44:02,967-[INFO]- dropbox:390 -> Refreshing access token.\n",
      "2024-04-25 09:44:03,231-[INFO]- dropbox:474 -> Request to files/list_folder\n",
      "2024-04-25 09:44:03,677-[INFO]- dropbox:390 -> Refreshing access token.\n",
      "2024-04-25 09:44:03,877-[INFO]- dropbox:474 -> Request to files/list_folder\n"
     ]
    }
   ],
   "source": [
    "all_folders_drop = get_dropbox_folders_prince(\"/DATA/MYRISTATE/PRINCE\")\n",
    "# all_folders_drop = get_dropbox_folders_prince(\"/DATA/PRINCE\")"
   ]
  },
  {
   "cell_type": "code",
   "execution_count": 13,
   "id": "45e92048-532f-4fb5-b0f7-90708f2ffa1e",
   "metadata": {
    "tags": []
   },
   "outputs": [],
   "source": [
    "plates = [\n",
    "    \"63_20230510\",\n",
    "    \"34_20230221\",\n",
    "    \"61_20230510\",\n",
    "    \"64_20230508\",\n",
    "    \"33_20230221\",\n",
    "    \"35_20230227\",\n",
    "]\n",
    "plates = [\n",
    "    # \"62_20230511\",\n",
    "    # \"49_20230510\",\n",
    "    # \"60_20230508\",\n",
    "    \"68_20230501\",\n",
    "    # \"14_20230301\",\n",
    "    # \"58_20230511\",\n",
    "    # \"1_20230221\",\n",
    "    # \"51_20230511\",\n",
    "    # \"48_20230301\",\n",
    "    # \"33_20230221\",\n",
    "    # \"46_20230221\",\n",
    "]\n",
    "folders_drop = all_folders_drop[all_folders_drop[\"unique_id\"].isin(plates)]\n",
    "folders_drop = folders_drop[folders_drop['folder']==\"20230523_2252_Plate13\"]"
   ]
  },
  {
   "cell_type": "code",
   "execution_count": 14,
   "id": "9a97bee2-85f5-4938-949b-ba1c30e60192",
   "metadata": {
    "tags": []
   },
   "outputs": [
    {
     "data": {
      "text/html": [
       "<div>\n",
       "<style scoped>\n",
       "    .dataframe tbody tr th:only-of-type {\n",
       "        vertical-align: middle;\n",
       "    }\n",
       "\n",
       "    .dataframe tbody tr th {\n",
       "        vertical-align: top;\n",
       "    }\n",
       "\n",
       "    .dataframe thead th {\n",
       "        text-align: right;\n",
       "    }\n",
       "</style>\n",
       "<table border=\"1\" class=\"dataframe\">\n",
       "  <thead>\n",
       "    <tr style=\"text-align: right;\">\n",
       "      <th></th>\n",
       "      <th>folder</th>\n",
       "      <th>size</th>\n",
       "      <th>change_date</th>\n",
       "      <th>tot_path_drop</th>\n",
       "      <th>Plate</th>\n",
       "      <th>CrossDate</th>\n",
       "      <th>unique_id</th>\n",
       "    </tr>\n",
       "  </thead>\n",
       "  <tbody>\n",
       "    <tr>\n",
       "      <th>6201</th>\n",
       "      <td>20230523_2252_Plate13</td>\n",
       "      <td>NaN</td>\n",
       "      <td>0</td>\n",
       "      <td>data/myristate/prince/68_20230501/20230523_225...</td>\n",
       "      <td>68</td>\n",
       "      <td>20230501</td>\n",
       "      <td>68_20230501</td>\n",
       "    </tr>\n",
       "  </tbody>\n",
       "</table>\n",
       "</div>"
      ],
      "text/plain": [
       "                     folder size change_date  \\\n",
       "6201  20230523_2252_Plate13  NaN           0   \n",
       "\n",
       "                                          tot_path_drop Plate CrossDate  \\\n",
       "6201  data/myristate/prince/68_20230501/20230523_225...    68  20230501   \n",
       "\n",
       "        unique_id  \n",
       "6201  68_20230501  "
      ]
     },
     "execution_count": 14,
     "metadata": {},
     "output_type": "execute_result"
    }
   ],
   "source": [
    "folders_drop"
   ]
  },
  {
   "cell_type": "code",
   "execution_count": null,
   "id": "b33b0b6a-b2e6-49c3-a87d-196fe75dc688",
   "metadata": {},
   "outputs": [],
   "source": []
  },
  {
   "cell_type": "code",
   "execution_count": null,
   "id": "811529a6-876f-4565-b8a6-e0ae7caa83c4",
   "metadata": {
    "tags": []
   },
   "outputs": [],
   "source": [
    "all_folders_drop[all_folders_drop[\"unique_id\"] == \"61_20230510\"]"
   ]
  },
  {
   "cell_type": "code",
   "execution_count": null,
   "id": "bfbaa3e5-cac4-42ea-b8ba-60465cc8428d",
   "metadata": {},
   "outputs": [],
   "source": [
    "data = all_folders_drop.groupby(\"unique_id\")[\"folder\"].count()"
   ]
  },
  {
   "cell_type": "code",
   "execution_count": null,
   "id": "80e122b0-426b-4581-963f-4f41037a1403",
   "metadata": {},
   "outputs": [],
   "source": [
    "plates = [\n",
    "    1,\n",
    "    49,\n",
    "    51,\n",
    "    14,\n",
    "    58,\n",
    "    59,\n",
    "    60,\n",
    "    31,\n",
    "    33,\n",
    "    34,\n",
    "    62,\n",
    "    63,\n",
    "    64,\n",
    "    67,\n",
    "    68,\n",
    "    69,\n",
    "    72,\n",
    "    37,\n",
    "    46,\n",
    "    48,\n",
    "]"
   ]
  },
  {
   "cell_type": "code",
   "execution_count": null,
   "id": "de243388-20c5-4538-99b3-b91f05d54b5f",
   "metadata": {},
   "outputs": [],
   "source": [
    "plates = [str(plate) for plate in plates]"
   ]
  },
  {
   "cell_type": "code",
   "execution_count": null,
   "id": "991de34e-9a3c-49b1-ad1e-e7367511ea93",
   "metadata": {
    "tags": []
   },
   "outputs": [],
   "source": [
    "folders = all_folders_drop[all_folders_drop[\"Plate\"].isin(plates)]\n",
    "folders_drop = folders[folders[\"CrossDate\"] > \"20230101\"]"
   ]
  },
  {
   "cell_type": "code",
   "execution_count": null,
   "id": "fbb6f9b1-0ca2-40f4-b3e1-c2120bb24b17",
   "metadata": {
    "tags": []
   },
   "outputs": [],
   "source": [
    "folders_drop.groupby(\"unique_id\")[\"folder\"].count()"
   ]
  },
  {
   "cell_type": "code",
   "execution_count": null,
   "id": "81ef214b-1a3f-42a0-804d-3332295571ea",
   "metadata": {},
   "outputs": [],
   "source": [
    "plates = [\n",
    "    \"58_20230511\",\n",
    "    \"62_20230511\",\n",
    "    \"1_20230221\",\n",
    "    \"63_20230510\",\n",
    "    \"51_20230510\",\n",
    "    \"49_20230510\",\n",
    "    \"64_20230508\",\n",
    "    \"60_20230508\",\n",
    "    \"59_20230508\",\n",
    "    \"72_20230501\",\n",
    "    \"69_20230501\",\n",
    "    \"67_20230501\",\n",
    "    \"68_20230501\",\n",
    "    \"37_20230221\",\n",
    "    \"14_20230301\",\n",
    "    \"34_20230227\",\n",
    "    \"31_20230227\",\n",
    "    \"48_20230227\",\n",
    "    \"33_20230221\",\n",
    "    \"46_20230221\",\n",
    "]\n",
    "plates = [\n",
    "    \"1_20230221\",\n",
    "    \"51_20230510\",\n",
    "    \"49_20230510\",\n",
    "    \"64_20230508\",\n",
    "    \"72_20230501\",\n",
    "    \"69_20230501\",\n",
    "    \"67_20230501\",\n",
    "    \"34_20230227\",\n",
    "    \"31_20230227\",\n",
    "    \"33_20230221\",\n",
    "]"
   ]
  },
  {
   "cell_type": "code",
   "execution_count": null,
   "id": "9557f5bf-250d-42d2-9513-66516a5fbc0a",
   "metadata": {},
   "outputs": [],
   "source": [
    "folders_drop = all_folders_drop[all_folders_drop[\"unique_id\"].isin(plates)]"
   ]
  },
  {
   "cell_type": "code",
   "execution_count": null,
   "id": "cff427db-e4a1-4362-b35e-6d8ff4a8bcf3",
   "metadata": {},
   "outputs": [],
   "source": [
    "folders_drop.groupby(\"unique_id\")[\"folder\"].count()"
   ]
  },
  {
   "cell_type": "code",
   "execution_count": null,
   "id": "c5648833-4f87-4e20-ba4d-c14165869d96",
   "metadata": {
    "tags": []
   },
   "outputs": [],
   "source": [
    "folders_drop2 = folders_drop.loc[~folders_drop[\"folder\"].isin(all_folders[\"folder\"])]\n",
    "folders_drop2"
   ]
  },
  {
   "cell_type": "code",
   "execution_count": 16,
   "id": "8a4bbfac-b314-43fe-9e13-213f6f50f184",
   "metadata": {},
   "outputs": [
    {
     "data": {
      "text/plain": [
       "'/scratch-shared/amftrack/myr/'"
      ]
     },
     "execution_count": 16,
     "metadata": {},
     "output_type": "execute_result"
    }
   ],
   "source": [
    "# directory_targ = directory_project + \"myr/\"\n",
    "directory_targ = os.path.join(directory_scratch, \"myr\") + \"/\"\n",
    "# directory_targ = directory_targ+'myr/'\n",
    "directory_targ"
   ]
  },
  {
   "cell_type": "code",
   "execution_count": 17,
   "id": "978ad264-fee6-4dea-9519-4d67329b4455",
   "metadata": {
    "tags": []
   },
   "outputs": [
    {
     "name": "stderr",
     "output_type": "stream",
     "text": [
      "sbatch: Single-node jobs run on a shared node by default. Add --exclusive if you want to use a node exclusively.\n",
      "sbatch: A full node consists of 32 CPU cores, 229376 MiB of memory and 0 GPUs and can be shared by up to 32 jobs.\n",
      "sbatch: By default shared jobs get 7168 MiB of memory per CPU core, unless explicitly overridden with --mem-per-cpu, --mem-per-gpu or --mem.\n",
      "sbatch: You will be charged for 1 CPUs, based on the number of CPUs and the amount memory that you've requested.\n"
     ]
    },
    {
     "name": "stdout",
     "output_type": "stream",
     "text": [
      "Submitted batch job 6041787\n"
     ]
    }
   ],
   "source": [
    "run_parallel_transfer(\n",
    "    \"from_drop.py\",\n",
    "    [directory_targ],\n",
    "    folders_drop,\n",
    "    40,\n",
    "    \"4:00:00\",\n",
    "    \"staging\",\n",
    "    cpus=1,\n",
    "    node=\"staging\",\n",
    "    name_job=\"fig1\",\n",
    ")"
   ]
  },
  {
   "cell_type": "code",
   "execution_count": 3,
   "id": "81ded5a5-1715-402d-8d58-9f615bee24de",
   "metadata": {},
   "outputs": [
    {
     "data": {
      "application/vnd.jupyter.widget-view+json": {
       "model_id": "b694f4f6a6224cb9aef90e746ffdf178",
       "version_major": 2,
       "version_minor": 0
      },
      "text/plain": [
       "analysed:   0%|          | 0/1013 [00:00<?, ?it/s]"
      ]
     },
     "metadata": {},
     "output_type": "display_data"
    }
   ],
   "source": [
    "update_plate_info(directory_targ, local=True, strong_constraint=True)\n",
    "all_folders = get_current_folders(directory_targ, local=True)"
   ]
  },
  {
   "cell_type": "code",
   "execution_count": null,
   "id": "da8abe9d-6011-4d92-8a67-10bfe4d743c4",
   "metadata": {},
   "outputs": [],
   "source": [
    "plates = all_folders[\"unique_id\"].unique()\n",
    "plates = plates[:5]"
   ]
  },
  {
   "cell_type": "code",
   "execution_count": null,
   "id": "d92981b5-0158-47ac-923c-81f0b0ed71a2",
   "metadata": {},
   "outputs": [],
   "source": [
    "folders = all_folders[all_folders[\"unique_id\"].isin(plates)]"
   ]
  },
  {
   "cell_type": "code",
   "execution_count": 4,
   "id": "e7c51016-b4f3-4a74-933a-f2d4fa9458b5",
   "metadata": {},
   "outputs": [],
   "source": [
    "folders = all_folders"
   ]
  },
  {
   "cell_type": "code",
   "execution_count": null,
   "id": "3e22db4d-4068-4b01-8f89-2e1728ab75c4",
   "metadata": {},
   "outputs": [],
   "source": [
    "plates = [\n",
    "    \"63_20230510\",\n",
    "    \"34_20230221\",\n",
    "    \"61_20230510\",\n",
    "    \"64_20230508\",\n",
    "    \"33_20230221\",\n",
    "    \"35_20230227\",\n",
    "]\n",
    "plates += [\n",
    "    \"62_20230511\",\n",
    "    \"49_20230510\",\n",
    "    \"60_20230508\",\n",
    "    \"68_20230501\",\n",
    "    \"14_20230301\",\n",
    "    \"58_20230511\",\n",
    "    \"1_20230221\",\n",
    "    \"51_20230511\",\n",
    "    \"48_20230301\",\n",
    "    \"33_20230221\",\n",
    "    \"46_20230221\",\n",
    "]\n",
    "folders = all_folders[all_folders[\"unique_id\"].isin(plates)]"
   ]
  },
  {
   "cell_type": "code",
   "execution_count": null,
   "id": "7341e590-0f38-4f7f-91b0-9ed4c0303ea7",
   "metadata": {},
   "outputs": [],
   "source": []
  },
  {
   "cell_type": "code",
   "execution_count": 4,
   "id": "7d43b6ee-fe42-4e6a-a460-628b76428249",
   "metadata": {
    "collapsed": true,
    "jupyter": {
     "outputs_hidden": true
    },
    "tags": []
   },
   "outputs": [
    {
     "name": "stderr",
     "output_type": "stream",
     "text": [
      "sbatch: Single-node jobs run on a shared node by default. Add --exclusive if you want to use a node exclusively.\n",
      "sbatch: A full node consists of 32 CPU cores, 229376 MiB of memory and 0 GPUs and can be shared by up to 32 jobs.\n",
      "sbatch: By default shared jobs get 7168 MiB of memory per CPU core, unless explicitly overridden with --mem-per-cpu, --mem-per-gpu or --mem.\n",
      "sbatch: You will be charged for 1 CPUs, based on the number of CPUs and the amount memory that you've requested.\n"
     ]
    },
    {
     "name": "stdout",
     "output_type": "stream",
     "text": [
      "Submitted batch job 6037534\n"
     ]
    },
    {
     "name": "stderr",
     "output_type": "stream",
     "text": [
      "sbatch: Single-node jobs run on a shared node by default. Add --exclusive if you want to use a node exclusively.\n",
      "sbatch: A full node consists of 32 CPU cores, 229376 MiB of memory and 0 GPUs and can be shared by up to 32 jobs.\n",
      "sbatch: By default shared jobs get 7168 MiB of memory per CPU core, unless explicitly overridden with --mem-per-cpu, --mem-per-gpu or --mem.\n",
      "sbatch: You will be charged for 1 CPUs, based on the number of CPUs and the amount memory that you've requested.\n"
     ]
    },
    {
     "name": "stdout",
     "output_type": "stream",
     "text": [
      "Submitted batch job 6037535\n"
     ]
    },
    {
     "name": "stderr",
     "output_type": "stream",
     "text": [
      "sbatch: Single-node jobs run on a shared node by default. Add --exclusive if you want to use a node exclusively.\n",
      "sbatch: A full node consists of 32 CPU cores, 229376 MiB of memory and 0 GPUs and can be shared by up to 32 jobs.\n",
      "sbatch: By default shared jobs get 7168 MiB of memory per CPU core, unless explicitly overridden with --mem-per-cpu, --mem-per-gpu or --mem.\n",
      "sbatch: You will be charged for 1 CPUs, based on the number of CPUs and the amount memory that you've requested.\n"
     ]
    },
    {
     "name": "stdout",
     "output_type": "stream",
     "text": [
      "Submitted batch job 6037536\n"
     ]
    },
    {
     "name": "stderr",
     "output_type": "stream",
     "text": [
      "sbatch: Single-node jobs run on a shared node by default. Add --exclusive if you want to use a node exclusively.\n",
      "sbatch: A full node consists of 32 CPU cores, 229376 MiB of memory and 0 GPUs and can be shared by up to 32 jobs.\n",
      "sbatch: By default shared jobs get 7168 MiB of memory per CPU core, unless explicitly overridden with --mem-per-cpu, --mem-per-gpu or --mem.\n",
      "sbatch: You will be charged for 1 CPUs, based on the number of CPUs and the amount memory that you've requested.\n"
     ]
    },
    {
     "name": "stdout",
     "output_type": "stream",
     "text": [
      "Submitted batch job 6037537\n"
     ]
    },
    {
     "name": "stderr",
     "output_type": "stream",
     "text": [
      "sbatch: Single-node jobs run on a shared node by default. Add --exclusive if you want to use a node exclusively.\n",
      "sbatch: A full node consists of 32 CPU cores, 229376 MiB of memory and 0 GPUs and can be shared by up to 32 jobs.\n",
      "sbatch: By default shared jobs get 7168 MiB of memory per CPU core, unless explicitly overridden with --mem-per-cpu, --mem-per-gpu or --mem.\n",
      "sbatch: You will be charged for 1 CPUs, based on the number of CPUs and the amount memory that you've requested.\n"
     ]
    },
    {
     "name": "stdout",
     "output_type": "stream",
     "text": [
      "Submitted batch job 6037538\n"
     ]
    },
    {
     "name": "stderr",
     "output_type": "stream",
     "text": [
      "sbatch: Single-node jobs run on a shared node by default. Add --exclusive if you want to use a node exclusively.\n",
      "sbatch: A full node consists of 32 CPU cores, 229376 MiB of memory and 0 GPUs and can be shared by up to 32 jobs.\n",
      "sbatch: By default shared jobs get 7168 MiB of memory per CPU core, unless explicitly overridden with --mem-per-cpu, --mem-per-gpu or --mem.\n",
      "sbatch: You will be charged for 1 CPUs, based on the number of CPUs and the amount memory that you've requested.\n"
     ]
    },
    {
     "name": "stdout",
     "output_type": "stream",
     "text": [
      "Submitted batch job 6037539\n"
     ]
    },
    {
     "name": "stderr",
     "output_type": "stream",
     "text": [
      "sbatch: Single-node jobs run on a shared node by default. Add --exclusive if you want to use a node exclusively.\n",
      "sbatch: A full node consists of 32 CPU cores, 229376 MiB of memory and 0 GPUs and can be shared by up to 32 jobs.\n",
      "sbatch: By default shared jobs get 7168 MiB of memory per CPU core, unless explicitly overridden with --mem-per-cpu, --mem-per-gpu or --mem.\n",
      "sbatch: You will be charged for 1 CPUs, based on the number of CPUs and the amount memory that you've requested.\n"
     ]
    },
    {
     "name": "stdout",
     "output_type": "stream",
     "text": [
      "Submitted batch job 6037540\n"
     ]
    },
    {
     "name": "stderr",
     "output_type": "stream",
     "text": [
      "sbatch: Single-node jobs run on a shared node by default. Add --exclusive if you want to use a node exclusively.\n",
      "sbatch: A full node consists of 32 CPU cores, 229376 MiB of memory and 0 GPUs and can be shared by up to 32 jobs.\n",
      "sbatch: By default shared jobs get 7168 MiB of memory per CPU core, unless explicitly overridden with --mem-per-cpu, --mem-per-gpu or --mem.\n",
      "sbatch: You will be charged for 1 CPUs, based on the number of CPUs and the amount memory that you've requested.\n"
     ]
    },
    {
     "name": "stdout",
     "output_type": "stream",
     "text": [
      "Submitted batch job 6037541\n"
     ]
    },
    {
     "name": "stderr",
     "output_type": "stream",
     "text": [
      "sbatch: Single-node jobs run on a shared node by default. Add --exclusive if you want to use a node exclusively.\n",
      "sbatch: A full node consists of 32 CPU cores, 229376 MiB of memory and 0 GPUs and can be shared by up to 32 jobs.\n",
      "sbatch: By default shared jobs get 7168 MiB of memory per CPU core, unless explicitly overridden with --mem-per-cpu, --mem-per-gpu or --mem.\n",
      "sbatch: You will be charged for 1 CPUs, based on the number of CPUs and the amount memory that you've requested.\n"
     ]
    },
    {
     "name": "stdout",
     "output_type": "stream",
     "text": [
      "Submitted batch job 6037542\n"
     ]
    },
    {
     "name": "stderr",
     "output_type": "stream",
     "text": [
      "sbatch: Single-node jobs run on a shared node by default. Add --exclusive if you want to use a node exclusively.\n",
      "sbatch: A full node consists of 32 CPU cores, 229376 MiB of memory and 0 GPUs and can be shared by up to 32 jobs.\n",
      "sbatch: By default shared jobs get 7168 MiB of memory per CPU core, unless explicitly overridden with --mem-per-cpu, --mem-per-gpu or --mem.\n",
      "sbatch: You will be charged for 1 CPUs, based on the number of CPUs and the amount memory that you've requested.\n"
     ]
    },
    {
     "name": "stdout",
     "output_type": "stream",
     "text": [
      "Submitted batch job 6037543\n"
     ]
    },
    {
     "name": "stderr",
     "output_type": "stream",
     "text": [
      "sbatch: Single-node jobs run on a shared node by default. Add --exclusive if you want to use a node exclusively.\n",
      "sbatch: A full node consists of 32 CPU cores, 229376 MiB of memory and 0 GPUs and can be shared by up to 32 jobs.\n",
      "sbatch: By default shared jobs get 7168 MiB of memory per CPU core, unless explicitly overridden with --mem-per-cpu, --mem-per-gpu or --mem.\n",
      "sbatch: You will be charged for 1 CPUs, based on the number of CPUs and the amount memory that you've requested.\n"
     ]
    },
    {
     "name": "stdout",
     "output_type": "stream",
     "text": [
      "Submitted batch job 6037544\n"
     ]
    },
    {
     "name": "stderr",
     "output_type": "stream",
     "text": [
      "sbatch: Single-node jobs run on a shared node by default. Add --exclusive if you want to use a node exclusively.\n",
      "sbatch: A full node consists of 32 CPU cores, 229376 MiB of memory and 0 GPUs and can be shared by up to 32 jobs.\n",
      "sbatch: By default shared jobs get 7168 MiB of memory per CPU core, unless explicitly overridden with --mem-per-cpu, --mem-per-gpu or --mem.\n",
      "sbatch: You will be charged for 1 CPUs, based on the number of CPUs and the amount memory that you've requested.\n"
     ]
    },
    {
     "name": "stdout",
     "output_type": "stream",
     "text": [
      "Submitted batch job 6037545\n"
     ]
    },
    {
     "name": "stderr",
     "output_type": "stream",
     "text": [
      "sbatch: Single-node jobs run on a shared node by default. Add --exclusive if you want to use a node exclusively.\n",
      "sbatch: A full node consists of 32 CPU cores, 229376 MiB of memory and 0 GPUs and can be shared by up to 32 jobs.\n",
      "sbatch: By default shared jobs get 7168 MiB of memory per CPU core, unless explicitly overridden with --mem-per-cpu, --mem-per-gpu or --mem.\n",
      "sbatch: You will be charged for 1 CPUs, based on the number of CPUs and the amount memory that you've requested.\n"
     ]
    },
    {
     "name": "stdout",
     "output_type": "stream",
     "text": [
      "Submitted batch job 6037546\n"
     ]
    },
    {
     "name": "stderr",
     "output_type": "stream",
     "text": [
      "sbatch: Single-node jobs run on a shared node by default. Add --exclusive if you want to use a node exclusively.\n",
      "sbatch: A full node consists of 32 CPU cores, 229376 MiB of memory and 0 GPUs and can be shared by up to 32 jobs.\n",
      "sbatch: By default shared jobs get 7168 MiB of memory per CPU core, unless explicitly overridden with --mem-per-cpu, --mem-per-gpu or --mem.\n",
      "sbatch: You will be charged for 1 CPUs, based on the number of CPUs and the amount memory that you've requested.\n"
     ]
    },
    {
     "name": "stdout",
     "output_type": "stream",
     "text": [
      "Submitted batch job 6037547\n"
     ]
    },
    {
     "name": "stderr",
     "output_type": "stream",
     "text": [
      "sbatch: Single-node jobs run on a shared node by default. Add --exclusive if you want to use a node exclusively.\n",
      "sbatch: A full node consists of 32 CPU cores, 229376 MiB of memory and 0 GPUs and can be shared by up to 32 jobs.\n",
      "sbatch: By default shared jobs get 7168 MiB of memory per CPU core, unless explicitly overridden with --mem-per-cpu, --mem-per-gpu or --mem.\n",
      "sbatch: You will be charged for 1 CPUs, based on the number of CPUs and the amount memory that you've requested.\n"
     ]
    },
    {
     "name": "stdout",
     "output_type": "stream",
     "text": [
      "Submitted batch job 6037548\n"
     ]
    },
    {
     "name": "stderr",
     "output_type": "stream",
     "text": [
      "sbatch: Single-node jobs run on a shared node by default. Add --exclusive if you want to use a node exclusively.\n",
      "sbatch: A full node consists of 32 CPU cores, 229376 MiB of memory and 0 GPUs and can be shared by up to 32 jobs.\n",
      "sbatch: By default shared jobs get 7168 MiB of memory per CPU core, unless explicitly overridden with --mem-per-cpu, --mem-per-gpu or --mem.\n",
      "sbatch: You will be charged for 1 CPUs, based on the number of CPUs and the amount memory that you've requested.\n"
     ]
    },
    {
     "name": "stdout",
     "output_type": "stream",
     "text": [
      "Submitted batch job 6037549\n"
     ]
    },
    {
     "name": "stderr",
     "output_type": "stream",
     "text": [
      "sbatch: Single-node jobs run on a shared node by default. Add --exclusive if you want to use a node exclusively.\n",
      "sbatch: A full node consists of 32 CPU cores, 229376 MiB of memory and 0 GPUs and can be shared by up to 32 jobs.\n",
      "sbatch: By default shared jobs get 7168 MiB of memory per CPU core, unless explicitly overridden with --mem-per-cpu, --mem-per-gpu or --mem.\n",
      "sbatch: You will be charged for 1 CPUs, based on the number of CPUs and the amount memory that you've requested.\n"
     ]
    },
    {
     "name": "stdout",
     "output_type": "stream",
     "text": [
      "Submitted batch job 6037550\n"
     ]
    },
    {
     "name": "stderr",
     "output_type": "stream",
     "text": [
      "sbatch: Single-node jobs run on a shared node by default. Add --exclusive if you want to use a node exclusively.\n",
      "sbatch: A full node consists of 32 CPU cores, 229376 MiB of memory and 0 GPUs and can be shared by up to 32 jobs.\n",
      "sbatch: By default shared jobs get 7168 MiB of memory per CPU core, unless explicitly overridden with --mem-per-cpu, --mem-per-gpu or --mem.\n",
      "sbatch: You will be charged for 1 CPUs, based on the number of CPUs and the amount memory that you've requested.\n"
     ]
    },
    {
     "name": "stdout",
     "output_type": "stream",
     "text": [
      "Submitted batch job 6037551\n"
     ]
    },
    {
     "name": "stderr",
     "output_type": "stream",
     "text": [
      "sbatch: Single-node jobs run on a shared node by default. Add --exclusive if you want to use a node exclusively.\n",
      "sbatch: A full node consists of 32 CPU cores, 229376 MiB of memory and 0 GPUs and can be shared by up to 32 jobs.\n",
      "sbatch: By default shared jobs get 7168 MiB of memory per CPU core, unless explicitly overridden with --mem-per-cpu, --mem-per-gpu or --mem.\n",
      "sbatch: You will be charged for 1 CPUs, based on the number of CPUs and the amount memory that you've requested.\n"
     ]
    },
    {
     "name": "stdout",
     "output_type": "stream",
     "text": [
      "Submitted batch job 6037552\n"
     ]
    },
    {
     "name": "stderr",
     "output_type": "stream",
     "text": [
      "sbatch: Single-node jobs run on a shared node by default. Add --exclusive if you want to use a node exclusively.\n",
      "sbatch: A full node consists of 32 CPU cores, 229376 MiB of memory and 0 GPUs and can be shared by up to 32 jobs.\n",
      "sbatch: By default shared jobs get 7168 MiB of memory per CPU core, unless explicitly overridden with --mem-per-cpu, --mem-per-gpu or --mem.\n",
      "sbatch: You will be charged for 1 CPUs, based on the number of CPUs and the amount memory that you've requested.\n"
     ]
    },
    {
     "name": "stdout",
     "output_type": "stream",
     "text": [
      "Submitted batch job 6037553\n"
     ]
    },
    {
     "name": "stderr",
     "output_type": "stream",
     "text": [
      "sbatch: Single-node jobs run on a shared node by default. Add --exclusive if you want to use a node exclusively.\n",
      "sbatch: A full node consists of 32 CPU cores, 229376 MiB of memory and 0 GPUs and can be shared by up to 32 jobs.\n",
      "sbatch: By default shared jobs get 7168 MiB of memory per CPU core, unless explicitly overridden with --mem-per-cpu, --mem-per-gpu or --mem.\n",
      "sbatch: You will be charged for 1 CPUs, based on the number of CPUs and the amount memory that you've requested.\n"
     ]
    },
    {
     "name": "stdout",
     "output_type": "stream",
     "text": [
      "Submitted batch job 6037554\n"
     ]
    }
   ],
   "source": [
    "dir_drop = \"DATA/PRINCE\"\n",
    "delete = True\n",
    "run_parallel_transfer(\n",
    "    \"toward_drop.py\",\n",
    "    [dir_drop, delete],\n",
    "    all_folders,\n",
    "    50,\n",
    "    \"4:00:00\",\n",
    "    \"staging\",\n",
    "    cpus=1,\n",
    "    node=\"staging\",\n",
    "    name_job=\"correct_myr_files\",\n",
    ")"
   ]
  },
  {
   "cell_type": "markdown",
   "id": "d0c86ef2-37b7-4776-b47b-603858d191d2",
   "metadata": {},
   "source": [
    "To correct maforme Img paths"
   ]
  },
  {
   "cell_type": "code",
   "execution_count": null,
   "id": "c45a13d3-8e72-4cb9-a302-d37c1ccc4c23",
   "metadata": {},
   "outputs": [],
   "source": [
    "update_plate_info(directory_targ, local=True, strong_constraint=False)\n",
    "wrong_folder = get_current_folders(directory_targ, local=True)"
   ]
  },
  {
   "cell_type": "code",
   "execution_count": null,
   "id": "336c62ee-5d42-4bd2-aaf3-f4f6414a9460",
   "metadata": {},
   "outputs": [],
   "source": [
    "wrong_folder"
   ]
  },
  {
   "cell_type": "code",
   "execution_count": null,
   "id": "51d0bfed-36d3-4803-b577-1e51719d9896",
   "metadata": {
    "collapsed": true,
    "jupyter": {
     "outputs_hidden": true
    },
    "tags": []
   },
   "outputs": [],
   "source": [
    "import shutil\n",
    "\n",
    "for folder_path in wrong_folder[\"total_path\"]:\n",
    "\n",
    "    # Check if it's a directory and contains an 'Img' subfolder\n",
    "    imgimg_subfolder_path = os.path.join(folder_path, \"Img\", \"Img\")\n",
    "    if os.path.isdir(folder_path) and os.path.isdir(imgimg_subfolder_path):\n",
    "\n",
    "        # Move each file from the 'Img' subfolder to its parent folder\n",
    "        for file in os.listdir(imgimg_subfolder_path):\n",
    "            final_file_path = os.path.join(folder_path, \"Img\", file)\n",
    "            init_file_path = os.path.join(imgimg_subfolder_path, file)\n",
    "            print(init_file_path, final_file_path)\n",
    "            shutil.move(init_file_path, final_file_path)\n",
    "\n",
    "        # Remove the now empty 'Img' subfolder\n",
    "        os.rmdir(imgimg_subfolder_path)"
   ]
  }
 ],
 "metadata": {
  "kernelspec": {
   "display_name": "Python 3 (ipykernel)",
   "language": "python",
   "name": "python3"
  },
  "language_info": {
   "codemirror_mode": {
    "name": "ipython",
    "version": 3
   },
   "file_extension": ".py",
   "mimetype": "text/x-python",
   "name": "python",
   "nbconvert_exporter": "python",
   "pygments_lexer": "ipython3",
   "version": "3.12.3"
  }
 },
 "nbformat": 4,
 "nbformat_minor": 5
}

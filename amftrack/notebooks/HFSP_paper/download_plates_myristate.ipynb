{
 "cells": [
  {
   "cell_type": "code",
   "execution_count": null,
   "id": "2c1e3e9d-403f-4639-9106-5a1021c99c25",
   "metadata": {
    "tags": []
   },
   "outputs": [],
   "source": [
    "%load_ext autoreload\n",
    "%autoreload 2\n",
    "from amftrack.pipeline.launching.run_super import (\n",
    "    run_launcher,\n",
    "    directory_scratch,\n",
    "    directory_project,\n",
    "    directory_project,\n",
    "    run_parallel_stitch,\n",
    "    run_parallel_transfer,\n",
    ")\n",
    "import os\n",
    "from amftrack.util.sys import (\n",
    "    get_dates_datetime,\n",
    "    get_dirname,\n",
    "    temp_path,\n",
    "    get_data_info,\n",
    "    update_plate_info,\n",
    "    update_analysis_info,\n",
    "    get_analysis_info,\n",
    "    get_current_folders,\n",
    "    get_folders_by_plate_id,\n",
    ")\n",
    "\n",
    "from time import time_ns\n",
    "\n",
    "from amftrack.util.dbx import upload_folders, load_dbx, download\n",
    "from datetime import datetime\n",
    "from amftrack.pipeline.launching.run_super import (\n",
    "    run_parallel,\n",
    "    directory_scratch,\n",
    "    directory_project,\n",
    "    run_parallel_stitch,\n",
    ")\n",
    "from amftrack.util.dbx import (\n",
    "    read_saved_dropbox_state,\n",
    "    get_dropbox_folders_prince,\n",
    "    get_dropbox_folders_prince,\n",
    "    save_dropbox_state,\n",
    "    get_dropbox_folders_general_recursive,\n",
    ")"
   ]
  },
  {
   "cell_type": "code",
   "execution_count": null,
   "id": "e9e194b4-d322-4d9a-a4ba-98c52791d0a2",
   "metadata": {
    "jupyter": {
     "outputs_hidden": true
    },
    "tags": []
   },
   "outputs": [],
   "source": [
    "all_folders_drop = get_dropbox_folders_prince(\"/DATA/MYRISTATE/PRINCE\")\n",
    "# all_folders_drop = get_dropbox_folders_prince(\"/DATA/PRINCE\")\n"
   ]
  },
  {
   "cell_type": "code",
   "execution_count": null,
   "id": "80e122b0-426b-4581-963f-4f41037a1403",
   "metadata": {},
   "outputs": [],
   "source": [
    "plates = [\n",
    "1,\n",
    "49,\n",
    "51,\n",
    "14,\n",
    "58,\n",
    "59,\n",
    "60,\n",
    "31,\n",
    "33,\n",
    "34,\n",
    "62,\n",
    "63,\n",
    "64,\n",
    "67,\n",
    "68,\n",
    "69,\n",
    "72,\n",
    "37,\n",
    "46,\n",
    "48,\n",
    "]"
   ]
  },
  {
   "cell_type": "code",
   "execution_count": null,
   "id": "de243388-20c5-4538-99b3-b91f05d54b5f",
   "metadata": {},
   "outputs": [],
   "source": [
    "plates = [str(plate) for plate in plates]"
   ]
  },
  {
   "cell_type": "code",
   "execution_count": null,
   "id": "991de34e-9a3c-49b1-ad1e-e7367511ea93",
   "metadata": {
    "tags": []
   },
   "outputs": [],
   "source": [
    "folders = all_folders_drop[all_folders_drop['Plate'].isin(plates)]\n",
    "folders_drop = folders[folders['CrossDate']>'20230101']"
   ]
  },
  {
   "cell_type": "code",
   "execution_count": null,
   "id": "fbb6f9b1-0ca2-40f4-b3e1-c2120bb24b17",
   "metadata": {
    "tags": []
   },
   "outputs": [],
   "source": [
    "folders_drop.groupby('unique_id')['folder'].count()"
   ]
  },
  {
   "cell_type": "code",
   "execution_count": null,
   "id": "81ef214b-1a3f-42a0-804d-3332295571ea",
   "metadata": {},
   "outputs": [],
   "source": [
    "plates = ['58_20230511', '62_20230511', '1_20230221', '63_20230510',\n",
    "       '51_20230510', '49_20230510', '64_20230508', '60_20230508',\n",
    "       '59_20230508', '72_20230501', '69_20230501', '67_20230501',\n",
    "       '68_20230501', '37_20230221', '14_20230301', '34_20230227',\n",
    "       '31_20230227', '48_20230227', '33_20230221', '46_20230221']"
   ]
  },
  {
   "cell_type": "code",
   "execution_count": null,
   "id": "9557f5bf-250d-42d2-9513-66516a5fbc0a",
   "metadata": {},
   "outputs": [],
   "source": [
    "folders_drop = all_folders_drop[all_folders_drop['unique_id'].isin(plates)]"
   ]
  },
  {
   "cell_type": "code",
   "execution_count": null,
   "id": "c5648833-4f87-4e20-ba4d-c14165869d96",
   "metadata": {
    "tags": []
   },
   "outputs": [],
   "source": [
    "folders_drop2 = folders_drop.loc[~folders_drop[\"folder\"].isin(all_folders[\"folder\"])]\n",
    "folders_drop2"
   ]
  },
  {
   "cell_type": "code",
   "execution_count": null,
   "id": "8a4bbfac-b314-43fe-9e13-213f6f50f184",
   "metadata": {},
   "outputs": [],
   "source": [
    "directory_targ = directory_project+'myr/'\n",
    "# directory_targ = directory_targ+'myr/'\n",
    "# directory_targ"
   ]
  },
  {
   "cell_type": "code",
   "execution_count": null,
   "id": "978ad264-fee6-4dea-9519-4d67329b4455",
   "metadata": {
    "jupyter": {
     "outputs_hidden": true
    },
    "tags": []
   },
   "outputs": [],
   "source": [
    "run_parallel_transfer(\n",
    "    \"from_drop.py\",\n",
    "    [directory_targ],\n",
    "    folders_drop2,\n",
    "    40,\n",
    "    \"4:00:00\",\n",
    "    \"staging\",\n",
    "    cpus=1,\n",
    "    node=\"staging\",\n",
    "    name_job=\"fig1\",\n",
    ")"
   ]
  },
  {
   "cell_type": "code",
   "execution_count": null,
   "id": "81ded5a5-1715-402d-8d58-9f615bee24de",
   "metadata": {},
   "outputs": [],
   "source": [
    "update_plate_info(directory_targ, local=True,strong_constraint=True)\n",
    "all_folders = get_current_folders(directory_targ, local=True)"
   ]
  },
  {
   "cell_type": "code",
   "execution_count": null,
   "id": "d92981b5-0158-47ac-923c-81f0b0ed71a2",
   "metadata": {},
   "outputs": [],
   "source": [
    "eval(\"False\")"
   ]
  },
  {
   "cell_type": "code",
   "execution_count": null,
   "id": "7d43b6ee-fe42-4e6a-a460-628b76428249",
   "metadata": {
    "jupyter": {
     "outputs_hidden": true
    },
    "tags": []
   },
   "outputs": [],
   "source": [
    "dir_drop = \"DATA/MYRISTATE/PRINCE\"\n",
    "delete = False\n",
    "run_parallel_transfer(\n",
    "    \"toward_drop.py\",\n",
    "    [dir_drop, delete],\n",
    "    all_folders,\n",
    "    50,\n",
    "    \"4:00:00\",\n",
    "    \"staging\",\n",
    "    cpus=1,\n",
    "    node=\"staging\",\n",
    "    name_job=\"correct_myr_files\",\n",
    ")"
   ]
  },
  {
   "cell_type": "markdown",
   "id": "d0c86ef2-37b7-4776-b47b-603858d191d2",
   "metadata": {},
   "source": [
    "To correct maforme Img paths"
   ]
  },
  {
   "cell_type": "code",
   "execution_count": null,
   "id": "c45a13d3-8e72-4cb9-a302-d37c1ccc4c23",
   "metadata": {},
   "outputs": [],
   "source": [
    "update_plate_info(directory_targ, local=True,strong_constraint=False)\n",
    "wrong_folder = get_current_folders(directory_targ, local=True)"
   ]
  },
  {
   "cell_type": "code",
   "execution_count": null,
   "id": "336c62ee-5d42-4bd2-aaf3-f4f6414a9460",
   "metadata": {},
   "outputs": [],
   "source": [
    "wrong_folder"
   ]
  },
  {
   "cell_type": "code",
   "execution_count": null,
   "id": "51d0bfed-36d3-4803-b577-1e51719d9896",
   "metadata": {},
   "outputs": [],
   "source": [
    "for folder_path in wrong_folder['total_path']:\n",
    "\n",
    "    # Check if it's a directory and contains an 'Img' subfolder\n",
    "    imgimg_subfolder_path = os.path.join(folder_path, \"Img\",\"Img\")\n",
    "    if os.path.isdir(folder_path) and os.path.isdir(imgimg_subfolder_path):\n",
    "        \n",
    "        # Move each file from the 'Img' subfolder to its parent folder\n",
    "        for file in os.listdir(imgimg_subfolder_path):\n",
    "            final_file_path = os.path.join(folder_path, \"Img\",file)\n",
    "            init_file_path = os.path.join(imgimg_subfolder_path,file)\n",
    "            print(init_file_path,final_file_path)\n",
    "            shutil.move(init_file_path, final_file_path)\n",
    "\n",
    "        # Remove the now empty 'Img' subfolder\n",
    "        os.rmdir(imgimg_subfolder_path)"
   ]
  }
 ],
 "metadata": {
  "kernelspec": {
   "display_name": "Python 3 (ipykernel)",
   "language": "python",
   "name": "python3"
  },
  "language_info": {
   "codemirror_mode": {
    "name": "ipython",
    "version": 3
   },
   "file_extension": ".py",
   "mimetype": "text/x-python",
   "name": "python",
   "nbconvert_exporter": "python",
   "pygments_lexer": "ipython3",
   "version": "3.7.13"
  }
 },
 "nbformat": 4,
 "nbformat_minor": 5
}

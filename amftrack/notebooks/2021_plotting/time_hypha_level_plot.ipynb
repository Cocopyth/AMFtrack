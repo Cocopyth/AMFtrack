{
 "cells": [
  {
   "cell_type": "code",
   "execution_count": 1,
   "id": "99e2b4f5-0968-4951-99fa-60a1ba739f05",
   "metadata": {},
   "outputs": [],
   "source": [
    "import sys  \n",
    "sys.path.insert(0, '/home/cbisot/pycode/MscThesis/')\n",
    "from pymatreader import read_mat\n",
    "from scipy import sparse\n",
    "import numpy as np\n",
    "import os\n",
    "from datetime import datetime, timedelta\n",
    "import pandas\n",
    "import cv2\n",
    "import json\n",
    "import pandas as pd\n",
    "from amftrack.pipeline.paths.directory import *\n",
    "from amftrack.util import *\n",
    "import pickle\n",
    "from joblib import Parallel, delayed\n",
    "from datetime import datetime\n",
    "import matplotlib.pyplot as plt\n",
    "from amftrack.pipeline.functions.post_processing.global_plate import *\n",
    "from amftrack.pipeline.functions.post_processing.global_hypha import *\n",
    "from amftrack.pipeline.functions.post_processing.time_hypha import *\n",
    "from amftrack.pipeline.functions.post_processing.time_plate import *"
   ]
  },
  {
   "cell_type": "code",
   "execution_count": 2,
   "id": "501985b1-0e68-4ef7-8d3c-b25547d465ec",
   "metadata": {},
   "outputs": [],
   "source": [
    "directory = directory_project\n",
    "update_analysis_info(directory)\n",
    "analysis_info = get_analysis_info(directory)"
   ]
  },
  {
   "cell_type": "code",
   "execution_count": 3,
   "id": "4a6fb061-8245-48ec-b52d-4927b59e908c",
   "metadata": {},
   "outputs": [],
   "source": [
    "select = analysis_info.loc[analysis_info['Plate']!=22]"
   ]
  },
  {
   "cell_type": "code",
   "execution_count": 4,
   "id": "8908cb3b-c63d-4f91-8261-8af7a075c6c7",
   "metadata": {},
   "outputs": [],
   "source": [
    "frames = []\n",
    "for index, row in select.iterrows():\n",
    "    folder = row['folder_analysis']\n",
    "    path_time_plate_info = row['path_time_plate_info']\n",
    "    plate = row['Plate']\n",
    "    if os.path.isfile(f'{directory}{path_time_plate_info}'):\n",
    "        time_plate_info = pd.read_json(f'{directory}{path_time_plate_info}',\n",
    "       convert_dates=True).transpose()\n",
    "        time_plate_info.index.name = 't'\n",
    "        time_plate_info.reset_index(inplace=True)\n",
    "        for indexo, rowt in time_plate_info.iterrows():\n",
    "            t = rowt['t']\n",
    "            path_hyph_info_t = f'{directory}{folder}/time_hypha_info/hyph_info_{t}.json'\n",
    "            if os.path.isfile(path_hyph_info_t):\n",
    "                hyph_info_t = pd.read_json(path_hyph_info_t,\n",
    "       convert_dates=True).transpose()\n",
    "                hyph_info_t['Plate']=rowt['Plate']\n",
    "                hyph_info_t['folder']=folder\n",
    "                hyph_info_t['t']=rowt['t']\n",
    "                frames.append(hyph_info_t)\n",
    "time_hypha_infos = pd.concat(frames)"
   ]
  },
  {
   "cell_type": "code",
   "execution_count": 6,
   "id": "8162b300-1f71-4b85-9393-ec03098c1b7f",
   "metadata": {},
   "outputs": [],
   "source": [
    "result.to_pickle('time_hypha_infos.pick')"
   ]
  }
 ],
 "metadata": {
  "kernelspec": {
   "display_name": "Python 3 (ipykernel)",
   "language": "python",
   "name": "python3"
  },
  "language_info": {
   "codemirror_mode": {
    "name": "ipython",
    "version": 3
   },
   "file_extension": ".py",
   "mimetype": "text/x-python",
   "name": "python",
   "nbconvert_exporter": "python",
   "pygments_lexer": "ipython3",
   "version": "3.7.11"
  }
 },
 "nbformat": 4,
 "nbformat_minor": 5
}

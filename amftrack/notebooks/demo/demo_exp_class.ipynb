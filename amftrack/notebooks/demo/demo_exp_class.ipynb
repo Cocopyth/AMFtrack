{
 "cells": [
  {
   "cell_type": "markdown",
   "metadata": {},
   "source": [
    "**Necessary packages to make this work**\n",
    "\n",
    "for the script\n",
    "- conda install -c open3d-admin open3d==0.9.0\n",
    "-  conda install -c anaconda scipy \n",
    "-  conda install -c anaconda pandas \n",
    "-  conda install -c anaconda networkx \n",
    "-  conda install -c conda-forge matplotlib \n",
    "-  conda install -c obob pymatreader \n",
    "-  conda install -c anaconda numpy \n",
    "-  conda install -c conda-forge opencv \n",
    "-  pip install imageio #use pip here to avoid conflict \n",
    "- conda install -c conda-forge jupyterlab\n",
    "- pip install pycpd\n",
    "- pip install cython\n",
    "- git clone https://github.com/gattia/cycpd\n",
    "- cd cycpd\n",
    "- sudo python setup.py install\n",
    "<!-- - conda install -c anaconda ipykernel -->\n",
    "\n",
    "*For nice display*\n",
    "- conda install -c conda-forge ipympl\n",
    "- conda install -c conda-forge nodejs\n",
    "- jupyter labextension install @jupyter-widgets/jupyterlab-manager\n",
    "- jupyter lab build\n",
    "\n",
    "\n",
    "for nice display in jupyter lab\n",
    "\n"
   ]
  },
  {
   "cell_type": "code",
   "execution_count": 1,
   "metadata": {},
   "outputs": [],
   "source": [
    "%matplotlib widget\n",
    "from util.sys import get_path\n",
    "import pandas as pd\n",
    "import networkx as nx\n",
    "import numpy as np\n",
    "import matplotlib.pyplot as plt\n",
    "from extract_graph import generate_nx_graph, transform_list, generate_skeleton, generate_nx_graph_from_skeleton, from_connection_tab\n",
    "from node_id import whole_movement_identification, second_identification\n",
    "import ast\n",
    "from plotutil import plot_t_tp1, compress_skeleton\n",
    "from scipy import sparse\n",
    "from sparse_util import dilate, zhangSuen\n",
    "from realign import realign\n",
    "from datetime import datetime,timedelta\n",
    "from node_id import orient\n",
    "import pickle\n",
    "from matplotlib.widgets import CheckButtons\n",
    "import scipy.io as sio\n",
    "import imageio\n",
    "from pymatreader import read_mat\n",
    "import os\n",
    "from matplotlib import colors\n",
    "from random import choice\n",
    "from experiment_class import Experiment,clean_exp_with_hyphaes"
   ]
  },
  {
   "cell_type": "markdown",
   "metadata": {},
   "source": [
    "**First load the dates of interest**\n",
    "\n",
    "This is some non very interesting code to extract all the folder names and the associated dates in a python understandable way"
   ]
  },
  {
   "cell_type": "code",
   "execution_count": 2,
   "metadata": {},
   "outputs": [],
   "source": [
    "plate = 13\n",
    "directory='//sun.amolf.nl/shimizu-data/home-folder/oyartegalvez/Drive_AMFtopology/PRINCE' \n",
    "listdir=os.listdir(directory) #This line will run only if the vpn is connected to amolf, if by the time you're trying this you still don't have access to amolf system\n",
    "#manually find a way to find the dates you're interested in\n",
    "#You can use the code below for plate 13 (to uncomment)\n",
    "# plate = 13\n",
    "# date_init = datetime(2020,7,1,19,57)\n",
    "# dates_datetime = [date_init+timedelta(hours=4)*i for i in range(24)]\n",
    "# dates = [f'{0 if date.month<10 else \"\"}{date.month}{0 if date.day<10 else \"\"}{date.day}_{0 if date.hour<10 else \"\"}{date.hour}{0 if date.minute<10 else \"\"}{date.minute}' for date in dates_datetime]\n",
    "list_dir_interest=[name for name in listdir if name.split('_')[-1]==f'Plate{0 if plate<10 else \"\"}{plate}']\n",
    "ss=[name.split('_')[0] for name in list_dir_interest]\n",
    "ff=[name.split('_')[1] for name in list_dir_interest]\n",
    "dates_datetime=[datetime(year=int(ss[i][:4]),month=int(ss[i][4:6]),day=int(ss[i][6:8]),hour=int(ff[i][0:2]),minute=int(ff[i][2:4])) for i in range(len(list_dir_interest))]\n",
    "dates_datetime.sort()\n",
    "dates_datetime_chosen=dates_datetime[1:5] #out of all the folders that relate to the plate of interest, we extract only a subset, here the 4 first ones.\n",
    "dates = [f'{0 if date.month<10 else \"\"}{date.month}{0 if date.day<10 else \"\"}{date.day}_{0 if date.hour<10 else \"\"}{date.hour}{0 if date.minute<10 else \"\"}{date.minute}' for date in dates_datetime_chosen]"
   ]
  },
  {
   "cell_type": "markdown",
   "metadata": {},
   "source": [
    "**The experiment objects**\n",
    "\n",
    "An experiment is associated with a plate so we create the Experiment.\n",
    "\n",
    "Then we only need to load the date that we are interested in.\n"
   ]
  },
  {
   "cell_type": "code",
   "execution_count": 3,
   "metadata": {},
   "outputs": [],
   "source": [
    "exp= Experiment(plate) #Create the object\n",
    "exp.load(dates,local=False) #load the dates, if local is set to True, no connection to Amolf system is needed (and loading will be faster)\n",
    "#In that cas data should all put in a 'Data' folder in the directory of the notebook and the code with the original names. (see source code)\n"
   ]
  },
  {
   "cell_type": "markdown",
   "metadata": {},
   "source": [
    "To plot the skeleton of the experiment at any timestep. One can use the **plot** method., the first parameter is the list of time-step (index of the corresponding dates that we want to plot) while the second parameter is the list of list of nodes that we want to plot at each of these timesteps (see later)."
   ]
  },
  {
   "cell_type": "code",
   "execution_count": 16,
   "metadata": {},
   "outputs": [
    {
     "data": {
      "application/vnd.jupyter.widget-view+json": {
       "model_id": "a53ec97335e44b06a2414454c3c110dd",
       "version_major": 2,
       "version_minor": 0
      },
      "text/plain": [
       "Canvas(toolbar=Toolbar(toolitems=[('Home', 'Reset original view', 'home', 'home'), ('Back', 'Back to previous …"
      ]
     },
     "metadata": {},
     "output_type": "display_data"
    }
   ],
   "source": [
    "exp.plot([2],[[]])"
   ]
  },
  {
   "cell_type": "markdown",
   "metadata": {},
   "source": [
    "The fancy display is quite heavy to handle. I recommend regularly to use **plt.close('all')** to avoid memory overload. This will close the interactive display of **exp.plot**."
   ]
  },
  {
   "cell_type": "code",
   "execution_count": 9,
   "metadata": {},
   "outputs": [],
   "source": [
    "plt.close('all')"
   ]
  },
  {
   "cell_type": "markdown",
   "metadata": {},
   "source": [
    "An experiment object has different attributes, some of them we actually don't access that often but I mention them so you know they are there."
   ]
  },
  {
   "cell_type": "code",
   "execution_count": 7,
   "metadata": {},
   "outputs": [
    {
     "name": "stdout",
     "output_type": "stream",
     "text": [
      "<class 'list'> <class 'networkx.classes.graph.Graph'>\n",
      "<class 'list'> <class 'dict'>\n"
     ]
    }
   ],
   "source": [
    "print(type(exp.nx_graph),type(exp.nx_graph[0])) #The graphs at each time step, so nx_graph[0] is the graph at timestep 0 (corresponding to dates[0])\n",
    "print(type(exp.positions),type(exp.positions[0])) #This is not super handy, but the positions are separated from the graph"
   ]
  },
  {
   "cell_type": "markdown",
   "metadata": {},
   "source": [
    "So the best way to actually walk through the graph is through nodes, hyphae and edges."
   ]
  },
  {
   "cell_type": "code",
   "execution_count": 17,
   "metadata": {},
   "outputs": [],
   "source": [
    "nodes = exp.nodes #the list of all nodes that have been identified in the network"
   ]
  },
  {
   "cell_type": "markdown",
   "metadata": {},
   "source": [
    "Nodes are abstract objects that correspond to node that have been identified across timesteps. They have different methods to navigate through them."
   ]
  },
  {
   "cell_type": "code",
   "execution_count": 18,
   "metadata": {},
   "outputs": [
    {
     "name": "stdout",
     "output_type": "stream",
     "text": [
      "True\n",
      "1\n",
      "[Node(2784)]\n",
      "here are the neighbouring nodes\n",
      "label=2784, degree = 3, position = [14503 22443]\n",
      "here are the edges from this node\n",
      "edge = (Node(2784), Node(2805)) begining = 2784, end = 2805\n",
      "first_pixel = (14503, 22443) \n",
      " to compare with [14503 22443]\n",
      "orientation =  144.10733431225444\n",
      "edge = (Node(2784), Node(397)) begining = 2784, end = 397\n",
      "first_pixel = (14503, 22443) \n",
      " to compare with [14503 22443]\n",
      "orientation =  31.865977693603682\n",
      "edge = (Node(2784), Node(2789)) begining = 2784, end = 2789\n",
      "first_pixel = (14503, 22443) \n",
      " to compare with [14503 22443]\n",
      "orientation =  -86.42366562500266\n"
     ]
    }
   ],
   "source": [
    "node = choice(nodes) #choose one random node for demo.\n",
    "t = 2 \n",
    "#first one can ask if the node is present in the network at a certain time t\n",
    "print(node.is_in(t))\n",
    "if node.is_in(t):\n",
    "    print(node.degree(t)) #one can get the degree of this node at the timestep t (this degree can change over time due to anastomosis)\n",
    "    print(node.neighbours(t)) #one can get the neighbours of the node at time t, this is also time dependant\n",
    "    print(\"here are the neighbouring nodes\")\n",
    "    for node in node.neighbours(t):\n",
    "        print(f'label={node.label}, degree = {node.degree(t)}, position = {node.pos(t)}')\n",
    "#One can also go through the edges stemming from a node\n",
    "    print(\"here are the edges from this node\")\n",
    "    for edge in node.edges(t):\n",
    "        print(f'edge = {edge}', f'begining = {edge.begin}, end = {edge.end}') #when we print an edge we see the begining of the edge and it's end\n",
    "        #edges are also abstract object, at a certain time t, one can access their pixel list, simple functions based on this pixel list have been implemented.\n",
    "        #the pixel list is the list of pixel from begin to end\n",
    "        print(f'first_pixel = {edge.pixel_list(t)[0]} \\n to compare with {edge.begin.pos(t)}')\n",
    "        print(f'orientation =  {edge.orientation_whole(t)}')\n",
    "        "
   ]
  },
  {
   "cell_type": "markdown",
   "metadata": {},
   "source": [
    "to see how this all looks like, let's plot all these nodes!\n",
    "You'll notice that the coordinates as ther are shown on the axis don't correspond to the ones above, this is because we compress the image to be able to display it."
   ]
  },
  {
   "cell_type": "code",
   "execution_count": 15,
   "metadata": {},
   "outputs": [
    {
     "data": {
      "application/vnd.jupyter.widget-view+json": {
       "model_id": "83b2bc68c29b43fcb4fc469224eb1d5c",
       "version_major": 2,
       "version_minor": 0
      },
      "text/plain": [
       "Canvas(toolbar=Toolbar(toolitems=[('Home', 'Reset original view', 'home', 'home'), ('Back', 'Back to previous …"
      ]
     },
     "metadata": {},
     "output_type": "display_data"
    }
   ],
   "source": [
    "exp.plot([0,1,2,3],[[node.label]+[neighbour.label for neighbour in node.neighbours(t)] for t in range(len(dates))])"
   ]
  },
  {
   "cell_type": "markdown",
   "metadata": {},
   "source": [
    "Coming soon : hyphaes "
   ]
  }
 ],
 "metadata": {
  "kernelspec": {
   "display_name": "Python 3",
   "language": "python",
   "name": "python3"
  },
  "language_info": {
   "codemirror_mode": {
    "name": "ipython",
    "version": 3
   },
   "file_extension": ".py",
   "mimetype": "text/x-python",
   "name": "python",
   "nbconvert_exporter": "python",
   "pygments_lexer": "ipython3",
   "version": "3.7.7"
  }
 },
 "nbformat": 4,
 "nbformat_minor": 4
}

{
 "cells": [
  {
   "cell_type": "code",
   "execution_count": 1,
   "id": "f14fa6e7-5480-4c14-ac5a-192de5637eb2",
   "metadata": {},
   "outputs": [
    {
     "name": "stderr",
     "output_type": "stream",
     "text": [
      "/gpfs/home2/cbisot/pycode/AMFtrack/amftrack/util/dbx.py:3: TqdmExperimentalWarning: Using `tqdm.autonotebook.tqdm` in notebook mode. Use `tqdm.tqdm` instead to force console mode (e.g. in jupyter console)\n",
      "  from tqdm.autonotebook import tqdm\n"
     ]
    }
   ],
   "source": [
    "import cv2\n",
    "import numpy as np\n",
    "import os\n",
    "import pickle\n",
    "from amftrack.util.sys import (\n",
    "    test_path,\n",
    "    get_current_folders,\n",
    "    update_plate_info,\n",
    "    update_analysis_info,\n",
    "    get_analysis_info,\n",
    ")\n",
    "from amftrack.pipeline.functions.image_processing.experiment_class_surf import (\n",
    "    Experiment,\n",
    "    load_graphs,\n",
    ")\n",
    "from amftrack.pipeline.functions.post_processing.extract_study_zone import (\n",
    "    load_study_zone,\n",
    ")\n",
    "from amftrack.util.dbx import get_dropbox_folders, get_dropbox_folders\n",
    "\n",
    "from amftrack.pipeline.launching.run import run_transfer\n",
    "from amftrack.pipeline.functions.post_processing.area_hulls import get_regular_hulls_area_fixed"
   ]
  },
  {
   "cell_type": "code",
   "execution_count": 2,
   "id": "9636f7a2-5a8e-46d9-a744-077d4cd9fb22",
   "metadata": {},
   "outputs": [],
   "source": [
    "from shapely import affinity\n",
    "from shapely.geometry.multipolygon import MultiPolygon\n",
    "from scipy.spatial import Voronoi\n",
    "\n",
    "# Voronoi doesn't work properly with points below (0,0) so set lowest point to (0,0)\n",
    "\n",
    "\n",
    "\n",
    "\n",
    "def shape_to_points(shape, num = 10, smaller_versions = 10):\n",
    "    points = []\n",
    "\n",
    "    # Take the shape, shrink it by a factor (first iteration factor=1), and then \n",
    "    # take points around the contours\n",
    "    for shrink_factor in range(0,smaller_versions,1):\n",
    "        # calculate the shrinking factor\n",
    "        shrink_factor = smaller_versions - shrink_factor\n",
    "        shrink_factor = shrink_factor / float(smaller_versions)\n",
    "        # actually shrink - first iteration it remains at 1:1\n",
    "        smaller_shape = affinity.scale(shape, shrink_factor, shrink_factor)\n",
    "        # Interpolate numbers around the boundary of the shape\n",
    "        for i in range(0,int(num*shrink_factor),1):\n",
    "            i = i / int(num*shrink_factor)\n",
    "            x,y =  smaller_shape.interpolate(i, normalized=True).xy\n",
    "            points.append( (x[0],y[0]))\n",
    "    \n",
    "    # add the origin\n",
    "    x,y = smaller_shape.centroid.xy\n",
    "    points.append( (x[0], y[0]) ) # near, but usually not add (0,0)\n",
    "    \n",
    "    points = np.array(points)\n",
    "    return points\n",
    "\n",
    "\n",
    "def points_to_voronoi(points):\n",
    "    vor = Voronoi(points)\n",
    "    vertices = [ x for x in vor.ridge_vertices if -1 not in x]\n",
    "    # For some reason, some vertices were seen as super, super long. Probably also infinite lines, so take them out\n",
    "    lines = [ LineString(vor.vertices[x]) for x in vertices if not vor.vertices[x].max() > 50000]\n",
    "    return MultiLineString(lines)"
   ]
  },
  {
   "cell_type": "code",
   "execution_count": 4,
   "id": "1e3ee407-82d9-467b-b5ef-3fbccdabd754",
   "metadata": {},
   "outputs": [],
   "source": [
    "from shapely.geometry import Polygon\n",
    "shape = Polygon([[0, 0], [1, 0], [1, 1], [0, 1], [0, 0]])"
   ]
  },
  {
   "cell_type": "code",
   "execution_count": 6,
   "id": "9addcbf7-0100-4b95-b366-b3c53882647e",
   "metadata": {},
   "outputs": [],
   "source": [
    "from shapely.geometry import LineString, MultiPolygon, Polygon\n",
    "from shapely.ops import split\n",
    "\n",
    "def splitPolygon(polygon, nx, ny):\n",
    "    minx, miny, maxx, maxy = polygon.bounds\n",
    "    dx = (maxx - minx) / nx\n",
    "    dy = (maxy - miny) / ny\n",
    "\n",
    "    minx, miny, maxx, maxy = polygon.bounds\n",
    "    dx = (maxx - minx) / nx  # width of a small part\n",
    "    dy = (maxy - miny) / ny  # height of a small part\n",
    "    horizontal_splitters = [LineString([(minx, miny + i*dy), (maxx, miny + i*dy)]) for i in range(ny)]\n",
    "    vertical_splitters = [LineString([(minx + i*dx, miny), (minx + i*dx, maxy)]) for i in range(nx)]\n",
    "    splitters = horizontal_splitters + vertical_splitters\n",
    "    result = polygon\n",
    "    \n",
    "    for splitter in splitters:\n",
    "        result = MultiPolygon(split(result, splitter))\n",
    "    \n",
    "    return result\n"
   ]
  },
  {
   "cell_type": "code",
   "execution_count": 8,
   "id": "3c09ca7f-68c4-4743-8db0-06815a70f1dc",
   "metadata": {},
   "outputs": [
    {
     "name": "stdout",
     "output_type": "stream",
     "text": [
      "2023-03-09 16:33:03,211-[INFO]- shapely.geos:296 -> Self-intersection at or near point 0.33333333333333331 0\n"
     ]
    },
    {
     "data": {
      "image/svg+xml": [
       "<svg xmlns=\"http://www.w3.org/2000/svg\" xmlns:xlink=\"http://www.w3.org/1999/xlink\" width=\"100.0\" height=\"100.0\" viewBox=\"-0.04 -0.04 1.08 1.08\" preserveAspectRatio=\"xMinYMin meet\"><g transform=\"matrix(1,0,0,-1,0,1.0)\"><g><path fill-rule=\"evenodd\" fill=\"#ff3333\" stroke=\"#555555\" stroke-width=\"0.0216\" opacity=\"0.6\" d=\"M 1.0,0.0 L 0.6666666666666666,0.0 L 0.6666666666666666,0.5 L 1.0,0.5 L 1.0,0.0 z\" /><path fill-rule=\"evenodd\" fill=\"#ff3333\" stroke=\"#555555\" stroke-width=\"0.0216\" opacity=\"0.6\" d=\"M 0.6666666666666666,0.0 L 0.3333333333333333,0.0 L 0.3333333333333333,0.5 L 0.6666666666666666,0.5 L 0.6666666666666666,0.0 z\" /><path fill-rule=\"evenodd\" fill=\"#ff3333\" stroke=\"#555555\" stroke-width=\"0.0216\" opacity=\"0.6\" d=\"M 0.3333333333333333,0.0 L 0.0,0.0 L 0.0,0.5 L 0.3333333333333333,0.5 L 0.3333333333333333,0.0 z\" /><path fill-rule=\"evenodd\" fill=\"#ff3333\" stroke=\"#555555\" stroke-width=\"0.0216\" opacity=\"0.6\" d=\"M 0.0,0.5 L 0.0,1.0 L 0.3333333333333333,1.0 L 0.3333333333333333,0.5 L 0.0,0.5 z\" /><path fill-rule=\"evenodd\" fill=\"#ff3333\" stroke=\"#555555\" stroke-width=\"0.0216\" opacity=\"0.6\" d=\"M 0.3333333333333333,1.0 L 0.6666666666666666,1.0 L 0.6666666666666666,0.5 L 0.3333333333333333,0.5 L 0.3333333333333333,1.0 z\" /><path fill-rule=\"evenodd\" fill=\"#ff3333\" stroke=\"#555555\" stroke-width=\"0.0216\" opacity=\"0.6\" d=\"M 0.6666666666666666,1.0 L 1.0,1.0 L 1.0,0.5 L 0.6666666666666666,0.5 L 0.6666666666666666,1.0 z\" /></g></g></svg>"
      ],
      "text/plain": [
       "<shapely.geometry.multipolygon.MultiPolygon at 0x1473c6489450>"
      ]
     },
     "execution_count": 8,
     "metadata": {},
     "output_type": "execute_result"
    }
   ],
   "source": [
    "splitPolygon(shape,3,2)"
   ]
  }
 ],
 "metadata": {
  "kernelspec": {
   "display_name": "Python 3 (ipykernel)",
   "language": "python",
   "name": "python3"
  },
  "language_info": {
   "codemirror_mode": {
    "name": "ipython",
    "version": 3
   },
   "file_extension": ".py",
   "mimetype": "text/x-python",
   "name": "python",
   "nbconvert_exporter": "python",
   "pygments_lexer": "ipython3",
   "version": "3.7.13"
  }
 },
 "nbformat": 4,
 "nbformat_minor": 5
}

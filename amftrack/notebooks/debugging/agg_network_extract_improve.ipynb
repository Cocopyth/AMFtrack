{
 "cells": [
  {
   "cell_type": "code",
   "execution_count": null,
   "id": "8cd02424-4549-4381-83e2-be602a3f07a8",
   "metadata": {},
   "outputs": [],
   "source": [
    "%load_ext autoreload\n",
    "%autoreload 2\n",
    "%matplotlib widget\n",
    "\n",
    "from amftrack.pipeline.launching.run_super import (\n",
    "    run_launcher,\n",
    "    directory_scratch,\n",
    "    directory_project,\n",
    "    directory_project,\n",
    "    run_parallel_stitch,\n",
    "    run_parallel_transfer,\n",
    ")\n",
    "import os\n",
    "from amftrack.util.sys import (\n",
    "    get_dates_datetime,\n",
    "    get_dirname,\n",
    "    temp_path,\n",
    "    get_data_info,\n",
    "    update_plate_info,\n",
    "    update_analysis_info,\n",
    "    get_analysis_info,\n",
    "    get_current_folders,\n",
    "    get_folders_by_plate_id,\n",
    ")\n",
    "\n",
    "from time import time_ns\n",
    "from amftrack.util.dbx import upload_folders, load_dbx, download, get_dropbox_folders\n",
    "from datetime import datetime\n",
    "from amftrack.pipeline.launching.run_super import (\n",
    "    run_parallel,\n",
    "    directory_scratch,\n",
    "    directory_project,\n",
    "    run_parallel_stitch,\n",
    ")\n",
    "from amftrack.util.dbx import read_saved_dropbox_state, get_dropbox_folders\n",
    "import sys\n",
    "import os\n",
    "\n",
    "from amftrack.util.sys import get_dirname, temp_path\n",
    "import pandas as pd\n",
    "import ast\n",
    "from scipy import sparse\n",
    "import scipy.io as sio\n",
    "import cv2\n",
    "import imageio.v2 as imageio\n",
    "import numpy as np\n",
    "import scipy.sparse\n",
    "import os\n",
    "from time import time\n",
    "from amftrack.pipeline.functions.image_processing.extract_skel import (\n",
    "    extract_skel_new_prince,\n",
    "    run_back_sub,\n",
    "    bowler_hat,\n",
    ")\n",
    "\n",
    "from amftrack.util.sys import get_dates_datetime, get_dirname\n",
    "import shutil\n",
    "import matplotlib.pyplot as plt\n",
    "from amftrack.pipeline.functions.image_processing.experiment_class_surf import (\n",
    "    Experiment,\n",
    "    save_graphs,\n",
    "    load_graphs,\n",
    ")\n",
    "from amftrack.pipeline.functions.image_processing.experiment_util import (\n",
    "    get_random_edge,\n",
    "    distance_point_edge,\n",
    "    plot_edge,\n",
    "    plot_edge_cropped,\n",
    "    find_nearest_edge,\n",
    "    get_edge_from_node_labels,\n",
    "    plot_full_image_with_features,\n",
    "    get_all_edges,\n",
    "    get_all_nodes,\n",
    "    find_neighboring_edges,\n",
    "    reconstruct_image,\n",
    "    reconstruct_skeletton_from_edges,\n",
    "    reconstruct_skeletton_unicolor,\n",
    "    reconstruct_image_from_general,\n",
    "    plot_full,\n",
    "    plot_edge_color_value,\n",
    ")\n",
    "from matplotlib import cm"
   ]
  },
  {
   "cell_type": "code",
   "execution_count": null,
   "id": "50a3ff7b-87ff-4cd7-b302-b3db2a4d3459",
   "metadata": {},
   "outputs": [],
   "source": [
    "directory_targ = os.path.join(directory_scratch, \"stitch_temp2\") + \"/\"\n",
    "directory_targ = directory_project\n",
    "\n",
    "update_plate_info(directory_targ, local=True)\n",
    "all_folders = get_current_folders(directory_targ, local=True)"
   ]
  },
  {
   "cell_type": "code",
   "execution_count": null,
   "id": "c1199334-034d-4e46-abbd-af0289a6a110",
   "metadata": {},
   "outputs": [],
   "source": [
    "plates = [\n",
    "    \"241_20230403\",\n",
    "    \"247_20230422\",\n",
    "    # '24_20220426'\n",
    "]\n",
    "folders = all_folders.loc[all_folders[\"unique_id\"] == \"240_20230328\"]\n",
    "directory = directory_targ"
   ]
  },
  {
   "cell_type": "code",
   "execution_count": null,
   "id": "41e57719-9d9d-41cc-a10e-9fc6125d79c0",
   "metadata": {
    "tags": []
   },
   "outputs": [],
   "source": [
    "plates = [\n",
    "    \"3_20220426\",\n",
    "    \"12_20220502\",\n",
    "    \"13_20220422\",\n",
    "    \"16_20220419\",\n",
    "    \"21_20220502\",\n",
    "    \"480_20221205\",\n",
    "    \"28_20230227\",\n",
    "    \"206_20230303\",\n",
    "    \"202_20230314\",\n",
    "    \"218_20230227\",\n",
    "    \"219_20230307\",\n",
    "    \"229_20230330\",\n",
    "    \"240_20230328\",\n",
    "]"
   ]
  },
  {
   "cell_type": "code",
   "execution_count": null,
   "id": "a3b92408-78d0-451c-a0f9-e857e2039bc1",
   "metadata": {},
   "outputs": [],
   "source": [
    "folders = all_folders.loc[all_folders[\"unique_id\"].isin(plates)]\n",
    "folders.loc[folders[\"/Analysis/nx_graph_pruned.p\"] == True][\"strain\"].unique()"
   ]
  },
  {
   "cell_type": "code",
   "execution_count": null,
   "id": "ff706a16-cd5f-4cbf-8423-ba61671a86db",
   "metadata": {},
   "outputs": [],
   "source": [
    "folders = all_folders.loc[all_folders[\"unique_id\"] == \"219_20230307\"]\n",
    "folders = folders.loc[folders[\"/Analysis/nx_graph_pruned.p\"] == True]"
   ]
  },
  {
   "cell_type": "code",
   "execution_count": null,
   "id": "e9377cc5-3e82-41b3-8029-c34e75d6c625",
   "metadata": {},
   "outputs": [],
   "source": [
    "folders = folders.sort_values(by=\"datetime\")\n",
    "folders\n",
    "exp = Experiment(directory_targ)\n",
    "t0 = 31\n",
    "exp.load(folders.iloc[t0 : t0 + 1], suffix=\"_labeled\")\n",
    "exp.dates.sort()\n",
    "for t in range(exp.ts):\n",
    "    exp.load_tile_information(t)\n",
    "\n",
    "load_graphs(exp, directory_targ, post_process=False, suffix=\"_labeled\")"
   ]
  },
  {
   "cell_type": "code",
   "execution_count": null,
   "id": "b82ee507-f66b-4c61-b776-ddcd2d03d3a9",
   "metadata": {},
   "outputs": [],
   "source": [
    "nodes = get_all_nodes(exp, t)\n",
    "nodes = [node for node in nodes if node.degree(t) == 1]"
   ]
  },
  {
   "cell_type": "code",
   "execution_count": null,
   "id": "81cf032b-ab14-4ee4-afd8-d4fd47e340d6",
   "metadata": {},
   "outputs": [],
   "source": [
    "nodes = [node for node in nodes if node.label == 678155]"
   ]
  },
  {
   "cell_type": "code",
   "execution_count": null,
   "id": "91d19233-5fc2-4fe5-972a-10dc0178d661",
   "metadata": {},
   "outputs": [],
   "source": [
    "vmax = 9\n",
    "vmin = 3\n",
    "plot_edge_color_value(\n",
    "    exp,\n",
    "    t,\n",
    "    lambda edge: edge.width(t),\n",
    "    cmap=cm.get_cmap(\"cool\", 100),\n",
    "    nodes=nodes,\n",
    "    v_min=vmin,\n",
    "    v_max=vmax,\n",
    "    plot_cmap=True,\n",
    "    show_background=False,\n",
    "    dilation=10,\n",
    "    figsize=(12, 8),\n",
    ")"
   ]
  },
  {
   "cell_type": "code",
   "execution_count": null,
   "id": "a1f050c1-711e-4d08-9fa0-a48caeaabeae",
   "metadata": {},
   "outputs": [],
   "source": [
    "vmax = 9\n",
    "vmin = 3\n",
    "plot_edge_color_value(\n",
    "    exp,\n",
    "    t,\n",
    "    lambda edge: edge.width(t),\n",
    "    cmap=cm.get_cmap(\"cool\", 100),\n",
    "    nodes=nodes,\n",
    "    v_min=vmin,\n",
    "    v_max=vmax,\n",
    "    plot_cmap=True,\n",
    "    show_background=False,\n",
    "    dilation=10,\n",
    "    figsize=(12, 8),\n",
    ")"
   ]
  },
  {
   "cell_type": "code",
   "execution_count": null,
   "id": "45d5cf91-10b0-4ae8-a5f2-d70c2f94d172",
   "metadata": {},
   "outputs": [],
   "source": [
    "%matplotlib widget\n",
    "t = 0\n",
    "edges = get_all_edges(exp, t)\n",
    "nodes = get_all_nodes(exp, t)\n",
    "\n",
    "# edges_plot = [edge for edge in edges if edge.width(0) > 2]\n",
    "edges_plot = edges\n",
    "\n",
    "plot_full(\n",
    "    exp,\n",
    "    t,\n",
    "    downsizing=5,\n",
    "    edges=edges_plot,\n",
    "    # nodes = nodes,\n",
    "    dilation=4,\n",
    "    prettify=False,\n",
    "    figsize=(16, 12),\n",
    "    # dpi=390,\n",
    "    node_size=1.5,\n",
    "    # save_path=path,\n",
    ")"
   ]
  },
  {
   "cell_type": "code",
   "execution_count": null,
   "id": "63d2b177-4fdc-4b15-94f8-6f4e9a869071",
   "metadata": {
    "jupyter": {
     "outputs_hidden": true
    },
    "tags": []
   },
   "outputs": [],
   "source": [
    "from amftrack.pipeline.functions.image_processing.extract_width_fun import (\n",
    "    get_width_info,\n",
    "    get_width_info_new,\n",
    ")\n",
    "\n",
    "resolution = 10\n",
    "skip = False\n",
    "edge_test = get_width_info_new(exp, 0, resolution=resolution, skip=skip)"
   ]
  },
  {
   "cell_type": "code",
   "execution_count": null,
   "id": "d075242d-88f8-49d3-8ea9-26943964e950",
   "metadata": {},
   "outputs": [],
   "source": [
    "list(exp.nx_graph[0].nodes)[0]"
   ]
  },
  {
   "cell_type": "code",
   "execution_count": null,
   "id": "87455697-6e6b-46b2-962e-ed1312b48343",
   "metadata": {},
   "outputs": [],
   "source": [
    "%matplotlib widget\n",
    "t = 0\n",
    "edges = get_all_edges(exp, t)\n",
    "# edges_plot = [edge for edge in edges if edge.width(0) > 2]\n",
    "edges_plot = edges\n",
    "\n",
    "plot_full(\n",
    "    exp,\n",
    "    t,\n",
    "    downsizing=5,\n",
    "    edges=edges_plot,\n",
    "    dilation=4,\n",
    "    prettify=False,\n",
    "    figsize=(16, 12),\n",
    "    # dpi=390,\n",
    "    node_size=1.5,\n",
    "    # save_path=path,\n",
    ")"
   ]
  },
  {
   "cell_type": "code",
   "execution_count": null,
   "id": "7bd9e397-cc79-4766-a33f-d984bc7bf1e2",
   "metadata": {},
   "outputs": [],
   "source": [
    "vmax = 12\n",
    "vmin = 0\n",
    "plot_edge_color_value(\n",
    "    exp,\n",
    "    t,\n",
    "    lambda edge: edge.width(t),\n",
    "    cmap=cm.get_cmap(\"seismic\", 100),\n",
    "    v_min=vmin,\n",
    "    v_max=vmax,\n",
    "    plot_cmap=True,\n",
    "    show_background=False,\n",
    "    dilation=10,\n",
    "    figsize=(12, 8),\n",
    ")"
   ]
  },
  {
   "cell_type": "code",
   "execution_count": null,
   "id": "dbb33585-4be4-466c-b6b0-c7b3b2d3b304",
   "metadata": {},
   "outputs": [],
   "source": [
    "edges = get_all_edges(exp, t)"
   ]
  },
  {
   "cell_type": "code",
   "execution_count": null,
   "id": "13cfb2ef-a873-457f-a27d-9a90efa97e19",
   "metadata": {},
   "outputs": [],
   "source": [
    "lengths = [edge.length_um(t) for edge in edges]\n",
    "widths = [edge.width(t) for edge in edges]"
   ]
  },
  {
   "cell_type": "code",
   "execution_count": null,
   "id": "d6bf9171-d4da-4716-91ef-e3512e2598b6",
   "metadata": {},
   "outputs": [],
   "source": [
    "np.sum(lengths), np.sum([length for length in lengths if length < 100 / 1.725])"
   ]
  },
  {
   "cell_type": "code",
   "execution_count": null,
   "id": "68c1f0a2-03c5-4e26-8fce-b370a8d3124b",
   "metadata": {},
   "outputs": [],
   "source": [
    "fig, ax = plt.subplots()\n",
    "ax.hist(widths, weights=lengths)"
   ]
  },
  {
   "cell_type": "code",
   "execution_count": null,
   "id": "cb6c8d57-319e-4027-be74-ebaf53fb63a4",
   "metadata": {},
   "outputs": [],
   "source": [
    "i = 30\n",
    "folder_list = list(folders[\"folder\"])\n",
    "folder_list.sort()\n",
    "directory_name = folder_list[i]\n",
    "print(directory_name)\n",
    "run_back_sub(directory, directory_name)\n",
    "path_snap = os.path.join(directory, directory_name)\n",
    "path_tile = os.path.join(path_snap, \"Img/TileConfiguration.txt.registered\")\n",
    "try:\n",
    "    tileconfig = pd.read_table(\n",
    "        path_tile,\n",
    "        sep=\";\",\n",
    "        skiprows=4,\n",
    "        header=None,\n",
    "        converters={2: ast.literal_eval},\n",
    "        skipinitialspace=True,\n",
    "    )\n",
    "except:\n",
    "    print(\"error_name\")\n",
    "    path_tile = os.path.join(path_snap, \"Img/TileConfiguration.registered.txt\")\n",
    "    tileconfig = pd.read_table(\n",
    "        path_tile,\n",
    "        sep=\";\",\n",
    "        skiprows=4,\n",
    "        header=None,\n",
    "        converters={2: ast.literal_eval},\n",
    "        skipinitialspace=True,\n",
    "    )\n",
    "dirName = path_snap + \"/Analysis\"\n",
    "try:\n",
    "    os.mkdir(path_snap + \"/Analysis\")\n",
    "    print(\"Directory \", dirName, \" Created \")\n",
    "except FileExistsError:\n",
    "    print(\"Directory \", dirName, \" already exists\")\n",
    "t = time()\n",
    "xs = [c[0] for c in tileconfig[2]]\n",
    "ys = [c[1] for c in tileconfig[2]]\n",
    "name = tileconfig[0][0]\n",
    "imname = \"/Img3/\" + name.split(\"/\")[-1]\n",
    "im = imageio.imread(directory + directory_name + imname)\n",
    "dim = (\n",
    "    int(np.max(ys) - np.min(ys)) + max(im.shape),\n",
    "    int(np.max(xs) - np.min(xs)) + max(im.shape),\n",
    ")\n",
    "ims = []\n",
    "skel = np.zeros(dim, dtype=np.uint8)\n",
    "params = [30]"
   ]
  },
  {
   "cell_type": "code",
   "execution_count": null,
   "id": "5dabca19-c379-483b-9a73-83c55def776f",
   "metadata": {},
   "outputs": [],
   "source": [
    "j = 73\n",
    "\n",
    "for index, name in enumerate(tileconfig[0][j : j + 1]):\n",
    "    # for index, name in enumerate(list_debug):\n",
    "    print(name)\n",
    "    imname = \"/Img3/\" + name.split(\"/\")[-1]\n",
    "    im = imageio.imread(directory + directory_name + imname)\n",
    "    imname2 = \"/Img/\" + name.split(\"/\")[-1]\n",
    "    im2 = imageio.imread(directory + directory_name + imname2)\n",
    "    bowled2 = bowler_hat(-im2, 32, params)\n",
    "    im[bowled2 <= 0.09] = np.maximum(im[bowled2 <= 0.09], 250)\n",
    "    fig, ax = plt.subplots()\n",
    "    ax.imshow(im2, cmap=\"Greys\")\n",
    "    # shape = im.shape\n",
    "    # print(\"segmenting\")\n",
    "    # segmented = extract_skel_new_prince(im, [hyph_width], perc_low, perc_high)\n",
    "    # # low = np.percentile(-im+255, perc_low)\n",
    "    # # high = np.percentile(-im+255, perc_high)\n",
    "    # # segmented = filters.apply_hysteresis_threshold(-im+255, low, high)\n",
    "    # boundaries = int(tileconfig[2][index][0] - np.min(xs)), int(\n",
    "    #     tileconfig[2][index][1] - np.min(ys)\n",
    "    # )\n",
    "    # skel[\n",
    "    #     boundaries[1] : boundaries[1] + shape[0],\n",
    "    #     boundaries[0] : boundaries[0] + shape[1],\n",
    "    # ] += segmented"
   ]
  },
  {
   "cell_type": "code",
   "execution_count": null,
   "id": "b4e5f15b-bf05-46a5-8757-899abd45d220",
   "metadata": {},
   "outputs": [],
   "source": [
    "hyph_width = 30\n",
    "perc_low = 85\n",
    "perc_high = 99.5\n",
    "minlow = 10\n",
    "minhigh = 70\n",
    "connected = extract_skel_new_prince(\n",
    "    im, [hyph_width], perc_low, perc_high, minlow, minhigh\n",
    ")"
   ]
  },
  {
   "cell_type": "code",
   "execution_count": null,
   "id": "64549843-4746-48c5-82e8-00d969ac483a",
   "metadata": {},
   "outputs": [],
   "source": [
    "fig, ax = plt.subplots(1, 2, sharex=True, sharey=True, figsize=(8, 4))\n",
    "ax[0].imshow(im2)\n",
    "ax[1].imshow(connected)"
   ]
  },
  {
   "cell_type": "code",
   "execution_count": null,
   "id": "d080265e-b870-4b23-85dc-b30eeb6f9119",
   "metadata": {},
   "outputs": [],
   "source": [
    "from amftrack.pipeline.functions.image_processing.extract_skel import *\n",
    "\n",
    "hyph_width = 30\n",
    "perc_low = 93\n",
    "perc_high = 99.5\n",
    "bowled = bowler_hat(-im.astype(np.uint8), 32, params)\n",
    "filename = time_ns()\n",
    "place_save = temp_path\n",
    "to_smooth = np.minimum(bowled * 255, 255 - im)\n",
    "# to_smooth = 255-im\n",
    "imtransformed_path = f\"{place_save}/{filename}.tif\"\n",
    "imageio.imsave(imtransformed_path, to_smooth.astype(np.uint8))\n",
    "path_anis = pastis_path\n",
    "args = [0.1, 7, 0.9, 10, 50]\n",
    "command = [path_anis, imtransformed_path] + args\n",
    "command = [str(elem) for elem in command]\n",
    "print(\"anis filtering\")\n",
    "process = subprocess.run(command, cwd=place_save, stdout=subprocess.DEVNULL)\n",
    "foldname = f\"{filename}_ani-K{int(args[0]*10)}s{args[1]}g{int(args[2]*10)}itD{args[3]}\"\n",
    "imname = foldname + f\"/{foldname}it{args[4]}.tif\"\n",
    "path_modif = place_save + \"/\" + imname\n",
    "try:\n",
    "    im3 = imageio.imread(path_modif)\n",
    "except:\n",
    "    im3 = to_smooth.astype(np.uint8)\n",
    "print(\"image_reading\")\n",
    "# shutil.rmtree(os.path.join(place_save, foldname))\n",
    "low = max(20, np.percentile(im3, perc_low))\n",
    "high = max(90, np.percentile(im3, perc_high))\n",
    "transformed = im3\n",
    "hyst = filters.apply_hysteresis_threshold(transformed, low, high)\n",
    "dilated = remove_holes(hyst)\n",
    "dilated = dilated.astype(np.uint8)\n",
    "connected = remove_component(dilated)"
   ]
  },
  {
   "cell_type": "code",
   "execution_count": null,
   "id": "d637cd21-c5a3-441d-9046-a4b2fa3e5180",
   "metadata": {},
   "outputs": [],
   "source": [
    "fig, ax = plt.subplots(1, 3, sharex=True, sharey=True, figsize=(15, 8))\n",
    "ax[0].imshow(im2)\n",
    "ax[1].imshow(im3)\n",
    "ax[2].imshow(connected)"
   ]
  },
  {
   "cell_type": "code",
   "execution_count": null,
   "id": "e11f4de7-d16e-4fdc-83b4-9abd2555570d",
   "metadata": {},
   "outputs": [],
   "source": [
    "skeletonized = cv2.ximgproc.thinning(np.array(255 * (connected > 0), dtype=np.uint8))"
   ]
  },
  {
   "cell_type": "code",
   "execution_count": null,
   "id": "63f66710-c8f7-4a8d-82b3-76ca02a1a8ee",
   "metadata": {},
   "outputs": [],
   "source": [
    "import sys\n",
    "\n",
    "from scipy import sparse\n",
    "from pymatreader import read_mat\n",
    "\n",
    "from amftrack.util.sys import temp_path\n",
    "from amftrack.pipeline.functions.image_processing.extract_graph import (\n",
    "    from_sparse_to_graph,\n",
    "    generate_nx_graph,\n",
    "    clean_degree_4,\n",
    ")\n",
    "from amftrack.pipeline.functions.image_processing.node_id import remove_spurs\n",
    "import scipy.sparse\n",
    "import pickle\n",
    "import pandas as pd\n",
    "\n",
    "skeleton = scipy.sparse.dok_matrix(skeletonized)\n",
    "nx_graph, pos = generate_nx_graph(from_sparse_to_graph(skeleton))\n",
    "# Optional, to remove spurs\n",
    "nx_graph, pos = remove_spurs(nx_graph, pos)\n",
    "\n",
    "nx_graph_pruned = clean_degree_4(nx_graph, pos)[0]"
   ]
  }
 ],
 "metadata": {
  "kernelspec": {
   "display_name": "Python 3 (ipykernel)",
   "language": "python",
   "name": "python3"
  },
  "language_info": {
   "codemirror_mode": {
    "name": "ipython",
    "version": 3
   },
   "file_extension": ".py",
   "mimetype": "text/x-python",
   "name": "python",
   "nbconvert_exporter": "python",
   "pygments_lexer": "ipython3",
   "version": "3.7.13"
  }
 },
 "nbformat": 4,
 "nbformat_minor": 5
}

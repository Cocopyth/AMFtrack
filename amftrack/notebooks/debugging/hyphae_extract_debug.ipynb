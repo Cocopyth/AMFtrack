{
 "cells": [
  {
   "cell_type": "code",
   "execution_count": 1,
   "metadata": {},
   "outputs": [],
   "source": [
    "%matplotlib widget\n",
    "\n",
    "import os\n",
    "import sys\n",
    "\n",
    "sys.path.insert(0, os.getenv(\"HOME\") + \"/pycode/MscThesis/\")\n",
    "import pandas as pd\n",
    "from amftrack.util.sys import (\n",
    "    get_dates_datetime,\n",
    "    get_dirname,\n",
    "    temp_path,\n",
    "    get_plate_number,\n",
    "    get_postion_number,\n",
    "    get_begin_index,\n",
    ")\n",
    "import ast\n",
    "from amftrack.plotutil import plot_t_tp1\n",
    "from scipy import sparse\n",
    "from datetime import datetime\n",
    "from amftrack.pipeline.functions.node_id import orient\n",
    "import pickle\n",
    "import scipy.io as sio\n",
    "from pymatreader import read_mat\n",
    "from matplotlib import colors\n",
    "import cv2\n",
    "import imageio\n",
    "import matplotlib.pyplot as plt\n",
    "import numpy as np\n",
    "from skimage.filters import frangi\n",
    "from skimage import filters\n",
    "from random import choice\n",
    "import scipy.sparse\n",
    "import os\n",
    "from amftrack.pipeline.functions.extract_graph import (\n",
    "    from_sparse_to_graph,\n",
    "    generate_nx_graph,\n",
    "    sparse_to_doc,\n",
    ")\n",
    "from skimage.feature import hessian_matrix_det\n",
    "from amftrack.pipeline.functions.experiment_class_surf import (\n",
    "    Experiment,\n",
    "    Edge,\n",
    "    Node,\n",
    "    Hyphae,\n",
    "    plot_raw_plus,\n",
    "    get_hyphae,\n",
    ")\n",
    "from amftrack.pipeline.paths.directory import (\n",
    "    run_parallel,\n",
    "    find_state,\n",
    "    directory_scratch,\n",
    "    directory_project,\n",
    ")\n",
    "from amftrack.notebooks.analysis.util import *\n",
    "from scipy import stats\n",
    "from scipy.ndimage.filters import uniform_filter1d\n",
    "from statsmodels.stats import weightstats as stests\n",
    "from amftrack.pipeline.functions.hyphae_id_surf import (\n",
    "    get_pixel_growth_and_new_children,\n",
    "    resolve_ambiguity,\n",
    "    relabel_nodes_after_amb,\n",
    ")\n",
    "from collections import Counter\n",
    "from IPython.display import clear_output\n",
    "from amftrack.notebooks.analysis.data_info import *\n",
    "from amftrack.pipeline.functions.node_id import reconnect_degree_2\n",
    "from amftrack.pipeline.functions.extract_graph import (\n",
    "    generate_skeleton,\n",
    "    from_nx_to_tab,\n",
    "    prune_graph,\n",
    ")\n",
    "from amftrack.pipeline.functions.hyphae_id_surf import (\n",
    "    clean_and_relabel,\n",
    "    get_mother,\n",
    "    save_hyphaes,\n",
    "    resolve_ambiguity_two_ends,\n",
    "    clean_obvious_fake_tips,\n",
    "    width_based_cleaning,\n",
    ")\n",
    "from amftrack.pipeline.functions.experiment_class_surf import clean_exp_with_hyphaes"
   ]
  },
  {
   "cell_type": "code",
   "execution_count": 1,
   "metadata": {},
   "outputs": [
    {
     "ename": "NameError",
     "evalue": "name 'directory_project' is not defined",
     "output_type": "error",
     "traceback": [
      "\u001b[0;31m---------------------------------------------------------------------------\u001b[0m",
      "\u001b[0;31mNameError\u001b[0m                                 Traceback (most recent call last)",
      "\u001b[0;32m<ipython-input-1-57a407c69c8e>\u001b[0m in \u001b[0;36m<module>\u001b[0;34m\u001b[0m\n\u001b[0;32m----> 1\u001b[0;31m \u001b[0mdirectory\u001b[0m \u001b[0;34m=\u001b[0m \u001b[0mdirectory_project\u001b[0m\u001b[0;34m\u001b[0m\u001b[0;34m\u001b[0m\u001b[0m\n\u001b[0m\u001b[1;32m      2\u001b[0m \u001b[0mplate_number\u001b[0m \u001b[0;34m=\u001b[0m \u001b[0;36m102\u001b[0m\u001b[0;34m\u001b[0m\u001b[0;34m\u001b[0m\u001b[0m\n\u001b[1;32m      3\u001b[0m \u001b[0mplate\u001b[0m \u001b[0;34m=\u001b[0m \u001b[0mget_postion_number\u001b[0m\u001b[0;34m(\u001b[0m\u001b[0mplate_number\u001b[0m\u001b[0;34m)\u001b[0m\u001b[0;34m\u001b[0m\u001b[0;34m\u001b[0m\u001b[0m\n\u001b[1;32m      4\u001b[0m \u001b[0mbegin\u001b[0m \u001b[0;34m=\u001b[0m \u001b[0;36m262\u001b[0m\u001b[0;34m\u001b[0m\u001b[0;34m\u001b[0m\u001b[0m\n\u001b[1;32m      5\u001b[0m \u001b[0mend\u001b[0m \u001b[0;34m=\u001b[0m \u001b[0;36m287\u001b[0m\u001b[0;34m\u001b[0m\u001b[0;34m\u001b[0m\u001b[0m\n",
      "\u001b[0;31mNameError\u001b[0m: name 'directory_project' is not defined"
     ]
    }
   ],
   "source": [
    "directory = directory_project\n",
    "plate_number = 102\n",
    "plate = get_postion_number(plate_number)\n",
    "begin = 262\n",
    "end = 287\n",
    "dates_datetime = get_dates_datetime(directory, plate)\n",
    "dates = dates_datetime[begin : end + 1]\n",
    "exp = Experiment(plate, directory)\n",
    "exp.load(dates)  # for method 2"
   ]
  },
  {
   "cell_type": "code",
   "execution_count": 3,
   "metadata": {},
   "outputs": [],
   "source": [
    "exp.load_compressed_skel()"
   ]
  },
  {
   "cell_type": "code",
   "execution_count": 4,
   "metadata": {},
   "outputs": [
    {
     "name": "stdout",
     "output_type": "stream",
     "text": [
      "0.0\n",
      "0.14104372355430184\n",
      "0.2820874471086037\n",
      "0.4231311706629055\n",
      "0.5641748942172073\n",
      "0.7052186177715092\n",
      "0.846262341325811\n",
      "0.9873060648801129\n"
     ]
    }
   ],
   "source": [
    "experiment = exp\n",
    "exclude_bottom_factor = 0.98\n",
    "tips = [\n",
    "    node\n",
    "    for node in experiment.nodes\n",
    "    if node.degree(node.ts()[0]) == 1\n",
    "    and node.pos(node.ts()[0])[0] <= experiment.boundaries_x[1] * exclude_bottom_factor\n",
    "]\n",
    "problems2 = []\n",
    "problems = []\n",
    "\n",
    "hyphaes = []\n",
    "select = {}\n",
    "#     for i in range(20):\n",
    "for i, tip in enumerate(tips):\n",
    "    if i % 200 == 0:\n",
    "        print(i / len(tips))\n",
    "    #         tip = choice(tips)\n",
    "    hyphae = Hyphae(tip)\n",
    "    roots = []\n",
    "    for t in tip.ts():\n",
    "        #             print(t,tip)\n",
    "        if tip.degree(t) == 1:\n",
    "            root, edges, nodes = hyphae.get_edges(t, 200)\n",
    "            roots.append(root)\n",
    "    occurence_count = Counter(roots)\n",
    "    if len(occurence_count.values()) >= 2:\n",
    "        select[tip] = occurence_count\n",
    "    if (\n",
    "        len(occurence_count.values()) >= 2\n",
    "        and occurence_count.most_common(2)[0][0] != roots[0]\n",
    "        and occurence_count.most_common(2)[1][1] / occurence_count.most_common(2)[0][1]\n",
    "        >= 0.75\n",
    "    ):\n",
    "        problems2.append(tip)\n",
    "    else:\n",
    "        hyphae.root = occurence_count.most_common(2)[0][0]\n",
    "        if hyphae.root != roots[0]:\n",
    "            problems.append((tip, roots[0]))\n",
    "        hyphae.ts = sorted(set(hyphae.ts).intersection(set(hyphae.root.ts())))\n",
    "        hyphaes.append(hyphae)"
   ]
  },
  {
   "cell_type": "code",
   "execution_count": 38,
   "metadata": {},
   "outputs": [
    {
     "data": {
      "text/plain": [
       "131"
      ]
     },
     "execution_count": 38,
     "metadata": {},
     "output_type": "execute_result"
    }
   ],
   "source": [
    "len(problems)"
   ]
  },
  {
   "cell_type": "code",
   "execution_count": 43,
   "metadata": {},
   "outputs": [],
   "source": [
    "tip, root = choice(problems)"
   ]
  },
  {
   "cell_type": "code",
   "execution_count": 13,
   "metadata": {},
   "outputs": [
    {
     "data": {
      "text/plain": [
       "(1418, 384)"
      ]
     },
     "execution_count": 13,
     "metadata": {},
     "output_type": "execute_result"
    }
   ],
   "source": [
    "len(tips), len(select.keys())"
   ]
  },
  {
   "cell_type": "code",
   "execution_count": 35,
   "metadata": {},
   "outputs": [],
   "source": [
    "tips = select.keys()\n",
    "tip = choice(list(tips))"
   ]
  },
  {
   "cell_type": "code",
   "execution_count": 44,
   "metadata": {},
   "outputs": [
    {
     "data": {
      "text/plain": [
       "(Node(2184), Counter({Node(2183): 1, Node(1884): 2}), [13, 14, 15])"
      ]
     },
     "execution_count": 44,
     "metadata": {},
     "output_type": "execute_result"
    }
   ],
   "source": [
    "tip, select[tip], tip.ts()"
   ]
  },
  {
   "cell_type": "code",
   "execution_count": 45,
   "metadata": {},
   "outputs": [
    {
     "data": {
      "application/vnd.jupyter.widget-view+json": {
       "model_id": "815604200a6c4502a234b270ebad075b",
       "version_major": 2,
       "version_minor": 0
      },
      "text/plain": [
       "Canvas(toolbar=Toolbar(toolitems=[('Home', 'Reset original view', 'home', 'home'), ('Back', 'Back to previous …"
      ]
     },
     "metadata": {},
     "output_type": "display_data"
    }
   ],
   "source": [
    "plt.close(\"all\")\n",
    "plot_raw_plus(\n",
    "    exp, tip.ts()[0], [tip.label] + [node.label for node in select[tip].keys()]\n",
    ")"
   ]
  },
  {
   "cell_type": "code",
   "execution_count": 32,
   "metadata": {},
   "outputs": [
    {
     "data": {
      "application/vnd.jupyter.widget-view+json": {
       "model_id": "95ac105d0187416098da69bb098437fc",
       "version_major": 2,
       "version_minor": 0
      },
      "text/plain": [
       "Canvas(toolbar=Toolbar(toolitems=[('Home', 'Reset original view', 'home', 'home'), ('Back', 'Back to previous …"
      ]
     },
     "metadata": {},
     "output_type": "display_data"
    },
    {
     "ename": "IndexError",
     "evalue": "list index out of range",
     "output_type": "error",
     "traceback": [
      "\u001b[0;31m---------------------------------------------------------------------------\u001b[0m",
      "\u001b[0;31mIndexError\u001b[0m                                Traceback (most recent call last)",
      "\u001b[0;32m<ipython-input-32-aab7a0635820>\u001b[0m in \u001b[0;36m<module>\u001b[0;34m\u001b[0m\n\u001b[0;32m----> 1\u001b[0;31m \u001b[0mexp\u001b[0m\u001b[0;34m.\u001b[0m\u001b[0mplot\u001b[0m\u001b[0;34m(\u001b[0m\u001b[0;34m[\u001b[0m\u001b[0mtip\u001b[0m\u001b[0;34m.\u001b[0m\u001b[0mts\u001b[0m\u001b[0;34m(\u001b[0m\u001b[0;34m)\u001b[0m\u001b[0;34m[\u001b[0m\u001b[0;36m0\u001b[0m\u001b[0;34m]\u001b[0m\u001b[0;34m+\u001b[0m\u001b[0;36m2\u001b[0m\u001b[0;34m,\u001b[0m\u001b[0mtip\u001b[0m\u001b[0;34m.\u001b[0m\u001b[0mts\u001b[0m\u001b[0;34m(\u001b[0m\u001b[0;34m)\u001b[0m\u001b[0;34m[\u001b[0m\u001b[0;36m0\u001b[0m\u001b[0;34m]\u001b[0m\u001b[0;34m+\u001b[0m\u001b[0;36m3\u001b[0m\u001b[0;34m]\u001b[0m\u001b[0;34m,\u001b[0m\u001b[0;34m[\u001b[0m\u001b[0;34m[\u001b[0m\u001b[0mtip\u001b[0m\u001b[0;34m.\u001b[0m\u001b[0mlabel\u001b[0m\u001b[0;34m]\u001b[0m\u001b[0;34m+\u001b[0m\u001b[0;34m[\u001b[0m\u001b[0mnode\u001b[0m\u001b[0;34m.\u001b[0m\u001b[0mlabel\u001b[0m \u001b[0;32mfor\u001b[0m \u001b[0mnode\u001b[0m \u001b[0;32min\u001b[0m \u001b[0mselect\u001b[0m\u001b[0;34m[\u001b[0m\u001b[0mtip\u001b[0m\u001b[0;34m]\u001b[0m\u001b[0;34m.\u001b[0m\u001b[0mkeys\u001b[0m\u001b[0;34m(\u001b[0m\u001b[0;34m)\u001b[0m\u001b[0;34m]\u001b[0m\u001b[0;34m]\u001b[0m\u001b[0;34m*\u001b[0m\u001b[0;36m2\u001b[0m\u001b[0;34m)\u001b[0m\u001b[0;34m\u001b[0m\u001b[0;34m\u001b[0m\u001b[0m\n\u001b[0m",
      "\u001b[0;32m~/pycode/MscThesis/amftrack/pipeline/functions/experiment_class_surf.py\u001b[0m in \u001b[0;36mplot\u001b[0;34m(self, ts, node_lists, shift, compress, save, time)\u001b[0m\n\u001b[1;32m    267\u001b[0m             \u001b[0mcompressed_images\u001b[0m \u001b[0;34m=\u001b[0m \u001b[0;34m[\u001b[0m\u001b[0;34m]\u001b[0m\u001b[0;34m\u001b[0m\u001b[0;34m\u001b[0m\u001b[0m\n\u001b[1;32m    268\u001b[0m             \u001b[0;32mfor\u001b[0m \u001b[0mi\u001b[0m\u001b[0;34m,\u001b[0m \u001b[0mt\u001b[0m \u001b[0;32min\u001b[0m \u001b[0menumerate\u001b[0m\u001b[0;34m(\u001b[0m\u001b[0mts\u001b[0m\u001b[0;34m)\u001b[0m\u001b[0;34m:\u001b[0m\u001b[0;34m\u001b[0m\u001b[0;34m\u001b[0m\u001b[0m\n\u001b[0;32m--> 269\u001b[0;31m                 \u001b[0mcompressed_images\u001b[0m\u001b[0;34m.\u001b[0m\u001b[0mappend\u001b[0m\u001b[0;34m(\u001b[0m\u001b[0mself\u001b[0m\u001b[0;34m.\u001b[0m\u001b[0mcompressed\u001b[0m\u001b[0;34m[\u001b[0m\u001b[0mt\u001b[0m\u001b[0;34m]\u001b[0m\u001b[0;34m)\u001b[0m\u001b[0;34m\u001b[0m\u001b[0;34m\u001b[0m\u001b[0m\n\u001b[0m\u001b[1;32m    270\u001b[0m         \u001b[0mvisibility\u001b[0m \u001b[0;34m=\u001b[0m \u001b[0;34m[\u001b[0m\u001b[0;32mTrue\u001b[0m \u001b[0;32mfor\u001b[0m \u001b[0mt\u001b[0m \u001b[0;32min\u001b[0m \u001b[0mts\u001b[0m\u001b[0;34m]\u001b[0m\u001b[0;34m\u001b[0m\u001b[0;34m\u001b[0m\u001b[0m\n\u001b[1;32m    271\u001b[0m         \u001b[0mfinal_image\u001b[0m \u001b[0;34m=\u001b[0m \u001b[0mscale\u001b[0m \u001b[0;34m*\u001b[0m \u001b[0mcompressed_images\u001b[0m\u001b[0;34m[\u001b[0m\u001b[0;36m0\u001b[0m\u001b[0;34m]\u001b[0m \u001b[0;34m*\u001b[0m \u001b[0mvisibility\u001b[0m\u001b[0;34m[\u001b[0m\u001b[0;36m0\u001b[0m\u001b[0;34m]\u001b[0m\u001b[0;34m\u001b[0m\u001b[0;34m\u001b[0m\u001b[0m\n",
      "\u001b[0;31mIndexError\u001b[0m: list index out of range"
     ]
    }
   ],
   "source": [
    "exp.plot([tip.ts()[0] + 2], [[tip.label] + [node.label for node in select[tip].keys()]])"
   ]
  },
  {
   "cell_type": "code",
   "execution_count": 64,
   "metadata": {},
   "outputs": [
    {
     "name": "stdout",
     "output_type": "stream",
     "text": [
      "0.0\n",
      "0.02884338044418806\n",
      "0.05768676088837612\n",
      "0.08653014133256418\n",
      "0.11537352177675224\n",
      "0.1442169022209403\n",
      "0.17306028266512835\n",
      "0.2019036631093164\n",
      "0.23074704355350448\n",
      "0.25959042399769255\n",
      "0.2884338044418806\n",
      "0.31727718488606865\n",
      "0.3461205653302567\n",
      "0.37496394577444475\n",
      "0.4038073262186328\n",
      "0.4326507066628209\n",
      "0.46149408710700895\n",
      "0.490337467551197\n",
      "0.5191808479953851\n",
      "0.5480242284395731\n",
      "0.5768676088837612\n",
      "0.6057109893279492\n",
      "0.6345543697721373\n",
      "0.6633977502163253\n",
      "0.6922411306605134\n",
      "0.7210845111047015\n",
      "0.7499278915488895\n",
      "0.7787712719930776\n",
      "0.8076146524372656\n",
      "0.8364580328814537\n",
      "0.8653014133256418\n",
      "0.8941447937698298\n",
      "0.9229881742140179\n",
      "0.9518315546582059\n",
      "0.980674935102394\n",
      "Detected problems during hyphae detection, 80 hyphaes have inconsistent root over time\n"
     ]
    }
   ],
   "source": [
    "experiment = exp\n",
    "ts = {}\n",
    "nx_graph_cleans = [nx.Graph.copy(nx_g) for nx_g in experiment.nx_graph]\n",
    "exp_clean = experiment\n",
    "labels = {node for g in exp_clean.nx_graph for node in g}\n",
    "exp_clean.nodes = []\n",
    "for label in labels:\n",
    "    exp_clean.nodes.append(Node(label, exp_clean))\n",
    "for node in exp_clean.nodes:\n",
    "    ts[node.label] = []\n",
    "    for t in range(len(nx_graph_cleans)):\n",
    "        if node.is_in(t):\n",
    "            ts[node.label].append(t)\n",
    "hyphaes, problems = get_hyphae(exp_clean)"
   ]
  },
  {
   "cell_type": "code",
   "execution_count": 27,
   "metadata": {},
   "outputs": [],
   "source": [
    "exp_clean.load_compressed_skel()"
   ]
  },
  {
   "cell_type": "code",
   "execution_count": 65,
   "metadata": {},
   "outputs": [
    {
     "name": "stdout",
     "output_type": "stream",
     "text": [
      "removing  1456  nodes out of 16096 because they appear only in one timestep and are not within an identified hypha\n",
      "[0.591831, 0.923236]\n",
      "[0.705595, 1.041964]\n",
      "[1.009608, 0.731445]\n",
      "[1.7765, 1.458858]\n",
      "[2.022328, 0.791296]\n",
      "[4.224256, 0.883864]\n",
      "[8.69064, 0.5647]\n",
      "[14.173199, 0.436254]\n",
      "[29.46564, 0.824076]\n",
      "[43.285973]\n",
      "[66.725277, 0.918873]\n",
      "[93.80395]\n",
      "[132.07266, 0.586922]\n",
      "[188.26414, 0.487188]\n",
      "[236.985742, 1.92942]\n",
      "[359.584862, 0.835185]\n",
      "[486.882388]\n",
      "[626.062252, 0.80289]\n",
      "[845.03342, 0.918932]\n",
      "[1062.326034]\n",
      "[1349.075964, 0.694512]\n",
      "[1624.420581, 1.366316]\n",
      "[1866.459474, 0.486438, 0.477554, 0.705888]\n",
      "[2376.112924, 0.825045, 1.06455, 0.395752]\n",
      "[3076.835385, 1.902133, 1.555987]\n",
      "[3732.101802, 2.168316]\n"
     ]
    }
   ],
   "source": [
    "to_remove = []\n",
    "safe_nodes = set()\n",
    "roots = set()\n",
    "tips = set()\n",
    "to_remove_hyphae = set()\n",
    "for hyphae in hyphaes:\n",
    "    roots.add(hyphae.root.label)\n",
    "    tips.add(hyphae.end.label)\n",
    "    for t in hyphae.end.ts():\n",
    "        if t in hyphae.root.ts():\n",
    "            try:\n",
    "                for node in hyphae.get_nodes_within(t)[0]:\n",
    "                    safe_nodes.add(node)\n",
    "            except nx.exception.NetworkXNoPath:\n",
    "                to_remove_hyphae.add(hyphae)\n",
    "                print(\n",
    "                    f\"error for hyphae {hyphae} on position {hyphae.end.pos(t),hyphae.root.pos(t)}\"\n",
    "                )\n",
    "for hyphae in to_remove_hyphae:\n",
    "    hyphaes.remove(hyphae)\n",
    "for node in experiment.nodes:\n",
    "    posit = node.pos(ts[node.label][0])\n",
    "    if (\n",
    "        len(ts[node.label]) == 1\n",
    "        and ts[node.label][0] != len(exp_clean.nx_graph) - 1\n",
    "        and node.label not in safe_nodes\n",
    "    ):\n",
    "        to_remove.append(node.label)\n",
    "#     return(to_remove)\n",
    "print(\n",
    "    \"removing \",\n",
    "    len(to_remove),\n",
    "    f\" nodes out of {len(exp_clean.nodes)} because they appear only in one timestep and are not within an identified hypha\",\n",
    ")\n",
    "# for node in to_remove:\n",
    "#     t = ts[node][0]\n",
    "#     pos = exp_clean.positions[t]\n",
    "#     nx_graph_clean = nx_graph_cleans[t]\n",
    "#     if nx_graph_clean.degree(node) <= 2:\n",
    "#         continue\n",
    "#     #         print('cleaning',node)\n",
    "#     neighbours = list(nx_graph_clean.neighbors(node))\n",
    "#     candidate_to_fuse = []\n",
    "#     weight_candidate = []\n",
    "#     for neighbour in neighbours:\n",
    "#         if nx_graph_clean.degree(neighbour) >= 3:\n",
    "#             candidate_to_fuse.append(neighbour)\n",
    "#             weight_candidate.append(\n",
    "#                 len(nx_graph_clean.get_edge_data(node, neighbour)[\"pixel_list\"])\n",
    "#                 - 100 * (neighbour in roots)\n",
    "#                 - 100 * (neighbour in tips)\n",
    "#             )\n",
    "#     if len(weight_candidate) == 0:\n",
    "#         continue\n",
    "#     node_to_fuse = candidate_to_fuse[np.argmin(weight_candidate)]\n",
    "#     if nx_graph_clean.degree(node) == 1 and node_to_fuse not in to_remove:\n",
    "#         print(pos[node])\n",
    "#         continue\n",
    "#     for neighbour in neighbours:\n",
    "#         right_n = node_to_fuse\n",
    "#         left_n = neighbour\n",
    "#         right_edge = nx_graph_clean.get_edge_data(node, right_n)[\"pixel_list\"]\n",
    "#         left_edge = nx_graph_clean.get_edge_data(node, left_n)[\"pixel_list\"]\n",
    "#         right_edge_width = nx_graph_clean.get_edge_data(node, right_n)[\"width\"]\n",
    "#         left_edge_width = nx_graph_clean.get_edge_data(node, left_n)[\"width\"]\n",
    "#         if np.any(right_edge[0] != pos[node]):\n",
    "#             right_edge = list(reversed(right_edge))\n",
    "#         if np.any(left_edge[-1] != pos[node]):\n",
    "#             left_edge = list(reversed(left_edge))\n",
    "#         pixel_list = left_edge + right_edge[1:]\n",
    "#         width_new = (right_edge_width*len(right_edge)+left_edge_width*len(left_edge))/(len(right_edge)+len(left_edge))\n",
    "# #             print(width_new)\n",
    "#         info = {\"weight\": len(pixel_list), \"pixel_list\": pixel_list, \"width\" : width_new}\n",
    "#         if right_n != left_n:\n",
    "#             connection_data = nx_graph_clean.get_edge_data(right_n, left_n)\n",
    "#             if (\n",
    "#                 connection_data is None\n",
    "#                 or connection_data[\"weight\"] >= info[\"weight\"]\n",
    "#             ):\n",
    "#                 if not connection_data is None:\n",
    "#                     nx_graph_clean.remove_edge(right_n, left_n)\n",
    "#                 nx_graph_clean.add_edges_from([(right_n, left_n, info)])\n",
    "#     nx_graph_clean.remove_node(node)\n",
    "#     nx_graph_cleans[t] = nx_graph_clean\n",
    "for t, nx_graph in enumerate(nx_graph_cleans):\n",
    "    pos = exp_clean.positions[t]\n",
    "    reconnect_degree_2(nx_graph, pos)\n",
    "nx_graph_pruned = []\n",
    "for graph in nx_graph_cleans:\n",
    "    nx_graph_pruned.append(prune_graph(graph, 0.1))\n",
    "# skeletons = []\n",
    "# for nx_graph in nx_graph_pruned:\n",
    "#     skeletons.append(generate_skeleton(nx_graph, dim=(30000, 60000)))\n",
    "exp_clean.nx_graph = nx_graph_pruned\n",
    "# exp_clean.skeletons = skeletons\n",
    "labels = {node for g in exp_clean.nx_graph for node in g}\n",
    "exp_clean.nodes = []\n",
    "for hyphae in hyphaes:\n",
    "    hyphae.update_ts()\n",
    "to_remove_hyphae = set()\n",
    "for hyphae in hyphaes:\n",
    "    for t in hyphae.end.ts():\n",
    "        if t in hyphae.root.ts():\n",
    "            try:\n",
    "                hyphae.get_nodes_within(t)[0]\n",
    "            except nx.exception.NetworkXNoPath:\n",
    "                to_remove_hyphae.add(hyphae)\n",
    "                print(\n",
    "                    f\"error for hyphae {hyphae} on position {hyphae.end.pos(t),hyphae.root.pos(t)}\"\n",
    "                )\n",
    "for hyphae in to_remove_hyphae:\n",
    "    hyphaes.remove(hyphae)\n",
    "exp_clean.hyphaes = hyphaes\n",
    "for label in labels:\n",
    "    exp_clean.nodes.append(Node(label, exp_clean))"
   ]
  },
  {
   "cell_type": "code",
   "execution_count": 24,
   "metadata": {},
   "outputs": [
    {
     "data": {
      "application/vnd.jupyter.widget-view+json": {
       "model_id": "65f4f34b8c334d2eb9ff04434adfc9f4",
       "version_major": 2,
       "version_minor": 0
      },
      "text/plain": [
       "Canvas(toolbar=Toolbar(toolitems=[('Home', 'Reset original view', 'home', 'home'), ('Back', 'Back to previous …"
      ]
     },
     "metadata": {},
     "output_type": "display_data"
    }
   ],
   "source": [
    "plt.close(\"all\")\n",
    "node_problem = choice(to_remove)\n",
    "t = ts[node_problem][0]\n",
    "exp.plot([t], [[node_problem]])"
   ]
  },
  {
   "cell_type": "code",
   "execution_count": 25,
   "metadata": {},
   "outputs": [
    {
     "data": {
      "application/vnd.jupyter.widget-view+json": {
       "model_id": "9b387399d5894c44bf1ed59e7c2235a7",
       "version_major": 2,
       "version_minor": 0
      },
      "text/plain": [
       "Canvas(toolbar=Toolbar(toolitems=[('Home', 'Reset original view', 'home', 'home'), ('Back', 'Back to previous …"
      ]
     },
     "metadata": {},
     "output_type": "display_data"
    }
   ],
   "source": [
    "plot_raw_plus(exp, t, [node_problem])"
   ]
  },
  {
   "cell_type": "code",
   "execution_count": 25,
   "metadata": {},
   "outputs": [],
   "source": [
    "exp.hyphaes = hyphaes"
   ]
  },
  {
   "cell_type": "code",
   "execution_count": 6,
   "metadata": {},
   "outputs": [],
   "source": [
    "equ_class, ambig, connection = resolve_ambiguity(exp_clean.hyphaes)\n",
    "new_graph, newposs = relabel_nodes_after_amb(\n",
    "    connection, exp_clean.nx_graph, exp_clean.positions\n",
    ")"
   ]
  },
  {
   "cell_type": "code",
   "execution_count": 7,
   "metadata": {},
   "outputs": [],
   "source": [
    "exp_clean.nx_graph = new_graph\n",
    "exp_clean.positions = newposs\n",
    "exp_clean.nodes = []"
   ]
  },
  {
   "cell_type": "code",
   "execution_count": 12,
   "metadata": {},
   "outputs": [],
   "source": [
    "problems = []\n",
    "for hyph in exp_clean.hyphaes:\n",
    "    roots = []\n",
    "    hyph = hyph\n",
    "    tip = hyph.end\n",
    "    for t in tip.ts():\n",
    "        #             print(t,tip)\n",
    "        if tip.degree(t) == 1:\n",
    "            root, edges, nodes = hyph.get_edges(t, 200)\n",
    "            roots.append(root)\n",
    "    occurence_count = Counter(roots)\n",
    "    if len(tip.ts()) > 0 and occurence_count.most_common(2)[0][0] != hyph.root:\n",
    "        problems.append(hyph)"
   ]
  },
  {
   "cell_type": "code",
   "execution_count": 13,
   "metadata": {},
   "outputs": [
    {
     "data": {
      "text/plain": [
       "903"
      ]
     },
     "execution_count": 13,
     "metadata": {},
     "output_type": "execute_result"
    }
   ],
   "source": [
    "len(problems)"
   ]
  },
  {
   "cell_type": "code",
   "execution_count": 11,
   "metadata": {},
   "outputs": [
    {
     "name": "stdout",
     "output_type": "stream",
     "text": [
      "978 hyphae with two ends have been detected\n",
      "Among the 6854, 966 hyphaes had two real ends, 690 ambiguity were solved by finding a degree 4 node\n"
     ]
    }
   ],
   "source": [
    "solve_two_ends = resolve_ambiguity_two_ends(exp_clean.hyphaes)"
   ]
  },
  {
   "cell_type": "code",
   "execution_count": 19,
   "metadata": {},
   "outputs": [],
   "source": [
    "hyphae_two_ends = [hyph for hyph in exp.hyphaes if hyph.root.degree(hyph.ts[0]) == 1]"
   ]
  },
  {
   "cell_type": "code",
   "execution_count": 20,
   "metadata": {},
   "outputs": [
    {
     "data": {
      "text/plain": [
       "978"
      ]
     },
     "execution_count": 20,
     "metadata": {},
     "output_type": "execute_result"
    }
   ],
   "source": [
    "len(hyphae_two_ends)"
   ]
  },
  {
   "cell_type": "code",
   "execution_count": 34,
   "metadata": {},
   "outputs": [
    {
     "data": {
      "text/plain": [
       "1"
      ]
     },
     "execution_count": 34,
     "metadata": {},
     "output_type": "execute_result"
    }
   ],
   "source": [
    "hyphae = choice(hyphae_two_ends)\n",
    "hyphae.root.degree(hyphae.ts[0])"
   ]
  },
  {
   "cell_type": "code",
   "execution_count": 35,
   "metadata": {},
   "outputs": [
    {
     "data": {
      "application/vnd.jupyter.widget-view+json": {
       "model_id": "7345dbaf896c4986bbe811ac92d5f67e",
       "version_major": 2,
       "version_minor": 0
      },
      "text/plain": [
       "Canvas(toolbar=Toolbar(toolitems=[('Home', 'Reset original view', 'home', 'home'), ('Back', 'Back to previous …"
      ]
     },
     "metadata": {},
     "output_type": "display_data"
    }
   ],
   "source": [
    "plt.close(\"all\")\n",
    "t0 = hyphae.ts[0]\n",
    "plot_raw_plus(exp, t0, [hyphae.end.label, hyphae.root.label])"
   ]
  },
  {
   "cell_type": "code",
   "execution_count": 36,
   "metadata": {},
   "outputs": [
    {
     "data": {
      "application/vnd.jupyter.widget-view+json": {
       "model_id": "56b0f3915b3f4a57900e481b027c2cf3",
       "version_major": 2,
       "version_minor": 0
      },
      "text/plain": [
       "Canvas(toolbar=Toolbar(toolitems=[('Home', 'Reset original view', 'home', 'home'), ('Back', 'Back to previous …"
      ]
     },
     "metadata": {},
     "output_type": "display_data"
    }
   ],
   "source": [
    "exp_clean.plot([t0], [[hyphae.end.label, hyphae.root.label]])"
   ]
  },
  {
   "cell_type": "code",
   "execution_count": 18,
   "metadata": {},
   "outputs": [
    {
     "name": "stdout",
     "output_type": "stream",
     "text": [
      "0.0\n",
      "0.02884338044418806\n",
      "0.05768676088837612\n",
      "0.08653014133256418\n",
      "0.11537352177675224\n",
      "0.1442169022209403\n",
      "0.17306028266512835\n",
      "0.2019036631093164\n",
      "0.23074704355350448\n",
      "0.25959042399769255\n",
      "0.2884338044418806\n",
      "0.31727718488606865\n",
      "0.3461205653302567\n",
      "0.37496394577444475\n",
      "0.4038073262186328\n",
      "0.4326507066628209\n",
      "0.46149408710700895\n",
      "0.490337467551197\n",
      "0.5191808479953851\n",
      "0.5480242284395731\n",
      "0.5768676088837612\n",
      "0.6057109893279492\n",
      "0.6345543697721373\n",
      "0.6633977502163253\n",
      "0.6922411306605134\n",
      "0.7210845111047015\n",
      "0.7499278915488895\n",
      "0.7787712719930776\n",
      "0.8076146524372656\n",
      "0.8364580328814537\n",
      "0.8653014133256418\n",
      "0.8941447937698298\n",
      "0.9229881742140179\n",
      "0.9518315546582059\n",
      "0.980674935102394\n",
      "Detected problems during hyphae detection, 80 hyphaes have inconsistent root over time\n",
      "removing  1456  nodes out of 16096 because they appear only in one timestep and are not within an identified hypha\n",
      "[0.591831, 0.923236]\n",
      "[0.705595, 1.041964]\n",
      "[1.009608, 0.731445]\n",
      "[1.7765, 1.458858]\n",
      "[2.022328, 0.791296]\n",
      "[4.224256, 0.883864]\n",
      "[8.69064, 0.5647]\n",
      "[14.173199, 0.436254]\n",
      "[29.46564, 0.824076]\n",
      "[43.285973]\n",
      "[66.725277, 0.918873]\n",
      "[93.80395]\n",
      "[132.07266, 0.586922]\n",
      "[188.26414, 0.487188]\n",
      "[236.985742, 1.92942]\n",
      "[359.584862, 0.835185]\n",
      "[486.882388]\n",
      "[626.062252, 0.80289]\n",
      "[845.03342, 0.918932]\n",
      "[1062.326034]\n",
      "[1349.075964, 0.694512]\n",
      "[1624.420581, 1.366316]\n",
      "[1866.459474, 0.486438, 0.477554, 0.705888]\n",
      "[2376.112924, 0.825045, 1.06455, 0.395752]\n",
      "[3076.835385, 1.902133, 1.555987]\n",
      "[3732.101802, 2.168316]\n"
     ]
    }
   ],
   "source": [
    "exp_clean = clean_exp_with_hyphaes(exp)"
   ]
  },
  {
   "cell_type": "code",
   "execution_count": 28,
   "metadata": {},
   "outputs": [
    {
     "data": {
      "text/plain": [
       "6854"
      ]
     },
     "execution_count": 28,
     "metadata": {},
     "output_type": "execute_result"
    }
   ],
   "source": [
    "len(hyphaes)"
   ]
  }
 ],
 "metadata": {
  "kernelspec": {
   "display_name": "Python 3 (ipykernel)",
   "language": "python",
   "name": "python3"
  },
  "language_info": {
   "codemirror_mode": {
    "name": "ipython",
    "version": 3
   },
   "file_extension": ".py",
   "mimetype": "text/x-python",
   "name": "python",
   "nbconvert_exporter": "python",
   "pygments_lexer": "ipython3",
   "version": "3.7.11"
  }
 },
 "nbformat": 4,
 "nbformat_minor": 4
}

{
 "cells": [
  {
   "cell_type": "code",
   "execution_count": 1,
   "metadata": {},
   "outputs": [],
   "source": [
    "%matplotlib widget\n",
    "\n",
    "import os  \n",
    "import sys  \n",
    "sys.path.insert(0, os.getenv('HOME')+'/pycode/MscThesis/')\n",
    "import pandas as pd\n",
    "from amftrack.util.sys import get_dates_datetime, get_dirname, temp_path, get_plate_number, get_postion_number,get_begin_index\n",
    "import ast\n",
    "from amftrack.plotutil import plot_t_tp1\n",
    "from scipy import sparse\n",
    "from datetime import datetime\n",
    "from amftrack.pipeline.functions.node_id import orient\n",
    "import pickle\n",
    "import scipy.io as sio\n",
    "from pymatreader import read_mat\n",
    "from matplotlib import colors\n",
    "import cv2\n",
    "import imageio\n",
    "import matplotlib.pyplot as plt\n",
    "import numpy as np\n",
    "from skimage.filters import frangi\n",
    "from skimage import filters\n",
    "from random import choice\n",
    "import scipy.sparse\n",
    "import os\n",
    "from amftrack.pipeline.functions.extract_graph import from_sparse_to_graph, generate_nx_graph, sparse_to_doc\n",
    "from skimage.feature import hessian_matrix_det\n",
    "from amftrack.pipeline.functions.experiment_class_surf import Experiment, Edge, Node, Hyphae, plot_raw_plus, get_hyphae\n",
    "from amftrack.pipeline.paths.directory import run_parallel, find_state, directory_scratch, directory_project\n",
    "from amftrack.notebooks.analysis.util import *\n",
    "from scipy import stats\n",
    "from scipy.ndimage.filters import uniform_filter1d\n",
    "from statsmodels.stats import weightstats as stests\n",
    "from amftrack.pipeline.functions.hyphae_id_surf import get_pixel_growth_and_new_children, resolve_ambiguity, relabel_nodes_after_amb\n",
    "from collections import Counter\n",
    "from IPython.display import clear_output\n",
    "from amftrack.notebooks.analysis.data_info import *\n",
    "from amftrack.pipeline.functions.node_id import reconnect_degree_2\n",
    "from amftrack.pipeline.functions.extract_graph import (\n",
    "    generate_skeleton,\n",
    "    from_nx_to_tab,\n",
    "    prune_graph\n",
    ")\n",
    "\n",
    "from amftrack.pipeline.functions.hyphae_id_surf import (\n",
    "    clean_and_relabel,\n",
    "    get_mother,\n",
    "    save_hyphaes,\n",
    "    resolve_ambiguity_two_ends,\n",
    "    clean_obvious_fake_tips,\n",
    "    width_based_cleaning\n",
    ")\n",
    "from amftrack.pipeline.functions.experiment_class_surf import clean_exp_with_hyphaes\n",
    "from scipy.ndimage import gaussian_filter\n",
    "from scipy import ndimage\n",
    "from scipy.optimize import curve_fit\n",
    "from shapely.geometry import Polygon, shape\n",
    "%matplotlib widget\n",
    "\n",
    "import os  \n",
    "import sys  \n",
    "sys.path.insert(0, os.getenv('HOME')+'/pycode/MscThesis/')\n",
    "import pandas as pd\n",
    "from amftrack.util.sys import get_dates_datetime, get_dirname, temp_path, get_plate_number, get_postion_number,get_begin_index\n",
    "import ast\n",
    "from amftrack.plotutil import plot_t_tp1\n",
    "from scipy import sparse\n",
    "from datetime import datetime\n",
    "from amftrack.pipeline.functions.node_id import orient\n",
    "import pickle\n",
    "import scipy.io as sio\n",
    "from pymatreader import read_mat\n",
    "from matplotlib import colors\n",
    "import cv2\n",
    "import imageio\n",
    "import matplotlib.pyplot as plt\n",
    "import numpy as np\n",
    "from skimage.filters import frangi\n",
    "from skimage import filters\n",
    "from random import choice\n",
    "import scipy.sparse\n",
    "import os\n",
    "from amftrack.pipeline.functions.extract_graph import from_sparse_to_graph, generate_nx_graph, sparse_to_doc\n",
    "from skimage.feature import hessian_matrix_det\n",
    "from amftrack.pipeline.functions.experiment_class_surf import Experiment, Edge, Node, Hyphae, plot_raw_plus, get_hyphae\n",
    "from amftrack.pipeline.paths.directory import run_parallel, find_state, directory_scratch, directory_project\n",
    "from amftrack.notebooks.analysis.util import *\n",
    "from scipy import stats\n",
    "from scipy.ndimage.filters import uniform_filter1d\n",
    "from statsmodels.stats import weightstats as stests\n",
    "from amftrack.pipeline.functions.hyphae_id_surf import get_pixel_growth_and_new_children, resolve_ambiguity, relabel_nodes_after_amb\n",
    "from collections import Counter\n",
    "from IPython.display import clear_output\n",
    "from amftrack.notebooks.analysis.data_info import *\n",
    "from amftrack.pipeline.functions.node_id import reconnect_degree_2\n",
    "from amftrack.pipeline.functions.extract_graph import (\n",
    "    generate_skeleton,\n",
    "    from_nx_to_tab,\n",
    "    prune_graph\n",
    ")\n",
    "\n",
    "from amftrack.pipeline.functions.hyphae_id_surf import (\n",
    "    clean_and_relabel,\n",
    "    get_mother,\n",
    "    save_hyphaes,\n",
    "    resolve_ambiguity_two_ends,\n",
    "    clean_obvious_fake_tips,\n",
    "    width_based_cleaning\n",
    ")\n",
    "from amftrack.pipeline.functions.experiment_class_surf import clean_exp_with_hyphaes\n",
    "from scipy.ndimage import gaussian_filter\n",
    "from scipy import ndimage\n",
    "from scipy.optimize import curve_fit\n",
    "from shapely.geometry import Polygon, shape\n",
    "directory = directory_project\n",
    "plate_number =94\n",
    "plate = get_postion_number(plate_number)\n",
    "begin =269\n",
    "end = 339\n",
    "dates_datetime = get_dates_datetime(directory,plate)\n",
    "dates = dates_datetime[begin:end+1]\n",
    "exp = Experiment(plate,directory)\n",
    "exp.load(dates) #for method 2\n",
    "lengths = [get_length(exp,t) for t in range(exp.ts)]\n",
    "times = [get_time(exp,0,t) for t in range(exp.ts)]\n",
    "lengths = np.array(lengths)\n",
    "times = np.array(times)\n",
    "areas = []   \n",
    "for t in range(exp.ts):\n",
    "    nodes = np.array([node.pos(t) for node in exp.nodes if node.is_in(t)])\n",
    "    hull=scipy.spatial.ConvexHull(nodes)\n",
    "    poly = Polygon([nodes[vertice] for vertice in hull.vertices])\n",
    "    areas.append(poly.area* 1.725**2/(1000**2))\n",
    "areas = np.array(areas)\n",
    "speeds = (lengths[1:]-lengths[:-1])/(times[1:]-times[:-1])\n",
    "speeds_area = (areas[1:]-areas[:-1])/(times[1:]-times[:-1])\n",
    "\n",
    "end = 30\n",
    "begin = 0\n",
    "lengths_select = lengths[begin:end]\n",
    "times_select = times[begin:end]\n",
    "areas_select = areas[begin:end]\n",
    "\n",
    "coefs = np.polyfit(times_select,areas_select ,2)\n",
    "p = np.poly1d(coefs)\n",
    "def func(t,a,t0):\n",
    "    return(a*(t-t0)**2)\n",
    "popt0, pcov = curve_fit(func, times_select,areas_select ,bounds = ([0,-np.inf],2*[np.inf]),p0=[1,1])\n",
    "def func2(t,alpha,C,d):\n",
    "    return(C*(np.exp(alpha*(t)))+d)\n",
    "popt1, pcov = curve_fit(func2, times_select, lengths_select/1000,bounds = ([0,0,-np.inf],3*[np.inf]),p0=[1,1,0])\n"
   ]
  },
  {
   "cell_type": "code",
   "execution_count": 2,
   "metadata": {},
   "outputs": [
    {
     "name": "stderr",
     "output_type": "stream",
     "text": [
      "/home/cbisot/anaconda3/envs/test/lib/python3.7/site-packages/matplotlib/__init__.py:880: MatplotlibDeprecationWarning: \n",
      "nbagg.transparent\n",
      "  version, key, obj_type=\"rcparam\", alternative=alt_key)\n"
     ]
    },
    {
     "data": {
      "application/vnd.jupyter.widget-view+json": {
       "model_id": "626c1faf5adb433da5039c573b589bed",
       "version_major": 2,
       "version_minor": 0
      },
      "text/plain": [
       "Canvas(toolbar=Toolbar(toolitems=[('Home', 'Reset original view', 'home', 'home'), ('Back', 'Back to previous …"
      ]
     },
     "metadata": {},
     "output_type": "display_data"
    },
    {
     "data": {
      "text/plain": [
       "[<matplotlib.lines.Line2D at 0x2af70eb1c250>]"
      ]
     },
     "execution_count": 2,
     "metadata": {},
     "output_type": "execute_result"
    }
   ],
   "source": [
    "def func3(t):\n",
    "    return(func2(t,*popt1)/p(t))\n",
    "plt.rcParams.update({\n",
    "    \"font.family\": \"verdana\",\n",
    "'font.weight' : 'normal',\n",
    "'font.size': 20})\n",
    "fig=plt.figure(figsize=(9,8))\n",
    "ax = fig.add_subplot(111)\n",
    "# ax.plot(times,func(np.array(times),*popt0),label = f'quadratic fit a={\"{:.2f}\".format(popt0[0])} mm^2.h-2')\n",
    "ax.set_xlabel('time (h)')\n",
    "ax.set_ylabel('network density $(mm.mm^{-2})$')\n",
    "ax.scatter(times,lengths/1000/areas)\n",
    "ax.plot(times,func3(np.array(times)),label = f'exponential fit : alpha= {\"{:.2f}\".format(popt1[0]*24)}.day-1',color='red')\n",
    "\n",
    "\n",
    "# plt.legend(loc = 'upper right')"
   ]
  },
  {
   "cell_type": "code",
   "execution_count": 3,
   "metadata": {},
   "outputs": [],
   "source": [
    "data = pd.DataFrame(list(zip(speeds,speeds_area,times[:-1])),columns = ['speed','speed_area','time'])\n",
    "# data['straight'] = data['straight_distance']*1.725/data['curv_growth']\n",
    "# data['straight_scaled'] = data['straight_distance']*1.725/np.sqrt(data['curv_growth'])\n",
    "# data['time'] = lapses_time\n",
    "# data['straight_time'] = data['straight']/data['time']\n",
    "# data['speed'] = data['curv_growth']/data['time']\n",
    "correct = data.loc[data['speed']<50000]"
   ]
  },
  {
   "cell_type": "code",
   "execution_count": 4,
   "metadata": {},
   "outputs": [
    {
     "name": "stderr",
     "output_type": "stream",
     "text": [
      "/home/cbisot/anaconda3/envs/test/lib/python3.7/site-packages/matplotlib/__init__.py:880: MatplotlibDeprecationWarning: \n",
      "nbagg.transparent\n",
      "  version, key, obj_type=\"rcparam\", alternative=alt_key)\n"
     ]
    },
    {
     "data": {
      "application/vnd.jupyter.widget-view+json": {
       "model_id": "4e670f2a3bc04a40b139642a11bfdd93",
       "version_major": 2,
       "version_minor": 0
      },
      "text/plain": [
       "Canvas(toolbar=Toolbar(toolitems=[('Home', 'Reset original view', 'home', 'home'), ('Back', 'Back to previous …"
      ]
     },
     "metadata": {},
     "output_type": "display_data"
    },
    {
     "name": "stderr",
     "output_type": "stream",
     "text": [
      "/home/cbisot/anaconda3/envs/test/lib/python3.7/site-packages/matplotlib/cbook/__init__.py:1377: FutureWarning: Support for multi-dimensional indexing (e.g. `obj[:, None]`) is deprecated and will be removed in a future version.  Convert to a numpy array before indexing instead.\n",
      "  x[:, None]\n",
      "/home/cbisot/anaconda3/envs/test/lib/python3.7/site-packages/matplotlib/axes/_base.py:237: FutureWarning: Support for multi-dimensional indexing (e.g. `obj[:, None]`) is deprecated and will be removed in a future version.  Convert to a numpy array before indexing instead.\n",
      "  x = x[:, np.newaxis]\n",
      "/home/cbisot/anaconda3/envs/test/lib/python3.7/site-packages/matplotlib/axes/_base.py:239: FutureWarning: Support for multi-dimensional indexing (e.g. `obj[:, None]`) is deprecated and will be removed in a future version.  Convert to a numpy array before indexing instead.\n",
      "  y = y[:, np.newaxis]\n"
     ]
    },
    {
     "data": {
      "text/plain": [
       "[<matplotlib.lines.Line2D at 0x2af7d9c03910>]"
      ]
     },
     "execution_count": 4,
     "metadata": {},
     "output_type": "execute_result"
    }
   ],
   "source": [
    "plt.close('all')\n",
    "abcisse = 'time'\n",
    "ordinate = 'speed'\n",
    "tab = correct\n",
    "baits_sort = tab.sort_values(abcisse)\n",
    "N=8\n",
    "moving_av = baits_sort.rolling(N,min_periods=N//2).mean()\n",
    "moving_std = baits_sort.rolling(N,min_periods=N//2).std()\n",
    "\n",
    "fig=plt.figure(figsize=(8,8))\n",
    "ax = fig.add_subplot(111)\n",
    "ax.set_xlabel('time (h)')\n",
    "\n",
    "ax.set_ylabel('total network length growth growth speed ($\\mu m .h^{-1}$)',color='red')\n",
    "# ax.set_xlim(-0.5,0.5)\n",
    "ax.set_ylim(0,50000)\n",
    "# ax.set_xlim(-190,190)\n",
    "# slope, intercept, r_value, p_value, std_err = stats.linregress(densities_sort,np.abs(curvatures_sort))\n",
    "\n",
    "ax.scatter(tab[abcisse],tab[ordinate],alpha=0.3,color='red')\n",
    "ax.plot(moving_av[abcisse],moving_av[ordinate],color='red',label = 'moving average')\n",
    "ax.plot(moving_av[abcisse],(moving_av[ordinate]+moving_std[ordinate]/np.sqrt(N)),color='red',label = 'std',linestyle = 'dotted')\n",
    "ax.plot(moving_av[abcisse],(moving_av[ordinate]-moving_std[ordinate]/np.sqrt(N)),color='red',label = 'std',linestyle = 'dotted')\n",
    "ax.plot(moving_av[abcisse],1000*popt1[0]*popt1[1]*np.exp(popt1[0]*moving_av[abcisse]),color='red',linestyle='dashdot')\n",
    "ax.spines['right'].set_color('red')\n",
    "ax.tick_params(axis='y', colors='red')  #setting up Y-axis tick color to black\n",
    "ax2 = ax.twinx()\n",
    "abcisse = 'time'\n",
    "ordinate = 'speed_area'\n",
    "tab = correct\n",
    "baits_sort = tab.sort_values(abcisse)\n",
    "moving_av = baits_sort.rolling(N,min_periods=N//2).mean()\n",
    "moving_std = baits_sort.rolling(N,min_periods=N//2).std()\n",
    "ax2.spines['right'].set_color('blue')\n",
    "ax2.tick_params(axis='y', colors='blue')  #setting up Y-axis tick color to black\n",
    "ax2.set_ylabel('Network area growth speed ($\\mu m^2 .h^{-1}$)',color='blue')\n",
    "# ax.set_xlim(-0.5,0.5)\n",
    "# ax.set_ylim(-0.5,0.5)\n",
    "# ax.set_xlim(-190,190)\n",
    "# slope, intercept, r_value, p_value, std_err = stats.linregress(densities_sort,np.abs(curvatures_sort))\n",
    "\n",
    "ax2.scatter(tab[abcisse],tab[ordinate],alpha=0.3,color='blue')\n",
    "ax2.plot(moving_av[abcisse],moving_av[ordinate],color='blue',label = 'moving average')\n",
    "ax2.plot(moving_av[abcisse],(moving_av[ordinate]+moving_std[ordinate]/np.sqrt(N)),color='blue',label = 'std',linestyle = 'dotted')\n",
    "ax2.plot(moving_av[abcisse],(moving_av[ordinate]-moving_std[ordinate]/np.sqrt(N)),color='blue',label = 'std',linestyle = 'dotted')\n",
    "ax2.plot(moving_av[abcisse],2*coefs[0]*moving_av[abcisse]+coefs[1],color='blue',linestyle = 'dashdot')\n"
   ]
  },
  {
   "cell_type": "code",
   "execution_count": 16,
   "metadata": {},
   "outputs": [
    {
     "data": {
      "text/plain": [
       "4.2855994221866816"
      ]
     },
     "execution_count": 16,
     "metadata": {},
     "output_type": "execute_result"
    }
   ],
   "source": [
    "coefs[1]"
   ]
  },
  {
   "cell_type": "code",
   "execution_count": 31,
   "metadata": {},
   "outputs": [
    {
     "data": {
      "application/vnd.jupyter.widget-view+json": {
       "model_id": "bc0b0a814ea84191ba1814fc9f48f427",
       "version_major": 2,
       "version_minor": 0
      },
      "text/plain": [
       "Canvas(toolbar=Toolbar(toolitems=[('Home', 'Reset original view', 'home', 'home'), ('Back', 'Back to previous …"
      ]
     },
     "metadata": {},
     "output_type": "display_data"
    },
    {
     "data": {
      "text/plain": [
       "[<matplotlib.lines.Line2D at 0x2aecbcfeb910>]"
      ]
     },
     "execution_count": 31,
     "metadata": {},
     "output_type": "execute_result"
    }
   ],
   "source": [
    "plt.close('all')\n",
    "abcisse = 'time'\n",
    "ordinate = 'speed_area'\n",
    "tab = correct\n",
    "baits_sort = tab.sort_values(abcisse)\n",
    "N=4\n",
    "moving_av = baits_sort.rolling(N,min_periods=N//2).mean()\n",
    "moving_std = baits_sort.rolling(N,min_periods=N//2).std()\n",
    "\n",
    "fig=plt.figure(figsize=(8,8))\n",
    "ax = fig.add_subplot(111)\n",
    "ax.set_xlabel('time (h)')\n",
    "\n",
    "ax.set_ylabel('Network scale growth speed ($\\mu m .h^{-1}$)')\n",
    "# ax.set_xlim(-0.5,0.5)\n",
    "# ax.set_ylim(-0.5,0.5)\n",
    "# ax.set_xlim(-190,190)\n",
    "# slope, intercept, r_value, p_value, std_err = stats.linregress(densities_sort,np.abs(curvatures_sort))\n",
    "\n",
    "ax.scatter(tab[abcisse],tab[ordinate],alpha=0.3)\n",
    "ax.plot(moving_av[abcisse],moving_av[ordinate],color='green',label = 'moving average')\n",
    "ax.plot(moving_av[abcisse],(moving_av[ordinate]+moving_std[ordinate]/np.sqrt(N)),color='red',label = 'std')\n",
    "ax.plot(moving_av[abcisse],(moving_av[ordinate]-moving_std[ordinate]/np.sqrt(N)),color='red',label = 'std')"
   ]
  }
 ],
 "metadata": {
  "kernelspec": {
   "display_name": "Python 3",
   "language": "python",
   "name": "python3"
  },
  "language_info": {
   "codemirror_mode": {
    "name": "ipython",
    "version": 3
   },
   "file_extension": ".py",
   "mimetype": "text/x-python",
   "name": "python",
   "nbconvert_exporter": "python",
   "pygments_lexer": "ipython3",
   "version": "3.7.7"
  }
 },
 "nbformat": 4,
 "nbformat_minor": 4
}

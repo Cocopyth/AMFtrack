{
 "cells": [
  {
   "cell_type": "code",
   "execution_count": 1,
   "metadata": {
    "collapsed": true,
    "jupyter": {
     "outputs_hidden": true
    }
   },
   "outputs": [
    {
     "name": "stdout",
     "output_type": "stream",
     "text": [
      "begin = 2020-11-23 15:01:00 \n",
      "  end = 2020-11-26 03:02:00\n",
      "failure in finding closest edge\n",
      "failure in finding closest edge\n",
      "failure in finding closest edge\n",
      "failure in finding closest edge\n",
      "failure in finding closest edge\n",
      "failure in finding closest edge\n",
      "failure in finding closest edge\n",
      "failure in finding closest edge\n",
      "failure in finding closest edge\n",
      "failure in finding closest edge\n",
      "failure in finding closest edge\n",
      "failure in finding closest edge\n",
      "failure in finding closest edge\n",
      "failure in finding closest edge\n",
      "failure in finding closest edge\n",
      "failure in finding closest edge\n",
      "failure in finding closest edge\n",
      "failure in finding closest edge\n",
      "failure in finding closest edge\n",
      "failure in finding closest edge\n",
      "failure in finding closest edge\n",
      "failure in finding closest edge\n",
      "failure in finding closest edge\n",
      "failure in finding closest edge\n",
      "failure in finding closest edge\n",
      "failure in finding closest edge\n",
      "failure in finding closest edge\n",
      "failure in finding closest edge\n",
      "failure in finding closest edge\n",
      "failure in finding closest edge\n",
      "failure in finding closest edge\n",
      "failure in finding closest edge\n",
      "failure in finding closest edge\n",
      "failure in finding closest edge\n",
      "failure in finding closest edge\n",
      "failure in finding closest edge\n",
      "failure in finding closest edge\n",
      "failure in finding closest edge\n",
      "failure in finding closest edge\n",
      "failure in finding closest edge\n",
      "failure in finding closest edge\n",
      "failure in finding closest edge\n",
      "failure in finding closest edge\n",
      "failure in finding closest edge\n",
      "failure in finding closest edge\n",
      "failure in finding closest edge\n",
      "failure in finding closest edge\n",
      "failure in finding closest edge\n",
      "failure in finding closest edge\n",
      "failure in finding closest edge\n",
      "failure in finding closest edge\n",
      "failure in finding closest edge\n",
      "failure in finding closest edge\n",
      "failure in finding closest edge\n",
      "failure in finding closest edge\n",
      "failure in finding closest edge\n",
      "failure in finding closest edge\n",
      "failure in finding closest edge\n",
      "failure in finding closest edge\n",
      "failure in finding closest edge\n",
      "failure in finding closest edge\n",
      "failure in finding closest edge\n",
      "failure in finding closest edge\n",
      "failure in finding closest edge\n",
      "failure in finding closest edge\n",
      "failure in finding closest edge\n",
      "failure in finding closest edge\n",
      "failure in finding closest edge\n",
      "failure in finding closest edge\n",
      "failure in finding closest edge\n",
      "failure in finding closest edge\n"
     ]
    }
   ],
   "source": [
    "%matplotlib widget\n",
    "\n",
os.getenv('HOME')+"/pycode/MscThesis/"
    "import pandas as pd\n",
    "from amftrack.util.sys import get_dates_datetime, get_dirname, get_plate_number, get_postion_number,get_begin_index\n",
    "import ast\n",
    "from amftrack.plotutil import plot_t_tp1\n",
    "from scipy import sparse\n",
    "from datetime import datetime\n",
    "from amftrack.pipeline.functions.node_id import orient\n",
    "import pickle\n",
    "import scipy.io as sio\n",
    "from pymatreader import read_mat\n",
    "from matplotlib import colors\n",
    "import cv2\n",
    "import imageio\n",
    "import matplotlib.pyplot as plt\n",
    "import numpy as np\n",
    "from skimage.filters import frangi\n",
    "from skimage import filters\n",
    "from random import choice\n",
    "import scipy.sparse\n",
    "import os\n",
    "from amftrack.pipeline.functions.extract_graph import from_sparse_to_graph, generate_nx_graph, sparse_to_doc\n",
    "from skimage.feature import hessian_matrix_det\n",
    "from amftrack.pipeline.functions.experiment_class_surf import Experiment, Edge, Node, Hyphae, plot_raw_plus\n",
    "from amftrack.pipeline.paths.directory import run_parallel, find_state, directory_scratch, directory_project\n",
    "from amftrack.notebooks.analysis.util import *\n",
    "from scipy import stats\n",
    "from scipy.ndimage.filters import uniform_filter1d\n",
    "from statsmodels.stats import weightstats as stests\n",
    "from amftrack.pipeline.functions.hyphae_id_surf import get_pixel_growth_and_new_children\n",
    "from collections import Counter\n",
    "from IPython.display import clear_output\n",
    "from amftrack.notebooks.analysis.data_info import *\n",
    "exp = get_exp((39,269,329),directory_project)\n",
    "def criter(max_growth,length):\n",
    "    return(a*length+b*max_growth>=2.5 and max_growth>=50)\n",
    "RH, BAS, max_speeds, total_growths, widths, lengths, branch_frequ,select_hyph = get_rh_bas(exp,criter)\n",
    "roots_new_branch = []\n",
    "total_growth = 0\n",
    "counts =[]\n",
    "speed_ratios2 = []\n",
    "lapses = []\n",
    "roots = [rh.root for rh in RH]\n",
    "lag = 1\n",
    "intriguing=[]\n",
    "for lapse in [2,4]:\n",
    "    for rh in RH:\n",
    "        index = 0\n",
    "        while index < (len(rh.ts)):\n",
    "            if index+lapse+lag<len(rh.ts) and rh.end.is_in(index+lapse+lag) and rh.end.degree(index+lapse+lag)==1:\n",
    "                t = rh.ts[index]\n",
    "                tp1 = rh.ts[index + lapse]\n",
    "                pixels, nodes = get_pixel_growth_and_new_children(rh, t, tp1)\n",
    "                count=len(nodes[1:-1]) \n",
    "                if count==1:\n",
    "                    t = rh.ts[index]\n",
    "                    tp1 = rh.ts[index + 1]\n",
    "                    pixels, nodes = get_pixel_growth_and_new_children(rh, t, tp1)\n",
    "                    lapse_time = get_time(exp, t, tp1)\n",
    "                    speed_init = np.sum([get_length_um(seg) for seg in pixels])/lapse_time\n",
    "                    t0 = rh.ts[index+lapse]\n",
    "                    t0p1 = rh.ts[index + lapse+lag]\n",
    "                    pixels, nodes = get_pixel_growth_and_new_children(rh, t0, t0p1)\n",
    "                    lapse_time = get_time(exp, t0, t0p1)\n",
    "                    speed_after = np.sum([get_length_um(seg) for seg in pixels])/lapse_time\n",
    "                    if speed_after>100 and speed_init>100:\n",
    "                        counts.append(count)\n",
    "                        speed_ratios2.append(speed_after/speed_init)\n",
    "                        if speed_after/speed_init>0.7:\n",
    "                            intriguing.append((rh,t,tp1))\n",
    "                    index+= lapse\n",
    "            index +=1\n",
    "roots_new_branch = []\n",
    "total_growth = 0\n",
    "counts =[]\n",
    "speed_ratios = []\n",
    "lapses = []\n",
    "roots = [rh.root for rh in RH]\n",
    "lag = 1\n",
    "intriguing=[]\n",
    "for lapse in [2,4]:\n",
    "    for rh in RH:\n",
    "        index = 0\n",
    "        while index < (len(rh.ts)):\n",
    "            if index+lapse+lag<len(rh.ts) and rh.end.is_in(index+lapse+lag) and rh.end.degree(index+lapse+lag)==1:\n",
    "                t = rh.ts[index]\n",
    "                tp1 = rh.ts[index + lapse]\n",
    "                pixels, nodes = get_pixel_growth_and_new_children(rh, t, tp1)\n",
    "                count=len(nodes[1:-1]) \n",
    "                if count==0:\n",
    "                    t = rh.ts[index]\n",
    "                    tp1 = rh.ts[index + 1]\n",
    "                    pixels, nodes = get_pixel_growth_and_new_children(rh, t, tp1)\n",
    "                    lapse_time = get_time(exp, t, tp1)\n",
    "                    speed_init = np.sum([get_length_um(seg) for seg in pixels])/lapse_time\n",
    "                    t0 = rh.ts[index+lapse]\n",
    "                    t0p1 = rh.ts[index + lapse+lag]\n",
    "                    pixels, nodes = get_pixel_growth_and_new_children(rh, t0, t0p1)\n",
    "                    lapse_time = get_time(exp, t0, t0p1)\n",
    "                    speed_after = np.sum([get_length_um(seg) for seg in pixels])/lapse_time\n",
    "                    if speed_after>100 and speed_init>100:\n",
    "                        counts.append(count)\n",
    "                        speed_ratios.append(speed_after/speed_init)\n",
    "                        if speed_after/speed_init>0.7:\n",
    "                            intriguing.append((rh,t,tp1))\n",
    "                    index+= lapse\n",
    "            index +=1"
   ]
  },
  {
   "cell_type": "code",
   "execution_count": 9,
   "metadata": {},
   "outputs": [
    {
     "data": {
      "application/vnd.jupyter.widget-view+json": {
       "model_id": "6a2643847cb440459c21d02bef846c48",
       "version_major": 2,
       "version_minor": 0
      },
      "text/plain": [
       "Canvas(toolbar=Toolbar(toolitems=[('Home', 'Reset original view', 'home', 'home'), ('Back', 'Back to previous …"
      ]
     },
     "metadata": {},
     "output_type": "display_data"
    },
    {
     "data": {
      "text/plain": [
       "<matplotlib.legend.Legend at 0x2b48dd277950>"
      ]
     },
     "execution_count": 9,
     "metadata": {},
     "output_type": "execute_result"
    }
   ],
   "source": [
    "plt.close('all')\n",
    "fig=plt.figure(figsize=(8,8))\n",
    "ax = fig.add_subplot(111)\n",
    "ax.hist(speed_ratios2,20,density= True,alpha = 0.5,label=\"branching happened between t and t+k\")\n",
    "ax.hist(speed_ratios,20,density= True,alpha = 0.5,label=\"no branching happened between t and t+k\")\n",
    "ax.set_xlabel('$v(t+k)/v(t)$')\n",
    "ax.set_ylabel('density')\n",
    "ax.legend()"
   ]
  },
  {
   "cell_type": "code",
   "execution_count": 6,
   "metadata": {},
   "outputs": [
    {
     "data": {
      "text/plain": [
       "41"
      ]
     },
     "execution_count": 6,
     "metadata": {},
     "output_type": "execute_result"
    }
   ],
   "source": [
    "len(speed_ratios2)"
   ]
  },
  {
   "cell_type": "code",
   "execution_count": 13,
   "metadata": {},
   "outputs": [
    {
     "data": {
      "text/plain": [
       "(0.9787943563584511,\n",
       " 1.048863482409042,\n",
       " 0.01433645888897827,\n",
       " 0.013237593848996594)"
      ]
     },
     "execution_count": 13,
     "metadata": {},
     "output_type": "execute_result"
    }
   ],
   "source": [
    "np.mean(speed_ratios2),np.mean(speed_ratios),np.std(speed_ratios2)/np.sqrt(len(speed_ratios2)),np.std(speed_ratios)/np.sqrt(len(speed_ratios))"
   ]
  },
  {
   "cell_type": "code",
   "execution_count": null,
   "metadata": {},
   "outputs": [],
   "source": [
    "rh,t,tp1 = choice(intriguing)\n",
    "rh.end."
   ]
  }
 ],
 "metadata": {
  "kernelspec": {
   "display_name": "Python 3",
   "language": "python",
   "name": "python3"
  },
  "language_info": {
   "codemirror_mode": {
    "name": "ipython",
    "version": 3
   },
   "file_extension": ".py",
   "mimetype": "text/x-python",
   "name": "python",
   "nbconvert_exporter": "python",
   "pygments_lexer": "ipython3",
   "version": "3.7.7"
  }
 },
 "nbformat": 4,
 "nbformat_minor": 4
}

{
 "cells": [
  {
   "cell_type": "code",
   "execution_count": 1,
   "id": "93ded390-2c7a-4ada-88ef-3261574c8110",
   "metadata": {},
   "outputs": [
    {
     "name": "stderr",
     "output_type": "stream",
     "text": [
      "/home/cbisot/pycode/MscThesis/amftrack/transfer/functions/transfer.py:1: TqdmExperimentalWarning: Using `tqdm.autonotebook.tqdm` in notebook mode. Use `tqdm.tqdm` instead to force console mode (e.g. in jupyter console)\n",
      "  from tqdm.autonotebook import tqdm\n"
     ]
    },
    {
     "ename": "AuthenticationError",
     "evalue": "Labelbox API key not provided('Labelbox API key not provided', None)",
     "output_type": "error",
     "traceback": [
      "\u001b[0;31m---------------------------------------------------------------------------\u001b[0m",
      "\u001b[0;31mAuthenticationError\u001b[0m                       Traceback (most recent call last)",
      "\u001b[0;32m/scratch-local/cbisot/ipykernel_811908/1221411885.py\u001b[0m in \u001b[0;36m<module>\u001b[0;34m\u001b[0m\n\u001b[1;32m     55\u001b[0m \u001b[0mENDPOINT\u001b[0m \u001b[0;34m=\u001b[0m \u001b[0;34m\"https://api.labelbox.com/graphql\"\u001b[0m\u001b[0;34m\u001b[0m\u001b[0;34m\u001b[0m\u001b[0m\n\u001b[1;32m     56\u001b[0m \u001b[0mAPI_KEY\u001b[0m \u001b[0;34m=\u001b[0m \u001b[0mos\u001b[0m\u001b[0;34m.\u001b[0m\u001b[0mgetenv\u001b[0m\u001b[0;34m(\u001b[0m\u001b[0;34m\"LABELBOX_API_KEY\"\u001b[0m\u001b[0;34m)\u001b[0m\u001b[0;34m\u001b[0m\u001b[0;34m\u001b[0m\u001b[0m\n\u001b[0;32m---> 57\u001b[0;31m \u001b[0mclient\u001b[0m \u001b[0;34m=\u001b[0m \u001b[0mClient\u001b[0m\u001b[0;34m(\u001b[0m\u001b[0mapi_key\u001b[0m\u001b[0;34m=\u001b[0m\u001b[0mAPI_KEY\u001b[0m\u001b[0;34m)\u001b[0m\u001b[0;34m\u001b[0m\u001b[0;34m\u001b[0m\u001b[0m\n\u001b[0m\u001b[1;32m     58\u001b[0m \u001b[0;31m# project = client.get_project(PROJECT_ID)\u001b[0m\u001b[0;34m\u001b[0m\u001b[0;34m\u001b[0m\u001b[0;34m\u001b[0m\u001b[0m\n\u001b[1;32m     59\u001b[0m \u001b[0;31m# dataset = client.get_dataset(DATASET_ID)\u001b[0m\u001b[0;34m\u001b[0m\u001b[0;34m\u001b[0m\u001b[0;34m\u001b[0m\u001b[0m\n",
      "\u001b[0;32m~/miniconda3/envs/amftrack/lib/python3.7/site-packages/labelbox/client.py\u001b[0m in \u001b[0;36m__init__\u001b[0;34m(self, api_key, endpoint, enable_experimental, app_url)\u001b[0m\n\u001b[1;32m     72\u001b[0m             \u001b[0;32mif\u001b[0m \u001b[0m_LABELBOX_API_KEY\u001b[0m \u001b[0;32mnot\u001b[0m \u001b[0;32min\u001b[0m \u001b[0mos\u001b[0m\u001b[0;34m.\u001b[0m\u001b[0menviron\u001b[0m\u001b[0;34m:\u001b[0m\u001b[0;34m\u001b[0m\u001b[0;34m\u001b[0m\u001b[0m\n\u001b[1;32m     73\u001b[0m                 raise labelbox.exceptions.AuthenticationError(\n\u001b[0;32m---> 74\u001b[0;31m                     \"Labelbox API key not provided\")\n\u001b[0m\u001b[1;32m     75\u001b[0m             \u001b[0mapi_key\u001b[0m \u001b[0;34m=\u001b[0m \u001b[0mos\u001b[0m\u001b[0;34m.\u001b[0m\u001b[0menviron\u001b[0m\u001b[0;34m[\u001b[0m\u001b[0m_LABELBOX_API_KEY\u001b[0m\u001b[0;34m]\u001b[0m\u001b[0;34m\u001b[0m\u001b[0;34m\u001b[0m\u001b[0m\n\u001b[1;32m     76\u001b[0m         \u001b[0mself\u001b[0m\u001b[0;34m.\u001b[0m\u001b[0mapi_key\u001b[0m \u001b[0;34m=\u001b[0m \u001b[0mapi_key\u001b[0m\u001b[0;34m\u001b[0m\u001b[0;34m\u001b[0m\u001b[0m\n",
      "\u001b[0;31mAuthenticationError\u001b[0m: Labelbox API key not provided('Labelbox API key not provided', None)"
     ]
    }
   ],
   "source": [
    "%matplotlib widget\n",
    "\n",
    "import os  \n",
    "import sys  \n",
    "sys.path.insert(0, os.getenv('HOME')+'/pycode/MscThesis/')\n",
    "# sys.path.insert(0,r'C:\\Users\\coren\\Documents\\PhD\\Code\\AMFtrack')\n",
    "\n",
    "import pandas as pd\n",
    "from amftrack.util.sys import get_dates_datetime, get_dirname, temp_path, get_data_info, update_plate_info, \\\n",
    "get_current_folders, get_folders_by_plate_id\n",
    "\n",
    "\n",
    "import ast\n",
    "from amftrack.plotutil import plot_t_tp1\n",
    "from scipy import sparse\n",
    "from datetime import datetime\n",
    "import pickle\n",
    "import scipy.io as sio\n",
    "from pymatreader import read_mat\n",
    "from matplotlib import colors\n",
    "import cv2\n",
    "import imageio\n",
    "import matplotlib.pyplot as plt\n",
    "import numpy as np\n",
    "from skimage.filters import frangi\n",
    "from skimage import filters\n",
    "from random import choice\n",
    "import scipy.sparse\n",
    "import os\n",
    "from amftrack.pipeline.functions.image_processing.extract_graph import from_sparse_to_graph, generate_nx_graph, sparse_to_doc\n",
    "from skimage.feature import hessian_matrix_det\n",
    "from amftrack.pipeline.functions.image_processing.experiment_class_surf import Experiment\n",
    "from amftrack.pipeline.paths.directory import run_parallel, find_state, directory_scratch, directory_project, run_parallel_stitch\n",
    "from labelbox import Project, Dataset, Client\n",
    "import os\n",
    "from amftrack.transfer.functions.transfer import upload, zip_file\n",
    "from labelbox.schema.ontology import OntologyBuilder, Tool, Classification, Option\n",
    "from labelbox import Client, LabelingFrontend, LabelImport, MALPredictionImport\n",
    "from labelbox.data.annotation_types import (\n",
    "    Label, ImageData, ObjectAnnotation, MaskData,\n",
    "    Rectangle, Point, Line, Mask, Polygon,\n",
    "    Radio, Checklist, Text,\n",
    "    ClassificationAnnotation, ClassificationAnswer\n",
    ")\n",
    "from labelbox.data.serialization import NDJsonConverter\n",
    "import uuid\n",
    "import json\n",
    "import numpy as np\n",
    "\n",
    "PROJECT_ID = \"cl0v5xcu33a330z5mhjx7bgy4\"\n",
    "DATASET_ID = \"cl0v4z5373b0w0z8v9t1x08jd\"\n",
    "PROJECT_NAME = \"Fungi\"\n",
    "DATASET_NAME = \"Fungal network\"\n",
    "# Only update this if you have an on-prem deployment\n",
    "ENDPOINT = \"https://api.labelbox.com/graphql\"\n",
    "API_KEY = os.getenv(\"LABELBOX_API_KEY\")\n",
    "client = Client(api_key=API_KEY)\n",
    "project = client.get_project(PROJECT_ID)\n",
    "dataset = client.get_dataset(DATASET_ID)\n",
    "directory = directory_project\n",
    "all_folders = get_current_folders(directory)\n",
    "folders = all_folders.loc[all_folders['Plate']==\"94\"]\n",
    "i=80\n",
    "folder_list = list(folders['folder'])\n",
    "folder_list.sort()\n",
    "directory_name = folder_list[i]\n",
    "path_snap=directory+directory_name\n",
    "path_tile=path_snap+'/Img/TileConfiguration.txt.registered'\n",
    "try:\n",
    "    tileconfig = pd.read_table(path_tile,sep=';',skiprows=4,header=None,converters={2 : ast.literal_eval},skipinitialspace=True)\n",
    "except:\n",
    "    print('error_name')\n",
    "    path_tile=path_snap+'/Img/TileConfiguration.registered.txt'\n",
    "    tileconfig = pd.read_table(path_tile,sep=';',skiprows=4,header=None,converters={2 : ast.literal_eval},skipinitialspace=True)"
   ]
  },
  {
   "cell_type": "code",
   "execution_count": 23,
   "id": "f4ffa3a5-a7f1-4d54-a801-03943527465b",
   "metadata": {},
   "outputs": [],
   "source": [
    "project = client.create_project(name=\"fungi_new2\")\n",
    "dataset = client.create_dataset(name=\"image_annotation_import_demo_dataset\")"
   ]
  },
  {
   "cell_type": "code",
   "execution_count": 7,
   "id": "ee08ce8a-f8f0-45d3-b545-6a3285fc7351",
   "metadata": {},
   "outputs": [
    {
     "name": "stdout",
     "output_type": "stream",
     "text": [
      "Collecting imagesize\n",
      "  Downloading imagesize-1.3.0-py2.py3-none-any.whl (5.2 kB)\n",
      "Installing collected packages: imagesize\n",
      "Successfully installed imagesize-1.3.0\n"
     ]
    }
   ],
   "source": [
    "!pip install imagesize"
   ]
  },
  {
   "cell_type": "code",
   "execution_count": 24,
   "id": "0c160567-0383-4dfc-b8ae-551e6d80fa5c",
   "metadata": {},
   "outputs": [],
   "source": [
    "ontology_builder = OntologyBuilder(tools=[\n",
    "    Tool(tool=Tool.Type.LINE, name=\"Line\")\n",
    "])\n",
    "editor = next(client.get_labeling_frontends(where=LabelingFrontend.name == \"Editor\"))\n",
    "\n",
    "project.setup(editor, ontology_builder.asdict())\n",
    "project.datasets.connect(dataset)\n"
   ]
  },
  {
   "cell_type": "code",
   "execution_count": 32,
   "id": "b7709502-f283-4da2-bdc5-e992198e2481",
   "metadata": {},
   "outputs": [],
   "source": [
    "def create_objects():\n",
    "    line = Line(points=[Point(x=60,y=70), Point(x=65,y=100), Point(x=80,y=130), Point(x=40,y=200)])\n",
    "    line_annotation = ObjectAnnotation(value=line, name=\"Line\")\n",
    "    return line_annotation\n"
   ]
  },
  {
   "cell_type": "code",
   "execution_count": 38,
   "id": "8b68848e-2d83-42dd-a48b-5c199277d2c8",
   "metadata": {},
   "outputs": [],
   "source": [
    "test_img_url = \"https://raw.githubusercontent.com/Labelbox/labelbox-python/develop/examples/assets/2560px-Kitano_Street_Kobe01s5s4110.jpg\"\n",
    "data_row = dataset.create_data_row(row_data=test_img_url)"
   ]
  },
  {
   "cell_type": "code",
   "execution_count": 39,
   "id": "157730b7-81bc-4334-ad95-0d296b10f41d",
   "metadata": {},
   "outputs": [],
   "source": [
    "image_data = ImageData(uid=data_row.uid)\n",
    "line_annotation = create_objects()\n",
    "label = Label(\n",
    "    data=image_data,\n",
    "    annotations = [line_annotation\n",
    "    ]\n",
    ")"
   ]
  },
  {
   "cell_type": "code",
   "execution_count": 40,
   "id": "e59f524e-0cb8-4ef3-92c2-bb360a570cb2",
   "metadata": {},
   "outputs": [
    {
     "data": {
      "text/plain": [
       "Label(uid=None, data=ImageData(im_bytes=None,file_path=None,url=None,arr=None), annotations=[ObjectAnnotation(name='Line', feature_schema_id=None, extra={}, value=Line(extra={}, points=[Point(extra={}, x=60.0, y=70.0), Point(extra={}, x=65.0, y=100.0), Point(extra={}, x=80.0, y=130.0), Point(extra={}, x=40.0, y=200.0)]), classifications=[])], extra={})"
      ]
     },
     "execution_count": 40,
     "metadata": {},
     "output_type": "execute_result"
    }
   ],
   "source": [
    "def signing_function(obj_bytes: bytes) -> str:\n",
    "    url = client.upload_data(content=obj_bytes, sign=True)\n",
    "    return url\n",
    "\n",
    "\n",
    "label.add_url_to_masks(signing_function)"
   ]
  },
  {
   "cell_type": "code",
   "execution_count": 42,
   "id": "f79c889d-c08e-42fc-999d-9c2fdcdb9185",
   "metadata": {},
   "outputs": [],
   "source": [
    "mal_label = Label(\n",
    "    data=image_data,\n",
    "    annotations = [line_annotation\n",
    "    ]\n",
    ")\n",
    "\n",
    "label.add_url_to_masks(signing_function)\n",
    "\n",
    "mal_label.assign_feature_schema_ids(ontology_builder.from_project(project))\n",
    "\n",
    "ndjson_labels = list(NDJsonConverter.serialize([mal_label]))\n",
    "upload_job = MALPredictionImport.create_from_objects(\n",
    "    client = client, \n",
    "    project_id = project.uid, \n",
    "    name=\"upload_label_import_job2\", \n",
    "    predictions=ndjson_labels)"
   ]
  }
 ],
 "metadata": {
  "kernelspec": {
   "display_name": "Python 3 (ipykernel)",
   "language": "python",
   "name": "python3"
  },
  "language_info": {
   "codemirror_mode": {
    "name": "ipython",
    "version": 3
   },
   "file_extension": ".py",
   "mimetype": "text/x-python",
   "name": "python",
   "nbconvert_exporter": "python",
   "pygments_lexer": "ipython3",
   "version": "3.7.11"
  }
 },
 "nbformat": 4,
 "nbformat_minor": 5
}

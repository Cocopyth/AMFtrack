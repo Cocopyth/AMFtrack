{
 "cells": [
  {
   "cell_type": "code",
   "execution_count": 2,
   "metadata": {},
   "outputs": [],
   "source": [
    "%matplotlib widget\n",
    "from util.sys import get_path\n",
    "import pandas as pd\n",
    "import networkx as nx\n",
    "import numpy as np\n",
    "import matplotlib.pyplot as plt\n",
    "from extract_graph import (\n",
    "    generate_nx_graph,\n",
    "    transform_list,\n",
    "    generate_skeleton,\n",
    "    generate_nx_graph_from_skeleton,\n",
    "    from_connection_tab,\n",
    "    from_nx_to_tab,\n",
    ")\n",
    "from node_id import whole_movement_identification, second_identification\n",
    "import ast\n",
    "from plotutil import plot_t_tp1, compress_skeleton\n",
    "from scipy import sparse\n",
    "from sparse_util import dilate, zhangSuen\n",
    "from realign import realign\n",
    "from datetime import datetime, timedelta\n",
    "from node_id import orient\n",
    "import pickle\n",
    "from matplotlib.widgets import CheckButtons\n",
    "import scipy.io as sio\n",
    "import imageio\n",
    "from pymatreader import read_mat\n",
    "from matplotlib import colors\n",
    "from copy import deepcopy, copy\n",
    "from collections import Counter\n",
    "import cv2\n",
    "import imageio\n",
    "import matplotlib.pyplot as plt\n",
    "import numpy as np\n",
    "from skimage.filters import frangi\n",
    "from skimage.morphology import thin\n",
    "from skimage import data, filters\n",
    "from random import choice\n",
    "import scipy.sparse\n",
    "import os\n",
    "from time import time\n",
    "from extract_graph import (\n",
    "    dic_to_sparse,\n",
    "    from_sparse_to_graph,\n",
    "    generate_nx_graph,\n",
    "    prune_graph,\n",
    "    from_nx_to_tab,\n",
    "    from_nx_to_tab_matlab,\n",
    "    sparse_to_doc,\n",
    "    connections_pixel_list_to_tab,\n",
    "    transform_list,\n",
    "    clean_degree_4,\n",
    ")\n",
    "from time import sleep\n",
    "from pycpd import RigidRegistration, DeformableRegistration"
   ]
  },
  {
   "cell_type": "code",
   "execution_count": 4,
   "metadata": {},
   "outputs": [],
   "source": [
    "plate = 9\n",
    "directory = \"/scratch/shared/mrozemul/Fiji.app/\"\n",
    "listdir = os.listdir(directory)\n",
    "list_dir_interest = [\n",
    "    name\n",
    "    for name in listdir\n",
    "    if name.split(\"_\")[-1] == f'Plate{0 if plate<10 else \"\"}{plate}'\n",
    "]\n",
    "ss = [name.split(\"_\")[0] for name in list_dir_interest]\n",
    "ff = [name.split(\"_\")[1] for name in list_dir_interest]\n",
    "dates_datetime = [\n",
    "    datetime(\n",
    "        year=int(ss[i][:4]),\n",
    "        month=int(ss[i][4:6]),\n",
    "        day=int(ss[i][6:8]),\n",
    "        hour=int(ff[i][0:2]),\n",
    "        minute=int(ff[i][2:4]),\n",
    "    )\n",
    "    for i in range(len(list_dir_interest))\n",
    "]\n",
    "dates_datetime.sort()\n",
    "dates_datetime_chosen = dates_datetime[1:3]\n",
    "dates = [\n",
    "    f'{0 if date.month<10 else \"\"}{date.month}{0 if date.day<10 else \"\"}{date.day}_{0 if date.hour<10 else \"\"}{date.hour}{0 if date.minute<10 else \"\"}{date.minute}'\n",
    "    for date in dates_datetime_chosen\n",
    "]\n",
    "dilateds = []\n",
    "skels = []\n",
    "skel_docs = []\n",
    "graph_pos = []\n",
    "skels_aligned = []\n",
    "for date in dates:\n",
    "    directory_name = f'2020{date}_Plate{0 if plate<10 else \"\"}{plate}'\n",
    "    path_snap = \"/scratch/shared/mrozemul/Fiji.app/\" + directory_name\n",
    "    dilated = read_mat(path_snap + \"/Analysis/dilated.mat\")[\"dilated\"]\n",
    "    skel = read_mat(path_snap + \"/Analysis/skeleton.mat\")[\"skeleton\"]\n",
    "    dilateds.append(dilated)\n",
    "    skels.append(skel)\n",
    "    skel_doc = sparse_to_doc(skel)\n",
    "    skel_docs.append(skel_doc)\n",
    "#     nx_graph,pos = generate_nx_graph(from_sparse_to_graph(skel_doc))\n",
    "#     graph_pos.append((nx_graph,pos))\n",
    "#     print(len_connected)"
   ]
  },
  {
   "cell_type": "code",
   "execution_count": 14,
   "metadata": {},
   "outputs": [],
   "source": [
    "def get_importance(g, node):\n",
    "    score = np.inf\n",
    "    for edge in g.edges(node):\n",
    "        score = min(score, g.get_edge_data(*edge)[\"weight\"])\n",
    "    return score\n",
    "\n",
    "\n",
    "def realign_final(skeleton1, skeleton2):\n",
    "    nx_graph1, pos1 = generate_nx_graph(from_sparse_to_graph(skeleton1))\n",
    "    nx_graph2, pos2 = generate_nx_graph(from_sparse_to_graph(skeleton2))\n",
    "    pruned1 = prune_graph(nx_graph1)\n",
    "    pruned2 = prune_graph(nx_graph2)\n",
    "    X = np.transpose(\n",
    "        np.array(\n",
    "            [\n",
    "                pos1[node]\n",
    "                for node in pruned1\n",
    "                if pruned1.degree(node) == 3 and get_importance(pruned1, node) >= 10\n",
    "            ]\n",
    "        )\n",
    "    )\n",
    "    Y = np.transpose(\n",
    "        np.array(\n",
    "            [\n",
    "                pos2[node]\n",
    "                for node in pruned2\n",
    "                if pruned2.degree(node) == 3 and get_importance(pruned2, node) >= 10\n",
    "            ]\n",
    "        )\n",
    "    )\n",
    "    print(X.shape, Y.shape)\n",
    "    reg = RigidRegistration(\n",
    "        R=np.array([[1, 0], [0, 1]]),\n",
    "        t=np.array([[0, 0]]),\n",
    "        **{\"X\": np.transpose(X), \"Y\": np.transpose(Y)}\n",
    "    )\n",
    "    out = reg.register()\n",
    "    Rfound = reg.R\n",
    "    tfound = reg.t\n",
    "    skel_transformed = transform_skeleton(skeleton2, Rfound, tfound)\n",
    "    skel_mat = np.zeros((26322, 49527), dtype=np.uint8)\n",
    "    for pixel in skel_transformed.keys():\n",
    "        skel_mat[pixel] = 1\n",
    "    return (skel_mat, Rfound, tfound)\n",
    "\n",
    "\n",
    "def prune_graph(nx_graph, threshold=100):\n",
    "    # should implement threshold!\n",
    "    S = [nx_graph.subgraph(c).copy() for c in nx.connected_components(nx_graph)]\n",
    "    selected = [\n",
    "        g for g in S if g.size(weight=\"weight\") * len(g.nodes) / 10**6 >= threshold\n",
    "    ]\n",
    "    len_connected = [\n",
    "        (nx_graph.size(weight=\"weight\") * len(nx_graph.nodes) / 10**6)\n",
    "        for nx_graph in selected\n",
    "    ]\n",
    "    print(len_connected)\n",
    "    G = selected[0]\n",
    "    for g in selected[1:]:\n",
    "        G = nx.compose(G, g)\n",
    "    return G\n",
    "\n",
    "\n",
    "def transform_skeleton(skeleton_doc, Rot, trans):\n",
    "    transformed_skeleton = {}\n",
    "    transformed_keys = np.round(\n",
    "        np.transpose(\n",
    "            np.dot(\n",
    "                np.linalg.inv(Rot), np.transpose(np.array(list(skeleton_doc.keys())))\n",
    "            )\n",
    "        )\n",
    "        + trans\n",
    "    ).astype(np.int)\n",
    "    i = 0\n",
    "    for pixel in list(transformed_keys):\n",
    "        i += 1\n",
    "        transformed_skeleton[(pixel[0], pixel[1])] = 1\n",
    "    return transformed_skeleton"
   ]
  },
  {
   "cell_type": "code",
   "execution_count": 6,
   "metadata": {},
   "outputs": [],
   "source": [
    "plt.close(\"all\")"
   ]
  },
  {
   "cell_type": "code",
   "execution_count": 15,
   "metadata": {},
   "outputs": [
    {
     "name": "stdout",
     "output_type": "stream",
     "text": [
      "[700.88858]\n",
      "[1012.7436]\n",
      "(2, 1509) (2, 1786)\n"
     ]
    },
    {
     "ename": "ValueError",
     "evalue": "operands could not be broadcast together with shapes (2,347476) (2,) ",
     "output_type": "error",
     "traceback": [
      "\u001b[0;31m---------------------------------------------------------------------------\u001b[0m",
      "\u001b[0;31mValueError\u001b[0m                                Traceback (most recent call last)",
      "\u001b[0;32m<ipython-input-15-1807db5c4b82>\u001b[0m in \u001b[0;36m<module>\u001b[0;34m()\u001b[0m\n\u001b[0;32m----> 1\u001b[0;31m \u001b[0mrealigned\u001b[0m \u001b[0;34m=\u001b[0m \u001b[0mrealign_final\u001b[0m\u001b[0;34m(\u001b[0m\u001b[0mskel_docs\u001b[0m\u001b[0;34m[\u001b[0m\u001b[0;36m0\u001b[0m\u001b[0;34m]\u001b[0m\u001b[0;34m,\u001b[0m\u001b[0mskel_docs\u001b[0m\u001b[0;34m[\u001b[0m\u001b[0;36m1\u001b[0m\u001b[0;34m]\u001b[0m\u001b[0;34m)\u001b[0m\u001b[0;34m\u001b[0m\u001b[0;34m\u001b[0m\u001b[0m\n\u001b[0m",
      "\u001b[0;32m<ipython-input-14-7a3d66ce2ea6>\u001b[0m in \u001b[0;36mrealign_final\u001b[0;34m(skeleton1, skeleton2)\u001b[0m\n\u001b[1;32m     16\u001b[0m     \u001b[0mRfound\u001b[0m \u001b[0;34m=\u001b[0m \u001b[0mreg\u001b[0m\u001b[0;34m.\u001b[0m\u001b[0mR\u001b[0m\u001b[0;34m\u001b[0m\u001b[0;34m\u001b[0m\u001b[0m\n\u001b[1;32m     17\u001b[0m     \u001b[0mtfound\u001b[0m\u001b[0;34m=\u001b[0m \u001b[0mreg\u001b[0m\u001b[0;34m.\u001b[0m\u001b[0mt\u001b[0m\u001b[0;34m\u001b[0m\u001b[0;34m\u001b[0m\u001b[0m\n\u001b[0;32m---> 18\u001b[0;31m     \u001b[0mskel_transformed\u001b[0m \u001b[0;34m=\u001b[0m \u001b[0mtransform_skeleton\u001b[0m\u001b[0;34m(\u001b[0m\u001b[0mskeleton2\u001b[0m\u001b[0;34m,\u001b[0m\u001b[0mRfound\u001b[0m\u001b[0;34m,\u001b[0m\u001b[0mtfound\u001b[0m\u001b[0;34m)\u001b[0m\u001b[0;34m\u001b[0m\u001b[0;34m\u001b[0m\u001b[0m\n\u001b[0m\u001b[1;32m     19\u001b[0m     \u001b[0mskel_mat\u001b[0m \u001b[0;34m=\u001b[0m \u001b[0mnp\u001b[0m\u001b[0;34m.\u001b[0m\u001b[0mzeros\u001b[0m\u001b[0;34m(\u001b[0m\u001b[0;34m(\u001b[0m\u001b[0;36m26322\u001b[0m\u001b[0;34m,\u001b[0m \u001b[0;36m49527\u001b[0m\u001b[0;34m)\u001b[0m\u001b[0;34m,\u001b[0m\u001b[0mdtype\u001b[0m\u001b[0;34m=\u001b[0m\u001b[0mnp\u001b[0m\u001b[0;34m.\u001b[0m\u001b[0muint8\u001b[0m\u001b[0;34m)\u001b[0m\u001b[0;34m\u001b[0m\u001b[0;34m\u001b[0m\u001b[0m\n\u001b[1;32m     20\u001b[0m     \u001b[0;32mfor\u001b[0m \u001b[0mpixel\u001b[0m \u001b[0;32min\u001b[0m \u001b[0mskel_transformed\u001b[0m\u001b[0;34m.\u001b[0m\u001b[0mkeys\u001b[0m\u001b[0;34m(\u001b[0m\u001b[0;34m)\u001b[0m\u001b[0;34m:\u001b[0m\u001b[0;34m\u001b[0m\u001b[0;34m\u001b[0m\u001b[0m\n",
      "\u001b[0;32m<ipython-input-14-7a3d66ce2ea6>\u001b[0m in \u001b[0;36mtransform_skeleton\u001b[0;34m(skeleton_doc, Rot, trans)\u001b[0m\n\u001b[1;32m     33\u001b[0m \u001b[0;32mdef\u001b[0m \u001b[0mtransform_skeleton\u001b[0m\u001b[0;34m(\u001b[0m\u001b[0mskeleton_doc\u001b[0m\u001b[0;34m,\u001b[0m\u001b[0mRot\u001b[0m\u001b[0;34m,\u001b[0m\u001b[0mtrans\u001b[0m\u001b[0;34m)\u001b[0m\u001b[0;34m:\u001b[0m\u001b[0;34m\u001b[0m\u001b[0;34m\u001b[0m\u001b[0m\n\u001b[1;32m     34\u001b[0m     \u001b[0mtransformed_skeleton\u001b[0m\u001b[0;34m=\u001b[0m\u001b[0;34m{\u001b[0m\u001b[0;34m}\u001b[0m\u001b[0;34m\u001b[0m\u001b[0;34m\u001b[0m\u001b[0m\n\u001b[0;32m---> 35\u001b[0;31m     \u001b[0mtransformed_keys\u001b[0m \u001b[0;34m=\u001b[0m \u001b[0;34m(\u001b[0m\u001b[0mnp\u001b[0m\u001b[0;34m.\u001b[0m\u001b[0mround\u001b[0m\u001b[0;34m(\u001b[0m\u001b[0mnp\u001b[0m\u001b[0;34m.\u001b[0m\u001b[0mtranspose\u001b[0m\u001b[0;34m(\u001b[0m\u001b[0mnp\u001b[0m\u001b[0;34m.\u001b[0m\u001b[0mdot\u001b[0m\u001b[0;34m(\u001b[0m\u001b[0mnp\u001b[0m\u001b[0;34m.\u001b[0m\u001b[0mlinalg\u001b[0m\u001b[0;34m.\u001b[0m\u001b[0minv\u001b[0m\u001b[0;34m(\u001b[0m\u001b[0mRot\u001b[0m\u001b[0;34m)\u001b[0m\u001b[0;34m,\u001b[0m\u001b[0mnp\u001b[0m\u001b[0;34m.\u001b[0m\u001b[0mtranspose\u001b[0m\u001b[0;34m(\u001b[0m\u001b[0mnp\u001b[0m\u001b[0;34m.\u001b[0m\u001b[0marray\u001b[0m\u001b[0;34m(\u001b[0m\u001b[0mlist\u001b[0m\u001b[0;34m(\u001b[0m\u001b[0mskeleton_doc\u001b[0m\u001b[0;34m.\u001b[0m\u001b[0mkeys\u001b[0m\u001b[0;34m(\u001b[0m\u001b[0;34m)\u001b[0m\u001b[0;34m)\u001b[0m\u001b[0;34m)\u001b[0m\u001b[0;34m)\u001b[0m\u001b[0;34m+\u001b[0m\u001b[0mtrans\u001b[0m\u001b[0;34m)\u001b[0m\u001b[0;34m)\u001b[0m\u001b[0;34m)\u001b[0m\u001b[0;34m.\u001b[0m\u001b[0mastype\u001b[0m\u001b[0;34m(\u001b[0m\u001b[0mnp\u001b[0m\u001b[0;34m.\u001b[0m\u001b[0mint\u001b[0m\u001b[0;34m)\u001b[0m\u001b[0;34m)\u001b[0m\u001b[0;34m\u001b[0m\u001b[0;34m\u001b[0m\u001b[0m\n\u001b[0m\u001b[1;32m     36\u001b[0m     \u001b[0mi\u001b[0m\u001b[0;34m=\u001b[0m\u001b[0;36m0\u001b[0m\u001b[0;34m\u001b[0m\u001b[0;34m\u001b[0m\u001b[0m\n\u001b[1;32m     37\u001b[0m     \u001b[0;32mfor\u001b[0m \u001b[0mpixel\u001b[0m \u001b[0;32min\u001b[0m \u001b[0mlist\u001b[0m\u001b[0;34m(\u001b[0m\u001b[0mtransformed_keys\u001b[0m\u001b[0;34m)\u001b[0m\u001b[0;34m:\u001b[0m\u001b[0;34m\u001b[0m\u001b[0;34m\u001b[0m\u001b[0m\n",
      "\u001b[0;31mValueError\u001b[0m: operands could not be broadcast together with shapes (2,347476) (2,) "
     ]
    }
   ],
   "source": [
    "realigned = realign_final(skel_docs[0], skel_docs[1])"
   ]
  },
  {
   "cell_type": "code",
   "execution_count": null,
   "metadata": {},
   "outputs": [],
   "source": [
    "realigned"
   ]
  },
  {
   "cell_type": "code",
   "execution_count": null,
   "metadata": {},
   "outputs": [],
   "source": [
    "plot_t_tp1(\n",
    "    [],\n",
    "    [],\n",
    "    None,\n",
    "    None,\n",
    "    realigned[0][19000:21000, 44000:46000],\n",
    "    skels[0][19000:21000, 44000:46000],\n",
    ")"
   ]
  },
  {
   "cell_type": "code",
   "execution_count": 56,
   "metadata": {},
   "outputs": [
    {
     "data": {
      "application/vnd.jupyter.widget-view+json": {
       "model_id": "1239d317f1f24f4580011a6dc73cb98d",
       "version_major": 2,
       "version_minor": 0
      },
      "text/plain": [
       "Canvas(toolbar=Toolbar(toolitems=[('Home', 'Reset original view', 'home', 'home'), ('Back', 'Back to previous …"
      ]
     },
     "metadata": {},
     "output_type": "display_data"
    }
   ],
   "source": [
    "plot_t_tp1(\n",
    "    [],\n",
    "    [],\n",
    "    None,\n",
    "    None,\n",
    "    skels[0][19000:21000, 44000:46000],\n",
    "    skels[1][19000:21000, 44000:46000],\n",
    ")"
   ]
  },
  {
   "cell_type": "code",
   "execution_count": 58,
   "metadata": {},
   "outputs": [],
   "source": []
  },
  {
   "cell_type": "code",
   "execution_count": 8,
   "metadata": {},
   "outputs": [
    {
     "name": "stdout",
     "output_type": "stream",
     "text": [
      "[1581.43881]\n",
      "[1993.99993]\n",
      "[2555.631652]\n",
      "[2893.02801]\n",
      "[3334.03228]\n"
     ]
    }
   ],
   "source": [
    "pruned = [prune_graph(nx_graph_pos[0]) for nx_graph_pos in graph_pos]"
   ]
  },
  {
   "cell_type": "code",
   "execution_count": null,
   "metadata": {},
   "outputs": [],
   "source": [
    "realigned = [skels[0]]\n",
    "for i, date in enumerate(dates[:-1]):\n",
    "    realigned, R, t = realign_final(realigned[-1], skel_docs[i + 1])"
   ]
  }
 ],
 "metadata": {
  "kernelspec": {
   "display_name": "Python 3",
   "language": "python",
   "name": "python3"
  },
  "language_info": {
   "codemirror_mode": {
    "name": "ipython",
    "version": 3
   },
   "file_extension": ".py",
   "mimetype": "text/x-python",
   "name": "python",
   "nbconvert_exporter": "python",
   "pygments_lexer": "ipython3",
   "version": "3.7.8"
  }
 },
 "nbformat": 4,
 "nbformat_minor": 4
}

{
 "cells": [
  {
   "cell_type": "code",
   "execution_count": 1,
   "metadata": {},
   "outputs": [],
   "source": [
    "%matplotlib widget\n",
    "from util import get_path\n",
    "import pandas as pd\n",
    "import networkx as nx\n",
    "import numpy as np\n",
    "import matplotlib.pyplot as plt\n",
    "from extract_graph import generate_nx_graph, transform_list, generate_skeleton, generate_nx_graph_from_skeleton, from_connection_tab, from_nx_to_tab\n",
    "from node_id import whole_movement_identification, second_identification\n",
    "import ast\n",
    "from plotutil import plot_t_tp1, compress_skeleton\n",
    "from scipy import sparse\n",
    "from sparse_util import dilate, zhangSuen\n",
    "from realign import realign, realign_final\n",
    "from datetime import datetime,timedelta\n",
    "from node_id import orient\n",
    "import pickle\n",
    "from matplotlib.widgets import CheckButtons\n",
    "import scipy.io as sio\n",
    "import imageio\n",
    "from pymatreader import read_mat\n",
    "from matplotlib import colors\n",
    "from copy import deepcopy,copy\n",
    "from collections import Counter\n",
    "import cv2 \n",
    "import imageio\n",
    "import matplotlib.pyplot as plt\n",
    "import numpy as np\n",
    "from skimage.filters import frangi\n",
    "from skimage.morphology import thin\n",
    "from skimage import data, filters\n",
    "from random import choice\n",
    "import scipy.sparse\n",
    "import os\n",
    "from time import time\n",
    "from extract_graph import dic_to_sparse, from_sparse_to_graph, generate_nx_graph, prune_graph, from_nx_to_tab, from_nx_to_tab_matlab,sparse_to_doc, connections_pixel_list_to_tab, transform_list, clean_degree_4\n",
    "from time import sleep\n",
    "from pycpd import RigidRegistration, DeformableRegistration\n",
    "import open3d as o3d\n",
    "from cycpd import rigid_registration"
   ]
  },
  {
   "cell_type": "code",
   "execution_count": 13,
   "metadata": {},
   "outputs": [
    {
     "name": "stdout",
     "output_type": "stream",
     "text": [
      "Submitted batch job 9365975\n",
      "Submitted batch job 9365976\n",
      "Submitted batch job 9365977\n",
      "Submitted batch job 9365978\n",
      "Submitted batch job 9365979\n",
      "Submitted batch job 9365980\n",
      "Submitted batch job 9365981\n"
     ]
    }
   ],
   "source": [
    "plate = 5\n",
    "for j in range(0,7):\n",
    "    my_file = open(\"/scratch/shared/mrozemul/Fiji.app/align.sh\", \"w\")\n",
    "    my_file.write(\"#!/bin/bash \\n#Set job requirements \\n#SBATCH -N 1 \\n#SBATCH -t 2:00:00\\n#SBATCH -p normal\\n\")\n",
    "    my_file.write(f'for i in `seq {8*j} {8*j+7}`; do\\n')\n",
    "    my_file.write(f'\\t python ~/Corentin/MscThesis/final_alignment.py $i {plate} &\\n')\n",
    "    my_file.write('done\\n')\n",
    "    my_file.write('wait\\n')\n",
    "    my_file.close()\n",
    "# !srun -t 2:00:00 --pty /scratch/shared/mrozemul/Fiji.app/align.sh\n",
    "    !sbatch /scratch/shared/mrozemul/Fiji.app/align.sh"
   ]
  },
  {
   "cell_type": "code",
   "execution_count": 12,
   "metadata": {},
   "outputs": [
    {
     "data": {
      "text/plain": [
       "20"
      ]
     },
     "execution_count": 12,
     "metadata": {},
     "output_type": "execute_result"
    }
   ],
   "source": [
    "plate = 3\n",
    "directory = \"/scratch/shared/mrozemul/Fiji.app/\" \n",
    "listdir=os.listdir(directory) \n",
    "list_dir_interest=[name for name in listdir if name.split('_')[-1]==f'Plate{0 if plate<10 else \"\"}{plate}']\n",
    "len(list_dir_interest)"
   ]
  },
  {
   "cell_type": "code",
   "execution_count": 17,
   "metadata": {},
   "outputs": [
    {
     "data": {
      "text/plain": [
       "[datetime.datetime(2020, 8, 14, 4, 57),\n",
       " datetime.datetime(2020, 8, 14, 8, 57),\n",
       " datetime.datetime(2020, 8, 14, 12, 57),\n",
       " datetime.datetime(2020, 8, 14, 16, 57),\n",
       " datetime.datetime(2020, 8, 14, 20, 57),\n",
       " datetime.datetime(2020, 8, 15, 0, 57),\n",
       " datetime.datetime(2020, 8, 15, 4, 57),\n",
       " datetime.datetime(2020, 8, 15, 8, 57),\n",
       " datetime.datetime(2020, 8, 15, 12, 57),\n",
       " datetime.datetime(2020, 8, 15, 16, 57),\n",
       " datetime.datetime(2020, 8, 15, 20, 57),\n",
       " datetime.datetime(2020, 8, 16, 0, 57),\n",
       " datetime.datetime(2020, 8, 16, 4, 57),\n",
       " datetime.datetime(2020, 8, 16, 8, 57),\n",
       " datetime.datetime(2020, 8, 16, 12, 57),\n",
       " datetime.datetime(2020, 8, 16, 16, 57),\n",
       " datetime.datetime(2020, 8, 16, 20, 57),\n",
       " datetime.datetime(2020, 8, 17, 0, 57),\n",
       " datetime.datetime(2020, 8, 17, 4, 57)]"
      ]
     },
     "execution_count": 17,
     "metadata": {},
     "output_type": "execute_result"
    }
   ],
   "source": [
    "dates_datetime_chosen"
   ]
  },
  {
   "cell_type": "code",
   "execution_count": 16,
   "metadata": {},
   "outputs": [
    {
     "data": {
      "application/vnd.jupyter.widget-view+json": {
       "model_id": "6fdcfd86c2d54f3c8102bf672e494120",
       "version_major": 2,
       "version_minor": 0
      },
      "text/plain": [
       "Canvas(toolbar=Toolbar(toolitems=[('Home', 'Reset original view', 'home', 'home'), ('Back', 'Back to previous …"
      ]
     },
     "metadata": {},
     "output_type": "display_data"
    },
    {
     "data": {
      "application/vnd.jupyter.widget-view+json": {
       "model_id": "271dc5e9fe3d4a328f3a48d788b9bc4d",
       "version_major": 2,
       "version_minor": 0
      },
      "text/plain": [
       "Canvas(toolbar=Toolbar(toolitems=[('Home', 'Reset original view', 'home', 'home'), ('Back', 'Back to previous …"
      ]
     },
     "metadata": {},
     "output_type": "display_data"
    },
    {
     "data": {
      "application/vnd.jupyter.widget-view+json": {
       "model_id": "05e68323df4f4ce1bb60bc768b3d8c91",
       "version_major": 2,
       "version_minor": 0
      },
      "text/plain": [
       "Canvas(toolbar=Toolbar(toolitems=[('Home', 'Reset original view', 'home', 'home'), ('Back', 'Back to previous …"
      ]
     },
     "metadata": {},
     "output_type": "display_data"
    },
    {
     "data": {
      "application/vnd.jupyter.widget-view+json": {
       "model_id": "ed590a123d0f448e9032c85053be4d53",
       "version_major": 2,
       "version_minor": 0
      },
      "text/plain": [
       "Canvas(toolbar=Toolbar(toolitems=[('Home', 'Reset original view', 'home', 'home'), ('Back', 'Back to previous …"
      ]
     },
     "metadata": {},
     "output_type": "display_data"
    },
    {
     "data": {
      "application/vnd.jupyter.widget-view+json": {
       "model_id": "8d9227e892af47ec8a8f75e5e1c79575",
       "version_major": 2,
       "version_minor": 0
      },
      "text/plain": [
       "Canvas(toolbar=Toolbar(toolitems=[('Home', 'Reset original view', 'home', 'home'), ('Back', 'Back to previous …"
      ]
     },
     "metadata": {},
     "output_type": "display_data"
    },
    {
     "data": {
      "application/vnd.jupyter.widget-view+json": {
       "model_id": "3e95903b8eb244f3b9791ba95da19fc6",
       "version_major": 2,
       "version_minor": 0
      },
      "text/plain": [
       "Canvas(toolbar=Toolbar(toolitems=[('Home', 'Reset original view', 'home', 'home'), ('Back', 'Back to previous …"
      ]
     },
     "metadata": {},
     "output_type": "display_data"
    },
    {
     "data": {
      "application/vnd.jupyter.widget-view+json": {
       "model_id": "58420e9945ed4817ad5287fd251066bc",
       "version_major": 2,
       "version_minor": 0
      },
      "text/plain": [
       "Canvas(toolbar=Toolbar(toolitems=[('Home', 'Reset original view', 'home', 'home'), ('Back', 'Back to previous …"
      ]
     },
     "metadata": {},
     "output_type": "display_data"
    },
    {
     "data": {
      "application/vnd.jupyter.widget-view+json": {
       "model_id": "3bfe082880344152a7a34cb999c7610c",
       "version_major": 2,
       "version_minor": 0
      },
      "text/plain": [
       "Canvas(toolbar=Toolbar(toolitems=[('Home', 'Reset original view', 'home', 'home'), ('Back', 'Back to previous …"
      ]
     },
     "metadata": {},
     "output_type": "display_data"
    }
   ],
   "source": [
    "plt.close('all')\n",
    "plate = 11\n",
    "directory = \"/scratch/shared/mrozemul/Fiji.app/\" \n",
    "listdir=os.listdir(directory) \n",
    "list_dir_interest=[name for name in listdir if name.split('_')[-1]==f'Plate{0 if plate<10 else \"\"}{plate}']\n",
    "ss=[name.split('_')[0] for name in list_dir_interest]\n",
    "ff=[name.split('_')[1] for name in list_dir_interest]\n",
    "dates_datetime=[datetime(year=int(ss[i][:4]),month=int(ss[i][4:6]),day=int(ss[i][6:8]),hour=int(ff[i][0:2]),minute=int(ff[i][2:4])) for i in range(len(list_dir_interest))]\n",
    "dates_datetime.sort()\n",
    "dates_datetime_chosen=dates_datetime[1:20]\n",
    "dates = [f'{0 if date.month<10 else \"\"}{date.month}{0 if date.day<10 else \"\"}{date.day}_{0 if date.hour<10 else \"\"}{date.hour}{0 if date.minute<10 else \"\"}{date.minute}' for date in dates_datetime_chosen]\n",
    "dilateds=[]\n",
    "skels = []\n",
    "skel_docs = []\n",
    "Rs=[]\n",
    "ts=[]\n",
    "for date in dates:\n",
    "    directory_name=f'2020{date}_Plate{0 if plate<10 else \"\"}{plate}'\n",
    "    path_snap='/scratch/shared/mrozemul/Fiji.app/'+directory_name\n",
    "    skel_info = read_mat(path_snap+'/Analysis/skeleton.mat')\n",
    "    skel = skel_info['skeleton']\n",
    "    skels.append(skel)\n",
    "    skel_doc = sparse_to_doc(skel)\n",
    "    skel_docs.append(skel_doc)\n",
    "    transform = sio.loadmat(path_snap+'/Analysis/transform.mat')\n",
    "    R,t = transform['R'],transform['t']\n",
    "    Rs.append(R)\n",
    "    ts.append(t)\n",
    "for j in range(11,19): \n",
    "    skeleton1,skeleton2 = skel_docs[j-1],skel_docs[j]\n",
    "    R,t = Rs[j],ts[j]\n",
    "    skelet_pos = np.array(list(skeleton1.keys()))\n",
    "    samples = np.random.choice(skelet_pos.shape[0],20000)\n",
    "    X = np.transpose(skelet_pos[samples,:])\n",
    "    skelet_pos = np.array(list(skeleton2.keys()))\n",
    "    samples = np.random.choice(skelet_pos.shape[0],20000)\n",
    "    Y = np.transpose(skelet_pos[samples,:])\n",
    "    fig=plt.figure(figsize=(10,9))\n",
    "    ax = fig.add_subplot(111)\n",
    "    Yrep=np.transpose(np.transpose(np.dot(R,X))+t)\n",
    "    ax.scatter(np.transpose(Yrep)[:,0],np.transpose(Yrep)[:,1])\n",
    "#     ax.scatter(np.transpose(X)[:,0],np.transpose(X)[:,1])\n",
    "    ax.scatter(np.transpose(Y)[:,0],np.transpose(Y)[:,1])\n"
   ]
  },
  {
   "cell_type": "code",
   "execution_count": 12,
   "metadata": {},
   "outputs": [
    {
     "data": {
      "application/vnd.jupyter.widget-view+json": {
       "model_id": "b4a8bf29c9ce42c59051a83606f4ef8b",
       "version_major": 2,
       "version_minor": 0
      },
      "text/plain": [
       "Canvas(toolbar=Toolbar(toolitems=[('Home', 'Reset original view', 'home', 'home'), ('Back', 'Back to previous …"
      ]
     },
     "metadata": {},
     "output_type": "display_data"
    },
    {
     "data": {
      "text/plain": [
       "<matplotlib.collections.PathCollection at 0x2adcc166d090>"
      ]
     },
     "execution_count": 12,
     "metadata": {},
     "output_type": "execute_result"
    }
   ],
   "source": [
    "plt.close('all')\n",
    "plate = 3\n",
    "directory = \"/scratch/shared/mrozemul/Fiji.app/\" \n",
    "listdir=os.listdir(directory) \n",
    "list_dir_interest=[name for name in listdir if name.split('_')[-1]==f'Plate{0 if plate<10 else \"\"}{plate}']\n",
    "ss=[name.split('_')[0] for name in list_dir_interest]\n",
    "ff=[name.split('_')[1] for name in list_dir_interest]\n",
    "dates_datetime=[datetime(year=int(ss[i][:4]),month=int(ss[i][4:6]),day=int(ss[i][6:8]),hour=int(ff[i][0:2]),minute=int(ff[i][2:4])) for i in range(len(list_dir_interest))]\n",
    "dates_datetime.sort()\n",
    "dates_datetime_chosen=dates_datetime[23:28]\n",
    "dates = [f'{0 if date.month<10 else \"\"}{date.month}{0 if date.day<10 else \"\"}{date.day}_{0 if date.hour<10 else \"\"}{date.hour}{0 if date.minute<10 else \"\"}{date.minute}' for date in dates_datetime_chosen]\n",
    "dilateds=[]\n",
    "skels = []\n",
    "skel_docs = []\n",
    "for date in dates:\n",
    "    directory_name=f'2020{date}_Plate{0 if plate<10 else \"\"}{plate}'\n",
    "    path_snap='/scratch/shared/mrozemul/Fiji.app/'+directory_name\n",
    "    skel_info = read_mat(path_snap+'/Analysis/skeleton.mat')\n",
    "    skel = skel_info['skeleton']\n",
    "    skels.append(skel)\n",
    "    skel_doc = sparse_to_doc(skel)\n",
    "    skel_docs.append(skel_doc)\n",
    "for j in range(2): \n",
    "    skeleton1,skeleton2 = skel_docs[j],skel_docs[j+1]\n",
    "skelet_pos = np.array(list(skeleton1.keys()))\n",
    "samples = np.random.choice(skelet_pos.shape[0],len(skeleton2.keys())//100)\n",
    "X = np.transpose(skelet_pos[samples,:])\n",
    "skelet_pos = np.array(list(skeleton2.keys()))\n",
    "samples = np.random.choice(skelet_pos.shape[0],len(skeleton2.keys())//100)\n",
    "Y = np.transpose(skelet_pos[samples,:])\n",
    "fig=plt.figure(figsize=(10,9))\n",
    "ax = fig.add_subplot(111)\n",
    "ax.scatter(X[0,:],X[1,:])\n",
    "ax.scatter(Y[0,:],Y[1,:])"
   ]
  },
  {
   "cell_type": "code",
   "execution_count": 25,
   "metadata": {},
   "outputs": [
    {
     "data": {
      "text/plain": [
       "[datetime.datetime(2020, 7, 16, 11, 34), datetime.datetime(2020, 7, 18, 9, 25)]"
      ]
     },
     "execution_count": 25,
     "metadata": {},
     "output_type": "execute_result"
    }
   ],
   "source": [
    "dates_datetime_chosen"
   ]
  },
  {
   "cell_type": "code",
   "execution_count": 11,
   "metadata": {},
   "outputs": [
    {
     "data": {
      "text/plain": [
       "13430.87"
      ]
     },
     "execution_count": 11,
     "metadata": {},
     "output_type": "execute_result"
    }
   ],
   "source": [
    "len(skeleton2.keys())/100"
   ]
  },
  {
   "cell_type": "code",
   "execution_count": 13,
   "metadata": {},
   "outputs": [],
   "source": [
    "# skelet_pos = np.array(list(skeleton1.keys()))\n",
    "# samples = np.random.choice(skelet_pos.shape[0],len(skeleton2.keys())//100)\n",
    "# X = np.transpose(skelet_pos[samples,:])\n",
    "# skelet_pos = np.array(list(skeleton2.keys()))\n",
    "# samples = np.random.choice(skelet_pos.shape[0],len(skeleton2.keys())//100)\n",
    "# Y = np.transpose(skelet_pos[samples,:])"
   ]
  },
  {
   "cell_type": "code",
   "execution_count": 16,
   "metadata": {},
   "outputs": [],
   "source": [
    "skelet_pos = np.array(list(skeleton1.keys()))\n",
    "samples = np.random.choice(skelet_pos.shape[0],len(skeleton2.keys())//100)\n",
    "X = np.transpose(skelet_pos[samples,:])\n",
    "skelet_pos = np.array(list(skeleton2.keys()))\n",
    "samples = np.random.choice(skelet_pos.shape[0],len(skeleton2.keys())//100)\n",
    "Y = np.transpose(skelet_pos[samples,:])"
   ]
  },
  {
   "cell_type": "code",
   "execution_count": 17,
   "metadata": {},
   "outputs": [
    {
     "data": {
      "application/vnd.jupyter.widget-view+json": {
       "model_id": "e9a83576a9744018be88d2d9bfa848d9",
       "version_major": 2,
       "version_minor": 0
      },
      "text/plain": [
       "Canvas(toolbar=Toolbar(toolitems=[('Home', 'Reset original view', 'home', 'home'), ('Back', 'Back to previous …"
      ]
     },
     "metadata": {},
     "output_type": "display_data"
    },
    {
     "data": {
      "text/plain": [
       "<matplotlib.collections.PathCollection at 0x2adc99c46f10>"
      ]
     },
     "execution_count": 17,
     "metadata": {},
     "output_type": "execute_result"
    }
   ],
   "source": [
    "fig=plt.figure(figsize=(10,9))\n",
    "ax = fig.add_subplot(111)\n",
    "ax.scatter(X[0,:],X[1,:])\n",
    "ax.scatter(Y[0,:],Y[1,:])"
   ]
  },
  {
   "cell_type": "code",
   "execution_count": 18,
   "metadata": {
    "collapsed": true,
    "jupyter": {
     "outputs_hidden": true
    }
   },
   "outputs": [
    {
     "name": "stdout",
     "output_type": "stream",
     "text": [
      "Iteration:1\n",
      "ML:156884.936; \tML change (error):156884.936; \tSigma^2:41312564.378; \tSigma^2 change:93626448.824\n",
      "[                                                                        ]\n",
      "Iteration:2\n",
      "ML:144516.661; \tML change (error): 12368.275; \tSigma^2:21057469.076; \tSigma^2 change:20255095.302\n",
      "[=                                                                       ]\n",
      "Iteration:3\n",
      "ML:139905.672; \tML change (error):  4610.989; \tSigma^2:13829033.633; \tSigma^2 change:7228435.443\n",
      "[==                                                                      ]\n",
      "Iteration:4\n",
      "ML:137780.776; \tML change (error):  2124.896; \tSigma^2:10018909.831; \tSigma^2 change:3810123.802\n",
      "[==                                                                      ]\n",
      "Iteration:5\n",
      "ML:136427.418; \tML change (error):  1353.357; \tSigma^2:7628076.916; \tSigma^2 change:2390832.915\n",
      "[===                                                                     ]\n",
      "Iteration:6\n",
      "ML:135416.149; \tML change (error):  1011.269; \tSigma^2:5985847.013; \tSigma^2 change:1642229.903\n",
      "[====                                                                    ]\n",
      "Iteration:7\n",
      "ML:134595.800; \tML change (error):   820.349; \tSigma^2:4798741.321; \tSigma^2 change:1187105.692\n",
      "[=====                                                                   ]\n",
      "Iteration:8\n",
      "ML:133902.232; \tML change (error):   693.568; \tSigma^2:3913106.999; \tSigma^2 change:885634.322\n",
      "[=====                                                                   ]\n",
      "Iteration:9\n",
      "ML:133303.771; \tML change (error):   598.461; \tSigma^2:3237530.369; \tSigma^2 change:675576.630\n",
      "[======                                                                  ]\n",
      "Iteration:10\n",
      "ML:132781.698; \tML change (error):   522.073; \tSigma^2:2712942.250; \tSigma^2 change:524588.119\n",
      "[=======                                                                 ]\n",
      "Iteration:11\n",
      "ML:132322.912; \tML change (error):   458.786; \tSigma^2:2299256.261; \tSigma^2 change:413685.989\n",
      "[=======                                                                 ]\n",
      "Iteration:12\n",
      "ML:131917.202; \tML change (error):   405.710; \tSigma^2:1968419.357; \tSigma^2 change:330836.903\n",
      "[========                                                                ]\n",
      "Iteration:13\n",
      "ML:131556.160; \tML change (error):   361.043; \tSigma^2:1700370.682; \tSigma^2 change:268048.675\n",
      "[=========                                                               ]\n",
      "Iteration:14\n",
      "ML:131232.710; \tML change (error):   323.450; \tSigma^2:1480543.861; \tSigma^2 change:219826.821\n",
      "[==========                                                              ]\n",
      "Iteration:15\n",
      "ML:130940.932; \tML change (error):   291.779; \tSigma^2:1298239.376; \tSigma^2 change:182304.485\n",
      "[==========                                                              ]\n",
      "Iteration:16\n",
      "ML:130675.945; \tML change (error):   264.987; \tSigma^2:1145505.439; \tSigma^2 change:152733.937\n",
      "[===========                                                             ]\n",
      "Iteration:17\n",
      "ML:130433.759; \tML change (error):   242.186; \tSigma^2:1016355.049; \tSigma^2 change:129150.390\n",
      "[============                                                            ]\n",
      "Iteration:18\n",
      "ML:130211.098; \tML change (error):   222.661; \tSigma^2:906224.697; \tSigma^2 change:110130.352\n",
      "[============                                                            ]\n",
      "Iteration:19\n",
      "ML:130005.264; \tML change (error):   205.834; \tSigma^2:811599.443; \tSigma^2 change: 94625.254\n",
      "[=============                                                           ]\n",
      "Iteration:20\n",
      "ML:129814.045; \tML change (error):   191.220; \tSigma^2:729746.748; \tSigma^2 change: 81852.695\n",
      "[==============                                                          ]\n",
      "Iteration:21\n",
      "ML:129635.641; \tML change (error):   178.403; \tSigma^2:658522.769; \tSigma^2 change: 71223.979\n",
      "[===============                                                         ]\n",
      "Iteration:22\n",
      "ML:129468.611; \tML change (error):   167.030; \tSigma^2:596229.805; \tSigma^2 change: 62292.964\n",
      "[===============                                                         ]\n",
      "Iteration:23\n",
      "ML:129311.813; \tML change (error):   156.799; \tSigma^2:541510.918; \tSigma^2 change: 54718.887\n",
      "[================                                                        ]\n",
      "Iteration:24\n",
      "ML:129164.360; \tML change (error):   147.453; \tSigma^2:493271.130; \tSigma^2 change: 48239.788\n",
      "[=================                                                       ]\n",
      "Iteration:25\n",
      "ML:129025.580; \tML change (error):   138.779; \tSigma^2:450617.351; \tSigma^2 change: 42653.779\n",
      "[==================                                                      ]\n",
      "Iteration:26\n",
      "ML:128894.973; \tML change (error):   130.607; \tSigma^2:412812.022; \tSigma^2 change: 37805.329\n",
      "[==================                                                      ]\n",
      "Iteration:27\n",
      "ML:128772.162; \tML change (error):   122.812; \tSigma^2:379237.701; \tSigma^2 change: 33574.320\n",
      "[===================                                                     ]\n",
      "Iteration:28\n",
      "ML:128656.851; \tML change (error):   115.311; \tSigma^2:349370.736; \tSigma^2 change: 29866.966\n",
      "[====================                                                    ]\n",
      "Iteration:29\n",
      "ML:128548.791; \tML change (error):   108.060; \tSigma^2:322762.200; \tSigma^2 change: 26608.535\n",
      "[====================                                                    ]\n",
      "Iteration:30\n",
      "ML:128447.752; \tML change (error):   101.039; \tSigma^2:299024.229; \tSigma^2 change: 23737.972\n",
      "[=====================                                                   ]\n",
      "Iteration:31\n",
      "ML:128353.510; \tML change (error):    94.242; \tSigma^2:277820.016; \tSigma^2 change: 21204.213\n",
      "[======================                                                  ]\n",
      "Iteration:32\n",
      "ML:128265.838; \tML change (error):    87.672; \tSigma^2:258856.178; \tSigma^2 change: 18963.838\n",
      "[=======================                                                 ]\n",
      "Iteration:33\n",
      "ML:128184.504; \tML change (error):    81.334; \tSigma^2:241876.617; \tSigma^2 change: 16979.561\n",
      "[=======================                                                 ]\n",
      "Iteration:34\n",
      "ML:128109.270; \tML change (error):    75.234; \tSigma^2:226657.399; \tSigma^2 change: 15219.218\n",
      "[========================                                                ]\n",
      "Iteration:35\n",
      "ML:128039.891; \tML change (error):    69.378; \tSigma^2:213002.386; \tSigma^2 change: 13655.012\n",
      "[=========================                                               ]\n",
      "Iteration:36\n",
      "ML:127976.118; \tML change (error):    63.773; \tSigma^2:200739.484; \tSigma^2 change: 12262.902\n",
      "[=========================                                               ]\n",
      "Iteration:37\n",
      "ML:127917.694; \tML change (error):    58.425; \tSigma^2:189717.402; \tSigma^2 change: 11022.082\n",
      "[==========================                                              ]\n",
      "Iteration:38\n",
      "ML:127864.354; \tML change (error):    53.339; \tSigma^2:179802.871; \tSigma^2 change:  9914.532\n",
      "[===========================                                             ]\n",
      "Iteration:39\n",
      "ML:127815.831; \tML change (error):    48.523; \tSigma^2:170878.239; \tSigma^2 change:  8924.631\n",
      "[============================                                            ]\n",
      "Iteration:40\n",
      "ML:127771.849; \tML change (error):    43.982; \tSigma^2:162839.424; \tSigma^2 change:  8038.815\n",
      "[============================                                            ]\n",
      "Iteration:41\n",
      "ML:127732.130; \tML change (error):    39.719; \tSigma^2:155594.147; \tSigma^2 change:  7245.278\n",
      "[=============================                                           ]\n",
      "Iteration:42\n",
      "ML:127696.393; \tML change (error):    35.737; \tSigma^2:149060.431; \tSigma^2 change:  6533.715\n",
      "[==============================                                          ]\n",
      "Iteration:43\n",
      "ML:127664.357; \tML change (error):    32.036; \tSigma^2:143165.325; \tSigma^2 change:  5895.106\n",
      "[==============================                                          ]\n",
      "Iteration:44\n",
      "ML:127635.743; \tML change (error):    28.615; \tSigma^2:137843.800; \tSigma^2 change:  5321.525\n",
      "[===============================                                         ]\n",
      "Iteration:45\n",
      "ML:127610.275; \tML change (error):    25.468; \tSigma^2:133037.813; \tSigma^2 change:  4805.987\n",
      "[================================                                        ]\n",
      "Iteration:46\n",
      "ML:127587.685; \tML change (error):    22.589; \tSigma^2:128695.493; \tSigma^2 change:  4342.320\n",
      "[=================================                                       ]\n",
      "Iteration:47\n",
      "ML:127567.716; \tML change (error):    19.970; \tSigma^2:124770.437; \tSigma^2 change:  3925.055\n",
      "[=================================                                       ]\n",
      "Iteration:48\n",
      "ML:127550.119; \tML change (error):    17.597; \tSigma^2:121221.099; \tSigma^2 change:  3549.338\n",
      "[==================================                                      ]\n",
      "Iteration:49\n",
      "ML:127534.659; \tML change (error):    15.459; \tSigma^2:118010.248; \tSigma^2 change:  3210.851\n",
      "[===================================                                     ]\n",
      "Iteration:50\n",
      "ML:127521.118; \tML change (error):    13.541; \tSigma^2:115104.497; \tSigma^2 change:  2905.751\n",
      "[====================================                                    ]\n",
      "Iteration:51\n",
      "ML:127509.289; \tML change (error):    11.829; \tSigma^2:112473.887; \tSigma^2 change:  2630.610\n",
      "[====================================                                    ]\n",
      "Iteration:52\n",
      "ML:127498.982; \tML change (error):    10.306; \tSigma^2:110091.518; \tSigma^2 change:  2382.369\n",
      "[=====================================                                   ]\n",
      "Iteration:53\n",
      "ML:127490.025; \tML change (error):     8.958; \tSigma^2:107933.220; \tSigma^2 change:  2158.298\n",
      "[======================================                                  ]\n",
      "Iteration:54\n",
      "ML:127482.256; \tML change (error):     7.768; \tSigma^2:105977.266; \tSigma^2 change:  1955.954\n",
      "[======================================                                  ]\n",
      "Iteration:55\n",
      "ML:127475.534; \tML change (error):     6.722; \tSigma^2:104204.113; \tSigma^2 change:  1773.153\n",
      "[=======================================                                 ]\n",
      "Iteration:56\n",
      "ML:127469.729; \tML change (error):     5.805; \tSigma^2:102596.173; \tSigma^2 change:  1607.940\n",
      "[========================================                                ]\n",
      "Iteration:57\n",
      "ML:127464.724; \tML change (error):     5.005; \tSigma^2:101137.610; \tSigma^2 change:  1458.563\n",
      "[=========================================                               ]\n",
      "Iteration:58\n",
      "ML:127460.417; \tML change (error):     4.307; \tSigma^2: 99814.157; \tSigma^2 change:  1323.453\n",
      "[=========================================                               ]\n",
      "Iteration:59\n",
      "ML:127456.716; \tML change (error):     3.701; \tSigma^2: 98612.955; \tSigma^2 change:  1201.202\n",
      "[==========================================                              ]\n",
      "Iteration:60\n",
      "ML:127453.541; \tML change (error):     3.175; \tSigma^2: 97522.409; \tSigma^2 change:  1090.547\n",
      "[===========================================                             ]\n",
      "Iteration:61\n",
      "ML:127450.820; \tML change (error):     2.721; \tSigma^2: 96532.056; \tSigma^2 change:   990.353\n",
      "[===========================================                             ]\n",
      "Iteration:62\n",
      "ML:127448.491; \tML change (error):     2.329; \tSigma^2: 95632.455; \tSigma^2 change:   899.601\n",
      "[============================================                            ]\n",
      "Iteration:63\n",
      "ML:127446.501; \tML change (error):     1.991; \tSigma^2: 94815.080; \tSigma^2 change:   817.375\n",
      "[=============================================                           ]\n",
      "Iteration:64\n",
      "ML:127444.800; \tML change (error):     1.700; \tSigma^2: 94072.229; \tSigma^2 change:   742.851\n",
      "[==============================================                          ]\n",
      "Iteration:65\n",
      "ML:127443.350; \tML change (error):     1.451; \tSigma^2: 93396.943; \tSigma^2 change:   675.286\n",
      "[==============================================                          ]\n",
      "Iteration:66\n",
      "ML:127442.113; \tML change (error):     1.237; \tSigma^2: 92782.928; \tSigma^2 change:   614.014\n",
      "[===============================================                         ]\n",
      "Iteration:67\n",
      "ML:127441.059; \tML change (error):     1.054; \tSigma^2: 92224.495; \tSigma^2 change:   558.433\n",
      "[================================================                        ]\n",
      "Iteration:68\n",
      "ML:127440.162; \tML change (error):     0.897; \tSigma^2: 91716.495; \tSigma^2 change:   508.000\n",
      "[================================================                        ]\n",
      "Iteration:69\n",
      "ML:127439.399; \tML change (error):     0.763; \tSigma^2: 91254.269; \tSigma^2 change:   462.226\n",
      "[=================================================                       ]\n",
      "Iteration:70\n",
      "ML:127438.750; \tML change (error):     0.649; \tSigma^2: 90833.599; \tSigma^2 change:   420.670\n",
      "[==================================================                      ]\n",
      "Iteration:71\n",
      "ML:127438.199; \tML change (error):     0.551; \tSigma^2: 90450.664; \tSigma^2 change:   382.935\n",
      "[===================================================                     ]\n",
      "Iteration:72\n",
      "ML:127437.730; \tML change (error):     0.468; \tSigma^2: 90102.005; \tSigma^2 change:   348.659\n",
      "[===================================================                     ]\n",
      "Iteration:73\n",
      "ML:127437.333; \tML change (error):     0.398; \tSigma^2: 89784.486; \tSigma^2 change:   317.519\n",
      "[====================================================                    ]\n",
      "Iteration:74\n",
      "ML:127436.995; \tML change (error):     0.338; \tSigma^2: 89495.265; \tSigma^2 change:   289.221\n",
      "[=====================================================                   ]\n",
      "Iteration:75\n",
      "ML:127436.709; \tML change (error):     0.286; \tSigma^2: 89231.765; \tSigma^2 change:   263.500\n",
      "[======================================================                  ]\n",
      "Iteration:76\n",
      "ML:127436.466; \tML change (error):     0.243; \tSigma^2: 88991.649; \tSigma^2 change:   240.116\n",
      "[======================================================                  ]\n",
      "Iteration:77\n",
      "ML:127436.260; \tML change (error):     0.206; \tSigma^2: 88772.797; \tSigma^2 change:   218.851\n",
      "[=======================================================                 ]\n",
      "Iteration:78\n",
      "ML:127436.085; \tML change (error):     0.175; \tSigma^2: 88573.288; \tSigma^2 change:   199.510\n",
      "[========================================================                ]\n",
      "Iteration:79\n",
      "ML:127435.937; \tML change (error):     0.148; \tSigma^2: 88391.373; \tSigma^2 change:   181.914\n",
      "[========================================================                ]\n",
      "Iteration:80\n",
      "ML:127435.811; \tML change (error):     0.126; \tSigma^2: 88225.471; \tSigma^2 change:   165.903\n",
      "[=========================================================               ]\n",
      "Iteration:81\n",
      "ML:127435.705; \tML change (error):     0.106; \tSigma^2: 88074.140; \tSigma^2 change:   151.330\n",
      "[==========================================================              ]\n",
      "Iteration:82\n",
      "ML:127435.615; \tML change (error):     0.090; \tSigma^2: 87936.075; \tSigma^2 change:   138.065\n",
      "[===========================================================             ]\n",
      "Iteration:83\n",
      "ML:127435.538; \tML change (error):     0.076; \tSigma^2: 87810.090; \tSigma^2 change:   125.986\n",
      "[===========================================================             ]\n",
      "Iteration:84\n",
      "ML:127435.474; \tML change (error):     0.065; \tSigma^2: 87695.104; \tSigma^2 change:   114.985\n",
      "[============================================================            ]\n",
      "Iteration:85\n",
      "ML:127435.419; \tML change (error):     0.055; \tSigma^2: 87590.139; \tSigma^2 change:   104.965\n",
      "[=============================================================           ]\n",
      "Iteration:86\n",
      "ML:127435.373; \tML change (error):     0.046; \tSigma^2: 87494.303; \tSigma^2 change:    95.836\n",
      "[=============================================================           ]\n",
      "Iteration:87\n",
      "ML:127435.333; \tML change (error):     0.039; \tSigma^2: 87406.786; \tSigma^2 change:    87.517\n",
      "[==============================================================          ]\n",
      "Iteration:88\n",
      "ML:127435.300; \tML change (error):     0.033; \tSigma^2: 87326.852; \tSigma^2 change:    79.934\n",
      "[===============================================================         ]\n",
      "Iteration:89\n",
      "ML:127435.272; \tML change (error):     0.028; \tSigma^2: 87253.831; \tSigma^2 change:    73.021\n",
      "[================================================================        ]\n",
      "Iteration:90\n",
      "ML:127435.248; \tML change (error):     0.024; \tSigma^2: 87187.113; \tSigma^2 change:    66.718\n",
      "[================================================================        ]\n",
      "Iteration:91\n",
      "ML:127435.228; \tML change (error):     0.020; \tSigma^2: 87126.143; \tSigma^2 change:    60.970\n",
      "[=================================================================       ]\n",
      "Iteration:92\n",
      "ML:127435.211; \tML change (error):     0.017; \tSigma^2: 87070.416; \tSigma^2 change:    55.727\n",
      "[==================================================================      ]\n",
      "Iteration:93\n",
      "ML:127435.196; \tML change (error):     0.014; \tSigma^2: 87019.473; \tSigma^2 change:    50.943\n",
      "[==================================================================      ]\n",
      "Iteration:94\n",
      "ML:127435.184; \tML change (error):     0.012; \tSigma^2: 86972.896; \tSigma^2 change:    46.577\n",
      "[===================================================================     ]\n",
      "Iteration:95\n",
      "ML:127435.174; \tML change (error):     0.010; \tSigma^2: 86930.304; \tSigma^2 change:    42.593\n",
      "[====================================================================    ]\n",
      "Iteration:96\n",
      "ML:127435.165; \tML change (error):     0.009; \tSigma^2: 86891.348; \tSigma^2 change:    38.955\n",
      "[=====================================================================   ]\n",
      "Iteration:97\n",
      "ML:127435.158; \tML change (error):     0.007; \tSigma^2: 86855.714; \tSigma^2 change:    35.635\n",
      "[=====================================================================   ]\n",
      "Iteration:98\n",
      "ML:127435.151; \tML change (error):     0.006; \tSigma^2: 86823.112; \tSigma^2 change:    32.602\n",
      "[======================================================================  ]\n",
      "Iteration:99\n",
      "ML:127435.146; \tML change (error):     0.005; \tSigma^2: 86793.280; \tSigma^2 change:    29.832\n",
      "[======================================================================= ]\n",
      "Iteration:100\n",
      "ML:127435.142; \tML change (error):     0.004; \tSigma^2: 86765.979; \tSigma^2 change:    27.301\n",
      "[========================================================================]\n",
      "========================================================================\n",
      "Registration Performance Metrics\n",
      "========================================================================\n",
      "Time to initialize EM: 0.6744928359985352\n",
      "Time to initialize registration: 3.5762786865234375e-05\n",
      "Average Expectation Time:                   11.3687 +/- 0.3073\n",
      "Average Maximization Time:                   0.0016 +/- 0.0004\n",
      "Maximization Times - Per individual step\n",
      "Average Update Transform Time:               0.0008 +/- 0.0003\n",
      "Average Transform Time:                      0.0003 +/- 0.0001\n",
      "Average Update Variance Time:                0.0005 +/- 0.0001\n",
      "\n",
      "Number of iterations performed:          100\n",
      "Error at time of finish:                 0.004498600785154849\n"
     ]
    }
   ],
   "source": [
    "reg = rigid_registration(**{'X': np.transpose(X.astype(float)), 'Y': np.transpose(Y.astype(float)),'scale': False})\n",
    "out = reg.register()\n",
    "Rfound = reg.R[0:2,0:2]\n",
    "tfound= np.dot(Rfound,reg.t[0:2])"
   ]
  },
  {
   "cell_type": "code",
   "execution_count": 20,
   "metadata": {},
   "outputs": [
    {
     "data": {
      "application/vnd.jupyter.widget-view+json": {
       "model_id": "f6ba4371a45f46b2b4d26ad2255418d5",
       "version_major": 2,
       "version_minor": 0
      },
      "text/plain": [
       "Canvas(toolbar=Toolbar(toolitems=[('Home', 'Reset original view', 'home', 'home'), ('Back', 'Back to previous …"
      ]
     },
     "metadata": {},
     "output_type": "display_data"
    },
    {
     "data": {
      "text/plain": [
       "<matplotlib.collections.PathCollection at 0x2adc99ca4810>"
      ]
     },
     "execution_count": 20,
     "metadata": {},
     "output_type": "execute_result"
    }
   ],
   "source": [
    "plt.close('all')\n",
    "fig=plt.figure(figsize=(10,9))\n",
    "ax = fig.add_subplot(111)\n",
    "Yrep=np.transpose(np.transpose(np.dot(Rfound,np.transpose(np.transpose(X))))-tfound)\n",
    "ax.scatter(np.transpose(Y)[:,0],np.transpose(Y)[:,1])\n",
    "ax.scatter(np.transpose(Yrep)[:,0],np.transpose(Yrep)[:,1])"
   ]
  },
  {
   "cell_type": "code",
   "execution_count": 2,
   "metadata": {},
   "outputs": [],
   "source": [
    "import matplotlib.pyplot as plt\n",
    "\n"
   ]
  },
  {
   "cell_type": "code",
   "execution_count": 11,
   "metadata": {},
   "outputs": [
    {
     "name": "stdout",
     "output_type": "stream",
     "text": [
      "========\n",
      "Matching plate 40 at dates [datetime.datetime(2020, 11, 23, 16, 4), datetime.datetime(2020, 11, 23, 20, 4)]\n",
      "========\n"
     ]
    },
    {
     "data": {
      "application/vnd.jupyter.widget-view+json": {
       "model_id": "e6541e44e85f4ae28d09b75a81f6acf6",
       "version_major": 2,
       "version_minor": 0
      },
      "text/plain": [
       "Canvas(toolbar=Toolbar(toolitems=[('Home', 'Reset original view', 'home', 'home'), ('Back', 'Back to previous …"
      ]
     },
     "metadata": {},
     "output_type": "display_data"
    },
    {
     "name": "stdout",
     "output_type": "stream",
     "text": [
      "Iteration:1\n",
      "ML: 60148.102; \tML change (error): 60148.102; \tSigma^2:33430884.823; \tSigma^2 change:26258475.123\n",
      "[                                                                        ]\n",
      "Iteration:2\n",
      "ML: 58892.492; \tML change (error):  1255.610; \tSigma^2:24289143.717; \tSigma^2 change:9141741.107\n",
      "[=                                                                       ]\n",
      "Iteration:3\n",
      "ML: 58442.557; \tML change (error):   449.935; \tSigma^2:19694577.279; \tSigma^2 change:4594566.437\n",
      "[==                                                                      ]\n",
      "Iteration:4\n",
      "ML: 58234.066; \tML change (error):   208.491; \tSigma^2:17020764.293; \tSigma^2 change:2673812.986\n",
      "[==                                                                      ]\n",
      "Iteration:5\n",
      "ML: 58128.775; \tML change (error):   105.291; \tSigma^2:15340576.101; \tSigma^2 change:1680188.192\n",
      "[===                                                                     ]\n",
      "Iteration:6\n",
      "ML: 58073.751; \tML change (error):    55.024; \tSigma^2:14234543.984; \tSigma^2 change:1106032.118\n",
      "[====                                                                    ]\n",
      "Iteration:7\n",
      "ML: 58044.534; \tML change (error):    29.217; \tSigma^2:13483810.854; \tSigma^2 change:750733.130\n",
      "[=====                                                                   ]\n",
      "Iteration:8\n",
      "ML: 58028.876; \tML change (error):    15.658; \tSigma^2:12963260.555; \tSigma^2 change:520550.299\n",
      "[=====                                                                   ]\n",
      "Iteration:9\n",
      "ML: 58020.429; \tML change (error):     8.448; \tSigma^2:12596717.571; \tSigma^2 change:366542.983\n",
      "[======                                                                  ]\n",
      "Iteration:10\n",
      "ML: 58015.844; \tML change (error):     4.585; \tSigma^2:12335649.736; \tSigma^2 change:261067.835\n",
      "[=======                                                                 ]\n",
      "Iteration:11\n",
      "ML: 58013.342; \tML change (error):     2.502; \tSigma^2:12148079.942; \tSigma^2 change:187569.793\n",
      "[=======                                                                 ]\n",
      "Iteration:12\n",
      "ML: 58011.969; \tML change (error):     1.373; \tSigma^2:12012399.284; \tSigma^2 change:135680.658\n",
      "[========                                                                ]\n",
      "Iteration:13\n",
      "ML: 58011.212; \tML change (error):     0.757; \tSigma^2:11913721.481; \tSigma^2 change: 98677.803\n",
      "[=========                                                               ]\n",
      "Iteration:14\n",
      "ML: 58010.792; \tML change (error):     0.420; \tSigma^2:11841638.618; \tSigma^2 change: 72082.863\n",
      "[==========                                                              ]\n",
      "Iteration:15\n",
      "ML: 58010.558; \tML change (error):     0.234; \tSigma^2:11788789.846; \tSigma^2 change: 52848.772\n",
      "[==========                                                              ]\n",
      "Iteration:16\n",
      "ML: 58010.427; \tML change (error):     0.131; \tSigma^2:11749922.151; \tSigma^2 change: 38867.695\n",
      "[===========                                                             ]\n",
      "Iteration:17\n",
      "ML: 58010.354; \tML change (error):     0.074; \tSigma^2:11721259.751; \tSigma^2 change: 28662.400\n",
      "[============                                                            ]\n",
      "Iteration:18\n",
      "ML: 58010.312; \tML change (error):     0.041; \tSigma^2:11700072.871; \tSigma^2 change: 21186.880\n",
      "[============                                                            ]\n",
      "Iteration:19\n",
      "ML: 58010.289; \tML change (error):     0.023; \tSigma^2:11684378.520; \tSigma^2 change: 15694.351\n",
      "[=============                                                           ]\n",
      "Iteration:20\n",
      "ML: 58010.275; \tML change (error):     0.013; \tSigma^2:11672730.424; \tSigma^2 change: 11648.096\n",
      "[==============                                                          ]\n",
      "Iteration:21\n",
      "ML: 58010.268; \tML change (error):     0.008; \tSigma^2:11664070.153; \tSigma^2 change:  8660.271\n",
      "[===============                                                         ]\n",
      "Iteration:22\n",
      "ML: 58010.263; \tML change (error):     0.004; \tSigma^2:11657620.818; \tSigma^2 change:  6449.334\n",
      "[===============                                                         ]\n",
      "Iteration:23\n",
      "ML: 58010.261; \tML change (error):     0.002; \tSigma^2:11652810.697; \tSigma^2 change:  4810.122\n",
      "[================                                                        ]\n",
      "Iteration:24\n",
      "ML: 58010.260; \tML change (error):     0.001; \tSigma^2:11649218.062; \tSigma^2 change:  3592.634\n",
      "[=================                                                       ]\n",
      "Iteration:25\n",
      "ML: 58010.259; \tML change (error):     0.001; \tSigma^2:11646531.178; \tSigma^2 change:  2686.885\n",
      "[==================                                                      ]\n",
      "Iteration:26\n",
      "ML: 58010.258; \tML change (error):     0.000; \tSigma^2:11644519.160; \tSigma^2 change:  2012.018\n",
      "[==================                                                      ]\n",
      "Iteration:27\n",
      "ML: 58010.258; \tML change (error):     0.000; \tSigma^2:11643010.705; \tSigma^2 change:  1508.455\n",
      "[===================                                                     ]\n",
      "Iteration:28\n",
      "ML: 58010.258; \tML change (error):     0.000; \tSigma^2:11641878.502; \tSigma^2 change:  1132.203\n",
      "[====================                                                    ]\n",
      "Iteration:29\n",
      "ML: 58010.258; \tML change (error):     0.000; \tSigma^2:11641027.787; \tSigma^2 change:   850.715\n",
      "[====================                                                    ]\n",
      "Iteration:30\n",
      "ML: 58010.258; \tML change (error):     0.000; \tSigma^2:11640387.919; \tSigma^2 change:   639.868\n",
      "[=====================                                                   ]\n",
      "Iteration:31\n",
      "ML: 58010.258; \tML change (error):     0.000; \tSigma^2:11639906.168; \tSigma^2 change:   481.751\n",
      "[======================                                                  ]\n",
      "Iteration:32\n",
      "ML: 58010.258; \tML change (error):     0.000; \tSigma^2:11639543.122; \tSigma^2 change:   363.046\n",
      "[=======================                                                 ]\n",
      "Iteration:33\n",
      "ML: 58010.258; \tML change (error):     0.000; \tSigma^2:11639269.286; \tSigma^2 change:   273.837\n",
      "[=======================                                                 ]\n",
      "Iteration:34\n",
      "ML: 58010.258; \tML change (error):     0.000; \tSigma^2:11639062.559; \tSigma^2 change:   206.726\n",
      "[========================                                                ]\n",
      "========================================================================\n",
      "Registration Performance Metrics\n",
      "========================================================================\n",
      "Time to initialize EM: 0.10781168937683105\n",
      "Time to initialize registration: 2.7179718017578125e-05\n",
      "Average Expectation Time:                    1.5515 +/- 0.0449\n",
      "Average Maximization Time:                   0.0010 +/- 0.0002\n",
      "Maximization Times - Per individual step\n",
      "Average Update Transform Time:               0.0005 +/- 0.0001\n",
      "Average Transform Time:                      0.0002 +/- 0.0001\n",
      "Average Update Variance Time:                0.0003 +/- 0.0000\n",
      "\n",
      "Number of iterations performed:          34\n",
      "Error at time of finish:                 6.365080480463803e-06\n"
     ]
    },
    {
     "data": {
      "application/vnd.jupyter.widget-view+json": {
       "model_id": "2abd278bbe9f4d2d8fad0eec1aac4d09",
       "version_major": 2,
       "version_minor": 0
      },
      "text/plain": [
       "Canvas(toolbar=Toolbar(toolitems=[('Home', 'Reset original view', 'home', 'home'), ('Back', 'Back to previous …"
      ]
     },
     "metadata": {},
     "output_type": "display_data"
    },
    {
     "data": {
      "application/vnd.jupyter.widget-view+json": {
       "model_id": "aaf491e4fb7b4756a9ad66f5b4b54565",
       "version_major": 2,
       "version_minor": 0
      },
      "text/plain": [
       "Canvas(toolbar=Toolbar(toolitems=[('Home', 'Reset original view', 'home', 'home'), ('Back', 'Back to previous …"
      ]
     },
     "metadata": {},
     "output_type": "display_data"
    },
    {
     "name": "stdout",
     "output_type": "stream",
     "text": [
      "(3, 2151) (3, 2229)\n",
      "registration::RegistrationResult with fitness=2.352394e-01, inlier_rmse=1.213964e+02, and correspondence_set size of 506\n",
      "Access transformation to get result.\n",
      "[[ 0.99983864 -0.01796376]\n",
      " [ 0.01796376  0.99983864]] [ -114.41480777 -1213.20753343]\n"
     ]
    },
    {
     "data": {
      "application/vnd.jupyter.widget-view+json": {
       "model_id": "3c34ee4b96ab4b65a9f2e198ab2c68c1",
       "version_major": 2,
       "version_minor": 0
      },
      "text/plain": [
       "Canvas(toolbar=Toolbar(toolitems=[('Home', 'Reset original view', 'home', 'home'), ('Back', 'Back to previous …"
      ]
     },
     "metadata": {},
     "output_type": "display_data"
    }
   ],
   "source": [
    "%matplotlib widget\n",
    "plt.close('all')\n",
    "from util import get_path, get_dates_datetime, get_dirname\n",
    "import pandas as pd\n",
    "import networkx as nx\n",
    "import numpy as np\n",
    "import matplotlib.pyplot as plt\n",
    "from extract_graph import (\n",
    "    generate_nx_graph,\n",
    "    transform_list,\n",
    "    generate_skeleton,\n",
    "    generate_nx_graph_from_skeleton,\n",
    "    from_connection_tab,\n",
    "    from_nx_to_tab,\n",
    ")\n",
    "from node_id import whole_movement_identification, second_identification\n",
    "import ast\n",
    "from plotutil import plot_t_tp1, compress_skeleton\n",
    "from scipy import sparse\n",
    "from sparse_util import dilate, zhangSuen\n",
    "from realign import realign, realign_final\n",
    "from datetime import datetime, timedelta\n",
    "from node_id import orient\n",
    "import pickle\n",
    "from matplotlib.widgets import CheckButtons\n",
    "import scipy.io as sio\n",
    "import imageio\n",
    "from pymatreader import read_mat\n",
    "from matplotlib import colors\n",
    "from copy import deepcopy, copy\n",
    "from collections import Counter\n",
    "import cv2\n",
    "import imageio\n",
    "import matplotlib.pyplot as plt\n",
    "import numpy as np\n",
    "from skimage.filters import frangi\n",
    "from skimage.morphology import thin\n",
    "from skimage import data, filters\n",
    "from random import choice\n",
    "import scipy.sparse\n",
    "import os\n",
    "from time import time\n",
    "from extract_graph import (\n",
    "    dic_to_sparse,\n",
    "    from_sparse_to_graph,\n",
    "    generate_nx_graph,\n",
    "    prune_graph,\n",
    "    from_nx_to_tab,\n",
    "    from_nx_to_tab_matlab,\n",
    "    sparse_to_doc,\n",
    "    connections_pixel_list_to_tab,\n",
    "    transform_list,\n",
    "    clean_degree_4,\n",
    "    get_degree3_nodes,\n",
    ")\n",
    "from time import sleep\n",
    "from pycpd import RigidRegistration, DeformableRegistration\n",
    "import open3d as o3d\n",
    "from cycpd import rigid_registration\n",
    "import sys\n",
    "\n",
    "plt.close('all')\n",
    "\n",
    "i = 23\n",
    "plate = 40\n",
    "\n",
    "from directory import directory\n",
    "\n",
    "dates_datetime = get_dates_datetime(directory,plate)\n",
    "dates_datetime.sort()\n",
    "dates_datetime_chosen = dates_datetime[i : i + 2]\n",
    "print(\"========\")\n",
    "print(f\"Matching plate {plate} at dates {dates_datetime_chosen}\")\n",
    "print(\"========\")\n",
    "dates = dates_datetime_chosen\n",
    "\n",
    "dilateds = []\n",
    "skels = []\n",
    "skel_docs = []\n",
    "for date in dates:\n",
    "    directory_name = get_dirname(date, plate)\n",
    "    path_snap = directory + directory_name\n",
    "    skel_info = read_mat(path_snap + \"/Analysis/skeleton_pruned.mat\")\n",
    "    skel = skel_info[\"skeleton\"]\n",
    "    skels.append(skel)\n",
    "    skel_doc = sparse_to_doc(skel)\n",
    "    skel_docs.append(skel_doc)\n",
    "isnan = True\n",
    "while isnan:\n",
    "    isnan = False\n",
    "    skeleton1, skeleton2 = skel_docs[0], skel_docs[1]\n",
    "    skelet_pos = np.array(list(skeleton1.keys()))\n",
    "    samples = np.random.choice(skelet_pos.shape[0], len(skeleton2.keys()) // 100)\n",
    "    X = np.transpose(skelet_pos[samples, :])\n",
    "    skelet_pos = np.array(list(skeleton2.keys()))\n",
    "    samples = np.random.choice(skelet_pos.shape[0], len(skeleton2.keys()) // 100)\n",
    "    Y = np.transpose(skelet_pos[samples, :])\n",
    "    fig=plt.figure(figsize=(10,9))\n",
    "    ax = fig.add_subplot(111)\n",
    "    ax.scatter(X[0,:],X[1,:])\n",
    "    ax.scatter(Y[0,:],Y[1,:])\n",
    "    reg = rigid_registration(\n",
    "        **{\n",
    "            \"X\": np.transpose(X.astype(float)),\n",
    "            \"Y\": np.transpose(Y.astype(float)),\n",
    "            \"scale\": False,\n",
    "        }\n",
    "    )\n",
    "    out = reg.register()\n",
    "    Rfound = reg.R[0:2, 0:2]\n",
    "    tfound = np.dot(Rfound, reg.t[0:2])\n",
    "#     nx_graph1, pos1 = generate_nx_graph(from_sparse_to_graph(skeleton1))\n",
    "#     nx_graph2, pos2 = generate_nx_graph(from_sparse_to_graph(skeleton2))\n",
    "#     pruned1 = prune_graph(nx_graph1)\n",
    "#     pruned2 = prune_graph(nx_graph2)\n",
    "#     pruned1 = nx_graph1\n",
    "#     pruned2 = nx_graph2\n",
    "    t_init = -tfound\n",
    "    Rot_init = Rfound\n",
    "    isnan = np.isnan(tfound[0])\n",
    "    if isnan:\n",
    "        continue\n",
    "#     X = np.transpose(\n",
    "#         np.array([pos1[node] for node in pruned1 if pruned1.degree(node) == 3])\n",
    "#     )\n",
    "#     Y = np.transpose(\n",
    "#         np.array([pos2[node] for node in pruned2 if pruned2.degree(node) == 3])\n",
    "#     )\n",
    "    X = np.transpose(\n",
    "        np.array(get_degree3_nodes(skeleton1))\n",
    "    )\n",
    "    Y = np.transpose(\n",
    "        np.array(get_degree3_nodes(skeleton2))\n",
    "    )\n",
    "    fig=plt.figure(figsize=(10,9))\n",
    "    ax = fig.add_subplot(111)\n",
    "    ax.scatter(X[0,:],X[1,:])\n",
    "    ax.scatter(Y[0,:],Y[1,:])\n",
    "    Xex = np.transpose(np.transpose(np.dot(Rot_init, X)) + t_init)\n",
    "    fig=plt.figure(figsize=(10,9))\n",
    "    ax = fig.add_subplot(111)\n",
    "    ax.scatter(Xex[0,:],Xex[1,:])\n",
    "    ax.scatter(Y[0,:],Y[1,:])\n",
    "    X = np.insert(X, 2, values=0, axis=0)\n",
    "    Y = np.insert(Y, 2, values=0, axis=0)\n",
    "    print(X.shape, Y.shape)\n",
    "    vectorX = o3d.utility.Vector3dVector(np.transpose(X))\n",
    "    vectorY = o3d.utility.Vector3dVector(np.transpose(Y))\n",
    "    source = o3d.geometry.PointCloud(vectorX)\n",
    "    target = o3d.geometry.PointCloud(vectorY)\n",
    "    threshold = 200\n",
    "    trans_init = np.asarray(\n",
    "        [\n",
    "            [Rot_init[0, 0], Rot_init[0, 1], 0, t_init[0]],\n",
    "            [Rot_init[1, 0], Rot_init[1, 1], 0, t_init[1]],\n",
    "            [0, 0, 1, 0],\n",
    "            [0.0, 0.0, 0.0, 1.0],\n",
    "        ]\n",
    "    )\n",
    "    reg_p2p = o3d.registration.registration_icp(\n",
    "        source,\n",
    "        target,\n",
    "        threshold,\n",
    "        trans_init,\n",
    "        o3d.registration.TransformationEstimationPointToPoint(),\n",
    "    )\n",
    "    print(reg_p2p)\n",
    "    Rfound = reg_p2p.transformation[0:2, 0:2]\n",
    "    tfound = reg_p2p.transformation[0:2, 3]\n",
    "    print(Rfound, tfound)\n",
    "    X, Y = X[0:2, :], Y[0:2, :]\n",
    "    Yrep = np.transpose(np.transpose(np.dot(Rfound, X)) + tfound)\n",
    "    fig=plt.figure(figsize=(10,9))\n",
    "    ax = fig.add_subplot(111)\n",
    "    ax.scatter(np.transpose(Yrep)[:,0],np.transpose(Yrep)[:,1])\n",
    "    ax.scatter(np.transpose(Y)[:,0],np.transpose(Y)[:,1])"
   ]
  },
  {
   "cell_type": "code",
   "execution_count": null,
   "metadata": {},
   "outputs": [],
   "source": [
    "reg.sigma2"
   ]
  },
  {
   "cell_type": "code",
   "execution_count": 7,
   "metadata": {},
   "outputs": [
    {
     "data": {
      "text/plain": [
       "(26322, 31000)"
      ]
     },
     "execution_count": 7,
     "metadata": {},
     "output_type": "execute_result"
    }
   ],
   "source": [
    "skels[0].shape"
   ]
  },
  {
   "cell_type": "code",
   "execution_count": 4,
   "metadata": {},
   "outputs": [
    {
     "ename": "NameError",
     "evalue": "name 'X' is not defined",
     "output_type": "error",
     "traceback": [
      "\u001b[0;31m---------------------------------------------------------------------------\u001b[0m",
      "\u001b[0;31mNameError\u001b[0m                                 Traceback (most recent call last)",
      "\u001b[0;32m<ipython-input-4-d8c0ad95ffe2>\u001b[0m in \u001b[0;36m<module>\u001b[0;34m\u001b[0m\n\u001b[1;32m      1\u001b[0m \u001b[0mfig\u001b[0m\u001b[0;34m=\u001b[0m\u001b[0mplt\u001b[0m\u001b[0;34m.\u001b[0m\u001b[0mfigure\u001b[0m\u001b[0;34m(\u001b[0m\u001b[0mfigsize\u001b[0m\u001b[0;34m=\u001b[0m\u001b[0;34m(\u001b[0m\u001b[0;36m10\u001b[0m\u001b[0;34m,\u001b[0m\u001b[0;36m9\u001b[0m\u001b[0;34m)\u001b[0m\u001b[0;34m)\u001b[0m\u001b[0;34m\u001b[0m\u001b[0;34m\u001b[0m\u001b[0m\n\u001b[1;32m      2\u001b[0m \u001b[0max\u001b[0m \u001b[0;34m=\u001b[0m \u001b[0mfig\u001b[0m\u001b[0;34m.\u001b[0m\u001b[0madd_subplot\u001b[0m\u001b[0;34m(\u001b[0m\u001b[0;36m111\u001b[0m\u001b[0;34m)\u001b[0m\u001b[0;34m\u001b[0m\u001b[0;34m\u001b[0m\u001b[0m\n\u001b[0;32m----> 3\u001b[0;31m \u001b[0max\u001b[0m\u001b[0;34m.\u001b[0m\u001b[0mscatter\u001b[0m\u001b[0;34m(\u001b[0m\u001b[0mX\u001b[0m\u001b[0;34m[\u001b[0m\u001b[0;36m0\u001b[0m\u001b[0;34m,\u001b[0m\u001b[0;34m:\u001b[0m\u001b[0;34m]\u001b[0m\u001b[0;34m,\u001b[0m\u001b[0mX\u001b[0m\u001b[0;34m[\u001b[0m\u001b[0;36m1\u001b[0m\u001b[0;34m,\u001b[0m\u001b[0;34m:\u001b[0m\u001b[0;34m]\u001b[0m\u001b[0;34m)\u001b[0m\u001b[0;34m\u001b[0m\u001b[0;34m\u001b[0m\u001b[0m\n\u001b[0m\u001b[1;32m      4\u001b[0m \u001b[0max\u001b[0m\u001b[0;34m.\u001b[0m\u001b[0mscatter\u001b[0m\u001b[0;34m(\u001b[0m\u001b[0mY\u001b[0m\u001b[0;34m[\u001b[0m\u001b[0;36m0\u001b[0m\u001b[0;34m,\u001b[0m\u001b[0;34m:\u001b[0m\u001b[0;34m]\u001b[0m\u001b[0;34m,\u001b[0m\u001b[0mY\u001b[0m\u001b[0;34m[\u001b[0m\u001b[0;36m1\u001b[0m\u001b[0;34m,\u001b[0m\u001b[0;34m:\u001b[0m\u001b[0;34m]\u001b[0m\u001b[0;34m)\u001b[0m\u001b[0;34m\u001b[0m\u001b[0;34m\u001b[0m\u001b[0m\n",
      "\u001b[0;31mNameError\u001b[0m: name 'X' is not defined"
     ]
    },
    {
     "data": {
      "image/png": "[encoded data removed]",
      "text/plain": [
       "<Figure size 720x648 with 1 Axes>"
      ]
     },
     "metadata": {
      "needs_background": "light"
     },
     "output_type": "display_data"
    }
   ],
   "source": [
    "fig=plt.figure(figsize=(10,9))\n",
    "ax = fig.add_subplot(111)\n",
    "ax.scatter(X[0,:],X[1,:])\n",
    "ax.scatter(Y[0,:],Y[1,:])"
   ]
  },
  {
   "cell_type": "code",
   "execution_count": 13,
   "metadata": {},
   "outputs": [
    {
     "name": "stdout",
     "output_type": "stream",
     "text": [
      "Help on rigid_registration in module cycpd.rigid_registration object:\n",
      "\n",
      "class rigid_registration(cycpd.expectation_maximization_registration.expectation_maximization_registration)\n",
      " |  rigid_registration(R=None, t=None, s=None, scale=True, *args, **kwargs)\n",
      " |  \n",
      " |  Method resolution order:\n",
      " |      rigid_registration\n",
      " |      cycpd.expectation_maximization_registration.expectation_maximization_registration\n",
      " |      builtins.object\n",
      " |  \n",
      " |  Methods defined here:\n",
      " |  \n",
      " |  __init__(self, R=None, t=None, s=None, scale=True, *args, **kwargs)\n",
      " |      Initialize self.  See help(type(self)) for accurate signature.\n",
      " |  \n",
      " |  get_registration_parameters(self)\n",
      " |  \n",
      " |  transform_point_cloud(self, Y=None)\n",
      " |  \n",
      " |  update_transform(self)\n",
      " |  \n",
      " |  update_variance(self)\n",
      " |  \n",
      " |  ----------------------------------------------------------------------\n",
      " |  Methods inherited from cycpd.expectation_maximization_registration.expectation_maximization_registration:\n",
      " |  \n",
      " |  expectation(self)\n",
      " |  \n",
      " |  iterate(self)\n",
      " |  \n",
      " |  maximization(self)\n",
      " |  \n",
      " |  register(self, callback=<function expectation_maximization_registration.<lambda> at 0x2adfeeaec7a0>)\n",
      " |  \n",
      " |  ----------------------------------------------------------------------\n",
      " |  Data descriptors inherited from cycpd.expectation_maximization_registration.expectation_maximization_registration:\n",
      " |  \n",
      " |  __dict__\n",
      " |      dictionary for instance variables (if defined)\n",
      " |  \n",
      " |  __weakref__\n",
      " |      list of weak references to the object (if defined)\n",
      "\n"
     ]
    }
   ],
   "source": [
    "help(reg)"
   ]
  },
  {
   "cell_type": "code",
   "execution_count": 6,
   "metadata": {},
   "outputs": [],
   "source": [
    "skelet_pos = np.array(list(skeleton1.keys()))\n",
    "samples = np.random.choice(skelet_pos.shape[0], len(skeleton2.keys()) // 100)\n",
    "X = np.transpose(skelet_pos[samples, :])\n",
    "skelet_pos = np.array(list(skeleton2.keys()))\n",
    "samples = np.random.choice(skelet_pos.shape[0], len(skeleton2.keys()) // 100)\n",
    "Y = np.transpose(skelet_pos[samples, :])"
   ]
  },
  {
   "cell_type": "code",
   "execution_count": 10,
   "metadata": {},
   "outputs": [
    {
     "data": {
      "text/plain": [
       "<matplotlib.collections.PathCollection at 0x2adff4d7de10>"
      ]
     },
     "execution_count": 10,
     "metadata": {},
     "output_type": "execute_result"
    },
    {
     "data": {
      "image/png": "[encoded data removed]",
      "text/plain": [
       "<Figure size 720x648 with 1 Axes>"
      ]
     },
     "metadata": {
      "needs_background": "light"
     },
     "output_type": "display_data"
    }
   ],
   "source": [
    "plt.close('all')\n",
    "Xex = np.transpose(np.transpose(np.dot(Rot_init, X)) + t_init)\n",
    "fig=plt.figure(figsize=(10,9))\n",
    "ax = fig.add_subplot(111)\n",
    "ax.scatter(X[0,:],X[1,:])\n",
    "ax.scatter(Y[0,:],Y[1,:])"
   ]
  },
  {
   "cell_type": "code",
   "execution_count": 3,
   "metadata": {},
   "outputs": [],
   "source": [
    "Y = np.transpose(\n",
    "    np.array(get_degree3_nodes(skeleton2))\n",
    ")"
   ]
  },
  {
   "cell_type": "code",
   "execution_count": 10,
   "metadata": {},
   "outputs": [],
   "source": [
    "def get_neighbours(pixel,non_zero_pixel):\n",
    "    x=pixel[0]\n",
    "    y=pixel[1]\n",
    "    primary_neighbours = {(x+1,y),(x-1,y),(x,y+1),(x,y-1)}\n",
    "    secondary_neighbours = {(x+1,y-1),(x+1,y+1),(x-1,y+1),(x-1,y-1)}\n",
    "    num_neighbours = 0\n",
    "    actual_neighbours = []\n",
    "    for neighbour in primary_neighbours:\n",
    "        if neighbour in non_zero_pixel:\n",
    "            num_neighbours +=1\n",
    "            xp=neighbour[0]\n",
    "            yp=neighbour[1]\n",
    "            primary_neighboursp = {(xp+1,yp),(xp-1,yp),(xp,yp+1),(xp,yp-1)}\n",
    "            for neighbourp in primary_neighboursp:\n",
    "                secondary_neighbours.discard(neighbourp)\n",
    "            actual_neighbours.append(neighbour)\n",
    "    for neighbour in secondary_neighbours:\n",
    "        if neighbour in non_zero_pixel:\n",
    "            num_neighbours +=1\n",
    "            actual_neighbours.append(neighbour)\n",
    "    return(actual_neighbours,num_neighbours)\n",
    "\n",
    "def get_degree3_nodes(skel):\n",
    "    deg_3=[]\n",
    "    non_zero= skel.keys()\n",
    "    for pixel in non_zero:\n",
    "        n, num = get_neighbours(pixel,non_zero)\n",
    "        if num ==3:\n",
    "            deg_3.append(pixel)\n",
    "    return(deg_3)"
   ]
  },
  {
   "cell_type": "code",
   "execution_count": 21,
   "metadata": {},
   "outputs": [
    {
     "name": "stdout",
     "output_type": "stream",
     "text": [
      "[18675.46806, 35.852915, 1.843764]\n",
      "[21175.442981, 35.527758, 10.966272, 2.85076, 1.815892]\n"
     ]
    },
    {
     "data": {
      "application/vnd.jupyter.widget-view+json": {
       "model_id": "3522883ccaed475396243c7a24dea425",
       "version_major": 2,
       "version_minor": 0
      },
      "text/plain": [
       "Canvas(toolbar=Toolbar(toolitems=[('Home', 'Reset original view', 'home', 'home'), ('Back', 'Back to previous …"
      ]
     },
     "metadata": {},
     "output_type": "display_data"
    },
    {
     "data": {
      "application/vnd.jupyter.widget-view+json": {
       "model_id": "f3c6fe0a778f4d04b76256ebf530c0db",
       "version_major": 2,
       "version_minor": 0
      },
      "text/plain": [
       "Canvas(toolbar=Toolbar(toolitems=[('Home', 'Reset original view', 'home', 'home'), ('Back', 'Back to previous …"
      ]
     },
     "metadata": {},
     "output_type": "display_data"
    },
    {
     "name": "stdout",
     "output_type": "stream",
     "text": [
      "(3, 9932) (3, 11003)\n",
      "registration::RegistrationResult with fitness=9.386830e-01, inlier_rmse=3.091225e+01, and correspondence_set size of 9323\n",
      "Access transformation to get result.\n",
      "[[ 0.99927149  0.03816407]\n",
      " [-0.03816407  0.99927149]] [-3804.48748894  3894.69968369]\n"
     ]
    },
    {
     "data": {
      "application/vnd.jupyter.widget-view+json": {
       "model_id": "31c80f90def64bdeb99b621084e6b0a5",
       "version_major": 2,
       "version_minor": 0
      },
      "text/plain": [
       "Canvas(toolbar=Toolbar(toolitems=[('Home', 'Reset original view', 'home', 'home'), ('Back', 'Back to previous …"
      ]
     },
     "metadata": {},
     "output_type": "display_data"
    },
    {
     "data": {
      "text/plain": [
       "<matplotlib.collections.PathCollection at 0x2adcb55e0850>"
      ]
     },
     "execution_count": 21,
     "metadata": {},
     "output_type": "execute_result"
    }
   ],
   "source": [
    "nx_graph1,pos1 = generate_nx_graph(from_sparse_to_graph(skeleton1))\n",
    "nx_graph2,pos2 = generate_nx_graph(from_sparse_to_graph(skeleton2))\n",
    "pruned1 = prune_graph(nx_graph1)\n",
    "pruned2 = prune_graph(nx_graph2)\n",
    "t_init=-tfound\n",
    "Rot_init= Rfound\n",
    "X = np.transpose(np.array([pos1[node] for node in pruned1 if pruned1.degree(node)==3]))\n",
    "Y = np.transpose(np.array([pos2[node] for node in pruned2 if pruned2.degree(node)==3]))\n",
    "fig=plt.figure(figsize=(10,9))\n",
    "ax = fig.add_subplot(111)\n",
    "ax.scatter(X[0,:],X[1,:])\n",
    "ax.scatter(Y[0,:],Y[1,:])\n",
    "Xex = np.transpose(np.transpose(np.dot(Rot_init,X))+t_init)\n",
    "fig=plt.figure(figsize=(10,9))\n",
    "ax = fig.add_subplot(111)\n",
    "ax.scatter(Xex[0,:],Xex[1,:])\n",
    "ax.scatter(Y[0,:],Y[1,:])\n",
    "X = np.insert(X, 2, values=0, axis=0) \n",
    "Y = np.insert(Y, 2, values=0, axis=0) \n",
    "print(X.shape,Y.shape)\n",
    "vectorX = o3d.utility.Vector3dVector(np.transpose(X))\n",
    "vectorY = o3d.utility.Vector3dVector(np.transpose(Y))\n",
    "source = o3d.geometry.PointCloud(vectorX)\n",
    "target = o3d.geometry.PointCloud(vectorY)\n",
    "threshold = 200\n",
    "trans_init = np.asarray([[Rot_init[0,0], Rot_init[0,1], 0, t_init[0]],\n",
    "                         [Rot_init[1,0], Rot_init[1,1], 0, t_init[1]],\n",
    "                         [0, 0, 1, 0], [0.0, 0.0, 0.0, 1.0]])\n",
    "reg_p2p = o3d.registration.registration_icp(\n",
    "    source, target, threshold, trans_init,\n",
    "    o3d.registration.TransformationEstimationPointToPoint())\n",
    "print(reg_p2p)\n",
    "Rfound = reg_p2p.transformation[0:2,0:2]\n",
    "tfound = reg_p2p.transformation[0:2,3]\n",
    "print(Rfound,tfound)\n",
    "X,Y=X[0:2,:],Y[0:2,:]\n",
    "Yrep=np.transpose(np.transpose(np.dot(Rfound,X))+tfound)\n",
    "fig=plt.figure(figsize=(10,9))\n",
    "ax = fig.add_subplot(111)\n",
    "ax.scatter(np.transpose(Yrep)[:,0],np.transpose(Yrep)[:,1])\n",
    "ax.scatter(np.transpose(Y)[:,0],np.transpose(Y)[:,1])"
   ]
  },
  {
   "cell_type": "code",
   "execution_count": 22,
   "metadata": {},
   "outputs": [
    {
     "data": {
      "application/vnd.jupyter.widget-view+json": {
       "model_id": "93871520302247d1ad4b995f39313943",
       "version_major": 2,
       "version_minor": 0
      },
      "text/plain": [
       "Canvas(toolbar=Toolbar(toolitems=[('Home', 'Reset original view', 'home', 'home'), ('Back', 'Back to previous …"
      ]
     },
     "metadata": {},
     "output_type": "display_data"
    },
    {
     "data": {
      "text/plain": [
       "<matplotlib.collections.PathCollection at 0x2adcb332c650>"
      ]
     },
     "execution_count": 22,
     "metadata": {},
     "output_type": "execute_result"
    }
   ],
   "source": [
    "X = np.transpose(np.array([pos1[node] for node in pruned1 if pruned1.degree(node)==3]))\n",
    "Y = np.transpose(np.array([pos2[node] for node in pruned2 if pruned2.degree(node)==3]))\n",
    "Yrep=np.transpose(np.transpose(np.dot(Rfound,X))+tfound)\n",
    "fig=plt.figure(figsize=(10,9))\n",
    "ax = fig.add_subplot(111)\n",
    "ax.scatter(np.transpose(Yrep)[:,0],np.transpose(Yrep)[:,1])\n",
    "ax.scatter(np.transpose(Y)[:,0],np.transpose(Y)[:,1])"
   ]
  },
  {
   "cell_type": "code",
   "execution_count": 20,
   "metadata": {},
   "outputs": [],
   "source": [
    "sio.savemat(path_snap+'/Analysis/transform.mat',{'R' : Rfound,'t' : tfound})"
   ]
  }
 ],
 "metadata": {
  "kernelspec": {
   "display_name": "Python 3",
   "language": "python",
   "name": "python3"
  },
  "language_info": {
   "codemirror_mode": {
    "name": "ipython",
    "version": 3
   },
   "file_extension": ".py",
   "mimetype": "text/x-python",
   "name": "python",
   "nbconvert_exporter": "python",
   "pygments_lexer": "ipython3",
   "version": "3.7.7"
  }
 },
 "nbformat": 4,
 "nbformat_minor": 4
}

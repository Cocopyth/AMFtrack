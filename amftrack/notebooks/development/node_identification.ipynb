{
 "cells": [
  {
   "cell_type": "code",
   "execution_count": 14,
   "metadata": {},
   "outputs": [],
   "source": [
    "import numpy as np\n",
    "import matplotlib.pyplot as plt\n",
    "import matplotlib.cm as cm\n",
    "from PIL import Image\n",
    "import numpy as np\n",
    "from skimage.measure import profile_line\n",
    "from scipy import sparse\n",
    "from pymatreader import read_mat\n",
    "import pandas as pd\n",
    "import cProfile\n",
    "from util.sys import get_path\n",
    "from extract_graph import (\n",
    "    generate_graph_tab_from_skeleton,\n",
    "    generate_nx_graph_from_skeleton,\n",
    ")\n",
    "import networkx as nx\n",
    "from random import randrange\n",
    "import math\n",
    "import cv2\n",
    "\n",
    "plate = 13\n",
    "date1 = \"0703_1157\"\n",
    "date2 = \"0703_1557\"\n",
    "date3 = \"0703_1957\"\n",
    "row = 6\n",
    "column = 10"
   ]
  },
  {
   "cell_type": "code",
   "execution_count": 3,
   "metadata": {},
   "outputs": [],
   "source": [
    "imtab1 = np.load(f\"Data/imbackrem_{date1}_{plate}_{row}_{column}.npy\")\n",
    "imtab2 = np.load(f\"Data/imbackrem_{date2}_{plate}_{row}_{column}.npy\")\n",
    "imtab3 = np.load(f\"Data/imbackrem_{date3}_{plate}_{row}_{column}.npy\")\n",
    "skeleton1 = np.load(f\"Data/skeletonizedpruned_{date1}_{plate}_{row}_{column}.npy\")\n",
    "skeleton2 = np.load(f\"Data/skeletonizedpruned_{date2}_{plate}_{row}_{column}.npy\")\n",
    "skeleton3 = np.load(f\"Data/skeletonizedpruned_{date3}_{plate}_{row}_{column}.npy\")"
   ]
  },
  {
   "cell_type": "code",
   "execution_count": 4,
   "metadata": {},
   "outputs": [],
   "source": [
    "graph_tab1 = generate_graph_tab_from_skeleton(skeleton1)\n",
    "graph_tab2 = generate_graph_tab_from_skeleton(skeleton2)\n",
    "graph_tab3 = generate_graph_tab_from_skeleton(skeleton3)"
   ]
  },
  {
   "cell_type": "code",
   "execution_count": 5,
   "metadata": {},
   "outputs": [],
   "source": [
    "nx_graph1, pos1 = generate_nx_graph_from_skeleton(skeleton1)\n",
    "nx_graph2, pos2 = generate_nx_graph_from_skeleton(skeleton2)"
   ]
  },
  {
   "cell_type": "code",
   "execution_count": null,
   "metadata": {},
   "outputs": [],
   "source": [
    "for node in nx_graph1.nodes:\n",
    "    if nx_graph.degree[node] == 1:\n",
    "        for edge in nx_graph1.edges(node):\n",
    "            data = nx_graph1.get_edge_data(*edge)\n",
    "            if data[\"weight\"] < 9:\n",
    "                is_artefact = True\n",
    "                for edge_2nd in nx_graph1.edges(edge[0]):\n",
    "                    data = nx_graph1.get_edge_data(*edge_2nd)"
   ]
  },
  {
   "cell_type": "code",
   "execution_count": 28,
   "metadata": {},
   "outputs": [
    {
     "ename": "IndentationError",
     "evalue": "expected an indented block (<ipython-input-28-68ed0ae450ca>, line 6)",
     "output_type": "error",
     "traceback": [
      "\u001b[1;36m  File \u001b[1;32m\"<ipython-input-28-68ed0ae450ca>\"\u001b[1;36m, line \u001b[1;32m6\u001b[0m\n\u001b[1;33m    break\u001b[0m\n\u001b[1;37m    ^\u001b[0m\n\u001b[1;31mIndentationError\u001b[0m\u001b[1;31m:\u001b[0m expected an indented block\n"
     ]
    }
   ],
   "source": [
    "for edge in nx_graph1.edges:\n",
    "    data=nx_graph1.get_edge_data(*edge)\n",
    "    if data['weight']<9:\n",
    "        is_artefact=True\n",
    "        for edge in nx_graph1.edges(edge[0]):\n",
    "    break"
   ]
  },
  {
   "cell_type": "code",
   "execution_count": 31,
   "metadata": {},
   "outputs": [
    {
     "data": {
      "text/plain": [
       "[(array([2296, 1473], dtype=int32), array([2296, 1464], dtype=int32), 10),\n",
       " (array([1721,  652], dtype=int32), array([1729,  646], dtype=int32), 9),\n",
       " (array([1721,  652], dtype=int32), array([1723,  660], dtype=int32), 9),\n",
       " (array([1729,  646], dtype=int32), array([1723,  660], dtype=int32), 18),\n",
       " (array([1729,  646], dtype=int32), array([1728,  644], dtype=int32), 3),\n",
       " (array([2073, 1112], dtype=int32), array([2067, 1097], dtype=int32), 16),\n",
       " (array([2067, 1097], dtype=int32), array([2074, 1095], dtype=int32), 9),\n",
       " (array([2106, 1163], dtype=int32), array([2115, 1159], dtype=int32), 10),\n",
       " (array([2115, 1159], dtype=int32), array([2112, 1152], dtype=int32), 8),\n",
       " (array([2296, 1464], dtype=int32), array([2293, 1463], dtype=int32), 4),\n",
       " (array([2676, 2660], dtype=int32), array([2666, 2653], dtype=int32), 11),\n",
       " (array([2625, 2765], dtype=int32), array([2625, 2760], dtype=int32), 6),\n",
       " (array([2989, 2374], dtype=int32), array([2999, 2385], dtype=int32), 12),\n",
       " (array([2857, 1710], dtype=int32), array([2862, 1705], dtype=int32), 6)]"
      ]
     },
     "execution_count": 31,
     "metadata": {},
     "output_type": "execute_result"
    }
   ],
   "source": [
    "[\n",
    "    (pos1[info[0]], pos1[info[1]], info[2])\n",
    "    for info in nx_graph1.edges.data(\"weight\")\n",
    "    if info[2] < 20\n",
    "]"
   ]
  },
  {
   "cell_type": "code",
   "execution_count": 20,
   "metadata": {},
   "outputs": [
    {
     "data": {
      "text/plain": [
       "(array([2., 3., 5., 2., 0., 2., 2., 1., 2., 2.]),\n",
       " array([ 3. ,  5.6,  8.2, 10.8, 13.4, 16. , 18.6, 21.2, 23.8, 26.4, 29. ]),\n",
       " <BarContainer object of 10 artists>)"
      ]
     },
     "execution_count": 20,
     "metadata": {},
     "output_type": "execute_result"
    },
    {
     "data": {
      "image/png": "[encoded data removed]",
      "text/plain": [
       "<Figure size 432x288 with 1 Axes>"
      ]
     },
     "metadata": {
      "needs_background": "light"
     },
     "output_type": "display_data"
    }
   ],
   "source": [
    "plt.hist([info[2] for info in nx_graph1.edges.data(\"weight\") if info[2] < 30], 10)"
   ]
  },
  {
   "cell_type": "code",
   "execution_count": null,
   "metadata": {},
   "outputs": [],
   "source": [
    "for node in nx_graph1.nodes:\n",
    "    if nx_graph.degree[node] == 3:\n",
    "        for edge in nx_graph1.edges(node):\n",
    "            data = nx_graph1.get_edge_data(*edge)\n",
    "            if data[\"weight\"] < 9:\n",
    "                is_artefact = True\n",
    "                for edge_2nd in nx_graph1.edges(edge[0]):\n",
    "                    data = nx_graph1.get_edge_data(*edge_2nd)"
   ]
  },
  {
   "cell_type": "code",
   "execution_count": 8,
   "metadata": {},
   "outputs": [
    {
     "data": {
      "text/plain": [
       "DegreeView({0: 1, 22: 3, 1: 1, 11: 3, 2: 1, 7: 3, 3: 1, 5: 1, 4: 1, 10: 3, 6: 2, 8: 1, 9: 1, 14: 3, 23: 3, 12: 1, 13: 2, 15: 1, 16: 2, 17: 3, 20: 3, 18: 1, 19: 1, 26: 3, 21: 2, 24: 3, 30: 3, 40: 3, 25: 1, 28: 1, 27: 1, 29: 1, 33: 3, 31: 3, 42: 3, 32: 1, 36: 3, 38: 3, 35: 2, 34: 1, 39: 1, 37: 1, 52: 3, 54: 1, 41: 1, 44: 2, 55: 1, 43: 1, 51: 3, 46: 1, 45: 2, 47: 1, 50: 3, 48: 1, 49: 1, 57: 1, 53: 1, 58: 1, 56: 1})"
      ]
     },
     "execution_count": 8,
     "metadata": {},
     "output_type": "execute_result"
    }
   ],
   "source": [
    "for node in nx_graph1.nodes:\n",
    "    if nx_graph.degree[node] == 2:\n",
    "        neighbours = [neigh for neigh in nx_graph.neighbours(node)]"
   ]
  },
  {
   "cell_type": "code",
   "execution_count": 13,
   "metadata": {},
   "outputs": [
    {
     "name": "stdout",
     "output_type": "stream",
     "text": [
      "12\n",
      "14\n"
     ]
    }
   ],
   "source": [
    "for n in nx_graph1.neighbors(13):\n",
    "    print(n)"
   ]
  },
  {
   "cell_type": "code",
   "execution_count": 46,
   "metadata": {},
   "outputs": [],
   "source": [
    "def node_dist(node1, node2, nx_graph_tm1, nx_graph_t, pos_tm1, pos_t):\n",
    "    sparse_cross1 = sparse.dok_matrix((3000, 4096), dtype=bool)\n",
    "    sparse_cross2 = sparse.dok_matrix((3000, 4096), dtype=bool)\n",
    "    for edge in nx_graph_tm1.edges(node1):\n",
    "        list_pixel = nx_graph_tm1.get_edge_data(*edge)[\"pixel_list\"]\n",
    "        if (pos_tm1[node1] != list_pixel[0]).any():\n",
    "            list_pixel = list(reversed(list_pixel))\n",
    "        print(list_pixel[0] == pos_tm1[node1])\n",
    "        print(list_pixel[0], pos_tm1[node1])\n",
    "        for pixel in list_pixel[:20]:\n",
    "            sparse_cross1[pixel] = 1\n",
    "    for edge in nx_graph_t.edges(node2):\n",
    "        list_pixel = nx_graph_t.get_edge_data(*edge)[\"pixel_list\"]\n",
    "        if (pos_t[node2] != list_pixel[0]).any():\n",
    "            list_pixel = list(reversed(list_pixel))\n",
    "        print(list_pixel[0] == pos_t[node2])\n",
    "        for pixel in list_pixel[:20]:\n",
    "            sparse_cross2[pixel] = 1\n",
    "    kernel = np.ones((3, 3), np.uint8)\n",
    "    dilation1 = cv2.dilate(\n",
    "        sparse_cross1.todense().astype(np.uint8), kernel, iterations=3\n",
    "    )\n",
    "    dilation2 = cv2.dilate(\n",
    "        sparse_cross2.todense().astype(np.uint8), kernel, iterations=3\n",
    "    )\n",
    "    plt.imshow(dilation1[2250:2350, 1400:1500])\n",
    "    plt.imshow(dilation2[2250:2350, 1400:1500], alpha=0.5)\n",
    "    plt.show()\n",
    "    return np.linalg.norm(dilation1 - dilation2)"
   ]
  },
  {
   "cell_type": "code",
   "execution_count": 17,
   "metadata": {},
   "outputs": [
    {
     "data": {
      "text/plain": [
       "array([2296, 1473], dtype=int32)"
      ]
     },
     "execution_count": 17,
     "metadata": {},
     "output_type": "execute_result"
    }
   ],
   "source": [
    "pos1[26]"
   ]
  },
  {
   "cell_type": "code",
   "execution_count": 18,
   "metadata": {},
   "outputs": [
    {
     "data": {
      "text/plain": [
       "array([2296, 1466], dtype=int32)"
      ]
     },
     "execution_count": 18,
     "metadata": {},
     "output_type": "execute_result"
    }
   ],
   "source": [
    "pos2[34]"
   ]
  },
  {
   "cell_type": "code",
   "execution_count": 51,
   "metadata": {},
   "outputs": [
    {
     "name": "stdout",
     "output_type": "stream",
     "text": [
      "[ True  True]\n",
      "(2296, 1464) [2296 1464]\n",
      "[ True  True]\n",
      "(2296, 1464) [2296 1464]\n",
      "[ True  True]\n",
      "(2296, 1464) [2296 1464]\n",
      "[ True  True]\n",
      "[ True  True]\n",
      "[ True  True]\n"
     ]
    },
    {
     "data": {
      "image/png": "[encoded data removed]",
      "text/plain": [
       "<Figure size 432x288 with 1 Axes>"
      ]
     },
     "metadata": {
      "needs_background": "light"
     },
     "output_type": "display_data"
    },
    {
     "data": {
      "text/plain": [
       "4777.432678751214"
      ]
     },
     "execution_count": 51,
     "metadata": {},
     "output_type": "execute_result"
    }
   ],
   "source": [
    "node_dist(25, 34, nx_graph1, nx_graph2, pos1, pos2)"
   ]
  },
  {
   "cell_type": "code",
   "execution_count": 7,
   "metadata": {},
   "outputs": [
    {
     "name": "stdout",
     "output_type": "stream",
     "text": [
      "6 11.180339887498947 node_none_iden\n",
      "14 14.422205101855958 node_none_iden\n",
      "19 39.96248240537617 node_none_iden\n",
      "25 node_dientified_two_times\n",
      "40 26.627053911388693 node_none_iden\n",
      "57 20.8806130178211 node_none_iden\n"
     ]
    },
    {
     "ename": "AttributeError",
     "evalue": "'Graph' object has no attribute 'neighbor'",
     "output_type": "error",
     "traceback": [
      "\u001b[1;31m---------------------------------------------------------------------------\u001b[0m",
      "\u001b[1;31mAttributeError\u001b[0m                            Traceback (most recent call last)",
      "\u001b[1;32m<ipython-input-7-8837a783ac9c>\u001b[0m in \u001b[0;36m<module>\u001b[1;34m\u001b[0m\n\u001b[0;32m     24\u001b[0m     \u001b[0mcandidates\u001b[0m \u001b[1;33m=\u001b[0m \u001b[1;33m[\u001b[0m\u001b[0mnod\u001b[0m \u001b[1;32mfor\u001b[0m \u001b[0mnod\u001b[0m \u001b[1;32min\u001b[0m \u001b[0mcorresp\u001b[0m\u001b[1;33m.\u001b[0m\u001b[0mkeys\u001b[0m\u001b[1;33m(\u001b[0m\u001b[1;33m)\u001b[0m \u001b[1;32mif\u001b[0m \u001b[0mcorresp\u001b[0m\u001b[1;33m[\u001b[0m\u001b[0mnod\u001b[0m\u001b[1;33m]\u001b[0m\u001b[1;33m==\u001b[0m\u001b[0midentifier\u001b[0m\u001b[1;33m]\u001b[0m\u001b[1;33m\u001b[0m\u001b[1;33m\u001b[0m\u001b[0m\n\u001b[0;32m     25\u001b[0m     \u001b[1;32mfor\u001b[0m \u001b[0mcandidate\u001b[0m \u001b[1;32min\u001b[0m \u001b[0mcandidates\u001b[0m\u001b[1;33m:\u001b[0m\u001b[1;33m\u001b[0m\u001b[1;33m\u001b[0m\u001b[0m\n\u001b[1;32m---> 26\u001b[1;33m         \u001b[0midentified_neighbours\u001b[0m\u001b[1;33m=\u001b[0m\u001b[1;33m[\u001b[0m\u001b[0mcorresp\u001b[0m\u001b[1;33m[\u001b[0m\u001b[0mneighbour\u001b[0m\u001b[1;33m]\u001b[0m \u001b[1;32mfor\u001b[0m \u001b[0mneighbour\u001b[0m \u001b[1;32min\u001b[0m \u001b[0mnx_graph1\u001b[0m\u001b[1;33m.\u001b[0m\u001b[0mneighbor\u001b[0m\u001b[1;33m(\u001b[0m\u001b[0mnode\u001b[0m\u001b[1;33m)\u001b[0m\u001b[1;33m]\u001b[0m\u001b[1;33m\u001b[0m\u001b[1;33m\u001b[0m\u001b[0m\n\u001b[0m\u001b[0;32m     27\u001b[0m     \u001b[0mprint\u001b[0m\u001b[1;33m(\u001b[0m\u001b[0mcandidates\u001b[0m\u001b[1;33m)\u001b[0m\u001b[1;33m\u001b[0m\u001b[1;33m\u001b[0m\u001b[0m\n",
      "\u001b[1;31mAttributeError\u001b[0m: 'Graph' object has no attribute 'neighbor'"
     ]
    }
   ],
   "source": [
    "corresp = {}\n",
    "dist = {}\n",
    "ambiguous = []\n",
    "remaining_nodes = []\n",
    "for node1 in nx_graph1.nodes:\n",
    "    mini = np.inf\n",
    "    if nx_graph1.degree[node1] >= 3:\n",
    "        for node2 in nx_graph2.nodes:\n",
    "            distance = math.dist(pos1[node1], pos2[node2])\n",
    "            if distance < mini:\n",
    "                mini = distance\n",
    "                identifier = node2\n",
    "        if mini < 10:\n",
    "            if identifier in corresp.values():\n",
    "                ambiguous.append(node1)\n",
    "                print(node1, \"node_dientified_two_times\")\n",
    "            corresp[node1] = identifier\n",
    "        else:\n",
    "            print(node1, mini, \"node_none_iden\")\n",
    "            remaining_nodes.append(node1)\n",
    "            dist[node1] = mini\n",
    "for node in ambiguous:\n",
    "    identifier = corresp[node]\n",
    "    candidates = [nod for nod in corresp.keys() if corresp[nod] == identifier]\n",
    "    for candidate in candidates:\n",
    "        identified_neighbours = [\n",
    "            corresp[neighbour] for neighbour in nx_graph1.neighbor(node)\n",
    "        ]\n",
    "    print(candidates)"
   ]
  },
  {
   "cell_type": "code",
   "execution_count": 9,
   "metadata": {},
   "outputs": [
    {
     "data": {
      "text/plain": [
       "[26, 25]"
      ]
     },
     "execution_count": 9,
     "metadata": {},
     "output_type": "execute_result"
    }
   ],
   "source": [
    "[node for node in corresp.keys() if corresp[node] == 34]"
   ]
  },
  {
   "cell_type": "code",
   "execution_count": 8,
   "metadata": {},
   "outputs": [
    {
     "data": {
      "text/plain": [
       "34"
      ]
     },
     "execution_count": 8,
     "metadata": {},
     "output_type": "execute_result"
    }
   ],
   "source": [
    "corresp[25]"
   ]
  },
  {
   "cell_type": "code",
   "execution_count": 59,
   "metadata": {},
   "outputs": [
    {
     "data": {
      "text/plain": [
       "array([2296, 1466], dtype=int32)"
      ]
     },
     "execution_count": 59,
     "metadata": {},
     "output_type": "execute_result"
    }
   ],
   "source": [
    "pos2[34]"
   ]
  },
  {
   "cell_type": "code",
   "execution_count": 61,
   "metadata": {},
   "outputs": [
    {
     "data": {
      "text/plain": [
       "2.0"
      ]
     },
     "execution_count": 61,
     "metadata": {},
     "output_type": "execute_result"
    }
   ],
   "source": [
    "dist[25]"
   ]
  },
  {
   "cell_type": "code",
   "execution_count": 7,
   "metadata": {},
   "outputs": [
    {
     "data": {
      "text/plain": [
       "(array([3., 5., 3., 3., 5.]),\n",
       " array([2.23606798, 3.18885438, 4.14164079, 5.09442719, 6.0472136 ,\n",
       "        7.        ]),\n",
       " <BarContainer object of 5 artists>)"
      ]
     },
     "execution_count": 7,
     "metadata": {},
     "output_type": "execute_result"
    },
    {
     "data": {
      "image/png": "[encoded data removed]",
      "text/plain": [
       "<Figure size 432x288 with 1 Axes>"
      ]
     },
     "metadata": {
      "needs_background": "light"
     },
     "output_type": "display_data"
    }
   ],
   "source": [
    "plt.hist(list(dist.values()), 5)"
   ]
  },
  {
   "cell_type": "code",
   "execution_count": 4,
   "metadata": {},
   "outputs": [],
   "source": [
    "def dist_branch(pixel_list_tm1, pixel_list_t):\n",
    "    squared_dist = 0\n",
    "    length = min(len(pixel_list_t), len(pixel_list_tm1))\n",
    "    for i in range(length):\n",
    "        squared_dist += math.dist(pixel_list_t[i], pixel_list_tm1[i])\n",
    "    return squared_dist / length"
   ]
  },
  {
   "cell_type": "code",
   "execution_count": 15,
   "metadata": {},
   "outputs": [],
   "source": [
    "for indextm1, row in graph_tab1.iterrows():\n",
    "    pixel_list_tm1 = row[\"pixel_list\"]\n",
    "    pixel_list_tm1_reversed = list(reversed(pixel_list_tm1))\n",
    "    mini = np.inf\n",
    "    index_id = 0\n",
    "    reverse_tm1 = False\n",
    "    reverse_t = False\n",
    "    for index_tm1, row in graph_tab2.iterrows():\n",
    "        pixel_list_t = row[\"pixel_list\"]\n",
    "        pixel_list_reversed_t = list(reversed(pixel_list_t))\n",
    "        distance = dist_branch(pixel_list_tm1, pixel_list_t)\n",
    "        distance_rev = dist_branch(pixel_list1, pixel_list2_reversed)\n",
    "        if mini > distance:\n",
    "            mini = distance\n",
    "            index_id = indextm2\n",
    "            reverse = False\n",
    "        if mini > distance_rev:\n",
    "            mini = distance_rev\n",
    "            index_id = indextm2\n",
    "            reverse = True\n",
    "    break"
   ]
  },
  {
   "cell_type": "code",
   "execution_count": 16,
   "metadata": {},
   "outputs": [
    {
     "data": {
      "text/plain": [
       "36.07122546223565"
      ]
     },
     "execution_count": 16,
     "metadata": {},
     "output_type": "execute_result"
    }
   ],
   "source": [
    "mini"
   ]
  },
  {
   "cell_type": "code",
   "execution_count": 17,
   "metadata": {},
   "outputs": [
    {
     "data": {
      "text/plain": [
       "False"
      ]
     },
     "execution_count": 17,
     "metadata": {},
     "output_type": "execute_result"
    }
   ],
   "source": [
    "reverse"
   ]
  },
  {
   "cell_type": "code",
   "execution_count": 18,
   "metadata": {},
   "outputs": [
    {
     "data": {
      "text/plain": [
       "6"
      ]
     },
     "execution_count": 18,
     "metadata": {},
     "output_type": "execute_result"
    }
   ],
   "source": [
    "index_id"
   ]
  },
  {
   "cell_type": "code",
   "execution_count": 13,
   "metadata": {},
   "outputs": [
    {
     "data": {
      "text/html": [
       "<div>\n",
       "<style scoped>\n",
       "    .dataframe tbody tr th:only-of-type {\n",
       "        vertical-align: middle;\n",
       "    }\n",
       "\n",
       "    .dataframe tbody tr th {\n",
       "        vertical-align: top;\n",
       "    }\n",
       "\n",
       "    .dataframe thead th {\n",
       "        text-align: right;\n",
       "    }\n",
       "</style>\n",
       "<table border=\"1\" class=\"dataframe\">\n",
       "  <thead>\n",
       "    <tr style=\"text-align: right;\">\n",
       "      <th></th>\n",
       "      <th>origin</th>\n",
       "      <th>end</th>\n",
       "      <th>pixel_list</th>\n",
       "    </tr>\n",
       "  </thead>\n",
       "  <tbody>\n",
       "    <tr>\n",
       "      <th>0</th>\n",
       "      <td>(1422, 1403)</td>\n",
       "      <td>(2296, 1473)</td>\n",
       "      <td>[(1422, 1403), (1423, 1403), (1424, 1404), (14...</td>\n",
       "    </tr>\n",
       "  </tbody>\n",
       "</table>\n",
       "</div>"
      ],
      "text/plain": [
       "         origin           end  \\\n",
       "0  (1422, 1403)  (2296, 1473)   \n",
       "\n",
       "                                          pixel_list  \n",
       "0  [(1422, 1403), (1423, 1403), (1424, 1404), (14...  "
      ]
     },
     "execution_count": 13,
     "metadata": {},
     "output_type": "execute_result"
    }
   ],
   "source": [
    "graph_tab1.loc[[0]]"
   ]
  },
  {
   "cell_type": "code",
   "execution_count": 12,
   "metadata": {},
   "outputs": [
    {
     "data": {
      "text/html": [
       "<div>\n",
       "<style scoped>\n",
       "    .dataframe tbody tr th:only-of-type {\n",
       "        vertical-align: middle;\n",
       "    }\n",
       "\n",
       "    .dataframe tbody tr th {\n",
       "        vertical-align: top;\n",
       "    }\n",
       "\n",
       "    .dataframe thead th {\n",
       "        text-align: right;\n",
       "    }\n",
       "</style>\n",
       "<table border=\"1\" class=\"dataframe\">\n",
       "  <thead>\n",
       "    <tr style=\"text-align: right;\">\n",
       "      <th></th>\n",
       "      <th>origin</th>\n",
       "      <th>end</th>\n",
       "      <th>pixel_list</th>\n",
       "    </tr>\n",
       "  </thead>\n",
       "  <tbody>\n",
       "    <tr>\n",
       "      <th>6</th>\n",
       "      <td>(1386, 1398)</td>\n",
       "      <td>(1504, 1393)</td>\n",
       "      <td>[(1386, 1398), (1387, 1399), (1388, 1399), (13...</td>\n",
       "    </tr>\n",
       "  </tbody>\n",
       "</table>\n",
       "</div>"
      ],
      "text/plain": [
       "         origin           end  \\\n",
       "6  (1386, 1398)  (1504, 1393)   \n",
       "\n",
       "                                          pixel_list  \n",
       "6  [(1386, 1398), (1387, 1399), (1388, 1399), (13...  "
      ]
     },
     "execution_count": 12,
     "metadata": {},
     "output_type": "execute_result"
    }
   ],
   "source": [
    "graph_tab2.loc[[6]]"
   ]
  },
  {
   "cell_type": "code",
   "execution_count": 15,
   "metadata": {},
   "outputs": [
    {
     "data": {
      "text/plain": [
       "True"
      ]
     },
     "execution_count": 15,
     "metadata": {},
     "output_type": "execute_result"
    }
   ],
   "source": [
    "np.inf > 3.5"
   ]
  },
  {
   "cell_type": "code",
   "execution_count": 7,
   "metadata": {},
   "outputs": [],
   "source": [
    "for index, row in graph_tab1.iterrows():\n",
    "    pixel_list1 = row[\"pixel_list\"]\n",
    "    break"
   ]
  },
  {
   "cell_type": "code",
   "execution_count": 5,
   "metadata": {},
   "outputs": [
    {
     "data": {
      "text/html": [
       "<div>\n",
       "<style scoped>\n",
       "    .dataframe tbody tr th:only-of-type {\n",
       "        vertical-align: middle;\n",
       "    }\n",
       "\n",
       "    .dataframe tbody tr th {\n",
       "        vertical-align: top;\n",
       "    }\n",
       "\n",
       "    .dataframe thead th {\n",
       "        text-align: right;\n",
       "    }\n",
       "</style>\n",
       "<table border=\"1\" class=\"dataframe\">\n",
       "  <thead>\n",
       "    <tr style=\"text-align: right;\">\n",
       "      <th></th>\n",
       "      <th>origin</th>\n",
       "      <th>end</th>\n",
       "      <th>pixel_list</th>\n",
       "    </tr>\n",
       "  </thead>\n",
       "  <tbody>\n",
       "    <tr>\n",
       "      <th>0</th>\n",
       "      <td>(1422, 1403)</td>\n",
       "      <td>(2296, 1473)</td>\n",
       "      <td>[(1422, 1403), (1423, 1403), (1424, 1404), (14...</td>\n",
       "    </tr>\n",
       "    <tr>\n",
       "      <th>1</th>\n",
       "      <td>(1506, 333)</td>\n",
       "      <td>(1819, 644)</td>\n",
       "      <td>[(1506, 333), (1507, 334), (1507, 335), (1507,...</td>\n",
       "    </tr>\n",
       "    <tr>\n",
       "      <th>2</th>\n",
       "      <td>(1589, 708)</td>\n",
       "      <td>(1727, 681)</td>\n",
       "      <td>[(1589, 708), (1590, 708), (1591, 707), (1592,...</td>\n",
       "    </tr>\n",
       "    <tr>\n",
       "      <th>3</th>\n",
       "      <td>(1698, 638)</td>\n",
       "      <td>(1721, 652)</td>\n",
       "      <td>[(1698, 638), (1699, 637), (1700, 637), (1701,...</td>\n",
       "    </tr>\n",
       "    <tr>\n",
       "      <th>4</th>\n",
       "      <td>(1704, 1362)</td>\n",
       "      <td>(1816, 1263)</td>\n",
       "      <td>[(1704, 1362), (1705, 1362), (1706, 1361), (17...</td>\n",
       "    </tr>\n",
       "    <tr>\n",
       "      <th>...</th>\n",
       "      <td>...</td>\n",
       "      <td>...</td>\n",
       "      <td>...</td>\n",
       "    </tr>\n",
       "    <tr>\n",
       "      <th>56</th>\n",
       "      <td>(2910, 438)</td>\n",
       "      <td>(2953, 404)</td>\n",
       "      <td>[(2910, 438), (2910, 437), (2909, 436), (2909,...</td>\n",
       "    </tr>\n",
       "    <tr>\n",
       "      <th>57</th>\n",
       "      <td>(2945, 1690)</td>\n",
       "      <td>(2997, 1658)</td>\n",
       "      <td>[(2945, 1690), (2945, 1689), (2946, 1689), (29...</td>\n",
       "    </tr>\n",
       "    <tr>\n",
       "      <th>58</th>\n",
       "      <td>(2953, 404)</td>\n",
       "      <td>(2995, 587)</td>\n",
       "      <td>[(2953, 404), (2954, 404), (2955, 405), (2956,...</td>\n",
       "    </tr>\n",
       "    <tr>\n",
       "      <th>59</th>\n",
       "      <td>(2989, 2374)</td>\n",
       "      <td>(2999, 2385)</td>\n",
       "      <td>[(2989, 2374), (2990, 2375), (2991, 2376), (29...</td>\n",
       "    </tr>\n",
       "    <tr>\n",
       "      <th>60</th>\n",
       "      <td>(2989, 2374)</td>\n",
       "      <td>(2996, 2354)</td>\n",
       "      <td>[(2989, 2374), (2990, 2373), (2990, 2372), (29...</td>\n",
       "    </tr>\n",
       "  </tbody>\n",
       "</table>\n",
       "<p>61 rows × 3 columns</p>\n",
       "</div>"
      ],
      "text/plain": [
       "          origin           end  \\\n",
       "0   (1422, 1403)  (2296, 1473)   \n",
       "1    (1506, 333)   (1819, 644)   \n",
       "2    (1589, 708)   (1727, 681)   \n",
       "3    (1698, 638)   (1721, 652)   \n",
       "4   (1704, 1362)  (1816, 1263)   \n",
       "..           ...           ...   \n",
       "56   (2910, 438)   (2953, 404)   \n",
       "57  (2945, 1690)  (2997, 1658)   \n",
       "58   (2953, 404)   (2995, 587)   \n",
       "59  (2989, 2374)  (2999, 2385)   \n",
       "60  (2989, 2374)  (2996, 2354)   \n",
       "\n",
       "                                           pixel_list  \n",
       "0   [(1422, 1403), (1423, 1403), (1424, 1404), (14...  \n",
       "1   [(1506, 333), (1507, 334), (1507, 335), (1507,...  \n",
       "2   [(1589, 708), (1590, 708), (1591, 707), (1592,...  \n",
       "3   [(1698, 638), (1699, 637), (1700, 637), (1701,...  \n",
       "4   [(1704, 1362), (1705, 1362), (1706, 1361), (17...  \n",
       "..                                                ...  \n",
       "56  [(2910, 438), (2910, 437), (2909, 436), (2909,...  \n",
       "57  [(2945, 1690), (2945, 1689), (2946, 1689), (29...  \n",
       "58  [(2953, 404), (2954, 404), (2955, 405), (2956,...  \n",
       "59  [(2989, 2374), (2990, 2375), (2991, 2376), (29...  \n",
       "60  [(2989, 2374), (2990, 2373), (2990, 2372), (29...  \n",
       "\n",
       "[61 rows x 3 columns]"
      ]
     },
     "execution_count": 5,
     "metadata": {},
     "output_type": "execute_result"
    }
   ],
   "source": [
    "graph_tab1"
   ]
  },
  {
   "cell_type": "code",
   "execution_count": 6,
   "metadata": {},
   "outputs": [],
   "source": [
    "for index, row in graph_tab2.iterrows():\n",
    "    pixel_list2 = row[\"pixel_list\"]\n",
    "    break"
   ]
  },
  {
   "cell_type": "code",
   "execution_count": 12,
   "metadata": {},
   "outputs": [
    {
     "data": {
      "text/plain": [
       "438.62012238034816"
      ]
     },
     "execution_count": 12,
     "metadata": {},
     "output_type": "execute_result"
    }
   ],
   "source": [
    "dist_branch(pixel_list1, list(reversed(pixel_list1)))"
   ]
  }
 ],
 "metadata": {
  "kernelspec": {
   "display_name": "working_sci",
   "language": "python",
   "name": "working_sci"
  },
  "language_info": {
   "codemirror_mode": {
    "name": "ipython",
    "version": 3
   },
   "file_extension": ".py",
   "mimetype": "text/x-python",
   "name": "python",
   "nbconvert_exporter": "python",
   "pygments_lexer": "ipython3",
   "version": "3.8.5"
  }
 },
 "nbformat": 4,
 "nbformat_minor": 4
}

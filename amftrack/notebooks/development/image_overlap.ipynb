{
 "cells": [
  {
   "cell_type": "code",
   "execution_count": 3,
   "metadata": {},
   "outputs": [],
   "source": [
    "%matplotlib widget\n",
    "import numpy as np\n",
    "import matplotlib.pyplot as plt\n",
    "import matplotlib.cm as cm\n",
    "from PIL import Image\n",
    "from scipy import sparse\n",
    "import cv2\n",
    "from pymatreader import read_mat\n",
    "\n",
    "# from extract_graph import dic_to_sparse\n",
    "from util.sys import get_path, shift_skeleton\n",
    "from plotutil import (\n",
    "    show_im,\n",
    "    overlap,\n",
    "    show_im_rgb,\n",
    "    plot_nodes,\n",
    "    plot_nodes_from_list,\n",
    "    plot_t_tp1,\n",
    ")\n",
    "from extract_graph import (\n",
    "    generate_graph_tab_from_skeleton,\n",
    "    generate_nx_graph_from_skeleton,\n",
    "    generate_skeleton,\n",
    "    clean,\n",
    ")\n",
    "import networkx as nx\n",
    "from node_id import (\n",
    "    second_identification,\n",
    "    whole_movement_identification,\n",
    "    first_identification,\n",
    "    relabel_nodes,\n",
    "    clean_nodes,\n",
    "    orient,\n",
    ")\n",
    "from extract_graph import (\n",
    "    dic_to_sparse,\n",
    "    from_sparse_to_graph,\n",
    "    generate_nx_graph,\n",
    "    prune_graph,\n",
    "    from_nx_to_tab,\n",
    "    from_nx_to_tab_matlab,\n",
    "    sparse_to_doc,\n",
    "    connections_pixel_list_to_tab,\n",
    "    transform_list,\n",
    ")\n",
    "from sparse_util import dilate, zhangSuen\n",
    "from realign import realign, reconnect, realign2\n",
    "from util.sys import get_path\n",
    "import pandas as pd\n",
    "from datetime import datetime, timedelta\n",
    "import ast\n",
    "import imageio"
   ]
  },
  {
   "cell_type": "code",
   "execution_count": 4,
   "metadata": {},
   "outputs": [],
   "source": [
    "plate = 13\n",
    "date_init = datetime(2020, 7, 1, 19, 57)\n",
    "dates_datetime = [date_init + timedelta(hours=4) * i for i in range(4)]\n",
    "dates = [\n",
    "    f'{0 if date.month<10 else \"\"}{date.month}{0 if date.day<10 else \"\"}{date.day}_{0 if date.hour<10 else \"\"}{date.hour}{0 if date.minute<10 else \"\"}{date.minute}'\n",
    "    for date in dates_datetime\n",
    "]"
   ]
  },
  {
   "cell_type": "code",
   "execution_count": 28,
   "metadata": {},
   "outputs": [],
   "source": [
    "params = read_mat(\n",
    "    \"//sun.amolf.nl/shimizu-data/home-folder/oyartegalvez/Drive_AMFtopology/PRINCE/Plate13_20200627/InitialParameters.mat\"\n",
    ")"
   ]
  },
  {
   "cell_type": "code",
   "execution_count": 152,
   "metadata": {},
   "outputs": [],
   "source": [
    "# (23625, 14540)\n",
    "xs = 23625\n",
    "ys = 14540"
   ]
  },
  {
   "cell_type": "code",
   "execution_count": 153,
   "metadata": {},
   "outputs": [],
   "source": [
    "x1 = params[\"x1\"]\n",
    "x2 = params[\"x2\"]\n",
    "y0 = params[\"y0\"]\n",
    "Sf = params[\"Sf\"]\n",
    "L0center = params[\"L0center\"]"
   ]
  },
  {
   "cell_type": "code",
   "execution_count": 154,
   "metadata": {},
   "outputs": [],
   "source": [
    "date = dates[1]"
   ]
  },
  {
   "cell_type": "code",
   "execution_count": 155,
   "metadata": {},
   "outputs": [],
   "source": [
    "date_plate = f\"/2020{date}\"\n",
    "plate_str = f\"_Plate{plate}\"\n",
    "findingbaits = read_mat(\n",
    "    \"//sun.amolf.nl/shimizu-data/home-folder/oyartegalvez/Drive_AMFtopology/PRINCE\"\n",
    "    + date_plate\n",
    "    + plate_str\n",
    "    + \"/Analysis/FindingBaits.mat\"\n",
    ")"
   ]
  },
  {
   "cell_type": "code",
   "execution_count": 156,
   "metadata": {},
   "outputs": [],
   "source": [
    "Rot = np.loadtxt(\n",
    "    \"//sun.amolf.nl/shimizu-data/home-folder/oyartegalvez/Drive_AMFtopology/PRINCE\"\n",
    "    + date_plate\n",
    "    + plate_str\n",
    "    + \"/Analysis/Skeletonrot.txt\"\n",
    ")\n",
    "trans = np.loadtxt(\n",
    "    \"//sun.amolf.nl/shimizu-data/home-folder/oyartegalvez/Drive_AMFtopology/PRINCE\"\n",
    "    + date_plate\n",
    "    + plate_str\n",
    "    + \"/Analysis/Skeletontrans.txt\"\n",
    ")"
   ]
  },
  {
   "cell_type": "code",
   "execution_count": 157,
   "metadata": {},
   "outputs": [],
   "source": [
    "# rottrans=np.dot(np.linalg.inv(Rot),np.array([xs,ys]))-trans\n",
    "# xs,ys=round(rottrans[0]),round(rottrans[1])"
   ]
  },
  {
   "cell_type": "code",
   "execution_count": 158,
   "metadata": {},
   "outputs": [],
   "source": [
    "Rcenter = findingbaits[\"Rcenter\"]\n",
    "Rradii = findingbaits[\"Rradii\"]\n",
    "Lcenter = findingbaits[\"Lcenter\"]\n",
    "t = findingbaits[\"t\"]\n",
    "Lradii = findingbaits[\"Lradii\"]"
   ]
  },
  {
   "cell_type": "code",
   "execution_count": 159,
   "metadata": {},
   "outputs": [],
   "source": [
    "path_tile = (\n",
    "    \"//sun.amolf.nl/shimizu-data/home-folder/oyartegalvez/Drive_AMFtopology/PRINCE\"\n",
    "    + date_plate\n",
    "    + plate_str\n",
    "    + \"/Img/TileConfiguration.registered.txt\"\n",
    ")"
   ]
  },
  {
   "cell_type": "code",
   "execution_count": 160,
   "metadata": {},
   "outputs": [],
   "source": [
    "tileconfig = pd.read_table(\n",
    "    path_tile,\n",
    "    sep=\";\",\n",
    "    skiprows=4,\n",
    "    header=None,\n",
    "    converters={2: ast.literal_eval},\n",
    "    skipinitialspace=True,\n",
    ")"
   ]
  },
  {
   "cell_type": "code",
   "execution_count": 161,
   "metadata": {},
   "outputs": [],
   "source": [
    "xs_yss = list(tileconfig[2])"
   ]
  },
  {
   "cell_type": "code",
   "execution_count": 162,
   "metadata": {},
   "outputs": [],
   "source": [
    "xes = [xs_ys[0] for xs_ys in xs_yss]\n",
    "yes = [xs_ys[1] for xs_ys in xs_yss]"
   ]
  },
  {
   "cell_type": "code",
   "execution_count": 163,
   "metadata": {},
   "outputs": [],
   "source": [
    "cmin = np.min(xes)\n",
    "cmax = np.max(xes)\n",
    "rmin = np.min(yes)\n",
    "rmax = np.max(yes)"
   ]
  },
  {
   "cell_type": "code",
   "execution_count": 164,
   "metadata": {},
   "outputs": [],
   "source": [
    "S0 = [rmax + 3000 + abs(rmin), cmax + 4096 + abs(cmin)]\n",
    "theta = np.arctan((Rcenter[1] - Lcenter[1]) / (Rcenter[0] - Lcenter[0]))\n",
    "Sry = S0[0] * np.cos(abs(theta)) + S0[1] * np.sin(abs(theta))"
   ]
  },
  {
   "cell_type": "code",
   "execution_count": 165,
   "metadata": {},
   "outputs": [],
   "source": [
    "C = np.tan(\n",
    "    -np.arctan(\n",
    "        (\n",
    "            ys\n",
    "            + y0\n",
    "            - 1\n",
    "            - L0center[1]\n",
    "            - np.sqrt(Lcenter[0] ** 2 + (S0[0] - Lcenter[1]) ** 2)\n",
    "            * np.sin(np.arctan((S0[0] - Lcenter[1]) / Lcenter[0]) + theta)\n",
    "        )\n",
    "        / (\n",
    "            xs\n",
    "            + (x2 + x1) / 2\n",
    "            - (Sf[0] - y0)\n",
    "            - 1\n",
    "            - L0center[0]\n",
    "            + np.sqrt(Lcenter[0] ** 2 + (S0[0] - Lcenter[1]) ** 2)\n",
    "            * np.cos(np.arctan((S0[0] - Lcenter[1]) / Lcenter[0]) + theta)\n",
    "        )\n",
    "    )\n",
    "    - theta\n",
    ")\n",
    "ximg = -(\n",
    "    ys\n",
    "    + y0\n",
    "    - 1\n",
    "    - L0center[1]\n",
    "    - np.sqrt(Lcenter[0] ** 2 + (S0[0] - Lcenter[1]) ** 2)\n",
    "    * np.sin(np.arctan((S0[0] - Lcenter[1]) / Lcenter[0]) + theta)\n",
    ") / (np.sqrt(1 + C**2) * np.sin(np.arctan(C) + theta))\n",
    "yimg = S0[0] - C * ximg;"
   ]
  },
  {
   "cell_type": "code",
   "execution_count": 166,
   "metadata": {},
   "outputs": [],
   "source": [
    "def find(xsub, ysub, x, y):\n",
    "    indexes = []\n",
    "    for i in range(len(xsub)):\n",
    "        if (\n",
    "            x >= xsub[i] - cmin\n",
    "            and x < xsub[i] - cmin + 4096\n",
    "            and y >= ysub[i] - rmin\n",
    "            and y < ysub[i] - rmin + 3000\n",
    "        ):\n",
    "            indexes.append(i)\n",
    "    return indexes"
   ]
  },
  {
   "cell_type": "code",
   "execution_count": 167,
   "metadata": {},
   "outputs": [],
   "source": [
    "indsImg = find(xes, yes, ximg, yimg)\n",
    "possImg = [\n",
    "    ximg - np.array(xes)[indsImg] + cmin + 1,\n",
    "    yimg - np.array(yes)[indsImg] + rmin + 1,\n",
    "];"
   ]
  },
  {
   "cell_type": "code",
   "execution_count": 172,
   "metadata": {},
   "outputs": [
    {
     "data": {
      "text/plain": [
       "[15, 30, 97, 112]"
      ]
     },
     "execution_count": 172,
     "metadata": {},
     "output_type": "execute_result"
    }
   ],
   "source": [
    "indsImg"
   ]
  },
  {
   "cell_type": "code",
   "execution_count": 168,
   "metadata": {},
   "outputs": [],
   "source": [
    "paths = []\n",
    "for index in indsImg:\n",
    "    pipeline.paths.append(\n",
    "        \"//sun.amolf.nl/shimizu-data/home-folder/oyartegalvez/Drive_AMFtopology/PRINCE\"\n",
    "        + date_plate\n",
    "        + plate_str\n",
    "        + \"/Img/\"\n",
    "        + tileconfig[0][index]\n",
    "    )"
   ]
  },
  {
   "cell_type": "code",
   "execution_count": 186,
   "metadata": {},
   "outputs": [
    {
     "data": {
      "text/plain": [
       "['//sun.amolf.nl/shimizu-data/home-folder/oyartegalvez/Drive_AMFtopology/PRINCE/20200701_2357_Plate13/Img/Img_r02_c01.tif',\n",
       " '//sun.amolf.nl/shimizu-data/home-folder/oyartegalvez/Drive_AMFtopology/PRINCE/20200701_2357_Plate13/Img/Img_r03_c01.tif',\n",
       " '//sun.amolf.nl/shimizu-data/home-folder/oyartegalvez/Drive_AMFtopology/PRINCE/20200701_2357_Plate13/Img/Img_r07_c08.tif',\n",
       " '//sun.amolf.nl/shimizu-data/home-folder/oyartegalvez/Drive_AMFtopology/PRINCE/20200701_2357_Plate13/Img/Img_r08_c08.tif']"
      ]
     },
     "execution_count": 186,
     "metadata": {},
     "output_type": "execute_result"
    }
   ],
   "source": [
    "paths"
   ]
  },
  {
   "cell_type": "code",
   "execution_count": 183,
   "metadata": {},
   "outputs": [],
   "source": [
    "i = 3"
   ]
  },
  {
   "cell_type": "code",
   "execution_count": 184,
   "metadata": {},
   "outputs": [],
   "source": [
    "im = imageio.imread(paths[i])"
   ]
  },
  {
   "cell_type": "code",
   "execution_count": 187,
   "metadata": {},
   "outputs": [
    {
     "data": {
      "application/vnd.jupyter.widget-view+json": {
       "model_id": "2368f8b456434fb4a18536218e7a821b",
       "version_major": 2,
       "version_minor": 0
      },
      "text/plain": [
       "Canvas(toolbar=Toolbar(toolitems=[('Home', 'Reset original view', 'home', 'home'), ('Back', 'Back to previous …"
      ]
     },
     "metadata": {},
     "output_type": "display_data"
    }
   ],
   "source": [
    "plot_t_tp1([], [], {0: (possImg[1][i], possImg[0][i])}, None, im, im)"
   ]
  }
 ],
 "metadata": {
  "kernelspec": {
   "display_name": "Python 3",
   "language": "python",
   "name": "python3"
  },
  "language_info": {
   "codemirror_mode": {
    "name": "ipython",
    "version": 3
   },
   "file_extension": ".py",
   "mimetype": "text/x-python",
   "name": "python",
   "nbconvert_exporter": "python",
   "pygments_lexer": "ipython3",
   "version": "3.7.9"
  }
 },
 "nbformat": 4,
 "nbformat_minor": 4
}

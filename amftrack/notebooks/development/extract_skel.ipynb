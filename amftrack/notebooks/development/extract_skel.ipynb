{
 "cells": [
  {
   "cell_type": "code",
   "execution_count": null,
   "metadata": {},
   "outputs": [],
   "source": [
    "from extract_skel import extract_skeleton\n",
    "\n",
    "row = 7\n",
    "column = 10\n",
    "plate = 13"
   ]
  },
  {
   "cell_type": "code",
   "execution_count": null,
   "metadata": {},
   "outputs": [],
   "source": [
    "extract_skeleton(\"0703_1157\", plate, row, column)\n",
    "extract_skeleton(\"0703_1557\", plate, row, column)\n",
    "extract_skeleton(\"0703_1957\", plate, row, column)"
   ]
  },
  {
   "cell_type": "code",
   "execution_count": null,
   "metadata": {},
   "outputs": [],
   "source": [
    "100 / 255"
   ]
  },
  {
   "cell_type": "code",
   "execution_count": null,
   "metadata": {},
   "outputs": [],
   "source": [
    "200 / 255"
   ]
  },
  {
   "cell_type": "code",
   "execution_count": null,
   "metadata": {},
   "outputs": [],
   "source": [
    "row = 6\n",
    "column = 11\n",
    "plate = 13\n",
    "extract_skeleton(\"0703_1157\", plate, row, column)\n",
    "extract_skeleton(\"0703_1557\", plate, row, column)\n",
    "extract_skeleton(\"0703_1957\", plate, row, column)"
   ]
  },
  {
   "cell_type": "code",
   "execution_count": null,
   "metadata": {},
   "outputs": [],
   "source": [
    "row = 6\n",
    "column = 9\n",
    "plate = 13\n",
    "extract_skeleton(\"0703_1157\", plate, row, column)\n",
    "extract_skeleton(\"0703_1557\", plate, row, column)\n",
    "extract_skeleton(\"0703_1957\", plate, row, column)"
   ]
  }
 ],
 "metadata": {
  "kernelspec": {
   "display_name": "working_sci",
   "language": "python",
   "name": "working_sci"
  },
  "language_info": {
   "codemirror_mode": {
    "name": "ipython",
    "version": 3
   },
   "file_extension": ".py",
   "mimetype": "text/x-python",
   "name": "python",
   "nbconvert_exporter": "python",
   "pygments_lexer": "ipython3",
   "version": "3.8.5"
  }
 },
 "nbformat": 4,
 "nbformat_minor": 4
}

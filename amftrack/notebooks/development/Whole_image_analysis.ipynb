{
 "cells": [
  {
   "cell_type": "code",
   "execution_count": 4,
   "metadata": {},
   "outputs": [],
   "source": [
    "from util.sys import get_path, shift_skeleton\n",
    "import pandas as pd\n",
    "import networkx as nx\n",
    "import numpy as np\n",
    "from extract_graph import generate_nx_graph, transform_list\n",
    "from node_id import whole_movement_identification\n",
    "import ast\n",
    "from scipy import sparse"
   ]
  },
  {
   "cell_type": "code",
   "execution_count": 2,
   "metadata": {},
   "outputs": [],
   "source": [
    "date0 = \"0709_1157\"\n",
    "date1 = \"0709_1557\"\n",
    "date2 = \"0709_1934\"\n",
    "dates = [date0, date1, date2]\n",
    "plate = 13\n",
    "\n",
    "# tab_labeled_t0m2=pd.read_csv(get_path(date0,plate,True,extension='_full_labeled.csv'),converters={'origin_pos' : transform_list,'end_pos' : transform_list,'pixel_list' : ast.literal_eval})\n",
    "# # tab_labeled_t0m1=pd.read_csv(get_path(date1,plate,True,extension='_full_labeled.csv'))\n",
    "# tab_labeled_t0=pd.read_csv(get_path(date2,plate,True,extension='_full_labeled.csv'))"
   ]
  },
  {
   "cell_type": "code",
   "execution_count": 5,
   "metadata": {},
   "outputs": [],
   "source": [
    "skeleton_doc_1_thinned = sparse.dok_matrix(\n",
    "    sparse.load_npz(f\"Data/skeleton_{date1}_{plate}_full.npz\")\n",
    ")"
   ]
  },
  {
   "cell_type": "code",
   "execution_count": 6,
   "metadata": {},
   "outputs": [
    {
     "data": {
      "text/plain": [
       "<20687x45556 sparse matrix of type '<class 'numpy.bool_'>'\n",
       "\twith 1401941 stored elements in Dictionary Of Keys format>"
      ]
     },
     "execution_count": 6,
     "metadata": {},
     "output_type": "execute_result"
    }
   ],
   "source": [
    "skeleton_doc_1_thinnedeleton_doc_1_thinned"
   ]
  },
  {
   "cell_type": "code",
   "execution_count": 9,
   "metadata": {},
   "outputs": [],
   "source": [
    "ex = np.zeros(shape=(2070, 4560))"
   ]
  },
  {
   "cell_type": "code",
   "execution_count": 10,
   "metadata": {},
   "outputs": [],
   "source": [
    "ex[2000:4000, 1000:1500] += 100"
   ]
  },
  {
   "cell_type": "code",
   "execution_count": 3,
   "metadata": {},
   "outputs": [],
   "source": [
    "tabs_labeled = []\n",
    "for date in dates:\n",
    "    tabs_labeled.append(\n",
    "        pd.read_csv(\n",
    "            get_path(date, plate, True, extension=\"_full_labeled.csv\"),\n",
    "            converters={\n",
    "                \"origin_pos\": transform_list,\n",
    "                \"end_pos\": transform_list,\n",
    "                \"pixel_list\": ast.literal_eval,\n",
    "            },\n",
    "        )\n",
    "    )"
   ]
  },
  {
   "cell_type": "code",
   "execution_count": 26,
   "metadata": {},
   "outputs": [],
   "source": []
  },
  {
   "cell_type": "code",
   "execution_count": 4,
   "metadata": {},
   "outputs": [],
   "source": [
    "nx_graphs = []\n",
    "poss = []\n",
    "for tab in tabs_labeled:\n",
    "    nx_graph, pos = generate_nx_graph(tab, labeled=True)\n",
    "    nx_graphs.append(nx_graph)\n",
    "    poss.append(pos)"
   ]
  },
  {
   "cell_type": "code",
   "execution_count": 9,
   "metadata": {},
   "outputs": [],
   "source": [
    "# selecting only the main component\n",
    "S_t0 = [nx_graph_t0.subgraph(c).copy() for c in nx.connected_components(nx_graph_t0)]\n",
    "len_connected_t0 = [len(nx_graph.nodes) for nx_graph in S_t0]\n",
    "nx_graph_t0 = S_t0[np.argmax(len_connected_t0)]\n",
    "S_t0m1 = [\n",
    "    nx_graph_t0m1.subgraph(c).copy() for c in nx.connected_components(nx_graph_t0m1)\n",
    "]\n",
    "len_connected_t0m1 = [len(nx_graph.nodes) for nx_graph in S_t0m1]\n",
    "nx_graph_t0m1 = S_t0m1[np.argmax(len_connected_t0m1)]\n",
    "S_t0m2 = [\n",
    "    nx_graph_t0m2.subgraph(c).copy() for c in nx.connected_components(nx_graph_t0m2)\n",
    "]\n",
    "len_connected_t0m2 = [len(nx_graph.nodes) for nx_graph in S_t0m2]\n",
    "nx_graph_t0m2 = S_t0m2[np.argmax(len_connected_t0m2)]"
   ]
  },
  {
   "cell_type": "code",
   "execution_count": null,
   "metadata": {},
   "outputs": [],
   "source": [
    "shifted_skeleton_doc_2_thinned = shift_skeleton(skeleton_doc_2_thinned, -shift12)"
   ]
  },
  {
   "cell_type": "code",
   "execution_count": 29,
   "metadata": {},
   "outputs": [],
   "source": [
    "tip_origin_t0m2_t0m1 = whole_movement_identification(\n",
    "    nx_graphs[0], nx_graphs[1], poss[0], poss[1]\n",
    ")"
   ]
  }
 ],
 "metadata": {
  "kernelspec": {
   "display_name": "cleanMsc",
   "language": "python",
   "name": "cleanmsc"
  },
  "language_info": {
   "codemirror_mode": {
    "name": "ipython",
    "version": 3
   },
   "file_extension": ".py",
   "mimetype": "text/x-python",
   "name": "python",
   "nbconvert_exporter": "python",
   "pygments_lexer": "ipython3",
   "version": "3.7.8"
  }
 },
 "nbformat": 4,
 "nbformat_minor": 4
}

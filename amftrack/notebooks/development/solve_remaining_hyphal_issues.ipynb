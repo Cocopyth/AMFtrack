{
 "cells": [
  {
   "cell_type": "code",
   "execution_count": 25,
   "metadata": {},
   "outputs": [],
   "source": [
    "%matplotlib widget\n",
    "from util.sys import get_path\n",
    "import pandas as pd\n",
    "import networkx as nx\n",
    "import numpy as np\n",
    "import matplotlib.pyplot as plt\n",
    "from extract_graph import (\n",
    "    generate_nx_graph,\n",
    "    transform_list,\n",
    "    generate_skeleton,\n",
    "    generate_nx_graph_from_skeleton,\n",
    "    from_connection_tab,\n",
    ")\n",
    "from node_id import whole_movement_identification, second_identification\n",
    "import ast\n",
    "from plotutil import plot_t_tp1, compress_skeleton\n",
    "from scipy import sparse\n",
    "from sparse_util import dilate, zhangSuen\n",
    "from realign import realign\n",
    "from datetime import datetime, timedelta\n",
    "from node_id import orient\n",
    "import pickle\n",
    "from matplotlib.widgets import CheckButtons\n",
    "import scipy.io as sio\n",
    "import imageio\n",
    "from pymatreader import read_mat\n",
    "import os\n",
    "from matplotlib import colors\n",
    "from random import choice\n",
    "from experiment_class import Experiment, clean_exp_with_hyphaes\n",
    "from hyphae_id import (\n",
    "    clean_and_relabel,\n",
    "    get_mother,\n",
    "    save_hyphaes,\n",
    "    resolve_ambiguity_two_ends,\n",
    "    solve_degree4,\n",
    "    clean_obvious_fake_tips,\n",
    ")\n",
    "from extract_graph import prune_graph"
   ]
  },
  {
   "cell_type": "code",
   "execution_count": 4,
   "metadata": {},
   "outputs": [],
   "source": [
    "plate = 13\n",
    "exp_clean = pickle.load(open(f\"Data/\" + f\"experiment_{plate}.pick\", \"rb\"))"
   ]
  },
  {
   "cell_type": "code",
   "execution_count": null,
   "metadata": {},
   "outputs": [],
   "source": [
    "solve_two_ends = resolve_ambiguity_two_ends(exp_clean.hyphaes)"
   ]
  },
  {
   "cell_type": "code",
   "execution_count": 6,
   "metadata": {},
   "outputs": [
    {
     "name": "stdout",
     "output_type": "stream",
     "text": [
      "[5576, 1580, 6170, 6171, 5151]\n",
      "6 5150 [(Edge(5150,5152), Edge(5150,6172)), (Edge(5150,6171), Edge(5150,5151))] 2\n",
      "[5576, 1580, 6170, 6171, 5151]\n",
      "7 5150 [(Edge(5150,6569), Edge(5150,6172)), (Edge(5150,6171), Edge(5150,5151))] 2\n"
     ]
    }
   ],
   "source": [
    "solved = solve_degree4(exp_clean)"
   ]
  },
  {
   "cell_type": "code",
   "execution_count": 26,
   "metadata": {},
   "outputs": [
    {
     "data": {
      "text/plain": [
       "<experiment_class.Experiment at 0x21e9c632d88>"
      ]
     },
     "execution_count": 26,
     "metadata": {},
     "output_type": "execute_result"
    }
   ],
   "source": [
    "clean_obvious_fake_tips(exp_clean)"
   ]
  },
  {
   "cell_type": "code",
   "execution_count": 27,
   "metadata": {},
   "outputs": [
    {
     "name": "stdout",
     "output_type": "stream",
     "text": [
      "2303 2303\n",
      "2303 2303\n",
      "2303 2303\n",
      "2303 2303\n",
      "2303 2303\n",
      "2303 2303\n",
      "2303 2303\n",
      "2303 2303\n",
      "2303 2303\n",
      "2303 2303\n",
      "2303 2303\n",
      "2303 2303\n",
      "2303 2303\n",
      "2303 2303\n",
      "2303 2303\n",
      "2303 2303\n",
      "2303 2303\n",
      "2303 2303\n",
      "2303 2303\n",
      "3801 3801\n",
      "3801 3801\n",
      "3801 3801\n",
      "3801 3801\n",
      "3801 3801\n",
      "3801 3801\n",
      "3801 3801\n",
      "3801 3801\n",
      "4002 4002\n",
      "4002 4002\n",
      "4002 4002\n",
      "4002 4002\n",
      "4002 4002\n",
      "4002 4002\n",
      "4002 4002\n",
      "4002 4002\n",
      "4002 4002\n",
      "4500 4500\n",
      "4500 4500\n",
      "4500 4500\n",
      "4500 4500\n",
      "4998 4998\n",
      "4998 4998\n",
      "4998 4998\n",
      "7208 7208\n",
      "7208 7208\n",
      "7208 7208\n",
      "7208 7208\n",
      "7208 7208\n",
      "7208 7208\n",
      "7208 7208\n",
      "7208 7208\n",
      "7208 7208\n",
      "7208 7208\n",
      "7208 7208\n",
      "7208 7208\n",
      "8352 8352\n",
      "8449 8449\n",
      "8449 8449\n",
      "8449 8449\n",
      "8449 8449\n",
      "8450 8450\n",
      "8473 8473\n",
      "8473 8473\n",
      "8473 8473\n",
      "10339 10339\n",
      "10641 10641\n",
      "10783 10783\n",
      "10783 10783\n",
      "10783 10783\n",
      "10783 10783\n",
      "10783 10783\n",
      "10783 10783\n",
      "11889 11889\n",
      "11889 11889\n",
      "11889 11889\n",
      "11889 11889\n",
      "11889 11889\n",
      "12425 12425\n",
      "12425 12425\n",
      "12425 12425\n",
      "12425 12425\n",
      "12428 12428\n",
      "12428 12428\n",
      "12428 12428\n"
     ]
    }
   ],
   "source": [
    "hyphs, gr_inf = save_hyphaes(exp_clean)\n",
    "exp_clean.save()"
   ]
  },
  {
   "cell_type": "code",
   "execution_count": 15,
   "metadata": {},
   "outputs": [],
   "source": [
    "for hyph in exp_clean.hyphaes:\n",
    "    hyph.update_ts()"
   ]
  },
  {
   "cell_type": "code",
   "execution_count": 144,
   "metadata": {},
   "outputs": [],
   "source": [
    "hyph_anas_tip_tip = []\n",
    "potential = []\n",
    "for hyph in exp_clean.hyphaes:\n",
    "    if (\n",
    "        len(hyph.ts) >= 2\n",
    "        and hyph.end.degree(hyph.ts[-1]) == 1\n",
    "        and hyph.end.ts()[-1] != len(exp_clean.nx_graph) - 1\n",
    "        and not np.all([hyph.get_length_pixel(t) <= 20 for t in hyph.ts])\n",
    "    ):\n",
    "        potential.append(hyph)\n",
    "for hyph in potential:\n",
    "    t0 = hyph.ts[-1]\n",
    "    for hyph2 in potential:\n",
    "        if hyph2.ts[-1] == t0 and hyph != hyph2:\n",
    "            vector = (hyph2.end.pos(t0) - hyph.end.pos(t0)) / np.linalg.norm(\n",
    "                hyph2.end.pos(t0) - hyph.end.pos(t0)\n",
    "            )\n",
    "            vertical_vector = np.array([-1, 0])\n",
    "            dot_product = np.dot(vertical_vector, vector)\n",
    "            if (\n",
    "                vertical_vector[1] * vector[0] - vertical_vector[0] * vector[1] >= 0\n",
    "            ):  # determinant\n",
    "                angle = np.arccos(dot_product) / (2 * np.pi) * 360\n",
    "            else:\n",
    "                angle = -np.arccos(dot_product) / (2 * np.pi) * 360\n",
    "            score = np.cos(\n",
    "                (angle - (180 + hyph.end.edges(t0)[0].orientation_begin(t0, 30)))\n",
    "                / 360\n",
    "                * 2\n",
    "                * np.pi\n",
    "            ) + np.cos(\n",
    "                (360 + angle - hyph2.end.edges(t0)[0].orientation_begin(t0, 30))\n",
    "                / 360\n",
    "                * 2\n",
    "                * np.pi\n",
    "            )\n",
    "            if (\n",
    "                np.linalg.norm(hyph2.end.pos(t0) - hyph.end.pos(t0)) <= 500\n",
    "                and score >= 0.5\n",
    "            ):\n",
    "                hyph_anas_tip_tip.append((hyph, hyph2, t0))"
   ]
  },
  {
   "cell_type": "code",
   "execution_count": 145,
   "metadata": {},
   "outputs": [],
   "source": [
    "hyph_anas_tip_hyph = [\n",
    "    hyphat\n",
    "    for hyphat in exp_clean.hyphaes\n",
    "    if len(hyphat.ts) >= 1\n",
    "    and hyphat.end.degree(hyphat.ts[-1]) >= 3\n",
    "    and hyphat.end.degree(hyphat.ts[-2]) >= 3\n",
    "]"
   ]
  },
  {
   "cell_type": "code",
   "execution_count": 146,
   "metadata": {},
   "outputs": [
    {
     "data": {
      "text/plain": [
       "239"
      ]
     },
     "execution_count": 146,
     "metadata": {},
     "output_type": "execute_result"
    }
   ],
   "source": [
    "len(hyph_anas_tip_hyph)"
   ]
  },
  {
   "cell_type": "code",
   "execution_count": 136,
   "metadata": {},
   "outputs": [
    {
     "data": {
      "text/plain": [
       "[(Hyphae(126,454), Hyphae(4401,4398), 1.954672336101087),\n",
       " (Hyphae(161,179), Hyphae(6267,6266), 0.7809787080345737),\n",
       " (Hyphae(439,442), Hyphae(464,495), 1.8130618045327542),\n",
       " (Hyphae(464,495), Hyphae(439,442), 1.8130618045327547),\n",
       " (Hyphae(813,773), Hyphae(845,721), 1.5834953873197146),\n",
       " (Hyphae(845,721), Hyphae(813,773), 1.583495387319714),\n",
       " (Hyphae(877,1029), Hyphae(6980,6979), 1.7938215538705315),\n",
       " (Hyphae(929,909), Hyphae(1204,1293), 1.7983931480030908),\n",
       " (Hyphae(1038,1051), Hyphae(2693,2684), 1.7180008032863814),\n",
       " (Hyphae(1204,1293), Hyphae(929,909), 1.798393148003091),\n",
       " (Hyphae(1603,1694), Hyphae(3932,3929), 1.909004120406454),\n",
       " (Hyphae(2088,2127), Hyphae(3194,3195), 1.047640346299485),\n",
       " (Hyphae(2693,2684), Hyphae(1038,1051), 1.7180008032863805),\n",
       " (Hyphae(3194,3195), Hyphae(2088,2127), 1.0476403462994843),\n",
       " (Hyphae(3932,3929), Hyphae(1603,1694), 1.9090041204064536),\n",
       " (Hyphae(4056,4060), Hyphae(5608,5604), 1.9795207132807826),\n",
       " (Hyphae(4401,4398), Hyphae(126,454), 1.9546723361010874),\n",
       " (Hyphae(4457,4456), Hyphae(4458,3479), 1.7965614126355622),\n",
       " (Hyphae(4458,3479), Hyphae(4457,4456), 1.7965614126355631),\n",
       " (Hyphae(4826,4827), Hyphae(4860,4864), 0.3743569865108474),\n",
       " (Hyphae(4860,4864), Hyphae(4826,4827), 0.37435698651084814),\n",
       " (Hyphae(5608,5604), Hyphae(4056,4060), 1.9795207132807828),\n",
       " (Hyphae(5673,5666), Hyphae(5992,5993), 1.6734047911153902),\n",
       " (Hyphae(5863,5865), Hyphae(6180,6179), 1.8232995319554406),\n",
       " (Hyphae(5992,5993), Hyphae(5673,5666), 1.67340479111539),\n",
       " (Hyphae(6180,6179), Hyphae(5863,5865), 1.823299531955441),\n",
       " (Hyphae(6195,6196), Hyphae(6832,6831), 1.997039323913971),\n",
       " (Hyphae(6267,6266), Hyphae(161,179), 0.7809787080345717),\n",
       " (Hyphae(6542,6544), Hyphae(6853,6854), 0.6282932652809137),\n",
       " (Hyphae(6832,6831), Hyphae(6195,6196), 1.997039323913971),\n",
       " (Hyphae(6853,6854), Hyphae(6542,6544), 0.6282932652809143),\n",
       " (Hyphae(6980,6979), Hyphae(877,1029), 1.7938215538705309)]"
      ]
     },
     "execution_count": 136,
     "metadata": {},
     "output_type": "execute_result"
    }
   ],
   "source": [
    "hyph_anas_tip_tip"
   ]
  },
  {
   "cell_type": "code",
   "execution_count": 140,
   "metadata": {},
   "outputs": [],
   "source": [
    "anas1, anas2, score = choice(hyph_anas_tip_tip)\n",
    "t0 = anas1.ts[-1]\n",
    "plt.close(\"all\")"
   ]
  },
  {
   "cell_type": "code",
   "execution_count": 141,
   "metadata": {},
   "outputs": [
    {
     "data": {
      "text/plain": [
       "(Hyphae(2693,2684),\n",
       " [1, 2, 3],\n",
       " Hyphae(1038,1051),\n",
       " [0, 1, 2, 3],\n",
       " 1.7180008032863805)"
      ]
     },
     "execution_count": 141,
     "metadata": {},
     "output_type": "execute_result"
    }
   ],
   "source": [
    "anas1, anas1.ts, anas2, anas2.ts, score"
   ]
  },
  {
   "cell_type": "code",
   "execution_count": 142,
   "metadata": {},
   "outputs": [
    {
     "data": {
      "application/vnd.jupyter.widget-view+json": {
       "model_id": "7ea815e16d634d538be5d9ad6865a3c6",
       "version_major": 2,
       "version_minor": 0
      },
      "text/plain": [
       "Canvas(toolbar=Toolbar(toolitems=[('Home', 'Reset original view', 'home', 'home'), ('Back', 'Back to previous …"
      ]
     },
     "metadata": {},
     "output_type": "display_data"
    }
   ],
   "source": [
    "exp_clean.plot(\n",
    "    [t0, t0 + 1],\n",
    "    [[anas1.end.label, anas1.root.label, anas2.end.label, anas2.root.label]] * 2,\n",
    ")"
   ]
  },
  {
   "cell_type": "code",
   "execution_count": 5,
   "metadata": {},
   "outputs": [
    {
     "data": {
      "text/plain": [
       "500"
      ]
     },
     "execution_count": 5,
     "metadata": {},
     "output_type": "execute_result"
    }
   ],
   "source": [
    "len(solved)"
   ]
  },
  {
   "cell_type": "code",
   "execution_count": 19,
   "metadata": {},
   "outputs": [],
   "source": [
    "case = choice(solved)\n",
    "t0 = case[0]\n",
    "nodes = case[1]\n",
    "plt.close(\"all\")"
   ]
  },
  {
   "cell_type": "code",
   "execution_count": 14,
   "metadata": {},
   "outputs": [
    {
     "data": {
      "text/plain": [
       "500"
      ]
     },
     "execution_count": 14,
     "metadata": {},
     "output_type": "execute_result"
    }
   ],
   "source": [
    "len(solved)"
   ]
  },
  {
   "cell_type": "code",
   "execution_count": 17,
   "metadata": {},
   "outputs": [
    {
     "data": {
      "text/plain": [
       "14"
      ]
     },
     "execution_count": 17,
     "metadata": {},
     "output_type": "execute_result"
    }
   ],
   "source": [
    "t0"
   ]
  },
  {
   "cell_type": "code",
   "execution_count": 20,
   "metadata": {},
   "outputs": [
    {
     "data": {
      "application/vnd.jupyter.widget-view+json": {
       "model_id": "7b80705919264a079c38403fe85da72d",
       "version_major": 2,
       "version_minor": 0
      },
      "text/plain": [
       "Canvas(toolbar=Toolbar(toolitems=[('Home', 'Reset original view', 'home', 'home'), ('Back', 'Back to previous …"
      ]
     },
     "metadata": {},
     "output_type": "display_data"
    }
   ],
   "source": [
    "exp_clean.plot([9, t0], [[node.label for node in nodes]] * 2)"
   ]
  },
  {
   "cell_type": "code",
   "execution_count": 28,
   "metadata": {},
   "outputs": [
    {
     "data": {
      "application/vnd.jupyter.widget-view+json": {
       "model_id": "6316333cdaec4f0185f604cdfadfba45",
       "version_major": 2,
       "version_minor": 0
      },
      "text/plain": [
       "Canvas(toolbar=Toolbar(toolitems=[('Home', 'Reset original view', 'home', 'home'), ('Back', 'Back to previous …"
      ]
     },
     "metadata": {},
     "output_type": "display_data"
    }
   ],
   "source": [
    "exp_clean.plot([0, 10, 20], [[118, 144, 146, 144, 134, 144, 155]] * 3)"
   ]
  }
 ],
 "metadata": {
  "kernelspec": {
   "display_name": "cleanMsc",
   "language": "python",
   "name": "cleanmsc"
  },
  "language_info": {
   "codemirror_mode": {
    "name": "ipython",
    "version": 3
   },
   "file_extension": ".py",
   "mimetype": "text/x-python",
   "name": "python",
   "nbconvert_exporter": "python",
   "pygments_lexer": "ipython3",
   "version": "3.7.9"
  }
 },
 "nbformat": 4,
 "nbformat_minor": 4
}

{
 "cells": [
  {
   "cell_type": "code",
   "execution_count": 1,
   "metadata": {},
   "outputs": [],
   "source": [
    "%matplotlib widget\n",
    "from util.sys import get_path\n",
    "import pandas as pd\n",
    "import networkx as nx\n",
    "import numpy as np\n",
    "import matplotlib.pyplot as plt\n",
    "from extract_graph import (\n",
    "    generate_nx_graph,\n",
    "    transform_list,\n",
    "    generate_skeleton,\n",
    "    generate_nx_graph_from_skeleton,\n",
    "    from_connection_tab,\n",
    ")\n",
    "from node_id import whole_movement_identification, second_identification\n",
    "import ast\n",
    "from plotutil import plot_t_tp1, compress_skeleton\n",
    "from scipy import sparse\n",
    "from sparse_util import dilate, zhangSuen\n",
    "from realign import realign\n",
    "from datetime import datetime, timedelta\n",
    "from node_id import orient\n",
    "import pickle\n",
    "from matplotlib.widgets import CheckButtons\n",
    "import scipy.io as sio\n",
    "import imageio\n",
    "from pymatreader import read_mat\n",
    "import os\n",
    "from matplotlib import colors\n",
    "from random import choice"
   ]
  },
  {
   "cell_type": "code",
   "execution_count": 2,
   "metadata": {},
   "outputs": [],
   "source": [
    "plate = 13\n",
    "directory = (\n",
    "    \"//sun.amolf.nl/shimizu-data/home-folder/oyartegalvez/Drive_AMFtopology/PRINCE\"\n",
    ")\n",
    "listdir = os.listdir(directory)\n",
    "list_dir_interest = [\n",
    "    name\n",
    "    for name in listdir\n",
    "    if name.split(\"_\")[-1] == f'Plate{0 if plate<10 else \"\"}{plate}'\n",
    "]\n",
    "ss = [name.split(\"_\")[0] for name in list_dir_interest]\n",
    "ff = [name.split(\"_\")[1] for name in list_dir_interest]\n",
    "dates_datetime = [\n",
    "    datetime(\n",
    "        year=int(ss[i][:4]),\n",
    "        month=int(ss[i][4:6]),\n",
    "        day=int(ss[i][6:8]),\n",
    "        hour=int(ff[i][0:2]),\n",
    "        minute=int(ff[i][2:4]),\n",
    "    )\n",
    "    for i in range(len(list_dir_interest))\n",
    "]\n",
    "dates_datetime.sort()\n",
    "dates_datetime_chosen = dates_datetime[1:25]\n",
    "dates = [\n",
    "    f'{0 if date.month<10 else \"\"}{date.month}{0 if date.day<10 else \"\"}{date.day}_{0 if date.hour<10 else \"\"}{date.hour}{0 if date.minute<10 else \"\"}{date.minute}'\n",
    "    for date in dates_datetime_chosen\n",
    "]"
   ]
  },
  {
   "cell_type": "code",
   "execution_count": 3,
   "metadata": {},
   "outputs": [],
   "source": [
    "from util.sys import get_path\n",
    "import pandas as pd\n",
    "import networkx as nx\n",
    "import numpy as np\n",
    "import matplotlib.pyplot as plt\n",
    "from extract_graph import (\n",
    "    generate_nx_graph,\n",
    "    transform_list,\n",
    "    generate_skeleton,\n",
    "    generate_nx_graph_from_skeleton,\n",
    "    from_connection_tab,\n",
    ")\n",
    "from node_id import whole_movement_identification, second_identification\n",
    "import ast\n",
    "from plotutil import plot_t_tp1, compress_skeleton\n",
    "from scipy import sparse\n",
    "from sparse_util import dilate, zhangSuen\n",
    "from realign import realign\n",
    "from datetime import datetime, timedelta\n",
    "from node_id import orient\n",
    "import pickle\n",
    "from matplotlib.widgets import CheckButtons\n",
    "import scipy.io as sio\n",
    "import imageio\n",
    "from pymatreader import read_mat\n",
    "from matplotlib import colors\n",
    "from copy import deepcopy, copy\n",
    "\n",
    "\n",
    "class Experiment:\n",
    "    def __init__(self, plate):\n",
    "        self.plate = plate\n",
    "        self.path_param = \"//sun.amolf.nl/shimizu-data/home-folder/oyartegalvez/Drive_AMFtopology/PRINCE/Plate13_20200627/InitialParameters.mat\"\n",
    "\n",
    "    def load(self, dates, local=False, pickle=False, raw=False):\n",
    "        self.dates = dates\n",
    "        self.raw = raw\n",
    "        if local:\n",
    "            paths = [\n",
    "                f\"Data/graph_{date}_{self.plate}_full_labeled.csv\" for date in dates\n",
    "            ]\n",
    "            paths_connection = [\n",
    "                f\"Data/connection_{date}_{self.plate}.csv\" for date in dates[:-1]\n",
    "            ]\n",
    "        else:\n",
    "            paths = [\n",
    "                get_path(date, self.plate, True, extension=\"_full_labeled.csv\")\n",
    "                for date in dates\n",
    "            ]\n",
    "            paths_connection = [\n",
    "                get_path(date, self.plate, True, extension=\"_connection.csv\")\n",
    "                for date in dates[:-1]\n",
    "            ]\n",
    "        if raw:\n",
    "            nx_graph_poss = []\n",
    "            for date in dates:\n",
    "                nx_graph_poss.append(\n",
    "                    generate_nx_graph(\n",
    "                        pd.read_csv(\n",
    "                            get_path(\n",
    "                                date,\n",
    "                                self.plate,\n",
    "                                True,\n",
    "                                extension=\"_raw_aligned_skeleton.csv\",\n",
    "                            ),\n",
    "                            converters={\n",
    "                                \"origin_pos\": transform_list,\n",
    "                                \"end_pos\": transform_list,\n",
    "                                \"pixel_list\": ast.literal_eval,\n",
    "                            },\n",
    "                        ),\n",
    "                        labeled=True,\n",
    "                    )\n",
    "                )\n",
    "        else:\n",
    "            nx_graph_poss = []\n",
    "            for path in paths:\n",
    "                nx_graph_poss.append(\n",
    "                    generate_nx_graph(\n",
    "                        pd.read_csv(\n",
    "                            path,\n",
    "                            converters={\n",
    "                                \"origin_pos\": transform_list,\n",
    "                                \"end_pos\": transform_list,\n",
    "                                \"pixel_list\": ast.literal_eval,\n",
    "                            },\n",
    "                        ),\n",
    "                        labeled=True,\n",
    "                    )\n",
    "                )\n",
    "        from_tip_growth_pattern = []\n",
    "        for path in paths_connection:\n",
    "            from_tip_growth_pattern.append(from_connection_tab(pd.read_csv(path)))\n",
    "        nx_graphs = [nx_graph_pos[0] for nx_graph_pos in nx_graph_poss]\n",
    "        poss = [nx_graph_pos[1] for nx_graph_pos in nx_graph_poss]\n",
    "        nx_graph_clean = []\n",
    "        for graph in nx_graphs:\n",
    "            S = [graph.subgraph(c).copy() for c in nx.connected_components(graph)]\n",
    "            len_connected = [len(nx_graph.nodes) for nx_graph in S]\n",
    "            nx_graph_clean.append(S[np.argmax(len_connected)])\n",
    "        skeletons = []\n",
    "        for nx_graph in nx_graph_clean:\n",
    "            skeletons.append(generate_skeleton(nx_graph, dim=(20800, 46000)))\n",
    "        connections = [c[0] for c in from_tip_growth_pattern]\n",
    "        growth_patterns = [c[1] for c in from_tip_growth_pattern]\n",
    "        self.positions = poss\n",
    "        self.nx_graph = nx_graph_clean\n",
    "        self.connections = connections\n",
    "        self.growth_patterns = growth_patterns\n",
    "        self.skeletons = skeletons\n",
    "        self.hyphaes = None\n",
    "        labels = {node for g in self.nx_graph for node in g}\n",
    "        self.nodes = []\n",
    "        for label in labels:\n",
    "            self.nodes.append(Node(label, self))\n",
    "\n",
    "    def copy(self, experiment):\n",
    "        self.positions = experiment.positions\n",
    "        self.nx_graph = experiment.nx_graph\n",
    "        self.connections = experiment.connections\n",
    "        self.growth_patterns = experiment.growth_patterns\n",
    "        self.skeletons = experiment.skeletons\n",
    "        self.dates = experiment.dates\n",
    "        self.plate = experiment.plate\n",
    "        self.nodes = None\n",
    "        self.hyphaes = None\n",
    "\n",
    "    def save(self, path=f\"Data/\"):\n",
    "        from_tip_growth_pattern_tab = []\n",
    "        for date in self.dates[:-1]:\n",
    "            from_tip_growth_pattern_tab.append(\n",
    "                pd.read_csv(\n",
    "                    get_path(date, self.plate, True, extension=\"_connection.csv\")\n",
    "                )\n",
    "            )\n",
    "        for i, date in enumerate(self.dates[:-1]):\n",
    "            from_tip_growth_pattern_tab[i].to_csv(\n",
    "                path + f\"connection_{date}_{self.plate}.csv\"\n",
    "            )\n",
    "        tabs_labeled = []\n",
    "        for date in self.dates:\n",
    "            tabs_labeled.append(\n",
    "                pd.read_csv(\n",
    "                    get_path(date, self.plate, True, extension=\"_full_labeled.csv\"),\n",
    "                    converters={\n",
    "                        \"origin_pos\": transform_list,\n",
    "                        \"end_pos\": transform_list,\n",
    "                        \"pixel_list\": ast.literal_eval,\n",
    "                    },\n",
    "                )\n",
    "            )\n",
    "        for i, date in enumerate(self.dates):\n",
    "            tabs_labeled[i].to_csv(path + f\"graph_{date}_{self.plate}_full_labeled.csv\")\n",
    "            sio.savemat(\n",
    "                path + f\"graph_{date}_{self.plate}_full_labeled.mat\",\n",
    "                {name: col.values for name, col in tabs_labeled[i].items()},\n",
    "            )\n",
    "\n",
    "    def pickle_save(self):\n",
    "        pickle.dump(self, open(f\"Data/\" + f\"experiment_{self.plate}.pick\", \"wb\"))\n",
    "\n",
    "    def pickle_load(self):\n",
    "        self = pickle.load(open(f\"Data/\" + f\"experiment_{self.plate}.pick\", \"rb\"))\n",
    "\n",
    "    def get_node(self, label):\n",
    "        return Node(label, self)\n",
    "\n",
    "    def get_edge(self, begin, end):\n",
    "        return Edge(begin, end, self)\n",
    "\n",
    "    def compress_skeleton(self, t, factor):\n",
    "        shape = self.skeletons[t].shape\n",
    "        final_picture = np.zeros(shape=(shape[0] // factor, shape[1] // factor))\n",
    "        for pixel in self.skeletons[t].keys():\n",
    "            x = min(round(pixel[0] / factor), shape[0] // factor - 1)\n",
    "            y = min(round(pixel[1] / factor), shape[1] // factor - 1)\n",
    "            final_picture[x, y] += 1\n",
    "        return final_picture >= 1\n",
    "\n",
    "    def load_images(self, t):\n",
    "        date = self.dates[t]\n",
    "        date_plate = f\"/2020{date}\"\n",
    "        plate_str = f\"_Plate{self.plate}\"\n",
    "        path_tile = (\n",
    "            \"//sun.amolf.nl/shimizu-data/home-folder/oyartegalvez/Drive_AMFtopology/PRINCE\"\n",
    "            + date_plate\n",
    "            + plate_str\n",
    "            + \"/Img/TileConfiguration.registered.txt\"\n",
    "        )\n",
    "        tileconfig = pd.read_table(\n",
    "            path_tile,\n",
    "            sep=\";\",\n",
    "            skiprows=4,\n",
    "            header=None,\n",
    "            converters={2: ast.literal_eval},\n",
    "            skipinitialspace=True,\n",
    "        )\n",
    "        for name in tileconfig[0]:\n",
    "            im = imageio.imread(\n",
    "                \"//sun.amolf.nl/shimizu-data/home-folder/oyartegalvez/Drive_AMFtopology/PRINCE\"\n",
    "                + date_plate\n",
    "                + plate_str\n",
    "                + \"/Img/\"\n",
    "                + name\n",
    "            )\n",
    "            np.save(\"Temp/\" + name, im)\n",
    "\n",
    "    def get_growing_tips(self, t, threshold=80):\n",
    "        growths = {\n",
    "            tip: sum([len(branch) for branch in self.growth_patterns[t][tip]])\n",
    "            for tip in self.growth_patterns[t].keys()\n",
    "        }\n",
    "        growing_tips = [node for node in growths.keys() if growths[node] >= threshold]\n",
    "        return growing_tips\n",
    "\n",
    "    def pinpoint_anastomosis(self, t):\n",
    "        nx_graph_tm1 = self.nx_graph[t]\n",
    "        nx_grapht = self.nx_graph[t + 1]\n",
    "        from_tip = self.connections[t]\n",
    "        pos_tm1 = self.positions[t]\n",
    "        anastomosis = []\n",
    "        origins = []\n",
    "        tips = [node for node in nx_graph_tm1.nodes if nx_graph_tm1.degree(node) == 1]\n",
    "        number_anastomosis = 0\n",
    "\n",
    "        def dist_branch(node, nx_graph, pos):\n",
    "            mini = np.inf\n",
    "            for edge in nx_graph.edges:\n",
    "                pixel_list = nx_graph.get_edge_data(*edge)[\"pixel_list\"]\n",
    "                if (\n",
    "                    np.linalg.norm(np.array(pixel_list[0]) - np.array(pos[node]))\n",
    "                    <= 5000\n",
    "                ):\n",
    "                    distance = np.min(\n",
    "                        np.linalg.norm(\n",
    "                            np.array(pixel_list) - np.array(pos[node]), axis=1\n",
    "                        )\n",
    "                    )\n",
    "                    if distance < mini:\n",
    "                        mini = distance\n",
    "            return mini\n",
    "\n",
    "        def count_neighbors_is_from_root(equ_list, nx_graph, root):\n",
    "            count = 0\n",
    "            for neighbor in nx_graph.neighbors(root):\n",
    "                if neighbor in equ_list:\n",
    "                    count += 1\n",
    "            return count\n",
    "\n",
    "        for tip in tips:\n",
    "            #         print(tip)\n",
    "            consequence = from_tip[tip]\n",
    "            for node in consequence:\n",
    "                if (\n",
    "                    node in nx_grapht.nodes\n",
    "                    and nx_grapht.degree(node) >= 3\n",
    "                    and count_neighbors_is_from_root(consequence, nx_grapht, node) < 2\n",
    "                ):\n",
    "                    #                 if node==2753:\n",
    "                    #                     print(count_neighbors_is_from_root(consequence,nx_grapht,node))\n",
    "                    #                     print(list(nx_grapht.neighbors(node)))\n",
    "                    anastomosis.append(node)\n",
    "                    origins.append(tip)\n",
    "                    number_anastomosis += 1\n",
    "            if (\n",
    "                tip not in nx_grapht.nodes\n",
    "                and dist_branch(tip, nx_grapht, pos_tm1) <= 30\n",
    "                and nx_graph_tm1.get_edge_data(*list(nx_graph_tm1.edges(tip))[0])[\n",
    "                    \"weight\"\n",
    "                ]\n",
    "                >= 20\n",
    "            ):\n",
    "                origins.append(tip)\n",
    "                number_anastomosis += 1 / 2\n",
    "        return (anastomosis, origins, number_anastomosis)\n",
    "\n",
    "    def find_image_pos(self, ys, xs, t, local=False):\n",
    "        params = read_mat(self.path_param)\n",
    "        x1 = params[\"x1\"]\n",
    "        x2 = params[\"x2\"]\n",
    "        y0 = params[\"y0\"]\n",
    "        Sf = params[\"Sf\"]\n",
    "        L0center = params[\"L0center\"]\n",
    "        date = self.dates[t]\n",
    "        date_plate = f\"/2020{date}\"\n",
    "        plate_str = f\"_Plate{self.plate}\"\n",
    "        findingbaits = read_mat(\n",
    "            \"//sun.amolf.nl/shimizu-data/home-folder/oyartegalvez/Drive_AMFtopology/PRINCE\"\n",
    "            + date_plate\n",
    "            + plate_str\n",
    "            + \"/Analysis/FindingBaits.mat\"\n",
    "        )\n",
    "        Rcenter = findingbaits[\"Rcenter\"]\n",
    "        Rradii = findingbaits[\"Rradii\"]\n",
    "        Lcenter = findingbaits[\"Lcenter\"]\n",
    "        t = findingbaits[\"t\"]\n",
    "        Lradii = findingbaits[\"Lradii\"]\n",
    "        path_tile = (\n",
    "            \"//sun.amolf.nl/shimizu-data/home-folder/oyartegalvez/Drive_AMFtopology/PRINCE\"\n",
    "            + date_plate\n",
    "            + plate_str\n",
    "            + \"/Img/TileConfiguration.registered.txt\"\n",
    "        )\n",
    "        tileconfig = pd.read_table(\n",
    "            path_tile,\n",
    "            sep=\";\",\n",
    "            skiprows=4,\n",
    "            header=None,\n",
    "            converters={2: ast.literal_eval},\n",
    "            skipinitialspace=True,\n",
    "        )\n",
    "        xs_yss = list(tileconfig[2])\n",
    "        xes = [xs_ys[0] for xs_ys in xs_yss]\n",
    "        yes = [xs_ys[1] for xs_ys in xs_yss]\n",
    "        cmin = np.min(xes)\n",
    "        cmax = np.max(xes)\n",
    "        rmin = np.min(yes)\n",
    "        rmax = np.max(yes)\n",
    "        S0 = [rmax + 3000 + abs(rmin), cmax + 4096 + abs(cmin)]\n",
    "        theta = np.arctan((Rcenter[1] - Lcenter[1]) / (Rcenter[0] - Lcenter[0]))\n",
    "        Sry = S0[0] * np.cos(abs(theta)) + S0[1] * np.sin(abs(theta))\n",
    "        C = np.tan(\n",
    "            -np.arctan(\n",
    "                (\n",
    "                    ys\n",
    "                    + y0\n",
    "                    - 1\n",
    "                    - L0center[1]\n",
    "                    - np.sqrt(Lcenter[0] ** 2 + (S0[0] - Lcenter[1]) ** 2)\n",
    "                    * np.sin(np.arctan((S0[0] - Lcenter[1]) / Lcenter[0]) + theta)\n",
    "                )\n",
    "                / (\n",
    "                    xs\n",
    "                    + (x2 + x1) / 2\n",
    "                    - (Sf[0] - y0)\n",
    "                    - 1\n",
    "                    - L0center[0]\n",
    "                    + np.sqrt(Lcenter[0] ** 2 + (S0[0] - Lcenter[1]) ** 2)\n",
    "                    * np.cos(np.arctan((S0[0] - Lcenter[1]) / Lcenter[0]) + theta)\n",
    "                )\n",
    "            )\n",
    "            - theta\n",
    "        )\n",
    "        ximg = -(\n",
    "            ys\n",
    "            + y0\n",
    "            - 1\n",
    "            - L0center[1]\n",
    "            - np.sqrt(Lcenter[0] ** 2 + (S0[0] - Lcenter[1]) ** 2)\n",
    "            * np.sin(np.arctan((S0[0] - Lcenter[1]) / Lcenter[0]) + theta)\n",
    "        ) / (np.sqrt(1 + C**2) * np.sin(np.arctan(C) + theta))\n",
    "        yimg = S0[0] - C * ximg\n",
    "\n",
    "        def find(xsub, ysub, x, y):\n",
    "            indexes = []\n",
    "            for i in range(len(xsub)):\n",
    "                if (\n",
    "                    x >= xsub[i] - cmin\n",
    "                    and x < xsub[i] - cmin + 4096\n",
    "                    and y >= ysub[i] - rmin\n",
    "                    and y < ysub[i] - rmin + 3000\n",
    "                ):\n",
    "                    indexes.append(i)\n",
    "            return indexes\n",
    "\n",
    "        indsImg = find(xes, yes, ximg, yimg)\n",
    "        possImg = [\n",
    "            ximg - np.array(xes)[indsImg] + cmin + 1,\n",
    "            yimg - np.array(yes)[indsImg] + rmin + 1,\n",
    "        ]\n",
    "        paths = []\n",
    "        for index in indsImg:\n",
    "            if local:\n",
    "                pipeline.paths.append(\"Temp/\" + tileconfig[0][index] + \".npy\")\n",
    "            else:\n",
    "                pipeline.paths.append(\n",
    "                    \"//sun.amolf.nl/shimizu-data/home-folder/oyartegalvez/Drive_AMFtopology/PRINCE\"\n",
    "                    + date_plate\n",
    "                    + plate_str\n",
    "                    + \"/Img/\"\n",
    "                    + tileconfig[0][index]\n",
    "                )\n",
    "        if local:\n",
    "            ims = [np.load(path) for path in paths]\n",
    "        else:\n",
    "            ims = [imageio.imread(path) for path in paths]\n",
    "        return (ims, possImg)\n",
    "\n",
    "    def plot(self, ts, node_lists=[], shift=(0, 0), compress=5, save=\"\", time=None):\n",
    "        global check\n",
    "        right = 0.90\n",
    "        top = 0.90\n",
    "        if len(save) >= 1:\n",
    "            fig = plt.figure(figsize=(14, 12))\n",
    "            size = 10\n",
    "        else:\n",
    "            fig = plt.figure()\n",
    "            size = 5\n",
    "        ax = fig.add_subplot(111)\n",
    "        scale = 1 / len(ts)\n",
    "        power = len(ts)\n",
    "        compressed_images = []\n",
    "        for i, t in enumerate(ts):\n",
    "            compressed_images.append(self.compress_skeleton(t, compress))\n",
    "        visibility = [True for t in ts]\n",
    "        final_image = scale * compressed_images[0] * visibility[0]\n",
    "        for i, compressed_image in enumerate(compressed_images[1:]):\n",
    "            final_image = np.power(\n",
    "                final_image**power\n",
    "                + ((i + 2) * scale * compressed_image * visibility[i + 1]) ** power,\n",
    "                1 / power,\n",
    "            )\n",
    "        l1 = ax.imshow(final_image, cmap=\"plasma\", interpolation=\"none\", vmin=0, vmax=1)\n",
    "        rax = plt.axes([0.05, 0.4, 0.1, 0.15])\n",
    "        labels = [f\"{4*t}h\" for t in ts]\n",
    "        check = CheckButtons(rax, labels, visibility)\n",
    "\n",
    "        def func(label):\n",
    "            index = labels.index(label)\n",
    "            visibility[index] = not visibility[index]\n",
    "            final_image = visibility[0] * scale * compressed_images[0]\n",
    "            for i, compressed_image in enumerate(compressed_images[1:]):\n",
    "                final_image = np.power(\n",
    "                    final_image**power\n",
    "                    + visibility[i + 1] * ((i + 2) * scale * compressed_image) ** power,\n",
    "                    1 / power,\n",
    "                )\n",
    "            l1.set_data(final_image)\n",
    "            plt.draw()\n",
    "\n",
    "        check.on_clicked(func)\n",
    "        if len(node_lists) > 0:\n",
    "            for i, node_list in enumerate(node_lists):\n",
    "                grey = (i + 1) / len(labels)\n",
    "                bbox = dict(boxstyle=\"circle\", fc=colors.rgb2hex((grey, grey, grey)))\n",
    "                #             ax.text(right, top, time,\n",
    "                #                 horizontalalignment='right',\n",
    "                #                 verticalalignment='bottom',\n",
    "                #                 transform=ax.transAxes,color='white')\n",
    "                for node in node_list:\n",
    "                    #                     print(self.positions[ts[i]])\n",
    "                    if node in self.positions[ts[i]].keys():\n",
    "                        t = ax.text(\n",
    "                            (self.positions[ts[i]][node][1] - shift[1]) // compress,\n",
    "                            (self.positions[ts[i]][node][0] - shift[0]) // compress,\n",
    "                            str(node),\n",
    "                            ha=\"center\",\n",
    "                            va=\"center\",\n",
    "                            size=size,\n",
    "                            bbox=bbox,\n",
    "                        )\n",
    "        if len(save) >= 1:\n",
    "            plt.savefig(save)\n",
    "            plt.close(fig)\n",
    "        else:\n",
    "            plt.show()\n",
    "\n",
    "\n",
    "class Node:\n",
    "    def __init__(self, label, experiment):\n",
    "        self.experiment = experiment\n",
    "        self.label = label\n",
    "\n",
    "    def __eq__(self, other):\n",
    "        return self.label == other.label\n",
    "\n",
    "    def __repr__(self):\n",
    "        return f\"Node({self.label})\"\n",
    "\n",
    "    def __str__(self):\n",
    "        return str(self.label)\n",
    "\n",
    "    def __hash__(self):\n",
    "        return self.label\n",
    "\n",
    "    def neighbours(self, t):\n",
    "        return [\n",
    "            self.experiment.get_node(node)\n",
    "            for node in self.experiment.nx_graph[t].neighbors(self.label)\n",
    "        ]\n",
    "\n",
    "    def is_in(self, t):\n",
    "        return self.label in self.experiment.nx_graph[t].nodes\n",
    "\n",
    "    def degree(self, t):\n",
    "        return self.experiment.nx_graph[t].degree(self.label)\n",
    "\n",
    "    def edges(self, t):\n",
    "        return [\n",
    "            self.experiment.get_edge(self, neighbour)\n",
    "            for neighbour in self.neighbours(t)\n",
    "        ]\n",
    "\n",
    "    def pos(self, t):\n",
    "        return self.experiment.positions[t][self.label]\n",
    "\n",
    "    def ts(self):\n",
    "        return [t for t in range(len(self.experiment.nx_graph)) if self.is_in(t)]\n",
    "\n",
    "\n",
    "class Edge:\n",
    "    def __init__(self, begin, end, experiment):\n",
    "        self.begin = begin\n",
    "        self.end = end\n",
    "        self.experiment = experiment\n",
    "\n",
    "    def __repr__(self):\n",
    "        return f\"Edge({self.begin},{self.end})\"\n",
    "\n",
    "    def __str__(self):\n",
    "        return str((self.begin, self.end))\n",
    "\n",
    "    def is_in(self, t):\n",
    "        return (self.begin.label, self.end.label) in self.experiment.nx_graph[t].edges\n",
    "\n",
    "    def pixel_list(self, t):\n",
    "        return orient(\n",
    "            self.experiment.nx_graph[t].get_edge_data(self.begin.label, self.end.label)[\n",
    "                \"pixel_list\"\n",
    "            ],\n",
    "            self.begin.pos(t),\n",
    "        )\n",
    "\n",
    "    def orientation_whole(self, t):\n",
    "        pixel_list = np.array(self.pixel_list(t))\n",
    "        vector = pixel_list[-1] - pixel_list[0]\n",
    "        unit_vector = vector / np.linalg.norm(vector)\n",
    "        vertical_vector = np.array([-1, 0])\n",
    "        dot_product = np.dot(vertical_vector, unit_vector)\n",
    "        if (\n",
    "            vertical_vector[1] * vector[0] - vertical_vector[0] * vector[1] >= 0\n",
    "        ):  # determinant\n",
    "            angle = np.arccos(dot_product) / (2 * np.pi) * 360\n",
    "        else:\n",
    "            angle = -np.arccos(dot_product) / (2 * np.pi) * 360\n",
    "        return angle\n",
    "\n",
    "    def orientation_begin(self, t, length=20):\n",
    "        pixel_list = np.array(self.pixel_list(t))\n",
    "        vector = pixel_list[min(length, len(pixel_list) - 1)] - pixel_list[0]\n",
    "        unit_vector = vector / np.linalg.norm(vector)\n",
    "        vertical_vector = np.array([-1, 0])\n",
    "        dot_product = np.dot(vertical_vector, unit_vector)\n",
    "        if (\n",
    "            vertical_vector[1] * vector[0] - vertical_vector[0] * vector[1] >= 0\n",
    "        ):  # determinant\n",
    "            angle = np.arccos(dot_product) / (2 * np.pi) * 360\n",
    "        else:\n",
    "            angle = -np.arccos(dot_product) / (2 * np.pi) * 360\n",
    "        return angle\n",
    "\n",
    "    def orientation_end(self, t, length=20):\n",
    "        pixel_list = np.array(self.pixel_list(t))\n",
    "        vector = pixel_list[-1] - pixel_list[max(0, len(pixel_list) - 1 - length)]\n",
    "        unit_vector = vector / np.linalg.norm(vector)\n",
    "        vertical_vector = np.array([-1, 0])\n",
    "        dot_product = np.dot(vertical_vector, unit_vector)\n",
    "        if (\n",
    "            vertical_vector[1] * vector[0] - vertical_vector[0] * vector[1] >= 0\n",
    "        ):  # determinant\n",
    "            angle = np.arccos(dot_product) / (2 * np.pi) * 360\n",
    "        else:\n",
    "            angle = -np.arccos(dot_product) / (2 * np.pi) * 360\n",
    "        return angle\n",
    "\n",
    "\n",
    "class Hyphae:\n",
    "    def __init__(self, tip):\n",
    "        self.experiment = tip.experiment\n",
    "        self.ts = tip.ts()\n",
    "        self.end = tip\n",
    "        self.root = None\n",
    "        self.mother = None\n",
    "\n",
    "    def __repr__(self):\n",
    "        return f\"Hyphae({self.end},{self.root})\"\n",
    "\n",
    "    def __str__(self):\n",
    "        return str((self.end, self.root))\n",
    "\n",
    "    def get_edges(self, t, length=20):\n",
    "        first_neighbour = self.end.neighbours(t)[0]\n",
    "        llast_node = self.end\n",
    "        ccurrent_node = first_neighbour\n",
    "\n",
    "        def move_hyphae(last_node, current_node):\n",
    "            current_edge = Edge(last_node, current_node, current_node.experiment)\n",
    "            moving_on_hyphae = True\n",
    "            edges = [current_edge]\n",
    "            nodes = [last_node, current_node]\n",
    "            while moving_on_hyphae:\n",
    "                #                 print ('moving',current_node)\n",
    "                if current_node.degree(t) < 2:\n",
    "                    #                     print(current_node.degree(t),current_node)\n",
    "                    return (edges, nodes, current_node)\n",
    "                else:\n",
    "                    maxi = -np.inf\n",
    "                    orientation = current_edge.orientation_end(t, length)\n",
    "                    for neighbours_t in current_node.neighbours(t):\n",
    "                        #                     print (neighbours_t)\n",
    "                        candidate_edge = Edge(\n",
    "                            current_node, neighbours_t, current_node.experiment\n",
    "                        )\n",
    "                        orientation_candidate = candidate_edge.orientation_begin(\n",
    "                            t, length\n",
    "                        )\n",
    "                        angle = np.cos(\n",
    "                            (orientation - orientation_candidate) / 360 * 2 * np.pi\n",
    "                        )\n",
    "                        if angle > maxi:\n",
    "                            maxi = angle\n",
    "                            next_node_candidate = neighbours_t\n",
    "                    #                     print(maxi,next_node_candidate)\n",
    "                    candidate_edge = Edge(\n",
    "                        current_node, next_node_candidate, current_node.experiment\n",
    "                    )\n",
    "                    orientation_candidate = candidate_edge.orientation_begin(t, length)\n",
    "                    maxi_compet = -np.inf\n",
    "                    #                     print('compet')\n",
    "                    for neighbours_t in current_node.neighbours(t):\n",
    "                        if neighbours_t != last_node:\n",
    "                            competitor_edge = Edge(\n",
    "                                neighbours_t, current_node, current_node.experiment\n",
    "                            )\n",
    "                            orientation_competitor = competitor_edge.orientation_end(\n",
    "                                t, length\n",
    "                            )\n",
    "                            angle = np.cos(\n",
    "                                (orientation_competitor - orientation_candidate)\n",
    "                                / 360\n",
    "                                * 2\n",
    "                                * np.pi\n",
    "                            )\n",
    "                            if angle > maxi_compet:\n",
    "                                maxi_compet = angle\n",
    "                                competitor = neighbours_t\n",
    "                    #                             print(neighbours_t,angle)\n",
    "                    #                     print(maxi_compet,competitor)\n",
    "                    if maxi_compet > maxi:\n",
    "                        moving_on_hyphae = False\n",
    "                    else:\n",
    "                        last_node, current_node = current_node, next_node_candidate\n",
    "                        current_edge = Edge(\n",
    "                            last_node, current_node, current_node.experiment\n",
    "                        )\n",
    "                        edges.append(current_edge)\n",
    "                        nodes.append(current_node)\n",
    "            return (edges, nodes, competitor)\n",
    "\n",
    "        moving = True\n",
    "        edges = []\n",
    "        nodes = []\n",
    "        c = move_hyphae(llast_node, ccurrent_node)\n",
    "        edges += c[0]\n",
    "        nodes += c[1]\n",
    "        competitor = c[2]\n",
    "        #         while moving:\n",
    "        #             c= move_hyphae(llast_node,ccurrent_node)\n",
    "        #             edges += c[0]\n",
    "        #             nodes += c[1]\n",
    "        #             competitor = c[2]\n",
    "        # #             print('moving back', nodes[-1],competitor)\n",
    "        #             move_backward = move_hyphae(nodes[-1],competitor)\n",
    "        #             end_node_move_backward = move_backward[1][-1]\n",
    "        #             if end_node_move_backward in nodes:\n",
    "        # #                 print('restarting',competitor,nodes[-1])\n",
    "        #                 llast_node,ccurrent_node = c[2],nodes[-1]\n",
    "        #             else:\n",
    "        #                 moving=False\n",
    "        root = nodes[-1]\n",
    "        edges = edges\n",
    "        nodes = nodes\n",
    "        return (root, edges, nodes)\n",
    "\n",
    "    def get_nodes_within(self, t):\n",
    "        nodes = nx.shortest_path(\n",
    "            self.experiment.nx_graph[t],\n",
    "            source=self.root.label,\n",
    "            target=self.end.label,\n",
    "            weight=\"weight\",\n",
    "        )\n",
    "        edges = [\n",
    "            Edge(\n",
    "                self.experiment.get_node(nodes[i]),\n",
    "                self.experiment.get_node(nodes[i + 1]),\n",
    "                self.experiment,\n",
    "            )\n",
    "            for i in range(len(nodes) - 1)\n",
    "        ]\n",
    "        return (nodes, edges)\n",
    "\n",
    "    def get_mother(self):\n",
    "        candidate_mother = []\n",
    "        for hyphae in self.experiment.hyphaes:\n",
    "            for t in hyphae.ts:\n",
    "                if self.root in hyphae.get_nodes_within(t):\n",
    "                    candidate_mother.append(hyphae)\n",
    "        self.mother = candidate_mother"
   ]
  },
  {
   "cell_type": "code",
   "execution_count": 4,
   "metadata": {},
   "outputs": [],
   "source": [
    "exp = Experiment(13)\n",
    "exp.load(dates, local=True, raw=False)\n",
    "# exp.pickle_save()"
   ]
  },
  {
   "cell_type": "code",
   "execution_count": 5,
   "metadata": {},
   "outputs": [],
   "source": [
    "def most_frequent(List):\n",
    "    occurence_count = Counter(List)\n",
    "    return occurence_count.most_common(1)[0][0]"
   ]
  },
  {
   "cell_type": "code",
   "execution_count": 234,
   "metadata": {},
   "outputs": [],
   "source": []
  },
  {
   "cell_type": "code",
   "execution_count": 236,
   "metadata": {},
   "outputs": [
    {
     "data": {
      "text/plain": [
       "78"
      ]
     },
     "execution_count": 236,
     "metadata": {},
     "output_type": "execute_result"
    }
   ],
   "source": [
    "len(problems)"
   ]
  },
  {
   "cell_type": "code",
   "execution_count": 237,
   "metadata": {},
   "outputs": [
    {
     "data": {
      "text/plain": [
       "3374"
      ]
     },
     "execution_count": 237,
     "metadata": {},
     "output_type": "execute_result"
    }
   ],
   "source": [
    "len(hyphaes)"
   ]
  },
  {
   "cell_type": "code",
   "execution_count": 156,
   "metadata": {},
   "outputs": [],
   "source": [
    "problem_hyphae = []\n",
    "distances = []\n",
    "for hyphae in hyphaes:\n",
    "    root = hyphae.root\n",
    "    end = hyphae.end\n",
    "    for hyphae2 in hyphaes:\n",
    "        end2 = hyphae2.end\n",
    "        if (\n",
    "            hyphae2.end != hyphae.end\n",
    "            and hyphae2.root == root\n",
    "            and end.ts()[0] != end2.ts()[-1] + 1\n",
    "            and end.ts()[-1] + 1 != end2.ts()[0]\n",
    "            and len(end.ts()) >= 2\n",
    "            and len(end2.ts()) >= 2\n",
    "        ):\n",
    "            distance\n",
    "            distances.append(\n",
    "                np.linalg.norm(\n",
    "                    hyphae.end.pos(hyphae.end.ts()[-1])\n",
    "                    - hyphae2.end.pos(hyphae2.end.ts()[-1])\n",
    "                )\n",
    "            )\n",
    "            problem_hyphae.append((hyphae, hyphae2))"
   ]
  },
  {
   "cell_type": "code",
   "execution_count": 157,
   "metadata": {},
   "outputs": [],
   "source": [
    "problem_roots = {hyphaec[0].root for hyphaec in problem_hyphae}"
   ]
  },
  {
   "cell_type": "code",
   "execution_count": 251,
   "metadata": {},
   "outputs": [],
   "source": [
    "problem = choice(hyphaes)"
   ]
  },
  {
   "cell_type": "code",
   "execution_count": 252,
   "metadata": {},
   "outputs": [
    {
     "data": {
      "text/plain": [
       "[Edge(9789,6906),\n",
       " Edge(6906,7105),\n",
       " Edge(7105,11753),\n",
       " Edge(11753,8671),\n",
       " Edge(8671,9287)]"
      ]
     },
     "execution_count": 252,
     "metadata": {},
     "output_type": "execute_result"
    }
   ],
   "source": [
    "problem.get_nodes_within(problem.end.ts()[4])"
   ]
  },
  {
   "cell_type": "code",
   "execution_count": 201,
   "metadata": {},
   "outputs": [],
   "source": [
    "labels = [problem[0].root.label, problem[0].end.label, problem[1].end.label]"
   ]
  },
  {
   "cell_type": "code",
   "execution_count": 275,
   "metadata": {},
   "outputs": [
    {
     "data": {
      "application/vnd.jupyter.widget-view+json": {
       "model_id": "16c467149033411fbc00feeb477fda99",
       "version_major": 2,
       "version_minor": 0
      },
      "text/plain": [
       "Canvas(toolbar=Toolbar(toolitems=[('Home', 'Reset original view', 'home', 'home'), ('Back', 'Back to previous …"
      ]
     },
     "metadata": {},
     "output_type": "display_data"
    }
   ],
   "source": [
    "exp.plot([problem.end.ts()[4]], [[9789, 6906, 7105, 11753, 8671]])"
   ]
  },
  {
   "cell_type": "code",
   "execution_count": 204,
   "metadata": {},
   "outputs": [],
   "source": [
    "plt.close(\"all\")"
   ]
  },
  {
   "cell_type": "code",
   "execution_count": 128,
   "metadata": {},
   "outputs": [
    {
     "name": "stdout",
     "output_type": "stream",
     "text": [
      "3\n"
     ]
    }
   ],
   "source": [
    "node = choice(to_look)\n",
    "print(exp.get_node(node).degree(tis[node][0]))\n",
    "plt.close(\"all\")"
   ]
  },
  {
   "cell_type": "code",
   "execution_count": 114,
   "metadata": {},
   "outputs": [],
   "source": [
    "to_look_degree1 = [\n",
    "    node for node in to_look if exp.get_node(node).degree(tis[node][0]) == 1\n",
    "]\n",
    "node = choice(to_look_degree1)\n",
    "plt.close(\"all\")"
   ]
  },
  {
   "cell_type": "code",
   "execution_count": 129,
   "metadata": {},
   "outputs": [
    {
     "data": {
      "application/vnd.jupyter.widget-view+json": {
       "model_id": "480ab09106724f4ea5d3452c290cde6c",
       "version_major": 2,
       "version_minor": 0
      },
      "text/plain": [
       "Canvas(toolbar=Toolbar(toolitems=[('Home', 'Reset original view', 'home', 'home'), ('Back', 'Back to previous …"
      ]
     },
     "metadata": {},
     "output_type": "display_data"
    }
   ],
   "source": [
    "exp.plot([tis[node][0], tis[node][0] + 1], node_lists=[[node]], compress=5)"
   ]
  },
  {
   "cell_type": "code",
   "execution_count": 130,
   "metadata": {},
   "outputs": [
    {
     "data": {
      "application/vnd.jupyter.widget-view+json": {
       "model_id": "a5dfd985f89f495580e63ec0015e9a31",
       "version_major": 2,
       "version_minor": 0
      },
      "text/plain": [
       "Canvas(toolbar=Toolbar(toolitems=[('Home', 'Reset original view', 'home', 'home'), ('Back', 'Back to previous …"
      ]
     },
     "metadata": {},
     "output_type": "display_data"
    }
   ],
   "source": [
    "exp_clean.plot([tis[node][0], tis[node][0] + 1], node_lists=[[node]], compress=5)"
   ]
  },
  {
   "cell_type": "code",
   "execution_count": 144,
   "metadata": {},
   "outputs": [
    {
     "data": {
      "application/vnd.jupyter.widget-view+json": {
       "model_id": "20c2343f277c4fedb518ba7474b50fa3",
       "version_major": 2,
       "version_minor": 0
      },
      "text/plain": [
       "Canvas(toolbar=Toolbar(toolitems=[('Home', 'Reset original view', 'home', 'home'), ('Back', 'Back to previous …"
      ]
     },
     "metadata": {},
     "output_type": "display_data"
    }
   ],
   "source": [
    "exp.plot([9, 10], [[6924, 6922, 2758]] * 2)"
   ]
  },
  {
   "cell_type": "code",
   "execution_count": 40,
   "metadata": {},
   "outputs": [
    {
     "data": {
      "application/vnd.jupyter.widget-view+json": {
       "model_id": "40da5d4004894af288a2599d1bf3c485",
       "version_major": 2,
       "version_minor": 0
      },
      "text/plain": [
       "Canvas(toolbar=Toolbar(toolitems=[('Home', 'Reset original view', 'home', 'home'), ('Back', 'Back to previous …"
      ]
     },
     "metadata": {},
     "output_type": "display_data"
    }
   ],
   "source": [
    "exp_clean.plot([11], [[7482, 7639, 7146, 6924]])"
   ]
  },
  {
   "cell_type": "code",
   "execution_count": 143,
   "metadata": {},
   "outputs": [],
   "source": [
    "plt.close(\"all\")"
   ]
  },
  {
   "cell_type": "code",
   "execution_count": 48,
   "metadata": {},
   "outputs": [
    {
     "data": {
      "application/vnd.jupyter.widget-view+json": {
       "model_id": "98ca0d29111c4da7a4eee78c58bff718",
       "version_major": 2,
       "version_minor": 0
      },
      "text/plain": [
       "Canvas(toolbar=Toolbar(toolitems=[('Home', 'Reset original view', 'home', 'home'), ('Back', 'Back to previous …"
      ]
     },
     "metadata": {},
     "output_type": "display_data"
    }
   ],
   "source": [
    "exp.plot([0], [[859]])"
   ]
  },
  {
   "cell_type": "code",
   "execution_count": 47,
   "metadata": {},
   "outputs": [],
   "source": [
    "to_look, tis = clean_exp(exp)"
   ]
  },
  {
   "cell_type": "code",
   "execution_count": 48,
   "metadata": {},
   "outputs": [
    {
     "data": {
      "text/plain": [
       "False"
      ]
     },
     "execution_count": 48,
     "metadata": {},
     "output_type": "execute_result"
    }
   ],
   "source": [
    "9726 in to_look"
   ]
  },
  {
   "cell_type": "code",
   "execution_count": 51,
   "metadata": {},
   "outputs": [
    {
     "data": {
      "text/plain": [
       "array([15239, 34643])"
      ]
     },
     "execution_count": 51,
     "metadata": {},
     "output_type": "execute_result"
    }
   ],
   "source": [
    "exp.get_node(9726).pos(15)"
   ]
  },
  {
   "cell_type": "code",
   "execution_count": 56,
   "metadata": {},
   "outputs": [
    {
     "data": {
      "application/vnd.jupyter.widget-view+json": {
       "model_id": "7371c02e497b4032b1019fc5fd5304a8",
       "version_major": 2,
       "version_minor": 0
      },
      "text/plain": [
       "Canvas(toolbar=Toolbar(toolitems=[('Home', 'Reset original view', 'home', 'home'), ('Back', 'Back to previous …"
      ]
     },
     "metadata": {},
     "output_type": "display_data"
    }
   ],
   "source": [
    "ims, poss = exp.find_image_pos(15239, 34643, 15, local=False)\n",
    "i = 1\n",
    "plot_t_tp1([0], [], {0: (poss[1][i], poss[0][i])}, None, ims[i], ims[i])"
   ]
  },
  {
   "cell_type": "code",
   "execution_count": 21,
   "metadata": {},
   "outputs": [
    {
     "data": {
      "text/plain": [
       "[Edge(7482,8876),\n",
       " Edge(8876,6882),\n",
       " Edge(6882,10102),\n",
       " Edge(10102,9726),\n",
       " Edge(9726,9879),\n",
       " Edge(9879,7543),\n",
       " Edge(7543,9937),\n",
       " Edge(9937,9937)]"
      ]
     },
     "execution_count": 21,
     "metadata": {},
     "output_type": "execute_result"
    }
   ],
   "source": [
    "hyphae.edges"
   ]
  },
  {
   "cell_type": "code",
   "execution_count": 43,
   "metadata": {},
   "outputs": [
    {
     "data": {
      "text/plain": [
       "[Node(3225), Node(6935), Node(1042)]"
      ]
     },
     "execution_count": 43,
     "metadata": {},
     "output_type": "execute_result"
    }
   ],
   "source": [
    "exp.get_node(2758).neighbours(15)"
   ]
  },
  {
   "cell_type": "code",
   "execution_count": 59,
   "metadata": {},
   "outputs": [
    {
     "data": {
      "text/plain": [
       "168.69006752597983"
      ]
     },
     "execution_count": 59,
     "metadata": {},
     "output_type": "execute_result"
    }
   ],
   "source": [
    "Edge(exp.get_node(8876), exp.get_node(6882), exp).orientation_begin(15)"
   ]
  },
  {
   "cell_type": "code",
   "execution_count": 63,
   "metadata": {},
   "outputs": [
    {
     "data": {
      "text/plain": [
       "-145.00797980144137"
      ]
     },
     "execution_count": 63,
     "metadata": {},
     "output_type": "execute_result"
    }
   ],
   "source": [
    "Edge(exp.get_node(8853), exp.get_node(8876), exp).orientation_begin(15)"
   ]
  },
  {
   "cell_type": "code",
   "execution_count": 11,
   "metadata": {},
   "outputs": [],
   "source": [
    "from collections import Counter\n",
    "\n",
    "\n",
    "def get_hyphae(experiment):\n",
    "    tips = [node for node in experiment.nodes if node.degree(node.ts()[0]) == 1]\n",
    "    problems = []\n",
    "    hyphaes = []\n",
    "    #     for i in range(20):\n",
    "    for i, tip in enumerate(tips):\n",
    "        if i % 200 == 0:\n",
    "            print(i / len(tips))\n",
    "        #         tip = choice(tips)\n",
    "        hyphae = Hyphae(tip)\n",
    "        roots = []\n",
    "        for t in tip.ts():\n",
    "            #             print(t,tip)\n",
    "            if tip.degree(t) == 1:\n",
    "                root, edges, nodes = hyphae.get_edges(t, 50)\n",
    "                roots.append(root)\n",
    "        occurence_count = Counter(roots)\n",
    "        if (\n",
    "            len(occurence_count.values()) >= 2\n",
    "            and occurence_count.most_common(2)[0][0] != roots[0]\n",
    "            and occurence_count.most_common(2)[1][1]\n",
    "            / occurence_count.most_common(2)[0][1]\n",
    "            >= 0.75\n",
    "        ):\n",
    "            #             print(roots[0])\n",
    "            #             print(tip,occurence_count)\n",
    "            problems.append(tip)\n",
    "        else:\n",
    "            hyphae.root = occurence_count.most_common(2)[0][0]\n",
    "            hyphaes.append(hyphae)\n",
    "    return (hyphaes, problems)\n",
    "\n",
    "\n",
    "def reconnect_degree_2(nx_graph, pos):\n",
    "    degree_2_nodes = [node for node in nx_graph.nodes if nx_graph.degree(node) == 2]\n",
    "    while len(degree_2_nodes) > 0:\n",
    "        node = degree_2_nodes.pop()\n",
    "        neighbours = list(nx_graph.neighbors(node))\n",
    "        right_n = neighbours[0]\n",
    "        left_n = neighbours[1]\n",
    "        right_edge = nx_graph.get_edge_data(node, right_n)[\"pixel_list\"]\n",
    "        left_edge = nx_graph.get_edge_data(node, left_n)[\"pixel_list\"]\n",
    "        if np.any(right_edge[0] != pos[node]):\n",
    "            right_edge = list(reversed(right_edge))\n",
    "        if np.any(left_edge[-1] != pos[node]):\n",
    "            left_edge = list(reversed(left_edge))\n",
    "        pixel_list = left_edge + right_edge[1:]\n",
    "        info = {\"weight\": len(pixel_list), \"pixel_list\": pixel_list}\n",
    "        if right_n != left_n:\n",
    "            connection_data = nx_graph.get_edge_data(right_n, left_n)\n",
    "            if connection_data is None or connection_data[\"weight\"] >= info[\"weight\"]:\n",
    "                if not connection_data is None:\n",
    "                    nx_graph.remove_edge(right_n, left_n)\n",
    "                nx_graph.add_edges_from([(right_n, left_n, info)])\n",
    "        nx_graph.remove_node(node)\n",
    "        degree_2_nodes = [node for node in nx_graph.nodes if nx_graph.degree(node) == 2]\n",
    "\n",
    "\n",
    "def clean_exp(experiment):\n",
    "    ts = {}\n",
    "    nx_graph_cleans = [nx.Graph.copy(nx_g) for nx_g in experiment.nx_graph]\n",
    "    exp_clean = Experiment(experiment.plate)\n",
    "    exp_clean.copy(experiment)\n",
    "    labels = {node for g in exp_clean.nx_graph for node in g}\n",
    "    exp_clean.nodes = []\n",
    "    for label in labels:\n",
    "        exp_clean.nodes.append(Node(label, exp_clean))\n",
    "    for node in experiment.nodes:\n",
    "        ts[node.label] = []\n",
    "        for t in range(len(nx_graph_cleans)):\n",
    "            if node.is_in(t):\n",
    "                ts[node.label].append(t)\n",
    "    hyphaes, problems = get_hyphae(exp_clean)\n",
    "    to_remove = []\n",
    "    safe_nodes = set()\n",
    "    for hyphae in hyphaes:\n",
    "        for t in hyphae.end.ts():\n",
    "            if t in hyphae.root.ts():\n",
    "                for node in hyphae.get_nodes_within(t)[0]:\n",
    "                    safe_nodes.add(node)\n",
    "    for node in experiment.nodes:\n",
    "        posit = node.pos(ts[node.label][0])\n",
    "        if (\n",
    "            len(ts[node.label]) == 1\n",
    "            and ts[node.label][0] != len(experiment.nx_graph) - 1\n",
    "            and node.label not in safe_nodes\n",
    "        ):\n",
    "            to_remove.append(node.label)\n",
    "    #     return(to_remove)\n",
    "    print(\"removing \", len(to_remove), \" nodes\")\n",
    "    for node in to_remove:\n",
    "        t = ts[node][0]\n",
    "        pos = experiment.positions[t]\n",
    "        nx_graph_clean = nx_graph_cleans[t]\n",
    "        if nx_graph_clean.degree(node) <= 2:\n",
    "            continue\n",
    "        #         print('cleaning',node)\n",
    "        neighbours = list(nx_graph_clean.neighbors(node))\n",
    "        candidate_to_fuse = []\n",
    "        weight_candidate = []\n",
    "        for neighbour in neighbours:\n",
    "            if nx_graph_clean.degree(neighbour) >= 3:\n",
    "                candidate_to_fuse.append(neighbour)\n",
    "                weight_candidate.append(\n",
    "                    len(nx_graph_clean.get_edge_data(node, neighbour)[\"pixel_list\"])\n",
    "                )\n",
    "        if len(weight_candidate) == 0:\n",
    "            continue\n",
    "        node_to_fuse = candidate_to_fuse[np.argmin(weight_candidate)]\n",
    "        if nx_graph_clean.degree(node) == 1 and node_to_fuse not in to_remove:\n",
    "            print(pos[node])\n",
    "            continue\n",
    "        for neighbour in neighbours:\n",
    "            right_n = node_to_fuse\n",
    "            left_n = neighbour\n",
    "            right_edge = nx_graph_clean.get_edge_data(node, right_n)[\"pixel_list\"]\n",
    "            left_edge = nx_graph_clean.get_edge_data(node, left_n)[\"pixel_list\"]\n",
    "            if np.any(right_edge[0] != pos[node]):\n",
    "                right_edge = list(reversed(right_edge))\n",
    "            if np.any(left_edge[-1] != pos[node]):\n",
    "                left_edge = list(reversed(left_edge))\n",
    "            pixel_list = left_edge + right_edge[1:]\n",
    "            info = {\"weight\": len(pixel_list), \"pixel_list\": pixel_list}\n",
    "            if right_n != left_n:\n",
    "                connection_data = nx_graph_clean.get_edge_data(right_n, left_n)\n",
    "                if (\n",
    "                    connection_data is None\n",
    "                    or connection_data[\"weight\"] >= info[\"weight\"]\n",
    "                ):\n",
    "                    if not connection_data is None:\n",
    "                        nx_graph_clean.remove_edge(right_n, left_n)\n",
    "                    nx_graph_clean.add_edges_from([(right_n, left_n, info)])\n",
    "        nx_graph_clean.remove_node(node)\n",
    "        nx_graph_cleans[t] = nx_graph_clean\n",
    "    for t, nx_graph in enumerate(nx_graph_cleans):\n",
    "        pos = experiment.positions[t]\n",
    "        reconnect_degree_2(nx_graph, pos)\n",
    "    nx_graph_clean = []\n",
    "    for graph in nx_graph_cleans:\n",
    "        S = [graph.subgraph(c).copy() for c in nx.connected_components(graph)]\n",
    "        len_connected = [len(nx_graph.nodes) for nx_graph in S]\n",
    "        nx_graph_clean.append(S[np.argmax(len_connected)])\n",
    "    skeletons = []\n",
    "    for nx_graph in nx_graph_clean:\n",
    "        skeletons.append(generate_skeleton(nx_graph, dim=(20800, 46000)))\n",
    "    exp_clean.nx_graph = nx_graph_clean\n",
    "    exp_clean.skeletons = skeletons\n",
    "    labels = {node for g in exp_clean.nx_graph for node in g}\n",
    "    exp_clean.nodes = []\n",
    "    exp_clean.hyphaes = hyphaes\n",
    "    for label in labels:\n",
    "        exp_clean.nodes.append(Node(label, exp_clean))\n",
    "    return exp_clean"
   ]
  },
  {
   "cell_type": "code",
   "execution_count": 12,
   "metadata": {},
   "outputs": [
    {
     "name": "stdout",
     "output_type": "stream",
     "text": [
      "0.0\n",
      "0.05793742757821553\n",
      "0.11587485515643106\n",
      "0.17381228273464658\n",
      "0.23174971031286212\n",
      "0.28968713789107764\n",
      "0.34762456546929316\n",
      "0.4055619930475087\n",
      "0.46349942062572425\n",
      "0.5214368482039398\n",
      "0.5793742757821553\n",
      "0.6373117033603708\n",
      "0.6952491309385863\n",
      "0.7531865585168018\n",
      "0.8111239860950173\n",
      "0.8690614136732329\n",
      "0.9269988412514485\n",
      "0.984936268829664\n",
      "removing  2863  nodes\n"
     ]
    }
   ],
   "source": [
    "exp_clean = clean_exp(exp)"
   ]
  },
  {
   "cell_type": "code",
   "execution_count": 414,
   "metadata": {},
   "outputs": [],
   "source": [
    "hyphae = choice(exp_clean.hyphaes)\n",
    "candidate, problems = get_mother(hyphae)"
   ]
  },
  {
   "cell_type": "code",
   "execution_count": 460,
   "metadata": {},
   "outputs": [
    {
     "name": "stdout",
     "output_type": "stream",
     "text": [
      "[]\n",
      "[Hyphae(1874,3529)]\n",
      "[Hyphae(7448,7464)]\n",
      "[Hyphae(79,827), Hyphae(12478,827)]\n"
     ]
    }
   ],
   "source": [
    "for i in range(10):\n",
    "    hyphae = choice(exp_clean.hyphaes)\n",
    "    candidate, problems = get_mother(hyphae)\n",
    "    print(candidate)\n",
    "    if len(candidate) >= 2:\n",
    "        break"
   ]
  },
  {
   "cell_type": "code",
   "execution_count": 451,
   "metadata": {},
   "outputs": [],
   "source": [
    "def get_mother(hyph):\n",
    "    candidate_mother = []\n",
    "    problem = []\n",
    "    for hyphae in hyph.experiment.hyphaes:\n",
    "        if hyphae.end != hyph.end:\n",
    "            found = False\n",
    "            for t in hyphae.ts():\n",
    "                if hyphae.root.is_in(t):\n",
    "                    if (\n",
    "                        hyph.root.label in hyphae.get_nodes_within(t)[0]\n",
    "                        and hyph.root.label != hyphae.root.label\n",
    "                        and found == False\n",
    "                        and hyphae.end.pos(t)[0] < 19500\n",
    "                    ):\n",
    "                        candidate_mother.append(hyphae)\n",
    "                        found = True\n",
    "                else:\n",
    "                    problem.append((hyphae, t))\n",
    "    return (candidate_mother, problem)"
   ]
  },
  {
   "cell_type": "code",
   "execution_count": 485,
   "metadata": {},
   "outputs": [],
   "source": [
    "def get_disapearing_roots(hyphaes):\n",
    "    problems = []\n",
    "    for hyph in hyphaes:\n",
    "        if len(hyph.root.ts()) < len(hyph.ts()):\n",
    "            problems.append(hyph)\n",
    "    return problems"
   ]
  },
  {
   "cell_type": "code",
   "execution_count": 486,
   "metadata": {},
   "outputs": [],
   "source": [
    "prob = get_disapearing_roots(exp_clean.hyphaes)"
   ]
  },
  {
   "cell_type": "code",
   "execution_count": 487,
   "metadata": {},
   "outputs": [
    {
     "data": {
      "text/plain": [
       "378"
      ]
     },
     "execution_count": 487,
     "metadata": {},
     "output_type": "execute_result"
    }
   ],
   "source": [
    "len(prob)"
   ]
  },
  {
   "cell_type": "code",
   "execution_count": 505,
   "metadata": {},
   "outputs": [],
   "source": [
    "hyphae = choice(prob)"
   ]
  },
  {
   "cell_type": "code",
   "execution_count": null,
   "metadata": {},
   "outputs": [],
   "source": [
    "hyphae.root.ts(), hyphae.ts()"
   ]
  },
  {
   "cell_type": "code",
   "execution_count": 470,
   "metadata": {},
   "outputs": [],
   "source": [
    "def resolve_ambiguity(hyphaes):\n",
    "    ambiguities=[]\n",
    "    for hyph in hyphaes:\n",
    "        t0=hyph.ts()[0]\n",
    "        nodes = hyph.get_nodes_within(t0)\n",
    "        root,first = nodes[0],nodes[1]\n",
    "        for hyph2 in hyphaes:\n",
    "            if hyph2.end != hyph.end:\n",
    "                t1=hyph2.ts()[0]\n",
    "                if t1\n",
    "                nodes2 = hyph2.get_nodes_within(t0)\n",
    "                if root in nodes2 and first in nodes2:\n",
    "                    ambiguities.append(hyph,hyph2)\n",
    "    return(ambiguities)"
   ]
  },
  {
   "cell_type": "code",
   "execution_count": null,
   "metadata": {},
   "outputs": [],
   "source": [
    "resolve_ambiguity(exp_clean.hyphaes)"
   ]
  },
  {
   "cell_type": "code",
   "execution_count": null,
   "metadata": {},
   "outputs": [],
   "source": [
    "candidate[1].ts(), candidate[0].ts()"
   ]
  },
  {
   "cell_type": "code",
   "execution_count": 462,
   "metadata": {},
   "outputs": [],
   "source": [
    "tis = [20, 21]"
   ]
  },
  {
   "cell_type": "code",
   "execution_count": 447,
   "metadata": {},
   "outputs": [
    {
     "data": {
      "text/plain": [
       "array([19648, 10906])"
      ]
     },
     "execution_count": 447,
     "metadata": {},
     "output_type": "execute_result"
    }
   ],
   "source": [
    "candidate[0].end.pos(2)"
   ]
  },
  {
   "cell_type": "code",
   "execution_count": 499,
   "metadata": {},
   "outputs": [
    {
     "data": {
      "text/plain": [
       "Node(3228)"
      ]
     },
     "execution_count": 499,
     "metadata": {},
     "output_type": "execute_result"
    }
   ],
   "source": [
    "hyphae.root"
   ]
  },
  {
   "cell_type": "code",
   "execution_count": 506,
   "metadata": {},
   "outputs": [
    {
     "data": {
      "text/plain": [
       "([22, 23], [21, 22, 23])"
      ]
     },
     "execution_count": 506,
     "metadata": {},
     "output_type": "execute_result"
    }
   ],
   "source": [
    "hyphae.root.ts(), hyphae.ts()"
   ]
  },
  {
   "cell_type": "code",
   "execution_count": 507,
   "metadata": {},
   "outputs": [
    {
     "data": {
      "application/vnd.jupyter.widget-view+json": {
       "model_id": "f8f74fa729b5444c8dc0fbc67fbc1bb8",
       "version_major": 2,
       "version_minor": 0
      },
      "text/plain": [
       "Canvas(toolbar=Toolbar(toolitems=[('Home', 'Reset original view', 'home', 'home'), ('Back', 'Back to previous …"
      ]
     },
     "metadata": {},
     "output_type": "display_data"
    }
   ],
   "source": [
    "exp_clean.plot([21, 22], [[hyphae.root.label, hyphae.end.label] * 2])"
   ]
  },
  {
   "cell_type": "code",
   "execution_count": 465,
   "metadata": {},
   "outputs": [
    {
     "data": {
      "application/vnd.jupyter.widget-view+json": {
       "model_id": "9ceb155ca3ca4c09bb986ebf465cfc10",
       "version_major": 2,
       "version_minor": 0
      },
      "text/plain": [
       "Canvas(toolbar=Toolbar(toolitems=[('Home', 'Reset original view', 'home', 'home'), ('Back', 'Back to previous …"
      ]
     },
     "metadata": {},
     "output_type": "display_data"
    }
   ],
   "source": [
    "exp_clean.plot(\n",
    "    [tis],\n",
    "    [\n",
    "        candidate[0].get_nodes_within(tis[0])[0]\n",
    "        + candidate[1].get_nodes_within(tis[0])[0]\n",
    "        + [hyphae.end.label, hyphae.root.label]\n",
    "    ],\n",
    ")"
   ]
  },
  {
   "cell_type": "code",
   "execution_count": 494,
   "metadata": {},
   "outputs": [],
   "source": [
    "plt.close(\"all\")"
   ]
  },
  {
   "cell_type": "code",
   "execution_count": null,
   "metadata": {},
   "outputs": [],
   "source": [
    "exp_clean.hyphaes[0].experiment.hyphaes"
   ]
  },
  {
   "cell_type": "code",
   "execution_count": 274,
   "metadata": {},
   "outputs": [
    {
     "name": "stdout",
     "output_type": "stream",
     "text": [
      "0.0\n",
      "0.05793742757821553\n",
      "0.11587485515643106\n",
      "0.17381228273464658\n",
      "0.23174971031286212\n",
      "0.28968713789107764\n",
      "0.34762456546929316\n",
      "0.4055619930475087\n",
      "0.46349942062572425\n",
      "0.5214368482039398\n",
      "0.5793742757821553\n",
      "0.6373117033603708\n",
      "0.6952491309385863\n",
      "0.7531865585168018\n",
      "0.8111239860950173\n",
      "0.8690614136732329\n",
      "0.9269988412514485\n",
      "0.984936268829664\n"
     ]
    }
   ],
   "source": [
    "problems = clean_exp2(exp)[0]"
   ]
  },
  {
   "cell_type": "code",
   "execution_count": 273,
   "metadata": {},
   "outputs": [],
   "source": [
    "def clean_exp2(experiment):\n",
    "    ts = {}\n",
    "    nx_graph_cleans = [nx.Graph.copy(nx_g) for nx_g in experiment.nx_graph]\n",
    "    for node in experiment.nodes:\n",
    "        ts[node.label] = []\n",
    "        for t in range(len(nx_graph_cleans)):\n",
    "            if node.is_in(t):\n",
    "                ts[node.label].append(t)\n",
    "    hyphaes, problems = get_hyphae(experiment)\n",
    "    to_remove = []\n",
    "    safe_nodes = set()\n",
    "    for hyphae in hyphaes:\n",
    "        for t in hyphae.end.ts():\n",
    "            if t in hyphae.root.ts():\n",
    "                for node in hyphae.get_nodes_within(t)[0]:\n",
    "                    safe_nodes.add(node)\n",
    "    for node in experiment.nodes:\n",
    "        posit = node.pos(ts[node.label][0])\n",
    "        if (\n",
    "            len(ts[node.label]) == 1\n",
    "            and ts[node.label][0] != len(experiment.nx_graph) - 1\n",
    "            and node.label not in safe_nodes\n",
    "        ):\n",
    "            to_remove.append(node.label)\n",
    "    return (to_remove, ts)"
   ]
  },
  {
   "cell_type": "code",
   "execution_count": 321,
   "metadata": {},
   "outputs": [],
   "source": [
    "node = choice(problems)\n",
    "plt.close(\"all\")"
   ]
  },
  {
   "cell_type": "code",
   "execution_count": 322,
   "metadata": {},
   "outputs": [
    {
     "data": {
      "application/vnd.jupyter.widget-view+json": {
       "model_id": "c2dc197fa12c4364a16e105abb9f66f3",
       "version_major": 2,
       "version_minor": 0
      },
      "text/plain": [
       "Canvas(toolbar=Toolbar(toolitems=[('Home', 'Reset original view', 'home', 'home'), ('Back', 'Back to previous …"
      ]
     },
     "metadata": {},
     "output_type": "display_data"
    }
   ],
   "source": [
    "exp.plot([exp.get_node(node).ts()[0], exp.get_node(node).ts()[0] + 1], [[node]])"
   ]
  },
  {
   "cell_type": "code",
   "execution_count": 323,
   "metadata": {},
   "outputs": [
    {
     "data": {
      "application/vnd.jupyter.widget-view+json": {
       "model_id": "ff7f644fbc6246949fbbdd0c785f2764",
       "version_major": 2,
       "version_minor": 0
      },
      "text/plain": [
       "Canvas(toolbar=Toolbar(toolitems=[('Home', 'Reset original view', 'home', 'home'), ('Back', 'Back to previous …"
      ]
     },
     "metadata": {},
     "output_type": "display_data"
    }
   ],
   "source": [
    "exp_clean.plot([exp.get_node(node).ts()[0], exp.get_node(node).ts()[0] + 1], [[node]])"
   ]
  },
  {
   "cell_type": "code",
   "execution_count": 79,
   "metadata": {},
   "outputs": [],
   "source": [
    "occurence_count = Counter([1, 1, 1, 1, 2, 2, 2, 3, 3, 3])"
   ]
  },
  {
   "cell_type": "code",
   "execution_count": 81,
   "metadata": {},
   "outputs": [
    {
     "data": {
      "text/plain": [
       "4"
      ]
     },
     "execution_count": 81,
     "metadata": {},
     "output_type": "execute_result"
    }
   ],
   "source": [
    "occurence_count[1]"
   ]
  },
  {
   "cell_type": "code",
   "execution_count": 204,
   "metadata": {},
   "outputs": [],
   "source": [
    "def clean_degree_4(nx_graph, pos, thresh=20):\n",
    "    nx_graph_clean = nx.Graph.copy(nx_graph)\n",
    "    remaining_to_fuse = True\n",
    "    print(len(nx_graph_clean.nodes))\n",
    "    while remaining_to_fuse:\n",
    "        remaining_to_fuse = False\n",
    "        to_fuse = []\n",
    "        for edge in nx_graph_clean.edges:\n",
    "            if (\n",
    "                nx_graph_clean.get_edge_data(*edge)[\"weight\"] <= thresh\n",
    "                and nx_graph_clean.degree(edge[0]) == 3\n",
    "                and nx_graph_clean.degree(edge[1]) == 3\n",
    "            ):\n",
    "                to_fuse.append(edge)\n",
    "        nodes_to_fuse = [edge[0] for edge in to_fuse] + [edge[1] for edge in to_fuse]\n",
    "        occurence_count = Counter(nodes_to_fuse)\n",
    "        difficult_cases = []\n",
    "        for edge in to_fuse:\n",
    "            node1 = edge[0]\n",
    "            node2 = edge[1]\n",
    "            if occurence_count[node1] != 1 and occurence_count[node2] != 1:\n",
    "                difficult_cases.append(edge)\n",
    "            else:\n",
    "                remaining_to_fuse = True\n",
    "                if occurence_count[node1] == 1:\n",
    "                    pivot = node2\n",
    "                    fuser = node1\n",
    "                else:\n",
    "                    pivot = node1\n",
    "                    fuser = node2\n",
    "                neighbours = list(nx_graph_clean.neighbors(fuser))\n",
    "                for neighbour in neighbours:\n",
    "                    right_n = pivot\n",
    "                    left_n = neighbour\n",
    "                    right_edge = nx_graph_clean.get_edge_data(fuser, right_n)[\n",
    "                        \"pixel_list\"\n",
    "                    ]\n",
    "                    left_edge = nx_graph_clean.get_edge_data(fuser, left_n)[\n",
    "                        \"pixel_list\"\n",
    "                    ]\n",
    "                    if np.any(right_edge[0] != pos[fuser]):\n",
    "                        right_edge = list(reversed(right_edge))\n",
    "                    if np.any(left_edge[-1] != pos[fuser]):\n",
    "                        left_edge = list(reversed(left_edge))\n",
    "                    pixel_list = left_edge + right_edge[1:]\n",
    "                    info = {\"weight\": len(pixel_list), \"pixel_list\": pixel_list}\n",
    "                    if right_n != left_n:\n",
    "                        connection_data = nx_graph_clean.get_edge_data(right_n, left_n)\n",
    "                        if (\n",
    "                            connection_data is None\n",
    "                            or connection_data[\"weight\"] >= info[\"weight\"]\n",
    "                        ):\n",
    "                            if not connection_data is None:\n",
    "                                nx_graph_clean.remove_edge(right_n, left_n)\n",
    "                            nx_graph_clean.add_edges_from([(right_n, left_n, info)])\n",
    "                nx_graph_clean.remove_node(fuser)\n",
    "        print(len(difficult_cases))\n",
    "    print(len(nx_graph_clean.nodes))\n",
    "    return (nx_graph_clean, difficult_cases)"
   ]
  },
  {
   "cell_type": "code",
   "execution_count": 205,
   "metadata": {},
   "outputs": [
    {
     "name": "stdout",
     "output_type": "stream",
     "text": [
      "4153\n",
      "37\n",
      "15\n",
      "5\n",
      "0\n",
      "0\n",
      "0\n",
      "0\n",
      "3814\n"
     ]
    }
   ],
   "source": [
    "nx_graph_clean, difficult = clean_degree_4(\n",
    "    exp_clean.nx_graph[12], exp_clean.positions[12]\n",
    ")"
   ]
  },
  {
   "cell_type": "code",
   "execution_count": 15,
   "metadata": {},
   "outputs": [],
   "source": [
    "nodes_to_fuse = [edge[0] for edge in to_fuse] + [edge[1] for edge in to_fuse]\n",
    "occurence_count = Counter(nodes_to_fuse)"
   ]
  },
  {
   "cell_type": "code",
   "execution_count": 181,
   "metadata": {},
   "outputs": [
    {
     "data": {
      "text/plain": [
       "5165"
      ]
     },
     "execution_count": 181,
     "metadata": {},
     "output_type": "execute_result"
    }
   ],
   "source": [
    "len(exp.nx_graph[12].edges)"
   ]
  },
  {
   "cell_type": "code",
   "execution_count": 185,
   "metadata": {},
   "outputs": [],
   "source": [
    "for edge in exp_clean.nx_graph[12].edges:\n",
    "    if (\n",
    "        edge[0] not in exp_clean.nx_graph[12].nodes\n",
    "        or edge[1] not in exp_clean.nx_graph[12].nodes\n",
    "    ):\n",
    "        print(edge)"
   ]
  },
  {
   "cell_type": "code",
   "execution_count": 186,
   "metadata": {},
   "outputs": [],
   "source": [
    "for edge in nx_graph_clean.edges:\n",
    "    if edge[0] not in nx_graph_clean.nodes or edge[1] not in nx_graph_clean.nodes:\n",
    "        print(edge)"
   ]
  },
  {
   "cell_type": "code",
   "execution_count": 207,
   "metadata": {},
   "outputs": [],
   "source": [
    "save_nx = exp_clean.nx_graph[12]\n",
    "save_skel = exp_clean.skeletons[12]"
   ]
  },
  {
   "cell_type": "code",
   "execution_count": 209,
   "metadata": {},
   "outputs": [],
   "source": [
    "exp_clean.nx_graph[12] = nx_graph_clean\n",
    "exp_clean.skeletons[12] = generate_skeleton(nx_graph_clean, dim=(20800, 46000))"
   ]
  },
  {
   "cell_type": "code",
   "execution_count": 130,
   "metadata": {},
   "outputs": [
    {
     "data": {
      "text/plain": [
       "4293"
      ]
     },
     "execution_count": 130,
     "metadata": {},
     "output_type": "execute_result"
    }
   ],
   "source": [
    "len(nx_graph_clean.nodes)"
   ]
  },
  {
   "cell_type": "code",
   "execution_count": 92,
   "metadata": {},
   "outputs": [
    {
     "data": {
      "text/plain": [
       "48"
      ]
     },
     "execution_count": 92,
     "metadata": {},
     "output_type": "execute_result"
    }
   ],
   "source": [
    "len(difficult)"
   ]
  },
  {
   "cell_type": "code",
   "execution_count": 64,
   "metadata": {},
   "outputs": [
    {
     "data": {
      "text/plain": [
       "4613"
      ]
     },
     "execution_count": 64,
     "metadata": {},
     "output_type": "execute_result"
    }
   ],
   "source": [
    "len(exp_clean.nx_graph[15].nodes)"
   ]
  },
  {
   "cell_type": "code",
   "execution_count": 65,
   "metadata": {},
   "outputs": [
    {
     "data": {
      "text/plain": [
       "4784"
      ]
     },
     "execution_count": 65,
     "metadata": {},
     "output_type": "execute_result"
    }
   ],
   "source": [
    "len(exp.nx_graph[15].nodes)"
   ]
  },
  {
   "cell_type": "code",
   "execution_count": 46,
   "metadata": {},
   "outputs": [],
   "source": [
    "node = choice(occurence_count.most_common(75))[0]\n",
    "plt.close(\"all\")"
   ]
  },
  {
   "cell_type": "code",
   "execution_count": 199,
   "metadata": {},
   "outputs": [],
   "source": [
    "edge = choice(difficult)\n",
    "plt.close(\"all\")"
   ]
  },
  {
   "cell_type": "code",
   "execution_count": 200,
   "metadata": {},
   "outputs": [
    {
     "data": {
      "text/plain": [
       "(True, False)"
      ]
     },
     "execution_count": 200,
     "metadata": {},
     "output_type": "execute_result"
    }
   ],
   "source": [
    "edge[0] in exp_clean.nx_graph[12].nodes, edge[1] in exp_clean.nx_graph[12].nodes"
   ]
  },
  {
   "cell_type": "code",
   "execution_count": 201,
   "metadata": {},
   "outputs": [
    {
     "data": {
      "text/plain": [
       "(True, True)"
      ]
     },
     "execution_count": 201,
     "metadata": {},
     "output_type": "execute_result"
    }
   ],
   "source": [
    "edge[0] in nx_graph_clean.nodes, edge[1] in nx_graph_clean.nodes"
   ]
  },
  {
   "cell_type": "code",
   "execution_count": 202,
   "metadata": {},
   "outputs": [
    {
     "data": {
      "text/plain": [
       "([], [10, 11, 12, 13])"
      ]
     },
     "execution_count": 202,
     "metadata": {},
     "output_type": "execute_result"
    }
   ],
   "source": [
    "exp_clean.get_node(edge[1]).ts(), exp_clean.get_node(edge[0]).ts()"
   ]
  },
  {
   "cell_type": "code",
   "execution_count": 210,
   "metadata": {},
   "outputs": [],
   "source": [
    "degree_4_nodes = [\n",
    "    node for node in nx_graph_clean.nodes if nx_graph_clean.degree(node) >= 4\n",
    "]"
   ]
  },
  {
   "cell_type": "code",
   "execution_count": 211,
   "metadata": {},
   "outputs": [
    {
     "data": {
      "text/plain": [
       "285"
      ]
     },
     "execution_count": 211,
     "metadata": {},
     "output_type": "execute_result"
    }
   ],
   "source": [
    "len(degree_4_nodes)"
   ]
  },
  {
   "cell_type": "code",
   "execution_count": 221,
   "metadata": {},
   "outputs": [
    {
     "data": {
      "text/plain": [
       "[3639, 268, 186, 290]"
      ]
     },
     "execution_count": 221,
     "metadata": {},
     "output_type": "execute_result"
    }
   ],
   "source": [
    "node = choice(degree_4_nodes)\n",
    "list(nx_graph_clean.neighbors(node))"
   ]
  },
  {
   "cell_type": "code",
   "execution_count": 222,
   "metadata": {},
   "outputs": [
    {
     "data": {
      "application/vnd.jupyter.widget-view+json": {
       "model_id": "ab1289f6f0b64d779c10952327eeb450",
       "version_major": 2,
       "version_minor": 0
      },
      "text/plain": [
       "Canvas(toolbar=Toolbar(toolitems=[('Home', 'Reset original view', 'home', 'home'), ('Back', 'Back to previous …"
      ]
     },
     "metadata": {},
     "output_type": "display_data"
    }
   ],
   "source": [
    "exp_clean.plot([12], [[node] + list(nx_graph_clean.neighbors(node))])"
   ]
  },
  {
   "cell_type": "code",
   "execution_count": 139,
   "metadata": {},
   "outputs": [],
   "source": [
    "node = edge[0]"
   ]
  },
  {
   "cell_type": "code",
   "execution_count": 140,
   "metadata": {},
   "outputs": [],
   "source": [
    "pos = exp_clean.get_node(node).pos(15)\n",
    "x, y = pos[0], pos[1]\n",
    "ims, posimg = exp_clean.find_image_pos(x, y, 15)"
   ]
  },
  {
   "cell_type": "code",
   "execution_count": 1,
   "metadata": {},
   "outputs": [
    {
     "ename": "NameError",
     "evalue": "name 'np' is not defined",
     "output_type": "error",
     "traceback": [
      "\u001b[1;31m---------------------------------------------------------------------------\u001b[0m",
      "\u001b[1;31mNameError\u001b[0m                                 Traceback (most recent call last)",
      "\u001b[1;32m<ipython-input-1-14c5b81584e0>\u001b[0m in \u001b[0;36m<module>\u001b[1;34m\u001b[0m\n\u001b[1;32m----> 1\u001b[1;33m \u001b[0mnp\u001b[0m\u001b[1;33m.\u001b[0m\u001b[0mmean\u001b[0m\u001b[1;33m(\u001b[0m\u001b[0mims\u001b[0m\u001b[1;33m,\u001b[0m\u001b[0maxis\u001b[0m\u001b[1;33m=\u001b[0m\u001b[1;36m0\u001b[0m\u001b[1;33m)\u001b[0m\u001b[1;33m\u001b[0m\u001b[1;33m\u001b[0m\u001b[0m\n\u001b[0m",
      "\u001b[1;31mNameError\u001b[0m: name 'np' is not defined"
     ]
    }
   ],
   "source": [
    "np.mean(ims, axis=0)"
   ]
  },
  {
   "cell_type": "code",
   "execution_count": 141,
   "metadata": {},
   "outputs": [
    {
     "data": {
      "application/vnd.jupyter.widget-view+json": {
       "model_id": "e1062928be45473f80675655434ff367",
       "version_major": 2,
       "version_minor": 0
      },
      "text/plain": [
       "Canvas(toolbar=Toolbar(toolitems=[('Home', 'Reset original view', 'home', 'home'), ('Back', 'Back to previous …"
      ]
     },
     "metadata": {},
     "output_type": "display_data"
    }
   ],
   "source": [
    "i = 1\n",
    "plot_t_tp1([0], [], {0: (posimg[1][i], posimg[0][i])}, None, ims[i], ims[i])"
   ]
  },
  {
   "cell_type": "code",
   "execution_count": 513,
   "metadata": {},
   "outputs": [
    {
     "data": {
      "text/plain": [
       "5501"
      ]
     },
     "execution_count": 513,
     "metadata": {},
     "output_type": "execute_result"
    }
   ],
   "source": [
    "len(exp_clean.nx_graph[15].edges)"
   ]
  },
  {
   "cell_type": "code",
   "execution_count": null,
   "metadata": {},
   "outputs": [],
   "source": [
    "from util.sys import get_path\n",
    "import pandas as pd\n",
    "import networkx as nx\n",
    "import numpy as np\n",
    "import matplotlib.pyplot as plt\n",
    "from extract_graph import (\n",
    "    generate_nx_graph,\n",
    "    transform_list,\n",
    "    generate_skeleton,\n",
    "    generate_nx_graph_from_skeleton,\n",
    "    from_connection_tab,\n",
    ")\n",
    "from node_id import whole_movement_identification, second_identification\n",
    "import ast\n",
    "from plotutil import plot_t_tp1, compress_skeleton\n",
    "from scipy import sparse\n",
    "from sparse_util import dilate, zhangSuen\n",
    "from realign import realign\n",
    "from datetime import datetime, timedelta\n",
    "from node_id import orient\n",
    "import pickle\n",
    "from matplotlib.widgets import CheckButtons\n",
    "import scipy.io as sio\n",
    "import imageio\n",
    "from pymatreader import read_mat\n",
    "from matplotlib import colors\n",
    "from copy import deepcopy, copy\n",
    "from collections import Counter\n",
    "\n",
    "\n",
    "class Experiment:\n",
    "    def __init__(self, plate):\n",
    "        self.plate = plate\n",
    "        self.path_param = \"//sun.amolf.nl/shimizu-data/home-folder/oyartegalvez/Drive_AMFtopology/PRINCE/Plate13_20200627/InitialParameters.mat\"\n",
    "\n",
    "    def load(self, dates, local=False, pickle=False, raw=False):\n",
    "        self.dates = dates\n",
    "        self.raw = raw\n",
    "        if local:\n",
    "            paths = [\n",
    "                f\"Data/graph_{date}_{self.plate}_full_labeled.csv\" for date in dates\n",
    "            ]\n",
    "            paths_connection = [\n",
    "                f\"Data/connection_{date}_{self.plate}.csv\" for date in dates[:-1]\n",
    "            ]\n",
    "        else:\n",
    "            paths = [\n",
    "                get_path(date, self.plate, True, extension=\"_full_labeled.csv\")\n",
    "                for date in dates\n",
    "            ]\n",
    "            paths_connection = [\n",
    "                get_path(date, self.plate, True, extension=\"_connection.csv\")\n",
    "                for date in dates[:-1]\n",
    "            ]\n",
    "        if raw:\n",
    "            nx_graph_poss = []\n",
    "            for date in dates:\n",
    "                nx_graph_poss.append(\n",
    "                    generate_nx_graph(\n",
    "                        pd.read_csv(\n",
    "                            get_path(\n",
    "                                date,\n",
    "                                self.plate,\n",
    "                                True,\n",
    "                                extension=\"_raw_aligned_skeleton.csv\",\n",
    "                            ),\n",
    "                            converters={\n",
    "                                \"origin_pos\": transform_list,\n",
    "                                \"end_pos\": transform_list,\n",
    "                                \"pixel_list\": ast.literal_eval,\n",
    "                            },\n",
    "                        ),\n",
    "                        labeled=True,\n",
    "                    )\n",
    "                )\n",
    "        else:\n",
    "            nx_graph_poss = []\n",
    "            for path in paths:\n",
    "                nx_graph_poss.append(\n",
    "                    generate_nx_graph(\n",
    "                        pd.read_csv(\n",
    "                            path,\n",
    "                            converters={\n",
    "                                \"origin_pos\": transform_list,\n",
    "                                \"end_pos\": transform_list,\n",
    "                                \"pixel_list\": ast.literal_eval,\n",
    "                            },\n",
    "                        ),\n",
    "                        labeled=True,\n",
    "                    )\n",
    "                )\n",
    "        from_tip_growth_pattern = []\n",
    "        for path in paths_connection:\n",
    "            from_tip_growth_pattern.append(from_connection_tab(pd.read_csv(path)))\n",
    "        nx_graphs = [nx_graph_pos[0] for nx_graph_pos in nx_graph_poss]\n",
    "        poss = [nx_graph_pos[1] for nx_graph_pos in nx_graph_poss]\n",
    "        nx_graph_clean = []\n",
    "        for graph in nx_graphs:\n",
    "            S = [graph.subgraph(c).copy() for c in nx.connected_components(graph)]\n",
    "            len_connected = [len(nx_graph.nodes) for nx_graph in S]\n",
    "            nx_graph_clean.append(S[np.argmax(len_connected)])\n",
    "        skeletons = []\n",
    "        for nx_graph in nx_graph_clean:\n",
    "            skeletons.append(generate_skeleton(nx_graph, dim=(20800, 46000)))\n",
    "        connections = [c[0] for c in from_tip_growth_pattern]\n",
    "        growth_patterns = [c[1] for c in from_tip_growth_pattern]\n",
    "        self.positions = poss\n",
    "        self.nx_graph = nx_graph_clean\n",
    "        self.connections = connections\n",
    "        self.growth_patterns = growth_patterns\n",
    "        self.skeletons = skeletons\n",
    "        self.hyphaes = None\n",
    "        labels = {node for g in self.nx_graph for node in g}\n",
    "        self.nodes = []\n",
    "        for label in labels:\n",
    "            self.nodes.append(Node(label, self))\n",
    "\n",
    "    def copy(self, experiment):\n",
    "        self.positions = experiment.positions\n",
    "        self.nx_graph = experiment.nx_graph\n",
    "        self.connections = experiment.connections\n",
    "        self.growth_patterns = experiment.growth_patterns\n",
    "        self.skeletons = experiment.skeletons\n",
    "        self.dates = experiment.dates\n",
    "        self.plate = experiment.plate\n",
    "        self.nodes = None\n",
    "        self.hyphaes = None\n",
    "\n",
    "    def save(self, path=f\"Data/\"):\n",
    "        from_tip_growth_pattern_tab = []\n",
    "        for date in self.dates[:-1]:\n",
    "            from_tip_growth_pattern_tab.append(\n",
    "                pd.read_csv(\n",
    "                    get_path(date, self.plate, True, extension=\"_connection.csv\")\n",
    "                )\n",
    "            )\n",
    "        for i, date in enumerate(self.dates[:-1]):\n",
    "            from_tip_growth_pattern_tab[i].to_csv(\n",
    "                path + f\"connection_{date}_{self.plate}.csv\"\n",
    "            )\n",
    "        tabs_labeled = []\n",
    "        for date in self.dates:\n",
    "            tabs_labeled.append(\n",
    "                pd.read_csv(\n",
    "                    get_path(date, self.plate, True, extension=\"_full_labeled.csv\"),\n",
    "                    converters={\n",
    "                        \"origin_pos\": transform_list,\n",
    "                        \"end_pos\": transform_list,\n",
    "                        \"pixel_list\": ast.literal_eval,\n",
    "                    },\n",
    "                )\n",
    "            )\n",
    "        for i, date in enumerate(self.dates):\n",
    "            tabs_labeled[i].to_csv(path + f\"graph_{date}_{self.plate}_full_labeled.csv\")\n",
    "            sio.savemat(\n",
    "                path + f\"graph_{date}_{self.plate}_full_labeled.mat\",\n",
    "                {name: col.values for name, col in tabs_labeled[i].items()},\n",
    "            )\n",
    "\n",
    "    def pickle_save(self):\n",
    "        pickle.dump(self, open(f\"Data/\" + f\"experiment_{self.plate}.pick\", \"wb\"))\n",
    "\n",
    "    def pickle_load(self):\n",
    "        self = pickle.load(open(f\"Data/\" + f\"experiment_{self.plate}.pick\", \"rb\"))\n",
    "\n",
    "    def get_node(self, label):\n",
    "        return Node(label, self)\n",
    "\n",
    "    def get_edge(self, begin, end):\n",
    "        return Edge(begin, end, self)\n",
    "\n",
    "    def compress_skeleton(self, t, factor):\n",
    "        shape = self.skeletons[t].shape\n",
    "        final_picture = np.zeros(shape=(shape[0] // factor, shape[1] // factor))\n",
    "        for pixel in self.skeletons[t].keys():\n",
    "            x = min(round(pixel[0] / factor), shape[0] // factor - 1)\n",
    "            y = min(round(pixel[1] / factor), shape[1] // factor - 1)\n",
    "            final_picture[x, y] += 1\n",
    "        return final_picture >= 1\n",
    "\n",
    "    def load_images(self, t):\n",
    "        date = self.dates[t]\n",
    "        date_plate = f\"/2020{date}\"\n",
    "        plate_str = f\"_Plate{self.plate}\"\n",
    "        path_tile = (\n",
    "            \"//sun.amolf.nl/shimizu-data/home-folder/oyartegalvez/Drive_AMFtopology/PRINCE\"\n",
    "            + date_plate\n",
    "            + plate_str\n",
    "            + \"/Img/TileConfiguration.registered.txt\"\n",
    "        )\n",
    "        tileconfig = pd.read_table(\n",
    "            path_tile,\n",
    "            sep=\";\",\n",
    "            skiprows=4,\n",
    "            header=None,\n",
    "            converters={2: ast.literal_eval},\n",
    "            skipinitialspace=True,\n",
    "        )\n",
    "        for name in tileconfig[0]:\n",
    "            im = imageio.imread(\n",
    "                \"//sun.amolf.nl/shimizu-data/home-folder/oyartegalvez/Drive_AMFtopology/PRINCE\"\n",
    "                + date_plate\n",
    "                + plate_str\n",
    "                + \"/Img/\"\n",
    "                + name\n",
    "            )\n",
    "            np.save(\"Temp/\" + name, im)\n",
    "\n",
    "    def get_growing_tips(self, t, threshold=80):\n",
    "        growths = {\n",
    "            tip: sum([len(branch) for branch in self.growth_patterns[t][tip]])\n",
    "            for tip in self.growth_patterns[t].keys()\n",
    "        }\n",
    "        growing_tips = [node for node in growths.keys() if growths[node] >= threshold]\n",
    "        return growing_tips\n",
    "\n",
    "    def pinpoint_anastomosis(self, t):\n",
    "        nx_graph_tm1 = self.nx_graph[t]\n",
    "        nx_grapht = self.nx_graph[t + 1]\n",
    "        from_tip = self.connections[t]\n",
    "        pos_tm1 = self.positions[t]\n",
    "        anastomosis = []\n",
    "        origins = []\n",
    "        tips = [node for node in nx_graph_tm1.nodes if nx_graph_tm1.degree(node) == 1]\n",
    "        number_anastomosis = 0\n",
    "\n",
    "        def dist_branch(node, nx_graph, pos):\n",
    "            mini = np.inf\n",
    "            for edge in nx_graph.edges:\n",
    "                pixel_list = nx_graph.get_edge_data(*edge)[\"pixel_list\"]\n",
    "                if (\n",
    "                    np.linalg.norm(np.array(pixel_list[0]) - np.array(pos[node]))\n",
    "                    <= 5000\n",
    "                ):\n",
    "                    distance = np.min(\n",
    "                        np.linalg.norm(\n",
    "                            np.array(pixel_list) - np.array(pos[node]), axis=1\n",
    "                        )\n",
    "                    )\n",
    "                    if distance < mini:\n",
    "                        mini = distance\n",
    "            return mini\n",
    "\n",
    "        def count_neighbors_is_from_root(equ_list, nx_graph, root):\n",
    "            count = 0\n",
    "            for neighbor in nx_graph.neighbors(root):\n",
    "                if neighbor in equ_list:\n",
    "                    count += 1\n",
    "            return count\n",
    "\n",
    "        for tip in tips:\n",
    "            #         print(tip)\n",
    "            consequence = from_tip[tip]\n",
    "            for node in consequence:\n",
    "                if (\n",
    "                    node in nx_grapht.nodes\n",
    "                    and nx_grapht.degree(node) >= 3\n",
    "                    and count_neighbors_is_from_root(consequence, nx_grapht, node) < 2\n",
    "                ):\n",
    "                    #                 if node==2753:\n",
    "                    #                     print(count_neighbors_is_from_root(consequence,nx_grapht,node))\n",
    "                    #                     print(list(nx_grapht.neighbors(node)))\n",
    "                    anastomosis.append(node)\n",
    "                    origins.append(tip)\n",
    "                    number_anastomosis += 1\n",
    "            if (\n",
    "                tip not in nx_grapht.nodes\n",
    "                and dist_branch(tip, nx_grapht, pos_tm1) <= 30\n",
    "                and nx_graph_tm1.get_edge_data(*list(nx_graph_tm1.edges(tip))[0])[\n",
    "                    \"weight\"\n",
    "                ]\n",
    "                >= 20\n",
    "            ):\n",
    "                origins.append(tip)\n",
    "                number_anastomosis += 1 / 2\n",
    "        return (anastomosis, origins, number_anastomosis)\n",
    "\n",
    "    def find_image_pos(self, ys, xs, t, local=False):\n",
    "        params = read_mat(self.path_param)\n",
    "        x1 = params[\"x1\"]\n",
    "        x2 = params[\"x2\"]\n",
    "        y0 = params[\"y0\"]\n",
    "        Sf = params[\"Sf\"]\n",
    "        L0center = params[\"L0center\"]\n",
    "        date = self.dates[t]\n",
    "        date_plate = f\"/2020{date}\"\n",
    "        plate_str = f\"_Plate{self.plate}\"\n",
    "        findingbaits = read_mat(\n",
    "            \"//sun.amolf.nl/shimizu-data/home-folder/oyartegalvez/Drive_AMFtopology/PRINCE\"\n",
    "            + date_plate\n",
    "            + plate_str\n",
    "            + \"/Analysis/FindingBaits.mat\"\n",
    "        )\n",
    "        Rcenter = findingbaits[\"Rcenter\"]\n",
    "        Rradii = findingbaits[\"Rradii\"]\n",
    "        Lcenter = findingbaits[\"Lcenter\"]\n",
    "        t = findingbaits[\"t\"]\n",
    "        Lradii = findingbaits[\"Lradii\"]\n",
    "        path_tile = (\n",
    "            \"//sun.amolf.nl/shimizu-data/home-folder/oyartegalvez/Drive_AMFtopology/PRINCE\"\n",
    "            + date_plate\n",
    "            + plate_str\n",
    "            + \"/Img/TileConfiguration.registered.txt\"\n",
    "        )\n",
    "        tileconfig = pd.read_table(\n",
    "            path_tile,\n",
    "            sep=\";\",\n",
    "            skiprows=4,\n",
    "            header=None,\n",
    "            converters={2: ast.literal_eval},\n",
    "            skipinitialspace=True,\n",
    "        )\n",
    "        xs_yss = list(tileconfig[2])\n",
    "        xes = [xs_ys[0] for xs_ys in xs_yss]\n",
    "        yes = [xs_ys[1] for xs_ys in xs_yss]\n",
    "        cmin = np.min(xes)\n",
    "        cmax = np.max(xes)\n",
    "        rmin = np.min(yes)\n",
    "        rmax = np.max(yes)\n",
    "        S0 = [rmax + 3000 + abs(rmin), cmax + 4096 + abs(cmin)]\n",
    "        theta = np.arctan((Rcenter[1] - Lcenter[1]) / (Rcenter[0] - Lcenter[0]))\n",
    "        Sry = S0[0] * np.cos(abs(theta)) + S0[1] * np.sin(abs(theta))\n",
    "        C = np.tan(\n",
    "            -np.arctan(\n",
    "                (\n",
    "                    ys\n",
    "                    + y0\n",
    "                    - 1\n",
    "                    - L0center[1]\n",
    "                    - np.sqrt(Lcenter[0] ** 2 + (S0[0] - Lcenter[1]) ** 2)\n",
    "                    * np.sin(np.arctan((S0[0] - Lcenter[1]) / Lcenter[0]) + theta)\n",
    "                )\n",
    "                / (\n",
    "                    xs\n",
    "                    + (x2 + x1) / 2\n",
    "                    - (Sf[0] - y0)\n",
    "                    - 1\n",
    "                    - L0center[0]\n",
    "                    + np.sqrt(Lcenter[0] ** 2 + (S0[0] - Lcenter[1]) ** 2)\n",
    "                    * np.cos(np.arctan((S0[0] - Lcenter[1]) / Lcenter[0]) + theta)\n",
    "                )\n",
    "            )\n",
    "            - theta\n",
    "        )\n",
    "        ximg = -(\n",
    "            ys\n",
    "            + y0\n",
    "            - 1\n",
    "            - L0center[1]\n",
    "            - np.sqrt(Lcenter[0] ** 2 + (S0[0] - Lcenter[1]) ** 2)\n",
    "            * np.sin(np.arctan((S0[0] - Lcenter[1]) / Lcenter[0]) + theta)\n",
    "        ) / (np.sqrt(1 + C**2) * np.sin(np.arctan(C) + theta))\n",
    "        yimg = S0[0] - C * ximg\n",
    "\n",
    "        def find(xsub, ysub, x, y):\n",
    "            indexes = []\n",
    "            for i in range(len(xsub)):\n",
    "                if (\n",
    "                    x >= xsub[i] - cmin\n",
    "                    and x < xsub[i] - cmin + 4096\n",
    "                    and y >= ysub[i] - rmin\n",
    "                    and y < ysub[i] - rmin + 3000\n",
    "                ):\n",
    "                    indexes.append(i)\n",
    "            return indexes\n",
    "\n",
    "        indsImg = find(xes, yes, ximg, yimg)\n",
    "        possImg = [\n",
    "            ximg - np.array(xes)[indsImg] + cmin + 1,\n",
    "            yimg - np.array(yes)[indsImg] + rmin + 1,\n",
    "        ]\n",
    "        paths = []\n",
    "        for index in indsImg:\n",
    "            if local:\n",
    "                pipeline.paths.append(\"Temp/\" + tileconfig[0][index] + \".npy\")\n",
    "            else:\n",
    "                pipeline.paths.append(\n",
    "                    \"//sun.amolf.nl/shimizu-data/home-folder/oyartegalvez/Drive_AMFtopology/PRINCE\"\n",
    "                    + date_plate\n",
    "                    + plate_str\n",
    "                    + \"/Img/\"\n",
    "                    + tileconfig[0][index]\n",
    "                )\n",
    "        if local:\n",
    "            ims = [np.load(path) for path in paths]\n",
    "        else:\n",
    "            ims = [imageio.imread(path) for path in paths]\n",
    "        return (ims, possImg)\n",
    "\n",
    "    def plot(self, ts, node_lists=[], shift=(0, 0), compress=5, save=\"\", time=None):\n",
    "        global check\n",
    "        right = 0.90\n",
    "        top = 0.90\n",
    "        if len(save) >= 1:\n",
    "            fig = plt.figure(figsize=(14, 12))\n",
    "            size = 10\n",
    "        else:\n",
    "            fig = plt.figure()\n",
    "            size = 5\n",
    "        ax = fig.add_subplot(111)\n",
    "        scale = 1 / len(ts)\n",
    "        power = len(ts)\n",
    "        compressed_images = []\n",
    "        for i, t in enumerate(ts):\n",
    "            compressed_images.append(self.compress_skeleton(t, compress))\n",
    "        visibility = [True for t in ts]\n",
    "        final_image = scale * compressed_images[0] * visibility[0]\n",
    "        for i, compressed_image in enumerate(compressed_images[1:]):\n",
    "            final_image = np.power(\n",
    "                final_image**power\n",
    "                + ((i + 2) * scale * compressed_image * visibility[i + 1]) ** power,\n",
    "                1 / power,\n",
    "            )\n",
    "        l1 = ax.imshow(final_image, cmap=\"plasma\", interpolation=\"none\", vmin=0, vmax=1)\n",
    "        rax = plt.axes([0.05, 0.4, 0.1, 0.15])\n",
    "        labels = [f\"{4*t}h\" for t in ts]\n",
    "        check = CheckButtons(rax, labels, visibility)\n",
    "\n",
    "        def func(label):\n",
    "            index = labels.index(label)\n",
    "            visibility[index] = not visibility[index]\n",
    "            final_image = visibility[0] * scale * compressed_images[0]\n",
    "            for i, compressed_image in enumerate(compressed_images[1:]):\n",
    "                final_image = np.power(\n",
    "                    final_image**power\n",
    "                    + visibility[i + 1] * ((i + 2) * scale * compressed_image) ** power,\n",
    "                    1 / power,\n",
    "                )\n",
    "            l1.set_data(final_image)\n",
    "            plt.draw()\n",
    "\n",
    "        check.on_clicked(func)\n",
    "        if len(node_lists) > 0:\n",
    "            for i, node_list in enumerate(node_lists):\n",
    "                grey = (i + 1) / len(labels)\n",
    "                bbox = dict(boxstyle=\"circle\", fc=colors.rgb2hex((grey, grey, grey)))\n",
    "                #             ax.text(right, top, time,\n",
    "                #                 horizontalalignment='right',\n",
    "                #                 verticalalignment='bottom',\n",
    "                #                 transform=ax.transAxes,color='white')\n",
    "                for node in node_list:\n",
    "                    #                     print(self.positions[ts[i]])\n",
    "                    if node in self.positions[ts[i]].keys():\n",
    "                        t = ax.text(\n",
    "                            (self.positions[ts[i]][node][1] - shift[1]) // compress,\n",
    "                            (self.positions[ts[i]][node][0] - shift[0]) // compress,\n",
    "                            str(node),\n",
    "                            ha=\"center\",\n",
    "                            va=\"center\",\n",
    "                            size=size,\n",
    "                            bbox=bbox,\n",
    "                        )\n",
    "        if len(save) >= 1:\n",
    "            plt.savefig(save)\n",
    "            plt.close(fig)\n",
    "        else:\n",
    "            plt.show()\n",
    "\n",
    "\n",
    "class Node:\n",
    "    def __init__(self, label, experiment):\n",
    "        self.experiment = experiment\n",
    "        self.label = label\n",
    "\n",
    "    def __eq__(self, other):\n",
    "        return self.label == other.label\n",
    "\n",
    "    def __repr__(self):\n",
    "        return f\"Node({self.label})\"\n",
    "\n",
    "    def __str__(self):\n",
    "        return str(self.label)\n",
    "\n",
    "    def __hash__(self):\n",
    "        return self.label\n",
    "\n",
    "    def neighbours(self, t):\n",
    "        return [\n",
    "            self.experiment.get_node(node)\n",
    "            for node in self.experiment.nx_graph[t].neighbors(self.label)\n",
    "        ]\n",
    "\n",
    "    def is_in(self, t):\n",
    "        return self.label in self.experiment.nx_graph[t].nodes\n",
    "\n",
    "    def degree(self, t):\n",
    "        return self.experiment.nx_graph[t].degree(self.label)\n",
    "\n",
    "    def edges(self, t):\n",
    "        return [\n",
    "            self.experiment.get_edge(self, neighbour)\n",
    "            for neighbour in self.neighbours(t)\n",
    "        ]\n",
    "\n",
    "    def pos(self, t):\n",
    "        return self.experiment.positions[t][self.label]\n",
    "\n",
    "    def ts(self):\n",
    "        return [t for t in range(len(self.experiment.nx_graph)) if self.is_in(t)]\n",
    "\n",
    "    def show_source_image(self, t):\n",
    "        pos = self.pos(t)\n",
    "        x, y = pos[0], pos[1]\n",
    "        ims, posimg = self.experiment.find_image_pos(x, y, t)\n",
    "        i = 1\n",
    "        plot_t_tp1([0], [], {0: (posimg[1][i], posimg[0][i])}, None, ims[i], ims[i])\n",
    "\n",
    "\n",
    "class Edge:\n",
    "    def __init__(self, begin, end, experiment):\n",
    "        self.begin = begin\n",
    "        self.end = end\n",
    "        self.experiment = experiment\n",
    "\n",
    "    def __repr__(self):\n",
    "        return f\"Edge({self.begin},{self.end})\"\n",
    "\n",
    "    def __str__(self):\n",
    "        return str((self.begin, self.end))\n",
    "\n",
    "    def is_in(self, t):\n",
    "        return (self.begin.label, self.end.label) in self.experiment.nx_graph[t].edges\n",
    "\n",
    "    def pixel_list(self, t):\n",
    "        return orient(\n",
    "            self.experiment.nx_graph[t].get_edge_data(self.begin.label, self.end.label)[\n",
    "                \"pixel_list\"\n",
    "            ],\n",
    "            self.begin.pos(t),\n",
    "        )\n",
    "\n",
    "    def orientation_whole(self, t):\n",
    "        pixel_list = np.array(self.pixel_list(t))\n",
    "        vector = pixel_list[-1] - pixel_list[0]\n",
    "        unit_vector = vector / np.linalg.norm(vector)\n",
    "        vertical_vector = np.array([-1, 0])\n",
    "        dot_product = np.dot(vertical_vector, unit_vector)\n",
    "        if (\n",
    "            vertical_vector[1] * vector[0] - vertical_vector[0] * vector[1] >= 0\n",
    "        ):  # determinant\n",
    "            angle = np.arccos(dot_product) / (2 * np.pi) * 360\n",
    "        else:\n",
    "            angle = -np.arccos(dot_product) / (2 * np.pi) * 360\n",
    "        return angle\n",
    "\n",
    "    def orientation_begin(self, t, length=20):\n",
    "        pixel_list = np.array(self.pixel_list(t))\n",
    "        vector = pixel_list[min(length, len(pixel_list) - 1)] - pixel_list[0]\n",
    "        unit_vector = vector / np.linalg.norm(vector)\n",
    "        vertical_vector = np.array([-1, 0])\n",
    "        dot_product = np.dot(vertical_vector, unit_vector)\n",
    "        if (\n",
    "            vertical_vector[1] * vector[0] - vertical_vector[0] * vector[1] >= 0\n",
    "        ):  # determinant\n",
    "            angle = np.arccos(dot_product) / (2 * np.pi) * 360\n",
    "        else:\n",
    "            angle = -np.arccos(dot_product) / (2 * np.pi) * 360\n",
    "        return angle\n",
    "\n",
    "    def orientation_end(self, t, length=20):\n",
    "        pixel_list = np.array(self.pixel_list(t))\n",
    "        vector = pixel_list[-1] - pixel_list[max(0, len(pixel_list) - 1 - length)]\n",
    "        unit_vector = vector / np.linalg.norm(vector)\n",
    "        vertical_vector = np.array([-1, 0])\n",
    "        dot_product = np.dot(vertical_vector, unit_vector)\n",
    "        if (\n",
    "            vertical_vector[1] * vector[0] - vertical_vector[0] * vector[1] >= 0\n",
    "        ):  # determinant\n",
    "            angle = np.arccos(dot_product) / (2 * np.pi) * 360\n",
    "        else:\n",
    "            angle = -np.arccos(dot_product) / (2 * np.pi) * 360\n",
    "        return angle\n",
    "\n",
    "\n",
    "class Hyphae:\n",
    "    def __init__(self, tip):\n",
    "        self.experiment = tip.experiment\n",
    "        self.ts = tip.ts()\n",
    "        self.end = tip\n",
    "        self.root = None\n",
    "        self.mother = None\n",
    "\n",
    "    def __repr__(self):\n",
    "        return f\"Hyphae({self.end},{self.root})\"\n",
    "\n",
    "    def __str__(self):\n",
    "        return str((self.end, self.root))\n",
    "\n",
    "    def get_edges(self, t, length=20):\n",
    "        first_neighbour = self.end.neighbours(t)[0]\n",
    "        llast_node = self.end\n",
    "        ccurrent_node = first_neighbour\n",
    "\n",
    "        def move_hyphae(last_node, current_node):\n",
    "            current_edge = Edge(last_node, current_node, current_node.experiment)\n",
    "            moving_on_hyphae = True\n",
    "            edges = [current_edge]\n",
    "            nodes = [last_node, current_node]\n",
    "            while moving_on_hyphae:\n",
    "                #                 print ('moving',current_node)\n",
    "                if current_node.degree(t) < 2:\n",
    "                    #                     print(current_node.degree(t),current_node)\n",
    "                    return (edges, nodes, current_node)\n",
    "                else:\n",
    "                    maxi = -np.inf\n",
    "                    orientation = current_edge.orientation_end(t, length)\n",
    "                    for neighbours_t in current_node.neighbours(t):\n",
    "                        #                     print (neighbours_t)\n",
    "                        candidate_edge = Edge(\n",
    "                            current_node, neighbours_t, current_node.experiment\n",
    "                        )\n",
    "                        orientation_candidate = candidate_edge.orientation_begin(\n",
    "                            t, length\n",
    "                        )\n",
    "                        angle = np.cos(\n",
    "                            (orientation - orientation_candidate) / 360 * 2 * np.pi\n",
    "                        )\n",
    "                        if angle > maxi:\n",
    "                            maxi = angle\n",
    "                            next_node_candidate = neighbours_t\n",
    "                    #                     print(maxi,next_node_candidate)\n",
    "                    candidate_edge = Edge(\n",
    "                        current_node, next_node_candidate, current_node.experiment\n",
    "                    )\n",
    "                    orientation_candidate = candidate_edge.orientation_begin(t, length)\n",
    "                    maxi_compet = -np.inf\n",
    "                    #                     print('compet')\n",
    "                    for neighbours_t in current_node.neighbours(t):\n",
    "                        if neighbours_t != last_node:\n",
    "                            competitor_edge = Edge(\n",
    "                                neighbours_t, current_node, current_node.experiment\n",
    "                            )\n",
    "                            orientation_competitor = competitor_edge.orientation_end(\n",
    "                                t, length\n",
    "                            )\n",
    "                            angle = np.cos(\n",
    "                                (orientation_competitor - orientation_candidate)\n",
    "                                / 360\n",
    "                                * 2\n",
    "                                * np.pi\n",
    "                            )\n",
    "                            if angle > maxi_compet:\n",
    "                                maxi_compet = angle\n",
    "                                competitor = neighbours_t\n",
    "                    #                             print(neighbours_t,angle)\n",
    "                    #                     print(maxi_compet,competitor)\n",
    "                    if maxi_compet > maxi:\n",
    "                        moving_on_hyphae = False\n",
    "                    else:\n",
    "                        last_node, current_node = current_node, next_node_candidate\n",
    "                        current_edge = Edge(\n",
    "                            last_node, current_node, current_node.experiment\n",
    "                        )\n",
    "                        edges.append(current_edge)\n",
    "                        nodes.append(current_node)\n",
    "            return (edges, nodes, competitor)\n",
    "\n",
    "        moving = True\n",
    "        edges = []\n",
    "        nodes = []\n",
    "        c = move_hyphae(llast_node, ccurrent_node)\n",
    "        edges += c[0]\n",
    "        nodes += c[1]\n",
    "        competitor = c[2]\n",
    "        #         while moving:\n",
    "        #             c= move_hyphae(llast_node,ccurrent_node)\n",
    "        #             edges += c[0]\n",
    "        #             nodes += c[1]\n",
    "        #             competitor = c[2]\n",
    "        # #             print('moving back', nodes[-1],competitor)\n",
    "        #             move_backward = move_hyphae(nodes[-1],competitor)\n",
    "        #             end_node_move_backward = move_backward[1][-1]\n",
    "        #             if end_node_move_backward in nodes:\n",
    "        # #                 print('restarting',competitor,nodes[-1])\n",
    "        #                 llast_node,ccurrent_node = c[2],nodes[-1]\n",
    "        #             else:\n",
    "        #                 moving=False\n",
    "        root = nodes[-1]\n",
    "        edges = edges\n",
    "        nodes = nodes\n",
    "        return (root, edges, nodes)\n",
    "\n",
    "    def get_nodes_within(self, t):\n",
    "        nodes = nx.shortest_path(\n",
    "            self.experiment.nx_graph[t],\n",
    "            source=self.root.label,\n",
    "            target=self.end.label,\n",
    "            weight=\"weight\",\n",
    "        )\n",
    "        edges = [\n",
    "            Edge(\n",
    "                self.experiment.get_node(nodes[i]),\n",
    "                self.experiment.get_node(nodes[i + 1]),\n",
    "                self.experiment,\n",
    "            )\n",
    "            for i in range(len(nodes) - 1)\n",
    "        ]\n",
    "        return (nodes, edges)\n",
    "\n",
    "    def get_mother(self):\n",
    "        candidate_mother = []\n",
    "        for hyphae in self.experiment.hyphaes:\n",
    "            for t in hyphae.ts:\n",
    "                if self.root in hyphae.get_nodes_within(t):\n",
    "                    candidate_mother.append(hyphae)\n",
    "        self.mother = candidate_mother\n",
    "\n",
    "\n",
    "def get_hyphae(experiment):\n",
    "    tips = [node for node in experiment.nodes if node.degree(node.ts()[0]) == 1]\n",
    "    problems = []\n",
    "    hyphaes = []\n",
    "    #     for i in range(20):\n",
    "    for i, tip in enumerate(tips):\n",
    "        if i % 200 == 0:\n",
    "            print(i / len(tips))\n",
    "        #         tip = choice(tips)\n",
    "        hyphae = Hyphae(tip)\n",
    "        roots = []\n",
    "        for t in tip.ts():\n",
    "            #             print(t,tip)\n",
    "            if tip.degree(t) == 1:\n",
    "                root, edges, nodes = hyphae.get_edges(t, 50)\n",
    "                roots.append(root)\n",
    "        occurence_count = Counter(roots)\n",
    "        if (\n",
    "            len(occurence_count.values()) >= 2\n",
    "            and occurence_count.most_common(2)[0][0] != roots[0]\n",
    "            and occurence_count.most_common(2)[1][1]\n",
    "            / occurence_count.most_common(2)[0][1]\n",
    "            >= 0.75\n",
    "        ):\n",
    "            #             print(roots[0])\n",
    "            #             print(tip,occurence_count)\n",
    "            problems.append(tip)\n",
    "        else:\n",
    "            hyphae.root = occurence_count.most_common(2)[0][0]\n",
    "            hyphaes.append(hyphae)\n",
    "    return (hyphaes, problems)\n",
    "\n",
    "\n",
    "def reconnect_degree_2(nx_graph, pos):\n",
    "    degree_2_nodes = [node for node in nx_graph.nodes if nx_graph.degree(node) == 2]\n",
    "    while len(degree_2_nodes) > 0:\n",
    "        node = degree_2_nodes.pop()\n",
    "        neighbours = list(nx_graph.neighbors(node))\n",
    "        right_n = neighbours[0]\n",
    "        left_n = neighbours[1]\n",
    "        right_edge = nx_graph.get_edge_data(node, right_n)[\"pixel_list\"]\n",
    "        left_edge = nx_graph.get_edge_data(node, left_n)[\"pixel_list\"]\n",
    "        if np.any(right_edge[0] != pos[node]):\n",
    "            right_edge = list(reversed(right_edge))\n",
    "        if np.any(left_edge[-1] != pos[node]):\n",
    "            left_edge = list(reversed(left_edge))\n",
    "        pixel_list = left_edge + right_edge[1:]\n",
    "        info = {\"weight\": len(pixel_list), \"pixel_list\": pixel_list}\n",
    "        if right_n != left_n:\n",
    "            connection_data = nx_graph.get_edge_data(right_n, left_n)\n",
    "            if connection_data is None or connection_data[\"weight\"] >= info[\"weight\"]:\n",
    "                if not connection_data is None:\n",
    "                    nx_graph.remove_edge(right_n, left_n)\n",
    "                nx_graph.add_edges_from([(right_n, left_n, info)])\n",
    "        nx_graph.remove_node(node)\n",
    "        degree_2_nodes = [node for node in nx_graph.nodes if nx_graph.degree(node) == 2]\n",
    "\n",
    "\n",
    "def clean_exp_with_hyphaes(experiment):\n",
    "    ts = {}\n",
    "    nx_graph_cleans = [nx.Graph.copy(nx_g) for nx_g in experiment.nx_graph]\n",
    "    exp_clean = Experiment(experiment.plate)\n",
    "    exp_clean.copy(experiment)\n",
    "    labels = {node for g in exp_clean.nx_graph for node in g}\n",
    "    exp_clean.nodes = []\n",
    "    for label in labels:\n",
    "        exp_clean.nodes.append(Node(label, exp_clean))\n",
    "    for node in experiment.nodes:\n",
    "        ts[node.label] = []\n",
    "        for t in range(len(nx_graph_cleans)):\n",
    "            if node.is_in(t):\n",
    "                ts[node.label].append(t)\n",
    "    hyphaes, problems = get_hyphae(exp_clean)\n",
    "    to_remove = []\n",
    "    safe_nodes = set()\n",
    "    for hyphae in hyphaes:\n",
    "        for t in hyphae.end.ts():\n",
    "            if t in hyphae.root.ts():\n",
    "                for node in hyphae.get_nodes_within(t)[0]:\n",
    "                    safe_nodes.add(node)\n",
    "    for node in experiment.nodes:\n",
    "        posit = node.pos(ts[node.label][0])\n",
    "        if (\n",
    "            len(ts[node.label]) == 1\n",
    "            and ts[node.label][0] != len(experiment.nx_graph) - 1\n",
    "            and node.label not in safe_nodes\n",
    "        ):\n",
    "            to_remove.append(node.label)\n",
    "    #     return(to_remove)\n",
    "    print(\"removing \", len(to_remove), \" nodes\")\n",
    "    for node in to_remove:\n",
    "        t = ts[node][0]\n",
    "        pos = experiment.positions[t]\n",
    "        nx_graph_clean = nx_graph_cleans[t]\n",
    "        if nx_graph_clean.degree(node) <= 2:\n",
    "            continue\n",
    "        #         print('cleaning',node)\n",
    "        neighbours = list(nx_graph_clean.neighbors(node))\n",
    "        candidate_to_fuse = []\n",
    "        weight_candidate = []\n",
    "        for neighbour in neighbours:\n",
    "            if nx_graph_clean.degree(neighbour) >= 3:\n",
    "                candidate_to_fuse.append(neighbour)\n",
    "                weight_candidate.append(\n",
    "                    len(nx_graph_clean.get_edge_data(node, neighbour)[\"pixel_list\"])\n",
    "                )\n",
    "        if len(weight_candidate) == 0:\n",
    "            continue\n",
    "        node_to_fuse = candidate_to_fuse[np.argmin(weight_candidate)]\n",
    "        if nx_graph_clean.degree(node) == 1 and node_to_fuse not in to_remove:\n",
    "            print(pos[node])\n",
    "            continue\n",
    "        for neighbour in neighbours:\n",
    "            right_n = node_to_fuse\n",
    "            left_n = neighbour\n",
    "            right_edge = nx_graph_clean.get_edge_data(node, right_n)[\"pixel_list\"]\n",
    "            left_edge = nx_graph_clean.get_edge_data(node, left_n)[\"pixel_list\"]\n",
    "            if np.any(right_edge[0] != pos[node]):\n",
    "                right_edge = list(reversed(right_edge))\n",
    "            if np.any(left_edge[-1] != pos[node]):\n",
    "                left_edge = list(reversed(left_edge))\n",
    "            pixel_list = left_edge + right_edge[1:]\n",
    "            info = {\"weight\": len(pixel_list), \"pixel_list\": pixel_list}\n",
    "            if right_n != left_n:\n",
    "                connection_data = nx_graph_clean.get_edge_data(right_n, left_n)\n",
    "                if (\n",
    "                    connection_data is None\n",
    "                    or connection_data[\"weight\"] >= info[\"weight\"]\n",
    "                ):\n",
    "                    if not connection_data is None:\n",
    "                        nx_graph_clean.remove_edge(right_n, left_n)\n",
    "                    nx_graph_clean.add_edges_from([(right_n, left_n, info)])\n",
    "        nx_graph_clean.remove_node(node)\n",
    "        nx_graph_cleans[t] = nx_graph_clean\n",
    "    for t, nx_graph in enumerate(nx_graph_cleans):\n",
    "        pos = experiment.positions[t]\n",
    "        reconnect_degree_2(nx_graph, pos)\n",
    "    nx_graph_clean = []\n",
    "    for graph in nx_graph_cleans:\n",
    "        S = [graph.subgraph(c).copy() for c in nx.connected_components(graph)]\n",
    "        len_connected = [len(nx_graph.nodes) for nx_graph in S]\n",
    "        nx_graph_clean.append(S[np.argmax(len_connected)])\n",
    "    skeletons = []\n",
    "    for nx_graph in nx_graph_clean:\n",
    "        skeletons.append(generate_skeleton(nx_graph, dim=(20800, 46000)))\n",
    "    exp_clean.nx_graph = nx_graph_clean\n",
    "    exp_clean.skeletons = skeletons\n",
    "    labels = {node for g in exp_clean.nx_graph for node in g}\n",
    "    exp_clean.nodes = []\n",
    "    exp_clean.hyphaes = hyphaes\n",
    "    for label in labels:\n",
    "        exp_clean.nodes.append(Node(label, exp_clean))\n",
    "    return exp_clean"
   ]
  }
 ],
 "metadata": {
  "kernelspec": {
   "display_name": "Python 3",
   "language": "python",
   "name": "python3"
  },
  "language_info": {
   "codemirror_mode": {
    "name": "ipython",
    "version": 3
   },
   "file_extension": ".py",
   "mimetype": "text/x-python",
   "name": "python",
   "nbconvert_exporter": "python",
   "pygments_lexer": "ipython3",
   "version": "3.7.9"
  }
 },
 "nbformat": 4,
 "nbformat_minor": 4
}

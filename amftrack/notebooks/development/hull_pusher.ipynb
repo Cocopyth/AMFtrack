{
 "cells": [
  {
   "cell_type": "code",
   "execution_count": 1,
   "id": "b502f4be-c13d-4c92-8f38-2f4db3962c6e",
   "metadata": {},
   "outputs": [
    {
     "name": "stderr",
     "output_type": "stream",
     "text": [
      "/gpfs/home2/cbisot/pycode/AMFtrack/amftrack/util/dbx.py:3: TqdmExperimentalWarning: Using `tqdm.autonotebook.tqdm` in notebook mode. Use `tqdm.tqdm` instead to force console mode (e.g. in jupyter console)\n",
      "  from tqdm.autonotebook import tqdm\n"
     ]
    },
    {
     "name": "stdout",
     "output_type": "stream",
     "text": [
      "/projects/0/einf914/data/Analysis_23_20220509_5_Version1/folder_info.json\n",
      "/projects/0/einf914/data/Analysis_1048_20220506_200_Version1/folder_info.json\n",
      "/projects/0/einf914/data/Analysis_52_20220707_200_Version1/folder_info.json\n",
      "/projects/0/einf914/data/Analysis_84_20220621_200_Version1/folder_info.json\n",
      "/projects/0/einf914/data/Analysis_1045_20220504_200_Version1/folder_info.json\n",
      "/projects/0/einf914/data/Analysis_24_20220426_1_Version1/folder_info.json\n",
      "/projects/0/einf914/data/Analysis_20_20220419_37_Version1/folder_info.json\n",
      "/projects/0/einf914/data/Analysis_19_20220525_100_Version1/folder_info.json\n"
     ]
    }
   ],
   "source": [
    "%matplotlib widget\n",
    "%load_ext autoreload\n",
    "%autoreload 2\n",
    "from amftrack.pipeline.functions.post_processing.area_hulls import *\n",
    "from amftrack.util.dbx import upload_folder\n",
    "from amftrack.pipeline.launching.run_super import run_parallel, run_launcher\n",
    "from amftrack.pipeline.launching.run_super import (\n",
    "    run_launcher,\n",
    "    directory_scratch,\n",
    "    directory_project,\n",
    "    run_parallel_stitch,\n",
    ")\n",
    "from amftrack.util.geometry import (\n",
    "    distance_point_pixel_line,\n",
    "    get_closest_line_opt,\n",
    "    get_closest_lines,\n",
    "    format_region,\n",
    "    intersect_rectangle,\n",
    "    get_overlap,\n",
    "    get_bounding_box,\n",
    "    expand_bounding_box,\n",
    "    is_in_bounding_box,\n",
    "    centered_bounding_box,\n",
    ")\n",
    "from amftrack.pipeline.functions.image_processing.experiment_util import (\n",
    "    plot_full_image_with_features,\n",
    "    get_all_edges,\n",
    "    get_all_nodes,\n",
    "    plot_hulls_skelet,\n",
    "    plot_full,\n",
    "    reconstruct_image_from_general,\n",
    ")\n",
    "from amftrack.pipeline.functions.image_processing.experiment_class_surf import (\n",
    "    load_graphs,\n",
    ")\n",
    "import pickle\n",
    "\n",
    "directory_targ = directory_project\n",
    "update_analysis_info(directory_targ)\n",
    "analysis_info = get_analysis_info(directory_targ)\n",
    "# analysis_folders = analysis_info.loc[analysis_info['unique_id'].isin(plates)]"
   ]
  },
  {
   "cell_type": "code",
   "execution_count": 2,
   "id": "0a44ceb1-6a69-42e9-8a59-ab43afe53b7b",
   "metadata": {},
   "outputs": [],
   "source": [
    "select = analysis_info.loc[analysis_info[\"Plate\"] == \"52\"]"
   ]
  },
  {
   "cell_type": "code",
   "execution_count": 19,
   "id": "7b89704f-41fa-4f97-89aa-9c8c8437ba8a",
   "metadata": {},
   "outputs": [],
   "source": [
    "path_exp = f'{directory_targ}{select[\"path_exp\"].iloc[0]}'\n",
    "exp = pickle.load(open(path_exp, \"rb\"))\n",
    "exp.save_location = \"/\".join(path_exp.split(\"/\")[:-1])"
   ]
  },
  {
   "cell_type": "code",
   "execution_count": 18,
   "id": "70a9abe8-ff7d-47ce-a7db-65870faa1841",
   "metadata": {},
   "outputs": [
    {
     "data": {
      "text/plain": [
       "'/projects/0/einf914/data/Analysis_52_20220707_200_Version1'"
      ]
     },
     "execution_count": 18,
     "metadata": {},
     "output_type": "execute_result"
    }
   ],
   "source": [
    "\"/\".join(path_exp.split(\"/\")[:-1])"
   ]
  },
  {
   "cell_type": "code",
   "execution_count": 4,
   "id": "52bba85f-ac14-4d13-89c6-d381ba356a12",
   "metadata": {},
   "outputs": [],
   "source": [
    "load_graphs(exp, directory_targ, range(10), post_process=True)"
   ]
  },
  {
   "cell_type": "code",
   "execution_count": 5,
   "id": "9ebfb256-320d-4390-b638-abbb7cb7a946",
   "metadata": {},
   "outputs": [],
   "source": [
    "from scipy import spatial\n",
    "\n",
    "t = 5\n",
    "nodes = np.array([node.pos(t) for node in exp.nodes if node.is_in(t)])\n",
    "hull = spatial.ConvexHull(nodes)"
   ]
  },
  {
   "cell_type": "code",
   "execution_count": 11,
   "id": "adf717e8-2762-428f-901b-97ae51693ae2",
   "metadata": {},
   "outputs": [],
   "source": [
    "hull_nodes = [exp.nodes[vertice].label for vertice in hull.vertices]"
   ]
  },
  {
   "cell_type": "code",
   "execution_count": 24,
   "id": "91e94b92-d74b-4625-9349-e409dac47b9d",
   "metadata": {},
   "outputs": [],
   "source": [
    "os.mkdir(os.path.join(exp.save_location, \"time_hull_info\"))\n",
    "np.save(\n",
    "    os.path.join(exp.save_location, \"time_hull_info\", f\"hull_nodes_{t}.npy\"), hull_nodes\n",
    ")"
   ]
  },
  {
   "cell_type": "code",
   "execution_count": 21,
   "id": "4b252ab4-a128-4e65-926b-960f1d725272",
   "metadata": {},
   "outputs": [
    {
     "data": {
      "text/plain": [
       "'/projects/0/einf914/data/Analysis_52_20220707_200_Version1/hull_nodes/hull_nodes_5'"
      ]
     },
     "execution_count": 21,
     "metadata": {},
     "output_type": "execute_result"
    }
   ],
   "source": [
    "os.path.join(exp.save_location, \"hull_nodes\", f\"hull_nodes_{t}\")"
   ]
  },
  {
   "cell_type": "code",
   "execution_count": 25,
   "id": "4ed16dba-f529-4f7b-85d7-3448ce98d9e6",
   "metadata": {},
   "outputs": [
    {
     "data": {
      "text/plain": [
       "155"
      ]
     },
     "execution_count": 25,
     "metadata": {},
     "output_type": "execute_result"
    }
   ],
   "source": [
    "exp.ts"
   ]
  }
 ],
 "metadata": {
  "kernelspec": {
   "display_name": "Python 3 (ipykernel)",
   "language": "python",
   "name": "python3"
  },
  "language_info": {
   "codemirror_mode": {
    "name": "ipython",
    "version": 3
   },
   "file_extension": ".py",
   "mimetype": "text/x-python",
   "name": "python",
   "nbconvert_exporter": "python",
   "pygments_lexer": "ipython3",
   "version": "3.7.11"
  }
 },
 "nbformat": 4,
 "nbformat_minor": 5
}

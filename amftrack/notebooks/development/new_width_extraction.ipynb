{
 "cells": [
  {
   "cell_type": "code",
   "execution_count": 2,
   "metadata": {},
   "outputs": [],
   "source": [
    "import matplotlib.pyplot as plt\n",
    "import numpy as np\n",
    "from scipy.optimize import curve_fit"
   ]
  },
  {
   "cell_type": "code",
   "execution_count": 3,
   "metadata": {},
   "outputs": [],
   "source": [
    "def func(x, const1, const2,const3,init,lapse1,lapse2,lapse3):\n",
    "    bound1 = init\n",
    "    bound2 = bound1+lapse1\n",
    "    bound3 = bound2+lapse2\n",
    "    bound4 = bound3+lapse3\n",
    "    a1 = (const2-const1)/(bound2-bound1)\n",
    "    b1 = const1-a1*bound1\n",
    "    a2= (const3-const2)/(bound4-bound3)\n",
    "    b2 = const3-a2*bound4\n",
    "    bool1 = x<=bound1\n",
    "    bool2 = (x <=bound2)*(x>bound1)\n",
    "    bool3 = (x <=bound3)*(x>bound2)\n",
    "    bool4 = (x <=bound4)*(x>bound3)\n",
    "    bool5 = x>bound4\n",
    "    return(const1*bool1+(a1*x+b1)*bool2+const2*bool3+(a2*x+b2)*bool4+const3*bool5)\n"
   ]
  },
  {
   "cell_type": "code",
   "execution_count": 4,
   "metadata": {},
   "outputs": [],
   "source": [
    "from scipy import special\n",
    "def func2(x,lapse, lapse2,c,d,e):\n",
    "    return(-c*(special.erf(e*(x-lapse))-special.erf(e*(x-lapse-lapse2)))+d)\n",
    "def func3(x, lapse,lapse2,c,d,e,lapse4):\n",
    "    return(-c*(special.erf(e*(x-lapse))-special.erf(e*(x-(lapse+lapse2))))+d+c*(special.erf(e*(x-(lapse+lapse2)))-special.erf(e*(x-(lapse+lapse2+lapse4)))))\n",
    "def func4(x, lapse,lapse2,c,d,e,lapse4):\n",
    "    return(-c*(special.erf(e*(x-lapse))-special.erf(e*(x-(lapse+lapse2))))+d+c*(special.erf(e*(x-(lapse-lapse4)))-special.erf(e*(x-(lapse)))))\n",
    "def func5(x, sigma, mean,fact,offset):\n",
    "    return(-fact*np.exp(-(x-mean)**2/sigma**2)+offset)"
   ]
  },
  {
   "cell_type": "code",
   "execution_count": 9,
   "metadata": {},
   "outputs": [
    {
     "name": "stdout",
     "output_type": "stream",
     "text": [
      "0.9739218674007272 0.9739181499004002\n"
     ]
    },
    {
     "data": {
      "text/plain": [
       "[<matplotlib.lines.Line2D at 0x2acdf5c45c10>]"
      ]
     },
     "execution_count": 9,
     "metadata": {},
     "output_type": "execute_result"
    },
    {
     "data": {
      "image/png": "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\n",
      "text/plain": [
       "<Figure size 432x288 with 1 Axes>"
      ]
     },
     "metadata": {
      "needs_background": "light"
     },
     "output_type": "display_data"
    }
   ],
   "source": [
    "plt.close('all')\n",
    "xdata = np.linspace(0, 120, 1000)\n",
    "\n",
    "y = func5(xdata, 1,60,60,160)\n",
    "\n",
    "np.random.seed(1729)\n",
    "\n",
    "y_noise = 1* np.random.normal(size=xdata.size)\n",
    "\n",
    "ydata = y + y_noise\n",
    "p0a=[60,10,100,180,0.1]\n",
    "popt1, pcov = curve_fit(func2, xdata, ydata,bounds = ([0,0,0,0,0],[120,120,200]+2*[np.inf]),p0=p0a)\n",
    "p0b=list(popt1)+[10]\n",
    "popt2, pcov = curve_fit(func3, xdata, ydata,bounds = ([0,0,0,0,0,0],[120,120,200]+2*[np.inf]+[120]),p0=p0b)\n",
    "residuals = ydata- func3(xdata, *popt2)\n",
    "ss_res = np.sum(residuals**2)\n",
    "ss_tot = np.sum((ydata-np.mean(ydata))**2)\n",
    "r_squared1 = 1 - (ss_res / ss_tot)\n",
    "popt3, pcov = curve_fit(func4, xdata, ydata,bounds = ([0,0,0,0,0,0],[120,120,200]+2*[np.inf]+[120]),p0=p0b)\n",
    "residuals = ydata- func4(xdata, *popt3)\n",
    "ss_res = np.sum(residuals**2)\n",
    "ss_tot = np.sum((ydata-np.mean(ydata))**2)\n",
    "r_squared2 = 1 - (ss_res / ss_tot)\n",
    "print(r_squared1,r_squared2)\n",
    "fig = plt.figure()\n",
    "ax = fig.add_subplot(111)\n",
    "ax.plot(xdata, ydata, 'b-', label='data')\n",
    "ax.plot(xdata, func2(xdata, *popt1), 'r-')\n",
    "ax.plot(xdata, func3(xdata, *popt2), 'g-')\n",
    "ax.plot(xdata, func4(xdata, *popt3), 'y-')"
   ]
  },
  {
   "cell_type": "code",
   "execution_count": 5,
   "metadata": {},
   "outputs": [],
   "source": [
    "%matplotlib widget\n",
    "\n",
    "import os  \n",
    "import sys  \n",
    "sys.path.insert(0, os.getenv('HOME')+"/pycode/MscThesis/")\n",
    "import pandas as pd\n",
    "from amftrack.util import get_dates_datetime, get_dirname, get_plate_number, get_postion_number\n",
    "\n",
    "import ast\n",
    "from amftrack.plotutil import plot_t_tp1\n",
    "from scipy import sparse\n",
    "from datetime import datetime\n",
    "from amftrack.pipeline.functions.node_id import orient\n",
    "import pickle\n",
    "import scipy.io as sio\n",
    "from pymatreader import read_mat\n",
    "from matplotlib import colors\n",
    "import cv2\n",
    "import imageio\n",
    "import matplotlib.pyplot as plt\n",
    "import numpy as np\n",
    "from skimage.filters import frangi\n",
    "from skimage import filters\n",
    "from random import choice\n",
    "import scipy.sparse\n",
    "import os\n",
    "from amftrack.pipeline.functions.extract_graph import from_sparse_to_graph, generate_nx_graph, sparse_to_doc\n",
    "from skimage.feature import hessian_matrix_det\n",
    "from amftrack.pipeline.functions.experiment_class_surf import Experiment, Edge, Node\n",
    "from amftrack.pipeline.paths.directory import run_parallel, find_state, directory_scratch, directory_project\n",
    "from amftrack.notebooks.analysis.util import *\n",
    "from scipy import stats\n",
    "from scipy.ndimage.filters import uniform_filter1d\n",
    "from statsmodels.stats import weightstats as stests"
   ]
  },
  {
   "cell_type": "code",
   "execution_count": 6,
   "metadata": {},
   "outputs": [
    {
     "name": "stdout",
     "output_type": "stream",
     "text": [
      "begin = 2020-12-17 08:39:00 \n",
      "  end = 2020-12-17 08:39:00\n"
     ]
    }
   ],
   "source": [
    "directory = \"/projects/0/einf914/data/\"\n",
    "exp = get_exp((10,104,104),directory)"
   ]
  },
  {
   "cell_type": "code",
   "execution_count": 6,
   "metadata": {},
   "outputs": [],
   "source": [
    "exp.load_compressed_skel()"
   ]
  },
  {
   "cell_type": "code",
   "execution_count": 23,
   "metadata": {},
   "outputs": [],
   "source": [
    "from skimage.measure import profile_line\n",
    "from amftrack.notebooks.analysis.util import *\n",
    "from scipy.optimize import curve_fit\n",
    "import numpy as np\n",
    "a = 2.65649932\n",
    "from scipy import special\n",
    "def func2(x,lapse, lapse2,c,d,e):\n",
    "    return(-c*(special.erf(e*(x-lapse))-special.erf(e*(x-lapse-lapse2)))+d)\n",
    "def func3(x, lapse,lapse2,c,d,e,lapse4):\n",
    "    return(-c*(special.erf(e*(x-lapse))-special.erf(e*(x-(lapse+lapse2))))+d+c*(special.erf(e*(x-(lapse+lapse2)))-special.erf(e*(x-(lapse+lapse2+lapse4)))))\n",
    "def func4(x, lapse,lapse2,c,d,e,lapse4):\n",
    "    return(-c*(special.erf(e*(x-lapse))-special.erf(e*(x-(lapse+lapse2))))+d+c*(special.erf(e*(x-(lapse-lapse4)))-special.erf(e*(x-(lapse)))))\n",
    "def func5(x, sigma, mean,fact,offset):\n",
    "    return(-fact*np.exp(-(x-mean)**2/sigma**2)+offset)\n",
    "def func5(x, sigma, mean,fact,offset):\n",
    "    return(-fact*np.exp(-(x-mean)**2/sigma**2)+offset)\n",
    "def get_source_image(experiment,pos,t,local,force_selection = None):\n",
    "    x,y=pos[0],pos[1]\n",
    "    ims,posimg=experiment.find_image_pos(x,y,t,local)\n",
    "    if force_selection is None:\n",
    "        dist_border=[min([posimg[1][i],3000-posimg[1][i],posimg[0][i],4096-posimg[0][i]]) for i in range(posimg[0].shape[0])]\n",
    "        j=np.argmax(dist_border)\n",
    "    else:\n",
    "        dist_last=[np.linalg.norm(np.array((posimg[1][i],posimg[0][i])) - np.array(force_selection)) for i in range(posimg[0].shape[0])]\n",
    "        j=np.argmin(dist_last)\n",
    "    return(ims[j],(posimg[1][j],posimg[0][j]))\n",
    "\n",
    "def get_width_pixel(edge,index,im,pivot,before,after,t,size = 20,width_factor = 60,averaging_size = 100,threshold_averaging = 10):\n",
    "    imtab=im\n",
    "#     print(imtab.shape)\n",
    "#     print(int(max(0,pivot[0]-averaging_size)),int(pivot[0]+averaging_size))\n",
    "    threshold = np.mean(imtab[int(max(0,pivot[0]-averaging_size)):int(pivot[0]+averaging_size),int(max(0,pivot[1]-averaging_size)):int(pivot[1]+averaging_size)]-threshold_averaging)\n",
    "    orientation=np.array(before)-np.array(after)\n",
    "    perpendicular = [1,-orientation[0]/orientation[1]] if orientation[1]!=0 else [0,1]\n",
    "    perpendicular_norm=np.array(perpendicular)/np.sqrt(perpendicular[0]**2+perpendicular[1]**2)\n",
    "    point1=np.around(np.array(pivot)+width_factor*perpendicular_norm)\n",
    "    point2=np.around(np.array(pivot)-width_factor*perpendicular_norm)\n",
    "    point1=point1.astype(int)\n",
    "    point2=point2.astype(int)\n",
    "    p = profile_line(imtab, point1, point2,mode='constant')\n",
    "    xdata = np.array(range(len(p)))\n",
    "    ydata = np.array(p)\n",
    "#     fig = plt.figure()\n",
    "#     ax = fig.add_subplot(111)\n",
    "#     ax.plot(xdata,ydata)\n",
    "#     ax.plot(xdata, func5(xdata, *popt0), 'g-')\n",
    "    try:\n",
    "        p00=[10,60,60,160]\n",
    "        popt0, pcov = curve_fit(func5, xdata, ydata,bounds = ([0,0,0,0],4*[np.inf]),p0=p00)\n",
    "        p0a=[60,10,100,180,0.1]\n",
    "        popt1, pcov = curve_fit(func2, xdata, ydata,bounds = ([0,0,0,0,0],[120,120,200]+2*[np.inf]),p0=p0a)\n",
    "        p0b=list(popt1)+[10]\n",
    "        popt2, pcov = curve_fit(func3, xdata, ydata,bounds = ([0,0,0,0,0,0],[120,120,200]+2*[np.inf]+[120]),p0=p0b)\n",
    "        residuals = ydata- func3(xdata, *popt2)\n",
    "        ss_res = np.sum(residuals**2)\n",
    "        ss_tot = np.sum((ydata-np.mean(ydata))**2)\n",
    "        r_squared1 = 1 - (ss_res / ss_tot)\n",
    "        popt3, pcov = curve_fit(func4, xdata, ydata,bounds = ([0,0,0,0,0,0],[120,120,200]+2*[np.inf]+[120]),p0=p0b)\n",
    "        residuals = ydata- func4(xdata, *popt3)\n",
    "        ss_res = np.sum(residuals**2)\n",
    "        ss_tot = np.sum((ydata-np.mean(ydata))**2)\n",
    "        r_squared2 = 1 - (ss_res / ss_tot)\n",
    "    #     ax.plot(xdata, func2(xdata, *popt1), 'r-')\n",
    "        if r_squared1>r_squared2:\n",
    "    #         ax.plot(xdata, func3(xdata, *popt2), 'b-')\n",
    "            popt=popt2\n",
    "        else:\n",
    "    #         ax.plot(xdata, func4(xdata, *popt3), 'b-')\n",
    "            popt=popt3\n",
    "        background = popt[3]\n",
    "    except RuntimeError:\n",
    "        print('failed')\n",
    "        background = np.mean(p)\n",
    "#     print(popt[3],popt0[3])\n",
    "#     width_pix = popt0[0]*popt0[2]\n",
    "    width_pix = -np.sum((np.log10(np.array(p)/background)<=0)*np.log10(np.array(p)/background))\n",
    "#     print(width_pix)\n",
    "#     p0=[165,100,165,45,10,10,10]\n",
    "#     popt, pcov = curve_fit(func, xdata, ydata,bounds = ([-np.inf,-np.inf,-np.inf,-np.inf,0,0,0],np.inf),p0=p0)\n",
    "#     width_pix = popt[-2]\n",
    "#     ax.plot(xdata, func(xdata, *popt), 'r-')\n",
    "#     derivative = [p[i+1]-p[i] for i in range(len(p)-1)]\n",
    "#     fig = plt.figure()\n",
    "#     ax = fig.add_subplot(111)\n",
    "#     ax.plot([np.mean(derivative[5*i:5*i+5]) for i in range(len(derivative)//5)])\n",
    "#     problem=False\n",
    "#     arg = len(p)//2\n",
    "#     if p[arg]>threshold:\n",
    "#         arg = np.argmin(p)\n",
    "# #     we_plot=randrange(1000)\n",
    "#     while  p[arg]<=threshold:\n",
    "#         if arg<=0:\n",
    "# #             we_plot=50\n",
    "#             problem=True\n",
    "#             break\n",
    "#         arg-=1\n",
    "#     begin = arg\n",
    "#     arg = len(p)//2\n",
    "#     if p[arg]>threshold:\n",
    "#         arg = np.argmin(p)\n",
    "#     while  p[arg]<=threshold:\n",
    "#         if arg>=len(p)-1:\n",
    "# #             we_plot=50\n",
    "#             problem=True\n",
    "#             break\n",
    "#         arg+=1\n",
    "#     end = arg\n",
    "# #     print(end-begin,threshold)\n",
    "#     print(np.linalg.norm(point1-point2),len(p),width_pix)\n",
    "    return(max(0,np.linalg.norm(point1-point2)*(width_pix)/len(p)))\n",
    "\n",
    "def get_width_edge(edge,resolution,t,local=False, threshold_averaging = 10):\n",
    "    pixel_conversion_factor = 1.725\n",
    "    pixel_list = edge.pixel_list(t)\n",
    "    pixels = []\n",
    "    indexes = []\n",
    "    source_images = []\n",
    "    poss = []\n",
    "    widths={}\n",
    "    if len(pixel_list)>3*resolution:\n",
    "        for i in range(0,len(pixel_list)//resolution):\n",
    "            index = i*resolution\n",
    "            indexes.append(index)\n",
    "            pixel = pixel_list[index]\n",
    "            pixels.append(pixel)\n",
    "            source_img,pos = get_source_image(edge.experiment,pixel,t,local)\n",
    "            source_images.append(source_img)\n",
    "            poss.append(pos)\n",
    "    else:\n",
    "        indexes = [0,len(pixel_list)//2,len(pixel_list)-1]\n",
    "        for index in indexes:\n",
    "            pixel = pixel_list[index]\n",
    "            pixels.append(pixel)\n",
    "            source_img,pos = get_source_image(edge.experiment,pixel,t,local)\n",
    "            source_images.append(source_img)\n",
    "            poss.append(pos)\n",
    "#     print(indexes)\n",
    "    for i, index in enumerate(indexes[1:-1]):\n",
    "        source_img = source_images[i+1]\n",
    "        pivot = poss[i+1]\n",
    "        _,before = get_source_image(edge.experiment,pixels[i],t,local,pivot)\n",
    "        _,after = get_source_image(edge.experiment,pixels[i+2],t,local,pivot)\n",
    "#         plot_t_tp1([0,1,2],[],{0 : pivot,1 : before, 2 : after},None,source_img,source_img)\n",
    "        width = get_width_pixel(edge,index,source_img,pivot,before,after,t,threshold_averaging = threshold_averaging)\n",
    "#         print(width*pixel_conversion_factor)\n",
    "        widths[pixel_list[index]]=width*pixel_conversion_factor\n",
    "#         if i>=1:\n",
    "#             break\n",
    "    edge.experiment.nx_graph[t].get_edge_data(edge.begin.label,edge.end.label)['width'] = widths\n",
    "    return(widths)      \n",
    "\n",
    "def get_width_info(experiment,t,resolution = 50):\n",
    "    edge_width={}\n",
    "    graph = experiment.nx_graph[t]\n",
    "#     print(len(list(graph.edges)))\n",
    "    for edge in graph.edges:\n",
    "#         print(edge)\n",
    "        edge_exp = Edge(Node(edge[0],experiment),Node(edge[1],experiment),experiment)\n",
    "        mean = np.mean(list(get_width_edge(edge_exp,resolution,t).values()))\n",
    "#         print(np.mean(list(get_width_edge(edge_exp,resolution,t).values())))\n",
    "        edge_width[edge]=mean\n",
    "    return(edge_width)"
   ]
  },
  {
   "cell_type": "code",
   "execution_count": null,
   "metadata": {},
   "outputs": [],
   "source": []
  },
  {
   "cell_type": "code",
   "execution_count": 15,
   "metadata": {},
   "outputs": [
    {
     "data": {
      "text/plain": [
       "0.33419349524151576"
      ]
     },
     "execution_count": 15,
     "metadata": {},
     "output_type": "execute_result"
    }
   ],
   "source": [
    "np.mean(list(widths.values()))"
   ]
  },
  {
   "cell_type": "code",
   "execution_count": 19,
   "metadata": {},
   "outputs": [
    {
     "name": "stdout",
     "output_type": "stream",
     "text": [
      "9.332227652244024\n"
     ]
    }
   ],
   "source": [
    "plt.close(\"all\")\n",
    "node1 = 940\n",
    "node2 = 890\n",
    "widths = get_width_edge(Edge(Node(node1,exp),Node(node2,exp),exp),50,0)\n",
    "print(np.mean(list(widths.values())))"
   ]
  },
  {
   "cell_type": "code",
   "execution_count": 27,
   "metadata": {
    "collapsed": true,
    "jupyter": {
     "outputs_hidden": true
    }
   },
   "outputs": [
    {
     "data": {
      "text/html": [
       "<div>\n",
       "<style scoped>\n",
       "    .dataframe tbody tr th:only-of-type {\n",
       "        vertical-align: middle;\n",
       "    }\n",
       "\n",
       "    .dataframe tbody tr th {\n",
       "        vertical-align: top;\n",
       "    }\n",
       "\n",
       "    .dataframe thead th {\n",
       "        text-align: right;\n",
       "    }\n",
       "</style>\n",
       "<table border=\"1\" class=\"dataframe\">\n",
       "  <thead>\n",
       "    <tr style=\"text-align: right;\">\n",
       "      <th></th>\n",
       "      <th>edge</th>\n",
       "      <th>realx</th>\n",
       "      <th>realy</th>\n",
       "      <th>real_scale</th>\n",
       "      <th>real_w</th>\n",
       "      <th>extracted_w</th>\n",
       "      <th>Extracted_other</th>\n",
       "      <th>Extracted_gaussian</th>\n",
       "    </tr>\n",
       "  </thead>\n",
       "  <tbody>\n",
       "    <tr>\n",
       "      <th>0</th>\n",
       "      <td>2040;1749</td>\n",
       "      <td>1.23</td>\n",
       "      <td>0.00</td>\n",
       "      <td>1.88</td>\n",
       "      <td>6.542553</td>\n",
       "      <td>52.0</td>\n",
       "      <td>16.165781</td>\n",
       "      <td>47.573749</td>\n",
       "    </tr>\n",
       "    <tr>\n",
       "      <th>1</th>\n",
       "      <td>2040;2378</td>\n",
       "      <td>1.08</td>\n",
       "      <td>0.59</td>\n",
       "      <td>1.84</td>\n",
       "      <td>6.688316</td>\n",
       "      <td>56.0</td>\n",
       "      <td>17.855333</td>\n",
       "      <td>51.382735</td>\n",
       "    </tr>\n",
       "    <tr>\n",
       "      <th>2</th>\n",
       "      <td>2040;1953</td>\n",
       "      <td>1.07</td>\n",
       "      <td>0.19</td>\n",
       "      <td>1.84</td>\n",
       "      <td>5.906186</td>\n",
       "      <td>46.0</td>\n",
       "      <td>13.672368</td>\n",
       "      <td>36.288240</td>\n",
       "    </tr>\n",
       "    <tr>\n",
       "      <th>3</th>\n",
       "      <td>1991;2237</td>\n",
       "      <td>0.34</td>\n",
       "      <td>1.22</td>\n",
       "      <td>1.84</td>\n",
       "      <td>6.883104</td>\n",
       "      <td>63.0</td>\n",
       "      <td>22.090684</td>\n",
       "      <td>54.975664</td>\n",
       "    </tr>\n",
       "    <tr>\n",
       "      <th>4</th>\n",
       "      <td>2497;2329</td>\n",
       "      <td>0.24</td>\n",
       "      <td>1.47</td>\n",
       "      <td>1.84</td>\n",
       "      <td>8.094908</td>\n",
       "      <td>62.0</td>\n",
       "      <td>21.876426</td>\n",
       "      <td>58.588916</td>\n",
       "    </tr>\n",
       "    <tr>\n",
       "      <th>5</th>\n",
       "      <td>2497;2459</td>\n",
       "      <td>0.97</td>\n",
       "      <td>0.43</td>\n",
       "      <td>1.84</td>\n",
       "      <td>5.766507</td>\n",
       "      <td>56.0</td>\n",
       "      <td>18.461902</td>\n",
       "      <td>48.734690</td>\n",
       "    </tr>\n",
       "    <tr>\n",
       "      <th>6</th>\n",
       "      <td>3765;4017</td>\n",
       "      <td>0.34</td>\n",
       "      <td>1.71</td>\n",
       "      <td>1.84</td>\n",
       "      <td>9.475400</td>\n",
       "      <td>61.0</td>\n",
       "      <td>16.352954</td>\n",
       "      <td>48.025684</td>\n",
       "    </tr>\n",
       "    <tr>\n",
       "      <th>7</th>\n",
       "      <td>3187;3179</td>\n",
       "      <td>0.93</td>\n",
       "      <td>0.29</td>\n",
       "      <td>1.96</td>\n",
       "      <td>4.970236</td>\n",
       "      <td>30.6</td>\n",
       "      <td>11.850233</td>\n",
       "      <td>NaN</td>\n",
       "    </tr>\n",
       "    <tr>\n",
       "      <th>8</th>\n",
       "      <td>3116;3187</td>\n",
       "      <td>0.32</td>\n",
       "      <td>1.35</td>\n",
       "      <td>1.96</td>\n",
       "      <td>7.078610</td>\n",
       "      <td>51.0</td>\n",
       "      <td>13.120323</td>\n",
       "      <td>NaN</td>\n",
       "    </tr>\n",
       "    <tr>\n",
       "      <th>9</th>\n",
       "      <td>3187;3325</td>\n",
       "      <td>0.61</td>\n",
       "      <td>1.59</td>\n",
       "      <td>1.96</td>\n",
       "      <td>8.688762</td>\n",
       "      <td>53.0</td>\n",
       "      <td>14.607233</td>\n",
       "      <td>NaN</td>\n",
       "    </tr>\n",
       "    <tr>\n",
       "      <th>10</th>\n",
       "      <td>2852;2972</td>\n",
       "      <td>0.55</td>\n",
       "      <td>1.59</td>\n",
       "      <td>1.90</td>\n",
       "      <td>8.854941</td>\n",
       "      <td>51.0</td>\n",
       "      <td>NaN</td>\n",
       "      <td>NaN</td>\n",
       "    </tr>\n",
       "    <tr>\n",
       "      <th>11</th>\n",
       "      <td>940;890</td>\n",
       "      <td>0.68</td>\n",
       "      <td>0.46</td>\n",
       "      <td>1.90</td>\n",
       "      <td>4.320921</td>\n",
       "      <td>44.0</td>\n",
       "      <td>12.144805</td>\n",
       "      <td>NaN</td>\n",
       "    </tr>\n",
       "    <tr>\n",
       "      <th>12</th>\n",
       "      <td>940;831</td>\n",
       "      <td>1.16</td>\n",
       "      <td>0.93</td>\n",
       "      <td>1.90</td>\n",
       "      <td>7.825132</td>\n",
       "      <td>65.0</td>\n",
       "      <td>24.100315</td>\n",
       "      <td>NaN</td>\n",
       "    </tr>\n",
       "    <tr>\n",
       "      <th>13</th>\n",
       "      <td>940;1005</td>\n",
       "      <td>1.02</td>\n",
       "      <td>0.74</td>\n",
       "      <td>1.90</td>\n",
       "      <td>6.632414</td>\n",
       "      <td>51.0</td>\n",
       "      <td>11.784212</td>\n",
       "      <td>NaN</td>\n",
       "    </tr>\n",
       "    <tr>\n",
       "      <th>14</th>\n",
       "      <td>775;811</td>\n",
       "      <td>1.25</td>\n",
       "      <td>0.99</td>\n",
       "      <td>1.96</td>\n",
       "      <td>8.135476</td>\n",
       "      <td>68.0</td>\n",
       "      <td>24.312743</td>\n",
       "      <td>NaN</td>\n",
       "    </tr>\n",
       "    <tr>\n",
       "      <th>15</th>\n",
       "      <td>775;786</td>\n",
       "      <td>0.62</td>\n",
       "      <td>0.85</td>\n",
       "      <td>1.90</td>\n",
       "      <td>5.537332</td>\n",
       "      <td>42.5</td>\n",
       "      <td>15.007990</td>\n",
       "      <td>NaN</td>\n",
       "    </tr>\n",
       "    <tr>\n",
       "      <th>16</th>\n",
       "      <td>775;633</td>\n",
       "      <td>1.12</td>\n",
       "      <td>0.76</td>\n",
       "      <td>1.90</td>\n",
       "      <td>7.123758</td>\n",
       "      <td>71.0</td>\n",
       "      <td>25.072365</td>\n",
       "      <td>NaN</td>\n",
       "    </tr>\n",
       "    <tr>\n",
       "      <th>17</th>\n",
       "      <td>454;492</td>\n",
       "      <td>1.53</td>\n",
       "      <td>0.54</td>\n",
       "      <td>1.83</td>\n",
       "      <td>8.866110</td>\n",
       "      <td>62.0</td>\n",
       "      <td>18.373542</td>\n",
       "      <td>NaN</td>\n",
       "    </tr>\n",
       "    <tr>\n",
       "      <th>18</th>\n",
       "      <td>454;481</td>\n",
       "      <td>0.70</td>\n",
       "      <td>0.95</td>\n",
       "      <td>1.83</td>\n",
       "      <td>6.448319</td>\n",
       "      <td>39.0</td>\n",
       "      <td>58.732738</td>\n",
       "      <td>NaN</td>\n",
       "    </tr>\n",
       "    <tr>\n",
       "      <th>19</th>\n",
       "      <td>454;410</td>\n",
       "      <td>0.59</td>\n",
       "      <td>1.39</td>\n",
       "      <td>1.83</td>\n",
       "      <td>8.251547</td>\n",
       "      <td>67.0</td>\n",
       "      <td>17.976650</td>\n",
       "      <td>NaN</td>\n",
       "    </tr>\n",
       "    <tr>\n",
       "      <th>20</th>\n",
       "      <td>396;378</td>\n",
       "      <td>1.41</td>\n",
       "      <td>0.00</td>\n",
       "      <td>1.87</td>\n",
       "      <td>7.540107</td>\n",
       "      <td>56.0</td>\n",
       "      <td>11.809768</td>\n",
       "      <td>NaN</td>\n",
       "    </tr>\n",
       "    <tr>\n",
       "      <th>21</th>\n",
       "      <td>396;438</td>\n",
       "      <td>0.45</td>\n",
       "      <td>1.47</td>\n",
       "      <td>1.87</td>\n",
       "      <td>8.221045</td>\n",
       "      <td>42.0</td>\n",
       "      <td>11.287908</td>\n",
       "      <td>NaN</td>\n",
       "    </tr>\n",
       "    <tr>\n",
       "      <th>22</th>\n",
       "      <td>831;940</td>\n",
       "      <td>1.03</td>\n",
       "      <td>0.81</td>\n",
       "      <td>1.85</td>\n",
       "      <td>7.082938</td>\n",
       "      <td>65.0</td>\n",
       "      <td>23.047520</td>\n",
       "      <td>NaN</td>\n",
       "    </tr>\n",
       "    <tr>\n",
       "      <th>23</th>\n",
       "      <td>831;920</td>\n",
       "      <td>0.38</td>\n",
       "      <td>0.93</td>\n",
       "      <td>1.85</td>\n",
       "      <td>5.430482</td>\n",
       "      <td>57.0</td>\n",
       "      <td>19.345649</td>\n",
       "      <td>NaN</td>\n",
       "    </tr>\n",
       "    <tr>\n",
       "      <th>24</th>\n",
       "      <td>831;811</td>\n",
       "      <td>1.03</td>\n",
       "      <td>0.81</td>\n",
       "      <td>1.85</td>\n",
       "      <td>7.082938</td>\n",
       "      <td>63.0</td>\n",
       "      <td>27.015599</td>\n",
       "      <td>NaN</td>\n",
       "    </tr>\n",
       "    <tr>\n",
       "      <th>25</th>\n",
       "      <td>1239;1213</td>\n",
       "      <td>0.84</td>\n",
       "      <td>1.04</td>\n",
       "      <td>1.87</td>\n",
       "      <td>7.148995</td>\n",
       "      <td>58.0</td>\n",
       "      <td>22.359276</td>\n",
       "      <td>NaN</td>\n",
       "    </tr>\n",
       "    <tr>\n",
       "      <th>26</th>\n",
       "      <td>1239;1054</td>\n",
       "      <td>0.48</td>\n",
       "      <td>0.82</td>\n",
       "      <td>1.87</td>\n",
       "      <td>5.081058</td>\n",
       "      <td>53.0</td>\n",
       "      <td>16.376749</td>\n",
       "      <td>NaN</td>\n",
       "    </tr>\n",
       "    <tr>\n",
       "      <th>27</th>\n",
       "      <td>1239;1331</td>\n",
       "      <td>0.76</td>\n",
       "      <td>1.21</td>\n",
       "      <td>1.87</td>\n",
       "      <td>7.641073</td>\n",
       "      <td>65.0</td>\n",
       "      <td>20.994458</td>\n",
       "      <td>NaN</td>\n",
       "    </tr>\n",
       "    <tr>\n",
       "      <th>28</th>\n",
       "      <td>2145;2025</td>\n",
       "      <td>0.57</td>\n",
       "      <td>1.12</td>\n",
       "      <td>1.80</td>\n",
       "      <td>6.981678</td>\n",
       "      <td>54.0</td>\n",
       "      <td>15.643030</td>\n",
       "      <td>NaN</td>\n",
       "    </tr>\n",
       "    <tr>\n",
       "      <th>29</th>\n",
       "      <td>2145;2131</td>\n",
       "      <td>0.64</td>\n",
       "      <td>0.57</td>\n",
       "      <td>1.80</td>\n",
       "      <td>4.761276</td>\n",
       "      <td>36.0</td>\n",
       "      <td>14.259950</td>\n",
       "      <td>NaN</td>\n",
       "    </tr>\n",
       "    <tr>\n",
       "      <th>30</th>\n",
       "      <td>2131;2183</td>\n",
       "      <td>0.44</td>\n",
       "      <td>0.96</td>\n",
       "      <td>1.80</td>\n",
       "      <td>5.866835</td>\n",
       "      <td>45.0</td>\n",
       "      <td>11.463785</td>\n",
       "      <td>NaN</td>\n",
       "    </tr>\n",
       "    <tr>\n",
       "      <th>31</th>\n",
       "      <td>2468;2164</td>\n",
       "      <td>0.96</td>\n",
       "      <td>1.38</td>\n",
       "      <td>1.80</td>\n",
       "      <td>9.339284</td>\n",
       "      <td>52.0</td>\n",
       "      <td>12.405041</td>\n",
       "      <td>NaN</td>\n",
       "    </tr>\n",
       "    <tr>\n",
       "      <th>32</th>\n",
       "      <td>2468;2634</td>\n",
       "      <td>0.77</td>\n",
       "      <td>1.54</td>\n",
       "      <td>1.80</td>\n",
       "      <td>9.565402</td>\n",
       "      <td>50.0</td>\n",
       "      <td>9.966048</td>\n",
       "      <td>NaN</td>\n",
       "    </tr>\n",
       "    <tr>\n",
       "      <th>33</th>\n",
       "      <td>2468;2205</td>\n",
       "      <td>0.73</td>\n",
       "      <td>0.72</td>\n",
       "      <td>1.80</td>\n",
       "      <td>5.696273</td>\n",
       "      <td>42.0</td>\n",
       "      <td>6.972069</td>\n",
       "      <td>NaN</td>\n",
       "    </tr>\n",
       "    <tr>\n",
       "      <th>34</th>\n",
       "      <td>2901;3041</td>\n",
       "      <td>0.71</td>\n",
       "      <td>1.11</td>\n",
       "      <td>1.88</td>\n",
       "      <td>7.008774</td>\n",
       "      <td>54.0</td>\n",
       "      <td>NaN</td>\n",
       "      <td>NaN</td>\n",
       "    </tr>\n",
       "    <tr>\n",
       "      <th>35</th>\n",
       "      <td>2901;2903</td>\n",
       "      <td>1.03</td>\n",
       "      <td>0.00</td>\n",
       "      <td>1.88</td>\n",
       "      <td>5.478723</td>\n",
       "      <td>50.0</td>\n",
       "      <td>NaN</td>\n",
       "      <td>NaN</td>\n",
       "    </tr>\n",
       "    <tr>\n",
       "      <th>36</th>\n",
       "      <td>2901;2734</td>\n",
       "      <td>0.43</td>\n",
       "      <td>1.17</td>\n",
       "      <td>1.88</td>\n",
       "      <td>6.630400</td>\n",
       "      <td>49.0</td>\n",
       "      <td>NaN</td>\n",
       "      <td>NaN</td>\n",
       "    </tr>\n",
       "    <tr>\n",
       "      <th>37</th>\n",
       "      <td>3396;3375</td>\n",
       "      <td>0.89</td>\n",
       "      <td>0.91</td>\n",
       "      <td>1.82</td>\n",
       "      <td>6.993795</td>\n",
       "      <td>49.0</td>\n",
       "      <td>NaN</td>\n",
       "      <td>NaN</td>\n",
       "    </tr>\n",
       "    <tr>\n",
       "      <th>38</th>\n",
       "      <td>3396;3625</td>\n",
       "      <td>1.08</td>\n",
       "      <td>1.08</td>\n",
       "      <td>1.82</td>\n",
       "      <td>8.392037</td>\n",
       "      <td>60.0</td>\n",
       "      <td>NaN</td>\n",
       "      <td>NaN</td>\n",
       "    </tr>\n",
       "    <tr>\n",
       "      <th>39</th>\n",
       "      <td>3805;3658</td>\n",
       "      <td>1.18</td>\n",
       "      <td>0.95</td>\n",
       "      <td>1.82</td>\n",
       "      <td>8.323586</td>\n",
       "      <td>58.0</td>\n",
       "      <td>NaN</td>\n",
       "      <td>NaN</td>\n",
       "    </tr>\n",
       "    <tr>\n",
       "      <th>40</th>\n",
       "      <td>3805;3893</td>\n",
       "      <td>0.96</td>\n",
       "      <td>1.15</td>\n",
       "      <td>1.82</td>\n",
       "      <td>8.230945</td>\n",
       "      <td>55.0</td>\n",
       "      <td>NaN</td>\n",
       "      <td>NaN</td>\n",
       "    </tr>\n",
       "    <tr>\n",
       "      <th>41</th>\n",
       "      <td>3805;3767</td>\n",
       "      <td>0.41</td>\n",
       "      <td>0.61</td>\n",
       "      <td>1.82</td>\n",
       "      <td>4.038368</td>\n",
       "      <td>49.0</td>\n",
       "      <td>NaN</td>\n",
       "      <td>NaN</td>\n",
       "    </tr>\n",
       "    <tr>\n",
       "      <th>42</th>\n",
       "      <td>3893;3805</td>\n",
       "      <td>1.07</td>\n",
       "      <td>1.43</td>\n",
       "      <td>1.82</td>\n",
       "      <td>9.813193</td>\n",
       "      <td>55.0</td>\n",
       "      <td>NaN</td>\n",
       "      <td>NaN</td>\n",
       "    </tr>\n",
       "    <tr>\n",
       "      <th>43</th>\n",
       "      <td>3893;3992</td>\n",
       "      <td>1.18</td>\n",
       "      <td>1.34</td>\n",
       "      <td>1.82</td>\n",
       "      <td>9.810424</td>\n",
       "      <td>60.0</td>\n",
       "      <td>NaN</td>\n",
       "      <td>NaN</td>\n",
       "    </tr>\n",
       "    <tr>\n",
       "      <th>44</th>\n",
       "      <td>3893;3897</td>\n",
       "      <td>1.04</td>\n",
       "      <td>0.52</td>\n",
       "      <td>1.82</td>\n",
       "      <td>6.388766</td>\n",
       "      <td>34.0</td>\n",
       "      <td>NaN</td>\n",
       "      <td>NaN</td>\n",
       "    </tr>\n",
       "    <tr>\n",
       "      <th>45</th>\n",
       "      <td>4116;4095</td>\n",
       "      <td>1.44</td>\n",
       "      <td>0.19</td>\n",
       "      <td>1.82</td>\n",
       "      <td>7.980663</td>\n",
       "      <td>56.0</td>\n",
       "      <td>NaN</td>\n",
       "      <td>NaN</td>\n",
       "    </tr>\n",
       "    <tr>\n",
       "      <th>46</th>\n",
       "      <td>4018;3923</td>\n",
       "      <td>1.20</td>\n",
       "      <td>0.85</td>\n",
       "      <td>1.82</td>\n",
       "      <td>8.079913</td>\n",
       "      <td>57.0</td>\n",
       "      <td>NaN</td>\n",
       "      <td>NaN</td>\n",
       "    </tr>\n",
       "    <tr>\n",
       "      <th>47</th>\n",
       "      <td>3758;3812</td>\n",
       "      <td>0.49</td>\n",
       "      <td>1.06</td>\n",
       "      <td>1.82</td>\n",
       "      <td>6.416350</td>\n",
       "      <td>43.0</td>\n",
       "      <td>NaN</td>\n",
       "      <td>NaN</td>\n",
       "    </tr>\n",
       "    <tr>\n",
       "      <th>48</th>\n",
       "      <td>3758;3683</td>\n",
       "      <td>1.17</td>\n",
       "      <td>0.00</td>\n",
       "      <td>1.82</td>\n",
       "      <td>6.428571</td>\n",
       "      <td>36.0</td>\n",
       "      <td>NaN</td>\n",
       "      <td>NaN</td>\n",
       "    </tr>\n",
       "    <tr>\n",
       "      <th>49</th>\n",
       "      <td>3758;3747</td>\n",
       "      <td>0.82</td>\n",
       "      <td>0.54</td>\n",
       "      <td>1.82</td>\n",
       "      <td>5.394698</td>\n",
       "      <td>39.0</td>\n",
       "      <td>NaN</td>\n",
       "      <td>NaN</td>\n",
       "    </tr>\n",
       "    <tr>\n",
       "      <th>50</th>\n",
       "      <td>3593;3620</td>\n",
       "      <td>0.96</td>\n",
       "      <td>0.00</td>\n",
       "      <td>1.82</td>\n",
       "      <td>5.274725</td>\n",
       "      <td>35.7</td>\n",
       "      <td>NaN</td>\n",
       "      <td>NaN</td>\n",
       "    </tr>\n",
       "    <tr>\n",
       "      <th>51</th>\n",
       "      <td>3593;3229</td>\n",
       "      <td>0.29</td>\n",
       "      <td>1.03</td>\n",
       "      <td>1.82</td>\n",
       "      <td>5.879378</td>\n",
       "      <td>42.0</td>\n",
       "      <td>NaN</td>\n",
       "      <td>NaN</td>\n",
       "    </tr>\n",
       "    <tr>\n",
       "      <th>52</th>\n",
       "      <td>3593;3544</td>\n",
       "      <td>0.70</td>\n",
       "      <td>0.18</td>\n",
       "      <td>1.82</td>\n",
       "      <td>3.971277</td>\n",
       "      <td>29.0</td>\n",
       "      <td>NaN</td>\n",
       "      <td>NaN</td>\n",
       "    </tr>\n",
       "  </tbody>\n",
       "</table>\n",
       "</div>"
      ],
      "text/plain": [
       "         edge  realx  realy  real_scale    real_w  extracted_w  \\\n",
       "0   2040;1749   1.23   0.00        1.88  6.542553         52.0   \n",
       "1   2040;2378   1.08   0.59        1.84  6.688316         56.0   \n",
       "2   2040;1953   1.07   0.19        1.84  5.906186         46.0   \n",
       "3   1991;2237   0.34   1.22        1.84  6.883104         63.0   \n",
       "4   2497;2329   0.24   1.47        1.84  8.094908         62.0   \n",
       "5   2497;2459   0.97   0.43        1.84  5.766507         56.0   \n",
       "6   3765;4017   0.34   1.71        1.84  9.475400         61.0   \n",
       "7   3187;3179   0.93   0.29        1.96  4.970236         30.6   \n",
       "8   3116;3187   0.32   1.35        1.96  7.078610         51.0   \n",
       "9   3187;3325   0.61   1.59        1.96  8.688762         53.0   \n",
       "10  2852;2972   0.55   1.59        1.90  8.854941         51.0   \n",
       "11    940;890   0.68   0.46        1.90  4.320921         44.0   \n",
       "12    940;831   1.16   0.93        1.90  7.825132         65.0   \n",
       "13   940;1005   1.02   0.74        1.90  6.632414         51.0   \n",
       "14    775;811   1.25   0.99        1.96  8.135476         68.0   \n",
       "15    775;786   0.62   0.85        1.90  5.537332         42.5   \n",
       "16    775;633   1.12   0.76        1.90  7.123758         71.0   \n",
       "17    454;492   1.53   0.54        1.83  8.866110         62.0   \n",
       "18    454;481   0.70   0.95        1.83  6.448319         39.0   \n",
       "19    454;410   0.59   1.39        1.83  8.251547         67.0   \n",
       "20    396;378   1.41   0.00        1.87  7.540107         56.0   \n",
       "21    396;438   0.45   1.47        1.87  8.221045         42.0   \n",
       "22    831;940   1.03   0.81        1.85  7.082938         65.0   \n",
       "23    831;920   0.38   0.93        1.85  5.430482         57.0   \n",
       "24    831;811   1.03   0.81        1.85  7.082938         63.0   \n",
       "25  1239;1213   0.84   1.04        1.87  7.148995         58.0   \n",
       "26  1239;1054   0.48   0.82        1.87  5.081058         53.0   \n",
       "27  1239;1331   0.76   1.21        1.87  7.641073         65.0   \n",
       "28  2145;2025   0.57   1.12        1.80  6.981678         54.0   \n",
       "29  2145;2131   0.64   0.57        1.80  4.761276         36.0   \n",
       "30  2131;2183   0.44   0.96        1.80  5.866835         45.0   \n",
       "31  2468;2164   0.96   1.38        1.80  9.339284         52.0   \n",
       "32  2468;2634   0.77   1.54        1.80  9.565402         50.0   \n",
       "33  2468;2205   0.73   0.72        1.80  5.696273         42.0   \n",
       "34  2901;3041   0.71   1.11        1.88  7.008774         54.0   \n",
       "35  2901;2903   1.03   0.00        1.88  5.478723         50.0   \n",
       "36  2901;2734   0.43   1.17        1.88  6.630400         49.0   \n",
       "37  3396;3375   0.89   0.91        1.82  6.993795         49.0   \n",
       "38  3396;3625   1.08   1.08        1.82  8.392037         60.0   \n",
       "39  3805;3658   1.18   0.95        1.82  8.323586         58.0   \n",
       "40  3805;3893   0.96   1.15        1.82  8.230945         55.0   \n",
       "41  3805;3767   0.41   0.61        1.82  4.038368         49.0   \n",
       "42  3893;3805   1.07   1.43        1.82  9.813193         55.0   \n",
       "43  3893;3992   1.18   1.34        1.82  9.810424         60.0   \n",
       "44  3893;3897   1.04   0.52        1.82  6.388766         34.0   \n",
       "45  4116;4095   1.44   0.19        1.82  7.980663         56.0   \n",
       "46  4018;3923   1.20   0.85        1.82  8.079913         57.0   \n",
       "47  3758;3812   0.49   1.06        1.82  6.416350         43.0   \n",
       "48  3758;3683   1.17   0.00        1.82  6.428571         36.0   \n",
       "49  3758;3747   0.82   0.54        1.82  5.394698         39.0   \n",
       "50  3593;3620   0.96   0.00        1.82  5.274725         35.7   \n",
       "51  3593;3229   0.29   1.03        1.82  5.879378         42.0   \n",
       "52  3593;3544   0.70   0.18        1.82  3.971277         29.0   \n",
       "\n",
       "    Extracted_other  Extracted_gaussian  \n",
       "0         16.165781           47.573749  \n",
       "1         17.855333           51.382735  \n",
       "2         13.672368           36.288240  \n",
       "3         22.090684           54.975664  \n",
       "4         21.876426           58.588916  \n",
       "5         18.461902           48.734690  \n",
       "6         16.352954           48.025684  \n",
       "7         11.850233                 NaN  \n",
       "8         13.120323                 NaN  \n",
       "9         14.607233                 NaN  \n",
       "10              NaN                 NaN  \n",
       "11        12.144805                 NaN  \n",
       "12        24.100315                 NaN  \n",
       "13        11.784212                 NaN  \n",
       "14        24.312743                 NaN  \n",
       "15        15.007990                 NaN  \n",
       "16        25.072365                 NaN  \n",
       "17        18.373542                 NaN  \n",
       "18        58.732738                 NaN  \n",
       "19        17.976650                 NaN  \n",
       "20        11.809768                 NaN  \n",
       "21        11.287908                 NaN  \n",
       "22        23.047520                 NaN  \n",
       "23        19.345649                 NaN  \n",
       "24        27.015599                 NaN  \n",
       "25        22.359276                 NaN  \n",
       "26        16.376749                 NaN  \n",
       "27        20.994458                 NaN  \n",
       "28        15.643030                 NaN  \n",
       "29        14.259950                 NaN  \n",
       "30        11.463785                 NaN  \n",
       "31        12.405041                 NaN  \n",
       "32         9.966048                 NaN  \n",
       "33         6.972069                 NaN  \n",
       "34              NaN                 NaN  \n",
       "35              NaN                 NaN  \n",
       "36              NaN                 NaN  \n",
       "37              NaN                 NaN  \n",
       "38              NaN                 NaN  \n",
       "39              NaN                 NaN  \n",
       "40              NaN                 NaN  \n",
       "41              NaN                 NaN  \n",
       "42              NaN                 NaN  \n",
       "43              NaN                 NaN  \n",
       "44              NaN                 NaN  \n",
       "45              NaN                 NaN  \n",
       "46              NaN                 NaN  \n",
       "47              NaN                 NaN  \n",
       "48              NaN                 NaN  \n",
       "49              NaN                 NaN  \n",
       "50              NaN                 NaN  \n",
       "51              NaN                 NaN  \n",
       "52              NaN                 NaN  "
      ]
     },
     "execution_count": 27,
     "metadata": {},
     "output_type": "execute_result"
    }
   ],
   "source": [
    "table"
   ]
  },
  {
   "cell_type": "code",
   "execution_count": 21,
   "metadata": {},
   "outputs": [],
   "source": [
    "import pandas as pd\n",
    "table = pd.read_excel('width_calib.xls')\n",
    "edges= [(int(edge.split(';')[0]),int(edge.split(';')[1])) for edge in table['edge']]\n",
    "widths_real=[float(width) for width in table['real_w']]"
   ]
  },
  {
   "cell_type": "code",
   "execution_count": 12,
   "metadata": {},
   "outputs": [
    {
     "data": {
      "text/plain": [
       "8.854940558759782"
      ]
     },
     "execution_count": 12,
     "metadata": {},
     "output_type": "execute_result"
    }
   ],
   "source": [
    "widths_real[10]"
   ]
  },
  {
   "cell_type": "code",
   "execution_count": 24,
   "metadata": {},
   "outputs": [],
   "source": [
    "widths_real_select = []\n",
    "widths_calculated=[]\n",
    "for i,edge in enumerate(edges):\n",
    "    if edge!=(2852,2972):\n",
    "        node1 = edge[0]\n",
    "        node2 = edge[1]\n",
    "        widths = get_width_edge(Edge(Node(node1,exp),Node(node2,exp),exp),50,0)\n",
    "        if np.mean(list(widths.values()))>0:\n",
    "            widths_real_select.append(widths_real[i])\n",
    "            widths_calculated.append(np.mean(list(widths.values())))\n"
   ]
  },
  {
   "cell_type": "code",
   "execution_count": 32,
   "metadata": {},
   "outputs": [],
   "source": [
    "def linear(x, a):\n",
    "    return(a*np.sqrt(x))"
   ]
  },
  {
   "cell_type": "code",
   "execution_count": 28,
   "metadata": {},
   "outputs": [
    {
     "data": {
      "text/plain": [
       "array([2.3196552])"
      ]
     },
     "execution_count": 28,
     "metadata": {},
     "output_type": "execute_result"
    }
   ],
   "source": [
    "popt"
   ]
  },
  {
   "cell_type": "code",
   "execution_count": 33,
   "metadata": {},
   "outputs": [
    {
     "data": {
      "text/plain": [
       "0.5488928866020011"
      ]
     },
     "execution_count": 33,
     "metadata": {},
     "output_type": "execute_result"
    }
   ],
   "source": [
    "xdata = np.array(widths_calculated,dtype = np.float)\n",
    "ydata = np.array(widths_real_select,dtype = np.float)\n",
    "popt, pcov = curve_fit(linear, xdata, ydata)\n",
    "residuals = ydata- linear(xdata, *popt)\n",
    "ss_res = np.sum(residuals**2)\n",
    "ss_tot = np.sum((ydata-np.mean(ydata))**2)\n",
    "r_squared1 = 1 - (ss_res / ss_tot)\n",
    "r_squared1"
   ]
  },
  {
   "cell_type": "code",
   "execution_count": 32,
   "metadata": {},
   "outputs": [
    {
     "data": {
      "text/plain": [
       "129.64900177934882"
      ]
     },
     "execution_count": 32,
     "metadata": {},
     "output_type": "execute_result"
    }
   ],
   "source": [
    "ss_res"
   ]
  },
  {
   "cell_type": "code",
   "execution_count": 47,
   "metadata": {},
   "outputs": [
    {
     "data": {
      "text/plain": [
       "136.22634667384654"
      ]
     },
     "execution_count": 47,
     "metadata": {},
     "output_type": "execute_result"
    }
   ],
   "source": [
    "ss_res"
   ]
  },
  {
   "cell_type": "code",
   "execution_count": 34,
   "metadata": {},
   "outputs": [],
   "source": [
    "from sklearn.linear_model import LinearRegression\n",
    "\n",
    "X3 = np.array(widths_calculated,dtype=np.float).reshape(-1,1)\n",
    "y = widths_real_select\n",
    "reg3 = LinearRegression().fit(X3, y)\n",
    "# from sklearn.preprocessing import PolynomialFeatures\n",
    "# poly = PolynomialFeatures(degree=1)\n",
    "# Y = poly.fit_transform(np.array(y).reshape(-1,1))\n",
    "# reg3 = LinearRegression().fit(Y, np.array(widths_calculated,dtype=np.float))"
   ]
  },
  {
   "cell_type": "code",
   "execution_count": 49,
   "metadata": {},
   "outputs": [
    {
     "data": {
      "text/plain": [
       "(array([0.44203768]), 3.855806174867589, 0.5707659624384681)"
      ]
     },
     "execution_count": 49,
     "metadata": {},
     "output_type": "execute_result"
    }
   ],
   "source": [
    "reg3.coef_,reg3.intercept_,reg3.score(X3, y)"
   ]
  },
  {
   "cell_type": "code",
   "execution_count": 35,
   "metadata": {},
   "outputs": [
    {
     "name": "stderr",
     "output_type": "stream",
     "text": [
      "/home/cbisot/anaconda3/envs/test/lib/python3.7/site-packages/matplotlib/__init__.py:880: MatplotlibDeprecationWarning: \n",
      "nbagg.transparent\n",
      "  version, key, obj_type=\"rcparam\", alternative=alt_key)\n"
     ]
    },
    {
     "data": {
      "application/vnd.jupyter.widget-view+json": {
       "model_id": "85262bb61c5540158e10d66f88f44133",
       "version_major": 2,
       "version_minor": 0
      },
      "text/plain": [
       "Canvas(toolbar=Toolbar(toolitems=[('Home', 'Reset original view', 'home', 'home'), ('Back', 'Back to previous …"
      ]
     },
     "metadata": {},
     "output_type": "display_data"
    },
    {
     "data": {
      "text/plain": [
       "Text(0.5, 0, 'Integrated absorbance')"
      ]
     },
     "execution_count": 35,
     "metadata": {},
     "output_type": "execute_result"
    }
   ],
   "source": [
    "plt.close('all')\n",
    "fig = plt.figure()\n",
    "ax = fig.add_subplot(111)\n",
    "ax.scatter(xdata,ydata)\n",
    "fitx = np.linspace(0,15,20)\n",
    "ax.plot(fitx,popt[0]*np.sqrt(fitx))\n",
    "ax.set_ylabel('real width (um)')\n",
    "ax.set_xlabel('Integrated absorbance')\n",
    "# ax.set_ylim(0,11)\n",
    "# ax.set_xlim(0,15)"
   ]
  },
  {
   "cell_type": "code",
   "execution_count": 51,
   "metadata": {},
   "outputs": [
    {
     "data": {
      "text/plain": [
       "(array([ 0.00000000e+00, -4.56962549e-04,  4.01651304e-07]),\n",
       " 5.590293649436032,\n",
       " 0.48512666587843256)"
      ]
     },
     "execution_count": 51,
     "metadata": {},
     "output_type": "execute_result"
    }
   ],
   "source": [
    "reg3.coef_,reg3.intercept_,reg3.score(X4, y)"
   ]
  },
  {
   "cell_type": "code",
   "execution_count": null,
   "metadata": {},
   "outputs": [],
   "source": [
    "plt.close('all')\n",
    "fig = plt.figure()\n",
    "ax = fig.add_subplot(111)\n",
    "ax.scatter(widths_real_select,widths_calculated)\n",
    "fitx = np.linspace(0,10,20)\n",
    "fitx2 = poly.fit_transform(fitx.reshape(-1,1))[:,1:]\n",
    "ax.plot(fitx,reg3.predict(fitx2))\n",
    "ax.set_xlabel('real width (um)')\n",
    "ax.set_ylabel('Integrated absorbance')\n",
    "ax.set_ylim(0,15)\n",
    "ax.set_xlim(0,11)"
   ]
  },
  {
   "cell_type": "code",
   "execution_count": 10,
   "metadata": {},
   "outputs": [
    {
     "data": {
      "text/plain": [
       "(array([0.        , 1.24817564]), 1.0672243769101986, 0.4027549331413457)"
      ]
     },
     "execution_count": 10,
     "metadata": {},
     "output_type": "execute_result"
    }
   ],
   "source": [
    "reg3.coef_,reg3.intercept_,reg3.score(Y, X3)"
   ]
  },
  {
   "cell_type": "code",
   "execution_count": 58,
   "metadata": {
    "collapsed": true,
    "jupyter": {
     "outputs_hidden": true
    }
   },
   "outputs": [
    {
     "data": {
      "text/plain": [
       "array([[1.00000000e+00, 0.00000000e+00, 0.00000000e+00],\n",
       "       [1.00000000e+00, 1.84210526e+02, 3.39335180e+04],\n",
       "       [1.00000000e+00, 3.68421053e+02, 1.35734072e+05],\n",
       "       [1.00000000e+00, 5.52631579e+02, 3.05401662e+05],\n",
       "       [1.00000000e+00, 7.36842105e+02, 5.42936288e+05],\n",
       "       [1.00000000e+00, 9.21052632e+02, 8.48337950e+05],\n",
       "       [1.00000000e+00, 1.10526316e+03, 1.22160665e+06],\n",
       "       [1.00000000e+00, 1.28947368e+03, 1.66274238e+06],\n",
       "       [1.00000000e+00, 1.47368421e+03, 2.17174515e+06],\n",
       "       [1.00000000e+00, 1.65789474e+03, 2.74861496e+06],\n",
       "       [1.00000000e+00, 1.84210526e+03, 3.39335180e+06],\n",
       "       [1.00000000e+00, 2.02631579e+03, 4.10595568e+06],\n",
       "       [1.00000000e+00, 2.21052632e+03, 4.88642659e+06],\n",
       "       [1.00000000e+00, 2.39473684e+03, 5.73476454e+06],\n",
       "       [1.00000000e+00, 2.57894737e+03, 6.65096953e+06],\n",
       "       [1.00000000e+00, 2.76315789e+03, 7.63504155e+06],\n",
       "       [1.00000000e+00, 2.94736842e+03, 8.68698061e+06],\n",
       "       [1.00000000e+00, 3.13157895e+03, 9.80678670e+06],\n",
       "       [1.00000000e+00, 3.31578947e+03, 1.09944598e+07],\n",
       "       [1.00000000e+00, 3.50000000e+03, 1.22500000e+07]])"
      ]
     },
     "execution_count": 58,
     "metadata": {},
     "output_type": "execute_result"
    }
   ],
   "source": [
    "fitx"
   ]
  },
  {
   "cell_type": "code",
   "execution_count": 522,
   "metadata": {},
   "outputs": [
    {
     "data": {
      "application/vnd.jupyter.widget-view+json": {
       "model_id": "2df533dfdb5847949d495d4da6221b38",
       "version_major": 2,
       "version_minor": 0
      },
      "text/plain": [
       "Canvas(toolbar=Toolbar(toolitems=[('Home', 'Reset original view', 'home', 'home'), ('Back', 'Back to previous …"
      ]
     },
     "metadata": {},
     "output_type": "display_data"
    }
   ],
   "source": [
    "Node(2329,exp).show_source_image(0,0)"
   ]
  },
  {
   "cell_type": "code",
   "execution_count": 18,
   "metadata": {},
   "outputs": [
    {
     "data": {
      "text/plain": [
       "1.5694754464285716"
      ]
     },
     "execution_count": 18,
     "metadata": {},
     "output_type": "execute_result"
    }
   ],
   "source": [
    "(9/14)/4096*10000"
   ]
  },
  {
   "cell_type": "code",
   "execution_count": 518,
   "metadata": {},
   "outputs": [
    {
     "data": {
      "application/vnd.jupyter.widget-view+json": {
       "model_id": "7b99dd7b6ef44c70a9db0d31bc9c6983",
       "version_major": 2,
       "version_minor": 0
      },
      "text/plain": [
       "Canvas(toolbar=Toolbar(toolitems=[('Home', 'Reset original view', 'home', 'home'), ('Back', 'Back to previous …"
      ]
     },
     "metadata": {},
     "output_type": "display_data"
    }
   ],
   "source": [
    "Node(2329,exp).show_source_image(0,0)"
   ]
  },
  {
   "cell_type": "code",
   "execution_count": 513,
   "metadata": {},
   "outputs": [
    {
     "data": {
      "application/vnd.jupyter.widget-view+json": {
       "model_id": "1659c0a8310e46519ccd5437644c7e66",
       "version_major": 2,
       "version_minor": 0
      },
      "text/plain": [
       "Canvas(toolbar=Toolbar(toolitems=[('Home', 'Reset original view', 'home', 'home'), ('Back', 'Back to previous …"
      ]
     },
     "metadata": {},
     "output_type": "display_data"
    }
   ],
   "source": [
    "Node(4017,exp).show_source_image(0,0)"
   ]
  }
 ],
 "metadata": {
  "kernelspec": {
   "display_name": "Python 3",
   "language": "python",
   "name": "python3"
  },
  "language_info": {
   "codemirror_mode": {
    "name": "ipython",
    "version": 3
   },
   "file_extension": ".py",
   "mimetype": "text/x-python",
   "name": "python",
   "nbconvert_exporter": "python",
   "pygments_lexer": "ipython3",
   "version": "3.7.7"
  }
 },
 "nbformat": 4,
 "nbformat_minor": 4
}

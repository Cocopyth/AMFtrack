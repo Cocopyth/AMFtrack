{
 "cells": [
  {
   "cell_type": "code",
   "execution_count": null,
   "metadata": {},
   "outputs": [],
   "source": [
    "import numpy as np\n",
    "import matplotlib.pyplot as plt\n",
    "import matplotlib.cm as cm\n",
    "from PIL import Image\n",
    "import numpy as np\n",
    "from skimage.measure import profile_line\n",
    "from scipy import sparse\n",
    "from pymatreader import read_mat\n",
    "import pandas as pd\n",
    "import cProfile\n",
    "from util.sys import get_path\n",
    "from extract_graph import dic_to_sparse, from_sparse_to_graph, clean\n",
    "import networkx as nx\n",
    "from random import randrange\n",
    "import math\n",
    "\n",
    "root_path = (\n",
    "    r\"//sun.amolf.nl/shimizu-data/home-folder/oyartegalvez/Drive_AMFtopology/PRINCE\"\n",
    ")\n",
    "date_plate = \"/20200701_1957_Plate13\"\n",
    "end = \"/Img\"\n",
    "endskeleton = \"/Analysis/Skeleton.mat\"\n",
    "imname = \"/Img_r09_c12.tif\""
   ]
  },
  {
   "cell_type": "code",
   "execution_count": null,
   "metadata": {},
   "outputs": [],
   "source": [
    "plate = 13\n",
    "date1 = \"0703_1157\"\n",
    "date2 = \"0703_1557\"\n",
    "date3 = \"0703_1957\"\n",
    "row = 6\n",
    "column = 10"
   ]
  },
  {
   "cell_type": "code",
   "execution_count": null,
   "metadata": {},
   "outputs": [],
   "source": [
    "def find_width(p, threshold):\n",
    "    problem = False\n",
    "    arg = len(p) // 2\n",
    "    we_plot = randrange(1000)\n",
    "    while p[arg] <= threshold:\n",
    "        if arg <= 0:\n",
    "            #             we_plot=50\n",
    "            problem = True\n",
    "            break\n",
    "        arg -= 1\n",
    "    begin = arg\n",
    "    arg = len(p) // 2\n",
    "    while p[arg] <= threshold:\n",
    "        if arg >= len(p) - 1:\n",
    "            #             we_plot=50\n",
    "            problem = True\n",
    "            break\n",
    "        arg += 1\n",
    "    end = arg\n",
    "    return (begin, end, problem)"
   ]
  },
  {
   "cell_type": "code",
   "execution_count": null,
   "metadata": {},
   "outputs": [],
   "source": [
    "imtab1 = np.load(f\"Data/imbackrem_{date1}_{plate}_{row}_{column}.npy\")\n",
    "imtab2 = np.load(f\"Data/imbackrem_{date2}_{plate}_{row}_{column}.npy\")\n",
    "imtab3 = np.load(f\"Data/imbackrem_{date3}_{plate}_{row}_{column}.npy\")\n",
    "skeleton1 = np.load(f\"Data/skeletonized_{date1}_{plate}_{row}_{column}.npy\")\n",
    "skeleton2 = np.load(f\"Data/skeletonized_{date2}_{plate}_{row}_{column}.npy\")\n",
    "skeleton3 = np.load(f\"Data/skeletonized_{date3}_{plate}_{row}_{column}.npy\")"
   ]
  },
  {
   "cell_type": "code",
   "execution_count": null,
   "metadata": {},
   "outputs": [],
   "source": [
    "# from skimage._shared.utils import _validate_interpolation_order\n",
    "# from warnings import warn\n",
    "# from scipy import ndimage as ndi"
   ]
  },
  {
   "cell_type": "code",
   "execution_count": null,
   "metadata": {},
   "outputs": [],
   "source": [
    "def extract_width(graph_tab, imtab, size=10, width_factor=60):\n",
    "    #     def _line_profile_coordinates(src, dst, linewidth=1):\n",
    "    #         src_row, src_col = src = np.asarray(src, dtype=float)\n",
    "    #         dst_row, dst_col = dst = np.asarray(dst, dtype=float)\n",
    "    #         d_row, d_col = dst - src\n",
    "    #         theta = np.arctan2(d_row, d_col)\n",
    "\n",
    "    #         length = int(np.ceil(np.hypot(d_row, d_col) + 1))\n",
    "    #         # we add one above because we include the last point in the profile\n",
    "    #         # (in contrast to standard numpy indexing)\n",
    "    #         line_col = np.linspace(src_col, dst_col, length)\n",
    "    #         line_row = np.linspace(src_row, dst_row, length)\n",
    "\n",
    "    #         # we subtract 1 from linewidth to change from pixel-counting\n",
    "    #         # (make this line 3 pixels wide) to point distances (the\n",
    "    #         # distance between pixel centers)\n",
    "    #         col_width = (linewidth - 1) * np.sin(-theta) / 2\n",
    "    #         row_width = (linewidth - 1) * np.cos(theta) / 2\n",
    "    #         perp_rows = np.stack([np.linspace(row_i - row_width, row_i + row_width,\n",
    "    #                                           linewidth) for row_i in line_row])\n",
    "    #         perp_cols = np.stack([np.linspace(col_i - col_width, col_i + col_width,\n",
    "    #                                           linewidth) for col_i in line_col])\n",
    "    #         return np.stack([perp_rows, perp_cols])\n",
    "    #     def profile_line(image, src, dst, linewidth=1,\n",
    "    #                  order=None, mode=None, cval=0.0,\n",
    "    #                  *, reduce_func=np.mean):\n",
    "    #         order = _validate_interpolation_order(image.dtype, order)\n",
    "\n",
    "    #         if mode is None:\n",
    "    #             warn(\"Default out of bounds interpolation mode 'constant' is \"\n",
    "    #                  \"deprecated. In version 0.19 it will be set to 'reflect'. \"\n",
    "    #                  \"To avoid this warning, set `mode=` explicitly.\",\n",
    "    #                  FutureWarning, stacklevel=2)\n",
    "    #             mode = 'constant'\n",
    "\n",
    "    #         perp_lines = _line_profile_coordinates(src, dst, linewidth=linewidth)\n",
    "    #         if image.ndim == 3:\n",
    "    #             pixels = [ndi.map_coordinates(image[..., i], perp_lines,\n",
    "    #                                           prefilter=order > 1,\n",
    "    #                                           order=order, mode=mode,\n",
    "    #                                           cval=cval) for i in\n",
    "    #                       range(image.shape[2])]\n",
    "    #             pixels = np.transpose(np.asarray(pixels), (1, 2, 0))\n",
    "    #         else:\n",
    "    #             pixels = ndi.map_coordinates(image, perp_lines, prefilter=order > 1,\n",
    "    #                                          order=order, mode=mode, cval=cval)\n",
    "    #         # The outputted array with reduce_func=None gives an array where the\n",
    "    #         # row values (axis=1) are flipped. Here, we make this consistent.\n",
    "    #         pixels = np.flip(pixels, axis=1)\n",
    "\n",
    "    #         if reduce_func is None:\n",
    "    #             intensities = pixels\n",
    "    #         else:\n",
    "    #             try:\n",
    "    #                 intensities = reduce_func(pixels, axis=1)\n",
    "    #             except TypeError:  # function doesn't allow axis kwarg\n",
    "    #                 intensities = np.apply_along_axis(reduce_func, arr=pixels, axis=1)\n",
    "\n",
    "    #         return intensities\n",
    "    threshold = imtab.mean() - 20\n",
    "    width_doc = sparse.dok_matrix(imtab.shape, dtype=np.float32)\n",
    "    problem_doc = sparse.dok_matrix(imtab.shape, dtype=np.float32)\n",
    "    for index, row in graph_tab.iterrows():\n",
    "        pixel_list_ex = row[\"pixel_list\"]\n",
    "        for index in range(len(pixel_list_ex)):\n",
    "            sub_list = pixel_list_ex[max(0, index - size) : index + size]\n",
    "            orientation = np.array(sub_list[0]) - np.array(sub_list[-1])\n",
    "            perpendicular = (\n",
    "                [1, -orientation[0] / orientation[1]] if orientation[1] != 0 else [0, 1]\n",
    "            )\n",
    "            perpendicular_norm = np.array(perpendicular) / np.sqrt(\n",
    "                perpendicular[0] ** 2 + perpendicular[1] ** 2\n",
    "            )\n",
    "            pivot = pixel_list_ex[index]\n",
    "            point1 = np.around(np.array(pivot) + width_factor * perpendicular_norm)\n",
    "            point2 = np.around(np.array(pivot) - width_factor * perpendicular_norm)\n",
    "            point1 = point1.astype(int)\n",
    "            point2 = point2.astype(int)\n",
    "            p = profile_line(imtab, point1, point2, mode=\"constant\")\n",
    "            problem = False\n",
    "            arg = len(p) // 2\n",
    "            we_plot = randrange(1000)\n",
    "            while p[arg] <= threshold:\n",
    "                if arg <= 0:\n",
    "                    #             we_plot=50\n",
    "                    problem = True\n",
    "                    break\n",
    "                arg -= 1\n",
    "            begin = arg\n",
    "            arg = len(p) // 2\n",
    "            while p[arg] <= threshold:\n",
    "                if arg >= len(p) - 1:\n",
    "                    #             we_plot=50\n",
    "                    problem = True\n",
    "                    break\n",
    "                arg += 1\n",
    "            end = arg\n",
    "            width_doc[pivot] = math.dist(point1, point2) * (end - begin) / len(p)\n",
    "            if problem:\n",
    "                problem_doc[pivot] = True\n",
    "    #                 print(pixel_list_ex[index])\n",
    "    #                 print(point1,point2)\n",
    "    #                 plt.plot(p)\n",
    "    #                 plt.axvline(x=begin,color =\"red\")\n",
    "    #                 plt.axvline(x=end,color=\"red\")\n",
    "    #                 plt.show()\n",
    "    values = list(width_doc.values())\n",
    "    mean = np.mean(values)\n",
    "    std = np.std(values)\n",
    "    mini = min(values)\n",
    "    maxi = max(values)\n",
    "    width_doc_normalised = sparse.dok_matrix(imtab.shape, dtype=np.float32)\n",
    "    for key in width_doc.keys():\n",
    "        width_doc_normalised[key] = (width_doc[key] - mini) / (maxi - mini) * 255\n",
    "    return (width_doc_normalised, width_doc, problem_doc, mini, maxi)"
   ]
  },
  {
   "cell_type": "code",
   "execution_count": null,
   "metadata": {},
   "outputs": [],
   "source": [
    "clean_skeleton_1 = clean(skeleton1)\n",
    "doc_skeleton_1 = sparse.dok_matrix(clean_skeleton_1)\n",
    "graph_tab1 = from_sparse_to_graph(doc_skeleton_1)"
   ]
  },
  {
   "cell_type": "code",
   "execution_count": null,
   "metadata": {},
   "outputs": [],
   "source": [
    "width_doc_normalised1, width_doc1, problem_doc1, mini, maxi = extract_width(\n",
    "    graph_tab1, imtab1, width_factor=30\n",
    ")"
   ]
  },
  {
   "cell_type": "code",
   "execution_count": null,
   "metadata": {},
   "outputs": [],
   "source": [
    "np.save(f\"Data/width_{date1}_{plate}_{row}_{column}\", width_doc1.todense())"
   ]
  },
  {
   "cell_type": "code",
   "execution_count": null,
   "metadata": {},
   "outputs": [],
   "source": [
    "cProfile.run(\"extract_width(graph_tab2,imtab2,width_factor=30)\")"
   ]
  },
  {
   "cell_type": "code",
   "execution_count": null,
   "metadata": {},
   "outputs": [],
   "source": [
    "clean_skeleton_1 = clean(skeleton1)\n",
    "doc_skeleton_1 = sparse.dok_matrix(clean_skeleton_1)\n",
    "graph_tab1 = from_sparse_to_graph(doc_skeleton_1)"
   ]
  },
  {
   "cell_type": "code",
   "execution_count": null,
   "metadata": {},
   "outputs": [],
   "source": [
    "plt.hist(list(width_doc_normalised2.values()), 20)"
   ]
  },
  {
   "cell_type": "code",
   "execution_count": null,
   "metadata": {},
   "outputs": [],
   "source": [
    "for index, row in graph_tab.iterrows():\n",
    "    pixel_list_ex = row[\"pixel_list\"]"
   ]
  },
  {
   "cell_type": "code",
   "execution_count": null,
   "metadata": {},
   "outputs": [],
   "source": [
    "plt.scatter(np.array(pixel_list_ex))"
   ]
  },
  {
   "cell_type": "code",
   "execution_count": null,
   "metadata": {},
   "outputs": [],
   "source": [
    "len(pixel_list_ex)"
   ]
  },
  {
   "cell_type": "code",
   "execution_count": null,
   "metadata": {},
   "outputs": [],
   "source": [
    "index = 18"
   ]
  },
  {
   "cell_type": "code",
   "execution_count": null,
   "metadata": {},
   "outputs": [],
   "source": [
    "sub_list = pixel_list_ex[max(0, index - size) : index + size]"
   ]
  },
  {
   "cell_type": "code",
   "execution_count": null,
   "metadata": {},
   "outputs": [],
   "source": [
    "sub_list"
   ]
  },
  {
   "cell_type": "code",
   "execution_count": null,
   "metadata": {},
   "outputs": [],
   "source": [
    "orientation = np.array(sub_list[0]) - np.array(sub_list[-1])"
   ]
  },
  {
   "cell_type": "code",
   "execution_count": null,
   "metadata": {},
   "outputs": [],
   "source": [
    "perpendicular = [1, -orientation[1] / orientation[0]] if orientation[0] != 0 else [0, 1]"
   ]
  },
  {
   "cell_type": "code",
   "execution_count": null,
   "metadata": {},
   "outputs": [],
   "source": [
    "perpendicular_norm = np.array(perpendicular) / np.sqrt(\n",
    "    perpendicular[0] ** 2 + perpendicular[1] ** 2\n",
    ")"
   ]
  },
  {
   "cell_type": "code",
   "execution_count": null,
   "metadata": {},
   "outputs": [],
   "source": [
    "perpendicular_norm"
   ]
  },
  {
   "cell_type": "code",
   "execution_count": null,
   "metadata": {},
   "outputs": [],
   "source": [
    "width_factor = 30\n",
    "point1 = np.around(np.array(pixel_list_ex[index]) + width_factor * perpendicular_norm)\n",
    "point2 = np.around(np.array(pixel_list_ex[index]) - width_factor * perpendicular_norm)"
   ]
  },
  {
   "cell_type": "code",
   "execution_count": null,
   "metadata": {},
   "outputs": [],
   "source": [
    "point1 = point1.astype(int)\n",
    "point2 = point2.astype(int)"
   ]
  },
  {
   "cell_type": "code",
   "execution_count": null,
   "metadata": {},
   "outputs": [],
   "source": [
    "# point1 = (640,1240)\n",
    "# point2 = (632,1326)\n",
    "point1 = (1700, 1315)\n",
    "point2 = (1681, 1350)\n",
    "p = profile_line(imtab1, point1, point2)"
   ]
  },
  {
   "cell_type": "code",
   "execution_count": null,
   "metadata": {},
   "outputs": [],
   "source": [
    "p"
   ]
  },
  {
   "cell_type": "code",
   "execution_count": null,
   "metadata": {},
   "outputs": [],
   "source": [
    "plt.plot(p)\n",
    "begin, end = find_width(p)\n",
    "plt.axvline(x=begin, color=\"red\")\n",
    "plt.axvline(x=end, color=\"red\")"
   ]
  },
  {
   "cell_type": "code",
   "execution_count": null,
   "metadata": {},
   "outputs": [],
   "source": [
    "xs = []\n",
    "ys = []\n",
    "for pixel in sub_list:\n",
    "    xs.append(pixel[0])\n",
    "    ys.append(pixel[1])"
   ]
  },
  {
   "cell_type": "code",
   "execution_count": null,
   "metadata": {},
   "outputs": [],
   "source": [
    "plt.scatter(xs, ys)"
   ]
  },
  {
   "cell_type": "code",
   "execution_count": null,
   "metadata": {},
   "outputs": [],
   "source": []
  }
 ],
 "metadata": {
  "kernelspec": {
   "display_name": "working_sci",
   "language": "python",
   "name": "working_sci"
  },
  "language_info": {
   "codemirror_mode": {
    "name": "ipython",
    "version": 3
   },
   "file_extension": ".py",
   "mimetype": "text/x-python",
   "name": "python",
   "nbconvert_exporter": "python",
   "pygments_lexer": "ipython3",
   "version": "3.8.5"
  }
 },
 "nbformat": 4,
 "nbformat_minor": 4
}

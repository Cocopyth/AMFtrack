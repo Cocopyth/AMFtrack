{
 "cells": [
  {
   "cell_type": "code",
   "execution_count": 1,
   "metadata": {},
   "outputs": [],
   "source": [
    "%matplotlib widget\n",
    "import numpy as np\n",
    "import matplotlib.pyplot as plt\n",
    "import matplotlib.cm as cm\n",
    "from PIL import Image\n",
    "from scipy import sparse\n",
    "import cv2\n",
    "from pymatreader import read_mat\n",
    "\n",
    "# from extract_graph import dic_to_sparse\n",
    "from util.sys import get_path, shift_skeleton\n",
    "from plotutil import (\n",
    "    show_im,\n",
    "    overlap,\n",
    "    show_im_rgb,\n",
    "    plot_nodes,\n",
    "    plot_nodes_from_list,\n",
    "    plot_t_tp1,\n",
    ")\n",
    "from extract_graph import (\n",
    "    generate_graph_tab_from_skeleton,\n",
    "    generate_nx_graph_from_skeleton,\n",
    "    generate_skeleton,\n",
    "    clean,\n",
    ")\n",
    "import networkx as nx\n",
    "from node_id import (\n",
    "    second_identification,\n",
    "    whole_movement_identification,\n",
    "    first_identification,\n",
    "    relabel_nodes,\n",
    "    clean_nodes,\n",
    "    orient,\n",
    ")\n",
    "from extract_graph import (\n",
    "    dic_to_sparse,\n",
    "    from_sparse_to_graph,\n",
    "    generate_nx_graph,\n",
    "    prune_graph,\n",
    "    from_nx_to_tab,\n",
    "    from_nx_to_tab_matlab,\n",
    "    sparse_to_doc,\n",
    "    connections_pixel_list_to_tab,\n",
    "    transform_list,\n",
    ")\n",
    "from sparse_util import dilate, zhangSuen\n",
    "from realign import realign, reconnect\n",
    "from util.sys import get_path\n",
    "import pandas as pd\n",
    "from datetime import datetime, timedelta\n",
    "import ast\n",
    "from time import time\n",
    "import os\n",
    "from random import choice\n",
    "from pycpd import RigidRegistration, DeformableRegistration\n",
    "from cycpd import rigid_registration"
   ]
  },
  {
   "cell_type": "code",
   "execution_count": 17,
   "metadata": {},
   "outputs": [
    {
     "name": "stdout",
     "output_type": "stream",
     "text": [
      "[[ 0.83060772 -0.55685799]\n",
      " [ 0.55685799  0.83060772]] [[187.76557008]\n",
      " [529.49248594]]\n"
     ]
    },
    {
     "data": {
      "application/vnd.jupyter.widget-view+json": {
       "model_id": "61ca1fc470824af7869e9b332d8fdf4a",
       "version_major": 2,
       "version_minor": 0
      },
      "text/plain": [
       "Canvas(toolbar=Toolbar(toolitems=[('Home', 'Reset original view', 'home', 'home'), ('Back', 'Back to previous …"
      ]
     },
     "metadata": {},
     "output_type": "display_data"
    },
    {
     "data": {
      "text/plain": [
       "((2, 125), (2, 250))"
      ]
     },
     "execution_count": 17,
     "metadata": {},
     "output_type": "execute_result"
    }
   ],
   "source": [
    "plt.close(\"all\")\n",
    "X = []\n",
    "dimx = 1000\n",
    "dimy = 1000\n",
    "for i in range(dimx):\n",
    "    X.append((i, 0))\n",
    "    X.append((i, dimy))\n",
    "for i in range(dimy):\n",
    "    X.append((dimx, i))\n",
    "    X.append((0, i))\n",
    "X = np.transpose(np.array(X))\n",
    "angle = np.random.uniform(0, np.pi / 2)\n",
    "R = np.array([[np.cos(angle), -np.sin(angle)], [np.sin(angle), np.cos(angle)]])\n",
    "t = np.random.uniform(0, 1000, (2, 1))\n",
    "print(R, t)\n",
    "np.random.shuffle(np.transpose(X))\n",
    "Y = np.transpose(np.transpose(np.dot(R, X)) + np.transpose(t)) + np.random.uniform(\n",
    "    0, dimx / 10, (2, 4 * dimx)\n",
    ")\n",
    "np.random.shuffle(np.transpose(Y))\n",
    "Y = Y[:, : dimx // 4]\n",
    "X = X[:, : dimx // 8]\n",
    "fig = plt.figure(figsize=(10, 9))\n",
    "\n",
    "ax = fig.add_subplot(111)\n",
    "ax.scatter(X[0, :], X[1, :])\n",
    "ax.scatter(Y[0, :], Y[1, :])\n",
    "\n",
    "X.shape, Y.shape"
   ]
  },
  {
   "cell_type": "code",
   "execution_count": 18,
   "metadata": {
    "collapsed": true,
    "jupyter": {
     "outputs_hidden": true
    }
   },
   "outputs": [
    {
     "name": "stdout",
     "output_type": "stream",
     "text": [
      "Iteration:1\n",
      "ML:  1074.430; \tML change (error):  1074.430; \tSigma^2:232138.366; \tSigma^2 change:369215.420\n",
      "[                                                                        ]\n",
      "Iteration:2\n",
      "ML:   979.311; \tML change (error):    95.119; \tSigma^2:145109.691; \tSigma^2 change: 87028.675\n",
      "[=                                                                       ]\n",
      "Iteration:3\n",
      "ML:   954.853; \tML change (error):    24.458; \tSigma^2: 94188.562; \tSigma^2 change: 50921.129\n",
      "[==                                                                      ]\n",
      "Iteration:4\n",
      "ML:   934.021; \tML change (error):    20.832; \tSigma^2: 59339.295; \tSigma^2 change: 34849.267\n",
      "[==                                                                      ]\n",
      "Iteration:5\n",
      "ML:   911.389; \tML change (error):    22.632; \tSigma^2: 37000.180; \tSigma^2 change: 22339.116\n",
      "[===                                                                     ]\n",
      "Iteration:6\n",
      "ML:   889.029; \tML change (error):    22.360; \tSigma^2: 23940.575; \tSigma^2 change: 13059.605\n",
      "[====                                                                    ]\n",
      "Iteration:7\n",
      "ML:   870.246; \tML change (error):    18.783; \tSigma^2: 16497.830; \tSigma^2 change:  7442.745\n",
      "[=====                                                                   ]\n",
      "Iteration:8\n",
      "ML:   855.938; \tML change (error):    14.308; \tSigma^2: 12161.916; \tSigma^2 change:  4335.914\n",
      "[=====                                                                   ]\n",
      "Iteration:9\n",
      "ML:   845.287; \tML change (error):    10.651; \tSigma^2:  9510.424; \tSigma^2 change:  2651.493\n",
      "[======                                                                  ]\n",
      "Iteration:10\n",
      "ML:   837.028; \tML change (error):     8.259; \tSigma^2:  7792.060; \tSigma^2 change:  1718.364\n",
      "[=======                                                                 ]\n",
      "Iteration:11\n",
      "ML:   830.201; \tML change (error):     6.827; \tSigma^2:  6615.634; \tSigma^2 change:  1176.426\n",
      "[=======                                                                 ]\n",
      "Iteration:12\n",
      "ML:   824.243; \tML change (error):     5.958; \tSigma^2:  5766.446; \tSigma^2 change:   849.188\n",
      "[========                                                                ]\n",
      "Iteration:13\n",
      "ML:   818.816; \tML change (error):     5.427; \tSigma^2:  5119.783; \tSigma^2 change:   646.663\n",
      "[=========                                                               ]\n",
      "Iteration:14\n",
      "ML:   813.699; \tML change (error):     5.117; \tSigma^2:  4601.786; \tSigma^2 change:   517.997\n",
      "[==========                                                              ]\n",
      "Iteration:15\n",
      "ML:   808.744; \tML change (error):     4.955; \tSigma^2:  4168.582; \tSigma^2 change:   433.204\n",
      "[==========                                                              ]\n",
      "Iteration:16\n",
      "ML:   803.850; \tML change (error):     4.894; \tSigma^2:  3794.175; \tSigma^2 change:   374.406\n",
      "[===========                                                             ]\n",
      "Iteration:17\n",
      "ML:   798.942; \tML change (error):     4.908; \tSigma^2:  3463.186; \tSigma^2 change:   330.990\n",
      "[============                                                            ]\n",
      "Iteration:18\n",
      "ML:   793.959; \tML change (error):     4.982; \tSigma^2:  3165.979; \tSigma^2 change:   297.207\n",
      "[============                                                            ]\n",
      "Iteration:19\n",
      "ML:   788.839; \tML change (error):     5.120; \tSigma^2:  2895.436; \tSigma^2 change:   270.543\n",
      "[=============                                                           ]\n",
      "Iteration:20\n",
      "ML:   783.499; \tML change (error):     5.340; \tSigma^2:  2645.079; \tSigma^2 change:   250.356\n",
      "[==============                                                          ]\n",
      "Iteration:21\n",
      "ML:   777.829; \tML change (error):     5.670; \tSigma^2:  2407.581; \tSigma^2 change:   237.498\n",
      "[===============                                                         ]\n",
      "Iteration:22\n",
      "ML:   771.665; \tML change (error):     6.164; \tSigma^2:  2173.400; \tSigma^2 change:   234.182\n",
      "[===============                                                         ]\n",
      "Iteration:23\n",
      "ML:   764.780; \tML change (error):     6.885; \tSigma^2:  1932.010; \tSigma^2 change:   241.390\n",
      "[================                                                        ]\n",
      "Iteration:24\n",
      "ML:   756.948; \tML change (error):     7.832; \tSigma^2:  1678.611; \tSigma^2 change:   253.399\n",
      "[=================                                                       ]\n",
      "Iteration:25\n",
      "ML:   748.135; \tML change (error):     8.813; \tSigma^2:  1422.779; \tSigma^2 change:   255.832\n",
      "[==================                                                      ]\n",
      "Iteration:26\n",
      "ML:   738.758; \tML change (error):     9.377; \tSigma^2:  1186.271; \tSigma^2 change:   236.508\n",
      "[==================                                                      ]\n",
      "Iteration:27\n",
      "ML:   729.668; \tML change (error):     9.090; \tSigma^2:   987.147; \tSigma^2 change:   199.123\n",
      "[===================                                                     ]\n",
      "Iteration:28\n",
      "ML:   721.689; \tML change (error):     7.978; \tSigma^2:   830.418; \tSigma^2 change:   156.729\n",
      "[====================                                                    ]\n",
      "Iteration:29\n",
      "ML:   715.256; \tML change (error):     6.433; \tSigma^2:   712.306; \tSigma^2 change:   118.112\n",
      "[====================                                                    ]\n",
      "Iteration:30\n",
      "ML:   710.425; \tML change (error):     4.832; \tSigma^2:   625.830; \tSigma^2 change:    86.476\n",
      "[=====================                                                   ]\n",
      "Iteration:31\n",
      "ML:   706.987; \tML change (error):     3.438; \tSigma^2:   563.444; \tSigma^2 change:    62.387\n",
      "[======================                                                  ]\n",
      "Iteration:32\n",
      "ML:   704.606; \tML change (error):     2.381; \tSigma^2:   518.453; \tSigma^2 change:    44.991\n",
      "[=======================                                                 ]\n",
      "Iteration:33\n",
      "ML:   702.950; \tML change (error):     1.656; \tSigma^2:   485.693; \tSigma^2 change:    32.760\n",
      "[=======================                                                 ]\n",
      "Iteration:34\n",
      "ML:   701.771; \tML change (error):     1.178; \tSigma^2:   461.519; \tSigma^2 change:    24.174\n",
      "[========================                                                ]\n",
      "Iteration:35\n",
      "ML:   700.909; \tML change (error):     0.862; \tSigma^2:   443.451; \tSigma^2 change:    18.068\n",
      "[=========================                                               ]\n",
      "Iteration:36\n",
      "ML:   700.262; \tML change (error):     0.647; \tSigma^2:   429.803; \tSigma^2 change:    13.648\n",
      "[=========================                                               ]\n",
      "Iteration:37\n",
      "ML:   699.767; \tML change (error):     0.495; \tSigma^2:   419.405; \tSigma^2 change:    10.398\n",
      "[==========================                                              ]\n",
      "Iteration:38\n",
      "ML:   699.381; \tML change (error):     0.385; \tSigma^2:   411.427; \tSigma^2 change:     7.978\n",
      "[===========================                                             ]\n",
      "Iteration:39\n",
      "ML:   699.077; \tML change (error):     0.304; \tSigma^2:   405.265; \tSigma^2 change:     6.162\n",
      "[============================                                            ]\n",
      "Iteration:40\n",
      "ML:   698.834; \tML change (error):     0.243; \tSigma^2:   400.476; \tSigma^2 change:     4.789\n",
      "[============================                                            ]\n",
      "Iteration:41\n",
      "ML:   698.638; \tML change (error):     0.196; \tSigma^2:   396.730; \tSigma^2 change:     3.746\n",
      "[=============================                                           ]\n",
      "Iteration:42\n",
      "ML:   698.478; \tML change (error):     0.160; \tSigma^2:   393.779; \tSigma^2 change:     2.951\n",
      "[==============================                                          ]\n",
      "Iteration:43\n",
      "ML:   698.347; \tML change (error):     0.131; \tSigma^2:   391.437; \tSigma^2 change:     2.342\n",
      "[==============================                                          ]\n",
      "Iteration:44\n",
      "ML:   698.238; \tML change (error):     0.108; \tSigma^2:   389.561; \tSigma^2 change:     1.875\n",
      "[===============================                                         ]\n",
      "Iteration:45\n",
      "ML:   698.148; \tML change (error):     0.090; \tSigma^2:   388.046; \tSigma^2 change:     1.515\n",
      "[================================                                        ]\n",
      "Iteration:46\n",
      "ML:   698.073; \tML change (error):     0.075; \tSigma^2:   386.809; \tSigma^2 change:     1.237\n",
      "[=================================                                       ]\n",
      "Iteration:47\n",
      "ML:   698.010; \tML change (error):     0.063; \tSigma^2:   385.789; \tSigma^2 change:     1.020\n",
      "[=================================                                       ]\n",
      "Iteration:48\n",
      "ML:   697.957; \tML change (error):     0.053; \tSigma^2:   384.938; \tSigma^2 change:     0.851\n",
      "[==================================                                      ]\n",
      "Iteration:49\n",
      "ML:   697.912; \tML change (error):     0.045; \tSigma^2:   384.221; \tSigma^2 change:     0.718\n",
      "[===================================                                     ]\n",
      "Iteration:50\n",
      "ML:   697.874; \tML change (error):     0.038; \tSigma^2:   383.609; \tSigma^2 change:     0.612\n",
      "[====================================                                    ]\n",
      "Iteration:51\n",
      "ML:   697.842; \tML change (error):     0.032; \tSigma^2:   383.081; \tSigma^2 change:     0.528\n",
      "[====================================                                    ]\n",
      "Iteration:52\n",
      "ML:   697.815; \tML change (error):     0.027; \tSigma^2:   382.622; \tSigma^2 change:     0.459\n",
      "[=====================================                                   ]\n",
      "Iteration:53\n",
      "ML:   697.792; \tML change (error):     0.023; \tSigma^2:   382.218; \tSigma^2 change:     0.404\n",
      "[======================================                                  ]\n",
      "Iteration:54\n",
      "ML:   697.772; \tML change (error):     0.020; \tSigma^2:   381.859; \tSigma^2 change:     0.358\n",
      "[======================================                                  ]\n",
      "Iteration:55\n",
      "ML:   697.755; \tML change (error):     0.017; \tSigma^2:   381.539; \tSigma^2 change:     0.321\n",
      "[=======================================                                 ]\n",
      "Iteration:56\n",
      "ML:   697.741; \tML change (error):     0.014; \tSigma^2:   381.250; \tSigma^2 change:     0.289\n",
      "[========================================                                ]\n",
      "Iteration:57\n",
      "ML:   697.728; \tML change (error):     0.012; \tSigma^2:   380.989; \tSigma^2 change:     0.262\n",
      "[=========================================                               ]\n",
      "Iteration:58\n",
      "ML:   697.718; \tML change (error):     0.011; \tSigma^2:   380.750; \tSigma^2 change:     0.238\n",
      "[=========================================                               ]\n",
      "Iteration:59\n",
      "ML:   697.708; \tML change (error):     0.009; \tSigma^2:   380.532; \tSigma^2 change:     0.218\n",
      "[==========================================                              ]\n",
      "Iteration:60\n",
      "ML:   697.701; \tML change (error):     0.008; \tSigma^2:   380.332; \tSigma^2 change:     0.200\n",
      "[===========================================                             ]\n",
      "Iteration:61\n",
      "ML:   697.694; \tML change (error):     0.007; \tSigma^2:   380.147; \tSigma^2 change:     0.185\n",
      "[===========================================                             ]\n",
      "Iteration:62\n",
      "ML:   697.688; \tML change (error):     0.006; \tSigma^2:   379.976; \tSigma^2 change:     0.171\n",
      "[============================================                            ]\n",
      "Iteration:63\n",
      "ML:   697.683; \tML change (error):     0.005; \tSigma^2:   379.817; \tSigma^2 change:     0.158\n",
      "[=============================================                           ]\n",
      "Iteration:64\n",
      "ML:   697.679; \tML change (error):     0.004; \tSigma^2:   379.670; \tSigma^2 change:     0.147\n",
      "[==============================================                          ]\n",
      "Iteration:65\n",
      "ML:   697.675; \tML change (error):     0.004; \tSigma^2:   379.533; \tSigma^2 change:     0.137\n",
      "[==============================================                          ]\n",
      "Iteration:66\n",
      "ML:   697.672; \tML change (error):     0.003; \tSigma^2:   379.405; \tSigma^2 change:     0.128\n",
      "[===============================================                         ]\n",
      "Iteration:67\n",
      "ML:   697.669; \tML change (error):     0.003; \tSigma^2:   379.286; \tSigma^2 change:     0.119\n",
      "[================================================                        ]\n",
      "Iteration:68\n",
      "ML:   697.667; \tML change (error):     0.002; \tSigma^2:   379.175; \tSigma^2 change:     0.111\n",
      "[================================================                        ]\n",
      "Iteration:69\n",
      "ML:   697.665; \tML change (error):     0.002; \tSigma^2:   379.071; \tSigma^2 change:     0.104\n",
      "[=================================================                       ]\n",
      "Iteration:70\n",
      "ML:   697.663; \tML change (error):     0.002; \tSigma^2:   378.974; \tSigma^2 change:     0.097\n",
      "[==================================================                      ]\n",
      "Iteration:71\n",
      "ML:   697.661; \tML change (error):     0.002; \tSigma^2:   378.883; \tSigma^2 change:     0.091\n",
      "[===================================================                     ]\n",
      "Iteration:72\n",
      "ML:   697.660; \tML change (error):     0.001; \tSigma^2:   378.798; \tSigma^2 change:     0.085\n",
      "[===================================================                     ]\n",
      "Iteration:73\n",
      "ML:   697.659; \tML change (error):     0.001; \tSigma^2:   378.719; \tSigma^2 change:     0.080\n",
      "[====================================================                    ]\n",
      "Iteration:74\n",
      "ML:   697.658; \tML change (error):     0.001; \tSigma^2:   378.644; \tSigma^2 change:     0.074\n",
      "[=====================================================                   ]\n",
      "Iteration:75\n",
      "ML:   697.657; \tML change (error):     0.001; \tSigma^2:   378.575; \tSigma^2 change:     0.070\n",
      "[======================================================                  ]\n",
      "Iteration:76\n",
      "ML:   697.656; \tML change (error):     0.001; \tSigma^2:   378.509; \tSigma^2 change:     0.065\n",
      "[======================================================                  ]\n",
      "Iteration:77\n",
      "ML:   697.656; \tML change (error):     0.001; \tSigma^2:   378.448; \tSigma^2 change:     0.061\n",
      "[=======================================================                 ]\n",
      "Iteration:78\n",
      "ML:   697.655; \tML change (error):     0.001; \tSigma^2:   378.391; \tSigma^2 change:     0.057\n",
      "[========================================================                ]\n",
      "Iteration:79\n",
      "ML:   697.655; \tML change (error):     0.000; \tSigma^2:   378.337; \tSigma^2 change:     0.054\n",
      "[========================================================                ]\n",
      "Iteration:80\n",
      "ML:   697.654; \tML change (error):     0.000; \tSigma^2:   378.287; \tSigma^2 change:     0.050\n",
      "[=========================================================               ]\n",
      "Iteration:81\n",
      "ML:   697.654; \tML change (error):     0.000; \tSigma^2:   378.240; \tSigma^2 change:     0.047\n",
      "[==========================================================              ]\n",
      "Iteration:82\n",
      "ML:   697.653; \tML change (error):     0.000; \tSigma^2:   378.196; \tSigma^2 change:     0.044\n",
      "[===========================================================             ]\n",
      "Iteration:83\n",
      "ML:   697.653; \tML change (error):     0.000; \tSigma^2:   378.155; \tSigma^2 change:     0.041\n",
      "[===========================================================             ]\n",
      "Iteration:84\n",
      "ML:   697.653; \tML change (error):     0.000; \tSigma^2:   378.117; \tSigma^2 change:     0.039\n",
      "[============================================================            ]\n",
      "Iteration:85\n",
      "ML:   697.653; \tML change (error):     0.000; \tSigma^2:   378.080; \tSigma^2 change:     0.036\n",
      "[=============================================================           ]\n",
      "Iteration:86\n",
      "ML:   697.652; \tML change (error):     0.000; \tSigma^2:   378.047; \tSigma^2 change:     0.034\n",
      "[=============================================================           ]\n",
      "Iteration:87\n",
      "ML:   697.652; \tML change (error):     0.000; \tSigma^2:   378.015; \tSigma^2 change:     0.032\n",
      "[==============================================================          ]\n",
      "Iteration:88\n",
      "ML:   697.652; \tML change (error):     0.000; \tSigma^2:   377.986; \tSigma^2 change:     0.030\n",
      "[===============================================================         ]\n",
      "Iteration:89\n",
      "ML:   697.652; \tML change (error):     0.000; \tSigma^2:   377.958; \tSigma^2 change:     0.028\n",
      "[================================================================        ]\n",
      "Iteration:90\n",
      "ML:   697.652; \tML change (error):     0.000; \tSigma^2:   377.932; \tSigma^2 change:     0.026\n",
      "[================================================================        ]\n",
      "Iteration:91\n",
      "ML:   697.652; \tML change (error):     0.000; \tSigma^2:   377.908; \tSigma^2 change:     0.024\n",
      "[=================================================================       ]\n",
      "Iteration:92\n",
      "ML:   697.652; \tML change (error):     0.000; \tSigma^2:   377.885; \tSigma^2 change:     0.023\n",
      "[==================================================================      ]\n",
      "Iteration:93\n",
      "ML:   697.652; \tML change (error):     0.000; \tSigma^2:   377.864; \tSigma^2 change:     0.021\n",
      "[==================================================================      ]\n",
      "Iteration:94\n",
      "ML:   697.652; \tML change (error):     0.000; \tSigma^2:   377.844; \tSigma^2 change:     0.020\n",
      "[===================================================================     ]\n",
      "Iteration:95\n",
      "ML:   697.652; \tML change (error):     0.000; \tSigma^2:   377.826; \tSigma^2 change:     0.019\n",
      "[====================================================================    ]\n",
      "Iteration:96\n",
      "ML:   697.652; \tML change (error):     0.000; \tSigma^2:   377.808; \tSigma^2 change:     0.017\n",
      "[=====================================================================   ]\n",
      "Iteration:97\n",
      "ML:   697.651; \tML change (error):     0.000; \tSigma^2:   377.792; \tSigma^2 change:     0.016\n",
      "[=====================================================================   ]\n",
      "Iteration:98\n",
      "ML:   697.651; \tML change (error):     0.000; \tSigma^2:   377.777; \tSigma^2 change:     0.015\n",
      "[======================================================================  ]\n",
      "Iteration:99\n",
      "ML:   697.651; \tML change (error):     0.000; \tSigma^2:   377.763; \tSigma^2 change:     0.014\n",
      "[======================================================================= ]\n",
      "Iteration:100\n",
      "ML:   697.651; \tML change (error):     0.000; \tSigma^2:   377.750; \tSigma^2 change:     0.013\n",
      "[========================================================================]\n",
      "========================================================================\n",
      "Registration Performance Metrics\n",
      "========================================================================\n",
      "Time to initialize EM: 0.0002002716064453125\n",
      "Time to initialize registration: 4.935264587402344e-05\n",
      "Average Expectation Time:                    0.0014 +/- 0.0001\n",
      "Average Maximization Time:                   0.0006 +/- 0.0001\n",
      "Maximization Times - Per individual step\n",
      "Average Update Transform Time:               0.0004 +/- 0.0002\n",
      "Average Transform Time:                      0.0001 +/- 0.0002\n",
      "Average Update Variance Time:                0.0001 +/- 0.0000\n",
      "\n",
      "Number of iterations performed:          100\n",
      "Error at time of finish:                 2.676664905720827e-05\n"
     ]
    }
   ],
   "source": [
    "reg = rigid_registration(\n",
    "    **{\n",
    "        \"X\": np.transpose(X.astype(float)),\n",
    "        \"Y\": np.transpose(Y.astype(float)),\n",
    "        \"scale\": False,\n",
    "    }\n",
    ")\n",
    "out = reg.register()\n",
    "Rfound = reg.R[0:2, 0:2]\n",
    "tfound = np.dot(Rfound, reg.t[0:2])"
   ]
  },
  {
   "cell_type": "code",
   "execution_count": 86,
   "metadata": {},
   "outputs": [
    {
     "data": {
      "text/plain": [
       "(array([[ 0.95229604,  0.30517577],\n",
       "        [-0.30517577,  0.95229604]]),\n",
       " array([ 895.62959999, -364.20998122]),\n",
       " array([[ 0.30495782, -0.95236586],\n",
       "        [ 0.95236586,  0.30495782]]),\n",
       " array([[47.7737877],\n",
       "        [49.2362971]]))"
      ]
     },
     "execution_count": 86,
     "metadata": {},
     "output_type": "execute_result"
    }
   ],
   "source": [
    "Rfound, tfound, R, t"
   ]
  },
  {
   "cell_type": "code",
   "execution_count": 19,
   "metadata": {},
   "outputs": [
    {
     "data": {
      "application/vnd.jupyter.widget-view+json": {
       "model_id": "18f80262ae82466d9f76fd2d128ba65f",
       "version_major": 2,
       "version_minor": 0
      },
      "text/plain": [
       "Canvas(toolbar=Toolbar(toolitems=[('Home', 'Reset original view', 'home', 'home'), ('Back', 'Back to previous …"
      ]
     },
     "metadata": {},
     "output_type": "display_data"
    },
    {
     "data": {
      "text/plain": [
       "<matplotlib.collections.PathCollection at 0x2b309e1be5d0>"
      ]
     },
     "execution_count": 19,
     "metadata": {},
     "output_type": "execute_result"
    }
   ],
   "source": [
    "fig = plt.figure(figsize=(10, 9))\n",
    "ax = fig.add_subplot(111)\n",
    "Yrep = np.transpose(\n",
    "    np.transpose(np.dot(Rfound, np.transpose(np.transpose(X)))) - tfound\n",
    ")\n",
    "ax.scatter(np.transpose(Y)[:, 0], np.transpose(Y)[:, 1])\n",
    "ax.scatter(np.transpose(Yrep)[:, 0], np.transpose(Yrep)[:, 1])"
   ]
  },
  {
   "cell_type": "code",
   "execution_count": 38,
   "metadata": {},
   "outputs": [],
   "source": [
    "reg = RigidRegistration(**{\"X\": np.transpose(X), \"Y\": np.transpose(Y)})\n",
    "out = reg.register()\n",
    "Rfound = reg.R\n",
    "Yrep = np.dot(Rfound, np.transpose(np.transpose(X)))\n",
    "reg = RigidRegistration(**{\"X\": np.transpose(Yrep), \"Y\": np.transpose(Y)})\n",
    "out = reg.register()\n",
    "tfound = reg.t"
   ]
  },
  {
   "cell_type": "code",
   "execution_count": 52,
   "metadata": {},
   "outputs": [],
   "source": [
    "def try_dim(dim):\n",
    "    X = []\n",
    "    dimx = dim\n",
    "    dimy = dim\n",
    "    for i in range(dimx):\n",
    "        X.append((i, 0))\n",
    "        X.append((i, dimy))\n",
    "    for i in range(dimy):\n",
    "        X.append((dimx, i))\n",
    "        X.append((0, i))\n",
    "    X = np.transpose(np.array(X))\n",
    "    angle = np.random.uniform(0, np.pi / 2)\n",
    "    R = np.array([[np.cos(angle), -np.sin(angle)], [np.sin(angle), np.cos(angle)]])\n",
    "    t = np.random.uniform(0, 100, (2, 1))\n",
    "    print(R, t)\n",
    "    Y = np.transpose(np.transpose(np.dot(R, X)) + np.transpose(t)) + np.random.uniform(\n",
    "        0, 5, (2, 4 * dimx)\n",
    "    )\n",
    "    np.random.shuffle(np.transpose(Y))\n",
    "    reg = RigidRegistration(**{\"X\": np.transpose(X), \"Y\": np.transpose(Y)})\n",
    "    out = reg.register()\n",
    "    Rfound = reg.R\n",
    "    Yrep = np.dot(Rfound, np.transpose(np.transpose(X)))\n",
    "    reg = RigidRegistration(**{\"X\": np.transpose(Yrep), \"Y\": np.transpose(Y)})\n",
    "    out = reg.register()\n",
    "    tfound = reg.t"
   ]
  },
  {
   "cell_type": "code",
   "execution_count": null,
   "metadata": {},
   "outputs": [],
   "source": [
    "import cProfile\n",
    "\n",
    "cProfile.run(\"try_dim(2500)\")"
   ]
  },
  {
   "cell_type": "code",
   "execution_count": 5,
   "metadata": {},
   "outputs": [],
   "source": [
    "plate = 27\n",
    "directory = (\n",
    "    \"//sun.amolf.nl/shimizu-data/home-folder/oyartegalvez/Drive_AMFtopology/PRINCE\"\n",
    ")\n",
    "listdir = os.listdir(directory)\n",
    "list_dir_interest = [\n",
    "    name\n",
    "    for name in listdir\n",
    "    if name.split(\"_\")[-1] == f'Plate{0 if plate<10 else \"\"}{plate}'\n",
    "]\n",
    "ss = [name.split(\"_\")[0] for name in list_dir_interest]\n",
    "ff = [name.split(\"_\")[1] for name in list_dir_interest]\n",
    "dates_datetime = [\n",
    "    datetime(\n",
    "        year=int(ss[i][:4]),\n",
    "        month=int(ss[i][4:6]),\n",
    "        day=int(ss[i][6:8]),\n",
    "        hour=int(ff[i][0:2]),\n",
    "        minute=int(ff[i][2:4]),\n",
    "    )\n",
    "    for i in range(len(list_dir_interest))\n",
    "]\n",
    "dates_datetime.sort()\n",
    "dates_datetime_chosen = dates_datetime[1:6]\n",
    "dates = [\n",
    "    f'{0 if date.month<10 else \"\"}{date.month}{0 if date.day<10 else \"\"}{date.day}_{0 if date.hour<10 else \"\"}{date.hour}{0 if date.minute<10 else \"\"}{date.minute}'\n",
    "    for date in dates_datetime_chosen\n",
    "]\n",
    "mat_skels = [read_mat(get_path(date, plate, True))[\"skel\"] for date in dates]\n",
    "dic_skels = [dic_to_sparse(mat_skel) for mat_skel in mat_skels]\n",
    "skeleton_docs = [sparse_to_doc(sparse_skel) for sparse_skel in dic_skels]"
   ]
  },
  {
   "cell_type": "code",
   "execution_count": 23,
   "metadata": {},
   "outputs": [
    {
     "data": {
      "text/plain": [
       "[datetime.datetime(2020, 7, 13, 11, 44),\n",
       " datetime.datetime(2020, 7, 13, 15, 44),\n",
       " datetime.datetime(2020, 7, 13, 19, 44),\n",
       " datetime.datetime(2020, 7, 13, 23, 44),\n",
       " datetime.datetime(2020, 7, 14, 3, 44)]"
      ]
     },
     "execution_count": 23,
     "metadata": {},
     "output_type": "execute_result"
    }
   ],
   "source": [
    "dates_datetime_chosen"
   ]
  },
  {
   "cell_type": "code",
   "execution_count": 8,
   "metadata": {},
   "outputs": [],
   "source": [
    "non_zeros = skeleton_docs[1].keys()"
   ]
  },
  {
   "cell_type": "code",
   "execution_count": 9,
   "metadata": {},
   "outputs": [],
   "source": [
    "def get_neighbours(pixel, non_zero_pixel):\n",
    "    x = pixel[0]\n",
    "    y = pixel[1]\n",
    "    primary_neighbours = {(x + 1, y), (x - 1, y), (x, y + 1), (x, y - 1)}\n",
    "    secondary_neighbours = {\n",
    "        (x + 1, y - 1),\n",
    "        (x + 1, y + 1),\n",
    "        (x - 1, y + 1),\n",
    "        (x - 1, y - 1),\n",
    "    }\n",
    "    num_neighbours = 0\n",
    "    actual_neighbours = []\n",
    "    for neighbour in primary_neighbours:\n",
    "        if neighbour in non_zero_pixel:\n",
    "            num_neighbours += 1\n",
    "            xp = neighbour[0]\n",
    "            yp = neighbour[1]\n",
    "            primary_neighboursp = {\n",
    "                (xp + 1, yp),\n",
    "                (xp - 1, yp),\n",
    "                (xp, yp + 1),\n",
    "                (xp, yp - 1),\n",
    "            }\n",
    "            for neighbourp in primary_neighboursp:\n",
    "                secondary_neighbours.discard(neighbourp)\n",
    "            actual_neighbours.append(neighbour)\n",
    "    for neighbour in secondary_neighbours:\n",
    "        if neighbour in non_zero_pixel:\n",
    "            num_neighbours += 1\n",
    "            actual_neighbours.append(neighbour)\n",
    "    return (actual_neighbours, num_neighbours)\n",
    "\n",
    "\n",
    "def get_degree3_nodes(skel):\n",
    "    deg_3 = []\n",
    "    non_zero = skel.keys()\n",
    "    for pixel in non_zero:\n",
    "        n, num = get_neighbours(pixel, non_zero)\n",
    "        if num == 3:\n",
    "            deg_3.append(pixel)\n",
    "    return deg_3"
   ]
  },
  {
   "cell_type": "code",
   "execution_count": 20,
   "metadata": {},
   "outputs": [],
   "source": [
    "node_center = choice(deg_3)"
   ]
  },
  {
   "cell_type": "code",
   "execution_count": 21,
   "metadata": {},
   "outputs": [
    {
     "data": {
      "text/plain": [
       "(11337, 13152)"
      ]
     },
     "execution_count": 21,
     "metadata": {},
     "output_type": "execute_result"
    }
   ],
   "source": [
    "node_center"
   ]
  },
  {
   "cell_type": "code",
   "execution_count": 11,
   "metadata": {},
   "outputs": [],
   "source": [
    "deg_3 = get_degree3_nodes(skeleton_docs[1])"
   ]
  },
  {
   "cell_type": "code",
   "execution_count": 22,
   "metadata": {},
   "outputs": [
    {
     "data": {
      "application/vnd.jupyter.widget-view+json": {
       "model_id": "660dc366bdb54b6385ef80f9670acc9c",
       "version_major": 2,
       "version_minor": 0
      },
      "text/plain": [
       "Canvas(toolbar=Toolbar(toolitems=[('Home', 'Reset original view', 'home', 'home'), ('Back', 'Back to previous …"
      ]
     },
     "metadata": {},
     "output_type": "display_data"
    },
    {
     "data": {
      "text/plain": [
       "<matplotlib.image.AxesImage at 0x1dd1365d408>"
      ]
     },
     "execution_count": 22,
     "metadata": {},
     "output_type": "execute_result"
    }
   ],
   "source": [
    "plt.close(\"all\")\n",
    "fig = plt.figure(figsize=(10, 9))\n",
    "ax = fig.add_subplot(111)\n",
    "window = 1000\n",
    "ax.imshow(\n",
    "    dic_skels[1][\n",
    "        node_center[0] - window : node_center[0] + window,\n",
    "        node_center[1] - window : node_center[1] + window,\n",
    "    ].todense()\n",
    ")"
   ]
  },
  {
   "cell_type": "code",
   "execution_count": 38,
   "metadata": {},
   "outputs": [],
   "source": [
    "def find_common_group_nodes(\n",
    "    Sa, Sb, degree3_nodesa, degree3_nodesb, posa, posb, R0, t0, window=500, maxdist=50\n",
    "):\n",
    "    common_nodes_a = []\n",
    "    common_nodes_b = []\n",
    "    common_centroida = []\n",
    "    common_centroidb = []\n",
    "    t = time()\n",
    "    posarottrans = {\n",
    "        key: np.round(\n",
    "            np.transpose(np.dot(R0, np.transpose(np.array(posa[key]))) + t0)\n",
    "        ).astype(np.int)\n",
    "        for key in degree3_nodesa\n",
    "    }\n",
    "    print(\"rotating translating\", time() - t)\n",
    "    for node in degree3_nodesa:\n",
    "        t = time()\n",
    "        posanchor = posarottrans[node]\n",
    "        potential_surroundinga = Sa[\n",
    "            posanchor[0] - 2 * window : posanchor[0] + 2 * window,\n",
    "            posanchor[1] - 2 * window : posanchor[1] + 2 * window,\n",
    "        ]\n",
    "        potential_surroundingb = Sb[\n",
    "            posanchor[0] - 2 * window : posanchor[0] + 2 * window,\n",
    "            posanchor[1] - 2 * window : posanchor[1] + 2 * window,\n",
    "        ]\n",
    "        #         print(\"candidates\",len(potential_surroundinga.data))\n",
    "        #         print(\"finding_potential_surrounding\",time()-t)\n",
    "        t = time()\n",
    "        surrounding_nodesa = [\n",
    "            node\n",
    "            for node in potential_surroundinga.data\n",
    "            if (\n",
    "                posanchor[0] - window\n",
    "                < posarottrans[int(node)][0]\n",
    "                < posanchor[0] + window\n",
    "                and posanchor[1] - window\n",
    "                < posarottrans[int(node)][1]\n",
    "                < posanchor[1] + window\n",
    "            )\n",
    "        ]\n",
    "        surrounding_nodesb = [\n",
    "            node\n",
    "            for node in potential_surroundingb.data\n",
    "            if (\n",
    "                posanchor[0] - window < posb[int(node)][0] < posanchor[0] + window\n",
    "                and posanchor[1] - window < posb[int(node)][1] < posanchor[1] + window\n",
    "            )\n",
    "        ]\n",
    "        #         print(\"finding_surrounding\",time()-t)\n",
    "        t = time()\n",
    "        if len(surrounding_nodesa) == len(surrounding_nodesb):\n",
    "            possurroundinga = [posarottrans[node] for node in surrounding_nodesa]\n",
    "            possurroundingb = [posb[node] for node in surrounding_nodesb]\n",
    "            centroida = np.mean(possurroundinga, axis=0)\n",
    "            centroidb = np.mean(possurroundingb, axis=0)\n",
    "            if np.linalg.norm(centroida - centroidb) <= maxdist:\n",
    "                common_centroida.append(centroida)\n",
    "                common_centroidb.append(centroidb)\n",
    "    return (common_centroida, common_centroidb)\n",
    "\n",
    "\n",
    "def realign2(\n",
    "    skeleton1, skeleton2, convergence_threshold, window=500, maxdist=50, save=\"\"\n",
    "):\n",
    "    converged = False\n",
    "    tim = time()\n",
    "    nx_graphA, posA = generate_nx_graph_from_skeleton(skeleton1)\n",
    "    nx_graphB, posB = generate_nx_graph_from_skeleton(skeleton2)\n",
    "    print(\"generate_nx_graph_from_skeleton, t=\", tim - time())\n",
    "    tim = time()\n",
    "    t0 = np.array([0, 0])\n",
    "    R0 = np.identity(2)\n",
    "    degree3_nodesa = [node for node in nx_graphA if nx_graphA.degree(node) == 3]\n",
    "    degree3_nodesb = [node for node in nx_graphB if nx_graphB.degree(node) == 3]\n",
    "    print(\"lennodes=\", len(degree3_nodesa))\n",
    "    Sa = sparse.csr_matrix((22000, 46000))\n",
    "    Sb = sparse.csr_matrix((22000, 46000))\n",
    "    for node in degree3_nodesa:\n",
    "        Sa[posA[node][0], posA[node][1]] = node\n",
    "    for node in degree3_nodesb:\n",
    "        Sb[posB[node][0], posB[node][1]] = node\n",
    "    while not converged:\n",
    "        listeA, listeB = find_common_group_nodes(\n",
    "            Sa,\n",
    "            Sb,\n",
    "            degree3_nodesa,\n",
    "            degree3_nodesb,\n",
    "            posA,\n",
    "            posB,\n",
    "            R0,\n",
    "            t0,\n",
    "            maxdist=maxdist,\n",
    "            window=window,\n",
    "        )\n",
    "        H = np.dot(\n",
    "            np.transpose(np.array(listeA) - np.mean(listeA, axis=0)),\n",
    "            np.array(listeB) - np.mean(listeB, axis=0),\n",
    "        )\n",
    "        U, S, V = np.linalg.svd(H)\n",
    "        R = np.dot(V, np.transpose(U))\n",
    "        t = np.mean(listeB, axis=0) - np.dot(R, np.mean(listeA, axis=0))\n",
    "        print(\"number_common_nodes_found :\", len(listeA))\n",
    "        if np.linalg.norm(t) <= convergence_threshold:\n",
    "            converged = True\n",
    "        R0 = np.dot(R, R0)\n",
    "        t0 = t + t0\n",
    "    print(\"Find R and T, t=\", tim - time())\n",
    "    tim = time()\n",
    "    skeleton_transformed = transform_skeleton(skeleton1, R0, t0)\n",
    "    skeleton_transformed = dilate(skeleton_transformed)\n",
    "    skeleton_transformed = zhangSuen(skeleton_transformed)\n",
    "    print(\"transform, dilate and thin, t=\", tim - time())\n",
    "    tim = time()\n",
    "    if len(save) >= 0:\n",
    "        from_nx_to_tab(*generate_nx_graph_from_skeleton(skeleton_transformed)).to_csv(\n",
    "            save + \"_raw_aligned_skeleton.csv\"\n",
    "        )\n",
    "        np.savetxt(save + \"rot.txt\", R0)\n",
    "        np.savetxt(save + \"trans.txt\", t0)\n",
    "    print(\"R0=\", R0, \"t0=\", t0)\n",
    "    return skeleton_transformed"
   ]
  },
  {
   "cell_type": "code",
   "execution_count": 39,
   "metadata": {},
   "outputs": [],
   "source": [
    "def transform_skeleton(skeleton_doc, Rot, trans):\n",
    "    transformed_skeleton = {}\n",
    "    transformed_keys = np.round(\n",
    "        np.transpose(np.dot(Rot, np.transpose(np.array(list(skeleton_doc.keys())))))\n",
    "        + trans\n",
    "    ).astype(np.int)\n",
    "    i = 0\n",
    "    for pixel in list(transformed_keys):\n",
    "        i += 1\n",
    "        transformed_skeleton[(pixel[0], pixel[1])] = 1\n",
    "    return transformed_skeleton"
   ]
  },
  {
   "cell_type": "code",
   "execution_count": 31,
   "metadata": {},
   "outputs": [],
   "source": [
    "S = sparse.csr_matrix((22000, 46000))\n",
    "S[12000:14000, 12000:14000] = 1"
   ]
  },
  {
   "cell_type": "code",
   "execution_count": 34,
   "metadata": {},
   "outputs": [
    {
     "data": {
      "text/plain": [
       "array([1., 1., 1., ..., 1., 1., 1.])"
      ]
     },
     "execution_count": 34,
     "metadata": {},
     "output_type": "execute_result"
    }
   ],
   "source": [
    "S.data"
   ]
  },
  {
   "cell_type": "code",
   "execution_count": null,
   "metadata": {},
   "outputs": [],
   "source": [
    "import cProfile\n",
    "\n",
    "cProfile.run(\"S[12000:14000,12000:14000]\")"
   ]
  },
  {
   "cell_type": "code",
   "execution_count": 40,
   "metadata": {},
   "outputs": [
    {
     "name": "stdout",
     "output_type": "stream",
     "text": [
      "generate_nx_graph_from_skeleton, t= -586.73597240448\n",
      "lennodes= 13604\n",
      "rotating translating 0.16901159286499023\n",
      "number_common_nodes_found : 328\n",
      "rotating translating 0.2030162811279297\n",
      "number_common_nodes_found : 402\n",
      "rotating translating 0.18901276588439941\n",
      "number_common_nodes_found : 480\n",
      "rotating translating 0.1980135440826416\n",
      "number_common_nodes_found : 635\n",
      "rotating translating 0.18399858474731445\n",
      "number_common_nodes_found : 743\n",
      "rotating translating 0.1960141658782959\n",
      "number_common_nodes_found : 834\n",
      "rotating translating 0.1940152645111084\n",
      "number_common_nodes_found : 832\n",
      "rotating translating 0.20001506805419922\n",
      "number_common_nodes_found : 872\n",
      "rotating translating 0.19201445579528809\n",
      "number_common_nodes_found : 904\n",
      "Find R and T, t= -203.0311245918274\n",
      "transform, dilate and thin, t= -374.64126110076904\n",
      "R0= [[ 0.99999879  0.00155542]\n",
      " [-0.00155542  0.99999879]] t0= [ -2.50883403 -72.90254211]\n"
     ]
    }
   ],
   "source": [
    "r = realign2(skeleton_docs[4], skeleton_docs[3], 2, save=\"Data/\", maxdist=70)"
   ]
  },
  {
   "cell_type": "code",
   "execution_count": 24,
   "metadata": {},
   "outputs": [
    {
     "name": "stdout",
     "output_type": "stream",
     "text": [
      "number_common_nodes_found : 356\n",
      "number_common_nodes_found : 465\n",
      "number_common_nodes_found : 489\n",
      "992004 993235\n",
      "995666 995743\n",
      "133466 3100\n",
      "1376 924\n",
      "606 475\n",
      "410 375\n",
      "306 273\n",
      "216 196\n",
      "169 125\n",
      "122 105\n",
      "90 69\n",
      "72 58\n",
      "60 45\n",
      "48 36\n",
      "38 27\n",
      "27 21\n",
      "22 16\n",
      "15 11\n",
      "9 6\n",
      "3 0\n",
      "0 0\n",
      "R0= [[ 9.99999527e-01 -9.72716200e-04]\n",
      " [ 9.72716200e-04  9.99999527e-01]] t0= [42.25170203  6.08798379]\n"
     ]
    }
   ],
   "source": [
    "r0 = realign(skeleton_docs[4], nx_graph_pivot, pos_pivot, 2, save=\"Data/\", maxdist=150)"
   ]
  },
  {
   "cell_type": "code",
   "execution_count": 25,
   "metadata": {},
   "outputs": [
    {
     "name": "stdout",
     "output_type": "stream",
     "text": [
      "number_common_nodes_found : 290\n",
      "number_common_nodes_found : 435\n",
      "number_common_nodes_found : 454\n",
      "number_common_nodes_found : 465\n",
      "992012 993234\n",
      "995675 995706\n",
      "133613 3119\n",
      "1377 925\n",
      "612 475\n",
      "410 375\n",
      "306 273\n",
      "216 196\n",
      "169 125\n",
      "122 105\n",
      "90 69\n",
      "72 58\n",
      "60 45\n",
      "48 36\n",
      "38 27\n",
      "27 21\n",
      "22 16\n",
      "15 11\n",
      "9 6\n",
      "3 0\n",
      "0 0\n",
      "R0= [[ 0.99999924 -0.00123398]\n",
      " [ 0.00123398  0.99999924]] t0= [47.7829256   3.93269705]\n"
     ]
    }
   ],
   "source": [
    "r1 = realign(skeleton_docs[4], nx_graph_pivot, pos_pivot, 2, save=\"Data/\", maxdist=50)"
   ]
  },
  {
   "cell_type": "code",
   "execution_count": 27,
   "metadata": {},
   "outputs": [],
   "source": [
    "def make_sparse(dico):\n",
    "    dim = (20800, 46000)\n",
    "    skel = sparse.dok_matrix(dim, dtype=bool)\n",
    "    for key in dico.keys():\n",
    "        skel[key] = dico[key]\n",
    "    return skel"
   ]
  },
  {
   "cell_type": "code",
   "execution_count": 31,
   "metadata": {},
   "outputs": [],
   "source": [
    "skeletons = [make_sparse(skeleton_docs[0]), make_sparse(r0), make_sparse(r1)]"
   ]
  },
  {
   "cell_type": "code",
   "execution_count": 37,
   "metadata": {},
   "outputs": [],
   "source": [
    "from plotutil import plot_t_tp1, compress_skeleton\n",
    "\n",
    "factor = 5\n",
    "final_pictures = [\n",
    "    compress_skeleton(skeletons[i], factor) >= 1 for i in range(len(skeletons))\n",
    "]"
   ]
  },
  {
   "cell_type": "code",
   "execution_count": 43,
   "metadata": {},
   "outputs": [
    {
     "data": {
      "application/vnd.jupyter.widget-view+json": {
       "model_id": "11801b855cd84ec5aeff9a49c4b7a8d2",
       "version_major": 2,
       "version_minor": 0
      },
      "text/plain": [
       "Canvas(toolbar=Toolbar(toolitems=[('Home', 'Reset original view', 'home', 'home'), ('Back', 'Back to previous …"
      ]
     },
     "metadata": {},
     "output_type": "display_data"
    }
   ],
   "source": [
    "plot_t_tp1(\n",
    "    [],\n",
    "    [],\n",
    "    None,\n",
    "    None,\n",
    "    final_pictures[0],\n",
    "    final_pictures[2],\n",
    "    compress=5,\n",
    ")"
   ]
  },
  {
   "cell_type": "code",
   "execution_count": 41,
   "metadata": {},
   "outputs": [],
   "source": [
    "plt.close(\"all\")"
   ]
  },
  {
   "cell_type": "code",
   "execution_count": 22,
   "metadata": {},
   "outputs": [
    {
     "name": "stdout",
     "output_type": "stream",
     "text": [
      "number_common_nodes_found : 55\n",
      "number_common_nodes_found : 170\n",
      "number_common_nodes_found : 417\n",
      "number_common_nodes_found : 453\n",
      "991937 993213\n",
      "995616 995688\n",
      "133668 3119\n",
      "1389 929\n",
      "613 475\n",
      "410 375\n",
      "306 273\n",
      "216 196\n",
      "169 125\n",
      "122 105\n",
      "88 67\n",
      "72 58\n",
      "60 45\n",
      "48 36\n",
      "38 27\n",
      "27 21\n",
      "22 16\n",
      "15 11\n",
      "9 6\n",
      "3 0\n",
      "0 0\n",
      "R0= [[ 0.99999923 -0.00124197]\n",
      " [ 0.00124197  0.99999923]] t0= [48.09796892  3.71029006]\n"
     ]
    }
   ],
   "source": [
    "r = realign(skeleton_docs[4], nx_graph_pivot, pos_pivot, 2, save=\"Data/\", maxdist=30)"
   ]
  },
  {
   "cell_type": "code",
   "execution_count": 23,
   "metadata": {},
   "outputs": [
    {
     "name": "stdout",
     "output_type": "stream",
     "text": [
      "number_common_nodes_found : 209\n",
      "number_common_nodes_found : 405\n",
      "number_common_nodes_found : 450\n",
      "number_common_nodes_found : 458\n",
      "991983 993211\n",
      "995655 995687\n",
      "133685 3099\n",
      "1373 930\n",
      "619 476\n",
      "410 375\n",
      "306 273\n",
      "216 196\n",
      "169 125\n",
      "122 105\n",
      "90 69\n",
      "72 58\n",
      "60 45\n",
      "48 36\n",
      "38 27\n",
      "27 21\n",
      "22 16\n",
      "15 11\n",
      "9 6\n",
      "3 0\n",
      "0 0\n",
      "R0= [[ 0.99999925 -0.00122743]\n",
      " [ 0.00122743  0.99999925]] t0= [47.84393103  4.08633907]\n"
     ]
    }
   ],
   "source": [
    "r = realign(skeleton_docs[4], nx_graph_pivot, pos_pivot, 2, save=\"Data/\", maxdist=40)"
   ]
  }
 ],
 "metadata": {
  "kernelspec": {
   "display_name": "Python 3",
   "language": "python",
   "name": "python3"
  },
  "language_info": {
   "codemirror_mode": {
    "name": "ipython",
    "version": 3
   },
   "file_extension": ".py",
   "mimetype": "text/x-python",
   "name": "python",
   "nbconvert_exporter": "python",
   "pygments_lexer": "ipython3",
   "version": "3.7.7"
  }
 },
 "nbformat": 4,
 "nbformat_minor": 4
}

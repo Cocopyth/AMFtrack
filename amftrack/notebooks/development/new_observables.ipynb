{
 "cells": [
  {
   "cell_type": "code",
   "execution_count": 1,
   "id": "2d5b3b71-8dec-4a7e-8494-50c7c8c18e4e",
   "metadata": {},
   "outputs": [],
   "source": [
    "%matplotlib widget\n",
    "import sys  \n",
    "sys.path.insert(0, '/home/cbisot/pycode/MscThesis/')\n",
    "from amftrack.pipeline.functions.post_processing import *\n",
    "import pandas as pd\n",
    "import ast\n",
    "from amftrack.plotutil import plot_t_tp1\n",
    "from scipy import sparse\n",
    "from datetime import datetime\n",
    "from amftrack.pipeline.functions.node_id import orient\n",
    "import pickle\n",
    "import scipy.io as sio\n",
    "from pymatreader import read_mat\n",
    "from matplotlib import colors\n",
    "import cv2\n",
    "import imageio\n",
    "import matplotlib.pyplot as plt\n",
    "import numpy as np\n",
    "from skimage.filters import frangi\n",
    "from skimage import filters\n",
    "from random import choice\n",
    "import scipy.sparse\n",
    "import os\n",
    "from amftrack.pipeline.functions.extract_graph import from_sparse_to_graph, generate_nx_graph, sparse_to_doc\n",
    "from skimage.feature import hessian_matrix_det\n",
    "from amftrack.pipeline.functions.experiment_class_surf import Experiment, Edge, Node, Hyphae, plot_raw_plus, get_hyphae\n",
    "from amftrack.pipeline.paths.directory import run_parallel, find_state, directory_scratch, directory_project\n",
    "from amftrack.notebooks.analysis.util import * \n",
    "from scipy import stats\n",
    "from scipy.ndimage.filters import uniform_filter1d\n",
    "from amftrack.pipeline.functions.hyphae_id_surf import get_pixel_growth_and_new_children\n",
    "from collections import Counter\n",
    "from IPython.display import clear_output\n",
    "from amftrack.notebooks.analysis.data_info import *\n",
    "from IPython.core.interactiveshell import InteractiveShell\n",
    "InteractiveShell.ast_node_interactivity = \"all\"\n",
    "plt.rcParams.update({\n",
    "    \"font.family\": \"verdana\",\n",
    "'font.weight' : 'normal',\n",
    "'font.size': 20})\n",
    "from amftrack.plotutil import plot_node_skel\n",
    "from amftrack.notebooks.validation.util import *\n",
    "from amftrack.pipeline.paths.directory import *\n",
    "from amftrack.util import *\n",
    "import pickle\n",
    "from amftrack.pipeline.functions.extract_observable import *\n",
    "from amftrack.pipeline.functions.post_processing import load_study_zone\n",
    "\n"
   ]
  },
  {
   "cell_type": "code",
   "execution_count": 2,
   "id": "89f2fa67-79e2-4f1d-a770-a5547a721c8e",
   "metadata": {},
   "outputs": [],
   "source": [
    "directory = directory_project\n",
    "# update_analysis_info(directory)\n",
    "analysis_info = get_current_analysis(directory)"
   ]
  },
  {
   "cell_type": "code",
   "execution_count": 3,
   "id": "b9a99cb5-96af-4fa1-9681-309f211c98be",
   "metadata": {},
   "outputs": [
    {
     "data": {
      "text/plain": [
       "{10, 22, 26, 76, 80, 88, 91, 94, 102, 152, 790, 792, 799, 800, 808}"
      ]
     },
     "execution_count": 3,
     "metadata": {},
     "output_type": "execute_result"
    }
   ],
   "source": [
    "select_v7 = analysis_info.loc[(analysis_info['version']=='Version7')]\n",
    "plates = set(select_v7['Plate'].values)\n",
    "plates\n",
    "selection = []\n",
    "for plate in plates:\n",
    "    select_folder = np.min(select_v7.loc[(select_v7['Plate']==plate)]['folder_analysis'])\n",
    "    selection.append(select_folder)\n",
    "select = select_v7.loc[(select_v7['folder_analysis'].isin(selection))]"
   ]
  },
  {
   "cell_type": "code",
   "execution_count": 16,
   "id": "2d152eb9-7f4b-4d80-bd50-8f028e1fc266",
   "metadata": {
    "tags": []
   },
   "outputs": [
    {
     "name": "stdout",
     "output_type": "stream",
     "text": [
      "0 22\n",
      "0 22\n",
      "1 808\n",
      "2 76\n",
      "3 26\n",
      "4 80\n",
      "5 799\n"
     ]
    }
   ],
   "source": [
    "num = 5\n",
    "rows = [row for (index, row) in select.iterrows()]\n",
    "for index,row in enumerate(rows):\n",
    "    path = f'{directory}{row[\"folder_analysis\"]}'\n",
    "    print(index,row[\"Plate\"])\n",
    "    try:\n",
    "        a = np.load(f'{path}/center.npy')\n",
    "    except:\n",
    "        print(index,row[\"Plate\"])\n",
    "    if index == num:\n",
    "        path_exp = f'{directory}{row[\"path_exp\"]}'\n",
    "        exp = pickle.load(open(path_exp, \"rb\"))\n",
    "        exp.dates.sort()\n",
    "        break"
   ]
  },
  {
   "cell_type": "code",
   "execution_count": 17,
   "id": "b413ed69-6bda-4324-8fa3-9b5c7defae6a",
   "metadata": {},
   "outputs": [],
   "source": [
    "load_study_zone(exp)"
   ]
  },
  {
   "cell_type": "code",
   "execution_count": 18,
   "id": "9cd83a34-a92b-4514-a03f-a38f228c2acb",
   "metadata": {},
   "outputs": [
    {
     "data": {
      "text/plain": [
       "('area_study', 57.73580341031251)"
      ]
     },
     "execution_count": 18,
     "metadata": {},
     "output_type": "execute_result"
    }
   ],
   "source": [
    "t = 40\n",
    "get_area_study_zone(exp,t,[])"
   ]
  },
  {
   "cell_type": "code",
   "execution_count": 20,
   "id": "0902e88f-4cbf-4c27-9a93-4be52cab2461",
   "metadata": {},
   "outputs": [
    {
     "data": {
      "text/plain": [
       "('area_sep_comp', 31.146899416875005)"
      ]
     },
     "execution_count": 20,
     "metadata": {},
     "output_type": "execute_result"
    }
   ],
   "source": [
    "get_area_separate_connected_components(exp,t,[])"
   ]
  },
  {
   "cell_type": "code",
   "execution_count": null,
   "id": "a303b1b6-b007-41a4-b0e9-27d9c4d77875",
   "metadata": {},
   "outputs": [],
   "source": []
  },
  {
   "cell_type": "code",
   "execution_count": 21,
   "id": "ee95cfc9-21c4-4153-a922-7b0be0cdcf0b",
   "metadata": {},
   "outputs": [
    {
     "data": {
      "text/plain": [
       "<matplotlib.collections.PathCollection at 0x14e0e4da9710>"
      ]
     },
     "execution_count": 21,
     "metadata": {},
     "output_type": "execute_result"
    },
    {
     "name": "stderr",
     "output_type": "stream",
     "text": [
      "findfont: Font family ['verdana'] not found. Falling back to DejaVu Sans.\n"
     ]
    },
    {
     "data": {
      "application/vnd.jupyter.widget-view+json": {
       "model_id": "599b236bce354b0aa8df4c36c7819cc0",
       "version_major": 2,
       "version_minor": 0
      },
      "image/png": "[encoded data removed]",
      "text/plain": [
       "Canvas(toolbar=Toolbar(toolitems=[('Home', 'Reset original view', 'home', 'home'), ('Back', 'Back to previous …"
      ]
     },
     "metadata": {},
     "output_type": "display_data"
    }
   ],
   "source": [
    "x= range(exp.ts)\n",
    "y = [get_area_separate_connected_components(exp,t,[])[1] for t in x]\n",
    "fig = plt.figure(figsize=(6, 6))\n",
    "ax = fig.add_subplot(111)\n",
    "ax.scatter(x,y)"
   ]
  }
 ],
 "metadata": {
  "kernelspec": {
   "display_name": "Python 3 (ipykernel)",
   "language": "python",
   "name": "python3"
  },
  "language_info": {
   "codemirror_mode": {
    "name": "ipython",
    "version": 3
   },
   "file_extension": ".py",
   "mimetype": "text/x-python",
   "name": "python",
   "nbconvert_exporter": "python",
   "pygments_lexer": "ipython3",
   "version": "3.7.11"
  }
 },
 "nbformat": 4,
 "nbformat_minor": 5
}

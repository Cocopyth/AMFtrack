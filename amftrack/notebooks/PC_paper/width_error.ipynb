{
 "cells": [
  {
   "cell_type": "code",
   "execution_count": null,
   "id": "e8fbca37-4a7a-40eb-8431-5ae7183214cd",
   "metadata": {
    "tags": []
   },
   "outputs": [],
   "source": [
    "%load_ext autoreload\n",
    "%matplotlib widget\n",
    "%autoreload 2\n",
    "from amftrack.pipeline.launching.run_super import (\n",
    "    run_launcher,\n",
    "    directory_scratch,\n",
    "    directory_project,\n",
    "    directory_project,\n",
    "    run_parallel_stitch,\n",
    "    run_parallel_transfer,\n",
    ")\n",
    "import os\n",
    "from amftrack.util.sys import (\n",
    "    get_dates_datetime,\n",
    "    get_dirname,\n",
    "    temp_path,\n",
    "    get_data_info,\n",
    "    update_plate_info,\n",
    "    update_analysis_info,\n",
    "    get_analysis_info,\n",
    "    get_current_folders,\n",
    "    get_folders_by_plate_id,\n",
    ")\n",
    "from time import time_ns\n",
    "from datetime import datetime\n",
    "\n",
    "from amftrack.pipeline.functions.image_processing.experiment_class_surf import (\n",
    "    load_graphs,\n",
    ")\n",
    "from amftrack.pipeline.functions.post_processing.extract_study_zone import (\n",
    "    load_study_zone,\n",
    ")\n",
    "from amftrack.pipeline.functions.image_processing.experiment_util import (\n",
    "    get_random_edge,\n",
    "    distance_point_edge,\n",
    "    plot_edge,\n",
    "    plot_edge_cropped,\n",
    "    find_nearest_edge,\n",
    "    get_edge_from_node_labels,\n",
    "    plot_full_image_with_features,\n",
    "    get_all_edges,\n",
    "    get_all_nodes,\n",
    "    find_neighboring_edges,\n",
    "    reconstruct_image,\n",
    "    reconstruct_skeletton_from_edges,\n",
    "    reconstruct_skeletton_unicolor,\n",
    "    plot_edge_color_value,\n",
    "    reconstruct_image_from_general,\n",
    "    plot_full,\n",
    "    find_nearest_edge,\n",
    ")\n",
    "from amftrack.pipeline.functions.image_processing.extract_width_fun import (\n",
    "    get_width_info_new,\n",
    ")\n",
    "import matplotlib.pyplot as plt\n",
    "from amftrack.pipeline.functions.image_processing.experiment_class_surf import (\n",
    "    Experiment,\n",
    "    save_graphs,\n",
    ")\n",
    "import pandas as pd\n",
    "from amftrack.pipeline.functions.spore_processing.spore_id import make_spore_data\n",
    "from amftrack.pipeline.functions.image_processing.hyphae_id_surf import (\n",
    "    resolve_anastomosis_crossing_by_root,\n",
    ")\n",
    "from amftrack.pipeline.functions.post_processing.time_hypha import *\n",
    "from amftrack.pipeline.functions.image_processing.experiment_class_surf import (\n",
    "    Node,\n",
    "    Edge,\n",
    "    Hyphae,\n",
    ")\n",
    "from datetime import datetime\n",
    "from matplotlib import cm\n",
    "from amftrack.pipeline.functions.post_processing.extract_study_zone import (\n",
    "    load_study_zone,\n",
    ")\n",
    "from IPython.display import clear_output\n",
    "from amftrack.pipeline.functions.post_processing.exp_plot import *"
   ]
  },
  {
   "cell_type": "code",
   "execution_count": null,
   "id": "90447ae1-7e27-4df6-b1bd-0d4c1ef82d3d",
   "metadata": {
    "tags": []
   },
   "outputs": [],
   "source": [
    "directory_targ = directory_project\n",
    "directory_targ = directory_targ + \"fig1/\"\n",
    "\n",
    "update_plate_info(directory_targ, local=True)\n",
    "all_folders = get_current_folders(directory_targ, local=True)"
   ]
  },
  {
   "cell_type": "code",
   "execution_count": null,
   "id": "0db0c822-9c02-4a62-9c77-bae53a5795e0",
   "metadata": {
    "tags": []
   },
   "outputs": [],
   "source": [
    "stds = np.load(\"rmses.npy\") / 2\n",
    "\n",
    "intervals = np.load(\"intervals.npy\")\n",
    "\n",
    "\n",
    "def find_index(r):\n",
    "    if r <= intervals[0]:\n",
    "        return 0\n",
    "    for i in range(len(intervals) - 1):\n",
    "        if r >= intervals[i] and r < intervals[i + 1]:\n",
    "            return i\n",
    "    return len(intervals) - 2  # Returns -1 if no such index exists\n",
    "\n",
    "\n",
    "def noise_fun(r):\n",
    "    index = find_index(r)\n",
    "    std = stds[index]\n",
    "    # return(np.random.normal(0,0.7))\n",
    "    return np.random.normal(0, std)"
   ]
  },
  {
   "cell_type": "code",
   "execution_count": null,
   "id": "5387927a-b1c7-49c4-9e1c-5044329e308d",
   "metadata": {
    "jupyter": {
     "outputs_hidden": true
    },
    "tags": []
   },
   "outputs": [],
   "source": [
    "plates = all_folders[\"unique_id\"].unique()\n",
    "errors = []\n",
    "for plate in plates:\n",
    "    folders = all_folders.loc[all_folders[\"unique_id\"] == plate]\n",
    "    folders = folders.loc[folders[\"/Analysis/nx_graph_pruned_width.p\"] == True]\n",
    "    folders = folders.sort_values(by=\"datetime\")\n",
    "\n",
    "    exp = Experiment(directory_targ)\n",
    "    i = 0\n",
    "    exp.load(folders.iloc[i : i + 1], suffix=\"_width\")\n",
    "    for t in range(exp.ts):\n",
    "        exp.load_tile_information(t)\n",
    "    G = exp.nx_graph[t]\n",
    "    components = nx.connected_components(G)\n",
    "\n",
    "    # Find the largest connected component\n",
    "    largest_component = max(components, key=len)\n",
    "\n",
    "    # Create a new graph representing the largest connected component\n",
    "    largest_component_graph = G.subgraph(largest_component)\n",
    "    exp.nx_graph[t] = largest_component_graph\n",
    "    edges = get_all_edges(exp, t)\n",
    "    lengths = [edge.length_um(t) for edge in edges]\n",
    "    radiuses = [edge.width(t) / 2 for edge in edges]\n",
    "    radiuses = np.array(radiuses)\n",
    "    noises = np.array([noise_fun(r) for r in radiuses])\n",
    "    biovolume1 = np.sum(radiuses**2 * np.pi * lengths)\n",
    "    biovolume2 = np.sum((radiuses + noises) ** 2 * np.pi * lengths)\n",
    "    print(biovolume1)\n",
    "    errors.append((biovolume2 - biovolume1) / biovolume1)\n",
    "    # break"
   ]
  },
  {
   "cell_type": "code",
   "execution_count": null,
   "id": "a5a09039-f8b3-4617-b48c-476ce8f8e35c",
   "metadata": {
    "tags": []
   },
   "outputs": [],
   "source": [
    "fig, ax = plt.subplots()\n",
    "ax.hist(np.array(errors) * 100)"
   ]
  },
  {
   "cell_type": "code",
   "execution_count": null,
   "id": "75c9db9b-7386-4be4-b9e4-79d164e0c743",
   "metadata": {
    "tags": []
   },
   "outputs": [],
   "source": [
    "np.mean(errors)"
   ]
  },
  {
   "cell_type": "code",
   "execution_count": null,
   "id": "a34c2d5a-770e-434c-8e47-0d85d584d446",
   "metadata": {
    "tags": []
   },
   "outputs": [],
   "source": [
    "vmax = 12\n",
    "vmin = 2\n",
    "plot_edge_color_value(\n",
    "    exp,\n",
    "    t,\n",
    "    lambda edge: edge.width(t),\n",
    "    cmap=cm.get_cmap(\"cool\", 100),\n",
    "    v_min=vmin,\n",
    "    v_max=vmax,\n",
    "    plot_cmap=True,\n",
    "    show_background=False,\n",
    "    dilation=10,\n",
    "    figsize=(12, 7),\n",
    ")"
   ]
  },
  {
   "cell_type": "code",
   "execution_count": null,
   "id": "8c64a3e9-1423-4e2e-9854-349d20f0d459",
   "metadata": {
    "tags": []
   },
   "outputs": [],
   "source": [
    "stds"
   ]
  },
  {
   "cell_type": "code",
   "execution_count": null,
   "id": "f50ffc37-e48f-41e3-93f0-e4b45c50b82a",
   "metadata": {
    "tags": []
   },
   "outputs": [],
   "source": [
    "radiuses = np.array(radiuses)\n",
    "noises = np.array([noise_fun(r) for r in radiuses])"
   ]
  },
  {
   "cell_type": "code",
   "execution_count": null,
   "id": "3e9293fe-59ee-48d5-90dd-0802a9763858",
   "metadata": {
    "tags": []
   },
   "outputs": [],
   "source": [
    "noises"
   ]
  },
  {
   "cell_type": "code",
   "execution_count": null,
   "id": "c64651b0-b720-436f-a9fe-aa99df6829d6",
   "metadata": {
    "tags": []
   },
   "outputs": [],
   "source": [
    "biovolume1 = np.sum(radiuses**2 * np.pi * lengths)\n",
    "biovolume1"
   ]
  },
  {
   "cell_type": "code",
   "execution_count": null,
   "id": "d304b4ee-3fd5-4ae6-84b0-6d63c4944c2f",
   "metadata": {
    "tags": []
   },
   "outputs": [],
   "source": [
    "biovolume2 = np.sum((radiuses + noises) ** 2 * np.pi * lengths)\n",
    "biovolume2"
   ]
  },
  {
   "cell_type": "code",
   "execution_count": null,
   "id": "8b2ebd9e-d28a-4d8d-bc28-fe68672012c6",
   "metadata": {
    "tags": []
   },
   "outputs": [],
   "source": [
    "(biovolume2 - biovolume1) / biovolume1"
   ]
  },
  {
   "cell_type": "code",
   "execution_count": null,
   "id": "c233a183-d8dc-4537-8a63-3efa33a9ef0a",
   "metadata": {
    "tags": []
   },
   "outputs": [],
   "source": [
    "fig, ax = plt.subplots()\n",
    "ax.hist(radiuses, 20, alpha=0.5)\n",
    "ax.hist(radiuses + noises, 20, alpha=0.5)"
   ]
  }
 ],
 "metadata": {
  "kernelspec": {
   "display_name": "Python 3 (ipykernel)",
   "language": "python",
   "name": "python3"
  },
  "language_info": {
   "codemirror_mode": {
    "name": "ipython",
    "version": 3
   },
   "file_extension": ".py",
   "mimetype": "text/x-python",
   "name": "python",
   "nbconvert_exporter": "python",
   "pygments_lexer": "ipython3",
   "version": "3.7.13"
  }
 },
 "nbformat": 4,
 "nbformat_minor": 5
}

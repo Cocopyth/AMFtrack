{
 "cells": [
  {
   "cell_type": "code",
   "execution_count": null,
   "id": "2c1e3e9d-403f-4639-9106-5a1021c99c25",
   "metadata": {
    "tags": []
   },
   "outputs": [],
   "source": [
    "%load_ext autoreload\n",
    "%autoreload 2\n",
    "from amftrack.pipeline.launching.run_super import (\n",
    "    run_launcher,\n",
    "    directory_scratch,\n",
    "    directory_project,\n",
    "    directory_project,\n",
    "    run_parallel_stitch,\n",
    "    run_parallel_transfer,\n",
    ")\n",
    "import os\n",
    "from amftrack.util.sys import (\n",
    "    get_dates_datetime,\n",
    "    get_dirname,\n",
    "    temp_path,\n",
    "    get_data_info,\n",
    "    update_plate_info,\n",
    "    update_analysis_info,\n",
    "    get_analysis_info,\n",
    "    get_current_folders,\n",
    "    get_folders_by_plate_id,\n",
    ")\n",
    "\n",
    "from time import time_ns\n",
    "\n",
    "from amftrack.util.dbx import upload_folders, load_dbx, download\n",
    "from datetime import datetime\n",
    "from amftrack.pipeline.launching.run_super import (\n",
    "    run_parallel,\n",
    "    directory_scratch,\n",
    "    directory_project,\n",
    "    run_parallel_stitch,\n",
    ")\n",
    "from amftrack.util.dbx import (\n",
    "    read_saved_dropbox_state,\n",
    "    get_dropbox_folders_prince,\n",
    "    get_dropbox_folders_prince,\n",
    "    save_dropbox_state,\n",
    "    get_dropbox_folders_general_recursive,\n",
    ")"
   ]
  },
  {
   "cell_type": "code",
   "execution_count": null,
   "id": "e9e194b4-d322-4d9a-a4ba-98c52791d0a2",
   "metadata": {
    "jupyter": {
     "outputs_hidden": true
    },
    "tags": []
   },
   "outputs": [],
   "source": [
    "all_folders_drop = get_dropbox_folders_prince(\"/DATA/PRINCE\")\n"
   ]
  },
  {
   "cell_type": "code",
   "execution_count": null,
   "id": "81ef214b-1a3f-42a0-804d-3332295571ea",
   "metadata": {},
   "outputs": [],
   "source": [
    "import pandas as pd\n",
    "folders = pd.read_csv('list_last_folder.csv')\n"
   ]
  },
  {
   "cell_type": "code",
   "execution_count": null,
   "id": "9557f5bf-250d-42d2-9513-66516a5fbc0a",
   "metadata": {},
   "outputs": [],
   "source": [
    "folders_drop = all_folders_drop[all_folders_drop['folder'].isin(folders['folder'])]"
   ]
  },
  {
   "cell_type": "code",
   "execution_count": null,
   "id": "8a4bbfac-b314-43fe-9e13-213f6f50f184",
   "metadata": {},
   "outputs": [],
   "source": [
    "directory_targ = directory_project\n",
    "directory_targ = directory_targ+'fig1/'\n",
    "directory_targ"
   ]
  },
  {
   "cell_type": "code",
   "execution_count": null,
   "id": "978ad264-fee6-4dea-9519-4d67329b4455",
   "metadata": {
    "tags": []
   },
   "outputs": [],
   "source": [
    "run_parallel_transfer(\n",
    "    \"from_drop.py\",\n",
    "    [directory_targ],\n",
    "    folders_drop,\n",
    "    10,\n",
    "    \"4:00:00\",\n",
    "    \"staging\",\n",
    "    cpus=1,\n",
    "    node=\"staging\",\n",
    "    name_job=\"fig1\",\n",
    ")"
   ]
  }
 ],
 "metadata": {
  "kernelspec": {
   "display_name": "Python 3 (ipykernel)",
   "language": "python",
   "name": "python3"
  },
  "language_info": {
   "codemirror_mode": {
    "name": "ipython",
    "version": 3
   },
   "file_extension": ".py",
   "mimetype": "text/x-python",
   "name": "python",
   "nbconvert_exporter": "python",
   "pygments_lexer": "ipython3",
   "version": "3.7.13"
  }
 },
 "nbformat": 4,
 "nbformat_minor": 5
}

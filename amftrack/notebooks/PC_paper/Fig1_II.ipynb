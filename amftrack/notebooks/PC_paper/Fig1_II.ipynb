{
 "cells": [
  {
   "cell_type": "code",
   "execution_count": 1,
   "id": "382a263d-1ac6-44d1-885d-4e898f40caa9",
   "metadata": {
    "tags": []
   },
   "outputs": [
    {
     "name": "stderr",
     "output_type": "stream",
     "text": [
      "/gpfs/home2/cbisot/pycode/AMFtrack/amftrack/util/dbx.py:3: TqdmExperimentalWarning: Using `tqdm.autonotebook.tqdm` in notebook mode. Use `tqdm.tqdm` instead to force console mode (e.g. in jupyter console)\n",
      "  from tqdm.autonotebook import tqdm\n"
     ]
    }
   ],
   "source": [
    "%load_ext autoreload\n",
    "%autoreload 2\n",
    "%matplotlib widget\n",
    "\n",
    "from amftrack.pipeline.launching.run_super import (\n",
    "    run_launcher,\n",
    "    directory_scratch,\n",
    "    directory_project,\n",
    "    directory_project,\n",
    "    run_parallel_stitch,\n",
    "    run_parallel_transfer,\n",
    ")\n",
    "import os\n",
    "from amftrack.util.sys import (\n",
    "    get_dates_datetime,\n",
    "    get_dirname,\n",
    "    temp_path,\n",
    "    get_data_info,\n",
    "    update_plate_info,\n",
    "    update_analysis_info,\n",
    "    get_analysis_info,\n",
    "    get_current_folders,\n",
    "    get_folders_by_plate_id,\n",
    ")\n",
    "\n",
    "from time import time_ns\n",
    "from amftrack.util.dbx import (\n",
    "    upload_folders,\n",
    "    load_dbx,\n",
    "    download,\n",
    "    get_dropbox_folders_prince,\n",
    ")\n",
    "from datetime import datetime\n",
    "from amftrack.pipeline.launching.run_super import (\n",
    "    run_parallel,\n",
    "    directory_scratch,\n",
    "    directory_project,\n",
    "    run_parallel_stitch,\n",
    ")\n",
    "from amftrack.util.dbx import read_saved_dropbox_state, get_dropbox_folders_prince\n",
    "import sys\n",
    "import os\n",
    "\n",
    "from amftrack.util.sys import get_dirname, temp_path\n",
    "import pandas as pd\n",
    "import ast\n",
    "from scipy import sparse\n",
    "import scipy.io as sio\n",
    "import cv2\n",
    "import imageio.v2 as imageio\n",
    "import numpy as np\n",
    "import scipy.sparse\n",
    "import os\n",
    "from time import time\n",
    "from amftrack.pipeline.functions.image_processing.extract_skel import (\n",
    "    extract_skel_new_prince,\n",
    "    run_back_sub,\n",
    "    bowler_hat,\n",
    ")\n",
    "\n",
    "from amftrack.util.sys import get_dates_datetime, get_dirname\n",
    "import shutil\n",
    "import matplotlib.pyplot as plt\n",
    "from amftrack.pipeline.functions.image_processing.experiment_class_surf import (\n",
    "    Experiment,\n",
    "    save_graphs,\n",
    "    load_graphs,\n",
    "    Edge,\n",
    "    Node,\n",
    ")\n",
    "from amftrack.pipeline.functions.image_processing.experiment_util import (\n",
    "    get_random_edge,\n",
    "    distance_point_edge,\n",
    "    plot_edge,\n",
    "    plot_edge_cropped,\n",
    "    find_nearest_edge,\n",
    "    get_edge_from_node_labels,\n",
    "    plot_full_image_with_features,\n",
    "    get_all_edges,\n",
    "    get_all_nodes,\n",
    "    find_neighboring_edges,\n",
    "    reconstruct_image,\n",
    "    reconstruct_skeletton_from_edges,\n",
    "    reconstruct_skeletton_unicolor,\n",
    "    reconstruct_image_from_general,\n",
    "    plot_full,\n",
    "    plot_edge_color_value,\n",
    ")\n",
    "from matplotlib import cm\n",
    "import networkx as nx"
   ]
  },
  {
   "cell_type": "code",
   "execution_count": 2,
   "id": "8628d986-bebd-4630-b7e0-ab581fda42ef",
   "metadata": {
    "tags": []
   },
   "outputs": [],
   "source": [
    "directory_targ = directory_project\n",
    "directory_targ = directory_targ + \"fig1/\""
   ]
  },
  {
   "cell_type": "code",
   "execution_count": 3,
   "id": "4b716fc8-ef48-427f-8676-479c8dc60327",
   "metadata": {
    "tags": []
   },
   "outputs": [
    {
     "data": {
      "application/vnd.jupyter.widget-view+json": {
       "model_id": "c81a2489b95c43e9b7a32b8bc4bc2df8",
       "version_major": 2,
       "version_minor": 0
      },
      "text/plain": [
       "analysed:   0%|          | 0/38 [00:00<?, ?it/s]"
      ]
     },
     "metadata": {},
     "output_type": "display_data"
    }
   ],
   "source": [
    "update_plate_info(directory_targ, local=True)\n",
    "all_folders = get_current_folders(directory_targ, local=True)"
   ]
  },
  {
   "cell_type": "code",
   "execution_count": 4,
   "id": "b84f6972-958a-4104-979c-aed270aeae33",
   "metadata": {},
   "outputs": [
    {
     "data": {
      "text/plain": [
       "38"
      ]
     },
     "execution_count": 4,
     "metadata": {},
     "output_type": "execute_result"
    }
   ],
   "source": [
    "len(all_folders)"
   ]
  },
  {
   "cell_type": "code",
   "execution_count": 5,
   "id": "53173750-9bfe-4311-a013-fe8501691e2a",
   "metadata": {
    "tags": []
   },
   "outputs": [
    {
     "data": {
      "text/plain": [
       "(38, 38)"
      ]
     },
     "execution_count": 5,
     "metadata": {},
     "output_type": "execute_result"
    }
   ],
   "source": [
    "folders = all_folders.loc[all_folders[\"/Analysis/nx_graph_pruned_width.p\"] == True]\n",
    "len(folders), len(all_folders)"
   ]
  },
  {
   "cell_type": "code",
   "execution_count": 4,
   "id": "c016c28d-02c3-4ae2-bbec-a46811aef013",
   "metadata": {
    "tags": []
   },
   "outputs": [
    {
     "name": "stdout",
     "output_type": "stream",
     "text": [
      "2024-06-14 11:22:00\n",
      "2023-10-07 20:34:00\n",
      "2022-10-22 17:17:00\n",
      "2022-10-10 02:21:00\n",
      "2022-05-07 16:29:00\n",
      "2023-01-08 07:49:00\n",
      "2024-01-11 16:16:00\n",
      "2023-01-23 08:06:00\n",
      "2022-05-29 18:27:00\n",
      "2022-05-14 04:25:00\n",
      "2023-12-04 12:48:00\n",
      "2023-03-22 18:24:00\n",
      "2022-05-08 01:47:00\n",
      "2023-01-18 06:13:00\n",
      "2022-07-14 12:48:00\n",
      "2023-01-14 20:34:00\n",
      "2023-03-05 13:10:00\n",
      "2022-06-22 22:45:00\n",
      "2023-01-11 11:55:00\n",
      "2022-05-25 19:47:00\n",
      "2022-04-23 19:40:00\n",
      "2022-03-29 00:42:00\n",
      "2022-12-12 12:33:00\n",
      "2022-05-09 14:09:00\n",
      "2022-05-13 13:52:00\n",
      "2022-12-27 10:42:00\n",
      "2023-03-29 14:20:00\n",
      "2022-12-04 20:54:00\n",
      "2023-01-11 22:10:00\n",
      "2024-06-14 09:50:00\n",
      "2022-07-14 16:19:00\n",
      "2023-09-30 02:18:00\n",
      "2022-05-05 17:32:00\n",
      "2022-12-13 17:03:00\n",
      "2022-12-02 06:42:00\n",
      "2023-03-21 07:03:00\n",
      "2023-01-18 02:04:00\n",
      "2022-12-13 15:09:00\n"
     ]
    }
   ],
   "source": [
    "plates = all_folders[\"unique_id\"].unique()\n",
    "results = {}\n",
    "for plate in plates:\n",
    "    folders = all_folders.loc[all_folders[\"unique_id\"] == plate]\n",
    "    folders = folders.loc[folders[\"/Analysis/nx_graph_pruned_width.p\"] == True]\n",
    "    folders = folders.sort_values(by=\"datetime\")\n",
    "\n",
    "    exp = Experiment(directory_targ)\n",
    "    i = 0\n",
    "    exp.load(folders.iloc[i : i + 1], suffix=\"_width\")\n",
    "    for t in range(exp.ts):\n",
    "        exp.load_tile_information(t)\n",
    "    G = exp.nx_graph[t]\n",
    "    components = nx.connected_components(G)\n",
    "\n",
    "    # Find the largest connected component\n",
    "    largest_component = max(components, key=len)\n",
    "\n",
    "    # Create a new graph representing the largest connected component\n",
    "    largest_component_graph = G.subgraph(largest_component)\n",
    "    exp.nx_graph[t] = largest_component_graph\n",
    "    edges = get_all_edges(exp, t)\n",
    "    lengths = [edge.length_um(t) for edge in edges]\n",
    "    widths = [edge.width(t) for edge in edges]\n",
    "    folders = all_folders.loc[all_folders[\"unique_id\"] == plate]\n",
    "    strain = folders[\"strain\"].value_counts().idxmax()\n",
    "    if np.max(widths) != 40:\n",
    "        results[plate] = edges, lengths, widths, [strain] * len(edges)\n",
    "    else:\n",
    "        print(plate)"
   ]
  },
  {
   "cell_type": "code",
   "execution_count": 5,
   "id": "c7414d6a-00f3-452f-9d61-467788163b2d",
   "metadata": {
    "tags": []
   },
   "outputs": [],
   "source": [
    "data = []\n",
    "\n",
    "# Iterate over the results to create rows for the DataFrame\n",
    "for plate, (edges, lengths, widths, strains) in results.items():\n",
    "    for edge, length, width, strain in zip(edges, lengths, widths, strains):\n",
    "        data.append(\n",
    "            {\n",
    "                \"plate\": plate,\n",
    "                \"edge\": edge,\n",
    "                \"length\": length,\n",
    "                \"width\": width,\n",
    "                \"strain\": strain,\n",
    "            }\n",
    "        )\n",
    "\n",
    "# Create DataFrame from the list\n",
    "df_results = pd.DataFrame(data)"
   ]
  },
  {
   "cell_type": "code",
   "execution_count": 6,
   "id": "66783416-9cbe-4d53-ba38-1da2e57ed133",
   "metadata": {
    "tags": []
   },
   "outputs": [
    {
     "data": {
      "text/plain": [
       "array([\"'C3'\", \"'A5'\", \"'C2'\", \"'Agg'\", \"'Clarum'\"], dtype=object)"
      ]
     },
     "execution_count": 6,
     "metadata": {},
     "output_type": "execute_result"
    }
   ],
   "source": [
    "df_results[\"radius\"] = df_results[\"width\"] / 2\n",
    "df_results[\"weight\"] = df_results[\"radius\"] ** 2 * df_results[\"length\"]\n",
    "# df_results['weight'] = df_results['length']\n",
    "df_results.loc[df_results[\"strain\"] == \"'A5sp3'\", \"strain\"] = \"'A5'\"\n",
    "df_results[\"strain\"].unique()"
   ]
  },
  {
   "cell_type": "code",
   "execution_count": 10,
   "id": "a90d6a8f-d65b-47c2-92b6-5b20e0b0e414",
   "metadata": {
    "collapsed": true,
    "jupyter": {
     "outputs_hidden": true
    }
   },
   "outputs": [
    {
     "name": "stdout",
     "output_type": "stream",
     "text": [
      "Collecting seaborn\n",
      "  Downloading seaborn-0.13.2-py3-none-any.whl.metadata (5.4 kB)\n",
      "Requirement already satisfied: numpy!=1.24.0,>=1.20 in /home/cbisot/miniconda3/envs/amftrack/lib/python3.12/site-packages (from seaborn) (1.26.4)\n",
      "Requirement already satisfied: pandas>=1.2 in /home/cbisot/miniconda3/envs/amftrack/lib/python3.12/site-packages (from seaborn) (2.2.2)\n",
      "Requirement already satisfied: matplotlib!=3.6.1,>=3.4 in /home/cbisot/miniconda3/envs/amftrack/lib/python3.12/site-packages (from seaborn) (3.8.4)\n",
      "Requirement already satisfied: contourpy>=1.0.1 in /home/cbisot/miniconda3/envs/amftrack/lib/python3.12/site-packages (from matplotlib!=3.6.1,>=3.4->seaborn) (1.2.1)\n",
      "Requirement already satisfied: cycler>=0.10 in /home/cbisot/miniconda3/envs/amftrack/lib/python3.12/site-packages (from matplotlib!=3.6.1,>=3.4->seaborn) (0.12.1)\n",
      "Requirement already satisfied: fonttools>=4.22.0 in /home/cbisot/miniconda3/envs/amftrack/lib/python3.12/site-packages (from matplotlib!=3.6.1,>=3.4->seaborn) (4.51.0)\n",
      "Requirement already satisfied: kiwisolver>=1.3.1 in /home/cbisot/miniconda3/envs/amftrack/lib/python3.12/site-packages (from matplotlib!=3.6.1,>=3.4->seaborn) (1.4.5)\n",
      "Requirement already satisfied: packaging>=20.0 in /home/cbisot/miniconda3/envs/amftrack/lib/python3.12/site-packages (from matplotlib!=3.6.1,>=3.4->seaborn) (24.0)\n",
      "Requirement already satisfied: pillow>=8 in /home/cbisot/miniconda3/envs/amftrack/lib/python3.12/site-packages (from matplotlib!=3.6.1,>=3.4->seaborn) (10.3.0)\n",
      "Requirement already satisfied: pyparsing>=2.3.1 in /home/cbisot/miniconda3/envs/amftrack/lib/python3.12/site-packages (from matplotlib!=3.6.1,>=3.4->seaborn) (3.1.2)\n",
      "Requirement already satisfied: python-dateutil>=2.7 in /home/cbisot/miniconda3/envs/amftrack/lib/python3.12/site-packages (from matplotlib!=3.6.1,>=3.4->seaborn) (2.9.0.post0)\n",
      "Requirement already satisfied: pytz>=2020.1 in /home/cbisot/miniconda3/envs/amftrack/lib/python3.12/site-packages (from pandas>=1.2->seaborn) (2024.1)\n",
      "Requirement already satisfied: tzdata>=2022.7 in /home/cbisot/miniconda3/envs/amftrack/lib/python3.12/site-packages (from pandas>=1.2->seaborn) (2024.1)\n",
      "Requirement already satisfied: six>=1.5 in /home/cbisot/miniconda3/envs/amftrack/lib/python3.12/site-packages (from python-dateutil>=2.7->matplotlib!=3.6.1,>=3.4->seaborn) (1.16.0)\n",
      "Downloading seaborn-0.13.2-py3-none-any.whl (294 kB)\n",
      "\u001b[2K   \u001b[90m━━━━━━━━━━━━━━━━━━━━━━━━━━━━━━━━━━━━━━━━\u001b[0m \u001b[32m294.9/294.9 kB\u001b[0m \u001b[31m3.9 MB/s\u001b[0m eta \u001b[36m0:00:00\u001b[0mta \u001b[36m0:00:01\u001b[0m\n",
      "\u001b[?25hInstalling collected packages: seaborn\n",
      "Successfully installed seaborn-0.13.2\n",
      "\n",
      "\u001b[1m[\u001b[0m\u001b[34;49mnotice\u001b[0m\u001b[1;39;49m]\u001b[0m\u001b[39;49m A new release of pip is available: \u001b[0m\u001b[31;49m24.0\u001b[0m\u001b[39;49m -> \u001b[0m\u001b[32;49m24.1\u001b[0m\n",
      "\u001b[1m[\u001b[0m\u001b[34;49mnotice\u001b[0m\u001b[1;39;49m]\u001b[0m\u001b[39;49m To update, run: \u001b[0m\u001b[32;49mpip install --upgrade pip\u001b[0m\n"
     ]
    }
   ],
   "source": [
    "!pip install seaborn"
   ]
  },
  {
   "cell_type": "code",
   "execution_count": 7,
   "id": "b92c1224-0c7d-49f1-ba7b-6f5583cc1294",
   "metadata": {
    "tags": []
   },
   "outputs": [],
   "source": [
    "import seaborn as sns\n",
    "\n",
    "plt.style.use(\"presentation.mplstyle\")\n",
    "import logging\n",
    "\n",
    "# Set the logging level to WARNING to suppress INFO and DEBUG messages\n",
    "logging.basicConfig(level=logging.WARNING)"
   ]
  },
  {
   "cell_type": "code",
   "execution_count": null,
   "id": "d4942ef4-f35e-49a1-82c3-ce6b3c804928",
   "metadata": {},
   "outputs": [],
   "source": []
  },
  {
   "cell_type": "code",
   "execution_count": 8,
   "id": "fbf018ab-e1a5-4ed8-9b96-ca167d16a2ea",
   "metadata": {
    "tags": []
   },
   "outputs": [],
   "source": [
    "palette = {\n",
    "    \"'C2'\": (0.17058823529411765, 0.4946558433997788, 0.9667184042691874),\n",
    "    \"'A5'\": (0.16666666666666663, 0.8660254037844386, 0.8660254037844387),\n",
    "    \"'Agg'\": (0.503921568627451, 0.9999810273487268, 0.7049255469061472),\n",
    "    \"'Clarum'\": (0.8333333333333333, 0.8660254037844387, 0.5000000000000001),\n",
    "    \"'C3'\": (1.0, 0.4946558433997788, 0.2558427775944356),\n",
    "}"
   ]
  },
  {
   "cell_type": "code",
   "execution_count": null,
   "id": "b8690e41-dd22-423e-bd33-b7499f0c9f87",
   "metadata": {
    "tags": []
   },
   "outputs": [],
   "source": [
    "# weighted_mean = np.sqrt((strain_data['radius']**2 * strain_data['length']).sum() / strain_data['length'].sum())\n",
    "# weighted_mean"
   ]
  },
  {
   "cell_type": "code",
   "execution_count": 12,
   "id": "91b6a6d0-f680-4724-b854-8d7c903296a2",
   "metadata": {
    "tags": []
   },
   "outputs": [
    {
     "name": "stderr",
     "output_type": "stream",
     "text": [
      "<>:37: SyntaxWarning: invalid escape sequence '\\m'\n",
      "<>:37: SyntaxWarning: invalid escape sequence '\\m'\n",
      "/scratch-local/cbisot/ipykernel_3043942/2473663976.py:37: SyntaxWarning: invalid escape sequence '\\m'\n",
      "  ax.set_xlabel(\"radius ($\\mu m$)\")\n"
     ]
    },
    {
     "name": "stdout",
     "output_type": "stream",
     "text": [
      "'C3' 2.5885130142583845\n",
      "'A5' 2.888884010751932\n",
      "'C2' 2.720950589718575\n",
      "'Agg' 2.4295535462800437\n",
      "'Clarum' 2.965359246017242\n"
     ]
    },
    {
     "data": {
      "text/plain": [
       "[Text(1, 0, '1'),\n",
       " Text(2, 0, '2'),\n",
       " Text(3, 0, '3'),\n",
       " Text(4, 0, '4'),\n",
       " Text(5, 0, '5'),\n",
       " Text(6, 0, '6'),\n",
       " Text(7, 0, '7')]"
      ]
     },
     "execution_count": 12,
     "metadata": {},
     "output_type": "execute_result"
    },
    {
     "name": "stdout",
     "output_type": "stream",
     "text": [
      "2024-06-23 15:30:21,358-[WARNING]- matplotlib.font_manager:1365 -> findfont: Generic family 'sans-serif' not found because none of the following families were found: Arial\n",
      "2024-06-23 15:30:21,359-[WARNING]- matplotlib.font_manager:1365 -> findfont: Generic family 'sans-serif' not found because none of the following families were found: Arial\n",
      "2024-06-23 15:30:21,361-[WARNING]- matplotlib.font_manager:1365 -> findfont: Generic family 'sans-serif' not found because none of the following families were found: Arial\n",
      "2024-06-23 15:30:21,362-[WARNING]- matplotlib.font_manager:1365 -> findfont: Generic family 'sans-serif' not found because none of the following families were found: Arial\n",
      "2024-06-23 15:30:21,363-[WARNING]- matplotlib.font_manager:1365 -> findfont: Generic family 'sans-serif' not found because none of the following families were found: Arial\n",
      "2024-06-23 15:30:21,364-[WARNING]- matplotlib.font_manager:1365 -> findfont: Generic family 'sans-serif' not found because none of the following families were found: Arial\n",
      "2024-06-23 15:30:21,365-[WARNING]- matplotlib.font_manager:1365 -> findfont: Generic family 'sans-serif' not found because none of the following families were found: Arial\n",
      "2024-06-23 15:30:21,366-[WARNING]- matplotlib.font_manager:1365 -> findfont: Generic family 'sans-serif' not found because none of the following families were found: Arial\n",
      "2024-06-23 15:30:21,368-[WARNING]- matplotlib.font_manager:1365 -> findfont: Generic family 'sans-serif' not found because none of the following families were found: Arial\n",
      "2024-06-23 15:30:21,370-[WARNING]- matplotlib.font_manager:1365 -> findfont: Generic family 'sans-serif' not found because none of the following families were found: Arial\n",
      "2024-06-23 15:30:21,372-[WARNING]- matplotlib.font_manager:1365 -> findfont: Generic family 'sans-serif' not found because none of the following families were found: Arial\n",
      "2024-06-23 15:30:21,382-[WARNING]- matplotlib.font_manager:1365 -> findfont: Generic family 'sans-serif' not found because none of the following families were found: Arial\n",
      "2024-06-23 15:30:21,383-[WARNING]- matplotlib.font_manager:1365 -> findfont: Generic family 'sans-serif' not found because none of the following families were found: Arial\n",
      "2024-06-23 15:30:21,385-[WARNING]- matplotlib.font_manager:1365 -> findfont: Generic family 'sans-serif' not found because none of the following families were found: Arial\n",
      "2024-06-23 15:30:21,387-[WARNING]- matplotlib.font_manager:1365 -> findfont: Generic family 'sans-serif' not found because none of the following families were found: Arial\n",
      "2024-06-23 15:30:21,390-[WARNING]- matplotlib.font_manager:1365 -> findfont: Generic family 'sans-serif' not found because none of the following families were found: Arial\n",
      "2024-06-23 15:30:21,398-[WARNING]- matplotlib.font_manager:1365 -> findfont: Generic family 'sans-serif' not found because none of the following families were found: Arial\n",
      "2024-06-23 15:30:21,400-[WARNING]- matplotlib.font_manager:1365 -> findfont: Generic family 'sans-serif' not found because none of the following families were found: Arial\n",
      "2024-06-23 15:30:21,402-[WARNING]- matplotlib.font_manager:1365 -> findfont: Generic family 'sans-serif' not found because none of the following families were found: Arial\n",
      "2024-06-23 15:30:21,404-[WARNING]- matplotlib.font_manager:1365 -> findfont: Generic family 'sans-serif' not found because none of the following families were found: Arial\n",
      "2024-06-23 15:30:21,408-[WARNING]- matplotlib.font_manager:1365 -> findfont: Generic family 'sans-serif' not found because none of the following families were found: Arial\n",
      "2024-06-23 15:30:21,410-[WARNING]- matplotlib.font_manager:1365 -> findfont: Generic family 'sans-serif' not found because none of the following families were found: Arial\n"
     ]
    },
    {
     "data": {
      "application/vnd.jupyter.widget-view+json": {
       "model_id": "e1806b12e45e4ffd9fad66ed53e6976c",
       "version_major": 2,
       "version_minor": 0
      },
      "image/png": "[encoded data removed]",
      "text/html": [
       "\n",
       "            <div style=\"display: inline-block;\">\n",
       "                <div class=\"jupyter-widgets widget-label\" style=\"text-align: center;\">\n",
       "                    Figure\n",
       "                </div>\n",
       "                <img src='data:image/png;base64,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' width=236.22047244094486/>\n",
       "            </div>\n",
       "        "
      ],
      "text/plain": [
       "Canvas(toolbar=Toolbar(toolitems=[('Home', 'Reset original view', 'home', 'home'), ('Back', 'Back to previous …"
      ]
     },
     "metadata": {},
     "output_type": "display_data"
    }
   ],
   "source": [
    "plt.close(\"all\")\n",
    "from matplotlib.ticker import FuncFormatter\n",
    "\n",
    "cm = 1 / 2.54  # centimeters in inches\n",
    "\n",
    "fig, ax = plt.subplots(figsize=(6 * cm, 4 * cm))\n",
    "select = df_results[df_results[\"width\"] > 0.1]\n",
    "select = select[select[\"width\"] <= 14]\n",
    "\n",
    "# sns.histplot(select,x = 'radius',hue=\"strain\",kde = True, weights = \"weight\",stat=\"density\",bins = 30, common_norm=False,palette= palette,fill=False)\n",
    "for strain in select[\"strain\"].unique():\n",
    "    strain_data = select[select[\"strain\"] == strain]\n",
    "    weighted_mean = (strain_data[\"radius\"] * strain_data[\"weight\"]).sum() / strain_data[\n",
    "        \"weight\"\n",
    "    ].sum()\n",
    "    weighted_mean = (strain_data[\"radius\"] * strain_data[\"length\"]).sum()/ strain_data[\"length\"].sum()\n",
    "    print(strain,weighted_mean)\n",
    "    weighted_mean = np.sqrt(\n",
    "        (strain_data[\"radius\"] ** 2 * strain_data[\"length\"]).sum()\n",
    "        / strain_data[\"length\"].sum()\n",
    "    )\n",
    "\n",
    "    ax.axvline(\n",
    "        weighted_mean, color=palette[strain], linestyle=\"--\", linewidth=2, alpha=0.5\n",
    "    )\n",
    "    # print(strain, len(strain_data[\"plate\"].unique()),weighted_mean)\n",
    "    \n",
    "    sns.kdeplot(\n",
    "        strain_data,\n",
    "        x=\"radius\",\n",
    "        ax=ax,\n",
    "        label=strain,\n",
    "        weights=\"weight\",\n",
    "        color=palette[strain],\n",
    "        alpha=0.9,\n",
    "    )\n",
    "ax.set_xlabel(\"radius ($\\mu m$)\")\n",
    "ax.set_ylabel(\"density\")\n",
    "# ax.set_yscale('log')\n",
    "# ax.set_xscale('log')\n",
    "\n",
    "# ax.set_ylim(1e-2,1)\n",
    "ax.set_xlim(0.1, 7)\n",
    "\n",
    "ax.set_xticks([1, 2, 3, 4, 5, 6, 7])\n",
    "ax.set_xticklabels([\"1\", \"2\", \"3\", \"4\", \"5\", \"6\", \"7\"])\n",
    "# def format_fn(tick_val, tick_pos):\n",
    "#     if int(tick_val) in [1,2, 4, 6, 7]:\n",
    "#         return str(int(tick_val))\n",
    "#     else:\n",
    "#         return ''\n",
    "\n",
    "# # Apply the formatter to the x-axis\n",
    "# ax.xaxis.set_major_formatter(FuncFormatter(format_fn))\n",
    "# plt.savefig(os.path.join('figures','Figure1D2.pdf'), transparent=True, bbox_inches='tight')"
   ]
  },
  {
   "cell_type": "code",
   "execution_count": null,
   "id": "093e2138-db71-4372-946c-c21682155678",
   "metadata": {},
   "outputs": [],
   "source": [
    "veéefer"
   ]
  },
  {
   "cell_type": "code",
   "execution_count": null,
   "id": "d0fa74be-ba99-49da-bd62-5a72fa8a3d09",
   "metadata": {},
   "outputs": [],
   "source": [
    "plt.close(\"all\")\n",
    "from matplotlib.ticker import FuncFormatter\n",
    "\n",
    "cm = 1 / 2.54  # centimeters in inches\n",
    "\n",
    "fig, ax = plt.subplots(figsize=(6 * cm, 4 * cm))\n",
    "select = df_results[df_results[\"width\"] > 0.1]\n",
    "select = select[select[\"width\"] <= 14]\n",
    "\n",
    "# sns.histplot(select,x = 'radius',hue=\"strain\",kde = True, weights = \"weight\",stat=\"density\",bins = 30, common_norm=False,palette= palette,fill=False)\n",
    "for strain in select[\"strain\"].unique():\n",
    "    strain_data = select[select[\"strain\"] == strain]\n",
    "    weighted_mean = (strain_data[\"radius\"] * strain_data[\"weight\"]).sum() / strain_data[\n",
    "        \"weight\"\n",
    "    ].sum()\n",
    "    weighted_mean = np.sqrt(\n",
    "        (strain_data[\"radius\"] ** 2 * strain_data[\"length\"]).sum()\n",
    "        / strain_data[\"length\"].sum()\n",
    "    )\n",
    "\n",
    "    ax.axvline(\n",
    "        weighted_mean, color=palette[strain], linestyle=\"--\", linewidth=2, alpha=0.5\n",
    "    )\n",
    "    sns.kdeplot(\n",
    "        strain_data,\n",
    "        x=\"radius\",\n",
    "        ax=ax,\n",
    "        label=strain,\n",
    "        weights=\"weight\",\n",
    "        color=palette[strain],\n",
    "        alpha=0.9,\n",
    "    )\n",
    "ax.set_xlabel(\"radius ($\\mu m$)\")\n",
    "ax.set_ylabel(\"density\")\n",
    "ax.set_yscale(\"log\")\n",
    "# ax.set_xscale('log')\n",
    "\n",
    "ax.set_ylim(1e-2, 1)\n",
    "# ax.set_xlim(0.1,7)\n",
    "\n",
    "# ax.set_xticks([1,2, 3, 4,5,6, 7])\n",
    "# ax.set_xticklabels(['1','2', '3', '4','5','6', '7'])\n",
    "# def format_fn(tick_val, tick_pos):\n",
    "#     if int(tick_val) in [1,2, 4, 6, 7]:\n",
    "#         return str(int(tick_val))\n",
    "#     else:\n",
    "#         return ''\n",
    "\n",
    "# # Apply the formatter to the x-axis\n",
    "# ax.xaxis.set_major_formatter(FuncFormatter(format_fn))\n",
    "# plt.savefig(os.path.join('figures','Figure1D2.pdf'), transparent=True, bbox_inches='tight')"
   ]
  },
  {
   "cell_type": "code",
   "execution_count": null,
   "id": "d1a64e75-5a53-4f99-b96a-a8565d6775dd",
   "metadata": {
    "tags": []
   },
   "outputs": [],
   "source": [
    "plates"
   ]
  },
  {
   "cell_type": "code",
   "execution_count": null,
   "id": "23016704-e292-465b-b52c-70337cbd8120",
   "metadata": {
    "tags": []
   },
   "outputs": [],
   "source": [
    "plate = \"472_20221003\"\n",
    "folders = all_folders.loc[all_folders[\"unique_id\"] == plate]\n",
    "folders = folders.loc[folders[\"/Analysis/nx_graph_pruned_width.p\"] == True]\n",
    "folders = folders.sort_values(by=\"datetime\")\n",
    "\n",
    "exp = Experiment(directory_targ)\n",
    "i = 0\n",
    "exp.load(folders.iloc[i : i + 1], suffix=\"_width\")\n",
    "for t in range(exp.ts):\n",
    "    exp.load_tile_information(t)\n",
    "G = exp.nx_graph[t]\n",
    "components = nx.connected_components(G)\n",
    "\n",
    "# Find the largest connected component\n",
    "largest_component = max(components, key=len)\n",
    "\n",
    "# Create a new graph representing the largest connected component\n",
    "largest_component_graph = G.subgraph(largest_component)\n",
    "exp.nx_graph[t] = largest_component_graph\n",
    "edges = get_all_edges(exp, t)"
   ]
  },
  {
   "cell_type": "code",
   "execution_count": null,
   "id": "26f5dce9-268c-4c99-b66f-1edcc509136f",
   "metadata": {
    "tags": []
   },
   "outputs": [],
   "source": [
    "len(edges)"
   ]
  },
  {
   "cell_type": "code",
   "execution_count": null,
   "id": "36a6f061-5724-49de-87ad-9245c42a4853",
   "metadata": {
    "tags": []
   },
   "outputs": [],
   "source": [
    "edges_choice = np.random.choice(edges, size=1000, replace=False)"
   ]
  },
  {
   "cell_type": "code",
   "execution_count": null,
   "id": "bd92f606-4499-48ae-a724-6dfd8edc7b78",
   "metadata": {
    "tags": []
   },
   "outputs": [],
   "source": [
    "from tqdm.notebook import tqdm\n",
    "from amftrack.pipeline.functions.image_processing.extract_width_fun import (\n",
    "    compute_edge_width_profile,\n",
    ")\n",
    "\n",
    "resolution = 50\n",
    "TARGET_LENGTH = 120\n",
    "edge_width = {}\n",
    "for edge_exp in tqdm(edges_choice):\n",
    "    if len(edge_exp.pixel_list(t)) > 2 * resolution:\n",
    "        prediction = compute_edge_width_profile(\n",
    "            exp,\n",
    "            t,\n",
    "            edge_exp,\n",
    "            resolution=resolution,\n",
    "            offset=8,\n",
    "            step=6,\n",
    "            target_length=TARGET_LENGTH,\n",
    "        )\n",
    "        median = np.median(prediction)\n",
    "        edge_width[edge_exp] = median\n",
    "    else:\n",
    "        edge_width[edge_exp] = 0"
   ]
  },
  {
   "cell_type": "code",
   "execution_count": null,
   "id": "4497c2ea-171d-4a68-b65f-716393f47893",
   "metadata": {
    "tags": []
   },
   "outputs": [],
   "source": [
    "widths = [edge.width(t) for edge in edges_choice if np.sqrt(edge_width[edge]) > 0]\n",
    "widths2 = [\n",
    "    np.sqrt(edge_width[edge]) for edge in edges_choice if np.sqrt(edge_width[edge]) > 0\n",
    "]"
   ]
  },
  {
   "cell_type": "code",
   "execution_count": null,
   "id": "22493a8e-38a5-47e3-96c7-184086381a9a",
   "metadata": {
    "tags": []
   },
   "outputs": [],
   "source": [
    "fig, ax = plt.subplots()\n",
    "ax.scatter(widths, widths2)"
   ]
  },
  {
   "cell_type": "code",
   "execution_count": null,
   "id": "959bea06-00d5-4ca4-b854-8ec4fe196c5d",
   "metadata": {
    "tags": []
   },
   "outputs": [],
   "source": [
    "path_figure = r\"/mnt/c/Users/coren/Documents/PhD/paper/PandC/Fig1\"\n",
    "\n",
    "cm = 1 / 2.54  # centimeters in inches\n",
    "y_test, y_predict = np.array(widths), np.array(widths2)\n",
    "fig, ax = plt.subplots(figsize=(5.2 * cm, 5.2 * cm))\n",
    "ax.scatter(y_test / 2, y_predict / 2 - y_test / 2, s=3, alpha=0.2)\n",
    "ax.hlines(0, 0, 8, color=\"black\", linestyle=\"dashed\")\n",
    "\n",
    "ax.set_xlabel(\"$r_{real}$ ($\\mu m$)\")\n",
    "ax.set_ylabel(\"$r_{predicted}-r_{real}$ ($\\mu m$)\")\n",
    "# ax.set_xlim()\n",
    "ax.set_ylim(-1 * np.std(y_test), 1 * np.std(y_test))\n",
    "residuals = y_predict / 2 - y_test / 2\n",
    "n = 12\n",
    "\n",
    "# New code for evenly spaced groups\n",
    "min_y_test, max_y_test = np.min(y_test) / 2, np.max(y_test) / 2\n",
    "interval_length = (max_y_test - min_y_test) / n\n",
    "group_means = []\n",
    "group_stds = []  # For uncertainties\n",
    "\n",
    "for i in range(n):\n",
    "    start = min_y_test + i * interval_length\n",
    "    end = start + interval_length\n",
    "    indices = np.where((y_test / 2 >= start) & (y_test / 2 < end))\n",
    "    if len(indices[0]) > 2:\n",
    "        # mean_y_test = np.nanmean(y_test[indices] / 2)\n",
    "        mean_residual = np.nanmean(residuals[indices])\n",
    "        mean_y_test = (start + end) / 2\n",
    "        mean_y_test = start\n",
    "\n",
    "        std_residual = np.nanstd(\n",
    "            residuals[indices]\n",
    "        )  # Standard deviation for uncertainty\n",
    "        group_means.append((mean_y_test, mean_residual))\n",
    "        group_stds.append(std_residual)\n",
    "        print(end)\n",
    "    # break\n",
    "group_means = np.array(group_means)\n",
    "# Plotting the mean\n",
    "ax.plot(group_means[:, 0], group_means[:, 1], color=\"red\", label=\"Mean Residual\")\n",
    "\n",
    "# Adding shaded uncertainty areas\n",
    "ax.fill_between(\n",
    "    group_means[:, 0],\n",
    "    group_means[:, 1] - group_stds,\n",
    "    group_means[:, 1] + group_stds,\n",
    "    color=\"red\",\n",
    "    alpha=0.2,\n",
    ")\n",
    "# plt.savefig(os.path.join(path_figure,'residuals.pdf'), transparent=True, bbox_inches='tight')\n",
    "ax.set_xlim(0, 7)"
   ]
  }
 ],
 "metadata": {
  "kernelspec": {
   "display_name": "Python 3 (ipykernel)",
   "language": "python",
   "name": "python3"
  },
  "language_info": {
   "codemirror_mode": {
    "name": "ipython",
    "version": 3
   },
   "file_extension": ".py",
   "mimetype": "text/x-python",
   "name": "python",
   "nbconvert_exporter": "python",
   "pygments_lexer": "ipython3",
   "version": "3.12.3"
  }
 },
 "nbformat": 4,
 "nbformat_minor": 5
}

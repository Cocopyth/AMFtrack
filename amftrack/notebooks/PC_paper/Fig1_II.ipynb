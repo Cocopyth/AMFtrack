{
 "cells": [
  {
   "cell_type": "code",
   "execution_count": null,
   "id": "382a263d-1ac6-44d1-885d-4e898f40caa9",
   "metadata": {
    "tags": []
   },
   "outputs": [],
   "source": [
    "%load_ext autoreload\n",
    "%autoreload 2\n",
    "%matplotlib widget\n",
    "\n",
    "from amftrack.pipeline.launching.run_super import (\n",
    "    run_launcher,\n",
    "    directory_scratch,\n",
    "    directory_project,\n",
    "    directory_project,\n",
    "    run_parallel_stitch,\n",
    "    run_parallel_transfer,\n",
    ")\n",
    "import os\n",
    "from amftrack.util.sys import (\n",
    "    get_dates_datetime,\n",
    "    get_dirname,\n",
    "    temp_path,\n",
    "    get_data_info,\n",
    "    update_plate_info,\n",
    "    update_analysis_info,\n",
    "    get_analysis_info,\n",
    "    get_current_folders,\n",
    "    get_folders_by_plate_id,\n",
    ")\n",
    "\n",
    "from time import time_ns\n",
    "from amftrack.util.dbx import (\n",
    "    upload_folders,\n",
    "    load_dbx,\n",
    "    download,\n",
    "    get_dropbox_folders_prince,\n",
    ")\n",
    "from datetime import datetime\n",
    "from amftrack.pipeline.launching.run_super import (\n",
    "    run_parallel,\n",
    "    directory_scratch,\n",
    "    directory_project,\n",
    "    run_parallel_stitch,\n",
    ")\n",
    "from amftrack.util.dbx import read_saved_dropbox_state, get_dropbox_folders_prince\n",
    "import sys\n",
    "import os\n",
    "\n",
    "from amftrack.util.sys import get_dirname, temp_path\n",
    "import pandas as pd\n",
    "import ast\n",
    "from scipy import sparse\n",
    "import scipy.io as sio\n",
    "import cv2\n",
    "import imageio.v2 as imageio\n",
    "import numpy as np\n",
    "import scipy.sparse\n",
    "import os\n",
    "from time import time\n",
    "from amftrack.pipeline.functions.image_processing.extract_skel import (\n",
    "    extract_skel_new_prince,\n",
    "    run_back_sub,\n",
    "    bowler_hat,\n",
    ")\n",
    "\n",
    "from amftrack.util.sys import get_dates_datetime, get_dirname\n",
    "import shutil\n",
    "import matplotlib.pyplot as plt\n",
    "from amftrack.pipeline.functions.image_processing.experiment_class_surf import (\n",
    "    Experiment,\n",
    "    save_graphs,\n",
    "    load_graphs,\n",
    "    Edge,\n",
    "    Node,\n",
    ")\n",
    "from amftrack.pipeline.functions.image_processing.experiment_util import (\n",
    "    get_random_edge,\n",
    "    distance_point_edge,\n",
    "    plot_edge,\n",
    "    plot_edge_cropped,\n",
    "    find_nearest_edge,\n",
    "    get_edge_from_node_labels,\n",
    "    plot_full_image_with_features,\n",
    "    get_all_edges,\n",
    "    get_all_nodes,\n",
    "    find_neighboring_edges,\n",
    "    reconstruct_image,\n",
    "    reconstruct_skeletton_from_edges,\n",
    "    reconstruct_skeletton_unicolor,\n",
    "    reconstruct_image_from_general,\n",
    "    plot_full,\n",
    "    plot_edge_color_value,\n",
    ")\n",
    "from matplotlib import cm\n",
    "import networkx as nx"
   ]
  },
  {
   "cell_type": "code",
   "execution_count": null,
   "id": "8628d986-bebd-4630-b7e0-ab581fda42ef",
   "metadata": {
    "tags": []
   },
   "outputs": [],
   "source": [
    "directory_targ = directory_project\n",
    "directory_targ = directory_targ + \"fig1/\""
   ]
  },
  {
   "cell_type": "code",
   "execution_count": null,
   "id": "4b716fc8-ef48-427f-8676-479c8dc60327",
   "metadata": {
    "tags": []
   },
   "outputs": [],
   "source": [
    "update_plate_info(directory_targ, local=True)\n",
    "all_folders = get_current_folders(directory_targ, local=True)"
   ]
  },
  {
   "cell_type": "code",
   "execution_count": null,
   "id": "53173750-9bfe-4311-a013-fe8501691e2a",
   "metadata": {
    "tags": []
   },
   "outputs": [],
   "source": [
    "folders = all_folders.loc[all_folders[\"/Analysis/nx_graph_pruned_width.p\"] == True]\n",
    "len(folders), len(all_folders)"
   ]
  },
  {
   "cell_type": "code",
   "execution_count": null,
   "id": "c016c28d-02c3-4ae2-bbec-a46811aef013",
   "metadata": {
    "tags": []
   },
   "outputs": [],
   "source": [
    "plates = all_folders[\"unique_id\"].unique()\n",
    "results = {}\n",
    "for plate in plates:\n",
    "    folders = all_folders.loc[all_folders[\"unique_id\"] == plate]\n",
    "    folders = folders.loc[folders[\"/Analysis/nx_graph_pruned_width.p\"] == True]\n",
    "    folders = folders.sort_values(by=\"datetime\")\n",
    "\n",
    "    exp = Experiment(directory_targ)\n",
    "    i = 0\n",
    "    exp.load(folders.iloc[i : i + 1], suffix=\"_width\")\n",
    "    for t in range(exp.ts):\n",
    "        exp.load_tile_information(t)\n",
    "    G = exp.nx_graph[t]\n",
    "    components = nx.connected_components(G)\n",
    "\n",
    "    # Find the largest connected component\n",
    "    largest_component = max(components, key=len)\n",
    "\n",
    "    # Create a new graph representing the largest connected component\n",
    "    largest_component_graph = G.subgraph(largest_component)\n",
    "    exp.nx_graph[t] = largest_component_graph\n",
    "    edges = get_all_edges(exp, t)\n",
    "    lengths = [edge.length_um(t) for edge in edges]\n",
    "    widths = [edge.width(t) for edge in edges]\n",
    "    folders = all_folders.loc[all_folders[\"unique_id\"] == plate]\n",
    "    strain = folders[\"strain\"].value_counts().idxmax()\n",
    "    if np.max(widths) != 40:\n",
    "        results[plate] = edges, lengths, widths, [strain] * len(edges)\n",
    "    else:\n",
    "        print(plate)"
   ]
  },
  {
   "cell_type": "code",
   "execution_count": null,
   "id": "c7414d6a-00f3-452f-9d61-467788163b2d",
   "metadata": {
    "tags": []
   },
   "outputs": [],
   "source": [
    "data = []\n",
    "\n",
    "# Iterate over the results to create rows for the DataFrame\n",
    "for plate, (edges, lengths, widths, strains) in results.items():\n",
    "    for edge, length, width, strain in zip(edges, lengths, widths, strains):\n",
    "        data.append(\n",
    "            {\n",
    "                \"plate\": plate,\n",
    "                \"edge\": edge,\n",
    "                \"length\": length,\n",
    "                \"width\": width,\n",
    "                \"strain\": strain,\n",
    "            }\n",
    "        )\n",
    "\n",
    "# Create DataFrame from the list\n",
    "df_results = pd.DataFrame(data)"
   ]
  },
  {
   "cell_type": "code",
   "execution_count": null,
   "id": "66783416-9cbe-4d53-ba38-1da2e57ed133",
   "metadata": {
    "tags": []
   },
   "outputs": [],
   "source": [
    "df_results[\"radius\"] = df_results[\"width\"] / 2\n",
    "df_results[\"weight\"] = df_results[\"radius\"] ** 2 * df_results[\"length\"]\n",
    "# df_results['weight'] = df_results['length']\n",
    "df_results.loc[df_results[\"strain\"] == \"'A5sp3'\", \"strain\"] = \"'A5'\"\n",
    "df_results[\"strain\"].unique()"
   ]
  },
  {
   "cell_type": "code",
   "execution_count": null,
   "id": "b92c1224-0c7d-49f1-ba7b-6f5583cc1294",
   "metadata": {
    "tags": []
   },
   "outputs": [],
   "source": [
    "import seaborn as sns\n",
    "\n",
    "plt.style.use(\"presentation.mplstyle\")\n",
    "import logging\n",
    "\n",
    "# Set the logging level to WARNING to suppress INFO and DEBUG messages\n",
    "logging.basicConfig(level=logging.WARNING)"
   ]
  },
  {
   "cell_type": "code",
   "execution_count": null,
   "id": "d4942ef4-f35e-49a1-82c3-ce6b3c804928",
   "metadata": {},
   "outputs": [],
   "source": []
  },
  {
   "cell_type": "code",
   "execution_count": null,
   "id": "fbf018ab-e1a5-4ed8-9b96-ca167d16a2ea",
   "metadata": {
    "tags": []
   },
   "outputs": [],
   "source": [
    "palette = {\n",
    "    \"'C2'\": (0.17058823529411765, 0.4946558433997788, 0.9667184042691874),\n",
    "    \"'A5'\": (0.16666666666666663, 0.8660254037844386, 0.8660254037844387),\n",
    "    \"'Agg'\": (0.503921568627451, 0.9999810273487268, 0.7049255469061472),\n",
    "    \"'Clarum'\": (0.8333333333333333, 0.8660254037844387, 0.5000000000000001),\n",
    "    \"'C3'\": (1.0, 0.4946558433997788, 0.2558427775944356),\n",
    "}"
   ]
  },
  {
   "cell_type": "code",
   "execution_count": null,
   "id": "b8690e41-dd22-423e-bd33-b7499f0c9f87",
   "metadata": {
    "tags": []
   },
   "outputs": [],
   "source": [
    "# weighted_mean = np.sqrt((strain_data['radius']**2 * strain_data['length']).sum() / strain_data['length'].sum())\n",
    "# weighted_mean"
   ]
  },
  {
   "cell_type": "code",
   "execution_count": null,
   "id": "91b6a6d0-f680-4724-b854-8d7c903296a2",
   "metadata": {
    "tags": []
   },
   "outputs": [],
   "source": [
    "plt.close(\"all\")\n",
    "from matplotlib.ticker import FuncFormatter\n",
    "\n",
    "cm = 1 / 2.54  # centimeters in inches\n",
    "\n",
    "fig, ax = plt.subplots(figsize=(6 * cm, 4 * cm))\n",
    "select = df_results[df_results[\"width\"] > 0.1]\n",
    "select = select[select[\"width\"] <= 14]\n",
    "\n",
    "# sns.histplot(select,x = 'radius',hue=\"strain\",kde = True, weights = \"weight\",stat=\"density\",bins = 30, common_norm=False,palette= palette,fill=False)\n",
    "for strain in select[\"strain\"].unique():\n",
    "    strain_data = select[select[\"strain\"] == strain]\n",
    "    print(strain, len(strain_data[\"plate\"].unique()))\n",
    "    weighted_mean = (strain_data[\"radius\"] * strain_data[\"weight\"]).sum() / strain_data[\n",
    "        \"weight\"\n",
    "    ].sum()\n",
    "    weighted_mean = np.sqrt(\n",
    "        (strain_data[\"radius\"] ** 2 * strain_data[\"length\"]).sum()\n",
    "        / strain_data[\"length\"].sum()\n",
    "    )\n",
    "\n",
    "    ax.axvline(\n",
    "        weighted_mean, color=palette[strain], linestyle=\"--\", linewidth=2, alpha=0.5\n",
    "    )\n",
    "    sns.kdeplot(\n",
    "        strain_data,\n",
    "        x=\"radius\",\n",
    "        ax=ax,\n",
    "        label=strain,\n",
    "        weights=\"weight\",\n",
    "        color=palette[strain],\n",
    "        alpha=0.9,\n",
    "    )\n",
    "ax.set_xlabel(\"radius ($\\mu m$)\")\n",
    "ax.set_ylabel(\"density\")\n",
    "# ax.set_yscale('log')\n",
    "# ax.set_xscale('log')\n",
    "\n",
    "# ax.set_ylim(1e-2,1)\n",
    "ax.set_xlim(0.1, 7)\n",
    "\n",
    "ax.set_xticks([1, 2, 3, 4, 5, 6, 7])\n",
    "ax.set_xticklabels([\"1\", \"2\", \"3\", \"4\", \"5\", \"6\", \"7\"])\n",
    "# def format_fn(tick_val, tick_pos):\n",
    "#     if int(tick_val) in [1,2, 4, 6, 7]:\n",
    "#         return str(int(tick_val))\n",
    "#     else:\n",
    "#         return ''\n",
    "\n",
    "# # Apply the formatter to the x-axis\n",
    "# ax.xaxis.set_major_formatter(FuncFormatter(format_fn))\n",
    "# plt.savefig(os.path.join('figures','Figure1D2.pdf'), transparent=True, bbox_inches='tight')"
   ]
  },
  {
   "cell_type": "code",
   "execution_count": null,
   "id": "093e2138-db71-4372-946c-c21682155678",
   "metadata": {},
   "outputs": [],
   "source": [
    "veéefer"
   ]
  },
  {
   "cell_type": "code",
   "execution_count": null,
   "id": "d0fa74be-ba99-49da-bd62-5a72fa8a3d09",
   "metadata": {},
   "outputs": [],
   "source": [
    "plt.close(\"all\")\n",
    "from matplotlib.ticker import FuncFormatter\n",
    "\n",
    "cm = 1 / 2.54  # centimeters in inches\n",
    "\n",
    "fig, ax = plt.subplots(figsize=(6 * cm, 4 * cm))\n",
    "select = df_results[df_results[\"width\"] > 0.1]\n",
    "select = select[select[\"width\"] <= 14]\n",
    "\n",
    "# sns.histplot(select,x = 'radius',hue=\"strain\",kde = True, weights = \"weight\",stat=\"density\",bins = 30, common_norm=False,palette= palette,fill=False)\n",
    "for strain in select[\"strain\"].unique():\n",
    "    strain_data = select[select[\"strain\"] == strain]\n",
    "    weighted_mean = (strain_data[\"radius\"] * strain_data[\"weight\"]).sum() / strain_data[\n",
    "        \"weight\"\n",
    "    ].sum()\n",
    "    weighted_mean = np.sqrt(\n",
    "        (strain_data[\"radius\"] ** 2 * strain_data[\"length\"]).sum()\n",
    "        / strain_data[\"length\"].sum()\n",
    "    )\n",
    "\n",
    "    ax.axvline(\n",
    "        weighted_mean, color=palette[strain], linestyle=\"--\", linewidth=2, alpha=0.5\n",
    "    )\n",
    "    sns.kdeplot(\n",
    "        strain_data,\n",
    "        x=\"radius\",\n",
    "        ax=ax,\n",
    "        label=strain,\n",
    "        weights=\"weight\",\n",
    "        color=palette[strain],\n",
    "        alpha=0.9,\n",
    "    )\n",
    "ax.set_xlabel(\"radius ($\\mu m$)\")\n",
    "ax.set_ylabel(\"density\")\n",
    "ax.set_yscale(\"log\")\n",
    "# ax.set_xscale('log')\n",
    "\n",
    "ax.set_ylim(1e-2, 1)\n",
    "# ax.set_xlim(0.1,7)\n",
    "\n",
    "# ax.set_xticks([1,2, 3, 4,5,6, 7])\n",
    "# ax.set_xticklabels(['1','2', '3', '4','5','6', '7'])\n",
    "# def format_fn(tick_val, tick_pos):\n",
    "#     if int(tick_val) in [1,2, 4, 6, 7]:\n",
    "#         return str(int(tick_val))\n",
    "#     else:\n",
    "#         return ''\n",
    "\n",
    "# # Apply the formatter to the x-axis\n",
    "# ax.xaxis.set_major_formatter(FuncFormatter(format_fn))\n",
    "# plt.savefig(os.path.join('figures','Figure1D2.pdf'), transparent=True, bbox_inches='tight')"
   ]
  },
  {
   "cell_type": "code",
   "execution_count": null,
   "id": "d1a64e75-5a53-4f99-b96a-a8565d6775dd",
   "metadata": {
    "tags": []
   },
   "outputs": [],
   "source": [
    "plates"
   ]
  },
  {
   "cell_type": "code",
   "execution_count": null,
   "id": "23016704-e292-465b-b52c-70337cbd8120",
   "metadata": {
    "tags": []
   },
   "outputs": [],
   "source": [
    "plate = \"472_20221003\"\n",
    "folders = all_folders.loc[all_folders[\"unique_id\"] == plate]\n",
    "folders = folders.loc[folders[\"/Analysis/nx_graph_pruned_width.p\"] == True]\n",
    "folders = folders.sort_values(by=\"datetime\")\n",
    "\n",
    "exp = Experiment(directory_targ)\n",
    "i = 0\n",
    "exp.load(folders.iloc[i : i + 1], suffix=\"_width\")\n",
    "for t in range(exp.ts):\n",
    "    exp.load_tile_information(t)\n",
    "G = exp.nx_graph[t]\n",
    "components = nx.connected_components(G)\n",
    "\n",
    "# Find the largest connected component\n",
    "largest_component = max(components, key=len)\n",
    "\n",
    "# Create a new graph representing the largest connected component\n",
    "largest_component_graph = G.subgraph(largest_component)\n",
    "exp.nx_graph[t] = largest_component_graph\n",
    "edges = get_all_edges(exp, t)"
   ]
  },
  {
   "cell_type": "code",
   "execution_count": null,
   "id": "26f5dce9-268c-4c99-b66f-1edcc509136f",
   "metadata": {
    "tags": []
   },
   "outputs": [],
   "source": [
    "len(edges)"
   ]
  },
  {
   "cell_type": "code",
   "execution_count": null,
   "id": "36a6f061-5724-49de-87ad-9245c42a4853",
   "metadata": {
    "tags": []
   },
   "outputs": [],
   "source": [
    "edges_choice = np.random.choice(edges, size=1000, replace=False)"
   ]
  },
  {
   "cell_type": "code",
   "execution_count": null,
   "id": "bd92f606-4499-48ae-a724-6dfd8edc7b78",
   "metadata": {
    "tags": []
   },
   "outputs": [],
   "source": [
    "from tqdm.notebook import tqdm\n",
    "from amftrack.pipeline.functions.image_processing.extract_width_fun import (\n",
    "    compute_edge_width_profile,\n",
    ")\n",
    "\n",
    "resolution = 50\n",
    "TARGET_LENGTH = 120\n",
    "edge_width = {}\n",
    "for edge_exp in tqdm(edges_choice):\n",
    "    if len(edge_exp.pixel_list(t)) > 2 * resolution:\n",
    "        prediction = compute_edge_width_profile(\n",
    "            exp,\n",
    "            t,\n",
    "            edge_exp,\n",
    "            resolution=resolution,\n",
    "            offset=8,\n",
    "            step=6,\n",
    "            target_length=TARGET_LENGTH,\n",
    "        )\n",
    "        median = np.median(prediction)\n",
    "        edge_width[edge_exp] = median\n",
    "    else:\n",
    "        edge_width[edge_exp] = 0"
   ]
  },
  {
   "cell_type": "code",
   "execution_count": null,
   "id": "4497c2ea-171d-4a68-b65f-716393f47893",
   "metadata": {
    "tags": []
   },
   "outputs": [],
   "source": [
    "widths = [edge.width(t) for edge in edges_choice if np.sqrt(edge_width[edge]) > 0]\n",
    "widths2 = [\n",
    "    np.sqrt(edge_width[edge]) for edge in edges_choice if np.sqrt(edge_width[edge]) > 0\n",
    "]"
   ]
  },
  {
   "cell_type": "code",
   "execution_count": null,
   "id": "22493a8e-38a5-47e3-96c7-184086381a9a",
   "metadata": {
    "tags": []
   },
   "outputs": [],
   "source": [
    "fig, ax = plt.subplots()\n",
    "ax.scatter(widths, widths2)"
   ]
  },
  {
   "cell_type": "code",
   "execution_count": null,
   "id": "959bea06-00d5-4ca4-b854-8ec4fe196c5d",
   "metadata": {
    "tags": []
   },
   "outputs": [],
   "source": [
    "path_figure = r\"/mnt/c/Users/coren/Documents/PhD/paper/PandC/Fig1\"\n",
    "\n",
    "cm = 1 / 2.54  # centimeters in inches\n",
    "y_test, y_predict = np.array(widths), np.array(widths2)\n",
    "fig, ax = plt.subplots(figsize=(5.2 * cm, 5.2 * cm))\n",
    "ax.scatter(y_test / 2, y_predict / 2 - y_test / 2, s=3, alpha=0.2)\n",
    "ax.hlines(0, 0, 8, color=\"black\", linestyle=\"dashed\")\n",
    "\n",
    "ax.set_xlabel(\"$r_{real}$ ($\\mu m$)\")\n",
    "ax.set_ylabel(\"$r_{predicted}-r_{real}$ ($\\mu m$)\")\n",
    "# ax.set_xlim()\n",
    "ax.set_ylim(-1 * np.std(y_test), 1 * np.std(y_test))\n",
    "residuals = y_predict / 2 - y_test / 2\n",
    "n = 12\n",
    "\n",
    "# New code for evenly spaced groups\n",
    "min_y_test, max_y_test = np.min(y_test) / 2, np.max(y_test) / 2\n",
    "interval_length = (max_y_test - min_y_test) / n\n",
    "group_means = []\n",
    "group_stds = []  # For uncertainties\n",
    "\n",
    "for i in range(n):\n",
    "    start = min_y_test + i * interval_length\n",
    "    end = start + interval_length\n",
    "    indices = np.where((y_test / 2 >= start) & (y_test / 2 < end))\n",
    "    if len(indices[0]) > 2:\n",
    "        # mean_y_test = np.nanmean(y_test[indices] / 2)\n",
    "        mean_residual = np.nanmean(residuals[indices])\n",
    "        mean_y_test = (start + end) / 2\n",
    "        mean_y_test = start\n",
    "\n",
    "        std_residual = np.nanstd(\n",
    "            residuals[indices]\n",
    "        )  # Standard deviation for uncertainty\n",
    "        group_means.append((mean_y_test, mean_residual))\n",
    "        group_stds.append(std_residual)\n",
    "        print(end)\n",
    "    # break\n",
    "group_means = np.array(group_means)\n",
    "# Plotting the mean\n",
    "ax.plot(group_means[:, 0], group_means[:, 1], color=\"red\", label=\"Mean Residual\")\n",
    "\n",
    "# Adding shaded uncertainty areas\n",
    "ax.fill_between(\n",
    "    group_means[:, 0],\n",
    "    group_means[:, 1] - group_stds,\n",
    "    group_means[:, 1] + group_stds,\n",
    "    color=\"red\",\n",
    "    alpha=0.2,\n",
    ")\n",
    "# plt.savefig(os.path.join(path_figure,'residuals.pdf'), transparent=True, bbox_inches='tight')\n",
    "ax.set_xlim(0, 7)"
   ]
  }
 ],
 "metadata": {
  "kernelspec": {
   "display_name": "Python 3 (ipykernel)",
   "language": "python",
   "name": "python3"
  },
  "language_info": {
   "codemirror_mode": {
    "name": "ipython",
    "version": 3
   },
   "file_extension": ".py",
   "mimetype": "text/x-python",
   "name": "python",
   "nbconvert_exporter": "python",
   "pygments_lexer": "ipython3",
   "version": "3.7.13"
  }
 },
 "nbformat": 4,
 "nbformat_minor": 5
}

{
 "cells": [
  {
   "cell_type": "code",
   "execution_count": null,
   "id": "f70c80be-987f-4332-8255-b30b9bae5afb",
   "metadata": {
    "jupyter": {
     "outputs_hidden": true
    },
    "tags": []
   },
   "outputs": [],
   "source": [
    "from IPython.display import clear_output\n",
    "import os\n",
    "\n",
    "os.environ[\"CUDA_VISIBLE_DEVICES\"] = \"-1\"\n",
    "import re\n",
    "import dropbox\n",
    "import sys\n",
    "import pandas as pd\n",
    "import numpy as np\n",
    "import imageio.v2 as imageio\n",
    "import matplotlib.pyplot as plt\n",
    "import cv2\n",
    "import logging\n",
    "import datetime\n",
    "import glob\n",
    "import json\n",
    "import scipy\n",
    "import matplotlib as mpl\n",
    "\n",
    "from subprocess import call\n",
    "from tifffile import imwrite\n",
    "from tqdm import tqdm\n",
    "from pathlib import Path\n",
    "from amftrack.util.dbx import (\n",
    "    upload_folder,\n",
    "    download,\n",
    "    read_saved_dropbox_state,\n",
    "    save_dropbox_state,\n",
    "    load_dbx,\n",
    "    get_dropbox_folders_prince,\n",
    "    get_dropbox_video_folders,\n",
    "    download_video_folders_drop,\n",
    "    download_analysis_folders_drop,\n",
    ")\n",
    "from amftrack.pipeline.launching.run import (\n",
    "    run_transfer,\n",
    ")\n",
    "from amftrack.pipeline.launching.run_super import run_parallel_transfer\n",
    "from amftrack.pipeline.launching.run_super import run_parallel_flows\n",
    "from amftrack.pipeline.functions.transport_processing.high_mag_videos.plot_data import (\n",
    "    plot_summary,\n",
    "    save_raw_data,\n",
    ")\n",
    "from amftrack.pipeline.functions.transport_processing.high_mag_videos.high_mag_analysis import (\n",
    "    HighmagDataset,\n",
    "    VideoDataset,\n",
    "    EdgeDataset,\n",
    "    index_videos_dropbox_new,\n",
    "    analysis_run,\n",
    ")\n",
    "from amftrack.pipeline.functions.transport_processing.high_mag_videos.kymo_class import (\n",
    "    KymoVideoAnalysis,\n",
    "    KymoEdgeAnalysis,\n",
    ")\n",
    "from amftrack.util.dbx import (upload\n",
    ")\n",
    "%load_ext autoreload\n",
    "%autoreload 2\n",
    "%matplotlib widget\n",
    "\n",
    "from amftrack.pipeline.launching.run_super import (\n",
    "    run_launcher,\n",
    "    directory_scratch,\n",
    "    directory_project,\n",
    "    directory_project,\n",
    "    run_parallel_stitch,\n",
    "    run_parallel_transfer,\n",
    ")\n",
    "import os\n",
    "from amftrack.pipeline.functions.image_processing.experiment_class_surf import (\n",
    "    Experiment,\n",
    "    save_graphs,\n",
    "    load_graphs,\n",
    "    Edge,\n",
    "    Node,\n",
    "\n",
    ")\n",
    "from amftrack.pipeline.functions.image_processing.experiment_util import (\n",
    "    get_random_edge,\n",
    "    distance_point_edge,\n",
    "    plot_edge,\n",
    "    plot_edge_cropped,\n",
    "    find_nearest_edge,\n",
    "    get_edge_from_node_labels,\n",
    "    plot_full_image_with_features,\n",
    "    get_all_edges,\n",
    "    get_all_nodes,\n",
    "    find_neighboring_edges,\n",
    "    reconstruct_image,\n",
    "    reconstruct_skeletton_from_edges,\n",
    "    reconstruct_skeletton_unicolor,\n",
    "    reconstruct_image_from_general,\n",
    "    plot_full,\n",
    "    plot_edge_color_value,\n",
    ")\n",
    "from amftrack.transport.align_video_network import identify_nodes\n",
    "logging.basicConfig(stream=sys.stdout, level=logging.debug)\n",
    "from amftrack.util.sys import (\n",
    "    get_dates_datetime,\n",
    "    get_dirname,\n",
    "    temp_path,\n",
    "    get_data_info,\n",
    "    update_plate_info,\n",
    "    update_analysis_info,\n",
    "    get_analysis_info,\n",
    "    get_current_folders,\n",
    "    get_folders_by_plate_id,\n",
    ")\n",
    "mpl.rcParams[\"figure.dpi\"] = 100\n",
    "from amftrack.pipeline.functions.transport_processing.high_mag_videos.register_videos import *\n"
   ]
  },
  {
   "cell_type": "code",
   "execution_count": null,
   "id": "2ec88104-cf1c-4cbe-afa1-093e6686e3da",
   "metadata": {
    "tags": []
   },
   "outputs": [],
   "source": [
    "plate_id = \"310_20230830\"\n",
    "plate_id_video = \"20230903_Plate310\"\n",
    "videos_folder = \"/projects/0/einf914/videos/\"\n"
   ]
  },
  {
   "cell_type": "code",
   "execution_count": null,
   "id": "20a22211-6911-468a-bdfb-868110775800",
   "metadata": {
    "tags": []
   },
   "outputs": [],
   "source": [
    "indexes = {\n",
    "\"20230901_Plate310\" : 20,\n",
    "\"20230902_Plate310\" : 32,\n",
    "\"20230904_Plate310\" : 44,\n",
    "    \n",
    "}"
   ]
  },
  {
   "cell_type": "code",
   "execution_count": null,
   "id": "755db006-2e57-49ae-86e0-79730f9b8dc7",
   "metadata": {
    "tags": []
   },
   "outputs": [],
   "source": [
    "analysis_folder = \"/projects/0/einf914/analysis_videos/CocoTransport/\"\n",
    "analysis_folder = f\"{analysis_folder}{plate_id_video}/\"\n",
    "\n",
    "img_infos = glob.glob(f\"{analysis_folder}/**/video_data.json\", recursive=True)\n",
    "vid_anls_frame = pd.DataFrame()\n",
    "add_infos = []\n",
    "for address in img_infos:\n",
    "    add_infos.append(pd.read_json(address, orient=\"index\").T)\n",
    "vid_anls_frame = pd.concat([vid_anls_frame] + add_infos, ignore_index=True)\n",
    "\n",
    "vid_anls_frame = vid_anls_frame.sort_values(\"unique_id\").reset_index(drop=True)\n",
    "vid_anls_frame_select = vid_anls_frame.loc[vid_anls_frame[\"plate_id\"] == plate_id_video]"
   ]
  },
  {
   "cell_type": "code",
   "execution_count": null,
   "id": "190395ee-6c25-4d1a-8e25-6ab0756d77a9",
   "metadata": {
    "tags": []
   },
   "outputs": [],
   "source": [
    "analysis_folder = \"/projects/0/einf914/analysis_videos/CocoTransport/\"\n",
    "analysis_folder = f\"{analysis_folder}{plate_id_video}/\"\n",
    "\n",
    "img_infos = glob.glob(f\"{analysis_folder}/**/video_data_network.json\", recursive=True)\n",
    "vid_anls_frame = pd.DataFrame()\n",
    "add_infos = []\n",
    "for address in img_infos:\n",
    "    add_infos.append(pd.read_json(address, orient=\"index\").T)\n",
    "vid_anls_frame = pd.concat([vid_anls_frame] + add_infos, ignore_index=True)\n",
    "\n",
    "vid_anls_frame = vid_anls_frame.sort_values(\"unique_id\").reset_index(drop=True)\n",
    "vid_anls_frame_select_network = vid_anls_frame.loc[vid_anls_frame[\"plate_id\"] == plate_id_video]"
   ]
  },
  {
   "cell_type": "code",
   "execution_count": null,
   "id": "fd003a92-2802-4eba-ae67-6b2e66eb6f38",
   "metadata": {
    "tags": []
   },
   "outputs": [],
   "source": [
    "vid_anls_frame_merged = vid_anls_frame_select.merge(vid_anls_frame_select_network[['xpos_network','ypos_network','unique_id']],on = 'unique_id')"
   ]
  },
  {
   "cell_type": "code",
   "execution_count": null,
   "id": "09ce99f8-b0d4-4049-a521-cc716dc84e8c",
   "metadata": {
    "tags": []
   },
   "outputs": [],
   "source": [
    "analysis_folder_root = \"/projects/0/einf914/analysis_videos/\"\n"
   ]
  },
  {
   "cell_type": "code",
   "execution_count": null,
   "id": "7c7ebbd1-52f6-4767-aa91-2a2cbeaeae26",
   "metadata": {
    "tags": []
   },
   "outputs": [],
   "source": [
    "vid_anls_frame_merged[\"analysis_folder\"] = analysis_folder_root\n",
    "vid_anls_frame_merged[\"videos_folder\"] = [\n",
    "    str(Path(videos_folder) / entry[\"folder\"])\n",
    "    for index, entry in vid_anls_frame_merged.iterrows()\n",
    "]"
   ]
  },
  {
   "cell_type": "code",
   "execution_count": null,
   "id": "f535df95-c0e8-4153-9a02-615bf4db8485",
   "metadata": {
    "tags": []
   },
   "outputs": [],
   "source": [
    "data_obj = HighmagDataset(vid_anls_frame_merged, analysis_folder_root, videos_folder)"
   ]
  },
  {
   "cell_type": "code",
   "execution_count": null,
   "id": "515db227-60eb-4f6a-8b79-e6b6d7a2658c",
   "metadata": {
    "tags": []
   },
   "outputs": [],
   "source": [
    "# directory_targ = os.path.join(directory_scratch, \"stitch_temp2\") + \"/\"\n",
    "directory_targ = '/projects/0/einf914/transport/'\n",
    "update_plate_info(directory_targ, local=True)\n",
    "all_folders = get_current_folders(directory_targ, local=True)"
   ]
  },
  {
   "cell_type": "code",
   "execution_count": null,
   "id": "54265cf6-9ab6-4d8e-bd26-85929d63ab06",
   "metadata": {
    "tags": []
   },
   "outputs": [],
   "source": [
    "folders = all_folders.loc[all_folders[\"unique_id\"] == plate_id]\n",
    "folders = folders.loc[folders[\"/Analysis/nx_graph_pruned_labeled.p\"] == True]"
   ]
  },
  {
   "cell_type": "code",
   "execution_count": null,
   "id": "7334ae46-8df7-4ef7-b5e6-797ac49747fd",
   "metadata": {
    "tags": []
   },
   "outputs": [],
   "source": [
    "folders = folders.sort_values(by=\"datetime\")\n",
    "\n",
    "exp = Experiment(directory_targ)\n",
    "i = 44\n",
    "exp.load(folders.iloc[i : i + 2], suffix=\"_width\")\n",
    "for t in range(exp.ts):\n",
    "    exp.load_tile_information(t)"
   ]
  },
  {
   "cell_type": "code",
   "execution_count": null,
   "id": "975dd667-5995-4eda-8a57-b4ec35d4c554",
   "metadata": {
    "tags": []
   },
   "outputs": [],
   "source": [
    "mpl.rcParams[\"figure.dpi\"] = 50\n",
    "\n",
    "from random import choice\n",
    "vid_obj = data_obj.video_objs[15]\n",
    "vid_obj.plot_speed_arrows(plot_both=True, video_txt_size=30,plot_flux = True,plot_text=False)\n"
   ]
  },
  {
   "cell_type": "code",
   "execution_count": null,
   "id": "80213b3d-62fe-4624-ba92-5e5027cbed98",
   "metadata": {
    "tags": []
   },
   "outputs": [],
   "source": [
    "for edge in vid_obj.edge_objs:\n",
    "    edge.time_data[\"flux_mean\"].mean()\n",
    "    break\n",
    "edge.time_data[\"flux_mean\"].mean()\n",
    "    "
   ]
  },
  {
   "cell_type": "code",
   "execution_count": null,
   "id": "1a65a44b-b551-49e4-a9d5-85fb8efc0f7d",
   "metadata": {
    "tags": []
   },
   "outputs": [],
   "source": [
    "edge = vid_obj.edge_objs[0]"
   ]
  },
  {
   "cell_type": "code",
   "execution_count": null,
   "id": "b3471b80-569c-4a20-a8da-5652c8c88f15",
   "metadata": {
    "tags": []
   },
   "outputs": [],
   "source": [
    "edge_begin = edge.mean_data[\"network_begin\"]\n",
    "edge_end = edge.mean_data[\"network_end\"]"
   ]
  },
  {
   "cell_type": "code",
   "execution_count": null,
   "id": "1ac604ad-798f-4977-b096-cb89cbb72789",
   "metadata": {
    "tags": []
   },
   "outputs": [],
   "source": [
    "network_edge = Edge(edge_begin,edge_end,exp)"
   ]
  },
  {
   "cell_type": "code",
   "execution_count": null,
   "id": "956c111d-ae9f-4071-a9fe-83dc38488e25",
   "metadata": {},
   "outputs": [],
   "source": [
    "network_edge"
   ]
  }
 ],
 "metadata": {
  "kernelspec": {
   "display_name": "Python 3 (ipykernel)",
   "language": "python",
   "name": "python3"
  },
  "language_info": {
   "codemirror_mode": {
    "name": "ipython",
    "version": 3
   },
   "file_extension": ".py",
   "mimetype": "text/x-python",
   "name": "python",
   "nbconvert_exporter": "python",
   "pygments_lexer": "ipython3",
   "version": "3.7.13"
  }
 },
 "nbformat": 4,
 "nbformat_minor": 5
}

{
 "cells": [
  {
   "cell_type": "code",
   "execution_count": null,
   "id": "f70c80be-987f-4332-8255-b30b9bae5afb",
   "metadata": {
    "tags": []
   },
   "outputs": [],
   "source": [
    "from IPython.display import clear_output\n",
    "import os\n",
    "\n",
    "os.environ[\"CUDA_VISIBLE_DEVICES\"] = \"-1\"\n",
    "import re\n",
    "import dropbox\n",
    "import sys\n",
    "import pandas as pd\n",
    "import numpy as np\n",
    "import imageio.v2 as imageio\n",
    "import matplotlib.pyplot as plt\n",
    "import cv2\n",
    "import logging\n",
    "import datetime\n",
    "import glob\n",
    "import json\n",
    "import scipy\n",
    "import matplotlib as mpl\n",
    "\n",
    "from subprocess import call\n",
    "from tifffile import imwrite\n",
    "from tqdm import tqdm\n",
    "from pathlib import Path\n",
    "from amftrack.util.dbx import (\n",
    "    upload_folder,\n",
    "    download,\n",
    "    read_saved_dropbox_state,\n",
    "    save_dropbox_state,\n",
    "    load_dbx,\n",
    "    get_dropbox_folders_prince,\n",
    "    get_dropbox_video_folders,\n",
    "    download_video_folders_drop,\n",
    "    download_analysis_folders_drop,\n",
    ")\n",
    "from amftrack.pipeline.launching.run import (\n",
    "    run_transfer,\n",
    ")\n",
    "from amftrack.pipeline.launching.run_super import run_parallel_transfer\n",
    "from amftrack.pipeline.launching.run_super import run_parallel_flows\n",
    "from amftrack.pipeline.functions.transport_processing.high_mag_videos.plot_data import (\n",
    "    plot_summary,\n",
    "    save_raw_data,\n",
    ")\n",
    "from amftrack.pipeline.functions.transport_processing.high_mag_videos.high_mag_analysis import (\n",
    "    HighmagDataset,\n",
    "    VideoDataset,\n",
    "    EdgeDataset,\n",
    "    index_videos_dropbox_new,\n",
    "    analysis_run,\n",
    ")\n",
    "from amftrack.pipeline.functions.transport_processing.high_mag_videos.kymo_class import (\n",
    "    KymoVideoAnalysis,\n",
    "    KymoEdgeAnalysis,\n",
    ")\n",
    "from amftrack.util.dbx import (upload\n",
    ")\n",
    "%load_ext autoreload\n",
    "%autoreload 2\n",
    "%matplotlib widget\n",
    "\n",
    "from amftrack.pipeline.launching.run_super import (\n",
    "    run_launcher,\n",
    "    directory_scratch,\n",
    "    directory_project,\n",
    "    directory_project,\n",
    "    run_parallel_stitch,\n",
    "    run_parallel_transfer,\n",
    ")\n",
    "import os\n",
    "from amftrack.pipeline.functions.image_processing.experiment_class_surf import (\n",
    "    Experiment,\n",
    "    save_graphs,\n",
    "    load_graphs,\n",
    "    Edge,\n",
    "    Node,\n",
    "\n",
    ")\n",
    "from amftrack.pipeline.functions.image_processing.experiment_util import (\n",
    "    get_random_edge,\n",
    "    distance_point_edge,\n",
    "    plot_edge,\n",
    "    plot_edge_cropped,\n",
    "    find_nearest_edge,\n",
    "    get_edge_from_node_labels,\n",
    "    plot_full_image_with_features,\n",
    "    get_all_edges,\n",
    "    get_all_nodes,\n",
    "    find_neighboring_edges,\n",
    "    reconstruct_image,\n",
    "    reconstruct_skeletton_from_edges,\n",
    "    reconstruct_skeletton_unicolor,\n",
    "    reconstruct_image_from_general,\n",
    "    plot_full,\n",
    "    plot_edge_color_value,\n",
    ")\n",
    "from amftrack.transport.align_video_network import identify_nodes\n",
    "logging.basicConfig(stream=sys.stdout, level=logging.debug)\n",
    "from amftrack.util.sys import (\n",
    "    get_dates_datetime,\n",
    "    get_dirname,\n",
    "    temp_path,\n",
    "    get_data_info,\n",
    "    update_plate_info,\n",
    "    update_analysis_info,\n",
    "    get_analysis_info,\n",
    "    get_current_folders,\n",
    "    get_folders_by_plate_id,\n",
    ")\n",
    "mpl.rcParams[\"figure.dpi\"] = 100\n",
    "from amftrack.pipeline.functions.transport_processing.high_mag_videos.register_videos import *\n",
    "from amftrack.pipeline.functions.transport_processing.high_mag_videos.loading import load_video_dataset\n",
    "from amftrack.pipeline.functions.transport_processing.high_mag_videos.add_BC import *\n",
    "\n",
    "from amftrack.pipeline.functions.post_processing.time_hypha import *\n",
    "from amftrack.pipeline.functions.post_processing.extract_study_zone import (\n",
    "    load_study_zone,\n",
    ")\n",
    "import networkx as nx\n"
   ]
  },
  {
   "cell_type": "code",
   "execution_count": null,
   "id": "2ec88104-cf1c-4cbe-afa1-093e6686e3da",
   "metadata": {
    "tags": []
   },
   "outputs": [],
   "source": [
    "videos_folder = \"/projects/0/einf914/videos/\"\n",
    "\n",
    "analysis_folder = \"/projects/0/einf914/analysis_videos/CocoTransport/\"\n",
    "analysis_folder_root = \"/projects/0/einf914/analysis_videos/\"\n",
    "directory_targ = '/projects/0/einf914/transport/'\n"
   ]
  },
  {
   "cell_type": "code",
   "execution_count": null,
   "id": "20a22211-6911-468a-bdfb-868110775800",
   "metadata": {
    "tags": []
   },
   "outputs": [],
   "source": [
    "indexes = {\n",
    "\"20230901_Plate310\" : 20,\n",
    "\"20230902_Plate310\" : 33,\n",
    "\"20230903_Plate310\" : 42,\n",
    "\"20230904_Plate310\" : 52,\n",
    "\"20230905_Plate310\" : 64,\n",
    "\"20230906_Plate310\" : 73,\n",
    "}\n",
    "indexes = {\n",
    "\"20230810_Plate441\" : \"20230810_1005_Plate14\",\n",
    "\"20230811_Plate441\" : \"20230811_1605_Plate14\",\n",
    "\"20230812_Plate441\" : \"20230812_1006_Plate14\",\n",
    "\"20230813_Plate441\" : \"20230812_1618_Plate14\",\n",
    "}\n",
    "indexes = {\n",
    "\"20230813_Plate449\" : \"20230813_1606_Plate10\",\n",
    "\"20230814_Plate449\" : \"20230814_1019_Plate10\",\n",
    "\"20230815_Plate449\" : \"20230815_1021_Plate10\",\n",
    "\"20230816_Plate449\" : \"20230816_1027_Plate10\",\n",
    "}"
   ]
  },
  {
   "cell_type": "code",
   "execution_count": null,
   "id": "90564821-bd0e-4830-a360-2c7a873343b8",
   "metadata": {
    "tags": []
   },
   "outputs": [],
   "source": [
    "plate_id = \"449_20230807\"\n",
    "# plate_id_video = \"20230814_Plate449\"\n",
    "# data_obj = load_video_dataset(plate_id_video, videos_folder, analysis_folder, analysis_folder_root)"
   ]
  },
  {
   "cell_type": "code",
   "execution_count": null,
   "id": "09ce99f8-b0d4-4049-a521-cc716dc84e8c",
   "metadata": {
    "tags": []
   },
   "outputs": [],
   "source": [
    "update_plate_info(directory_targ, local=True)\n",
    "all_folders = get_current_folders(directory_targ, local=True)\n",
    "folders = all_folders.loc[all_folders[\"unique_id\"] == plate_id]\n",
    "folders = folders.loc[folders[\"/Analysis/nx_graph_pruned_labeled.p\"] == True]\n",
    "folders = folders.sort_values(by=\"datetime\")"
   ]
  },
  {
   "cell_type": "code",
   "execution_count": null,
   "id": "7334ae46-8df7-4ef7-b5e6-797ac49747fd",
   "metadata": {
    "tags": []
   },
   "outputs": [],
   "source": [
    "\n",
    "folders = folders.sort_values(by=\"datetime\")\n",
    "\n",
    "exp = Experiment(directory_targ)\n",
    "# i = indexes[plate_id_video]\n",
    "# i = np.where(folders['folder'] == indexes[plate_id_video])[0][0]\n",
    "selection = folders[folders['folder'].isin(indexes.values())]\n",
    "# i = 10\n",
    "# exp.load(folders.iloc[i : i + 2], suffix=\"_labeled\")\n",
    "exp.load(selection, suffix=\"_labeled\")\n",
    "\n",
    "for t in range(exp.ts):\n",
    "    exp.load_tile_information(t)\n",
    "    G = exp.nx_graph[t]\n",
    "    components = nx.connected_components(G)\n",
    "\n",
    "    # Find the largest connected component\n",
    "    largest_component = max(components, key=len)\n",
    "\n",
    "    # Create a new graph representing the largest connected component\n",
    "    largest_component_graph = G.subgraph(largest_component)\n",
    "    exp.nx_graph[t] = largest_component_graph\n",
    "    exp.save_location = \"\"\n",
    "\n",
    "    load_study_zone(exp)\n",
    "\n",
    "# load_graphs(exp, directory_targ,indexes = [0])\n",
    "\n"
   ]
  },
  {
   "cell_type": "code",
   "execution_count": null,
   "id": "654f11c1-d9ac-4b3c-a87f-83c04ae7a186",
   "metadata": {
    "tags": []
   },
   "outputs": [],
   "source": [
    "t=0\n",
    "edges = get_all_edges(exp, t)\n",
    "nodes = get_all_nodes(exp, t)\n",
    "Vmax= 1\n",
    "def get_weight(node):\n",
    "    weight = 0\n",
    "    for edge in node.edges(t):\n",
    "        weight+= Vmax*np.pi*edge.width(t)/2\n",
    "    return(weight)\n",
    "\n",
    "def get_shortest_path_edges(node2,shortest):\n",
    "    exp = node1.experiment\n",
    "    nodes = shortest[node2.label]\n",
    "    edges = []\n",
    "    for i in range(len(nodes)-1):\n",
    "        nodea = Node(nodes[i],exp)\n",
    "        nodeb = Node(nodes[i+1],exp)\n",
    "        edges.append(Edge(nodea,nodeb,exp))\n",
    "    return(edges)"
   ]
  },
  {
   "cell_type": "code",
   "execution_count": null,
   "id": "8661b55b-f556-49de-a4be-f5d58a4f1a67",
   "metadata": {
    "tags": []
   },
   "outputs": [],
   "source": [
    "nodes_sink= [\n",
    "    node\n",
    "    for node in nodes\n",
    "    if not is_in_ROI_node(node, t)\n",
    "]\n",
    "nodes_source= [\n",
    "    node\n",
    "    for node in nodes\n",
    "    if is_in_ROI_node(node, t)\n",
    "]"
   ]
  },
  {
   "cell_type": "code",
   "execution_count": null,
   "id": "e5cf8c2b-03ce-4c94-84c5-74ee3aada9a6",
   "metadata": {
    "tags": []
   },
   "outputs": [],
   "source": [
    "nodes_sink= [\n",
    "    node\n",
    "    for node in nodes\n",
    "    if not is_in_ROI_node(node, t)\n",
    "]\n",
    "def find_lowest_nodes(nodes,t):\n",
    "    positions = [node.pos(t) for node in nodes]\n",
    "\n",
    "    # 1. Find the range of x positions\n",
    "    min_x = min(positions, key=lambda p: p[1])[1]\n",
    "    max_x = max(positions, key=lambda p: p[1])[1]\n",
    "\n",
    "    # 2. Calculate the size of each part\n",
    "    part_size = (max_x - min_x) / 10\n",
    "\n",
    "    # 3. Group nodes by x range and select the node with the lowest y in each group\n",
    "    selected_nodes = []\n",
    "    for i in range(10):\n",
    "        start_x = min_x + i * part_size\n",
    "        end_x = start_x + part_size\n",
    "\n",
    "        # Find nodes within the current x range\n",
    "        nodes_in_range = [node for node in nodes if start_x <= node.pos(t)[1] < end_x]\n",
    "\n",
    "        # 4. Select the node with the lowest y in the current range\n",
    "        if nodes_in_range:\n",
    "            lowest_y_node = max(nodes_in_range, key=lambda p: p.pos(t)[0])\n",
    "            selected_nodes.append(lowest_y_node)\n",
    "    return(selected_nodes)\n",
    "nodes_sink = find_lowest_nodes(nodes_sink,t)\n",
    "# nodes_sink"
   ]
  },
  {
   "cell_type": "code",
   "execution_count": null,
   "id": "227ff064-18da-454b-8583-2b84e25d99a3",
   "metadata": {
    "tags": []
   },
   "outputs": [],
   "source": []
  },
  {
   "cell_type": "code",
   "execution_count": null,
   "id": "bf535b48-1357-4f23-a784-deabab91e838",
   "metadata": {
    "tags": []
   },
   "outputs": [],
   "source": [
    "t = 0\n",
    "nodes = get_all_nodes(exp, t)\n",
    "\n",
    "nodes= [\n",
    "    node\n",
    "    for node in nodes\n",
    "    if is_in_ROI_node(node, t) and node.degree(t)==1 and len(node.ts())>1\n",
    "]\n",
    "ax = plot_full(exp, t, nodes=nodes,downsizing = 10,node_size = 10)\n"
   ]
  },
  {
   "cell_type": "code",
   "execution_count": null,
   "id": "21932100-ad3a-444f-9fc0-c558690fabaa",
   "metadata": {
    "tags": []
   },
   "outputs": [],
   "source": [
    "\n",
    "edge_flux = {edge : 0 for edge in edges}\n",
    "for node1 in nodes_sink:\n",
    "    shortest = nx.single_source_dijkstra_path(exp.nx_graph[t],node1.label,weight=\"weight\")\n",
    "    for node2 in nodes_source:\n",
    "        w = get_weight(node2)\n",
    "        path = get_shortest_path_edges(node2,shortest)\n",
    "        for edge in path:\n",
    "            edge_flux[edge]+=w/len(nodes_sink)\n",
    "    # break"
   ]
  },
  {
   "cell_type": "code",
   "execution_count": null,
   "id": "c47c0f6f-3e88-4c01-930b-600479b3cd74",
   "metadata": {
    "tags": []
   },
   "outputs": [],
   "source": [
    "from matplotlib import cm\n",
    "def get_radius2(edge,t):\n",
    "    if edge.width(t)>2:\n",
    "        return(edge.width(t)/2)\n",
    "    else:\n",
    "        return(1)\n",
    "vmax = 2500\n",
    "vmin = 0\n",
    "plot_edge_color_value(\n",
    "    exp,\n",
    "    t,\n",
    "    lambda edge: edge_flux[edge]/get_radius2(edge,t)**2,\n",
    "    cmap=cm.get_cmap(\"viridis\", 100),\n",
    "    v_min=vmin,\n",
    "    v_max=vmax,\n",
    "    plot_cmap=True,\n",
    "    show_background=False,\n",
    "    dilation=10,\n",
    "    figsize = (12,7)\n",
    ")"
   ]
  },
  {
   "cell_type": "code",
   "execution_count": null,
   "id": "3ef3b288-7fd4-41c8-9a6a-c42276a2e191",
   "metadata": {
    "tags": []
   },
   "outputs": [],
   "source": [
    "node1"
   ]
  },
  {
   "cell_type": "code",
   "execution_count": null,
   "id": "a451d530-37e2-4990-b707-9107e3fff022",
   "metadata": {
    "tags": []
   },
   "outputs": [],
   "source": [
    "t = 2\n",
    "begin,end = 1415372, 1571210\n",
    "\n",
    "\n",
    "node1 = Node(begin,exp).get_pseudo_identity(t).label\n",
    "node2 = end\n",
    "# nodes = [Node(node1,exp),Node(node2,exp)]\n",
    "nodes = nx.shortest_path(exp.nx_graph[t],node1,node2,weight = \"weight\")\n",
    "nodes = [Node(node,exp) for node in nodes]\n",
    "edges = [Edge(nodes[i],nodes[i+1],exp) for i in range(len(nodes)-1)]"
   ]
  },
  {
   "cell_type": "code",
   "execution_count": null,
   "id": "0354e351-cc9a-48d3-ab25-c093032eb7cb",
   "metadata": {
    "tags": []
   },
   "outputs": [],
   "source": [
    "lengths = [edge.length_um(t) for edge in edges]\n",
    "abciss = np.cumsum(lengths)\n",
    "widths = np.array([edge.width(t) for edge in edges])\n",
    "V=3e-9\n",
    "phis = np.array([edge_flux[edge] for edge in edges])*V #ug.h-1\n",
    "\n",
    "phis = phis * 1e-9 #dm**3/h\n",
    "phis = phis * 1e15 #um**3/h\n",
    "\n",
    "\n",
    "fig,ax = plt.subplots()\n",
    "ax2 = ax.twinx()\n",
    "# ax.scatter(abciss,phis/widths**2)\n",
    "ax.scatter(abciss,phis)\n",
    "\n",
    "# ax2.scatter(abciss,widths,color = \"red\")"
   ]
  },
  {
   "cell_type": "code",
   "execution_count": null,
   "id": "db426bb5-5eb2-4708-ac4a-19fdc00f5042",
   "metadata": {
    "tags": []
   },
   "outputs": [],
   "source": [
    "Node(1644494,exp).get_pseudo_identity(0)"
   ]
  },
  {
   "cell_type": "code",
   "execution_count": null,
   "id": "9953557a-5a75-4382-9d6e-09367bb7d91f",
   "metadata": {
    "tags": []
   },
   "outputs": [],
   "source": [
    "def get_abcisse(edge,begin,end,t):\n",
    "    begin = Node(begin,begin.experiment).get_pseudo_identity(t).label\n",
    "\n",
    "    nodes = nx.shortest_path(exp.nx_graph[t],begin,end,weight = \"weight\")\n",
    "    nodes = [Node(node,exp) for node in nodes]\n",
    "    edges = [Edge(nodes[i],nodes[i+1],exp) for i in range(len(nodes)-1)]\n",
    "    lengths = [edge.length_um(t) for edge in edges]\n",
    "    abciss = np.cumsum(lengths)\n",
    "    if edge in edges:\n",
    "        i = edges.index(edge)\n",
    "        return(abciss[i])\n",
    "    else:\n",
    "        return(-1)"
   ]
  },
  {
   "cell_type": "code",
   "execution_count": null,
   "id": "70078cd4-321a-4a34-aa0d-f7dc2aa6d917",
   "metadata": {
    "tags": []
   },
   "outputs": [],
   "source": [
    "get_abcisse(edges[10],node1,node2)"
   ]
  },
  {
   "cell_type": "code",
   "execution_count": null,
   "id": "9e2c5052-74cb-4b7d-934a-1aed0038346a",
   "metadata": {
    "tags": []
   },
   "outputs": [],
   "source": [
    "# nodes = get_all_nodes(exp, t)\n",
    "\n",
    "# nodes= [\n",
    "#     node\n",
    "#     for node in nodes\n",
    "#     if is_in_ROI_node(node, t) and node.degree(t)==1\n",
    "# ]\n",
    "ax = plot_full(exp, t, nodes=nodes,downsizing = 10)\n"
   ]
  },
  {
   "cell_type": "code",
   "execution_count": null,
   "id": "64765117-35cb-4f9e-bc07-9b7aba4513cc",
   "metadata": {},
   "outputs": [],
   "source": [
    "daad"
   ]
  },
  {
   "cell_type": "code",
   "execution_count": null,
   "id": "91467958-98be-439c-a3b0-c3cfcab60302",
   "metadata": {
    "tags": []
   },
   "outputs": [],
   "source": [
    "fluxes = np.array([edge_flux[edge] for edge in edges if edge.width(t)>2])\n",
    "radiuses = np.array([edge.width(t)/2 for edge in edges if edge.width(t)>2])\n",
    "lengths = np.array([edge.length_um(t) for edge in edges if edge.width(t)>2])\n",
    "\n",
    "speeds = fluxes/(radiuses*2)**2\n",
    "speeds = speeds[np.where(speeds<50)]\n",
    "lengths = lengths[np.where(speeds<50)]\n",
    "\n",
    "fig,ax = plt.subplots()\n",
    "ax.hist(fluxes*3e-9,30,weights = lengths)"
   ]
  },
  {
   "cell_type": "code",
   "execution_count": null,
   "id": "9a96777b-cf36-4d70-9022-30c414589c59",
   "metadata": {
    "tags": []
   },
   "outputs": [],
   "source": [
    "path[0].begin.neighbours(t)"
   ]
  },
  {
   "cell_type": "code",
   "execution_count": null,
   "id": "092cbf61-15b4-4085-a00f-24b1abdbf4fb",
   "metadata": {
    "tags": []
   },
   "outputs": [],
   "source": [
    "edge_flux[Edge(path[0].begin,path[0].end,exp)]"
   ]
  },
  {
   "cell_type": "code",
   "execution_count": null,
   "id": "08ac2130-9760-44c7-ba54-ffc926d13cea",
   "metadata": {},
   "outputs": [],
   "source": [
    "edge_flux(Edge"
   ]
  },
  {
   "cell_type": "code",
   "execution_count": null,
   "id": "7d320d7d-13b8-4f77-a334-133a4672d158",
   "metadata": {},
   "outputs": [],
   "source": [
    "zbzdd"
   ]
  },
  {
   "cell_type": "code",
   "execution_count": null,
   "id": "cfb9da6a-aa33-4d80-8e1b-3a24d839c4c9",
   "metadata": {
    "tags": []
   },
   "outputs": [],
   "source": [
    "\n",
    "for edge in vid_obj.edge_objs:\n",
    "    if \"network_begin\" in edge.mean_data.keys():\n",
    "        edge_begin = edge.mean_data[\"network_begin\"]\n",
    "        edge_end = edge.mean_data[\"network_end\"]    # break\n",
    "        network_edge = Edge(Node(edge_begin,exp),Node(edge_end,exp),exp) "
   ]
  },
  {
   "cell_type": "code",
   "execution_count": null,
   "id": "60829887-9df0-4bd2-9f7b-072ef3d01e02",
   "metadata": {
    "tags": []
   },
   "outputs": [],
   "source": [
    "# def get_derivative(edge,t,fun):\n",
    "# edge = network_edge\n",
    "fun = lambda edge: edge.betweeness(t)\n",
    "def get_derivative(edge_d,t,fun):\n",
    "    edges_begin = edge_d.begin.edges(t)\n",
    "    edges_begin.remove(edge_d)\n",
    "    edges_end = edge_d.end.edges(t)\n",
    "    edges_end.remove(edge_d)\n",
    "    weight_begin = np.sum([fun(edge) for edge in edges_begin])\n",
    "    weight_end = np.sum([fun(edge) for edge in edges_end])\n",
    "    return(weight_end-weight_begin)"
   ]
  },
  {
   "cell_type": "code",
   "execution_count": null,
   "id": "1a65a44b-b551-49e4-a9d5-85fb8efc0f7d",
   "metadata": {
    "tags": []
   },
   "outputs": [],
   "source": [
    "edges_network = []\n",
    "derivatives = []\n",
    "\n",
    "coverage_tot = []\n",
    "for index,vid_obj in enumerate(data_obj.video_objs):\n",
    "    if vid_obj.dataset['mode']==\"BF\" and check_hasedges(vid_obj):\n",
    "        for edge in vid_obj.edge_objs:\n",
    "            if \"network_begin\" in edge.mean_data.keys():\n",
    "                edge_begin = edge.mean_data[\"network_begin\"]\n",
    "                edge_end = edge.mean_data[\"network_end\"]    # break\n",
    "                network_edge = Edge(Node(edge_begin,exp),Node(edge_end,exp),exp) \n",
    "                if network_edge.is_in(t): \n",
    "                    edges_network.append(network_edge)\n",
    "                    derivatives.append(get_derivative(network_edge,t,fun))"
   ]
  },
  {
   "cell_type": "code",
   "execution_count": null,
   "id": "b3471b80-569c-4a20-a8da-5652c8c88f15",
   "metadata": {
    "tags": []
   },
   "outputs": [],
   "source": [
    "from amftrack.pipeline.functions.transport_processing.high_mag_videos.plotting import *\n",
    "downsizing = 5\n",
    "ax,f = plot_full_video( \n",
    "    exp,\n",
    "    t,\n",
    "    downsizing=5,\n",
    "    # points=positions_list,\n",
    "    video_num=[0],\n",
    "    edges=edges_network,\n",
    "    dilation=downsizing,\n",
    "    # region = region,\n",
    "    figsize = (18,12),\n",
    ")\n",
    "for derivative,edge in zip(derivatives,edges_network):\n",
    "    pixels = edge.pixel_list(t)\n",
    "    center_arrow = f(pixels[len(pixels)//2])\n",
    "\n",
    "    begin_arrow = f(pixels[10])\n",
    "    end_arrow = f(pixels[-10])\n",
    "    # begin_arrow = edges_network[0].begin.pos(t)\n",
    "    # end_arrow = edges_network[0].pixel_list(t)[10]\n",
    "    vector = (end_arrow-begin_arrow)\n",
    "    vector = vector/np.linalg.norm(vector)*100/downsizing*(1-2*(derivative>0))\n",
    "    ax.arrow(center_arrow[1],center_arrow[0],vector[1],vector[0],width = 10)\n",
    "plt.savefig(f\"test_{plate_id_video}_derivative.png\", dpi=600)\n"
   ]
  }
 ],
 "metadata": {
  "kernelspec": {
   "display_name": "Python 3 (ipykernel)",
   "language": "python",
   "name": "python3"
  },
  "language_info": {
   "codemirror_mode": {
    "name": "ipython",
    "version": 3
   },
   "file_extension": ".py",
   "mimetype": "text/x-python",
   "name": "python",
   "nbconvert_exporter": "python",
   "pygments_lexer": "ipython3",
   "version": "3.7.13"
  }
 },
 "nbformat": 4,
 "nbformat_minor": 5
}

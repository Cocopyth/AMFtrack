{
 "cells": [
  {
   "cell_type": "code",
   "execution_count": 1,
   "metadata": {},
   "outputs": [],
   "source": [
    "import sys  \n",
    "sys.path.insert(0, '/home/cbisot/pycode/MscThesis/')\n",
    "sys.path.append( '/home/cbisot/pycode/MscThesis/amftrack/pipeline/functions')\n",
    "%matplotlib widget\n",
    "from amftrack.notebooks.analysis.util import *\n",
    "from amftrack.pipeline.paths.directory import path_code, directory_scratch, directory_project\n",
    "from amftrack.notebooks.analysis.data_info import *\n",
    "import pandas as pd\n",
    "from scipy.ndimage import gaussian_filter\n",
    "from scipy import ndimage\n",
    "import matplotlib.pyplot as plt\n",
    "\n",
    "from IPython.display import clear_output\n",
    "import cv2\n",
    "import imageio"
   ]
  },
  {
   "cell_type": "code",
   "execution_count": 3,
   "metadata": {},
   "outputs": [],
   "source": [
    "def get_density_maps(exp,t,compress,kern_sizes):\n",
    "    skeletons = [sparse.csr_matrix(skel) for skel in exp.skeletons]\n",
    "    window=compress\n",
    "    densities=np.zeros((skeletons[t].shape[0]//compress,skeletons[t].shape[1]//compress),dtype=np.float)\n",
    "    for xx in range(skeletons[t].shape[0]//compress):\n",
    "        for yy in range(skeletons[t].shape[1]//compress):\n",
    "            x = xx*compress\n",
    "            y = yy*compress\n",
    "            skeleton=skeletons[t][x-window:x+window,y-window:y+window]\n",
    "            density = skeleton.count_nonzero()/((window*1.725)**2)\n",
    "            densities[xx,yy]=density\n",
    "    results = {}\n",
    "    for kern_size in kern_sizes:\n",
    "        density_filtered = gaussian_filter(densities,kern_size)\n",
    "        sx = ndimage.sobel(density_filtered ,axis=0,mode='constant')\n",
    "        sy = ndimage.sobel(density_filtered ,axis=1,mode='constant')\n",
    "        sobel=np.hypot(sx,sy)\n",
    "        results[kern_size] = density_filtered,sx,sy,sobel\n",
    "    return(results)"
   ]
  },
  {
   "cell_type": "code",
   "execution_count": 2,
   "metadata": {},
   "outputs": [
    {
     "name": "stdout",
     "output_type": "stream",
     "text": [
      "begin = 2020-11-23 15:01:00 \n",
      "  end = 2020-11-26 03:02:00\n"
     ]
    }
   ],
   "source": [
    "path = directory_project\n",
    "inst = 39,269,329\n",
    "exp = get_exp(inst,path)\n",
    "# exp.load_compressed_skel()"
   ]
  },
  {
   "cell_type": "code",
   "execution_count": null,
   "metadata": {},
   "outputs": [],
   "source": [
    "kern_size=100\n",
    "density_maps = [get_density_maps(exp,t,100,[10]) for t in range(exp.ts)]"
   ]
  },
  {
   "cell_type": "code",
   "execution_count": 16,
   "metadata": {},
   "outputs": [
    {
     "data": {
      "text/plain": [
       "array([[0., 0., 0., ..., 0., 0., 0.],\n",
       "       [0., 0., 0., ..., 0., 0., 0.],\n",
       "       [0., 0., 0., ..., 0., 0., 0.],\n",
       "       ...,\n",
       "       [0., 0., 0., ..., 0., 0., 0.],\n",
       "       [0., 0., 0., ..., 0., 0., 0.],\n",
       "       [0., 0., 0., ..., 0., 0., 0.]])"
      ]
     },
     "execution_count": 16,
     "metadata": {},
     "output_type": "execute_result"
    }
   ],
   "source": [
    "density_maps[0][10][0]"
   ]
  },
  {
   "cell_type": "code",
   "execution_count": null,
   "metadata": {},
   "outputs": [],
   "source": [
    "kern_size=100\n",
    "\n",
    "for index,density_map in enumerate(density_maps):\n",
    "    plt.close('all')\n",
    "    clear_output(wait=True)\n",
    "    fig=plt.figure(figsize=(14,12))\n",
    "    ax = fig.add_subplot(111)\n",
    "    im= density_map[kern_size][0]\n",
    "    figure = ax.imshow(im,vmax = 0.01)\n",
    "    plt.colorbar(figure,orientation = 'horizontal')\n",
    "    save = f'/home/cbisot/pycode/MscThesis/amftrack/notebooks/plotting/Figure/im*{index}.png'\n",
    "    plt.savefig(save)\n"
   ]
  },
  {
   "cell_type": "code",
   "execution_count": null,
   "metadata": {},
   "outputs": [],
   "source": [
    "img_array = []\n",
    "for index in range(len(density_maps)):\n",
    "    img = cv2.imread(f'/home/cbisot/pycode/MscThesis/amftrack/notebooks/plotting/Figure/im*{index}.png')\n",
    "    img_array.append(img)\n",
    "imageio.mimsave(f'/home/cbisot/pycode/MscThesis/amftrack/notebooks/plotting/Figure/movie_dense.gif', img_array,duration = 1)"
   ]
  }
 ],
 "metadata": {
  "kernelspec": {
   "display_name": "Python 3",
   "language": "python",
   "name": "python3"
  },
  "language_info": {
   "codemirror_mode": {
    "name": "ipython",
    "version": 3
   },
   "file_extension": ".py",
   "mimetype": "text/x-python",
   "name": "python",
   "nbconvert_exporter": "python",
   "pygments_lexer": "ipython3",
   "version": "3.7.7"
  }
 },
 "nbformat": 4,
 "nbformat_minor": 4
}

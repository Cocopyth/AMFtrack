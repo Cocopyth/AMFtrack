{
 "cells": [
  {
   "cell_type": "code",
   "execution_count": 1,
   "id": "19df64a2-2cbd-478d-9f3f-cdf0844cecc1",
   "metadata": {},
   "outputs": [
    {
     "name": "stderr",
     "output_type": "stream",
     "text": [
      "/gpfs/home2/cbisot/pycode/AMFtrack/amftrack/util/dbx.py:3: TqdmExperimentalWarning: Using `tqdm.autonotebook.tqdm` in notebook mode. Use `tqdm.tqdm` instead to force console mode (e.g. in jupyter console)\n",
      "  from tqdm.autonotebook import tqdm\n",
      "2022-12-13 12:35:44.306842: I tensorflow/core/platform/cpu_feature_guard.cc:193] This TensorFlow binary is optimized with oneAPI Deep Neural Network Library (oneDNN) to use the following CPU instructions in performance-critical operations:  AVX2 FMA\n",
      "To enable them in other operations, rebuild TensorFlow with the appropriate compiler flags.\n",
      "2022-12-13 12:35:44.925660: W tensorflow/stream_executor/platform/default/dso_loader.cc:64] Could not load dynamic library 'libcudart.so.11.0'; dlerror: libcudart.so.11.0: cannot open shared object file: No such file or directory; LD_LIBRARY_PATH: /gpfs/home2/cbisot/miniconda3/envs/amftrack/lib/python3.7/site-packages/cv2/../../lib64:\n",
      "2022-12-13 12:35:44.925709: I tensorflow/stream_executor/cuda/cudart_stub.cc:29] Ignore above cudart dlerror if you do not have a GPU set up on your machine.\n",
      "2022-12-13 12:35:45.014356: E tensorflow/stream_executor/cuda/cuda_blas.cc:2981] Unable to register cuBLAS factory: Attempting to register factory for plugin cuBLAS when one has already been registered\n",
      "2022-12-13 12:36:12.411438: W tensorflow/stream_executor/platform/default/dso_loader.cc:64] Could not load dynamic library 'libnvinfer.so.7'; dlerror: libnvinfer.so.7: cannot open shared object file: No such file or directory; LD_LIBRARY_PATH: /gpfs/home2/cbisot/miniconda3/envs/amftrack/lib/python3.7/site-packages/cv2/../../lib64:\n",
      "2022-12-13 12:36:12.411695: W tensorflow/stream_executor/platform/default/dso_loader.cc:64] Could not load dynamic library 'libnvinfer_plugin.so.7'; dlerror: libnvinfer_plugin.so.7: cannot open shared object file: No such file or directory; LD_LIBRARY_PATH: /gpfs/home2/cbisot/miniconda3/envs/amftrack/lib/python3.7/site-packages/cv2/../../lib64:\n",
      "2022-12-13 12:36:12.411710: W tensorflow/compiler/tf2tensorrt/utils/py_utils.cc:38] TF-TRT Warning: Cannot dlopen some TensorRT libraries. If you would like to use Nvidia GPU with TensorRT, please make sure the missing libraries mentioned above are installed properly.\n",
      "2022-12-13 12:37:03.117571: W tensorflow/stream_executor/platform/default/dso_loader.cc:64] Could not load dynamic library 'libcuda.so.1'; dlerror: libcuda.so.1: cannot open shared object file: No such file or directory; LD_LIBRARY_PATH: /gpfs/home2/cbisot/miniconda3/envs/amftrack/lib/python3.7/site-packages/cv2/../../lib64:\n",
      "2022-12-13 12:37:03.117638: W tensorflow/stream_executor/cuda/cuda_driver.cc:263] failed call to cuInit: UNKNOWN ERROR (303)\n",
      "2022-12-13 12:37:03.117703: I tensorflow/stream_executor/cuda/cuda_diagnostics.cc:156] kernel driver does not appear to be running on this host (int1): /proc/driver/nvidia/version does not exist\n",
      "2022-12-13 12:37:03.118209: I tensorflow/core/platform/cpu_feature_guard.cc:193] This TensorFlow binary is optimized with oneAPI Deep Neural Network Library (oneDNN) to use the following CPU instructions in performance-critical operations:  AVX2 FMA\n",
      "To enable them in other operations, rebuild TensorFlow with the appropriate compiler flags.\n"
     ]
    }
   ],
   "source": [
    "%load_ext autoreload\n",
    "%matplotlib widget\n",
    "%autoreload 2\n",
    "from amftrack.pipeline.launching.run_super import (\n",
    "    run_launcher,\n",
    "    directory_scratch,\n",
    "    directory_project,\n",
    "    directory_project,\n",
    "    run_parallel_stitch,\n",
    "    run_parallel_transfer,\n",
    "    run_parallel_post\n",
    ")\n",
    "import os\n",
    "from amftrack.util.sys import (\n",
    "    get_dates_datetime,\n",
    "    get_dirname,\n",
    "    temp_path,\n",
    "    get_data_info,\n",
    "    update_plate_info,\n",
    "    update_analysis_info,\n",
    "    get_analysis_info,\n",
    "    get_current_folders,\n",
    "    get_folders_by_plate_id,\n",
    ")\n",
    "from time import time_ns\n",
    "from amftrack.util.dbx import upload_folders, load_dbx, download, get_dropbox_folders\n",
    "from datetime import datetime\n",
    "from amftrack.pipeline.functions.image_processing.experiment_util import (\n",
    "    plot_full_image_with_features,\n",
    ")\n",
    "from amftrack.pipeline.functions.image_processing.experiment_class_surf import (\n",
    "    load_graphs,\n",
    ")\n",
    "from amftrack.pipeline.functions.post_processing.extract_study_zone import (\n",
    "    load_study_zone,\n",
    ")\n",
    "from amftrack.pipeline.functions.image_processing.experiment_util import (\n",
    "    get_random_edge,\n",
    "    distance_point_edge,\n",
    "    plot_edge,\n",
    "    plot_edge_cropped,\n",
    "    find_nearest_edge,\n",
    "    get_edge_from_node_labels,\n",
    "    plot_full_image_with_features,\n",
    "    get_all_edges,\n",
    "    get_all_nodes,\n",
    "    find_neighboring_edges,\n",
    "    reconstruct_image,\n",
    "    reconstruct_skeletton_from_edges,\n",
    "    reconstruct_skeletton_unicolor,\n",
    "    plot_edge_width,\n",
    "    reconstruct_image_from_general,\n",
    "    plot_full,\n",
    ")\n",
    "from amftrack.pipeline.functions.image_processing.extract_width_fun import (\n",
    "    get_width_info,\n",
    "    get_width_info_new,\n",
    ")"
   ]
  },
  {
   "cell_type": "code",
   "execution_count": 2,
   "id": "565e34d7-a190-4b42-8a9e-ed0bda56272c",
   "metadata": {},
   "outputs": [],
   "source": [
    "plates = [\n",
    "    \"1014_20220525\",\n",
    "    \"1023_20220502\",\n",
    "    \"102_20201226\",\n",
    "    \"1042_20220523\",\n",
    "    \"1045_20220504\",\n",
    "    \"1048_20220506\",\n",
    "    \"1053_20220413\",\n",
    "    \"1076_20220511\",\n",
    "    \"127_20220705\",\n",
    "    \"130_20220707\",\n",
    "    \"152_20201224\",\n",
    "    \"30_20220509\",\n",
    "]"
   ]
  },
  {
   "cell_type": "code",
   "execution_count": 3,
   "id": "4c71e351-bc82-4bbc-829b-02dc13b1c679",
   "metadata": {},
   "outputs": [],
   "source": [
    "directory_targ = directory_project"
   ]
  },
  {
   "cell_type": "code",
   "execution_count": 4,
   "id": "18587e5f-14a6-4b0c-ab31-96802bc5dbe6",
   "metadata": {
    "tags": []
   },
   "outputs": [],
   "source": [
    "update_analysis_info(directory_targ)\n",
    "analysis_info = get_analysis_info(directory_targ)\n",
    "analysis_folders = analysis_info.loc[analysis_info[\"unique_id\"].isin(plates)]"
   ]
  },
  {
   "cell_type": "code",
   "execution_count": 5,
   "id": "ca089798-f068-4e45-9d6c-e09c7d9179e7",
   "metadata": {},
   "outputs": [
    {
     "data": {
      "application/vnd.jupyter.widget-view+json": {
       "model_id": "43cbd39e8825433c8142c3fd1bc2e8e5",
       "version_major": 2,
       "version_minor": 0
      },
      "text/plain": [
       "analysed:   0%|          | 0/3380 [00:00<?, ?it/s]"
      ]
     },
     "metadata": {},
     "output_type": "display_data"
    }
   ],
   "source": [
    "update_plate_info(directory_targ, local=True)\n",
    "all_folders = get_current_folders(directory_targ, local=True)"
   ]
  },
  {
   "cell_type": "code",
   "execution_count": 6,
   "id": "72aeae25-d8ed-4fbe-b93b-121d4fe8a841",
   "metadata": {},
   "outputs": [],
   "source": [
    "# plates = [\"1048_20220506\"]\n",
    "folders = all_folders.loc[all_folders[\"unique_id\"].isin(plates)]"
   ]
  },
  {
   "cell_type": "code",
   "execution_count": 7,
   "id": "832b7db7-f487-4c14-83b9-e51dcacb55f1",
   "metadata": {},
   "outputs": [],
   "source": [
    "analysis_folders = analysis_info.loc[analysis_info[\"unique_id\"].isin(plates)]"
   ]
  },
  {
   "cell_type": "code",
   "execution_count": 34,
   "id": "50dabbbf-5fd4-4a0a-b060-69579997fbd4",
   "metadata": {
    "collapsed": true,
    "jupyter": {
     "outputs_hidden": true
    },
    "tags": []
   },
   "outputs": [
    {
     "data": {
      "text/html": [
       "<div>\n",
       "<style scoped>\n",
       "    .dataframe tbody tr th:only-of-type {\n",
       "        vertical-align: middle;\n",
       "    }\n",
       "\n",
       "    .dataframe tbody tr th {\n",
       "        vertical-align: top;\n",
       "    }\n",
       "\n",
       "    .dataframe thead th {\n",
       "        text-align: right;\n",
       "    }\n",
       "</style>\n",
       "<table border=\"1\" class=\"dataframe\">\n",
       "  <thead>\n",
       "    <tr style=\"text-align: right;\">\n",
       "      <th></th>\n",
       "      <th>folder_analysis</th>\n",
       "      <th>version</th>\n",
       "      <th>total_path</th>\n",
       "      <th>Plate</th>\n",
       "      <th>strain</th>\n",
       "      <th>medium</th>\n",
       "      <th>CrossDate</th>\n",
       "      <th>date</th>\n",
       "      <th>unique_id</th>\n",
       "      <th>datetime</th>\n",
       "      <th>...</th>\n",
       "      <th>path_time_hypha_info</th>\n",
       "      <th>path_time_plate_info</th>\n",
       "      <th>path_global_plate_info</th>\n",
       "      <th>date_run_analysis</th>\n",
       "      <th>PrincePos</th>\n",
       "      <th>root</th>\n",
       "      <th>split</th>\n",
       "      <th>Pbait</th>\n",
       "      <th>Temperature</th>\n",
       "      <th>Temp</th>\n",
       "    </tr>\n",
       "  </thead>\n",
       "  <tbody>\n",
       "    <tr>\n",
       "      <th>19</th>\n",
       "      <td>Analysis_1023_20220502_200_Version1</td>\n",
       "      <td>Version1</td>\n",
       "      <td>/projects/0/einf914/data/20220502_1604_Plate15</td>\n",
       "      <td>1023</td>\n",
       "      <td>'C2'</td>\n",
       "      <td>'001P100N200C'</td>\n",
       "      <td>20220502</td>\n",
       "      <td>02.05.2022, 16:04:</td>\n",
       "      <td>1023_20220502</td>\n",
       "      <td>2022-05-02 16:04:00</td>\n",
       "      <td>...</td>\n",
       "      <td>Analysis_1023_20220502_200_Version1/time_hypha...</td>\n",
       "      <td>Analysis_1023_20220502_200_Version1/time_plate...</td>\n",
       "      <td>Analysis_1023_20220502_200_Version1/global_pla...</td>\n",
       "      <td>01.01.1970, 01:00:</td>\n",
       "      <td>15</td>\n",
       "      <td>'Carrot'</td>\n",
       "      <td>'Y'</td>\n",
       "      <td>'-'</td>\n",
       "      <td>25</td>\n",
       "      <td>NaN</td>\n",
       "    </tr>\n",
       "    <tr>\n",
       "      <th>24</th>\n",
       "      <td>Analysis_1042_20220523_200_Version1</td>\n",
       "      <td>Version1</td>\n",
       "      <td>/projects/0/einf914/data/20220524_1314_Plate06</td>\n",
       "      <td>1042</td>\n",
       "      <td>'C2'</td>\n",
       "      <td>'001P100N100C'</td>\n",
       "      <td>20220523</td>\n",
       "      <td>24.05.2022, 13:14:</td>\n",
       "      <td>1042_20220523</td>\n",
       "      <td>2022-05-24 13:14:00</td>\n",
       "      <td>...</td>\n",
       "      <td>Analysis_1042_20220523_200_Version1/time_hypha...</td>\n",
       "      <td>Analysis_1042_20220523_200_Version1/time_plate...</td>\n",
       "      <td>Analysis_1042_20220523_200_Version1/global_pla...</td>\n",
       "      <td>01.01.1970, 01:00:</td>\n",
       "      <td>6</td>\n",
       "      <td>'Carrot'</td>\n",
       "      <td>'Y'</td>\n",
       "      <td>'-'</td>\n",
       "      <td>25</td>\n",
       "      <td>NaN</td>\n",
       "    </tr>\n",
       "    <tr>\n",
       "      <th>33</th>\n",
       "      <td>Analysis_127_20220705_200_Version1</td>\n",
       "      <td>Version1</td>\n",
       "      <td>/projects/0/einf914/data/20220705_1810_Plate17</td>\n",
       "      <td>127</td>\n",
       "      <td>'C2'</td>\n",
       "      <td>'001P100N100C'</td>\n",
       "      <td>20220705</td>\n",
       "      <td>05.07.2022, 18:10:</td>\n",
       "      <td>127_20220705</td>\n",
       "      <td>2022-07-05 18:10:00</td>\n",
       "      <td>...</td>\n",
       "      <td>Analysis_127_20220705_200_Version1/time_hypha_...</td>\n",
       "      <td>Analysis_127_20220705_200_Version1/time_plate_...</td>\n",
       "      <td>Analysis_127_20220705_200_Version1/global_plat...</td>\n",
       "      <td>01.01.1970, 01:00:</td>\n",
       "      <td>17</td>\n",
       "      <td>'Carrot'</td>\n",
       "      <td>'Y'</td>\n",
       "      <td>'-'</td>\n",
       "      <td>25</td>\n",
       "      <td>NaN</td>\n",
       "    </tr>\n",
       "    <tr>\n",
       "      <th>41</th>\n",
       "      <td>Analysis_1076_20220511_200_Version1</td>\n",
       "      <td>Version1</td>\n",
       "      <td>/projects/0/einf914/data/20220511_1541_Plate14</td>\n",
       "      <td>1076</td>\n",
       "      <td>'A5'</td>\n",
       "      <td>'001P100N200C'</td>\n",
       "      <td>20220511</td>\n",
       "      <td>11.05.2022, 15:41:</td>\n",
       "      <td>1076_20220511</td>\n",
       "      <td>2022-05-11 15:41:00</td>\n",
       "      <td>...</td>\n",
       "      <td>Analysis_1076_20220511_200_Version1/time_hypha...</td>\n",
       "      <td>Analysis_1076_20220511_200_Version1/time_plate...</td>\n",
       "      <td>Analysis_1076_20220511_200_Version1/global_pla...</td>\n",
       "      <td>01.01.1970, 01:00:</td>\n",
       "      <td>14</td>\n",
       "      <td>'Carrot'</td>\n",
       "      <td>'Y'</td>\n",
       "      <td>'-'</td>\n",
       "      <td>25</td>\n",
       "      <td>NaN</td>\n",
       "    </tr>\n",
       "    <tr>\n",
       "      <th>45</th>\n",
       "      <td>Analysis_1048_20220506_200_Version1</td>\n",
       "      <td>Version1</td>\n",
       "      <td>/projects/0/einf914/data/20220506_2350_Plate03</td>\n",
       "      <td>1048</td>\n",
       "      <td>'C2'</td>\n",
       "      <td>'001P100N100C'</td>\n",
       "      <td>20220506</td>\n",
       "      <td>06.05.2022, 23:50:</td>\n",
       "      <td>1048_20220506</td>\n",
       "      <td>2022-05-06 23:50:00</td>\n",
       "      <td>...</td>\n",
       "      <td>Analysis_1048_20220506_200_Version1/time_hypha...</td>\n",
       "      <td>Analysis_1048_20220506_200_Version1/time_plate...</td>\n",
       "      <td>Analysis_1048_20220506_200_Version1/global_pla...</td>\n",
       "      <td>01.01.1970, 01:00:</td>\n",
       "      <td>3</td>\n",
       "      <td>'Carrot'</td>\n",
       "      <td>'Y'</td>\n",
       "      <td>'-'</td>\n",
       "      <td>25</td>\n",
       "      <td>NaN</td>\n",
       "    </tr>\n",
       "    <tr>\n",
       "      <th>57</th>\n",
       "      <td>Analysis_102_20201226_200_Version1</td>\n",
       "      <td>Version1</td>\n",
       "      <td>/scratch-shared/amftrack/stitch_temp2/20201226...</td>\n",
       "      <td>102</td>\n",
       "      <td>'A5'</td>\n",
       "      <td>'001P100N'</td>\n",
       "      <td>'20201226'</td>\n",
       "      <td>26.12.2020, 12:24:</td>\n",
       "      <td>102_20201226</td>\n",
       "      <td>2020-12-26 12:24:00</td>\n",
       "      <td>...</td>\n",
       "      <td>Analysis_102_20201226_200_Version1/time_hypha_...</td>\n",
       "      <td>Analysis_102_20201226_200_Version1/time_plate_...</td>\n",
       "      <td>Analysis_102_20201226_200_Version1/global_plat...</td>\n",
       "      <td>01.01.1970, 01:00:</td>\n",
       "      <td>40</td>\n",
       "      <td>'Carrot'</td>\n",
       "      <td>'Y'</td>\n",
       "      <td>nan</td>\n",
       "      <td>nan</td>\n",
       "      <td>'25'</td>\n",
       "    </tr>\n",
       "    <tr>\n",
       "      <th>62</th>\n",
       "      <td>Analysis_130_20220707_200_Version1</td>\n",
       "      <td>Version1</td>\n",
       "      <td>/projects/0/einf914/data/20220707_1452_Plate05</td>\n",
       "      <td>130</td>\n",
       "      <td>'C2'</td>\n",
       "      <td>'001P100N100C'</td>\n",
       "      <td>20220707</td>\n",
       "      <td>07.07.2022, 14:52:</td>\n",
       "      <td>130_20220707</td>\n",
       "      <td>2022-07-07 14:52:00</td>\n",
       "      <td>...</td>\n",
       "      <td>Analysis_130_20220707_200_Version1/time_hypha_...</td>\n",
       "      <td>Analysis_130_20220707_200_Version1/time_plate_...</td>\n",
       "      <td>Analysis_130_20220707_200_Version1/global_plat...</td>\n",
       "      <td>01.01.1970, 01:00:</td>\n",
       "      <td>5</td>\n",
       "      <td>'Carrot'</td>\n",
       "      <td>'Y'</td>\n",
       "      <td>'-'</td>\n",
       "      <td>25</td>\n",
       "      <td>NaN</td>\n",
       "    </tr>\n",
       "    <tr>\n",
       "      <th>65</th>\n",
       "      <td>Analysis_30_20220509_200_Version1</td>\n",
       "      <td>Version1</td>\n",
       "      <td>/projects/0/einf914/data/20220510_1437_Plate12</td>\n",
       "      <td>30</td>\n",
       "      <td>'Agg'</td>\n",
       "      <td>'001P100N200C'</td>\n",
       "      <td>20220509</td>\n",
       "      <td>10.05.2022, 14:37:</td>\n",
       "      <td>30_20220509</td>\n",
       "      <td>2022-05-10 14:37:00</td>\n",
       "      <td>...</td>\n",
       "      <td>Analysis_30_20220509_200_Version1/time_hypha_info</td>\n",
       "      <td>Analysis_30_20220509_200_Version1/time_plate_i...</td>\n",
       "      <td>Analysis_30_20220509_200_Version1/global_plate...</td>\n",
       "      <td>01.01.1970, 01:00:</td>\n",
       "      <td>12</td>\n",
       "      <td>'Carrot'</td>\n",
       "      <td>'Y'</td>\n",
       "      <td>'-'</td>\n",
       "      <td>25</td>\n",
       "      <td>NaN</td>\n",
       "    </tr>\n",
       "    <tr>\n",
       "      <th>69</th>\n",
       "      <td>Analysis_1014_20220525_100_Version1</td>\n",
       "      <td>Version1</td>\n",
       "      <td>/projects/0/einf914/data/20220525_1932_Plate01</td>\n",
       "      <td>1014</td>\n",
       "      <td>'C2'</td>\n",
       "      <td>'001P100N100C'</td>\n",
       "      <td>20220525</td>\n",
       "      <td>25.05.2022, 19:32:</td>\n",
       "      <td>1014_20220525</td>\n",
       "      <td>2022-05-25 19:32:00</td>\n",
       "      <td>...</td>\n",
       "      <td>Analysis_1014_20220525_100_Version1/time_hypha...</td>\n",
       "      <td>Analysis_1014_20220525_100_Version1/time_plate...</td>\n",
       "      <td>Analysis_1014_20220525_100_Version1/global_pla...</td>\n",
       "      <td>01.01.1970, 01:00:</td>\n",
       "      <td>1</td>\n",
       "      <td>'Carrot'</td>\n",
       "      <td>'Y'</td>\n",
       "      <td>'-'</td>\n",
       "      <td>25</td>\n",
       "      <td>NaN</td>\n",
       "    </tr>\n",
       "    <tr>\n",
       "      <th>79</th>\n",
       "      <td>Analysis_1053_20220413_85_Version1</td>\n",
       "      <td>Version1</td>\n",
       "      <td>/projects/0/einf914/data/20220415_1343_Plate07</td>\n",
       "      <td>1053</td>\n",
       "      <td>'C2'</td>\n",
       "      <td>'001P100N200C'</td>\n",
       "      <td>20220413</td>\n",
       "      <td>15.04.2022, 13:43:</td>\n",
       "      <td>1053_20220413</td>\n",
       "      <td>2022-04-15 13:43:00</td>\n",
       "      <td>...</td>\n",
       "      <td>Analysis_1053_20220413_85_Version1/time_hypha_...</td>\n",
       "      <td>Analysis_1053_20220413_85_Version1/time_plate_...</td>\n",
       "      <td>Analysis_1053_20220413_85_Version1/global_plat...</td>\n",
       "      <td>01.01.1970, 01:00:</td>\n",
       "      <td>7</td>\n",
       "      <td>'Carrot'</td>\n",
       "      <td>'Y'</td>\n",
       "      <td>'-'</td>\n",
       "      <td>25</td>\n",
       "      <td>NaN</td>\n",
       "    </tr>\n",
       "    <tr>\n",
       "      <th>80</th>\n",
       "      <td>Analysis_152_20201224_200_Version1</td>\n",
       "      <td>Version1</td>\n",
       "      <td>/scratch-shared/amftrack/stitch_temp2/20201224...</td>\n",
       "      <td>152</td>\n",
       "      <td>'A5'</td>\n",
       "      <td>'001P100N'</td>\n",
       "      <td>20201224</td>\n",
       "      <td>24.12.2020, 11:39:</td>\n",
       "      <td>152_20201224</td>\n",
       "      <td>2020-12-24 11:39:00</td>\n",
       "      <td>...</td>\n",
       "      <td>Analysis_152_20201224_200_Version1/time_hypha_...</td>\n",
       "      <td>Analysis_152_20201224_200_Version1/time_plate_...</td>\n",
       "      <td>Analysis_152_20201224_200_Version1/global_plat...</td>\n",
       "      <td>01.01.1970, 01:00:</td>\n",
       "      <td>32</td>\n",
       "      <td>'Carrot'</td>\n",
       "      <td>'Y'</td>\n",
       "      <td>'-'</td>\n",
       "      <td>nan</td>\n",
       "      <td>nan</td>\n",
       "    </tr>\n",
       "    <tr>\n",
       "      <th>97</th>\n",
       "      <td>Analysis_1045_20220504_189_Version1</td>\n",
       "      <td>Version1</td>\n",
       "      <td>/scratch-shared/amftrack/stitch_temp2/20220504...</td>\n",
       "      <td>1045</td>\n",
       "      <td>'C2'</td>\n",
       "      <td>'001P100N200C'</td>\n",
       "      <td>20220504</td>\n",
       "      <td>04.05.2022, 19:00:</td>\n",
       "      <td>1045_20220504</td>\n",
       "      <td>2022-05-04 19:00:00</td>\n",
       "      <td>...</td>\n",
       "      <td>Analysis_1045_20220504_189_Version1/time_hypha...</td>\n",
       "      <td>Analysis_1045_20220504_189_Version1/time_plate...</td>\n",
       "      <td>Analysis_1045_20220504_189_Version1/global_pla...</td>\n",
       "      <td>01.01.1970, 01:00:</td>\n",
       "      <td>2</td>\n",
       "      <td>'Carrot'</td>\n",
       "      <td>'Y'</td>\n",
       "      <td>'-'</td>\n",
       "      <td>25</td>\n",
       "      <td>NaN</td>\n",
       "    </tr>\n",
       "  </tbody>\n",
       "</table>\n",
       "<p>12 rows × 25 columns</p>\n",
       "</div>"
      ],
      "text/plain": [
       "                        folder_analysis   version  \\\n",
       "19  Analysis_1023_20220502_200_Version1  Version1   \n",
       "24  Analysis_1042_20220523_200_Version1  Version1   \n",
       "33   Analysis_127_20220705_200_Version1  Version1   \n",
       "41  Analysis_1076_20220511_200_Version1  Version1   \n",
       "45  Analysis_1048_20220506_200_Version1  Version1   \n",
       "57   Analysis_102_20201226_200_Version1  Version1   \n",
       "62   Analysis_130_20220707_200_Version1  Version1   \n",
       "65    Analysis_30_20220509_200_Version1  Version1   \n",
       "69  Analysis_1014_20220525_100_Version1  Version1   \n",
       "79   Analysis_1053_20220413_85_Version1  Version1   \n",
       "80   Analysis_152_20201224_200_Version1  Version1   \n",
       "97  Analysis_1045_20220504_189_Version1  Version1   \n",
       "\n",
       "                                           total_path Plate strain  \\\n",
       "19     /projects/0/einf914/data/20220502_1604_Plate15  1023   'C2'   \n",
       "24     /projects/0/einf914/data/20220524_1314_Plate06  1042   'C2'   \n",
       "33     /projects/0/einf914/data/20220705_1810_Plate17   127   'C2'   \n",
       "41     /projects/0/einf914/data/20220511_1541_Plate14  1076   'A5'   \n",
       "45     /projects/0/einf914/data/20220506_2350_Plate03  1048   'C2'   \n",
       "57  /scratch-shared/amftrack/stitch_temp2/20201226...   102   'A5'   \n",
       "62     /projects/0/einf914/data/20220707_1452_Plate05   130   'C2'   \n",
       "65     /projects/0/einf914/data/20220510_1437_Plate12    30  'Agg'   \n",
       "69     /projects/0/einf914/data/20220525_1932_Plate01  1014   'C2'   \n",
       "79     /projects/0/einf914/data/20220415_1343_Plate07  1053   'C2'   \n",
       "80  /scratch-shared/amftrack/stitch_temp2/20201224...   152   'A5'   \n",
       "97  /scratch-shared/amftrack/stitch_temp2/20220504...  1045   'C2'   \n",
       "\n",
       "            medium   CrossDate                date      unique_id  \\\n",
       "19  '001P100N200C'    20220502  02.05.2022, 16:04:  1023_20220502   \n",
       "24  '001P100N100C'    20220523  24.05.2022, 13:14:  1042_20220523   \n",
       "33  '001P100N100C'    20220705  05.07.2022, 18:10:   127_20220705   \n",
       "41  '001P100N200C'    20220511  11.05.2022, 15:41:  1076_20220511   \n",
       "45  '001P100N100C'    20220506  06.05.2022, 23:50:  1048_20220506   \n",
       "57      '001P100N'  '20201226'  26.12.2020, 12:24:   102_20201226   \n",
       "62  '001P100N100C'    20220707  07.07.2022, 14:52:   130_20220707   \n",
       "65  '001P100N200C'    20220509  10.05.2022, 14:37:    30_20220509   \n",
       "69  '001P100N100C'    20220525  25.05.2022, 19:32:  1014_20220525   \n",
       "79  '001P100N200C'    20220413  15.04.2022, 13:43:  1053_20220413   \n",
       "80      '001P100N'    20201224  24.12.2020, 11:39:   152_20201224   \n",
       "97  '001P100N200C'    20220504  04.05.2022, 19:00:  1045_20220504   \n",
       "\n",
       "               datetime  ...  \\\n",
       "19  2022-05-02 16:04:00  ...   \n",
       "24  2022-05-24 13:14:00  ...   \n",
       "33  2022-07-05 18:10:00  ...   \n",
       "41  2022-05-11 15:41:00  ...   \n",
       "45  2022-05-06 23:50:00  ...   \n",
       "57  2020-12-26 12:24:00  ...   \n",
       "62  2022-07-07 14:52:00  ...   \n",
       "65  2022-05-10 14:37:00  ...   \n",
       "69  2022-05-25 19:32:00  ...   \n",
       "79  2022-04-15 13:43:00  ...   \n",
       "80  2020-12-24 11:39:00  ...   \n",
       "97  2022-05-04 19:00:00  ...   \n",
       "\n",
       "                                 path_time_hypha_info  \\\n",
       "19  Analysis_1023_20220502_200_Version1/time_hypha...   \n",
       "24  Analysis_1042_20220523_200_Version1/time_hypha...   \n",
       "33  Analysis_127_20220705_200_Version1/time_hypha_...   \n",
       "41  Analysis_1076_20220511_200_Version1/time_hypha...   \n",
       "45  Analysis_1048_20220506_200_Version1/time_hypha...   \n",
       "57  Analysis_102_20201226_200_Version1/time_hypha_...   \n",
       "62  Analysis_130_20220707_200_Version1/time_hypha_...   \n",
       "65  Analysis_30_20220509_200_Version1/time_hypha_info   \n",
       "69  Analysis_1014_20220525_100_Version1/time_hypha...   \n",
       "79  Analysis_1053_20220413_85_Version1/time_hypha_...   \n",
       "80  Analysis_152_20201224_200_Version1/time_hypha_...   \n",
       "97  Analysis_1045_20220504_189_Version1/time_hypha...   \n",
       "\n",
       "                                 path_time_plate_info  \\\n",
       "19  Analysis_1023_20220502_200_Version1/time_plate...   \n",
       "24  Analysis_1042_20220523_200_Version1/time_plate...   \n",
       "33  Analysis_127_20220705_200_Version1/time_plate_...   \n",
       "41  Analysis_1076_20220511_200_Version1/time_plate...   \n",
       "45  Analysis_1048_20220506_200_Version1/time_plate...   \n",
       "57  Analysis_102_20201226_200_Version1/time_plate_...   \n",
       "62  Analysis_130_20220707_200_Version1/time_plate_...   \n",
       "65  Analysis_30_20220509_200_Version1/time_plate_i...   \n",
       "69  Analysis_1014_20220525_100_Version1/time_plate...   \n",
       "79  Analysis_1053_20220413_85_Version1/time_plate_...   \n",
       "80  Analysis_152_20201224_200_Version1/time_plate_...   \n",
       "97  Analysis_1045_20220504_189_Version1/time_plate...   \n",
       "\n",
       "                               path_global_plate_info   date_run_analysis  \\\n",
       "19  Analysis_1023_20220502_200_Version1/global_pla...  01.01.1970, 01:00:   \n",
       "24  Analysis_1042_20220523_200_Version1/global_pla...  01.01.1970, 01:00:   \n",
       "33  Analysis_127_20220705_200_Version1/global_plat...  01.01.1970, 01:00:   \n",
       "41  Analysis_1076_20220511_200_Version1/global_pla...  01.01.1970, 01:00:   \n",
       "45  Analysis_1048_20220506_200_Version1/global_pla...  01.01.1970, 01:00:   \n",
       "57  Analysis_102_20201226_200_Version1/global_plat...  01.01.1970, 01:00:   \n",
       "62  Analysis_130_20220707_200_Version1/global_plat...  01.01.1970, 01:00:   \n",
       "65  Analysis_30_20220509_200_Version1/global_plate...  01.01.1970, 01:00:   \n",
       "69  Analysis_1014_20220525_100_Version1/global_pla...  01.01.1970, 01:00:   \n",
       "79  Analysis_1053_20220413_85_Version1/global_plat...  01.01.1970, 01:00:   \n",
       "80  Analysis_152_20201224_200_Version1/global_plat...  01.01.1970, 01:00:   \n",
       "97  Analysis_1045_20220504_189_Version1/global_pla...  01.01.1970, 01:00:   \n",
       "\n",
       "   PrincePos      root split Pbait Temperature  Temp  \n",
       "19        15  'Carrot'   'Y'   '-'          25   NaN  \n",
       "24         6  'Carrot'   'Y'   '-'          25   NaN  \n",
       "33        17  'Carrot'   'Y'   '-'          25   NaN  \n",
       "41        14  'Carrot'   'Y'   '-'          25   NaN  \n",
       "45         3  'Carrot'   'Y'   '-'          25   NaN  \n",
       "57        40  'Carrot'   'Y'   nan         nan  '25'  \n",
       "62         5  'Carrot'   'Y'   '-'          25   NaN  \n",
       "65        12  'Carrot'   'Y'   '-'          25   NaN  \n",
       "69         1  'Carrot'   'Y'   '-'          25   NaN  \n",
       "79         7  'Carrot'   'Y'   '-'          25   NaN  \n",
       "80        32  'Carrot'   'Y'   '-'         nan   nan  \n",
       "97         2  'Carrot'   'Y'   '-'          25   NaN  \n",
       "\n",
       "[12 rows x 25 columns]"
      ]
     },
     "execution_count": 34,
     "metadata": {},
     "output_type": "execute_result"
    }
   ],
   "source": [
    "analysis_folders"
   ]
  },
  {
   "cell_type": "code",
   "execution_count": null,
   "id": "5a65c411-1ad7-485d-9242-97e3a45a831d",
   "metadata": {},
   "outputs": [],
   "source": [
    "time = \"2:00:00\"\n",
    "name_job = \"malin\"\n",
    "\n",
    "list_args = [[]] * len(list_f)\n",
    "overwrite = True\n",
    "num_parallel = 6\n",
    "run_parallel_post(\n",
    "    \"time_edge_post_process.py\",\n",
    "    list_f,\n",
    "    list_args,\n",
    "    [directory, overwrite],\n",
    "    analysis_folders,\n",
    "    num_parallel,\n",
    "    time,\n",
    "    \"edge_post_process\",\n",
    "    cpus=32,\n",
    "    name_job=name_job,\n",
    "    node=\"fat\",\n",
    ")"
   ]
  },
  {
   "cell_type": "code",
   "execution_count": null,
   "id": "0e834046-7817-4c75-bcbe-2d3fd38e73a0",
   "metadata": {
    "tags": []
   },
   "outputs": [
    {
     "name": "stderr",
     "output_type": "stream",
     "text": [
      "sbatch: Single-node jobs run on a shared node by default. Add --exclusive if you want to use a node exclusively.\n",
      "sbatch: You will be charged for 0.25 node. A full node consists of 128 CPU cores, 983040 MiB of memory and 0 GPUs and can be shared by up to 4 jobs.\n"
     ]
    },
    {
     "name": "stdout",
     "output_type": "stream",
     "text": [
      "Submitted batch job 1935659\n"
     ]
    },
    {
     "name": "stderr",
     "output_type": "stream",
     "text": [
      "sbatch: Single-node jobs run on a shared node by default. Add --exclusive if you want to use a node exclusively.\n",
      "sbatch: You will be charged for 0.25 node. A full node consists of 128 CPU cores, 983040 MiB of memory and 0 GPUs and can be shared by up to 4 jobs.\n"
     ]
    },
    {
     "name": "stdout",
     "output_type": "stream",
     "text": [
      "Submitted batch job 1935660\n"
     ]
    },
    {
     "name": "stderr",
     "output_type": "stream",
     "text": [
      "sbatch: Single-node jobs run on a shared node by default. Add --exclusive if you want to use a node exclusively.\n",
      "sbatch: You will be charged for 0.25 node. A full node consists of 128 CPU cores, 983040 MiB of memory and 0 GPUs and can be shared by up to 4 jobs.\n"
     ]
    },
    {
     "name": "stdout",
     "output_type": "stream",
     "text": [
      "Submitted batch job 1935661\n"
     ]
    },
    {
     "name": "stderr",
     "output_type": "stream",
     "text": [
      "sbatch: Single-node jobs run on a shared node by default. Add --exclusive if you want to use a node exclusively.\n",
      "sbatch: You will be charged for 0.25 node. A full node consists of 128 CPU cores, 983040 MiB of memory and 0 GPUs and can be shared by up to 4 jobs.\n"
     ]
    },
    {
     "name": "stdout",
     "output_type": "stream",
     "text": [
      "Submitted batch job 1935662\n"
     ]
    },
    {
     "name": "stderr",
     "output_type": "stream",
     "text": [
      "sbatch: Single-node jobs run on a shared node by default. Add --exclusive if you want to use a node exclusively.\n",
      "sbatch: You will be charged for 0.25 node. A full node consists of 128 CPU cores, 983040 MiB of memory and 0 GPUs and can be shared by up to 4 jobs.\n"
     ]
    },
    {
     "name": "stdout",
     "output_type": "stream",
     "text": [
      "Submitted batch job 1935663\n"
     ]
    },
    {
     "name": "stderr",
     "output_type": "stream",
     "text": [
      "sbatch: Single-node jobs run on a shared node by default. Add --exclusive if you want to use a node exclusively.\n",
      "sbatch: You will be charged for 0.25 node. A full node consists of 128 CPU cores, 983040 MiB of memory and 0 GPUs and can be shared by up to 4 jobs.\n"
     ]
    },
    {
     "name": "stdout",
     "output_type": "stream",
     "text": [
      "Submitted batch job 1935664\n"
     ]
    },
    {
     "name": "stderr",
     "output_type": "stream",
     "text": [
      "sbatch: Single-node jobs run on a shared node by default. Add --exclusive if you want to use a node exclusively.\n",
      "sbatch: You will be charged for 0.25 node. A full node consists of 128 CPU cores, 983040 MiB of memory and 0 GPUs and can be shared by up to 4 jobs.\n"
     ]
    },
    {
     "name": "stdout",
     "output_type": "stream",
     "text": [
      "Submitted batch job 1935665\n"
     ]
    },
    {
     "name": "stderr",
     "output_type": "stream",
     "text": [
      "sbatch: Single-node jobs run on a shared node by default. Add --exclusive if you want to use a node exclusively.\n",
      "sbatch: You will be charged for 0.25 node. A full node consists of 128 CPU cores, 983040 MiB of memory and 0 GPUs and can be shared by up to 4 jobs.\n"
     ]
    },
    {
     "name": "stdout",
     "output_type": "stream",
     "text": [
      "Submitted batch job 1935666\n"
     ]
    },
    {
     "name": "stderr",
     "output_type": "stream",
     "text": [
      "sbatch: Single-node jobs run on a shared node by default. Add --exclusive if you want to use a node exclusively.\n",
      "sbatch: You will be charged for 0.25 node. A full node consists of 128 CPU cores, 983040 MiB of memory and 0 GPUs and can be shared by up to 4 jobs.\n"
     ]
    },
    {
     "name": "stdout",
     "output_type": "stream",
     "text": [
      "Submitted batch job 1935667\n"
     ]
    },
    {
     "name": "stderr",
     "output_type": "stream",
     "text": [
      "sbatch: Single-node jobs run on a shared node by default. Add --exclusive if you want to use a node exclusively.\n",
      "sbatch: You will be charged for 0.25 node. A full node consists of 128 CPU cores, 983040 MiB of memory and 0 GPUs and can be shared by up to 4 jobs.\n"
     ]
    },
    {
     "name": "stdout",
     "output_type": "stream",
     "text": [
      "Submitted batch job 1935668\n"
     ]
    },
    {
     "name": "stderr",
     "output_type": "stream",
     "text": [
      "sbatch: Single-node jobs run on a shared node by default. Add --exclusive if you want to use a node exclusively.\n",
      "sbatch: You will be charged for 0.25 node. A full node consists of 128 CPU cores, 983040 MiB of memory and 0 GPUs and can be shared by up to 4 jobs.\n"
     ]
    },
    {
     "name": "stdout",
     "output_type": "stream",
     "text": [
      "Submitted batch job 1935669\n"
     ]
    },
    {
     "name": "stderr",
     "output_type": "stream",
     "text": [
      "sbatch: Single-node jobs run on a shared node by default. Add --exclusive if you want to use a node exclusively.\n",
      "sbatch: You will be charged for 0.25 node. A full node consists of 128 CPU cores, 983040 MiB of memory and 0 GPUs and can be shared by up to 4 jobs.\n"
     ]
    },
    {
     "name": "stdout",
     "output_type": "stream",
     "text": [
      "Submitted batch job 1935670\n"
     ]
    },
    {
     "name": "stderr",
     "output_type": "stream",
     "text": [
      "sbatch: Single-node jobs run on a shared node by default. Add --exclusive if you want to use a node exclusively.\n",
      "sbatch: You will be charged for 0.25 node. A full node consists of 128 CPU cores, 983040 MiB of memory and 0 GPUs and can be shared by up to 4 jobs.\n"
     ]
    },
    {
     "name": "stdout",
     "output_type": "stream",
     "text": [
      "Submitted batch job 1935671\n"
     ]
    },
    {
     "name": "stderr",
     "output_type": "stream",
     "text": [
      "sbatch: Single-node jobs run on a shared node by default. Add --exclusive if you want to use a node exclusively.\n",
      "sbatch: You will be charged for 0.25 node. A full node consists of 128 CPU cores, 983040 MiB of memory and 0 GPUs and can be shared by up to 4 jobs.\n"
     ]
    },
    {
     "name": "stdout",
     "output_type": "stream",
     "text": [
      "Submitted batch job 1935672\n"
     ]
    },
    {
     "name": "stderr",
     "output_type": "stream",
     "text": [
      "sbatch: Single-node jobs run on a shared node by default. Add --exclusive if you want to use a node exclusively.\n",
      "sbatch: You will be charged for 0.25 node. A full node consists of 128 CPU cores, 983040 MiB of memory and 0 GPUs and can be shared by up to 4 jobs.\n"
     ]
    },
    {
     "name": "stdout",
     "output_type": "stream",
     "text": [
      "Submitted batch job 1935673\n"
     ]
    },
    {
     "name": "stderr",
     "output_type": "stream",
     "text": [
      "sbatch: Single-node jobs run on a shared node by default. Add --exclusive if you want to use a node exclusively.\n",
      "sbatch: You will be charged for 0.25 node. A full node consists of 128 CPU cores, 983040 MiB of memory and 0 GPUs and can be shared by up to 4 jobs.\n"
     ]
    },
    {
     "name": "stdout",
     "output_type": "stream",
     "text": [
      "Submitted batch job 1935674\n"
     ]
    },
    {
     "name": "stderr",
     "output_type": "stream",
     "text": [
      "sbatch: Single-node jobs run on a shared node by default. Add --exclusive if you want to use a node exclusively.\n",
      "sbatch: You will be charged for 0.25 node. A full node consists of 128 CPU cores, 983040 MiB of memory and 0 GPUs and can be shared by up to 4 jobs.\n"
     ]
    },
    {
     "name": "stdout",
     "output_type": "stream",
     "text": [
      "Submitted batch job 1935675\n"
     ]
    },
    {
     "name": "stderr",
     "output_type": "stream",
     "text": [
      "sbatch: Single-node jobs run on a shared node by default. Add --exclusive if you want to use a node exclusively.\n",
      "sbatch: You will be charged for 0.25 node. A full node consists of 128 CPU cores, 983040 MiB of memory and 0 GPUs and can be shared by up to 4 jobs.\n"
     ]
    },
    {
     "name": "stdout",
     "output_type": "stream",
     "text": [
      "Submitted batch job 1935676\n"
     ]
    },
    {
     "name": "stderr",
     "output_type": "stream",
     "text": [
      "sbatch: Single-node jobs run on a shared node by default. Add --exclusive if you want to use a node exclusively.\n",
      "sbatch: You will be charged for 0.25 node. A full node consists of 128 CPU cores, 983040 MiB of memory and 0 GPUs and can be shared by up to 4 jobs.\n"
     ]
    },
    {
     "name": "stdout",
     "output_type": "stream",
     "text": [
      "Submitted batch job 1935677\n"
     ]
    },
    {
     "name": "stderr",
     "output_type": "stream",
     "text": [
      "sbatch: Single-node jobs run on a shared node by default. Add --exclusive if you want to use a node exclusively.\n",
      "sbatch: You will be charged for 0.25 node. A full node consists of 128 CPU cores, 983040 MiB of memory and 0 GPUs and can be shared by up to 4 jobs.\n"
     ]
    },
    {
     "name": "stdout",
     "output_type": "stream",
     "text": [
      "Submitted batch job 1935678\n"
     ]
    },
    {
     "name": "stderr",
     "output_type": "stream",
     "text": [
      "sbatch: Single-node jobs run on a shared node by default. Add --exclusive if you want to use a node exclusively.\n",
      "sbatch: You will be charged for 0.25 node. A full node consists of 128 CPU cores, 983040 MiB of memory and 0 GPUs and can be shared by up to 4 jobs.\n"
     ]
    },
    {
     "name": "stdout",
     "output_type": "stream",
     "text": [
      "Submitted batch job 1935679\n"
     ]
    },
    {
     "name": "stderr",
     "output_type": "stream",
     "text": [
      "sbatch: Single-node jobs run on a shared node by default. Add --exclusive if you want to use a node exclusively.\n",
      "sbatch: You will be charged for 0.25 node. A full node consists of 128 CPU cores, 983040 MiB of memory and 0 GPUs and can be shared by up to 4 jobs.\n"
     ]
    },
    {
     "name": "stdout",
     "output_type": "stream",
     "text": [
      "Submitted batch job 1935680\n"
     ]
    },
    {
     "name": "stderr",
     "output_type": "stream",
     "text": [
      "sbatch: Single-node jobs run on a shared node by default. Add --exclusive if you want to use a node exclusively.\n",
      "sbatch: You will be charged for 0.25 node. A full node consists of 128 CPU cores, 983040 MiB of memory and 0 GPUs and can be shared by up to 4 jobs.\n"
     ]
    },
    {
     "name": "stdout",
     "output_type": "stream",
     "text": [
      "Submitted batch job 1935681\n"
     ]
    },
    {
     "name": "stderr",
     "output_type": "stream",
     "text": [
      "sbatch: Single-node jobs run on a shared node by default. Add --exclusive if you want to use a node exclusively.\n",
      "sbatch: You will be charged for 0.25 node. A full node consists of 128 CPU cores, 983040 MiB of memory and 0 GPUs and can be shared by up to 4 jobs.\n"
     ]
    },
    {
     "name": "stdout",
     "output_type": "stream",
     "text": [
      "Submitted batch job 1935682\n"
     ]
    },
    {
     "name": "stderr",
     "output_type": "stream",
     "text": [
      "sbatch: Single-node jobs run on a shared node by default. Add --exclusive if you want to use a node exclusively.\n",
      "sbatch: You will be charged for 0.25 node. A full node consists of 128 CPU cores, 983040 MiB of memory and 0 GPUs and can be shared by up to 4 jobs.\n"
     ]
    },
    {
     "name": "stdout",
     "output_type": "stream",
     "text": [
      "Submitted batch job 1935683\n"
     ]
    },
    {
     "name": "stderr",
     "output_type": "stream",
     "text": [
      "sbatch: Single-node jobs run on a shared node by default. Add --exclusive if you want to use a node exclusively.\n",
      "sbatch: You will be charged for 0.25 node. A full node consists of 128 CPU cores, 983040 MiB of memory and 0 GPUs and can be shared by up to 4 jobs.\n"
     ]
    },
    {
     "name": "stdout",
     "output_type": "stream",
     "text": [
      "Submitted batch job 1935684\n"
     ]
    },
    {
     "name": "stderr",
     "output_type": "stream",
     "text": [
      "sbatch: Single-node jobs run on a shared node by default. Add --exclusive if you want to use a node exclusively.\n",
      "sbatch: You will be charged for 0.25 node. A full node consists of 128 CPU cores, 983040 MiB of memory and 0 GPUs and can be shared by up to 4 jobs.\n"
     ]
    },
    {
     "name": "stdout",
     "output_type": "stream",
     "text": [
      "Submitted batch job 1935685\n"
     ]
    },
    {
     "name": "stderr",
     "output_type": "stream",
     "text": [
      "sbatch: Single-node jobs run on a shared node by default. Add --exclusive if you want to use a node exclusively.\n",
      "sbatch: You will be charged for 0.25 node. A full node consists of 128 CPU cores, 983040 MiB of memory and 0 GPUs and can be shared by up to 4 jobs.\n"
     ]
    },
    {
     "name": "stdout",
     "output_type": "stream",
     "text": [
      "Submitted batch job 1935686\n"
     ]
    },
    {
     "name": "stderr",
     "output_type": "stream",
     "text": [
      "sbatch: Single-node jobs run on a shared node by default. Add --exclusive if you want to use a node exclusively.\n",
      "sbatch: You will be charged for 0.25 node. A full node consists of 128 CPU cores, 983040 MiB of memory and 0 GPUs and can be shared by up to 4 jobs.\n"
     ]
    },
    {
     "name": "stdout",
     "output_type": "stream",
     "text": [
      "Submitted batch job 1935687\n"
     ]
    },
    {
     "name": "stderr",
     "output_type": "stream",
     "text": [
      "sbatch: Single-node jobs run on a shared node by default. Add --exclusive if you want to use a node exclusively.\n",
      "sbatch: You will be charged for 0.25 node. A full node consists of 128 CPU cores, 983040 MiB of memory and 0 GPUs and can be shared by up to 4 jobs.\n"
     ]
    },
    {
     "name": "stdout",
     "output_type": "stream",
     "text": [
      "Submitted batch job 1935688\n"
     ]
    },
    {
     "name": "stderr",
     "output_type": "stream",
     "text": [
      "sbatch: Single-node jobs run on a shared node by default. Add --exclusive if you want to use a node exclusively.\n",
      "sbatch: You will be charged for 0.25 node. A full node consists of 128 CPU cores, 983040 MiB of memory and 0 GPUs and can be shared by up to 4 jobs.\n"
     ]
    },
    {
     "name": "stdout",
     "output_type": "stream",
     "text": [
      "Submitted batch job 1935689\n"
     ]
    },
    {
     "name": "stderr",
     "output_type": "stream",
     "text": [
      "sbatch: Single-node jobs run on a shared node by default. Add --exclusive if you want to use a node exclusively.\n",
      "sbatch: You will be charged for 0.25 node. A full node consists of 128 CPU cores, 983040 MiB of memory and 0 GPUs and can be shared by up to 4 jobs.\n"
     ]
    },
    {
     "name": "stdout",
     "output_type": "stream",
     "text": [
      "Submitted batch job 1935690\n"
     ]
    },
    {
     "name": "stderr",
     "output_type": "stream",
     "text": [
      "sbatch: Single-node jobs run on a shared node by default. Add --exclusive if you want to use a node exclusively.\n",
      "sbatch: You will be charged for 0.25 node. A full node consists of 128 CPU cores, 983040 MiB of memory and 0 GPUs and can be shared by up to 4 jobs.\n"
     ]
    },
    {
     "name": "stdout",
     "output_type": "stream",
     "text": [
      "Submitted batch job 1935691\n"
     ]
    },
    {
     "name": "stderr",
     "output_type": "stream",
     "text": [
      "sbatch: Single-node jobs run on a shared node by default. Add --exclusive if you want to use a node exclusively.\n",
      "sbatch: You will be charged for 0.25 node. A full node consists of 128 CPU cores, 983040 MiB of memory and 0 GPUs and can be shared by up to 4 jobs.\n"
     ]
    },
    {
     "name": "stdout",
     "output_type": "stream",
     "text": [
      "Submitted batch job 1935692\n"
     ]
    },
    {
     "name": "stderr",
     "output_type": "stream",
     "text": [
      "sbatch: Single-node jobs run on a shared node by default. Add --exclusive if you want to use a node exclusively.\n",
      "sbatch: You will be charged for 0.25 node. A full node consists of 128 CPU cores, 983040 MiB of memory and 0 GPUs and can be shared by up to 4 jobs.\n"
     ]
    },
    {
     "name": "stdout",
     "output_type": "stream",
     "text": [
      "Submitted batch job 1935693\n"
     ]
    },
    {
     "name": "stderr",
     "output_type": "stream",
     "text": [
      "sbatch: Single-node jobs run on a shared node by default. Add --exclusive if you want to use a node exclusively.\n",
      "sbatch: You will be charged for 0.25 node. A full node consists of 128 CPU cores, 983040 MiB of memory and 0 GPUs and can be shared by up to 4 jobs.\n"
     ]
    },
    {
     "name": "stdout",
     "output_type": "stream",
     "text": [
      "Submitted batch job 1935694\n"
     ]
    },
    {
     "name": "stderr",
     "output_type": "stream",
     "text": [
      "sbatch: Single-node jobs run on a shared node by default. Add --exclusive if you want to use a node exclusively.\n",
      "sbatch: You will be charged for 0.25 node. A full node consists of 128 CPU cores, 983040 MiB of memory and 0 GPUs and can be shared by up to 4 jobs.\n"
     ]
    },
    {
     "name": "stdout",
     "output_type": "stream",
     "text": [
      "Submitted batch job 1935695\n"
     ]
    },
    {
     "name": "stderr",
     "output_type": "stream",
     "text": [
      "sbatch: Single-node jobs run on a shared node by default. Add --exclusive if you want to use a node exclusively.\n",
      "sbatch: You will be charged for 0.25 node. A full node consists of 128 CPU cores, 983040 MiB of memory and 0 GPUs and can be shared by up to 4 jobs.\n"
     ]
    },
    {
     "name": "stdout",
     "output_type": "stream",
     "text": [
      "Submitted batch job 1935696\n"
     ]
    },
    {
     "name": "stderr",
     "output_type": "stream",
     "text": [
      "sbatch: Single-node jobs run on a shared node by default. Add --exclusive if you want to use a node exclusively.\n",
      "sbatch: You will be charged for 0.25 node. A full node consists of 128 CPU cores, 983040 MiB of memory and 0 GPUs and can be shared by up to 4 jobs.\n"
     ]
    },
    {
     "name": "stdout",
     "output_type": "stream",
     "text": [
      "Submitted batch job 1935697\n"
     ]
    },
    {
     "name": "stderr",
     "output_type": "stream",
     "text": [
      "sbatch: Single-node jobs run on a shared node by default. Add --exclusive if you want to use a node exclusively.\n",
      "sbatch: You will be charged for 0.25 node. A full node consists of 128 CPU cores, 983040 MiB of memory and 0 GPUs and can be shared by up to 4 jobs.\n"
     ]
    },
    {
     "name": "stdout",
     "output_type": "stream",
     "text": [
      "Submitted batch job 1935698\n"
     ]
    },
    {
     "name": "stderr",
     "output_type": "stream",
     "text": [
      "sbatch: Single-node jobs run on a shared node by default. Add --exclusive if you want to use a node exclusively.\n",
      "sbatch: You will be charged for 0.25 node. A full node consists of 128 CPU cores, 983040 MiB of memory and 0 GPUs and can be shared by up to 4 jobs.\n"
     ]
    },
    {
     "name": "stdout",
     "output_type": "stream",
     "text": [
      "Submitted batch job 1935699\n"
     ]
    },
    {
     "name": "stderr",
     "output_type": "stream",
     "text": [
      "sbatch: Single-node jobs run on a shared node by default. Add --exclusive if you want to use a node exclusively.\n",
      "sbatch: You will be charged for 0.25 node. A full node consists of 128 CPU cores, 983040 MiB of memory and 0 GPUs and can be shared by up to 4 jobs.\n"
     ]
    },
    {
     "name": "stdout",
     "output_type": "stream",
     "text": [
      "Submitted batch job 1935700\n"
     ]
    },
    {
     "name": "stderr",
     "output_type": "stream",
     "text": [
      "sbatch: Single-node jobs run on a shared node by default. Add --exclusive if you want to use a node exclusively.\n",
      "sbatch: You will be charged for 0.25 node. A full node consists of 128 CPU cores, 983040 MiB of memory and 0 GPUs and can be shared by up to 4 jobs.\n"
     ]
    },
    {
     "name": "stdout",
     "output_type": "stream",
     "text": [
      "Submitted batch job 1935701\n"
     ]
    },
    {
     "name": "stderr",
     "output_type": "stream",
     "text": [
      "sbatch: Single-node jobs run on a shared node by default. Add --exclusive if you want to use a node exclusively.\n",
      "sbatch: You will be charged for 0.25 node. A full node consists of 128 CPU cores, 983040 MiB of memory and 0 GPUs and can be shared by up to 4 jobs.\n"
     ]
    },
    {
     "name": "stdout",
     "output_type": "stream",
     "text": [
      "Submitted batch job 1935702\n"
     ]
    },
    {
     "name": "stderr",
     "output_type": "stream",
     "text": [
      "sbatch: Single-node jobs run on a shared node by default. Add --exclusive if you want to use a node exclusively.\n",
      "sbatch: You will be charged for 0.25 node. A full node consists of 128 CPU cores, 983040 MiB of memory and 0 GPUs and can be shared by up to 4 jobs.\n"
     ]
    },
    {
     "name": "stdout",
     "output_type": "stream",
     "text": [
      "Submitted batch job 1935703\n"
     ]
    },
    {
     "name": "stderr",
     "output_type": "stream",
     "text": [
      "sbatch: Single-node jobs run on a shared node by default. Add --exclusive if you want to use a node exclusively.\n",
      "sbatch: You will be charged for 0.25 node. A full node consists of 128 CPU cores, 983040 MiB of memory and 0 GPUs and can be shared by up to 4 jobs.\n"
     ]
    },
    {
     "name": "stdout",
     "output_type": "stream",
     "text": [
      "Submitted batch job 1935704\n"
     ]
    },
    {
     "name": "stderr",
     "output_type": "stream",
     "text": [
      "sbatch: Single-node jobs run on a shared node by default. Add --exclusive if you want to use a node exclusively.\n",
      "sbatch: You will be charged for 0.25 node. A full node consists of 128 CPU cores, 983040 MiB of memory and 0 GPUs and can be shared by up to 4 jobs.\n"
     ]
    },
    {
     "name": "stdout",
     "output_type": "stream",
     "text": [
      "Submitted batch job 1935705\n"
     ]
    },
    {
     "name": "stderr",
     "output_type": "stream",
     "text": [
      "sbatch: Single-node jobs run on a shared node by default. Add --exclusive if you want to use a node exclusively.\n",
      "sbatch: You will be charged for 0.25 node. A full node consists of 128 CPU cores, 983040 MiB of memory and 0 GPUs and can be shared by up to 4 jobs.\n"
     ]
    },
    {
     "name": "stdout",
     "output_type": "stream",
     "text": [
      "Submitted batch job 1935706\n"
     ]
    },
    {
     "name": "stderr",
     "output_type": "stream",
     "text": [
      "sbatch: Single-node jobs run on a shared node by default. Add --exclusive if you want to use a node exclusively.\n",
      "sbatch: You will be charged for 0.25 node. A full node consists of 128 CPU cores, 983040 MiB of memory and 0 GPUs and can be shared by up to 4 jobs.\n"
     ]
    },
    {
     "name": "stdout",
     "output_type": "stream",
     "text": [
      "Submitted batch job 1935707\n"
     ]
    },
    {
     "name": "stderr",
     "output_type": "stream",
     "text": [
      "sbatch: Single-node jobs run on a shared node by default. Add --exclusive if you want to use a node exclusively.\n",
      "sbatch: You will be charged for 0.25 node. A full node consists of 128 CPU cores, 983040 MiB of memory and 0 GPUs and can be shared by up to 4 jobs.\n"
     ]
    },
    {
     "name": "stdout",
     "output_type": "stream",
     "text": [
      "Submitted batch job 1935708\n"
     ]
    },
    {
     "name": "stderr",
     "output_type": "stream",
     "text": [
      "sbatch: Single-node jobs run on a shared node by default. Add --exclusive if you want to use a node exclusively.\n",
      "sbatch: You will be charged for 0.25 node. A full node consists of 128 CPU cores, 983040 MiB of memory and 0 GPUs and can be shared by up to 4 jobs.\n"
     ]
    },
    {
     "name": "stdout",
     "output_type": "stream",
     "text": [
      "Submitted batch job 1935709\n"
     ]
    },
    {
     "name": "stderr",
     "output_type": "stream",
     "text": [
      "sbatch: Single-node jobs run on a shared node by default. Add --exclusive if you want to use a node exclusively.\n",
      "sbatch: You will be charged for 0.25 node. A full node consists of 128 CPU cores, 983040 MiB of memory and 0 GPUs and can be shared by up to 4 jobs.\n"
     ]
    },
    {
     "name": "stdout",
     "output_type": "stream",
     "text": [
      "Submitted batch job 1935710\n"
     ]
    },
    {
     "name": "stderr",
     "output_type": "stream",
     "text": [
      "sbatch: Single-node jobs run on a shared node by default. Add --exclusive if you want to use a node exclusively.\n",
      "sbatch: You will be charged for 0.25 node. A full node consists of 128 CPU cores, 983040 MiB of memory and 0 GPUs and can be shared by up to 4 jobs.\n"
     ]
    },
    {
     "name": "stdout",
     "output_type": "stream",
     "text": [
      "Submitted batch job 1935711\n"
     ]
    },
    {
     "name": "stderr",
     "output_type": "stream",
     "text": [
      "sbatch: Single-node jobs run on a shared node by default. Add --exclusive if you want to use a node exclusively.\n",
      "sbatch: You will be charged for 0.25 node. A full node consists of 128 CPU cores, 983040 MiB of memory and 0 GPUs and can be shared by up to 4 jobs.\n"
     ]
    },
    {
     "name": "stdout",
     "output_type": "stream",
     "text": [
      "Submitted batch job 1935712\n"
     ]
    },
    {
     "name": "stderr",
     "output_type": "stream",
     "text": [
      "sbatch: Single-node jobs run on a shared node by default. Add --exclusive if you want to use a node exclusively.\n",
      "sbatch: You will be charged for 0.25 node. A full node consists of 128 CPU cores, 983040 MiB of memory and 0 GPUs and can be shared by up to 4 jobs.\n"
     ]
    },
    {
     "name": "stdout",
     "output_type": "stream",
     "text": [
      "Submitted batch job 1935713\n"
     ]
    },
    {
     "name": "stderr",
     "output_type": "stream",
     "text": [
      "sbatch: Single-node jobs run on a shared node by default. Add --exclusive if you want to use a node exclusively.\n",
      "sbatch: You will be charged for 0.25 node. A full node consists of 128 CPU cores, 983040 MiB of memory and 0 GPUs and can be shared by up to 4 jobs.\n"
     ]
    },
    {
     "name": "stdout",
     "output_type": "stream",
     "text": [
      "Submitted batch job 1935714\n"
     ]
    },
    {
     "name": "stderr",
     "output_type": "stream",
     "text": [
      "sbatch: Single-node jobs run on a shared node by default. Add --exclusive if you want to use a node exclusively.\n",
      "sbatch: You will be charged for 0.25 node. A full node consists of 128 CPU cores, 983040 MiB of memory and 0 GPUs and can be shared by up to 4 jobs.\n"
     ]
    },
    {
     "name": "stdout",
     "output_type": "stream",
     "text": [
      "Submitted batch job 1935715\n"
     ]
    },
    {
     "name": "stderr",
     "output_type": "stream",
     "text": [
      "sbatch: Single-node jobs run on a shared node by default. Add --exclusive if you want to use a node exclusively.\n",
      "sbatch: You will be charged for 0.25 node. A full node consists of 128 CPU cores, 983040 MiB of memory and 0 GPUs and can be shared by up to 4 jobs.\n"
     ]
    },
    {
     "name": "stdout",
     "output_type": "stream",
     "text": [
      "Submitted batch job 1935716\n"
     ]
    },
    {
     "name": "stderr",
     "output_type": "stream",
     "text": [
      "sbatch: Single-node jobs run on a shared node by default. Add --exclusive if you want to use a node exclusively.\n",
      "sbatch: You will be charged for 0.25 node. A full node consists of 128 CPU cores, 983040 MiB of memory and 0 GPUs and can be shared by up to 4 jobs.\n"
     ]
    },
    {
     "name": "stdout",
     "output_type": "stream",
     "text": [
      "Submitted batch job 1935717\n"
     ]
    },
    {
     "name": "stderr",
     "output_type": "stream",
     "text": [
      "sbatch: Single-node jobs run on a shared node by default. Add --exclusive if you want to use a node exclusively.\n",
      "sbatch: You will be charged for 0.25 node. A full node consists of 128 CPU cores, 983040 MiB of memory and 0 GPUs and can be shared by up to 4 jobs.\n"
     ]
    },
    {
     "name": "stdout",
     "output_type": "stream",
     "text": [
      "Submitted batch job 1935718\n"
     ]
    },
    {
     "name": "stderr",
     "output_type": "stream",
     "text": [
      "sbatch: Single-node jobs run on a shared node by default. Add --exclusive if you want to use a node exclusively.\n",
      "sbatch: You will be charged for 0.25 node. A full node consists of 128 CPU cores, 983040 MiB of memory and 0 GPUs and can be shared by up to 4 jobs.\n"
     ]
    },
    {
     "name": "stdout",
     "output_type": "stream",
     "text": [
      "Submitted batch job 1935719\n"
     ]
    },
    {
     "name": "stderr",
     "output_type": "stream",
     "text": [
      "sbatch: Single-node jobs run on a shared node by default. Add --exclusive if you want to use a node exclusively.\n",
      "sbatch: You will be charged for 0.25 node. A full node consists of 128 CPU cores, 983040 MiB of memory and 0 GPUs and can be shared by up to 4 jobs.\n"
     ]
    },
    {
     "name": "stdout",
     "output_type": "stream",
     "text": [
      "Submitted batch job 1935720\n"
     ]
    },
    {
     "name": "stderr",
     "output_type": "stream",
     "text": [
      "sbatch: Single-node jobs run on a shared node by default. Add --exclusive if you want to use a node exclusively.\n",
      "sbatch: You will be charged for 0.25 node. A full node consists of 128 CPU cores, 983040 MiB of memory and 0 GPUs and can be shared by up to 4 jobs.\n"
     ]
    },
    {
     "name": "stdout",
     "output_type": "stream",
     "text": [
      "Submitted batch job 1935721\n"
     ]
    },
    {
     "name": "stderr",
     "output_type": "stream",
     "text": [
      "sbatch: Single-node jobs run on a shared node by default. Add --exclusive if you want to use a node exclusively.\n",
      "sbatch: You will be charged for 0.25 node. A full node consists of 128 CPU cores, 983040 MiB of memory and 0 GPUs and can be shared by up to 4 jobs.\n"
     ]
    },
    {
     "name": "stdout",
     "output_type": "stream",
     "text": [
      "Submitted batch job 1935722\n"
     ]
    },
    {
     "name": "stderr",
     "output_type": "stream",
     "text": [
      "sbatch: Single-node jobs run on a shared node by default. Add --exclusive if you want to use a node exclusively.\n",
      "sbatch: You will be charged for 0.25 node. A full node consists of 128 CPU cores, 983040 MiB of memory and 0 GPUs and can be shared by up to 4 jobs.\n"
     ]
    },
    {
     "name": "stdout",
     "output_type": "stream",
     "text": [
      "Submitted batch job 1935723\n"
     ]
    },
    {
     "name": "stderr",
     "output_type": "stream",
     "text": [
      "sbatch: Single-node jobs run on a shared node by default. Add --exclusive if you want to use a node exclusively.\n",
      "sbatch: You will be charged for 0.25 node. A full node consists of 128 CPU cores, 983040 MiB of memory and 0 GPUs and can be shared by up to 4 jobs.\n"
     ]
    },
    {
     "name": "stdout",
     "output_type": "stream",
     "text": [
      "Submitted batch job 1935724\n"
     ]
    },
    {
     "name": "stderr",
     "output_type": "stream",
     "text": [
      "sbatch: Single-node jobs run on a shared node by default. Add --exclusive if you want to use a node exclusively.\n",
      "sbatch: You will be charged for 0.25 node. A full node consists of 128 CPU cores, 983040 MiB of memory and 0 GPUs and can be shared by up to 4 jobs.\n"
     ]
    },
    {
     "name": "stdout",
     "output_type": "stream",
     "text": [
      "Submitted batch job 1935725\n"
     ]
    },
    {
     "name": "stderr",
     "output_type": "stream",
     "text": [
      "sbatch: Single-node jobs run on a shared node by default. Add --exclusive if you want to use a node exclusively.\n",
      "sbatch: You will be charged for 0.25 node. A full node consists of 128 CPU cores, 983040 MiB of memory and 0 GPUs and can be shared by up to 4 jobs.\n"
     ]
    },
    {
     "name": "stdout",
     "output_type": "stream",
     "text": [
      "Submitted batch job 1935726\n"
     ]
    },
    {
     "name": "stderr",
     "output_type": "stream",
     "text": [
      "sbatch: Single-node jobs run on a shared node by default. Add --exclusive if you want to use a node exclusively.\n",
      "sbatch: You will be charged for 0.25 node. A full node consists of 128 CPU cores, 983040 MiB of memory and 0 GPUs and can be shared by up to 4 jobs.\n"
     ]
    },
    {
     "name": "stdout",
     "output_type": "stream",
     "text": [
      "Submitted batch job 1935727\n"
     ]
    },
    {
     "name": "stderr",
     "output_type": "stream",
     "text": [
      "sbatch: Single-node jobs run on a shared node by default. Add --exclusive if you want to use a node exclusively.\n",
      "sbatch: You will be charged for 0.25 node. A full node consists of 128 CPU cores, 983040 MiB of memory and 0 GPUs and can be shared by up to 4 jobs.\n"
     ]
    },
    {
     "name": "stdout",
     "output_type": "stream",
     "text": [
      "Submitted batch job 1935728\n"
     ]
    },
    {
     "name": "stderr",
     "output_type": "stream",
     "text": [
      "sbatch: Single-node jobs run on a shared node by default. Add --exclusive if you want to use a node exclusively.\n",
      "sbatch: You will be charged for 0.25 node. A full node consists of 128 CPU cores, 983040 MiB of memory and 0 GPUs and can be shared by up to 4 jobs.\n"
     ]
    },
    {
     "name": "stdout",
     "output_type": "stream",
     "text": [
      "Submitted batch job 1935729\n"
     ]
    },
    {
     "name": "stderr",
     "output_type": "stream",
     "text": [
      "sbatch: Single-node jobs run on a shared node by default. Add --exclusive if you want to use a node exclusively.\n",
      "sbatch: You will be charged for 0.25 node. A full node consists of 128 CPU cores, 983040 MiB of memory and 0 GPUs and can be shared by up to 4 jobs.\n"
     ]
    },
    {
     "name": "stdout",
     "output_type": "stream",
     "text": [
      "Submitted batch job 1935730\n"
     ]
    },
    {
     "name": "stderr",
     "output_type": "stream",
     "text": [
      "sbatch: Single-node jobs run on a shared node by default. Add --exclusive if you want to use a node exclusively.\n",
      "sbatch: You will be charged for 0.25 node. A full node consists of 128 CPU cores, 983040 MiB of memory and 0 GPUs and can be shared by up to 4 jobs.\n"
     ]
    },
    {
     "name": "stdout",
     "output_type": "stream",
     "text": [
      "Submitted batch job 1935731\n"
     ]
    },
    {
     "name": "stderr",
     "output_type": "stream",
     "text": [
      "sbatch: Single-node jobs run on a shared node by default. Add --exclusive if you want to use a node exclusively.\n",
      "sbatch: You will be charged for 0.25 node. A full node consists of 128 CPU cores, 983040 MiB of memory and 0 GPUs and can be shared by up to 4 jobs.\n"
     ]
    },
    {
     "name": "stdout",
     "output_type": "stream",
     "text": [
      "Submitted batch job 1935732\n"
     ]
    },
    {
     "name": "stderr",
     "output_type": "stream",
     "text": [
      "sbatch: Single-node jobs run on a shared node by default. Add --exclusive if you want to use a node exclusively.\n",
      "sbatch: You will be charged for 0.25 node. A full node consists of 128 CPU cores, 983040 MiB of memory and 0 GPUs and can be shared by up to 4 jobs.\n"
     ]
    },
    {
     "name": "stdout",
     "output_type": "stream",
     "text": [
      "Submitted batch job 1935733\n"
     ]
    },
    {
     "name": "stderr",
     "output_type": "stream",
     "text": [
      "sbatch: Single-node jobs run on a shared node by default. Add --exclusive if you want to use a node exclusively.\n",
      "sbatch: You will be charged for 0.25 node. A full node consists of 128 CPU cores, 983040 MiB of memory and 0 GPUs and can be shared by up to 4 jobs.\n"
     ]
    },
    {
     "name": "stdout",
     "output_type": "stream",
     "text": [
      "Submitted batch job 1935734\n"
     ]
    },
    {
     "name": "stderr",
     "output_type": "stream",
     "text": [
      "sbatch: Single-node jobs run on a shared node by default. Add --exclusive if you want to use a node exclusively.\n",
      "sbatch: You will be charged for 0.25 node. A full node consists of 128 CPU cores, 983040 MiB of memory and 0 GPUs and can be shared by up to 4 jobs.\n"
     ]
    },
    {
     "name": "stdout",
     "output_type": "stream",
     "text": [
      "Submitted batch job 1935735\n"
     ]
    },
    {
     "name": "stderr",
     "output_type": "stream",
     "text": [
      "sbatch: Single-node jobs run on a shared node by default. Add --exclusive if you want to use a node exclusively.\n",
      "sbatch: You will be charged for 0.25 node. A full node consists of 128 CPU cores, 983040 MiB of memory and 0 GPUs and can be shared by up to 4 jobs.\n"
     ]
    },
    {
     "name": "stdout",
     "output_type": "stream",
     "text": [
      "Submitted batch job 1935736\n"
     ]
    },
    {
     "name": "stderr",
     "output_type": "stream",
     "text": [
      "sbatch: Single-node jobs run on a shared node by default. Add --exclusive if you want to use a node exclusively.\n",
      "sbatch: You will be charged for 0.25 node. A full node consists of 128 CPU cores, 983040 MiB of memory and 0 GPUs and can be shared by up to 4 jobs.\n"
     ]
    },
    {
     "name": "stdout",
     "output_type": "stream",
     "text": [
      "Submitted batch job 1935737\n"
     ]
    },
    {
     "name": "stderr",
     "output_type": "stream",
     "text": [
      "sbatch: Single-node jobs run on a shared node by default. Add --exclusive if you want to use a node exclusively.\n",
      "sbatch: You will be charged for 0.25 node. A full node consists of 128 CPU cores, 983040 MiB of memory and 0 GPUs and can be shared by up to 4 jobs.\n"
     ]
    },
    {
     "name": "stdout",
     "output_type": "stream",
     "text": [
      "Submitted batch job 1935738\n"
     ]
    },
    {
     "name": "stderr",
     "output_type": "stream",
     "text": [
      "sbatch: Single-node jobs run on a shared node by default. Add --exclusive if you want to use a node exclusively.\n",
      "sbatch: You will be charged for 0.25 node. A full node consists of 128 CPU cores, 983040 MiB of memory and 0 GPUs and can be shared by up to 4 jobs.\n"
     ]
    },
    {
     "name": "stdout",
     "output_type": "stream",
     "text": [
      "Submitted batch job 1935739\n"
     ]
    },
    {
     "name": "stderr",
     "output_type": "stream",
     "text": [
      "sbatch: Single-node jobs run on a shared node by default. Add --exclusive if you want to use a node exclusively.\n",
      "sbatch: You will be charged for 0.25 node. A full node consists of 128 CPU cores, 983040 MiB of memory and 0 GPUs and can be shared by up to 4 jobs.\n"
     ]
    },
    {
     "name": "stdout",
     "output_type": "stream",
     "text": [
      "Submitted batch job 1935740\n"
     ]
    },
    {
     "name": "stderr",
     "output_type": "stream",
     "text": [
      "sbatch: Single-node jobs run on a shared node by default. Add --exclusive if you want to use a node exclusively.\n",
      "sbatch: You will be charged for 0.25 node. A full node consists of 128 CPU cores, 983040 MiB of memory and 0 GPUs and can be shared by up to 4 jobs.\n"
     ]
    },
    {
     "name": "stdout",
     "output_type": "stream",
     "text": [
      "Submitted batch job 1935741\n"
     ]
    },
    {
     "name": "stderr",
     "output_type": "stream",
     "text": [
      "sbatch: Single-node jobs run on a shared node by default. Add --exclusive if you want to use a node exclusively.\n",
      "sbatch: You will be charged for 0.25 node. A full node consists of 128 CPU cores, 983040 MiB of memory and 0 GPUs and can be shared by up to 4 jobs.\n"
     ]
    },
    {
     "name": "stdout",
     "output_type": "stream",
     "text": [
      "Submitted batch job 1935743\n"
     ]
    },
    {
     "name": "stderr",
     "output_type": "stream",
     "text": [
      "sbatch: Single-node jobs run on a shared node by default. Add --exclusive if you want to use a node exclusively.\n",
      "sbatch: You will be charged for 0.25 node. A full node consists of 128 CPU cores, 983040 MiB of memory and 0 GPUs and can be shared by up to 4 jobs.\n"
     ]
    },
    {
     "name": "stdout",
     "output_type": "stream",
     "text": [
      "Submitted batch job 1935744\n"
     ]
    },
    {
     "name": "stderr",
     "output_type": "stream",
     "text": [
      "sbatch: Single-node jobs run on a shared node by default. Add --exclusive if you want to use a node exclusively.\n",
      "sbatch: You will be charged for 0.25 node. A full node consists of 128 CPU cores, 983040 MiB of memory and 0 GPUs and can be shared by up to 4 jobs.\n"
     ]
    },
    {
     "name": "stdout",
     "output_type": "stream",
     "text": [
      "Submitted batch job 1935745\n"
     ]
    },
    {
     "name": "stderr",
     "output_type": "stream",
     "text": [
      "sbatch: Single-node jobs run on a shared node by default. Add --exclusive if you want to use a node exclusively.\n",
      "sbatch: You will be charged for 0.25 node. A full node consists of 128 CPU cores, 983040 MiB of memory and 0 GPUs and can be shared by up to 4 jobs.\n"
     ]
    },
    {
     "name": "stdout",
     "output_type": "stream",
     "text": [
      "Submitted batch job 1935746\n"
     ]
    },
    {
     "name": "stderr",
     "output_type": "stream",
     "text": [
      "sbatch: Single-node jobs run on a shared node by default. Add --exclusive if you want to use a node exclusively.\n",
      "sbatch: You will be charged for 0.25 node. A full node consists of 128 CPU cores, 983040 MiB of memory and 0 GPUs and can be shared by up to 4 jobs.\n"
     ]
    },
    {
     "name": "stdout",
     "output_type": "stream",
     "text": [
      "Submitted batch job 1935747\n"
     ]
    },
    {
     "name": "stderr",
     "output_type": "stream",
     "text": [
      "sbatch: Single-node jobs run on a shared node by default. Add --exclusive if you want to use a node exclusively.\n",
      "sbatch: You will be charged for 0.25 node. A full node consists of 128 CPU cores, 983040 MiB of memory and 0 GPUs and can be shared by up to 4 jobs.\n"
     ]
    },
    {
     "name": "stdout",
     "output_type": "stream",
     "text": [
      "Submitted batch job 1935748\n"
     ]
    },
    {
     "name": "stderr",
     "output_type": "stream",
     "text": [
      "sbatch: Single-node jobs run on a shared node by default. Add --exclusive if you want to use a node exclusively.\n",
      "sbatch: You will be charged for 0.25 node. A full node consists of 128 CPU cores, 983040 MiB of memory and 0 GPUs and can be shared by up to 4 jobs.\n"
     ]
    },
    {
     "name": "stdout",
     "output_type": "stream",
     "text": [
      "Submitted batch job 1935750\n"
     ]
    },
    {
     "name": "stderr",
     "output_type": "stream",
     "text": [
      "sbatch: Single-node jobs run on a shared node by default. Add --exclusive if you want to use a node exclusively.\n",
      "sbatch: You will be charged for 0.25 node. A full node consists of 128 CPU cores, 983040 MiB of memory and 0 GPUs and can be shared by up to 4 jobs.\n"
     ]
    },
    {
     "name": "stdout",
     "output_type": "stream",
     "text": [
      "Submitted batch job 1935751\n"
     ]
    },
    {
     "name": "stderr",
     "output_type": "stream",
     "text": [
      "sbatch: Single-node jobs run on a shared node by default. Add --exclusive if you want to use a node exclusively.\n",
      "sbatch: You will be charged for 0.25 node. A full node consists of 128 CPU cores, 983040 MiB of memory and 0 GPUs and can be shared by up to 4 jobs.\n"
     ]
    },
    {
     "name": "stdout",
     "output_type": "stream",
     "text": [
      "Submitted batch job 1935752\n"
     ]
    },
    {
     "name": "stderr",
     "output_type": "stream",
     "text": [
      "sbatch: Single-node jobs run on a shared node by default. Add --exclusive if you want to use a node exclusively.\n",
      "sbatch: You will be charged for 0.25 node. A full node consists of 128 CPU cores, 983040 MiB of memory and 0 GPUs and can be shared by up to 4 jobs.\n"
     ]
    },
    {
     "name": "stdout",
     "output_type": "stream",
     "text": [
      "Submitted batch job 1935753\n"
     ]
    },
    {
     "name": "stderr",
     "output_type": "stream",
     "text": [
      "sbatch: Single-node jobs run on a shared node by default. Add --exclusive if you want to use a node exclusively.\n",
      "sbatch: You will be charged for 0.25 node. A full node consists of 128 CPU cores, 983040 MiB of memory and 0 GPUs and can be shared by up to 4 jobs.\n"
     ]
    },
    {
     "name": "stdout",
     "output_type": "stream",
     "text": [
      "Submitted batch job 1935754\n"
     ]
    },
    {
     "name": "stderr",
     "output_type": "stream",
     "text": [
      "sbatch: Single-node jobs run on a shared node by default. Add --exclusive if you want to use a node exclusively.\n",
      "sbatch: You will be charged for 0.25 node. A full node consists of 128 CPU cores, 983040 MiB of memory and 0 GPUs and can be shared by up to 4 jobs.\n"
     ]
    },
    {
     "name": "stdout",
     "output_type": "stream",
     "text": [
      "Submitted batch job 1935755\n"
     ]
    },
    {
     "name": "stderr",
     "output_type": "stream",
     "text": [
      "sbatch: Single-node jobs run on a shared node by default. Add --exclusive if you want to use a node exclusively.\n",
      "sbatch: You will be charged for 0.25 node. A full node consists of 128 CPU cores, 983040 MiB of memory and 0 GPUs and can be shared by up to 4 jobs.\n"
     ]
    },
    {
     "name": "stdout",
     "output_type": "stream",
     "text": [
      "Submitted batch job 1935756\n"
     ]
    },
    {
     "name": "stderr",
     "output_type": "stream",
     "text": [
      "sbatch: Single-node jobs run on a shared node by default. Add --exclusive if you want to use a node exclusively.\n",
      "sbatch: You will be charged for 0.25 node. A full node consists of 128 CPU cores, 983040 MiB of memory and 0 GPUs and can be shared by up to 4 jobs.\n"
     ]
    },
    {
     "name": "stdout",
     "output_type": "stream",
     "text": [
      "Submitted batch job 1935757\n",
      "Submitted batch job 1935758\n"
     ]
    },
    {
     "name": "stderr",
     "output_type": "stream",
     "text": [
      "sbatch: Single-node jobs run on a shared node by default. Add --exclusive if you want to use a node exclusively.\n",
      "sbatch: You will be charged for 0.25 node. A full node consists of 128 CPU cores, 983040 MiB of memory and 0 GPUs and can be shared by up to 4 jobs.\n",
      "sbatch: Single-node jobs run on a shared node by default. Add --exclusive if you want to use a node exclusively.\n",
      "sbatch: You will be charged for 0.25 node. A full node consists of 128 CPU cores, 983040 MiB of memory and 0 GPUs and can be shared by up to 4 jobs.\n"
     ]
    },
    {
     "name": "stdout",
     "output_type": "stream",
     "text": [
      "Submitted batch job 1935759\n"
     ]
    },
    {
     "name": "stderr",
     "output_type": "stream",
     "text": [
      "sbatch: Single-node jobs run on a shared node by default. Add --exclusive if you want to use a node exclusively.\n",
      "sbatch: You will be charged for 0.25 node. A full node consists of 128 CPU cores, 983040 MiB of memory and 0 GPUs and can be shared by up to 4 jobs.\n"
     ]
    },
    {
     "name": "stdout",
     "output_type": "stream",
     "text": [
      "Submitted batch job 1935760\n"
     ]
    },
    {
     "name": "stderr",
     "output_type": "stream",
     "text": [
      "sbatch: Single-node jobs run on a shared node by default. Add --exclusive if you want to use a node exclusively.\n",
      "sbatch: You will be charged for 0.25 node. A full node consists of 128 CPU cores, 983040 MiB of memory and 0 GPUs and can be shared by up to 4 jobs.\n"
     ]
    },
    {
     "name": "stdout",
     "output_type": "stream",
     "text": [
      "Submitted batch job 1935761\n"
     ]
    }
   ],
   "source": [
    "import pandas as pd\n",
    "# list_args= [[500],[1000],[2000]]+[[]]\n",
    "# list_args= [[500]]\n",
    "overwrite = True\n",
    "load_graphs = True\n",
    "num_parallel = 20\n",
    "time = \"5:00:00\"\n",
    "for index, row in analysis_folders.iterrows():\n",
    "    folder = row[\"folder_analysis\"]\n",
    "    path_time_plate_info = row[\"path_time_plate_info\"]\n",
    "    plate = row[\"Plate\"]\n",
    "    num_cpus = 32\n",
    "    if os.path.isfile(f\"{directory_targ}{path_time_plate_info}\"):\n",
    "        whole_plate_info = pd.read_json(\n",
    "            f\"{directory_targ}{path_time_plate_info}\", convert_dates=True\n",
    "        ).transpose()\n",
    "        whole_plate_info.index.name = \"t\"\n",
    "        whole_plate_info.reset_index(inplace=True)\n",
    "        run_parallel_post(\n",
    "            \"recompute_width.py\",\n",
    "            [],\n",
    "            [],\n",
    "            [directory_targ, overwrite, load_graphs],\n",
    "            whole_plate_info,\n",
    "            num_parallel,\n",
    "            time,\n",
    "            \"recompute_width\",\n",
    "            cpus=num_cpus,\n",
    "            name_job=\"recompute\",\n",
    "            node=\"fat\",\n",
    "        )"
   ]
  },
  {
   "cell_type": "code",
   "execution_count": null,
   "id": "bd39f615-74dc-4340-aad3-ce25d9b6a880",
   "metadata": {},
   "outputs": [],
   "source": [
    "name_job=\"recompute\"\n",
    "\n",
    "list_f = [\n",
    "    get_tot_length_C,\n",
    "    get_tot_length_straight,\n",
    "    get_time_since_start,\n",
    "    get_time_since_begin_exp,\n",
    "    get_width_edge,\n",
    "    get_pos_x,\n",
    "    get_pos_y,\n",
    "]\n",
    "list_args = [{}] * len(list_f)\n",
    "# list_args= [[500],[1000],[2000]]+[[]]\n",
    "# list_args= [[500]]\n",
    "overwrite = True\n",
    "load_graphs = True\n",
    "num_parallel = 32\n",
    "time = \"3:00:00\"\n",
    "for index, row in analysis_folders.iterrows():\n",
    "    folder = row[\"folder_analysis\"]\n",
    "    path_time_plate_info = row[\"path_time_plate_info\"]\n",
    "    plate = row[\"Plate\"]\n",
    "    num_cpus = 32\n",
    "    if os.path.isfile(f\"{directory_targ}{path_time_plate_info}\"):\n",
    "        whole_plate_info = pd.read_json(\n",
    "            f\"{directory_targ}{path_time_plate_info}\", convert_dates=True\n",
    "        ).transpose()\n",
    "        whole_plate_info.index.name = \"t\"\n",
    "        whole_plate_info.reset_index(inplace=True)\n",
    "        run_parallel_post(\n",
    "            \"time_edge_post_process.py\",\n",
    "            list_f,\n",
    "            list_args,\n",
    "            [directory_targ, overwrite, load_graphs],\n",
    "            whole_plate_info,\n",
    "            num_parallel,\n",
    "            time,\n",
    "            \"edge_post_process\",\n",
    "            cpus=num_cpus,\n",
    "            name_job=name_job,\n",
    "            node=\"fat\",\n",
    "        )\n",
    "        # break"
   ]
  },
  {
   "cell_type": "code",
   "execution_count": 10,
   "id": "8f240ff2-537b-4111-85f9-f9cc33829b48",
   "metadata": {
    "collapsed": true,
    "jupyter": {
     "outputs_hidden": true
    },
    "tags": []
   },
   "outputs": [
    {
     "data": {
      "text/html": [
       "<div>\n",
       "<style scoped>\n",
       "    .dataframe tbody tr th:only-of-type {\n",
       "        vertical-align: middle;\n",
       "    }\n",
       "\n",
       "    .dataframe tbody tr th {\n",
       "        vertical-align: top;\n",
       "    }\n",
       "\n",
       "    .dataframe thead th {\n",
       "        text-align: right;\n",
       "    }\n",
       "</style>\n",
       "<table border=\"1\" class=\"dataframe\">\n",
       "  <thead>\n",
       "    <tr style=\"text-align: right;\">\n",
       "      <th></th>\n",
       "      <th>total_path</th>\n",
       "      <th>Plate</th>\n",
       "      <th>PrincePos</th>\n",
       "      <th>root</th>\n",
       "      <th>strain</th>\n",
       "      <th>medium</th>\n",
       "      <th>split</th>\n",
       "      <th>Pbait</th>\n",
       "      <th>CrossDate</th>\n",
       "      <th>Temperature</th>\n",
       "      <th>...</th>\n",
       "      <th>/Analysis/transform_corrupt.mat</th>\n",
       "      <th>/Analysis/skeleton_realigned_compressed.mat</th>\n",
       "      <th>/Analysis/nx_graph_pruned.p</th>\n",
       "      <th>/Analysis/nx_graph_pruned_width.p</th>\n",
       "      <th>/Analysis/nx_graph_pruned_labeled.p</th>\n",
       "      <th>date</th>\n",
       "      <th>folder</th>\n",
       "      <th>Temp</th>\n",
       "      <th>unique_id</th>\n",
       "      <th>datetime</th>\n",
       "    </tr>\n",
       "  </thead>\n",
       "  <tbody>\n",
       "    <tr>\n",
       "      <th>783</th>\n",
       "      <td>/projects/0/einf914/data/20220506_2350_Plate03</td>\n",
       "      <td>1048</td>\n",
       "      <td>3</td>\n",
       "      <td>'Carrot'</td>\n",
       "      <td>'C2'</td>\n",
       "      <td>'001P100N100C'</td>\n",
       "      <td>'Y'</td>\n",
       "      <td>'-'</td>\n",
       "      <td>20220506</td>\n",
       "      <td>25</td>\n",
       "      <td>...</td>\n",
       "      <td>False</td>\n",
       "      <td>True</td>\n",
       "      <td>True</td>\n",
       "      <td>True</td>\n",
       "      <td>True</td>\n",
       "      <td>06.05.2022, 23:50:</td>\n",
       "      <td>20220506_2350_Plate03</td>\n",
       "      <td>NaN</td>\n",
       "      <td>1048_20220506</td>\n",
       "      <td>2022-05-06 23:50:00</td>\n",
       "    </tr>\n",
       "    <tr>\n",
       "      <th>552</th>\n",
       "      <td>/projects/0/einf914/data/20220507_0150_Plate03</td>\n",
       "      <td>1048</td>\n",
       "      <td>3</td>\n",
       "      <td>'Carrot'</td>\n",
       "      <td>'C2'</td>\n",
       "      <td>'001P100N100C'</td>\n",
       "      <td>'Y'</td>\n",
       "      <td>'-'</td>\n",
       "      <td>20220506</td>\n",
       "      <td>25</td>\n",
       "      <td>...</td>\n",
       "      <td>False</td>\n",
       "      <td>True</td>\n",
       "      <td>True</td>\n",
       "      <td>True</td>\n",
       "      <td>True</td>\n",
       "      <td>07.05.2022, 01:50:</td>\n",
       "      <td>20220507_0150_Plate03</td>\n",
       "      <td>NaN</td>\n",
       "      <td>1048_20220506</td>\n",
       "      <td>2022-05-07 01:50:00</td>\n",
       "    </tr>\n",
       "    <tr>\n",
       "      <th>3050</th>\n",
       "      <td>/projects/0/einf914/data/20220507_0350_Plate03</td>\n",
       "      <td>1048</td>\n",
       "      <td>3</td>\n",
       "      <td>'Carrot'</td>\n",
       "      <td>'C2'</td>\n",
       "      <td>'001P100N100C'</td>\n",
       "      <td>'Y'</td>\n",
       "      <td>'-'</td>\n",
       "      <td>20220506</td>\n",
       "      <td>25</td>\n",
       "      <td>...</td>\n",
       "      <td>False</td>\n",
       "      <td>True</td>\n",
       "      <td>True</td>\n",
       "      <td>True</td>\n",
       "      <td>True</td>\n",
       "      <td>07.05.2022, 03:50:</td>\n",
       "      <td>20220507_0350_Plate03</td>\n",
       "      <td>NaN</td>\n",
       "      <td>1048_20220506</td>\n",
       "      <td>2022-05-07 03:50:00</td>\n",
       "    </tr>\n",
       "    <tr>\n",
       "      <th>3156</th>\n",
       "      <td>/projects/0/einf914/data/20220507_0550_Plate03</td>\n",
       "      <td>1048</td>\n",
       "      <td>3</td>\n",
       "      <td>'Carrot'</td>\n",
       "      <td>'C2'</td>\n",
       "      <td>'001P100N100C'</td>\n",
       "      <td>'Y'</td>\n",
       "      <td>'-'</td>\n",
       "      <td>20220506</td>\n",
       "      <td>25</td>\n",
       "      <td>...</td>\n",
       "      <td>False</td>\n",
       "      <td>True</td>\n",
       "      <td>True</td>\n",
       "      <td>True</td>\n",
       "      <td>True</td>\n",
       "      <td>07.05.2022, 05:50:</td>\n",
       "      <td>20220507_0550_Plate03</td>\n",
       "      <td>NaN</td>\n",
       "      <td>1048_20220506</td>\n",
       "      <td>2022-05-07 05:50:00</td>\n",
       "    </tr>\n",
       "    <tr>\n",
       "      <th>2150</th>\n",
       "      <td>/projects/0/einf914/data/20220507_0750_Plate03</td>\n",
       "      <td>1048</td>\n",
       "      <td>3</td>\n",
       "      <td>'Carrot'</td>\n",
       "      <td>'C2'</td>\n",
       "      <td>'001P100N100C'</td>\n",
       "      <td>'Y'</td>\n",
       "      <td>'-'</td>\n",
       "      <td>20220506</td>\n",
       "      <td>25</td>\n",
       "      <td>...</td>\n",
       "      <td>False</td>\n",
       "      <td>True</td>\n",
       "      <td>True</td>\n",
       "      <td>True</td>\n",
       "      <td>True</td>\n",
       "      <td>07.05.2022, 07:50:</td>\n",
       "      <td>20220507_0750_Plate03</td>\n",
       "      <td>NaN</td>\n",
       "      <td>1048_20220506</td>\n",
       "      <td>2022-05-07 07:50:00</td>\n",
       "    </tr>\n",
       "    <tr>\n",
       "      <th>...</th>\n",
       "      <td>...</td>\n",
       "      <td>...</td>\n",
       "      <td>...</td>\n",
       "      <td>...</td>\n",
       "      <td>...</td>\n",
       "      <td>...</td>\n",
       "      <td>...</td>\n",
       "      <td>...</td>\n",
       "      <td>...</td>\n",
       "      <td>...</td>\n",
       "      <td>...</td>\n",
       "      <td>...</td>\n",
       "      <td>...</td>\n",
       "      <td>...</td>\n",
       "      <td>...</td>\n",
       "      <td>...</td>\n",
       "      <td>...</td>\n",
       "      <td>...</td>\n",
       "      <td>...</td>\n",
       "      <td>...</td>\n",
       "      <td>...</td>\n",
       "    </tr>\n",
       "    <tr>\n",
       "      <th>2323</th>\n",
       "      <td>/projects/0/einf914/data/20220619_1118_Plate30</td>\n",
       "      <td>1048</td>\n",
       "      <td>30</td>\n",
       "      <td>'Carrot'</td>\n",
       "      <td>'C2'</td>\n",
       "      <td>'001P100N100C'</td>\n",
       "      <td>'Y'</td>\n",
       "      <td>'-'</td>\n",
       "      <td>20220506</td>\n",
       "      <td>25</td>\n",
       "      <td>...</td>\n",
       "      <td>False</td>\n",
       "      <td>True</td>\n",
       "      <td>True</td>\n",
       "      <td>True</td>\n",
       "      <td>True</td>\n",
       "      <td>19.06.2022, 11:18:</td>\n",
       "      <td>20220619_1118_Plate30</td>\n",
       "      <td>NaN</td>\n",
       "      <td>1048_20220506</td>\n",
       "      <td>2022-06-19 11:18:00</td>\n",
       "    </tr>\n",
       "    <tr>\n",
       "      <th>827</th>\n",
       "      <td>/projects/0/einf914/data/20220619_1718_Plate30</td>\n",
       "      <td>1048</td>\n",
       "      <td>30</td>\n",
       "      <td>'Carrot'</td>\n",
       "      <td>'C2'</td>\n",
       "      <td>'001P100N100C'</td>\n",
       "      <td>'Y'</td>\n",
       "      <td>'-'</td>\n",
       "      <td>20220506</td>\n",
       "      <td>25</td>\n",
       "      <td>...</td>\n",
       "      <td>False</td>\n",
       "      <td>True</td>\n",
       "      <td>True</td>\n",
       "      <td>True</td>\n",
       "      <td>True</td>\n",
       "      <td>19.06.2022, 17:18:</td>\n",
       "      <td>20220619_1718_Plate30</td>\n",
       "      <td>NaN</td>\n",
       "      <td>1048_20220506</td>\n",
       "      <td>2022-06-19 17:18:00</td>\n",
       "    </tr>\n",
       "    <tr>\n",
       "      <th>939</th>\n",
       "      <td>/projects/0/einf914/data/20220619_2318_Plate30</td>\n",
       "      <td>1048</td>\n",
       "      <td>30</td>\n",
       "      <td>'Carrot'</td>\n",
       "      <td>'C2'</td>\n",
       "      <td>'001P100N100C'</td>\n",
       "      <td>'Y'</td>\n",
       "      <td>'-'</td>\n",
       "      <td>20220506</td>\n",
       "      <td>25</td>\n",
       "      <td>...</td>\n",
       "      <td>False</td>\n",
       "      <td>True</td>\n",
       "      <td>True</td>\n",
       "      <td>True</td>\n",
       "      <td>True</td>\n",
       "      <td>19.06.2022, 23:18:</td>\n",
       "      <td>20220619_2318_Plate30</td>\n",
       "      <td>NaN</td>\n",
       "      <td>1048_20220506</td>\n",
       "      <td>2022-06-19 23:18:00</td>\n",
       "    </tr>\n",
       "    <tr>\n",
       "      <th>1275</th>\n",
       "      <td>/projects/0/einf914/data/20220620_0518_Plate30</td>\n",
       "      <td>1048</td>\n",
       "      <td>30</td>\n",
       "      <td>'Carrot'</td>\n",
       "      <td>'C2'</td>\n",
       "      <td>'001P100N100C'</td>\n",
       "      <td>'Y'</td>\n",
       "      <td>'-'</td>\n",
       "      <td>20220506</td>\n",
       "      <td>25</td>\n",
       "      <td>...</td>\n",
       "      <td>False</td>\n",
       "      <td>True</td>\n",
       "      <td>True</td>\n",
       "      <td>True</td>\n",
       "      <td>True</td>\n",
       "      <td>20.06.2022, 05:18:</td>\n",
       "      <td>20220620_0518_Plate30</td>\n",
       "      <td>NaN</td>\n",
       "      <td>1048_20220506</td>\n",
       "      <td>2022-06-20 05:18:00</td>\n",
       "    </tr>\n",
       "    <tr>\n",
       "      <th>2116</th>\n",
       "      <td>/projects/0/einf914/data/20220621_0928_Plate30</td>\n",
       "      <td>1048</td>\n",
       "      <td>30</td>\n",
       "      <td>'Carrot'</td>\n",
       "      <td>'C2'</td>\n",
       "      <td>'001P100N100C'</td>\n",
       "      <td>'Y'</td>\n",
       "      <td>'-'</td>\n",
       "      <td>20220506</td>\n",
       "      <td>25</td>\n",
       "      <td>...</td>\n",
       "      <td>False</td>\n",
       "      <td>True</td>\n",
       "      <td>True</td>\n",
       "      <td>True</td>\n",
       "      <td>True</td>\n",
       "      <td>21.06.2022, 09:28:</td>\n",
       "      <td>20220621_0928_Plate30</td>\n",
       "      <td>NaN</td>\n",
       "      <td>1048_20220506</td>\n",
       "      <td>2022-06-21 09:28:00</td>\n",
       "    </tr>\n",
       "  </tbody>\n",
       "</table>\n",
       "<p>275 rows × 25 columns</p>\n",
       "</div>"
      ],
      "text/plain": [
       "                                          total_path Plate PrincePos  \\\n",
       "783   /projects/0/einf914/data/20220506_2350_Plate03  1048         3   \n",
       "552   /projects/0/einf914/data/20220507_0150_Plate03  1048         3   \n",
       "3050  /projects/0/einf914/data/20220507_0350_Plate03  1048         3   \n",
       "3156  /projects/0/einf914/data/20220507_0550_Plate03  1048         3   \n",
       "2150  /projects/0/einf914/data/20220507_0750_Plate03  1048         3   \n",
       "...                                              ...   ...       ...   \n",
       "2323  /projects/0/einf914/data/20220619_1118_Plate30  1048        30   \n",
       "827   /projects/0/einf914/data/20220619_1718_Plate30  1048        30   \n",
       "939   /projects/0/einf914/data/20220619_2318_Plate30  1048        30   \n",
       "1275  /projects/0/einf914/data/20220620_0518_Plate30  1048        30   \n",
       "2116  /projects/0/einf914/data/20220621_0928_Plate30  1048        30   \n",
       "\n",
       "          root strain          medium split Pbait CrossDate Temperature  ...  \\\n",
       "783   'Carrot'   'C2'  '001P100N100C'   'Y'   '-'  20220506          25  ...   \n",
       "552   'Carrot'   'C2'  '001P100N100C'   'Y'   '-'  20220506          25  ...   \n",
       "3050  'Carrot'   'C2'  '001P100N100C'   'Y'   '-'  20220506          25  ...   \n",
       "3156  'Carrot'   'C2'  '001P100N100C'   'Y'   '-'  20220506          25  ...   \n",
       "2150  'Carrot'   'C2'  '001P100N100C'   'Y'   '-'  20220506          25  ...   \n",
       "...        ...    ...             ...   ...   ...       ...         ...  ...   \n",
       "2323  'Carrot'   'C2'  '001P100N100C'   'Y'   '-'  20220506          25  ...   \n",
       "827   'Carrot'   'C2'  '001P100N100C'   'Y'   '-'  20220506          25  ...   \n",
       "939   'Carrot'   'C2'  '001P100N100C'   'Y'   '-'  20220506          25  ...   \n",
       "1275  'Carrot'   'C2'  '001P100N100C'   'Y'   '-'  20220506          25  ...   \n",
       "2116  'Carrot'   'C2'  '001P100N100C'   'Y'   '-'  20220506          25  ...   \n",
       "\n",
       "     /Analysis/transform_corrupt.mat  \\\n",
       "783                            False   \n",
       "552                            False   \n",
       "3050                           False   \n",
       "3156                           False   \n",
       "2150                           False   \n",
       "...                              ...   \n",
       "2323                           False   \n",
       "827                            False   \n",
       "939                            False   \n",
       "1275                           False   \n",
       "2116                           False   \n",
       "\n",
       "     /Analysis/skeleton_realigned_compressed.mat /Analysis/nx_graph_pruned.p  \\\n",
       "783                                         True                        True   \n",
       "552                                         True                        True   \n",
       "3050                                        True                        True   \n",
       "3156                                        True                        True   \n",
       "2150                                        True                        True   \n",
       "...                                          ...                         ...   \n",
       "2323                                        True                        True   \n",
       "827                                         True                        True   \n",
       "939                                         True                        True   \n",
       "1275                                        True                        True   \n",
       "2116                                        True                        True   \n",
       "\n",
       "     /Analysis/nx_graph_pruned_width.p /Analysis/nx_graph_pruned_labeled.p  \\\n",
       "783                               True                                True   \n",
       "552                               True                                True   \n",
       "3050                              True                                True   \n",
       "3156                              True                                True   \n",
       "2150                              True                                True   \n",
       "...                                ...                                 ...   \n",
       "2323                              True                                True   \n",
       "827                               True                                True   \n",
       "939                               True                                True   \n",
       "1275                              True                                True   \n",
       "2116                              True                                True   \n",
       "\n",
       "                    date                 folder Temp      unique_id  \\\n",
       "783   06.05.2022, 23:50:  20220506_2350_Plate03  NaN  1048_20220506   \n",
       "552   07.05.2022, 01:50:  20220507_0150_Plate03  NaN  1048_20220506   \n",
       "3050  07.05.2022, 03:50:  20220507_0350_Plate03  NaN  1048_20220506   \n",
       "3156  07.05.2022, 05:50:  20220507_0550_Plate03  NaN  1048_20220506   \n",
       "2150  07.05.2022, 07:50:  20220507_0750_Plate03  NaN  1048_20220506   \n",
       "...                  ...                    ...  ...            ...   \n",
       "2323  19.06.2022, 11:18:  20220619_1118_Plate30  NaN  1048_20220506   \n",
       "827   19.06.2022, 17:18:  20220619_1718_Plate30  NaN  1048_20220506   \n",
       "939   19.06.2022, 23:18:  20220619_2318_Plate30  NaN  1048_20220506   \n",
       "1275  20.06.2022, 05:18:  20220620_0518_Plate30  NaN  1048_20220506   \n",
       "2116  21.06.2022, 09:28:  20220621_0928_Plate30  NaN  1048_20220506   \n",
       "\n",
       "                datetime  \n",
       "783  2022-05-06 23:50:00  \n",
       "552  2022-05-07 01:50:00  \n",
       "3050 2022-05-07 03:50:00  \n",
       "3156 2022-05-07 05:50:00  \n",
       "2150 2022-05-07 07:50:00  \n",
       "...                  ...  \n",
       "2323 2022-06-19 11:18:00  \n",
       "827  2022-06-19 17:18:00  \n",
       "939  2022-06-19 23:18:00  \n",
       "1275 2022-06-20 05:18:00  \n",
       "2116 2022-06-21 09:28:00  \n",
       "\n",
       "[275 rows x 25 columns]"
      ]
     },
     "execution_count": 10,
     "metadata": {},
     "output_type": "execute_result"
    }
   ],
   "source": [
    "folders = folders.sort_values(by=\"datetime\")\n",
    "folders"
   ]
  },
  {
   "cell_type": "code",
   "execution_count": 11,
   "id": "2a044c82-a47c-4fc6-bdb6-f6326ce33fa5",
   "metadata": {},
   "outputs": [
    {
     "name": "stderr",
     "output_type": "stream",
     "text": [
      "/gpfs/home2/cbisot/pycode/AMFtrack/amftrack/pipeline/functions/image_processing/experiment_class_surf.py:104: SettingWithCopyWarning: \n",
      "A value is trying to be set on a copy of a slice from a DataFrame.\n",
      "Try using .loc[row_indexer,col_indexer] = value instead\n",
      "\n",
      "See the caveats in the documentation: https://pandas.pydata.org/pandas-docs/stable/user_guide/indexing.html#returning-a-view-versus-a-copy\n",
      "  self.folders[\"date\"], format=\"%d.%m.%Y, %H:%M:\"\n"
     ]
    },
    {
     "name": "stdout",
     "output_type": "stream",
     "text": [
      "2022-05-06 23:50:00\n",
      "2022-05-09 15:39:00\n",
      "2022-05-12 05:07:00\n",
      "2022-05-14 17:52:00\n",
      "2022-05-17 06:14:00\n",
      "2022-05-20 10:38:00\n",
      "2022-05-24 23:55:00\n"
     ]
    }
   ],
   "source": [
    "exp = Experiment(directory_targ)\n",
    "exp.load(folders[:200:30])\n",
    "exp.dates.sort()"
   ]
  },
  {
   "cell_type": "code",
   "execution_count": 12,
   "id": "df04d654-5d9a-4dee-b100-7661ba58551a",
   "metadata": {},
   "outputs": [],
   "source": [
    "for t in range(exp.ts):\n",
    "    exp.load_tile_information(t)"
   ]
  },
  {
   "cell_type": "code",
   "execution_count": 13,
   "id": "b2e9c347-6b39-4ef4-8d09-e9a0d211a125",
   "metadata": {},
   "outputs": [],
   "source": [
    "for t in range(exp.ts):\n",
    "    exp.load_tile_information(t)\n",
    "\n",
    "load_graphs(exp, directory_targ, post_process=True)"
   ]
  },
  {
   "cell_type": "code",
   "execution_count": null,
   "id": "297a8254-9b0c-40ef-bdc5-e51c08f111ac",
   "metadata": {},
   "outputs": [],
   "source": [
    "t = 0\n",
    "plot_edge_width(exp, t, lambda edge: edge.width(t), dilation=20)"
   ]
  },
  {
   "cell_type": "code",
   "execution_count": 15,
   "id": "cc12e90d-8cb4-45b1-a232-14fb610ca7a7",
   "metadata": {
    "tags": []
   },
   "outputs": [
    {
     "name": "stdout",
     "output_type": "stream",
     "text": [
      "True\n"
     ]
    }
   ],
   "source": [
    "import networkx as nx\n",
    "resolution = 50\n",
    "skip = False\n",
    "for t in range(exp.ts)[:1]:\n",
    "    (G, pos) = exp.nx_graph[t], exp.positions[t]\n",
    "    edge_test = get_width_info_new(exp,t, resolution=resolution, skip=skip)\n",
    "    nx.set_edge_attributes(G, edge_test, \"width\")\n",
    "    exp.nx_graph[t] = G"
   ]
  },
  {
   "cell_type": "code",
   "execution_count": 16,
   "id": "f9ce54bf-bb1f-49c7-a9ca-daa5c6aeeafe",
   "metadata": {},
   "outputs": [
    {
     "name": "stdout",
     "output_type": "stream",
     "text": [
      "2022-05-06 23:50:00 True\n",
      "2022-05-09 15:39:00 True\n",
      "2022-05-12 05:07:00 True\n",
      "2022-05-14 17:52:00 True\n",
      "2022-05-17 06:14:00 True\n",
      "2022-05-20 10:38:00 True\n",
      "2022-05-24 23:55:00 True\n"
     ]
    }
   ],
   "source": [
    "save_graphs(exp)"
   ]
  },
  {
   "cell_type": "code",
   "execution_count": null,
   "id": "725ac4b5-67ec-4420-bb7c-f599eb83f4d1",
   "metadata": {},
   "outputs": [],
   "source": [
    "t = 2\n",
    "intervals=[[1, 3], [3, 4], [4, 5], [5, 6],[6,7],[7,9]]\n",
    "\n",
    "plot_edge_width(exp, t, lambda edge: edge.width(t), dilation=20,intervals= intervals)"
   ]
  }
 ],
 "metadata": {
  "kernelspec": {
   "display_name": "Python 3 (ipykernel)",
   "language": "python",
   "name": "python3"
  },
  "language_info": {
   "codemirror_mode": {
    "name": "ipython",
    "version": 3
   },
   "file_extension": ".py",
   "mimetype": "text/x-python",
   "name": "python",
   "nbconvert_exporter": "python",
   "pygments_lexer": "ipython3",
   "version": "3.7.13"
  }
 },
 "nbformat": 4,
 "nbformat_minor": 5
}

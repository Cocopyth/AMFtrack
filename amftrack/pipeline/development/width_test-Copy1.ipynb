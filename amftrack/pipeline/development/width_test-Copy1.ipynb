{
 "cells": [
  {
   "cell_type": "code",
   "execution_count": 6,
   "id": "19df64a2-2cbd-478d-9f3f-cdf0844cecc1",
   "metadata": {
    "tags": []
   },
   "outputs": [
    {
     "name": "stdout",
     "output_type": "stream",
     "text": [
      "The autoreload extension is already loaded. To reload it, use:\n",
      "  %reload_ext autoreload\n"
     ]
    }
   ],
   "source": [
    "%load_ext autoreload\n",
    "%matplotlib widget\n",
    "%autoreload 2\n",
    "from amftrack.pipeline.launching.run_super import (\n",
    "    run_launcher,\n",
    "    directory_scratch,\n",
    "    directory_project,\n",
    "    directory_project,\n",
    "    run_parallel_stitch,\n",
    "    run_parallel_transfer,\n",
    "    run_parallel_post,\n",
    ")\n",
    "import os\n",
    "from amftrack.util.sys import (\n",
    "    get_dates_datetime,\n",
    "    get_dirname,\n",
    "    temp_path,\n",
    "    get_data_info,\n",
    "    update_plate_info,\n",
    "    update_analysis_info,\n",
    "    get_analysis_info,\n",
    "    get_current_folders,\n",
    "    get_folders_by_plate_id,\n",
    ")\n",
    "from time import time_ns\n",
    "from amftrack.util.dbx import upload_folders, load_dbx, download, get_dropbox_folders\n",
    "from datetime import datetime\n",
    "from amftrack.pipeline.functions.image_processing.experiment_util import (\n",
    "    plot_full_image_with_features,\n",
    ")\n",
    "from amftrack.pipeline.functions.image_processing.experiment_class_surf import (\n",
    "    load_graphs,\n",
    ")\n",
    "from amftrack.pipeline.functions.post_processing.extract_study_zone import (\n",
    "    load_study_zone,\n",
    ")\n",
    "from amftrack.pipeline.functions.image_processing.experiment_util import (\n",
    "    get_random_edge,\n",
    "    distance_point_edge,\n",
    "    plot_edge,\n",
    "    plot_edge_cropped,\n",
    "    find_nearest_edge,\n",
    "    get_edge_from_node_labels,\n",
    "    plot_full_image_with_features,\n",
    "    get_all_edges,\n",
    "    get_all_nodes,\n",
    "    find_neighboring_edges,\n",
    "    reconstruct_image,\n",
    "    reconstruct_skeletton_from_edges,\n",
    "    reconstruct_skeletton_unicolor,\n",
    "    plot_edge_width,\n",
    "    reconstruct_image_from_general,\n",
    "    plot_full,\n",
    ")\n",
    "from amftrack.pipeline.functions.image_processing.extract_width_fun import (\n",
    "    get_width_info,\n",
    "    get_width_info_new,\n",
    ")"
   ]
  },
  {
   "cell_type": "code",
   "execution_count": 27,
   "id": "565e34d7-a190-4b42-8a9e-ed0bda56272c",
   "metadata": {},
   "outputs": [],
   "source": [
    "plates = ['1048_20220506','32_20220428', '33_20220502', '52_20220707','84_20220621', '91_20220708', '938_20220325']"
   ]
  },
  {
   "cell_type": "code",
   "execution_count": 12,
   "id": "4c71e351-bc82-4bbc-829b-02dc13b1c679",
   "metadata": {},
   "outputs": [],
   "source": [
    "directory_targ = directory_project"
   ]
  },
  {
   "cell_type": "code",
   "execution_count": 25,
   "id": "18587e5f-14a6-4b0c-ab31-96802bc5dbe6",
   "metadata": {
    "tags": []
   },
   "outputs": [],
   "source": [
    "update_analysis_info(directory_targ)\n",
    "analysis_info = get_analysis_info(directory_targ)\n",
    "analysis_folders = analysis_info.loc[analysis_info[\"unique_id\"].astype(str).isin(plates)]"
   ]
  },
  {
   "cell_type": "code",
   "execution_count": 26,
   "id": "614c65f0-5de7-4410-bdf9-cadab04e53a5",
   "metadata": {},
   "outputs": [
    {
     "data": {
      "text/html": [
       "<div>\n",
       "<style scoped>\n",
       "    .dataframe tbody tr th:only-of-type {\n",
       "        vertical-align: middle;\n",
       "    }\n",
       "\n",
       "    .dataframe tbody tr th {\n",
       "        vertical-align: top;\n",
       "    }\n",
       "\n",
       "    .dataframe thead th {\n",
       "        text-align: right;\n",
       "    }\n",
       "</style>\n",
       "<table border=\"1\" class=\"dataframe\">\n",
       "  <thead>\n",
       "    <tr style=\"text-align: right;\">\n",
       "      <th></th>\n",
       "      <th>folder_analysis</th>\n",
       "      <th>version</th>\n",
       "      <th>total_path</th>\n",
       "      <th>Plate</th>\n",
       "      <th>strain</th>\n",
       "      <th>medium</th>\n",
       "      <th>CrossDate</th>\n",
       "      <th>date</th>\n",
       "      <th>unique_id</th>\n",
       "      <th>datetime</th>\n",
       "      <th>...</th>\n",
       "      <th>path_time_hypha_info</th>\n",
       "      <th>path_time_plate_info</th>\n",
       "      <th>path_global_plate_info</th>\n",
       "      <th>date_run_analysis</th>\n",
       "      <th>PrincePos</th>\n",
       "      <th>root</th>\n",
       "      <th>split</th>\n",
       "      <th>Pbait</th>\n",
       "      <th>Temperature</th>\n",
       "      <th>Temp</th>\n",
       "    </tr>\n",
       "  </thead>\n",
       "  <tbody>\n",
       "    <tr>\n",
       "      <th>14</th>\n",
       "      <td>Analysis_33_20220502_188_Version1</td>\n",
       "      <td>Version1</td>\n",
       "      <td>/projects/0/einf914/data/20220502_2111_Plate07</td>\n",
       "      <td>33</td>\n",
       "      <td>'Agg'</td>\n",
       "      <td>'001P100N100C'</td>\n",
       "      <td>20220502</td>\n",
       "      <td>02.05.2022, 21:11:</td>\n",
       "      <td>33_20220502</td>\n",
       "      <td>2022-05-02 21:11:00</td>\n",
       "      <td>...</td>\n",
       "      <td>Analysis_33_20220502_188_Version1/time_hypha_info</td>\n",
       "      <td>Analysis_33_20220502_188_Version1/time_plate_i...</td>\n",
       "      <td>Analysis_33_20220502_188_Version1/global_plate...</td>\n",
       "      <td>01.01.1970, 01:00:</td>\n",
       "      <td>7</td>\n",
       "      <td>'Carrot'</td>\n",
       "      <td>'Y'</td>\n",
       "      <td>'-'</td>\n",
       "      <td>25</td>\n",
       "      <td>NaN</td>\n",
       "    </tr>\n",
       "    <tr>\n",
       "      <th>15</th>\n",
       "      <td>Analysis_91_20220708_200_Version1</td>\n",
       "      <td>Version1</td>\n",
       "      <td>/scratch-shared/amftrack/stitch_temp2/20220708...</td>\n",
       "      <td>91</td>\n",
       "      <td>'A5sp3'</td>\n",
       "      <td>'001P100N100C'</td>\n",
       "      <td>20220708</td>\n",
       "      <td>08.07.2022, 13:53:</td>\n",
       "      <td>91_20220708</td>\n",
       "      <td>2022-07-08 13:53:00</td>\n",
       "      <td>...</td>\n",
       "      <td>Analysis_91_20220708_200_Version1/time_hypha_info</td>\n",
       "      <td>Analysis_91_20220708_200_Version1/time_plate_i...</td>\n",
       "      <td>Analysis_91_20220708_200_Version1/global_plate...</td>\n",
       "      <td>01.01.1970, 01:00:</td>\n",
       "      <td>9</td>\n",
       "      <td>'Carrot'</td>\n",
       "      <td>'Y'</td>\n",
       "      <td>'-'</td>\n",
       "      <td>25</td>\n",
       "      <td>NaN</td>\n",
       "    </tr>\n",
       "    <tr>\n",
       "      <th>16</th>\n",
       "      <td>Analysis_938_20220325_78_Version1</td>\n",
       "      <td>Version1</td>\n",
       "      <td>/projects/0/einf914/data/20220325_2142_Plate15</td>\n",
       "      <td>938</td>\n",
       "      <td>'A5'</td>\n",
       "      <td>'001P100N200C'</td>\n",
       "      <td>20220325</td>\n",
       "      <td>25.03.2022, 21:42:</td>\n",
       "      <td>938_20220325</td>\n",
       "      <td>2022-03-25 21:42:00</td>\n",
       "      <td>...</td>\n",
       "      <td>Analysis_938_20220325_78_Version1/time_hypha_info</td>\n",
       "      <td>Analysis_938_20220325_78_Version1/time_plate_i...</td>\n",
       "      <td>Analysis_938_20220325_78_Version1/global_plate...</td>\n",
       "      <td>01.01.1970, 01:00:</td>\n",
       "      <td>15</td>\n",
       "      <td>'Carrot'</td>\n",
       "      <td>'Y'</td>\n",
       "      <td>'-'</td>\n",
       "      <td>25</td>\n",
       "      <td>NaN</td>\n",
       "    </tr>\n",
       "    <tr>\n",
       "      <th>28</th>\n",
       "      <td>Analysis_32_20220428_200_Version1</td>\n",
       "      <td>Version1</td>\n",
       "      <td>/projects/0/einf914/data/20220428_1924_Plate20</td>\n",
       "      <td>32</td>\n",
       "      <td>'Agg'</td>\n",
       "      <td>'001P100N100C'</td>\n",
       "      <td>20220428</td>\n",
       "      <td>28.04.2022, 19:24:</td>\n",
       "      <td>32_20220428</td>\n",
       "      <td>2022-04-28 19:24:00</td>\n",
       "      <td>...</td>\n",
       "      <td>Analysis_32_20220428_200_Version1/time_hypha_info</td>\n",
       "      <td>Analysis_32_20220428_200_Version1/time_plate_i...</td>\n",
       "      <td>Analysis_32_20220428_200_Version1/global_plate...</td>\n",
       "      <td>01.01.1970, 01:00:</td>\n",
       "      <td>20</td>\n",
       "      <td>'Carrot'</td>\n",
       "      <td>'Y'</td>\n",
       "      <td>'-'</td>\n",
       "      <td>25</td>\n",
       "      <td>NaN</td>\n",
       "    </tr>\n",
       "    <tr>\n",
       "      <th>45</th>\n",
       "      <td>Analysis_1048_20220506_200_Version1</td>\n",
       "      <td>Version1</td>\n",
       "      <td>/projects/0/einf914/data/20220506_2350_Plate03</td>\n",
       "      <td>1048</td>\n",
       "      <td>'C2'</td>\n",
       "      <td>'001P100N100C'</td>\n",
       "      <td>20220506</td>\n",
       "      <td>06.05.2022, 23:50:</td>\n",
       "      <td>1048_20220506</td>\n",
       "      <td>2022-05-06 23:50:00</td>\n",
       "      <td>...</td>\n",
       "      <td>Analysis_1048_20220506_200_Version1/time_hypha...</td>\n",
       "      <td>Analysis_1048_20220506_200_Version1/time_plate...</td>\n",
       "      <td>Analysis_1048_20220506_200_Version1/global_pla...</td>\n",
       "      <td>01.01.1970, 01:00:</td>\n",
       "      <td>3</td>\n",
       "      <td>'Carrot'</td>\n",
       "      <td>'Y'</td>\n",
       "      <td>'-'</td>\n",
       "      <td>25</td>\n",
       "      <td>NaN</td>\n",
       "    </tr>\n",
       "    <tr>\n",
       "      <th>50</th>\n",
       "      <td>Analysis_52_20220707_200_Version1</td>\n",
       "      <td>Version1</td>\n",
       "      <td>/scratch-shared/amftrack/stitch_temp2/20220707...</td>\n",
       "      <td>52</td>\n",
       "      <td>'A5'</td>\n",
       "      <td>'001P100N100C'</td>\n",
       "      <td>20220707</td>\n",
       "      <td>07.07.2022, 14:58:</td>\n",
       "      <td>52_20220707</td>\n",
       "      <td>2022-07-07 14:58:00</td>\n",
       "      <td>...</td>\n",
       "      <td>Analysis_52_20220707_200_Version1/time_hypha_info</td>\n",
       "      <td>Analysis_52_20220707_200_Version1/time_plate_i...</td>\n",
       "      <td>Analysis_52_20220707_200_Version1/global_plate...</td>\n",
       "      <td>01.01.1970, 01:00:</td>\n",
       "      <td>7</td>\n",
       "      <td>'Carrot'</td>\n",
       "      <td>'Y'</td>\n",
       "      <td>'-'</td>\n",
       "      <td>25</td>\n",
       "      <td>nan</td>\n",
       "    </tr>\n",
       "    <tr>\n",
       "      <th>80</th>\n",
       "      <td>Analysis_84_20220621_200_Version1</td>\n",
       "      <td>Version1</td>\n",
       "      <td>/projects/0/einf914/data/20220621_1521_Plate01</td>\n",
       "      <td>84</td>\n",
       "      <td>'A5sp3'</td>\n",
       "      <td>'001P100N100C'</td>\n",
       "      <td>20220621</td>\n",
       "      <td>21.06.2022, 15:21:</td>\n",
       "      <td>84_20220621</td>\n",
       "      <td>2022-06-21 15:21:00</td>\n",
       "      <td>...</td>\n",
       "      <td>Analysis_84_20220621_200_Version1/time_hypha_info</td>\n",
       "      <td>Analysis_84_20220621_200_Version1/time_plate_i...</td>\n",
       "      <td>Analysis_84_20220621_200_Version1/global_plate...</td>\n",
       "      <td>01.01.1970, 01:00:</td>\n",
       "      <td>1</td>\n",
       "      <td>'Carrot'</td>\n",
       "      <td>'Y'</td>\n",
       "      <td>'-'</td>\n",
       "      <td>25</td>\n",
       "      <td>NaN</td>\n",
       "    </tr>\n",
       "  </tbody>\n",
       "</table>\n",
       "<p>7 rows × 25 columns</p>\n",
       "</div>"
      ],
      "text/plain": [
       "                        folder_analysis   version  \\\n",
       "14    Analysis_33_20220502_188_Version1  Version1   \n",
       "15    Analysis_91_20220708_200_Version1  Version1   \n",
       "16    Analysis_938_20220325_78_Version1  Version1   \n",
       "28    Analysis_32_20220428_200_Version1  Version1   \n",
       "45  Analysis_1048_20220506_200_Version1  Version1   \n",
       "50    Analysis_52_20220707_200_Version1  Version1   \n",
       "80    Analysis_84_20220621_200_Version1  Version1   \n",
       "\n",
       "                                           total_path Plate   strain  \\\n",
       "14     /projects/0/einf914/data/20220502_2111_Plate07    33    'Agg'   \n",
       "15  /scratch-shared/amftrack/stitch_temp2/20220708...    91  'A5sp3'   \n",
       "16     /projects/0/einf914/data/20220325_2142_Plate15   938     'A5'   \n",
       "28     /projects/0/einf914/data/20220428_1924_Plate20    32    'Agg'   \n",
       "45     /projects/0/einf914/data/20220506_2350_Plate03  1048     'C2'   \n",
       "50  /scratch-shared/amftrack/stitch_temp2/20220707...    52     'A5'   \n",
       "80     /projects/0/einf914/data/20220621_1521_Plate01    84  'A5sp3'   \n",
       "\n",
       "            medium CrossDate                date      unique_id  \\\n",
       "14  '001P100N100C'  20220502  02.05.2022, 21:11:    33_20220502   \n",
       "15  '001P100N100C'  20220708  08.07.2022, 13:53:    91_20220708   \n",
       "16  '001P100N200C'  20220325  25.03.2022, 21:42:   938_20220325   \n",
       "28  '001P100N100C'  20220428  28.04.2022, 19:24:    32_20220428   \n",
       "45  '001P100N100C'  20220506  06.05.2022, 23:50:  1048_20220506   \n",
       "50  '001P100N100C'  20220707  07.07.2022, 14:58:    52_20220707   \n",
       "80  '001P100N100C'  20220621  21.06.2022, 15:21:    84_20220621   \n",
       "\n",
       "               datetime  ...  \\\n",
       "14  2022-05-02 21:11:00  ...   \n",
       "15  2022-07-08 13:53:00  ...   \n",
       "16  2022-03-25 21:42:00  ...   \n",
       "28  2022-04-28 19:24:00  ...   \n",
       "45  2022-05-06 23:50:00  ...   \n",
       "50  2022-07-07 14:58:00  ...   \n",
       "80  2022-06-21 15:21:00  ...   \n",
       "\n",
       "                                 path_time_hypha_info  \\\n",
       "14  Analysis_33_20220502_188_Version1/time_hypha_info   \n",
       "15  Analysis_91_20220708_200_Version1/time_hypha_info   \n",
       "16  Analysis_938_20220325_78_Version1/time_hypha_info   \n",
       "28  Analysis_32_20220428_200_Version1/time_hypha_info   \n",
       "45  Analysis_1048_20220506_200_Version1/time_hypha...   \n",
       "50  Analysis_52_20220707_200_Version1/time_hypha_info   \n",
       "80  Analysis_84_20220621_200_Version1/time_hypha_info   \n",
       "\n",
       "                                 path_time_plate_info  \\\n",
       "14  Analysis_33_20220502_188_Version1/time_plate_i...   \n",
       "15  Analysis_91_20220708_200_Version1/time_plate_i...   \n",
       "16  Analysis_938_20220325_78_Version1/time_plate_i...   \n",
       "28  Analysis_32_20220428_200_Version1/time_plate_i...   \n",
       "45  Analysis_1048_20220506_200_Version1/time_plate...   \n",
       "50  Analysis_52_20220707_200_Version1/time_plate_i...   \n",
       "80  Analysis_84_20220621_200_Version1/time_plate_i...   \n",
       "\n",
       "                               path_global_plate_info   date_run_analysis  \\\n",
       "14  Analysis_33_20220502_188_Version1/global_plate...  01.01.1970, 01:00:   \n",
       "15  Analysis_91_20220708_200_Version1/global_plate...  01.01.1970, 01:00:   \n",
       "16  Analysis_938_20220325_78_Version1/global_plate...  01.01.1970, 01:00:   \n",
       "28  Analysis_32_20220428_200_Version1/global_plate...  01.01.1970, 01:00:   \n",
       "45  Analysis_1048_20220506_200_Version1/global_pla...  01.01.1970, 01:00:   \n",
       "50  Analysis_52_20220707_200_Version1/global_plate...  01.01.1970, 01:00:   \n",
       "80  Analysis_84_20220621_200_Version1/global_plate...  01.01.1970, 01:00:   \n",
       "\n",
       "   PrincePos      root split Pbait Temperature Temp  \n",
       "14         7  'Carrot'   'Y'   '-'          25  NaN  \n",
       "15         9  'Carrot'   'Y'   '-'          25  NaN  \n",
       "16        15  'Carrot'   'Y'   '-'          25  NaN  \n",
       "28        20  'Carrot'   'Y'   '-'          25  NaN  \n",
       "45         3  'Carrot'   'Y'   '-'          25  NaN  \n",
       "50         7  'Carrot'   'Y'   '-'          25  nan  \n",
       "80         1  'Carrot'   'Y'   '-'          25  NaN  \n",
       "\n",
       "[7 rows x 25 columns]"
      ]
     },
     "execution_count": 26,
     "metadata": {},
     "output_type": "execute_result"
    }
   ],
   "source": [
    "analysis_folders"
   ]
  },
  {
   "cell_type": "code",
   "execution_count": 20,
   "id": "ca089798-f068-4e45-9d6c-e09c7d9179e7",
   "metadata": {},
   "outputs": [
    {
     "data": {
      "application/vnd.jupyter.widget-view+json": {
       "model_id": "18e4624c2f9d4ab4a0fef7c44c27959a",
       "version_major": 2,
       "version_minor": 0
      },
      "text/plain": [
       "analysed:   0%|          | 0/2250 [00:00<?, ?it/s]"
      ]
     },
     "metadata": {},
     "output_type": "display_data"
    }
   ],
   "source": [
    "update_plate_info(directory_targ, local=True)\n",
    "all_folders = get_current_folders(directory_targ, local=True)"
   ]
  },
  {
   "cell_type": "code",
   "execution_count": 21,
   "id": "72aeae25-d8ed-4fbe-b93b-121d4fe8a841",
   "metadata": {},
   "outputs": [],
   "source": [
    "# plates = [\"1048_20220506\"]\n",
    "folders = all_folders.loc[all_folders[\"unique_id\"].isin(plates)]"
   ]
  },
  {
   "cell_type": "code",
   "execution_count": 7,
   "id": "832b7db7-f487-4c14-83b9-e51dcacb55f1",
   "metadata": {},
   "outputs": [],
   "source": [
    "analysis_folders = analysis_info.loc[analysis_info[\"unique_id\"].isin(plates)]"
   ]
  },
  {
   "cell_type": "code",
   "execution_count": 22,
   "id": "50dabbbf-5fd4-4a0a-b060-69579997fbd4",
   "metadata": {
    "tags": []
   },
   "outputs": [
    {
     "data": {
      "text/html": [
       "<div>\n",
       "<style scoped>\n",
       "    .dataframe tbody tr th:only-of-type {\n",
       "        vertical-align: middle;\n",
       "    }\n",
       "\n",
       "    .dataframe tbody tr th {\n",
       "        vertical-align: top;\n",
       "    }\n",
       "\n",
       "    .dataframe thead th {\n",
       "        text-align: right;\n",
       "    }\n",
       "</style>\n",
       "<table border=\"1\" class=\"dataframe\">\n",
       "  <thead>\n",
       "    <tr style=\"text-align: right;\">\n",
       "      <th></th>\n",
       "      <th>total_path</th>\n",
       "      <th>Plate</th>\n",
       "      <th>strain</th>\n",
       "      <th>medium</th>\n",
       "      <th>CrossDate</th>\n",
       "      <th>/Img/TileConfiguration.txt.registered</th>\n",
       "      <th>/Analysis/skeleton_compressed.mat</th>\n",
       "      <th>/Analysis/skeleton_masked_compressed.mat</th>\n",
       "      <th>/Analysis/skeleton_pruned_compressed.mat</th>\n",
       "      <th>/Analysis/transform.mat</th>\n",
       "      <th>...</th>\n",
       "      <th>/Analysis/nx_graph_pruned_labeled.p</th>\n",
       "      <th>date</th>\n",
       "      <th>folder</th>\n",
       "      <th>PrincePos</th>\n",
       "      <th>root</th>\n",
       "      <th>split</th>\n",
       "      <th>Pbait</th>\n",
       "      <th>Temperature</th>\n",
       "      <th>unique_id</th>\n",
       "      <th>datetime</th>\n",
       "    </tr>\n",
       "  </thead>\n",
       "  <tbody>\n",
       "    <tr>\n",
       "      <th>1</th>\n",
       "      <td>/projects/0/einf914/data/20220326_1339_Plate15</td>\n",
       "      <td>938</td>\n",
       "      <td>'A5'</td>\n",
       "      <td>'001P100N200C'</td>\n",
       "      <td>20220325</td>\n",
       "      <td>True</td>\n",
       "      <td>False</td>\n",
       "      <td>False</td>\n",
       "      <td>False</td>\n",
       "      <td>False</td>\n",
       "      <td>...</td>\n",
       "      <td>False</td>\n",
       "      <td>26.03.2022, 13:39:</td>\n",
       "      <td>20220326_1339_Plate15</td>\n",
       "      <td>15</td>\n",
       "      <td>'Carrot'</td>\n",
       "      <td>'Y'</td>\n",
       "      <td>'-'</td>\n",
       "      <td>25</td>\n",
       "      <td>938_20220325</td>\n",
       "      <td>2022-03-26 13:39:00</td>\n",
       "    </tr>\n",
       "    <tr>\n",
       "      <th>3</th>\n",
       "      <td>/projects/0/einf914/data/20220405_2204_Plate15</td>\n",
       "      <td>938</td>\n",
       "      <td>'A5'</td>\n",
       "      <td>'001P100N200C'</td>\n",
       "      <td>20220325</td>\n",
       "      <td>True</td>\n",
       "      <td>True</td>\n",
       "      <td>True</td>\n",
       "      <td>True</td>\n",
       "      <td>True</td>\n",
       "      <td>...</td>\n",
       "      <td>True</td>\n",
       "      <td>05.04.2022, 22:04:</td>\n",
       "      <td>20220405_2204_Plate15</td>\n",
       "      <td>15</td>\n",
       "      <td>'Carrot'</td>\n",
       "      <td>'Y'</td>\n",
       "      <td>'-'</td>\n",
       "      <td>25</td>\n",
       "      <td>938_20220325</td>\n",
       "      <td>2022-04-05 22:04:00</td>\n",
       "    </tr>\n",
       "    <tr>\n",
       "      <th>4</th>\n",
       "      <td>/projects/0/einf914/data/20220508_1002_Plate07</td>\n",
       "      <td>33</td>\n",
       "      <td>'Agg'</td>\n",
       "      <td>'001P100N100C'</td>\n",
       "      <td>20220502</td>\n",
       "      <td>True</td>\n",
       "      <td>True</td>\n",
       "      <td>True</td>\n",
       "      <td>True</td>\n",
       "      <td>True</td>\n",
       "      <td>...</td>\n",
       "      <td>True</td>\n",
       "      <td>08.05.2022, 10:02:</td>\n",
       "      <td>20220508_1002_Plate07</td>\n",
       "      <td>7</td>\n",
       "      <td>'Carrot'</td>\n",
       "      <td>'Y'</td>\n",
       "      <td>'-'</td>\n",
       "      <td>25</td>\n",
       "      <td>33_20220502</td>\n",
       "      <td>2022-05-08 10:02:00</td>\n",
       "    </tr>\n",
       "    <tr>\n",
       "      <th>5</th>\n",
       "      <td>/projects/0/einf914/data/20220503_0711_Plate07</td>\n",
       "      <td>33</td>\n",
       "      <td>'Agg'</td>\n",
       "      <td>'001P100N100C'</td>\n",
       "      <td>20220502</td>\n",
       "      <td>True</td>\n",
       "      <td>True</td>\n",
       "      <td>True</td>\n",
       "      <td>True</td>\n",
       "      <td>True</td>\n",
       "      <td>...</td>\n",
       "      <td>True</td>\n",
       "      <td>03.05.2022, 07:11:</td>\n",
       "      <td>20220503_0711_Plate07</td>\n",
       "      <td>7</td>\n",
       "      <td>'Carrot'</td>\n",
       "      <td>'Y'</td>\n",
       "      <td>'-'</td>\n",
       "      <td>25</td>\n",
       "      <td>33_20220502</td>\n",
       "      <td>2022-05-03 07:11:00</td>\n",
       "    </tr>\n",
       "    <tr>\n",
       "      <th>7</th>\n",
       "      <td>/projects/0/einf914/data/20220624_0707_Plate01</td>\n",
       "      <td>84</td>\n",
       "      <td>'A5sp3'</td>\n",
       "      <td>'001P100N100C'</td>\n",
       "      <td>20220621</td>\n",
       "      <td>True</td>\n",
       "      <td>True</td>\n",
       "      <td>True</td>\n",
       "      <td>True</td>\n",
       "      <td>True</td>\n",
       "      <td>...</td>\n",
       "      <td>True</td>\n",
       "      <td>24.06.2022, 07:07:</td>\n",
       "      <td>20220624_0707_Plate01</td>\n",
       "      <td>1</td>\n",
       "      <td>'Carrot'</td>\n",
       "      <td>'Y'</td>\n",
       "      <td>'-'</td>\n",
       "      <td>25</td>\n",
       "      <td>84_20220621</td>\n",
       "      <td>2022-06-24 07:07:00</td>\n",
       "    </tr>\n",
       "    <tr>\n",
       "      <th>...</th>\n",
       "      <td>...</td>\n",
       "      <td>...</td>\n",
       "      <td>...</td>\n",
       "      <td>...</td>\n",
       "      <td>...</td>\n",
       "      <td>...</td>\n",
       "      <td>...</td>\n",
       "      <td>...</td>\n",
       "      <td>...</td>\n",
       "      <td>...</td>\n",
       "      <td>...</td>\n",
       "      <td>...</td>\n",
       "      <td>...</td>\n",
       "      <td>...</td>\n",
       "      <td>...</td>\n",
       "      <td>...</td>\n",
       "      <td>...</td>\n",
       "      <td>...</td>\n",
       "      <td>...</td>\n",
       "      <td>...</td>\n",
       "      <td>...</td>\n",
       "    </tr>\n",
       "    <tr>\n",
       "      <th>2129</th>\n",
       "      <td>/projects/0/einf914/data/20220627_1215_Plate01</td>\n",
       "      <td>84</td>\n",
       "      <td>'A5sp3'</td>\n",
       "      <td>'001P100N100C'</td>\n",
       "      <td>20220621</td>\n",
       "      <td>True</td>\n",
       "      <td>True</td>\n",
       "      <td>True</td>\n",
       "      <td>True</td>\n",
       "      <td>True</td>\n",
       "      <td>...</td>\n",
       "      <td>True</td>\n",
       "      <td>27.06.2022, 12:15:</td>\n",
       "      <td>20220627_1215_Plate01</td>\n",
       "      <td>1</td>\n",
       "      <td>'Carrot'</td>\n",
       "      <td>'Y'</td>\n",
       "      <td>'-'</td>\n",
       "      <td>25</td>\n",
       "      <td>84_20220621</td>\n",
       "      <td>2022-06-27 12:15:00</td>\n",
       "    </tr>\n",
       "    <tr>\n",
       "      <th>2130</th>\n",
       "      <td>/projects/0/einf914/data/20220329_2114_Plate15</td>\n",
       "      <td>938</td>\n",
       "      <td>'A5'</td>\n",
       "      <td>'001P100N200C'</td>\n",
       "      <td>20220325</td>\n",
       "      <td>True</td>\n",
       "      <td>True</td>\n",
       "      <td>True</td>\n",
       "      <td>True</td>\n",
       "      <td>True</td>\n",
       "      <td>...</td>\n",
       "      <td>True</td>\n",
       "      <td>29.03.2022, 21:14:</td>\n",
       "      <td>20220329_2114_Plate15</td>\n",
       "      <td>15</td>\n",
       "      <td>'Carrot'</td>\n",
       "      <td>'Y'</td>\n",
       "      <td>'-'</td>\n",
       "      <td>25</td>\n",
       "      <td>938_20220325</td>\n",
       "      <td>2022-03-29 21:14:00</td>\n",
       "    </tr>\n",
       "    <tr>\n",
       "      <th>2131</th>\n",
       "      <td>/projects/0/einf914/data/20220510_0959_Plate07</td>\n",
       "      <td>33</td>\n",
       "      <td>'Agg'</td>\n",
       "      <td>'001P100N100C'</td>\n",
       "      <td>20220502</td>\n",
       "      <td>False</td>\n",
       "      <td>False</td>\n",
       "      <td>False</td>\n",
       "      <td>False</td>\n",
       "      <td>False</td>\n",
       "      <td>...</td>\n",
       "      <td>False</td>\n",
       "      <td>10.05.2022, 09:59:</td>\n",
       "      <td>20220510_0959_Plate07</td>\n",
       "      <td>7</td>\n",
       "      <td>'Carrot'</td>\n",
       "      <td>'Y'</td>\n",
       "      <td>'-'</td>\n",
       "      <td>25</td>\n",
       "      <td>33_20220502</td>\n",
       "      <td>2022-05-10 09:59:00</td>\n",
       "    </tr>\n",
       "    <tr>\n",
       "      <th>2132</th>\n",
       "      <td>/projects/0/einf914/data/20220507_1202_Plate07</td>\n",
       "      <td>33</td>\n",
       "      <td>'Agg'</td>\n",
       "      <td>'001P100N100C'</td>\n",
       "      <td>20220502</td>\n",
       "      <td>True</td>\n",
       "      <td>True</td>\n",
       "      <td>True</td>\n",
       "      <td>True</td>\n",
       "      <td>True</td>\n",
       "      <td>...</td>\n",
       "      <td>True</td>\n",
       "      <td>07.05.2022, 12:02:</td>\n",
       "      <td>20220507_1202_Plate07</td>\n",
       "      <td>7</td>\n",
       "      <td>'Carrot'</td>\n",
       "      <td>'Y'</td>\n",
       "      <td>'-'</td>\n",
       "      <td>25</td>\n",
       "      <td>33_20220502</td>\n",
       "      <td>2022-05-07 12:02:00</td>\n",
       "    </tr>\n",
       "    <tr>\n",
       "      <th>2134</th>\n",
       "      <td>/projects/0/einf914/data/20220531_0617_Plate38</td>\n",
       "      <td>32</td>\n",
       "      <td>'Agg'</td>\n",
       "      <td>'001P100N100C'</td>\n",
       "      <td>20220428</td>\n",
       "      <td>True</td>\n",
       "      <td>True</td>\n",
       "      <td>True</td>\n",
       "      <td>True</td>\n",
       "      <td>True</td>\n",
       "      <td>...</td>\n",
       "      <td>True</td>\n",
       "      <td>31.05.2022, 06:17:</td>\n",
       "      <td>20220531_0617_Plate38</td>\n",
       "      <td>38</td>\n",
       "      <td>'Carrot'</td>\n",
       "      <td>'Y'</td>\n",
       "      <td>'-'</td>\n",
       "      <td>25</td>\n",
       "      <td>32_20220428</td>\n",
       "      <td>2022-05-31 06:17:00</td>\n",
       "    </tr>\n",
       "  </tbody>\n",
       "</table>\n",
       "<p>1458 rows × 24 columns</p>\n",
       "</div>"
      ],
      "text/plain": [
       "                                          total_path Plate   strain  \\\n",
       "1     /projects/0/einf914/data/20220326_1339_Plate15   938     'A5'   \n",
       "3     /projects/0/einf914/data/20220405_2204_Plate15   938     'A5'   \n",
       "4     /projects/0/einf914/data/20220508_1002_Plate07    33    'Agg'   \n",
       "5     /projects/0/einf914/data/20220503_0711_Plate07    33    'Agg'   \n",
       "7     /projects/0/einf914/data/20220624_0707_Plate01    84  'A5sp3'   \n",
       "...                                              ...   ...      ...   \n",
       "2129  /projects/0/einf914/data/20220627_1215_Plate01    84  'A5sp3'   \n",
       "2130  /projects/0/einf914/data/20220329_2114_Plate15   938     'A5'   \n",
       "2131  /projects/0/einf914/data/20220510_0959_Plate07    33    'Agg'   \n",
       "2132  /projects/0/einf914/data/20220507_1202_Plate07    33    'Agg'   \n",
       "2134  /projects/0/einf914/data/20220531_0617_Plate38    32    'Agg'   \n",
       "\n",
       "              medium CrossDate /Img/TileConfiguration.txt.registered  \\\n",
       "1     '001P100N200C'  20220325                                  True   \n",
       "3     '001P100N200C'  20220325                                  True   \n",
       "4     '001P100N100C'  20220502                                  True   \n",
       "5     '001P100N100C'  20220502                                  True   \n",
       "7     '001P100N100C'  20220621                                  True   \n",
       "...              ...       ...                                   ...   \n",
       "2129  '001P100N100C'  20220621                                  True   \n",
       "2130  '001P100N200C'  20220325                                  True   \n",
       "2131  '001P100N100C'  20220502                                 False   \n",
       "2132  '001P100N100C'  20220502                                  True   \n",
       "2134  '001P100N100C'  20220428                                  True   \n",
       "\n",
       "     /Analysis/skeleton_compressed.mat  \\\n",
       "1                                False   \n",
       "3                                 True   \n",
       "4                                 True   \n",
       "5                                 True   \n",
       "7                                 True   \n",
       "...                                ...   \n",
       "2129                              True   \n",
       "2130                              True   \n",
       "2131                             False   \n",
       "2132                              True   \n",
       "2134                              True   \n",
       "\n",
       "     /Analysis/skeleton_masked_compressed.mat  \\\n",
       "1                                       False   \n",
       "3                                        True   \n",
       "4                                        True   \n",
       "5                                        True   \n",
       "7                                        True   \n",
       "...                                       ...   \n",
       "2129                                     True   \n",
       "2130                                     True   \n",
       "2131                                    False   \n",
       "2132                                     True   \n",
       "2134                                     True   \n",
       "\n",
       "     /Analysis/skeleton_pruned_compressed.mat /Analysis/transform.mat  ...  \\\n",
       "1                                       False                   False  ...   \n",
       "3                                        True                    True  ...   \n",
       "4                                        True                    True  ...   \n",
       "5                                        True                    True  ...   \n",
       "7                                        True                    True  ...   \n",
       "...                                       ...                     ...  ...   \n",
       "2129                                     True                    True  ...   \n",
       "2130                                     True                    True  ...   \n",
       "2131                                    False                   False  ...   \n",
       "2132                                     True                    True  ...   \n",
       "2134                                     True                    True  ...   \n",
       "\n",
       "     /Analysis/nx_graph_pruned_labeled.p                date  \\\n",
       "1                                  False  26.03.2022, 13:39:   \n",
       "3                                   True  05.04.2022, 22:04:   \n",
       "4                                   True  08.05.2022, 10:02:   \n",
       "5                                   True  03.05.2022, 07:11:   \n",
       "7                                   True  24.06.2022, 07:07:   \n",
       "...                                  ...                 ...   \n",
       "2129                                True  27.06.2022, 12:15:   \n",
       "2130                                True  29.03.2022, 21:14:   \n",
       "2131                               False  10.05.2022, 09:59:   \n",
       "2132                                True  07.05.2022, 12:02:   \n",
       "2134                                True  31.05.2022, 06:17:   \n",
       "\n",
       "                     folder PrincePos      root split Pbait Temperature  \\\n",
       "1     20220326_1339_Plate15        15  'Carrot'   'Y'   '-'          25   \n",
       "3     20220405_2204_Plate15        15  'Carrot'   'Y'   '-'          25   \n",
       "4     20220508_1002_Plate07         7  'Carrot'   'Y'   '-'          25   \n",
       "5     20220503_0711_Plate07         7  'Carrot'   'Y'   '-'          25   \n",
       "7     20220624_0707_Plate01         1  'Carrot'   'Y'   '-'          25   \n",
       "...                     ...       ...       ...   ...   ...         ...   \n",
       "2129  20220627_1215_Plate01         1  'Carrot'   'Y'   '-'          25   \n",
       "2130  20220329_2114_Plate15        15  'Carrot'   'Y'   '-'          25   \n",
       "2131  20220510_0959_Plate07         7  'Carrot'   'Y'   '-'          25   \n",
       "2132  20220507_1202_Plate07         7  'Carrot'   'Y'   '-'          25   \n",
       "2134  20220531_0617_Plate38        38  'Carrot'   'Y'   '-'          25   \n",
       "\n",
       "         unique_id            datetime  \n",
       "1     938_20220325 2022-03-26 13:39:00  \n",
       "3     938_20220325 2022-04-05 22:04:00  \n",
       "4      33_20220502 2022-05-08 10:02:00  \n",
       "5      33_20220502 2022-05-03 07:11:00  \n",
       "7      84_20220621 2022-06-24 07:07:00  \n",
       "...            ...                 ...  \n",
       "2129   84_20220621 2022-06-27 12:15:00  \n",
       "2130  938_20220325 2022-03-29 21:14:00  \n",
       "2131   33_20220502 2022-05-10 09:59:00  \n",
       "2132   33_20220502 2022-05-07 12:02:00  \n",
       "2134   32_20220428 2022-05-31 06:17:00  \n",
       "\n",
       "[1458 rows x 24 columns]"
      ]
     },
     "execution_count": 22,
     "metadata": {},
     "output_type": "execute_result"
    }
   ],
   "source": [
    "folders"
   ]
  },
  {
   "cell_type": "code",
   "execution_count": null,
   "id": "5a65c411-1ad7-485d-9242-97e3a45a831d",
   "metadata": {},
   "outputs": [],
   "source": [
    "time = \"2:00:00\"\n",
    "name_job = \"malin\"\n",
    "\n",
    "list_args = [[]] * len(list_f)\n",
    "overwrite = True\n",
    "num_parallel = 6\n",
    "run_parallel_post(\n",
    "    \"time_edge_post_process.py\",\n",
    "    list_f,\n",
    "    list_args,\n",
    "    [directory, overwrite],\n",
    "    analysis_folders,\n",
    "    num_parallel,\n",
    "    time,\n",
    "    \"edge_post_process\",\n",
    "    cpus=32,\n",
    "    name_job=name_job,\n",
    "    node=\"fat\",\n",
    ")"
   ]
  },
  {
   "cell_type": "code",
   "execution_count": 28,
   "id": "0e834046-7817-4c75-bcbe-2d3fd38e73a0",
   "metadata": {
    "tags": []
   },
   "outputs": [
    {
     "name": "stderr",
     "output_type": "stream",
     "text": [
      "sbatch: Single-node jobs run on a shared node by default. Add --exclusive if you want to use a node exclusively.\n",
      "sbatch: You will be charged for 0.25 node. A full node consists of 128 CPU cores, 983040 MiB of memory and 0 GPUs and can be shared by up to 4 jobs.\n"
     ]
    },
    {
     "name": "stdout",
     "output_type": "stream",
     "text": [
      "Submitted batch job 1944913\n"
     ]
    },
    {
     "name": "stderr",
     "output_type": "stream",
     "text": [
      "sbatch: Single-node jobs run on a shared node by default. Add --exclusive if you want to use a node exclusively.\n",
      "sbatch: You will be charged for 0.25 node. A full node consists of 128 CPU cores, 983040 MiB of memory and 0 GPUs and can be shared by up to 4 jobs.\n"
     ]
    },
    {
     "name": "stdout",
     "output_type": "stream",
     "text": [
      "Submitted batch job 1944914\n"
     ]
    },
    {
     "name": "stderr",
     "output_type": "stream",
     "text": [
      "sbatch: Single-node jobs run on a shared node by default. Add --exclusive if you want to use a node exclusively.\n",
      "sbatch: You will be charged for 0.25 node. A full node consists of 128 CPU cores, 983040 MiB of memory and 0 GPUs and can be shared by up to 4 jobs.\n"
     ]
    },
    {
     "name": "stdout",
     "output_type": "stream",
     "text": [
      "Submitted batch job 1944915\n"
     ]
    },
    {
     "name": "stderr",
     "output_type": "stream",
     "text": [
      "sbatch: Single-node jobs run on a shared node by default. Add --exclusive if you want to use a node exclusively.\n",
      "sbatch: You will be charged for 0.25 node. A full node consists of 128 CPU cores, 983040 MiB of memory and 0 GPUs and can be shared by up to 4 jobs.\n"
     ]
    },
    {
     "name": "stdout",
     "output_type": "stream",
     "text": [
      "Submitted batch job 1944916\n"
     ]
    },
    {
     "name": "stderr",
     "output_type": "stream",
     "text": [
      "sbatch: Single-node jobs run on a shared node by default. Add --exclusive if you want to use a node exclusively.\n",
      "sbatch: You will be charged for 0.25 node. A full node consists of 128 CPU cores, 983040 MiB of memory and 0 GPUs and can be shared by up to 4 jobs.\n"
     ]
    },
    {
     "name": "stdout",
     "output_type": "stream",
     "text": [
      "Submitted batch job 1944917\n"
     ]
    },
    {
     "name": "stderr",
     "output_type": "stream",
     "text": [
      "sbatch: Single-node jobs run on a shared node by default. Add --exclusive if you want to use a node exclusively.\n",
      "sbatch: You will be charged for 0.25 node. A full node consists of 128 CPU cores, 983040 MiB of memory and 0 GPUs and can be shared by up to 4 jobs.\n"
     ]
    },
    {
     "name": "stdout",
     "output_type": "stream",
     "text": [
      "Submitted batch job 1944918\n"
     ]
    },
    {
     "name": "stderr",
     "output_type": "stream",
     "text": [
      "sbatch: Single-node jobs run on a shared node by default. Add --exclusive if you want to use a node exclusively.\n",
      "sbatch: You will be charged for 0.25 node. A full node consists of 128 CPU cores, 983040 MiB of memory and 0 GPUs and can be shared by up to 4 jobs.\n"
     ]
    },
    {
     "name": "stdout",
     "output_type": "stream",
     "text": [
      "Submitted batch job 1944919\n"
     ]
    },
    {
     "name": "stderr",
     "output_type": "stream",
     "text": [
      "sbatch: Single-node jobs run on a shared node by default. Add --exclusive if you want to use a node exclusively.\n",
      "sbatch: You will be charged for 0.25 node. A full node consists of 128 CPU cores, 983040 MiB of memory and 0 GPUs and can be shared by up to 4 jobs.\n"
     ]
    },
    {
     "name": "stdout",
     "output_type": "stream",
     "text": [
      "Submitted batch job 1944920\n"
     ]
    },
    {
     "name": "stderr",
     "output_type": "stream",
     "text": [
      "sbatch: Single-node jobs run on a shared node by default. Add --exclusive if you want to use a node exclusively.\n",
      "sbatch: You will be charged for 0.25 node. A full node consists of 128 CPU cores, 983040 MiB of memory and 0 GPUs and can be shared by up to 4 jobs.\n"
     ]
    },
    {
     "name": "stdout",
     "output_type": "stream",
     "text": [
      "Submitted batch job 1944921\n"
     ]
    },
    {
     "name": "stderr",
     "output_type": "stream",
     "text": [
      "sbatch: Single-node jobs run on a shared node by default. Add --exclusive if you want to use a node exclusively.\n",
      "sbatch: You will be charged for 0.25 node. A full node consists of 128 CPU cores, 983040 MiB of memory and 0 GPUs and can be shared by up to 4 jobs.\n"
     ]
    },
    {
     "name": "stdout",
     "output_type": "stream",
     "text": [
      "Submitted batch job 1944922\n"
     ]
    },
    {
     "name": "stderr",
     "output_type": "stream",
     "text": [
      "sbatch: Single-node jobs run on a shared node by default. Add --exclusive if you want to use a node exclusively.\n",
      "sbatch: You will be charged for 0.25 node. A full node consists of 128 CPU cores, 983040 MiB of memory and 0 GPUs and can be shared by up to 4 jobs.\n"
     ]
    },
    {
     "name": "stdout",
     "output_type": "stream",
     "text": [
      "Submitted batch job 1944923\n"
     ]
    },
    {
     "name": "stderr",
     "output_type": "stream",
     "text": [
      "sbatch: Single-node jobs run on a shared node by default. Add --exclusive if you want to use a node exclusively.\n",
      "sbatch: You will be charged for 0.25 node. A full node consists of 128 CPU cores, 983040 MiB of memory and 0 GPUs and can be shared by up to 4 jobs.\n"
     ]
    },
    {
     "name": "stdout",
     "output_type": "stream",
     "text": [
      "Submitted batch job 1944924\n"
     ]
    },
    {
     "name": "stderr",
     "output_type": "stream",
     "text": [
      "sbatch: Single-node jobs run on a shared node by default. Add --exclusive if you want to use a node exclusively.\n",
      "sbatch: You will be charged for 0.25 node. A full node consists of 128 CPU cores, 983040 MiB of memory and 0 GPUs and can be shared by up to 4 jobs.\n"
     ]
    },
    {
     "name": "stdout",
     "output_type": "stream",
     "text": [
      "Submitted batch job 1944925\n"
     ]
    },
    {
     "name": "stderr",
     "output_type": "stream",
     "text": [
      "sbatch: Single-node jobs run on a shared node by default. Add --exclusive if you want to use a node exclusively.\n",
      "sbatch: You will be charged for 0.25 node. A full node consists of 128 CPU cores, 983040 MiB of memory and 0 GPUs and can be shared by up to 4 jobs.\n"
     ]
    },
    {
     "name": "stdout",
     "output_type": "stream",
     "text": [
      "Submitted batch job 1944926\n"
     ]
    },
    {
     "name": "stderr",
     "output_type": "stream",
     "text": [
      "sbatch: Single-node jobs run on a shared node by default. Add --exclusive if you want to use a node exclusively.\n",
      "sbatch: You will be charged for 0.25 node. A full node consists of 128 CPU cores, 983040 MiB of memory and 0 GPUs and can be shared by up to 4 jobs.\n"
     ]
    },
    {
     "name": "stdout",
     "output_type": "stream",
     "text": [
      "Submitted batch job 1944938\n"
     ]
    },
    {
     "name": "stderr",
     "output_type": "stream",
     "text": [
      "sbatch: Single-node jobs run on a shared node by default. Add --exclusive if you want to use a node exclusively.\n",
      "sbatch: You will be charged for 0.25 node. A full node consists of 128 CPU cores, 983040 MiB of memory and 0 GPUs and can be shared by up to 4 jobs.\n"
     ]
    },
    {
     "name": "stdout",
     "output_type": "stream",
     "text": [
      "Submitted batch job 1944939\n"
     ]
    },
    {
     "name": "stderr",
     "output_type": "stream",
     "text": [
      "sbatch: Single-node jobs run on a shared node by default. Add --exclusive if you want to use a node exclusively.\n",
      "sbatch: You will be charged for 0.25 node. A full node consists of 128 CPU cores, 983040 MiB of memory and 0 GPUs and can be shared by up to 4 jobs.\n"
     ]
    },
    {
     "name": "stdout",
     "output_type": "stream",
     "text": [
      "Submitted batch job 1944940\n"
     ]
    },
    {
     "name": "stderr",
     "output_type": "stream",
     "text": [
      "sbatch: Single-node jobs run on a shared node by default. Add --exclusive if you want to use a node exclusively.\n",
      "sbatch: You will be charged for 0.25 node. A full node consists of 128 CPU cores, 983040 MiB of memory and 0 GPUs and can be shared by up to 4 jobs.\n"
     ]
    },
    {
     "name": "stdout",
     "output_type": "stream",
     "text": [
      "Submitted batch job 1944941\n"
     ]
    },
    {
     "name": "stderr",
     "output_type": "stream",
     "text": [
      "sbatch: Single-node jobs run on a shared node by default. Add --exclusive if you want to use a node exclusively.\n",
      "sbatch: You will be charged for 0.25 node. A full node consists of 128 CPU cores, 983040 MiB of memory and 0 GPUs and can be shared by up to 4 jobs.\n"
     ]
    },
    {
     "name": "stdout",
     "output_type": "stream",
     "text": [
      "Submitted batch job 1944942\n"
     ]
    },
    {
     "name": "stderr",
     "output_type": "stream",
     "text": [
      "sbatch: Single-node jobs run on a shared node by default. Add --exclusive if you want to use a node exclusively.\n",
      "sbatch: You will be charged for 0.25 node. A full node consists of 128 CPU cores, 983040 MiB of memory and 0 GPUs and can be shared by up to 4 jobs.\n"
     ]
    },
    {
     "name": "stdout",
     "output_type": "stream",
     "text": [
      "Submitted batch job 1944943\n"
     ]
    },
    {
     "name": "stderr",
     "output_type": "stream",
     "text": [
      "sbatch: Single-node jobs run on a shared node by default. Add --exclusive if you want to use a node exclusively.\n",
      "sbatch: You will be charged for 0.25 node. A full node consists of 128 CPU cores, 983040 MiB of memory and 0 GPUs and can be shared by up to 4 jobs.\n"
     ]
    },
    {
     "name": "stdout",
     "output_type": "stream",
     "text": [
      "Submitted batch job 1944944\n"
     ]
    },
    {
     "name": "stderr",
     "output_type": "stream",
     "text": [
      "sbatch: Single-node jobs run on a shared node by default. Add --exclusive if you want to use a node exclusively.\n",
      "sbatch: You will be charged for 0.25 node. A full node consists of 128 CPU cores, 983040 MiB of memory and 0 GPUs and can be shared by up to 4 jobs.\n"
     ]
    },
    {
     "name": "stdout",
     "output_type": "stream",
     "text": [
      "Submitted batch job 1944945\n"
     ]
    },
    {
     "name": "stderr",
     "output_type": "stream",
     "text": [
      "sbatch: Single-node jobs run on a shared node by default. Add --exclusive if you want to use a node exclusively.\n",
      "sbatch: You will be charged for 0.25 node. A full node consists of 128 CPU cores, 983040 MiB of memory and 0 GPUs and can be shared by up to 4 jobs.\n"
     ]
    },
    {
     "name": "stdout",
     "output_type": "stream",
     "text": [
      "Submitted batch job 1944946\n"
     ]
    },
    {
     "name": "stderr",
     "output_type": "stream",
     "text": [
      "sbatch: Single-node jobs run on a shared node by default. Add --exclusive if you want to use a node exclusively.\n",
      "sbatch: You will be charged for 0.25 node. A full node consists of 128 CPU cores, 983040 MiB of memory and 0 GPUs and can be shared by up to 4 jobs.\n"
     ]
    },
    {
     "name": "stdout",
     "output_type": "stream",
     "text": [
      "Submitted batch job 1944947\n"
     ]
    },
    {
     "name": "stderr",
     "output_type": "stream",
     "text": [
      "sbatch: Single-node jobs run on a shared node by default. Add --exclusive if you want to use a node exclusively.\n",
      "sbatch: You will be charged for 0.25 node. A full node consists of 128 CPU cores, 983040 MiB of memory and 0 GPUs and can be shared by up to 4 jobs.\n"
     ]
    },
    {
     "name": "stdout",
     "output_type": "stream",
     "text": [
      "Submitted batch job 1944948\n"
     ]
    },
    {
     "name": "stderr",
     "output_type": "stream",
     "text": [
      "sbatch: Single-node jobs run on a shared node by default. Add --exclusive if you want to use a node exclusively.\n",
      "sbatch: You will be charged for 0.25 node. A full node consists of 128 CPU cores, 983040 MiB of memory and 0 GPUs and can be shared by up to 4 jobs.\n"
     ]
    },
    {
     "name": "stdout",
     "output_type": "stream",
     "text": [
      "Submitted batch job 1944949\n"
     ]
    },
    {
     "name": "stderr",
     "output_type": "stream",
     "text": [
      "sbatch: Single-node jobs run on a shared node by default. Add --exclusive if you want to use a node exclusively.\n",
      "sbatch: You will be charged for 0.25 node. A full node consists of 128 CPU cores, 983040 MiB of memory and 0 GPUs and can be shared by up to 4 jobs.\n"
     ]
    },
    {
     "name": "stdout",
     "output_type": "stream",
     "text": [
      "Submitted batch job 1944950\n"
     ]
    },
    {
     "name": "stderr",
     "output_type": "stream",
     "text": [
      "sbatch: Single-node jobs run on a shared node by default. Add --exclusive if you want to use a node exclusively.\n",
      "sbatch: You will be charged for 0.25 node. A full node consists of 128 CPU cores, 983040 MiB of memory and 0 GPUs and can be shared by up to 4 jobs.\n"
     ]
    },
    {
     "name": "stdout",
     "output_type": "stream",
     "text": [
      "Submitted batch job 1944954\n"
     ]
    },
    {
     "name": "stderr",
     "output_type": "stream",
     "text": [
      "sbatch: Single-node jobs run on a shared node by default. Add --exclusive if you want to use a node exclusively.\n",
      "sbatch: You will be charged for 0.25 node. A full node consists of 128 CPU cores, 983040 MiB of memory and 0 GPUs and can be shared by up to 4 jobs.\n"
     ]
    },
    {
     "name": "stdout",
     "output_type": "stream",
     "text": [
      "Submitted batch job 1944955\n"
     ]
    },
    {
     "name": "stderr",
     "output_type": "stream",
     "text": [
      "sbatch: Single-node jobs run on a shared node by default. Add --exclusive if you want to use a node exclusively.\n",
      "sbatch: You will be charged for 0.25 node. A full node consists of 128 CPU cores, 983040 MiB of memory and 0 GPUs and can be shared by up to 4 jobs.\n"
     ]
    },
    {
     "name": "stdout",
     "output_type": "stream",
     "text": [
      "Submitted batch job 1944956\n"
     ]
    },
    {
     "name": "stderr",
     "output_type": "stream",
     "text": [
      "sbatch: Single-node jobs run on a shared node by default. Add --exclusive if you want to use a node exclusively.\n",
      "sbatch: You will be charged for 0.25 node. A full node consists of 128 CPU cores, 983040 MiB of memory and 0 GPUs and can be shared by up to 4 jobs.\n"
     ]
    },
    {
     "name": "stdout",
     "output_type": "stream",
     "text": [
      "Submitted batch job 1944957\n"
     ]
    },
    {
     "name": "stderr",
     "output_type": "stream",
     "text": [
      "sbatch: Single-node jobs run on a shared node by default. Add --exclusive if you want to use a node exclusively.\n",
      "sbatch: You will be charged for 0.25 node. A full node consists of 128 CPU cores, 983040 MiB of memory and 0 GPUs and can be shared by up to 4 jobs.\n"
     ]
    },
    {
     "name": "stdout",
     "output_type": "stream",
     "text": [
      "Submitted batch job 1944958\n"
     ]
    },
    {
     "name": "stderr",
     "output_type": "stream",
     "text": [
      "sbatch: Single-node jobs run on a shared node by default. Add --exclusive if you want to use a node exclusively.\n",
      "sbatch: You will be charged for 0.25 node. A full node consists of 128 CPU cores, 983040 MiB of memory and 0 GPUs and can be shared by up to 4 jobs.\n"
     ]
    },
    {
     "name": "stdout",
     "output_type": "stream",
     "text": [
      "Submitted batch job 1944959\n",
      "Submitted batch job 1944960\n"
     ]
    },
    {
     "name": "stderr",
     "output_type": "stream",
     "text": [
      "sbatch: Single-node jobs run on a shared node by default. Add --exclusive if you want to use a node exclusively.\n",
      "sbatch: You will be charged for 0.25 node. A full node consists of 128 CPU cores, 983040 MiB of memory and 0 GPUs and can be shared by up to 4 jobs.\n"
     ]
    },
    {
     "name": "stdout",
     "output_type": "stream",
     "text": [
      "Submitted batch job 1944961\n"
     ]
    },
    {
     "name": "stderr",
     "output_type": "stream",
     "text": [
      "sbatch: Single-node jobs run on a shared node by default. Add --exclusive if you want to use a node exclusively.\n",
      "sbatch: You will be charged for 0.25 node. A full node consists of 128 CPU cores, 983040 MiB of memory and 0 GPUs and can be shared by up to 4 jobs.\n",
      "sbatch: Single-node jobs run on a shared node by default. Add --exclusive if you want to use a node exclusively.\n",
      "sbatch: You will be charged for 0.25 node. A full node consists of 128 CPU cores, 983040 MiB of memory and 0 GPUs and can be shared by up to 4 jobs.\n"
     ]
    },
    {
     "name": "stdout",
     "output_type": "stream",
     "text": [
      "Submitted batch job 1944962\n",
      "Submitted batch job 1944963\n"
     ]
    },
    {
     "name": "stderr",
     "output_type": "stream",
     "text": [
      "sbatch: Single-node jobs run on a shared node by default. Add --exclusive if you want to use a node exclusively.\n",
      "sbatch: You will be charged for 0.25 node. A full node consists of 128 CPU cores, 983040 MiB of memory and 0 GPUs and can be shared by up to 4 jobs.\n"
     ]
    },
    {
     "name": "stdout",
     "output_type": "stream",
     "text": [
      "Submitted batch job 1944964\n"
     ]
    },
    {
     "name": "stderr",
     "output_type": "stream",
     "text": [
      "sbatch: Single-node jobs run on a shared node by default. Add --exclusive if you want to use a node exclusively.\n",
      "sbatch: You will be charged for 0.25 node. A full node consists of 128 CPU cores, 983040 MiB of memory and 0 GPUs and can be shared by up to 4 jobs.\n",
      "sbatch: Single-node jobs run on a shared node by default. Add --exclusive if you want to use a node exclusively.\n",
      "sbatch: You will be charged for 0.25 node. A full node consists of 128 CPU cores, 983040 MiB of memory and 0 GPUs and can be shared by up to 4 jobs.\n"
     ]
    },
    {
     "name": "stdout",
     "output_type": "stream",
     "text": [
      "Submitted batch job 1944965\n"
     ]
    },
    {
     "name": "stderr",
     "output_type": "stream",
     "text": [
      "sbatch: Single-node jobs run on a shared node by default. Add --exclusive if you want to use a node exclusively.\n",
      "sbatch: You will be charged for 0.25 node. A full node consists of 128 CPU cores, 983040 MiB of memory and 0 GPUs and can be shared by up to 4 jobs.\n"
     ]
    },
    {
     "name": "stdout",
     "output_type": "stream",
     "text": [
      "Submitted batch job 1944966\n"
     ]
    },
    {
     "name": "stderr",
     "output_type": "stream",
     "text": [
      "sbatch: Single-node jobs run on a shared node by default. Add --exclusive if you want to use a node exclusively.\n",
      "sbatch: You will be charged for 0.25 node. A full node consists of 128 CPU cores, 983040 MiB of memory and 0 GPUs and can be shared by up to 4 jobs.\n"
     ]
    },
    {
     "name": "stdout",
     "output_type": "stream",
     "text": [
      "Submitted batch job 1944967\n"
     ]
    },
    {
     "name": "stderr",
     "output_type": "stream",
     "text": [
      "sbatch: Single-node jobs run on a shared node by default. Add --exclusive if you want to use a node exclusively.\n",
      "sbatch: You will be charged for 0.25 node. A full node consists of 128 CPU cores, 983040 MiB of memory and 0 GPUs and can be shared by up to 4 jobs.\n"
     ]
    },
    {
     "name": "stdout",
     "output_type": "stream",
     "text": [
      "Submitted batch job 1944968\n"
     ]
    },
    {
     "name": "stderr",
     "output_type": "stream",
     "text": [
      "sbatch: Single-node jobs run on a shared node by default. Add --exclusive if you want to use a node exclusively.\n",
      "sbatch: You will be charged for 0.25 node. A full node consists of 128 CPU cores, 983040 MiB of memory and 0 GPUs and can be shared by up to 4 jobs.\n"
     ]
    },
    {
     "name": "stdout",
     "output_type": "stream",
     "text": [
      "Submitted batch job 1944969\n"
     ]
    },
    {
     "name": "stderr",
     "output_type": "stream",
     "text": [
      "sbatch: Single-node jobs run on a shared node by default. Add --exclusive if you want to use a node exclusively.\n",
      "sbatch: You will be charged for 0.25 node. A full node consists of 128 CPU cores, 983040 MiB of memory and 0 GPUs and can be shared by up to 4 jobs.\n"
     ]
    },
    {
     "name": "stdout",
     "output_type": "stream",
     "text": [
      "Submitted batch job 1944970\n",
      "Submitted batch job 1944971\n"
     ]
    },
    {
     "name": "stderr",
     "output_type": "stream",
     "text": [
      "sbatch: Single-node jobs run on a shared node by default. Add --exclusive if you want to use a node exclusively.\n",
      "sbatch: You will be charged for 0.25 node. A full node consists of 128 CPU cores, 983040 MiB of memory and 0 GPUs and can be shared by up to 4 jobs.\n",
      "sbatch: Single-node jobs run on a shared node by default. Add --exclusive if you want to use a node exclusively.\n",
      "sbatch: You will be charged for 0.25 node. A full node consists of 128 CPU cores, 983040 MiB of memory and 0 GPUs and can be shared by up to 4 jobs.\n"
     ]
    },
    {
     "name": "stdout",
     "output_type": "stream",
     "text": [
      "Submitted batch job 1944972\n"
     ]
    },
    {
     "name": "stderr",
     "output_type": "stream",
     "text": [
      "sbatch: Single-node jobs run on a shared node by default. Add --exclusive if you want to use a node exclusively.\n",
      "sbatch: You will be charged for 0.25 node. A full node consists of 128 CPU cores, 983040 MiB of memory and 0 GPUs and can be shared by up to 4 jobs.\n"
     ]
    },
    {
     "name": "stdout",
     "output_type": "stream",
     "text": [
      "Submitted batch job 1944973\n"
     ]
    },
    {
     "name": "stderr",
     "output_type": "stream",
     "text": [
      "sbatch: Single-node jobs run on a shared node by default. Add --exclusive if you want to use a node exclusively.\n",
      "sbatch: You will be charged for 0.25 node. A full node consists of 128 CPU cores, 983040 MiB of memory and 0 GPUs and can be shared by up to 4 jobs.\n"
     ]
    },
    {
     "name": "stdout",
     "output_type": "stream",
     "text": [
      "Submitted batch job 1944974\n"
     ]
    },
    {
     "name": "stderr",
     "output_type": "stream",
     "text": [
      "sbatch: Single-node jobs run on a shared node by default. Add --exclusive if you want to use a node exclusively.\n",
      "sbatch: You will be charged for 0.25 node. A full node consists of 128 CPU cores, 983040 MiB of memory and 0 GPUs and can be shared by up to 4 jobs.\n"
     ]
    },
    {
     "name": "stdout",
     "output_type": "stream",
     "text": [
      "Submitted batch job 1944975\n"
     ]
    },
    {
     "name": "stderr",
     "output_type": "stream",
     "text": [
      "sbatch: Single-node jobs run on a shared node by default. Add --exclusive if you want to use a node exclusively.\n",
      "sbatch: You will be charged for 0.25 node. A full node consists of 128 CPU cores, 983040 MiB of memory and 0 GPUs and can be shared by up to 4 jobs.\n"
     ]
    },
    {
     "name": "stdout",
     "output_type": "stream",
     "text": [
      "Submitted batch job 1944976\n"
     ]
    },
    {
     "name": "stderr",
     "output_type": "stream",
     "text": [
      "sbatch: Single-node jobs run on a shared node by default. Add --exclusive if you want to use a node exclusively.\n",
      "sbatch: You will be charged for 0.25 node. A full node consists of 128 CPU cores, 983040 MiB of memory and 0 GPUs and can be shared by up to 4 jobs.\n"
     ]
    },
    {
     "name": "stdout",
     "output_type": "stream",
     "text": [
      "Submitted batch job 1944977\n"
     ]
    },
    {
     "name": "stderr",
     "output_type": "stream",
     "text": [
      "sbatch: Single-node jobs run on a shared node by default. Add --exclusive if you want to use a node exclusively.\n",
      "sbatch: You will be charged for 0.25 node. A full node consists of 128 CPU cores, 983040 MiB of memory and 0 GPUs and can be shared by up to 4 jobs.\n"
     ]
    },
    {
     "name": "stdout",
     "output_type": "stream",
     "text": [
      "Submitted batch job 1944978\n",
      "Submitted batch job 1944979\n"
     ]
    },
    {
     "name": "stderr",
     "output_type": "stream",
     "text": [
      "sbatch: Single-node jobs run on a shared node by default. Add --exclusive if you want to use a node exclusively.\n",
      "sbatch: You will be charged for 0.25 node. A full node consists of 128 CPU cores, 983040 MiB of memory and 0 GPUs and can be shared by up to 4 jobs.\n",
      "sbatch: Single-node jobs run on a shared node by default. Add --exclusive if you want to use a node exclusively.\n",
      "sbatch: You will be charged for 0.25 node. A full node consists of 128 CPU cores, 983040 MiB of memory and 0 GPUs and can be shared by up to 4 jobs.\n"
     ]
    },
    {
     "name": "stdout",
     "output_type": "stream",
     "text": [
      "Submitted batch job 1944980\n"
     ]
    },
    {
     "name": "stderr",
     "output_type": "stream",
     "text": [
      "sbatch: Single-node jobs run on a shared node by default. Add --exclusive if you want to use a node exclusively.\n",
      "sbatch: You will be charged for 0.25 node. A full node consists of 128 CPU cores, 983040 MiB of memory and 0 GPUs and can be shared by up to 4 jobs.\n"
     ]
    },
    {
     "name": "stdout",
     "output_type": "stream",
     "text": [
      "Submitted batch job 1944981\n",
      "Submitted batch job 1944982\n"
     ]
    },
    {
     "name": "stderr",
     "output_type": "stream",
     "text": [
      "sbatch: Single-node jobs run on a shared node by default. Add --exclusive if you want to use a node exclusively.\n",
      "sbatch: You will be charged for 0.25 node. A full node consists of 128 CPU cores, 983040 MiB of memory and 0 GPUs and can be shared by up to 4 jobs.\n"
     ]
    },
    {
     "name": "stdout",
     "output_type": "stream",
     "text": [
      "Submitted batch job 1944983\n"
     ]
    },
    {
     "name": "stderr",
     "output_type": "stream",
     "text": [
      "sbatch: Single-node jobs run on a shared node by default. Add --exclusive if you want to use a node exclusively.\n",
      "sbatch: You will be charged for 0.25 node. A full node consists of 128 CPU cores, 983040 MiB of memory and 0 GPUs and can be shared by up to 4 jobs.\n",
      "sbatch: Single-node jobs run on a shared node by default. Add --exclusive if you want to use a node exclusively.\n",
      "sbatch: You will be charged for 0.25 node. A full node consists of 128 CPU cores, 983040 MiB of memory and 0 GPUs and can be shared by up to 4 jobs.\n"
     ]
    },
    {
     "name": "stdout",
     "output_type": "stream",
     "text": [
      "Submitted batch job 1944985\n"
     ]
    },
    {
     "name": "stderr",
     "output_type": "stream",
     "text": [
      "sbatch: Single-node jobs run on a shared node by default. Add --exclusive if you want to use a node exclusively.\n",
      "sbatch: You will be charged for 0.25 node. A full node consists of 128 CPU cores, 983040 MiB of memory and 0 GPUs and can be shared by up to 4 jobs.\n"
     ]
    },
    {
     "name": "stdout",
     "output_type": "stream",
     "text": [
      "Submitted batch job 1944986\n"
     ]
    },
    {
     "name": "stderr",
     "output_type": "stream",
     "text": [
      "sbatch: Single-node jobs run on a shared node by default. Add --exclusive if you want to use a node exclusively.\n",
      "sbatch: You will be charged for 0.25 node. A full node consists of 128 CPU cores, 983040 MiB of memory and 0 GPUs and can be shared by up to 4 jobs.\n"
     ]
    },
    {
     "name": "stdout",
     "output_type": "stream",
     "text": [
      "Submitted batch job 1944987\n"
     ]
    },
    {
     "name": "stderr",
     "output_type": "stream",
     "text": [
      "sbatch: Single-node jobs run on a shared node by default. Add --exclusive if you want to use a node exclusively.\n",
      "sbatch: You will be charged for 0.25 node. A full node consists of 128 CPU cores, 983040 MiB of memory and 0 GPUs and can be shared by up to 4 jobs.\n"
     ]
    },
    {
     "name": "stdout",
     "output_type": "stream",
     "text": [
      "Submitted batch job 1944988\n",
      "Submitted batch job 1944989\n"
     ]
    },
    {
     "name": "stderr",
     "output_type": "stream",
     "text": [
      "sbatch: Single-node jobs run on a shared node by default. Add --exclusive if you want to use a node exclusively.\n",
      "sbatch: You will be charged for 0.25 node. A full node consists of 128 CPU cores, 983040 MiB of memory and 0 GPUs and can be shared by up to 4 jobs.\n",
      "sbatch: Single-node jobs run on a shared node by default. Add --exclusive if you want to use a node exclusively.\n",
      "sbatch: You will be charged for 0.25 node. A full node consists of 128 CPU cores, 983040 MiB of memory and 0 GPUs and can be shared by up to 4 jobs.\n"
     ]
    },
    {
     "name": "stdout",
     "output_type": "stream",
     "text": [
      "Submitted batch job 1944990\n"
     ]
    }
   ],
   "source": [
    "import pandas as pd\n",
    "\n",
    "# list_args= [[500],[1000],[2000]]+[[]]\n",
    "# list_args= [[500]]\n",
    "overwrite = True\n",
    "load_graphs = True\n",
    "num_parallel = 20\n",
    "time = \"5:00:00\"\n",
    "for index, row in analysis_folders.iterrows():\n",
    "    folder = row[\"folder_analysis\"]\n",
    "    path_time_plate_info = row[\"path_time_plate_info\"]\n",
    "    plate = row[\"Plate\"]\n",
    "    num_cpus = 32\n",
    "    if os.path.isfile(f\"{directory_targ}{path_time_plate_info}\"):\n",
    "        whole_plate_info = pd.read_json(\n",
    "            f\"{directory_targ}{path_time_plate_info}\", convert_dates=True\n",
    "        ).transpose()\n",
    "        whole_plate_info.index.name = \"t\"\n",
    "        whole_plate_info.reset_index(inplace=True)\n",
    "        run_parallel_post(\n",
    "            \"recompute_width.py\",\n",
    "            [],\n",
    "            [],\n",
    "            [directory_targ, overwrite, load_graphs],\n",
    "            whole_plate_info,\n",
    "            num_parallel,\n",
    "            time,\n",
    "            \"recompute_width\",\n",
    "            cpus=num_cpus,\n",
    "            name_job=\"recompute2\",\n",
    "            node=\"fat\",\n",
    "        )"
   ]
  },
  {
   "cell_type": "code",
   "execution_count": null,
   "id": "bd39f615-74dc-4340-aad3-ce25d9b6a880",
   "metadata": {},
   "outputs": [],
   "source": [
    "name_job = \"recompute\"\n",
    "\n",
    "list_f = [\n",
    "    get_tot_length_C,\n",
    "    get_tot_length_straight,\n",
    "    get_time_since_start,\n",
    "    get_time_since_begin_exp,\n",
    "    get_width_edge,\n",
    "    get_pos_x,\n",
    "    get_pos_y,\n",
    "]\n",
    "list_args = [{}] * len(list_f)\n",
    "# list_args= [[500],[1000],[2000]]+[[]]\n",
    "# list_args= [[500]]\n",
    "overwrite = True\n",
    "load_graphs = True\n",
    "num_parallel = 32\n",
    "time = \"3:00:00\"\n",
    "for index, row in analysis_folders.iterrows():\n",
    "    folder = row[\"folder_analysis\"]\n",
    "    path_time_plate_info = row[\"path_time_plate_info\"]\n",
    "    plate = row[\"Plate\"]\n",
    "    num_cpus = 32\n",
    "    if os.path.isfile(f\"{directory_targ}{path_time_plate_info}\"):\n",
    "        whole_plate_info = pd.read_json(\n",
    "            f\"{directory_targ}{path_time_plate_info}\", convert_dates=True\n",
    "        ).transpose()\n",
    "        whole_plate_info.index.name = \"t\"\n",
    "        whole_plate_info.reset_index(inplace=True)\n",
    "        run_parallel_post(\n",
    "            \"time_edge_post_process.py\",\n",
    "            list_f,\n",
    "            list_args,\n",
    "            [directory_targ, overwrite, load_graphs],\n",
    "            whole_plate_info,\n",
    "            num_parallel,\n",
    "            time,\n",
    "            \"edge_post_process\",\n",
    "            cpus=num_cpus,\n",
    "            name_job=name_job,\n",
    "            node=\"fat\",\n",
    "        )\n",
    "        # break"
   ]
  },
  {
   "cell_type": "code",
   "execution_count": 10,
   "id": "8f240ff2-537b-4111-85f9-f9cc33829b48",
   "metadata": {
    "collapsed": true,
    "jupyter": {
     "outputs_hidden": true
    },
    "tags": []
   },
   "outputs": [
    {
     "data": {
      "text/html": [
       "<div>\n",
       "<style scoped>\n",
       "    .dataframe tbody tr th:only-of-type {\n",
       "        vertical-align: middle;\n",
       "    }\n",
       "\n",
       "    .dataframe tbody tr th {\n",
       "        vertical-align: top;\n",
       "    }\n",
       "\n",
       "    .dataframe thead th {\n",
       "        text-align: right;\n",
       "    }\n",
       "</style>\n",
       "<table border=\"1\" class=\"dataframe\">\n",
       "  <thead>\n",
       "    <tr style=\"text-align: right;\">\n",
       "      <th></th>\n",
       "      <th>total_path</th>\n",
       "      <th>Plate</th>\n",
       "      <th>PrincePos</th>\n",
       "      <th>root</th>\n",
       "      <th>strain</th>\n",
       "      <th>medium</th>\n",
       "      <th>split</th>\n",
       "      <th>Pbait</th>\n",
       "      <th>CrossDate</th>\n",
       "      <th>Temperature</th>\n",
       "      <th>...</th>\n",
       "      <th>/Analysis/transform_corrupt.mat</th>\n",
       "      <th>/Analysis/skeleton_realigned_compressed.mat</th>\n",
       "      <th>/Analysis/nx_graph_pruned.p</th>\n",
       "      <th>/Analysis/nx_graph_pruned_width.p</th>\n",
       "      <th>/Analysis/nx_graph_pruned_labeled.p</th>\n",
       "      <th>date</th>\n",
       "      <th>folder</th>\n",
       "      <th>Temp</th>\n",
       "      <th>unique_id</th>\n",
       "      <th>datetime</th>\n",
       "    </tr>\n",
       "  </thead>\n",
       "  <tbody>\n",
       "    <tr>\n",
       "      <th>783</th>\n",
       "      <td>/projects/0/einf914/data/20220506_2350_Plate03</td>\n",
       "      <td>1048</td>\n",
       "      <td>3</td>\n",
       "      <td>'Carrot'</td>\n",
       "      <td>'C2'</td>\n",
       "      <td>'001P100N100C'</td>\n",
       "      <td>'Y'</td>\n",
       "      <td>'-'</td>\n",
       "      <td>20220506</td>\n",
       "      <td>25</td>\n",
       "      <td>...</td>\n",
       "      <td>False</td>\n",
       "      <td>True</td>\n",
       "      <td>True</td>\n",
       "      <td>True</td>\n",
       "      <td>True</td>\n",
       "      <td>06.05.2022, 23:50:</td>\n",
       "      <td>20220506_2350_Plate03</td>\n",
       "      <td>NaN</td>\n",
       "      <td>1048_20220506</td>\n",
       "      <td>2022-05-06 23:50:00</td>\n",
       "    </tr>\n",
       "    <tr>\n",
       "      <th>552</th>\n",
       "      <td>/projects/0/einf914/data/20220507_0150_Plate03</td>\n",
       "      <td>1048</td>\n",
       "      <td>3</td>\n",
       "      <td>'Carrot'</td>\n",
       "      <td>'C2'</td>\n",
       "      <td>'001P100N100C'</td>\n",
       "      <td>'Y'</td>\n",
       "      <td>'-'</td>\n",
       "      <td>20220506</td>\n",
       "      <td>25</td>\n",
       "      <td>...</td>\n",
       "      <td>False</td>\n",
       "      <td>True</td>\n",
       "      <td>True</td>\n",
       "      <td>True</td>\n",
       "      <td>True</td>\n",
       "      <td>07.05.2022, 01:50:</td>\n",
       "      <td>20220507_0150_Plate03</td>\n",
       "      <td>NaN</td>\n",
       "      <td>1048_20220506</td>\n",
       "      <td>2022-05-07 01:50:00</td>\n",
       "    </tr>\n",
       "    <tr>\n",
       "      <th>3050</th>\n",
       "      <td>/projects/0/einf914/data/20220507_0350_Plate03</td>\n",
       "      <td>1048</td>\n",
       "      <td>3</td>\n",
       "      <td>'Carrot'</td>\n",
       "      <td>'C2'</td>\n",
       "      <td>'001P100N100C'</td>\n",
       "      <td>'Y'</td>\n",
       "      <td>'-'</td>\n",
       "      <td>20220506</td>\n",
       "      <td>25</td>\n",
       "      <td>...</td>\n",
       "      <td>False</td>\n",
       "      <td>True</td>\n",
       "      <td>True</td>\n",
       "      <td>True</td>\n",
       "      <td>True</td>\n",
       "      <td>07.05.2022, 03:50:</td>\n",
       "      <td>20220507_0350_Plate03</td>\n",
       "      <td>NaN</td>\n",
       "      <td>1048_20220506</td>\n",
       "      <td>2022-05-07 03:50:00</td>\n",
       "    </tr>\n",
       "    <tr>\n",
       "      <th>3156</th>\n",
       "      <td>/projects/0/einf914/data/20220507_0550_Plate03</td>\n",
       "      <td>1048</td>\n",
       "      <td>3</td>\n",
       "      <td>'Carrot'</td>\n",
       "      <td>'C2'</td>\n",
       "      <td>'001P100N100C'</td>\n",
       "      <td>'Y'</td>\n",
       "      <td>'-'</td>\n",
       "      <td>20220506</td>\n",
       "      <td>25</td>\n",
       "      <td>...</td>\n",
       "      <td>False</td>\n",
       "      <td>True</td>\n",
       "      <td>True</td>\n",
       "      <td>True</td>\n",
       "      <td>True</td>\n",
       "      <td>07.05.2022, 05:50:</td>\n",
       "      <td>20220507_0550_Plate03</td>\n",
       "      <td>NaN</td>\n",
       "      <td>1048_20220506</td>\n",
       "      <td>2022-05-07 05:50:00</td>\n",
       "    </tr>\n",
       "    <tr>\n",
       "      <th>2150</th>\n",
       "      <td>/projects/0/einf914/data/20220507_0750_Plate03</td>\n",
       "      <td>1048</td>\n",
       "      <td>3</td>\n",
       "      <td>'Carrot'</td>\n",
       "      <td>'C2'</td>\n",
       "      <td>'001P100N100C'</td>\n",
       "      <td>'Y'</td>\n",
       "      <td>'-'</td>\n",
       "      <td>20220506</td>\n",
       "      <td>25</td>\n",
       "      <td>...</td>\n",
       "      <td>False</td>\n",
       "      <td>True</td>\n",
       "      <td>True</td>\n",
       "      <td>True</td>\n",
       "      <td>True</td>\n",
       "      <td>07.05.2022, 07:50:</td>\n",
       "      <td>20220507_0750_Plate03</td>\n",
       "      <td>NaN</td>\n",
       "      <td>1048_20220506</td>\n",
       "      <td>2022-05-07 07:50:00</td>\n",
       "    </tr>\n",
       "    <tr>\n",
       "      <th>...</th>\n",
       "      <td>...</td>\n",
       "      <td>...</td>\n",
       "      <td>...</td>\n",
       "      <td>...</td>\n",
       "      <td>...</td>\n",
       "      <td>...</td>\n",
       "      <td>...</td>\n",
       "      <td>...</td>\n",
       "      <td>...</td>\n",
       "      <td>...</td>\n",
       "      <td>...</td>\n",
       "      <td>...</td>\n",
       "      <td>...</td>\n",
       "      <td>...</td>\n",
       "      <td>...</td>\n",
       "      <td>...</td>\n",
       "      <td>...</td>\n",
       "      <td>...</td>\n",
       "      <td>...</td>\n",
       "      <td>...</td>\n",
       "      <td>...</td>\n",
       "    </tr>\n",
       "    <tr>\n",
       "      <th>2323</th>\n",
       "      <td>/projects/0/einf914/data/20220619_1118_Plate30</td>\n",
       "      <td>1048</td>\n",
       "      <td>30</td>\n",
       "      <td>'Carrot'</td>\n",
       "      <td>'C2'</td>\n",
       "      <td>'001P100N100C'</td>\n",
       "      <td>'Y'</td>\n",
       "      <td>'-'</td>\n",
       "      <td>20220506</td>\n",
       "      <td>25</td>\n",
       "      <td>...</td>\n",
       "      <td>False</td>\n",
       "      <td>True</td>\n",
       "      <td>True</td>\n",
       "      <td>True</td>\n",
       "      <td>True</td>\n",
       "      <td>19.06.2022, 11:18:</td>\n",
       "      <td>20220619_1118_Plate30</td>\n",
       "      <td>NaN</td>\n",
       "      <td>1048_20220506</td>\n",
       "      <td>2022-06-19 11:18:00</td>\n",
       "    </tr>\n",
       "    <tr>\n",
       "      <th>827</th>\n",
       "      <td>/projects/0/einf914/data/20220619_1718_Plate30</td>\n",
       "      <td>1048</td>\n",
       "      <td>30</td>\n",
       "      <td>'Carrot'</td>\n",
       "      <td>'C2'</td>\n",
       "      <td>'001P100N100C'</td>\n",
       "      <td>'Y'</td>\n",
       "      <td>'-'</td>\n",
       "      <td>20220506</td>\n",
       "      <td>25</td>\n",
       "      <td>...</td>\n",
       "      <td>False</td>\n",
       "      <td>True</td>\n",
       "      <td>True</td>\n",
       "      <td>True</td>\n",
       "      <td>True</td>\n",
       "      <td>19.06.2022, 17:18:</td>\n",
       "      <td>20220619_1718_Plate30</td>\n",
       "      <td>NaN</td>\n",
       "      <td>1048_20220506</td>\n",
       "      <td>2022-06-19 17:18:00</td>\n",
       "    </tr>\n",
       "    <tr>\n",
       "      <th>939</th>\n",
       "      <td>/projects/0/einf914/data/20220619_2318_Plate30</td>\n",
       "      <td>1048</td>\n",
       "      <td>30</td>\n",
       "      <td>'Carrot'</td>\n",
       "      <td>'C2'</td>\n",
       "      <td>'001P100N100C'</td>\n",
       "      <td>'Y'</td>\n",
       "      <td>'-'</td>\n",
       "      <td>20220506</td>\n",
       "      <td>25</td>\n",
       "      <td>...</td>\n",
       "      <td>False</td>\n",
       "      <td>True</td>\n",
       "      <td>True</td>\n",
       "      <td>True</td>\n",
       "      <td>True</td>\n",
       "      <td>19.06.2022, 23:18:</td>\n",
       "      <td>20220619_2318_Plate30</td>\n",
       "      <td>NaN</td>\n",
       "      <td>1048_20220506</td>\n",
       "      <td>2022-06-19 23:18:00</td>\n",
       "    </tr>\n",
       "    <tr>\n",
       "      <th>1275</th>\n",
       "      <td>/projects/0/einf914/data/20220620_0518_Plate30</td>\n",
       "      <td>1048</td>\n",
       "      <td>30</td>\n",
       "      <td>'Carrot'</td>\n",
       "      <td>'C2'</td>\n",
       "      <td>'001P100N100C'</td>\n",
       "      <td>'Y'</td>\n",
       "      <td>'-'</td>\n",
       "      <td>20220506</td>\n",
       "      <td>25</td>\n",
       "      <td>...</td>\n",
       "      <td>False</td>\n",
       "      <td>True</td>\n",
       "      <td>True</td>\n",
       "      <td>True</td>\n",
       "      <td>True</td>\n",
       "      <td>20.06.2022, 05:18:</td>\n",
       "      <td>20220620_0518_Plate30</td>\n",
       "      <td>NaN</td>\n",
       "      <td>1048_20220506</td>\n",
       "      <td>2022-06-20 05:18:00</td>\n",
       "    </tr>\n",
       "    <tr>\n",
       "      <th>2116</th>\n",
       "      <td>/projects/0/einf914/data/20220621_0928_Plate30</td>\n",
       "      <td>1048</td>\n",
       "      <td>30</td>\n",
       "      <td>'Carrot'</td>\n",
       "      <td>'C2'</td>\n",
       "      <td>'001P100N100C'</td>\n",
       "      <td>'Y'</td>\n",
       "      <td>'-'</td>\n",
       "      <td>20220506</td>\n",
       "      <td>25</td>\n",
       "      <td>...</td>\n",
       "      <td>False</td>\n",
       "      <td>True</td>\n",
       "      <td>True</td>\n",
       "      <td>True</td>\n",
       "      <td>True</td>\n",
       "      <td>21.06.2022, 09:28:</td>\n",
       "      <td>20220621_0928_Plate30</td>\n",
       "      <td>NaN</td>\n",
       "      <td>1048_20220506</td>\n",
       "      <td>2022-06-21 09:28:00</td>\n",
       "    </tr>\n",
       "  </tbody>\n",
       "</table>\n",
       "<p>275 rows × 25 columns</p>\n",
       "</div>"
      ],
      "text/plain": [
       "                                          total_path Plate PrincePos  \\\n",
       "783   /projects/0/einf914/data/20220506_2350_Plate03  1048         3   \n",
       "552   /projects/0/einf914/data/20220507_0150_Plate03  1048         3   \n",
       "3050  /projects/0/einf914/data/20220507_0350_Plate03  1048         3   \n",
       "3156  /projects/0/einf914/data/20220507_0550_Plate03  1048         3   \n",
       "2150  /projects/0/einf914/data/20220507_0750_Plate03  1048         3   \n",
       "...                                              ...   ...       ...   \n",
       "2323  /projects/0/einf914/data/20220619_1118_Plate30  1048        30   \n",
       "827   /projects/0/einf914/data/20220619_1718_Plate30  1048        30   \n",
       "939   /projects/0/einf914/data/20220619_2318_Plate30  1048        30   \n",
       "1275  /projects/0/einf914/data/20220620_0518_Plate30  1048        30   \n",
       "2116  /projects/0/einf914/data/20220621_0928_Plate30  1048        30   \n",
       "\n",
       "          root strain          medium split Pbait CrossDate Temperature  ...  \\\n",
       "783   'Carrot'   'C2'  '001P100N100C'   'Y'   '-'  20220506          25  ...   \n",
       "552   'Carrot'   'C2'  '001P100N100C'   'Y'   '-'  20220506          25  ...   \n",
       "3050  'Carrot'   'C2'  '001P100N100C'   'Y'   '-'  20220506          25  ...   \n",
       "3156  'Carrot'   'C2'  '001P100N100C'   'Y'   '-'  20220506          25  ...   \n",
       "2150  'Carrot'   'C2'  '001P100N100C'   'Y'   '-'  20220506          25  ...   \n",
       "...        ...    ...             ...   ...   ...       ...         ...  ...   \n",
       "2323  'Carrot'   'C2'  '001P100N100C'   'Y'   '-'  20220506          25  ...   \n",
       "827   'Carrot'   'C2'  '001P100N100C'   'Y'   '-'  20220506          25  ...   \n",
       "939   'Carrot'   'C2'  '001P100N100C'   'Y'   '-'  20220506          25  ...   \n",
       "1275  'Carrot'   'C2'  '001P100N100C'   'Y'   '-'  20220506          25  ...   \n",
       "2116  'Carrot'   'C2'  '001P100N100C'   'Y'   '-'  20220506          25  ...   \n",
       "\n",
       "     /Analysis/transform_corrupt.mat  \\\n",
       "783                            False   \n",
       "552                            False   \n",
       "3050                           False   \n",
       "3156                           False   \n",
       "2150                           False   \n",
       "...                              ...   \n",
       "2323                           False   \n",
       "827                            False   \n",
       "939                            False   \n",
       "1275                           False   \n",
       "2116                           False   \n",
       "\n",
       "     /Analysis/skeleton_realigned_compressed.mat /Analysis/nx_graph_pruned.p  \\\n",
       "783                                         True                        True   \n",
       "552                                         True                        True   \n",
       "3050                                        True                        True   \n",
       "3156                                        True                        True   \n",
       "2150                                        True                        True   \n",
       "...                                          ...                         ...   \n",
       "2323                                        True                        True   \n",
       "827                                         True                        True   \n",
       "939                                         True                        True   \n",
       "1275                                        True                        True   \n",
       "2116                                        True                        True   \n",
       "\n",
       "     /Analysis/nx_graph_pruned_width.p /Analysis/nx_graph_pruned_labeled.p  \\\n",
       "783                               True                                True   \n",
       "552                               True                                True   \n",
       "3050                              True                                True   \n",
       "3156                              True                                True   \n",
       "2150                              True                                True   \n",
       "...                                ...                                 ...   \n",
       "2323                              True                                True   \n",
       "827                               True                                True   \n",
       "939                               True                                True   \n",
       "1275                              True                                True   \n",
       "2116                              True                                True   \n",
       "\n",
       "                    date                 folder Temp      unique_id  \\\n",
       "783   06.05.2022, 23:50:  20220506_2350_Plate03  NaN  1048_20220506   \n",
       "552   07.05.2022, 01:50:  20220507_0150_Plate03  NaN  1048_20220506   \n",
       "3050  07.05.2022, 03:50:  20220507_0350_Plate03  NaN  1048_20220506   \n",
       "3156  07.05.2022, 05:50:  20220507_0550_Plate03  NaN  1048_20220506   \n",
       "2150  07.05.2022, 07:50:  20220507_0750_Plate03  NaN  1048_20220506   \n",
       "...                  ...                    ...  ...            ...   \n",
       "2323  19.06.2022, 11:18:  20220619_1118_Plate30  NaN  1048_20220506   \n",
       "827   19.06.2022, 17:18:  20220619_1718_Plate30  NaN  1048_20220506   \n",
       "939   19.06.2022, 23:18:  20220619_2318_Plate30  NaN  1048_20220506   \n",
       "1275  20.06.2022, 05:18:  20220620_0518_Plate30  NaN  1048_20220506   \n",
       "2116  21.06.2022, 09:28:  20220621_0928_Plate30  NaN  1048_20220506   \n",
       "\n",
       "                datetime  \n",
       "783  2022-05-06 23:50:00  \n",
       "552  2022-05-07 01:50:00  \n",
       "3050 2022-05-07 03:50:00  \n",
       "3156 2022-05-07 05:50:00  \n",
       "2150 2022-05-07 07:50:00  \n",
       "...                  ...  \n",
       "2323 2022-06-19 11:18:00  \n",
       "827  2022-06-19 17:18:00  \n",
       "939  2022-06-19 23:18:00  \n",
       "1275 2022-06-20 05:18:00  \n",
       "2116 2022-06-21 09:28:00  \n",
       "\n",
       "[275 rows x 25 columns]"
      ]
     },
     "execution_count": 10,
     "metadata": {},
     "output_type": "execute_result"
    }
   ],
   "source": [
    "folders = folders.sort_values(by=\"datetime\")\n",
    "folders"
   ]
  },
  {
   "cell_type": "code",
   "execution_count": 11,
   "id": "2a044c82-a47c-4fc6-bdb6-f6326ce33fa5",
   "metadata": {},
   "outputs": [
    {
     "name": "stderr",
     "output_type": "stream",
     "text": [
      "/gpfs/home2/cbisot/pycode/AMFtrack/amftrack/pipeline/functions/image_processing/experiment_class_surf.py:104: SettingWithCopyWarning: \n",
      "A value is trying to be set on a copy of a slice from a DataFrame.\n",
      "Try using .loc[row_indexer,col_indexer] = value instead\n",
      "\n",
      "See the caveats in the documentation: https://pandas.pydata.org/pandas-docs/stable/user_guide/indexing.html#returning-a-view-versus-a-copy\n",
      "  self.folders[\"date\"], format=\"%d.%m.%Y, %H:%M:\"\n"
     ]
    },
    {
     "name": "stdout",
     "output_type": "stream",
     "text": [
      "2022-05-06 23:50:00\n",
      "2022-05-09 15:39:00\n",
      "2022-05-12 05:07:00\n",
      "2022-05-14 17:52:00\n",
      "2022-05-17 06:14:00\n",
      "2022-05-20 10:38:00\n",
      "2022-05-24 23:55:00\n"
     ]
    }
   ],
   "source": [
    "exp = Experiment(directory_targ)\n",
    "exp.load(folders[:200:30])\n",
    "exp.dates.sort()"
   ]
  },
  {
   "cell_type": "code",
   "execution_count": 12,
   "id": "df04d654-5d9a-4dee-b100-7661ba58551a",
   "metadata": {},
   "outputs": [],
   "source": [
    "for t in range(exp.ts):\n",
    "    exp.load_tile_information(t)"
   ]
  },
  {
   "cell_type": "code",
   "execution_count": 13,
   "id": "b2e9c347-6b39-4ef4-8d09-e9a0d211a125",
   "metadata": {},
   "outputs": [],
   "source": [
    "for t in range(exp.ts):\n",
    "    exp.load_tile_information(t)\n",
    "\n",
    "load_graphs(exp, directory_targ, post_process=True)"
   ]
  },
  {
   "cell_type": "code",
   "execution_count": null,
   "id": "297a8254-9b0c-40ef-bdc5-e51c08f111ac",
   "metadata": {},
   "outputs": [],
   "source": [
    "t = 0\n",
    "plot_edge_width(exp, t, lambda edge: edge.width(t), dilation=20)"
   ]
  },
  {
   "cell_type": "code",
   "execution_count": 15,
   "id": "cc12e90d-8cb4-45b1-a232-14fb610ca7a7",
   "metadata": {
    "tags": []
   },
   "outputs": [
    {
     "name": "stdout",
     "output_type": "stream",
     "text": [
      "True\n"
     ]
    }
   ],
   "source": [
    "import networkx as nx\n",
    "\n",
    "resolution = 50\n",
    "skip = False\n",
    "for t in range(exp.ts)[:1]:\n",
    "    (G, pos) = exp.nx_graph[t], exp.positions[t]\n",
    "    edge_test = get_width_info_new(exp, t, resolution=resolution, skip=skip)\n",
    "    nx.set_edge_attributes(G, edge_test, \"width\")\n",
    "    exp.nx_graph[t] = G"
   ]
  },
  {
   "cell_type": "code",
   "execution_count": 16,
   "id": "f9ce54bf-bb1f-49c7-a9ca-daa5c6aeeafe",
   "metadata": {},
   "outputs": [
    {
     "name": "stdout",
     "output_type": "stream",
     "text": [
      "2022-05-06 23:50:00 True\n",
      "2022-05-09 15:39:00 True\n",
      "2022-05-12 05:07:00 True\n",
      "2022-05-14 17:52:00 True\n",
      "2022-05-17 06:14:00 True\n",
      "2022-05-20 10:38:00 True\n",
      "2022-05-24 23:55:00 True\n"
     ]
    }
   ],
   "source": [
    "save_graphs(exp)"
   ]
  },
  {
   "cell_type": "code",
   "execution_count": null,
   "id": "725ac4b5-67ec-4420-bb7c-f599eb83f4d1",
   "metadata": {},
   "outputs": [],
   "source": [
    "t = 2\n",
    "intervals = [[1, 3], [3, 4], [4, 5], [5, 6], [6, 7], [7, 9]]\n",
    "\n",
    "plot_edge_width(exp, t, lambda edge: edge.width(t), dilation=20, intervals=intervals)"
   ]
  }
 ],
 "metadata": {
  "kernelspec": {
   "display_name": "Python 3 (ipykernel)",
   "language": "python",
   "name": "python3"
  },
  "language_info": {
   "codemirror_mode": {
    "name": "ipython",
    "version": 3
   },
   "file_extension": ".py",
   "mimetype": "text/x-python",
   "name": "python",
   "nbconvert_exporter": "python",
   "pygments_lexer": "ipython3",
   "version": "3.7.13"
  }
 },
 "nbformat": 4,
 "nbformat_minor": 5
}

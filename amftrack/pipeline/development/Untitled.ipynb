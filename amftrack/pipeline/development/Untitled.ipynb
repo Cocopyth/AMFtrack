{
 "cells": [
  {
   "cell_type": "code",
   "execution_count": null,
   "metadata": {},
   "outputs": [],
   "source": [
    "plate = 15\n",
    "print(\"Plate   #\", plate_number)\n",
    "print(\"Position \", plate)\n",
    "directory = directory_scratch\n",
    "# directory = directory_project\n",
    "listdir = os.listdir(directory)\n",
    "list_dir_interest = [\n",
    "    name\n",
    "    for name in listdir\n",
    "    if name.split(\"_\")[-1] == f'Plate{0 if plate<10 else \"\"}{plate}'\n",
    "]"
   ]
  }
 ],
 "metadata": {
  "kernelspec": {
   "display_name": "Python 3",
   "language": "python",
   "name": "python3"
  },
  "language_info": {
   "codemirror_mode": {
    "name": "ipython",
    "version": 3
   },
   "file_extension": ".py",
   "mimetype": "text/x-python",
   "name": "python",
   "nbconvert_exporter": "python",
   "pygments_lexer": "ipython3",
   "version": "3.7.7"
  }
 },
 "nbformat": 4,
 "nbformat_minor": 4
}

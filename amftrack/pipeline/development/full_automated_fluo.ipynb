{
 "cells": [
  {
   "cell_type": "code",
   "execution_count": null,
   "id": "299d291e",
   "metadata": {
    "pycharm": {
     "is_executing": true,
     "name": "#%%\n"
    }
   },
   "outputs": [],
   "source": [
    "import os\n",
    "import imageio.v2 as imageio\n",
    "import matplotlib.pyplot as plt\n",
    "import cv2\n",
    "%matplotlib widget\n",
    "%load_ext autoreload\n",
    "%autoreload 2\n",
    "from amftrack.pipeline.functions.image_processing.extract_graph import (\n",
    "    from_sparse_to_graph,\n",
    "    generate_nx_graph,\n",
    "    clean_degree_4,\n",
    ")\n",
    "import scipy\n",
    "from amftrack.pipeline.functions.image_processing.node_id import remove_spurs\n",
    "from amftrack.pipeline.functions.image_processing.extract_skel import remove_component, remove_holes\n",
    "import numpy as np\n",
    "from amftrack.pipeline.development.high_mag_videos.high_mag_videos_fun import *\n",
    "from scipy import signal\n",
    "from amftrack.pipeline.functions.image_processing.extract_skel import (\n",
    "    extract_skel_new_prince,\n",
    "    run_back_sub,\n",
    "    bowler_hat,\n",
    ")\n",
    "from scipy.interpolate import griddata\n",
    "import time\n",
    "\n",
    "from skimage.morphology import skeletonize\n",
    "from amftrack.util.sys import temp_path\n",
    "import pandas as pd\n",
    "from PIL import Image\n",
    "from scipy.optimize import curve_fit\n",
    "from amftrack.pipeline.functions.image_processing.extract_skel import (\n",
    "    extract_skel_new_prince,\n",
    "    run_back_sub,\n",
    "    bowler_hat,\n",
    ")\n",
    "\n"
   ]
  },
  {
   "cell_type": "code",
   "execution_count": null,
   "id": "7fc8874e",
   "metadata": {
    "pycharm": {
     "name": "#%%\n"
    }
   },
   "outputs": [],
   "source": [
    "\n",
    "images_path = r\"E:/AMOLF_Data/Plate_videos/20221109_Plate462_05\"\n",
    "# images_path = r\"/mnt/sun/home-folder/cargill/20221109_Plate462/20221109_Plate462_006\"\n",
    "fps = 20\n",
    "time_pixel_size = 1/fps #s.pixel\n",
    "binning = 2\n",
    "magnification = 50\n",
    "space_pixel_size = 2*1.725/(magnification)*binning #um.pixel\n",
    "video_name = images_path.split('/')[-1]\n",
    "kymos_path = '/'.join(images_path.split('/')[:-1]+[\"_\".join((video_name,'kymos'))])\n",
    "if not os.path.exists(kymos_path):\n",
    "    os.mkdir(kymos_path)\n",
    "files = os.listdir(images_path)\n",
    "images_total_path = [os.path.join(images_path,file) for file in files]\n",
    "images_total_path.sort()\n",
    "\n"
   ]
  },
  {
   "cell_type": "code",
   "execution_count": null,
   "id": "64c3e3aa",
   "metadata": {
    "pycharm": {
     "name": "#%%\n"
    }
   },
   "outputs": [],
   "source": [
    "\n",
    "selection_file = images_total_path\n",
    "selection_file.sort()\n",
    "begin  = 1\n",
    "end = -1\n",
    "image = imageio.imread(selection_file[end])\n",
    "image2 = imageio.imread(selection_file[begin])\n",
    "selection_file = selection_file[begin:end]\n",
    "\n",
    "fig, ax = plt.subplots()\n",
    "ax.imshow(image,cmap=\"gray\")\n",
    "ax.imshow(image2,alpha = 0.5)\n",
    "\n",
    "\n",
    "segmented,nx_graph_pruned,pos = segment_fluo(image,thresh = 5e-07)\n",
    "fig, ax = plt.subplots()\n",
    "ax.imshow(segmented,cmap=\"gray\")\n",
    "\n",
    "fig, ax = plt.subplots()\n",
    "ax.imshow(image)\n",
    "weight = 0.05\n",
    "for edge in list(nx_graph_pruned.edges):\n",
    "    ax.text(*np.flip((1-weight) * pos[edge[0]]+weight*pos[edge[1]]),str(edge[0]),color=\"white\")\n",
    "    ax.text(*np.flip((1-weight) * pos[edge[1]]+weight*pos[edge[0]]),str(edge[1]),color=\"white\")\n",
    "\n",
    "edges = list(nx_graph_pruned.edges)\n",
    "edge_oriented = []\n",
    "for edge in edges:\n",
    "    if pos[edge[0]][0]>pos[edge[1]][0]:\n",
    "        edge_oriented.append(edge)\n",
    "    else:\n",
    "        edge_oriented.append((edge[1],edge[0]))\n",
    "edges = edge_oriented\n",
    "\n",
    "edge_oriented\n",
    "\n",
    "np.linalg.norm(pos[edge[0]]-pos[edge[1]])\n",
    "\n",
    "fig, ax = plt.subplots()\n",
    "ax.imshow(image)\n"
   ]
  },
  {
   "cell_type": "code",
   "execution_count": null,
   "id": "b2b1de99",
   "metadata": {
    "pycharm": {
     "name": "#%%\n"
    }
   },
   "outputs": [],
   "source": [
    "bound1 = 0\n",
    "bound2 = 1\n",
    "step=30\n",
    "target_length=130\n",
    "resolution = 1\n",
    "for edge in edges:\n",
    "    offset=int(np.linalg.norm(pos[edge[0]]-pos[edge[1]]))//4\n",
    "    slices, segments = extract_section_profiles_for_edge(\n",
    "    edge,\n",
    "    pos,\n",
    "    image,\n",
    "    nx_graph_pruned,\n",
    "    resolution=resolution,\n",
    "    offset=offset,\n",
    "    step=step,\n",
    "    target_length=target_length,\n",
    "    bound1=bound1,\n",
    "    bound2=bound2\n",
    ")\n",
    "    # plot_segments_on_image(segments,ax,color=None)\n",
    "    plot_segments_on_image(segments,ax, bound1=bound1,\n",
    "    bound2=bound2,color = 'white',alpha = 0.1)\n",
    "    ax.plot([pos[edge[0]][1],pos[edge[1]][1]],[pos[edge[0]][0],pos[edge[1]][0]])\n",
    "    ax.text(*np.flip((1-weight) * pos[edge[0]]+weight*pos[edge[1]]),str(edge[0]),color=\"white\")\n",
    "    ax.text(*np.flip((1-weight) * pos[edge[1]]+weight*pos[edge[0]]),str(edge[1]),color=\"white\")\n",
    "save_path_temp = os.path.join(kymos_path, f\"extraction.png\")\n",
    "plt.savefig(save_path_temp)\n"
   ]
  },
  {
   "cell_type": "code",
   "execution_count": null,
   "id": "d155f4f8",
   "metadata": {
    "pycharm": {
     "name": "#%%\n"
    }
   },
   "outputs": [],
   "source": [
    "kymos = {edge:get_kymo_new(edge,pos,selection_file,nx_graph_pruned, resolution=1,\n",
    "    offset=offset,\n",
    "    step=step,\n",
    "    target_length=target_length,\n",
    "    bound1=bound1,\n",
    "    bound2=bound2) for edge in edges}\n",
    "\n",
    "for kymo in kymos:\n",
    "    print(kymo[0])\n"
   ]
  },
  {
   "cell_type": "code",
   "execution_count": null,
   "id": "4db46058",
   "metadata": {
    "pycharm": {
     "name": "#%%\n"
    }
   },
   "outputs": [],
   "source": [
    "\n",
    "filtered_kymos = {edge: filter_kymo(kymos[edge]) for edge in edges}\n",
    "speeds = {}\n",
    "for edge in kymos.keys():\n",
    "    kymo = kymos[edge]\n",
    "    save_path_temp = os.path.join(kymos_path, f\"{edge}kymo.npy\")\n",
    "    np.save(save_path_temp,kymo)\n",
    "    im = Image.fromarray(kymo.astype(np.uint8))\n",
    "    save_path_temp = os.path.join(kymos_path, f\"{edge}kymo.png\")\n",
    "    im.save(save_path_temp)\n",
    "\n",
    "for edge in kymos.keys():\n",
    "    for i in [0,1]:\n",
    "        kymo = filtered_kymos[edge][i]\n",
    "        suffix = 'right' if i==0 else \"left\"\n",
    "        save_path_temp = os.path.join(kymos_path, f\"{edge}kymo_{suffix}.npy\")\n",
    "        np.save(save_path_temp,kymo)\n",
    "        im = Image.fromarray(((kymo-np.min(kymo))/np.max(kymo)*128).astype(np.uint8))\n",
    "        save_path_temp = os.path.join(kymos_path, f\"{edge}kymo_{suffix}.png\")\n",
    "        im.save(save_path_temp)\n",
    "\n",
    "        "
   ]
  },
  {
   "cell_type": "code",
   "execution_count": null,
   "id": "3203252a",
   "metadata": {},
   "outputs": [],
   "source": [
    "\n",
    "fig, ax = plt.subplots()\n",
    "speed_dataframe = pd.DataFrame()\n",
    "for j,edge in enumerate(edges):\n",
    "    for i in [0,1]:\n",
    "        kymo = filter_kymo(kymos[edge])[i]\n",
    "        W = int(5/space_pixel_size)          # window size is WxW\n",
    "        W = 3\n",
    "        C_Thr = 0.95\n",
    "        imgCoherency, imgOrientation = calcGST(kymo, W)\n",
    "        nans = np.empty(imgOrientation.shape)\n",
    "        nans.fill(np.nan)\n",
    "        real_movement = np.where(imgCoherency>C_Thr,imgOrientation,nans)\n",
    "        speed=np.tan((real_movement-90)/180*np.pi)*space_pixel_size/time_pixel_size #um.s-1\n",
    "        nans = np.empty(speed.shape)\n",
    "        nans.fill(np.nan)\n",
    "        speed = np.where(speed<20,speed,nans)\n",
    "        nans = np.empty(speed.shape)\n",
    "        nans.fill(np.nan)\n",
    "        speed = np.where(speed>-20,speed,nans)\n",
    "        # # ax.imshow((imgCoherency))\n",
    "        klen = 25\n",
    "        kernel = np.ones((klen,klen))/klen**2\n",
    "        z1 = scipy.signal.convolve2d(imgCoherency, kernel,mode = \"same\")\n",
    "        nans = np.empty(speed.shape)\n",
    "        nans.fill(np.nan)\n",
    "        speed = np.where(z1>0.8,speed,nans)\n",
    "        label =edge if i==0 else None\n",
    "        times = np.array(range(len(np.mean(speed,axis=1))))*time_pixel_size\n",
    "        speeds = np.nanmean(speed,axis=1)\n",
    "        edges_list = [edge for k in range(len(speeds))]\n",
    "        direction = [\"root\" if i==0 else 'tip' for k in range(len(speeds))]\n",
    "        \n",
    "        \n",
    "        \n",
    "        \n",
    "        data = pd.DataFrame(np.transpose((times,speeds,edges_list,direction)),\n",
    "                     columns = ['time (s)','speed (um.s-1)','edge','direction'])\n",
    "        speed_dataframe = pd.concat((speed_dataframe,data))\n",
    "        p = ax.plot(times,speeds,label =edge if i==0 else None,color=None if i==0 else color)\n",
    "        color = p[0].get_color()\n",
    "        ax.set_ylabel('speed($\\mu m.s^{-1}$)')\n",
    "        ax.set_xlabel('time ($s$)')\n",
    "save_path_temp = os.path.join(kymos_path, f\"speed_data.csv\")\n",
    "speed_dataframe.to_csv(save_path_temp)\n",
    "plt.legend()\n",
    "plt.tight_layout()\n"
   ]
  }
 ],
 "metadata": {
  "kernelspec": {
   "display_name": "Python 3 (ipykernel)",
   "language": "python",
   "name": "python3"
  },
  "language_info": {
   "codemirror_mode": {
    "name": "ipython",
    "version": 3
   },
   "file_extension": ".py",
   "mimetype": "text/x-python",
   "name": "python",
   "nbconvert_exporter": "python",
   "pygments_lexer": "ipython3",
   "version": "3.10.10"
  }
 },
 "nbformat": 4,
 "nbformat_minor": 5
}

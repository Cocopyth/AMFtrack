{
 "cells": [
  {
   "cell_type": "code",
   "execution_count": 1,
   "metadata": {},
   "outputs": [],
   "source": [
    "path_code_dir = \"/home/cbisot/pycode/MscThesis\"\n",
    "import sys\n",
    "\n",
    "sys.path.insert(0, path_code_dir)\n",
    "from amftrack.util.sys import (\n",
    "    get_dates_datetime,\n",
    "    get_dirname,\n",
    "    temp_path,\n",
    "    get_plate_number,\n",
    "    get_postion_number,\n",
    ")\n",
    "from amftrack.pipeline.paths.directory import (\n",
    "    run_parallel,\n",
    "    find_state,\n",
    "    directory_scratch,\n",
    "    directory_project,\n",
    "    run_parallel_stitch,\n",
    ")\n",
    "from pymatreader import read_mat\n",
    "import scipy.io\n",
    "import os\n",
    "import json\n",
    "import pandas as pd"
   ]
  },
  {
   "cell_type": "code",
   "execution_count": 7,
   "metadata": {},
   "outputs": [],
   "source": [
    "plate = 23\n",
    "directory = directory_scratch\n",
    "i = 0\n",
    "dates_datetime = get_dates_datetime(directory, plate)\n",
    "dates_datetime.sort()\n",
    "dates = dates_datetime\n",
    "date = dates[i]\n",
    "folder = get_dirname(date, plate)"
   ]
  },
  {
   "cell_type": "code",
   "execution_count": 15,
   "metadata": {},
   "outputs": [],
   "source": [
    "path_snap = directory + folder\n",
    "file1 = open(path_snap + \"/param.m\", \"r\")\n",
    "Lines = file1.readlines()\n",
    "ldict = {}\n",
    "for line in Lines:\n",
    "    exec(line.split(\";\")[0], globals(), ldict)\n",
    "files = [\n",
    "    \"/Img/TileConfiguration.txt.registered\",\n",
    "    \"/Analysis/skeleton_compressed.mat\",\n",
    "    \"/Analysis/skeleton_masked_compressed.mat\",\n",
    "    \"/Analysis/skeleton_pruned_compressed.mat\",\n",
    "    \"/Analysis/transform.mat\",\n",
    "    \"/Analysis/transform_corrupt.mat\",\n",
    "    \"/Analysis/skeleton_realigned_compressed.mat\",\n",
    "]\n",
    "for file in files:\n",
    "    ldict[file] = os.path.isfile(path_snap + file)"
   ]
  },
  {
   "cell_type": "code",
   "execution_count": 16,
   "metadata": {
    "collapsed": true,
    "jupyter": {
     "outputs_hidden": true
    }
   },
   "outputs": [
    {
     "data": {
      "text/plain": [
       "{'Plate': 790,\n",
       " 'PrincePos': 23,\n",
       " 'root': 'Carrot',\n",
       " 'strain': 'A5',\n",
       " 'medium': '001P100N',\n",
       " 'split': 'Y',\n",
       " 'Pbait': '-',\n",
       " 'CrossDate': 20210907,\n",
       " '/Img/TileConfiguration.txt.registered': False,\n",
       " '/Analysis/skeleton_compressed.mat': False,\n",
       " '/Analysis/skeleton_masked_compressed.mat': False,\n",
       " '/Analysis/skeleton_pruned_compressed.mat': False,\n",
       " '/Analysis/transform.mat': False,\n",
       " '/Analysis/transform_corrupt.mat': False,\n",
       " '/Analysis/skeleton_realigned_compressed.mat': False}"
      ]
     },
     "execution_count": 16,
     "metadata": {},
     "output_type": "execute_result"
    }
   ],
   "source": [
    "ldict"
   ]
  },
  {
   "cell_type": "code",
   "execution_count": 21,
   "metadata": {},
   "outputs": [],
   "source": [
    "file1 = open(path_snap + \"/param.m\", \"r\")\n",
    "Lines = file1.readlines()"
   ]
  },
  {
   "cell_type": "code",
   "execution_count": 33,
   "metadata": {},
   "outputs": [
    {
     "data": {
      "text/plain": [
       "719"
      ]
     },
     "execution_count": 33,
     "metadata": {},
     "output_type": "execute_result"
    },
    {
     "data": {
      "text/plain": [
       "31"
      ]
     },
     "execution_count": 33,
     "metadata": {},
     "output_type": "execute_result"
    },
    {
     "data": {
      "text/plain": [
       "'Carrot'"
      ]
     },
     "execution_count": 33,
     "metadata": {},
     "output_type": "execute_result"
    },
    {
     "data": {
      "text/plain": [
       "'Agg'"
      ]
     },
     "execution_count": 33,
     "metadata": {},
     "output_type": "execute_result"
    },
    {
     "data": {
      "text/plain": [
       "'100P100N'"
      ]
     },
     "execution_count": 33,
     "metadata": {},
     "output_type": "execute_result"
    },
    {
     "data": {
      "text/plain": [
       "'Y'"
      ]
     },
     "execution_count": 33,
     "metadata": {},
     "output_type": "execute_result"
    },
    {
     "data": {
      "text/plain": [
       "'-'"
      ]
     },
     "execution_count": 33,
     "metadata": {},
     "output_type": "execute_result"
    },
    {
     "data": {
      "text/plain": [
       "20210907"
      ]
     },
     "execution_count": 33,
     "metadata": {},
     "output_type": "execute_result"
    }
   ],
   "source": [
    "Plate = None\n",
    "PrincePos = None\n",
    "root = None\n",
    "strain = None\n",
    "medium = None\n",
    "split = None\n",
    "Pbait = None\n",
    "CrossDate = None\n",
    "for line in Lines:\n",
    "    exec(line.split(\";\")[0])\n",
    "\n",
    "Plate\n",
    "PrincePos\n",
    "root\n",
    "strain\n",
    "medium\n",
    "split\n",
    "Pbait\n",
    "CrossDate"
   ]
  },
  {
   "cell_type": "code",
   "execution_count": 2,
   "metadata": {},
   "outputs": [],
   "source": [
    "def get_param(folder, directory):\n",
    "    path_snap = directory + folder\n",
    "    file1 = open(path_snap + \"/param.m\", \"r\")\n",
    "    Lines = file1.readlines()\n",
    "    ldict = {}\n",
    "    for line in Lines:\n",
    "        exec(line.split(\";\")[0], globals(), ldict)\n",
    "    return ldict"
   ]
  },
  {
   "cell_type": "code",
   "execution_count": 11,
   "metadata": {},
   "outputs": [
    {
     "data": {
      "text/plain": [
       "<_io.TextIOWrapper name='data_info.json' mode='w' encoding='UTF-8'>"
      ]
     },
     "execution_count": 11,
     "metadata": {},
     "output_type": "execute_result"
    }
   ],
   "source": [
    "open(\"data_info.json\", \"w\")"
   ]
  },
  {
   "cell_type": "code",
   "execution_count": 20,
   "metadata": {},
   "outputs": [],
   "source": [
    "def update_plate_info(directory):\n",
    "    listdir = os.listdir(directory)\n",
    "    plate_info = (\n",
    "        json.load(open(\"data_info.json\", \"r\"))\n",
    "        if os.path.isfile(\"data_info.json\")\n",
    "        else {}\n",
    "    )\n",
    "    for folder in listdir:\n",
    "        path_snap = directory + folder\n",
    "        if os.path.isfile(path_snap + \"/param.m\"):\n",
    "            params = get_param(folder, directory)\n",
    "            plate_info[folder] = params\n",
    "    with open(\"data_info.json\", \"w\") as jsonf:\n",
    "        json.dump(plate_info, jsonf, indent=4)"
   ]
  },
  {
   "cell_type": "code",
   "execution_count": 26,
   "metadata": {},
   "outputs": [],
   "source": [
    "def get_data_info():\n",
    "    data_info = pd.read_json(\"data_info.json\", convert_dates=True).transpose()\n",
    "    return data_info"
   ]
  },
  {
   "cell_type": "code",
   "execution_count": 28,
   "metadata": {},
   "outputs": [],
   "source": [
    "data_info = get_data_info()"
   ]
  },
  {
   "cell_type": "code",
   "execution_count": 32,
   "metadata": {},
   "outputs": [
    {
     "data": {
      "text/html": [
       "<div>\n",
       "<style scoped>\n",
       "    .dataframe tbody tr th:only-of-type {\n",
       "        vertical-align: middle;\n",
       "    }\n",
       "\n",
       "    .dataframe tbody tr th {\n",
       "        vertical-align: top;\n",
       "    }\n",
       "\n",
       "    .dataframe thead th {\n",
       "        text-align: right;\n",
       "    }\n",
       "</style>\n",
       "<table border=\"1\" class=\"dataframe\">\n",
       "  <thead>\n",
       "    <tr style=\"text-align: right;\">\n",
       "      <th></th>\n",
       "      <th>Plate</th>\n",
       "      <th>PrincePos</th>\n",
       "      <th>root</th>\n",
       "      <th>strain</th>\n",
       "      <th>medium</th>\n",
       "      <th>split</th>\n",
       "      <th>Pbait</th>\n",
       "      <th>CrossDate</th>\n",
       "    </tr>\n",
       "  </thead>\n",
       "  <tbody>\n",
       "    <tr>\n",
       "      <th>20210915_0948_Plate31</th>\n",
       "      <td>719</td>\n",
       "      <td>31</td>\n",
       "      <td>Carrot</td>\n",
       "      <td>Agg</td>\n",
       "      <td>100P100N</td>\n",
       "      <td>Y</td>\n",
       "      <td>-</td>\n",
       "      <td>20210907</td>\n",
       "    </tr>\n",
       "    <tr>\n",
       "      <th>20210921_0948_Plate31</th>\n",
       "      <td>719</td>\n",
       "      <td>31</td>\n",
       "      <td>Carrot</td>\n",
       "      <td>Agg</td>\n",
       "      <td>100P100N</td>\n",
       "      <td>Y</td>\n",
       "      <td>-</td>\n",
       "      <td>20210907</td>\n",
       "    </tr>\n",
       "    <tr>\n",
       "      <th>20210914_2347_Plate31</th>\n",
       "      <td>719</td>\n",
       "      <td>31</td>\n",
       "      <td>Carrot</td>\n",
       "      <td>Agg</td>\n",
       "      <td>100P100N</td>\n",
       "      <td>Y</td>\n",
       "      <td>-</td>\n",
       "      <td>20210907</td>\n",
       "    </tr>\n",
       "    <tr>\n",
       "      <th>20210912_1642_Plate31</th>\n",
       "      <td>719</td>\n",
       "      <td>31</td>\n",
       "      <td>Carrot</td>\n",
       "      <td>Agg</td>\n",
       "      <td>100P100N</td>\n",
       "      <td>Y</td>\n",
       "      <td>-</td>\n",
       "      <td>20210907</td>\n",
       "    </tr>\n",
       "    <tr>\n",
       "      <th>20210917_1548_Plate31</th>\n",
       "      <td>719</td>\n",
       "      <td>31</td>\n",
       "      <td>Carrot</td>\n",
       "      <td>Agg</td>\n",
       "      <td>100P100N</td>\n",
       "      <td>Y</td>\n",
       "      <td>-</td>\n",
       "      <td>20210907</td>\n",
       "    </tr>\n",
       "    <tr>\n",
       "      <th>...</th>\n",
       "      <td>...</td>\n",
       "      <td>...</td>\n",
       "      <td>...</td>\n",
       "      <td>...</td>\n",
       "      <td>...</td>\n",
       "      <td>...</td>\n",
       "      <td>...</td>\n",
       "      <td>...</td>\n",
       "    </tr>\n",
       "    <tr>\n",
       "      <th>20210911_0847_Plate31</th>\n",
       "      <td>719</td>\n",
       "      <td>31</td>\n",
       "      <td>Carrot</td>\n",
       "      <td>Agg</td>\n",
       "      <td>100P100N</td>\n",
       "      <td>Y</td>\n",
       "      <td>-</td>\n",
       "      <td>20210907</td>\n",
       "    </tr>\n",
       "    <tr>\n",
       "      <th>20210915_0347_Plate31</th>\n",
       "      <td>719</td>\n",
       "      <td>31</td>\n",
       "      <td>Carrot</td>\n",
       "      <td>Agg</td>\n",
       "      <td>100P100N</td>\n",
       "      <td>Y</td>\n",
       "      <td>-</td>\n",
       "      <td>20210907</td>\n",
       "    </tr>\n",
       "    <tr>\n",
       "      <th>20210907_1537_Plate31</th>\n",
       "      <td>719</td>\n",
       "      <td>31</td>\n",
       "      <td>Carrot</td>\n",
       "      <td>Agg</td>\n",
       "      <td>100P100N</td>\n",
       "      <td>Y</td>\n",
       "      <td>-</td>\n",
       "      <td>20210907</td>\n",
       "    </tr>\n",
       "    <tr>\n",
       "      <th>20210918_1958_Plate31</th>\n",
       "      <td>719</td>\n",
       "      <td>31</td>\n",
       "      <td>Carrot</td>\n",
       "      <td>Agg</td>\n",
       "      <td>100P100N</td>\n",
       "      <td>Y</td>\n",
       "      <td>-</td>\n",
       "      <td>20210907</td>\n",
       "    </tr>\n",
       "    <tr>\n",
       "      <th>20210910_0846_Plate31</th>\n",
       "      <td>719</td>\n",
       "      <td>31</td>\n",
       "      <td>Carrot</td>\n",
       "      <td>Agg</td>\n",
       "      <td>100P100N</td>\n",
       "      <td>Y</td>\n",
       "      <td>-</td>\n",
       "      <td>20210907</td>\n",
       "    </tr>\n",
       "  </tbody>\n",
       "</table>\n",
       "<p>153 rows × 8 columns</p>\n",
       "</div>"
      ],
      "text/plain": [
       "                      Plate PrincePos    root strain    medium split Pbait  \\\n",
       "20210915_0948_Plate31   719        31  Carrot    Agg  100P100N     Y     -   \n",
       "20210921_0948_Plate31   719        31  Carrot    Agg  100P100N     Y     -   \n",
       "20210914_2347_Plate31   719        31  Carrot    Agg  100P100N     Y     -   \n",
       "20210912_1642_Plate31   719        31  Carrot    Agg  100P100N     Y     -   \n",
       "20210917_1548_Plate31   719        31  Carrot    Agg  100P100N     Y     -   \n",
       "...                     ...       ...     ...    ...       ...   ...   ...   \n",
       "20210911_0847_Plate31   719        31  Carrot    Agg  100P100N     Y     -   \n",
       "20210915_0347_Plate31   719        31  Carrot    Agg  100P100N     Y     -   \n",
       "20210907_1537_Plate31   719        31  Carrot    Agg  100P100N     Y     -   \n",
       "20210918_1958_Plate31   719        31  Carrot    Agg  100P100N     Y     -   \n",
       "20210910_0846_Plate31   719        31  Carrot    Agg  100P100N     Y     -   \n",
       "\n",
       "                      CrossDate  \n",
       "20210915_0948_Plate31  20210907  \n",
       "20210921_0948_Plate31  20210907  \n",
       "20210914_2347_Plate31  20210907  \n",
       "20210912_1642_Plate31  20210907  \n",
       "20210917_1548_Plate31  20210907  \n",
       "...                         ...  \n",
       "20210911_0847_Plate31  20210907  \n",
       "20210915_0347_Plate31  20210907  \n",
       "20210907_1537_Plate31  20210907  \n",
       "20210918_1958_Plate31  20210907  \n",
       "20210910_0846_Plate31  20210907  \n",
       "\n",
       "[153 rows x 8 columns]"
      ]
     },
     "execution_count": 32,
     "metadata": {},
     "output_type": "execute_result"
    }
   ],
   "source": [
    "plate_id = 71920210907\n",
    "data_info.loc[10**8 * data_info[\"Plate\"] + data_info[\"CrossDate\"] == plate_id]"
   ]
  },
  {
   "cell_type": "code",
   "execution_count": 33,
   "metadata": {},
   "outputs": [
    {
     "data": {
      "text/html": [
       "<div>\n",
       "<style scoped>\n",
       "    .dataframe tbody tr th:only-of-type {\n",
       "        vertical-align: middle;\n",
       "    }\n",
       "\n",
       "    .dataframe tbody tr th {\n",
       "        vertical-align: top;\n",
       "    }\n",
       "\n",
       "    .dataframe thead th {\n",
       "        text-align: right;\n",
       "    }\n",
       "</style>\n",
       "<table border=\"1\" class=\"dataframe\">\n",
       "  <thead>\n",
       "    <tr style=\"text-align: right;\">\n",
       "      <th></th>\n",
       "      <th>Plate</th>\n",
       "      <th>PrincePos</th>\n",
       "      <th>root</th>\n",
       "      <th>strain</th>\n",
       "      <th>medium</th>\n",
       "      <th>split</th>\n",
       "      <th>Pbait</th>\n",
       "      <th>CrossDate</th>\n",
       "    </tr>\n",
       "  </thead>\n",
       "  <tbody>\n",
       "  </tbody>\n",
       "</table>\n",
       "</div>"
      ],
      "text/plain": [
       "Empty DataFrame\n",
       "Columns: [Plate, PrincePos, root, strain, medium, split, Pbait, CrossDate]\n",
       "Index: []"
      ]
     },
     "execution_count": 33,
     "metadata": {},
     "output_type": "execute_result"
    }
   ],
   "source": [
    "data_info.loc[data_info[\"medium\"] != \"100P100N\"]"
   ]
  },
  {
   "cell_type": "code",
   "execution_count": 21,
   "metadata": {},
   "outputs": [],
   "source": [
    "update_plate_info(directory)"
   ]
  },
  {
   "cell_type": "code",
   "execution_count": 10,
   "metadata": {},
   "outputs": [],
   "source": [
    "listdir = os.listdir(directory)"
   ]
  },
  {
   "cell_type": "code",
   "execution_count": 34,
   "metadata": {},
   "outputs": [],
   "source": [
    "data_info = pd.read_json(\"data.json\", convert_dates=True).transpose()"
   ]
  },
  {
   "cell_type": "code",
   "execution_count": null,
   "metadata": {},
   "outputs": [],
   "source": []
  },
  {
   "cell_type": "code",
   "execution_count": 31,
   "metadata": {},
   "outputs": [],
   "source": [
    "plate_id = str(719) + str(20210907)\n",
    "data_info = json.load(open(\"data_info.json\", \"r\"))\n",
    "for folder in listdir:\n",
    "    path_snap = directory + folder\n",
    "    if os.path.isfile(path_snap + \"/param.m\"):\n",
    "        params = get_param(folder, directory)\n",
    "        plate_info[folder] = params\n",
    "        if str(params[\"Plate\"]) + str(params[\"CrossDate\"]) == plate_id:\n",
    "            folders.append(folder)\n",
    "with open(\"data_info.json\", \"w\") as jsonf:\n",
    "    json.dump(plate_info, jsonf, indent=4)"
   ]
  },
  {
   "cell_type": "code",
   "execution_count": 28,
   "metadata": {},
   "outputs": [],
   "source": [
    "jsonf = open(\"data.json\", \"r\")\n",
    "data_info = json.load(jsonf)"
   ]
  },
  {
   "cell_type": "code",
   "execution_count": 29,
   "metadata": {},
   "outputs": [
    {
     "data": {
      "text/plain": [
       "{'20211004_1527_Plate30': {'Plate': 727,\n",
       "  'PrincePos': 30,\n",
       "  'root': 'Carrot',\n",
       "  'strain': 'A5',\n",
       "  'medium': '100P100N',\n",
       "  'split': 'Y',\n",
       "  'Pbait': '-',\n",
       "  'CrossDate': 20210823},\n",
       " '20210920_1745_Plate30': {'Plate': 727,\n",
       "  'PrincePos': 30,\n",
       "  'root': 'Carrot',\n",
       "  'strain': 'A5',\n",
       "  'medium': '100P100N',\n",
       "  'split': 'Y',\n",
       "  'Pbait': '-',\n",
       "  'CrossDate': 20210823},\n",
       " '20210905_0400_Plate39': {'Plate': 724,\n",
       "  'PrincePos': 39,\n",
       "  'root': 'Carrot',\n",
       "  'strain': 'A5',\n",
       "  'medium': '100P100N',\n",
       "  'split': 'Y',\n",
       "  'Pbait': '-',\n",
       "  'CrossDate': 20210818},\n",
       " '20210915_0948_Plate31': {'Plate': 719,\n",
       "  'PrincePos': 31,\n",
       "  'root': 'Carrot',\n",
       "  'strain': 'Agg',\n",
       "  'medium': '100P100N',\n",
       "  'split': 'Y',\n",
       "  'Pbait': '-',\n",
       "  'CrossDate': 20210907},\n",
       " '20210903_2200_Plate39': {'Plate': 724,\n",
       "  'PrincePos': 39,\n",
       "  'root': 'Carrot',\n",
       "  'strain': 'A5',\n",
       "  'medium': '100P100N',\n",
       "  'split': 'Y',\n",
       "  'Pbait': '-',\n",
       "  'CrossDate': 20210818},\n",
       " '20210921_0948_Plate31': {'Plate': 719,\n",
       "  'PrincePos': 31,\n",
       "  'root': 'Carrot',\n",
       "  'strain': 'Agg',\n",
       "  'medium': '100P100N',\n",
       "  'split': 'Y',\n",
       "  'Pbait': '-',\n",
       "  'CrossDate': 20210907},\n",
       " '20210903_0351_Plate37': {'Plate': 718,\n",
       "  'PrincePos': 37,\n",
       "  'root': 'Carrot',\n",
       "  'strain': 'Agg',\n",
       "  'medium': '100P100N',\n",
       "  'split': 'Y',\n",
       "  'Pbait': '-',\n",
       "  'CrossDate': 20210818},\n",
       " '20210904_0952_Plate37': {'Plate': 718,\n",
       "  'PrincePos': 37,\n",
       "  'root': 'Carrot',\n",
       "  'strain': 'Agg',\n",
       "  'medium': '100P100N',\n",
       "  'split': 'Y',\n",
       "  'Pbait': '-',\n",
       "  'CrossDate': 20210818},\n",
       " '20210903_2000_Plate39': {'Plate': 724,\n",
       "  'PrincePos': 39,\n",
       "  'root': 'Carrot',\n",
       "  'strain': 'A5',\n",
       "  'medium': '100P100N',\n",
       "  'split': 'Y',\n",
       "  'Pbait': '-',\n",
       "  'CrossDate': 20210818},\n",
       " '20210910_1839_Plate29': {'Plate': 722,\n",
       "  'PrincePos': 29,\n",
       "  'root': 'Carrot',\n",
       "  'strain': 'A5',\n",
       "  'medium': '100P100N',\n",
       "  'split': 'Y',\n",
       "  'Pbait': '-',\n",
       "  'CrossDate': 20210823}}"
      ]
     },
     "execution_count": 29,
     "metadata": {},
     "output_type": "execute_result"
    }
   ],
   "source": [
    "plate_info"
   ]
  },
  {
   "cell_type": "code",
   "execution_count": 17,
   "metadata": {},
   "outputs": [
    {
     "data": {
      "text/plain": [
       "1184"
      ]
     },
     "execution_count": 17,
     "metadata": {},
     "output_type": "execute_result"
    }
   ],
   "source": [
    "import json\n",
    "\n",
    "\n",
    "dict = {\n",
    "    \"member #002\": {\"first name\": \"John\", \"last name\": \"Doe\", \"age\": 34},\n",
    "    \"member #003\": {\"first name\": \"Elijah\", \"last name\": \"Baley\", \"age\": 27},\n",
    "    \"member #001\": {\"first name\": \"Jane\", \"last name\": \"Doe\", \"age\": 42},\n",
    "}\n",
    "\n",
    "\n",
    "with open(\"data.json\", \"w\") as fp:\n",
    "    json.dump(dict, fp, indent=4)"
   ]
  },
  {
   "cell_type": "code",
   "execution_count": 8,
   "metadata": {},
   "outputs": [
    {
     "data": {
      "text/plain": [
       "{'Plate': 719,\n",
       " 'PrincePos': 31,\n",
       " 'root': 'Carrot',\n",
       " 'strain': 'Agg',\n",
       " 'medium': '100P100N',\n",
       " 'split': 'Y',\n",
       " 'Pbait': '-',\n",
       " 'CrossDate': 20210907}"
      ]
     },
     "execution_count": 8,
     "metadata": {},
     "output_type": "execute_result"
    }
   ],
   "source": [
    "get_param(directory_name, directory)"
   ]
  },
  {
   "cell_type": "code",
   "execution_count": 28,
   "metadata": {},
   "outputs": [],
   "source": [
    "exec(Lines[2].split(\";\")[0])"
   ]
  },
  {
   "cell_type": "code",
   "execution_count": 26,
   "metadata": {},
   "outputs": [
    {
     "data": {
      "text/plain": [
       "'Plate     = 719'"
      ]
     },
     "execution_count": 26,
     "metadata": {},
     "output_type": "execute_result"
    }
   ],
   "source": [
    "Lines[0].split(\";\")[0]"
   ]
  },
  {
   "cell_type": "code",
   "execution_count": 27,
   "metadata": {},
   "outputs": [
    {
     "data": {
      "text/plain": [
       "719"
      ]
     },
     "execution_count": 27,
     "metadata": {},
     "output_type": "execute_result"
    }
   ],
   "source": [
    "Plate"
   ]
  }
 ],
 "metadata": {
  "kernelspec": {
   "display_name": "Python 3",
   "language": "python",
   "name": "python3"
  },
  "language_info": {
   "codemirror_mode": {
    "name": "ipython",
    "version": 3
   },
   "file_extension": ".py",
   "mimetype": "text/x-python",
   "name": "python",
   "nbconvert_exporter": "python",
   "pygments_lexer": "ipython3",
   "version": "3.7.7"
  }
 },
 "nbformat": 4,
 "nbformat_minor": 4
}

{
 "cells": [
  {
   "cell_type": "code",
   "execution_count": 1,
   "metadata": {},
   "outputs": [],
   "source": [
    "path_code_dir = \"/home/cbisot/pycode/MscThesis\"\n",
    "import sys  \n",
    "sys.path.insert(0, path_code_dir)\n",
    "from amftrack.util import get_dates_datetime, get_dirname\n",
    "from amftrack.pipeline.functions.node_id import (\n",
    "    second_identification,\n",
    ")\n",
    "from amftrack.pipeline.functions.extract_graph import (\n",
    "    from_nx_to_tab,\n",
    ")\n",
    "import scipy.io as sio\n",
    "import pickle\n",
    "from amftrack.pipeline.paths.directory import run_parallel, find_state, directory_scratch, directory_project, run_parallel_stitch\n",
    "from amftrack.notebooks.analysis.data_info import *\n",
    "%matplotlib widget\n",
    "\n",
    "import os  \n",
    "import sys  \n",
    "sys.path.insert(0, os.getenv('HOME')+'/pycode/MscThesis/')\n",
    "import pandas as pd\n",
    "from amftrack.util import get_dates_datetime, get_dirname, get_plate_number, get_postion_number,get_begin_index\n",
    "import ast\n",
    "from amftrack.plotutil import plot_t_tp1\n",
    "from scipy import sparse\n",
    "from datetime import datetime\n",
    "from amftrack.pipeline.functions.node_id import orient\n",
    "import pickle\n",
    "import scipy.io as sio\n",
    "from pymatreader import read_mat\n",
    "from matplotlib import colors\n",
    "import cv2\n",
    "import imageio\n",
    "import matplotlib.pyplot as plt\n",
    "import numpy as np\n",
    "from skimage.filters import frangi\n",
    "from skimage import filters\n",
    "from random import choice\n",
    "import scipy.sparse\n",
    "import os\n",
    "from amftrack.pipeline.functions.extract_graph import from_sparse_to_graph, generate_nx_graph, sparse_to_doc\n",
    "from skimage.feature import hessian_matrix_det\n",
    "from amftrack.pipeline.functions.experiment_class_surf import Experiment, Edge, Node, Hyphae, plot_raw_plus\n",
    "from amftrack.pipeline.paths.directory import run_parallel, find_state, directory_scratch, directory_project\n",
    "from amftrack.notebooks.analysis.util import *\n",
    "from scipy import stats\n",
    "from scipy.ndimage.filters import uniform_filter1d\n",
    "from statsmodels.stats import weightstats as stests\n",
    "from amftrack.pipeline.functions.hyphae_id_surf import get_pixel_growth_and_new_children\n",
    "from collections import Counter\n",
    "from IPython.display import clear_output\n",
    "from amftrack.notebooks.analysis.data_info import *\n",
    "from amftrack.pipeline.functions.node_id import reconnect_degree_2\n",
    "\n"
   ]
  },
  {
   "cell_type": "code",
   "execution_count": 2,
   "metadata": {},
   "outputs": [
    {
     "name": "stdout",
     "output_type": "stream",
     "text": [
      "removing_spurs\n"
     ]
    }
   ],
   "source": [
    "path_code_dir = \"/home/cbisot/pycode/MscThesis\"\n",
    "\n",
    "import sys  \n",
    "sys.path.insert(0, path_code_dir)\n",
    "from scipy import sparse\n",
    "from pymatreader import read_mat\n",
    "\n",
    "from amftrack.util import get_dates_datetime, get_dirname\n",
    "from amftrack.pipeline.functions.extract_graph import (\n",
    "    from_sparse_to_graph,\n",
    "    generate_nx_graph,\n",
    "    clean_degree_4,\n",
    ")\n",
    "from amftrack.pipeline.functions.node_id import (remove_spurs)\n",
    "\n",
    "import scipy.sparse\n",
    "import pickle\n",
    "directory = directory_project\n",
    "plate = 38\n",
    "i = 150\n",
    "dates_datetime = get_dates_datetime(directory,plate)\n",
    "dates_datetime.sort()\n",
    "date_datetime = dates_datetime[i]\n",
    "date = date_datetime\n",
    "directory_name = get_dirname(date, plate)\n",
    "path_snap = directory + directory_name\n",
    "skel = read_mat(path_snap + \"/Analysis/skeleton_pruned_realigned.mat\")[\"skeleton\"]\n",
    "skeleton = scipy.sparse.dok_matrix(skel)\n",
    "\n",
    "# nx_graph_poss=[generate_nx_graph(from_sparse_to_graph(skeleton)) for skeleton in skels_aligned]\n",
    "# nx_graphs_aligned=[nx_graph_pos[0] for nx_graph_pos in nx_graph_poss]\n",
    "# poss_aligned=[nx_graph_pos[1] for nx_graph_pos in nx_graph_poss]\n",
    "# nx_graph_pruned=[clean_degree_4(prune_graph(nx_graph),poss_aligned[i])[0] for i,nx_graph in enumerate(nx_graphs_aligned)]\n",
    "nx_graph, pos = generate_nx_graph(from_sparse_to_graph(skeleton))\n",
    "#Optional, to remove spurs\n",
    "print('removing_spurs')\n",
    "nx_graph, pos = remove_spurs(nx_graph, pos)"
   ]
  },
  {
   "cell_type": "code",
   "execution_count": 16,
   "metadata": {},
   "outputs": [],
   "source": [
    "exp2 = get_exp((38,131,131+20),directory_project)\n",
    "\n",
    "exp2.load_compressed_skel()"
   ]
  },
  {
   "cell_type": "code",
   "execution_count": 40,
   "metadata": {},
   "outputs": [],
   "source": [
    "spurs = []\n",
    "t = 10\n",
    "nx_graph_tm1 = exp2.nx_graph[t]\n",
    "pos_tm1 = exp2.positions[t]\n",
    "for edge in nx_graph_tm1.edges:\n",
    "    edge_data = nx_graph_tm1.get_edge_data(*edge)\n",
    "    if (nx_graph_tm1.degree(edge[0])==1 or nx_graph_tm1.degree(edge[1])==1) and edge_data['weight']<60:\n",
    "        spurs.append(edge)"
   ]
  },
  {
   "cell_type": "code",
   "execution_count": 45,
   "metadata": {},
   "outputs": [
    {
     "data": {
      "text/plain": [
       "(50, 169)"
      ]
     },
     "execution_count": 45,
     "metadata": {},
     "output_type": "execute_result"
    }
   ],
   "source": [
    "len(spurs), len(nx_graph_tm1.edges)"
   ]
  },
  {
   "cell_type": "code",
   "execution_count": 49,
   "metadata": {},
   "outputs": [
    {
     "name": "stderr",
     "output_type": "stream",
     "text": [
      "/home/cbisot/anaconda3/envs/test/lib/python3.7/site-packages/matplotlib/__init__.py:880: MatplotlibDeprecationWarning: \n",
      "nbagg.transparent\n",
      "  version, key, obj_type=\"rcparam\", alternative=alt_key)\n"
     ]
    },
    {
     "data": {
      "application/vnd.jupyter.widget-view+json": {
       "model_id": "22fecb7daac5411da4488838b8023776",
       "version_major": 2,
       "version_minor": 0
      },
      "text/plain": [
       "Canvas(toolbar=Toolbar(toolitems=[('Home', 'Reset original view', 'home', 'home'), ('Back', 'Back to previous …"
      ]
     },
     "metadata": {},
     "output_type": "display_data"
    }
   ],
   "source": [
    "spur = choice(spurs)\n",
    "plt.close('all')\n",
    "plot_raw_plus(exp2,t,[spur[0],spur[1]])"
   ]
  },
  {
   "cell_type": "code",
   "execution_count": 50,
   "metadata": {},
   "outputs": [
    {
     "data": {
      "application/vnd.jupyter.widget-view+json": {
       "model_id": "d82886a07f264b388f2d851be4721ace",
       "version_major": 2,
       "version_minor": 0
      },
      "text/plain": [
       "Canvas(toolbar=Toolbar(toolitems=[('Home', 'Reset original view', 'home', 'home'), ('Back', 'Back to previous …"
      ]
     },
     "metadata": {},
     "output_type": "display_data"
    }
   ],
   "source": [
    "exp2.plot([t],[[spur[0],spur[1]]])"
   ]
  },
  {
   "cell_type": "code",
   "execution_count": 46,
   "metadata": {},
   "outputs": [],
   "source": [
    "spurs = []\n",
    "for spur in spurs:\n",
    "    nx_graph_tm1.remove_edge(spur[0],spur[1])\n",
    "reconnect_degree_2(nx_graph_tm1, pos_tm1)"
   ]
  },
  {
   "cell_type": "code",
   "execution_count": 47,
   "metadata": {},
   "outputs": [],
   "source": [
    "for edge in nx_graph_tm1.edges:\n",
    "    edge_data = nx_graph_tm1.get_edge_data(*edge)\n",
    "    if (nx_graph_tm1.degree(edge[0])==1 or nx_graph_tm1.degree(edge[1])==1) and edge_data['weight']<60:\n",
    "        spurs.append(edge)"
   ]
  },
  {
   "cell_type": "code",
   "execution_count": 7,
   "metadata": {},
   "outputs": [],
   "source": [
    "def remove_spurs(nx_g,pos):\n",
    "    found = True\n",
    "    while found:\n",
    "        spurs = []\n",
    "        found = False\n",
    "        for edge in nx_g.edges:\n",
    "            edge_data = nx_g.get_edge_data(*edge)\n",
    "            if (nx_g.degree(edge[0])==1 or nx_g.degree(edge[1])==1) and edge_data['weight']<60:\n",
    "                spurs.append(edge)\n",
    "                found = True\n",
    "        for spur in spurs:\n",
    "            nx_g.remove_edge(spur[0],spur[1])\n",
    "        reconnect_degree_2(nx_g, pos,has_width = False)\n",
    "    return(nx_g,pos)"
   ]
  },
  {
   "cell_type": "code",
   "execution_count": 8,
   "metadata": {},
   "outputs": [],
   "source": [
    "nx_graph, pos = remove_spurs(nx_graph, pos)"
   ]
  },
  {
   "cell_type": "code",
   "execution_count": 55,
   "metadata": {},
   "outputs": [],
   "source": [
    "t = 12\n",
    "nx_graph_tm1 = exp2.nx_graph[t]\n",
    "pos_tm1 = exp2.positions[t]\n",
    "nx,po = remove_spurs(nx_graph_tm1,pos_tm1)"
   ]
  },
  {
   "cell_type": "code",
   "execution_count": 56,
   "metadata": {},
   "outputs": [],
   "source": [
    "spurs = []\n",
    "t = 10\n",
    "nx_graph_tm1 = nx\n",
    "pos_tm1 = po\n",
    "for edge in nx_graph_tm1.edges:\n",
    "    edge_data = nx_graph_tm1.get_edge_data(*edge)\n",
    "    if (nx_graph_tm1.degree(edge[0])==1 or nx_graph_tm1.degree(edge[1])==1) and edge_data['weight']<60:\n",
    "        spurs.append(edge)"
   ]
  },
  {
   "cell_type": "code",
   "execution_count": 57,
   "metadata": {},
   "outputs": [
    {
     "data": {
      "text/plain": [
       "[]"
      ]
     },
     "execution_count": 57,
     "metadata": {},
     "output_type": "execute_result"
    }
   ],
   "source": [
    "spurs"
   ]
  }
 ],
 "metadata": {
  "kernelspec": {
   "display_name": "Python 3",
   "language": "python",
   "name": "python3"
  },
  "language_info": {
   "codemirror_mode": {
    "name": "ipython",
    "version": 3
   },
   "file_extension": ".py",
   "mimetype": "text/x-python",
   "name": "python",
   "nbconvert_exporter": "python",
   "pygments_lexer": "ipython3",
   "version": "3.7.7"
  }
 },
 "nbformat": 4,
 "nbformat_minor": 4
}

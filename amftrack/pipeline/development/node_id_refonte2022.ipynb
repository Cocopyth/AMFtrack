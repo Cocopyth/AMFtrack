{
 "cells": [
  {
   "cell_type": "code",
   "execution_count": 2,
   "metadata": {},
   "outputs": [
    {
     "name": "stdout",
     "output_type": "stream",
     "text": [
      "The autoreload extension is already loaded. To reload it, use:\n",
      "  %reload_ext autoreload\n"
     ]
    }
   ],
   "source": [
    "%matplotlib widget\n",
    "%load_ext autoreload\n",
    "%autoreload 2\n",
    "import os\n",
    "import sys\n",
    "\n",
    "# sys.path.insert(0, os.getenv('HOME')+'/pycode/MscThesis/')\n",
    "sys.path.insert(0, r\"C:\\Users\\coren\\Documents\\PhD\\Code\\AMFtrack\")\n",
    "\n",
    "import pandas as pd\n",
    "from amftrack.util.sys import (\n",
    "    get_dates_datetime,\n",
    "    get_dirname,\n",
    "    temp_path,\n",
    "    get_data_info,\n",
    "    update_plate_info,\n",
    "    get_current_folders,\n",
    "    get_folders_by_plate_id,\n",
    ")\n",
    "\n",
    "\n",
    "import ast\n",
    "from amftrack.plotutil import plot_t_tp1\n",
    "from scipy import sparse\n",
    "from datetime import datetime\n",
    "import pickle\n",
    "import scipy.io as sio\n",
    "from pymatreader import read_mat\n",
    "from matplotlib import colors\n",
    "import cv2\n",
    "import imageio\n",
    "import matplotlib.pyplot as plt\n",
    "import numpy as np\n",
    "from skimage.filters import frangi\n",
    "from skimage import filters\n",
    "from random import choice\n",
    "import scipy.sparse\n",
    "import os\n",
    "from amftrack.pipeline.functions.image_processing.extract_graph import (\n",
    "    from_sparse_to_graph,\n",
    "    generate_nx_graph,\n",
    "    sparse_to_doc,\n",
    ")\n",
    "from skimage.feature import hessian_matrix_det\n",
<<<<<<< HEAD
    "from amftrack.pipeline.functions.image_processing.experiment_class_surf import Experiment\n",
=======
    "from amftrack.pipeline.functions.image_processing.experiment_class_surf import (\n",
    "    Node,\n",
    "    Experiment,\n",
    "    save_graphs,\n",
    ")\n",
    "from amftrack.pipeline.functions.image_processing.experiment_util import (\n",
    "    find_nearest_edge,\n",
    ")\n",
    "\n",
>>>>>>> dcaa6931c191ba989dbe8b0bf8fd8f109ecd9159
    "from amftrack.pipeline.functions.image_processing.node_id import (\n",
    "    orient,\n",
    "    reconnect_degree_2,\n",
    "    first_identification,\n",
    "    relabel_nodes_downstream,\n",
    "    reduce_labels,\n",
    ")\n",
    "from amftrack.pipeline.functions.image_processing.node_id_2 import (\n",
    "    create_corresp,\n",
    "    create_labeled_graph,\n",
    ")\n",
    "from amftrack.pipeline.launching.run import run\n",
    "import itertools"
   ]
  },
  {
   "cell_type": "code",
   "execution_count": 45,
   "metadata": {},
   "outputs": [
    {
     "data": {
      "application/vnd.jupyter.widget-view+json": {
       "model_id": "c47d76866c6c40cc9d2958bd6725b411",
       "version_major": 2,
       "version_minor": 0
      },
      "text/plain": [
       "analysed:   0%|          | 0/5 [00:00<?, ?it/s]"
      ]
     },
     "metadata": {},
     "output_type": "display_data"
    }
   ],
   "source": [
    "directory = r\"C:\\Users\\coren\\Documents\\PhD\\Code\\old_prince_data/\"\n",
    "update_plate_info(directory, local=True)\n",
    "\n",
    "all_folders = get_current_folders(directory, local=True)\n",
    "folders = all_folders.loc[all_folders[\"Plate\"] == \"94\"]"
   ]
  },
  {
   "cell_type": "code",
   "execution_count": 23,
   "metadata": {},
   "outputs": [
    {
     "data": {
      "application/vnd.jupyter.widget-view+json": {
       "model_id": "a5e47d6fd19e43d4962e98dbdc1fd8ea",
       "version_major": 2,
       "version_minor": 0
      },
      "text/plain": [
       "folder_treated:   0%|          | 0/5 [00:00<?, ?it/s]"
      ]
     },
     "metadata": {},
     "output_type": "display_data"
    },
    {
     "name": "stdout",
     "output_type": "stream",
     "text": [
      "python C:\\Users\\coren\\Documents\\PhD\\Code\\AMFtrack\\amftrack/pipeline/scripts/image_processing/track_nodes.py C:\\Users\\coren\\Documents\\PhD\\Code\\old_prince_data/ 1654260445079752200 0\n",
      "python C:\\Users\\coren\\Documents\\PhD\\Code\\AMFtrack\\amftrack/pipeline/scripts/image_processing/track_nodes.py C:\\Users\\coren\\Documents\\PhD\\Code\\old_prince_data/ 1654260445079752200 1\n",
      "python C:\\Users\\coren\\Documents\\PhD\\Code\\AMFtrack\\amftrack/pipeline/scripts/image_processing/track_nodes.py C:\\Users\\coren\\Documents\\PhD\\Code\\old_prince_data/ 1654260445079752200 2\n",
      "python C:\\Users\\coren\\Documents\\PhD\\Code\\AMFtrack\\amftrack/pipeline/scripts/image_processing/track_nodes.py C:\\Users\\coren\\Documents\\PhD\\Code\\old_prince_data/ 1654260445079752200 3\n",
      "python C:\\Users\\coren\\Documents\\PhD\\Code\\AMFtrack\\amftrack/pipeline/scripts/image_processing/track_nodes.py C:\\Users\\coren\\Documents\\PhD\\Code\\old_prince_data/ 1654260445079752200 4\n"
     ]
    }
   ],
   "source": [
    "run(\"track_nodes.py\", [directory], folders, pyt_vers=\"\")"
   ]
  },
  {
   "cell_type": "code",
   "execution_count": 46,
   "metadata": {},
   "outputs": [
    {
     "name": "stdout",
     "output_type": "stream",
     "text": [
      "2020-11-23 12:53:00\n",
      "1\n",
      "2020-11-23 14:00:00\n",
      "1\n",
      "2020-11-23 15:01:00\n",
      "1\n",
      "2020-11-23 17:01:00\n",
      "1\n",
      "2020-11-23 18:01:00\n",
      "1\n"
     ]
    }
   ],
   "source": [
    "exp = Experiment(directory)\n",
    "exp.load(folders, suffix=\"_width\")\n",
    "# create_corresp(exp)"
   ]
  },
  {
   "cell_type": "code",
   "execution_count": 47,
   "metadata": {
    "collapsed": true,
    "jupyter": {
     "outputs_hidden": true
    }
   },
   "outputs": [
    {
     "name": "stdout",
     "output_type": "stream",
     "text": [
      "1\n",
      "1\n",
      "1\n",
      "1\n",
      "1\n",
      "1\n",
      "1\n",
      "1\n",
      "2020-11-23 12:53:00\n",
      "1\n",
      "2020-11-23 14:00:00\n",
      "1\n",
      "2020-11-23 15:01:00\n",
      "1\n",
      "2020-11-23 17:01:00\n",
      "1\n",
      "2020-11-23 18:01:00\n",
      "1\n"
     ]
    }
   ],
   "source": [
    "reduced_label_graph_list, reduced_poss_list = create_labeled_graph(exp)\n",
    "exp.save_graphs(suffix=\"_labeled\")"
   ]
  },
  {
   "cell_type": "code",
   "execution_count": 22,
   "metadata": {},
   "outputs": [],
   "source": [
    "corresp = corresp_list[0]"
   ]
  },
  {
   "cell_type": "code",
   "execution_count": 71,
   "metadata": {},
   "outputs": [
    {
     "data": {
      "application/vnd.jupyter.widget-view+json": {
       "model_id": "77fc22fc76734883987447d703e65102",
       "version_major": 2,
       "version_minor": 0
      },
      "text/plain": [
       "Canvas(toolbar=Toolbar(toolitems=[('Home', 'Reset original view', 'home', 'home'), ('Back', 'Back to previous …"
      ]
     },
     "metadata": {},
     "output_type": "display_data"
    }
   ],
   "source": [
    "plt.close(\"all\")\n",
    "t = 0\n",
    "nx_graph_tm1 = exp.nx_graph[t]\n",
    "tips = [node for node in nx_graph_tm1.nodes if nx_graph_tm1.degree(node) == 1]\n",
    "node = choice(tips)\n",
    "mapping = mappings[t]\n",
    "Node(node, exp).show_source_image(t, t + 3)"
   ]
  },
  {
   "cell_type": "code",
   "execution_count": 65,
   "metadata": {},
   "outputs": [
    {
     "data": {
      "application/vnd.jupyter.widget-view+json": {
       "model_id": "3cfde740612543e8ae2718276f21ab47",
       "version_major": 2,
       "version_minor": 0
      },
      "text/plain": [
       "Canvas(toolbar=Toolbar(toolitems=[('Home', 'Reset original view', 'home', 'home'), ('Back', 'Back to previous …"
      ]
     },
     "metadata": {},
     "output_type": "display_data"
    }
   ],
   "source": [
    "t = 0\n",
    "# mapping = mappings[t]\n",
    "Node(node, exp).show_source_image(t)"
   ]
  },
  {
   "cell_type": "code",
   "execution_count": 178,
   "metadata": {},
   "outputs": [
    {
     "data": {
      "application/vnd.jupyter.widget-view+json": {
       "model_id": "c3e4a46233de4e4dbdd5d8197533ef98",
       "version_major": 2,
       "version_minor": 0
      },
      "text/plain": [
       "Canvas(toolbar=Toolbar(toolitems=[('Home', 'Reset original view', 'home', 'home'), ('Back', 'Back to previous …"
      ]
     },
     "metadata": {},
     "output_type": "display_data"
    }
   ],
   "source": [
    "Node(3, exp).show_source_image(1)"
   ]
  },
  {
   "cell_type": "code",
   "execution_count": 173,
   "metadata": {},
   "outputs": [
    {
     "data": {
      "text/plain": [
       "[]"
      ]
     },
     "execution_count": 173,
     "metadata": {},
     "output_type": "execute_result"
    }
   ],
   "source": [
    "Node(corresp_tips[node], exp).ts()"
   ]
  },
  {
   "cell_type": "code",
   "execution_count": 116,
   "metadata": {},
   "outputs": [],
   "source": [
    "t = 0\n",
    "pos = Node(280, exp).pos(t)\n",
    "x, y = pos[0], pos[1]\n",
    "ims, posimg = Node(280, exp).experiment.find_image_pos(x, y, t)"
   ]
  },
  {
   "cell_type": "code",
   "execution_count": 119,
   "metadata": {},
   "outputs": [
    {
     "data": {
      "text/plain": [
       "0"
      ]
     },
     "execution_count": 119,
     "metadata": {},
     "output_type": "execute_result"
    }
   ],
   "source": [
    "i = np.argmax([np.mean(im) for im in ims])\n",
    "i"
   ]
  },
  {
   "cell_type": "code",
   "execution_count": 122,
   "metadata": {},
   "outputs": [
    {
     "data": {
      "text/plain": [
       "[[959.4730000000018, 1701.4829800000007]]"
      ]
     },
     "execution_count": 122,
     "metadata": {},
     "output_type": "execute_result"
    }
   ],
   "source": [
    "(posimg)"
   ]
  },
  {
   "cell_type": "code",
   "execution_count": 13,
   "metadata": {},
   "outputs": [
    {
     "data": {
      "application/vnd.jupyter.widget-view+json": {
       "model_id": "681c780b20bc496da0a3cb85c27481ae",
       "version_major": 2,
       "version_minor": 0
      },
      "image/png": "iVBORw0KGgoAAAANSUhEUgAAAoAAAAHgCAYAAAA10dzkAAAAOXRFWHRTb2Z0d2FyZQBNYXRwbG90bGliIHZlcnNpb24zLjQuMiwgaHR0cHM6Ly9tYXRwbG90bGliLm9yZy8rg+JYAAAACXBIWXMAAA9hAAAPYQGoP6dpAABRmUlEQVR4nO3df3xU933n+/c5M0ZEMsaWZGGTMBAioSSKktoJFaHBRDXGd5tctdDtjRqg7a63221NmtCFx2XZfZgft8vaj9DiTWnT3ta3zsX0Ie/uhZTW924IqYpJsBW1cRJZTZEUgkYNNqokGwtNPHg0c/+QBwvQj/lxzvmeH6/nP20QnPlYI535nO/3+/l8rFwulxMAAAAiwzYdAAAAALxFAggAABAxJIAAAAARQwIIAAAQMSSAAAAAEUMCCAAAEDEkgAAAABFDAggAABAxcdMBAIDfTaQzujg6oWuZrBbEba2oqVJVBbdPAMHFHQwAZtB/eVzHupLqPD+s5FhK00cmWZIS1ZVqbazTlpaEGpYsMhUmAJTEYhQcALxjaCylPSd6dHZgRDHb0mR29ltk/uvr6mt1cFOzllVXlvSarDAC8BoJIADfcTIhKuZaX3nhR/rd536gyWxOc+R9t4jZluK2pf1tTWpfnSjo37DCCMAkEkAAvuBkQlTMtSTpWFdSJ777Y135yVtl/3f8ypqENt33nlmTTRMrjABwMxJAAEY5mRAVcy3b0vVVPsuS3LgT3pxs/n3yNe092atMNjdnbDcrZYXxZmwzA5iOBBCAMR3dybISoj3/4gP62Iq7dC2TVef5Yf3xmR9qMqeiruWF+ZLRYuzcuErbWxsK+rtsMwOYDQkgAE/lV6KOdSX1F99Omg4nkJ7Y3KzPzLESyDYzgPmQAAI+5PftumLjm2slCsWriNs6vWP9jMlauauqhWwz+/3nE8D8SAABn3Bqu86tD+dS4itmJQqFi9mW1q6s0dFHWm748yOd/Tp0qq/s68+0zcx2MhAuJICAYU5s17n54VxqfB9/X43+6zf6i16JQuFO73hA9XVT72dHd1K7j/c4du38NjPbyUA4kQACBpW7Xff5Bxv0wg9HS/5wnm+1sNT43KqqxY2WLl6oZ//txyVJGw6fUTqTdezaFXFbn3+woaQk3omqZQDuIgEEDHFqu67YZMu2plYFF1cu0GsT12ZdLZSV09PnBsuOD+5aELNVd0eFLr3+k6KaV8/HqSS+mKplAN4hAQQMcHq7zmms4MFJ81UtA/AeCSDgsfOvvqFPH/mm3prkVw/RMFPVMpXEgFkkgIAHphdpDI6lTIcDeCpftfzYpz9IJTHgEySAgItogwLciEpiwB9IAAGXlFpBC4BKYsBtJICAC5yq8AUwcyUxZwiB8vDbAhSo0A+cju4kyR/goEOn+nT37RW6P3GXa2cISSgRNawAAnModMLG5vverVjM0tBYSr/d8V1dm3SuIS+Aqd+3nJw9Q8h4O0QZCSCgW5/+47al333uBxRvAAE11xlCxtsBJICIsLme/gGEx/QzhOWOX6QoBWFBAohQm+lcz9jENVqzABHzxOZm/fPVtCPncxlvhzAgAUTozLeyZ739f/nBB6IjblvKOPiwx3g7BB0JIEKDpssAvDLTeDsgSEgA4SultmKg6TIAry2M22pfnaBKGIFEAgjjSm3FkE8W/6JrUMe+PeR53ABgW1I2J6qEETgkgDCmlFYM9yfu1Htrq/R3F1+jcheAb1AljKAhAYQRbNkCCCuqhBEEJIDwHHNyAYRdvkqYEXPwKxJAeKqjO6ndx3tMhwEAropZlpbcUaFXrrzJiDn4EgkgPDM0ltKGw2eUzjAnF0C0MWIOptmmA0B07DnR42gjVgAIqvzZ53MXRrXh8Bl1dCcNR4So4SACZuXk2ZX+y+M6OzDicIQAEGyTbxfC7T7eo5GraYpH4BkSQNyg1J58cxkaS+lX//zbrsQLAGFx6FSf7r69ghFz8ARnACGptJ58hZxdybd74dwfAMyPEXPwCgkgSu7JZ1tTyeCvr1upTzXfe8sWMe1eAKA4MdvS2pU1OvpIi+lQEHIkgBHnZJI2fYv4rqrbdPh0vyPXBSBZlsTdOjq+vOV+PdBwNz0D4RoSwAhzqydffjYmgPJVxG194cEGPfmNfo5SRMxs565pLg0nkABGFD35AP9beJutr39h6jwYTdSjK3/ueunihZIlvfL63M2ll975LhJEzIsEMKK2PdWlcxdGmcML+JRtSb+yZoX2tTVd/zPO1WIulqSZ7uhMH8FMSAAjqP/yuB568nnTYQCYx+kdD6i+7sYP61KLtgCmj2A6JoFE0LGupGK2ZToMALOI2ZbW1dfekvxJUvvqhE7vWK+1K2sMRIYgY/oIpmMFMCKmHxr+rWPf0StvvGk6JACzKLQXXP/lce39q16d++GoR5EhbHZuXMX0kYgiAQyxuaZ6ACbYlmTJ0iS3nTk9sbm5qGkQnA1EOYr9eUM4sAUcQkNjKW17qksPPfm8jnYNapDkDz6RzUmff7DedBiOi9mW7kvc6ci1dm1sLPrDeHtrgx7f3KyKuF308Y6YbakibusX73t3Sf8ewffYyV4NjaVMhwGPkQCGTEd3UhsOn9G5C1NbQhwSh1/kz7X99oOrtHPjKkeuuWtjo2PXKsdkNqcv/uKHy07CntjcrEdbS0uQbz4bOF8M+a+vXVmj0zvW6/f+t5+68d+TB0ZGJpvTnhO0GIoatoADaLYmoGwDwc9uPtdWajVrzLYUty0daGu6vlJmsjL25tFdbs3VLsb14x99w0qOpm7tGVdTqdZVddq6JjFjoUn+33f8XVJvvkWv0KiYqeoc4UUCGBBzneezJN1VuUBjqWumwoNPxG1LGZ+u+s50zsjJZKmYazlptoKNcpMwp5QzNWJoLKUHf/9vdW3Snz9TcE7MtrStZfkNfScRbiSAPmfqQw3Bs2tjo2puX+DotIiHP7hEX/uHy2VfZ9fGxjm3Np1Mlua7VnXVAo1OOPewVMgB+iCP7mICSXQsr6nUmZ2tRf+7IP98RxkJoI/R8DX88kl9fd3tSo5OaDJX3LnNmbZDnToKkE/anNyqLYSTHyZuH5eYL7ENC46XRIMl6eV9Dxf0+zbfrhSTR/yPBNCnuOGG20yrWk5uhzqdtPnhXJvTvE5sgy7//WJ+eLg997lPqGnp4lm/HsZ7QVSRAPoQWy7hsyBm6Y+3fFR3VS2Yd1XLqe1QN27UfjnX5hQ+zIozNJbSZ/7PF3TpCo3kw+rEb67VqiWLZlw5L/ehaX9bk9oj9NDkdySAPjM0ltKGw2d4yg6Zf/9Qgz73s8W3K3FiO9StpC1M537Clti6iVni4Xbv4oV69cqbt/wO3PGu23TlJ2+VfX0mj/gHCaDPbHuqS+cujHLmL0QsS/rVNSt8UV0XpqTNLXyP5sd9CuVg8og/kAD6CE/W4VVqdR3gR+xUoByFzrqGu5gE4iN/2Dkgmu+HU3I0pYl0xnQYgCOWVVdqvw9WtBFMTB7xBxJAH8jP7v3q9y4xszekcpIujk6YDgNwTPvqhC/G8CF4JrM5nR0Y0cDwuOlQIo0E0LCbZ/civK6xXYaQ2d7aUNb84wWxqepQRE/MtvTMi0nTYUQaCaBBRzr7tft4j9KZLIepI2BBnF83hE/76oRO71ivtStrJGneRDD/9bUra/SN3/mkfvcXPuR6jPCfyWxOnX3DpsOINErbDOnoTtLoOUIsSStqqkyHAbhiWXWljj7SUlI7nfbqhEauprkfRlD+bDRV9mZQBWwAFXTRQxUwoqbYdjolNxm2pEk+xQJrvskjcA9ptwF7TvQow5ZvZMRsS62r6kyHAXiqqiJe1Ad7++qEfuZ9tUVPZln7vlq9+dakvjP0OkdpAoiz0eaQAHqs//K4zg6MmA4DHprM5rR1DU1PgfmUupWc31UhAQwezkabwxawh/ovj+u3O17SD16l9D0qYraltStrdPSRFtOhAIFU6FYyM9SDx5L08r6HOQNoCN91D0wfOI9oiduWDm5qNh0GEFiFbiW3r6aYJGgSNZUkfwbxnXfZ9IPNiJ4DbU2MOwI8sr21QbW3V5RcTCJZWlx5m16buEZTfpdxNto8toBddKSzn6fRCNu1sVGPttabDgOInOm7LoUWk6yrr9XBTc1aVl2piXRGP3jlDf3LP3nBw6ij5/SOB663A4L3SABdwnmUaIrZU5MNDrQ16TOrKfwATCqlL+F067/YqcGxlGfxRgVno/2BBNAF9PmLnplWEQD4R7F9CSVp38leHe0apLrYYQtitr7U/lNaVl1Z0PsAd5AAumDbU106d2GUm0YEFLKKACCY+i+P66EnnzcdRqhZkhLVlWptrNOWloQalnAP9QoJoMO4YTjv9oq4rqYzpsOQJP2P3/i43rUgVtQqAoDg4oHeG+yieI8OjA471pWcdxg6ijORzmh/2wdVEbeNfm8tSR+49w41LV2s+xJ3qWnpYpI/IOQObmpWnHu66/IJ9rkLo9pw+Iw6upOGIwo/EkAHTKQz6r10RS8lX9PXel/lSdFhOUkfW16t0zvWa+3KGkkykgjSswqInmXVldrf1mQ6jMiYzOaUzmS1+3iPjnT2mw4n1Pg0K9H16rLzw0qOpegZ5bJrmWxBY6LcQs8qILpoMm3GoVN9uvv2CjoquIQzgEUqpr8UnPPc5z4x4zSA6ZV9r77xpn7z2Hdci4GeVUC0TW/sz73fGxVxW6d3rOdMoAvYAi5CR3dSGw6f0bkLo5LEDcAjlqQVNVUzfi0/Juq+xF36Fx+6V+vqax3fHo7ZltbV15L8ARHXvjph/ChK1GSyOe05QU9dN5AAFuhIZ792H+9ROpMl8fNYMWfv3DiwzTxfAHn5oyhf/8ID2tayXMtrKkUa6J7JbE5nB0Y0MDxuOpTQIQEsQEd3krMfhhR79s6NA9vM8wVws4Yli7SvrUlndrbq5X0P67nPfUKfar5HLAo6L2ZbeuZFqoKdRgI4j6GxlPae7DUdRmRNZnPauqa4A8DtqxPauXGVI6+/a2MjB5ABzCl/FOULD64SG0TOm8zm9LV/eFUTPukHGxYUgcyDJqDmlDsvstQD28zzBVAqPjPcw9QQZ5EAzoGpHmY5Uf1VTNU2negBlItZ8O7jXu0MEsA5MAjcrCc2Nzu2AjdX70Dm+QJwUkd3UruPU7nqtvxuzf62JrWzW1M0EsA5rP9ipwbHUqbDiKRdGxv1aGu9K9ee3juQeb4A3HCks5/iQQ/t3LhK21sbTIcRKCSAs7iazqh539eY8OGxuG3pP//Chzh7ByDwaBztLSd3jaKAKuBZDI5OkPwZkOEmCSAkim0cTQuZ8jx2sldD7NoVjBXAWbyUfE2bvnzOdBiRxOgfAGFT6Dlky8rpz88Nmgoz0GxLan73Yh3c1MzRngKQAM6i99IVfeoPvmk6jEgqt/0LAPjZfOeQ2TouHy1j5kcCeJP8L+aVn7ylz/5Zl+lwIu30jgeoyAUQScW0sMLsaBkzOxJATVuaPz+s5FiKs38+ELMtbWtZrn0Oj3UDgCCZa+sYhaNlzK0inQDyhOVvy2sqdWZnq+kwAMAXpm8d/2hkQr/z379nOqRAomXMlMiekJx+xkISyZ8PJUdTmkhnOMgLAHpn5rAkLYjTxKNUh0716e7bKyLfMiaSP0FHOvu1+3iP0pksiZ+P5SRdHJ0wHQYA+M6KmirRNaZ0tIyJYALY0Z2kO3uAXGOeJgDcoqoirgQFDSXLZHPacyLa4/oilQAOjaW092Sv6TBQBLY5AGBmrY118zaXxswmszmdHRjRwPC46VCMidSn654TPUyaCBBLU9scAIBbbWlJcIypDDHb0jMvJk2HYUxkEsD+y+M6OzDCL0uAJGoqKQABgFk0LFmkdfW1rAKWaDKbU2ffsOkwjIlMAnisK8kvSYDEbEutq+pMhwEAvnZwU7PifLaVLN9tIooikwB2nh9m9U8KTNXYZDanrWuiXaIPAPNZVl2p/TTML1mUu01EIgG8ms4oGfFy77xPf/heHf3Xq7V08ULTocwqZltaV1/LGDgAKED76oR2blxlOozAimq3iUgkgIOjE4zPedu//pn3al1Dnb7yr37adCizituWDm5qNh0GAATG9tYGPb65WRVxm+NORYpqt4lI/FdHNbufSf4H3c+Hhw+0NTGwGwCK1L46odM71mvtyhpJ8uX93W+i3G0iEglgVLP7m938g+7Hw8O7NjZGfjwPAJRqWXWljj7Soq9/4QFta1mu5TWVgTn7bULFbbbGJq6ZDsMIK5fLhX53dCKdUdO+r5kOw7jlNZU6s7P1hj/r6E5q93HnuqHHbUs5FTdbOWZbituWDrQ1kfwBgMMm0hn94JU39C//5AXTofiOpalFov1tTWqP2OdPJJbG/ur7l0yH4AtvZbK3zD508vDwro2N6vz3nyx4+yH/9bUra3R6x3qSPwBwQVVFXB9bUa3lHK25RU5SOpPV7uM9OtLZbzocT4V+BXBoLKUNh88ozTlA2ZZ0W2zmJ52O7qT2nuxVJptzZPWu//K4jnUl1dk3rORo6oYiHEtTTZ5bV9Vp65oE1b4A4IF9J3t1tGuQlmhzeGJzc2QWI0KfAG57qkvnLozyA3+TnRtXaXtrww1/NjSW0p4TPTo7MKKYbc35Pct/fV19rQ5uap6zaGMindHF0Qldy2S1IG5rRU0VEz4AwGP9l8f10JPPmw7D1yritk7vWB+JQsRQJ4D8sM9tticdVu8AIJxYFJlbzLa0dmWNjj7SYjoU14U6AWS5e26FPOmwegcA4cGxqMKc3vFA6Bc4Ql0Ewvi3uWWyOe05MXcFcFVFXE1LF+u+xF1qWrqY5A8AAozRcfOL2ZaeeTFpOgzXhTYBPP/qGxpk/NucJrM5nR0Y0cDwuOlQAAAeYXTc3CazOXX2DZsOw3WhTAA7upP69JFvmg4jEKLypAMAeAej4+aWHE1pIp0xHYarQpcAHuns1+7jPXprkq3fQkTlSQcAcCNGx80uJ+ni6ITpMFwVqgSwozupQ6f6TIcROFF40gEA3IrRcbO7eXBC2ISmCpjKpvI897lPqGnpYtNhAAAMm9794cBf/4O+90+vK4r1lAtitg78fHhHxIVmBXDPiR5lovgT6pBrJM4AAN3Y/eFL7ffptlhoUoWiXJsM94i4ULyr/ZfHdXZghJYvZVgQD8WPAgDAQbSNkQ6d6tOz3eErlgzFp/6xriSHV8tgSVpRU2U6DACAD9E2RnrsZG/ozgSGIgGk4XN5EjWVNHgGAMyq9vYK0yEYVcjghKAJfAJ4NZ1RMmRZuZditqXWVXWmwwAA+NTQWEp7T/aaDsOoMA5OCHwC+O0Lo2Ltr3ST2Zy2rglnhRMAoHwUWU4J2+CEQCeAHd1J/caxvzcdRmDFbEvr6mtDP/AaAFAaiizfEbbBCYE9+HWks5+mz2WK25YObmo2HQYAwKfyRZYkgFPygxPCcG4+kCuATPxwxoG2Ji2rrjQdBgDApyiyvFGYRsQFLgHkMKozdm1s1GdC2t0cAFA+iixnFpbBCYFLADmMWrqYbakibuuJzc16tLXedDgAAB8bHJ2gyHIGQ69NbQMHXaA2sfOHUVGc/PmNtStrdHBTM9u+AIB5hWWly2m/3fFdWZIS1ZVqbazTlpaEGpYEr5gyUAkgh1GLY2mqyXPrqjptXZOg2hcAUDBGhM4uJ2lwLKWjXYN6+oWLWldfG7gFlkAlgBxGnd/v/dJHtLK2SgvitlbUVIWiUgkA4L0VNVWyJLaB55DPSc5dGNWGw2e0v61J7QE5Xx+Y7IDDqIV5/z2L1LR0sekwAAABV1URV6K6UoN89s5rMpvTZDan3cd7NHI1re2tDaZDmldg1nc5jDo/S1NPbAAAOKG1sU4x2zIdRqAcOtWnZ7v9PzEkMAkgh1Hnl6ipZMsXAOCYLS0Jjl6V4LGTvRry+cppYBLAzvPhGb/ihphtqXVVnekwAAAh0rBkkdbV17IKWKRMNqc9J3pMhzGnQCSARzr79aW/GTAdhq9NZnPauiYYB08BAMFxcFOz4iSARZnM5nR2YEQDw+OmQ5mV7xNAxr7NL2ZbWldfS5sXAIDjllVXan9bk+kwAidmW3rmRf+eBfR1AsjYt8LEbUsHNzWbDgMAEFLtqxPauXGV6TACZTKbU2eff4+v+ToBZOxbYQ60NQWq+SQAIHi2tzbo8c3NqojbnAksUHLUv2PjfJsA5se+UX00t10bG/WZgDSdBAAEW/vqhE7vWK+1K2skiURwHjlJF0cnTIcxI9/2DDnWlZRtSeR/t4rZluK2pQNtTSR/AABPLauu1NFHWtR/eVzHupLq7BtWcjRFr95Z+LWNnZXL5Xz3ng2NpfTQ4TN606ffNFPyc5CDOHMQABBeE+mMLo5OaM+JHvX8+AqLN9M897lP+HJCl+8SwI7upB77y5d1bdJXYRm3vKZSravqtHVNgmpfAIAvDY2ltOHwGaVZwJE0NaHr5X0P+3JIg68iOtLZT8uXGXz7PzyoujsWmg4DAIA55VvG7D7u7ybIXvHzhC7fFIHQ729my2sqSf4AAIFBy5gpfp/Q5YsEkH5/M/P7Dw8AADOhZYz/J3T5IgGk39/M/P7DAwDAbKLcMiYIE7qMb0zn+/3hRjHb0tqVNb7+4QEAYC5RbRkThAldxquA953s1dGuQRo+36Qibuv0jvW0egEAhEq+Zcy1TFYL4rau/OQtffbPukyH5ajP/2y9PtlYpwVxWytqqnxZCGI8AVz/xU4NjqVMhuBLT2xupskzACD0ei9d0af+4Jumw3CNJSlRXanWxjptaUmoYYk/dvaMngG8ms4oSfJ3C8a7AQCiYkVNlcJ8OjAnaXAspaNdg3royee17akuDfkg9zGaAA6OToT+HEChYraliritJzY369HWetPhAADgiaqKuBIROO6UP+p27sKoNhw+o47upNF4jCaAfp2P56XY2489a1fW6PSO9az8AQAip7WxLjJVwpPZnNKZrHYf79GRzn5jcRg9lbgg7osuNEatWrJIf/DL91HtCwCIrC0tCT39wkXTYXju0Kk+3X17hZHFH6MZWNj3/QuRemuS5A8AEGkNSxZpXX1tZFYBp3vsZK+RM4FGE8CqirjuqlxgMgTjkqMpTaQzpsMAAMCog5uaFY9gApjJ5rTnhPezk40mgEc6+zWWumYyBONyki6OTpgOAwAAo5ZVV2p/W5PpMDw3mc3p7MCIBobHPX1dYwlgR3dSh071mXp5X6EYBgCAqfFxOzeuMh2G52K2pWde9LYq2EgCODSW0t6TvSZe2pcohgEAYMr21gY9vrlZFXE7MmcCJ7M5dfYNe/qaRjKPPSd6lGH0m6SpDuEraqpMhwEAgG+0r07o9I71WruyxnQonvG6JsDzBLD/8rjODoww+/dtiZpKX84IBADApGXVlTr6SIu+/Nn7TYfiCa9rAjxPAI91JSOzpDufmG2pdVWd6TAAAPCtnktXTIfgGS9rAjxPADvPD7P697bJbE5b1zD5AwCAmQyNpfSnZy+YDsMzXtYEeLr3eDWdUdIHA5D9IGZbWruyhibQAADMYs+JnsgsGnldE+BpAjg4OqFovI3zi9uWDm5qNh0GAAC+lK8ZiAqvawI83QKm3907DrQ1aVl1pekwAADwpSjVDJioCfA0AaTf3ZRdGxuNDH4GACAoolQzYKImwNMt4BU1VbKkSG8D/+L979ajrfWmwwAAwLeiVDNgqibA0yW5qoq4EhHf9vzr77+ioYj8UAMAUIoo1QyYqgnwfE+2tbEuMnv6M8lkc9pzosd0GAAA+FaUagZM1QR4ngBuaUlEZk9/JpPZnM4OjGhgeNx0KAAA+FJUagZM1gR4/h1uWLJIH19Z7fXL+krMtvTMi0nTYQAA4Ev5moEwe2Jzs9GaACMp9q9/YqWJl/WNyWxOnX3DpsMAAMCXwl4zYEn69IeXGo3BSAJ4V9UCEy/rK8nRlCbSGdNhAADgS2GuGchJujg6YTQGIwlgVPb25+KHNx8AAL8Ke82A6UIXI5lYFPb2C2H6zQcAwK8alizSuvra0K4Cml4MM/LqYd/bL5TpNx8AAD87uKlZ8RAmgJamFsNMMpaBtDbWRXoV0A9vPgAAfrasulL725pMh+G4RE2lqio8HcZ2C2MJ4JaWRGS6fM/ED28+AAB+1746oZ0bV5kOwzEx21LrqjrTYZhLAO+9812mXto4v7z5AAAEwfbWBj2+uVkVcVtB3xGezOa0dY2Z5s/TGUsAByNcAeuXNx8AgKBoX53Q6R3r1fzuxaZDKdv/7H3VdAjmEsChsZSplzYqZltaV1+r+rpFpkMBACBQllVX6uCmZtNhlO3QqT492212IpixBPBPnr9g6qWNittWKH54AQAwISyt5B472Wt0McxIAth/eVwvDb1u4qWNO9DWpGW0wAEAoCRhaSWXyea050SPsdc3kgDu/ateEy9r3K6NjfrMas7+AQBQjjCMiZvM5nR2YEQDw+NGXt/zBPBIZ7/O/XDU65c1JmZbqojbemJzsx5trTcdDgAAgReWMXEx29IzL5o5C+hpAtjRndShU31evqQx+SeTtStrdHrHelb+AABwSFjGxE1mc+rsGzby2lYul/MkhR4aS2nD4TNKh3z+raWpJs+tq+q0dU2Cal8AAFwQlrzCkvTyvoc9Hw7h2avtOdGjTAiWa2dy7+KF+qPP3q8FcVsraqqY8AEAgMvyY+J2HzdXSOGEnKSLoxNqWuptf0NPMpX+y+M6OzDixUt5LmZbeviD9+i+xF2mQwEAIFLaVyc0cjUd+ONl1wysYnpyBvBYVzLw+/SzYaoHAAAox4K4901ZPFkB7Dw/HIpqnZvFbEtrV9Zwzg8AAAPCUFxqaaq5tddcTzmvpjNKhnTsG1M9AAAwY2gspb0ng99XOFFTaaR2wPUEcHB0QuFb+5vCVA8AAMwIQ3GpbUmtq+qMvLbrKaeJg41eYKoHAABmhKW4NJuTsToCVxPAobGUDvz1P7j5Ep6riNs60NZE8gcAgCH54tKg1xcsvM02VkfgWgLY0Z3U3pO9gV+evdmf/crHtK7hbtNhAAiIiXRGF0cndC2TpVco4JCwFJem38pqIp0xck9w5RWPdPYHvipnJjHb0jd+MEwCCPiYHxKu/svjOtaVVOf5YQ3OUAS3vLpSrY112tKSUMMSuggAxQhTcampJtCSCwlgGEqyZ5Of2bdPTaZDATDNfAnXkjsq9LHld+nTH16qBxrudi0hHBpLac+JHp0dGJElzVoANziW0ldeuKinX7iodfW1OripmYIyoEBhKy41VSvh6F0wLCXZc0mOpowt1wK40fSEay6X30jruZ5X9VzPq5KkpYsXauMH73F0Be4r5y7q/3iuV/l7+XwfUPmvnx0Y0YO//7c68PMfUjtni4F5ha241EQTaMnhBDAMJdnzMblcC+AdHd1JPfaXL+vaZPH3nEtX3tTTb6/A3bfsTv3GAyu1rLqy6O3i/svj+sPOAf2/L7+qa5Olfyhdm8xp9/EejVxNa3trQ8nXAaLAVMLkBlNNoCUHE8CwlGQXImxPH0DQ7PurXj197qIj13pp6HX9u2Pfuf6/l931Lj34/iVzrg4OjaX0O//tu+oefM2RGPIOnerT3bdX0GUAmMOKmqo5j1gEiakm0JKDjaDDPO/3ZmF6+gCCZGgspYd+/4xjyd+Mr/HaT/T0Cxf10JPPa/OXv6Whm84UdnQn1fp7f+t48pf3H7/68i2vCeAdVRVxJUJwZjZmW8aaQEsOJoBhKcmej8nlWiDKOrqTevD3/1b9/3zVs9f8TvJ1PfDFTv3R3w5ImupwsPu4u0ddMtmcfue/fde16wNh0NpYF/hFp8lsTi0rq/VS8jX1XrqiiXTG09e3crlc2Xeyq+mMmvd9LRTLsfNZXlOpMztbTYcBRIofWkvV3327BjxMPk/veMBYg1jA7/ovj+uhJ583HYajLEkJD1tEObICGLaS7NmYXq4FosgvraW8TP4k6cjfDHj6ekCQNCxZpHX1tYFfBZwup6kWUUe7BvXQk89r21Ndrh4HcSQBjEpRxGQ2Z2xmHxBFUWgtNZtvnB82HQLgawc3NSseogQwL3+c7tyFUW04fEYd3UlXXseRBDAKRRG2Jd237E6Nv5kxslcPRFEUWkvNZvzNDPcZYA7Lqiu1vy28gxkmszmlM1ntPt6jI539jl/fkdrjMJVkzyabm2oXsenL5yR5v1cPBN1EOqMfvPKGkmMp5TQ1Du0D994xawuEKLWWms0PXnlDH1tRbToMwLfaVyc0cjXti2MibnKjRZQjCWC+JHumEUxhNX2vnnFOwMzyjZK/8Y/DGp9lNWtRRVwPfqBOj36y/oYHqWNd7mx7BElyLEUCCMxje2uDam+v0N6Tvcpkc6HtSPLYyV6tfV+tY3mGY3u3YSjJLoVXe/VAkAyNpfRLf3xODz35vL76vUuzJn+SNJ7O6KvfvaSHnnxev/TH564feuZ3Kdy7KoCT2lcndHrHeq1dWSNJocxHMtmc9pzocex6jrSBkcJZkl2qnRtXMc4JkdXRndR/+urLJZ/di9uWPnjvHfr+j684HFnwfDRxpx7f/GGOmABF6L88rmNdSXX2DSs5mgrdg5RTLaIcSwAladtTXTp3YTS0y6/FeGJzM+OcEDl+6NcXRh9+92L94Wfv54gJUKSJdEYXRyc0NJbSb3d8t6yZ3X4Qsy1ta1mufQ4UvzhavhvWkuxSPHayl3FOiBS/9OsLo+//+IrWH+pkWxwoUlVFXE1LF+t/+dC9OvDzwa8Ynszm1NnnTIsoRxPAsJdkF8PpvXrAz4bGUnrsL182HUaoZXNyrR0EEAXtqxP6tbUrTIdRtuRoypEWUY438GtfndDOjaucvmzgTGZzOjswooHhcdOhAK7bc6JH1yY5+uGFQ6f69CwrgUBRhsZS2vZUl54+d1FWwDcqc5Iujk6UfR1XOjhvb23Q45ubtSAW/gbRc4nZlp55kRs1wo1+fd77T3/5MkdMgAJ1dCe14fAZnbswKklyrvLBHCcmsLmWobWvTuiXf3qZW5cPBCf36gG/OtaVVMAfqAPnrUmOmACFONLZr93He5TOZENVoOrEBDbXEsChsZQ6uofcunxgOLVXD/hV5/nh0LVZCAKOmABzC2thmqWpCWzlci0BjPIMz+mc2qsH/OhqOhOpCUB+wxETYGZDYyntPdlrOgxXJGoqZx2hWQxXEsD8maAwLbeWw4m9esCPBnm4MYojJsDMwroIFbMtta6qc+RariSAx7qSoRzDUion9uoBP+LhxiyOmAC3CvMi1GQ2p61rnBky4Upm0nl+OJTf+FI4tVcP+BEPN2ZxxAS4VVgXoWK2pXX1tY6MgZNcSACvpjNKciboOqf26gE/4uHGPFZhgRuFdREqbls6uKnZses5ngAOjk5QEfg2J/fqAT+qqohrOfNpjWIVFnhHmBehDrQ1OToP3PE7B0+j73Byrx7wq9bGOvoAGsIRE+BGYV2E+vzPNugzq53NJxxPAI+/9GOnLxlITu/VA361pSURyhtuEHDEBLhRWBehNjYtcfyajiaAHd1JHX1x0MlLBpbTe/WAXzUsWaR19bWmw4gkjpgANwrrkQg3ElvHvlNhbrpYCqf36gE/O7ipWQtibAR7jSMmwI1W1FSF8kiKG4mtY1cMa9PFUuza2Oj4Xj3gZ8uqK3Xg5z9kOoxI4YgJcKuqirgSIVx8+buLrzl+TUcSwDA3XSxUzLZUEbf1xOZmPdpabzocwHPtqxPauXGV6TAi4bYYR0yA2bQ21oWuD+Dev+rVkc5+R6/pSAIY1qaLhcj/d69dWaPTO9az8odI297aoMc3Nyse0fuBV3735z/EERNgFltaEqFckDp0qk/Pdjs3/9vK5XJlf5fWf7EzcgPhLU1V4LWuqtPWNQm2YoBphsZS+p3/9l11Dzq/bRF1uzY2sssAzGPbU106d2E0dIlgRdzW6R3rHXkALDsBvJrOqHnf1yLVBuJ//MbH9YF776D9AjCP/svj+sPOAX3j/LDG32RmbTlsS/ovm5rZZQAKMDSW0obDZ5QOWVuYmG1p7coaHX2kpexrlZ3BhLXp4myW11TqYyuqTYcBBELDkkV6sv0+SdJEOqMfvPKG+i6Pa89XXzYcWbB8+N2L9YefvZ9tX6BAy6ortb+tSbuP95gOxVGT2ZzODoxoYHi87J3HshPAsDZdnAmj3YDSVVXE9bEV1XrXgpjpUALhtpilBxru1n/4F+/niAlQgvbVCY1cTevQqT7ToTgqZlt65sWk9rU1lXWdshPAsDZdnAmj3YDyRemhsRgVcUuPttbr/mV36b7EXRwxARywvbVBtbdXaO/JXmWyuVCcCZzM5tTZN6x9Ki8BLDt7C2vTxZsx2g1wRpQeGouRzuTUdO9ifaLhbpI/wEHtqxM6vWO91q6skTR1njbokqMpTaTLO1dd9p04rE0Xb8ZoN8AZUXloLMWhU+dNhwCE0rLqSh19pEVf/8ID+lTzvabDKVtO0sXRibKu4cijeBibLt6M0W6AM6Ly0FiK/uGrpkMAQq1hySI9vvnDoXgILfc4jSMJYFibLuYx2g1wVhQeGkuRyeY0/MabpsMAQi0sD6HlHqdxJAFsWLJI6+prQ3VDZ7Qb4J6wPzSW48UfjZoOAQi9oD+EWpo6TlMOx05jH9wUjvFPjHYD3BfGh0an/OTapOkQgNAL+kNooqay7GIxxxLAfNPFIFt650Jta1mu0zse0NFHWjjzB7goLA+NTqNPIuC+/ENoEO9ATvUkdrQfQ/vqhHZuXOXkJT1zoK1J5/73B7WvrYlWL4AHwvDQ6IY1760xHQIQCQc3NQdykplTPYkdb8i1vbXheq+doNi1sVG/8vEVpsMAIifID41uiNuW6u5YaDoMIBLuqlpgOoSiOdmT2JWOrD9+/SduXNZRtiWKPAAfCOJDo1sa6m43HQIQGYNl9tEzwcmexI4ngFfTGSXHUk5f1nH33LGQIg/AJ9gKnrJzY6PpEIDICOJYSid7EjueAA6OTgRiT314PK2nvvkj9V8eL/jfTKQz6r10RS8lX1PvpStlj2EBMIWqYOnOd92mBz+wxHQYQGQEbSyl0z2JHR84GZSMOpPN6f9+8aKefuGi1tXX6uCm5hmz6v7L4zrWlVTn+WElx1I3JLeWpER1pVob67SlJaGGJRSPAKU6uKlZGw6fCXRrhnL8ydaPmg4BiJT8WEo/33FitqW4belAW5PjO5ZWLpdz9L+999IVfeoPvunkJV2X/wbvb2tS+9vf4KGxlPac6NHZgRHFbGvOD6X81+dKJAHMr6M7qd3He0yH4blfvP/d+r1f+inTYQCRc//vfl1jE9dMhzErN/MKx1cAg5BR32wym9NkNqfdx3s0cjWt2tsrtPdkrzJvJ33zrUjkv37uwqg2HD5zQyIJoHDtqxMauZrWoVN9pkPxzLr6WpI/wIChsZSupPyb/EnS3v/1g64tKjm+AihJ67/YqcEAFIK4aefGVdre2mA6DCCQOrqT1x/CwrwlzMofYM62p7r0rR+OyM+3mPuW3akTv/UzrlzblROQQZ+x54RDp/r0bHfSdBhAILWvTuj0jvXX28OE7X6yqCKuZ399DckfYEj/5XGdHfB38idJLw297lou4coKYP/lcT305PNOXzZwKuK2Tu9Yz5lAoAzXC7H6hpUcTd1yvOTexQu1rr5Wre+v019//xU91/OK5zHW3r5Ab/zkLV2bnP12akl6b22l/uPPfZBqX8CQiXRGF0cn9EedP9T/1/uK7xNAyb1cwpUEUJpaWj07MOLGpQMjZltau7JGRx9pMR0KEAr5m/e1TFYL4rZW1FTdMhC9ozup//TVl6+f4XWLpak2EtOr8ybSGf3glTf08o+vaOCfx7Vo4W1aWVul9avqmPABGDJXN48gsC3pZ95X63gu4VoCeP7VN/Twfz3rxqUD5/SOB5gvDHhoaCylrU91uXoWmap/wN+K6eYRBE7nEq51QXT76TsoYralZ17kLCDgpWXVlTqzq1U7NjTIyeODdYsq9GsfX6HTOx7Q0UdaSP4An+roTmrD4TM6d2FU0vzdPPzOjVzC8TYweUFpCO22yWxOnX3D2idGXQFe+/yDq7T5vvdcXwWYr0VV/uuNSxbp5z50j26LW3r/kju0ZPHCGbebAfjPkc7+0LWSciOXcO1uFrQRK25KjqY0kc7w4QEYsKy6UkcfaZmzmMSSlKipVOuqOm1dk+DIBhBQHd3J0CV/eU7nEq5lJEFsCO2WnKSLoxNqWrrYdChAZDUsWaR9bU3ap6aCikkABMvQWEp7T/aaDsM1TucSrt3xqiriSlRXRr4hdB5b4oB/VFXEeSADQmbPiZ7Q1x84mUu4uk9LQ+h3sCUOAIA78o2dg17sMR8ncwlXs5ItLYnQvxmFsDS1JQ4AAJx3rCsZ+gUnp3MJVxPAhiWLtK6+1s2XCIRETSXniwAAcEnn+eHQLzg5nUu4vi/5Hz/1AbdfwtditqXWVXWmwwAAIJSupjNKhrzewI1cwvUEMOwZ+XwmszltXZMwHQYAAKE0ODoR+o4jbuQSru9LmhjM7hf5WcD0FAMAwB1h77LhVi7h6grg0FhKf3r2gpsv4Wtx29LBTc2mwwAAILTC3mXDrVzC1e/anhM9kd4CPtDWxKxQAABclB88EVZu5RKuJYD5njxRzf92bWzUZ1Zz9g8AADflB0+EkZu5hGsJYBR68twsZluqiNt6YnOzHm2tNx0OAACR0NpYp5gVrpzj0U++z9VcwrUikCj05MmL2ZYmszmtXVmjg5ua2fYFAMAD/ZfHdawrqa/9w6uazIUr5/i55ntdvb4rCWAUevLkxW1LW1uWa+uaBNW+AAB4YGgspT0nenR2YOT6IkyYeDFBzJUEMAo9eSTJtqStLcu1r63JdCgAAERCR3dSe0/2KvN20he25E/yZoKYK1cPe0+evGxONHkGAMAjRzr7dehUn+kwXOXVBDFXEsCw9+SRaPIMAICXOrqToU/+JO8miLmSAOZ78oRvUfYdNHkGAMAbQ2Mp7T3ZazoM13m5uOTKUl2Ye/Lk0eQZAABv7DnRc/3MX5h5ubjk2l5ta2NdaPsA0uQZAABv5AdLhLHY42ZeLi65lgBuaUmE9s36tbUrTIcAAEAkRGWwhNeLS64lgA1LFmldfW0o37SLoxOmQwAAIBKiMFji8z9b7/kEMVfLdQ9ualY8hAlgVNrcAABgUhQGS1iS/u0D7/P8dV1NAJdVV2p/CJskR6HNDQAApkVhsIQXTZ9n4nom0746oZ0bV7n9Mp76Wu+rpkMAACD0wr7j5lXT55l4spS1vbVBj29u1oJYOLaDv/Q3A3q2O2k6DAAAQi3sO25eNX2eiWff2fbVCX3jdz6pkOSAeuxkr4ZCfi4BAACT8oMlwihmW1pXX2tsopinqfWy6kpVLvB+n9sNmWxOe070mA4DAIDQCvNgCdMTxTxNAK+mMxpPZ7x8SddMZnM6OzCigeHxWf/ORDqj3ktX9FLyNfVeuqKJkPy3AwDglbAOljA9UczT5bjBkPXPi9mWnnkxqX3TKp37L4/rWFdSneeHlRxL3VC9ZElKVFeqtbFOW1oSalhiZtkXAICg2NKS0NMvXDQdhqPufNdtxieKeboCGLZqnslsTp19w5KmBlVve6pLDz35vI52DWrwpuRPknKSBsdSOto1qIeefF7bnuriHCEAAHMI42CJKz95y/iuoKcJYBireZKjKX3lhR9pw+EzOndhVJLm7Vie//q5C6PacPiMOqgoBgBgVgc3NYeqGCQn81PFPM3IwljNk5O09+Q/KJ3JFj2qZjKbUzqT1e7jPTrS2e9OgAAAwHdM74p6mgCGuZqnXIdO9dFbEACAGew50RO6iSCmd0U9f/WwVvM4gd6CAADcqP/yuM4OjBS9y+ZnlqZ2RU3yPAHc0pII1ZvoJHoLAgBwo2NdydAtHJma/zud5wlgw5JF+vjKGq9fNhAK6S0IAECUdJ4fDtXCkcn5v9MZ2YD+N594r4mXDYR8b0EAAKLuajqjZMiORpmc/zudkQTwrclw9QN00vTeggAARNng6ESoij9Mz/+dzkgC+CfPXzDxsoGRHE0ZbxAJAIBpplulOM30/N/pPE8A+y+P66Wh171+2UDxQ4NIAABMM90qxWmm5/9O5/l3NozVPG4I21MPAADFCtMAiV0bG43P/53O8wQwbNU8bgnbUw8AAMUK+gCJmG2pIm7ric3NerS13nQ4N/A0ywhjNY8b/NAgEgAAP2htrJMVsGXA/E7n2pU1Or1jva9W/vI87UIYtmoet/ihQSQAAH7ws++/W0+/cNF0GAVbtDCuX7zvPdq6JuGLat/ZeJplcK5tfn5pEAkAgB/86dkfmQ6hKCd+c62vE788T7eAOdc2P780iAQAwLT8HOCg8EuPv0J4ugKYr+ZhG3hmMdvS2pU1gfnhAQCgHBPpjC6OTuhaJqsFcVsraqpuOAKV7xwSlOLRhXFb/ZfH1bDE/5/jniaA+WqeQQpBZuSnBpEAALih//K4jnUl1Xl+WMmx1A2LQpakRHWlWhvrtKUlEbjOIaf/cVhf/8dhrauv1cFNzb7p+TcTK5fLefqd3XeyV0e7BgP1hnrlic3NvqwUAgCgXENjKe050aOzAyPzruoFadVvJjHbUty2tL+tSe0+/Vz3/FDelpZEoN9Ut/itQSQAAE7p6E5qw+EzOndhVJLmzQOCnidMZnNKZ7LafbxHRzr7TYczI88TwIYli7SuvpZpIDf5pY++R72Xruil5GvqvXSFWcAAgFA40tmv3cd7lM5kA5/YleLQqT492500HcYtPN8ClqaWgTccPqM0bWFmdfM5iCAcKAUAYLqO7qR2H+8xHYZxFXFbp3es99WZQCMJoMQPRaHy5yCCcKAUAIA8Fnveke/ycfSRFtOhXGesMV/76oR2blxl6uUDI79cfu7CqDYcPqMOHy4jAwBwsz0nepSJ4JbvTCazOZ0dGNHA8LjpUK4z2pl5e2uDHt/crAoaRM8rCAdKAQCQ3mngHMUzf7OJ2ZaeedE/izjGM6/21Qmd3rFeSxcvNB1KYPj1QCkAANI7DZzxjslsTp19w6bDuM54AihJy6or9ZV/9dOmwwiUx072aoiG2gAAHwpaA2evJEdTvuny4YsEUKI9TLEy2Zz2nKCIBgDgL1fTGSVZoJhRTtLF0QnTYUjyUQIoSQc3NStOAlgQPx4oBQBgcHRCrP3N7ppPqqJ9lQAuq67U/rYm02EEht8OlAIA4JcEx68W+KTw1R9RTEN7mML57UApAAB+SXD8yJK0oqbKdBiSfJgASje2h+FM4Nz8dKAUAIAVNVXik3tmiZpKVVXETYchyacJoPROe5i1K2tMh+JrfjpQCgBAVUVcCaZW3SJmW2pdVWc6jOt8mwBKU2cCjz7Soj/b9lHTofga5y0AAH7S2ljHDt5NJrM5bV2TMB3Gdb5OAPM2fPAefZyVwFlx3gIA4CdbWhL0AZwmZltaV1+r+rpFpkO5LjCZw7/5xHtNh+BLfjpQCgCARG/fm8VtSwc3NZsO4waBSQCrqxaYDsGX/HSgFACAPHr7vuNAW5OW+excZGASQLY5b+W3A6UAAOTR23fKro2N+sxq/5z9ywvM0lG+rJwTBe/w24FSAACma1+d0MjVtA6d6jMdiqditqW4belAW5Mvkz8pQAlgVUVc9y5eqEtX3jQdii/EbEtrV9b46kApACC6JtIZXRyd0LVMVgvitlbUVKmqIq7trQ2azOb0pW8MaDIX7mWcmG1pMpvT2pU1Orip2XfbvtMFJgHEjfx4oBQAEC39l8d1rCupzvPDSo6lbtilsyTde+dCKSdduvKmwnwc0NLUmfzWVXXauiYRiMWZwCSA/ZfHWf2bxo8HSgEA0TA0ltKeEz06OzByfdXrZjlJl15/53M7TF1hvv0fHtQ/X03fstoZJIGJ9lhXctYfsqjx64FSAED4dXQntfdkrzJvfx5H8XO58/xw4D+HA1Na23l+OJI/ZHkx21JF3NYTm5v1aGu96XAAABF0pLNfu4/3KJ3JRvoz+bGTvRoaS5kOoyyBSACvpjNKBvwbXap8E821K2t0esd61584JtIZ9V66opeSr6n30hVNpDOuvh4AIBg6upORq+adTSab054TPabDKEsgtoAHRyci2f4lblva2rLc9QOl8x3iTVRXqrWxTltaEmpY4v+DrQAAZw2NpbT3ZK/pMHxjMpvT2YERDQyPB6LgYyaBSACvZbKmQzBiMpvTrocbZz1YOlvJfaEKPcQ7OJbS0a5BPf3CRa2rr/V9aTsAwFl7TvRcP/OHKTHb0jMvJrUvoM2uA5EARnUKSE7SxdEJNS1dfP3PnFqtK/YQb/7r5y6MasPhM9rf1qT2gB+ABQDMr//yuM4OjJgOw3cmszl19g1rn0gAXRPlKSD51U8nV+uOdPaXfI5jMpvTZDan3cd7NHI1re2tDSVdBwAQDHThmF1yNKWJdCZwLWCkgBSBVFXElYjoluOCuK2O7qQ2HD6jcxdGJRW/WtfRnbz+NScP8R461adnp10bABA+Ue/CMZf8Tl0QBSIBlKTWxrrrFbFRYUn6Wu+rJZfcT2ZzSmey2n28R0c6+105xBuGUngAwMyi3IWjUEGtUwhMArilJRG5J5DqqgX60t8MOHKtQ6f69K+/0u34Id4wlMIDAGYW1S4cxQhqnUJgom5Yskjr6msjswoYs6TXU9ccvWb/8FXHk+jppfAAgHAJ6uqWVyxN1SkEUWASQEk6uKlZ8YgkgJO54BS95EvhAQDhEtTVLa8kaioDWQAiBSwBXFZdqf0B7bdTiqDseOdL4QEA4ZLvwoFbxWxLravqTIdRskAlgJLUvjqhnRtXmQ4DN8mXwgMAwiPKXTjmM5nNaeua4PbDDVwCKEnbWxv0+OZmVcTtyJwJ9Lsgl8IDAGYXxS4c84nZltbV1wZ2DJwU0ARQmloJPL1jvdaurDEdCt7GYWEACJ8oduGYT9y2dHBTs+kwyhLYBFCaOhN49JEW/eVv/YzpUCAOCwNAGDUsWaT7E3dyFnCaA21Nt0zZCppglq7c5CPL7tTy6koN0qzSmCCXwgNAFE2kM7o4OqFrmawWxG2tqKm6paI1P4b0O8nXzQTpQ7s2Nuozq4N79i8vFAmgNHVG4WjXIMvUhgS5FB4AoqL/8riOdSXVeX5YybHUDe3GLEmJ6kq1NtZpS0tCf598TXtP9jo+QCCIbEu6LWbrQFtTKJI/SbJyuVwo3tn+y+N66MnnTYcRSbYl/fLqhP5zwM9DAEBY5Vfyzg6MKGZbcy6WzPf1KPrIexbryC/fH/ht3+lCkwBK0ranunTuwig/uIYsn/bk2LAkuJVRABAmHd3J6yt5fD6W5rnPfUJNSxebDsNRoUoAh8ZS2nD4jNJUoxqTf3JcV1+rg5uaQ/W0BABBc6SzX4dO9ZkOI9AsSS/vezh0x5xCVbYZtUkhfpR/ujx3YVQbDp9RRzcj4gDAhI7uJMmfA8J6xj1UCaDEpJC5xGxLDXff7slrTWZzSmey2n28R0c6+z15TQDAlKGxlPae7DUdRuAFfdzbXEKXAEpMCplN3Lb0f/3aas8T5EOn+vQsK4EA4Jk9J3qo3nVA0Me9zSWUCaDEpJCZ5BtXmkiQHzvZqyH6NAKAYybSGfVeuqKXkq+p99KV6/PY+y+P6+zACAUfZQrDuLe5hKoIZDb9l8f1q3/+bV268qbpUIzZtbFRj7bW39D4c2zimp765o907sKo62X/MdvS2pU1OvpIi2uvAQBhV0gfv8oFMZ2/PC7yv/JUxG2d3rE+tMWMkUgApWhXCCeq36WfbVwy6w3jnsULdee7btOVn7zlepJ8escDoX2aAgC3FNPHD854YnNzaJo+zyQyCaA0VRG1+3iP6TCMsC3N+TSYv6Hcc8dCDY+/6cqTY8y2tK1lufZRqQ0ABaOPn/fyu2ZhFtozgDOJcoXwfPeM/E3l1TfcSf7yr9HZN+zOxQEghI509mv38R6lM1mSP5fFbEsVcVtPbG4OffInhWgWcKG2tzYodW1Sf/S3PzQdSiQlR1OaSGdC2VMJAJxEHz9vrV1ZE6kBBpFaAcz7VPO9pkOIrJyki6MTpsMAAF+jj593PnDPIp3e8YCOPtISmeRPimgCuKKmSnQHNOdaBAtxAKAY9PHzzh/88n2RLE6MZAJYVRFXIkJZvt8siEfyxw4ACkIfP2+Evc/ffCL7SdzaWMeUEEPuvr3CdAgA4FvHupJ8Pnkgbls6uKnZdBjGRDYB3NKS4OnKkJb/8g2t/2Kn9p3sVf/lcdPhAICvdJ4f5vPJA/npWFEV2QSwYckirauv5SnLgJykwbGUjnYN6qEnn9e2p7oYEwcAkq6mM0pyP3Tdro2NoW7yXIjIJoCSdHBTs+IkgMbkn3DPXRjVhsNn1NGdNBwRAJg1ODoh1v7cEbU+f/OJdAK4rLpS+5lKYdxkNqd0Jqvdx3t0pLPfdDgAYMxzPa+YDiF08us8a1fW6PSO9ZFf+cuLfDfe9tUJjVxN02zTJw6d6tPdt1fwCwogcobGUvrTsxdMhxEqcdvS1pbl2romEdlq39lEegUwb3trgx7f3KyKuM2ZQB947GQvZwIBRM6eEz0Ufzgo9nbyt6+tieRvBiSAb2tfndDpHeu1dmWNJJEIGpTJ5rTnRI/pMADAM/nef+R/zpnM5rR1DbtJsyEBnGZZdaWOPtKir3/hAW1rWa7lNZVMDDFgMpvT2YERDQzTIgZANND7z1lRb/JcCCuXy/G8MYeJdEYXRyf0w+Gr+u1nv2s6nMiI2Za2vb10X4z8+3Utk9WCuK0VNVWqqoj8UVcAPrf+i50a5OiLYyritk7vWB/pPn/z4ZNxHlUVcTUtXaz//nf/pJhtcT7DI5PZnDr7hrVP8yeA/ZfHdawrqc7zw0qOpW5ooWBJSlRXqrWxTltaEmpYwtMgAH/IP7BeSb1F8uewqDd5LgQrgAXi6cx7lqSX9z086wre0FhKe0706OzAyLzJef7r6+prdXBTMzcGAEbM9cAKZ+za2EifvwKwAlgAOrObkZN0cXRCTUsX3/K1ju6k9p7sVebtpG++ldmbm07vb2tSO61mAHikmAdWFM+2pNtitg60NdFGrEAkgAWgM7s51zLZW/7sSGd/yX0bJ7M5TWZz2n28RyNX09re2lBuiAAwp2IfWFG8j7znTn2p/T52d4pAAliAmZIQeGNB/MZC9Y7upGNNu2k6DcBt5TywonDPPNJCwV+RaANTgJuTEHjDkrSipur6/x4aS2nvyV5HX4Om0wDc4uQDK2a3vKaS5K8EZDYFWFFTRT9AAxI3/VLvOdFzfQvFKTSdBuAGNx5YMbP7lt1pOoRAIgEsQFVFXAnOFXgqZltqXVV3/X/nu+Q7fXaGptMA3ODGAytmwbe5JCSABWptrKNLu4duHuHjZpf8mG3pmReTrlwbgD9MpDPqvXRFLyVfU++lK5pIZ1y7plsPrJjZS//0uukQAolN8wJtaUno6Rcumg4jMj6auPOGET6d54ddu5kW03QaQHC40SS+kGtWLojJtsRcX48kR1OaSGc4B1gkvlsFaliySOvqa3XuwihPdR5YUftO8cfVdMb1JtzcQIDwKKTnXk7S4FhKR7sG9fQLF683ia+uWjDjOMlirglvzdUzFrPj064IBzc1a8PhMySAHvi7wdeu//9P/M9/dP31uIEA4VBqk/hvDoxo3Rc7b/m6JemuygW68pO3lD9sxmeA/9CurXicASzCsupK7W9jm9ALg6MpnfvhiH7/6+d19MVBT16TGwgQbEc6+7X7eI/SmWzRSdpsfzsnaSx1TZO5nCbJ+3yLdm3FYwWwSO2rExq5mqa3kwc++2ddnr4eNxAguOi5F10394xFYfjEK8H21gY9vrlZFXGbyuCQ4AYCBBc996Lt5p6xKAwJYInaVyd0esd6rV1ZI0nzJoLkif7GDQQILnruRdfNPWNROD7xyrCsulJHH2l5py1A37CSozO0BaipVOuqOr2euqaT379EawCf4QYCBFe+5x6i6eaesSgcCaADGpYs0r62Ju1TkybSmRlbCEhTN6qvfu+S4WhxM24gQHDlm8RTmRs9MdvS2pU1N/SMReFIAB1WVRGftZVIw5JFWrp4oS5dedPjqDAbbiBA8Ex/0P5a76skfxEVty0d3NRsOozAIgH0GmcBfcWvN5C5VpKDcH3AaXNN4EA0HWhr0rLqStNhBBZ3fA9dTWf0yuus/vlJwkc3DzfGVnl5fcANhUzgQPTs2tioz6zm6E45rFwux2+TR3ovXdGn/uCbpsPANDHbUty2tL+tSe3TbiZerpAV8wGX/3p+bFUhT79uXx9wy/SpHiR+4WJJsotM6PP36wNtTSR/DiAB9NBLyde06cvnTIeBWfza2uVSzvJ0hazUD7jZElevrw9I7jwwHensp7FzSMVsS7/wkaUaHk/zYGoQCaCHWAH0P9vSnG16nLwROfUBt3PjKm1vbfD8+og2N48UdHQntft4j6Pxwl9O73hA9XWLCm6jtnVNgmI9h5EAemgindGH9n2Nw8shUO4KmdMfcE9sbr5hS8Tt6yO6vDiysOHwGaWZzR1K+c4LRx9pueVrFKd5iwTQY+u/2KnBsZTpMOCgYlfI3PiAq4jbOr1jvZZVV7p+fUSXF0cKtj3VpXMXRjnzF1LcS/yDUXAea22sY35wyBw61adnu5MF/303xlZlsjntOdHjyfURTUc6+7X7eI/SmWzRydlkNqd0Jqvdx3t0pLN/1r+Xn+pB8hdetG7xDxJAj21pSXBzC6HHTvZqqICVXbc+4CazOZ0dGNE3fvCqq9cfGB539LphMZHOqPfSFb2UfE29l65oIp0xHZKjOrqTjhVkzPXAlJ/qgXCidYu/sLnusYYli7SuvpYtjpDJr5DNdK5lOjfHVsVsS4dO9bl6/WdeTGpfW5Pj1w6iqPRVHBpLae/JXkev+djJXq19X+0tK0Gd54e5L4bUo598nx5trTcdBqZhBdCAg5uaFecpN1TyK2Tf/6fX5/x7bn7ATWZz6h++6ur1O/uGXbl2kAyNpbTtqS499OTzOto1qMEZplLkJA2OpXS0a1APPfm8tj3VVdAKsR95daTgajqjZEC/R5jfzzXfazoE3IQE0IBl1ZXazypKKLX94be0/oud2neyV/2Xb9wu9eIDzukP6pslR1Oh294sRkd3UhsOn9G5C6OSNG+ynf/6uQuj2nD4jDqKOCvqB24fWZh+pGBwdIIOCSFlSVpRU2U6DNyEBNCQ9tUJ7dy4ynQYcMFsKz9h+IDLSbo4OmE6DCO8KIJwW7FnFd08k2db0p9/6+L1/x3UFVLML1FTSTsXH+IdMWh7a4Nqb68oqa1CvmGxZUk08vGfm1d+9rc1qTHA58Cmu+Zifza/9gFzugji7tsrPDsMX85ZRTePLGRz0rFvJ/XNgRG1NtbpxR+NuvI6MCtmW2pdVWc6DMyAPoA+UGpj1e2t9TrSOcCQ9IDYtma5jr44aDqMsj33uU+oaelix67n92KKoPZVLLdh89V0Rs0eNa6fbwIPgi0/9QP+QgLoI6WOxJnr3wFOsiS9vO9hR1bl3J4o4ZTNX/6WXkq+7ujv1VzTEJzgRMPm5ncvZnQlyuL2zznKQwLoU6VuhU3/d69NXNO/O/b3ujbJW+wXlhToBH15TaXO7Gwt+zpeTJQo19BYSp9/9iV9J/m6a6/hxsqIUzOgP/vTCf3Ft4NVtAJ/YeqHv5EAhhxD1f0lyAlgzLa0rWV52X0AnUpQih3BV4x8gnotk3Xt/XLq+zkdv+/wE2aI+xtVwCFHtbG/BDX5k6YKW7aumf9mPlelqVcTJcoxvdrXzffL6b6KbjRsBkrF1A//M19eB9eVU20M5C2M23rmxeSMxRiFFHJ8bMVdOvm9S47GNNtEiVI5maAWIt9X0YkzlW40bEa0xSypmBNE+SMaB9qaSP4CgC3gCJl+6B4oxc3FGJIKLuRwKx6nDpm7Ue1bCCeqqvsvj+uhJ593KCJA+t8fbtS5H476vkgLpSMBjKDvDb2un/+jb5kOAwEWsy3l2wPnNP9EDLeVW0wxkc5o61Nd+t4/ve55O5ITv7lW9yXuKusa+0726mjXoPH3AeGwa2Pj9bm9pXangP+xBRxBH1l2p5ZXV2qQzvsokZ8SjZht6ZkXk0UXU0zftjb5u7AgXv5RbDcbNiMaZtu+bViySPvamrRPTb5t1I7S8M5FVGtjHSsGCIXJbE5/c35Yv3TpPQV9MBXTf9Bt5c5I7b88rj8/d5GHOZQs/zuwdmXNvNu3VRVxR5vAwyy2gCOKM0MIs9kmiJTaf9AtC2+z9fUvFN8nbXoSyxQNlILtW5AARti2p7p07sKoLz4IATdMP5z+/nsW6U+/+SPTId3A0tQWcDGNrf2WxCJYHv3k+/RzzfeyfQsSwCgzVfUIeM2yJL/f6QppbO1UE21E0/TiDoBG0BG2rLpS+x2cQgD4ld+TP2n+xtZe9yhEOMRsSxVxW09sbib5ww1YAQSrCoBPzDY7ldV6FIvefJgPCSAkca4I8APbkta8t0Z/8etrrv9Z/+Vx/eqff1uXrrxpMDIEBcUdKBQJIK4rpj1G/usNd9+u/n++6mGUQPgtXbxQH39fjX40MqHvJF83HQ587stb7tc9dyykNx+KQgKIWxTb+Z0tZADwnpOjEBE9JICYU6Gd39lCBgBvzXZmFCgECSAc46cJCwAQdk9sbr5hbBtQDBJAOG6uLWQAQPno6YdykQDCVTdvIf9FV1IdfzfE6iAAFClmW4rblg60NbHyh7KRAMJTzCAGgOLQ0w9uoFYcnmpYskjr6muZQQwAmur9eM8dC3Vb3C6o6wLgFFYA4TmmGgDAlOmVvIV2XQCcQAIIIzq6k9p9vMd0GABgFJW8MMU2HQCiqX11Qjs3rjIdBgAYs2tjI8kfjGEFEEaV2kDatqYORn/w3jv08o/f0CQ/xgACgEpe+AUJIIwrZQZxvhruzbcmqSoGYFyx9y4qeWEaCSB8o9gZxHnbnuqiqhiAERVxW3+67aP6m3/856LvXYBJJIDwpWKq4agqBmDKzUUcVPIiKEgAEQpUFQMoVNy2lHFgx4BxbAgyHksQCu2rExq5mtahU32mQwHgc//5Fz6knFRSARpFHAgLVgARKqVWFQOIhumrduUUoFHEgaAjAUToFHNTBxB+863alVqABgQZCSBCq9Cb+icaavXN/pEZ/x4A/3Jj1Y4iDkQFCSAiodCb+vS/NzZxTb/1F9+huhjwkZhtae3KGj326Q+yageUgQQQmAPVxYC/VMRtnd6x/obVPFbtgOLxGwLMgepiwF8OtDXdspVbVRFX09LFhiICgokVQKAApVYXx2xLkihEARxA3z3AOSSAQIHKaRnxrR+O0J4GkRe3LeVU3AMRffcAd5AAAkUqtWUE7WkQZbs2NqrtI0vpuwf4BAkgUIZSDp8XkkB+bPldujgyob9Pvu5ZsvhTyxbru0NXXH8d+EuhiZglybKkYn4UZ1u9o+8eYB4JIGDQfAnkfB+Ui991m17/yVtlx5E/W7XtqS6duzDK6mTIldJKpSIec2X1jgpewAwSQCAgZvugLKdA5ebVmaGxlDYcPkPvw5Arp5UKq3dAOJAAAiHg5ExTeh+G3xObmx0pqGD1DgguEkAgRJxanTnS2U/vw5CilQoAiQQQCK1yV2fK3Vr+dPO9+n9e+nEpoUdGKW1RSkErFQA3IwEEMKtyt5adXEkMW+ucUtuirF5+lySpe/A1WqkAKBkJIIB5lbO17ESRyv2Ju2Z9/SBxsi0KxRgAykECCKAopWwtO1mkMtPr/9X3L5WUZNpv97WzLKmYO2HMthSzpOU1Veofvmq8LQrFGACKRQIIwDNurlqVmmRub63Xkc6BkpNTVuIABBEJIAAj3Fq1KjUhcyKRYyUOQFCQAAIIrVITMhI5AGFHAggAABAxtukAAAAA4C0SQAAAgIghAQQAAIgYEkAAAICIIQEEAACIGBJAAACAiCEBBAAAiJj/H2KeIfcff9heAAAAAElFTkSuQmCC",
      "text/plain": [
       "Canvas(toolbar=Toolbar(toolitems=[('Home', 'Reset original view', 'home', 'home'), ('Back', 'Back to previous …"
      ]
     },
     "metadata": {},
     "output_type": "display_data"
    }
   ],
   "source": [
    "import networkx as nx\n",
    "\n",
    "nx.draw(new_graphs[0])"
   ]
  }
 ],
 "metadata": {
  "kernelspec": {
   "display_name": "Python 3",
   "language": "python",
   "name": "python3"
  },
  "language_info": {
   "codemirror_mode": {
    "name": "ipython",
    "version": 3
   },
   "file_extension": ".py",
   "mimetype": "text/x-python",
   "name": "python",
   "nbconvert_exporter": "python",
   "pygments_lexer": "ipython3",
<<<<<<< HEAD
   "version": "3.9.7"
=======
   "version": "3.7.9"
>>>>>>> dcaa6931c191ba989dbe8b0bf8fd8f109ecd9159
  }
 },
 "nbformat": 4,
 "nbformat_minor": 5
}

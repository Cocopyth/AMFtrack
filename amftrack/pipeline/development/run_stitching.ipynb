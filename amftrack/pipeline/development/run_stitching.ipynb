{
 "cells": [
  {
   "cell_type": "code",
   "execution_count": 10,
   "metadata": {},
   "outputs": [],
   "source": [
    "%matplotlib widget\n",
    "\n",
    "import os  \n",
    "import sys  \n",
    "sys.path.insert(0, os.getenv('HOME')+'/pycode/MscThesis/')\n",
    "import pandas as pd\n",
    "from amftrack.util import get_dates_datetime, get_dirname, get_plate_number, get_postion_number\n",
    "\n",
    "import ast\n",
    "from amftrack.plotutil import plot_t_tp1\n",
    "from scipy import sparse\n",
    "from datetime import datetime\n",
    "from amftrack.pipeline.functions.node_id import orient\n",
    "import pickle\n",
    "import scipy.io as sio\n",
    "from pymatreader import read_mat\n",
    "from matplotlib import colors\n",
    "import cv2\n",
    "import imageio\n",
    "import matplotlib.pyplot as plt\n",
    "import numpy as np\n",
    "from skimage.filters import frangi\n",
    "from skimage import filters\n",
    "from random import choice\n",
    "import scipy.sparse\n",
    "import os\n",
    "from amftrack.pipeline.functions.extract_graph import from_sparse_to_graph, generate_nx_graph, sparse_to_doc\n",
    "from skimage.feature import hessian_matrix_det\n",
    "from amftrack.pipeline.functions.experiment_class_surf import Experiment\n",
    "from amftrack.pipeline.paths.directory import run_parallel, find_state, directory_scratch, directory_project\n"
   ]
  },
  {
   "cell_type": "code",
   "execution_count": 11,
   "metadata": {},
   "outputs": [
    {
     "name": "stdout",
     "output_type": "stream",
     "text": [
      "38\n"
     ]
    },
    {
     "data": {
      "text/plain": [
       "'20210819_0722_Plate38'"
      ]
     },
     "execution_count": 11,
     "metadata": {},
     "output_type": "execute_result"
    }
   ],
   "source": [
    "plate_number = 721\n",
    "plate = get_postion_number(plate_number)\n",
    "# plate = 2\n",
    "print(plate)\n",
    "directory = directory_scratch\n",
    "directory = directory_project\n",
    "listdir = os.listdir(directory)\n",
    "list_dir_interest = [name for name in listdir if name.split('_')[-1]==f'Plate{0 if plate<10 else \"\"}{plate}']\n",
    "dates_datetime = get_dates_datetime(directory,plate)\n"
   ]
  },
  {
   "cell_type": "code",
   "execution_count": 17,
   "metadata": {},
   "outputs": [],
   "source": [
    "i = 139 \n",
    "dirname = get_dirname(dates_datetime[i], plate)"
   ]
  },
  {
   "cell_type": "code",
   "execution_count": 29,
   "metadata": {},
   "outputs": [
    {
     "data": {
      "text/plain": [
       "'stitching_loop0.ijm'"
      ]
     },
     "execution_count": 29,
     "metadata": {},
     "output_type": "execute_result"
    }
   ],
   "source": [
    "import shutil\n",
    "j=0\n",
    "shutil.copy2(\"stitching_loop.ijm\",f'stitching_loop{j}.ijm')"
   ]
  },
  {
   "cell_type": "code",
   "execution_count": 43,
   "metadata": {},
   "outputs": [],
   "source": [
    "def make_stitching_loop(directory,dirname,index):\n",
    "    a_file = open(f'{path_code}MscThesis/amftrack/pipeline/scripts/stitching_loops/stitching_loop.ijm',\"r\")\n",
    "\n",
    "    list_of_lines = a_file.readlines()\n",
    "\n",
    "    list_of_lines[4] = f'mainDirectory = \\u0022{directory}\\u0022 ;\\n'\n",
    "    list_of_lines[29] = f'\\t if(startsWith(list[i],\\u0022{dirname}\\u0022)) \\u007b\\n'\n",
    "    file_name = f'{path_code}MscThesis/amftrack/pipeline/scripts/stitching_loops/stitching_loop{index}.ijm'\n",
    "    a_file = open(file_name, \"w\")\n",
    "\n",
    "    a_file.writelines(list_of_lines)\n",
    "\n",
    "    a_file.close()"
   ]
  },
  {
   "cell_type": "code",
   "execution_count": 54,
   "metadata": {},
   "outputs": [],
   "source": [
    "path_code = \"/home/cbisot/pycode/\"\n",
    "path_job = \"/home/cbisot/bash/job.sh\"\n",
    "from subprocess import call\n",
    "\n",
    "def run_parallel_stitch(plate, directory, begin, end, num_parallel, time):\n",
    "    begin_skel = begin // num_parallel\n",
    "    end_skel = (end) // num_parallel + 1\n",
    "    listdir = os.listdir(directory)\n",
    "    list_dir_interest = [name for name in listdir if name.split('_')[-1]==f'Plate{0 if plate<10 else \"\"}{plate}']\n",
    "    dates_datetime = get_dates_datetime(directory,plate)\n",
    "    for j in range(begin_skel, end_skel):\n",
    "        start = num_parallel * j + begin % num_parallel\n",
    "        stop = num_parallel * j + num_parallel + begin % num_parallel\n",
    "        for k in range(start,stop):\n",
    "            make_stitching_loop(directory,get_dirname(dates_datetime[k], plate),k-start)\n",
    "        ide = int(datetime.now().timestamp())\n",
    "        my_file = open(path_job, \"w\")\n",
    "        my_file.write(\n",
    "            f\"#!/bin/bash \\n#Set job requirements \\n#SBATCH -N 1 \\n#SBATCH -t {time}\\n#SBATCH -p normal\\n\"\n",
    "        )\n",
    "        my_file.write(\n",
    "            f'#SBATCH -o \"{path_code}MscThesis/slurm/stitching__{start}_{stop}_{ide}.out\" \\n'\n",
    "        )\n",
    "        for k in range(start,stop):\n",
    "            my_file.write(f\"~/Fiji.app/ImageJ-linux64 --headless -macro  {path_code}MscThesis/amftrack/pipeline/scripts/stitching_loops/stitching_loop{k}.ijm &\\n\")\n",
    "        my_file.write(\"wait\\n\")\n",
    "        my_file.close()\n",
    "        call(f\"sbatch {path_job}\", shell=True)"
   ]
  },
  {
   "cell_type": "code",
   "execution_count": 55,
   "metadata": {},
   "outputs": [],
   "source": [
    "run_parallel_stitch(13,directory_project,0,0,1,1)"
   ]
  },
  {
   "cell_type": "code",
   "execution_count": 44,
   "metadata": {},
   "outputs": [],
   "source": [
    "make_stitching_loop(directory_project,\"20200701_1557_Plate13\",0)"
   ]
  },
  {
   "cell_type": "code",
   "execution_count": 28,
   "metadata": {},
   "outputs": [],
   "source": [
    "directory = directory_project\n",
    "\n",
    "a_file = open(\"stitching_loop.ijm\", \"r\")\n",
    "\n",
    "list_of_lines = a_file.readlines()\n",
    "\n",
    "list_of_lines[4] = f'mainDirectory = \\u0022{directory}\\u0022 ;\\n'\n",
    "list_of_lines[29] = f'\\t if(startsWith(list[i],\\u0022{dirname}\\u0022)) \\u007b\\n'\n",
    "a_file = open(\"stitching_loop.ijm\", \"w\")\n",
    "\n",
    "a_file.writelines(list_of_lines)\n",
    "\n",
    "a_file.close()"
   ]
  }
 ],
 "metadata": {
  "kernelspec": {
   "display_name": "Python 3",
   "language": "python",
   "name": "python3"
  },
  "language_info": {
   "codemirror_mode": {
    "name": "ipython",
    "version": 3
   },
   "file_extension": ".py",
   "mimetype": "text/x-python",
   "name": "python",
   "nbconvert_exporter": "python",
   "pygments_lexer": "ipython3",
   "version": "3.7.7"
  }
 },
 "nbformat": 4,
 "nbformat_minor": 4
}

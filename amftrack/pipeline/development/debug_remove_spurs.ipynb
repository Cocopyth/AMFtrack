{
 "cells": [
  {
   "cell_type": "code",
   "execution_count": 1,
   "metadata": {},
   "outputs": [],
   "source": [
    "%matplotlib widget\n",
    "\n",
    "import os  \n",
    "import sys  \n",
    "sys.path.insert(0, os.getenv('HOME')+"/pycode/MscThesis/")\n",
    "from amftrack.util import get_dates_datetime, get_skeleton\n",
    "import os\n",
    "from amftrack.pipeline.functions.experiment_class_surf import Experiment\n",
    "# from experiment_class_surftest import Experiment, clean_exp_with_hyphaes\n",
    "from amftrack.pipeline.functions.hyphae_id_surf import (\n",
    "    clean_and_relabel,\n",
    "    get_mother,\n",
    "    save_hyphaes,\n",
    "    resolve_ambiguity_two_ends,\n",
    "    clean_obvious_fake_tips,\n",
    "    width_based_cleaning\n",
    ")\n",
    "# from hyphae_id_surftest import (\n",
    "#     clean_and_relabel,\n",
    "#     get_mother,\n",
    "#     save_hyphaes,\n",
    "#     resolve_ambiguity_two_ends,\n",
    "#     solve_degree4,\n",
    "#     clean_obvious_fake_tips,\n",
    "# )\n",
    "from amftrack.pipeline.paths.directory import run_parallel, find_state, directory_scratch, directory_project, run_parallel_stitch\n",
    "from random import choice\n",
    "import networkx as nx\n",
    "from amftrack.pipeline.functions.node_id import *\n",
    "from amftrack.pipeline.functions.experiment_class_surf import *\n",
    "\n",
    "plate = 38\n",
    "begin = 131\n",
    "end = 191\n",
    "directory = directory_project\n",
    "\n",
    "dates_datetime = get_dates_datetime(directory,plate)\n",
    "dates_datetime.sort()\n",
    "dates_datetime_chosen = dates_datetime[begin : end + 1]\n",
    "dates = dates_datetime_chosen\n",
    "exp = Experiment(plate, directory)\n",
    "exp.load(dates)"
   ]
  },
  {
   "cell_type": "code",
   "execution_count": 2,
   "metadata": {},
   "outputs": [],
   "source": [
    "\n",
    "experiment = exp\n",
    "ts = {}\n",
    "nx_graph_cleans = [nx.Graph.copy(nx_g) for nx_g in experiment.nx_graph]\n",
    "#     exp_clean = Experiment(experiment.plate, experiment.directory)\n",
    "#     exp_clean.copy(experiment)\n",
    "exp_clean = experiment\n",
    "labels = {node for g in exp_clean.nx_graph for node in g}\n",
    "exp_clean.nodes = []\n",
    "for label in labels:\n",
    "    exp_clean.nodes.append(Node(label, exp_clean))\n",
    "for node in exp_clean.nodes:\n",
    "    ts[node.label] = []\n",
    "    for t in range(len(nx_graph_cleans)):\n",
    "        if node.is_in(t):\n",
    "            ts[node.label].append(t)\n",
    "# hyphaes, problems = get_hyphae(exp_clean)\n",
    "to_remove = []\n",
    "# safe_nodes = set()\n",
    "# roots = set()\n",
    "# tips = set()\n",
    "# to_remove_hyphae = set()\n",
    "# for hyphae in hyphaes:\n",
    "#     roots.add(hyphae.root.label)\n",
    "#     tips.add(hyphae.end.label)\n",
    "#     for t in hyphae.end.ts():\n",
    "#         if t in hyphae.root.ts():\n",
    "#             try:\n",
    "#                 for node in hyphae.get_nodes_within(t)[0]:\n",
    "#                     safe_nodes.add(node)\n",
    "#             except nx.exception.NetworkXNoPath:\n",
    "#                 to_remove_hyphae.add(hyphae)\n",
    "#                 print(\n",
    "#                     f\"error for hyphae {hyphae} on position {hyphae.end.pos(t),hyphae.root.pos(t)}\"\n",
    "#                 )\n",
    "# for hyphae in to_remove_hyphae:\n",
    "#     hyphaes.remove(hyphae)\n",
    "for node in experiment.nodes:\n",
    "    posit = node.pos(ts[node.label][0])\n",
    "    if (\n",
    "        len(ts[node.label]) == 1\n",
    "        and ts[node.label][0] != len(exp_clean.nx_graph) - 1\n",
    "#         and node.label not in safe_nodes\n",
    "    ):\n",
    "        to_remove.append(node)\n",
    "#     return(to_remove)\n"
   ]
  },
  {
   "cell_type": "code",
   "execution_count": 39,
   "metadata": {},
   "outputs": [],
   "source": [
    "from amftrack.notebooks.analysis.util import *\n",
    "\n",
    "def plot_node_skel(node,t0,ranges = 1000):\n",
    "    t = t0\n",
    "    center = node.pos(t0)[1],node.pos(t0)[0]\n",
    "    window = (center[0]-ranges,center[0]+ranges,center[1]-ranges,center[1]+ranges)\n",
    "    skelet,rot,trans = get_skeleton(node.experiment,window,t,directory)\n",
    "#     im_stitched = get_im_stitched(exp,window,t,directory)\n",
    "    tips = [node.label for node in exp.nodes if t in node.ts() and node.degree(t) ==1 and node.pos(t)[1]>=window[0] and node.pos(t)[1]<=window[1] and node.pos(t)[0]>=window[2] and node.pos(t)[0]<=window[3]]\n",
    "    junction =  [node.label for node in exp.nodes if t in node.ts() and node.degree(t) >=2 and node.pos(t)[1]>=window[0] and node.pos(t)[1]<=window[1] and node.pos(t)[0]>=window[2] and node.pos(t)[0]<=window[3]]\n",
    "    _ = plot_t_tp1(junction,tips,exp.positions[t],exp.positions[t],skelet,skelet,shift=(window[2],window[0]),time=f't={int(get_time(exp,0,t))}h')"
   ]
  },
  {
   "cell_type": "code",
   "execution_count": 53,
   "metadata": {},
   "outputs": [
    {
     "data": {
      "application/vnd.jupyter.widget-view+json": {
       "model_id": "c50f1ea1253a4e53a1e49ba271702e18",
       "version_major": 2,
       "version_minor": 0
      },
      "text/plain": [
       "Canvas(toolbar=Toolbar(toolitems=[('Home', 'Reset original view', 'home', 'home'), ('Back', 'Back to previous …"
      ]
     },
     "metadata": {},
     "output_type": "display_data"
    }
   ],
   "source": [
    "plt.close('all')\n",
    "node = choice(nondeg0)\n",
    "t0 = ts[node.label][0]\n",
    "node.show_source_image(t0,t0)"
   ]
  },
  {
   "cell_type": "code",
   "execution_count": 47,
   "metadata": {},
   "outputs": [
    {
     "data": {
      "text/plain": [
       "0"
      ]
     },
     "execution_count": 47,
     "metadata": {},
     "output_type": "execute_result"
    }
   ],
   "source": [
    "node.degree(t0)"
   ]
  },
  {
   "cell_type": "code",
   "execution_count": 51,
   "metadata": {},
   "outputs": [],
   "source": [
    "nondeg0 = [node for node in to_remove if node.degree(node.ts()[0]) != 0]"
   ]
  },
  {
   "cell_type": "code",
   "execution_count": 50,
   "metadata": {},
   "outputs": [
    {
     "data": {
      "text/plain": [
       "(15421, 16600)"
      ]
     },
     "execution_count": 50,
     "metadata": {},
     "output_type": "execute_result"
    }
   ],
   "source": [
    "len(deg0), len(to_remove)"
   ]
  },
  {
   "cell_type": "code",
   "execution_count": 54,
   "metadata": {},
   "outputs": [
    {
     "data": {
      "application/vnd.jupyter.widget-view+json": {
       "model_id": "174755df97db4a27ab9df4716836f680",
       "version_major": 2,
       "version_minor": 0
      },
      "text/plain": [
       "Canvas(toolbar=Toolbar(toolitems=[('Home', 'Reset original view', 'home', 'home'), ('Back', 'Back to previous …"
      ]
     },
     "metadata": {},
     "output_type": "display_data"
    }
   ],
   "source": [
    "plot_node_skel(node,t0)"
   ]
  },
  {
   "cell_type": "code",
   "execution_count": 8,
   "metadata": {},
   "outputs": [
    {
     "data": {
      "text/plain": [
       "[50]"
      ]
     },
     "execution_count": 8,
     "metadata": {},
     "output_type": "execute_result"
    }
   ],
   "source": [
    "ts[node.label]"
   ]
  },
  {
   "cell_type": "code",
   "execution_count": 7,
   "metadata": {},
   "outputs": [
    {
     "data": {
      "text/plain": [
       "(array([20689, 31348]), 12664)"
      ]
     },
     "execution_count": 7,
     "metadata": {},
     "output_type": "execute_result"
    }
   ],
   "source": [
    "node.pos(t0),node.label"
   ]
  },
  {
   "cell_type": "code",
   "execution_count": 12,
   "metadata": {},
   "outputs": [
    {
     "name": "stderr",
     "output_type": "stream",
     "text": [
      "/home/cbisot/anaconda3/envs/test/lib/python3.7/site-packages/matplotlib/__init__.py:880: MatplotlibDeprecationWarning: \n",
      "nbagg.transparent\n",
      "  version, key, obj_type=\"rcparam\", alternative=alt_key)\n"
     ]
    },
    {
     "data": {
      "application/vnd.jupyter.widget-view+json": {
       "model_id": "53404c25f7e245508ac90a6b1052232d",
       "version_major": 2,
       "version_minor": 0
      },
      "text/plain": [
       "Canvas(toolbar=Toolbar(toolitems=[('Home', 'Reset original view', 'home', 'home'), ('Back', 'Back to previous …"
      ]
     },
     "metadata": {},
     "output_type": "display_data"
    }
   ],
   "source": [
    "plot_raw_plus(exp,t0,[node.label])"
   ]
  },
  {
   "cell_type": "code",
   "execution_count": 19,
   "metadata": {},
   "outputs": [
    {
     "name": "stdout",
     "output_type": "stream",
     "text": [
      "removing  16598  nodes out of 18809 because they appear only in one timestep and are not within an identified hypha\n"
     ]
    }
   ],
   "source": [
    "print(\n",
    "    \"removing \",\n",
    "    len(to_remove),\n",
    "    f\" nodes out of {len(exp_clean.nodes)} because they appear only in one timestep and are not within an identified hypha\",\n",
    ")"
   ]
  },
  {
   "cell_type": "code",
   "execution_count": null,
   "metadata": {},
   "outputs": [],
   "source": [
    "print(\n",
    "    \"removing \",\n",
    "    len(to_remove),\n",
    "    f\" nodes out of {len(exp_clean.nodes)} because they appear only in one timestep and are not within an identified hypha\",\n",
    ")\n",
    "#     for node in to_remove:\n",
    "#         t = ts[node][0]\n",
    "#         pos = exp_clean.positions[t]\n",
    "#         nx_graph_clean = nx_graph_cleans[t]\n",
    "#         #         if t ==3:\n",
    "#         #             print('before everythin',node,node_to_fuse,1354 in nx_graph_clean)\n",
    "#         if nx_graph_clean.degree(node) <= 2:\n",
    "#             continue\n",
    "#         #         print('cleaning',node)\n",
    "#         neighbours = list(nx_graph_clean.neighbors(node))\n",
    "#         candidate_to_fuse = []\n",
    "#         weight_candidate = []\n",
    "#         for neighbour in neighbours:\n",
    "#             if nx_graph_clean.degree(neighbour) >= 3:\n",
    "#                 candidate_to_fuse.append(neighbour)\n",
    "#                 weight_candidate.append(\n",
    "#                     len(nx_graph_clean.get_edge_data(node, neighbour)[\"pixel_list\"])\n",
    "#                     - 100 * (neighbour in roots)\n",
    "#                     - 100 * (neighbour in tips)\n",
    "#                 )\n",
    "#         if len(weight_candidate) == 0:\n",
    "#             continue\n",
    "#         node_to_fuse = candidate_to_fuse[np.argmin(weight_candidate)]\n",
    "#         if nx_graph_clean.degree(node) == 1 and node_to_fuse not in to_remove:\n",
    "#             print(pos[node])\n",
    "#             continue\n",
    "#         for neighbour in neighbours:\n",
    "#             right_n = node_to_fuse\n",
    "#             left_n = neighbour\n",
    "#             right_edge = nx_graph_clean.get_edge_data(node, right_n)[\"pixel_list\"]\n",
    "#             left_edge = nx_graph_clean.get_edge_data(node, left_n)[\"pixel_list\"]\n",
    "#             right_edge_width = nx_graph_clean.get_edge_data(node, right_n)[\"width\"]\n",
    "#             left_edge_width = nx_graph_clean.get_edge_data(node, left_n)[\"width\"]\n",
    "#             if np.any(right_edge[0] != pos[node]):\n",
    "#                 right_edge = list(reversed(right_edge))\n",
    "#             if np.any(left_edge[-1] != pos[node]):\n",
    "#                 left_edge = list(reversed(left_edge))\n",
    "#             pixel_list = left_edge + right_edge[1:]\n",
    "#             width_new = (right_edge_width*len(right_edge)+left_edge_width*len(left_edge))/(len(right_edge)+len(left_edge))\n",
    "# #             print(width_new)\n",
    "#             info = {\"weight\": len(pixel_list), \"pixel_list\": pixel_list, \"width\" : width_new}\n",
    "#             if right_n != left_n:\n",
    "#                 connection_data = nx_graph_clean.get_edge_data(right_n, left_n)\n",
    "#                 if (\n",
    "#                     connection_data is None\n",
    "#                     or connection_data[\"weight\"] >= info[\"weight\"]\n",
    "#                 ):\n",
    "#                     if not connection_data is None:\n",
    "#                         nx_graph_clean.remove_edge(right_n, left_n)\n",
    "#                     nx_graph_clean.add_edges_from([(right_n, left_n, info)])\n",
    "#         nx_graph_clean.remove_node(node)\n",
    "#         nx_graph_cleans[t] = nx_graph_clean\n",
    "for t, nx_graph in enumerate(nx_graph_cleans):\n",
    "    pos = exp_clean.positions[t]\n",
    "    reconnect_degree_2(nx_graph, pos)\n",
    "nx_graph_pruned = []\n",
    "for graph in nx_graph_cleans:\n",
    "    nx_graph_pruned.append(prune_graph(graph, 0.1))\n",
    "skeletons = []\n",
    "#     for nx_graph in nx_graph_pruned:\n",
    "#         skeletons.append(generate_skeleton(nx_graph, dim=(30000, 60000)))\n",
    "exp_clean.nx_graph = nx_graph_pruned\n",
    "#     exp_clean.skeletons = skeletons\n",
    "labels = {node for g in exp_clean.nx_graph for node in g}\n",
    "exp_clean.nodes = []\n",
    "for hyphae in hyphaes:\n",
    "    hyphae.update_ts()\n",
    "to_remove_hyphae = set()\n",
    "for hyphae in hyphaes:\n",
    "    for t in hyphae.end.ts():\n",
    "        if t in hyphae.root.ts():\n",
    "            try:\n",
    "                hyphae.get_nodes_within(t)[0]\n",
    "            except nx.exception.NetworkXNoPath:\n",
    "                to_remove_hyphae.add(hyphae)\n",
    "                print(\n",
    "                    f\"error for hyphae {hyphae} on position {hyphae.end.pos(t),hyphae.root.pos(t)}\"\n",
    "                )\n",
    "for hyphae in to_remove_hyphae:\n",
    "    hyphaes.remove(hyphae)\n",
    "exp_clean.hyphaes = hyphaes\n",
    "for label in labels:\n",
    "    exp_clean.nodes.append(Node(label, exp_clean))"
   ]
  },
  {
   "cell_type": "code",
   "execution_count": 3,
   "metadata": {},
   "outputs": [],
   "source": [
    "\n",
    "def remove_spurs(nx_g,pos,threshold = 100):\n",
    "    found = True\n",
    "    while found:\n",
    "        spurs = []\n",
    "        found = False\n",
    "        for edge in nx_g.edges:\n",
    "            edge_data = nx_g.get_edge_data(*edge)\n",
    "            if (nx_g.degree(edge[0])==1 or nx_g.degree(edge[1])==1) and edge_data['weight']<threshold:\n",
    "                spurs.append(edge)\n",
    "                found = True\n",
    "        for spur in spurs:\n",
    "            nx_g.remove_edge(spur[0],spur[1])\n",
    "        print(len(spurs))\n",
    "        reconnect_degree_2(nx_g, pos,has_width = False)\n",
    "    return(nx_g,pos)"
   ]
  }
 ],
 "metadata": {
  "kernelspec": {
   "display_name": "Python 3",
   "language": "python",
   "name": "python3"
  },
  "language_info": {
   "codemirror_mode": {
    "name": "ipython",
    "version": 3
   },
   "file_extension": ".py",
   "mimetype": "text/x-python",
   "name": "python",
   "nbconvert_exporter": "python",
   "pygments_lexer": "ipython3",
   "version": "3.7.7"
  }
 },
 "nbformat": 4,
 "nbformat_minor": 4
}

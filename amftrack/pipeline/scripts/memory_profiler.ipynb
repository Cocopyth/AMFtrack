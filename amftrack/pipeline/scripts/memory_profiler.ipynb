{
 "cells": [
  {
   "cell_type": "code",
   "execution_count": 1,
   "metadata": {},
   "outputs": [
    {
     "name": "stdout",
     "output_type": "stream",
     "text": [
      "Collecting memory_profiler\n",
      "  Downloading memory_profiler-0.58.0.tar.gz (36 kB)\n",
      "Collecting psutil\n",
      "  Downloading psutil-5.8.0-cp37-cp37m-win_amd64.whl (244 kB)\n",
      "Building wheels for collected packages: memory-profiler\n",
      "  Building wheel for memory-profiler (setup.py): started\n",
      "  Building wheel for memory-profiler (setup.py): finished with status 'done'\n",
      "  Created wheel for memory-profiler: filename=memory_profiler-0.58.0-py3-none-any.whl size=30185 sha256=483944352a3b08ce371a8bcb84d3dfdf1e1b8b7fd55ae647aac8dc084ce369ac\n",
      "  Stored in directory: c:\\users\\coren\\appdata\\local\\pip\\cache\\wheels\\56\\19\\d5\\8cad06661aec65a04a0d6785b1a5ad035cb645b1772a4a0882\n",
      "Successfully built memory-profiler\n",
      "Installing collected packages: psutil, memory-profiler\n",
      "Successfully installed memory-profiler-0.58.0 psutil-5.8.0\n"
     ]
    }
   ],
   "source": [
    "!pip install memory_profiler\n"
   ]
  },
  {
   "cell_type": "code",
   "execution_count": 3,
   "metadata": {},
   "outputs": [],
   "source": [
    "%load_ext memory_profiler"
   ]
  },
  {
   "cell_type": "code",
   "execution_count": 12,
   "metadata": {},
   "outputs": [
    {
     "name": "stdout",
     "output_type": "stream",
     "text": [
      "Overwriting mprun_demo.py\n"
     ]
    }
   ],
   "source": [
    "%%file mprun_demo.py\n",
    "def test():\n",
    "    from path import path_code_dir\n",
    "    import sys  \n",
    "    sys.path.insert(0, path_code_dir)\n",
    "    from amftrack.util import get_dirname\n",
    "    import pandas as pd\n",
    "    import ast\n",
    "    from scipy import sparse\n",
    "    from datetime import datetime\n",
    "    from amftrack.pipeline.functions.node_id import orient\n",
    "    import scipy.io as sio\n",
    "    import cv2\n",
    "    import imageio\n",
    "    import numpy as np\n",
    "    from skimage.filters import frangi\n",
    "    from skimage import filters\n",
    "    import scipy.sparse\n",
    "    import os\n",
    "    from time import time\n",
    "    from skimage.feature import hessian_matrix_det\n",
    "    from amftrack.pipeline.functions.extract_graph import from_sparse_to_graph, generate_nx_graph\n",
    "    from amftrack.pipeline.functions.extract_skel import extract_skel_tip_ext\n",
    "    from amftrack.util import get_dates_datetime, get_dirname, get_plate_number, get_postion_number\n",
    "\n",
    "    i = 0\n",
    "    plate = 39\n",
    "    low = 30\n",
    "    high = 80\n",
    "    dist = 30\n",
    "    directory = r'C:\\Users\\coren\\Documents\\PhD\\Code\\data/'\n",
    "    dates_datetime = get_dates_datetime(directory,plate)\n",
    "    dates_datetime.sort()\n",
    "    dates = dates_datetime\n",
    "    date = dates[i]\n",
    "    directory_name = get_dirname(date, plate)\n",
    "    path_snap=directory+directory_name\n",
    "    path_tile=path_snap+'/Img/TileConfiguration.txt.registered'\n",
    "    try:\n",
    "        tileconfig = pd.read_table(path_tile,sep=';',skiprows=4,header=None,converters={2 : ast.literal_eval},skipinitialspace=True)\n",
    "    except:\n",
    "        print('error_name')\n",
    "        path_tile=path_snap+'/Img/TileConfiguration.registered.txt'\n",
    "        tileconfig = pd.read_table(path_tile,sep=';',skiprows=4,header=None,converters={2 : ast.literal_eval},skipinitialspace=True)\n",
    "    dirName = path_snap+'/Analysis'\n",
    "    shape = (3000,4096)\n",
    "    try:\n",
    "        os.mkdir(path_snap+'/Analysis') \n",
    "        print(\"Directory \" , dirName ,  \" Created \")\n",
    "    except FileExistsError:\n",
    "        print(\"Directory \" , dirName ,  \" already exists\")  \n",
    "    t=time()\n",
    "    xs =[c[0] for c in tileconfig[2]]\n",
    "    ys =[c[1] for c in tileconfig[2]]\n",
    "    dim = (int(np.max(ys)-np.min(ys))+4096,int(np.max(xs)-np.min(xs))+4096)\n",
    "    ims = []\n",
    "    skel = np.zeros(dim,dtype=np.uint8)\n",
    "    for index,name in enumerate(tileconfig[0][:10]):\n",
    "        imname = '/Img/'+name.split('/')[-1]\n",
    "        im = imageio.imread(directory+directory_name+imname)\n",
    "        print(index)\n",
    "        segmented = extract_skel_tip_ext(im,low,high,dist)\n",
    "    #     np.save(f'Temp\\dilated{tileconfig[0][i]}',dilated)\n",
    "        boundaries = int(tileconfig[2][index][0]-np.min(xs)),int(tileconfig[2][index][1]-np.min(ys))\n",
    "        skel[boundaries[1]:boundaries[1]+shape[0],boundaries[0]:boundaries[0]+shape[1]] += segmented\n",
    "    print(\"number to reduce : \", np.sum(skel>0),np.sum(skel<=0))\n",
    "    skeletonized = cv2.ximgproc.thinning(np.array(255*(skel>0),dtype=np.uint8))\n",
    "    skel_sparse = sparse.lil_matrix(skel)\n",
    "    sio.savemat(path_snap+'/Analysis/dilated.mat',{'dilated' : skel_sparse})\n",
    "    sio.savemat(path_snap+'/Analysis/skeleton.mat',{'skeleton' : scipy.sparse.csc_matrix(skeletonized)})\n",
    "    compressed = cv2.resize(skeletonized,(dim[1]//5,dim[0]//5))\n",
    "    sio.savemat(path_snap+'/Analysis/skeleton_compressed.mat',{'skeleton' : compressed})\n",
    "    print('time=',time()-t)\n"
   ]
  },
  {
   "cell_type": "code",
   "execution_count": null,
   "metadata": {},
   "outputs": [],
   "source": [
    "from mprun_demo import test\n",
    "%mprun -f test test()"
   ]
  },
  {
   "cell_type": "code",
   "execution_count": null,
   "metadata": {},
   "outputs": [],
   "source": []
  }
 ],
 "metadata": {
  "kernelspec": {
   "display_name": "Python 3",
   "language": "python",
   "name": "python3"
  },
  "language_info": {
   "codemirror_mode": {
    "name": "ipython",
    "version": 3
   },
   "file_extension": ".py",
   "mimetype": "text/x-python",
   "name": "python",
   "nbconvert_exporter": "python",
   "pygments_lexer": "ipython3",
   "version": "3.7.9"
  }
 },
 "nbformat": 4,
 "nbformat_minor": 4
}

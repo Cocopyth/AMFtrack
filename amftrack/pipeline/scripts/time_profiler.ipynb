{
 "cells": [
  {
   "cell_type": "code",
   "execution_count": 5,
   "metadata": {},
   "outputs": [
    {
     "name": "stdout",
     "output_type": "stream",
     "text": [
      "Collecting line_profiler\n",
      "  Downloading line_profiler-3.3.1-cp37-cp37m-win_amd64.whl (51 kB)\n",
      "Requirement already satisfied: IPython>=0.13; python_version >= \"3.7\" in c:\\users\\coren\\anaconda3\\envs\\cleanmsc\\lib\\site-packages (from line_profiler) (7.18.1)\n",
      "Requirement already satisfied: pickleshare in c:\\users\\coren\\anaconda3\\envs\\cleanmsc\\lib\\site-packages (from IPython>=0.13; python_version >= \"3.7\"->line_profiler) (0.7.5)\n",
      "Requirement already satisfied: backcall in c:\\users\\coren\\anaconda3\\envs\\cleanmsc\\lib\\site-packages (from IPython>=0.13; python_version >= \"3.7\"->line_profiler) (0.2.0)\n",
      "Requirement already satisfied: prompt-toolkit!=3.0.0,!=3.0.1,<3.1.0,>=2.0.0 in c:\\users\\coren\\anaconda3\\envs\\cleanmsc\\lib\\site-packages (from IPython>=0.13; python_version >= \"3.7\"->line_profiler) (3.0.7)\n",
      "Requirement already satisfied: setuptools>=18.5 in c:\\users\\coren\\anaconda3\\envs\\cleanmsc\\lib\\site-packages (from IPython>=0.13; python_version >= \"3.7\"->line_profiler) (50.3.0.post20201006)\n",
      "Requirement already satisfied: jedi>=0.10 in c:\\users\\coren\\anaconda3\\envs\\cleanmsc\\lib\\site-packages (from IPython>=0.13; python_version >= \"3.7\"->line_profiler) (0.17.2)\n",
      "Requirement already satisfied: pygments in c:\\users\\coren\\anaconda3\\envs\\cleanmsc\\lib\\site-packages (from IPython>=0.13; python_version >= \"3.7\"->line_profiler) (2.7.1)\n",
      "Requirement already satisfied: traitlets>=4.2 in c:\\users\\coren\\anaconda3\\envs\\cleanmsc\\lib\\site-packages (from IPython>=0.13; python_version >= \"3.7\"->line_profiler) (5.0.4)\n",
      "Requirement already satisfied: decorator in c:\\users\\coren\\anaconda3\\envs\\cleanmsc\\lib\\site-packages (from IPython>=0.13; python_version >= \"3.7\"->line_profiler) (4.4.2)\n",
      "Requirement already satisfied: colorama; sys_platform == \"win32\" in c:\\users\\coren\\anaconda3\\envs\\cleanmsc\\lib\\site-packages (from IPython>=0.13; python_version >= \"3.7\"->line_profiler) (0.4.3)\n",
      "Requirement already satisfied: wcwidth in c:\\users\\coren\\anaconda3\\envs\\cleanmsc\\lib\\site-packages (from prompt-toolkit!=3.0.0,!=3.0.1,<3.1.0,>=2.0.0->IPython>=0.13; python_version >= \"3.7\"->line_profiler) (0.2.5)\n",
      "Requirement already satisfied: parso<0.8.0,>=0.7.0 in c:\\users\\coren\\anaconda3\\envs\\cleanmsc\\lib\\site-packages (from jedi>=0.10->IPython>=0.13; python_version >= \"3.7\"->line_profiler) (0.7.0)\n",
      "Requirement already satisfied: ipython-genutils in c:\\users\\coren\\anaconda3\\envs\\cleanmsc\\lib\\site-packages (from traitlets>=4.2->IPython>=0.13; python_version >= \"3.7\"->line_profiler) (0.2.0)\n",
      "Installing collected packages: line-profiler\n",
      "Successfully installed line-profiler-3.3.1\n"
     ]
    }
   ],
   "source": [
    "!pip install line_profiler"
   ]
  },
  {
   "cell_type": "code",
   "execution_count": 6,
   "metadata": {},
   "outputs": [],
   "source": []
  },
  {
   "cell_type": "code",
   "execution_count": null,
   "metadata": {},
   "outputs": [],
   "source": [
    "%load_ext line_profiler\n",
    "# from mprun_demo import test\n",
    "%lprun -f test()"
   ]
  },
  {
   "cell_type": "code",
   "execution_count": null,
   "metadata": {},
   "outputs": [],
   "source": [
    "def test():\n",
    "    from path import path_code_dir\n",
    "    import sys  \n",
    "    sys.path.insert(0, path_code_dir)\n",
    "    from amftrack.util.sys import get_dirname\n",
    "    import pandas as pd\n",
    "    import ast\n",
    "    from scipy import sparse\n",
    "    from datetime import datetime\n",
    "    from amftrack.pipeline.functions.node_id import orient\n",
    "    import scipy.io as sio\n",
    "    import cv2\n",
    "    import imageio\n",
    "    import numpy as np\n",
    "    from skimage.filters import frangi\n",
    "    from skimage import filters\n",
    "    import scipy.sparse\n",
    "    import os\n",
    "    from time import time\n",
    "    from skimage.feature import hessian_matrix_det\n",
    "    from amftrack.pipeline.functions.extract_graph import from_sparse_to_graph, generate_nx_graph\n",
    "    from amftrack.pipeline.functions.extract_skel import extract_skel_tip_ext\n",
    "    from amftrack.util.sys import get_dates_datetime, get_dirname, get_plate_number, get_postion_number\n",
    "\n",
    "    i = 0\n",
    "    plate = 39\n",
    "    low = 30\n",
    "    high = 80\n",
    "    dist = 30\n",
    "    directory = r'C:\\Users\\coren\\Documents\\PhD\\Code\\data/'\n",
    "    dates_datetime = get_dates_datetime(directory,plate)\n",
    "    dates_datetime.sort()\n",
    "    dates = dates_datetime\n",
    "    date = dates[i]\n",
    "    directory_name = get_dirname(date, plate)\n",
    "    path_snap=directory+directory_name\n",
    "    path_tile=path_snap+'/Img/TileConfiguration.txt.registered'\n",
    "    try:\n",
    "        tileconfig = pd.read_table(path_tile,sep=';',skiprows=4,header=None,converters={2 : ast.literal_eval},skipinitialspace=True)\n",
    "    except:\n",
    "        print('error_name')\n",
    "        path_tile=path_snap+'/Img/TileConfiguration.registered.txt'\n",
    "        tileconfig = pd.read_table(path_tile,sep=';',skiprows=4,header=None,converters={2 : ast.literal_eval},skipinitialspace=True)\n",
    "    dirName = path_snap+'/Analysis'\n",
    "    shape = (3000,4096)\n",
    "    try:\n",
    "        os.mkdir(path_snap+'/Analysis') \n",
    "        print(\"Directory \" , dirName ,  \" Created \")\n",
    "    except FileExistsError:\n",
    "        print(\"Directory \" , dirName ,  \" already exists\")  \n",
    "    t=time()\n",
    "    xs =[c[0] for c in tileconfig[2]]\n",
    "    ys =[c[1] for c in tileconfig[2]]\n",
    "    dim = (int(np.max(ys)-np.min(ys))+4096,int(np.max(xs)-np.min(xs))+4096)\n",
    "    ims = []\n",
    "    skel = np.zeros(dim,dtype=np.uint8)\n",
    "    for index,name in enumerate(tileconfig[0][:10]):\n",
    "        imname = '/Img/'+name.split('/')[-1]\n",
    "        im = imageio.imread(directory+directory_name+imname)\n",
    "        print(index)\n",
    "        segmented = extract_skel_tip_ext(im,low,high,dist)\n",
    "    #     np.save(f'Temp\\dilated{tileconfig[0][i]}',dilated)\n",
    "        boundaries = int(tileconfig[2][index][0]-np.min(xs)),int(tileconfig[2][index][1]-np.min(ys))\n",
    "        skel[boundaries[1]:boundaries[1]+shape[0],boundaries[0]:boundaries[0]+shape[1]] += segmented\n",
    "    print(\"number to reduce : \", np.sum(skel>0),np.sum(skel<=0))\n",
    "    skeletonized = cv2.ximgproc.thinning(np.array(255*(skel>0),dtype=np.uint8))\n",
    "    skel_sparse = sparse.lil_matrix(skel)\n",
    "    sio.savemat(path_snap+'/Analysis/dilated.mat',{'dilated' : skel_sparse})\n",
    "    sio.savemat(path_snap+'/Analysis/skeleton.mat',{'skeleton' : scipy.sparse.csc_matrix(skeletonized)})\n",
    "    compressed = cv2.resize(skeletonized,(dim[1]//5,dim[0]//5))\n",
    "    sio.savemat(path_snap+'/Analysis/skeleton_compressed.mat',{'skeleton' : compressed})\n",
    "    print('time=',time()-t)\n"
   ]
  }
 ],
 "metadata": {
  "kernelspec": {
   "display_name": "Python 3",
   "language": "python",
   "name": "python3"
  },
  "language_info": {
   "codemirror_mode": {
    "name": "ipython",
    "version": 3
   },
   "file_extension": ".py",
   "mimetype": "text/x-python",
   "name": "python",
   "nbconvert_exporter": "python",
   "pygments_lexer": "ipython3",
   "version": "3.7.9"
  }
 },
 "nbformat": 4,
 "nbformat_minor": 4
}

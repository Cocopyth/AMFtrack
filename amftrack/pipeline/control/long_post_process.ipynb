{
 "cells": [
  {
   "cell_type": "code",
   "execution_count": null,
   "id": "2084d32b-fb23-4dd8-8d9a-9621a455b5bf",
   "metadata": {
    "jupyter": {
     "outputs_hidden": true
    },
    "tags": []
   },
   "outputs": [],
   "source": [
    "%load_ext autoreload\n",
    "%matplotlib widget\n",
    "%autoreload 2\n",
    "from amftrack.pipeline.launching.run_super import (\n",
    "    run_launcher,\n",
    "    directory_scratch,\n",
    "    directory_project,\n",
    "    directory_project,\n",
    "    run_parallel_stitch,\n",
    "    run_parallel_transfer,\n",
    ")\n",
    "import os\n",
    "from amftrack.util.sys import (\n",
    "    get_dates_datetime,\n",
    "    get_dirname,\n",
    "    temp_path,\n",
    "    get_data_info,\n",
    "    update_plate_info,\n",
    "    update_analysis_info,\n",
    "    get_analysis_info,\n",
    "    get_current_folders,\n",
    "    get_folders_by_plate_id,\n",
    ")\n",
    "from time import time_ns\n",
    "from datetime import datetime\n",
    "\n",
    "from amftrack.pipeline.functions.image_processing.experiment_class_surf import (\n",
    "    load_graphs,\n",
    ")\n",
    "from amftrack.pipeline.functions.post_processing.extract_study_zone import (\n",
    "    load_study_zone,\n",
    ")\n",
    "from amftrack.pipeline.functions.image_processing.experiment_util import (\n",
    "    get_random_edge,\n",
    "    distance_point_edge,\n",
    "    plot_edge,\n",
    "    plot_edge_cropped,\n",
    "    find_nearest_edge,\n",
    "    get_edge_from_node_labels,\n",
    "    plot_full_image_with_features,\n",
    "    get_all_edges,\n",
    "    get_all_nodes,\n",
    "    find_neighboring_edges,\n",
    "    reconstruct_image,\n",
    "    reconstruct_skeletton_from_edges,\n",
    "    reconstruct_skeletton_unicolor,\n",
    "    plot_edge_color_value,\n",
    "    reconstruct_image_from_general,\n",
    "    plot_full,\n",
    "    find_nearest_edge,\n",
    ")\n",
    "from amftrack.pipeline.functions.image_processing.extract_width_fun import (\n",
    "    get_width_info,\n",
    "    get_width_info_new,\n",
    ")\n",
    "import matplotlib.pyplot as plt\n",
    "from amftrack.pipeline.functions.image_processing.experiment_class_surf import (\n",
    "    Experiment,\n",
    "    save_graphs,\n",
    ")\n",
    "import pandas as pd\n",
    "from amftrack.pipeline.functions.spore_processing.spore_id import make_spore_data\n",
    "from amftrack.pipeline.functions.image_processing.hyphae_id_surf import (\n",
    "    resolve_anastomosis_crossing_by_root,\n",
    ")\n",
    "from amftrack.pipeline.functions.post_processing.time_hypha import *\n",
    "from amftrack.pipeline.functions.image_processing.experiment_class_surf import (\n",
    "    Node,\n",
    "    Edge,\n",
    "    Hyphae,\n",
    ")\n",
    "from datetime import datetime\n",
    "from matplotlib import cm\n",
    "from amftrack.pipeline.functions.post_processing.extract_study_zone import (\n",
    "    load_study_zone,\n",
    ")\n",
    "from IPython.display import clear_output\n",
    "from amftrack.pipeline.functions.post_processing.exp_plot import *"
   ]
  },
  {
   "cell_type": "code",
   "execution_count": null,
   "id": "8533fd72-a259-4fc0-98d1-329b1a151de0",
   "metadata": {
    "tags": []
   },
   "outputs": [],
   "source": [
    "plates = [\n",
    "    # '478_20230814', '468_20230809', '447_20230821', '487_20230922',\n",
    "    #    '492_20230901', '471_20230821',\n",
    "    # '486_20231009',\n",
    "    \"494_20230908\",\n",
    "    #       '482_20230908',\n",
    "    #       '495_20231013',\n",
    "    #       '463_20231013',\n",
    "    #    '491_20231013',\n",
    "    #       '481_20231005', '483_20231005',\n",
    "    # '490_20231003',\n",
    "    # '485_20230929',\n",
    "    # \"310_20230830\"\n",
    "]\n",
    "# plates = [\"3_20220426\", \"12_20220502\", \"16_20220419\", \"480_20221205\"]\n",
    "# directory_targ = directory_project\n",
    "directory_targ = os.path.join(directory_scratch, \"stitch_temp\") + \"/\"\n",
    "update_analysis_info(directory_targ)\n",
    "analysis_info = get_analysis_info(directory_targ)\n",
    "analysis_folders = analysis_info.loc[analysis_info[\"unique_id\"].isin(plates)]\n",
    "# update_plate_info(directory_targ, local=True)\n",
    "# all_folders = get_current_folders(directory_targ, local=True)"
   ]
  },
  {
   "cell_type": "code",
   "execution_count": null,
   "id": "d1b6c1a2-7535-4789-ae82-dadd87c69ab0",
   "metadata": {
    "tags": []
   },
   "outputs": [],
   "source": [
    "analysis_folders = analysis_info.loc[analysis_info[\"unique_id\"].isin(plates)]\n",
    "\n",
    "select = analysis_folders\n",
    "select[\"total_path\"] = select[\"total_path\"].str.replace(\n",
    "    \"/projects/0/einf914/data/\", \"/scratch-shared/amftrack/stitch_temp/\"\n",
    ")"
   ]
  },
  {
   "cell_type": "code",
   "execution_count": null,
   "id": "51524767-72fe-4eb3-8e40-002e5b3a7a54",
   "metadata": {
    "jupyter": {
     "outputs_hidden": true
    },
    "tags": []
   },
   "outputs": [],
   "source": [
    "analysis_folders"
   ]
  },
  {
   "cell_type": "code",
   "execution_count": null,
   "id": "bade3706-b453-4d0e-a4fd-726259129c02",
   "metadata": {},
   "outputs": [],
   "source": [
    "from amftrack.pipeline.functions.image_processing.experiment_class_surf import (\n",
    "    load_graphs,\n",
    "    load_skel,\n",
    ")\n",
    "\n",
    "run_info = whole_plate_info\n",
    "t = 0\n",
    "select = run_info.loc[run_info[\"t\"] == t]\n",
    "row = [row for index, row in select.iterrows()][0]\n",
    "path_exp = f'{directory}{row[\"path_exp\"]}'\n",
    "exp = pickle.load(open(path_exp, \"rb\"))\n",
    "exp.save_location = \"/\".join(path_exp.split(\"/\")[:-1])\n",
    "exp.directory = directory\n",
    "load_study_zone(exp)\n",
    "load_graphs(exp, directory, indexes=[t], post_process=True)"
   ]
  },
  {
   "cell_type": "code",
   "execution_count": null,
   "id": "9046117c-4e06-4a38-8c91-7c0516c82202",
   "metadata": {},
   "outputs": [],
   "source": [
    "for t in range(exp.ts):\n",
    "    exp.load_tile_information(t)"
   ]
  },
  {
   "cell_type": "code",
   "execution_count": null,
   "id": "62f9eb84-691d-4da1-b958-5b2fb357c3b2",
   "metadata": {
    "jupyter": {
     "outputs_hidden": true
    },
    "tags": []
   },
   "outputs": [],
   "source": [
    "get_length_density_in_region(exp, t, {\"i\": 0})"
   ]
  },
  {
   "cell_type": "code",
   "execution_count": null,
   "id": "a135657f-9418-450c-92f8-464c8e503d0d",
   "metadata": {
    "jupyter": {
     "outputs_hidden": true
    },
    "tags": []
   },
   "outputs": [],
   "source": [
    "exp.image_paths"
   ]
  },
  {
   "cell_type": "code",
   "execution_count": null,
   "id": "420f558a-0630-45ca-abd0-b3a8051f00a4",
   "metadata": {
    "jupyter": {
     "outputs_hidden": true
    },
    "tags": []
   },
   "outputs": [],
   "source": [
    "time = \"6:40:00\"\n",
    "directory = directory_targ\n",
    "max_ind = 20\n",
    "incr = 100\n",
    "\n",
    "list_f = [\n",
    "    get_num_trunks,\n",
    "    get_area,\n",
    "    get_area_separate_connected_components,\n",
    "    get_num_tips,\n",
    "    get_num_nodes,\n",
    "    get_area_study_zone,\n",
    "    get_num_tips_study_zone,\n",
    "    get_num_nodes_study_zone,\n",
    "    get_num_edges,\n",
    "    get_length_tot,\n",
    "    get_length_study_zone,\n",
    "    get_is_out_study,\n",
    "    get_mean_edge_straight,\n",
    "    get_spore_volume,\n",
    "    get_num_spores,\n",
    "    get_tot_biovolume_study,\n",
    "    get_tot_biovolume,\n",
    "]\n",
    "list_args = [{}] * len(list_f)\n",
    "overwrite = True\n",
    "num_parallel = 6\n",
    "run_parallel_post(\n",
    "    \"time_plate_post_process.py\",\n",
    "    list_f,\n",
    "    list_args,\n",
    "    [directory, overwrite],\n",
    "    select,\n",
    "    num_parallel,\n",
    "    time,\n",
    "    \"time_plate_post_process\",\n",
    "    cpus=32,\n",
    "    name_job=name_job,\n",
    "    node=\"fat\",\n",
    ")"
   ]
  },
  {
   "cell_type": "code",
   "execution_count": null,
   "id": "6afca179-0978-44b7-9288-9eddc205b982",
   "metadata": {
    "jupyter": {
     "outputs_hidden": true
    },
    "tags": []
   },
   "outputs": [],
   "source": [
    "from amftrack.pipeline.launching.run_super import run_parallel_post\n",
    "from amftrack.pipeline.functions.post_processing.area_hulls import *\n",
    "from amftrack.pipeline.functions.post_processing.time_plate import *\n",
    "from amftrack.pipeline.functions.post_processing.P_regions import *\n",
    "\n",
    "%load_ext autoreload\n",
    "%autoreload 2\n",
    "directory = directory_targ\n",
    "overwrite = True\n",
    "load_graphs = True\n",
    "name_job = \"density3\"\n",
    "# list_f = [\n",
    "#     get_length_tot,\n",
    "# ]\n",
    "# list_args = [{}] * len(list_f)\n",
    "max_ind = 20\n",
    "incr = 100\n",
    "num_parallel = 15\n",
    "time = \"1:00:00\"\n",
    "list_f = [get_surface_area_in_region] * 18\n",
    "list_f += [get_length_density_in_region] * 18\n",
    "list_args = [{\"i\": i} for i in range(18)] * 2\n",
    "# fs = [\n",
    "#     get_density_in_ring_new,\n",
    "#     get_density_active_tips_in_ring,\n",
    "# ]\n",
    "\n",
    "# list_f = []\n",
    "# list_args = []\n",
    "\n",
    "# for f in fs:\n",
    "#     list_f += [f] * 20\n",
    "\n",
    "#     list_args += [{\"incr\": incr, \"i\": i, \"rh_only\": True,\"max_t\" : 100} for i in range(0, 20)]\n",
    "args = [directory, True, True]\n",
    "directory_targ = directory\n",
    "for index, row in select.iterrows():\n",
    "    folder = row[\"folder_analysis\"]\n",
    "    path_time_plate_info = row[\"path_time_plate_info\"]\n",
    "    plate = row[\"Plate\"]\n",
    "    num_cpus = 32\n",
    "    if os.path.isfile(f\"{directory_targ}{path_time_plate_info}\"):\n",
    "        whole_plate_info = pd.read_json(\n",
    "            f\"{directory_targ}{path_time_plate_info}\", convert_dates=True\n",
    "        ).transpose()\n",
    "        whole_plate_info.index.name = \"t\"\n",
    "        whole_plate_info.reset_index(inplace=True)\n",
    "        whole_plate_info = whole_plate_info.loc[whole_plate_info[\"t\"].between(0, 200)]\n",
    "\n",
    "        run_parallel_post(\n",
    "            \"time_plate_post_process_long.py\",\n",
    "            list_f,\n",
    "            list_args,\n",
    "            [directory_targ, overwrite, load_graphs],\n",
    "            whole_plate_info,\n",
    "            num_parallel,\n",
    "            time,\n",
    "            \"density_post_process\",\n",
    "            cpus=num_cpus,\n",
    "            name_job=name_job,\n",
    "            node=\"fat\",\n",
    "            # dependency = True,\n",
    "        )"
   ]
  },
  {
   "cell_type": "code",
   "execution_count": null,
   "id": "6ac00e87-5a9e-465a-b177-7285a7022136",
   "metadata": {},
   "outputs": [],
   "source": [
    "1"
   ]
  },
  {
   "cell_type": "code",
   "execution_count": null,
   "id": "8a9026f6-48a4-4d48-a45d-fd52f992e970",
   "metadata": {
    "tags": []
   },
   "outputs": [],
   "source": [
    "name_job = \"density3\"\n",
    "run_launcher(\n",
    "    \"analysis_uploader_no_upload.py\",\n",
    "    [directory_targ, name_job, -1],\n",
    "    plates,\n",
    "    \"6:00:00\",\n",
    "    dependency=True,\n",
    "    name_job=name_job,\n",
    ")"
   ]
  },
  {
   "cell_type": "code",
   "execution_count": null,
   "id": "283e4790-00ca-4900-a197-123f1313ca8e",
   "metadata": {
    "jupyter": {
     "outputs_hidden": true
    },
    "tags": []
   },
   "outputs": [],
   "source": [
    "list_f = [\n",
    "    get_pos_x,\n",
    "    get_pos_y,\n",
    "    get_time_since_begin_exp,\n",
    "    get_distance_final_pos,\n",
    "    get_timedelta,\n",
    "    get_time_since_start,\n",
    "    get_speed,\n",
    "    get_timestep,\n",
    "    get_timestep_init,\n",
    "    get_time_init,\n",
    "    get_degree,\n",
    "    # get_width_tip_edge,\n",
    "    # get_width_root_edge,\n",
    "    # get_width_average,\n",
    "    get_has_reached_final_pos,\n",
    "    get_in_ROI,\n",
    "]\n",
    "# list_f = [local_density,local_density,local_density]\n",
    "# list_f = [get_time_since_begin_exp]\n",
    "# list_f = [get_width_tip_edge, get_width_root_edge]\n",
    "list_args = [{}] * len(list_f)\n",
    "# list_args= [[500],[1000],[2000]]+[[]]\n",
    "# list_args= [[500]]\n",
    "overwrite = True\n",
    "load_graphs = True\n",
    "num_parallel = 32\n",
    "time = \"12:00:00\"\n",
    "for index, row in analysis_folders.iterrows():\n",
    "    folder = row[\"folder_analysis\"]\n",
    "    path_time_plate_info = row[\"path_time_plate_info\"]\n",
    "    plate = row[\"Plate\"]\n",
    "    num_cpus = 32\n",
    "    if os.path.isfile(f\"{directory_targ}{path_time_plate_info}\"):\n",
    "        whole_plate_info = pd.read_json(\n",
    "            f\"{directory_targ}{path_time_plate_info}\", convert_dates=True\n",
    "        ).transpose()\n",
    "        whole_plate_info.index.name = \"t\"\n",
    "        whole_plate_info.reset_index(inplace=True)\n",
    "        run_parallel_post(\n",
    "            \"time_hypha_post_process.py\",\n",
    "            list_f,\n",
    "            list_args,\n",
    "            [directory_targ, overwrite, load_graphs],\n",
    "            whole_plate_info,\n",
    "            num_parallel,\n",
    "            time,\n",
    "            \"time_hypha_post_process\",\n",
    "            cpus=num_cpus,\n",
    "            name_job=name_job,\n",
    "            node=\"fat\",\n",
    "        )"
   ]
  }
 ],
 "metadata": {
  "kernelspec": {
   "display_name": "Python 3 (ipykernel)",
   "language": "python",
   "name": "python3"
  },
  "language_info": {
   "codemirror_mode": {
    "name": "ipython",
    "version": 3
   },
   "file_extension": ".py",
   "mimetype": "text/x-python",
   "name": "python",
   "nbconvert_exporter": "python",
   "pygments_lexer": "ipython3",
   "version": "3.7.13"
  }
 },
 "nbformat": 4,
 "nbformat_minor": 5
}

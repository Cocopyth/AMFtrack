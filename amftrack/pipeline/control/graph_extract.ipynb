{
 "cells": [
  {
   "cell_type": "code",
   "execution_count": 3,
   "metadata": {},
   "outputs": [],
   "source": [
    "%matplotlib widget\n",
    "\n",
    "import sys  \n",
    "sys.path.insert(0, '/home/cbisot/pycode/MscThesis/')\n",
    "import pandas as pd\n",
    "from amftrack.util import get_dates_datetime, get_dirname, get_plate_number, get_postion_number\n",
    "\n",
    "import ast\n",
    "from amftrack.plotutil import plot_t_tp1\n",
    "from scipy import sparse\n",
    "from datetime import datetime\n",
    "from amftrack.pipeline.functions.node_id import orient\n",
    "import pickle\n",
    "import scipy.io as sio\n",
    "from pymatreader import read_mat\n",
    "from matplotlib import colors\n",
    "import cv2\n",
    "import imageio\n",
    "import matplotlib.pyplot as plt\n",
    "import numpy as np\n",
    "from skimage.filters import frangi\n",
    "from skimage import filters\n",
    "from random import choice\n",
    "import scipy.sparse\n",
    "import os\n",
    "from amftrack.pipeline.functions.extract_graph import from_sparse_to_graph, generate_nx_graph, sparse_to_doc\n",
    "from skimage.feature import hessian_matrix_det\n",
    "from amftrack.pipeline.functions.experiment_class_surf import Experiment\n",
    "from amftrack.pipeline.paths.directory import run_parallel, find_state, find_state_extract, directory_scratch, directory_project\n"
   ]
  },
  {
   "cell_type": "code",
   "execution_count": 4,
   "metadata": {},
   "outputs": [
    {
     "name": "stdout",
     "output_type": "stream",
     "text": [
      "38\n"
     ]
    },
    {
     "data": {
      "text/plain": [
       "271"
      ]
     },
     "execution_count": 4,
     "metadata": {},
     "output_type": "execute_result"
    }
   ],
   "source": [
    "plate_number = 721\n",
    "plate = get_postion_number(plate_number)\n",
    "# plate = 29\n",
    "print(plate)\n",
    "# directory = directory_scratch\n",
    "directory = directory_project\n",
    "listdir = os.listdir(directory)\n",
    "list_dir_interest = [name for name in listdir if name.split('_')[-1]==f'Plate{0 if plate<10 else \"\"}{plate}']\n",
    "dates_datetime = get_dates_datetime(directory,plate)\n",
    "len(list_dir_interest)"
   ]
  },
  {
   "cell_type": "code",
   "execution_count": 3,
   "metadata": {},
   "outputs": [
    {
     "name": "stdout",
     "output_type": "stream",
     "text": [
      "0 59\n",
      "61 137\n",
      "106 76\n",
      "131 721\n"
     ]
    }
   ],
   "source": [
    "plate_number = get_plate_number(plate,dates_datetime[0])\n",
    "print(0,plate_number)\n",
    "for i in range(len(list_dir_interest)):\n",
    "    new_plate_number = get_plate_number(plate,dates_datetime[i])\n",
    "    if plate_number!=new_plate_number:\n",
    "        plate_number=new_plate_number\n",
    "        print(i,plate_number)\n"
   ]
  },
  {
   "cell_type": "code",
   "execution_count": 5,
   "metadata": {},
   "outputs": [
    {
     "name": "stdout",
     "output_type": "stream",
     "text": [
      "begin = 2021-08-18 13:24:00 \n",
      "  end = 2021-08-23 15:24:00\n"
     ]
    }
   ],
   "source": [
    "begin = 131\n",
    "end = begin + 60\n",
    "print('begin =', dates_datetime[begin], '\\n  end =', dates_datetime[end])"
   ]
  },
  {
   "cell_type": "code",
   "execution_count": 66,
   "metadata": {},
   "outputs": [
    {
     "data": {
      "text/plain": [
       "'skeletonization is complete'"
      ]
     },
     "execution_count": 66,
     "metadata": {},
     "output_type": "execute_result"
    }
   ],
   "source": [
    "find_state(plate, begin, end, directory,True)"
   ]
  },
  {
   "cell_type": "code",
   "execution_count": 9,
   "metadata": {
    "collapsed": true,
    "jupyter": {
     "outputs_hidden": true
    }
   },
   "outputs": [
    {
     "data": {
      "text/plain": [
       "('/Analysis/nx_graph_pruned_labeled.p',\n",
       " [(datetime.datetime(2021, 8, 18, 13, 24), 131),\n",
       "  (datetime.datetime(2021, 8, 18, 15, 25), 132),\n",
       "  (datetime.datetime(2021, 8, 18, 17, 21), 133),\n",
       "  (datetime.datetime(2021, 8, 18, 19, 22), 134),\n",
       "  (datetime.datetime(2021, 8, 18, 21, 22), 135),\n",
       "  (datetime.datetime(2021, 8, 18, 23, 22), 136),\n",
       "  (datetime.datetime(2021, 8, 19, 1, 22), 137),\n",
       "  (datetime.datetime(2021, 8, 19, 3, 22), 138),\n",
       "  (datetime.datetime(2021, 8, 19, 7, 22), 139),\n",
       "  (datetime.datetime(2021, 8, 19, 9, 22), 140),\n",
       "  (datetime.datetime(2021, 8, 19, 11, 23), 141),\n",
       "  (datetime.datetime(2021, 8, 19, 13, 23), 142),\n",
       "  (datetime.datetime(2021, 8, 19, 15, 23), 143),\n",
       "  (datetime.datetime(2021, 8, 19, 17, 23), 144),\n",
       "  (datetime.datetime(2021, 8, 19, 19, 23), 145),\n",
       "  (datetime.datetime(2021, 8, 19, 21, 23), 146),\n",
       "  (datetime.datetime(2021, 8, 19, 23, 23), 147),\n",
       "  (datetime.datetime(2021, 8, 20, 1, 23), 148),\n",
       "  (datetime.datetime(2021, 8, 20, 3, 23), 149),\n",
       "  (datetime.datetime(2021, 8, 20, 5, 23), 150),\n",
       "  (datetime.datetime(2021, 8, 20, 7, 23), 151),\n",
       "  (datetime.datetime(2021, 8, 20, 9, 22), 152),\n",
       "  (datetime.datetime(2021, 8, 20, 11, 26), 153),\n",
       "  (datetime.datetime(2021, 8, 20, 13, 26), 154),\n",
       "  (datetime.datetime(2021, 8, 20, 15, 26), 155),\n",
       "  (datetime.datetime(2021, 8, 20, 17, 26), 156),\n",
       "  (datetime.datetime(2021, 8, 20, 19, 26), 157),\n",
       "  (datetime.datetime(2021, 8, 20, 21, 26), 158),\n",
       "  (datetime.datetime(2021, 8, 20, 23, 26), 159),\n",
       "  (datetime.datetime(2021, 8, 21, 1, 26), 160),\n",
       "  (datetime.datetime(2021, 8, 21, 3, 26), 161),\n",
       "  (datetime.datetime(2021, 8, 21, 5, 26), 162),\n",
       "  (datetime.datetime(2021, 8, 21, 7, 26), 163),\n",
       "  (datetime.datetime(2021, 8, 21, 9, 26), 164),\n",
       "  (datetime.datetime(2021, 8, 21, 11, 26), 165),\n",
       "  (datetime.datetime(2021, 8, 21, 13, 26), 166),\n",
       "  (datetime.datetime(2021, 8, 21, 15, 26), 167),\n",
       "  (datetime.datetime(2021, 8, 21, 17, 26), 168),\n",
       "  (datetime.datetime(2021, 8, 21, 19, 26), 169),\n",
       "  (datetime.datetime(2021, 8, 21, 21, 26), 170),\n",
       "  (datetime.datetime(2021, 8, 21, 23, 26), 171),\n",
       "  (datetime.datetime(2021, 8, 22, 1, 26), 172),\n",
       "  (datetime.datetime(2021, 8, 22, 3, 26), 173),\n",
       "  (datetime.datetime(2021, 8, 22, 5, 26), 174),\n",
       "  (datetime.datetime(2021, 8, 22, 7, 26), 175),\n",
       "  (datetime.datetime(2021, 8, 22, 9, 26), 176),\n",
       "  (datetime.datetime(2021, 8, 22, 11, 26), 177),\n",
       "  (datetime.datetime(2021, 8, 22, 13, 26), 178),\n",
       "  (datetime.datetime(2021, 8, 22, 15, 26), 179),\n",
       "  (datetime.datetime(2021, 8, 22, 17, 26), 180),\n",
       "  (datetime.datetime(2021, 8, 22, 19, 26), 181),\n",
       "  (datetime.datetime(2021, 8, 22, 21, 26), 182),\n",
       "  (datetime.datetime(2021, 8, 22, 23, 26), 183),\n",
       "  (datetime.datetime(2021, 8, 23, 1, 26), 184),\n",
       "  (datetime.datetime(2021, 8, 23, 3, 26), 185),\n",
       "  (datetime.datetime(2021, 8, 23, 5, 26), 186),\n",
       "  (datetime.datetime(2021, 8, 23, 7, 26), 187),\n",
       "  (datetime.datetime(2021, 8, 23, 9, 26), 188),\n",
       "  (datetime.datetime(2021, 8, 23, 11, 24), 189),\n",
       "  (datetime.datetime(2021, 8, 23, 13, 25), 190),\n",
       "  (datetime.datetime(2021, 8, 23, 15, 24), 191),\n",
       "  (datetime.datetime(2021, 8, 23, 17, 24), 192),\n",
       "  (datetime.datetime(2021, 8, 23, 19, 24), 193),\n",
       "  (datetime.datetime(2021, 8, 23, 21, 25), 194),\n",
       "  (datetime.datetime(2021, 8, 23, 23, 25), 195),\n",
       "  (datetime.datetime(2021, 8, 24, 1, 25), 196),\n",
       "  (datetime.datetime(2021, 8, 24, 3, 25), 197),\n",
       "  (datetime.datetime(2021, 8, 24, 5, 25), 198),\n",
       "  (datetime.datetime(2021, 8, 24, 7, 25), 199),\n",
       "  (datetime.datetime(2021, 8, 24, 9, 25), 200),\n",
       "  (datetime.datetime(2021, 8, 24, 11, 25), 201),\n",
       "  (datetime.datetime(2021, 8, 24, 13, 25), 202),\n",
       "  (datetime.datetime(2021, 8, 24, 15, 25), 203),\n",
       "  (datetime.datetime(2021, 8, 24, 17, 25), 204),\n",
       "  (datetime.datetime(2021, 8, 24, 19, 25), 205),\n",
       "  (datetime.datetime(2021, 8, 24, 21, 25), 206),\n",
       "  (datetime.datetime(2021, 8, 24, 23, 25), 207),\n",
       "  (datetime.datetime(2021, 8, 25, 1, 25), 208),\n",
       "  (datetime.datetime(2021, 8, 25, 3, 25), 209),\n",
       "  (datetime.datetime(2021, 8, 25, 5, 25), 210),\n",
       "  (datetime.datetime(2021, 8, 25, 7, 25), 211),\n",
       "  (datetime.datetime(2021, 8, 25, 9, 25), 212),\n",
       "  (datetime.datetime(2021, 8, 25, 11, 25), 213),\n",
       "  (datetime.datetime(2021, 8, 25, 13, 26), 214),\n",
       "  (datetime.datetime(2021, 8, 25, 15, 26), 215),\n",
       "  (datetime.datetime(2021, 8, 25, 17, 26), 216),\n",
       "  (datetime.datetime(2021, 8, 25, 19, 26), 217),\n",
       "  (datetime.datetime(2021, 8, 25, 21, 26), 218),\n",
       "  (datetime.datetime(2021, 8, 25, 23, 26), 219),\n",
       "  (datetime.datetime(2021, 8, 26, 1, 26), 220),\n",
       "  (datetime.datetime(2021, 8, 26, 3, 26), 221),\n",
       "  (datetime.datetime(2021, 8, 26, 5, 25), 222),\n",
       "  (datetime.datetime(2021, 8, 26, 7, 26), 223),\n",
       "  (datetime.datetime(2021, 8, 26, 9, 26), 224),\n",
       "  (datetime.datetime(2021, 8, 26, 11, 26), 225),\n",
       "  (datetime.datetime(2021, 8, 26, 13, 25), 226),\n",
       "  (datetime.datetime(2021, 8, 26, 15, 26), 227),\n",
       "  (datetime.datetime(2021, 8, 26, 17, 25), 228),\n",
       "  (datetime.datetime(2021, 8, 26, 19, 25), 229),\n",
       "  (datetime.datetime(2021, 8, 26, 21, 26), 230),\n",
       "  (datetime.datetime(2021, 8, 26, 23, 26), 231),\n",
       "  (datetime.datetime(2021, 8, 27, 1, 26), 232),\n",
       "  (datetime.datetime(2021, 8, 27, 3, 26), 233),\n",
       "  (datetime.datetime(2021, 8, 27, 5, 25), 234),\n",
       "  (datetime.datetime(2021, 8, 27, 7, 26), 235),\n",
       "  (datetime.datetime(2021, 8, 27, 9, 26), 236),\n",
       "  (datetime.datetime(2021, 8, 27, 11, 26), 237),\n",
       "  (datetime.datetime(2021, 8, 27, 13, 26), 238),\n",
       "  (datetime.datetime(2021, 8, 27, 15, 25), 239),\n",
       "  (datetime.datetime(2021, 8, 27, 17, 24), 240),\n",
       "  (datetime.datetime(2021, 8, 27, 19, 25), 241),\n",
       "  (datetime.datetime(2021, 8, 27, 21, 25), 242),\n",
       "  (datetime.datetime(2021, 8, 27, 23, 25), 243),\n",
       "  (datetime.datetime(2021, 8, 28, 1, 25), 244),\n",
       "  (datetime.datetime(2021, 8, 28, 3, 25), 245),\n",
       "  (datetime.datetime(2021, 8, 28, 5, 25), 246),\n",
       "  (datetime.datetime(2021, 8, 28, 7, 25), 247),\n",
       "  (datetime.datetime(2021, 8, 28, 9, 25), 248),\n",
       "  (datetime.datetime(2021, 8, 28, 11, 25), 249),\n",
       "  (datetime.datetime(2021, 8, 28, 13, 25), 250),\n",
       "  (datetime.datetime(2021, 8, 28, 15, 25), 251),\n",
       "  (datetime.datetime(2021, 8, 28, 17, 25), 252),\n",
       "  (datetime.datetime(2021, 8, 28, 19, 25), 253),\n",
       "  (datetime.datetime(2021, 8, 28, 21, 25), 254),\n",
       "  (datetime.datetime(2021, 8, 30, 11, 15), 255),\n",
       "  (datetime.datetime(2021, 8, 30, 13, 16), 256),\n",
       "  (datetime.datetime(2021, 8, 30, 15, 16), 257),\n",
       "  (datetime.datetime(2021, 8, 30, 17, 17), 258),\n",
       "  (datetime.datetime(2021, 8, 30, 19, 17), 259)])"
      ]
     },
     "execution_count": 9,
     "metadata": {},
     "output_type": "execute_result"
    }
   ],
   "source": [
    "find_state_extract(plate, begin, end, directory)"
   ]
  },
  {
   "cell_type": "code",
   "execution_count": 4,
   "metadata": {},
   "outputs": [],
   "source": [
    "start = begin + 60\n",
    "finish = start +2\n",
    "dates_datetime = get_dates_datetime(directory,plate)\n",
    "dates_datetime_chosen=dates_datetime[start:finish+1]\n",
    "dates = dates_datetime_chosen\n",
    "skels = []\n",
    "ims = []\n",
    "kernel = np.ones((5,5),np.uint8)\n",
    "itera = 1\n",
    "for date in dates:\n",
    "    directory_name = get_dirname(date,plate)\n",
    "    path_snap=directory+directory_name\n",
    "    skel_info = read_mat(path_snap+'/Analysis/skeleton_pruned_compressed.mat')\n",
    "    skel = skel_info['skeleton']\n",
    "    skels.append(cv2.dilate(skel.astype(np.uint8),kernel,iterations = itera))\n",
    "    im = read_mat(path_snap+'/Analysis/raw_image.mat')['raw']\n",
    "    ims.append(im)"
   ]
  },
  {
   "cell_type": "code",
   "execution_count": 5,
   "metadata": {},
   "outputs": [
    {
     "name": "stderr",
     "output_type": "stream",
     "text": [
      "/home/cbisot/anaconda3/envs/test/lib/python3.7/site-packages/matplotlib/__init__.py:880: MatplotlibDeprecationWarning: \n",
      "nbagg.transparent\n",
      "  version, key, obj_type=\"rcparam\", alternative=alt_key)\n"
     ]
    },
    {
     "data": {
      "application/vnd.jupyter.widget-view+json": {
       "model_id": "b9570d21caa44aebbd9eade1c0bbffe9",
       "version_major": 2,
       "version_minor": 0
      },
      "text/plain": [
       "Canvas(toolbar=Toolbar(toolitems=[('Home', 'Reset original view', 'home', 'home'), ('Back', 'Back to previous …"
      ]
     },
     "metadata": {},
     "output_type": "display_data"
    },
    {
     "data": {
      "application/vnd.jupyter.widget-view+json": {
       "model_id": "ccb6f4894a97431b95fcee68eeb64864",
       "version_major": 2,
       "version_minor": 0
      },
      "text/plain": [
       "Canvas(toolbar=Toolbar(toolitems=[('Home', 'Reset original view', 'home', 'home'), ('Back', 'Back to previous …"
      ]
     },
     "metadata": {},
     "output_type": "display_data"
    }
   ],
   "source": [
    "plt.close('all')\n",
    "start = 0\n",
    "finish = start +2\n",
    "for i in range(start,finish):\n",
    "    plot_t_tp1([],[],None,None,skels[i],ims[i])"
   ]
  },
  {
   "cell_type": "code",
   "execution_count": 48,
   "metadata": {
    "jupyter": {
     "source_hidden": true
    }
   },
   "outputs": [
    {
     "data": {
      "application/vnd.jupyter.widget-view+json": {
       "model_id": "e81256d44add4a6eae0dd7361758213c",
       "version_major": 2,
       "version_minor": 0
      },
      "text/plain": [
       "Canvas(toolbar=Toolbar(toolitems=[('Home', 'Reset original view', 'home', 'home'), ('Back', 'Back to previous …"
      ]
     },
     "metadata": {},
     "output_type": "display_data"
    }
   ],
   "source": [
    "start = begin + 40\n",
    "finish = start +2\n",
    "dates_datetime = get_dates_datetime(directory,plate)\n",
    "dates_datetime_chosen=dates_datetime[start:finish+1]\n",
    "dates = dates_datetime_chosen\n",
    "skels = []\n",
    "ims = []\n",
    "kernel = np.ones((5, 5), np.uint8)\n",
    "itera = 1\n",
    "for date in dates:\n",
    "    directory_name = get_dirname(date,plate)\n",
    "    path_snap = directory + directory_name\n",
    "    skel_info = read_mat(path_snap+'/Analysis/skeleton_realigned_compressed.mat')\n",
    "    skel = skel_info['skeleton']\n",
    "#     skels.append(skel)\n",
    "    skels.append(cv2.dilate(skel.astype(np.uint8),kernel,iterations = itera))\n",
    "    im = read_mat(path_snap+'/Analysis/raw_image.mat')['raw']\n",
    "    ims.append(im)\n",
    "plt.close('all')\n",
    "start = 0\n",
    "finish = start + 1\n",
    "for i in range(start, finish):\n",
    "    plot_t_tp1([],[],None,None,skels[i],ims[i])"
   ]
  },
  {
   "cell_type": "markdown",
   "metadata": {},
   "source": [
    "***Create graphs***"
   ]
  },
  {
   "cell_type": "code",
   "execution_count": 5,
   "metadata": {},
   "outputs": [],
   "source": [
    "num_parallel = 20\n",
    "time = '30:00'\n",
    "args=[plate, directory]\n",
    "run_parallel('extract_nx_graph.py',args,begin,end,num_parallel,time,'extract_nx')"
   ]
  },
  {
   "cell_type": "markdown",
   "metadata": {},
   "source": [
    "***Extract Width***"
   ]
  },
  {
   "cell_type": "code",
   "execution_count": 16,
   "metadata": {},
   "outputs": [],
   "source": [
    "num_parallel = 16\n",
    "time = '5:00:00'\n",
    "skip = True\n",
    "args = [plate,directory,skip]\n",
    "run_parallel('extract_width.py',args,begin,end,num_parallel,time,'extract_width')"
   ]
  },
  {
   "cell_type": "markdown",
   "metadata": {},
   "source": [
    "***Identify Nodes***"
   ]
  },
  {
   "cell_type": "code",
   "execution_count": 4,
   "metadata": {},
   "outputs": [],
   "source": [
    "num_parallel = 1\n",
    "time = '12:00:00'\n",
    "args=[plate,begin,end, directory]\n",
    "run_parallel('extract_nodes.py',args,0,0,num_parallel,time,'node_id')"
   ]
  },
  {
   "cell_type": "markdown",
   "metadata": {},
   "source": [
    "***Hyphae extraction***"
   ]
  },
  {
   "cell_type": "code",
   "execution_count": 13,
   "metadata": {},
   "outputs": [],
   "source": [
    "num_parallel = 1\n",
    "time = '5:00:00'\n",
    "args = [plate, begin, end, directory]\n",
    "run_parallel('hyphae_extraction.py',args,pd.DataFrame(),num_parallel,time,'hyphae')"
   ]
  },
  {
   "cell_type": "code",
   "execution_count": 16,
   "metadata": {},
   "outputs": [
    {
     "data": {
      "text/plain": [
       "2.268e+17"
      ]
     },
     "execution_count": 16,
     "metadata": {},
     "output_type": "execute_result"
    }
   ],
   "source": [
    " 0.2 * 210 * 10**14 *30 *1.8"
   ]
  }
 ],
 "metadata": {
  "kernelspec": {
   "display_name": "Python 3",
   "language": "python",
   "name": "python3"
  },
  "language_info": {
   "codemirror_mode": {
    "name": "ipython",
    "version": 3
   },
   "file_extension": ".py",
   "mimetype": "text/x-python",
   "name": "python",
   "nbconvert_exporter": "python",
   "pygments_lexer": "ipython3",
   "version": "3.7.7"
  }
 },
 "nbformat": 4,
 "nbformat_minor": 4
}

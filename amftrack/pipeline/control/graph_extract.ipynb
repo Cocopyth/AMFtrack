{
 "cells": [
  {
   "cell_type": "code",
   "execution_count": 1,
   "metadata": {},
   "outputs": [],
   "source": [
    "%matplotlib widget\n",
    "\n",
    "import sys  \n",
    "sys.path.insert(0, '/home/cbisot/pycode/MscThesis/')\n",
    "import pandas as pd\n",
    "from amftrack.util import get_dates_datetime, get_dirname, get_data_info, update_plate_info, \\\n",
    "get_current_folders, get_folders_by_plate_id\n",
    "import ast\n",
    "from amftrack.plotutil import plot_t_tp1\n",
    "from scipy import sparse\n",
    "from datetime import datetime\n",
    "from amftrack.pipeline.functions.node_id import orient\n",
    "import pickle\n",
    "import scipy.io as sio\n",
    "from pymatreader import read_mat\n",
    "from matplotlib import colors\n",
    "import cv2\n",
    "import imageio\n",
    "import matplotlib.pyplot as plt\n",
    "import numpy as np\n",
    "from skimage.filters import frangi\n",
    "from skimage import filters\n",
    "from random import choice\n",
    "import scipy.sparse\n",
    "import os\n",
    "from amftrack.pipeline.functions.extract_graph import from_sparse_to_graph, generate_nx_graph, sparse_to_doc\n",
    "from skimage.feature import hessian_matrix_det\n",
    "from amftrack.pipeline.functions.experiment_class_surf import Experiment\n",
    "from amftrack.pipeline.paths.directory import run_parallel, find_state, find_state_extract, directory_scratch, directory_project, run_parallel_all_time\n"
   ]
  },
  {
   "cell_type": "code",
   "execution_count": 2,
   "metadata": {
    "tags": []
   },
   "outputs": [],
   "source": [
    "directory = directory_project\n",
    "update_plate_info(directory)"
   ]
  },
  {
   "cell_type": "code",
   "execution_count": 3,
   "metadata": {},
   "outputs": [],
   "source": [
    "update_plate_info(directory_scratch)"
   ]
  },
  {
   "cell_type": "code",
   "execution_count": 3,
   "metadata": {},
   "outputs": [],
   "source": [
    "len(get_current_folders(directory))\n",
    "all_folders = get_current_folders(directory)"
   ]
  },
  {
   "cell_type": "code",
   "execution_count": 29,
   "metadata": {
    "tags": []
   },
   "outputs": [
    {
     "name": "stdout",
     "output_type": "stream",
     "text": [
      "351\n",
      "336\n"
     ]
    }
   ],
   "source": [
    "plate = 22\n",
    "plates = [22,10,76,26,152,102]\n",
    "\n",
    "# folders = all_folders.loc[all_folders['Plate']==plate]\n",
    "folders = all_folders.loc[all_folders['Plate'].isin(plates)]\n",
    "print(len(folders))\n",
    "# folders = all_folders.loc[all_folders['Plate']==plate*all_folders['/Analysis/skeleton_realigned_compressed.mat']]\n",
    "folders = all_folders.loc[(all_folders['/Analysis/skeleton_realigned_compressed.mat'])&(all_folders['Plate'].isin(plates))]\n",
    "\n",
    "print(len(folders))"
   ]
  },
  {
   "cell_type": "code",
   "execution_count": 30,
   "metadata": {
    "collapsed": true,
    "jupyter": {
     "outputs_hidden": true
    },
    "tags": []
   },
   "outputs": [
    {
     "data": {
      "text/html": [
       "<div>\n",
       "<style scoped>\n",
       "    .dataframe tbody tr th:only-of-type {\n",
       "        vertical-align: middle;\n",
       "    }\n",
       "\n",
       "    .dataframe tbody tr th {\n",
       "        vertical-align: top;\n",
       "    }\n",
       "\n",
       "    .dataframe thead th {\n",
       "        text-align: right;\n",
       "    }\n",
       "</style>\n",
       "<table border=\"1\" class=\"dataframe\">\n",
       "  <thead>\n",
       "    <tr style=\"text-align: right;\">\n",
       "      <th></th>\n",
       "      <th>folder</th>\n",
       "      <th>Plate</th>\n",
       "      <th>PrincePos</th>\n",
       "      <th>root</th>\n",
       "      <th>strain</th>\n",
       "      <th>medium</th>\n",
       "      <th>split</th>\n",
       "      <th>Temp</th>\n",
       "      <th>CrossDate</th>\n",
       "      <th>/Img/TileConfiguration.txt.registered</th>\n",
       "      <th>...</th>\n",
       "      <th>/Analysis/skeleton_masked_compressed.mat</th>\n",
       "      <th>/Analysis/skeleton_pruned_compressed.mat</th>\n",
       "      <th>/Analysis/transform.mat</th>\n",
       "      <th>/Analysis/transform_corrupt.mat</th>\n",
       "      <th>/Analysis/skeleton_realigned_compressed.mat</th>\n",
       "      <th>/Analysis/nx_graph_pruned.p</th>\n",
       "      <th>/Analysis/nx_graph_pruned_width.p</th>\n",
       "      <th>/Analysis/nx_graph_pruned_labeled.p</th>\n",
       "      <th>date</th>\n",
       "      <th>Pbait</th>\n",
       "    </tr>\n",
       "  </thead>\n",
       "  <tbody>\n",
       "    <tr>\n",
       "      <th>14</th>\n",
       "      <td>20210110_1144_Plate38</td>\n",
       "      <td>76</td>\n",
       "      <td>38</td>\n",
       "      <td>Carrot</td>\n",
       "      <td>A5</td>\n",
       "      <td>001P100N</td>\n",
       "      <td>Y</td>\n",
       "      <td>NaN</td>\n",
       "      <td>20210108</td>\n",
       "      <td>True</td>\n",
       "      <td>...</td>\n",
       "      <td>True</td>\n",
       "      <td>True</td>\n",
       "      <td>True</td>\n",
       "      <td>False</td>\n",
       "      <td>True</td>\n",
       "      <td>True</td>\n",
       "      <td>False</td>\n",
       "      <td>False</td>\n",
       "      <td>10.01.2021, 11:44:</td>\n",
       "      <td>-</td>\n",
       "    </tr>\n",
       "    <tr>\n",
       "      <th>21</th>\n",
       "      <td>20210112_1120_Plate29</td>\n",
       "      <td>22</td>\n",
       "      <td>29</td>\n",
       "      <td>Carrot</td>\n",
       "      <td>A5</td>\n",
       "      <td>001P100N</td>\n",
       "      <td>Y</td>\n",
       "      <td>NaN</td>\n",
       "      <td>20210107</td>\n",
       "      <td>True</td>\n",
       "      <td>...</td>\n",
       "      <td>True</td>\n",
       "      <td>True</td>\n",
       "      <td>True</td>\n",
       "      <td>False</td>\n",
       "      <td>True</td>\n",
       "      <td>True</td>\n",
       "      <td>False</td>\n",
       "      <td>False</td>\n",
       "      <td>12.01.2021, 11:20:</td>\n",
       "      <td>-</td>\n",
       "    </tr>\n",
       "    <tr>\n",
       "      <th>28</th>\n",
       "      <td>20210111_1533_Plate36</td>\n",
       "      <td>10</td>\n",
       "      <td>36</td>\n",
       "      <td>Carrot</td>\n",
       "      <td>A5</td>\n",
       "      <td>001P100N</td>\n",
       "      <td>Y</td>\n",
       "      <td>NaN</td>\n",
       "      <td>20210107</td>\n",
       "      <td>True</td>\n",
       "      <td>...</td>\n",
       "      <td>True</td>\n",
       "      <td>True</td>\n",
       "      <td>True</td>\n",
       "      <td>False</td>\n",
       "      <td>True</td>\n",
       "      <td>True</td>\n",
       "      <td>False</td>\n",
       "      <td>False</td>\n",
       "      <td>11.01.2021, 15:33:</td>\n",
       "      <td>-</td>\n",
       "    </tr>\n",
       "    <tr>\n",
       "      <th>39</th>\n",
       "      <td>20210110_0323_Plate30</td>\n",
       "      <td>26</td>\n",
       "      <td>39</td>\n",
       "      <td>Carrot</td>\n",
       "      <td>A5</td>\n",
       "      <td>001P100N</td>\n",
       "      <td>Y</td>\n",
       "      <td>NaN</td>\n",
       "      <td>20210104</td>\n",
       "      <td>True</td>\n",
       "      <td>...</td>\n",
       "      <td>True</td>\n",
       "      <td>True</td>\n",
       "      <td>True</td>\n",
       "      <td>False</td>\n",
       "      <td>True</td>\n",
       "      <td>True</td>\n",
       "      <td>False</td>\n",
       "      <td>False</td>\n",
       "      <td>10.01.2021, 03:23:</td>\n",
       "      <td>-</td>\n",
       "    </tr>\n",
       "    <tr>\n",
       "      <th>48</th>\n",
       "      <td>20201229_0349_Plate40</td>\n",
       "      <td>102</td>\n",
       "      <td>40</td>\n",
       "      <td>Carrot</td>\n",
       "      <td>A5</td>\n",
       "      <td>001P100N</td>\n",
       "      <td>Y</td>\n",
       "      <td>25</td>\n",
       "      <td>20201226</td>\n",
       "      <td>True</td>\n",
       "      <td>...</td>\n",
       "      <td>True</td>\n",
       "      <td>True</td>\n",
       "      <td>True</td>\n",
       "      <td>False</td>\n",
       "      <td>True</td>\n",
       "      <td>True</td>\n",
       "      <td>False</td>\n",
       "      <td>False</td>\n",
       "      <td>29.12.2020, 03:49:</td>\n",
       "      <td>NaN</td>\n",
       "    </tr>\n",
       "    <tr>\n",
       "      <th>...</th>\n",
       "      <td>...</td>\n",
       "      <td>...</td>\n",
       "      <td>...</td>\n",
       "      <td>...</td>\n",
       "      <td>...</td>\n",
       "      <td>...</td>\n",
       "      <td>...</td>\n",
       "      <td>...</td>\n",
       "      <td>...</td>\n",
       "      <td>...</td>\n",
       "      <td>...</td>\n",
       "      <td>...</td>\n",
       "      <td>...</td>\n",
       "      <td>...</td>\n",
       "      <td>...</td>\n",
       "      <td>...</td>\n",
       "      <td>...</td>\n",
       "      <td>...</td>\n",
       "      <td>...</td>\n",
       "      <td>...</td>\n",
       "      <td>...</td>\n",
       "    </tr>\n",
       "    <tr>\n",
       "      <th>1516</th>\n",
       "      <td>20201231_1526_Plate32</td>\n",
       "      <td>152</td>\n",
       "      <td>32</td>\n",
       "      <td>Carrot</td>\n",
       "      <td>A5</td>\n",
       "      <td>001P100N</td>\n",
       "      <td>Y</td>\n",
       "      <td>NaN</td>\n",
       "      <td>20201224</td>\n",
       "      <td>True</td>\n",
       "      <td>...</td>\n",
       "      <td>True</td>\n",
       "      <td>True</td>\n",
       "      <td>True</td>\n",
       "      <td>False</td>\n",
       "      <td>True</td>\n",
       "      <td>True</td>\n",
       "      <td>False</td>\n",
       "      <td>False</td>\n",
       "      <td>31.12.2020, 15:26:</td>\n",
       "      <td>-</td>\n",
       "    </tr>\n",
       "    <tr>\n",
       "      <th>1518</th>\n",
       "      <td>20201228_0343_Plate32</td>\n",
       "      <td>152</td>\n",
       "      <td>32</td>\n",
       "      <td>Carrot</td>\n",
       "      <td>A5</td>\n",
       "      <td>001P100N</td>\n",
       "      <td>Y</td>\n",
       "      <td>NaN</td>\n",
       "      <td>20201224</td>\n",
       "      <td>True</td>\n",
       "      <td>...</td>\n",
       "      <td>True</td>\n",
       "      <td>True</td>\n",
       "      <td>True</td>\n",
       "      <td>False</td>\n",
       "      <td>True</td>\n",
       "      <td>True</td>\n",
       "      <td>True</td>\n",
       "      <td>False</td>\n",
       "      <td>28.12.2020, 03:43:</td>\n",
       "      <td>-</td>\n",
       "    </tr>\n",
       "    <tr>\n",
       "      <th>1520</th>\n",
       "      <td>20210108_1950_Plate40</td>\n",
       "      <td>102</td>\n",
       "      <td>40</td>\n",
       "      <td>Carrot</td>\n",
       "      <td>A5</td>\n",
       "      <td>001P100N</td>\n",
       "      <td>Y</td>\n",
       "      <td>25</td>\n",
       "      <td>20201226</td>\n",
       "      <td>True</td>\n",
       "      <td>...</td>\n",
       "      <td>True</td>\n",
       "      <td>True</td>\n",
       "      <td>True</td>\n",
       "      <td>False</td>\n",
       "      <td>True</td>\n",
       "      <td>True</td>\n",
       "      <td>False</td>\n",
       "      <td>False</td>\n",
       "      <td>08.01.2021, 19:50:</td>\n",
       "      <td>NaN</td>\n",
       "    </tr>\n",
       "    <tr>\n",
       "      <th>1525</th>\n",
       "      <td>20201226_0738_Plate32</td>\n",
       "      <td>152</td>\n",
       "      <td>32</td>\n",
       "      <td>Carrot</td>\n",
       "      <td>A5</td>\n",
       "      <td>001P100N</td>\n",
       "      <td>Y</td>\n",
       "      <td>NaN</td>\n",
       "      <td>20201224</td>\n",
       "      <td>True</td>\n",
       "      <td>...</td>\n",
       "      <td>True</td>\n",
       "      <td>True</td>\n",
       "      <td>True</td>\n",
       "      <td>False</td>\n",
       "      <td>True</td>\n",
       "      <td>True</td>\n",
       "      <td>True</td>\n",
       "      <td>False</td>\n",
       "      <td>26.12.2020, 07:38:</td>\n",
       "      <td>-</td>\n",
       "    </tr>\n",
       "    <tr>\n",
       "      <th>1529</th>\n",
       "      <td>20210102_0726_Plate32</td>\n",
       "      <td>152</td>\n",
       "      <td>32</td>\n",
       "      <td>Carrot</td>\n",
       "      <td>A5</td>\n",
       "      <td>001P100N</td>\n",
       "      <td>Y</td>\n",
       "      <td>NaN</td>\n",
       "      <td>20201224</td>\n",
       "      <td>True</td>\n",
       "      <td>...</td>\n",
       "      <td>True</td>\n",
       "      <td>True</td>\n",
       "      <td>True</td>\n",
       "      <td>False</td>\n",
       "      <td>True</td>\n",
       "      <td>True</td>\n",
       "      <td>False</td>\n",
       "      <td>False</td>\n",
       "      <td>02.01.2021, 07:26:</td>\n",
       "      <td>-</td>\n",
       "    </tr>\n",
       "  </tbody>\n",
       "</table>\n",
       "<p>336 rows × 21 columns</p>\n",
       "</div>"
      ],
      "text/plain": [
       "                     folder Plate PrincePos    root strain    medium split  \\\n",
       "14    20210110_1144_Plate38    76        38  Carrot     A5  001P100N     Y   \n",
       "21    20210112_1120_Plate29    22        29  Carrot     A5  001P100N     Y   \n",
       "28    20210111_1533_Plate36    10        36  Carrot     A5  001P100N     Y   \n",
       "39    20210110_0323_Plate30    26        39  Carrot     A5  001P100N     Y   \n",
       "48    20201229_0349_Plate40   102        40  Carrot     A5  001P100N     Y   \n",
       "...                     ...   ...       ...     ...    ...       ...   ...   \n",
       "1516  20201231_1526_Plate32   152        32  Carrot     A5  001P100N     Y   \n",
       "1518  20201228_0343_Plate32   152        32  Carrot     A5  001P100N     Y   \n",
       "1520  20210108_1950_Plate40   102        40  Carrot     A5  001P100N     Y   \n",
       "1525  20201226_0738_Plate32   152        32  Carrot     A5  001P100N     Y   \n",
       "1529  20210102_0726_Plate32   152        32  Carrot     A5  001P100N     Y   \n",
       "\n",
       "     Temp CrossDate /Img/TileConfiguration.txt.registered  ...  \\\n",
       "14    NaN  20210108                                  True  ...   \n",
       "21    NaN  20210107                                  True  ...   \n",
       "28    NaN  20210107                                  True  ...   \n",
       "39    NaN  20210104                                  True  ...   \n",
       "48     25  20201226                                  True  ...   \n",
       "...   ...       ...                                   ...  ...   \n",
       "1516  NaN  20201224                                  True  ...   \n",
       "1518  NaN  20201224                                  True  ...   \n",
       "1520   25  20201226                                  True  ...   \n",
       "1525  NaN  20201224                                  True  ...   \n",
       "1529  NaN  20201224                                  True  ...   \n",
       "\n",
       "     /Analysis/skeleton_masked_compressed.mat  \\\n",
       "14                                       True   \n",
       "21                                       True   \n",
       "28                                       True   \n",
       "39                                       True   \n",
       "48                                       True   \n",
       "...                                       ...   \n",
       "1516                                     True   \n",
       "1518                                     True   \n",
       "1520                                     True   \n",
       "1525                                     True   \n",
       "1529                                     True   \n",
       "\n",
       "     /Analysis/skeleton_pruned_compressed.mat /Analysis/transform.mat  \\\n",
       "14                                       True                    True   \n",
       "21                                       True                    True   \n",
       "28                                       True                    True   \n",
       "39                                       True                    True   \n",
       "48                                       True                    True   \n",
       "...                                       ...                     ...   \n",
       "1516                                     True                    True   \n",
       "1518                                     True                    True   \n",
       "1520                                     True                    True   \n",
       "1525                                     True                    True   \n",
       "1529                                     True                    True   \n",
       "\n",
       "     /Analysis/transform_corrupt.mat  \\\n",
       "14                             False   \n",
       "21                             False   \n",
       "28                             False   \n",
       "39                             False   \n",
       "48                             False   \n",
       "...                              ...   \n",
       "1516                           False   \n",
       "1518                           False   \n",
       "1520                           False   \n",
       "1525                           False   \n",
       "1529                           False   \n",
       "\n",
       "     /Analysis/skeleton_realigned_compressed.mat /Analysis/nx_graph_pruned.p  \\\n",
       "14                                          True                        True   \n",
       "21                                          True                        True   \n",
       "28                                          True                        True   \n",
       "39                                          True                        True   \n",
       "48                                          True                        True   \n",
       "...                                          ...                         ...   \n",
       "1516                                        True                        True   \n",
       "1518                                        True                        True   \n",
       "1520                                        True                        True   \n",
       "1525                                        True                        True   \n",
       "1529                                        True                        True   \n",
       "\n",
       "     /Analysis/nx_graph_pruned_width.p /Analysis/nx_graph_pruned_labeled.p  \\\n",
       "14                               False                               False   \n",
       "21                               False                               False   \n",
       "28                               False                               False   \n",
       "39                               False                               False   \n",
       "48                               False                               False   \n",
       "...                                ...                                 ...   \n",
       "1516                             False                               False   \n",
       "1518                              True                               False   \n",
       "1520                             False                               False   \n",
       "1525                              True                               False   \n",
       "1529                             False                               False   \n",
       "\n",
       "                    date Pbait  \n",
       "14    10.01.2021, 11:44:     -  \n",
       "21    12.01.2021, 11:20:     -  \n",
       "28    11.01.2021, 15:33:     -  \n",
       "39    10.01.2021, 03:23:     -  \n",
       "48    29.12.2020, 03:49:   NaN  \n",
       "...                  ...   ...  \n",
       "1516  31.12.2020, 15:26:     -  \n",
       "1518  28.12.2020, 03:43:     -  \n",
       "1520  08.01.2021, 19:50:   NaN  \n",
       "1525  26.12.2020, 07:38:     -  \n",
       "1529  02.01.2021, 07:26:     -  \n",
       "\n",
       "[336 rows x 21 columns]"
      ]
     },
     "execution_count": 30,
     "metadata": {},
     "output_type": "execute_result"
    }
   ],
   "source": [
    "folders"
   ]
  },
  {
   "cell_type": "markdown",
   "metadata": {
    "tags": []
   },
   "source": [
    "***Create graphs***"
   ]
  },
  {
   "cell_type": "code",
   "execution_count": 27,
   "metadata": {
    "collapsed": true,
    "jupyter": {
     "outputs_hidden": true
    },
    "tags": []
   },
   "outputs": [
    {
     "name": "stderr",
     "output_type": "stream",
     "text": [
      "sbatch: Single node jobs run on a shared node by default. Add --exclusive if you want to use a node exclusively.\n",
      "sbatch: Single node jobs run on a shared node by default. Add --exclusive if you want to use a node exclusively.\n"
     ]
    },
    {
     "name": "stdout",
     "output_type": "stream",
     "text": [
      "Submitted batch job 32569\n",
      "Submitted batch job 32570\n",
      "Submitted batch job 32571\n"
     ]
    },
    {
     "name": "stderr",
     "output_type": "stream",
     "text": [
      "sbatch: Single node jobs run on a shared node by default. Add --exclusive if you want to use a node exclusively.\n"
     ]
    }
   ],
   "source": [
    "num_parallel = 100\n",
    "time = '30:00'\n",
    "args=[directory]\n",
    "run_parallel('extract_nx_graph.py',args, folders, num_parallel, time,'extract_nx')"
   ]
  },
  {
   "cell_type": "code",
   "execution_count": 69,
   "metadata": {},
   "outputs": [
    {
     "data": {
      "text/plain": [
       "336"
      ]
     },
     "execution_count": 69,
     "metadata": {},
     "output_type": "execute_result"
    }
   ],
   "source": [
    "plates = [22,10,76,26,152,102]\n",
    "\n",
    "folders = all_folders.loc[(all_folders['/Analysis/nx_graph_pruned.p'])&(all_folders['Plate'].isin(plates))]\n",
    "len(folders)"
   ]
  },
  {
   "cell_type": "markdown",
   "metadata": {},
   "source": [
    "***Extract Width***"
   ]
  },
  {
   "cell_type": "code",
   "execution_count": 70,
   "metadata": {
    "tags": []
   },
   "outputs": [
    {
     "name": "stdout",
     "output_type": "stream",
     "text": [
      "Submitted batch job 35690\n"
     ]
    },
    {
     "name": "stderr",
     "output_type": "stream",
     "text": [
      "sbatch: Single node jobs run on a shared node by default. Add --exclusive if you want to use a node exclusively.\n"
     ]
    }
   ],
   "source": [
    "num_parallel = 350\n",
    "time = '00:10:00'\n",
    "skip = True\n",
    "args = [directory,skip]\n",
    "run_parallel('extract_width.py',args,folders,num_parallel,time,'extract_width',cpus=128)"
   ]
  },
  {
   "cell_type": "code",
   "execution_count": 41,
   "metadata": {
    "tags": []
   },
   "outputs": [
    {
     "data": {
      "text/plain": [
       "0"
      ]
     },
     "execution_count": 41,
     "metadata": {},
     "output_type": "execute_result"
    }
   ],
   "source": [
    "plates = [22,10,76,26,152,102]\n",
    "\n",
    "folders = all_folders.loc[(1-all_folders['/Analysis/nx_graph_pruned_width.p'])&(all_folders['Plate'].isin(plates))&(all_folders['/Analysis/nx_graph_pruned.p'])]\n",
    "# folders.loc[folders['folder'] == '20210110_1523_Plate30']\n",
    "# int(list(folders['folder'])[0].split('_')[-1][5:])\n",
    "len(folders)"
   ]
  },
  {
   "cell_type": "code",
   "execution_count": 4,
   "metadata": {},
   "outputs": [
    {
     "data": {
      "text/plain": [
       "336"
      ]
     },
     "execution_count": 4,
     "metadata": {},
     "output_type": "execute_result"
    }
   ],
   "source": [
    "plates = [22,10,76,26,152,102]\n",
    "\n",
    "folders = all_folders.loc[(all_folders['/Analysis/nx_graph_pruned_width.p'])&(all_folders['Plate'].isin(plates))]\n",
    "# folders.loc[folders['folder'] == '20210110_1523_Plate30']\n",
    "# int(list(folders['folder'])[0].split('_')[-1][5:])\n",
    "len(folders)"
   ]
  },
  {
   "cell_type": "markdown",
   "metadata": {},
   "source": [
    "***Identify Nodes***"
   ]
  },
  {
   "cell_type": "code",
   "execution_count": 5,
   "metadata": {
    "tags": []
   },
   "outputs": [
    {
     "name": "stdout",
     "output_type": "stream",
     "text": [
      "Submitted batch job 42081\n",
      "Submitted batch job 42082\n"
     ]
    },
    {
     "name": "stderr",
     "output_type": "stream",
     "text": [
      "sbatch: Single node jobs run on a shared node by default. Add --exclusive if you want to use a node exclusively.\n",
      "sbatch: Single node jobs run on a shared node by default. Add --exclusive if you want to use a node exclusively.\n"
     ]
    }
   ],
   "source": [
    "num_parallel = 6\n",
    "time = '12:00:00'\n",
    "args=[directory]\n",
    "run_parallel_all_time('extract_nodes.py',args,folders,num_parallel,time,'node_id',cpus = 32)"
   ]
  },
  {
   "cell_type": "code",
   "execution_count": 6,
   "metadata": {},
   "outputs": [
    {
     "data": {
      "text/plain": [
       "Index(['folder', 'Plate', 'PrincePos', 'root', 'strain', 'medium', 'split',\n",
       "       'Temp', 'CrossDate', '/Img/TileConfiguration.txt.registered',\n",
       "       '/Analysis/skeleton_compressed.mat',\n",
       "       '/Analysis/skeleton_masked_compressed.mat',\n",
       "       '/Analysis/skeleton_pruned_compressed.mat', '/Analysis/transform.mat',\n",
       "       '/Analysis/transform_corrupt.mat',\n",
       "       '/Analysis/skeleton_realigned_compressed.mat',\n",
       "       '/Analysis/nx_graph_pruned.p', '/Analysis/nx_graph_pruned_width.p',\n",
       "       '/Analysis/nx_graph_pruned_labeled.p', 'date', 'Pbait'],\n",
       "      dtype='object')"
      ]
     },
     "execution_count": 6,
     "metadata": {},
     "output_type": "execute_result"
    }
   ],
   "source": [
    "folders.columns"
   ]
  },
  {
   "cell_type": "code",
   "execution_count": 7,
   "metadata": {},
   "outputs": [
    {
     "data": {
      "text/plain": [
       "119"
      ]
     },
     "execution_count": 7,
     "metadata": {},
     "output_type": "execute_result"
    }
   ],
   "source": [
    "plates = [22,10,76,26,152,102]\n",
    "\n",
    "folders = all_folders.loc[(all_folders['/Analysis/nx_graph_pruned_labeled.p'])&(all_folders['Plate'].isin(plates))]\n",
    "# folders.loc[folders['folder'] == '20210110_1523_Plate30']\n",
    "# int(list(folders['folder'])[0].split('_')[-1][5:])\n",
    "len(folders)"
   ]
  },
  {
   "cell_type": "markdown",
   "metadata": {},
   "source": [
    "***Hyphae extraction***"
   ]
  },
  {
   "cell_type": "code",
   "execution_count": 13,
   "metadata": {},
   "outputs": [],
   "source": [
    "num_parallel = 1\n",
    "time = '5:00:00'\n",
    "args = [plate, begin, end, directory]\n",
    "run_parallel_all_time('hyphae_extraction.py',args,pd.DataFrame(),num_parallel,time,'hyphae')"
   ]
  },
  {
   "cell_type": "code",
   "execution_count": 16,
   "metadata": {},
   "outputs": [
    {
     "data": {
      "text/plain": [
       "2.268e+17"
      ]
     },
     "execution_count": 16,
     "metadata": {},
     "output_type": "execute_result"
    }
   ],
   "source": [
    " 0.2 * 210 * 10**14 *30 *1.8"
   ]
  }
 ],
 "metadata": {
  "kernelspec": {
   "display_name": "Python 3 (ipykernel)",
   "language": "python",
   "name": "python3"
  },
  "language_info": {
   "codemirror_mode": {
    "name": "ipython",
    "version": 3
   },
   "file_extension": ".py",
   "mimetype": "text/x-python",
   "name": "python",
   "nbconvert_exporter": "python",
   "pygments_lexer": "ipython3",
   "version": "3.7.11"
  }
 },
 "nbformat": 4,
 "nbformat_minor": 4
}

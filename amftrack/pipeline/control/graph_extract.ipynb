{
 "cells": [
  {
   "cell_type": "code",
   "execution_count": 1,
   "metadata": {},
   "outputs": [
    {
     "name": "stderr",
     "output_type": "stream",
     "text": [
      "/home/cbisot/pycode/MscThesis/amftrack/transfer/functions/transfer.py:1: TqdmExperimentalWarning: Using `tqdm.autonotebook.tqdm` in notebook mode. Use `tqdm.tqdm` instead to force console mode (e.g. in jupyter console)\n",
      "  from tqdm.autonotebook import tqdm\n"
     ]
    }
   ],
   "source": [
    "%matplotlib widget\n",
    "\n",
    "import os  \n",
    "import sys  \n",
    "sys.path.insert(0, os.getenv('HOME')+'/pycode/MscThesis/')\n",
    "import pandas as pd\n",
    "from amftrack.util import get_dates_datetime, get_dirname, get_data_info, update_plate_info, \\\n",
    "get_current_folders, get_folders_by_plate_id\n",
    "import ast\n",
    "from amftrack.plotutil import plot_t_tp1\n",
    "from scipy import sparse\n",
    "from datetime import datetime\n",
    "import pickle\n",
    "import scipy.io as sio\n",
    "from pymatreader import read_mat\n",
    "from matplotlib import colors\n",
    "import cv2\n",
    "import imageio\n",
    "import matplotlib.pyplot as plt\n",
    "import numpy as np\n",
    "from skimage.filters import frangi\n",
    "from skimage import filters\n",
    "from random import choice\n",
    "import scipy.sparse\n",
    "import os\n",
    "from skimage.feature import hessian_matrix_det\n",
    "from amftrack.pipeline.paths.directory import *\n"
   ]
  },
  {
   "cell_type": "code",
   "execution_count": 13,
   "metadata": {
    "tags": []
   },
   "outputs": [],
   "source": [
    "directory = directory_project\n",
    "update_plate_info(directory)"
   ]
  },
  {
   "cell_type": "code",
   "execution_count": 2,
   "metadata": {},
   "outputs": [
    {
     "data": {
      "application/vnd.jupyter.widget-view+json": {
       "model_id": "f44f2b3947f04314bebc439196041575",
       "version_major": 2,
       "version_minor": 0
      },
      "text/plain": [
       "analysed:   0%|          | 0/440 [00:00<?, ?it/s]"
      ]
     },
     "metadata": {},
     "output_type": "display_data"
    }
   ],
   "source": [
    "directory = '/projects/0/einf914/agg/'\n",
    "update_plate_info(directory)"
   ]
  },
  {
   "cell_type": "code",
   "execution_count": 14,
   "metadata": {},
   "outputs": [],
   "source": [
    "all_folders = get_current_folders(directory)"
   ]
  },
  {
   "cell_type": "code",
   "execution_count": 19,
   "metadata": {},
   "outputs": [],
   "source": [
    "all_folders['Plate']=all_folders['Plate'].fillna(758)"
   ]
  },
  {
   "cell_type": "code",
   "execution_count": 10,
   "metadata": {
    "tags": []
   },
   "outputs": [
    {
     "data": {
      "text/plain": [
       "193"
      ]
     },
     "execution_count": 10,
     "metadata": {},
     "output_type": "execute_result"
    }
   ],
   "source": [
    "folders = all_folders.loc[(all_folders['Plate']==737)&(all_folders['/Analysis/skeleton_realigned_compressed.mat']==True)]\n",
    "folders = folders.loc[(folders['/Analysis/transform_corrupt.mat']==False)|(folders['/Analysis/transform.mat']==True)]\n",
    "len(folders)"
   ]
  },
  {
   "cell_type": "code",
   "execution_count": 11,
   "metadata": {
    "tags": []
   },
   "outputs": [
    {
     "data": {
      "text/plain": [
       "94"
      ]
     },
     "execution_count": 11,
     "metadata": {},
     "output_type": "execute_result"
    }
   ],
   "source": [
    "folders = folders.loc[folders['/Analysis/nx_graph_pruned.p'] == False]\n",
    "len(folders)"
   ]
  },
  {
   "cell_type": "code",
   "execution_count": 6,
   "metadata": {
    "collapsed": true,
    "jupyter": {
     "outputs_hidden": true
    },
    "tags": []
   },
   "outputs": [
    {
     "data": {
      "text/html": [
       "<div>\n",
       "<style scoped>\n",
       "    .dataframe tbody tr th:only-of-type {\n",
       "        vertical-align: middle;\n",
       "    }\n",
       "\n",
       "    .dataframe tbody tr th {\n",
       "        vertical-align: top;\n",
       "    }\n",
       "\n",
       "    .dataframe thead th {\n",
       "        text-align: right;\n",
       "    }\n",
       "</style>\n",
       "<table border=\"1\" class=\"dataframe\">\n",
       "  <thead>\n",
       "    <tr style=\"text-align: right;\">\n",
       "      <th></th>\n",
       "      <th>folder</th>\n",
       "      <th>Plate</th>\n",
       "      <th>PrincePos</th>\n",
       "      <th>root</th>\n",
       "      <th>strain</th>\n",
       "      <th>medium</th>\n",
       "      <th>split</th>\n",
       "      <th>Temp</th>\n",
       "      <th>CrossDate</th>\n",
       "      <th>/Img/TileConfiguration.txt.registered</th>\n",
       "      <th>...</th>\n",
       "      <th>/Analysis/skeleton_masked_compressed.mat</th>\n",
       "      <th>/Analysis/skeleton_pruned_compressed.mat</th>\n",
       "      <th>/Analysis/transform.mat</th>\n",
       "      <th>/Analysis/transform_corrupt.mat</th>\n",
       "      <th>/Analysis/skeleton_realigned_compressed.mat</th>\n",
       "      <th>/Analysis/nx_graph_pruned.p</th>\n",
       "      <th>/Analysis/nx_graph_pruned_width.p</th>\n",
       "      <th>/Analysis/nx_graph_pruned_labeled.p</th>\n",
       "      <th>date</th>\n",
       "      <th>Pbait</th>\n",
       "    </tr>\n",
       "  </thead>\n",
       "  <tbody>\n",
       "    <tr>\n",
       "      <th>1758</th>\n",
       "      <td>20210912_0413_Plate22</td>\n",
       "      <td>756</td>\n",
       "      <td>22</td>\n",
       "      <td>Carrot</td>\n",
       "      <td>Agg</td>\n",
       "      <td>001P100N</td>\n",
       "      <td>Y</td>\n",
       "      <td>NaN</td>\n",
       "      <td>20210907</td>\n",
       "      <td>True</td>\n",
       "      <td>...</td>\n",
       "      <td>True</td>\n",
       "      <td>True</td>\n",
       "      <td>True</td>\n",
       "      <td>False</td>\n",
       "      <td>True</td>\n",
       "      <td>True</td>\n",
       "      <td>True</td>\n",
       "      <td>False</td>\n",
       "      <td>12.09.2021, 04:13:</td>\n",
       "      <td>-</td>\n",
       "    </tr>\n",
       "    <tr>\n",
       "      <th>1760</th>\n",
       "      <td>20210915_0319_Plate22</td>\n",
       "      <td>756</td>\n",
       "      <td>22</td>\n",
       "      <td>Carrot</td>\n",
       "      <td>Agg</td>\n",
       "      <td>001P100N</td>\n",
       "      <td>Y</td>\n",
       "      <td>NaN</td>\n",
       "      <td>20210907</td>\n",
       "      <td>True</td>\n",
       "      <td>...</td>\n",
       "      <td>True</td>\n",
       "      <td>True</td>\n",
       "      <td>True</td>\n",
       "      <td>False</td>\n",
       "      <td>True</td>\n",
       "      <td>True</td>\n",
       "      <td>True</td>\n",
       "      <td>False</td>\n",
       "      <td>15.09.2021, 03:19:</td>\n",
       "      <td>-</td>\n",
       "    </tr>\n",
       "    <tr>\n",
       "      <th>1762</th>\n",
       "      <td>20210911_1813_Plate22</td>\n",
       "      <td>756</td>\n",
       "      <td>22</td>\n",
       "      <td>Carrot</td>\n",
       "      <td>Agg</td>\n",
       "      <td>001P100N</td>\n",
       "      <td>Y</td>\n",
       "      <td>NaN</td>\n",
       "      <td>20210907</td>\n",
       "      <td>True</td>\n",
       "      <td>...</td>\n",
       "      <td>True</td>\n",
       "      <td>True</td>\n",
       "      <td>True</td>\n",
       "      <td>False</td>\n",
       "      <td>True</td>\n",
       "      <td>True</td>\n",
       "      <td>True</td>\n",
       "      <td>False</td>\n",
       "      <td>11.09.2021, 18:13:</td>\n",
       "      <td>-</td>\n",
       "    </tr>\n",
       "    <tr>\n",
       "      <th>1774</th>\n",
       "      <td>20210910_1013_Plate22</td>\n",
       "      <td>756</td>\n",
       "      <td>22</td>\n",
       "      <td>Carrot</td>\n",
       "      <td>Agg</td>\n",
       "      <td>001P100N</td>\n",
       "      <td>Y</td>\n",
       "      <td>NaN</td>\n",
       "      <td>20210907</td>\n",
       "      <td>True</td>\n",
       "      <td>...</td>\n",
       "      <td>True</td>\n",
       "      <td>True</td>\n",
       "      <td>True</td>\n",
       "      <td>False</td>\n",
       "      <td>True</td>\n",
       "      <td>True</td>\n",
       "      <td>True</td>\n",
       "      <td>False</td>\n",
       "      <td>10.09.2021, 10:13:</td>\n",
       "      <td>-</td>\n",
       "    </tr>\n",
       "    <tr>\n",
       "      <th>1788</th>\n",
       "      <td>20210910_0213_Plate22</td>\n",
       "      <td>756</td>\n",
       "      <td>22</td>\n",
       "      <td>Carrot</td>\n",
       "      <td>Agg</td>\n",
       "      <td>001P100N</td>\n",
       "      <td>Y</td>\n",
       "      <td>NaN</td>\n",
       "      <td>20210907</td>\n",
       "      <td>True</td>\n",
       "      <td>...</td>\n",
       "      <td>True</td>\n",
       "      <td>True</td>\n",
       "      <td>True</td>\n",
       "      <td>False</td>\n",
       "      <td>True</td>\n",
       "      <td>True</td>\n",
       "      <td>True</td>\n",
       "      <td>False</td>\n",
       "      <td>10.09.2021, 02:13:</td>\n",
       "      <td>-</td>\n",
       "    </tr>\n",
       "    <tr>\n",
       "      <th>...</th>\n",
       "      <td>...</td>\n",
       "      <td>...</td>\n",
       "      <td>...</td>\n",
       "      <td>...</td>\n",
       "      <td>...</td>\n",
       "      <td>...</td>\n",
       "      <td>...</td>\n",
       "      <td>...</td>\n",
       "      <td>...</td>\n",
       "      <td>...</td>\n",
       "      <td>...</td>\n",
       "      <td>...</td>\n",
       "      <td>...</td>\n",
       "      <td>...</td>\n",
       "      <td>...</td>\n",
       "      <td>...</td>\n",
       "      <td>...</td>\n",
       "      <td>...</td>\n",
       "      <td>...</td>\n",
       "      <td>...</td>\n",
       "      <td>...</td>\n",
       "    </tr>\n",
       "    <tr>\n",
       "      <th>2846</th>\n",
       "      <td>20211019_2325_Plate17</td>\n",
       "      <td>758</td>\n",
       "      <td>NaN</td>\n",
       "      <td>NaN</td>\n",
       "      <td>NaN</td>\n",
       "      <td>NaN</td>\n",
       "      <td>NaN</td>\n",
       "      <td>NaN</td>\n",
       "      <td>NaN</td>\n",
       "      <td>True</td>\n",
       "      <td>...</td>\n",
       "      <td>True</td>\n",
       "      <td>True</td>\n",
       "      <td>True</td>\n",
       "      <td>False</td>\n",
       "      <td>True</td>\n",
       "      <td>True</td>\n",
       "      <td>True</td>\n",
       "      <td>False</td>\n",
       "      <td>19.10.2021, 23:25:</td>\n",
       "      <td>NaN</td>\n",
       "    </tr>\n",
       "    <tr>\n",
       "      <th>2848</th>\n",
       "      <td>20211014_0348_Plate17</td>\n",
       "      <td>758</td>\n",
       "      <td>NaN</td>\n",
       "      <td>NaN</td>\n",
       "      <td>NaN</td>\n",
       "      <td>NaN</td>\n",
       "      <td>NaN</td>\n",
       "      <td>NaN</td>\n",
       "      <td>NaN</td>\n",
       "      <td>True</td>\n",
       "      <td>...</td>\n",
       "      <td>True</td>\n",
       "      <td>True</td>\n",
       "      <td>True</td>\n",
       "      <td>False</td>\n",
       "      <td>True</td>\n",
       "      <td>True</td>\n",
       "      <td>True</td>\n",
       "      <td>False</td>\n",
       "      <td>14.10.2021, 03:48:</td>\n",
       "      <td>NaN</td>\n",
       "    </tr>\n",
       "    <tr>\n",
       "      <th>2849</th>\n",
       "      <td>20211009_1737_Plate17</td>\n",
       "      <td>758</td>\n",
       "      <td>NaN</td>\n",
       "      <td>NaN</td>\n",
       "      <td>NaN</td>\n",
       "      <td>NaN</td>\n",
       "      <td>NaN</td>\n",
       "      <td>NaN</td>\n",
       "      <td>NaN</td>\n",
       "      <td>True</td>\n",
       "      <td>...</td>\n",
       "      <td>True</td>\n",
       "      <td>True</td>\n",
       "      <td>True</td>\n",
       "      <td>False</td>\n",
       "      <td>True</td>\n",
       "      <td>True</td>\n",
       "      <td>True</td>\n",
       "      <td>False</td>\n",
       "      <td>09.10.2021, 17:37:</td>\n",
       "      <td>NaN</td>\n",
       "    </tr>\n",
       "    <tr>\n",
       "      <th>2850</th>\n",
       "      <td>20211011_1346_Plate17</td>\n",
       "      <td>758</td>\n",
       "      <td>NaN</td>\n",
       "      <td>NaN</td>\n",
       "      <td>NaN</td>\n",
       "      <td>NaN</td>\n",
       "      <td>NaN</td>\n",
       "      <td>NaN</td>\n",
       "      <td>NaN</td>\n",
       "      <td>True</td>\n",
       "      <td>...</td>\n",
       "      <td>True</td>\n",
       "      <td>True</td>\n",
       "      <td>True</td>\n",
       "      <td>False</td>\n",
       "      <td>True</td>\n",
       "      <td>True</td>\n",
       "      <td>True</td>\n",
       "      <td>False</td>\n",
       "      <td>11.10.2021, 13:46:</td>\n",
       "      <td>NaN</td>\n",
       "    </tr>\n",
       "    <tr>\n",
       "      <th>2851</th>\n",
       "      <td>20211007_1737_Plate17</td>\n",
       "      <td>758</td>\n",
       "      <td>NaN</td>\n",
       "      <td>NaN</td>\n",
       "      <td>NaN</td>\n",
       "      <td>NaN</td>\n",
       "      <td>NaN</td>\n",
       "      <td>NaN</td>\n",
       "      <td>NaN</td>\n",
       "      <td>True</td>\n",
       "      <td>...</td>\n",
       "      <td>True</td>\n",
       "      <td>True</td>\n",
       "      <td>True</td>\n",
       "      <td>False</td>\n",
       "      <td>True</td>\n",
       "      <td>True</td>\n",
       "      <td>True</td>\n",
       "      <td>False</td>\n",
       "      <td>07.10.2021, 17:37:</td>\n",
       "      <td>NaN</td>\n",
       "    </tr>\n",
       "  </tbody>\n",
       "</table>\n",
       "<p>166 rows × 21 columns</p>\n",
       "</div>"
      ],
      "text/plain": [
       "                     folder  Plate PrincePos    root strain    medium split  \\\n",
       "1758  20210912_0413_Plate22    756        22  Carrot    Agg  001P100N     Y   \n",
       "1760  20210915_0319_Plate22    756        22  Carrot    Agg  001P100N     Y   \n",
       "1762  20210911_1813_Plate22    756        22  Carrot    Agg  001P100N     Y   \n",
       "1774  20210910_1013_Plate22    756        22  Carrot    Agg  001P100N     Y   \n",
       "1788  20210910_0213_Plate22    756        22  Carrot    Agg  001P100N     Y   \n",
       "...                     ...    ...       ...     ...    ...       ...   ...   \n",
       "2846  20211019_2325_Plate17    758       NaN     NaN    NaN       NaN   NaN   \n",
       "2848  20211014_0348_Plate17    758       NaN     NaN    NaN       NaN   NaN   \n",
       "2849  20211009_1737_Plate17    758       NaN     NaN    NaN       NaN   NaN   \n",
       "2850  20211011_1346_Plate17    758       NaN     NaN    NaN       NaN   NaN   \n",
       "2851  20211007_1737_Plate17    758       NaN     NaN    NaN       NaN   NaN   \n",
       "\n",
       "     Temp CrossDate /Img/TileConfiguration.txt.registered  ...  \\\n",
       "1758  NaN  20210907                                  True  ...   \n",
       "1760  NaN  20210907                                  True  ...   \n",
       "1762  NaN  20210907                                  True  ...   \n",
       "1774  NaN  20210907                                  True  ...   \n",
       "1788  NaN  20210907                                  True  ...   \n",
       "...   ...       ...                                   ...  ...   \n",
       "2846  NaN       NaN                                  True  ...   \n",
       "2848  NaN       NaN                                  True  ...   \n",
       "2849  NaN       NaN                                  True  ...   \n",
       "2850  NaN       NaN                                  True  ...   \n",
       "2851  NaN       NaN                                  True  ...   \n",
       "\n",
       "     /Analysis/skeleton_masked_compressed.mat  \\\n",
       "1758                                     True   \n",
       "1760                                     True   \n",
       "1762                                     True   \n",
       "1774                                     True   \n",
       "1788                                     True   \n",
       "...                                       ...   \n",
       "2846                                     True   \n",
       "2848                                     True   \n",
       "2849                                     True   \n",
       "2850                                     True   \n",
       "2851                                     True   \n",
       "\n",
       "     /Analysis/skeleton_pruned_compressed.mat /Analysis/transform.mat  \\\n",
       "1758                                     True                    True   \n",
       "1760                                     True                    True   \n",
       "1762                                     True                    True   \n",
       "1774                                     True                    True   \n",
       "1788                                     True                    True   \n",
       "...                                       ...                     ...   \n",
       "2846                                     True                    True   \n",
       "2848                                     True                    True   \n",
       "2849                                     True                    True   \n",
       "2850                                     True                    True   \n",
       "2851                                     True                    True   \n",
       "\n",
       "     /Analysis/transform_corrupt.mat  \\\n",
       "1758                           False   \n",
       "1760                           False   \n",
       "1762                           False   \n",
       "1774                           False   \n",
       "1788                           False   \n",
       "...                              ...   \n",
       "2846                           False   \n",
       "2848                           False   \n",
       "2849                           False   \n",
       "2850                           False   \n",
       "2851                           False   \n",
       "\n",
       "     /Analysis/skeleton_realigned_compressed.mat /Analysis/nx_graph_pruned.p  \\\n",
       "1758                                        True                        True   \n",
       "1760                                        True                        True   \n",
       "1762                                        True                        True   \n",
       "1774                                        True                        True   \n",
       "1788                                        True                        True   \n",
       "...                                          ...                         ...   \n",
       "2846                                        True                        True   \n",
       "2848                                        True                        True   \n",
       "2849                                        True                        True   \n",
       "2850                                        True                        True   \n",
       "2851                                        True                        True   \n",
       "\n",
       "     /Analysis/nx_graph_pruned_width.p /Analysis/nx_graph_pruned_labeled.p  \\\n",
       "1758                              True                               False   \n",
       "1760                              True                               False   \n",
       "1762                              True                               False   \n",
       "1774                              True                               False   \n",
       "1788                              True                               False   \n",
       "...                                ...                                 ...   \n",
       "2846                              True                               False   \n",
       "2848                              True                               False   \n",
       "2849                              True                               False   \n",
       "2850                              True                               False   \n",
       "2851                              True                               False   \n",
       "\n",
       "                    date Pbait  \n",
       "1758  12.09.2021, 04:13:     -  \n",
       "1760  15.09.2021, 03:19:     -  \n",
       "1762  11.09.2021, 18:13:     -  \n",
       "1774  10.09.2021, 10:13:     -  \n",
       "1788  10.09.2021, 02:13:     -  \n",
       "...                  ...   ...  \n",
       "2846  19.10.2021, 23:25:   NaN  \n",
       "2848  14.10.2021, 03:48:   NaN  \n",
       "2849  09.10.2021, 17:37:   NaN  \n",
       "2850  11.10.2021, 13:46:   NaN  \n",
       "2851  07.10.2021, 17:37:   NaN  \n",
       "\n",
       "[166 rows x 21 columns]"
      ]
     },
     "execution_count": 6,
     "metadata": {},
     "output_type": "execute_result"
    }
   ],
   "source": [
    "folders = all_folders.loc[(all_folders['/Analysis/nx_graph_pruned_width.p']==True)]\n",
    "folders"
   ]
  },
  {
   "cell_type": "code",
   "execution_count": 5,
   "metadata": {},
   "outputs": [
    {
     "data": {
      "text/html": [
       "<div>\n",
       "<style scoped>\n",
       "    .dataframe tbody tr th:only-of-type {\n",
       "        vertical-align: middle;\n",
       "    }\n",
       "\n",
       "    .dataframe tbody tr th {\n",
       "        vertical-align: top;\n",
       "    }\n",
       "\n",
       "    .dataframe thead th {\n",
       "        text-align: right;\n",
       "    }\n",
       "</style>\n",
       "<table border=\"1\" class=\"dataframe\">\n",
       "  <thead>\n",
       "    <tr style=\"text-align: right;\">\n",
       "      <th></th>\n",
       "      <th>folder</th>\n",
       "      <th>Plate</th>\n",
       "      <th>PrincePos</th>\n",
       "      <th>root</th>\n",
       "      <th>strain</th>\n",
       "      <th>medium</th>\n",
       "      <th>split</th>\n",
       "      <th>Temp</th>\n",
       "      <th>CrossDate</th>\n",
       "      <th>/Img/TileConfiguration.txt.registered</th>\n",
       "      <th>...</th>\n",
       "      <th>/Analysis/skeleton_masked_compressed.mat</th>\n",
       "      <th>/Analysis/skeleton_pruned_compressed.mat</th>\n",
       "      <th>/Analysis/transform.mat</th>\n",
       "      <th>/Analysis/transform_corrupt.mat</th>\n",
       "      <th>/Analysis/skeleton_realigned_compressed.mat</th>\n",
       "      <th>/Analysis/nx_graph_pruned.p</th>\n",
       "      <th>/Analysis/nx_graph_pruned_width.p</th>\n",
       "      <th>/Analysis/nx_graph_pruned_labeled.p</th>\n",
       "      <th>date</th>\n",
       "      <th>Pbait</th>\n",
       "    </tr>\n",
       "  </thead>\n",
       "  <tbody>\n",
       "    <tr>\n",
       "      <th>2111</th>\n",
       "      <td>20210911_1213_Plate22</td>\n",
       "      <td>756</td>\n",
       "      <td>22</td>\n",
       "      <td>Carrot</td>\n",
       "      <td>Agg</td>\n",
       "      <td>001P100N</td>\n",
       "      <td>Y</td>\n",
       "      <td>NaN</td>\n",
       "      <td>20210907</td>\n",
       "      <td>True</td>\n",
       "      <td>...</td>\n",
       "      <td>True</td>\n",
       "      <td>True</td>\n",
       "      <td>True</td>\n",
       "      <td>False</td>\n",
       "      <td>True</td>\n",
       "      <td>True</td>\n",
       "      <td>False</td>\n",
       "      <td>False</td>\n",
       "      <td>11.09.2021, 12:13:</td>\n",
       "      <td>-</td>\n",
       "    </tr>\n",
       "  </tbody>\n",
       "</table>\n",
       "<p>1 rows × 21 columns</p>\n",
       "</div>"
      ],
      "text/plain": [
       "                     folder  Plate PrincePos    root strain    medium split  \\\n",
       "2111  20210911_1213_Plate22    756        22  Carrot    Agg  001P100N     Y   \n",
       "\n",
       "     Temp CrossDate /Img/TileConfiguration.txt.registered  ...  \\\n",
       "2111  NaN  20210907                                  True  ...   \n",
       "\n",
       "     /Analysis/skeleton_masked_compressed.mat  \\\n",
       "2111                                     True   \n",
       "\n",
       "     /Analysis/skeleton_pruned_compressed.mat /Analysis/transform.mat  \\\n",
       "2111                                     True                    True   \n",
       "\n",
       "     /Analysis/transform_corrupt.mat  \\\n",
       "2111                           False   \n",
       "\n",
       "     /Analysis/skeleton_realigned_compressed.mat /Analysis/nx_graph_pruned.p  \\\n",
       "2111                                        True                        True   \n",
       "\n",
       "     /Analysis/nx_graph_pruned_width.p /Analysis/nx_graph_pruned_labeled.p  \\\n",
       "2111                             False                               False   \n",
       "\n",
       "                    date Pbait  \n",
       "2111  11.09.2021, 12:13:     -  \n",
       "\n",
       "[1 rows x 21 columns]"
      ]
     },
     "execution_count": 5,
     "metadata": {},
     "output_type": "execute_result"
    }
   ],
   "source": [
    "folders = all_folders.loc[(all_folders['/Analysis/nx_graph_pruned_width.p']==False)&(all_folders['/Analysis/nx_graph_pruned.p']==True)]\n",
    "folders"
   ]
  },
  {
   "cell_type": "code",
   "execution_count": 15,
   "metadata": {
    "tags": []
   },
   "outputs": [
    {
     "data": {
      "text/html": [
       "<div>\n",
       "<style scoped>\n",
       "    .dataframe tbody tr th:only-of-type {\n",
       "        vertical-align: middle;\n",
       "    }\n",
       "\n",
       "    .dataframe tbody tr th {\n",
       "        vertical-align: top;\n",
       "    }\n",
       "\n",
       "    .dataframe thead th {\n",
       "        text-align: right;\n",
       "    }\n",
       "</style>\n",
       "<table border=\"1\" class=\"dataframe\">\n",
       "  <thead>\n",
       "    <tr style=\"text-align: right;\">\n",
       "      <th></th>\n",
       "      <th>total_path</th>\n",
       "      <th>Plate</th>\n",
       "      <th>PrincePos</th>\n",
       "      <th>root</th>\n",
       "      <th>strain</th>\n",
       "      <th>medium</th>\n",
       "      <th>split</th>\n",
       "      <th>Pbait</th>\n",
       "      <th>CrossDate</th>\n",
       "      <th>/Img/TileConfiguration.txt.registered</th>\n",
       "      <th>...</th>\n",
       "      <th>/Analysis/skeleton_pruned_compressed.mat</th>\n",
       "      <th>/Analysis/transform.mat</th>\n",
       "      <th>/Analysis/transform_corrupt.mat</th>\n",
       "      <th>/Analysis/skeleton_realigned_compressed.mat</th>\n",
       "      <th>/Analysis/nx_graph_pruned.p</th>\n",
       "      <th>/Analysis/nx_graph_pruned_width.p</th>\n",
       "      <th>/Analysis/nx_graph_pruned_labeled.p</th>\n",
       "      <th>date</th>\n",
       "      <th>folder</th>\n",
       "      <th>Temp</th>\n",
       "    </tr>\n",
       "  </thead>\n",
       "  <tbody>\n",
       "  </tbody>\n",
       "</table>\n",
       "<p>0 rows × 22 columns</p>\n",
       "</div>"
      ],
      "text/plain": [
       "Empty DataFrame\n",
       "Columns: [total_path, Plate, PrincePos, root, strain, medium, split, Pbait, CrossDate, /Img/TileConfiguration.txt.registered, /Analysis/skeleton_compressed.mat, /Analysis/skeleton_masked_compressed.mat, /Analysis/skeleton_pruned_compressed.mat, /Analysis/transform.mat, /Analysis/transform_corrupt.mat, /Analysis/skeleton_realigned_compressed.mat, /Analysis/nx_graph_pruned.p, /Analysis/nx_graph_pruned_width.p, /Analysis/nx_graph_pruned_labeled.p, date, folder, Temp]\n",
       "Index: []\n",
       "\n",
       "[0 rows x 22 columns]"
      ]
     },
     "execution_count": 15,
     "metadata": {},
     "output_type": "execute_result"
    }
   ],
   "source": [
    "folders = all_folders.loc[(all_folders['strain']=='A5')&(all_folders['/Analysis/nx_graph_pruned_labeled.p'])&(all_folders['Plate']==59)]\n",
    "folders"
   ]
  },
  {
   "cell_type": "code",
   "execution_count": 20,
   "metadata": {
    "tags": []
   },
   "outputs": [
    {
     "data": {
      "text/html": [
       "<div>\n",
       "<style scoped>\n",
       "    .dataframe tbody tr th:only-of-type {\n",
       "        vertical-align: middle;\n",
       "    }\n",
       "\n",
       "    .dataframe tbody tr th {\n",
       "        vertical-align: top;\n",
       "    }\n",
       "\n",
       "    .dataframe thead th {\n",
       "        text-align: right;\n",
       "    }\n",
       "</style>\n",
       "<table border=\"1\" class=\"dataframe\">\n",
       "  <thead>\n",
       "    <tr style=\"text-align: right;\">\n",
       "      <th></th>\n",
       "      <th>total_path</th>\n",
       "      <th>Plate</th>\n",
       "      <th>PrincePos</th>\n",
       "      <th>root</th>\n",
       "      <th>strain</th>\n",
       "      <th>medium</th>\n",
       "      <th>split</th>\n",
       "      <th>Pbait</th>\n",
       "      <th>CrossDate</th>\n",
       "      <th>/Img/TileConfiguration.txt.registered</th>\n",
       "      <th>...</th>\n",
       "      <th>/Analysis/skeleton_pruned_compressed.mat</th>\n",
       "      <th>/Analysis/transform.mat</th>\n",
       "      <th>/Analysis/transform_corrupt.mat</th>\n",
       "      <th>/Analysis/skeleton_realigned_compressed.mat</th>\n",
       "      <th>/Analysis/nx_graph_pruned.p</th>\n",
       "      <th>/Analysis/nx_graph_pruned_width.p</th>\n",
       "      <th>/Analysis/nx_graph_pruned_labeled.p</th>\n",
       "      <th>date</th>\n",
       "      <th>folder</th>\n",
       "      <th>Temp</th>\n",
       "    </tr>\n",
       "  </thead>\n",
       "  <tbody>\n",
       "    <tr>\n",
       "      <th>5858</th>\n",
       "      <td>/projects/0/einf914/data/20201205_1320_Plate38</td>\n",
       "      <td>59</td>\n",
       "      <td>38</td>\n",
       "      <td>Carrot</td>\n",
       "      <td>A5</td>\n",
       "      <td>001P100N</td>\n",
       "      <td>Y</td>\n",
       "      <td>-</td>\n",
       "      <td>20201126</td>\n",
       "      <td>True</td>\n",
       "      <td>...</td>\n",
       "      <td>True</td>\n",
       "      <td>True</td>\n",
       "      <td>False</td>\n",
       "      <td>True</td>\n",
       "      <td>True</td>\n",
       "      <td>True</td>\n",
       "      <td>False</td>\n",
       "      <td>05.12.2020, 13:20:</td>\n",
       "      <td>20201205_1320_Plate38</td>\n",
       "      <td>NaN</td>\n",
       "    </tr>\n",
       "    <tr>\n",
       "      <th>5894</th>\n",
       "      <td>/projects/0/einf914/data/20201129_0609_Plate38</td>\n",
       "      <td>59</td>\n",
       "      <td>38</td>\n",
       "      <td>Carrot</td>\n",
       "      <td>A5</td>\n",
       "      <td>001P100N</td>\n",
       "      <td>Y</td>\n",
       "      <td>-</td>\n",
       "      <td>20201126</td>\n",
       "      <td>True</td>\n",
       "      <td>...</td>\n",
       "      <td>True</td>\n",
       "      <td>True</td>\n",
       "      <td>False</td>\n",
       "      <td>True</td>\n",
       "      <td>True</td>\n",
       "      <td>True</td>\n",
       "      <td>False</td>\n",
       "      <td>29.11.2020, 06:09:</td>\n",
       "      <td>20201129_0609_Plate38</td>\n",
       "      <td>NaN</td>\n",
       "    </tr>\n",
       "    <tr>\n",
       "      <th>5907</th>\n",
       "      <td>/projects/0/einf914/data/20201210_0344_Plate38</td>\n",
       "      <td>59</td>\n",
       "      <td>38</td>\n",
       "      <td>Carrot</td>\n",
       "      <td>A5</td>\n",
       "      <td>001P100N</td>\n",
       "      <td>Y</td>\n",
       "      <td>-</td>\n",
       "      <td>20201126</td>\n",
       "      <td>True</td>\n",
       "      <td>...</td>\n",
       "      <td>True</td>\n",
       "      <td>True</td>\n",
       "      <td>False</td>\n",
       "      <td>True</td>\n",
       "      <td>True</td>\n",
       "      <td>True</td>\n",
       "      <td>False</td>\n",
       "      <td>10.12.2020, 03:44:</td>\n",
       "      <td>20201210_0344_Plate38</td>\n",
       "      <td>NaN</td>\n",
       "    </tr>\n",
       "    <tr>\n",
       "      <th>5910</th>\n",
       "      <td>/projects/0/einf914/data/20201204_1720_Plate38</td>\n",
       "      <td>59</td>\n",
       "      <td>38</td>\n",
       "      <td>Carrot</td>\n",
       "      <td>A5</td>\n",
       "      <td>001P100N</td>\n",
       "      <td>Y</td>\n",
       "      <td>-</td>\n",
       "      <td>20201126</td>\n",
       "      <td>True</td>\n",
       "      <td>...</td>\n",
       "      <td>True</td>\n",
       "      <td>True</td>\n",
       "      <td>False</td>\n",
       "      <td>True</td>\n",
       "      <td>True</td>\n",
       "      <td>True</td>\n",
       "      <td>False</td>\n",
       "      <td>04.12.2020, 17:20:</td>\n",
       "      <td>20201204_1720_Plate38</td>\n",
       "      <td>NaN</td>\n",
       "    </tr>\n",
       "    <tr>\n",
       "      <th>5921</th>\n",
       "      <td>/projects/0/einf914/data/20201201_1406_Plate38</td>\n",
       "      <td>59</td>\n",
       "      <td>38</td>\n",
       "      <td>Carrot</td>\n",
       "      <td>A5</td>\n",
       "      <td>001P100N</td>\n",
       "      <td>Y</td>\n",
       "      <td>-</td>\n",
       "      <td>20201126</td>\n",
       "      <td>True</td>\n",
       "      <td>...</td>\n",
       "      <td>True</td>\n",
       "      <td>True</td>\n",
       "      <td>False</td>\n",
       "      <td>True</td>\n",
       "      <td>True</td>\n",
       "      <td>True</td>\n",
       "      <td>False</td>\n",
       "      <td>01.12.2020, 14:06:</td>\n",
       "      <td>20201201_1406_Plate38</td>\n",
       "      <td>NaN</td>\n",
       "    </tr>\n",
       "    <tr>\n",
       "      <th>...</th>\n",
       "      <td>...</td>\n",
       "      <td>...</td>\n",
       "      <td>...</td>\n",
       "      <td>...</td>\n",
       "      <td>...</td>\n",
       "      <td>...</td>\n",
       "      <td>...</td>\n",
       "      <td>...</td>\n",
       "      <td>...</td>\n",
       "      <td>...</td>\n",
       "      <td>...</td>\n",
       "      <td>...</td>\n",
       "      <td>...</td>\n",
       "      <td>...</td>\n",
       "      <td>...</td>\n",
       "      <td>...</td>\n",
       "      <td>...</td>\n",
       "      <td>...</td>\n",
       "      <td>...</td>\n",
       "      <td>...</td>\n",
       "      <td>...</td>\n",
       "    </tr>\n",
       "    <tr>\n",
       "      <th>7618</th>\n",
       "      <td>/projects/0/einf914/data/20201207_1936_Plate38</td>\n",
       "      <td>59</td>\n",
       "      <td>38</td>\n",
       "      <td>Carrot</td>\n",
       "      <td>A5</td>\n",
       "      <td>001P100N</td>\n",
       "      <td>Y</td>\n",
       "      <td>-</td>\n",
       "      <td>20201126</td>\n",
       "      <td>True</td>\n",
       "      <td>...</td>\n",
       "      <td>True</td>\n",
       "      <td>True</td>\n",
       "      <td>False</td>\n",
       "      <td>True</td>\n",
       "      <td>True</td>\n",
       "      <td>True</td>\n",
       "      <td>False</td>\n",
       "      <td>07.12.2020, 19:36:</td>\n",
       "      <td>20201207_1936_Plate38</td>\n",
       "      <td>NaN</td>\n",
       "    </tr>\n",
       "    <tr>\n",
       "      <th>7633</th>\n",
       "      <td>/projects/0/einf914/data/20201214_0748_Plate38</td>\n",
       "      <td>59</td>\n",
       "      <td>38</td>\n",
       "      <td>Carrot</td>\n",
       "      <td>A5</td>\n",
       "      <td>001P100N</td>\n",
       "      <td>Y</td>\n",
       "      <td>-</td>\n",
       "      <td>20201126</td>\n",
       "      <td>True</td>\n",
       "      <td>...</td>\n",
       "      <td>True</td>\n",
       "      <td>True</td>\n",
       "      <td>False</td>\n",
       "      <td>True</td>\n",
       "      <td>True</td>\n",
       "      <td>True</td>\n",
       "      <td>False</td>\n",
       "      <td>14.12.2020, 07:48:</td>\n",
       "      <td>20201214_0748_Plate38</td>\n",
       "      <td>NaN</td>\n",
       "    </tr>\n",
       "    <tr>\n",
       "      <th>7642</th>\n",
       "      <td>/projects/0/einf914/data/20201214_2000_Plate38</td>\n",
       "      <td>59</td>\n",
       "      <td>38</td>\n",
       "      <td>Carrot</td>\n",
       "      <td>A5</td>\n",
       "      <td>001P100N</td>\n",
       "      <td>Y</td>\n",
       "      <td>-</td>\n",
       "      <td>20201126</td>\n",
       "      <td>True</td>\n",
       "      <td>...</td>\n",
       "      <td>True</td>\n",
       "      <td>True</td>\n",
       "      <td>False</td>\n",
       "      <td>True</td>\n",
       "      <td>True</td>\n",
       "      <td>True</td>\n",
       "      <td>False</td>\n",
       "      <td>14.12.2020, 20:00:</td>\n",
       "      <td>20201214_2000_Plate38</td>\n",
       "      <td>NaN</td>\n",
       "    </tr>\n",
       "    <tr>\n",
       "      <th>7680</th>\n",
       "      <td>/projects/0/einf914/data/20201130_2206_Plate38</td>\n",
       "      <td>59</td>\n",
       "      <td>38</td>\n",
       "      <td>Carrot</td>\n",
       "      <td>A5</td>\n",
       "      <td>001P100N</td>\n",
       "      <td>Y</td>\n",
       "      <td>-</td>\n",
       "      <td>20201126</td>\n",
       "      <td>True</td>\n",
       "      <td>...</td>\n",
       "      <td>True</td>\n",
       "      <td>True</td>\n",
       "      <td>False</td>\n",
       "      <td>True</td>\n",
       "      <td>True</td>\n",
       "      <td>True</td>\n",
       "      <td>False</td>\n",
       "      <td>30.11.2020, 22:06:</td>\n",
       "      <td>20201130_2206_Plate38</td>\n",
       "      <td>NaN</td>\n",
       "    </tr>\n",
       "    <tr>\n",
       "      <th>7700</th>\n",
       "      <td>/projects/0/einf914/data/20201209_2344_Plate38</td>\n",
       "      <td>59</td>\n",
       "      <td>38</td>\n",
       "      <td>Carrot</td>\n",
       "      <td>A5</td>\n",
       "      <td>001P100N</td>\n",
       "      <td>Y</td>\n",
       "      <td>-</td>\n",
       "      <td>20201126</td>\n",
       "      <td>True</td>\n",
       "      <td>...</td>\n",
       "      <td>True</td>\n",
       "      <td>True</td>\n",
       "      <td>False</td>\n",
       "      <td>True</td>\n",
       "      <td>True</td>\n",
       "      <td>True</td>\n",
       "      <td>False</td>\n",
       "      <td>09.12.2020, 23:44:</td>\n",
       "      <td>20201209_2344_Plate38</td>\n",
       "      <td>NaN</td>\n",
       "    </tr>\n",
       "  </tbody>\n",
       "</table>\n",
       "<p>120 rows × 22 columns</p>\n",
       "</div>"
      ],
      "text/plain": [
       "                                          total_path Plate PrincePos    root  \\\n",
       "5858  /projects/0/einf914/data/20201205_1320_Plate38    59        38  Carrot   \n",
       "5894  /projects/0/einf914/data/20201129_0609_Plate38    59        38  Carrot   \n",
       "5907  /projects/0/einf914/data/20201210_0344_Plate38    59        38  Carrot   \n",
       "5910  /projects/0/einf914/data/20201204_1720_Plate38    59        38  Carrot   \n",
       "5921  /projects/0/einf914/data/20201201_1406_Plate38    59        38  Carrot   \n",
       "...                                              ...   ...       ...     ...   \n",
       "7618  /projects/0/einf914/data/20201207_1936_Plate38    59        38  Carrot   \n",
       "7633  /projects/0/einf914/data/20201214_0748_Plate38    59        38  Carrot   \n",
       "7642  /projects/0/einf914/data/20201214_2000_Plate38    59        38  Carrot   \n",
       "7680  /projects/0/einf914/data/20201130_2206_Plate38    59        38  Carrot   \n",
       "7700  /projects/0/einf914/data/20201209_2344_Plate38    59        38  Carrot   \n",
       "\n",
       "     strain    medium split Pbait CrossDate  \\\n",
       "5858     A5  001P100N     Y     -  20201126   \n",
       "5894     A5  001P100N     Y     -  20201126   \n",
       "5907     A5  001P100N     Y     -  20201126   \n",
       "5910     A5  001P100N     Y     -  20201126   \n",
       "5921     A5  001P100N     Y     -  20201126   \n",
       "...     ...       ...   ...   ...       ...   \n",
       "7618     A5  001P100N     Y     -  20201126   \n",
       "7633     A5  001P100N     Y     -  20201126   \n",
       "7642     A5  001P100N     Y     -  20201126   \n",
       "7680     A5  001P100N     Y     -  20201126   \n",
       "7700     A5  001P100N     Y     -  20201126   \n",
       "\n",
       "     /Img/TileConfiguration.txt.registered  ...  \\\n",
       "5858                                  True  ...   \n",
       "5894                                  True  ...   \n",
       "5907                                  True  ...   \n",
       "5910                                  True  ...   \n",
       "5921                                  True  ...   \n",
       "...                                    ...  ...   \n",
       "7618                                  True  ...   \n",
       "7633                                  True  ...   \n",
       "7642                                  True  ...   \n",
       "7680                                  True  ...   \n",
       "7700                                  True  ...   \n",
       "\n",
       "     /Analysis/skeleton_pruned_compressed.mat /Analysis/transform.mat  \\\n",
       "5858                                     True                    True   \n",
       "5894                                     True                    True   \n",
       "5907                                     True                    True   \n",
       "5910                                     True                    True   \n",
       "5921                                     True                    True   \n",
       "...                                       ...                     ...   \n",
       "7618                                     True                    True   \n",
       "7633                                     True                    True   \n",
       "7642                                     True                    True   \n",
       "7680                                     True                    True   \n",
       "7700                                     True                    True   \n",
       "\n",
       "     /Analysis/transform_corrupt.mat  \\\n",
       "5858                           False   \n",
       "5894                           False   \n",
       "5907                           False   \n",
       "5910                           False   \n",
       "5921                           False   \n",
       "...                              ...   \n",
       "7618                           False   \n",
       "7633                           False   \n",
       "7642                           False   \n",
       "7680                           False   \n",
       "7700                           False   \n",
       "\n",
       "     /Analysis/skeleton_realigned_compressed.mat /Analysis/nx_graph_pruned.p  \\\n",
       "5858                                        True                        True   \n",
       "5894                                        True                        True   \n",
       "5907                                        True                        True   \n",
       "5910                                        True                        True   \n",
       "5921                                        True                        True   \n",
       "...                                          ...                         ...   \n",
       "7618                                        True                        True   \n",
       "7633                                        True                        True   \n",
       "7642                                        True                        True   \n",
       "7680                                        True                        True   \n",
       "7700                                        True                        True   \n",
       "\n",
       "     /Analysis/nx_graph_pruned_width.p /Analysis/nx_graph_pruned_labeled.p  \\\n",
       "5858                              True                               False   \n",
       "5894                              True                               False   \n",
       "5907                              True                               False   \n",
       "5910                              True                               False   \n",
       "5921                              True                               False   \n",
       "...                                ...                                 ...   \n",
       "7618                              True                               False   \n",
       "7633                              True                               False   \n",
       "7642                              True                               False   \n",
       "7680                              True                               False   \n",
       "7700                              True                               False   \n",
       "\n",
       "                    date                 folder Temp  \n",
       "5858  05.12.2020, 13:20:  20201205_1320_Plate38  NaN  \n",
       "5894  29.11.2020, 06:09:  20201129_0609_Plate38  NaN  \n",
       "5907  10.12.2020, 03:44:  20201210_0344_Plate38  NaN  \n",
       "5910  04.12.2020, 17:20:  20201204_1720_Plate38  NaN  \n",
       "5921  01.12.2020, 14:06:  20201201_1406_Plate38  NaN  \n",
       "...                  ...                    ...  ...  \n",
       "7618  07.12.2020, 19:36:  20201207_1936_Plate38  NaN  \n",
       "7633  14.12.2020, 07:48:  20201214_0748_Plate38  NaN  \n",
       "7642  14.12.2020, 20:00:  20201214_2000_Plate38  NaN  \n",
       "7680  30.11.2020, 22:06:  20201130_2206_Plate38  NaN  \n",
       "7700  09.12.2020, 23:44:  20201209_2344_Plate38  NaN  \n",
       "\n",
       "[120 rows x 22 columns]"
      ]
     },
     "execution_count": 20,
     "metadata": {},
     "output_type": "execute_result"
    }
   ],
   "source": [
    "folders = all_folders.loc[(all_folders['/Analysis/nx_graph_pruned_width.p'])&(all_folders['Plate']==59)]\n",
    "folders"
   ]
  },
  {
   "cell_type": "code",
   "execution_count": 51,
   "metadata": {
    "tags": []
   },
   "outputs": [
    {
     "data": {
      "text/plain": [
       "1047    20201209_0926_Plate40\n",
       "Name: folder, dtype: object"
      ]
     },
     "execution_count": 51,
     "metadata": {},
     "output_type": "execute_result"
    }
   ],
   "source": [
    "corrupted_rotation"
   ]
  },
  {
   "cell_type": "code",
   "execution_count": 53,
   "metadata": {
    "tags": []
   },
   "outputs": [],
   "source": [
    "corrupted_rotation = folders.loc[folders['/Analysis/transform_corrupt.mat']]['folder']"
   ]
  },
  {
   "cell_type": "code",
   "execution_count": 28,
   "metadata": {},
   "outputs": [
    {
     "data": {
      "text/plain": [
       "'20210927_2112_Plate22'"
      ]
     },
     "execution_count": 28,
     "metadata": {},
     "output_type": "execute_result"
    }
   ],
   "source": [
    "corrupt_folder = np.min(folders.loc[folders['/Analysis/transform_corrupt.mat']]['folder'])\n",
    "corrupt_folder"
   ]
  },
  {
   "cell_type": "code",
   "execution_count": 54,
   "metadata": {
    "tags": []
   },
   "outputs": [],
   "source": [
    "folder_list = list(folders['folder'])\n",
    "folder_list.sort()\n",
    "indexes = [folder_list.index(corrupt_folder) for corrupt_folder in corrupted_rotation]"
   ]
  },
  {
   "cell_type": "code",
   "execution_count": 55,
   "metadata": {},
   "outputs": [
    {
     "data": {
      "text/plain": [
       "[100]"
      ]
     },
     "execution_count": 55,
     "metadata": {},
     "output_type": "execute_result"
    }
   ],
   "source": [
    "limit = 100\n",
    "indexes.sort()\n",
    "indexes = [index for index in indexes if index<limit]\n",
    "indexes += [limit]\n",
    "indexes"
   ]
  },
  {
   "cell_type": "code",
   "execution_count": 29,
   "metadata": {},
   "outputs": [
    {
     "data": {
      "text/plain": [
       "23"
      ]
     },
     "execution_count": 29,
     "metadata": {},
     "output_type": "execute_result"
    }
   ],
   "source": [
    "\n",
    "folder_list.index(corrupt_folder)"
   ]
  },
  {
   "cell_type": "code",
   "execution_count": 36,
   "metadata": {
    "collapsed": true,
    "jupyter": {
     "outputs_hidden": true
    },
    "tags": []
   },
   "outputs": [
    {
     "data": {
      "text/html": [
       "<div>\n",
       "<style scoped>\n",
       "    .dataframe tbody tr th:only-of-type {\n",
       "        vertical-align: middle;\n",
       "    }\n",
       "\n",
       "    .dataframe tbody tr th {\n",
       "        vertical-align: top;\n",
       "    }\n",
       "\n",
       "    .dataframe thead th {\n",
       "        text-align: right;\n",
       "    }\n",
       "</style>\n",
       "<table border=\"1\" class=\"dataframe\">\n",
       "  <thead>\n",
       "    <tr style=\"text-align: right;\">\n",
       "      <th></th>\n",
       "      <th>folder</th>\n",
       "      <th>Plate</th>\n",
       "      <th>PrincePos</th>\n",
       "      <th>root</th>\n",
       "      <th>strain</th>\n",
       "      <th>medium</th>\n",
       "      <th>split</th>\n",
       "      <th>Temp</th>\n",
       "      <th>CrossDate</th>\n",
       "      <th>/Img/TileConfiguration.txt.registered</th>\n",
       "      <th>...</th>\n",
       "      <th>/Analysis/skeleton_masked_compressed.mat</th>\n",
       "      <th>/Analysis/skeleton_pruned_compressed.mat</th>\n",
       "      <th>/Analysis/transform.mat</th>\n",
       "      <th>/Analysis/transform_corrupt.mat</th>\n",
       "      <th>/Analysis/skeleton_realigned_compressed.mat</th>\n",
       "      <th>/Analysis/nx_graph_pruned.p</th>\n",
       "      <th>/Analysis/nx_graph_pruned_width.p</th>\n",
       "      <th>/Analysis/nx_graph_pruned_labeled.p</th>\n",
       "      <th>date</th>\n",
       "      <th>Pbait</th>\n",
       "    </tr>\n",
       "  </thead>\n",
       "  <tbody>\n",
       "    <tr>\n",
       "      <th>1816</th>\n",
       "      <td>20211009_0617_Plate38</td>\n",
       "      <td>785</td>\n",
       "      <td>38</td>\n",
       "      <td>Carrot</td>\n",
       "      <td>A5</td>\n",
       "      <td>001P100N</td>\n",
       "      <td>Y</td>\n",
       "      <td>NaN</td>\n",
       "      <td>20210928</td>\n",
       "      <td>True</td>\n",
       "      <td>...</td>\n",
       "      <td>True</td>\n",
       "      <td>True</td>\n",
       "      <td>True</td>\n",
       "      <td>False</td>\n",
       "      <td>True</td>\n",
       "      <td>True</td>\n",
       "      <td>True</td>\n",
       "      <td>False</td>\n",
       "      <td>09.10.2021, 06:17:</td>\n",
       "      <td>-</td>\n",
       "    </tr>\n",
       "  </tbody>\n",
       "</table>\n",
       "<p>1 rows × 21 columns</p>\n",
       "</div>"
      ],
      "text/plain": [
       "                     folder Plate PrincePos    root strain    medium split  \\\n",
       "1816  20211009_0617_Plate38   785        38  Carrot     A5  001P100N     Y   \n",
       "\n",
       "     Temp CrossDate /Img/TileConfiguration.txt.registered  ...  \\\n",
       "1816  NaN  20210928                                  True  ...   \n",
       "\n",
       "     /Analysis/skeleton_masked_compressed.mat  \\\n",
       "1816                                     True   \n",
       "\n",
       "     /Analysis/skeleton_pruned_compressed.mat /Analysis/transform.mat  \\\n",
       "1816                                     True                    True   \n",
       "\n",
       "     /Analysis/transform_corrupt.mat  \\\n",
       "1816                           False   \n",
       "\n",
       "     /Analysis/skeleton_realigned_compressed.mat /Analysis/nx_graph_pruned.p  \\\n",
       "1816                                        True                        True   \n",
       "\n",
       "     /Analysis/nx_graph_pruned_width.p /Analysis/nx_graph_pruned_labeled.p  \\\n",
       "1816                              True                               False   \n",
       "\n",
       "                    date Pbait  \n",
       "1816  09.10.2021, 06:17:     -  \n",
       "\n",
       "[1 rows x 21 columns]"
      ]
     },
     "execution_count": 36,
     "metadata": {},
     "output_type": "execute_result"
    }
   ],
   "source": [
    "folders = all_folders.loc[all_folders['folder']=='20211009_0617_Plate38']\n",
    "folders"
   ]
  },
  {
   "cell_type": "code",
   "execution_count": 13,
   "metadata": {},
   "outputs": [],
   "source": [
    "plates = set(folders['Plate'].values)\n",
    "plate_without_node_id = [plate for plate in plates if not np.any(folders.loc[(folders['Plate']==plate)]['/Analysis/nx_graph_pruned_labeled.p'])]"
   ]
  },
  {
   "cell_type": "code",
   "execution_count": 14,
   "metadata": {},
   "outputs": [
    {
     "data": {
      "text/plain": [
       "[]"
      ]
     },
     "execution_count": 14,
     "metadata": {},
     "output_type": "execute_result"
    }
   ],
   "source": [
    "plate_without_node_id"
   ]
  },
  {
   "cell_type": "code",
   "execution_count": 8,
   "metadata": {},
   "outputs": [],
   "source": [
    "folders = all_folders.loc[(all_folders['Plate'].isin(plate_without_node_id))&(all_folders['/Analysis/skeleton_realigned_compressed.mat'])]"
   ]
  },
  {
   "cell_type": "code",
   "execution_count": 11,
   "metadata": {
    "collapsed": true,
    "jupyter": {
     "outputs_hidden": true
    },
    "tags": []
   },
   "outputs": [
    {
     "data": {
      "text/plain": [
       "['20210929_1004_Plate38',\n",
       " '20210929_1204_Plate38',\n",
       " '20210929_1404_Plate38',\n",
       " '20210929_1604_Plate38',\n",
       " '20210929_1804_Plate38',\n",
       " '20210929_2004_Plate38',\n",
       " '20210929_2204_Plate38',\n",
       " '20210930_0004_Plate38',\n",
       " '20210930_0204_Plate38',\n",
       " '20210930_0404_Plate38',\n",
       " '20210930_0604_Plate38',\n",
       " '20210930_0804_Plate38',\n",
       " '20210930_1004_Plate38',\n",
       " '20210930_2029_Plate38',\n",
       " '20210930_2210_Plate38',\n",
       " '20211001_0210_Plate38',\n",
       " '20211001_0410_Plate38',\n",
       " '20211001_0610_Plate38',\n",
       " '20211001_0810_Plate38',\n",
       " '20211001_1010_Plate38',\n",
       " '20211001_1210_Plate38',\n",
       " '20211002_1543_Plate38',\n",
       " '20211002_1744_Plate38',\n",
       " '20211002_1944_Plate38',\n",
       " '20211002_2144_Plate38',\n",
       " '20211002_2344_Plate38',\n",
       " '20211003_0143_Plate38',\n",
       " '20211003_0344_Plate38',\n",
       " '20211003_0543_Plate38',\n",
       " '20211003_0744_Plate38',\n",
       " '20211003_0944_Plate38',\n",
       " '20211003_1144_Plate38',\n",
       " '20211003_1344_Plate38',\n",
       " '20211003_1544_Plate38',\n",
       " '20211003_1744_Plate38',\n",
       " '20211003_1944_Plate38',\n",
       " '20211003_2144_Plate38',\n",
       " '20211003_2344_Plate38',\n",
       " '20211004_0144_Plate38',\n",
       " '20211004_0344_Plate38',\n",
       " '20211004_0544_Plate38',\n",
       " '20211004_0744_Plate38',\n",
       " '20211004_0944_Plate38',\n",
       " '20211004_1142_Plate38',\n",
       " '20211004_1344_Plate38',\n",
       " '20211004_1545_Plate38',\n",
       " '20211004_1745_Plate38',\n",
       " '20211004_1945_Plate38',\n",
       " '20211004_2145_Plate38',\n",
       " '20211004_2345_Plate38',\n",
       " '20211005_0145_Plate38',\n",
       " '20211005_0345_Plate38',\n",
       " '20211005_0544_Plate38',\n",
       " '20211005_0745_Plate38',\n",
       " '20211005_0945_Plate38',\n",
       " '20211005_1145_Plate38',\n",
       " '20211005_1345_Plate38',\n",
       " '20211005_1545_Plate38',\n",
       " '20211005_1743_Plate38',\n",
       " '20211005_1945_Plate38',\n",
       " '20211005_2144_Plate38',\n",
       " '20211005_2344_Plate38',\n",
       " '20211006_0145_Plate38',\n",
       " '20211006_0344_Plate38',\n",
       " '20211006_0544_Plate38',\n",
       " '20211006_0744_Plate38',\n",
       " '20211006_0945_Plate38',\n",
       " '20211006_1152_Plate38',\n",
       " '20211007_1621_Plate38',\n",
       " '20211007_1817_Plate38',\n",
       " '20211007_2018_Plate38',\n",
       " '20211007_2217_Plate38',\n",
       " '20211008_0017_Plate38',\n",
       " '20211008_0216_Plate38',\n",
       " '20211008_0416_Plate38',\n",
       " '20211008_0616_Plate38',\n",
       " '20211008_0816_Plate38',\n",
       " '20211008_1016_Plate38',\n",
       " '20211008_1216_Plate38',\n",
       " '20211008_1417_Plate38',\n",
       " '20211008_1616_Plate38',\n",
       " '20211008_1816_Plate38',\n",
       " '20211008_2016_Plate38',\n",
       " '20211008_2215_Plate38',\n",
       " '20211009_0015_Plate38',\n",
       " '20211009_0617_Plate38',\n",
       " '20211009_1217_Plate38',\n",
       " '20211009_1815_Plate38',\n",
       " '20211010_0016_Plate38',\n",
       " '20211010_1423_Plate38',\n",
       " '20211010_2022_Plate38',\n",
       " '20211011_0222_Plate38',\n",
       " '20211011_0823_Plate38',\n",
       " '20211011_1422_Plate38']"
      ]
     },
     "execution_count": 11,
     "metadata": {},
     "output_type": "execute_result"
    }
   ],
   "source": [
    "dates = list(all_folders.loc[all_folders['Plate']==785]['folder'])\n",
    "dates.sort()\n",
    "dates"
   ]
  },
  {
   "cell_type": "markdown",
   "metadata": {
    "tags": []
   },
   "source": [
    "***Create graphs***"
   ]
  },
  {
   "cell_type": "code",
   "execution_count": 12,
   "metadata": {
    "tags": []
   },
   "outputs": [
    {
     "name": "stdout",
     "output_type": "stream",
     "text": [
      "Submitted batch job 344976\n"
     ]
    },
    {
     "name": "stderr",
     "output_type": "stream",
     "text": [
      "sbatch: Single node jobs run on a shared node by default. Add --exclusive if you want to use a node exclusively.\n"
     ]
    }
   ],
   "source": [
    "num_parallel = 128\n",
    "time = '5:00:00'\n",
    "args=[directory]\n",
    "run_parallel('extract_nx_graph.py',args, folders, num_parallel, time,'extract_nx',cpus = 128,node ='fat')"
   ]
  },
  {
   "cell_type": "code",
   "execution_count": 69,
   "metadata": {},
   "outputs": [
    {
     "data": {
      "text/plain": [
       "336"
      ]
     },
     "execution_count": 69,
     "metadata": {},
     "output_type": "execute_result"
    }
   ],
   "source": [
    "plates = [22,10,76,26,152,102]\n",
    "\n",
    "folders = all_folders.loc[(all_folders['/Analysis/nx_graph_pruned.p'])&(all_folders['Plate'].isin(plates))]\n",
    "len(folders)"
   ]
  },
  {
   "cell_type": "markdown",
   "metadata": {},
   "source": [
    "***Extract Width***"
   ]
  },
  {
   "cell_type": "code",
   "execution_count": 11,
   "metadata": {
    "tags": []
   },
   "outputs": [
    {
     "name": "stderr",
     "output_type": "stream",
     "text": [
      "sbatch: Single node jobs run on a shared node by default. Add --exclusive if you want to use a node exclusively.\n"
     ]
    },
    {
     "name": "stdout",
     "output_type": "stream",
     "text": [
      "Submitted batch job 183068\n",
      "Submitted batch job 183069\n"
     ]
    },
    {
     "name": "stderr",
     "output_type": "stream",
     "text": [
      "sbatch: Single node jobs run on a shared node by default. Add --exclusive if you want to use a node exclusively.\n"
     ]
    }
   ],
   "source": [
    "num_parallel = 6\n",
    "time = '24:00:00'\n",
    "skip = False\n",
    "resolution = 50\n",
    "args = [directory,skip,resolution]\n",
    "run_parallel('extract_width.py',args,folders,num_parallel,time,'extract_width2',cpus=32)"
   ]
  },
  {
   "cell_type": "code",
   "execution_count": 41,
   "metadata": {
    "tags": []
   },
   "outputs": [
    {
     "data": {
      "text/plain": [
       "0"
      ]
     },
     "execution_count": 41,
     "metadata": {},
     "output_type": "execute_result"
    }
   ],
   "source": [
    "plates = [22,10,76,26,152,102]\n",
    "\n",
    "folders = all_folders.loc[(1-all_folders['/Analysis/nx_graph_pruned_width.p'])&(all_folders['Plate'].isin(plates))&(all_folders['/Analysis/nx_graph_pruned.p'])]\n",
    "# folders.loc[folders['folder'] == '20210110_1523_Plate30']\n",
    "# int(list(folders['folder'])[0].split('_')[-1][5:])\n",
    "len(folders)"
   ]
  },
  {
   "cell_type": "code",
   "execution_count": 4,
   "metadata": {},
   "outputs": [
    {
     "data": {
      "text/plain": [
       "336"
      ]
     },
     "execution_count": 4,
     "metadata": {},
     "output_type": "execute_result"
    }
   ],
   "source": [
    "plates = [22,10,76,26,152,102]\n",
    "\n",
    "folders = all_folders.loc[(all_folders['/Analysis/nx_graph_pruned_width.p'])&(all_folders['Plate'].isin(plates))]\n",
    "# folders.loc[folders['folder'] == '20210110_1523_Plate30']\n",
    "# int(list(folders['folder'])[0].split('_')[-1][5:])\n",
    "len(folders)"
   ]
  },
  {
   "cell_type": "markdown",
   "metadata": {},
   "source": [
    "***Identify Nodes***"
   ]
  },
  {
   "cell_type": "code",
   "execution_count": 21,
   "metadata": {
    "tags": []
   },
   "outputs": [
    {
     "name": "stdout",
     "output_type": "stream",
     "text": [
      "Submitted batch job 346165\n",
      "Submitted batch job 346166\n"
     ]
    },
    {
     "name": "stderr",
     "output_type": "stream",
     "text": [
      "sbatch: Single node jobs run on a shared node by default. Add --exclusive if you want to use a node exclusively.\n",
      "sbatch: Single node jobs run on a shared node by default. Add --exclusive if you want to use a node exclusively.\n"
     ]
    }
   ],
   "source": [
    "num_parallel = 32\n",
    "time = '1:00:00'\n",
    "limit = 100\n",
    "skip = False\n",
    "args=[directory,limit,skip]\n",
    "run_parallel_all_time('extract_nodes.py',args,folders,num_parallel,time,'node_id',cpus = 32)"
   ]
  },
  {
   "cell_type": "code",
   "execution_count": 60,
   "metadata": {},
   "outputs": [
    {
     "data": {
      "text/plain": [
       "239"
      ]
     },
     "execution_count": 60,
     "metadata": {},
     "output_type": "execute_result"
    }
   ],
   "source": [
    "plates = [22,10,76,26,152,102]\n",
    "\n",
    "folders = all_folders.loc[(all_folders['/Analysis/nx_graph_pruned_labeled.p'])&(all_folders['Plate'].isin(plates))]\n",
    "# folders.loc[folders['folder'] == '20210110_1523_Plate30']\n",
    "# int(list(folders['folder'])[0].split('_')[-1][5:])\n",
    "len(folders)"
   ]
  },
  {
   "cell_type": "markdown",
   "metadata": {},
   "source": [
    "***Hyphae extraction***"
   ]
  },
  {
   "cell_type": "code",
   "execution_count": 24,
   "metadata": {
    "tags": []
   },
   "outputs": [
    {
     "name": "stdout",
     "output_type": "stream",
     "text": [
      "Submitted batch job 270356\n",
      "Submitted batch job 270357\n"
     ]
    },
    {
     "name": "stderr",
     "output_type": "stream",
     "text": [
      "sbatch: Single node jobs run on a shared node by default. Add --exclusive if you want to use a node exclusively.\n",
      "sbatch: Single node jobs run on a shared node by default. Add --exclusive if you want to use a node exclusively.\n"
     ]
    }
   ],
   "source": [
    "num_parallel = 1\n",
    "time = '4:00:00'\n",
    "limit = 100\n",
    "version = 9\n",
    "labeled = False\n",
    "args = [directory,limit,version,labeled]\n",
    "run_parallel_all_time('hyphae_extraction.py',args,folders,num_parallel,time,'hyphae',cpus = 32)"
   ]
  }
 ],
 "metadata": {
  "kernelspec": {
   "display_name": "Python 3 (ipykernel)",
   "language": "python",
   "name": "python3"
  },
  "language_info": {
   "codemirror_mode": {
    "name": "ipython",
    "version": 3
   },
   "file_extension": ".py",
   "mimetype": "text/x-python",
   "name": "python",
   "nbconvert_exporter": "python",
   "pygments_lexer": "ipython3",
   "version": "3.7.11"
  }
 },
 "nbformat": 4,
 "nbformat_minor": 4
}

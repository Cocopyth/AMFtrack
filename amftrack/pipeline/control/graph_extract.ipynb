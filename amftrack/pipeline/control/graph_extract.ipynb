{
 "cells": [
  {
   "cell_type": "code",
   "execution_count": 1,
   "metadata": {},
   "outputs": [
    {
     "name": "stderr",
     "output_type": "stream",
     "text": [
      "/home/cbisot/pycode/MscThesis/amftrack/transfer/functions/transfer.py:1: TqdmExperimentalWarning: Using `tqdm.autonotebook.tqdm` in notebook mode. Use `tqdm.tqdm` instead to force console mode (e.g. in jupyter console)\n",
      "  from tqdm.autonotebook import tqdm\n"
     ]
    }
   ],
   "source": [
    "%matplotlib widget\n",
    "\n",
    "import os  \n",
    "import sys  \n",
    "sys.path.insert(0, os.getenv('HOME')+'/pycode/MscThesis/')\n",
    "import pandas as pd\n",
    "from amftrack.util.sys import get_dates_datetime, get_dirname, temp_path, get_data_info, update_plate_info, \\\n",
    "get_current_folders, get_folders_by_plate_id\n",
    "import ast\n",
    "from amftrack.plotutil import plot_t_tp1\n",
    "from scipy import sparse\n",
    "from datetime import datetime\n",
    "import pickle\n",
    "import scipy.io as sio\n",
    "from pymatreader import read_mat\n",
    "from matplotlib import colors\n",
    "import cv2\n",
    "import imageio\n",
    "import matplotlib.pyplot as plt\n",
    "import numpy as np\n",
    "from skimage.filters import frangi\n",
    "from skimage import filters\n",
    "from random import choice\n",
    "import scipy.sparse\n",
    "import os\n",
    "from skimage.feature import hessian_matrix_det\n",
    "from amftrack.pipeline.paths.directory import *\n"
   ]
  },
  {
   "cell_type": "code",
   "execution_count": 3,
   "metadata": {},
   "outputs": [
    {
     "data": {
      "text/plain": [
       "182011604"
      ]
     },
     "execution_count": 3,
     "metadata": {},
     "output_type": "execute_result"
    }
   ],
   "source": [
    "x = {i : set() for i in range(660000)}\n",
    "getsize(x)"
   ]
  },
  {
   "cell_type": "code",
   "execution_count": 5,
   "metadata": {},
   "outputs": [
    {
     "data": {
      "text/plain": [
       "39451604"
      ]
     },
     "execution_count": 5,
     "metadata": {},
     "output_type": "execute_result"
    }
   ],
   "source": [
    "x = {i : 2 for i in range(660000)}\n",
    "getsize(x)"
   ]
  },
  {
   "cell_type": "code",
   "execution_count": 2,
   "metadata": {},
   "outputs": [],
   "source": [
    "import sys\n",
    "from types import ModuleType, FunctionType\n",
    "from gc import get_referents\n",
    "\n",
    "# Custom objects know their class.\n",
    "# Function objects seem to know way too much, including modules.\n",
    "# Exclude modules as well.\n",
    "BLACKLIST = type, ModuleType, FunctionType\n",
    "\n",
    "\n",
    "def getsize(obj):\n",
    "    \"\"\"sum size of object & members.\"\"\"\n",
    "    if isinstance(obj, BLACKLIST):\n",
    "        raise TypeError('getsize() does not take argument of type: '+ str(type(obj)))\n",
    "    seen_ids = set()\n",
    "    size = 0\n",
    "    objects = [obj]\n",
    "    while objects:\n",
    "        need_referents = []\n",
    "        for obj in objects:\n",
    "            if not isinstance(obj, BLACKLIST) and id(obj) not in seen_ids:\n",
    "                seen_ids.add(id(obj))\n",
    "                size += sys.getsizeof(obj)\n",
    "                need_referents.append(obj)\n",
    "        objects = get_referents(*need_referents)\n",
    "    return size"
   ]
  },
  {
   "cell_type": "code",
   "execution_count": 2,
   "metadata": {
    "tags": []
   },
   "outputs": [],
   "source": [
    "directory = directory_project\n",
    "# update_plate_info(directory)"
   ]
  },
  {
   "cell_type": "code",
   "execution_count": 2,
   "metadata": {},
   "outputs": [
    {
     "data": {
      "application/vnd.jupyter.widget-view+json": {
       "model_id": "3e29c53339774214828411fe2cd98c42",
       "version_major": 2,
       "version_minor": 0
      },
      "text/plain": [
       "analysed:   0%|          | 0/528 [00:00<?, ?it/s]"
      ]
     },
     "metadata": {},
     "output_type": "display_data"
    }
   ],
   "source": [
    "directory = '/projects/0/einf914/agg/'\n",
    "update_plate_info(directory)"
   ]
  },
  {
   "cell_type": "code",
   "execution_count": 3,
   "metadata": {},
   "outputs": [],
   "source": [
    "all_folders = get_current_folders(directory)"
   ]
  },
  {
   "cell_type": "code",
   "execution_count": 4,
   "metadata": {},
   "outputs": [
    {
     "name": "stdout",
     "output_type": "stream",
     "text": [
      "91\n"
     ]
    }
   ],
   "source": [
    "folders = all_folders.loc[all_folders['Plate']==\"808\"]\n",
    "print(len(folders))"
   ]
  },
  {
   "cell_type": "code",
   "execution_count": 5,
   "metadata": {},
   "outputs": [
    {
     "name": "stdout",
     "output_type": "stream",
     "text": [
      "962\n",
      "921\n",
      "918\n",
      "113\n",
      "1\n"
     ]
    }
   ],
   "source": [
    "folders = all_folders.loc[all_folders['Temp'].isin(['30to25'])]\n",
    "print(len(folders))\n",
    "folders = folders.loc[folders['/Analysis/skeleton_pruned_compressed.mat']==True]\n",
    "print(len(folders))\n",
    "folders = folders.loc[folders['/Analysis/skeleton_realigned_compressed.mat']==True]\n",
    "print(len(folders))\n",
    "# folders = folders.loc[folders['Plate'].isin(['99','92','90','138',\"112\",'127'])]\n",
    "# print(len(folders))\n",
    "folders = folders.loc[folders['Plate'].isin(['48'])]\n",
    "print(len(folders))\n",
    "# folders = folders.loc[folders['/Analysis/nx_graph_pruned_labeled.p']==True]\n",
    "# print(len(folders))\n",
    "print(len(folders[\"Plate\"].unique()))\n",
    "# folders = folders.loc[folders['Plate'].isin([\"112\",'127'])]\n"
   ]
  },
  {
   "cell_type": "code",
   "execution_count": 6,
   "metadata": {
    "collapsed": true,
    "jupyter": {
     "outputs_hidden": true
    },
    "tags": []
   },
   "outputs": [
    {
     "data": {
      "text/html": [
       "<div>\n",
       "<style scoped>\n",
       "    .dataframe tbody tr th:only-of-type {\n",
       "        vertical-align: middle;\n",
       "    }\n",
       "\n",
       "    .dataframe tbody tr th {\n",
       "        vertical-align: top;\n",
       "    }\n",
       "\n",
       "    .dataframe thead th {\n",
       "        text-align: right;\n",
       "    }\n",
       "</style>\n",
       "<table border=\"1\" class=\"dataframe\">\n",
       "  <thead>\n",
       "    <tr style=\"text-align: right;\">\n",
       "      <th></th>\n",
       "      <th>total_path</th>\n",
       "      <th>Plate</th>\n",
       "      <th>PrincePos</th>\n",
       "      <th>root</th>\n",
       "      <th>strain</th>\n",
       "      <th>medium</th>\n",
       "      <th>split</th>\n",
       "      <th>Pbait</th>\n",
       "      <th>CrossDate</th>\n",
       "      <th>/Img/TileConfiguration.txt.registered</th>\n",
       "      <th>...</th>\n",
       "      <th>/Analysis/transform_corrupt.mat</th>\n",
       "      <th>/Analysis/skeleton_realigned_compressed.mat</th>\n",
       "      <th>/Analysis/nx_graph_pruned.p</th>\n",
       "      <th>/Analysis/nx_graph_pruned_width.p</th>\n",
       "      <th>/Analysis/nx_graph_pruned_labeled.p</th>\n",
       "      <th>date</th>\n",
       "      <th>folder</th>\n",
       "      <th>Temp</th>\n",
       "      <th>Temperature</th>\n",
       "      <th>InocDate</th>\n",
       "    </tr>\n",
       "  </thead>\n",
       "  <tbody>\n",
       "    <tr>\n",
       "      <th>5898</th>\n",
       "      <td>/projects/0/einf914/data/20211003_1937_Plate35</td>\n",
       "      <td>808</td>\n",
       "      <td>35</td>\n",
       "      <td>'Carrot'</td>\n",
       "      <td>'A5'</td>\n",
       "      <td>'001P100N'</td>\n",
       "      <td>'Y'</td>\n",
       "      <td>'-'</td>\n",
       "      <td>20210928</td>\n",
       "      <td>True</td>\n",
       "      <td>...</td>\n",
       "      <td>False</td>\n",
       "      <td>True</td>\n",
       "      <td>True</td>\n",
       "      <td>True</td>\n",
       "      <td>True</td>\n",
       "      <td>03.10.2021, 19:37:</td>\n",
       "      <td>20211003_1937_Plate35</td>\n",
       "      <td>NaN</td>\n",
       "      <td>NaN</td>\n",
       "      <td>NaN</td>\n",
       "    </tr>\n",
       "    <tr>\n",
       "      <th>5936</th>\n",
       "      <td>/projects/0/einf914/data/20211001_0003_Plate35</td>\n",
       "      <td>808</td>\n",
       "      <td>35</td>\n",
       "      <td>'Carrot'</td>\n",
       "      <td>'A5'</td>\n",
       "      <td>'001P100N'</td>\n",
       "      <td>'Y'</td>\n",
       "      <td>'-'</td>\n",
       "      <td>20210928</td>\n",
       "      <td>True</td>\n",
       "      <td>...</td>\n",
       "      <td>False</td>\n",
       "      <td>True</td>\n",
       "      <td>True</td>\n",
       "      <td>True</td>\n",
       "      <td>True</td>\n",
       "      <td>01.10.2021, 00:03:</td>\n",
       "      <td>20211001_0003_Plate35</td>\n",
       "      <td>NaN</td>\n",
       "      <td>NaN</td>\n",
       "      <td>NaN</td>\n",
       "    </tr>\n",
       "    <tr>\n",
       "      <th>5957</th>\n",
       "      <td>/projects/0/einf914/data/20211003_1737_Plate35</td>\n",
       "      <td>808</td>\n",
       "      <td>35</td>\n",
       "      <td>'Carrot'</td>\n",
       "      <td>'A5'</td>\n",
       "      <td>'001P100N'</td>\n",
       "      <td>'Y'</td>\n",
       "      <td>'-'</td>\n",
       "      <td>20210928</td>\n",
       "      <td>True</td>\n",
       "      <td>...</td>\n",
       "      <td>False</td>\n",
       "      <td>True</td>\n",
       "      <td>True</td>\n",
       "      <td>True</td>\n",
       "      <td>True</td>\n",
       "      <td>03.10.2021, 17:37:</td>\n",
       "      <td>20211003_1737_Plate35</td>\n",
       "      <td>NaN</td>\n",
       "      <td>NaN</td>\n",
       "      <td>NaN</td>\n",
       "    </tr>\n",
       "    <tr>\n",
       "      <th>6010</th>\n",
       "      <td>/projects/0/einf914/data/20211004_1135_Plate35</td>\n",
       "      <td>808</td>\n",
       "      <td>35</td>\n",
       "      <td>'Carrot'</td>\n",
       "      <td>'A5'</td>\n",
       "      <td>'001P100N'</td>\n",
       "      <td>'Y'</td>\n",
       "      <td>'-'</td>\n",
       "      <td>20210928</td>\n",
       "      <td>True</td>\n",
       "      <td>...</td>\n",
       "      <td>False</td>\n",
       "      <td>True</td>\n",
       "      <td>True</td>\n",
       "      <td>True</td>\n",
       "      <td>True</td>\n",
       "      <td>04.10.2021, 11:35:</td>\n",
       "      <td>20211004_1135_Plate35</td>\n",
       "      <td>NaN</td>\n",
       "      <td>NaN</td>\n",
       "      <td>NaN</td>\n",
       "    </tr>\n",
       "    <tr>\n",
       "      <th>6011</th>\n",
       "      <td>/projects/0/einf914/data/20211004_2137_Plate35</td>\n",
       "      <td>808</td>\n",
       "      <td>35</td>\n",
       "      <td>'Carrot'</td>\n",
       "      <td>'A5'</td>\n",
       "      <td>'001P100N'</td>\n",
       "      <td>'Y'</td>\n",
       "      <td>'-'</td>\n",
       "      <td>20210928</td>\n",
       "      <td>True</td>\n",
       "      <td>...</td>\n",
       "      <td>False</td>\n",
       "      <td>True</td>\n",
       "      <td>True</td>\n",
       "      <td>True</td>\n",
       "      <td>True</td>\n",
       "      <td>04.10.2021, 21:37:</td>\n",
       "      <td>20211004_2137_Plate35</td>\n",
       "      <td>NaN</td>\n",
       "      <td>NaN</td>\n",
       "      <td>NaN</td>\n",
       "    </tr>\n",
       "    <tr>\n",
       "      <th>...</th>\n",
       "      <td>...</td>\n",
       "      <td>...</td>\n",
       "      <td>...</td>\n",
       "      <td>...</td>\n",
       "      <td>...</td>\n",
       "      <td>...</td>\n",
       "      <td>...</td>\n",
       "      <td>...</td>\n",
       "      <td>...</td>\n",
       "      <td>...</td>\n",
       "      <td>...</td>\n",
       "      <td>...</td>\n",
       "      <td>...</td>\n",
       "      <td>...</td>\n",
       "      <td>...</td>\n",
       "      <td>...</td>\n",
       "      <td>...</td>\n",
       "      <td>...</td>\n",
       "      <td>...</td>\n",
       "      <td>...</td>\n",
       "      <td>...</td>\n",
       "    </tr>\n",
       "    <tr>\n",
       "      <th>7619</th>\n",
       "      <td>/projects/0/einf914/data/20211005_1736_Plate35</td>\n",
       "      <td>808</td>\n",
       "      <td>35</td>\n",
       "      <td>'Carrot'</td>\n",
       "      <td>'A5'</td>\n",
       "      <td>'001P100N'</td>\n",
       "      <td>'Y'</td>\n",
       "      <td>'-'</td>\n",
       "      <td>20210928</td>\n",
       "      <td>True</td>\n",
       "      <td>...</td>\n",
       "      <td>False</td>\n",
       "      <td>True</td>\n",
       "      <td>True</td>\n",
       "      <td>True</td>\n",
       "      <td>True</td>\n",
       "      <td>05.10.2021, 17:36:</td>\n",
       "      <td>20211005_1736_Plate35</td>\n",
       "      <td>NaN</td>\n",
       "      <td>NaN</td>\n",
       "      <td>NaN</td>\n",
       "    </tr>\n",
       "    <tr>\n",
       "      <th>7623</th>\n",
       "      <td>/projects/0/einf914/data/20211005_0337_Plate35</td>\n",
       "      <td>808</td>\n",
       "      <td>35</td>\n",
       "      <td>'Carrot'</td>\n",
       "      <td>'A5'</td>\n",
       "      <td>'001P100N'</td>\n",
       "      <td>'Y'</td>\n",
       "      <td>'-'</td>\n",
       "      <td>20210928</td>\n",
       "      <td>True</td>\n",
       "      <td>...</td>\n",
       "      <td>False</td>\n",
       "      <td>True</td>\n",
       "      <td>True</td>\n",
       "      <td>True</td>\n",
       "      <td>True</td>\n",
       "      <td>05.10.2021, 03:37:</td>\n",
       "      <td>20211005_0337_Plate35</td>\n",
       "      <td>NaN</td>\n",
       "      <td>NaN</td>\n",
       "      <td>NaN</td>\n",
       "    </tr>\n",
       "    <tr>\n",
       "      <th>7645</th>\n",
       "      <td>/projects/0/einf914/data/20210930_0352_Plate35</td>\n",
       "      <td>808</td>\n",
       "      <td>35</td>\n",
       "      <td>'Carrot'</td>\n",
       "      <td>'A5'</td>\n",
       "      <td>'001P100N'</td>\n",
       "      <td>'Y'</td>\n",
       "      <td>'-'</td>\n",
       "      <td>20210928</td>\n",
       "      <td>True</td>\n",
       "      <td>...</td>\n",
       "      <td>False</td>\n",
       "      <td>True</td>\n",
       "      <td>True</td>\n",
       "      <td>True</td>\n",
       "      <td>True</td>\n",
       "      <td>30.09.2021, 03:52:</td>\n",
       "      <td>20210930_0352_Plate35</td>\n",
       "      <td>NaN</td>\n",
       "      <td>NaN</td>\n",
       "      <td>NaN</td>\n",
       "    </tr>\n",
       "    <tr>\n",
       "      <th>7671</th>\n",
       "      <td>/projects/0/einf914/data/20211011_0816_Plate35</td>\n",
       "      <td>808</td>\n",
       "      <td>35</td>\n",
       "      <td>'Carrot'</td>\n",
       "      <td>'A5'</td>\n",
       "      <td>'001P100N'</td>\n",
       "      <td>'Y'</td>\n",
       "      <td>'-'</td>\n",
       "      <td>20210928</td>\n",
       "      <td>True</td>\n",
       "      <td>...</td>\n",
       "      <td>False</td>\n",
       "      <td>True</td>\n",
       "      <td>True</td>\n",
       "      <td>True</td>\n",
       "      <td>True</td>\n",
       "      <td>11.10.2021, 08:16:</td>\n",
       "      <td>20211011_0816_Plate35</td>\n",
       "      <td>NaN</td>\n",
       "      <td>NaN</td>\n",
       "      <td>NaN</td>\n",
       "    </tr>\n",
       "    <tr>\n",
       "      <th>7682</th>\n",
       "      <td>/projects/0/einf914/data/20211010_2015_Plate35</td>\n",
       "      <td>808</td>\n",
       "      <td>35</td>\n",
       "      <td>'Carrot'</td>\n",
       "      <td>'A5'</td>\n",
       "      <td>'001P100N'</td>\n",
       "      <td>'Y'</td>\n",
       "      <td>'-'</td>\n",
       "      <td>20210928</td>\n",
       "      <td>True</td>\n",
       "      <td>...</td>\n",
       "      <td>False</td>\n",
       "      <td>True</td>\n",
       "      <td>True</td>\n",
       "      <td>True</td>\n",
       "      <td>True</td>\n",
       "      <td>10.10.2021, 20:15:</td>\n",
       "      <td>20211010_2015_Plate35</td>\n",
       "      <td>NaN</td>\n",
       "      <td>NaN</td>\n",
       "      <td>NaN</td>\n",
       "    </tr>\n",
       "  </tbody>\n",
       "</table>\n",
       "<p>91 rows × 24 columns</p>\n",
       "</div>"
      ],
      "text/plain": [
       "                                          total_path Plate PrincePos  \\\n",
       "5898  /projects/0/einf914/data/20211003_1937_Plate35   808        35   \n",
       "5936  /projects/0/einf914/data/20211001_0003_Plate35   808        35   \n",
       "5957  /projects/0/einf914/data/20211003_1737_Plate35   808        35   \n",
       "6010  /projects/0/einf914/data/20211004_1135_Plate35   808        35   \n",
       "6011  /projects/0/einf914/data/20211004_2137_Plate35   808        35   \n",
       "...                                              ...   ...       ...   \n",
       "7619  /projects/0/einf914/data/20211005_1736_Plate35   808        35   \n",
       "7623  /projects/0/einf914/data/20211005_0337_Plate35   808        35   \n",
       "7645  /projects/0/einf914/data/20210930_0352_Plate35   808        35   \n",
       "7671  /projects/0/einf914/data/20211011_0816_Plate35   808        35   \n",
       "7682  /projects/0/einf914/data/20211010_2015_Plate35   808        35   \n",
       "\n",
       "          root strain      medium split Pbait CrossDate  \\\n",
       "5898  'Carrot'   'A5'  '001P100N'   'Y'   '-'  20210928   \n",
       "5936  'Carrot'   'A5'  '001P100N'   'Y'   '-'  20210928   \n",
       "5957  'Carrot'   'A5'  '001P100N'   'Y'   '-'  20210928   \n",
       "6010  'Carrot'   'A5'  '001P100N'   'Y'   '-'  20210928   \n",
       "6011  'Carrot'   'A5'  '001P100N'   'Y'   '-'  20210928   \n",
       "...        ...    ...         ...   ...   ...       ...   \n",
       "7619  'Carrot'   'A5'  '001P100N'   'Y'   '-'  20210928   \n",
       "7623  'Carrot'   'A5'  '001P100N'   'Y'   '-'  20210928   \n",
       "7645  'Carrot'   'A5'  '001P100N'   'Y'   '-'  20210928   \n",
       "7671  'Carrot'   'A5'  '001P100N'   'Y'   '-'  20210928   \n",
       "7682  'Carrot'   'A5'  '001P100N'   'Y'   '-'  20210928   \n",
       "\n",
       "     /Img/TileConfiguration.txt.registered  ...  \\\n",
       "5898                                  True  ...   \n",
       "5936                                  True  ...   \n",
       "5957                                  True  ...   \n",
       "6010                                  True  ...   \n",
       "6011                                  True  ...   \n",
       "...                                    ...  ...   \n",
       "7619                                  True  ...   \n",
       "7623                                  True  ...   \n",
       "7645                                  True  ...   \n",
       "7671                                  True  ...   \n",
       "7682                                  True  ...   \n",
       "\n",
       "     /Analysis/transform_corrupt.mat  \\\n",
       "5898                           False   \n",
       "5936                           False   \n",
       "5957                           False   \n",
       "6010                           False   \n",
       "6011                           False   \n",
       "...                              ...   \n",
       "7619                           False   \n",
       "7623                           False   \n",
       "7645                           False   \n",
       "7671                           False   \n",
       "7682                           False   \n",
       "\n",
       "     /Analysis/skeleton_realigned_compressed.mat /Analysis/nx_graph_pruned.p  \\\n",
       "5898                                        True                        True   \n",
       "5936                                        True                        True   \n",
       "5957                                        True                        True   \n",
       "6010                                        True                        True   \n",
       "6011                                        True                        True   \n",
       "...                                          ...                         ...   \n",
       "7619                                        True                        True   \n",
       "7623                                        True                        True   \n",
       "7645                                        True                        True   \n",
       "7671                                        True                        True   \n",
       "7682                                        True                        True   \n",
       "\n",
       "     /Analysis/nx_graph_pruned_width.p /Analysis/nx_graph_pruned_labeled.p  \\\n",
       "5898                              True                                True   \n",
       "5936                              True                                True   \n",
       "5957                              True                                True   \n",
       "6010                              True                                True   \n",
       "6011                              True                                True   \n",
       "...                                ...                                 ...   \n",
       "7619                              True                                True   \n",
       "7623                              True                                True   \n",
       "7645                              True                                True   \n",
       "7671                              True                                True   \n",
       "7682                              True                                True   \n",
       "\n",
       "                    date                 folder Temp Temperature InocDate  \n",
       "5898  03.10.2021, 19:37:  20211003_1937_Plate35  NaN         NaN      NaN  \n",
       "5936  01.10.2021, 00:03:  20211001_0003_Plate35  NaN         NaN      NaN  \n",
       "5957  03.10.2021, 17:37:  20211003_1737_Plate35  NaN         NaN      NaN  \n",
       "6010  04.10.2021, 11:35:  20211004_1135_Plate35  NaN         NaN      NaN  \n",
       "6011  04.10.2021, 21:37:  20211004_2137_Plate35  NaN         NaN      NaN  \n",
       "...                  ...                    ...  ...         ...      ...  \n",
       "7619  05.10.2021, 17:36:  20211005_1736_Plate35  NaN         NaN      NaN  \n",
       "7623  05.10.2021, 03:37:  20211005_0337_Plate35  NaN         NaN      NaN  \n",
       "7645  30.09.2021, 03:52:  20210930_0352_Plate35  NaN         NaN      NaN  \n",
       "7671  11.10.2021, 08:16:  20211011_0816_Plate35  NaN         NaN      NaN  \n",
       "7682  10.10.2021, 20:15:  20211010_2015_Plate35  NaN         NaN      NaN  \n",
       "\n",
       "[91 rows x 24 columns]"
      ]
     },
     "execution_count": 6,
     "metadata": {},
     "output_type": "execute_result"
    }
   ],
   "source": [
    "folders"
   ]
  },
  {
   "cell_type": "markdown",
   "metadata": {
    "tags": []
   },
   "source": [
    "***Create graphs***"
   ]
  },
  {
   "cell_type": "code",
   "execution_count": 20,
   "metadata": {
    "collapsed": true,
    "jupyter": {
     "outputs_hidden": true
    },
    "tags": []
   },
   "outputs": [
    {
     "name": "stdout",
     "output_type": "stream",
     "text": [
      "Submitted batch job 507919\n",
      "Submitted batch job 507921\n"
     ]
    },
    {
     "name": "stderr",
     "output_type": "stream",
     "text": [
      "sbatch: Single node jobs run on a shared node by default. Add --exclusive if you want to use a node exclusively.\n",
      "sbatch: You will be charged for 1.0 node. A full node consists of 128 CPU cores, 960000 MiB of memory and 0 GPUs and can be shared by up to 4 jobs.\n",
      "sbatch: Single node jobs run on a shared node by default. Add --exclusive if you want to use a node exclusively.\n",
      "sbatch: You will be charged for 1.0 node. A full node consists of 128 CPU cores, 960000 MiB of memory and 0 GPUs and can be shared by up to 4 jobs.\n"
     ]
    }
   ],
   "source": [
    "num_parallel = 128\n",
    "time = '5:00:00'\n",
    "args=[directory]\n",
    "run_parallel('extract_nx_graph.py',args, folders, num_parallel, time,'extract_nx',cpus = 128,node ='fat')"
   ]
  },
  {
   "cell_type": "code",
   "execution_count": 69,
   "metadata": {},
   "outputs": [
    {
     "data": {
      "text/plain": [
       "336"
      ]
     },
     "execution_count": 69,
     "metadata": {},
     "output_type": "execute_result"
    }
   ],
   "source": [
    "plates = [22,10,76,26,152,102]\n",
    "\n",
    "folders = all_folders.loc[(all_folders['/Analysis/nx_graph_pruned.p'])&(all_folders['Plate'].isin(plates))]\n",
    "len(folders)"
   ]
  },
  {
   "cell_type": "markdown",
   "metadata": {},
   "source": [
    "***Extract Width***"
   ]
  },
  {
   "cell_type": "code",
   "execution_count": 6,
   "metadata": {
    "collapsed": true,
    "jupyter": {
     "outputs_hidden": true
    },
    "tags": []
   },
   "outputs": [
    {
     "name": "stdout",
     "output_type": "stream",
     "text": [
      "Submitted batch job 508441\n",
      "Submitted batch job 508442\n"
     ]
    },
    {
     "name": "stderr",
     "output_type": "stream",
     "text": [
      "sbatch: Single node jobs run on a shared node by default. Add --exclusive if you want to use a node exclusively.\n",
      "sbatch: You will be charged for 0.25 node. A full node consists of 128 CPU cores, 960000 MiB of memory and 0 GPUs and can be shared by up to 4 jobs.\n",
      "sbatch: Single node jobs run on a shared node by default. Add --exclusive if you want to use a node exclusively.\n",
      "sbatch: You will be charged for 0.25 node. A full node consists of 128 CPU cores, 960000 MiB of memory and 0 GPUs and can be shared by up to 4 jobs.\n"
     ]
    },
    {
     "name": "stdout",
     "output_type": "stream",
     "text": [
      "Submitted batch job 508443\n",
      "Submitted batch job 508444\n",
      "Submitted batch job 508445\n"
     ]
    },
    {
     "name": "stderr",
     "output_type": "stream",
     "text": [
      "sbatch: Single node jobs run on a shared node by default. Add --exclusive if you want to use a node exclusively.\n",
      "sbatch: You will be charged for 0.25 node. A full node consists of 128 CPU cores, 960000 MiB of memory and 0 GPUs and can be shared by up to 4 jobs.\n",
      "sbatch: Single node jobs run on a shared node by default. Add --exclusive if you want to use a node exclusively.\n",
      "sbatch: You will be charged for 0.25 node. A full node consists of 128 CPU cores, 960000 MiB of memory and 0 GPUs and can be shared by up to 4 jobs.\n",
      "sbatch: Single node jobs run on a shared node by default. Add --exclusive if you want to use a node exclusively.\n",
      "sbatch: You will be charged for 0.25 node. A full node consists of 128 CPU cores, 960000 MiB of memory and 0 GPUs and can be shared by up to 4 jobs.\n"
     ]
    }
   ],
   "source": [
    "num_parallel = 128\n",
    "time = '24:00:00'\n",
    "skip = False\n",
    "resolution = 50\n",
    "args = [directory,skip,resolution]\n",
    "run_parallel('extract_width.py',args,folders,num_parallel,time,'extract_width2',cpus=32,node=\"fat\")"
   ]
  },
  {
   "cell_type": "code",
   "execution_count": 41,
   "metadata": {
    "tags": []
   },
   "outputs": [
    {
     "data": {
      "text/plain": [
       "0"
      ]
     },
     "execution_count": 41,
     "metadata": {},
     "output_type": "execute_result"
    }
   ],
   "source": [
    "plates = [22,10,76,26,152,102]\n",
    "\n",
    "folders = all_folders.loc[(1-all_folders['/Analysis/nx_graph_pruned_width.p'])&(all_folders['Plate'].isin(plates))&(all_folders['/Analysis/nx_graph_pruned.p'])]\n",
    "# folders.loc[folders['folder'] == '20210110_1523_Plate30']\n",
    "# int(list(folders['folder'])[0].split('_')[-1][5:])\n",
    "len(folders)"
   ]
  },
  {
   "cell_type": "code",
   "execution_count": 4,
   "metadata": {},
   "outputs": [
    {
     "data": {
      "text/plain": [
       "336"
      ]
     },
     "execution_count": 4,
     "metadata": {},
     "output_type": "execute_result"
    }
   ],
   "source": [
    "plates = [22,10,76,26,152,102]\n",
    "\n",
    "folders = all_folders.loc[(all_folders['/Analysis/nx_graph_pruned_width.p'])&(all_folders['Plate'].isin(plates))]\n",
    "# folders.loc[folders['folder'] == '20210110_1523_Plate30']\n",
    "# int(list(folders['folder'])[0].split('_')[-1][5:])\n",
    "len(folders)"
   ]
  },
  {
   "cell_type": "markdown",
   "metadata": {},
   "source": [
    "***Identify Nodes***"
   ]
  },
  {
   "cell_type": "code",
   "execution_count": 7,
   "metadata": {
    "collapsed": true,
    "jupyter": {
     "outputs_hidden": true
    },
    "tags": []
   },
   "outputs": [
    {
     "name": "stdout",
     "output_type": "stream",
     "text": [
      "Submitted batch job 535639\n"
     ]
    },
    {
     "name": "stderr",
     "output_type": "stream",
     "text": [
      "sbatch: Single node jobs run on a shared node by default. Add --exclusive if you want to use a node exclusively.\n",
      "sbatch: You will be charged for 0.25 node. A full node consists of 128 CPU cores, 960000 MiB of memory and 0 GPUs and can be shared by up to 4 jobs.\n"
     ]
    }
   ],
   "source": [
    "num_parallel = 32\n",
    "time = '24:00:00'\n",
    "limit = 55\n",
    "skip = False\n",
    "args=[directory,limit,skip]\n",
    "run_parallel_all_time('extract_nodes.py',args,folders,num_parallel,time,'node_id',cpus = 32,node=\"fat\")"
   ]
  },
  {
   "cell_type": "code",
   "execution_count": 60,
   "metadata": {},
   "outputs": [
    {
     "data": {
      "text/plain": [
       "239"
      ]
     },
     "execution_count": 60,
     "metadata": {},
     "output_type": "execute_result"
    }
   ],
   "source": [
    "plates = [22,10,76,26,152,102]\n",
    "\n",
    "folders = all_folders.loc[(all_folders['/Analysis/nx_graph_pruned_labeled.p'])&(all_folders['Plate'].isin(plates))]\n",
    "# folders.loc[folders['folder'] == '20210110_1523_Plate30']\n",
    "# int(list(folders['folder'])[0].split('_')[-1][5:])\n",
    "len(folders)"
   ]
  },
  {
   "cell_type": "markdown",
   "metadata": {},
   "source": [
    "***Hyphae extraction***"
   ]
  },
  {
   "cell_type": "code",
   "execution_count": 6,
   "metadata": {
    "tags": []
   },
   "outputs": [
    {
     "name": "stdout",
     "output_type": "stream",
     "text": [
      "Submitted batch job 551041\n"
     ]
    },
    {
     "name": "stderr",
     "output_type": "stream",
     "text": [
      "sbatch: Single node jobs run on a shared node by default. Add --exclusive if you want to use a node exclusively.\n",
      "sbatch: You will be charged for 0.25 node. A full node consists of 128 CPU cores, 960000 MiB of memory and 0 GPUs and can be shared by up to 4 jobs.\n"
     ]
    }
   ],
   "source": [
    "num_parallel = 32\n",
    "time = '8:00:00'\n",
    "limit = 55\n",
    "version = 11\n",
    "labeled = True\n",
    "args = [directory,limit,version,labeled]\n",
    "run_parallel_all_time('hyphae_extraction.py',args,folders,num_parallel,time,'hyphae',cpus = 32,node=\"fat\")"
   ]
  }
 ],
 "metadata": {
  "kernelspec": {
   "display_name": "Python 3 (ipykernel)",
   "language": "python",
   "name": "python3"
  },
  "language_info": {
   "codemirror_mode": {
    "name": "ipython",
    "version": 3
   },
   "file_extension": ".py",
   "mimetype": "text/x-python",
   "name": "python",
   "nbconvert_exporter": "python",
   "pygments_lexer": "ipython3",
   "version": "3.9.7"
  }
 },
 "nbformat": 4,
 "nbformat_minor": 4
}

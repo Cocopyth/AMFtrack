{
 "cells": [
  {
   "cell_type": "code",
   "execution_count": 38,
   "metadata": {},
   "outputs": [],
   "source": [
    "%matplotlib widget\n",
    "\n",
    "import sys  \n",
    "sys.path.insert(0, '/home/cbisot/pycode/MscThesis/')\n",
    "import pandas as pd\n",
    "from amftrack.util import get_dates_datetime, get_dirname, get_data_info, update_plate_info, \\\n",
    "get_current_folders, get_folders_by_plate_id\n",
    "import ast\n",
    "from amftrack.plotutil import plot_t_tp1\n",
    "from scipy import sparse\n",
    "from datetime import datetime\n",
    "from amftrack.pipeline.functions.node_id import orient\n",
    "import pickle\n",
    "import scipy.io as sio\n",
    "from pymatreader import read_mat\n",
    "from matplotlib import colors\n",
    "import cv2\n",
    "import imageio\n",
    "import matplotlib.pyplot as plt\n",
    "import numpy as np\n",
    "from skimage.filters import frangi\n",
    "from skimage import filters\n",
    "from random import choice\n",
    "import scipy.sparse\n",
    "import os\n",
    "from amftrack.pipeline.functions.extract_graph import from_sparse_to_graph, generate_nx_graph, sparse_to_doc\n",
    "from skimage.feature import hessian_matrix_det\n",
    "from amftrack.pipeline.functions.experiment_class_surf import Experiment\n",
    "from amftrack.pipeline.paths.directory import run_parallel, find_state, find_state_extract, directory_scratch, directory_project, run_parallel_all_time\n"
   ]
  },
  {
   "cell_type": "code",
   "execution_count": 39,
   "metadata": {
    "tags": []
   },
   "outputs": [],
   "source": [
    "directory = directory_project\n",
    "update_plate_info(directory)"
   ]
  },
  {
   "cell_type": "code",
   "execution_count": 7,
   "metadata": {},
   "outputs": [],
   "source": [
    "update_plate_info(directory_scratch)"
   ]
  },
  {
   "cell_type": "code",
   "execution_count": 40,
   "metadata": {},
   "outputs": [],
   "source": [
    "len(get_current_folders(directory))\n",
    "all_folders = get_current_folders(directory)"
   ]
  },
  {
   "cell_type": "code",
   "execution_count": 29,
   "metadata": {
    "tags": []
   },
   "outputs": [
    {
     "name": "stdout",
     "output_type": "stream",
     "text": [
      "351\n",
      "336\n"
     ]
    }
   ],
   "source": [
    "plate = 22\n",
    "plates = [22,10,76,26,152,102]\n",
    "\n",
    "# folders = all_folders.loc[all_folders['Plate']==plate]\n",
    "folders = all_folders.loc[all_folders['Plate'].isin(plates)]\n",
    "print(len(folders))\n",
    "# folders = all_folders.loc[all_folders['Plate']==plate*all_folders['/Analysis/skeleton_realigned_compressed.mat']]\n",
    "folders = all_folders.loc[(all_folders['/Analysis/skeleton_realigned_compressed.mat'])&(all_folders['Plate'].isin(plates))]\n",
    "\n",
    "print(len(folders))"
   ]
  },
  {
   "cell_type": "code",
   "execution_count": 41,
   "metadata": {
    "tags": []
   },
   "outputs": [
    {
     "data": {
      "text/plain": [
       "1748"
      ]
     },
     "execution_count": 41,
     "metadata": {},
     "output_type": "execute_result"
    }
   ],
   "source": [
    "folders = all_folders.loc[(all_folders['strain']=='A5')&(all_folders['/Analysis/nx_graph_pruned_width.p'])]\n",
    "len(folders)\n"
   ]
  },
  {
   "cell_type": "code",
   "execution_count": 65,
   "metadata": {},
   "outputs": [],
   "source": [
    "folders = all_folders.loc[(all_folders['Plate']==785)&(all_folders['/Analysis/skeleton_realigned_compressed.mat'])]\n",
    "folders = folders.loc[(folders['/Analysis/nx_graph_pruned_width.p']==False)]"
   ]
  },
  {
   "cell_type": "code",
   "execution_count": 5,
   "metadata": {},
   "outputs": [],
   "source": [
    "folders = all_folders.loc[(all_folders['/Analysis/skeleton_realigned_compressed.mat'])]\n",
    "# folders = folders.loc[(folders['/Analysis/nx_graph_pruned_width.p']==False)]"
   ]
  },
  {
   "cell_type": "code",
   "execution_count": 28,
   "metadata": {
    "collapsed": true,
    "jupyter": {
     "outputs_hidden": true
    },
    "tags": []
   },
   "outputs": [
    {
     "data": {
      "text/html": [
       "<div>\n",
       "<style scoped>\n",
       "    .dataframe tbody tr th:only-of-type {\n",
       "        vertical-align: middle;\n",
       "    }\n",
       "\n",
       "    .dataframe tbody tr th {\n",
       "        vertical-align: top;\n",
       "    }\n",
       "\n",
       "    .dataframe thead th {\n",
       "        text-align: right;\n",
       "    }\n",
       "</style>\n",
       "<table border=\"1\" class=\"dataframe\">\n",
       "  <thead>\n",
       "    <tr style=\"text-align: right;\">\n",
       "      <th></th>\n",
       "      <th>folder</th>\n",
       "      <th>Plate</th>\n",
       "      <th>PrincePos</th>\n",
       "      <th>root</th>\n",
       "      <th>strain</th>\n",
       "      <th>medium</th>\n",
       "      <th>split</th>\n",
       "      <th>Temp</th>\n",
       "      <th>CrossDate</th>\n",
       "      <th>/Img/TileConfiguration.txt.registered</th>\n",
       "      <th>...</th>\n",
       "      <th>/Analysis/skeleton_masked_compressed.mat</th>\n",
       "      <th>/Analysis/skeleton_pruned_compressed.mat</th>\n",
       "      <th>/Analysis/transform.mat</th>\n",
       "      <th>/Analysis/transform_corrupt.mat</th>\n",
       "      <th>/Analysis/skeleton_realigned_compressed.mat</th>\n",
       "      <th>/Analysis/nx_graph_pruned.p</th>\n",
       "      <th>/Analysis/nx_graph_pruned_width.p</th>\n",
       "      <th>/Analysis/nx_graph_pruned_labeled.p</th>\n",
       "      <th>date</th>\n",
       "      <th>Pbait</th>\n",
       "    </tr>\n",
       "  </thead>\n",
       "  <tbody>\n",
       "    <tr>\n",
       "      <th>8</th>\n",
       "      <td>20201205_1320_Plate38</td>\n",
       "      <td>59</td>\n",
       "      <td>38</td>\n",
       "      <td>Carrot</td>\n",
       "      <td>A5</td>\n",
       "      <td>001P100N</td>\n",
       "      <td>Y</td>\n",
       "      <td>NaN</td>\n",
       "      <td>20201126</td>\n",
       "      <td>True</td>\n",
       "      <td>...</td>\n",
       "      <td>True</td>\n",
       "      <td>True</td>\n",
       "      <td>True</td>\n",
       "      <td>False</td>\n",
       "      <td>True</td>\n",
       "      <td>True</td>\n",
       "      <td>True</td>\n",
       "      <td>False</td>\n",
       "      <td>05.12.2020, 13:20:</td>\n",
       "      <td>-</td>\n",
       "    </tr>\n",
       "    <tr>\n",
       "      <th>12</th>\n",
       "      <td>20201206_1327_Plate40</td>\n",
       "      <td>69</td>\n",
       "      <td>40</td>\n",
       "      <td>Carrot</td>\n",
       "      <td>A5</td>\n",
       "      <td>001P100N</td>\n",
       "      <td>Y</td>\n",
       "      <td>25</td>\n",
       "      <td>20201119</td>\n",
       "      <td>True</td>\n",
       "      <td>...</td>\n",
       "      <td>True</td>\n",
       "      <td>True</td>\n",
       "      <td>True</td>\n",
       "      <td>False</td>\n",
       "      <td>True</td>\n",
       "      <td>True</td>\n",
       "      <td>True</td>\n",
       "      <td>False</td>\n",
       "      <td>06.12.2020, 13:27:</td>\n",
       "      <td>NaN</td>\n",
       "    </tr>\n",
       "    <tr>\n",
       "      <th>14</th>\n",
       "      <td>20210110_1144_Plate38</td>\n",
       "      <td>76</td>\n",
       "      <td>38</td>\n",
       "      <td>Carrot</td>\n",
       "      <td>A5</td>\n",
       "      <td>001P100N</td>\n",
       "      <td>Y</td>\n",
       "      <td>NaN</td>\n",
       "      <td>20210108</td>\n",
       "      <td>True</td>\n",
       "      <td>...</td>\n",
       "      <td>True</td>\n",
       "      <td>True</td>\n",
       "      <td>True</td>\n",
       "      <td>False</td>\n",
       "      <td>True</td>\n",
       "      <td>True</td>\n",
       "      <td>True</td>\n",
       "      <td>True</td>\n",
       "      <td>10.01.2021, 11:44:</td>\n",
       "      <td>-</td>\n",
       "    </tr>\n",
       "    <tr>\n",
       "      <th>21</th>\n",
       "      <td>20210112_1120_Plate29</td>\n",
       "      <td>22</td>\n",
       "      <td>29</td>\n",
       "      <td>Carrot</td>\n",
       "      <td>A5</td>\n",
       "      <td>001P100N</td>\n",
       "      <td>Y</td>\n",
       "      <td>NaN</td>\n",
       "      <td>20210107</td>\n",
       "      <td>True</td>\n",
       "      <td>...</td>\n",
       "      <td>True</td>\n",
       "      <td>True</td>\n",
       "      <td>True</td>\n",
       "      <td>False</td>\n",
       "      <td>True</td>\n",
       "      <td>True</td>\n",
       "      <td>True</td>\n",
       "      <td>True</td>\n",
       "      <td>12.01.2021, 11:20:</td>\n",
       "      <td>-</td>\n",
       "    </tr>\n",
       "    <tr>\n",
       "      <th>24</th>\n",
       "      <td>20201226_0742_Plate37</td>\n",
       "      <td>91</td>\n",
       "      <td>37</td>\n",
       "      <td>Carrot</td>\n",
       "      <td>A5</td>\n",
       "      <td>001P100N</td>\n",
       "      <td>Y</td>\n",
       "      <td>NaN</td>\n",
       "      <td>20201217</td>\n",
       "      <td>True</td>\n",
       "      <td>...</td>\n",
       "      <td>True</td>\n",
       "      <td>True</td>\n",
       "      <td>True</td>\n",
       "      <td>False</td>\n",
       "      <td>True</td>\n",
       "      <td>True</td>\n",
       "      <td>True</td>\n",
       "      <td>True</td>\n",
       "      <td>26.12.2020, 07:42:</td>\n",
       "      <td>-</td>\n",
       "    </tr>\n",
       "    <tr>\n",
       "      <th>...</th>\n",
       "      <td>...</td>\n",
       "      <td>...</td>\n",
       "      <td>...</td>\n",
       "      <td>...</td>\n",
       "      <td>...</td>\n",
       "      <td>...</td>\n",
       "      <td>...</td>\n",
       "      <td>...</td>\n",
       "      <td>...</td>\n",
       "      <td>...</td>\n",
       "      <td>...</td>\n",
       "      <td>...</td>\n",
       "      <td>...</td>\n",
       "      <td>...</td>\n",
       "      <td>...</td>\n",
       "      <td>...</td>\n",
       "      <td>...</td>\n",
       "      <td>...</td>\n",
       "      <td>...</td>\n",
       "      <td>...</td>\n",
       "      <td>...</td>\n",
       "    </tr>\n",
       "    <tr>\n",
       "      <th>2687</th>\n",
       "      <td>20211003_1129_Plate31</td>\n",
       "      <td>800</td>\n",
       "      <td>31</td>\n",
       "      <td>Carrot</td>\n",
       "      <td>A5</td>\n",
       "      <td>001P100N</td>\n",
       "      <td>Y</td>\n",
       "      <td>NaN</td>\n",
       "      <td>20210928</td>\n",
       "      <td>True</td>\n",
       "      <td>...</td>\n",
       "      <td>True</td>\n",
       "      <td>True</td>\n",
       "      <td>True</td>\n",
       "      <td>False</td>\n",
       "      <td>True</td>\n",
       "      <td>True</td>\n",
       "      <td>True</td>\n",
       "      <td>True</td>\n",
       "      <td>03.10.2021, 11:29:</td>\n",
       "      <td>-</td>\n",
       "    </tr>\n",
       "    <tr>\n",
       "      <th>2688</th>\n",
       "      <td>20210916_2307_Plate17</td>\n",
       "      <td>88</td>\n",
       "      <td>17</td>\n",
       "      <td>Carrot</td>\n",
       "      <td>A5</td>\n",
       "      <td>001P100N</td>\n",
       "      <td>Y</td>\n",
       "      <td>NaN</td>\n",
       "      <td>20210915</td>\n",
       "      <td>True</td>\n",
       "      <td>...</td>\n",
       "      <td>True</td>\n",
       "      <td>True</td>\n",
       "      <td>True</td>\n",
       "      <td>False</td>\n",
       "      <td>True</td>\n",
       "      <td>True</td>\n",
       "      <td>True</td>\n",
       "      <td>True</td>\n",
       "      <td>16.09.2021, 23:07:</td>\n",
       "      <td>-</td>\n",
       "    </tr>\n",
       "    <tr>\n",
       "      <th>2689</th>\n",
       "      <td>20210924_1723_Plate22</td>\n",
       "      <td>787</td>\n",
       "      <td>22</td>\n",
       "      <td>Carrot</td>\n",
       "      <td>A5</td>\n",
       "      <td>001P100N</td>\n",
       "      <td>Y</td>\n",
       "      <td>NaN</td>\n",
       "      <td>20210922</td>\n",
       "      <td>True</td>\n",
       "      <td>...</td>\n",
       "      <td>True</td>\n",
       "      <td>True</td>\n",
       "      <td>True</td>\n",
       "      <td>False</td>\n",
       "      <td>True</td>\n",
       "      <td>True</td>\n",
       "      <td>True</td>\n",
       "      <td>True</td>\n",
       "      <td>24.09.2021, 17:23:</td>\n",
       "      <td>-</td>\n",
       "    </tr>\n",
       "    <tr>\n",
       "      <th>2690</th>\n",
       "      <td>20211008_0616_Plate38</td>\n",
       "      <td>785</td>\n",
       "      <td>38</td>\n",
       "      <td>Carrot</td>\n",
       "      <td>A5</td>\n",
       "      <td>001P100N</td>\n",
       "      <td>Y</td>\n",
       "      <td>NaN</td>\n",
       "      <td>20210928</td>\n",
       "      <td>True</td>\n",
       "      <td>...</td>\n",
       "      <td>True</td>\n",
       "      <td>True</td>\n",
       "      <td>True</td>\n",
       "      <td>False</td>\n",
       "      <td>True</td>\n",
       "      <td>True</td>\n",
       "      <td>True</td>\n",
       "      <td>False</td>\n",
       "      <td>08.10.2021, 06:16:</td>\n",
       "      <td>-</td>\n",
       "    </tr>\n",
       "    <tr>\n",
       "      <th>2691</th>\n",
       "      <td>20210917_0118_Plate21</td>\n",
       "      <td>792</td>\n",
       "      <td>21</td>\n",
       "      <td>Carrot</td>\n",
       "      <td>A5</td>\n",
       "      <td>001P100N</td>\n",
       "      <td>Y</td>\n",
       "      <td>NaN</td>\n",
       "      <td>20210915</td>\n",
       "      <td>True</td>\n",
       "      <td>...</td>\n",
       "      <td>True</td>\n",
       "      <td>True</td>\n",
       "      <td>True</td>\n",
       "      <td>False</td>\n",
       "      <td>True</td>\n",
       "      <td>True</td>\n",
       "      <td>True</td>\n",
       "      <td>True</td>\n",
       "      <td>17.09.2021, 01:18:</td>\n",
       "      <td>-</td>\n",
       "    </tr>\n",
       "  </tbody>\n",
       "</table>\n",
       "<p>1748 rows × 21 columns</p>\n",
       "</div>"
      ],
      "text/plain": [
       "                     folder Plate PrincePos    root strain    medium split  \\\n",
       "8     20201205_1320_Plate38    59        38  Carrot     A5  001P100N     Y   \n",
       "12    20201206_1327_Plate40    69        40  Carrot     A5  001P100N     Y   \n",
       "14    20210110_1144_Plate38    76        38  Carrot     A5  001P100N     Y   \n",
       "21    20210112_1120_Plate29    22        29  Carrot     A5  001P100N     Y   \n",
       "24    20201226_0742_Plate37    91        37  Carrot     A5  001P100N     Y   \n",
       "...                     ...   ...       ...     ...    ...       ...   ...   \n",
       "2687  20211003_1129_Plate31   800        31  Carrot     A5  001P100N     Y   \n",
       "2688  20210916_2307_Plate17    88        17  Carrot     A5  001P100N     Y   \n",
       "2689  20210924_1723_Plate22   787        22  Carrot     A5  001P100N     Y   \n",
       "2690  20211008_0616_Plate38   785        38  Carrot     A5  001P100N     Y   \n",
       "2691  20210917_0118_Plate21   792        21  Carrot     A5  001P100N     Y   \n",
       "\n",
       "     Temp CrossDate /Img/TileConfiguration.txt.registered  ...  \\\n",
       "8     NaN  20201126                                  True  ...   \n",
       "12     25  20201119                                  True  ...   \n",
       "14    NaN  20210108                                  True  ...   \n",
       "21    NaN  20210107                                  True  ...   \n",
       "24    NaN  20201217                                  True  ...   \n",
       "...   ...       ...                                   ...  ...   \n",
       "2687  NaN  20210928                                  True  ...   \n",
       "2688  NaN  20210915                                  True  ...   \n",
       "2689  NaN  20210922                                  True  ...   \n",
       "2690  NaN  20210928                                  True  ...   \n",
       "2691  NaN  20210915                                  True  ...   \n",
       "\n",
       "     /Analysis/skeleton_masked_compressed.mat  \\\n",
       "8                                        True   \n",
       "12                                       True   \n",
       "14                                       True   \n",
       "21                                       True   \n",
       "24                                       True   \n",
       "...                                       ...   \n",
       "2687                                     True   \n",
       "2688                                     True   \n",
       "2689                                     True   \n",
       "2690                                     True   \n",
       "2691                                     True   \n",
       "\n",
       "     /Analysis/skeleton_pruned_compressed.mat /Analysis/transform.mat  \\\n",
       "8                                        True                    True   \n",
       "12                                       True                    True   \n",
       "14                                       True                    True   \n",
       "21                                       True                    True   \n",
       "24                                       True                    True   \n",
       "...                                       ...                     ...   \n",
       "2687                                     True                    True   \n",
       "2688                                     True                    True   \n",
       "2689                                     True                    True   \n",
       "2690                                     True                    True   \n",
       "2691                                     True                    True   \n",
       "\n",
       "     /Analysis/transform_corrupt.mat  \\\n",
       "8                              False   \n",
       "12                             False   \n",
       "14                             False   \n",
       "21                             False   \n",
       "24                             False   \n",
       "...                              ...   \n",
       "2687                           False   \n",
       "2688                           False   \n",
       "2689                           False   \n",
       "2690                           False   \n",
       "2691                           False   \n",
       "\n",
       "     /Analysis/skeleton_realigned_compressed.mat /Analysis/nx_graph_pruned.p  \\\n",
       "8                                           True                        True   \n",
       "12                                          True                        True   \n",
       "14                                          True                        True   \n",
       "21                                          True                        True   \n",
       "24                                          True                        True   \n",
       "...                                          ...                         ...   \n",
       "2687                                        True                        True   \n",
       "2688                                        True                        True   \n",
       "2689                                        True                        True   \n",
       "2690                                        True                        True   \n",
       "2691                                        True                        True   \n",
       "\n",
       "     /Analysis/nx_graph_pruned_width.p /Analysis/nx_graph_pruned_labeled.p  \\\n",
       "8                                 True                               False   \n",
       "12                                True                               False   \n",
       "14                                True                                True   \n",
       "21                                True                                True   \n",
       "24                                True                                True   \n",
       "...                                ...                                 ...   \n",
       "2687                              True                                True   \n",
       "2688                              True                                True   \n",
       "2689                              True                                True   \n",
       "2690                              True                               False   \n",
       "2691                              True                                True   \n",
       "\n",
       "                    date Pbait  \n",
       "8     05.12.2020, 13:20:     -  \n",
       "12    06.12.2020, 13:27:   NaN  \n",
       "14    10.01.2021, 11:44:     -  \n",
       "21    12.01.2021, 11:20:     -  \n",
       "24    26.12.2020, 07:42:     -  \n",
       "...                  ...   ...  \n",
       "2687  03.10.2021, 11:29:     -  \n",
       "2688  16.09.2021, 23:07:     -  \n",
       "2689  24.09.2021, 17:23:     -  \n",
       "2690  08.10.2021, 06:16:     -  \n",
       "2691  17.09.2021, 01:18:     -  \n",
       "\n",
       "[1748 rows x 21 columns]"
      ]
     },
     "execution_count": 28,
     "metadata": {},
     "output_type": "execute_result"
    }
   ],
   "source": [
    "folders = all_folders.loc[(all_folders['/Analysis/nx_graph_pruned.p'])]\n",
    "folders"
   ]
  },
  {
   "cell_type": "code",
   "execution_count": 51,
   "metadata": {
    "tags": []
   },
   "outputs": [
    {
     "data": {
      "text/plain": [
       "1047    20201209_0926_Plate40\n",
       "Name: folder, dtype: object"
      ]
     },
     "execution_count": 51,
     "metadata": {},
     "output_type": "execute_result"
    }
   ],
   "source": [
    "corrupted_rotation"
   ]
  },
  {
   "cell_type": "code",
   "execution_count": 53,
   "metadata": {
    "tags": []
   },
   "outputs": [],
   "source": [
    "corrupted_rotation = folders.loc[folders['/Analysis/transform_corrupt.mat']]['folder']"
   ]
  },
  {
   "cell_type": "code",
   "execution_count": 28,
   "metadata": {},
   "outputs": [
    {
     "data": {
      "text/plain": [
       "'20210927_2112_Plate22'"
      ]
     },
     "execution_count": 28,
     "metadata": {},
     "output_type": "execute_result"
    }
   ],
   "source": [
    "corrupt_folder = np.min(folders.loc[folders['/Analysis/transform_corrupt.mat']]['folder'])\n",
    "corrupt_folder"
   ]
  },
  {
   "cell_type": "code",
   "execution_count": 54,
   "metadata": {
    "tags": []
   },
   "outputs": [],
   "source": [
    "folder_list = list(folders['folder'])\n",
    "folder_list.sort()\n",
    "indexes = [folder_list.index(corrupt_folder) for corrupt_folder in corrupted_rotation]"
   ]
  },
  {
   "cell_type": "code",
   "execution_count": 55,
   "metadata": {},
   "outputs": [
    {
     "data": {
      "text/plain": [
       "[100]"
      ]
     },
     "execution_count": 55,
     "metadata": {},
     "output_type": "execute_result"
    }
   ],
   "source": [
    "limit = 100\n",
    "indexes.sort()\n",
    "indexes = [index for index in indexes if index<limit]\n",
    "indexes += [limit]\n",
    "indexes"
   ]
  },
  {
   "cell_type": "code",
   "execution_count": 29,
   "metadata": {},
   "outputs": [
    {
     "data": {
      "text/plain": [
       "23"
      ]
     },
     "execution_count": 29,
     "metadata": {},
     "output_type": "execute_result"
    }
   ],
   "source": [
    "\n",
    "folder_list.index(corrupt_folder)"
   ]
  },
  {
   "cell_type": "code",
   "execution_count": 36,
   "metadata": {
    "collapsed": true,
    "jupyter": {
     "outputs_hidden": true
    },
    "tags": []
   },
   "outputs": [
    {
     "data": {
      "text/html": [
       "<div>\n",
       "<style scoped>\n",
       "    .dataframe tbody tr th:only-of-type {\n",
       "        vertical-align: middle;\n",
       "    }\n",
       "\n",
       "    .dataframe tbody tr th {\n",
       "        vertical-align: top;\n",
       "    }\n",
       "\n",
       "    .dataframe thead th {\n",
       "        text-align: right;\n",
       "    }\n",
       "</style>\n",
       "<table border=\"1\" class=\"dataframe\">\n",
       "  <thead>\n",
       "    <tr style=\"text-align: right;\">\n",
       "      <th></th>\n",
       "      <th>folder</th>\n",
       "      <th>Plate</th>\n",
       "      <th>PrincePos</th>\n",
       "      <th>root</th>\n",
       "      <th>strain</th>\n",
       "      <th>medium</th>\n",
       "      <th>split</th>\n",
       "      <th>Temp</th>\n",
       "      <th>CrossDate</th>\n",
       "      <th>/Img/TileConfiguration.txt.registered</th>\n",
       "      <th>...</th>\n",
       "      <th>/Analysis/skeleton_masked_compressed.mat</th>\n",
       "      <th>/Analysis/skeleton_pruned_compressed.mat</th>\n",
       "      <th>/Analysis/transform.mat</th>\n",
       "      <th>/Analysis/transform_corrupt.mat</th>\n",
       "      <th>/Analysis/skeleton_realigned_compressed.mat</th>\n",
       "      <th>/Analysis/nx_graph_pruned.p</th>\n",
       "      <th>/Analysis/nx_graph_pruned_width.p</th>\n",
       "      <th>/Analysis/nx_graph_pruned_labeled.p</th>\n",
       "      <th>date</th>\n",
       "      <th>Pbait</th>\n",
       "    </tr>\n",
       "  </thead>\n",
       "  <tbody>\n",
       "    <tr>\n",
       "      <th>1816</th>\n",
       "      <td>20211009_0617_Plate38</td>\n",
       "      <td>785</td>\n",
       "      <td>38</td>\n",
       "      <td>Carrot</td>\n",
       "      <td>A5</td>\n",
       "      <td>001P100N</td>\n",
       "      <td>Y</td>\n",
       "      <td>NaN</td>\n",
       "      <td>20210928</td>\n",
       "      <td>True</td>\n",
       "      <td>...</td>\n",
       "      <td>True</td>\n",
       "      <td>True</td>\n",
       "      <td>True</td>\n",
       "      <td>False</td>\n",
       "      <td>True</td>\n",
       "      <td>True</td>\n",
       "      <td>True</td>\n",
       "      <td>False</td>\n",
       "      <td>09.10.2021, 06:17:</td>\n",
       "      <td>-</td>\n",
       "    </tr>\n",
       "  </tbody>\n",
       "</table>\n",
       "<p>1 rows × 21 columns</p>\n",
       "</div>"
      ],
      "text/plain": [
       "                     folder Plate PrincePos    root strain    medium split  \\\n",
       "1816  20211009_0617_Plate38   785        38  Carrot     A5  001P100N     Y   \n",
       "\n",
       "     Temp CrossDate /Img/TileConfiguration.txt.registered  ...  \\\n",
       "1816  NaN  20210928                                  True  ...   \n",
       "\n",
       "     /Analysis/skeleton_masked_compressed.mat  \\\n",
       "1816                                     True   \n",
       "\n",
       "     /Analysis/skeleton_pruned_compressed.mat /Analysis/transform.mat  \\\n",
       "1816                                     True                    True   \n",
       "\n",
       "     /Analysis/transform_corrupt.mat  \\\n",
       "1816                           False   \n",
       "\n",
       "     /Analysis/skeleton_realigned_compressed.mat /Analysis/nx_graph_pruned.p  \\\n",
       "1816                                        True                        True   \n",
       "\n",
       "     /Analysis/nx_graph_pruned_width.p /Analysis/nx_graph_pruned_labeled.p  \\\n",
       "1816                              True                               False   \n",
       "\n",
       "                    date Pbait  \n",
       "1816  09.10.2021, 06:17:     -  \n",
       "\n",
       "[1 rows x 21 columns]"
      ]
     },
     "execution_count": 36,
     "metadata": {},
     "output_type": "execute_result"
    }
   ],
   "source": [
    "folders = all_folders.loc[all_folders['folder']=='20211009_0617_Plate38']\n",
    "folders"
   ]
  },
  {
   "cell_type": "code",
   "execution_count": 13,
   "metadata": {},
   "outputs": [],
   "source": [
    "plates = set(folders['Plate'].values)\n",
    "plate_without_node_id = [plate for plate in plates if not np.any(folders.loc[(folders['Plate']==plate)]['/Analysis/nx_graph_pruned_labeled.p'])]"
   ]
  },
  {
   "cell_type": "code",
   "execution_count": 14,
   "metadata": {},
   "outputs": [
    {
     "data": {
      "text/plain": [
       "[]"
      ]
     },
     "execution_count": 14,
     "metadata": {},
     "output_type": "execute_result"
    }
   ],
   "source": [
    "plate_without_node_id"
   ]
  },
  {
   "cell_type": "code",
   "execution_count": 8,
   "metadata": {},
   "outputs": [],
   "source": [
    "folders = all_folders.loc[(all_folders['Plate'].isin(plate_without_node_id))&(all_folders['/Analysis/skeleton_realigned_compressed.mat'])]"
   ]
  },
  {
   "cell_type": "code",
   "execution_count": 23,
   "metadata": {
    "tags": []
   },
   "outputs": [],
   "source": [
    "plates_select = [69,59]\n",
    "folders = all_folders.loc[(all_folders['Plate'].isin(plates_select))&(all_folders['/Analysis/nx_graph_pruned_width.p'])]"
   ]
  },
  {
   "cell_type": "code",
   "execution_count": 20,
   "metadata": {},
   "outputs": [
    {
     "data": {
      "text/plain": [
       "164"
      ]
     },
     "execution_count": 20,
     "metadata": {},
     "output_type": "execute_result"
    }
   ],
   "source": [
    "# folders = all_folders.loc[(all_folders['strain']=='A5')&(all_folders['/Analysis/skeleton_realigned_compressed.mat'])&(all_folders['/Analysis/nx_graph_pruned_labeled.p'])]\n",
    "len(folders)\n"
   ]
  },
  {
   "cell_type": "code",
   "execution_count": 6,
   "metadata": {},
   "outputs": [
    {
     "data": {
      "text/plain": [
       "964"
      ]
     },
     "execution_count": 6,
     "metadata": {},
     "output_type": "execute_result"
    }
   ],
   "source": [
    "folders = all_folders.loc[(all_folders['strain']=='A5')&(all_folders['/Analysis/skeleton_realigned_compressed.mat'])&(1-all_folders['/Analysis/nx_graph_pruned_labeled.p'])]\n",
    "len(folders)"
   ]
  },
  {
   "cell_type": "code",
   "execution_count": 13,
   "metadata": {
    "tags": []
   },
   "outputs": [
    {
     "data": {
      "text/plain": [
       "19"
      ]
     },
     "execution_count": 13,
     "metadata": {},
     "output_type": "execute_result"
    }
   ],
   "source": [
    "plates = list(set(list(folders['Plate'].values)))\n",
    "len(plates)"
   ]
  },
  {
   "cell_type": "code",
   "execution_count": 12,
   "metadata": {
    "collapsed": true,
    "jupyter": {
     "outputs_hidden": true
    },
    "tags": []
   },
   "outputs": [
    {
     "data": {
      "text/plain": [
       "[10,\n",
       " 785,\n",
       " 787,\n",
       " 22,\n",
       " 790,\n",
       " 792,\n",
       " 152,\n",
       " 26,\n",
       " 799,\n",
       " 800,\n",
       " 808,\n",
       " 59,\n",
       " 69,\n",
       " 76,\n",
       " 80,\n",
       " 88,\n",
       " 91,\n",
       " 94,\n",
       " 102]"
      ]
     },
     "execution_count": 12,
     "metadata": {},
     "output_type": "execute_result"
    }
   ],
   "source": [
    "plates = list(set(list(folders['Plate'].values)))\n",
    "plates"
   ]
  },
  {
   "cell_type": "code",
   "execution_count": 75,
   "metadata": {
    "collapsed": true,
    "jupyter": {
     "outputs_hidden": true
    },
    "tags": []
   },
   "outputs": [
    {
     "name": "stdout",
     "output_type": "stream",
     "text": [
      "nan 0\n",
      "10 31\n",
      "785 94\n",
      "787 73\n",
      "22 31\n",
      "790 98\n",
      "792 149\n",
      "152 115\n",
      "26 44\n",
      "799 95\n",
      "800 91\n",
      "808 91\n",
      "59 127\n",
      "69 107\n",
      "76 25\n",
      "80 55\n",
      "88 155\n",
      "91 115\n",
      "94 169\n",
      "102 103\n",
      "756 90\n"
     ]
    }
   ],
   "source": [
    "plates = list(set(list(all_folders['Plate'].values)))\n",
    "for plate in plates:\n",
    "    print(plate,len(all_folders.loc[all_folders['Plate']==plate]))"
   ]
  },
  {
   "cell_type": "code",
   "execution_count": null,
   "metadata": {},
   "outputs": [],
   "source": [
    "folders = all_folders.loc[(all_folders['strain']=='A5')&(all_folders['/Analysis/skeleton_realigned_compressed.mat'])&(all_folders['/Analysis/nx_graph_pruned_width.p'])]\n",
    "len(folders)"
   ]
  },
  {
   "cell_type": "code",
   "execution_count": 11,
   "metadata": {
    "collapsed": true,
    "jupyter": {
     "outputs_hidden": true
    },
    "tags": []
   },
   "outputs": [
    {
     "data": {
      "text/plain": [
       "['20210929_1004_Plate38',\n",
       " '20210929_1204_Plate38',\n",
       " '20210929_1404_Plate38',\n",
       " '20210929_1604_Plate38',\n",
       " '20210929_1804_Plate38',\n",
       " '20210929_2004_Plate38',\n",
       " '20210929_2204_Plate38',\n",
       " '20210930_0004_Plate38',\n",
       " '20210930_0204_Plate38',\n",
       " '20210930_0404_Plate38',\n",
       " '20210930_0604_Plate38',\n",
       " '20210930_0804_Plate38',\n",
       " '20210930_1004_Plate38',\n",
       " '20210930_2029_Plate38',\n",
       " '20210930_2210_Plate38',\n",
       " '20211001_0210_Plate38',\n",
       " '20211001_0410_Plate38',\n",
       " '20211001_0610_Plate38',\n",
       " '20211001_0810_Plate38',\n",
       " '20211001_1010_Plate38',\n",
       " '20211001_1210_Plate38',\n",
       " '20211002_1543_Plate38',\n",
       " '20211002_1744_Plate38',\n",
       " '20211002_1944_Plate38',\n",
       " '20211002_2144_Plate38',\n",
       " '20211002_2344_Plate38',\n",
       " '20211003_0143_Plate38',\n",
       " '20211003_0344_Plate38',\n",
       " '20211003_0543_Plate38',\n",
       " '20211003_0744_Plate38',\n",
       " '20211003_0944_Plate38',\n",
       " '20211003_1144_Plate38',\n",
       " '20211003_1344_Plate38',\n",
       " '20211003_1544_Plate38',\n",
       " '20211003_1744_Plate38',\n",
       " '20211003_1944_Plate38',\n",
       " '20211003_2144_Plate38',\n",
       " '20211003_2344_Plate38',\n",
       " '20211004_0144_Plate38',\n",
       " '20211004_0344_Plate38',\n",
       " '20211004_0544_Plate38',\n",
       " '20211004_0744_Plate38',\n",
       " '20211004_0944_Plate38',\n",
       " '20211004_1142_Plate38',\n",
       " '20211004_1344_Plate38',\n",
       " '20211004_1545_Plate38',\n",
       " '20211004_1745_Plate38',\n",
       " '20211004_1945_Plate38',\n",
       " '20211004_2145_Plate38',\n",
       " '20211004_2345_Plate38',\n",
       " '20211005_0145_Plate38',\n",
       " '20211005_0345_Plate38',\n",
       " '20211005_0544_Plate38',\n",
       " '20211005_0745_Plate38',\n",
       " '20211005_0945_Plate38',\n",
       " '20211005_1145_Plate38',\n",
       " '20211005_1345_Plate38',\n",
       " '20211005_1545_Plate38',\n",
       " '20211005_1743_Plate38',\n",
       " '20211005_1945_Plate38',\n",
       " '20211005_2144_Plate38',\n",
       " '20211005_2344_Plate38',\n",
       " '20211006_0145_Plate38',\n",
       " '20211006_0344_Plate38',\n",
       " '20211006_0544_Plate38',\n",
       " '20211006_0744_Plate38',\n",
       " '20211006_0945_Plate38',\n",
       " '20211006_1152_Plate38',\n",
       " '20211007_1621_Plate38',\n",
       " '20211007_1817_Plate38',\n",
       " '20211007_2018_Plate38',\n",
       " '20211007_2217_Plate38',\n",
       " '20211008_0017_Plate38',\n",
       " '20211008_0216_Plate38',\n",
       " '20211008_0416_Plate38',\n",
       " '20211008_0616_Plate38',\n",
       " '20211008_0816_Plate38',\n",
       " '20211008_1016_Plate38',\n",
       " '20211008_1216_Plate38',\n",
       " '20211008_1417_Plate38',\n",
       " '20211008_1616_Plate38',\n",
       " '20211008_1816_Plate38',\n",
       " '20211008_2016_Plate38',\n",
       " '20211008_2215_Plate38',\n",
       " '20211009_0015_Plate38',\n",
       " '20211009_0617_Plate38',\n",
       " '20211009_1217_Plate38',\n",
       " '20211009_1815_Plate38',\n",
       " '20211010_0016_Plate38',\n",
       " '20211010_1423_Plate38',\n",
       " '20211010_2022_Plate38',\n",
       " '20211011_0222_Plate38',\n",
       " '20211011_0823_Plate38',\n",
       " '20211011_1422_Plate38']"
      ]
     },
     "execution_count": 11,
     "metadata": {},
     "output_type": "execute_result"
    }
   ],
   "source": [
    "dates = list(all_folders.loc[all_folders['Plate']==785]['folder'])\n",
    "dates.sort()\n",
    "dates"
   ]
  },
  {
   "cell_type": "markdown",
   "metadata": {
    "tags": []
   },
   "source": [
    "***Create graphs***"
   ]
  },
  {
   "cell_type": "code",
   "execution_count": 72,
   "metadata": {
    "tags": []
   },
   "outputs": [
    {
     "name": "stderr",
     "output_type": "stream",
     "text": [
      "sbatch: Single node jobs run on a shared node by default. Add --exclusive if you want to use a node exclusively.\n"
     ]
    },
    {
     "name": "stdout",
     "output_type": "stream",
     "text": [
      "Submitted batch job 59034\n",
      "Submitted batch job 59035\n"
     ]
    },
    {
     "name": "stderr",
     "output_type": "stream",
     "text": [
      "sbatch: Single node jobs run on a shared node by default. Add --exclusive if you want to use a node exclusively.\n"
     ]
    }
   ],
   "source": [
    "num_parallel = 100\n",
    "time = '1:00:00'\n",
    "args=[directory]\n",
    "run_parallel('extract_nx_graph.py',args, folders, num_parallel, time,'extract_nx')"
   ]
  },
  {
   "cell_type": "code",
   "execution_count": 69,
   "metadata": {},
   "outputs": [
    {
     "data": {
      "text/plain": [
       "336"
      ]
     },
     "execution_count": 69,
     "metadata": {},
     "output_type": "execute_result"
    }
   ],
   "source": [
    "plates = [22,10,76,26,152,102]\n",
    "\n",
    "folders = all_folders.loc[(all_folders['/Analysis/nx_graph_pruned.p'])&(all_folders['Plate'].isin(plates))]\n",
    "len(folders)"
   ]
  },
  {
   "cell_type": "markdown",
   "metadata": {},
   "source": [
    "***Extract Width***"
   ]
  },
  {
   "cell_type": "code",
   "execution_count": 35,
   "metadata": {
    "tags": []
   },
   "outputs": [
    {
     "name": "stdout",
     "output_type": "stream",
     "text": [
      "Submitted batch job 61718\n",
      "Submitted batch job 61719\n"
     ]
    },
    {
     "name": "stderr",
     "output_type": "stream",
     "text": [
      "sbatch: Single node jobs run on a shared node by default. Add --exclusive if you want to use a node exclusively.\n",
      "sbatch: Single node jobs run on a shared node by default. Add --exclusive if you want to use a node exclusively.\n"
     ]
    }
   ],
   "source": [
    "num_parallel = 50 \n",
    "time = '24:00:00'\n",
    "skip = False\n",
    "resolution = 50\n",
    "args = [directory,skip,resolution]\n",
    "run_parallel('extract_width.py',args,folders,num_parallel,time,'extract_width2',cpus=128)"
   ]
  },
  {
   "cell_type": "code",
   "execution_count": 41,
   "metadata": {
    "tags": []
   },
   "outputs": [
    {
     "data": {
      "text/plain": [
       "0"
      ]
     },
     "execution_count": 41,
     "metadata": {},
     "output_type": "execute_result"
    }
   ],
   "source": [
    "plates = [22,10,76,26,152,102]\n",
    "\n",
    "folders = all_folders.loc[(1-all_folders['/Analysis/nx_graph_pruned_width.p'])&(all_folders['Plate'].isin(plates))&(all_folders['/Analysis/nx_graph_pruned.p'])]\n",
    "# folders.loc[folders['folder'] == '20210110_1523_Plate30']\n",
    "# int(list(folders['folder'])[0].split('_')[-1][5:])\n",
    "len(folders)"
   ]
  },
  {
   "cell_type": "code",
   "execution_count": 4,
   "metadata": {},
   "outputs": [
    {
     "data": {
      "text/plain": [
       "336"
      ]
     },
     "execution_count": 4,
     "metadata": {},
     "output_type": "execute_result"
    }
   ],
   "source": [
    "plates = [22,10,76,26,152,102]\n",
    "\n",
    "folders = all_folders.loc[(all_folders['/Analysis/nx_graph_pruned_width.p'])&(all_folders['Plate'].isin(plates))]\n",
    "# folders.loc[folders['folder'] == '20210110_1523_Plate30']\n",
    "# int(list(folders['folder'])[0].split('_')[-1][5:])\n",
    "len(folders)"
   ]
  },
  {
   "cell_type": "markdown",
   "metadata": {},
   "source": [
    "***Identify Nodes***"
   ]
  },
  {
   "cell_type": "code",
   "execution_count": 42,
   "metadata": {
    "collapsed": true,
    "jupyter": {
     "outputs_hidden": true
    },
    "tags": []
   },
   "outputs": [
    {
     "name": "stdout",
     "output_type": "stream",
     "text": [
      "Submitted batch job 61733\n",
      "Submitted batch job 61734\n",
      "Submitted batch job 61735\n",
      "Submitted batch job 61736\n"
     ]
    },
    {
     "name": "stderr",
     "output_type": "stream",
     "text": [
      "sbatch: Single node jobs run on a shared node by default. Add --exclusive if you want to use a node exclusively.\n",
      "sbatch: Single node jobs run on a shared node by default. Add --exclusive if you want to use a node exclusively.\n",
      "sbatch: Single node jobs run on a shared node by default. Add --exclusive if you want to use a node exclusively.\n",
      "sbatch: Single node jobs run on a shared node by default. Add --exclusive if you want to use a node exclusively.\n"
     ]
    }
   ],
   "source": [
    "num_parallel = 5\n",
    "time = '48:00:00'\n",
    "limit = 100\n",
    "args=[directory,limit]\n",
    "run_parallel_all_time('extract_nodes.py',args,folders,num_parallel,time,'node_id',cpus = 128)"
   ]
  },
  {
   "cell_type": "code",
   "execution_count": 6,
   "metadata": {
    "collapsed": true,
    "jupyter": {
     "outputs_hidden": true
    },
    "tags": []
   },
   "outputs": [
    {
     "data": {
      "text/plain": [
       "Index(['folder', 'Plate', 'PrincePos', 'root', 'strain', 'medium', 'split',\n",
       "       'Temp', 'CrossDate', '/Img/TileConfiguration.txt.registered',\n",
       "       '/Analysis/skeleton_compressed.mat',\n",
       "       '/Analysis/skeleton_masked_compressed.mat',\n",
       "       '/Analysis/skeleton_pruned_compressed.mat', '/Analysis/transform.mat',\n",
       "       '/Analysis/transform_corrupt.mat',\n",
       "       '/Analysis/skeleton_realigned_compressed.mat',\n",
       "       '/Analysis/nx_graph_pruned.p', '/Analysis/nx_graph_pruned_width.p',\n",
       "       '/Analysis/nx_graph_pruned_labeled.p', 'date', 'Pbait'],\n",
       "      dtype='object')"
      ]
     },
     "execution_count": 6,
     "metadata": {},
     "output_type": "execute_result"
    }
   ],
   "source": [
    "folders.columns"
   ]
  },
  {
   "cell_type": "code",
   "execution_count": 60,
   "metadata": {},
   "outputs": [
    {
     "data": {
      "text/plain": [
       "239"
      ]
     },
     "execution_count": 60,
     "metadata": {},
     "output_type": "execute_result"
    }
   ],
   "source": [
    "plates = [22,10,76,26,152,102]\n",
    "\n",
    "folders = all_folders.loc[(all_folders['/Analysis/nx_graph_pruned_labeled.p'])&(all_folders['Plate'].isin(plates))]\n",
    "# folders.loc[folders['folder'] == '20210110_1523_Plate30']\n",
    "# int(list(folders['folder'])[0].split('_')[-1][5:])\n",
    "len(folders)"
   ]
  },
  {
   "cell_type": "markdown",
   "metadata": {},
   "source": [
    "***Hyphae extraction***"
   ]
  },
  {
   "cell_type": "code",
   "execution_count": 19,
   "metadata": {
    "collapsed": true,
    "jupyter": {
     "outputs_hidden": true
    },
    "tags": []
   },
   "outputs": [
    {
     "name": "stderr",
     "output_type": "stream",
     "text": [
      "sbatch: Single node jobs run on a shared node by default. Add --exclusive if you want to use a node exclusively.\n",
      "sbatch: Single node jobs run on a shared node by default. Add --exclusive if you want to use a node exclusively.\n",
      "sbatch: Single node jobs run on a shared node by default. Add --exclusive if you want to use a node exclusively.\n",
      "sbatch: Single node jobs run on a shared node by default. Add --exclusive if you want to use a node exclusively.\n",
      "sbatch: Single node jobs run on a shared node by default. Add --exclusive if you want to use a node exclusively.\n"
     ]
    },
    {
     "name": "stdout",
     "output_type": "stream",
     "text": [
      "Submitted batch job 57496\n",
      "Submitted batch job 57497\n",
      "Submitted batch job 57498\n",
      "Submitted batch job 57499\n",
      "Submitted batch job 57500\n"
     ]
    },
    {
     "name": "stderr",
     "output_type": "stream",
     "text": [
      "sbatch: Single node jobs run on a shared node by default. Add --exclusive if you want to use a node exclusively.\n",
      "sbatch: Single node jobs run on a shared node by default. Add --exclusive if you want to use a node exclusively.\n",
      "sbatch: Single node jobs run on a shared node by default. Add --exclusive if you want to use a node exclusively.\n",
      "sbatch: Single node jobs run on a shared node by default. Add --exclusive if you want to use a node exclusively.\n",
      "sbatch: Single node jobs run on a shared node by default. Add --exclusive if you want to use a node exclusively.\n",
      "sbatch: Single node jobs run on a shared node by default. Add --exclusive if you want to use a node exclusively.\n"
     ]
    },
    {
     "name": "stdout",
     "output_type": "stream",
     "text": [
      "Submitted batch job 57501\n",
      "Submitted batch job 57502\n",
      "Submitted batch job 57503\n",
      "Submitted batch job 57504\n",
      "Submitted batch job 57505\n",
      "Submitted batch job 57506\n",
      "Submitted batch job 57507\n",
      "Submitted batch job 57508\n",
      "Submitted batch job 57509\n",
      "Submitted batch job 57510\n",
      "Submitted batch job 57511\n"
     ]
    },
    {
     "name": "stderr",
     "output_type": "stream",
     "text": [
      "sbatch: Single node jobs run on a shared node by default. Add --exclusive if you want to use a node exclusively.\n",
      "sbatch: Single node jobs run on a shared node by default. Add --exclusive if you want to use a node exclusively.\n",
      "sbatch: Single node jobs run on a shared node by default. Add --exclusive if you want to use a node exclusively.\n",
      "sbatch: Single node jobs run on a shared node by default. Add --exclusive if you want to use a node exclusively.\n",
      "sbatch: Single node jobs run on a shared node by default. Add --exclusive if you want to use a node exclusively.\n"
     ]
    }
   ],
   "source": [
    "num_parallel = 1\n",
    "time = '4:00:00'\n",
    "limit = 100\n",
    "version = 8\n",
    "args = [directory,limit,version]\n",
    "run_parallel_all_time('hyphae_extraction.py',args,folders,num_parallel,time,'hyphae',cpus = 128)"
   ]
  },
  {
   "cell_type": "code",
   "execution_count": 16,
   "metadata": {},
   "outputs": [
    {
     "data": {
      "text/plain": [
       "2.268e+17"
      ]
     },
     "execution_count": 16,
     "metadata": {},
     "output_type": "execute_result"
    }
   ],
   "source": [
    " 0.2 * 210 * 10**14 *30 *1.8"
   ]
  }
 ],
 "metadata": {
  "kernelspec": {
   "display_name": "Python 3 (ipykernel)",
   "language": "python",
   "name": "python3"
  },
  "language_info": {
   "codemirror_mode": {
    "name": "ipython",
    "version": 3
   },
   "file_extension": ".py",
   "mimetype": "text/x-python",
   "name": "python",
   "nbconvert_exporter": "python",
   "pygments_lexer": "ipython3",
   "version": "3.7.11"
  }
 },
 "nbformat": 4,
 "nbformat_minor": 4
}

{
 "cells": [
  {
   "cell_type": "code",
   "execution_count": 4,
   "metadata": {},
   "outputs": [],
   "source": [
    "%matplotlib widget\n",
    "\n",
    "import sys  \n",
    "sys.path.insert(0, '/home/cbisot/pycode/MscThesis/')\n",
    "import pandas as pd\n",
    "from amftrack.util import get_dates_datetime, get_dirname, get_data_info, update_plate_info, \\\n",
    "get_current_folders, get_folders_by_plate_id\n",
    "import ast\n",
    "from amftrack.plotutil import plot_t_tp1\n",
    "from scipy import sparse\n",
    "from datetime import datetime\n",
    "from amftrack.pipeline.functions.node_id import orient\n",
    "import pickle\n",
    "import scipy.io as sio\n",
    "from pymatreader import read_mat\n",
    "from matplotlib import colors\n",
    "import cv2\n",
    "import imageio\n",
    "import matplotlib.pyplot as plt\n",
    "import numpy as np\n",
    "from skimage.filters import frangi\n",
    "from skimage import filters\n",
    "from random import choice\n",
    "import scipy.sparse\n",
    "import os\n",
    "from amftrack.pipeline.functions.extract_graph import from_sparse_to_graph, generate_nx_graph, sparse_to_doc\n",
    "from skimage.feature import hessian_matrix_det\n",
    "from amftrack.pipeline.functions.experiment_class_surf import Experiment\n",
    "from amftrack.pipeline.paths.directory import run_parallel, find_state, find_state_extract, directory_scratch, directory_project, run_parallel_all_time\n"
   ]
  },
  {
   "cell_type": "code",
   "execution_count": 6,
   "metadata": {
    "tags": []
   },
   "outputs": [],
   "source": [
    "directory = directory_project\n",
    "update_plate_info(directory)"
   ]
  },
  {
   "cell_type": "code",
   "execution_count": 7,
   "metadata": {},
   "outputs": [],
   "source": [
    "update_plate_info(directory_scratch)"
   ]
  },
  {
   "cell_type": "code",
   "execution_count": 8,
   "metadata": {},
   "outputs": [],
   "source": [
    "len(get_current_folders(directory))\n",
    "all_folders = get_current_folders(directory)"
   ]
  },
  {
   "cell_type": "code",
   "execution_count": 29,
   "metadata": {
    "tags": []
   },
   "outputs": [
    {
     "name": "stdout",
     "output_type": "stream",
     "text": [
      "351\n",
      "336\n"
     ]
    }
   ],
   "source": [
    "plate = 22\n",
    "plates = [22,10,76,26,152,102]\n",
    "\n",
    "# folders = all_folders.loc[all_folders['Plate']==plate]\n",
    "folders = all_folders.loc[all_folders['Plate'].isin(plates)]\n",
    "print(len(folders))\n",
    "# folders = all_folders.loc[all_folders['Plate']==plate*all_folders['/Analysis/skeleton_realigned_compressed.mat']]\n",
    "folders = all_folders.loc[(all_folders['/Analysis/skeleton_realigned_compressed.mat'])&(all_folders['Plate'].isin(plates))]\n",
    "\n",
    "print(len(folders))"
   ]
  },
  {
   "cell_type": "code",
   "execution_count": 12,
   "metadata": {
    "tags": []
   },
   "outputs": [
    {
     "data": {
      "text/plain": [
       "1748"
      ]
     },
     "execution_count": 12,
     "metadata": {},
     "output_type": "execute_result"
    }
   ],
   "source": [
    "folders = all_folders.loc[(all_folders['strain']=='A5')&(all_folders['/Analysis/skeleton_realigned_compressed.mat'])]\n",
    "len(folders)\n"
   ]
  },
  {
   "cell_type": "code",
   "execution_count": 10,
   "metadata": {},
   "outputs": [
    {
     "data": {
      "text/plain": [
       "1071"
      ]
     },
     "execution_count": 10,
     "metadata": {},
     "output_type": "execute_result"
    }
   ],
   "source": [
    "folders = all_folders.loc[(all_folders['strain']=='A5')&(all_folders['/Analysis/skeleton_realigned_compressed.mat'])&(all_folders['/Analysis/nx_graph_pruned_labeled.p'])]\n",
    "len(folders)\n"
   ]
  },
  {
   "cell_type": "code",
   "execution_count": 6,
   "metadata": {},
   "outputs": [
    {
     "data": {
      "text/plain": [
       "964"
      ]
     },
     "execution_count": 6,
     "metadata": {},
     "output_type": "execute_result"
    }
   ],
   "source": [
    "folders = all_folders.loc[(all_folders['strain']=='A5')&(all_folders['/Analysis/skeleton_realigned_compressed.mat'])&(1-all_folders['/Analysis/nx_graph_pruned_labeled.p'])]\n",
    "len(folders)"
   ]
  },
  {
   "cell_type": "code",
   "execution_count": 5,
   "metadata": {
    "tags": []
   },
   "outputs": [
    {
     "data": {
      "text/plain": [
       "[102, 88, 808, 10, 76, 80, 22, 152, 26, 91, 94, 799]"
      ]
     },
     "execution_count": 5,
     "metadata": {},
     "output_type": "execute_result"
    }
   ],
   "source": [
    "plates = list(set(list(folders['Plate'].values)))\n",
    "plates"
   ]
  },
  {
   "cell_type": "code",
   "execution_count": 11,
   "metadata": {},
   "outputs": [
    {
     "data": {
      "text/plain": [
       "[800, 102, 88, 808, 10, 76, 80, 792, 22, 790, 152, 26, 91, 94, 799]"
      ]
     },
     "execution_count": 11,
     "metadata": {},
     "output_type": "execute_result"
    }
   ],
   "source": [
    "plates = list(set(list(folders['Plate'].values)))\n",
    "plates"
   ]
  },
  {
   "cell_type": "code",
   "execution_count": 75,
   "metadata": {
    "collapsed": true,
    "jupyter": {
     "outputs_hidden": true
    },
    "tags": []
   },
   "outputs": [
    {
     "name": "stdout",
     "output_type": "stream",
     "text": [
      "nan 0\n",
      "10 31\n",
      "785 94\n",
      "787 73\n",
      "22 31\n",
      "790 98\n",
      "792 149\n",
      "152 115\n",
      "26 44\n",
      "799 95\n",
      "800 91\n",
      "808 91\n",
      "59 127\n",
      "69 107\n",
      "76 25\n",
      "80 55\n",
      "88 155\n",
      "91 115\n",
      "94 169\n",
      "102 103\n",
      "756 90\n"
     ]
    }
   ],
   "source": [
    "plates = list(set(list(all_folders['Plate'].values)))\n",
    "for plate in plates:\n",
    "    print(plate,len(all_folders.loc[all_folders['Plate']==plate]))"
   ]
  },
  {
   "cell_type": "code",
   "execution_count": null,
   "metadata": {},
   "outputs": [],
   "source": [
    "folders = all_folders.loc[(all_folders['strain']=='A5')&(all_folders['/Analysis/skeleton_realigned_compressed.mat'])&(all_folders['/Analysis/nx_graph_pruned_width.p'])]\n",
    "len(folders)"
   ]
  },
  {
   "cell_type": "code",
   "execution_count": 11,
   "metadata": {
    "collapsed": true,
    "jupyter": {
     "outputs_hidden": true
    },
    "tags": []
   },
   "outputs": [
    {
     "data": {
      "text/plain": [
       "['20210929_1004_Plate38',\n",
       " '20210929_1204_Plate38',\n",
       " '20210929_1404_Plate38',\n",
       " '20210929_1604_Plate38',\n",
       " '20210929_1804_Plate38',\n",
       " '20210929_2004_Plate38',\n",
       " '20210929_2204_Plate38',\n",
       " '20210930_0004_Plate38',\n",
       " '20210930_0204_Plate38',\n",
       " '20210930_0404_Plate38',\n",
       " '20210930_0604_Plate38',\n",
       " '20210930_0804_Plate38',\n",
       " '20210930_1004_Plate38',\n",
       " '20210930_2029_Plate38',\n",
       " '20210930_2210_Plate38',\n",
       " '20211001_0210_Plate38',\n",
       " '20211001_0410_Plate38',\n",
       " '20211001_0610_Plate38',\n",
       " '20211001_0810_Plate38',\n",
       " '20211001_1010_Plate38',\n",
       " '20211001_1210_Plate38',\n",
       " '20211002_1543_Plate38',\n",
       " '20211002_1744_Plate38',\n",
       " '20211002_1944_Plate38',\n",
       " '20211002_2144_Plate38',\n",
       " '20211002_2344_Plate38',\n",
       " '20211003_0143_Plate38',\n",
       " '20211003_0344_Plate38',\n",
       " '20211003_0543_Plate38',\n",
       " '20211003_0744_Plate38',\n",
       " '20211003_0944_Plate38',\n",
       " '20211003_1144_Plate38',\n",
       " '20211003_1344_Plate38',\n",
       " '20211003_1544_Plate38',\n",
       " '20211003_1744_Plate38',\n",
       " '20211003_1944_Plate38',\n",
       " '20211003_2144_Plate38',\n",
       " '20211003_2344_Plate38',\n",
       " '20211004_0144_Plate38',\n",
       " '20211004_0344_Plate38',\n",
       " '20211004_0544_Plate38',\n",
       " '20211004_0744_Plate38',\n",
       " '20211004_0944_Plate38',\n",
       " '20211004_1142_Plate38',\n",
       " '20211004_1344_Plate38',\n",
       " '20211004_1545_Plate38',\n",
       " '20211004_1745_Plate38',\n",
       " '20211004_1945_Plate38',\n",
       " '20211004_2145_Plate38',\n",
       " '20211004_2345_Plate38',\n",
       " '20211005_0145_Plate38',\n",
       " '20211005_0345_Plate38',\n",
       " '20211005_0544_Plate38',\n",
       " '20211005_0745_Plate38',\n",
       " '20211005_0945_Plate38',\n",
       " '20211005_1145_Plate38',\n",
       " '20211005_1345_Plate38',\n",
       " '20211005_1545_Plate38',\n",
       " '20211005_1743_Plate38',\n",
       " '20211005_1945_Plate38',\n",
       " '20211005_2144_Plate38',\n",
       " '20211005_2344_Plate38',\n",
       " '20211006_0145_Plate38',\n",
       " '20211006_0344_Plate38',\n",
       " '20211006_0544_Plate38',\n",
       " '20211006_0744_Plate38',\n",
       " '20211006_0945_Plate38',\n",
       " '20211006_1152_Plate38',\n",
       " '20211007_1621_Plate38',\n",
       " '20211007_1817_Plate38',\n",
       " '20211007_2018_Plate38',\n",
       " '20211007_2217_Plate38',\n",
       " '20211008_0017_Plate38',\n",
       " '20211008_0216_Plate38',\n",
       " '20211008_0416_Plate38',\n",
       " '20211008_0616_Plate38',\n",
       " '20211008_0816_Plate38',\n",
       " '20211008_1016_Plate38',\n",
       " '20211008_1216_Plate38',\n",
       " '20211008_1417_Plate38',\n",
       " '20211008_1616_Plate38',\n",
       " '20211008_1816_Plate38',\n",
       " '20211008_2016_Plate38',\n",
       " '20211008_2215_Plate38',\n",
       " '20211009_0015_Plate38',\n",
       " '20211009_0617_Plate38',\n",
       " '20211009_1217_Plate38',\n",
       " '20211009_1815_Plate38',\n",
       " '20211010_0016_Plate38',\n",
       " '20211010_1423_Plate38',\n",
       " '20211010_2022_Plate38',\n",
       " '20211011_0222_Plate38',\n",
       " '20211011_0823_Plate38',\n",
       " '20211011_1422_Plate38']"
      ]
     },
     "execution_count": 11,
     "metadata": {},
     "output_type": "execute_result"
    }
   ],
   "source": [
    "dates = list(all_folders.loc[all_folders['Plate']==785]['folder'])\n",
    "dates.sort()\n",
    "dates"
   ]
  },
  {
   "cell_type": "markdown",
   "metadata": {
    "tags": []
   },
   "source": [
    "***Create graphs***"
   ]
  },
  {
   "cell_type": "code",
   "execution_count": 9,
   "metadata": {
    "collapsed": true,
    "jupyter": {
     "outputs_hidden": true
    },
    "tags": []
   },
   "outputs": [
    {
     "name": "stdout",
     "output_type": "stream",
     "text": [
      "Submitted batch job 47120\n",
      "Submitted batch job 47121\n",
      "Submitted batch job 47122\n",
      "Submitted batch job 47123\n",
      "Submitted batch job 47124\n"
     ]
    },
    {
     "name": "stderr",
     "output_type": "stream",
     "text": [
      "sbatch: Single node jobs run on a shared node by default. Add --exclusive if you want to use a node exclusively.\n",
      "sbatch: Single node jobs run on a shared node by default. Add --exclusive if you want to use a node exclusively.\n",
      "sbatch: Single node jobs run on a shared node by default. Add --exclusive if you want to use a node exclusively.\n",
      "sbatch: Single node jobs run on a shared node by default. Add --exclusive if you want to use a node exclusively.\n",
      "sbatch: Single node jobs run on a shared node by default. Add --exclusive if you want to use a node exclusively.\n",
      "sbatch: Single node jobs run on a shared node by default. Add --exclusive if you want to use a node exclusively.\n",
      "sbatch: Single node jobs run on a shared node by default. Add --exclusive if you want to use a node exclusively.\n",
      "sbatch: Single node jobs run on a shared node by default. Add --exclusive if you want to use a node exclusively.\n",
      "sbatch: Single node jobs run on a shared node by default. Add --exclusive if you want to use a node exclusively.\n",
      "sbatch: Single node jobs run on a shared node by default. Add --exclusive if you want to use a node exclusively.\n"
     ]
    },
    {
     "name": "stdout",
     "output_type": "stream",
     "text": [
      "Submitted batch job 47125\n",
      "Submitted batch job 47126\n",
      "Submitted batch job 47127\n",
      "Submitted batch job 47128\n",
      "Submitted batch job 47129\n",
      "Submitted batch job 47130\n",
      "Submitted batch job 47131\n",
      "Submitted batch job 47132\n",
      "Submitted batch job 47133\n",
      "Submitted batch job 47134\n"
     ]
    },
    {
     "name": "stderr",
     "output_type": "stream",
     "text": [
      "sbatch: Single node jobs run on a shared node by default. Add --exclusive if you want to use a node exclusively.\n",
      "sbatch: Single node jobs run on a shared node by default. Add --exclusive if you want to use a node exclusively.\n",
      "sbatch: Single node jobs run on a shared node by default. Add --exclusive if you want to use a node exclusively.\n",
      "sbatch: Single node jobs run on a shared node by default. Add --exclusive if you want to use a node exclusively.\n",
      "sbatch: Single node jobs run on a shared node by default. Add --exclusive if you want to use a node exclusively.\n"
     ]
    },
    {
     "name": "stdout",
     "output_type": "stream",
     "text": [
      "Submitted batch job 47135\n",
      "Submitted batch job 47136\n",
      "Submitted batch job 47137\n"
     ]
    },
    {
     "name": "stderr",
     "output_type": "stream",
     "text": [
      "sbatch: Single node jobs run on a shared node by default. Add --exclusive if you want to use a node exclusively.\n",
      "sbatch: Single node jobs run on a shared node by default. Add --exclusive if you want to use a node exclusively.\n",
      "sbatch: Single node jobs run on a shared node by default. Add --exclusive if you want to use a node exclusively.\n"
     ]
    }
   ],
   "source": [
    "num_parallel = 100\n",
    "time = '30:00'\n",
    "args=[directory]\n",
    "run_parallel('extract_nx_graph.py',args, folders, num_parallel, time,'extract_nx')"
   ]
  },
  {
   "cell_type": "code",
   "execution_count": 69,
   "metadata": {},
   "outputs": [
    {
     "data": {
      "text/plain": [
       "336"
      ]
     },
     "execution_count": 69,
     "metadata": {},
     "output_type": "execute_result"
    }
   ],
   "source": [
    "plates = [22,10,76,26,152,102]\n",
    "\n",
    "folders = all_folders.loc[(all_folders['/Analysis/nx_graph_pruned.p'])&(all_folders['Plate'].isin(plates))]\n",
    "len(folders)"
   ]
  },
  {
   "cell_type": "markdown",
   "metadata": {},
   "source": [
    "***Extract Width***"
   ]
  },
  {
   "cell_type": "code",
   "execution_count": 23,
   "metadata": {
    "collapsed": true,
    "jupyter": {
     "outputs_hidden": true
    },
    "tags": []
   },
   "outputs": [
    {
     "name": "stderr",
     "output_type": "stream",
     "text": [
      "sbatch: Single node jobs run on a shared node by default. Add --exclusive if you want to use a node exclusively.\n",
      "sbatch: Single node jobs run on a shared node by default. Add --exclusive if you want to use a node exclusively.\n",
      "sbatch: Single node jobs run on a shared node by default. Add --exclusive if you want to use a node exclusively.\n",
      "sbatch: Single node jobs run on a shared node by default. Add --exclusive if you want to use a node exclusively.\n",
      "sbatch: Single node jobs run on a shared node by default. Add --exclusive if you want to use a node exclusively.\n"
     ]
    },
    {
     "name": "stdout",
     "output_type": "stream",
     "text": [
      "Submitted batch job 48857\n",
      "Submitted batch job 48858\n",
      "Submitted batch job 48859\n",
      "Submitted batch job 48860\n",
      "Submitted batch job 48861\n",
      "Submitted batch job 48862\n",
      "Submitted batch job 48863\n",
      "Submitted batch job 48864\n",
      "Submitted batch job 48865\n",
      "Submitted batch job 48866\n"
     ]
    },
    {
     "name": "stderr",
     "output_type": "stream",
     "text": [
      "sbatch: Single node jobs run on a shared node by default. Add --exclusive if you want to use a node exclusively.\n",
      "sbatch: Single node jobs run on a shared node by default. Add --exclusive if you want to use a node exclusively.\n",
      "sbatch: Single node jobs run on a shared node by default. Add --exclusive if you want to use a node exclusively.\n",
      "sbatch: Single node jobs run on a shared node by default. Add --exclusive if you want to use a node exclusively.\n",
      "sbatch: Single node jobs run on a shared node by default. Add --exclusive if you want to use a node exclusively.\n",
      "sbatch: Single node jobs run on a shared node by default. Add --exclusive if you want to use a node exclusively.\n",
      "sbatch: Single node jobs run on a shared node by default. Add --exclusive if you want to use a node exclusively.\n",
      "sbatch: Single node jobs run on a shared node by default. Add --exclusive if you want to use a node exclusively.\n",
      "sbatch: Single node jobs run on a shared node by default. Add --exclusive if you want to use a node exclusively.\n",
      "sbatch: Single node jobs run on a shared node by default. Add --exclusive if you want to use a node exclusively.\n"
     ]
    },
    {
     "name": "stdout",
     "output_type": "stream",
     "text": [
      "Submitted batch job 48867\n",
      "Submitted batch job 48868\n",
      "Submitted batch job 48869\n",
      "Submitted batch job 48870\n",
      "Submitted batch job 48871\n",
      "Submitted batch job 48872\n",
      "Submitted batch job 48873\n",
      "Submitted batch job 48874\n"
     ]
    },
    {
     "name": "stderr",
     "output_type": "stream",
     "text": [
      "sbatch: Single node jobs run on a shared node by default. Add --exclusive if you want to use a node exclusively.\n",
      "sbatch: Single node jobs run on a shared node by default. Add --exclusive if you want to use a node exclusively.\n",
      "sbatch: Single node jobs run on a shared node by default. Add --exclusive if you want to use a node exclusively.\n"
     ]
    }
   ],
   "source": [
    "num_parallel = 100\n",
    "time = '24:00:00'\n",
    "skip = False\n",
    "args = [directory,skip]\n",
    "run_parallel('extract_width.py',args,folders,num_parallel,time,'extract_width',cpus=128)"
   ]
  },
  {
   "cell_type": "code",
   "execution_count": 41,
   "metadata": {
    "tags": []
   },
   "outputs": [
    {
     "data": {
      "text/plain": [
       "0"
      ]
     },
     "execution_count": 41,
     "metadata": {},
     "output_type": "execute_result"
    }
   ],
   "source": [
    "plates = [22,10,76,26,152,102]\n",
    "\n",
    "folders = all_folders.loc[(1-all_folders['/Analysis/nx_graph_pruned_width.p'])&(all_folders['Plate'].isin(plates))&(all_folders['/Analysis/nx_graph_pruned.p'])]\n",
    "# folders.loc[folders['folder'] == '20210110_1523_Plate30']\n",
    "# int(list(folders['folder'])[0].split('_')[-1][5:])\n",
    "len(folders)"
   ]
  },
  {
   "cell_type": "code",
   "execution_count": 4,
   "metadata": {},
   "outputs": [
    {
     "data": {
      "text/plain": [
       "336"
      ]
     },
     "execution_count": 4,
     "metadata": {},
     "output_type": "execute_result"
    }
   ],
   "source": [
    "plates = [22,10,76,26,152,102]\n",
    "\n",
    "folders = all_folders.loc[(all_folders['/Analysis/nx_graph_pruned_width.p'])&(all_folders['Plate'].isin(plates))]\n",
    "# folders.loc[folders['folder'] == '20210110_1523_Plate30']\n",
    "# int(list(folders['folder'])[0].split('_')[-1][5:])\n",
    "len(folders)"
   ]
  },
  {
   "cell_type": "markdown",
   "metadata": {},
   "source": [
    "***Identify Nodes***"
   ]
  },
  {
   "cell_type": "code",
   "execution_count": 22,
   "metadata": {
    "tags": []
   },
   "outputs": [
    {
     "name": "stdout",
     "output_type": "stream",
     "text": [
      "Submitted batch job 48855\n",
      "Submitted batch job 48856\n"
     ]
    },
    {
     "name": "stderr",
     "output_type": "stream",
     "text": [
      "sbatch: Single node jobs run on a shared node by default. Add --exclusive if you want to use a node exclusively.\n",
      "sbatch: Single node jobs run on a shared node by default. Add --exclusive if you want to use a node exclusively.\n"
     ]
    }
   ],
   "source": [
    "num_parallel = 10\n",
    "time = '24:00:00'\n",
    "limit = 100\n",
    "args=[directory,limit]\n",
    "run_parallel_all_time('extract_nodes.py',args,folders,num_parallel,time,'node_id',cpus = 128)"
   ]
  },
  {
   "cell_type": "code",
   "execution_count": 6,
   "metadata": {},
   "outputs": [
    {
     "data": {
      "text/plain": [
       "Index(['folder', 'Plate', 'PrincePos', 'root', 'strain', 'medium', 'split',\n",
       "       'Temp', 'CrossDate', '/Img/TileConfiguration.txt.registered',\n",
       "       '/Analysis/skeleton_compressed.mat',\n",
       "       '/Analysis/skeleton_masked_compressed.mat',\n",
       "       '/Analysis/skeleton_pruned_compressed.mat', '/Analysis/transform.mat',\n",
       "       '/Analysis/transform_corrupt.mat',\n",
       "       '/Analysis/skeleton_realigned_compressed.mat',\n",
       "       '/Analysis/nx_graph_pruned.p', '/Analysis/nx_graph_pruned_width.p',\n",
       "       '/Analysis/nx_graph_pruned_labeled.p', 'date', 'Pbait'],\n",
       "      dtype='object')"
      ]
     },
     "execution_count": 6,
     "metadata": {},
     "output_type": "execute_result"
    }
   ],
   "source": [
    "folders.columns"
   ]
  },
  {
   "cell_type": "code",
   "execution_count": 60,
   "metadata": {},
   "outputs": [
    {
     "data": {
      "text/plain": [
       "239"
      ]
     },
     "execution_count": 60,
     "metadata": {},
     "output_type": "execute_result"
    }
   ],
   "source": [
    "plates = [22,10,76,26,152,102]\n",
    "\n",
    "folders = all_folders.loc[(all_folders['/Analysis/nx_graph_pruned_labeled.p'])&(all_folders['Plate'].isin(plates))]\n",
    "# folders.loc[folders['folder'] == '20210110_1523_Plate30']\n",
    "# int(list(folders['folder'])[0].split('_')[-1][5:])\n",
    "len(folders)"
   ]
  },
  {
   "cell_type": "markdown",
   "metadata": {},
   "source": [
    "***Hyphae extraction***"
   ]
  },
  {
   "cell_type": "code",
   "execution_count": 14,
   "metadata": {},
   "outputs": [
    {
     "name": "stdout",
     "output_type": "stream",
     "text": [
      "Submitted batch job 54252\n",
      "Submitted batch job 54253\n"
     ]
    },
    {
     "name": "stderr",
     "output_type": "stream",
     "text": [
      "sbatch: Single node jobs run on a shared node by default. Add --exclusive if you want to use a node exclusively.\n",
      "sbatch: Single node jobs run on a shared node by default. Add --exclusive if you want to use a node exclusively.\n"
     ]
    }
   ],
   "source": [
    "num_parallel = 10\n",
    "time = '24:00:00'\n",
    "limit = 100\n",
    "version = 2\n",
    "args = [directory,limit,version]\n",
    "run_parallel_all_time('hyphae_extraction.py',args,folders,num_parallel,time,'hyphae',cpus = 32)"
   ]
  },
  {
   "cell_type": "code",
   "execution_count": 16,
   "metadata": {},
   "outputs": [
    {
     "data": {
      "text/plain": [
       "2.268e+17"
      ]
     },
     "execution_count": 16,
     "metadata": {},
     "output_type": "execute_result"
    }
   ],
   "source": [
    " 0.2 * 210 * 10**14 *30 *1.8"
   ]
  }
 ],
 "metadata": {
  "kernelspec": {
   "display_name": "Python 3 (ipykernel)",
   "language": "python",
   "name": "python3"
  },
  "language_info": {
   "codemirror_mode": {
    "name": "ipython",
    "version": 3
   },
   "file_extension": ".py",
   "mimetype": "text/x-python",
   "name": "python",
   "nbconvert_exporter": "python",
   "pygments_lexer": "ipython3",
   "version": "3.7.11"
  }
 },
 "nbformat": 4,
 "nbformat_minor": 4
}

{
 "cells": [
  {
   "cell_type": "code",
   "execution_count": 1,
   "metadata": {},
   "outputs": [],
   "source": [
    "%matplotlib widget\n",
    "\n",
    "import sys  \n",
    "# sys.path.insert(0, '/home/cbisot/pycode/MscThesis/')\n",
    "sys.path.insert(0,r'C:\\Users\\coren\\Documents\\PhD\\Code\\AMFtrack')\n",
    "\n",
    "import pandas as pd\n",
    "from amftrack.util import get_dates_datetime, get_dirname, get_plate_number, get_postion_number\n",
    "\n",
    "import ast\n",
    "from amftrack.plotutil import plot_t_tp1\n",
    "from scipy import sparse\n",
    "from datetime import datetime\n",
    "from amftrack.pipeline.functions.node_id import orient\n",
    "import pickle\n",
    "import scipy.io as sio\n",
    "from pymatreader import read_mat\n",
    "from matplotlib import colors\n",
    "import cv2\n",
    "import imageio\n",
    "import matplotlib.pyplot as plt\n",
    "import numpy as np\n",
    "from skimage.filters import frangi\n",
    "from skimage import filters\n",
    "from random import choice\n",
    "import scipy.sparse\n",
    "import os\n",
    "from amftrack.pipeline.functions.extract_graph import from_sparse_to_graph, generate_nx_graph, sparse_to_doc\n",
    "from skimage.feature import hessian_matrix_det\n",
    "from amftrack.pipeline.functions.experiment_class_surf import Experiment\n",
    "from amftrack.pipeline.paths.directory import run_parallel, find_state, directory_scratch, directory_project, run_parallel_stitch\n"
   ]
  },
  {
   "cell_type": "markdown",
   "metadata": {},
   "source": [
    "***Chose plate number and directory of interest where the folders with images are***"
   ]
  },
  {
   "cell_type": "code",
   "execution_count": 10,
   "metadata": {},
   "outputs": [
    {
     "name": "stdout",
     "output_type": "stream",
     "text": [
      "39\n"
     ]
    },
    {
     "data": {
      "text/plain": [
       "1"
      ]
     },
     "execution_count": 10,
     "metadata": {},
     "output_type": "execute_result"
    }
   ],
   "source": [
    "plate_number = 729\n",
    "plate = get_postion_number(plate_number)\n",
    "plate = 39\n",
    "print(plate)\n",
    "# directory = directory_scratch\n",
    "# directory = directory_project\n",
    "directory = r'C:\\Users\\coren\\Documents\\PhD\\Code\\data/'\n",
    "listdir = os.listdir(directory)\n",
    "list_dir_interest = [name for name in listdir if name.split('_')[-1]==f'Plate{0 if plate<10 else \"\"}{plate}']\n",
    "dates_datetime = get_dates_datetime(directory,plate)\n",
    "len(list_dir_interest)"
   ]
  },
  {
   "cell_type": "code",
   "execution_count": 4,
   "metadata": {},
   "outputs": [
    {
     "data": {
      "text/plain": [
       "'20210823_1128_Plate39'"
      ]
     },
     "execution_count": 4,
     "metadata": {},
     "output_type": "execute_result"
    }
   ],
   "source": [
    "get_dirname(dates_datetime[0], plate)"
   ]
  },
  {
   "cell_type": "code",
   "execution_count": 5,
   "metadata": {
    "collapsed": true,
    "jupyter": {
     "outputs_hidden": true
    }
   },
   "outputs": [
    {
     "name": "stdout",
     "output_type": "stream",
     "text": [
      "0 59\n",
      "61 137\n",
      "106 76\n",
      "131 721\n"
     ]
    }
   ],
   "source": [
    "plate_number = get_plate_number(plate,dates_datetime[0])\n",
    "print(0,plate_number)\n",
    "for i in range(len(list_dir_interest)):\n",
    "    new_plate_number = get_plate_number(plate,dates_datetime[i])\n",
    "    if plate_number!=new_plate_number:\n",
    "        plate_number=new_plate_number\n",
    "        print(i,plate_number)\n"
   ]
  },
  {
   "cell_type": "markdown",
   "metadata": {},
   "source": [
    "***Chose timestep to begin with and folder to end with***"
   ]
  },
  {
   "cell_type": "code",
   "execution_count": 11,
   "metadata": {},
   "outputs": [
    {
     "name": "stdout",
     "output_type": "stream",
     "text": [
      "begin = 2021-08-23 11:28:00 \n",
      "  end = 2021-08-23 11:28:00\n"
     ]
    }
   ],
   "source": [
    "begin = 0\n",
    "end = begin + 0\n",
    "print('begin =', dates_datetime[begin], '\\n  end =', dates_datetime[end])"
   ]
  },
  {
   "cell_type": "code",
   "execution_count": 4,
   "metadata": {},
   "outputs": [
    {
     "data": {
      "text/plain": [
       "('/Img/TileConfiguration.txt.registered',\n",
       " [(datetime.datetime(2021, 8, 23, 11, 28), 0)])"
      ]
     },
     "execution_count": 4,
     "metadata": {},
     "output_type": "execute_result"
    }
   ],
   "source": [
    "find_state(plate, begin, end, directory, True)"
   ]
  },
  {
   "cell_type": "markdown",
   "metadata": {},
   "source": [
    "***Stitching***"
   ]
  },
  {
   "cell_type": "code",
   "execution_count": 6,
   "metadata": {},
   "outputs": [],
   "source": [
    "num_parallel = 4\n",
    "time = '20:00'\n",
    "run_parallel_stitch(plate,directory,begin,end,num_parallel,time)"
   ]
  },
  {
   "cell_type": "markdown",
   "metadata": {},
   "source": [
    "***Skeletonization***\n",
    "- Only 4 skeletonization processes can be run in parallel on one node"
   ]
  },
  {
   "cell_type": "code",
   "execution_count": 13,
   "metadata": {},
   "outputs": [],
   "source": [
    "num_parallel = 4\n",
    "time = '3:00:00'\n",
    "low = 30\n",
    "high = 80\n",
    "extend = 30\n",
    "args=[plate, low, high, extend,directory]\n",
    "run_parallel('extract_skel.py',args,begin,end,num_parallel,time,'skeletonization')"
   ]
  },
  {
   "cell_type": "markdown",
   "metadata": {},
   "source": [
    "***Compress raw image***"
   ]
  },
  {
   "cell_type": "code",
   "execution_count": 34,
   "metadata": {},
   "outputs": [],
   "source": [
    "num_parallel = 4\n",
    "time = '2:00'\n",
    "args = [plate, directory]\n",
    "run_parallel('compress_image.py',args, begin, end, num_parallel, time, 'compress')"
   ]
  },
  {
   "cell_type": "markdown",
   "metadata": {},
   "source": [
    "***Check Skeletonization***\n",
    "- The first cell loads the skeleton and the compressed raw image\n",
    "- The second cell shows the overlap of the skeleton and the raw image"
   ]
  },
  {
   "cell_type": "code",
   "execution_count": 40,
   "metadata": {},
   "outputs": [],
   "source": [
    "start = begin+58\n",
    "finish = start +1\n",
    "dates_datetime = get_dates_datetime(directory,plate)\n",
    "dates_datetime_chosen=dates_datetime[start:finish+1]\n",
    "dates = dates_datetime_chosen\n",
    "skels = []\n",
    "ims = []\n",
    "kernel = np.ones((5,5),np.uint8)\n",
    "itera = 1\n",
    "for date in dates:\n",
    "    directory_name = get_dirname(date,plate)\n",
    "    path_snap=directory+directory_name\n",
    "#     skel_info = read_mat(path_snap+'/Analysis/skeleton_compressed.mat')\n",
    "#     skel = skel_info['skeleton']\n",
    "#     skels.append(cv2.dilate(skel.astype(np.uint8),kernel,iterations = itera))\n",
    "    im = read_mat(path_snap+'/Analysis/raw_image.mat')['raw']\n",
    "    ims.append(im)"
   ]
  },
  {
   "cell_type": "code",
   "execution_count": 41,
   "metadata": {},
   "outputs": [
    {
     "data": {
      "application/vnd.jupyter.widget-view+json": {
       "model_id": "e9da5b47564043c8b1bdc9b4c4f246df",
       "version_major": 2,
       "version_minor": 0
      },
      "text/plain": [
       "Canvas(toolbar=Toolbar(toolitems=[('Home', 'Reset original view', 'home', 'home'), ('Back', 'Back to previous …"
      ]
     },
     "metadata": {},
     "output_type": "display_data"
    }
   ],
   "source": [
    "plt.close('all')\n",
    "start = 0\n",
    "finish = start + 1\n",
    "for i in range(start,finish):\n",
    "    plot_t_tp1([], [], None, None, ims[i]*0, ims[i])"
   ]
  },
  {
   "cell_type": "markdown",
   "metadata": {},
   "source": [
    "- Chose start and finish to display the overlap of the skeleton and the raw image : no more than 10 at a time or jupyter will crash.\n",
    "- For display purpose, everything is compressed so connectivity may be lost\n",
    "- colors are just a feature of compression"
   ]
  },
  {
   "cell_type": "code",
   "execution_count": 6,
   "metadata": {},
   "outputs": [
    {
     "name": "stderr",
     "output_type": "stream",
     "text": [
      "/home/cbisot/anaconda3/envs/test/lib/python3.7/site-packages/matplotlib/__init__.py:880: MatplotlibDeprecationWarning: \n",
      "nbagg.transparent\n",
      "  version, key, obj_type=\"rcparam\", alternative=alt_key)\n"
     ]
    },
    {
     "data": {
      "application/vnd.jupyter.widget-view+json": {
       "model_id": "e31a8e1482b44fc2b7768790284c04cb",
       "version_major": 2,
       "version_minor": 0
      },
      "text/plain": [
       "Canvas(toolbar=Toolbar(toolitems=[('Home', 'Reset original view', 'home', 'home'), ('Back', 'Back to previous …"
      ]
     },
     "metadata": {},
     "output_type": "display_data"
    }
   ],
   "source": [
    "plt.close('all')\n",
    "start = 0\n",
    "finish = start + 1\n",
    "for i in range(start,finish):\n",
    "    plot_t_tp1([], [], None, None, skels[i], ims[i])"
   ]
  },
  {
   "cell_type": "markdown",
   "metadata": {},
   "source": [
    "***Check specific image***\n",
    "- If something wrong is noticed in one of the skeletons one can chose to look closer at one of the images and the skeletonization process\n",
    "- chose ***i*** equal to the timestep where something wrong has been noticed "
   ]
  },
  {
   "cell_type": "code",
   "execution_count": 8,
   "metadata": {},
   "outputs": [],
   "source": [
    "#chose i equal to the timestep where something wrong has been noticed \n",
    "i = begin + 52\n",
    "\n",
    "dates_datetime = get_dates_datetime(directory,plate)\n",
    "dates = dates_datetime\n",
    "\n",
    "date =dates [i]\n",
    "directory_name = get_dirname(date,plate)\n",
    "path_snap=directory+directory_name\n",
    "path_tile=path_snap+'/Img/TileConfiguration.txt.registered'\n",
    "try:\n",
    "    tileconfig = pd.read_table(path_tile,sep=';',skiprows=4,header=None,converters={2 : ast.literal_eval},skipinitialspace=True)\n",
    "except:\n",
    "    print('error_name')\n",
    "    path_tile=path_snap+'/Img/TileConfiguration.registered.txt'\n",
    "    tileconfig = pd.read_table(path_tile,sep=';',skiprows=4,header=None,converters={2 : ast.literal_eval},skipinitialspace=True)\n",
    "xs =[c[0] for c in tileconfig[2]]\n",
    "ys =[c[1] for c in tileconfig[2]]\n",
    "dim = (int(np.max(ys)-np.min(ys))+4096,int(np.max(xs)-np.min(xs))+4096)\n",
    "ims = []\n",
    "for name in tileconfig[0]:\n",
    "    imname = '/Img/'+name.split('/')[-1]\n",
    "    ims.append(imageio.imread(directory+directory_name+imname))\n"
   ]
  },
  {
   "cell_type": "markdown",
   "metadata": {},
   "source": [
    "- Chose a x,y position where you want to see how the skeletonization process went (x is the scale on the left on the images and y is the bottom scale)\n",
    "- You can chose to display different part of the filter par commenting/uncommenting"
   ]
  },
  {
   "cell_type": "code",
   "execution_count": 9,
   "metadata": {},
   "outputs": [
    {
     "name": "stdout",
     "output_type": "stream",
     "text": [
      "64\n",
      "Raw image\n"
     ]
    },
    {
     "data": {
      "application/vnd.jupyter.widget-view+json": {
       "model_id": "dcddf830fc244e7e8953157ec306e1ad",
       "version_major": 2,
       "version_minor": 0
      },
      "text/plain": [
       "Canvas(toolbar=Toolbar(toolitems=[('Home', 'Reset original view', 'home', 'home'), ('Back', 'Back to previous …"
      ]
     },
     "metadata": {},
     "output_type": "display_data"
    },
    {
     "name": "stdout",
     "output_type": "stream",
     "text": [
      "Raw image with background removed\n"
     ]
    },
    {
     "data": {
      "application/vnd.jupyter.widget-view+json": {
       "model_id": "0b76dc8b98e94dd1bb3a4d36647dc8b7",
       "version_major": 2,
       "version_minor": 0
      },
      "text/plain": [
       "Canvas(toolbar=Toolbar(toolitems=[('Home', 'Reset original view', 'home', 'home'), ('Back', 'Back to previous …"
      ]
     },
     "metadata": {},
     "output_type": "display_data"
    },
    {
     "name": "stdout",
     "output_type": "stream",
     "text": [
      "frangised image\n"
     ]
    },
    {
     "data": {
      "application/vnd.jupyter.widget-view+json": {
       "model_id": "fe67b3515ac3499e87ba1a6e3c717869",
       "version_major": 2,
       "version_minor": 0
      },
      "text/plain": [
       "Canvas(toolbar=Toolbar(toolitems=[('Home', 'Reset original view', 'home', 'home'), ('Back', 'Back to previous …"
      ]
     },
     "metadata": {},
     "output_type": "display_data"
    },
    {
     "name": "stdout",
     "output_type": "stream",
     "text": [
      "final transformed image\n"
     ]
    },
    {
     "data": {
      "application/vnd.jupyter.widget-view+json": {
       "model_id": "0f277b624a3247a7aafd891065b7396c",
       "version_major": 2,
       "version_minor": 0
      },
      "text/plain": [
       "Canvas(toolbar=Toolbar(toolitems=[('Home', 'Reset original view', 'home', 'home'), ('Back', 'Back to previous …"
      ]
     },
     "metadata": {},
     "output_type": "display_data"
    },
    {
     "name": "stdout",
     "output_type": "stream",
     "text": [
      "threhsolded image\n"
     ]
    },
    {
     "data": {
      "application/vnd.jupyter.widget-view+json": {
       "model_id": "144c1f80363542e9b9eecce4572dfd2e",
       "version_major": 2,
       "version_minor": 0
      },
      "text/plain": [
       "Canvas(toolbar=Toolbar(toolitems=[('Home', 'Reset original view', 'home', 'home'), ('Back', 'Back to previous …"
      ]
     },
     "metadata": {},
     "output_type": "display_data"
    },
    {
     "name": "stdout",
     "output_type": "stream",
     "text": [
      "threhsolded image\n"
     ]
    },
    {
     "data": {
      "application/vnd.jupyter.widget-view+json": {
       "model_id": "13dd252e833e4e7db7deee6e3921ccaa",
       "version_major": 2,
       "version_minor": 0
      },
      "text/plain": [
       "Canvas(toolbar=Toolbar(toolitems=[('Home', 'Reset original view', 'home', 'home'), ('Back', 'Back to previous …"
      ]
     },
     "metadata": {},
     "output_type": "display_data"
    },
    {
     "name": "stdout",
     "output_type": "stream",
     "text": [
      "extended tips\n"
     ]
    },
    {
     "data": {
      "application/vnd.jupyter.widget-view+json": {
       "model_id": "e29ac266853941a5b375a324e5af42f8",
       "version_major": 2,
       "version_minor": 0
      },
      "text/plain": [
       "Canvas(toolbar=Toolbar(toolitems=[('Home', 'Reset original view', 'home', 'home'), ('Back', 'Back to previous …"
      ]
     },
     "metadata": {},
     "output_type": "display_data"
    },
    {
     "name": "stdout",
     "output_type": "stream",
     "text": [
      "final_skel\n"
     ]
    },
    {
     "data": {
      "application/vnd.jupyter.widget-view+json": {
       "model_id": "cb549aeb3ab642d49cb8e2aff93d290a",
       "version_major": 2,
       "version_minor": 0
      },
      "text/plain": [
       "Canvas(toolbar=Toolbar(toolitems=[('Home', 'Reset original view', 'home', 'home'), ('Back', 'Back to previous …"
      ]
     },
     "metadata": {},
     "output_type": "display_data"
    },
    {
     "name": "stdout",
     "output_type": "stream",
     "text": [
      "65\n",
      "Raw image\n"
     ]
    },
    {
     "data": {
      "application/vnd.jupyter.widget-view+json": {
       "model_id": "6134783d457c40789a5e3d7662af49e4",
       "version_major": 2,
       "version_minor": 0
      },
      "text/plain": [
       "Canvas(toolbar=Toolbar(toolitems=[('Home', 'Reset original view', 'home', 'home'), ('Back', 'Back to previous …"
      ]
     },
     "metadata": {},
     "output_type": "display_data"
    },
    {
     "name": "stdout",
     "output_type": "stream",
     "text": [
      "Raw image with background removed\n"
     ]
    },
    {
     "data": {
      "application/vnd.jupyter.widget-view+json": {
       "model_id": "74e833b717b94aa397560ddd9e69f8d1",
       "version_major": 2,
       "version_minor": 0
      },
      "text/plain": [
       "Canvas(toolbar=Toolbar(toolitems=[('Home', 'Reset original view', 'home', 'home'), ('Back', 'Back to previous …"
      ]
     },
     "metadata": {},
     "output_type": "display_data"
    },
    {
     "name": "stdout",
     "output_type": "stream",
     "text": [
      "frangised image\n"
     ]
    },
    {
     "data": {
      "application/vnd.jupyter.widget-view+json": {
       "model_id": "54f182c1fdb248d4b455f31ea64e7742",
       "version_major": 2,
       "version_minor": 0
      },
      "text/plain": [
       "Canvas(toolbar=Toolbar(toolitems=[('Home', 'Reset original view', 'home', 'home'), ('Back', 'Back to previous …"
      ]
     },
     "metadata": {},
     "output_type": "display_data"
    },
    {
     "name": "stdout",
     "output_type": "stream",
     "text": [
      "final transformed image\n"
     ]
    },
    {
     "data": {
      "application/vnd.jupyter.widget-view+json": {
       "model_id": "b89a77c27d954fdba20768527315f4df",
       "version_major": 2,
       "version_minor": 0
      },
      "text/plain": [
       "Canvas(toolbar=Toolbar(toolitems=[('Home', 'Reset original view', 'home', 'home'), ('Back', 'Back to previous …"
      ]
     },
     "metadata": {},
     "output_type": "display_data"
    },
    {
     "name": "stdout",
     "output_type": "stream",
     "text": [
      "threhsolded image\n"
     ]
    },
    {
     "data": {
      "application/vnd.jupyter.widget-view+json": {
       "model_id": "035ed6bba2f246a6a0e5df2a06aee6e3",
       "version_major": 2,
       "version_minor": 0
      },
      "text/plain": [
       "Canvas(toolbar=Toolbar(toolitems=[('Home', 'Reset original view', 'home', 'home'), ('Back', 'Back to previous …"
      ]
     },
     "metadata": {},
     "output_type": "display_data"
    },
    {
     "name": "stdout",
     "output_type": "stream",
     "text": [
      "threhsolded image\n"
     ]
    },
    {
     "data": {
      "application/vnd.jupyter.widget-view+json": {
       "model_id": "22ced5a42a6c4602bb612397b623a1e7",
       "version_major": 2,
       "version_minor": 0
      },
      "text/plain": [
       "Canvas(toolbar=Toolbar(toolitems=[('Home', 'Reset original view', 'home', 'home'), ('Back', 'Back to previous …"
      ]
     },
     "metadata": {},
     "output_type": "display_data"
    },
    {
     "name": "stdout",
     "output_type": "stream",
     "text": [
      "extended tips\n"
     ]
    },
    {
     "data": {
      "application/vnd.jupyter.widget-view+json": {
       "model_id": "1699b79b87a9449db8ca9b1d4649f5dd",
       "version_major": 2,
       "version_minor": 0
      },
      "text/plain": [
       "Canvas(toolbar=Toolbar(toolitems=[('Home', 'Reset original view', 'home', 'home'), ('Back', 'Back to previous …"
      ]
     },
     "metadata": {},
     "output_type": "display_data"
    },
    {
     "name": "stdout",
     "output_type": "stream",
     "text": [
      "final_skel\n"
     ]
    },
    {
     "data": {
      "application/vnd.jupyter.widget-view+json": {
       "model_id": "7f8c867871c648c98d22c25b43860a2e",
       "version_major": 2,
       "version_minor": 0
      },
      "text/plain": [
       "Canvas(toolbar=Toolbar(toolitems=[('Home', 'Reset original view', 'home', 'home'), ('Back', 'Back to previous …"
      ]
     },
     "metadata": {},
     "output_type": "display_data"
    }
   ],
   "source": [
    "plt.close('all')\n",
    "\n",
    "#chose a spot where to look closer at\n",
    "linex  = 14228//5\n",
    "liney = 42191//5\n",
    "low = 40\n",
    "high = 80\n",
    "extend = 30\n",
    "dist = extend\n",
    "shape = (3000,4096)\n",
    "linex *= 5\n",
    "liney *= 5\n",
    "for index,im in enumerate(ims):\n",
    "    boundaries = int(tileconfig[2][index][0]-np.min(xs)),int(tileconfig[2][index][1]-np.min(ys))\n",
    "    if boundaries[1]<=linex< boundaries[1]+shape[0] and boundaries[0]<=liney< boundaries[0]+shape[1]:\n",
    "        print(index)\n",
    "        im_cropped = im\n",
    "#         im_blurred =cv2.GaussianBlur(im_cropped, (201, 201),50)\n",
    "        im_blurred =cv2.blur(im_cropped, (200, 200))\n",
    "        im_back_rem = (im_cropped)/((im_blurred==0)*np.ones(im_blurred.shape)+im_blurred)*120\n",
    "        im_back_rem[im_back_rem>=130]=130\n",
    "        # im_back_rem = im_cropped*1.0\n",
    "        # # im_back_rem = cv2.normalize(im_back_rem, None, 0, 255, cv2.NORM_MINMAX)\n",
    "        frangised = frangi(im_back_rem,sigmas=range(1,20,4))*255\n",
    "        # # frangised = cv2.normalize(frangised, None, 0, 255, cv2.NORM_MINMAX)\n",
    "        hessian = hessian_matrix_det(im_back_rem,sigma = 20)\n",
    "        blur_hessian = cv2.blur(abs(hessian), (20, 20))\n",
    "    #     transformed = (frangised+cv2.normalize(blur_hessian, None, 0, 255, cv2.NORM_MINMAX)-im_back_rem+120)*(im_blurred>=35)\n",
    "    #     transformed = (frangised+cv2.normalize(abs(hessian), None, 0, 255, cv2.NORM_MINMAX)-im_back_rem+120)*(im_blurred>=35)\n",
    "        transformed = (frangised-im_back_rem+120)*(im_blurred>=35)\n",
    "\n",
    "        lowt = (transformed > low).astype(int)\n",
    "        hight = (transformed > high).astype(int)\n",
    "        hyst = filters.apply_hysteresis_threshold(transformed, low, high)\n",
    "        kernel = np.ones((3,3),np.uint8)\n",
    "        dilation = cv2.dilate(hyst.astype(np.uint8) * 255,kernel,iterations = 1)\n",
    "        for i in range(3):\n",
    "            dilation=cv2.erode(dilation.astype(np.uint8) * 255,kernel,iterations = 1)\n",
    "            dilation = cv2.dilate(dilation.astype(np.uint8) * 255,kernel,iterations = 1)\n",
    "        dilated = dilation>0\n",
    "\n",
    "        nb_components, output, stats, centroids = cv2.connectedComponentsWithStats(dilated.astype(np.uint8), connectivity=8)\n",
    "        #connectedComponentswithStats yields every seperated component with information on each of them, such as size\n",
    "        #the following part is just taking out the background which is also considered a component, but most of the time we don't want that.\n",
    "        sizes = stats[1:, -1]; nb_components = nb_components - 1\n",
    "\n",
    "        # minimum size of particles we want to keep (number of pixels)\n",
    "        #here, it's a fixed value, but you can set it as you want, eg the mean of the sizes or whatever\n",
    "        min_size = 4000  \n",
    "\n",
    "        #your answer image\n",
    "        img2 = np.zeros((dilated.shape))\n",
    "        #for every component in the image, you keep it only if it's above min_size\n",
    "        for i in range(0, nb_components):\n",
    "            if sizes[i] >= min_size:\n",
    "                img2[output == i + 1] = 1\n",
    "        skeletonized = cv2.ximgproc.thinning(np.array(255*img2,dtype=np.uint8))\n",
    "        nx_g = generate_nx_graph(from_sparse_to_graph(scipy.sparse.dok_matrix(skeletonized)))\n",
    "        g,pos= nx_g\n",
    "        tips = [node for node in g.nodes if g.degree(node)==1]\n",
    "        dilated_bis = np.copy(img2)\n",
    "        for tip in tips:\n",
    "            branch = np.array(orient(g.get_edge_data(*list(g.edges(tip))[0])['pixel_list'],pos[tip]))\n",
    "            orientation = branch[0]-branch[min(branch.shape[0]-1,20)]\n",
    "            orientation = orientation/(np.linalg.norm(orientation))\n",
    "            window = 20\n",
    "            x,y = pos[tip][0],pos[tip][1]\n",
    "            if x-window>=0 and x+window< dilated.shape[0] and y-window>=0 and y+window< dilated.shape[1]:\n",
    "                shape_tip = dilated[x-window:x+window,y-window:y+window]\n",
    "    #             dist = 20\n",
    "                for i in range(dist):\n",
    "                    pixel = (pos[tip]+orientation*i).astype(int)\n",
    "                    xp,yp = pixel[0],pixel[1]\n",
    "                    if xp-window>=0 and xp+window< dilated.shape[0] and yp-window>=0 and yp+window< dilated.shape[1]:\n",
    "                        dilated_bis[xp-window:xp+window,yp-window:yp+window]+=shape_tip\n",
    "        dilation = cv2.dilate(dilated_bis.astype(np.uint8) * 255,kernel,iterations = 1)\n",
    "        for i in range(3):\n",
    "            dilation=cv2.erode(dilation.astype(np.uint8) * 255,kernel,iterations = 1)\n",
    "            dilation = cv2.dilate(dilation.astype(np.uint8) * 255,kernel,iterations = 1)\n",
    "        skeletonized = cv2.ximgproc.thinning(np.array(255*(dilation>0),dtype=np.uint8))\n",
    "        print('Raw image')\n",
    "        fig=plt.figure(figsize=(10,9))\n",
    "        ax = fig.add_subplot(111)\n",
    "        ax.imshow(-im,cmap = 'Greys')\n",
    "        print('Raw image with background removed')\n",
    "        fig=plt.figure(figsize=(10,9))\n",
    "        ax = fig.add_subplot(111)\n",
    "        ax.imshow(-im_back_rem,cmap = 'Greys')\n",
    "        print('frangised image')\n",
    "        fig=plt.figure(figsize=(10,9))\n",
    "        ax = fig.add_subplot(111)\n",
    "        ax.imshow(frangised,cmap = 'Greys')\n",
    "        print('final transformed image')\n",
    "        fig=plt.figure(figsize=(10,9))\n",
    "        ax = fig.add_subplot(111)\n",
    "        ax.imshow(transformed,cmap = 'Greys')\n",
    "        print('threhsolded image')\n",
    "        fig=plt.figure(figsize=(10,9))\n",
    "        ax = fig.add_subplot(111)\n",
    "        ax.imshow(dilated>0,cmap = 'Greys')\n",
    "        print('threhsolded image')\n",
    "        fig=plt.figure(figsize=(10,9))\n",
    "        \n",
    "        ax = fig.add_subplot(111)\n",
    "        ax.imshow(img2>0,cmap = 'Greys')\n",
    "        print('extended tips')\n",
    "        fig=plt.figure(figsize=(10,9))\n",
    "        ax = fig.add_subplot(111)\n",
    "        ax.imshow(dilated_bis>0,cmap = 'Greys')\n",
    "        print('final_skel')\n",
    "#         fig=plt.figure(figsize=(10,9))\n",
    "#         ax = fig.add_subplot(111)\n",
    "#         ax.imshow(cv2.normalize(abs(hessian), None, 0, 255, cv2.NORM_MINMAX)-255*dilated)\n",
    "        plot_t_tp1([],[],None,None,skeletonized,im_back_rem)"
   ]
  },
  {
   "cell_type": "code",
   "execution_count": 15,
   "metadata": {
    "collapsed": true,
    "jupyter": {
     "outputs_hidden": true,
     "source_hidden": true
    }
   },
   "outputs": [
    {
     "name": "stdout",
     "output_type": "stream",
     "text": [
      "73\n",
      "Raw image\n"
     ]
    },
    {
     "data": {
      "application/vnd.jupyter.widget-view+json": {
       "model_id": "74e4200a6dfc48b29211f980adfb1673",
       "version_major": 2,
       "version_minor": 0
      },
      "text/plain": [
       "Canvas(toolbar=Toolbar(toolitems=[('Home', 'Reset original view', 'home', 'home'), ('Back', 'Back to previous …"
      ]
     },
     "metadata": {},
     "output_type": "display_data"
    },
    {
     "name": "stdout",
     "output_type": "stream",
     "text": [
      "Raw image with background removed\n"
     ]
    },
    {
     "data": {
      "application/vnd.jupyter.widget-view+json": {
       "model_id": "f4bb961704bd487492bd2a2971c8fac2",
       "version_major": 2,
       "version_minor": 0
      },
      "text/plain": [
       "Canvas(toolbar=Toolbar(toolitems=[('Home', 'Reset original view', 'home', 'home'), ('Back', 'Back to previous …"
      ]
     },
     "metadata": {},
     "output_type": "display_data"
    },
    {
     "name": "stdout",
     "output_type": "stream",
     "text": [
      "frangised image\n"
     ]
    },
    {
     "data": {
      "application/vnd.jupyter.widget-view+json": {
       "model_id": "ddf85545ca61444e9923e0dce39182af",
       "version_major": 2,
       "version_minor": 0
      },
      "text/plain": [
       "Canvas(toolbar=Toolbar(toolitems=[('Home', 'Reset original view', 'home', 'home'), ('Back', 'Back to previous …"
      ]
     },
     "metadata": {},
     "output_type": "display_data"
    },
    {
     "name": "stdout",
     "output_type": "stream",
     "text": [
      "final transformed image\n"
     ]
    },
    {
     "data": {
      "application/vnd.jupyter.widget-view+json": {
       "model_id": "f0876d1c56fc48e9a1828fbc0679e490",
       "version_major": 2,
       "version_minor": 0
      },
      "text/plain": [
       "Canvas(toolbar=Toolbar(toolitems=[('Home', 'Reset original view', 'home', 'home'), ('Back', 'Back to previous …"
      ]
     },
     "metadata": {},
     "output_type": "display_data"
    },
    {
     "name": "stdout",
     "output_type": "stream",
     "text": [
      "threhsolded image\n"
     ]
    },
    {
     "data": {
      "application/vnd.jupyter.widget-view+json": {
       "model_id": "62696fe5519d4d15b7353d13bfdc94a6",
       "version_major": 2,
       "version_minor": 0
      },
      "text/plain": [
       "Canvas(toolbar=Toolbar(toolitems=[('Home', 'Reset original view', 'home', 'home'), ('Back', 'Back to previous …"
      ]
     },
     "metadata": {},
     "output_type": "display_data"
    },
    {
     "name": "stdout",
     "output_type": "stream",
     "text": [
      "threhsolded image\n"
     ]
    },
    {
     "data": {
      "application/vnd.jupyter.widget-view+json": {
       "model_id": "044910a8daa74b4da94b2c4dde156137",
       "version_major": 2,
       "version_minor": 0
      },
      "text/plain": [
       "Canvas(toolbar=Toolbar(toolitems=[('Home', 'Reset original view', 'home', 'home'), ('Back', 'Back to previous …"
      ]
     },
     "metadata": {},
     "output_type": "display_data"
    },
    {
     "name": "stdout",
     "output_type": "stream",
     "text": [
      "extended tips\n"
     ]
    },
    {
     "data": {
      "application/vnd.jupyter.widget-view+json": {
       "model_id": "a4652d89d1c04cb1b93551754e030804",
       "version_major": 2,
       "version_minor": 0
      },
      "text/plain": [
       "Canvas(toolbar=Toolbar(toolitems=[('Home', 'Reset original view', 'home', 'home'), ('Back', 'Back to previous …"
      ]
     },
     "metadata": {},
     "output_type": "display_data"
    },
    {
     "name": "stdout",
     "output_type": "stream",
     "text": [
      "final_skel\n"
     ]
    },
    {
     "data": {
      "application/vnd.jupyter.widget-view+json": {
       "model_id": "fa8a0eaf29654164ac8144c31a6ad156",
       "version_major": 2,
       "version_minor": 0
      },
      "text/plain": [
       "Canvas(toolbar=Toolbar(toolitems=[('Home', 'Reset original view', 'home', 'home'), ('Back', 'Back to previous …"
      ]
     },
     "metadata": {},
     "output_type": "display_data"
    }
   ],
   "source": [
    "plt.close('all')\n",
    "\n",
    "#chose a spot where to look closer at\n",
    "linex  = 3300\n",
    "liney = 3800\n",
    "\n",
    "shape = (3000,4096)\n",
    "linex *= 5\n",
    "liney *= 5\n",
    "for index,im in enumerate(ims):\n",
    "    boundaries = int(tileconfig[2][index][0]-np.min(xs)),int(tileconfig[2][index][1]-np.min(ys))\n",
    "    if boundaries[1]<=linex< boundaries[1]+shape[0] and boundaries[0]<=liney< boundaries[0]+shape[1]:\n",
    "        print(index)\n",
    "        im_cropped = im\n",
    "        im_blurred =cv2.blur(im_cropped, (200, 200))\n",
    "        im_back_rem = (im_cropped+1)/(im_blurred+1)*120\n",
    "        im_back_rem[im_back_rem>=130]=130\n",
    "        # # im_back_rem = im_cropped*1.0\n",
    "        # # # im_back_rem = cv2.normalize(im_back_rem, None, 0, 255, cv2.NORM_MINMAX)\n",
    "        frangised = frangi(im_back_rem,sigmas=range(1,20,4))*255\n",
    "        # # frangised = cv2.normalize(frangised, None, 0, 255, cv2.NORM_MINMAX)\n",
    "        hessian = hessian_matrix_det(im_back_rem,sigma = 20)\n",
    "        blur_hessian = cv2.blur(abs(hessian), (20, 20))\n",
    "    #     transformed = (frangised+cv2.normalize(blur_hessian, None, 0, 255, cv2.NORM_MINMAX)-im_back_rem+120)*(im_blurred>=35)\n",
    "    #     transformed = (frangised+cv2.normalize(abs(hessian), None, 0, 255, cv2.NORM_MINMAX)-im_back_rem+120)*(im_blurred>=35)\n",
    "        transformed = (frangised-im_back_rem+120)*(im_blurred>=35)\n",
    "        low = 40\n",
    "        high = 80\n",
    "        lowt = (transformed > low).astype(int)\n",
    "        hight = (transformed > high).astype(int)\n",
    "        hyst = filters.apply_hysteresis_threshold(transformed, low, high)\n",
    "        kernel = np.ones((3,3),np.uint8)\n",
    "        dilation = cv2.dilate(hyst.astype(np.uint8) * 255,kernel,iterations = 1)\n",
    "        for i in range(3):\n",
    "            dilation=cv2.erode(dilation.astype(np.uint8) * 255,kernel,iterations = 1)\n",
    "            dilation = cv2.dilate(dilation.astype(np.uint8) * 255,kernel,iterations = 1)\n",
    "        dilated = dilation>0\n",
    "        \n",
    "        nb_components, output, stats, centroids = cv2.connectedComponentsWithStats(dilated.astype(np.uint8), connectivity=8)\n",
    "        #connectedComponentswithStats yields every seperated component with information on each of them, such as size\n",
    "        #the following part is just taking out the background which is also considered a component, but most of the time we don't want that.\n",
    "        sizes = stats[1:, -1]; nb_components = nb_components - 1\n",
    "\n",
    "        # minimum size of particles we want to keep (number of pixels)\n",
    "        #here, it's a fixed value, but you can set it as you want, eg the mean of the sizes or whatever\n",
    "        min_size = 4000  \n",
    "\n",
    "        #your answer image\n",
    "        img2 = np.zeros((dilated.shape))\n",
    "        #for every component in the image, you keep it only if it's above min_size\n",
    "        for i in range(0, nb_components):\n",
    "            if sizes[i] >= min_size:\n",
    "                img2[output == i + 1] = 1\n",
    "        skeletonized = cv2.ximgproc.thinning(np.array(255*img2,dtype=np.uint8))\n",
    "        nx_g = generate_nx_graph(from_sparse_to_graph(scipy.sparse.dok_matrix(skeletonized)))\n",
    "        g,pos= nx_g\n",
    "        tips = [node for node in g.nodes if g.degree(node)==1]\n",
    "        dilated_bis = np.copy(img2)\n",
    "        for tip in tips:\n",
    "            branch = np.array(orient(g.get_edge_data(*list(g.edges(tip))[0])['pixel_list'],pos[tip]))\n",
    "            orientation = branch[0]-branch[min(branch.shape[0]-1,20)]\n",
    "            orientation = orientation/(np.linalg.norm(orientation))\n",
    "            window = 20\n",
    "            x,y = pos[tip][0],pos[tip][1]\n",
    "            if x-window>=0 and x+window< dilated.shape[0] and y-window>=0 and y+window< dilated.shape[1]:\n",
    "                shape_tip = dilated[x-window:x+window,y-window:y+window]\n",
    "                dist = 20\n",
    "                for i in range(dist):\n",
    "                    pixel = (pos[tip]+orientation*i).astype(int)\n",
    "                    xp,yp = pixel[0],pixel[1]\n",
    "                    if xp-window>=0 and xp+window< dilated.shape[0] and yp-window>=0 and yp+window< dilated.shape[1]:\n",
    "                        dilated_bis[xp-window:xp+window,yp-window:yp+window]+=shape_tip\n",
    "        dilation = cv2.dilate(dilated_bis.astype(np.uint8) * 255,kernel,iterations = 1)\n",
    "        for i in range(3):\n",
    "            dilation=cv2.erode(dilation.astype(np.uint8) * 255,kernel,iterations = 1)\n",
    "            dilation = cv2.dilate(dilation.astype(np.uint8) * 255,kernel,iterations = 1)\n",
    "        skeletonized = cv2.ximgproc.thinning(np.array(255*(dilation>0),dtype=np.uint8))\n",
    "        print('Raw image')\n",
    "        fig=plt.figure(figsize=(10,9))\n",
    "        ax = fig.add_subplot(111)\n",
    "        ax.imshow(im)\n",
    "        print('Raw image with background removed')\n",
    "        fig=plt.figure(figsize=(10,9))\n",
    "        ax = fig.add_subplot(111)\n",
    "        ax.imshow(im_back_rem)\n",
    "        print('frangised image')\n",
    "        fig=plt.figure(figsize=(10,9))\n",
    "        ax = fig.add_subplot(111)\n",
    "        ax.imshow(frangised)\n",
    "        print('final transformed image')\n",
    "        fig=plt.figure(figsize=(10,9))\n",
    "        ax = fig.add_subplot(111)\n",
    "        ax.imshow(transformed)\n",
    "        print('threhsolded image')\n",
    "        fig=plt.figure(figsize=(10,9))\n",
    "        ax = fig.add_subplot(111)\n",
    "        ax.imshow(dilated>0)\n",
    "        print('threhsolded image')\n",
    "        fig=plt.figure(figsize=(10,9))\n",
    "        \n",
    "        ax = fig.add_subplot(111)\n",
    "        ax.imshow(img2>0)\n",
    "        print('extended tips')\n",
    "        fig=plt.figure(figsize=(10,9))\n",
    "        ax = fig.add_subplot(111)\n",
    "        ax.imshow(dilated_bis)\n",
    "        print('final_skel')\n",
    "#         fig=plt.figure(figsize=(10,9))\n",
    "#         ax = fig.add_subplot(111)\n",
    "#         ax.imshow(cv2.normalize(abs(hessian), None, 0, 255, cv2.NORM_MINMAX)-255*dilated)\n",
    "        plot_t_tp1([],[],None,None,skeletonized,im_back_rem)"
   ]
  },
  {
   "cell_type": "markdown",
   "metadata": {},
   "source": [
    "***Mask baits and border of the petri dish***"
   ]
  },
  {
   "cell_type": "code",
   "execution_count": 7,
   "metadata": {},
   "outputs": [],
   "source": [
    "num_parallel = 4\n",
    "time = '5:00'\n",
    "thresh = 50\n",
    "args=[plate,thresh, directory]\n",
    "run_parallel('mask_skel.py',args,begin,end,num_parallel,time,'mask')"
   ]
  },
  {
   "cell_type": "markdown",
   "metadata": {},
   "source": [
    "***Check Masking***"
   ]
  },
  {
   "cell_type": "code",
   "execution_count": 18,
   "metadata": {},
   "outputs": [],
   "source": [
    "start = begin +40\n",
    "finish = start +1\n",
    "dates_datetime = get_dates_datetime(directory,plate)\n",
    "dates_datetime_chosen=dates_datetime[start:finish+1]\n",
    "dates = dates_datetime_chosen\n",
    "skels = []\n",
    "ims = []\n",
    "masks = []\n",
    "kernel = np.ones((5,5),np.uint8)\n",
    "itera = 1\n",
    "for date in dates:\n",
    "    directory_name = get_dirname(date,plate)\n",
    "    path_snap = directory + directory_name\n",
    "    skel_info = read_mat(path_snap+'/Analysis/skeleton_masked_compressed.mat')\n",
    "    skel = skel_info['skeleton']\n",
    "    skels.append(cv2.dilate(skel.astype(np.uint8),kernel,iterations = itera))\n",
    "    mask_info = read_mat(path_snap+'/Analysis/mask.mat')\n",
    "    mask = mask_info['mask']\n",
    "    masks.append(mask)\n",
    "    im = read_mat(path_snap+'/Analysis/raw_image.mat')['raw']\n",
    "    ims.append(im)"
   ]
  },
  {
   "cell_type": "code",
   "execution_count": 19,
   "metadata": {},
   "outputs": [
    {
     "data": {
      "application/vnd.jupyter.widget-view+json": {
       "model_id": "356a70eeda89497a881b21f359cd8040",
       "version_major": 2,
       "version_minor": 0
      },
      "text/plain": [
       "Canvas(toolbar=Toolbar(toolitems=[('Home', 'Reset original view', 'home', 'home'), ('Back', 'Back to previous …"
      ]
     },
     "metadata": {},
     "output_type": "display_data"
    }
   ],
   "source": [
    "plt.close('all')\n",
    "start = 0\n",
    "finish = start + 1\n",
    "for i in range(start,finish):\n",
    "    plot_t_tp1([], [], None, None,masks[i], ims[i])"
   ]
  },
  {
   "cell_type": "markdown",
   "metadata": {},
   "source": [
    "***Prune Graph***"
   ]
  },
  {
   "cell_type": "code",
   "execution_count": 7,
   "metadata": {},
   "outputs": [],
   "source": [
    "num_parallel = 20\n",
    "time = '50:00'\n",
    "threshold = 0.1\n",
    "args = [plate,threshold, directory]\n",
    "run_parallel('prune_skel.py',args,begin,end,num_parallel,time,'prune_graph')"
   ]
  },
  {
   "cell_type": "markdown",
   "metadata": {},
   "source": [
    "***Check Pruned Graphs***"
   ]
  },
  {
   "cell_type": "code",
   "execution_count": 4,
   "metadata": {},
   "outputs": [],
   "source": [
    "start = begin + 4\n",
    "finish = start +2\n",
    "dates_datetime = get_dates_datetime(directory,plate)\n",
    "dates_datetime_chosen=dates_datetime[start:finish+1]\n",
    "dates = dates_datetime_chosen\n",
    "skels = []\n",
    "ims = []\n",
    "kernel = np.ones((5,5),np.uint8)\n",
    "itera = 1\n",
    "for date in dates:\n",
    "    directory_name = get_dirname(date,plate)\n",
    "    path_snap=directory+directory_name\n",
    "    skel_info = read_mat(path_snap+'/Analysis/skeleton_pruned_compressed.mat')\n",
    "    skel = skel_info['skeleton']\n",
    "    skels.append(cv2.dilate(skel.astype(np.uint8),kernel,iterations = itera))\n",
    "    im = read_mat(path_snap+'/Analysis/raw_image.mat')['raw']\n",
    "    ims.append(im)"
   ]
  },
  {
   "cell_type": "code",
   "execution_count": 5,
   "metadata": {},
   "outputs": [
    {
     "name": "stderr",
     "output_type": "stream",
     "text": [
      "/home/cbisot/anaconda3/envs/test/lib/python3.7/site-packages/matplotlib/__init__.py:880: MatplotlibDeprecationWarning: \n",
      "nbagg.transparent\n",
      "  version, key, obj_type=\"rcparam\", alternative=alt_key)\n"
     ]
    },
    {
     "data": {
      "application/vnd.jupyter.widget-view+json": {
       "model_id": "bf71672248d14dbca8625aab8dee1956",
       "version_major": 2,
       "version_minor": 0
      },
      "text/plain": [
       "Canvas(toolbar=Toolbar(toolitems=[('Home', 'Reset original view', 'home', 'home'), ('Back', 'Back to previous …"
      ]
     },
     "metadata": {},
     "output_type": "display_data"
    },
    {
     "data": {
      "application/vnd.jupyter.widget-view+json": {
       "model_id": "28a4a678453d4ad7bfb394d21f4a9d04",
       "version_major": 2,
       "version_minor": 0
      },
      "text/plain": [
       "Canvas(toolbar=Toolbar(toolitems=[('Home', 'Reset original view', 'home', 'home'), ('Back', 'Back to previous …"
      ]
     },
     "metadata": {},
     "output_type": "display_data"
    }
   ],
   "source": [
    "plt.close('all')\n",
    "start = 0\n",
    "finish = start +2\n",
    "for i in range(start,finish):\n",
    "    plot_t_tp1([],[],None,None,skels[i],ims[i])"
   ]
  },
  {
   "cell_type": "code",
   "execution_count": 65,
   "metadata": {
    "jupyter": {
     "source_hidden": true
    }
   },
   "outputs": [
    {
     "data": {
      "application/vnd.jupyter.widget-view+json": {
       "model_id": "79550dae467747e19c9e11948c4eb427",
       "version_major": 2,
       "version_minor": 0
      },
      "text/plain": [
       "Canvas(toolbar=Toolbar(toolitems=[('Home', 'Reset original view', 'home', 'home'), ('Back', 'Back to previous …"
      ]
     },
     "metadata": {},
     "output_type": "display_data"
    }
   ],
   "source": [
    "plt.close('all')\n",
    "kernel = np.ones((5,5),np.uint8)\n",
    "for i in range(len(compressed)-1):\n",
    "    plot_t_tp1([],[],None,None,cv2.dilate(compressed[i].astype(np.uint8),kernel,iterations = 2),cv2.dilate(compressed[i+1].astype(np.uint8),kernel,iterations = 2))"
   ]
  },
  {
   "cell_type": "markdown",
   "metadata": {},
   "source": [
    "***Realign***"
   ]
  },
  {
   "cell_type": "code",
   "execution_count": 4,
   "metadata": {},
   "outputs": [],
   "source": [
    "num_parallel =16\n",
    "time = '1:00:00'\n",
    "thresh = 10000\n",
    "args=[plate, thresh, directory]\n",
    "run_parallel('final_alignment.py',args,begin,end,num_parallel,time,'realign')"
   ]
  },
  {
   "cell_type": "markdown",
   "metadata": {},
   "source": [
    "***Check Alignment***"
   ]
  },
  {
   "cell_type": "code",
   "execution_count": 18,
   "metadata": {},
   "outputs": [],
   "source": [
    "plt.close('all')\n",
    "start = 18\n",
    "finish = start +2\n",
    "dates_datetime = get_dates_datetime(directory,plate)\n",
    "dates_datetime_chosen=dates_datetime[start:finish+1]\n",
    "dates = dates_datetime_chosen\n",
    "dilateds=[]\n",
    "skels = []\n",
    "skel_docs = []\n",
    "Rs=[]\n",
    "ts=[]\n",
    "for date in dates[1:]:\n",
    "    directory_name = get_dirname(date,plate)\n",
    "    path_snap=directory+directory_name\n",
    "    skel_info = read_mat(path_snap+'/Analysis/skeleton.mat')\n",
    "    skel = skel_info['skeleton']\n",
    "    skels.append(skel)\n",
    "    skel_doc = sparse_to_doc(skel)\n",
    "    skel_docs.append(skel_doc)\n",
    "    transform = sio.loadmat(path_snap+'/Analysis/transform.mat')\n",
    "    R,t = transform['R'],transform['t']\n",
    "    Rs.append(R)\n",
    "    ts.append(t)\n",
    "# start = 0\n",
    "# for j in range(start,start + 5):\n",
    "#     print(dates[j],j+begin)\n",
    "#     skeleton1,skeleton2 = skel_docs[j],skel_docs[j+1]\n",
    "#     R,t = Rs[j],ts[j]\n",
    "#     skelet_pos = np.array(list(skeleton1.keys()))\n",
    "#     samples = np.random.choice(skelet_pos.shape[0],20000)\n",
    "#     X = np.transpose(skelet_pos[samples,:])\n",
    "#     skelet_pos = np.array(list(skeleton2.keys()))\n",
    "#     samples = np.random.choice(skelet_pos.shape[0],20000)\n",
    "#     Y = np.transpose(skelet_pos[samples,:])\n",
    "#     fig=plt.figure(figsize=(10,9))\n",
    "#     ax = fig.add_subplot(111)\n",
    "#     Yrep=np.transpose(np.transpose(np.dot(R,X))+t)\n",
    "#     ax.scatter(np.transpose(Yrep)[:,0],np.transpose(Yrep)[:,1])\n",
    "#     ax.scatter(np.transpose(Y)[:,0],np.transpose(Y)[:,1])"
   ]
  },
  {
   "cell_type": "markdown",
   "metadata": {},
   "source": [
    "***Create realigned Skeleton***"
   ]
  },
  {
   "cell_type": "code",
   "execution_count": 4,
   "metadata": {},
   "outputs": [],
   "source": [
    "num_parallel = 12\n",
    "time = '1:00:00'\n",
    "args = [plate, begin, end, directory]\n",
    "run_parallel('realign.py', args, begin, end, num_parallel, time, 'create_realign')"
   ]
  },
  {
   "cell_type": "markdown",
   "metadata": {},
   "source": [
    "***Check Fine Alignment***"
   ]
  },
  {
   "cell_type": "code",
   "execution_count": 5,
   "metadata": {},
   "outputs": [],
   "source": [
    "start = begin+30\n",
    "finish = start +2\n",
    "dates_datetime = get_dates_datetime(directory,plate)\n",
    "dates_datetime_chosen=dates_datetime[start:finish+1]\n",
    "dates = dates_datetime_chosen\n",
    "skels = []\n",
    "ims = []\n",
    "kernel = np.ones((5, 5), np.uint8)\n",
    "itera = 1\n",
    "for date in dates:\n",
    "    directory_name = get_dirname(date,plate)\n",
    "    path_snap = directory + directory_name\n",
    "    skel_info = read_mat(path_snap+'/Analysis/skeleton_realigned_compressed.mat')\n",
    "    skel = skel_info['skeleton']\n",
    "#     skels.append(skel)\n",
    "    skels.append(cv2.dilate(skel.astype(np.uint8),kernel,iterations = itera))\n",
    "    im = read_mat(path_snap+'/Analysis/raw_image.mat')['raw']\n",
    "    ims.append(im)\n"
   ]
  },
  {
   "cell_type": "code",
   "execution_count": 8,
   "metadata": {},
   "outputs": [
    {
     "name": "stderr",
     "output_type": "stream",
     "text": [
      "/home/cbisot/anaconda3/envs/test/lib/python3.7/site-packages/matplotlib/__init__.py:880: MatplotlibDeprecationWarning: \n",
      "nbagg.transparent\n",
      "  version, key, obj_type=\"rcparam\", alternative=alt_key)\n"
     ]
    },
    {
     "data": {
      "application/vnd.jupyter.widget-view+json": {
       "model_id": "4a22699368fc4b6095e90eb8ce3dad2a",
       "version_major": 2,
       "version_minor": 0
      },
      "text/plain": [
       "Canvas(toolbar=Toolbar(toolitems=[('Home', 'Reset original view', 'home', 'home'), ('Back', 'Back to previous …"
      ]
     },
     "metadata": {},
     "output_type": "display_data"
    }
   ],
   "source": [
    "plt.close('all')\n",
    "start = 0\n",
    "finish = start + 1\n",
    "for i in range(start, finish):\n",
    "    plot_t_tp1([],[],None,None,skels[i],skels[i+1])"
   ]
  },
  {
   "cell_type": "code",
   "execution_count": null,
   "metadata": {
    "jupyter": {
     "source_hidden": true
    }
   },
   "outputs": [],
   "source": [
    "plt.close('all')\n",
    "directory = \"/scratch/shared/mrozemul/Fiji.app/\" \n",
    "listdir=os.listdir(directory) \n",
    "list_dir_interest=[name for name in listdir if name.split('_')[-1]==f'Plate{0 if plate<10 else \"\"}{plate}']\n",
    "ss=[name.split('_')[0] for name in list_dir_interest]\n",
    "ff=[name.split('_')[1] for name in list_dir_interest]\n",
    "dates_datetime=[datetime(year=int(ss[i][:4]),month=int(ss[i][4:6]),day=int(ss[i][6:8]),hour=int(ff[i][0:2]),minute=int(ff[i][2:4])) for i in range(len(list_dir_interest))]\n",
    "dates_datetime.sort()\n",
    "begin = 0\n",
    "end = 20\n",
    "dates_datetime_chosen=dates_datetime[begin:end]\n",
    "dates = [f'{0 if date.month<10 else \"\"}{date.month}{0 if date.day<10 else \"\"}{date.day}_{0 if date.hour<10 else \"\"}{date.hour}{0 if date.minute<10 else \"\"}{date.minute}' for date in dates_datetime_chosen]\n",
    "zone = (13000,13000+5000+3000,20000,20000+5000+4096)\n",
    "skels_aligned = []\n",
    "for i,date in enumerate(dates):\n",
    "    directory_name=f'2020{dates[i]}_Plate{0 if plate<10 else \"\"}{plate}'\n",
    "    path_snap='/scratch/shared/mrozemul/Fiji.app/'+directory_name\n",
    "    skels_aligned.append(sio.loadmat(path_snap+'/Analysis/skeleton_realigned.mat')['skeleton'])\n",
    "for i in range(11,13):\n",
    "    plot_t_tp1([],[],None,None,skels_aligned[i][zone[0]:zone[1],zone[2]:zone[3]].todense(),skels_aligned[i+1][zone[0]:zone[1],zone[2]:zone[3]].todense())"
   ]
  },
  {
   "cell_type": "code",
   "execution_count": 20,
   "metadata": {
    "jupyter": {
     "source_hidden": true
    }
   },
   "outputs": [
    {
     "data": {
      "application/vnd.jupyter.widget-view+json": {
       "model_id": "fb707a339c0844d78c56bdeb44b449c6",
       "version_major": 2,
       "version_minor": 0
      },
      "text/plain": [
       "Canvas(toolbar=Toolbar(toolitems=[('Home', 'Reset original view', 'home', 'home'), ('Back', 'Back to previous …"
      ]
     },
     "metadata": {},
     "output_type": "display_data"
    },
    {
     "data": {
      "text/plain": [
       "<matplotlib.image.AxesImage at 0x2b197ba65c10>"
      ]
     },
     "execution_count": 20,
     "metadata": {},
     "output_type": "execute_result"
    }
   ],
   "source": [
    "plt.close('all')\n",
    "zone = (6000,13000,12000,22000)\n",
    "fig=plt.figure(figsize=(10,9))\n",
    "ax = fig.add_subplot(111)\n",
    "ax.imshow(skels_aligned[11][zone[0]:zone[1],zone[2]:zone[3]].todense())"
   ]
  },
  {
   "cell_type": "markdown",
   "metadata": {},
   "source": [
    "***Create graphs***"
   ]
  },
  {
   "cell_type": "code",
   "execution_count": 6,
   "metadata": {},
   "outputs": [],
   "source": [
    "num_parallel = 5\n",
    "time = '30:00'\n",
    "args=[plate, directory]\n",
    "run_parallel('extract_nx_graph.py',args,begin,end,num_parallel,time,'extract_nx')"
   ]
  },
  {
   "cell_type": "markdown",
   "metadata": {},
   "source": [
    "***Extract Width***"
   ]
  },
  {
   "cell_type": "code",
   "execution_count": 8,
   "metadata": {},
   "outputs": [],
   "source": [
    "num_parallel = 16\n",
    "time = '1:00:00'\n",
    "args = [plate,directory]\n",
    "run_parallel('extract_width.py',args,begin,end,num_parallel,time,'extract_width')"
   ]
  },
  {
   "cell_type": "markdown",
   "metadata": {},
   "source": [
    "***Identify Nodes***"
   ]
  },
  {
   "cell_type": "code",
   "execution_count": 7,
   "metadata": {},
   "outputs": [],
   "source": [
    "num_parallel = 1\n",
    "time = '12:00:00'\n",
    "args=[plate,begin,end, directory]\n",
    "run_parallel('extract_nodes.py',args,0,0,num_parallel,time,'node_id')"
   ]
  },
  {
   "cell_type": "markdown",
   "metadata": {},
   "source": [
    "***Check Node Id***"
   ]
  },
  {
   "cell_type": "code",
   "execution_count": 20,
   "metadata": {},
   "outputs": [],
   "source": [
    "dates_datetime = get_dates_datetime(directory,plate)\n",
    "dates_datetime_chosen = dates_datetime[begin:end+1]\n",
    "dates = dates_datetime_chosen\n",
    "exp = Experiment(plate)\n",
    "exp.load(dates)"
   ]
  },
  {
   "cell_type": "code",
   "execution_count": 21,
   "metadata": {},
   "outputs": [
    {
     "data": {
      "application/vnd.jupyter.widget-view+json": {
       "model_id": "dd74237c34fb4ac9a5809622ea8600a1",
       "version_major": 2,
       "version_minor": 0
      },
      "text/plain": [
       "Canvas(toolbar=Toolbar(toolitems=[('Home', 'Reset original view', 'home', 'home'), ('Back', 'Back to previous …"
      ]
     },
     "metadata": {},
     "output_type": "display_data"
    }
   ],
   "source": [
    "plt.close('all')\n",
    "t = 2\n",
    "nodes = np.random.choice(exp.nx_graph[t].nodes, 100)\n",
    "# exp.plot([t,t+1,t+2],[list(nodes)]*3)\n",
    "exp.plot([t,t+1,t+2],[nodes]*3)"
   ]
  },
  {
   "cell_type": "markdown",
   "metadata": {},
   "source": [
    "***Hyphae extraction***"
   ]
  },
  {
   "cell_type": "code",
   "execution_count": 9,
   "metadata": {},
   "outputs": [],
   "source": [
    "num_parallel = 1\n",
    "time = '2:00:00'\n",
    "args = [plate, begin, end, directory]\n",
    "run_parallel('hyphae_extraction.py',args,0,0,num_parallel,time,'hyphae')"
   ]
  },
  {
   "cell_type": "code",
   "execution_count": null,
   "metadata": {},
   "outputs": [],
   "source": []
  },
  {
   "cell_type": "markdown",
   "metadata": {},
   "source": [
    "***Check Hyphae***"
   ]
  },
  {
   "cell_type": "code",
   "execution_count": 6,
   "metadata": {},
   "outputs": [],
   "source": [
    "dates_datetime = get_dates_datetime(directory,plate)\n",
    "dates_datetime_chosen=dates_datetime[begin:end+1]\n",
    "dates = dates_datetime\n",
    "exp = pickle.load( open(f'{directory}Analysis_Plate{plate}_{dates[0]}_{dates[-1]}/experiment_{plate}.pick', \"rb\" ) )"
   ]
  },
  {
   "cell_type": "code",
   "execution_count": 17,
   "metadata": {},
   "outputs": [
    {
     "data": {
      "text/plain": [
       "[14, 15, 16, 17]"
      ]
     },
     "execution_count": 17,
     "metadata": {},
     "output_type": "execute_result"
    }
   ],
   "source": [
    "hyph = choice(exp.hyphaes)\n",
    "hyph.ts"
   ]
  },
  {
   "cell_type": "code",
   "execution_count": 18,
   "metadata": {},
   "outputs": [
    {
     "name": "stderr",
     "output_type": "stream",
     "text": [
      "/home/cbisot/anaconda3/envs/test/lib/python3.7/site-packages/matplotlib/__init__.py:880: MatplotlibDeprecationWarning: \n",
      "nbagg.transparent\n",
      "  version, key, obj_type=\"rcparam\", alternative=alt_key)\n"
     ]
    },
    {
     "data": {
      "application/vnd.jupyter.widget-view+json": {
       "model_id": "2e05c4fd35d74bc1a5a577a4701049db",
       "version_major": 2,
       "version_minor": 0
      },
      "text/plain": [
       "Canvas(toolbar=Toolbar(toolitems=[('Home', 'Reset original view', 'home', 'home'), ('Back', 'Back to previous …"
      ]
     },
     "metadata": {},
     "output_type": "display_data"
    }
   ],
   "source": [
    "plt.close('all')\n",
    "hyph.end.show_source_image(hyph.ts[-1],hyph.ts[-1])"
   ]
  },
  {
   "cell_type": "code",
   "execution_count": 19,
   "metadata": {},
   "outputs": [
    {
     "data": {
      "application/vnd.jupyter.widget-view+json": {
       "model_id": "ca00c5a74d4841fb9514084136fa0f48",
       "version_major": 2,
       "version_minor": 0
      },
      "text/plain": [
       "Canvas(toolbar=Toolbar(toolitems=[('Home', 'Reset original view', 'home', 'home'), ('Back', 'Back to previous …"
      ]
     },
     "metadata": {},
     "output_type": "display_data"
    }
   ],
   "source": [
    "plt.close('all')\n",
    "exp.plot([0,hyph.ts[-2],hyph.ts[-1]],[[hyph.root.label,hyph.end.label]]*3)"
   ]
  }
 ],
 "metadata": {
  "kernelspec": {
   "display_name": "Python 3",
   "language": "python",
   "name": "python3"
  },
  "language_info": {
   "codemirror_mode": {
    "name": "ipython",
    "version": 3
   },
   "file_extension": ".py",
   "mimetype": "text/x-python",
   "name": "python",
   "nbconvert_exporter": "python",
   "pygments_lexer": "ipython3",
   "version": "3.7.9"
  }
 },
 "nbformat": 4,
 "nbformat_minor": 4
}

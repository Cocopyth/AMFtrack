{
    "cells": [{
            "cell_type": "code",
            "execution_count": 2,
            "id": "60336d11-d670-4f9a-a15d-80b30ac8fb59",
            "metadata": {},
            "outputs": [],
            "source": [
                "%matplotlib widget\n",
                "\n",
                "import os  \n",
                "import sys  \n",
                "sys.path.insert(0, os.getenv('HOME')+'/pycode/MscThesis/')\n",
                "# sys.path.insert(0,r'C:\\Users\\coren\\Documents\\PhD\\Code\\AMFtrack')\n",
                "\n",
                "import pandas as pd\n",
                "from amftrack.util.sys import get_dates_datetime, get_dirname, temp_path, get_data_info, update_plate_info, \\\n",
                "get_current_folders, get_folders_by_plate_id\n",
                "\n",
                "\n",
                "import ast\n",
                "from amftrack.plotutil import plot_t_tp1\n",
                "from scipy import sparse\n",
                "from datetime import datetime\n",
                "import pickle\n",
                "import scipy.io as sio\n",
                "from pymatreader import read_mat\n",
                "from matplotlib import colors\n",
                "import cv2\n",
                "import imageio\n",
                "import matplotlib.pyplot as plt\n",
                "import numpy as np\n",
                "from skimage.filters import frangi\n",
                "from skimage import filters\n",
                "from random import choice\n",
                "import scipy.sparse\n",
                "import os\n",
                "from amftrack.pipeline.functions.image_processing.extract_graph import from_sparse_to_graph, generate_nx_graph, sparse_to_doc\n",
                "from skimage.feature import hessian_matrix_det\n",
                "from amftrack.pipeline.functions.image_processing.experiment_class_surf import Experiment\n",
                "from amftrack.pipeline.paths.directory import run_parallel, find_state, directory_scratch, directory_project, run_parallel_stitch"
            ]
        },
        {
            "cell_type": "code",
            "execution_count": 7,
            "id": "61a5fa53-1b51-4d4b-aaba-b39489196f5c",
            "metadata": {},
            "outputs": [],
            "source": [
                "directory = directory_project+'to_save/'\n",
                "directory = '/projects/0/einf914/to_save/'\n",
                "update_plate_info(directory)"
            ]
        },
        {
            "cell_type": "code",
            "execution_count": 6,
            "id": "008f5a3d-4eab-4ec7-affa-cddff9e1523a",
            "metadata": {},
            "outputs": [{
                "data": {
                    "text/plain": [
                        "'/projects/0/einf914/data/to_save/'"
                    ]
                },
                "execution_count": 6,
                "metadata": {},
                "output_type": "execute_result"
            }],
            "source": [
                "directory"
            ]
        },
        {
            "cell_type": "code",
            "execution_count": null,
            "id": "5603b16c-afb5-4329-9041-206914748637",
            "metadata": {},
            "outputs": [],
            "source": [
                "def run_parallel_post(code, list_f,list_args, args, folders, num_parallel, time, name,cpus = 128,node = 'thin',name_job = 'post'):\n",
                "    path_job = f'{path_bash}{name_job}'\n",
                "    op_id = time_ns()\n",
                "    folders.to_json(f'{temp_path}/{op_id}.json')# temporary file\n",
                "    pickle.dump((list_f,list_args), open(f'{temp_path}/{op_id}.pick', \"wb\"))\n",
                "    length = len(folders)\n",
                "    begin_skel = 0\n",
                "    end_skel = length // num_parallel + 1\n",
                "    args_str = [str(arg) for arg in args]\n",
                "    arg_str = \" \".join(args_str)\n",
                "    arg_str_out = \"_\".join([str(arg) for arg in args if type(arg)!=str])\n",
                "    for j in range(begin_skel, end_skel):\n",
                "        start = num_parallel * j\n",
                "        stop = num_parallel * j + num_parallel - 1\n",
                "        ide = time_ns()\n",
                "        my_file = open(path_job , \"w\")\n",
                "        my_file.write(\n",
                "            f\"#!/bin/bash \\n#Set job requirements \\n#SBATCH --nodes=1 \\n#SBATCH -t {time}\\n #SBATCH --ntask=1 \\n#SBATCH --cpus-per-task={cpus}\\n#SBATCH -p {node} \\n\"\n",
                "        )\n",
                "        my_file.write(\n",
                "            f'#SBATCH -o \"{path_code}slurm/{name}_{arg_str_out}_{start}_{stop}_{ide}.out\" \\n'\n",
                "        )\n",
                "        my_file.write(f\"source /home/cbisot/miniconda3/etc/profile.d/conda.sh\\n\")\n",
                "        my_file.write(f\"conda activate amftrack\\n\")\n",
                "        my_file.write(f\"for i in `seq {start} {stop}`; do\\n\")\n",
                "        my_file.write(f\"\\t python {path_code}amftrack/pipeline/scripts/post_processing/{code} {arg_str} {op_id} $i &\\n\")\n",
                "        my_file.write(\"done\\n\")\n",
                "        my_file.write(\"wait\\n\")\n",
                "        my_file.close()\n",
                "        call(f\"sbatch {path_job }\", shell=True)"
            ]
        }
    ],
    "metadata": {
        "kernelspec": {
            "display_name": "Python 3 (ipykernel)",
            "language": "python",
            "name": "python3"
        },
        "language_info": {
            "codemirror_mode": {
                "name": "ipython",
                "version": 3
            },
            "file_extension": ".py",
            "mimetype": "text/x-python",
            "name": "python",
            "nbconvert_exporter": "python",
            "pygments_lexer": "ipython3",
            "version": "3.7.11"
        }
    },
    "nbformat": 4,
    "nbformat_minor": 5
}
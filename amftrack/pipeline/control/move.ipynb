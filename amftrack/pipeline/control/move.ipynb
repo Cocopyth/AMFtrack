{
 "cells": [
  {
   "cell_type": "code",
   "execution_count": null,
   "id": "60336d11-d670-4f9a-a15d-80b30ac8fb59",
   "metadata": {
    "tags": []
   },
   "outputs": [],
   "source": [
    "%load_ext autoreload\n",
    "%autoreload 2\n",
    "from amftrack.pipeline.launching.run_super import (\n",
    "    run_launcher,\n",
    "    directory_scratch,\n",
    "    directory_project,\n",
    "    directory_project,\n",
    "    run_parallel_stitch,\n",
    "    run_parallel_transfer,\n",
    ")\n",
    "import os\n",
    "from amftrack.util.sys import (\n",
    "    get_dates_datetime,\n",
    "    get_dirname,\n",
    "    temp_path,\n",
    "    get_data_info,\n",
    "    update_plate_info,\n",
    "    update_analysis_info,\n",
    "    get_analysis_info,\n",
    "    get_current_folders,\n",
    "    get_folders_by_plate_id,\n",
    ")\n",
    "\n",
    "from time import time_ns\n",
    "\n",
    "from amftrack.util.dbx import upload_folders, load_dbx, download\n",
    "from datetime import datetime\n",
    "from amftrack.pipeline.launching.run_super import (\n",
    "    run_parallel,\n",
    "    directory_scratch,\n",
    "    directory_project,\n",
    "    run_parallel_stitch,\n",
    "    run_parallel_transfer_to_archive,\n",
    ")\n",
    "from amftrack.util.dbx import (\n",
    "    read_saved_dropbox_state,\n",
    "    get_dropbox_folders_prince,\n",
    "    get_dropbox_folders_prince,\n",
    "    save_dropbox_state,\n",
    "    get_dropbox_folders_general_recursive,\n",
    ")"
   ]
  },
  {
   "cell_type": "code",
   "execution_count": null,
   "id": "947643c1-666a-4bb4-ac71-0a4c8b11dd10",
   "metadata": {},
   "outputs": [],
   "source": [
    "import imageio\n",
    "\n",
    "path = (\n",
    "    r\"/scratch-shared/amftrack/stitch_temp/20230723_2342_Plate20/Img3/Img_r06_c14.tif\"\n",
    ")\n",
    "im = imageio.imread(path)"
   ]
  },
  {
   "cell_type": "code",
   "execution_count": null,
   "id": "d05df9ce-8edb-4eb5-b21e-f2754aa2d327",
   "metadata": {},
   "outputs": [],
   "source": [
    "%matplotlib widget\n",
    "import matplotlib.pyplot as plt\n",
    "\n",
    "plt.imshow(im)"
   ]
  },
  {
   "cell_type": "code",
   "execution_count": null,
   "id": "ec2475b7-aa14-4cf2-8562-84bbf2597226",
   "metadata": {
    "jupyter": {
     "outputs_hidden": true
    },
    "tags": []
   },
   "outputs": [],
   "source": [
    "dir_drop = \"DATA/PRINCE\"\n",
    "all_folders_drop = get_dropbox_folders_prince(\"/DATA/PRINCE\")"
   ]
  },
  {
   "cell_type": "code",
   "execution_count": null,
   "id": "c13ad175-931b-45b1-83e2-bd07ad20c3eb",
   "metadata": {},
   "outputs": [],
   "source": [
    "directory_targ = os.path.join(directory_scratch, \"temp\") + \"/\""
   ]
  },
  {
   "cell_type": "code",
   "execution_count": null,
   "id": "112b91da-5ec5-439e-96d6-c5ad1ca2135f",
   "metadata": {},
   "outputs": [],
   "source": [
    "plates = [\n",
    "    \"724_20220926\",\n",
    "    \"725_20221104\",\n",
    "    \"753_20221013\",\n",
    "    \"757_20221019\",\n",
    "    \"765_20221213\",\n",
    "    \"782_20230406\",\n",
    "    \"787_202304021\",\n",
    "    \"793_20230317\",\n",
    "    \"795_20230403\",\n",
    "    \"797_20230421\",\n",
    "    \"802_20230504\",\n",
    "    \"812_20230404\",\n",
    "    \"818_20220301\",\n",
    "    \"823_20220304\",\n",
    "    \"826_20220304\",\n",
    "    \"832_20220419\",\n",
    "    \"845_20220222\",\n",
    "    \"845_20230320\",\n",
    "    \"854_20220222\",\n",
    "    \"859_20230401\",\n",
    "    \"866_20220315\",\n",
    "    \"875_20220301\",\n",
    "    \"878_20220222\",\n",
    "    \"878_20230501\",\n",
    "    \"883_20220328\",\n",
    "    \"887_2022033\",\n",
    "    \"887_20230501\",\n",
    "    \"889_20230504\",\n",
    "    \"899_20230612\",\n",
    "    \"901_20230522\",\n",
    "    \"905_20230525\",\n",
    "    \"916_20230530\",\n",
    "    \"922_202305030\",\n",
    "    \"928_20230707\",\n",
    "    \"931_20220402\",\n",
    "    \"933_20230623\",\n",
    "    \"936_20230602\",\n",
    "    \"939_20230623\",\n",
    "    \"940_20230605\",\n",
    "    \"947_20230706\",\n",
    "    \"953_20220301\",\n",
    "    \"954_20230717\",\n",
    "]\n",
    "plates = [\n",
    "    \"992_20220225\",\n",
    "    \"1001_20220304\",\n",
    "    \"1007_20220301\",\n",
    "    \"1016_20220509\",\n",
    "    \"1039_20220516\",\n",
    "    \"1063_20220705\",\n",
    "]\n",
    "folders_drop = all_folders_drop.loc[all_folders_drop[\"unique_id\"].isin(plates)]"
   ]
  },
  {
   "cell_type": "code",
   "execution_count": null,
   "id": "75b92b6f-8bd1-4122-a27d-5944b5fab2a4",
   "metadata": {
    "jupyter": {
     "outputs_hidden": true
    },
    "tags": []
   },
   "outputs": [],
   "source": [
    "folders_drop"
   ]
  },
  {
   "cell_type": "code",
   "execution_count": null,
   "id": "00bafe2f-09e3-485a-8807-f1da31995b62",
   "metadata": {},
   "outputs": [],
   "source": [
    "plates_paper = [\n",
    "    \"3_20220426\",\n",
    "    \"12_20220502\",\n",
    "    \"16_20220419\",\n",
    "    \"480_20221205\",\n",
    "]\n",
    "plates_paper += [\n",
    "    \"52_20220707\",\n",
    "    \"56_20220701\",\n",
    "    \"59_20201126\",\n",
    "    \"69_20201119\",\n",
    "    \"76_20210108\",\n",
    "    \"81_20220704\",\n",
    "    \"84_20220621\",\n",
    "    \"94_20201123\",\n",
    "    \"102_20201226\",\n",
    "    \"152_20201224\",\n",
    "    \"792_20210915\",\n",
    "    \"1076_20220511\",\n",
    "    \"941_20220404\",\n",
    "]\n",
    "plates_paper += [\n",
    "    \"1014_20220525\",\n",
    "    \"1023_20220502\",\n",
    "    \"1042_20220523\",\n",
    "    \"1045_20220504\",\n",
    "    \"1048_20220506\",\n",
    "    \"1053_20220413\",\n",
    "    \"127_20220705\",\n",
    "    \"130_20220707\",\n",
    "    \"30_20220509\",\n",
    "    \"32_20220428\",\n",
    "    \"33_20220502\",\n",
    "    \"800_20210928\",\n",
    "]"
   ]
  },
  {
   "cell_type": "code",
   "execution_count": null,
   "id": "3c88ed31-dce6-44ca-a7c0-62bf27c0c261",
   "metadata": {
    "tags": []
   },
   "outputs": [],
   "source": [
    "select = all_folders_drop.loc[all_folders_drop[\"CrossDate\"] <= \"20220101\"]\n",
    "print(len(select))\n",
    "select = select.loc[~select[\"unique_id\"].isin(plates_paper)]\n",
    "print(len(select))\n",
    "plates_to_move = select[\"unique_id\"].unique()\n",
    "# plates_to_move = plates_to_move[0*len(plates_to_move)//2:1*len(plates_to_move)//2]\n",
    "folders_drop = all_folders_drop.loc[all_folders_drop[\"unique_id\"].isin(plates_to_move)]\n",
    "len(folders_drop)"
   ]
  },
  {
   "cell_type": "code",
   "execution_count": null,
   "id": "d5bc8eba-7a02-4404-b174-f03c30f1ba17",
   "metadata": {
    "jupyter": {
     "outputs_hidden": true
    },
    "tags": []
   },
   "outputs": [],
   "source": [
    "plates = os.listdir(\"/scratch-shared/amftrack/to_tape\")\n",
    "folders_drop = all_folders_drop.loc[all_folders_drop[\"unique_id\"].isin(plates)]\n",
    "folders_drop"
   ]
  },
  {
   "cell_type": "code",
   "execution_count": null,
   "id": "8398e76c-dbb2-4722-8308-2b27608ddf28",
   "metadata": {
    "jupyter": {
     "outputs_hidden": true
    },
    "tags": []
   },
   "outputs": [],
   "source": [
    "folders = folders_drop\n",
    "\n",
    "directory_targ = os.path.join(directory_scratch, \"to_tape\") + \"/\"\n",
    "directory = directory_targ\n",
    "run_parallel_transfer(\n",
    "    \"from_drop_unflatten.py\",\n",
    "    [directory_targ],\n",
    "    folders,\n",
    "    20,\n",
    "    \"2:00:00\",\n",
    "    \"staging\",\n",
    "    cpus=1,\n",
    "    node=\"staging\",\n",
    "    name_job=\"archiving.sh\",\n",
    ")\n",
    "# run_parallel_transfer_to_archive(\n",
    "#     folders, directory, \"10:00\", \"staging\", dependency=\"archiving.sh\"\n",
    "# )"
   ]
  },
  {
   "cell_type": "code",
   "execution_count": null,
   "id": "2913da5f-180c-4910-98be-12c5820c2dbb",
   "metadata": {
    "jupyter": {
     "outputs_hidden": true
    },
    "tags": []
   },
   "outputs": [],
   "source": [
    "plates_to_move"
   ]
  },
  {
   "cell_type": "code",
   "execution_count": null,
   "id": "7d46a4c9-7a48-49b4-957c-8a6a13ad4e81",
   "metadata": {},
   "outputs": [],
   "source": [
    "folders_drop[\"unique_id\"].unique()"
   ]
  },
  {
   "cell_type": "code",
   "execution_count": null,
   "id": "d1f38bd4-f416-442c-8649-ce2a11b19ea4",
   "metadata": {
    "jupyter": {
     "outputs_hidden": true
    },
    "tags": []
   },
   "outputs": [],
   "source": [
    "directory_targ = os.path.join(directory_scratch, \"to_tape\") + \"/\"\n",
    "plates = list(folders_drop[\"unique_id\"].unique())\n",
    "folders = folders_drop\n",
    "\n",
    "run_parallel_transfer_to_archive(\n",
    "    folders, directory_targ, \"6:00:00\", \"staging\", dependency=None, plates=plates\n",
    ")"
   ]
  },
  {
   "cell_type": "code",
   "execution_count": null,
   "id": "57b763a9-3bdd-4efb-a4ac-90d87bb1976a",
   "metadata": {},
   "outputs": [],
   "source": [
    "plates_to_move = plates"
   ]
  },
  {
   "cell_type": "code",
   "execution_count": null,
   "id": "4c7a418f-45c4-4409-8aa2-3cddddb25c76",
   "metadata": {
    "jupyter": {
     "outputs_hidden": true
    },
    "tags": []
   },
   "outputs": [],
   "source": [
    "dbx = load_dbx()\n",
    "\n",
    "for plate in plates_to_move:\n",
    "    try:\n",
    "        dbx.files_delete_v2(f\"/data/prince/{plate}\")\n",
    "    except:\n",
    "        pass"
   ]
  }
 ],
 "metadata": {
  "kernelspec": {
   "display_name": "Python 3 (ipykernel)",
   "language": "python",
   "name": "python3"
  },
  "language_info": {
   "codemirror_mode": {
    "name": "ipython",
    "version": 3
   },
   "file_extension": ".py",
   "mimetype": "text/x-python",
   "name": "python",
   "nbconvert_exporter": "python",
   "pygments_lexer": "ipython3",
   "version": "3.7.13"
  }
 },
 "nbformat": 4,
 "nbformat_minor": 5
}

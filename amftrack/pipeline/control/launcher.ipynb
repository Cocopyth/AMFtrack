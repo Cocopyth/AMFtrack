{
 "cells": [
  {
   "cell_type": "code",
   "execution_count": null,
   "id": "b608afbc-ca48-476f-a966-f94e310ea7ab",
   "metadata": {
    "tags": []
   },
   "outputs": [],
   "source": [
    "%load_ext autoreload\n",
    "%autoreload 2\n",
    "from amftrack.pipeline.launching.run_super import (\n",
    "    run_launcher,\n",
    "    directory_scratch,\n",
    "    directory_project,\n",
    "    directory_project,\n",
    "    run_parallel_stitch,\n",
    "    run_parallel_transfer,\n",
    ")\n",
    "import os\n",
    "from amftrack.util.sys import (\n",
    "    get_dates_datetime,\n",
    "    get_dirname,\n",
    "    temp_path,\n",
    "    get_data_info,\n",
    "    update_plate_info,\n",
    "    update_analysis_info,\n",
    "    get_analysis_info,\n",
    "    get_current_folders,\n",
    "    get_folders_by_plate_id,\n",
    ")\n",
    "\n",
    "from time import time_ns\n",
    "\n",
    "from amftrack.util.dbx import upload_folders, load_dbx, download\n",
    "from datetime import datetime\n",
    "from amftrack.pipeline.launching.run_super import (\n",
    "    run_parallel,\n",
    "    directory_scratch,\n",
    "    directory_project,\n",
    "    run_parallel_stitch,\n",
    ")\n",
    "from amftrack.util.dbx import (\n",
    "    read_saved_dropbox_state,\n",
    "    get_dropbox_folders_prince,\n",
    "    get_dropbox_folders_prince,\n",
    "    save_dropbox_state,\n",
    "    get_dropbox_folders_general_recursive,\n",
    ")"
   ]
  },
  {
   "cell_type": "code",
   "execution_count": null,
   "id": "d0ab6300-0f4b-44fa-8bc8-ded8f88ae68c",
   "metadata": {},
   "outputs": [],
   "source": [
    "# cut\n",
    "plates = [\n",
    "    \"449_20230807\",\n",
    "]\n",
    "directory_targ = \"/projects/0/einf914/transport/\""
   ]
  },
  {
   "cell_type": "code",
   "execution_count": null,
   "id": "50c944da-ef14-4242-b6ac-48aea758abbb",
   "metadata": {},
   "outputs": [],
   "source": [
    "directory_targ = directory_project\n",
    "# directory_targ = directory_project+'transport/'\n",
    "# directory_targ = '/projects/0/einf914/transport/'"
   ]
  },
  {
   "cell_type": "code",
   "execution_count": null,
   "id": "4ac28444-9ba0-407d-93cd-b27d9e51ef73",
   "metadata": {
    "tags": []
   },
   "outputs": [],
   "source": [
    "# A5s\n",
    "\n",
    "plates = [\n",
    "    \"142_20240327\",\n",
    "    \"143_20240330\",\n",
    "    \"613_20240330\",\n",
    "    \"621_20240330\",\n",
    "]\n",
    "directory_targ = directory_project\n"
   ]
  },
  {
   "cell_type": "code",
   "execution_count": null,
   "id": "79fdc066-12e4-4708-a4f7-9d681e55ee14",
   "metadata": {
    "tags": []
   },
   "outputs": [],
   "source": [
    "# A5s\n",
    "\n",
    "plates = [\n",
    "    # \"195_20240219\",\n",
    "    # \"183_20240219\",\n",
    "    # \"215_20240212\",\n",
    "    # \"171_20240212\",\n",
    "    # \"123_20240209\",\n",
    "    # \"203_20240216\",\n",
    "    # \"103_20240228\",\n",
    "    \"68_20230501\",\n",
    "    # \"135_20240228\",\n",
    "]\n",
    "plates += [\n",
    "# \"440_20240306\",\n",
    "# \"435_20240223\",\n",
    "# \"441_20240329\",\n",
    "# \"443_20240304\",\n",
    "]\n",
    "directory_targ = os.path.join(directory_scratch, \"stitch_temp\") + \"/\""
   ]
  },
  {
   "cell_type": "code",
   "execution_count": null,
   "id": "a0cd5156-1751-427c-a19f-84644c5e34e6",
   "metadata": {
    "jupyter": {
     "outputs_hidden": true
    },
    "tags": []
   },
   "outputs": [],
   "source": [
    "dir_drop = \"DATA/PRINCE\"\n",
    "all_folders_drop = get_dropbox_folders_prince(\"/DATA/PRINCE\")\n",
    "folders_drop = all_folders_drop.loc[all_folders_drop[\"unique_id\"].isin(plates)]\n",
    "update_plate_info(directory_targ, local=True, strong_constraint=False)\n",
    "all_folders = get_current_folders(directory_targ, local=True)\n",
    "# if len(all_folders) > 0:\n",
    "folders = all_folders.loc[all_folders[\"unique_id\"].isin(plates)]\n",
    "folders_drop2 = folders_drop.loc[~folders_drop[\"folder\"].isin(folders[\"folder\"])]\n",
    "folders_drop3 = folders_drop2.loc[~folders_drop2[\"folder\"].str.contains(\"Analysis\")]"
   ]
  },
  {
   "cell_type": "code",
   "execution_count": null,
   "id": "86255f52-7362-40a0-aafe-d9de5ec0a2d1",
   "metadata": {
    "tags": []
   },
   "outputs": [],
   "source": [
    "update_plate_info(directory_targ, local=True, strong_constraint=False)\n",
    "all_folders = get_current_folders(directory_targ, local=True)\n",
    "# if len(all_folders) > 0:\n",
    "# folders = all_folders.loc[all_folders[\"unique_id\"].isin(plates)]"
   ]
  },
  {
   "cell_type": "code",
   "execution_count": null,
   "id": "3abc3b3c-25fa-49ee-a57c-4d23f4b8b49e",
   "metadata": {
    "tags": []
   },
   "outputs": [],
   "source": [
    "folders = all_folders.loc[all_folders[\"unique_id\"].isin(plates)]\n",
    "# folders = folders.sort_values(\"datetime\")"
   ]
  },
  {
   "cell_type": "code",
   "execution_count": null,
   "id": "9dc01234-c790-4a92-865a-f767e7ba7474",
   "metadata": {
    "tags": []
   },
   "outputs": [],
   "source": [
    "all_folders_drop"
   ]
  },
  {
   "cell_type": "code",
   "execution_count": null,
   "id": "63d6ad24-b004-4075-a8eb-5e6597809570",
   "metadata": {
    "tags": []
   },
   "outputs": [],
   "source": [
    "import shutil\n",
    "\n",
    "folders = all_folders.loc[all_folders[\"unique_id\"].isin(plates)]\n",
    "# folders = all_folders\n",
    "\n",
    "for path in folders[\"total_path\"]:\n",
    "    shutil.rmtree(path)"
   ]
  },
  {
   "cell_type": "code",
   "execution_count": null,
   "id": "2c7d9788-67e0-4df7-b5cc-c2c2bdd816b9",
   "metadata": {
    "tags": []
   },
   "outputs": [],
   "source": [
    "# name_job = f\"441Tryone_{time_ns()}.sh\"\n",
    "# name_job = f\"chicory\"\n",
    "name_job = f\"Myr\"\n",
    "\n",
    "run_launcher(\n",
    "    \"dropbox_downloader.py\",\n",
    "    [directory_targ, name_job, -1, \"post_processer_choice.py\"],\n",
    "    plates,\n",
    "    \"12:00:00\",\n",
    "    name_job=name_job,\n",
    "    dependency=True,\n",
    ")"
   ]
  },
  {
   "cell_type": "code",
   "execution_count": null,
   "id": "75fd7145-988e-4391-8e18-83c016f22843",
   "metadata": {
    "tags": []
   },
   "outputs": [],
   "source": [
    "name_job = f\"one_shot_{time_ns()}.sh\"\n",
    "name_job = \"cut\"\n",
    "\n",
    "run_launcher(\n",
    "    \"dropbox_downloader.py\",\n",
    "    [directory_targ, name_job, 2, \"stitcher.py\"],\n",
    "    plates,\n",
    "    \"12:00:00\",\n",
    "    name_job=name_job,\n",
    "    dependency=True,\n",
    ")\n",
    "# run_launcher('dropbox_uploader.py',[directory_targ,name_job],plates,'40:00',dependency=True,name_job = name_job)"
   ]
  },
  {
   "cell_type": "code",
   "execution_count": null,
   "id": "e62ee18b-eff8-4131-8c5d-849c3f74e1b3",
   "metadata": {
    "tags": []
   },
   "outputs": [],
   "source": [
    "plates"
   ]
  },
  {
   "cell_type": "code",
   "execution_count": null,
   "id": "76d8e1b4-7141-4dc4-929b-16b83ccd5643",
   "metadata": {
    "tags": []
   },
   "outputs": [],
   "source": [
    "name_job = f\"one_shot_{time_ns()}.sh\"\n",
    "name_job = \"A5sup2\"\n",
    "\n",
    "run_launcher(\n",
    "    \"dropbox_downloader.py\",\n",
    "    [directory_targ, name_job, 30, \"post_processer_1.py\"],\n",
    "    plates,\n",
    "    \"12:00:00\",\n",
    "    name_job=name_job,\n",
    "    dependency=True,\n",
    ")\n",
    "# run_launcher('dropbox_uploader.py',[directory_targ,name_job],plates,'40:00',dependency=True,name_job = name_job)"
   ]
  },
  {
   "cell_type": "code",
   "execution_count": null,
   "id": "36d218c1-f900-4275-910a-f33f445549c2",
   "metadata": {},
   "outputs": [],
   "source": [
    "directory_targ"
   ]
  },
  {
   "cell_type": "code",
   "execution_count": null,
   "id": "d267c73f-6c9a-4fe3-a448-fc70ef25401a",
   "metadata": {
    "tags": []
   },
   "outputs": [],
   "source": [
    "name_job = \"rerealign\"\n",
    "run_launcher(\n",
    "    \"realigner.py\",\n",
    "    [directory_targ, name_job, 20],\n",
    "    plates,\n",
    "    \"24:00:00\",\n",
    "    dependency=True,\n",
    "    name_job=name_job,\n",
    ")"
   ]
  },
  {
   "cell_type": "code",
   "execution_count": null,
   "id": "2fc6efc4-112b-4e8c-bd74-391a8b90849e",
   "metadata": {
    "tags": []
   },
   "outputs": [],
   "source": [
    "name_job = \"Myr\"\n",
    "run_launcher(\n",
    "    \"stitcher_myr.py\",\n",
    "    [directory_targ, name_job, 1],\n",
    "    plates,\n",
    "    \"24:00:00\",\n",
    "    dependency=True,\n",
    "    name_job=name_job,\n",
    ")"
   ]
  },
  {
   "cell_type": "code",
   "execution_count": null,
   "id": "1bfa768c-89ce-4497-ad30-f9e8b11b2d4e",
   "metadata": {
    "tags": []
   },
   "outputs": [],
   "source": [
    "plates"
   ]
  },
  {
   "cell_type": "code",
   "execution_count": null,
   "id": "c9d10c60-0456-4119-ba3e-9e434525100f",
   "metadata": {},
   "outputs": [],
   "source": [
    "name_job = \"upload\"\n",
    "run_launcher(\n",
    "    \"analysis_uploader_no_upload.py\",\n",
    "    [directory_targ, name_job, 1],\n",
    "    plates,\n",
    "    \"6:00:00\",\n",
    "    dependency=True,\n",
    "    name_job=name_job,\n",
    ")"
   ]
  },
  {
   "cell_type": "code",
   "execution_count": null,
   "id": "638a0477-4b67-444c-a63b-df2170958589",
   "metadata": {},
   "outputs": [],
   "source": [
    "folders = all_folders.loc[all_folders[\"unique_id\"].isin(plates)]\n",
    "len(folders)"
   ]
  },
  {
   "cell_type": "code",
   "execution_count": null,
   "id": "0dcd3a3e-0851-449c-8dbf-124d65c47124",
   "metadata": {
    "tags": []
   },
   "outputs": [],
   "source": [
    "update_analysis_info(directory_targ)\n",
    "analysis_info = get_analysis_info(directory_targ)\n",
    "analysis_folders = analysis_info.loc[analysis_info[\"unique_id\"].isin(plates)]"
   ]
  },
  {
   "cell_type": "code",
   "execution_count": null,
   "id": "f598f7d8-9648-4af1-83c4-5c85a21c95cf",
   "metadata": {},
   "outputs": [],
   "source": [
    "analysis_folders"
   ]
  },
  {
   "cell_type": "code",
   "execution_count": null,
   "id": "bdaca24f-5eed-4fe0-9edc-fb6803232fe2",
   "metadata": {
    "jupyter": {
     "outputs_hidden": true
    },
    "tags": []
   },
   "outputs": [],
   "source": [
    "name_job = \"agg_clarum\"\n",
    "folders = folders.loc[folders[\"/Img/TileConfiguration.txt.registered\"] == True]\n",
    "num_parallel = 100\n",
    "time = \"6:00:00\"\n",
    "hyph_width = 30\n",
    "perc_low = 85\n",
    "perc_high = 99.5\n",
    "minlow = 10\n",
    "minhigh = 70\n",
    "\n",
    "args = [hyph_width, perc_low, perc_high, minlow, minhigh, directory_targ]\n",
    "run_parallel(\n",
    "    \"extract_skel_2.py\",\n",
    "    args,\n",
    "    folders,\n",
    "    num_parallel,\n",
    "    time,\n",
    "    \"skeletonization\",\n",
    "    cpus=128,\n",
    "    node=\"fat\",\n",
    "    name_job=name_job,\n",
    ")"
   ]
  },
  {
   "cell_type": "code",
   "execution_count": null,
   "id": "2c9ce086-223f-475c-86fb-f8ec89f323d1",
   "metadata": {},
   "outputs": [],
   "source": [
    "folders = all_folders.loc[all_folders[\"unique_id\"].isin(plates)]\n",
    "print(len(folders))\n",
    "folders = folders.loc[folders[\"/Analysis/nx_graph_pruned_labeled.p\"] == True]\n",
    "print(len(folders))"
   ]
  },
  {
   "cell_type": "code",
   "execution_count": null,
   "id": "6342ba2e-ffbb-469e-bab7-22cf72610f79",
   "metadata": {
    "tags": []
   },
   "outputs": [],
   "source": [
    "for plate in plates:\n",
    "    folders = all_folders.loc[all_folders[\"unique_id\"] == plate]\n",
    "    folders1 = folders.loc[folders[\"/Analysis/nx_graph_pruned_labeled.p\"] == True]\n",
    "    folders2 = folders.loc[folders[\"/Analysis/skeleton_compressed.mat\"] == True]\n",
    "    print(\n",
    "        plate,\n",
    "        len(folders1),\n",
    "        len(folders2),\n",
    "        folders1[\"folder\"].sort_values().iloc[0],\n",
    "        folders2[\"folder\"].sort_values().iloc[0],\n",
    "    )\n",
    "    # if plate == '13_20220422':\n",
    "    #     break"
   ]
  },
  {
   "cell_type": "code",
   "execution_count": null,
   "id": "1e2c1213-6d85-4cac-859d-84748ba0f661",
   "metadata": {},
   "outputs": [],
   "source": [
    "folders1[\"folder\"].sort_values(), folders2[\"folder\"]"
   ]
  },
  {
   "cell_type": "code",
   "execution_count": null,
   "id": "78c307f0-b57d-454a-9f9a-29b11118332f",
   "metadata": {},
   "outputs": [],
   "source": [
    "folders = all_folders"
   ]
  },
  {
   "cell_type": "code",
   "execution_count": null,
   "id": "4f2220bf-6085-4b02-9564-dc097162802a",
   "metadata": {
    "tags": []
   },
   "outputs": [],
   "source": [
    "name_job = \"empty\"\n",
    "dir_drop = \"DATA/PRINCE\"\n",
    "delete = True\n",
    "run_parallel_transfer(\n",
    "    \"toward_drop.py\",\n",
    "    [dir_drop, delete],\n",
    "    folders,\n",
    "    70,\n",
    "    \"24:00:00\",\n",
    "    \"staging\",\n",
    "    cpus=1,\n",
    "    node=\"staging\",\n",
    "    name_job=name_job,\n",
    ")"
   ]
  },
  {
   "cell_type": "code",
   "execution_count": null,
   "id": "14d64989-c933-494e-84c4-0d25b6709f1b",
   "metadata": {
    "tags": []
   },
   "outputs": [],
   "source": [
    "plates = [plate for plate in all_folders[\"unique_id\"].unique() if plate not in plates]"
   ]
  },
  {
   "cell_type": "code",
   "execution_count": null,
   "id": "6b0c0db3-50bf-4f92-ba08-f336012b0ec2",
   "metadata": {},
   "outputs": [],
   "source": [
    "from amftrack.pipeline.launching.run_super import (\n",
    "    run_parallel,\n",
    "    run_launcher,\n",
    "    run_parallel_all_time,\n",
    ")\n",
    "\n",
    "args = [directory_targ]\n",
    "num_parallel = 32\n",
    "name_job = \"agg_rerun\"\n",
    "time = \"6:00:00\"\n",
    "run_parallel_all_time(\n",
    "    \"make_labeled_graphs.py\",\n",
    "    args,\n",
    "    folders,\n",
    "    num_parallel,\n",
    "    time,\n",
    "    \"make_graphs\",\n",
    "    cpus=32,\n",
    "    node=\"thin\",\n",
    "    dependency=True,\n",
    "    name_job=name_job,\n",
    ")"
   ]
  },
  {
   "cell_type": "code",
   "execution_count": null,
   "id": "89a5397f-125b-4b74-bcad-f64faf4c307e",
   "metadata": {
    "tags": []
   },
   "outputs": [],
   "source": [
    "all_folders[\"unique_id\"].unique()"
   ]
  },
  {
   "cell_type": "code",
   "execution_count": null,
   "id": "02db398f-9a0e-41e4-97a8-ee00a57e98c8",
   "metadata": {
    "jupyter": {
     "outputs_hidden": true
    },
    "tags": []
   },
   "outputs": [],
   "source": [
    "folders.loc[folders[\"/Analysis/transform.mat\"] == True]"
   ]
  },
  {
   "cell_type": "code",
   "execution_count": null,
   "id": "4266288f-27bc-4a79-a988-44eea70c16d2",
   "metadata": {
    "jupyter": {
     "outputs_hidden": true
    },
    "tags": []
   },
   "outputs": [],
   "source": [
    "from amftrack.pipeline.launching.run_super import run_parallel, run_launcher\n",
    "\n",
    "name_job = \"malin\"\n",
    "stage = 30\n",
    "args = [directory_targ]\n",
    "for plate in plates:\n",
    "    select = folders.loc[folders[\"unique_id\"] == plate]\n",
    "    num_parallel = 32\n",
    "    time = \"10:00\"\n",
    "    args = [directory_targ]\n",
    "    run_parallel(\n",
    "        \"realign.py\",\n",
    "        args,\n",
    "        select,\n",
    "        num_parallel,\n",
    "        time,\n",
    "        \"create_realign\",\n",
    "        cpus=32,\n",
    "        node=\"fat\",\n",
    "        name_job=name_job,\n",
    "    )\n",
    "\n",
    "run_launcher(\n",
    "    \"graph_extracter.py\",\n",
    "    [directory_targ, name_job, stage - 1],\n",
    "    plates,\n",
    "    \"3:00:00\",\n",
    "    dependency=True,\n",
    "    name_job=name_job,\n",
    ")"
   ]
  },
  {
   "cell_type": "code",
   "execution_count": null,
   "id": "cc02f898-d953-4d8b-8c1c-eb42711aeb09",
   "metadata": {},
   "outputs": [],
   "source": [
    "name_job = \"rerun\"\n",
    "run_launcher(\n",
    "    \"post_processer_1.py\",\n",
    "    [directory_targ, name_job, 10],\n",
    "    plates,\n",
    "    \"3:00:00\",\n",
    "    dependency=True,\n",
    "    name_job=name_job,\n",
    ")"
   ]
  },
  {
   "cell_type": "code",
   "execution_count": null,
   "id": "2da38319-35b9-4a35-9eae-a3067f75e390",
   "metadata": {
    "jupyter": {
     "outputs_hidden": true
    },
    "tags": []
   },
   "outputs": [],
   "source": [
    "from amftrack.util.dbx import upload_folder\n",
    "\n",
    "update_analysis_info(directory_targ)\n",
    "analysis_info = get_analysis_info(directory_targ)\n",
    "analysis_folders = analysis_info.loc[analysis_info[\"unique_id\"].isin(plates)]\n",
    "dir_drop = \"DATA/PRINCE\"\n",
    "\n",
    "for index, row in analysis_folders.iterrows():\n",
    "    folder = row[\"folder_analysis\"]\n",
    "    id_unique = row[\"unique_id\"]\n",
    "    path = os.path.join(directory_targ, folder)\n",
    "    target_drop = f\"/{dir_drop}/{id_unique}/{folder}\"\n",
    "    print(dir_drop)\n",
    "    upload_folder(path, target_drop, delete=False)"
   ]
  },
  {
   "cell_type": "code",
   "execution_count": null,
   "id": "1e9a1654-a956-44a2-ab19-9d0958bcf56e",
   "metadata": {
    "jupyter": {
     "outputs_hidden": true
    },
    "tags": []
   },
   "outputs": [],
   "source": [
    "from amftrack.pipeline.functions.post_processing.exp_plot import *\n",
    "from amftrack.pipeline.launching.run_super import run_parallel_post\n",
    "\n",
    "name_job = \"malin\"\n",
    "time = \"1:00:00\"\n",
    "list_f = [plot_tracking]\n",
    "update_analysis_info(directory_targ)\n",
    "analysis_info = get_analysis_info(directory_targ)\n",
    "analysis_folders = analysis_info.loc[analysis_info[\"unique_id\"].isin(plates)]\n",
    "directory = directory_targ\n",
    "list_args = [[]] * len(list_f)\n",
    "overwrite = True\n",
    "num_parallel = 100\n",
    "run_parallel_post(\n",
    "    \"exp_plot.py\",\n",
    "    list_f,\n",
    "    list_args,\n",
    "    [directory, overwrite],\n",
    "    analysis_folders,\n",
    "    num_parallel,\n",
    "    time,\n",
    "    \"global_plate_post_process\",\n",
    "    cpus=128,\n",
    "    name_job=name_job,\n",
    "    node=\"fat\",\n",
    ")"
   ]
  },
  {
   "cell_type": "code",
   "execution_count": null,
   "id": "614f4ffb-73dc-4653-a6dd-51a04dac7d34",
   "metadata": {
    "jupyter": {
     "outputs_hidden": true
    },
    "tags": []
   },
   "outputs": [],
   "source": [
    "from amftrack.pipeline.functions.post_processing.time_hypha import *\n",
    "import pandas as pd\n",
    "import os\n",
    "\n",
    "update_analysis_info(directory_targ)\n",
    "analysis_info = get_analysis_info(directory_targ)\n",
    "analysis_folders = analysis_info.loc[analysis_info[\"unique_id\"].isin(plates)]\n",
    "list_f = [\n",
    "    get_pos_x,\n",
    "    get_pos_y,\n",
    "    get_time_since_begin_exp,\n",
    "    get_distance_final_pos,\n",
    "    get_timedelta,\n",
    "    get_time_since_start,\n",
    "    get_speed,\n",
    "    get_timestep,\n",
    "    get_timestep_init,\n",
    "    get_time_init,\n",
    "    get_degree,\n",
    "    get_width_tip_edge,\n",
    "    get_width_root_edge,\n",
    "    get_width_average,\n",
    "    get_has_reached_final_pos,\n",
    "    get_in_ROI,\n",
    "]\n",
    "# list_f = [local_density,local_density,local_density]\n",
    "# list_f = [get_time_since_begin_exp]\n",
    "# list_f = [get_width_tip_edge, get_width_root_edge]\n",
    "list_args = [{}] * len(list_f)\n",
    "# list_args= [[500],[1000],[2000]]+[[]]\n",
    "# list_args= [[500]]\n",
    "overwrite = True\n",
    "load_graphs = True\n",
    "num_parallel = 32\n",
    "time = \"10:00\"\n",
    "for index, row in analysis_folders.iterrows():\n",
    "    folder = row[\"folder_analysis\"]\n",
    "    path_time_plate_info = row[\"path_time_plate_info\"]\n",
    "    plate = row[\"Plate\"]\n",
    "    num_cpus = 32\n",
    "    if os.path.isfile(f\"{directory_targ}{path_time_plate_info}\"):\n",
    "        whole_plate_info = pd.read_json(\n",
    "            f\"{directory_targ}{path_time_plate_info}\", convert_dates=True\n",
    "        ).transpose()\n",
    "        whole_plate_info.index.name = \"t\"\n",
    "        whole_plate_info.reset_index(inplace=True)\n",
    "        run_parallel_post(\n",
    "            \"time_hypha_post_process.py\",\n",
    "            list_f,\n",
    "            list_args,\n",
    "            [directory_targ, overwrite, load_graphs],\n",
    "            whole_plate_info,\n",
    "            num_parallel,\n",
    "            time,\n",
    "            \"time_hypha_post_process\",\n",
    "            cpus=num_cpus,\n",
    "            name_job=name_job,\n",
    "            node=\"fat\",\n",
    "        )"
   ]
  },
  {
   "cell_type": "code",
   "execution_count": null,
   "id": "6371d560-07ea-4d5a-802b-303bc66492b8",
   "metadata": {
    "tags": []
   },
   "outputs": [],
   "source": [
    "from amftrack.pipeline.launching.run_super import (\n",
    "    run_parallel,\n",
    "    run_launcher,\n",
    "    run_parallel_all_time,\n",
    ")\n",
    "\n",
    "folders = all_folders.loc[all_folders[\"unique_id\"].isin(plates)]\n",
    "folders = folders.loc[folders[\"/Analysis/nx_graph_pruned_labeled.p\"] == True]\n",
    "args = [directory_targ]\n",
    "num_parallel = 32\n",
    "time = \"1:00:00\"\n",
    "limit = 200\n",
    "version = 1\n",
    "suffix = \"_labeled\"\n",
    "lim_considered = 10\n",
    "args = [directory_targ, limit, version, suffix, lim_considered]\n",
    "run_parallel_all_time(\n",
    "    \"hyphae_extraction.py\",\n",
    "    args,\n",
    "    folders,\n",
    "    num_parallel,\n",
    "    time,\n",
    "    \"hyphae\",\n",
    "    cpus=32,\n",
    "    node=\"fat\",\n",
    "    name_job=\"test\",\n",
    ")"
   ]
  },
  {
   "cell_type": "code",
   "execution_count": null,
   "id": "a30fd802-a1fe-461f-b1b6-1b1fa1060319",
   "metadata": {},
   "outputs": [],
   "source": [
    "folders = folders.loc[folders[\"/Analysis/nx_graph_pruned_labeled.p\"] == True]\n",
    "len(folders)"
   ]
  },
  {
   "cell_type": "code",
   "execution_count": null,
   "id": "c454083a-a612-4a78-aeb3-a63286412f69",
   "metadata": {},
   "outputs": [],
   "source": [
    "len(list(set(folders[\"unique_id\"].values)))"
   ]
  },
  {
   "cell_type": "code",
   "execution_count": null,
   "id": "625db32c-0d4d-4d84-a9d3-e56e905c7903",
   "metadata": {},
   "outputs": [],
   "source": [
    "stage = 20\n",
    "run_launcher(\n",
    "    \"post_processer_1.py\",\n",
    "    [directory_targ, name_job, stage - 1],\n",
    "    plates,\n",
    "    \"20:00\",\n",
    "    dependency=True,\n",
    "    name_job=\"test\",\n",
    ")"
   ]
  },
  {
   "cell_type": "code",
   "execution_count": null,
   "id": "453b9b49-e057-42af-81ba-4b370a36b07c",
   "metadata": {
    "jupyter": {
     "outputs_hidden": true
    },
    "tags": []
   },
   "outputs": [],
   "source": [
    "update_analysis_info(directory_targ)\n",
    "analysis_info = get_analysis_info(directory_targ)\n",
    "analysis_folders = analysis_info.loc[analysis_info[\"unique_id\"].isin(plates)]"
   ]
  },
  {
   "cell_type": "code",
   "execution_count": null,
   "id": "bb82a5fa-3b92-41bc-a92e-a004490c7455",
   "metadata": {},
   "outputs": [],
   "source": [
    "analysis_folders"
   ]
  },
  {
   "cell_type": "code",
   "execution_count": null,
   "id": "50d39007-aa12-4eaa-9df0-f0abab2833b7",
   "metadata": {},
   "outputs": [],
   "source": [
    "# name_job = f\"one_shot_{time_ns()}.sh\"\n",
    "\n",
    "from amftrack.pipeline.launching.run_super import run_parallel_post\n",
    "from amftrack.pipeline.functions.post_processing.global_plate import *\n",
    "from amftrack.pipeline.functions.post_processing.time_plate import *\n",
    "from amftrack.pipeline.functions.post_processing.global_hypha import *\n",
    "from amftrack.pipeline.functions.post_processing.area_hulls import *\n",
    "from amftrack.pipeline.launching.run_super import run_parallel, run_launcher\n",
    "from amftrack.pipeline.functions.post_processing.exp_plot import *\n",
    "\n",
    "time = \"24:00:00\"\n",
    "directory = directory_targ\n",
    "max_ind = 20\n",
    "incr = 100\n",
    "fs = [\n",
    "    get_density_in_ring,\n",
    "    get_density_anastomose_in_ring,\n",
    "    # get_density_branch_rate_in_ring,\n",
    "    # get_density_stop_rate_in_ring,\n",
    "    get_density_active_tips_in_ring,\n",
    "]\n",
    "# fs = [get_mean_speed_in_ring]\n",
    "\n",
    "list_f = []\n",
    "list_args = []\n",
    "\n",
    "for f in fs:\n",
    "    list_f += [f] * max_ind\n",
    "\n",
    "    list_args += [{\"incr\": incr, \"i\": i, \"rh_only\": True} for i in range(max_ind)]\n",
    "overwrite = False\n",
    "num_parallel = 30\n",
    "run_parallel_post(\n",
    "    \"time_plate_post_process.py\",\n",
    "    list_f,\n",
    "    list_args,\n",
    "    [directory, overwrite],\n",
    "    analysis_folders,\n",
    "    num_parallel,\n",
    "    time,\n",
    "    \"time_plate_post_process\",\n",
    "    cpus=32,\n",
    "    name_job=name_job,\n",
    "    node=\"fat\",\n",
    "    dependency=True,\n",
    ")\n",
    "run_launcher(\n",
    "    \"analysis_uploader.py\",\n",
    "    [directory_targ, name_job],\n",
    "    plates,\n",
    "    \"12:00:00\",\n",
    "    dependency=True,\n",
    "    name_job=name_job,\n",
    ")"
   ]
  },
  {
   "cell_type": "code",
   "execution_count": null,
   "id": "be6cc993-f4e0-4008-aace-b1fa59150df2",
   "metadata": {},
   "outputs": [],
   "source": [
    "from amftrack.pipeline.launching.run_super import run_parallel, run_launcher\n",
    "\n",
    "name_job = \"malin\"\n",
    "\n",
    "num_parallel = 100\n",
    "time = \"20:00\"\n",
    "args = [directory_targ]\n",
    "run_parallel(\n",
    "    \"compress_image.py\",\n",
    "    args,\n",
    "    folders,\n",
    "    num_parallel,\n",
    "    time,\n",
    "    \"compress\",\n",
    "    cpus=128,\n",
    "    node=\"fat\",\n",
    "    name_job=name_job,\n",
    ")"
   ]
  },
  {
   "cell_type": "code",
   "execution_count": null,
   "id": "9dcd9efc-585c-4333-a48c-a3f18ee134cb",
   "metadata": {},
   "outputs": [],
   "source": [
    "from amftrack.pipeline.launching.run_super import run_parallel, run_launcher\n",
    "\n",
    "num_parallel = 50\n",
    "time = \"12:00:00\"\n",
    "hyph_width = 30\n",
    "perc_low = 93\n",
    "perc_high = 99.5\n",
    "args = [hyph_width, perc_low, perc_high, directory_targ]\n",
    "run_parallel(\n",
    "    \"extract_skel_2.py\",\n",
    "    args,\n",
    "    folders,\n",
    "    num_parallel,\n",
    "    time,\n",
    "    \"skeletonization\",\n",
    "    cpus=128,\n",
    "    node=\"fat\",\n",
    "    name_job=name_job,\n",
    ")"
   ]
  },
  {
   "cell_type": "code",
   "execution_count": null,
   "id": "42455272-081b-43a0-b69e-6e0dab68ff77",
   "metadata": {},
   "outputs": [],
   "source": [
    "from amftrack.pipeline.launching.run_super import run_parallel, run_launcher\n",
    "\n",
    "num_parallel = 100\n",
    "time = \"20:00\"\n",
    "args = [directory_targ]\n",
    "run_parallel(\n",
    "    \"detect_blob.py\",\n",
    "    args,\n",
    "    folders,\n",
    "    num_parallel,\n",
    "    time,\n",
    "    \"detect_blob\",\n",
    "    cpus=128,\n",
    "    node=\"fat\",\n",
    "    name_job=name_job,\n",
    ")"
   ]
  },
  {
   "cell_type": "code",
   "execution_count": null,
   "id": "706dce62-3dc8-4c0b-b297-0213da796b2f",
   "metadata": {},
   "outputs": [],
   "source": [
    "name_job = \"malin\"\n",
    "\n",
    "run_launcher(\n",
    "    \"masker.py\",\n",
    "    [directory_targ, name_job, 30],\n",
    "    plates,\n",
    "    \"3:00:00\",\n",
    "    dependency=True,\n",
    "    name_job=name_job,\n",
    ")"
   ]
  },
  {
   "cell_type": "code",
   "execution_count": null,
   "id": "f371697c-0d27-40e2-8b68-8d9ad947ee9c",
   "metadata": {},
   "outputs": [],
   "source": [
    "from amftrack.pipeline.launching.run_super import run_parallel_all_time, run_launcher\n",
    "\n",
    "folders = all_folders.loc[all_folders[\"unique_id\"].isin(plates)]\n",
    "folders = folders.loc[folders[\"/Img/TileConfiguration.txt.registered\"] == True]\n",
    "num_parallel = 50\n",
    "time = \"10:00\"\n",
    "args = []\n",
    "run_parallel_all_time(\n",
    "    \"make_video_stitched.py\",\n",
    "    args,\n",
    "    folders,\n",
    "    num_parallel,\n",
    "    time,\n",
    "    \"make_video\",\n",
    "    cpus=32,\n",
    "    node=\"fat\",\n",
    "    dependency=False,\n",
    "    name_job=\"video\",\n",
    ")"
   ]
  },
  {
   "cell_type": "code",
   "execution_count": null,
   "id": "6bb3b8f2-51c2-4a2b-b38c-e369dfbad277",
   "metadata": {},
   "outputs": [],
   "source": [
    "plates = [\n",
    "    \"105_20220817\",\n",
    "    \"77_20220808\",\n",
    "    \"71_20220817\",\n",
    "    \"100_20220812\",\n",
    "    \"117_20220815\",\n",
    "    \"99_20220815\",\n",
    "    \"75_20220808\",\n",
    "    \"226_20220812\",\n",
    "]"
   ]
  },
  {
   "cell_type": "code",
   "execution_count": null,
   "id": "5d7f5622-0995-4bc4-9f1a-665e35b9425b",
   "metadata": {
    "tags": []
   },
   "outputs": [],
   "source": [
    "folders = all_folders.loc[all_folders[\"Plate\"].isin([\"32\"])]"
   ]
  },
  {
   "cell_type": "code",
   "execution_count": null,
   "id": "3bce3711-f0df-422d-8ebf-a43a23e1a840",
   "metadata": {
    "tags": []
   },
   "outputs": [],
   "source": [
    "from amftrack.pipeline.launching.run_super import *\n",
    "\n",
    "num_parallel = 32\n",
    "time = \"8:00:00\"\n",
    "limit = 200\n",
    "version = 1\n",
    "labeled = True\n",
    "args = [directory_targ, limit, version, labeled]\n",
    "run_parallel_all_time(\n",
    "    \"hyphae_extraction.py\",\n",
    "    args,\n",
    "    folders,\n",
    "    num_parallel,\n",
    "    time,\n",
    "    \"hyphae\",\n",
    "    cpus=32,\n",
    "    node=\"fat\",\n",
    ")"
   ]
  },
  {
   "cell_type": "code",
   "execution_count": null,
   "id": "0d0eeec2-4e63-4b1b-972d-f76bd6a035bf",
   "metadata": {},
   "outputs": [],
   "source": [
    "from amftrack.pipeline.launching.run_super import run_parallel, run_launcher\n",
    "\n",
    "for plate in plates:\n",
    "    select = folders.loc[folders[\"Plate\"] == plate]\n",
    "    num_parallel = 128\n",
    "    time = \"12:00:00\"\n",
    "    thresh = 10000  # For R. irregularis, thresh 10000 is good. For Aggregatum, higher may be necessary\n",
    "    args = [thresh, directory_targ]\n",
    "    run_parallel(\n",
    "        \"final_alignment.py\",\n",
    "        args,\n",
    "        select,\n",
    "        num_parallel,\n",
    "        time,\n",
    "        \"realign\",\n",
    "        cpus=128,\n",
    "        node=\"fat\",\n",
    "        name_job=name_job,\n",
    "    )"
   ]
  },
  {
   "cell_type": "code",
   "execution_count": null,
   "id": "656f2038-0660-4d13-acd0-7580b56a8a84",
   "metadata": {},
   "outputs": [],
   "source": [
    "plates"
   ]
  },
  {
   "cell_type": "code",
   "execution_count": null,
   "id": "6323eacb-c44e-463b-90e7-bf55aaf43ab1",
   "metadata": {},
   "outputs": [],
   "source": [
    "select"
   ]
  },
  {
   "cell_type": "code",
   "execution_count": null,
   "id": "aae06165-b345-4cf1-9404-52abd616e3d0",
   "metadata": {},
   "outputs": [],
   "source": [
    "i = 0\n",
    "run_info = folders\n",
    "folder_list = list(run_info[\"folder\"])\n",
    "folder_list.sort()\n",
    "\n",
    "dates_datetime_chosen = folder_list[i : i + 2]\n",
    "print(\"========\")\n",
    "print(f\"Matching plate {dates_datetime_chosen[0]} at dates {dates_datetime_chosen}\")\n",
    "print(\"========\")\n",
    "dates = dates_datetime_chosen"
   ]
  },
  {
   "cell_type": "code",
   "execution_count": null,
   "id": "0556ab5e-23a7-4259-9c1f-e183de22004f",
   "metadata": {},
   "outputs": [],
   "source": [
    "from amftrack.pipeline.launching.run_super import run_parallel_post\n",
    "from amftrack.pipeline.functions.post_processing.global_plate import *\n",
    "from amftrack.pipeline.functions.post_processing.time_plate import *\n",
    "from amftrack.pipeline.functions.post_processing.global_hypha import *\n",
    "from amftrack.pipeline.functions.post_processing.area_hulls import *\n",
    "from amftrack.pipeline.launching.run_super import run_parallel, run_launcher\n",
    "from amftrack.pipeline.functions.post_processing.exp_plot import *\n",
    "\n",
    "update_analysis_info(directory_targ)\n",
    "analysis_info = get_analysis_info(directory_targ)\n",
    "analysis_folders = analysis_info.loc[analysis_info[\"unique_id\"].isin(plates)]\n",
    "directory = directory_targ"
   ]
  },
  {
   "cell_type": "code",
   "execution_count": null,
   "id": "029954ec-42f9-4ba2-9dbe-137682996560",
   "metadata": {
    "tags": []
   },
   "outputs": [],
   "source": [
    "time = \"3:40:00\"\n",
    "directory = directory_targ\n",
    "# list_f = [get_width_f,get_tot_length_C_f,get_tot_growth_C_f]\n",
    "# list_f = [get_timestep_anastomosis]\n",
    "list_f = [\n",
    "    gets_out_of_ROI,\n",
    "    get_width_f,\n",
    "    get_tot_length_C_f,\n",
    "    get_tot_growth_C_f,\n",
    "    get_tot_length_pp_f,\n",
    "    get_tot_growth_pp_f,\n",
    "    get_timestep_stop_growth,\n",
    "    get_time_stop_growth,\n",
    "    get_time_init_growth,\n",
    "    get_mean_speed_growth,\n",
    "    get_stop_track,\n",
    "    get_timestep_anastomosis,\n",
    "    get_timestep_biological_stop_growth,\n",
    "]\n",
    "# list_f = [get_num_branch]\n",
    "# list_f = [gets_out_of_ROI]\n",
    "list_args = [{}] * len(list_f)\n",
    "overwrite = False\n",
    "num_parallel = 32\n",
    "run_parallel_post(\n",
    "    \"global_hypha_post_process.py\",\n",
    "    list_f,\n",
    "    list_args,\n",
    "    [directory, overwrite],\n",
    "    analysis_folders,\n",
    "    num_parallel,\n",
    "    time,\n",
    "    \"global_hypha_post_process\",\n",
    "    cpus=32,\n",
    "    name_job=\"a\",\n",
    "    node=\"fat\",\n",
    ")"
   ]
  },
  {
   "cell_type": "code",
   "execution_count": null,
   "id": "bac5d4ee-b1e5-4027-8f98-8f7c1d7d7726",
   "metadata": {
    "jupyter": {
     "outputs_hidden": true
    },
    "tags": []
   },
   "outputs": [],
   "source": [
    "import sys\n",
    "from amftrack.util.sys import (\n",
    "    update_analysis_info,\n",
    "    get_analysis_info,\n",
    ")\n",
    "from amftrack.pipeline.launching.run_super import run_parallel_post\n",
    "from amftrack.pipeline.functions.post_processing.time_hypha import *\n",
    "from amftrack.pipeline.launching.run_super import run_parallel, run_launcher\n",
    "import pandas as pd\n",
    "import os\n",
    "\n",
    "list_f = [\n",
    "    get_pos_x,\n",
    "    get_pos_y,\n",
    "    get_time_since_begin_exp,\n",
    "    get_distance_final_pos,\n",
    "    get_timedelta,\n",
    "    get_time_since_start,\n",
    "    get_speed,\n",
    "    get_timestep,\n",
    "    get_timestep_init,\n",
    "    get_time_init,\n",
    "    get_degree,\n",
    "    get_width_tip_edge,\n",
    "    get_width_root_edge,\n",
    "    get_width_average,\n",
    "    has_reached_final_pos,\n",
    "    in_ROI,\n",
    "]\n",
    "# list_f = [local_density,local_density,local_density]\n",
    "# list_f = [get_time_since_begin_exp]\n",
    "# list_f = [get_width_tip_edge, get_width_root_edge]\n",
    "list_args = [{}] * len(list_f)\n",
    "# list_args= [[500],[1000],[2000]]+[[]]\n",
    "# list_args= [[500]]\n",
    "overwrite = False\n",
    "load_graphs = True\n",
    "num_parallel = 32\n",
    "time = \"12:00:00\"\n",
    "for index, row in analysis_folders.iterrows():\n",
    "    folder = row[\"folder_analysis\"]\n",
    "    path_time_plate_info = row[\"path_time_plate_info\"]\n",
    "    plate = row[\"Plate\"]\n",
    "    num_cpus = 32\n",
    "    if os.path.isfile(f\"{directory_targ}{path_time_plate_info}\"):\n",
    "        whole_plate_info = pd.read_json(\n",
    "            f\"{directory_targ}{path_time_plate_info}\", convert_dates=True\n",
    "        ).transpose()\n",
    "        whole_plate_info.index.name = \"t\"\n",
    "        whole_plate_info.reset_index(inplace=True)\n",
    "        run_parallel_post(\n",
    "            \"time_hypha_post_process.py\",\n",
    "            list_f,\n",
    "            list_args,\n",
    "            [directory_targ, overwrite, load_graphs],\n",
    "            whole_plate_info,\n",
    "            num_parallel,\n",
    "            time,\n",
    "            \"time_hypha_post_process\",\n",
    "            cpus=num_cpus,\n",
    "            name_job=name_job,\n",
    "            node=\"fat\",\n",
    "        )"
   ]
  }
 ],
 "metadata": {
  "kernelspec": {
   "display_name": "Python 3 (ipykernel)",
   "language": "python",
   "name": "python3"
  },
  "language_info": {
   "codemirror_mode": {
    "name": "ipython",
    "version": 3
   },
   "file_extension": ".py",
   "mimetype": "text/x-python",
   "name": "python",
   "nbconvert_exporter": "python",
   "pygments_lexer": "ipython3",
   "version": "3.7.13"
  }
 },
 "nbformat": 4,
 "nbformat_minor": 5
}

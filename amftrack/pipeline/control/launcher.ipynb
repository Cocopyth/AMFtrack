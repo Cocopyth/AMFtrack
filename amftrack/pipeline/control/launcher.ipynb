{
 "cells": [
  {
   "cell_type": "code",
   "execution_count": 41,
   "id": "b608afbc-ca48-476f-a966-f94e310ea7ab",
   "metadata": {},
   "outputs": [
    {
     "name": "stdout",
     "output_type": "stream",
     "text": [
      "The autoreload extension is already loaded. To reload it, use:\n",
      "  %reload_ext autoreload\n"
     ]
    }
   ],
   "source": [
    "%load_ext autoreload\n",
    "%autoreload 2\n",
    "from amftrack.pipeline.launching.run_super import (\n",
    "    run_launcher,\n",
    "    directory_scratch,\n",
    "    directory_project,\n",
    "    directory_project,\n",
    "    run_parallel_stitch,\n",
    "    run_parallel_transfer,\n",
    ")\n",
    "import os\n",
    "from amftrack.util.sys import (\n",
    "    get_dates_datetime,\n",
    "    get_dirname,\n",
    "    temp_path,\n",
    "    get_data_info,\n",
    "    update_plate_info,\n",
    "    get_current_folders,\n",
    "    get_folders_by_plate_id,\n",
    ")\n",
    "from time import time_ns\n",
    "from amftrack.util.dbx import upload_folders, load_dbx, download, get_dropbox_folders\n",
    "from datetime import datetime"
   ]
  },
  {
   "cell_type": "code",
   "execution_count": 42,
   "id": "afdc3901-8c7c-40b5-8985-00f54a3102b0",
   "metadata": {
    "collapsed": true,
    "jupyter": {
     "outputs_hidden": true
    },
    "tags": []
   },
   "outputs": [
    {
     "name": "stdout",
     "output_type": "stream",
     "text": [
      "2022-10-07 15:01:21,714-[INFO]- dropbox:390 -> Refreshing access token.\n",
      "2022-10-07 15:01:21,882-[INFO]- dropbox:474 -> Request to files/list_folder\n",
      "2022-10-07 15:01:23,629-[INFO]- dropbox:474 -> Request to files/list_folder/continue\n",
      "2022-10-07 15:01:24,712-[INFO]- dropbox:474 -> Request to files/list_folder/continue\n",
      "2022-10-07 15:01:25,607-[INFO]- dropbox:474 -> Request to files/list_folder/continue\n",
      "2022-10-07 15:01:26,484-[INFO]- dropbox:474 -> Request to files/list_folder/continue\n",
      "2022-10-07 15:01:27,244-[INFO]- dropbox:474 -> Request to files/list_folder/continue\n",
      "2022-10-07 15:01:28,425-[INFO]- dropbox:474 -> Request to files/list_folder/continue\n",
      "2022-10-07 15:01:29,407-[INFO]- dropbox:474 -> Request to files/list_folder/continue\n",
      "2022-10-07 15:01:30,381-[INFO]- dropbox:474 -> Request to files/list_folder/continue\n",
      "2022-10-07 15:01:31,469-[INFO]- dropbox:474 -> Request to files/list_folder/continue\n",
      "2022-10-07 15:01:32,594-[INFO]- dropbox:474 -> Request to files/list_folder/continue\n",
      "2022-10-07 15:01:33,446-[INFO]- dropbox:474 -> Request to files/list_folder/continue\n",
      "2022-10-07 15:01:34,292-[INFO]- dropbox:474 -> Request to files/list_folder/continue\n",
      "2022-10-07 15:01:35,050-[INFO]- dropbox:474 -> Request to files/list_folder/continue\n",
      "2022-10-07 15:01:36,432-[INFO]- dropbox:474 -> Request to files/list_folder/continue\n",
      "2022-10-07 15:01:37,236-[INFO]- dropbox:474 -> Request to files/list_folder/continue\n",
      "2022-10-07 15:01:38,140-[INFO]- dropbox:474 -> Request to files/list_folder/continue\n",
      "2022-10-07 15:01:39,062-[INFO]- dropbox:474 -> Request to files/list_folder/continue\n",
      "2022-10-07 15:01:39,970-[INFO]- dropbox:474 -> Request to files/list_folder/continue\n",
      "2022-10-07 15:01:40,836-[INFO]- dropbox:474 -> Request to files/list_folder/continue\n",
      "2022-10-07 15:01:41,723-[INFO]- dropbox:474 -> Request to files/list_folder/continue\n",
      "2022-10-07 15:01:42,715-[INFO]- dropbox:474 -> Request to files/list_folder/continue\n",
      "2022-10-07 15:01:43,727-[INFO]- dropbox:474 -> Request to files/list_folder/continue\n",
      "2022-10-07 15:01:44,710-[INFO]- dropbox:474 -> Request to files/list_folder/continue\n",
      "2022-10-07 15:01:46,160-[INFO]- dropbox:474 -> Request to files/list_folder/continue\n",
      "2022-10-07 15:01:46,987-[INFO]- dropbox:474 -> Request to files/list_folder/continue\n",
      "2022-10-07 15:01:48,020-[INFO]- dropbox:474 -> Request to files/list_folder/continue\n",
      "2022-10-07 15:01:48,872-[INFO]- dropbox:474 -> Request to files/list_folder/continue\n",
      "2022-10-07 15:01:49,735-[INFO]- dropbox:474 -> Request to files/list_folder/continue\n",
      "2022-10-07 15:01:50,641-[INFO]- dropbox:474 -> Request to files/list_folder/continue\n",
      "2022-10-07 15:01:51,514-[INFO]- dropbox:474 -> Request to files/list_folder/continue\n",
      "2022-10-07 15:01:52,540-[INFO]- dropbox:474 -> Request to files/list_folder/continue\n",
      "2022-10-07 15:01:53,586-[INFO]- dropbox:474 -> Request to files/list_folder/continue\n",
      "2022-10-07 15:01:54,540-[INFO]- dropbox:474 -> Request to files/list_folder/continue\n",
      "2022-10-07 15:01:55,919-[INFO]- dropbox:474 -> Request to files/list_folder/continue\n",
      "2022-10-07 15:01:56,862-[INFO]- dropbox:474 -> Request to files/list_folder/continue\n",
      "2022-10-07 15:01:57,801-[INFO]- dropbox:474 -> Request to files/list_folder/continue\n",
      "2022-10-07 15:01:58,950-[INFO]- dropbox:474 -> Request to files/list_folder/continue\n",
      "2022-10-07 15:02:00,036-[INFO]- dropbox:474 -> Request to files/list_folder/continue\n",
      "2022-10-07 15:02:00,850-[INFO]- dropbox:474 -> Request to files/list_folder/continue\n",
      "2022-10-07 15:02:01,658-[INFO]- dropbox:474 -> Request to files/list_folder/continue\n",
      "2022-10-07 15:02:02,567-[INFO]- dropbox:474 -> Request to files/list_folder/continue\n",
      "2022-10-07 15:02:03,543-[INFO]- dropbox:474 -> Request to files/list_folder/continue\n",
      "2022-10-07 15:02:05,436-[INFO]- dropbox:474 -> Request to files/list_folder/continue\n",
      "2022-10-07 15:02:06,261-[INFO]- dropbox:474 -> Request to files/list_folder/continue\n",
      "2022-10-07 15:02:07,057-[INFO]- dropbox:474 -> Request to files/list_folder/continue\n",
      "2022-10-07 15:02:09,781-[INFO]- dropbox:474 -> Request to files/list_folder/continue\n",
      "2022-10-07 15:02:10,564-[INFO]- dropbox:474 -> Request to files/list_folder/continue\n",
      "2022-10-07 15:02:11,396-[INFO]- dropbox:474 -> Request to files/list_folder/continue\n",
      "2022-10-07 15:02:12,209-[INFO]- dropbox:474 -> Request to files/list_folder/continue\n",
      "2022-10-07 15:02:13,015-[INFO]- dropbox:474 -> Request to files/list_folder/continue\n",
      "2022-10-07 15:02:13,823-[INFO]- dropbox:474 -> Request to files/list_folder/continue\n",
      "2022-10-07 15:02:15,191-[INFO]- dropbox:474 -> Request to files/list_folder/continue\n",
      "2022-10-07 15:02:16,020-[INFO]- dropbox:474 -> Request to files/list_folder/continue\n",
      "2022-10-07 15:02:17,027-[INFO]- dropbox:474 -> Request to files/list_folder/continue\n",
      "2022-10-07 15:02:17,881-[INFO]- dropbox:474 -> Request to files/list_folder/continue\n",
      "2022-10-07 15:02:18,676-[INFO]- dropbox:474 -> Request to files/list_folder/continue\n",
      "2022-10-07 15:02:19,475-[INFO]- dropbox:474 -> Request to files/list_folder/continue\n",
      "2022-10-07 15:02:20,270-[INFO]- dropbox:474 -> Request to files/list_folder/continue\n",
      "2022-10-07 15:02:21,110-[INFO]- dropbox:474 -> Request to files/list_folder/continue\n",
      "2022-10-07 15:02:21,891-[INFO]- dropbox:474 -> Request to files/list_folder/continue\n",
      "2022-10-07 15:02:22,749-[INFO]- dropbox:474 -> Request to files/list_folder/continue\n",
      "2022-10-07 15:02:23,538-[INFO]- dropbox:474 -> Request to files/list_folder/continue\n",
      "2022-10-07 15:02:24,287-[INFO]- dropbox:474 -> Request to files/list_folder/continue\n",
      "2022-10-07 15:02:25,143-[INFO]- dropbox:474 -> Request to files/list_folder/continue\n",
      "2022-10-07 15:02:26,018-[INFO]- dropbox:474 -> Request to files/list_folder/continue\n",
      "2022-10-07 15:02:27,137-[INFO]- dropbox:474 -> Request to files/list_folder/continue\n",
      "2022-10-07 15:02:27,956-[INFO]- dropbox:474 -> Request to files/list_folder/continue\n",
      "2022-10-07 15:02:29,008-[INFO]- dropbox:474 -> Request to files/list_folder/continue\n",
      "2022-10-07 15:02:29,775-[INFO]- dropbox:474 -> Request to files/list_folder/continue\n",
      "2022-10-07 15:02:30,905-[INFO]- dropbox:474 -> Request to files/list_folder/continue\n",
      "2022-10-07 15:02:32,067-[INFO]- dropbox:474 -> Request to files/list_folder/continue\n",
      "2022-10-07 15:02:33,855-[INFO]- dropbox:474 -> Request to files/list_folder/continue\n",
      "2022-10-07 15:02:35,756-[INFO]- dropbox:474 -> Request to files/list_folder/continue\n",
      "2022-10-07 15:02:36,977-[INFO]- dropbox:474 -> Request to files/list_folder/continue\n",
      "2022-10-07 15:02:38,091-[INFO]- dropbox:474 -> Request to files/list_folder/continue\n",
      "2022-10-07 15:02:39,234-[INFO]- dropbox:474 -> Request to files/list_folder/continue\n",
      "2022-10-07 15:02:40,200-[INFO]- dropbox:474 -> Request to files/list_folder/continue\n",
      "2022-10-07 15:02:41,211-[INFO]- dropbox:474 -> Request to files/list_folder/continue\n",
      "2022-10-07 15:02:43,233-[INFO]- dropbox:474 -> Request to files/list_folder/continue\n",
      "2022-10-07 15:02:44,210-[INFO]- dropbox:474 -> Request to files/list_folder/continue\n",
      "2022-10-07 15:02:45,129-[INFO]- dropbox:474 -> Request to files/list_folder/continue\n",
      "2022-10-07 15:02:46,048-[INFO]- dropbox:474 -> Request to files/list_folder/continue\n",
      "2022-10-07 15:02:47,001-[INFO]- dropbox:474 -> Request to files/list_folder/continue\n",
      "2022-10-07 15:02:47,931-[INFO]- dropbox:474 -> Request to files/list_folder/continue\n",
      "2022-10-07 15:02:48,849-[INFO]- dropbox:474 -> Request to files/list_folder/continue\n",
      "2022-10-07 15:02:49,754-[INFO]- dropbox:474 -> Request to files/list_folder/continue\n",
      "2022-10-07 15:02:50,655-[INFO]- dropbox:474 -> Request to files/list_folder/continue\n",
      "2022-10-07 15:02:51,694-[INFO]- dropbox:474 -> Request to files/list_folder/continue\n",
      "2022-10-07 15:02:52,571-[INFO]- dropbox:474 -> Request to files/list_folder/continue\n",
      "2022-10-07 15:02:53,440-[INFO]- dropbox:474 -> Request to files/list_folder/continue\n",
      "2022-10-07 15:02:54,490-[INFO]- dropbox:474 -> Request to files/list_folder/continue\n",
      "2022-10-07 15:02:55,730-[INFO]- dropbox:474 -> Request to files/list_folder/continue\n",
      "2022-10-07 15:02:56,622-[INFO]- dropbox:474 -> Request to files/list_folder/continue\n",
      "2022-10-07 15:02:57,576-[INFO]- dropbox:474 -> Request to files/list_folder/continue\n",
      "2022-10-07 15:02:58,638-[INFO]- dropbox:474 -> Request to files/list_folder/continue\n",
      "2022-10-07 15:02:59,623-[INFO]- dropbox:474 -> Request to files/list_folder/continue\n",
      "2022-10-07 15:03:00,649-[INFO]- dropbox:474 -> Request to files/list_folder/continue\n",
      "2022-10-07 15:03:01,536-[INFO]- dropbox:474 -> Request to files/list_folder/continue\n",
      "2022-10-07 15:03:02,455-[INFO]- dropbox:474 -> Request to files/list_folder/continue\n",
      "2022-10-07 15:03:03,289-[INFO]- dropbox:474 -> Request to files/list_folder/continue\n",
      "2022-10-07 15:03:04,206-[INFO]- dropbox:474 -> Request to files/list_folder/continue\n",
      "2022-10-07 15:03:05,521-[INFO]- dropbox:474 -> Request to files/list_folder/continue\n",
      "2022-10-07 15:03:07,044-[INFO]- dropbox:474 -> Request to files/list_folder/continue\n",
      "2022-10-07 15:03:07,980-[INFO]- dropbox:474 -> Request to files/list_folder/continue\n",
      "2022-10-07 15:03:08,885-[INFO]- dropbox:474 -> Request to files/list_folder/continue\n",
      "2022-10-07 15:03:09,926-[INFO]- dropbox:474 -> Request to files/list_folder/continue\n",
      "2022-10-07 15:03:10,850-[INFO]- dropbox:474 -> Request to files/list_folder/continue\n",
      "2022-10-07 15:03:11,797-[INFO]- dropbox:474 -> Request to files/list_folder/continue\n",
      "2022-10-07 15:03:12,749-[INFO]- dropbox:474 -> Request to files/list_folder/continue\n",
      "2022-10-07 15:03:13,785-[INFO]- dropbox:474 -> Request to files/list_folder/continue\n",
      "2022-10-07 15:03:14,715-[INFO]- dropbox:474 -> Request to files/list_folder/continue\n",
      "2022-10-07 15:03:15,749-[INFO]- dropbox:474 -> Request to files/list_folder/continue\n",
      "2022-10-07 15:03:17,902-[INFO]- dropbox:474 -> Request to files/list_folder/continue\n",
      "2022-10-07 15:03:18,986-[INFO]- dropbox:474 -> Request to files/list_folder/continue\n",
      "2022-10-07 15:03:19,980-[INFO]- dropbox:474 -> Request to files/list_folder/continue\n",
      "2022-10-07 15:03:20,913-[INFO]- dropbox:474 -> Request to files/list_folder/continue\n",
      "2022-10-07 15:03:21,835-[INFO]- dropbox:474 -> Request to files/list_folder/continue\n",
      "2022-10-07 15:03:23,125-[INFO]- dropbox:474 -> Request to files/list_folder/continue\n",
      "2022-10-07 15:03:24,386-[INFO]- dropbox:474 -> Request to files/list_folder/continue\n",
      "2022-10-07 15:03:25,257-[INFO]- dropbox:474 -> Request to files/list_folder/continue\n",
      "2022-10-07 15:03:26,128-[INFO]- dropbox:474 -> Request to files/list_folder/continue\n",
      "2022-10-07 15:03:27,163-[INFO]- dropbox:474 -> Request to files/list_folder/continue\n",
      "2022-10-07 15:03:28,156-[INFO]- dropbox:474 -> Request to files/list_folder/continue\n",
      "2022-10-07 15:03:29,044-[INFO]- dropbox:474 -> Request to files/list_folder/continue\n",
      "2022-10-07 15:03:29,996-[INFO]- dropbox:474 -> Request to files/list_folder/continue\n",
      "2022-10-07 15:03:32,005-[INFO]- dropbox:474 -> Request to files/list_folder/continue\n",
      "2022-10-07 15:03:32,837-[INFO]- dropbox:474 -> Request to files/list_folder/continue\n",
      "2022-10-07 15:03:33,806-[INFO]- dropbox:474 -> Request to files/list_folder/continue\n",
      "2022-10-07 15:03:34,744-[INFO]- dropbox:474 -> Request to files/list_folder/continue\n",
      "2022-10-07 15:03:35,541-[INFO]- dropbox:474 -> Request to files/list_folder/continue\n",
      "2022-10-07 15:03:36,594-[INFO]- dropbox:474 -> Request to files/list_folder/continue\n",
      "2022-10-07 15:03:37,705-[INFO]- dropbox:474 -> Request to files/list_folder/continue\n",
      "2022-10-07 15:03:39,200-[INFO]- dropbox:474 -> Request to files/list_folder/continue\n",
      "2022-10-07 15:03:40,174-[INFO]- dropbox:474 -> Request to files/list_folder/continue\n",
      "2022-10-07 15:03:41,159-[INFO]- dropbox:474 -> Request to files/list_folder/continue\n",
      "2022-10-07 15:03:42,224-[INFO]- dropbox:474 -> Request to files/list_folder/continue\n",
      "2022-10-07 15:03:43,203-[INFO]- dropbox:474 -> Request to files/list_folder/continue\n",
      "2022-10-07 15:03:44,186-[INFO]- dropbox:474 -> Request to files/list_folder/continue\n",
      "2022-10-07 15:03:45,198-[INFO]- dropbox:474 -> Request to files/list_folder/continue\n",
      "2022-10-07 15:03:46,138-[INFO]- dropbox:474 -> Request to files/list_folder/continue\n",
      "2022-10-07 15:03:47,048-[INFO]- dropbox:474 -> Request to files/list_folder/continue\n",
      "2022-10-07 15:03:49,362-[INFO]- dropbox:474 -> Request to files/list_folder/continue\n",
      "2022-10-07 15:03:50,332-[INFO]- dropbox:474 -> Request to files/list_folder/continue\n",
      "2022-10-07 15:03:51,619-[INFO]- dropbox:474 -> Request to files/list_folder/continue\n",
      "2022-10-07 15:03:52,587-[INFO]- dropbox:474 -> Request to files/list_folder/continue\n",
      "2022-10-07 15:03:53,569-[INFO]- dropbox:474 -> Request to files/list_folder/continue\n",
      "2022-10-07 15:03:54,560-[INFO]- dropbox:474 -> Request to files/list_folder/continue\n",
      "2022-10-07 15:03:55,617-[INFO]- dropbox:474 -> Request to files/list_folder/continue\n",
      "2022-10-07 15:03:56,801-[INFO]- dropbox:474 -> Request to files/list_folder/continue\n",
      "2022-10-07 15:03:58,124-[INFO]- dropbox:474 -> Request to files/list_folder/continue\n",
      "2022-10-07 15:03:59,067-[INFO]- dropbox:474 -> Request to files/list_folder/continue\n",
      "2022-10-07 15:04:00,221-[INFO]- dropbox:474 -> Request to files/list_folder/continue\n",
      "2022-10-07 15:04:02,092-[INFO]- dropbox:474 -> Request to files/list_folder/continue\n",
      "2022-10-07 15:04:03,132-[INFO]- dropbox:474 -> Request to files/list_folder/continue\n",
      "2022-10-07 15:04:04,082-[INFO]- dropbox:474 -> Request to files/list_folder/continue\n",
      "2022-10-07 15:04:04,837-[INFO]- dropbox:474 -> Request to files/list_folder/continue\n",
      "2022-10-07 15:04:05,679-[INFO]- dropbox:474 -> Request to files/list_folder/continue\n",
      "2022-10-07 15:04:06,598-[INFO]- dropbox:474 -> Request to files/list_folder/continue\n",
      "2022-10-07 15:04:07,504-[INFO]- dropbox:474 -> Request to files/list_folder/continue\n",
      "2022-10-07 15:04:08,378-[INFO]- dropbox:474 -> Request to files/list_folder/continue\n",
      "2022-10-07 15:04:09,302-[INFO]- dropbox:474 -> Request to files/list_folder/continue\n",
      "2022-10-07 15:04:10,365-[INFO]- dropbox:474 -> Request to files/list_folder/continue\n",
      "2022-10-07 15:04:11,308-[INFO]- dropbox:474 -> Request to files/list_folder/continue\n",
      "2022-10-07 15:04:12,384-[INFO]- dropbox:474 -> Request to files/list_folder/continue\n",
      "2022-10-07 15:04:13,286-[INFO]- dropbox:474 -> Request to files/list_folder/continue\n",
      "2022-10-07 15:04:14,506-[INFO]- dropbox:474 -> Request to files/list_folder/continue\n",
      "2022-10-07 15:04:15,268-[INFO]- dropbox:474 -> Request to files/list_folder/continue\n",
      "2022-10-07 15:04:17,257-[INFO]- dropbox:474 -> Request to files/list_folder/continue\n",
      "2022-10-07 15:04:18,084-[INFO]- dropbox:474 -> Request to files/list_folder/continue\n",
      "2022-10-07 15:04:18,960-[INFO]- dropbox:474 -> Request to files/list_folder/continue\n",
      "2022-10-07 15:04:19,787-[INFO]- dropbox:474 -> Request to files/list_folder/continue\n",
      "2022-10-07 15:04:20,653-[INFO]- dropbox:474 -> Request to files/list_folder/continue\n",
      "2022-10-07 15:04:21,536-[INFO]- dropbox:474 -> Request to files/list_folder/continue\n",
      "2022-10-07 15:04:22,414-[INFO]- dropbox:474 -> Request to files/list_folder/continue\n",
      "2022-10-07 15:04:23,252-[INFO]- dropbox:474 -> Request to files/list_folder/continue\n",
      "2022-10-07 15:04:24,114-[INFO]- dropbox:474 -> Request to files/list_folder/continue\n",
      "2022-10-07 15:04:25,031-[INFO]- dropbox:474 -> Request to files/list_folder/continue\n",
      "2022-10-07 15:04:25,931-[INFO]- dropbox:474 -> Request to files/list_folder/continue\n",
      "2022-10-07 15:04:27,245-[INFO]- dropbox:474 -> Request to files/list_folder/continue\n",
      "2022-10-07 15:04:28,401-[INFO]- dropbox:474 -> Request to files/list_folder/continue\n",
      "2022-10-07 15:04:29,571-[INFO]- dropbox:474 -> Request to files/list_folder/continue\n",
      "2022-10-07 15:04:30,486-[INFO]- dropbox:474 -> Request to files/list_folder/continue\n",
      "2022-10-07 15:04:31,338-[INFO]- dropbox:474 -> Request to files/list_folder/continue\n",
      "2022-10-07 15:04:32,213-[INFO]- dropbox:474 -> Request to files/list_folder/continue\n",
      "2022-10-07 15:04:33,078-[INFO]- dropbox:474 -> Request to files/list_folder/continue\n",
      "2022-10-07 15:04:34,025-[INFO]- dropbox:474 -> Request to files/list_folder/continue\n",
      "2022-10-07 15:04:34,849-[INFO]- dropbox:474 -> Request to files/list_folder/continue\n",
      "2022-10-07 15:04:35,816-[INFO]- dropbox:474 -> Request to files/list_folder/continue\n",
      "2022-10-07 15:04:36,626-[INFO]- dropbox:474 -> Request to files/list_folder/continue\n",
      "2022-10-07 15:04:37,488-[INFO]- dropbox:474 -> Request to files/list_folder/continue\n",
      "2022-10-07 15:04:38,403-[INFO]- dropbox:474 -> Request to files/list_folder/continue\n",
      "2022-10-07 15:04:39,326-[INFO]- dropbox:474 -> Request to files/list_folder/continue\n",
      "2022-10-07 15:04:40,265-[INFO]- dropbox:474 -> Request to files/list_folder/continue\n",
      "2022-10-07 15:04:41,132-[INFO]- dropbox:474 -> Request to files/list_folder/continue\n",
      "2022-10-07 15:04:42,159-[INFO]- dropbox:474 -> Request to files/list_folder/continue\n",
      "2022-10-07 15:04:43,187-[INFO]- dropbox:474 -> Request to files/list_folder/continue\n",
      "2022-10-07 15:04:44,316-[INFO]- dropbox:474 -> Request to files/list_folder/continue\n",
      "2022-10-07 15:04:45,306-[INFO]- dropbox:474 -> Request to files/list_folder/continue\n",
      "2022-10-07 15:04:46,106-[INFO]- dropbox:474 -> Request to files/list_folder/continue\n",
      "2022-10-07 15:04:47,000-[INFO]- dropbox:474 -> Request to files/list_folder/continue\n",
      "2022-10-07 15:04:47,885-[INFO]- dropbox:474 -> Request to files/list_folder/continue\n",
      "2022-10-07 15:04:48,716-[INFO]- dropbox:474 -> Request to files/list_folder/continue\n",
      "2022-10-07 15:04:49,533-[INFO]- dropbox:474 -> Request to files/list_folder/continue\n",
      "2022-10-07 15:04:50,312-[INFO]- dropbox:474 -> Request to files/list_folder/continue\n",
      "2022-10-07 15:04:51,137-[INFO]- dropbox:474 -> Request to files/list_folder/continue\n",
      "2022-10-07 15:04:52,066-[INFO]- dropbox:474 -> Request to files/list_folder/continue\n",
      "2022-10-07 15:04:52,924-[INFO]- dropbox:474 -> Request to files/list_folder/continue\n",
      "2022-10-07 15:04:53,684-[INFO]- dropbox:474 -> Request to files/list_folder/continue\n",
      "2022-10-07 15:04:54,486-[INFO]- dropbox:474 -> Request to files/list_folder/continue\n",
      "2022-10-07 15:04:55,294-[INFO]- dropbox:474 -> Request to files/list_folder/continue\n",
      "2022-10-07 15:04:56,113-[INFO]- dropbox:474 -> Request to files/list_folder/continue\n",
      "2022-10-07 15:04:56,863-[INFO]- dropbox:474 -> Request to files/list_folder/continue\n",
      "2022-10-07 15:04:57,255-[INFO]- dropbox:474 -> Request to files/list_folder/continue\n",
      "2022-10-07 15:04:57,711-[INFO]- dropbox:474 -> Request to files/list_folder/continue\n",
      "2022-10-07 15:04:58,176-[INFO]- dropbox:474 -> Request to files/list_folder/continue\n",
      "2022-10-07 15:04:58,615-[INFO]- dropbox:474 -> Request to files/list_folder/continue\n",
      "2022-10-07 15:04:59,185-[INFO]- dropbox:474 -> Request to files/list_folder/continue\n",
      "2022-10-07 15:04:59,663-[INFO]- dropbox:474 -> Request to files/list_folder/continue\n",
      "2022-10-07 15:05:00,526-[INFO]- dropbox:474 -> Request to files/list_folder/continue\n",
      "2022-10-07 15:05:01,375-[INFO]- dropbox:474 -> Request to files/list_folder/continue\n",
      "2022-10-07 15:05:02,197-[INFO]- dropbox:474 -> Request to files/list_folder/continue\n",
      "2022-10-07 15:05:02,992-[INFO]- dropbox:474 -> Request to files/list_folder/continue\n",
      "2022-10-07 15:05:03,857-[INFO]- dropbox:474 -> Request to files/list_folder/continue\n",
      "2022-10-07 15:05:04,712-[INFO]- dropbox:474 -> Request to files/list_folder/continue\n",
      "2022-10-07 15:05:05,464-[INFO]- dropbox:474 -> Request to files/list_folder/continue\n",
      "2022-10-07 15:05:06,367-[INFO]- dropbox:474 -> Request to files/list_folder/continue\n",
      "2022-10-07 15:05:07,416-[INFO]- dropbox:474 -> Request to files/list_folder/continue\n",
      "2022-10-07 15:05:08,243-[INFO]- dropbox:474 -> Request to files/list_folder/continue\n",
      "2022-10-07 15:05:09,108-[INFO]- dropbox:474 -> Request to files/list_folder/continue\n",
      "2022-10-07 15:05:11,312-[INFO]- dropbox:474 -> Request to files/list_folder/continue\n",
      "2022-10-07 15:05:12,123-[INFO]- dropbox:474 -> Request to files/list_folder/continue\n",
      "2022-10-07 15:05:12,967-[INFO]- dropbox:474 -> Request to files/list_folder/continue\n",
      "2022-10-07 15:05:13,893-[INFO]- dropbox:474 -> Request to files/list_folder/continue\n",
      "2022-10-07 15:05:14,755-[INFO]- dropbox:474 -> Request to files/list_folder/continue\n",
      "2022-10-07 15:05:15,638-[INFO]- dropbox:474 -> Request to files/list_folder/continue\n",
      "2022-10-07 15:05:16,482-[INFO]- dropbox:474 -> Request to files/list_folder/continue\n",
      "2022-10-07 15:05:17,325-[INFO]- dropbox:474 -> Request to files/list_folder/continue\n",
      "2022-10-07 15:05:18,182-[INFO]- dropbox:474 -> Request to files/list_folder/continue\n",
      "2022-10-07 15:05:19,114-[INFO]- dropbox:474 -> Request to files/list_folder/continue\n",
      "2022-10-07 15:05:19,966-[INFO]- dropbox:474 -> Request to files/list_folder/continue\n",
      "2022-10-07 15:05:20,809-[INFO]- dropbox:474 -> Request to files/list_folder/continue\n",
      "2022-10-07 15:05:21,890-[INFO]- dropbox:474 -> Request to files/list_folder/continue\n",
      "2022-10-07 15:05:22,796-[INFO]- dropbox:474 -> Request to files/list_folder/continue\n",
      "2022-10-07 15:05:23,609-[INFO]- dropbox:474 -> Request to files/list_folder/continue\n",
      "2022-10-07 15:05:24,478-[INFO]- dropbox:474 -> Request to files/list_folder/continue\n",
      "2022-10-07 15:05:26,003-[INFO]- dropbox:474 -> Request to files/list_folder/continue\n",
      "2022-10-07 15:05:27,811-[INFO]- dropbox:474 -> Request to files/list_folder/continue\n",
      "2022-10-07 15:05:28,673-[INFO]- dropbox:474 -> Request to files/list_folder/continue\n",
      "2022-10-07 15:05:29,603-[INFO]- dropbox:474 -> Request to files/list_folder/continue\n",
      "2022-10-07 15:05:30,593-[INFO]- dropbox:474 -> Request to files/list_folder/continue\n",
      "2022-10-07 15:05:31,882-[INFO]- dropbox:474 -> Request to files/list_folder/continue\n",
      "2022-10-07 15:05:32,986-[INFO]- dropbox:474 -> Request to files/list_folder/continue\n",
      "2022-10-07 15:05:33,937-[INFO]- dropbox:474 -> Request to files/list_folder/continue\n",
      "2022-10-07 15:05:34,891-[INFO]- dropbox:474 -> Request to files/list_folder/continue\n",
      "2022-10-07 15:05:36,089-[INFO]- dropbox:474 -> Request to files/list_folder/continue\n",
      "2022-10-07 15:05:37,058-[INFO]- dropbox:474 -> Request to files/list_folder/continue\n",
      "2022-10-07 15:05:38,042-[INFO]- dropbox:474 -> Request to files/list_folder/continue\n",
      "2022-10-07 15:05:39,872-[INFO]- dropbox:474 -> Request to files/list_folder/continue\n",
      "2022-10-07 15:05:40,841-[INFO]- dropbox:474 -> Request to files/list_folder/continue\n",
      "2022-10-07 15:05:41,935-[INFO]- dropbox:474 -> Request to files/list_folder/continue\n",
      "2022-10-07 15:05:42,884-[INFO]- dropbox:474 -> Request to files/list_folder/continue\n",
      "2022-10-07 15:05:43,958-[INFO]- dropbox:474 -> Request to files/list_folder/continue\n",
      "2022-10-07 15:05:45,007-[INFO]- dropbox:474 -> Request to files/list_folder/continue\n",
      "2022-10-07 15:05:45,814-[INFO]- dropbox:474 -> Request to files/list_folder/continue\n",
      "2022-10-07 15:05:46,624-[INFO]- dropbox:474 -> Request to files/list_folder/continue\n",
      "2022-10-07 15:05:47,385-[INFO]- dropbox:474 -> Request to files/list_folder/continue\n",
      "2022-10-07 15:05:48,231-[INFO]- dropbox:474 -> Request to files/list_folder/continue\n",
      "2022-10-07 15:05:49,121-[INFO]- dropbox:474 -> Request to files/list_folder/continue\n",
      "2022-10-07 15:05:50,258-[INFO]- dropbox:474 -> Request to files/list_folder/continue\n",
      "2022-10-07 15:05:51,060-[INFO]- dropbox:474 -> Request to files/list_folder/continue\n",
      "2022-10-07 15:05:52,405-[INFO]- dropbox:474 -> Request to files/list_folder/continue\n",
      "2022-10-07 15:05:53,645-[INFO]- dropbox:474 -> Request to files/list_folder/continue\n",
      "2022-10-07 15:05:54,527-[INFO]- dropbox:474 -> Request to files/list_folder/continue\n",
      "2022-10-07 15:05:55,362-[INFO]- dropbox:474 -> Request to files/list_folder/continue\n",
      "2022-10-07 15:05:57,252-[INFO]- dropbox:474 -> Request to files/list_folder/continue\n",
      "2022-10-07 15:05:58,051-[INFO]- dropbox:474 -> Request to files/list_folder/continue\n",
      "2022-10-07 15:05:59,096-[INFO]- dropbox:474 -> Request to files/list_folder/continue\n",
      "2022-10-07 15:05:59,955-[INFO]- dropbox:474 -> Request to files/list_folder/continue\n",
      "2022-10-07 15:06:00,851-[INFO]- dropbox:474 -> Request to files/list_folder/continue\n",
      "2022-10-07 15:06:01,973-[INFO]- dropbox:474 -> Request to files/list_folder/continue\n",
      "2022-10-07 15:06:02,859-[INFO]- dropbox:474 -> Request to files/list_folder/continue\n",
      "2022-10-07 15:06:03,731-[INFO]- dropbox:474 -> Request to files/list_folder/continue\n",
      "2022-10-07 15:06:04,637-[INFO]- dropbox:474 -> Request to files/list_folder/continue\n",
      "2022-10-07 15:06:05,507-[INFO]- dropbox:474 -> Request to files/list_folder/continue\n",
      "2022-10-07 15:06:06,455-[INFO]- dropbox:474 -> Request to files/list_folder/continue\n",
      "2022-10-07 15:06:07,432-[INFO]- dropbox:474 -> Request to files/list_folder/continue\n",
      "2022-10-07 15:06:08,265-[INFO]- dropbox:474 -> Request to files/list_folder/continue\n",
      "2022-10-07 15:06:09,137-[INFO]- dropbox:474 -> Request to files/list_folder/continue\n",
      "2022-10-07 15:06:09,949-[INFO]- dropbox:474 -> Request to files/list_folder/continue\n",
      "2022-10-07 15:06:10,851-[INFO]- dropbox:474 -> Request to files/list_folder/continue\n",
      "2022-10-07 15:06:11,759-[INFO]- dropbox:474 -> Request to files/list_folder/continue\n",
      "2022-10-07 15:06:12,593-[INFO]- dropbox:474 -> Request to files/list_folder/continue\n",
      "2022-10-07 15:06:13,391-[INFO]- dropbox:474 -> Request to files/list_folder/continue\n",
      "2022-10-07 15:06:14,251-[INFO]- dropbox:474 -> Request to files/list_folder/continue\n",
      "2022-10-07 15:06:15,081-[INFO]- dropbox:474 -> Request to files/list_folder/continue\n",
      "2022-10-07 15:06:16,008-[INFO]- dropbox:474 -> Request to files/list_folder/continue\n",
      "2022-10-07 15:06:16,909-[INFO]- dropbox:474 -> Request to files/list_folder/continue\n",
      "2022-10-07 15:06:17,793-[INFO]- dropbox:474 -> Request to files/list_folder/continue\n",
      "2022-10-07 15:06:18,926-[INFO]- dropbox:474 -> Request to files/list_folder/continue\n",
      "2022-10-07 15:06:19,692-[INFO]- dropbox:474 -> Request to files/list_folder/continue\n",
      "2022-10-07 15:06:20,565-[INFO]- dropbox:474 -> Request to files/list_folder/continue\n",
      "2022-10-07 15:06:21,408-[INFO]- dropbox:474 -> Request to files/list_folder/continue\n",
      "2022-10-07 15:06:22,253-[INFO]- dropbox:474 -> Request to files/list_folder/continue\n",
      "2022-10-07 15:06:23,023-[INFO]- dropbox:474 -> Request to files/list_folder/continue\n",
      "2022-10-07 15:06:23,882-[INFO]- dropbox:474 -> Request to files/list_folder/continue\n",
      "2022-10-07 15:06:24,784-[INFO]- dropbox:474 -> Request to files/list_folder/continue\n",
      "2022-10-07 15:06:25,560-[INFO]- dropbox:474 -> Request to files/list_folder/continue\n",
      "2022-10-07 15:06:26,406-[INFO]- dropbox:474 -> Request to files/list_folder/continue\n",
      "2022-10-07 15:06:27,604-[INFO]- dropbox:474 -> Request to files/list_folder/continue\n",
      "2022-10-07 15:06:28,630-[INFO]- dropbox:474 -> Request to files/list_folder/continue\n",
      "2022-10-07 15:06:29,538-[INFO]- dropbox:474 -> Request to files/list_folder/continue\n",
      "2022-10-07 15:06:30,536-[INFO]- dropbox:474 -> Request to files/list_folder/continue\n",
      "2022-10-07 15:06:31,516-[INFO]- dropbox:474 -> Request to files/list_folder/continue\n",
      "2022-10-07 15:06:32,885-[INFO]- dropbox:474 -> Request to files/list_folder/continue\n",
      "2022-10-07 15:06:33,927-[INFO]- dropbox:474 -> Request to files/list_folder/continue\n",
      "2022-10-07 15:06:35,023-[INFO]- dropbox:474 -> Request to files/list_folder/continue\n",
      "2022-10-07 15:06:36,087-[INFO]- dropbox:474 -> Request to files/list_folder/continue\n",
      "2022-10-07 15:06:37,105-[INFO]- dropbox:474 -> Request to files/list_folder/continue\n",
      "2022-10-07 15:06:38,213-[INFO]- dropbox:474 -> Request to files/list_folder/continue\n",
      "2022-10-07 15:06:39,242-[INFO]- dropbox:474 -> Request to files/list_folder/continue\n",
      "2022-10-07 15:06:40,209-[INFO]- dropbox:474 -> Request to files/list_folder/continue\n",
      "2022-10-07 15:06:42,128-[INFO]- dropbox:474 -> Request to files/list_folder/continue\n",
      "2022-10-07 15:06:43,062-[INFO]- dropbox:474 -> Request to files/list_folder/continue\n",
      "2022-10-07 15:06:43,977-[INFO]- dropbox:474 -> Request to files/list_folder/continue\n",
      "2022-10-07 15:06:45,010-[INFO]- dropbox:474 -> Request to files/list_folder/continue\n",
      "2022-10-07 15:06:45,979-[INFO]- dropbox:474 -> Request to files/list_folder/continue\n",
      "2022-10-07 15:06:46,936-[INFO]- dropbox:474 -> Request to files/list_folder/continue\n",
      "2022-10-07 15:06:49,120-[INFO]- dropbox:474 -> Request to files/list_folder/continue\n",
      "2022-10-07 15:06:50,013-[INFO]- dropbox:474 -> Request to files/list_folder/continue\n",
      "2022-10-07 15:06:51,855-[INFO]- dropbox:474 -> Request to files/list_folder/continue\n",
      "2022-10-07 15:06:53,135-[INFO]- dropbox:474 -> Request to files/list_folder/continue\n",
      "2022-10-07 15:06:54,130-[INFO]- dropbox:474 -> Request to files/list_folder/continue\n",
      "2022-10-07 15:06:54,875-[INFO]- dropbox:474 -> Request to files/list_folder/continue\n",
      "2022-10-07 15:06:55,751-[INFO]- dropbox:474 -> Request to files/list_folder/continue\n",
      "2022-10-07 15:06:56,624-[INFO]- dropbox:474 -> Request to files/list_folder/continue\n",
      "2022-10-07 15:06:57,537-[INFO]- dropbox:474 -> Request to files/list_folder/continue\n",
      "2022-10-07 15:06:58,439-[INFO]- dropbox:474 -> Request to files/list_folder/continue\n",
      "2022-10-07 15:06:59,417-[INFO]- dropbox:474 -> Request to files/list_folder/continue\n",
      "2022-10-07 15:07:00,299-[INFO]- dropbox:474 -> Request to files/list_folder/continue\n",
      "2022-10-07 15:07:01,212-[INFO]- dropbox:474 -> Request to files/list_folder/continue\n",
      "2022-10-07 15:07:02,229-[INFO]- dropbox:474 -> Request to files/list_folder/continue\n",
      "2022-10-07 15:07:03,399-[INFO]- dropbox:474 -> Request to files/list_folder/continue\n",
      "2022-10-07 15:07:04,381-[INFO]- dropbox:474 -> Request to files/list_folder/continue\n",
      "2022-10-07 15:07:05,568-[INFO]- dropbox:474 -> Request to files/list_folder/continue\n",
      "2022-10-07 15:07:06,895-[INFO]- dropbox:474 -> Request to files/list_folder/continue\n",
      "2022-10-07 15:07:07,757-[INFO]- dropbox:474 -> Request to files/list_folder/continue\n",
      "2022-10-07 15:07:08,691-[INFO]- dropbox:474 -> Request to files/list_folder/continue\n",
      "2022-10-07 15:07:09,601-[INFO]- dropbox:474 -> Request to files/list_folder/continue\n",
      "2022-10-07 15:07:10,571-[INFO]- dropbox:474 -> Request to files/list_folder/continue\n",
      "2022-10-07 15:07:11,636-[INFO]- dropbox:474 -> Request to files/list_folder/continue\n",
      "2022-10-07 15:07:12,539-[INFO]- dropbox:474 -> Request to files/list_folder/continue\n",
      "2022-10-07 15:07:13,606-[INFO]- dropbox:474 -> Request to files/list_folder/continue\n",
      "2022-10-07 15:07:14,604-[INFO]- dropbox:474 -> Request to files/list_folder/continue\n",
      "2022-10-07 15:07:15,678-[INFO]- dropbox:474 -> Request to files/list_folder/continue\n",
      "2022-10-07 15:07:16,718-[INFO]- dropbox:474 -> Request to files/list_folder/continue\n",
      "2022-10-07 15:07:17,760-[INFO]- dropbox:474 -> Request to files/list_folder/continue\n",
      "2022-10-07 15:07:18,691-[INFO]- dropbox:474 -> Request to files/list_folder/continue\n",
      "2022-10-07 15:07:19,636-[INFO]- dropbox:474 -> Request to files/list_folder/continue\n",
      "2022-10-07 15:07:20,572-[INFO]- dropbox:474 -> Request to files/list_folder/continue\n",
      "2022-10-07 15:07:21,469-[INFO]- dropbox:474 -> Request to files/list_folder/continue\n",
      "2022-10-07 15:07:22,424-[INFO]- dropbox:474 -> Request to files/list_folder/continue\n",
      "2022-10-07 15:07:23,514-[INFO]- dropbox:474 -> Request to files/list_folder/continue\n",
      "2022-10-07 15:07:24,684-[INFO]- dropbox:474 -> Request to files/list_folder/continue\n",
      "2022-10-07 15:07:26,925-[INFO]- dropbox:474 -> Request to files/list_folder/continue\n",
      "2022-10-07 15:07:27,894-[INFO]- dropbox:474 -> Request to files/list_folder/continue\n",
      "2022-10-07 15:07:28,942-[INFO]- dropbox:474 -> Request to files/list_folder/continue\n",
      "2022-10-07 15:07:30,816-[INFO]- dropbox:474 -> Request to files/list_folder/continue\n",
      "2022-10-07 15:07:31,905-[INFO]- dropbox:474 -> Request to files/list_folder/continue\n",
      "2022-10-07 15:07:32,944-[INFO]- dropbox:474 -> Request to files/list_folder/continue\n",
      "2022-10-07 15:07:34,310-[INFO]- dropbox:474 -> Request to files/list_folder/continue\n",
      "2022-10-07 15:07:34,775-[INFO]- dropbox:474 -> Request to files/list_folder/continue\n",
      "2022-10-07 15:07:35,818-[INFO]- dropbox:474 -> Request to files/list_folder/continue\n",
      "2022-10-07 15:07:36,961-[INFO]- dropbox:474 -> Request to files/list_folder/continue\n",
      "2022-10-07 15:07:38,022-[INFO]- dropbox:474 -> Request to files/list_folder/continue\n",
      "2022-10-07 15:07:38,996-[INFO]- dropbox:474 -> Request to files/list_folder/continue\n",
      "2022-10-07 15:07:40,252-[INFO]- dropbox:474 -> Request to files/list_folder/continue\n",
      "2022-10-07 15:07:41,333-[INFO]- dropbox:474 -> Request to files/list_folder/continue\n",
      "2022-10-07 15:07:42,481-[INFO]- dropbox:474 -> Request to files/list_folder/continue\n",
      "2022-10-07 15:07:43,280-[INFO]- dropbox:474 -> Request to files/list_folder/continue\n",
      "2022-10-07 15:07:44,208-[INFO]- dropbox:474 -> Request to files/list_folder/continue\n",
      "2022-10-07 15:07:45,241-[INFO]- dropbox:474 -> Request to files/list_folder/continue\n",
      "2022-10-07 15:07:46,284-[INFO]- dropbox:474 -> Request to files/list_folder/continue\n",
      "2022-10-07 15:07:47,311-[INFO]- dropbox:474 -> Request to files/list_folder/continue\n",
      "2022-10-07 15:07:48,769-[INFO]- dropbox:474 -> Request to files/list_folder/continue\n",
      "2022-10-07 15:07:50,421-[INFO]- dropbox:474 -> Request to files/list_folder/continue\n",
      "2022-10-07 15:07:51,038-[INFO]- dropbox:474 -> Request to files/list_folder/continue\n",
      "2022-10-07 15:07:52,143-[INFO]- dropbox:474 -> Request to files/list_folder/continue\n",
      "2022-10-07 15:07:53,159-[INFO]- dropbox:474 -> Request to files/list_folder/continue\n",
      "2022-10-07 15:07:54,144-[INFO]- dropbox:474 -> Request to files/list_folder/continue\n",
      "2022-10-07 15:07:54,991-[INFO]- dropbox:474 -> Request to files/list_folder/continue\n",
      "2022-10-07 15:07:55,911-[INFO]- dropbox:474 -> Request to files/list_folder/continue\n",
      "2022-10-07 15:07:57,911-[INFO]- dropbox:474 -> Request to files/list_folder/continue\n",
      "2022-10-07 15:07:59,044-[INFO]- dropbox:474 -> Request to files/list_folder/continue\n",
      "2022-10-07 15:08:00,067-[INFO]- dropbox:474 -> Request to files/list_folder/continue\n",
      "2022-10-07 15:08:01,128-[INFO]- dropbox:474 -> Request to files/list_folder/continue\n",
      "2022-10-07 15:08:02,248-[INFO]- dropbox:474 -> Request to files/list_folder/continue\n",
      "2022-10-07 15:08:03,190-[INFO]- dropbox:474 -> Request to files/list_folder/continue\n",
      "2022-10-07 15:08:04,144-[INFO]- dropbox:474 -> Request to files/list_folder/continue\n",
      "2022-10-07 15:08:04,940-[INFO]- dropbox:474 -> Request to files/list_folder/continue\n",
      "2022-10-07 15:08:05,845-[INFO]- dropbox:474 -> Request to files/list_folder/continue\n",
      "2022-10-07 15:08:07,309-[INFO]- dropbox:474 -> Request to files/list_folder/continue\n",
      "2022-10-07 15:08:08,175-[INFO]- dropbox:474 -> Request to files/list_folder/continue\n",
      "2022-10-07 15:08:09,128-[INFO]- dropbox:474 -> Request to files/list_folder/continue\n",
      "2022-10-07 15:08:10,074-[INFO]- dropbox:474 -> Request to files/list_folder/continue\n",
      "2022-10-07 15:08:10,820-[INFO]- dropbox:474 -> Request to files/list_folder/continue\n",
      "2022-10-07 15:08:11,519-[INFO]- dropbox:474 -> Request to files/list_folder/continue\n",
      "2022-10-07 15:08:11,957-[INFO]- dropbox:474 -> Request to files/list_folder/continue\n",
      "2022-10-07 15:08:12,279-[INFO]- dropbox:474 -> Request to files/list_folder/continue\n",
      "2022-10-07 15:08:12,911-[INFO]- dropbox:474 -> Request to files/list_folder/continue\n",
      "2022-10-07 15:08:13,832-[INFO]- dropbox:474 -> Request to files/list_folder/continue\n",
      "2022-10-07 15:08:14,463-[INFO]- dropbox:474 -> Request to files/list_folder/continue\n",
      "2022-10-07 15:08:14,735-[INFO]- dropbox:474 -> Request to files/list_folder/continue\n",
      "2022-10-07 15:08:15,250-[INFO]- dropbox:474 -> Request to files/list_folder/continue\n",
      "2022-10-07 15:08:15,710-[INFO]- dropbox:474 -> Request to files/list_folder/continue\n",
      "2022-10-07 15:08:17,660-[INFO]- dropbox:474 -> Request to files/list_folder/continue\n",
      "2022-10-07 15:08:18,635-[INFO]- dropbox:474 -> Request to files/list_folder/continue\n",
      "2022-10-07 15:08:19,649-[INFO]- dropbox:474 -> Request to files/list_folder/continue\n",
      "2022-10-07 15:08:21,678-[INFO]- dropbox:474 -> Request to files/list_folder/continue\n",
      "2022-10-07 15:08:22,551-[INFO]- dropbox:474 -> Request to files/list_folder/continue\n",
      "2022-10-07 15:08:23,226-[INFO]- dropbox:474 -> Request to files/list_folder/continue\n",
      "2022-10-07 15:08:24,156-[INFO]- dropbox:474 -> Request to files/list_folder/continue\n",
      "2022-10-07 15:08:25,211-[INFO]- dropbox:474 -> Request to files/list_folder/continue\n",
      "2022-10-07 15:08:26,988-[INFO]- dropbox:474 -> Request to files/list_folder/continue\n",
      "2022-10-07 15:08:27,677-[INFO]- dropbox:474 -> Request to files/list_folder/continue\n",
      "2022-10-07 15:08:28,783-[INFO]- dropbox:474 -> Request to files/list_folder/continue\n",
      "2022-10-07 15:08:29,711-[INFO]- dropbox:474 -> Request to files/list_folder/continue\n",
      "2022-10-07 15:08:30,911-[INFO]- dropbox:474 -> Request to files/list_folder/continue\n",
      "2022-10-07 15:08:33,136-[INFO]- dropbox:474 -> Request to files/list_folder/continue\n",
      "2022-10-07 15:08:34,962-[INFO]- dropbox:474 -> Request to files/list_folder/continue\n",
      "2022-10-07 15:08:36,686-[INFO]- dropbox:474 -> Request to files/list_folder/continue\n",
      "2022-10-07 15:08:37,866-[INFO]- dropbox:474 -> Request to files/list_folder/continue\n",
      "2022-10-07 15:08:38,998-[INFO]- dropbox:474 -> Request to files/list_folder/continue\n",
      "2022-10-07 15:08:39,937-[INFO]- dropbox:474 -> Request to files/list_folder/continue\n",
      "2022-10-07 15:08:40,852-[INFO]- dropbox:474 -> Request to files/list_folder/continue\n",
      "2022-10-07 15:08:41,756-[INFO]- dropbox:474 -> Request to files/list_folder/continue\n",
      "2022-10-07 15:08:42,762-[INFO]- dropbox:474 -> Request to files/list_folder/continue\n",
      "2022-10-07 15:08:43,897-[INFO]- dropbox:474 -> Request to files/list_folder/continue\n",
      "2022-10-07 15:08:45,228-[INFO]- dropbox:474 -> Request to files/list_folder/continue\n",
      "2022-10-07 15:08:46,363-[INFO]- dropbox:474 -> Request to files/list_folder/continue\n",
      "2022-10-07 15:08:47,419-[INFO]- dropbox:474 -> Request to files/list_folder/continue\n",
      "2022-10-07 15:08:48,018-[INFO]- dropbox:474 -> Request to files/list_folder/continue\n",
      "2022-10-07 15:08:49,055-[INFO]- dropbox:474 -> Request to files/list_folder/continue\n",
      "2022-10-07 15:08:49,971-[INFO]- dropbox:474 -> Request to files/list_folder/continue\n",
      "2022-10-07 15:08:50,881-[INFO]- dropbox:474 -> Request to files/list_folder/continue\n",
      "2022-10-07 15:08:51,787-[INFO]- dropbox:474 -> Request to files/list_folder/continue\n",
      "2022-10-07 15:08:52,668-[INFO]- dropbox:474 -> Request to files/list_folder/continue\n",
      "2022-10-07 15:08:53,749-[INFO]- dropbox:474 -> Request to files/list_folder/continue\n",
      "2022-10-07 15:08:54,939-[INFO]- dropbox:474 -> Request to files/list_folder/continue\n",
      "2022-10-07 15:08:57,540-[INFO]- dropbox:474 -> Request to files/list_folder/continue\n",
      "2022-10-07 15:08:58,591-[INFO]- dropbox:474 -> Request to files/list_folder/continue\n",
      "2022-10-07 15:08:59,600-[INFO]- dropbox:474 -> Request to files/list_folder/continue\n",
      "2022-10-07 15:09:00,697-[INFO]- dropbox:474 -> Request to files/list_folder/continue\n",
      "2022-10-07 15:09:01,724-[INFO]- dropbox:474 -> Request to files/list_folder/continue\n",
      "2022-10-07 15:09:02,629-[INFO]- dropbox:474 -> Request to files/list_folder/continue\n",
      "2022-10-07 15:09:03,534-[INFO]- dropbox:474 -> Request to files/list_folder/continue\n",
      "2022-10-07 15:09:04,488-[INFO]- dropbox:474 -> Request to files/list_folder/continue\n",
      "2022-10-07 15:09:05,590-[INFO]- dropbox:474 -> Request to files/list_folder/continue\n",
      "2022-10-07 15:09:06,687-[INFO]- dropbox:474 -> Request to files/list_folder/continue\n",
      "2022-10-07 15:09:07,606-[INFO]- dropbox:474 -> Request to files/list_folder/continue\n",
      "2022-10-07 15:09:08,663-[INFO]- dropbox:474 -> Request to files/list_folder/continue\n",
      "2022-10-07 15:09:09,505-[INFO]- dropbox:474 -> Request to files/list_folder/continue\n",
      "2022-10-07 15:09:10,652-[INFO]- dropbox:474 -> Request to files/list_folder/continue\n",
      "2022-10-07 15:09:11,716-[INFO]- dropbox:474 -> Request to files/list_folder/continue\n",
      "2022-10-07 15:09:12,411-[INFO]- dropbox:474 -> Request to files/list_folder/continue\n",
      "2022-10-07 15:09:12,996-[INFO]- dropbox:474 -> Request to files/list_folder/continue\n",
      "2022-10-07 15:09:13,823-[INFO]- dropbox:474 -> Request to files/list_folder/continue\n",
      "2022-10-07 15:09:14,784-[INFO]- dropbox:474 -> Request to files/list_folder/continue\n",
      "2022-10-07 15:09:15,817-[INFO]- dropbox:474 -> Request to files/list_folder/continue\n",
      "2022-10-07 15:09:16,741-[INFO]- dropbox:474 -> Request to files/list_folder/continue\n",
      "2022-10-07 15:09:17,672-[INFO]- dropbox:474 -> Request to files/list_folder/continue\n",
      "2022-10-07 15:09:18,748-[INFO]- dropbox:474 -> Request to files/list_folder/continue\n",
      "2022-10-07 15:09:19,855-[INFO]- dropbox:474 -> Request to files/list_folder/continue\n",
      "2022-10-07 15:09:20,929-[INFO]- dropbox:474 -> Request to files/list_folder/continue\n",
      "2022-10-07 15:09:21,607-[INFO]- dropbox:474 -> Request to files/list_folder/continue\n",
      "2022-10-07 15:09:22,319-[INFO]- dropbox:474 -> Request to files/list_folder/continue\n",
      "2022-10-07 15:09:23,251-[INFO]- dropbox:474 -> Request to files/list_folder/continue\n",
      "2022-10-07 15:09:24,175-[INFO]- dropbox:474 -> Request to files/list_folder/continue\n",
      "2022-10-07 15:09:25,092-[INFO]- dropbox:474 -> Request to files/list_folder/continue\n",
      "2022-10-07 15:09:26,176-[INFO]- dropbox:474 -> Request to files/list_folder/continue\n",
      "2022-10-07 15:09:27,248-[INFO]- dropbox:474 -> Request to files/list_folder/continue\n",
      "2022-10-07 15:09:27,975-[INFO]- dropbox:474 -> Request to files/list_folder/continue\n",
      "2022-10-07 15:09:28,697-[INFO]- dropbox:474 -> Request to files/list_folder/continue\n",
      "2022-10-07 15:09:29,599-[INFO]- dropbox:474 -> Request to files/list_folder/continue\n",
      "2022-10-07 15:09:30,540-[INFO]- dropbox:474 -> Request to files/list_folder/continue\n",
      "2022-10-07 15:09:31,631-[INFO]- dropbox:474 -> Request to files/list_folder/continue\n",
      "2022-10-07 15:09:32,674-[INFO]- dropbox:474 -> Request to files/list_folder/continue\n",
      "2022-10-07 15:09:33,684-[INFO]- dropbox:474 -> Request to files/list_folder/continue\n",
      "2022-10-07 15:09:34,611-[INFO]- dropbox:474 -> Request to files/list_folder/continue\n",
      "2022-10-07 15:09:34,996-[INFO]- dropbox:474 -> Request to files/list_folder/continue\n",
      "2022-10-07 15:09:35,486-[INFO]- dropbox:474 -> Request to files/list_folder/continue\n",
      "2022-10-07 15:09:36,504-[INFO]- dropbox:474 -> Request to files/list_folder/continue\n"
     ]
    }
   ],
   "source": [
    "all_folders_drop = get_dropbox_folders(\"/DATA/PRINCE\", True)"
   ]
  },
  {
   "cell_type": "code",
   "execution_count": 12,
   "id": "84469621-95e5-4866-b780-bec978a73e03",
   "metadata": {},
   "outputs": [],
   "source": [
    "on_dropbox = all_folders_drop.loc[\n",
    "    all_folders_drop[\"CrossDate\"].between(\"20220801\", \"20220822\")\n",
    "]\n",
    "plates = on_dropbox[\"unique_id\"].unique()"
   ]
  },
  {
   "cell_type": "code",
   "execution_count": 1,
   "id": "1d5978c0-eacf-4773-a9be-a2e0ed3df1a9",
   "metadata": {},
   "outputs": [],
   "source": [
    "plates = ['117_20220815']"
   ]
  },
  {
   "cell_type": "code",
   "execution_count": 43,
   "id": "a7bb3a03-7831-4cda-85d2-4258442ef48a",
   "metadata": {},
   "outputs": [],
   "source": [
    "folders_drop = all_folders_drop.loc[\n",
    "    all_folders_drop[\"Plate\"]=='32'\n",
    "]"
   ]
  },
  {
   "cell_type": "code",
   "execution_count": 44,
   "id": "847a2181-db9d-446e-b791-31056c533e56",
   "metadata": {
    "collapsed": true,
    "jupyter": {
     "outputs_hidden": true
    },
    "tags": []
   },
   "outputs": [
    {
     "name": "stderr",
     "output_type": "stream",
     "text": [
      "sbatch: Single node jobs run on a shared node by default. Add --exclusive if you want to use a node exclusively.\n",
      "sbatch: You will be charged for 0.03125 node. A full node consists of 32 CPU cores, 229376 MiB of memory and 0 GPUs and can be shared by up to 32 jobs.\n"
     ]
    },
    {
     "name": "stdout",
     "output_type": "stream",
     "text": [
      "Submitted batch job 1659596\n"
     ]
    },
    {
     "name": "stderr",
     "output_type": "stream",
     "text": [
      "sbatch: Single node jobs run on a shared node by default. Add --exclusive if you want to use a node exclusively.\n",
      "sbatch: You will be charged for 0.03125 node. A full node consists of 32 CPU cores, 229376 MiB of memory and 0 GPUs and can be shared by up to 32 jobs.\n"
     ]
    },
    {
     "name": "stdout",
     "output_type": "stream",
     "text": [
      "Submitted batch job 1659597\n"
     ]
    },
    {
     "name": "stderr",
     "output_type": "stream",
     "text": [
      "sbatch: Single node jobs run on a shared node by default. Add --exclusive if you want to use a node exclusively.\n",
      "sbatch: You will be charged for 0.03125 node. A full node consists of 32 CPU cores, 229376 MiB of memory and 0 GPUs and can be shared by up to 32 jobs.\n"
     ]
    },
    {
     "name": "stdout",
     "output_type": "stream",
     "text": [
      "Submitted batch job 1659598\n"
     ]
    },
    {
     "name": "stderr",
     "output_type": "stream",
     "text": [
      "sbatch: Single node jobs run on a shared node by default. Add --exclusive if you want to use a node exclusively.\n",
      "sbatch: You will be charged for 0.03125 node. A full node consists of 32 CPU cores, 229376 MiB of memory and 0 GPUs and can be shared by up to 32 jobs.\n"
     ]
    },
    {
     "name": "stdout",
     "output_type": "stream",
     "text": [
      "Submitted batch job 1659599\n"
     ]
    },
    {
     "name": "stderr",
     "output_type": "stream",
     "text": [
      "sbatch: Single node jobs run on a shared node by default. Add --exclusive if you want to use a node exclusively.\n",
      "sbatch: You will be charged for 0.03125 node. A full node consists of 32 CPU cores, 229376 MiB of memory and 0 GPUs and can be shared by up to 32 jobs.\n"
     ]
    },
    {
     "name": "stdout",
     "output_type": "stream",
     "text": [
      "Submitted batch job 1659600\n"
     ]
    },
    {
     "name": "stderr",
     "output_type": "stream",
     "text": [
      "sbatch: Single node jobs run on a shared node by default. Add --exclusive if you want to use a node exclusively.\n",
      "sbatch: You will be charged for 0.03125 node. A full node consists of 32 CPU cores, 229376 MiB of memory and 0 GPUs and can be shared by up to 32 jobs.\n"
     ]
    },
    {
     "name": "stdout",
     "output_type": "stream",
     "text": [
      "Submitted batch job 1659601\n"
     ]
    },
    {
     "name": "stderr",
     "output_type": "stream",
     "text": [
      "sbatch: Single node jobs run on a shared node by default. Add --exclusive if you want to use a node exclusively.\n",
      "sbatch: You will be charged for 0.03125 node. A full node consists of 32 CPU cores, 229376 MiB of memory and 0 GPUs and can be shared by up to 32 jobs.\n"
     ]
    },
    {
     "name": "stdout",
     "output_type": "stream",
     "text": [
      "Submitted batch job 1659602\n"
     ]
    },
    {
     "name": "stderr",
     "output_type": "stream",
     "text": [
      "sbatch: Single node jobs run on a shared node by default. Add --exclusive if you want to use a node exclusively.\n",
      "sbatch: You will be charged for 0.03125 node. A full node consists of 32 CPU cores, 229376 MiB of memory and 0 GPUs and can be shared by up to 32 jobs.\n"
     ]
    },
    {
     "name": "stdout",
     "output_type": "stream",
     "text": [
      "Submitted batch job 1659603\n"
     ]
    },
    {
     "name": "stderr",
     "output_type": "stream",
     "text": [
      "sbatch: Single node jobs run on a shared node by default. Add --exclusive if you want to use a node exclusively.\n",
      "sbatch: You will be charged for 0.03125 node. A full node consists of 32 CPU cores, 229376 MiB of memory and 0 GPUs and can be shared by up to 32 jobs.\n"
     ]
    },
    {
     "name": "stdout",
     "output_type": "stream",
     "text": [
      "Submitted batch job 1659604\n"
     ]
    },
    {
     "name": "stderr",
     "output_type": "stream",
     "text": [
      "sbatch: Single node jobs run on a shared node by default. Add --exclusive if you want to use a node exclusively.\n",
      "sbatch: You will be charged for 0.03125 node. A full node consists of 32 CPU cores, 229376 MiB of memory and 0 GPUs and can be shared by up to 32 jobs.\n"
     ]
    },
    {
     "name": "stdout",
     "output_type": "stream",
     "text": [
      "Submitted batch job 1659605\n"
     ]
    },
    {
     "name": "stderr",
     "output_type": "stream",
     "text": [
      "sbatch: Single node jobs run on a shared node by default. Add --exclusive if you want to use a node exclusively.\n",
      "sbatch: You will be charged for 0.03125 node. A full node consists of 32 CPU cores, 229376 MiB of memory and 0 GPUs and can be shared by up to 32 jobs.\n"
     ]
    },
    {
     "name": "stdout",
     "output_type": "stream",
     "text": [
      "Submitted batch job 1659606\n"
     ]
    },
    {
     "name": "stderr",
     "output_type": "stream",
     "text": [
      "sbatch: Single node jobs run on a shared node by default. Add --exclusive if you want to use a node exclusively.\n",
      "sbatch: You will be charged for 0.03125 node. A full node consists of 32 CPU cores, 229376 MiB of memory and 0 GPUs and can be shared by up to 32 jobs.\n"
     ]
    },
    {
     "name": "stdout",
     "output_type": "stream",
     "text": [
      "Submitted batch job 1659607\n"
     ]
    },
    {
     "name": "stderr",
     "output_type": "stream",
     "text": [
      "sbatch: Single node jobs run on a shared node by default. Add --exclusive if you want to use a node exclusively.\n",
      "sbatch: You will be charged for 0.03125 node. A full node consists of 32 CPU cores, 229376 MiB of memory and 0 GPUs and can be shared by up to 32 jobs.\n"
     ]
    },
    {
     "name": "stdout",
     "output_type": "stream",
     "text": [
      "Submitted batch job 1659608\n"
     ]
    },
    {
     "name": "stderr",
     "output_type": "stream",
     "text": [
      "sbatch: Single node jobs run on a shared node by default. Add --exclusive if you want to use a node exclusively.\n",
      "sbatch: You will be charged for 0.03125 node. A full node consists of 32 CPU cores, 229376 MiB of memory and 0 GPUs and can be shared by up to 32 jobs.\n"
     ]
    },
    {
     "name": "stdout",
     "output_type": "stream",
     "text": [
      "Submitted batch job 1659610\n"
     ]
    },
    {
     "name": "stderr",
     "output_type": "stream",
     "text": [
      "sbatch: Single node jobs run on a shared node by default. Add --exclusive if you want to use a node exclusively.\n",
      "sbatch: You will be charged for 0.03125 node. A full node consists of 32 CPU cores, 229376 MiB of memory and 0 GPUs and can be shared by up to 32 jobs.\n"
     ]
    },
    {
     "name": "stdout",
     "output_type": "stream",
     "text": [
      "Submitted batch job 1659611\n"
     ]
    },
    {
     "name": "stderr",
     "output_type": "stream",
     "text": [
      "sbatch: Single node jobs run on a shared node by default. Add --exclusive if you want to use a node exclusively.\n",
      "sbatch: You will be charged for 0.03125 node. A full node consists of 32 CPU cores, 229376 MiB of memory and 0 GPUs and can be shared by up to 32 jobs.\n"
     ]
    },
    {
     "name": "stdout",
     "output_type": "stream",
     "text": [
      "Submitted batch job 1659612\n",
      "Submitted batch job 1659613\n"
     ]
    },
    {
     "name": "stderr",
     "output_type": "stream",
     "text": [
      "sbatch: Single node jobs run on a shared node by default. Add --exclusive if you want to use a node exclusively.\n",
      "sbatch: You will be charged for 0.03125 node. A full node consists of 32 CPU cores, 229376 MiB of memory and 0 GPUs and can be shared by up to 32 jobs.\n",
      "sbatch: Single node jobs run on a shared node by default. Add --exclusive if you want to use a node exclusively.\n",
      "sbatch: You will be charged for 0.03125 node. A full node consists of 32 CPU cores, 229376 MiB of memory and 0 GPUs and can be shared by up to 32 jobs.\n"
     ]
    },
    {
     "name": "stdout",
     "output_type": "stream",
     "text": [
      "Submitted batch job 1659614\n"
     ]
    },
    {
     "name": "stderr",
     "output_type": "stream",
     "text": [
      "sbatch: Single node jobs run on a shared node by default. Add --exclusive if you want to use a node exclusively.\n",
      "sbatch: You will be charged for 0.03125 node. A full node consists of 32 CPU cores, 229376 MiB of memory and 0 GPUs and can be shared by up to 32 jobs.\n"
     ]
    },
    {
     "name": "stdout",
     "output_type": "stream",
     "text": [
      "Submitted batch job 1659615\n"
     ]
    },
    {
     "name": "stderr",
     "output_type": "stream",
     "text": [
      "sbatch: Single node jobs run on a shared node by default. Add --exclusive if you want to use a node exclusively.\n",
      "sbatch: You will be charged for 0.03125 node. A full node consists of 32 CPU cores, 229376 MiB of memory and 0 GPUs and can be shared by up to 32 jobs.\n"
     ]
    },
    {
     "name": "stdout",
     "output_type": "stream",
     "text": [
      "Submitted batch job 1659616\n"
     ]
    },
    {
     "name": "stderr",
     "output_type": "stream",
     "text": [
      "sbatch: Single node jobs run on a shared node by default. Add --exclusive if you want to use a node exclusively.\n",
      "sbatch: You will be charged for 0.03125 node. A full node consists of 32 CPU cores, 229376 MiB of memory and 0 GPUs and can be shared by up to 32 jobs.\n"
     ]
    },
    {
     "name": "stdout",
     "output_type": "stream",
     "text": [
      "Submitted batch job 1659617\n"
     ]
    },
    {
     "name": "stderr",
     "output_type": "stream",
     "text": [
      "sbatch: Single node jobs run on a shared node by default. Add --exclusive if you want to use a node exclusively.\n",
      "sbatch: You will be charged for 0.03125 node. A full node consists of 32 CPU cores, 229376 MiB of memory and 0 GPUs and can be shared by up to 32 jobs.\n"
     ]
    },
    {
     "name": "stdout",
     "output_type": "stream",
     "text": [
      "Submitted batch job 1659618\n"
     ]
    },
    {
     "name": "stderr",
     "output_type": "stream",
     "text": [
      "sbatch: Single node jobs run on a shared node by default. Add --exclusive if you want to use a node exclusively.\n",
      "sbatch: You will be charged for 0.03125 node. A full node consists of 32 CPU cores, 229376 MiB of memory and 0 GPUs and can be shared by up to 32 jobs.\n"
     ]
    },
    {
     "name": "stdout",
     "output_type": "stream",
     "text": [
      "Submitted batch job 1659619\n"
     ]
    },
    {
     "name": "stderr",
     "output_type": "stream",
     "text": [
      "sbatch: Single node jobs run on a shared node by default. Add --exclusive if you want to use a node exclusively.\n",
      "sbatch: You will be charged for 0.03125 node. A full node consists of 32 CPU cores, 229376 MiB of memory and 0 GPUs and can be shared by up to 32 jobs.\n"
     ]
    },
    {
     "name": "stdout",
     "output_type": "stream",
     "text": [
      "Submitted batch job 1659620\n",
      "Submitted batch job 1659621\n"
     ]
    },
    {
     "name": "stderr",
     "output_type": "stream",
     "text": [
      "sbatch: Single node jobs run on a shared node by default. Add --exclusive if you want to use a node exclusively.\n",
      "sbatch: You will be charged for 0.03125 node. A full node consists of 32 CPU cores, 229376 MiB of memory and 0 GPUs and can be shared by up to 32 jobs.\n",
      "sbatch: Single node jobs run on a shared node by default. Add --exclusive if you want to use a node exclusively.\n",
      "sbatch: You will be charged for 0.03125 node. A full node consists of 32 CPU cores, 229376 MiB of memory and 0 GPUs and can be shared by up to 32 jobs.\n"
     ]
    },
    {
     "name": "stdout",
     "output_type": "stream",
     "text": [
      "Submitted batch job 1659622\n"
     ]
    },
    {
     "name": "stderr",
     "output_type": "stream",
     "text": [
      "sbatch: Single node jobs run on a shared node by default. Add --exclusive if you want to use a node exclusively.\n",
      "sbatch: You will be charged for 0.03125 node. A full node consists of 32 CPU cores, 229376 MiB of memory and 0 GPUs and can be shared by up to 32 jobs.\n"
     ]
    },
    {
     "name": "stdout",
     "output_type": "stream",
     "text": [
      "Submitted batch job 1659623\n"
     ]
    },
    {
     "name": "stderr",
     "output_type": "stream",
     "text": [
      "sbatch: Single node jobs run on a shared node by default. Add --exclusive if you want to use a node exclusively.\n",
      "sbatch: You will be charged for 0.03125 node. A full node consists of 32 CPU cores, 229376 MiB of memory and 0 GPUs and can be shared by up to 32 jobs.\n"
     ]
    },
    {
     "name": "stdout",
     "output_type": "stream",
     "text": [
      "Submitted batch job 1659624\n"
     ]
    },
    {
     "name": "stderr",
     "output_type": "stream",
     "text": [
      "sbatch: Single node jobs run on a shared node by default. Add --exclusive if you want to use a node exclusively.\n",
      "sbatch: You will be charged for 0.03125 node. A full node consists of 32 CPU cores, 229376 MiB of memory and 0 GPUs and can be shared by up to 32 jobs.\n"
     ]
    },
    {
     "name": "stdout",
     "output_type": "stream",
     "text": [
      "Submitted batch job 1659625\n"
     ]
    },
    {
     "name": "stderr",
     "output_type": "stream",
     "text": [
      "sbatch: Single node jobs run on a shared node by default. Add --exclusive if you want to use a node exclusively.\n",
      "sbatch: You will be charged for 0.03125 node. A full node consists of 32 CPU cores, 229376 MiB of memory and 0 GPUs and can be shared by up to 32 jobs.\n"
     ]
    },
    {
     "name": "stdout",
     "output_type": "stream",
     "text": [
      "Submitted batch job 1659626\n"
     ]
    },
    {
     "name": "stderr",
     "output_type": "stream",
     "text": [
      "sbatch: Single node jobs run on a shared node by default. Add --exclusive if you want to use a node exclusively.\n",
      "sbatch: You will be charged for 0.03125 node. A full node consists of 32 CPU cores, 229376 MiB of memory and 0 GPUs and can be shared by up to 32 jobs.\n"
     ]
    },
    {
     "name": "stdout",
     "output_type": "stream",
     "text": [
      "Submitted batch job 1659627\n"
     ]
    },
    {
     "name": "stderr",
     "output_type": "stream",
     "text": [
      "sbatch: Single node jobs run on a shared node by default. Add --exclusive if you want to use a node exclusively.\n",
      "sbatch: You will be charged for 0.03125 node. A full node consists of 32 CPU cores, 229376 MiB of memory and 0 GPUs and can be shared by up to 32 jobs.\n"
     ]
    },
    {
     "name": "stdout",
     "output_type": "stream",
     "text": [
      "Submitted batch job 1659628\n"
     ]
    },
    {
     "name": "stderr",
     "output_type": "stream",
     "text": [
      "sbatch: Single node jobs run on a shared node by default. Add --exclusive if you want to use a node exclusively.\n",
      "sbatch: You will be charged for 0.03125 node. A full node consists of 32 CPU cores, 229376 MiB of memory and 0 GPUs and can be shared by up to 32 jobs.\n"
     ]
    },
    {
     "name": "stdout",
     "output_type": "stream",
     "text": [
      "Submitted batch job 1659630\n"
     ]
    },
    {
     "name": "stderr",
     "output_type": "stream",
     "text": [
      "sbatch: Single node jobs run on a shared node by default. Add --exclusive if you want to use a node exclusively.\n",
      "sbatch: You will be charged for 0.03125 node. A full node consists of 32 CPU cores, 229376 MiB of memory and 0 GPUs and can be shared by up to 32 jobs.\n"
     ]
    },
    {
     "name": "stdout",
     "output_type": "stream",
     "text": [
      "Submitted batch job 1659631\n"
     ]
    },
    {
     "name": "stderr",
     "output_type": "stream",
     "text": [
      "sbatch: Single node jobs run on a shared node by default. Add --exclusive if you want to use a node exclusively.\n",
      "sbatch: You will be charged for 0.03125 node. A full node consists of 32 CPU cores, 229376 MiB of memory and 0 GPUs and can be shared by up to 32 jobs.\n"
     ]
    },
    {
     "name": "stdout",
     "output_type": "stream",
     "text": [
      "Submitted batch job 1659632\n",
      "Submitted batch job 1659633\n"
     ]
    },
    {
     "name": "stderr",
     "output_type": "stream",
     "text": [
      "sbatch: Single node jobs run on a shared node by default. Add --exclusive if you want to use a node exclusively.\n",
      "sbatch: You will be charged for 0.03125 node. A full node consists of 32 CPU cores, 229376 MiB of memory and 0 GPUs and can be shared by up to 32 jobs.\n",
      "sbatch: Single node jobs run on a shared node by default. Add --exclusive if you want to use a node exclusively.\n",
      "sbatch: You will be charged for 0.03125 node. A full node consists of 32 CPU cores, 229376 MiB of memory and 0 GPUs and can be shared by up to 32 jobs.\n"
     ]
    },
    {
     "name": "stdout",
     "output_type": "stream",
     "text": [
      "Submitted batch job 1659635\n"
     ]
    },
    {
     "name": "stderr",
     "output_type": "stream",
     "text": [
      "sbatch: Single node jobs run on a shared node by default. Add --exclusive if you want to use a node exclusively.\n",
      "sbatch: You will be charged for 0.03125 node. A full node consists of 32 CPU cores, 229376 MiB of memory and 0 GPUs and can be shared by up to 32 jobs.\n"
     ]
    },
    {
     "name": "stdout",
     "output_type": "stream",
     "text": [
      "Submitted batch job 1659636\n"
     ]
    },
    {
     "name": "stderr",
     "output_type": "stream",
     "text": [
      "sbatch: Single node jobs run on a shared node by default. Add --exclusive if you want to use a node exclusively.\n",
      "sbatch: You will be charged for 0.03125 node. A full node consists of 32 CPU cores, 229376 MiB of memory and 0 GPUs and can be shared by up to 32 jobs.\n"
     ]
    },
    {
     "name": "stdout",
     "output_type": "stream",
     "text": [
      "Submitted batch job 1659637\n"
     ]
    },
    {
     "name": "stderr",
     "output_type": "stream",
     "text": [
      "sbatch: Single node jobs run on a shared node by default. Add --exclusive if you want to use a node exclusively.\n",
      "sbatch: You will be charged for 0.03125 node. A full node consists of 32 CPU cores, 229376 MiB of memory and 0 GPUs and can be shared by up to 32 jobs.\n"
     ]
    },
    {
     "name": "stdout",
     "output_type": "stream",
     "text": [
      "Submitted batch job 1659638\n"
     ]
    },
    {
     "name": "stderr",
     "output_type": "stream",
     "text": [
      "sbatch: Single node jobs run on a shared node by default. Add --exclusive if you want to use a node exclusively.\n",
      "sbatch: You will be charged for 0.03125 node. A full node consists of 32 CPU cores, 229376 MiB of memory and 0 GPUs and can be shared by up to 32 jobs.\n"
     ]
    },
    {
     "name": "stdout",
     "output_type": "stream",
     "text": [
      "Submitted batch job 1659639\n"
     ]
    },
    {
     "name": "stderr",
     "output_type": "stream",
     "text": [
      "sbatch: Single node jobs run on a shared node by default. Add --exclusive if you want to use a node exclusively.\n",
      "sbatch: You will be charged for 0.03125 node. A full node consists of 32 CPU cores, 229376 MiB of memory and 0 GPUs and can be shared by up to 32 jobs.\n"
     ]
    },
    {
     "name": "stdout",
     "output_type": "stream",
     "text": [
      "Submitted batch job 1659640\n"
     ]
    },
    {
     "name": "stderr",
     "output_type": "stream",
     "text": [
      "sbatch: Single node jobs run on a shared node by default. Add --exclusive if you want to use a node exclusively.\n",
      "sbatch: You will be charged for 0.03125 node. A full node consists of 32 CPU cores, 229376 MiB of memory and 0 GPUs and can be shared by up to 32 jobs.\n"
     ]
    },
    {
     "name": "stdout",
     "output_type": "stream",
     "text": [
      "Submitted batch job 1659641\n",
      "Submitted batch job 1659642\n"
     ]
    },
    {
     "name": "stderr",
     "output_type": "stream",
     "text": [
      "sbatch: Single node jobs run on a shared node by default. Add --exclusive if you want to use a node exclusively.\n",
      "sbatch: You will be charged for 0.03125 node. A full node consists of 32 CPU cores, 229376 MiB of memory and 0 GPUs and can be shared by up to 32 jobs.\n",
      "sbatch: Single node jobs run on a shared node by default. Add --exclusive if you want to use a node exclusively.\n",
      "sbatch: You will be charged for 0.03125 node. A full node consists of 32 CPU cores, 229376 MiB of memory and 0 GPUs and can be shared by up to 32 jobs.\n"
     ]
    },
    {
     "name": "stdout",
     "output_type": "stream",
     "text": [
      "Submitted batch job 1659643\n"
     ]
    },
    {
     "name": "stderr",
     "output_type": "stream",
     "text": [
      "sbatch: Single node jobs run on a shared node by default. Add --exclusive if you want to use a node exclusively.\n",
      "sbatch: You will be charged for 0.03125 node. A full node consists of 32 CPU cores, 229376 MiB of memory and 0 GPUs and can be shared by up to 32 jobs.\n"
     ]
    },
    {
     "name": "stdout",
     "output_type": "stream",
     "text": [
      "Submitted batch job 1659644\n"
     ]
    },
    {
     "name": "stderr",
     "output_type": "stream",
     "text": [
      "sbatch: Single node jobs run on a shared node by default. Add --exclusive if you want to use a node exclusively.\n",
      "sbatch: You will be charged for 0.03125 node. A full node consists of 32 CPU cores, 229376 MiB of memory and 0 GPUs and can be shared by up to 32 jobs.\n"
     ]
    },
    {
     "name": "stdout",
     "output_type": "stream",
     "text": [
      "Submitted batch job 1659645\n"
     ]
    },
    {
     "name": "stderr",
     "output_type": "stream",
     "text": [
      "sbatch: Single node jobs run on a shared node by default. Add --exclusive if you want to use a node exclusively.\n",
      "sbatch: You will be charged for 0.03125 node. A full node consists of 32 CPU cores, 229376 MiB of memory and 0 GPUs and can be shared by up to 32 jobs.\n"
     ]
    },
    {
     "name": "stdout",
     "output_type": "stream",
     "text": [
      "Submitted batch job 1659646\n"
     ]
    },
    {
     "name": "stderr",
     "output_type": "stream",
     "text": [
      "sbatch: Single node jobs run on a shared node by default. Add --exclusive if you want to use a node exclusively.\n",
      "sbatch: You will be charged for 0.03125 node. A full node consists of 32 CPU cores, 229376 MiB of memory and 0 GPUs and can be shared by up to 32 jobs.\n"
     ]
    },
    {
     "name": "stdout",
     "output_type": "stream",
     "text": [
      "Submitted batch job 1659647\n"
     ]
    },
    {
     "name": "stderr",
     "output_type": "stream",
     "text": [
      "sbatch: Single node jobs run on a shared node by default. Add --exclusive if you want to use a node exclusively.\n",
      "sbatch: You will be charged for 0.03125 node. A full node consists of 32 CPU cores, 229376 MiB of memory and 0 GPUs and can be shared by up to 32 jobs.\n"
     ]
    },
    {
     "name": "stdout",
     "output_type": "stream",
     "text": [
      "Submitted batch job 1659648\n",
      "Submitted batch job 1659649\n"
     ]
    },
    {
     "name": "stderr",
     "output_type": "stream",
     "text": [
      "sbatch: Single node jobs run on a shared node by default. Add --exclusive if you want to use a node exclusively.\n",
      "sbatch: You will be charged for 0.03125 node. A full node consists of 32 CPU cores, 229376 MiB of memory and 0 GPUs and can be shared by up to 32 jobs.\n",
      "sbatch: Single node jobs run on a shared node by default. Add --exclusive if you want to use a node exclusively.\n",
      "sbatch: You will be charged for 0.03125 node. A full node consists of 32 CPU cores, 229376 MiB of memory and 0 GPUs and can be shared by up to 32 jobs.\n"
     ]
    },
    {
     "name": "stdout",
     "output_type": "stream",
     "text": [
      "Submitted batch job 1659650\n"
     ]
    },
    {
     "name": "stderr",
     "output_type": "stream",
     "text": [
      "sbatch: Single node jobs run on a shared node by default. Add --exclusive if you want to use a node exclusively.\n",
      "sbatch: You will be charged for 0.03125 node. A full node consists of 32 CPU cores, 229376 MiB of memory and 0 GPUs and can be shared by up to 32 jobs.\n"
     ]
    },
    {
     "name": "stdout",
     "output_type": "stream",
     "text": [
      "Submitted batch job 1659651\n"
     ]
    },
    {
     "name": "stderr",
     "output_type": "stream",
     "text": [
      "sbatch: Single node jobs run on a shared node by default. Add --exclusive if you want to use a node exclusively.\n",
      "sbatch: You will be charged for 0.03125 node. A full node consists of 32 CPU cores, 229376 MiB of memory and 0 GPUs and can be shared by up to 32 jobs.\n"
     ]
    },
    {
     "name": "stdout",
     "output_type": "stream",
     "text": [
      "Submitted batch job 1659652\n"
     ]
    },
    {
     "name": "stderr",
     "output_type": "stream",
     "text": [
      "sbatch: Single node jobs run on a shared node by default. Add --exclusive if you want to use a node exclusively.\n",
      "sbatch: You will be charged for 0.03125 node. A full node consists of 32 CPU cores, 229376 MiB of memory and 0 GPUs and can be shared by up to 32 jobs.\n"
     ]
    },
    {
     "name": "stdout",
     "output_type": "stream",
     "text": [
      "Submitted batch job 1659653\n"
     ]
    },
    {
     "name": "stderr",
     "output_type": "stream",
     "text": [
      "sbatch: Single node jobs run on a shared node by default. Add --exclusive if you want to use a node exclusively.\n",
      "sbatch: You will be charged for 0.03125 node. A full node consists of 32 CPU cores, 229376 MiB of memory and 0 GPUs and can be shared by up to 32 jobs.\n"
     ]
    },
    {
     "name": "stdout",
     "output_type": "stream",
     "text": [
      "Submitted batch job 1659654\n"
     ]
    },
    {
     "name": "stderr",
     "output_type": "stream",
     "text": [
      "sbatch: Single node jobs run on a shared node by default. Add --exclusive if you want to use a node exclusively.\n",
      "sbatch: You will be charged for 0.03125 node. A full node consists of 32 CPU cores, 229376 MiB of memory and 0 GPUs and can be shared by up to 32 jobs.\n"
     ]
    },
    {
     "name": "stdout",
     "output_type": "stream",
     "text": [
      "Submitted batch job 1659655\n"
     ]
    },
    {
     "name": "stderr",
     "output_type": "stream",
     "text": [
      "sbatch: Single node jobs run on a shared node by default. Add --exclusive if you want to use a node exclusively.\n",
      "sbatch: You will be charged for 0.03125 node. A full node consists of 32 CPU cores, 229376 MiB of memory and 0 GPUs and can be shared by up to 32 jobs.\n"
     ]
    },
    {
     "name": "stdout",
     "output_type": "stream",
     "text": [
      "Submitted batch job 1659656\n"
     ]
    },
    {
     "name": "stderr",
     "output_type": "stream",
     "text": [
      "sbatch: Single node jobs run on a shared node by default. Add --exclusive if you want to use a node exclusively.\n",
      "sbatch: You will be charged for 0.03125 node. A full node consists of 32 CPU cores, 229376 MiB of memory and 0 GPUs and can be shared by up to 32 jobs.\n"
     ]
    },
    {
     "name": "stdout",
     "output_type": "stream",
     "text": [
      "Submitted batch job 1659657\n"
     ]
    },
    {
     "name": "stderr",
     "output_type": "stream",
     "text": [
      "sbatch: Single node jobs run on a shared node by default. Add --exclusive if you want to use a node exclusively.\n",
      "sbatch: You will be charged for 0.03125 node. A full node consists of 32 CPU cores, 229376 MiB of memory and 0 GPUs and can be shared by up to 32 jobs.\n"
     ]
    },
    {
     "name": "stdout",
     "output_type": "stream",
     "text": [
      "Submitted batch job 1659658\n"
     ]
    },
    {
     "name": "stderr",
     "output_type": "stream",
     "text": [
      "sbatch: Single node jobs run on a shared node by default. Add --exclusive if you want to use a node exclusively.\n",
      "sbatch: You will be charged for 0.03125 node. A full node consists of 32 CPU cores, 229376 MiB of memory and 0 GPUs and can be shared by up to 32 jobs.\n"
     ]
    },
    {
     "name": "stdout",
     "output_type": "stream",
     "text": [
      "Submitted batch job 1659659\n"
     ]
    },
    {
     "name": "stderr",
     "output_type": "stream",
     "text": [
      "sbatch: Single node jobs run on a shared node by default. Add --exclusive if you want to use a node exclusively.\n",
      "sbatch: You will be charged for 0.03125 node. A full node consists of 32 CPU cores, 229376 MiB of memory and 0 GPUs and can be shared by up to 32 jobs.\n"
     ]
    },
    {
     "name": "stdout",
     "output_type": "stream",
     "text": [
      "Submitted batch job 1659660\n",
      "Submitted batch job 1659661\n"
     ]
    },
    {
     "name": "stderr",
     "output_type": "stream",
     "text": [
      "sbatch: Single node jobs run on a shared node by default. Add --exclusive if you want to use a node exclusively.\n",
      "sbatch: You will be charged for 0.03125 node. A full node consists of 32 CPU cores, 229376 MiB of memory and 0 GPUs and can be shared by up to 32 jobs.\n",
      "sbatch: Single node jobs run on a shared node by default. Add --exclusive if you want to use a node exclusively.\n",
      "sbatch: You will be charged for 0.03125 node. A full node consists of 32 CPU cores, 229376 MiB of memory and 0 GPUs and can be shared by up to 32 jobs.\n"
     ]
    },
    {
     "name": "stdout",
     "output_type": "stream",
     "text": [
      "Submitted batch job 1659662\n"
     ]
    },
    {
     "name": "stderr",
     "output_type": "stream",
     "text": [
      "sbatch: Single node jobs run on a shared node by default. Add --exclusive if you want to use a node exclusively.\n",
      "sbatch: You will be charged for 0.03125 node. A full node consists of 32 CPU cores, 229376 MiB of memory and 0 GPUs and can be shared by up to 32 jobs.\n"
     ]
    },
    {
     "name": "stdout",
     "output_type": "stream",
     "text": [
      "Submitted batch job 1659663\n"
     ]
    },
    {
     "name": "stderr",
     "output_type": "stream",
     "text": [
      "sbatch: Single node jobs run on a shared node by default. Add --exclusive if you want to use a node exclusively.\n",
      "sbatch: You will be charged for 0.03125 node. A full node consists of 32 CPU cores, 229376 MiB of memory and 0 GPUs and can be shared by up to 32 jobs.\n"
     ]
    },
    {
     "name": "stdout",
     "output_type": "stream",
     "text": [
      "Submitted batch job 1659664\n"
     ]
    },
    {
     "name": "stderr",
     "output_type": "stream",
     "text": [
      "sbatch: Single node jobs run on a shared node by default. Add --exclusive if you want to use a node exclusively.\n",
      "sbatch: You will be charged for 0.03125 node. A full node consists of 32 CPU cores, 229376 MiB of memory and 0 GPUs and can be shared by up to 32 jobs.\n"
     ]
    },
    {
     "name": "stdout",
     "output_type": "stream",
     "text": [
      "Submitted batch job 1659677\n",
      "Submitted batch job 1659678\n"
     ]
    },
    {
     "name": "stderr",
     "output_type": "stream",
     "text": [
      "sbatch: Single node jobs run on a shared node by default. Add --exclusive if you want to use a node exclusively.\n",
      "sbatch: You will be charged for 0.03125 node. A full node consists of 32 CPU cores, 229376 MiB of memory and 0 GPUs and can be shared by up to 32 jobs.\n",
      "sbatch: Single node jobs run on a shared node by default. Add --exclusive if you want to use a node exclusively.\n",
      "sbatch: You will be charged for 0.03125 node. A full node consists of 32 CPU cores, 229376 MiB of memory and 0 GPUs and can be shared by up to 32 jobs.\n"
     ]
    },
    {
     "name": "stdout",
     "output_type": "stream",
     "text": [
      "Submitted batch job 1659679\n"
     ]
    },
    {
     "name": "stderr",
     "output_type": "stream",
     "text": [
      "sbatch: Single node jobs run on a shared node by default. Add --exclusive if you want to use a node exclusively.\n",
      "sbatch: You will be charged for 0.03125 node. A full node consists of 32 CPU cores, 229376 MiB of memory and 0 GPUs and can be shared by up to 32 jobs.\n"
     ]
    },
    {
     "name": "stdout",
     "output_type": "stream",
     "text": [
      "Submitted batch job 1659680\n"
     ]
    },
    {
     "name": "stderr",
     "output_type": "stream",
     "text": [
      "sbatch: Single node jobs run on a shared node by default. Add --exclusive if you want to use a node exclusively.\n",
      "sbatch: You will be charged for 0.03125 node. A full node consists of 32 CPU cores, 229376 MiB of memory and 0 GPUs and can be shared by up to 32 jobs.\n"
     ]
    },
    {
     "name": "stdout",
     "output_type": "stream",
     "text": [
      "Submitted batch job 1659681\n",
      "Submitted batch job 1659682\n"
     ]
    },
    {
     "name": "stderr",
     "output_type": "stream",
     "text": [
      "sbatch: Single node jobs run on a shared node by default. Add --exclusive if you want to use a node exclusively.\n",
      "sbatch: You will be charged for 0.03125 node. A full node consists of 32 CPU cores, 229376 MiB of memory and 0 GPUs and can be shared by up to 32 jobs.\n",
      "sbatch: Single node jobs run on a shared node by default. Add --exclusive if you want to use a node exclusively.\n",
      "sbatch: You will be charged for 0.03125 node. A full node consists of 32 CPU cores, 229376 MiB of memory and 0 GPUs and can be shared by up to 32 jobs.\n"
     ]
    },
    {
     "name": "stdout",
     "output_type": "stream",
     "text": [
      "Submitted batch job 1659683\n"
     ]
    },
    {
     "name": "stderr",
     "output_type": "stream",
     "text": [
      "sbatch: Single node jobs run on a shared node by default. Add --exclusive if you want to use a node exclusively.\n",
      "sbatch: You will be charged for 0.03125 node. A full node consists of 32 CPU cores, 229376 MiB of memory and 0 GPUs and can be shared by up to 32 jobs.\n"
     ]
    },
    {
     "name": "stdout",
     "output_type": "stream",
     "text": [
      "Submitted batch job 1659684\n"
     ]
    },
    {
     "name": "stderr",
     "output_type": "stream",
     "text": [
      "sbatch: Single node jobs run on a shared node by default. Add --exclusive if you want to use a node exclusively.\n",
      "sbatch: You will be charged for 0.03125 node. A full node consists of 32 CPU cores, 229376 MiB of memory and 0 GPUs and can be shared by up to 32 jobs.\n"
     ]
    },
    {
     "name": "stdout",
     "output_type": "stream",
     "text": [
      "Submitted batch job 1659685\n"
     ]
    },
    {
     "name": "stderr",
     "output_type": "stream",
     "text": [
      "sbatch: Single node jobs run on a shared node by default. Add --exclusive if you want to use a node exclusively.\n",
      "sbatch: You will be charged for 0.03125 node. A full node consists of 32 CPU cores, 229376 MiB of memory and 0 GPUs and can be shared by up to 32 jobs.\n"
     ]
    },
    {
     "name": "stdout",
     "output_type": "stream",
     "text": [
      "Submitted batch job 1659686\n",
      "Submitted batch job 1659687\n"
     ]
    },
    {
     "name": "stderr",
     "output_type": "stream",
     "text": [
      "sbatch: Single node jobs run on a shared node by default. Add --exclusive if you want to use a node exclusively.\n",
      "sbatch: You will be charged for 0.03125 node. A full node consists of 32 CPU cores, 229376 MiB of memory and 0 GPUs and can be shared by up to 32 jobs.\n",
      "sbatch: Single node jobs run on a shared node by default. Add --exclusive if you want to use a node exclusively.\n",
      "sbatch: You will be charged for 0.03125 node. A full node consists of 32 CPU cores, 229376 MiB of memory and 0 GPUs and can be shared by up to 32 jobs.\n"
     ]
    },
    {
     "name": "stdout",
     "output_type": "stream",
     "text": [
      "Submitted batch job 1659688\n"
     ]
    },
    {
     "name": "stderr",
     "output_type": "stream",
     "text": [
      "sbatch: Single node jobs run on a shared node by default. Add --exclusive if you want to use a node exclusively.\n",
      "sbatch: You will be charged for 0.03125 node. A full node consists of 32 CPU cores, 229376 MiB of memory and 0 GPUs and can be shared by up to 32 jobs.\n"
     ]
    },
    {
     "name": "stdout",
     "output_type": "stream",
     "text": [
      "Submitted batch job 1659689\n"
     ]
    },
    {
     "name": "stderr",
     "output_type": "stream",
     "text": [
      "sbatch: Single node jobs run on a shared node by default. Add --exclusive if you want to use a node exclusively.\n",
      "sbatch: You will be charged for 0.03125 node. A full node consists of 32 CPU cores, 229376 MiB of memory and 0 GPUs and can be shared by up to 32 jobs.\n"
     ]
    },
    {
     "name": "stdout",
     "output_type": "stream",
     "text": [
      "Submitted batch job 1659690\n"
     ]
    },
    {
     "name": "stderr",
     "output_type": "stream",
     "text": [
      "sbatch: Single node jobs run on a shared node by default. Add --exclusive if you want to use a node exclusively.\n",
      "sbatch: You will be charged for 0.03125 node. A full node consists of 32 CPU cores, 229376 MiB of memory and 0 GPUs and can be shared by up to 32 jobs.\n"
     ]
    },
    {
     "name": "stdout",
     "output_type": "stream",
     "text": [
      "Submitted batch job 1659691\n"
     ]
    },
    {
     "name": "stderr",
     "output_type": "stream",
     "text": [
      "sbatch: Single node jobs run on a shared node by default. Add --exclusive if you want to use a node exclusively.\n",
      "sbatch: You will be charged for 0.03125 node. A full node consists of 32 CPU cores, 229376 MiB of memory and 0 GPUs and can be shared by up to 32 jobs.\n"
     ]
    },
    {
     "name": "stdout",
     "output_type": "stream",
     "text": [
      "Submitted batch job 1659692\n"
     ]
    },
    {
     "name": "stderr",
     "output_type": "stream",
     "text": [
      "sbatch: Single node jobs run on a shared node by default. Add --exclusive if you want to use a node exclusively.\n",
      "sbatch: You will be charged for 0.03125 node. A full node consists of 32 CPU cores, 229376 MiB of memory and 0 GPUs and can be shared by up to 32 jobs.\n"
     ]
    },
    {
     "name": "stdout",
     "output_type": "stream",
     "text": [
      "Submitted batch job 1659693\n"
     ]
    },
    {
     "name": "stderr",
     "output_type": "stream",
     "text": [
      "sbatch: Single node jobs run on a shared node by default. Add --exclusive if you want to use a node exclusively.\n",
      "sbatch: You will be charged for 0.03125 node. A full node consists of 32 CPU cores, 229376 MiB of memory and 0 GPUs and can be shared by up to 32 jobs.\n"
     ]
    },
    {
     "name": "stdout",
     "output_type": "stream",
     "text": [
      "Submitted batch job 1659695\n"
     ]
    },
    {
     "name": "stderr",
     "output_type": "stream",
     "text": [
      "sbatch: Single node jobs run on a shared node by default. Add --exclusive if you want to use a node exclusively.\n",
      "sbatch: You will be charged for 0.03125 node. A full node consists of 32 CPU cores, 229376 MiB of memory and 0 GPUs and can be shared by up to 32 jobs.\n"
     ]
    },
    {
     "name": "stdout",
     "output_type": "stream",
     "text": [
      "Submitted batch job 1659696\n"
     ]
    },
    {
     "name": "stderr",
     "output_type": "stream",
     "text": [
      "sbatch: Single node jobs run on a shared node by default. Add --exclusive if you want to use a node exclusively.\n",
      "sbatch: You will be charged for 0.03125 node. A full node consists of 32 CPU cores, 229376 MiB of memory and 0 GPUs and can be shared by up to 32 jobs.\n"
     ]
    },
    {
     "name": "stdout",
     "output_type": "stream",
     "text": [
      "Submitted batch job 1659697\n"
     ]
    },
    {
     "name": "stderr",
     "output_type": "stream",
     "text": [
      "sbatch: Single node jobs run on a shared node by default. Add --exclusive if you want to use a node exclusively.\n",
      "sbatch: You will be charged for 0.03125 node. A full node consists of 32 CPU cores, 229376 MiB of memory and 0 GPUs and can be shared by up to 32 jobs.\n"
     ]
    },
    {
     "name": "stdout",
     "output_type": "stream",
     "text": [
      "Submitted batch job 1659698\n"
     ]
    },
    {
     "name": "stderr",
     "output_type": "stream",
     "text": [
      "sbatch: Single node jobs run on a shared node by default. Add --exclusive if you want to use a node exclusively.\n",
      "sbatch: You will be charged for 0.03125 node. A full node consists of 32 CPU cores, 229376 MiB of memory and 0 GPUs and can be shared by up to 32 jobs.\n"
     ]
    },
    {
     "name": "stdout",
     "output_type": "stream",
     "text": [
      "Submitted batch job 1659699\n"
     ]
    },
    {
     "name": "stderr",
     "output_type": "stream",
     "text": [
      "sbatch: Single node jobs run on a shared node by default. Add --exclusive if you want to use a node exclusively.\n",
      "sbatch: You will be charged for 0.03125 node. A full node consists of 32 CPU cores, 229376 MiB of memory and 0 GPUs and can be shared by up to 32 jobs.\n"
     ]
    },
    {
     "name": "stdout",
     "output_type": "stream",
     "text": [
      "Submitted batch job 1659700\n"
     ]
    },
    {
     "name": "stderr",
     "output_type": "stream",
     "text": [
      "sbatch: Single node jobs run on a shared node by default. Add --exclusive if you want to use a node exclusively.\n",
      "sbatch: You will be charged for 0.03125 node. A full node consists of 32 CPU cores, 229376 MiB of memory and 0 GPUs and can be shared by up to 32 jobs.\n"
     ]
    },
    {
     "name": "stdout",
     "output_type": "stream",
     "text": [
      "Submitted batch job 1659701\n",
      "Submitted batch job 1659703\n"
     ]
    },
    {
     "name": "stderr",
     "output_type": "stream",
     "text": [
      "sbatch: Single node jobs run on a shared node by default. Add --exclusive if you want to use a node exclusively.\n",
      "sbatch: You will be charged for 0.03125 node. A full node consists of 32 CPU cores, 229376 MiB of memory and 0 GPUs and can be shared by up to 32 jobs.\n"
     ]
    },
    {
     "name": "stdout",
     "output_type": "stream",
     "text": [
      "Submitted batch job 1659704\n"
     ]
    },
    {
     "name": "stderr",
     "output_type": "stream",
     "text": [
      "sbatch: Single node jobs run on a shared node by default. Add --exclusive if you want to use a node exclusively.\n",
      "sbatch: You will be charged for 0.03125 node. A full node consists of 32 CPU cores, 229376 MiB of memory and 0 GPUs and can be shared by up to 32 jobs.\n",
      "sbatch: Single node jobs run on a shared node by default. Add --exclusive if you want to use a node exclusively.\n",
      "sbatch: You will be charged for 0.03125 node. A full node consists of 32 CPU cores, 229376 MiB of memory and 0 GPUs and can be shared by up to 32 jobs.\n"
     ]
    },
    {
     "name": "stdout",
     "output_type": "stream",
     "text": [
      "Submitted batch job 1659705\n"
     ]
    },
    {
     "name": "stderr",
     "output_type": "stream",
     "text": [
      "sbatch: Single node jobs run on a shared node by default. Add --exclusive if you want to use a node exclusively.\n",
      "sbatch: You will be charged for 0.03125 node. A full node consists of 32 CPU cores, 229376 MiB of memory and 0 GPUs and can be shared by up to 32 jobs.\n"
     ]
    },
    {
     "name": "stdout",
     "output_type": "stream",
     "text": [
      "Submitted batch job 1659706\n"
     ]
    },
    {
     "name": "stderr",
     "output_type": "stream",
     "text": [
      "sbatch: Single node jobs run on a shared node by default. Add --exclusive if you want to use a node exclusively.\n",
      "sbatch: You will be charged for 0.03125 node. A full node consists of 32 CPU cores, 229376 MiB of memory and 0 GPUs and can be shared by up to 32 jobs.\n"
     ]
    },
    {
     "name": "stdout",
     "output_type": "stream",
     "text": [
      "Submitted batch job 1659707\n"
     ]
    },
    {
     "name": "stderr",
     "output_type": "stream",
     "text": [
      "sbatch: Single node jobs run on a shared node by default. Add --exclusive if you want to use a node exclusively.\n",
      "sbatch: You will be charged for 0.03125 node. A full node consists of 32 CPU cores, 229376 MiB of memory and 0 GPUs and can be shared by up to 32 jobs.\n"
     ]
    },
    {
     "name": "stdout",
     "output_type": "stream",
     "text": [
      "Submitted batch job 1659708\n"
     ]
    },
    {
     "name": "stderr",
     "output_type": "stream",
     "text": [
      "sbatch: Single node jobs run on a shared node by default. Add --exclusive if you want to use a node exclusively.\n",
      "sbatch: You will be charged for 0.03125 node. A full node consists of 32 CPU cores, 229376 MiB of memory and 0 GPUs and can be shared by up to 32 jobs.\n"
     ]
    },
    {
     "name": "stdout",
     "output_type": "stream",
     "text": [
      "Submitted batch job 1659720\n"
     ]
    },
    {
     "name": "stderr",
     "output_type": "stream",
     "text": [
      "sbatch: Single node jobs run on a shared node by default. Add --exclusive if you want to use a node exclusively.\n",
      "sbatch: You will be charged for 0.03125 node. A full node consists of 32 CPU cores, 229376 MiB of memory and 0 GPUs and can be shared by up to 32 jobs.\n"
     ]
    },
    {
     "name": "stdout",
     "output_type": "stream",
     "text": [
      "Submitted batch job 1659721\n"
     ]
    },
    {
     "name": "stderr",
     "output_type": "stream",
     "text": [
      "sbatch: Single node jobs run on a shared node by default. Add --exclusive if you want to use a node exclusively.\n",
      "sbatch: You will be charged for 0.03125 node. A full node consists of 32 CPU cores, 229376 MiB of memory and 0 GPUs and can be shared by up to 32 jobs.\n"
     ]
    },
    {
     "name": "stdout",
     "output_type": "stream",
     "text": [
      "Submitted batch job 1659722\n"
     ]
    },
    {
     "name": "stderr",
     "output_type": "stream",
     "text": [
      "sbatch: Single node jobs run on a shared node by default. Add --exclusive if you want to use a node exclusively.\n",
      "sbatch: You will be charged for 0.03125 node. A full node consists of 32 CPU cores, 229376 MiB of memory and 0 GPUs and can be shared by up to 32 jobs.\n"
     ]
    },
    {
     "name": "stdout",
     "output_type": "stream",
     "text": [
      "Submitted batch job 1659723\n"
     ]
    },
    {
     "name": "stderr",
     "output_type": "stream",
     "text": [
      "sbatch: Single node jobs run on a shared node by default. Add --exclusive if you want to use a node exclusively.\n",
      "sbatch: You will be charged for 0.03125 node. A full node consists of 32 CPU cores, 229376 MiB of memory and 0 GPUs and can be shared by up to 32 jobs.\n"
     ]
    },
    {
     "name": "stdout",
     "output_type": "stream",
     "text": [
      "Submitted batch job 1659724\n"
     ]
    },
    {
     "name": "stderr",
     "output_type": "stream",
     "text": [
      "sbatch: Single node jobs run on a shared node by default. Add --exclusive if you want to use a node exclusively.\n",
      "sbatch: You will be charged for 0.03125 node. A full node consists of 32 CPU cores, 229376 MiB of memory and 0 GPUs and can be shared by up to 32 jobs.\n"
     ]
    },
    {
     "name": "stdout",
     "output_type": "stream",
     "text": [
      "Submitted batch job 1659725\n"
     ]
    },
    {
     "name": "stderr",
     "output_type": "stream",
     "text": [
      "sbatch: Single node jobs run on a shared node by default. Add --exclusive if you want to use a node exclusively.\n",
      "sbatch: You will be charged for 0.03125 node. A full node consists of 32 CPU cores, 229376 MiB of memory and 0 GPUs and can be shared by up to 32 jobs.\n"
     ]
    },
    {
     "name": "stdout",
     "output_type": "stream",
     "text": [
      "Submitted batch job 1659726\n"
     ]
    },
    {
     "name": "stderr",
     "output_type": "stream",
     "text": [
      "sbatch: Single node jobs run on a shared node by default. Add --exclusive if you want to use a node exclusively.\n",
      "sbatch: You will be charged for 0.03125 node. A full node consists of 32 CPU cores, 229376 MiB of memory and 0 GPUs and can be shared by up to 32 jobs.\n"
     ]
    },
    {
     "name": "stdout",
     "output_type": "stream",
     "text": [
      "Submitted batch job 1659727\n"
     ]
    },
    {
     "name": "stderr",
     "output_type": "stream",
     "text": [
      "sbatch: Single node jobs run on a shared node by default. Add --exclusive if you want to use a node exclusively.\n",
      "sbatch: You will be charged for 0.03125 node. A full node consists of 32 CPU cores, 229376 MiB of memory and 0 GPUs and can be shared by up to 32 jobs.\n"
     ]
    },
    {
     "name": "stdout",
     "output_type": "stream",
     "text": [
      "Submitted batch job 1659746\n"
     ]
    },
    {
     "name": "stderr",
     "output_type": "stream",
     "text": [
      "sbatch: Single node jobs run on a shared node by default. Add --exclusive if you want to use a node exclusively.\n",
      "sbatch: You will be charged for 0.03125 node. A full node consists of 32 CPU cores, 229376 MiB of memory and 0 GPUs and can be shared by up to 32 jobs.\n"
     ]
    },
    {
     "name": "stdout",
     "output_type": "stream",
     "text": [
      "Submitted batch job 1659747\n"
     ]
    },
    {
     "name": "stderr",
     "output_type": "stream",
     "text": [
      "sbatch: Single node jobs run on a shared node by default. Add --exclusive if you want to use a node exclusively.\n",
      "sbatch: You will be charged for 0.03125 node. A full node consists of 32 CPU cores, 229376 MiB of memory and 0 GPUs and can be shared by up to 32 jobs.\n"
     ]
    },
    {
     "name": "stdout",
     "output_type": "stream",
     "text": [
      "Submitted batch job 1659748\n"
     ]
    },
    {
     "name": "stderr",
     "output_type": "stream",
     "text": [
      "sbatch: Single node jobs run on a shared node by default. Add --exclusive if you want to use a node exclusively.\n",
      "sbatch: You will be charged for 0.03125 node. A full node consists of 32 CPU cores, 229376 MiB of memory and 0 GPUs and can be shared by up to 32 jobs.\n"
     ]
    },
    {
     "name": "stdout",
     "output_type": "stream",
     "text": [
      "Submitted batch job 1659749\n"
     ]
    },
    {
     "name": "stderr",
     "output_type": "stream",
     "text": [
      "sbatch: Single node jobs run on a shared node by default. Add --exclusive if you want to use a node exclusively.\n",
      "sbatch: You will be charged for 0.03125 node. A full node consists of 32 CPU cores, 229376 MiB of memory and 0 GPUs and can be shared by up to 32 jobs.\n"
     ]
    },
    {
     "name": "stdout",
     "output_type": "stream",
     "text": [
      "Submitted batch job 1659750\n",
      "Submitted batch job 1659751\n"
     ]
    },
    {
     "name": "stderr",
     "output_type": "stream",
     "text": [
      "sbatch: Single node jobs run on a shared node by default. Add --exclusive if you want to use a node exclusively.\n",
      "sbatch: You will be charged for 0.03125 node. A full node consists of 32 CPU cores, 229376 MiB of memory and 0 GPUs and can be shared by up to 32 jobs.\n",
      "sbatch: Single node jobs run on a shared node by default. Add --exclusive if you want to use a node exclusively.\n",
      "sbatch: You will be charged for 0.03125 node. A full node consists of 32 CPU cores, 229376 MiB of memory and 0 GPUs and can be shared by up to 32 jobs.\n"
     ]
    },
    {
     "name": "stdout",
     "output_type": "stream",
     "text": [
      "Submitted batch job 1659752\n"
     ]
    },
    {
     "name": "stderr",
     "output_type": "stream",
     "text": [
      "sbatch: Single node jobs run on a shared node by default. Add --exclusive if you want to use a node exclusively.\n",
      "sbatch: You will be charged for 0.03125 node. A full node consists of 32 CPU cores, 229376 MiB of memory and 0 GPUs and can be shared by up to 32 jobs.\n"
     ]
    },
    {
     "name": "stdout",
     "output_type": "stream",
     "text": [
      "Submitted batch job 1659753\n"
     ]
    },
    {
     "name": "stderr",
     "output_type": "stream",
     "text": [
      "sbatch: Single node jobs run on a shared node by default. Add --exclusive if you want to use a node exclusively.\n",
      "sbatch: You will be charged for 0.03125 node. A full node consists of 32 CPU cores, 229376 MiB of memory and 0 GPUs and can be shared by up to 32 jobs.\n"
     ]
    },
    {
     "name": "stdout",
     "output_type": "stream",
     "text": [
      "Submitted batch job 1659754\n",
      "Submitted batch job 1659755\n"
     ]
    },
    {
     "name": "stderr",
     "output_type": "stream",
     "text": [
      "sbatch: Single node jobs run on a shared node by default. Add --exclusive if you want to use a node exclusively.\n",
      "sbatch: You will be charged for 0.03125 node. A full node consists of 32 CPU cores, 229376 MiB of memory and 0 GPUs and can be shared by up to 32 jobs.\n",
      "sbatch: Single node jobs run on a shared node by default. Add --exclusive if you want to use a node exclusively.\n",
      "sbatch: You will be charged for 0.03125 node. A full node consists of 32 CPU cores, 229376 MiB of memory and 0 GPUs and can be shared by up to 32 jobs.\n"
     ]
    },
    {
     "name": "stdout",
     "output_type": "stream",
     "text": [
      "Submitted batch job 1659756\n"
     ]
    },
    {
     "name": "stderr",
     "output_type": "stream",
     "text": [
      "sbatch: Single node jobs run on a shared node by default. Add --exclusive if you want to use a node exclusively.\n",
      "sbatch: You will be charged for 0.03125 node. A full node consists of 32 CPU cores, 229376 MiB of memory and 0 GPUs and can be shared by up to 32 jobs.\n"
     ]
    },
    {
     "name": "stdout",
     "output_type": "stream",
     "text": [
      "Submitted batch job 1659757\n"
     ]
    },
    {
     "name": "stderr",
     "output_type": "stream",
     "text": [
      "sbatch: Single node jobs run on a shared node by default. Add --exclusive if you want to use a node exclusively.\n",
      "sbatch: You will be charged for 0.03125 node. A full node consists of 32 CPU cores, 229376 MiB of memory and 0 GPUs and can be shared by up to 32 jobs.\n"
     ]
    },
    {
     "name": "stdout",
     "output_type": "stream",
     "text": [
      "Submitted batch job 1659758\n"
     ]
    },
    {
     "name": "stderr",
     "output_type": "stream",
     "text": [
      "sbatch: Single node jobs run on a shared node by default. Add --exclusive if you want to use a node exclusively.\n",
      "sbatch: You will be charged for 0.03125 node. A full node consists of 32 CPU cores, 229376 MiB of memory and 0 GPUs and can be shared by up to 32 jobs.\n"
     ]
    },
    {
     "name": "stdout",
     "output_type": "stream",
     "text": [
      "Submitted batch job 1659759\n"
     ]
    },
    {
     "name": "stderr",
     "output_type": "stream",
     "text": [
      "sbatch: Single node jobs run on a shared node by default. Add --exclusive if you want to use a node exclusively.\n",
      "sbatch: You will be charged for 0.03125 node. A full node consists of 32 CPU cores, 229376 MiB of memory and 0 GPUs and can be shared by up to 32 jobs.\n"
     ]
    },
    {
     "name": "stdout",
     "output_type": "stream",
     "text": [
      "Submitted batch job 1659760\n"
     ]
    },
    {
     "name": "stderr",
     "output_type": "stream",
     "text": [
      "sbatch: Single node jobs run on a shared node by default. Add --exclusive if you want to use a node exclusively.\n",
      "sbatch: You will be charged for 0.03125 node. A full node consists of 32 CPU cores, 229376 MiB of memory and 0 GPUs and can be shared by up to 32 jobs.\n"
     ]
    },
    {
     "name": "stdout",
     "output_type": "stream",
     "text": [
      "Submitted batch job 1659761\n"
     ]
    },
    {
     "name": "stderr",
     "output_type": "stream",
     "text": [
      "sbatch: Single node jobs run on a shared node by default. Add --exclusive if you want to use a node exclusively.\n",
      "sbatch: You will be charged for 0.03125 node. A full node consists of 32 CPU cores, 229376 MiB of memory and 0 GPUs and can be shared by up to 32 jobs.\n"
     ]
    },
    {
     "name": "stdout",
     "output_type": "stream",
     "text": [
      "Submitted batch job 1659762\n"
     ]
    },
    {
     "name": "stderr",
     "output_type": "stream",
     "text": [
      "sbatch: Single node jobs run on a shared node by default. Add --exclusive if you want to use a node exclusively.\n",
      "sbatch: You will be charged for 0.03125 node. A full node consists of 32 CPU cores, 229376 MiB of memory and 0 GPUs and can be shared by up to 32 jobs.\n"
     ]
    },
    {
     "name": "stdout",
     "output_type": "stream",
     "text": [
      "Submitted batch job 1659763\n"
     ]
    },
    {
     "name": "stderr",
     "output_type": "stream",
     "text": [
      "sbatch: Single node jobs run on a shared node by default. Add --exclusive if you want to use a node exclusively.\n",
      "sbatch: You will be charged for 0.03125 node. A full node consists of 32 CPU cores, 229376 MiB of memory and 0 GPUs and can be shared by up to 32 jobs.\n"
     ]
    },
    {
     "name": "stdout",
     "output_type": "stream",
     "text": [
      "Submitted batch job 1659764\n"
     ]
    },
    {
     "name": "stderr",
     "output_type": "stream",
     "text": [
      "sbatch: Single node jobs run on a shared node by default. Add --exclusive if you want to use a node exclusively.\n",
      "sbatch: You will be charged for 0.03125 node. A full node consists of 32 CPU cores, 229376 MiB of memory and 0 GPUs and can be shared by up to 32 jobs.\n"
     ]
    },
    {
     "name": "stdout",
     "output_type": "stream",
     "text": [
      "Submitted batch job 1659765\n"
     ]
    },
    {
     "name": "stderr",
     "output_type": "stream",
     "text": [
      "sbatch: Single node jobs run on a shared node by default. Add --exclusive if you want to use a node exclusively.\n",
      "sbatch: You will be charged for 0.03125 node. A full node consists of 32 CPU cores, 229376 MiB of memory and 0 GPUs and can be shared by up to 32 jobs.\n"
     ]
    },
    {
     "name": "stdout",
     "output_type": "stream",
     "text": [
      "Submitted batch job 1659766\n"
     ]
    },
    {
     "name": "stderr",
     "output_type": "stream",
     "text": [
      "sbatch: Single node jobs run on a shared node by default. Add --exclusive if you want to use a node exclusively.\n",
      "sbatch: You will be charged for 0.03125 node. A full node consists of 32 CPU cores, 229376 MiB of memory and 0 GPUs and can be shared by up to 32 jobs.\n"
     ]
    },
    {
     "name": "stdout",
     "output_type": "stream",
     "text": [
      "Submitted batch job 1659767\n"
     ]
    },
    {
     "name": "stderr",
     "output_type": "stream",
     "text": [
      "sbatch: Single node jobs run on a shared node by default. Add --exclusive if you want to use a node exclusively.\n",
      "sbatch: You will be charged for 0.03125 node. A full node consists of 32 CPU cores, 229376 MiB of memory and 0 GPUs and can be shared by up to 32 jobs.\n"
     ]
    },
    {
     "name": "stdout",
     "output_type": "stream",
     "text": [
      "Submitted batch job 1659768\n"
     ]
    },
    {
     "name": "stderr",
     "output_type": "stream",
     "text": [
      "sbatch: Single node jobs run on a shared node by default. Add --exclusive if you want to use a node exclusively.\n",
      "sbatch: You will be charged for 0.03125 node. A full node consists of 32 CPU cores, 229376 MiB of memory and 0 GPUs and can be shared by up to 32 jobs.\n"
     ]
    },
    {
     "name": "stdout",
     "output_type": "stream",
     "text": [
      "Submitted batch job 1659769\n"
     ]
    },
    {
     "name": "stderr",
     "output_type": "stream",
     "text": [
      "sbatch: Single node jobs run on a shared node by default. Add --exclusive if you want to use a node exclusively.\n",
      "sbatch: You will be charged for 0.03125 node. A full node consists of 32 CPU cores, 229376 MiB of memory and 0 GPUs and can be shared by up to 32 jobs.\n"
     ]
    },
    {
     "name": "stdout",
     "output_type": "stream",
     "text": [
      "Submitted batch job 1659770\n"
     ]
    },
    {
     "name": "stderr",
     "output_type": "stream",
     "text": [
      "sbatch: Single node jobs run on a shared node by default. Add --exclusive if you want to use a node exclusively.\n",
      "sbatch: You will be charged for 0.03125 node. A full node consists of 32 CPU cores, 229376 MiB of memory and 0 GPUs and can be shared by up to 32 jobs.\n"
     ]
    },
    {
     "name": "stdout",
     "output_type": "stream",
     "text": [
      "Submitted batch job 1659772\n"
     ]
    },
    {
     "name": "stderr",
     "output_type": "stream",
     "text": [
      "sbatch: Single node jobs run on a shared node by default. Add --exclusive if you want to use a node exclusively.\n",
      "sbatch: You will be charged for 0.03125 node. A full node consists of 32 CPU cores, 229376 MiB of memory and 0 GPUs and can be shared by up to 32 jobs.\n"
     ]
    },
    {
     "name": "stdout",
     "output_type": "stream",
     "text": [
      "Submitted batch job 1659773\n"
     ]
    },
    {
     "name": "stderr",
     "output_type": "stream",
     "text": [
      "sbatch: Single node jobs run on a shared node by default. Add --exclusive if you want to use a node exclusively.\n",
      "sbatch: You will be charged for 0.03125 node. A full node consists of 32 CPU cores, 229376 MiB of memory and 0 GPUs and can be shared by up to 32 jobs.\n"
     ]
    },
    {
     "name": "stdout",
     "output_type": "stream",
     "text": [
      "Submitted batch job 1659774\n"
     ]
    },
    {
     "name": "stderr",
     "output_type": "stream",
     "text": [
      "sbatch: Single node jobs run on a shared node by default. Add --exclusive if you want to use a node exclusively.\n",
      "sbatch: You will be charged for 0.03125 node. A full node consists of 32 CPU cores, 229376 MiB of memory and 0 GPUs and can be shared by up to 32 jobs.\n"
     ]
    },
    {
     "name": "stdout",
     "output_type": "stream",
     "text": [
      "Submitted batch job 1659775\n"
     ]
    },
    {
     "name": "stderr",
     "output_type": "stream",
     "text": [
      "sbatch: Single node jobs run on a shared node by default. Add --exclusive if you want to use a node exclusively.\n",
      "sbatch: You will be charged for 0.03125 node. A full node consists of 32 CPU cores, 229376 MiB of memory and 0 GPUs and can be shared by up to 32 jobs.\n"
     ]
    },
    {
     "name": "stdout",
     "output_type": "stream",
     "text": [
      "Submitted batch job 1659777\n"
     ]
    },
    {
     "name": "stderr",
     "output_type": "stream",
     "text": [
      "sbatch: Single node jobs run on a shared node by default. Add --exclusive if you want to use a node exclusively.\n",
      "sbatch: You will be charged for 0.03125 node. A full node consists of 32 CPU cores, 229376 MiB of memory and 0 GPUs and can be shared by up to 32 jobs.\n"
     ]
    },
    {
     "name": "stdout",
     "output_type": "stream",
     "text": [
      "Submitted batch job 1659778\n"
     ]
    },
    {
     "name": "stderr",
     "output_type": "stream",
     "text": [
      "sbatch: Single node jobs run on a shared node by default. Add --exclusive if you want to use a node exclusively.\n",
      "sbatch: You will be charged for 0.03125 node. A full node consists of 32 CPU cores, 229376 MiB of memory and 0 GPUs and can be shared by up to 32 jobs.\n"
     ]
    },
    {
     "name": "stdout",
     "output_type": "stream",
     "text": [
      "Submitted batch job 1659779\n"
     ]
    },
    {
     "name": "stderr",
     "output_type": "stream",
     "text": [
      "sbatch: Single node jobs run on a shared node by default. Add --exclusive if you want to use a node exclusively.\n",
      "sbatch: You will be charged for 0.03125 node. A full node consists of 32 CPU cores, 229376 MiB of memory and 0 GPUs and can be shared by up to 32 jobs.\n"
     ]
    },
    {
     "name": "stdout",
     "output_type": "stream",
     "text": [
      "Submitted batch job 1659794\n"
     ]
    },
    {
     "name": "stderr",
     "output_type": "stream",
     "text": [
      "sbatch: Single node jobs run on a shared node by default. Add --exclusive if you want to use a node exclusively.\n",
      "sbatch: You will be charged for 0.03125 node. A full node consists of 32 CPU cores, 229376 MiB of memory and 0 GPUs and can be shared by up to 32 jobs.\n"
     ]
    },
    {
     "name": "stdout",
     "output_type": "stream",
     "text": [
      "Submitted batch job 1659796\n"
     ]
    },
    {
     "name": "stderr",
     "output_type": "stream",
     "text": [
      "sbatch: Single node jobs run on a shared node by default. Add --exclusive if you want to use a node exclusively.\n",
      "sbatch: You will be charged for 0.03125 node. A full node consists of 32 CPU cores, 229376 MiB of memory and 0 GPUs and can be shared by up to 32 jobs.\n"
     ]
    },
    {
     "name": "stdout",
     "output_type": "stream",
     "text": [
      "Submitted batch job 1659797\n"
     ]
    },
    {
     "name": "stderr",
     "output_type": "stream",
     "text": [
      "sbatch: Single node jobs run on a shared node by default. Add --exclusive if you want to use a node exclusively.\n",
      "sbatch: You will be charged for 0.03125 node. A full node consists of 32 CPU cores, 229376 MiB of memory and 0 GPUs and can be shared by up to 32 jobs.\n"
     ]
    },
    {
     "name": "stdout",
     "output_type": "stream",
     "text": [
      "Submitted batch job 1659798\n"
     ]
    },
    {
     "name": "stderr",
     "output_type": "stream",
     "text": [
      "sbatch: Single node jobs run on a shared node by default. Add --exclusive if you want to use a node exclusively.\n",
      "sbatch: You will be charged for 0.03125 node. A full node consists of 32 CPU cores, 229376 MiB of memory and 0 GPUs and can be shared by up to 32 jobs.\n"
     ]
    },
    {
     "name": "stdout",
     "output_type": "stream",
     "text": [
      "Submitted batch job 1659799\n"
     ]
    },
    {
     "name": "stderr",
     "output_type": "stream",
     "text": [
      "sbatch: Single node jobs run on a shared node by default. Add --exclusive if you want to use a node exclusively.\n",
      "sbatch: You will be charged for 0.03125 node. A full node consists of 32 CPU cores, 229376 MiB of memory and 0 GPUs and can be shared by up to 32 jobs.\n"
     ]
    },
    {
     "name": "stdout",
     "output_type": "stream",
     "text": [
      "Submitted batch job 1659800\n"
     ]
    },
    {
     "name": "stderr",
     "output_type": "stream",
     "text": [
      "sbatch: Single node jobs run on a shared node by default. Add --exclusive if you want to use a node exclusively.\n",
      "sbatch: You will be charged for 0.03125 node. A full node consists of 32 CPU cores, 229376 MiB of memory and 0 GPUs and can be shared by up to 32 jobs.\n"
     ]
    },
    {
     "name": "stdout",
     "output_type": "stream",
     "text": [
      "Submitted batch job 1659801\n"
     ]
    },
    {
     "name": "stderr",
     "output_type": "stream",
     "text": [
      "sbatch: Single node jobs run on a shared node by default. Add --exclusive if you want to use a node exclusively.\n",
      "sbatch: You will be charged for 0.03125 node. A full node consists of 32 CPU cores, 229376 MiB of memory and 0 GPUs and can be shared by up to 32 jobs.\n"
     ]
    },
    {
     "name": "stdout",
     "output_type": "stream",
     "text": [
      "Submitted batch job 1659802\n"
     ]
    },
    {
     "name": "stderr",
     "output_type": "stream",
     "text": [
      "sbatch: Single node jobs run on a shared node by default. Add --exclusive if you want to use a node exclusively.\n",
      "sbatch: You will be charged for 0.03125 node. A full node consists of 32 CPU cores, 229376 MiB of memory and 0 GPUs and can be shared by up to 32 jobs.\n"
     ]
    },
    {
     "name": "stdout",
     "output_type": "stream",
     "text": [
      "Submitted batch job 1659803\n",
      "Submitted batch job 1659804\n"
     ]
    },
    {
     "name": "stderr",
     "output_type": "stream",
     "text": [
      "sbatch: Single node jobs run on a shared node by default. Add --exclusive if you want to use a node exclusively.\n",
      "sbatch: You will be charged for 0.03125 node. A full node consists of 32 CPU cores, 229376 MiB of memory and 0 GPUs and can be shared by up to 32 jobs.\n",
      "sbatch: Single node jobs run on a shared node by default. Add --exclusive if you want to use a node exclusively.\n",
      "sbatch: You will be charged for 0.03125 node. A full node consists of 32 CPU cores, 229376 MiB of memory and 0 GPUs and can be shared by up to 32 jobs.\n"
     ]
    },
    {
     "name": "stdout",
     "output_type": "stream",
     "text": [
      "Submitted batch job 1659805\n"
     ]
    },
    {
     "name": "stderr",
     "output_type": "stream",
     "text": [
      "sbatch: Single node jobs run on a shared node by default. Add --exclusive if you want to use a node exclusively.\n",
      "sbatch: You will be charged for 0.03125 node. A full node consists of 32 CPU cores, 229376 MiB of memory and 0 GPUs and can be shared by up to 32 jobs.\n"
     ]
    },
    {
     "name": "stdout",
     "output_type": "stream",
     "text": [
      "Submitted batch job 1659806\n"
     ]
    },
    {
     "name": "stderr",
     "output_type": "stream",
     "text": [
      "sbatch: Single node jobs run on a shared node by default. Add --exclusive if you want to use a node exclusively.\n",
      "sbatch: You will be charged for 0.03125 node. A full node consists of 32 CPU cores, 229376 MiB of memory and 0 GPUs and can be shared by up to 32 jobs.\n"
     ]
    },
    {
     "name": "stdout",
     "output_type": "stream",
     "text": [
      "Submitted batch job 1659807\n"
     ]
    },
    {
     "name": "stderr",
     "output_type": "stream",
     "text": [
      "sbatch: Single node jobs run on a shared node by default. Add --exclusive if you want to use a node exclusively.\n",
      "sbatch: You will be charged for 0.03125 node. A full node consists of 32 CPU cores, 229376 MiB of memory and 0 GPUs and can be shared by up to 32 jobs.\n"
     ]
    },
    {
     "name": "stdout",
     "output_type": "stream",
     "text": [
      "Submitted batch job 1659809\n",
      "Submitted batch job 1659810\n"
     ]
    },
    {
     "name": "stderr",
     "output_type": "stream",
     "text": [
      "sbatch: Single node jobs run on a shared node by default. Add --exclusive if you want to use a node exclusively.\n",
      "sbatch: You will be charged for 0.03125 node. A full node consists of 32 CPU cores, 229376 MiB of memory and 0 GPUs and can be shared by up to 32 jobs.\n",
      "sbatch: Single node jobs run on a shared node by default. Add --exclusive if you want to use a node exclusively.\n",
      "sbatch: You will be charged for 0.03125 node. A full node consists of 32 CPU cores, 229376 MiB of memory and 0 GPUs and can be shared by up to 32 jobs.\n"
     ]
    },
    {
     "name": "stdout",
     "output_type": "stream",
     "text": [
      "Submitted batch job 1659811\n"
     ]
    },
    {
     "name": "stderr",
     "output_type": "stream",
     "text": [
      "sbatch: Single node jobs run on a shared node by default. Add --exclusive if you want to use a node exclusively.\n",
      "sbatch: You will be charged for 0.03125 node. A full node consists of 32 CPU cores, 229376 MiB of memory and 0 GPUs and can be shared by up to 32 jobs.\n"
     ]
    },
    {
     "name": "stdout",
     "output_type": "stream",
     "text": [
      "Submitted batch job 1659813\n"
     ]
    },
    {
     "name": "stderr",
     "output_type": "stream",
     "text": [
      "sbatch: Single node jobs run on a shared node by default. Add --exclusive if you want to use a node exclusively.\n",
      "sbatch: You will be charged for 0.03125 node. A full node consists of 32 CPU cores, 229376 MiB of memory and 0 GPUs and can be shared by up to 32 jobs.\n"
     ]
    },
    {
     "name": "stdout",
     "output_type": "stream",
     "text": [
      "Submitted batch job 1659814\n"
     ]
    },
    {
     "name": "stderr",
     "output_type": "stream",
     "text": [
      "sbatch: Single node jobs run on a shared node by default. Add --exclusive if you want to use a node exclusively.\n",
      "sbatch: You will be charged for 0.03125 node. A full node consists of 32 CPU cores, 229376 MiB of memory and 0 GPUs and can be shared by up to 32 jobs.\n"
     ]
    },
    {
     "name": "stdout",
     "output_type": "stream",
     "text": [
      "Submitted batch job 1659815\n"
     ]
    },
    {
     "name": "stderr",
     "output_type": "stream",
     "text": [
      "sbatch: Single node jobs run on a shared node by default. Add --exclusive if you want to use a node exclusively.\n",
      "sbatch: You will be charged for 0.03125 node. A full node consists of 32 CPU cores, 229376 MiB of memory and 0 GPUs and can be shared by up to 32 jobs.\n"
     ]
    },
    {
     "name": "stdout",
     "output_type": "stream",
     "text": [
      "Submitted batch job 1659816\n"
     ]
    },
    {
     "name": "stderr",
     "output_type": "stream",
     "text": [
      "sbatch: Single node jobs run on a shared node by default. Add --exclusive if you want to use a node exclusively.\n",
      "sbatch: You will be charged for 0.03125 node. A full node consists of 32 CPU cores, 229376 MiB of memory and 0 GPUs and can be shared by up to 32 jobs.\n"
     ]
    },
    {
     "name": "stdout",
     "output_type": "stream",
     "text": [
      "Submitted batch job 1659817\n"
     ]
    },
    {
     "name": "stderr",
     "output_type": "stream",
     "text": [
      "sbatch: Single node jobs run on a shared node by default. Add --exclusive if you want to use a node exclusively.\n",
      "sbatch: You will be charged for 0.03125 node. A full node consists of 32 CPU cores, 229376 MiB of memory and 0 GPUs and can be shared by up to 32 jobs.\n"
     ]
    },
    {
     "name": "stdout",
     "output_type": "stream",
     "text": [
      "Submitted batch job 1659818\n"
     ]
    },
    {
     "name": "stderr",
     "output_type": "stream",
     "text": [
      "sbatch: Single node jobs run on a shared node by default. Add --exclusive if you want to use a node exclusively.\n",
      "sbatch: You will be charged for 0.03125 node. A full node consists of 32 CPU cores, 229376 MiB of memory and 0 GPUs and can be shared by up to 32 jobs.\n"
     ]
    },
    {
     "name": "stdout",
     "output_type": "stream",
     "text": [
      "Submitted batch job 1659819\n"
     ]
    },
    {
     "name": "stderr",
     "output_type": "stream",
     "text": [
      "sbatch: Single node jobs run on a shared node by default. Add --exclusive if you want to use a node exclusively.\n",
      "sbatch: You will be charged for 0.03125 node. A full node consists of 32 CPU cores, 229376 MiB of memory and 0 GPUs and can be shared by up to 32 jobs.\n"
     ]
    },
    {
     "name": "stdout",
     "output_type": "stream",
     "text": [
      "Submitted batch job 1659820\n"
     ]
    },
    {
     "name": "stderr",
     "output_type": "stream",
     "text": [
      "sbatch: Single node jobs run on a shared node by default. Add --exclusive if you want to use a node exclusively.\n",
      "sbatch: You will be charged for 0.03125 node. A full node consists of 32 CPU cores, 229376 MiB of memory and 0 GPUs and can be shared by up to 32 jobs.\n"
     ]
    },
    {
     "name": "stdout",
     "output_type": "stream",
     "text": [
      "Submitted batch job 1659822\n"
     ]
    },
    {
     "name": "stderr",
     "output_type": "stream",
     "text": [
      "sbatch: Single node jobs run on a shared node by default. Add --exclusive if you want to use a node exclusively.\n",
      "sbatch: You will be charged for 0.03125 node. A full node consists of 32 CPU cores, 229376 MiB of memory and 0 GPUs and can be shared by up to 32 jobs.\n"
     ]
    },
    {
     "name": "stdout",
     "output_type": "stream",
     "text": [
      "Submitted batch job 1659823\n",
      "Submitted batch job 1659829\n"
     ]
    },
    {
     "name": "stderr",
     "output_type": "stream",
     "text": [
      "sbatch: Single node jobs run on a shared node by default. Add --exclusive if you want to use a node exclusively.\n",
      "sbatch: You will be charged for 0.03125 node. A full node consists of 32 CPU cores, 229376 MiB of memory and 0 GPUs and can be shared by up to 32 jobs.\n"
     ]
    },
    {
     "name": "stdout",
     "output_type": "stream",
     "text": [
      "Submitted batch job 1659830\n"
     ]
    },
    {
     "name": "stderr",
     "output_type": "stream",
     "text": [
      "sbatch: Single node jobs run on a shared node by default. Add --exclusive if you want to use a node exclusively.\n",
      "sbatch: You will be charged for 0.03125 node. A full node consists of 32 CPU cores, 229376 MiB of memory and 0 GPUs and can be shared by up to 32 jobs.\n",
      "sbatch: Single node jobs run on a shared node by default. Add --exclusive if you want to use a node exclusively.\n",
      "sbatch: You will be charged for 0.03125 node. A full node consists of 32 CPU cores, 229376 MiB of memory and 0 GPUs and can be shared by up to 32 jobs.\n"
     ]
    },
    {
     "name": "stdout",
     "output_type": "stream",
     "text": [
      "Submitted batch job 1659831\n"
     ]
    },
    {
     "name": "stderr",
     "output_type": "stream",
     "text": [
      "sbatch: Single node jobs run on a shared node by default. Add --exclusive if you want to use a node exclusively.\n",
      "sbatch: You will be charged for 0.03125 node. A full node consists of 32 CPU cores, 229376 MiB of memory and 0 GPUs and can be shared by up to 32 jobs.\n"
     ]
    },
    {
     "name": "stdout",
     "output_type": "stream",
     "text": [
      "Submitted batch job 1659832\n"
     ]
    },
    {
     "name": "stderr",
     "output_type": "stream",
     "text": [
      "sbatch: Single node jobs run on a shared node by default. Add --exclusive if you want to use a node exclusively.\n",
      "sbatch: You will be charged for 0.03125 node. A full node consists of 32 CPU cores, 229376 MiB of memory and 0 GPUs and can be shared by up to 32 jobs.\n"
     ]
    },
    {
     "name": "stdout",
     "output_type": "stream",
     "text": [
      "Submitted batch job 1659833\n"
     ]
    },
    {
     "name": "stderr",
     "output_type": "stream",
     "text": [
      "sbatch: Single node jobs run on a shared node by default. Add --exclusive if you want to use a node exclusively.\n",
      "sbatch: You will be charged for 0.03125 node. A full node consists of 32 CPU cores, 229376 MiB of memory and 0 GPUs and can be shared by up to 32 jobs.\n"
     ]
    },
    {
     "name": "stdout",
     "output_type": "stream",
     "text": [
      "Submitted batch job 1659834\n"
     ]
    },
    {
     "name": "stderr",
     "output_type": "stream",
     "text": [
      "sbatch: Single node jobs run on a shared node by default. Add --exclusive if you want to use a node exclusively.\n",
      "sbatch: You will be charged for 0.03125 node. A full node consists of 32 CPU cores, 229376 MiB of memory and 0 GPUs and can be shared by up to 32 jobs.\n"
     ]
    },
    {
     "name": "stdout",
     "output_type": "stream",
     "text": [
      "Submitted batch job 1659835\n"
     ]
    },
    {
     "name": "stderr",
     "output_type": "stream",
     "text": [
      "sbatch: Single node jobs run on a shared node by default. Add --exclusive if you want to use a node exclusively.\n",
      "sbatch: You will be charged for 0.03125 node. A full node consists of 32 CPU cores, 229376 MiB of memory and 0 GPUs and can be shared by up to 32 jobs.\n"
     ]
    },
    {
     "name": "stdout",
     "output_type": "stream",
     "text": [
      "Submitted batch job 1659836\n"
     ]
    },
    {
     "name": "stderr",
     "output_type": "stream",
     "text": [
      "sbatch: Single node jobs run on a shared node by default. Add --exclusive if you want to use a node exclusively.\n",
      "sbatch: You will be charged for 0.03125 node. A full node consists of 32 CPU cores, 229376 MiB of memory and 0 GPUs and can be shared by up to 32 jobs.\n"
     ]
    },
    {
     "name": "stdout",
     "output_type": "stream",
     "text": [
      "Submitted batch job 1659837\n",
      "Submitted batch job 1659838\n"
     ]
    },
    {
     "name": "stderr",
     "output_type": "stream",
     "text": [
      "sbatch: Single node jobs run on a shared node by default. Add --exclusive if you want to use a node exclusively.\n",
      "sbatch: You will be charged for 0.03125 node. A full node consists of 32 CPU cores, 229376 MiB of memory and 0 GPUs and can be shared by up to 32 jobs.\n",
      "sbatch: Single node jobs run on a shared node by default. Add --exclusive if you want to use a node exclusively.\n",
      "sbatch: You will be charged for 0.03125 node. A full node consists of 32 CPU cores, 229376 MiB of memory and 0 GPUs and can be shared by up to 32 jobs.\n"
     ]
    },
    {
     "name": "stdout",
     "output_type": "stream",
     "text": [
      "Submitted batch job 1659839\n"
     ]
    },
    {
     "name": "stderr",
     "output_type": "stream",
     "text": [
      "sbatch: Single node jobs run on a shared node by default. Add --exclusive if you want to use a node exclusively.\n",
      "sbatch: You will be charged for 0.03125 node. A full node consists of 32 CPU cores, 229376 MiB of memory and 0 GPUs and can be shared by up to 32 jobs.\n"
     ]
    },
    {
     "name": "stdout",
     "output_type": "stream",
     "text": [
      "Submitted batch job 1659840\n"
     ]
    },
    {
     "name": "stderr",
     "output_type": "stream",
     "text": [
      "sbatch: Single node jobs run on a shared node by default. Add --exclusive if you want to use a node exclusively.\n",
      "sbatch: You will be charged for 0.03125 node. A full node consists of 32 CPU cores, 229376 MiB of memory and 0 GPUs and can be shared by up to 32 jobs.\n"
     ]
    },
    {
     "name": "stdout",
     "output_type": "stream",
     "text": [
      "Submitted batch job 1659841\n"
     ]
    },
    {
     "name": "stderr",
     "output_type": "stream",
     "text": [
      "sbatch: Single node jobs run on a shared node by default. Add --exclusive if you want to use a node exclusively.\n",
      "sbatch: You will be charged for 0.03125 node. A full node consists of 32 CPU cores, 229376 MiB of memory and 0 GPUs and can be shared by up to 32 jobs.\n"
     ]
    },
    {
     "name": "stdout",
     "output_type": "stream",
     "text": [
      "Submitted batch job 1659842\n"
     ]
    },
    {
     "name": "stderr",
     "output_type": "stream",
     "text": [
      "sbatch: Single node jobs run on a shared node by default. Add --exclusive if you want to use a node exclusively.\n",
      "sbatch: You will be charged for 0.03125 node. A full node consists of 32 CPU cores, 229376 MiB of memory and 0 GPUs and can be shared by up to 32 jobs.\n"
     ]
    },
    {
     "name": "stdout",
     "output_type": "stream",
     "text": [
      "Submitted batch job 1659853\n"
     ]
    },
    {
     "name": "stderr",
     "output_type": "stream",
     "text": [
      "sbatch: Single node jobs run on a shared node by default. Add --exclusive if you want to use a node exclusively.\n",
      "sbatch: You will be charged for 0.03125 node. A full node consists of 32 CPU cores, 229376 MiB of memory and 0 GPUs and can be shared by up to 32 jobs.\n"
     ]
    },
    {
     "name": "stdout",
     "output_type": "stream",
     "text": [
      "Submitted batch job 1659860\n"
     ]
    },
    {
     "name": "stderr",
     "output_type": "stream",
     "text": [
      "sbatch: Single node jobs run on a shared node by default. Add --exclusive if you want to use a node exclusively.\n",
      "sbatch: You will be charged for 0.03125 node. A full node consists of 32 CPU cores, 229376 MiB of memory and 0 GPUs and can be shared by up to 32 jobs.\n"
     ]
    },
    {
     "name": "stdout",
     "output_type": "stream",
     "text": [
      "Submitted batch job 1659862\n"
     ]
    },
    {
     "name": "stderr",
     "output_type": "stream",
     "text": [
      "sbatch: Single node jobs run on a shared node by default. Add --exclusive if you want to use a node exclusively.\n",
      "sbatch: You will be charged for 0.03125 node. A full node consists of 32 CPU cores, 229376 MiB of memory and 0 GPUs and can be shared by up to 32 jobs.\n"
     ]
    },
    {
     "name": "stdout",
     "output_type": "stream",
     "text": [
      "Submitted batch job 1659864\n"
     ]
    },
    {
     "name": "stderr",
     "output_type": "stream",
     "text": [
      "sbatch: Single node jobs run on a shared node by default. Add --exclusive if you want to use a node exclusively.\n",
      "sbatch: You will be charged for 0.03125 node. A full node consists of 32 CPU cores, 229376 MiB of memory and 0 GPUs and can be shared by up to 32 jobs.\n"
     ]
    },
    {
     "name": "stdout",
     "output_type": "stream",
     "text": [
      "Submitted batch job 1659866\n"
     ]
    },
    {
     "name": "stderr",
     "output_type": "stream",
     "text": [
      "sbatch: Single node jobs run on a shared node by default. Add --exclusive if you want to use a node exclusively.\n",
      "sbatch: You will be charged for 0.03125 node. A full node consists of 32 CPU cores, 229376 MiB of memory and 0 GPUs and can be shared by up to 32 jobs.\n"
     ]
    },
    {
     "name": "stdout",
     "output_type": "stream",
     "text": [
      "Submitted batch job 1659868\n"
     ]
    },
    {
     "name": "stderr",
     "output_type": "stream",
     "text": [
      "sbatch: Single node jobs run on a shared node by default. Add --exclusive if you want to use a node exclusively.\n",
      "sbatch: You will be charged for 0.03125 node. A full node consists of 32 CPU cores, 229376 MiB of memory and 0 GPUs and can be shared by up to 32 jobs.\n"
     ]
    },
    {
     "name": "stdout",
     "output_type": "stream",
     "text": [
      "Submitted batch job 1659870\n"
     ]
    },
    {
     "name": "stderr",
     "output_type": "stream",
     "text": [
      "sbatch: Single node jobs run on a shared node by default. Add --exclusive if you want to use a node exclusively.\n",
      "sbatch: You will be charged for 0.03125 node. A full node consists of 32 CPU cores, 229376 MiB of memory and 0 GPUs and can be shared by up to 32 jobs.\n"
     ]
    },
    {
     "name": "stdout",
     "output_type": "stream",
     "text": [
      "Submitted batch job 1659872\n"
     ]
    },
    {
     "name": "stderr",
     "output_type": "stream",
     "text": [
      "sbatch: Single node jobs run on a shared node by default. Add --exclusive if you want to use a node exclusively.\n",
      "sbatch: You will be charged for 0.03125 node. A full node consists of 32 CPU cores, 229376 MiB of memory and 0 GPUs and can be shared by up to 32 jobs.\n"
     ]
    },
    {
     "name": "stdout",
     "output_type": "stream",
     "text": [
      "Submitted batch job 1659874\n"
     ]
    },
    {
     "name": "stderr",
     "output_type": "stream",
     "text": [
      "sbatch: Single node jobs run on a shared node by default. Add --exclusive if you want to use a node exclusively.\n",
      "sbatch: You will be charged for 0.03125 node. A full node consists of 32 CPU cores, 229376 MiB of memory and 0 GPUs and can be shared by up to 32 jobs.\n"
     ]
    },
    {
     "name": "stdout",
     "output_type": "stream",
     "text": [
      "Submitted batch job 1659877\n"
     ]
    },
    {
     "name": "stderr",
     "output_type": "stream",
     "text": [
      "sbatch: Single node jobs run on a shared node by default. Add --exclusive if you want to use a node exclusively.\n",
      "sbatch: You will be charged for 0.03125 node. A full node consists of 32 CPU cores, 229376 MiB of memory and 0 GPUs and can be shared by up to 32 jobs.\n"
     ]
    },
    {
     "name": "stdout",
     "output_type": "stream",
     "text": [
      "Submitted batch job 1659879\n",
      "Submitted batch job 1659881\n"
     ]
    },
    {
     "name": "stderr",
     "output_type": "stream",
     "text": [
      "sbatch: Single node jobs run on a shared node by default. Add --exclusive if you want to use a node exclusively.\n",
      "sbatch: You will be charged for 0.03125 node. A full node consists of 32 CPU cores, 229376 MiB of memory and 0 GPUs and can be shared by up to 32 jobs.\n",
      "sbatch: Single node jobs run on a shared node by default. Add --exclusive if you want to use a node exclusively.\n",
      "sbatch: You will be charged for 0.03125 node. A full node consists of 32 CPU cores, 229376 MiB of memory and 0 GPUs and can be shared by up to 32 jobs.\n"
     ]
    },
    {
     "name": "stdout",
     "output_type": "stream",
     "text": [
      "Submitted batch job 1659883\n"
     ]
    },
    {
     "name": "stderr",
     "output_type": "stream",
     "text": [
      "sbatch: Single node jobs run on a shared node by default. Add --exclusive if you want to use a node exclusively.\n",
      "sbatch: You will be charged for 0.03125 node. A full node consists of 32 CPU cores, 229376 MiB of memory and 0 GPUs and can be shared by up to 32 jobs.\n"
     ]
    },
    {
     "name": "stdout",
     "output_type": "stream",
     "text": [
      "Submitted batch job 1659885\n"
     ]
    },
    {
     "name": "stderr",
     "output_type": "stream",
     "text": [
      "sbatch: Single node jobs run on a shared node by default. Add --exclusive if you want to use a node exclusively.\n",
      "sbatch: You will be charged for 0.03125 node. A full node consists of 32 CPU cores, 229376 MiB of memory and 0 GPUs and can be shared by up to 32 jobs.\n"
     ]
    },
    {
     "name": "stdout",
     "output_type": "stream",
     "text": [
      "Submitted batch job 1659900\n"
     ]
    },
    {
     "name": "stderr",
     "output_type": "stream",
     "text": [
      "sbatch: Single node jobs run on a shared node by default. Add --exclusive if you want to use a node exclusively.\n",
      "sbatch: You will be charged for 0.03125 node. A full node consists of 32 CPU cores, 229376 MiB of memory and 0 GPUs and can be shared by up to 32 jobs.\n"
     ]
    },
    {
     "name": "stdout",
     "output_type": "stream",
     "text": [
      "Submitted batch job 1659902\n"
     ]
    },
    {
     "name": "stderr",
     "output_type": "stream",
     "text": [
      "sbatch: Single node jobs run on a shared node by default. Add --exclusive if you want to use a node exclusively.\n",
      "sbatch: You will be charged for 0.03125 node. A full node consists of 32 CPU cores, 229376 MiB of memory and 0 GPUs and can be shared by up to 32 jobs.\n"
     ]
    },
    {
     "name": "stdout",
     "output_type": "stream",
     "text": [
      "Submitted batch job 1659904\n"
     ]
    },
    {
     "name": "stderr",
     "output_type": "stream",
     "text": [
      "sbatch: Single node jobs run on a shared node by default. Add --exclusive if you want to use a node exclusively.\n",
      "sbatch: You will be charged for 0.03125 node. A full node consists of 32 CPU cores, 229376 MiB of memory and 0 GPUs and can be shared by up to 32 jobs.\n"
     ]
    },
    {
     "name": "stdout",
     "output_type": "stream",
     "text": [
      "Submitted batch job 1659917\n"
     ]
    },
    {
     "name": "stderr",
     "output_type": "stream",
     "text": [
      "sbatch: Single node jobs run on a shared node by default. Add --exclusive if you want to use a node exclusively.\n",
      "sbatch: You will be charged for 0.03125 node. A full node consists of 32 CPU cores, 229376 MiB of memory and 0 GPUs and can be shared by up to 32 jobs.\n"
     ]
    },
    {
     "name": "stdout",
     "output_type": "stream",
     "text": [
      "Submitted batch job 1659919\n"
     ]
    },
    {
     "name": "stderr",
     "output_type": "stream",
     "text": [
      "sbatch: Single node jobs run on a shared node by default. Add --exclusive if you want to use a node exclusively.\n",
      "sbatch: You will be charged for 0.03125 node. A full node consists of 32 CPU cores, 229376 MiB of memory and 0 GPUs and can be shared by up to 32 jobs.\n"
     ]
    },
    {
     "name": "stdout",
     "output_type": "stream",
     "text": [
      "Submitted batch job 1659921\n"
     ]
    },
    {
     "name": "stderr",
     "output_type": "stream",
     "text": [
      "sbatch: Single node jobs run on a shared node by default. Add --exclusive if you want to use a node exclusively.\n",
      "sbatch: You will be charged for 0.03125 node. A full node consists of 32 CPU cores, 229376 MiB of memory and 0 GPUs and can be shared by up to 32 jobs.\n"
     ]
    },
    {
     "name": "stdout",
     "output_type": "stream",
     "text": [
      "Submitted batch job 1659923\n"
     ]
    },
    {
     "name": "stderr",
     "output_type": "stream",
     "text": [
      "sbatch: Single node jobs run on a shared node by default. Add --exclusive if you want to use a node exclusively.\n",
      "sbatch: You will be charged for 0.03125 node. A full node consists of 32 CPU cores, 229376 MiB of memory and 0 GPUs and can be shared by up to 32 jobs.\n"
     ]
    },
    {
     "name": "stdout",
     "output_type": "stream",
     "text": [
      "Submitted batch job 1659925\n"
     ]
    },
    {
     "name": "stderr",
     "output_type": "stream",
     "text": [
      "sbatch: Single node jobs run on a shared node by default. Add --exclusive if you want to use a node exclusively.\n",
      "sbatch: You will be charged for 0.03125 node. A full node consists of 32 CPU cores, 229376 MiB of memory and 0 GPUs and can be shared by up to 32 jobs.\n"
     ]
    },
    {
     "name": "stdout",
     "output_type": "stream",
     "text": [
      "Submitted batch job 1659927\n"
     ]
    },
    {
     "name": "stderr",
     "output_type": "stream",
     "text": [
      "sbatch: Single node jobs run on a shared node by default. Add --exclusive if you want to use a node exclusively.\n",
      "sbatch: You will be charged for 0.03125 node. A full node consists of 32 CPU cores, 229376 MiB of memory and 0 GPUs and can be shared by up to 32 jobs.\n"
     ]
    },
    {
     "name": "stdout",
     "output_type": "stream",
     "text": [
      "Submitted batch job 1659929\n"
     ]
    },
    {
     "name": "stderr",
     "output_type": "stream",
     "text": [
      "sbatch: Single node jobs run on a shared node by default. Add --exclusive if you want to use a node exclusively.\n",
      "sbatch: You will be charged for 0.03125 node. A full node consists of 32 CPU cores, 229376 MiB of memory and 0 GPUs and can be shared by up to 32 jobs.\n"
     ]
    },
    {
     "name": "stdout",
     "output_type": "stream",
     "text": [
      "Submitted batch job 1659931\n"
     ]
    },
    {
     "name": "stderr",
     "output_type": "stream",
     "text": [
      "sbatch: Single node jobs run on a shared node by default. Add --exclusive if you want to use a node exclusively.\n",
      "sbatch: You will be charged for 0.03125 node. A full node consists of 32 CPU cores, 229376 MiB of memory and 0 GPUs and can be shared by up to 32 jobs.\n"
     ]
    },
    {
     "name": "stdout",
     "output_type": "stream",
     "text": [
      "Submitted batch job 1659933\n"
     ]
    },
    {
     "name": "stderr",
     "output_type": "stream",
     "text": [
      "sbatch: Single node jobs run on a shared node by default. Add --exclusive if you want to use a node exclusively.\n",
      "sbatch: You will be charged for 0.03125 node. A full node consists of 32 CPU cores, 229376 MiB of memory and 0 GPUs and can be shared by up to 32 jobs.\n"
     ]
    },
    {
     "name": "stdout",
     "output_type": "stream",
     "text": [
      "Submitted batch job 1659935\n"
     ]
    },
    {
     "name": "stderr",
     "output_type": "stream",
     "text": [
      "sbatch: Single node jobs run on a shared node by default. Add --exclusive if you want to use a node exclusively.\n",
      "sbatch: You will be charged for 0.03125 node. A full node consists of 32 CPU cores, 229376 MiB of memory and 0 GPUs and can be shared by up to 32 jobs.\n"
     ]
    },
    {
     "name": "stdout",
     "output_type": "stream",
     "text": [
      "Submitted batch job 1659938\n"
     ]
    },
    {
     "name": "stderr",
     "output_type": "stream",
     "text": [
      "sbatch: Single node jobs run on a shared node by default. Add --exclusive if you want to use a node exclusively.\n",
      "sbatch: You will be charged for 0.03125 node. A full node consists of 32 CPU cores, 229376 MiB of memory and 0 GPUs and can be shared by up to 32 jobs.\n"
     ]
    },
    {
     "name": "stdout",
     "output_type": "stream",
     "text": [
      "Submitted batch job 1659948\n"
     ]
    },
    {
     "name": "stderr",
     "output_type": "stream",
     "text": [
      "sbatch: Single node jobs run on a shared node by default. Add --exclusive if you want to use a node exclusively.\n",
      "sbatch: You will be charged for 0.03125 node. A full node consists of 32 CPU cores, 229376 MiB of memory and 0 GPUs and can be shared by up to 32 jobs.\n"
     ]
    },
    {
     "name": "stdout",
     "output_type": "stream",
     "text": [
      "Submitted batch job 1659950\n"
     ]
    },
    {
     "name": "stderr",
     "output_type": "stream",
     "text": [
      "sbatch: Single node jobs run on a shared node by default. Add --exclusive if you want to use a node exclusively.\n",
      "sbatch: You will be charged for 0.03125 node. A full node consists of 32 CPU cores, 229376 MiB of memory and 0 GPUs and can be shared by up to 32 jobs.\n"
     ]
    },
    {
     "name": "stdout",
     "output_type": "stream",
     "text": [
      "Submitted batch job 1659952\n"
     ]
    },
    {
     "name": "stderr",
     "output_type": "stream",
     "text": [
      "sbatch: Single node jobs run on a shared node by default. Add --exclusive if you want to use a node exclusively.\n",
      "sbatch: You will be charged for 0.03125 node. A full node consists of 32 CPU cores, 229376 MiB of memory and 0 GPUs and can be shared by up to 32 jobs.\n"
     ]
    },
    {
     "name": "stdout",
     "output_type": "stream",
     "text": [
      "Submitted batch job 1659954\n"
     ]
    },
    {
     "name": "stderr",
     "output_type": "stream",
     "text": [
      "sbatch: Single node jobs run on a shared node by default. Add --exclusive if you want to use a node exclusively.\n",
      "sbatch: You will be charged for 0.03125 node. A full node consists of 32 CPU cores, 229376 MiB of memory and 0 GPUs and can be shared by up to 32 jobs.\n"
     ]
    },
    {
     "name": "stdout",
     "output_type": "stream",
     "text": [
      "Submitted batch job 1659956\n"
     ]
    },
    {
     "name": "stderr",
     "output_type": "stream",
     "text": [
      "sbatch: Single node jobs run on a shared node by default. Add --exclusive if you want to use a node exclusively.\n",
      "sbatch: You will be charged for 0.03125 node. A full node consists of 32 CPU cores, 229376 MiB of memory and 0 GPUs and can be shared by up to 32 jobs.\n"
     ]
    },
    {
     "name": "stdout",
     "output_type": "stream",
     "text": [
      "Submitted batch job 1659959\n"
     ]
    },
    {
     "name": "stderr",
     "output_type": "stream",
     "text": [
      "sbatch: Single node jobs run on a shared node by default. Add --exclusive if you want to use a node exclusively.\n",
      "sbatch: You will be charged for 0.03125 node. A full node consists of 32 CPU cores, 229376 MiB of memory and 0 GPUs and can be shared by up to 32 jobs.\n"
     ]
    },
    {
     "name": "stdout",
     "output_type": "stream",
     "text": [
      "Submitted batch job 1659978\n"
     ]
    },
    {
     "name": "stderr",
     "output_type": "stream",
     "text": [
      "sbatch: Single node jobs run on a shared node by default. Add --exclusive if you want to use a node exclusively.\n",
      "sbatch: You will be charged for 0.03125 node. A full node consists of 32 CPU cores, 229376 MiB of memory and 0 GPUs and can be shared by up to 32 jobs.\n"
     ]
    },
    {
     "name": "stdout",
     "output_type": "stream",
     "text": [
      "Submitted batch job 1659980\n",
      "Submitted batch job 1659982\n"
     ]
    },
    {
     "name": "stderr",
     "output_type": "stream",
     "text": [
      "sbatch: Single node jobs run on a shared node by default. Add --exclusive if you want to use a node exclusively.\n",
      "sbatch: You will be charged for 0.03125 node. A full node consists of 32 CPU cores, 229376 MiB of memory and 0 GPUs and can be shared by up to 32 jobs.\n",
      "sbatch: Single node jobs run on a shared node by default. Add --exclusive if you want to use a node exclusively.\n",
      "sbatch: You will be charged for 0.03125 node. A full node consists of 32 CPU cores, 229376 MiB of memory and 0 GPUs and can be shared by up to 32 jobs.\n"
     ]
    },
    {
     "name": "stdout",
     "output_type": "stream",
     "text": [
      "Submitted batch job 1659984\n"
     ]
    },
    {
     "name": "stderr",
     "output_type": "stream",
     "text": [
      "sbatch: Single node jobs run on a shared node by default. Add --exclusive if you want to use a node exclusively.\n",
      "sbatch: You will be charged for 0.03125 node. A full node consists of 32 CPU cores, 229376 MiB of memory and 0 GPUs and can be shared by up to 32 jobs.\n"
     ]
    },
    {
     "name": "stdout",
     "output_type": "stream",
     "text": [
      "Submitted batch job 1659986\n"
     ]
    },
    {
     "name": "stderr",
     "output_type": "stream",
     "text": [
      "sbatch: Single node jobs run on a shared node by default. Add --exclusive if you want to use a node exclusively.\n",
      "sbatch: You will be charged for 0.03125 node. A full node consists of 32 CPU cores, 229376 MiB of memory and 0 GPUs and can be shared by up to 32 jobs.\n"
     ]
    },
    {
     "name": "stdout",
     "output_type": "stream",
     "text": [
      "Submitted batch job 1659988\n",
      "Submitted batch job 1659990\n"
     ]
    },
    {
     "name": "stderr",
     "output_type": "stream",
     "text": [
      "sbatch: Single node jobs run on a shared node by default. Add --exclusive if you want to use a node exclusively.\n",
      "sbatch: You will be charged for 0.03125 node. A full node consists of 32 CPU cores, 229376 MiB of memory and 0 GPUs and can be shared by up to 32 jobs.\n",
      "sbatch: Single node jobs run on a shared node by default. Add --exclusive if you want to use a node exclusively.\n",
      "sbatch: You will be charged for 0.03125 node. A full node consists of 32 CPU cores, 229376 MiB of memory and 0 GPUs and can be shared by up to 32 jobs.\n"
     ]
    },
    {
     "name": "stdout",
     "output_type": "stream",
     "text": [
      "Submitted batch job 1659992\n"
     ]
    },
    {
     "name": "stderr",
     "output_type": "stream",
     "text": [
      "sbatch: Single node jobs run on a shared node by default. Add --exclusive if you want to use a node exclusively.\n",
      "sbatch: You will be charged for 0.03125 node. A full node consists of 32 CPU cores, 229376 MiB of memory and 0 GPUs and can be shared by up to 32 jobs.\n"
     ]
    },
    {
     "name": "stdout",
     "output_type": "stream",
     "text": [
      "Submitted batch job 1659994\n"
     ]
    },
    {
     "name": "stderr",
     "output_type": "stream",
     "text": [
      "sbatch: Single node jobs run on a shared node by default. Add --exclusive if you want to use a node exclusively.\n",
      "sbatch: You will be charged for 0.03125 node. A full node consists of 32 CPU cores, 229376 MiB of memory and 0 GPUs and can be shared by up to 32 jobs.\n"
     ]
    },
    {
     "name": "stdout",
     "output_type": "stream",
     "text": [
      "Submitted batch job 1659996\n"
     ]
    },
    {
     "name": "stderr",
     "output_type": "stream",
     "text": [
      "sbatch: Single node jobs run on a shared node by default. Add --exclusive if you want to use a node exclusively.\n",
      "sbatch: You will be charged for 0.03125 node. A full node consists of 32 CPU cores, 229376 MiB of memory and 0 GPUs and can be shared by up to 32 jobs.\n"
     ]
    },
    {
     "name": "stdout",
     "output_type": "stream",
     "text": [
      "Submitted batch job 1660018\n"
     ]
    },
    {
     "name": "stderr",
     "output_type": "stream",
     "text": [
      "sbatch: Single node jobs run on a shared node by default. Add --exclusive if you want to use a node exclusively.\n",
      "sbatch: You will be charged for 0.03125 node. A full node consists of 32 CPU cores, 229376 MiB of memory and 0 GPUs and can be shared by up to 32 jobs.\n"
     ]
    },
    {
     "name": "stdout",
     "output_type": "stream",
     "text": [
      "Submitted batch job 1660020\n"
     ]
    },
    {
     "name": "stderr",
     "output_type": "stream",
     "text": [
      "sbatch: Single node jobs run on a shared node by default. Add --exclusive if you want to use a node exclusively.\n",
      "sbatch: You will be charged for 0.03125 node. A full node consists of 32 CPU cores, 229376 MiB of memory and 0 GPUs and can be shared by up to 32 jobs.\n"
     ]
    },
    {
     "name": "stdout",
     "output_type": "stream",
     "text": [
      "Submitted batch job 1660022\n"
     ]
    },
    {
     "name": "stderr",
     "output_type": "stream",
     "text": [
      "sbatch: Single node jobs run on a shared node by default. Add --exclusive if you want to use a node exclusively.\n",
      "sbatch: You will be charged for 0.03125 node. A full node consists of 32 CPU cores, 229376 MiB of memory and 0 GPUs and can be shared by up to 32 jobs.\n"
     ]
    },
    {
     "name": "stdout",
     "output_type": "stream",
     "text": [
      "Submitted batch job 1660024\n",
      "Submitted batch job 1660026\n"
     ]
    },
    {
     "name": "stderr",
     "output_type": "stream",
     "text": [
      "sbatch: Single node jobs run on a shared node by default. Add --exclusive if you want to use a node exclusively.\n",
      "sbatch: You will be charged for 0.03125 node. A full node consists of 32 CPU cores, 229376 MiB of memory and 0 GPUs and can be shared by up to 32 jobs.\n",
      "sbatch: Single node jobs run on a shared node by default. Add --exclusive if you want to use a node exclusively.\n",
      "sbatch: You will be charged for 0.03125 node. A full node consists of 32 CPU cores, 229376 MiB of memory and 0 GPUs and can be shared by up to 32 jobs.\n"
     ]
    },
    {
     "name": "stdout",
     "output_type": "stream",
     "text": [
      "Submitted batch job 1660028\n"
     ]
    },
    {
     "name": "stderr",
     "output_type": "stream",
     "text": [
      "sbatch: Single node jobs run on a shared node by default. Add --exclusive if you want to use a node exclusively.\n",
      "sbatch: You will be charged for 0.03125 node. A full node consists of 32 CPU cores, 229376 MiB of memory and 0 GPUs and can be shared by up to 32 jobs.\n"
     ]
    },
    {
     "name": "stdout",
     "output_type": "stream",
     "text": [
      "Submitted batch job 1660030\n"
     ]
    },
    {
     "name": "stderr",
     "output_type": "stream",
     "text": [
      "sbatch: Single node jobs run on a shared node by default. Add --exclusive if you want to use a node exclusively.\n",
      "sbatch: You will be charged for 0.03125 node. A full node consists of 32 CPU cores, 229376 MiB of memory and 0 GPUs and can be shared by up to 32 jobs.\n"
     ]
    },
    {
     "name": "stdout",
     "output_type": "stream",
     "text": [
      "Submitted batch job 1660032\n",
      "Submitted batch job 1660034\n"
     ]
    },
    {
     "name": "stderr",
     "output_type": "stream",
     "text": [
      "sbatch: Single node jobs run on a shared node by default. Add --exclusive if you want to use a node exclusively.\n",
      "sbatch: You will be charged for 0.03125 node. A full node consists of 32 CPU cores, 229376 MiB of memory and 0 GPUs and can be shared by up to 32 jobs.\n",
      "sbatch: Single node jobs run on a shared node by default. Add --exclusive if you want to use a node exclusively.\n",
      "sbatch: You will be charged for 0.03125 node. A full node consists of 32 CPU cores, 229376 MiB of memory and 0 GPUs and can be shared by up to 32 jobs.\n"
     ]
    },
    {
     "name": "stdout",
     "output_type": "stream",
     "text": [
      "Submitted batch job 1660049\n",
      "Submitted batch job 1660052\n"
     ]
    },
    {
     "name": "stderr",
     "output_type": "stream",
     "text": [
      "sbatch: Single node jobs run on a shared node by default. Add --exclusive if you want to use a node exclusively.\n",
      "sbatch: You will be charged for 0.03125 node. A full node consists of 32 CPU cores, 229376 MiB of memory and 0 GPUs and can be shared by up to 32 jobs.\n",
      "sbatch: Single node jobs run on a shared node by default. Add --exclusive if you want to use a node exclusively.\n",
      "sbatch: You will be charged for 0.03125 node. A full node consists of 32 CPU cores, 229376 MiB of memory and 0 GPUs and can be shared by up to 32 jobs.\n"
     ]
    },
    {
     "name": "stdout",
     "output_type": "stream",
     "text": [
      "Submitted batch job 1660054\n"
     ]
    },
    {
     "name": "stderr",
     "output_type": "stream",
     "text": [
      "sbatch: Single node jobs run on a shared node by default. Add --exclusive if you want to use a node exclusively.\n",
      "sbatch: You will be charged for 0.03125 node. A full node consists of 32 CPU cores, 229376 MiB of memory and 0 GPUs and can be shared by up to 32 jobs.\n"
     ]
    },
    {
     "name": "stdout",
     "output_type": "stream",
     "text": [
      "Submitted batch job 1660056\n"
     ]
    },
    {
     "name": "stderr",
     "output_type": "stream",
     "text": [
      "sbatch: Single node jobs run on a shared node by default. Add --exclusive if you want to use a node exclusively.\n",
      "sbatch: You will be charged for 0.03125 node. A full node consists of 32 CPU cores, 229376 MiB of memory and 0 GPUs and can be shared by up to 32 jobs.\n"
     ]
    },
    {
     "name": "stdout",
     "output_type": "stream",
     "text": [
      "Submitted batch job 1660058\n"
     ]
    },
    {
     "name": "stderr",
     "output_type": "stream",
     "text": [
      "sbatch: Single node jobs run on a shared node by default. Add --exclusive if you want to use a node exclusively.\n",
      "sbatch: You will be charged for 0.03125 node. A full node consists of 32 CPU cores, 229376 MiB of memory and 0 GPUs and can be shared by up to 32 jobs.\n"
     ]
    },
    {
     "name": "stdout",
     "output_type": "stream",
     "text": [
      "Submitted batch job 1660060\n"
     ]
    },
    {
     "name": "stderr",
     "output_type": "stream",
     "text": [
      "sbatch: Single node jobs run on a shared node by default. Add --exclusive if you want to use a node exclusively.\n",
      "sbatch: You will be charged for 0.03125 node. A full node consists of 32 CPU cores, 229376 MiB of memory and 0 GPUs and can be shared by up to 32 jobs.\n"
     ]
    },
    {
     "name": "stdout",
     "output_type": "stream",
     "text": [
      "Submitted batch job 1660062\n"
     ]
    },
    {
     "name": "stderr",
     "output_type": "stream",
     "text": [
      "sbatch: Single node jobs run on a shared node by default. Add --exclusive if you want to use a node exclusively.\n",
      "sbatch: You will be charged for 0.03125 node. A full node consists of 32 CPU cores, 229376 MiB of memory and 0 GPUs and can be shared by up to 32 jobs.\n"
     ]
    },
    {
     "name": "stdout",
     "output_type": "stream",
     "text": [
      "Submitted batch job 1660064\n"
     ]
    },
    {
     "name": "stderr",
     "output_type": "stream",
     "text": [
      "sbatch: Single node jobs run on a shared node by default. Add --exclusive if you want to use a node exclusively.\n",
      "sbatch: You will be charged for 0.03125 node. A full node consists of 32 CPU cores, 229376 MiB of memory and 0 GPUs and can be shared by up to 32 jobs.\n"
     ]
    },
    {
     "name": "stdout",
     "output_type": "stream",
     "text": [
      "Submitted batch job 1660073\n"
     ]
    },
    {
     "name": "stderr",
     "output_type": "stream",
     "text": [
      "sbatch: Single node jobs run on a shared node by default. Add --exclusive if you want to use a node exclusively.\n",
      "sbatch: You will be charged for 0.03125 node. A full node consists of 32 CPU cores, 229376 MiB of memory and 0 GPUs and can be shared by up to 32 jobs.\n"
     ]
    },
    {
     "name": "stdout",
     "output_type": "stream",
     "text": [
      "Submitted batch job 1660075\n"
     ]
    },
    {
     "name": "stderr",
     "output_type": "stream",
     "text": [
      "sbatch: Single node jobs run on a shared node by default. Add --exclusive if you want to use a node exclusively.\n",
      "sbatch: You will be charged for 0.03125 node. A full node consists of 32 CPU cores, 229376 MiB of memory and 0 GPUs and can be shared by up to 32 jobs.\n"
     ]
    },
    {
     "name": "stdout",
     "output_type": "stream",
     "text": [
      "Submitted batch job 1660077\n"
     ]
    },
    {
     "name": "stderr",
     "output_type": "stream",
     "text": [
      "sbatch: Single node jobs run on a shared node by default. Add --exclusive if you want to use a node exclusively.\n",
      "sbatch: You will be charged for 0.03125 node. A full node consists of 32 CPU cores, 229376 MiB of memory and 0 GPUs and can be shared by up to 32 jobs.\n"
     ]
    },
    {
     "name": "stdout",
     "output_type": "stream",
     "text": [
      "Submitted batch job 1660079\n"
     ]
    },
    {
     "name": "stderr",
     "output_type": "stream",
     "text": [
      "sbatch: Single node jobs run on a shared node by default. Add --exclusive if you want to use a node exclusively.\n",
      "sbatch: You will be charged for 0.03125 node. A full node consists of 32 CPU cores, 229376 MiB of memory and 0 GPUs and can be shared by up to 32 jobs.\n"
     ]
    },
    {
     "name": "stdout",
     "output_type": "stream",
     "text": [
      "Submitted batch job 1660081\n"
     ]
    },
    {
     "name": "stderr",
     "output_type": "stream",
     "text": [
      "sbatch: Single node jobs run on a shared node by default. Add --exclusive if you want to use a node exclusively.\n",
      "sbatch: You will be charged for 0.03125 node. A full node consists of 32 CPU cores, 229376 MiB of memory and 0 GPUs and can be shared by up to 32 jobs.\n"
     ]
    },
    {
     "name": "stdout",
     "output_type": "stream",
     "text": [
      "Submitted batch job 1660083\n"
     ]
    },
    {
     "name": "stderr",
     "output_type": "stream",
     "text": [
      "sbatch: Single node jobs run on a shared node by default. Add --exclusive if you want to use a node exclusively.\n",
      "sbatch: You will be charged for 0.03125 node. A full node consists of 32 CPU cores, 229376 MiB of memory and 0 GPUs and can be shared by up to 32 jobs.\n"
     ]
    },
    {
     "name": "stdout",
     "output_type": "stream",
     "text": [
      "Submitted batch job 1660085\n",
      "Submitted batch job 1660087\n"
     ]
    },
    {
     "name": "stderr",
     "output_type": "stream",
     "text": [
      "sbatch: Single node jobs run on a shared node by default. Add --exclusive if you want to use a node exclusively.\n",
      "sbatch: You will be charged for 0.03125 node. A full node consists of 32 CPU cores, 229376 MiB of memory and 0 GPUs and can be shared by up to 32 jobs.\n",
      "sbatch: Single node jobs run on a shared node by default. Add --exclusive if you want to use a node exclusively.\n",
      "sbatch: You will be charged for 0.03125 node. A full node consists of 32 CPU cores, 229376 MiB of memory and 0 GPUs and can be shared by up to 32 jobs.\n"
     ]
    },
    {
     "name": "stdout",
     "output_type": "stream",
     "text": [
      "Submitted batch job 1660089\n"
     ]
    },
    {
     "name": "stderr",
     "output_type": "stream",
     "text": [
      "sbatch: Single node jobs run on a shared node by default. Add --exclusive if you want to use a node exclusively.\n",
      "sbatch: You will be charged for 0.03125 node. A full node consists of 32 CPU cores, 229376 MiB of memory and 0 GPUs and can be shared by up to 32 jobs.\n"
     ]
    },
    {
     "name": "stdout",
     "output_type": "stream",
     "text": [
      "Submitted batch job 1660093\n"
     ]
    },
    {
     "name": "stderr",
     "output_type": "stream",
     "text": [
      "sbatch: Single node jobs run on a shared node by default. Add --exclusive if you want to use a node exclusively.\n",
      "sbatch: You will be charged for 0.03125 node. A full node consists of 32 CPU cores, 229376 MiB of memory and 0 GPUs and can be shared by up to 32 jobs.\n"
     ]
    },
    {
     "name": "stdout",
     "output_type": "stream",
     "text": [
      "Submitted batch job 1660095\n"
     ]
    },
    {
     "name": "stderr",
     "output_type": "stream",
     "text": [
      "sbatch: Single node jobs run on a shared node by default. Add --exclusive if you want to use a node exclusively.\n",
      "sbatch: You will be charged for 0.03125 node. A full node consists of 32 CPU cores, 229376 MiB of memory and 0 GPUs and can be shared by up to 32 jobs.\n"
     ]
    },
    {
     "name": "stdout",
     "output_type": "stream",
     "text": [
      "Submitted batch job 1660097\n"
     ]
    },
    {
     "name": "stderr",
     "output_type": "stream",
     "text": [
      "sbatch: Single node jobs run on a shared node by default. Add --exclusive if you want to use a node exclusively.\n",
      "sbatch: You will be charged for 0.03125 node. A full node consists of 32 CPU cores, 229376 MiB of memory and 0 GPUs and can be shared by up to 32 jobs.\n"
     ]
    },
    {
     "name": "stdout",
     "output_type": "stream",
     "text": [
      "Submitted batch job 1660100\n"
     ]
    },
    {
     "name": "stderr",
     "output_type": "stream",
     "text": [
      "sbatch: Single node jobs run on a shared node by default. Add --exclusive if you want to use a node exclusively.\n",
      "sbatch: You will be charged for 0.03125 node. A full node consists of 32 CPU cores, 229376 MiB of memory and 0 GPUs and can be shared by up to 32 jobs.\n"
     ]
    },
    {
     "name": "stdout",
     "output_type": "stream",
     "text": [
      "Submitted batch job 1660102\n"
     ]
    },
    {
     "name": "stderr",
     "output_type": "stream",
     "text": [
      "sbatch: Single node jobs run on a shared node by default. Add --exclusive if you want to use a node exclusively.\n",
      "sbatch: You will be charged for 0.03125 node. A full node consists of 32 CPU cores, 229376 MiB of memory and 0 GPUs and can be shared by up to 32 jobs.\n"
     ]
    },
    {
     "name": "stdout",
     "output_type": "stream",
     "text": [
      "Submitted batch job 1660104\n"
     ]
    },
    {
     "name": "stderr",
     "output_type": "stream",
     "text": [
      "sbatch: Single node jobs run on a shared node by default. Add --exclusive if you want to use a node exclusively.\n",
      "sbatch: You will be charged for 0.03125 node. A full node consists of 32 CPU cores, 229376 MiB of memory and 0 GPUs and can be shared by up to 32 jobs.\n"
     ]
    },
    {
     "name": "stdout",
     "output_type": "stream",
     "text": [
      "Submitted batch job 1660106\n"
     ]
    },
    {
     "name": "stderr",
     "output_type": "stream",
     "text": [
      "sbatch: Single node jobs run on a shared node by default. Add --exclusive if you want to use a node exclusively.\n",
      "sbatch: You will be charged for 0.03125 node. A full node consists of 32 CPU cores, 229376 MiB of memory and 0 GPUs and can be shared by up to 32 jobs.\n"
     ]
    },
    {
     "name": "stdout",
     "output_type": "stream",
     "text": [
      "Submitted batch job 1660108\n"
     ]
    },
    {
     "name": "stderr",
     "output_type": "stream",
     "text": [
      "sbatch: Single node jobs run on a shared node by default. Add --exclusive if you want to use a node exclusively.\n",
      "sbatch: You will be charged for 0.03125 node. A full node consists of 32 CPU cores, 229376 MiB of memory and 0 GPUs and can be shared by up to 32 jobs.\n"
     ]
    },
    {
     "name": "stdout",
     "output_type": "stream",
     "text": [
      "Submitted batch job 1660112\n"
     ]
    },
    {
     "name": "stderr",
     "output_type": "stream",
     "text": [
      "sbatch: Single node jobs run on a shared node by default. Add --exclusive if you want to use a node exclusively.\n",
      "sbatch: You will be charged for 0.03125 node. A full node consists of 32 CPU cores, 229376 MiB of memory and 0 GPUs and can be shared by up to 32 jobs.\n"
     ]
    },
    {
     "name": "stdout",
     "output_type": "stream",
     "text": [
      "Submitted batch job 1660114\n"
     ]
    },
    {
     "name": "stderr",
     "output_type": "stream",
     "text": [
      "sbatch: Single node jobs run on a shared node by default. Add --exclusive if you want to use a node exclusively.\n",
      "sbatch: You will be charged for 0.03125 node. A full node consists of 32 CPU cores, 229376 MiB of memory and 0 GPUs and can be shared by up to 32 jobs.\n"
     ]
    },
    {
     "name": "stdout",
     "output_type": "stream",
     "text": [
      "Submitted batch job 1660116\n"
     ]
    },
    {
     "name": "stderr",
     "output_type": "stream",
     "text": [
      "sbatch: Single node jobs run on a shared node by default. Add --exclusive if you want to use a node exclusively.\n",
      "sbatch: You will be charged for 0.03125 node. A full node consists of 32 CPU cores, 229376 MiB of memory and 0 GPUs and can be shared by up to 32 jobs.\n"
     ]
    },
    {
     "name": "stdout",
     "output_type": "stream",
     "text": [
      "Submitted batch job 1660118\n"
     ]
    },
    {
     "name": "stderr",
     "output_type": "stream",
     "text": [
      "sbatch: Single node jobs run on a shared node by default. Add --exclusive if you want to use a node exclusively.\n",
      "sbatch: You will be charged for 0.03125 node. A full node consists of 32 CPU cores, 229376 MiB of memory and 0 GPUs and can be shared by up to 32 jobs.\n"
     ]
    },
    {
     "name": "stdout",
     "output_type": "stream",
     "text": [
      "Submitted batch job 1660120\n"
     ]
    },
    {
     "name": "stderr",
     "output_type": "stream",
     "text": [
      "sbatch: Single node jobs run on a shared node by default. Add --exclusive if you want to use a node exclusively.\n",
      "sbatch: You will be charged for 0.03125 node. A full node consists of 32 CPU cores, 229376 MiB of memory and 0 GPUs and can be shared by up to 32 jobs.\n"
     ]
    },
    {
     "name": "stdout",
     "output_type": "stream",
     "text": [
      "Submitted batch job 1660122\n"
     ]
    },
    {
     "name": "stderr",
     "output_type": "stream",
     "text": [
      "sbatch: Single node jobs run on a shared node by default. Add --exclusive if you want to use a node exclusively.\n",
      "sbatch: You will be charged for 0.03125 node. A full node consists of 32 CPU cores, 229376 MiB of memory and 0 GPUs and can be shared by up to 32 jobs.\n"
     ]
    },
    {
     "name": "stdout",
     "output_type": "stream",
     "text": [
      "Submitted batch job 1660124\n"
     ]
    },
    {
     "name": "stderr",
     "output_type": "stream",
     "text": [
      "sbatch: Single node jobs run on a shared node by default. Add --exclusive if you want to use a node exclusively.\n",
      "sbatch: You will be charged for 0.03125 node. A full node consists of 32 CPU cores, 229376 MiB of memory and 0 GPUs and can be shared by up to 32 jobs.\n"
     ]
    },
    {
     "name": "stdout",
     "output_type": "stream",
     "text": [
      "Submitted batch job 1660126\n"
     ]
    },
    {
     "name": "stderr",
     "output_type": "stream",
     "text": [
      "sbatch: Single node jobs run on a shared node by default. Add --exclusive if you want to use a node exclusively.\n",
      "sbatch: You will be charged for 0.03125 node. A full node consists of 32 CPU cores, 229376 MiB of memory and 0 GPUs and can be shared by up to 32 jobs.\n"
     ]
    },
    {
     "name": "stdout",
     "output_type": "stream",
     "text": [
      "Submitted batch job 1660128\n"
     ]
    },
    {
     "name": "stderr",
     "output_type": "stream",
     "text": [
      "sbatch: Single node jobs run on a shared node by default. Add --exclusive if you want to use a node exclusively.\n",
      "sbatch: You will be charged for 0.03125 node. A full node consists of 32 CPU cores, 229376 MiB of memory and 0 GPUs and can be shared by up to 32 jobs.\n"
     ]
    },
    {
     "name": "stdout",
     "output_type": "stream",
     "text": [
      "Submitted batch job 1660145\n"
     ]
    },
    {
     "name": "stderr",
     "output_type": "stream",
     "text": [
      "sbatch: Single node jobs run on a shared node by default. Add --exclusive if you want to use a node exclusively.\n",
      "sbatch: You will be charged for 0.03125 node. A full node consists of 32 CPU cores, 229376 MiB of memory and 0 GPUs and can be shared by up to 32 jobs.\n"
     ]
    },
    {
     "name": "stdout",
     "output_type": "stream",
     "text": [
      "Submitted batch job 1660147\n"
     ]
    },
    {
     "name": "stderr",
     "output_type": "stream",
     "text": [
      "sbatch: Single node jobs run on a shared node by default. Add --exclusive if you want to use a node exclusively.\n",
      "sbatch: You will be charged for 0.03125 node. A full node consists of 32 CPU cores, 229376 MiB of memory and 0 GPUs and can be shared by up to 32 jobs.\n"
     ]
    },
    {
     "name": "stdout",
     "output_type": "stream",
     "text": [
      "Submitted batch job 1660149\n"
     ]
    },
    {
     "name": "stderr",
     "output_type": "stream",
     "text": [
      "sbatch: Single node jobs run on a shared node by default. Add --exclusive if you want to use a node exclusively.\n",
      "sbatch: You will be charged for 0.03125 node. A full node consists of 32 CPU cores, 229376 MiB of memory and 0 GPUs and can be shared by up to 32 jobs.\n"
     ]
    },
    {
     "name": "stdout",
     "output_type": "stream",
     "text": [
      "Submitted batch job 1660151\n"
     ]
    },
    {
     "name": "stderr",
     "output_type": "stream",
     "text": [
      "sbatch: Single node jobs run on a shared node by default. Add --exclusive if you want to use a node exclusively.\n",
      "sbatch: You will be charged for 0.03125 node. A full node consists of 32 CPU cores, 229376 MiB of memory and 0 GPUs and can be shared by up to 32 jobs.\n"
     ]
    },
    {
     "name": "stdout",
     "output_type": "stream",
     "text": [
      "Submitted batch job 1660153\n"
     ]
    },
    {
     "name": "stderr",
     "output_type": "stream",
     "text": [
      "sbatch: Single node jobs run on a shared node by default. Add --exclusive if you want to use a node exclusively.\n",
      "sbatch: You will be charged for 0.03125 node. A full node consists of 32 CPU cores, 229376 MiB of memory and 0 GPUs and can be shared by up to 32 jobs.\n"
     ]
    },
    {
     "name": "stdout",
     "output_type": "stream",
     "text": [
      "Submitted batch job 1660155\n"
     ]
    },
    {
     "name": "stderr",
     "output_type": "stream",
     "text": [
      "sbatch: Single node jobs run on a shared node by default. Add --exclusive if you want to use a node exclusively.\n",
      "sbatch: You will be charged for 0.03125 node. A full node consists of 32 CPU cores, 229376 MiB of memory and 0 GPUs and can be shared by up to 32 jobs.\n"
     ]
    },
    {
     "name": "stdout",
     "output_type": "stream",
     "text": [
      "Submitted batch job 1660157\n",
      "Submitted batch job 1660159\n"
     ]
    },
    {
     "name": "stderr",
     "output_type": "stream",
     "text": [
      "sbatch: Single node jobs run on a shared node by default. Add --exclusive if you want to use a node exclusively.\n",
      "sbatch: You will be charged for 0.03125 node. A full node consists of 32 CPU cores, 229376 MiB of memory and 0 GPUs and can be shared by up to 32 jobs.\n",
      "sbatch: Single node jobs run on a shared node by default. Add --exclusive if you want to use a node exclusively.\n",
      "sbatch: You will be charged for 0.03125 node. A full node consists of 32 CPU cores, 229376 MiB of memory and 0 GPUs and can be shared by up to 32 jobs.\n"
     ]
    },
    {
     "name": "stdout",
     "output_type": "stream",
     "text": [
      "Submitted batch job 1660162\n"
     ]
    },
    {
     "name": "stderr",
     "output_type": "stream",
     "text": [
      "sbatch: Single node jobs run on a shared node by default. Add --exclusive if you want to use a node exclusively.\n",
      "sbatch: You will be charged for 0.03125 node. A full node consists of 32 CPU cores, 229376 MiB of memory and 0 GPUs and can be shared by up to 32 jobs.\n"
     ]
    },
    {
     "name": "stdout",
     "output_type": "stream",
     "text": [
      "Submitted batch job 1660164\n",
      "Submitted batch job 1660166\n"
     ]
    },
    {
     "name": "stderr",
     "output_type": "stream",
     "text": [
      "sbatch: Single node jobs run on a shared node by default. Add --exclusive if you want to use a node exclusively.\n",
      "sbatch: You will be charged for 0.03125 node. A full node consists of 32 CPU cores, 229376 MiB of memory and 0 GPUs and can be shared by up to 32 jobs.\n"
     ]
    },
    {
     "name": "stdout",
     "output_type": "stream",
     "text": [
      "Submitted batch job 1660168\n"
     ]
    },
    {
     "name": "stderr",
     "output_type": "stream",
     "text": [
      "sbatch: Single node jobs run on a shared node by default. Add --exclusive if you want to use a node exclusively.\n",
      "sbatch: You will be charged for 0.03125 node. A full node consists of 32 CPU cores, 229376 MiB of memory and 0 GPUs and can be shared by up to 32 jobs.\n",
      "sbatch: Single node jobs run on a shared node by default. Add --exclusive if you want to use a node exclusively.\n",
      "sbatch: You will be charged for 0.03125 node. A full node consists of 32 CPU cores, 229376 MiB of memory and 0 GPUs and can be shared by up to 32 jobs.\n"
     ]
    },
    {
     "name": "stdout",
     "output_type": "stream",
     "text": [
      "Submitted batch job 1660170\n"
     ]
    },
    {
     "name": "stderr",
     "output_type": "stream",
     "text": [
      "sbatch: Single node jobs run on a shared node by default. Add --exclusive if you want to use a node exclusively.\n",
      "sbatch: You will be charged for 0.03125 node. A full node consists of 32 CPU cores, 229376 MiB of memory and 0 GPUs and can be shared by up to 32 jobs.\n"
     ]
    },
    {
     "name": "stdout",
     "output_type": "stream",
     "text": [
      "Submitted batch job 1660172\n"
     ]
    },
    {
     "name": "stderr",
     "output_type": "stream",
     "text": [
      "sbatch: Single node jobs run on a shared node by default. Add --exclusive if you want to use a node exclusively.\n",
      "sbatch: You will be charged for 0.03125 node. A full node consists of 32 CPU cores, 229376 MiB of memory and 0 GPUs and can be shared by up to 32 jobs.\n"
     ]
    },
    {
     "name": "stdout",
     "output_type": "stream",
     "text": [
      "Submitted batch job 1660188\n"
     ]
    },
    {
     "name": "stderr",
     "output_type": "stream",
     "text": [
      "sbatch: Single node jobs run on a shared node by default. Add --exclusive if you want to use a node exclusively.\n",
      "sbatch: You will be charged for 0.03125 node. A full node consists of 32 CPU cores, 229376 MiB of memory and 0 GPUs and can be shared by up to 32 jobs.\n"
     ]
    },
    {
     "name": "stdout",
     "output_type": "stream",
     "text": [
      "Submitted batch job 1660190\n",
      "Submitted batch job 1660192\n"
     ]
    },
    {
     "name": "stderr",
     "output_type": "stream",
     "text": [
      "sbatch: Single node jobs run on a shared node by default. Add --exclusive if you want to use a node exclusively.\n",
      "sbatch: You will be charged for 0.03125 node. A full node consists of 32 CPU cores, 229376 MiB of memory and 0 GPUs and can be shared by up to 32 jobs.\n"
     ]
    },
    {
     "name": "stdout",
     "output_type": "stream",
     "text": [
      "Submitted batch job 1660193\n"
     ]
    },
    {
     "name": "stderr",
     "output_type": "stream",
     "text": [
      "sbatch: Single node jobs run on a shared node by default. Add --exclusive if you want to use a node exclusively.\n",
      "sbatch: You will be charged for 0.03125 node. A full node consists of 32 CPU cores, 229376 MiB of memory and 0 GPUs and can be shared by up to 32 jobs.\n",
      "sbatch: Single node jobs run on a shared node by default. Add --exclusive if you want to use a node exclusively.\n",
      "sbatch: You will be charged for 0.03125 node. A full node consists of 32 CPU cores, 229376 MiB of memory and 0 GPUs and can be shared by up to 32 jobs.\n"
     ]
    },
    {
     "name": "stdout",
     "output_type": "stream",
     "text": [
      "Submitted batch job 1660195\n"
     ]
    },
    {
     "name": "stderr",
     "output_type": "stream",
     "text": [
      "sbatch: Single node jobs run on a shared node by default. Add --exclusive if you want to use a node exclusively.\n",
      "sbatch: You will be charged for 0.03125 node. A full node consists of 32 CPU cores, 229376 MiB of memory and 0 GPUs and can be shared by up to 32 jobs.\n"
     ]
    },
    {
     "name": "stdout",
     "output_type": "stream",
     "text": [
      "Submitted batch job 1660197\n"
     ]
    },
    {
     "name": "stderr",
     "output_type": "stream",
     "text": [
      "sbatch: Single node jobs run on a shared node by default. Add --exclusive if you want to use a node exclusively.\n",
      "sbatch: You will be charged for 0.03125 node. A full node consists of 32 CPU cores, 229376 MiB of memory and 0 GPUs and can be shared by up to 32 jobs.\n"
     ]
    },
    {
     "name": "stdout",
     "output_type": "stream",
     "text": [
      "Submitted batch job 1660199\n"
     ]
    },
    {
     "name": "stderr",
     "output_type": "stream",
     "text": [
      "sbatch: Single node jobs run on a shared node by default. Add --exclusive if you want to use a node exclusively.\n",
      "sbatch: You will be charged for 0.03125 node. A full node consists of 32 CPU cores, 229376 MiB of memory and 0 GPUs and can be shared by up to 32 jobs.\n"
     ]
    },
    {
     "name": "stdout",
     "output_type": "stream",
     "text": [
      "Submitted batch job 1660201\n"
     ]
    },
    {
     "name": "stderr",
     "output_type": "stream",
     "text": [
      "sbatch: Single node jobs run on a shared node by default. Add --exclusive if you want to use a node exclusively.\n",
      "sbatch: You will be charged for 0.03125 node. A full node consists of 32 CPU cores, 229376 MiB of memory and 0 GPUs and can be shared by up to 32 jobs.\n"
     ]
    },
    {
     "name": "stdout",
     "output_type": "stream",
     "text": [
      "Submitted batch job 1660203\n"
     ]
    },
    {
     "name": "stderr",
     "output_type": "stream",
     "text": [
      "sbatch: Single node jobs run on a shared node by default. Add --exclusive if you want to use a node exclusively.\n",
      "sbatch: You will be charged for 0.03125 node. A full node consists of 32 CPU cores, 229376 MiB of memory and 0 GPUs and can be shared by up to 32 jobs.\n"
     ]
    },
    {
     "name": "stdout",
     "output_type": "stream",
     "text": [
      "Submitted batch job 1660205\n"
     ]
    },
    {
     "name": "stderr",
     "output_type": "stream",
     "text": [
      "sbatch: Single node jobs run on a shared node by default. Add --exclusive if you want to use a node exclusively.\n",
      "sbatch: You will be charged for 0.03125 node. A full node consists of 32 CPU cores, 229376 MiB of memory and 0 GPUs and can be shared by up to 32 jobs.\n"
     ]
    },
    {
     "name": "stdout",
     "output_type": "stream",
     "text": [
      "Submitted batch job 1660206\n"
     ]
    },
    {
     "name": "stderr",
     "output_type": "stream",
     "text": [
      "sbatch: Single node jobs run on a shared node by default. Add --exclusive if you want to use a node exclusively.\n",
      "sbatch: You will be charged for 0.03125 node. A full node consists of 32 CPU cores, 229376 MiB of memory and 0 GPUs and can be shared by up to 32 jobs.\n"
     ]
    },
    {
     "name": "stdout",
     "output_type": "stream",
     "text": [
      "Submitted batch job 1660208\n"
     ]
    },
    {
     "name": "stderr",
     "output_type": "stream",
     "text": [
      "sbatch: Single node jobs run on a shared node by default. Add --exclusive if you want to use a node exclusively.\n",
      "sbatch: You will be charged for 0.03125 node. A full node consists of 32 CPU cores, 229376 MiB of memory and 0 GPUs and can be shared by up to 32 jobs.\n"
     ]
    },
    {
     "name": "stdout",
     "output_type": "stream",
     "text": [
      "Submitted batch job 1660210\n"
     ]
    },
    {
     "name": "stderr",
     "output_type": "stream",
     "text": [
      "sbatch: Single node jobs run on a shared node by default. Add --exclusive if you want to use a node exclusively.\n",
      "sbatch: You will be charged for 0.03125 node. A full node consists of 32 CPU cores, 229376 MiB of memory and 0 GPUs and can be shared by up to 32 jobs.\n"
     ]
    },
    {
     "name": "stdout",
     "output_type": "stream",
     "text": [
      "Submitted batch job 1660212\n"
     ]
    },
    {
     "name": "stderr",
     "output_type": "stream",
     "text": [
      "sbatch: Single node jobs run on a shared node by default. Add --exclusive if you want to use a node exclusively.\n",
      "sbatch: You will be charged for 0.03125 node. A full node consists of 32 CPU cores, 229376 MiB of memory and 0 GPUs and can be shared by up to 32 jobs.\n"
     ]
    },
    {
     "name": "stdout",
     "output_type": "stream",
     "text": [
      "Submitted batch job 1660214\n"
     ]
    },
    {
     "name": "stderr",
     "output_type": "stream",
     "text": [
      "sbatch: Single node jobs run on a shared node by default. Add --exclusive if you want to use a node exclusively.\n",
      "sbatch: You will be charged for 0.03125 node. A full node consists of 32 CPU cores, 229376 MiB of memory and 0 GPUs and can be shared by up to 32 jobs.\n"
     ]
    },
    {
     "name": "stdout",
     "output_type": "stream",
     "text": [
      "Submitted batch job 1660216\n"
     ]
    },
    {
     "name": "stderr",
     "output_type": "stream",
     "text": [
      "sbatch: Single node jobs run on a shared node by default. Add --exclusive if you want to use a node exclusively.\n",
      "sbatch: You will be charged for 0.03125 node. A full node consists of 32 CPU cores, 229376 MiB of memory and 0 GPUs and can be shared by up to 32 jobs.\n"
     ]
    },
    {
     "name": "stdout",
     "output_type": "stream",
     "text": [
      "Submitted batch job 1660231\n"
     ]
    },
    {
     "name": "stderr",
     "output_type": "stream",
     "text": [
      "sbatch: Single node jobs run on a shared node by default. Add --exclusive if you want to use a node exclusively.\n",
      "sbatch: You will be charged for 0.03125 node. A full node consists of 32 CPU cores, 229376 MiB of memory and 0 GPUs and can be shared by up to 32 jobs.\n"
     ]
    },
    {
     "name": "stdout",
     "output_type": "stream",
     "text": [
      "Submitted batch job 1660233\n"
     ]
    },
    {
     "name": "stderr",
     "output_type": "stream",
     "text": [
      "sbatch: Single node jobs run on a shared node by default. Add --exclusive if you want to use a node exclusively.\n",
      "sbatch: You will be charged for 0.03125 node. A full node consists of 32 CPU cores, 229376 MiB of memory and 0 GPUs and can be shared by up to 32 jobs.\n"
     ]
    },
    {
     "name": "stdout",
     "output_type": "stream",
     "text": [
      "Submitted batch job 1660235\n"
     ]
    },
    {
     "name": "stderr",
     "output_type": "stream",
     "text": [
      "sbatch: Single node jobs run on a shared node by default. Add --exclusive if you want to use a node exclusively.\n",
      "sbatch: You will be charged for 0.03125 node. A full node consists of 32 CPU cores, 229376 MiB of memory and 0 GPUs and can be shared by up to 32 jobs.\n"
     ]
    },
    {
     "name": "stdout",
     "output_type": "stream",
     "text": [
      "Submitted batch job 1660236\n"
     ]
    },
    {
     "name": "stderr",
     "output_type": "stream",
     "text": [
      "sbatch: Single node jobs run on a shared node by default. Add --exclusive if you want to use a node exclusively.\n",
      "sbatch: You will be charged for 0.03125 node. A full node consists of 32 CPU cores, 229376 MiB of memory and 0 GPUs and can be shared by up to 32 jobs.\n"
     ]
    },
    {
     "name": "stdout",
     "output_type": "stream",
     "text": [
      "Submitted batch job 1660238\n",
      "Submitted batch job 1660240\n"
     ]
    },
    {
     "name": "stderr",
     "output_type": "stream",
     "text": [
      "sbatch: Single node jobs run on a shared node by default. Add --exclusive if you want to use a node exclusively.\n",
      "sbatch: You will be charged for 0.03125 node. A full node consists of 32 CPU cores, 229376 MiB of memory and 0 GPUs and can be shared by up to 32 jobs.\n",
      "sbatch: Single node jobs run on a shared node by default. Add --exclusive if you want to use a node exclusively.\n",
      "sbatch: You will be charged for 0.03125 node. A full node consists of 32 CPU cores, 229376 MiB of memory and 0 GPUs and can be shared by up to 32 jobs.\n"
     ]
    },
    {
     "name": "stdout",
     "output_type": "stream",
     "text": [
      "Submitted batch job 1660241\n"
     ]
    },
    {
     "name": "stderr",
     "output_type": "stream",
     "text": [
      "sbatch: Single node jobs run on a shared node by default. Add --exclusive if you want to use a node exclusively.\n",
      "sbatch: You will be charged for 0.03125 node. A full node consists of 32 CPU cores, 229376 MiB of memory and 0 GPUs and can be shared by up to 32 jobs.\n"
     ]
    },
    {
     "name": "stdout",
     "output_type": "stream",
     "text": [
      "Submitted batch job 1660243\n"
     ]
    },
    {
     "name": "stderr",
     "output_type": "stream",
     "text": [
      "sbatch: Single node jobs run on a shared node by default. Add --exclusive if you want to use a node exclusively.\n",
      "sbatch: You will be charged for 0.03125 node. A full node consists of 32 CPU cores, 229376 MiB of memory and 0 GPUs and can be shared by up to 32 jobs.\n"
     ]
    },
    {
     "name": "stdout",
     "output_type": "stream",
     "text": [
      "Submitted batch job 1660244\n"
     ]
    },
    {
     "name": "stderr",
     "output_type": "stream",
     "text": [
      "sbatch: Single node jobs run on a shared node by default. Add --exclusive if you want to use a node exclusively.\n",
      "sbatch: You will be charged for 0.03125 node. A full node consists of 32 CPU cores, 229376 MiB of memory and 0 GPUs and can be shared by up to 32 jobs.\n"
     ]
    },
    {
     "name": "stdout",
     "output_type": "stream",
     "text": [
      "Submitted batch job 1660246\n"
     ]
    },
    {
     "name": "stderr",
     "output_type": "stream",
     "text": [
      "sbatch: Single node jobs run on a shared node by default. Add --exclusive if you want to use a node exclusively.\n",
      "sbatch: You will be charged for 0.03125 node. A full node consists of 32 CPU cores, 229376 MiB of memory and 0 GPUs and can be shared by up to 32 jobs.\n"
     ]
    },
    {
     "name": "stdout",
     "output_type": "stream",
     "text": [
      "Submitted batch job 1660247\n"
     ]
    },
    {
     "name": "stderr",
     "output_type": "stream",
     "text": [
      "sbatch: Single node jobs run on a shared node by default. Add --exclusive if you want to use a node exclusively.\n",
      "sbatch: You will be charged for 0.03125 node. A full node consists of 32 CPU cores, 229376 MiB of memory and 0 GPUs and can be shared by up to 32 jobs.\n"
     ]
    },
    {
     "name": "stdout",
     "output_type": "stream",
     "text": [
      "Submitted batch job 1660249\n"
     ]
    },
    {
     "name": "stderr",
     "output_type": "stream",
     "text": [
      "sbatch: Single node jobs run on a shared node by default. Add --exclusive if you want to use a node exclusively.\n",
      "sbatch: You will be charged for 0.03125 node. A full node consists of 32 CPU cores, 229376 MiB of memory and 0 GPUs and can be shared by up to 32 jobs.\n"
     ]
    },
    {
     "name": "stdout",
     "output_type": "stream",
     "text": [
      "Submitted batch job 1660250\n"
     ]
    },
    {
     "name": "stderr",
     "output_type": "stream",
     "text": [
      "sbatch: Single node jobs run on a shared node by default. Add --exclusive if you want to use a node exclusively.\n",
      "sbatch: You will be charged for 0.03125 node. A full node consists of 32 CPU cores, 229376 MiB of memory and 0 GPUs and can be shared by up to 32 jobs.\n"
     ]
    },
    {
     "name": "stdout",
     "output_type": "stream",
     "text": [
      "Submitted batch job 1660252\n"
     ]
    },
    {
     "name": "stderr",
     "output_type": "stream",
     "text": [
      "sbatch: Single node jobs run on a shared node by default. Add --exclusive if you want to use a node exclusively.\n",
      "sbatch: You will be charged for 0.03125 node. A full node consists of 32 CPU cores, 229376 MiB of memory and 0 GPUs and can be shared by up to 32 jobs.\n"
     ]
    },
    {
     "name": "stdout",
     "output_type": "stream",
     "text": [
      "Submitted batch job 1660253\n"
     ]
    },
    {
     "name": "stderr",
     "output_type": "stream",
     "text": [
      "sbatch: Single node jobs run on a shared node by default. Add --exclusive if you want to use a node exclusively.\n",
      "sbatch: You will be charged for 0.03125 node. A full node consists of 32 CPU cores, 229376 MiB of memory and 0 GPUs and can be shared by up to 32 jobs.\n"
     ]
    },
    {
     "name": "stdout",
     "output_type": "stream",
     "text": [
      "Submitted batch job 1660255\n"
     ]
    },
    {
     "name": "stderr",
     "output_type": "stream",
     "text": [
      "sbatch: Single node jobs run on a shared node by default. Add --exclusive if you want to use a node exclusively.\n",
      "sbatch: You will be charged for 0.03125 node. A full node consists of 32 CPU cores, 229376 MiB of memory and 0 GPUs and can be shared by up to 32 jobs.\n"
     ]
    },
    {
     "name": "stdout",
     "output_type": "stream",
     "text": [
      "Submitted batch job 1660257\n",
      "Submitted batch job 1660258\n"
     ]
    },
    {
     "name": "stderr",
     "output_type": "stream",
     "text": [
      "sbatch: Single node jobs run on a shared node by default. Add --exclusive if you want to use a node exclusively.\n",
      "sbatch: You will be charged for 0.03125 node. A full node consists of 32 CPU cores, 229376 MiB of memory and 0 GPUs and can be shared by up to 32 jobs.\n",
      "sbatch: Single node jobs run on a shared node by default. Add --exclusive if you want to use a node exclusively.\n",
      "sbatch: You will be charged for 0.03125 node. A full node consists of 32 CPU cores, 229376 MiB of memory and 0 GPUs and can be shared by up to 32 jobs.\n"
     ]
    },
    {
     "name": "stdout",
     "output_type": "stream",
     "text": [
      "Submitted batch job 1660267\n"
     ]
    },
    {
     "name": "stderr",
     "output_type": "stream",
     "text": [
      "sbatch: Single node jobs run on a shared node by default. Add --exclusive if you want to use a node exclusively.\n",
      "sbatch: You will be charged for 0.03125 node. A full node consists of 32 CPU cores, 229376 MiB of memory and 0 GPUs and can be shared by up to 32 jobs.\n"
     ]
    },
    {
     "name": "stdout",
     "output_type": "stream",
     "text": [
      "Submitted batch job 1660269\n"
     ]
    },
    {
     "name": "stderr",
     "output_type": "stream",
     "text": [
      "sbatch: Single node jobs run on a shared node by default. Add --exclusive if you want to use a node exclusively.\n",
      "sbatch: You will be charged for 0.03125 node. A full node consists of 32 CPU cores, 229376 MiB of memory and 0 GPUs and can be shared by up to 32 jobs.\n"
     ]
    },
    {
     "name": "stdout",
     "output_type": "stream",
     "text": [
      "Submitted batch job 1660270\n"
     ]
    },
    {
     "name": "stderr",
     "output_type": "stream",
     "text": [
      "sbatch: Single node jobs run on a shared node by default. Add --exclusive if you want to use a node exclusively.\n",
      "sbatch: You will be charged for 0.03125 node. A full node consists of 32 CPU cores, 229376 MiB of memory and 0 GPUs and can be shared by up to 32 jobs.\n"
     ]
    },
    {
     "name": "stdout",
     "output_type": "stream",
     "text": [
      "Submitted batch job 1660272\n"
     ]
    },
    {
     "name": "stderr",
     "output_type": "stream",
     "text": [
      "sbatch: Single node jobs run on a shared node by default. Add --exclusive if you want to use a node exclusively.\n",
      "sbatch: You will be charged for 0.03125 node. A full node consists of 32 CPU cores, 229376 MiB of memory and 0 GPUs and can be shared by up to 32 jobs.\n"
     ]
    },
    {
     "name": "stdout",
     "output_type": "stream",
     "text": [
      "Submitted batch job 1660274\n"
     ]
    },
    {
     "name": "stderr",
     "output_type": "stream",
     "text": [
      "sbatch: Single node jobs run on a shared node by default. Add --exclusive if you want to use a node exclusively.\n",
      "sbatch: You will be charged for 0.03125 node. A full node consists of 32 CPU cores, 229376 MiB of memory and 0 GPUs and can be shared by up to 32 jobs.\n"
     ]
    },
    {
     "name": "stdout",
     "output_type": "stream",
     "text": [
      "Submitted batch job 1660276\n",
      "Submitted batch job 1660277\n"
     ]
    },
    {
     "name": "stderr",
     "output_type": "stream",
     "text": [
      "sbatch: Single node jobs run on a shared node by default. Add --exclusive if you want to use a node exclusively.\n",
      "sbatch: You will be charged for 0.03125 node. A full node consists of 32 CPU cores, 229376 MiB of memory and 0 GPUs and can be shared by up to 32 jobs.\n",
      "sbatch: Single node jobs run on a shared node by default. Add --exclusive if you want to use a node exclusively.\n",
      "sbatch: You will be charged for 0.03125 node. A full node consists of 32 CPU cores, 229376 MiB of memory and 0 GPUs and can be shared by up to 32 jobs.\n"
     ]
    },
    {
     "name": "stdout",
     "output_type": "stream",
     "text": [
      "Submitted batch job 1660279\n"
     ]
    },
    {
     "name": "stderr",
     "output_type": "stream",
     "text": [
      "sbatch: Single node jobs run on a shared node by default. Add --exclusive if you want to use a node exclusively.\n",
      "sbatch: You will be charged for 0.03125 node. A full node consists of 32 CPU cores, 229376 MiB of memory and 0 GPUs and can be shared by up to 32 jobs.\n"
     ]
    },
    {
     "name": "stdout",
     "output_type": "stream",
     "text": [
      "Submitted batch job 1660281\n"
     ]
    },
    {
     "name": "stderr",
     "output_type": "stream",
     "text": [
      "sbatch: Single node jobs run on a shared node by default. Add --exclusive if you want to use a node exclusively.\n",
      "sbatch: You will be charged for 0.03125 node. A full node consists of 32 CPU cores, 229376 MiB of memory and 0 GPUs and can be shared by up to 32 jobs.\n"
     ]
    },
    {
     "name": "stdout",
     "output_type": "stream",
     "text": [
      "Submitted batch job 1660282\n"
     ]
    },
    {
     "name": "stderr",
     "output_type": "stream",
     "text": [
      "sbatch: Single node jobs run on a shared node by default. Add --exclusive if you want to use a node exclusively.\n",
      "sbatch: You will be charged for 0.03125 node. A full node consists of 32 CPU cores, 229376 MiB of memory and 0 GPUs and can be shared by up to 32 jobs.\n"
     ]
    },
    {
     "name": "stdout",
     "output_type": "stream",
     "text": [
      "Submitted batch job 1660284\n"
     ]
    },
    {
     "name": "stderr",
     "output_type": "stream",
     "text": [
      "sbatch: Single node jobs run on a shared node by default. Add --exclusive if you want to use a node exclusively.\n",
      "sbatch: You will be charged for 0.03125 node. A full node consists of 32 CPU cores, 229376 MiB of memory and 0 GPUs and can be shared by up to 32 jobs.\n"
     ]
    },
    {
     "name": "stdout",
     "output_type": "stream",
     "text": [
      "Submitted batch job 1660286\n"
     ]
    },
    {
     "name": "stderr",
     "output_type": "stream",
     "text": [
      "sbatch: Single node jobs run on a shared node by default. Add --exclusive if you want to use a node exclusively.\n",
      "sbatch: You will be charged for 0.03125 node. A full node consists of 32 CPU cores, 229376 MiB of memory and 0 GPUs and can be shared by up to 32 jobs.\n"
     ]
    },
    {
     "name": "stdout",
     "output_type": "stream",
     "text": [
      "Submitted batch job 1660288\n"
     ]
    },
    {
     "name": "stderr",
     "output_type": "stream",
     "text": [
      "sbatch: Single node jobs run on a shared node by default. Add --exclusive if you want to use a node exclusively.\n",
      "sbatch: You will be charged for 0.03125 node. A full node consists of 32 CPU cores, 229376 MiB of memory and 0 GPUs and can be shared by up to 32 jobs.\n"
     ]
    },
    {
     "name": "stdout",
     "output_type": "stream",
     "text": [
      "Submitted batch job 1660290\n"
     ]
    },
    {
     "name": "stderr",
     "output_type": "stream",
     "text": [
      "sbatch: Single node jobs run on a shared node by default. Add --exclusive if you want to use a node exclusively.\n",
      "sbatch: You will be charged for 0.03125 node. A full node consists of 32 CPU cores, 229376 MiB of memory and 0 GPUs and can be shared by up to 32 jobs.\n"
     ]
    },
    {
     "name": "stdout",
     "output_type": "stream",
     "text": [
      "Submitted batch job 1660291\n",
      "Submitted batch job 1660293\n"
     ]
    },
    {
     "name": "stderr",
     "output_type": "stream",
     "text": [
      "sbatch: Single node jobs run on a shared node by default. Add --exclusive if you want to use a node exclusively.\n",
      "sbatch: You will be charged for 0.03125 node. A full node consists of 32 CPU cores, 229376 MiB of memory and 0 GPUs and can be shared by up to 32 jobs.\n",
      "sbatch: Single node jobs run on a shared node by default. Add --exclusive if you want to use a node exclusively.\n",
      "sbatch: You will be charged for 0.03125 node. A full node consists of 32 CPU cores, 229376 MiB of memory and 0 GPUs and can be shared by up to 32 jobs.\n"
     ]
    },
    {
     "name": "stdout",
     "output_type": "stream",
     "text": [
      "Submitted batch job 1660296\n"
     ]
    },
    {
     "name": "stderr",
     "output_type": "stream",
     "text": [
      "sbatch: Single node jobs run on a shared node by default. Add --exclusive if you want to use a node exclusively.\n",
      "sbatch: You will be charged for 0.03125 node. A full node consists of 32 CPU cores, 229376 MiB of memory and 0 GPUs and can be shared by up to 32 jobs.\n"
     ]
    },
    {
     "name": "stdout",
     "output_type": "stream",
     "text": [
      "Submitted batch job 1660298\n"
     ]
    },
    {
     "name": "stderr",
     "output_type": "stream",
     "text": [
      "sbatch: Single node jobs run on a shared node by default. Add --exclusive if you want to use a node exclusively.\n",
      "sbatch: You will be charged for 0.03125 node. A full node consists of 32 CPU cores, 229376 MiB of memory and 0 GPUs and can be shared by up to 32 jobs.\n"
     ]
    },
    {
     "name": "stdout",
     "output_type": "stream",
     "text": [
      "Submitted batch job 1660302\n"
     ]
    },
    {
     "name": "stderr",
     "output_type": "stream",
     "text": [
      "sbatch: Single node jobs run on a shared node by default. Add --exclusive if you want to use a node exclusively.\n",
      "sbatch: You will be charged for 0.03125 node. A full node consists of 32 CPU cores, 229376 MiB of memory and 0 GPUs and can be shared by up to 32 jobs.\n"
     ]
    },
    {
     "name": "stdout",
     "output_type": "stream",
     "text": [
      "Submitted batch job 1660330\n"
     ]
    },
    {
     "name": "stderr",
     "output_type": "stream",
     "text": [
      "sbatch: Single node jobs run on a shared node by default. Add --exclusive if you want to use a node exclusively.\n",
      "sbatch: You will be charged for 0.03125 node. A full node consists of 32 CPU cores, 229376 MiB of memory and 0 GPUs and can be shared by up to 32 jobs.\n"
     ]
    },
    {
     "name": "stdout",
     "output_type": "stream",
     "text": [
      "Submitted batch job 1660332\n",
      "Submitted batch job 1660334\n"
     ]
    },
    {
     "name": "stderr",
     "output_type": "stream",
     "text": [
      "sbatch: Single node jobs run on a shared node by default. Add --exclusive if you want to use a node exclusively.\n",
      "sbatch: You will be charged for 0.03125 node. A full node consists of 32 CPU cores, 229376 MiB of memory and 0 GPUs and can be shared by up to 32 jobs.\n",
      "sbatch: Single node jobs run on a shared node by default. Add --exclusive if you want to use a node exclusively.\n",
      "sbatch: You will be charged for 0.03125 node. A full node consists of 32 CPU cores, 229376 MiB of memory and 0 GPUs and can be shared by up to 32 jobs.\n"
     ]
    },
    {
     "name": "stdout",
     "output_type": "stream",
     "text": [
      "Submitted batch job 1660335\n",
      "Submitted batch job 1660337\n"
     ]
    },
    {
     "name": "stderr",
     "output_type": "stream",
     "text": [
      "sbatch: Single node jobs run on a shared node by default. Add --exclusive if you want to use a node exclusively.\n",
      "sbatch: You will be charged for 0.03125 node. A full node consists of 32 CPU cores, 229376 MiB of memory and 0 GPUs and can be shared by up to 32 jobs.\n",
      "sbatch: Single node jobs run on a shared node by default. Add --exclusive if you want to use a node exclusively.\n",
      "sbatch: You will be charged for 0.03125 node. A full node consists of 32 CPU cores, 229376 MiB of memory and 0 GPUs and can be shared by up to 32 jobs.\n"
     ]
    },
    {
     "name": "stdout",
     "output_type": "stream",
     "text": [
      "Submitted batch job 1660338\n"
     ]
    },
    {
     "name": "stderr",
     "output_type": "stream",
     "text": [
      "sbatch: Single node jobs run on a shared node by default. Add --exclusive if you want to use a node exclusively.\n",
      "sbatch: You will be charged for 0.03125 node. A full node consists of 32 CPU cores, 229376 MiB of memory and 0 GPUs and can be shared by up to 32 jobs.\n"
     ]
    },
    {
     "name": "stdout",
     "output_type": "stream",
     "text": [
      "Submitted batch job 1660340\n"
     ]
    },
    {
     "name": "stderr",
     "output_type": "stream",
     "text": [
      "sbatch: Single node jobs run on a shared node by default. Add --exclusive if you want to use a node exclusively.\n",
      "sbatch: You will be charged for 0.03125 node. A full node consists of 32 CPU cores, 229376 MiB of memory and 0 GPUs and can be shared by up to 32 jobs.\n"
     ]
    },
    {
     "name": "stdout",
     "output_type": "stream",
     "text": [
      "Submitted batch job 1660342\n"
     ]
    },
    {
     "name": "stderr",
     "output_type": "stream",
     "text": [
      "sbatch: Single node jobs run on a shared node by default. Add --exclusive if you want to use a node exclusively.\n",
      "sbatch: You will be charged for 0.03125 node. A full node consists of 32 CPU cores, 229376 MiB of memory and 0 GPUs and can be shared by up to 32 jobs.\n"
     ]
    },
    {
     "name": "stdout",
     "output_type": "stream",
     "text": [
      "Submitted batch job 1660343\n"
     ]
    },
    {
     "name": "stderr",
     "output_type": "stream",
     "text": [
      "sbatch: Single node jobs run on a shared node by default. Add --exclusive if you want to use a node exclusively.\n",
      "sbatch: You will be charged for 0.03125 node. A full node consists of 32 CPU cores, 229376 MiB of memory and 0 GPUs and can be shared by up to 32 jobs.\n"
     ]
    },
    {
     "name": "stdout",
     "output_type": "stream",
     "text": [
      "Submitted batch job 1660345\n"
     ]
    },
    {
     "name": "stderr",
     "output_type": "stream",
     "text": [
      "sbatch: Single node jobs run on a shared node by default. Add --exclusive if you want to use a node exclusively.\n",
      "sbatch: You will be charged for 0.03125 node. A full node consists of 32 CPU cores, 229376 MiB of memory and 0 GPUs and can be shared by up to 32 jobs.\n"
     ]
    },
    {
     "name": "stdout",
     "output_type": "stream",
     "text": [
      "Submitted batch job 1660347\n"
     ]
    },
    {
     "name": "stderr",
     "output_type": "stream",
     "text": [
      "sbatch: Single node jobs run on a shared node by default. Add --exclusive if you want to use a node exclusively.\n",
      "sbatch: You will be charged for 0.03125 node. A full node consists of 32 CPU cores, 229376 MiB of memory and 0 GPUs and can be shared by up to 32 jobs.\n"
     ]
    },
    {
     "name": "stdout",
     "output_type": "stream",
     "text": [
      "Submitted batch job 1660348\n"
     ]
    },
    {
     "name": "stderr",
     "output_type": "stream",
     "text": [
      "sbatch: Single node jobs run on a shared node by default. Add --exclusive if you want to use a node exclusively.\n",
      "sbatch: You will be charged for 0.03125 node. A full node consists of 32 CPU cores, 229376 MiB of memory and 0 GPUs and can be shared by up to 32 jobs.\n"
     ]
    },
    {
     "name": "stdout",
     "output_type": "stream",
     "text": [
      "Submitted batch job 1660350\n"
     ]
    },
    {
     "name": "stderr",
     "output_type": "stream",
     "text": [
      "sbatch: Single node jobs run on a shared node by default. Add --exclusive if you want to use a node exclusively.\n",
      "sbatch: You will be charged for 0.03125 node. A full node consists of 32 CPU cores, 229376 MiB of memory and 0 GPUs and can be shared by up to 32 jobs.\n"
     ]
    },
    {
     "name": "stdout",
     "output_type": "stream",
     "text": [
      "Submitted batch job 1660352\n"
     ]
    },
    {
     "name": "stderr",
     "output_type": "stream",
     "text": [
      "sbatch: Single node jobs run on a shared node by default. Add --exclusive if you want to use a node exclusively.\n",
      "sbatch: You will be charged for 0.03125 node. A full node consists of 32 CPU cores, 229376 MiB of memory and 0 GPUs and can be shared by up to 32 jobs.\n"
     ]
    },
    {
     "name": "stdout",
     "output_type": "stream",
     "text": [
      "Submitted batch job 1660354\n"
     ]
    },
    {
     "name": "stderr",
     "output_type": "stream",
     "text": [
      "sbatch: Single node jobs run on a shared node by default. Add --exclusive if you want to use a node exclusively.\n",
      "sbatch: You will be charged for 0.03125 node. A full node consists of 32 CPU cores, 229376 MiB of memory and 0 GPUs and can be shared by up to 32 jobs.\n"
     ]
    },
    {
     "name": "stdout",
     "output_type": "stream",
     "text": [
      "Submitted batch job 1660356\n"
     ]
    },
    {
     "name": "stderr",
     "output_type": "stream",
     "text": [
      "sbatch: Single node jobs run on a shared node by default. Add --exclusive if you want to use a node exclusively.\n",
      "sbatch: You will be charged for 0.03125 node. A full node consists of 32 CPU cores, 229376 MiB of memory and 0 GPUs and can be shared by up to 32 jobs.\n"
     ]
    },
    {
     "name": "stdout",
     "output_type": "stream",
     "text": [
      "Submitted batch job 1660358\n"
     ]
    },
    {
     "name": "stderr",
     "output_type": "stream",
     "text": [
      "sbatch: Single node jobs run on a shared node by default. Add --exclusive if you want to use a node exclusively.\n",
      "sbatch: You will be charged for 0.03125 node. A full node consists of 32 CPU cores, 229376 MiB of memory and 0 GPUs and can be shared by up to 32 jobs.\n"
     ]
    },
    {
     "name": "stdout",
     "output_type": "stream",
     "text": [
      "Submitted batch job 1660387\n"
     ]
    },
    {
     "name": "stderr",
     "output_type": "stream",
     "text": [
      "sbatch: Single node jobs run on a shared node by default. Add --exclusive if you want to use a node exclusively.\n",
      "sbatch: You will be charged for 0.03125 node. A full node consists of 32 CPU cores, 229376 MiB of memory and 0 GPUs and can be shared by up to 32 jobs.\n"
     ]
    },
    {
     "name": "stdout",
     "output_type": "stream",
     "text": [
      "Submitted batch job 1660389\n"
     ]
    },
    {
     "name": "stderr",
     "output_type": "stream",
     "text": [
      "sbatch: Single node jobs run on a shared node by default. Add --exclusive if you want to use a node exclusively.\n",
      "sbatch: You will be charged for 0.03125 node. A full node consists of 32 CPU cores, 229376 MiB of memory and 0 GPUs and can be shared by up to 32 jobs.\n"
     ]
    },
    {
     "name": "stdout",
     "output_type": "stream",
     "text": [
      "Submitted batch job 1660390\n"
     ]
    },
    {
     "name": "stderr",
     "output_type": "stream",
     "text": [
      "sbatch: Single node jobs run on a shared node by default. Add --exclusive if you want to use a node exclusively.\n",
      "sbatch: You will be charged for 0.03125 node. A full node consists of 32 CPU cores, 229376 MiB of memory and 0 GPUs and can be shared by up to 32 jobs.\n"
     ]
    },
    {
     "name": "stdout",
     "output_type": "stream",
     "text": [
      "Submitted batch job 1660392\n"
     ]
    },
    {
     "name": "stderr",
     "output_type": "stream",
     "text": [
      "sbatch: Single node jobs run on a shared node by default. Add --exclusive if you want to use a node exclusively.\n",
      "sbatch: You will be charged for 0.03125 node. A full node consists of 32 CPU cores, 229376 MiB of memory and 0 GPUs and can be shared by up to 32 jobs.\n"
     ]
    },
    {
     "name": "stdout",
     "output_type": "stream",
     "text": [
      "Submitted batch job 1660394\n"
     ]
    },
    {
     "name": "stderr",
     "output_type": "stream",
     "text": [
      "sbatch: Single node jobs run on a shared node by default. Add --exclusive if you want to use a node exclusively.\n",
      "sbatch: You will be charged for 0.03125 node. A full node consists of 32 CPU cores, 229376 MiB of memory and 0 GPUs and can be shared by up to 32 jobs.\n"
     ]
    },
    {
     "name": "stdout",
     "output_type": "stream",
     "text": [
      "Submitted batch job 1660396\n"
     ]
    },
    {
     "name": "stderr",
     "output_type": "stream",
     "text": [
      "sbatch: Single node jobs run on a shared node by default. Add --exclusive if you want to use a node exclusively.\n",
      "sbatch: You will be charged for 0.03125 node. A full node consists of 32 CPU cores, 229376 MiB of memory and 0 GPUs and can be shared by up to 32 jobs.\n"
     ]
    },
    {
     "name": "stdout",
     "output_type": "stream",
     "text": [
      "Submitted batch job 1660397\n"
     ]
    },
    {
     "name": "stderr",
     "output_type": "stream",
     "text": [
      "sbatch: Single node jobs run on a shared node by default. Add --exclusive if you want to use a node exclusively.\n",
      "sbatch: You will be charged for 0.03125 node. A full node consists of 32 CPU cores, 229376 MiB of memory and 0 GPUs and can be shared by up to 32 jobs.\n"
     ]
    },
    {
     "name": "stdout",
     "output_type": "stream",
     "text": [
      "Submitted batch job 1660399\n",
      "Submitted batch job 1660401\n"
     ]
    },
    {
     "name": "stderr",
     "output_type": "stream",
     "text": [
      "sbatch: Single node jobs run on a shared node by default. Add --exclusive if you want to use a node exclusively.\n",
      "sbatch: You will be charged for 0.03125 node. A full node consists of 32 CPU cores, 229376 MiB of memory and 0 GPUs and can be shared by up to 32 jobs.\n",
      "sbatch: Single node jobs run on a shared node by default. Add --exclusive if you want to use a node exclusively.\n",
      "sbatch: You will be charged for 0.03125 node. A full node consists of 32 CPU cores, 229376 MiB of memory and 0 GPUs and can be shared by up to 32 jobs.\n"
     ]
    },
    {
     "name": "stdout",
     "output_type": "stream",
     "text": [
      "Submitted batch job 1660403\n",
      "Submitted batch job 1660404\n"
     ]
    },
    {
     "name": "stderr",
     "output_type": "stream",
     "text": [
      "sbatch: Single node jobs run on a shared node by default. Add --exclusive if you want to use a node exclusively.\n",
      "sbatch: You will be charged for 0.03125 node. A full node consists of 32 CPU cores, 229376 MiB of memory and 0 GPUs and can be shared by up to 32 jobs.\n"
     ]
    },
    {
     "name": "stdout",
     "output_type": "stream",
     "text": [
      "Submitted batch job 1660406\n"
     ]
    },
    {
     "name": "stderr",
     "output_type": "stream",
     "text": [
      "sbatch: Single node jobs run on a shared node by default. Add --exclusive if you want to use a node exclusively.\n",
      "sbatch: You will be charged for 0.03125 node. A full node consists of 32 CPU cores, 229376 MiB of memory and 0 GPUs and can be shared by up to 32 jobs.\n"
     ]
    },
    {
     "name": "stdout",
     "output_type": "stream",
     "text": [
      "Submitted batch job 1660408\n"
     ]
    },
    {
     "name": "stderr",
     "output_type": "stream",
     "text": [
      "sbatch: Single node jobs run on a shared node by default. Add --exclusive if you want to use a node exclusively.\n",
      "sbatch: You will be charged for 0.03125 node. A full node consists of 32 CPU cores, 229376 MiB of memory and 0 GPUs and can be shared by up to 32 jobs.\n",
      "sbatch: Single node jobs run on a shared node by default. Add --exclusive if you want to use a node exclusively.\n",
      "sbatch: You will be charged for 0.03125 node. A full node consists of 32 CPU cores, 229376 MiB of memory and 0 GPUs and can be shared by up to 32 jobs.\n"
     ]
    },
    {
     "name": "stdout",
     "output_type": "stream",
     "text": [
      "Submitted batch job 1660410\n"
     ]
    },
    {
     "name": "stderr",
     "output_type": "stream",
     "text": [
      "sbatch: Single node jobs run on a shared node by default. Add --exclusive if you want to use a node exclusively.\n",
      "sbatch: You will be charged for 0.03125 node. A full node consists of 32 CPU cores, 229376 MiB of memory and 0 GPUs and can be shared by up to 32 jobs.\n"
     ]
    },
    {
     "name": "stdout",
     "output_type": "stream",
     "text": [
      "Submitted batch job 1660411\n"
     ]
    },
    {
     "name": "stderr",
     "output_type": "stream",
     "text": [
      "sbatch: Single node jobs run on a shared node by default. Add --exclusive if you want to use a node exclusively.\n",
      "sbatch: You will be charged for 0.03125 node. A full node consists of 32 CPU cores, 229376 MiB of memory and 0 GPUs and can be shared by up to 32 jobs.\n"
     ]
    },
    {
     "name": "stdout",
     "output_type": "stream",
     "text": [
      "Submitted batch job 1660413\n"
     ]
    },
    {
     "name": "stderr",
     "output_type": "stream",
     "text": [
      "sbatch: Single node jobs run on a shared node by default. Add --exclusive if you want to use a node exclusively.\n",
      "sbatch: You will be charged for 0.03125 node. A full node consists of 32 CPU cores, 229376 MiB of memory and 0 GPUs and can be shared by up to 32 jobs.\n"
     ]
    },
    {
     "name": "stdout",
     "output_type": "stream",
     "text": [
      "Submitted batch job 1660415\n",
      "Submitted batch job 1660417\n"
     ]
    },
    {
     "name": "stderr",
     "output_type": "stream",
     "text": [
      "sbatch: Single node jobs run on a shared node by default. Add --exclusive if you want to use a node exclusively.\n",
      "sbatch: You will be charged for 0.03125 node. A full node consists of 32 CPU cores, 229376 MiB of memory and 0 GPUs and can be shared by up to 32 jobs.\n",
      "sbatch: Single node jobs run on a shared node by default. Add --exclusive if you want to use a node exclusively.\n",
      "sbatch: You will be charged for 0.03125 node. A full node consists of 32 CPU cores, 229376 MiB of memory and 0 GPUs and can be shared by up to 32 jobs.\n"
     ]
    },
    {
     "name": "stdout",
     "output_type": "stream",
     "text": [
      "Submitted batch job 1660423\n"
     ]
    },
    {
     "name": "stderr",
     "output_type": "stream",
     "text": [
      "sbatch: Single node jobs run on a shared node by default. Add --exclusive if you want to use a node exclusively.\n",
      "sbatch: You will be charged for 0.03125 node. A full node consists of 32 CPU cores, 229376 MiB of memory and 0 GPUs and can be shared by up to 32 jobs.\n"
     ]
    },
    {
     "name": "stdout",
     "output_type": "stream",
     "text": [
      "Submitted batch job 1660425\n"
     ]
    },
    {
     "name": "stderr",
     "output_type": "stream",
     "text": [
      "sbatch: Single node jobs run on a shared node by default. Add --exclusive if you want to use a node exclusively.\n",
      "sbatch: You will be charged for 0.03125 node. A full node consists of 32 CPU cores, 229376 MiB of memory and 0 GPUs and can be shared by up to 32 jobs.\n"
     ]
    },
    {
     "name": "stdout",
     "output_type": "stream",
     "text": [
      "Submitted batch job 1660426\n"
     ]
    },
    {
     "name": "stderr",
     "output_type": "stream",
     "text": [
      "sbatch: Single node jobs run on a shared node by default. Add --exclusive if you want to use a node exclusively.\n",
      "sbatch: You will be charged for 0.03125 node. A full node consists of 32 CPU cores, 229376 MiB of memory and 0 GPUs and can be shared by up to 32 jobs.\n"
     ]
    },
    {
     "name": "stdout",
     "output_type": "stream",
     "text": [
      "Submitted batch job 1660428\n",
      "Submitted batch job 1660429\n"
     ]
    },
    {
     "name": "stderr",
     "output_type": "stream",
     "text": [
      "sbatch: Single node jobs run on a shared node by default. Add --exclusive if you want to use a node exclusively.\n",
      "sbatch: You will be charged for 0.03125 node. A full node consists of 32 CPU cores, 229376 MiB of memory and 0 GPUs and can be shared by up to 32 jobs.\n",
      "sbatch: Single node jobs run on a shared node by default. Add --exclusive if you want to use a node exclusively.\n",
      "sbatch: You will be charged for 0.03125 node. A full node consists of 32 CPU cores, 229376 MiB of memory and 0 GPUs and can be shared by up to 32 jobs.\n"
     ]
    },
    {
     "name": "stdout",
     "output_type": "stream",
     "text": [
      "Submitted batch job 1660431\n"
     ]
    },
    {
     "name": "stderr",
     "output_type": "stream",
     "text": [
      "sbatch: Single node jobs run on a shared node by default. Add --exclusive if you want to use a node exclusively.\n",
      "sbatch: You will be charged for 0.03125 node. A full node consists of 32 CPU cores, 229376 MiB of memory and 0 GPUs and can be shared by up to 32 jobs.\n"
     ]
    },
    {
     "name": "stdout",
     "output_type": "stream",
     "text": [
      "Submitted batch job 1660433\n"
     ]
    },
    {
     "name": "stderr",
     "output_type": "stream",
     "text": [
      "sbatch: Single node jobs run on a shared node by default. Add --exclusive if you want to use a node exclusively.\n",
      "sbatch: You will be charged for 0.03125 node. A full node consists of 32 CPU cores, 229376 MiB of memory and 0 GPUs and can be shared by up to 32 jobs.\n"
     ]
    },
    {
     "name": "stdout",
     "output_type": "stream",
     "text": [
      "Submitted batch job 1660434\n"
     ]
    },
    {
     "name": "stderr",
     "output_type": "stream",
     "text": [
      "sbatch: Single node jobs run on a shared node by default. Add --exclusive if you want to use a node exclusively.\n",
      "sbatch: You will be charged for 0.03125 node. A full node consists of 32 CPU cores, 229376 MiB of memory and 0 GPUs and can be shared by up to 32 jobs.\n"
     ]
    },
    {
     "name": "stdout",
     "output_type": "stream",
     "text": [
      "Submitted batch job 1660436\n"
     ]
    },
    {
     "name": "stderr",
     "output_type": "stream",
     "text": [
      "sbatch: Single node jobs run on a shared node by default. Add --exclusive if you want to use a node exclusively.\n",
      "sbatch: You will be charged for 0.03125 node. A full node consists of 32 CPU cores, 229376 MiB of memory and 0 GPUs and can be shared by up to 32 jobs.\n"
     ]
    },
    {
     "name": "stdout",
     "output_type": "stream",
     "text": [
      "Submitted batch job 1660439\n"
     ]
    },
    {
     "name": "stderr",
     "output_type": "stream",
     "text": [
      "sbatch: Single node jobs run on a shared node by default. Add --exclusive if you want to use a node exclusively.\n",
      "sbatch: You will be charged for 0.03125 node. A full node consists of 32 CPU cores, 229376 MiB of memory and 0 GPUs and can be shared by up to 32 jobs.\n"
     ]
    },
    {
     "name": "stdout",
     "output_type": "stream",
     "text": [
      "Submitted batch job 1660441\n"
     ]
    },
    {
     "name": "stderr",
     "output_type": "stream",
     "text": [
      "sbatch: Single node jobs run on a shared node by default. Add --exclusive if you want to use a node exclusively.\n",
      "sbatch: You will be charged for 0.03125 node. A full node consists of 32 CPU cores, 229376 MiB of memory and 0 GPUs and can be shared by up to 32 jobs.\n"
     ]
    },
    {
     "name": "stdout",
     "output_type": "stream",
     "text": [
      "Submitted batch job 1660443\n"
     ]
    },
    {
     "name": "stderr",
     "output_type": "stream",
     "text": [
      "sbatch: Single node jobs run on a shared node by default. Add --exclusive if you want to use a node exclusively.\n",
      "sbatch: You will be charged for 0.03125 node. A full node consists of 32 CPU cores, 229376 MiB of memory and 0 GPUs and can be shared by up to 32 jobs.\n"
     ]
    },
    {
     "name": "stdout",
     "output_type": "stream",
     "text": [
      "Submitted batch job 1660445\n"
     ]
    },
    {
     "name": "stderr",
     "output_type": "stream",
     "text": [
      "sbatch: Single node jobs run on a shared node by default. Add --exclusive if you want to use a node exclusively.\n",
      "sbatch: You will be charged for 0.03125 node. A full node consists of 32 CPU cores, 229376 MiB of memory and 0 GPUs and can be shared by up to 32 jobs.\n"
     ]
    },
    {
     "name": "stdout",
     "output_type": "stream",
     "text": [
      "Submitted batch job 1660446\n"
     ]
    },
    {
     "name": "stderr",
     "output_type": "stream",
     "text": [
      "sbatch: Single node jobs run on a shared node by default. Add --exclusive if you want to use a node exclusively.\n",
      "sbatch: You will be charged for 0.03125 node. A full node consists of 32 CPU cores, 229376 MiB of memory and 0 GPUs and can be shared by up to 32 jobs.\n"
     ]
    },
    {
     "name": "stdout",
     "output_type": "stream",
     "text": [
      "Submitted batch job 1660448\n",
      "Submitted batch job 1660450\n"
     ]
    },
    {
     "name": "stderr",
     "output_type": "stream",
     "text": [
      "sbatch: Single node jobs run on a shared node by default. Add --exclusive if you want to use a node exclusively.\n",
      "sbatch: You will be charged for 0.03125 node. A full node consists of 32 CPU cores, 229376 MiB of memory and 0 GPUs and can be shared by up to 32 jobs.\n",
      "sbatch: Single node jobs run on a shared node by default. Add --exclusive if you want to use a node exclusively.\n",
      "sbatch: You will be charged for 0.03125 node. A full node consists of 32 CPU cores, 229376 MiB of memory and 0 GPUs and can be shared by up to 32 jobs.\n"
     ]
    },
    {
     "name": "stdout",
     "output_type": "stream",
     "text": [
      "Submitted batch job 1660452\n"
     ]
    },
    {
     "name": "stderr",
     "output_type": "stream",
     "text": [
      "sbatch: Single node jobs run on a shared node by default. Add --exclusive if you want to use a node exclusively.\n",
      "sbatch: You will be charged for 0.03125 node. A full node consists of 32 CPU cores, 229376 MiB of memory and 0 GPUs and can be shared by up to 32 jobs.\n"
     ]
    },
    {
     "name": "stdout",
     "output_type": "stream",
     "text": [
      "Submitted batch job 1660461\n"
     ]
    },
    {
     "name": "stderr",
     "output_type": "stream",
     "text": [
      "sbatch: Single node jobs run on a shared node by default. Add --exclusive if you want to use a node exclusively.\n",
      "sbatch: You will be charged for 0.03125 node. A full node consists of 32 CPU cores, 229376 MiB of memory and 0 GPUs and can be shared by up to 32 jobs.\n"
     ]
    },
    {
     "name": "stdout",
     "output_type": "stream",
     "text": [
      "Submitted batch job 1660463\n",
      "Submitted batch job 1660465\n"
     ]
    },
    {
     "name": "stderr",
     "output_type": "stream",
     "text": [
      "sbatch: Single node jobs run on a shared node by default. Add --exclusive if you want to use a node exclusively.\n",
      "sbatch: You will be charged for 0.03125 node. A full node consists of 32 CPU cores, 229376 MiB of memory and 0 GPUs and can be shared by up to 32 jobs.\n",
      "sbatch: Single node jobs run on a shared node by default. Add --exclusive if you want to use a node exclusively.\n",
      "sbatch: You will be charged for 0.03125 node. A full node consists of 32 CPU cores, 229376 MiB of memory and 0 GPUs and can be shared by up to 32 jobs.\n"
     ]
    },
    {
     "name": "stdout",
     "output_type": "stream",
     "text": [
      "Submitted batch job 1660467\n"
     ]
    },
    {
     "name": "stderr",
     "output_type": "stream",
     "text": [
      "sbatch: Single node jobs run on a shared node by default. Add --exclusive if you want to use a node exclusively.\n",
      "sbatch: You will be charged for 0.03125 node. A full node consists of 32 CPU cores, 229376 MiB of memory and 0 GPUs and can be shared by up to 32 jobs.\n"
     ]
    },
    {
     "name": "stdout",
     "output_type": "stream",
     "text": [
      "Submitted batch job 1660469\n"
     ]
    },
    {
     "name": "stderr",
     "output_type": "stream",
     "text": [
      "sbatch: Single node jobs run on a shared node by default. Add --exclusive if you want to use a node exclusively.\n",
      "sbatch: You will be charged for 0.03125 node. A full node consists of 32 CPU cores, 229376 MiB of memory and 0 GPUs and can be shared by up to 32 jobs.\n"
     ]
    },
    {
     "name": "stdout",
     "output_type": "stream",
     "text": [
      "Submitted batch job 1660471\n"
     ]
    },
    {
     "name": "stderr",
     "output_type": "stream",
     "text": [
      "sbatch: Single node jobs run on a shared node by default. Add --exclusive if you want to use a node exclusively.\n",
      "sbatch: You will be charged for 0.03125 node. A full node consists of 32 CPU cores, 229376 MiB of memory and 0 GPUs and can be shared by up to 32 jobs.\n"
     ]
    },
    {
     "name": "stdout",
     "output_type": "stream",
     "text": [
      "Submitted batch job 1660473\n"
     ]
    },
    {
     "name": "stderr",
     "output_type": "stream",
     "text": [
      "sbatch: Single node jobs run on a shared node by default. Add --exclusive if you want to use a node exclusively.\n",
      "sbatch: You will be charged for 0.03125 node. A full node consists of 32 CPU cores, 229376 MiB of memory and 0 GPUs and can be shared by up to 32 jobs.\n"
     ]
    },
    {
     "name": "stdout",
     "output_type": "stream",
     "text": [
      "Submitted batch job 1660478\n"
     ]
    },
    {
     "name": "stderr",
     "output_type": "stream",
     "text": [
      "sbatch: Single node jobs run on a shared node by default. Add --exclusive if you want to use a node exclusively.\n",
      "sbatch: You will be charged for 0.03125 node. A full node consists of 32 CPU cores, 229376 MiB of memory and 0 GPUs and can be shared by up to 32 jobs.\n"
     ]
    },
    {
     "name": "stdout",
     "output_type": "stream",
     "text": [
      "Submitted batch job 1660480\n"
     ]
    },
    {
     "name": "stderr",
     "output_type": "stream",
     "text": [
      "sbatch: Single node jobs run on a shared node by default. Add --exclusive if you want to use a node exclusively.\n",
      "sbatch: You will be charged for 0.03125 node. A full node consists of 32 CPU cores, 229376 MiB of memory and 0 GPUs and can be shared by up to 32 jobs.\n"
     ]
    },
    {
     "name": "stdout",
     "output_type": "stream",
     "text": [
      "Submitted batch job 1660481\n"
     ]
    },
    {
     "name": "stderr",
     "output_type": "stream",
     "text": [
      "sbatch: Single node jobs run on a shared node by default. Add --exclusive if you want to use a node exclusively.\n",
      "sbatch: You will be charged for 0.03125 node. A full node consists of 32 CPU cores, 229376 MiB of memory and 0 GPUs and can be shared by up to 32 jobs.\n"
     ]
    },
    {
     "name": "stdout",
     "output_type": "stream",
     "text": [
      "Submitted batch job 1660483\n"
     ]
    },
    {
     "name": "stderr",
     "output_type": "stream",
     "text": [
      "sbatch: Single node jobs run on a shared node by default. Add --exclusive if you want to use a node exclusively.\n",
      "sbatch: You will be charged for 0.03125 node. A full node consists of 32 CPU cores, 229376 MiB of memory and 0 GPUs and can be shared by up to 32 jobs.\n"
     ]
    },
    {
     "name": "stdout",
     "output_type": "stream",
     "text": [
      "Submitted batch job 1660484\n"
     ]
    },
    {
     "name": "stderr",
     "output_type": "stream",
     "text": [
      "sbatch: Single node jobs run on a shared node by default. Add --exclusive if you want to use a node exclusively.\n",
      "sbatch: You will be charged for 0.03125 node. A full node consists of 32 CPU cores, 229376 MiB of memory and 0 GPUs and can be shared by up to 32 jobs.\n"
     ]
    },
    {
     "name": "stdout",
     "output_type": "stream",
     "text": [
      "Submitted batch job 1660486\n"
     ]
    },
    {
     "name": "stderr",
     "output_type": "stream",
     "text": [
      "sbatch: Single node jobs run on a shared node by default. Add --exclusive if you want to use a node exclusively.\n",
      "sbatch: You will be charged for 0.03125 node. A full node consists of 32 CPU cores, 229376 MiB of memory and 0 GPUs and can be shared by up to 32 jobs.\n"
     ]
    },
    {
     "name": "stdout",
     "output_type": "stream",
     "text": [
      "Submitted batch job 1660500\n"
     ]
    },
    {
     "name": "stderr",
     "output_type": "stream",
     "text": [
      "sbatch: Single node jobs run on a shared node by default. Add --exclusive if you want to use a node exclusively.\n",
      "sbatch: You will be charged for 0.03125 node. A full node consists of 32 CPU cores, 229376 MiB of memory and 0 GPUs and can be shared by up to 32 jobs.\n"
     ]
    },
    {
     "name": "stdout",
     "output_type": "stream",
     "text": [
      "Submitted batch job 1660502\n"
     ]
    },
    {
     "name": "stderr",
     "output_type": "stream",
     "text": [
      "sbatch: Single node jobs run on a shared node by default. Add --exclusive if you want to use a node exclusively.\n",
      "sbatch: You will be charged for 0.03125 node. A full node consists of 32 CPU cores, 229376 MiB of memory and 0 GPUs and can be shared by up to 32 jobs.\n"
     ]
    },
    {
     "name": "stdout",
     "output_type": "stream",
     "text": [
      "Submitted batch job 1660504\n"
     ]
    },
    {
     "name": "stderr",
     "output_type": "stream",
     "text": [
      "sbatch: Single node jobs run on a shared node by default. Add --exclusive if you want to use a node exclusively.\n",
      "sbatch: You will be charged for 0.03125 node. A full node consists of 32 CPU cores, 229376 MiB of memory and 0 GPUs and can be shared by up to 32 jobs.\n"
     ]
    },
    {
     "name": "stdout",
     "output_type": "stream",
     "text": [
      "Submitted batch job 1660507\n"
     ]
    },
    {
     "name": "stderr",
     "output_type": "stream",
     "text": [
      "sbatch: Single node jobs run on a shared node by default. Add --exclusive if you want to use a node exclusively.\n",
      "sbatch: You will be charged for 0.03125 node. A full node consists of 32 CPU cores, 229376 MiB of memory and 0 GPUs and can be shared by up to 32 jobs.\n"
     ]
    },
    {
     "name": "stdout",
     "output_type": "stream",
     "text": [
      "Submitted batch job 1660509\n"
     ]
    },
    {
     "name": "stderr",
     "output_type": "stream",
     "text": [
      "sbatch: Single node jobs run on a shared node by default. Add --exclusive if you want to use a node exclusively.\n",
      "sbatch: You will be charged for 0.03125 node. A full node consists of 32 CPU cores, 229376 MiB of memory and 0 GPUs and can be shared by up to 32 jobs.\n"
     ]
    },
    {
     "name": "stdout",
     "output_type": "stream",
     "text": [
      "Submitted batch job 1660511\n"
     ]
    },
    {
     "name": "stderr",
     "output_type": "stream",
     "text": [
      "sbatch: Single node jobs run on a shared node by default. Add --exclusive if you want to use a node exclusively.\n",
      "sbatch: You will be charged for 0.03125 node. A full node consists of 32 CPU cores, 229376 MiB of memory and 0 GPUs and can be shared by up to 32 jobs.\n"
     ]
    },
    {
     "name": "stdout",
     "output_type": "stream",
     "text": [
      "Submitted batch job 1660513\n"
     ]
    },
    {
     "name": "stderr",
     "output_type": "stream",
     "text": [
      "sbatch: Single node jobs run on a shared node by default. Add --exclusive if you want to use a node exclusively.\n",
      "sbatch: You will be charged for 0.03125 node. A full node consists of 32 CPU cores, 229376 MiB of memory and 0 GPUs and can be shared by up to 32 jobs.\n"
     ]
    },
    {
     "name": "stdout",
     "output_type": "stream",
     "text": [
      "Submitted batch job 1660515\n"
     ]
    },
    {
     "name": "stderr",
     "output_type": "stream",
     "text": [
      "sbatch: Single node jobs run on a shared node by default. Add --exclusive if you want to use a node exclusively.\n",
      "sbatch: You will be charged for 0.03125 node. A full node consists of 32 CPU cores, 229376 MiB of memory and 0 GPUs and can be shared by up to 32 jobs.\n"
     ]
    },
    {
     "name": "stdout",
     "output_type": "stream",
     "text": [
      "Submitted batch job 1660517\n"
     ]
    },
    {
     "name": "stderr",
     "output_type": "stream",
     "text": [
      "sbatch: Single node jobs run on a shared node by default. Add --exclusive if you want to use a node exclusively.\n",
      "sbatch: You will be charged for 0.03125 node. A full node consists of 32 CPU cores, 229376 MiB of memory and 0 GPUs and can be shared by up to 32 jobs.\n"
     ]
    },
    {
     "name": "stdout",
     "output_type": "stream",
     "text": [
      "Submitted batch job 1660518\n"
     ]
    },
    {
     "name": "stderr",
     "output_type": "stream",
     "text": [
      "sbatch: Single node jobs run on a shared node by default. Add --exclusive if you want to use a node exclusively.\n",
      "sbatch: You will be charged for 0.03125 node. A full node consists of 32 CPU cores, 229376 MiB of memory and 0 GPUs and can be shared by up to 32 jobs.\n"
     ]
    },
    {
     "name": "stdout",
     "output_type": "stream",
     "text": [
      "Submitted batch job 1660521\n"
     ]
    },
    {
     "name": "stderr",
     "output_type": "stream",
     "text": [
      "sbatch: Single node jobs run on a shared node by default. Add --exclusive if you want to use a node exclusively.\n",
      "sbatch: You will be charged for 0.03125 node. A full node consists of 32 CPU cores, 229376 MiB of memory and 0 GPUs and can be shared by up to 32 jobs.\n"
     ]
    },
    {
     "name": "stdout",
     "output_type": "stream",
     "text": [
      "Submitted batch job 1660522\n"
     ]
    },
    {
     "name": "stderr",
     "output_type": "stream",
     "text": [
      "sbatch: Single node jobs run on a shared node by default. Add --exclusive if you want to use a node exclusively.\n",
      "sbatch: You will be charged for 0.03125 node. A full node consists of 32 CPU cores, 229376 MiB of memory and 0 GPUs and can be shared by up to 32 jobs.\n"
     ]
    },
    {
     "name": "stdout",
     "output_type": "stream",
     "text": [
      "Submitted batch job 1660524\n"
     ]
    },
    {
     "name": "stderr",
     "output_type": "stream",
     "text": [
      "sbatch: Single node jobs run on a shared node by default. Add --exclusive if you want to use a node exclusively.\n",
      "sbatch: You will be charged for 0.03125 node. A full node consists of 32 CPU cores, 229376 MiB of memory and 0 GPUs and can be shared by up to 32 jobs.\n"
     ]
    },
    {
     "name": "stdout",
     "output_type": "stream",
     "text": [
      "Submitted batch job 1660526\n"
     ]
    },
    {
     "name": "stderr",
     "output_type": "stream",
     "text": [
      "sbatch: Single node jobs run on a shared node by default. Add --exclusive if you want to use a node exclusively.\n",
      "sbatch: You will be charged for 0.03125 node. A full node consists of 32 CPU cores, 229376 MiB of memory and 0 GPUs and can be shared by up to 32 jobs.\n"
     ]
    },
    {
     "name": "stdout",
     "output_type": "stream",
     "text": [
      "Submitted batch job 1660528\n"
     ]
    },
    {
     "name": "stderr",
     "output_type": "stream",
     "text": [
      "sbatch: Single node jobs run on a shared node by default. Add --exclusive if you want to use a node exclusively.\n",
      "sbatch: You will be charged for 0.03125 node. A full node consists of 32 CPU cores, 229376 MiB of memory and 0 GPUs and can be shared by up to 32 jobs.\n"
     ]
    },
    {
     "name": "stdout",
     "output_type": "stream",
     "text": [
      "Submitted batch job 1660530\n"
     ]
    },
    {
     "name": "stderr",
     "output_type": "stream",
     "text": [
      "sbatch: Single node jobs run on a shared node by default. Add --exclusive if you want to use a node exclusively.\n",
      "sbatch: You will be charged for 0.03125 node. A full node consists of 32 CPU cores, 229376 MiB of memory and 0 GPUs and can be shared by up to 32 jobs.\n"
     ]
    },
    {
     "name": "stdout",
     "output_type": "stream",
     "text": [
      "Submitted batch job 1660532\n"
     ]
    },
    {
     "name": "stderr",
     "output_type": "stream",
     "text": [
      "sbatch: Single node jobs run on a shared node by default. Add --exclusive if you want to use a node exclusively.\n",
      "sbatch: You will be charged for 0.03125 node. A full node consists of 32 CPU cores, 229376 MiB of memory and 0 GPUs and can be shared by up to 32 jobs.\n"
     ]
    },
    {
     "name": "stdout",
     "output_type": "stream",
     "text": [
      "Submitted batch job 1660534\n"
     ]
    },
    {
     "name": "stderr",
     "output_type": "stream",
     "text": [
      "sbatch: Single node jobs run on a shared node by default. Add --exclusive if you want to use a node exclusively.\n",
      "sbatch: You will be charged for 0.03125 node. A full node consists of 32 CPU cores, 229376 MiB of memory and 0 GPUs and can be shared by up to 32 jobs.\n"
     ]
    },
    {
     "name": "stdout",
     "output_type": "stream",
     "text": [
      "Submitted batch job 1660536\n"
     ]
    },
    {
     "name": "stderr",
     "output_type": "stream",
     "text": [
      "sbatch: Single node jobs run on a shared node by default. Add --exclusive if you want to use a node exclusively.\n",
      "sbatch: You will be charged for 0.03125 node. A full node consists of 32 CPU cores, 229376 MiB of memory and 0 GPUs and can be shared by up to 32 jobs.\n"
     ]
    },
    {
     "name": "stdout",
     "output_type": "stream",
     "text": [
      "Submitted batch job 1660538\n"
     ]
    },
    {
     "name": "stderr",
     "output_type": "stream",
     "text": [
      "sbatch: Single node jobs run on a shared node by default. Add --exclusive if you want to use a node exclusively.\n",
      "sbatch: You will be charged for 0.03125 node. A full node consists of 32 CPU cores, 229376 MiB of memory and 0 GPUs and can be shared by up to 32 jobs.\n"
     ]
    },
    {
     "name": "stdout",
     "output_type": "stream",
     "text": [
      "Submitted batch job 1660550\n"
     ]
    },
    {
     "name": "stderr",
     "output_type": "stream",
     "text": [
      "sbatch: Single node jobs run on a shared node by default. Add --exclusive if you want to use a node exclusively.\n",
      "sbatch: You will be charged for 0.03125 node. A full node consists of 32 CPU cores, 229376 MiB of memory and 0 GPUs and can be shared by up to 32 jobs.\n"
     ]
    },
    {
     "name": "stdout",
     "output_type": "stream",
     "text": [
      "Submitted batch job 1660552\n"
     ]
    },
    {
     "name": "stderr",
     "output_type": "stream",
     "text": [
      "sbatch: Single node jobs run on a shared node by default. Add --exclusive if you want to use a node exclusively.\n",
      "sbatch: You will be charged for 0.03125 node. A full node consists of 32 CPU cores, 229376 MiB of memory and 0 GPUs and can be shared by up to 32 jobs.\n"
     ]
    },
    {
     "name": "stdout",
     "output_type": "stream",
     "text": [
      "Submitted batch job 1660554\n"
     ]
    },
    {
     "name": "stderr",
     "output_type": "stream",
     "text": [
      "sbatch: Single node jobs run on a shared node by default. Add --exclusive if you want to use a node exclusively.\n",
      "sbatch: You will be charged for 0.03125 node. A full node consists of 32 CPU cores, 229376 MiB of memory and 0 GPUs and can be shared by up to 32 jobs.\n"
     ]
    },
    {
     "name": "stdout",
     "output_type": "stream",
     "text": [
      "Submitted batch job 1660555\n"
     ]
    },
    {
     "name": "stderr",
     "output_type": "stream",
     "text": [
      "sbatch: Single node jobs run on a shared node by default. Add --exclusive if you want to use a node exclusively.\n",
      "sbatch: You will be charged for 0.03125 node. A full node consists of 32 CPU cores, 229376 MiB of memory and 0 GPUs and can be shared by up to 32 jobs.\n"
     ]
    },
    {
     "name": "stdout",
     "output_type": "stream",
     "text": [
      "Submitted batch job 1660558\n"
     ]
    },
    {
     "name": "stderr",
     "output_type": "stream",
     "text": [
      "sbatch: Single node jobs run on a shared node by default. Add --exclusive if you want to use a node exclusively.\n",
      "sbatch: You will be charged for 0.03125 node. A full node consists of 32 CPU cores, 229376 MiB of memory and 0 GPUs and can be shared by up to 32 jobs.\n"
     ]
    },
    {
     "name": "stdout",
     "output_type": "stream",
     "text": [
      "Submitted batch job 1660559\n"
     ]
    },
    {
     "name": "stderr",
     "output_type": "stream",
     "text": [
      "sbatch: Single node jobs run on a shared node by default. Add --exclusive if you want to use a node exclusively.\n",
      "sbatch: You will be charged for 0.03125 node. A full node consists of 32 CPU cores, 229376 MiB of memory and 0 GPUs and can be shared by up to 32 jobs.\n"
     ]
    },
    {
     "name": "stdout",
     "output_type": "stream",
     "text": [
      "Submitted batch job 1660561\n"
     ]
    },
    {
     "name": "stderr",
     "output_type": "stream",
     "text": [
      "sbatch: Single node jobs run on a shared node by default. Add --exclusive if you want to use a node exclusively.\n",
      "sbatch: You will be charged for 0.03125 node. A full node consists of 32 CPU cores, 229376 MiB of memory and 0 GPUs and can be shared by up to 32 jobs.\n"
     ]
    },
    {
     "name": "stdout",
     "output_type": "stream",
     "text": [
      "Submitted batch job 1660562\n"
     ]
    },
    {
     "name": "stderr",
     "output_type": "stream",
     "text": [
      "sbatch: Single node jobs run on a shared node by default. Add --exclusive if you want to use a node exclusively.\n",
      "sbatch: You will be charged for 0.03125 node. A full node consists of 32 CPU cores, 229376 MiB of memory and 0 GPUs and can be shared by up to 32 jobs.\n"
     ]
    },
    {
     "name": "stdout",
     "output_type": "stream",
     "text": [
      "Submitted batch job 1660576\n"
     ]
    },
    {
     "name": "stderr",
     "output_type": "stream",
     "text": [
      "sbatch: Single node jobs run on a shared node by default. Add --exclusive if you want to use a node exclusively.\n",
      "sbatch: You will be charged for 0.03125 node. A full node consists of 32 CPU cores, 229376 MiB of memory and 0 GPUs and can be shared by up to 32 jobs.\n"
     ]
    },
    {
     "name": "stdout",
     "output_type": "stream",
     "text": [
      "Submitted batch job 1660577\n"
     ]
    },
    {
     "name": "stderr",
     "output_type": "stream",
     "text": [
      "sbatch: Single node jobs run on a shared node by default. Add --exclusive if you want to use a node exclusively.\n",
      "sbatch: You will be charged for 0.03125 node. A full node consists of 32 CPU cores, 229376 MiB of memory and 0 GPUs and can be shared by up to 32 jobs.\n"
     ]
    },
    {
     "name": "stdout",
     "output_type": "stream",
     "text": [
      "Submitted batch job 1660578\n"
     ]
    },
    {
     "name": "stderr",
     "output_type": "stream",
     "text": [
      "sbatch: Single node jobs run on a shared node by default. Add --exclusive if you want to use a node exclusively.\n",
      "sbatch: You will be charged for 0.03125 node. A full node consists of 32 CPU cores, 229376 MiB of memory and 0 GPUs and can be shared by up to 32 jobs.\n"
     ]
    },
    {
     "name": "stdout",
     "output_type": "stream",
     "text": [
      "Submitted batch job 1660579\n"
     ]
    },
    {
     "name": "stderr",
     "output_type": "stream",
     "text": [
      "sbatch: Single node jobs run on a shared node by default. Add --exclusive if you want to use a node exclusively.\n",
      "sbatch: You will be charged for 0.03125 node. A full node consists of 32 CPU cores, 229376 MiB of memory and 0 GPUs and can be shared by up to 32 jobs.\n"
     ]
    },
    {
     "name": "stdout",
     "output_type": "stream",
     "text": [
      "Submitted batch job 1660580\n"
     ]
    },
    {
     "name": "stderr",
     "output_type": "stream",
     "text": [
      "sbatch: Single node jobs run on a shared node by default. Add --exclusive if you want to use a node exclusively.\n",
      "sbatch: You will be charged for 0.03125 node. A full node consists of 32 CPU cores, 229376 MiB of memory and 0 GPUs and can be shared by up to 32 jobs.\n"
     ]
    },
    {
     "name": "stdout",
     "output_type": "stream",
     "text": [
      "Submitted batch job 1660581\n"
     ]
    },
    {
     "name": "stderr",
     "output_type": "stream",
     "text": [
      "sbatch: Single node jobs run on a shared node by default. Add --exclusive if you want to use a node exclusively.\n",
      "sbatch: You will be charged for 0.03125 node. A full node consists of 32 CPU cores, 229376 MiB of memory and 0 GPUs and can be shared by up to 32 jobs.\n"
     ]
    },
    {
     "name": "stdout",
     "output_type": "stream",
     "text": [
      "Submitted batch job 1660583\n"
     ]
    },
    {
     "name": "stderr",
     "output_type": "stream",
     "text": [
      "sbatch: Single node jobs run on a shared node by default. Add --exclusive if you want to use a node exclusively.\n",
      "sbatch: You will be charged for 0.03125 node. A full node consists of 32 CPU cores, 229376 MiB of memory and 0 GPUs and can be shared by up to 32 jobs.\n"
     ]
    },
    {
     "name": "stdout",
     "output_type": "stream",
     "text": [
      "Submitted batch job 1660584\n"
     ]
    },
    {
     "name": "stderr",
     "output_type": "stream",
     "text": [
      "sbatch: Single node jobs run on a shared node by default. Add --exclusive if you want to use a node exclusively.\n",
      "sbatch: You will be charged for 0.03125 node. A full node consists of 32 CPU cores, 229376 MiB of memory and 0 GPUs and can be shared by up to 32 jobs.\n"
     ]
    },
    {
     "name": "stdout",
     "output_type": "stream",
     "text": [
      "Submitted batch job 1660585\n"
     ]
    },
    {
     "name": "stderr",
     "output_type": "stream",
     "text": [
      "sbatch: Single node jobs run on a shared node by default. Add --exclusive if you want to use a node exclusively.\n",
      "sbatch: You will be charged for 0.03125 node. A full node consists of 32 CPU cores, 229376 MiB of memory and 0 GPUs and can be shared by up to 32 jobs.\n"
     ]
    },
    {
     "name": "stdout",
     "output_type": "stream",
     "text": [
      "Submitted batch job 1660586\n"
     ]
    },
    {
     "name": "stderr",
     "output_type": "stream",
     "text": [
      "sbatch: Single node jobs run on a shared node by default. Add --exclusive if you want to use a node exclusively.\n",
      "sbatch: You will be charged for 0.03125 node. A full node consists of 32 CPU cores, 229376 MiB of memory and 0 GPUs and can be shared by up to 32 jobs.\n"
     ]
    },
    {
     "name": "stdout",
     "output_type": "stream",
     "text": [
      "Submitted batch job 1660587\n"
     ]
    },
    {
     "name": "stderr",
     "output_type": "stream",
     "text": [
      "sbatch: Single node jobs run on a shared node by default. Add --exclusive if you want to use a node exclusively.\n",
      "sbatch: You will be charged for 0.03125 node. A full node consists of 32 CPU cores, 229376 MiB of memory and 0 GPUs and can be shared by up to 32 jobs.\n"
     ]
    },
    {
     "name": "stdout",
     "output_type": "stream",
     "text": [
      "Submitted batch job 1660588\n"
     ]
    },
    {
     "name": "stderr",
     "output_type": "stream",
     "text": [
      "sbatch: Single node jobs run on a shared node by default. Add --exclusive if you want to use a node exclusively.\n",
      "sbatch: You will be charged for 0.03125 node. A full node consists of 32 CPU cores, 229376 MiB of memory and 0 GPUs and can be shared by up to 32 jobs.\n"
     ]
    },
    {
     "name": "stdout",
     "output_type": "stream",
     "text": [
      "Submitted batch job 1660589\n"
     ]
    },
    {
     "name": "stderr",
     "output_type": "stream",
     "text": [
      "sbatch: Single node jobs run on a shared node by default. Add --exclusive if you want to use a node exclusively.\n",
      "sbatch: You will be charged for 0.03125 node. A full node consists of 32 CPU cores, 229376 MiB of memory and 0 GPUs and can be shared by up to 32 jobs.\n"
     ]
    },
    {
     "name": "stdout",
     "output_type": "stream",
     "text": [
      "Submitted batch job 1660590\n"
     ]
    },
    {
     "name": "stderr",
     "output_type": "stream",
     "text": [
      "sbatch: Single node jobs run on a shared node by default. Add --exclusive if you want to use a node exclusively.\n",
      "sbatch: You will be charged for 0.03125 node. A full node consists of 32 CPU cores, 229376 MiB of memory and 0 GPUs and can be shared by up to 32 jobs.\n"
     ]
    },
    {
     "name": "stdout",
     "output_type": "stream",
     "text": [
      "Submitted batch job 1660591\n"
     ]
    },
    {
     "name": "stderr",
     "output_type": "stream",
     "text": [
      "sbatch: Single node jobs run on a shared node by default. Add --exclusive if you want to use a node exclusively.\n",
      "sbatch: You will be charged for 0.03125 node. A full node consists of 32 CPU cores, 229376 MiB of memory and 0 GPUs and can be shared by up to 32 jobs.\n"
     ]
    },
    {
     "name": "stdout",
     "output_type": "stream",
     "text": [
      "Submitted batch job 1660592\n"
     ]
    },
    {
     "name": "stderr",
     "output_type": "stream",
     "text": [
      "sbatch: Single node jobs run on a shared node by default. Add --exclusive if you want to use a node exclusively.\n",
      "sbatch: You will be charged for 0.03125 node. A full node consists of 32 CPU cores, 229376 MiB of memory and 0 GPUs and can be shared by up to 32 jobs.\n"
     ]
    },
    {
     "name": "stdout",
     "output_type": "stream",
     "text": [
      "Submitted batch job 1660593\n"
     ]
    },
    {
     "name": "stderr",
     "output_type": "stream",
     "text": [
      "sbatch: Single node jobs run on a shared node by default. Add --exclusive if you want to use a node exclusively.\n",
      "sbatch: You will be charged for 0.03125 node. A full node consists of 32 CPU cores, 229376 MiB of memory and 0 GPUs and can be shared by up to 32 jobs.\n"
     ]
    },
    {
     "name": "stdout",
     "output_type": "stream",
     "text": [
      "Submitted batch job 1660595\n"
     ]
    },
    {
     "name": "stderr",
     "output_type": "stream",
     "text": [
      "sbatch: Single node jobs run on a shared node by default. Add --exclusive if you want to use a node exclusively.\n",
      "sbatch: You will be charged for 0.03125 node. A full node consists of 32 CPU cores, 229376 MiB of memory and 0 GPUs and can be shared by up to 32 jobs.\n"
     ]
    },
    {
     "name": "stdout",
     "output_type": "stream",
     "text": [
      "Submitted batch job 1660598\n"
     ]
    },
    {
     "name": "stderr",
     "output_type": "stream",
     "text": [
      "sbatch: Single node jobs run on a shared node by default. Add --exclusive if you want to use a node exclusively.\n",
      "sbatch: You will be charged for 0.03125 node. A full node consists of 32 CPU cores, 229376 MiB of memory and 0 GPUs and can be shared by up to 32 jobs.\n"
     ]
    },
    {
     "name": "stdout",
     "output_type": "stream",
     "text": [
      "Submitted batch job 1660599\n"
     ]
    },
    {
     "name": "stderr",
     "output_type": "stream",
     "text": [
      "sbatch: Single node jobs run on a shared node by default. Add --exclusive if you want to use a node exclusively.\n",
      "sbatch: You will be charged for 0.03125 node. A full node consists of 32 CPU cores, 229376 MiB of memory and 0 GPUs and can be shared by up to 32 jobs.\n"
     ]
    },
    {
     "name": "stdout",
     "output_type": "stream",
     "text": [
      "Submitted batch job 1660601\n"
     ]
    },
    {
     "name": "stderr",
     "output_type": "stream",
     "text": [
      "sbatch: Single node jobs run on a shared node by default. Add --exclusive if you want to use a node exclusively.\n",
      "sbatch: You will be charged for 0.03125 node. A full node consists of 32 CPU cores, 229376 MiB of memory and 0 GPUs and can be shared by up to 32 jobs.\n"
     ]
    },
    {
     "name": "stdout",
     "output_type": "stream",
     "text": [
      "Submitted batch job 1660602\n"
     ]
    },
    {
     "name": "stderr",
     "output_type": "stream",
     "text": [
      "sbatch: Single node jobs run on a shared node by default. Add --exclusive if you want to use a node exclusively.\n",
      "sbatch: You will be charged for 0.03125 node. A full node consists of 32 CPU cores, 229376 MiB of memory and 0 GPUs and can be shared by up to 32 jobs.\n"
     ]
    },
    {
     "name": "stdout",
     "output_type": "stream",
     "text": [
      "Submitted batch job 1660604\n"
     ]
    },
    {
     "name": "stderr",
     "output_type": "stream",
     "text": [
      "sbatch: Single node jobs run on a shared node by default. Add --exclusive if you want to use a node exclusively.\n",
      "sbatch: You will be charged for 0.03125 node. A full node consists of 32 CPU cores, 229376 MiB of memory and 0 GPUs and can be shared by up to 32 jobs.\n"
     ]
    },
    {
     "name": "stdout",
     "output_type": "stream",
     "text": [
      "Submitted batch job 1660605\n"
     ]
    },
    {
     "name": "stderr",
     "output_type": "stream",
     "text": [
      "sbatch: Single node jobs run on a shared node by default. Add --exclusive if you want to use a node exclusively.\n",
      "sbatch: You will be charged for 0.03125 node. A full node consists of 32 CPU cores, 229376 MiB of memory and 0 GPUs and can be shared by up to 32 jobs.\n"
     ]
    },
    {
     "name": "stdout",
     "output_type": "stream",
     "text": [
      "Submitted batch job 1660613\n"
     ]
    },
    {
     "name": "stderr",
     "output_type": "stream",
     "text": [
      "sbatch: Single node jobs run on a shared node by default. Add --exclusive if you want to use a node exclusively.\n",
      "sbatch: You will be charged for 0.03125 node. A full node consists of 32 CPU cores, 229376 MiB of memory and 0 GPUs and can be shared by up to 32 jobs.\n"
     ]
    },
    {
     "name": "stdout",
     "output_type": "stream",
     "text": [
      "Submitted batch job 1660614\n"
     ]
    },
    {
     "name": "stderr",
     "output_type": "stream",
     "text": [
      "sbatch: Single node jobs run on a shared node by default. Add --exclusive if you want to use a node exclusively.\n",
      "sbatch: You will be charged for 0.03125 node. A full node consists of 32 CPU cores, 229376 MiB of memory and 0 GPUs and can be shared by up to 32 jobs.\n"
     ]
    },
    {
     "name": "stdout",
     "output_type": "stream",
     "text": [
      "Submitted batch job 1660616\n"
     ]
    },
    {
     "name": "stderr",
     "output_type": "stream",
     "text": [
      "sbatch: Single node jobs run on a shared node by default. Add --exclusive if you want to use a node exclusively.\n",
      "sbatch: You will be charged for 0.03125 node. A full node consists of 32 CPU cores, 229376 MiB of memory and 0 GPUs and can be shared by up to 32 jobs.\n"
     ]
    },
    {
     "name": "stdout",
     "output_type": "stream",
     "text": [
      "Submitted batch job 1660617\n"
     ]
    },
    {
     "name": "stderr",
     "output_type": "stream",
     "text": [
      "sbatch: Single node jobs run on a shared node by default. Add --exclusive if you want to use a node exclusively.\n",
      "sbatch: You will be charged for 0.03125 node. A full node consists of 32 CPU cores, 229376 MiB of memory and 0 GPUs and can be shared by up to 32 jobs.\n"
     ]
    },
    {
     "name": "stdout",
     "output_type": "stream",
     "text": [
      "Submitted batch job 1660619\n"
     ]
    },
    {
     "name": "stderr",
     "output_type": "stream",
     "text": [
      "sbatch: Single node jobs run on a shared node by default. Add --exclusive if you want to use a node exclusively.\n",
      "sbatch: You will be charged for 0.03125 node. A full node consists of 32 CPU cores, 229376 MiB of memory and 0 GPUs and can be shared by up to 32 jobs.\n"
     ]
    },
    {
     "name": "stdout",
     "output_type": "stream",
     "text": [
      "Submitted batch job 1660620\n"
     ]
    },
    {
     "name": "stderr",
     "output_type": "stream",
     "text": [
      "sbatch: Single node jobs run on a shared node by default. Add --exclusive if you want to use a node exclusively.\n",
      "sbatch: You will be charged for 0.03125 node. A full node consists of 32 CPU cores, 229376 MiB of memory and 0 GPUs and can be shared by up to 32 jobs.\n"
     ]
    },
    {
     "name": "stdout",
     "output_type": "stream",
     "text": [
      "Submitted batch job 1660622\n"
     ]
    },
    {
     "name": "stderr",
     "output_type": "stream",
     "text": [
      "sbatch: Single node jobs run on a shared node by default. Add --exclusive if you want to use a node exclusively.\n",
      "sbatch: You will be charged for 0.03125 node. A full node consists of 32 CPU cores, 229376 MiB of memory and 0 GPUs and can be shared by up to 32 jobs.\n"
     ]
    },
    {
     "name": "stdout",
     "output_type": "stream",
     "text": [
      "Submitted batch job 1660623\n"
     ]
    },
    {
     "name": "stderr",
     "output_type": "stream",
     "text": [
      "sbatch: Single node jobs run on a shared node by default. Add --exclusive if you want to use a node exclusively.\n",
      "sbatch: You will be charged for 0.03125 node. A full node consists of 32 CPU cores, 229376 MiB of memory and 0 GPUs and can be shared by up to 32 jobs.\n"
     ]
    },
    {
     "name": "stdout",
     "output_type": "stream",
     "text": [
      "Submitted batch job 1660625\n"
     ]
    },
    {
     "name": "stderr",
     "output_type": "stream",
     "text": [
      "sbatch: Single node jobs run on a shared node by default. Add --exclusive if you want to use a node exclusively.\n",
      "sbatch: You will be charged for 0.03125 node. A full node consists of 32 CPU cores, 229376 MiB of memory and 0 GPUs and can be shared by up to 32 jobs.\n"
     ]
    },
    {
     "name": "stdout",
     "output_type": "stream",
     "text": [
      "Submitted batch job 1660627\n"
     ]
    },
    {
     "name": "stderr",
     "output_type": "stream",
     "text": [
      "sbatch: Single node jobs run on a shared node by default. Add --exclusive if you want to use a node exclusively.\n",
      "sbatch: You will be charged for 0.03125 node. A full node consists of 32 CPU cores, 229376 MiB of memory and 0 GPUs and can be shared by up to 32 jobs.\n"
     ]
    },
    {
     "name": "stdout",
     "output_type": "stream",
     "text": [
      "Submitted batch job 1660628\n"
     ]
    },
    {
     "name": "stderr",
     "output_type": "stream",
     "text": [
      "sbatch: Single node jobs run on a shared node by default. Add --exclusive if you want to use a node exclusively.\n",
      "sbatch: You will be charged for 0.03125 node. A full node consists of 32 CPU cores, 229376 MiB of memory and 0 GPUs and can be shared by up to 32 jobs.\n"
     ]
    },
    {
     "name": "stdout",
     "output_type": "stream",
     "text": [
      "Submitted batch job 1660630\n"
     ]
    },
    {
     "name": "stderr",
     "output_type": "stream",
     "text": [
      "sbatch: Single node jobs run on a shared node by default. Add --exclusive if you want to use a node exclusively.\n",
      "sbatch: You will be charged for 0.03125 node. A full node consists of 32 CPU cores, 229376 MiB of memory and 0 GPUs and can be shared by up to 32 jobs.\n"
     ]
    },
    {
     "name": "stdout",
     "output_type": "stream",
     "text": [
      "Submitted batch job 1660632\n"
     ]
    },
    {
     "name": "stderr",
     "output_type": "stream",
     "text": [
      "sbatch: Single node jobs run on a shared node by default. Add --exclusive if you want to use a node exclusively.\n",
      "sbatch: You will be charged for 0.03125 node. A full node consists of 32 CPU cores, 229376 MiB of memory and 0 GPUs and can be shared by up to 32 jobs.\n"
     ]
    },
    {
     "name": "stdout",
     "output_type": "stream",
     "text": [
      "Submitted batch job 1660633\n",
      "Submitted batch job 1660635\n"
     ]
    },
    {
     "name": "stderr",
     "output_type": "stream",
     "text": [
      "sbatch: Single node jobs run on a shared node by default. Add --exclusive if you want to use a node exclusively.\n",
      "sbatch: You will be charged for 0.03125 node. A full node consists of 32 CPU cores, 229376 MiB of memory and 0 GPUs and can be shared by up to 32 jobs.\n",
      "sbatch: Single node jobs run on a shared node by default. Add --exclusive if you want to use a node exclusively.\n",
      "sbatch: You will be charged for 0.03125 node. A full node consists of 32 CPU cores, 229376 MiB of memory and 0 GPUs and can be shared by up to 32 jobs.\n"
     ]
    },
    {
     "name": "stdout",
     "output_type": "stream",
     "text": [
      "Submitted batch job 1660637\n"
     ]
    },
    {
     "name": "stderr",
     "output_type": "stream",
     "text": [
      "sbatch: Single node jobs run on a shared node by default. Add --exclusive if you want to use a node exclusively.\n",
      "sbatch: You will be charged for 0.03125 node. A full node consists of 32 CPU cores, 229376 MiB of memory and 0 GPUs and can be shared by up to 32 jobs.\n"
     ]
    },
    {
     "name": "stdout",
     "output_type": "stream",
     "text": [
      "Submitted batch job 1660638\n"
     ]
    },
    {
     "name": "stderr",
     "output_type": "stream",
     "text": [
      "sbatch: Single node jobs run on a shared node by default. Add --exclusive if you want to use a node exclusively.\n",
      "sbatch: You will be charged for 0.03125 node. A full node consists of 32 CPU cores, 229376 MiB of memory and 0 GPUs and can be shared by up to 32 jobs.\n"
     ]
    },
    {
     "name": "stdout",
     "output_type": "stream",
     "text": [
      "Submitted batch job 1660640\n",
      "Submitted batch job 1660650\n"
     ]
    },
    {
     "name": "stderr",
     "output_type": "stream",
     "text": [
      "sbatch: Single node jobs run on a shared node by default. Add --exclusive if you want to use a node exclusively.\n",
      "sbatch: You will be charged for 0.03125 node. A full node consists of 32 CPU cores, 229376 MiB of memory and 0 GPUs and can be shared by up to 32 jobs.\n"
     ]
    },
    {
     "name": "stdout",
     "output_type": "stream",
     "text": [
      "Submitted batch job 1660651\n"
     ]
    },
    {
     "name": "stderr",
     "output_type": "stream",
     "text": [
      "sbatch: Single node jobs run on a shared node by default. Add --exclusive if you want to use a node exclusively.\n",
      "sbatch: You will be charged for 0.03125 node. A full node consists of 32 CPU cores, 229376 MiB of memory and 0 GPUs and can be shared by up to 32 jobs.\n",
      "sbatch: Single node jobs run on a shared node by default. Add --exclusive if you want to use a node exclusively.\n",
      "sbatch: You will be charged for 0.03125 node. A full node consists of 32 CPU cores, 229376 MiB of memory and 0 GPUs and can be shared by up to 32 jobs.\n"
     ]
    },
    {
     "name": "stdout",
     "output_type": "stream",
     "text": [
      "Submitted batch job 1660654\n"
     ]
    },
    {
     "name": "stderr",
     "output_type": "stream",
     "text": [
      "sbatch: Single node jobs run on a shared node by default. Add --exclusive if you want to use a node exclusively.\n",
      "sbatch: You will be charged for 0.03125 node. A full node consists of 32 CPU cores, 229376 MiB of memory and 0 GPUs and can be shared by up to 32 jobs.\n"
     ]
    },
    {
     "name": "stdout",
     "output_type": "stream",
     "text": [
      "Submitted batch job 1660655\n"
     ]
    },
    {
     "name": "stderr",
     "output_type": "stream",
     "text": [
      "sbatch: Single node jobs run on a shared node by default. Add --exclusive if you want to use a node exclusively.\n",
      "sbatch: You will be charged for 0.03125 node. A full node consists of 32 CPU cores, 229376 MiB of memory and 0 GPUs and can be shared by up to 32 jobs.\n"
     ]
    },
    {
     "name": "stdout",
     "output_type": "stream",
     "text": [
      "Submitted batch job 1660657\n"
     ]
    },
    {
     "name": "stderr",
     "output_type": "stream",
     "text": [
      "sbatch: Single node jobs run on a shared node by default. Add --exclusive if you want to use a node exclusively.\n",
      "sbatch: You will be charged for 0.03125 node. A full node consists of 32 CPU cores, 229376 MiB of memory and 0 GPUs and can be shared by up to 32 jobs.\n"
     ]
    },
    {
     "name": "stdout",
     "output_type": "stream",
     "text": [
      "Submitted batch job 1660659\n"
     ]
    },
    {
     "name": "stderr",
     "output_type": "stream",
     "text": [
      "sbatch: Single node jobs run on a shared node by default. Add --exclusive if you want to use a node exclusively.\n",
      "sbatch: You will be charged for 0.03125 node. A full node consists of 32 CPU cores, 229376 MiB of memory and 0 GPUs and can be shared by up to 32 jobs.\n"
     ]
    },
    {
     "name": "stdout",
     "output_type": "stream",
     "text": [
      "Submitted batch job 1660660\n",
      "Submitted batch job 1660663\n"
     ]
    },
    {
     "name": "stderr",
     "output_type": "stream",
     "text": [
      "sbatch: Single node jobs run on a shared node by default. Add --exclusive if you want to use a node exclusively.\n",
      "sbatch: You will be charged for 0.03125 node. A full node consists of 32 CPU cores, 229376 MiB of memory and 0 GPUs and can be shared by up to 32 jobs.\n",
      "sbatch: Single node jobs run on a shared node by default. Add --exclusive if you want to use a node exclusively.\n",
      "sbatch: You will be charged for 0.03125 node. A full node consists of 32 CPU cores, 229376 MiB of memory and 0 GPUs and can be shared by up to 32 jobs.\n"
     ]
    },
    {
     "name": "stdout",
     "output_type": "stream",
     "text": [
      "Submitted batch job 1660665\n"
     ]
    },
    {
     "name": "stderr",
     "output_type": "stream",
     "text": [
      "sbatch: Single node jobs run on a shared node by default. Add --exclusive if you want to use a node exclusively.\n",
      "sbatch: You will be charged for 0.03125 node. A full node consists of 32 CPU cores, 229376 MiB of memory and 0 GPUs and can be shared by up to 32 jobs.\n"
     ]
    },
    {
     "name": "stdout",
     "output_type": "stream",
     "text": [
      "Submitted batch job 1660667\n"
     ]
    },
    {
     "name": "stderr",
     "output_type": "stream",
     "text": [
      "sbatch: Single node jobs run on a shared node by default. Add --exclusive if you want to use a node exclusively.\n",
      "sbatch: You will be charged for 0.03125 node. A full node consists of 32 CPU cores, 229376 MiB of memory and 0 GPUs and can be shared by up to 32 jobs.\n"
     ]
    },
    {
     "name": "stdout",
     "output_type": "stream",
     "text": [
      "Submitted batch job 1660675\n"
     ]
    },
    {
     "name": "stderr",
     "output_type": "stream",
     "text": [
      "sbatch: Single node jobs run on a shared node by default. Add --exclusive if you want to use a node exclusively.\n",
      "sbatch: You will be charged for 0.03125 node. A full node consists of 32 CPU cores, 229376 MiB of memory and 0 GPUs and can be shared by up to 32 jobs.\n"
     ]
    },
    {
     "name": "stdout",
     "output_type": "stream",
     "text": [
      "Submitted batch job 1660677\n"
     ]
    },
    {
     "name": "stderr",
     "output_type": "stream",
     "text": [
      "sbatch: Single node jobs run on a shared node by default. Add --exclusive if you want to use a node exclusively.\n",
      "sbatch: You will be charged for 0.03125 node. A full node consists of 32 CPU cores, 229376 MiB of memory and 0 GPUs and can be shared by up to 32 jobs.\n"
     ]
    },
    {
     "name": "stdout",
     "output_type": "stream",
     "text": [
      "Submitted batch job 1660679\n"
     ]
    },
    {
     "name": "stderr",
     "output_type": "stream",
     "text": [
      "sbatch: Single node jobs run on a shared node by default. Add --exclusive if you want to use a node exclusively.\n",
      "sbatch: You will be charged for 0.03125 node. A full node consists of 32 CPU cores, 229376 MiB of memory and 0 GPUs and can be shared by up to 32 jobs.\n"
     ]
    },
    {
     "name": "stdout",
     "output_type": "stream",
     "text": [
      "Submitted batch job 1660681\n"
     ]
    },
    {
     "name": "stderr",
     "output_type": "stream",
     "text": [
      "sbatch: Single node jobs run on a shared node by default. Add --exclusive if you want to use a node exclusively.\n",
      "sbatch: You will be charged for 0.03125 node. A full node consists of 32 CPU cores, 229376 MiB of memory and 0 GPUs and can be shared by up to 32 jobs.\n"
     ]
    },
    {
     "name": "stdout",
     "output_type": "stream",
     "text": [
      "Submitted batch job 1660683\n"
     ]
    },
    {
     "name": "stderr",
     "output_type": "stream",
     "text": [
      "sbatch: Single node jobs run on a shared node by default. Add --exclusive if you want to use a node exclusively.\n",
      "sbatch: You will be charged for 0.03125 node. A full node consists of 32 CPU cores, 229376 MiB of memory and 0 GPUs and can be shared by up to 32 jobs.\n"
     ]
    },
    {
     "name": "stdout",
     "output_type": "stream",
     "text": [
      "Submitted batch job 1660685\n"
     ]
    },
    {
     "name": "stderr",
     "output_type": "stream",
     "text": [
      "sbatch: Single node jobs run on a shared node by default. Add --exclusive if you want to use a node exclusively.\n",
      "sbatch: You will be charged for 0.03125 node. A full node consists of 32 CPU cores, 229376 MiB of memory and 0 GPUs and can be shared by up to 32 jobs.\n"
     ]
    },
    {
     "name": "stdout",
     "output_type": "stream",
     "text": [
      "Submitted batch job 1660687\n"
     ]
    },
    {
     "name": "stderr",
     "output_type": "stream",
     "text": [
      "sbatch: Single node jobs run on a shared node by default. Add --exclusive if you want to use a node exclusively.\n",
      "sbatch: You will be charged for 0.03125 node. A full node consists of 32 CPU cores, 229376 MiB of memory and 0 GPUs and can be shared by up to 32 jobs.\n"
     ]
    },
    {
     "name": "stdout",
     "output_type": "stream",
     "text": [
      "Submitted batch job 1660689\n"
     ]
    },
    {
     "name": "stderr",
     "output_type": "stream",
     "text": [
      "sbatch: Single node jobs run on a shared node by default. Add --exclusive if you want to use a node exclusively.\n",
      "sbatch: You will be charged for 0.03125 node. A full node consists of 32 CPU cores, 229376 MiB of memory and 0 GPUs and can be shared by up to 32 jobs.\n"
     ]
    },
    {
     "name": "stdout",
     "output_type": "stream",
     "text": [
      "Submitted batch job 1660692\n"
     ]
    },
    {
     "name": "stderr",
     "output_type": "stream",
     "text": [
      "sbatch: Single node jobs run on a shared node by default. Add --exclusive if you want to use a node exclusively.\n",
      "sbatch: You will be charged for 0.03125 node. A full node consists of 32 CPU cores, 229376 MiB of memory and 0 GPUs and can be shared by up to 32 jobs.\n"
     ]
    },
    {
     "name": "stdout",
     "output_type": "stream",
     "text": [
      "Submitted batch job 1660693\n"
     ]
    },
    {
     "name": "stderr",
     "output_type": "stream",
     "text": [
      "sbatch: Single node jobs run on a shared node by default. Add --exclusive if you want to use a node exclusively.\n",
      "sbatch: You will be charged for 0.03125 node. A full node consists of 32 CPU cores, 229376 MiB of memory and 0 GPUs and can be shared by up to 32 jobs.\n"
     ]
    },
    {
     "name": "stdout",
     "output_type": "stream",
     "text": [
      "Submitted batch job 1660695\n"
     ]
    },
    {
     "name": "stderr",
     "output_type": "stream",
     "text": [
      "sbatch: Single node jobs run on a shared node by default. Add --exclusive if you want to use a node exclusively.\n",
      "sbatch: You will be charged for 0.03125 node. A full node consists of 32 CPU cores, 229376 MiB of memory and 0 GPUs and can be shared by up to 32 jobs.\n"
     ]
    },
    {
     "name": "stdout",
     "output_type": "stream",
     "text": [
      "Submitted batch job 1660697\n"
     ]
    },
    {
     "name": "stderr",
     "output_type": "stream",
     "text": [
      "sbatch: Single node jobs run on a shared node by default. Add --exclusive if you want to use a node exclusively.\n",
      "sbatch: You will be charged for 0.03125 node. A full node consists of 32 CPU cores, 229376 MiB of memory and 0 GPUs and can be shared by up to 32 jobs.\n"
     ]
    },
    {
     "name": "stdout",
     "output_type": "stream",
     "text": [
      "Submitted batch job 1660700\n",
      "Submitted batch job 1660702\n"
     ]
    },
    {
     "name": "stderr",
     "output_type": "stream",
     "text": [
      "sbatch: Single node jobs run on a shared node by default. Add --exclusive if you want to use a node exclusively.\n",
      "sbatch: You will be charged for 0.03125 node. A full node consists of 32 CPU cores, 229376 MiB of memory and 0 GPUs and can be shared by up to 32 jobs.\n",
      "sbatch: Single node jobs run on a shared node by default. Add --exclusive if you want to use a node exclusively.\n",
      "sbatch: You will be charged for 0.03125 node. A full node consists of 32 CPU cores, 229376 MiB of memory and 0 GPUs and can be shared by up to 32 jobs.\n"
     ]
    },
    {
     "name": "stdout",
     "output_type": "stream",
     "text": [
      "Submitted batch job 1660704\n"
     ]
    },
    {
     "name": "stderr",
     "output_type": "stream",
     "text": [
      "sbatch: Single node jobs run on a shared node by default. Add --exclusive if you want to use a node exclusively.\n",
      "sbatch: You will be charged for 0.03125 node. A full node consists of 32 CPU cores, 229376 MiB of memory and 0 GPUs and can be shared by up to 32 jobs.\n"
     ]
    },
    {
     "name": "stdout",
     "output_type": "stream",
     "text": [
      "Submitted batch job 1660706\n"
     ]
    },
    {
     "name": "stderr",
     "output_type": "stream",
     "text": [
      "sbatch: Single node jobs run on a shared node by default. Add --exclusive if you want to use a node exclusively.\n",
      "sbatch: You will be charged for 0.03125 node. A full node consists of 32 CPU cores, 229376 MiB of memory and 0 GPUs and can be shared by up to 32 jobs.\n"
     ]
    },
    {
     "name": "stdout",
     "output_type": "stream",
     "text": [
      "Submitted batch job 1660708\n"
     ]
    },
    {
     "name": "stderr",
     "output_type": "stream",
     "text": [
      "sbatch: Single node jobs run on a shared node by default. Add --exclusive if you want to use a node exclusively.\n",
      "sbatch: You will be charged for 0.03125 node. A full node consists of 32 CPU cores, 229376 MiB of memory and 0 GPUs and can be shared by up to 32 jobs.\n"
     ]
    },
    {
     "name": "stdout",
     "output_type": "stream",
     "text": [
      "Submitted batch job 1660709\n"
     ]
    },
    {
     "name": "stderr",
     "output_type": "stream",
     "text": [
      "sbatch: Single node jobs run on a shared node by default. Add --exclusive if you want to use a node exclusively.\n",
      "sbatch: You will be charged for 0.03125 node. A full node consists of 32 CPU cores, 229376 MiB of memory and 0 GPUs and can be shared by up to 32 jobs.\n"
     ]
    },
    {
     "name": "stdout",
     "output_type": "stream",
     "text": [
      "Submitted batch job 1660711\n"
     ]
    },
    {
     "name": "stderr",
     "output_type": "stream",
     "text": [
      "sbatch: Single node jobs run on a shared node by default. Add --exclusive if you want to use a node exclusively.\n",
      "sbatch: You will be charged for 0.03125 node. A full node consists of 32 CPU cores, 229376 MiB of memory and 0 GPUs and can be shared by up to 32 jobs.\n"
     ]
    },
    {
     "name": "stdout",
     "output_type": "stream",
     "text": [
      "Submitted batch job 1660720\n"
     ]
    },
    {
     "name": "stderr",
     "output_type": "stream",
     "text": [
      "sbatch: Single node jobs run on a shared node by default. Add --exclusive if you want to use a node exclusively.\n",
      "sbatch: You will be charged for 0.03125 node. A full node consists of 32 CPU cores, 229376 MiB of memory and 0 GPUs and can be shared by up to 32 jobs.\n"
     ]
    },
    {
     "name": "stdout",
     "output_type": "stream",
     "text": [
      "Submitted batch job 1660722\n"
     ]
    },
    {
     "name": "stderr",
     "output_type": "stream",
     "text": [
      "sbatch: Single node jobs run on a shared node by default. Add --exclusive if you want to use a node exclusively.\n",
      "sbatch: You will be charged for 0.03125 node. A full node consists of 32 CPU cores, 229376 MiB of memory and 0 GPUs and can be shared by up to 32 jobs.\n"
     ]
    },
    {
     "name": "stdout",
     "output_type": "stream",
     "text": [
      "Submitted batch job 1660724\n"
     ]
    },
    {
     "name": "stderr",
     "output_type": "stream",
     "text": [
      "sbatch: Single node jobs run on a shared node by default. Add --exclusive if you want to use a node exclusively.\n",
      "sbatch: You will be charged for 0.03125 node. A full node consists of 32 CPU cores, 229376 MiB of memory and 0 GPUs and can be shared by up to 32 jobs.\n"
     ]
    },
    {
     "name": "stdout",
     "output_type": "stream",
     "text": [
      "Submitted batch job 1660725\n"
     ]
    },
    {
     "name": "stderr",
     "output_type": "stream",
     "text": [
      "sbatch: Single node jobs run on a shared node by default. Add --exclusive if you want to use a node exclusively.\n",
      "sbatch: You will be charged for 0.03125 node. A full node consists of 32 CPU cores, 229376 MiB of memory and 0 GPUs and can be shared by up to 32 jobs.\n"
     ]
    },
    {
     "name": "stdout",
     "output_type": "stream",
     "text": [
      "Submitted batch job 1660727\n"
     ]
    },
    {
     "name": "stderr",
     "output_type": "stream",
     "text": [
      "sbatch: Single node jobs run on a shared node by default. Add --exclusive if you want to use a node exclusively.\n",
      "sbatch: You will be charged for 0.03125 node. A full node consists of 32 CPU cores, 229376 MiB of memory and 0 GPUs and can be shared by up to 32 jobs.\n"
     ]
    },
    {
     "name": "stdout",
     "output_type": "stream",
     "text": [
      "Submitted batch job 1660728\n"
     ]
    },
    {
     "name": "stderr",
     "output_type": "stream",
     "text": [
      "sbatch: Single node jobs run on a shared node by default. Add --exclusive if you want to use a node exclusively.\n",
      "sbatch: You will be charged for 0.03125 node. A full node consists of 32 CPU cores, 229376 MiB of memory and 0 GPUs and can be shared by up to 32 jobs.\n"
     ]
    },
    {
     "name": "stdout",
     "output_type": "stream",
     "text": [
      "Submitted batch job 1660757\n"
     ]
    },
    {
     "name": "stderr",
     "output_type": "stream",
     "text": [
      "sbatch: Single node jobs run on a shared node by default. Add --exclusive if you want to use a node exclusively.\n",
      "sbatch: You will be charged for 0.03125 node. A full node consists of 32 CPU cores, 229376 MiB of memory and 0 GPUs and can be shared by up to 32 jobs.\n"
     ]
    },
    {
     "name": "stdout",
     "output_type": "stream",
     "text": [
      "Submitted batch job 1660759\n"
     ]
    },
    {
     "name": "stderr",
     "output_type": "stream",
     "text": [
      "sbatch: Single node jobs run on a shared node by default. Add --exclusive if you want to use a node exclusively.\n",
      "sbatch: You will be charged for 0.03125 node. A full node consists of 32 CPU cores, 229376 MiB of memory and 0 GPUs and can be shared by up to 32 jobs.\n"
     ]
    },
    {
     "name": "stdout",
     "output_type": "stream",
     "text": [
      "Submitted batch job 1660761\n"
     ]
    },
    {
     "name": "stderr",
     "output_type": "stream",
     "text": [
      "sbatch: Single node jobs run on a shared node by default. Add --exclusive if you want to use a node exclusively.\n",
      "sbatch: You will be charged for 0.03125 node. A full node consists of 32 CPU cores, 229376 MiB of memory and 0 GPUs and can be shared by up to 32 jobs.\n"
     ]
    },
    {
     "name": "stdout",
     "output_type": "stream",
     "text": [
      "Submitted batch job 1660763\n"
     ]
    },
    {
     "name": "stderr",
     "output_type": "stream",
     "text": [
      "sbatch: Single node jobs run on a shared node by default. Add --exclusive if you want to use a node exclusively.\n",
      "sbatch: You will be charged for 0.03125 node. A full node consists of 32 CPU cores, 229376 MiB of memory and 0 GPUs and can be shared by up to 32 jobs.\n"
     ]
    },
    {
     "name": "stdout",
     "output_type": "stream",
     "text": [
      "Submitted batch job 1660765\n"
     ]
    },
    {
     "name": "stderr",
     "output_type": "stream",
     "text": [
      "sbatch: Single node jobs run on a shared node by default. Add --exclusive if you want to use a node exclusively.\n",
      "sbatch: You will be charged for 0.03125 node. A full node consists of 32 CPU cores, 229376 MiB of memory and 0 GPUs and can be shared by up to 32 jobs.\n"
     ]
    },
    {
     "name": "stdout",
     "output_type": "stream",
     "text": [
      "Submitted batch job 1660767\n",
      "Submitted batch job 1660769\n"
     ]
    },
    {
     "name": "stderr",
     "output_type": "stream",
     "text": [
      "sbatch: Single node jobs run on a shared node by default. Add --exclusive if you want to use a node exclusively.\n",
      "sbatch: You will be charged for 0.03125 node. A full node consists of 32 CPU cores, 229376 MiB of memory and 0 GPUs and can be shared by up to 32 jobs.\n",
      "sbatch: Single node jobs run on a shared node by default. Add --exclusive if you want to use a node exclusively.\n",
      "sbatch: You will be charged for 0.03125 node. A full node consists of 32 CPU cores, 229376 MiB of memory and 0 GPUs and can be shared by up to 32 jobs.\n"
     ]
    },
    {
     "name": "stdout",
     "output_type": "stream",
     "text": [
      "Submitted batch job 1660771\n"
     ]
    },
    {
     "name": "stderr",
     "output_type": "stream",
     "text": [
      "sbatch: Single node jobs run on a shared node by default. Add --exclusive if you want to use a node exclusively.\n",
      "sbatch: You will be charged for 0.03125 node. A full node consists of 32 CPU cores, 229376 MiB of memory and 0 GPUs and can be shared by up to 32 jobs.\n"
     ]
    },
    {
     "name": "stdout",
     "output_type": "stream",
     "text": [
      "Submitted batch job 1660773\n"
     ]
    },
    {
     "name": "stderr",
     "output_type": "stream",
     "text": [
      "sbatch: Single node jobs run on a shared node by default. Add --exclusive if you want to use a node exclusively.\n",
      "sbatch: You will be charged for 0.03125 node. A full node consists of 32 CPU cores, 229376 MiB of memory and 0 GPUs and can be shared by up to 32 jobs.\n"
     ]
    },
    {
     "name": "stdout",
     "output_type": "stream",
     "text": [
      "Submitted batch job 1660775\n"
     ]
    },
    {
     "name": "stderr",
     "output_type": "stream",
     "text": [
      "sbatch: Single node jobs run on a shared node by default. Add --exclusive if you want to use a node exclusively.\n",
      "sbatch: You will be charged for 0.03125 node. A full node consists of 32 CPU cores, 229376 MiB of memory and 0 GPUs and can be shared by up to 32 jobs.\n"
     ]
    },
    {
     "name": "stdout",
     "output_type": "stream",
     "text": [
      "Submitted batch job 1660777\n"
     ]
    },
    {
     "name": "stderr",
     "output_type": "stream",
     "text": [
      "sbatch: Single node jobs run on a shared node by default. Add --exclusive if you want to use a node exclusively.\n",
      "sbatch: You will be charged for 0.03125 node. A full node consists of 32 CPU cores, 229376 MiB of memory and 0 GPUs and can be shared by up to 32 jobs.\n"
     ]
    },
    {
     "name": "stdout",
     "output_type": "stream",
     "text": [
      "Submitted batch job 1660779\n"
     ]
    },
    {
     "name": "stderr",
     "output_type": "stream",
     "text": [
      "sbatch: Single node jobs run on a shared node by default. Add --exclusive if you want to use a node exclusively.\n",
      "sbatch: You will be charged for 0.03125 node. A full node consists of 32 CPU cores, 229376 MiB of memory and 0 GPUs and can be shared by up to 32 jobs.\n"
     ]
    },
    {
     "name": "stdout",
     "output_type": "stream",
     "text": [
      "Submitted batch job 1660781\n"
     ]
    },
    {
     "name": "stderr",
     "output_type": "stream",
     "text": [
      "sbatch: Single node jobs run on a shared node by default. Add --exclusive if you want to use a node exclusively.\n",
      "sbatch: You will be charged for 0.03125 node. A full node consists of 32 CPU cores, 229376 MiB of memory and 0 GPUs and can be shared by up to 32 jobs.\n"
     ]
    },
    {
     "name": "stdout",
     "output_type": "stream",
     "text": [
      "Submitted batch job 1660783\n"
     ]
    },
    {
     "name": "stderr",
     "output_type": "stream",
     "text": [
      "sbatch: Single node jobs run on a shared node by default. Add --exclusive if you want to use a node exclusively.\n",
      "sbatch: You will be charged for 0.03125 node. A full node consists of 32 CPU cores, 229376 MiB of memory and 0 GPUs and can be shared by up to 32 jobs.\n"
     ]
    },
    {
     "name": "stdout",
     "output_type": "stream",
     "text": [
      "Submitted batch job 1660785\n"
     ]
    },
    {
     "name": "stderr",
     "output_type": "stream",
     "text": [
      "sbatch: Single node jobs run on a shared node by default. Add --exclusive if you want to use a node exclusively.\n",
      "sbatch: You will be charged for 0.03125 node. A full node consists of 32 CPU cores, 229376 MiB of memory and 0 GPUs and can be shared by up to 32 jobs.\n"
     ]
    },
    {
     "name": "stdout",
     "output_type": "stream",
     "text": [
      "Submitted batch job 1660787\n",
      "Submitted batch job 1660789\n"
     ]
    },
    {
     "name": "stderr",
     "output_type": "stream",
     "text": [
      "sbatch: Single node jobs run on a shared node by default. Add --exclusive if you want to use a node exclusively.\n",
      "sbatch: You will be charged for 0.03125 node. A full node consists of 32 CPU cores, 229376 MiB of memory and 0 GPUs and can be shared by up to 32 jobs.\n",
      "sbatch: Single node jobs run on a shared node by default. Add --exclusive if you want to use a node exclusively.\n",
      "sbatch: You will be charged for 0.03125 node. A full node consists of 32 CPU cores, 229376 MiB of memory and 0 GPUs and can be shared by up to 32 jobs.\n"
     ]
    },
    {
     "name": "stdout",
     "output_type": "stream",
     "text": [
      "Submitted batch job 1660793\n"
     ]
    },
    {
     "name": "stderr",
     "output_type": "stream",
     "text": [
      "sbatch: Single node jobs run on a shared node by default. Add --exclusive if you want to use a node exclusively.\n",
      "sbatch: You will be charged for 0.03125 node. A full node consists of 32 CPU cores, 229376 MiB of memory and 0 GPUs and can be shared by up to 32 jobs.\n"
     ]
    },
    {
     "name": "stdout",
     "output_type": "stream",
     "text": [
      "Submitted batch job 1660795\n"
     ]
    },
    {
     "name": "stderr",
     "output_type": "stream",
     "text": [
      "sbatch: Single node jobs run on a shared node by default. Add --exclusive if you want to use a node exclusively.\n",
      "sbatch: You will be charged for 0.03125 node. A full node consists of 32 CPU cores, 229376 MiB of memory and 0 GPUs and can be shared by up to 32 jobs.\n"
     ]
    },
    {
     "name": "stdout",
     "output_type": "stream",
     "text": [
      "Submitted batch job 1660810\n"
     ]
    },
    {
     "name": "stderr",
     "output_type": "stream",
     "text": [
      "sbatch: Single node jobs run on a shared node by default. Add --exclusive if you want to use a node exclusively.\n",
      "sbatch: You will be charged for 0.03125 node. A full node consists of 32 CPU cores, 229376 MiB of memory and 0 GPUs and can be shared by up to 32 jobs.\n"
     ]
    },
    {
     "name": "stdout",
     "output_type": "stream",
     "text": [
      "Submitted batch job 1660811\n"
     ]
    },
    {
     "name": "stderr",
     "output_type": "stream",
     "text": [
      "sbatch: Single node jobs run on a shared node by default. Add --exclusive if you want to use a node exclusively.\n",
      "sbatch: You will be charged for 0.03125 node. A full node consists of 32 CPU cores, 229376 MiB of memory and 0 GPUs and can be shared by up to 32 jobs.\n"
     ]
    },
    {
     "name": "stdout",
     "output_type": "stream",
     "text": [
      "Submitted batch job 1660813\n"
     ]
    },
    {
     "name": "stderr",
     "output_type": "stream",
     "text": [
      "sbatch: Single node jobs run on a shared node by default. Add --exclusive if you want to use a node exclusively.\n",
      "sbatch: You will be charged for 0.03125 node. A full node consists of 32 CPU cores, 229376 MiB of memory and 0 GPUs and can be shared by up to 32 jobs.\n"
     ]
    },
    {
     "name": "stdout",
     "output_type": "stream",
     "text": [
      "Submitted batch job 1660814\n"
     ]
    },
    {
     "name": "stderr",
     "output_type": "stream",
     "text": [
      "sbatch: Single node jobs run on a shared node by default. Add --exclusive if you want to use a node exclusively.\n",
      "sbatch: You will be charged for 0.03125 node. A full node consists of 32 CPU cores, 229376 MiB of memory and 0 GPUs and can be shared by up to 32 jobs.\n"
     ]
    },
    {
     "name": "stdout",
     "output_type": "stream",
     "text": [
      "Submitted batch job 1660815\n"
     ]
    },
    {
     "name": "stderr",
     "output_type": "stream",
     "text": [
      "sbatch: Single node jobs run on a shared node by default. Add --exclusive if you want to use a node exclusively.\n",
      "sbatch: You will be charged for 0.03125 node. A full node consists of 32 CPU cores, 229376 MiB of memory and 0 GPUs and can be shared by up to 32 jobs.\n"
     ]
    },
    {
     "name": "stdout",
     "output_type": "stream",
     "text": [
      "Submitted batch job 1660831\n"
     ]
    },
    {
     "name": "stderr",
     "output_type": "stream",
     "text": [
      "sbatch: Single node jobs run on a shared node by default. Add --exclusive if you want to use a node exclusively.\n",
      "sbatch: You will be charged for 0.03125 node. A full node consists of 32 CPU cores, 229376 MiB of memory and 0 GPUs and can be shared by up to 32 jobs.\n"
     ]
    },
    {
     "name": "stdout",
     "output_type": "stream",
     "text": [
      "Submitted batch job 1660833\n"
     ]
    },
    {
     "name": "stderr",
     "output_type": "stream",
     "text": [
      "sbatch: Single node jobs run on a shared node by default. Add --exclusive if you want to use a node exclusively.\n",
      "sbatch: You will be charged for 0.03125 node. A full node consists of 32 CPU cores, 229376 MiB of memory and 0 GPUs and can be shared by up to 32 jobs.\n"
     ]
    },
    {
     "name": "stdout",
     "output_type": "stream",
     "text": [
      "Submitted batch job 1660836\n"
     ]
    },
    {
     "name": "stderr",
     "output_type": "stream",
     "text": [
      "sbatch: Single node jobs run on a shared node by default. Add --exclusive if you want to use a node exclusively.\n",
      "sbatch: You will be charged for 0.03125 node. A full node consists of 32 CPU cores, 229376 MiB of memory and 0 GPUs and can be shared by up to 32 jobs.\n"
     ]
    },
    {
     "name": "stdout",
     "output_type": "stream",
     "text": [
      "Submitted batch job 1660838\n"
     ]
    },
    {
     "name": "stderr",
     "output_type": "stream",
     "text": [
      "sbatch: Single node jobs run on a shared node by default. Add --exclusive if you want to use a node exclusively.\n",
      "sbatch: You will be charged for 0.03125 node. A full node consists of 32 CPU cores, 229376 MiB of memory and 0 GPUs and can be shared by up to 32 jobs.\n"
     ]
    },
    {
     "name": "stdout",
     "output_type": "stream",
     "text": [
      "Submitted batch job 1660840\n"
     ]
    },
    {
     "name": "stderr",
     "output_type": "stream",
     "text": [
      "sbatch: Single node jobs run on a shared node by default. Add --exclusive if you want to use a node exclusively.\n",
      "sbatch: You will be charged for 0.03125 node. A full node consists of 32 CPU cores, 229376 MiB of memory and 0 GPUs and can be shared by up to 32 jobs.\n"
     ]
    },
    {
     "name": "stdout",
     "output_type": "stream",
     "text": [
      "Submitted batch job 1660842\n"
     ]
    },
    {
     "name": "stderr",
     "output_type": "stream",
     "text": [
      "sbatch: Single node jobs run on a shared node by default. Add --exclusive if you want to use a node exclusively.\n",
      "sbatch: You will be charged for 0.03125 node. A full node consists of 32 CPU cores, 229376 MiB of memory and 0 GPUs and can be shared by up to 32 jobs.\n"
     ]
    },
    {
     "name": "stdout",
     "output_type": "stream",
     "text": [
      "Submitted batch job 1660844\n"
     ]
    },
    {
     "name": "stderr",
     "output_type": "stream",
     "text": [
      "sbatch: Single node jobs run on a shared node by default. Add --exclusive if you want to use a node exclusively.\n",
      "sbatch: You will be charged for 0.03125 node. A full node consists of 32 CPU cores, 229376 MiB of memory and 0 GPUs and can be shared by up to 32 jobs.\n"
     ]
    },
    {
     "name": "stdout",
     "output_type": "stream",
     "text": [
      "Submitted batch job 1660846\n"
     ]
    },
    {
     "name": "stderr",
     "output_type": "stream",
     "text": [
      "sbatch: Single node jobs run on a shared node by default. Add --exclusive if you want to use a node exclusively.\n",
      "sbatch: You will be charged for 0.03125 node. A full node consists of 32 CPU cores, 229376 MiB of memory and 0 GPUs and can be shared by up to 32 jobs.\n"
     ]
    },
    {
     "name": "stdout",
     "output_type": "stream",
     "text": [
      "Submitted batch job 1660848\n"
     ]
    },
    {
     "name": "stderr",
     "output_type": "stream",
     "text": [
      "sbatch: Single node jobs run on a shared node by default. Add --exclusive if you want to use a node exclusively.\n",
      "sbatch: You will be charged for 0.03125 node. A full node consists of 32 CPU cores, 229376 MiB of memory and 0 GPUs and can be shared by up to 32 jobs.\n"
     ]
    },
    {
     "name": "stdout",
     "output_type": "stream",
     "text": [
      "Submitted batch job 1660850\n"
     ]
    },
    {
     "name": "stderr",
     "output_type": "stream",
     "text": [
      "sbatch: Single node jobs run on a shared node by default. Add --exclusive if you want to use a node exclusively.\n",
      "sbatch: You will be charged for 0.03125 node. A full node consists of 32 CPU cores, 229376 MiB of memory and 0 GPUs and can be shared by up to 32 jobs.\n"
     ]
    },
    {
     "name": "stdout",
     "output_type": "stream",
     "text": [
      "Submitted batch job 1660852\n",
      "Submitted batch job 1660854\n"
     ]
    },
    {
     "name": "stderr",
     "output_type": "stream",
     "text": [
      "sbatch: Single node jobs run on a shared node by default. Add --exclusive if you want to use a node exclusively.\n",
      "sbatch: You will be charged for 0.03125 node. A full node consists of 32 CPU cores, 229376 MiB of memory and 0 GPUs and can be shared by up to 32 jobs.\n",
      "sbatch: Single node jobs run on a shared node by default. Add --exclusive if you want to use a node exclusively.\n",
      "sbatch: You will be charged for 0.03125 node. A full node consists of 32 CPU cores, 229376 MiB of memory and 0 GPUs and can be shared by up to 32 jobs.\n"
     ]
    },
    {
     "name": "stdout",
     "output_type": "stream",
     "text": [
      "Submitted batch job 1660856\n"
     ]
    },
    {
     "name": "stderr",
     "output_type": "stream",
     "text": [
      "sbatch: Single node jobs run on a shared node by default. Add --exclusive if you want to use a node exclusively.\n",
      "sbatch: You will be charged for 0.03125 node. A full node consists of 32 CPU cores, 229376 MiB of memory and 0 GPUs and can be shared by up to 32 jobs.\n"
     ]
    },
    {
     "name": "stdout",
     "output_type": "stream",
     "text": [
      "Submitted batch job 1660858\n"
     ]
    },
    {
     "name": "stderr",
     "output_type": "stream",
     "text": [
      "sbatch: Single node jobs run on a shared node by default. Add --exclusive if you want to use a node exclusively.\n",
      "sbatch: You will be charged for 0.03125 node. A full node consists of 32 CPU cores, 229376 MiB of memory and 0 GPUs and can be shared by up to 32 jobs.\n"
     ]
    },
    {
     "name": "stdout",
     "output_type": "stream",
     "text": [
      "Submitted batch job 1660860\n"
     ]
    },
    {
     "name": "stderr",
     "output_type": "stream",
     "text": [
      "sbatch: Single node jobs run on a shared node by default. Add --exclusive if you want to use a node exclusively.\n",
      "sbatch: You will be charged for 0.03125 node. A full node consists of 32 CPU cores, 229376 MiB of memory and 0 GPUs and can be shared by up to 32 jobs.\n"
     ]
    },
    {
     "name": "stdout",
     "output_type": "stream",
     "text": [
      "Submitted batch job 1660862\n"
     ]
    },
    {
     "name": "stderr",
     "output_type": "stream",
     "text": [
      "sbatch: Single node jobs run on a shared node by default. Add --exclusive if you want to use a node exclusively.\n",
      "sbatch: You will be charged for 0.03125 node. A full node consists of 32 CPU cores, 229376 MiB of memory and 0 GPUs and can be shared by up to 32 jobs.\n"
     ]
    },
    {
     "name": "stdout",
     "output_type": "stream",
     "text": [
      "Submitted batch job 1660864\n"
     ]
    },
    {
     "name": "stderr",
     "output_type": "stream",
     "text": [
      "sbatch: Single node jobs run on a shared node by default. Add --exclusive if you want to use a node exclusively.\n",
      "sbatch: You will be charged for 0.03125 node. A full node consists of 32 CPU cores, 229376 MiB of memory and 0 GPUs and can be shared by up to 32 jobs.\n"
     ]
    },
    {
     "name": "stdout",
     "output_type": "stream",
     "text": [
      "Submitted batch job 1660866\n"
     ]
    },
    {
     "name": "stderr",
     "output_type": "stream",
     "text": [
      "sbatch: Single node jobs run on a shared node by default. Add --exclusive if you want to use a node exclusively.\n",
      "sbatch: You will be charged for 0.03125 node. A full node consists of 32 CPU cores, 229376 MiB of memory and 0 GPUs and can be shared by up to 32 jobs.\n"
     ]
    },
    {
     "name": "stdout",
     "output_type": "stream",
     "text": [
      "Submitted batch job 1660868\n"
     ]
    },
    {
     "name": "stderr",
     "output_type": "stream",
     "text": [
      "sbatch: Single node jobs run on a shared node by default. Add --exclusive if you want to use a node exclusively.\n",
      "sbatch: You will be charged for 0.03125 node. A full node consists of 32 CPU cores, 229376 MiB of memory and 0 GPUs and can be shared by up to 32 jobs.\n"
     ]
    },
    {
     "name": "stdout",
     "output_type": "stream",
     "text": [
      "Submitted batch job 1660870\n"
     ]
    },
    {
     "name": "stderr",
     "output_type": "stream",
     "text": [
      "sbatch: Single node jobs run on a shared node by default. Add --exclusive if you want to use a node exclusively.\n",
      "sbatch: You will be charged for 0.03125 node. A full node consists of 32 CPU cores, 229376 MiB of memory and 0 GPUs and can be shared by up to 32 jobs.\n"
     ]
    },
    {
     "name": "stdout",
     "output_type": "stream",
     "text": [
      "Submitted batch job 1660907\n"
     ]
    },
    {
     "name": "stderr",
     "output_type": "stream",
     "text": [
      "sbatch: Single node jobs run on a shared node by default. Add --exclusive if you want to use a node exclusively.\n",
      "sbatch: You will be charged for 0.03125 node. A full node consists of 32 CPU cores, 229376 MiB of memory and 0 GPUs and can be shared by up to 32 jobs.\n"
     ]
    },
    {
     "name": "stdout",
     "output_type": "stream",
     "text": [
      "Submitted batch job 1660913\n"
     ]
    },
    {
     "name": "stderr",
     "output_type": "stream",
     "text": [
      "sbatch: Single node jobs run on a shared node by default. Add --exclusive if you want to use a node exclusively.\n",
      "sbatch: You will be charged for 0.03125 node. A full node consists of 32 CPU cores, 229376 MiB of memory and 0 GPUs and can be shared by up to 32 jobs.\n"
     ]
    },
    {
     "name": "stdout",
     "output_type": "stream",
     "text": [
      "Submitted batch job 1660915\n"
     ]
    },
    {
     "name": "stderr",
     "output_type": "stream",
     "text": [
      "sbatch: Single node jobs run on a shared node by default. Add --exclusive if you want to use a node exclusively.\n",
      "sbatch: You will be charged for 0.03125 node. A full node consists of 32 CPU cores, 229376 MiB of memory and 0 GPUs and can be shared by up to 32 jobs.\n"
     ]
    },
    {
     "name": "stdout",
     "output_type": "stream",
     "text": [
      "Submitted batch job 1660916\n"
     ]
    },
    {
     "name": "stderr",
     "output_type": "stream",
     "text": [
      "sbatch: Single node jobs run on a shared node by default. Add --exclusive if you want to use a node exclusively.\n",
      "sbatch: You will be charged for 0.03125 node. A full node consists of 32 CPU cores, 229376 MiB of memory and 0 GPUs and can be shared by up to 32 jobs.\n"
     ]
    },
    {
     "name": "stdout",
     "output_type": "stream",
     "text": [
      "Submitted batch job 1660918\n"
     ]
    },
    {
     "name": "stderr",
     "output_type": "stream",
     "text": [
      "sbatch: Single node jobs run on a shared node by default. Add --exclusive if you want to use a node exclusively.\n",
      "sbatch: You will be charged for 0.03125 node. A full node consists of 32 CPU cores, 229376 MiB of memory and 0 GPUs and can be shared by up to 32 jobs.\n"
     ]
    },
    {
     "name": "stdout",
     "output_type": "stream",
     "text": [
      "Submitted batch job 1660920\n"
     ]
    },
    {
     "name": "stderr",
     "output_type": "stream",
     "text": [
      "sbatch: Single node jobs run on a shared node by default. Add --exclusive if you want to use a node exclusively.\n",
      "sbatch: You will be charged for 0.03125 node. A full node consists of 32 CPU cores, 229376 MiB of memory and 0 GPUs and can be shared by up to 32 jobs.\n"
     ]
    },
    {
     "name": "stdout",
     "output_type": "stream",
     "text": [
      "Submitted batch job 1660922\n"
     ]
    },
    {
     "name": "stderr",
     "output_type": "stream",
     "text": [
      "sbatch: Single node jobs run on a shared node by default. Add --exclusive if you want to use a node exclusively.\n",
      "sbatch: You will be charged for 0.03125 node. A full node consists of 32 CPU cores, 229376 MiB of memory and 0 GPUs and can be shared by up to 32 jobs.\n"
     ]
    },
    {
     "name": "stdout",
     "output_type": "stream",
     "text": [
      "Submitted batch job 1660924\n"
     ]
    }
   ],
   "source": [
    "run_parallel_transfer(\n",
    "    \"from_drop.py\",\n",
    "    [directory_targ],\n",
    "    folders_drop,\n",
    "    1,\n",
    "    \"30:00\",\n",
    "    \"staging\",\n",
    "    cpus=1,\n",
    "    node=\"staging\",\n",
    "    # name_job=name_job,\n",
    ")"
   ]
  },
  {
   "cell_type": "code",
   "execution_count": 30,
   "id": "c0b1bc04-2b4a-4097-a1ba-b35d13b01014",
   "metadata": {},
   "outputs": [
    {
     "data": {
      "text/plain": [
       "219"
      ]
     },
     "execution_count": 30,
     "metadata": {},
     "output_type": "execute_result"
    }
   ],
   "source": [
    "len(folders_drop)"
   ]
  },
  {
   "cell_type": "code",
   "execution_count": 28,
   "id": "06f50708-4fe8-4c2b-beb6-e7722350d3a9",
   "metadata": {},
   "outputs": [],
   "source": [
    "from amftrack.pipeline.launching.run_super import get_queue_size"
   ]
  },
  {
   "cell_type": "code",
   "execution_count": 29,
   "id": "fdaccd68-609b-45ab-a5eb-ae399c865e33",
   "metadata": {},
   "outputs": [
    {
     "data": {
      "text/plain": [
       "77"
      ]
     },
     "execution_count": 29,
     "metadata": {},
     "output_type": "execute_result"
    }
   ],
   "source": [
    "get_queue_size()"
   ]
  },
  {
   "cell_type": "code",
   "execution_count": 5,
   "id": "b5bcdcb8-4fe9-498e-9189-348c7ce48a41",
   "metadata": {
    "tags": []
   },
   "outputs": [
    {
     "data": {
      "text/html": [
       "<div>\n",
       "<style scoped>\n",
       "    .dataframe tbody tr th:only-of-type {\n",
       "        vertical-align: middle;\n",
       "    }\n",
       "\n",
       "    .dataframe tbody tr th {\n",
       "        vertical-align: top;\n",
       "    }\n",
       "\n",
       "    .dataframe thead th {\n",
       "        text-align: right;\n",
       "    }\n",
       "</style>\n",
       "<table border=\"1\" class=\"dataframe\">\n",
       "  <thead>\n",
       "    <tr style=\"text-align: right;\">\n",
       "      <th></th>\n",
       "      <th>folder</th>\n",
       "      <th>size</th>\n",
       "      <th>change_date</th>\n",
       "      <th>tot_path_drop</th>\n",
       "      <th>Plate</th>\n",
       "      <th>CrossDate</th>\n",
       "      <th>unique_id</th>\n",
       "    </tr>\n",
       "  </thead>\n",
       "  <tbody>\n",
       "    <tr>\n",
       "      <th>351</th>\n",
       "      <td>Analysis_52_20220707_200_Version1</td>\n",
       "      <td>NaN</td>\n",
       "      <td>2022-09-24 03:39:20</td>\n",
       "      <td>data/prince/52_20220707/analysis_52_20220707_2...</td>\n",
       "      <td>52</td>\n",
       "      <td>20220707</td>\n",
       "      <td>52_20220707</td>\n",
       "    </tr>\n",
       "  </tbody>\n",
       "</table>\n",
       "</div>"
      ],
      "text/plain": [
       "                                folder size         change_date  \\\n",
       "351  Analysis_52_20220707_200_Version1  NaN 2022-09-24 03:39:20   \n",
       "\n",
       "                                         tot_path_drop Plate CrossDate  \\\n",
       "351  data/prince/52_20220707/analysis_52_20220707_2...    52  20220707   \n",
       "\n",
       "       unique_id  \n",
       "351  52_20220707  "
      ]
     },
     "execution_count": 5,
     "metadata": {},
     "output_type": "execute_result"
    }
   ],
   "source": [
    "analysis_fold = all_folders_drop.loc[\n",
    "    all_folders_drop[\"folder\"].str.contains(\"Analysis\")\n",
    "]\n",
    "analysis_fold.loc[analysis_fold[\"Plate\"] == \"52\"]"
   ]
  },
  {
   "cell_type": "code",
   "execution_count": 6,
   "id": "540a1a0b-bcec-44fc-83c4-77d94991cb4d",
   "metadata": {},
   "outputs": [
    {
     "ename": "NameError",
     "evalue": "name 'analysis_fold' is not defined",
     "output_type": "error",
     "traceback": [
      "\u001b[0;31m---------------------------------------------------------------------------\u001b[0m",
      "\u001b[0;31mNameError\u001b[0m                                 Traceback (most recent call last)",
      "\u001b[0;32m/scratch-local/cbisot/ipykernel_1999890/3856799346.py\u001b[0m in \u001b[0;36m<module>\u001b[0;34m\u001b[0m\n\u001b[0;32m----> 1\u001b[0;31m \u001b[0mfolders_drop\u001b[0m \u001b[0;34m=\u001b[0m \u001b[0manalysis_fold\u001b[0m\u001b[0;34m.\u001b[0m\u001b[0mloc\u001b[0m\u001b[0;34m[\u001b[0m\u001b[0manalysis_fold\u001b[0m\u001b[0;34m[\u001b[0m\u001b[0;34m\"Plate\"\u001b[0m\u001b[0;34m]\u001b[0m \u001b[0;34m==\u001b[0m \u001b[0;34m\"52\"\u001b[0m\u001b[0;34m]\u001b[0m\u001b[0;34m\u001b[0m\u001b[0;34m\u001b[0m\u001b[0m\n\u001b[0m\u001b[1;32m      2\u001b[0m run_parallel_transfer(\n\u001b[1;32m      3\u001b[0m     \u001b[0;34m\"from_drop.py\"\u001b[0m\u001b[0;34m,\u001b[0m\u001b[0;34m\u001b[0m\u001b[0;34m\u001b[0m\u001b[0m\n\u001b[1;32m      4\u001b[0m     \u001b[0;34m[\u001b[0m\u001b[0mdirectory_targ\u001b[0m\u001b[0;34m]\u001b[0m\u001b[0;34m,\u001b[0m\u001b[0;34m\u001b[0m\u001b[0;34m\u001b[0m\u001b[0m\n\u001b[1;32m      5\u001b[0m     \u001b[0mfolders_drop\u001b[0m\u001b[0;34m,\u001b[0m\u001b[0;34m\u001b[0m\u001b[0;34m\u001b[0m\u001b[0m\n",
      "\u001b[0;31mNameError\u001b[0m: name 'analysis_fold' is not defined"
     ]
    }
   ],
   "source": [
    "folders_drop = analysis_fold.loc[analysis_fold[\"Plate\"] == \"52\"]\n",
    "run_parallel_transfer(\n",
    "    \"from_drop.py\",\n",
    "    [directory_targ],\n",
    "    folders_drop,\n",
    "    1,\n",
    "    \"30:00\",\n",
    "    \"staging\",\n",
    "    cpus=1,\n",
    "    node=\"staging\",\n",
    "    # name_job=name_job,\n",
    ")"
   ]
  },
  {
   "cell_type": "code",
   "execution_count": 56,
   "id": "1d250db2-39e5-41e6-8373-06e26850686f",
   "metadata": {},
   "outputs": [],
   "source": [
    "on_dropbox = all_folders_drop.loc[all_folders_drop[\"unique_id\"].isin(plates)]"
   ]
  },
  {
   "cell_type": "code",
   "execution_count": 8,
   "id": "8d48ac5a-3d28-4dba-9f96-09fa903c2625",
   "metadata": {
    "tags": []
   },
   "outputs": [
    {
     "data": {
      "text/plain": [
       "1771"
      ]
     },
     "execution_count": 8,
     "metadata": {},
     "output_type": "execute_result"
    }
   ],
   "source": [
    "on_dropbox = all_folders_drop.loc[all_folders_drop[\"unique_id\"].isin(plates[5:])]\n",
    "len(on_dropbox)"
   ]
  },
  {
   "cell_type": "code",
   "execution_count": 28,
   "id": "a41d5ed3-e77d-487d-be97-7a780b6df7de",
   "metadata": {
    "tags": []
   },
   "outputs": [],
   "source": [
    "# plates= ['94_20201123','102_20201226','76_20210108','152_20201224','792_20210915']\n",
    "# plates= ['52_20220707','56_20220701','839_20220325','938_20220325','1076_20220511']\n",
    "plates = [\n",
    "    \"52_20220707\",\n",
    "    \"56_20220701\",\n",
    "    \"81_20220704\",\n",
    "    \"89_20220705\",\n",
    "    \"91_20220708\",\n",
    "    \"839_20220325\",\n",
    "    \"1076_20220511\",\n",
    "]  # full run done!\n",
    "# plates = [] #full run\n",
    "# plates = ['52_20220707','84_20220621','1048_20220506','1045_20220504']\n",
    "plates = [\n",
    "    # \"20_20220419\",\n",
    "    # \"23_20220509\",\n",
    "    # \"24_20220426\",\n",
    "    \"30_20220509\",\n",
    "    \"32_20220428\",\n",
    "    \"33_20220502\",\n",
    "]  # analysis AGG\n",
    "# plates = [\"20_20220419\", \"23_20220509\", \"24_20220426\"]  # analysis AGG\n",
    "\n",
    "# plates = ['111111_20600101']\n",
    "# plates = [\"56_20220701\",\"839_20220325\",'938_20220325','1076_20220511'] #analysis A5\n",
    "# plates = [\"81_20220704\",\"84_20220621\",\"89_20220705\",\"91_20220708\"] #analysis A5sp3\n",
    "# plates = [\"127_20220705\",\"129_20220711\",\"130_20220707\",\"1014_20220525\",\"1023_20220502\"] #analysis C2\n",
    "# plates = [\"1035_20220518\",\"1037_20220523\",\"1042_20220523\",\"1053_20220413\"] #analysis C2\n",
    "# plates = ['94_20201123','152_20201224','792_20210915']\n",
    "# plates = ['799_20211001','800_20210928','91_20201217']\n",
    "# plates = [\"1044_20220509\"]\n",
    "# plates = [\"1048_20220506\", \"1045_20220504\", \"52_20220707\", \"84_20220621\"]\n"
   ]
  },
  {
   "cell_type": "code",
   "execution_count": 6,
   "id": "15d334d3-a851-4bca-a39e-24088f500a0c",
   "metadata": {
    "tags": []
   },
   "outputs": [],
   "source": [
    "plates = \"19_20220525,20_20220419,22_20220522,23_20220509,24_20220426,27_20220508,28_20220603,30_20220509,31_20220428,32_20220428,33_20220502\"\n",
    "plates = plates.split(\",\")"
   ]
  },
  {
   "cell_type": "code",
   "execution_count": 35,
   "id": "9fde3c7c-8322-456c-a65a-416e08f3a352",
   "metadata": {},
   "outputs": [],
   "source": [
    "# On project\n",
    "plates = \"127_20220705,128_20220718,129_20220711,130_20220707,1014_20220525,1015_20220504,1023_20220502,1027_20220607,1028_20220523,1037_20220523,\"\n",
    "plates = plates.split(\",\")"
   ]
  },
  {
   "cell_type": "code",
   "execution_count": 50,
   "id": "92c6d223-19ab-45fc-b42d-b82be14a1221",
   "metadata": {
    "collapsed": true,
    "jupyter": {
     "outputs_hidden": true
    },
    "tags": []
   },
   "outputs": [
    {
     "data": {
      "text/plain": [
       "0        20200629\n",
       "1        20200629\n",
       "2        20200629\n",
       "3        20200629\n",
       "4        20200629\n",
       "           ...   \n",
       "41264    20201123\n",
       "41265    20201123\n",
       "41266    20201123\n",
       "41267    20201123\n",
       "41268    20201123\n",
       "Name: 0, Length: 41269, dtype: object"
      ]
     },
     "execution_count": 50,
     "metadata": {},
     "output_type": "execute_result"
    }
   ],
   "source": [
    "all_folders_drop[\"folder\"].str.split(\"_\", expand=True)[0]"
   ]
  },
  {
   "cell_type": "code",
   "execution_count": 40,
   "id": "5408aeaf-f13c-4da6-88e9-cb34d307574f",
   "metadata": {},
   "outputs": [],
   "source": [
    "select_plates = [\n",
    "    plate\n",
    "    for plate in all_folders_drop[\"unique_id\"].unique()\n",
    "    if plate.split(\"_\")[1] == \"20220623\"\n",
    "]"
   ]
  },
  {
   "cell_type": "code",
   "execution_count": 52,
   "id": "6bb4e977-e1c8-4bb0-b88b-12ef74766f27",
   "metadata": {
    "jupyter": {
     "source_hidden": true
    },
    "tags": []
   },
   "outputs": [],
   "source": [
    "folders_drop = all_folders_drop.loc[\n",
    "    all_folders_drop[\"unique_id\"].isin(select_plates)\n",
    "].loc[all_folders_drop[\"folder\"].str.split(\"_\", expand=True)[0] == \"20220809\"]"
   ]
  },
  {
   "cell_type": "code",
   "execution_count": 29,
   "id": "50c944da-ef14-4242-b6ac-48aea758abbb",
   "metadata": {},
   "outputs": [
    {
     "data": {
      "text/plain": [
       "'/projects/0/einf914/data/'"
      ]
     },
     "execution_count": 29,
     "metadata": {},
     "output_type": "execute_result"
    }
   ],
   "source": [
    "directory_targ = directory_project\n",
    "directory_project"
   ]
  },
  {
   "cell_type": "code",
   "execution_count": 36,
   "id": "79fdc066-12e4-4708-a4f7-9d681e55ee14",
   "metadata": {},
   "outputs": [],
   "source": [
    "directory_targ = os.path.join(directory_scratch, \"stitch_temp2\") + \"/\""
   ]
  },
  {
   "cell_type": "code",
   "execution_count": 4,
   "id": "75fd7145-988e-4391-8e18-83c016f22843",
   "metadata": {
    "tags": []
   },
   "outputs": [
    {
     "name": "stdout",
     "output_type": "stream",
     "text": [
      "Submitted batch job 1650508\n"
     ]
    },
    {
     "name": "stderr",
     "output_type": "stream",
     "text": [
      "sbatch: Single node jobs run on a shared node by default. Add --exclusive if you want to use a node exclusively.\n",
      "sbatch: You will be charged for 0.03125 node. A full node consists of 32 CPU cores, 229376 MiB of memory and 0 GPUs and can be shared by up to 32 jobs.\n"
     ]
    }
   ],
   "source": [
    "name_job = f\"one_shot_{time_ns()}.sh\"\n",
    "run_launcher(\n",
    "    \"dropbox_downloader.py\",\n",
    "    [directory_targ, name_job, -1, \"stitcher.py\"],\n",
    "    plates,\n",
    "    \"12:00:00\",\n",
    "    name_job=name_job,\n",
    ")\n",
    "# run_launcher('dropbox_uploader.py',[directory_targ,name_job],plates,'40:00',dependency=True,name_job = name_job)"
   ]
  },
  {
   "cell_type": "code",
   "execution_count": 4,
   "id": "768434c1-57f6-4b23-82a9-af934b0f9d7e",
   "metadata": {
    "collapsed": true,
    "jupyter": {
     "outputs_hidden": true,
     "source_hidden": true
    },
    "tags": []
   },
   "outputs": [
    {
     "name": "stdout",
     "output_type": "stream",
     "text": [
      "Submitted batch job 1582962\n"
     ]
    },
    {
     "name": "stderr",
     "output_type": "stream",
     "text": [
      "sbatch: Single node jobs run on a shared node by default. Add --exclusive if you want to use a node exclusively.\n",
      "sbatch: You will be charged for 0.03125 node. A full node consists of 32 CPU cores, 229376 MiB of memory and 0 GPUs and can be shared by up to 32 jobs.\n"
     ]
    }
   ],
   "source": [
    "name_job = f\"one_shot_{time_ns()}.sh\"\n",
    "run_launcher(\n",
    "    \"dropbox_uploader.py\",\n",
    "    [directory_targ, name_job],\n",
    "    plates,\n",
    "    \"12:00:00\",\n",
    "    name_job=name_job,\n",
    ")"
   ]
  },
  {
   "cell_type": "code",
   "execution_count": 6,
   "id": "d7617c84-087e-45c1-80e3-99559e53f784",
   "metadata": {},
   "outputs": [
    {
     "name": "stdout",
     "output_type": "stream",
     "text": [
      "Submitted batch job 1657310\n"
     ]
    },
    {
     "name": "stderr",
     "output_type": "stream",
     "text": [
      "sbatch: Single node jobs run on a shared node by default. Add --exclusive if you want to use a node exclusively.\n",
      "sbatch: You will be charged for 0.03125 node. A full node consists of 32 CPU cores, 229376 MiB of memory and 0 GPUs and can be shared by up to 32 jobs.\n"
     ]
    }
   ],
   "source": [
    "name_job = f\"one_shot_{time_ns()}.sh\"\n",
    "run_launcher(\n",
    "    \"dropbox_downloader.py\",\n",
    "    [directory_targ, name_job, 20, \"spore_extracter.py\"],\n",
    "    plates,\n",
    "    \"12:00:00\",\n",
    "    name_job=name_job,\n",
    ")"
   ]
  },
  {
   "cell_type": "code",
   "execution_count": 61,
   "id": "bd978f07-a8be-4351-8043-a7ba7a959033",
   "metadata": {
    "collapsed": true,
    "jupyter": {
     "outputs_hidden": true
    },
    "tags": []
   },
   "outputs": [
    {
     "data": {
      "text/html": [
       "<div>\n",
       "<style scoped>\n",
       "    .dataframe tbody tr th:only-of-type {\n",
       "        vertical-align: middle;\n",
       "    }\n",
       "\n",
       "    .dataframe tbody tr th {\n",
       "        vertical-align: top;\n",
       "    }\n",
       "\n",
       "    .dataframe thead th {\n",
       "        text-align: right;\n",
       "    }\n",
       "</style>\n",
       "<table border=\"1\" class=\"dataframe\">\n",
       "  <thead>\n",
       "    <tr style=\"text-align: right;\">\n",
       "      <th></th>\n",
       "      <th>total_path</th>\n",
       "      <th>Plate</th>\n",
       "      <th>PrincePos</th>\n",
       "      <th>root</th>\n",
       "      <th>strain</th>\n",
       "      <th>medium</th>\n",
       "      <th>split</th>\n",
       "      <th>Pbait</th>\n",
       "      <th>CrossDate</th>\n",
       "      <th>Temperature</th>\n",
       "      <th>...</th>\n",
       "      <th>/Analysis/transform.mat</th>\n",
       "      <th>/Analysis/transform_corrupt.mat</th>\n",
       "      <th>/Analysis/skeleton_realigned_compressed.mat</th>\n",
       "      <th>/Analysis/nx_graph_pruned.p</th>\n",
       "      <th>/Analysis/nx_graph_pruned_width.p</th>\n",
       "      <th>/Analysis/nx_graph_pruned_labeled.p</th>\n",
       "      <th>date</th>\n",
       "      <th>folder</th>\n",
       "      <th>unique_id</th>\n",
       "      <th>datetime</th>\n",
       "    </tr>\n",
       "  </thead>\n",
       "  <tbody>\n",
       "    <tr>\n",
       "      <th>10</th>\n",
       "      <td>/projects/0/einf914/data/20220601_1143_Plate12</td>\n",
       "      <td>30</td>\n",
       "      <td>12</td>\n",
       "      <td>'Carrot'</td>\n",
       "      <td>'Agg'</td>\n",
       "      <td>'001P100N200C'</td>\n",
       "      <td>'Y'</td>\n",
       "      <td>'-'</td>\n",
       "      <td>20220509</td>\n",
       "      <td>25</td>\n",
       "      <td>...</td>\n",
       "      <td>False</td>\n",
       "      <td>False</td>\n",
       "      <td>False</td>\n",
       "      <td>False</td>\n",
       "      <td>False</td>\n",
       "      <td>False</td>\n",
       "      <td>01.06.2022, 11:43:</td>\n",
       "      <td>20220601_1143_Plate12</td>\n",
       "      <td>30_20220509</td>\n",
       "      <td>2022-06-01 11:43:00</td>\n",
       "    </tr>\n",
       "    <tr>\n",
       "      <th>23</th>\n",
       "      <td>/projects/0/einf914/data/20220618_0150_Plate11</td>\n",
       "      <td>23</td>\n",
       "      <td>11</td>\n",
       "      <td>'Carrot'</td>\n",
       "      <td>'Agg'</td>\n",
       "      <td>'001P100N200C'</td>\n",
       "      <td>'Y'</td>\n",
       "      <td>'-'</td>\n",
       "      <td>20220509</td>\n",
       "      <td>25</td>\n",
       "      <td>...</td>\n",
       "      <td>False</td>\n",
       "      <td>False</td>\n",
       "      <td>False</td>\n",
       "      <td>False</td>\n",
       "      <td>False</td>\n",
       "      <td>False</td>\n",
       "      <td>18.06.2022, 01:50:</td>\n",
       "      <td>20220618_0150_Plate11</td>\n",
       "      <td>23_20220509</td>\n",
       "      <td>2022-06-18 01:50:00</td>\n",
       "    </tr>\n",
       "    <tr>\n",
       "      <th>24</th>\n",
       "      <td>/projects/0/einf914/data/20220528_1900_Plate12</td>\n",
       "      <td>30</td>\n",
       "      <td>12</td>\n",
       "      <td>'Carrot'</td>\n",
       "      <td>'Agg'</td>\n",
       "      <td>'001P100N200C'</td>\n",
       "      <td>'Y'</td>\n",
       "      <td>'-'</td>\n",
       "      <td>20220509</td>\n",
       "      <td>25</td>\n",
       "      <td>...</td>\n",
       "      <td>False</td>\n",
       "      <td>False</td>\n",
       "      <td>False</td>\n",
       "      <td>False</td>\n",
       "      <td>False</td>\n",
       "      <td>False</td>\n",
       "      <td>28.05.2022, 19:00:</td>\n",
       "      <td>20220528_1900_Plate12</td>\n",
       "      <td>30_20220509</td>\n",
       "      <td>2022-05-28 19:00:00</td>\n",
       "    </tr>\n",
       "    <tr>\n",
       "      <th>25</th>\n",
       "      <td>/projects/0/einf914/data/20220619_0156_Plate11</td>\n",
       "      <td>23</td>\n",
       "      <td>11</td>\n",
       "      <td>'Carrot'</td>\n",
       "      <td>'Agg'</td>\n",
       "      <td>'001P100N200C'</td>\n",
       "      <td>'Y'</td>\n",
       "      <td>'-'</td>\n",
       "      <td>20220509</td>\n",
       "      <td>25</td>\n",
       "      <td>...</td>\n",
       "      <td>False</td>\n",
       "      <td>False</td>\n",
       "      <td>False</td>\n",
       "      <td>False</td>\n",
       "      <td>False</td>\n",
       "      <td>False</td>\n",
       "      <td>19.06.2022, 01:56:</td>\n",
       "      <td>20220619_0156_Plate11</td>\n",
       "      <td>23_20220509</td>\n",
       "      <td>2022-06-19 01:56:00</td>\n",
       "    </tr>\n",
       "    <tr>\n",
       "      <th>29</th>\n",
       "      <td>/projects/0/einf914/data/20220613_0147_Plate12</td>\n",
       "      <td>30</td>\n",
       "      <td>12</td>\n",
       "      <td>'Carrot'</td>\n",
       "      <td>'Agg'</td>\n",
       "      <td>'001P100N200C'</td>\n",
       "      <td>'Y'</td>\n",
       "      <td>'-'</td>\n",
       "      <td>20220509</td>\n",
       "      <td>25</td>\n",
       "      <td>...</td>\n",
       "      <td>False</td>\n",
       "      <td>False</td>\n",
       "      <td>False</td>\n",
       "      <td>False</td>\n",
       "      <td>False</td>\n",
       "      <td>False</td>\n",
       "      <td>13.06.2022, 01:47:</td>\n",
       "      <td>20220613_0147_Plate12</td>\n",
       "      <td>30_20220509</td>\n",
       "      <td>2022-06-13 01:47:00</td>\n",
       "    </tr>\n",
       "    <tr>\n",
       "      <th>...</th>\n",
       "      <td>...</td>\n",
       "      <td>...</td>\n",
       "      <td>...</td>\n",
       "      <td>...</td>\n",
       "      <td>...</td>\n",
       "      <td>...</td>\n",
       "      <td>...</td>\n",
       "      <td>...</td>\n",
       "      <td>...</td>\n",
       "      <td>...</td>\n",
       "      <td>...</td>\n",
       "      <td>...</td>\n",
       "      <td>...</td>\n",
       "      <td>...</td>\n",
       "      <td>...</td>\n",
       "      <td>...</td>\n",
       "      <td>...</td>\n",
       "      <td>...</td>\n",
       "      <td>...</td>\n",
       "      <td>...</td>\n",
       "      <td>...</td>\n",
       "    </tr>\n",
       "    <tr>\n",
       "      <th>4882</th>\n",
       "      <td>/projects/0/einf914/data/20220529_0302_Plate12</td>\n",
       "      <td>30</td>\n",
       "      <td>12</td>\n",
       "      <td>'Carrot'</td>\n",
       "      <td>'Agg'</td>\n",
       "      <td>'001P100N200C'</td>\n",
       "      <td>'Y'</td>\n",
       "      <td>'-'</td>\n",
       "      <td>20220509</td>\n",
       "      <td>25</td>\n",
       "      <td>...</td>\n",
       "      <td>False</td>\n",
       "      <td>False</td>\n",
       "      <td>False</td>\n",
       "      <td>False</td>\n",
       "      <td>False</td>\n",
       "      <td>False</td>\n",
       "      <td>29.05.2022, 03:02:</td>\n",
       "      <td>20220529_0302_Plate12</td>\n",
       "      <td>30_20220509</td>\n",
       "      <td>2022-05-29 03:02:00</td>\n",
       "    </tr>\n",
       "    <tr>\n",
       "      <th>4886</th>\n",
       "      <td>/projects/0/einf914/data/20220604_0131_Plate11</td>\n",
       "      <td>23</td>\n",
       "      <td>11</td>\n",
       "      <td>'Carrot'</td>\n",
       "      <td>'Agg'</td>\n",
       "      <td>'001P100N200C'</td>\n",
       "      <td>'Y'</td>\n",
       "      <td>'-'</td>\n",
       "      <td>20220509</td>\n",
       "      <td>25</td>\n",
       "      <td>...</td>\n",
       "      <td>False</td>\n",
       "      <td>False</td>\n",
       "      <td>False</td>\n",
       "      <td>False</td>\n",
       "      <td>False</td>\n",
       "      <td>False</td>\n",
       "      <td>04.06.2022, 01:31:</td>\n",
       "      <td>20220604_0131_Plate11</td>\n",
       "      <td>23_20220509</td>\n",
       "      <td>2022-06-04 01:31:00</td>\n",
       "    </tr>\n",
       "    <tr>\n",
       "      <th>4889</th>\n",
       "      <td>/projects/0/einf914/data/20220619_1955_Plate11</td>\n",
       "      <td>23</td>\n",
       "      <td>11</td>\n",
       "      <td>'Carrot'</td>\n",
       "      <td>'Agg'</td>\n",
       "      <td>'001P100N200C'</td>\n",
       "      <td>'Y'</td>\n",
       "      <td>'-'</td>\n",
       "      <td>20220509</td>\n",
       "      <td>25</td>\n",
       "      <td>...</td>\n",
       "      <td>False</td>\n",
       "      <td>False</td>\n",
       "      <td>False</td>\n",
       "      <td>False</td>\n",
       "      <td>False</td>\n",
       "      <td>False</td>\n",
       "      <td>19.06.2022, 19:55:</td>\n",
       "      <td>20220619_1955_Plate11</td>\n",
       "      <td>23_20220509</td>\n",
       "      <td>2022-06-19 19:55:00</td>\n",
       "    </tr>\n",
       "    <tr>\n",
       "      <th>4890</th>\n",
       "      <td>/projects/0/einf914/data/20220616_1904_Plate10</td>\n",
       "      <td>22</td>\n",
       "      <td>10</td>\n",
       "      <td>'Carrot'</td>\n",
       "      <td>'Agg'</td>\n",
       "      <td>'001P100N100C'</td>\n",
       "      <td>'Y'</td>\n",
       "      <td>'-'</td>\n",
       "      <td>20220522</td>\n",
       "      <td>25</td>\n",
       "      <td>...</td>\n",
       "      <td>False</td>\n",
       "      <td>False</td>\n",
       "      <td>False</td>\n",
       "      <td>False</td>\n",
       "      <td>False</td>\n",
       "      <td>False</td>\n",
       "      <td>16.06.2022, 19:04:</td>\n",
       "      <td>20220616_1904_Plate10</td>\n",
       "      <td>22_20220522</td>\n",
       "      <td>2022-06-16 19:04:00</td>\n",
       "    </tr>\n",
       "    <tr>\n",
       "      <th>4894</th>\n",
       "      <td>/projects/0/einf914/data/20220614_0703_Plate11</td>\n",
       "      <td>23</td>\n",
       "      <td>11</td>\n",
       "      <td>'Carrot'</td>\n",
       "      <td>'Agg'</td>\n",
       "      <td>'001P100N200C'</td>\n",
       "      <td>'Y'</td>\n",
       "      <td>'-'</td>\n",
       "      <td>20220509</td>\n",
       "      <td>25</td>\n",
       "      <td>...</td>\n",
       "      <td>False</td>\n",
       "      <td>False</td>\n",
       "      <td>False</td>\n",
       "      <td>False</td>\n",
       "      <td>False</td>\n",
       "      <td>False</td>\n",
       "      <td>14.06.2022, 07:03:</td>\n",
       "      <td>20220614_0703_Plate11</td>\n",
       "      <td>23_20220509</td>\n",
       "      <td>2022-06-14 07:03:00</td>\n",
       "    </tr>\n",
       "  </tbody>\n",
       "</table>\n",
       "<p>958 rows × 24 columns</p>\n",
       "</div>"
      ],
      "text/plain": [
       "                                          total_path Plate PrincePos  \\\n",
       "10    /projects/0/einf914/data/20220601_1143_Plate12    30        12   \n",
       "23    /projects/0/einf914/data/20220618_0150_Plate11    23        11   \n",
       "24    /projects/0/einf914/data/20220528_1900_Plate12    30        12   \n",
       "25    /projects/0/einf914/data/20220619_0156_Plate11    23        11   \n",
       "29    /projects/0/einf914/data/20220613_0147_Plate12    30        12   \n",
       "...                                              ...   ...       ...   \n",
       "4882  /projects/0/einf914/data/20220529_0302_Plate12    30        12   \n",
       "4886  /projects/0/einf914/data/20220604_0131_Plate11    23        11   \n",
       "4889  /projects/0/einf914/data/20220619_1955_Plate11    23        11   \n",
       "4890  /projects/0/einf914/data/20220616_1904_Plate10    22        10   \n",
       "4894  /projects/0/einf914/data/20220614_0703_Plate11    23        11   \n",
       "\n",
       "          root strain          medium split Pbait CrossDate Temperature  ...  \\\n",
       "10    'Carrot'  'Agg'  '001P100N200C'   'Y'   '-'  20220509          25  ...   \n",
       "23    'Carrot'  'Agg'  '001P100N200C'   'Y'   '-'  20220509          25  ...   \n",
       "24    'Carrot'  'Agg'  '001P100N200C'   'Y'   '-'  20220509          25  ...   \n",
       "25    'Carrot'  'Agg'  '001P100N200C'   'Y'   '-'  20220509          25  ...   \n",
       "29    'Carrot'  'Agg'  '001P100N200C'   'Y'   '-'  20220509          25  ...   \n",
       "...        ...    ...             ...   ...   ...       ...         ...  ...   \n",
       "4882  'Carrot'  'Agg'  '001P100N200C'   'Y'   '-'  20220509          25  ...   \n",
       "4886  'Carrot'  'Agg'  '001P100N200C'   'Y'   '-'  20220509          25  ...   \n",
       "4889  'Carrot'  'Agg'  '001P100N200C'   'Y'   '-'  20220509          25  ...   \n",
       "4890  'Carrot'  'Agg'  '001P100N100C'   'Y'   '-'  20220522          25  ...   \n",
       "4894  'Carrot'  'Agg'  '001P100N200C'   'Y'   '-'  20220509          25  ...   \n",
       "\n",
       "     /Analysis/transform.mat /Analysis/transform_corrupt.mat  \\\n",
       "10                     False                           False   \n",
       "23                     False                           False   \n",
       "24                     False                           False   \n",
       "25                     False                           False   \n",
       "29                     False                           False   \n",
       "...                      ...                             ...   \n",
       "4882                   False                           False   \n",
       "4886                   False                           False   \n",
       "4889                   False                           False   \n",
       "4890                   False                           False   \n",
       "4894                   False                           False   \n",
       "\n",
       "     /Analysis/skeleton_realigned_compressed.mat /Analysis/nx_graph_pruned.p  \\\n",
       "10                                         False                       False   \n",
       "23                                         False                       False   \n",
       "24                                         False                       False   \n",
       "25                                         False                       False   \n",
       "29                                         False                       False   \n",
       "...                                          ...                         ...   \n",
       "4882                                       False                       False   \n",
       "4886                                       False                       False   \n",
       "4889                                       False                       False   \n",
       "4890                                       False                       False   \n",
       "4894                                       False                       False   \n",
       "\n",
       "     /Analysis/nx_graph_pruned_width.p /Analysis/nx_graph_pruned_labeled.p  \\\n",
       "10                               False                               False   \n",
       "23                               False                               False   \n",
       "24                               False                               False   \n",
       "25                               False                               False   \n",
       "29                               False                               False   \n",
       "...                                ...                                 ...   \n",
       "4882                             False                               False   \n",
       "4886                             False                               False   \n",
       "4889                             False                               False   \n",
       "4890                             False                               False   \n",
       "4894                             False                               False   \n",
       "\n",
       "                    date                 folder    unique_id  \\\n",
       "10    01.06.2022, 11:43:  20220601_1143_Plate12  30_20220509   \n",
       "23    18.06.2022, 01:50:  20220618_0150_Plate11  23_20220509   \n",
       "24    28.05.2022, 19:00:  20220528_1900_Plate12  30_20220509   \n",
       "25    19.06.2022, 01:56:  20220619_0156_Plate11  23_20220509   \n",
       "29    13.06.2022, 01:47:  20220613_0147_Plate12  30_20220509   \n",
       "...                  ...                    ...          ...   \n",
       "4882  29.05.2022, 03:02:  20220529_0302_Plate12  30_20220509   \n",
       "4886  04.06.2022, 01:31:  20220604_0131_Plate11  23_20220509   \n",
       "4889  19.06.2022, 19:55:  20220619_1955_Plate11  23_20220509   \n",
       "4890  16.06.2022, 19:04:  20220616_1904_Plate10  22_20220522   \n",
       "4894  14.06.2022, 07:03:  20220614_0703_Plate11  23_20220509   \n",
       "\n",
       "                datetime  \n",
       "10   2022-06-01 11:43:00  \n",
       "23   2022-06-18 01:50:00  \n",
       "24   2022-05-28 19:00:00  \n",
       "25   2022-06-19 01:56:00  \n",
       "29   2022-06-13 01:47:00  \n",
       "...                  ...  \n",
       "4882 2022-05-29 03:02:00  \n",
       "4886 2022-06-04 01:31:00  \n",
       "4889 2022-06-19 19:55:00  \n",
       "4890 2022-06-16 19:04:00  \n",
       "4894 2022-06-14 07:03:00  \n",
       "\n",
       "[958 rows x 24 columns]"
      ]
     },
     "execution_count": 61,
     "metadata": {},
     "output_type": "execute_result"
    }
   ],
   "source": [
    "folders = all_folders.loc[all_folders[\"unique_id\"].isin(plates)]\n",
    "folders = folders.loc[folders[\"/Img/TileConfiguration.txt.registered\"] == True]\n",
    "folders"
   ]
  },
  {
   "cell_type": "code",
   "execution_count": 4,
   "id": "063e4d06-368a-4d07-891f-4f89e3dd0adf",
   "metadata": {},
   "outputs": [
    {
     "name": "stdout",
     "output_type": "stream",
     "text": [
      "Submitted batch job 1129540\n"
     ]
    },
    {
     "name": "stderr",
     "output_type": "stream",
     "text": [
      "sbatch: Single node jobs run on a shared node by default. Add --exclusive if you want to use a node exclusively.\n",
      "sbatch: You will be charged for 0.03125 node. A full node consists of 32 CPU cores, 245760 MiB of memory and 0 GPUs and can be shared by up to 32 jobs.\n"
     ]
    }
   ],
   "source": [
    "run_launcher(\"skeletonizer.py\", [directory_targ], plates, \"20:00\", dependency=True)"
   ]
  },
  {
   "cell_type": "code",
   "execution_count": 27,
   "id": "623791bd-676c-4e98-95f5-238768f2e931",
   "metadata": {
    "tags": []
   },
   "outputs": [
    {
     "name": "stdout",
     "output_type": "stream",
     "text": [
      "Submitted batch job 1659349\n"
     ]
    },
    {
     "name": "stderr",
     "output_type": "stream",
     "text": [
      "sbatch: Single node jobs run on a shared node by default. Add --exclusive if you want to use a node exclusively.\n",
      "sbatch: You will be charged for 0.03125 node. A full node consists of 32 CPU cores, 229376 MiB of memory and 0 GPUs and can be shared by up to 32 jobs.\n"
     ]
    }
   ],
   "source": [
    "name_job = f\"one_shot_{time_ns()}.sh\"\n",
    "\n",
    "run_launcher(\n",
    "    \"stitcher.py\",\n",
    "    [directory_targ, name_job, 2],\n",
    "    plates,\n",
    "    \"12:00:00\",\n",
    "    dependency=True,\n",
    "    name_job=name_job,\n",
    ")"
   ]
  },
  {
   "cell_type": "code",
   "execution_count": 10,
   "id": "f9e4c47c-1b6c-4327-9bfc-1f493da5954d",
   "metadata": {
    "tags": []
   },
   "outputs": [
    {
     "name": "stdout",
     "output_type": "stream",
     "text": [
      "Submitted batch job 1657416\n"
     ]
    },
    {
     "name": "stderr",
     "output_type": "stream",
     "text": [
      "sbatch: Single node jobs run on a shared node by default. Add --exclusive if you want to use a node exclusively.\n",
      "sbatch: You will be charged for 0.03125 node. A full node consists of 32 CPU cores, 229376 MiB of memory and 0 GPUs and can be shared by up to 32 jobs.\n"
     ]
    }
   ],
   "source": [
    "name_job = f\"one_shot_{time_ns()}.sh\"\n",
    "run_launcher(\n",
    "    \"post_processer_1.py\",\n",
    "    [directory_targ, name_job, 11],\n",
    "    plates,\n",
    "    \"20:00\",\n",
    "    dependency=True,\n",
    "    name_job=name_job,\n",
    ")"
   ]
  },
  {
   "cell_type": "code",
   "execution_count": 4,
   "id": "c060b10d-d09b-4e49-b1aa-42752a4384b5",
   "metadata": {},
   "outputs": [
    {
     "data": {
      "application/vnd.jupyter.widget-view+json": {
       "model_id": "ec257cba0301419786c900f5df98a532",
       "version_major": 2,
       "version_minor": 0
      },
      "text/plain": [
       "analysed:   0%|          | 0/2691 [00:00<?, ?it/s]"
      ]
     },
     "metadata": {},
     "output_type": "display_data"
    }
   ],
   "source": [
    "update_plate_info(directory_targ, local=True)\n",
    "all_folders = get_current_folders(directory_targ, local=True)"
   ]
  },
  {
   "cell_type": "code",
   "execution_count": 5,
   "id": "fd7afd82-fae3-4031-ac47-73ed53f18d20",
   "metadata": {
    "tags": []
   },
   "outputs": [
    {
     "name": "stdout",
     "output_type": "stream",
     "text": [
      "648\n",
      "382\n"
     ]
    }
   ],
   "source": [
    "# plates= ['12_20220502']\n",
    "folders = all_folders.loc[all_folders[\"unique_id\"].isin(plates)]\n",
    "print(len(folders))\n",
    "folders = folders.loc[folders[\"/Analysis/nx_graph_pruned_labeled.p\"] == True]\n",
    "print(len(folders))\n",
    "\n",
    "# folders = folders.loc[folders['/Analysis/nx_graph_pruned_labeled.p']==True]\n",
    "# folders = folders.loc[folders['/Analysis/skeleton_compressed.mat']==False]\n",
    "plates_2 = folders[\"unique_id\"].unique()"
   ]
  },
  {
   "cell_type": "code",
   "execution_count": 9,
   "id": "98af9ff5-9fa0-445c-b55a-fa4b4ace6b37",
   "metadata": {
    "collapsed": true,
    "jupyter": {
     "outputs_hidden": true
    },
    "tags": []
   },
   "outputs": [
    {
     "data": {
      "text/html": [
       "<div>\n",
       "<style scoped>\n",
       "    .dataframe tbody tr th:only-of-type {\n",
       "        vertical-align: middle;\n",
       "    }\n",
       "\n",
       "    .dataframe tbody tr th {\n",
       "        vertical-align: top;\n",
       "    }\n",
       "\n",
       "    .dataframe thead th {\n",
       "        text-align: right;\n",
       "    }\n",
       "</style>\n",
       "<table border=\"1\" class=\"dataframe\">\n",
       "  <thead>\n",
       "    <tr style=\"text-align: right;\">\n",
       "      <th></th>\n",
       "      <th>total_path</th>\n",
       "      <th>Plate</th>\n",
       "      <th>PrincePos</th>\n",
       "      <th>root</th>\n",
       "      <th>strain</th>\n",
       "      <th>medium</th>\n",
       "      <th>split</th>\n",
       "      <th>Pbait</th>\n",
       "      <th>CrossDate</th>\n",
       "      <th>Temperature</th>\n",
       "      <th>...</th>\n",
       "      <th>/Analysis/transform.mat</th>\n",
       "      <th>/Analysis/transform_corrupt.mat</th>\n",
       "      <th>/Analysis/skeleton_realigned_compressed.mat</th>\n",
       "      <th>/Analysis/nx_graph_pruned.p</th>\n",
       "      <th>/Analysis/nx_graph_pruned_width.p</th>\n",
       "      <th>/Analysis/nx_graph_pruned_labeled.p</th>\n",
       "      <th>date</th>\n",
       "      <th>folder</th>\n",
       "      <th>unique_id</th>\n",
       "      <th>datetime</th>\n",
       "    </tr>\n",
       "  </thead>\n",
       "  <tbody>\n",
       "    <tr>\n",
       "      <th>13</th>\n",
       "      <td>/scratch-shared/amftrack/stitch_temp2/20220515...</td>\n",
       "      <td>23</td>\n",
       "      <td>11</td>\n",
       "      <td>'Carrot'</td>\n",
       "      <td>'Agg'</td>\n",
       "      <td>'001P100N200C'</td>\n",
       "      <td>'Y'</td>\n",
       "      <td>'-'</td>\n",
       "      <td>20220509</td>\n",
       "      <td>25</td>\n",
       "      <td>...</td>\n",
       "      <td>False</td>\n",
       "      <td>False</td>\n",
       "      <td>False</td>\n",
       "      <td>False</td>\n",
       "      <td>False</td>\n",
       "      <td>False</td>\n",
       "      <td>15.05.2022, 22:18:</td>\n",
       "      <td>20220515_2218_Plate11</td>\n",
       "      <td>23_20220509</td>\n",
       "      <td>2022-05-15 22:18:00</td>\n",
       "    </tr>\n",
       "    <tr>\n",
       "      <th>20</th>\n",
       "      <td>/scratch-shared/amftrack/stitch_temp2/20220513...</td>\n",
       "      <td>23</td>\n",
       "      <td>11</td>\n",
       "      <td>'Carrot'</td>\n",
       "      <td>'Agg'</td>\n",
       "      <td>'001P100N200C'</td>\n",
       "      <td>'Y'</td>\n",
       "      <td>'-'</td>\n",
       "      <td>20220509</td>\n",
       "      <td>25</td>\n",
       "      <td>...</td>\n",
       "      <td>False</td>\n",
       "      <td>False</td>\n",
       "      <td>False</td>\n",
       "      <td>False</td>\n",
       "      <td>False</td>\n",
       "      <td>False</td>\n",
       "      <td>13.05.2022, 08:17:</td>\n",
       "      <td>20220513_0817_Plate11</td>\n",
       "      <td>23_20220509</td>\n",
       "      <td>2022-05-13 08:17:00</td>\n",
       "    </tr>\n",
       "    <tr>\n",
       "      <th>24</th>\n",
       "      <td>/scratch-shared/amftrack/stitch_temp2/20220517...</td>\n",
       "      <td>33</td>\n",
       "      <td>7</td>\n",
       "      <td>'Carrot'</td>\n",
       "      <td>'Agg'</td>\n",
       "      <td>'001P100N100C'</td>\n",
       "      <td>'Y'</td>\n",
       "      <td>'-'</td>\n",
       "      <td>20220502</td>\n",
       "      <td>25</td>\n",
       "      <td>...</td>\n",
       "      <td>False</td>\n",
       "      <td>False</td>\n",
       "      <td>False</td>\n",
       "      <td>False</td>\n",
       "      <td>False</td>\n",
       "      <td>False</td>\n",
       "      <td>17.05.2022, 17:05:</td>\n",
       "      <td>20220517_1705_Plate07</td>\n",
       "      <td>33_20220502</td>\n",
       "      <td>2022-05-17 17:05:00</td>\n",
       "    </tr>\n",
       "    <tr>\n",
       "      <th>35</th>\n",
       "      <td>/scratch-shared/amftrack/stitch_temp2/20220517...</td>\n",
       "      <td>23</td>\n",
       "      <td>11</td>\n",
       "      <td>'Carrot'</td>\n",
       "      <td>'Agg'</td>\n",
       "      <td>'001P100N200C'</td>\n",
       "      <td>'Y'</td>\n",
       "      <td>'-'</td>\n",
       "      <td>20220509</td>\n",
       "      <td>25</td>\n",
       "      <td>...</td>\n",
       "      <td>False</td>\n",
       "      <td>False</td>\n",
       "      <td>False</td>\n",
       "      <td>False</td>\n",
       "      <td>False</td>\n",
       "      <td>False</td>\n",
       "      <td>17.05.2022, 15:17:</td>\n",
       "      <td>20220517_1517_Plate11</td>\n",
       "      <td>23_20220509</td>\n",
       "      <td>2022-05-17 15:17:00</td>\n",
       "    </tr>\n",
       "    <tr>\n",
       "      <th>50</th>\n",
       "      <td>/scratch-shared/amftrack/stitch_temp2/20220610...</td>\n",
       "      <td>23</td>\n",
       "      <td>11</td>\n",
       "      <td>'Carrot'</td>\n",
       "      <td>'Agg'</td>\n",
       "      <td>'001P100N200C'</td>\n",
       "      <td>'Y'</td>\n",
       "      <td>'-'</td>\n",
       "      <td>20220509</td>\n",
       "      <td>25</td>\n",
       "      <td>...</td>\n",
       "      <td>False</td>\n",
       "      <td>False</td>\n",
       "      <td>False</td>\n",
       "      <td>False</td>\n",
       "      <td>False</td>\n",
       "      <td>False</td>\n",
       "      <td>10.06.2022, 23:44:</td>\n",
       "      <td>20220610_2344_Plate11</td>\n",
       "      <td>23_20220509</td>\n",
       "      <td>2022-06-10 23:44:00</td>\n",
       "    </tr>\n",
       "    <tr>\n",
       "      <th>...</th>\n",
       "      <td>...</td>\n",
       "      <td>...</td>\n",
       "      <td>...</td>\n",
       "      <td>...</td>\n",
       "      <td>...</td>\n",
       "      <td>...</td>\n",
       "      <td>...</td>\n",
       "      <td>...</td>\n",
       "      <td>...</td>\n",
       "      <td>...</td>\n",
       "      <td>...</td>\n",
       "      <td>...</td>\n",
       "      <td>...</td>\n",
       "      <td>...</td>\n",
       "      <td>...</td>\n",
       "      <td>...</td>\n",
       "      <td>...</td>\n",
       "      <td>...</td>\n",
       "      <td>...</td>\n",
       "      <td>...</td>\n",
       "      <td>...</td>\n",
       "    </tr>\n",
       "    <tr>\n",
       "      <th>2006</th>\n",
       "      <td>/scratch-shared/amftrack/stitch_temp2/20220511...</td>\n",
       "      <td>23</td>\n",
       "      <td>11</td>\n",
       "      <td>'Carrot'</td>\n",
       "      <td>'Agg'</td>\n",
       "      <td>'001P100N200C'</td>\n",
       "      <td>'Y'</td>\n",
       "      <td>'-'</td>\n",
       "      <td>20220509</td>\n",
       "      <td>25</td>\n",
       "      <td>...</td>\n",
       "      <td>False</td>\n",
       "      <td>False</td>\n",
       "      <td>False</td>\n",
       "      <td>False</td>\n",
       "      <td>False</td>\n",
       "      <td>False</td>\n",
       "      <td>11.05.2022, 13:11:</td>\n",
       "      <td>20220511_1311_Plate11</td>\n",
       "      <td>23_20220509</td>\n",
       "      <td>2022-05-11 13:11:00</td>\n",
       "    </tr>\n",
       "    <tr>\n",
       "      <th>2031</th>\n",
       "      <td>/scratch-shared/amftrack/stitch_temp2/20220514...</td>\n",
       "      <td>23</td>\n",
       "      <td>11</td>\n",
       "      <td>'Carrot'</td>\n",
       "      <td>'Agg'</td>\n",
       "      <td>'001P100N200C'</td>\n",
       "      <td>'Y'</td>\n",
       "      <td>'-'</td>\n",
       "      <td>20220509</td>\n",
       "      <td>25</td>\n",
       "      <td>...</td>\n",
       "      <td>False</td>\n",
       "      <td>False</td>\n",
       "      <td>False</td>\n",
       "      <td>False</td>\n",
       "      <td>False</td>\n",
       "      <td>False</td>\n",
       "      <td>14.05.2022, 00:16:</td>\n",
       "      <td>20220514_0016_Plate11</td>\n",
       "      <td>23_20220509</td>\n",
       "      <td>2022-05-14 00:16:00</td>\n",
       "    </tr>\n",
       "    <tr>\n",
       "      <th>2034</th>\n",
       "      <td>/scratch-shared/amftrack/stitch_temp2/20220510...</td>\n",
       "      <td>33</td>\n",
       "      <td>7</td>\n",
       "      <td>'Carrot'</td>\n",
       "      <td>'Agg'</td>\n",
       "      <td>'001P100N100C'</td>\n",
       "      <td>'Y'</td>\n",
       "      <td>'-'</td>\n",
       "      <td>20220502</td>\n",
       "      <td>25</td>\n",
       "      <td>...</td>\n",
       "      <td>False</td>\n",
       "      <td>False</td>\n",
       "      <td>False</td>\n",
       "      <td>False</td>\n",
       "      <td>False</td>\n",
       "      <td>False</td>\n",
       "      <td>10.05.2022, 09:59:</td>\n",
       "      <td>20220510_0959_Plate07</td>\n",
       "      <td>33_20220502</td>\n",
       "      <td>2022-05-10 09:59:00</td>\n",
       "    </tr>\n",
       "    <tr>\n",
       "      <th>2038</th>\n",
       "      <td>/scratch-shared/amftrack/stitch_temp2/20220614...</td>\n",
       "      <td>23</td>\n",
       "      <td>11</td>\n",
       "      <td>'Carrot'</td>\n",
       "      <td>'Agg'</td>\n",
       "      <td>'001P100N200C'</td>\n",
       "      <td>'Y'</td>\n",
       "      <td>'-'</td>\n",
       "      <td>20220509</td>\n",
       "      <td>25</td>\n",
       "      <td>...</td>\n",
       "      <td>False</td>\n",
       "      <td>False</td>\n",
       "      <td>False</td>\n",
       "      <td>False</td>\n",
       "      <td>False</td>\n",
       "      <td>False</td>\n",
       "      <td>14.06.2022, 07:03:</td>\n",
       "      <td>20220614_0703_Plate11</td>\n",
       "      <td>23_20220509</td>\n",
       "      <td>2022-06-14 07:03:00</td>\n",
       "    </tr>\n",
       "    <tr>\n",
       "      <th>2039</th>\n",
       "      <td>/scratch-shared/amftrack/stitch_temp2/20220512...</td>\n",
       "      <td>23</td>\n",
       "      <td>11</td>\n",
       "      <td>'Carrot'</td>\n",
       "      <td>'Agg'</td>\n",
       "      <td>'001P100N200C'</td>\n",
       "      <td>'Y'</td>\n",
       "      <td>'-'</td>\n",
       "      <td>20220509</td>\n",
       "      <td>25</td>\n",
       "      <td>...</td>\n",
       "      <td>False</td>\n",
       "      <td>False</td>\n",
       "      <td>False</td>\n",
       "      <td>False</td>\n",
       "      <td>False</td>\n",
       "      <td>False</td>\n",
       "      <td>12.05.2022, 09:32:</td>\n",
       "      <td>20220512_0932_Plate11</td>\n",
       "      <td>23_20220509</td>\n",
       "      <td>2022-05-12 09:32:00</td>\n",
       "    </tr>\n",
       "  </tbody>\n",
       "</table>\n",
       "<p>134 rows × 24 columns</p>\n",
       "</div>"
      ],
      "text/plain": [
       "                                             total_path Plate PrincePos  \\\n",
       "13    /scratch-shared/amftrack/stitch_temp2/20220515...    23        11   \n",
       "20    /scratch-shared/amftrack/stitch_temp2/20220513...    23        11   \n",
       "24    /scratch-shared/amftrack/stitch_temp2/20220517...    33         7   \n",
       "35    /scratch-shared/amftrack/stitch_temp2/20220517...    23        11   \n",
       "50    /scratch-shared/amftrack/stitch_temp2/20220610...    23        11   \n",
       "...                                                 ...   ...       ...   \n",
       "2006  /scratch-shared/amftrack/stitch_temp2/20220511...    23        11   \n",
       "2031  /scratch-shared/amftrack/stitch_temp2/20220514...    23        11   \n",
       "2034  /scratch-shared/amftrack/stitch_temp2/20220510...    33         7   \n",
       "2038  /scratch-shared/amftrack/stitch_temp2/20220614...    23        11   \n",
       "2039  /scratch-shared/amftrack/stitch_temp2/20220512...    23        11   \n",
       "\n",
       "          root strain          medium split Pbait CrossDate Temperature  ...  \\\n",
       "13    'Carrot'  'Agg'  '001P100N200C'   'Y'   '-'  20220509          25  ...   \n",
       "20    'Carrot'  'Agg'  '001P100N200C'   'Y'   '-'  20220509          25  ...   \n",
       "24    'Carrot'  'Agg'  '001P100N100C'   'Y'   '-'  20220502          25  ...   \n",
       "35    'Carrot'  'Agg'  '001P100N200C'   'Y'   '-'  20220509          25  ...   \n",
       "50    'Carrot'  'Agg'  '001P100N200C'   'Y'   '-'  20220509          25  ...   \n",
       "...        ...    ...             ...   ...   ...       ...         ...  ...   \n",
       "2006  'Carrot'  'Agg'  '001P100N200C'   'Y'   '-'  20220509          25  ...   \n",
       "2031  'Carrot'  'Agg'  '001P100N200C'   'Y'   '-'  20220509          25  ...   \n",
       "2034  'Carrot'  'Agg'  '001P100N100C'   'Y'   '-'  20220502          25  ...   \n",
       "2038  'Carrot'  'Agg'  '001P100N200C'   'Y'   '-'  20220509          25  ...   \n",
       "2039  'Carrot'  'Agg'  '001P100N200C'   'Y'   '-'  20220509          25  ...   \n",
       "\n",
       "     /Analysis/transform.mat /Analysis/transform_corrupt.mat  \\\n",
       "13                     False                           False   \n",
       "20                     False                           False   \n",
       "24                     False                           False   \n",
       "35                     False                           False   \n",
       "50                     False                           False   \n",
       "...                      ...                             ...   \n",
       "2006                   False                           False   \n",
       "2031                   False                           False   \n",
       "2034                   False                           False   \n",
       "2038                   False                           False   \n",
       "2039                   False                           False   \n",
       "\n",
       "     /Analysis/skeleton_realigned_compressed.mat /Analysis/nx_graph_pruned.p  \\\n",
       "13                                         False                       False   \n",
       "20                                         False                       False   \n",
       "24                                         False                       False   \n",
       "35                                         False                       False   \n",
       "50                                         False                       False   \n",
       "...                                          ...                         ...   \n",
       "2006                                       False                       False   \n",
       "2031                                       False                       False   \n",
       "2034                                       False                       False   \n",
       "2038                                       False                       False   \n",
       "2039                                       False                       False   \n",
       "\n",
       "     /Analysis/nx_graph_pruned_width.p /Analysis/nx_graph_pruned_labeled.p  \\\n",
       "13                               False                               False   \n",
       "20                               False                               False   \n",
       "24                               False                               False   \n",
       "35                               False                               False   \n",
       "50                               False                               False   \n",
       "...                                ...                                 ...   \n",
       "2006                             False                               False   \n",
       "2031                             False                               False   \n",
       "2034                             False                               False   \n",
       "2038                             False                               False   \n",
       "2039                             False                               False   \n",
       "\n",
       "                    date                 folder    unique_id  \\\n",
       "13    15.05.2022, 22:18:  20220515_2218_Plate11  23_20220509   \n",
       "20    13.05.2022, 08:17:  20220513_0817_Plate11  23_20220509   \n",
       "24    17.05.2022, 17:05:  20220517_1705_Plate07  33_20220502   \n",
       "35    17.05.2022, 15:17:  20220517_1517_Plate11  23_20220509   \n",
       "50    10.06.2022, 23:44:  20220610_2344_Plate11  23_20220509   \n",
       "...                  ...                    ...          ...   \n",
       "2006  11.05.2022, 13:11:  20220511_1311_Plate11  23_20220509   \n",
       "2031  14.05.2022, 00:16:  20220514_0016_Plate11  23_20220509   \n",
       "2034  10.05.2022, 09:59:  20220510_0959_Plate07  33_20220502   \n",
       "2038  14.06.2022, 07:03:  20220614_0703_Plate11  23_20220509   \n",
       "2039  12.05.2022, 09:32:  20220512_0932_Plate11  23_20220509   \n",
       "\n",
       "                datetime  \n",
       "13   2022-05-15 22:18:00  \n",
       "20   2022-05-13 08:17:00  \n",
       "24   2022-05-17 17:05:00  \n",
       "35   2022-05-17 15:17:00  \n",
       "50   2022-06-10 23:44:00  \n",
       "...                  ...  \n",
       "2006 2022-05-11 13:11:00  \n",
       "2031 2022-05-14 00:16:00  \n",
       "2034 2022-05-10 09:59:00  \n",
       "2038 2022-06-14 07:03:00  \n",
       "2039 2022-05-12 09:32:00  \n",
       "\n",
       "[134 rows x 24 columns]"
      ]
     },
     "execution_count": 9,
     "metadata": {},
     "output_type": "execute_result"
    }
   ],
   "source": [
    "folders"
   ]
  },
  {
   "cell_type": "code",
   "execution_count": 7,
   "id": "9594a8bf-1004-4b7a-ba44-abbab01a2a0d",
   "metadata": {
    "collapsed": true,
    "jupyter": {
     "outputs_hidden": true
    },
    "tags": []
   },
   "outputs": [
    {
     "name": "stdout",
     "output_type": "stream",
     "text": [
      "Submitted batch job 1416009\n"
     ]
    },
    {
     "name": "stderr",
     "output_type": "stream",
     "text": [
      "sbatch: Single node jobs run on a shared node by default. Add --exclusive if you want to use a node exclusively.\n",
      "sbatch: You will be charged for 0.25 node. A full node consists of 128 CPU cores, 983040 MiB of memory and 0 GPUs and can be shared by up to 4 jobs.\n",
      "sbatch: Single node jobs run on a shared node by default. Add --exclusive if you want to use a node exclusively.\n",
      "sbatch: You will be charged for 0.25 node. A full node consists of 128 CPU cores, 983040 MiB of memory and 0 GPUs and can be shared by up to 4 jobs.\n",
      "sbatch: Single node jobs run on a shared node by default. Add --exclusive if you want to use a node exclusively.\n",
      "sbatch: You will be charged for 0.25 node. A full node consists of 128 CPU cores, 983040 MiB of memory and 0 GPUs and can be shared by up to 4 jobs.\n"
     ]
    },
    {
     "name": "stdout",
     "output_type": "stream",
     "text": [
      "Submitted batch job 1416010\n",
      "Submitted batch job 1416011\n",
      "Submitted batch job 1416012\n",
      "Submitted batch job 1416013\n"
     ]
    },
    {
     "name": "stderr",
     "output_type": "stream",
     "text": [
      "sbatch: Single node jobs run on a shared node by default. Add --exclusive if you want to use a node exclusively.\n",
      "sbatch: You will be charged for 0.25 node. A full node consists of 128 CPU cores, 983040 MiB of memory and 0 GPUs and can be shared by up to 4 jobs.\n",
      "sbatch: Single node jobs run on a shared node by default. Add --exclusive if you want to use a node exclusively.\n",
      "sbatch: You will be charged for 0.25 node. A full node consists of 128 CPU cores, 983040 MiB of memory and 0 GPUs and can be shared by up to 4 jobs.\n"
     ]
    }
   ],
   "source": [
    "import sys\n",
    "from amftrack.util.sys import (\n",
    "    update_plate_info,\n",
    "    get_current_folders,\n",
    ")\n",
    "from amftrack.pipeline.launching.run_super import run_parallel, run_launcher\n",
    "\n",
    "folders = all_folders.loc[all_folders[\"unique_id\"].isin(plates)]\n",
    "folders = folders.loc[folders[\"/Analysis/skeleton_realigned_compressed.mat\"] == True]\n",
    "num_parallel = 128\n",
    "time = \"12:00:00\"\n",
    "skip = False\n",
    "resolution = 10\n",
    "args = [directory_targ, skip, resolution]\n",
    "run_parallel(\n",
    "    \"extract_width.py\",\n",
    "    args,\n",
    "    folders,\n",
    "    num_parallel,\n",
    "    time,\n",
    "    \"extract_width2\",\n",
    "    cpus=32,\n",
    "    node=\"fat\",\n",
    ")"
   ]
  },
  {
   "cell_type": "code",
   "execution_count": 11,
   "id": "808ef7c4-2df1-4b6c-861a-8e6aab949649",
   "metadata": {},
   "outputs": [
    {
     "name": "stdout",
     "output_type": "stream",
     "text": [
      "Submitted batch job 1416297\n"
     ]
    }
   ],
   "source": [
    "from amftrack.pipeline.launching.run_super import (\n",
    "    run_parallel,\n",
    "    run_launcher,\n",
    "    run_parallel_all_time,\n",
    ")\n",
    "\n",
    "# for unique_id in plates:\n",
    "#     select = folders.loc[folders[\"unique_id\"] == unique_id]\n",
    "#     time = \"2:00:00\"\n",
    "#     run_parallel(\n",
    "#         \"track_nodes.py\",\n",
    "#         args,\n",
    "#         select,\n",
    "#         num_parallel,\n",
    "#         time,\n",
    "#         \"track_node\",\n",
    "#         cpus=128,\n",
    "#         node=\"fat\",\n",
    "#         dependency=False,\n",
    "#         # name_job='job.sh'\n",
    "#     )\n",
    "\n",
    "time = \"12:00:00\"\n",
    "run_parallel_all_time(\n",
    "    \"make_labeled_graphs.py\",\n",
    "    args,\n",
    "    folders,\n",
    "    num_parallel,\n",
    "    time,\n",
    "    \"make_graphs\",\n",
    "    cpus=128,\n",
    "    node=\"fat\",\n",
    "    dependency=True,\n",
    "    name_job=\"job.sh\",\n",
    ")"
   ]
  },
  {
   "cell_type": "code",
   "execution_count": 23,
   "id": "c8a2143b-8a67-4729-a7e6-ee08016e193a",
   "metadata": {},
   "outputs": [
    {
     "data": {
      "text/plain": [
       "array(['130_20220707', '1042_20220523', '1030_20220523'], dtype=object)"
      ]
     },
     "execution_count": 23,
     "metadata": {},
     "output_type": "execute_result"
    }
   ],
   "source": [
    "plates_2"
   ]
  },
  {
   "cell_type": "code",
   "execution_count": 13,
   "id": "7856e109-0e08-4a97-bfec-4a27f09a6264",
   "metadata": {},
   "outputs": [],
   "source": [
    "i = 0\n",
    "unique_ids = list(set(folders[\"unique_id\"].values))\n",
    "unique_ids.sort()\n",
    "select = folders.loc[folders[\"unique_id\"] == unique_ids[i]]"
   ]
  },
  {
   "cell_type": "code",
   "execution_count": 6,
   "id": "9cb0d5e8-a5ab-4552-baef-6c4947fab692",
   "metadata": {
    "collapsed": true,
    "jupyter": {
     "outputs_hidden": true
    },
    "tags": []
   },
   "outputs": [
    {
     "data": {
      "text/html": [
       "<div>\n",
       "<style scoped>\n",
       "    .dataframe tbody tr th:only-of-type {\n",
       "        vertical-align: middle;\n",
       "    }\n",
       "\n",
       "    .dataframe tbody tr th {\n",
       "        vertical-align: top;\n",
       "    }\n",
       "\n",
       "    .dataframe thead th {\n",
       "        text-align: right;\n",
       "    }\n",
       "</style>\n",
       "<table border=\"1\" class=\"dataframe\">\n",
       "  <thead>\n",
       "    <tr style=\"text-align: right;\">\n",
       "      <th></th>\n",
       "      <th>total_path</th>\n",
       "      <th>Plate</th>\n",
       "      <th>PrincePos</th>\n",
       "      <th>root</th>\n",
       "      <th>strain</th>\n",
       "      <th>medium</th>\n",
       "      <th>split</th>\n",
       "      <th>Pbait</th>\n",
       "      <th>CrossDate</th>\n",
       "      <th>Temperature</th>\n",
       "      <th>...</th>\n",
       "      <th>/Analysis/transform.mat</th>\n",
       "      <th>/Analysis/transform_corrupt.mat</th>\n",
       "      <th>/Analysis/skeleton_realigned_compressed.mat</th>\n",
       "      <th>/Analysis/nx_graph_pruned.p</th>\n",
       "      <th>/Analysis/nx_graph_pruned_width.p</th>\n",
       "      <th>/Analysis/nx_graph_pruned_labeled.p</th>\n",
       "      <th>date</th>\n",
       "      <th>folder</th>\n",
       "      <th>unique_id</th>\n",
       "      <th>datetime</th>\n",
       "    </tr>\n",
       "  </thead>\n",
       "  <tbody>\n",
       "    <tr>\n",
       "      <th>17</th>\n",
       "      <td>/scratch-shared/amftrack/stitch_temp2/20220709...</td>\n",
       "      <td>510</td>\n",
       "      <td>11</td>\n",
       "      <td>'None'</td>\n",
       "      <td>'C2'</td>\n",
       "      <td>'Myr'</td>\n",
       "      <td>'Y'</td>\n",
       "      <td>'-'</td>\n",
       "      <td>20220623</td>\n",
       "      <td>25</td>\n",
       "      <td>...</td>\n",
       "      <td>True</td>\n",
       "      <td>False</td>\n",
       "      <td>True</td>\n",
       "      <td>True</td>\n",
       "      <td>True</td>\n",
       "      <td>True</td>\n",
       "      <td>09.07.2022, 02:00:</td>\n",
       "      <td>20220709_0200_Plate11</td>\n",
       "      <td>510_20220623</td>\n",
       "      <td>2022-07-09 02:00:00</td>\n",
       "    </tr>\n",
       "    <tr>\n",
       "      <th>32</th>\n",
       "      <td>/scratch-shared/amftrack/stitch_temp2/20220702...</td>\n",
       "      <td>510</td>\n",
       "      <td>11</td>\n",
       "      <td>'None'</td>\n",
       "      <td>'C2'</td>\n",
       "      <td>'Myr'</td>\n",
       "      <td>'Y'</td>\n",
       "      <td>'-'</td>\n",
       "      <td>20220623</td>\n",
       "      <td>25</td>\n",
       "      <td>...</td>\n",
       "      <td>True</td>\n",
       "      <td>False</td>\n",
       "      <td>True</td>\n",
       "      <td>True</td>\n",
       "      <td>True</td>\n",
       "      <td>True</td>\n",
       "      <td>02.07.2022, 17:39:</td>\n",
       "      <td>20220702_1739_Plate11</td>\n",
       "      <td>510_20220623</td>\n",
       "      <td>2022-07-02 17:39:00</td>\n",
       "    </tr>\n",
       "    <tr>\n",
       "      <th>40</th>\n",
       "      <td>/scratch-shared/amftrack/stitch_temp2/20220701...</td>\n",
       "      <td>510</td>\n",
       "      <td>11</td>\n",
       "      <td>'None'</td>\n",
       "      <td>'C2'</td>\n",
       "      <td>'Myr'</td>\n",
       "      <td>'Y'</td>\n",
       "      <td>'-'</td>\n",
       "      <td>20220623</td>\n",
       "      <td>25</td>\n",
       "      <td>...</td>\n",
       "      <td>True</td>\n",
       "      <td>False</td>\n",
       "      <td>True</td>\n",
       "      <td>True</td>\n",
       "      <td>True</td>\n",
       "      <td>True</td>\n",
       "      <td>01.07.2022, 11:39:</td>\n",
       "      <td>20220701_1139_Plate11</td>\n",
       "      <td>510_20220623</td>\n",
       "      <td>2022-07-01 11:39:00</td>\n",
       "    </tr>\n",
       "    <tr>\n",
       "      <th>61</th>\n",
       "      <td>/scratch-shared/amftrack/stitch_temp2/20220708...</td>\n",
       "      <td>510</td>\n",
       "      <td>11</td>\n",
       "      <td>'None'</td>\n",
       "      <td>'C2'</td>\n",
       "      <td>'Myr'</td>\n",
       "      <td>'Y'</td>\n",
       "      <td>'-'</td>\n",
       "      <td>20220623</td>\n",
       "      <td>25</td>\n",
       "      <td>...</td>\n",
       "      <td>True</td>\n",
       "      <td>False</td>\n",
       "      <td>True</td>\n",
       "      <td>True</td>\n",
       "      <td>True</td>\n",
       "      <td>True</td>\n",
       "      <td>08.07.2022, 17:59:</td>\n",
       "      <td>20220708_1759_Plate11</td>\n",
       "      <td>510_20220623</td>\n",
       "      <td>2022-07-08 17:59:00</td>\n",
       "    </tr>\n",
       "    <tr>\n",
       "      <th>69</th>\n",
       "      <td>/scratch-shared/amftrack/stitch_temp2/20220624...</td>\n",
       "      <td>510</td>\n",
       "      <td>11</td>\n",
       "      <td>'None'</td>\n",
       "      <td>'C2'</td>\n",
       "      <td>'Myr'</td>\n",
       "      <td>'Y'</td>\n",
       "      <td>'-'</td>\n",
       "      <td>20220623</td>\n",
       "      <td>25</td>\n",
       "      <td>...</td>\n",
       "      <td>True</td>\n",
       "      <td>False</td>\n",
       "      <td>True</td>\n",
       "      <td>True</td>\n",
       "      <td>True</td>\n",
       "      <td>True</td>\n",
       "      <td>24.06.2022, 20:36:</td>\n",
       "      <td>20220624_2036_Plate11</td>\n",
       "      <td>510_20220623</td>\n",
       "      <td>2022-06-24 20:36:00</td>\n",
       "    </tr>\n",
       "    <tr>\n",
       "      <th>...</th>\n",
       "      <td>...</td>\n",
       "      <td>...</td>\n",
       "      <td>...</td>\n",
       "      <td>...</td>\n",
       "      <td>...</td>\n",
       "      <td>...</td>\n",
       "      <td>...</td>\n",
       "      <td>...</td>\n",
       "      <td>...</td>\n",
       "      <td>...</td>\n",
       "      <td>...</td>\n",
       "      <td>...</td>\n",
       "      <td>...</td>\n",
       "      <td>...</td>\n",
       "      <td>...</td>\n",
       "      <td>...</td>\n",
       "      <td>...</td>\n",
       "      <td>...</td>\n",
       "      <td>...</td>\n",
       "      <td>...</td>\n",
       "      <td>...</td>\n",
       "    </tr>\n",
       "    <tr>\n",
       "      <th>1567</th>\n",
       "      <td>/scratch-shared/amftrack/stitch_temp2/20220704...</td>\n",
       "      <td>510</td>\n",
       "      <td>11</td>\n",
       "      <td>'None'</td>\n",
       "      <td>'C2'</td>\n",
       "      <td>'Myr'</td>\n",
       "      <td>'Y'</td>\n",
       "      <td>'-'</td>\n",
       "      <td>20220623</td>\n",
       "      <td>25</td>\n",
       "      <td>...</td>\n",
       "      <td>True</td>\n",
       "      <td>False</td>\n",
       "      <td>True</td>\n",
       "      <td>True</td>\n",
       "      <td>True</td>\n",
       "      <td>True</td>\n",
       "      <td>04.07.2022, 05:40:</td>\n",
       "      <td>20220704_0540_Plate11</td>\n",
       "      <td>510_20220623</td>\n",
       "      <td>2022-07-04 05:40:00</td>\n",
       "    </tr>\n",
       "    <tr>\n",
       "      <th>1568</th>\n",
       "      <td>/scratch-shared/amftrack/stitch_temp2/20220717...</td>\n",
       "      <td>510</td>\n",
       "      <td>11</td>\n",
       "      <td>'None'</td>\n",
       "      <td>'C2'</td>\n",
       "      <td>'Myr'</td>\n",
       "      <td>'Y'</td>\n",
       "      <td>'-'</td>\n",
       "      <td>20220623</td>\n",
       "      <td>25</td>\n",
       "      <td>...</td>\n",
       "      <td>True</td>\n",
       "      <td>False</td>\n",
       "      <td>False</td>\n",
       "      <td>False</td>\n",
       "      <td>False</td>\n",
       "      <td>False</td>\n",
       "      <td>17.07.2022, 23:11:</td>\n",
       "      <td>20220717_2311_Plate11</td>\n",
       "      <td>510_20220623</td>\n",
       "      <td>2022-07-17 23:11:00</td>\n",
       "    </tr>\n",
       "    <tr>\n",
       "      <th>1574</th>\n",
       "      <td>/scratch-shared/amftrack/stitch_temp2/20220708...</td>\n",
       "      <td>510</td>\n",
       "      <td>11</td>\n",
       "      <td>'None'</td>\n",
       "      <td>'C2'</td>\n",
       "      <td>'Myr'</td>\n",
       "      <td>'Y'</td>\n",
       "      <td>'-'</td>\n",
       "      <td>20220623</td>\n",
       "      <td>25</td>\n",
       "      <td>...</td>\n",
       "      <td>True</td>\n",
       "      <td>False</td>\n",
       "      <td>True</td>\n",
       "      <td>True</td>\n",
       "      <td>True</td>\n",
       "      <td>True</td>\n",
       "      <td>08.07.2022, 11:21:</td>\n",
       "      <td>20220708_1121_Plate11</td>\n",
       "      <td>510_20220623</td>\n",
       "      <td>2022-07-08 11:21:00</td>\n",
       "    </tr>\n",
       "    <tr>\n",
       "      <th>1576</th>\n",
       "      <td>/scratch-shared/amftrack/stitch_temp2/20220717...</td>\n",
       "      <td>510</td>\n",
       "      <td>11</td>\n",
       "      <td>'None'</td>\n",
       "      <td>'C2'</td>\n",
       "      <td>'Myr'</td>\n",
       "      <td>'Y'</td>\n",
       "      <td>'-'</td>\n",
       "      <td>20220623</td>\n",
       "      <td>25</td>\n",
       "      <td>...</td>\n",
       "      <td>True</td>\n",
       "      <td>False</td>\n",
       "      <td>False</td>\n",
       "      <td>False</td>\n",
       "      <td>False</td>\n",
       "      <td>False</td>\n",
       "      <td>17.07.2022, 01:11:</td>\n",
       "      <td>20220717_0111_Plate11</td>\n",
       "      <td>510_20220623</td>\n",
       "      <td>2022-07-17 01:11:00</td>\n",
       "    </tr>\n",
       "    <tr>\n",
       "      <th>1590</th>\n",
       "      <td>/scratch-shared/amftrack/stitch_temp2/20220707...</td>\n",
       "      <td>510</td>\n",
       "      <td>11</td>\n",
       "      <td>'None'</td>\n",
       "      <td>'C2'</td>\n",
       "      <td>'Myr'</td>\n",
       "      <td>'Y'</td>\n",
       "      <td>'-'</td>\n",
       "      <td>20220623</td>\n",
       "      <td>25</td>\n",
       "      <td>...</td>\n",
       "      <td>True</td>\n",
       "      <td>False</td>\n",
       "      <td>True</td>\n",
       "      <td>True</td>\n",
       "      <td>True</td>\n",
       "      <td>True</td>\n",
       "      <td>07.07.2022, 08:54:</td>\n",
       "      <td>20220707_0854_Plate11</td>\n",
       "      <td>510_20220623</td>\n",
       "      <td>2022-07-07 08:54:00</td>\n",
       "    </tr>\n",
       "  </tbody>\n",
       "</table>\n",
       "<p>237 rows × 24 columns</p>\n",
       "</div>"
      ],
      "text/plain": [
       "                                             total_path Plate PrincePos  \\\n",
       "17    /scratch-shared/amftrack/stitch_temp2/20220709...   510        11   \n",
       "32    /scratch-shared/amftrack/stitch_temp2/20220702...   510        11   \n",
       "40    /scratch-shared/amftrack/stitch_temp2/20220701...   510        11   \n",
       "61    /scratch-shared/amftrack/stitch_temp2/20220708...   510        11   \n",
       "69    /scratch-shared/amftrack/stitch_temp2/20220624...   510        11   \n",
       "...                                                 ...   ...       ...   \n",
       "1567  /scratch-shared/amftrack/stitch_temp2/20220704...   510        11   \n",
       "1568  /scratch-shared/amftrack/stitch_temp2/20220717...   510        11   \n",
       "1574  /scratch-shared/amftrack/stitch_temp2/20220708...   510        11   \n",
       "1576  /scratch-shared/amftrack/stitch_temp2/20220717...   510        11   \n",
       "1590  /scratch-shared/amftrack/stitch_temp2/20220707...   510        11   \n",
       "\n",
       "        root strain medium split Pbait CrossDate Temperature  ...  \\\n",
       "17    'None'   'C2'  'Myr'   'Y'   '-'  20220623          25  ...   \n",
       "32    'None'   'C2'  'Myr'   'Y'   '-'  20220623          25  ...   \n",
       "40    'None'   'C2'  'Myr'   'Y'   '-'  20220623          25  ...   \n",
       "61    'None'   'C2'  'Myr'   'Y'   '-'  20220623          25  ...   \n",
       "69    'None'   'C2'  'Myr'   'Y'   '-'  20220623          25  ...   \n",
       "...      ...    ...    ...   ...   ...       ...         ...  ...   \n",
       "1567  'None'   'C2'  'Myr'   'Y'   '-'  20220623          25  ...   \n",
       "1568  'None'   'C2'  'Myr'   'Y'   '-'  20220623          25  ...   \n",
       "1574  'None'   'C2'  'Myr'   'Y'   '-'  20220623          25  ...   \n",
       "1576  'None'   'C2'  'Myr'   'Y'   '-'  20220623          25  ...   \n",
       "1590  'None'   'C2'  'Myr'   'Y'   '-'  20220623          25  ...   \n",
       "\n",
       "     /Analysis/transform.mat /Analysis/transform_corrupt.mat  \\\n",
       "17                      True                           False   \n",
       "32                      True                           False   \n",
       "40                      True                           False   \n",
       "61                      True                           False   \n",
       "69                      True                           False   \n",
       "...                      ...                             ...   \n",
       "1567                    True                           False   \n",
       "1568                    True                           False   \n",
       "1574                    True                           False   \n",
       "1576                    True                           False   \n",
       "1590                    True                           False   \n",
       "\n",
       "     /Analysis/skeleton_realigned_compressed.mat /Analysis/nx_graph_pruned.p  \\\n",
       "17                                          True                        True   \n",
       "32                                          True                        True   \n",
       "40                                          True                        True   \n",
       "61                                          True                        True   \n",
       "69                                          True                        True   \n",
       "...                                          ...                         ...   \n",
       "1567                                        True                        True   \n",
       "1568                                       False                       False   \n",
       "1574                                        True                        True   \n",
       "1576                                       False                       False   \n",
       "1590                                        True                        True   \n",
       "\n",
       "     /Analysis/nx_graph_pruned_width.p /Analysis/nx_graph_pruned_labeled.p  \\\n",
       "17                                True                                True   \n",
       "32                                True                                True   \n",
       "40                                True                                True   \n",
       "61                                True                                True   \n",
       "69                                True                                True   \n",
       "...                                ...                                 ...   \n",
       "1567                              True                                True   \n",
       "1568                             False                               False   \n",
       "1574                              True                                True   \n",
       "1576                             False                               False   \n",
       "1590                              True                                True   \n",
       "\n",
       "                    date                 folder     unique_id  \\\n",
       "17    09.07.2022, 02:00:  20220709_0200_Plate11  510_20220623   \n",
       "32    02.07.2022, 17:39:  20220702_1739_Plate11  510_20220623   \n",
       "40    01.07.2022, 11:39:  20220701_1139_Plate11  510_20220623   \n",
       "61    08.07.2022, 17:59:  20220708_1759_Plate11  510_20220623   \n",
       "69    24.06.2022, 20:36:  20220624_2036_Plate11  510_20220623   \n",
       "...                  ...                    ...           ...   \n",
       "1567  04.07.2022, 05:40:  20220704_0540_Plate11  510_20220623   \n",
       "1568  17.07.2022, 23:11:  20220717_2311_Plate11  510_20220623   \n",
       "1574  08.07.2022, 11:21:  20220708_1121_Plate11  510_20220623   \n",
       "1576  17.07.2022, 01:11:  20220717_0111_Plate11  510_20220623   \n",
       "1590  07.07.2022, 08:54:  20220707_0854_Plate11  510_20220623   \n",
       "\n",
       "                datetime  \n",
       "17   2022-07-09 02:00:00  \n",
       "32   2022-07-02 17:39:00  \n",
       "40   2022-07-01 11:39:00  \n",
       "61   2022-07-08 17:59:00  \n",
       "69   2022-06-24 20:36:00  \n",
       "...                  ...  \n",
       "1567 2022-07-04 05:40:00  \n",
       "1568 2022-07-17 23:11:00  \n",
       "1574 2022-07-08 11:21:00  \n",
       "1576 2022-07-17 01:11:00  \n",
       "1590 2022-07-07 08:54:00  \n",
       "\n",
       "[237 rows x 24 columns]"
      ]
     },
     "execution_count": 6,
     "metadata": {},
     "output_type": "execute_result"
    }
   ],
   "source": [
    "all_folders\n",
    "folders = all_folders.loc[all_folders[\"unique_id\"].isin(plates)]\n",
    "folders"
   ]
  },
  {
   "cell_type": "code",
   "execution_count": 45,
   "id": "5f3b7634-849b-4444-bf55-c44c63777d53",
   "metadata": {
    "tags": []
   },
   "outputs": [
    {
     "data": {
      "application/vnd.jupyter.widget-view+json": {
       "model_id": "58db678871c440f2817ae725909f63bf",
       "version_major": 2,
       "version_minor": 0
      },
      "text/plain": [
       "analysed:   0%|          | 0/1863 [00:00<?, ?it/s]"
      ]
     },
     "metadata": {},
     "output_type": "display_data"
    }
   ],
   "source": [
    "update_plate_info(directory_targ, local=True)\n",
    "all_folders = get_current_folders(directory_targ, local=True)\n",
    "# folders = all_folders.loc[all_folders[\"unique_id\"].isin(plates)]\n",
    "# folders = folders.loc[folders[\"/Analysis/skeleton_pruned_compressed.mat\"]==True]"
   ]
  },
  {
   "cell_type": "code",
   "execution_count": 24,
   "id": "3836a290-1e81-45c9-a41d-ab57be5ec2c1",
   "metadata": {},
   "outputs": [],
   "source": [
    "folders = all_folders.loc[all_folders[\"unique_id\"].isin(plates)]"
   ]
  },
  {
   "cell_type": "code",
   "execution_count": 46,
   "id": "5d7f5622-0995-4bc4-9f1a-665e35b9425b",
   "metadata": {
    "tags": []
   },
   "outputs": [],
   "source": [
    "folders = all_folders.loc[all_folders[\"Plate\"].isin(['32'])]"
   ]
  },
  {
   "cell_type": "code",
   "execution_count": 47,
   "id": "3bce3711-f0df-422d-8ebf-a43a23e1a840",
   "metadata": {
    "tags": []
   },
   "outputs": [
    {
     "data": {
      "text/html": [
       "<div>\n",
       "<style scoped>\n",
       "    .dataframe tbody tr th:only-of-type {\n",
       "        vertical-align: middle;\n",
       "    }\n",
       "\n",
       "    .dataframe tbody tr th {\n",
       "        vertical-align: top;\n",
       "    }\n",
       "\n",
       "    .dataframe thead th {\n",
       "        text-align: right;\n",
       "    }\n",
       "</style>\n",
       "<table border=\"1\" class=\"dataframe\">\n",
       "  <thead>\n",
       "    <tr style=\"text-align: right;\">\n",
       "      <th></th>\n",
       "      <th>total_path</th>\n",
       "      <th>Plate</th>\n",
       "      <th>PrincePos</th>\n",
       "      <th>root</th>\n",
       "      <th>strain</th>\n",
       "      <th>medium</th>\n",
       "      <th>split</th>\n",
       "      <th>Pbait</th>\n",
       "      <th>CrossDate</th>\n",
       "      <th>Temperature</th>\n",
       "      <th>...</th>\n",
       "      <th>/Analysis/transform.mat</th>\n",
       "      <th>/Analysis/transform_corrupt.mat</th>\n",
       "      <th>/Analysis/skeleton_realigned_compressed.mat</th>\n",
       "      <th>/Analysis/nx_graph_pruned.p</th>\n",
       "      <th>/Analysis/nx_graph_pruned_width.p</th>\n",
       "      <th>/Analysis/nx_graph_pruned_labeled.p</th>\n",
       "      <th>date</th>\n",
       "      <th>folder</th>\n",
       "      <th>unique_id</th>\n",
       "      <th>datetime</th>\n",
       "    </tr>\n",
       "  </thead>\n",
       "  <tbody>\n",
       "    <tr>\n",
       "      <th>12</th>\n",
       "      <td>/scratch-shared/amftrack/stitch_temp2/20220608...</td>\n",
       "      <td>32</td>\n",
       "      <td>38</td>\n",
       "      <td>'Carrot'</td>\n",
       "      <td>'Agg'</td>\n",
       "      <td>'001P100N100C'</td>\n",
       "      <td>'Y'</td>\n",
       "      <td>'-'</td>\n",
       "      <td>20220428</td>\n",
       "      <td>25</td>\n",
       "      <td>...</td>\n",
       "      <td>True</td>\n",
       "      <td>False</td>\n",
       "      <td>True</td>\n",
       "      <td>True</td>\n",
       "      <td>True</td>\n",
       "      <td>True</td>\n",
       "      <td>08.06.2022, 10:55:</td>\n",
       "      <td>20220608_1055_Plate38</td>\n",
       "      <td>32_20220428</td>\n",
       "      <td>2022-06-08 10:55:00</td>\n",
       "    </tr>\n",
       "    <tr>\n",
       "      <th>24</th>\n",
       "      <td>/scratch-shared/amftrack/stitch_temp2/20220525...</td>\n",
       "      <td>32</td>\n",
       "      <td>38</td>\n",
       "      <td>'Carrot'</td>\n",
       "      <td>'Agg'</td>\n",
       "      <td>'001P100N100C'</td>\n",
       "      <td>'Y'</td>\n",
       "      <td>'-'</td>\n",
       "      <td>20220428</td>\n",
       "      <td>25</td>\n",
       "      <td>...</td>\n",
       "      <td>True</td>\n",
       "      <td>False</td>\n",
       "      <td>True</td>\n",
       "      <td>True</td>\n",
       "      <td>True</td>\n",
       "      <td>True</td>\n",
       "      <td>25.05.2022, 15:36:</td>\n",
       "      <td>20220525_1536_Plate38</td>\n",
       "      <td>32_20220428</td>\n",
       "      <td>2022-05-25 15:36:00</td>\n",
       "    </tr>\n",
       "    <tr>\n",
       "      <th>36</th>\n",
       "      <td>/scratch-shared/amftrack/stitch_temp2/20220512...</td>\n",
       "      <td>32</td>\n",
       "      <td>20</td>\n",
       "      <td>'Carrot'</td>\n",
       "      <td>'Agg'</td>\n",
       "      <td>'001P100N100C'</td>\n",
       "      <td>'Y'</td>\n",
       "      <td>'-'</td>\n",
       "      <td>20220428</td>\n",
       "      <td>25</td>\n",
       "      <td>...</td>\n",
       "      <td>True</td>\n",
       "      <td>False</td>\n",
       "      <td>True</td>\n",
       "      <td>True</td>\n",
       "      <td>True</td>\n",
       "      <td>True</td>\n",
       "      <td>12.05.2022, 07:53:</td>\n",
       "      <td>20220512_0753_Plate20</td>\n",
       "      <td>32_20220428</td>\n",
       "      <td>2022-05-12 07:53:00</td>\n",
       "    </tr>\n",
       "    <tr>\n",
       "      <th>41</th>\n",
       "      <td>/scratch-shared/amftrack/stitch_temp2/20220507...</td>\n",
       "      <td>32</td>\n",
       "      <td>20</td>\n",
       "      <td>'Carrot'</td>\n",
       "      <td>'Agg'</td>\n",
       "      <td>'001P100N100C'</td>\n",
       "      <td>'Y'</td>\n",
       "      <td>'-'</td>\n",
       "      <td>20220428</td>\n",
       "      <td>25</td>\n",
       "      <td>...</td>\n",
       "      <td>True</td>\n",
       "      <td>False</td>\n",
       "      <td>True</td>\n",
       "      <td>True</td>\n",
       "      <td>True</td>\n",
       "      <td>True</td>\n",
       "      <td>07.05.2022, 10:42:</td>\n",
       "      <td>20220507_1042_Plate20</td>\n",
       "      <td>32_20220428</td>\n",
       "      <td>2022-05-07 10:42:00</td>\n",
       "    </tr>\n",
       "    <tr>\n",
       "      <th>43</th>\n",
       "      <td>/scratch-shared/amftrack/stitch_temp2/20220509...</td>\n",
       "      <td>32</td>\n",
       "      <td>20</td>\n",
       "      <td>'Carrot'</td>\n",
       "      <td>'Agg'</td>\n",
       "      <td>'001P100N100C'</td>\n",
       "      <td>'Y'</td>\n",
       "      <td>'-'</td>\n",
       "      <td>20220428</td>\n",
       "      <td>25</td>\n",
       "      <td>...</td>\n",
       "      <td>True</td>\n",
       "      <td>False</td>\n",
       "      <td>True</td>\n",
       "      <td>True</td>\n",
       "      <td>True</td>\n",
       "      <td>True</td>\n",
       "      <td>09.05.2022, 12:30:</td>\n",
       "      <td>20220509_1230_Plate20</td>\n",
       "      <td>32_20220428</td>\n",
       "      <td>2022-05-09 12:30:00</td>\n",
       "    </tr>\n",
       "    <tr>\n",
       "      <th>...</th>\n",
       "      <td>...</td>\n",
       "      <td>...</td>\n",
       "      <td>...</td>\n",
       "      <td>...</td>\n",
       "      <td>...</td>\n",
       "      <td>...</td>\n",
       "      <td>...</td>\n",
       "      <td>...</td>\n",
       "      <td>...</td>\n",
       "      <td>...</td>\n",
       "      <td>...</td>\n",
       "      <td>...</td>\n",
       "      <td>...</td>\n",
       "      <td>...</td>\n",
       "      <td>...</td>\n",
       "      <td>...</td>\n",
       "      <td>...</td>\n",
       "      <td>...</td>\n",
       "      <td>...</td>\n",
       "      <td>...</td>\n",
       "      <td>...</td>\n",
       "    </tr>\n",
       "    <tr>\n",
       "      <th>1544</th>\n",
       "      <td>/scratch-shared/amftrack/stitch_temp2/20220524...</td>\n",
       "      <td>32</td>\n",
       "      <td>38</td>\n",
       "      <td>'Carrot'</td>\n",
       "      <td>'Agg'</td>\n",
       "      <td>'001P100N100C'</td>\n",
       "      <td>'Y'</td>\n",
       "      <td>'-'</td>\n",
       "      <td>20220428</td>\n",
       "      <td>25</td>\n",
       "      <td>...</td>\n",
       "      <td>True</td>\n",
       "      <td>False</td>\n",
       "      <td>True</td>\n",
       "      <td>True</td>\n",
       "      <td>True</td>\n",
       "      <td>True</td>\n",
       "      <td>24.05.2022, 21:34:</td>\n",
       "      <td>20220524_2134_Plate38</td>\n",
       "      <td>32_20220428</td>\n",
       "      <td>2022-05-24 21:34:00</td>\n",
       "    </tr>\n",
       "    <tr>\n",
       "      <th>1555</th>\n",
       "      <td>/scratch-shared/amftrack/stitch_temp2/20220503...</td>\n",
       "      <td>32</td>\n",
       "      <td>20</td>\n",
       "      <td>'Carrot'</td>\n",
       "      <td>'Agg'</td>\n",
       "      <td>'001P100N100C'</td>\n",
       "      <td>'Y'</td>\n",
       "      <td>'-'</td>\n",
       "      <td>20220428</td>\n",
       "      <td>25</td>\n",
       "      <td>...</td>\n",
       "      <td>True</td>\n",
       "      <td>False</td>\n",
       "      <td>True</td>\n",
       "      <td>True</td>\n",
       "      <td>True</td>\n",
       "      <td>True</td>\n",
       "      <td>03.05.2022, 22:02:</td>\n",
       "      <td>20220503_2202_Plate20</td>\n",
       "      <td>32_20220428</td>\n",
       "      <td>2022-05-03 22:02:00</td>\n",
       "    </tr>\n",
       "    <tr>\n",
       "      <th>1556</th>\n",
       "      <td>/scratch-shared/amftrack/stitch_temp2/20220501...</td>\n",
       "      <td>32</td>\n",
       "      <td>20</td>\n",
       "      <td>'Carrot'</td>\n",
       "      <td>'Agg'</td>\n",
       "      <td>'001P100N100C'</td>\n",
       "      <td>'Y'</td>\n",
       "      <td>'-'</td>\n",
       "      <td>20220428</td>\n",
       "      <td>25</td>\n",
       "      <td>...</td>\n",
       "      <td>True</td>\n",
       "      <td>False</td>\n",
       "      <td>True</td>\n",
       "      <td>True</td>\n",
       "      <td>True</td>\n",
       "      <td>True</td>\n",
       "      <td>01.05.2022, 23:37:</td>\n",
       "      <td>20220501_2337_Plate20</td>\n",
       "      <td>32_20220428</td>\n",
       "      <td>2022-05-01 23:37:00</td>\n",
       "    </tr>\n",
       "    <tr>\n",
       "      <th>1557</th>\n",
       "      <td>/scratch-shared/amftrack/stitch_temp2/20220505...</td>\n",
       "      <td>32</td>\n",
       "      <td>20</td>\n",
       "      <td>'Carrot'</td>\n",
       "      <td>'Agg'</td>\n",
       "      <td>'001P100N100C'</td>\n",
       "      <td>'Y'</td>\n",
       "      <td>'-'</td>\n",
       "      <td>20220428</td>\n",
       "      <td>25</td>\n",
       "      <td>...</td>\n",
       "      <td>True</td>\n",
       "      <td>False</td>\n",
       "      <td>True</td>\n",
       "      <td>True</td>\n",
       "      <td>True</td>\n",
       "      <td>True</td>\n",
       "      <td>05.05.2022, 19:47:</td>\n",
       "      <td>20220505_1947_Plate20</td>\n",
       "      <td>32_20220428</td>\n",
       "      <td>2022-05-05 19:47:00</td>\n",
       "    </tr>\n",
       "    <tr>\n",
       "      <th>1566</th>\n",
       "      <td>/scratch-shared/amftrack/stitch_temp2/20220531...</td>\n",
       "      <td>32</td>\n",
       "      <td>38</td>\n",
       "      <td>'Carrot'</td>\n",
       "      <td>'Agg'</td>\n",
       "      <td>'001P100N100C'</td>\n",
       "      <td>'Y'</td>\n",
       "      <td>'-'</td>\n",
       "      <td>20220428</td>\n",
       "      <td>25</td>\n",
       "      <td>...</td>\n",
       "      <td>True</td>\n",
       "      <td>False</td>\n",
       "      <td>True</td>\n",
       "      <td>True</td>\n",
       "      <td>True</td>\n",
       "      <td>True</td>\n",
       "      <td>31.05.2022, 06:17:</td>\n",
       "      <td>20220531_0617_Plate38</td>\n",
       "      <td>32_20220428</td>\n",
       "      <td>2022-05-31 06:17:00</td>\n",
       "    </tr>\n",
       "  </tbody>\n",
       "</table>\n",
       "<p>292 rows × 24 columns</p>\n",
       "</div>"
      ],
      "text/plain": [
       "                                             total_path Plate PrincePos  \\\n",
       "12    /scratch-shared/amftrack/stitch_temp2/20220608...    32        38   \n",
       "24    /scratch-shared/amftrack/stitch_temp2/20220525...    32        38   \n",
       "36    /scratch-shared/amftrack/stitch_temp2/20220512...    32        20   \n",
       "41    /scratch-shared/amftrack/stitch_temp2/20220507...    32        20   \n",
       "43    /scratch-shared/amftrack/stitch_temp2/20220509...    32        20   \n",
       "...                                                 ...   ...       ...   \n",
       "1544  /scratch-shared/amftrack/stitch_temp2/20220524...    32        38   \n",
       "1555  /scratch-shared/amftrack/stitch_temp2/20220503...    32        20   \n",
       "1556  /scratch-shared/amftrack/stitch_temp2/20220501...    32        20   \n",
       "1557  /scratch-shared/amftrack/stitch_temp2/20220505...    32        20   \n",
       "1566  /scratch-shared/amftrack/stitch_temp2/20220531...    32        38   \n",
       "\n",
       "          root strain          medium split Pbait CrossDate Temperature  ...  \\\n",
       "12    'Carrot'  'Agg'  '001P100N100C'   'Y'   '-'  20220428          25  ...   \n",
       "24    'Carrot'  'Agg'  '001P100N100C'   'Y'   '-'  20220428          25  ...   \n",
       "36    'Carrot'  'Agg'  '001P100N100C'   'Y'   '-'  20220428          25  ...   \n",
       "41    'Carrot'  'Agg'  '001P100N100C'   'Y'   '-'  20220428          25  ...   \n",
       "43    'Carrot'  'Agg'  '001P100N100C'   'Y'   '-'  20220428          25  ...   \n",
       "...        ...    ...             ...   ...   ...       ...         ...  ...   \n",
       "1544  'Carrot'  'Agg'  '001P100N100C'   'Y'   '-'  20220428          25  ...   \n",
       "1555  'Carrot'  'Agg'  '001P100N100C'   'Y'   '-'  20220428          25  ...   \n",
       "1556  'Carrot'  'Agg'  '001P100N100C'   'Y'   '-'  20220428          25  ...   \n",
       "1557  'Carrot'  'Agg'  '001P100N100C'   'Y'   '-'  20220428          25  ...   \n",
       "1566  'Carrot'  'Agg'  '001P100N100C'   'Y'   '-'  20220428          25  ...   \n",
       "\n",
       "     /Analysis/transform.mat /Analysis/transform_corrupt.mat  \\\n",
       "12                      True                           False   \n",
       "24                      True                           False   \n",
       "36                      True                           False   \n",
       "41                      True                           False   \n",
       "43                      True                           False   \n",
       "...                      ...                             ...   \n",
       "1544                    True                           False   \n",
       "1555                    True                           False   \n",
       "1556                    True                           False   \n",
       "1557                    True                           False   \n",
       "1566                    True                           False   \n",
       "\n",
       "     /Analysis/skeleton_realigned_compressed.mat /Analysis/nx_graph_pruned.p  \\\n",
       "12                                          True                        True   \n",
       "24                                          True                        True   \n",
       "36                                          True                        True   \n",
       "41                                          True                        True   \n",
       "43                                          True                        True   \n",
       "...                                          ...                         ...   \n",
       "1544                                        True                        True   \n",
       "1555                                        True                        True   \n",
       "1556                                        True                        True   \n",
       "1557                                        True                        True   \n",
       "1566                                        True                        True   \n",
       "\n",
       "     /Analysis/nx_graph_pruned_width.p /Analysis/nx_graph_pruned_labeled.p  \\\n",
       "12                                True                                True   \n",
       "24                                True                                True   \n",
       "36                                True                                True   \n",
       "41                                True                                True   \n",
       "43                                True                                True   \n",
       "...                                ...                                 ...   \n",
       "1544                              True                                True   \n",
       "1555                              True                                True   \n",
       "1556                              True                                True   \n",
       "1557                              True                                True   \n",
       "1566                              True                                True   \n",
       "\n",
       "                    date                 folder    unique_id  \\\n",
       "12    08.06.2022, 10:55:  20220608_1055_Plate38  32_20220428   \n",
       "24    25.05.2022, 15:36:  20220525_1536_Plate38  32_20220428   \n",
       "36    12.05.2022, 07:53:  20220512_0753_Plate20  32_20220428   \n",
       "41    07.05.2022, 10:42:  20220507_1042_Plate20  32_20220428   \n",
       "43    09.05.2022, 12:30:  20220509_1230_Plate20  32_20220428   \n",
       "...                  ...                    ...          ...   \n",
       "1544  24.05.2022, 21:34:  20220524_2134_Plate38  32_20220428   \n",
       "1555  03.05.2022, 22:02:  20220503_2202_Plate20  32_20220428   \n",
       "1556  01.05.2022, 23:37:  20220501_2337_Plate20  32_20220428   \n",
       "1557  05.05.2022, 19:47:  20220505_1947_Plate20  32_20220428   \n",
       "1566  31.05.2022, 06:17:  20220531_0617_Plate38  32_20220428   \n",
       "\n",
       "                datetime  \n",
       "12   2022-06-08 10:55:00  \n",
       "24   2022-05-25 15:36:00  \n",
       "36   2022-05-12 07:53:00  \n",
       "41   2022-05-07 10:42:00  \n",
       "43   2022-05-09 12:30:00  \n",
       "...                  ...  \n",
       "1544 2022-05-24 21:34:00  \n",
       "1555 2022-05-03 22:02:00  \n",
       "1556 2022-05-01 23:37:00  \n",
       "1557 2022-05-05 19:47:00  \n",
       "1566 2022-05-31 06:17:00  \n",
       "\n",
       "[292 rows x 24 columns]"
      ]
     },
     "execution_count": 47,
     "metadata": {},
     "output_type": "execute_result"
    }
   ],
   "source": [
    "folders"
   ]
  },
  {
   "cell_type": "code",
   "execution_count": 38,
   "id": "e7cc3399-a694-45a7-9cf8-4b646ca416b4",
   "metadata": {},
   "outputs": [
    {
     "data": {
      "text/plain": [
       "array(['89_20220705', '839_20220325', '33_20220502', '91_20220708',\n",
       "       '1076_20220511', '52_20220707', '56_20220701', '81_20220704',\n",
       "       '30_20220509', 'nan_nan', '32_20220428'], dtype=object)"
      ]
     },
     "execution_count": 38,
     "metadata": {},
     "output_type": "execute_result"
    }
   ],
   "source": [
    "all_folders['unique_id'].unique()"
   ]
  },
  {
   "cell_type": "code",
   "execution_count": 18,
   "id": "4e9031cc-0eeb-4a4a-af90-a7ce785aa615",
   "metadata": {},
   "outputs": [
    {
     "data": {
      "text/plain": [
       "array(['20220816_0604_Plate06', '20220816_0804_Plate06',\n",
       "       '20220816_1004_Plate06', '20220816_1204_Plate06',\n",
       "       '20220816_1404_Plate06', '20220816_1604_Plate06',\n",
       "       '20220816_1804_Plate06', '20220816_2004_Plate06',\n",
       "       '20220816_2204_Plate06', '20220817_0004_Plate06',\n",
       "       '20220817_0204_Plate06', '20220817_0404_Plate06',\n",
       "       '20220817_0604_Plate06', '20220817_0804_Plate06',\n",
       "       '20220817_1004_Plate06', '20220817_1204_Plate06',\n",
       "       '20220817_1404_Plate06', '20220817_1604_Plate06',\n",
       "       '20220817_1804_Plate06', '20220817_2004_Plate06',\n",
       "       '20220817_2204_Plate06', '20220818_1352_Plate06',\n",
       "       '20220818_2352_Plate06', '20220819_0352_Plate06',\n",
       "       '20220819_1255_Plate06', '20220819_2255_Plate06',\n",
       "       '20220820_0855_Plate06', '20220821_2255_Plate06',\n",
       "       '20220826_1838_Plate06', '20220827_0638_Plate06',\n",
       "       '20220827_2038_Plate06', '20220828_0638_Plate06',\n",
       "       '20220828_1438_Plate06', '20220829_2309_Plate26',\n",
       "       '20220830_2315_Plate26', '20220831_0715_Plate26',\n",
       "       '20220831_1514_Plate26', '20220831_2315_Plate26',\n",
       "       '20220901_0715_Plate26', '20220902_0027_Plate26',\n",
       "       '20220902_0827_Plate26', '20220902_1627_Plate26',\n",
       "       '20220903_0027_Plate26', '20220903_0827_Plate26',\n",
       "       '20220903_1627_Plate26', '20220904_0027_Plate26',\n",
       "       '20220904_0827_Plate26', '20220904_1627_Plate26',\n",
       "       '20220905_0027_Plate26', '20220905_0827_Plate26',\n",
       "       '20220906_0026_Plate26', '20220906_0826_Plate26',\n",
       "       '20220907_0017_Plate26', '20220907_0817_Plate26',\n",
       "       '20220907_1614_Plate26', '20220908_0014_Plate26',\n",
       "       '20220908_0814_Plate26', '20220908_1608_Plate26',\n",
       "       '20220909_0008_Plate26', '20220909_0808_Plate26',\n",
       "       '20220909_1608_Plate26', '20220910_0011_Plate26',\n",
       "       '20220910_0811_Plate26', '20220910_1611_Plate26',\n",
       "       '20220911_0011_Plate26', '20220911_0811_Plate26',\n",
       "       '20220911_1611_Plate26', '20220912_0011_Plate26',\n",
       "       '20220912_0811_Plate26', '20220912_1611_Plate26',\n",
       "       '20220913_0014_Plate26', '20220914_2021_Plate26',\n",
       "       '20220915_0421_Plate26', '20220915_1221_Plate26',\n",
       "       '20220915_2021_Plate26', '20220916_0421_Plate26',\n",
       "       '20220916_1221_Plate26', '20220916_2021_Plate26',\n",
       "       '20220917_0421_Plate26', '20220918_0426_Plate26',\n",
       "       '20220918_1226_Plate26', '20220918_2026_Plate26',\n",
       "       '20220919_0426_Plate26', '20220919_1225_Plate26',\n",
       "       '20220919_2026_Plate26', '20220920_0426_Plate26',\n",
       "       '20220920_1223_Plate26', '20220920_2023_Plate26',\n",
       "       '20220921_0423_Plate26', '20220921_1223_Plate26',\n",
       "       '20220921_2023_Plate26', '20220922_0423_Plate26',\n",
       "       '20220922_1223_Plate26', '20220922_2023_Plate26',\n",
       "       '20220923_0423_Plate26', '20220923_1223_Plate26',\n",
       "       '20220923_2026_Plate26', '20220924_0426_Plate26',\n",
       "       '20220924_1226_Plate26', '20220924_2026_Plate26',\n",
       "       '20220925_0426_Plate26', '20220925_1226_Plate26',\n",
       "       '20220925_2026_Plate26', '20220926_0426_Plate26',\n",
       "       '20220926_1452_Plate26'], dtype=object)"
      ]
     },
     "execution_count": 18,
     "metadata": {},
     "output_type": "execute_result"
    }
   ],
   "source": [
    "folders.sort_values(\"folder\")['folder'].values"
   ]
  },
  {
   "cell_type": "code",
   "execution_count": 27,
   "id": "9d6a18ac-a532-4e35-8bf8-ce1c879d0a2c",
   "metadata": {},
   "outputs": [],
   "source": [
    "import shutil\n",
    "\n",
    "for path in folders[\"total_path\"]:\n",
    "    shutil.rmtree(path)"
   ]
  },
  {
   "cell_type": "code",
   "execution_count": 22,
   "id": "073513ed-9289-4e3a-8859-9e5790a9c6a6",
   "metadata": {
    "tags": []
   },
   "outputs": [],
   "source": [
    "plates = all_folders.loc[\n",
    "    all_folders[\"unique_id\"].str.split(\"_\", expand=True)[1] == \"20220623\"\n",
    "][\"unique_id\"].unique()"
   ]
  },
  {
   "cell_type": "code",
   "execution_count": 23,
   "id": "14919533-02ab-4449-ae51-755b9118b051",
   "metadata": {},
   "outputs": [
    {
     "data": {
      "text/plain": [
       "array(['507_20220623', '510_20220623', '509_20220623', '508_20220623',\n",
       "       '502_20220623', '515_20220623'], dtype=object)"
      ]
     },
     "execution_count": 23,
     "metadata": {},
     "output_type": "execute_result"
    }
   ],
   "source": [
    "plates"
   ]
  },
  {
   "cell_type": "code",
   "execution_count": 8,
   "id": "14ed22fb-6a96-423a-bd9f-16d9c6bc48c5",
   "metadata": {
    "collapsed": true,
    "jupyter": {
     "outputs_hidden": true
    },
    "tags": []
   },
   "outputs": [
    {
     "data": {
      "text/html": [
       "<div>\n",
       "<style scoped>\n",
       "    .dataframe tbody tr th:only-of-type {\n",
       "        vertical-align: middle;\n",
       "    }\n",
       "\n",
       "    .dataframe tbody tr th {\n",
       "        vertical-align: top;\n",
       "    }\n",
       "\n",
       "    .dataframe thead th {\n",
       "        text-align: right;\n",
       "    }\n",
       "</style>\n",
       "<table border=\"1\" class=\"dataframe\">\n",
       "  <thead>\n",
       "    <tr style=\"text-align: right;\">\n",
       "      <th></th>\n",
       "      <th>total_path</th>\n",
       "      <th>Plate</th>\n",
       "      <th>PrincePos</th>\n",
       "      <th>root</th>\n",
       "      <th>strain</th>\n",
       "      <th>medium</th>\n",
       "      <th>split</th>\n",
       "      <th>Pbait</th>\n",
       "      <th>CrossDate</th>\n",
       "      <th>Temperature</th>\n",
       "      <th>...</th>\n",
       "      <th>/Analysis/transform.mat</th>\n",
       "      <th>/Analysis/transform_corrupt.mat</th>\n",
       "      <th>/Analysis/skeleton_realigned_compressed.mat</th>\n",
       "      <th>/Analysis/nx_graph_pruned.p</th>\n",
       "      <th>/Analysis/nx_graph_pruned_width.p</th>\n",
       "      <th>/Analysis/nx_graph_pruned_labeled.p</th>\n",
       "      <th>date</th>\n",
       "      <th>folder</th>\n",
       "      <th>unique_id</th>\n",
       "      <th>datetime</th>\n",
       "    </tr>\n",
       "  </thead>\n",
       "  <tbody>\n",
       "    <tr>\n",
       "      <th>3</th>\n",
       "      <td>/scratch-shared/amftrack/stitch_temp/20220407_...</td>\n",
       "      <td>889</td>\n",
       "      <td>33</td>\n",
       "      <td>'Carrot'</td>\n",
       "      <td>'A5'</td>\n",
       "      <td>'001P100N100C'</td>\n",
       "      <td>'Y'</td>\n",
       "      <td>'-'</td>\n",
       "      <td>20220325</td>\n",
       "      <td>25</td>\n",
       "      <td>...</td>\n",
       "      <td>False</td>\n",
       "      <td>False</td>\n",
       "      <td>False</td>\n",
       "      <td>False</td>\n",
       "      <td>False</td>\n",
       "      <td>False</td>\n",
       "      <td>07.04.2022, 21:55:</td>\n",
       "      <td>20220407_2155_Plate33</td>\n",
       "      <td>889_20220325</td>\n",
       "      <td>2022-04-07 21:55:00</td>\n",
       "    </tr>\n",
       "    <tr>\n",
       "      <th>18</th>\n",
       "      <td>/scratch-shared/amftrack/stitch_temp/20220327_...</td>\n",
       "      <td>889</td>\n",
       "      <td>14</td>\n",
       "      <td>'Carrot'</td>\n",
       "      <td>'A5'</td>\n",
       "      <td>'001P100N100C'</td>\n",
       "      <td>'Y'</td>\n",
       "      <td>'-'</td>\n",
       "      <td>20220325</td>\n",
       "      <td>25</td>\n",
       "      <td>...</td>\n",
       "      <td>False</td>\n",
       "      <td>False</td>\n",
       "      <td>False</td>\n",
       "      <td>False</td>\n",
       "      <td>False</td>\n",
       "      <td>False</td>\n",
       "      <td>27.03.2022, 15:35:</td>\n",
       "      <td>20220327_1535_Plate14</td>\n",
       "      <td>889_20220325</td>\n",
       "      <td>2022-03-27 15:35:00</td>\n",
       "    </tr>\n",
       "    <tr>\n",
       "      <th>30</th>\n",
       "      <td>/scratch-shared/amftrack/stitch_temp/20220330_...</td>\n",
       "      <td>889</td>\n",
       "      <td>14</td>\n",
       "      <td>'Carrot'</td>\n",
       "      <td>'A5'</td>\n",
       "      <td>'001P100N100C'</td>\n",
       "      <td>'Y'</td>\n",
       "      <td>'-'</td>\n",
       "      <td>20220325</td>\n",
       "      <td>25</td>\n",
       "      <td>...</td>\n",
       "      <td>False</td>\n",
       "      <td>False</td>\n",
       "      <td>False</td>\n",
       "      <td>False</td>\n",
       "      <td>False</td>\n",
       "      <td>False</td>\n",
       "      <td>30.03.2022, 21:40:</td>\n",
       "      <td>20220330_2140_Plate14</td>\n",
       "      <td>889_20220325</td>\n",
       "      <td>2022-03-30 21:40:00</td>\n",
       "    </tr>\n",
       "    <tr>\n",
       "      <th>39</th>\n",
       "      <td>/scratch-shared/amftrack/stitch_temp/20220419_...</td>\n",
       "      <td>889</td>\n",
       "      <td>33</td>\n",
       "      <td>'Carrot'</td>\n",
       "      <td>'A5'</td>\n",
       "      <td>'001P100N100C'</td>\n",
       "      <td>'Y'</td>\n",
       "      <td>'-'</td>\n",
       "      <td>20220325</td>\n",
       "      <td>25</td>\n",
       "      <td>...</td>\n",
       "      <td>False</td>\n",
       "      <td>False</td>\n",
       "      <td>False</td>\n",
       "      <td>False</td>\n",
       "      <td>False</td>\n",
       "      <td>False</td>\n",
       "      <td>19.04.2022, 01:20:</td>\n",
       "      <td>20220419_0120_Plate33</td>\n",
       "      <td>889_20220325</td>\n",
       "      <td>2022-04-19 01:20:00</td>\n",
       "    </tr>\n",
       "    <tr>\n",
       "      <th>62</th>\n",
       "      <td>/scratch-shared/amftrack/stitch_temp/20220328_...</td>\n",
       "      <td>889</td>\n",
       "      <td>14</td>\n",
       "      <td>'Carrot'</td>\n",
       "      <td>'A5'</td>\n",
       "      <td>'001P100N100C'</td>\n",
       "      <td>'Y'</td>\n",
       "      <td>'-'</td>\n",
       "      <td>20220325</td>\n",
       "      <td>25</td>\n",
       "      <td>...</td>\n",
       "      <td>False</td>\n",
       "      <td>False</td>\n",
       "      <td>False</td>\n",
       "      <td>False</td>\n",
       "      <td>False</td>\n",
       "      <td>False</td>\n",
       "      <td>28.03.2022, 05:36:</td>\n",
       "      <td>20220328_0536_Plate14</td>\n",
       "      <td>889_20220325</td>\n",
       "      <td>2022-03-28 05:36:00</td>\n",
       "    </tr>\n",
       "    <tr>\n",
       "      <th>64</th>\n",
       "      <td>/scratch-shared/amftrack/stitch_temp/20220415_...</td>\n",
       "      <td>889</td>\n",
       "      <td>33</td>\n",
       "      <td>'Carrot'</td>\n",
       "      <td>'A5'</td>\n",
       "      <td>'001P100N100C'</td>\n",
       "      <td>'Y'</td>\n",
       "      <td>'-'</td>\n",
       "      <td>20220325</td>\n",
       "      <td>25</td>\n",
       "      <td>...</td>\n",
       "      <td>False</td>\n",
       "      <td>False</td>\n",
       "      <td>False</td>\n",
       "      <td>False</td>\n",
       "      <td>False</td>\n",
       "      <td>False</td>\n",
       "      <td>15.04.2022, 05:55:</td>\n",
       "      <td>20220415_0555_Plate33</td>\n",
       "      <td>889_20220325</td>\n",
       "      <td>2022-04-15 05:55:00</td>\n",
       "    </tr>\n",
       "    <tr>\n",
       "      <th>86</th>\n",
       "      <td>/scratch-shared/amftrack/stitch_temp/20220401_...</td>\n",
       "      <td>889</td>\n",
       "      <td>14</td>\n",
       "      <td>'Carrot'</td>\n",
       "      <td>'A5'</td>\n",
       "      <td>'001P100N100C'</td>\n",
       "      <td>'Y'</td>\n",
       "      <td>'-'</td>\n",
       "      <td>20220325</td>\n",
       "      <td>25</td>\n",
       "      <td>...</td>\n",
       "      <td>False</td>\n",
       "      <td>False</td>\n",
       "      <td>False</td>\n",
       "      <td>False</td>\n",
       "      <td>False</td>\n",
       "      <td>False</td>\n",
       "      <td>01.04.2022, 18:45:</td>\n",
       "      <td>20220401_1845_Plate14</td>\n",
       "      <td>889_20220325</td>\n",
       "      <td>2022-04-01 18:45:00</td>\n",
       "    </tr>\n",
       "    <tr>\n",
       "      <th>98</th>\n",
       "      <td>/scratch-shared/amftrack/stitch_temp/20220330_...</td>\n",
       "      <td>889</td>\n",
       "      <td>14</td>\n",
       "      <td>'Carrot'</td>\n",
       "      <td>'A5'</td>\n",
       "      <td>'001P100N100C'</td>\n",
       "      <td>'Y'</td>\n",
       "      <td>'-'</td>\n",
       "      <td>20220325</td>\n",
       "      <td>25</td>\n",
       "      <td>...</td>\n",
       "      <td>False</td>\n",
       "      <td>False</td>\n",
       "      <td>False</td>\n",
       "      <td>False</td>\n",
       "      <td>False</td>\n",
       "      <td>False</td>\n",
       "      <td>30.03.2022, 23:40:</td>\n",
       "      <td>20220330_2340_Plate14</td>\n",
       "      <td>889_20220325</td>\n",
       "      <td>2022-03-30 23:40:00</td>\n",
       "    </tr>\n",
       "    <tr>\n",
       "      <th>101</th>\n",
       "      <td>/scratch-shared/amftrack/stitch_temp/20220329_...</td>\n",
       "      <td>889</td>\n",
       "      <td>14</td>\n",
       "      <td>'Carrot'</td>\n",
       "      <td>'A5'</td>\n",
       "      <td>'001P100N100C'</td>\n",
       "      <td>'Y'</td>\n",
       "      <td>'-'</td>\n",
       "      <td>20220325</td>\n",
       "      <td>25</td>\n",
       "      <td>...</td>\n",
       "      <td>False</td>\n",
       "      <td>False</td>\n",
       "      <td>False</td>\n",
       "      <td>False</td>\n",
       "      <td>False</td>\n",
       "      <td>False</td>\n",
       "      <td>29.03.2022, 21:10:</td>\n",
       "      <td>20220329_2110_Plate14</td>\n",
       "      <td>889_20220325</td>\n",
       "      <td>2022-03-29 21:10:00</td>\n",
       "    </tr>\n",
       "    <tr>\n",
       "      <th>112</th>\n",
       "      <td>/scratch-shared/amftrack/stitch_temp/20220418_...</td>\n",
       "      <td>889</td>\n",
       "      <td>33</td>\n",
       "      <td>'Carrot'</td>\n",
       "      <td>'A5'</td>\n",
       "      <td>'001P100N100C'</td>\n",
       "      <td>'Y'</td>\n",
       "      <td>'-'</td>\n",
       "      <td>20220325</td>\n",
       "      <td>25</td>\n",
       "      <td>...</td>\n",
       "      <td>False</td>\n",
       "      <td>False</td>\n",
       "      <td>False</td>\n",
       "      <td>False</td>\n",
       "      <td>False</td>\n",
       "      <td>False</td>\n",
       "      <td>18.04.2022, 01:20:</td>\n",
       "      <td>20220418_0120_Plate33</td>\n",
       "      <td>889_20220325</td>\n",
       "      <td>2022-04-18 01:20:00</td>\n",
       "    </tr>\n",
       "    <tr>\n",
       "      <th>127</th>\n",
       "      <td>/scratch-shared/amftrack/stitch_temp/20220417_...</td>\n",
       "      <td>889</td>\n",
       "      <td>33</td>\n",
       "      <td>'Carrot'</td>\n",
       "      <td>'A5'</td>\n",
       "      <td>'001P100N100C'</td>\n",
       "      <td>'Y'</td>\n",
       "      <td>'-'</td>\n",
       "      <td>20220325</td>\n",
       "      <td>25</td>\n",
       "      <td>...</td>\n",
       "      <td>False</td>\n",
       "      <td>False</td>\n",
       "      <td>False</td>\n",
       "      <td>False</td>\n",
       "      <td>False</td>\n",
       "      <td>False</td>\n",
       "      <td>17.04.2022, 01:20:</td>\n",
       "      <td>20220417_0120_Plate33</td>\n",
       "      <td>889_20220325</td>\n",
       "      <td>2022-04-17 01:20:00</td>\n",
       "    </tr>\n",
       "    <tr>\n",
       "      <th>144</th>\n",
       "      <td>/scratch-shared/amftrack/stitch_temp/20220417_...</td>\n",
       "      <td>889</td>\n",
       "      <td>33</td>\n",
       "      <td>'Carrot'</td>\n",
       "      <td>'A5'</td>\n",
       "      <td>'001P100N100C'</td>\n",
       "      <td>'Y'</td>\n",
       "      <td>'-'</td>\n",
       "      <td>20220325</td>\n",
       "      <td>25</td>\n",
       "      <td>...</td>\n",
       "      <td>False</td>\n",
       "      <td>False</td>\n",
       "      <td>False</td>\n",
       "      <td>False</td>\n",
       "      <td>False</td>\n",
       "      <td>False</td>\n",
       "      <td>17.04.2022, 13:20:</td>\n",
       "      <td>20220417_1320_Plate33</td>\n",
       "      <td>889_20220325</td>\n",
       "      <td>2022-04-17 13:20:00</td>\n",
       "    </tr>\n",
       "    <tr>\n",
       "      <th>178</th>\n",
       "      <td>/scratch-shared/amftrack/stitch_temp/20220326_...</td>\n",
       "      <td>889</td>\n",
       "      <td>14</td>\n",
       "      <td>'Carrot'</td>\n",
       "      <td>'A5'</td>\n",
       "      <td>'001P100N100C'</td>\n",
       "      <td>'Y'</td>\n",
       "      <td>'-'</td>\n",
       "      <td>20220325</td>\n",
       "      <td>25</td>\n",
       "      <td>...</td>\n",
       "      <td>False</td>\n",
       "      <td>False</td>\n",
       "      <td>False</td>\n",
       "      <td>False</td>\n",
       "      <td>False</td>\n",
       "      <td>False</td>\n",
       "      <td>26.03.2022, 15:35:</td>\n",
       "      <td>20220326_1535_Plate14</td>\n",
       "      <td>889_20220325</td>\n",
       "      <td>2022-03-26 15:35:00</td>\n",
       "    </tr>\n",
       "    <tr>\n",
       "      <th>196</th>\n",
       "      <td>/scratch-shared/amftrack/stitch_temp/20220416_...</td>\n",
       "      <td>889</td>\n",
       "      <td>33</td>\n",
       "      <td>'Carrot'</td>\n",
       "      <td>'A5'</td>\n",
       "      <td>'001P100N100C'</td>\n",
       "      <td>'Y'</td>\n",
       "      <td>'-'</td>\n",
       "      <td>20220325</td>\n",
       "      <td>25</td>\n",
       "      <td>...</td>\n",
       "      <td>False</td>\n",
       "      <td>False</td>\n",
       "      <td>False</td>\n",
       "      <td>False</td>\n",
       "      <td>False</td>\n",
       "      <td>False</td>\n",
       "      <td>16.04.2022, 13:20:</td>\n",
       "      <td>20220416_1320_Plate33</td>\n",
       "      <td>889_20220325</td>\n",
       "      <td>2022-04-16 13:20:00</td>\n",
       "    </tr>\n",
       "    <tr>\n",
       "      <th>207</th>\n",
       "      <td>/scratch-shared/amftrack/stitch_temp/20220326_...</td>\n",
       "      <td>889</td>\n",
       "      <td>14</td>\n",
       "      <td>'Carrot'</td>\n",
       "      <td>'A5'</td>\n",
       "      <td>'001P100N100C'</td>\n",
       "      <td>'Y'</td>\n",
       "      <td>'-'</td>\n",
       "      <td>20220325</td>\n",
       "      <td>25</td>\n",
       "      <td>...</td>\n",
       "      <td>False</td>\n",
       "      <td>False</td>\n",
       "      <td>False</td>\n",
       "      <td>False</td>\n",
       "      <td>False</td>\n",
       "      <td>False</td>\n",
       "      <td>26.03.2022, 01:37:</td>\n",
       "      <td>20220326_0137_Plate14</td>\n",
       "      <td>889_20220325</td>\n",
       "      <td>2022-03-26 01:37:00</td>\n",
       "    </tr>\n",
       "    <tr>\n",
       "      <th>227</th>\n",
       "      <td>/scratch-shared/amftrack/stitch_temp/20220406_...</td>\n",
       "      <td>889</td>\n",
       "      <td>14</td>\n",
       "      <td>'Carrot'</td>\n",
       "      <td>'A5'</td>\n",
       "      <td>'001P100N100C'</td>\n",
       "      <td>'Y'</td>\n",
       "      <td>'-'</td>\n",
       "      <td>20220325</td>\n",
       "      <td>25</td>\n",
       "      <td>...</td>\n",
       "      <td>False</td>\n",
       "      <td>False</td>\n",
       "      <td>False</td>\n",
       "      <td>False</td>\n",
       "      <td>False</td>\n",
       "      <td>False</td>\n",
       "      <td>06.04.2022, 06:00:</td>\n",
       "      <td>20220406_0600_Plate14</td>\n",
       "      <td>889_20220325</td>\n",
       "      <td>2022-04-06 06:00:00</td>\n",
       "    </tr>\n",
       "    <tr>\n",
       "      <th>229</th>\n",
       "      <td>/scratch-shared/amftrack/stitch_temp/20220407_...</td>\n",
       "      <td>889</td>\n",
       "      <td>14</td>\n",
       "      <td>'Carrot'</td>\n",
       "      <td>'A5'</td>\n",
       "      <td>'001P100N100C'</td>\n",
       "      <td>'Y'</td>\n",
       "      <td>'-'</td>\n",
       "      <td>20220325</td>\n",
       "      <td>25</td>\n",
       "      <td>...</td>\n",
       "      <td>False</td>\n",
       "      <td>False</td>\n",
       "      <td>False</td>\n",
       "      <td>False</td>\n",
       "      <td>False</td>\n",
       "      <td>False</td>\n",
       "      <td>07.04.2022, 04:46:</td>\n",
       "      <td>20220407_0446_Plate14</td>\n",
       "      <td>889_20220325</td>\n",
       "      <td>2022-04-07 04:46:00</td>\n",
       "    </tr>\n",
       "    <tr>\n",
       "      <th>244</th>\n",
       "      <td>/scratch-shared/amftrack/stitch_temp/20220418_...</td>\n",
       "      <td>889</td>\n",
       "      <td>33</td>\n",
       "      <td>'Carrot'</td>\n",
       "      <td>'A5'</td>\n",
       "      <td>'001P100N100C'</td>\n",
       "      <td>'Y'</td>\n",
       "      <td>'-'</td>\n",
       "      <td>20220325</td>\n",
       "      <td>25</td>\n",
       "      <td>...</td>\n",
       "      <td>False</td>\n",
       "      <td>False</td>\n",
       "      <td>False</td>\n",
       "      <td>False</td>\n",
       "      <td>False</td>\n",
       "      <td>False</td>\n",
       "      <td>18.04.2022, 13:20:</td>\n",
       "      <td>20220418_1320_Plate33</td>\n",
       "      <td>889_20220325</td>\n",
       "      <td>2022-04-18 13:20:00</td>\n",
       "    </tr>\n",
       "  </tbody>\n",
       "</table>\n",
       "<p>18 rows × 24 columns</p>\n",
       "</div>"
      ],
      "text/plain": [
       "                                            total_path Plate PrincePos  \\\n",
       "3    /scratch-shared/amftrack/stitch_temp/20220407_...   889        33   \n",
       "18   /scratch-shared/amftrack/stitch_temp/20220327_...   889        14   \n",
       "30   /scratch-shared/amftrack/stitch_temp/20220330_...   889        14   \n",
       "39   /scratch-shared/amftrack/stitch_temp/20220419_...   889        33   \n",
       "62   /scratch-shared/amftrack/stitch_temp/20220328_...   889        14   \n",
       "64   /scratch-shared/amftrack/stitch_temp/20220415_...   889        33   \n",
       "86   /scratch-shared/amftrack/stitch_temp/20220401_...   889        14   \n",
       "98   /scratch-shared/amftrack/stitch_temp/20220330_...   889        14   \n",
       "101  /scratch-shared/amftrack/stitch_temp/20220329_...   889        14   \n",
       "112  /scratch-shared/amftrack/stitch_temp/20220418_...   889        33   \n",
       "127  /scratch-shared/amftrack/stitch_temp/20220417_...   889        33   \n",
       "144  /scratch-shared/amftrack/stitch_temp/20220417_...   889        33   \n",
       "178  /scratch-shared/amftrack/stitch_temp/20220326_...   889        14   \n",
       "196  /scratch-shared/amftrack/stitch_temp/20220416_...   889        33   \n",
       "207  /scratch-shared/amftrack/stitch_temp/20220326_...   889        14   \n",
       "227  /scratch-shared/amftrack/stitch_temp/20220406_...   889        14   \n",
       "229  /scratch-shared/amftrack/stitch_temp/20220407_...   889        14   \n",
       "244  /scratch-shared/amftrack/stitch_temp/20220418_...   889        33   \n",
       "\n",
       "         root strain          medium split Pbait CrossDate Temperature  ...  \\\n",
       "3    'Carrot'   'A5'  '001P100N100C'   'Y'   '-'  20220325          25  ...   \n",
       "18   'Carrot'   'A5'  '001P100N100C'   'Y'   '-'  20220325          25  ...   \n",
       "30   'Carrot'   'A5'  '001P100N100C'   'Y'   '-'  20220325          25  ...   \n",
       "39   'Carrot'   'A5'  '001P100N100C'   'Y'   '-'  20220325          25  ...   \n",
       "62   'Carrot'   'A5'  '001P100N100C'   'Y'   '-'  20220325          25  ...   \n",
       "64   'Carrot'   'A5'  '001P100N100C'   'Y'   '-'  20220325          25  ...   \n",
       "86   'Carrot'   'A5'  '001P100N100C'   'Y'   '-'  20220325          25  ...   \n",
       "98   'Carrot'   'A5'  '001P100N100C'   'Y'   '-'  20220325          25  ...   \n",
       "101  'Carrot'   'A5'  '001P100N100C'   'Y'   '-'  20220325          25  ...   \n",
       "112  'Carrot'   'A5'  '001P100N100C'   'Y'   '-'  20220325          25  ...   \n",
       "127  'Carrot'   'A5'  '001P100N100C'   'Y'   '-'  20220325          25  ...   \n",
       "144  'Carrot'   'A5'  '001P100N100C'   'Y'   '-'  20220325          25  ...   \n",
       "178  'Carrot'   'A5'  '001P100N100C'   'Y'   '-'  20220325          25  ...   \n",
       "196  'Carrot'   'A5'  '001P100N100C'   'Y'   '-'  20220325          25  ...   \n",
       "207  'Carrot'   'A5'  '001P100N100C'   'Y'   '-'  20220325          25  ...   \n",
       "227  'Carrot'   'A5'  '001P100N100C'   'Y'   '-'  20220325          25  ...   \n",
       "229  'Carrot'   'A5'  '001P100N100C'   'Y'   '-'  20220325          25  ...   \n",
       "244  'Carrot'   'A5'  '001P100N100C'   'Y'   '-'  20220325          25  ...   \n",
       "\n",
       "    /Analysis/transform.mat /Analysis/transform_corrupt.mat  \\\n",
       "3                     False                           False   \n",
       "18                    False                           False   \n",
       "30                    False                           False   \n",
       "39                    False                           False   \n",
       "62                    False                           False   \n",
       "64                    False                           False   \n",
       "86                    False                           False   \n",
       "98                    False                           False   \n",
       "101                   False                           False   \n",
       "112                   False                           False   \n",
       "127                   False                           False   \n",
       "144                   False                           False   \n",
       "178                   False                           False   \n",
       "196                   False                           False   \n",
       "207                   False                           False   \n",
       "227                   False                           False   \n",
       "229                   False                           False   \n",
       "244                   False                           False   \n",
       "\n",
       "    /Analysis/skeleton_realigned_compressed.mat /Analysis/nx_graph_pruned.p  \\\n",
       "3                                         False                       False   \n",
       "18                                        False                       False   \n",
       "30                                        False                       False   \n",
       "39                                        False                       False   \n",
       "62                                        False                       False   \n",
       "64                                        False                       False   \n",
       "86                                        False                       False   \n",
       "98                                        False                       False   \n",
       "101                                       False                       False   \n",
       "112                                       False                       False   \n",
       "127                                       False                       False   \n",
       "144                                       False                       False   \n",
       "178                                       False                       False   \n",
       "196                                       False                       False   \n",
       "207                                       False                       False   \n",
       "227                                       False                       False   \n",
       "229                                       False                       False   \n",
       "244                                       False                       False   \n",
       "\n",
       "    /Analysis/nx_graph_pruned_width.p /Analysis/nx_graph_pruned_labeled.p  \\\n",
       "3                               False                               False   \n",
       "18                              False                               False   \n",
       "30                              False                               False   \n",
       "39                              False                               False   \n",
       "62                              False                               False   \n",
       "64                              False                               False   \n",
       "86                              False                               False   \n",
       "98                              False                               False   \n",
       "101                             False                               False   \n",
       "112                             False                               False   \n",
       "127                             False                               False   \n",
       "144                             False                               False   \n",
       "178                             False                               False   \n",
       "196                             False                               False   \n",
       "207                             False                               False   \n",
       "227                             False                               False   \n",
       "229                             False                               False   \n",
       "244                             False                               False   \n",
       "\n",
       "                   date                 folder     unique_id  \\\n",
       "3    07.04.2022, 21:55:  20220407_2155_Plate33  889_20220325   \n",
       "18   27.03.2022, 15:35:  20220327_1535_Plate14  889_20220325   \n",
       "30   30.03.2022, 21:40:  20220330_2140_Plate14  889_20220325   \n",
       "39   19.04.2022, 01:20:  20220419_0120_Plate33  889_20220325   \n",
       "62   28.03.2022, 05:36:  20220328_0536_Plate14  889_20220325   \n",
       "64   15.04.2022, 05:55:  20220415_0555_Plate33  889_20220325   \n",
       "86   01.04.2022, 18:45:  20220401_1845_Plate14  889_20220325   \n",
       "98   30.03.2022, 23:40:  20220330_2340_Plate14  889_20220325   \n",
       "101  29.03.2022, 21:10:  20220329_2110_Plate14  889_20220325   \n",
       "112  18.04.2022, 01:20:  20220418_0120_Plate33  889_20220325   \n",
       "127  17.04.2022, 01:20:  20220417_0120_Plate33  889_20220325   \n",
       "144  17.04.2022, 13:20:  20220417_1320_Plate33  889_20220325   \n",
       "178  26.03.2022, 15:35:  20220326_1535_Plate14  889_20220325   \n",
       "196  16.04.2022, 13:20:  20220416_1320_Plate33  889_20220325   \n",
       "207  26.03.2022, 01:37:  20220326_0137_Plate14  889_20220325   \n",
       "227  06.04.2022, 06:00:  20220406_0600_Plate14  889_20220325   \n",
       "229  07.04.2022, 04:46:  20220407_0446_Plate14  889_20220325   \n",
       "244  18.04.2022, 13:20:  20220418_1320_Plate33  889_20220325   \n",
       "\n",
       "               datetime  \n",
       "3   2022-04-07 21:55:00  \n",
       "18  2022-03-27 15:35:00  \n",
       "30  2022-03-30 21:40:00  \n",
       "39  2022-04-19 01:20:00  \n",
       "62  2022-03-28 05:36:00  \n",
       "64  2022-04-15 05:55:00  \n",
       "86  2022-04-01 18:45:00  \n",
       "98  2022-03-30 23:40:00  \n",
       "101 2022-03-29 21:10:00  \n",
       "112 2022-04-18 01:20:00  \n",
       "127 2022-04-17 01:20:00  \n",
       "144 2022-04-17 13:20:00  \n",
       "178 2022-03-26 15:35:00  \n",
       "196 2022-04-16 13:20:00  \n",
       "207 2022-03-26 01:37:00  \n",
       "227 2022-04-06 06:00:00  \n",
       "229 2022-04-07 04:46:00  \n",
       "244 2022-04-18 13:20:00  \n",
       "\n",
       "[18 rows x 24 columns]"
      ]
     },
     "execution_count": 8,
     "metadata": {},
     "output_type": "execute_result"
    }
   ],
   "source": [
    "folders = all_folders.loc[all_folders[\"unique_id\"].isin(plates)]\n",
    "folders.loc[folders[\"/Img/TileConfiguration.txt.registered\"] == True]"
   ]
  },
  {
   "cell_type": "code",
   "execution_count": 12,
   "id": "0d0eeec2-4e63-4b1b-972d-f76bd6a035bf",
   "metadata": {},
   "outputs": [
    {
     "name": "stdout",
     "output_type": "stream",
     "text": [
      "Submitted batch job 1138954\n"
     ]
    },
    {
     "name": "stderr",
     "output_type": "stream",
     "text": [
      "sbatch: Single node jobs run on a shared node by default. Add --exclusive if you want to use a node exclusively.\n",
      "sbatch: You will be charged for 1.0 node. A full node consists of 128 CPU cores, 983040 MiB of memory and 0 GPUs and can be shared by up to 4 jobs.\n"
     ]
    }
   ],
   "source": [
    "from amftrack.pipeline.launching.run_super import run_parallel, run_launcher\n",
    "\n",
    "for plate in plates:\n",
    "    select = folders.loc[folders[\"Plate\"] == plate]\n",
    "    num_parallel = 128\n",
    "    time = \"12:00:00\"\n",
    "    thresh = 10000  # For R. irregularis, thresh 10000 is good. For Aggregatum, higher may be necessary\n",
    "    args = [thresh, directory_targ]\n",
    "    run_parallel(\n",
    "        \"final_alignment.py\",\n",
    "        args,\n",
    "        select,\n",
    "        num_parallel,\n",
    "        time,\n",
    "        \"realign\",\n",
    "        cpus=128,\n",
    "        node=\"fat\",\n",
    "        name_job=name_job,\n",
    "    )"
   ]
  },
  {
   "cell_type": "code",
   "execution_count": 20,
   "id": "656f2038-0660-4d13-acd0-7580b56a8a84",
   "metadata": {},
   "outputs": [
    {
     "data": {
      "text/plain": [
       "['6_20220509']"
      ]
     },
     "execution_count": 20,
     "metadata": {},
     "output_type": "execute_result"
    }
   ],
   "source": [
    "plates"
   ]
  },
  {
   "cell_type": "code",
   "execution_count": 19,
   "id": "6323eacb-c44e-463b-90e7-bf55aaf43ab1",
   "metadata": {},
   "outputs": [
    {
     "data": {
      "text/html": [
       "<div>\n",
       "<style scoped>\n",
       "    .dataframe tbody tr th:only-of-type {\n",
       "        vertical-align: middle;\n",
       "    }\n",
       "\n",
       "    .dataframe tbody tr th {\n",
       "        vertical-align: top;\n",
       "    }\n",
       "\n",
       "    .dataframe thead th {\n",
       "        text-align: right;\n",
       "    }\n",
       "</style>\n",
       "<table border=\"1\" class=\"dataframe\">\n",
       "  <thead>\n",
       "    <tr style=\"text-align: right;\">\n",
       "      <th></th>\n",
       "      <th>total_path</th>\n",
       "      <th>Plate</th>\n",
       "      <th>PrincePos</th>\n",
       "      <th>root</th>\n",
       "      <th>strain</th>\n",
       "      <th>medium</th>\n",
       "      <th>split</th>\n",
       "      <th>Pbait</th>\n",
       "      <th>CrossDate</th>\n",
       "      <th>Temperature</th>\n",
       "      <th>...</th>\n",
       "      <th>/Analysis/transform.mat</th>\n",
       "      <th>/Analysis/transform_corrupt.mat</th>\n",
       "      <th>/Analysis/skeleton_realigned_compressed.mat</th>\n",
       "      <th>/Analysis/nx_graph_pruned.p</th>\n",
       "      <th>/Analysis/nx_graph_pruned_width.p</th>\n",
       "      <th>/Analysis/nx_graph_pruned_labeled.p</th>\n",
       "      <th>date</th>\n",
       "      <th>folder</th>\n",
       "      <th>unique_id</th>\n",
       "      <th>datetime</th>\n",
       "    </tr>\n",
       "  </thead>\n",
       "  <tbody>\n",
       "  </tbody>\n",
       "</table>\n",
       "<p>0 rows × 24 columns</p>\n",
       "</div>"
      ],
      "text/plain": [
       "Empty DataFrame\n",
       "Columns: [total_path, Plate, PrincePos, root, strain, medium, split, Pbait, CrossDate, Temperature, /Img/TileConfiguration.txt.registered, /Analysis/skeleton_compressed.mat, /Analysis/skeleton_masked_compressed.mat, /Analysis/skeleton_pruned_compressed.mat, /Analysis/transform.mat, /Analysis/transform_corrupt.mat, /Analysis/skeleton_realigned_compressed.mat, /Analysis/nx_graph_pruned.p, /Analysis/nx_graph_pruned_width.p, /Analysis/nx_graph_pruned_labeled.p, date, folder, unique_id, datetime]\n",
       "Index: []\n",
       "\n",
       "[0 rows x 24 columns]"
      ]
     },
     "execution_count": 19,
     "metadata": {},
     "output_type": "execute_result"
    }
   ],
   "source": [
    "select"
   ]
  },
  {
   "cell_type": "code",
   "execution_count": 13,
   "id": "aae06165-b345-4cf1-9404-52abd616e3d0",
   "metadata": {},
   "outputs": [
    {
     "name": "stdout",
     "output_type": "stream",
     "text": [
      "========\n",
      "Matching plate 20220510_1851_Plate17 at dates ['20220510_1851_Plate17', '20220511_1750_Plate17']\n",
      "========\n"
     ]
    }
   ],
   "source": [
    "i = 0\n",
    "run_info = folders\n",
    "folder_list = list(run_info[\"folder\"])\n",
    "folder_list.sort()\n",
    "\n",
    "dates_datetime_chosen = folder_list[i : i + 2]\n",
    "print(\"========\")\n",
    "print(f\"Matching plate {dates_datetime_chosen[0]} at dates {dates_datetime_chosen}\")\n",
    "print(\"========\")\n",
    "dates = dates_datetime_chosen"
   ]
  },
  {
   "cell_type": "code",
   "execution_count": 10,
   "id": "0556ab5e-23a7-4259-9c1f-e183de22004f",
   "metadata": {},
   "outputs": [],
   "source": [
    "from amftrack.pipeline.launching.run_super import run_parallel_post\n",
    "from amftrack.pipeline.functions.post_processing.global_plate import *\n",
    "from amftrack.pipeline.functions.post_processing.time_plate import *\n",
    "from amftrack.pipeline.functions.post_processing.global_hypha import *\n",
    "from amftrack.pipeline.functions.post_processing.area_hulls import *\n",
    "from amftrack.pipeline.launching.run_super import run_parallel, run_launcher\n",
    "from amftrack.pipeline.functions.post_processing.exp_plot import *\n",
    "\n",
    "update_analysis_info(directory_targ)\n",
    "analysis_info = get_analysis_info(directory_targ)\n",
    "analysis_folders = analysis_info.loc[analysis_info[\"unique_id\"].isin(plates)]\n",
    "directory = directory_targ"
   ]
  },
  {
   "cell_type": "code",
   "execution_count": 11,
   "id": "029954ec-42f9-4ba2-9dbe-137682996560",
   "metadata": {
    "tags": []
   },
   "outputs": [
    {
     "name": "stdout",
     "output_type": "stream",
     "text": [
      "Submitted batch job 1539552\n"
     ]
    },
    {
     "name": "stderr",
     "output_type": "stream",
     "text": [
      "sbatch: Single node jobs run on a shared node by default. Add --exclusive if you want to use a node exclusively.\n",
      "sbatch: You will be charged for 0.25 node. A full node consists of 128 CPU cores, 983040 MiB of memory and 0 GPUs and can be shared by up to 4 jobs.\n"
     ]
    }
   ],
   "source": [
    "time = \"3:40:00\"\n",
    "directory = directory_targ\n",
    "# list_f = [get_width_f,get_tot_length_C_f,get_tot_growth_C_f]\n",
    "# list_f = [get_timestep_anastomosis]\n",
    "list_f = [\n",
    "    gets_out_of_ROI,\n",
    "    get_width_f,\n",
    "    get_tot_length_C_f,\n",
    "    get_tot_growth_C_f,\n",
    "    get_tot_length_pp_f,\n",
    "    get_tot_growth_pp_f,\n",
    "    get_timestep_stop_growth,\n",
    "    get_time_stop_growth,\n",
    "    get_time_init_growth,\n",
    "    get_mean_speed_growth,\n",
    "    get_stop_track,\n",
    "    get_timestep_anastomosis,\n",
    "    get_timestep_biological_stop_growth,\n",
    "]\n",
    "# list_f = [get_num_branch]\n",
    "# list_f = [gets_out_of_ROI]\n",
    "list_args = [{}] * len(list_f)\n",
    "overwrite = False\n",
    "num_parallel = 32\n",
    "run_parallel_post(\n",
    "    \"global_hypha_post_process.py\",\n",
    "    list_f,\n",
    "    list_args,\n",
    "    [directory, overwrite],\n",
    "    analysis_folders,\n",
    "    num_parallel,\n",
    "    time,\n",
    "    \"global_hypha_post_process\",\n",
    "    cpus=32,\n",
    "    name_job=\"a\",\n",
    "    node=\"fat\",\n",
    ")"
   ]
  },
  {
   "cell_type": "code",
   "execution_count": 13,
   "id": "bac5d4ee-b1e5-4027-8f98-8f7c1d7d7726",
   "metadata": {
    "tags": []
   },
   "outputs": [
    {
     "name": "stdout",
     "output_type": "stream",
     "text": [
      "Submitted batch job 1539625\n",
      "Submitted batch job 1539626\n",
      "Submitted batch job 1539627\n"
     ]
    },
    {
     "name": "stderr",
     "output_type": "stream",
     "text": [
      "sbatch: Single node jobs run on a shared node by default. Add --exclusive if you want to use a node exclusively.\n",
      "sbatch: You will be charged for 0.25 node. A full node consists of 128 CPU cores, 983040 MiB of memory and 0 GPUs and can be shared by up to 4 jobs.\n",
      "sbatch: Single node jobs run on a shared node by default. Add --exclusive if you want to use a node exclusively.\n",
      "sbatch: You will be charged for 0.25 node. A full node consists of 128 CPU cores, 983040 MiB of memory and 0 GPUs and can be shared by up to 4 jobs.\n",
      "sbatch: Single node jobs run on a shared node by default. Add --exclusive if you want to use a node exclusively.\n",
      "sbatch: You will be charged for 0.25 node. A full node consists of 128 CPU cores, 983040 MiB of memory and 0 GPUs and can be shared by up to 4 jobs.\n",
      "sbatch: Single node jobs run on a shared node by default. Add --exclusive if you want to use a node exclusively.\n",
      "sbatch: You will be charged for 0.25 node. A full node consists of 128 CPU cores, 983040 MiB of memory and 0 GPUs and can be shared by up to 4 jobs.\n",
      "sbatch: Single node jobs run on a shared node by default. Add --exclusive if you want to use a node exclusively.\n",
      "sbatch: You will be charged for 0.25 node. A full node consists of 128 CPU cores, 983040 MiB of memory and 0 GPUs and can be shared by up to 4 jobs.\n",
      "sbatch: Single node jobs run on a shared node by default. Add --exclusive if you want to use a node exclusively.\n",
      "sbatch: You will be charged for 0.25 node. A full node consists of 128 CPU cores, 983040 MiB of memory and 0 GPUs and can be shared by up to 4 jobs.\n"
     ]
    },
    {
     "name": "stdout",
     "output_type": "stream",
     "text": [
      "Submitted batch job 1539628\n",
      "Submitted batch job 1539629\n",
      "Submitted batch job 1539630\n"
     ]
    },
    {
     "name": "stderr",
     "output_type": "stream",
     "text": [
      "sbatch: Single node jobs run on a shared node by default. Add --exclusive if you want to use a node exclusively.\n",
      "sbatch: You will be charged for 0.25 node. A full node consists of 128 CPU cores, 983040 MiB of memory and 0 GPUs and can be shared by up to 4 jobs.\n"
     ]
    },
    {
     "name": "stdout",
     "output_type": "stream",
     "text": [
      "Submitted batch job 1539631\n"
     ]
    },
    {
     "name": "stderr",
     "output_type": "stream",
     "text": [
      "sbatch: Single node jobs run on a shared node by default. Add --exclusive if you want to use a node exclusively.\n",
      "sbatch: You will be charged for 0.25 node. A full node consists of 128 CPU cores, 983040 MiB of memory and 0 GPUs and can be shared by up to 4 jobs.\n",
      "sbatch: Single node jobs run on a shared node by default. Add --exclusive if you want to use a node exclusively.\n",
      "sbatch: You will be charged for 0.25 node. A full node consists of 128 CPU cores, 983040 MiB of memory and 0 GPUs and can be shared by up to 4 jobs.\n"
     ]
    },
    {
     "name": "stdout",
     "output_type": "stream",
     "text": [
      "Submitted batch job 1539632\n",
      "Submitted batch job 1539633\n"
     ]
    },
    {
     "name": "stderr",
     "output_type": "stream",
     "text": [
      "sbatch: Single node jobs run on a shared node by default. Add --exclusive if you want to use a node exclusively.\n",
      "sbatch: You will be charged for 0.25 node. A full node consists of 128 CPU cores, 983040 MiB of memory and 0 GPUs and can be shared by up to 4 jobs.\n",
      "sbatch: Single node jobs run on a shared node by default. Add --exclusive if you want to use a node exclusively.\n",
      "sbatch: You will be charged for 0.25 node. A full node consists of 128 CPU cores, 983040 MiB of memory and 0 GPUs and can be shared by up to 4 jobs.\n",
      "sbatch: Single node jobs run on a shared node by default. Add --exclusive if you want to use a node exclusively.\n",
      "sbatch: You will be charged for 0.25 node. A full node consists of 128 CPU cores, 983040 MiB of memory and 0 GPUs and can be shared by up to 4 jobs.\n"
     ]
    },
    {
     "name": "stdout",
     "output_type": "stream",
     "text": [
      "Submitted batch job 1539634\n",
      "Submitted batch job 1539635\n",
      "Submitted batch job 1539636\n"
     ]
    },
    {
     "name": "stderr",
     "output_type": "stream",
     "text": [
      "sbatch: Single node jobs run on a shared node by default. Add --exclusive if you want to use a node exclusively.\n",
      "sbatch: You will be charged for 0.25 node. A full node consists of 128 CPU cores, 983040 MiB of memory and 0 GPUs and can be shared by up to 4 jobs.\n",
      "sbatch: Single node jobs run on a shared node by default. Add --exclusive if you want to use a node exclusively.\n",
      "sbatch: You will be charged for 0.25 node. A full node consists of 128 CPU cores, 983040 MiB of memory and 0 GPUs and can be shared by up to 4 jobs.\n",
      "sbatch: Single node jobs run on a shared node by default. Add --exclusive if you want to use a node exclusively.\n",
      "sbatch: You will be charged for 0.25 node. A full node consists of 128 CPU cores, 983040 MiB of memory and 0 GPUs and can be shared by up to 4 jobs.\n"
     ]
    },
    {
     "name": "stdout",
     "output_type": "stream",
     "text": [
      "Submitted batch job 1539637\n",
      "Submitted batch job 1539638\n",
      "Submitted batch job 1539639\n"
     ]
    },
    {
     "name": "stderr",
     "output_type": "stream",
     "text": [
      "sbatch: Single node jobs run on a shared node by default. Add --exclusive if you want to use a node exclusively.\n",
      "sbatch: You will be charged for 0.25 node. A full node consists of 128 CPU cores, 983040 MiB of memory and 0 GPUs and can be shared by up to 4 jobs.\n",
      "sbatch: Single node jobs run on a shared node by default. Add --exclusive if you want to use a node exclusively.\n",
      "sbatch: You will be charged for 0.25 node. A full node consists of 128 CPU cores, 983040 MiB of memory and 0 GPUs and can be shared by up to 4 jobs.\n"
     ]
    },
    {
     "name": "stdout",
     "output_type": "stream",
     "text": [
      "Submitted batch job 1539640\n",
      "Submitted batch job 1539641\n",
      "Submitted batch job 1539642\n"
     ]
    },
    {
     "name": "stderr",
     "output_type": "stream",
     "text": [
      "sbatch: Single node jobs run on a shared node by default. Add --exclusive if you want to use a node exclusively.\n",
      "sbatch: You will be charged for 0.25 node. A full node consists of 128 CPU cores, 983040 MiB of memory and 0 GPUs and can be shared by up to 4 jobs.\n",
      "sbatch: Single node jobs run on a shared node by default. Add --exclusive if you want to use a node exclusively.\n",
      "sbatch: You will be charged for 0.25 node. A full node consists of 128 CPU cores, 983040 MiB of memory and 0 GPUs and can be shared by up to 4 jobs.\n",
      "sbatch: Single node jobs run on a shared node by default. Add --exclusive if you want to use a node exclusively.\n",
      "sbatch: You will be charged for 0.25 node. A full node consists of 128 CPU cores, 983040 MiB of memory and 0 GPUs and can be shared by up to 4 jobs.\n"
     ]
    },
    {
     "name": "stdout",
     "output_type": "stream",
     "text": [
      "Submitted batch job 1539643\n",
      "Submitted batch job 1539644\n"
     ]
    },
    {
     "name": "stderr",
     "output_type": "stream",
     "text": [
      "sbatch: Single node jobs run on a shared node by default. Add --exclusive if you want to use a node exclusively.\n",
      "sbatch: You will be charged for 0.25 node. A full node consists of 128 CPU cores, 983040 MiB of memory and 0 GPUs and can be shared by up to 4 jobs.\n",
      "sbatch: Single node jobs run on a shared node by default. Add --exclusive if you want to use a node exclusively.\n",
      "sbatch: You will be charged for 0.25 node. A full node consists of 128 CPU cores, 983040 MiB of memory and 0 GPUs and can be shared by up to 4 jobs.\n"
     ]
    },
    {
     "name": "stdout",
     "output_type": "stream",
     "text": [
      "Submitted batch job 1539645\n",
      "Submitted batch job 1539646\n"
     ]
    },
    {
     "name": "stderr",
     "output_type": "stream",
     "text": [
      "sbatch: Single node jobs run on a shared node by default. Add --exclusive if you want to use a node exclusively.\n",
      "sbatch: You will be charged for 0.25 node. A full node consists of 128 CPU cores, 983040 MiB of memory and 0 GPUs and can be shared by up to 4 jobs.\n",
      "sbatch: Single node jobs run on a shared node by default. Add --exclusive if you want to use a node exclusively.\n",
      "sbatch: You will be charged for 0.25 node. A full node consists of 128 CPU cores, 983040 MiB of memory and 0 GPUs and can be shared by up to 4 jobs.\n"
     ]
    },
    {
     "name": "stdout",
     "output_type": "stream",
     "text": [
      "Submitted batch job 1539647\n",
      "Submitted batch job 1539648\n",
      "Submitted batch job 1539649\n"
     ]
    },
    {
     "name": "stderr",
     "output_type": "stream",
     "text": [
      "sbatch: Single node jobs run on a shared node by default. Add --exclusive if you want to use a node exclusively.\n",
      "sbatch: You will be charged for 0.25 node. A full node consists of 128 CPU cores, 983040 MiB of memory and 0 GPUs and can be shared by up to 4 jobs.\n"
     ]
    }
   ],
   "source": [
    "import sys\n",
    "from amftrack.util.sys import (\n",
    "    update_analysis_info,\n",
    "    get_analysis_info,\n",
    ")\n",
    "from amftrack.pipeline.launching.run_super import run_parallel_post\n",
    "from amftrack.pipeline.functions.post_processing.time_hypha import *\n",
    "from amftrack.pipeline.launching.run_super import run_parallel, run_launcher\n",
    "import pandas as pd\n",
    "import os\n",
    "\n",
    "list_f = [\n",
    "    get_pos_x,\n",
    "    get_pos_y,\n",
    "    get_time_since_begin_exp,\n",
    "    get_distance_final_pos,\n",
    "    get_timedelta,\n",
    "    get_time_since_start,\n",
    "    get_speed,\n",
    "    get_timestep,\n",
    "    get_timestep_init,\n",
    "    get_time_init,\n",
    "    get_degree,\n",
    "    get_width_tip_edge,\n",
    "    get_width_root_edge,\n",
    "    get_width_average,\n",
    "    has_reached_final_pos,\n",
    "    in_ROI,\n",
    "]\n",
    "# list_f = [local_density,local_density,local_density]\n",
    "# list_f = [get_time_since_begin_exp]\n",
    "# list_f = [get_width_tip_edge, get_width_root_edge]\n",
    "list_args = [{}] * len(list_f)\n",
    "# list_args= [[500],[1000],[2000]]+[[]]\n",
    "# list_args= [[500]]\n",
    "overwrite = False\n",
    "load_graphs = True\n",
    "num_parallel = 32\n",
    "time = \"12:00:00\"\n",
    "for index, row in analysis_folders.iterrows():\n",
    "    folder = row[\"folder_analysis\"]\n",
    "    path_time_plate_info = row[\"path_time_plate_info\"]\n",
    "    plate = row[\"Plate\"]\n",
    "    num_cpus = 32\n",
    "    if os.path.isfile(f\"{directory_targ}{path_time_plate_info}\"):\n",
    "        whole_plate_info = pd.read_json(\n",
    "            f\"{directory_targ}{path_time_plate_info}\", convert_dates=True\n",
    "        ).transpose()\n",
    "        whole_plate_info.index.name = \"t\"\n",
    "        whole_plate_info.reset_index(inplace=True)\n",
    "        run_parallel_post(\n",
    "            \"time_hypha_post_process.py\",\n",
    "            list_f,\n",
    "            list_args,\n",
    "            [directory_targ, overwrite, load_graphs],\n",
    "            whole_plate_info,\n",
    "            num_parallel,\n",
    "            time,\n",
    "            \"time_hypha_post_process\",\n",
    "            cpus=num_cpus,\n",
    "            name_job=name_job,\n",
    "            node=\"fat\",\n",
    "        )"
   ]
  }
 ],
 "metadata": {
  "kernelspec": {
   "display_name": "Python 3 (ipykernel)",
   "language": "python",
   "name": "python3"
  },
  "language_info": {
   "codemirror_mode": {
    "name": "ipython",
    "version": 3
   },
   "file_extension": ".py",
   "mimetype": "text/x-python",
   "name": "python",
   "nbconvert_exporter": "python",
   "pygments_lexer": "ipython3",
   "version": "3.7.13"
  }
 },
 "nbformat": 4,
 "nbformat_minor": 5
}

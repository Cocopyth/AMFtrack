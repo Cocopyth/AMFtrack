{
 "cells": [
  {
   "cell_type": "code",
   "execution_count": 1,
   "id": "b608afbc-ca48-476f-a966-f94e310ea7ab",
   "metadata": {},
   "outputs": [
    {
     "name": "stderr",
     "output_type": "stream",
     "text": [
      "/gpfs/home2/cbisot/pycode/AMFtrack/amftrack/util/dbx.py:3: TqdmExperimentalWarning: Using `tqdm.autonotebook.tqdm` in notebook mode. Use `tqdm.tqdm` instead to force console mode (e.g. in jupyter console)\n",
      "  from tqdm.autonotebook import tqdm\n"
     ]
    }
   ],
   "source": [
    "%load_ext autoreload\n",
    "%autoreload 2\n",
    "from amftrack.pipeline.launching.run_super import (\n",
    "    run_launcher,\n",
    "    directory_scratch,\n",
    "    directory_project,\n",
    "    directory_project,\n",
    "    run_parallel_stitch,\n",
    "    run_parallel_transfer,\n",
    ")\n",
    "import os\n",
    "from amftrack.util.sys import (\n",
    "    get_dates_datetime,\n",
    "    get_dirname,\n",
    "    temp_path,\n",
    "    get_data_info,\n",
    "    update_plate_info,\n",
    "    update_analysis_info,\n",
    "    get_analysis_info,\n",
    "    get_current_folders,\n",
    "    get_folders_by_plate_id,\n",
    ")\n",
    "\n",
    "from time import time_ns\n",
    "from amftrack.util.dbx import upload_folders, load_dbx, download, get_dropbox_folders\n",
    "from datetime import datetime"
   ]
  },
  {
   "cell_type": "code",
   "execution_count": 2,
   "id": "e0eb5bb6-3a87-4cba-8cf8-21c59c70f01c",
   "metadata": {},
   "outputs": [],
   "source": [
    "plates = [\n",
    "    \"799_20211001\",\n",
    "    \"803_20211012\",\n",
    "    \"809_20211012\",\n",
    "    \"907_20220321\",\n",
    "    \"943_20220322\",\n",
    "    \"403_20221005\",\n",
    "    \"408_20221013\",\n",
    "    \"88_20210915\",\n",
    "    \"790_20210907\",\n",
    "    \"69_20201119\",\n",
    "    \"94_20201123\"\n",
    "]\n",
    "# plates = [\"94_20201123\", \"792_20210915\"]\n",
    "# plates = [\"1045_20220504\", \"521_20230104\",\"1048_20220506\"]"
   ]
  },
  {
   "cell_type": "code",
   "execution_count": 2,
   "id": "c8b808f6-2c64-479d-be57-eff7d6bfe54d",
   "metadata": {},
   "outputs": [],
   "source": [
    "plates = [\n",
    "    \"710_20221025\",\n",
    "    \"724_20220926\",\n",
    "    \"725_20221104\",\n",
    "    \"726_20221005\",\n",
    "    \"728_20221025\",\n",
    "    \"731_20221013\",\n",
    "    \"753_20221013\",\n",
    "    \"759_20221108\",\n",
    "]"
   ]
  },
  {
   "cell_type": "code",
   "execution_count": 18,
   "id": "34c1d5cb-c3d4-4749-becc-12e63f0c7e08",
   "metadata": {},
   "outputs": [],
   "source": [
    "plates = [\n",
    "    \"10_20210107\",\n",
    "    \"26_20210104\",\n",
    "    \"38_20201202\",\n",
    "    \"42_20201204\",\n",
    "    \"48_20201207\",\n",
    "    \"55_20210113\",\n",
    "    \"59_20201126\",\n",
    "    \"60_20201204\",\n",
    "    \"64_20201130\",\n",
    "    \"66_20201214\",\n",
    "    \"67_20201202\",\n",
    "    \"69_20201119\",\n",
    "    \"92_20201209\",\n",
    "    \"90_20201209\",\n",
    "    \"99_20201210\",\n",
    "    \"112_20201209\",\n",
    "    \"127_20201209\",\n",
    "    \"138_20201207\",\n",
    "    \"162_20201207\",\n",
    "]\n",
    "# plates = ['1048_20220506','32_20220428', '33_20220502', '52_20220707','84_20220621', '91_20220708', '938_20220325', \"1014_20220525\",\n",
    "#     \"1023_20220502\",\n",
    "#     \"1042_20220523\",\n",
    "#     \"1045_20220504\",\n",
    "#     \"1053_20220413\",\n",
    "#     \"1076_20220511\"]"
   ]
  },
  {
   "cell_type": "code",
   "execution_count": 20,
   "id": "3194edd8-ac63-4ea0-824c-3c738a071d37",
   "metadata": {
    "tags": []
   },
   "outputs": [
    {
     "ename": "NameError",
     "evalue": "name 'all_folders_drop' is not defined",
     "output_type": "error",
     "traceback": [
      "\u001b[0;31m---------------------------------------------------------------------------\u001b[0m",
      "\u001b[0;31mNameError\u001b[0m                                 Traceback (most recent call last)",
      "\u001b[0;32m/scratch-local/cbisot/ipykernel_3445657/2535836722.py\u001b[0m in \u001b[0;36m<module>\u001b[0;34m\u001b[0m\n\u001b[0;32m----> 1\u001b[0;31m folders_drop = all_folders_drop.loc[\n\u001b[0m\u001b[1;32m      2\u001b[0m     \u001b[0mall_folders_drop\u001b[0m\u001b[0;34m[\u001b[0m\u001b[0;34m\"folder\"\u001b[0m\u001b[0;34m]\u001b[0m \u001b[0;34m==\u001b[0m \u001b[0;34m\"20221116_1111_Plate21\"\u001b[0m\u001b[0;34m\u001b[0m\u001b[0;34m\u001b[0m\u001b[0m\n\u001b[1;32m      3\u001b[0m ]\n",
      "\u001b[0;31mNameError\u001b[0m: name 'all_folders_drop' is not defined"
     ]
    }
   ],
   "source": [
    "folders_drop = all_folders_drop.loc[\n",
    "    all_folders_drop[\"folder\"] == \"20221116_1111_Plate21\"\n",
    "]"
   ]
  },
  {
   "cell_type": "code",
   "execution_count": 47,
   "id": "f377c5c8-cbfd-45d5-bc4c-3096fd4a3e74",
   "metadata": {},
   "outputs": [],
   "source": [
    "run_parallel_transfer(\n",
    "    \"from_drop.py\",\n",
    "    [directory_targ],\n",
    "    folders_drop,\n",
    "    50,\n",
    "    \"24:00:00\",\n",
    "    \"staging\",\n",
    "    cpus=1,\n",
    "    node=\"staging\",\n",
    "    name_job=\"kaikai\",\n",
    ")"
   ]
  },
  {
   "cell_type": "code",
   "execution_count": 3,
   "id": "afdc3901-8c7c-40b5-8985-00f54a3102b0",
   "metadata": {
    "collapsed": true,
    "jupyter": {
     "outputs_hidden": true
    },
    "tags": []
   },
   "outputs": [
    {
     "name": "stdout",
     "output_type": "stream",
     "text": [
      "2022-12-15 19:07:38,275-[INFO]- dropbox:390 -> Refreshing access token.\n",
      "2022-12-15 19:07:38,564-[INFO]- dropbox:474 -> Request to files/list_folder\n"
     ]
    },
    {
     "ename": "KeyboardInterrupt",
     "evalue": "",
     "output_type": "error",
     "traceback": [
      "\u001b[0;31m---------------------------------------------------------------------------\u001b[0m",
      "\u001b[0;31mKeyboardInterrupt\u001b[0m                         Traceback (most recent call last)",
      "\u001b[0;32m/scratch-local/cbisot/ipykernel_82989/1830841710.py\u001b[0m in \u001b[0;36m<module>\u001b[0;34m\u001b[0m\n\u001b[0;32m----> 1\u001b[0;31m \u001b[0mall_folders_drop\u001b[0m \u001b[0;34m=\u001b[0m \u001b[0mget_dropbox_folders\u001b[0m\u001b[0;34m(\u001b[0m\u001b[0;34m\"/DATA/PRINCE\"\u001b[0m\u001b[0;34m,\u001b[0m \u001b[0;32mTrue\u001b[0m\u001b[0;34m)\u001b[0m\u001b[0;34m\u001b[0m\u001b[0;34m\u001b[0m\u001b[0m\n\u001b[0m",
      "\u001b[0;32m/gpfs/home2/cbisot/pycode/AMFtrack/amftrack/util/dbx.py\u001b[0m in \u001b[0;36mget_dropbox_folders\u001b[0;34m(dir_drop, skip_size)\u001b[0m\n\u001b[1;32m    312\u001b[0m \u001b[0;32mdef\u001b[0m \u001b[0mget_dropbox_folders\u001b[0m\u001b[0;34m(\u001b[0m\u001b[0mdir_drop\u001b[0m\u001b[0;34m:\u001b[0m \u001b[0mstr\u001b[0m\u001b[0;34m,\u001b[0m \u001b[0mskip_size\u001b[0m\u001b[0;34m:\u001b[0m \u001b[0mbool\u001b[0m \u001b[0;34m=\u001b[0m \u001b[0;32mTrue\u001b[0m\u001b[0;34m)\u001b[0m \u001b[0;34m->\u001b[0m \u001b[0mpd\u001b[0m\u001b[0;34m.\u001b[0m\u001b[0mDataFrame\u001b[0m\u001b[0;34m:\u001b[0m\u001b[0;34m\u001b[0m\u001b[0;34m\u001b[0m\u001b[0m\n\u001b[1;32m    313\u001b[0m     \u001b[0mdbx\u001b[0m \u001b[0;34m=\u001b[0m \u001b[0mload_dbx\u001b[0m\u001b[0;34m(\u001b[0m\u001b[0;34m)\u001b[0m\u001b[0;34m\u001b[0m\u001b[0;34m\u001b[0m\u001b[0m\n\u001b[0;32m--> 314\u001b[0;31m     \u001b[0mresponse\u001b[0m \u001b[0;34m=\u001b[0m \u001b[0mdbx\u001b[0m\u001b[0;34m.\u001b[0m\u001b[0mfiles_list_folder\u001b[0m\u001b[0;34m(\u001b[0m\u001b[0mdir_drop\u001b[0m\u001b[0;34m,\u001b[0m \u001b[0mrecursive\u001b[0m\u001b[0;34m=\u001b[0m\u001b[0;32mTrue\u001b[0m\u001b[0;34m)\u001b[0m\u001b[0;34m\u001b[0m\u001b[0;34m\u001b[0m\u001b[0m\n\u001b[0m\u001b[1;32m    315\u001b[0m     \u001b[0;31m# for fil in response.entries:\u001b[0m\u001b[0;34m\u001b[0m\u001b[0;34m\u001b[0m\u001b[0;34m\u001b[0m\u001b[0m\n\u001b[1;32m    316\u001b[0m     \u001b[0mlistfiles\u001b[0m \u001b[0;34m=\u001b[0m \u001b[0;34m[\u001b[0m\u001b[0;34m]\u001b[0m\u001b[0;34m\u001b[0m\u001b[0;34m\u001b[0m\u001b[0m\n",
      "\u001b[0;32m~/miniconda3/envs/amftrack/lib/python3.7/site-packages/dropbox/base.py\u001b[0m in \u001b[0;36mfiles_list_folder\u001b[0;34m(self, path, recursive, include_media_info, include_deleted, include_has_explicit_shared_members, include_mounted_folders, limit, shared_link, include_property_groups, include_non_downloadable_files)\u001b[0m\n\u001b[1;32m   2147\u001b[0m             \u001b[0;34m'files'\u001b[0m\u001b[0;34m,\u001b[0m\u001b[0;34m\u001b[0m\u001b[0;34m\u001b[0m\u001b[0m\n\u001b[1;32m   2148\u001b[0m             \u001b[0marg\u001b[0m\u001b[0;34m,\u001b[0m\u001b[0;34m\u001b[0m\u001b[0;34m\u001b[0m\u001b[0m\n\u001b[0;32m-> 2149\u001b[0;31m             \u001b[0;32mNone\u001b[0m\u001b[0;34m,\u001b[0m\u001b[0;34m\u001b[0m\u001b[0;34m\u001b[0m\u001b[0m\n\u001b[0m\u001b[1;32m   2150\u001b[0m         )\n\u001b[1;32m   2151\u001b[0m         \u001b[0;32mreturn\u001b[0m \u001b[0mr\u001b[0m\u001b[0;34m\u001b[0m\u001b[0;34m\u001b[0m\u001b[0m\n",
      "\u001b[0;32m~/miniconda3/envs/amftrack/lib/python3.7/site-packages/dropbox/dropbox_client.py\u001b[0m in \u001b[0;36mrequest\u001b[0;34m(self, route, namespace, request_arg, request_binary, timeout)\u001b[0m\n\u001b[1;32m    330\u001b[0m                                                   \u001b[0mauth_type\u001b[0m\u001b[0;34m,\u001b[0m\u001b[0;34m\u001b[0m\u001b[0;34m\u001b[0m\u001b[0m\n\u001b[1;32m    331\u001b[0m                                                   \u001b[0mrequest_binary\u001b[0m\u001b[0;34m,\u001b[0m\u001b[0;34m\u001b[0m\u001b[0;34m\u001b[0m\u001b[0m\n\u001b[0;32m--> 332\u001b[0;31m                                                   timeout=timeout)\n\u001b[0m\u001b[1;32m    333\u001b[0m         \u001b[0mdecoded_obj_result\u001b[0m \u001b[0;34m=\u001b[0m \u001b[0mjson\u001b[0m\u001b[0;34m.\u001b[0m\u001b[0mloads\u001b[0m\u001b[0;34m(\u001b[0m\u001b[0mres\u001b[0m\u001b[0;34m.\u001b[0m\u001b[0mobj_result\u001b[0m\u001b[0;34m)\u001b[0m\u001b[0;34m\u001b[0m\u001b[0;34m\u001b[0m\u001b[0m\n\u001b[1;32m    334\u001b[0m         \u001b[0;32mif\u001b[0m \u001b[0misinstance\u001b[0m\u001b[0;34m(\u001b[0m\u001b[0mres\u001b[0m\u001b[0;34m,\u001b[0m \u001b[0mRouteResult\u001b[0m\u001b[0;34m)\u001b[0m\u001b[0;34m:\u001b[0m\u001b[0;34m\u001b[0m\u001b[0;34m\u001b[0m\u001b[0m\n",
      "\u001b[0;32m~/miniconda3/envs/amftrack/lib/python3.7/site-packages/dropbox/dropbox_client.py\u001b[0m in \u001b[0;36mrequest_json_string_with_retry\u001b[0;34m(self, host, route_name, route_style, request_json_arg, auth_type, request_binary, timeout)\u001b[0m\n\u001b[1;32m    480\u001b[0m                                                 \u001b[0mauth_type\u001b[0m\u001b[0;34m,\u001b[0m\u001b[0;34m\u001b[0m\u001b[0;34m\u001b[0m\u001b[0m\n\u001b[1;32m    481\u001b[0m                                                 \u001b[0mrequest_binary\u001b[0m\u001b[0;34m,\u001b[0m\u001b[0;34m\u001b[0m\u001b[0;34m\u001b[0m\u001b[0m\n\u001b[0;32m--> 482\u001b[0;31m                                                 timeout=timeout)\n\u001b[0m\u001b[1;32m    483\u001b[0m             \u001b[0;32mexcept\u001b[0m \u001b[0mAuthError\u001b[0m \u001b[0;32mas\u001b[0m \u001b[0me\u001b[0m\u001b[0;34m:\u001b[0m\u001b[0;34m\u001b[0m\u001b[0;34m\u001b[0m\u001b[0m\n\u001b[1;32m    484\u001b[0m                 \u001b[0;32mif\u001b[0m \u001b[0me\u001b[0m\u001b[0;34m.\u001b[0m\u001b[0merror\u001b[0m \u001b[0;32mand\u001b[0m \u001b[0me\u001b[0m\u001b[0;34m.\u001b[0m\u001b[0merror\u001b[0m\u001b[0;34m.\u001b[0m\u001b[0mis_expired_access_token\u001b[0m\u001b[0;34m(\u001b[0m\u001b[0;34m)\u001b[0m\u001b[0;34m:\u001b[0m\u001b[0;34m\u001b[0m\u001b[0;34m\u001b[0m\u001b[0m\n",
      "\u001b[0;32m~/miniconda3/envs/amftrack/lib/python3.7/site-packages/dropbox/dropbox_client.py\u001b[0m in \u001b[0;36mrequest_json_string\u001b[0;34m(self, host, func_name, route_style, request_json_arg, auth_type, request_binary, timeout)\u001b[0m\n\u001b[1;32m    592\u001b[0m                                \u001b[0mstream\u001b[0m\u001b[0;34m=\u001b[0m\u001b[0mstream\u001b[0m\u001b[0;34m,\u001b[0m\u001b[0;34m\u001b[0m\u001b[0;34m\u001b[0m\u001b[0m\n\u001b[1;32m    593\u001b[0m                                \u001b[0mverify\u001b[0m\u001b[0;34m=\u001b[0m\u001b[0;32mTrue\u001b[0m\u001b[0;34m,\u001b[0m\u001b[0;34m\u001b[0m\u001b[0;34m\u001b[0m\u001b[0m\n\u001b[0;32m--> 594\u001b[0;31m                                \u001b[0mtimeout\u001b[0m\u001b[0;34m=\u001b[0m\u001b[0mtimeout\u001b[0m\u001b[0;34m,\u001b[0m\u001b[0;34m\u001b[0m\u001b[0;34m\u001b[0m\u001b[0m\n\u001b[0m\u001b[1;32m    595\u001b[0m                                )\n\u001b[1;32m    596\u001b[0m         \u001b[0mself\u001b[0m\u001b[0;34m.\u001b[0m\u001b[0mraise_dropbox_error_for_resp\u001b[0m\u001b[0;34m(\u001b[0m\u001b[0mr\u001b[0m\u001b[0;34m)\u001b[0m\u001b[0;34m\u001b[0m\u001b[0;34m\u001b[0m\u001b[0m\n",
      "\u001b[0;32m~/miniconda3/envs/amftrack/lib/python3.7/site-packages/requests/sessions.py\u001b[0m in \u001b[0;36mpost\u001b[0;34m(self, url, data, json, **kwargs)\u001b[0m\n\u001b[1;32m    633\u001b[0m         \"\"\"\n\u001b[1;32m    634\u001b[0m \u001b[0;34m\u001b[0m\u001b[0m\n\u001b[0;32m--> 635\u001b[0;31m         \u001b[0;32mreturn\u001b[0m \u001b[0mself\u001b[0m\u001b[0;34m.\u001b[0m\u001b[0mrequest\u001b[0m\u001b[0;34m(\u001b[0m\u001b[0;34m\"POST\"\u001b[0m\u001b[0;34m,\u001b[0m \u001b[0murl\u001b[0m\u001b[0;34m,\u001b[0m \u001b[0mdata\u001b[0m\u001b[0;34m=\u001b[0m\u001b[0mdata\u001b[0m\u001b[0;34m,\u001b[0m \u001b[0mjson\u001b[0m\u001b[0;34m=\u001b[0m\u001b[0mjson\u001b[0m\u001b[0;34m,\u001b[0m \u001b[0;34m**\u001b[0m\u001b[0mkwargs\u001b[0m\u001b[0;34m)\u001b[0m\u001b[0;34m\u001b[0m\u001b[0;34m\u001b[0m\u001b[0m\n\u001b[0m\u001b[1;32m    636\u001b[0m \u001b[0;34m\u001b[0m\u001b[0m\n\u001b[1;32m    637\u001b[0m     \u001b[0;32mdef\u001b[0m \u001b[0mput\u001b[0m\u001b[0;34m(\u001b[0m\u001b[0mself\u001b[0m\u001b[0;34m,\u001b[0m \u001b[0murl\u001b[0m\u001b[0;34m,\u001b[0m \u001b[0mdata\u001b[0m\u001b[0;34m=\u001b[0m\u001b[0;32mNone\u001b[0m\u001b[0;34m,\u001b[0m \u001b[0;34m**\u001b[0m\u001b[0mkwargs\u001b[0m\u001b[0;34m)\u001b[0m\u001b[0;34m:\u001b[0m\u001b[0;34m\u001b[0m\u001b[0;34m\u001b[0m\u001b[0m\n",
      "\u001b[0;32m~/miniconda3/envs/amftrack/lib/python3.7/site-packages/requests/sessions.py\u001b[0m in \u001b[0;36mrequest\u001b[0;34m(self, method, url, params, data, headers, cookies, files, auth, timeout, allow_redirects, proxies, hooks, stream, verify, cert, json)\u001b[0m\n\u001b[1;32m    585\u001b[0m         }\n\u001b[1;32m    586\u001b[0m         \u001b[0msend_kwargs\u001b[0m\u001b[0;34m.\u001b[0m\u001b[0mupdate\u001b[0m\u001b[0;34m(\u001b[0m\u001b[0msettings\u001b[0m\u001b[0;34m)\u001b[0m\u001b[0;34m\u001b[0m\u001b[0;34m\u001b[0m\u001b[0m\n\u001b[0;32m--> 587\u001b[0;31m         \u001b[0mresp\u001b[0m \u001b[0;34m=\u001b[0m \u001b[0mself\u001b[0m\u001b[0;34m.\u001b[0m\u001b[0msend\u001b[0m\u001b[0;34m(\u001b[0m\u001b[0mprep\u001b[0m\u001b[0;34m,\u001b[0m \u001b[0;34m**\u001b[0m\u001b[0msend_kwargs\u001b[0m\u001b[0;34m)\u001b[0m\u001b[0;34m\u001b[0m\u001b[0;34m\u001b[0m\u001b[0m\n\u001b[0m\u001b[1;32m    588\u001b[0m \u001b[0;34m\u001b[0m\u001b[0m\n\u001b[1;32m    589\u001b[0m         \u001b[0;32mreturn\u001b[0m \u001b[0mresp\u001b[0m\u001b[0;34m\u001b[0m\u001b[0;34m\u001b[0m\u001b[0m\n",
      "\u001b[0;32m~/miniconda3/envs/amftrack/lib/python3.7/site-packages/requests/sessions.py\u001b[0m in \u001b[0;36msend\u001b[0;34m(self, request, **kwargs)\u001b[0m\n\u001b[1;32m    699\u001b[0m \u001b[0;34m\u001b[0m\u001b[0m\n\u001b[1;32m    700\u001b[0m         \u001b[0;31m# Send the request\u001b[0m\u001b[0;34m\u001b[0m\u001b[0;34m\u001b[0m\u001b[0;34m\u001b[0m\u001b[0m\n\u001b[0;32m--> 701\u001b[0;31m         \u001b[0mr\u001b[0m \u001b[0;34m=\u001b[0m \u001b[0madapter\u001b[0m\u001b[0;34m.\u001b[0m\u001b[0msend\u001b[0m\u001b[0;34m(\u001b[0m\u001b[0mrequest\u001b[0m\u001b[0;34m,\u001b[0m \u001b[0;34m**\u001b[0m\u001b[0mkwargs\u001b[0m\u001b[0;34m)\u001b[0m\u001b[0;34m\u001b[0m\u001b[0;34m\u001b[0m\u001b[0m\n\u001b[0m\u001b[1;32m    702\u001b[0m \u001b[0;34m\u001b[0m\u001b[0m\n\u001b[1;32m    703\u001b[0m         \u001b[0;31m# Total elapsed time of the request (approximately)\u001b[0m\u001b[0;34m\u001b[0m\u001b[0;34m\u001b[0m\u001b[0;34m\u001b[0m\u001b[0m\n",
      "\u001b[0;32m~/miniconda3/envs/amftrack/lib/python3.7/site-packages/requests/adapters.py\u001b[0m in \u001b[0;36msend\u001b[0;34m(self, request, stream, timeout, verify, cert, proxies)\u001b[0m\n\u001b[1;32m    497\u001b[0m                     \u001b[0mdecode_content\u001b[0m\u001b[0;34m=\u001b[0m\u001b[0;32mFalse\u001b[0m\u001b[0;34m,\u001b[0m\u001b[0;34m\u001b[0m\u001b[0;34m\u001b[0m\u001b[0m\n\u001b[1;32m    498\u001b[0m                     \u001b[0mretries\u001b[0m\u001b[0;34m=\u001b[0m\u001b[0mself\u001b[0m\u001b[0;34m.\u001b[0m\u001b[0mmax_retries\u001b[0m\u001b[0;34m,\u001b[0m\u001b[0;34m\u001b[0m\u001b[0;34m\u001b[0m\u001b[0m\n\u001b[0;32m--> 499\u001b[0;31m                     \u001b[0mtimeout\u001b[0m\u001b[0;34m=\u001b[0m\u001b[0mtimeout\u001b[0m\u001b[0;34m,\u001b[0m\u001b[0;34m\u001b[0m\u001b[0;34m\u001b[0m\u001b[0m\n\u001b[0m\u001b[1;32m    500\u001b[0m                 )\n\u001b[1;32m    501\u001b[0m \u001b[0;34m\u001b[0m\u001b[0m\n",
      "\u001b[0;32m~/miniconda3/envs/amftrack/lib/python3.7/site-packages/urllib3/connectionpool.py\u001b[0m in \u001b[0;36murlopen\u001b[0;34m(self, method, url, body, headers, retries, redirect, assert_same_host, timeout, pool_timeout, release_conn, chunked, body_pos, **response_kw)\u001b[0m\n\u001b[1;32m    708\u001b[0m                 \u001b[0mbody\u001b[0m\u001b[0;34m=\u001b[0m\u001b[0mbody\u001b[0m\u001b[0;34m,\u001b[0m\u001b[0;34m\u001b[0m\u001b[0;34m\u001b[0m\u001b[0m\n\u001b[1;32m    709\u001b[0m                 \u001b[0mheaders\u001b[0m\u001b[0;34m=\u001b[0m\u001b[0mheaders\u001b[0m\u001b[0;34m,\u001b[0m\u001b[0;34m\u001b[0m\u001b[0;34m\u001b[0m\u001b[0m\n\u001b[0;32m--> 710\u001b[0;31m                 \u001b[0mchunked\u001b[0m\u001b[0;34m=\u001b[0m\u001b[0mchunked\u001b[0m\u001b[0;34m,\u001b[0m\u001b[0;34m\u001b[0m\u001b[0;34m\u001b[0m\u001b[0m\n\u001b[0m\u001b[1;32m    711\u001b[0m             )\n\u001b[1;32m    712\u001b[0m \u001b[0;34m\u001b[0m\u001b[0m\n",
      "\u001b[0;32m~/miniconda3/envs/amftrack/lib/python3.7/site-packages/urllib3/connectionpool.py\u001b[0m in \u001b[0;36m_make_request\u001b[0;34m(self, conn, method, url, timeout, chunked, **httplib_request_kw)\u001b[0m\n\u001b[1;32m    447\u001b[0m                     \u001b[0;31m# Python 3 (including for exceptions like SystemExit).\u001b[0m\u001b[0;34m\u001b[0m\u001b[0;34m\u001b[0m\u001b[0;34m\u001b[0m\u001b[0m\n\u001b[1;32m    448\u001b[0m                     \u001b[0;31m# Otherwise it looks like a bug in the code.\u001b[0m\u001b[0;34m\u001b[0m\u001b[0;34m\u001b[0m\u001b[0;34m\u001b[0m\u001b[0m\n\u001b[0;32m--> 449\u001b[0;31m                     \u001b[0msix\u001b[0m\u001b[0;34m.\u001b[0m\u001b[0mraise_from\u001b[0m\u001b[0;34m(\u001b[0m\u001b[0me\u001b[0m\u001b[0;34m,\u001b[0m \u001b[0;32mNone\u001b[0m\u001b[0;34m)\u001b[0m\u001b[0;34m\u001b[0m\u001b[0;34m\u001b[0m\u001b[0m\n\u001b[0m\u001b[1;32m    450\u001b[0m         \u001b[0;32mexcept\u001b[0m \u001b[0;34m(\u001b[0m\u001b[0mSocketTimeout\u001b[0m\u001b[0;34m,\u001b[0m \u001b[0mBaseSSLError\u001b[0m\u001b[0;34m,\u001b[0m \u001b[0mSocketError\u001b[0m\u001b[0;34m)\u001b[0m \u001b[0;32mas\u001b[0m \u001b[0me\u001b[0m\u001b[0;34m:\u001b[0m\u001b[0;34m\u001b[0m\u001b[0;34m\u001b[0m\u001b[0m\n\u001b[1;32m    451\u001b[0m             \u001b[0mself\u001b[0m\u001b[0;34m.\u001b[0m\u001b[0m_raise_timeout\u001b[0m\u001b[0;34m(\u001b[0m\u001b[0merr\u001b[0m\u001b[0;34m=\u001b[0m\u001b[0me\u001b[0m\u001b[0;34m,\u001b[0m \u001b[0murl\u001b[0m\u001b[0;34m=\u001b[0m\u001b[0murl\u001b[0m\u001b[0;34m,\u001b[0m \u001b[0mtimeout_value\u001b[0m\u001b[0;34m=\u001b[0m\u001b[0mread_timeout\u001b[0m\u001b[0;34m)\u001b[0m\u001b[0;34m\u001b[0m\u001b[0;34m\u001b[0m\u001b[0m\n",
      "\u001b[0;32m~/miniconda3/envs/amftrack/lib/python3.7/site-packages/urllib3/packages/six.py\u001b[0m in \u001b[0;36mraise_from\u001b[0;34m(value, from_value)\u001b[0m\n",
      "\u001b[0;32m~/miniconda3/envs/amftrack/lib/python3.7/site-packages/urllib3/connectionpool.py\u001b[0m in \u001b[0;36m_make_request\u001b[0;34m(self, conn, method, url, timeout, chunked, **httplib_request_kw)\u001b[0m\n\u001b[1;32m    442\u001b[0m                 \u001b[0;31m# Python 3\u001b[0m\u001b[0;34m\u001b[0m\u001b[0;34m\u001b[0m\u001b[0;34m\u001b[0m\u001b[0m\n\u001b[1;32m    443\u001b[0m                 \u001b[0;32mtry\u001b[0m\u001b[0;34m:\u001b[0m\u001b[0;34m\u001b[0m\u001b[0;34m\u001b[0m\u001b[0m\n\u001b[0;32m--> 444\u001b[0;31m                     \u001b[0mhttplib_response\u001b[0m \u001b[0;34m=\u001b[0m \u001b[0mconn\u001b[0m\u001b[0;34m.\u001b[0m\u001b[0mgetresponse\u001b[0m\u001b[0;34m(\u001b[0m\u001b[0;34m)\u001b[0m\u001b[0;34m\u001b[0m\u001b[0;34m\u001b[0m\u001b[0m\n\u001b[0m\u001b[1;32m    445\u001b[0m                 \u001b[0;32mexcept\u001b[0m \u001b[0mBaseException\u001b[0m \u001b[0;32mas\u001b[0m \u001b[0me\u001b[0m\u001b[0;34m:\u001b[0m\u001b[0;34m\u001b[0m\u001b[0;34m\u001b[0m\u001b[0m\n\u001b[1;32m    446\u001b[0m                     \u001b[0;31m# Remove the TypeError from the exception chain in\u001b[0m\u001b[0;34m\u001b[0m\u001b[0;34m\u001b[0m\u001b[0;34m\u001b[0m\u001b[0m\n",
      "\u001b[0;32m~/miniconda3/envs/amftrack/lib/python3.7/http/client.py\u001b[0m in \u001b[0;36mgetresponse\u001b[0;34m(self)\u001b[0m\n\u001b[1;32m   1371\u001b[0m         \u001b[0;32mtry\u001b[0m\u001b[0;34m:\u001b[0m\u001b[0;34m\u001b[0m\u001b[0;34m\u001b[0m\u001b[0m\n\u001b[1;32m   1372\u001b[0m             \u001b[0;32mtry\u001b[0m\u001b[0;34m:\u001b[0m\u001b[0;34m\u001b[0m\u001b[0;34m\u001b[0m\u001b[0m\n\u001b[0;32m-> 1373\u001b[0;31m                 \u001b[0mresponse\u001b[0m\u001b[0;34m.\u001b[0m\u001b[0mbegin\u001b[0m\u001b[0;34m(\u001b[0m\u001b[0;34m)\u001b[0m\u001b[0;34m\u001b[0m\u001b[0;34m\u001b[0m\u001b[0m\n\u001b[0m\u001b[1;32m   1374\u001b[0m             \u001b[0;32mexcept\u001b[0m \u001b[0mConnectionError\u001b[0m\u001b[0;34m:\u001b[0m\u001b[0;34m\u001b[0m\u001b[0;34m\u001b[0m\u001b[0m\n\u001b[1;32m   1375\u001b[0m                 \u001b[0mself\u001b[0m\u001b[0;34m.\u001b[0m\u001b[0mclose\u001b[0m\u001b[0;34m(\u001b[0m\u001b[0;34m)\u001b[0m\u001b[0;34m\u001b[0m\u001b[0;34m\u001b[0m\u001b[0m\n",
      "\u001b[0;32m~/miniconda3/envs/amftrack/lib/python3.7/http/client.py\u001b[0m in \u001b[0;36mbegin\u001b[0;34m(self)\u001b[0m\n\u001b[1;32m    317\u001b[0m         \u001b[0;31m# read until we get a non-100 response\u001b[0m\u001b[0;34m\u001b[0m\u001b[0;34m\u001b[0m\u001b[0;34m\u001b[0m\u001b[0m\n\u001b[1;32m    318\u001b[0m         \u001b[0;32mwhile\u001b[0m \u001b[0;32mTrue\u001b[0m\u001b[0;34m:\u001b[0m\u001b[0;34m\u001b[0m\u001b[0;34m\u001b[0m\u001b[0m\n\u001b[0;32m--> 319\u001b[0;31m             \u001b[0mversion\u001b[0m\u001b[0;34m,\u001b[0m \u001b[0mstatus\u001b[0m\u001b[0;34m,\u001b[0m \u001b[0mreason\u001b[0m \u001b[0;34m=\u001b[0m \u001b[0mself\u001b[0m\u001b[0;34m.\u001b[0m\u001b[0m_read_status\u001b[0m\u001b[0;34m(\u001b[0m\u001b[0;34m)\u001b[0m\u001b[0;34m\u001b[0m\u001b[0;34m\u001b[0m\u001b[0m\n\u001b[0m\u001b[1;32m    320\u001b[0m             \u001b[0;32mif\u001b[0m \u001b[0mstatus\u001b[0m \u001b[0;34m!=\u001b[0m \u001b[0mCONTINUE\u001b[0m\u001b[0;34m:\u001b[0m\u001b[0;34m\u001b[0m\u001b[0;34m\u001b[0m\u001b[0m\n\u001b[1;32m    321\u001b[0m                 \u001b[0;32mbreak\u001b[0m\u001b[0;34m\u001b[0m\u001b[0;34m\u001b[0m\u001b[0m\n",
      "\u001b[0;32m~/miniconda3/envs/amftrack/lib/python3.7/http/client.py\u001b[0m in \u001b[0;36m_read_status\u001b[0;34m(self)\u001b[0m\n\u001b[1;32m    278\u001b[0m \u001b[0;34m\u001b[0m\u001b[0m\n\u001b[1;32m    279\u001b[0m     \u001b[0;32mdef\u001b[0m \u001b[0m_read_status\u001b[0m\u001b[0;34m(\u001b[0m\u001b[0mself\u001b[0m\u001b[0;34m)\u001b[0m\u001b[0;34m:\u001b[0m\u001b[0;34m\u001b[0m\u001b[0;34m\u001b[0m\u001b[0m\n\u001b[0;32m--> 280\u001b[0;31m         \u001b[0mline\u001b[0m \u001b[0;34m=\u001b[0m \u001b[0mstr\u001b[0m\u001b[0;34m(\u001b[0m\u001b[0mself\u001b[0m\u001b[0;34m.\u001b[0m\u001b[0mfp\u001b[0m\u001b[0;34m.\u001b[0m\u001b[0mreadline\u001b[0m\u001b[0;34m(\u001b[0m\u001b[0m_MAXLINE\u001b[0m \u001b[0;34m+\u001b[0m \u001b[0;36m1\u001b[0m\u001b[0;34m)\u001b[0m\u001b[0;34m,\u001b[0m \u001b[0;34m\"iso-8859-1\"\u001b[0m\u001b[0;34m)\u001b[0m\u001b[0;34m\u001b[0m\u001b[0;34m\u001b[0m\u001b[0m\n\u001b[0m\u001b[1;32m    281\u001b[0m         \u001b[0;32mif\u001b[0m \u001b[0mlen\u001b[0m\u001b[0;34m(\u001b[0m\u001b[0mline\u001b[0m\u001b[0;34m)\u001b[0m \u001b[0;34m>\u001b[0m \u001b[0m_MAXLINE\u001b[0m\u001b[0;34m:\u001b[0m\u001b[0;34m\u001b[0m\u001b[0;34m\u001b[0m\u001b[0m\n\u001b[1;32m    282\u001b[0m             \u001b[0;32mraise\u001b[0m \u001b[0mLineTooLong\u001b[0m\u001b[0;34m(\u001b[0m\u001b[0;34m\"status line\"\u001b[0m\u001b[0;34m)\u001b[0m\u001b[0;34m\u001b[0m\u001b[0;34m\u001b[0m\u001b[0m\n",
      "\u001b[0;32m~/miniconda3/envs/amftrack/lib/python3.7/socket.py\u001b[0m in \u001b[0;36mreadinto\u001b[0;34m(self, b)\u001b[0m\n\u001b[1;32m    587\u001b[0m         \u001b[0;32mwhile\u001b[0m \u001b[0;32mTrue\u001b[0m\u001b[0;34m:\u001b[0m\u001b[0;34m\u001b[0m\u001b[0;34m\u001b[0m\u001b[0m\n\u001b[1;32m    588\u001b[0m             \u001b[0;32mtry\u001b[0m\u001b[0;34m:\u001b[0m\u001b[0;34m\u001b[0m\u001b[0;34m\u001b[0m\u001b[0m\n\u001b[0;32m--> 589\u001b[0;31m                 \u001b[0;32mreturn\u001b[0m \u001b[0mself\u001b[0m\u001b[0;34m.\u001b[0m\u001b[0m_sock\u001b[0m\u001b[0;34m.\u001b[0m\u001b[0mrecv_into\u001b[0m\u001b[0;34m(\u001b[0m\u001b[0mb\u001b[0m\u001b[0;34m)\u001b[0m\u001b[0;34m\u001b[0m\u001b[0;34m\u001b[0m\u001b[0m\n\u001b[0m\u001b[1;32m    590\u001b[0m             \u001b[0;32mexcept\u001b[0m \u001b[0mtimeout\u001b[0m\u001b[0;34m:\u001b[0m\u001b[0;34m\u001b[0m\u001b[0;34m\u001b[0m\u001b[0m\n\u001b[1;32m    591\u001b[0m                 \u001b[0mself\u001b[0m\u001b[0;34m.\u001b[0m\u001b[0m_timeout_occurred\u001b[0m \u001b[0;34m=\u001b[0m \u001b[0;32mTrue\u001b[0m\u001b[0;34m\u001b[0m\u001b[0;34m\u001b[0m\u001b[0m\n",
      "\u001b[0;32m~/miniconda3/envs/amftrack/lib/python3.7/ssl.py\u001b[0m in \u001b[0;36mrecv_into\u001b[0;34m(self, buffer, nbytes, flags)\u001b[0m\n\u001b[1;32m   1069\u001b[0m                   \u001b[0;34m\"non-zero flags not allowed in calls to recv_into() on %s\"\u001b[0m \u001b[0;34m%\u001b[0m\u001b[0;34m\u001b[0m\u001b[0;34m\u001b[0m\u001b[0m\n\u001b[1;32m   1070\u001b[0m                   self.__class__)\n\u001b[0;32m-> 1071\u001b[0;31m             \u001b[0;32mreturn\u001b[0m \u001b[0mself\u001b[0m\u001b[0;34m.\u001b[0m\u001b[0mread\u001b[0m\u001b[0;34m(\u001b[0m\u001b[0mnbytes\u001b[0m\u001b[0;34m,\u001b[0m \u001b[0mbuffer\u001b[0m\u001b[0;34m)\u001b[0m\u001b[0;34m\u001b[0m\u001b[0;34m\u001b[0m\u001b[0m\n\u001b[0m\u001b[1;32m   1072\u001b[0m         \u001b[0;32melse\u001b[0m\u001b[0;34m:\u001b[0m\u001b[0;34m\u001b[0m\u001b[0;34m\u001b[0m\u001b[0m\n\u001b[1;32m   1073\u001b[0m             \u001b[0;32mreturn\u001b[0m \u001b[0msuper\u001b[0m\u001b[0;34m(\u001b[0m\u001b[0;34m)\u001b[0m\u001b[0;34m.\u001b[0m\u001b[0mrecv_into\u001b[0m\u001b[0;34m(\u001b[0m\u001b[0mbuffer\u001b[0m\u001b[0;34m,\u001b[0m \u001b[0mnbytes\u001b[0m\u001b[0;34m,\u001b[0m \u001b[0mflags\u001b[0m\u001b[0;34m)\u001b[0m\u001b[0;34m\u001b[0m\u001b[0;34m\u001b[0m\u001b[0m\n",
      "\u001b[0;32m~/miniconda3/envs/amftrack/lib/python3.7/ssl.py\u001b[0m in \u001b[0;36mread\u001b[0;34m(self, len, buffer)\u001b[0m\n\u001b[1;32m    927\u001b[0m         \u001b[0;32mtry\u001b[0m\u001b[0;34m:\u001b[0m\u001b[0;34m\u001b[0m\u001b[0;34m\u001b[0m\u001b[0m\n\u001b[1;32m    928\u001b[0m             \u001b[0;32mif\u001b[0m \u001b[0mbuffer\u001b[0m \u001b[0;32mis\u001b[0m \u001b[0;32mnot\u001b[0m \u001b[0;32mNone\u001b[0m\u001b[0;34m:\u001b[0m\u001b[0;34m\u001b[0m\u001b[0;34m\u001b[0m\u001b[0m\n\u001b[0;32m--> 929\u001b[0;31m                 \u001b[0;32mreturn\u001b[0m \u001b[0mself\u001b[0m\u001b[0;34m.\u001b[0m\u001b[0m_sslobj\u001b[0m\u001b[0;34m.\u001b[0m\u001b[0mread\u001b[0m\u001b[0;34m(\u001b[0m\u001b[0mlen\u001b[0m\u001b[0;34m,\u001b[0m \u001b[0mbuffer\u001b[0m\u001b[0;34m)\u001b[0m\u001b[0;34m\u001b[0m\u001b[0;34m\u001b[0m\u001b[0m\n\u001b[0m\u001b[1;32m    930\u001b[0m             \u001b[0;32melse\u001b[0m\u001b[0;34m:\u001b[0m\u001b[0;34m\u001b[0m\u001b[0;34m\u001b[0m\u001b[0m\n\u001b[1;32m    931\u001b[0m                 \u001b[0;32mreturn\u001b[0m \u001b[0mself\u001b[0m\u001b[0;34m.\u001b[0m\u001b[0m_sslobj\u001b[0m\u001b[0;34m.\u001b[0m\u001b[0mread\u001b[0m\u001b[0;34m(\u001b[0m\u001b[0mlen\u001b[0m\u001b[0;34m)\u001b[0m\u001b[0;34m\u001b[0m\u001b[0;34m\u001b[0m\u001b[0m\n",
      "\u001b[0;31mKeyboardInterrupt\u001b[0m: "
     ]
    }
   ],
   "source": [
    "all_folders_drop = get_dropbox_folders(\"/DATA/PRINCE\", True)"
   ]
  },
  {
   "cell_type": "code",
   "execution_count": 6,
   "id": "a0cd5156-1751-427c-a19f-84644c5e34e6",
   "metadata": {
    "tags": []
   },
   "outputs": [
    {
     "ename": "NameError",
     "evalue": "name 'all_folders_drop' is not defined",
     "output_type": "error",
     "traceback": [
      "\u001b[0;31m---------------------------------------------------------------------------\u001b[0m",
      "\u001b[0;31mNameError\u001b[0m                                 Traceback (most recent call last)",
      "\u001b[0;32m/scratch-local/cbisot/ipykernel_797440/606576782.py\u001b[0m in \u001b[0;36m<module>\u001b[0;34m\u001b[0m\n\u001b[1;32m      1\u001b[0m \u001b[0mdir_drop\u001b[0m \u001b[0;34m=\u001b[0m \u001b[0;34m\"DATA/PRINCE\"\u001b[0m\u001b[0;34m\u001b[0m\u001b[0;34m\u001b[0m\u001b[0m\n\u001b[1;32m      2\u001b[0m \u001b[0;31m# all_folders_drop = get_dropbox_folders(\"/DATA/PRINCE\", True)\u001b[0m\u001b[0;34m\u001b[0m\u001b[0;34m\u001b[0m\u001b[0;34m\u001b[0m\u001b[0m\n\u001b[0;32m----> 3\u001b[0;31m \u001b[0mfolders_drop\u001b[0m \u001b[0;34m=\u001b[0m \u001b[0mall_folders_drop\u001b[0m\u001b[0;34m.\u001b[0m\u001b[0mloc\u001b[0m\u001b[0;34m[\u001b[0m\u001b[0mall_folders_drop\u001b[0m\u001b[0;34m[\u001b[0m\u001b[0;34m\"unique_id\"\u001b[0m\u001b[0;34m]\u001b[0m\u001b[0;34m.\u001b[0m\u001b[0misin\u001b[0m\u001b[0;34m(\u001b[0m\u001b[0mplates\u001b[0m\u001b[0;34m)\u001b[0m\u001b[0;34m]\u001b[0m\u001b[0;34m\u001b[0m\u001b[0;34m\u001b[0m\u001b[0m\n\u001b[0m\u001b[1;32m      4\u001b[0m \u001b[0mupdate_plate_info\u001b[0m\u001b[0;34m(\u001b[0m\u001b[0mdirectory_targ\u001b[0m\u001b[0;34m,\u001b[0m \u001b[0mlocal\u001b[0m\u001b[0;34m=\u001b[0m\u001b[0;32mTrue\u001b[0m\u001b[0;34m,\u001b[0m \u001b[0mstrong_constraint\u001b[0m\u001b[0;34m=\u001b[0m\u001b[0;32mFalse\u001b[0m\u001b[0;34m)\u001b[0m\u001b[0;34m\u001b[0m\u001b[0;34m\u001b[0m\u001b[0m\n\u001b[1;32m      5\u001b[0m \u001b[0mall_folders\u001b[0m \u001b[0;34m=\u001b[0m \u001b[0mget_current_folders\u001b[0m\u001b[0;34m(\u001b[0m\u001b[0mdirectory_targ\u001b[0m\u001b[0;34m,\u001b[0m \u001b[0mlocal\u001b[0m\u001b[0;34m=\u001b[0m\u001b[0;32mTrue\u001b[0m\u001b[0;34m)\u001b[0m\u001b[0;34m\u001b[0m\u001b[0;34m\u001b[0m\u001b[0m\n",
      "\u001b[0;31mNameError\u001b[0m: name 'all_folders_drop' is not defined"
     ]
    }
   ],
   "source": [
    "dir_drop = \"DATA/PRINCE\"\n",
    "# all_folders_drop = get_dropbox_folders(\"/DATA/PRINCE\", True)\n",
    "folders_drop = all_folders_drop.loc[all_folders_drop[\"unique_id\"].isin(plates)]\n",
    "update_plate_info(directory_targ, local=True, strong_constraint=False)\n",
    "all_folders = get_current_folders(directory_targ, local=True)\n",
    "# if len(all_folders) > 0:\n",
    "folders = all_folders.loc[all_folders[\"unique_id\"].isin(plates)]\n",
    "folders_drop2 = folders_drop.loc[~folders_drop[\"folder\"].isin(folders[\"folder\"])]\n",
    "folders_drop3 = folders_drop2.loc[~folders_drop2[\"folder\"].str.contains(\"Analysis\")]"
   ]
  },
  {
   "cell_type": "code",
   "execution_count": 39,
   "id": "4a62256b-7c18-4acd-87fd-3786f14f3ba2",
   "metadata": {
    "tags": []
   },
   "outputs": [
    {
     "data": {
      "text/html": [
       "<div>\n",
       "<style scoped>\n",
       "    .dataframe tbody tr th:only-of-type {\n",
       "        vertical-align: middle;\n",
       "    }\n",
       "\n",
       "    .dataframe tbody tr th {\n",
       "        vertical-align: top;\n",
       "    }\n",
       "\n",
       "    .dataframe thead th {\n",
       "        text-align: right;\n",
       "    }\n",
       "</style>\n",
       "<table border=\"1\" class=\"dataframe\">\n",
       "  <thead>\n",
       "    <tr style=\"text-align: right;\">\n",
       "      <th></th>\n",
       "      <th>folder</th>\n",
       "      <th>size</th>\n",
       "      <th>change_date</th>\n",
       "      <th>tot_path_drop</th>\n",
       "      <th>Plate</th>\n",
       "      <th>CrossDate</th>\n",
       "      <th>unique_id</th>\n",
       "    </tr>\n",
       "  </thead>\n",
       "  <tbody>\n",
       "  </tbody>\n",
       "</table>\n",
       "</div>"
      ],
      "text/plain": [
       "Empty DataFrame\n",
       "Columns: [folder, size, change_date, tot_path_drop, Plate, CrossDate, unique_id]\n",
       "Index: []"
      ]
     },
     "execution_count": 39,
     "metadata": {},
     "output_type": "execute_result"
    }
   ],
   "source": [
    "folders_drop3"
   ]
  },
  {
   "cell_type": "code",
   "execution_count": 8,
   "id": "84469621-95e5-4866-b780-bec978a73e03",
   "metadata": {
    "tags": []
   },
   "outputs": [],
   "source": [
    "on_dropbox = all_folders_drop.loc[\n",
    "    all_folders_drop[\"CrossDate\"].between(\"20220820\", \"20220901\")\n",
    "]\n",
    "plates = on_dropbox[\"unique_id\"].unique()"
   ]
  },
  {
   "cell_type": "code",
   "execution_count": 9,
   "id": "9bafdbab-19b3-4272-b640-726ccfd152de",
   "metadata": {},
   "outputs": [
    {
     "data": {
      "text/plain": [
       "array(['109_20220829', '140_20220826', '106_20220826', '46_20220829',\n",
       "       '111_20220823', '107_20220821', '108_20220823', '66_20220823',\n",
       "       '996_20220823'], dtype=object)"
      ]
     },
     "execution_count": 9,
     "metadata": {},
     "output_type": "execute_result"
    }
   ],
   "source": [
    "plates"
   ]
  },
  {
   "cell_type": "code",
   "execution_count": 10,
   "id": "d168e936-b144-4abd-8542-502a65f07523",
   "metadata": {
    "tags": []
   },
   "outputs": [
    {
     "data": {
      "text/plain": [
       "2847"
      ]
     },
     "execution_count": 10,
     "metadata": {},
     "output_type": "execute_result"
    }
   ],
   "source": [
    "len(on_dropbox)"
   ]
  },
  {
   "cell_type": "code",
   "execution_count": 3,
   "id": "a41d5ed3-e77d-487d-be97-7a780b6df7de",
   "metadata": {
    "tags": []
   },
   "outputs": [],
   "source": [
    "# plates= ['94_20201123','102_20201226','76_20210108','152_20201224','792_20210915']\n",
    "# plates= ['52_20220707','56_20220701','839_20220325','938_20220325','1076_20220511']\n",
    "plates = [\n",
    "    \"52_20220707\",\n",
    "    \"56_20220701\",\n",
    "    \"81_20220704\",\n",
    "    \"89_20220705\",\n",
    "    \"91_20220708\",\n",
    "    \"839_20220325\",\n",
    "    \"1076_20220511\",\n",
    "]  # full run done!\n",
    "plates = [\n",
    "    \"84_20220621\",\n",
    "    \"877_20220419\",\n",
    "    \"938_20220325\",\n",
    "    \"941_20220404\",\n",
    "]  # for spore data\n",
    "\n",
    "# plates = ['52_20220707','84_20220621','1048_20220506','1045_20220504']\n",
    "plates = [\n",
    "    # \"20_20220419\",\n",
    "    # \"23_20220509\",\n",
    "    # \"24_20220426\",\n",
    "    # \"30_20220509\",\n",
    "    # \"32_20220428\",\n",
    "    \"33_20220502\",\n",
    "]  # analysis AGG\n",
    "# plates = [\"20_20220419\", \"23_20220509\", \"24_20220426\"]  # analysis AGG\n",
    "\n",
    "# plates = ['111111_20600101']\n",
    "# plates = [\"56_20220701\",\"839_20220325\",'938_20220325','1076_20220511'] #analysis A5\n",
    "# plates = [\"81_20220704\",\"84_20220621\",\"89_20220705\",\"91_20220708\"] #analysis A5sp3\n",
    "# plates = [\"127_20220705\",\"129_20220711\",\"130_20220707\",\"1014_20220525\",\"1023_20220502\",\"1048_20220506\", \"1045_20220504\",\"1035_20220518\",\"1037_20220523\",\"1042_20220523\",\"1053_20220413\"] #analysis C2\n",
    "# plates = [\"1035_20220518\",\"1037_20220523\",\"1042_20220523\",\"1053_20220413\"] #analysis C2\n",
    "# plates = ['94_20201123','152_20201224','792_20210915']\n",
    "# plates = ['799_20211001','800_20210928','91_20201217']\n",
    "# plates = [\"1044_20220509\"]\n",
    "# plates = [\"1048_20220506\", \"1045_20220504\", \"52_20220707\", \"84_20220621\"]\n",
    "# plates = [\n",
    "#     '102_20201226',\n",
    "#      '94_20201123',\n",
    "#     \"1076_20220511\",\n",
    "#     \"1042_20220523\",\n",
    "#     \"1048_20220506\",\n",
    "#     \"938_20220325\",\n",
    "#          ]\n",
    "# plates = ['907_20220321','943_20220322',\"403_20221005\"] #for philippe\n",
    "# plates = ['799_20211001','800_20210928',\"91_20201217\"]\n",
    "plates = [\n",
    "    \"106_20220826\",\n",
    "    \"108_20220823\",\n",
    "    \"111_20220823\",\n",
    "    \"66_20220823\",\n",
    "    \"105_20220817\",\n",
    "    \"100_20220812\",\n",
    "    \"75_20220808\",\n",
    "    \"99_20220815\",\n",
    "]\n",
    "\n",
    "plates = [\"521_20230104\"]  # for spore data\n",
    "# plates = ['1048_20220506','84_20220621'] #for spore data\n",
    "# plates = ['510_20220623']"
   ]
  },
  {
   "cell_type": "code",
   "execution_count": 2,
   "id": "36f5e840-d63e-4fcf-96b2-71b8c3ea4584",
   "metadata": {
    "jupyter": {
     "source_hidden": true
    },
    "tags": []
   },
   "outputs": [],
   "source": [
    "plates = [\n",
    "    \"078_20220920\",\n",
    "    \"079_20220920\",\n",
    "    \"080_20220920\",\n",
    "    \"081_20220920\",\n",
    "    \"082_20220920\",\n",
    "    \"083_20220920\",\n",
    "    \"084_20220920\",\n",
    "    \"001_20220920\",\n",
    "    \"024_20220920\",\n",
    "    \"073_20220920\",\n",
    "    \"002_20220920\",\n",
    "    \"003_20220920\",\n",
    "    \"004_20220920\",\n",
    "    \"005_20220920\",\n",
    "    \"006_20220920\",\n",
    "    \"007_20220920\",\n",
    "    \"008_20220920\",\n",
    "    \"009_20220920\",\n",
    "    \"010_20220920\",\n",
    "    \"011_20220920\",\n",
    "    \"012_20220920\",\n",
    "    \"019_20220920\",\n",
    "    \"020_20220920\",\n",
    "    \"021_20220920\",\n",
    "    \"022_20220920\",\n",
    "    \"023_20220920\",\n",
    "    \"037_20220920\",\n",
    "    \"038_20220920\",\n",
    "    \"039_20220920\",\n",
    "    \"040_20220920\",\n",
    "    \"042_20220920\",\n",
    "    \"043_20220920\",\n",
    "    \"044_20220920\",\n",
    "    \"045_20220920\",\n",
    "    \"046_20220920\",\n",
    "    \"016_20220921\",\n",
    "    \"017_20220921\",\n",
    "    \"034_20220921\",\n",
    "    \"051_20220920\",\n",
    "    \"094_20220921\",\n",
    "    \"064_20220921\",\n",
    "    \"026_20220921\",\n",
    "    \"027_20220921\",\n",
    "    \"028_20220921\",\n",
    "    \"029_20220921\",\n",
    "    \"031_20220921\",\n",
    "    \"033_20220921\",\n",
    "    \"035_20220921\",\n",
    "    \"036_20220921\",\n",
    "    \"047_20220920\",\n",
    "    \"041_20220920\",\n",
    "    \"015_20220921\",\n",
    "    \"068_20220921\",\n",
    "    \"107_20220921\",\n",
    "    \"095_20220921\",\n",
    "    \"062_20220921\",\n",
    "    \"096_20220921\",\n",
    "    \"104_20220921\",\n",
    "    \"050_20220920\",\n",
    "    \"030_20220921\",\n",
    "    \"025_20220921\",\n",
    "    \"100_20220921\",\n",
    "    \"067_20220921\",\n",
    "    \"048_20220920\",\n",
    "    \"055_20220921\",\n",
    "    \"056_20220921\",\n",
    "    \"057_20220921\",\n",
    "    \"058_20220921\",\n",
    "    \"059_20220921\",\n",
    "    \"060_20220921\",\n",
    "    \"061_20220921\",\n",
    "    \"063_20220921\",\n",
    "    \"014_20220921\",\n",
    "    \"018_20220921\",\n",
    "    \"099_20220921\",\n",
    "    \"069_20220921\",\n",
    "    \"054_20220920\",\n",
    "    \"075_20220920\",\n",
    "    \"092_20220921\",\n",
    "    \"093_20220921\",\n",
    "    \"097_20220921\",\n",
    "    \"098_20220921\",\n",
    "    \"105_20220921\",\n",
    "    \"106_20220921\",\n",
    "    \"108_20220921\",\n",
    "    \"085_20220921\",\n",
    "    \"086_20220921\",\n",
    "    \"087_20220921\",\n",
    "    \"088_20220921\",\n",
    "    \"089_20220921\",\n",
    "    \"090_20220921\",\n",
    "    \"091_20220921\",\n",
    "    \"049_20220920\",\n",
    "    \"052_20220920\",\n",
    "    \"053_20220920\",\n",
    "    \"074_20220920\",\n",
    "    \"076_20220920\",\n",
    "    \"077_20220920\",\n",
    "    \"013_20220921\",\n",
    "    \"070_20220921\",\n",
    "    \"071_20220921\",\n",
    "    \"072_20220921\",\n",
    "    \"102_20220921\",\n",
    "    \"032_20220921\",\n",
    "    \"101_20220921\",\n",
    "    \"065_20220921\",\n",
    "    \"066_20220921\",\n",
    "    \"103_20220921\",\n",
    "]\n",
    "plates = [\n",
    "    \"_\".join((str(int(plate.split(\"_\")[0])), str(int(plate.split(\"_\")[1]))))\n",
    "    for plate in plates\n",
    "]"
   ]
  },
  {
   "cell_type": "code",
   "execution_count": 5,
   "id": "8efe6f25-cd53-4e0e-ad12-d5a6f24c3d76",
   "metadata": {},
   "outputs": [],
   "source": [
    "import imageio.v2 as imageio"
   ]
  },
  {
   "cell_type": "code",
   "execution_count": 52,
   "id": "6bb4e977-e1c8-4bb0-b88b-12ef74766f27",
   "metadata": {
    "tags": []
   },
   "outputs": [],
   "source": [
    "folders_drop = all_folders_drop.loc[\n",
    "    all_folders_drop[\"unique_id\"].isin(select_plates)\n",
    "].loc[all_folders_drop[\"folder\"].str.split(\"_\", expand=True)[0] == \"20220809\"]"
   ]
  },
  {
   "cell_type": "code",
   "execution_count": 3,
   "id": "50c944da-ef14-4242-b6ac-48aea758abbb",
   "metadata": {},
   "outputs": [
    {
     "data": {
      "text/plain": [
       "'/projects/0/einf914/data/'"
      ]
     },
     "execution_count": 3,
     "metadata": {},
     "output_type": "execute_result"
    }
   ],
   "source": [
    "directory_targ = directory_project\n",
    "directory_project"
   ]
  },
  {
   "cell_type": "code",
   "execution_count": 8,
   "id": "79fdc066-12e4-4708-a4f7-9d681e55ee14",
   "metadata": {},
   "outputs": [],
   "source": [
    "directory_targ = os.path.join(directory_scratch, \"stitch_temp2\") + \"/\""
   ]
  },
  {
   "cell_type": "code",
   "execution_count": 4,
   "id": "75fd7145-988e-4391-8e18-83c016f22843",
   "metadata": {
    "collapsed": true,
    "jupyter": {
     "outputs_hidden": true
    },
    "tags": []
   },
   "outputs": [
    {
     "name": "stderr",
     "output_type": "stream",
     "text": [
      "sbatch: Single-node jobs run on a shared node by default. Add --exclusive if you want to use a node exclusively.\n",
      "sbatch: A full node consists of 32 CPU cores, 229376 MiB of memory and 0 GPUs and can be shared by up to 32 jobs.\n",
      "sbatch: By default shared jobs get 7168 MiB of memory per CPU core, unless explicitly overridden with --mem-per-cpu, --mem-per-gpu or --mem.\n",
      "sbatch: You will be charged for 0.03125 node, based on the number of CPUs, GPUs and the amount memory that you've requested.\n"
     ]
    },
    {
     "name": "stdout",
     "output_type": "stream",
     "text": [
      "Submitted batch job 2163181\n"
     ]
    }
   ],
   "source": [
    "name_job = f\"one_shot_{time_ns()}.sh\"\n",
    "run_launcher(\n",
    "    \"dropbox_downloader.py\",\n",
    "    [directory_targ, name_job, 30, \"stitcher.py\"],\n",
    "    plates,\n",
    "    \"12:00:00\",\n",
    "    name_job=name_job,\n",
    "    dependency=True,\n",
    ")\n",
    "# run_launcher('dropbox_uploader.py',[directory_targ,name_job],plates,'40:00',dependency=True,name_job = name_job)"
   ]
  },
  {
   "cell_type": "code",
   "execution_count": 4,
   "id": "d7617c84-087e-45c1-80e3-99559e53f784",
   "metadata": {
    "tags": []
   },
   "outputs": [
    {
     "name": "stderr",
     "output_type": "stream",
     "text": [
      "sbatch: Single-node jobs run on a shared node by default. Add --exclusive if you want to use a node exclusively.\n",
      "sbatch: A full node consists of 32 CPU cores, 229376 MiB of memory and 0 GPUs and can be shared by up to 32 jobs.\n",
      "sbatch: By default shared jobs get 7168 MiB of memory per CPU core, unless explicitly overridden with --mem-per-cpu, --mem-per-gpu or --mem.\n",
      "sbatch: You will be charged for 0.03125 node, based on the number of CPUs, GPUs and the amount memory that you've requested.\n"
     ]
    },
    {
     "name": "stdout",
     "output_type": "stream",
     "text": [
      "Submitted batch job 2240180\n"
     ]
    }
   ],
   "source": [
    "name_job = f\"one_shot_{time_ns()}.sh\"\n",
    "# name_job = \"recompute2\"\n",
    "run_launcher(\n",
    "    \"dropbox_downloader.py\",\n",
    "    [directory_targ, name_job, -1, \"hypha_identifier.py\"],\n",
    "    plates,\n",
    "    \"24:00:00\",\n",
    "    name_job=name_job,\n",
    "    dependency=False,\n",
    ")"
   ]
  },
  {
   "cell_type": "code",
   "execution_count": 7,
   "id": "623791bd-676c-4e98-95f5-238768f2e931",
   "metadata": {
    "tags": []
   },
   "outputs": [
    {
     "name": "stderr",
     "output_type": "stream",
     "text": [
      "sbatch: Single-node jobs run on a shared node by default. Add --exclusive if you want to use a node exclusively.\n",
      "sbatch: A full node consists of 32 CPU cores, 229376 MiB of memory and 0 GPUs and can be shared by up to 32 jobs.\n",
      "sbatch: By default shared jobs get 7168 MiB of memory per CPU core, unless explicitly overridden with --mem-per-cpu, --mem-per-gpu or --mem.\n",
      "sbatch: You will be charged for 0.03125 node, based on the number of CPUs, GPUs and the amount memory that you've requested.\n"
     ]
    },
    {
     "name": "stdout",
     "output_type": "stream",
     "text": [
      "Submitted batch job 2194849\n"
     ]
    }
   ],
   "source": [
    "name_job = \"recompute2\"\n",
    "\n",
    "# name_job = f\"one_shot_{time_ns()}.sh\"\n",
    "\n",
    "run_launcher(\n",
    "    \"stitcher.py\",\n",
    "    [directory_targ, name_job, 30],\n",
    "    plates,\n",
    "    \"12:00:00\",\n",
    "    dependency=True,\n",
    "    name_job=name_job,\n",
    ")"
   ]
  },
  {
   "cell_type": "code",
   "execution_count": 6,
   "id": "c5072d8b-6988-4898-8705-74841b6cb1f1",
   "metadata": {
    "tags": []
   },
   "outputs": [],
   "source": [
    "update_analysis_info(directory_targ)\n",
    "\n",
    "analysis_info = get_analysis_info(directory_targ)\n",
    "analysis_folders = analysis_info.loc[analysis_info[\"unique_id\"].isin(plates)]"
   ]
  },
  {
   "cell_type": "code",
   "execution_count": 9,
   "id": "9489912d-0055-4278-970f-b53578dcb125",
   "metadata": {},
   "outputs": [
    {
     "data": {
      "text/plain": [
       "'Analysis_32_20220428_200_Version1/time_plate_info.json'"
      ]
     },
     "execution_count": 9,
     "metadata": {},
     "output_type": "execute_result"
    }
   ],
   "source": [
    "analysis_folders[\"path_time_plate_info\"].iloc[0]"
   ]
  },
  {
   "cell_type": "code",
   "execution_count": 23,
   "id": "ce442791-7340-48fa-ad79-b29468e739aa",
   "metadata": {
    "collapsed": true,
    "jupyter": {
     "outputs_hidden": true
    },
    "tags": []
   },
   "outputs": [
    {
     "name": "stderr",
     "output_type": "stream",
     "text": [
      "sbatch: Single-node jobs run on a shared node by default. Add --exclusive if you want to use a node exclusively.\n",
      "sbatch: A full node consists of 32 CPU cores, 229376 MiB of memory and 0 GPUs and can be shared by up to 32 jobs.\n",
      "sbatch: By default shared jobs get 7168 MiB of memory per CPU core, unless explicitly overridden with --mem-per-cpu, --mem-per-gpu or --mem.\n",
      "sbatch: You will be charged for 0.03125 node, based on the number of CPUs, GPUs and the amount memory that you've requested.\n"
     ]
    },
    {
     "name": "stdout",
     "output_type": "stream",
     "text": [
      "Submitted batch job 2148702\n"
     ]
    }
   ],
   "source": [
    "name_job = \"recompute\"\n",
    "\n",
    "run_launcher(\n",
    "    \"dropbox_uploader.py\",\n",
    "    [directory_targ, name_job],\n",
    "    plates,\n",
    "    \"24:00:00\",\n",
    "    dependency=False,\n",
    "    name_job=name_job,\n",
    ")"
   ]
  },
  {
   "cell_type": "code",
   "execution_count": 5,
   "id": "2fa40592-7c42-4bf8-af0e-4ba68d0a6040",
   "metadata": {
    "tags": []
   },
   "outputs": [
    {
     "name": "stderr",
     "output_type": "stream",
     "text": [
      "sbatch: Single-node jobs run on a shared node by default. Add --exclusive if you want to use a node exclusively.\n",
      "sbatch: A full node consists of 32 CPU cores, 229376 MiB of memory and 0 GPUs and can be shared by up to 32 jobs.\n",
      "sbatch: By default shared jobs get 7168 MiB of memory per CPU core, unless explicitly overridden with --mem-per-cpu, --mem-per-gpu or --mem.\n",
      "sbatch: You will be charged for 0.03125 node, based on the number of CPUs, GPUs and the amount memory that you've requested.\n"
     ]
    },
    {
     "name": "stdout",
     "output_type": "stream",
     "text": [
      "Submitted batch job 2170426\n"
     ]
    }
   ],
   "source": [
    "# name_job = \"recompute\"\n",
    "\n",
    "# name_job = f\"one_shot_{time_ns()}.sh\"\n",
    "name_job = \"one_shot_1675411679561103361\"\n",
    "run_launcher(\n",
    "    \"analysis_uploader.py\",\n",
    "    [directory_targ, name_job, -1],\n",
    "    plates,\n",
    "    \"12:00:00\",\n",
    "    dependency=True,\n",
    "    name_job=name_job,\n",
    ")"
   ]
  },
  {
   "cell_type": "code",
   "execution_count": 8,
   "id": "e2ce1188-fe3e-4f29-9ae1-acdb8f616271",
   "metadata": {
    "collapsed": true,
    "jupyter": {
     "outputs_hidden": true
    },
    "tags": []
   },
   "outputs": [
    {
     "name": "stdout",
     "output_type": "stream",
     "text": [
      "DATA/PRINCE\n",
      "2022-12-14 15:38:52,796-[INFO]- dropbox:390 -> Refreshing access token.\n",
      "2022-12-14 15:38:53,186-[INFO]- dropbox:474 -> Request to files/upload\n",
      "2022-12-14 15:38:54,631-[INFO]- dropbox:390 -> Refreshing access token.\n",
      "2022-12-14 15:38:54,971-[INFO]- dropbox:474 -> Request to files/upload\n",
      "2022-12-14 15:38:56,828-[INFO]- dropbox:390 -> Refreshing access token.\n",
      "2022-12-14 15:38:57,077-[INFO]- dropbox:474 -> Request to files/upload\n"
     ]
    },
    {
     "data": {
      "application/vnd.jupyter.widget-view+json": {
       "model_id": "",
       "version_major": 2,
       "version_minor": 0
      },
      "text/plain": [
       "Uploaded:   0%|          | 0/141529031 [00:00<?, ?it/s]"
      ]
     },
     "metadata": {},
     "output_type": "display_data"
    },
    {
     "name": "stdout",
     "output_type": "stream",
     "text": [
      "2022-12-14 15:38:58,762-[INFO]- dropbox:390 -> Refreshing access token.\n",
      "2022-12-14 15:38:59,097-[INFO]- dropbox:474 -> Request to files/upload_session/start\n",
      "2022-12-14 15:38:59,990-[INFO]- dropbox:474 -> Request to files/upload_session/append\n",
      "2022-12-14 15:39:01,179-[INFO]- dropbox:474 -> Request to files/upload_session/append\n",
      "2022-12-14 15:39:02,417-[INFO]- dropbox:474 -> Request to files/upload_session/append\n",
      "2022-12-14 15:39:03,681-[INFO]- dropbox:474 -> Request to files/upload_session/append\n",
      "2022-12-14 15:39:05,039-[INFO]- dropbox:474 -> Request to files/upload_session/append\n",
      "2022-12-14 15:39:06,314-[INFO]- dropbox:474 -> Request to files/upload_session/append\n",
      "2022-12-14 15:39:07,268-[INFO]- dropbox:474 -> Request to files/upload_session/append\n",
      "2022-12-14 15:39:08,492-[INFO]- dropbox:474 -> Request to files/upload_session/append\n",
      "2022-12-14 15:39:09,701-[INFO]- dropbox:474 -> Request to files/upload_session/append\n",
      "2022-12-14 15:39:10,784-[INFO]- dropbox:474 -> Request to files/upload_session/append\n",
      "2022-12-14 15:39:12,142-[INFO]- dropbox:474 -> Request to files/upload_session/append\n",
      "2022-12-14 15:39:13,181-[INFO]- dropbox:474 -> Request to files/upload_session/append\n",
      "2022-12-14 15:39:14,549-[INFO]- dropbox:474 -> Request to files/upload_session/append\n",
      "2022-12-14 15:39:15,613-[INFO]- dropbox:474 -> Request to files/upload_session/append\n",
      "2022-12-14 15:39:17,118-[INFO]- dropbox:474 -> Request to files/upload_session/append\n",
      "2022-12-14 15:39:18,660-[INFO]- dropbox:474 -> Request to files/upload_session/append\n",
      "2022-12-14 15:39:19,765-[INFO]- dropbox:474 -> Request to files/upload_session/append\n",
      "2022-12-14 15:39:20,768-[INFO]- dropbox:474 -> Request to files/upload_session/append\n",
      "2022-12-14 15:39:24,557-[INFO]- dropbox:474 -> Request to files/upload_session/append\n",
      "2022-12-14 15:39:25,973-[INFO]- dropbox:474 -> Request to files/upload_session/append\n",
      "2022-12-14 15:39:27,241-[INFO]- dropbox:474 -> Request to files/upload_session/append\n",
      "2022-12-14 15:39:31,984-[INFO]- dropbox:474 -> Request to files/upload_session/append\n",
      "2022-12-14 15:39:33,235-[INFO]- dropbox:474 -> Request to files/upload_session/append\n",
      "2022-12-14 15:39:34,600-[INFO]- dropbox:474 -> Request to files/upload_session/append\n",
      "2022-12-14 15:39:35,659-[INFO]- dropbox:474 -> Request to files/upload_session/append\n",
      "2022-12-14 15:39:37,048-[INFO]- dropbox:474 -> Request to files/upload_session/append\n",
      "2022-12-14 15:39:38,033-[INFO]- dropbox:474 -> Request to files/upload_session/append\n",
      "2022-12-14 15:39:39,239-[INFO]- dropbox:474 -> Request to files/upload_session/append\n",
      "2022-12-14 15:39:40,513-[INFO]- dropbox:474 -> Request to files/upload_session/append\n",
      "2022-12-14 15:39:41,865-[INFO]- dropbox:474 -> Request to files/upload_session/append\n",
      "2022-12-14 15:39:43,364-[INFO]- dropbox:474 -> Request to files/upload_session/append\n",
      "2022-12-14 15:39:44,648-[INFO]- dropbox:474 -> Request to files/upload_session/append\n",
      "2022-12-14 15:39:45,967-[INFO]- dropbox:474 -> Request to files/upload_session/finish\n",
      "2022-12-14 15:39:47,616-[INFO]- dropbox:390 -> Refreshing access token.\n",
      "2022-12-14 15:39:47,845-[INFO]- dropbox:474 -> Request to files/upload\n"
     ]
    },
    {
     "data": {
      "application/vnd.jupyter.widget-view+json": {
       "model_id": "",
       "version_major": 2,
       "version_minor": 0
      },
      "text/plain": [
       "Uploaded:   0%|          | 0/13295488 [00:00<?, ?it/s]"
      ]
     },
     "metadata": {},
     "output_type": "display_data"
    },
    {
     "name": "stdout",
     "output_type": "stream",
     "text": [
      "2022-12-14 15:39:49,467-[INFO]- dropbox:390 -> Refreshing access token.\n",
      "2022-12-14 15:39:49,741-[INFO]- dropbox:474 -> Request to files/upload_session/start\n",
      "2022-12-14 15:39:51,229-[INFO]- dropbox:474 -> Request to files/upload_session/append\n",
      "2022-12-14 15:39:52,248-[INFO]- dropbox:474 -> Request to files/upload_session/append\n",
      "2022-12-14 15:39:53,736-[INFO]- dropbox:474 -> Request to files/upload_session/finish\n"
     ]
    },
    {
     "data": {
      "application/vnd.jupyter.widget-view+json": {
       "model_id": "",
       "version_major": 2,
       "version_minor": 0
      },
      "text/plain": [
       "Uploaded:   0%|          | 0/4711790 [00:00<?, ?it/s]"
      ]
     },
     "metadata": {},
     "output_type": "display_data"
    },
    {
     "name": "stdout",
     "output_type": "stream",
     "text": [
      "2022-12-14 15:39:55,228-[INFO]- dropbox:390 -> Refreshing access token.\n",
      "2022-12-14 15:39:55,523-[INFO]- dropbox:474 -> Request to files/upload_session/start\n",
      "2022-12-14 15:39:56,866-[INFO]- dropbox:474 -> Request to files/upload_session/finish\n"
     ]
    },
    {
     "data": {
      "application/vnd.jupyter.widget-view+json": {
       "model_id": "",
       "version_major": 2,
       "version_minor": 0
      },
      "text/plain": [
       "Uploaded:   0%|          | 0/4196765 [00:00<?, ?it/s]"
      ]
     },
     "metadata": {},
     "output_type": "display_data"
    },
    {
     "name": "stdout",
     "output_type": "stream",
     "text": [
      "2022-12-14 15:39:58,890-[INFO]- dropbox:390 -> Refreshing access token.\n",
      "2022-12-14 15:39:59,156-[INFO]- dropbox:474 -> Request to files/upload_session/start\n",
      "2022-12-14 15:40:00,444-[INFO]- dropbox:474 -> Request to files/upload_session/finish\n",
      "2022-12-14 15:40:01,868-[INFO]- dropbox:390 -> Refreshing access token.\n",
      "2022-12-14 15:40:02,124-[INFO]- dropbox:474 -> Request to files/upload\n",
      "2022-12-14 15:40:03,710-[INFO]- dropbox:390 -> Refreshing access token.\n",
      "2022-12-14 15:40:03,977-[INFO]- dropbox:474 -> Request to files/upload\n",
      "2022-12-14 15:40:05,546-[INFO]- dropbox:390 -> Refreshing access token.\n",
      "2022-12-14 15:40:05,800-[INFO]- dropbox:474 -> Request to files/upload\n",
      "2022-12-14 15:40:08,138-[INFO]- dropbox:390 -> Refreshing access token.\n",
      "2022-12-14 15:40:08,386-[INFO]- dropbox:474 -> Request to files/upload\n"
     ]
    },
    {
     "data": {
      "application/vnd.jupyter.widget-view+json": {
       "model_id": "",
       "version_major": 2,
       "version_minor": 0
      },
      "text/plain": [
       "Uploaded:   0%|          | 0/4229395 [00:00<?, ?it/s]"
      ]
     },
     "metadata": {},
     "output_type": "display_data"
    },
    {
     "name": "stdout",
     "output_type": "stream",
     "text": [
      "2022-12-14 15:40:10,833-[INFO]- dropbox:390 -> Refreshing access token.\n",
      "2022-12-14 15:40:11,072-[INFO]- dropbox:474 -> Request to files/upload_session/start\n",
      "2022-12-14 15:40:12,110-[INFO]- dropbox:474 -> Request to files/upload_session/finish\n",
      "2022-12-14 15:40:13,925-[INFO]- dropbox:390 -> Refreshing access token.\n",
      "2022-12-14 15:40:14,205-[INFO]- dropbox:474 -> Request to files/upload\n"
     ]
    },
    {
     "data": {
      "application/vnd.jupyter.widget-view+json": {
       "model_id": "",
       "version_major": 2,
       "version_minor": 0
      },
      "text/plain": [
       "Uploaded:   0%|          | 0/4942005 [00:00<?, ?it/s]"
      ]
     },
     "metadata": {},
     "output_type": "display_data"
    },
    {
     "name": "stdout",
     "output_type": "stream",
     "text": [
      "2022-12-14 15:40:16,000-[INFO]- dropbox:390 -> Refreshing access token.\n",
      "2022-12-14 15:40:16,267-[INFO]- dropbox:474 -> Request to files/upload_session/start\n",
      "2022-12-14 15:40:17,592-[INFO]- dropbox:474 -> Request to files/upload_session/finish\n",
      "2022-12-14 15:40:19,433-[INFO]- dropbox:390 -> Refreshing access token.\n",
      "2022-12-14 15:40:19,668-[INFO]- dropbox:474 -> Request to files/upload\n"
     ]
    },
    {
     "data": {
      "application/vnd.jupyter.widget-view+json": {
       "model_id": "",
       "version_major": 2,
       "version_minor": 0
      },
      "text/plain": [
       "Uploaded:   0%|          | 0/5011420 [00:00<?, ?it/s]"
      ]
     },
     "metadata": {},
     "output_type": "display_data"
    },
    {
     "name": "stdout",
     "output_type": "stream",
     "text": [
      "2022-12-14 15:40:20,938-[INFO]- dropbox:390 -> Refreshing access token.\n",
      "2022-12-14 15:40:21,179-[INFO]- dropbox:474 -> Request to files/upload_session/start\n",
      "2022-12-14 15:40:21,968-[INFO]- dropbox:474 -> Request to files/upload_session/finish\n"
     ]
    },
    {
     "data": {
      "application/vnd.jupyter.widget-view+json": {
       "model_id": "",
       "version_major": 2,
       "version_minor": 0
      },
      "text/plain": [
       "Uploaded:   0%|          | 0/5004655 [00:00<?, ?it/s]"
      ]
     },
     "metadata": {},
     "output_type": "display_data"
    },
    {
     "name": "stdout",
     "output_type": "stream",
     "text": [
      "2022-12-14 15:40:24,065-[INFO]- dropbox:390 -> Refreshing access token.\n",
      "2022-12-14 15:40:24,328-[INFO]- dropbox:474 -> Request to files/upload_session/start\n",
      "2022-12-14 15:40:25,925-[INFO]- dropbox:474 -> Request to files/upload_session/finish\n",
      "2022-12-14 15:40:28,036-[INFO]- dropbox:390 -> Refreshing access token.\n",
      "2022-12-14 15:40:28,311-[INFO]- dropbox:474 -> Request to files/upload\n"
     ]
    },
    {
     "data": {
      "application/vnd.jupyter.widget-view+json": {
       "model_id": "",
       "version_major": 2,
       "version_minor": 0
      },
      "text/plain": [
       "Uploaded:   0%|          | 0/5017148 [00:00<?, ?it/s]"
      ]
     },
     "metadata": {},
     "output_type": "display_data"
    },
    {
     "name": "stdout",
     "output_type": "stream",
     "text": [
      "2022-12-14 15:40:30,252-[INFO]- dropbox:390 -> Refreshing access token.\n",
      "2022-12-14 15:40:30,522-[INFO]- dropbox:474 -> Request to files/upload_session/start\n",
      "2022-12-14 15:40:31,793-[INFO]- dropbox:474 -> Request to files/upload_session/finish\n"
     ]
    },
    {
     "data": {
      "application/vnd.jupyter.widget-view+json": {
       "model_id": "",
       "version_major": 2,
       "version_minor": 0
      },
      "text/plain": [
       "Uploaded:   0%|          | 0/4813021 [00:00<?, ?it/s]"
      ]
     },
     "metadata": {},
     "output_type": "display_data"
    },
    {
     "name": "stdout",
     "output_type": "stream",
     "text": [
      "2022-12-14 15:40:33,647-[INFO]- dropbox:390 -> Refreshing access token.\n",
      "2022-12-14 15:40:33,876-[INFO]- dropbox:474 -> Request to files/upload_session/start\n",
      "2022-12-14 15:40:34,933-[INFO]- dropbox:474 -> Request to files/upload_session/finish\n",
      "2022-12-14 15:40:37,513-[INFO]- dropbox:390 -> Refreshing access token.\n",
      "2022-12-14 15:40:37,737-[INFO]- dropbox:474 -> Request to files/upload\n",
      "2022-12-14 15:40:39,736-[INFO]- dropbox:390 -> Refreshing access token.\n",
      "2022-12-14 15:40:40,012-[INFO]- dropbox:474 -> Request to files/upload\n"
     ]
    },
    {
     "data": {
      "application/vnd.jupyter.widget-view+json": {
       "model_id": "",
       "version_major": 2,
       "version_minor": 0
      },
      "text/plain": [
       "Uploaded:   0%|          | 0/4581606 [00:00<?, ?it/s]"
      ]
     },
     "metadata": {},
     "output_type": "display_data"
    },
    {
     "name": "stdout",
     "output_type": "stream",
     "text": [
      "2022-12-14 15:40:41,453-[INFO]- dropbox:390 -> Refreshing access token.\n",
      "2022-12-14 15:40:41,702-[INFO]- dropbox:474 -> Request to files/upload_session/start\n",
      "2022-12-14 15:40:42,615-[INFO]- dropbox:474 -> Request to files/upload_session/finish\n",
      "2022-12-14 15:40:44,439-[INFO]- dropbox:390 -> Refreshing access token.\n",
      "2022-12-14 15:40:44,670-[INFO]- dropbox:474 -> Request to files/upload\n",
      "2022-12-14 15:40:46,337-[INFO]- dropbox:390 -> Refreshing access token.\n",
      "2022-12-14 15:40:46,630-[INFO]- dropbox:474 -> Request to files/upload\n",
      "2022-12-14 15:40:47,949-[INFO]- dropbox:390 -> Refreshing access token.\n",
      "2022-12-14 15:40:48,203-[INFO]- dropbox:474 -> Request to files/upload\n"
     ]
    },
    {
     "data": {
      "application/vnd.jupyter.widget-view+json": {
       "model_id": "",
       "version_major": 2,
       "version_minor": 0
      },
      "text/plain": [
       "Uploaded:   0%|          | 0/4887921 [00:00<?, ?it/s]"
      ]
     },
     "metadata": {},
     "output_type": "display_data"
    },
    {
     "name": "stdout",
     "output_type": "stream",
     "text": [
      "2022-12-14 15:40:49,441-[INFO]- dropbox:390 -> Refreshing access token.\n",
      "2022-12-14 15:40:49,690-[INFO]- dropbox:474 -> Request to files/upload_session/start\n",
      "2022-12-14 15:40:50,843-[INFO]- dropbox:474 -> Request to files/upload_session/finish\n"
     ]
    },
    {
     "data": {
      "application/vnd.jupyter.widget-view+json": {
       "model_id": "",
       "version_major": 2,
       "version_minor": 0
      },
      "text/plain": [
       "Uploaded:   0%|          | 0/4749260 [00:00<?, ?it/s]"
      ]
     },
     "metadata": {},
     "output_type": "display_data"
    },
    {
     "name": "stdout",
     "output_type": "stream",
     "text": [
      "2022-12-14 15:40:52,590-[INFO]- dropbox:390 -> Refreshing access token.\n",
      "2022-12-14 15:40:52,826-[INFO]- dropbox:474 -> Request to files/upload_session/start\n",
      "2022-12-14 15:40:53,934-[INFO]- dropbox:474 -> Request to files/upload_session/finish\n"
     ]
    },
    {
     "data": {
      "application/vnd.jupyter.widget-view+json": {
       "model_id": "",
       "version_major": 2,
       "version_minor": 0
      },
      "text/plain": [
       "Uploaded:   0%|          | 0/4423215 [00:00<?, ?it/s]"
      ]
     },
     "metadata": {},
     "output_type": "display_data"
    },
    {
     "name": "stdout",
     "output_type": "stream",
     "text": [
      "2022-12-14 15:40:55,903-[INFO]- dropbox:390 -> Refreshing access token.\n",
      "2022-12-14 15:40:56,272-[INFO]- dropbox:474 -> Request to files/upload_session/start\n",
      "2022-12-14 15:40:57,693-[INFO]- dropbox:474 -> Request to files/upload_session/finish\n"
     ]
    },
    {
     "data": {
      "application/vnd.jupyter.widget-view+json": {
       "model_id": "",
       "version_major": 2,
       "version_minor": 0
      },
      "text/plain": [
       "Uploaded:   0%|          | 0/4875827 [00:00<?, ?it/s]"
      ]
     },
     "metadata": {},
     "output_type": "display_data"
    },
    {
     "name": "stdout",
     "output_type": "stream",
     "text": [
      "2022-12-14 15:40:59,150-[INFO]- dropbox:390 -> Refreshing access token.\n",
      "2022-12-14 15:40:59,406-[INFO]- dropbox:474 -> Request to files/upload_session/start\n",
      "2022-12-14 15:41:00,233-[INFO]- dropbox:474 -> Request to files/upload_session/finish\n",
      "2022-12-14 15:41:01,887-[INFO]- dropbox:390 -> Refreshing access token.\n",
      "2022-12-14 15:41:02,144-[INFO]- dropbox:474 -> Request to files/upload\n",
      "2022-12-14 15:41:03,482-[INFO]- dropbox:390 -> Refreshing access token.\n",
      "2022-12-14 15:41:03,729-[INFO]- dropbox:474 -> Request to files/upload\n"
     ]
    },
    {
     "data": {
      "application/vnd.jupyter.widget-view+json": {
       "model_id": "",
       "version_major": 2,
       "version_minor": 0
      },
      "text/plain": [
       "Uploaded:   0%|          | 0/4800673 [00:00<?, ?it/s]"
      ]
     },
     "metadata": {},
     "output_type": "display_data"
    },
    {
     "name": "stdout",
     "output_type": "stream",
     "text": [
      "2022-12-14 15:41:05,507-[INFO]- dropbox:390 -> Refreshing access token.\n",
      "2022-12-14 15:41:05,740-[INFO]- dropbox:474 -> Request to files/upload_session/start\n",
      "2022-12-14 15:41:06,784-[INFO]- dropbox:474 -> Request to files/upload_session/finish\n"
     ]
    },
    {
     "data": {
      "application/vnd.jupyter.widget-view+json": {
       "model_id": "",
       "version_major": 2,
       "version_minor": 0
      },
      "text/plain": [
       "Uploaded:   0%|          | 0/4969387 [00:00<?, ?it/s]"
      ]
     },
     "metadata": {},
     "output_type": "display_data"
    },
    {
     "name": "stdout",
     "output_type": "stream",
     "text": [
      "2022-12-14 15:41:08,709-[INFO]- dropbox:390 -> Refreshing access token.\n",
      "2022-12-14 15:41:08,951-[INFO]- dropbox:474 -> Request to files/upload_session/start\n",
      "2022-12-14 15:41:10,006-[INFO]- dropbox:474 -> Request to files/upload_session/finish\n"
     ]
    },
    {
     "data": {
      "application/vnd.jupyter.widget-view+json": {
       "model_id": "",
       "version_major": 2,
       "version_minor": 0
      },
      "text/plain": [
       "Uploaded:   0%|          | 0/4477772 [00:00<?, ?it/s]"
      ]
     },
     "metadata": {},
     "output_type": "display_data"
    },
    {
     "name": "stdout",
     "output_type": "stream",
     "text": [
      "2022-12-14 15:41:11,665-[INFO]- dropbox:390 -> Refreshing access token.\n",
      "2022-12-14 15:41:11,924-[INFO]- dropbox:474 -> Request to files/upload_session/start\n",
      "2022-12-14 15:41:13,773-[INFO]- dropbox:474 -> Request to files/upload_session/finish\n",
      "2022-12-14 15:41:15,424-[INFO]- dropbox:390 -> Refreshing access token.\n",
      "2022-12-14 15:41:15,670-[INFO]- dropbox:474 -> Request to files/upload\n",
      "2022-12-14 15:41:18,713-[INFO]- dropbox:390 -> Refreshing access token.\n",
      "2022-12-14 15:41:18,960-[INFO]- dropbox:474 -> Request to files/upload\n"
     ]
    },
    {
     "data": {
      "application/vnd.jupyter.widget-view+json": {
       "model_id": "",
       "version_major": 2,
       "version_minor": 0
      },
      "text/plain": [
       "Uploaded:   0%|          | 0/4947591 [00:00<?, ?it/s]"
      ]
     },
     "metadata": {},
     "output_type": "display_data"
    },
    {
     "name": "stdout",
     "output_type": "stream",
     "text": [
      "2022-12-14 15:41:21,744-[INFO]- dropbox:390 -> Refreshing access token.\n",
      "2022-12-14 15:41:22,000-[INFO]- dropbox:474 -> Request to files/upload_session/start\n",
      "2022-12-14 15:41:23,472-[INFO]- dropbox:474 -> Request to files/upload_session/finish\n",
      "2022-12-14 15:41:25,560-[INFO]- dropbox:390 -> Refreshing access token.\n",
      "2022-12-14 15:41:25,788-[INFO]- dropbox:474 -> Request to files/upload\n"
     ]
    },
    {
     "data": {
      "application/vnd.jupyter.widget-view+json": {
       "model_id": "",
       "version_major": 2,
       "version_minor": 0
      },
      "text/plain": [
       "Uploaded:   0%|          | 0/4498808 [00:00<?, ?it/s]"
      ]
     },
     "metadata": {},
     "output_type": "display_data"
    },
    {
     "name": "stdout",
     "output_type": "stream",
     "text": [
      "2022-12-14 15:41:27,356-[INFO]- dropbox:390 -> Refreshing access token.\n",
      "2022-12-14 15:41:27,598-[INFO]- dropbox:474 -> Request to files/upload_session/start\n",
      "2022-12-14 15:41:29,224-[INFO]- dropbox:474 -> Request to files/upload_session/finish\n",
      "2022-12-14 15:41:30,509-[INFO]- dropbox:390 -> Refreshing access token.\n",
      "2022-12-14 15:41:30,759-[INFO]- dropbox:474 -> Request to files/upload\n",
      "2022-12-14 15:41:32,870-[INFO]- dropbox:390 -> Refreshing access token.\n",
      "2022-12-14 15:41:33,127-[INFO]- dropbox:474 -> Request to files/upload\n",
      "2022-12-14 15:41:34,718-[INFO]- dropbox:390 -> Refreshing access token.\n",
      "2022-12-14 15:41:35,005-[INFO]- dropbox:474 -> Request to files/upload\n",
      "2022-12-14 15:41:36,714-[INFO]- dropbox:390 -> Refreshing access token.\n",
      "2022-12-14 15:41:37,020-[INFO]- dropbox:474 -> Request to files/upload\n"
     ]
    },
    {
     "data": {
      "application/vnd.jupyter.widget-view+json": {
       "model_id": "",
       "version_major": 2,
       "version_minor": 0
      },
      "text/plain": [
       "Uploaded:   0%|          | 0/5092572 [00:00<?, ?it/s]"
      ]
     },
     "metadata": {},
     "output_type": "display_data"
    },
    {
     "name": "stdout",
     "output_type": "stream",
     "text": [
      "2022-12-14 15:41:39,127-[INFO]- dropbox:390 -> Refreshing access token.\n",
      "2022-12-14 15:41:39,365-[INFO]- dropbox:474 -> Request to files/upload_session/start\n",
      "2022-12-14 15:41:40,283-[INFO]- dropbox:474 -> Request to files/upload_session/finish\n"
     ]
    },
    {
     "data": {
      "application/vnd.jupyter.widget-view+json": {
       "model_id": "",
       "version_major": 2,
       "version_minor": 0
      },
      "text/plain": [
       "Uploaded:   0%|          | 0/4963172 [00:00<?, ?it/s]"
      ]
     },
     "metadata": {},
     "output_type": "display_data"
    },
    {
     "name": "stdout",
     "output_type": "stream",
     "text": [
      "2022-12-14 15:41:42,060-[INFO]- dropbox:390 -> Refreshing access token.\n",
      "2022-12-14 15:41:42,297-[INFO]- dropbox:474 -> Request to files/upload_session/start\n",
      "2022-12-14 15:41:44,130-[INFO]- dropbox:474 -> Request to files/upload_session/finish\n",
      "2022-12-14 15:41:46,010-[INFO]- dropbox:390 -> Refreshing access token.\n",
      "2022-12-14 15:41:46,233-[INFO]- dropbox:474 -> Request to files/upload\n"
     ]
    },
    {
     "data": {
      "application/vnd.jupyter.widget-view+json": {
       "model_id": "",
       "version_major": 2,
       "version_minor": 0
      },
      "text/plain": [
       "Uploaded:   0%|          | 0/4864804 [00:00<?, ?it/s]"
      ]
     },
     "metadata": {},
     "output_type": "display_data"
    },
    {
     "name": "stdout",
     "output_type": "stream",
     "text": [
      "2022-12-14 15:41:47,815-[INFO]- dropbox:390 -> Refreshing access token.\n",
      "2022-12-14 15:41:48,108-[INFO]- dropbox:474 -> Request to files/upload_session/start\n",
      "2022-12-14 15:41:49,220-[INFO]- dropbox:474 -> Request to files/upload_session/finish\n",
      "2022-12-14 15:41:51,086-[INFO]- dropbox:390 -> Refreshing access token.\n",
      "2022-12-14 15:41:51,389-[INFO]- dropbox:474 -> Request to files/upload\n"
     ]
    },
    {
     "data": {
      "application/vnd.jupyter.widget-view+json": {
       "model_id": "",
       "version_major": 2,
       "version_minor": 0
      },
      "text/plain": [
       "Uploaded:   0%|          | 0/4915139 [00:00<?, ?it/s]"
      ]
     },
     "metadata": {},
     "output_type": "display_data"
    },
    {
     "name": "stdout",
     "output_type": "stream",
     "text": [
      "2022-12-14 15:41:54,211-[INFO]- dropbox:390 -> Refreshing access token.\n",
      "2022-12-14 15:41:54,477-[INFO]- dropbox:474 -> Request to files/upload_session/start\n",
      "2022-12-14 15:41:55,401-[INFO]- dropbox:474 -> Request to files/upload_session/finish\n"
     ]
    },
    {
     "data": {
      "application/vnd.jupyter.widget-view+json": {
       "model_id": "",
       "version_major": 2,
       "version_minor": 0
      },
      "text/plain": [
       "Uploaded:   0%|          | 0/4489318 [00:00<?, ?it/s]"
      ]
     },
     "metadata": {},
     "output_type": "display_data"
    },
    {
     "name": "stdout",
     "output_type": "stream",
     "text": [
      "2022-12-14 15:41:56,832-[INFO]- dropbox:390 -> Refreshing access token.\n",
      "2022-12-14 15:41:57,086-[INFO]- dropbox:474 -> Request to files/upload_session/start\n",
      "2022-12-14 15:41:58,450-[INFO]- dropbox:474 -> Request to files/upload_session/finish\n"
     ]
    },
    {
     "data": {
      "application/vnd.jupyter.widget-view+json": {
       "model_id": "5a74fdec486c4206b251aef562dfa1b3",
       "version_major": 2,
       "version_minor": 0
      },
      "text/plain": [
       "Uploaded:   0%|          | 0/4866449 [00:00<?, ?it/s]"
      ]
     },
     "metadata": {},
     "output_type": "display_data"
    },
    {
     "name": "stdout",
     "output_type": "stream",
     "text": [
      "2022-12-14 15:42:00,145-[INFO]- dropbox:390 -> Refreshing access token.\n",
      "2022-12-14 15:42:00,416-[INFO]- dropbox:474 -> Request to files/upload_session/start\n",
      "2022-12-14 15:42:01,495-[INFO]- dropbox:474 -> Request to files/upload_session/finish\n",
      "2022-12-14 15:42:03,544-[INFO]- dropbox:390 -> Refreshing access token.\n",
      "2022-12-14 15:42:03,831-[INFO]- dropbox:474 -> Request to files/upload\n"
     ]
    },
    {
     "data": {
      "application/vnd.jupyter.widget-view+json": {
       "model_id": "be309961608642b99399da37a60c3853",
       "version_major": 2,
       "version_minor": 0
      },
      "text/plain": [
       "Uploaded:   0%|          | 0/5027467 [00:00<?, ?it/s]"
      ]
     },
     "metadata": {},
     "output_type": "display_data"
    },
    {
     "name": "stdout",
     "output_type": "stream",
     "text": [
      "2022-12-14 15:42:05,616-[INFO]- dropbox:390 -> Refreshing access token.\n",
      "2022-12-14 15:42:05,854-[INFO]- dropbox:474 -> Request to files/upload_session/start\n",
      "2022-12-14 15:42:06,960-[INFO]- dropbox:474 -> Request to files/upload_session/finish\n",
      "2022-12-14 15:42:08,521-[INFO]- dropbox:390 -> Refreshing access token.\n",
      "2022-12-14 15:42:08,889-[INFO]- dropbox:474 -> Request to files/upload\n",
      "2022-12-14 15:42:10,057-[INFO]- dropbox:390 -> Refreshing access token.\n",
      "2022-12-14 15:42:10,293-[INFO]- dropbox:474 -> Request to files/upload\n",
      "2022-12-14 15:42:11,618-[INFO]- dropbox:390 -> Refreshing access token.\n",
      "2022-12-14 15:42:11,859-[INFO]- dropbox:474 -> Request to files/upload\n",
      "2022-12-14 15:42:13,574-[INFO]- dropbox:390 -> Refreshing access token.\n",
      "2022-12-14 15:42:13,819-[INFO]- dropbox:474 -> Request to files/upload\n",
      "2022-12-14 15:42:16,200-[INFO]- dropbox:390 -> Refreshing access token.\n",
      "2022-12-14 15:42:16,433-[INFO]- dropbox:474 -> Request to files/upload\n"
     ]
    },
    {
     "data": {
      "application/vnd.jupyter.widget-view+json": {
       "model_id": "8749071c9e6e41f3838692a45c43ef3a",
       "version_major": 2,
       "version_minor": 0
      },
      "text/plain": [
       "Uploaded:   0%|          | 0/4890922 [00:00<?, ?it/s]"
      ]
     },
     "metadata": {},
     "output_type": "display_data"
    },
    {
     "name": "stdout",
     "output_type": "stream",
     "text": [
      "2022-12-14 15:42:18,357-[INFO]- dropbox:390 -> Refreshing access token.\n",
      "2022-12-14 15:42:18,605-[INFO]- dropbox:474 -> Request to files/upload_session/start\n",
      "2022-12-14 15:42:19,465-[INFO]- dropbox:474 -> Request to files/upload_session/finish\n"
     ]
    },
    {
     "data": {
      "application/vnd.jupyter.widget-view+json": {
       "model_id": "43a305956fa548aaaa9ba70ae58648c2",
       "version_major": 2,
       "version_minor": 0
      },
      "text/plain": [
       "Uploaded:   0%|          | 0/4976191 [00:00<?, ?it/s]"
      ]
     },
     "metadata": {},
     "output_type": "display_data"
    },
    {
     "name": "stdout",
     "output_type": "stream",
     "text": [
      "2022-12-14 15:42:21,260-[INFO]- dropbox:390 -> Refreshing access token.\n",
      "2022-12-14 15:42:21,508-[INFO]- dropbox:474 -> Request to files/upload_session/start\n",
      "2022-12-14 15:42:22,443-[INFO]- dropbox:474 -> Request to files/upload_session/finish\n"
     ]
    },
    {
     "data": {
      "application/vnd.jupyter.widget-view+json": {
       "model_id": "285bd272949243229d7c1f59d2e2a259",
       "version_major": 2,
       "version_minor": 0
      },
      "text/plain": [
       "Uploaded:   0%|          | 0/4987726 [00:00<?, ?it/s]"
      ]
     },
     "metadata": {},
     "output_type": "display_data"
    },
    {
     "name": "stdout",
     "output_type": "stream",
     "text": [
      "2022-12-14 15:42:24,238-[INFO]- dropbox:390 -> Refreshing access token.\n",
      "2022-12-14 15:42:24,467-[INFO]- dropbox:474 -> Request to files/upload_session/start\n",
      "2022-12-14 15:42:25,566-[INFO]- dropbox:474 -> Request to files/upload_session/finish\n",
      "2022-12-14 15:42:27,003-[INFO]- dropbox:390 -> Refreshing access token.\n",
      "2022-12-14 15:42:27,238-[INFO]- dropbox:474 -> Request to files/upload\n"
     ]
    },
    {
     "data": {
      "application/vnd.jupyter.widget-view+json": {
       "model_id": "74c5d05df44e4d21a50433d5519b7a93",
       "version_major": 2,
       "version_minor": 0
      },
      "text/plain": [
       "Uploaded:   0%|          | 0/5021589 [00:00<?, ?it/s]"
      ]
     },
     "metadata": {},
     "output_type": "display_data"
    },
    {
     "name": "stdout",
     "output_type": "stream",
     "text": [
      "2022-12-14 15:42:29,310-[INFO]- dropbox:390 -> Refreshing access token.\n",
      "2022-12-14 15:42:29,562-[INFO]- dropbox:474 -> Request to files/upload_session/start\n",
      "2022-12-14 15:42:31,040-[INFO]- dropbox:474 -> Request to files/upload_session/finish\n",
      "2022-12-14 15:42:32,834-[INFO]- dropbox:390 -> Refreshing access token.\n",
      "2022-12-14 15:42:33,086-[INFO]- dropbox:474 -> Request to files/upload\n"
     ]
    },
    {
     "data": {
      "application/vnd.jupyter.widget-view+json": {
       "model_id": "2c6edc2680f44c24817c72c56160e270",
       "version_major": 2,
       "version_minor": 0
      },
      "text/plain": [
       "Uploaded:   0%|          | 0/4821111 [00:00<?, ?it/s]"
      ]
     },
     "metadata": {},
     "output_type": "display_data"
    },
    {
     "name": "stdout",
     "output_type": "stream",
     "text": [
      "2022-12-14 15:42:35,221-[INFO]- dropbox:390 -> Refreshing access token.\n",
      "2022-12-14 15:42:35,480-[INFO]- dropbox:474 -> Request to files/upload_session/start\n",
      "2022-12-14 15:42:36,247-[INFO]- dropbox:474 -> Request to files/upload_session/finish\n"
     ]
    },
    {
     "data": {
      "application/vnd.jupyter.widget-view+json": {
       "model_id": "17b6de094d074ce9950d559f0f018a64",
       "version_major": 2,
       "version_minor": 0
      },
      "text/plain": [
       "Uploaded:   0%|          | 0/4535320 [00:00<?, ?it/s]"
      ]
     },
     "metadata": {},
     "output_type": "display_data"
    },
    {
     "name": "stdout",
     "output_type": "stream",
     "text": [
      "2022-12-14 15:42:37,863-[INFO]- dropbox:390 -> Refreshing access token.\n",
      "2022-12-14 15:42:38,093-[INFO]- dropbox:474 -> Request to files/upload_session/start\n",
      "2022-12-14 15:42:39,639-[INFO]- dropbox:474 -> Request to files/upload_session/finish\n"
     ]
    },
    {
     "data": {
      "application/vnd.jupyter.widget-view+json": {
       "model_id": "4719f3b8ef4f4fc880acef4919bbbc0c",
       "version_major": 2,
       "version_minor": 0
      },
      "text/plain": [
       "Uploaded:   0%|          | 0/4940320 [00:00<?, ?it/s]"
      ]
     },
     "metadata": {},
     "output_type": "display_data"
    },
    {
     "name": "stdout",
     "output_type": "stream",
     "text": [
      "2022-12-14 15:42:41,885-[INFO]- dropbox:390 -> Refreshing access token.\n",
      "2022-12-14 15:42:42,137-[INFO]- dropbox:474 -> Request to files/upload_session/start\n",
      "2022-12-14 15:42:43,592-[INFO]- dropbox:474 -> Request to files/upload_session/finish\n"
     ]
    },
    {
     "data": {
      "application/vnd.jupyter.widget-view+json": {
       "model_id": "911a7ea5258442f59207f9f13f8d7220",
       "version_major": 2,
       "version_minor": 0
      },
      "text/plain": [
       "Uploaded:   0%|          | 0/4303600 [00:00<?, ?it/s]"
      ]
     },
     "metadata": {},
     "output_type": "display_data"
    },
    {
     "name": "stdout",
     "output_type": "stream",
     "text": [
      "2022-12-14 15:42:45,038-[INFO]- dropbox:390 -> Refreshing access token.\n",
      "2022-12-14 15:42:45,285-[INFO]- dropbox:474 -> Request to files/upload_session/start\n",
      "2022-12-14 15:42:46,329-[INFO]- dropbox:474 -> Request to files/upload_session/finish\n"
     ]
    },
    {
     "data": {
      "application/vnd.jupyter.widget-view+json": {
       "model_id": "e1ff50d6886a4116860cd326189a637e",
       "version_major": 2,
       "version_minor": 0
      },
      "text/plain": [
       "Uploaded:   0%|          | 0/4877327 [00:00<?, ?it/s]"
      ]
     },
     "metadata": {},
     "output_type": "display_data"
    },
    {
     "name": "stdout",
     "output_type": "stream",
     "text": [
      "2022-12-14 15:42:47,729-[INFO]- dropbox:390 -> Refreshing access token.\n",
      "2022-12-14 15:42:48,090-[INFO]- dropbox:474 -> Request to files/upload_session/start\n",
      "2022-12-14 15:42:49,868-[INFO]- dropbox:474 -> Request to files/upload_session/finish\n",
      "2022-12-14 15:42:54,916-[INFO]- dropbox:390 -> Refreshing access token.\n",
      "2022-12-14 15:42:55,144-[INFO]- dropbox:474 -> Request to files/upload\n",
      "2022-12-14 15:42:56,898-[INFO]- dropbox:390 -> Refreshing access token.\n",
      "2022-12-14 15:42:57,250-[INFO]- dropbox:474 -> Request to files/upload\n"
     ]
    },
    {
     "data": {
      "application/vnd.jupyter.widget-view+json": {
       "model_id": "5d4437c4e66c4f1593cd31b23c2e49c2",
       "version_major": 2,
       "version_minor": 0
      },
      "text/plain": [
       "Uploaded:   0%|          | 0/4965043 [00:00<?, ?it/s]"
      ]
     },
     "metadata": {},
     "output_type": "display_data"
    },
    {
     "name": "stdout",
     "output_type": "stream",
     "text": [
      "2022-12-14 15:42:59,342-[INFO]- dropbox:390 -> Refreshing access token.\n",
      "2022-12-14 15:42:59,607-[INFO]- dropbox:474 -> Request to files/upload_session/start\n",
      "2022-12-14 15:43:00,614-[INFO]- dropbox:474 -> Request to files/upload_session/finish\n",
      "2022-12-14 15:43:02,884-[INFO]- dropbox:390 -> Refreshing access token.\n",
      "2022-12-14 15:43:03,141-[INFO]- dropbox:474 -> Request to files/upload\n"
     ]
    },
    {
     "data": {
      "application/vnd.jupyter.widget-view+json": {
       "model_id": "b53357ffce5c49f0a586e1e6c0fc8b33",
       "version_major": 2,
       "version_minor": 0
      },
      "text/plain": [
       "Uploaded:   0%|          | 0/4283892 [00:00<?, ?it/s]"
      ]
     },
     "metadata": {},
     "output_type": "display_data"
    },
    {
     "name": "stdout",
     "output_type": "stream",
     "text": [
      "2022-12-14 15:43:04,915-[INFO]- dropbox:390 -> Refreshing access token.\n",
      "2022-12-14 15:43:05,160-[INFO]- dropbox:474 -> Request to files/upload_session/start\n",
      "2022-12-14 15:43:06,074-[INFO]- dropbox:474 -> Request to files/upload_session/finish\n"
     ]
    },
    {
     "data": {
      "application/vnd.jupyter.widget-view+json": {
       "model_id": "b397bbda09a44a67952524159ee1f777",
       "version_major": 2,
       "version_minor": 0
      },
      "text/plain": [
       "Uploaded:   0%|          | 0/5045693 [00:00<?, ?it/s]"
      ]
     },
     "metadata": {},
     "output_type": "display_data"
    },
    {
     "name": "stdout",
     "output_type": "stream",
     "text": [
      "2022-12-14 15:43:07,578-[INFO]- dropbox:390 -> Refreshing access token.\n",
      "2022-12-14 15:43:07,797-[INFO]- dropbox:474 -> Request to files/upload_session/start\n",
      "2022-12-14 15:43:09,155-[INFO]- dropbox:474 -> Request to files/upload_session/finish\n",
      "2022-12-14 15:43:10,937-[INFO]- dropbox:390 -> Refreshing access token.\n",
      "2022-12-14 15:43:11,194-[INFO]- dropbox:474 -> Request to files/upload\n"
     ]
    },
    {
     "data": {
      "application/vnd.jupyter.widget-view+json": {
       "model_id": "dca1c337a07f4fffa932d94053a2d65a",
       "version_major": 2,
       "version_minor": 0
      },
      "text/plain": [
       "Uploaded:   0%|          | 0/4398679 [00:00<?, ?it/s]"
      ]
     },
     "metadata": {},
     "output_type": "display_data"
    },
    {
     "name": "stdout",
     "output_type": "stream",
     "text": [
      "2022-12-14 15:43:12,663-[INFO]- dropbox:390 -> Refreshing access token.\n",
      "2022-12-14 15:43:12,897-[INFO]- dropbox:474 -> Request to files/upload_session/start\n",
      "2022-12-14 15:43:13,845-[INFO]- dropbox:474 -> Request to files/upload_session/finish\n",
      "2022-12-14 15:43:15,561-[INFO]- dropbox:390 -> Refreshing access token.\n",
      "2022-12-14 15:43:15,797-[INFO]- dropbox:474 -> Request to files/upload\n",
      "2022-12-14 15:43:17,099-[INFO]- dropbox:390 -> Refreshing access token.\n",
      "2022-12-14 15:43:17,362-[INFO]- dropbox:474 -> Request to files/upload\n"
     ]
    },
    {
     "data": {
      "application/vnd.jupyter.widget-view+json": {
       "model_id": "e2e57ed0ff154332b48b00dc1f620235",
       "version_major": 2,
       "version_minor": 0
      },
      "text/plain": [
       "Uploaded:   0%|          | 0/4990562 [00:00<?, ?it/s]"
      ]
     },
     "metadata": {},
     "output_type": "display_data"
    },
    {
     "name": "stdout",
     "output_type": "stream",
     "text": [
      "2022-12-14 15:43:19,111-[INFO]- dropbox:390 -> Refreshing access token.\n",
      "2022-12-14 15:43:19,345-[INFO]- dropbox:474 -> Request to files/upload_session/start\n",
      "2022-12-14 15:43:20,223-[INFO]- dropbox:474 -> Request to files/upload_session/finish\n"
     ]
    },
    {
     "data": {
      "application/vnd.jupyter.widget-view+json": {
       "model_id": "1222f50f9c574b3c856a535c85bb7ff8",
       "version_major": 2,
       "version_minor": 0
      },
      "text/plain": [
       "Uploaded:   0%|          | 0/4885157 [00:00<?, ?it/s]"
      ]
     },
     "metadata": {},
     "output_type": "display_data"
    },
    {
     "name": "stdout",
     "output_type": "stream",
     "text": [
      "2022-12-14 15:43:21,955-[INFO]- dropbox:390 -> Refreshing access token.\n",
      "2022-12-14 15:43:22,222-[INFO]- dropbox:474 -> Request to files/upload_session/start\n",
      "2022-12-14 15:43:23,434-[INFO]- dropbox:474 -> Request to files/upload_session/finish\n"
     ]
    },
    {
     "data": {
      "application/vnd.jupyter.widget-view+json": {
       "model_id": "54f02107aad64557afef701c9b2e3586",
       "version_major": 2,
       "version_minor": 0
      },
      "text/plain": [
       "Uploaded:   0%|          | 0/5031020 [00:00<?, ?it/s]"
      ]
     },
     "metadata": {},
     "output_type": "display_data"
    },
    {
     "name": "stdout",
     "output_type": "stream",
     "text": [
      "2022-12-14 15:43:25,391-[INFO]- dropbox:390 -> Refreshing access token.\n",
      "2022-12-14 15:43:25,935-[INFO]- dropbox:474 -> Request to files/upload_session/start\n",
      "2022-12-14 15:43:27,776-[INFO]- dropbox:474 -> Request to files/upload_session/finish\n",
      "2022-12-14 15:43:29,201-[INFO]- dropbox:390 -> Refreshing access token.\n",
      "2022-12-14 15:43:29,466-[INFO]- dropbox:474 -> Request to files/upload\n",
      "2022-12-14 15:43:31,600-[INFO]- dropbox:390 -> Refreshing access token.\n",
      "2022-12-14 15:43:31,842-[INFO]- dropbox:474 -> Request to files/upload\n",
      "2022-12-14 15:43:33,780-[INFO]- dropbox:390 -> Refreshing access token.\n",
      "2022-12-14 15:43:34,022-[INFO]- dropbox:474 -> Request to files/upload\n"
     ]
    },
    {
     "data": {
      "application/vnd.jupyter.widget-view+json": {
       "model_id": "58fd41ad412c48dc9620eac46f159399",
       "version_major": 2,
       "version_minor": 0
      },
      "text/plain": [
       "Uploaded:   0%|          | 0/5018536 [00:00<?, ?it/s]"
      ]
     },
     "metadata": {},
     "output_type": "display_data"
    },
    {
     "name": "stdout",
     "output_type": "stream",
     "text": [
      "2022-12-14 15:43:39,185-[INFO]- dropbox:390 -> Refreshing access token.\n",
      "2022-12-14 15:43:39,442-[INFO]- dropbox:474 -> Request to files/upload_session/start\n",
      "2022-12-14 15:43:40,437-[INFO]- dropbox:474 -> Request to files/upload_session/finish\n",
      "2022-12-14 15:43:41,988-[INFO]- dropbox:390 -> Refreshing access token.\n",
      "2022-12-14 15:43:42,255-[INFO]- dropbox:474 -> Request to files/upload\n",
      "2022-12-14 15:43:44,026-[INFO]- dropbox:390 -> Refreshing access token.\n",
      "2022-12-14 15:43:44,268-[INFO]- dropbox:474 -> Request to files/upload\n"
     ]
    },
    {
     "data": {
      "application/vnd.jupyter.widget-view+json": {
       "model_id": "9448a42075804e5e9b1d90718f160470",
       "version_major": 2,
       "version_minor": 0
      },
      "text/plain": [
       "Uploaded:   0%|          | 0/4941842 [00:00<?, ?it/s]"
      ]
     },
     "metadata": {},
     "output_type": "display_data"
    },
    {
     "name": "stdout",
     "output_type": "stream",
     "text": [
      "2022-12-14 15:43:45,843-[INFO]- dropbox:390 -> Refreshing access token.\n",
      "2022-12-14 15:43:46,105-[INFO]- dropbox:474 -> Request to files/upload_session/start\n",
      "2022-12-14 15:43:47,387-[INFO]- dropbox:474 -> Request to files/upload_session/finish\n",
      "2022-12-14 15:43:49,510-[INFO]- dropbox:390 -> Refreshing access token.\n",
      "2022-12-14 15:43:49,748-[INFO]- dropbox:474 -> Request to files/upload\n",
      "2022-12-14 15:43:51,244-[INFO]- dropbox:390 -> Refreshing access token.\n",
      "2022-12-14 15:43:51,481-[INFO]- dropbox:474 -> Request to files/upload\n",
      "2022-12-14 15:43:53,197-[INFO]- dropbox:390 -> Refreshing access token.\n",
      "2022-12-14 15:43:53,437-[INFO]- dropbox:474 -> Request to files/upload\n"
     ]
    },
    {
     "data": {
      "application/vnd.jupyter.widget-view+json": {
       "model_id": "ecc7544925bd4bfbbb168b39ba2d2016",
       "version_major": 2,
       "version_minor": 0
      },
      "text/plain": [
       "Uploaded:   0%|          | 0/4926831 [00:00<?, ?it/s]"
      ]
     },
     "metadata": {},
     "output_type": "display_data"
    },
    {
     "name": "stdout",
     "output_type": "stream",
     "text": [
      "2022-12-14 15:43:55,348-[INFO]- dropbox:390 -> Refreshing access token.\n",
      "2022-12-14 15:43:55,613-[INFO]- dropbox:474 -> Request to files/upload_session/start\n",
      "2022-12-14 15:43:57,474-[INFO]- dropbox:474 -> Request to files/upload_session/finish\n",
      "2022-12-14 15:43:59,050-[INFO]- dropbox:390 -> Refreshing access token.\n",
      "2022-12-14 15:43:59,311-[INFO]- dropbox:474 -> Request to files/upload\n"
     ]
    },
    {
     "data": {
      "application/vnd.jupyter.widget-view+json": {
       "model_id": "2efc62dc744d4914b947bc30a78f2176",
       "version_major": 2,
       "version_minor": 0
      },
      "text/plain": [
       "Uploaded:   0%|          | 0/4969474 [00:00<?, ?it/s]"
      ]
     },
     "metadata": {},
     "output_type": "display_data"
    },
    {
     "name": "stdout",
     "output_type": "stream",
     "text": [
      "2022-12-14 15:44:01,049-[INFO]- dropbox:390 -> Refreshing access token.\n",
      "2022-12-14 15:44:01,308-[INFO]- dropbox:474 -> Request to files/upload_session/start\n",
      "2022-12-14 15:44:02,258-[INFO]- dropbox:474 -> Request to files/upload_session/finish\n",
      "2022-12-14 15:44:04,198-[INFO]- dropbox:390 -> Refreshing access token.\n",
      "2022-12-14 15:44:04,433-[INFO]- dropbox:474 -> Request to files/upload\n"
     ]
    },
    {
     "data": {
      "application/vnd.jupyter.widget-view+json": {
       "model_id": "1392d001991d4c73bb5ecbf334951829",
       "version_major": 2,
       "version_minor": 0
      },
      "text/plain": [
       "Uploaded:   0%|          | 0/4847376 [00:00<?, ?it/s]"
      ]
     },
     "metadata": {},
     "output_type": "display_data"
    },
    {
     "name": "stdout",
     "output_type": "stream",
     "text": [
      "2022-12-14 15:44:06,427-[INFO]- dropbox:390 -> Refreshing access token.\n",
      "2022-12-14 15:44:06,675-[INFO]- dropbox:474 -> Request to files/upload_session/start\n",
      "2022-12-14 15:44:08,070-[INFO]- dropbox:474 -> Request to files/upload_session/finish\n",
      "2022-12-14 15:44:09,944-[INFO]- dropbox:390 -> Refreshing access token.\n",
      "2022-12-14 15:44:10,226-[INFO]- dropbox:474 -> Request to files/upload\n"
     ]
    },
    {
     "data": {
      "application/vnd.jupyter.widget-view+json": {
       "model_id": "dcf95c2cf8ff4df3b014fbbbf758f3da",
       "version_major": 2,
       "version_minor": 0
      },
      "text/plain": [
       "Uploaded:   0%|          | 0/4899433 [00:00<?, ?it/s]"
      ]
     },
     "metadata": {},
     "output_type": "display_data"
    },
    {
     "name": "stdout",
     "output_type": "stream",
     "text": [
      "2022-12-14 15:44:11,891-[INFO]- dropbox:390 -> Refreshing access token.\n",
      "2022-12-14 15:44:12,122-[INFO]- dropbox:474 -> Request to files/upload_session/start\n",
      "2022-12-14 15:44:13,115-[INFO]- dropbox:474 -> Request to files/upload_session/finish\n",
      "2022-12-14 15:44:15,336-[INFO]- dropbox:390 -> Refreshing access token.\n",
      "2022-12-14 15:44:15,566-[INFO]- dropbox:474 -> Request to files/upload\n"
     ]
    },
    {
     "data": {
      "application/vnd.jupyter.widget-view+json": {
       "model_id": "aede8b43e0d64386845e88aa8e1d4c25",
       "version_major": 2,
       "version_minor": 0
      },
      "text/plain": [
       "Uploaded:   0%|          | 0/4303975 [00:00<?, ?it/s]"
      ]
     },
     "metadata": {},
     "output_type": "display_data"
    },
    {
     "name": "stdout",
     "output_type": "stream",
     "text": [
      "2022-12-14 15:44:16,938-[INFO]- dropbox:390 -> Refreshing access token.\n",
      "2022-12-14 15:44:17,209-[INFO]- dropbox:474 -> Request to files/upload_session/start\n",
      "2022-12-14 15:44:18,040-[INFO]- dropbox:474 -> Request to files/upload_session/finish\n"
     ]
    },
    {
     "data": {
      "application/vnd.jupyter.widget-view+json": {
       "model_id": "9a7e1a5e5f6b43f69c59d0ea5192d642",
       "version_major": 2,
       "version_minor": 0
      },
      "text/plain": [
       "Uploaded:   0%|          | 0/4996454 [00:00<?, ?it/s]"
      ]
     },
     "metadata": {},
     "output_type": "display_data"
    },
    {
     "name": "stdout",
     "output_type": "stream",
     "text": [
      "2022-12-14 15:44:19,941-[INFO]- dropbox:390 -> Refreshing access token.\n",
      "2022-12-14 15:44:20,176-[INFO]- dropbox:474 -> Request to files/upload_session/start\n",
      "2022-12-14 15:44:21,348-[INFO]- dropbox:474 -> Request to files/upload_session/finish\n"
     ]
    },
    {
     "data": {
      "application/vnd.jupyter.widget-view+json": {
       "model_id": "6dfb27a5e447436c8a73bc61e04ba27a",
       "version_major": 2,
       "version_minor": 0
      },
      "text/plain": [
       "Uploaded:   0%|          | 0/4872170 [00:00<?, ?it/s]"
      ]
     },
     "metadata": {},
     "output_type": "display_data"
    },
    {
     "name": "stdout",
     "output_type": "stream",
     "text": [
      "2022-12-14 15:44:22,832-[INFO]- dropbox:390 -> Refreshing access token.\n",
      "2022-12-14 15:44:23,098-[INFO]- dropbox:474 -> Request to files/upload_session/start\n",
      "2022-12-14 15:44:23,983-[INFO]- dropbox:474 -> Request to files/upload_session/finish\n"
     ]
    },
    {
     "data": {
      "application/vnd.jupyter.widget-view+json": {
       "model_id": "bef84b1e85e94c83ab9f2d038806222d",
       "version_major": 2,
       "version_minor": 0
      },
      "text/plain": [
       "Uploaded:   0%|          | 0/4802109 [00:00<?, ?it/s]"
      ]
     },
     "metadata": {},
     "output_type": "display_data"
    },
    {
     "name": "stdout",
     "output_type": "stream",
     "text": [
      "2022-12-14 15:44:25,554-[INFO]- dropbox:390 -> Refreshing access token.\n",
      "2022-12-14 15:44:25,841-[INFO]- dropbox:474 -> Request to files/upload_session/start\n",
      "2022-12-14 15:44:26,648-[INFO]- dropbox:474 -> Request to files/upload_session/finish\n",
      "2022-12-14 15:44:28,367-[INFO]- dropbox:390 -> Refreshing access token.\n",
      "2022-12-14 15:44:28,613-[INFO]- dropbox:474 -> Request to files/upload\n",
      "2022-12-14 15:44:30,186-[INFO]- dropbox:390 -> Refreshing access token.\n",
      "2022-12-14 15:44:30,437-[INFO]- dropbox:474 -> Request to files/upload\n"
     ]
    },
    {
     "data": {
      "application/vnd.jupyter.widget-view+json": {
       "model_id": "9f7534a00f924a80929ee43227019312",
       "version_major": 2,
       "version_minor": 0
      },
      "text/plain": [
       "Uploaded:   0%|          | 0/4867343 [00:00<?, ?it/s]"
      ]
     },
     "metadata": {},
     "output_type": "display_data"
    },
    {
     "name": "stdout",
     "output_type": "stream",
     "text": [
      "2022-12-14 15:44:32,281-[INFO]- dropbox:390 -> Refreshing access token.\n",
      "2022-12-14 15:44:32,511-[INFO]- dropbox:474 -> Request to files/upload_session/start\n",
      "2022-12-14 15:44:33,557-[INFO]- dropbox:474 -> Request to files/upload_session/finish\n"
     ]
    },
    {
     "data": {
      "application/vnd.jupyter.widget-view+json": {
       "model_id": "38b161a9e5a4491cb5b5a0ded894cb7d",
       "version_major": 2,
       "version_minor": 0
      },
      "text/plain": [
       "Uploaded:   0%|          | 0/4346518 [00:00<?, ?it/s]"
      ]
     },
     "metadata": {},
     "output_type": "display_data"
    },
    {
     "name": "stdout",
     "output_type": "stream",
     "text": [
      "2022-12-14 15:44:35,080-[INFO]- dropbox:390 -> Refreshing access token.\n",
      "2022-12-14 15:44:35,329-[INFO]- dropbox:474 -> Request to files/upload_session/start\n",
      "2022-12-14 15:44:36,387-[INFO]- dropbox:474 -> Request to files/upload_session/finish\n"
     ]
    },
    {
     "data": {
      "application/vnd.jupyter.widget-view+json": {
       "model_id": "0c45e315f77c49568b353a1dfff36421",
       "version_major": 2,
       "version_minor": 0
      },
      "text/plain": [
       "Uploaded:   0%|          | 0/4873047 [00:00<?, ?it/s]"
      ]
     },
     "metadata": {},
     "output_type": "display_data"
    },
    {
     "name": "stdout",
     "output_type": "stream",
     "text": [
      "2022-12-14 15:44:38,212-[INFO]- dropbox:390 -> Refreshing access token.\n",
      "2022-12-14 15:44:38,520-[INFO]- dropbox:474 -> Request to files/upload_session/start\n",
      "2022-12-14 15:44:39,444-[INFO]- dropbox:474 -> Request to files/upload_session/finish\n"
     ]
    },
    {
     "data": {
      "application/vnd.jupyter.widget-view+json": {
       "model_id": "c09f00feb85a4a3db08ef22f655596d0",
       "version_major": 2,
       "version_minor": 0
      },
      "text/plain": [
       "Uploaded:   0%|          | 0/4911649 [00:00<?, ?it/s]"
      ]
     },
     "metadata": {},
     "output_type": "display_data"
    },
    {
     "name": "stdout",
     "output_type": "stream",
     "text": [
      "2022-12-14 15:44:41,064-[INFO]- dropbox:390 -> Refreshing access token.\n",
      "2022-12-14 15:44:41,304-[INFO]- dropbox:474 -> Request to files/upload_session/start\n",
      "2022-12-14 15:44:42,615-[INFO]- dropbox:474 -> Request to files/upload_session/finish\n"
     ]
    },
    {
     "data": {
      "application/vnd.jupyter.widget-view+json": {
       "model_id": "cf1dc06d24304bdaa7af80d1b3367b80",
       "version_major": 2,
       "version_minor": 0
      },
      "text/plain": [
       "Uploaded:   0%|          | 0/5038679 [00:00<?, ?it/s]"
      ]
     },
     "metadata": {},
     "output_type": "display_data"
    },
    {
     "name": "stdout",
     "output_type": "stream",
     "text": [
      "2022-12-14 15:44:44,784-[INFO]- dropbox:390 -> Refreshing access token.\n",
      "2022-12-14 15:44:45,022-[INFO]- dropbox:474 -> Request to files/upload_session/start\n",
      "2022-12-14 15:44:46,463-[INFO]- dropbox:474 -> Request to files/upload_session/finish\n",
      "2022-12-14 15:44:48,027-[INFO]- dropbox:390 -> Refreshing access token.\n",
      "2022-12-14 15:44:48,276-[INFO]- dropbox:474 -> Request to files/upload\n",
      "2022-12-14 15:44:50,044-[INFO]- dropbox:390 -> Refreshing access token.\n",
      "2022-12-14 15:44:50,328-[INFO]- dropbox:474 -> Request to files/upload\n",
      "2022-12-14 15:44:52,453-[INFO]- dropbox:390 -> Refreshing access token.\n",
      "2022-12-14 15:44:52,740-[INFO]- dropbox:474 -> Request to files/upload\n",
      "2022-12-14 15:44:54,464-[INFO]- dropbox:390 -> Refreshing access token.\n",
      "2022-12-14 15:44:54,812-[INFO]- dropbox:474 -> Request to files/upload\n"
     ]
    },
    {
     "data": {
      "application/vnd.jupyter.widget-view+json": {
       "model_id": "0c0d97ea1afd44248da036d0e9fd2569",
       "version_major": 2,
       "version_minor": 0
      },
      "text/plain": [
       "Uploaded:   0%|          | 0/4491591 [00:00<?, ?it/s]"
      ]
     },
     "metadata": {},
     "output_type": "display_data"
    },
    {
     "name": "stdout",
     "output_type": "stream",
     "text": [
      "2022-12-14 15:44:56,771-[INFO]- dropbox:390 -> Refreshing access token.\n",
      "2022-12-14 15:44:57,007-[INFO]- dropbox:474 -> Request to files/upload_session/start\n",
      "2022-12-14 15:44:58,259-[INFO]- dropbox:474 -> Request to files/upload_session/finish\n",
      "2022-12-14 15:44:59,814-[INFO]- dropbox:390 -> Refreshing access token.\n",
      "2022-12-14 15:45:00,061-[INFO]- dropbox:474 -> Request to files/upload\n"
     ]
    },
    {
     "data": {
      "application/vnd.jupyter.widget-view+json": {
       "model_id": "17253e5b289b40e89493f91566ef17fb",
       "version_major": 2,
       "version_minor": 0
      },
      "text/plain": [
       "Uploaded:   0%|          | 0/4782438 [00:00<?, ?it/s]"
      ]
     },
     "metadata": {},
     "output_type": "display_data"
    },
    {
     "name": "stdout",
     "output_type": "stream",
     "text": [
      "2022-12-14 15:45:01,929-[INFO]- dropbox:390 -> Refreshing access token.\n",
      "2022-12-14 15:45:02,183-[INFO]- dropbox:474 -> Request to files/upload_session/start\n",
      "2022-12-14 15:45:03,913-[INFO]- dropbox:474 -> Request to files/upload_session/finish\n",
      "2022-12-14 15:45:06,051-[INFO]- dropbox:390 -> Refreshing access token.\n",
      "2022-12-14 15:45:06,290-[INFO]- dropbox:474 -> Request to files/upload\n"
     ]
    },
    {
     "data": {
      "application/vnd.jupyter.widget-view+json": {
       "model_id": "7f858d5daa8d4772a4b7d21d61d1185d",
       "version_major": 2,
       "version_minor": 0
      },
      "text/plain": [
       "Uploaded:   0%|          | 0/4365325 [00:00<?, ?it/s]"
      ]
     },
     "metadata": {},
     "output_type": "display_data"
    },
    {
     "name": "stdout",
     "output_type": "stream",
     "text": [
      "2022-12-14 15:45:08,004-[INFO]- dropbox:390 -> Refreshing access token.\n",
      "2022-12-14 15:45:08,258-[INFO]- dropbox:474 -> Request to files/upload_session/start\n",
      "2022-12-14 15:45:09,295-[INFO]- dropbox:474 -> Request to files/upload_session/finish\n",
      "2022-12-14 15:45:11,031-[INFO]- dropbox:390 -> Refreshing access token.\n",
      "2022-12-14 15:45:11,382-[INFO]- dropbox:474 -> Request to files/upload\n",
      "2022-12-14 15:45:12,987-[INFO]- dropbox:390 -> Refreshing access token.\n",
      "2022-12-14 15:45:13,240-[INFO]- dropbox:474 -> Request to files/upload\n"
     ]
    },
    {
     "data": {
      "application/vnd.jupyter.widget-view+json": {
       "model_id": "24e844c7a6bb4031bd7a835db57a37fe",
       "version_major": 2,
       "version_minor": 0
      },
      "text/plain": [
       "Uploaded:   0%|          | 0/4926183 [00:00<?, ?it/s]"
      ]
     },
     "metadata": {},
     "output_type": "display_data"
    },
    {
     "name": "stdout",
     "output_type": "stream",
     "text": [
      "2022-12-14 15:45:15,363-[INFO]- dropbox:390 -> Refreshing access token.\n",
      "2022-12-14 15:45:15,671-[INFO]- dropbox:474 -> Request to files/upload_session/start\n",
      "2022-12-14 15:45:16,779-[INFO]- dropbox:474 -> Request to files/upload_session/finish\n"
     ]
    },
    {
     "data": {
      "application/vnd.jupyter.widget-view+json": {
       "model_id": "4273cdb096c14f51832ba33f98f659da",
       "version_major": 2,
       "version_minor": 0
      },
      "text/plain": [
       "Uploaded:   0%|          | 0/4816117 [00:00<?, ?it/s]"
      ]
     },
     "metadata": {},
     "output_type": "display_data"
    },
    {
     "name": "stdout",
     "output_type": "stream",
     "text": [
      "2022-12-14 15:45:18,353-[INFO]- dropbox:390 -> Refreshing access token.\n",
      "2022-12-14 15:45:18,617-[INFO]- dropbox:474 -> Request to files/upload_session/start\n",
      "2022-12-14 15:45:19,950-[INFO]- dropbox:474 -> Request to files/upload_session/finish\n",
      "2022-12-14 15:45:22,140-[INFO]- dropbox:390 -> Refreshing access token.\n",
      "2022-12-14 15:45:22,539-[INFO]- dropbox:474 -> Request to files/upload\n",
      "2022-12-14 15:45:24,434-[INFO]- dropbox:390 -> Refreshing access token.\n",
      "2022-12-14 15:45:24,691-[INFO]- dropbox:474 -> Request to files/upload\n"
     ]
    },
    {
     "data": {
      "application/vnd.jupyter.widget-view+json": {
       "model_id": "adc05b253358414cbbd20bfadc4db159",
       "version_major": 2,
       "version_minor": 0
      },
      "text/plain": [
       "Uploaded:   0%|          | 0/4856441 [00:00<?, ?it/s]"
      ]
     },
     "metadata": {},
     "output_type": "display_data"
    },
    {
     "name": "stdout",
     "output_type": "stream",
     "text": [
      "2022-12-14 15:45:26,344-[INFO]- dropbox:390 -> Refreshing access token.\n",
      "2022-12-14 15:45:26,609-[INFO]- dropbox:474 -> Request to files/upload_session/start\n",
      "2022-12-14 15:45:27,612-[INFO]- dropbox:474 -> Request to files/upload_session/finish\n"
     ]
    },
    {
     "data": {
      "application/vnd.jupyter.widget-view+json": {
       "model_id": "6c55f43b01654b7a9fe7f3c748879df4",
       "version_major": 2,
       "version_minor": 0
      },
      "text/plain": [
       "Uploaded:   0%|          | 0/4871732 [00:00<?, ?it/s]"
      ]
     },
     "metadata": {},
     "output_type": "display_data"
    },
    {
     "name": "stdout",
     "output_type": "stream",
     "text": [
      "2022-12-14 15:45:29,874-[INFO]- dropbox:390 -> Refreshing access token.\n",
      "2022-12-14 15:45:30,169-[INFO]- dropbox:474 -> Request to files/upload_session/start\n",
      "2022-12-14 15:45:31,263-[INFO]- dropbox:474 -> Request to files/upload_session/finish\n"
     ]
    },
    {
     "data": {
      "application/vnd.jupyter.widget-view+json": {
       "model_id": "7d0e651bad0f4cf9a607e439ef7ed289",
       "version_major": 2,
       "version_minor": 0
      },
      "text/plain": [
       "Uploaded:   0%|          | 0/4882161 [00:00<?, ?it/s]"
      ]
     },
     "metadata": {},
     "output_type": "display_data"
    },
    {
     "name": "stdout",
     "output_type": "stream",
     "text": [
      "2022-12-14 15:45:33,182-[INFO]- dropbox:390 -> Refreshing access token.\n",
      "2022-12-14 15:45:33,431-[INFO]- dropbox:474 -> Request to files/upload_session/start\n",
      "2022-12-14 15:45:34,873-[INFO]- dropbox:474 -> Request to files/upload_session/finish\n",
      "2022-12-14 15:45:38,653-[INFO]- dropbox:390 -> Refreshing access token.\n",
      "2022-12-14 15:45:38,958-[INFO]- dropbox:474 -> Request to files/upload\n",
      "2022-12-14 15:45:40,881-[INFO]- dropbox:390 -> Refreshing access token.\n",
      "2022-12-14 15:45:41,116-[INFO]- dropbox:474 -> Request to files/upload\n"
     ]
    },
    {
     "data": {
      "application/vnd.jupyter.widget-view+json": {
       "model_id": "6bae86d0b0b8493a8197bca714401629",
       "version_major": 2,
       "version_minor": 0
      },
      "text/plain": [
       "Uploaded:   0%|          | 0/5171678 [00:00<?, ?it/s]"
      ]
     },
     "metadata": {},
     "output_type": "display_data"
    },
    {
     "name": "stdout",
     "output_type": "stream",
     "text": [
      "2022-12-14 15:45:42,657-[INFO]- dropbox:390 -> Refreshing access token.\n",
      "2022-12-14 15:45:42,890-[INFO]- dropbox:474 -> Request to files/upload_session/start\n",
      "2022-12-14 15:45:43,841-[INFO]- dropbox:474 -> Request to files/upload_session/finish\n",
      "2022-12-14 15:45:47,306-[INFO]- dropbox:390 -> Refreshing access token.\n",
      "2022-12-14 15:45:47,543-[INFO]- dropbox:474 -> Request to files/upload\n",
      "2022-12-14 15:45:49,152-[INFO]- dropbox:390 -> Refreshing access token.\n",
      "2022-12-14 15:45:49,383-[INFO]- dropbox:474 -> Request to files/upload\n",
      "2022-12-14 15:45:51,203-[INFO]- dropbox:390 -> Refreshing access token.\n",
      "2022-12-14 15:45:51,446-[INFO]- dropbox:474 -> Request to files/upload\n"
     ]
    },
    {
     "data": {
      "application/vnd.jupyter.widget-view+json": {
       "model_id": "e5146378797641d4958695fed4c42338",
       "version_major": 2,
       "version_minor": 0
      },
      "text/plain": [
       "Uploaded:   0%|          | 0/4423115 [00:00<?, ?it/s]"
      ]
     },
     "metadata": {},
     "output_type": "display_data"
    },
    {
     "name": "stdout",
     "output_type": "stream",
     "text": [
      "2022-12-14 15:45:53,120-[INFO]- dropbox:390 -> Refreshing access token.\n",
      "2022-12-14 15:45:53,383-[INFO]- dropbox:474 -> Request to files/upload_session/start\n",
      "2022-12-14 15:45:54,299-[INFO]- dropbox:474 -> Request to files/upload_session/finish\n",
      "2022-12-14 15:45:56,066-[INFO]- dropbox:390 -> Refreshing access token.\n",
      "2022-12-14 15:45:56,324-[INFO]- dropbox:474 -> Request to files/upload\n"
     ]
    },
    {
     "data": {
      "application/vnd.jupyter.widget-view+json": {
       "model_id": "dac8e1d9f3f44c898e1d3acbe1156302",
       "version_major": 2,
       "version_minor": 0
      },
      "text/plain": [
       "Uploaded:   0%|          | 0/4956632 [00:00<?, ?it/s]"
      ]
     },
     "metadata": {},
     "output_type": "display_data"
    },
    {
     "name": "stdout",
     "output_type": "stream",
     "text": [
      "2022-12-14 15:45:58,007-[INFO]- dropbox:390 -> Refreshing access token.\n",
      "2022-12-14 15:45:58,237-[INFO]- dropbox:474 -> Request to files/upload_session/start\n",
      "2022-12-14 15:45:59,506-[INFO]- dropbox:474 -> Request to files/upload_session/finish\n"
     ]
    },
    {
     "data": {
      "application/vnd.jupyter.widget-view+json": {
       "model_id": "7196b200fa2f45cb977f8848adb3f50f",
       "version_major": 2,
       "version_minor": 0
      },
      "text/plain": [
       "Uploaded:   0%|          | 0/4952699 [00:00<?, ?it/s]"
      ]
     },
     "metadata": {},
     "output_type": "display_data"
    },
    {
     "name": "stdout",
     "output_type": "stream",
     "text": [
      "2022-12-14 15:46:01,370-[INFO]- dropbox:390 -> Refreshing access token.\n",
      "2022-12-14 15:46:01,637-[INFO]- dropbox:474 -> Request to files/upload_session/start\n",
      "2022-12-14 15:46:02,575-[INFO]- dropbox:474 -> Request to files/upload_session/finish\n",
      "2022-12-14 15:46:04,418-[INFO]- dropbox:390 -> Refreshing access token.\n",
      "2022-12-14 15:46:04,704-[INFO]- dropbox:474 -> Request to files/upload\n"
     ]
    },
    {
     "data": {
      "application/vnd.jupyter.widget-view+json": {
       "model_id": "808fb199d6cb402cb81d172d91e9926e",
       "version_major": 2,
       "version_minor": 0
      },
      "text/plain": [
       "Uploaded:   0%|          | 0/4721374 [00:00<?, ?it/s]"
      ]
     },
     "metadata": {},
     "output_type": "display_data"
    },
    {
     "name": "stdout",
     "output_type": "stream",
     "text": [
      "2022-12-14 15:46:06,174-[INFO]- dropbox:390 -> Refreshing access token.\n",
      "2022-12-14 15:46:06,486-[INFO]- dropbox:474 -> Request to files/upload_session/start\n",
      "2022-12-14 15:46:08,012-[INFO]- dropbox:474 -> Request to files/upload_session/finish\n"
     ]
    },
    {
     "data": {
      "application/vnd.jupyter.widget-view+json": {
       "model_id": "26483891e4fb4be7abea153c6e045454",
       "version_major": 2,
       "version_minor": 0
      },
      "text/plain": [
       "Uploaded:   0%|          | 0/4822095 [00:00<?, ?it/s]"
      ]
     },
     "metadata": {},
     "output_type": "display_data"
    },
    {
     "name": "stdout",
     "output_type": "stream",
     "text": [
      "2022-12-14 15:46:09,766-[INFO]- dropbox:390 -> Refreshing access token.\n",
      "2022-12-14 15:46:10,038-[INFO]- dropbox:474 -> Request to files/upload_session/start\n",
      "2022-12-14 15:46:11,291-[INFO]- dropbox:474 -> Request to files/upload_session/finish\n"
     ]
    },
    {
     "data": {
      "application/vnd.jupyter.widget-view+json": {
       "model_id": "30ed60427f9e42429345d3c32e5fdd18",
       "version_major": 2,
       "version_minor": 0
      },
      "text/plain": [
       "Uploaded:   0%|          | 0/4468488 [00:00<?, ?it/s]"
      ]
     },
     "metadata": {},
     "output_type": "display_data"
    },
    {
     "name": "stdout",
     "output_type": "stream",
     "text": [
      "2022-12-14 15:46:12,977-[INFO]- dropbox:390 -> Refreshing access token.\n",
      "2022-12-14 15:46:13,221-[INFO]- dropbox:474 -> Request to files/upload_session/start\n",
      "2022-12-14 15:46:14,242-[INFO]- dropbox:474 -> Request to files/upload_session/finish\n"
     ]
    },
    {
     "data": {
      "application/vnd.jupyter.widget-view+json": {
       "model_id": "4aa3c58ecacb4772aa40b32dd83d8d13",
       "version_major": 2,
       "version_minor": 0
      },
      "text/plain": [
       "Uploaded:   0%|          | 0/5003014 [00:00<?, ?it/s]"
      ]
     },
     "metadata": {},
     "output_type": "display_data"
    },
    {
     "name": "stdout",
     "output_type": "stream",
     "text": [
      "2022-12-14 15:46:16,060-[INFO]- dropbox:390 -> Refreshing access token.\n",
      "2022-12-14 15:46:16,363-[INFO]- dropbox:474 -> Request to files/upload_session/start\n",
      "2022-12-14 15:46:17,634-[INFO]- dropbox:474 -> Request to files/upload_session/finish\n"
     ]
    },
    {
     "data": {
      "application/vnd.jupyter.widget-view+json": {
       "model_id": "39af04224c484b33b53a9086fbfeb178",
       "version_major": 2,
       "version_minor": 0
      },
      "text/plain": [
       "Uploaded:   0%|          | 0/4329021 [00:00<?, ?it/s]"
      ]
     },
     "metadata": {},
     "output_type": "display_data"
    },
    {
     "name": "stdout",
     "output_type": "stream",
     "text": [
      "2022-12-14 15:46:19,960-[INFO]- dropbox:390 -> Refreshing access token.\n",
      "2022-12-14 15:46:20,206-[INFO]- dropbox:474 -> Request to files/upload_session/start\n",
      "2022-12-14 15:46:21,406-[INFO]- dropbox:474 -> Request to files/upload_session/finish\n"
     ]
    },
    {
     "data": {
      "application/vnd.jupyter.widget-view+json": {
       "model_id": "5f883acf27884f299efd321aca03f14a",
       "version_major": 2,
       "version_minor": 0
      },
      "text/plain": [
       "Uploaded:   0%|          | 0/4887863 [00:00<?, ?it/s]"
      ]
     },
     "metadata": {},
     "output_type": "display_data"
    },
    {
     "name": "stdout",
     "output_type": "stream",
     "text": [
      "2022-12-14 15:46:22,941-[INFO]- dropbox:390 -> Refreshing access token.\n",
      "2022-12-14 15:46:23,204-[INFO]- dropbox:474 -> Request to files/upload_session/start\n",
      "2022-12-14 15:46:24,217-[INFO]- dropbox:474 -> Request to files/upload_session/finish\n"
     ]
    },
    {
     "data": {
      "application/vnd.jupyter.widget-view+json": {
       "model_id": "be521d233ebb4065aa5a235dccc8e592",
       "version_major": 2,
       "version_minor": 0
      },
      "text/plain": [
       "Uploaded:   0%|          | 0/4969072 [00:00<?, ?it/s]"
      ]
     },
     "metadata": {},
     "output_type": "display_data"
    },
    {
     "name": "stdout",
     "output_type": "stream",
     "text": [
      "2022-12-14 15:46:26,083-[INFO]- dropbox:390 -> Refreshing access token.\n",
      "2022-12-14 15:46:26,319-[INFO]- dropbox:474 -> Request to files/upload_session/start\n",
      "2022-12-14 15:46:27,158-[INFO]- dropbox:474 -> Request to files/upload_session/finish\n",
      "2022-12-14 15:46:28,604-[INFO]- dropbox:390 -> Refreshing access token.\n",
      "2022-12-14 15:46:28,905-[INFO]- dropbox:474 -> Request to files/upload\n",
      "2022-12-14 15:46:30,765-[INFO]- dropbox:390 -> Refreshing access token.\n",
      "2022-12-14 15:46:31,040-[INFO]- dropbox:474 -> Request to files/upload\n",
      "2022-12-14 15:46:32,951-[INFO]- dropbox:390 -> Refreshing access token.\n",
      "2022-12-14 15:46:33,454-[INFO]- dropbox:474 -> Request to files/upload\n"
     ]
    },
    {
     "data": {
      "application/vnd.jupyter.widget-view+json": {
       "model_id": "f2ae6c7e6f164e03b7a86e394a381cbf",
       "version_major": 2,
       "version_minor": 0
      },
      "text/plain": [
       "Uploaded:   0%|          | 0/4572297 [00:00<?, ?it/s]"
      ]
     },
     "metadata": {},
     "output_type": "display_data"
    },
    {
     "name": "stdout",
     "output_type": "stream",
     "text": [
      "2022-12-14 15:46:35,466-[INFO]- dropbox:390 -> Refreshing access token.\n",
      "2022-12-14 15:46:35,744-[INFO]- dropbox:474 -> Request to files/upload_session/start\n",
      "2022-12-14 15:46:36,818-[INFO]- dropbox:474 -> Request to files/upload_session/finish\n"
     ]
    },
    {
     "data": {
      "application/vnd.jupyter.widget-view+json": {
       "model_id": "9eb6d55b09b54135af63b9e49de17526",
       "version_major": 2,
       "version_minor": 0
      },
      "text/plain": [
       "Uploaded:   0%|          | 0/4775639 [00:00<?, ?it/s]"
      ]
     },
     "metadata": {},
     "output_type": "display_data"
    },
    {
     "name": "stdout",
     "output_type": "stream",
     "text": [
      "2022-12-14 15:46:39,018-[INFO]- dropbox:390 -> Refreshing access token.\n",
      "2022-12-14 15:46:39,279-[INFO]- dropbox:474 -> Request to files/upload_session/start\n",
      "2022-12-14 15:46:40,227-[INFO]- dropbox:474 -> Request to files/upload_session/finish\n",
      "2022-12-14 15:46:42,197-[INFO]- dropbox:390 -> Refreshing access token.\n",
      "2022-12-14 15:46:42,448-[INFO]- dropbox:474 -> Request to files/upload\n",
      "2022-12-14 15:46:44,157-[INFO]- dropbox:390 -> Refreshing access token.\n",
      "2022-12-14 15:46:44,419-[INFO]- dropbox:474 -> Request to files/upload\n"
     ]
    },
    {
     "data": {
      "application/vnd.jupyter.widget-view+json": {
       "model_id": "5aeba04832c74a03906e30e835927b50",
       "version_major": 2,
       "version_minor": 0
      },
      "text/plain": [
       "Uploaded:   0%|          | 0/4421081 [00:00<?, ?it/s]"
      ]
     },
     "metadata": {},
     "output_type": "display_data"
    },
    {
     "name": "stdout",
     "output_type": "stream",
     "text": [
      "2022-12-14 15:46:46,432-[INFO]- dropbox:390 -> Refreshing access token.\n",
      "2022-12-14 15:46:46,654-[INFO]- dropbox:474 -> Request to files/upload_session/start\n",
      "2022-12-14 15:46:49,014-[INFO]- dropbox:474 -> Request to files/upload_session/finish\n"
     ]
    },
    {
     "data": {
      "application/vnd.jupyter.widget-view+json": {
       "model_id": "d16059cf84a241d1bda6fc9264c85174",
       "version_major": 2,
       "version_minor": 0
      },
      "text/plain": [
       "Uploaded:   0%|          | 0/4822720 [00:00<?, ?it/s]"
      ]
     },
     "metadata": {},
     "output_type": "display_data"
    },
    {
     "name": "stdout",
     "output_type": "stream",
     "text": [
      "2022-12-14 15:46:51,456-[INFO]- dropbox:390 -> Refreshing access token.\n",
      "2022-12-14 15:46:51,691-[INFO]- dropbox:474 -> Request to files/upload_session/start\n",
      "2022-12-14 15:46:52,605-[INFO]- dropbox:474 -> Request to files/upload_session/finish\n",
      "2022-12-14 15:46:54,286-[INFO]- dropbox:390 -> Refreshing access token.\n",
      "2022-12-14 15:46:54,509-[INFO]- dropbox:474 -> Request to files/upload\n"
     ]
    },
    {
     "data": {
      "application/vnd.jupyter.widget-view+json": {
       "model_id": "6d3dd43095614dee8abc6f2ce74800ba",
       "version_major": 2,
       "version_minor": 0
      },
      "text/plain": [
       "Uploaded:   0%|          | 0/5032122 [00:00<?, ?it/s]"
      ]
     },
     "metadata": {},
     "output_type": "display_data"
    },
    {
     "name": "stdout",
     "output_type": "stream",
     "text": [
      "2022-12-14 15:46:55,976-[INFO]- dropbox:390 -> Refreshing access token.\n",
      "2022-12-14 15:46:56,236-[INFO]- dropbox:474 -> Request to files/upload_session/start\n",
      "2022-12-14 15:46:57,110-[INFO]- dropbox:474 -> Request to files/upload_session/finish\n"
     ]
    },
    {
     "data": {
      "application/vnd.jupyter.widget-view+json": {
       "model_id": "a2841f188f02409296518b715160b8cf",
       "version_major": 2,
       "version_minor": 0
      },
      "text/plain": [
       "Uploaded:   0%|          | 0/4211395 [00:00<?, ?it/s]"
      ]
     },
     "metadata": {},
     "output_type": "display_data"
    },
    {
     "name": "stdout",
     "output_type": "stream",
     "text": [
      "2022-12-14 15:46:58,731-[INFO]- dropbox:390 -> Refreshing access token.\n",
      "2022-12-14 15:46:58,990-[INFO]- dropbox:474 -> Request to files/upload_session/start\n",
      "2022-12-14 15:47:00,809-[INFO]- dropbox:474 -> Request to files/upload_session/finish\n"
     ]
    },
    {
     "data": {
      "application/vnd.jupyter.widget-view+json": {
       "model_id": "73cf6150bfbd406696df310e6ebfe59a",
       "version_major": 2,
       "version_minor": 0
      },
      "text/plain": [
       "Uploaded:   0%|          | 0/4854132 [00:00<?, ?it/s]"
      ]
     },
     "metadata": {},
     "output_type": "display_data"
    },
    {
     "name": "stdout",
     "output_type": "stream",
     "text": [
      "2022-12-14 15:47:03,226-[INFO]- dropbox:390 -> Refreshing access token.\n",
      "2022-12-14 15:47:03,529-[INFO]- dropbox:474 -> Request to files/upload_session/start\n",
      "2022-12-14 15:47:05,077-[INFO]- dropbox:474 -> Request to files/upload_session/finish\n",
      "2022-12-14 15:47:06,768-[INFO]- dropbox:390 -> Refreshing access token.\n",
      "2022-12-14 15:47:07,080-[INFO]- dropbox:474 -> Request to files/upload\n"
     ]
    },
    {
     "data": {
      "application/vnd.jupyter.widget-view+json": {
       "model_id": "9504970f7dda47ada7e6188c959399f4",
       "version_major": 2,
       "version_minor": 0
      },
      "text/plain": [
       "Uploaded:   0%|          | 0/4793957 [00:00<?, ?it/s]"
      ]
     },
     "metadata": {},
     "output_type": "display_data"
    },
    {
     "name": "stdout",
     "output_type": "stream",
     "text": [
      "2022-12-14 15:47:09,547-[INFO]- dropbox:390 -> Refreshing access token.\n",
      "2022-12-14 15:47:09,793-[INFO]- dropbox:474 -> Request to files/upload_session/start\n",
      "2022-12-14 15:47:10,749-[INFO]- dropbox:474 -> Request to files/upload_session/finish\n",
      "2022-12-14 15:47:12,903-[INFO]- dropbox:390 -> Refreshing access token.\n",
      "2022-12-14 15:47:13,143-[INFO]- dropbox:474 -> Request to files/upload\n",
      "2022-12-14 15:47:14,834-[INFO]- dropbox:390 -> Refreshing access token.\n",
      "2022-12-14 15:47:15,122-[INFO]- dropbox:474 -> Request to files/upload\n",
      "2022-12-14 15:47:17,034-[INFO]- dropbox:390 -> Refreshing access token.\n",
      "2022-12-14 15:47:17,318-[INFO]- dropbox:474 -> Request to files/upload\n",
      "2022-12-14 15:47:20,267-[INFO]- dropbox:390 -> Refreshing access token.\n",
      "2022-12-14 15:47:20,508-[INFO]- dropbox:474 -> Request to files/upload\n",
      "2022-12-14 15:47:21,980-[INFO]- dropbox:390 -> Refreshing access token.\n",
      "2022-12-14 15:47:22,268-[INFO]- dropbox:474 -> Request to files/upload\n"
     ]
    },
    {
     "data": {
      "application/vnd.jupyter.widget-view+json": {
       "model_id": "42874581ee404fc5abab8e12fbd106ed",
       "version_major": 2,
       "version_minor": 0
      },
      "text/plain": [
       "Uploaded:   0%|          | 0/4817854 [00:00<?, ?it/s]"
      ]
     },
     "metadata": {},
     "output_type": "display_data"
    },
    {
     "name": "stdout",
     "output_type": "stream",
     "text": [
      "2022-12-14 15:47:24,321-[INFO]- dropbox:390 -> Refreshing access token.\n",
      "2022-12-14 15:47:24,564-[INFO]- dropbox:474 -> Request to files/upload_session/start\n",
      "2022-12-14 15:47:26,246-[INFO]- dropbox:474 -> Request to files/upload_session/finish\n"
     ]
    },
    {
     "data": {
      "application/vnd.jupyter.widget-view+json": {
       "model_id": "c66a633b5a8f40989482c8cf6fbff88a",
       "version_major": 2,
       "version_minor": 0
      },
      "text/plain": [
       "Uploaded:   0%|          | 0/4795687 [00:00<?, ?it/s]"
      ]
     },
     "metadata": {},
     "output_type": "display_data"
    },
    {
     "name": "stdout",
     "output_type": "stream",
     "text": [
      "2022-12-14 15:47:28,281-[INFO]- dropbox:390 -> Refreshing access token.\n",
      "2022-12-14 15:47:28,541-[INFO]- dropbox:474 -> Request to files/upload_session/start\n",
      "2022-12-14 15:47:30,021-[INFO]- dropbox:474 -> Request to files/upload_session/finish\n"
     ]
    },
    {
     "data": {
      "application/vnd.jupyter.widget-view+json": {
       "model_id": "ad6ee4155bcd4a7fae6aa8cbecfde3e7",
       "version_major": 2,
       "version_minor": 0
      },
      "text/plain": [
       "Uploaded:   0%|          | 0/4509881 [00:00<?, ?it/s]"
      ]
     },
     "metadata": {},
     "output_type": "display_data"
    },
    {
     "name": "stdout",
     "output_type": "stream",
     "text": [
      "2022-12-14 15:47:31,835-[INFO]- dropbox:390 -> Refreshing access token.\n",
      "2022-12-14 15:47:32,089-[INFO]- dropbox:474 -> Request to files/upload_session/start\n",
      "2022-12-14 15:47:33,177-[INFO]- dropbox:474 -> Request to files/upload_session/finish\n",
      "2022-12-14 15:47:34,832-[INFO]- dropbox:390 -> Refreshing access token.\n",
      "2022-12-14 15:47:35,069-[INFO]- dropbox:474 -> Request to files/upload\n"
     ]
    },
    {
     "data": {
      "application/vnd.jupyter.widget-view+json": {
       "model_id": "0a8fcefa1afc4e4ca5ab2fffa3ac3062",
       "version_major": 2,
       "version_minor": 0
      },
      "text/plain": [
       "Uploaded:   0%|          | 0/4791871 [00:00<?, ?it/s]"
      ]
     },
     "metadata": {},
     "output_type": "display_data"
    },
    {
     "name": "stdout",
     "output_type": "stream",
     "text": [
      "2022-12-14 15:47:36,634-[INFO]- dropbox:390 -> Refreshing access token.\n",
      "2022-12-14 15:47:36,876-[INFO]- dropbox:474 -> Request to files/upload_session/start\n",
      "2022-12-14 15:47:38,204-[INFO]- dropbox:474 -> Request to files/upload_session/finish\n"
     ]
    },
    {
     "data": {
      "application/vnd.jupyter.widget-view+json": {
       "model_id": "f80e69c6b8df42a7a2d842be2574ecf5",
       "version_major": 2,
       "version_minor": 0
      },
      "text/plain": [
       "Uploaded:   0%|          | 0/4507852 [00:00<?, ?it/s]"
      ]
     },
     "metadata": {},
     "output_type": "display_data"
    },
    {
     "name": "stdout",
     "output_type": "stream",
     "text": [
      "2022-12-14 15:47:40,105-[INFO]- dropbox:390 -> Refreshing access token.\n",
      "2022-12-14 15:47:40,342-[INFO]- dropbox:474 -> Request to files/upload_session/start\n",
      "2022-12-14 15:47:41,887-[INFO]- dropbox:474 -> Request to files/upload_session/finish\n",
      "2022-12-14 15:47:43,454-[INFO]- dropbox:390 -> Refreshing access token.\n",
      "2022-12-14 15:47:43,708-[INFO]- dropbox:474 -> Request to files/upload\n"
     ]
    },
    {
     "data": {
      "application/vnd.jupyter.widget-view+json": {
       "model_id": "660e2c237b0344e3b4ff2cabb013c545",
       "version_major": 2,
       "version_minor": 0
      },
      "text/plain": [
       "Uploaded:   0%|          | 0/4928668 [00:00<?, ?it/s]"
      ]
     },
     "metadata": {},
     "output_type": "display_data"
    },
    {
     "name": "stdout",
     "output_type": "stream",
     "text": [
      "2022-12-14 15:47:45,695-[INFO]- dropbox:390 -> Refreshing access token.\n",
      "2022-12-14 15:47:46,001-[INFO]- dropbox:474 -> Request to files/upload_session/start\n",
      "2022-12-14 15:47:47,519-[INFO]- dropbox:474 -> Request to files/upload_session/finish\n"
     ]
    },
    {
     "data": {
      "application/vnd.jupyter.widget-view+json": {
       "model_id": "629893874c8b47e6ae68976c99d872ff",
       "version_major": 2,
       "version_minor": 0
      },
      "text/plain": [
       "Uploaded:   0%|          | 0/4938173 [00:00<?, ?it/s]"
      ]
     },
     "metadata": {},
     "output_type": "display_data"
    },
    {
     "name": "stdout",
     "output_type": "stream",
     "text": [
      "2022-12-14 15:47:49,036-[INFO]- dropbox:390 -> Refreshing access token.\n",
      "2022-12-14 15:47:49,286-[INFO]- dropbox:474 -> Request to files/upload_session/start\n",
      "2022-12-14 15:47:50,855-[INFO]- dropbox:474 -> Request to files/upload_session/finish\n",
      "2022-12-14 15:47:53,167-[INFO]- dropbox:390 -> Refreshing access token.\n",
      "2022-12-14 15:47:53,437-[INFO]- dropbox:474 -> Request to files/upload\n",
      "2022-12-14 15:47:55,641-[INFO]- dropbox:390 -> Refreshing access token.\n",
      "2022-12-14 15:47:55,916-[INFO]- dropbox:474 -> Request to files/upload\n"
     ]
    },
    {
     "data": {
      "application/vnd.jupyter.widget-view+json": {
       "model_id": "c9b302795cc44be9985e0c182afee572",
       "version_major": 2,
       "version_minor": 0
      },
      "text/plain": [
       "Uploaded:   0%|          | 0/4335245 [00:00<?, ?it/s]"
      ]
     },
     "metadata": {},
     "output_type": "display_data"
    },
    {
     "name": "stdout",
     "output_type": "stream",
     "text": [
      "2022-12-14 15:47:58,050-[INFO]- dropbox:390 -> Refreshing access token.\n",
      "2022-12-14 15:47:58,278-[INFO]- dropbox:474 -> Request to files/upload_session/start\n",
      "2022-12-14 15:47:59,563-[INFO]- dropbox:474 -> Request to files/upload_session/finish\n",
      "2022-12-14 15:48:01,813-[INFO]- dropbox:390 -> Refreshing access token.\n",
      "2022-12-14 15:48:02,204-[INFO]- dropbox:474 -> Request to files/upload\n"
     ]
    },
    {
     "data": {
      "application/vnd.jupyter.widget-view+json": {
       "model_id": "050d3283f3a343168973bc231362db2c",
       "version_major": 2,
       "version_minor": 0
      },
      "text/plain": [
       "Uploaded:   0%|          | 0/4978037 [00:00<?, ?it/s]"
      ]
     },
     "metadata": {},
     "output_type": "display_data"
    },
    {
     "name": "stdout",
     "output_type": "stream",
     "text": [
      "2022-12-14 15:48:04,536-[INFO]- dropbox:390 -> Refreshing access token.\n",
      "2022-12-14 15:48:04,804-[INFO]- dropbox:474 -> Request to files/upload_session/start\n",
      "2022-12-14 15:48:05,776-[INFO]- dropbox:474 -> Request to files/upload_session/finish\n",
      "2022-12-14 15:48:08,521-[INFO]- dropbox:390 -> Refreshing access token.\n",
      "2022-12-14 15:48:08,784-[INFO]- dropbox:474 -> Request to files/upload\n"
     ]
    },
    {
     "data": {
      "application/vnd.jupyter.widget-view+json": {
       "model_id": "128da3d23bb44deb962bf48926610ee4",
       "version_major": 2,
       "version_minor": 0
      },
      "text/plain": [
       "Uploaded:   0%|          | 0/4975886 [00:00<?, ?it/s]"
      ]
     },
     "metadata": {},
     "output_type": "display_data"
    },
    {
     "name": "stdout",
     "output_type": "stream",
     "text": [
      "2022-12-14 15:48:10,944-[INFO]- dropbox:390 -> Refreshing access token.\n",
      "2022-12-14 15:48:11,182-[INFO]- dropbox:474 -> Request to files/upload_session/start\n",
      "2022-12-14 15:48:12,216-[INFO]- dropbox:474 -> Request to files/upload_session/finish\n",
      "2022-12-14 15:48:13,930-[INFO]- dropbox:390 -> Refreshing access token.\n",
      "2022-12-14 15:48:14,161-[INFO]- dropbox:474 -> Request to files/upload\n",
      "DATA/PRINCE\n",
      "2022-12-14 15:48:15,893-[INFO]- dropbox:390 -> Refreshing access token.\n",
      "2022-12-14 15:48:16,139-[INFO]- dropbox:474 -> Request to files/upload\n",
      "2022-12-14 15:48:18,454-[INFO]- dropbox:390 -> Refreshing access token.\n",
      "2022-12-14 15:48:18,709-[INFO]- dropbox:474 -> Request to files/upload\n",
      "2022-12-14 15:48:19,899-[INFO]- dropbox:390 -> Refreshing access token.\n",
      "2022-12-14 15:48:20,183-[INFO]- dropbox:474 -> Request to files/upload\n"
     ]
    },
    {
     "data": {
      "application/vnd.jupyter.widget-view+json": {
       "model_id": "20a1548a733e4c87bf4994962a42858c",
       "version_major": 2,
       "version_minor": 0
      },
      "text/plain": [
       "Uploaded:   0%|          | 0/131424185 [00:00<?, ?it/s]"
      ]
     },
     "metadata": {},
     "output_type": "display_data"
    },
    {
     "name": "stdout",
     "output_type": "stream",
     "text": [
      "2022-12-14 15:48:21,782-[INFO]- dropbox:390 -> Refreshing access token.\n",
      "2022-12-14 15:48:22,022-[INFO]- dropbox:474 -> Request to files/upload_session/start\n",
      "2022-12-14 15:48:22,932-[INFO]- dropbox:474 -> Request to files/upload_session/append\n",
      "2022-12-14 15:48:24,098-[INFO]- dropbox:474 -> Request to files/upload_session/append\n",
      "2022-12-14 15:48:25,119-[INFO]- dropbox:474 -> Request to files/upload_session/append\n",
      "2022-12-14 15:48:26,268-[INFO]- dropbox:474 -> Request to files/upload_session/append\n",
      "2022-12-14 15:48:27,209-[INFO]- dropbox:474 -> Request to files/upload_session/append\n",
      "2022-12-14 15:48:28,785-[INFO]- dropbox:474 -> Request to files/upload_session/append\n",
      "2022-12-14 15:48:30,583-[INFO]- dropbox:474 -> Request to files/upload_session/append\n",
      "2022-12-14 15:48:32,277-[INFO]- dropbox:474 -> Request to files/upload_session/append\n",
      "2022-12-14 15:48:33,642-[INFO]- dropbox:474 -> Request to files/upload_session/append\n",
      "2022-12-14 15:48:35,026-[INFO]- dropbox:474 -> Request to files/upload_session/append\n",
      "2022-12-14 15:48:36,276-[INFO]- dropbox:474 -> Request to files/upload_session/append\n",
      "2022-12-14 15:48:37,542-[INFO]- dropbox:474 -> Request to files/upload_session/append\n",
      "2022-12-14 15:48:38,600-[INFO]- dropbox:474 -> Request to files/upload_session/append\n",
      "2022-12-14 15:48:39,650-[INFO]- dropbox:474 -> Request to files/upload_session/append\n",
      "2022-12-14 15:48:41,140-[INFO]- dropbox:474 -> Request to files/upload_session/append\n",
      "2022-12-14 15:48:42,926-[INFO]- dropbox:474 -> Request to files/upload_session/append\n",
      "2022-12-14 15:48:45,131-[INFO]- dropbox:474 -> Request to files/upload_session/append\n",
      "2022-12-14 15:48:46,403-[INFO]- dropbox:474 -> Request to files/upload_session/append\n",
      "2022-12-14 15:48:47,657-[INFO]- dropbox:474 -> Request to files/upload_session/append\n",
      "2022-12-14 15:48:48,941-[INFO]- dropbox:474 -> Request to files/upload_session/append\n",
      "2022-12-14 15:48:50,195-[INFO]- dropbox:474 -> Request to files/upload_session/append\n",
      "2022-12-14 15:48:51,672-[INFO]- dropbox:474 -> Request to files/upload_session/append\n",
      "2022-12-14 15:48:52,679-[INFO]- dropbox:474 -> Request to files/upload_session/append\n",
      "2022-12-14 15:48:53,886-[INFO]- dropbox:474 -> Request to files/upload_session/append\n",
      "2022-12-14 15:48:55,613-[INFO]- dropbox:474 -> Request to files/upload_session/append\n",
      "2022-12-14 15:48:56,645-[INFO]- dropbox:474 -> Request to files/upload_session/append\n",
      "2022-12-14 15:48:57,578-[INFO]- dropbox:474 -> Request to files/upload_session/append\n",
      "2022-12-14 15:48:58,732-[INFO]- dropbox:474 -> Request to files/upload_session/append\n",
      "2022-12-14 15:49:00,011-[INFO]- dropbox:474 -> Request to files/upload_session/append\n",
      "2022-12-14 15:49:01,019-[INFO]- dropbox:474 -> Request to files/upload_session/append\n",
      "2022-12-14 15:49:02,151-[INFO]- dropbox:474 -> Request to files/upload_session/finish\n",
      "2022-12-14 15:49:03,551-[INFO]- dropbox:390 -> Refreshing access token.\n",
      "2022-12-14 15:49:03,833-[INFO]- dropbox:474 -> Request to files/upload\n"
     ]
    },
    {
     "data": {
      "application/vnd.jupyter.widget-view+json": {
       "model_id": "979dc9fad1c14dcf9b1a21b9c96a4e55",
       "version_major": 2,
       "version_minor": 0
      },
      "text/plain": [
       "Uploaded:   0%|          | 0/14184700 [00:00<?, ?it/s]"
      ]
     },
     "metadata": {},
     "output_type": "display_data"
    },
    {
     "name": "stdout",
     "output_type": "stream",
     "text": [
      "2022-12-14 15:49:05,147-[INFO]- dropbox:390 -> Refreshing access token.\n",
      "2022-12-14 15:49:05,522-[INFO]- dropbox:474 -> Request to files/upload_session/start\n",
      "2022-12-14 15:49:06,870-[INFO]- dropbox:474 -> Request to files/upload_session/append\n",
      "2022-12-14 15:49:08,265-[INFO]- dropbox:474 -> Request to files/upload_session/append\n",
      "2022-12-14 15:49:09,659-[INFO]- dropbox:474 -> Request to files/upload_session/finish\n",
      "2022-12-14 15:49:11,073-[INFO]- dropbox:390 -> Refreshing access token.\n",
      "2022-12-14 15:49:11,310-[INFO]- dropbox:474 -> Request to files/upload\n",
      "2022-12-14 15:49:13,277-[INFO]- dropbox:390 -> Refreshing access token.\n",
      "2022-12-14 15:49:13,529-[INFO]- dropbox:474 -> Request to files/upload\n",
      "2022-12-14 15:49:15,093-[INFO]- dropbox:390 -> Refreshing access token.\n",
      "2022-12-14 15:49:15,385-[INFO]- dropbox:474 -> Request to files/upload\n",
      "2022-12-14 15:49:17,121-[INFO]- dropbox:390 -> Refreshing access token.\n",
      "2022-12-14 15:49:17,385-[INFO]- dropbox:474 -> Request to files/upload\n",
      "2022-12-14 15:49:18,727-[INFO]- dropbox:390 -> Refreshing access token.\n",
      "2022-12-14 15:49:18,962-[INFO]- dropbox:474 -> Request to files/upload\n",
      "2022-12-14 15:49:20,312-[INFO]- dropbox:390 -> Refreshing access token.\n",
      "2022-12-14 15:49:20,541-[INFO]- dropbox:474 -> Request to files/upload\n",
      "2022-12-14 15:49:22,662-[INFO]- dropbox:390 -> Refreshing access token.\n",
      "2022-12-14 15:49:22,912-[INFO]- dropbox:474 -> Request to files/upload\n",
      "2022-12-14 15:49:24,615-[INFO]- dropbox:390 -> Refreshing access token.\n",
      "2022-12-14 15:49:24,847-[INFO]- dropbox:474 -> Request to files/upload\n",
      "2022-12-14 15:49:26,565-[INFO]- dropbox:390 -> Refreshing access token.\n",
      "2022-12-14 15:49:26,827-[INFO]- dropbox:474 -> Request to files/upload\n",
      "2022-12-14 15:49:28,162-[INFO]- dropbox:390 -> Refreshing access token.\n",
      "2022-12-14 15:49:28,444-[INFO]- dropbox:474 -> Request to files/upload\n",
      "2022-12-14 15:49:30,555-[INFO]- dropbox:390 -> Refreshing access token.\n",
      "2022-12-14 15:49:30,795-[INFO]- dropbox:474 -> Request to files/upload\n",
      "2022-12-14 15:49:33,112-[INFO]- dropbox:390 -> Refreshing access token.\n",
      "2022-12-14 15:49:33,341-[INFO]- dropbox:474 -> Request to files/upload\n"
     ]
    },
    {
     "data": {
      "application/vnd.jupyter.widget-view+json": {
       "model_id": "687b8085cbb845799425524d52e626ff",
       "version_major": 2,
       "version_minor": 0
      },
      "text/plain": [
       "Uploaded:   0%|          | 0/4386965 [00:00<?, ?it/s]"
      ]
     },
     "metadata": {},
     "output_type": "display_data"
    },
    {
     "name": "stdout",
     "output_type": "stream",
     "text": [
      "2022-12-14 15:49:35,236-[INFO]- dropbox:390 -> Refreshing access token.\n",
      "2022-12-14 15:49:35,482-[INFO]- dropbox:474 -> Request to files/upload_session/start\n",
      "2022-12-14 15:49:36,439-[INFO]- dropbox:474 -> Request to files/upload_session/finish\n",
      "2022-12-14 15:49:37,956-[INFO]- dropbox:390 -> Refreshing access token.\n",
      "2022-12-14 15:49:38,177-[INFO]- dropbox:474 -> Request to files/upload\n"
     ]
    },
    {
     "data": {
      "application/vnd.jupyter.widget-view+json": {
       "model_id": "2548e059114d464fa76a98f5366ab067",
       "version_major": 2,
       "version_minor": 0
      },
      "text/plain": [
       "Uploaded:   0%|          | 0/4297842 [00:00<?, ?it/s]"
      ]
     },
     "metadata": {},
     "output_type": "display_data"
    },
    {
     "name": "stdout",
     "output_type": "stream",
     "text": [
      "2022-12-14 15:49:39,489-[INFO]- dropbox:390 -> Refreshing access token.\n",
      "2022-12-14 15:49:39,797-[INFO]- dropbox:474 -> Request to files/upload_session/start\n",
      "2022-12-14 15:49:41,108-[INFO]- dropbox:474 -> Request to files/upload_session/finish\n",
      "2022-12-14 15:49:42,514-[INFO]- dropbox:390 -> Refreshing access token.\n",
      "2022-12-14 15:49:42,767-[INFO]- dropbox:474 -> Request to files/upload\n",
      "2022-12-14 15:49:44,726-[INFO]- dropbox:390 -> Refreshing access token.\n",
      "2022-12-14 15:49:44,995-[INFO]- dropbox:474 -> Request to files/upload\n",
      "2022-12-14 15:49:47,573-[INFO]- dropbox:390 -> Refreshing access token.\n",
      "2022-12-14 15:49:47,828-[INFO]- dropbox:474 -> Request to files/upload\n",
      "2022-12-14 15:49:49,618-[INFO]- dropbox:390 -> Refreshing access token.\n",
      "2022-12-14 15:49:49,883-[INFO]- dropbox:474 -> Request to files/upload\n",
      "2022-12-14 15:49:52,029-[INFO]- dropbox:390 -> Refreshing access token.\n",
      "2022-12-14 15:49:52,267-[INFO]- dropbox:474 -> Request to files/upload\n",
      "2022-12-14 15:49:53,722-[INFO]- dropbox:390 -> Refreshing access token.\n",
      "2022-12-14 15:49:53,947-[INFO]- dropbox:474 -> Request to files/upload\n",
      "2022-12-14 15:49:55,756-[INFO]- dropbox:390 -> Refreshing access token.\n",
      "2022-12-14 15:49:56,016-[INFO]- dropbox:474 -> Request to files/upload\n"
     ]
    },
    {
     "data": {
      "application/vnd.jupyter.widget-view+json": {
       "model_id": "3a64e66dc1e843ea9cd69798d3a2d483",
       "version_major": 2,
       "version_minor": 0
      },
      "text/plain": [
       "Uploaded:   0%|          | 0/4457799 [00:00<?, ?it/s]"
      ]
     },
     "metadata": {},
     "output_type": "display_data"
    },
    {
     "name": "stdout",
     "output_type": "stream",
     "text": [
      "2022-12-14 15:49:57,648-[INFO]- dropbox:390 -> Refreshing access token.\n",
      "2022-12-14 15:49:57,886-[INFO]- dropbox:474 -> Request to files/upload_session/start\n",
      "2022-12-14 15:49:58,829-[INFO]- dropbox:474 -> Request to files/upload_session/finish\n"
     ]
    },
    {
     "data": {
      "application/vnd.jupyter.widget-view+json": {
       "model_id": "773d7e58faef4d579fe4a8f97504ed67",
       "version_major": 2,
       "version_minor": 0
      },
      "text/plain": [
       "Uploaded:   0%|          | 0/4324328 [00:00<?, ?it/s]"
      ]
     },
     "metadata": {},
     "output_type": "display_data"
    },
    {
     "name": "stdout",
     "output_type": "stream",
     "text": [
      "2022-12-14 15:50:00,874-[INFO]- dropbox:390 -> Refreshing access token.\n",
      "2022-12-14 15:50:01,123-[INFO]- dropbox:474 -> Request to files/upload_session/start\n",
      "2022-12-14 15:50:02,430-[INFO]- dropbox:474 -> Request to files/upload_session/finish\n",
      "2022-12-14 15:50:04,194-[INFO]- dropbox:390 -> Refreshing access token.\n",
      "2022-12-14 15:50:04,444-[INFO]- dropbox:474 -> Request to files/upload\n",
      "2022-12-14 15:50:06,151-[INFO]- dropbox:390 -> Refreshing access token.\n",
      "2022-12-14 15:50:06,402-[INFO]- dropbox:474 -> Request to files/upload\n"
     ]
    },
    {
     "data": {
      "application/vnd.jupyter.widget-view+json": {
       "model_id": "c6cf0b80b5544ae89f1e60594b631037",
       "version_major": 2,
       "version_minor": 0
      },
      "text/plain": [
       "Uploaded:   0%|          | 0/5286829 [00:00<?, ?it/s]"
      ]
     },
     "metadata": {},
     "output_type": "display_data"
    },
    {
     "name": "stdout",
     "output_type": "stream",
     "text": [
      "2022-12-14 15:50:08,476-[INFO]- dropbox:390 -> Refreshing access token.\n",
      "2022-12-14 15:50:08,886-[INFO]- dropbox:474 -> Request to files/upload_session/start\n",
      "2022-12-14 15:50:09,957-[INFO]- dropbox:474 -> Request to files/upload_session/finish\n",
      "2022-12-14 15:50:12,308-[INFO]- dropbox:390 -> Refreshing access token.\n",
      "2022-12-14 15:50:12,610-[INFO]- dropbox:474 -> Request to files/upload\n",
      "2022-12-14 15:50:14,090-[INFO]- dropbox:390 -> Refreshing access token.\n",
      "2022-12-14 15:50:14,455-[INFO]- dropbox:474 -> Request to files/upload\n"
     ]
    },
    {
     "data": {
      "application/vnd.jupyter.widget-view+json": {
       "model_id": "6cbf219339ba4fde8fee5e36ce5e3022",
       "version_major": 2,
       "version_minor": 0
      },
      "text/plain": [
       "Uploaded:   0%|          | 0/4740398 [00:00<?, ?it/s]"
      ]
     },
     "metadata": {},
     "output_type": "display_data"
    },
    {
     "name": "stdout",
     "output_type": "stream",
     "text": [
      "2022-12-14 15:50:15,869-[INFO]- dropbox:390 -> Refreshing access token.\n",
      "2022-12-14 15:50:16,123-[INFO]- dropbox:474 -> Request to files/upload_session/start\n",
      "2022-12-14 15:50:17,220-[INFO]- dropbox:474 -> Request to files/upload_session/finish\n",
      "2022-12-14 15:50:19,169-[INFO]- dropbox:390 -> Refreshing access token.\n",
      "2022-12-14 15:50:19,439-[INFO]- dropbox:474 -> Request to files/upload\n",
      "2022-12-14 15:50:21,202-[INFO]- dropbox:390 -> Refreshing access token.\n",
      "2022-12-14 15:50:21,536-[INFO]- dropbox:474 -> Request to files/upload\n",
      "2022-12-14 15:50:23,775-[INFO]- dropbox:390 -> Refreshing access token.\n",
      "2022-12-14 15:50:24,052-[INFO]- dropbox:474 -> Request to files/upload\n",
      "2022-12-14 15:50:25,335-[INFO]- dropbox:390 -> Refreshing access token.\n",
      "2022-12-14 15:50:25,661-[INFO]- dropbox:474 -> Request to files/upload\n"
     ]
    },
    {
     "data": {
      "application/vnd.jupyter.widget-view+json": {
       "model_id": "de2ffea60f11454ba8442b90ffb783c2",
       "version_major": 2,
       "version_minor": 0
      },
      "text/plain": [
       "Uploaded:   0%|          | 0/4845730 [00:00<?, ?it/s]"
      ]
     },
     "metadata": {},
     "output_type": "display_data"
    },
    {
     "name": "stdout",
     "output_type": "stream",
     "text": [
      "2022-12-14 15:50:27,627-[INFO]- dropbox:390 -> Refreshing access token.\n",
      "2022-12-14 15:50:27,880-[INFO]- dropbox:474 -> Request to files/upload_session/start\n",
      "2022-12-14 15:50:28,855-[INFO]- dropbox:474 -> Request to files/upload_session/finish\n",
      "2022-12-14 15:50:30,756-[INFO]- dropbox:390 -> Refreshing access token.\n",
      "2022-12-14 15:50:31,066-[INFO]- dropbox:474 -> Request to files/upload\n",
      "2022-12-14 15:50:32,645-[INFO]- dropbox:390 -> Refreshing access token.\n",
      "2022-12-14 15:50:32,888-[INFO]- dropbox:474 -> Request to files/upload\n",
      "2022-12-14 15:50:35,429-[INFO]- dropbox:390 -> Refreshing access token.\n",
      "2022-12-14 15:50:35,752-[INFO]- dropbox:474 -> Request to files/upload\n",
      "2022-12-14 15:50:37,611-[INFO]- dropbox:390 -> Refreshing access token.\n",
      "2022-12-14 15:50:37,971-[INFO]- dropbox:474 -> Request to files/upload\n",
      "2022-12-14 15:50:39,936-[INFO]- dropbox:390 -> Refreshing access token.\n",
      "2022-12-14 15:50:40,216-[INFO]- dropbox:474 -> Request to files/upload\n",
      "2022-12-14 15:50:42,017-[INFO]- dropbox:390 -> Refreshing access token.\n",
      "2022-12-14 15:50:42,288-[INFO]- dropbox:474 -> Request to files/upload\n"
     ]
    },
    {
     "data": {
      "application/vnd.jupyter.widget-view+json": {
       "model_id": "eeaee292390643ab95dd874827fe2fff",
       "version_major": 2,
       "version_minor": 0
      },
      "text/plain": [
       "Uploaded:   0%|          | 0/4425372 [00:00<?, ?it/s]"
      ]
     },
     "metadata": {},
     "output_type": "display_data"
    },
    {
     "name": "stdout",
     "output_type": "stream",
     "text": [
      "2022-12-14 15:50:43,956-[INFO]- dropbox:390 -> Refreshing access token.\n",
      "2022-12-14 15:50:44,306-[INFO]- dropbox:474 -> Request to files/upload_session/start\n",
      "2022-12-14 15:50:45,466-[INFO]- dropbox:474 -> Request to files/upload_session/finish\n"
     ]
    },
    {
     "data": {
      "application/vnd.jupyter.widget-view+json": {
       "model_id": "d6388b9c88a64df7b5537620540ec34a",
       "version_major": 2,
       "version_minor": 0
      },
      "text/plain": [
       "Uploaded:   0%|          | 0/4654026 [00:00<?, ?it/s]"
      ]
     },
     "metadata": {},
     "output_type": "display_data"
    },
    {
     "name": "stdout",
     "output_type": "stream",
     "text": [
      "2022-12-14 15:50:47,100-[INFO]- dropbox:390 -> Refreshing access token.\n",
      "2022-12-14 15:50:47,340-[INFO]- dropbox:474 -> Request to files/upload_session/start\n",
      "2022-12-14 15:50:54,601-[INFO]- dropbox:474 -> Request to files/upload_session/finish\n",
      "2022-12-14 15:50:56,396-[INFO]- dropbox:390 -> Refreshing access token.\n",
      "2022-12-14 15:50:56,648-[INFO]- dropbox:474 -> Request to files/upload\n"
     ]
    },
    {
     "data": {
      "application/vnd.jupyter.widget-view+json": {
       "model_id": "4b44d94c9bc64f5eadb6a42c21fe6b93",
       "version_major": 2,
       "version_minor": 0
      },
      "text/plain": [
       "Uploaded:   0%|          | 0/4198687 [00:00<?, ?it/s]"
      ]
     },
     "metadata": {},
     "output_type": "display_data"
    },
    {
     "name": "stdout",
     "output_type": "stream",
     "text": [
      "2022-12-14 15:50:58,448-[INFO]- dropbox:390 -> Refreshing access token.\n",
      "2022-12-14 15:50:58,676-[INFO]- dropbox:474 -> Request to files/upload_session/start\n",
      "2022-12-14 15:50:59,873-[INFO]- dropbox:474 -> Request to files/upload_session/finish\n",
      "2022-12-14 15:51:01,361-[INFO]- dropbox:390 -> Refreshing access token.\n",
      "2022-12-14 15:51:01,612-[INFO]- dropbox:474 -> Request to files/upload\n",
      "2022-12-14 15:51:03,269-[INFO]- dropbox:390 -> Refreshing access token.\n",
      "2022-12-14 15:51:03,524-[INFO]- dropbox:474 -> Request to files/upload\n",
      "2022-12-14 15:51:04,986-[INFO]- dropbox:390 -> Refreshing access token.\n",
      "2022-12-14 15:51:05,287-[INFO]- dropbox:474 -> Request to files/upload\n",
      "2022-12-14 15:51:07,054-[INFO]- dropbox:390 -> Refreshing access token.\n",
      "2022-12-14 15:51:07,343-[INFO]- dropbox:474 -> Request to files/upload\n"
     ]
    },
    {
     "data": {
      "application/vnd.jupyter.widget-view+json": {
       "model_id": "af48e9eba385494fa8a4d26f626e2cd0",
       "version_major": 2,
       "version_minor": 0
      },
      "text/plain": [
       "Uploaded:   0%|          | 0/4724484 [00:00<?, ?it/s]"
      ]
     },
     "metadata": {},
     "output_type": "display_data"
    },
    {
     "name": "stdout",
     "output_type": "stream",
     "text": [
      "2022-12-14 15:51:09,296-[INFO]- dropbox:390 -> Refreshing access token.\n",
      "2022-12-14 15:51:09,538-[INFO]- dropbox:474 -> Request to files/upload_session/start\n",
      "2022-12-14 15:51:10,880-[INFO]- dropbox:474 -> Request to files/upload_session/finish\n",
      "2022-12-14 15:51:12,582-[INFO]- dropbox:390 -> Refreshing access token.\n",
      "2022-12-14 15:51:12,901-[INFO]- dropbox:474 -> Request to files/upload\n"
     ]
    },
    {
     "data": {
      "application/vnd.jupyter.widget-view+json": {
       "model_id": "8f2f473e24e948cba55053b973c4617b",
       "version_major": 2,
       "version_minor": 0
      },
      "text/plain": [
       "Uploaded:   0%|          | 0/4404628 [00:00<?, ?it/s]"
      ]
     },
     "metadata": {},
     "output_type": "display_data"
    },
    {
     "name": "stdout",
     "output_type": "stream",
     "text": [
      "2022-12-14 15:51:14,376-[INFO]- dropbox:390 -> Refreshing access token.\n",
      "2022-12-14 15:51:14,601-[INFO]- dropbox:474 -> Request to files/upload_session/start\n",
      "2022-12-14 15:51:15,923-[INFO]- dropbox:474 -> Request to files/upload_session/finish\n",
      "2022-12-14 15:51:17,569-[INFO]- dropbox:390 -> Refreshing access token.\n",
      "2022-12-14 15:51:17,835-[INFO]- dropbox:474 -> Request to files/upload\n",
      "2022-12-14 15:51:19,488-[INFO]- dropbox:390 -> Refreshing access token.\n",
      "2022-12-14 15:51:19,719-[INFO]- dropbox:474 -> Request to files/upload\n",
      "2022-12-14 15:51:21,869-[INFO]- dropbox:390 -> Refreshing access token.\n",
      "2022-12-14 15:51:22,109-[INFO]- dropbox:474 -> Request to files/upload\n",
      "2022-12-14 15:51:23,872-[INFO]- dropbox:390 -> Refreshing access token.\n",
      "2022-12-14 15:51:24,103-[INFO]- dropbox:474 -> Request to files/upload\n",
      "2022-12-14 15:51:26,169-[INFO]- dropbox:390 -> Refreshing access token.\n",
      "2022-12-14 15:51:26,433-[INFO]- dropbox:474 -> Request to files/upload\n",
      "2022-12-14 15:51:28,402-[INFO]- dropbox:390 -> Refreshing access token.\n",
      "2022-12-14 15:51:28,706-[INFO]- dropbox:474 -> Request to files/upload\n",
      "2022-12-14 15:51:30,243-[INFO]- dropbox:390 -> Refreshing access token.\n",
      "2022-12-14 15:51:30,472-[INFO]- dropbox:474 -> Request to files/upload\n",
      "2022-12-14 15:51:32,577-[INFO]- dropbox:390 -> Refreshing access token.\n",
      "2022-12-14 15:51:32,831-[INFO]- dropbox:474 -> Request to files/upload\n"
     ]
    },
    {
     "data": {
      "application/vnd.jupyter.widget-view+json": {
       "model_id": "59e7831234b84e95a55c254cc02dd34a",
       "version_major": 2,
       "version_minor": 0
      },
      "text/plain": [
       "Uploaded:   0%|          | 0/4640666 [00:00<?, ?it/s]"
      ]
     },
     "metadata": {},
     "output_type": "display_data"
    },
    {
     "name": "stdout",
     "output_type": "stream",
     "text": [
      "2022-12-14 15:51:34,459-[INFO]- dropbox:390 -> Refreshing access token.\n",
      "2022-12-14 15:51:34,696-[INFO]- dropbox:474 -> Request to files/upload_session/start\n",
      "2022-12-14 15:51:36,344-[INFO]- dropbox:474 -> Request to files/upload_session/finish\n"
     ]
    },
    {
     "data": {
      "application/vnd.jupyter.widget-view+json": {
       "model_id": "6f8e4f4b49e44db1a9667a1efa85e120",
       "version_major": 2,
       "version_minor": 0
      },
      "text/plain": [
       "Uploaded:   0%|          | 0/4195286 [00:00<?, ?it/s]"
      ]
     },
     "metadata": {},
     "output_type": "display_data"
    },
    {
     "name": "stdout",
     "output_type": "stream",
     "text": [
      "2022-12-14 15:51:38,255-[INFO]- dropbox:390 -> Refreshing access token.\n",
      "2022-12-14 15:51:38,518-[INFO]- dropbox:474 -> Request to files/upload_session/start\n",
      "2022-12-14 15:51:39,521-[INFO]- dropbox:474 -> Request to files/upload_session/finish\n"
     ]
    },
    {
     "data": {
      "application/vnd.jupyter.widget-view+json": {
       "model_id": "13e1d21538f04d21b8a84608a6181b60",
       "version_major": 2,
       "version_minor": 0
      },
      "text/plain": [
       "Uploaded:   0%|          | 0/4785134 [00:00<?, ?it/s]"
      ]
     },
     "metadata": {},
     "output_type": "display_data"
    },
    {
     "name": "stdout",
     "output_type": "stream",
     "text": [
      "2022-12-14 15:51:41,483-[INFO]- dropbox:390 -> Refreshing access token.\n",
      "2022-12-14 15:51:41,792-[INFO]- dropbox:474 -> Request to files/upload_session/start\n",
      "2022-12-14 15:51:43,529-[INFO]- dropbox:474 -> Request to files/upload_session/finish\n",
      "2022-12-14 15:51:45,581-[INFO]- dropbox:390 -> Refreshing access token.\n",
      "2022-12-14 15:51:45,835-[INFO]- dropbox:474 -> Request to files/upload\n"
     ]
    },
    {
     "data": {
      "application/vnd.jupyter.widget-view+json": {
       "model_id": "62463316fe5e459daee94c3af37f0744",
       "version_major": 2,
       "version_minor": 0
      },
      "text/plain": [
       "Uploaded:   0%|          | 0/4736540 [00:00<?, ?it/s]"
      ]
     },
     "metadata": {},
     "output_type": "display_data"
    },
    {
     "name": "stdout",
     "output_type": "stream",
     "text": [
      "2022-12-14 15:51:47,273-[INFO]- dropbox:390 -> Refreshing access token.\n",
      "2022-12-14 15:51:47,580-[INFO]- dropbox:474 -> Request to files/upload_session/start\n",
      "2022-12-14 15:51:48,445-[INFO]- dropbox:474 -> Request to files/upload_session/finish\n",
      "2022-12-14 15:51:50,078-[INFO]- dropbox:390 -> Refreshing access token.\n",
      "2022-12-14 15:51:50,333-[INFO]- dropbox:474 -> Request to files/upload\n",
      "2022-12-14 15:51:51,692-[INFO]- dropbox:390 -> Refreshing access token.\n",
      "2022-12-14 15:51:51,918-[INFO]- dropbox:474 -> Request to files/upload\n",
      "2022-12-14 15:51:54,066-[INFO]- dropbox:390 -> Refreshing access token.\n",
      "2022-12-14 15:51:54,306-[INFO]- dropbox:474 -> Request to files/upload\n",
      "2022-12-14 15:51:56,610-[INFO]- dropbox:390 -> Refreshing access token.\n",
      "2022-12-14 15:51:56,849-[INFO]- dropbox:474 -> Request to files/upload\n",
      "2022-12-14 15:51:58,453-[INFO]- dropbox:390 -> Refreshing access token.\n",
      "2022-12-14 15:51:58,686-[INFO]- dropbox:474 -> Request to files/upload\n"
     ]
    },
    {
     "data": {
      "application/vnd.jupyter.widget-view+json": {
       "model_id": "6cd6ea6d0bca4b8782599bc5a5116442",
       "version_major": 2,
       "version_minor": 0
      },
      "text/plain": [
       "Uploaded:   0%|          | 0/5383555 [00:00<?, ?it/s]"
      ]
     },
     "metadata": {},
     "output_type": "display_data"
    },
    {
     "name": "stdout",
     "output_type": "stream",
     "text": [
      "2022-12-14 15:52:00,322-[INFO]- dropbox:390 -> Refreshing access token.\n",
      "2022-12-14 15:52:00,617-[INFO]- dropbox:474 -> Request to files/upload_session/start\n",
      "2022-12-14 15:52:02,274-[INFO]- dropbox:474 -> Request to files/upload_session/finish\n",
      "2022-12-14 15:52:03,805-[INFO]- dropbox:390 -> Refreshing access token.\n",
      "2022-12-14 15:52:04,043-[INFO]- dropbox:474 -> Request to files/upload\n",
      "2022-12-14 15:52:05,961-[INFO]- dropbox:390 -> Refreshing access token.\n",
      "2022-12-14 15:52:06,205-[INFO]- dropbox:474 -> Request to files/upload\n"
     ]
    },
    {
     "data": {
      "application/vnd.jupyter.widget-view+json": {
       "model_id": "e28a8350f67748d0860718063d32f4f6",
       "version_major": 2,
       "version_minor": 0
      },
      "text/plain": [
       "Uploaded:   0%|          | 0/4316169 [00:00<?, ?it/s]"
      ]
     },
     "metadata": {},
     "output_type": "display_data"
    },
    {
     "name": "stdout",
     "output_type": "stream",
     "text": [
      "2022-12-14 15:52:08,249-[INFO]- dropbox:390 -> Refreshing access token.\n",
      "2022-12-14 15:52:08,586-[INFO]- dropbox:474 -> Request to files/upload_session/start\n",
      "2022-12-14 15:52:09,814-[INFO]- dropbox:474 -> Request to files/upload_session/finish\n",
      "2022-12-14 15:52:11,455-[INFO]- dropbox:390 -> Refreshing access token.\n",
      "2022-12-14 15:52:11,684-[INFO]- dropbox:474 -> Request to files/upload\n",
      "2022-12-14 15:52:13,648-[INFO]- dropbox:390 -> Refreshing access token.\n",
      "2022-12-14 15:52:13,944-[INFO]- dropbox:474 -> Request to files/upload\n",
      "2022-12-14 15:52:15,875-[INFO]- dropbox:390 -> Refreshing access token.\n",
      "2022-12-14 15:52:16,120-[INFO]- dropbox:474 -> Request to files/upload\n",
      "2022-12-14 15:52:17,929-[INFO]- dropbox:390 -> Refreshing access token.\n",
      "2022-12-14 15:52:18,171-[INFO]- dropbox:474 -> Request to files/upload\n",
      "2022-12-14 15:52:19,972-[INFO]- dropbox:390 -> Refreshing access token.\n",
      "2022-12-14 15:52:20,268-[INFO]- dropbox:474 -> Request to files/upload\n"
     ]
    },
    {
     "data": {
      "application/vnd.jupyter.widget-view+json": {
       "model_id": "f3349911ceb14e99ac70f188bdfd4d6b",
       "version_major": 2,
       "version_minor": 0
      },
      "text/plain": [
       "Uploaded:   0%|          | 0/4956119 [00:00<?, ?it/s]"
      ]
     },
     "metadata": {},
     "output_type": "display_data"
    },
    {
     "name": "stdout",
     "output_type": "stream",
     "text": [
      "2022-12-14 15:52:22,261-[INFO]- dropbox:390 -> Refreshing access token.\n",
      "2022-12-14 15:52:23,754-[INFO]- dropbox:474 -> Request to files/upload_session/start\n",
      "2022-12-14 15:52:24,782-[INFO]- dropbox:474 -> Request to files/upload_session/finish\n",
      "2022-12-14 15:52:26,412-[INFO]- dropbox:390 -> Refreshing access token.\n",
      "2022-12-14 15:52:26,670-[INFO]- dropbox:474 -> Request to files/upload\n",
      "2022-12-14 15:52:28,090-[INFO]- dropbox:390 -> Refreshing access token.\n",
      "2022-12-14 15:52:28,333-[INFO]- dropbox:474 -> Request to files/upload\n",
      "2022-12-14 15:52:30,101-[INFO]- dropbox:390 -> Refreshing access token.\n",
      "2022-12-14 15:52:30,390-[INFO]- dropbox:474 -> Request to files/upload\n",
      "2022-12-14 15:52:32,144-[INFO]- dropbox:390 -> Refreshing access token.\n",
      "2022-12-14 15:52:32,380-[INFO]- dropbox:474 -> Request to files/upload\n"
     ]
    },
    {
     "data": {
      "application/vnd.jupyter.widget-view+json": {
       "model_id": "cdc66bc69cd34526bd35fb098a329400",
       "version_major": 2,
       "version_minor": 0
      },
      "text/plain": [
       "Uploaded:   0%|          | 0/5205121 [00:00<?, ?it/s]"
      ]
     },
     "metadata": {},
     "output_type": "display_data"
    },
    {
     "name": "stdout",
     "output_type": "stream",
     "text": [
      "2022-12-14 15:52:33,774-[INFO]- dropbox:390 -> Refreshing access token.\n",
      "2022-12-14 15:52:34,039-[INFO]- dropbox:474 -> Request to files/upload_session/start\n",
      "2022-12-14 15:52:36,187-[INFO]- dropbox:474 -> Request to files/upload_session/finish\n",
      "2022-12-14 15:52:38,043-[INFO]- dropbox:390 -> Refreshing access token.\n",
      "2022-12-14 15:52:38,352-[INFO]- dropbox:474 -> Request to files/upload\n"
     ]
    },
    {
     "data": {
      "application/vnd.jupyter.widget-view+json": {
       "model_id": "8c5e5d2ef2664fdb86f808f81d441ab5",
       "version_major": 2,
       "version_minor": 0
      },
      "text/plain": [
       "Uploaded:   0%|          | 0/4619864 [00:00<?, ?it/s]"
      ]
     },
     "metadata": {},
     "output_type": "display_data"
    },
    {
     "name": "stdout",
     "output_type": "stream",
     "text": [
      "2022-12-14 15:52:40,590-[INFO]- dropbox:390 -> Refreshing access token.\n",
      "2022-12-14 15:52:40,901-[INFO]- dropbox:474 -> Request to files/upload_session/start\n",
      "2022-12-14 15:52:42,268-[INFO]- dropbox:474 -> Request to files/upload_session/finish\n",
      "2022-12-14 15:52:44,239-[INFO]- dropbox:390 -> Refreshing access token.\n",
      "2022-12-14 15:52:44,489-[INFO]- dropbox:474 -> Request to files/upload\n",
      "2022-12-14 15:52:51,982-[INFO]- dropbox:390 -> Refreshing access token.\n",
      "2022-12-14 15:52:52,241-[INFO]- dropbox:474 -> Request to files/upload\n",
      "2022-12-14 15:52:54,373-[INFO]- dropbox:390 -> Refreshing access token.\n",
      "2022-12-14 15:52:54,617-[INFO]- dropbox:474 -> Request to files/upload\n",
      "2022-12-14 15:52:56,177-[INFO]- dropbox:390 -> Refreshing access token.\n",
      "2022-12-14 15:52:56,405-[INFO]- dropbox:474 -> Request to files/upload\n"
     ]
    },
    {
     "data": {
      "application/vnd.jupyter.widget-view+json": {
       "model_id": "0d91ae45e3b54d188ec696878b529e09",
       "version_major": 2,
       "version_minor": 0
      },
      "text/plain": [
       "Uploaded:   0%|          | 0/4288625 [00:00<?, ?it/s]"
      ]
     },
     "metadata": {},
     "output_type": "display_data"
    },
    {
     "name": "stdout",
     "output_type": "stream",
     "text": [
      "2022-12-14 15:52:58,356-[INFO]- dropbox:390 -> Refreshing access token.\n",
      "2022-12-14 15:52:58,596-[INFO]- dropbox:474 -> Request to files/upload_session/start\n",
      "2022-12-14 15:53:00,058-[INFO]- dropbox:474 -> Request to files/upload_session/finish\n",
      "2022-12-14 15:53:01,705-[INFO]- dropbox:390 -> Refreshing access token.\n",
      "2022-12-14 15:53:02,023-[INFO]- dropbox:474 -> Request to files/upload\n",
      "2022-12-14 15:53:03,916-[INFO]- dropbox:390 -> Refreshing access token.\n",
      "2022-12-14 15:53:04,149-[INFO]- dropbox:474 -> Request to files/upload\n"
     ]
    },
    {
     "data": {
      "application/vnd.jupyter.widget-view+json": {
       "model_id": "16def1d0f51d4f7e8668792816231875",
       "version_major": 2,
       "version_minor": 0
      },
      "text/plain": [
       "Uploaded:   0%|          | 0/4604652 [00:00<?, ?it/s]"
      ]
     },
     "metadata": {},
     "output_type": "display_data"
    },
    {
     "name": "stdout",
     "output_type": "stream",
     "text": [
      "2022-12-14 15:53:05,566-[INFO]- dropbox:390 -> Refreshing access token.\n",
      "2022-12-14 15:53:05,806-[INFO]- dropbox:474 -> Request to files/upload_session/start\n",
      "2022-12-14 15:53:07,083-[INFO]- dropbox:474 -> Request to files/upload_session/finish\n",
      "2022-12-14 15:53:08,840-[INFO]- dropbox:390 -> Refreshing access token.\n",
      "2022-12-14 15:53:09,091-[INFO]- dropbox:474 -> Request to files/upload\n",
      "2022-12-14 15:53:10,830-[INFO]- dropbox:390 -> Refreshing access token.\n",
      "2022-12-14 15:53:11,144-[INFO]- dropbox:474 -> Request to files/upload\n",
      "2022-12-14 15:53:12,938-[INFO]- dropbox:390 -> Refreshing access token.\n",
      "2022-12-14 15:53:13,451-[INFO]- dropbox:474 -> Request to files/upload\n",
      "2022-12-14 15:53:15,220-[INFO]- dropbox:390 -> Refreshing access token.\n",
      "2022-12-14 15:53:15,481-[INFO]- dropbox:474 -> Request to files/upload\n",
      "2022-12-14 15:53:17,000-[INFO]- dropbox:390 -> Refreshing access token.\n",
      "2022-12-14 15:53:17,240-[INFO]- dropbox:474 -> Request to files/upload\n",
      "2022-12-14 15:53:19,575-[INFO]- dropbox:390 -> Refreshing access token.\n",
      "2022-12-14 15:53:19,804-[INFO]- dropbox:474 -> Request to files/upload\n",
      "2022-12-14 15:53:21,460-[INFO]- dropbox:390 -> Refreshing access token.\n",
      "2022-12-14 15:53:21,684-[INFO]- dropbox:474 -> Request to files/upload\n",
      "2022-12-14 15:53:23,355-[INFO]- dropbox:390 -> Refreshing access token.\n",
      "2022-12-14 15:53:23,606-[INFO]- dropbox:474 -> Request to files/upload\n",
      "2022-12-14 15:53:25,406-[INFO]- dropbox:390 -> Refreshing access token.\n",
      "2022-12-14 15:53:25,698-[INFO]- dropbox:474 -> Request to files/upload\n"
     ]
    },
    {
     "data": {
      "application/vnd.jupyter.widget-view+json": {
       "model_id": "043de3e14b3646a385ba835f565ca2ac",
       "version_major": 2,
       "version_minor": 0
      },
      "text/plain": [
       "Uploaded:   0%|          | 0/4286709 [00:00<?, ?it/s]"
      ]
     },
     "metadata": {},
     "output_type": "display_data"
    },
    {
     "name": "stdout",
     "output_type": "stream",
     "text": [
      "2022-12-14 15:53:27,080-[INFO]- dropbox:390 -> Refreshing access token.\n",
      "2022-12-14 15:53:27,357-[INFO]- dropbox:474 -> Request to files/upload_session/start\n",
      "2022-12-14 15:53:28,704-[INFO]- dropbox:474 -> Request to files/upload_session/finish\n",
      "2022-12-14 15:53:30,727-[INFO]- dropbox:390 -> Refreshing access token.\n",
      "2022-12-14 15:53:30,974-[INFO]- dropbox:474 -> Request to files/upload\n"
     ]
    },
    {
     "data": {
      "application/vnd.jupyter.widget-view+json": {
       "model_id": "09374ad25edf4f628b243bb23b980778",
       "version_major": 2,
       "version_minor": 0
      },
      "text/plain": [
       "Uploaded:   0%|          | 0/4977711 [00:00<?, ?it/s]"
      ]
     },
     "metadata": {},
     "output_type": "display_data"
    },
    {
     "name": "stdout",
     "output_type": "stream",
     "text": [
      "2022-12-14 15:53:33,068-[INFO]- dropbox:390 -> Refreshing access token.\n",
      "2022-12-14 15:53:33,511-[INFO]- dropbox:474 -> Request to files/upload_session/start\n",
      "2022-12-14 15:53:34,399-[INFO]- dropbox:474 -> Request to files/upload_session/finish\n",
      "2022-12-14 15:53:35,868-[INFO]- dropbox:390 -> Refreshing access token.\n",
      "2022-12-14 15:53:36,124-[INFO]- dropbox:474 -> Request to files/upload\n",
      "2022-12-14 15:53:38,006-[INFO]- dropbox:390 -> Refreshing access token.\n",
      "2022-12-14 15:53:38,259-[INFO]- dropbox:474 -> Request to files/upload\n",
      "2022-12-14 15:53:40,024-[INFO]- dropbox:390 -> Refreshing access token.\n",
      "2022-12-14 15:53:40,396-[INFO]- dropbox:474 -> Request to files/upload\n"
     ]
    },
    {
     "data": {
      "application/vnd.jupyter.widget-view+json": {
       "model_id": "0f9435f2b2a04b89b93d2725d8b7e0af",
       "version_major": 2,
       "version_minor": 0
      },
      "text/plain": [
       "Uploaded:   0%|          | 0/5027524 [00:00<?, ?it/s]"
      ]
     },
     "metadata": {},
     "output_type": "display_data"
    },
    {
     "name": "stdout",
     "output_type": "stream",
     "text": [
      "2022-12-14 15:53:42,036-[INFO]- dropbox:390 -> Refreshing access token.\n",
      "2022-12-14 15:53:42,271-[INFO]- dropbox:474 -> Request to files/upload_session/start\n",
      "2022-12-14 15:53:43,506-[INFO]- dropbox:474 -> Request to files/upload_session/finish\n"
     ]
    },
    {
     "data": {
      "application/vnd.jupyter.widget-view+json": {
       "model_id": "ee6165131498429aa625298530b6ae64",
       "version_major": 2,
       "version_minor": 0
      },
      "text/plain": [
       "Uploaded:   0%|          | 0/4506520 [00:00<?, ?it/s]"
      ]
     },
     "metadata": {},
     "output_type": "display_data"
    },
    {
     "name": "stdout",
     "output_type": "stream",
     "text": [
      "2022-12-14 15:53:45,258-[INFO]- dropbox:390 -> Refreshing access token.\n",
      "2022-12-14 15:53:45,511-[INFO]- dropbox:474 -> Request to files/upload_session/start\n",
      "2022-12-14 15:53:46,672-[INFO]- dropbox:474 -> Request to files/upload_session/finish\n",
      "2022-12-14 15:53:49,655-[INFO]- dropbox:390 -> Refreshing access token.\n",
      "2022-12-14 15:53:49,881-[INFO]- dropbox:474 -> Request to files/upload\n",
      "2022-12-14 15:53:51,838-[INFO]- dropbox:390 -> Refreshing access token.\n",
      "2022-12-14 15:53:52,068-[INFO]- dropbox:474 -> Request to files/upload\n",
      "2022-12-14 15:53:53,512-[INFO]- dropbox:390 -> Refreshing access token.\n",
      "2022-12-14 15:53:53,738-[INFO]- dropbox:474 -> Request to files/upload\n",
      "2022-12-14 15:53:55,182-[INFO]- dropbox:390 -> Refreshing access token.\n",
      "2022-12-14 15:53:55,428-[INFO]- dropbox:474 -> Request to files/upload\n",
      "2022-12-14 15:53:57,522-[INFO]- dropbox:390 -> Refreshing access token.\n",
      "2022-12-14 15:53:57,770-[INFO]- dropbox:474 -> Request to files/upload\n",
      "2022-12-14 15:53:59,608-[INFO]- dropbox:390 -> Refreshing access token.\n",
      "2022-12-14 15:53:59,836-[INFO]- dropbox:474 -> Request to files/upload\n"
     ]
    },
    {
     "data": {
      "application/vnd.jupyter.widget-view+json": {
       "model_id": "4679a4d96107455c87f000f22179b437",
       "version_major": 2,
       "version_minor": 0
      },
      "text/plain": [
       "Uploaded:   0%|          | 0/4949538 [00:00<?, ?it/s]"
      ]
     },
     "metadata": {},
     "output_type": "display_data"
    },
    {
     "name": "stdout",
     "output_type": "stream",
     "text": [
      "2022-12-14 15:54:02,072-[INFO]- dropbox:390 -> Refreshing access token.\n",
      "2022-12-14 15:54:02,297-[INFO]- dropbox:474 -> Request to files/upload_session/start\n",
      "2022-12-14 15:54:03,732-[INFO]- dropbox:474 -> Request to files/upload_session/finish\n"
     ]
    },
    {
     "data": {
      "application/vnd.jupyter.widget-view+json": {
       "model_id": "7c8cf84971a243e0b9a85c99e9291506",
       "version_major": 2,
       "version_minor": 0
      },
      "text/plain": [
       "Uploaded:   0%|          | 0/4707164 [00:00<?, ?it/s]"
      ]
     },
     "metadata": {},
     "output_type": "display_data"
    },
    {
     "name": "stdout",
     "output_type": "stream",
     "text": [
      "2022-12-14 15:54:05,367-[INFO]- dropbox:390 -> Refreshing access token.\n",
      "2022-12-14 15:54:05,634-[INFO]- dropbox:474 -> Request to files/upload_session/start\n",
      "2022-12-14 15:54:06,945-[INFO]- dropbox:474 -> Request to files/upload_session/finish\n",
      "2022-12-14 15:54:08,756-[INFO]- dropbox:390 -> Refreshing access token.\n",
      "2022-12-14 15:54:09,033-[INFO]- dropbox:474 -> Request to files/upload\n",
      "2022-12-14 15:54:10,880-[INFO]- dropbox:390 -> Refreshing access token.\n",
      "2022-12-14 15:54:11,120-[INFO]- dropbox:474 -> Request to files/upload\n",
      "2022-12-14 15:54:13,287-[INFO]- dropbox:390 -> Refreshing access token.\n",
      "2022-12-14 15:54:13,512-[INFO]- dropbox:474 -> Request to files/upload\n",
      "2022-12-14 15:54:15,442-[INFO]- dropbox:390 -> Refreshing access token.\n",
      "2022-12-14 15:54:15,692-[INFO]- dropbox:474 -> Request to files/upload\n",
      "2022-12-14 15:54:17,408-[INFO]- dropbox:390 -> Refreshing access token.\n",
      "2022-12-14 15:54:17,638-[INFO]- dropbox:474 -> Request to files/upload\n",
      "2022-12-14 15:54:19,412-[INFO]- dropbox:390 -> Refreshing access token.\n",
      "2022-12-14 15:54:19,644-[INFO]- dropbox:474 -> Request to files/upload\n"
     ]
    },
    {
     "data": {
      "application/vnd.jupyter.widget-view+json": {
       "model_id": "d35eb7c902c94f20b33c92dbec455f24",
       "version_major": 2,
       "version_minor": 0
      },
      "text/plain": [
       "Uploaded:   0%|          | 0/4570958 [00:00<?, ?it/s]"
      ]
     },
     "metadata": {},
     "output_type": "display_data"
    },
    {
     "name": "stdout",
     "output_type": "stream",
     "text": [
      "2022-12-14 15:54:20,953-[INFO]- dropbox:390 -> Refreshing access token.\n",
      "2022-12-14 15:54:21,182-[INFO]- dropbox:474 -> Request to files/upload_session/start\n",
      "2022-12-14 15:54:22,441-[INFO]- dropbox:474 -> Request to files/upload_session/finish\n",
      "2022-12-14 15:54:24,334-[INFO]- dropbox:390 -> Refreshing access token.\n",
      "2022-12-14 15:54:24,574-[INFO]- dropbox:474 -> Request to files/upload\n",
      "2022-12-14 15:54:26,407-[INFO]- dropbox:390 -> Refreshing access token.\n",
      "2022-12-14 15:54:26,661-[INFO]- dropbox:474 -> Request to files/upload\n",
      "2022-12-14 15:54:28,201-[INFO]- dropbox:390 -> Refreshing access token.\n",
      "2022-12-14 15:54:28,447-[INFO]- dropbox:474 -> Request to files/upload\n",
      "2022-12-14 15:54:30,405-[INFO]- dropbox:390 -> Refreshing access token.\n",
      "2022-12-14 15:54:30,661-[INFO]- dropbox:474 -> Request to files/upload\n",
      "2022-12-14 15:54:32,445-[INFO]- dropbox:390 -> Refreshing access token.\n",
      "2022-12-14 15:54:32,682-[INFO]- dropbox:474 -> Request to files/upload\n"
     ]
    },
    {
     "data": {
      "application/vnd.jupyter.widget-view+json": {
       "model_id": "438b9a3cd0aa43feb6ebda7f22feea3a",
       "version_major": 2,
       "version_minor": 0
      },
      "text/plain": [
       "Uploaded:   0%|          | 0/4716873 [00:00<?, ?it/s]"
      ]
     },
     "metadata": {},
     "output_type": "display_data"
    },
    {
     "name": "stdout",
     "output_type": "stream",
     "text": [
      "2022-12-14 15:54:35,311-[INFO]- dropbox:390 -> Refreshing access token.\n",
      "2022-12-14 15:54:35,552-[INFO]- dropbox:474 -> Request to files/upload_session/start\n",
      "2022-12-14 15:54:36,476-[INFO]- dropbox:474 -> Request to files/upload_session/finish\n",
      "2022-12-14 15:54:38,363-[INFO]- dropbox:390 -> Refreshing access token.\n",
      "2022-12-14 15:54:38,628-[INFO]- dropbox:474 -> Request to files/upload\n",
      "2022-12-14 15:54:40,649-[INFO]- dropbox:390 -> Refreshing access token.\n",
      "2022-12-14 15:54:40,896-[INFO]- dropbox:474 -> Request to files/upload\n",
      "2022-12-14 15:54:43,390-[INFO]- dropbox:390 -> Refreshing access token.\n",
      "2022-12-14 15:54:43,626-[INFO]- dropbox:474 -> Request to files/upload\n"
     ]
    },
    {
     "data": {
      "application/vnd.jupyter.widget-view+json": {
       "model_id": "d1ace4982e3e4c7692eaa0b250811eba",
       "version_major": 2,
       "version_minor": 0
      },
      "text/plain": [
       "Uploaded:   0%|          | 0/4250266 [00:00<?, ?it/s]"
      ]
     },
     "metadata": {},
     "output_type": "display_data"
    },
    {
     "name": "stdout",
     "output_type": "stream",
     "text": [
      "2022-12-14 15:54:45,481-[INFO]- dropbox:390 -> Refreshing access token.\n",
      "2022-12-14 15:54:45,742-[INFO]- dropbox:474 -> Request to files/upload_session/start\n",
      "2022-12-14 15:54:46,873-[INFO]- dropbox:474 -> Request to files/upload_session/finish\n",
      "2022-12-14 15:54:48,453-[INFO]- dropbox:390 -> Refreshing access token.\n",
      "2022-12-14 15:54:48,785-[INFO]- dropbox:474 -> Request to files/upload\n",
      "2022-12-14 15:54:50,990-[INFO]- dropbox:390 -> Refreshing access token.\n",
      "2022-12-14 15:54:51,294-[INFO]- dropbox:474 -> Request to files/upload\n",
      "2022-12-14 15:54:53,063-[INFO]- dropbox:390 -> Refreshing access token.\n",
      "2022-12-14 15:54:53,314-[INFO]- dropbox:474 -> Request to files/upload\n",
      "2022-12-14 15:54:54,770-[INFO]- dropbox:390 -> Refreshing access token.\n",
      "2022-12-14 15:54:55,074-[INFO]- dropbox:474 -> Request to files/upload\n"
     ]
    },
    {
     "data": {
      "application/vnd.jupyter.widget-view+json": {
       "model_id": "c5870612d3c843e291b94da41345ba0a",
       "version_major": 2,
       "version_minor": 0
      },
      "text/plain": [
       "Uploaded:   0%|          | 0/5218296 [00:00<?, ?it/s]"
      ]
     },
     "metadata": {},
     "output_type": "display_data"
    },
    {
     "name": "stdout",
     "output_type": "stream",
     "text": [
      "2022-12-14 15:54:57,389-[INFO]- dropbox:390 -> Refreshing access token.\n",
      "2022-12-14 15:54:57,829-[INFO]- dropbox:474 -> Request to files/upload_session/start\n",
      "2022-12-14 15:54:58,837-[INFO]- dropbox:474 -> Request to files/upload_session/finish\n",
      "2022-12-14 15:55:00,314-[INFO]- dropbox:390 -> Refreshing access token.\n",
      "2022-12-14 15:55:00,550-[INFO]- dropbox:474 -> Request to files/upload\n",
      "2022-12-14 15:55:02,024-[INFO]- dropbox:390 -> Refreshing access token.\n",
      "2022-12-14 15:55:02,268-[INFO]- dropbox:474 -> Request to files/upload\n",
      "2022-12-14 15:55:03,709-[INFO]- dropbox:390 -> Refreshing access token.\n",
      "2022-12-14 15:55:03,945-[INFO]- dropbox:474 -> Request to files/upload\n",
      "2022-12-14 15:55:05,531-[INFO]- dropbox:390 -> Refreshing access token.\n",
      "2022-12-14 15:55:05,788-[INFO]- dropbox:474 -> Request to files/upload\n",
      "2022-12-14 15:55:07,693-[INFO]- dropbox:390 -> Refreshing access token.\n",
      "2022-12-14 15:55:08,116-[INFO]- dropbox:474 -> Request to files/upload\n",
      "2022-12-14 15:55:09,930-[INFO]- dropbox:390 -> Refreshing access token.\n",
      "2022-12-14 15:55:12,476-[INFO]- dropbox:474 -> Request to files/upload\n",
      "2022-12-14 15:55:14,007-[INFO]- dropbox:390 -> Refreshing access token.\n",
      "2022-12-14 15:55:14,250-[INFO]- dropbox:474 -> Request to files/upload\n"
     ]
    },
    {
     "data": {
      "application/vnd.jupyter.widget-view+json": {
       "model_id": "b13412046d0945778feaeef55e756b2b",
       "version_major": 2,
       "version_minor": 0
      },
      "text/plain": [
       "Uploaded:   0%|          | 0/4975720 [00:00<?, ?it/s]"
      ]
     },
     "metadata": {},
     "output_type": "display_data"
    },
    {
     "name": "stdout",
     "output_type": "stream",
     "text": [
      "2022-12-14 15:55:15,800-[INFO]- dropbox:390 -> Refreshing access token.\n",
      "2022-12-14 15:55:16,049-[INFO]- dropbox:474 -> Request to files/upload_session/start\n",
      "2022-12-14 15:55:17,519-[INFO]- dropbox:474 -> Request to files/upload_session/finish\n",
      "2022-12-14 15:55:22,802-[INFO]- dropbox:390 -> Refreshing access token.\n",
      "2022-12-14 15:55:23,064-[INFO]- dropbox:474 -> Request to files/upload\n",
      "2022-12-14 15:55:25,064-[INFO]- dropbox:390 -> Refreshing access token.\n",
      "2022-12-14 15:55:25,287-[INFO]- dropbox:474 -> Request to files/upload\n",
      "2022-12-14 15:55:27,198-[INFO]- dropbox:390 -> Refreshing access token.\n",
      "2022-12-14 15:55:27,440-[INFO]- dropbox:474 -> Request to files/upload\n",
      "2022-12-14 15:55:29,701-[INFO]- dropbox:390 -> Refreshing access token.\n",
      "2022-12-14 15:55:29,940-[INFO]- dropbox:474 -> Request to files/upload\n",
      "2022-12-14 15:55:34,940-[INFO]- dropbox:390 -> Refreshing access token.\n",
      "2022-12-14 15:55:35,193-[INFO]- dropbox:474 -> Request to files/upload\n"
     ]
    },
    {
     "data": {
      "application/vnd.jupyter.widget-view+json": {
       "model_id": "4d7d4d0f4f6049a89efe2f2b581b4d2b",
       "version_major": 2,
       "version_minor": 0
      },
      "text/plain": [
       "Uploaded:   0%|          | 0/4386184 [00:00<?, ?it/s]"
      ]
     },
     "metadata": {},
     "output_type": "display_data"
    },
    {
     "name": "stdout",
     "output_type": "stream",
     "text": [
      "2022-12-14 15:55:37,329-[INFO]- dropbox:390 -> Refreshing access token.\n",
      "2022-12-14 15:55:37,612-[INFO]- dropbox:474 -> Request to files/upload_session/start\n",
      "2022-12-14 15:55:39,076-[INFO]- dropbox:474 -> Request to files/upload_session/finish\n",
      "2022-12-14 15:55:41,576-[INFO]- dropbox:390 -> Refreshing access token.\n",
      "2022-12-14 15:55:41,809-[INFO]- dropbox:474 -> Request to files/upload\n",
      "2022-12-14 15:55:43,903-[INFO]- dropbox:390 -> Refreshing access token.\n",
      "2022-12-14 15:55:44,179-[INFO]- dropbox:474 -> Request to files/upload\n",
      "2022-12-14 15:55:45,569-[INFO]- dropbox:390 -> Refreshing access token.\n",
      "2022-12-14 15:55:45,819-[INFO]- dropbox:474 -> Request to files/upload\n"
     ]
    },
    {
     "data": {
      "application/vnd.jupyter.widget-view+json": {
       "model_id": "c9c518991c5e4ba6b67e6fcd7beb6c71",
       "version_major": 2,
       "version_minor": 0
      },
      "text/plain": [
       "Uploaded:   0%|          | 0/5035517 [00:00<?, ?it/s]"
      ]
     },
     "metadata": {},
     "output_type": "display_data"
    },
    {
     "name": "stdout",
     "output_type": "stream",
     "text": [
      "2022-12-14 15:55:47,330-[INFO]- dropbox:390 -> Refreshing access token.\n",
      "2022-12-14 15:55:47,564-[INFO]- dropbox:474 -> Request to files/upload_session/start\n",
      "2022-12-14 15:55:49,424-[INFO]- dropbox:474 -> Request to files/upload_session/finish\n",
      "2022-12-14 15:55:51,502-[INFO]- dropbox:390 -> Refreshing access token.\n",
      "2022-12-14 15:55:51,730-[INFO]- dropbox:474 -> Request to files/upload\n",
      "2022-12-14 15:55:53,028-[INFO]- dropbox:390 -> Refreshing access token.\n",
      "2022-12-14 15:55:53,282-[INFO]- dropbox:474 -> Request to files/upload\n",
      "2022-12-14 15:55:54,794-[INFO]- dropbox:390 -> Refreshing access token.\n",
      "2022-12-14 15:55:55,047-[INFO]- dropbox:474 -> Request to files/upload\n",
      "2022-12-14 15:55:56,928-[INFO]- dropbox:390 -> Refreshing access token.\n",
      "2022-12-14 15:55:57,217-[INFO]- dropbox:474 -> Request to files/upload\n"
     ]
    },
    {
     "data": {
      "application/vnd.jupyter.widget-view+json": {
       "model_id": "16b23ad1b3034338afb162de781c2fa4",
       "version_major": 2,
       "version_minor": 0
      },
      "text/plain": [
       "Uploaded:   0%|          | 0/4576627 [00:00<?, ?it/s]"
      ]
     },
     "metadata": {},
     "output_type": "display_data"
    },
    {
     "name": "stdout",
     "output_type": "stream",
     "text": [
      "2022-12-14 15:55:58,943-[INFO]- dropbox:390 -> Refreshing access token.\n",
      "2022-12-14 15:55:59,294-[INFO]- dropbox:474 -> Request to files/upload_session/start\n",
      "2022-12-14 15:56:00,529-[INFO]- dropbox:474 -> Request to files/upload_session/finish\n",
      "2022-12-14 15:56:02,258-[INFO]- dropbox:390 -> Refreshing access token.\n",
      "2022-12-14 15:56:02,496-[INFO]- dropbox:474 -> Request to files/upload\n",
      "2022-12-14 15:56:04,989-[INFO]- dropbox:390 -> Refreshing access token.\n",
      "2022-12-14 15:56:05,276-[INFO]- dropbox:474 -> Request to files/upload\n",
      "2022-12-14 15:56:06,967-[INFO]- dropbox:390 -> Refreshing access token.\n",
      "2022-12-14 15:56:07,222-[INFO]- dropbox:474 -> Request to files/upload\n",
      "2022-12-14 15:56:09,274-[INFO]- dropbox:390 -> Refreshing access token.\n",
      "2022-12-14 15:56:09,523-[INFO]- dropbox:474 -> Request to files/upload\n",
      "2022-12-14 15:56:11,419-[INFO]- dropbox:390 -> Refreshing access token.\n",
      "2022-12-14 15:56:11,720-[INFO]- dropbox:474 -> Request to files/upload\n",
      "2022-12-14 15:56:13,686-[INFO]- dropbox:390 -> Refreshing access token.\n",
      "2022-12-14 15:56:13,952-[INFO]- dropbox:474 -> Request to files/upload\n"
     ]
    },
    {
     "data": {
      "application/vnd.jupyter.widget-view+json": {
       "model_id": "5c3f8004e1c744e7893bdcd5455c1b8a",
       "version_major": 2,
       "version_minor": 0
      },
      "text/plain": [
       "Uploaded:   0%|          | 0/4648345 [00:00<?, ?it/s]"
      ]
     },
     "metadata": {},
     "output_type": "display_data"
    },
    {
     "name": "stdout",
     "output_type": "stream",
     "text": [
      "2022-12-14 15:56:15,566-[INFO]- dropbox:390 -> Refreshing access token.\n",
      "2022-12-14 15:56:15,857-[INFO]- dropbox:474 -> Request to files/upload_session/start\n",
      "2022-12-14 15:56:17,282-[INFO]- dropbox:474 -> Request to files/upload_session/finish\n",
      "2022-12-14 15:56:19,084-[INFO]- dropbox:390 -> Refreshing access token.\n",
      "2022-12-14 15:56:19,332-[INFO]- dropbox:474 -> Request to files/upload\n",
      "2022-12-14 15:56:21,234-[INFO]- dropbox:390 -> Refreshing access token.\n",
      "2022-12-14 15:56:21,462-[INFO]- dropbox:474 -> Request to files/upload\n",
      "2022-12-14 15:56:23,163-[INFO]- dropbox:390 -> Refreshing access token.\n",
      "2022-12-14 15:56:23,575-[INFO]- dropbox:474 -> Request to files/upload\n",
      "2022-12-14 15:56:25,349-[INFO]- dropbox:390 -> Refreshing access token.\n",
      "2022-12-14 15:56:25,597-[INFO]- dropbox:474 -> Request to files/upload\n",
      "2022-12-14 15:56:27,516-[INFO]- dropbox:390 -> Refreshing access token.\n",
      "2022-12-14 15:56:27,781-[INFO]- dropbox:474 -> Request to files/upload\n",
      "2022-12-14 15:56:29,751-[INFO]- dropbox:390 -> Refreshing access token.\n",
      "2022-12-14 15:56:29,993-[INFO]- dropbox:474 -> Request to files/upload\n",
      "2022-12-14 15:56:31,666-[INFO]- dropbox:390 -> Refreshing access token.\n",
      "2022-12-14 15:56:31,899-[INFO]- dropbox:474 -> Request to files/upload\n",
      "2022-12-14 15:56:33,477-[INFO]- dropbox:390 -> Refreshing access token.\n",
      "2022-12-14 15:56:33,714-[INFO]- dropbox:474 -> Request to files/upload\n",
      "2022-12-14 15:56:35,416-[INFO]- dropbox:390 -> Refreshing access token.\n",
      "2022-12-14 15:56:35,678-[INFO]- dropbox:474 -> Request to files/upload\n",
      "2022-12-14 15:56:37,560-[INFO]- dropbox:390 -> Refreshing access token.\n",
      "2022-12-14 15:56:37,798-[INFO]- dropbox:474 -> Request to files/upload\n"
     ]
    },
    {
     "data": {
      "application/vnd.jupyter.widget-view+json": {
       "model_id": "7c4abf984cf54f51af947dada56c2248",
       "version_major": 2,
       "version_minor": 0
      },
      "text/plain": [
       "Uploaded:   0%|          | 0/4878338 [00:00<?, ?it/s]"
      ]
     },
     "metadata": {},
     "output_type": "display_data"
    },
    {
     "name": "stdout",
     "output_type": "stream",
     "text": [
      "2022-12-14 15:56:39,469-[INFO]- dropbox:390 -> Refreshing access token.\n",
      "2022-12-14 15:56:39,718-[INFO]- dropbox:474 -> Request to files/upload_session/start\n",
      "2022-12-14 15:56:41,772-[INFO]- dropbox:474 -> Request to files/upload_session/finish\n"
     ]
    },
    {
     "data": {
      "application/vnd.jupyter.widget-view+json": {
       "model_id": "9f03fc71e17248b1a9a405ad42e9d416",
       "version_major": 2,
       "version_minor": 0
      },
      "text/plain": [
       "Uploaded:   0%|          | 0/4626858 [00:00<?, ?it/s]"
      ]
     },
     "metadata": {},
     "output_type": "display_data"
    },
    {
     "name": "stdout",
     "output_type": "stream",
     "text": [
      "2022-12-14 15:56:43,592-[INFO]- dropbox:390 -> Refreshing access token.\n",
      "2022-12-14 15:56:43,877-[INFO]- dropbox:474 -> Request to files/upload_session/start\n",
      "2022-12-14 15:56:45,732-[INFO]- dropbox:474 -> Request to files/upload_session/finish\n"
     ]
    },
    {
     "data": {
      "application/vnd.jupyter.widget-view+json": {
       "model_id": "5c1304cef05643398f4d8d6caae6a243",
       "version_major": 2,
       "version_minor": 0
      },
      "text/plain": [
       "Uploaded:   0%|          | 0/4635989 [00:00<?, ?it/s]"
      ]
     },
     "metadata": {},
     "output_type": "display_data"
    },
    {
     "name": "stdout",
     "output_type": "stream",
     "text": [
      "2022-12-14 15:56:47,569-[INFO]- dropbox:390 -> Refreshing access token.\n",
      "2022-12-14 15:56:47,805-[INFO]- dropbox:474 -> Request to files/upload_session/start\n",
      "2022-12-14 15:56:49,519-[INFO]- dropbox:474 -> Request to files/upload_session/finish\n",
      "2022-12-14 15:56:51,208-[INFO]- dropbox:390 -> Refreshing access token.\n",
      "2022-12-14 15:56:51,458-[INFO]- dropbox:474 -> Request to files/upload\n",
      "2022-12-14 15:56:53,208-[INFO]- dropbox:390 -> Refreshing access token.\n",
      "2022-12-14 15:56:53,455-[INFO]- dropbox:474 -> Request to files/upload\n",
      "2022-12-14 15:56:56,657-[INFO]- dropbox:390 -> Refreshing access token.\n",
      "2022-12-14 15:56:56,899-[INFO]- dropbox:474 -> Request to files/upload\n",
      "2022-12-14 15:56:58,772-[INFO]- dropbox:390 -> Refreshing access token.\n",
      "2022-12-14 15:56:59,017-[INFO]- dropbox:474 -> Request to files/upload\n",
      "2022-12-14 15:57:00,394-[INFO]- dropbox:390 -> Refreshing access token.\n",
      "2022-12-14 15:57:00,651-[INFO]- dropbox:474 -> Request to files/upload\n"
     ]
    },
    {
     "data": {
      "application/vnd.jupyter.widget-view+json": {
       "model_id": "6f36df957ef84c529f5b424a3ee3cdfd",
       "version_major": 2,
       "version_minor": 0
      },
      "text/plain": [
       "Uploaded:   0%|          | 0/4923354 [00:00<?, ?it/s]"
      ]
     },
     "metadata": {},
     "output_type": "display_data"
    },
    {
     "name": "stdout",
     "output_type": "stream",
     "text": [
      "2022-12-14 15:57:02,123-[INFO]- dropbox:390 -> Refreshing access token.\n",
      "2022-12-14 15:57:02,375-[INFO]- dropbox:474 -> Request to files/upload_session/start\n",
      "2022-12-14 15:57:03,681-[INFO]- dropbox:474 -> Request to files/upload_session/finish\n"
     ]
    },
    {
     "data": {
      "application/vnd.jupyter.widget-view+json": {
       "model_id": "bb3b85dc8bf447ab82bbb9f33dcec92d",
       "version_major": 2,
       "version_minor": 0
      },
      "text/plain": [
       "Uploaded:   0%|          | 0/4616979 [00:00<?, ?it/s]"
      ]
     },
     "metadata": {},
     "output_type": "display_data"
    },
    {
     "name": "stdout",
     "output_type": "stream",
     "text": [
      "2022-12-14 15:57:05,402-[INFO]- dropbox:390 -> Refreshing access token.\n",
      "2022-12-14 15:57:05,673-[INFO]- dropbox:474 -> Request to files/upload_session/start\n",
      "2022-12-14 15:57:07,180-[INFO]- dropbox:474 -> Request to files/upload_session/finish\n",
      "2022-12-14 15:57:08,741-[INFO]- dropbox:390 -> Refreshing access token.\n",
      "2022-12-14 15:57:08,995-[INFO]- dropbox:474 -> Request to files/upload\n",
      "2022-12-14 15:57:11,071-[INFO]- dropbox:390 -> Refreshing access token.\n",
      "2022-12-14 15:57:11,332-[INFO]- dropbox:474 -> Request to files/upload\n",
      "2022-12-14 15:57:13,138-[INFO]- dropbox:390 -> Refreshing access token.\n",
      "2022-12-14 15:57:13,410-[INFO]- dropbox:474 -> Request to files/upload\n",
      "2022-12-14 15:57:14,816-[INFO]- dropbox:390 -> Refreshing access token.\n",
      "2022-12-14 15:57:15,065-[INFO]- dropbox:474 -> Request to files/upload\n"
     ]
    },
    {
     "data": {
      "application/vnd.jupyter.widget-view+json": {
       "model_id": "a6642ca132e643aa8a69a979083c227e",
       "version_major": 2,
       "version_minor": 0
      },
      "text/plain": [
       "Uploaded:   0%|          | 0/5050937 [00:00<?, ?it/s]"
      ]
     },
     "metadata": {},
     "output_type": "display_data"
    },
    {
     "name": "stdout",
     "output_type": "stream",
     "text": [
      "2022-12-14 15:57:16,632-[INFO]- dropbox:390 -> Refreshing access token.\n",
      "2022-12-14 15:57:16,881-[INFO]- dropbox:474 -> Request to files/upload_session/start\n",
      "2022-12-14 15:57:18,452-[INFO]- dropbox:474 -> Request to files/upload_session/finish\n",
      "2022-12-14 15:57:20,179-[INFO]- dropbox:390 -> Refreshing access token.\n",
      "2022-12-14 15:57:20,415-[INFO]- dropbox:474 -> Request to files/upload\n"
     ]
    },
    {
     "data": {
      "application/vnd.jupyter.widget-view+json": {
       "model_id": "cbc8c68571c5462c8ced2d4331ce2369",
       "version_major": 2,
       "version_minor": 0
      },
      "text/plain": [
       "Uploaded:   0%|          | 0/4327186 [00:00<?, ?it/s]"
      ]
     },
     "metadata": {},
     "output_type": "display_data"
    },
    {
     "name": "stdout",
     "output_type": "stream",
     "text": [
      "2022-12-14 15:57:22,016-[INFO]- dropbox:390 -> Refreshing access token.\n",
      "2022-12-14 15:57:22,252-[INFO]- dropbox:474 -> Request to files/upload_session/start\n",
      "2022-12-14 15:57:23,868-[INFO]- dropbox:474 -> Request to files/upload_session/finish\n",
      "2022-12-14 15:57:25,986-[INFO]- dropbox:390 -> Refreshing access token.\n",
      "2022-12-14 15:57:26,292-[INFO]- dropbox:474 -> Request to files/upload\n",
      "DATA/PRINCE\n",
      "2022-12-14 15:57:28,554-[INFO]- dropbox:390 -> Refreshing access token.\n",
      "2022-12-14 15:57:28,870-[INFO]- dropbox:474 -> Request to files/upload\n",
      "2022-12-14 15:57:30,855-[INFO]- dropbox:390 -> Refreshing access token.\n",
      "2022-12-14 15:57:31,087-[INFO]- dropbox:474 -> Request to files/upload\n",
      "2022-12-14 15:57:32,611-[INFO]- dropbox:390 -> Refreshing access token.\n",
      "2022-12-14 15:57:32,846-[INFO]- dropbox:474 -> Request to files/upload\n"
     ]
    },
    {
     "data": {
      "application/vnd.jupyter.widget-view+json": {
       "model_id": "6c779807857a40749ee9aff5e60b02b2",
       "version_major": 2,
       "version_minor": 0
      },
      "text/plain": [
       "Uploaded:   0%|          | 0/94473378 [00:00<?, ?it/s]"
      ]
     },
     "metadata": {},
     "output_type": "display_data"
    },
    {
     "name": "stdout",
     "output_type": "stream",
     "text": [
      "2022-12-14 15:57:34,207-[INFO]- dropbox:390 -> Refreshing access token.\n",
      "2022-12-14 15:57:34,448-[INFO]- dropbox:474 -> Request to files/upload_session/start\n",
      "2022-12-14 15:57:35,404-[INFO]- dropbox:474 -> Request to files/upload_session/append\n",
      "2022-12-14 15:57:36,469-[INFO]- dropbox:474 -> Request to files/upload_session/append\n",
      "2022-12-14 15:57:38,170-[INFO]- dropbox:474 -> Request to files/upload_session/append\n",
      "2022-12-14 15:57:39,523-[INFO]- dropbox:474 -> Request to files/upload_session/append\n",
      "2022-12-14 15:57:40,681-[INFO]- dropbox:474 -> Request to files/upload_session/append\n",
      "2022-12-14 15:57:41,755-[INFO]- dropbox:474 -> Request to files/upload_session/append\n",
      "2022-12-14 15:57:43,229-[INFO]- dropbox:474 -> Request to files/upload_session/append\n",
      "2022-12-14 15:57:45,290-[INFO]- dropbox:474 -> Request to files/upload_session/append\n",
      "2022-12-14 15:57:46,679-[INFO]- dropbox:474 -> Request to files/upload_session/append\n",
      "2022-12-14 15:57:47,998-[INFO]- dropbox:474 -> Request to files/upload_session/append\n",
      "2022-12-14 15:57:49,122-[INFO]- dropbox:474 -> Request to files/upload_session/append\n",
      "2022-12-14 15:57:50,434-[INFO]- dropbox:474 -> Request to files/upload_session/append\n",
      "2022-12-14 15:57:51,853-[INFO]- dropbox:474 -> Request to files/upload_session/append\n",
      "2022-12-14 15:57:52,906-[INFO]- dropbox:474 -> Request to files/upload_session/append\n",
      "2022-12-14 15:57:53,909-[INFO]- dropbox:474 -> Request to files/upload_session/append\n",
      "2022-12-14 15:57:55,255-[INFO]- dropbox:474 -> Request to files/upload_session/append\n",
      "2022-12-14 15:57:56,317-[INFO]- dropbox:474 -> Request to files/upload_session/append\n",
      "2022-12-14 15:57:57,363-[INFO]- dropbox:474 -> Request to files/upload_session/append\n",
      "2022-12-14 15:57:58,687-[INFO]- dropbox:474 -> Request to files/upload_session/append\n",
      "2022-12-14 15:57:59,839-[INFO]- dropbox:474 -> Request to files/upload_session/append\n",
      "2022-12-14 15:58:01,466-[INFO]- dropbox:474 -> Request to files/upload_session/append\n",
      "2022-12-14 15:58:02,750-[INFO]- dropbox:474 -> Request to files/upload_session/finish\n",
      "2022-12-14 15:58:04,835-[INFO]- dropbox:390 -> Refreshing access token.\n",
      "2022-12-14 15:58:05,061-[INFO]- dropbox:474 -> Request to files/upload\n"
     ]
    },
    {
     "data": {
      "application/vnd.jupyter.widget-view+json": {
       "model_id": "8efa08a0ee6541a09da015c02ae964ca",
       "version_major": 2,
       "version_minor": 0
      },
      "text/plain": [
       "Uploaded:   0%|          | 0/9560843 [00:00<?, ?it/s]"
      ]
     },
     "metadata": {},
     "output_type": "display_data"
    },
    {
     "name": "stdout",
     "output_type": "stream",
     "text": [
      "2022-12-14 15:58:06,704-[INFO]- dropbox:390 -> Refreshing access token.\n",
      "2022-12-14 15:58:07,001-[INFO]- dropbox:474 -> Request to files/upload_session/start\n",
      "2022-12-14 15:58:08,119-[INFO]- dropbox:474 -> Request to files/upload_session/append\n",
      "2022-12-14 15:58:08,958-[INFO]- dropbox:474 -> Request to files/upload_session/finish\n",
      "2022-12-14 15:58:10,565-[INFO]- dropbox:390 -> Refreshing access token.\n",
      "2022-12-14 15:58:11,048-[INFO]- dropbox:474 -> Request to files/upload\n",
      "2022-12-14 15:58:12,445-[INFO]- dropbox:390 -> Refreshing access token.\n",
      "2022-12-14 15:58:12,721-[INFO]- dropbox:474 -> Request to files/upload\n",
      "2022-12-14 15:58:14,349-[INFO]- dropbox:390 -> Refreshing access token.\n",
      "2022-12-14 15:58:14,592-[INFO]- dropbox:474 -> Request to files/upload\n",
      "2022-12-14 15:58:16,395-[INFO]- dropbox:390 -> Refreshing access token.\n",
      "2022-12-14 15:58:16,649-[INFO]- dropbox:474 -> Request to files/upload\n",
      "2022-12-14 15:58:18,427-[INFO]- dropbox:390 -> Refreshing access token.\n",
      "2022-12-14 15:58:18,648-[INFO]- dropbox:474 -> Request to files/upload\n",
      "2022-12-14 15:58:20,412-[INFO]- dropbox:390 -> Refreshing access token.\n",
      "2022-12-14 15:58:20,758-[INFO]- dropbox:474 -> Request to files/upload\n",
      "2022-12-14 15:58:22,127-[INFO]- dropbox:390 -> Refreshing access token.\n",
      "2022-12-14 15:58:22,369-[INFO]- dropbox:474 -> Request to files/upload\n",
      "2022-12-14 15:58:24,053-[INFO]- dropbox:390 -> Refreshing access token.\n",
      "2022-12-14 15:58:24,984-[INFO]- dropbox:474 -> Request to files/upload\n",
      "2022-12-14 15:58:26,661-[INFO]- dropbox:390 -> Refreshing access token.\n",
      "2022-12-14 15:58:26,885-[INFO]- dropbox:474 -> Request to files/upload\n",
      "2022-12-14 15:58:28,637-[INFO]- dropbox:390 -> Refreshing access token.\n",
      "2022-12-14 15:58:28,881-[INFO]- dropbox:474 -> Request to files/upload\n",
      "2022-12-14 15:58:30,609-[INFO]- dropbox:390 -> Refreshing access token.\n",
      "2022-12-14 15:58:30,851-[INFO]- dropbox:474 -> Request to files/upload\n",
      "2022-12-14 15:58:32,721-[INFO]- dropbox:390 -> Refreshing access token.\n",
      "2022-12-14 15:58:32,961-[INFO]- dropbox:474 -> Request to files/upload\n",
      "2022-12-14 15:58:34,726-[INFO]- dropbox:390 -> Refreshing access token.\n",
      "2022-12-14 15:58:34,967-[INFO]- dropbox:474 -> Request to files/upload\n",
      "2022-12-14 15:58:36,561-[INFO]- dropbox:390 -> Refreshing access token.\n",
      "2022-12-14 15:58:36,789-[INFO]- dropbox:474 -> Request to files/upload\n",
      "2022-12-14 15:58:38,719-[INFO]- dropbox:390 -> Refreshing access token.\n",
      "2022-12-14 15:58:38,973-[INFO]- dropbox:474 -> Request to files/upload\n",
      "2022-12-14 15:58:40,665-[INFO]- dropbox:390 -> Refreshing access token.\n",
      "2022-12-14 15:58:40,940-[INFO]- dropbox:474 -> Request to files/upload\n",
      "2022-12-14 15:58:42,895-[INFO]- dropbox:390 -> Refreshing access token.\n",
      "2022-12-14 15:58:43,152-[INFO]- dropbox:474 -> Request to files/upload\n",
      "2022-12-14 15:58:44,708-[INFO]- dropbox:390 -> Refreshing access token.\n",
      "2022-12-14 15:58:44,968-[INFO]- dropbox:474 -> Request to files/upload\n",
      "2022-12-14 15:58:46,967-[INFO]- dropbox:390 -> Refreshing access token.\n",
      "2022-12-14 15:58:47,193-[INFO]- dropbox:474 -> Request to files/upload\n",
      "2022-12-14 15:58:48,538-[INFO]- dropbox:390 -> Refreshing access token.\n",
      "2022-12-14 15:58:48,809-[INFO]- dropbox:474 -> Request to files/upload\n",
      "2022-12-14 15:58:50,403-[INFO]- dropbox:390 -> Refreshing access token.\n",
      "2022-12-14 15:58:50,666-[INFO]- dropbox:474 -> Request to files/upload\n",
      "2022-12-14 15:58:53,114-[INFO]- dropbox:390 -> Refreshing access token.\n",
      "2022-12-14 15:58:53,341-[INFO]- dropbox:474 -> Request to files/upload\n",
      "2022-12-14 15:58:54,699-[INFO]- dropbox:390 -> Refreshing access token.\n",
      "2022-12-14 15:58:54,965-[INFO]- dropbox:474 -> Request to files/upload\n",
      "2022-12-14 15:58:56,926-[INFO]- dropbox:390 -> Refreshing access token.\n",
      "2022-12-14 15:58:57,172-[INFO]- dropbox:474 -> Request to files/upload\n",
      "2022-12-14 15:58:59,447-[INFO]- dropbox:390 -> Refreshing access token.\n",
      "2022-12-14 15:58:59,685-[INFO]- dropbox:474 -> Request to files/upload\n",
      "2022-12-14 15:59:01,297-[INFO]- dropbox:390 -> Refreshing access token.\n",
      "2022-12-14 15:59:01,731-[INFO]- dropbox:474 -> Request to files/upload\n",
      "2022-12-14 15:59:03,640-[INFO]- dropbox:390 -> Refreshing access token.\n",
      "2022-12-14 15:59:03,877-[INFO]- dropbox:474 -> Request to files/upload\n",
      "2022-12-14 15:59:06,045-[INFO]- dropbox:390 -> Refreshing access token.\n",
      "2022-12-14 15:59:06,287-[INFO]- dropbox:474 -> Request to files/upload\n",
      "2022-12-14 15:59:08,451-[INFO]- dropbox:390 -> Refreshing access token.\n",
      "2022-12-14 15:59:08,735-[INFO]- dropbox:474 -> Request to files/upload\n",
      "2022-12-14 15:59:10,018-[INFO]- dropbox:390 -> Refreshing access token.\n",
      "2022-12-14 15:59:10,293-[INFO]- dropbox:474 -> Request to files/upload\n",
      "2022-12-14 15:59:12,140-[INFO]- dropbox:390 -> Refreshing access token.\n",
      "2022-12-14 15:59:12,654-[INFO]- dropbox:474 -> Request to files/upload\n",
      "2022-12-14 15:59:14,408-[INFO]- dropbox:390 -> Refreshing access token.\n",
      "2022-12-14 15:59:14,643-[INFO]- dropbox:474 -> Request to files/upload\n",
      "2022-12-14 15:59:16,760-[INFO]- dropbox:390 -> Refreshing access token.\n",
      "2022-12-14 15:59:17,011-[INFO]- dropbox:474 -> Request to files/upload\n",
      "2022-12-14 15:59:18,491-[INFO]- dropbox:390 -> Refreshing access token.\n",
      "2022-12-14 15:59:18,721-[INFO]- dropbox:474 -> Request to files/upload\n",
      "2022-12-14 15:59:20,475-[INFO]- dropbox:390 -> Refreshing access token.\n",
      "2022-12-14 15:59:20,736-[INFO]- dropbox:474 -> Request to files/upload\n",
      "2022-12-14 15:59:22,797-[INFO]- dropbox:390 -> Refreshing access token.\n",
      "2022-12-14 15:59:23,027-[INFO]- dropbox:474 -> Request to files/upload\n",
      "2022-12-14 15:59:24,653-[INFO]- dropbox:390 -> Refreshing access token.\n",
      "2022-12-14 15:59:24,913-[INFO]- dropbox:474 -> Request to files/upload\n",
      "2022-12-14 15:59:26,468-[INFO]- dropbox:390 -> Refreshing access token.\n",
      "2022-12-14 15:59:26,725-[INFO]- dropbox:474 -> Request to files/upload\n",
      "2022-12-14 15:59:28,071-[INFO]- dropbox:390 -> Refreshing access token.\n",
      "2022-12-14 15:59:28,328-[INFO]- dropbox:474 -> Request to files/upload\n",
      "2022-12-14 15:59:30,203-[INFO]- dropbox:390 -> Refreshing access token.\n",
      "2022-12-14 15:59:30,498-[INFO]- dropbox:474 -> Request to files/upload\n",
      "2022-12-14 15:59:32,216-[INFO]- dropbox:390 -> Refreshing access token.\n",
      "2022-12-14 15:59:32,470-[INFO]- dropbox:474 -> Request to files/upload\n",
      "2022-12-14 15:59:34,268-[INFO]- dropbox:390 -> Refreshing access token.\n",
      "2022-12-14 15:59:34,493-[INFO]- dropbox:474 -> Request to files/upload\n",
      "2022-12-14 15:59:36,236-[INFO]- dropbox:390 -> Refreshing access token.\n",
      "2022-12-14 15:59:36,481-[INFO]- dropbox:474 -> Request to files/upload\n",
      "2022-12-14 15:59:38,998-[INFO]- dropbox:390 -> Refreshing access token.\n",
      "2022-12-14 15:59:39,248-[INFO]- dropbox:474 -> Request to files/upload\n",
      "2022-12-14 15:59:40,965-[INFO]- dropbox:390 -> Refreshing access token.\n",
      "2022-12-14 15:59:41,198-[INFO]- dropbox:474 -> Request to files/upload\n",
      "2022-12-14 15:59:43,080-[INFO]- dropbox:390 -> Refreshing access token.\n",
      "2022-12-14 15:59:43,389-[INFO]- dropbox:474 -> Request to files/upload\n",
      "2022-12-14 15:59:45,424-[INFO]- dropbox:390 -> Refreshing access token.\n",
      "2022-12-14 15:59:45,685-[INFO]- dropbox:474 -> Request to files/upload\n",
      "2022-12-14 15:59:47,375-[INFO]- dropbox:390 -> Refreshing access token.\n",
      "2022-12-14 15:59:47,637-[INFO]- dropbox:474 -> Request to files/upload\n",
      "2022-12-14 15:59:50,306-[INFO]- dropbox:390 -> Refreshing access token.\n",
      "2022-12-14 15:59:50,635-[INFO]- dropbox:474 -> Request to files/upload\n",
      "2022-12-14 15:59:52,075-[INFO]- dropbox:390 -> Refreshing access token.\n",
      "2022-12-14 15:59:52,345-[INFO]- dropbox:474 -> Request to files/upload\n",
      "2022-12-14 15:59:54,215-[INFO]- dropbox:390 -> Refreshing access token.\n",
      "2022-12-14 15:59:54,502-[INFO]- dropbox:474 -> Request to files/upload\n",
      "2022-12-14 15:59:56,564-[INFO]- dropbox:390 -> Refreshing access token.\n",
      "2022-12-14 15:59:56,810-[INFO]- dropbox:474 -> Request to files/upload\n",
      "2022-12-14 15:59:58,372-[INFO]- dropbox:390 -> Refreshing access token.\n",
      "2022-12-14 15:59:58,607-[INFO]- dropbox:474 -> Request to files/upload\n",
      "2022-12-14 15:59:59,964-[INFO]- dropbox:390 -> Refreshing access token.\n",
      "2022-12-14 16:00:00,234-[INFO]- dropbox:474 -> Request to files/upload\n",
      "2022-12-14 16:00:02,781-[INFO]- dropbox:390 -> Refreshing access token.\n",
      "2022-12-14 16:00:03,746-[INFO]- dropbox:474 -> Request to files/upload\n"
     ]
    },
    {
     "data": {
      "application/vnd.jupyter.widget-view+json": {
       "model_id": "9b0dc9e5a8ad41eea6050c307ca13c99",
       "version_major": 2,
       "version_minor": 0
      },
      "text/plain": [
       "Uploaded:   0%|          | 0/4230700 [00:00<?, ?it/s]"
      ]
     },
     "metadata": {},
     "output_type": "display_data"
    },
    {
     "name": "stdout",
     "output_type": "stream",
     "text": [
      "2022-12-14 16:00:06,059-[INFO]- dropbox:390 -> Refreshing access token.\n",
      "2022-12-14 16:00:06,302-[INFO]- dropbox:474 -> Request to files/upload_session/start\n",
      "2022-12-14 16:00:07,272-[INFO]- dropbox:474 -> Request to files/upload_session/finish\n",
      "2022-12-14 16:00:09,564-[INFO]- dropbox:390 -> Refreshing access token.\n",
      "2022-12-14 16:00:09,860-[INFO]- dropbox:474 -> Request to files/upload\n",
      "2022-12-14 16:00:12,156-[INFO]- dropbox:390 -> Refreshing access token.\n",
      "2022-12-14 16:00:12,544-[INFO]- dropbox:474 -> Request to files/upload\n",
      "2022-12-14 16:00:13,831-[INFO]- dropbox:390 -> Refreshing access token.\n",
      "2022-12-14 16:00:14,096-[INFO]- dropbox:474 -> Request to files/upload\n",
      "2022-12-14 16:00:15,771-[INFO]- dropbox:390 -> Refreshing access token.\n",
      "2022-12-14 16:00:16,019-[INFO]- dropbox:474 -> Request to files/upload\n",
      "2022-12-14 16:00:18,230-[INFO]- dropbox:390 -> Refreshing access token.\n",
      "2022-12-14 16:00:18,475-[INFO]- dropbox:474 -> Request to files/upload\n",
      "2022-12-14 16:00:20,193-[INFO]- dropbox:390 -> Refreshing access token.\n",
      "2022-12-14 16:00:20,599-[INFO]- dropbox:474 -> Request to files/upload\n",
      "2022-12-14 16:00:22,383-[INFO]- dropbox:390 -> Refreshing access token.\n",
      "2022-12-14 16:00:22,636-[INFO]- dropbox:474 -> Request to files/upload\n",
      "2022-12-14 16:00:24,982-[INFO]- dropbox:390 -> Refreshing access token.\n",
      "2022-12-14 16:00:25,229-[INFO]- dropbox:474 -> Request to files/upload\n",
      "2022-12-14 16:00:26,823-[INFO]- dropbox:390 -> Refreshing access token.\n",
      "2022-12-14 16:00:27,075-[INFO]- dropbox:474 -> Request to files/upload\n",
      "2022-12-14 16:00:28,581-[INFO]- dropbox:390 -> Refreshing access token.\n",
      "2022-12-14 16:00:28,816-[INFO]- dropbox:474 -> Request to files/upload\n",
      "2022-12-14 16:00:30,449-[INFO]- dropbox:390 -> Refreshing access token.\n",
      "2022-12-14 16:00:30,734-[INFO]- dropbox:474 -> Request to files/upload\n",
      "2022-12-14 16:00:33,046-[INFO]- dropbox:390 -> Refreshing access token.\n",
      "2022-12-14 16:00:33,286-[INFO]- dropbox:474 -> Request to files/upload\n",
      "2022-12-14 16:00:36,337-[INFO]- dropbox:390 -> Refreshing access token.\n",
      "2022-12-14 16:00:36,630-[INFO]- dropbox:474 -> Request to files/upload\n",
      "2022-12-14 16:00:37,946-[INFO]- dropbox:390 -> Refreshing access token.\n",
      "2022-12-14 16:00:38,195-[INFO]- dropbox:474 -> Request to files/upload\n",
      "2022-12-14 16:00:40,126-[INFO]- dropbox:390 -> Refreshing access token.\n",
      "2022-12-14 16:00:40,950-[INFO]- dropbox:474 -> Request to files/upload\n",
      "2022-12-14 16:00:42,724-[INFO]- dropbox:390 -> Refreshing access token.\n",
      "2022-12-14 16:00:43,036-[INFO]- dropbox:474 -> Request to files/upload\n",
      "2022-12-14 16:00:45,435-[INFO]- dropbox:390 -> Refreshing access token.\n",
      "2022-12-14 16:00:45,678-[INFO]- dropbox:474 -> Request to files/upload\n",
      "2022-12-14 16:00:47,534-[INFO]- dropbox:390 -> Refreshing access token.\n",
      "2022-12-14 16:00:47,828-[INFO]- dropbox:474 -> Request to files/upload\n",
      "2022-12-14 16:00:50,308-[INFO]- dropbox:390 -> Refreshing access token.\n",
      "2022-12-14 16:00:50,543-[INFO]- dropbox:474 -> Request to files/upload\n",
      "2022-12-14 16:00:52,073-[INFO]- dropbox:390 -> Refreshing access token.\n",
      "2022-12-14 16:00:52,307-[INFO]- dropbox:474 -> Request to files/upload\n",
      "2022-12-14 16:00:53,823-[INFO]- dropbox:390 -> Refreshing access token.\n",
      "2022-12-14 16:00:54,063-[INFO]- dropbox:474 -> Request to files/upload\n",
      "2022-12-14 16:00:55,898-[INFO]- dropbox:390 -> Refreshing access token.\n",
      "2022-12-14 16:00:56,198-[INFO]- dropbox:474 -> Request to files/upload\n",
      "2022-12-14 16:00:57,984-[INFO]- dropbox:390 -> Refreshing access token.\n",
      "2022-12-14 16:00:58,262-[INFO]- dropbox:474 -> Request to files/upload\n",
      "2022-12-14 16:01:00,157-[INFO]- dropbox:390 -> Refreshing access token.\n",
      "2022-12-14 16:01:00,426-[INFO]- dropbox:474 -> Request to files/upload\n",
      "2022-12-14 16:01:02,582-[INFO]- dropbox:390 -> Refreshing access token.\n",
      "2022-12-14 16:01:02,816-[INFO]- dropbox:474 -> Request to files/upload\n",
      "2022-12-14 16:01:04,501-[INFO]- dropbox:390 -> Refreshing access token.\n",
      "2022-12-14 16:01:04,735-[INFO]- dropbox:474 -> Request to files/upload\n",
      "2022-12-14 16:01:06,436-[INFO]- dropbox:390 -> Refreshing access token.\n",
      "2022-12-14 16:01:06,718-[INFO]- dropbox:474 -> Request to files/upload\n",
      "2022-12-14 16:01:08,113-[INFO]- dropbox:390 -> Refreshing access token.\n",
      "2022-12-14 16:01:08,406-[INFO]- dropbox:474 -> Request to files/upload\n",
      "2022-12-14 16:01:10,059-[INFO]- dropbox:390 -> Refreshing access token.\n",
      "2022-12-14 16:01:10,331-[INFO]- dropbox:474 -> Request to files/upload\n",
      "2022-12-14 16:01:12,291-[INFO]- dropbox:390 -> Refreshing access token.\n",
      "2022-12-14 16:01:12,578-[INFO]- dropbox:474 -> Request to files/upload\n",
      "2022-12-14 16:01:14,665-[INFO]- dropbox:390 -> Refreshing access token.\n",
      "2022-12-14 16:01:14,903-[INFO]- dropbox:474 -> Request to files/upload\n",
      "2022-12-14 16:01:16,502-[INFO]- dropbox:390 -> Refreshing access token.\n",
      "2022-12-14 16:01:16,891-[INFO]- dropbox:474 -> Request to files/upload\n",
      "2022-12-14 16:01:18,958-[INFO]- dropbox:390 -> Refreshing access token.\n",
      "2022-12-14 16:01:19,192-[INFO]- dropbox:474 -> Request to files/upload\n",
      "2022-12-14 16:01:20,600-[INFO]- dropbox:390 -> Refreshing access token.\n",
      "2022-12-14 16:01:20,844-[INFO]- dropbox:474 -> Request to files/upload\n",
      "2022-12-14 16:01:22,455-[INFO]- dropbox:390 -> Refreshing access token.\n",
      "2022-12-14 16:01:22,698-[INFO]- dropbox:474 -> Request to files/upload\n",
      "2022-12-14 16:01:24,666-[INFO]- dropbox:390 -> Refreshing access token.\n",
      "2022-12-14 16:01:24,905-[INFO]- dropbox:474 -> Request to files/upload\n",
      "2022-12-14 16:01:26,171-[INFO]- dropbox:390 -> Refreshing access token.\n",
      "2022-12-14 16:01:26,577-[INFO]- dropbox:474 -> Request to files/upload\n",
      "2022-12-14 16:01:28,674-[INFO]- dropbox:390 -> Refreshing access token.\n",
      "2022-12-14 16:01:28,917-[INFO]- dropbox:474 -> Request to files/upload\n",
      "2022-12-14 16:01:31,063-[INFO]- dropbox:390 -> Refreshing access token.\n",
      "2022-12-14 16:01:31,417-[INFO]- dropbox:474 -> Request to files/upload\n",
      "2022-12-14 16:01:32,972-[INFO]- dropbox:390 -> Refreshing access token.\n",
      "2022-12-14 16:01:33,214-[INFO]- dropbox:474 -> Request to files/upload\n",
      "2022-12-14 16:01:34,604-[INFO]- dropbox:390 -> Refreshing access token.\n",
      "2022-12-14 16:01:34,850-[INFO]- dropbox:474 -> Request to files/upload\n",
      "2022-12-14 16:01:36,837-[INFO]- dropbox:390 -> Refreshing access token.\n",
      "2022-12-14 16:01:37,112-[INFO]- dropbox:474 -> Request to files/upload\n",
      "2022-12-14 16:01:38,833-[INFO]- dropbox:390 -> Refreshing access token.\n",
      "2022-12-14 16:01:39,251-[INFO]- dropbox:474 -> Request to files/upload\n",
      "2022-12-14 16:01:44,720-[INFO]- dropbox:390 -> Refreshing access token.\n",
      "2022-12-14 16:01:44,959-[INFO]- dropbox:474 -> Request to files/upload\n"
     ]
    },
    {
     "data": {
      "application/vnd.jupyter.widget-view+json": {
       "model_id": "a874a42bcfee4b35871a5d765aac6c71",
       "version_major": 2,
       "version_minor": 0
      },
      "text/plain": [
       "Uploaded:   0%|          | 0/4261378 [00:00<?, ?it/s]"
      ]
     },
     "metadata": {},
     "output_type": "display_data"
    },
    {
     "name": "stdout",
     "output_type": "stream",
     "text": [
      "2022-12-14 16:01:46,994-[INFO]- dropbox:390 -> Refreshing access token.\n",
      "2022-12-14 16:01:47,237-[INFO]- dropbox:474 -> Request to files/upload_session/start\n",
      "2022-12-14 16:01:48,482-[INFO]- dropbox:474 -> Request to files/upload_session/finish\n"
     ]
    },
    {
     "data": {
      "application/vnd.jupyter.widget-view+json": {
       "model_id": "53b25d28c83e4a48a6174930c3e596a8",
       "version_major": 2,
       "version_minor": 0
      },
      "text/plain": [
       "Uploaded:   0%|          | 0/4200688 [00:00<?, ?it/s]"
      ]
     },
     "metadata": {},
     "output_type": "display_data"
    },
    {
     "name": "stdout",
     "output_type": "stream",
     "text": [
      "2022-12-14 16:01:50,069-[INFO]- dropbox:390 -> Refreshing access token.\n",
      "2022-12-14 16:01:50,374-[INFO]- dropbox:474 -> Request to files/upload_session/start\n",
      "2022-12-14 16:01:51,564-[INFO]- dropbox:474 -> Request to files/upload_session/finish\n",
      "2022-12-14 16:01:53,433-[INFO]- dropbox:390 -> Refreshing access token.\n",
      "2022-12-14 16:01:53,726-[INFO]- dropbox:474 -> Request to files/upload\n",
      "2022-12-14 16:01:55,146-[INFO]- dropbox:390 -> Refreshing access token.\n",
      "2022-12-14 16:01:55,401-[INFO]- dropbox:474 -> Request to files/upload\n",
      "2022-12-14 16:01:57,320-[INFO]- dropbox:390 -> Refreshing access token.\n",
      "2022-12-14 16:01:57,566-[INFO]- dropbox:474 -> Request to files/upload\n",
      "2022-12-14 16:01:59,471-[INFO]- dropbox:390 -> Refreshing access token.\n",
      "2022-12-14 16:01:59,692-[INFO]- dropbox:474 -> Request to files/upload\n",
      "2022-12-14 16:02:01,186-[INFO]- dropbox:390 -> Refreshing access token.\n",
      "2022-12-14 16:02:01,455-[INFO]- dropbox:474 -> Request to files/upload\n",
      "2022-12-14 16:02:03,228-[INFO]- dropbox:390 -> Refreshing access token.\n",
      "2022-12-14 16:02:03,506-[INFO]- dropbox:474 -> Request to files/upload\n",
      "2022-12-14 16:02:05,102-[INFO]- dropbox:390 -> Refreshing access token.\n",
      "2022-12-14 16:02:05,354-[INFO]- dropbox:474 -> Request to files/upload\n",
      "2022-12-14 16:02:07,217-[INFO]- dropbox:390 -> Refreshing access token.\n",
      "2022-12-14 16:02:07,477-[INFO]- dropbox:474 -> Request to files/upload\n",
      "2022-12-14 16:02:10,241-[INFO]- dropbox:390 -> Refreshing access token.\n",
      "2022-12-14 16:02:10,482-[INFO]- dropbox:474 -> Request to files/upload\n",
      "2022-12-14 16:02:12,111-[INFO]- dropbox:390 -> Refreshing access token.\n",
      "2022-12-14 16:02:13,266-[INFO]- dropbox:474 -> Request to files/upload\n",
      "2022-12-14 16:02:15,518-[INFO]- dropbox:390 -> Refreshing access token.\n",
      "2022-12-14 16:02:15,815-[INFO]- dropbox:474 -> Request to files/upload\n",
      "2022-12-14 16:02:17,152-[INFO]- dropbox:390 -> Refreshing access token.\n",
      "2022-12-14 16:02:17,391-[INFO]- dropbox:474 -> Request to files/upload\n",
      "2022-12-14 16:02:19,406-[INFO]- dropbox:390 -> Refreshing access token.\n",
      "2022-12-14 16:02:19,698-[INFO]- dropbox:474 -> Request to files/upload\n",
      "2022-12-14 16:02:21,918-[INFO]- dropbox:390 -> Refreshing access token.\n",
      "2022-12-14 16:02:22,164-[INFO]- dropbox:474 -> Request to files/upload\n",
      "2022-12-14 16:02:24,818-[INFO]- dropbox:390 -> Refreshing access token.\n",
      "2022-12-14 16:02:25,145-[INFO]- dropbox:474 -> Request to files/upload\n",
      "2022-12-14 16:02:26,580-[INFO]- dropbox:390 -> Refreshing access token.\n",
      "2022-12-14 16:02:26,801-[INFO]- dropbox:474 -> Request to files/upload\n",
      "2022-12-14 16:02:29,020-[INFO]- dropbox:390 -> Refreshing access token.\n",
      "2022-12-14 16:02:29,267-[INFO]- dropbox:474 -> Request to files/upload\n",
      "2022-12-14 16:02:30,702-[INFO]- dropbox:390 -> Refreshing access token.\n",
      "2022-12-14 16:02:30,988-[INFO]- dropbox:474 -> Request to files/upload\n",
      "2022-12-14 16:02:32,538-[INFO]- dropbox:390 -> Refreshing access token.\n",
      "2022-12-14 16:02:32,854-[INFO]- dropbox:474 -> Request to files/upload\n",
      "2022-12-14 16:02:34,300-[INFO]- dropbox:390 -> Refreshing access token.\n",
      "2022-12-14 16:02:34,549-[INFO]- dropbox:474 -> Request to files/upload\n",
      "2022-12-14 16:02:36,293-[INFO]- dropbox:390 -> Refreshing access token.\n",
      "2022-12-14 16:02:36,544-[INFO]- dropbox:474 -> Request to files/upload\n",
      "2022-12-14 16:02:38,117-[INFO]- dropbox:390 -> Refreshing access token.\n",
      "2022-12-14 16:02:38,360-[INFO]- dropbox:474 -> Request to files/upload\n",
      "2022-12-14 16:02:39,844-[INFO]- dropbox:390 -> Refreshing access token.\n",
      "2022-12-14 16:02:40,241-[INFO]- dropbox:474 -> Request to files/upload\n",
      "2022-12-14 16:02:42,029-[INFO]- dropbox:390 -> Refreshing access token.\n",
      "2022-12-14 16:02:42,297-[INFO]- dropbox:474 -> Request to files/upload\n",
      "2022-12-14 16:02:44,355-[INFO]- dropbox:390 -> Refreshing access token.\n",
      "2022-12-14 16:02:44,595-[INFO]- dropbox:474 -> Request to files/upload\n",
      "2022-12-14 16:02:46,321-[INFO]- dropbox:390 -> Refreshing access token.\n",
      "2022-12-14 16:02:46,564-[INFO]- dropbox:474 -> Request to files/upload\n",
      "2022-12-14 16:02:48,368-[INFO]- dropbox:390 -> Refreshing access token.\n",
      "2022-12-14 16:02:48,805-[INFO]- dropbox:474 -> Request to files/upload\n",
      "2022-12-14 16:02:50,448-[INFO]- dropbox:390 -> Refreshing access token.\n",
      "2022-12-14 16:02:50,708-[INFO]- dropbox:474 -> Request to files/upload\n",
      "2022-12-14 16:02:53,229-[INFO]- dropbox:390 -> Refreshing access token.\n",
      "2022-12-14 16:02:53,476-[INFO]- dropbox:474 -> Request to files/upload\n",
      "2022-12-14 16:02:55,402-[INFO]- dropbox:390 -> Refreshing access token.\n",
      "2022-12-14 16:02:55,670-[INFO]- dropbox:474 -> Request to files/upload\n",
      "2022-12-14 16:02:56,973-[INFO]- dropbox:390 -> Refreshing access token.\n",
      "2022-12-14 16:02:57,302-[INFO]- dropbox:474 -> Request to files/upload\n",
      "2022-12-14 16:02:58,980-[INFO]- dropbox:390 -> Refreshing access token.\n",
      "2022-12-14 16:02:59,209-[INFO]- dropbox:474 -> Request to files/upload\n",
      "2022-12-14 16:03:01,041-[INFO]- dropbox:390 -> Refreshing access token.\n",
      "2022-12-14 16:03:01,520-[INFO]- dropbox:474 -> Request to files/upload\n",
      "2022-12-14 16:03:03,438-[INFO]- dropbox:390 -> Refreshing access token.\n",
      "2022-12-14 16:03:03,738-[INFO]- dropbox:474 -> Request to files/upload\n",
      "2022-12-14 16:03:05,414-[INFO]- dropbox:390 -> Refreshing access token.\n",
      "2022-12-14 16:03:05,778-[INFO]- dropbox:474 -> Request to files/upload\n",
      "2022-12-14 16:03:07,707-[INFO]- dropbox:390 -> Refreshing access token.\n",
      "2022-12-14 16:03:07,951-[INFO]- dropbox:474 -> Request to files/upload\n",
      "2022-12-14 16:03:09,749-[INFO]- dropbox:390 -> Refreshing access token.\n",
      "2022-12-14 16:03:10,095-[INFO]- dropbox:474 -> Request to files/upload\n",
      "2022-12-14 16:03:11,590-[INFO]- dropbox:390 -> Refreshing access token.\n",
      "2022-12-14 16:03:11,847-[INFO]- dropbox:474 -> Request to files/upload\n",
      "2022-12-14 16:03:14,118-[INFO]- dropbox:390 -> Refreshing access token.\n",
      "2022-12-14 16:03:14,415-[INFO]- dropbox:474 -> Request to files/upload\n",
      "2022-12-14 16:03:16,377-[INFO]- dropbox:390 -> Refreshing access token.\n",
      "2022-12-14 16:03:16,665-[INFO]- dropbox:474 -> Request to files/upload\n",
      "2022-12-14 16:03:18,692-[INFO]- dropbox:390 -> Refreshing access token.\n",
      "2022-12-14 16:03:18,960-[INFO]- dropbox:474 -> Request to files/upload\n",
      "2022-12-14 16:03:21,708-[INFO]- dropbox:390 -> Refreshing access token.\n",
      "2022-12-14 16:03:23,491-[INFO]- dropbox:474 -> Request to files/upload\n",
      "2022-12-14 16:03:25,280-[INFO]- dropbox:390 -> Refreshing access token.\n",
      "2022-12-14 16:03:25,501-[INFO]- dropbox:474 -> Request to files/upload\n"
     ]
    },
    {
     "data": {
      "application/vnd.jupyter.widget-view+json": {
       "model_id": "8b62393dceae49fe9c55d22b349d1b09",
       "version_major": 2,
       "version_minor": 0
      },
      "text/plain": [
       "Uploaded:   0%|          | 0/4201347 [00:00<?, ?it/s]"
      ]
     },
     "metadata": {},
     "output_type": "display_data"
    },
    {
     "name": "stdout",
     "output_type": "stream",
     "text": [
      "2022-12-14 16:03:27,430-[INFO]- dropbox:390 -> Refreshing access token.\n",
      "2022-12-14 16:03:27,677-[INFO]- dropbox:474 -> Request to files/upload_session/start\n",
      "2022-12-14 16:03:28,605-[INFO]- dropbox:474 -> Request to files/upload_session/finish\n",
      "2022-12-14 16:03:31,508-[INFO]- dropbox:390 -> Refreshing access token.\n",
      "2022-12-14 16:03:31,752-[INFO]- dropbox:474 -> Request to files/upload\n",
      "2022-12-14 16:03:33,760-[INFO]- dropbox:390 -> Refreshing access token.\n",
      "2022-12-14 16:03:34,044-[INFO]- dropbox:474 -> Request to files/upload\n",
      "2022-12-14 16:03:35,416-[INFO]- dropbox:390 -> Refreshing access token.\n",
      "2022-12-14 16:03:35,700-[INFO]- dropbox:474 -> Request to files/upload\n",
      "2022-12-14 16:03:37,718-[INFO]- dropbox:390 -> Refreshing access token.\n",
      "2022-12-14 16:03:37,976-[INFO]- dropbox:474 -> Request to files/upload\n",
      "2022-12-14 16:03:39,804-[INFO]- dropbox:390 -> Refreshing access token.\n",
      "2022-12-14 16:03:40,095-[INFO]- dropbox:474 -> Request to files/upload\n",
      "2022-12-14 16:03:41,785-[INFO]- dropbox:390 -> Refreshing access token.\n",
      "2022-12-14 16:03:42,095-[INFO]- dropbox:474 -> Request to files/upload\n",
      "2022-12-14 16:03:43,333-[INFO]- dropbox:390 -> Refreshing access token.\n",
      "2022-12-14 16:03:43,577-[INFO]- dropbox:474 -> Request to files/upload\n",
      "2022-12-14 16:03:45,155-[INFO]- dropbox:390 -> Refreshing access token.\n",
      "2022-12-14 16:03:45,427-[INFO]- dropbox:474 -> Request to files/upload\n",
      "2022-12-14 16:03:47,096-[INFO]- dropbox:390 -> Refreshing access token.\n",
      "2022-12-14 16:03:47,425-[INFO]- dropbox:474 -> Request to files/upload\n",
      "2022-12-14 16:03:48,832-[INFO]- dropbox:390 -> Refreshing access token.\n",
      "2022-12-14 16:03:49,076-[INFO]- dropbox:474 -> Request to files/upload\n",
      "2022-12-14 16:03:51,034-[INFO]- dropbox:390 -> Refreshing access token.\n",
      "2022-12-14 16:03:51,291-[INFO]- dropbox:474 -> Request to files/upload\n",
      "2022-12-14 16:03:53,352-[INFO]- dropbox:390 -> Refreshing access token.\n",
      "2022-12-14 16:03:53,592-[INFO]- dropbox:474 -> Request to files/upload\n",
      "2022-12-14 16:03:55,600-[INFO]- dropbox:390 -> Refreshing access token.\n",
      "2022-12-14 16:03:55,862-[INFO]- dropbox:474 -> Request to files/upload\n",
      "2022-12-14 16:03:57,215-[INFO]- dropbox:390 -> Refreshing access token.\n",
      "2022-12-14 16:03:57,487-[INFO]- dropbox:474 -> Request to files/upload\n",
      "2022-12-14 16:04:00,481-[INFO]- dropbox:390 -> Refreshing access token.\n",
      "2022-12-14 16:04:00,733-[INFO]- dropbox:474 -> Request to files/upload\n",
      "2022-12-14 16:04:02,377-[INFO]- dropbox:390 -> Refreshing access token.\n",
      "2022-12-14 16:04:02,632-[INFO]- dropbox:474 -> Request to files/upload\n",
      "2022-12-14 16:04:04,775-[INFO]- dropbox:390 -> Refreshing access token.\n",
      "2022-12-14 16:04:05,316-[INFO]- dropbox:474 -> Request to files/upload\n",
      "2022-12-14 16:04:07,012-[INFO]- dropbox:390 -> Refreshing access token.\n",
      "2022-12-14 16:04:07,282-[INFO]- dropbox:474 -> Request to files/upload\n",
      "2022-12-14 16:04:09,391-[INFO]- dropbox:390 -> Refreshing access token.\n",
      "2022-12-14 16:04:09,681-[INFO]- dropbox:474 -> Request to files/upload\n",
      "2022-12-14 16:04:11,363-[INFO]- dropbox:390 -> Refreshing access token.\n",
      "2022-12-14 16:04:11,616-[INFO]- dropbox:474 -> Request to files/upload\n",
      "2022-12-14 16:04:13,513-[INFO]- dropbox:390 -> Refreshing access token.\n",
      "2022-12-14 16:04:13,749-[INFO]- dropbox:474 -> Request to files/upload\n",
      "2022-12-14 16:04:15,338-[INFO]- dropbox:390 -> Refreshing access token.\n",
      "2022-12-14 16:04:15,651-[INFO]- dropbox:474 -> Request to files/upload\n",
      "2022-12-14 16:04:17,325-[INFO]- dropbox:390 -> Refreshing access token.\n",
      "2022-12-14 16:04:17,622-[INFO]- dropbox:474 -> Request to files/upload\n",
      "2022-12-14 16:04:18,850-[INFO]- dropbox:390 -> Refreshing access token.\n",
      "2022-12-14 16:04:19,097-[INFO]- dropbox:474 -> Request to files/upload\n",
      "2022-12-14 16:04:21,281-[INFO]- dropbox:390 -> Refreshing access token.\n",
      "2022-12-14 16:04:21,516-[INFO]- dropbox:474 -> Request to files/upload\n",
      "DATA/PRINCE\n",
      "2022-12-14 16:04:23,476-[INFO]- dropbox:390 -> Refreshing access token.\n",
      "2022-12-14 16:04:23,716-[INFO]- dropbox:474 -> Request to files/upload\n",
      "2022-12-14 16:04:25,733-[INFO]- dropbox:390 -> Refreshing access token.\n",
      "2022-12-14 16:04:25,975-[INFO]- dropbox:474 -> Request to files/upload\n",
      "2022-12-14 16:04:26,918-[INFO]- dropbox:390 -> Refreshing access token.\n",
      "2022-12-14 16:04:27,225-[INFO]- dropbox:474 -> Request to files/upload\n"
     ]
    },
    {
     "data": {
      "application/vnd.jupyter.widget-view+json": {
       "model_id": "9ec72289b9ae48bf8f0b4e4ce0a048fe",
       "version_major": 2,
       "version_minor": 0
      },
      "text/plain": [
       "Uploaded:   0%|          | 0/75825760 [00:00<?, ?it/s]"
      ]
     },
     "metadata": {},
     "output_type": "display_data"
    },
    {
     "name": "stdout",
     "output_type": "stream",
     "text": [
      "2022-12-14 16:04:28,426-[INFO]- dropbox:390 -> Refreshing access token.\n",
      "2022-12-14 16:04:28,711-[INFO]- dropbox:474 -> Request to files/upload_session/start\n",
      "2022-12-14 16:04:29,747-[INFO]- dropbox:474 -> Request to files/upload_session/append\n",
      "2022-12-14 16:04:30,868-[INFO]- dropbox:474 -> Request to files/upload_session/append\n",
      "2022-12-14 16:04:32,442-[INFO]- dropbox:474 -> Request to files/upload_session/append\n",
      "2022-12-14 16:04:33,937-[INFO]- dropbox:474 -> Request to files/upload_session/append\n",
      "2022-12-14 16:04:35,053-[INFO]- dropbox:474 -> Request to files/upload_session/append\n",
      "2022-12-14 16:04:36,182-[INFO]- dropbox:474 -> Request to files/upload_session/append\n",
      "2022-12-14 16:04:37,359-[INFO]- dropbox:474 -> Request to files/upload_session/append\n",
      "2022-12-14 16:04:38,506-[INFO]- dropbox:474 -> Request to files/upload_session/append\n",
      "2022-12-14 16:04:39,693-[INFO]- dropbox:474 -> Request to files/upload_session/append\n",
      "2022-12-14 16:04:40,831-[INFO]- dropbox:474 -> Request to files/upload_session/append\n",
      "2022-12-14 16:04:41,983-[INFO]- dropbox:474 -> Request to files/upload_session/append\n",
      "2022-12-14 16:04:43,014-[INFO]- dropbox:474 -> Request to files/upload_session/append\n",
      "2022-12-14 16:04:44,090-[INFO]- dropbox:474 -> Request to files/upload_session/append\n",
      "2022-12-14 16:04:45,382-[INFO]- dropbox:474 -> Request to files/upload_session/append\n",
      "2022-12-14 16:04:47,543-[INFO]- dropbox:474 -> Request to files/upload_session/append\n",
      "2022-12-14 16:04:48,591-[INFO]- dropbox:474 -> Request to files/upload_session/append\n",
      "2022-12-14 16:04:49,940-[INFO]- dropbox:474 -> Request to files/upload_session/append\n",
      "2022-12-14 16:04:51,535-[INFO]- dropbox:474 -> Request to files/upload_session/finish\n",
      "2022-12-14 16:04:53,348-[INFO]- dropbox:390 -> Refreshing access token.\n",
      "2022-12-14 16:04:53,607-[INFO]- dropbox:474 -> Request to files/upload\n"
     ]
    },
    {
     "data": {
      "application/vnd.jupyter.widget-view+json": {
       "model_id": "2860d9fa4fc74ed2a6dd50d955515c72",
       "version_major": 2,
       "version_minor": 0
      },
      "text/plain": [
       "Uploaded:   0%|          | 0/6774194 [00:00<?, ?it/s]"
      ]
     },
     "metadata": {},
     "output_type": "display_data"
    },
    {
     "name": "stdout",
     "output_type": "stream",
     "text": [
      "2022-12-14 16:04:54,912-[INFO]- dropbox:390 -> Refreshing access token.\n",
      "2022-12-14 16:04:55,262-[INFO]- dropbox:474 -> Request to files/upload_session/start\n",
      "2022-12-14 16:04:56,477-[INFO]- dropbox:474 -> Request to files/upload_session/finish\n",
      "2022-12-14 16:04:57,932-[INFO]- dropbox:390 -> Refreshing access token.\n",
      "2022-12-14 16:04:58,266-[INFO]- dropbox:474 -> Request to files/upload\n",
      "2022-12-14 16:04:59,826-[INFO]- dropbox:390 -> Refreshing access token.\n",
      "2022-12-14 16:05:00,093-[INFO]- dropbox:474 -> Request to files/upload\n",
      "2022-12-14 16:05:01,988-[INFO]- dropbox:390 -> Refreshing access token.\n",
      "2022-12-14 16:05:02,216-[INFO]- dropbox:474 -> Request to files/upload\n",
      "2022-12-14 16:05:04,213-[INFO]- dropbox:390 -> Refreshing access token.\n",
      "2022-12-14 16:05:04,471-[INFO]- dropbox:474 -> Request to files/upload\n",
      "2022-12-14 16:05:06,009-[INFO]- dropbox:390 -> Refreshing access token.\n",
      "2022-12-14 16:05:06,241-[INFO]- dropbox:474 -> Request to files/upload\n",
      "2022-12-14 16:05:07,494-[INFO]- dropbox:390 -> Refreshing access token.\n",
      "2022-12-14 16:05:07,730-[INFO]- dropbox:474 -> Request to files/upload\n",
      "2022-12-14 16:05:09,186-[INFO]- dropbox:390 -> Refreshing access token.\n",
      "2022-12-14 16:05:09,426-[INFO]- dropbox:474 -> Request to files/upload\n",
      "2022-12-14 16:05:11,702-[INFO]- dropbox:390 -> Refreshing access token.\n",
      "2022-12-14 16:05:12,053-[INFO]- dropbox:474 -> Request to files/upload\n",
      "2022-12-14 16:05:13,393-[INFO]- dropbox:390 -> Refreshing access token.\n",
      "2022-12-14 16:05:14,224-[INFO]- dropbox:474 -> Request to files/upload\n",
      "2022-12-14 16:05:16,327-[INFO]- dropbox:390 -> Refreshing access token.\n",
      "2022-12-14 16:05:16,674-[INFO]- dropbox:474 -> Request to files/upload\n",
      "2022-12-14 16:05:18,707-[INFO]- dropbox:390 -> Refreshing access token.\n",
      "2022-12-14 16:05:18,957-[INFO]- dropbox:474 -> Request to files/upload\n",
      "2022-12-14 16:05:20,452-[INFO]- dropbox:390 -> Refreshing access token.\n",
      "2022-12-14 16:05:20,712-[INFO]- dropbox:474 -> Request to files/upload\n",
      "2022-12-14 16:05:22,274-[INFO]- dropbox:390 -> Refreshing access token.\n",
      "2022-12-14 16:05:22,509-[INFO]- dropbox:474 -> Request to files/upload\n",
      "2022-12-14 16:05:23,906-[INFO]- dropbox:390 -> Refreshing access token.\n",
      "2022-12-14 16:05:24,215-[INFO]- dropbox:474 -> Request to files/upload\n",
      "2022-12-14 16:05:26,669-[INFO]- dropbox:390 -> Refreshing access token.\n",
      "2022-12-14 16:05:26,962-[INFO]- dropbox:474 -> Request to files/upload\n",
      "2022-12-14 16:05:28,824-[INFO]- dropbox:390 -> Refreshing access token.\n",
      "2022-12-14 16:05:29,059-[INFO]- dropbox:474 -> Request to files/upload\n",
      "2022-12-14 16:05:30,524-[INFO]- dropbox:390 -> Refreshing access token.\n",
      "2022-12-14 16:05:30,773-[INFO]- dropbox:474 -> Request to files/upload\n",
      "2022-12-14 16:05:32,791-[INFO]- dropbox:390 -> Refreshing access token.\n",
      "2022-12-14 16:05:33,039-[INFO]- dropbox:474 -> Request to files/upload\n",
      "2022-12-14 16:05:34,716-[INFO]- dropbox:390 -> Refreshing access token.\n",
      "2022-12-14 16:05:34,956-[INFO]- dropbox:474 -> Request to files/upload\n",
      "2022-12-14 16:05:36,469-[INFO]- dropbox:390 -> Refreshing access token.\n",
      "2022-12-14 16:05:36,726-[INFO]- dropbox:474 -> Request to files/upload\n",
      "2022-12-14 16:05:38,095-[INFO]- dropbox:390 -> Refreshing access token.\n",
      "2022-12-14 16:05:38,376-[INFO]- dropbox:474 -> Request to files/upload\n",
      "2022-12-14 16:05:40,103-[INFO]- dropbox:390 -> Refreshing access token.\n",
      "2022-12-14 16:05:40,393-[INFO]- dropbox:474 -> Request to files/upload\n",
      "2022-12-14 16:05:41,975-[INFO]- dropbox:390 -> Refreshing access token.\n",
      "2022-12-14 16:05:42,222-[INFO]- dropbox:474 -> Request to files/upload\n",
      "2022-12-14 16:05:44,002-[INFO]- dropbox:390 -> Refreshing access token.\n",
      "2022-12-14 16:05:44,295-[INFO]- dropbox:474 -> Request to files/upload\n",
      "2022-12-14 16:05:45,986-[INFO]- dropbox:390 -> Refreshing access token.\n",
      "2022-12-14 16:05:46,221-[INFO]- dropbox:474 -> Request to files/upload\n",
      "2022-12-14 16:05:47,818-[INFO]- dropbox:390 -> Refreshing access token.\n",
      "2022-12-14 16:05:48,066-[INFO]- dropbox:474 -> Request to files/upload\n",
      "2022-12-14 16:05:50,306-[INFO]- dropbox:390 -> Refreshing access token.\n",
      "2022-12-14 16:05:50,533-[INFO]- dropbox:474 -> Request to files/upload\n",
      "2022-12-14 16:05:52,288-[INFO]- dropbox:390 -> Refreshing access token.\n",
      "2022-12-14 16:05:52,545-[INFO]- dropbox:474 -> Request to files/upload\n",
      "2022-12-14 16:05:55,109-[INFO]- dropbox:390 -> Refreshing access token.\n",
      "2022-12-14 16:05:55,458-[INFO]- dropbox:474 -> Request to files/upload\n",
      "2022-12-14 16:05:56,777-[INFO]- dropbox:390 -> Refreshing access token.\n",
      "2022-12-14 16:05:57,029-[INFO]- dropbox:474 -> Request to files/upload\n",
      "2022-12-14 16:05:59,022-[INFO]- dropbox:390 -> Refreshing access token.\n",
      "2022-12-14 16:05:59,258-[INFO]- dropbox:474 -> Request to files/upload\n",
      "2022-12-14 16:06:00,849-[INFO]- dropbox:390 -> Refreshing access token.\n",
      "2022-12-14 16:06:01,118-[INFO]- dropbox:474 -> Request to files/upload\n",
      "2022-12-14 16:06:02,892-[INFO]- dropbox:390 -> Refreshing access token.\n",
      "2022-12-14 16:06:03,164-[INFO]- dropbox:474 -> Request to files/upload\n",
      "2022-12-14 16:06:04,617-[INFO]- dropbox:390 -> Refreshing access token.\n",
      "2022-12-14 16:06:04,865-[INFO]- dropbox:474 -> Request to files/upload\n",
      "2022-12-14 16:06:07,482-[INFO]- dropbox:390 -> Refreshing access token.\n",
      "2022-12-14 16:06:07,754-[INFO]- dropbox:474 -> Request to files/upload\n",
      "2022-12-14 16:06:09,321-[INFO]- dropbox:390 -> Refreshing access token.\n",
      "2022-12-14 16:06:09,573-[INFO]- dropbox:474 -> Request to files/upload\n",
      "2022-12-14 16:06:11,600-[INFO]- dropbox:390 -> Refreshing access token.\n",
      "2022-12-14 16:06:11,856-[INFO]- dropbox:474 -> Request to files/upload\n",
      "2022-12-14 16:06:13,833-[INFO]- dropbox:390 -> Refreshing access token.\n",
      "2022-12-14 16:06:14,169-[INFO]- dropbox:474 -> Request to files/upload\n",
      "2022-12-14 16:06:15,564-[INFO]- dropbox:390 -> Refreshing access token.\n",
      "2022-12-14 16:06:15,806-[INFO]- dropbox:474 -> Request to files/upload\n",
      "2022-12-14 16:06:18,218-[INFO]- dropbox:390 -> Refreshing access token.\n",
      "2022-12-14 16:06:18,465-[INFO]- dropbox:474 -> Request to files/upload\n",
      "2022-12-14 16:06:19,847-[INFO]- dropbox:390 -> Refreshing access token.\n",
      "2022-12-14 16:06:20,107-[INFO]- dropbox:474 -> Request to files/upload\n",
      "2022-12-14 16:06:21,884-[INFO]- dropbox:390 -> Refreshing access token.\n",
      "2022-12-14 16:06:22,112-[INFO]- dropbox:474 -> Request to files/upload\n",
      "2022-12-14 16:06:23,733-[INFO]- dropbox:390 -> Refreshing access token.\n",
      "2022-12-14 16:06:24,004-[INFO]- dropbox:474 -> Request to files/upload\n",
      "2022-12-14 16:06:25,469-[INFO]- dropbox:390 -> Refreshing access token.\n",
      "2022-12-14 16:06:25,720-[INFO]- dropbox:474 -> Request to files/upload\n",
      "2022-12-14 16:06:27,202-[INFO]- dropbox:390 -> Refreshing access token.\n",
      "2022-12-14 16:06:27,465-[INFO]- dropbox:474 -> Request to files/upload\n",
      "2022-12-14 16:06:29,168-[INFO]- dropbox:390 -> Refreshing access token.\n",
      "2022-12-14 16:06:29,495-[INFO]- dropbox:474 -> Request to files/upload\n",
      "2022-12-14 16:06:30,970-[INFO]- dropbox:390 -> Refreshing access token.\n",
      "2022-12-14 16:06:31,205-[INFO]- dropbox:474 -> Request to files/upload\n",
      "2022-12-14 16:06:32,485-[INFO]- dropbox:390 -> Refreshing access token.\n",
      "2022-12-14 16:06:32,743-[INFO]- dropbox:474 -> Request to files/upload\n",
      "2022-12-14 16:06:34,788-[INFO]- dropbox:390 -> Refreshing access token.\n",
      "2022-12-14 16:06:38,827-[INFO]- dropbox:474 -> Request to files/upload\n",
      "2022-12-14 16:06:40,353-[INFO]- dropbox:390 -> Refreshing access token.\n",
      "2022-12-14 16:06:40,588-[INFO]- dropbox:474 -> Request to files/upload\n",
      "2022-12-14 16:06:42,514-[INFO]- dropbox:390 -> Refreshing access token.\n",
      "2022-12-14 16:06:42,804-[INFO]- dropbox:474 -> Request to files/upload\n",
      "2022-12-14 16:06:44,798-[INFO]- dropbox:390 -> Refreshing access token.\n",
      "2022-12-14 16:06:45,053-[INFO]- dropbox:474 -> Request to files/upload\n",
      "2022-12-14 16:06:46,415-[INFO]- dropbox:390 -> Refreshing access token.\n",
      "2022-12-14 16:06:46,735-[INFO]- dropbox:474 -> Request to files/upload\n",
      "2022-12-14 16:06:48,439-[INFO]- dropbox:390 -> Refreshing access token.\n",
      "2022-12-14 16:06:48,709-[INFO]- dropbox:474 -> Request to files/upload\n",
      "2022-12-14 16:06:50,528-[INFO]- dropbox:390 -> Refreshing access token.\n",
      "2022-12-14 16:06:50,808-[INFO]- dropbox:474 -> Request to files/upload\n",
      "2022-12-14 16:06:52,532-[INFO]- dropbox:390 -> Refreshing access token.\n",
      "2022-12-14 16:06:52,842-[INFO]- dropbox:474 -> Request to files/upload\n",
      "2022-12-14 16:06:54,754-[INFO]- dropbox:390 -> Refreshing access token.\n",
      "2022-12-14 16:06:55,044-[INFO]- dropbox:474 -> Request to files/upload\n",
      "2022-12-14 16:06:56,575-[INFO]- dropbox:390 -> Refreshing access token.\n",
      "2022-12-14 16:06:56,806-[INFO]- dropbox:474 -> Request to files/upload\n",
      "2022-12-14 16:06:58,688-[INFO]- dropbox:390 -> Refreshing access token.\n",
      "2022-12-14 16:06:58,918-[INFO]- dropbox:474 -> Request to files/upload\n",
      "2022-12-14 16:07:00,864-[INFO]- dropbox:390 -> Refreshing access token.\n",
      "2022-12-14 16:07:01,179-[INFO]- dropbox:474 -> Request to files/upload\n",
      "2022-12-14 16:07:03,468-[INFO]- dropbox:390 -> Refreshing access token.\n",
      "2022-12-14 16:07:03,701-[INFO]- dropbox:474 -> Request to files/upload\n",
      "2022-12-14 16:07:05,256-[INFO]- dropbox:390 -> Refreshing access token.\n",
      "2022-12-14 16:07:05,496-[INFO]- dropbox:474 -> Request to files/upload\n",
      "2022-12-14 16:07:06,949-[INFO]- dropbox:390 -> Refreshing access token.\n",
      "2022-12-14 16:07:07,210-[INFO]- dropbox:474 -> Request to files/upload\n",
      "2022-12-14 16:07:08,808-[INFO]- dropbox:390 -> Refreshing access token.\n",
      "2022-12-14 16:07:09,045-[INFO]- dropbox:474 -> Request to files/upload\n",
      "2022-12-14 16:07:10,628-[INFO]- dropbox:390 -> Refreshing access token.\n",
      "2022-12-14 16:07:10,875-[INFO]- dropbox:474 -> Request to files/upload\n",
      "2022-12-14 16:07:12,342-[INFO]- dropbox:390 -> Refreshing access token.\n",
      "2022-12-14 16:07:12,607-[INFO]- dropbox:474 -> Request to files/upload\n",
      "2022-12-14 16:07:14,638-[INFO]- dropbox:390 -> Refreshing access token.\n",
      "2022-12-14 16:07:14,920-[INFO]- dropbox:474 -> Request to files/upload\n",
      "2022-12-14 16:07:16,742-[INFO]- dropbox:390 -> Refreshing access token.\n",
      "2022-12-14 16:07:16,991-[INFO]- dropbox:474 -> Request to files/upload\n",
      "2022-12-14 16:07:18,428-[INFO]- dropbox:390 -> Refreshing access token.\n",
      "2022-12-14 16:07:18,687-[INFO]- dropbox:474 -> Request to files/upload\n",
      "2022-12-14 16:07:20,041-[INFO]- dropbox:390 -> Refreshing access token.\n",
      "2022-12-14 16:07:20,346-[INFO]- dropbox:474 -> Request to files/upload\n",
      "2022-12-14 16:07:22,315-[INFO]- dropbox:390 -> Refreshing access token.\n",
      "2022-12-14 16:07:22,603-[INFO]- dropbox:474 -> Request to files/upload\n",
      "2022-12-14 16:07:24,822-[INFO]- dropbox:390 -> Refreshing access token.\n",
      "2022-12-14 16:07:25,086-[INFO]- dropbox:474 -> Request to files/upload\n",
      "2022-12-14 16:07:27,213-[INFO]- dropbox:390 -> Refreshing access token.\n",
      "2022-12-14 16:07:27,458-[INFO]- dropbox:474 -> Request to files/upload\n",
      "2022-12-14 16:07:29,122-[INFO]- dropbox:390 -> Refreshing access token.\n",
      "2022-12-14 16:07:29,378-[INFO]- dropbox:474 -> Request to files/upload\n",
      "2022-12-14 16:07:31,096-[INFO]- dropbox:390 -> Refreshing access token.\n",
      "2022-12-14 16:07:31,349-[INFO]- dropbox:474 -> Request to files/upload\n",
      "2022-12-14 16:07:32,782-[INFO]- dropbox:390 -> Refreshing access token.\n",
      "2022-12-14 16:07:33,137-[INFO]- dropbox:474 -> Request to files/upload\n",
      "2022-12-14 16:07:34,936-[INFO]- dropbox:390 -> Refreshing access token.\n",
      "2022-12-14 16:07:35,173-[INFO]- dropbox:474 -> Request to files/upload\n",
      "2022-12-14 16:07:36,837-[INFO]- dropbox:390 -> Refreshing access token.\n",
      "2022-12-14 16:07:37,097-[INFO]- dropbox:474 -> Request to files/upload\n",
      "2022-12-14 16:07:38,633-[INFO]- dropbox:390 -> Refreshing access token.\n",
      "2022-12-14 16:07:38,887-[INFO]- dropbox:474 -> Request to files/upload\n",
      "2022-12-14 16:07:40,634-[INFO]- dropbox:390 -> Refreshing access token.\n",
      "2022-12-14 16:07:40,888-[INFO]- dropbox:474 -> Request to files/upload\n",
      "2022-12-14 16:07:42,293-[INFO]- dropbox:390 -> Refreshing access token.\n",
      "2022-12-14 16:07:42,558-[INFO]- dropbox:474 -> Request to files/upload\n",
      "2022-12-14 16:07:43,905-[INFO]- dropbox:390 -> Refreshing access token.\n",
      "2022-12-14 16:07:44,198-[INFO]- dropbox:474 -> Request to files/upload\n",
      "2022-12-14 16:07:46,972-[INFO]- dropbox:390 -> Refreshing access token.\n",
      "2022-12-14 16:07:47,232-[INFO]- dropbox:474 -> Request to files/upload\n",
      "2022-12-14 16:07:48,785-[INFO]- dropbox:390 -> Refreshing access token.\n",
      "2022-12-14 16:07:49,025-[INFO]- dropbox:474 -> Request to files/upload\n",
      "2022-12-14 16:07:50,724-[INFO]- dropbox:390 -> Refreshing access token.\n",
      "2022-12-14 16:07:50,970-[INFO]- dropbox:474 -> Request to files/upload\n",
      "2022-12-14 16:07:52,852-[INFO]- dropbox:390 -> Refreshing access token.\n",
      "2022-12-14 16:07:53,105-[INFO]- dropbox:474 -> Request to files/upload\n",
      "2022-12-14 16:07:54,568-[INFO]- dropbox:390 -> Refreshing access token.\n",
      "2022-12-14 16:07:54,810-[INFO]- dropbox:474 -> Request to files/upload\n",
      "2022-12-14 16:07:56,914-[INFO]- dropbox:390 -> Refreshing access token.\n",
      "2022-12-14 16:07:57,184-[INFO]- dropbox:474 -> Request to files/upload\n",
      "2022-12-14 16:07:58,470-[INFO]- dropbox:390 -> Refreshing access token.\n",
      "2022-12-14 16:07:58,716-[INFO]- dropbox:474 -> Request to files/upload\n",
      "2022-12-14 16:08:00,202-[INFO]- dropbox:390 -> Refreshing access token.\n",
      "2022-12-14 16:08:00,460-[INFO]- dropbox:474 -> Request to files/upload\n",
      "2022-12-14 16:08:01,932-[INFO]- dropbox:390 -> Refreshing access token.\n",
      "2022-12-14 16:08:02,187-[INFO]- dropbox:474 -> Request to files/upload\n",
      "2022-12-14 16:08:04,005-[INFO]- dropbox:390 -> Refreshing access token.\n",
      "2022-12-14 16:08:04,380-[INFO]- dropbox:474 -> Request to files/upload\n",
      "2022-12-14 16:08:06,089-[INFO]- dropbox:390 -> Refreshing access token.\n",
      "2022-12-14 16:08:06,327-[INFO]- dropbox:474 -> Request to files/upload\n",
      "2022-12-14 16:08:07,925-[INFO]- dropbox:390 -> Refreshing access token.\n",
      "2022-12-14 16:08:08,168-[INFO]- dropbox:474 -> Request to files/upload\n",
      "2022-12-14 16:08:09,598-[INFO]- dropbox:390 -> Refreshing access token.\n",
      "2022-12-14 16:08:09,877-[INFO]- dropbox:474 -> Request to files/upload\n",
      "2022-12-14 16:08:11,868-[INFO]- dropbox:390 -> Refreshing access token.\n",
      "2022-12-14 16:08:12,099-[INFO]- dropbox:474 -> Request to files/upload\n",
      "2022-12-14 16:08:13,816-[INFO]- dropbox:390 -> Refreshing access token.\n",
      "2022-12-14 16:08:14,077-[INFO]- dropbox:474 -> Request to files/upload\n",
      "2022-12-14 16:08:15,728-[INFO]- dropbox:390 -> Refreshing access token.\n",
      "2022-12-14 16:08:15,970-[INFO]- dropbox:474 -> Request to files/upload\n",
      "2022-12-14 16:08:17,642-[INFO]- dropbox:390 -> Refreshing access token.\n",
      "2022-12-14 16:08:17,905-[INFO]- dropbox:474 -> Request to files/upload\n",
      "2022-12-14 16:08:19,732-[INFO]- dropbox:390 -> Refreshing access token.\n",
      "2022-12-14 16:08:19,981-[INFO]- dropbox:474 -> Request to files/upload\n",
      "2022-12-14 16:08:21,734-[INFO]- dropbox:390 -> Refreshing access token.\n",
      "2022-12-14 16:08:22,062-[INFO]- dropbox:474 -> Request to files/upload\n",
      "2022-12-14 16:08:23,610-[INFO]- dropbox:390 -> Refreshing access token.\n",
      "2022-12-14 16:08:23,867-[INFO]- dropbox:474 -> Request to files/upload\n",
      "2022-12-14 16:08:25,767-[INFO]- dropbox:390 -> Refreshing access token.\n",
      "2022-12-14 16:08:26,001-[INFO]- dropbox:474 -> Request to files/upload\n",
      "2022-12-14 16:08:27,661-[INFO]- dropbox:390 -> Refreshing access token.\n",
      "2022-12-14 16:08:27,912-[INFO]- dropbox:474 -> Request to files/upload\n",
      "2022-12-14 16:08:29,470-[INFO]- dropbox:390 -> Refreshing access token.\n",
      "2022-12-14 16:08:29,719-[INFO]- dropbox:474 -> Request to files/upload\n",
      "2022-12-14 16:08:31,502-[INFO]- dropbox:390 -> Refreshing access token.\n",
      "2022-12-14 16:08:31,753-[INFO]- dropbox:474 -> Request to files/upload\n",
      "2022-12-14 16:08:33,570-[INFO]- dropbox:390 -> Refreshing access token.\n",
      "2022-12-14 16:08:33,794-[INFO]- dropbox:474 -> Request to files/upload\n",
      "2022-12-14 16:08:35,153-[INFO]- dropbox:390 -> Refreshing access token.\n",
      "2022-12-14 16:08:35,394-[INFO]- dropbox:474 -> Request to files/upload\n",
      "2022-12-14 16:08:36,867-[INFO]- dropbox:390 -> Refreshing access token.\n",
      "2022-12-14 16:08:37,125-[INFO]- dropbox:474 -> Request to files/upload\n",
      "2022-12-14 16:08:38,868-[INFO]- dropbox:390 -> Refreshing access token.\n",
      "2022-12-14 16:08:39,099-[INFO]- dropbox:474 -> Request to files/upload\n",
      "2022-12-14 16:08:40,764-[INFO]- dropbox:390 -> Refreshing access token.\n",
      "2022-12-14 16:08:40,994-[INFO]- dropbox:474 -> Request to files/upload\n",
      "2022-12-14 16:08:43,705-[INFO]- dropbox:390 -> Refreshing access token.\n",
      "2022-12-14 16:08:44,078-[INFO]- dropbox:474 -> Request to files/upload\n",
      "2022-12-14 16:08:45,708-[INFO]- dropbox:390 -> Refreshing access token.\n",
      "2022-12-14 16:08:45,999-[INFO]- dropbox:474 -> Request to files/upload\n",
      "2022-12-14 16:08:47,745-[INFO]- dropbox:390 -> Refreshing access token.\n",
      "2022-12-14 16:08:47,987-[INFO]- dropbox:474 -> Request to files/upload\n",
      "2022-12-14 16:08:49,449-[INFO]- dropbox:390 -> Refreshing access token.\n",
      "2022-12-14 16:08:49,742-[INFO]- dropbox:474 -> Request to files/upload\n",
      "2022-12-14 16:08:51,826-[INFO]- dropbox:390 -> Refreshing access token.\n",
      "2022-12-14 16:08:52,063-[INFO]- dropbox:474 -> Request to files/upload\n",
      "2022-12-14 16:08:53,795-[INFO]- dropbox:390 -> Refreshing access token.\n",
      "2022-12-14 16:08:54,088-[INFO]- dropbox:474 -> Request to files/upload\n",
      "2022-12-14 16:08:56,231-[INFO]- dropbox:390 -> Refreshing access token.\n",
      "2022-12-14 16:08:56,477-[INFO]- dropbox:474 -> Request to files/upload\n",
      "2022-12-14 16:08:57,796-[INFO]- dropbox:390 -> Refreshing access token.\n",
      "2022-12-14 16:08:58,069-[INFO]- dropbox:474 -> Request to files/upload\n",
      "2022-12-14 16:08:59,545-[INFO]- dropbox:390 -> Refreshing access token.\n",
      "2022-12-14 16:08:59,782-[INFO]- dropbox:474 -> Request to files/upload\n",
      "2022-12-14 16:09:01,323-[INFO]- dropbox:390 -> Refreshing access token.\n",
      "2022-12-14 16:09:01,617-[INFO]- dropbox:474 -> Request to files/upload\n",
      "2022-12-14 16:09:03,211-[INFO]- dropbox:390 -> Refreshing access token.\n",
      "2022-12-14 16:09:03,465-[INFO]- dropbox:474 -> Request to files/upload\n",
      "2022-12-14 16:09:04,907-[INFO]- dropbox:390 -> Refreshing access token.\n",
      "2022-12-14 16:09:05,172-[INFO]- dropbox:474 -> Request to files/upload\n",
      "2022-12-14 16:09:07,013-[INFO]- dropbox:390 -> Refreshing access token.\n",
      "2022-12-14 16:09:07,293-[INFO]- dropbox:474 -> Request to files/upload\n",
      "2022-12-14 16:09:09,234-[INFO]- dropbox:390 -> Refreshing access token.\n",
      "2022-12-14 16:09:09,468-[INFO]- dropbox:474 -> Request to files/upload\n",
      "2022-12-14 16:09:10,972-[INFO]- dropbox:390 -> Refreshing access token.\n",
      "2022-12-14 16:09:11,222-[INFO]- dropbox:474 -> Request to files/upload\n",
      "2022-12-14 16:09:12,516-[INFO]- dropbox:390 -> Refreshing access token.\n",
      "2022-12-14 16:09:12,756-[INFO]- dropbox:474 -> Request to files/upload\n",
      "2022-12-14 16:09:14,492-[INFO]- dropbox:390 -> Refreshing access token.\n",
      "2022-12-14 16:09:14,733-[INFO]- dropbox:474 -> Request to files/upload\n",
      "2022-12-14 16:09:16,161-[INFO]- dropbox:390 -> Refreshing access token.\n",
      "2022-12-14 16:09:16,419-[INFO]- dropbox:474 -> Request to files/upload\n",
      "2022-12-14 16:09:18,248-[INFO]- dropbox:390 -> Refreshing access token.\n",
      "2022-12-14 16:09:18,550-[INFO]- dropbox:474 -> Request to files/upload\n",
      "2022-12-14 16:09:20,352-[INFO]- dropbox:390 -> Refreshing access token.\n",
      "2022-12-14 16:09:20,622-[INFO]- dropbox:474 -> Request to files/upload\n",
      "2022-12-14 16:09:22,009-[INFO]- dropbox:390 -> Refreshing access token.\n",
      "2022-12-14 16:09:22,409-[INFO]- dropbox:474 -> Request to files/upload\n",
      "2022-12-14 16:09:24,235-[INFO]- dropbox:390 -> Refreshing access token.\n",
      "2022-12-14 16:09:24,466-[INFO]- dropbox:474 -> Request to files/upload\n",
      "2022-12-14 16:09:26,020-[INFO]- dropbox:390 -> Refreshing access token.\n",
      "2022-12-14 16:09:26,251-[INFO]- dropbox:474 -> Request to files/upload\n",
      "2022-12-14 16:09:27,594-[INFO]- dropbox:390 -> Refreshing access token.\n",
      "2022-12-14 16:09:27,857-[INFO]- dropbox:474 -> Request to files/upload\n",
      "2022-12-14 16:09:29,846-[INFO]- dropbox:390 -> Refreshing access token.\n",
      "2022-12-14 16:09:30,086-[INFO]- dropbox:474 -> Request to files/upload\n",
      "2022-12-14 16:09:31,459-[INFO]- dropbox:390 -> Refreshing access token.\n",
      "2022-12-14 16:09:31,716-[INFO]- dropbox:474 -> Request to files/upload\n",
      "2022-12-14 16:09:33,234-[INFO]- dropbox:390 -> Refreshing access token.\n",
      "2022-12-14 16:09:33,492-[INFO]- dropbox:474 -> Request to files/upload\n",
      "2022-12-14 16:09:35,307-[INFO]- dropbox:390 -> Refreshing access token.\n",
      "2022-12-14 16:09:35,635-[INFO]- dropbox:474 -> Request to files/upload\n",
      "2022-12-14 16:09:37,113-[INFO]- dropbox:390 -> Refreshing access token.\n",
      "2022-12-14 16:09:37,348-[INFO]- dropbox:474 -> Request to files/upload\n",
      "2022-12-14 16:09:38,860-[INFO]- dropbox:390 -> Refreshing access token.\n",
      "2022-12-14 16:09:39,092-[INFO]- dropbox:474 -> Request to files/upload\n",
      "2022-12-14 16:09:40,548-[INFO]- dropbox:390 -> Refreshing access token.\n",
      "2022-12-14 16:09:40,788-[INFO]- dropbox:474 -> Request to files/upload\n",
      "2022-12-14 16:09:42,614-[INFO]- dropbox:390 -> Refreshing access token.\n",
      "2022-12-14 16:09:42,877-[INFO]- dropbox:474 -> Request to files/upload\n",
      "2022-12-14 16:09:44,575-[INFO]- dropbox:390 -> Refreshing access token.\n",
      "2022-12-14 16:09:44,847-[INFO]- dropbox:474 -> Request to files/upload\n",
      "2022-12-14 16:09:46,349-[INFO]- dropbox:390 -> Refreshing access token.\n",
      "2022-12-14 16:09:46,598-[INFO]- dropbox:474 -> Request to files/upload\n",
      "2022-12-14 16:09:48,511-[INFO]- dropbox:390 -> Refreshing access token.\n",
      "2022-12-14 16:09:48,744-[INFO]- dropbox:474 -> Request to files/upload\n",
      "2022-12-14 16:09:50,202-[INFO]- dropbox:390 -> Refreshing access token.\n",
      "2022-12-14 16:09:50,456-[INFO]- dropbox:474 -> Request to files/upload\n",
      "2022-12-14 16:09:52,068-[INFO]- dropbox:390 -> Refreshing access token.\n",
      "2022-12-14 16:09:52,318-[INFO]- dropbox:474 -> Request to files/upload\n",
      "2022-12-14 16:09:53,981-[INFO]- dropbox:390 -> Refreshing access token.\n",
      "2022-12-14 16:09:54,210-[INFO]- dropbox:474 -> Request to files/upload\n",
      "2022-12-14 16:09:55,836-[INFO]- dropbox:390 -> Refreshing access token.\n",
      "2022-12-14 16:09:56,085-[INFO]- dropbox:474 -> Request to files/upload\n",
      "2022-12-14 16:09:58,566-[INFO]- dropbox:390 -> Refreshing access token.\n",
      "2022-12-14 16:09:58,829-[INFO]- dropbox:474 -> Request to files/upload\n",
      "2022-12-14 16:10:00,697-[INFO]- dropbox:390 -> Refreshing access token.\n",
      "2022-12-14 16:10:00,957-[INFO]- dropbox:474 -> Request to files/upload\n",
      "2022-12-14 16:10:02,290-[INFO]- dropbox:390 -> Refreshing access token.\n",
      "2022-12-14 16:10:02,527-[INFO]- dropbox:474 -> Request to files/upload\n",
      "2022-12-14 16:10:04,414-[INFO]- dropbox:390 -> Refreshing access token.\n",
      "2022-12-14 16:10:04,685-[INFO]- dropbox:474 -> Request to files/upload\n",
      "2022-12-14 16:10:05,908-[INFO]- dropbox:390 -> Refreshing access token.\n",
      "2022-12-14 16:10:07,824-[INFO]- dropbox:474 -> Request to files/upload\n",
      "2022-12-14 16:10:09,355-[INFO]- dropbox:390 -> Refreshing access token.\n",
      "2022-12-14 16:10:09,730-[INFO]- dropbox:474 -> Request to files/upload\n",
      "2022-12-14 16:10:11,311-[INFO]- dropbox:390 -> Refreshing access token.\n",
      "2022-12-14 16:10:11,549-[INFO]- dropbox:474 -> Request to files/upload\n",
      "2022-12-14 16:10:13,035-[INFO]- dropbox:390 -> Refreshing access token.\n",
      "2022-12-14 16:10:13,293-[INFO]- dropbox:474 -> Request to files/upload\n",
      "2022-12-14 16:10:14,774-[INFO]- dropbox:390 -> Refreshing access token.\n",
      "2022-12-14 16:10:15,047-[INFO]- dropbox:474 -> Request to files/upload\n",
      "2022-12-14 16:10:16,329-[INFO]- dropbox:390 -> Refreshing access token.\n",
      "2022-12-14 16:10:16,611-[INFO]- dropbox:474 -> Request to files/upload\n",
      "2022-12-14 16:10:18,591-[INFO]- dropbox:390 -> Refreshing access token.\n",
      "2022-12-14 16:10:18,831-[INFO]- dropbox:474 -> Request to files/upload\n",
      "2022-12-14 16:10:20,226-[INFO]- dropbox:390 -> Refreshing access token.\n",
      "2022-12-14 16:10:20,467-[INFO]- dropbox:474 -> Request to files/upload\n",
      "2022-12-14 16:10:21,731-[INFO]- dropbox:390 -> Refreshing access token.\n",
      "2022-12-14 16:10:22,019-[INFO]- dropbox:474 -> Request to files/upload\n",
      "2022-12-14 16:10:23,617-[INFO]- dropbox:390 -> Refreshing access token.\n",
      "2022-12-14 16:10:23,847-[INFO]- dropbox:474 -> Request to files/upload\n",
      "2022-12-14 16:10:25,187-[INFO]- dropbox:390 -> Refreshing access token.\n",
      "2022-12-14 16:10:25,437-[INFO]- dropbox:474 -> Request to files/upload\n",
      "2022-12-14 16:10:27,180-[INFO]- dropbox:390 -> Refreshing access token.\n",
      "2022-12-14 16:10:27,419-[INFO]- dropbox:474 -> Request to files/upload\n",
      "2022-12-14 16:10:29,251-[INFO]- dropbox:390 -> Refreshing access token.\n",
      "2022-12-14 16:10:29,483-[INFO]- dropbox:474 -> Request to files/upload\n",
      "2022-12-14 16:10:31,443-[INFO]- dropbox:390 -> Refreshing access token.\n",
      "2022-12-14 16:10:31,681-[INFO]- dropbox:474 -> Request to files/upload\n",
      "2022-12-14 16:10:33,517-[INFO]- dropbox:390 -> Refreshing access token.\n",
      "2022-12-14 16:10:33,793-[INFO]- dropbox:474 -> Request to files/upload\n",
      "2022-12-14 16:10:35,170-[INFO]- dropbox:390 -> Refreshing access token.\n",
      "2022-12-14 16:10:35,438-[INFO]- dropbox:474 -> Request to files/upload\n",
      "2022-12-14 16:10:37,006-[INFO]- dropbox:390 -> Refreshing access token.\n",
      "2022-12-14 16:10:37,274-[INFO]- dropbox:474 -> Request to files/upload\n",
      "2022-12-14 16:10:38,840-[INFO]- dropbox:390 -> Refreshing access token.\n",
      "2022-12-14 16:10:39,097-[INFO]- dropbox:474 -> Request to files/upload\n",
      "2022-12-14 16:10:40,986-[INFO]- dropbox:390 -> Refreshing access token.\n",
      "2022-12-14 16:10:41,249-[INFO]- dropbox:474 -> Request to files/upload\n",
      "2022-12-14 16:10:43,231-[INFO]- dropbox:390 -> Refreshing access token.\n",
      "2022-12-14 16:10:43,500-[INFO]- dropbox:474 -> Request to files/upload\n",
      "2022-12-14 16:10:45,146-[INFO]- dropbox:390 -> Refreshing access token.\n",
      "2022-12-14 16:10:45,380-[INFO]- dropbox:474 -> Request to files/upload\n",
      "2022-12-14 16:10:46,698-[INFO]- dropbox:390 -> Refreshing access token.\n",
      "2022-12-14 16:10:46,955-[INFO]- dropbox:474 -> Request to files/upload\n",
      "2022-12-14 16:10:49,025-[INFO]- dropbox:390 -> Refreshing access token.\n",
      "2022-12-14 16:10:49,264-[INFO]- dropbox:474 -> Request to files/upload\n",
      "2022-12-14 16:10:51,086-[INFO]- dropbox:390 -> Refreshing access token.\n",
      "2022-12-14 16:10:51,326-[INFO]- dropbox:474 -> Request to files/upload\n",
      "2022-12-14 16:10:52,867-[INFO]- dropbox:390 -> Refreshing access token.\n",
      "2022-12-14 16:10:53,226-[INFO]- dropbox:474 -> Request to files/upload\n",
      "2022-12-14 16:10:54,666-[INFO]- dropbox:390 -> Refreshing access token.\n",
      "2022-12-14 16:10:54,902-[INFO]- dropbox:474 -> Request to files/upload\n",
      "2022-12-14 16:10:56,528-[INFO]- dropbox:390 -> Refreshing access token.\n",
      "2022-12-14 16:10:56,765-[INFO]- dropbox:474 -> Request to files/upload\n",
      "2022-12-14 16:10:58,782-[INFO]- dropbox:390 -> Refreshing access token.\n",
      "2022-12-14 16:10:59,020-[INFO]- dropbox:474 -> Request to files/upload\n",
      "2022-12-14 16:11:00,605-[INFO]- dropbox:390 -> Refreshing access token.\n",
      "2022-12-14 16:11:00,863-[INFO]- dropbox:474 -> Request to files/upload\n",
      "2022-12-14 16:11:02,473-[INFO]- dropbox:390 -> Refreshing access token.\n",
      "2022-12-14 16:11:02,711-[INFO]- dropbox:474 -> Request to files/upload\n",
      "2022-12-14 16:11:05,045-[INFO]- dropbox:390 -> Refreshing access token.\n",
      "2022-12-14 16:11:05,286-[INFO]- dropbox:474 -> Request to files/upload\n",
      "2022-12-14 16:11:07,100-[INFO]- dropbox:390 -> Refreshing access token.\n",
      "2022-12-14 16:11:07,340-[INFO]- dropbox:474 -> Request to files/upload\n",
      "2022-12-14 16:11:08,961-[INFO]- dropbox:390 -> Refreshing access token.\n",
      "2022-12-14 16:11:09,184-[INFO]- dropbox:474 -> Request to files/upload\n",
      "2022-12-14 16:11:10,913-[INFO]- dropbox:390 -> Refreshing access token.\n",
      "2022-12-14 16:11:11,161-[INFO]- dropbox:474 -> Request to files/upload\n",
      "2022-12-14 16:11:12,822-[INFO]- dropbox:390 -> Refreshing access token.\n",
      "2022-12-14 16:11:13,100-[INFO]- dropbox:474 -> Request to files/upload\n",
      "2022-12-14 16:11:14,688-[INFO]- dropbox:390 -> Refreshing access token.\n",
      "2022-12-14 16:11:14,929-[INFO]- dropbox:474 -> Request to files/upload\n",
      "2022-12-14 16:11:16,604-[INFO]- dropbox:390 -> Refreshing access token.\n",
      "2022-12-14 16:11:16,855-[INFO]- dropbox:474 -> Request to files/upload\n",
      "2022-12-14 16:11:18,399-[INFO]- dropbox:390 -> Refreshing access token.\n",
      "2022-12-14 16:11:18,642-[INFO]- dropbox:474 -> Request to files/upload\n",
      "2022-12-14 16:11:20,345-[INFO]- dropbox:390 -> Refreshing access token.\n",
      "2022-12-14 16:11:20,579-[INFO]- dropbox:474 -> Request to files/upload\n",
      "2022-12-14 16:11:22,103-[INFO]- dropbox:390 -> Refreshing access token.\n",
      "2022-12-14 16:11:22,357-[INFO]- dropbox:474 -> Request to files/upload\n",
      "2022-12-14 16:11:23,764-[INFO]- dropbox:390 -> Refreshing access token.\n",
      "2022-12-14 16:11:24,016-[INFO]- dropbox:474 -> Request to files/upload\n",
      "2022-12-14 16:11:25,496-[INFO]- dropbox:390 -> Refreshing access token.\n",
      "2022-12-14 16:11:25,726-[INFO]- dropbox:474 -> Request to files/upload\n",
      "2022-12-14 16:11:27,365-[INFO]- dropbox:390 -> Refreshing access token.\n",
      "2022-12-14 16:11:27,640-[INFO]- dropbox:474 -> Request to files/upload\n",
      "2022-12-14 16:11:29,460-[INFO]- dropbox:390 -> Refreshing access token.\n",
      "2022-12-14 16:11:29,720-[INFO]- dropbox:474 -> Request to files/upload\n",
      "2022-12-14 16:11:31,143-[INFO]- dropbox:390 -> Refreshing access token.\n",
      "2022-12-14 16:11:31,382-[INFO]- dropbox:474 -> Request to files/upload\n",
      "2022-12-14 16:11:32,749-[INFO]- dropbox:390 -> Refreshing access token.\n",
      "2022-12-14 16:11:33,005-[INFO]- dropbox:474 -> Request to files/upload\n",
      "DATA/PRINCE\n",
      "2022-12-14 16:11:34,685-[INFO]- dropbox:390 -> Refreshing access token.\n",
      "2022-12-14 16:11:34,973-[INFO]- dropbox:474 -> Request to files/upload\n",
      "2022-12-14 16:11:36,593-[INFO]- dropbox:390 -> Refreshing access token.\n",
      "2022-12-14 16:11:36,831-[INFO]- dropbox:474 -> Request to files/upload\n"
     ]
    },
    {
     "data": {
      "application/vnd.jupyter.widget-view+json": {
       "model_id": "b0df085524814af097cf85436ec3ee81",
       "version_major": 2,
       "version_minor": 0
      },
      "text/plain": [
       "Uploaded:   0%|          | 0/190888489 [00:00<?, ?it/s]"
      ]
     },
     "metadata": {},
     "output_type": "display_data"
    },
    {
     "name": "stdout",
     "output_type": "stream",
     "text": [
      "2022-12-14 16:11:38,012-[INFO]- dropbox:390 -> Refreshing access token.\n",
      "2022-12-14 16:11:38,273-[INFO]- dropbox:474 -> Request to files/upload_session/start\n",
      "2022-12-14 16:11:39,462-[INFO]- dropbox:474 -> Request to files/upload_session/append\n",
      "2022-12-14 16:11:40,859-[INFO]- dropbox:474 -> Request to files/upload_session/append\n",
      "2022-12-14 16:11:41,871-[INFO]- dropbox:474 -> Request to files/upload_session/append\n",
      "2022-12-14 16:11:42,988-[INFO]- dropbox:474 -> Request to files/upload_session/append\n",
      "2022-12-14 16:11:44,949-[INFO]- dropbox:474 -> Request to files/upload_session/append\n",
      "2022-12-14 16:11:46,371-[INFO]- dropbox:474 -> Request to files/upload_session/append\n",
      "2022-12-14 16:11:47,713-[INFO]- dropbox:474 -> Request to files/upload_session/append\n",
      "2022-12-14 16:11:49,178-[INFO]- dropbox:474 -> Request to files/upload_session/append\n",
      "2022-12-14 16:11:50,327-[INFO]- dropbox:474 -> Request to files/upload_session/append\n",
      "2022-12-14 16:11:51,675-[INFO]- dropbox:474 -> Request to files/upload_session/append\n",
      "2022-12-14 16:11:52,755-[INFO]- dropbox:474 -> Request to files/upload_session/append\n",
      "2022-12-14 16:11:53,991-[INFO]- dropbox:474 -> Request to files/upload_session/append\n",
      "2022-12-14 16:11:55,040-[INFO]- dropbox:474 -> Request to files/upload_session/append\n",
      "2022-12-14 16:11:56,237-[INFO]- dropbox:474 -> Request to files/upload_session/append\n",
      "2022-12-14 16:11:57,549-[INFO]- dropbox:474 -> Request to files/upload_session/append\n",
      "2022-12-14 16:11:59,159-[INFO]- dropbox:474 -> Request to files/upload_session/append\n",
      "2022-12-14 16:12:00,648-[INFO]- dropbox:474 -> Request to files/upload_session/append\n",
      "2022-12-14 16:12:02,315-[INFO]- dropbox:474 -> Request to files/upload_session/append\n",
      "2022-12-14 16:12:03,783-[INFO]- dropbox:474 -> Request to files/upload_session/append\n",
      "2022-12-14 16:12:05,279-[INFO]- dropbox:474 -> Request to files/upload_session/append\n",
      "2022-12-14 16:12:06,344-[INFO]- dropbox:474 -> Request to files/upload_session/append\n",
      "2022-12-14 16:12:07,471-[INFO]- dropbox:474 -> Request to files/upload_session/append\n",
      "2022-12-14 16:12:08,570-[INFO]- dropbox:474 -> Request to files/upload_session/append\n",
      "2022-12-14 16:12:09,767-[INFO]- dropbox:474 -> Request to files/upload_session/append\n",
      "2022-12-14 16:12:10,885-[INFO]- dropbox:474 -> Request to files/upload_session/append\n",
      "2022-12-14 16:12:11,924-[INFO]- dropbox:474 -> Request to files/upload_session/append\n",
      "2022-12-14 16:12:13,075-[INFO]- dropbox:474 -> Request to files/upload_session/append\n",
      "2022-12-14 16:12:14,176-[INFO]- dropbox:474 -> Request to files/upload_session/append\n",
      "2022-12-14 16:12:15,275-[INFO]- dropbox:474 -> Request to files/upload_session/append\n",
      "2022-12-14 16:12:16,350-[INFO]- dropbox:474 -> Request to files/upload_session/append\n",
      "2022-12-14 16:12:17,495-[INFO]- dropbox:474 -> Request to files/upload_session/append\n",
      "2022-12-14 16:12:18,671-[INFO]- dropbox:474 -> Request to files/upload_session/append\n",
      "2022-12-14 16:12:20,105-[INFO]- dropbox:474 -> Request to files/upload_session/append\n",
      "2022-12-14 16:12:21,228-[INFO]- dropbox:474 -> Request to files/upload_session/append\n",
      "2022-12-14 16:12:22,458-[INFO]- dropbox:474 -> Request to files/upload_session/append\n",
      "2022-12-14 16:12:23,519-[INFO]- dropbox:474 -> Request to files/upload_session/append\n",
      "2022-12-14 16:12:24,669-[INFO]- dropbox:474 -> Request to files/upload_session/append\n",
      "2022-12-14 16:12:25,895-[INFO]- dropbox:474 -> Request to files/upload_session/append\n",
      "2022-12-14 16:12:27,078-[INFO]- dropbox:474 -> Request to files/upload_session/append\n",
      "2022-12-14 16:12:28,197-[INFO]- dropbox:474 -> Request to files/upload_session/append\n",
      "2022-12-14 16:12:29,452-[INFO]- dropbox:474 -> Request to files/upload_session/append\n",
      "2022-12-14 16:12:30,343-[INFO]- dropbox:474 -> Request to files/upload_session/append\n",
      "2022-12-14 16:12:31,462-[INFO]- dropbox:474 -> Request to files/upload_session/append\n",
      "2022-12-14 16:12:32,486-[INFO]- dropbox:474 -> Request to files/upload_session/append\n",
      "2022-12-14 16:12:33,584-[INFO]- dropbox:474 -> Request to files/upload_session/finish\n",
      "2022-12-14 16:12:35,160-[INFO]- dropbox:390 -> Refreshing access token.\n",
      "2022-12-14 16:12:35,433-[INFO]- dropbox:474 -> Request to files/upload\n"
     ]
    },
    {
     "data": {
      "application/vnd.jupyter.widget-view+json": {
       "model_id": "fbf267dc724b47b59e6df84d7de1810d",
       "version_major": 2,
       "version_minor": 0
      },
      "text/plain": [
       "Uploaded:   0%|          | 0/7542460 [00:00<?, ?it/s]"
      ]
     },
     "metadata": {},
     "output_type": "display_data"
    },
    {
     "name": "stdout",
     "output_type": "stream",
     "text": [
      "2022-12-14 16:12:36,787-[INFO]- dropbox:390 -> Refreshing access token.\n",
      "2022-12-14 16:12:37,053-[INFO]- dropbox:474 -> Request to files/upload_session/start\n",
      "2022-12-14 16:12:38,377-[INFO]- dropbox:474 -> Request to files/upload_session/finish\n",
      "DATA/PRINCE\n",
      "2022-12-14 16:12:40,102-[INFO]- dropbox:390 -> Refreshing access token.\n",
      "2022-12-14 16:12:40,349-[INFO]- dropbox:474 -> Request to files/upload\n",
      "2022-12-14 16:12:42,006-[INFO]- dropbox:390 -> Refreshing access token.\n",
      "2022-12-14 16:12:42,251-[INFO]- dropbox:474 -> Request to files/upload\n",
      "2022-12-14 16:12:43,669-[INFO]- dropbox:390 -> Refreshing access token.\n",
      "2022-12-14 16:12:43,956-[INFO]- dropbox:474 -> Request to files/upload\n"
     ]
    },
    {
     "data": {
      "application/vnd.jupyter.widget-view+json": {
       "model_id": "abb3eb39b14a4b69a03dc5a3e2c6064f",
       "version_major": 2,
       "version_minor": 0
      },
      "text/plain": [
       "Uploaded:   0%|          | 0/17095424 [00:00<?, ?it/s]"
      ]
     },
     "metadata": {},
     "output_type": "display_data"
    },
    {
     "name": "stdout",
     "output_type": "stream",
     "text": [
      "2022-12-14 16:12:45,303-[INFO]- dropbox:390 -> Refreshing access token.\n",
      "2022-12-14 16:12:45,578-[INFO]- dropbox:474 -> Request to files/upload_session/start\n",
      "2022-12-14 16:12:46,423-[INFO]- dropbox:474 -> Request to files/upload_session/append\n",
      "2022-12-14 16:12:47,449-[INFO]- dropbox:474 -> Request to files/upload_session/append\n",
      "2022-12-14 16:12:48,546-[INFO]- dropbox:474 -> Request to files/upload_session/append\n",
      "2022-12-14 16:12:49,720-[INFO]- dropbox:474 -> Request to files/upload_session/finish\n"
     ]
    },
    {
     "data": {
      "application/vnd.jupyter.widget-view+json": {
       "model_id": "42f71946e378438a86cbbcb157eb1a04",
       "version_major": 2,
       "version_minor": 0
      },
      "text/plain": [
       "Uploaded:   0%|          | 0/106991014 [00:00<?, ?it/s]"
      ]
     },
     "metadata": {},
     "output_type": "display_data"
    },
    {
     "name": "stdout",
     "output_type": "stream",
     "text": [
      "2022-12-14 16:12:51,235-[INFO]- dropbox:390 -> Refreshing access token.\n",
      "2022-12-14 16:12:51,506-[INFO]- dropbox:474 -> Request to files/upload_session/start\n",
      "2022-12-14 16:12:52,343-[INFO]- dropbox:474 -> Request to files/upload_session/append\n",
      "2022-12-14 16:12:53,350-[INFO]- dropbox:474 -> Request to files/upload_session/append\n",
      "2022-12-14 16:12:54,388-[INFO]- dropbox:474 -> Request to files/upload_session/append\n",
      "2022-12-14 16:12:55,471-[INFO]- dropbox:474 -> Request to files/upload_session/append\n",
      "2022-12-14 16:12:56,777-[INFO]- dropbox:474 -> Request to files/upload_session/append\n",
      "2022-12-14 16:12:58,095-[INFO]- dropbox:474 -> Request to files/upload_session/append\n",
      "2022-12-14 16:12:59,169-[INFO]- dropbox:474 -> Request to files/upload_session/append\n",
      "2022-12-14 16:13:00,796-[INFO]- dropbox:474 -> Request to files/upload_session/append\n",
      "2022-12-14 16:13:02,623-[INFO]- dropbox:474 -> Request to files/upload_session/append\n",
      "2022-12-14 16:13:04,221-[INFO]- dropbox:474 -> Request to files/upload_session/append\n",
      "2022-12-14 16:13:05,987-[INFO]- dropbox:474 -> Request to files/upload_session/append\n",
      "2022-12-14 16:13:07,965-[INFO]- dropbox:474 -> Request to files/upload_session/append\n",
      "2022-12-14 16:13:09,208-[INFO]- dropbox:474 -> Request to files/upload_session/append\n",
      "2022-12-14 16:13:10,549-[INFO]- dropbox:474 -> Request to files/upload_session/append\n",
      "2022-12-14 16:13:12,344-[INFO]- dropbox:474 -> Request to files/upload_session/append\n",
      "2022-12-14 16:13:13,376-[INFO]- dropbox:474 -> Request to files/upload_session/append\n",
      "2022-12-14 16:13:14,876-[INFO]- dropbox:474 -> Request to files/upload_session/append\n",
      "2022-12-14 16:13:16,534-[INFO]- dropbox:474 -> Request to files/upload_session/append\n",
      "2022-12-14 16:13:17,909-[INFO]- dropbox:474 -> Request to files/upload_session/append\n",
      "2022-12-14 16:13:19,075-[INFO]- dropbox:474 -> Request to files/upload_session/append\n",
      "2022-12-14 16:13:20,513-[INFO]- dropbox:474 -> Request to files/upload_session/append\n",
      "2022-12-14 16:13:22,116-[INFO]- dropbox:474 -> Request to files/upload_session/append\n",
      "2022-12-14 16:13:23,678-[INFO]- dropbox:474 -> Request to files/upload_session/append\n",
      "2022-12-14 16:13:24,951-[INFO]- dropbox:474 -> Request to files/upload_session/append\n",
      "2022-12-14 16:13:26,292-[INFO]- dropbox:474 -> Request to files/upload_session/finish\n",
      "2022-12-14 16:13:27,881-[INFO]- dropbox:390 -> Refreshing access token.\n",
      "2022-12-14 16:13:28,185-[INFO]- dropbox:474 -> Request to files/upload\n"
     ]
    },
    {
     "data": {
      "application/vnd.jupyter.widget-view+json": {
       "model_id": "190e87b60db944bb98b27cb7c7c23e85",
       "version_major": 2,
       "version_minor": 0
      },
      "text/plain": [
       "Uploaded:   0%|          | 0/17708950 [00:00<?, ?it/s]"
      ]
     },
     "metadata": {},
     "output_type": "display_data"
    },
    {
     "name": "stdout",
     "output_type": "stream",
     "text": [
      "2022-12-14 16:13:29,452-[INFO]- dropbox:390 -> Refreshing access token.\n",
      "2022-12-14 16:13:29,705-[INFO]- dropbox:474 -> Request to files/upload_session/start\n",
      "2022-12-14 16:13:30,426-[INFO]- dropbox:474 -> Request to files/upload_session/append\n",
      "2022-12-14 16:13:31,535-[INFO]- dropbox:474 -> Request to files/upload_session/append\n",
      "2022-12-14 16:13:33,899-[INFO]- dropbox:474 -> Request to files/upload_session/append\n",
      "2022-12-14 16:13:35,419-[INFO]- dropbox:474 -> Request to files/upload_session/finish\n"
     ]
    },
    {
     "data": {
      "application/vnd.jupyter.widget-view+json": {
       "model_id": "5b168937a9424f70840bd411965e5cd5",
       "version_major": 2,
       "version_minor": 0
      },
      "text/plain": [
       "Uploaded:   0%|          | 0/4907242 [00:00<?, ?it/s]"
      ]
     },
     "metadata": {},
     "output_type": "display_data"
    },
    {
     "name": "stdout",
     "output_type": "stream",
     "text": [
      "2022-12-14 16:13:36,994-[INFO]- dropbox:390 -> Refreshing access token.\n",
      "2022-12-14 16:13:37,354-[INFO]- dropbox:474 -> Request to files/upload_session/start\n",
      "2022-12-14 16:13:38,279-[INFO]- dropbox:474 -> Request to files/upload_session/finish\n",
      "2022-12-14 16:13:39,915-[INFO]- dropbox:390 -> Refreshing access token.\n",
      "2022-12-14 16:13:40,158-[INFO]- dropbox:474 -> Request to files/upload\n",
      "2022-12-14 16:13:41,486-[INFO]- dropbox:390 -> Refreshing access token.\n",
      "2022-12-14 16:13:41,730-[INFO]- dropbox:474 -> Request to files/upload\n"
     ]
    },
    {
     "data": {
      "application/vnd.jupyter.widget-view+json": {
       "model_id": "3f4c5caa6980470a9ad57f7225e225fa",
       "version_major": 2,
       "version_minor": 0
      },
      "text/plain": [
       "Uploaded:   0%|          | 0/4317617 [00:00<?, ?it/s]"
      ]
     },
     "metadata": {},
     "output_type": "display_data"
    },
    {
     "name": "stdout",
     "output_type": "stream",
     "text": [
      "2022-12-14 16:13:44,002-[INFO]- dropbox:390 -> Refreshing access token.\n",
      "2022-12-14 16:13:44,280-[INFO]- dropbox:474 -> Request to files/upload_session/start\n",
      "2022-12-14 16:13:45,685-[INFO]- dropbox:474 -> Request to files/upload_session/finish\n",
      "2022-12-14 16:13:47,181-[INFO]- dropbox:390 -> Refreshing access token.\n",
      "2022-12-14 16:13:47,444-[INFO]- dropbox:474 -> Request to files/upload\n"
     ]
    },
    {
     "data": {
      "application/vnd.jupyter.widget-view+json": {
       "model_id": "1c657abe76024431aa3cac198c4c108b",
       "version_major": 2,
       "version_minor": 0
      },
      "text/plain": [
       "Uploaded:   0%|          | 0/4738635 [00:00<?, ?it/s]"
      ]
     },
     "metadata": {},
     "output_type": "display_data"
    },
    {
     "name": "stdout",
     "output_type": "stream",
     "text": [
      "2022-12-14 16:13:48,863-[INFO]- dropbox:390 -> Refreshing access token.\n",
      "2022-12-14 16:13:49,092-[INFO]- dropbox:474 -> Request to files/upload_session/start\n",
      "2022-12-14 16:13:50,280-[INFO]- dropbox:474 -> Request to files/upload_session/finish\n",
      "2022-12-14 16:13:52,412-[INFO]- dropbox:390 -> Refreshing access token.\n",
      "2022-12-14 16:13:52,644-[INFO]- dropbox:474 -> Request to files/upload\n",
      "2022-12-14 16:13:54,113-[INFO]- dropbox:390 -> Refreshing access token.\n",
      "2022-12-14 16:13:54,350-[INFO]- dropbox:474 -> Request to files/upload\n",
      "2022-12-14 16:13:55,904-[INFO]- dropbox:390 -> Refreshing access token.\n",
      "2022-12-14 16:13:56,162-[INFO]- dropbox:474 -> Request to files/upload\n",
      "2022-12-14 16:13:57,899-[INFO]- dropbox:390 -> Refreshing access token.\n",
      "2022-12-14 16:13:58,150-[INFO]- dropbox:474 -> Request to files/upload\n",
      "2022-12-14 16:13:59,902-[INFO]- dropbox:390 -> Refreshing access token.\n",
      "2022-12-14 16:14:00,150-[INFO]- dropbox:474 -> Request to files/upload\n",
      "2022-12-14 16:14:01,652-[INFO]- dropbox:390 -> Refreshing access token.\n",
      "2022-12-14 16:14:02,122-[INFO]- dropbox:474 -> Request to files/upload\n",
      "2022-12-14 16:14:03,832-[INFO]- dropbox:390 -> Refreshing access token.\n",
      "2022-12-14 16:14:04,070-[INFO]- dropbox:474 -> Request to files/upload\n",
      "2022-12-14 16:14:05,578-[INFO]- dropbox:390 -> Refreshing access token.\n",
      "2022-12-14 16:14:05,894-[INFO]- dropbox:474 -> Request to files/upload\n"
     ]
    },
    {
     "data": {
      "application/vnd.jupyter.widget-view+json": {
       "model_id": "26123b9f568148aa95e51cc5d3fb996a",
       "version_major": 2,
       "version_minor": 0
      },
      "text/plain": [
       "Uploaded:   0%|          | 0/5508903 [00:00<?, ?it/s]"
      ]
     },
     "metadata": {},
     "output_type": "display_data"
    },
    {
     "name": "stdout",
     "output_type": "stream",
     "text": [
      "2022-12-14 16:14:07,751-[INFO]- dropbox:390 -> Refreshing access token.\n",
      "2022-12-14 16:14:07,989-[INFO]- dropbox:474 -> Request to files/upload_session/start\n",
      "2022-12-14 16:14:09,412-[INFO]- dropbox:474 -> Request to files/upload_session/finish\n",
      "2022-12-14 16:14:11,461-[INFO]- dropbox:390 -> Refreshing access token.\n",
      "2022-12-14 16:14:11,707-[INFO]- dropbox:474 -> Request to files/upload\n",
      "2022-12-14 16:14:13,204-[INFO]- dropbox:390 -> Refreshing access token.\n",
      "2022-12-14 16:14:13,537-[INFO]- dropbox:474 -> Request to files/upload\n",
      "2022-12-14 16:14:15,000-[INFO]- dropbox:390 -> Refreshing access token.\n",
      "2022-12-14 16:14:15,261-[INFO]- dropbox:474 -> Request to files/upload\n",
      "2022-12-14 16:14:17,169-[INFO]- dropbox:390 -> Refreshing access token.\n",
      "2022-12-14 16:14:17,459-[INFO]- dropbox:474 -> Request to files/upload\n",
      "2022-12-14 16:14:19,471-[INFO]- dropbox:390 -> Refreshing access token.\n",
      "2022-12-14 16:14:19,728-[INFO]- dropbox:474 -> Request to files/upload\n",
      "2022-12-14 16:14:21,243-[INFO]- dropbox:390 -> Refreshing access token.\n",
      "2022-12-14 16:14:21,505-[INFO]- dropbox:474 -> Request to files/upload\n",
      "2022-12-14 16:14:23,265-[INFO]- dropbox:390 -> Refreshing access token.\n",
      "2022-12-14 16:14:23,504-[INFO]- dropbox:474 -> Request to files/upload\n",
      "2022-12-14 16:14:25,435-[INFO]- dropbox:390 -> Refreshing access token.\n",
      "2022-12-14 16:14:25,682-[INFO]- dropbox:474 -> Request to files/upload\n",
      "2022-12-14 16:14:27,256-[INFO]- dropbox:390 -> Refreshing access token.\n",
      "2022-12-14 16:14:27,533-[INFO]- dropbox:474 -> Request to files/upload\n",
      "2022-12-14 16:14:29,020-[INFO]- dropbox:390 -> Refreshing access token.\n",
      "2022-12-14 16:14:29,263-[INFO]- dropbox:474 -> Request to files/upload\n",
      "2022-12-14 16:14:30,612-[INFO]- dropbox:390 -> Refreshing access token.\n",
      "2022-12-14 16:14:30,877-[INFO]- dropbox:474 -> Request to files/upload\n",
      "2022-12-14 16:14:32,273-[INFO]- dropbox:390 -> Refreshing access token.\n",
      "2022-12-14 16:14:32,514-[INFO]- dropbox:474 -> Request to files/upload\n",
      "2022-12-14 16:14:34,130-[INFO]- dropbox:390 -> Refreshing access token.\n",
      "2022-12-14 16:14:34,377-[INFO]- dropbox:474 -> Request to files/upload\n",
      "2022-12-14 16:14:35,973-[INFO]- dropbox:390 -> Refreshing access token.\n",
      "2022-12-14 16:14:36,212-[INFO]- dropbox:474 -> Request to files/upload\n",
      "2022-12-14 16:14:39,049-[INFO]- dropbox:390 -> Refreshing access token.\n",
      "2022-12-14 16:14:39,319-[INFO]- dropbox:474 -> Request to files/upload\n",
      "2022-12-14 16:14:40,634-[INFO]- dropbox:390 -> Refreshing access token.\n",
      "2022-12-14 16:14:40,922-[INFO]- dropbox:474 -> Request to files/upload\n",
      "2022-12-14 16:14:42,642-[INFO]- dropbox:390 -> Refreshing access token.\n",
      "2022-12-14 16:14:42,878-[INFO]- dropbox:474 -> Request to files/upload\n",
      "2022-12-14 16:14:44,549-[INFO]- dropbox:390 -> Refreshing access token.\n",
      "2022-12-14 16:14:44,784-[INFO]- dropbox:474 -> Request to files/upload\n",
      "2022-12-14 16:14:46,787-[INFO]- dropbox:390 -> Refreshing access token.\n",
      "2022-12-14 16:14:47,011-[INFO]- dropbox:474 -> Request to files/upload\n"
     ]
    },
    {
     "data": {
      "application/vnd.jupyter.widget-view+json": {
       "model_id": "09f6b6a45e2d4a47b2b391fb4e8dd785",
       "version_major": 2,
       "version_minor": 0
      },
      "text/plain": [
       "Uploaded:   0%|          | 0/5391863 [00:00<?, ?it/s]"
      ]
     },
     "metadata": {},
     "output_type": "display_data"
    },
    {
     "name": "stdout",
     "output_type": "stream",
     "text": [
      "2022-12-14 16:14:48,485-[INFO]- dropbox:390 -> Refreshing access token.\n",
      "2022-12-14 16:14:48,722-[INFO]- dropbox:474 -> Request to files/upload_session/start\n",
      "2022-12-14 16:14:50,541-[INFO]- dropbox:474 -> Request to files/upload_session/finish\n"
     ]
    },
    {
     "data": {
      "application/vnd.jupyter.widget-view+json": {
       "model_id": "df29ced89b534753a3e9fb240b9b5df0",
       "version_major": 2,
       "version_minor": 0
      },
      "text/plain": [
       "Uploaded:   0%|          | 0/4627557 [00:00<?, ?it/s]"
      ]
     },
     "metadata": {},
     "output_type": "display_data"
    },
    {
     "name": "stdout",
     "output_type": "stream",
     "text": [
      "2022-12-14 16:14:53,283-[INFO]- dropbox:390 -> Refreshing access token.\n",
      "2022-12-14 16:14:53,514-[INFO]- dropbox:474 -> Request to files/upload_session/start\n",
      "2022-12-14 16:14:55,065-[INFO]- dropbox:474 -> Request to files/upload_session/finish\n",
      "2022-12-14 16:14:56,767-[INFO]- dropbox:390 -> Refreshing access token.\n",
      "2022-12-14 16:14:57,052-[INFO]- dropbox:474 -> Request to files/upload\n",
      "2022-12-14 16:14:58,715-[INFO]- dropbox:390 -> Refreshing access token.\n",
      "2022-12-14 16:14:58,946-[INFO]- dropbox:474 -> Request to files/upload\n"
     ]
    },
    {
     "data": {
      "application/vnd.jupyter.widget-view+json": {
       "model_id": "c8ec8e38b0404892a2e62e071a002d18",
       "version_major": 2,
       "version_minor": 0
      },
      "text/plain": [
       "Uploaded:   0%|          | 0/5260268 [00:00<?, ?it/s]"
      ]
     },
     "metadata": {},
     "output_type": "display_data"
    },
    {
     "name": "stdout",
     "output_type": "stream",
     "text": [
      "2022-12-14 16:15:00,648-[INFO]- dropbox:390 -> Refreshing access token.\n",
      "2022-12-14 16:15:00,887-[INFO]- dropbox:474 -> Request to files/upload_session/start\n",
      "2022-12-14 16:15:02,027-[INFO]- dropbox:474 -> Request to files/upload_session/finish\n",
      "2022-12-14 16:15:03,656-[INFO]- dropbox:390 -> Refreshing access token.\n",
      "2022-12-14 16:15:04,127-[INFO]- dropbox:474 -> Request to files/upload\n"
     ]
    },
    {
     "data": {
      "application/vnd.jupyter.widget-view+json": {
       "model_id": "3f739aae9062487ba234134ccbd59883",
       "version_major": 2,
       "version_minor": 0
      },
      "text/plain": [
       "Uploaded:   0%|          | 0/5401240 [00:00<?, ?it/s]"
      ]
     },
     "metadata": {},
     "output_type": "display_data"
    },
    {
     "name": "stdout",
     "output_type": "stream",
     "text": [
      "2022-12-14 16:15:06,055-[INFO]- dropbox:390 -> Refreshing access token.\n",
      "2022-12-14 16:15:06,382-[INFO]- dropbox:474 -> Request to files/upload_session/start\n",
      "2022-12-14 16:15:07,601-[INFO]- dropbox:474 -> Request to files/upload_session/finish\n",
      "2022-12-14 16:15:09,400-[INFO]- dropbox:390 -> Refreshing access token.\n",
      "2022-12-14 16:15:09,784-[INFO]- dropbox:474 -> Request to files/upload\n",
      "2022-12-14 16:15:11,353-[INFO]- dropbox:390 -> Refreshing access token.\n",
      "2022-12-14 16:15:11,651-[INFO]- dropbox:474 -> Request to files/upload\n",
      "2022-12-14 16:15:13,429-[INFO]- dropbox:390 -> Refreshing access token.\n",
      "2022-12-14 16:15:13,684-[INFO]- dropbox:474 -> Request to files/upload\n"
     ]
    },
    {
     "data": {
      "application/vnd.jupyter.widget-view+json": {
       "model_id": "21557e460082404086aac24b2239039f",
       "version_major": 2,
       "version_minor": 0
      },
      "text/plain": [
       "Uploaded:   0%|          | 0/4235021 [00:00<?, ?it/s]"
      ]
     },
     "metadata": {},
     "output_type": "display_data"
    },
    {
     "name": "stdout",
     "output_type": "stream",
     "text": [
      "2022-12-14 16:15:15,356-[INFO]- dropbox:390 -> Refreshing access token.\n",
      "2022-12-14 16:15:15,585-[INFO]- dropbox:474 -> Request to files/upload_session/start\n",
      "2022-12-14 16:15:16,769-[INFO]- dropbox:474 -> Request to files/upload_session/finish\n",
      "2022-12-14 16:15:18,496-[INFO]- dropbox:390 -> Refreshing access token.\n",
      "2022-12-14 16:15:18,712-[INFO]- dropbox:474 -> Request to files/upload\n",
      "2022-12-14 16:15:20,284-[INFO]- dropbox:390 -> Refreshing access token.\n",
      "2022-12-14 16:15:20,520-[INFO]- dropbox:474 -> Request to files/upload\n",
      "2022-12-14 16:15:22,193-[INFO]- dropbox:390 -> Refreshing access token.\n",
      "2022-12-14 16:15:22,465-[INFO]- dropbox:474 -> Request to files/upload\n",
      "2022-12-14 16:15:23,957-[INFO]- dropbox:390 -> Refreshing access token.\n",
      "2022-12-14 16:15:24,237-[INFO]- dropbox:474 -> Request to files/upload\n",
      "2022-12-14 16:15:26,304-[INFO]- dropbox:390 -> Refreshing access token.\n",
      "2022-12-14 16:15:26,550-[INFO]- dropbox:474 -> Request to files/upload\n",
      "2022-12-14 16:15:28,281-[INFO]- dropbox:390 -> Refreshing access token.\n",
      "2022-12-14 16:15:28,525-[INFO]- dropbox:474 -> Request to files/upload\n",
      "2022-12-14 16:15:30,221-[INFO]- dropbox:390 -> Refreshing access token.\n",
      "2022-12-14 16:15:30,474-[INFO]- dropbox:474 -> Request to files/upload\n",
      "2022-12-14 16:15:32,611-[INFO]- dropbox:390 -> Refreshing access token.\n",
      "2022-12-14 16:15:32,906-[INFO]- dropbox:474 -> Request to files/upload\n",
      "2022-12-14 16:15:34,776-[INFO]- dropbox:390 -> Refreshing access token.\n",
      "2022-12-14 16:15:35,011-[INFO]- dropbox:474 -> Request to files/upload\n",
      "2022-12-14 16:15:36,825-[INFO]- dropbox:390 -> Refreshing access token.\n",
      "2022-12-14 16:15:37,069-[INFO]- dropbox:474 -> Request to files/upload\n"
     ]
    },
    {
     "data": {
      "application/vnd.jupyter.widget-view+json": {
       "model_id": "7c3bf02155414355b9c8257ca0493639",
       "version_major": 2,
       "version_minor": 0
      },
      "text/plain": [
       "Uploaded:   0%|          | 0/5080991 [00:00<?, ?it/s]"
      ]
     },
     "metadata": {},
     "output_type": "display_data"
    },
    {
     "name": "stdout",
     "output_type": "stream",
     "text": [
      "2022-12-14 16:15:38,483-[INFO]- dropbox:390 -> Refreshing access token.\n",
      "2022-12-14 16:15:38,730-[INFO]- dropbox:474 -> Request to files/upload_session/start\n",
      "2022-12-14 16:15:39,642-[INFO]- dropbox:474 -> Request to files/upload_session/finish\n",
      "2022-12-14 16:15:41,504-[INFO]- dropbox:390 -> Refreshing access token.\n",
      "2022-12-14 16:15:41,893-[INFO]- dropbox:474 -> Request to files/upload\n",
      "2022-12-14 16:15:43,903-[INFO]- dropbox:390 -> Refreshing access token.\n",
      "2022-12-14 16:15:44,165-[INFO]- dropbox:474 -> Request to files/upload\n"
     ]
    },
    {
     "data": {
      "application/vnd.jupyter.widget-view+json": {
       "model_id": "39d49a8aed6149109c2d065b746679c1",
       "version_major": 2,
       "version_minor": 0
      },
      "text/plain": [
       "Uploaded:   0%|          | 0/5282391 [00:00<?, ?it/s]"
      ]
     },
     "metadata": {},
     "output_type": "display_data"
    },
    {
     "name": "stdout",
     "output_type": "stream",
     "text": [
      "2022-12-14 16:15:45,916-[INFO]- dropbox:390 -> Refreshing access token.\n",
      "2022-12-14 16:15:46,176-[INFO]- dropbox:474 -> Request to files/upload_session/start\n",
      "2022-12-14 16:15:47,139-[INFO]- dropbox:474 -> Request to files/upload_session/finish\n",
      "2022-12-14 16:15:49,135-[INFO]- dropbox:390 -> Refreshing access token.\n",
      "2022-12-14 16:15:49,424-[INFO]- dropbox:474 -> Request to files/upload\n",
      "2022-12-14 16:15:50,827-[INFO]- dropbox:390 -> Refreshing access token.\n",
      "2022-12-14 16:15:51,075-[INFO]- dropbox:474 -> Request to files/upload\n",
      "2022-12-14 16:15:52,740-[INFO]- dropbox:390 -> Refreshing access token.\n",
      "2022-12-14 16:15:53,024-[INFO]- dropbox:474 -> Request to files/upload\n",
      "2022-12-14 16:15:54,815-[INFO]- dropbox:390 -> Refreshing access token.\n",
      "2022-12-14 16:15:55,113-[INFO]- dropbox:474 -> Request to files/upload\n",
      "2022-12-14 16:15:56,863-[INFO]- dropbox:390 -> Refreshing access token.\n",
      "2022-12-14 16:15:57,119-[INFO]- dropbox:474 -> Request to files/upload\n",
      "2022-12-14 16:15:58,407-[INFO]- dropbox:390 -> Refreshing access token.\n",
      "2022-12-14 16:15:58,655-[INFO]- dropbox:474 -> Request to files/upload\n"
     ]
    },
    {
     "data": {
      "application/vnd.jupyter.widget-view+json": {
       "model_id": "cad66512857141f0a86bb5320b963052",
       "version_major": 2,
       "version_minor": 0
      },
      "text/plain": [
       "Uploaded:   0%|          | 0/5477553 [00:00<?, ?it/s]"
      ]
     },
     "metadata": {},
     "output_type": "display_data"
    },
    {
     "name": "stdout",
     "output_type": "stream",
     "text": [
      "2022-12-14 16:16:00,283-[INFO]- dropbox:390 -> Refreshing access token.\n",
      "2022-12-14 16:16:00,653-[INFO]- dropbox:474 -> Request to files/upload_session/start\n",
      "2022-12-14 16:16:04,737-[INFO]- dropbox:474 -> Request to files/upload_session/finish\n",
      "2022-12-14 16:16:06,485-[INFO]- dropbox:390 -> Refreshing access token.\n",
      "2022-12-14 16:16:06,778-[INFO]- dropbox:474 -> Request to files/upload\n"
     ]
    },
    {
     "data": {
      "application/vnd.jupyter.widget-view+json": {
       "model_id": "975b1087ef0f475db34d17739ce90ac3",
       "version_major": 2,
       "version_minor": 0
      },
      "text/plain": [
       "Uploaded:   0%|          | 0/4444880 [00:00<?, ?it/s]"
      ]
     },
     "metadata": {},
     "output_type": "display_data"
    },
    {
     "name": "stdout",
     "output_type": "stream",
     "text": [
      "2022-12-14 16:16:12,219-[INFO]- dropbox:390 -> Refreshing access token.\n",
      "2022-12-14 16:16:12,471-[INFO]- dropbox:474 -> Request to files/upload_session/start\n",
      "2022-12-14 16:16:13,639-[INFO]- dropbox:474 -> Request to files/upload_session/finish\n",
      "2022-12-14 16:16:15,362-[INFO]- dropbox:390 -> Refreshing access token.\n",
      "2022-12-14 16:16:15,591-[INFO]- dropbox:474 -> Request to files/upload\n",
      "2022-12-14 16:16:17,165-[INFO]- dropbox:390 -> Refreshing access token.\n",
      "2022-12-14 16:16:17,512-[INFO]- dropbox:474 -> Request to files/upload\n",
      "2022-12-14 16:16:19,395-[INFO]- dropbox:390 -> Refreshing access token.\n",
      "2022-12-14 16:16:20,985-[INFO]- dropbox:474 -> Request to files/upload\n",
      "2022-12-14 16:16:23,246-[INFO]- dropbox:390 -> Refreshing access token.\n",
      "2022-12-14 16:16:23,477-[INFO]- dropbox:474 -> Request to files/upload\n",
      "2022-12-14 16:16:24,816-[INFO]- dropbox:390 -> Refreshing access token.\n",
      "2022-12-14 16:16:25,080-[INFO]- dropbox:474 -> Request to files/upload\n",
      "2022-12-14 16:16:26,492-[INFO]- dropbox:390 -> Refreshing access token.\n",
      "2022-12-14 16:16:26,722-[INFO]- dropbox:474 -> Request to files/upload\n",
      "2022-12-14 16:16:28,409-[INFO]- dropbox:390 -> Refreshing access token.\n",
      "2022-12-14 16:16:28,643-[INFO]- dropbox:474 -> Request to files/upload\n"
     ]
    },
    {
     "data": {
      "application/vnd.jupyter.widget-view+json": {
       "model_id": "f170636d38ca44fe8e978d20e726e82c",
       "version_major": 2,
       "version_minor": 0
      },
      "text/plain": [
       "Uploaded:   0%|          | 0/5488600 [00:00<?, ?it/s]"
      ]
     },
     "metadata": {},
     "output_type": "display_data"
    },
    {
     "name": "stdout",
     "output_type": "stream",
     "text": [
      "2022-12-14 16:16:30,175-[INFO]- dropbox:390 -> Refreshing access token.\n",
      "2022-12-14 16:16:30,434-[INFO]- dropbox:474 -> Request to files/upload_session/start\n",
      "2022-12-14 16:16:31,637-[INFO]- dropbox:474 -> Request to files/upload_session/finish\n",
      "2022-12-14 16:16:33,207-[INFO]- dropbox:390 -> Refreshing access token.\n",
      "2022-12-14 16:16:33,452-[INFO]- dropbox:474 -> Request to files/upload\n",
      "2022-12-14 16:16:35,009-[INFO]- dropbox:390 -> Refreshing access token.\n",
      "2022-12-14 16:16:35,312-[INFO]- dropbox:474 -> Request to files/upload\n"
     ]
    },
    {
     "data": {
      "application/vnd.jupyter.widget-view+json": {
       "model_id": "aa7d1b3021214f1f91152891d14acd5f",
       "version_major": 2,
       "version_minor": 0
      },
      "text/plain": [
       "Uploaded:   0%|          | 0/5210962 [00:00<?, ?it/s]"
      ]
     },
     "metadata": {},
     "output_type": "display_data"
    },
    {
     "name": "stdout",
     "output_type": "stream",
     "text": [
      "2022-12-14 16:16:37,140-[INFO]- dropbox:390 -> Refreshing access token.\n",
      "2022-12-14 16:16:37,478-[INFO]- dropbox:474 -> Request to files/upload_session/start\n",
      "2022-12-14 16:16:38,425-[INFO]- dropbox:474 -> Request to files/upload_session/finish\n"
     ]
    },
    {
     "data": {
      "application/vnd.jupyter.widget-view+json": {
       "model_id": "d763b95d60e54802aa7d52bca279ae94",
       "version_major": 2,
       "version_minor": 0
      },
      "text/plain": [
       "Uploaded:   0%|          | 0/4897546 [00:00<?, ?it/s]"
      ]
     },
     "metadata": {},
     "output_type": "display_data"
    },
    {
     "name": "stdout",
     "output_type": "stream",
     "text": [
      "2022-12-14 16:16:40,627-[INFO]- dropbox:390 -> Refreshing access token.\n",
      "2022-12-14 16:16:40,880-[INFO]- dropbox:474 -> Request to files/upload_session/start\n",
      "2022-12-14 16:16:41,743-[INFO]- dropbox:474 -> Request to files/upload_session/finish\n",
      "2022-12-14 16:16:43,684-[INFO]- dropbox:390 -> Refreshing access token.\n",
      "2022-12-14 16:16:43,912-[INFO]- dropbox:474 -> Request to files/upload\n",
      "2022-12-14 16:16:45,432-[INFO]- dropbox:390 -> Refreshing access token.\n",
      "2022-12-14 16:16:45,724-[INFO]- dropbox:474 -> Request to files/upload\n",
      "2022-12-14 16:16:47,096-[INFO]- dropbox:390 -> Refreshing access token.\n",
      "2022-12-14 16:16:47,336-[INFO]- dropbox:474 -> Request to files/upload\n",
      "2022-12-14 16:16:49,168-[INFO]- dropbox:390 -> Refreshing access token.\n",
      "2022-12-14 16:16:49,403-[INFO]- dropbox:474 -> Request to files/upload\n",
      "2022-12-14 16:16:51,084-[INFO]- dropbox:390 -> Refreshing access token.\n",
      "2022-12-14 16:16:51,399-[INFO]- dropbox:474 -> Request to files/upload\n",
      "2022-12-14 16:16:53,126-[INFO]- dropbox:390 -> Refreshing access token.\n",
      "2022-12-14 16:16:53,363-[INFO]- dropbox:474 -> Request to files/upload\n"
     ]
    },
    {
     "data": {
      "application/vnd.jupyter.widget-view+json": {
       "model_id": "5b5ac92d80bb4f16810ea40317f079ea",
       "version_major": 2,
       "version_minor": 0
      },
      "text/plain": [
       "Uploaded:   0%|          | 0/4720641 [00:00<?, ?it/s]"
      ]
     },
     "metadata": {},
     "output_type": "display_data"
    },
    {
     "name": "stdout",
     "output_type": "stream",
     "text": [
      "2022-12-14 16:16:54,956-[INFO]- dropbox:390 -> Refreshing access token.\n",
      "2022-12-14 16:16:55,323-[INFO]- dropbox:474 -> Request to files/upload_session/start\n",
      "2022-12-14 16:16:56,412-[INFO]- dropbox:474 -> Request to files/upload_session/finish\n",
      "2022-12-14 16:16:58,612-[INFO]- dropbox:390 -> Refreshing access token.\n",
      "2022-12-14 16:16:58,843-[INFO]- dropbox:474 -> Request to files/upload\n",
      "2022-12-14 16:17:00,987-[INFO]- dropbox:390 -> Refreshing access token.\n",
      "2022-12-14 16:17:01,268-[INFO]- dropbox:474 -> Request to files/upload\n",
      "2022-12-14 16:17:02,820-[INFO]- dropbox:390 -> Refreshing access token.\n",
      "2022-12-14 16:17:03,050-[INFO]- dropbox:474 -> Request to files/upload\n",
      "2022-12-14 16:17:04,491-[INFO]- dropbox:390 -> Refreshing access token.\n",
      "2022-12-14 16:17:04,719-[INFO]- dropbox:474 -> Request to files/upload\n",
      "2022-12-14 16:17:05,984-[INFO]- dropbox:390 -> Refreshing access token.\n",
      "2022-12-14 16:17:06,221-[INFO]- dropbox:474 -> Request to files/upload\n"
     ]
    },
    {
     "data": {
      "application/vnd.jupyter.widget-view+json": {
       "model_id": "28668b6ef7484c3195cdc0af3ed58669",
       "version_major": 2,
       "version_minor": 0
      },
      "text/plain": [
       "Uploaded:   0%|          | 0/5469657 [00:00<?, ?it/s]"
      ]
     },
     "metadata": {},
     "output_type": "display_data"
    },
    {
     "name": "stdout",
     "output_type": "stream",
     "text": [
      "2022-12-14 16:17:07,748-[INFO]- dropbox:390 -> Refreshing access token.\n",
      "2022-12-14 16:17:08,014-[INFO]- dropbox:474 -> Request to files/upload_session/start\n",
      "2022-12-14 16:17:09,192-[INFO]- dropbox:474 -> Request to files/upload_session/finish\n"
     ]
    },
    {
     "data": {
      "application/vnd.jupyter.widget-view+json": {
       "model_id": "1d8662a8183b40d89f0149bda2d554d5",
       "version_major": 2,
       "version_minor": 0
      },
      "text/plain": [
       "Uploaded:   0%|          | 0/5413533 [00:00<?, ?it/s]"
      ]
     },
     "metadata": {},
     "output_type": "display_data"
    },
    {
     "name": "stdout",
     "output_type": "stream",
     "text": [
      "2022-12-14 16:17:11,432-[INFO]- dropbox:390 -> Refreshing access token.\n",
      "2022-12-14 16:17:11,670-[INFO]- dropbox:474 -> Request to files/upload_session/start\n",
      "2022-12-14 16:17:13,218-[INFO]- dropbox:474 -> Request to files/upload_session/finish\n",
      "2022-12-14 16:17:14,869-[INFO]- dropbox:390 -> Refreshing access token.\n",
      "2022-12-14 16:17:15,119-[INFO]- dropbox:474 -> Request to files/upload\n",
      "2022-12-14 16:17:16,960-[INFO]- dropbox:390 -> Refreshing access token.\n",
      "2022-12-14 16:17:17,208-[INFO]- dropbox:474 -> Request to files/upload\n",
      "2022-12-14 16:17:19,065-[INFO]- dropbox:390 -> Refreshing access token.\n",
      "2022-12-14 16:17:20,074-[INFO]- dropbox:474 -> Request to files/upload\n",
      "2022-12-14 16:17:21,512-[INFO]- dropbox:390 -> Refreshing access token.\n",
      "2022-12-14 16:17:21,761-[INFO]- dropbox:474 -> Request to files/upload\n"
     ]
    },
    {
     "data": {
      "application/vnd.jupyter.widget-view+json": {
       "model_id": "3ed1031efea4491a87b4d3168f494cd1",
       "version_major": 2,
       "version_minor": 0
      },
      "text/plain": [
       "Uploaded:   0%|          | 0/5336422 [00:00<?, ?it/s]"
      ]
     },
     "metadata": {},
     "output_type": "display_data"
    },
    {
     "name": "stdout",
     "output_type": "stream",
     "text": [
      "2022-12-14 16:17:23,269-[INFO]- dropbox:390 -> Refreshing access token.\n",
      "2022-12-14 16:17:23,550-[INFO]- dropbox:474 -> Request to files/upload_session/start\n",
      "2022-12-14 16:17:24,983-[INFO]- dropbox:474 -> Request to files/upload_session/finish\n",
      "2022-12-14 16:17:26,731-[INFO]- dropbox:390 -> Refreshing access token.\n",
      "2022-12-14 16:17:27,068-[INFO]- dropbox:474 -> Request to files/upload\n",
      "2022-12-14 16:17:28,639-[INFO]- dropbox:390 -> Refreshing access token.\n",
      "2022-12-14 16:17:28,905-[INFO]- dropbox:474 -> Request to files/upload\n",
      "2022-12-14 16:17:30,351-[INFO]- dropbox:390 -> Refreshing access token.\n",
      "2022-12-14 16:17:30,586-[INFO]- dropbox:474 -> Request to files/upload\n",
      "DATA/PRINCE\n",
      "2022-12-14 16:17:31,881-[INFO]- dropbox:390 -> Refreshing access token.\n",
      "2022-12-14 16:17:32,117-[INFO]- dropbox:474 -> Request to files/upload\n",
      "2022-12-14 16:17:33,494-[INFO]- dropbox:390 -> Refreshing access token.\n",
      "2022-12-14 16:17:33,790-[INFO]- dropbox:474 -> Request to files/upload\n",
      "2022-12-14 16:17:35,415-[INFO]- dropbox:390 -> Refreshing access token.\n",
      "2022-12-14 16:17:35,709-[INFO]- dropbox:474 -> Request to files/upload\n"
     ]
    },
    {
     "data": {
      "application/vnd.jupyter.widget-view+json": {
       "model_id": "f13e57f9a7f94b4d85366c21d6177832",
       "version_major": 2,
       "version_minor": 0
      },
      "text/plain": [
       "Uploaded:   0%|          | 0/113769352 [00:00<?, ?it/s]"
      ]
     },
     "metadata": {},
     "output_type": "display_data"
    },
    {
     "name": "stdout",
     "output_type": "stream",
     "text": [
      "2022-12-14 16:17:37,158-[INFO]- dropbox:390 -> Refreshing access token.\n",
      "2022-12-14 16:17:37,404-[INFO]- dropbox:474 -> Request to files/upload_session/start\n",
      "2022-12-14 16:17:38,633-[INFO]- dropbox:474 -> Request to files/upload_session/append\n",
      "2022-12-14 16:17:40,022-[INFO]- dropbox:474 -> Request to files/upload_session/append\n",
      "2022-12-14 16:17:41,705-[INFO]- dropbox:474 -> Request to files/upload_session/append\n",
      "2022-12-14 16:17:43,395-[INFO]- dropbox:474 -> Request to files/upload_session/append\n",
      "2022-12-14 16:17:44,723-[INFO]- dropbox:474 -> Request to files/upload_session/append\n",
      "2022-12-14 16:17:45,821-[INFO]- dropbox:474 -> Request to files/upload_session/append\n",
      "2022-12-14 16:17:46,905-[INFO]- dropbox:474 -> Request to files/upload_session/append\n",
      "2022-12-14 16:17:48,484-[INFO]- dropbox:474 -> Request to files/upload_session/append\n",
      "2022-12-14 16:17:49,577-[INFO]- dropbox:474 -> Request to files/upload_session/append\n",
      "2022-12-14 16:17:50,842-[INFO]- dropbox:474 -> Request to files/upload_session/append\n",
      "2022-12-14 16:17:52,110-[INFO]- dropbox:474 -> Request to files/upload_session/append\n",
      "2022-12-14 16:17:53,246-[INFO]- dropbox:474 -> Request to files/upload_session/append\n",
      "2022-12-14 16:17:54,449-[INFO]- dropbox:474 -> Request to files/upload_session/append\n",
      "2022-12-14 16:17:55,780-[INFO]- dropbox:474 -> Request to files/upload_session/append\n",
      "2022-12-14 16:17:57,013-[INFO]- dropbox:474 -> Request to files/upload_session/append\n",
      "2022-12-14 16:17:58,046-[INFO]- dropbox:474 -> Request to files/upload_session/append\n",
      "2022-12-14 16:17:59,110-[INFO]- dropbox:474 -> Request to files/upload_session/append\n",
      "2022-12-14 16:18:00,404-[INFO]- dropbox:474 -> Request to files/upload_session/append\n",
      "2022-12-14 16:18:01,476-[INFO]- dropbox:474 -> Request to files/upload_session/append\n",
      "2022-12-14 16:18:02,576-[INFO]- dropbox:474 -> Request to files/upload_session/append\n",
      "2022-12-14 16:18:04,096-[INFO]- dropbox:474 -> Request to files/upload_session/append\n",
      "2022-12-14 16:18:05,678-[INFO]- dropbox:474 -> Request to files/upload_session/append\n",
      "2022-12-14 16:18:07,330-[INFO]- dropbox:474 -> Request to files/upload_session/append\n",
      "2022-12-14 16:18:09,001-[INFO]- dropbox:474 -> Request to files/upload_session/append\n",
      "2022-12-14 16:18:10,082-[INFO]- dropbox:474 -> Request to files/upload_session/append\n",
      "2022-12-14 16:18:11,466-[INFO]- dropbox:474 -> Request to files/upload_session/append\n",
      "2022-12-14 16:18:12,429-[INFO]- dropbox:474 -> Request to files/upload_session/finish\n"
     ]
    },
    {
     "data": {
      "application/vnd.jupyter.widget-view+json": {
       "model_id": "4325ee3ef1dc4d3f93cbc201cf05c7d2",
       "version_major": 2,
       "version_minor": 0
      },
      "text/plain": [
       "Uploaded:   0%|          | 0/17961407 [00:00<?, ?it/s]"
      ]
     },
     "metadata": {},
     "output_type": "display_data"
    },
    {
     "name": "stdout",
     "output_type": "stream",
     "text": [
      "2022-12-14 16:18:13,934-[INFO]- dropbox:390 -> Refreshing access token.\n",
      "2022-12-14 16:18:14,204-[INFO]- dropbox:474 -> Request to files/upload_session/start\n",
      "2022-12-14 16:18:15,493-[INFO]- dropbox:474 -> Request to files/upload_session/append\n",
      "2022-12-14 16:18:18,417-[INFO]- dropbox:474 -> Request to files/upload_session/append\n",
      "2022-12-14 16:18:19,483-[INFO]- dropbox:474 -> Request to files/upload_session/append\n",
      "2022-12-14 16:18:20,754-[INFO]- dropbox:474 -> Request to files/upload_session/finish\n",
      "2022-12-14 16:18:22,063-[INFO]- dropbox:390 -> Refreshing access token.\n",
      "2022-12-14 16:18:22,327-[INFO]- dropbox:474 -> Request to files/upload\n"
     ]
    },
    {
     "data": {
      "application/vnd.jupyter.widget-view+json": {
       "model_id": "1e5ab295b9df44179f4c9921a47d30a6",
       "version_major": 2,
       "version_minor": 0
      },
      "text/plain": [
       "Uploaded:   0%|          | 0/10606516 [00:00<?, ?it/s]"
      ]
     },
     "metadata": {},
     "output_type": "display_data"
    },
    {
     "name": "stdout",
     "output_type": "stream",
     "text": [
      "2022-12-14 16:18:23,782-[INFO]- dropbox:390 -> Refreshing access token.\n",
      "2022-12-14 16:18:24,024-[INFO]- dropbox:474 -> Request to files/upload_session/start\n",
      "2022-12-14 16:18:24,907-[INFO]- dropbox:474 -> Request to files/upload_session/append\n",
      "2022-12-14 16:18:26,138-[INFO]- dropbox:474 -> Request to files/upload_session/finish\n"
     ]
    },
    {
     "data": {
      "application/vnd.jupyter.widget-view+json": {
       "model_id": "340baed21fa94e4d8fe43b2258a7e936",
       "version_major": 2,
       "version_minor": 0
      },
      "text/plain": [
       "Uploaded:   0%|          | 0/4820772 [00:00<?, ?it/s]"
      ]
     },
     "metadata": {},
     "output_type": "display_data"
    },
    {
     "name": "stdout",
     "output_type": "stream",
     "text": [
      "2022-12-14 16:18:27,660-[INFO]- dropbox:390 -> Refreshing access token.\n",
      "2022-12-14 16:18:27,895-[INFO]- dropbox:474 -> Request to files/upload_session/start\n",
      "2022-12-14 16:18:29,342-[INFO]- dropbox:474 -> Request to files/upload_session/finish\n"
     ]
    },
    {
     "data": {
      "application/vnd.jupyter.widget-view+json": {
       "model_id": "d6574aa070114de099651de7bc47f537",
       "version_major": 2,
       "version_minor": 0
      },
      "text/plain": [
       "Uploaded:   0%|          | 0/4614149 [00:00<?, ?it/s]"
      ]
     },
     "metadata": {},
     "output_type": "display_data"
    },
    {
     "name": "stdout",
     "output_type": "stream",
     "text": [
      "2022-12-14 16:18:31,096-[INFO]- dropbox:390 -> Refreshing access token.\n",
      "2022-12-14 16:18:31,343-[INFO]- dropbox:474 -> Request to files/upload_session/start\n",
      "2022-12-14 16:18:32,651-[INFO]- dropbox:474 -> Request to files/upload_session/finish\n",
      "2022-12-14 16:18:34,413-[INFO]- dropbox:390 -> Refreshing access token.\n",
      "2022-12-14 16:18:34,705-[INFO]- dropbox:474 -> Request to files/upload\n"
     ]
    },
    {
     "data": {
      "application/vnd.jupyter.widget-view+json": {
       "model_id": "dfb2afe6755d4602a12459f9f2f3deb9",
       "version_major": 2,
       "version_minor": 0
      },
      "text/plain": [
       "Uploaded:   0%|          | 0/4251048 [00:00<?, ?it/s]"
      ]
     },
     "metadata": {},
     "output_type": "display_data"
    },
    {
     "name": "stdout",
     "output_type": "stream",
     "text": [
      "2022-12-14 16:18:36,334-[INFO]- dropbox:390 -> Refreshing access token.\n",
      "2022-12-14 16:18:36,561-[INFO]- dropbox:474 -> Request to files/upload_session/start\n",
      "2022-12-14 16:18:37,332-[INFO]- dropbox:474 -> Request to files/upload_session/finish\n"
     ]
    },
    {
     "data": {
      "application/vnd.jupyter.widget-view+json": {
       "model_id": "e1df6905a4114635a4a2b4e9e4a54175",
       "version_major": 2,
       "version_minor": 0
      },
      "text/plain": [
       "Uploaded:   0%|          | 0/4642003 [00:00<?, ?it/s]"
      ]
     },
     "metadata": {},
     "output_type": "display_data"
    },
    {
     "name": "stdout",
     "output_type": "stream",
     "text": [
      "2022-12-14 16:18:38,975-[INFO]- dropbox:390 -> Refreshing access token.\n",
      "2022-12-14 16:18:39,215-[INFO]- dropbox:474 -> Request to files/upload_session/start\n",
      "2022-12-14 16:18:40,096-[INFO]- dropbox:474 -> Request to files/upload_session/finish\n",
      "2022-12-14 16:18:41,736-[INFO]- dropbox:390 -> Refreshing access token.\n",
      "2022-12-14 16:18:41,972-[INFO]- dropbox:474 -> Request to files/upload\n"
     ]
    },
    {
     "data": {
      "application/vnd.jupyter.widget-view+json": {
       "model_id": "0c6b189edcef410f92bf361eb1a6a839",
       "version_major": 2,
       "version_minor": 0
      },
      "text/plain": [
       "Uploaded:   0%|          | 0/4738253 [00:00<?, ?it/s]"
      ]
     },
     "metadata": {},
     "output_type": "display_data"
    },
    {
     "name": "stdout",
     "output_type": "stream",
     "text": [
      "2022-12-14 16:18:43,812-[INFO]- dropbox:390 -> Refreshing access token.\n",
      "2022-12-14 16:18:44,055-[INFO]- dropbox:474 -> Request to files/upload_session/start\n",
      "2022-12-14 16:18:45,262-[INFO]- dropbox:474 -> Request to files/upload_session/finish\n"
     ]
    },
    {
     "data": {
      "application/vnd.jupyter.widget-view+json": {
       "model_id": "d5d5f6deebe74d579305d19965d0e6a2",
       "version_major": 2,
       "version_minor": 0
      },
      "text/plain": [
       "Uploaded:   0%|          | 0/4860658 [00:00<?, ?it/s]"
      ]
     },
     "metadata": {},
     "output_type": "display_data"
    },
    {
     "name": "stdout",
     "output_type": "stream",
     "text": [
      "2022-12-14 16:18:47,095-[INFO]- dropbox:390 -> Refreshing access token.\n",
      "2022-12-14 16:18:47,326-[INFO]- dropbox:474 -> Request to files/upload_session/start\n",
      "2022-12-14 16:18:49,062-[INFO]- dropbox:474 -> Request to files/upload_session/finish\n",
      "2022-12-14 16:18:50,798-[INFO]- dropbox:390 -> Refreshing access token.\n",
      "2022-12-14 16:18:51,094-[INFO]- dropbox:474 -> Request to files/upload\n",
      "2022-12-14 16:18:52,856-[INFO]- dropbox:390 -> Refreshing access token.\n",
      "2022-12-14 16:18:53,126-[INFO]- dropbox:474 -> Request to files/upload\n"
     ]
    },
    {
     "data": {
      "application/vnd.jupyter.widget-view+json": {
       "model_id": "917575e9118b4fc29848cf59cdddf3d9",
       "version_major": 2,
       "version_minor": 0
      },
      "text/plain": [
       "Uploaded:   0%|          | 0/4586551 [00:00<?, ?it/s]"
      ]
     },
     "metadata": {},
     "output_type": "display_data"
    },
    {
     "name": "stdout",
     "output_type": "stream",
     "text": [
      "2022-12-14 16:18:56,028-[INFO]- dropbox:390 -> Refreshing access token.\n",
      "2022-12-14 16:18:56,265-[INFO]- dropbox:474 -> Request to files/upload_session/start\n",
      "2022-12-14 16:18:57,360-[INFO]- dropbox:474 -> Request to files/upload_session/finish\n"
     ]
    },
    {
     "data": {
      "application/vnd.jupyter.widget-view+json": {
       "model_id": "bf4a811604f4430ca099acef555052e0",
       "version_major": 2,
       "version_minor": 0
      },
      "text/plain": [
       "Uploaded:   0%|          | 0/4908583 [00:00<?, ?it/s]"
      ]
     },
     "metadata": {},
     "output_type": "display_data"
    },
    {
     "name": "stdout",
     "output_type": "stream",
     "text": [
      "2022-12-14 16:18:59,332-[INFO]- dropbox:390 -> Refreshing access token.\n",
      "2022-12-14 16:18:59,593-[INFO]- dropbox:474 -> Request to files/upload_session/start\n",
      "2022-12-14 16:19:01,469-[INFO]- dropbox:474 -> Request to files/upload_session/finish\n",
      "2022-12-14 16:19:03,308-[INFO]- dropbox:390 -> Refreshing access token.\n",
      "2022-12-14 16:19:03,591-[INFO]- dropbox:474 -> Request to files/upload\n"
     ]
    },
    {
     "data": {
      "application/vnd.jupyter.widget-view+json": {
       "model_id": "27779f47b149452290deb576d2aadcc3",
       "version_major": 2,
       "version_minor": 0
      },
      "text/plain": [
       "Uploaded:   0%|          | 0/4758826 [00:00<?, ?it/s]"
      ]
     },
     "metadata": {},
     "output_type": "display_data"
    },
    {
     "name": "stdout",
     "output_type": "stream",
     "text": [
      "2022-12-14 16:19:05,139-[INFO]- dropbox:390 -> Refreshing access token.\n",
      "2022-12-14 16:19:05,398-[INFO]- dropbox:474 -> Request to files/upload_session/start\n",
      "2022-12-14 16:19:06,849-[INFO]- dropbox:474 -> Request to files/upload_session/finish\n"
     ]
    },
    {
     "data": {
      "application/vnd.jupyter.widget-view+json": {
       "model_id": "3705bae738844b7784031547fd746cca",
       "version_major": 2,
       "version_minor": 0
      },
      "text/plain": [
       "Uploaded:   0%|          | 0/4354636 [00:00<?, ?it/s]"
      ]
     },
     "metadata": {},
     "output_type": "display_data"
    },
    {
     "name": "stdout",
     "output_type": "stream",
     "text": [
      "2022-12-14 16:19:08,685-[INFO]- dropbox:390 -> Refreshing access token.\n",
      "2022-12-14 16:19:08,920-[INFO]- dropbox:474 -> Request to files/upload_session/start\n",
      "2022-12-14 16:19:10,412-[INFO]- dropbox:474 -> Request to files/upload_session/finish\n",
      "2022-12-14 16:19:12,064-[INFO]- dropbox:390 -> Refreshing access token.\n",
      "2022-12-14 16:19:12,319-[INFO]- dropbox:474 -> Request to files/upload\n",
      "2022-12-14 16:19:14,312-[INFO]- dropbox:390 -> Refreshing access token.\n",
      "2022-12-14 16:19:14,567-[INFO]- dropbox:474 -> Request to files/upload\n"
     ]
    },
    {
     "data": {
      "application/vnd.jupyter.widget-view+json": {
       "model_id": "6a61f44f8c844f9eac70dfcb9e88e9eb",
       "version_major": 2,
       "version_minor": 0
      },
      "text/plain": [
       "Uploaded:   0%|          | 0/4667627 [00:00<?, ?it/s]"
      ]
     },
     "metadata": {},
     "output_type": "display_data"
    },
    {
     "name": "stdout",
     "output_type": "stream",
     "text": [
      "2022-12-14 16:19:16,121-[INFO]- dropbox:390 -> Refreshing access token.\n",
      "2022-12-14 16:19:17,113-[INFO]- dropbox:474 -> Request to files/upload_session/start\n",
      "2022-12-14 16:19:18,759-[INFO]- dropbox:474 -> Request to files/upload_session/finish\n"
     ]
    },
    {
     "data": {
      "application/vnd.jupyter.widget-view+json": {
       "model_id": "4ef0aa25705244a99fce48659bf23d85",
       "version_major": 2,
       "version_minor": 0
      },
      "text/plain": [
       "Uploaded:   0%|          | 0/4643943 [00:00<?, ?it/s]"
      ]
     },
     "metadata": {},
     "output_type": "display_data"
    },
    {
     "name": "stdout",
     "output_type": "stream",
     "text": [
      "2022-12-14 16:19:20,652-[INFO]- dropbox:390 -> Refreshing access token.\n",
      "2022-12-14 16:19:20,913-[INFO]- dropbox:474 -> Request to files/upload_session/start\n",
      "2022-12-14 16:19:22,412-[INFO]- dropbox:474 -> Request to files/upload_session/finish\n",
      "2022-12-14 16:19:23,859-[INFO]- dropbox:390 -> Refreshing access token.\n",
      "2022-12-14 16:19:24,115-[INFO]- dropbox:474 -> Request to files/upload\n",
      "2022-12-14 16:19:26,369-[INFO]- dropbox:390 -> Refreshing access token.\n",
      "2022-12-14 16:19:26,636-[INFO]- dropbox:474 -> Request to files/upload\n"
     ]
    },
    {
     "data": {
      "application/vnd.jupyter.widget-view+json": {
       "model_id": "cd4d19cb75e2414e8ae7d292dae52799",
       "version_major": 2,
       "version_minor": 0
      },
      "text/plain": [
       "Uploaded:   0%|          | 0/4582674 [00:00<?, ?it/s]"
      ]
     },
     "metadata": {},
     "output_type": "display_data"
    },
    {
     "name": "stdout",
     "output_type": "stream",
     "text": [
      "2022-12-14 16:19:28,347-[INFO]- dropbox:390 -> Refreshing access token.\n",
      "2022-12-14 16:19:28,589-[INFO]- dropbox:474 -> Request to files/upload_session/start\n",
      "2022-12-14 16:19:29,523-[INFO]- dropbox:474 -> Request to files/upload_session/finish\n",
      "2022-12-14 16:19:35,102-[INFO]- dropbox:390 -> Refreshing access token.\n",
      "2022-12-14 16:19:35,393-[INFO]- dropbox:474 -> Request to files/upload\n",
      "2022-12-14 16:19:37,380-[INFO]- dropbox:390 -> Refreshing access token.\n",
      "2022-12-14 16:19:37,656-[INFO]- dropbox:474 -> Request to files/upload\n"
     ]
    },
    {
     "data": {
      "application/vnd.jupyter.widget-view+json": {
       "model_id": "f45423455b01466996cfd8b0cd978713",
       "version_major": 2,
       "version_minor": 0
      },
      "text/plain": [
       "Uploaded:   0%|          | 0/4836907 [00:00<?, ?it/s]"
      ]
     },
     "metadata": {},
     "output_type": "display_data"
    },
    {
     "name": "stdout",
     "output_type": "stream",
     "text": [
      "2022-12-14 16:19:40,034-[INFO]- dropbox:390 -> Refreshing access token.\n",
      "2022-12-14 16:19:40,285-[INFO]- dropbox:474 -> Request to files/upload_session/start\n",
      "2022-12-14 16:19:41,326-[INFO]- dropbox:474 -> Request to files/upload_session/finish\n"
     ]
    },
    {
     "data": {
      "application/vnd.jupyter.widget-view+json": {
       "model_id": "81fa8657d4b5442aba11e3fa6db67548",
       "version_major": 2,
       "version_minor": 0
      },
      "text/plain": [
       "Uploaded:   0%|          | 0/4740281 [00:00<?, ?it/s]"
      ]
     },
     "metadata": {},
     "output_type": "display_data"
    },
    {
     "name": "stdout",
     "output_type": "stream",
     "text": [
      "2022-12-14 16:19:43,122-[INFO]- dropbox:390 -> Refreshing access token.\n",
      "2022-12-14 16:19:43,414-[INFO]- dropbox:474 -> Request to files/upload_session/start\n",
      "2022-12-14 16:19:44,342-[INFO]- dropbox:474 -> Request to files/upload_session/finish\n"
     ]
    },
    {
     "data": {
      "application/vnd.jupyter.widget-view+json": {
       "model_id": "d8957bddf2994fd7a8b4ddcbc32aa216",
       "version_major": 2,
       "version_minor": 0
      },
      "text/plain": [
       "Uploaded:   0%|          | 0/4427974 [00:00<?, ?it/s]"
      ]
     },
     "metadata": {},
     "output_type": "display_data"
    },
    {
     "name": "stdout",
     "output_type": "stream",
     "text": [
      "2022-12-14 16:19:46,314-[INFO]- dropbox:390 -> Refreshing access token.\n",
      "2022-12-14 16:19:46,574-[INFO]- dropbox:474 -> Request to files/upload_session/start\n",
      "2022-12-14 16:19:47,561-[INFO]- dropbox:474 -> Request to files/upload_session/finish\n"
     ]
    },
    {
     "data": {
      "application/vnd.jupyter.widget-view+json": {
       "model_id": "87de523529db4b6b9774012697e257fd",
       "version_major": 2,
       "version_minor": 0
      },
      "text/plain": [
       "Uploaded:   0%|          | 0/4887398 [00:00<?, ?it/s]"
      ]
     },
     "metadata": {},
     "output_type": "display_data"
    },
    {
     "name": "stdout",
     "output_type": "stream",
     "text": [
      "2022-12-14 16:19:49,163-[INFO]- dropbox:390 -> Refreshing access token.\n",
      "2022-12-14 16:19:49,403-[INFO]- dropbox:474 -> Request to files/upload_session/start\n",
      "2022-12-14 16:19:50,271-[INFO]- dropbox:474 -> Request to files/upload_session/finish\n",
      "2022-12-14 16:19:51,874-[INFO]- dropbox:390 -> Refreshing access token.\n",
      "2022-12-14 16:19:52,104-[INFO]- dropbox:474 -> Request to files/upload\n"
     ]
    },
    {
     "data": {
      "application/vnd.jupyter.widget-view+json": {
       "model_id": "5864c99012684fb58f4b1c590dd1c0fd",
       "version_major": 2,
       "version_minor": 0
      },
      "text/plain": [
       "Uploaded:   0%|          | 0/4225995 [00:00<?, ?it/s]"
      ]
     },
     "metadata": {},
     "output_type": "display_data"
    },
    {
     "name": "stdout",
     "output_type": "stream",
     "text": [
      "2022-12-14 16:19:53,809-[INFO]- dropbox:390 -> Refreshing access token.\n",
      "2022-12-14 16:19:54,045-[INFO]- dropbox:474 -> Request to files/upload_session/start\n",
      "2022-12-14 16:19:55,161-[INFO]- dropbox:474 -> Request to files/upload_session/finish\n",
      "2022-12-14 16:19:56,799-[INFO]- dropbox:390 -> Refreshing access token.\n",
      "2022-12-14 16:19:57,063-[INFO]- dropbox:474 -> Request to files/upload\n"
     ]
    },
    {
     "data": {
      "application/vnd.jupyter.widget-view+json": {
       "model_id": "d23fbb803d994f4f90d774ecf4a4df2e",
       "version_major": 2,
       "version_minor": 0
      },
      "text/plain": [
       "Uploaded:   0%|          | 0/4891968 [00:00<?, ?it/s]"
      ]
     },
     "metadata": {},
     "output_type": "display_data"
    },
    {
     "name": "stdout",
     "output_type": "stream",
     "text": [
      "2022-12-14 16:19:58,519-[INFO]- dropbox:390 -> Refreshing access token.\n",
      "2022-12-14 16:19:58,809-[INFO]- dropbox:474 -> Request to files/upload_session/start\n",
      "2022-12-14 16:19:59,986-[INFO]- dropbox:474 -> Request to files/upload_session/finish\n"
     ]
    },
    {
     "data": {
      "application/vnd.jupyter.widget-view+json": {
       "model_id": "68416396d7984542a498e2519a0386ca",
       "version_major": 2,
       "version_minor": 0
      },
      "text/plain": [
       "Uploaded:   0%|          | 0/4836687 [00:00<?, ?it/s]"
      ]
     },
     "metadata": {},
     "output_type": "display_data"
    },
    {
     "name": "stdout",
     "output_type": "stream",
     "text": [
      "2022-12-14 16:20:01,744-[INFO]- dropbox:390 -> Refreshing access token.\n",
      "2022-12-14 16:20:02,045-[INFO]- dropbox:474 -> Request to files/upload_session/start\n",
      "2022-12-14 16:20:03,203-[INFO]- dropbox:474 -> Request to files/upload_session/finish\n"
     ]
    },
    {
     "data": {
      "application/vnd.jupyter.widget-view+json": {
       "model_id": "8ef4545db3e844eeb1d3c6f1de1ee27e",
       "version_major": 2,
       "version_minor": 0
      },
      "text/plain": [
       "Uploaded:   0%|          | 0/4794396 [00:00<?, ?it/s]"
      ]
     },
     "metadata": {},
     "output_type": "display_data"
    },
    {
     "name": "stdout",
     "output_type": "stream",
     "text": [
      "2022-12-14 16:20:04,870-[INFO]- dropbox:390 -> Refreshing access token.\n",
      "2022-12-14 16:20:05,104-[INFO]- dropbox:474 -> Request to files/upload_session/start\n",
      "2022-12-14 16:20:06,003-[INFO]- dropbox:474 -> Request to files/upload_session/finish\n"
     ]
    },
    {
     "data": {
      "application/vnd.jupyter.widget-view+json": {
       "model_id": "e8933a29235740e38548818ec4c38872",
       "version_major": 2,
       "version_minor": 0
      },
      "text/plain": [
       "Uploaded:   0%|          | 0/4494808 [00:00<?, ?it/s]"
      ]
     },
     "metadata": {},
     "output_type": "display_data"
    },
    {
     "name": "stdout",
     "output_type": "stream",
     "text": [
      "2022-12-14 16:20:07,928-[INFO]- dropbox:390 -> Refreshing access token.\n",
      "2022-12-14 16:20:08,157-[INFO]- dropbox:474 -> Request to files/upload_session/start\n",
      "2022-12-14 16:20:09,454-[INFO]- dropbox:474 -> Request to files/upload_session/finish\n"
     ]
    },
    {
     "data": {
      "application/vnd.jupyter.widget-view+json": {
       "model_id": "e52de06b32a94713b06bd83331671e80",
       "version_major": 2,
       "version_minor": 0
      },
      "text/plain": [
       "Uploaded:   0%|          | 0/4456736 [00:00<?, ?it/s]"
      ]
     },
     "metadata": {},
     "output_type": "display_data"
    },
    {
     "name": "stdout",
     "output_type": "stream",
     "text": [
      "2022-12-14 16:20:11,374-[INFO]- dropbox:390 -> Refreshing access token.\n",
      "2022-12-14 16:20:11,655-[INFO]- dropbox:474 -> Request to files/upload_session/start\n",
      "2022-12-14 16:20:12,991-[INFO]- dropbox:474 -> Request to files/upload_session/finish\n"
     ]
    },
    {
     "data": {
      "application/vnd.jupyter.widget-view+json": {
       "model_id": "66462eee56e742d6b8f1cb6b297c7c18",
       "version_major": 2,
       "version_minor": 0
      },
      "text/plain": [
       "Uploaded:   0%|          | 0/4782335 [00:00<?, ?it/s]"
      ]
     },
     "metadata": {},
     "output_type": "display_data"
    },
    {
     "name": "stdout",
     "output_type": "stream",
     "text": [
      "2022-12-14 16:20:14,782-[INFO]- dropbox:390 -> Refreshing access token.\n",
      "2022-12-14 16:20:15,026-[INFO]- dropbox:474 -> Request to files/upload_session/start\n",
      "2022-12-14 16:20:16,335-[INFO]- dropbox:474 -> Request to files/upload_session/finish\n",
      "2022-12-14 16:20:18,057-[INFO]- dropbox:390 -> Refreshing access token.\n",
      "2022-12-14 16:20:18,296-[INFO]- dropbox:474 -> Request to files/upload\n"
     ]
    },
    {
     "data": {
      "application/vnd.jupyter.widget-view+json": {
       "model_id": "4d9ddef81e304ae7ae598a3ace84ce12",
       "version_major": 2,
       "version_minor": 0
      },
      "text/plain": [
       "Uploaded:   0%|          | 0/4731028 [00:00<?, ?it/s]"
      ]
     },
     "metadata": {},
     "output_type": "display_data"
    },
    {
     "name": "stdout",
     "output_type": "stream",
     "text": [
      "2022-12-14 16:20:20,047-[INFO]- dropbox:390 -> Refreshing access token.\n",
      "2022-12-14 16:20:20,277-[INFO]- dropbox:474 -> Request to files/upload_session/start\n",
      "2022-12-14 16:20:21,149-[INFO]- dropbox:474 -> Request to files/upload_session/finish\n"
     ]
    },
    {
     "data": {
      "application/vnd.jupyter.widget-view+json": {
       "model_id": "114d4d378278466c9bef831f591c3f76",
       "version_major": 2,
       "version_minor": 0
      },
      "text/plain": [
       "Uploaded:   0%|          | 0/4771375 [00:00<?, ?it/s]"
      ]
     },
     "metadata": {},
     "output_type": "display_data"
    },
    {
     "name": "stdout",
     "output_type": "stream",
     "text": [
      "2022-12-14 16:20:22,963-[INFO]- dropbox:390 -> Refreshing access token.\n",
      "2022-12-14 16:20:23,215-[INFO]- dropbox:474 -> Request to files/upload_session/start\n",
      "2022-12-14 16:20:24,164-[INFO]- dropbox:474 -> Request to files/upload_session/finish\n"
     ]
    },
    {
     "data": {
      "application/vnd.jupyter.widget-view+json": {
       "model_id": "b011a8bb3bb742de91a4247618d6594e",
       "version_major": 2,
       "version_minor": 0
      },
      "text/plain": [
       "Uploaded:   0%|          | 0/4720056 [00:00<?, ?it/s]"
      ]
     },
     "metadata": {},
     "output_type": "display_data"
    },
    {
     "name": "stdout",
     "output_type": "stream",
     "text": [
      "2022-12-14 16:20:25,802-[INFO]- dropbox:390 -> Refreshing access token.\n",
      "2022-12-14 16:20:26,103-[INFO]- dropbox:474 -> Request to files/upload_session/start\n",
      "2022-12-14 16:20:27,016-[INFO]- dropbox:474 -> Request to files/upload_session/finish\n"
     ]
    },
    {
     "data": {
      "application/vnd.jupyter.widget-view+json": {
       "model_id": "4dd9e93584b047d5b6a53a010c8e0f40",
       "version_major": 2,
       "version_minor": 0
      },
      "text/plain": [
       "Uploaded:   0%|          | 0/4903664 [00:00<?, ?it/s]"
      ]
     },
     "metadata": {},
     "output_type": "display_data"
    },
    {
     "name": "stdout",
     "output_type": "stream",
     "text": [
      "2022-12-14 16:20:28,623-[INFO]- dropbox:390 -> Refreshing access token.\n",
      "2022-12-14 16:20:28,918-[INFO]- dropbox:474 -> Request to files/upload_session/start\n",
      "2022-12-14 16:20:30,336-[INFO]- dropbox:474 -> Request to files/upload_session/finish\n",
      "2022-12-14 16:20:31,974-[INFO]- dropbox:390 -> Refreshing access token.\n",
      "2022-12-14 16:20:32,222-[INFO]- dropbox:474 -> Request to files/upload\n"
     ]
    },
    {
     "data": {
      "application/vnd.jupyter.widget-view+json": {
       "model_id": "abdd0a24b75947eeaf046577a2c5b6df",
       "version_major": 2,
       "version_minor": 0
      },
      "text/plain": [
       "Uploaded:   0%|          | 0/4960406 [00:00<?, ?it/s]"
      ]
     },
     "metadata": {},
     "output_type": "display_data"
    },
    {
     "name": "stdout",
     "output_type": "stream",
     "text": [
      "2022-12-14 16:20:34,054-[INFO]- dropbox:390 -> Refreshing access token.\n",
      "2022-12-14 16:20:34,280-[INFO]- dropbox:474 -> Request to files/upload_session/start\n",
      "2022-12-14 16:20:35,523-[INFO]- dropbox:474 -> Request to files/upload_session/finish\n"
     ]
    },
    {
     "data": {
      "application/vnd.jupyter.widget-view+json": {
       "model_id": "82b7f78df24c4e3e864256f477203eba",
       "version_major": 2,
       "version_minor": 0
      },
      "text/plain": [
       "Uploaded:   0%|          | 0/4781409 [00:00<?, ?it/s]"
      ]
     },
     "metadata": {},
     "output_type": "display_data"
    },
    {
     "name": "stdout",
     "output_type": "stream",
     "text": [
      "2022-12-14 16:20:37,049-[INFO]- dropbox:390 -> Refreshing access token.\n",
      "2022-12-14 16:20:37,288-[INFO]- dropbox:474 -> Request to files/upload_session/start\n",
      "2022-12-14 16:20:38,287-[INFO]- dropbox:474 -> Request to files/upload_session/finish\n"
     ]
    },
    {
     "data": {
      "application/vnd.jupyter.widget-view+json": {
       "model_id": "a85cb93259fc48069a9afe4222c86304",
       "version_major": 2,
       "version_minor": 0
      },
      "text/plain": [
       "Uploaded:   0%|          | 0/4684210 [00:00<?, ?it/s]"
      ]
     },
     "metadata": {},
     "output_type": "display_data"
    },
    {
     "name": "stdout",
     "output_type": "stream",
     "text": [
      "2022-12-14 16:20:39,778-[INFO]- dropbox:390 -> Refreshing access token.\n",
      "2022-12-14 16:20:40,015-[INFO]- dropbox:474 -> Request to files/upload_session/start\n",
      "2022-12-14 16:20:41,461-[INFO]- dropbox:474 -> Request to files/upload_session/finish\n"
     ]
    },
    {
     "data": {
      "application/vnd.jupyter.widget-view+json": {
       "model_id": "f4c77260801e4bc8bd6f9282cda99756",
       "version_major": 2,
       "version_minor": 0
      },
      "text/plain": [
       "Uploaded:   0%|          | 0/4698482 [00:00<?, ?it/s]"
      ]
     },
     "metadata": {},
     "output_type": "display_data"
    },
    {
     "name": "stdout",
     "output_type": "stream",
     "text": [
      "2022-12-14 16:20:43,357-[INFO]- dropbox:390 -> Refreshing access token.\n",
      "2022-12-14 16:20:43,610-[INFO]- dropbox:474 -> Request to files/upload_session/start\n",
      "2022-12-14 16:20:44,645-[INFO]- dropbox:474 -> Request to files/upload_session/finish\n"
     ]
    },
    {
     "data": {
      "application/vnd.jupyter.widget-view+json": {
       "model_id": "f9f58205922647f5878152f42bcf9d1d",
       "version_major": 2,
       "version_minor": 0
      },
      "text/plain": [
       "Uploaded:   0%|          | 0/4353592 [00:00<?, ?it/s]"
      ]
     },
     "metadata": {},
     "output_type": "display_data"
    },
    {
     "name": "stdout",
     "output_type": "stream",
     "text": [
      "2022-12-14 16:20:46,361-[INFO]- dropbox:390 -> Refreshing access token.\n",
      "2022-12-14 16:20:46,594-[INFO]- dropbox:474 -> Request to files/upload_session/start\n",
      "2022-12-14 16:20:48,299-[INFO]- dropbox:474 -> Request to files/upload_session/finish\n"
     ]
    },
    {
     "data": {
      "application/vnd.jupyter.widget-view+json": {
       "model_id": "10e6422b37c14775a9de7b295569cc88",
       "version_major": 2,
       "version_minor": 0
      },
      "text/plain": [
       "Uploaded:   0%|          | 0/4608196 [00:00<?, ?it/s]"
      ]
     },
     "metadata": {},
     "output_type": "display_data"
    },
    {
     "name": "stdout",
     "output_type": "stream",
     "text": [
      "2022-12-14 16:20:50,201-[INFO]- dropbox:390 -> Refreshing access token.\n",
      "2022-12-14 16:20:50,472-[INFO]- dropbox:474 -> Request to files/upload_session/start\n",
      "2022-12-14 16:20:51,699-[INFO]- dropbox:474 -> Request to files/upload_session/finish\n",
      "2022-12-14 16:20:54,418-[INFO]- dropbox:502 -> HttpError status_code=500: Retrying in 0.6 seconds\n",
      "2022-12-14 16:20:55,027-[INFO]- dropbox:474 -> Request to files/upload_session/finish\n"
     ]
    },
    {
     "data": {
      "application/vnd.jupyter.widget-view+json": {
       "model_id": "1fea475c3ff048a5932205b0884e463d",
       "version_major": 2,
       "version_minor": 0
      },
      "text/plain": [
       "Uploaded:   0%|          | 0/4829650 [00:00<?, ?it/s]"
      ]
     },
     "metadata": {},
     "output_type": "display_data"
    },
    {
     "name": "stdout",
     "output_type": "stream",
     "text": [
      "2022-12-14 16:20:56,871-[INFO]- dropbox:390 -> Refreshing access token.\n",
      "2022-12-14 16:20:57,125-[INFO]- dropbox:474 -> Request to files/upload_session/start\n",
      "2022-12-14 16:20:58,331-[INFO]- dropbox:474 -> Request to files/upload_session/finish\n"
     ]
    },
    {
     "data": {
      "application/vnd.jupyter.widget-view+json": {
       "model_id": "1086adc777174649bf0af36c0962ed6d",
       "version_major": 2,
       "version_minor": 0
      },
      "text/plain": [
       "Uploaded:   0%|          | 0/4528316 [00:00<?, ?it/s]"
      ]
     },
     "metadata": {},
     "output_type": "display_data"
    },
    {
     "name": "stdout",
     "output_type": "stream",
     "text": [
      "2022-12-14 16:21:00,230-[INFO]- dropbox:390 -> Refreshing access token.\n",
      "2022-12-14 16:21:00,474-[INFO]- dropbox:474 -> Request to files/upload_session/start\n",
      "2022-12-14 16:21:01,878-[INFO]- dropbox:474 -> Request to files/upload_session/finish\n"
     ]
    },
    {
     "data": {
      "application/vnd.jupyter.widget-view+json": {
       "model_id": "1cfa864ae9804d4fa8e4b1bfaa4a8fd9",
       "version_major": 2,
       "version_minor": 0
      },
      "text/plain": [
       "Uploaded:   0%|          | 0/4724833 [00:00<?, ?it/s]"
      ]
     },
     "metadata": {},
     "output_type": "display_data"
    },
    {
     "name": "stdout",
     "output_type": "stream",
     "text": [
      "2022-12-14 16:21:03,833-[INFO]- dropbox:390 -> Refreshing access token.\n",
      "2022-12-14 16:21:04,115-[INFO]- dropbox:474 -> Request to files/upload_session/start\n",
      "2022-12-14 16:21:05,073-[INFO]- dropbox:474 -> Request to files/upload_session/finish\n",
      "2022-12-14 16:21:06,569-[INFO]- dropbox:390 -> Refreshing access token.\n",
      "2022-12-14 16:21:06,807-[INFO]- dropbox:474 -> Request to files/upload\n"
     ]
    },
    {
     "data": {
      "application/vnd.jupyter.widget-view+json": {
       "model_id": "d43a9693cd724334ae9a854ad8ade38a",
       "version_major": 2,
       "version_minor": 0
      },
      "text/plain": [
       "Uploaded:   0%|          | 0/4356166 [00:00<?, ?it/s]"
      ]
     },
     "metadata": {},
     "output_type": "display_data"
    },
    {
     "name": "stdout",
     "output_type": "stream",
     "text": [
      "2022-12-14 16:21:08,854-[INFO]- dropbox:390 -> Refreshing access token.\n",
      "2022-12-14 16:21:09,096-[INFO]- dropbox:474 -> Request to files/upload_session/start\n",
      "2022-12-14 16:21:10,381-[INFO]- dropbox:474 -> Request to files/upload_session/finish\n"
     ]
    },
    {
     "data": {
      "application/vnd.jupyter.widget-view+json": {
       "model_id": "307d7b834abd4fceb122e139acaee71e",
       "version_major": 2,
       "version_minor": 0
      },
      "text/plain": [
       "Uploaded:   0%|          | 0/4561881 [00:00<?, ?it/s]"
      ]
     },
     "metadata": {},
     "output_type": "display_data"
    },
    {
     "name": "stdout",
     "output_type": "stream",
     "text": [
      "2022-12-14 16:21:12,522-[INFO]- dropbox:390 -> Refreshing access token.\n",
      "2022-12-14 16:21:12,784-[INFO]- dropbox:474 -> Request to files/upload_session/start\n",
      "2022-12-14 16:21:14,102-[INFO]- dropbox:474 -> Request to files/upload_session/finish\n"
     ]
    },
    {
     "data": {
      "application/vnd.jupyter.widget-view+json": {
       "model_id": "3980577e963f4de99ecab01da60792cb",
       "version_major": 2,
       "version_minor": 0
      },
      "text/plain": [
       "Uploaded:   0%|          | 0/4722496 [00:00<?, ?it/s]"
      ]
     },
     "metadata": {},
     "output_type": "display_data"
    },
    {
     "name": "stdout",
     "output_type": "stream",
     "text": [
      "2022-12-14 16:21:15,960-[INFO]- dropbox:390 -> Refreshing access token.\n",
      "2022-12-14 16:21:16,214-[INFO]- dropbox:474 -> Request to files/upload_session/start\n",
      "2022-12-14 16:21:17,216-[INFO]- dropbox:474 -> Request to files/upload_session/finish\n"
     ]
    },
    {
     "data": {
      "application/vnd.jupyter.widget-view+json": {
       "model_id": "990c857cbc9a44a5b3e4c447e607e9f3",
       "version_major": 2,
       "version_minor": 0
      },
      "text/plain": [
       "Uploaded:   0%|          | 0/4574856 [00:00<?, ?it/s]"
      ]
     },
     "metadata": {},
     "output_type": "display_data"
    },
    {
     "name": "stdout",
     "output_type": "stream",
     "text": [
      "2022-12-14 16:21:18,881-[INFO]- dropbox:390 -> Refreshing access token.\n",
      "2022-12-14 16:21:19,120-[INFO]- dropbox:474 -> Request to files/upload_session/start\n",
      "2022-12-14 16:21:20,594-[INFO]- dropbox:474 -> Request to files/upload_session/finish\n",
      "2022-12-14 16:21:22,210-[INFO]- dropbox:390 -> Refreshing access token.\n",
      "2022-12-14 16:21:22,451-[INFO]- dropbox:474 -> Request to files/upload\n"
     ]
    },
    {
     "data": {
      "application/vnd.jupyter.widget-view+json": {
       "model_id": "2c5eb64b109a49d78b13c7744901d2a7",
       "version_major": 2,
       "version_minor": 0
      },
      "text/plain": [
       "Uploaded:   0%|          | 0/4563552 [00:00<?, ?it/s]"
      ]
     },
     "metadata": {},
     "output_type": "display_data"
    },
    {
     "name": "stdout",
     "output_type": "stream",
     "text": [
      "2022-12-14 16:21:23,895-[INFO]- dropbox:390 -> Refreshing access token.\n",
      "2022-12-14 16:21:24,141-[INFO]- dropbox:474 -> Request to files/upload_session/start\n",
      "2022-12-14 16:21:25,649-[INFO]- dropbox:474 -> Request to files/upload_session/finish\n"
     ]
    },
    {
     "data": {
      "application/vnd.jupyter.widget-view+json": {
       "model_id": "7972dba71e6d4c3ba4f0c29e2b6b7c92",
       "version_major": 2,
       "version_minor": 0
      },
      "text/plain": [
       "Uploaded:   0%|          | 0/5137533 [00:00<?, ?it/s]"
      ]
     },
     "metadata": {},
     "output_type": "display_data"
    },
    {
     "name": "stdout",
     "output_type": "stream",
     "text": [
      "2022-12-14 16:21:27,319-[INFO]- dropbox:390 -> Refreshing access token.\n",
      "2022-12-14 16:21:27,566-[INFO]- dropbox:474 -> Request to files/upload_session/start\n",
      "2022-12-14 16:21:28,830-[INFO]- dropbox:474 -> Request to files/upload_session/finish\n"
     ]
    },
    {
     "data": {
      "application/vnd.jupyter.widget-view+json": {
       "model_id": "1980dcc28e7447bc8b14ac57567ea9d5",
       "version_major": 2,
       "version_minor": 0
      },
      "text/plain": [
       "Uploaded:   0%|          | 0/4766702 [00:00<?, ?it/s]"
      ]
     },
     "metadata": {},
     "output_type": "display_data"
    },
    {
     "name": "stdout",
     "output_type": "stream",
     "text": [
      "2022-12-14 16:21:31,518-[INFO]- dropbox:390 -> Refreshing access token.\n",
      "2022-12-14 16:21:31,782-[INFO]- dropbox:474 -> Request to files/upload_session/start\n",
      "2022-12-14 16:21:32,631-[INFO]- dropbox:474 -> Request to files/upload_session/finish\n"
     ]
    },
    {
     "data": {
      "application/vnd.jupyter.widget-view+json": {
       "model_id": "861d95cbc7f847c3935a0110efe7c781",
       "version_major": 2,
       "version_minor": 0
      },
      "text/plain": [
       "Uploaded:   0%|          | 0/4466309 [00:00<?, ?it/s]"
      ]
     },
     "metadata": {},
     "output_type": "display_data"
    },
    {
     "name": "stdout",
     "output_type": "stream",
     "text": [
      "2022-12-14 16:21:34,636-[INFO]- dropbox:390 -> Refreshing access token.\n",
      "2022-12-14 16:21:34,889-[INFO]- dropbox:474 -> Request to files/upload_session/start\n",
      "2022-12-14 16:21:35,836-[INFO]- dropbox:474 -> Request to files/upload_session/finish\n"
     ]
    },
    {
     "data": {
      "application/vnd.jupyter.widget-view+json": {
       "model_id": "ae7fccd344e6406d8da1d13c00c14b41",
       "version_major": 2,
       "version_minor": 0
      },
      "text/plain": [
       "Uploaded:   0%|          | 0/4940386 [00:00<?, ?it/s]"
      ]
     },
     "metadata": {},
     "output_type": "display_data"
    },
    {
     "name": "stdout",
     "output_type": "stream",
     "text": [
      "2022-12-14 16:21:37,908-[INFO]- dropbox:390 -> Refreshing access token.\n",
      "2022-12-14 16:21:38,248-[INFO]- dropbox:474 -> Request to files/upload_session/start\n",
      "2022-12-14 16:21:39,380-[INFO]- dropbox:474 -> Request to files/upload_session/finish\n",
      "2022-12-14 16:21:41,301-[INFO]- dropbox:390 -> Refreshing access token.\n",
      "2022-12-14 16:21:41,560-[INFO]- dropbox:474 -> Request to files/upload\n"
     ]
    },
    {
     "data": {
      "application/vnd.jupyter.widget-view+json": {
       "model_id": "50a6d7acf23b47e7a285091cfe159a87",
       "version_major": 2,
       "version_minor": 0
      },
      "text/plain": [
       "Uploaded:   0%|          | 0/4625747 [00:00<?, ?it/s]"
      ]
     },
     "metadata": {},
     "output_type": "display_data"
    },
    {
     "name": "stdout",
     "output_type": "stream",
     "text": [
      "2022-12-14 16:21:43,464-[INFO]- dropbox:390 -> Refreshing access token.\n",
      "2022-12-14 16:21:43,687-[INFO]- dropbox:474 -> Request to files/upload_session/start\n",
      "2022-12-14 16:21:44,521-[INFO]- dropbox:474 -> Request to files/upload_session/finish\n"
     ]
    },
    {
     "data": {
      "application/vnd.jupyter.widget-view+json": {
       "model_id": "c5faa43d1f234ac9bd02639038de21f1",
       "version_major": 2,
       "version_minor": 0
      },
      "text/plain": [
       "Uploaded:   0%|          | 0/4506499 [00:00<?, ?it/s]"
      ]
     },
     "metadata": {},
     "output_type": "display_data"
    },
    {
     "name": "stdout",
     "output_type": "stream",
     "text": [
      "2022-12-14 16:21:46,578-[INFO]- dropbox:390 -> Refreshing access token.\n",
      "2022-12-14 16:21:46,927-[INFO]- dropbox:474 -> Request to files/upload_session/start\n",
      "2022-12-14 16:21:48,478-[INFO]- dropbox:474 -> Request to files/upload_session/finish\n",
      "2022-12-14 16:21:50,096-[INFO]- dropbox:390 -> Refreshing access token.\n",
      "2022-12-14 16:21:50,336-[INFO]- dropbox:474 -> Request to files/upload\n"
     ]
    },
    {
     "data": {
      "application/vnd.jupyter.widget-view+json": {
       "model_id": "a89c7935aa31440f84f1f61bd7006f7b",
       "version_major": 2,
       "version_minor": 0
      },
      "text/plain": [
       "Uploaded:   0%|          | 0/4798404 [00:00<?, ?it/s]"
      ]
     },
     "metadata": {},
     "output_type": "display_data"
    },
    {
     "name": "stdout",
     "output_type": "stream",
     "text": [
      "2022-12-14 16:21:52,255-[INFO]- dropbox:390 -> Refreshing access token.\n",
      "2022-12-14 16:21:52,514-[INFO]- dropbox:474 -> Request to files/upload_session/start\n",
      "2022-12-14 16:21:53,410-[INFO]- dropbox:474 -> Request to files/upload_session/finish\n",
      "2022-12-14 16:21:54,989-[INFO]- dropbox:390 -> Refreshing access token.\n",
      "2022-12-14 16:21:55,283-[INFO]- dropbox:474 -> Request to files/upload\n"
     ]
    },
    {
     "data": {
      "application/vnd.jupyter.widget-view+json": {
       "model_id": "6250909f450d44af8ca0ba5e56dde6ec",
       "version_major": 2,
       "version_minor": 0
      },
      "text/plain": [
       "Uploaded:   0%|          | 0/4637171 [00:00<?, ?it/s]"
      ]
     },
     "metadata": {},
     "output_type": "display_data"
    },
    {
     "name": "stdout",
     "output_type": "stream",
     "text": [
      "2022-12-14 16:21:56,852-[INFO]- dropbox:390 -> Refreshing access token.\n",
      "2022-12-14 16:21:57,114-[INFO]- dropbox:474 -> Request to files/upload_session/start\n",
      "2022-12-14 16:21:58,309-[INFO]- dropbox:474 -> Request to files/upload_session/finish\n"
     ]
    },
    {
     "data": {
      "application/vnd.jupyter.widget-view+json": {
       "model_id": "b95465042bd44e2a80817c147fd49291",
       "version_major": 2,
       "version_minor": 0
      },
      "text/plain": [
       "Uploaded:   0%|          | 0/4909610 [00:00<?, ?it/s]"
      ]
     },
     "metadata": {},
     "output_type": "display_data"
    },
    {
     "name": "stdout",
     "output_type": "stream",
     "text": [
      "2022-12-14 16:22:00,104-[INFO]- dropbox:390 -> Refreshing access token.\n",
      "2022-12-14 16:22:00,387-[INFO]- dropbox:474 -> Request to files/upload_session/start\n",
      "2022-12-14 16:22:01,488-[INFO]- dropbox:474 -> Request to files/upload_session/finish\n"
     ]
    },
    {
     "data": {
      "application/vnd.jupyter.widget-view+json": {
       "model_id": "916ecc73a2664bddac3519d01f38148d",
       "version_major": 2,
       "version_minor": 0
      },
      "text/plain": [
       "Uploaded:   0%|          | 0/4591320 [00:00<?, ?it/s]"
      ]
     },
     "metadata": {},
     "output_type": "display_data"
    },
    {
     "name": "stdout",
     "output_type": "stream",
     "text": [
      "2022-12-14 16:22:03,406-[INFO]- dropbox:390 -> Refreshing access token.\n",
      "2022-12-14 16:22:03,657-[INFO]- dropbox:474 -> Request to files/upload_session/start\n",
      "2022-12-14 16:22:06,081-[INFO]- dropbox:474 -> Request to files/upload_session/finish\n"
     ]
    },
    {
     "data": {
      "application/vnd.jupyter.widget-view+json": {
       "model_id": "65f406607d264ecda8706e23f24eaee6",
       "version_major": 2,
       "version_minor": 0
      },
      "text/plain": [
       "Uploaded:   0%|          | 0/4680940 [00:00<?, ?it/s]"
      ]
     },
     "metadata": {},
     "output_type": "display_data"
    },
    {
     "name": "stdout",
     "output_type": "stream",
     "text": [
      "2022-12-14 16:22:07,886-[INFO]- dropbox:390 -> Refreshing access token.\n",
      "2022-12-14 16:22:08,122-[INFO]- dropbox:474 -> Request to files/upload_session/start\n",
      "2022-12-14 16:22:09,015-[INFO]- dropbox:474 -> Request to files/upload_session/finish\n"
     ]
    },
    {
     "data": {
      "application/vnd.jupyter.widget-view+json": {
       "model_id": "b992d83458064968b680b62b74a9693c",
       "version_major": 2,
       "version_minor": 0
      },
      "text/plain": [
       "Uploaded:   0%|          | 0/4850518 [00:00<?, ?it/s]"
      ]
     },
     "metadata": {},
     "output_type": "display_data"
    },
    {
     "name": "stdout",
     "output_type": "stream",
     "text": [
      "2022-12-14 16:22:10,764-[INFO]- dropbox:390 -> Refreshing access token.\n",
      "2022-12-14 16:22:11,004-[INFO]- dropbox:474 -> Request to files/upload_session/start\n",
      "2022-12-14 16:22:12,429-[INFO]- dropbox:474 -> Request to files/upload_session/finish\n"
     ]
    },
    {
     "data": {
      "application/vnd.jupyter.widget-view+json": {
       "model_id": "d9aa3628869649bcbd26c6421af7396d",
       "version_major": 2,
       "version_minor": 0
      },
      "text/plain": [
       "Uploaded:   0%|          | 0/4684234 [00:00<?, ?it/s]"
      ]
     },
     "metadata": {},
     "output_type": "display_data"
    },
    {
     "name": "stdout",
     "output_type": "stream",
     "text": [
      "2022-12-14 16:22:14,275-[INFO]- dropbox:390 -> Refreshing access token.\n",
      "2022-12-14 16:22:14,530-[INFO]- dropbox:474 -> Request to files/upload_session/start\n",
      "2022-12-14 16:22:16,074-[INFO]- dropbox:474 -> Request to files/upload_session/finish\n"
     ]
    },
    {
     "data": {
      "application/vnd.jupyter.widget-view+json": {
       "model_id": "bd76b755902544719d20a9e68e536b2d",
       "version_major": 2,
       "version_minor": 0
      },
      "text/plain": [
       "Uploaded:   0%|          | 0/4657480 [00:00<?, ?it/s]"
      ]
     },
     "metadata": {},
     "output_type": "display_data"
    },
    {
     "name": "stdout",
     "output_type": "stream",
     "text": [
      "2022-12-14 16:22:17,806-[INFO]- dropbox:390 -> Refreshing access token.\n",
      "2022-12-14 16:22:18,058-[INFO]- dropbox:474 -> Request to files/upload_session/start\n",
      "2022-12-14 16:22:19,330-[INFO]- dropbox:474 -> Request to files/upload_session/finish\n"
     ]
    },
    {
     "data": {
      "application/vnd.jupyter.widget-view+json": {
       "model_id": "10083a08e0144c43a0b78259e6f3b950",
       "version_major": 2,
       "version_minor": 0
      },
      "text/plain": [
       "Uploaded:   0%|          | 0/4376374 [00:00<?, ?it/s]"
      ]
     },
     "metadata": {},
     "output_type": "display_data"
    },
    {
     "name": "stdout",
     "output_type": "stream",
     "text": [
      "2022-12-14 16:22:20,971-[INFO]- dropbox:390 -> Refreshing access token.\n",
      "2022-12-14 16:22:21,216-[INFO]- dropbox:474 -> Request to files/upload_session/start\n",
      "2022-12-14 16:22:22,389-[INFO]- dropbox:474 -> Request to files/upload_session/finish\n"
     ]
    },
    {
     "data": {
      "application/vnd.jupyter.widget-view+json": {
       "model_id": "422e58f8c6b04df4b6bc6ec9fad80b2e",
       "version_major": 2,
       "version_minor": 0
      },
      "text/plain": [
       "Uploaded:   0%|          | 0/4603622 [00:00<?, ?it/s]"
      ]
     },
     "metadata": {},
     "output_type": "display_data"
    },
    {
     "name": "stdout",
     "output_type": "stream",
     "text": [
      "2022-12-14 16:22:24,271-[INFO]- dropbox:390 -> Refreshing access token.\n",
      "2022-12-14 16:22:24,513-[INFO]- dropbox:474 -> Request to files/upload_session/start\n",
      "2022-12-14 16:22:26,063-[INFO]- dropbox:474 -> Request to files/upload_session/finish\n"
     ]
    },
    {
     "data": {
      "application/vnd.jupyter.widget-view+json": {
       "model_id": "e639664d07be4ea8b90624055f97c86f",
       "version_major": 2,
       "version_minor": 0
      },
      "text/plain": [
       "Uploaded:   0%|          | 0/4820261 [00:00<?, ?it/s]"
      ]
     },
     "metadata": {},
     "output_type": "display_data"
    },
    {
     "name": "stdout",
     "output_type": "stream",
     "text": [
      "2022-12-14 16:22:28,325-[INFO]- dropbox:390 -> Refreshing access token.\n",
      "2022-12-14 16:22:28,612-[INFO]- dropbox:474 -> Request to files/upload_session/start\n",
      "2022-12-14 16:22:29,749-[INFO]- dropbox:474 -> Request to files/upload_session/finish\n"
     ]
    },
    {
     "data": {
      "application/vnd.jupyter.widget-view+json": {
       "model_id": "9beb29ce771b48ed86829a9fa5fc8c79",
       "version_major": 2,
       "version_minor": 0
      },
      "text/plain": [
       "Uploaded:   0%|          | 0/4698727 [00:00<?, ?it/s]"
      ]
     },
     "metadata": {},
     "output_type": "display_data"
    },
    {
     "name": "stdout",
     "output_type": "stream",
     "text": [
      "2022-12-14 16:22:31,323-[INFO]- dropbox:390 -> Refreshing access token.\n",
      "2022-12-14 16:22:31,605-[INFO]- dropbox:474 -> Request to files/upload_session/start\n",
      "2022-12-14 16:22:33,046-[INFO]- dropbox:474 -> Request to files/upload_session/finish\n"
     ]
    },
    {
     "data": {
      "application/vnd.jupyter.widget-view+json": {
       "model_id": "1fda71cbef844c9f871af955465679d4",
       "version_major": 2,
       "version_minor": 0
      },
      "text/plain": [
       "Uploaded:   0%|          | 0/4691768 [00:00<?, ?it/s]"
      ]
     },
     "metadata": {},
     "output_type": "display_data"
    },
    {
     "name": "stdout",
     "output_type": "stream",
     "text": [
      "2022-12-14 16:22:34,923-[INFO]- dropbox:390 -> Refreshing access token.\n",
      "2022-12-14 16:22:35,162-[INFO]- dropbox:474 -> Request to files/upload_session/start\n",
      "2022-12-14 16:22:36,176-[INFO]- dropbox:474 -> Request to files/upload_session/finish\n"
     ]
    },
    {
     "data": {
      "application/vnd.jupyter.widget-view+json": {
       "model_id": "01774566eba84c68a77db6f5daf2005b",
       "version_major": 2,
       "version_minor": 0
      },
      "text/plain": [
       "Uploaded:   0%|          | 0/4881377 [00:00<?, ?it/s]"
      ]
     },
     "metadata": {},
     "output_type": "display_data"
    },
    {
     "name": "stdout",
     "output_type": "stream",
     "text": [
      "2022-12-14 16:22:38,072-[INFO]- dropbox:390 -> Refreshing access token.\n",
      "2022-12-14 16:22:38,320-[INFO]- dropbox:474 -> Request to files/upload_session/start\n",
      "2022-12-14 16:22:39,183-[INFO]- dropbox:474 -> Request to files/upload_session/finish\n"
     ]
    },
    {
     "data": {
      "application/vnd.jupyter.widget-view+json": {
       "model_id": "94171620572b478da8720c5129a2205b",
       "version_major": 2,
       "version_minor": 0
      },
      "text/plain": [
       "Uploaded:   0%|          | 0/4657581 [00:00<?, ?it/s]"
      ]
     },
     "metadata": {},
     "output_type": "display_data"
    },
    {
     "name": "stdout",
     "output_type": "stream",
     "text": [
      "2022-12-14 16:22:41,545-[INFO]- dropbox:390 -> Refreshing access token.\n",
      "2022-12-14 16:22:41,807-[INFO]- dropbox:474 -> Request to files/upload_session/start\n",
      "2022-12-14 16:22:43,033-[INFO]- dropbox:474 -> Request to files/upload_session/finish\n"
     ]
    },
    {
     "data": {
      "application/vnd.jupyter.widget-view+json": {
       "model_id": "3caebdb392814101bf3566cf1a38b4b9",
       "version_major": 2,
       "version_minor": 0
      },
      "text/plain": [
       "Uploaded:   0%|          | 0/4920220 [00:00<?, ?it/s]"
      ]
     },
     "metadata": {},
     "output_type": "display_data"
    },
    {
     "name": "stdout",
     "output_type": "stream",
     "text": [
      "2022-12-14 16:22:44,775-[INFO]- dropbox:390 -> Refreshing access token.\n",
      "2022-12-14 16:22:45,020-[INFO]- dropbox:474 -> Request to files/upload_session/start\n",
      "2022-12-14 16:22:46,292-[INFO]- dropbox:474 -> Request to files/upload_session/finish\n"
     ]
    },
    {
     "data": {
      "application/vnd.jupyter.widget-view+json": {
       "model_id": "311b47119b4a4e74b5d282a6bdf126d2",
       "version_major": 2,
       "version_minor": 0
      },
      "text/plain": [
       "Uploaded:   0%|          | 0/4630370 [00:00<?, ?it/s]"
      ]
     },
     "metadata": {},
     "output_type": "display_data"
    },
    {
     "name": "stdout",
     "output_type": "stream",
     "text": [
      "2022-12-14 16:22:48,247-[INFO]- dropbox:390 -> Refreshing access token.\n",
      "2022-12-14 16:22:48,508-[INFO]- dropbox:474 -> Request to files/upload_session/start\n",
      "2022-12-14 16:22:49,606-[INFO]- dropbox:474 -> Request to files/upload_session/finish\n",
      "2022-12-14 16:22:51,158-[INFO]- dropbox:390 -> Refreshing access token.\n",
      "2022-12-14 16:22:51,423-[INFO]- dropbox:474 -> Request to files/upload\n"
     ]
    },
    {
     "data": {
      "application/vnd.jupyter.widget-view+json": {
       "model_id": "bb840d76ef574f309f7d04f8a8c949dd",
       "version_major": 2,
       "version_minor": 0
      },
      "text/plain": [
       "Uploaded:   0%|          | 0/4679051 [00:00<?, ?it/s]"
      ]
     },
     "metadata": {},
     "output_type": "display_data"
    },
    {
     "name": "stdout",
     "output_type": "stream",
     "text": [
      "2022-12-14 16:22:53,437-[INFO]- dropbox:390 -> Refreshing access token.\n",
      "2022-12-14 16:22:53,691-[INFO]- dropbox:474 -> Request to files/upload_session/start\n",
      "2022-12-14 16:22:54,517-[INFO]- dropbox:474 -> Request to files/upload_session/finish\n"
     ]
    },
    {
     "data": {
      "application/vnd.jupyter.widget-view+json": {
       "model_id": "5005005581ee4444b0be0097033ee0cb",
       "version_major": 2,
       "version_minor": 0
      },
      "text/plain": [
       "Uploaded:   0%|          | 0/4861440 [00:00<?, ?it/s]"
      ]
     },
     "metadata": {},
     "output_type": "display_data"
    },
    {
     "name": "stdout",
     "output_type": "stream",
     "text": [
      "2022-12-14 16:22:56,242-[INFO]- dropbox:390 -> Refreshing access token.\n",
      "2022-12-14 16:22:56,491-[INFO]- dropbox:474 -> Request to files/upload_session/start\n",
      "2022-12-14 16:22:57,516-[INFO]- dropbox:474 -> Request to files/upload_session/finish\n",
      "2022-12-14 16:22:59,163-[INFO]- dropbox:390 -> Refreshing access token.\n",
      "2022-12-14 16:22:59,427-[INFO]- dropbox:474 -> Request to files/upload\n",
      "2022-12-14 16:23:00,908-[INFO]- dropbox:390 -> Refreshing access token.\n",
      "2022-12-14 16:23:01,156-[INFO]- dropbox:474 -> Request to files/upload\n",
      "2022-12-14 16:23:02,747-[INFO]- dropbox:390 -> Refreshing access token.\n",
      "2022-12-14 16:23:02,993-[INFO]- dropbox:474 -> Request to files/upload\n",
      "2022-12-14 16:23:04,673-[INFO]- dropbox:390 -> Refreshing access token.\n",
      "2022-12-14 16:23:05,019-[INFO]- dropbox:474 -> Request to files/upload\n"
     ]
    },
    {
     "data": {
      "application/vnd.jupyter.widget-view+json": {
       "model_id": "5c3d4b405c784916952801546353cb3b",
       "version_major": 2,
       "version_minor": 0
      },
      "text/plain": [
       "Uploaded:   0%|          | 0/4801088 [00:00<?, ?it/s]"
      ]
     },
     "metadata": {},
     "output_type": "display_data"
    },
    {
     "name": "stdout",
     "output_type": "stream",
     "text": [
      "2022-12-14 16:23:07,354-[INFO]- dropbox:390 -> Refreshing access token.\n",
      "2022-12-14 16:23:07,622-[INFO]- dropbox:474 -> Request to files/upload_session/start\n",
      "2022-12-14 16:23:08,824-[INFO]- dropbox:474 -> Request to files/upload_session/finish\n"
     ]
    },
    {
     "data": {
      "application/vnd.jupyter.widget-view+json": {
       "model_id": "45f59123a96a4821a895856d78e86849",
       "version_major": 2,
       "version_minor": 0
      },
      "text/plain": [
       "Uploaded:   0%|          | 0/4712715 [00:00<?, ?it/s]"
      ]
     },
     "metadata": {},
     "output_type": "display_data"
    },
    {
     "name": "stdout",
     "output_type": "stream",
     "text": [
      "2022-12-14 16:23:10,647-[INFO]- dropbox:390 -> Refreshing access token.\n",
      "2022-12-14 16:23:10,893-[INFO]- dropbox:474 -> Request to files/upload_session/start\n",
      "2022-12-14 16:23:12,347-[INFO]- dropbox:474 -> Request to files/upload_session/finish\n"
     ]
    },
    {
     "data": {
      "application/vnd.jupyter.widget-view+json": {
       "model_id": "6cf6fb636611416f81180bb98f21ef08",
       "version_major": 2,
       "version_minor": 0
      },
      "text/plain": [
       "Uploaded:   0%|          | 0/4442053 [00:00<?, ?it/s]"
      ]
     },
     "metadata": {},
     "output_type": "display_data"
    },
    {
     "name": "stdout",
     "output_type": "stream",
     "text": [
      "2022-12-14 16:23:14,322-[INFO]- dropbox:390 -> Refreshing access token.\n",
      "2022-12-14 16:23:14,562-[INFO]- dropbox:474 -> Request to files/upload_session/start\n",
      "2022-12-14 16:23:15,555-[INFO]- dropbox:474 -> Request to files/upload_session/finish\n"
     ]
    },
    {
     "data": {
      "application/vnd.jupyter.widget-view+json": {
       "model_id": "4632dcec89054fb3b80e78ba9067c578",
       "version_major": 2,
       "version_minor": 0
      },
      "text/plain": [
       "Uploaded:   0%|          | 0/4219757 [00:00<?, ?it/s]"
      ]
     },
     "metadata": {},
     "output_type": "display_data"
    },
    {
     "name": "stdout",
     "output_type": "stream",
     "text": [
      "2022-12-14 16:23:17,307-[INFO]- dropbox:390 -> Refreshing access token.\n",
      "2022-12-14 16:23:17,559-[INFO]- dropbox:474 -> Request to files/upload_session/start\n",
      "2022-12-14 16:23:19,429-[INFO]- dropbox:474 -> Request to files/upload_session/finish\n"
     ]
    },
    {
     "data": {
      "application/vnd.jupyter.widget-view+json": {
       "model_id": "5673a4fee1e247fb9c112cc2c6245220",
       "version_major": 2,
       "version_minor": 0
      },
      "text/plain": [
       "Uploaded:   0%|          | 0/4864823 [00:00<?, ?it/s]"
      ]
     },
     "metadata": {},
     "output_type": "display_data"
    },
    {
     "name": "stdout",
     "output_type": "stream",
     "text": [
      "2022-12-14 16:23:21,239-[INFO]- dropbox:390 -> Refreshing access token.\n",
      "2022-12-14 16:23:21,516-[INFO]- dropbox:474 -> Request to files/upload_session/start\n",
      "2022-12-14 16:23:22,749-[INFO]- dropbox:474 -> Request to files/upload_session/finish\n"
     ]
    },
    {
     "data": {
      "application/vnd.jupyter.widget-view+json": {
       "model_id": "3a3313d9d7d7482ba8b8646ce54d127f",
       "version_major": 2,
       "version_minor": 0
      },
      "text/plain": [
       "Uploaded:   0%|          | 0/4701981 [00:00<?, ?it/s]"
      ]
     },
     "metadata": {},
     "output_type": "display_data"
    },
    {
     "name": "stdout",
     "output_type": "stream",
     "text": [
      "2022-12-14 16:23:24,504-[INFO]- dropbox:390 -> Refreshing access token.\n",
      "2022-12-14 16:23:24,757-[INFO]- dropbox:474 -> Request to files/upload_session/start\n",
      "2022-12-14 16:23:25,638-[INFO]- dropbox:474 -> Request to files/upload_session/finish\n"
     ]
    },
    {
     "data": {
      "application/vnd.jupyter.widget-view+json": {
       "model_id": "171c00629ed94d148ef6b8a92bd112ff",
       "version_major": 2,
       "version_minor": 0
      },
      "text/plain": [
       "Uploaded:   0%|          | 0/4759110 [00:00<?, ?it/s]"
      ]
     },
     "metadata": {},
     "output_type": "display_data"
    },
    {
     "name": "stdout",
     "output_type": "stream",
     "text": [
      "2022-12-14 16:23:27,247-[INFO]- dropbox:390 -> Refreshing access token.\n",
      "2022-12-14 16:23:27,521-[INFO]- dropbox:474 -> Request to files/upload_session/start\n",
      "2022-12-14 16:23:28,775-[INFO]- dropbox:474 -> Request to files/upload_session/finish\n"
     ]
    },
    {
     "data": {
      "application/vnd.jupyter.widget-view+json": {
       "model_id": "4c0ddfb855ce4e4086c5030187b84515",
       "version_major": 2,
       "version_minor": 0
      },
      "text/plain": [
       "Uploaded:   0%|          | 0/4739195 [00:00<?, ?it/s]"
      ]
     },
     "metadata": {},
     "output_type": "display_data"
    },
    {
     "name": "stdout",
     "output_type": "stream",
     "text": [
      "2022-12-14 16:23:30,375-[INFO]- dropbox:390 -> Refreshing access token.\n",
      "2022-12-14 16:23:30,637-[INFO]- dropbox:474 -> Request to files/upload_session/start\n",
      "2022-12-14 16:23:31,583-[INFO]- dropbox:474 -> Request to files/upload_session/finish\n"
     ]
    },
    {
     "data": {
      "application/vnd.jupyter.widget-view+json": {
       "model_id": "a73f3a776e5e4d7ca84f7eb278fc2af7",
       "version_major": 2,
       "version_minor": 0
      },
      "text/plain": [
       "Uploaded:   0%|          | 0/4546866 [00:00<?, ?it/s]"
      ]
     },
     "metadata": {},
     "output_type": "display_data"
    },
    {
     "name": "stdout",
     "output_type": "stream",
     "text": [
      "2022-12-14 16:23:33,171-[INFO]- dropbox:390 -> Refreshing access token.\n",
      "2022-12-14 16:23:33,423-[INFO]- dropbox:474 -> Request to files/upload_session/start\n",
      "2022-12-14 16:23:34,359-[INFO]- dropbox:474 -> Request to files/upload_session/finish\n",
      "2022-12-14 16:23:35,992-[INFO]- dropbox:390 -> Refreshing access token.\n",
      "2022-12-14 16:23:36,319-[INFO]- dropbox:474 -> Request to files/upload\n",
      "2022-12-14 16:23:38,344-[INFO]- dropbox:390 -> Refreshing access token.\n",
      "2022-12-14 16:23:38,619-[INFO]- dropbox:474 -> Request to files/upload\n"
     ]
    },
    {
     "data": {
      "application/vnd.jupyter.widget-view+json": {
       "model_id": "36da51535e7d4e9a85ea8b8ec2132b29",
       "version_major": 2,
       "version_minor": 0
      },
      "text/plain": [
       "Uploaded:   0%|          | 0/4583080 [00:00<?, ?it/s]"
      ]
     },
     "metadata": {},
     "output_type": "display_data"
    },
    {
     "name": "stdout",
     "output_type": "stream",
     "text": [
      "2022-12-14 16:23:40,093-[INFO]- dropbox:390 -> Refreshing access token.\n",
      "2022-12-14 16:23:40,340-[INFO]- dropbox:474 -> Request to files/upload_session/start\n",
      "2022-12-14 16:23:42,553-[INFO]- dropbox:474 -> Request to files/upload_session/finish\n"
     ]
    },
    {
     "data": {
      "application/vnd.jupyter.widget-view+json": {
       "model_id": "d597b19299114e6b9a5a124f41ffab7b",
       "version_major": 2,
       "version_minor": 0
      },
      "text/plain": [
       "Uploaded:   0%|          | 0/4523756 [00:00<?, ?it/s]"
      ]
     },
     "metadata": {},
     "output_type": "display_data"
    },
    {
     "name": "stdout",
     "output_type": "stream",
     "text": [
      "2022-12-14 16:23:44,553-[INFO]- dropbox:390 -> Refreshing access token.\n",
      "2022-12-14 16:23:44,843-[INFO]- dropbox:474 -> Request to files/upload_session/start\n",
      "2022-12-14 16:23:45,795-[INFO]- dropbox:474 -> Request to files/upload_session/finish\n"
     ]
    },
    {
     "data": {
      "application/vnd.jupyter.widget-view+json": {
       "model_id": "4a3900411f4b44249e030344c45c3a0b",
       "version_major": 2,
       "version_minor": 0
      },
      "text/plain": [
       "Uploaded:   0%|          | 0/4664847 [00:00<?, ?it/s]"
      ]
     },
     "metadata": {},
     "output_type": "display_data"
    },
    {
     "name": "stdout",
     "output_type": "stream",
     "text": [
      "2022-12-14 16:23:47,588-[INFO]- dropbox:390 -> Refreshing access token.\n",
      "2022-12-14 16:23:47,860-[INFO]- dropbox:474 -> Request to files/upload_session/start\n",
      "2022-12-14 16:23:49,368-[INFO]- dropbox:474 -> Request to files/upload_session/finish\n"
     ]
    },
    {
     "data": {
      "application/vnd.jupyter.widget-view+json": {
       "model_id": "e6dc1927113448cf83d9e7ebc4a7096b",
       "version_major": 2,
       "version_minor": 0
      },
      "text/plain": [
       "Uploaded:   0%|          | 0/4714474 [00:00<?, ?it/s]"
      ]
     },
     "metadata": {},
     "output_type": "display_data"
    },
    {
     "name": "stdout",
     "output_type": "stream",
     "text": [
      "2022-12-14 16:23:50,991-[INFO]- dropbox:390 -> Refreshing access token.\n",
      "2022-12-14 16:23:51,238-[INFO]- dropbox:474 -> Request to files/upload_session/start\n",
      "2022-12-14 16:23:52,219-[INFO]- dropbox:474 -> Request to files/upload_session/finish\n"
     ]
    },
    {
     "data": {
      "application/vnd.jupyter.widget-view+json": {
       "model_id": "79e4ffdadce24eb7ba5339edb3afdfa4",
       "version_major": 2,
       "version_minor": 0
      },
      "text/plain": [
       "Uploaded:   0%|          | 0/4647950 [00:00<?, ?it/s]"
      ]
     },
     "metadata": {},
     "output_type": "display_data"
    },
    {
     "name": "stdout",
     "output_type": "stream",
     "text": [
      "2022-12-14 16:23:54,216-[INFO]- dropbox:390 -> Refreshing access token.\n",
      "2022-12-14 16:23:54,448-[INFO]- dropbox:474 -> Request to files/upload_session/start\n",
      "2022-12-14 16:23:55,537-[INFO]- dropbox:474 -> Request to files/upload_session/finish\n",
      "2022-12-14 16:23:57,211-[INFO]- dropbox:390 -> Refreshing access token.\n",
      "2022-12-14 16:23:57,479-[INFO]- dropbox:474 -> Request to files/upload\n"
     ]
    },
    {
     "data": {
      "application/vnd.jupyter.widget-view+json": {
       "model_id": "615cdb07b6b946bc9cedae4024289ec8",
       "version_major": 2,
       "version_minor": 0
      },
      "text/plain": [
       "Uploaded:   0%|          | 0/4843512 [00:00<?, ?it/s]"
      ]
     },
     "metadata": {},
     "output_type": "display_data"
    },
    {
     "name": "stdout",
     "output_type": "stream",
     "text": [
      "2022-12-14 16:23:59,111-[INFO]- dropbox:390 -> Refreshing access token.\n",
      "2022-12-14 16:23:59,379-[INFO]- dropbox:474 -> Request to files/upload_session/start\n",
      "2022-12-14 16:24:00,486-[INFO]- dropbox:474 -> Request to files/upload_session/finish\n"
     ]
    },
    {
     "data": {
      "application/vnd.jupyter.widget-view+json": {
       "model_id": "be999f49d8bc4f31814ac68017744be6",
       "version_major": 2,
       "version_minor": 0
      },
      "text/plain": [
       "Uploaded:   0%|          | 0/4316855 [00:00<?, ?it/s]"
      ]
     },
     "metadata": {},
     "output_type": "display_data"
    },
    {
     "name": "stdout",
     "output_type": "stream",
     "text": [
      "2022-12-14 16:24:01,913-[INFO]- dropbox:390 -> Refreshing access token.\n",
      "2022-12-14 16:24:02,369-[INFO]- dropbox:474 -> Request to files/upload_session/start\n",
      "2022-12-14 16:24:03,339-[INFO]- dropbox:474 -> Request to files/upload_session/finish\n"
     ]
    },
    {
     "data": {
      "application/vnd.jupyter.widget-view+json": {
       "model_id": "243adfc292e048c3a3e6a4b20aa37a65",
       "version_major": 2,
       "version_minor": 0
      },
      "text/plain": [
       "Uploaded:   0%|          | 0/4843327 [00:00<?, ?it/s]"
      ]
     },
     "metadata": {},
     "output_type": "display_data"
    },
    {
     "name": "stdout",
     "output_type": "stream",
     "text": [
      "2022-12-14 16:24:05,171-[INFO]- dropbox:390 -> Refreshing access token.\n",
      "2022-12-14 16:24:05,570-[INFO]- dropbox:474 -> Request to files/upload_session/start\n",
      "2022-12-14 16:24:06,478-[INFO]- dropbox:474 -> Request to files/upload_session/finish\n",
      "2022-12-14 16:24:08,074-[INFO]- dropbox:390 -> Refreshing access token.\n",
      "2022-12-14 16:24:08,308-[INFO]- dropbox:474 -> Request to files/upload\n"
     ]
    },
    {
     "data": {
      "application/vnd.jupyter.widget-view+json": {
       "model_id": "f3230d317f4149cf96e66c99c27e60d7",
       "version_major": 2,
       "version_minor": 0
      },
      "text/plain": [
       "Uploaded:   0%|          | 0/4351114 [00:00<?, ?it/s]"
      ]
     },
     "metadata": {},
     "output_type": "display_data"
    },
    {
     "name": "stdout",
     "output_type": "stream",
     "text": [
      "2022-12-14 16:24:10,452-[INFO]- dropbox:390 -> Refreshing access token.\n",
      "2022-12-14 16:24:10,706-[INFO]- dropbox:474 -> Request to files/upload_session/start\n",
      "2022-12-14 16:24:11,680-[INFO]- dropbox:474 -> Request to files/upload_session/finish\n",
      "2022-12-14 16:24:13,228-[INFO]- dropbox:390 -> Refreshing access token.\n",
      "2022-12-14 16:24:13,480-[INFO]- dropbox:474 -> Request to files/upload\n"
     ]
    },
    {
     "data": {
      "application/vnd.jupyter.widget-view+json": {
       "model_id": "5ac0fb7e75e24b4ab25d0a6b5217577b",
       "version_major": 2,
       "version_minor": 0
      },
      "text/plain": [
       "Uploaded:   0%|          | 0/4736426 [00:00<?, ?it/s]"
      ]
     },
     "metadata": {},
     "output_type": "display_data"
    },
    {
     "name": "stdout",
     "output_type": "stream",
     "text": [
      "2022-12-14 16:24:15,160-[INFO]- dropbox:390 -> Refreshing access token.\n",
      "2022-12-14 16:24:15,433-[INFO]- dropbox:474 -> Request to files/upload_session/start\n",
      "2022-12-14 16:24:16,447-[INFO]- dropbox:474 -> Request to files/upload_session/finish\n"
     ]
    },
    {
     "data": {
      "application/vnd.jupyter.widget-view+json": {
       "model_id": "50221896117d49e2ac7178fef8d7e3ae",
       "version_major": 2,
       "version_minor": 0
      },
      "text/plain": [
       "Uploaded:   0%|          | 0/4682521 [00:00<?, ?it/s]"
      ]
     },
     "metadata": {},
     "output_type": "display_data"
    },
    {
     "name": "stdout",
     "output_type": "stream",
     "text": [
      "2022-12-14 16:24:18,138-[INFO]- dropbox:390 -> Refreshing access token.\n",
      "2022-12-14 16:24:18,409-[INFO]- dropbox:474 -> Request to files/upload_session/start\n",
      "2022-12-14 16:24:19,420-[INFO]- dropbox:474 -> Request to files/upload_session/finish\n"
     ]
    },
    {
     "data": {
      "application/vnd.jupyter.widget-view+json": {
       "model_id": "7fb35c2ebc454583be3f2786fd16f5fb",
       "version_major": 2,
       "version_minor": 0
      },
      "text/plain": [
       "Uploaded:   0%|          | 0/4554560 [00:00<?, ?it/s]"
      ]
     },
     "metadata": {},
     "output_type": "display_data"
    },
    {
     "name": "stdout",
     "output_type": "stream",
     "text": [
      "2022-12-14 16:24:21,113-[INFO]- dropbox:390 -> Refreshing access token.\n",
      "2022-12-14 16:24:21,355-[INFO]- dropbox:474 -> Request to files/upload_session/start\n",
      "2022-12-14 16:24:22,295-[INFO]- dropbox:474 -> Request to files/upload_session/finish\n"
     ]
    },
    {
     "data": {
      "application/vnd.jupyter.widget-view+json": {
       "model_id": "1645149c5ae947c6b102b4433f0db931",
       "version_major": 2,
       "version_minor": 0
      },
      "text/plain": [
       "Uploaded:   0%|          | 0/4637249 [00:00<?, ?it/s]"
      ]
     },
     "metadata": {},
     "output_type": "display_data"
    },
    {
     "name": "stdout",
     "output_type": "stream",
     "text": [
      "2022-12-14 16:24:24,026-[INFO]- dropbox:390 -> Refreshing access token.\n",
      "2022-12-14 16:24:24,263-[INFO]- dropbox:474 -> Request to files/upload_session/start\n",
      "2022-12-14 16:24:25,245-[INFO]- dropbox:474 -> Request to files/upload_session/finish\n"
     ]
    },
    {
     "data": {
      "application/vnd.jupyter.widget-view+json": {
       "model_id": "480c93e6da7d478bbbece5bf9bc045c2",
       "version_major": 2,
       "version_minor": 0
      },
      "text/plain": [
       "Uploaded:   0%|          | 0/4840774 [00:00<?, ?it/s]"
      ]
     },
     "metadata": {},
     "output_type": "display_data"
    },
    {
     "name": "stdout",
     "output_type": "stream",
     "text": [
      "2022-12-14 16:24:26,707-[INFO]- dropbox:390 -> Refreshing access token.\n",
      "2022-12-14 16:24:26,951-[INFO]- dropbox:474 -> Request to files/upload_session/start\n",
      "2022-12-14 16:24:28,287-[INFO]- dropbox:474 -> Request to files/upload_session/finish\n",
      "2022-12-14 16:24:29,630-[INFO]- dropbox:390 -> Refreshing access token.\n",
      "2022-12-14 16:24:29,978-[INFO]- dropbox:474 -> Request to files/upload\n"
     ]
    },
    {
     "data": {
      "application/vnd.jupyter.widget-view+json": {
       "model_id": "643968d0321d470eaf5b90ca562108d7",
       "version_major": 2,
       "version_minor": 0
      },
      "text/plain": [
       "Uploaded:   0%|          | 0/4792153 [00:00<?, ?it/s]"
      ]
     },
     "metadata": {},
     "output_type": "display_data"
    },
    {
     "name": "stdout",
     "output_type": "stream",
     "text": [
      "2022-12-14 16:24:31,613-[INFO]- dropbox:390 -> Refreshing access token.\n",
      "2022-12-14 16:24:31,856-[INFO]- dropbox:474 -> Request to files/upload_session/start\n",
      "2022-12-14 16:24:32,946-[INFO]- dropbox:474 -> Request to files/upload_session/finish\n"
     ]
    },
    {
     "data": {
      "application/vnd.jupyter.widget-view+json": {
       "model_id": "c8f143d6ea9d4c029299580b9f026352",
       "version_major": 2,
       "version_minor": 0
      },
      "text/plain": [
       "Uploaded:   0%|          | 0/4880471 [00:00<?, ?it/s]"
      ]
     },
     "metadata": {},
     "output_type": "display_data"
    },
    {
     "name": "stdout",
     "output_type": "stream",
     "text": [
      "2022-12-14 16:24:34,617-[INFO]- dropbox:390 -> Refreshing access token.\n",
      "2022-12-14 16:24:34,841-[INFO]- dropbox:474 -> Request to files/upload_session/start\n",
      "2022-12-14 16:24:35,805-[INFO]- dropbox:474 -> Request to files/upload_session/finish\n",
      "2022-12-14 16:24:37,490-[INFO]- dropbox:390 -> Refreshing access token.\n",
      "2022-12-14 16:24:37,740-[INFO]- dropbox:474 -> Request to files/upload\n",
      "2022-12-14 16:24:39,376-[INFO]- dropbox:390 -> Refreshing access token.\n",
      "2022-12-14 16:24:39,619-[INFO]- dropbox:474 -> Request to files/upload\n",
      "2022-12-14 16:24:41,496-[INFO]- dropbox:390 -> Refreshing access token.\n",
      "2022-12-14 16:24:41,747-[INFO]- dropbox:474 -> Request to files/upload\n",
      "DATA/PRINCE\n",
      "2022-12-14 16:24:43,232-[INFO]- dropbox:390 -> Refreshing access token.\n",
      "2022-12-14 16:24:43,474-[INFO]- dropbox:474 -> Request to files/upload\n",
      "2022-12-14 16:24:45,171-[INFO]- dropbox:390 -> Refreshing access token.\n",
      "2022-12-14 16:24:45,420-[INFO]- dropbox:474 -> Request to files/upload\n"
     ]
    },
    {
     "data": {
      "application/vnd.jupyter.widget-view+json": {
       "model_id": "e6fe2f1b038141278859d9977feea159",
       "version_major": 2,
       "version_minor": 0
      },
      "text/plain": [
       "Uploaded:   0%|          | 0/204688824 [00:00<?, ?it/s]"
      ]
     },
     "metadata": {},
     "output_type": "display_data"
    },
    {
     "name": "stdout",
     "output_type": "stream",
     "text": [
      "2022-12-14 16:24:47,194-[INFO]- dropbox:390 -> Refreshing access token.\n",
      "2022-12-14 16:24:47,456-[INFO]- dropbox:474 -> Request to files/upload_session/start\n",
      "2022-12-14 16:24:48,468-[INFO]- dropbox:474 -> Request to files/upload_session/append\n",
      "2022-12-14 16:24:49,738-[INFO]- dropbox:474 -> Request to files/upload_session/append\n",
      "2022-12-14 16:24:50,855-[INFO]- dropbox:474 -> Request to files/upload_session/append\n",
      "2022-12-14 16:24:51,917-[INFO]- dropbox:474 -> Request to files/upload_session/append\n",
      "2022-12-14 16:24:53,128-[INFO]- dropbox:474 -> Request to files/upload_session/append\n",
      "2022-12-14 16:24:54,258-[INFO]- dropbox:474 -> Request to files/upload_session/append\n",
      "2022-12-14 16:24:55,361-[INFO]- dropbox:474 -> Request to files/upload_session/append\n",
      "2022-12-14 16:24:56,427-[INFO]- dropbox:474 -> Request to files/upload_session/append\n",
      "2022-12-14 16:24:57,560-[INFO]- dropbox:474 -> Request to files/upload_session/append\n",
      "2022-12-14 16:24:58,618-[INFO]- dropbox:474 -> Request to files/upload_session/append\n",
      "2022-12-14 16:24:59,805-[INFO]- dropbox:474 -> Request to files/upload_session/append\n",
      "2022-12-14 16:25:01,182-[INFO]- dropbox:474 -> Request to files/upload_session/append\n",
      "2022-12-14 16:25:02,444-[INFO]- dropbox:474 -> Request to files/upload_session/append\n",
      "2022-12-14 16:25:03,587-[INFO]- dropbox:474 -> Request to files/upload_session/append\n",
      "2022-12-14 16:25:04,592-[INFO]- dropbox:474 -> Request to files/upload_session/append\n",
      "2022-12-14 16:25:05,727-[INFO]- dropbox:474 -> Request to files/upload_session/append\n",
      "2022-12-14 16:25:06,856-[INFO]- dropbox:474 -> Request to files/upload_session/append\n",
      "2022-12-14 16:25:08,209-[INFO]- dropbox:474 -> Request to files/upload_session/append\n",
      "2022-12-14 16:25:09,542-[INFO]- dropbox:474 -> Request to files/upload_session/append\n",
      "2022-12-14 16:25:10,697-[INFO]- dropbox:474 -> Request to files/upload_session/append\n",
      "2022-12-14 16:25:12,069-[INFO]- dropbox:474 -> Request to files/upload_session/append\n",
      "2022-12-14 16:25:13,291-[INFO]- dropbox:474 -> Request to files/upload_session/append\n",
      "2022-12-14 16:25:14,892-[INFO]- dropbox:474 -> Request to files/upload_session/append\n",
      "2022-12-14 16:25:16,025-[INFO]- dropbox:474 -> Request to files/upload_session/append\n",
      "2022-12-14 16:25:18,029-[INFO]- dropbox:474 -> Request to files/upload_session/append\n",
      "2022-12-14 16:25:20,061-[INFO]- dropbox:474 -> Request to files/upload_session/append\n",
      "2022-12-14 16:25:21,206-[INFO]- dropbox:474 -> Request to files/upload_session/append\n",
      "2022-12-14 16:25:22,342-[INFO]- dropbox:474 -> Request to files/upload_session/append\n",
      "2022-12-14 16:25:23,470-[INFO]- dropbox:474 -> Request to files/upload_session/append\n",
      "2022-12-14 16:25:24,578-[INFO]- dropbox:474 -> Request to files/upload_session/append\n",
      "2022-12-14 16:25:25,553-[INFO]- dropbox:474 -> Request to files/upload_session/append\n",
      "2022-12-14 16:25:26,661-[INFO]- dropbox:474 -> Request to files/upload_session/append\n",
      "2022-12-14 16:25:27,765-[INFO]- dropbox:474 -> Request to files/upload_session/append\n",
      "2022-12-14 16:25:28,866-[INFO]- dropbox:474 -> Request to files/upload_session/append\n",
      "2022-12-14 16:25:29,937-[INFO]- dropbox:474 -> Request to files/upload_session/append\n",
      "2022-12-14 16:25:30,991-[INFO]- dropbox:474 -> Request to files/upload_session/append\n",
      "2022-12-14 16:25:32,146-[INFO]- dropbox:474 -> Request to files/upload_session/append\n",
      "2022-12-14 16:25:33,159-[INFO]- dropbox:474 -> Request to files/upload_session/append\n",
      "2022-12-14 16:25:34,500-[INFO]- dropbox:474 -> Request to files/upload_session/append\n",
      "2022-12-14 16:25:35,633-[INFO]- dropbox:474 -> Request to files/upload_session/append\n",
      "2022-12-14 16:25:37,211-[INFO]- dropbox:474 -> Request to files/upload_session/append\n",
      "2022-12-14 16:25:38,495-[INFO]- dropbox:474 -> Request to files/upload_session/append\n",
      "2022-12-14 16:25:40,485-[INFO]- dropbox:474 -> Request to files/upload_session/append\n",
      "2022-12-14 16:25:41,532-[INFO]- dropbox:474 -> Request to files/upload_session/append\n",
      "2022-12-14 16:25:43,031-[INFO]- dropbox:474 -> Request to files/upload_session/append\n",
      "2022-12-14 16:25:44,052-[INFO]- dropbox:474 -> Request to files/upload_session/append\n",
      "2022-12-14 16:25:45,292-[INFO]- dropbox:474 -> Request to files/upload_session/append\n",
      "2022-12-14 16:25:46,740-[INFO]- dropbox:474 -> Request to files/upload_session/finish\n",
      "2022-12-14 16:25:48,305-[INFO]- dropbox:390 -> Refreshing access token.\n",
      "2022-12-14 16:25:48,569-[INFO]- dropbox:474 -> Request to files/upload\n"
     ]
    },
    {
     "data": {
      "application/vnd.jupyter.widget-view+json": {
       "model_id": "ec36532b7a4e44e3b701c10fa27ff95d",
       "version_major": 2,
       "version_minor": 0
      },
      "text/plain": [
       "Uploaded:   0%|          | 0/8066236 [00:00<?, ?it/s]"
      ]
     },
     "metadata": {},
     "output_type": "display_data"
    },
    {
     "name": "stdout",
     "output_type": "stream",
     "text": [
      "2022-12-14 16:25:50,207-[INFO]- dropbox:390 -> Refreshing access token.\n",
      "2022-12-14 16:25:50,440-[INFO]- dropbox:474 -> Request to files/upload_session/start\n",
      "2022-12-14 16:25:51,484-[INFO]- dropbox:474 -> Request to files/upload_session/finish\n"
     ]
    },
    {
     "data": {
      "application/vnd.jupyter.widget-view+json": {
       "model_id": "adaa9587f6bb43139f7bf05bc650a87e",
       "version_major": 2,
       "version_minor": 0
      },
      "text/plain": [
       "Uploaded:   0%|          | 0/4943507 [00:00<?, ?it/s]"
      ]
     },
     "metadata": {},
     "output_type": "display_data"
    },
    {
     "name": "stdout",
     "output_type": "stream",
     "text": [
      "2022-12-14 16:25:53,227-[INFO]- dropbox:390 -> Refreshing access token.\n",
      "2022-12-14 16:25:53,504-[INFO]- dropbox:474 -> Request to files/upload_session/start\n",
      "2022-12-14 16:25:54,854-[INFO]- dropbox:474 -> Request to files/upload_session/finish\n"
     ]
    },
    {
     "data": {
      "application/vnd.jupyter.widget-view+json": {
       "model_id": "af19fea1f1694fc78bfcf37ab4b55898",
       "version_major": 2,
       "version_minor": 0
      },
      "text/plain": [
       "Uploaded:   0%|          | 0/5263468 [00:00<?, ?it/s]"
      ]
     },
     "metadata": {},
     "output_type": "display_data"
    },
    {
     "name": "stdout",
     "output_type": "stream",
     "text": [
      "2022-12-14 16:25:56,671-[INFO]- dropbox:390 -> Refreshing access token.\n",
      "2022-12-14 16:25:56,971-[INFO]- dropbox:474 -> Request to files/upload_session/start\n",
      "2022-12-14 16:25:58,309-[INFO]- dropbox:474 -> Request to files/upload_session/finish\n",
      "2022-12-14 16:26:00,105-[INFO]- dropbox:390 -> Refreshing access token.\n",
      "2022-12-14 16:26:00,333-[INFO]- dropbox:474 -> Request to files/upload\n"
     ]
    },
    {
     "data": {
      "application/vnd.jupyter.widget-view+json": {
       "model_id": "d6035c0f187b440abdfba111f9eb0316",
       "version_major": 2,
       "version_minor": 0
      },
      "text/plain": [
       "Uploaded:   0%|          | 0/5075765 [00:00<?, ?it/s]"
      ]
     },
     "metadata": {},
     "output_type": "display_data"
    },
    {
     "name": "stdout",
     "output_type": "stream",
     "text": [
      "2022-12-14 16:26:02,055-[INFO]- dropbox:390 -> Refreshing access token.\n",
      "2022-12-14 16:26:02,326-[INFO]- dropbox:474 -> Request to files/upload_session/start\n",
      "2022-12-14 16:26:03,428-[INFO]- dropbox:474 -> Request to files/upload_session/finish\n"
     ]
    },
    {
     "data": {
      "application/vnd.jupyter.widget-view+json": {
       "model_id": "f547001c45c44970a4c0baceffdc0a64",
       "version_major": 2,
       "version_minor": 0
      },
      "text/plain": [
       "Uploaded:   0%|          | 0/5152738 [00:00<?, ?it/s]"
      ]
     },
     "metadata": {},
     "output_type": "display_data"
    },
    {
     "name": "stdout",
     "output_type": "stream",
     "text": [
      "2022-12-14 16:26:05,378-[INFO]- dropbox:390 -> Refreshing access token.\n",
      "2022-12-14 16:26:05,633-[INFO]- dropbox:474 -> Request to files/upload_session/start\n",
      "2022-12-14 16:26:06,959-[INFO]- dropbox:474 -> Request to files/upload_session/finish\n"
     ]
    },
    {
     "data": {
      "application/vnd.jupyter.widget-view+json": {
       "model_id": "38c73a87e14a417ab8b1eb8f33fb76d4",
       "version_major": 2,
       "version_minor": 0
      },
      "text/plain": [
       "Uploaded:   0%|          | 0/6726658 [00:00<?, ?it/s]"
      ]
     },
     "metadata": {},
     "output_type": "display_data"
    },
    {
     "name": "stdout",
     "output_type": "stream",
     "text": [
      "2022-12-14 16:26:08,835-[INFO]- dropbox:390 -> Refreshing access token.\n",
      "2022-12-14 16:26:09,082-[INFO]- dropbox:474 -> Request to files/upload_session/start\n",
      "2022-12-14 16:26:10,342-[INFO]- dropbox:474 -> Request to files/upload_session/finish\n",
      "2022-12-14 16:26:12,325-[INFO]- dropbox:390 -> Refreshing access token.\n",
      "2022-12-14 16:26:12,557-[INFO]- dropbox:474 -> Request to files/upload\n"
     ]
    },
    {
     "data": {
      "application/vnd.jupyter.widget-view+json": {
       "model_id": "1f7e4daf6ccc442f852e5290b8d52766",
       "version_major": 2,
       "version_minor": 0
      },
      "text/plain": [
       "Uploaded:   0%|          | 0/5128035 [00:00<?, ?it/s]"
      ]
     },
     "metadata": {},
     "output_type": "display_data"
    },
    {
     "name": "stdout",
     "output_type": "stream",
     "text": [
      "2022-12-14 16:26:13,866-[INFO]- dropbox:390 -> Refreshing access token.\n",
      "2022-12-14 16:26:14,229-[INFO]- dropbox:474 -> Request to files/upload_session/start\n",
      "2022-12-14 16:26:15,163-[INFO]- dropbox:474 -> Request to files/upload_session/finish\n",
      "2022-12-14 16:26:16,848-[INFO]- dropbox:390 -> Refreshing access token.\n",
      "2022-12-14 16:26:17,320-[INFO]- dropbox:474 -> Request to files/upload\n"
     ]
    },
    {
     "data": {
      "application/vnd.jupyter.widget-view+json": {
       "model_id": "50977eea3bb949278897ee527b706305",
       "version_major": 2,
       "version_minor": 0
      },
      "text/plain": [
       "Uploaded:   0%|          | 0/5996244 [00:00<?, ?it/s]"
      ]
     },
     "metadata": {},
     "output_type": "display_data"
    },
    {
     "name": "stdout",
     "output_type": "stream",
     "text": [
      "2022-12-14 16:26:18,847-[INFO]- dropbox:390 -> Refreshing access token.\n",
      "2022-12-14 16:26:19,096-[INFO]- dropbox:474 -> Request to files/upload_session/start\n",
      "2022-12-14 16:26:20,394-[INFO]- dropbox:474 -> Request to files/upload_session/finish\n",
      "2022-12-14 16:26:22,217-[INFO]- dropbox:390 -> Refreshing access token.\n",
      "2022-12-14 16:26:22,458-[INFO]- dropbox:474 -> Request to files/upload\n"
     ]
    },
    {
     "data": {
      "application/vnd.jupyter.widget-view+json": {
       "model_id": "55fe24f98d634261b16fac663e0293f2",
       "version_major": 2,
       "version_minor": 0
      },
      "text/plain": [
       "Uploaded:   0%|          | 0/5702483 [00:00<?, ?it/s]"
      ]
     },
     "metadata": {},
     "output_type": "display_data"
    },
    {
     "name": "stdout",
     "output_type": "stream",
     "text": [
      "2022-12-14 16:26:24,438-[INFO]- dropbox:390 -> Refreshing access token.\n",
      "2022-12-14 16:26:24,681-[INFO]- dropbox:474 -> Request to files/upload_session/start\n",
      "2022-12-14 16:26:25,728-[INFO]- dropbox:474 -> Request to files/upload_session/finish\n"
     ]
    },
    {
     "data": {
      "application/vnd.jupyter.widget-view+json": {
       "model_id": "8ac7ef86eee3450a8cc86128609baa11",
       "version_major": 2,
       "version_minor": 0
      },
      "text/plain": [
       "Uploaded:   0%|          | 0/6507575 [00:00<?, ?it/s]"
      ]
     },
     "metadata": {},
     "output_type": "display_data"
    },
    {
     "name": "stdout",
     "output_type": "stream",
     "text": [
      "2022-12-14 16:26:27,657-[INFO]- dropbox:390 -> Refreshing access token.\n",
      "2022-12-14 16:26:27,880-[INFO]- dropbox:474 -> Request to files/upload_session/start\n",
      "2022-12-14 16:26:28,867-[INFO]- dropbox:474 -> Request to files/upload_session/finish\n",
      "2022-12-14 16:26:31,176-[INFO]- dropbox:390 -> Refreshing access token.\n",
      "2022-12-14 16:26:31,417-[INFO]- dropbox:474 -> Request to files/upload\n"
     ]
    },
    {
     "data": {
      "application/vnd.jupyter.widget-view+json": {
       "model_id": "c52ee7c3db264e94a3d802695a2eb634",
       "version_major": 2,
       "version_minor": 0
      },
      "text/plain": [
       "Uploaded:   0%|          | 0/6322901 [00:00<?, ?it/s]"
      ]
     },
     "metadata": {},
     "output_type": "display_data"
    },
    {
     "name": "stdout",
     "output_type": "stream",
     "text": [
      "2022-12-14 16:26:33,609-[INFO]- dropbox:390 -> Refreshing access token.\n",
      "2022-12-14 16:26:33,849-[INFO]- dropbox:474 -> Request to files/upload_session/start\n",
      "2022-12-14 16:26:35,483-[INFO]- dropbox:474 -> Request to files/upload_session/finish\n"
     ]
    },
    {
     "data": {
      "application/vnd.jupyter.widget-view+json": {
       "model_id": "b9c6fc4ff134420b874db90cc246c69d",
       "version_major": 2,
       "version_minor": 0
      },
      "text/plain": [
       "Uploaded:   0%|          | 0/4722721 [00:00<?, ?it/s]"
      ]
     },
     "metadata": {},
     "output_type": "display_data"
    },
    {
     "name": "stdout",
     "output_type": "stream",
     "text": [
      "2022-12-14 16:26:37,314-[INFO]- dropbox:390 -> Refreshing access token.\n",
      "2022-12-14 16:26:37,548-[INFO]- dropbox:474 -> Request to files/upload_session/start\n",
      "2022-12-14 16:26:38,586-[INFO]- dropbox:474 -> Request to files/upload_session/finish\n"
     ]
    },
    {
     "data": {
      "application/vnd.jupyter.widget-view+json": {
       "model_id": "cdc676df88264a8388a61e1098248b63",
       "version_major": 2,
       "version_minor": 0
      },
      "text/plain": [
       "Uploaded:   0%|          | 0/5184733 [00:00<?, ?it/s]"
      ]
     },
     "metadata": {},
     "output_type": "display_data"
    },
    {
     "name": "stdout",
     "output_type": "stream",
     "text": [
      "2022-12-14 16:26:40,279-[INFO]- dropbox:390 -> Refreshing access token.\n",
      "2022-12-14 16:26:40,554-[INFO]- dropbox:474 -> Request to files/upload_session/start\n",
      "2022-12-14 16:26:41,448-[INFO]- dropbox:474 -> Request to files/upload_session/finish\n",
      "2022-12-14 16:26:42,819-[INFO]- dropbox:390 -> Refreshing access token.\n",
      "2022-12-14 16:26:43,203-[INFO]- dropbox:474 -> Request to files/upload\n"
     ]
    },
    {
     "data": {
      "application/vnd.jupyter.widget-view+json": {
       "model_id": "b0fdde226b534042b747b442241d5ea1",
       "version_major": 2,
       "version_minor": 0
      },
      "text/plain": [
       "Uploaded:   0%|          | 0/4859743 [00:00<?, ?it/s]"
      ]
     },
     "metadata": {},
     "output_type": "display_data"
    },
    {
     "name": "stdout",
     "output_type": "stream",
     "text": [
      "2022-12-14 16:26:44,907-[INFO]- dropbox:390 -> Refreshing access token.\n",
      "2022-12-14 16:26:45,157-[INFO]- dropbox:474 -> Request to files/upload_session/start\n",
      "2022-12-14 16:26:46,333-[INFO]- dropbox:474 -> Request to files/upload_session/finish\n",
      "2022-12-14 16:26:48,509-[INFO]- dropbox:390 -> Refreshing access token.\n",
      "2022-12-14 16:26:48,764-[INFO]- dropbox:474 -> Request to files/upload\n",
      "2022-12-14 16:26:50,767-[INFO]- dropbox:390 -> Refreshing access token.\n",
      "2022-12-14 16:26:51,028-[INFO]- dropbox:474 -> Request to files/upload\n",
      "2022-12-14 16:26:53,093-[INFO]- dropbox:390 -> Refreshing access token.\n",
      "2022-12-14 16:26:53,333-[INFO]- dropbox:474 -> Request to files/upload\n"
     ]
    },
    {
     "data": {
      "application/vnd.jupyter.widget-view+json": {
       "model_id": "ddfbc5d5e12a4c82bfd2a42a850705ca",
       "version_major": 2,
       "version_minor": 0
      },
      "text/plain": [
       "Uploaded:   0%|          | 0/6435557 [00:00<?, ?it/s]"
      ]
     },
     "metadata": {},
     "output_type": "display_data"
    },
    {
     "name": "stdout",
     "output_type": "stream",
     "text": [
      "2022-12-14 16:26:55,432-[INFO]- dropbox:390 -> Refreshing access token.\n",
      "2022-12-14 16:26:55,705-[INFO]- dropbox:474 -> Request to files/upload_session/start\n",
      "2022-12-14 16:26:56,863-[INFO]- dropbox:474 -> Request to files/upload_session/finish\n"
     ]
    },
    {
     "data": {
      "application/vnd.jupyter.widget-view+json": {
       "model_id": "44fafb31df21416985277a8058639002",
       "version_major": 2,
       "version_minor": 0
      },
      "text/plain": [
       "Uploaded:   0%|          | 0/6865124 [00:00<?, ?it/s]"
      ]
     },
     "metadata": {},
     "output_type": "display_data"
    },
    {
     "name": "stdout",
     "output_type": "stream",
     "text": [
      "2022-12-14 16:26:58,708-[INFO]- dropbox:390 -> Refreshing access token.\n",
      "2022-12-14 16:26:58,979-[INFO]- dropbox:474 -> Request to files/upload_session/start\n",
      "2022-12-14 16:27:00,102-[INFO]- dropbox:474 -> Request to files/upload_session/finish\n"
     ]
    },
    {
     "data": {
      "application/vnd.jupyter.widget-view+json": {
       "model_id": "6db0f7da4e94490b9f3c27620d5e3145",
       "version_major": 2,
       "version_minor": 0
      },
      "text/plain": [
       "Uploaded:   0%|          | 0/4776185 [00:00<?, ?it/s]"
      ]
     },
     "metadata": {},
     "output_type": "display_data"
    },
    {
     "name": "stdout",
     "output_type": "stream",
     "text": [
      "2022-12-14 16:27:02,403-[INFO]- dropbox:390 -> Refreshing access token.\n",
      "2022-12-14 16:27:02,685-[INFO]- dropbox:474 -> Request to files/upload_session/start\n",
      "2022-12-14 16:27:03,831-[INFO]- dropbox:474 -> Request to files/upload_session/finish\n"
     ]
    },
    {
     "data": {
      "application/vnd.jupyter.widget-view+json": {
       "model_id": "c118897aa3374da280312fcab99f4b56",
       "version_major": 2,
       "version_minor": 0
      },
      "text/plain": [
       "Uploaded:   0%|          | 0/6244681 [00:00<?, ?it/s]"
      ]
     },
     "metadata": {},
     "output_type": "display_data"
    },
    {
     "name": "stdout",
     "output_type": "stream",
     "text": [
      "2022-12-14 16:27:05,571-[INFO]- dropbox:390 -> Refreshing access token.\n",
      "2022-12-14 16:27:05,802-[INFO]- dropbox:474 -> Request to files/upload_session/start\n",
      "2022-12-14 16:27:08,213-[INFO]- dropbox:474 -> Request to files/upload_session/finish\n"
     ]
    },
    {
     "data": {
      "application/vnd.jupyter.widget-view+json": {
       "model_id": "0773321c8d594d2d93dd70e98e019014",
       "version_major": 2,
       "version_minor": 0
      },
      "text/plain": [
       "Uploaded:   0%|          | 0/7064997 [00:00<?, ?it/s]"
      ]
     },
     "metadata": {},
     "output_type": "display_data"
    },
    {
     "name": "stdout",
     "output_type": "stream",
     "text": [
      "2022-12-14 16:27:10,487-[INFO]- dropbox:390 -> Refreshing access token.\n",
      "2022-12-14 16:27:10,727-[INFO]- dropbox:474 -> Request to files/upload_session/start\n",
      "2022-12-14 16:27:12,548-[INFO]- dropbox:474 -> Request to files/upload_session/finish\n",
      "2022-12-14 16:27:14,484-[INFO]- dropbox:390 -> Refreshing access token.\n",
      "2022-12-14 16:27:14,745-[INFO]- dropbox:474 -> Request to files/upload\n",
      "2022-12-14 16:27:16,270-[INFO]- dropbox:390 -> Refreshing access token.\n",
      "2022-12-14 16:27:16,507-[INFO]- dropbox:474 -> Request to files/upload\n"
     ]
    },
    {
     "data": {
      "application/vnd.jupyter.widget-view+json": {
       "model_id": "fcaddda8b28b4e1491ebcc5b5b5fff37",
       "version_major": 2,
       "version_minor": 0
      },
      "text/plain": [
       "Uploaded:   0%|          | 0/6780818 [00:00<?, ?it/s]"
      ]
     },
     "metadata": {},
     "output_type": "display_data"
    },
    {
     "name": "stdout",
     "output_type": "stream",
     "text": [
      "2022-12-14 16:27:18,463-[INFO]- dropbox:390 -> Refreshing access token.\n",
      "2022-12-14 16:27:18,721-[INFO]- dropbox:474 -> Request to files/upload_session/start\n",
      "2022-12-14 16:27:20,092-[INFO]- dropbox:474 -> Request to files/upload_session/finish\n"
     ]
    },
    {
     "data": {
      "application/vnd.jupyter.widget-view+json": {
       "model_id": "d5cef948ba33461dae5ddc8487f7723b",
       "version_major": 2,
       "version_minor": 0
      },
      "text/plain": [
       "Uploaded:   0%|          | 0/5708631 [00:00<?, ?it/s]"
      ]
     },
     "metadata": {},
     "output_type": "display_data"
    },
    {
     "name": "stdout",
     "output_type": "stream",
     "text": [
      "2022-12-14 16:27:22,271-[INFO]- dropbox:390 -> Refreshing access token.\n",
      "2022-12-14 16:27:22,508-[INFO]- dropbox:474 -> Request to files/upload_session/start\n",
      "2022-12-14 16:27:23,798-[INFO]- dropbox:474 -> Request to files/upload_session/finish\n"
     ]
    },
    {
     "data": {
      "application/vnd.jupyter.widget-view+json": {
       "model_id": "e1ae57b1fb594d2bba3f0d9a7595ab8f",
       "version_major": 2,
       "version_minor": 0
      },
      "text/plain": [
       "Uploaded:   0%|          | 0/5445668 [00:00<?, ?it/s]"
      ]
     },
     "metadata": {},
     "output_type": "display_data"
    },
    {
     "name": "stdout",
     "output_type": "stream",
     "text": [
      "2022-12-14 16:27:25,472-[INFO]- dropbox:390 -> Refreshing access token.\n",
      "2022-12-14 16:27:25,785-[INFO]- dropbox:474 -> Request to files/upload_session/start\n",
      "2022-12-14 16:27:27,243-[INFO]- dropbox:474 -> Request to files/upload_session/finish\n",
      "2022-12-14 16:27:29,114-[INFO]- dropbox:390 -> Refreshing access token.\n",
      "2022-12-14 16:27:29,360-[INFO]- dropbox:474 -> Request to files/upload\n",
      "2022-12-14 16:27:30,975-[INFO]- dropbox:390 -> Refreshing access token.\n",
      "2022-12-14 16:27:31,217-[INFO]- dropbox:474 -> Request to files/upload\n"
     ]
    },
    {
     "data": {
      "application/vnd.jupyter.widget-view+json": {
       "model_id": "9317ee589ac348d488b8d3fd5f77550b",
       "version_major": 2,
       "version_minor": 0
      },
      "text/plain": [
       "Uploaded:   0%|          | 0/6818890 [00:00<?, ?it/s]"
      ]
     },
     "metadata": {},
     "output_type": "display_data"
    },
    {
     "name": "stdout",
     "output_type": "stream",
     "text": [
      "2022-12-14 16:27:33,137-[INFO]- dropbox:390 -> Refreshing access token.\n",
      "2022-12-14 16:27:33,382-[INFO]- dropbox:474 -> Request to files/upload_session/start\n",
      "2022-12-14 16:27:34,443-[INFO]- dropbox:474 -> Request to files/upload_session/finish\n"
     ]
    },
    {
     "data": {
      "application/vnd.jupyter.widget-view+json": {
       "model_id": "fb834e38951648e78df34802fe0fe099",
       "version_major": 2,
       "version_minor": 0
      },
      "text/plain": [
       "Uploaded:   0%|          | 0/5362890 [00:00<?, ?it/s]"
      ]
     },
     "metadata": {},
     "output_type": "display_data"
    },
    {
     "name": "stdout",
     "output_type": "stream",
     "text": [
      "2022-12-14 16:27:36,431-[INFO]- dropbox:390 -> Refreshing access token.\n",
      "2022-12-14 16:27:36,670-[INFO]- dropbox:474 -> Request to files/upload_session/start\n",
      "2022-12-14 16:27:37,670-[INFO]- dropbox:474 -> Request to files/upload_session/finish\n"
     ]
    },
    {
     "data": {
      "application/vnd.jupyter.widget-view+json": {
       "model_id": "c2d661baca0441b0a650341326625565",
       "version_major": 2,
       "version_minor": 0
      },
      "text/plain": [
       "Uploaded:   0%|          | 0/5352271 [00:00<?, ?it/s]"
      ]
     },
     "metadata": {},
     "output_type": "display_data"
    },
    {
     "name": "stdout",
     "output_type": "stream",
     "text": [
      "2022-12-14 16:27:40,051-[INFO]- dropbox:390 -> Refreshing access token.\n",
      "2022-12-14 16:27:40,291-[INFO]- dropbox:474 -> Request to files/upload_session/start\n",
      "2022-12-14 16:27:42,154-[INFO]- dropbox:474 -> Request to files/upload_session/finish\n"
     ]
    },
    {
     "data": {
      "application/vnd.jupyter.widget-view+json": {
       "model_id": "e0d141697e154d8e89944a9328889fcf",
       "version_major": 2,
       "version_minor": 0
      },
      "text/plain": [
       "Uploaded:   0%|          | 0/5719542 [00:00<?, ?it/s]"
      ]
     },
     "metadata": {},
     "output_type": "display_data"
    },
    {
     "name": "stdout",
     "output_type": "stream",
     "text": [
      "2022-12-14 16:27:43,772-[INFO]- dropbox:390 -> Refreshing access token.\n",
      "2022-12-14 16:27:44,008-[INFO]- dropbox:474 -> Request to files/upload_session/start\n",
      "2022-12-14 16:27:44,844-[INFO]- dropbox:474 -> Request to files/upload_session/finish\n"
     ]
    },
    {
     "data": {
      "application/vnd.jupyter.widget-view+json": {
       "model_id": "1a0ed751cfd04b8eaafadbb5729fb95f",
       "version_major": 2,
       "version_minor": 0
      },
      "text/plain": [
       "Uploaded:   0%|          | 0/4399571 [00:00<?, ?it/s]"
      ]
     },
     "metadata": {},
     "output_type": "display_data"
    },
    {
     "name": "stdout",
     "output_type": "stream",
     "text": [
      "2022-12-14 16:27:46,592-[INFO]- dropbox:390 -> Refreshing access token.\n",
      "2022-12-14 16:27:46,834-[INFO]- dropbox:474 -> Request to files/upload_session/start\n",
      "2022-12-14 16:27:47,768-[INFO]- dropbox:474 -> Request to files/upload_session/finish\n",
      "2022-12-14 16:27:49,816-[INFO]- dropbox:390 -> Refreshing access token.\n",
      "2022-12-14 16:27:50,082-[INFO]- dropbox:474 -> Request to files/upload\n",
      "2022-12-14 16:27:51,595-[INFO]- dropbox:390 -> Refreshing access token.\n",
      "2022-12-14 16:27:51,826-[INFO]- dropbox:474 -> Request to files/upload\n"
     ]
    },
    {
     "data": {
      "application/vnd.jupyter.widget-view+json": {
       "model_id": "e6e566cf56c24be388d1d64e204b6688",
       "version_major": 2,
       "version_minor": 0
      },
      "text/plain": [
       "Uploaded:   0%|          | 0/6388796 [00:00<?, ?it/s]"
      ]
     },
     "metadata": {},
     "output_type": "display_data"
    },
    {
     "name": "stdout",
     "output_type": "stream",
     "text": [
      "2022-12-14 16:27:53,912-[INFO]- dropbox:390 -> Refreshing access token.\n",
      "2022-12-14 16:27:54,178-[INFO]- dropbox:474 -> Request to files/upload_session/start\n",
      "2022-12-14 16:27:55,092-[INFO]- dropbox:474 -> Request to files/upload_session/finish\n"
     ]
    },
    {
     "data": {
      "application/vnd.jupyter.widget-view+json": {
       "model_id": "0cf24c8ab5984e788773bbb5f5d7b752",
       "version_major": 2,
       "version_minor": 0
      },
      "text/plain": [
       "Uploaded:   0%|          | 0/6596521 [00:00<?, ?it/s]"
      ]
     },
     "metadata": {},
     "output_type": "display_data"
    },
    {
     "name": "stdout",
     "output_type": "stream",
     "text": [
      "2022-12-14 16:27:57,151-[INFO]- dropbox:390 -> Refreshing access token.\n",
      "2022-12-14 16:27:57,420-[INFO]- dropbox:474 -> Request to files/upload_session/start\n",
      "2022-12-14 16:27:58,341-[INFO]- dropbox:474 -> Request to files/upload_session/finish\n",
      "2022-12-14 16:28:00,817-[INFO]- dropbox:390 -> Refreshing access token.\n",
      "2022-12-14 16:28:01,069-[INFO]- dropbox:474 -> Request to files/upload\n"
     ]
    },
    {
     "data": {
      "application/vnd.jupyter.widget-view+json": {
       "model_id": "526b887bc768454181fdbc2515e02023",
       "version_major": 2,
       "version_minor": 0
      },
      "text/plain": [
       "Uploaded:   0%|          | 0/6120344 [00:00<?, ?it/s]"
      ]
     },
     "metadata": {},
     "output_type": "display_data"
    },
    {
     "name": "stdout",
     "output_type": "stream",
     "text": [
      "2022-12-14 16:28:02,619-[INFO]- dropbox:390 -> Refreshing access token.\n",
      "2022-12-14 16:28:02,857-[INFO]- dropbox:474 -> Request to files/upload_session/start\n",
      "2022-12-14 16:28:04,382-[INFO]- dropbox:474 -> Request to files/upload_session/finish\n"
     ]
    },
    {
     "data": {
      "application/vnd.jupyter.widget-view+json": {
       "model_id": "5f0a5e28ac0f4737811d7d06c239a6cd",
       "version_major": 2,
       "version_minor": 0
      },
      "text/plain": [
       "Uploaded:   0%|          | 0/4702713 [00:00<?, ?it/s]"
      ]
     },
     "metadata": {},
     "output_type": "display_data"
    },
    {
     "name": "stdout",
     "output_type": "stream",
     "text": [
      "2022-12-14 16:28:06,318-[INFO]- dropbox:390 -> Refreshing access token.\n",
      "2022-12-14 16:28:06,567-[INFO]- dropbox:474 -> Request to files/upload_session/start\n",
      "2022-12-14 16:28:07,822-[INFO]- dropbox:474 -> Request to files/upload_session/finish\n"
     ]
    },
    {
     "data": {
      "application/vnd.jupyter.widget-view+json": {
       "model_id": "4a0d25d689e248a48e675b041d97488b",
       "version_major": 2,
       "version_minor": 0
      },
      "text/plain": [
       "Uploaded:   0%|          | 0/5236851 [00:00<?, ?it/s]"
      ]
     },
     "metadata": {},
     "output_type": "display_data"
    },
    {
     "name": "stdout",
     "output_type": "stream",
     "text": [
      "2022-12-14 16:28:09,567-[INFO]- dropbox:390 -> Refreshing access token.\n",
      "2022-12-14 16:28:09,823-[INFO]- dropbox:474 -> Request to files/upload_session/start\n",
      "2022-12-14 16:28:10,802-[INFO]- dropbox:474 -> Request to files/upload_session/finish\n"
     ]
    },
    {
     "data": {
      "application/vnd.jupyter.widget-view+json": {
       "model_id": "e990b720c3464909bf3014573b2a406b",
       "version_major": 2,
       "version_minor": 0
      },
      "text/plain": [
       "Uploaded:   0%|          | 0/6881336 [00:00<?, ?it/s]"
      ]
     },
     "metadata": {},
     "output_type": "display_data"
    },
    {
     "name": "stdout",
     "output_type": "stream",
     "text": [
      "2022-12-14 16:28:12,941-[INFO]- dropbox:390 -> Refreshing access token.\n",
      "2022-12-14 16:28:13,167-[INFO]- dropbox:474 -> Request to files/upload_session/start\n",
      "2022-12-14 16:28:14,331-[INFO]- dropbox:474 -> Request to files/upload_session/finish\n",
      "2022-12-14 16:28:16,229-[INFO]- dropbox:390 -> Refreshing access token.\n",
      "2022-12-14 16:28:16,469-[INFO]- dropbox:474 -> Request to files/upload\n"
     ]
    },
    {
     "data": {
      "application/vnd.jupyter.widget-view+json": {
       "model_id": "3fd2169eb4c444809881639f5936d682",
       "version_major": 2,
       "version_minor": 0
      },
      "text/plain": [
       "Uploaded:   0%|          | 0/6788597 [00:00<?, ?it/s]"
      ]
     },
     "metadata": {},
     "output_type": "display_data"
    },
    {
     "name": "stdout",
     "output_type": "stream",
     "text": [
      "2022-12-14 16:28:18,382-[INFO]- dropbox:390 -> Refreshing access token.\n",
      "2022-12-14 16:28:18,637-[INFO]- dropbox:474 -> Request to files/upload_session/start\n",
      "2022-12-14 16:28:19,688-[INFO]- dropbox:474 -> Request to files/upload_session/finish\n",
      "2022-12-14 16:28:21,374-[INFO]- dropbox:390 -> Refreshing access token.\n",
      "2022-12-14 16:28:21,623-[INFO]- dropbox:474 -> Request to files/upload\n"
     ]
    },
    {
     "data": {
      "application/vnd.jupyter.widget-view+json": {
       "model_id": "428704f7e1cc47f3a8d5eb3b69ce822c",
       "version_major": 2,
       "version_minor": 0
      },
      "text/plain": [
       "Uploaded:   0%|          | 0/6403992 [00:00<?, ?it/s]"
      ]
     },
     "metadata": {},
     "output_type": "display_data"
    },
    {
     "name": "stdout",
     "output_type": "stream",
     "text": [
      "2022-12-14 16:28:23,612-[INFO]- dropbox:390 -> Refreshing access token.\n",
      "2022-12-14 16:28:23,916-[INFO]- dropbox:474 -> Request to files/upload_session/start\n",
      "2022-12-14 16:28:24,816-[INFO]- dropbox:474 -> Request to files/upload_session/finish\n",
      "2022-12-14 16:28:26,568-[INFO]- dropbox:390 -> Refreshing access token.\n",
      "2022-12-14 16:28:26,807-[INFO]- dropbox:474 -> Request to files/upload\n"
     ]
    },
    {
     "data": {
      "application/vnd.jupyter.widget-view+json": {
       "model_id": "0c22b843cfa648efba5a0e42e33c9b69",
       "version_major": 2,
       "version_minor": 0
      },
      "text/plain": [
       "Uploaded:   0%|          | 0/4386054 [00:00<?, ?it/s]"
      ]
     },
     "metadata": {},
     "output_type": "display_data"
    },
    {
     "name": "stdout",
     "output_type": "stream",
     "text": [
      "2022-12-14 16:28:29,142-[INFO]- dropbox:390 -> Refreshing access token.\n",
      "2022-12-14 16:28:29,401-[INFO]- dropbox:474 -> Request to files/upload_session/start\n",
      "2022-12-14 16:28:30,284-[INFO]- dropbox:474 -> Request to files/upload_session/finish\n",
      "2022-12-14 16:28:31,829-[INFO]- dropbox:390 -> Refreshing access token.\n",
      "2022-12-14 16:28:32,054-[INFO]- dropbox:474 -> Request to files/upload\n"
     ]
    },
    {
     "data": {
      "application/vnd.jupyter.widget-view+json": {
       "model_id": "1e50fb84dfcf4c4e905ac7841bdd266f",
       "version_major": 2,
       "version_minor": 0
      },
      "text/plain": [
       "Uploaded:   0%|          | 0/7017445 [00:00<?, ?it/s]"
      ]
     },
     "metadata": {},
     "output_type": "display_data"
    },
    {
     "name": "stdout",
     "output_type": "stream",
     "text": [
      "2022-12-14 16:28:34,314-[INFO]- dropbox:390 -> Refreshing access token.\n",
      "2022-12-14 16:28:34,572-[INFO]- dropbox:474 -> Request to files/upload_session/start\n",
      "2022-12-14 16:28:35,489-[INFO]- dropbox:474 -> Request to files/upload_session/finish\n"
     ]
    },
    {
     "data": {
      "application/vnd.jupyter.widget-view+json": {
       "model_id": "5865c02a7fbe45c4b777d89cce2a8318",
       "version_major": 2,
       "version_minor": 0
      },
      "text/plain": [
       "Uploaded:   0%|          | 0/5322102 [00:00<?, ?it/s]"
      ]
     },
     "metadata": {},
     "output_type": "display_data"
    },
    {
     "name": "stdout",
     "output_type": "stream",
     "text": [
      "2022-12-14 16:28:37,795-[INFO]- dropbox:390 -> Refreshing access token.\n",
      "2022-12-14 16:28:38,047-[INFO]- dropbox:474 -> Request to files/upload_session/start\n",
      "2022-12-14 16:28:39,192-[INFO]- dropbox:474 -> Request to files/upload_session/finish\n"
     ]
    },
    {
     "data": {
      "application/vnd.jupyter.widget-view+json": {
       "model_id": "daae30aff1ff409cb534e6b37ca6a2c2",
       "version_major": 2,
       "version_minor": 0
      },
      "text/plain": [
       "Uploaded:   0%|          | 0/4442614 [00:00<?, ?it/s]"
      ]
     },
     "metadata": {},
     "output_type": "display_data"
    },
    {
     "name": "stdout",
     "output_type": "stream",
     "text": [
      "2022-12-14 16:28:41,182-[INFO]- dropbox:390 -> Refreshing access token.\n",
      "2022-12-14 16:28:41,419-[INFO]- dropbox:474 -> Request to files/upload_session/start\n",
      "2022-12-14 16:28:43,722-[INFO]- dropbox:474 -> Request to files/upload_session/finish\n"
     ]
    },
    {
     "data": {
      "application/vnd.jupyter.widget-view+json": {
       "model_id": "dfe02f3af0ae47c89b2c5ea295c59ba8",
       "version_major": 2,
       "version_minor": 0
      },
      "text/plain": [
       "Uploaded:   0%|          | 0/6819741 [00:00<?, ?it/s]"
      ]
     },
     "metadata": {},
     "output_type": "display_data"
    },
    {
     "name": "stdout",
     "output_type": "stream",
     "text": [
      "2022-12-14 16:28:45,975-[INFO]- dropbox:390 -> Refreshing access token.\n",
      "2022-12-14 16:28:46,209-[INFO]- dropbox:474 -> Request to files/upload_session/start\n",
      "2022-12-14 16:28:47,201-[INFO]- dropbox:474 -> Request to files/upload_session/finish\n"
     ]
    },
    {
     "data": {
      "application/vnd.jupyter.widget-view+json": {
       "model_id": "6d1bdf93f5e94391bc2eb45c0a7a3c12",
       "version_major": 2,
       "version_minor": 0
      },
      "text/plain": [
       "Uploaded:   0%|          | 0/4595690 [00:00<?, ?it/s]"
      ]
     },
     "metadata": {},
     "output_type": "display_data"
    },
    {
     "name": "stdout",
     "output_type": "stream",
     "text": [
      "2022-12-14 16:28:49,597-[INFO]- dropbox:390 -> Refreshing access token.\n",
      "2022-12-14 16:28:49,850-[INFO]- dropbox:474 -> Request to files/upload_session/start\n",
      "2022-12-14 16:28:50,911-[INFO]- dropbox:474 -> Request to files/upload_session/finish\n"
     ]
    },
    {
     "data": {
      "application/vnd.jupyter.widget-view+json": {
       "model_id": "d2607f95b5ca4e5cbe47d9023822b2a0",
       "version_major": 2,
       "version_minor": 0
      },
      "text/plain": [
       "Uploaded:   0%|          | 0/6780399 [00:00<?, ?it/s]"
      ]
     },
     "metadata": {},
     "output_type": "display_data"
    },
    {
     "name": "stdout",
     "output_type": "stream",
     "text": [
      "2022-12-14 16:28:52,456-[INFO]- dropbox:390 -> Refreshing access token.\n",
      "2022-12-14 16:28:52,739-[INFO]- dropbox:474 -> Request to files/upload_session/start\n",
      "2022-12-14 16:28:53,979-[INFO]- dropbox:474 -> Request to files/upload_session/finish\n"
     ]
    },
    {
     "data": {
      "application/vnd.jupyter.widget-view+json": {
       "model_id": "301220147c774dfaa76bed2ba35a2d99",
       "version_major": 2,
       "version_minor": 0
      },
      "text/plain": [
       "Uploaded:   0%|          | 0/7077578 [00:00<?, ?it/s]"
      ]
     },
     "metadata": {},
     "output_type": "display_data"
    },
    {
     "name": "stdout",
     "output_type": "stream",
     "text": [
      "2022-12-14 16:28:56,051-[INFO]- dropbox:390 -> Refreshing access token.\n",
      "2022-12-14 16:28:56,345-[INFO]- dropbox:474 -> Request to files/upload_session/start\n",
      "2022-12-14 16:28:58,375-[INFO]- dropbox:474 -> Request to files/upload_session/finish\n"
     ]
    },
    {
     "data": {
      "application/vnd.jupyter.widget-view+json": {
       "model_id": "052f6059fd63411dbb92093909ca57db",
       "version_major": 2,
       "version_minor": 0
      },
      "text/plain": [
       "Uploaded:   0%|          | 0/6654458 [00:00<?, ?it/s]"
      ]
     },
     "metadata": {},
     "output_type": "display_data"
    },
    {
     "name": "stdout",
     "output_type": "stream",
     "text": [
      "2022-12-14 16:29:00,273-[INFO]- dropbox:390 -> Refreshing access token.\n",
      "2022-12-14 16:29:00,542-[INFO]- dropbox:474 -> Request to files/upload_session/start\n",
      "2022-12-14 16:29:01,745-[INFO]- dropbox:474 -> Request to files/upload_session/finish\n"
     ]
    },
    {
     "data": {
      "application/vnd.jupyter.widget-view+json": {
       "model_id": "a7af81157c304ebb8046705c9b0cdb18",
       "version_major": 2,
       "version_minor": 0
      },
      "text/plain": [
       "Uploaded:   0%|          | 0/5650519 [00:00<?, ?it/s]"
      ]
     },
     "metadata": {},
     "output_type": "display_data"
    },
    {
     "name": "stdout",
     "output_type": "stream",
     "text": [
      "2022-12-14 16:29:03,756-[INFO]- dropbox:390 -> Refreshing access token.\n",
      "2022-12-14 16:29:04,030-[INFO]- dropbox:474 -> Request to files/upload_session/start\n",
      "2022-12-14 16:29:05,612-[INFO]- dropbox:474 -> Request to files/upload_session/finish\n"
     ]
    },
    {
     "data": {
      "application/vnd.jupyter.widget-view+json": {
       "model_id": "4951f06c995243e7a005b5b8fd439493",
       "version_major": 2,
       "version_minor": 0
      },
      "text/plain": [
       "Uploaded:   0%|          | 0/7128462 [00:00<?, ?it/s]"
      ]
     },
     "metadata": {},
     "output_type": "display_data"
    },
    {
     "name": "stdout",
     "output_type": "stream",
     "text": [
      "2022-12-14 16:29:07,420-[INFO]- dropbox:390 -> Refreshing access token.\n",
      "2022-12-14 16:29:07,694-[INFO]- dropbox:474 -> Request to files/upload_session/start\n",
      "2022-12-14 16:29:08,579-[INFO]- dropbox:474 -> Request to files/upload_session/finish\n"
     ]
    },
    {
     "data": {
      "application/vnd.jupyter.widget-view+json": {
       "model_id": "a1ef7d821cd6486caf291877ce83b61a",
       "version_major": 2,
       "version_minor": 0
      },
      "text/plain": [
       "Uploaded:   0%|          | 0/6792461 [00:00<?, ?it/s]"
      ]
     },
     "metadata": {},
     "output_type": "display_data"
    },
    {
     "name": "stdout",
     "output_type": "stream",
     "text": [
      "2022-12-14 16:29:10,507-[INFO]- dropbox:390 -> Refreshing access token.\n",
      "2022-12-14 16:29:10,771-[INFO]- dropbox:474 -> Request to files/upload_session/start\n",
      "2022-12-14 16:29:11,905-[INFO]- dropbox:474 -> Request to files/upload_session/finish\n",
      "2022-12-14 16:29:13,699-[INFO]- dropbox:390 -> Refreshing access token.\n",
      "2022-12-14 16:29:13,922-[INFO]- dropbox:474 -> Request to files/upload\n"
     ]
    },
    {
     "data": {
      "application/vnd.jupyter.widget-view+json": {
       "model_id": "d979b8cc91324136a81b7f380817176e",
       "version_major": 2,
       "version_minor": 0
      },
      "text/plain": [
       "Uploaded:   0%|          | 0/5610803 [00:00<?, ?it/s]"
      ]
     },
     "metadata": {},
     "output_type": "display_data"
    },
    {
     "name": "stdout",
     "output_type": "stream",
     "text": [
      "2022-12-14 16:29:15,645-[INFO]- dropbox:390 -> Refreshing access token.\n",
      "2022-12-14 16:29:15,883-[INFO]- dropbox:474 -> Request to files/upload_session/start\n",
      "2022-12-14 16:29:17,162-[INFO]- dropbox:474 -> Request to files/upload_session/finish\n"
     ]
    },
    {
     "data": {
      "application/vnd.jupyter.widget-view+json": {
       "model_id": "76010b7d23784956a75466df8d0ce726",
       "version_major": 2,
       "version_minor": 0
      },
      "text/plain": [
       "Uploaded:   0%|          | 0/5556464 [00:00<?, ?it/s]"
      ]
     },
     "metadata": {},
     "output_type": "display_data"
    },
    {
     "name": "stdout",
     "output_type": "stream",
     "text": [
      "2022-12-14 16:29:19,157-[INFO]- dropbox:390 -> Refreshing access token.\n",
      "2022-12-14 16:29:19,460-[INFO]- dropbox:474 -> Request to files/upload_session/start\n",
      "2022-12-14 16:29:20,951-[INFO]- dropbox:474 -> Request to files/upload_session/finish\n"
     ]
    },
    {
     "data": {
      "application/vnd.jupyter.widget-view+json": {
       "model_id": "ce6644a9b21843d2a8ef221c2bec1534",
       "version_major": 2,
       "version_minor": 0
      },
      "text/plain": [
       "Uploaded:   0%|          | 0/6751286 [00:00<?, ?it/s]"
      ]
     },
     "metadata": {},
     "output_type": "display_data"
    },
    {
     "name": "stdout",
     "output_type": "stream",
     "text": [
      "2022-12-14 16:29:22,929-[INFO]- dropbox:390 -> Refreshing access token.\n",
      "2022-12-14 16:29:23,178-[INFO]- dropbox:474 -> Request to files/upload_session/start\n",
      "2022-12-14 16:29:24,297-[INFO]- dropbox:474 -> Request to files/upload_session/finish\n"
     ]
    },
    {
     "data": {
      "application/vnd.jupyter.widget-view+json": {
       "model_id": "5d9dfba27c2b40e6bbd83bab74d36884",
       "version_major": 2,
       "version_minor": 0
      },
      "text/plain": [
       "Uploaded:   0%|          | 0/7016879 [00:00<?, ?it/s]"
      ]
     },
     "metadata": {},
     "output_type": "display_data"
    },
    {
     "name": "stdout",
     "output_type": "stream",
     "text": [
      "2022-12-14 16:29:25,994-[INFO]- dropbox:390 -> Refreshing access token.\n",
      "2022-12-14 16:29:26,230-[INFO]- dropbox:474 -> Request to files/upload_session/start\n",
      "2022-12-14 16:29:27,179-[INFO]- dropbox:474 -> Request to files/upload_session/finish\n"
     ]
    },
    {
     "data": {
      "application/vnd.jupyter.widget-view+json": {
       "model_id": "8d52e4ce92b6421b9070a5b03672f935",
       "version_major": 2,
       "version_minor": 0
      },
      "text/plain": [
       "Uploaded:   0%|          | 0/5853980 [00:00<?, ?it/s]"
      ]
     },
     "metadata": {},
     "output_type": "display_data"
    },
    {
     "name": "stdout",
     "output_type": "stream",
     "text": [
      "2022-12-14 16:29:29,305-[INFO]- dropbox:390 -> Refreshing access token.\n",
      "2022-12-14 16:29:29,561-[INFO]- dropbox:474 -> Request to files/upload_session/start\n",
      "2022-12-14 16:29:30,593-[INFO]- dropbox:474 -> Request to files/upload_session/finish\n"
     ]
    },
    {
     "data": {
      "application/vnd.jupyter.widget-view+json": {
       "model_id": "cfbc8931630a4f88b8cfa98e5e8d43d1",
       "version_major": 2,
       "version_minor": 0
      },
      "text/plain": [
       "Uploaded:   0%|          | 0/5380546 [00:00<?, ?it/s]"
      ]
     },
     "metadata": {},
     "output_type": "display_data"
    },
    {
     "name": "stdout",
     "output_type": "stream",
     "text": [
      "2022-12-14 16:29:32,436-[INFO]- dropbox:390 -> Refreshing access token.\n",
      "2022-12-14 16:29:32,688-[INFO]- dropbox:474 -> Request to files/upload_session/start\n",
      "2022-12-14 16:29:34,216-[INFO]- dropbox:474 -> Request to files/upload_session/finish\n"
     ]
    },
    {
     "data": {
      "application/vnd.jupyter.widget-view+json": {
       "model_id": "ab04fe15b3264df6959e346616841ce2",
       "version_major": 2,
       "version_minor": 0
      },
      "text/plain": [
       "Uploaded:   0%|          | 0/5935161 [00:00<?, ?it/s]"
      ]
     },
     "metadata": {},
     "output_type": "display_data"
    },
    {
     "name": "stdout",
     "output_type": "stream",
     "text": [
      "2022-12-14 16:29:36,055-[INFO]- dropbox:390 -> Refreshing access token.\n",
      "2022-12-14 16:29:36,281-[INFO]- dropbox:474 -> Request to files/upload_session/start\n",
      "2022-12-14 16:29:37,590-[INFO]- dropbox:474 -> Request to files/upload_session/finish\n"
     ]
    },
    {
     "data": {
      "application/vnd.jupyter.widget-view+json": {
       "model_id": "189be4f5dce94fe2aa12353133cd85b6",
       "version_major": 2,
       "version_minor": 0
      },
      "text/plain": [
       "Uploaded:   0%|          | 0/5131791 [00:00<?, ?it/s]"
      ]
     },
     "metadata": {},
     "output_type": "display_data"
    },
    {
     "name": "stdout",
     "output_type": "stream",
     "text": [
      "2022-12-14 16:29:39,876-[INFO]- dropbox:390 -> Refreshing access token.\n",
      "2022-12-14 16:29:40,114-[INFO]- dropbox:474 -> Request to files/upload_session/start\n",
      "2022-12-14 16:29:41,200-[INFO]- dropbox:474 -> Request to files/upload_session/finish\n"
     ]
    },
    {
     "data": {
      "application/vnd.jupyter.widget-view+json": {
       "model_id": "fd7ad9390e5242b2b4dd35b292a12548",
       "version_major": 2,
       "version_minor": 0
      },
      "text/plain": [
       "Uploaded:   0%|          | 0/5011893 [00:00<?, ?it/s]"
      ]
     },
     "metadata": {},
     "output_type": "display_data"
    },
    {
     "name": "stdout",
     "output_type": "stream",
     "text": [
      "2022-12-14 16:29:43,040-[INFO]- dropbox:390 -> Refreshing access token.\n",
      "2022-12-14 16:29:43,292-[INFO]- dropbox:474 -> Request to files/upload_session/start\n",
      "2022-12-14 16:29:44,216-[INFO]- dropbox:474 -> Request to files/upload_session/finish\n"
     ]
    },
    {
     "data": {
      "application/vnd.jupyter.widget-view+json": {
       "model_id": "bafc23ce18e441119de0509021fc002a",
       "version_major": 2,
       "version_minor": 0
      },
      "text/plain": [
       "Uploaded:   0%|          | 0/5953853 [00:00<?, ?it/s]"
      ]
     },
     "metadata": {},
     "output_type": "display_data"
    },
    {
     "name": "stdout",
     "output_type": "stream",
     "text": [
      "2022-12-14 16:29:45,941-[INFO]- dropbox:390 -> Refreshing access token.\n",
      "2022-12-14 16:29:46,226-[INFO]- dropbox:474 -> Request to files/upload_session/start\n",
      "2022-12-14 16:29:48,102-[INFO]- dropbox:474 -> Request to files/upload_session/finish\n"
     ]
    },
    {
     "data": {
      "application/vnd.jupyter.widget-view+json": {
       "model_id": "036cc60c7c70491b9a2160b1a882252a",
       "version_major": 2,
       "version_minor": 0
      },
      "text/plain": [
       "Uploaded:   0%|          | 0/5659862 [00:00<?, ?it/s]"
      ]
     },
     "metadata": {},
     "output_type": "display_data"
    },
    {
     "name": "stdout",
     "output_type": "stream",
     "text": [
      "2022-12-14 16:29:50,063-[INFO]- dropbox:390 -> Refreshing access token.\n",
      "2022-12-14 16:29:50,537-[INFO]- dropbox:474 -> Request to files/upload_session/start\n",
      "2022-12-14 16:29:51,717-[INFO]- dropbox:474 -> Request to files/upload_session/finish\n"
     ]
    },
    {
     "data": {
      "application/vnd.jupyter.widget-view+json": {
       "model_id": "ef68fc4eb1c145009bf2e66539c6d2c1",
       "version_major": 2,
       "version_minor": 0
      },
      "text/plain": [
       "Uploaded:   0%|          | 0/6696745 [00:00<?, ?it/s]"
      ]
     },
     "metadata": {},
     "output_type": "display_data"
    },
    {
     "name": "stdout",
     "output_type": "stream",
     "text": [
      "2022-12-14 16:29:53,610-[INFO]- dropbox:390 -> Refreshing access token.\n",
      "2022-12-14 16:29:53,901-[INFO]- dropbox:474 -> Request to files/upload_session/start\n",
      "2022-12-14 16:29:55,433-[INFO]- dropbox:474 -> Request to files/upload_session/finish\n"
     ]
    },
    {
     "data": {
      "application/vnd.jupyter.widget-view+json": {
       "model_id": "6bf38b51adfe4419ad517dbd0ff4f9ce",
       "version_major": 2,
       "version_minor": 0
      },
      "text/plain": [
       "Uploaded:   0%|          | 0/7253704 [00:00<?, ?it/s]"
      ]
     },
     "metadata": {},
     "output_type": "display_data"
    },
    {
     "name": "stdout",
     "output_type": "stream",
     "text": [
      "2022-12-14 16:29:57,468-[INFO]- dropbox:390 -> Refreshing access token.\n",
      "2022-12-14 16:29:57,715-[INFO]- dropbox:474 -> Request to files/upload_session/start\n",
      "2022-12-14 16:29:58,709-[INFO]- dropbox:474 -> Request to files/upload_session/finish\n"
     ]
    },
    {
     "data": {
      "application/vnd.jupyter.widget-view+json": {
       "model_id": "862a984f853c4758b90949cded23cff9",
       "version_major": 2,
       "version_minor": 0
      },
      "text/plain": [
       "Uploaded:   0%|          | 0/5325452 [00:00<?, ?it/s]"
      ]
     },
     "metadata": {},
     "output_type": "display_data"
    },
    {
     "name": "stdout",
     "output_type": "stream",
     "text": [
      "2022-12-14 16:30:01,211-[INFO]- dropbox:390 -> Refreshing access token.\n",
      "2022-12-14 16:30:01,474-[INFO]- dropbox:474 -> Request to files/upload_session/start\n",
      "2022-12-14 16:30:02,722-[INFO]- dropbox:474 -> Request to files/upload_session/finish\n"
     ]
    },
    {
     "data": {
      "application/vnd.jupyter.widget-view+json": {
       "model_id": "b28a967990174658afa9d54b70d37b9c",
       "version_major": 2,
       "version_minor": 0
      },
      "text/plain": [
       "Uploaded:   0%|          | 0/5782325 [00:00<?, ?it/s]"
      ]
     },
     "metadata": {},
     "output_type": "display_data"
    },
    {
     "name": "stdout",
     "output_type": "stream",
     "text": [
      "2022-12-14 16:30:04,396-[INFO]- dropbox:390 -> Refreshing access token.\n",
      "2022-12-14 16:30:04,647-[INFO]- dropbox:474 -> Request to files/upload_session/start\n",
      "2022-12-14 16:30:06,227-[INFO]- dropbox:474 -> Request to files/upload_session/finish\n",
      "2022-12-14 16:30:08,244-[INFO]- dropbox:390 -> Refreshing access token.\n",
      "2022-12-14 16:30:08,534-[INFO]- dropbox:474 -> Request to files/upload\n"
     ]
    },
    {
     "data": {
      "application/vnd.jupyter.widget-view+json": {
       "model_id": "dce6d2103a5441a982e18f19c59971da",
       "version_major": 2,
       "version_minor": 0
      },
      "text/plain": [
       "Uploaded:   0%|          | 0/5150460 [00:00<?, ?it/s]"
      ]
     },
     "metadata": {},
     "output_type": "display_data"
    },
    {
     "name": "stdout",
     "output_type": "stream",
     "text": [
      "2022-12-14 16:30:10,492-[INFO]- dropbox:390 -> Refreshing access token.\n",
      "2022-12-14 16:30:10,835-[INFO]- dropbox:474 -> Request to files/upload_session/start\n",
      "2022-12-14 16:30:12,244-[INFO]- dropbox:474 -> Request to files/upload_session/finish\n"
     ]
    },
    {
     "data": {
      "application/vnd.jupyter.widget-view+json": {
       "model_id": "baadc7bc79424bac8c116d7f8bcdfb98",
       "version_major": 2,
       "version_minor": 0
      },
      "text/plain": [
       "Uploaded:   0%|          | 0/6934273 [00:00<?, ?it/s]"
      ]
     },
     "metadata": {},
     "output_type": "display_data"
    },
    {
     "name": "stdout",
     "output_type": "stream",
     "text": [
      "2022-12-14 16:30:14,497-[INFO]- dropbox:390 -> Refreshing access token.\n",
      "2022-12-14 16:30:14,727-[INFO]- dropbox:474 -> Request to files/upload_session/start\n",
      "2022-12-14 16:30:16,130-[INFO]- dropbox:474 -> Request to files/upload_session/finish\n"
     ]
    },
    {
     "data": {
      "application/vnd.jupyter.widget-view+json": {
       "model_id": "5346a4575a014599b04c3eec31adc3f2",
       "version_major": 2,
       "version_minor": 0
      },
      "text/plain": [
       "Uploaded:   0%|          | 0/4795975 [00:00<?, ?it/s]"
      ]
     },
     "metadata": {},
     "output_type": "display_data"
    },
    {
     "name": "stdout",
     "output_type": "stream",
     "text": [
      "2022-12-14 16:30:18,240-[INFO]- dropbox:390 -> Refreshing access token.\n",
      "2022-12-14 16:30:18,508-[INFO]- dropbox:474 -> Request to files/upload_session/start\n",
      "2022-12-14 16:30:19,355-[INFO]- dropbox:474 -> Request to files/upload_session/finish\n"
     ]
    },
    {
     "data": {
      "application/vnd.jupyter.widget-view+json": {
       "model_id": "077f67788ff846c1bd587cd9a6ad286e",
       "version_major": 2,
       "version_minor": 0
      },
      "text/plain": [
       "Uploaded:   0%|          | 0/6382763 [00:00<?, ?it/s]"
      ]
     },
     "metadata": {},
     "output_type": "display_data"
    },
    {
     "name": "stdout",
     "output_type": "stream",
     "text": [
      "2022-12-14 16:30:21,508-[INFO]- dropbox:390 -> Refreshing access token.\n",
      "2022-12-14 16:30:21,763-[INFO]- dropbox:474 -> Request to files/upload_session/start\n",
      "2022-12-14 16:30:22,985-[INFO]- dropbox:474 -> Request to files/upload_session/finish\n"
     ]
    },
    {
     "data": {
      "application/vnd.jupyter.widget-view+json": {
       "model_id": "b4dd2d34ab4a40949cd54315c5532917",
       "version_major": 2,
       "version_minor": 0
      },
      "text/plain": [
       "Uploaded:   0%|          | 0/5470394 [00:00<?, ?it/s]"
      ]
     },
     "metadata": {},
     "output_type": "display_data"
    },
    {
     "name": "stdout",
     "output_type": "stream",
     "text": [
      "2022-12-14 16:30:24,647-[INFO]- dropbox:390 -> Refreshing access token.\n",
      "2022-12-14 16:30:24,914-[INFO]- dropbox:474 -> Request to files/upload_session/start\n",
      "2022-12-14 16:30:26,110-[INFO]- dropbox:474 -> Request to files/upload_session/finish\n"
     ]
    },
    {
     "data": {
      "application/vnd.jupyter.widget-view+json": {
       "model_id": "cdadd431e283450490496c16daa4136b",
       "version_major": 2,
       "version_minor": 0
      },
      "text/plain": [
       "Uploaded:   0%|          | 0/4936249 [00:00<?, ?it/s]"
      ]
     },
     "metadata": {},
     "output_type": "display_data"
    },
    {
     "name": "stdout",
     "output_type": "stream",
     "text": [
      "2022-12-14 16:30:28,062-[INFO]- dropbox:390 -> Refreshing access token.\n",
      "2022-12-14 16:30:28,330-[INFO]- dropbox:474 -> Request to files/upload_session/start\n",
      "2022-12-14 16:30:29,486-[INFO]- dropbox:474 -> Request to files/upload_session/finish\n"
     ]
    },
    {
     "data": {
      "application/vnd.jupyter.widget-view+json": {
       "model_id": "bea843d5ace44c6a948111c94b75dd31",
       "version_major": 2,
       "version_minor": 0
      },
      "text/plain": [
       "Uploaded:   0%|          | 0/6688407 [00:00<?, ?it/s]"
      ]
     },
     "metadata": {},
     "output_type": "display_data"
    },
    {
     "name": "stdout",
     "output_type": "stream",
     "text": [
      "2022-12-14 16:30:31,628-[INFO]- dropbox:390 -> Refreshing access token.\n",
      "2022-12-14 16:30:31,865-[INFO]- dropbox:474 -> Request to files/upload_session/start\n",
      "2022-12-14 16:30:33,181-[INFO]- dropbox:474 -> Request to files/upload_session/finish\n",
      "2022-12-14 16:30:34,905-[INFO]- dropbox:390 -> Refreshing access token.\n",
      "2022-12-14 16:30:35,145-[INFO]- dropbox:474 -> Request to files/upload\n"
     ]
    },
    {
     "data": {
      "application/vnd.jupyter.widget-view+json": {
       "model_id": "f2d23768e9074d40a924d15c31d6e755",
       "version_major": 2,
       "version_minor": 0
      },
      "text/plain": [
       "Uploaded:   0%|          | 0/6188620 [00:00<?, ?it/s]"
      ]
     },
     "metadata": {},
     "output_type": "display_data"
    },
    {
     "name": "stdout",
     "output_type": "stream",
     "text": [
      "2022-12-14 16:30:36,814-[INFO]- dropbox:390 -> Refreshing access token.\n",
      "2022-12-14 16:30:37,084-[INFO]- dropbox:474 -> Request to files/upload_session/start\n",
      "2022-12-14 16:30:38,887-[INFO]- dropbox:474 -> Request to files/upload_session/finish\n",
      "2022-12-14 16:30:40,806-[INFO]- dropbox:390 -> Refreshing access token.\n",
      "2022-12-14 16:30:41,091-[INFO]- dropbox:474 -> Request to files/upload\n"
     ]
    },
    {
     "data": {
      "application/vnd.jupyter.widget-view+json": {
       "model_id": "191a30bd63ef4ce7abe0577207bb5571",
       "version_major": 2,
       "version_minor": 0
      },
      "text/plain": [
       "Uploaded:   0%|          | 0/4550352 [00:00<?, ?it/s]"
      ]
     },
     "metadata": {},
     "output_type": "display_data"
    },
    {
     "name": "stdout",
     "output_type": "stream",
     "text": [
      "2022-12-14 16:30:43,050-[INFO]- dropbox:390 -> Refreshing access token.\n",
      "2022-12-14 16:30:43,292-[INFO]- dropbox:474 -> Request to files/upload_session/start\n",
      "2022-12-14 16:30:44,445-[INFO]- dropbox:474 -> Request to files/upload_session/finish\n"
     ]
    },
    {
     "data": {
      "application/vnd.jupyter.widget-view+json": {
       "model_id": "fc0418c4677f4efca29dd9f511134630",
       "version_major": 2,
       "version_minor": 0
      },
      "text/plain": [
       "Uploaded:   0%|          | 0/6812734 [00:00<?, ?it/s]"
      ]
     },
     "metadata": {},
     "output_type": "display_data"
    },
    {
     "name": "stdout",
     "output_type": "stream",
     "text": [
      "2022-12-14 16:30:46,092-[INFO]- dropbox:390 -> Refreshing access token.\n",
      "2022-12-14 16:30:46,394-[INFO]- dropbox:474 -> Request to files/upload_session/start\n",
      "2022-12-14 16:30:47,873-[INFO]- dropbox:474 -> Request to files/upload_session/finish\n"
     ]
    },
    {
     "data": {
      "application/vnd.jupyter.widget-view+json": {
       "model_id": "fdc67353dfe340189f7c1ee5b87f8f78",
       "version_major": 2,
       "version_minor": 0
      },
      "text/plain": [
       "Uploaded:   0%|          | 0/6823110 [00:00<?, ?it/s]"
      ]
     },
     "metadata": {},
     "output_type": "display_data"
    },
    {
     "name": "stdout",
     "output_type": "stream",
     "text": [
      "2022-12-14 16:30:49,970-[INFO]- dropbox:390 -> Refreshing access token.\n",
      "2022-12-14 16:30:50,294-[INFO]- dropbox:474 -> Request to files/upload_session/start\n",
      "2022-12-14 16:30:51,662-[INFO]- dropbox:474 -> Request to files/upload_session/finish\n"
     ]
    },
    {
     "data": {
      "application/vnd.jupyter.widget-view+json": {
       "model_id": "46fafda79d3f4babacd8027da9bcdd3e",
       "version_major": 2,
       "version_minor": 0
      },
      "text/plain": [
       "Uploaded:   0%|          | 0/4964989 [00:00<?, ?it/s]"
      ]
     },
     "metadata": {},
     "output_type": "display_data"
    },
    {
     "name": "stdout",
     "output_type": "stream",
     "text": [
      "2022-12-14 16:30:54,279-[INFO]- dropbox:390 -> Refreshing access token.\n",
      "2022-12-14 16:30:54,523-[INFO]- dropbox:474 -> Request to files/upload_session/start\n",
      "2022-12-14 16:30:56,021-[INFO]- dropbox:474 -> Request to files/upload_session/finish\n"
     ]
    },
    {
     "data": {
      "application/vnd.jupyter.widget-view+json": {
       "model_id": "effc10db34e5457992937c445a1675ed",
       "version_major": 2,
       "version_minor": 0
      },
      "text/plain": [
       "Uploaded:   0%|          | 0/5563368 [00:00<?, ?it/s]"
      ]
     },
     "metadata": {},
     "output_type": "display_data"
    },
    {
     "name": "stdout",
     "output_type": "stream",
     "text": [
      "2022-12-14 16:30:57,809-[INFO]- dropbox:390 -> Refreshing access token.\n",
      "2022-12-14 16:30:58,128-[INFO]- dropbox:474 -> Request to files/upload_session/start\n",
      "2022-12-14 16:30:59,868-[INFO]- dropbox:474 -> Request to files/upload_session/finish\n"
     ]
    },
    {
     "data": {
      "application/vnd.jupyter.widget-view+json": {
       "model_id": "d68b00eee85e42c8a40b8b49886430f4",
       "version_major": 2,
       "version_minor": 0
      },
      "text/plain": [
       "Uploaded:   0%|          | 0/5167913 [00:00<?, ?it/s]"
      ]
     },
     "metadata": {},
     "output_type": "display_data"
    },
    {
     "name": "stdout",
     "output_type": "stream",
     "text": [
      "2022-12-14 16:31:01,679-[INFO]- dropbox:390 -> Refreshing access token.\n",
      "2022-12-14 16:31:01,954-[INFO]- dropbox:474 -> Request to files/upload_session/start\n",
      "2022-12-14 16:31:02,836-[INFO]- dropbox:474 -> Request to files/upload_session/finish\n"
     ]
    },
    {
     "data": {
      "application/vnd.jupyter.widget-view+json": {
       "model_id": "15d98361a0204ed88afd48d3c72889dd",
       "version_major": 2,
       "version_minor": 0
      },
      "text/plain": [
       "Uploaded:   0%|          | 0/5714536 [00:00<?, ?it/s]"
      ]
     },
     "metadata": {},
     "output_type": "display_data"
    },
    {
     "name": "stdout",
     "output_type": "stream",
     "text": [
      "2022-12-14 16:31:04,720-[INFO]- dropbox:390 -> Refreshing access token.\n",
      "2022-12-14 16:31:04,962-[INFO]- dropbox:474 -> Request to files/upload_session/start\n",
      "2022-12-14 16:31:06,915-[INFO]- dropbox:474 -> Request to files/upload_session/finish\n",
      "2022-12-14 16:31:09,379-[INFO]- dropbox:390 -> Refreshing access token.\n",
      "2022-12-14 16:31:09,626-[INFO]- dropbox:474 -> Request to files/upload\n"
     ]
    },
    {
     "data": {
      "application/vnd.jupyter.widget-view+json": {
       "model_id": "d06f2bebe4404658b32bf75ee6a6df98",
       "version_major": 2,
       "version_minor": 0
      },
      "text/plain": [
       "Uploaded:   0%|          | 0/6836032 [00:00<?, ?it/s]"
      ]
     },
     "metadata": {},
     "output_type": "display_data"
    },
    {
     "name": "stdout",
     "output_type": "stream",
     "text": [
      "2022-12-14 16:31:11,601-[INFO]- dropbox:390 -> Refreshing access token.\n",
      "2022-12-14 16:31:11,879-[INFO]- dropbox:474 -> Request to files/upload_session/start\n",
      "2022-12-14 16:31:12,973-[INFO]- dropbox:474 -> Request to files/upload_session/finish\n"
     ]
    },
    {
     "data": {
      "application/vnd.jupyter.widget-view+json": {
       "model_id": "9b714607907f4dbe937759b0b67b912e",
       "version_major": 2,
       "version_minor": 0
      },
      "text/plain": [
       "Uploaded:   0%|          | 0/5493383 [00:00<?, ?it/s]"
      ]
     },
     "metadata": {},
     "output_type": "display_data"
    },
    {
     "name": "stdout",
     "output_type": "stream",
     "text": [
      "2022-12-14 16:31:15,197-[INFO]- dropbox:390 -> Refreshing access token.\n",
      "2022-12-14 16:31:15,448-[INFO]- dropbox:474 -> Request to files/upload_session/start\n",
      "2022-12-14 16:31:16,603-[INFO]- dropbox:474 -> Request to files/upload_session/finish\n"
     ]
    },
    {
     "data": {
      "application/vnd.jupyter.widget-view+json": {
       "model_id": "1d3dcd19ca934cec9a12ab4b46e13913",
       "version_major": 2,
       "version_minor": 0
      },
      "text/plain": [
       "Uploaded:   0%|          | 0/4238822 [00:00<?, ?it/s]"
      ]
     },
     "metadata": {},
     "output_type": "display_data"
    },
    {
     "name": "stdout",
     "output_type": "stream",
     "text": [
      "2022-12-14 16:31:18,993-[INFO]- dropbox:390 -> Refreshing access token.\n",
      "2022-12-14 16:31:19,335-[INFO]- dropbox:474 -> Request to files/upload_session/start\n",
      "2022-12-14 16:31:20,555-[INFO]- dropbox:474 -> Request to files/upload_session/finish\n"
     ]
    },
    {
     "data": {
      "application/vnd.jupyter.widget-view+json": {
       "model_id": "9d5bb4402dd14dfeafb032285a8fcb4a",
       "version_major": 2,
       "version_minor": 0
      },
      "text/plain": [
       "Uploaded:   0%|          | 0/5850765 [00:00<?, ?it/s]"
      ]
     },
     "metadata": {},
     "output_type": "display_data"
    },
    {
     "name": "stdout",
     "output_type": "stream",
     "text": [
      "2022-12-14 16:31:22,163-[INFO]- dropbox:390 -> Refreshing access token.\n",
      "2022-12-14 16:31:22,393-[INFO]- dropbox:474 -> Request to files/upload_session/start\n",
      "2022-12-14 16:31:23,454-[INFO]- dropbox:474 -> Request to files/upload_session/finish\n"
     ]
    },
    {
     "data": {
      "application/vnd.jupyter.widget-view+json": {
       "model_id": "df69b5b7178a45b4955c88cf9b2d26a2",
       "version_major": 2,
       "version_minor": 0
      },
      "text/plain": [
       "Uploaded:   0%|          | 0/5421871 [00:00<?, ?it/s]"
      ]
     },
     "metadata": {},
     "output_type": "display_data"
    },
    {
     "name": "stdout",
     "output_type": "stream",
     "text": [
      "2022-12-14 16:31:25,525-[INFO]- dropbox:390 -> Refreshing access token.\n",
      "2022-12-14 16:31:25,786-[INFO]- dropbox:474 -> Request to files/upload_session/start\n",
      "2022-12-14 16:31:27,176-[INFO]- dropbox:474 -> Request to files/upload_session/finish\n"
     ]
    },
    {
     "data": {
      "application/vnd.jupyter.widget-view+json": {
       "model_id": "c2ad2b01033647b5aea4d10e4a4ae53a",
       "version_major": 2,
       "version_minor": 0
      },
      "text/plain": [
       "Uploaded:   0%|          | 0/6789256 [00:00<?, ?it/s]"
      ]
     },
     "metadata": {},
     "output_type": "display_data"
    },
    {
     "name": "stdout",
     "output_type": "stream",
     "text": [
      "2022-12-14 16:31:29,171-[INFO]- dropbox:390 -> Refreshing access token.\n",
      "2022-12-14 16:31:29,432-[INFO]- dropbox:474 -> Request to files/upload_session/start\n",
      "2022-12-14 16:31:30,553-[INFO]- dropbox:474 -> Request to files/upload_session/finish\n",
      "2022-12-14 16:31:33,086-[INFO]- dropbox:390 -> Refreshing access token.\n",
      "2022-12-14 16:31:33,318-[INFO]- dropbox:474 -> Request to files/upload\n"
     ]
    },
    {
     "data": {
      "application/vnd.jupyter.widget-view+json": {
       "model_id": "2544ae41a8de4d2b809ff1825e608fa7",
       "version_major": 2,
       "version_minor": 0
      },
      "text/plain": [
       "Uploaded:   0%|          | 0/5307353 [00:00<?, ?it/s]"
      ]
     },
     "metadata": {},
     "output_type": "display_data"
    },
    {
     "name": "stdout",
     "output_type": "stream",
     "text": [
      "2022-12-14 16:31:35,388-[INFO]- dropbox:390 -> Refreshing access token.\n",
      "2022-12-14 16:31:35,629-[INFO]- dropbox:474 -> Request to files/upload_session/start\n",
      "2022-12-14 16:31:41,177-[INFO]- dropbox:474 -> Request to files/upload_session/finish\n"
     ]
    },
    {
     "data": {
      "application/vnd.jupyter.widget-view+json": {
       "model_id": "32340f87ae0b418ca0de8535e545bb1e",
       "version_major": 2,
       "version_minor": 0
      },
      "text/plain": [
       "Uploaded:   0%|          | 0/6837932 [00:00<?, ?it/s]"
      ]
     },
     "metadata": {},
     "output_type": "display_data"
    },
    {
     "name": "stdout",
     "output_type": "stream",
     "text": [
      "2022-12-14 16:31:43,707-[INFO]- dropbox:390 -> Refreshing access token.\n",
      "2022-12-14 16:31:44,025-[INFO]- dropbox:474 -> Request to files/upload_session/start\n",
      "2022-12-14 16:31:44,906-[INFO]- dropbox:474 -> Request to files/upload_session/finish\n"
     ]
    },
    {
     "data": {
      "application/vnd.jupyter.widget-view+json": {
       "model_id": "38e2b9ec10104982b744a49c0f7f2cae",
       "version_major": 2,
       "version_minor": 0
      },
      "text/plain": [
       "Uploaded:   0%|          | 0/6990220 [00:00<?, ?it/s]"
      ]
     },
     "metadata": {},
     "output_type": "display_data"
    },
    {
     "name": "stdout",
     "output_type": "stream",
     "text": [
      "2022-12-14 16:31:47,005-[INFO]- dropbox:390 -> Refreshing access token.\n",
      "2022-12-14 16:31:47,236-[INFO]- dropbox:474 -> Request to files/upload_session/start\n",
      "2022-12-14 16:31:48,182-[INFO]- dropbox:474 -> Request to files/upload_session/finish\n"
     ]
    },
    {
     "data": {
      "application/vnd.jupyter.widget-view+json": {
       "model_id": "2b070133584e49428efd798e01dae37d",
       "version_major": 2,
       "version_minor": 0
      },
      "text/plain": [
       "Uploaded:   0%|          | 0/6398242 [00:00<?, ?it/s]"
      ]
     },
     "metadata": {},
     "output_type": "display_data"
    },
    {
     "name": "stdout",
     "output_type": "stream",
     "text": [
      "2022-12-14 16:31:50,020-[INFO]- dropbox:390 -> Refreshing access token.\n",
      "2022-12-14 16:31:50,301-[INFO]- dropbox:474 -> Request to files/upload_session/start\n",
      "2022-12-14 16:31:51,286-[INFO]- dropbox:474 -> Request to files/upload_session/finish\n"
     ]
    },
    {
     "data": {
      "application/vnd.jupyter.widget-view+json": {
       "model_id": "ab7a23809ee546afa2404bf0e5094ada",
       "version_major": 2,
       "version_minor": 0
      },
      "text/plain": [
       "Uploaded:   0%|          | 0/5643517 [00:00<?, ?it/s]"
      ]
     },
     "metadata": {},
     "output_type": "display_data"
    },
    {
     "name": "stdout",
     "output_type": "stream",
     "text": [
      "2022-12-14 16:31:53,031-[INFO]- dropbox:390 -> Refreshing access token.\n",
      "2022-12-14 16:31:53,321-[INFO]- dropbox:474 -> Request to files/upload_session/start\n",
      "2022-12-14 16:31:54,793-[INFO]- dropbox:474 -> Request to files/upload_session/finish\n",
      "2022-12-14 16:31:56,722-[INFO]- dropbox:390 -> Refreshing access token.\n",
      "2022-12-14 16:31:56,980-[INFO]- dropbox:474 -> Request to files/upload\n"
     ]
    },
    {
     "data": {
      "application/vnd.jupyter.widget-view+json": {
       "model_id": "a3a2f40a0abb49c3b6f9205eb73e5fda",
       "version_major": 2,
       "version_minor": 0
      },
      "text/plain": [
       "Uploaded:   0%|          | 0/5582301 [00:00<?, ?it/s]"
      ]
     },
     "metadata": {},
     "output_type": "display_data"
    },
    {
     "name": "stdout",
     "output_type": "stream",
     "text": [
      "2022-12-14 16:31:59,784-[INFO]- dropbox:390 -> Refreshing access token.\n",
      "2022-12-14 16:32:00,080-[INFO]- dropbox:474 -> Request to files/upload_session/start\n",
      "2022-12-14 16:32:00,969-[INFO]- dropbox:474 -> Request to files/upload_session/finish\n"
     ]
    },
    {
     "data": {
      "application/vnd.jupyter.widget-view+json": {
       "model_id": "1911f1cc2e0b4e98aaca91314e3e78f9",
       "version_major": 2,
       "version_minor": 0
      },
      "text/plain": [
       "Uploaded:   0%|          | 0/5347665 [00:00<?, ?it/s]"
      ]
     },
     "metadata": {},
     "output_type": "display_data"
    },
    {
     "name": "stdout",
     "output_type": "stream",
     "text": [
      "2022-12-14 16:32:02,535-[INFO]- dropbox:390 -> Refreshing access token.\n",
      "2022-12-14 16:32:02,772-[INFO]- dropbox:474 -> Request to files/upload_session/start\n",
      "2022-12-14 16:32:03,946-[INFO]- dropbox:474 -> Request to files/upload_session/finish\n"
     ]
    },
    {
     "data": {
      "application/vnd.jupyter.widget-view+json": {
       "model_id": "d7c4c6223697459aa5c98e30020cbb01",
       "version_major": 2,
       "version_minor": 0
      },
      "text/plain": [
       "Uploaded:   0%|          | 0/5527736 [00:00<?, ?it/s]"
      ]
     },
     "metadata": {},
     "output_type": "display_data"
    },
    {
     "name": "stdout",
     "output_type": "stream",
     "text": [
      "2022-12-14 16:32:05,612-[INFO]- dropbox:390 -> Refreshing access token.\n",
      "2022-12-14 16:32:05,851-[INFO]- dropbox:474 -> Request to files/upload_session/start\n",
      "2022-12-14 16:32:07,381-[INFO]- dropbox:474 -> Request to files/upload_session/finish\n"
     ]
    },
    {
     "data": {
      "application/vnd.jupyter.widget-view+json": {
       "model_id": "9aa00bbf3dc64ee08da681eec33123fc",
       "version_major": 2,
       "version_minor": 0
      },
      "text/plain": [
       "Uploaded:   0%|          | 0/4605028 [00:00<?, ?it/s]"
      ]
     },
     "metadata": {},
     "output_type": "display_data"
    },
    {
     "name": "stdout",
     "output_type": "stream",
     "text": [
      "2022-12-14 16:32:09,359-[INFO]- dropbox:390 -> Refreshing access token.\n",
      "2022-12-14 16:32:09,627-[INFO]- dropbox:474 -> Request to files/upload_session/start\n",
      "2022-12-14 16:32:10,580-[INFO]- dropbox:474 -> Request to files/upload_session/finish\n"
     ]
    },
    {
     "data": {
      "application/vnd.jupyter.widget-view+json": {
       "model_id": "7e4cea5ee24f43d4be92280a3c5b1e82",
       "version_major": 2,
       "version_minor": 0
      },
      "text/plain": [
       "Uploaded:   0%|          | 0/6950361 [00:00<?, ?it/s]"
      ]
     },
     "metadata": {},
     "output_type": "display_data"
    },
    {
     "name": "stdout",
     "output_type": "stream",
     "text": [
      "2022-12-14 16:32:12,262-[INFO]- dropbox:390 -> Refreshing access token.\n",
      "2022-12-14 16:32:12,518-[INFO]- dropbox:474 -> Request to files/upload_session/start\n",
      "2022-12-14 16:32:13,931-[INFO]- dropbox:474 -> Request to files/upload_session/finish\n"
     ]
    },
    {
     "data": {
      "application/vnd.jupyter.widget-view+json": {
       "model_id": "c4d27b42177348e9a4f36a3bc1bc52a5",
       "version_major": 2,
       "version_minor": 0
      },
      "text/plain": [
       "Uploaded:   0%|          | 0/6807369 [00:00<?, ?it/s]"
      ]
     },
     "metadata": {},
     "output_type": "display_data"
    },
    {
     "name": "stdout",
     "output_type": "stream",
     "text": [
      "2022-12-14 16:32:17,038-[INFO]- dropbox:390 -> Refreshing access token.\n",
      "2022-12-14 16:32:17,269-[INFO]- dropbox:474 -> Request to files/upload_session/start\n",
      "2022-12-14 16:32:19,277-[INFO]- dropbox:474 -> Request to files/upload_session/finish\n"
     ]
    },
    {
     "data": {
      "application/vnd.jupyter.widget-view+json": {
       "model_id": "a4b3178a673f4d11bf98baca63bd8933",
       "version_major": 2,
       "version_minor": 0
      },
      "text/plain": [
       "Uploaded:   0%|          | 0/5296918 [00:00<?, ?it/s]"
      ]
     },
     "metadata": {},
     "output_type": "display_data"
    },
    {
     "name": "stdout",
     "output_type": "stream",
     "text": [
      "2022-12-14 16:32:21,644-[INFO]- dropbox:390 -> Refreshing access token.\n",
      "2022-12-14 16:32:21,881-[INFO]- dropbox:474 -> Request to files/upload_session/start\n",
      "2022-12-14 16:32:23,072-[INFO]- dropbox:474 -> Request to files/upload_session/finish\n"
     ]
    },
    {
     "data": {
      "application/vnd.jupyter.widget-view+json": {
       "model_id": "d44baa72c9ae4ef9828d3a62e0f00892",
       "version_major": 2,
       "version_minor": 0
      },
      "text/plain": [
       "Uploaded:   0%|          | 0/4330295 [00:00<?, ?it/s]"
      ]
     },
     "metadata": {},
     "output_type": "display_data"
    },
    {
     "name": "stdout",
     "output_type": "stream",
     "text": [
      "2022-12-14 16:32:25,150-[INFO]- dropbox:390 -> Refreshing access token.\n",
      "2022-12-14 16:32:25,416-[INFO]- dropbox:474 -> Request to files/upload_session/start\n",
      "2022-12-14 16:32:26,431-[INFO]- dropbox:474 -> Request to files/upload_session/finish\n"
     ]
    },
    {
     "data": {
      "application/vnd.jupyter.widget-view+json": {
       "model_id": "0d775a8d5bc045afb0e5243752bbb5a2",
       "version_major": 2,
       "version_minor": 0
      },
      "text/plain": [
       "Uploaded:   0%|          | 0/5303243 [00:00<?, ?it/s]"
      ]
     },
     "metadata": {},
     "output_type": "display_data"
    },
    {
     "name": "stdout",
     "output_type": "stream",
     "text": [
      "2022-12-14 16:32:28,025-[INFO]- dropbox:390 -> Refreshing access token.\n",
      "2022-12-14 16:32:28,256-[INFO]- dropbox:474 -> Request to files/upload_session/start\n",
      "2022-12-14 16:32:29,524-[INFO]- dropbox:474 -> Request to files/upload_session/finish\n"
     ]
    },
    {
     "data": {
      "application/vnd.jupyter.widget-view+json": {
       "model_id": "9d2af1ede2ed4f09b4cd1d767878ab1f",
       "version_major": 2,
       "version_minor": 0
      },
      "text/plain": [
       "Uploaded:   0%|          | 0/5774925 [00:00<?, ?it/s]"
      ]
     },
     "metadata": {},
     "output_type": "display_data"
    },
    {
     "name": "stdout",
     "output_type": "stream",
     "text": [
      "2022-12-14 16:32:31,112-[INFO]- dropbox:390 -> Refreshing access token.\n",
      "2022-12-14 16:32:31,377-[INFO]- dropbox:474 -> Request to files/upload_session/start\n",
      "2022-12-14 16:32:32,530-[INFO]- dropbox:474 -> Request to files/upload_session/finish\n"
     ]
    },
    {
     "data": {
      "application/vnd.jupyter.widget-view+json": {
       "model_id": "5a69d00fcaa7418b941aec18692c88e0",
       "version_major": 2,
       "version_minor": 0
      },
      "text/plain": [
       "Uploaded:   0%|          | 0/4626682 [00:00<?, ?it/s]"
      ]
     },
     "metadata": {},
     "output_type": "display_data"
    },
    {
     "name": "stdout",
     "output_type": "stream",
     "text": [
      "2022-12-14 16:32:34,872-[INFO]- dropbox:390 -> Refreshing access token.\n",
      "2022-12-14 16:32:35,116-[INFO]- dropbox:474 -> Request to files/upload_session/start\n",
      "2022-12-14 16:32:36,598-[INFO]- dropbox:474 -> Request to files/upload_session/finish\n"
     ]
    },
    {
     "data": {
      "application/vnd.jupyter.widget-view+json": {
       "model_id": "6e0b53a008cd4d4988027bf606bb7427",
       "version_major": 2,
       "version_minor": 0
      },
      "text/plain": [
       "Uploaded:   0%|          | 0/4922334 [00:00<?, ?it/s]"
      ]
     },
     "metadata": {},
     "output_type": "display_data"
    },
    {
     "name": "stdout",
     "output_type": "stream",
     "text": [
      "2022-12-14 16:32:38,859-[INFO]- dropbox:390 -> Refreshing access token.\n",
      "2022-12-14 16:32:39,116-[INFO]- dropbox:474 -> Request to files/upload_session/start\n",
      "2022-12-14 16:32:40,712-[INFO]- dropbox:474 -> Request to files/upload_session/finish\n"
     ]
    },
    {
     "data": {
      "application/vnd.jupyter.widget-view+json": {
       "model_id": "f43a9c608c644388b0f9b5f2fbd14fec",
       "version_major": 2,
       "version_minor": 0
      },
      "text/plain": [
       "Uploaded:   0%|          | 0/6506150 [00:00<?, ?it/s]"
      ]
     },
     "metadata": {},
     "output_type": "display_data"
    },
    {
     "name": "stdout",
     "output_type": "stream",
     "text": [
      "2022-12-14 16:32:42,458-[INFO]- dropbox:390 -> Refreshing access token.\n",
      "2022-12-14 16:32:42,710-[INFO]- dropbox:474 -> Request to files/upload_session/start\n",
      "2022-12-14 16:32:43,615-[INFO]- dropbox:474 -> Request to files/upload_session/finish\n"
     ]
    },
    {
     "data": {
      "application/vnd.jupyter.widget-view+json": {
       "model_id": "106358bd59184627b8f30b13f610a821",
       "version_major": 2,
       "version_minor": 0
      },
      "text/plain": [
       "Uploaded:   0%|          | 0/4569376 [00:00<?, ?it/s]"
      ]
     },
     "metadata": {},
     "output_type": "display_data"
    },
    {
     "name": "stdout",
     "output_type": "stream",
     "text": [
      "2022-12-14 16:32:46,194-[INFO]- dropbox:390 -> Refreshing access token.\n",
      "2022-12-14 16:32:46,557-[INFO]- dropbox:474 -> Request to files/upload_session/start\n",
      "2022-12-14 16:32:47,911-[INFO]- dropbox:474 -> Request to files/upload_session/finish\n"
     ]
    },
    {
     "data": {
      "application/vnd.jupyter.widget-view+json": {
       "model_id": "823a85c2413c4a8499afd26ff3d64e12",
       "version_major": 2,
       "version_minor": 0
      },
      "text/plain": [
       "Uploaded:   0%|          | 0/6079805 [00:00<?, ?it/s]"
      ]
     },
     "metadata": {},
     "output_type": "display_data"
    },
    {
     "name": "stdout",
     "output_type": "stream",
     "text": [
      "2022-12-14 16:32:49,519-[INFO]- dropbox:390 -> Refreshing access token.\n",
      "2022-12-14 16:32:49,784-[INFO]- dropbox:474 -> Request to files/upload_session/start\n",
      "2022-12-14 16:32:50,641-[INFO]- dropbox:474 -> Request to files/upload_session/finish\n"
     ]
    },
    {
     "data": {
      "application/vnd.jupyter.widget-view+json": {
       "model_id": "5459359f69f748f1a6640db9454b4016",
       "version_major": 2,
       "version_minor": 0
      },
      "text/plain": [
       "Uploaded:   0%|          | 0/4606477 [00:00<?, ?it/s]"
      ]
     },
     "metadata": {},
     "output_type": "display_data"
    },
    {
     "name": "stdout",
     "output_type": "stream",
     "text": [
      "2022-12-14 16:32:52,217-[INFO]- dropbox:390 -> Refreshing access token.\n",
      "2022-12-14 16:32:52,479-[INFO]- dropbox:474 -> Request to files/upload_session/start\n",
      "2022-12-14 16:32:53,964-[INFO]- dropbox:474 -> Request to files/upload_session/finish\n"
     ]
    },
    {
     "data": {
      "application/vnd.jupyter.widget-view+json": {
       "model_id": "b520f38b24434c3f8da80cbaa151b14b",
       "version_major": 2,
       "version_minor": 0
      },
      "text/plain": [
       "Uploaded:   0%|          | 0/5145398 [00:00<?, ?it/s]"
      ]
     },
     "metadata": {},
     "output_type": "display_data"
    },
    {
     "name": "stdout",
     "output_type": "stream",
     "text": [
      "2022-12-14 16:32:56,035-[INFO]- dropbox:390 -> Refreshing access token.\n",
      "2022-12-14 16:32:56,303-[INFO]- dropbox:474 -> Request to files/upload_session/start\n",
      "2022-12-14 16:32:57,170-[INFO]- dropbox:474 -> Request to files/upload_session/finish\n"
     ]
    },
    {
     "data": {
      "application/vnd.jupyter.widget-view+json": {
       "model_id": "b88359e0a75a48478fd71322582faada",
       "version_major": 2,
       "version_minor": 0
      },
      "text/plain": [
       "Uploaded:   0%|          | 0/7135207 [00:00<?, ?it/s]"
      ]
     },
     "metadata": {},
     "output_type": "display_data"
    },
    {
     "name": "stdout",
     "output_type": "stream",
     "text": [
      "2022-12-14 16:32:58,911-[INFO]- dropbox:390 -> Refreshing access token.\n",
      "2022-12-14 16:32:59,186-[INFO]- dropbox:474 -> Request to files/upload_session/start\n",
      "2022-12-14 16:33:00,265-[INFO]- dropbox:474 -> Request to files/upload_session/finish\n"
     ]
    },
    {
     "data": {
      "application/vnd.jupyter.widget-view+json": {
       "model_id": "67478d0c60014a9ca1461ddafe62f5dd",
       "version_major": 2,
       "version_minor": 0
      },
      "text/plain": [
       "Uploaded:   0%|          | 0/6622304 [00:00<?, ?it/s]"
      ]
     },
     "metadata": {},
     "output_type": "display_data"
    },
    {
     "name": "stdout",
     "output_type": "stream",
     "text": [
      "2022-12-14 16:33:02,292-[INFO]- dropbox:390 -> Refreshing access token.\n",
      "2022-12-14 16:33:02,548-[INFO]- dropbox:474 -> Request to files/upload_session/start\n",
      "2022-12-14 16:33:03,456-[INFO]- dropbox:474 -> Request to files/upload_session/finish\n"
     ]
    },
    {
     "data": {
      "application/vnd.jupyter.widget-view+json": {
       "model_id": "350488da06194c539c5ee2354222dbd0",
       "version_major": 2,
       "version_minor": 0
      },
      "text/plain": [
       "Uploaded:   0%|          | 0/5703853 [00:00<?, ?it/s]"
      ]
     },
     "metadata": {},
     "output_type": "display_data"
    },
    {
     "name": "stdout",
     "output_type": "stream",
     "text": [
      "2022-12-14 16:33:05,297-[INFO]- dropbox:390 -> Refreshing access token.\n",
      "2022-12-14 16:33:05,530-[INFO]- dropbox:474 -> Request to files/upload_session/start\n",
      "2022-12-14 16:33:06,826-[INFO]- dropbox:474 -> Request to files/upload_session/finish\n",
      "2022-12-14 16:33:08,835-[INFO]- dropbox:390 -> Refreshing access token.\n",
      "2022-12-14 16:33:09,080-[INFO]- dropbox:474 -> Request to files/upload\n",
      "2022-12-14 16:33:10,725-[INFO]- dropbox:390 -> Refreshing access token.\n",
      "2022-12-14 16:33:11,040-[INFO]- dropbox:474 -> Request to files/upload\n"
     ]
    },
    {
     "data": {
      "application/vnd.jupyter.widget-view+json": {
       "model_id": "d07e682993ca43b8876899a324345930",
       "version_major": 2,
       "version_minor": 0
      },
      "text/plain": [
       "Uploaded:   0%|          | 0/5813750 [00:00<?, ?it/s]"
      ]
     },
     "metadata": {},
     "output_type": "display_data"
    },
    {
     "name": "stdout",
     "output_type": "stream",
     "text": [
      "2022-12-14 16:33:12,516-[INFO]- dropbox:390 -> Refreshing access token.\n",
      "2022-12-14 16:33:12,784-[INFO]- dropbox:474 -> Request to files/upload_session/start\n",
      "2022-12-14 16:33:14,431-[INFO]- dropbox:474 -> Request to files/upload_session/finish\n"
     ]
    },
    {
     "data": {
      "application/vnd.jupyter.widget-view+json": {
       "model_id": "f092b9f256d1406380cd1dd351c28dd6",
       "version_major": 2,
       "version_minor": 0
      },
      "text/plain": [
       "Uploaded:   0%|          | 0/5385390 [00:00<?, ?it/s]"
      ]
     },
     "metadata": {},
     "output_type": "display_data"
    },
    {
     "name": "stdout",
     "output_type": "stream",
     "text": [
      "2022-12-14 16:33:16,351-[INFO]- dropbox:390 -> Refreshing access token.\n",
      "2022-12-14 16:33:16,645-[INFO]- dropbox:474 -> Request to files/upload_session/start\n",
      "2022-12-14 16:33:17,978-[INFO]- dropbox:474 -> Request to files/upload_session/finish\n"
     ]
    },
    {
     "data": {
      "application/vnd.jupyter.widget-view+json": {
       "model_id": "2be44da25405468aab382732eccdc40b",
       "version_major": 2,
       "version_minor": 0
      },
      "text/plain": [
       "Uploaded:   0%|          | 0/5443313 [00:00<?, ?it/s]"
      ]
     },
     "metadata": {},
     "output_type": "display_data"
    },
    {
     "name": "stdout",
     "output_type": "stream",
     "text": [
      "2022-12-14 16:33:19,679-[INFO]- dropbox:390 -> Refreshing access token.\n",
      "2022-12-14 16:33:19,915-[INFO]- dropbox:474 -> Request to files/upload_session/start\n",
      "2022-12-14 16:33:21,014-[INFO]- dropbox:474 -> Request to files/upload_session/finish\n",
      "2022-12-14 16:33:22,529-[INFO]- dropbox:390 -> Refreshing access token.\n",
      "2022-12-14 16:33:22,774-[INFO]- dropbox:474 -> Request to files/upload\n",
      "2022-12-14 16:33:24,373-[INFO]- dropbox:390 -> Refreshing access token.\n",
      "2022-12-14 16:33:24,735-[INFO]- dropbox:474 -> Request to files/upload\n"
     ]
    },
    {
     "data": {
      "application/vnd.jupyter.widget-view+json": {
       "model_id": "c60b1b4a33f84e74932c5c3adc0e4486",
       "version_major": 2,
       "version_minor": 0
      },
      "text/plain": [
       "Uploaded:   0%|          | 0/6931685 [00:00<?, ?it/s]"
      ]
     },
     "metadata": {},
     "output_type": "display_data"
    },
    {
     "name": "stdout",
     "output_type": "stream",
     "text": [
      "2022-12-14 16:33:26,266-[INFO]- dropbox:390 -> Refreshing access token.\n",
      "2022-12-14 16:33:26,540-[INFO]- dropbox:474 -> Request to files/upload_session/start\n",
      "2022-12-14 16:33:27,618-[INFO]- dropbox:474 -> Request to files/upload_session/finish\n",
      "2022-12-14 16:33:29,971-[INFO]- dropbox:390 -> Refreshing access token.\n",
      "2022-12-14 16:33:30,199-[INFO]- dropbox:474 -> Request to files/upload\n",
      "2022-12-14 16:33:31,718-[INFO]- dropbox:390 -> Refreshing access token.\n",
      "2022-12-14 16:33:31,964-[INFO]- dropbox:474 -> Request to files/upload\n"
     ]
    },
    {
     "data": {
      "application/vnd.jupyter.widget-view+json": {
       "model_id": "fa10f900eea247539d69e84a422f8abb",
       "version_major": 2,
       "version_minor": 0
      },
      "text/plain": [
       "Uploaded:   0%|          | 0/5286959 [00:00<?, ?it/s]"
      ]
     },
     "metadata": {},
     "output_type": "display_data"
    },
    {
     "name": "stdout",
     "output_type": "stream",
     "text": [
      "2022-12-14 16:33:33,328-[INFO]- dropbox:390 -> Refreshing access token.\n",
      "2022-12-14 16:33:33,564-[INFO]- dropbox:474 -> Request to files/upload_session/start\n",
      "2022-12-14 16:33:34,961-[INFO]- dropbox:474 -> Request to files/upload_session/finish\n"
     ]
    },
    {
     "data": {
      "application/vnd.jupyter.widget-view+json": {
       "model_id": "350fb7c34fd4440cb0a2d0af87aa16c2",
       "version_major": 2,
       "version_minor": 0
      },
      "text/plain": [
       "Uploaded:   0%|          | 0/5481246 [00:00<?, ?it/s]"
      ]
     },
     "metadata": {},
     "output_type": "display_data"
    },
    {
     "name": "stdout",
     "output_type": "stream",
     "text": [
      "2022-12-14 16:33:37,095-[INFO]- dropbox:390 -> Refreshing access token.\n",
      "2022-12-14 16:33:37,373-[INFO]- dropbox:474 -> Request to files/upload_session/start\n",
      "2022-12-14 16:33:38,515-[INFO]- dropbox:474 -> Request to files/upload_session/finish\n"
     ]
    },
    {
     "data": {
      "application/vnd.jupyter.widget-view+json": {
       "model_id": "f6d02d28a22c4a639287a2bf818e2a2b",
       "version_major": 2,
       "version_minor": 0
      },
      "text/plain": [
       "Uploaded:   0%|          | 0/6744956 [00:00<?, ?it/s]"
      ]
     },
     "metadata": {},
     "output_type": "display_data"
    },
    {
     "name": "stdout",
     "output_type": "stream",
     "text": [
      "2022-12-14 16:33:40,308-[INFO]- dropbox:390 -> Refreshing access token.\n",
      "2022-12-14 16:33:40,538-[INFO]- dropbox:474 -> Request to files/upload_session/start\n",
      "2022-12-14 16:33:41,509-[INFO]- dropbox:474 -> Request to files/upload_session/finish\n"
     ]
    },
    {
     "data": {
      "application/vnd.jupyter.widget-view+json": {
       "model_id": "a9aeac54c882414aa02781ea28f67c50",
       "version_major": 2,
       "version_minor": 0
      },
      "text/plain": [
       "Uploaded:   0%|          | 0/6772928 [00:00<?, ?it/s]"
      ]
     },
     "metadata": {},
     "output_type": "display_data"
    },
    {
     "name": "stdout",
     "output_type": "stream",
     "text": [
      "2022-12-14 16:33:43,763-[INFO]- dropbox:390 -> Refreshing access token.\n",
      "2022-12-14 16:33:44,009-[INFO]- dropbox:474 -> Request to files/upload_session/start\n",
      "2022-12-14 16:33:45,783-[INFO]- dropbox:474 -> Request to files/upload_session/finish\n"
     ]
    },
    {
     "data": {
      "application/vnd.jupyter.widget-view+json": {
       "model_id": "5ebd15abf7364a719cb7e6f1b9e65bdf",
       "version_major": 2,
       "version_minor": 0
      },
      "text/plain": [
       "Uploaded:   0%|          | 0/5608065 [00:00<?, ?it/s]"
      ]
     },
     "metadata": {},
     "output_type": "display_data"
    },
    {
     "name": "stdout",
     "output_type": "stream",
     "text": [
      "2022-12-14 16:33:48,036-[INFO]- dropbox:390 -> Refreshing access token.\n",
      "2022-12-14 16:33:48,269-[INFO]- dropbox:474 -> Request to files/upload_session/start\n",
      "2022-12-14 16:33:49,243-[INFO]- dropbox:474 -> Request to files/upload_session/finish\n"
     ]
    },
    {
     "data": {
      "application/vnd.jupyter.widget-view+json": {
       "model_id": "af8a58a8a3a641b4860018e75cdf4e7e",
       "version_major": 2,
       "version_minor": 0
      },
      "text/plain": [
       "Uploaded:   0%|          | 0/6976429 [00:00<?, ?it/s]"
      ]
     },
     "metadata": {},
     "output_type": "display_data"
    },
    {
     "name": "stdout",
     "output_type": "stream",
     "text": [
      "2022-12-14 16:33:51,125-[INFO]- dropbox:390 -> Refreshing access token.\n",
      "2022-12-14 16:33:51,367-[INFO]- dropbox:474 -> Request to files/upload_session/start\n",
      "2022-12-14 16:33:52,398-[INFO]- dropbox:474 -> Request to files/upload_session/finish\n"
     ]
    },
    {
     "data": {
      "application/vnd.jupyter.widget-view+json": {
       "model_id": "4f2136e74bbb4383a7c9154e5d40590d",
       "version_major": 2,
       "version_minor": 0
      },
      "text/plain": [
       "Uploaded:   0%|          | 0/5651995 [00:00<?, ?it/s]"
      ]
     },
     "metadata": {},
     "output_type": "display_data"
    },
    {
     "name": "stdout",
     "output_type": "stream",
     "text": [
      "2022-12-14 16:33:54,791-[INFO]- dropbox:390 -> Refreshing access token.\n",
      "2022-12-14 16:33:55,022-[INFO]- dropbox:474 -> Request to files/upload_session/start\n",
      "2022-12-14 16:33:56,865-[INFO]- dropbox:474 -> Request to files/upload_session/finish\n",
      "2022-12-14 16:33:58,848-[INFO]- dropbox:390 -> Refreshing access token.\n",
      "2022-12-14 16:33:59,108-[INFO]- dropbox:474 -> Request to files/upload\n"
     ]
    },
    {
     "data": {
      "application/vnd.jupyter.widget-view+json": {
       "model_id": "74ec605ad3374c0290380f5d21fc136d",
       "version_major": 2,
       "version_minor": 0
      },
      "text/plain": [
       "Uploaded:   0%|          | 0/5579365 [00:00<?, ?it/s]"
      ]
     },
     "metadata": {},
     "output_type": "display_data"
    },
    {
     "name": "stdout",
     "output_type": "stream",
     "text": [
      "2022-12-14 16:34:01,046-[INFO]- dropbox:390 -> Refreshing access token.\n",
      "2022-12-14 16:34:01,308-[INFO]- dropbox:474 -> Request to files/upload_session/start\n",
      "2022-12-14 16:34:02,631-[INFO]- dropbox:474 -> Request to files/upload_session/finish\n"
     ]
    },
    {
     "data": {
      "application/vnd.jupyter.widget-view+json": {
       "model_id": "ac8febb34d794f5d94f9dcc83d606ff6",
       "version_major": 2,
       "version_minor": 0
      },
      "text/plain": [
       "Uploaded:   0%|          | 0/5232116 [00:00<?, ?it/s]"
      ]
     },
     "metadata": {},
     "output_type": "display_data"
    },
    {
     "name": "stdout",
     "output_type": "stream",
     "text": [
      "2022-12-14 16:34:04,553-[INFO]- dropbox:390 -> Refreshing access token.\n",
      "2022-12-14 16:34:04,785-[INFO]- dropbox:474 -> Request to files/upload_session/start\n",
      "2022-12-14 16:34:06,258-[INFO]- dropbox:474 -> Request to files/upload_session/finish\n"
     ]
    },
    {
     "data": {
      "application/vnd.jupyter.widget-view+json": {
       "model_id": "fb4f198e275547019dbae70e4b9b11a6",
       "version_major": 2,
       "version_minor": 0
      },
      "text/plain": [
       "Uploaded:   0%|          | 0/5925937 [00:00<?, ?it/s]"
      ]
     },
     "metadata": {},
     "output_type": "display_data"
    },
    {
     "name": "stdout",
     "output_type": "stream",
     "text": [
      "2022-12-14 16:34:07,942-[INFO]- dropbox:390 -> Refreshing access token.\n",
      "2022-12-14 16:34:08,254-[INFO]- dropbox:474 -> Request to files/upload_session/start\n",
      "2022-12-14 16:34:09,273-[INFO]- dropbox:474 -> Request to files/upload_session/finish\n"
     ]
    },
    {
     "data": {
      "application/vnd.jupyter.widget-view+json": {
       "model_id": "0db2bea70aa9439facabcfd5201150d3",
       "version_major": 2,
       "version_minor": 0
      },
      "text/plain": [
       "Uploaded:   0%|          | 0/6487324 [00:00<?, ?it/s]"
      ]
     },
     "metadata": {},
     "output_type": "display_data"
    },
    {
     "name": "stdout",
     "output_type": "stream",
     "text": [
      "2022-12-14 16:34:11,297-[INFO]- dropbox:390 -> Refreshing access token.\n",
      "2022-12-14 16:34:11,555-[INFO]- dropbox:474 -> Request to files/upload_session/start\n",
      "2022-12-14 16:34:12,697-[INFO]- dropbox:474 -> Request to files/upload_session/finish\n"
     ]
    },
    {
     "data": {
      "application/vnd.jupyter.widget-view+json": {
       "model_id": "bdee5b8052a844c68c6961fc150f7335",
       "version_major": 2,
       "version_minor": 0
      },
      "text/plain": [
       "Uploaded:   0%|          | 0/6737098 [00:00<?, ?it/s]"
      ]
     },
     "metadata": {},
     "output_type": "display_data"
    },
    {
     "name": "stdout",
     "output_type": "stream",
     "text": [
      "2022-12-14 16:34:14,679-[INFO]- dropbox:390 -> Refreshing access token.\n",
      "2022-12-14 16:34:14,924-[INFO]- dropbox:474 -> Request to files/upload_session/start\n",
      "2022-12-14 16:34:16,072-[INFO]- dropbox:474 -> Request to files/upload_session/finish\n"
     ]
    },
    {
     "data": {
      "application/vnd.jupyter.widget-view+json": {
       "model_id": "12b8addaadfa4b6eb434131ba58a7981",
       "version_major": 2,
       "version_minor": 0
      },
      "text/plain": [
       "Uploaded:   0%|          | 0/5042530 [00:00<?, ?it/s]"
      ]
     },
     "metadata": {},
     "output_type": "display_data"
    },
    {
     "name": "stdout",
     "output_type": "stream",
     "text": [
      "2022-12-14 16:34:17,967-[INFO]- dropbox:390 -> Refreshing access token.\n",
      "2022-12-14 16:34:18,394-[INFO]- dropbox:474 -> Request to files/upload_session/start\n",
      "2022-12-14 16:34:19,474-[INFO]- dropbox:474 -> Request to files/upload_session/finish\n"
     ]
    },
    {
     "data": {
      "application/vnd.jupyter.widget-view+json": {
       "model_id": "b2936f1fbc9649619b8e3f7408738835",
       "version_major": 2,
       "version_minor": 0
      },
      "text/plain": [
       "Uploaded:   0%|          | 0/4542461 [00:00<?, ?it/s]"
      ]
     },
     "metadata": {},
     "output_type": "display_data"
    },
    {
     "name": "stdout",
     "output_type": "stream",
     "text": [
      "2022-12-14 16:34:21,392-[INFO]- dropbox:390 -> Refreshing access token.\n",
      "2022-12-14 16:34:21,699-[INFO]- dropbox:474 -> Request to files/upload_session/start\n",
      "2022-12-14 16:34:22,648-[INFO]- dropbox:474 -> Request to files/upload_session/finish\n"
     ]
    },
    {
     "data": {
      "application/vnd.jupyter.widget-view+json": {
       "model_id": "3ba593d7d64a44bbbe0430950fcd7b98",
       "version_major": 2,
       "version_minor": 0
      },
      "text/plain": [
       "Uploaded:   0%|          | 0/6944408 [00:00<?, ?it/s]"
      ]
     },
     "metadata": {},
     "output_type": "display_data"
    },
    {
     "name": "stdout",
     "output_type": "stream",
     "text": [
      "2022-12-14 16:34:24,413-[INFO]- dropbox:390 -> Refreshing access token.\n",
      "2022-12-14 16:34:24,700-[INFO]- dropbox:474 -> Request to files/upload_session/start\n",
      "2022-12-14 16:34:25,772-[INFO]- dropbox:474 -> Request to files/upload_session/finish\n",
      "2022-12-14 16:34:27,560-[INFO]- dropbox:390 -> Refreshing access token.\n",
      "2022-12-14 16:34:27,810-[INFO]- dropbox:474 -> Request to files/upload\n",
      "2022-12-14 16:34:29,654-[INFO]- dropbox:390 -> Refreshing access token.\n",
      "2022-12-14 16:34:29,890-[INFO]- dropbox:474 -> Request to files/upload\n",
      "2022-12-14 16:34:31,679-[INFO]- dropbox:390 -> Refreshing access token.\n",
      "2022-12-14 16:34:31,922-[INFO]- dropbox:474 -> Request to files/upload\n"
     ]
    },
    {
     "data": {
      "application/vnd.jupyter.widget-view+json": {
       "model_id": "aa48a7a456de4d7b98f7e63d720bb8d5",
       "version_major": 2,
       "version_minor": 0
      },
      "text/plain": [
       "Uploaded:   0%|          | 0/4916362 [00:00<?, ?it/s]"
      ]
     },
     "metadata": {},
     "output_type": "display_data"
    },
    {
     "name": "stdout",
     "output_type": "stream",
     "text": [
      "2022-12-14 16:34:33,805-[INFO]- dropbox:390 -> Refreshing access token.\n",
      "2022-12-14 16:34:34,068-[INFO]- dropbox:474 -> Request to files/upload_session/start\n",
      "2022-12-14 16:34:35,197-[INFO]- dropbox:474 -> Request to files/upload_session/finish\n"
     ]
    },
    {
     "data": {
      "application/vnd.jupyter.widget-view+json": {
       "model_id": "f1ee5b0af4554b40af79f20e17cd5fed",
       "version_major": 2,
       "version_minor": 0
      },
      "text/plain": [
       "Uploaded:   0%|          | 0/6607480 [00:00<?, ?it/s]"
      ]
     },
     "metadata": {},
     "output_type": "display_data"
    },
    {
     "name": "stdout",
     "output_type": "stream",
     "text": [
      "2022-12-14 16:34:36,893-[INFO]- dropbox:390 -> Refreshing access token.\n",
      "2022-12-14 16:34:37,124-[INFO]- dropbox:474 -> Request to files/upload_session/start\n",
      "2022-12-14 16:34:38,904-[INFO]- dropbox:474 -> Request to files/upload_session/finish\n"
     ]
    },
    {
     "data": {
      "application/vnd.jupyter.widget-view+json": {
       "model_id": "1f4f22a892f54782964b59d3e21b4b0a",
       "version_major": 2,
       "version_minor": 0
      },
      "text/plain": [
       "Uploaded:   0%|          | 0/5695596 [00:00<?, ?it/s]"
      ]
     },
     "metadata": {},
     "output_type": "display_data"
    },
    {
     "name": "stdout",
     "output_type": "stream",
     "text": [
      "2022-12-14 16:34:41,264-[INFO]- dropbox:390 -> Refreshing access token.\n",
      "2022-12-14 16:34:41,518-[INFO]- dropbox:474 -> Request to files/upload_session/start\n",
      "2022-12-14 16:34:43,367-[INFO]- dropbox:474 -> Request to files/upload_session/finish\n"
     ]
    },
    {
     "data": {
      "application/vnd.jupyter.widget-view+json": {
       "model_id": "1f316fc1e1804b7fbe99f6e56606af40",
       "version_major": 2,
       "version_minor": 0
      },
      "text/plain": [
       "Uploaded:   0%|          | 0/4885292 [00:00<?, ?it/s]"
      ]
     },
     "metadata": {},
     "output_type": "display_data"
    },
    {
     "name": "stdout",
     "output_type": "stream",
     "text": [
      "2022-12-14 16:34:45,622-[INFO]- dropbox:390 -> Refreshing access token.\n",
      "2022-12-14 16:34:45,859-[INFO]- dropbox:474 -> Request to files/upload_session/start\n",
      "2022-12-14 16:34:47,136-[INFO]- dropbox:474 -> Request to files/upload_session/finish\n"
     ]
    },
    {
     "data": {
      "application/vnd.jupyter.widget-view+json": {
       "model_id": "a8dc3ff42581447084b8bc69e248c9dd",
       "version_major": 2,
       "version_minor": 0
      },
      "text/plain": [
       "Uploaded:   0%|          | 0/4898403 [00:00<?, ?it/s]"
      ]
     },
     "metadata": {},
     "output_type": "display_data"
    },
    {
     "name": "stdout",
     "output_type": "stream",
     "text": [
      "2022-12-14 16:34:48,931-[INFO]- dropbox:390 -> Refreshing access token.\n",
      "2022-12-14 16:34:49,264-[INFO]- dropbox:474 -> Request to files/upload_session/start\n",
      "2022-12-14 16:34:50,417-[INFO]- dropbox:474 -> Request to files/upload_session/finish\n"
     ]
    },
    {
     "data": {
      "application/vnd.jupyter.widget-view+json": {
       "model_id": "ad2b890e6e58437c9faa3b62880a096a",
       "version_major": 2,
       "version_minor": 0
      },
      "text/plain": [
       "Uploaded:   0%|          | 0/6914168 [00:00<?, ?it/s]"
      ]
     },
     "metadata": {},
     "output_type": "display_data"
    },
    {
     "name": "stdout",
     "output_type": "stream",
     "text": [
      "2022-12-14 16:34:52,228-[INFO]- dropbox:390 -> Refreshing access token.\n",
      "2022-12-14 16:34:52,491-[INFO]- dropbox:474 -> Request to files/upload_session/start\n",
      "2022-12-14 16:34:53,888-[INFO]- dropbox:474 -> Request to files/upload_session/finish\n"
     ]
    },
    {
     "data": {
      "application/vnd.jupyter.widget-view+json": {
       "model_id": "ec26cb99cd2847efb9dd9bf368dc2d92",
       "version_major": 2,
       "version_minor": 0
      },
      "text/plain": [
       "Uploaded:   0%|          | 0/4807808 [00:00<?, ?it/s]"
      ]
     },
     "metadata": {},
     "output_type": "display_data"
    },
    {
     "name": "stdout",
     "output_type": "stream",
     "text": [
      "2022-12-14 16:34:55,925-[INFO]- dropbox:390 -> Refreshing access token.\n",
      "2022-12-14 16:34:56,176-[INFO]- dropbox:474 -> Request to files/upload_session/start\n",
      "2022-12-14 16:34:57,545-[INFO]- dropbox:474 -> Request to files/upload_session/finish\n",
      "2022-12-14 16:34:59,241-[INFO]- dropbox:390 -> Refreshing access token.\n",
      "2022-12-14 16:34:59,551-[INFO]- dropbox:474 -> Request to files/upload\n"
     ]
    },
    {
     "data": {
      "application/vnd.jupyter.widget-view+json": {
       "model_id": "853c267466854779b92a670c5c4d4db7",
       "version_major": 2,
       "version_minor": 0
      },
      "text/plain": [
       "Uploaded:   0%|          | 0/6709949 [00:00<?, ?it/s]"
      ]
     },
     "metadata": {},
     "output_type": "display_data"
    },
    {
     "name": "stdout",
     "output_type": "stream",
     "text": [
      "2022-12-14 16:35:00,930-[INFO]- dropbox:390 -> Refreshing access token.\n",
      "2022-12-14 16:35:01,174-[INFO]- dropbox:474 -> Request to files/upload_session/start\n",
      "2022-12-14 16:35:02,657-[INFO]- dropbox:474 -> Request to files/upload_session/finish\n"
     ]
    },
    {
     "data": {
      "application/vnd.jupyter.widget-view+json": {
       "model_id": "455830291f204e918dd222dfae692152",
       "version_major": 2,
       "version_minor": 0
      },
      "text/plain": [
       "Uploaded:   0%|          | 0/5271878 [00:00<?, ?it/s]"
      ]
     },
     "metadata": {},
     "output_type": "display_data"
    },
    {
     "name": "stdout",
     "output_type": "stream",
     "text": [
      "2022-12-14 16:35:05,409-[INFO]- dropbox:390 -> Refreshing access token.\n",
      "2022-12-14 16:35:05,690-[INFO]- dropbox:474 -> Request to files/upload_session/start\n",
      "2022-12-14 16:35:06,565-[INFO]- dropbox:474 -> Request to files/upload_session/finish\n"
     ]
    },
    {
     "data": {
      "application/vnd.jupyter.widget-view+json": {
       "model_id": "0341ce0074ea4b7db0eea3ea7039d89d",
       "version_major": 2,
       "version_minor": 0
      },
      "text/plain": [
       "Uploaded:   0%|          | 0/6223014 [00:00<?, ?it/s]"
      ]
     },
     "metadata": {},
     "output_type": "display_data"
    },
    {
     "name": "stdout",
     "output_type": "stream",
     "text": [
      "2022-12-14 16:35:08,697-[INFO]- dropbox:390 -> Refreshing access token.\n",
      "2022-12-14 16:35:08,934-[INFO]- dropbox:474 -> Request to files/upload_session/start\n",
      "2022-12-14 16:35:10,464-[INFO]- dropbox:474 -> Request to files/upload_session/finish\n"
     ]
    },
    {
     "data": {
      "application/vnd.jupyter.widget-view+json": {
       "model_id": "a3cf7e2f87164cf196d4eb8f40def0f6",
       "version_major": 2,
       "version_minor": 0
      },
      "text/plain": [
       "Uploaded:   0%|          | 0/5550685 [00:00<?, ?it/s]"
      ]
     },
     "metadata": {},
     "output_type": "display_data"
    },
    {
     "name": "stdout",
     "output_type": "stream",
     "text": [
      "2022-12-14 16:35:12,292-[INFO]- dropbox:390 -> Refreshing access token.\n",
      "2022-12-14 16:35:12,583-[INFO]- dropbox:474 -> Request to files/upload_session/start\n",
      "2022-12-14 16:35:13,524-[INFO]- dropbox:474 -> Request to files/upload_session/finish\n"
     ]
    },
    {
     "data": {
      "application/vnd.jupyter.widget-view+json": {
       "model_id": "3b0ed1d2fa5646d390e3c4e9897f20de",
       "version_major": 2,
       "version_minor": 0
      },
      "text/plain": [
       "Uploaded:   0%|          | 0/5937864 [00:00<?, ?it/s]"
      ]
     },
     "metadata": {},
     "output_type": "display_data"
    },
    {
     "name": "stdout",
     "output_type": "stream",
     "text": [
      "2022-12-14 16:35:15,579-[INFO]- dropbox:390 -> Refreshing access token.\n",
      "2022-12-14 16:35:15,819-[INFO]- dropbox:474 -> Request to files/upload_session/start\n",
      "2022-12-14 16:35:16,799-[INFO]- dropbox:474 -> Request to files/upload_session/finish\n"
     ]
    },
    {
     "data": {
      "application/vnd.jupyter.widget-view+json": {
       "model_id": "83da5bac8f014efc86daaf4e3939ca40",
       "version_major": 2,
       "version_minor": 0
      },
      "text/plain": [
       "Uploaded:   0%|          | 0/6813799 [00:00<?, ?it/s]"
      ]
     },
     "metadata": {},
     "output_type": "display_data"
    },
    {
     "name": "stdout",
     "output_type": "stream",
     "text": [
      "2022-12-14 16:35:18,610-[INFO]- dropbox:390 -> Refreshing access token.\n",
      "2022-12-14 16:35:18,852-[INFO]- dropbox:474 -> Request to files/upload_session/start\n",
      "2022-12-14 16:35:19,862-[INFO]- dropbox:474 -> Request to files/upload_session/finish\n"
     ]
    },
    {
     "data": {
      "application/vnd.jupyter.widget-view+json": {
       "model_id": "a7fae541c4e24c819deb6b68ae435170",
       "version_major": 2,
       "version_minor": 0
      },
      "text/plain": [
       "Uploaded:   0%|          | 0/4341349 [00:00<?, ?it/s]"
      ]
     },
     "metadata": {},
     "output_type": "display_data"
    },
    {
     "name": "stdout",
     "output_type": "stream",
     "text": [
      "2022-12-14 16:35:21,861-[INFO]- dropbox:390 -> Refreshing access token.\n",
      "2022-12-14 16:35:22,092-[INFO]- dropbox:474 -> Request to files/upload_session/start\n",
      "2022-12-14 16:35:22,918-[INFO]- dropbox:474 -> Request to files/upload_session/finish\n",
      "2022-12-14 16:35:24,445-[INFO]- dropbox:390 -> Refreshing access token.\n",
      "2022-12-14 16:35:24,700-[INFO]- dropbox:474 -> Request to files/upload\n",
      "2022-12-14 16:35:26,329-[INFO]- dropbox:390 -> Refreshing access token.\n",
      "2022-12-14 16:35:26,607-[INFO]- dropbox:474 -> Request to files/upload\n",
      "2022-12-14 16:35:28,286-[INFO]- dropbox:390 -> Refreshing access token.\n",
      "2022-12-14 16:35:28,630-[INFO]- dropbox:474 -> Request to files/upload\n"
     ]
    },
    {
     "data": {
      "application/vnd.jupyter.widget-view+json": {
       "model_id": "b8ea536f3c2a45588cf84c03cf612499",
       "version_major": 2,
       "version_minor": 0
      },
      "text/plain": [
       "Uploaded:   0%|          | 0/6609682 [00:00<?, ?it/s]"
      ]
     },
     "metadata": {},
     "output_type": "display_data"
    },
    {
     "name": "stdout",
     "output_type": "stream",
     "text": [
      "2022-12-14 16:35:30,161-[INFO]- dropbox:390 -> Refreshing access token.\n",
      "2022-12-14 16:35:30,417-[INFO]- dropbox:474 -> Request to files/upload_session/start\n",
      "2022-12-14 16:35:31,334-[INFO]- dropbox:474 -> Request to files/upload_session/finish\n"
     ]
    },
    {
     "data": {
      "application/vnd.jupyter.widget-view+json": {
       "model_id": "e0e89b60f3b641a6a230809e0e246825",
       "version_major": 2,
       "version_minor": 0
      },
      "text/plain": [
       "Uploaded:   0%|          | 0/7114049 [00:00<?, ?it/s]"
      ]
     },
     "metadata": {},
     "output_type": "display_data"
    },
    {
     "name": "stdout",
     "output_type": "stream",
     "text": [
      "2022-12-14 16:35:33,676-[INFO]- dropbox:390 -> Refreshing access token.\n",
      "2022-12-14 16:35:33,916-[INFO]- dropbox:474 -> Request to files/upload_session/start\n",
      "2022-12-14 16:35:34,975-[INFO]- dropbox:474 -> Request to files/upload_session/finish\n"
     ]
    },
    {
     "data": {
      "application/vnd.jupyter.widget-view+json": {
       "model_id": "07a06d95408a48e9a6dd7779f17e3c2f",
       "version_major": 2,
       "version_minor": 0
      },
      "text/plain": [
       "Uploaded:   0%|          | 0/6721742 [00:00<?, ?it/s]"
      ]
     },
     "metadata": {},
     "output_type": "display_data"
    },
    {
     "name": "stdout",
     "output_type": "stream",
     "text": [
      "2022-12-14 16:35:37,173-[INFO]- dropbox:390 -> Refreshing access token.\n",
      "2022-12-14 16:35:37,489-[INFO]- dropbox:474 -> Request to files/upload_session/start\n",
      "2022-12-14 16:35:38,438-[INFO]- dropbox:474 -> Request to files/upload_session/finish\n"
     ]
    },
    {
     "data": {
      "application/vnd.jupyter.widget-view+json": {
       "model_id": "5ae65c07971444558adac4e656e8661d",
       "version_major": 2,
       "version_minor": 0
      },
      "text/plain": [
       "Uploaded:   0%|          | 0/6560401 [00:00<?, ?it/s]"
      ]
     },
     "metadata": {},
     "output_type": "display_data"
    },
    {
     "name": "stdout",
     "output_type": "stream",
     "text": [
      "2022-12-14 16:35:40,562-[INFO]- dropbox:390 -> Refreshing access token.\n",
      "2022-12-14 16:35:40,809-[INFO]- dropbox:474 -> Request to files/upload_session/start\n",
      "2022-12-14 16:35:41,869-[INFO]- dropbox:474 -> Request to files/upload_session/finish\n"
     ]
    },
    {
     "data": {
      "application/vnd.jupyter.widget-view+json": {
       "model_id": "31e2817bb5ff4371a64021e0c85ecca1",
       "version_major": 2,
       "version_minor": 0
      },
      "text/plain": [
       "Uploaded:   0%|          | 0/6256815 [00:00<?, ?it/s]"
      ]
     },
     "metadata": {},
     "output_type": "display_data"
    },
    {
     "name": "stdout",
     "output_type": "stream",
     "text": [
      "2022-12-14 16:35:43,916-[INFO]- dropbox:390 -> Refreshing access token.\n",
      "2022-12-14 16:35:44,158-[INFO]- dropbox:474 -> Request to files/upload_session/start\n",
      "2022-12-14 16:35:45,747-[INFO]- dropbox:474 -> Request to files/upload_session/finish\n"
     ]
    },
    {
     "data": {
      "application/vnd.jupyter.widget-view+json": {
       "model_id": "ebe8816888b346c1b52ec85c4c5de7b3",
       "version_major": 2,
       "version_minor": 0
      },
      "text/plain": [
       "Uploaded:   0%|          | 0/4550913 [00:00<?, ?it/s]"
      ]
     },
     "metadata": {},
     "output_type": "display_data"
    },
    {
     "name": "stdout",
     "output_type": "stream",
     "text": [
      "2022-12-14 16:35:47,484-[INFO]- dropbox:390 -> Refreshing access token.\n",
      "2022-12-14 16:35:47,729-[INFO]- dropbox:474 -> Request to files/upload_session/start\n",
      "2022-12-14 16:35:52,231-[INFO]- dropbox:474 -> Request to files/upload_session/finish\n"
     ]
    },
    {
     "data": {
      "application/vnd.jupyter.widget-view+json": {
       "model_id": "dc3d3b3a00ce46ff915c63e76b546f95",
       "version_major": 2,
       "version_minor": 0
      },
      "text/plain": [
       "Uploaded:   0%|          | 0/5478533 [00:00<?, ?it/s]"
      ]
     },
     "metadata": {},
     "output_type": "display_data"
    },
    {
     "name": "stdout",
     "output_type": "stream",
     "text": [
      "2022-12-14 16:35:54,158-[INFO]- dropbox:390 -> Refreshing access token.\n",
      "2022-12-14 16:35:54,387-[INFO]- dropbox:474 -> Request to files/upload_session/start\n",
      "2022-12-14 16:35:55,389-[INFO]- dropbox:474 -> Request to files/upload_session/finish\n"
     ]
    },
    {
     "data": {
      "application/vnd.jupyter.widget-view+json": {
       "model_id": "d51999d315534adfbb83bd4f3fd1caae",
       "version_major": 2,
       "version_minor": 0
      },
      "text/plain": [
       "Uploaded:   0%|          | 0/4897420 [00:00<?, ?it/s]"
      ]
     },
     "metadata": {},
     "output_type": "display_data"
    },
    {
     "name": "stdout",
     "output_type": "stream",
     "text": [
      "2022-12-14 16:35:57,069-[INFO]- dropbox:390 -> Refreshing access token.\n",
      "2022-12-14 16:35:57,339-[INFO]- dropbox:474 -> Request to files/upload_session/start\n",
      "2022-12-14 16:35:58,296-[INFO]- dropbox:474 -> Request to files/upload_session/finish\n"
     ]
    },
    {
     "data": {
      "application/vnd.jupyter.widget-view+json": {
       "model_id": "320ee432f68f4f4d9feeec57b0b5a56e",
       "version_major": 2,
       "version_minor": 0
      },
      "text/plain": [
       "Uploaded:   0%|          | 0/5292670 [00:00<?, ?it/s]"
      ]
     },
     "metadata": {},
     "output_type": "display_data"
    },
    {
     "name": "stdout",
     "output_type": "stream",
     "text": [
      "2022-12-14 16:35:59,995-[INFO]- dropbox:390 -> Refreshing access token.\n",
      "2022-12-14 16:36:00,297-[INFO]- dropbox:474 -> Request to files/upload_session/start\n",
      "2022-12-14 16:36:01,322-[INFO]- dropbox:474 -> Request to files/upload_session/finish\n"
     ]
    },
    {
     "data": {
      "application/vnd.jupyter.widget-view+json": {
       "model_id": "11965f9f95fb478c9b7cd97a6bb7aa5c",
       "version_major": 2,
       "version_minor": 0
      },
      "text/plain": [
       "Uploaded:   0%|          | 0/6875685 [00:00<?, ?it/s]"
      ]
     },
     "metadata": {},
     "output_type": "display_data"
    },
    {
     "name": "stdout",
     "output_type": "stream",
     "text": [
      "2022-12-14 16:36:03,215-[INFO]- dropbox:390 -> Refreshing access token.\n",
      "2022-12-14 16:36:03,450-[INFO]- dropbox:474 -> Request to files/upload_session/start\n",
      "2022-12-14 16:36:04,427-[INFO]- dropbox:474 -> Request to files/upload_session/finish\n"
     ]
    },
    {
     "data": {
      "application/vnd.jupyter.widget-view+json": {
       "model_id": "593ac1c885f0451e84aa720f15c09b72",
       "version_major": 2,
       "version_minor": 0
      },
      "text/plain": [
       "Uploaded:   0%|          | 0/6626553 [00:00<?, ?it/s]"
      ]
     },
     "metadata": {},
     "output_type": "display_data"
    },
    {
     "name": "stdout",
     "output_type": "stream",
     "text": [
      "2022-12-14 16:36:06,374-[INFO]- dropbox:390 -> Refreshing access token.\n",
      "2022-12-14 16:36:06,625-[INFO]- dropbox:474 -> Request to files/upload_session/start\n",
      "2022-12-14 16:36:07,878-[INFO]- dropbox:474 -> Request to files/upload_session/finish\n",
      "2022-12-14 16:36:10,267-[INFO]- dropbox:390 -> Refreshing access token.\n",
      "2022-12-14 16:36:10,507-[INFO]- dropbox:474 -> Request to files/upload\n"
     ]
    },
    {
     "data": {
      "application/vnd.jupyter.widget-view+json": {
       "model_id": "b2b09c2023124f2cbb1a7e053c80b9cb",
       "version_major": 2,
       "version_minor": 0
      },
      "text/plain": [
       "Uploaded:   0%|          | 0/5347927 [00:00<?, ?it/s]"
      ]
     },
     "metadata": {},
     "output_type": "display_data"
    },
    {
     "name": "stdout",
     "output_type": "stream",
     "text": [
      "2022-12-14 16:36:12,729-[INFO]- dropbox:390 -> Refreshing access token.\n",
      "2022-12-14 16:36:12,966-[INFO]- dropbox:474 -> Request to files/upload_session/start\n",
      "2022-12-14 16:36:14,329-[INFO]- dropbox:474 -> Request to files/upload_session/finish\n"
     ]
    },
    {
     "data": {
      "application/vnd.jupyter.widget-view+json": {
       "model_id": "b0b0dcf96b204ac9a2598434c02887b1",
       "version_major": 2,
       "version_minor": 0
      },
      "text/plain": [
       "Uploaded:   0%|          | 0/5270120 [00:00<?, ?it/s]"
      ]
     },
     "metadata": {},
     "output_type": "display_data"
    },
    {
     "name": "stdout",
     "output_type": "stream",
     "text": [
      "2022-12-14 16:36:16,296-[INFO]- dropbox:390 -> Refreshing access token.\n",
      "2022-12-14 16:36:16,533-[INFO]- dropbox:474 -> Request to files/upload_session/start\n",
      "2022-12-14 16:36:17,594-[INFO]- dropbox:474 -> Request to files/upload_session/finish\n",
      "2022-12-14 16:36:19,187-[INFO]- dropbox:390 -> Refreshing access token.\n",
      "2022-12-14 16:36:19,538-[INFO]- dropbox:474 -> Request to files/upload\n"
     ]
    },
    {
     "data": {
      "application/vnd.jupyter.widget-view+json": {
       "model_id": "fb66bb06df304167ade55a90c2c10695",
       "version_major": 2,
       "version_minor": 0
      },
      "text/plain": [
       "Uploaded:   0%|          | 0/6942132 [00:00<?, ?it/s]"
      ]
     },
     "metadata": {},
     "output_type": "display_data"
    },
    {
     "name": "stdout",
     "output_type": "stream",
     "text": [
      "2022-12-14 16:36:21,315-[INFO]- dropbox:390 -> Refreshing access token.\n",
      "2022-12-14 16:36:21,562-[INFO]- dropbox:474 -> Request to files/upload_session/start\n",
      "2022-12-14 16:36:22,642-[INFO]- dropbox:474 -> Request to files/upload_session/finish\n",
      "2022-12-14 16:36:24,614-[INFO]- dropbox:390 -> Refreshing access token.\n",
      "2022-12-14 16:36:25,457-[INFO]- dropbox:474 -> Request to files/upload\n"
     ]
    },
    {
     "data": {
      "application/vnd.jupyter.widget-view+json": {
       "model_id": "90e771dadd854b14a0e30b0d9ba9b32a",
       "version_major": 2,
       "version_minor": 0
      },
      "text/plain": [
       "Uploaded:   0%|          | 0/6758981 [00:00<?, ?it/s]"
      ]
     },
     "metadata": {},
     "output_type": "display_data"
    },
    {
     "name": "stdout",
     "output_type": "stream",
     "text": [
      "2022-12-14 16:36:26,967-[INFO]- dropbox:390 -> Refreshing access token.\n",
      "2022-12-14 16:36:27,204-[INFO]- dropbox:474 -> Request to files/upload_session/start\n",
      "2022-12-14 16:36:28,263-[INFO]- dropbox:474 -> Request to files/upload_session/finish\n",
      "2022-12-14 16:36:29,908-[INFO]- dropbox:390 -> Refreshing access token.\n",
      "2022-12-14 16:36:30,143-[INFO]- dropbox:474 -> Request to files/upload\n",
      "DATA/PRINCE\n",
      "2022-12-14 16:36:31,791-[INFO]- dropbox:390 -> Refreshing access token.\n",
      "2022-12-14 16:36:32,053-[INFO]- dropbox:474 -> Request to files/upload\n",
      "2022-12-14 16:36:34,163-[INFO]- dropbox:390 -> Refreshing access token.\n",
      "2022-12-14 16:36:34,399-[INFO]- dropbox:474 -> Request to files/upload\n",
      "2022-12-14 16:36:36,664-[INFO]- dropbox:390 -> Refreshing access token.\n",
      "2022-12-14 16:36:36,897-[INFO]- dropbox:474 -> Request to files/upload\n"
     ]
    },
    {
     "data": {
      "application/vnd.jupyter.widget-view+json": {
       "model_id": "a3c8cc20ef004fccbd53ea1968417c11",
       "version_major": 2,
       "version_minor": 0
      },
      "text/plain": [
       "Uploaded:   0%|          | 0/50651634 [00:00<?, ?it/s]"
      ]
     },
     "metadata": {},
     "output_type": "display_data"
    },
    {
     "name": "stdout",
     "output_type": "stream",
     "text": [
      "2022-12-14 16:36:38,132-[INFO]- dropbox:390 -> Refreshing access token.\n",
      "2022-12-14 16:36:38,391-[INFO]- dropbox:474 -> Request to files/upload_session/start\n",
      "2022-12-14 16:36:39,950-[INFO]- dropbox:474 -> Request to files/upload_session/append\n",
      "2022-12-14 16:36:41,657-[INFO]- dropbox:474 -> Request to files/upload_session/append\n",
      "2022-12-14 16:36:43,571-[INFO]- dropbox:474 -> Request to files/upload_session/append\n",
      "2022-12-14 16:36:46,406-[INFO]- dropbox:474 -> Request to files/upload_session/append\n",
      "2022-12-14 16:36:47,947-[INFO]- dropbox:474 -> Request to files/upload_session/append\n",
      "2022-12-14 16:36:49,502-[INFO]- dropbox:474 -> Request to files/upload_session/append\n",
      "2022-12-14 16:36:50,769-[INFO]- dropbox:474 -> Request to files/upload_session/append\n",
      "2022-12-14 16:36:51,954-[INFO]- dropbox:474 -> Request to files/upload_session/append\n",
      "2022-12-14 16:36:53,053-[INFO]- dropbox:474 -> Request to files/upload_session/append\n",
      "2022-12-14 16:36:54,426-[INFO]- dropbox:474 -> Request to files/upload_session/append\n",
      "2022-12-14 16:36:55,654-[INFO]- dropbox:474 -> Request to files/upload_session/append\n",
      "2022-12-14 16:36:56,988-[INFO]- dropbox:474 -> Request to files/upload_session/finish\n"
     ]
    },
    {
     "data": {
      "application/vnd.jupyter.widget-view+json": {
       "model_id": "8d92d8883f624404ada7467baa28bb76",
       "version_major": 2,
       "version_minor": 0
      },
      "text/plain": [
       "Uploaded:   0%|          | 0/18953872 [00:00<?, ?it/s]"
      ]
     },
     "metadata": {},
     "output_type": "display_data"
    },
    {
     "name": "stdout",
     "output_type": "stream",
     "text": [
      "2022-12-14 16:36:58,945-[INFO]- dropbox:390 -> Refreshing access token.\n",
      "2022-12-14 16:36:59,196-[INFO]- dropbox:474 -> Request to files/upload_session/start\n",
      "2022-12-14 16:37:00,126-[INFO]- dropbox:474 -> Request to files/upload_session/append\n",
      "2022-12-14 16:37:01,226-[INFO]- dropbox:474 -> Request to files/upload_session/append\n",
      "2022-12-14 16:37:03,620-[INFO]- dropbox:474 -> Request to files/upload_session/append\n",
      "2022-12-14 16:37:05,080-[INFO]- dropbox:474 -> Request to files/upload_session/finish\n",
      "2022-12-14 16:37:06,456-[INFO]- dropbox:390 -> Refreshing access token.\n",
      "2022-12-14 16:37:06,774-[INFO]- dropbox:474 -> Request to files/upload\n"
     ]
    },
    {
     "data": {
      "application/vnd.jupyter.widget-view+json": {
       "model_id": "dd24fdcf923047a4881e7aaefa4ac235",
       "version_major": 2,
       "version_minor": 0
      },
      "text/plain": [
       "Uploaded:   0%|          | 0/11634448 [00:00<?, ?it/s]"
      ]
     },
     "metadata": {},
     "output_type": "display_data"
    },
    {
     "name": "stdout",
     "output_type": "stream",
     "text": [
      "2022-12-14 16:37:08,034-[INFO]- dropbox:390 -> Refreshing access token.\n",
      "2022-12-14 16:37:08,371-[INFO]- dropbox:474 -> Request to files/upload_session/start\n",
      "2022-12-14 16:37:09,288-[INFO]- dropbox:474 -> Request to files/upload_session/append\n",
      "2022-12-14 16:37:10,957-[INFO]- dropbox:474 -> Request to files/upload_session/finish\n",
      "2022-12-14 16:37:12,372-[INFO]- dropbox:390 -> Refreshing access token.\n",
      "2022-12-14 16:37:12,626-[INFO]- dropbox:474 -> Request to files/upload\n",
      "2022-12-14 16:37:14,306-[INFO]- dropbox:390 -> Refreshing access token.\n",
      "2022-12-14 16:37:14,551-[INFO]- dropbox:474 -> Request to files/upload\n",
      "2022-12-14 16:37:16,127-[INFO]- dropbox:390 -> Refreshing access token.\n",
      "2022-12-14 16:37:16,366-[INFO]- dropbox:474 -> Request to files/upload\n",
      "2022-12-14 16:37:17,804-[INFO]- dropbox:390 -> Refreshing access token.\n",
      "2022-12-14 16:37:18,048-[INFO]- dropbox:474 -> Request to files/upload\n",
      "2022-12-14 16:37:19,489-[INFO]- dropbox:390 -> Refreshing access token.\n",
      "2022-12-14 16:37:19,722-[INFO]- dropbox:474 -> Request to files/upload\n",
      "2022-12-14 16:37:21,230-[INFO]- dropbox:390 -> Refreshing access token.\n",
      "2022-12-14 16:37:21,467-[INFO]- dropbox:474 -> Request to files/upload\n",
      "2022-12-14 16:37:23,198-[INFO]- dropbox:390 -> Refreshing access token.\n",
      "2022-12-14 16:37:23,435-[INFO]- dropbox:474 -> Request to files/upload\n",
      "2022-12-14 16:37:25,002-[INFO]- dropbox:390 -> Refreshing access token.\n",
      "2022-12-14 16:37:25,231-[INFO]- dropbox:474 -> Request to files/upload\n",
      "2022-12-14 16:37:26,660-[INFO]- dropbox:390 -> Refreshing access token.\n",
      "2022-12-14 16:37:26,939-[INFO]- dropbox:474 -> Request to files/upload\n",
      "2022-12-14 16:37:28,237-[INFO]- dropbox:390 -> Refreshing access token.\n",
      "2022-12-14 16:37:28,488-[INFO]- dropbox:474 -> Request to files/upload\n",
      "2022-12-14 16:37:29,856-[INFO]- dropbox:390 -> Refreshing access token.\n",
      "2022-12-14 16:37:30,117-[INFO]- dropbox:474 -> Request to files/upload\n",
      "2022-12-14 16:37:31,455-[INFO]- dropbox:390 -> Refreshing access token.\n",
      "2022-12-14 16:37:31,702-[INFO]- dropbox:474 -> Request to files/upload\n",
      "2022-12-14 16:37:33,988-[INFO]- dropbox:390 -> Refreshing access token.\n",
      "2022-12-14 16:37:34,223-[INFO]- dropbox:474 -> Request to files/upload\n",
      "2022-12-14 16:37:35,724-[INFO]- dropbox:390 -> Refreshing access token.\n",
      "2022-12-14 16:37:35,992-[INFO]- dropbox:474 -> Request to files/upload\n",
      "2022-12-14 16:37:37,549-[INFO]- dropbox:390 -> Refreshing access token.\n",
      "2022-12-14 16:37:37,790-[INFO]- dropbox:474 -> Request to files/upload\n",
      "2022-12-14 16:37:39,508-[INFO]- dropbox:390 -> Refreshing access token.\n",
      "2022-12-14 16:37:39,739-[INFO]- dropbox:474 -> Request to files/upload\n",
      "2022-12-14 16:37:41,158-[INFO]- dropbox:390 -> Refreshing access token.\n",
      "2022-12-14 16:37:41,479-[INFO]- dropbox:474 -> Request to files/upload\n",
      "2022-12-14 16:37:43,141-[INFO]- dropbox:390 -> Refreshing access token.\n",
      "2022-12-14 16:37:43,460-[INFO]- dropbox:474 -> Request to files/upload\n",
      "2022-12-14 16:37:44,851-[INFO]- dropbox:390 -> Refreshing access token.\n",
      "2022-12-14 16:37:45,122-[INFO]- dropbox:474 -> Request to files/upload\n",
      "2022-12-14 16:37:46,572-[INFO]- dropbox:390 -> Refreshing access token.\n",
      "2022-12-14 16:37:46,834-[INFO]- dropbox:474 -> Request to files/upload\n",
      "2022-12-14 16:37:48,332-[INFO]- dropbox:390 -> Refreshing access token.\n",
      "2022-12-14 16:37:48,579-[INFO]- dropbox:474 -> Request to files/upload\n",
      "2022-12-14 16:37:51,202-[INFO]- dropbox:390 -> Refreshing access token.\n",
      "2022-12-14 16:37:51,466-[INFO]- dropbox:474 -> Request to files/upload\n",
      "2022-12-14 16:37:53,177-[INFO]- dropbox:390 -> Refreshing access token.\n",
      "2022-12-14 16:37:53,409-[INFO]- dropbox:474 -> Request to files/upload\n",
      "2022-12-14 16:37:54,994-[INFO]- dropbox:390 -> Refreshing access token.\n",
      "2022-12-14 16:37:55,258-[INFO]- dropbox:474 -> Request to files/upload\n",
      "2022-12-14 16:37:57,082-[INFO]- dropbox:390 -> Refreshing access token.\n",
      "2022-12-14 16:37:57,326-[INFO]- dropbox:474 -> Request to files/upload\n",
      "2022-12-14 16:37:58,895-[INFO]- dropbox:390 -> Refreshing access token.\n",
      "2022-12-14 16:37:59,150-[INFO]- dropbox:474 -> Request to files/upload\n",
      "2022-12-14 16:38:00,937-[INFO]- dropbox:390 -> Refreshing access token.\n",
      "2022-12-14 16:38:01,171-[INFO]- dropbox:474 -> Request to files/upload\n",
      "2022-12-14 16:38:02,782-[INFO]- dropbox:390 -> Refreshing access token.\n",
      "2022-12-14 16:38:03,015-[INFO]- dropbox:474 -> Request to files/upload\n",
      "2022-12-14 16:38:04,513-[INFO]- dropbox:390 -> Refreshing access token.\n",
      "2022-12-14 16:38:04,747-[INFO]- dropbox:474 -> Request to files/upload\n",
      "2022-12-14 16:38:06,603-[INFO]- dropbox:390 -> Refreshing access token.\n",
      "2022-12-14 16:38:06,873-[INFO]- dropbox:474 -> Request to files/upload\n",
      "2022-12-14 16:38:08,758-[INFO]- dropbox:390 -> Refreshing access token.\n",
      "2022-12-14 16:38:08,992-[INFO]- dropbox:474 -> Request to files/upload\n",
      "2022-12-14 16:38:11,914-[INFO]- dropbox:390 -> Refreshing access token.\n",
      "2022-12-14 16:38:12,137-[INFO]- dropbox:474 -> Request to files/upload\n",
      "2022-12-14 16:38:14,921-[INFO]- dropbox:390 -> Refreshing access token.\n",
      "2022-12-14 16:38:15,165-[INFO]- dropbox:474 -> Request to files/upload\n",
      "2022-12-14 16:38:16,623-[INFO]- dropbox:390 -> Refreshing access token.\n",
      "2022-12-14 16:38:16,863-[INFO]- dropbox:474 -> Request to files/upload\n",
      "2022-12-14 16:38:18,874-[INFO]- dropbox:390 -> Refreshing access token.\n",
      "2022-12-14 16:38:19,109-[INFO]- dropbox:474 -> Request to files/upload\n",
      "2022-12-14 16:38:22,091-[INFO]- dropbox:390 -> Refreshing access token.\n",
      "2022-12-14 16:38:22,330-[INFO]- dropbox:474 -> Request to files/upload\n",
      "2022-12-14 16:38:24,297-[INFO]- dropbox:390 -> Refreshing access token.\n",
      "2022-12-14 16:38:24,540-[INFO]- dropbox:474 -> Request to files/upload\n",
      "2022-12-14 16:38:26,265-[INFO]- dropbox:390 -> Refreshing access token.\n",
      "2022-12-14 16:38:26,631-[INFO]- dropbox:474 -> Request to files/upload\n",
      "2022-12-14 16:38:28,854-[INFO]- dropbox:390 -> Refreshing access token.\n",
      "2022-12-14 16:38:29,130-[INFO]- dropbox:474 -> Request to files/upload\n",
      "2022-12-14 16:38:30,919-[INFO]- dropbox:390 -> Refreshing access token.\n",
      "2022-12-14 16:38:31,172-[INFO]- dropbox:474 -> Request to files/upload\n",
      "2022-12-14 16:38:33,093-[INFO]- dropbox:390 -> Refreshing access token.\n",
      "2022-12-14 16:38:33,320-[INFO]- dropbox:474 -> Request to files/upload\n",
      "2022-12-14 16:38:35,449-[INFO]- dropbox:390 -> Refreshing access token.\n",
      "2022-12-14 16:38:35,829-[INFO]- dropbox:474 -> Request to files/upload\n",
      "2022-12-14 16:38:37,979-[INFO]- dropbox:390 -> Refreshing access token.\n",
      "2022-12-14 16:38:38,268-[INFO]- dropbox:474 -> Request to files/upload\n",
      "2022-12-14 16:38:39,897-[INFO]- dropbox:390 -> Refreshing access token.\n",
      "2022-12-14 16:38:40,217-[INFO]- dropbox:474 -> Request to files/upload\n",
      "2022-12-14 16:38:41,771-[INFO]- dropbox:390 -> Refreshing access token.\n",
      "2022-12-14 16:38:42,026-[INFO]- dropbox:474 -> Request to files/upload\n",
      "2022-12-14 16:38:43,792-[INFO]- dropbox:390 -> Refreshing access token.\n",
      "2022-12-14 16:38:44,030-[INFO]- dropbox:474 -> Request to files/upload\n",
      "2022-12-14 16:38:45,910-[INFO]- dropbox:390 -> Refreshing access token.\n",
      "2022-12-14 16:38:46,145-[INFO]- dropbox:474 -> Request to files/upload\n",
      "2022-12-14 16:38:47,571-[INFO]- dropbox:390 -> Refreshing access token.\n",
      "2022-12-14 16:38:47,891-[INFO]- dropbox:474 -> Request to files/upload\n",
      "2022-12-14 16:38:49,550-[INFO]- dropbox:390 -> Refreshing access token.\n",
      "2022-12-14 16:38:49,777-[INFO]- dropbox:474 -> Request to files/upload\n",
      "2022-12-14 16:38:51,550-[INFO]- dropbox:390 -> Refreshing access token.\n",
      "2022-12-14 16:38:51,787-[INFO]- dropbox:474 -> Request to files/upload\n",
      "2022-12-14 16:38:53,803-[INFO]- dropbox:390 -> Refreshing access token.\n",
      "2022-12-14 16:38:54,038-[INFO]- dropbox:474 -> Request to files/upload\n",
      "2022-12-14 16:38:56,235-[INFO]- dropbox:390 -> Refreshing access token.\n",
      "2022-12-14 16:38:56,520-[INFO]- dropbox:474 -> Request to files/upload\n",
      "2022-12-14 16:38:58,298-[INFO]- dropbox:390 -> Refreshing access token.\n",
      "2022-12-14 16:38:58,549-[INFO]- dropbox:474 -> Request to files/upload\n",
      "2022-12-14 16:39:00,740-[INFO]- dropbox:390 -> Refreshing access token.\n",
      "2022-12-14 16:39:00,992-[INFO]- dropbox:474 -> Request to files/upload\n",
      "2022-12-14 16:39:03,131-[INFO]- dropbox:390 -> Refreshing access token.\n",
      "2022-12-14 16:39:03,435-[INFO]- dropbox:474 -> Request to files/upload\n",
      "2022-12-14 16:39:05,060-[INFO]- dropbox:390 -> Refreshing access token.\n",
      "2022-12-14 16:39:05,300-[INFO]- dropbox:474 -> Request to files/upload\n",
      "2022-12-14 16:39:06,962-[INFO]- dropbox:390 -> Refreshing access token.\n",
      "2022-12-14 16:39:07,222-[INFO]- dropbox:474 -> Request to files/upload\n",
      "2022-12-14 16:39:08,926-[INFO]- dropbox:390 -> Refreshing access token.\n",
      "2022-12-14 16:39:09,168-[INFO]- dropbox:474 -> Request to files/upload\n",
      "2022-12-14 16:39:11,350-[INFO]- dropbox:390 -> Refreshing access token.\n",
      "2022-12-14 16:39:11,595-[INFO]- dropbox:474 -> Request to files/upload\n",
      "2022-12-14 16:39:13,306-[INFO]- dropbox:390 -> Refreshing access token.\n",
      "2022-12-14 16:39:13,532-[INFO]- dropbox:474 -> Request to files/upload\n",
      "2022-12-14 16:39:14,994-[INFO]- dropbox:390 -> Refreshing access token.\n",
      "2022-12-14 16:39:15,241-[INFO]- dropbox:474 -> Request to files/upload\n",
      "2022-12-14 16:39:17,508-[INFO]- dropbox:390 -> Refreshing access token.\n",
      "2022-12-14 16:39:17,844-[INFO]- dropbox:474 -> Request to files/upload\n",
      "2022-12-14 16:39:19,424-[INFO]- dropbox:390 -> Refreshing access token.\n",
      "2022-12-14 16:39:19,653-[INFO]- dropbox:474 -> Request to files/upload\n",
      "2022-12-14 16:39:21,863-[INFO]- dropbox:390 -> Refreshing access token.\n",
      "2022-12-14 16:39:22,122-[INFO]- dropbox:474 -> Request to files/upload\n",
      "2022-12-14 16:39:23,696-[INFO]- dropbox:390 -> Refreshing access token.\n",
      "2022-12-14 16:39:23,939-[INFO]- dropbox:474 -> Request to files/upload\n",
      "2022-12-14 16:39:26,271-[INFO]- dropbox:390 -> Refreshing access token.\n",
      "2022-12-14 16:39:26,530-[INFO]- dropbox:474 -> Request to files/upload\n",
      "2022-12-14 16:39:27,959-[INFO]- dropbox:390 -> Refreshing access token.\n",
      "2022-12-14 16:39:28,193-[INFO]- dropbox:474 -> Request to files/upload\n",
      "2022-12-14 16:39:30,317-[INFO]- dropbox:390 -> Refreshing access token.\n",
      "2022-12-14 16:39:30,902-[INFO]- dropbox:474 -> Request to files/upload\n",
      "2022-12-14 16:39:32,402-[INFO]- dropbox:390 -> Refreshing access token.\n",
      "2022-12-14 16:39:32,631-[INFO]- dropbox:474 -> Request to files/upload\n",
      "2022-12-14 16:39:34,039-[INFO]- dropbox:390 -> Refreshing access token.\n",
      "2022-12-14 16:39:34,330-[INFO]- dropbox:474 -> Request to files/upload\n",
      "2022-12-14 16:39:36,107-[INFO]- dropbox:390 -> Refreshing access token.\n",
      "2022-12-14 16:39:36,392-[INFO]- dropbox:474 -> Request to files/upload\n",
      "2022-12-14 16:39:38,198-[INFO]- dropbox:390 -> Refreshing access token.\n",
      "2022-12-14 16:39:38,450-[INFO]- dropbox:474 -> Request to files/upload\n",
      "2022-12-14 16:39:39,862-[INFO]- dropbox:390 -> Refreshing access token.\n",
      "2022-12-14 16:39:40,109-[INFO]- dropbox:474 -> Request to files/upload\n",
      "2022-12-14 16:39:41,868-[INFO]- dropbox:390 -> Refreshing access token.\n",
      "2022-12-14 16:39:42,104-[INFO]- dropbox:474 -> Request to files/upload\n",
      "2022-12-14 16:39:43,897-[INFO]- dropbox:390 -> Refreshing access token.\n",
      "2022-12-14 16:39:44,168-[INFO]- dropbox:474 -> Request to files/upload\n",
      "2022-12-14 16:39:46,322-[INFO]- dropbox:390 -> Refreshing access token.\n",
      "2022-12-14 16:39:46,552-[INFO]- dropbox:474 -> Request to files/upload\n",
      "2022-12-14 16:39:49,056-[INFO]- dropbox:390 -> Refreshing access token.\n",
      "2022-12-14 16:39:49,281-[INFO]- dropbox:474 -> Request to files/upload\n",
      "2022-12-14 16:39:51,237-[INFO]- dropbox:390 -> Refreshing access token.\n",
      "2022-12-14 16:39:51,467-[INFO]- dropbox:474 -> Request to files/upload\n",
      "2022-12-14 16:39:54,005-[INFO]- dropbox:390 -> Refreshing access token.\n",
      "2022-12-14 16:39:54,350-[INFO]- dropbox:474 -> Request to files/upload\n",
      "2022-12-14 16:39:56,397-[INFO]- dropbox:390 -> Refreshing access token.\n",
      "2022-12-14 16:39:56,666-[INFO]- dropbox:474 -> Request to files/upload\n",
      "2022-12-14 16:39:58,223-[INFO]- dropbox:390 -> Refreshing access token.\n",
      "2022-12-14 16:39:58,455-[INFO]- dropbox:474 -> Request to files/upload\n",
      "2022-12-14 16:39:59,814-[INFO]- dropbox:390 -> Refreshing access token.\n",
      "2022-12-14 16:40:00,054-[INFO]- dropbox:474 -> Request to files/upload\n",
      "2022-12-14 16:40:01,802-[INFO]- dropbox:390 -> Refreshing access token.\n",
      "2022-12-14 16:40:02,026-[INFO]- dropbox:474 -> Request to files/upload\n",
      "2022-12-14 16:40:04,272-[INFO]- dropbox:390 -> Refreshing access token.\n",
      "2022-12-14 16:40:04,503-[INFO]- dropbox:474 -> Request to files/upload\n",
      "2022-12-14 16:40:06,731-[INFO]- dropbox:390 -> Refreshing access token.\n",
      "2022-12-14 16:40:07,024-[INFO]- dropbox:474 -> Request to files/upload\n",
      "2022-12-14 16:40:10,594-[INFO]- dropbox:390 -> Refreshing access token.\n",
      "2022-12-14 16:40:10,861-[INFO]- dropbox:474 -> Request to files/upload\n",
      "2022-12-14 16:40:12,901-[INFO]- dropbox:390 -> Refreshing access token.\n",
      "2022-12-14 16:40:13,143-[INFO]- dropbox:474 -> Request to files/upload\n",
      "2022-12-14 16:40:15,027-[INFO]- dropbox:390 -> Refreshing access token.\n",
      "2022-12-14 16:40:15,280-[INFO]- dropbox:474 -> Request to files/upload\n",
      "2022-12-14 16:40:16,630-[INFO]- dropbox:390 -> Refreshing access token.\n",
      "2022-12-14 16:40:16,879-[INFO]- dropbox:474 -> Request to files/upload\n",
      "2022-12-14 16:40:18,589-[INFO]- dropbox:390 -> Refreshing access token.\n",
      "2022-12-14 16:40:18,827-[INFO]- dropbox:474 -> Request to files/upload\n",
      "2022-12-14 16:40:20,208-[INFO]- dropbox:390 -> Refreshing access token.\n",
      "2022-12-14 16:40:20,457-[INFO]- dropbox:474 -> Request to files/upload\n",
      "2022-12-14 16:40:22,376-[INFO]- dropbox:390 -> Refreshing access token.\n",
      "2022-12-14 16:40:22,626-[INFO]- dropbox:474 -> Request to files/upload\n",
      "2022-12-14 16:40:23,953-[INFO]- dropbox:390 -> Refreshing access token.\n",
      "2022-12-14 16:40:24,174-[INFO]- dropbox:474 -> Request to files/upload\n",
      "2022-12-14 16:40:26,107-[INFO]- dropbox:390 -> Refreshing access token.\n",
      "2022-12-14 16:40:26,379-[INFO]- dropbox:474 -> Request to files/upload\n",
      "2022-12-14 16:40:27,718-[INFO]- dropbox:390 -> Refreshing access token.\n",
      "2022-12-14 16:40:27,967-[INFO]- dropbox:474 -> Request to files/upload\n",
      "2022-12-14 16:40:29,843-[INFO]- dropbox:390 -> Refreshing access token.\n",
      "2022-12-14 16:40:30,114-[INFO]- dropbox:474 -> Request to files/upload\n",
      "2022-12-14 16:40:31,977-[INFO]- dropbox:390 -> Refreshing access token.\n",
      "2022-12-14 16:40:32,207-[INFO]- dropbox:474 -> Request to files/upload\n",
      "2022-12-14 16:40:33,712-[INFO]- dropbox:390 -> Refreshing access token.\n",
      "2022-12-14 16:40:33,972-[INFO]- dropbox:474 -> Request to files/upload\n",
      "2022-12-14 16:40:35,560-[INFO]- dropbox:390 -> Refreshing access token.\n",
      "2022-12-14 16:40:35,808-[INFO]- dropbox:474 -> Request to files/upload\n",
      "2022-12-14 16:40:37,452-[INFO]- dropbox:390 -> Refreshing access token.\n",
      "2022-12-14 16:40:37,730-[INFO]- dropbox:474 -> Request to files/upload\n",
      "DATA/PRINCE\n",
      "2022-12-14 16:40:39,152-[INFO]- dropbox:390 -> Refreshing access token.\n",
      "2022-12-14 16:40:39,392-[INFO]- dropbox:474 -> Request to files/upload\n"
     ]
    },
    {
     "data": {
      "application/vnd.jupyter.widget-view+json": {
       "model_id": "cd09216e90064e77a781dfb84935daae",
       "version_major": 2,
       "version_minor": 0
      },
      "text/plain": [
       "Uploaded:   0%|          | 0/18295154 [00:00<?, ?it/s]"
      ]
     },
     "metadata": {},
     "output_type": "display_data"
    },
    {
     "name": "stdout",
     "output_type": "stream",
     "text": [
      "2022-12-14 16:40:40,851-[INFO]- dropbox:390 -> Refreshing access token.\n",
      "2022-12-14 16:40:41,085-[INFO]- dropbox:474 -> Request to files/upload_session/start\n",
      "2022-12-14 16:40:42,065-[INFO]- dropbox:474 -> Request to files/upload_session/append\n",
      "2022-12-14 16:40:43,245-[INFO]- dropbox:474 -> Request to files/upload_session/append\n",
      "2022-12-14 16:40:44,283-[INFO]- dropbox:474 -> Request to files/upload_session/append\n",
      "2022-12-14 16:40:45,622-[INFO]- dropbox:474 -> Request to files/upload_session/finish\n",
      "2022-12-14 16:40:47,297-[INFO]- dropbox:390 -> Refreshing access token.\n",
      "2022-12-14 16:40:47,528-[INFO]- dropbox:474 -> Request to files/upload\n",
      "2022-12-14 16:40:48,861-[INFO]- dropbox:390 -> Refreshing access token.\n",
      "2022-12-14 16:40:49,094-[INFO]- dropbox:474 -> Request to files/upload\n"
     ]
    },
    {
     "data": {
      "application/vnd.jupyter.widget-view+json": {
       "model_id": "6db284e48b254ba5a8edfff69cecbab6",
       "version_major": 2,
       "version_minor": 0
      },
      "text/plain": [
       "Uploaded:   0%|          | 0/47062034 [00:00<?, ?it/s]"
      ]
     },
     "metadata": {},
     "output_type": "display_data"
    },
    {
     "name": "stdout",
     "output_type": "stream",
     "text": [
      "2022-12-14 16:40:50,597-[INFO]- dropbox:390 -> Refreshing access token.\n",
      "2022-12-14 16:40:50,879-[INFO]- dropbox:474 -> Request to files/upload_session/start\n",
      "2022-12-14 16:40:52,051-[INFO]- dropbox:474 -> Request to files/upload_session/append\n",
      "2022-12-14 16:40:53,733-[INFO]- dropbox:474 -> Request to files/upload_session/append\n",
      "2022-12-14 16:40:54,967-[INFO]- dropbox:474 -> Request to files/upload_session/append\n",
      "2022-12-14 16:40:56,177-[INFO]- dropbox:474 -> Request to files/upload_session/append\n",
      "2022-12-14 16:40:57,291-[INFO]- dropbox:474 -> Request to files/upload_session/append\n",
      "2022-12-14 16:40:58,483-[INFO]- dropbox:474 -> Request to files/upload_session/append\n",
      "2022-12-14 16:41:00,966-[INFO]- dropbox:474 -> Request to files/upload_session/append\n",
      "2022-12-14 16:41:02,542-[INFO]- dropbox:474 -> Request to files/upload_session/append\n",
      "2022-12-14 16:41:03,859-[INFO]- dropbox:474 -> Request to files/upload_session/append\n",
      "2022-12-14 16:41:05,138-[INFO]- dropbox:474 -> Request to files/upload_session/append\n",
      "2022-12-14 16:41:06,126-[INFO]- dropbox:474 -> Request to files/upload_session/finish\n",
      "2022-12-14 16:41:07,514-[INFO]- dropbox:390 -> Refreshing access token.\n",
      "2022-12-14 16:41:07,797-[INFO]- dropbox:474 -> Request to files/upload\n"
     ]
    },
    {
     "data": {
      "application/vnd.jupyter.widget-view+json": {
       "model_id": "6ee34b7ec0314fa49da013d4b6a46d63",
       "version_major": 2,
       "version_minor": 0
      },
      "text/plain": [
       "Uploaded:   0%|          | 0/19361586 [00:00<?, ?it/s]"
      ]
     },
     "metadata": {},
     "output_type": "display_data"
    },
    {
     "name": "stdout",
     "output_type": "stream",
     "text": [
      "2022-12-14 16:41:09,057-[INFO]- dropbox:390 -> Refreshing access token.\n",
      "2022-12-14 16:41:09,298-[INFO]- dropbox:474 -> Request to files/upload_session/start\n",
      "2022-12-14 16:41:10,330-[INFO]- dropbox:474 -> Request to files/upload_session/append\n",
      "2022-12-14 16:41:11,346-[INFO]- dropbox:474 -> Request to files/upload_session/append\n",
      "2022-12-14 16:41:12,894-[INFO]- dropbox:474 -> Request to files/upload_session/append\n",
      "2022-12-14 16:41:14,357-[INFO]- dropbox:474 -> Request to files/upload_session/finish\n",
      "2022-12-14 16:41:15,938-[INFO]- dropbox:390 -> Refreshing access token.\n",
      "2022-12-14 16:41:16,201-[INFO]- dropbox:474 -> Request to files/upload\n",
      "2022-12-14 16:41:17,773-[INFO]- dropbox:390 -> Refreshing access token.\n",
      "2022-12-14 16:41:18,022-[INFO]- dropbox:474 -> Request to files/upload\n",
      "2022-12-14 16:41:19,666-[INFO]- dropbox:390 -> Refreshing access token.\n",
      "2022-12-14 16:41:19,921-[INFO]- dropbox:474 -> Request to files/upload\n",
      "2022-12-14 16:41:21,246-[INFO]- dropbox:390 -> Refreshing access token.\n",
      "2022-12-14 16:41:21,482-[INFO]- dropbox:474 -> Request to files/upload\n",
      "2022-12-14 16:41:22,773-[INFO]- dropbox:390 -> Refreshing access token.\n",
      "2022-12-14 16:41:22,996-[INFO]- dropbox:474 -> Request to files/upload\n",
      "2022-12-14 16:41:24,471-[INFO]- dropbox:390 -> Refreshing access token.\n",
      "2022-12-14 16:41:24,711-[INFO]- dropbox:474 -> Request to files/upload\n",
      "2022-12-14 16:41:26,209-[INFO]- dropbox:390 -> Refreshing access token.\n",
      "2022-12-14 16:41:26,437-[INFO]- dropbox:474 -> Request to files/upload\n",
      "2022-12-14 16:41:28,311-[INFO]- dropbox:390 -> Refreshing access token.\n",
      "2022-12-14 16:41:28,614-[INFO]- dropbox:474 -> Request to files/upload\n",
      "2022-12-14 16:41:31,961-[INFO]- dropbox:390 -> Refreshing access token.\n",
      "2022-12-14 16:41:32,208-[INFO]- dropbox:474 -> Request to files/upload\n",
      "2022-12-14 16:41:33,624-[INFO]- dropbox:390 -> Refreshing access token.\n",
      "2022-12-14 16:41:33,868-[INFO]- dropbox:474 -> Request to files/upload\n",
      "2022-12-14 16:41:35,587-[INFO]- dropbox:390 -> Refreshing access token.\n",
      "2022-12-14 16:41:35,823-[INFO]- dropbox:474 -> Request to files/upload\n",
      "2022-12-14 16:41:37,536-[INFO]- dropbox:390 -> Refreshing access token.\n",
      "2022-12-14 16:41:37,777-[INFO]- dropbox:474 -> Request to files/upload\n",
      "2022-12-14 16:41:39,304-[INFO]- dropbox:390 -> Refreshing access token.\n",
      "2022-12-14 16:41:39,561-[INFO]- dropbox:474 -> Request to files/upload\n",
      "2022-12-14 16:41:41,633-[INFO]- dropbox:390 -> Refreshing access token.\n",
      "2022-12-14 16:41:41,897-[INFO]- dropbox:474 -> Request to files/upload\n",
      "2022-12-14 16:41:43,465-[INFO]- dropbox:390 -> Refreshing access token.\n",
      "2022-12-14 16:41:43,707-[INFO]- dropbox:474 -> Request to files/upload\n",
      "2022-12-14 16:41:45,621-[INFO]- dropbox:390 -> Refreshing access token.\n",
      "2022-12-14 16:41:45,858-[INFO]- dropbox:474 -> Request to files/upload\n",
      "2022-12-14 16:41:47,412-[INFO]- dropbox:390 -> Refreshing access token.\n",
      "2022-12-14 16:41:47,649-[INFO]- dropbox:474 -> Request to files/upload\n",
      "2022-12-14 16:41:49,419-[INFO]- dropbox:390 -> Refreshing access token.\n",
      "2022-12-14 16:41:49,673-[INFO]- dropbox:474 -> Request to files/upload\n",
      "2022-12-14 16:41:51,255-[INFO]- dropbox:390 -> Refreshing access token.\n",
      "2022-12-14 16:41:51,540-[INFO]- dropbox:474 -> Request to files/upload\n",
      "2022-12-14 16:41:53,700-[INFO]- dropbox:390 -> Refreshing access token.\n",
      "2022-12-14 16:41:53,938-[INFO]- dropbox:474 -> Request to files/upload\n",
      "2022-12-14 16:41:55,891-[INFO]- dropbox:390 -> Refreshing access token.\n",
      "2022-12-14 16:41:56,130-[INFO]- dropbox:474 -> Request to files/upload\n",
      "2022-12-14 16:42:02,107-[INFO]- dropbox:390 -> Refreshing access token.\n",
      "2022-12-14 16:42:02,396-[INFO]- dropbox:474 -> Request to files/upload\n",
      "2022-12-14 16:42:04,086-[INFO]- dropbox:390 -> Refreshing access token.\n",
      "2022-12-14 16:42:04,330-[INFO]- dropbox:474 -> Request to files/upload\n",
      "2022-12-14 16:42:06,340-[INFO]- dropbox:390 -> Refreshing access token.\n",
      "2022-12-14 16:42:06,601-[INFO]- dropbox:474 -> Request to files/upload\n",
      "2022-12-14 16:42:08,282-[INFO]- dropbox:390 -> Refreshing access token.\n",
      "2022-12-14 16:42:08,681-[INFO]- dropbox:474 -> Request to files/upload\n",
      "2022-12-14 16:42:10,782-[INFO]- dropbox:390 -> Refreshing access token.\n",
      "2022-12-14 16:42:11,184-[INFO]- dropbox:474 -> Request to files/upload\n",
      "2022-12-14 16:42:13,888-[INFO]- dropbox:390 -> Refreshing access token.\n",
      "2022-12-14 16:42:14,138-[INFO]- dropbox:474 -> Request to files/upload\n",
      "2022-12-14 16:42:15,835-[INFO]- dropbox:390 -> Refreshing access token.\n",
      "2022-12-14 16:42:16,200-[INFO]- dropbox:474 -> Request to files/upload\n",
      "2022-12-14 16:42:17,655-[INFO]- dropbox:390 -> Refreshing access token.\n",
      "2022-12-14 16:42:17,905-[INFO]- dropbox:474 -> Request to files/upload\n",
      "2022-12-14 16:42:20,190-[INFO]- dropbox:390 -> Refreshing access token.\n",
      "2022-12-14 16:42:20,432-[INFO]- dropbox:474 -> Request to files/upload\n",
      "2022-12-14 16:42:22,305-[INFO]- dropbox:390 -> Refreshing access token.\n",
      "2022-12-14 16:42:22,577-[INFO]- dropbox:474 -> Request to files/upload\n",
      "2022-12-14 16:42:24,781-[INFO]- dropbox:390 -> Refreshing access token.\n",
      "2022-12-14 16:42:25,027-[INFO]- dropbox:474 -> Request to files/upload\n",
      "2022-12-14 16:42:26,890-[INFO]- dropbox:390 -> Refreshing access token.\n",
      "2022-12-14 16:42:27,132-[INFO]- dropbox:474 -> Request to files/upload\n",
      "2022-12-14 16:42:28,812-[INFO]- dropbox:390 -> Refreshing access token.\n",
      "2022-12-14 16:42:29,066-[INFO]- dropbox:474 -> Request to files/upload\n",
      "2022-12-14 16:42:31,724-[INFO]- dropbox:390 -> Refreshing access token.\n",
      "2022-12-14 16:42:31,969-[INFO]- dropbox:474 -> Request to files/upload\n",
      "2022-12-14 16:42:33,430-[INFO]- dropbox:390 -> Refreshing access token.\n",
      "2022-12-14 16:42:33,669-[INFO]- dropbox:474 -> Request to files/upload\n",
      "2022-12-14 16:42:35,736-[INFO]- dropbox:390 -> Refreshing access token.\n",
      "2022-12-14 16:42:36,001-[INFO]- dropbox:474 -> Request to files/upload\n",
      "2022-12-14 16:42:37,734-[INFO]- dropbox:390 -> Refreshing access token.\n",
      "2022-12-14 16:42:37,979-[INFO]- dropbox:474 -> Request to files/upload\n",
      "2022-12-14 16:42:39,954-[INFO]- dropbox:390 -> Refreshing access token.\n",
      "2022-12-14 16:42:40,200-[INFO]- dropbox:474 -> Request to files/upload\n",
      "2022-12-14 16:42:41,596-[INFO]- dropbox:390 -> Refreshing access token.\n",
      "2022-12-14 16:42:41,864-[INFO]- dropbox:474 -> Request to files/upload\n",
      "2022-12-14 16:42:43,159-[INFO]- dropbox:390 -> Refreshing access token.\n",
      "2022-12-14 16:42:43,408-[INFO]- dropbox:474 -> Request to files/upload\n",
      "2022-12-14 16:42:45,750-[INFO]- dropbox:390 -> Refreshing access token.\n",
      "2022-12-14 16:42:45,985-[INFO]- dropbox:474 -> Request to files/upload\n",
      "2022-12-14 16:42:47,915-[INFO]- dropbox:390 -> Refreshing access token.\n",
      "2022-12-14 16:42:48,164-[INFO]- dropbox:474 -> Request to files/upload\n",
      "2022-12-14 16:42:49,682-[INFO]- dropbox:390 -> Refreshing access token.\n",
      "2022-12-14 16:42:49,929-[INFO]- dropbox:474 -> Request to files/upload\n",
      "2022-12-14 16:42:51,769-[INFO]- dropbox:390 -> Refreshing access token.\n",
      "2022-12-14 16:42:52,016-[INFO]- dropbox:474 -> Request to files/upload\n",
      "2022-12-14 16:42:53,497-[INFO]- dropbox:390 -> Refreshing access token.\n",
      "2022-12-14 16:42:53,734-[INFO]- dropbox:474 -> Request to files/upload\n",
      "2022-12-14 16:42:55,776-[INFO]- dropbox:390 -> Refreshing access token.\n",
      "2022-12-14 16:42:56,022-[INFO]- dropbox:474 -> Request to files/upload\n",
      "2022-12-14 16:42:58,048-[INFO]- dropbox:390 -> Refreshing access token.\n",
      "2022-12-14 16:42:58,288-[INFO]- dropbox:474 -> Request to files/upload\n",
      "2022-12-14 16:43:02,883-[INFO]- dropbox:390 -> Refreshing access token.\n",
      "2022-12-14 16:43:03,168-[INFO]- dropbox:474 -> Request to files/upload\n",
      "2022-12-14 16:43:04,883-[INFO]- dropbox:390 -> Refreshing access token.\n",
      "2022-12-14 16:43:05,154-[INFO]- dropbox:474 -> Request to files/upload\n",
      "2022-12-14 16:43:06,931-[INFO]- dropbox:390 -> Refreshing access token.\n",
      "2022-12-14 16:43:07,198-[INFO]- dropbox:474 -> Request to files/upload\n",
      "2022-12-14 16:43:09,144-[INFO]- dropbox:390 -> Refreshing access token.\n",
      "2022-12-14 16:43:09,402-[INFO]- dropbox:474 -> Request to files/upload\n",
      "2022-12-14 16:43:11,128-[INFO]- dropbox:390 -> Refreshing access token.\n",
      "2022-12-14 16:43:11,394-[INFO]- dropbox:474 -> Request to files/upload\n",
      "2022-12-14 16:43:13,302-[INFO]- dropbox:390 -> Refreshing access token.\n",
      "2022-12-14 16:43:13,563-[INFO]- dropbox:474 -> Request to files/upload\n",
      "2022-12-14 16:43:14,949-[INFO]- dropbox:390 -> Refreshing access token.\n",
      "2022-12-14 16:43:15,188-[INFO]- dropbox:474 -> Request to files/upload\n",
      "2022-12-14 16:43:16,946-[INFO]- dropbox:390 -> Refreshing access token.\n",
      "2022-12-14 16:43:17,174-[INFO]- dropbox:474 -> Request to files/upload\n",
      "2022-12-14 16:43:18,654-[INFO]- dropbox:390 -> Refreshing access token.\n",
      "2022-12-14 16:43:18,893-[INFO]- dropbox:474 -> Request to files/upload\n",
      "2022-12-14 16:43:20,752-[INFO]- dropbox:390 -> Refreshing access token.\n",
      "2022-12-14 16:43:21,056-[INFO]- dropbox:474 -> Request to files/upload\n",
      "2022-12-14 16:43:22,251-[INFO]- dropbox:390 -> Refreshing access token.\n",
      "2022-12-14 16:43:22,535-[INFO]- dropbox:474 -> Request to files/upload\n",
      "2022-12-14 16:43:24,382-[INFO]- dropbox:390 -> Refreshing access token.\n",
      "2022-12-14 16:43:24,627-[INFO]- dropbox:474 -> Request to files/upload\n",
      "2022-12-14 16:43:26,166-[INFO]- dropbox:390 -> Refreshing access token.\n",
      "2022-12-14 16:43:26,394-[INFO]- dropbox:474 -> Request to files/upload\n",
      "2022-12-14 16:43:28,150-[INFO]- dropbox:390 -> Refreshing access token.\n",
      "2022-12-14 16:43:28,379-[INFO]- dropbox:474 -> Request to files/upload\n",
      "2022-12-14 16:43:30,409-[INFO]- dropbox:390 -> Refreshing access token.\n",
      "2022-12-14 16:43:30,667-[INFO]- dropbox:474 -> Request to files/upload\n",
      "2022-12-14 16:43:32,407-[INFO]- dropbox:390 -> Refreshing access token.\n",
      "2022-12-14 16:43:32,652-[INFO]- dropbox:474 -> Request to files/upload\n",
      "2022-12-14 16:43:34,197-[INFO]- dropbox:390 -> Refreshing access token.\n",
      "2022-12-14 16:43:34,464-[INFO]- dropbox:474 -> Request to files/upload\n",
      "2022-12-14 16:43:36,102-[INFO]- dropbox:390 -> Refreshing access token.\n",
      "2022-12-14 16:43:36,466-[INFO]- dropbox:474 -> Request to files/upload\n",
      "2022-12-14 16:43:38,038-[INFO]- dropbox:390 -> Refreshing access token.\n",
      "2022-12-14 16:43:38,264-[INFO]- dropbox:474 -> Request to files/upload\n",
      "2022-12-14 16:43:40,530-[INFO]- dropbox:390 -> Refreshing access token.\n",
      "2022-12-14 16:43:40,865-[INFO]- dropbox:474 -> Request to files/upload\n",
      "2022-12-14 16:43:42,540-[INFO]- dropbox:390 -> Refreshing access token.\n",
      "2022-12-14 16:43:42,774-[INFO]- dropbox:474 -> Request to files/upload\n",
      "2022-12-14 16:43:44,051-[INFO]- dropbox:390 -> Refreshing access token.\n",
      "2022-12-14 16:43:45,037-[INFO]- dropbox:474 -> Request to files/upload\n",
      "2022-12-14 16:43:47,099-[INFO]- dropbox:390 -> Refreshing access token.\n",
      "2022-12-14 16:43:47,348-[INFO]- dropbox:474 -> Request to files/upload\n",
      "2022-12-14 16:43:48,900-[INFO]- dropbox:390 -> Refreshing access token.\n",
      "2022-12-14 16:43:49,153-[INFO]- dropbox:474 -> Request to files/upload\n",
      "2022-12-14 16:43:55,429-[INFO]- dropbox:390 -> Refreshing access token.\n",
      "2022-12-14 16:43:55,682-[INFO]- dropbox:474 -> Request to files/upload\n",
      "2022-12-14 16:43:57,168-[INFO]- dropbox:390 -> Refreshing access token.\n",
      "2022-12-14 16:43:57,468-[INFO]- dropbox:474 -> Request to files/upload\n",
      "2022-12-14 16:43:59,376-[INFO]- dropbox:390 -> Refreshing access token.\n",
      "2022-12-14 16:43:59,616-[INFO]- dropbox:474 -> Request to files/upload\n",
      "2022-12-14 16:44:01,036-[INFO]- dropbox:390 -> Refreshing access token.\n",
      "2022-12-14 16:44:01,291-[INFO]- dropbox:474 -> Request to files/upload\n",
      "2022-12-14 16:44:03,622-[INFO]- dropbox:390 -> Refreshing access token.\n",
      "2022-12-14 16:44:03,883-[INFO]- dropbox:474 -> Request to files/upload\n",
      "2022-12-14 16:44:05,807-[INFO]- dropbox:390 -> Refreshing access token.\n",
      "2022-12-14 16:44:06,073-[INFO]- dropbox:474 -> Request to files/upload\n",
      "2022-12-14 16:44:07,462-[INFO]- dropbox:390 -> Refreshing access token.\n",
      "2022-12-14 16:44:07,710-[INFO]- dropbox:474 -> Request to files/upload\n",
      "2022-12-14 16:44:09,473-[INFO]- dropbox:390 -> Refreshing access token.\n",
      "2022-12-14 16:44:09,729-[INFO]- dropbox:474 -> Request to files/upload\n",
      "2022-12-14 16:44:11,050-[INFO]- dropbox:390 -> Refreshing access token.\n",
      "2022-12-14 16:44:11,366-[INFO]- dropbox:474 -> Request to files/upload\n",
      "2022-12-14 16:44:12,979-[INFO]- dropbox:390 -> Refreshing access token.\n",
      "2022-12-14 16:44:13,212-[INFO]- dropbox:474 -> Request to files/upload\n",
      "2022-12-14 16:44:14,757-[INFO]- dropbox:390 -> Refreshing access token.\n",
      "2022-12-14 16:44:14,997-[INFO]- dropbox:474 -> Request to files/upload\n",
      "2022-12-14 16:44:16,493-[INFO]- dropbox:390 -> Refreshing access token.\n",
      "2022-12-14 16:44:16,720-[INFO]- dropbox:474 -> Request to files/upload\n",
      "2022-12-14 16:44:18,299-[INFO]- dropbox:390 -> Refreshing access token.\n",
      "2022-12-14 16:44:18,547-[INFO]- dropbox:474 -> Request to files/upload\n",
      "DATA/PRINCE\n",
      "2022-12-14 16:44:19,830-[INFO]- dropbox:390 -> Refreshing access token.\n",
      "2022-12-14 16:44:20,090-[INFO]- dropbox:474 -> Request to files/upload\n",
      "2022-12-14 16:44:21,858-[INFO]- dropbox:390 -> Refreshing access token.\n",
      "2022-12-14 16:44:22,113-[INFO]- dropbox:474 -> Request to files/upload\n",
      "2022-12-14 16:44:24,019-[INFO]- dropbox:390 -> Refreshing access token.\n",
      "2022-12-14 16:44:24,317-[INFO]- dropbox:474 -> Request to files/upload\n"
     ]
    },
    {
     "data": {
      "application/vnd.jupyter.widget-view+json": {
       "model_id": "0a0f11dfc63b44d48e24875e6294f439",
       "version_major": 2,
       "version_minor": 0
      },
      "text/plain": [
       "Uploaded:   0%|          | 0/83935682 [00:00<?, ?it/s]"
      ]
     },
     "metadata": {},
     "output_type": "display_data"
    },
    {
     "name": "stdout",
     "output_type": "stream",
     "text": [
      "2022-12-14 16:44:26,214-[INFO]- dropbox:390 -> Refreshing access token.\n",
      "2022-12-14 16:44:26,480-[INFO]- dropbox:474 -> Request to files/upload_session/start\n",
      "2022-12-14 16:44:28,455-[INFO]- dropbox:474 -> Request to files/upload_session/append\n",
      "2022-12-14 16:44:29,488-[INFO]- dropbox:474 -> Request to files/upload_session/append\n",
      "2022-12-14 16:44:30,600-[INFO]- dropbox:474 -> Request to files/upload_session/append\n",
      "2022-12-14 16:44:32,084-[INFO]- dropbox:474 -> Request to files/upload_session/append\n",
      "2022-12-14 16:44:33,159-[INFO]- dropbox:474 -> Request to files/upload_session/append\n",
      "2022-12-14 16:44:34,254-[INFO]- dropbox:474 -> Request to files/upload_session/append\n",
      "2022-12-14 16:44:35,516-[INFO]- dropbox:474 -> Request to files/upload_session/append\n",
      "2022-12-14 16:44:36,731-[INFO]- dropbox:474 -> Request to files/upload_session/append\n",
      "2022-12-14 16:44:37,928-[INFO]- dropbox:474 -> Request to files/upload_session/append\n",
      "2022-12-14 16:44:39,136-[INFO]- dropbox:474 -> Request to files/upload_session/append\n",
      "2022-12-14 16:44:40,272-[INFO]- dropbox:474 -> Request to files/upload_session/append\n",
      "2022-12-14 16:44:41,529-[INFO]- dropbox:474 -> Request to files/upload_session/append\n",
      "2022-12-14 16:44:42,728-[INFO]- dropbox:474 -> Request to files/upload_session/append\n",
      "2022-12-14 16:44:43,977-[INFO]- dropbox:474 -> Request to files/upload_session/append\n",
      "2022-12-14 16:44:45,171-[INFO]- dropbox:474 -> Request to files/upload_session/append\n",
      "2022-12-14 16:44:47,729-[INFO]- dropbox:474 -> Request to files/upload_session/append\n",
      "2022-12-14 16:44:49,329-[INFO]- dropbox:474 -> Request to files/upload_session/append\n",
      "2022-12-14 16:44:50,480-[INFO]- dropbox:474 -> Request to files/upload_session/append\n",
      "2022-12-14 16:44:51,643-[INFO]- dropbox:474 -> Request to files/upload_session/append\n",
      "2022-12-14 16:44:52,841-[INFO]- dropbox:474 -> Request to files/upload_session/finish\n"
     ]
    },
    {
     "data": {
      "application/vnd.jupyter.widget-view+json": {
       "model_id": "6e90e50e46584714ae2a840a2e13625e",
       "version_major": 2,
       "version_minor": 0
      },
      "text/plain": [
       "Uploaded:   0%|          | 0/9497301 [00:00<?, ?it/s]"
      ]
     },
     "metadata": {},
     "output_type": "display_data"
    },
    {
     "name": "stdout",
     "output_type": "stream",
     "text": [
      "2022-12-14 16:44:54,916-[INFO]- dropbox:390 -> Refreshing access token.\n",
      "2022-12-14 16:44:55,166-[INFO]- dropbox:474 -> Request to files/upload_session/start\n",
      "2022-12-14 16:44:56,064-[INFO]- dropbox:474 -> Request to files/upload_session/append\n",
      "2022-12-14 16:44:57,605-[INFO]- dropbox:474 -> Request to files/upload_session/finish\n",
      "2022-12-14 16:44:59,176-[INFO]- dropbox:390 -> Refreshing access token.\n",
      "2022-12-14 16:44:59,632-[INFO]- dropbox:474 -> Request to files/upload\n",
      "2022-12-14 16:45:00,787-[INFO]- dropbox:390 -> Refreshing access token.\n",
      "2022-12-14 16:45:01,038-[INFO]- dropbox:474 -> Request to files/upload\n",
      "2022-12-14 16:45:02,657-[INFO]- dropbox:390 -> Refreshing access token.\n",
      "2022-12-14 16:45:02,908-[INFO]- dropbox:474 -> Request to files/upload\n",
      "2022-12-14 16:45:04,946-[INFO]- dropbox:390 -> Refreshing access token.\n",
      "2022-12-14 16:45:05,211-[INFO]- dropbox:474 -> Request to files/upload\n",
      "2022-12-14 16:45:06,561-[INFO]- dropbox:390 -> Refreshing access token.\n",
      "2022-12-14 16:45:06,880-[INFO]- dropbox:474 -> Request to files/upload\n",
      "2022-12-14 16:45:08,858-[INFO]- dropbox:390 -> Refreshing access token.\n",
      "2022-12-14 16:45:09,158-[INFO]- dropbox:474 -> Request to files/upload\n",
      "2022-12-14 16:45:10,665-[INFO]- dropbox:390 -> Refreshing access token.\n",
      "2022-12-14 16:45:10,914-[INFO]- dropbox:474 -> Request to files/upload\n",
      "2022-12-14 16:45:12,336-[INFO]- dropbox:390 -> Refreshing access token.\n",
      "2022-12-14 16:45:12,573-[INFO]- dropbox:474 -> Request to files/upload\n",
      "2022-12-14 16:45:14,157-[INFO]- dropbox:390 -> Refreshing access token.\n",
      "2022-12-14 16:45:14,393-[INFO]- dropbox:474 -> Request to files/upload\n",
      "2022-12-14 16:45:15,919-[INFO]- dropbox:390 -> Refreshing access token.\n",
      "2022-12-14 16:45:16,149-[INFO]- dropbox:474 -> Request to files/upload\n",
      "2022-12-14 16:45:17,697-[INFO]- dropbox:390 -> Refreshing access token.\n",
      "2022-12-14 16:45:18,086-[INFO]- dropbox:474 -> Request to files/upload\n",
      "2022-12-14 16:45:19,567-[INFO]- dropbox:390 -> Refreshing access token.\n",
      "2022-12-14 16:45:19,828-[INFO]- dropbox:474 -> Request to files/upload\n",
      "2022-12-14 16:45:21,810-[INFO]- dropbox:390 -> Refreshing access token.\n",
      "2022-12-14 16:45:22,067-[INFO]- dropbox:474 -> Request to files/upload\n",
      "2022-12-14 16:45:23,737-[INFO]- dropbox:390 -> Refreshing access token.\n",
      "2022-12-14 16:45:24,070-[INFO]- dropbox:474 -> Request to files/upload\n",
      "2022-12-14 16:45:25,774-[INFO]- dropbox:390 -> Refreshing access token.\n",
      "2022-12-14 16:45:26,030-[INFO]- dropbox:474 -> Request to files/upload\n",
      "2022-12-14 16:45:27,322-[INFO]- dropbox:390 -> Refreshing access token.\n",
      "2022-12-14 16:45:27,666-[INFO]- dropbox:474 -> Request to files/upload\n",
      "2022-12-14 16:45:29,067-[INFO]- dropbox:390 -> Refreshing access token.\n",
      "2022-12-14 16:45:29,329-[INFO]- dropbox:474 -> Request to files/upload\n",
      "2022-12-14 16:45:30,874-[INFO]- dropbox:390 -> Refreshing access token.\n",
      "2022-12-14 16:45:31,114-[INFO]- dropbox:474 -> Request to files/upload\n",
      "2022-12-14 16:45:33,023-[INFO]- dropbox:390 -> Refreshing access token.\n",
      "2022-12-14 16:45:33,267-[INFO]- dropbox:474 -> Request to files/upload\n",
      "2022-12-14 16:45:35,660-[INFO]- dropbox:390 -> Refreshing access token.\n",
      "2022-12-14 16:45:35,909-[INFO]- dropbox:474 -> Request to files/upload\n",
      "2022-12-14 16:45:37,521-[INFO]- dropbox:390 -> Refreshing access token.\n",
      "2022-12-14 16:45:37,753-[INFO]- dropbox:474 -> Request to files/upload\n",
      "2022-12-14 16:45:39,000-[INFO]- dropbox:390 -> Refreshing access token.\n",
      "2022-12-14 16:45:39,234-[INFO]- dropbox:474 -> Request to files/upload\n",
      "2022-12-14 16:45:41,626-[INFO]- dropbox:390 -> Refreshing access token.\n",
      "2022-12-14 16:45:41,887-[INFO]- dropbox:474 -> Request to files/upload\n",
      "2022-12-14 16:45:43,403-[INFO]- dropbox:390 -> Refreshing access token.\n",
      "2022-12-14 16:45:43,667-[INFO]- dropbox:474 -> Request to files/upload\n",
      "2022-12-14 16:45:45,555-[INFO]- dropbox:390 -> Refreshing access token.\n",
      "2022-12-14 16:45:45,809-[INFO]- dropbox:474 -> Request to files/upload\n",
      "2022-12-14 16:45:47,227-[INFO]- dropbox:390 -> Refreshing access token.\n",
      "2022-12-14 16:45:47,480-[INFO]- dropbox:474 -> Request to files/upload\n",
      "2022-12-14 16:45:48,806-[INFO]- dropbox:390 -> Refreshing access token.\n",
      "2022-12-14 16:45:49,056-[INFO]- dropbox:474 -> Request to files/upload\n",
      "2022-12-14 16:45:50,979-[INFO]- dropbox:390 -> Refreshing access token.\n",
      "2022-12-14 16:45:51,223-[INFO]- dropbox:474 -> Request to files/upload\n",
      "2022-12-14 16:45:53,035-[INFO]- dropbox:390 -> Refreshing access token.\n",
      "2022-12-14 16:45:53,352-[INFO]- dropbox:474 -> Request to files/upload\n",
      "2022-12-14 16:45:55,070-[INFO]- dropbox:390 -> Refreshing access token.\n",
      "2022-12-14 16:45:55,305-[INFO]- dropbox:474 -> Request to files/upload\n",
      "2022-12-14 16:45:57,532-[INFO]- dropbox:390 -> Refreshing access token.\n",
      "2022-12-14 16:45:57,967-[INFO]- dropbox:474 -> Request to files/upload\n",
      "2022-12-14 16:45:59,512-[INFO]- dropbox:390 -> Refreshing access token.\n",
      "2022-12-14 16:45:59,749-[INFO]- dropbox:474 -> Request to files/upload\n",
      "2022-12-14 16:46:01,465-[INFO]- dropbox:390 -> Refreshing access token.\n",
      "2022-12-14 16:46:01,708-[INFO]- dropbox:474 -> Request to files/upload\n",
      "2022-12-14 16:46:03,484-[INFO]- dropbox:390 -> Refreshing access token.\n",
      "2022-12-14 16:46:03,776-[INFO]- dropbox:474 -> Request to files/upload\n",
      "2022-12-14 16:46:05,364-[INFO]- dropbox:390 -> Refreshing access token.\n",
      "2022-12-14 16:46:05,665-[INFO]- dropbox:474 -> Request to files/upload\n",
      "2022-12-14 16:46:07,100-[INFO]- dropbox:390 -> Refreshing access token.\n",
      "2022-12-14 16:46:07,350-[INFO]- dropbox:474 -> Request to files/upload\n",
      "2022-12-14 16:46:09,504-[INFO]- dropbox:390 -> Refreshing access token.\n",
      "2022-12-14 16:46:09,766-[INFO]- dropbox:474 -> Request to files/upload\n",
      "2022-12-14 16:46:11,359-[INFO]- dropbox:390 -> Refreshing access token.\n",
      "2022-12-14 16:46:11,699-[INFO]- dropbox:474 -> Request to files/upload\n",
      "2022-12-14 16:46:13,394-[INFO]- dropbox:390 -> Refreshing access token.\n",
      "2022-12-14 16:46:13,656-[INFO]- dropbox:474 -> Request to files/upload\n",
      "2022-12-14 16:46:14,914-[INFO]- dropbox:390 -> Refreshing access token.\n",
      "2022-12-14 16:46:15,207-[INFO]- dropbox:474 -> Request to files/upload\n",
      "2022-12-14 16:46:16,562-[INFO]- dropbox:390 -> Refreshing access token.\n",
      "2022-12-14 16:46:16,789-[INFO]- dropbox:474 -> Request to files/upload\n",
      "2022-12-14 16:46:18,647-[INFO]- dropbox:390 -> Refreshing access token.\n",
      "2022-12-14 16:46:18,906-[INFO]- dropbox:474 -> Request to files/upload\n",
      "2022-12-14 16:46:20,487-[INFO]- dropbox:390 -> Refreshing access token.\n",
      "2022-12-14 16:46:20,732-[INFO]- dropbox:474 -> Request to files/upload\n",
      "2022-12-14 16:46:22,265-[INFO]- dropbox:390 -> Refreshing access token.\n",
      "2022-12-14 16:46:22,561-[INFO]- dropbox:474 -> Request to files/upload\n",
      "2022-12-14 16:46:25,111-[INFO]- dropbox:390 -> Refreshing access token.\n",
      "2022-12-14 16:46:25,424-[INFO]- dropbox:474 -> Request to files/upload\n",
      "2022-12-14 16:46:27,054-[INFO]- dropbox:390 -> Refreshing access token.\n",
      "2022-12-14 16:46:27,313-[INFO]- dropbox:474 -> Request to files/upload\n",
      "2022-12-14 16:46:29,102-[INFO]- dropbox:390 -> Refreshing access token.\n",
      "2022-12-14 16:46:29,339-[INFO]- dropbox:474 -> Request to files/upload\n",
      "2022-12-14 16:46:30,860-[INFO]- dropbox:390 -> Refreshing access token.\n",
      "2022-12-14 16:46:31,147-[INFO]- dropbox:474 -> Request to files/upload\n",
      "2022-12-14 16:46:32,800-[INFO]- dropbox:390 -> Refreshing access token.\n",
      "2022-12-14 16:46:33,173-[INFO]- dropbox:474 -> Request to files/upload\n",
      "2022-12-14 16:46:34,575-[INFO]- dropbox:390 -> Refreshing access token.\n",
      "2022-12-14 16:46:34,805-[INFO]- dropbox:474 -> Request to files/upload\n",
      "2022-12-14 16:46:36,828-[INFO]- dropbox:390 -> Refreshing access token.\n",
      "2022-12-14 16:46:37,309-[INFO]- dropbox:474 -> Request to files/upload\n",
      "2022-12-14 16:46:39,242-[INFO]- dropbox:390 -> Refreshing access token.\n",
      "2022-12-14 16:46:39,484-[INFO]- dropbox:474 -> Request to files/upload\n",
      "2022-12-14 16:46:40,869-[INFO]- dropbox:390 -> Refreshing access token.\n",
      "2022-12-14 16:46:41,153-[INFO]- dropbox:474 -> Request to files/upload\n",
      "2022-12-14 16:46:42,537-[INFO]- dropbox:390 -> Refreshing access token.\n",
      "2022-12-14 16:46:42,784-[INFO]- dropbox:474 -> Request to files/upload\n",
      "2022-12-14 16:46:44,163-[INFO]- dropbox:390 -> Refreshing access token.\n",
      "2022-12-14 16:46:44,405-[INFO]- dropbox:474 -> Request to files/upload\n",
      "2022-12-14 16:46:46,731-[INFO]- dropbox:390 -> Refreshing access token.\n",
      "2022-12-14 16:46:46,972-[INFO]- dropbox:474 -> Request to files/upload\n",
      "2022-12-14 16:46:48,633-[INFO]- dropbox:390 -> Refreshing access token.\n",
      "2022-12-14 16:46:48,884-[INFO]- dropbox:474 -> Request to files/upload\n",
      "2022-12-14 16:46:51,318-[INFO]- dropbox:390 -> Refreshing access token.\n",
      "2022-12-14 16:46:51,627-[INFO]- dropbox:474 -> Request to files/upload\n",
      "2022-12-14 16:46:53,396-[INFO]- dropbox:390 -> Refreshing access token.\n",
      "2022-12-14 16:46:53,647-[INFO]- dropbox:474 -> Request to files/upload\n",
      "2022-12-14 16:46:55,398-[INFO]- dropbox:390 -> Refreshing access token.\n",
      "2022-12-14 16:46:55,679-[INFO]- dropbox:474 -> Request to files/upload\n",
      "2022-12-14 16:46:56,881-[INFO]- dropbox:390 -> Refreshing access token.\n",
      "2022-12-14 16:46:57,131-[INFO]- dropbox:474 -> Request to files/upload\n",
      "2022-12-14 16:46:58,808-[INFO]- dropbox:390 -> Refreshing access token.\n",
      "2022-12-14 16:46:59,050-[INFO]- dropbox:474 -> Request to files/upload\n",
      "2022-12-14 16:47:00,460-[INFO]- dropbox:390 -> Refreshing access token.\n",
      "2022-12-14 16:47:00,705-[INFO]- dropbox:474 -> Request to files/upload\n",
      "2022-12-14 16:47:02,025-[INFO]- dropbox:390 -> Refreshing access token.\n",
      "2022-12-14 16:47:02,264-[INFO]- dropbox:474 -> Request to files/upload\n",
      "2022-12-14 16:47:03,826-[INFO]- dropbox:390 -> Refreshing access token.\n",
      "2022-12-14 16:47:04,151-[INFO]- dropbox:474 -> Request to files/upload\n",
      "2022-12-14 16:47:05,547-[INFO]- dropbox:390 -> Refreshing access token.\n",
      "2022-12-14 16:47:05,789-[INFO]- dropbox:474 -> Request to files/upload\n",
      "2022-12-14 16:47:07,870-[INFO]- dropbox:390 -> Refreshing access token.\n",
      "2022-12-14 16:47:08,115-[INFO]- dropbox:474 -> Request to files/upload\n",
      "2022-12-14 16:47:13,329-[INFO]- dropbox:390 -> Refreshing access token.\n",
      "2022-12-14 16:47:13,581-[INFO]- dropbox:474 -> Request to files/upload\n",
      "2022-12-14 16:47:15,514-[INFO]- dropbox:390 -> Refreshing access token.\n",
      "2022-12-14 16:47:15,809-[INFO]- dropbox:474 -> Request to files/upload\n",
      "2022-12-14 16:47:17,440-[INFO]- dropbox:390 -> Refreshing access token.\n",
      "2022-12-14 16:47:17,747-[INFO]- dropbox:474 -> Request to files/upload\n",
      "2022-12-14 16:47:19,039-[INFO]- dropbox:390 -> Refreshing access token.\n",
      "2022-12-14 16:47:19,280-[INFO]- dropbox:474 -> Request to files/upload\n",
      "2022-12-14 16:47:21,096-[INFO]- dropbox:390 -> Refreshing access token.\n",
      "2022-12-14 16:47:21,402-[INFO]- dropbox:474 -> Request to files/upload\n",
      "2022-12-14 16:47:23,494-[INFO]- dropbox:390 -> Refreshing access token.\n",
      "2022-12-14 16:47:23,736-[INFO]- dropbox:474 -> Request to files/upload\n",
      "2022-12-14 16:47:25,841-[INFO]- dropbox:390 -> Refreshing access token.\n",
      "2022-12-14 16:47:26,142-[INFO]- dropbox:474 -> Request to files/upload\n",
      "2022-12-14 16:47:27,671-[INFO]- dropbox:390 -> Refreshing access token.\n",
      "2022-12-14 16:47:27,931-[INFO]- dropbox:474 -> Request to files/upload\n",
      "2022-12-14 16:47:29,510-[INFO]- dropbox:390 -> Refreshing access token.\n",
      "2022-12-14 16:47:29,751-[INFO]- dropbox:474 -> Request to files/upload\n",
      "2022-12-14 16:47:31,393-[INFO]- dropbox:390 -> Refreshing access token.\n",
      "2022-12-14 16:47:31,804-[INFO]- dropbox:474 -> Request to files/upload\n",
      "2022-12-14 16:47:33,662-[INFO]- dropbox:390 -> Refreshing access token.\n",
      "2022-12-14 16:47:33,884-[INFO]- dropbox:474 -> Request to files/upload\n",
      "2022-12-14 16:47:35,498-[INFO]- dropbox:390 -> Refreshing access token.\n",
      "2022-12-14 16:47:35,740-[INFO]- dropbox:474 -> Request to files/upload\n",
      "2022-12-14 16:47:37,271-[INFO]- dropbox:390 -> Refreshing access token.\n",
      "2022-12-14 16:47:37,502-[INFO]- dropbox:474 -> Request to files/upload\n",
      "2022-12-14 16:47:38,929-[INFO]- dropbox:390 -> Refreshing access token.\n",
      "2022-12-14 16:47:39,184-[INFO]- dropbox:474 -> Request to files/upload\n",
      "2022-12-14 16:47:40,749-[INFO]- dropbox:390 -> Refreshing access token.\n",
      "2022-12-14 16:47:41,088-[INFO]- dropbox:474 -> Request to files/upload\n",
      "2022-12-14 16:47:42,429-[INFO]- dropbox:390 -> Refreshing access token.\n",
      "2022-12-14 16:47:42,702-[INFO]- dropbox:474 -> Request to files/upload\n",
      "2022-12-14 16:47:43,901-[INFO]- dropbox:390 -> Refreshing access token.\n",
      "2022-12-14 16:47:44,177-[INFO]- dropbox:474 -> Request to files/upload\n",
      "2022-12-14 16:47:45,625-[INFO]- dropbox:390 -> Refreshing access token.\n",
      "2022-12-14 16:47:45,918-[INFO]- dropbox:474 -> Request to files/upload\n",
      "2022-12-14 16:47:47,775-[INFO]- dropbox:390 -> Refreshing access token.\n",
      "2022-12-14 16:47:48,024-[INFO]- dropbox:474 -> Request to files/upload\n",
      "2022-12-14 16:47:49,988-[INFO]- dropbox:390 -> Refreshing access token.\n",
      "2022-12-14 16:47:50,218-[INFO]- dropbox:474 -> Request to files/upload\n",
      "2022-12-14 16:47:52,206-[INFO]- dropbox:390 -> Refreshing access token.\n",
      "2022-12-14 16:47:52,468-[INFO]- dropbox:474 -> Request to files/upload\n",
      "2022-12-14 16:47:56,896-[INFO]- dropbox:390 -> Refreshing access token.\n",
      "2022-12-14 16:47:57,151-[INFO]- dropbox:474 -> Request to files/upload\n",
      "2022-12-14 16:47:58,793-[INFO]- dropbox:390 -> Refreshing access token.\n",
      "2022-12-14 16:47:59,038-[INFO]- dropbox:474 -> Request to files/upload\n",
      "2022-12-14 16:48:01,260-[INFO]- dropbox:390 -> Refreshing access token.\n",
      "2022-12-14 16:48:01,515-[INFO]- dropbox:474 -> Request to files/upload\n",
      "2022-12-14 16:48:03,466-[INFO]- dropbox:390 -> Refreshing access token.\n",
      "2022-12-14 16:48:03,704-[INFO]- dropbox:474 -> Request to files/upload\n",
      "2022-12-14 16:48:05,454-[INFO]- dropbox:390 -> Refreshing access token.\n",
      "2022-12-14 16:48:05,703-[INFO]- dropbox:474 -> Request to files/upload\n",
      "2022-12-14 16:48:07,591-[INFO]- dropbox:390 -> Refreshing access token.\n",
      "2022-12-14 16:48:07,834-[INFO]- dropbox:474 -> Request to files/upload\n",
      "2022-12-14 16:48:10,010-[INFO]- dropbox:390 -> Refreshing access token.\n",
      "2022-12-14 16:48:10,258-[INFO]- dropbox:474 -> Request to files/upload\n",
      "2022-12-14 16:48:11,803-[INFO]- dropbox:390 -> Refreshing access token.\n",
      "2022-12-14 16:48:12,040-[INFO]- dropbox:474 -> Request to files/upload\n",
      "2022-12-14 16:48:13,425-[INFO]- dropbox:390 -> Refreshing access token.\n",
      "2022-12-14 16:48:13,710-[INFO]- dropbox:474 -> Request to files/upload\n",
      "2022-12-14 16:48:15,070-[INFO]- dropbox:390 -> Refreshing access token.\n",
      "2022-12-14 16:48:15,298-[INFO]- dropbox:474 -> Request to files/upload\n",
      "2022-12-14 16:48:17,182-[INFO]- dropbox:390 -> Refreshing access token.\n",
      "2022-12-14 16:48:17,434-[INFO]- dropbox:474 -> Request to files/upload\n",
      "2022-12-14 16:48:18,629-[INFO]- dropbox:390 -> Refreshing access token.\n",
      "2022-12-14 16:48:18,867-[INFO]- dropbox:474 -> Request to files/upload\n",
      "2022-12-14 16:48:20,320-[INFO]- dropbox:390 -> Refreshing access token.\n",
      "2022-12-14 16:48:20,589-[INFO]- dropbox:474 -> Request to files/upload\n",
      "2022-12-14 16:48:22,425-[INFO]- dropbox:390 -> Refreshing access token.\n",
      "2022-12-14 16:48:22,685-[INFO]- dropbox:474 -> Request to files/upload\n",
      "2022-12-14 16:48:24,475-[INFO]- dropbox:390 -> Refreshing access token.\n",
      "2022-12-14 16:48:24,730-[INFO]- dropbox:474 -> Request to files/upload\n",
      "2022-12-14 16:48:26,217-[INFO]- dropbox:390 -> Refreshing access token.\n",
      "2022-12-14 16:48:26,504-[INFO]- dropbox:474 -> Request to files/upload\n",
      "2022-12-14 16:48:27,804-[INFO]- dropbox:390 -> Refreshing access token.\n",
      "2022-12-14 16:48:28,081-[INFO]- dropbox:474 -> Request to files/upload\n",
      "2022-12-14 16:48:29,671-[INFO]- dropbox:390 -> Refreshing access token.\n",
      "2022-12-14 16:48:29,913-[INFO]- dropbox:474 -> Request to files/upload\n",
      "2022-12-14 16:48:31,757-[INFO]- dropbox:390 -> Refreshing access token.\n",
      "2022-12-14 16:48:32,013-[INFO]- dropbox:474 -> Request to files/upload\n",
      "2022-12-14 16:48:33,692-[INFO]- dropbox:390 -> Refreshing access token.\n",
      "2022-12-14 16:48:33,954-[INFO]- dropbox:474 -> Request to files/upload\n",
      "2022-12-14 16:48:36,090-[INFO]- dropbox:390 -> Refreshing access token.\n",
      "2022-12-14 16:48:36,320-[INFO]- dropbox:474 -> Request to files/upload\n",
      "2022-12-14 16:48:38,172-[INFO]- dropbox:390 -> Refreshing access token.\n",
      "2022-12-14 16:48:38,421-[INFO]- dropbox:474 -> Request to files/upload\n",
      "2022-12-14 16:48:40,153-[INFO]- dropbox:390 -> Refreshing access token.\n",
      "2022-12-14 16:48:40,396-[INFO]- dropbox:474 -> Request to files/upload\n",
      "2022-12-14 16:48:43,614-[INFO]- dropbox:390 -> Refreshing access token.\n",
      "2022-12-14 16:48:43,843-[INFO]- dropbox:474 -> Request to files/upload\n",
      "2022-12-14 16:48:45,261-[INFO]- dropbox:390 -> Refreshing access token.\n",
      "2022-12-14 16:48:45,546-[INFO]- dropbox:474 -> Request to files/upload\n",
      "2022-12-14 16:48:47,236-[INFO]- dropbox:390 -> Refreshing access token.\n",
      "2022-12-14 16:48:47,476-[INFO]- dropbox:474 -> Request to files/upload\n",
      "2022-12-14 16:48:49,067-[INFO]- dropbox:390 -> Refreshing access token.\n",
      "2022-12-14 16:48:49,314-[INFO]- dropbox:474 -> Request to files/upload\n",
      "2022-12-14 16:48:50,803-[INFO]- dropbox:390 -> Refreshing access token.\n",
      "2022-12-14 16:48:51,055-[INFO]- dropbox:474 -> Request to files/upload\n",
      "DATA/PRINCE\n",
      "2022-12-14 16:48:52,500-[INFO]- dropbox:390 -> Refreshing access token.\n",
      "2022-12-14 16:48:52,729-[INFO]- dropbox:474 -> Request to files/upload\n",
      "2022-12-14 16:48:54,414-[INFO]- dropbox:390 -> Refreshing access token.\n",
      "2022-12-14 16:48:54,657-[INFO]- dropbox:474 -> Request to files/upload\n",
      "2022-12-14 16:48:55,961-[INFO]- dropbox:390 -> Refreshing access token.\n",
      "2022-12-14 16:48:56,297-[INFO]- dropbox:474 -> Request to files/upload\n"
     ]
    },
    {
     "data": {
      "application/vnd.jupyter.widget-view+json": {
       "model_id": "dd9100a30e7c4074afb365ba67e872c2",
       "version_major": 2,
       "version_minor": 0
      },
      "text/plain": [
       "Uploaded:   0%|          | 0/68200392 [00:00<?, ?it/s]"
      ]
     },
     "metadata": {},
     "output_type": "display_data"
    },
    {
     "name": "stdout",
     "output_type": "stream",
     "text": [
      "2022-12-14 16:48:57,867-[INFO]- dropbox:390 -> Refreshing access token.\n",
      "2022-12-14 16:48:58,114-[INFO]- dropbox:474 -> Request to files/upload_session/start\n",
      "2022-12-14 16:48:59,638-[INFO]- dropbox:474 -> Request to files/upload_session/append\n",
      "2022-12-14 16:49:01,135-[INFO]- dropbox:474 -> Request to files/upload_session/append\n",
      "2022-12-14 16:49:02,977-[INFO]- dropbox:474 -> Request to files/upload_session/append\n",
      "2022-12-14 16:49:04,585-[INFO]- dropbox:474 -> Request to files/upload_session/append\n",
      "2022-12-14 16:49:05,869-[INFO]- dropbox:474 -> Request to files/upload_session/append\n",
      "2022-12-14 16:49:06,972-[INFO]- dropbox:474 -> Request to files/upload_session/append\n",
      "2022-12-14 16:49:08,170-[INFO]- dropbox:474 -> Request to files/upload_session/append\n",
      "2022-12-14 16:49:09,267-[INFO]- dropbox:474 -> Request to files/upload_session/append\n",
      "2022-12-14 16:49:10,465-[INFO]- dropbox:474 -> Request to files/upload_session/append\n",
      "2022-12-14 16:49:11,585-[INFO]- dropbox:474 -> Request to files/upload_session/append\n",
      "2022-12-14 16:49:12,864-[INFO]- dropbox:474 -> Request to files/upload_session/append\n",
      "2022-12-14 16:49:14,103-[INFO]- dropbox:474 -> Request to files/upload_session/append\n",
      "2022-12-14 16:49:15,124-[INFO]- dropbox:474 -> Request to files/upload_session/append\n",
      "2022-12-14 16:49:16,383-[INFO]- dropbox:474 -> Request to files/upload_session/append\n",
      "2022-12-14 16:49:17,526-[INFO]- dropbox:474 -> Request to files/upload_session/append\n",
      "2022-12-14 16:49:18,631-[INFO]- dropbox:474 -> Request to files/upload_session/finish\n",
      "2022-12-14 16:49:20,430-[INFO]- dropbox:390 -> Refreshing access token.\n",
      "2022-12-14 16:49:20,744-[INFO]- dropbox:474 -> Request to files/upload\n"
     ]
    },
    {
     "data": {
      "application/vnd.jupyter.widget-view+json": {
       "model_id": "4b56fc889851496cbbe8f83c746fdd2f",
       "version_major": 2,
       "version_minor": 0
      },
      "text/plain": [
       "Uploaded:   0%|          | 0/6921621 [00:00<?, ?it/s]"
      ]
     },
     "metadata": {},
     "output_type": "display_data"
    },
    {
     "name": "stdout",
     "output_type": "stream",
     "text": [
      "2022-12-14 16:49:22,015-[INFO]- dropbox:390 -> Refreshing access token.\n",
      "2022-12-14 16:49:22,250-[INFO]- dropbox:474 -> Request to files/upload_session/start\n",
      "2022-12-14 16:49:23,080-[INFO]- dropbox:474 -> Request to files/upload_session/finish\n",
      "2022-12-14 16:49:24,955-[INFO]- dropbox:390 -> Refreshing access token.\n",
      "2022-12-14 16:49:25,247-[INFO]- dropbox:474 -> Request to files/upload\n",
      "2022-12-14 16:49:27,040-[INFO]- dropbox:390 -> Refreshing access token.\n",
      "2022-12-14 16:49:27,287-[INFO]- dropbox:474 -> Request to files/upload\n",
      "2022-12-14 16:49:29,111-[INFO]- dropbox:390 -> Refreshing access token.\n",
      "2022-12-14 16:49:29,345-[INFO]- dropbox:474 -> Request to files/upload\n",
      "2022-12-14 16:49:31,108-[INFO]- dropbox:390 -> Refreshing access token.\n",
      "2022-12-14 16:49:31,360-[INFO]- dropbox:474 -> Request to files/upload\n",
      "2022-12-14 16:49:32,699-[INFO]- dropbox:390 -> Refreshing access token.\n",
      "2022-12-14 16:49:32,924-[INFO]- dropbox:474 -> Request to files/upload\n",
      "2022-12-14 16:49:34,347-[INFO]- dropbox:390 -> Refreshing access token.\n",
      "2022-12-14 16:49:34,841-[INFO]- dropbox:474 -> Request to files/upload\n",
      "2022-12-14 16:49:36,106-[INFO]- dropbox:390 -> Refreshing access token.\n",
      "2022-12-14 16:49:36,348-[INFO]- dropbox:474 -> Request to files/upload\n",
      "2022-12-14 16:49:38,265-[INFO]- dropbox:390 -> Refreshing access token.\n",
      "2022-12-14 16:49:38,575-[INFO]- dropbox:474 -> Request to files/upload\n",
      "2022-12-14 16:49:40,026-[INFO]- dropbox:390 -> Refreshing access token.\n",
      "2022-12-14 16:49:40,305-[INFO]- dropbox:474 -> Request to files/upload\n",
      "2022-12-14 16:49:41,800-[INFO]- dropbox:390 -> Refreshing access token.\n",
      "2022-12-14 16:49:42,038-[INFO]- dropbox:474 -> Request to files/upload\n",
      "2022-12-14 16:49:43,417-[INFO]- dropbox:390 -> Refreshing access token.\n",
      "2022-12-14 16:49:43,690-[INFO]- dropbox:474 -> Request to files/upload\n",
      "2022-12-14 16:49:45,201-[INFO]- dropbox:390 -> Refreshing access token.\n",
      "2022-12-14 16:49:45,466-[INFO]- dropbox:474 -> Request to files/upload\n",
      "2022-12-14 16:49:47,581-[INFO]- dropbox:390 -> Refreshing access token.\n",
      "2022-12-14 16:49:47,821-[INFO]- dropbox:474 -> Request to files/upload\n",
      "2022-12-14 16:49:49,642-[INFO]- dropbox:390 -> Refreshing access token.\n",
      "2022-12-14 16:49:49,870-[INFO]- dropbox:474 -> Request to files/upload\n",
      "2022-12-14 16:49:51,386-[INFO]- dropbox:390 -> Refreshing access token.\n",
      "2022-12-14 16:49:51,644-[INFO]- dropbox:474 -> Request to files/upload\n",
      "2022-12-14 16:49:53,096-[INFO]- dropbox:390 -> Refreshing access token.\n",
      "2022-12-14 16:49:53,356-[INFO]- dropbox:474 -> Request to files/upload\n",
      "2022-12-14 16:49:55,013-[INFO]- dropbox:390 -> Refreshing access token.\n",
      "2022-12-14 16:49:55,353-[INFO]- dropbox:474 -> Request to files/upload\n",
      "2022-12-14 16:49:56,951-[INFO]- dropbox:390 -> Refreshing access token.\n",
      "2022-12-14 16:49:57,195-[INFO]- dropbox:474 -> Request to files/upload\n",
      "2022-12-14 16:49:59,033-[INFO]- dropbox:390 -> Refreshing access token.\n",
      "2022-12-14 16:49:59,267-[INFO]- dropbox:474 -> Request to files/upload\n",
      "2022-12-14 16:50:01,081-[INFO]- dropbox:390 -> Refreshing access token.\n",
      "2022-12-14 16:50:01,306-[INFO]- dropbox:474 -> Request to files/upload\n",
      "2022-12-14 16:50:03,527-[INFO]- dropbox:390 -> Refreshing access token.\n",
      "2022-12-14 16:50:03,765-[INFO]- dropbox:474 -> Request to files/upload\n",
      "2022-12-14 16:50:05,864-[INFO]- dropbox:390 -> Refreshing access token.\n",
      "2022-12-14 16:50:06,095-[INFO]- dropbox:474 -> Request to files/upload\n",
      "2022-12-14 16:50:08,027-[INFO]- dropbox:390 -> Refreshing access token.\n",
      "2022-12-14 16:50:08,392-[INFO]- dropbox:474 -> Request to files/upload\n",
      "2022-12-14 16:50:10,798-[INFO]- dropbox:390 -> Refreshing access token.\n",
      "2022-12-14 16:50:11,035-[INFO]- dropbox:474 -> Request to files/upload\n",
      "2022-12-14 16:50:13,027-[INFO]- dropbox:390 -> Refreshing access token.\n",
      "2022-12-14 16:50:13,308-[INFO]- dropbox:474 -> Request to files/upload\n",
      "2022-12-14 16:50:14,952-[INFO]- dropbox:390 -> Refreshing access token.\n",
      "2022-12-14 16:50:15,206-[INFO]- dropbox:474 -> Request to files/upload\n",
      "2022-12-14 16:50:17,483-[INFO]- dropbox:390 -> Refreshing access token.\n",
      "2022-12-14 16:50:17,746-[INFO]- dropbox:474 -> Request to files/upload\n",
      "2022-12-14 16:50:19,142-[INFO]- dropbox:390 -> Refreshing access token.\n",
      "2022-12-14 16:50:19,388-[INFO]- dropbox:474 -> Request to files/upload\n",
      "2022-12-14 16:50:20,741-[INFO]- dropbox:390 -> Refreshing access token.\n",
      "2022-12-14 16:50:20,994-[INFO]- dropbox:474 -> Request to files/upload\n",
      "2022-12-14 16:50:23,284-[INFO]- dropbox:390 -> Refreshing access token.\n",
      "2022-12-14 16:50:23,545-[INFO]- dropbox:474 -> Request to files/upload\n",
      "2022-12-14 16:50:24,951-[INFO]- dropbox:390 -> Refreshing access token.\n",
      "2022-12-14 16:50:25,189-[INFO]- dropbox:474 -> Request to files/upload\n",
      "2022-12-14 16:50:27,605-[INFO]- dropbox:390 -> Refreshing access token.\n",
      "2022-12-14 16:50:27,845-[INFO]- dropbox:474 -> Request to files/upload\n",
      "2022-12-14 16:50:29,373-[INFO]- dropbox:390 -> Refreshing access token.\n",
      "2022-12-14 16:50:29,651-[INFO]- dropbox:474 -> Request to files/upload\n",
      "2022-12-14 16:50:31,432-[INFO]- dropbox:390 -> Refreshing access token.\n",
      "2022-12-14 16:50:31,702-[INFO]- dropbox:474 -> Request to files/upload\n",
      "2022-12-14 16:50:33,785-[INFO]- dropbox:390 -> Refreshing access token.\n",
      "2022-12-14 16:50:34,025-[INFO]- dropbox:474 -> Request to files/upload\n",
      "2022-12-14 16:50:35,396-[INFO]- dropbox:390 -> Refreshing access token.\n",
      "2022-12-14 16:50:35,683-[INFO]- dropbox:474 -> Request to files/upload\n",
      "2022-12-14 16:50:37,060-[INFO]- dropbox:390 -> Refreshing access token.\n",
      "2022-12-14 16:50:37,317-[INFO]- dropbox:474 -> Request to files/upload\n",
      "2022-12-14 16:50:38,752-[INFO]- dropbox:390 -> Refreshing access token.\n",
      "2022-12-14 16:50:39,017-[INFO]- dropbox:474 -> Request to files/upload\n",
      "2022-12-14 16:50:40,400-[INFO]- dropbox:390 -> Refreshing access token.\n",
      "2022-12-14 16:50:40,676-[INFO]- dropbox:474 -> Request to files/upload\n",
      "2022-12-14 16:50:42,722-[INFO]- dropbox:390 -> Refreshing access token.\n",
      "2022-12-14 16:50:42,962-[INFO]- dropbox:474 -> Request to files/upload\n",
      "2022-12-14 16:50:44,596-[INFO]- dropbox:390 -> Refreshing access token.\n",
      "2022-12-14 16:50:44,855-[INFO]- dropbox:474 -> Request to files/upload\n",
      "2022-12-14 16:50:46,292-[INFO]- dropbox:390 -> Refreshing access token.\n",
      "2022-12-14 16:50:46,546-[INFO]- dropbox:474 -> Request to files/upload\n",
      "2022-12-14 16:50:48,413-[INFO]- dropbox:390 -> Refreshing access token.\n",
      "2022-12-14 16:50:48,637-[INFO]- dropbox:474 -> Request to files/upload\n",
      "2022-12-14 16:50:50,423-[INFO]- dropbox:390 -> Refreshing access token.\n",
      "2022-12-14 16:50:50,671-[INFO]- dropbox:474 -> Request to files/upload\n",
      "2022-12-14 16:50:52,598-[INFO]- dropbox:390 -> Refreshing access token.\n",
      "2022-12-14 16:50:52,847-[INFO]- dropbox:474 -> Request to files/upload\n",
      "2022-12-14 16:50:54,511-[INFO]- dropbox:390 -> Refreshing access token.\n",
      "2022-12-14 16:50:54,770-[INFO]- dropbox:474 -> Request to files/upload\n",
      "2022-12-14 16:50:56,441-[INFO]- dropbox:390 -> Refreshing access token.\n",
      "2022-12-14 16:50:56,666-[INFO]- dropbox:474 -> Request to files/upload\n",
      "2022-12-14 16:50:58,020-[INFO]- dropbox:390 -> Refreshing access token.\n",
      "2022-12-14 16:50:58,272-[INFO]- dropbox:474 -> Request to files/upload\n",
      "2022-12-14 16:50:59,691-[INFO]- dropbox:390 -> Refreshing access token.\n",
      "2022-12-14 16:50:59,947-[INFO]- dropbox:474 -> Request to files/upload\n",
      "2022-12-14 16:51:02,803-[INFO]- dropbox:390 -> Refreshing access token.\n",
      "2022-12-14 16:51:03,049-[INFO]- dropbox:474 -> Request to files/upload\n",
      "2022-12-14 16:51:05,525-[INFO]- dropbox:390 -> Refreshing access token.\n",
      "2022-12-14 16:51:05,761-[INFO]- dropbox:474 -> Request to files/upload\n",
      "2022-12-14 16:51:07,185-[INFO]- dropbox:390 -> Refreshing access token.\n",
      "2022-12-14 16:51:07,416-[INFO]- dropbox:474 -> Request to files/upload\n",
      "2022-12-14 16:51:09,160-[INFO]- dropbox:390 -> Refreshing access token.\n",
      "2022-12-14 16:51:09,446-[INFO]- dropbox:474 -> Request to files/upload\n",
      "2022-12-14 16:51:11,178-[INFO]- dropbox:390 -> Refreshing access token.\n",
      "2022-12-14 16:51:11,427-[INFO]- dropbox:474 -> Request to files/upload\n",
      "2022-12-14 16:51:13,318-[INFO]- dropbox:390 -> Refreshing access token.\n",
      "2022-12-14 16:51:13,596-[INFO]- dropbox:474 -> Request to files/upload\n",
      "2022-12-14 16:51:15,300-[INFO]- dropbox:390 -> Refreshing access token.\n",
      "2022-12-14 16:51:15,532-[INFO]- dropbox:474 -> Request to files/upload\n",
      "2022-12-14 16:51:17,130-[INFO]- dropbox:390 -> Refreshing access token.\n",
      "2022-12-14 16:51:17,386-[INFO]- dropbox:474 -> Request to files/upload\n",
      "2022-12-14 16:51:19,027-[INFO]- dropbox:390 -> Refreshing access token.\n",
      "2022-12-14 16:51:19,283-[INFO]- dropbox:474 -> Request to files/upload\n",
      "2022-12-14 16:51:21,003-[INFO]- dropbox:390 -> Refreshing access token.\n",
      "2022-12-14 16:51:21,263-[INFO]- dropbox:474 -> Request to files/upload\n",
      "2022-12-14 16:51:23,251-[INFO]- dropbox:390 -> Refreshing access token.\n",
      "2022-12-14 16:51:23,514-[INFO]- dropbox:474 -> Request to files/upload\n",
      "2022-12-14 16:51:25,748-[INFO]- dropbox:390 -> Refreshing access token.\n",
      "2022-12-14 16:51:26,003-[INFO]- dropbox:474 -> Request to files/upload\n",
      "2022-12-14 16:51:27,772-[INFO]- dropbox:390 -> Refreshing access token.\n",
      "2022-12-14 16:51:28,034-[INFO]- dropbox:474 -> Request to files/upload\n",
      "2022-12-14 16:51:29,899-[INFO]- dropbox:390 -> Refreshing access token.\n",
      "2022-12-14 16:51:30,128-[INFO]- dropbox:474 -> Request to files/upload\n",
      "2022-12-14 16:51:31,672-[INFO]- dropbox:390 -> Refreshing access token.\n",
      "2022-12-14 16:51:31,969-[INFO]- dropbox:474 -> Request to files/upload\n",
      "2022-12-14 16:51:33,746-[INFO]- dropbox:390 -> Refreshing access token.\n",
      "2022-12-14 16:51:34,011-[INFO]- dropbox:474 -> Request to files/upload\n",
      "2022-12-14 16:51:36,628-[INFO]- dropbox:390 -> Refreshing access token.\n",
      "2022-12-14 16:51:36,886-[INFO]- dropbox:474 -> Request to files/upload\n",
      "2022-12-14 16:51:38,532-[INFO]- dropbox:390 -> Refreshing access token.\n",
      "2022-12-14 16:51:38,781-[INFO]- dropbox:474 -> Request to files/upload\n",
      "2022-12-14 16:51:40,230-[INFO]- dropbox:390 -> Refreshing access token.\n",
      "2022-12-14 16:51:40,490-[INFO]- dropbox:474 -> Request to files/upload\n",
      "2022-12-14 16:51:42,150-[INFO]- dropbox:390 -> Refreshing access token.\n",
      "2022-12-14 16:51:42,382-[INFO]- dropbox:474 -> Request to files/upload\n",
      "2022-12-14 16:51:43,798-[INFO]- dropbox:390 -> Refreshing access token.\n",
      "2022-12-14 16:51:44,056-[INFO]- dropbox:474 -> Request to files/upload\n",
      "2022-12-14 16:51:46,130-[INFO]- dropbox:390 -> Refreshing access token.\n",
      "2022-12-14 16:51:46,369-[INFO]- dropbox:474 -> Request to files/upload\n",
      "2022-12-14 16:51:47,824-[INFO]- dropbox:390 -> Refreshing access token.\n",
      "2022-12-14 16:51:48,084-[INFO]- dropbox:474 -> Request to files/upload\n",
      "2022-12-14 16:51:50,371-[INFO]- dropbox:390 -> Refreshing access token.\n",
      "2022-12-14 16:51:50,646-[INFO]- dropbox:474 -> Request to files/upload\n",
      "2022-12-14 16:51:52,107-[INFO]- dropbox:390 -> Refreshing access token.\n",
      "2022-12-14 16:51:52,376-[INFO]- dropbox:474 -> Request to files/upload\n",
      "2022-12-14 16:51:54,382-[INFO]- dropbox:390 -> Refreshing access token.\n",
      "2022-12-14 16:51:54,616-[INFO]- dropbox:474 -> Request to files/upload\n",
      "2022-12-14 16:51:56,416-[INFO]- dropbox:390 -> Refreshing access token.\n",
      "2022-12-14 16:51:56,671-[INFO]- dropbox:474 -> Request to files/upload\n",
      "2022-12-14 16:51:58,952-[INFO]- dropbox:390 -> Refreshing access token.\n",
      "2022-12-14 16:51:59,184-[INFO]- dropbox:474 -> Request to files/upload\n",
      "2022-12-14 16:52:01,604-[INFO]- dropbox:390 -> Refreshing access token.\n",
      "2022-12-14 16:52:01,863-[INFO]- dropbox:474 -> Request to files/upload\n",
      "2022-12-14 16:52:03,589-[INFO]- dropbox:390 -> Refreshing access token.\n",
      "2022-12-14 16:52:03,882-[INFO]- dropbox:474 -> Request to files/upload\n",
      "2022-12-14 16:52:05,542-[INFO]- dropbox:390 -> Refreshing access token.\n",
      "2022-12-14 16:52:05,788-[INFO]- dropbox:474 -> Request to files/upload\n",
      "2022-12-14 16:52:07,674-[INFO]- dropbox:390 -> Refreshing access token.\n",
      "2022-12-14 16:52:07,911-[INFO]- dropbox:474 -> Request to files/upload\n",
      "2022-12-14 16:52:10,476-[INFO]- dropbox:390 -> Refreshing access token.\n",
      "2022-12-14 16:52:10,777-[INFO]- dropbox:474 -> Request to files/upload\n",
      "2022-12-14 16:52:12,562-[INFO]- dropbox:390 -> Refreshing access token.\n",
      "2022-12-14 16:52:12,814-[INFO]- dropbox:474 -> Request to files/upload\n",
      "2022-12-14 16:52:14,565-[INFO]- dropbox:390 -> Refreshing access token.\n",
      "2022-12-14 16:52:14,874-[INFO]- dropbox:474 -> Request to files/upload\n",
      "2022-12-14 16:52:16,664-[INFO]- dropbox:390 -> Refreshing access token.\n",
      "2022-12-14 16:52:16,920-[INFO]- dropbox:474 -> Request to files/upload\n",
      "2022-12-14 16:52:18,483-[INFO]- dropbox:390 -> Refreshing access token.\n",
      "2022-12-14 16:52:18,769-[INFO]- dropbox:474 -> Request to files/upload\n",
      "2022-12-14 16:52:20,579-[INFO]- dropbox:390 -> Refreshing access token.\n",
      "2022-12-14 16:52:21,274-[INFO]- dropbox:474 -> Request to files/upload\n",
      "2022-12-14 16:52:23,130-[INFO]- dropbox:390 -> Refreshing access token.\n",
      "2022-12-14 16:52:23,413-[INFO]- dropbox:474 -> Request to files/upload\n",
      "2022-12-14 16:52:24,887-[INFO]- dropbox:390 -> Refreshing access token.\n",
      "2022-12-14 16:52:25,115-[INFO]- dropbox:474 -> Request to files/upload\n",
      "2022-12-14 16:52:26,786-[INFO]- dropbox:390 -> Refreshing access token.\n",
      "2022-12-14 16:52:27,013-[INFO]- dropbox:474 -> Request to files/upload\n",
      "2022-12-14 16:52:29,337-[INFO]- dropbox:390 -> Refreshing access token.\n",
      "2022-12-14 16:52:29,586-[INFO]- dropbox:474 -> Request to files/upload\n",
      "2022-12-14 16:52:32,026-[INFO]- dropbox:390 -> Refreshing access token.\n",
      "2022-12-14 16:52:32,261-[INFO]- dropbox:474 -> Request to files/upload\n",
      "2022-12-14 16:52:33,857-[INFO]- dropbox:390 -> Refreshing access token.\n",
      "2022-12-14 16:52:34,207-[INFO]- dropbox:474 -> Request to files/upload\n",
      "2022-12-14 16:52:35,873-[INFO]- dropbox:390 -> Refreshing access token.\n",
      "2022-12-14 16:52:36,162-[INFO]- dropbox:474 -> Request to files/upload\n",
      "2022-12-14 16:52:37,676-[INFO]- dropbox:390 -> Refreshing access token.\n",
      "2022-12-14 16:52:37,932-[INFO]- dropbox:474 -> Request to files/upload\n",
      "2022-12-14 16:52:39,527-[INFO]- dropbox:390 -> Refreshing access token.\n",
      "2022-12-14 16:52:39,780-[INFO]- dropbox:474 -> Request to files/upload\n",
      "2022-12-14 16:52:41,635-[INFO]- dropbox:390 -> Refreshing access token.\n",
      "2022-12-14 16:52:41,900-[INFO]- dropbox:474 -> Request to files/upload\n",
      "2022-12-14 16:52:43,610-[INFO]- dropbox:390 -> Refreshing access token.\n",
      "2022-12-14 16:52:43,858-[INFO]- dropbox:474 -> Request to files/upload\n",
      "2022-12-14 16:52:45,599-[INFO]- dropbox:390 -> Refreshing access token.\n",
      "2022-12-14 16:52:45,885-[INFO]- dropbox:474 -> Request to files/upload\n",
      "2022-12-14 16:52:47,946-[INFO]- dropbox:390 -> Refreshing access token.\n",
      "2022-12-14 16:52:48,273-[INFO]- dropbox:474 -> Request to files/upload\n",
      "2022-12-14 16:52:50,690-[INFO]- dropbox:390 -> Refreshing access token.\n",
      "2022-12-14 16:52:50,952-[INFO]- dropbox:474 -> Request to files/upload\n",
      "2022-12-14 16:52:52,619-[INFO]- dropbox:390 -> Refreshing access token.\n",
      "2022-12-14 16:52:52,868-[INFO]- dropbox:474 -> Request to files/upload\n",
      "2022-12-14 16:52:54,288-[INFO]- dropbox:390 -> Refreshing access token.\n",
      "2022-12-14 16:52:54,538-[INFO]- dropbox:474 -> Request to files/upload\n",
      "2022-12-14 16:52:56,600-[INFO]- dropbox:390 -> Refreshing access token.\n",
      "2022-12-14 16:52:56,918-[INFO]- dropbox:474 -> Request to files/upload\n",
      "2022-12-14 16:52:58,956-[INFO]- dropbox:390 -> Refreshing access token.\n",
      "2022-12-14 16:52:59,233-[INFO]- dropbox:474 -> Request to files/upload\n",
      "2022-12-14 16:53:01,365-[INFO]- dropbox:390 -> Refreshing access token.\n",
      "2022-12-14 16:53:01,610-[INFO]- dropbox:474 -> Request to files/upload\n",
      "2022-12-14 16:53:03,203-[INFO]- dropbox:390 -> Refreshing access token.\n",
      "2022-12-14 16:53:03,525-[INFO]- dropbox:474 -> Request to files/upload\n",
      "2022-12-14 16:53:05,049-[INFO]- dropbox:390 -> Refreshing access token.\n",
      "2022-12-14 16:53:05,416-[INFO]- dropbox:474 -> Request to files/upload\n",
      "2022-12-14 16:53:07,025-[INFO]- dropbox:390 -> Refreshing access token.\n",
      "2022-12-14 16:53:07,658-[INFO]- dropbox:474 -> Request to files/upload\n",
      "2022-12-14 16:53:09,251-[INFO]- dropbox:390 -> Refreshing access token.\n",
      "2022-12-14 16:53:09,588-[INFO]- dropbox:474 -> Request to files/upload\n",
      "2022-12-14 16:53:11,390-[INFO]- dropbox:390 -> Refreshing access token.\n",
      "2022-12-14 16:53:11,641-[INFO]- dropbox:474 -> Request to files/upload\n",
      "2022-12-14 16:53:13,315-[INFO]- dropbox:390 -> Refreshing access token.\n",
      "2022-12-14 16:53:13,573-[INFO]- dropbox:474 -> Request to files/upload\n",
      "2022-12-14 16:53:15,556-[INFO]- dropbox:390 -> Refreshing access token.\n",
      "2022-12-14 16:53:15,841-[INFO]- dropbox:474 -> Request to files/upload\n",
      "2022-12-14 16:53:17,565-[INFO]- dropbox:390 -> Refreshing access token.\n",
      "2022-12-14 16:53:17,858-[INFO]- dropbox:474 -> Request to files/upload\n",
      "2022-12-14 16:53:19,502-[INFO]- dropbox:390 -> Refreshing access token.\n",
      "2022-12-14 16:53:19,767-[INFO]- dropbox:474 -> Request to files/upload\n",
      "2022-12-14 16:53:21,417-[INFO]- dropbox:390 -> Refreshing access token.\n",
      "2022-12-14 16:53:21,658-[INFO]- dropbox:474 -> Request to files/upload\n",
      "2022-12-14 16:53:22,999-[INFO]- dropbox:390 -> Refreshing access token.\n",
      "2022-12-14 16:53:23,252-[INFO]- dropbox:474 -> Request to files/upload\n",
      "2022-12-14 16:53:24,560-[INFO]- dropbox:390 -> Refreshing access token.\n",
      "2022-12-14 16:53:24,808-[INFO]- dropbox:474 -> Request to files/upload\n",
      "2022-12-14 16:53:26,469-[INFO]- dropbox:390 -> Refreshing access token.\n",
      "2022-12-14 16:53:26,770-[INFO]- dropbox:474 -> Request to files/upload\n",
      "2022-12-14 16:53:29,519-[INFO]- dropbox:390 -> Refreshing access token.\n",
      "2022-12-14 16:53:29,777-[INFO]- dropbox:474 -> Request to files/upload\n",
      "2022-12-14 16:53:31,598-[INFO]- dropbox:390 -> Refreshing access token.\n",
      "2022-12-14 16:53:31,877-[INFO]- dropbox:474 -> Request to files/upload\n",
      "2022-12-14 16:53:33,510-[INFO]- dropbox:390 -> Refreshing access token.\n",
      "2022-12-14 16:53:33,874-[INFO]- dropbox:474 -> Request to files/upload\n",
      "2022-12-14 16:53:35,282-[INFO]- dropbox:390 -> Refreshing access token.\n",
      "2022-12-14 16:53:35,537-[INFO]- dropbox:474 -> Request to files/upload\n",
      "2022-12-14 16:53:36,951-[INFO]- dropbox:390 -> Refreshing access token.\n",
      "2022-12-14 16:53:37,178-[INFO]- dropbox:474 -> Request to files/upload\n",
      "2022-12-14 16:53:39,161-[INFO]- dropbox:390 -> Refreshing access token.\n",
      "2022-12-14 16:53:39,405-[INFO]- dropbox:474 -> Request to files/upload\n",
      "2022-12-14 16:53:40,938-[INFO]- dropbox:390 -> Refreshing access token.\n",
      "2022-12-14 16:53:41,209-[INFO]- dropbox:474 -> Request to files/upload\n",
      "2022-12-14 16:53:42,784-[INFO]- dropbox:390 -> Refreshing access token.\n",
      "2022-12-14 16:53:43,021-[INFO]- dropbox:474 -> Request to files/upload\n",
      "2022-12-14 16:53:44,393-[INFO]- dropbox:390 -> Refreshing access token.\n",
      "2022-12-14 16:53:44,672-[INFO]- dropbox:474 -> Request to files/upload\n",
      "2022-12-14 16:53:46,472-[INFO]- dropbox:390 -> Refreshing access token.\n",
      "2022-12-14 16:53:46,745-[INFO]- dropbox:474 -> Request to files/upload\n",
      "2022-12-14 16:53:48,325-[INFO]- dropbox:390 -> Refreshing access token.\n",
      "2022-12-14 16:53:48,669-[INFO]- dropbox:474 -> Request to files/upload\n",
      "2022-12-14 16:53:50,332-[INFO]- dropbox:390 -> Refreshing access token.\n",
      "2022-12-14 16:53:50,559-[INFO]- dropbox:474 -> Request to files/upload\n",
      "2022-12-14 16:53:52,143-[INFO]- dropbox:390 -> Refreshing access token.\n",
      "2022-12-14 16:53:52,378-[INFO]- dropbox:474 -> Request to files/upload\n",
      "2022-12-14 16:53:54,070-[INFO]- dropbox:390 -> Refreshing access token.\n",
      "2022-12-14 16:53:54,320-[INFO]- dropbox:474 -> Request to files/upload\n",
      "2022-12-14 16:53:56,040-[INFO]- dropbox:390 -> Refreshing access token.\n",
      "2022-12-14 16:53:56,275-[INFO]- dropbox:474 -> Request to files/upload\n",
      "2022-12-14 16:53:58,161-[INFO]- dropbox:390 -> Refreshing access token.\n",
      "2022-12-14 16:53:58,687-[INFO]- dropbox:474 -> Request to files/upload\n",
      "2022-12-14 16:54:00,921-[INFO]- dropbox:390 -> Refreshing access token.\n",
      "2022-12-14 16:54:01,224-[INFO]- dropbox:474 -> Request to files/upload\n",
      "2022-12-14 16:54:02,764-[INFO]- dropbox:390 -> Refreshing access token.\n",
      "2022-12-14 16:54:03,001-[INFO]- dropbox:474 -> Request to files/upload\n",
      "2022-12-14 16:54:04,603-[INFO]- dropbox:390 -> Refreshing access token.\n",
      "2022-12-14 16:54:04,868-[INFO]- dropbox:474 -> Request to files/upload\n",
      "2022-12-14 16:54:06,774-[INFO]- dropbox:390 -> Refreshing access token.\n",
      "2022-12-14 16:54:07,027-[INFO]- dropbox:474 -> Request to files/upload\n",
      "2022-12-14 16:54:08,653-[INFO]- dropbox:390 -> Refreshing access token.\n",
      "2022-12-14 16:54:08,897-[INFO]- dropbox:474 -> Request to files/upload\n",
      "2022-12-14 16:54:10,477-[INFO]- dropbox:390 -> Refreshing access token.\n",
      "2022-12-14 16:54:10,717-[INFO]- dropbox:474 -> Request to files/upload\n",
      "2022-12-14 16:54:13,164-[INFO]- dropbox:390 -> Refreshing access token.\n",
      "2022-12-14 16:54:13,418-[INFO]- dropbox:474 -> Request to files/upload\n",
      "2022-12-14 16:54:14,816-[INFO]- dropbox:390 -> Refreshing access token.\n",
      "2022-12-14 16:54:15,054-[INFO]- dropbox:474 -> Request to files/upload\n",
      "2022-12-14 16:54:16,640-[INFO]- dropbox:390 -> Refreshing access token.\n",
      "2022-12-14 16:54:16,895-[INFO]- dropbox:474 -> Request to files/upload\n",
      "2022-12-14 16:54:18,361-[INFO]- dropbox:390 -> Refreshing access token.\n",
      "2022-12-14 16:54:18,628-[INFO]- dropbox:474 -> Request to files/upload\n",
      "2022-12-14 16:54:20,081-[INFO]- dropbox:390 -> Refreshing access token.\n",
      "2022-12-14 16:54:20,372-[INFO]- dropbox:474 -> Request to files/upload\n",
      "2022-12-14 16:54:22,020-[INFO]- dropbox:390 -> Refreshing access token.\n",
      "2022-12-14 16:54:22,252-[INFO]- dropbox:474 -> Request to files/upload\n",
      "2022-12-14 16:54:23,854-[INFO]- dropbox:390 -> Refreshing access token.\n",
      "2022-12-14 16:54:24,125-[INFO]- dropbox:474 -> Request to files/upload\n",
      "2022-12-14 16:54:26,066-[INFO]- dropbox:390 -> Refreshing access token.\n",
      "2022-12-14 16:54:26,316-[INFO]- dropbox:474 -> Request to files/upload\n",
      "2022-12-14 16:54:28,210-[INFO]- dropbox:390 -> Refreshing access token.\n",
      "2022-12-14 16:54:28,453-[INFO]- dropbox:474 -> Request to files/upload\n",
      "2022-12-14 16:54:30,514-[INFO]- dropbox:390 -> Refreshing access token.\n",
      "2022-12-14 16:54:30,761-[INFO]- dropbox:474 -> Request to files/upload\n",
      "2022-12-14 16:54:32,347-[INFO]- dropbox:390 -> Refreshing access token.\n",
      "2022-12-14 16:54:32,580-[INFO]- dropbox:474 -> Request to files/upload\n",
      "2022-12-14 16:54:34,586-[INFO]- dropbox:390 -> Refreshing access token.\n",
      "2022-12-14 16:54:34,829-[INFO]- dropbox:474 -> Request to files/upload\n",
      "2022-12-14 16:54:36,590-[INFO]- dropbox:390 -> Refreshing access token.\n",
      "2022-12-14 16:54:36,821-[INFO]- dropbox:474 -> Request to files/upload\n",
      "2022-12-14 16:54:38,376-[INFO]- dropbox:390 -> Refreshing access token.\n",
      "2022-12-14 16:54:39,309-[INFO]- dropbox:474 -> Request to files/upload\n",
      "2022-12-14 16:54:41,462-[INFO]- dropbox:390 -> Refreshing access token.\n",
      "2022-12-14 16:54:41,776-[INFO]- dropbox:474 -> Request to files/upload\n",
      "2022-12-14 16:54:43,187-[INFO]- dropbox:390 -> Refreshing access token.\n",
      "2022-12-14 16:54:43,483-[INFO]- dropbox:474 -> Request to files/upload\n",
      "2022-12-14 16:54:44,939-[INFO]- dropbox:390 -> Refreshing access token.\n",
      "2022-12-14 16:54:45,184-[INFO]- dropbox:474 -> Request to files/upload\n",
      "2022-12-14 16:54:46,828-[INFO]- dropbox:390 -> Refreshing access token.\n",
      "2022-12-14 16:54:47,078-[INFO]- dropbox:474 -> Request to files/upload\n",
      "2022-12-14 16:54:48,522-[INFO]- dropbox:390 -> Refreshing access token.\n",
      "2022-12-14 16:54:48,767-[INFO]- dropbox:474 -> Request to files/upload\n",
      "2022-12-14 16:54:51,118-[INFO]- dropbox:390 -> Refreshing access token.\n",
      "2022-12-14 16:54:51,479-[INFO]- dropbox:474 -> Request to files/upload\n",
      "2022-12-14 16:54:53,143-[INFO]- dropbox:390 -> Refreshing access token.\n",
      "2022-12-14 16:54:53,420-[INFO]- dropbox:474 -> Request to files/upload\n",
      "2022-12-14 16:54:55,300-[INFO]- dropbox:390 -> Refreshing access token.\n",
      "2022-12-14 16:54:55,647-[INFO]- dropbox:474 -> Request to files/upload\n",
      "2022-12-14 16:54:57,214-[INFO]- dropbox:390 -> Refreshing access token.\n",
      "2022-12-14 16:54:57,469-[INFO]- dropbox:474 -> Request to files/upload\n",
      "2022-12-14 16:54:58,779-[INFO]- dropbox:390 -> Refreshing access token.\n",
      "2022-12-14 16:54:59,044-[INFO]- dropbox:474 -> Request to files/upload\n",
      "2022-12-14 16:55:01,038-[INFO]- dropbox:390 -> Refreshing access token.\n",
      "2022-12-14 16:55:01,279-[INFO]- dropbox:474 -> Request to files/upload\n",
      "2022-12-14 16:55:03,231-[INFO]- dropbox:390 -> Refreshing access token.\n",
      "2022-12-14 16:55:03,466-[INFO]- dropbox:474 -> Request to files/upload\n",
      "2022-12-14 16:55:05,078-[INFO]- dropbox:390 -> Refreshing access token.\n",
      "2022-12-14 16:55:05,310-[INFO]- dropbox:474 -> Request to files/upload\n",
      "2022-12-14 16:55:06,943-[INFO]- dropbox:390 -> Refreshing access token.\n",
      "2022-12-14 16:55:07,178-[INFO]- dropbox:474 -> Request to files/upload\n",
      "2022-12-14 16:55:09,126-[INFO]- dropbox:390 -> Refreshing access token.\n",
      "2022-12-14 16:55:09,389-[INFO]- dropbox:474 -> Request to files/upload\n",
      "2022-12-14 16:55:11,568-[INFO]- dropbox:390 -> Refreshing access token.\n",
      "2022-12-14 16:55:11,828-[INFO]- dropbox:474 -> Request to files/upload\n",
      "2022-12-14 16:55:13,676-[INFO]- dropbox:390 -> Refreshing access token.\n",
      "2022-12-14 16:55:13,913-[INFO]- dropbox:474 -> Request to files/upload\n",
      "2022-12-14 16:55:15,374-[INFO]- dropbox:390 -> Refreshing access token.\n",
      "2022-12-14 16:55:15,620-[INFO]- dropbox:474 -> Request to files/upload\n",
      "2022-12-14 16:55:17,551-[INFO]- dropbox:390 -> Refreshing access token.\n",
      "2022-12-14 16:55:17,787-[INFO]- dropbox:474 -> Request to files/upload\n",
      "2022-12-14 16:55:19,363-[INFO]- dropbox:390 -> Refreshing access token.\n",
      "2022-12-14 16:55:19,698-[INFO]- dropbox:474 -> Request to files/upload\n",
      "2022-12-14 16:55:21,562-[INFO]- dropbox:390 -> Refreshing access token.\n",
      "2022-12-14 16:55:22,007-[INFO]- dropbox:474 -> Request to files/upload\n",
      "2022-12-14 16:55:23,538-[INFO]- dropbox:390 -> Refreshing access token.\n",
      "2022-12-14 16:55:23,807-[INFO]- dropbox:474 -> Request to files/upload\n",
      "2022-12-14 16:55:25,685-[INFO]- dropbox:390 -> Refreshing access token.\n",
      "2022-12-14 16:55:26,091-[INFO]- dropbox:474 -> Request to files/upload\n",
      "2022-12-14 16:55:27,986-[INFO]- dropbox:390 -> Refreshing access token.\n",
      "2022-12-14 16:55:28,218-[INFO]- dropbox:474 -> Request to files/upload\n",
      "2022-12-14 16:55:30,276-[INFO]- dropbox:390 -> Refreshing access token.\n",
      "2022-12-14 16:55:30,532-[INFO]- dropbox:474 -> Request to files/upload\n",
      "2022-12-14 16:55:32,249-[INFO]- dropbox:390 -> Refreshing access token.\n",
      "2022-12-14 16:55:32,505-[INFO]- dropbox:474 -> Request to files/upload\n",
      "2022-12-14 16:55:34,104-[INFO]- dropbox:390 -> Refreshing access token.\n",
      "2022-12-14 16:55:34,333-[INFO]- dropbox:474 -> Request to files/upload\n",
      "2022-12-14 16:55:36,017-[INFO]- dropbox:390 -> Refreshing access token.\n",
      "2022-12-14 16:55:36,275-[INFO]- dropbox:474 -> Request to files/upload\n",
      "2022-12-14 16:55:38,056-[INFO]- dropbox:390 -> Refreshing access token.\n",
      "2022-12-14 16:55:38,290-[INFO]- dropbox:474 -> Request to files/upload\n",
      "2022-12-14 16:55:40,170-[INFO]- dropbox:390 -> Refreshing access token.\n",
      "2022-12-14 16:55:40,407-[INFO]- dropbox:474 -> Request to files/upload\n",
      "2022-12-14 16:55:42,273-[INFO]- dropbox:390 -> Refreshing access token.\n",
      "2022-12-14 16:55:42,516-[INFO]- dropbox:474 -> Request to files/upload\n",
      "2022-12-14 16:55:44,477-[INFO]- dropbox:390 -> Refreshing access token.\n",
      "2022-12-14 16:55:44,726-[INFO]- dropbox:474 -> Request to files/upload\n",
      "2022-12-14 16:55:46,523-[INFO]- dropbox:390 -> Refreshing access token.\n",
      "2022-12-14 16:55:46,771-[INFO]- dropbox:474 -> Request to files/upload\n",
      "2022-12-14 16:55:48,948-[INFO]- dropbox:390 -> Refreshing access token.\n",
      "2022-12-14 16:55:49,182-[INFO]- dropbox:474 -> Request to files/upload\n"
     ]
    }
   ],
   "source": [
    "from amftrack.util.dbx import upload_folder\n",
    "\n",
    "update_analysis_info(directory_targ)\n",
    "analysis_info = get_analysis_info(directory_targ)\n",
    "analysis_folders = analysis_info.loc[analysis_info[\"unique_id\"].isin(plates)]\n",
    "dir_drop = \"DATA/PRINCE\"\n",
    "\n",
    "for index, row in analysis_folders.iterrows():\n",
    "    folder = row[\"folder_analysis\"]\n",
    "    id_unique = row[\"unique_id\"]\n",
    "    path = os.path.join(directory_targ, folder)\n",
    "    target_drop = f\"/{dir_drop}/{id_unique}/{folder}\"\n",
    "    print(dir_drop)\n",
    "    upload_folder(path, target_drop, delete=False)"
   ]
  },
  {
   "cell_type": "code",
   "execution_count": 9,
   "id": "f9e4c47c-1b6c-4327-9bfc-1f493da5954d",
   "metadata": {
    "tags": []
   },
   "outputs": [
    {
     "name": "stderr",
     "output_type": "stream",
     "text": [
      "sbatch: Single-node jobs run on a shared node by default. Add --exclusive if you want to use a node exclusively.\n",
      "sbatch: A full node consists of 32 CPU cores, 229376 MiB of memory and 0 GPUs and can be shared by up to 32 jobs.\n",
      "sbatch: By default shared jobs get 7168 MiB of memory per CPU core, unless explicitly overridden with --mem-per-cpu, --mem-per-gpu or --mem.\n",
      "sbatch: You will be charged for 0.03125 node, based on the number of CPUs, GPUs and the amount memory that you've requested.\n"
     ]
    },
    {
     "name": "stdout",
     "output_type": "stream",
     "text": [
      "Submitted batch job 2200931\n"
     ]
    }
   ],
   "source": [
    "name_job = f\"one_shot_{time_ns()}.sh\"\n",
    "run_launcher(\n",
    "    \"post_processer_1.py\",\n",
    "    [directory_targ, name_job, -1],\n",
    "    plates,\n",
    "    \"20:00\",\n",
    "    dependency=False,\n",
    "    name_job=name_job,\n",
    ")"
   ]
  },
  {
   "cell_type": "code",
   "execution_count": 5,
   "id": "c1d5e0b0-cc8a-4e4a-b9f7-0cbc535e43da",
   "metadata": {},
   "outputs": [],
   "source": [
    "import sys\n",
    "\n",
    "import pandas as pd\n",
    "\n",
    "from amftrack.util.sys import temp_path\n",
    "from amftrack.util.dbx import download_folders_drop\n",
    "\n",
    "\n",
    "op_id = 1674918618515998552\n",
    "run_info = pd.read_json(f\"{temp_path}/{op_id}.json\", dtype={\"unique_id\": str})"
   ]
  },
  {
   "cell_type": "code",
   "execution_count": 13,
   "id": "e0d6bfd3-f3da-4871-a632-d1656a7b662b",
   "metadata": {},
   "outputs": [
    {
     "data": {
      "text/plain": [
       "46"
      ]
     },
     "execution_count": 13,
     "metadata": {},
     "output_type": "execute_result"
    }
   ],
   "source": [
    "len(run_info)"
   ]
  },
  {
   "cell_type": "code",
   "execution_count": 6,
   "id": "4c41422d-3b51-4b28-856f-2b0bdf878ae5",
   "metadata": {
    "tags": []
   },
   "outputs": [
    {
     "data": {
      "text/plain": [
       "'/projects/0/einf914/data/'"
      ]
     },
     "execution_count": 6,
     "metadata": {},
     "output_type": "execute_result"
    }
   ],
   "source": [
    "directory_targ"
   ]
  },
  {
   "cell_type": "code",
   "execution_count": 4,
   "id": "5f3b7634-849b-4444-bf55-c44c63777d53",
   "metadata": {
    "tags": []
   },
   "outputs": [
    {
     "data": {
      "application/vnd.jupyter.widget-view+json": {
       "model_id": "6dfce75207a84ceebe78e0b99b8332ae",
       "version_major": 2,
       "version_minor": 0
      },
      "text/plain": [
       "analysed:   0%|          | 0/1989 [00:00<?, ?it/s]"
      ]
     },
     "metadata": {},
     "output_type": "display_data"
    }
   ],
   "source": [
    "update_plate_info(directory_targ, local=True)\n",
    "all_folders = get_current_folders(directory_targ, local=True)\n",
    "# folders =all_folders.loc[all_folders[\"unique_id\"].isin(plates)]\n",
    "# folders = folders.loc[folders[\"/Analysis/skeleton_pruned_compressed.mat\"]==True]"
   ]
  },
  {
   "cell_type": "code",
   "execution_count": 5,
   "id": "2c9ce086-223f-475c-86fb-f8ec89f323d1",
   "metadata": {},
   "outputs": [
    {
     "data": {
      "text/plain": [
       "516"
      ]
     },
     "execution_count": 5,
     "metadata": {},
     "output_type": "execute_result"
    }
   ],
   "source": [
    "folders = all_folders.loc[all_folders[\"unique_id\"].isin(plates)]\n",
    "\n",
    "len(folders)"
   ]
  },
  {
   "cell_type": "code",
   "execution_count": 6,
   "id": "89a5397f-125b-4b74-bcad-f64faf4c307e",
   "metadata": {
    "collapsed": true,
    "jupyter": {
     "outputs_hidden": true
    },
    "tags": []
   },
   "outputs": [
    {
     "data": {
      "text/html": [
       "<div>\n",
       "<style scoped>\n",
       "    .dataframe tbody tr th:only-of-type {\n",
       "        vertical-align: middle;\n",
       "    }\n",
       "\n",
       "    .dataframe tbody tr th {\n",
       "        vertical-align: top;\n",
       "    }\n",
       "\n",
       "    .dataframe thead th {\n",
       "        text-align: right;\n",
       "    }\n",
       "</style>\n",
       "<table border=\"1\" class=\"dataframe\">\n",
       "  <thead>\n",
       "    <tr style=\"text-align: right;\">\n",
       "      <th></th>\n",
       "      <th>total_path</th>\n",
       "      <th>Plate</th>\n",
       "      <th>PrincePos</th>\n",
       "      <th>root</th>\n",
       "      <th>strain</th>\n",
       "      <th>medium</th>\n",
       "      <th>split</th>\n",
       "      <th>Pbait</th>\n",
       "      <th>CrossDate</th>\n",
       "      <th>Temperature</th>\n",
       "      <th>...</th>\n",
       "      <th>/Analysis/transform_corrupt.mat</th>\n",
       "      <th>/Analysis/skeleton_realigned_compressed.mat</th>\n",
       "      <th>/Analysis/nx_graph_pruned.p</th>\n",
       "      <th>/Analysis/nx_graph_pruned_width.p</th>\n",
       "      <th>/Analysis/nx_graph_pruned_labeled.p</th>\n",
       "      <th>date</th>\n",
       "      <th>folder</th>\n",
       "      <th>Temp</th>\n",
       "      <th>unique_id</th>\n",
       "      <th>datetime</th>\n",
       "    </tr>\n",
       "  </thead>\n",
       "  <tbody>\n",
       "    <tr>\n",
       "      <th>9</th>\n",
       "      <td>/projects/0/einf914/data/20210918_1729_Plate21</td>\n",
       "      <td>792</td>\n",
       "      <td>21</td>\n",
       "      <td>'Carrot'</td>\n",
       "      <td>'A5'</td>\n",
       "      <td>'001P100N'</td>\n",
       "      <td>'Y'</td>\n",
       "      <td>'-'</td>\n",
       "      <td>20210915</td>\n",
       "      <td>NaN</td>\n",
       "      <td>...</td>\n",
       "      <td>False</td>\n",
       "      <td>True</td>\n",
       "      <td>True</td>\n",
       "      <td>True</td>\n",
       "      <td>True</td>\n",
       "      <td>18.09.2021, 17:29:</td>\n",
       "      <td>20210918_1729_Plate21</td>\n",
       "      <td>NaN</td>\n",
       "      <td>792_20210915</td>\n",
       "      <td>2021-09-18 17:29:00</td>\n",
       "    </tr>\n",
       "    <tr>\n",
       "      <th>11</th>\n",
       "      <td>/projects/0/einf914/data/20201124_1202_Plate39</td>\n",
       "      <td>94</td>\n",
       "      <td>39</td>\n",
       "      <td>'Carrot'</td>\n",
       "      <td>'A5'</td>\n",
       "      <td>'001P100N'</td>\n",
       "      <td>'Y'</td>\n",
       "      <td>NaN</td>\n",
       "      <td>'20201123'</td>\n",
       "      <td>NaN</td>\n",
       "      <td>...</td>\n",
       "      <td>False</td>\n",
       "      <td>True</td>\n",
       "      <td>True</td>\n",
       "      <td>True</td>\n",
       "      <td>True</td>\n",
       "      <td>24.11.2020, 12:02:</td>\n",
       "      <td>20201124_1202_Plate39</td>\n",
       "      <td>'25'</td>\n",
       "      <td>94_20201123</td>\n",
       "      <td>2020-11-24 12:02:00</td>\n",
       "    </tr>\n",
       "    <tr>\n",
       "      <th>12</th>\n",
       "      <td>/projects/0/einf914/data/20210919_0129_Plate21</td>\n",
       "      <td>792</td>\n",
       "      <td>21</td>\n",
       "      <td>'Carrot'</td>\n",
       "      <td>'A5'</td>\n",
       "      <td>'001P100N'</td>\n",
       "      <td>'Y'</td>\n",
       "      <td>'-'</td>\n",
       "      <td>20210915</td>\n",
       "      <td>NaN</td>\n",
       "      <td>...</td>\n",
       "      <td>False</td>\n",
       "      <td>True</td>\n",
       "      <td>True</td>\n",
       "      <td>True</td>\n",
       "      <td>True</td>\n",
       "      <td>19.09.2021, 01:29:</td>\n",
       "      <td>20210919_0129_Plate21</td>\n",
       "      <td>NaN</td>\n",
       "      <td>792_20210915</td>\n",
       "      <td>2021-09-19 01:29:00</td>\n",
       "    </tr>\n",
       "    <tr>\n",
       "      <th>19</th>\n",
       "      <td>/projects/0/einf914/data/20201126_2009_Plate39</td>\n",
       "      <td>94</td>\n",
       "      <td>39</td>\n",
       "      <td>'Carrot'</td>\n",
       "      <td>'A5'</td>\n",
       "      <td>'001P100N'</td>\n",
       "      <td>'Y'</td>\n",
       "      <td>NaN</td>\n",
       "      <td>'20201123'</td>\n",
       "      <td>NaN</td>\n",
       "      <td>...</td>\n",
       "      <td>False</td>\n",
       "      <td>True</td>\n",
       "      <td>True</td>\n",
       "      <td>True</td>\n",
       "      <td>True</td>\n",
       "      <td>26.11.2020, 20:09:</td>\n",
       "      <td>20201126_2009_Plate39</td>\n",
       "      <td>'25'</td>\n",
       "      <td>94_20201123</td>\n",
       "      <td>2020-11-26 20:09:00</td>\n",
       "    </tr>\n",
       "    <tr>\n",
       "      <th>21</th>\n",
       "      <td>/projects/0/einf914/data/20211001_0323_Plate21</td>\n",
       "      <td>792</td>\n",
       "      <td>21</td>\n",
       "      <td>'Carrot'</td>\n",
       "      <td>'A5'</td>\n",
       "      <td>'001P100N'</td>\n",
       "      <td>'Y'</td>\n",
       "      <td>'-'</td>\n",
       "      <td>20210915</td>\n",
       "      <td>NaN</td>\n",
       "      <td>...</td>\n",
       "      <td>False</td>\n",
       "      <td>True</td>\n",
       "      <td>True</td>\n",
       "      <td>True</td>\n",
       "      <td>True</td>\n",
       "      <td>01.10.2021, 03:23:</td>\n",
       "      <td>20211001_0323_Plate21</td>\n",
       "      <td>NaN</td>\n",
       "      <td>792_20210915</td>\n",
       "      <td>2021-10-01 03:23:00</td>\n",
       "    </tr>\n",
       "    <tr>\n",
       "      <th>...</th>\n",
       "      <td>...</td>\n",
       "      <td>...</td>\n",
       "      <td>...</td>\n",
       "      <td>...</td>\n",
       "      <td>...</td>\n",
       "      <td>...</td>\n",
       "      <td>...</td>\n",
       "      <td>...</td>\n",
       "      <td>...</td>\n",
       "      <td>...</td>\n",
       "      <td>...</td>\n",
       "      <td>...</td>\n",
       "      <td>...</td>\n",
       "      <td>...</td>\n",
       "      <td>...</td>\n",
       "      <td>...</td>\n",
       "      <td>...</td>\n",
       "      <td>...</td>\n",
       "      <td>...</td>\n",
       "      <td>...</td>\n",
       "      <td>...</td>\n",
       "    </tr>\n",
       "    <tr>\n",
       "      <th>1309</th>\n",
       "      <td>/projects/0/einf914/data/20211013_1354_Plate21</td>\n",
       "      <td>792</td>\n",
       "      <td>21</td>\n",
       "      <td>'Carrot'</td>\n",
       "      <td>'A5'</td>\n",
       "      <td>'001P100N'</td>\n",
       "      <td>'Y'</td>\n",
       "      <td>'-'</td>\n",
       "      <td>20210915</td>\n",
       "      <td>NaN</td>\n",
       "      <td>...</td>\n",
       "      <td>False</td>\n",
       "      <td>False</td>\n",
       "      <td>False</td>\n",
       "      <td>False</td>\n",
       "      <td>False</td>\n",
       "      <td>13.10.2021, 13:54:</td>\n",
       "      <td>20211013_1354_Plate21</td>\n",
       "      <td>NaN</td>\n",
       "      <td>792_20210915</td>\n",
       "      <td>2021-10-13 13:54:00</td>\n",
       "    </tr>\n",
       "    <tr>\n",
       "      <th>1317</th>\n",
       "      <td>/projects/0/einf914/data/20210917_1318_Plate21</td>\n",
       "      <td>792</td>\n",
       "      <td>21</td>\n",
       "      <td>'Carrot'</td>\n",
       "      <td>'A5'</td>\n",
       "      <td>'001P100N'</td>\n",
       "      <td>'Y'</td>\n",
       "      <td>'-'</td>\n",
       "      <td>20210915</td>\n",
       "      <td>NaN</td>\n",
       "      <td>...</td>\n",
       "      <td>False</td>\n",
       "      <td>True</td>\n",
       "      <td>True</td>\n",
       "      <td>True</td>\n",
       "      <td>True</td>\n",
       "      <td>17.09.2021, 13:18:</td>\n",
       "      <td>20210917_1318_Plate21</td>\n",
       "      <td>NaN</td>\n",
       "      <td>792_20210915</td>\n",
       "      <td>2021-09-17 13:18:00</td>\n",
       "    </tr>\n",
       "    <tr>\n",
       "      <th>1325</th>\n",
       "      <td>/projects/0/einf914/data/20210917_0118_Plate21</td>\n",
       "      <td>792</td>\n",
       "      <td>21</td>\n",
       "      <td>'Carrot'</td>\n",
       "      <td>'A5'</td>\n",
       "      <td>'001P100N'</td>\n",
       "      <td>'Y'</td>\n",
       "      <td>'-'</td>\n",
       "      <td>20210915</td>\n",
       "      <td>NaN</td>\n",
       "      <td>...</td>\n",
       "      <td>False</td>\n",
       "      <td>True</td>\n",
       "      <td>True</td>\n",
       "      <td>True</td>\n",
       "      <td>True</td>\n",
       "      <td>17.09.2021, 01:18:</td>\n",
       "      <td>20210917_0118_Plate21</td>\n",
       "      <td>NaN</td>\n",
       "      <td>792_20210915</td>\n",
       "      <td>2021-09-17 01:18:00</td>\n",
       "    </tr>\n",
       "    <tr>\n",
       "      <th>1326</th>\n",
       "      <td>/projects/0/einf914/data/20201124_1902_Plate39</td>\n",
       "      <td>94</td>\n",
       "      <td>39</td>\n",
       "      <td>'Carrot'</td>\n",
       "      <td>'A5'</td>\n",
       "      <td>'001P100N'</td>\n",
       "      <td>'Y'</td>\n",
       "      <td>NaN</td>\n",
       "      <td>'20201123'</td>\n",
       "      <td>NaN</td>\n",
       "      <td>...</td>\n",
       "      <td>False</td>\n",
       "      <td>True</td>\n",
       "      <td>True</td>\n",
       "      <td>True</td>\n",
       "      <td>True</td>\n",
       "      <td>24.11.2020, 19:02:</td>\n",
       "      <td>20201124_1902_Plate39</td>\n",
       "      <td>'25'</td>\n",
       "      <td>94_20201123</td>\n",
       "      <td>2020-11-24 19:02:00</td>\n",
       "    </tr>\n",
       "    <tr>\n",
       "      <th>1327</th>\n",
       "      <td>/projects/0/einf914/data/20201127_0109_Plate39</td>\n",
       "      <td>94</td>\n",
       "      <td>39</td>\n",
       "      <td>'Carrot'</td>\n",
       "      <td>'A5'</td>\n",
       "      <td>'001P100N'</td>\n",
       "      <td>'Y'</td>\n",
       "      <td>NaN</td>\n",
       "      <td>'20201123'</td>\n",
       "      <td>NaN</td>\n",
       "      <td>...</td>\n",
       "      <td>False</td>\n",
       "      <td>True</td>\n",
       "      <td>True</td>\n",
       "      <td>True</td>\n",
       "      <td>True</td>\n",
       "      <td>27.11.2020, 01:09:</td>\n",
       "      <td>20201127_0109_Plate39</td>\n",
       "      <td>'25'</td>\n",
       "      <td>94_20201123</td>\n",
       "      <td>2020-11-27 01:09:00</td>\n",
       "    </tr>\n",
       "  </tbody>\n",
       "</table>\n",
       "<p>331 rows × 25 columns</p>\n",
       "</div>"
      ],
      "text/plain": [
       "                                          total_path Plate PrincePos  \\\n",
       "9     /projects/0/einf914/data/20210918_1729_Plate21   792        21   \n",
       "11    /projects/0/einf914/data/20201124_1202_Plate39    94        39   \n",
       "12    /projects/0/einf914/data/20210919_0129_Plate21   792        21   \n",
       "19    /projects/0/einf914/data/20201126_2009_Plate39    94        39   \n",
       "21    /projects/0/einf914/data/20211001_0323_Plate21   792        21   \n",
       "...                                              ...   ...       ...   \n",
       "1309  /projects/0/einf914/data/20211013_1354_Plate21   792        21   \n",
       "1317  /projects/0/einf914/data/20210917_1318_Plate21   792        21   \n",
       "1325  /projects/0/einf914/data/20210917_0118_Plate21   792        21   \n",
       "1326  /projects/0/einf914/data/20201124_1902_Plate39    94        39   \n",
       "1327  /projects/0/einf914/data/20201127_0109_Plate39    94        39   \n",
       "\n",
       "          root strain      medium split Pbait   CrossDate Temperature  ...  \\\n",
       "9     'Carrot'   'A5'  '001P100N'   'Y'   '-'    20210915         NaN  ...   \n",
       "11    'Carrot'   'A5'  '001P100N'   'Y'   NaN  '20201123'         NaN  ...   \n",
       "12    'Carrot'   'A5'  '001P100N'   'Y'   '-'    20210915         NaN  ...   \n",
       "19    'Carrot'   'A5'  '001P100N'   'Y'   NaN  '20201123'         NaN  ...   \n",
       "21    'Carrot'   'A5'  '001P100N'   'Y'   '-'    20210915         NaN  ...   \n",
       "...        ...    ...         ...   ...   ...         ...         ...  ...   \n",
       "1309  'Carrot'   'A5'  '001P100N'   'Y'   '-'    20210915         NaN  ...   \n",
       "1317  'Carrot'   'A5'  '001P100N'   'Y'   '-'    20210915         NaN  ...   \n",
       "1325  'Carrot'   'A5'  '001P100N'   'Y'   '-'    20210915         NaN  ...   \n",
       "1326  'Carrot'   'A5'  '001P100N'   'Y'   NaN  '20201123'         NaN  ...   \n",
       "1327  'Carrot'   'A5'  '001P100N'   'Y'   NaN  '20201123'         NaN  ...   \n",
       "\n",
       "     /Analysis/transform_corrupt.mat  \\\n",
       "9                              False   \n",
       "11                             False   \n",
       "12                             False   \n",
       "19                             False   \n",
       "21                             False   \n",
       "...                              ...   \n",
       "1309                           False   \n",
       "1317                           False   \n",
       "1325                           False   \n",
       "1326                           False   \n",
       "1327                           False   \n",
       "\n",
       "     /Analysis/skeleton_realigned_compressed.mat /Analysis/nx_graph_pruned.p  \\\n",
       "9                                           True                        True   \n",
       "11                                          True                        True   \n",
       "12                                          True                        True   \n",
       "19                                          True                        True   \n",
       "21                                          True                        True   \n",
       "...                                          ...                         ...   \n",
       "1309                                       False                       False   \n",
       "1317                                        True                        True   \n",
       "1325                                        True                        True   \n",
       "1326                                        True                        True   \n",
       "1327                                        True                        True   \n",
       "\n",
       "     /Analysis/nx_graph_pruned_width.p /Analysis/nx_graph_pruned_labeled.p  \\\n",
       "9                                 True                                True   \n",
       "11                                True                                True   \n",
       "12                                True                                True   \n",
       "19                                True                                True   \n",
       "21                                True                                True   \n",
       "...                                ...                                 ...   \n",
       "1309                             False                               False   \n",
       "1317                              True                                True   \n",
       "1325                              True                                True   \n",
       "1326                              True                                True   \n",
       "1327                              True                                True   \n",
       "\n",
       "                    date                 folder  Temp     unique_id  \\\n",
       "9     18.09.2021, 17:29:  20210918_1729_Plate21   NaN  792_20210915   \n",
       "11    24.11.2020, 12:02:  20201124_1202_Plate39  '25'   94_20201123   \n",
       "12    19.09.2021, 01:29:  20210919_0129_Plate21   NaN  792_20210915   \n",
       "19    26.11.2020, 20:09:  20201126_2009_Plate39  '25'   94_20201123   \n",
       "21    01.10.2021, 03:23:  20211001_0323_Plate21   NaN  792_20210915   \n",
       "...                  ...                    ...   ...           ...   \n",
       "1309  13.10.2021, 13:54:  20211013_1354_Plate21   NaN  792_20210915   \n",
       "1317  17.09.2021, 13:18:  20210917_1318_Plate21   NaN  792_20210915   \n",
       "1325  17.09.2021, 01:18:  20210917_0118_Plate21   NaN  792_20210915   \n",
       "1326  24.11.2020, 19:02:  20201124_1902_Plate39  '25'   94_20201123   \n",
       "1327  27.11.2020, 01:09:  20201127_0109_Plate39  '25'   94_20201123   \n",
       "\n",
       "                datetime  \n",
       "9    2021-09-18 17:29:00  \n",
       "11   2020-11-24 12:02:00  \n",
       "12   2021-09-19 01:29:00  \n",
       "19   2020-11-26 20:09:00  \n",
       "21   2021-10-01 03:23:00  \n",
       "...                  ...  \n",
       "1309 2021-10-13 13:54:00  \n",
       "1317 2021-09-17 13:18:00  \n",
       "1325 2021-09-17 01:18:00  \n",
       "1326 2020-11-24 19:02:00  \n",
       "1327 2020-11-27 01:09:00  \n",
       "\n",
       "[331 rows x 25 columns]"
      ]
     },
     "execution_count": 6,
     "metadata": {},
     "output_type": "execute_result"
    }
   ],
   "source": [
    "folders"
   ]
  },
  {
   "cell_type": "code",
   "execution_count": 7,
   "id": "02db398f-9a0e-41e4-97a8-ee00a57e98c8",
   "metadata": {},
   "outputs": [
    {
     "data": {
      "text/html": [
       "<div>\n",
       "<style scoped>\n",
       "    .dataframe tbody tr th:only-of-type {\n",
       "        vertical-align: middle;\n",
       "    }\n",
       "\n",
       "    .dataframe tbody tr th {\n",
       "        vertical-align: top;\n",
       "    }\n",
       "\n",
       "    .dataframe thead th {\n",
       "        text-align: right;\n",
       "    }\n",
       "</style>\n",
       "<table border=\"1\" class=\"dataframe\">\n",
       "  <thead>\n",
       "    <tr style=\"text-align: right;\">\n",
       "      <th></th>\n",
       "      <th>total_path</th>\n",
       "      <th>Plate</th>\n",
       "      <th>PrincePos</th>\n",
       "      <th>root</th>\n",
       "      <th>strain</th>\n",
       "      <th>medium</th>\n",
       "      <th>split</th>\n",
       "      <th>Pbait</th>\n",
       "      <th>CrossDate</th>\n",
       "      <th>Temperature</th>\n",
       "      <th>...</th>\n",
       "      <th>/Analysis/transform_corrupt.mat</th>\n",
       "      <th>/Analysis/skeleton_realigned_compressed.mat</th>\n",
       "      <th>/Analysis/nx_graph_pruned.p</th>\n",
       "      <th>/Analysis/nx_graph_pruned_width.p</th>\n",
       "      <th>/Analysis/nx_graph_pruned_labeled.p</th>\n",
       "      <th>date</th>\n",
       "      <th>folder</th>\n",
       "      <th>Temp</th>\n",
       "      <th>unique_id</th>\n",
       "      <th>datetime</th>\n",
       "    </tr>\n",
       "  </thead>\n",
       "  <tbody>\n",
       "    <tr>\n",
       "      <th>18</th>\n",
       "      <td>/projects/0/einf914/data/20230106_1749_Plate02</td>\n",
       "      <td>521</td>\n",
       "      <td>2</td>\n",
       "      <td>'Carrot'</td>\n",
       "      <td>'C2'</td>\n",
       "      <td>'001P100N100C'</td>\n",
       "      <td>'Y'</td>\n",
       "      <td>'-'</td>\n",
       "      <td>20230104</td>\n",
       "      <td>25</td>\n",
       "      <td>...</td>\n",
       "      <td>False</td>\n",
       "      <td>True</td>\n",
       "      <td>True</td>\n",
       "      <td>True</td>\n",
       "      <td>True</td>\n",
       "      <td>06.01.2023, 17:49:</td>\n",
       "      <td>20230106_1749_Plate02</td>\n",
       "      <td>NaN</td>\n",
       "      <td>521_20230104</td>\n",
       "      <td>2023-01-06 17:49:00</td>\n",
       "    </tr>\n",
       "    <tr>\n",
       "      <th>25</th>\n",
       "      <td>/projects/0/einf914/data/20230125_0554_Plate02</td>\n",
       "      <td>521</td>\n",
       "      <td>2</td>\n",
       "      <td>'Carrot'</td>\n",
       "      <td>'C2'</td>\n",
       "      <td>'001P100N100C'</td>\n",
       "      <td>'Y'</td>\n",
       "      <td>'-'</td>\n",
       "      <td>20230104</td>\n",
       "      <td>25</td>\n",
       "      <td>...</td>\n",
       "      <td>False</td>\n",
       "      <td>False</td>\n",
       "      <td>False</td>\n",
       "      <td>False</td>\n",
       "      <td>False</td>\n",
       "      <td>25.01.2023, 05:54:</td>\n",
       "      <td>20230125_0554_Plate02</td>\n",
       "      <td>NaN</td>\n",
       "      <td>521_20230104</td>\n",
       "      <td>2023-01-25 05:54:00</td>\n",
       "    </tr>\n",
       "    <tr>\n",
       "      <th>38</th>\n",
       "      <td>/projects/0/einf914/data/20230110_1546_Plate02</td>\n",
       "      <td>521</td>\n",
       "      <td>2</td>\n",
       "      <td>'Carrot'</td>\n",
       "      <td>'C2'</td>\n",
       "      <td>'001P100N100C'</td>\n",
       "      <td>'Y'</td>\n",
       "      <td>'-'</td>\n",
       "      <td>20230104</td>\n",
       "      <td>25</td>\n",
       "      <td>...</td>\n",
       "      <td>False</td>\n",
       "      <td>True</td>\n",
       "      <td>True</td>\n",
       "      <td>True</td>\n",
       "      <td>True</td>\n",
       "      <td>10.01.2023, 15:46:</td>\n",
       "      <td>20230110_1546_Plate02</td>\n",
       "      <td>NaN</td>\n",
       "      <td>521_20230104</td>\n",
       "      <td>2023-01-10 15:46:00</td>\n",
       "    </tr>\n",
       "    <tr>\n",
       "      <th>78</th>\n",
       "      <td>/projects/0/einf914/data/20230123_1554_Plate02</td>\n",
       "      <td>521</td>\n",
       "      <td>2</td>\n",
       "      <td>'Carrot'</td>\n",
       "      <td>'C2'</td>\n",
       "      <td>'001P100N100C'</td>\n",
       "      <td>'Y'</td>\n",
       "      <td>'-'</td>\n",
       "      <td>20230104</td>\n",
       "      <td>25</td>\n",
       "      <td>...</td>\n",
       "      <td>False</td>\n",
       "      <td>False</td>\n",
       "      <td>False</td>\n",
       "      <td>False</td>\n",
       "      <td>False</td>\n",
       "      <td>23.01.2023, 15:54:</td>\n",
       "      <td>20230123_1554_Plate02</td>\n",
       "      <td>NaN</td>\n",
       "      <td>521_20230104</td>\n",
       "      <td>2023-01-23 15:54:00</td>\n",
       "    </tr>\n",
       "    <tr>\n",
       "      <th>101</th>\n",
       "      <td>/projects/0/einf914/data/20230124_2154_Plate02</td>\n",
       "      <td>521</td>\n",
       "      <td>2</td>\n",
       "      <td>'Carrot'</td>\n",
       "      <td>'C2'</td>\n",
       "      <td>'001P100N100C'</td>\n",
       "      <td>'Y'</td>\n",
       "      <td>'-'</td>\n",
       "      <td>20230104</td>\n",
       "      <td>25</td>\n",
       "      <td>...</td>\n",
       "      <td>False</td>\n",
       "      <td>False</td>\n",
       "      <td>False</td>\n",
       "      <td>False</td>\n",
       "      <td>False</td>\n",
       "      <td>24.01.2023, 21:54:</td>\n",
       "      <td>20230124_2154_Plate02</td>\n",
       "      <td>NaN</td>\n",
       "      <td>521_20230104</td>\n",
       "      <td>2023-01-24 21:54:00</td>\n",
       "    </tr>\n",
       "    <tr>\n",
       "      <th>...</th>\n",
       "      <td>...</td>\n",
       "      <td>...</td>\n",
       "      <td>...</td>\n",
       "      <td>...</td>\n",
       "      <td>...</td>\n",
       "      <td>...</td>\n",
       "      <td>...</td>\n",
       "      <td>...</td>\n",
       "      <td>...</td>\n",
       "      <td>...</td>\n",
       "      <td>...</td>\n",
       "      <td>...</td>\n",
       "      <td>...</td>\n",
       "      <td>...</td>\n",
       "      <td>...</td>\n",
       "      <td>...</td>\n",
       "      <td>...</td>\n",
       "      <td>...</td>\n",
       "      <td>...</td>\n",
       "      <td>...</td>\n",
       "      <td>...</td>\n",
       "    </tr>\n",
       "    <tr>\n",
       "      <th>1679</th>\n",
       "      <td>/projects/0/einf914/data/20230112_0549_Plate02</td>\n",
       "      <td>521</td>\n",
       "      <td>2</td>\n",
       "      <td>'Carrot'</td>\n",
       "      <td>'C2'</td>\n",
       "      <td>'001P100N100C'</td>\n",
       "      <td>'Y'</td>\n",
       "      <td>'-'</td>\n",
       "      <td>20230104</td>\n",
       "      <td>25</td>\n",
       "      <td>...</td>\n",
       "      <td>False</td>\n",
       "      <td>True</td>\n",
       "      <td>True</td>\n",
       "      <td>True</td>\n",
       "      <td>True</td>\n",
       "      <td>12.01.2023, 05:49:</td>\n",
       "      <td>20230112_0549_Plate02</td>\n",
       "      <td>NaN</td>\n",
       "      <td>521_20230104</td>\n",
       "      <td>2023-01-12 05:49:00</td>\n",
       "    </tr>\n",
       "    <tr>\n",
       "      <th>1685</th>\n",
       "      <td>/projects/0/einf914/data/20230109_1409_Plate02</td>\n",
       "      <td>521</td>\n",
       "      <td>2</td>\n",
       "      <td>'Carrot'</td>\n",
       "      <td>'C2'</td>\n",
       "      <td>'001P100N100C'</td>\n",
       "      <td>'Y'</td>\n",
       "      <td>'-'</td>\n",
       "      <td>20230104</td>\n",
       "      <td>25</td>\n",
       "      <td>...</td>\n",
       "      <td>False</td>\n",
       "      <td>True</td>\n",
       "      <td>True</td>\n",
       "      <td>True</td>\n",
       "      <td>True</td>\n",
       "      <td>09.01.2023, 14:09:</td>\n",
       "      <td>20230109_1409_Plate02</td>\n",
       "      <td>NaN</td>\n",
       "      <td>521_20230104</td>\n",
       "      <td>2023-01-09 14:09:00</td>\n",
       "    </tr>\n",
       "    <tr>\n",
       "      <th>1700</th>\n",
       "      <td>/projects/0/einf914/data/20230105_0833_Plate02</td>\n",
       "      <td>521</td>\n",
       "      <td>2</td>\n",
       "      <td>'Carrot'</td>\n",
       "      <td>'C2'</td>\n",
       "      <td>'001P100N100C'</td>\n",
       "      <td>'Y'</td>\n",
       "      <td>'-'</td>\n",
       "      <td>20230104</td>\n",
       "      <td>25</td>\n",
       "      <td>...</td>\n",
       "      <td>False</td>\n",
       "      <td>True</td>\n",
       "      <td>True</td>\n",
       "      <td>True</td>\n",
       "      <td>True</td>\n",
       "      <td>05.01.2023, 08:33:</td>\n",
       "      <td>20230105_0833_Plate02</td>\n",
       "      <td>NaN</td>\n",
       "      <td>521_20230104</td>\n",
       "      <td>2023-01-05 08:33:00</td>\n",
       "    </tr>\n",
       "    <tr>\n",
       "      <th>1737</th>\n",
       "      <td>/projects/0/einf914/data/20230124_0954_Plate02</td>\n",
       "      <td>521</td>\n",
       "      <td>2</td>\n",
       "      <td>'Carrot'</td>\n",
       "      <td>'C2'</td>\n",
       "      <td>'001P100N100C'</td>\n",
       "      <td>'Y'</td>\n",
       "      <td>'-'</td>\n",
       "      <td>20230104</td>\n",
       "      <td>25</td>\n",
       "      <td>...</td>\n",
       "      <td>False</td>\n",
       "      <td>False</td>\n",
       "      <td>False</td>\n",
       "      <td>False</td>\n",
       "      <td>False</td>\n",
       "      <td>24.01.2023, 09:54:</td>\n",
       "      <td>20230124_0954_Plate02</td>\n",
       "      <td>NaN</td>\n",
       "      <td>521_20230104</td>\n",
       "      <td>2023-01-24 09:54:00</td>\n",
       "    </tr>\n",
       "    <tr>\n",
       "      <th>1756</th>\n",
       "      <td>/projects/0/einf914/data/20230111_0746_Plate02</td>\n",
       "      <td>521</td>\n",
       "      <td>2</td>\n",
       "      <td>'Carrot'</td>\n",
       "      <td>'C2'</td>\n",
       "      <td>'001P100N100C'</td>\n",
       "      <td>'Y'</td>\n",
       "      <td>'-'</td>\n",
       "      <td>20230104</td>\n",
       "      <td>25</td>\n",
       "      <td>...</td>\n",
       "      <td>False</td>\n",
       "      <td>True</td>\n",
       "      <td>True</td>\n",
       "      <td>True</td>\n",
       "      <td>True</td>\n",
       "      <td>11.01.2023, 07:46:</td>\n",
       "      <td>20230111_0746_Plate02</td>\n",
       "      <td>NaN</td>\n",
       "      <td>521_20230104</td>\n",
       "      <td>2023-01-11 07:46:00</td>\n",
       "    </tr>\n",
       "  </tbody>\n",
       "</table>\n",
       "<p>96 rows × 25 columns</p>\n",
       "</div>"
      ],
      "text/plain": [
       "                                          total_path Plate PrincePos  \\\n",
       "18    /projects/0/einf914/data/20230106_1749_Plate02   521         2   \n",
       "25    /projects/0/einf914/data/20230125_0554_Plate02   521         2   \n",
       "38    /projects/0/einf914/data/20230110_1546_Plate02   521         2   \n",
       "78    /projects/0/einf914/data/20230123_1554_Plate02   521         2   \n",
       "101   /projects/0/einf914/data/20230124_2154_Plate02   521         2   \n",
       "...                                              ...   ...       ...   \n",
       "1679  /projects/0/einf914/data/20230112_0549_Plate02   521         2   \n",
       "1685  /projects/0/einf914/data/20230109_1409_Plate02   521         2   \n",
       "1700  /projects/0/einf914/data/20230105_0833_Plate02   521         2   \n",
       "1737  /projects/0/einf914/data/20230124_0954_Plate02   521         2   \n",
       "1756  /projects/0/einf914/data/20230111_0746_Plate02   521         2   \n",
       "\n",
       "          root strain          medium split Pbait CrossDate Temperature  ...  \\\n",
       "18    'Carrot'   'C2'  '001P100N100C'   'Y'   '-'  20230104          25  ...   \n",
       "25    'Carrot'   'C2'  '001P100N100C'   'Y'   '-'  20230104          25  ...   \n",
       "38    'Carrot'   'C2'  '001P100N100C'   'Y'   '-'  20230104          25  ...   \n",
       "78    'Carrot'   'C2'  '001P100N100C'   'Y'   '-'  20230104          25  ...   \n",
       "101   'Carrot'   'C2'  '001P100N100C'   'Y'   '-'  20230104          25  ...   \n",
       "...        ...    ...             ...   ...   ...       ...         ...  ...   \n",
       "1679  'Carrot'   'C2'  '001P100N100C'   'Y'   '-'  20230104          25  ...   \n",
       "1685  'Carrot'   'C2'  '001P100N100C'   'Y'   '-'  20230104          25  ...   \n",
       "1700  'Carrot'   'C2'  '001P100N100C'   'Y'   '-'  20230104          25  ...   \n",
       "1737  'Carrot'   'C2'  '001P100N100C'   'Y'   '-'  20230104          25  ...   \n",
       "1756  'Carrot'   'C2'  '001P100N100C'   'Y'   '-'  20230104          25  ...   \n",
       "\n",
       "     /Analysis/transform_corrupt.mat  \\\n",
       "18                             False   \n",
       "25                             False   \n",
       "38                             False   \n",
       "78                             False   \n",
       "101                            False   \n",
       "...                              ...   \n",
       "1679                           False   \n",
       "1685                           False   \n",
       "1700                           False   \n",
       "1737                           False   \n",
       "1756                           False   \n",
       "\n",
       "     /Analysis/skeleton_realigned_compressed.mat /Analysis/nx_graph_pruned.p  \\\n",
       "18                                          True                        True   \n",
       "25                                         False                       False   \n",
       "38                                          True                        True   \n",
       "78                                         False                       False   \n",
       "101                                        False                       False   \n",
       "...                                          ...                         ...   \n",
       "1679                                        True                        True   \n",
       "1685                                        True                        True   \n",
       "1700                                        True                        True   \n",
       "1737                                       False                       False   \n",
       "1756                                        True                        True   \n",
       "\n",
       "     /Analysis/nx_graph_pruned_width.p /Analysis/nx_graph_pruned_labeled.p  \\\n",
       "18                                True                                True   \n",
       "25                               False                               False   \n",
       "38                                True                                True   \n",
       "78                               False                               False   \n",
       "101                              False                               False   \n",
       "...                                ...                                 ...   \n",
       "1679                              True                                True   \n",
       "1685                              True                                True   \n",
       "1700                              True                                True   \n",
       "1737                             False                               False   \n",
       "1756                              True                                True   \n",
       "\n",
       "                    date                 folder Temp     unique_id  \\\n",
       "18    06.01.2023, 17:49:  20230106_1749_Plate02  NaN  521_20230104   \n",
       "25    25.01.2023, 05:54:  20230125_0554_Plate02  NaN  521_20230104   \n",
       "38    10.01.2023, 15:46:  20230110_1546_Plate02  NaN  521_20230104   \n",
       "78    23.01.2023, 15:54:  20230123_1554_Plate02  NaN  521_20230104   \n",
       "101   24.01.2023, 21:54:  20230124_2154_Plate02  NaN  521_20230104   \n",
       "...                  ...                    ...  ...           ...   \n",
       "1679  12.01.2023, 05:49:  20230112_0549_Plate02  NaN  521_20230104   \n",
       "1685  09.01.2023, 14:09:  20230109_1409_Plate02  NaN  521_20230104   \n",
       "1700  05.01.2023, 08:33:  20230105_0833_Plate02  NaN  521_20230104   \n",
       "1737  24.01.2023, 09:54:  20230124_0954_Plate02  NaN  521_20230104   \n",
       "1756  11.01.2023, 07:46:  20230111_0746_Plate02  NaN  521_20230104   \n",
       "\n",
       "                datetime  \n",
       "18   2023-01-06 17:49:00  \n",
       "25   2023-01-25 05:54:00  \n",
       "38   2023-01-10 15:46:00  \n",
       "78   2023-01-23 15:54:00  \n",
       "101  2023-01-24 21:54:00  \n",
       "...                  ...  \n",
       "1679 2023-01-12 05:49:00  \n",
       "1685 2023-01-09 14:09:00  \n",
       "1700 2023-01-05 08:33:00  \n",
       "1737 2023-01-24 09:54:00  \n",
       "1756 2023-01-11 07:46:00  \n",
       "\n",
       "[96 rows x 25 columns]"
      ]
     },
     "execution_count": 7,
     "metadata": {},
     "output_type": "execute_result"
    }
   ],
   "source": [
    "folders.loc[folders[\"/Analysis/transform.mat\"] == True]"
   ]
  },
  {
   "cell_type": "code",
   "execution_count": 12,
   "id": "4266288f-27bc-4a79-a988-44eea70c16d2",
   "metadata": {
    "collapsed": true,
    "jupyter": {
     "outputs_hidden": true
    },
    "tags": []
   },
   "outputs": [
    {
     "name": "stderr",
     "output_type": "stream",
     "text": [
      "sbatch: Single-node jobs run on a shared node by default. Add --exclusive if you want to use a node exclusively.\n",
      "sbatch: You will be charged for 0.25 node. A full node consists of 128 CPU cores, 983040 MiB of memory and 0 GPUs and can be shared by up to 4 jobs.\n"
     ]
    },
    {
     "name": "stdout",
     "output_type": "stream",
     "text": [
      "Submitted batch job 1872208\n"
     ]
    },
    {
     "name": "stderr",
     "output_type": "stream",
     "text": [
      "sbatch: Single-node jobs run on a shared node by default. Add --exclusive if you want to use a node exclusively.\n",
      "sbatch: You will be charged for 0.25 node. A full node consists of 128 CPU cores, 983040 MiB of memory and 0 GPUs and can be shared by up to 4 jobs.\n"
     ]
    },
    {
     "name": "stdout",
     "output_type": "stream",
     "text": [
      "Submitted batch job 1872209\n"
     ]
    },
    {
     "name": "stderr",
     "output_type": "stream",
     "text": [
      "sbatch: Single-node jobs run on a shared node by default. Add --exclusive if you want to use a node exclusively.\n",
      "sbatch: You will be charged for 0.25 node. A full node consists of 128 CPU cores, 983040 MiB of memory and 0 GPUs and can be shared by up to 4 jobs.\n"
     ]
    },
    {
     "name": "stdout",
     "output_type": "stream",
     "text": [
      "Submitted batch job 1872210\n"
     ]
    },
    {
     "name": "stderr",
     "output_type": "stream",
     "text": [
      "sbatch: Single-node jobs run on a shared node by default. Add --exclusive if you want to use a node exclusively.\n",
      "sbatch: You will be charged for 0.25 node. A full node consists of 128 CPU cores, 983040 MiB of memory and 0 GPUs and can be shared by up to 4 jobs.\n"
     ]
    },
    {
     "name": "stdout",
     "output_type": "stream",
     "text": [
      "Submitted batch job 1872211\n"
     ]
    },
    {
     "name": "stderr",
     "output_type": "stream",
     "text": [
      "sbatch: Single-node jobs run on a shared node by default. Add --exclusive if you want to use a node exclusively.\n",
      "sbatch: You will be charged for 0.25 node. A full node consists of 128 CPU cores, 983040 MiB of memory and 0 GPUs and can be shared by up to 4 jobs.\n"
     ]
    },
    {
     "name": "stdout",
     "output_type": "stream",
     "text": [
      "Submitted batch job 1872212\n"
     ]
    },
    {
     "name": "stderr",
     "output_type": "stream",
     "text": [
      "sbatch: Single-node jobs run on a shared node by default. Add --exclusive if you want to use a node exclusively.\n",
      "sbatch: You will be charged for 0.25 node. A full node consists of 128 CPU cores, 983040 MiB of memory and 0 GPUs and can be shared by up to 4 jobs.\n"
     ]
    },
    {
     "name": "stdout",
     "output_type": "stream",
     "text": [
      "Submitted batch job 1872213\n"
     ]
    },
    {
     "name": "stderr",
     "output_type": "stream",
     "text": [
      "sbatch: Single-node jobs run on a shared node by default. Add --exclusive if you want to use a node exclusively.\n",
      "sbatch: You will be charged for 0.25 node. A full node consists of 128 CPU cores, 983040 MiB of memory and 0 GPUs and can be shared by up to 4 jobs.\n"
     ]
    },
    {
     "name": "stdout",
     "output_type": "stream",
     "text": [
      "Submitted batch job 1872214\n"
     ]
    },
    {
     "name": "stderr",
     "output_type": "stream",
     "text": [
      "sbatch: Single-node jobs run on a shared node by default. Add --exclusive if you want to use a node exclusively.\n",
      "sbatch: You will be charged for 0.25 node. A full node consists of 128 CPU cores, 983040 MiB of memory and 0 GPUs and can be shared by up to 4 jobs.\n"
     ]
    },
    {
     "name": "stdout",
     "output_type": "stream",
     "text": [
      "Submitted batch job 1872215\n"
     ]
    },
    {
     "name": "stderr",
     "output_type": "stream",
     "text": [
      "sbatch: Single-node jobs run on a shared node by default. Add --exclusive if you want to use a node exclusively.\n",
      "sbatch: You will be charged for 0.25 node. A full node consists of 128 CPU cores, 983040 MiB of memory and 0 GPUs and can be shared by up to 4 jobs.\n"
     ]
    },
    {
     "name": "stdout",
     "output_type": "stream",
     "text": [
      "Submitted batch job 1872216\n"
     ]
    },
    {
     "name": "stderr",
     "output_type": "stream",
     "text": [
      "sbatch: Single-node jobs run on a shared node by default. Add --exclusive if you want to use a node exclusively.\n",
      "sbatch: You will be charged for 0.25 node. A full node consists of 128 CPU cores, 983040 MiB of memory and 0 GPUs and can be shared by up to 4 jobs.\n"
     ]
    },
    {
     "name": "stdout",
     "output_type": "stream",
     "text": [
      "Submitted batch job 1872217\n"
     ]
    },
    {
     "name": "stderr",
     "output_type": "stream",
     "text": [
      "sbatch: Single-node jobs run on a shared node by default. Add --exclusive if you want to use a node exclusively.\n",
      "sbatch: You will be charged for 0.25 node. A full node consists of 128 CPU cores, 983040 MiB of memory and 0 GPUs and can be shared by up to 4 jobs.\n"
     ]
    },
    {
     "name": "stdout",
     "output_type": "stream",
     "text": [
      "Submitted batch job 1872218\n"
     ]
    },
    {
     "name": "stderr",
     "output_type": "stream",
     "text": [
      "sbatch: Single-node jobs run on a shared node by default. Add --exclusive if you want to use a node exclusively.\n",
      "sbatch: You will be charged for 0.25 node. A full node consists of 128 CPU cores, 983040 MiB of memory and 0 GPUs and can be shared by up to 4 jobs.\n"
     ]
    },
    {
     "name": "stdout",
     "output_type": "stream",
     "text": [
      "Submitted batch job 1872219\n"
     ]
    },
    {
     "name": "stderr",
     "output_type": "stream",
     "text": [
      "sbatch: Single-node jobs run on a shared node by default. Add --exclusive if you want to use a node exclusively.\n",
      "sbatch: You will be charged for 0.25 node. A full node consists of 128 CPU cores, 983040 MiB of memory and 0 GPUs and can be shared by up to 4 jobs.\n"
     ]
    },
    {
     "name": "stdout",
     "output_type": "stream",
     "text": [
      "Submitted batch job 1872220\n"
     ]
    },
    {
     "name": "stderr",
     "output_type": "stream",
     "text": [
      "sbatch: Single-node jobs run on a shared node by default. Add --exclusive if you want to use a node exclusively.\n",
      "sbatch: You will be charged for 0.25 node. A full node consists of 128 CPU cores, 983040 MiB of memory and 0 GPUs and can be shared by up to 4 jobs.\n"
     ]
    },
    {
     "name": "stdout",
     "output_type": "stream",
     "text": [
      "Submitted batch job 1872221\n"
     ]
    },
    {
     "name": "stderr",
     "output_type": "stream",
     "text": [
      "sbatch: Single-node jobs run on a shared node by default. Add --exclusive if you want to use a node exclusively.\n",
      "sbatch: You will be charged for 0.25 node. A full node consists of 128 CPU cores, 983040 MiB of memory and 0 GPUs and can be shared by up to 4 jobs.\n"
     ]
    },
    {
     "name": "stdout",
     "output_type": "stream",
     "text": [
      "Submitted batch job 1872222\n"
     ]
    },
    {
     "name": "stderr",
     "output_type": "stream",
     "text": [
      "sbatch: Single-node jobs run on a shared node by default. Add --exclusive if you want to use a node exclusively.\n",
      "sbatch: You will be charged for 0.25 node. A full node consists of 128 CPU cores, 983040 MiB of memory and 0 GPUs and can be shared by up to 4 jobs.\n"
     ]
    },
    {
     "name": "stdout",
     "output_type": "stream",
     "text": [
      "Submitted batch job 1872223\n"
     ]
    },
    {
     "name": "stderr",
     "output_type": "stream",
     "text": [
      "sbatch: Single-node jobs run on a shared node by default. Add --exclusive if you want to use a node exclusively.\n",
      "sbatch: You will be charged for 0.25 node. A full node consists of 128 CPU cores, 983040 MiB of memory and 0 GPUs and can be shared by up to 4 jobs.\n"
     ]
    },
    {
     "name": "stdout",
     "output_type": "stream",
     "text": [
      "Submitted batch job 1872224\n"
     ]
    },
    {
     "name": "stderr",
     "output_type": "stream",
     "text": [
      "sbatch: Single-node jobs run on a shared node by default. Add --exclusive if you want to use a node exclusively.\n",
      "sbatch: You will be charged for 0.25 node. A full node consists of 128 CPU cores, 983040 MiB of memory and 0 GPUs and can be shared by up to 4 jobs.\n"
     ]
    },
    {
     "name": "stdout",
     "output_type": "stream",
     "text": [
      "Submitted batch job 1872225\n"
     ]
    },
    {
     "name": "stderr",
     "output_type": "stream",
     "text": [
      "sbatch: Single-node jobs run on a shared node by default. Add --exclusive if you want to use a node exclusively.\n",
      "sbatch: You will be charged for 0.25 node. A full node consists of 128 CPU cores, 983040 MiB of memory and 0 GPUs and can be shared by up to 4 jobs.\n"
     ]
    },
    {
     "name": "stdout",
     "output_type": "stream",
     "text": [
      "Submitted batch job 1872226\n"
     ]
    },
    {
     "name": "stderr",
     "output_type": "stream",
     "text": [
      "sbatch: Single-node jobs run on a shared node by default. Add --exclusive if you want to use a node exclusively.\n",
      "sbatch: You will be charged for 0.25 node. A full node consists of 128 CPU cores, 983040 MiB of memory and 0 GPUs and can be shared by up to 4 jobs.\n"
     ]
    },
    {
     "name": "stdout",
     "output_type": "stream",
     "text": [
      "Submitted batch job 1872227\n"
     ]
    },
    {
     "name": "stderr",
     "output_type": "stream",
     "text": [
      "sbatch: Single-node jobs run on a shared node by default. Add --exclusive if you want to use a node exclusively.\n",
      "sbatch: You will be charged for 0.25 node. A full node consists of 128 CPU cores, 983040 MiB of memory and 0 GPUs and can be shared by up to 4 jobs.\n"
     ]
    },
    {
     "name": "stdout",
     "output_type": "stream",
     "text": [
      "Submitted batch job 1872228\n"
     ]
    },
    {
     "name": "stderr",
     "output_type": "stream",
     "text": [
      "sbatch: Single-node jobs run on a shared node by default. Add --exclusive if you want to use a node exclusively.\n",
      "sbatch: You will be charged for 0.25 node. A full node consists of 128 CPU cores, 983040 MiB of memory and 0 GPUs and can be shared by up to 4 jobs.\n"
     ]
    },
    {
     "name": "stdout",
     "output_type": "stream",
     "text": [
      "Submitted batch job 1872229\n"
     ]
    },
    {
     "name": "stderr",
     "output_type": "stream",
     "text": [
      "sbatch: Single-node jobs run on a shared node by default. Add --exclusive if you want to use a node exclusively.\n",
      "sbatch: You will be charged for 0.25 node. A full node consists of 128 CPU cores, 983040 MiB of memory and 0 GPUs and can be shared by up to 4 jobs.\n"
     ]
    },
    {
     "name": "stdout",
     "output_type": "stream",
     "text": [
      "Submitted batch job 1872230\n"
     ]
    },
    {
     "name": "stderr",
     "output_type": "stream",
     "text": [
      "sbatch: Single-node jobs run on a shared node by default. Add --exclusive if you want to use a node exclusively.\n",
      "sbatch: You will be charged for 0.25 node. A full node consists of 128 CPU cores, 983040 MiB of memory and 0 GPUs and can be shared by up to 4 jobs.\n"
     ]
    },
    {
     "name": "stdout",
     "output_type": "stream",
     "text": [
      "Submitted batch job 1872231\n"
     ]
    },
    {
     "name": "stderr",
     "output_type": "stream",
     "text": [
      "sbatch: Single-node jobs run on a shared node by default. Add --exclusive if you want to use a node exclusively.\n",
      "sbatch: You will be charged for 0.25 node. A full node consists of 128 CPU cores, 983040 MiB of memory and 0 GPUs and can be shared by up to 4 jobs.\n"
     ]
    },
    {
     "name": "stdout",
     "output_type": "stream",
     "text": [
      "Submitted batch job 1872232\n"
     ]
    },
    {
     "name": "stderr",
     "output_type": "stream",
     "text": [
      "sbatch: Single-node jobs run on a shared node by default. Add --exclusive if you want to use a node exclusively.\n",
      "sbatch: You will be charged for 0.25 node. A full node consists of 128 CPU cores, 983040 MiB of memory and 0 GPUs and can be shared by up to 4 jobs.\n"
     ]
    },
    {
     "name": "stdout",
     "output_type": "stream",
     "text": [
      "Submitted batch job 1872233\n"
     ]
    },
    {
     "name": "stderr",
     "output_type": "stream",
     "text": [
      "sbatch: Single-node jobs run on a shared node by default. Add --exclusive if you want to use a node exclusively.\n",
      "sbatch: You will be charged for 0.25 node. A full node consists of 128 CPU cores, 983040 MiB of memory and 0 GPUs and can be shared by up to 4 jobs.\n"
     ]
    },
    {
     "name": "stdout",
     "output_type": "stream",
     "text": [
      "Submitted batch job 1872234\n"
     ]
    },
    {
     "name": "stderr",
     "output_type": "stream",
     "text": [
      "sbatch: Single-node jobs run on a shared node by default. Add --exclusive if you want to use a node exclusively.\n",
      "sbatch: You will be charged for 0.25 node. A full node consists of 128 CPU cores, 983040 MiB of memory and 0 GPUs and can be shared by up to 4 jobs.\n"
     ]
    },
    {
     "name": "stdout",
     "output_type": "stream",
     "text": [
      "Submitted batch job 1872235\n"
     ]
    },
    {
     "name": "stderr",
     "output_type": "stream",
     "text": [
      "sbatch: Single-node jobs run on a shared node by default. Add --exclusive if you want to use a node exclusively.\n",
      "sbatch: You will be charged for 0.25 node. A full node consists of 128 CPU cores, 983040 MiB of memory and 0 GPUs and can be shared by up to 4 jobs.\n"
     ]
    },
    {
     "name": "stdout",
     "output_type": "stream",
     "text": [
      "Submitted batch job 1872236\n"
     ]
    },
    {
     "name": "stderr",
     "output_type": "stream",
     "text": [
      "sbatch: Single-node jobs run on a shared node by default. Add --exclusive if you want to use a node exclusively.\n",
      "sbatch: You will be charged for 0.25 node. A full node consists of 128 CPU cores, 983040 MiB of memory and 0 GPUs and can be shared by up to 4 jobs.\n"
     ]
    },
    {
     "name": "stdout",
     "output_type": "stream",
     "text": [
      "Submitted batch job 1872237\n"
     ]
    },
    {
     "name": "stderr",
     "output_type": "stream",
     "text": [
      "sbatch: Single-node jobs run on a shared node by default. Add --exclusive if you want to use a node exclusively.\n",
      "sbatch: You will be charged for 0.25 node. A full node consists of 128 CPU cores, 983040 MiB of memory and 0 GPUs and can be shared by up to 4 jobs.\n"
     ]
    },
    {
     "name": "stdout",
     "output_type": "stream",
     "text": [
      "Submitted batch job 1872238\n"
     ]
    },
    {
     "name": "stderr",
     "output_type": "stream",
     "text": [
      "sbatch: Single-node jobs run on a shared node by default. Add --exclusive if you want to use a node exclusively.\n",
      "sbatch: You will be charged for 0.25 node. A full node consists of 128 CPU cores, 983040 MiB of memory and 0 GPUs and can be shared by up to 4 jobs.\n"
     ]
    },
    {
     "name": "stdout",
     "output_type": "stream",
     "text": [
      "Submitted batch job 1872239\n"
     ]
    },
    {
     "name": "stderr",
     "output_type": "stream",
     "text": [
      "sbatch: Single-node jobs run on a shared node by default. Add --exclusive if you want to use a node exclusively.\n",
      "sbatch: You will be charged for 0.25 node. A full node consists of 128 CPU cores, 983040 MiB of memory and 0 GPUs and can be shared by up to 4 jobs.\n"
     ]
    },
    {
     "name": "stdout",
     "output_type": "stream",
     "text": [
      "Submitted batch job 1872240\n"
     ]
    },
    {
     "name": "stderr",
     "output_type": "stream",
     "text": [
      "sbatch: Single-node jobs run on a shared node by default. Add --exclusive if you want to use a node exclusively.\n",
      "sbatch: You will be charged for 0.25 node. A full node consists of 128 CPU cores, 983040 MiB of memory and 0 GPUs and can be shared by up to 4 jobs.\n"
     ]
    },
    {
     "name": "stdout",
     "output_type": "stream",
     "text": [
      "Submitted batch job 1872241\n"
     ]
    },
    {
     "name": "stderr",
     "output_type": "stream",
     "text": [
      "sbatch: Single-node jobs run on a shared node by default. Add --exclusive if you want to use a node exclusively.\n",
      "sbatch: You will be charged for 0.25 node. A full node consists of 128 CPU cores, 983040 MiB of memory and 0 GPUs and can be shared by up to 4 jobs.\n"
     ]
    },
    {
     "name": "stdout",
     "output_type": "stream",
     "text": [
      "Submitted batch job 1872242\n"
     ]
    },
    {
     "name": "stderr",
     "output_type": "stream",
     "text": [
      "sbatch: Single-node jobs run on a shared node by default. Add --exclusive if you want to use a node exclusively.\n",
      "sbatch: You will be charged for 0.25 node. A full node consists of 128 CPU cores, 983040 MiB of memory and 0 GPUs and can be shared by up to 4 jobs.\n"
     ]
    },
    {
     "name": "stdout",
     "output_type": "stream",
     "text": [
      "Submitted batch job 1872243\n",
      "Submitted batch job 1872244\n"
     ]
    },
    {
     "name": "stderr",
     "output_type": "stream",
     "text": [
      "sbatch: Single-node jobs run on a shared node by default. Add --exclusive if you want to use a node exclusively.\n",
      "sbatch: You will be charged for 0.25 node. A full node consists of 128 CPU cores, 983040 MiB of memory and 0 GPUs and can be shared by up to 4 jobs.\n",
      "sbatch: Single-node jobs run on a shared node by default. Add --exclusive if you want to use a node exclusively.\n",
      "sbatch: You will be charged for 0.25 node. A full node consists of 128 CPU cores, 983040 MiB of memory and 0 GPUs and can be shared by up to 4 jobs.\n"
     ]
    },
    {
     "name": "stdout",
     "output_type": "stream",
     "text": [
      "Submitted batch job 1872245\n"
     ]
    },
    {
     "name": "stderr",
     "output_type": "stream",
     "text": [
      "sbatch: Single-node jobs run on a shared node by default. Add --exclusive if you want to use a node exclusively.\n",
      "sbatch: You will be charged for 0.25 node. A full node consists of 128 CPU cores, 983040 MiB of memory and 0 GPUs and can be shared by up to 4 jobs.\n"
     ]
    },
    {
     "name": "stdout",
     "output_type": "stream",
     "text": [
      "Submitted batch job 1872246\n"
     ]
    },
    {
     "name": "stderr",
     "output_type": "stream",
     "text": [
      "sbatch: Single-node jobs run on a shared node by default. Add --exclusive if you want to use a node exclusively.\n",
      "sbatch: You will be charged for 0.25 node. A full node consists of 128 CPU cores, 983040 MiB of memory and 0 GPUs and can be shared by up to 4 jobs.\n"
     ]
    },
    {
     "name": "stdout",
     "output_type": "stream",
     "text": [
      "Submitted batch job 1872247\n"
     ]
    },
    {
     "name": "stderr",
     "output_type": "stream",
     "text": [
      "sbatch: Single-node jobs run on a shared node by default. Add --exclusive if you want to use a node exclusively.\n",
      "sbatch: You will be charged for 0.25 node. A full node consists of 128 CPU cores, 983040 MiB of memory and 0 GPUs and can be shared by up to 4 jobs.\n"
     ]
    },
    {
     "name": "stdout",
     "output_type": "stream",
     "text": [
      "Submitted batch job 1872248\n"
     ]
    },
    {
     "name": "stderr",
     "output_type": "stream",
     "text": [
      "sbatch: Single-node jobs run on a shared node by default. Add --exclusive if you want to use a node exclusively.\n",
      "sbatch: You will be charged for 0.25 node. A full node consists of 128 CPU cores, 983040 MiB of memory and 0 GPUs and can be shared by up to 4 jobs.\n"
     ]
    },
    {
     "name": "stdout",
     "output_type": "stream",
     "text": [
      "Submitted batch job 1872249\n"
     ]
    },
    {
     "name": "stderr",
     "output_type": "stream",
     "text": [
      "sbatch: Single-node jobs run on a shared node by default. Add --exclusive if you want to use a node exclusively.\n",
      "sbatch: You will be charged for 0.25 node. A full node consists of 128 CPU cores, 983040 MiB of memory and 0 GPUs and can be shared by up to 4 jobs.\n"
     ]
    },
    {
     "name": "stdout",
     "output_type": "stream",
     "text": [
      "Submitted batch job 1872250\n"
     ]
    },
    {
     "name": "stderr",
     "output_type": "stream",
     "text": [
      "sbatch: Single-node jobs run on a shared node by default. Add --exclusive if you want to use a node exclusively.\n",
      "sbatch: You will be charged for 0.25 node. A full node consists of 128 CPU cores, 983040 MiB of memory and 0 GPUs and can be shared by up to 4 jobs.\n"
     ]
    },
    {
     "name": "stdout",
     "output_type": "stream",
     "text": [
      "Submitted batch job 1872251\n"
     ]
    },
    {
     "name": "stderr",
     "output_type": "stream",
     "text": [
      "sbatch: Single-node jobs run on a shared node by default. Add --exclusive if you want to use a node exclusively.\n",
      "sbatch: You will be charged for 0.25 node. A full node consists of 128 CPU cores, 983040 MiB of memory and 0 GPUs and can be shared by up to 4 jobs.\n"
     ]
    },
    {
     "name": "stdout",
     "output_type": "stream",
     "text": [
      "Submitted batch job 1872252\n"
     ]
    },
    {
     "name": "stderr",
     "output_type": "stream",
     "text": [
      "sbatch: Single-node jobs run on a shared node by default. Add --exclusive if you want to use a node exclusively.\n",
      "sbatch: You will be charged for 0.25 node. A full node consists of 128 CPU cores, 983040 MiB of memory and 0 GPUs and can be shared by up to 4 jobs.\n"
     ]
    },
    {
     "name": "stdout",
     "output_type": "stream",
     "text": [
      "Submitted batch job 1872253\n"
     ]
    },
    {
     "name": "stderr",
     "output_type": "stream",
     "text": [
      "sbatch: Single-node jobs run on a shared node by default. Add --exclusive if you want to use a node exclusively.\n",
      "sbatch: You will be charged for 0.25 node. A full node consists of 128 CPU cores, 983040 MiB of memory and 0 GPUs and can be shared by up to 4 jobs.\n"
     ]
    },
    {
     "name": "stdout",
     "output_type": "stream",
     "text": [
      "Submitted batch job 1872254\n"
     ]
    },
    {
     "name": "stderr",
     "output_type": "stream",
     "text": [
      "sbatch: Single-node jobs run on a shared node by default. Add --exclusive if you want to use a node exclusively.\n",
      "sbatch: You will be charged for 0.25 node. A full node consists of 128 CPU cores, 983040 MiB of memory and 0 GPUs and can be shared by up to 4 jobs.\n"
     ]
    },
    {
     "name": "stdout",
     "output_type": "stream",
     "text": [
      "Submitted batch job 1872255\n"
     ]
    },
    {
     "name": "stderr",
     "output_type": "stream",
     "text": [
      "sbatch: Single-node jobs run on a shared node by default. Add --exclusive if you want to use a node exclusively.\n",
      "sbatch: You will be charged for 0.25 node. A full node consists of 128 CPU cores, 983040 MiB of memory and 0 GPUs and can be shared by up to 4 jobs.\n"
     ]
    },
    {
     "name": "stdout",
     "output_type": "stream",
     "text": [
      "Submitted batch job 1872256\n"
     ]
    },
    {
     "name": "stderr",
     "output_type": "stream",
     "text": [
      "sbatch: Single-node jobs run on a shared node by default. Add --exclusive if you want to use a node exclusively.\n",
      "sbatch: You will be charged for 0.25 node. A full node consists of 128 CPU cores, 983040 MiB of memory and 0 GPUs and can be shared by up to 4 jobs.\n"
     ]
    },
    {
     "name": "stdout",
     "output_type": "stream",
     "text": [
      "Submitted batch job 1872257\n"
     ]
    },
    {
     "name": "stderr",
     "output_type": "stream",
     "text": [
      "sbatch: Single-node jobs run on a shared node by default. Add --exclusive if you want to use a node exclusively.\n",
      "sbatch: You will be charged for 0.25 node. A full node consists of 128 CPU cores, 983040 MiB of memory and 0 GPUs and can be shared by up to 4 jobs.\n"
     ]
    },
    {
     "name": "stdout",
     "output_type": "stream",
     "text": [
      "Submitted batch job 1872258\n"
     ]
    },
    {
     "name": "stderr",
     "output_type": "stream",
     "text": [
      "sbatch: Single-node jobs run on a shared node by default. Add --exclusive if you want to use a node exclusively.\n",
      "sbatch: You will be charged for 0.25 node. A full node consists of 128 CPU cores, 983040 MiB of memory and 0 GPUs and can be shared by up to 4 jobs.\n"
     ]
    },
    {
     "name": "stdout",
     "output_type": "stream",
     "text": [
      "Submitted batch job 1872259\n"
     ]
    },
    {
     "name": "stderr",
     "output_type": "stream",
     "text": [
      "sbatch: Single-node jobs run on a shared node by default. Add --exclusive if you want to use a node exclusively.\n",
      "sbatch: You will be charged for 0.25 node. A full node consists of 128 CPU cores, 983040 MiB of memory and 0 GPUs and can be shared by up to 4 jobs.\n"
     ]
    },
    {
     "name": "stdout",
     "output_type": "stream",
     "text": [
      "Submitted batch job 1872260\n"
     ]
    },
    {
     "name": "stderr",
     "output_type": "stream",
     "text": [
      "sbatch: Single-node jobs run on a shared node by default. Add --exclusive if you want to use a node exclusively.\n",
      "sbatch: You will be charged for 0.25 node. A full node consists of 128 CPU cores, 983040 MiB of memory and 0 GPUs and can be shared by up to 4 jobs.\n"
     ]
    },
    {
     "name": "stdout",
     "output_type": "stream",
     "text": [
      "Submitted batch job 1872261\n"
     ]
    },
    {
     "name": "stderr",
     "output_type": "stream",
     "text": [
      "sbatch: Single-node jobs run on a shared node by default. Add --exclusive if you want to use a node exclusively.\n",
      "sbatch: You will be charged for 0.25 node. A full node consists of 128 CPU cores, 983040 MiB of memory and 0 GPUs and can be shared by up to 4 jobs.\n"
     ]
    },
    {
     "name": "stdout",
     "output_type": "stream",
     "text": [
      "Submitted batch job 1872262\n"
     ]
    },
    {
     "name": "stderr",
     "output_type": "stream",
     "text": [
      "sbatch: Single-node jobs run on a shared node by default. Add --exclusive if you want to use a node exclusively.\n",
      "sbatch: You will be charged for 0.25 node. A full node consists of 128 CPU cores, 983040 MiB of memory and 0 GPUs and can be shared by up to 4 jobs.\n"
     ]
    },
    {
     "name": "stdout",
     "output_type": "stream",
     "text": [
      "Submitted batch job 1872263\n"
     ]
    },
    {
     "name": "stderr",
     "output_type": "stream",
     "text": [
      "sbatch: Single-node jobs run on a shared node by default. Add --exclusive if you want to use a node exclusively.\n",
      "sbatch: You will be charged for 0.25 node. A full node consists of 128 CPU cores, 983040 MiB of memory and 0 GPUs and can be shared by up to 4 jobs.\n"
     ]
    },
    {
     "name": "stdout",
     "output_type": "stream",
     "text": [
      "Submitted batch job 1872264\n"
     ]
    },
    {
     "name": "stderr",
     "output_type": "stream",
     "text": [
      "sbatch: Single-node jobs run on a shared node by default. Add --exclusive if you want to use a node exclusively.\n",
      "sbatch: You will be charged for 0.25 node. A full node consists of 128 CPU cores, 983040 MiB of memory and 0 GPUs and can be shared by up to 4 jobs.\n"
     ]
    },
    {
     "name": "stdout",
     "output_type": "stream",
     "text": [
      "Submitted batch job 1872265\n"
     ]
    },
    {
     "name": "stderr",
     "output_type": "stream",
     "text": [
      "sbatch: Single-node jobs run on a shared node by default. Add --exclusive if you want to use a node exclusively.\n",
      "sbatch: You will be charged for 0.25 node. A full node consists of 128 CPU cores, 983040 MiB of memory and 0 GPUs and can be shared by up to 4 jobs.\n"
     ]
    },
    {
     "name": "stdout",
     "output_type": "stream",
     "text": [
      "Submitted batch job 1872266\n"
     ]
    },
    {
     "name": "stderr",
     "output_type": "stream",
     "text": [
      "sbatch: Single-node jobs run on a shared node by default. Add --exclusive if you want to use a node exclusively.\n",
      "sbatch: You will be charged for 0.25 node. A full node consists of 128 CPU cores, 983040 MiB of memory and 0 GPUs and can be shared by up to 4 jobs.\n"
     ]
    },
    {
     "name": "stdout",
     "output_type": "stream",
     "text": [
      "Submitted batch job 1872267\n"
     ]
    },
    {
     "name": "stderr",
     "output_type": "stream",
     "text": [
      "sbatch: Single-node jobs run on a shared node by default. Add --exclusive if you want to use a node exclusively.\n",
      "sbatch: You will be charged for 0.25 node. A full node consists of 128 CPU cores, 983040 MiB of memory and 0 GPUs and can be shared by up to 4 jobs.\n"
     ]
    },
    {
     "name": "stdout",
     "output_type": "stream",
     "text": [
      "Submitted batch job 1872268\n"
     ]
    },
    {
     "name": "stderr",
     "output_type": "stream",
     "text": [
      "sbatch: Single-node jobs run on a shared node by default. Add --exclusive if you want to use a node exclusively.\n",
      "sbatch: You will be charged for 0.25 node. A full node consists of 128 CPU cores, 983040 MiB of memory and 0 GPUs and can be shared by up to 4 jobs.\n"
     ]
    },
    {
     "name": "stdout",
     "output_type": "stream",
     "text": [
      "Submitted batch job 1872269\n"
     ]
    },
    {
     "name": "stderr",
     "output_type": "stream",
     "text": [
      "sbatch: Single-node jobs run on a shared node by default. Add --exclusive if you want to use a node exclusively.\n",
      "sbatch: You will be charged for 0.25 node. A full node consists of 128 CPU cores, 983040 MiB of memory and 0 GPUs and can be shared by up to 4 jobs.\n"
     ]
    },
    {
     "name": "stdout",
     "output_type": "stream",
     "text": [
      "Submitted batch job 1872270\n"
     ]
    },
    {
     "name": "stderr",
     "output_type": "stream",
     "text": [
      "sbatch: Single-node jobs run on a shared node by default. Add --exclusive if you want to use a node exclusively.\n",
      "sbatch: You will be charged for 0.25 node. A full node consists of 128 CPU cores, 983040 MiB of memory and 0 GPUs and can be shared by up to 4 jobs.\n"
     ]
    },
    {
     "name": "stdout",
     "output_type": "stream",
     "text": [
      "Submitted batch job 1872271\n"
     ]
    },
    {
     "name": "stderr",
     "output_type": "stream",
     "text": [
      "sbatch: Single-node jobs run on a shared node by default. Add --exclusive if you want to use a node exclusively.\n",
      "sbatch: You will be charged for 0.25 node. A full node consists of 128 CPU cores, 983040 MiB of memory and 0 GPUs and can be shared by up to 4 jobs.\n"
     ]
    },
    {
     "name": "stdout",
     "output_type": "stream",
     "text": [
      "Submitted batch job 1872272\n"
     ]
    },
    {
     "name": "stderr",
     "output_type": "stream",
     "text": [
      "sbatch: Single-node jobs run on a shared node by default. Add --exclusive if you want to use a node exclusively.\n",
      "sbatch: You will be charged for 0.25 node. A full node consists of 128 CPU cores, 983040 MiB of memory and 0 GPUs and can be shared by up to 4 jobs.\n"
     ]
    },
    {
     "name": "stdout",
     "output_type": "stream",
     "text": [
      "Submitted batch job 1872273\n"
     ]
    },
    {
     "name": "stderr",
     "output_type": "stream",
     "text": [
      "sbatch: Single-node jobs run on a shared node by default. Add --exclusive if you want to use a node exclusively.\n",
      "sbatch: You will be charged for 0.25 node. A full node consists of 128 CPU cores, 983040 MiB of memory and 0 GPUs and can be shared by up to 4 jobs.\n"
     ]
    },
    {
     "name": "stdout",
     "output_type": "stream",
     "text": [
      "Submitted batch job 1872274\n"
     ]
    },
    {
     "name": "stderr",
     "output_type": "stream",
     "text": [
      "sbatch: Single-node jobs run on a shared node by default. Add --exclusive if you want to use a node exclusively.\n",
      "sbatch: You will be charged for 0.25 node. A full node consists of 128 CPU cores, 983040 MiB of memory and 0 GPUs and can be shared by up to 4 jobs.\n"
     ]
    },
    {
     "name": "stdout",
     "output_type": "stream",
     "text": [
      "Submitted batch job 1872275\n"
     ]
    },
    {
     "name": "stderr",
     "output_type": "stream",
     "text": [
      "sbatch: Single-node jobs run on a shared node by default. Add --exclusive if you want to use a node exclusively.\n",
      "sbatch: You will be charged for 0.25 node. A full node consists of 128 CPU cores, 983040 MiB of memory and 0 GPUs and can be shared by up to 4 jobs.\n"
     ]
    },
    {
     "name": "stdout",
     "output_type": "stream",
     "text": [
      "Submitted batch job 1872276\n"
     ]
    },
    {
     "name": "stderr",
     "output_type": "stream",
     "text": [
      "sbatch: Single-node jobs run on a shared node by default. Add --exclusive if you want to use a node exclusively.\n",
      "sbatch: You will be charged for 0.25 node. A full node consists of 128 CPU cores, 983040 MiB of memory and 0 GPUs and can be shared by up to 4 jobs.\n"
     ]
    },
    {
     "name": "stdout",
     "output_type": "stream",
     "text": [
      "Submitted batch job 1872277\n"
     ]
    },
    {
     "name": "stderr",
     "output_type": "stream",
     "text": [
      "sbatch: Single-node jobs run on a shared node by default. Add --exclusive if you want to use a node exclusively.\n",
      "sbatch: You will be charged for 0.25 node. A full node consists of 128 CPU cores, 983040 MiB of memory and 0 GPUs and can be shared by up to 4 jobs.\n"
     ]
    },
    {
     "name": "stdout",
     "output_type": "stream",
     "text": [
      "Submitted batch job 1872278\n"
     ]
    },
    {
     "name": "stderr",
     "output_type": "stream",
     "text": [
      "sbatch: Single-node jobs run on a shared node by default. Add --exclusive if you want to use a node exclusively.\n",
      "sbatch: You will be charged for 0.25 node. A full node consists of 128 CPU cores, 983040 MiB of memory and 0 GPUs and can be shared by up to 4 jobs.\n"
     ]
    },
    {
     "name": "stdout",
     "output_type": "stream",
     "text": [
      "Submitted batch job 1872279\n"
     ]
    },
    {
     "name": "stderr",
     "output_type": "stream",
     "text": [
      "sbatch: Single-node jobs run on a shared node by default. Add --exclusive if you want to use a node exclusively.\n",
      "sbatch: You will be charged for 0.25 node. A full node consists of 128 CPU cores, 983040 MiB of memory and 0 GPUs and can be shared by up to 4 jobs.\n"
     ]
    },
    {
     "name": "stdout",
     "output_type": "stream",
     "text": [
      "Submitted batch job 1872280\n"
     ]
    },
    {
     "name": "stderr",
     "output_type": "stream",
     "text": [
      "sbatch: Single-node jobs run on a shared node by default. Add --exclusive if you want to use a node exclusively.\n",
      "sbatch: You will be charged for 0.25 node. A full node consists of 128 CPU cores, 983040 MiB of memory and 0 GPUs and can be shared by up to 4 jobs.\n"
     ]
    },
    {
     "name": "stdout",
     "output_type": "stream",
     "text": [
      "Submitted batch job 1872281\n"
     ]
    },
    {
     "name": "stderr",
     "output_type": "stream",
     "text": [
      "sbatch: Single-node jobs run on a shared node by default. Add --exclusive if you want to use a node exclusively.\n",
      "sbatch: You will be charged for 0.25 node. A full node consists of 128 CPU cores, 983040 MiB of memory and 0 GPUs and can be shared by up to 4 jobs.\n"
     ]
    },
    {
     "name": "stdout",
     "output_type": "stream",
     "text": [
      "Submitted batch job 1872282\n"
     ]
    },
    {
     "name": "stderr",
     "output_type": "stream",
     "text": [
      "sbatch: Single-node jobs run on a shared node by default. Add --exclusive if you want to use a node exclusively.\n",
      "sbatch: You will be charged for 0.25 node. A full node consists of 128 CPU cores, 983040 MiB of memory and 0 GPUs and can be shared by up to 4 jobs.\n"
     ]
    },
    {
     "name": "stdout",
     "output_type": "stream",
     "text": [
      "Submitted batch job 1872283\n"
     ]
    },
    {
     "name": "stderr",
     "output_type": "stream",
     "text": [
      "sbatch: Single-node jobs run on a shared node by default. Add --exclusive if you want to use a node exclusively.\n",
      "sbatch: You will be charged for 0.25 node. A full node consists of 128 CPU cores, 983040 MiB of memory and 0 GPUs and can be shared by up to 4 jobs.\n"
     ]
    },
    {
     "name": "stdout",
     "output_type": "stream",
     "text": [
      "Submitted batch job 1872284\n"
     ]
    },
    {
     "name": "stderr",
     "output_type": "stream",
     "text": [
      "sbatch: Single-node jobs run on a shared node by default. Add --exclusive if you want to use a node exclusively.\n",
      "sbatch: You will be charged for 0.25 node. A full node consists of 128 CPU cores, 983040 MiB of memory and 0 GPUs and can be shared by up to 4 jobs.\n"
     ]
    },
    {
     "name": "stdout",
     "output_type": "stream",
     "text": [
      "Submitted batch job 1872285\n"
     ]
    },
    {
     "name": "stderr",
     "output_type": "stream",
     "text": [
      "sbatch: Single-node jobs run on a shared node by default. Add --exclusive if you want to use a node exclusively.\n",
      "sbatch: You will be charged for 0.25 node. A full node consists of 128 CPU cores, 983040 MiB of memory and 0 GPUs and can be shared by up to 4 jobs.\n"
     ]
    },
    {
     "name": "stdout",
     "output_type": "stream",
     "text": [
      "Submitted batch job 1872286\n"
     ]
    },
    {
     "name": "stderr",
     "output_type": "stream",
     "text": [
      "sbatch: Single-node jobs run on a shared node by default. Add --exclusive if you want to use a node exclusively.\n",
      "sbatch: You will be charged for 0.25 node. A full node consists of 128 CPU cores, 983040 MiB of memory and 0 GPUs and can be shared by up to 4 jobs.\n"
     ]
    },
    {
     "name": "stdout",
     "output_type": "stream",
     "text": [
      "Submitted batch job 1872287\n"
     ]
    },
    {
     "name": "stderr",
     "output_type": "stream",
     "text": [
      "sbatch: Single-node jobs run on a shared node by default. Add --exclusive if you want to use a node exclusively.\n",
      "sbatch: You will be charged for 0.25 node. A full node consists of 128 CPU cores, 983040 MiB of memory and 0 GPUs and can be shared by up to 4 jobs.\n"
     ]
    },
    {
     "name": "stdout",
     "output_type": "stream",
     "text": [
      "Submitted batch job 1872288\n"
     ]
    },
    {
     "name": "stderr",
     "output_type": "stream",
     "text": [
      "sbatch: Single-node jobs run on a shared node by default. Add --exclusive if you want to use a node exclusively.\n",
      "sbatch: You will be charged for 0.25 node. A full node consists of 128 CPU cores, 983040 MiB of memory and 0 GPUs and can be shared by up to 4 jobs.\n"
     ]
    },
    {
     "name": "stdout",
     "output_type": "stream",
     "text": [
      "Submitted batch job 1872289\n"
     ]
    },
    {
     "name": "stderr",
     "output_type": "stream",
     "text": [
      "sbatch: Single-node jobs run on a shared node by default. Add --exclusive if you want to use a node exclusively.\n",
      "sbatch: You will be charged for 0.25 node. A full node consists of 128 CPU cores, 983040 MiB of memory and 0 GPUs and can be shared by up to 4 jobs.\n"
     ]
    },
    {
     "name": "stdout",
     "output_type": "stream",
     "text": [
      "Submitted batch job 1872290\n"
     ]
    },
    {
     "name": "stderr",
     "output_type": "stream",
     "text": [
      "sbatch: Single-node jobs run on a shared node by default. Add --exclusive if you want to use a node exclusively.\n",
      "sbatch: You will be charged for 0.25 node. A full node consists of 128 CPU cores, 983040 MiB of memory and 0 GPUs and can be shared by up to 4 jobs.\n"
     ]
    },
    {
     "name": "stdout",
     "output_type": "stream",
     "text": [
      "Submitted batch job 1872291\n",
      "Submitted batch job 1872292\n"
     ]
    },
    {
     "name": "stderr",
     "output_type": "stream",
     "text": [
      "sbatch: Single-node jobs run on a shared node by default. Add --exclusive if you want to use a node exclusively.\n",
      "sbatch: You will be charged for 0.25 node. A full node consists of 128 CPU cores, 983040 MiB of memory and 0 GPUs and can be shared by up to 4 jobs.\n"
     ]
    },
    {
     "name": "stdout",
     "output_type": "stream",
     "text": [
      "Submitted batch job 1872293\n"
     ]
    },
    {
     "name": "stderr",
     "output_type": "stream",
     "text": [
      "sbatch: Single-node jobs run on a shared node by default. Add --exclusive if you want to use a node exclusively.\n",
      "sbatch: You will be charged for 0.25 node. A full node consists of 128 CPU cores, 983040 MiB of memory and 0 GPUs and can be shared by up to 4 jobs.\n",
      "sbatch: Single-node jobs run on a shared node by default. Add --exclusive if you want to use a node exclusively.\n",
      "sbatch: You will be charged for 0.25 node. A full node consists of 128 CPU cores, 983040 MiB of memory and 0 GPUs and can be shared by up to 4 jobs.\n"
     ]
    },
    {
     "name": "stdout",
     "output_type": "stream",
     "text": [
      "Submitted batch job 1872294\n"
     ]
    },
    {
     "name": "stderr",
     "output_type": "stream",
     "text": [
      "sbatch: Single-node jobs run on a shared node by default. Add --exclusive if you want to use a node exclusively.\n",
      "sbatch: You will be charged for 0.25 node. A full node consists of 128 CPU cores, 983040 MiB of memory and 0 GPUs and can be shared by up to 4 jobs.\n"
     ]
    },
    {
     "name": "stdout",
     "output_type": "stream",
     "text": [
      "Submitted batch job 1872295\n"
     ]
    },
    {
     "name": "stderr",
     "output_type": "stream",
     "text": [
      "sbatch: Single-node jobs run on a shared node by default. Add --exclusive if you want to use a node exclusively.\n",
      "sbatch: You will be charged for 0.25 node. A full node consists of 128 CPU cores, 983040 MiB of memory and 0 GPUs and can be shared by up to 4 jobs.\n"
     ]
    },
    {
     "name": "stdout",
     "output_type": "stream",
     "text": [
      "Submitted batch job 1872296\n"
     ]
    },
    {
     "name": "stderr",
     "output_type": "stream",
     "text": [
      "sbatch: Single-node jobs run on a shared node by default. Add --exclusive if you want to use a node exclusively.\n",
      "sbatch: You will be charged for 0.25 node. A full node consists of 128 CPU cores, 983040 MiB of memory and 0 GPUs and can be shared by up to 4 jobs.\n"
     ]
    },
    {
     "name": "stdout",
     "output_type": "stream",
     "text": [
      "Submitted batch job 1872297\n"
     ]
    },
    {
     "name": "stderr",
     "output_type": "stream",
     "text": [
      "sbatch: Single-node jobs run on a shared node by default. Add --exclusive if you want to use a node exclusively.\n",
      "sbatch: You will be charged for 0.25 node. A full node consists of 128 CPU cores, 983040 MiB of memory and 0 GPUs and can be shared by up to 4 jobs.\n"
     ]
    },
    {
     "name": "stdout",
     "output_type": "stream",
     "text": [
      "Submitted batch job 1872298\n"
     ]
    },
    {
     "name": "stderr",
     "output_type": "stream",
     "text": [
      "sbatch: Single-node jobs run on a shared node by default. Add --exclusive if you want to use a node exclusively.\n",
      "sbatch: You will be charged for 0.25 node. A full node consists of 128 CPU cores, 983040 MiB of memory and 0 GPUs and can be shared by up to 4 jobs.\n"
     ]
    },
    {
     "name": "stdout",
     "output_type": "stream",
     "text": [
      "Submitted batch job 1872299\n"
     ]
    },
    {
     "name": "stderr",
     "output_type": "stream",
     "text": [
      "sbatch: Single-node jobs run on a shared node by default. Add --exclusive if you want to use a node exclusively.\n",
      "sbatch: You will be charged for 0.25 node. A full node consists of 128 CPU cores, 983040 MiB of memory and 0 GPUs and can be shared by up to 4 jobs.\n"
     ]
    },
    {
     "name": "stdout",
     "output_type": "stream",
     "text": [
      "Submitted batch job 1872300\n",
      "Submitted batch job 1872301\n"
     ]
    },
    {
     "name": "stderr",
     "output_type": "stream",
     "text": [
      "sbatch: Single-node jobs run on a shared node by default. Add --exclusive if you want to use a node exclusively.\n",
      "sbatch: You will be charged for 0.25 node. A full node consists of 128 CPU cores, 983040 MiB of memory and 0 GPUs and can be shared by up to 4 jobs.\n",
      "sbatch: Single-node jobs run on a shared node by default. Add --exclusive if you want to use a node exclusively.\n",
      "sbatch: You will be charged for 0.25 node. A full node consists of 128 CPU cores, 983040 MiB of memory and 0 GPUs and can be shared by up to 4 jobs.\n"
     ]
    },
    {
     "name": "stdout",
     "output_type": "stream",
     "text": [
      "Submitted batch job 1872302\n"
     ]
    },
    {
     "name": "stderr",
     "output_type": "stream",
     "text": [
      "sbatch: Single-node jobs run on a shared node by default. Add --exclusive if you want to use a node exclusively.\n",
      "sbatch: You will be charged for 0.25 node. A full node consists of 128 CPU cores, 983040 MiB of memory and 0 GPUs and can be shared by up to 4 jobs.\n"
     ]
    },
    {
     "name": "stdout",
     "output_type": "stream",
     "text": [
      "Submitted batch job 1872303\n"
     ]
    },
    {
     "name": "stderr",
     "output_type": "stream",
     "text": [
      "sbatch: Single-node jobs run on a shared node by default. Add --exclusive if you want to use a node exclusively.\n",
      "sbatch: You will be charged for 0.25 node. A full node consists of 128 CPU cores, 983040 MiB of memory and 0 GPUs and can be shared by up to 4 jobs.\n"
     ]
    },
    {
     "name": "stdout",
     "output_type": "stream",
     "text": [
      "Submitted batch job 1872304\n"
     ]
    },
    {
     "name": "stderr",
     "output_type": "stream",
     "text": [
      "sbatch: Single-node jobs run on a shared node by default. Add --exclusive if you want to use a node exclusively.\n",
      "sbatch: You will be charged for 0.25 node. A full node consists of 128 CPU cores, 983040 MiB of memory and 0 GPUs and can be shared by up to 4 jobs.\n"
     ]
    },
    {
     "name": "stdout",
     "output_type": "stream",
     "text": [
      "Submitted batch job 1872305\n"
     ]
    },
    {
     "name": "stderr",
     "output_type": "stream",
     "text": [
      "sbatch: Single-node jobs run on a shared node by default. Add --exclusive if you want to use a node exclusively.\n",
      "sbatch: You will be charged for 0.25 node. A full node consists of 128 CPU cores, 983040 MiB of memory and 0 GPUs and can be shared by up to 4 jobs.\n"
     ]
    },
    {
     "name": "stdout",
     "output_type": "stream",
     "text": [
      "Submitted batch job 1872306\n"
     ]
    },
    {
     "name": "stderr",
     "output_type": "stream",
     "text": [
      "sbatch: Single-node jobs run on a shared node by default. Add --exclusive if you want to use a node exclusively.\n",
      "sbatch: You will be charged for 0.25 node. A full node consists of 128 CPU cores, 983040 MiB of memory and 0 GPUs and can be shared by up to 4 jobs.\n"
     ]
    },
    {
     "name": "stdout",
     "output_type": "stream",
     "text": [
      "Submitted batch job 1872307\n"
     ]
    },
    {
     "name": "stderr",
     "output_type": "stream",
     "text": [
      "sbatch: Single-node jobs run on a shared node by default. Add --exclusive if you want to use a node exclusively.\n",
      "sbatch: You will be charged for 0.25 node. A full node consists of 128 CPU cores, 983040 MiB of memory and 0 GPUs and can be shared by up to 4 jobs.\n"
     ]
    },
    {
     "name": "stdout",
     "output_type": "stream",
     "text": [
      "Submitted batch job 1872308\n",
      "Submitted batch job 1872309\n"
     ]
    },
    {
     "name": "stderr",
     "output_type": "stream",
     "text": [
      "sbatch: Single-node jobs run on a shared node by default. Add --exclusive if you want to use a node exclusively.\n",
      "sbatch: You will be charged for 0.25 node. A full node consists of 128 CPU cores, 983040 MiB of memory and 0 GPUs and can be shared by up to 4 jobs.\n",
      "sbatch: Single-node jobs run on a shared node by default. Add --exclusive if you want to use a node exclusively.\n",
      "sbatch: You will be charged for 0.25 node. A full node consists of 128 CPU cores, 983040 MiB of memory and 0 GPUs and can be shared by up to 4 jobs.\n"
     ]
    },
    {
     "name": "stdout",
     "output_type": "stream",
     "text": [
      "Submitted batch job 1872310\n"
     ]
    },
    {
     "name": "stderr",
     "output_type": "stream",
     "text": [
      "sbatch: Single-node jobs run on a shared node by default. Add --exclusive if you want to use a node exclusively.\n",
      "sbatch: You will be charged for 0.25 node. A full node consists of 128 CPU cores, 983040 MiB of memory and 0 GPUs and can be shared by up to 4 jobs.\n"
     ]
    },
    {
     "name": "stdout",
     "output_type": "stream",
     "text": [
      "Submitted batch job 1872311\n"
     ]
    },
    {
     "name": "stderr",
     "output_type": "stream",
     "text": [
      "sbatch: Single-node jobs run on a shared node by default. Add --exclusive if you want to use a node exclusively.\n",
      "sbatch: You will be charged for 0.25 node. A full node consists of 128 CPU cores, 983040 MiB of memory and 0 GPUs and can be shared by up to 4 jobs.\n"
     ]
    },
    {
     "name": "stdout",
     "output_type": "stream",
     "text": [
      "Submitted batch job 1872312\n"
     ]
    },
    {
     "name": "stderr",
     "output_type": "stream",
     "text": [
      "sbatch: Single-node jobs run on a shared node by default. Add --exclusive if you want to use a node exclusively.\n",
      "sbatch: You will be charged for 0.25 node. A full node consists of 128 CPU cores, 983040 MiB of memory and 0 GPUs and can be shared by up to 4 jobs.\n"
     ]
    },
    {
     "name": "stdout",
     "output_type": "stream",
     "text": [
      "Submitted batch job 1872313\n"
     ]
    },
    {
     "name": "stderr",
     "output_type": "stream",
     "text": [
      "sbatch: Single-node jobs run on a shared node by default. Add --exclusive if you want to use a node exclusively.\n",
      "sbatch: You will be charged for 0.25 node. A full node consists of 128 CPU cores, 983040 MiB of memory and 0 GPUs and can be shared by up to 4 jobs.\n"
     ]
    },
    {
     "name": "stdout",
     "output_type": "stream",
     "text": [
      "Submitted batch job 1872314\n"
     ]
    },
    {
     "name": "stderr",
     "output_type": "stream",
     "text": [
      "sbatch: Single-node jobs run on a shared node by default. Add --exclusive if you want to use a node exclusively.\n",
      "sbatch: You will be charged for 0.25 node. A full node consists of 128 CPU cores, 983040 MiB of memory and 0 GPUs and can be shared by up to 4 jobs.\n"
     ]
    },
    {
     "name": "stdout",
     "output_type": "stream",
     "text": [
      "Submitted batch job 1872315\n"
     ]
    },
    {
     "name": "stderr",
     "output_type": "stream",
     "text": [
      "sbatch: Single-node jobs run on a shared node by default. Add --exclusive if you want to use a node exclusively.\n",
      "sbatch: You will be charged for 0.03125 node. A full node consists of 32 CPU cores, 229376 MiB of memory and 0 GPUs and can be shared by up to 32 jobs.\n"
     ]
    },
    {
     "name": "stdout",
     "output_type": "stream",
     "text": [
      "Submitted batch job 1872316\n"
     ]
    }
   ],
   "source": [
    "from amftrack.pipeline.launching.run_super import run_parallel, run_launcher\n",
    "\n",
    "name_job = \"malin\"\n",
    "stage = 30\n",
    "args = [directory_targ]\n",
    "for plate in plates:\n",
    "    select = folders.loc[folders[\"unique_id\"] == plate]\n",
    "    num_parallel = 32\n",
    "    time = \"10:00\"\n",
    "    args = [directory_targ]\n",
    "    run_parallel(\n",
    "        \"realign.py\",\n",
    "        args,\n",
    "        select,\n",
    "        num_parallel,\n",
    "        time,\n",
    "        \"create_realign\",\n",
    "        cpus=32,\n",
    "        node=\"fat\",\n",
    "        name_job=name_job,\n",
    "    )\n",
    "\n",
    "run_launcher(\n",
    "    \"graph_extracter.py\",\n",
    "    [directory_targ, name_job, stage - 1],\n",
    "    plates,\n",
    "    \"3:00:00\",\n",
    "    dependency=True,\n",
    "    name_job=name_job,\n",
    ")"
   ]
  },
  {
   "cell_type": "code",
   "execution_count": 7,
   "id": "cc02f898-d953-4d8b-8c1c-eb42711aeb09",
   "metadata": {},
   "outputs": [
    {
     "name": "stderr",
     "output_type": "stream",
     "text": [
      "sbatch: Single-node jobs run on a shared node by default. Add --exclusive if you want to use a node exclusively.\n",
      "sbatch: A full node consists of 32 CPU cores, 229376 MiB of memory and 0 GPUs and can be shared by up to 32 jobs.\n",
      "sbatch: By default shared jobs get 7168 MiB of memory per CPU core, unless explicitly overridden with --mem-per-cpu, --mem-per-gpu or --mem.\n",
      "sbatch: You will be charged for 0.03125 node, based on the number of CPUs, GPUs and the amount memory that you've requested.\n"
     ]
    },
    {
     "name": "stdout",
     "output_type": "stream",
     "text": [
      "Submitted batch job 2143049\n"
     ]
    }
   ],
   "source": [
    "name_job = \"rerun\"\n",
    "run_launcher(\n",
    "    \"post_processer_1.py\",\n",
    "    [directory_targ, name_job, 10],\n",
    "    plates,\n",
    "    \"3:00:00\",\n",
    "    dependency=True,\n",
    "    name_job=name_job,\n",
    ")"
   ]
  },
  {
   "cell_type": "code",
   "execution_count": 8,
   "id": "2da38319-35b9-4a35-9eae-a3067f75e390",
   "metadata": {
    "collapsed": true,
    "jupyter": {
     "outputs_hidden": true
    },
    "tags": []
   },
   "outputs": [
    {
     "name": "stdout",
     "output_type": "stream",
     "text": [
      "/projects/0/einf914/data/Analysis_93_20220921_200_Version1/folder_info.json\n",
      "/projects/0/einf914/data/Analysis_5_20220920_200_Version1/folder_info.json\n",
      "/projects/0/einf914/data/Analysis_69_20220921_200_Version1/folder_info.json\n",
      "/projects/0/einf914/data/Analysis_26_20220921_200_Version1/folder_info.json\n",
      "/projects/0/einf914/data/Analysis_32_20220921_200_Version1/folder_info.json\n",
      "/projects/0/einf914/data/Analysis_43_20220920_200_Version1/folder_info.json\n",
      "/projects/0/einf914/data/Analysis_101_20220921_200_Version1/folder_info.json\n",
      "/projects/0/einf914/data/Analysis_42_20220920_200_Version1/folder_info.json\n",
      "/projects/0/einf914/data/Analysis_15_20220921_200_Version1/folder_info.json\n",
      "/projects/0/einf914/data/Analysis_65_20220921_200_Version1/folder_info.json\n",
      "/projects/0/einf914/data/Analysis_28_20220921_200_Version1/folder_info.json\n",
      "/projects/0/einf914/data/Analysis_39_20220920_200_Version1/folder_info.json\n",
      "/projects/0/einf914/data/Analysis_108_20220921_200_Version1/folder_info.json\n",
      "/projects/0/einf914/data/Analysis_67_20220921_200_Version1/folder_info.json\n",
      "/projects/0/einf914/data/Analysis_56_20220921_200_Version1/folder_info.json\n",
      "/projects/0/einf914/data/Analysis_12_20220920_200_Version1/folder_info.json\n",
      "/projects/0/einf914/data/Analysis_94_20220921_200_Version1/folder_info.json\n",
      "/projects/0/einf914/data/Analysis_50_20220920_200_Version1/folder_info.json\n",
      "/projects/0/einf914/data/Analysis_27_20220921_200_Version1/folder_info.json\n",
      "/projects/0/einf914/data/Analysis_59_20220921_200_Version1/folder_info.json\n",
      "/projects/0/einf914/data/Analysis_16_20220921_200_Version1/folder_info.json\n",
      "/projects/0/einf914/data/Analysis_84_20220920_200_Version1/folder_info.json\n",
      "/projects/0/einf914/data/Analysis_23_20220920_200_Version1/folder_info.json\n",
      "/projects/0/einf914/data/Analysis_71_20220921_200_Version1/folder_info.json\n",
      "/projects/0/einf914/data/Analysis_21_20220920_200_Version1/folder_info.json\n",
      "/projects/0/einf914/data/Analysis_100_20220921_200_Version1/folder_info.json\n",
      "/projects/0/einf914/data/Analysis_99_20220921_200_Version1/folder_info.json\n",
      "/projects/0/einf914/data/Analysis_79_20220920_200_Version1/folder_info.json\n",
      "/projects/0/einf914/data/Analysis_82_20220920_200_Version1/folder_info.json\n",
      "/projects/0/einf914/data/Analysis_61_20220921_200_Version1/folder_info.json\n",
      "/projects/0/einf914/data/Analysis_25_20220921_200_Version1/folder_info.json\n",
      "/projects/0/einf914/data/Analysis_31_20220921_200_Version1/folder_info.json\n",
      "/projects/0/einf914/data/Analysis_70_20220921_200_Version1/folder_info.json\n",
      "/projects/0/einf914/data/Analysis_10_20220920_200_Version1/folder_info.json\n",
      "/projects/0/einf914/data/Analysis_40_20220920_200_Version1/folder_info.json\n",
      "/projects/0/einf914/data/Analysis_74_20220920_200_Version1/folder_info.json\n",
      "/projects/0/einf914/data/Analysis_102_20220921_200_Version1/folder_info.json\n",
      "/projects/0/einf914/data/Analysis_2_20220920_200_Version1/folder_info.json\n",
      "/projects/0/einf914/data/Analysis_49_20220920_200_Version1/folder_info.json\n",
      "/projects/0/einf914/data/Analysis_104_20220921_200_Version1/folder_info.json\n",
      "/projects/0/einf914/data/Analysis_87_20220921_200_Version1/folder_info.json\n",
      "/projects/0/einf914/data/Analysis_37_20220920_200_Version1/folder_info.json\n",
      "/projects/0/einf914/data/Analysis_72_20220921_200_Version1/folder_info.json\n",
      "/projects/0/einf914/data/Analysis_78_20220920_200_Version1/folder_info.json\n",
      "/projects/0/einf914/data/Analysis_62_20220921_200_Version1/folder_info.json\n",
      "/projects/0/einf914/data/Analysis_13_20220921_200_Version1/folder_info.json\n",
      "/projects/0/einf914/data/Analysis_45_20220920_200_Version1/folder_info.json\n",
      "/projects/0/einf914/data/Analysis_81_20220920_200_Version1/folder_info.json\n",
      "/projects/0/einf914/data/Analysis_97_20220921_200_Version1/folder_info.json\n",
      "/projects/0/einf914/data/Analysis_34_20220921_200_Version1/folder_info.json\n",
      "/projects/0/einf914/data/Analysis_11_20220920_200_Version1/folder_info.json\n",
      "/projects/0/einf914/data/Analysis_75_20220920_200_Version1/folder_info.json\n",
      "/projects/0/einf914/data/Analysis_46_20220920_200_Version1/folder_info.json\n",
      "/projects/0/einf914/data/Analysis_36_20220921_200_Version1/folder_info.json\n",
      "/projects/0/einf914/data/Analysis_60_20220921_200_Version1/folder_info.json\n",
      "/projects/0/einf914/data/Analysis_30_20220921_200_Version1/folder_info.json\n",
      "/projects/0/einf914/data/Analysis_76_20220920_200_Version1/folder_info.json\n",
      "/projects/0/einf914/data/Analysis_52_20220920_200_Version1/folder_info.json\n",
      "/projects/0/einf914/data/Analysis_20_20220920_200_Version1/folder_info.json\n",
      "/projects/0/einf914/data/Analysis_105_20220921_200_Version1/folder_info.json\n",
      "/projects/0/einf914/data/Analysis_58_20220921_200_Version1/folder_info.json\n",
      "/projects/0/einf914/data/Analysis_14_20220921_200_Version1/folder_info.json\n",
      "/projects/0/einf914/data/Analysis_103_20220921_200_Version1/folder_info.json\n",
      "/projects/0/einf914/data/Analysis_86_20220921_200_Version1/folder_info.json\n",
      "/projects/0/einf914/data/Analysis_91_20220921_200_Version1/folder_info.json\n",
      "/projects/0/einf914/data/Analysis_83_20220920_200_Version1/folder_info.json\n",
      "/projects/0/einf914/data/Analysis_98_20220921_200_Version1/folder_info.json\n",
      "/projects/0/einf914/data/Analysis_8_20220920_200_Version1/folder_info.json\n",
      "/projects/0/einf914/data/Analysis_44_20220920_200_Version1/folder_info.json\n",
      "/projects/0/einf914/data/Analysis_6_20220920_200_Version1/folder_info.json\n",
      "/projects/0/einf914/data/Analysis_38_20220920_200_Version1/folder_info.json\n",
      "/projects/0/einf914/data/Analysis_4_20220920_200_Version1/folder_info.json\n",
      "/projects/0/einf914/data/Analysis_80_20220920_200_Version1/folder_info.json\n",
      "/projects/0/einf914/data/Analysis_73_20220920_200_Version1/folder_info.json\n",
      "/projects/0/einf914/data/Analysis_96_20220921_200_Version1/folder_info.json\n",
      "/projects/0/einf914/data/Analysis_33_20220921_200_Version1/folder_info.json\n",
      "/projects/0/einf914/data/Analysis_48_20220920_200_Version1/folder_info.json\n",
      "/projects/0/einf914/data/Analysis_66_20220921_200_Version1/folder_info.json\n",
      "/projects/0/einf914/data/Analysis_29_20220921_200_Version1/folder_info.json\n",
      "/projects/0/einf914/data/Analysis_107_20220921_200_Version1/folder_info.json\n",
      "/projects/0/einf914/data/Analysis_55_20220921_200_Version1/folder_info.json\n",
      "/projects/0/einf914/data/Analysis_35_20220921_200_Version1/folder_info.json\n",
      "/projects/0/einf914/data/Analysis_92_20220921_200_Version1/folder_info.json\n",
      "/projects/0/einf914/data/Analysis_18_20220921_200_Version1/folder_info.json\n",
      "/projects/0/einf914/data/Analysis_68_20220921_200_Version1/folder_info.json\n",
      "/projects/0/einf914/data/Analysis_63_20220921_200_Version1/folder_info.json\n",
      "/projects/0/einf914/data/Analysis_57_20220921_200_Version1/folder_info.json\n",
      "/projects/0/einf914/data/Analysis_24_20220920_200_Version1/folder_info.json\n",
      "/projects/0/einf914/data/Analysis_47_20220920_200_Version1/folder_info.json\n",
      "/projects/0/einf914/data/Analysis_22_20220920_200_Version1/folder_info.json\n",
      "/projects/0/einf914/data/Analysis_51_20220920_200_Version1/folder_info.json\n",
      "/projects/0/einf914/data/Analysis_54_20220920_200_Version1/folder_info.json\n",
      "/projects/0/einf914/data/Analysis_95_20220921_200_Version1/folder_info.json\n",
      "/projects/0/einf914/data/Analysis_64_20220921_200_Version1/folder_info.json\n",
      "/projects/0/einf914/data/Analysis_106_20220921_200_Version1/folder_info.json\n",
      "/projects/0/einf914/data/Analysis_41_20220920_200_Version1/folder_info.json\n",
      "/projects/0/einf914/data/Analysis_85_20220921_200_Version1/folder_info.json\n",
      "/projects/0/einf914/data/Analysis_90_20220921_200_Version1/folder_info.json\n",
      "/projects/0/einf914/data/Analysis_9_20220920_200_Version1/folder_info.json\n",
      "/projects/0/einf914/data/Analysis_77_20220920_200_Version1/folder_info.json\n",
      "/projects/0/einf914/data/Analysis_19_20220920_200_Version1/folder_info.json\n",
      "/projects/0/einf914/data/Analysis_17_20220921_200_Version1/folder_info.json\n",
      "/projects/0/einf914/data/Analysis_3_20220920_200_Version1/folder_info.json\n",
      "/projects/0/einf914/data/Analysis_53_20220920_200_Version1/folder_info.json\n",
      "/projects/0/einf914/data/Analysis_7_20220920_200_Version1/folder_info.json\n",
      "/projects/0/einf914/data/Analysis_88_20220921_200_Version1/folder_info.json\n",
      "/projects/0/einf914/data/Analysis_1_20220920_200_Version1/folder_info.json\n",
      "DATA/PRINCE\n",
      "2022-11-30 10:57:17,420-[INFO]- dropbox:390 -> Refreshing access token.\n",
      "2022-11-30 10:57:17,709-[INFO]- dropbox:474 -> Request to files/upload\n",
      "2022-11-30 10:57:19,342-[INFO]- dropbox:390 -> Refreshing access token.\n",
      "2022-11-30 10:57:19,624-[INFO]- dropbox:474 -> Request to files/upload\n",
      "2022-11-30 10:57:20,587-[INFO]- dropbox:390 -> Refreshing access token.\n",
      "2022-11-30 10:57:20,852-[INFO]- dropbox:474 -> Request to files/upload\n",
      "2022-11-30 10:57:21,752-[INFO]- dropbox:390 -> Refreshing access token.\n",
      "2022-11-30 10:57:21,977-[INFO]- dropbox:474 -> Request to files/upload\n",
      "DATA/PRINCE\n",
      "2022-11-30 10:57:22,882-[INFO]- dropbox:390 -> Refreshing access token.\n",
      "2022-11-30 10:57:23,105-[INFO]- dropbox:474 -> Request to files/upload\n",
      "2022-11-30 10:57:24,569-[INFO]- dropbox:390 -> Refreshing access token.\n",
      "2022-11-30 10:57:24,787-[INFO]- dropbox:474 -> Request to files/upload\n",
      "2022-11-30 10:57:26,325-[INFO]- dropbox:390 -> Refreshing access token.\n",
      "2022-11-30 10:57:26,582-[INFO]- dropbox:474 -> Request to files/upload\n",
      "2022-11-30 10:57:28,111-[INFO]- dropbox:390 -> Refreshing access token.\n",
      "2022-11-30 10:57:28,361-[INFO]- dropbox:474 -> Request to files/upload\n",
      "DATA/PRINCE\n",
      "2022-11-30 10:57:29,270-[INFO]- dropbox:390 -> Refreshing access token.\n",
      "2022-11-30 10:57:29,495-[INFO]- dropbox:474 -> Request to files/upload\n",
      "2022-11-30 10:57:31,036-[INFO]- dropbox:390 -> Refreshing access token.\n",
      "2022-11-30 10:57:31,271-[INFO]- dropbox:474 -> Request to files/upload\n",
      "2022-11-30 10:57:32,205-[INFO]- dropbox:390 -> Refreshing access token.\n",
      "2022-11-30 10:57:32,433-[INFO]- dropbox:474 -> Request to files/upload\n",
      "2022-11-30 10:57:33,228-[INFO]- dropbox:390 -> Refreshing access token.\n",
      "2022-11-30 10:57:33,450-[INFO]- dropbox:474 -> Request to files/upload\n",
      "DATA/PRINCE\n",
      "2022-11-30 10:57:34,616-[INFO]- dropbox:390 -> Refreshing access token.\n",
      "2022-11-30 10:57:34,856-[INFO]- dropbox:474 -> Request to files/upload\n",
      "2022-11-30 10:57:36,127-[INFO]- dropbox:390 -> Refreshing access token.\n",
      "2022-11-30 10:57:36,366-[INFO]- dropbox:474 -> Request to files/upload\n",
      "2022-11-30 10:57:37,426-[INFO]- dropbox:390 -> Refreshing access token.\n",
      "2022-11-30 10:57:37,670-[INFO]- dropbox:474 -> Request to files/upload\n",
      "2022-11-30 10:57:38,729-[INFO]- dropbox:390 -> Refreshing access token.\n",
      "2022-11-30 10:57:42,304-[INFO]- dropbox:474 -> Request to files/upload\n",
      "DATA/PRINCE\n",
      "2022-11-30 10:57:43,348-[INFO]- dropbox:390 -> Refreshing access token.\n",
      "2022-11-30 10:57:43,578-[INFO]- dropbox:474 -> Request to files/upload\n",
      "2022-11-30 10:57:44,963-[INFO]- dropbox:390 -> Refreshing access token.\n",
      "2022-11-30 10:57:45,193-[INFO]- dropbox:474 -> Request to files/upload\n",
      "2022-11-30 10:57:46,517-[INFO]- dropbox:390 -> Refreshing access token.\n",
      "2022-11-30 10:57:46,772-[INFO]- dropbox:474 -> Request to files/upload\n",
      "2022-11-30 10:57:48,136-[INFO]- dropbox:390 -> Refreshing access token.\n",
      "2022-11-30 10:57:48,358-[INFO]- dropbox:474 -> Request to files/upload\n",
      "DATA/PRINCE\n",
      "2022-11-30 10:57:49,283-[INFO]- dropbox:390 -> Refreshing access token.\n",
      "2022-11-30 10:57:49,522-[INFO]- dropbox:474 -> Request to files/upload\n",
      "2022-11-30 10:57:51,090-[INFO]- dropbox:390 -> Refreshing access token.\n",
      "2022-11-30 10:57:51,325-[INFO]- dropbox:474 -> Request to files/upload\n",
      "2022-11-30 10:57:52,251-[INFO]- dropbox:390 -> Refreshing access token.\n",
      "2022-11-30 10:57:52,474-[INFO]- dropbox:474 -> Request to files/upload\n",
      "2022-11-30 10:57:53,404-[INFO]- dropbox:390 -> Refreshing access token.\n",
      "2022-11-30 10:57:53,628-[INFO]- dropbox:474 -> Request to files/upload\n",
      "DATA/PRINCE\n",
      "2022-11-30 10:57:54,651-[INFO]- dropbox:390 -> Refreshing access token.\n",
      "2022-11-30 10:57:54,893-[INFO]- dropbox:474 -> Request to files/upload\n",
      "2022-11-30 10:57:56,635-[INFO]- dropbox:390 -> Refreshing access token.\n",
      "2022-11-30 10:57:56,896-[INFO]- dropbox:474 -> Request to files/upload\n",
      "2022-11-30 10:57:57,765-[INFO]- dropbox:390 -> Refreshing access token.\n",
      "2022-11-30 10:57:58,001-[INFO]- dropbox:474 -> Request to files/upload\n",
      "2022-11-30 10:57:59,037-[INFO]- dropbox:390 -> Refreshing access token.\n",
      "2022-11-30 10:57:59,268-[INFO]- dropbox:474 -> Request to files/upload\n",
      "DATA/PRINCE\n",
      "2022-11-30 10:58:00,153-[INFO]- dropbox:390 -> Refreshing access token.\n",
      "2022-11-30 10:58:00,406-[INFO]- dropbox:474 -> Request to files/upload\n",
      "2022-11-30 10:58:02,043-[INFO]- dropbox:390 -> Refreshing access token.\n",
      "2022-11-30 10:58:02,283-[INFO]- dropbox:474 -> Request to files/upload\n",
      "2022-11-30 10:58:03,299-[INFO]- dropbox:390 -> Refreshing access token.\n",
      "2022-11-30 10:58:03,531-[INFO]- dropbox:474 -> Request to files/upload\n",
      "2022-11-30 10:58:04,607-[INFO]- dropbox:390 -> Refreshing access token.\n",
      "2022-11-30 10:58:04,859-[INFO]- dropbox:474 -> Request to files/upload\n",
      "DATA/PRINCE\n",
      "2022-11-30 10:58:05,935-[INFO]- dropbox:390 -> Refreshing access token.\n",
      "2022-11-30 10:58:06,161-[INFO]- dropbox:474 -> Request to files/upload\n",
      "2022-11-30 10:58:07,523-[INFO]- dropbox:390 -> Refreshing access token.\n",
      "2022-11-30 10:58:07,770-[INFO]- dropbox:474 -> Request to files/upload\n",
      "2022-11-30 10:58:08,694-[INFO]- dropbox:390 -> Refreshing access token.\n",
      "2022-11-30 10:58:08,932-[INFO]- dropbox:474 -> Request to files/upload\n",
      "2022-11-30 10:58:09,833-[INFO]- dropbox:390 -> Refreshing access token.\n",
      "2022-11-30 10:58:10,066-[INFO]- dropbox:474 -> Request to files/upload\n",
      "DATA/PRINCE\n",
      "2022-11-30 10:58:11,214-[INFO]- dropbox:390 -> Refreshing access token.\n",
      "2022-11-30 10:58:11,444-[INFO]- dropbox:474 -> Request to files/upload\n",
      "2022-11-30 10:58:12,673-[INFO]- dropbox:390 -> Refreshing access token.\n",
      "2022-11-30 10:58:12,917-[INFO]- dropbox:474 -> Request to files/upload\n",
      "2022-11-30 10:58:14,082-[INFO]- dropbox:390 -> Refreshing access token.\n",
      "2022-11-30 10:58:14,385-[INFO]- dropbox:474 -> Request to files/upload\n",
      "2022-11-30 10:58:15,317-[INFO]- dropbox:390 -> Refreshing access token.\n",
      "2022-11-30 10:58:15,544-[INFO]- dropbox:474 -> Request to files/upload\n",
      "DATA/PRINCE\n",
      "2022-11-30 10:58:16,560-[INFO]- dropbox:390 -> Refreshing access token.\n",
      "2022-11-30 10:58:16,804-[INFO]- dropbox:474 -> Request to files/upload\n",
      "2022-11-30 10:58:18,219-[INFO]- dropbox:390 -> Refreshing access token.\n",
      "2022-11-30 10:58:18,458-[INFO]- dropbox:474 -> Request to files/upload\n",
      "2022-11-30 10:58:19,350-[INFO]- dropbox:390 -> Refreshing access token.\n",
      "2022-11-30 10:58:19,589-[INFO]- dropbox:474 -> Request to files/upload\n",
      "2022-11-30 10:58:20,552-[INFO]- dropbox:390 -> Refreshing access token.\n",
      "2022-11-30 10:58:20,782-[INFO]- dropbox:474 -> Request to files/upload\n",
      "DATA/PRINCE\n",
      "2022-11-30 10:58:21,770-[INFO]- dropbox:390 -> Refreshing access token.\n",
      "2022-11-30 10:58:22,021-[INFO]- dropbox:474 -> Request to files/upload\n",
      "2022-11-30 10:58:23,434-[INFO]- dropbox:390 -> Refreshing access token.\n",
      "2022-11-30 10:58:23,656-[INFO]- dropbox:474 -> Request to files/upload\n",
      "2022-11-30 10:58:24,589-[INFO]- dropbox:390 -> Refreshing access token.\n",
      "2022-11-30 10:58:24,823-[INFO]- dropbox:474 -> Request to files/upload\n",
      "2022-11-30 10:58:25,871-[INFO]- dropbox:390 -> Refreshing access token.\n",
      "2022-11-30 10:58:26,107-[INFO]- dropbox:474 -> Request to files/upload\n",
      "DATA/PRINCE\n",
      "2022-11-30 10:58:27,066-[INFO]- dropbox:390 -> Refreshing access token.\n",
      "2022-11-30 10:58:27,289-[INFO]- dropbox:474 -> Request to files/upload\n",
      "2022-11-30 10:58:28,566-[INFO]- dropbox:390 -> Refreshing access token.\n",
      "2022-11-30 10:58:28,794-[INFO]- dropbox:474 -> Request to files/upload\n",
      "2022-11-30 10:58:30,203-[INFO]- dropbox:390 -> Refreshing access token.\n",
      "2022-11-30 10:58:30,435-[INFO]- dropbox:474 -> Request to files/upload\n",
      "2022-11-30 10:58:31,493-[INFO]- dropbox:390 -> Refreshing access token.\n",
      "2022-11-30 10:58:31,723-[INFO]- dropbox:474 -> Request to files/upload\n",
      "DATA/PRINCE\n",
      "2022-11-30 10:58:32,713-[INFO]- dropbox:390 -> Refreshing access token.\n",
      "2022-11-30 10:58:32,957-[INFO]- dropbox:474 -> Request to files/upload\n",
      "2022-11-30 10:58:33,958-[INFO]- dropbox:390 -> Refreshing access token.\n",
      "2022-11-30 10:58:34,189-[INFO]- dropbox:474 -> Request to files/upload\n",
      "2022-11-30 10:58:35,820-[INFO]- dropbox:390 -> Refreshing access token.\n",
      "2022-11-30 10:58:36,068-[INFO]- dropbox:474 -> Request to files/upload\n",
      "2022-11-30 10:58:37,131-[INFO]- dropbox:390 -> Refreshing access token.\n",
      "2022-11-30 10:58:37,365-[INFO]- dropbox:474 -> Request to files/upload\n",
      "DATA/PRINCE\n",
      "2022-11-30 10:58:38,300-[INFO]- dropbox:390 -> Refreshing access token.\n",
      "2022-11-30 10:58:38,520-[INFO]- dropbox:474 -> Request to files/upload\n",
      "2022-11-30 10:58:39,977-[INFO]- dropbox:390 -> Refreshing access token.\n",
      "2022-11-30 10:58:40,198-[INFO]- dropbox:474 -> Request to files/upload\n",
      "2022-11-30 10:58:41,333-[INFO]- dropbox:390 -> Refreshing access token.\n",
      "2022-11-30 10:58:41,564-[INFO]- dropbox:474 -> Request to files/upload\n",
      "2022-11-30 10:58:42,487-[INFO]- dropbox:390 -> Refreshing access token.\n",
      "2022-11-30 10:58:42,706-[INFO]- dropbox:474 -> Request to files/upload\n",
      "DATA/PRINCE\n",
      "2022-11-30 10:58:43,595-[INFO]- dropbox:390 -> Refreshing access token.\n",
      "2022-11-30 10:58:43,834-[INFO]- dropbox:474 -> Request to files/upload\n",
      "2022-11-30 10:58:45,438-[INFO]- dropbox:390 -> Refreshing access token.\n",
      "2022-11-30 10:58:45,671-[INFO]- dropbox:474 -> Request to files/upload\n",
      "2022-11-30 10:58:46,484-[INFO]- dropbox:390 -> Refreshing access token.\n",
      "2022-11-30 10:58:46,722-[INFO]- dropbox:474 -> Request to files/upload\n",
      "2022-11-30 10:58:47,927-[INFO]- dropbox:390 -> Refreshing access token.\n",
      "2022-11-30 10:58:48,162-[INFO]- dropbox:474 -> Request to files/upload\n",
      "DATA/PRINCE\n",
      "2022-11-30 10:58:49,328-[INFO]- dropbox:390 -> Refreshing access token.\n",
      "2022-11-30 10:58:49,556-[INFO]- dropbox:474 -> Request to files/upload\n",
      "2022-11-30 10:58:51,225-[INFO]- dropbox:390 -> Refreshing access token.\n",
      "2022-11-30 10:58:51,477-[INFO]- dropbox:474 -> Request to files/upload\n",
      "2022-11-30 10:58:52,386-[INFO]- dropbox:390 -> Refreshing access token.\n",
      "2022-11-30 10:58:52,647-[INFO]- dropbox:474 -> Request to files/upload\n",
      "2022-11-30 10:58:53,764-[INFO]- dropbox:390 -> Refreshing access token.\n",
      "2022-11-30 10:58:53,995-[INFO]- dropbox:474 -> Request to files/upload\n",
      "DATA/PRINCE\n",
      "2022-11-30 10:58:54,994-[INFO]- dropbox:390 -> Refreshing access token.\n",
      "2022-11-30 10:58:55,222-[INFO]- dropbox:474 -> Request to files/upload\n",
      "2022-11-30 10:58:56,699-[INFO]- dropbox:390 -> Refreshing access token.\n",
      "2022-11-30 10:58:56,934-[INFO]- dropbox:474 -> Request to files/upload\n",
      "2022-11-30 10:58:57,949-[INFO]- dropbox:390 -> Refreshing access token.\n",
      "2022-11-30 10:58:58,172-[INFO]- dropbox:474 -> Request to files/upload\n",
      "2022-11-30 10:58:59,178-[INFO]- dropbox:390 -> Refreshing access token.\n",
      "2022-11-30 10:58:59,402-[INFO]- dropbox:474 -> Request to files/upload\n",
      "DATA/PRINCE\n",
      "2022-11-30 10:59:00,426-[INFO]- dropbox:390 -> Refreshing access token.\n",
      "2022-11-30 10:59:00,664-[INFO]- dropbox:474 -> Request to files/upload\n",
      "2022-11-30 10:59:02,200-[INFO]- dropbox:390 -> Refreshing access token.\n",
      "2022-11-30 10:59:02,433-[INFO]- dropbox:474 -> Request to files/upload\n",
      "2022-11-30 10:59:03,316-[INFO]- dropbox:390 -> Refreshing access token.\n",
      "2022-11-30 10:59:03,586-[INFO]- dropbox:474 -> Request to files/upload\n",
      "2022-11-30 10:59:04,499-[INFO]- dropbox:390 -> Refreshing access token.\n",
      "2022-11-30 10:59:04,725-[INFO]- dropbox:474 -> Request to files/upload\n",
      "DATA/PRINCE\n",
      "2022-11-30 10:59:05,568-[INFO]- dropbox:390 -> Refreshing access token.\n",
      "2022-11-30 10:59:05,791-[INFO]- dropbox:474 -> Request to files/upload\n",
      "2022-11-30 10:59:07,426-[INFO]- dropbox:390 -> Refreshing access token.\n",
      "2022-11-30 10:59:07,655-[INFO]- dropbox:474 -> Request to files/upload\n",
      "2022-11-30 10:59:08,553-[INFO]- dropbox:390 -> Refreshing access token.\n",
      "2022-11-30 10:59:08,783-[INFO]- dropbox:474 -> Request to files/upload\n",
      "2022-11-30 10:59:09,883-[INFO]- dropbox:390 -> Refreshing access token.\n",
      "2022-11-30 10:59:10,205-[INFO]- dropbox:474 -> Request to files/upload\n",
      "DATA/PRINCE\n",
      "2022-11-30 10:59:11,192-[INFO]- dropbox:390 -> Refreshing access token.\n",
      "2022-11-30 10:59:11,428-[INFO]- dropbox:474 -> Request to files/upload\n",
      "2022-11-30 10:59:13,161-[INFO]- dropbox:390 -> Refreshing access token.\n",
      "2022-11-30 10:59:13,399-[INFO]- dropbox:474 -> Request to files/upload\n",
      "2022-11-30 10:59:14,599-[INFO]- dropbox:390 -> Refreshing access token.\n",
      "2022-11-30 10:59:14,826-[INFO]- dropbox:474 -> Request to files/upload\n",
      "2022-11-30 10:59:15,851-[INFO]- dropbox:390 -> Refreshing access token.\n",
      "2022-11-30 10:59:16,088-[INFO]- dropbox:474 -> Request to files/upload\n",
      "DATA/PRINCE\n",
      "2022-11-30 10:59:17,007-[INFO]- dropbox:390 -> Refreshing access token.\n",
      "2022-11-30 10:59:17,248-[INFO]- dropbox:474 -> Request to files/upload\n",
      "2022-11-30 10:59:18,541-[INFO]- dropbox:390 -> Refreshing access token.\n",
      "2022-11-30 10:59:18,763-[INFO]- dropbox:474 -> Request to files/upload\n",
      "2022-11-30 10:59:19,881-[INFO]- dropbox:390 -> Refreshing access token.\n",
      "2022-11-30 10:59:20,105-[INFO]- dropbox:474 -> Request to files/upload\n",
      "2022-11-30 10:59:21,017-[INFO]- dropbox:390 -> Refreshing access token.\n",
      "2022-11-30 10:59:21,270-[INFO]- dropbox:474 -> Request to files/upload\n",
      "DATA/PRINCE\n",
      "2022-11-30 10:59:22,445-[INFO]- dropbox:390 -> Refreshing access token.\n",
      "2022-11-30 10:59:22,664-[INFO]- dropbox:474 -> Request to files/upload\n",
      "2022-11-30 10:59:23,933-[INFO]- dropbox:390 -> Refreshing access token.\n",
      "2022-11-30 10:59:24,149-[INFO]- dropbox:474 -> Request to files/upload\n",
      "2022-11-30 10:59:25,083-[INFO]- dropbox:390 -> Refreshing access token.\n",
      "2022-11-30 10:59:25,315-[INFO]- dropbox:474 -> Request to files/upload\n",
      "2022-11-30 10:59:26,493-[INFO]- dropbox:390 -> Refreshing access token.\n",
      "2022-11-30 10:59:26,748-[INFO]- dropbox:474 -> Request to files/upload\n",
      "DATA/PRINCE\n",
      "2022-11-30 10:59:27,629-[INFO]- dropbox:390 -> Refreshing access token.\n",
      "2022-11-30 10:59:27,853-[INFO]- dropbox:474 -> Request to files/upload\n",
      "2022-11-30 10:59:29,120-[INFO]- dropbox:390 -> Refreshing access token.\n",
      "2022-11-30 10:59:29,335-[INFO]- dropbox:474 -> Request to files/upload\n",
      "2022-11-30 10:59:30,518-[INFO]- dropbox:390 -> Refreshing access token.\n",
      "2022-11-30 10:59:30,746-[INFO]- dropbox:474 -> Request to files/upload\n",
      "2022-11-30 10:59:31,823-[INFO]- dropbox:390 -> Refreshing access token.\n",
      "2022-11-30 10:59:32,059-[INFO]- dropbox:474 -> Request to files/upload\n",
      "DATA/PRINCE\n",
      "2022-11-30 10:59:33,103-[INFO]- dropbox:390 -> Refreshing access token.\n",
      "2022-11-30 10:59:33,319-[INFO]- dropbox:474 -> Request to files/upload\n",
      "2022-11-30 10:59:34,829-[INFO]- dropbox:390 -> Refreshing access token.\n",
      "2022-11-30 10:59:35,055-[INFO]- dropbox:474 -> Request to files/upload\n",
      "2022-11-30 10:59:35,961-[INFO]- dropbox:390 -> Refreshing access token.\n",
      "2022-11-30 10:59:36,195-[INFO]- dropbox:474 -> Request to files/upload\n",
      "2022-11-30 10:59:37,081-[INFO]- dropbox:390 -> Refreshing access token.\n",
      "2022-11-30 10:59:37,316-[INFO]- dropbox:474 -> Request to files/upload\n",
      "DATA/PRINCE\n",
      "2022-11-30 10:59:38,307-[INFO]- dropbox:390 -> Refreshing access token.\n",
      "2022-11-30 10:59:38,537-[INFO]- dropbox:474 -> Request to files/upload\n",
      "2022-11-30 10:59:39,887-[INFO]- dropbox:390 -> Refreshing access token.\n",
      "2022-11-30 10:59:40,136-[INFO]- dropbox:474 -> Request to files/upload\n",
      "2022-11-30 10:59:40,994-[INFO]- dropbox:390 -> Refreshing access token.\n",
      "2022-11-30 10:59:41,225-[INFO]- dropbox:474 -> Request to files/upload\n",
      "2022-11-30 10:59:42,182-[INFO]- dropbox:390 -> Refreshing access token.\n",
      "2022-11-30 10:59:42,408-[INFO]- dropbox:474 -> Request to files/upload\n",
      "DATA/PRINCE\n",
      "2022-11-30 10:59:43,239-[INFO]- dropbox:390 -> Refreshing access token.\n",
      "2022-11-30 10:59:43,482-[INFO]- dropbox:474 -> Request to files/upload\n",
      "2022-11-30 10:59:45,817-[INFO]- dropbox:390 -> Refreshing access token.\n",
      "2022-11-30 10:59:46,055-[INFO]- dropbox:474 -> Request to files/upload\n",
      "2022-11-30 10:59:47,114-[INFO]- dropbox:390 -> Refreshing access token.\n",
      "2022-11-30 10:59:47,342-[INFO]- dropbox:474 -> Request to files/upload\n",
      "2022-11-30 10:59:48,455-[INFO]- dropbox:390 -> Refreshing access token.\n",
      "2022-11-30 10:59:48,684-[INFO]- dropbox:474 -> Request to files/upload\n",
      "DATA/PRINCE\n",
      "2022-11-30 10:59:49,756-[INFO]- dropbox:390 -> Refreshing access token.\n",
      "2022-11-30 10:59:50,025-[INFO]- dropbox:474 -> Request to files/upload\n",
      "2022-11-30 10:59:51,594-[INFO]- dropbox:390 -> Refreshing access token.\n",
      "2022-11-30 10:59:51,817-[INFO]- dropbox:474 -> Request to files/upload\n",
      "2022-11-30 10:59:52,856-[INFO]- dropbox:390 -> Refreshing access token.\n",
      "2022-11-30 10:59:53,087-[INFO]- dropbox:474 -> Request to files/upload\n",
      "2022-11-30 10:59:54,118-[INFO]- dropbox:390 -> Refreshing access token.\n",
      "2022-11-30 10:59:54,344-[INFO]- dropbox:474 -> Request to files/upload\n",
      "DATA/PRINCE\n",
      "2022-11-30 10:59:55,470-[INFO]- dropbox:390 -> Refreshing access token.\n",
      "2022-11-30 10:59:55,715-[INFO]- dropbox:474 -> Request to files/upload\n",
      "2022-11-30 10:59:57,911-[INFO]- dropbox:390 -> Refreshing access token.\n",
      "2022-11-30 10:59:58,179-[INFO]- dropbox:474 -> Request to files/upload\n",
      "2022-11-30 10:59:59,320-[INFO]- dropbox:390 -> Refreshing access token.\n",
      "2022-11-30 10:59:59,550-[INFO]- dropbox:474 -> Request to files/upload\n",
      "2022-11-30 11:00:00,523-[INFO]- dropbox:390 -> Refreshing access token.\n",
      "2022-11-30 11:00:00,753-[INFO]- dropbox:474 -> Request to files/upload\n",
      "DATA/PRINCE\n",
      "2022-11-30 11:00:01,787-[INFO]- dropbox:390 -> Refreshing access token.\n",
      "2022-11-30 11:00:02,023-[INFO]- dropbox:474 -> Request to files/upload\n",
      "2022-11-30 11:00:03,490-[INFO]- dropbox:390 -> Refreshing access token.\n",
      "2022-11-30 11:00:03,723-[INFO]- dropbox:474 -> Request to files/upload\n",
      "2022-11-30 11:00:04,763-[INFO]- dropbox:390 -> Refreshing access token.\n",
      "2022-11-30 11:00:04,987-[INFO]- dropbox:474 -> Request to files/upload\n",
      "2022-11-30 11:00:05,866-[INFO]- dropbox:390 -> Refreshing access token.\n",
      "2022-11-30 11:00:06,117-[INFO]- dropbox:474 -> Request to files/upload\n",
      "DATA/PRINCE\n",
      "2022-11-30 11:00:07,669-[INFO]- dropbox:390 -> Refreshing access token.\n",
      "2022-11-30 11:00:07,896-[INFO]- dropbox:474 -> Request to files/upload\n",
      "2022-11-30 11:00:09,348-[INFO]- dropbox:390 -> Refreshing access token.\n",
      "2022-11-30 11:00:09,568-[INFO]- dropbox:474 -> Request to files/upload\n",
      "2022-11-30 11:00:10,381-[INFO]- dropbox:390 -> Refreshing access token.\n",
      "2022-11-30 11:00:10,667-[INFO]- dropbox:474 -> Request to files/upload\n",
      "2022-11-30 11:00:11,639-[INFO]- dropbox:390 -> Refreshing access token.\n",
      "2022-11-30 11:00:11,860-[INFO]- dropbox:474 -> Request to files/upload\n",
      "DATA/PRINCE\n",
      "2022-11-30 11:00:12,843-[INFO]- dropbox:390 -> Refreshing access token.\n",
      "2022-11-30 11:00:13,096-[INFO]- dropbox:474 -> Request to files/upload\n",
      "2022-11-30 11:00:14,318-[INFO]- dropbox:390 -> Refreshing access token.\n",
      "2022-11-30 11:00:14,552-[INFO]- dropbox:474 -> Request to files/upload\n",
      "2022-11-30 11:00:15,686-[INFO]- dropbox:390 -> Refreshing access token.\n",
      "2022-11-30 11:00:15,915-[INFO]- dropbox:474 -> Request to files/upload\n",
      "2022-11-30 11:00:17,029-[INFO]- dropbox:390 -> Refreshing access token.\n",
      "2022-11-30 11:00:17,254-[INFO]- dropbox:474 -> Request to files/upload\n",
      "DATA/PRINCE\n",
      "2022-11-30 11:00:18,113-[INFO]- dropbox:390 -> Refreshing access token.\n",
      "2022-11-30 11:00:18,337-[INFO]- dropbox:474 -> Request to files/upload\n",
      "2022-11-30 11:00:20,089-[INFO]- dropbox:390 -> Refreshing access token.\n",
      "2022-11-30 11:00:20,324-[INFO]- dropbox:474 -> Request to files/upload\n",
      "2022-11-30 11:00:21,706-[INFO]- dropbox:390 -> Refreshing access token.\n",
      "2022-11-30 11:00:21,946-[INFO]- dropbox:474 -> Request to files/upload\n",
      "2022-11-30 11:00:23,199-[INFO]- dropbox:390 -> Refreshing access token.\n",
      "2022-11-30 11:00:23,469-[INFO]- dropbox:474 -> Request to files/upload\n",
      "DATA/PRINCE\n",
      "2022-11-30 11:00:24,805-[INFO]- dropbox:390 -> Refreshing access token.\n",
      "2022-11-30 11:00:25,027-[INFO]- dropbox:474 -> Request to files/upload\n",
      "2022-11-30 11:00:26,352-[INFO]- dropbox:390 -> Refreshing access token.\n",
      "2022-11-30 11:00:26,588-[INFO]- dropbox:474 -> Request to files/upload\n",
      "2022-11-30 11:00:27,750-[INFO]- dropbox:390 -> Refreshing access token.\n",
      "2022-11-30 11:00:27,986-[INFO]- dropbox:474 -> Request to files/upload\n",
      "2022-11-30 11:00:29,017-[INFO]- dropbox:390 -> Refreshing access token.\n",
      "2022-11-30 11:00:29,259-[INFO]- dropbox:474 -> Request to files/upload\n",
      "DATA/PRINCE\n",
      "2022-11-30 11:00:30,383-[INFO]- dropbox:390 -> Refreshing access token.\n",
      "2022-11-30 11:00:30,612-[INFO]- dropbox:474 -> Request to files/upload\n",
      "2022-11-30 11:00:32,266-[INFO]- dropbox:390 -> Refreshing access token.\n",
      "2022-11-30 11:00:32,496-[INFO]- dropbox:474 -> Request to files/upload\n",
      "2022-11-30 11:00:33,545-[INFO]- dropbox:390 -> Refreshing access token.\n",
      "2022-11-30 11:00:33,771-[INFO]- dropbox:474 -> Request to files/upload\n",
      "2022-11-30 11:00:35,651-[INFO]- dropbox:390 -> Refreshing access token.\n",
      "2022-11-30 11:00:35,903-[INFO]- dropbox:474 -> Request to files/upload\n",
      "DATA/PRINCE\n",
      "2022-11-30 11:00:37,045-[INFO]- dropbox:390 -> Refreshing access token.\n",
      "2022-11-30 11:00:37,274-[INFO]- dropbox:474 -> Request to files/upload\n",
      "2022-11-30 11:00:39,207-[INFO]- dropbox:390 -> Refreshing access token.\n",
      "2022-11-30 11:00:39,433-[INFO]- dropbox:474 -> Request to files/upload\n",
      "2022-11-30 11:00:40,487-[INFO]- dropbox:390 -> Refreshing access token.\n",
      "2022-11-30 11:00:40,720-[INFO]- dropbox:474 -> Request to files/upload\n",
      "2022-11-30 11:00:42,093-[INFO]- dropbox:390 -> Refreshing access token.\n",
      "2022-11-30 11:00:42,319-[INFO]- dropbox:474 -> Request to files/upload\n",
      "DATA/PRINCE\n",
      "2022-11-30 11:00:43,213-[INFO]- dropbox:390 -> Refreshing access token.\n",
      "2022-11-30 11:00:43,461-[INFO]- dropbox:474 -> Request to files/upload\n",
      "2022-11-30 11:00:44,826-[INFO]- dropbox:390 -> Refreshing access token.\n",
      "2022-11-30 11:00:45,072-[INFO]- dropbox:474 -> Request to files/upload\n",
      "2022-11-30 11:00:45,949-[INFO]- dropbox:390 -> Refreshing access token.\n",
      "2022-11-30 11:00:46,180-[INFO]- dropbox:474 -> Request to files/upload\n",
      "2022-11-30 11:00:47,300-[INFO]- dropbox:390 -> Refreshing access token.\n",
      "2022-11-30 11:00:47,535-[INFO]- dropbox:474 -> Request to files/upload\n",
      "DATA/PRINCE\n",
      "2022-11-30 11:00:49,238-[INFO]- dropbox:390 -> Refreshing access token.\n",
      "2022-11-30 11:00:49,462-[INFO]- dropbox:474 -> Request to files/upload\n",
      "2022-11-30 11:00:50,910-[INFO]- dropbox:390 -> Refreshing access token.\n",
      "2022-11-30 11:00:51,162-[INFO]- dropbox:474 -> Request to files/upload\n",
      "2022-11-30 11:00:52,100-[INFO]- dropbox:390 -> Refreshing access token.\n",
      "2022-11-30 11:00:52,340-[INFO]- dropbox:474 -> Request to files/upload\n",
      "2022-11-30 11:00:53,302-[INFO]- dropbox:390 -> Refreshing access token.\n",
      "2022-11-30 11:00:53,535-[INFO]- dropbox:474 -> Request to files/upload\n",
      "DATA/PRINCE\n",
      "2022-11-30 11:00:54,580-[INFO]- dropbox:390 -> Refreshing access token.\n",
      "2022-11-30 11:00:54,843-[INFO]- dropbox:474 -> Request to files/upload\n",
      "2022-11-30 11:00:56,212-[INFO]- dropbox:390 -> Refreshing access token.\n",
      "2022-11-30 11:00:56,448-[INFO]- dropbox:474 -> Request to files/upload\n",
      "2022-11-30 11:00:57,256-[INFO]- dropbox:390 -> Refreshing access token.\n",
      "2022-11-30 11:00:57,484-[INFO]- dropbox:474 -> Request to files/upload\n",
      "2022-11-30 11:00:59,420-[INFO]- dropbox:390 -> Refreshing access token.\n",
      "2022-11-30 11:00:59,647-[INFO]- dropbox:474 -> Request to files/upload\n",
      "DATA/PRINCE\n",
      "2022-11-30 11:01:00,496-[INFO]- dropbox:390 -> Refreshing access token.\n",
      "2022-11-30 11:01:00,736-[INFO]- dropbox:474 -> Request to files/upload\n",
      "2022-11-30 11:01:02,227-[INFO]- dropbox:390 -> Refreshing access token.\n",
      "2022-11-30 11:01:02,763-[INFO]- dropbox:474 -> Request to files/upload\n",
      "2022-11-30 11:01:03,910-[INFO]- dropbox:390 -> Refreshing access token.\n",
      "2022-11-30 11:01:04,145-[INFO]- dropbox:474 -> Request to files/upload\n",
      "2022-11-30 11:01:05,234-[INFO]- dropbox:390 -> Refreshing access token.\n",
      "2022-11-30 11:01:05,471-[INFO]- dropbox:474 -> Request to files/upload\n",
      "DATA/PRINCE\n",
      "2022-11-30 11:01:06,496-[INFO]- dropbox:390 -> Refreshing access token.\n",
      "2022-11-30 11:01:06,722-[INFO]- dropbox:474 -> Request to files/upload\n",
      "2022-11-30 11:01:08,039-[INFO]- dropbox:390 -> Refreshing access token.\n",
      "2022-11-30 11:01:08,265-[INFO]- dropbox:474 -> Request to files/upload\n",
      "2022-11-30 11:01:09,424-[INFO]- dropbox:390 -> Refreshing access token.\n",
      "2022-11-30 11:01:09,654-[INFO]- dropbox:474 -> Request to files/upload\n",
      "2022-11-30 11:01:10,826-[INFO]- dropbox:390 -> Refreshing access token.\n",
      "2022-11-30 11:01:11,073-[INFO]- dropbox:474 -> Request to files/upload\n",
      "DATA/PRINCE\n",
      "2022-11-30 11:01:12,557-[INFO]- dropbox:390 -> Refreshing access token.\n",
      "2022-11-30 11:01:12,818-[INFO]- dropbox:474 -> Request to files/upload\n",
      "2022-11-30 11:01:14,312-[INFO]- dropbox:390 -> Refreshing access token.\n",
      "2022-11-30 11:01:14,529-[INFO]- dropbox:474 -> Request to files/upload\n",
      "2022-11-30 11:01:15,460-[INFO]- dropbox:390 -> Refreshing access token.\n",
      "2022-11-30 11:01:15,697-[INFO]- dropbox:474 -> Request to files/upload\n",
      "2022-11-30 11:01:16,569-[INFO]- dropbox:390 -> Refreshing access token.\n",
      "2022-11-30 11:01:16,798-[INFO]- dropbox:474 -> Request to files/upload\n",
      "DATA/PRINCE\n",
      "2022-11-30 11:01:17,745-[INFO]- dropbox:390 -> Refreshing access token.\n",
      "2022-11-30 11:01:17,982-[INFO]- dropbox:474 -> Request to files/upload\n",
      "2022-11-30 11:01:19,452-[INFO]- dropbox:390 -> Refreshing access token.\n",
      "2022-11-30 11:01:19,701-[INFO]- dropbox:474 -> Request to files/upload\n",
      "2022-11-30 11:01:20,888-[INFO]- dropbox:390 -> Refreshing access token.\n",
      "2022-11-30 11:01:21,113-[INFO]- dropbox:474 -> Request to files/upload\n",
      "2022-11-30 11:01:22,198-[INFO]- dropbox:390 -> Refreshing access token.\n",
      "2022-11-30 11:01:22,428-[INFO]- dropbox:474 -> Request to files/upload\n",
      "DATA/PRINCE\n",
      "2022-11-30 11:01:23,370-[INFO]- dropbox:390 -> Refreshing access token.\n",
      "2022-11-30 11:01:23,618-[INFO]- dropbox:474 -> Request to files/upload\n",
      "2022-11-30 11:01:25,169-[INFO]- dropbox:390 -> Refreshing access token.\n",
      "2022-11-30 11:01:25,395-[INFO]- dropbox:474 -> Request to files/upload\n",
      "2022-11-30 11:01:26,774-[INFO]- dropbox:390 -> Refreshing access token.\n",
      "2022-11-30 11:01:27,001-[INFO]- dropbox:474 -> Request to files/upload\n",
      "2022-11-30 11:01:27,854-[INFO]- dropbox:390 -> Refreshing access token.\n",
      "2022-11-30 11:01:28,090-[INFO]- dropbox:474 -> Request to files/upload\n",
      "DATA/PRINCE\n",
      "2022-11-30 11:01:29,129-[INFO]- dropbox:390 -> Refreshing access token.\n",
      "2022-11-30 11:01:29,355-[INFO]- dropbox:474 -> Request to files/upload\n",
      "2022-11-30 11:01:30,839-[INFO]- dropbox:390 -> Refreshing access token.\n",
      "2022-11-30 11:01:31,072-[INFO]- dropbox:474 -> Request to files/upload\n",
      "2022-11-30 11:01:32,200-[INFO]- dropbox:390 -> Refreshing access token.\n",
      "2022-11-30 11:01:32,423-[INFO]- dropbox:474 -> Request to files/upload\n",
      "2022-11-30 11:01:33,332-[INFO]- dropbox:390 -> Refreshing access token.\n",
      "2022-11-30 11:01:33,559-[INFO]- dropbox:474 -> Request to files/upload\n",
      "DATA/PRINCE\n",
      "2022-11-30 11:01:34,884-[INFO]- dropbox:390 -> Refreshing access token.\n",
      "2022-11-30 11:01:35,252-[INFO]- dropbox:474 -> Request to files/upload\n",
      "2022-11-30 11:01:36,840-[INFO]- dropbox:390 -> Refreshing access token.\n",
      "2022-11-30 11:01:37,069-[INFO]- dropbox:474 -> Request to files/upload\n",
      "2022-11-30 11:01:38,040-[INFO]- dropbox:390 -> Refreshing access token.\n",
      "2022-11-30 11:01:38,276-[INFO]- dropbox:474 -> Request to files/upload\n",
      "2022-11-30 11:01:39,304-[INFO]- dropbox:390 -> Refreshing access token.\n",
      "2022-11-30 11:01:39,527-[INFO]- dropbox:474 -> Request to files/upload\n",
      "DATA/PRINCE\n",
      "2022-11-30 11:01:40,572-[INFO]- dropbox:390 -> Refreshing access token.\n",
      "2022-11-30 11:01:40,813-[INFO]- dropbox:474 -> Request to files/upload\n",
      "2022-11-30 11:01:42,476-[INFO]- dropbox:390 -> Refreshing access token.\n",
      "2022-11-30 11:01:42,721-[INFO]- dropbox:474 -> Request to files/upload\n",
      "2022-11-30 11:01:43,938-[INFO]- dropbox:390 -> Refreshing access token.\n",
      "2022-11-30 11:01:44,161-[INFO]- dropbox:474 -> Request to files/upload\n",
      "2022-11-30 11:01:45,272-[INFO]- dropbox:390 -> Refreshing access token.\n",
      "2022-11-30 11:01:45,514-[INFO]- dropbox:474 -> Request to files/upload\n",
      "DATA/PRINCE\n",
      "2022-11-30 11:01:47,088-[INFO]- dropbox:390 -> Refreshing access token.\n",
      "2022-11-30 11:01:47,310-[INFO]- dropbox:474 -> Request to files/upload\n",
      "2022-11-30 11:01:48,888-[INFO]- dropbox:390 -> Refreshing access token.\n",
      "2022-11-30 11:01:49,111-[INFO]- dropbox:474 -> Request to files/upload\n",
      "2022-11-30 11:01:50,601-[INFO]- dropbox:390 -> Refreshing access token.\n",
      "2022-11-30 11:01:50,843-[INFO]- dropbox:474 -> Request to files/upload\n",
      "2022-11-30 11:01:52,038-[INFO]- dropbox:390 -> Refreshing access token.\n",
      "2022-11-30 11:01:52,280-[INFO]- dropbox:474 -> Request to files/upload\n",
      "DATA/PRINCE\n",
      "2022-11-30 11:01:53,215-[INFO]- dropbox:390 -> Refreshing access token.\n",
      "2022-11-30 11:01:53,446-[INFO]- dropbox:474 -> Request to files/upload\n",
      "2022-11-30 11:01:55,032-[INFO]- dropbox:390 -> Refreshing access token.\n",
      "2022-11-30 11:01:55,251-[INFO]- dropbox:474 -> Request to files/upload\n",
      "2022-11-30 11:01:56,208-[INFO]- dropbox:390 -> Refreshing access token.\n",
      "2022-11-30 11:01:56,429-[INFO]- dropbox:474 -> Request to files/upload\n",
      "2022-11-30 11:01:57,350-[INFO]- dropbox:390 -> Refreshing access token.\n",
      "2022-11-30 11:01:57,570-[INFO]- dropbox:474 -> Request to files/upload\n",
      "DATA/PRINCE\n",
      "2022-11-30 11:01:58,383-[INFO]- dropbox:390 -> Refreshing access token.\n",
      "2022-11-30 11:01:58,625-[INFO]- dropbox:474 -> Request to files/upload\n",
      "2022-11-30 11:02:00,120-[INFO]- dropbox:390 -> Refreshing access token.\n",
      "2022-11-30 11:02:00,359-[INFO]- dropbox:474 -> Request to files/upload\n",
      "2022-11-30 11:02:01,260-[INFO]- dropbox:390 -> Refreshing access token.\n",
      "2022-11-30 11:02:01,480-[INFO]- dropbox:474 -> Request to files/upload\n",
      "2022-11-30 11:02:02,411-[INFO]- dropbox:390 -> Refreshing access token.\n",
      "2022-11-30 11:02:02,645-[INFO]- dropbox:474 -> Request to files/upload\n",
      "DATA/PRINCE\n",
      "2022-11-30 11:02:03,739-[INFO]- dropbox:390 -> Refreshing access token.\n",
      "2022-11-30 11:02:03,960-[INFO]- dropbox:474 -> Request to files/upload\n",
      "2022-11-30 11:02:05,163-[INFO]- dropbox:390 -> Refreshing access token.\n",
      "2022-11-30 11:02:05,408-[INFO]- dropbox:474 -> Request to files/upload\n",
      "2022-11-30 11:02:06,475-[INFO]- dropbox:390 -> Refreshing access token.\n",
      "2022-11-30 11:02:06,723-[INFO]- dropbox:474 -> Request to files/upload\n",
      "2022-11-30 11:02:07,801-[INFO]- dropbox:390 -> Refreshing access token.\n",
      "2022-11-30 11:02:08,035-[INFO]- dropbox:474 -> Request to files/upload\n",
      "DATA/PRINCE\n",
      "2022-11-30 11:02:09,072-[INFO]- dropbox:390 -> Refreshing access token.\n",
      "2022-11-30 11:02:09,299-[INFO]- dropbox:474 -> Request to files/upload\n",
      "2022-11-30 11:02:10,821-[INFO]- dropbox:390 -> Refreshing access token.\n",
      "2022-11-30 11:02:11,084-[INFO]- dropbox:474 -> Request to files/upload\n",
      "2022-11-30 11:02:12,018-[INFO]- dropbox:390 -> Refreshing access token.\n",
      "2022-11-30 11:02:12,285-[INFO]- dropbox:474 -> Request to files/upload\n",
      "2022-11-30 11:02:17,357-[INFO]- dropbox:390 -> Refreshing access token.\n",
      "2022-11-30 11:02:17,615-[INFO]- dropbox:474 -> Request to files/upload\n",
      "DATA/PRINCE\n",
      "2022-11-30 11:02:19,275-[INFO]- dropbox:390 -> Refreshing access token.\n",
      "2022-11-30 11:02:19,515-[INFO]- dropbox:474 -> Request to files/upload\n",
      "2022-11-30 11:02:21,065-[INFO]- dropbox:390 -> Refreshing access token.\n",
      "2022-11-30 11:02:21,313-[INFO]- dropbox:474 -> Request to files/upload\n",
      "2022-11-30 11:02:22,522-[INFO]- dropbox:390 -> Refreshing access token.\n",
      "2022-11-30 11:02:22,747-[INFO]- dropbox:474 -> Request to files/upload\n",
      "2022-11-30 11:02:23,702-[INFO]- dropbox:390 -> Refreshing access token.\n",
      "2022-11-30 11:02:23,927-[INFO]- dropbox:474 -> Request to files/upload\n",
      "DATA/PRINCE\n",
      "2022-11-30 11:02:25,051-[INFO]- dropbox:390 -> Refreshing access token.\n",
      "2022-11-30 11:02:25,274-[INFO]- dropbox:474 -> Request to files/upload\n",
      "2022-11-30 11:02:26,816-[INFO]- dropbox:390 -> Refreshing access token.\n",
      "2022-11-30 11:02:27,044-[INFO]- dropbox:474 -> Request to files/upload\n",
      "2022-11-30 11:02:28,206-[INFO]- dropbox:390 -> Refreshing access token.\n",
      "2022-11-30 11:02:28,469-[INFO]- dropbox:474 -> Request to files/upload\n",
      "2022-11-30 11:02:29,305-[INFO]- dropbox:390 -> Refreshing access token.\n",
      "2022-11-30 11:02:29,542-[INFO]- dropbox:474 -> Request to files/upload\n",
      "DATA/PRINCE\n",
      "2022-11-30 11:02:30,599-[INFO]- dropbox:390 -> Refreshing access token.\n",
      "2022-11-30 11:02:30,869-[INFO]- dropbox:474 -> Request to files/upload\n",
      "2022-11-30 11:02:33,013-[INFO]- dropbox:390 -> Refreshing access token.\n",
      "2022-11-30 11:02:33,243-[INFO]- dropbox:474 -> Request to files/upload\n",
      "2022-11-30 11:02:34,306-[INFO]- dropbox:390 -> Refreshing access token.\n",
      "2022-11-30 11:02:34,531-[INFO]- dropbox:474 -> Request to files/upload\n",
      "2022-11-30 11:02:35,519-[INFO]- dropbox:390 -> Refreshing access token.\n",
      "2022-11-30 11:02:35,763-[INFO]- dropbox:474 -> Request to files/upload\n",
      "DATA/PRINCE\n",
      "2022-11-30 11:02:36,721-[INFO]- dropbox:390 -> Refreshing access token.\n",
      "2022-11-30 11:02:36,946-[INFO]- dropbox:474 -> Request to files/upload\n",
      "2022-11-30 11:02:39,094-[INFO]- dropbox:390 -> Refreshing access token.\n",
      "2022-11-30 11:02:39,318-[INFO]- dropbox:474 -> Request to files/upload\n",
      "2022-11-30 11:02:40,187-[INFO]- dropbox:390 -> Refreshing access token.\n",
      "2022-11-30 11:02:40,414-[INFO]- dropbox:474 -> Request to files/upload\n",
      "2022-11-30 11:02:41,287-[INFO]- dropbox:390 -> Refreshing access token.\n",
      "2022-11-30 11:02:41,589-[INFO]- dropbox:474 -> Request to files/upload\n",
      "DATA/PRINCE\n",
      "2022-11-30 11:02:42,729-[INFO]- dropbox:390 -> Refreshing access token.\n",
      "2022-11-30 11:02:42,959-[INFO]- dropbox:474 -> Request to files/upload\n",
      "2022-11-30 11:02:44,710-[INFO]- dropbox:390 -> Refreshing access token.\n",
      "2022-11-30 11:02:44,955-[INFO]- dropbox:474 -> Request to files/upload\n",
      "2022-11-30 11:02:46,163-[INFO]- dropbox:390 -> Refreshing access token.\n",
      "2022-11-30 11:02:46,390-[INFO]- dropbox:474 -> Request to files/upload\n",
      "2022-11-30 11:02:47,275-[INFO]- dropbox:390 -> Refreshing access token.\n",
      "2022-11-30 11:02:47,499-[INFO]- dropbox:474 -> Request to files/upload\n",
      "DATA/PRINCE\n",
      "2022-11-30 11:02:48,732-[INFO]- dropbox:390 -> Refreshing access token.\n",
      "2022-11-30 11:02:48,958-[INFO]- dropbox:474 -> Request to files/upload\n",
      "2022-11-30 11:02:50,364-[INFO]- dropbox:390 -> Refreshing access token.\n",
      "2022-11-30 11:02:50,590-[INFO]- dropbox:474 -> Request to files/upload\n",
      "2022-11-30 11:02:51,662-[INFO]- dropbox:390 -> Refreshing access token.\n",
      "2022-11-30 11:02:51,907-[INFO]- dropbox:474 -> Request to files/upload\n",
      "2022-11-30 11:02:52,786-[INFO]- dropbox:390 -> Refreshing access token.\n",
      "2022-11-30 11:02:53,018-[INFO]- dropbox:474 -> Request to files/upload\n",
      "DATA/PRINCE\n",
      "2022-11-30 11:02:53,998-[INFO]- dropbox:390 -> Refreshing access token.\n",
      "2022-11-30 11:02:54,223-[INFO]- dropbox:474 -> Request to files/upload\n",
      "2022-11-30 11:02:55,719-[INFO]- dropbox:390 -> Refreshing access token.\n",
      "2022-11-30 11:02:55,953-[INFO]- dropbox:474 -> Request to files/upload\n",
      "2022-11-30 11:02:57,112-[INFO]- dropbox:390 -> Refreshing access token.\n",
      "2022-11-30 11:02:57,381-[INFO]- dropbox:474 -> Request to files/upload\n",
      "2022-11-30 11:02:58,834-[INFO]- dropbox:390 -> Refreshing access token.\n",
      "2022-11-30 11:02:59,090-[INFO]- dropbox:474 -> Request to files/upload\n",
      "DATA/PRINCE\n",
      "2022-11-30 11:03:00,426-[INFO]- dropbox:390 -> Refreshing access token.\n",
      "2022-11-30 11:03:00,674-[INFO]- dropbox:474 -> Request to files/upload\n",
      "2022-11-30 11:03:02,153-[INFO]- dropbox:390 -> Refreshing access token.\n",
      "2022-11-30 11:03:02,390-[INFO]- dropbox:474 -> Request to files/upload\n",
      "2022-11-30 11:03:03,388-[INFO]- dropbox:390 -> Refreshing access token.\n",
      "2022-11-30 11:03:03,616-[INFO]- dropbox:474 -> Request to files/upload\n",
      "2022-11-30 11:03:04,863-[INFO]- dropbox:390 -> Refreshing access token.\n",
      "2022-11-30 11:03:05,088-[INFO]- dropbox:474 -> Request to files/upload\n",
      "DATA/PRINCE\n",
      "2022-11-30 11:03:06,064-[INFO]- dropbox:390 -> Refreshing access token.\n",
      "2022-11-30 11:03:06,298-[INFO]- dropbox:474 -> Request to files/upload\n",
      "2022-11-30 11:03:07,620-[INFO]- dropbox:390 -> Refreshing access token.\n",
      "2022-11-30 11:03:07,864-[INFO]- dropbox:474 -> Request to files/upload\n",
      "2022-11-30 11:03:08,742-[INFO]- dropbox:390 -> Refreshing access token.\n",
      "2022-11-30 11:03:08,998-[INFO]- dropbox:474 -> Request to files/upload\n",
      "2022-11-30 11:03:10,192-[INFO]- dropbox:390 -> Refreshing access token.\n",
      "2022-11-30 11:03:10,417-[INFO]- dropbox:474 -> Request to files/upload\n",
      "DATA/PRINCE\n",
      "2022-11-30 11:03:11,480-[INFO]- dropbox:390 -> Refreshing access token.\n",
      "2022-11-30 11:03:11,741-[INFO]- dropbox:474 -> Request to files/upload\n",
      "2022-11-30 11:03:13,185-[INFO]- dropbox:390 -> Refreshing access token.\n",
      "2022-11-30 11:03:13,423-[INFO]- dropbox:474 -> Request to files/upload\n",
      "2022-11-30 11:03:14,363-[INFO]- dropbox:390 -> Refreshing access token.\n",
      "2022-11-30 11:03:14,593-[INFO]- dropbox:474 -> Request to files/upload\n",
      "2022-11-30 11:03:15,915-[INFO]- dropbox:390 -> Refreshing access token.\n",
      "2022-11-30 11:03:16,137-[INFO]- dropbox:474 -> Request to files/upload\n",
      "DATA/PRINCE\n",
      "2022-11-30 11:03:17,011-[INFO]- dropbox:390 -> Refreshing access token.\n",
      "2022-11-30 11:03:17,311-[INFO]- dropbox:474 -> Request to files/upload\n",
      "2022-11-30 11:03:18,598-[INFO]- dropbox:390 -> Refreshing access token.\n",
      "2022-11-30 11:03:18,827-[INFO]- dropbox:474 -> Request to files/upload\n",
      "2022-11-30 11:03:19,705-[INFO]- dropbox:390 -> Refreshing access token.\n",
      "2022-11-30 11:03:19,945-[INFO]- dropbox:474 -> Request to files/upload\n",
      "2022-11-30 11:03:20,899-[INFO]- dropbox:390 -> Refreshing access token.\n",
      "2022-11-30 11:03:21,144-[INFO]- dropbox:474 -> Request to files/upload\n",
      "DATA/PRINCE\n",
      "2022-11-30 11:03:22,295-[INFO]- dropbox:390 -> Refreshing access token.\n",
      "2022-11-30 11:03:22,520-[INFO]- dropbox:474 -> Request to files/upload\n",
      "2022-11-30 11:03:23,950-[INFO]- dropbox:390 -> Refreshing access token.\n",
      "2022-11-30 11:03:24,184-[INFO]- dropbox:474 -> Request to files/upload\n",
      "2022-11-30 11:03:25,251-[INFO]- dropbox:390 -> Refreshing access token.\n",
      "2022-11-30 11:03:25,474-[INFO]- dropbox:474 -> Request to files/upload\n",
      "2022-11-30 11:03:26,538-[INFO]- dropbox:390 -> Refreshing access token.\n",
      "2022-11-30 11:03:26,761-[INFO]- dropbox:474 -> Request to files/upload\n",
      "DATA/PRINCE\n",
      "2022-11-30 11:03:27,926-[INFO]- dropbox:390 -> Refreshing access token.\n",
      "2022-11-30 11:03:28,162-[INFO]- dropbox:474 -> Request to files/upload\n",
      "2022-11-30 11:03:30,181-[INFO]- dropbox:390 -> Refreshing access token.\n",
      "2022-11-30 11:03:30,412-[INFO]- dropbox:474 -> Request to files/upload\n",
      "2022-11-30 11:03:31,598-[INFO]- dropbox:390 -> Refreshing access token.\n",
      "2022-11-30 11:03:31,842-[INFO]- dropbox:474 -> Request to files/upload\n",
      "2022-11-30 11:03:33,037-[INFO]- dropbox:390 -> Refreshing access token.\n",
      "2022-11-30 11:03:33,257-[INFO]- dropbox:474 -> Request to files/upload\n",
      "DATA/PRINCE\n",
      "2022-11-30 11:03:34,590-[INFO]- dropbox:390 -> Refreshing access token.\n",
      "2022-11-30 11:03:34,820-[INFO]- dropbox:474 -> Request to files/upload\n",
      "2022-11-30 11:03:36,189-[INFO]- dropbox:390 -> Refreshing access token.\n",
      "2022-11-30 11:03:36,418-[INFO]- dropbox:474 -> Request to files/upload\n",
      "2022-11-30 11:03:37,430-[INFO]- dropbox:390 -> Refreshing access token.\n",
      "2022-11-30 11:03:37,669-[INFO]- dropbox:474 -> Request to files/upload\n",
      "2022-11-30 11:03:38,829-[INFO]- dropbox:390 -> Refreshing access token.\n",
      "2022-11-30 11:03:39,075-[INFO]- dropbox:474 -> Request to files/upload\n",
      "DATA/PRINCE\n",
      "2022-11-30 11:03:40,141-[INFO]- dropbox:390 -> Refreshing access token.\n",
      "2022-11-30 11:03:40,368-[INFO]- dropbox:474 -> Request to files/upload\n",
      "2022-11-30 11:03:41,788-[INFO]- dropbox:390 -> Refreshing access token.\n",
      "2022-11-30 11:03:42,006-[INFO]- dropbox:474 -> Request to files/upload\n",
      "2022-11-30 11:03:43,128-[INFO]- dropbox:390 -> Refreshing access token.\n",
      "2022-11-30 11:03:43,362-[INFO]- dropbox:474 -> Request to files/upload\n",
      "2022-11-30 11:03:44,454-[INFO]- dropbox:390 -> Refreshing access token.\n",
      "2022-11-30 11:03:44,678-[INFO]- dropbox:474 -> Request to files/upload\n",
      "DATA/PRINCE\n",
      "2022-11-30 11:03:45,888-[INFO]- dropbox:390 -> Refreshing access token.\n",
      "2022-11-30 11:03:46,116-[INFO]- dropbox:474 -> Request to files/upload\n",
      "2022-11-30 11:03:47,586-[INFO]- dropbox:390 -> Refreshing access token.\n",
      "2022-11-30 11:03:47,810-[INFO]- dropbox:474 -> Request to files/upload\n",
      "2022-11-30 11:03:48,857-[INFO]- dropbox:390 -> Refreshing access token.\n",
      "2022-11-30 11:03:49,093-[INFO]- dropbox:474 -> Request to files/upload\n",
      "2022-11-30 11:03:50,162-[INFO]- dropbox:390 -> Refreshing access token.\n",
      "2022-11-30 11:03:50,387-[INFO]- dropbox:474 -> Request to files/upload\n",
      "DATA/PRINCE\n",
      "2022-11-30 11:03:51,610-[INFO]- dropbox:390 -> Refreshing access token.\n",
      "2022-11-30 11:03:51,843-[INFO]- dropbox:474 -> Request to files/upload\n",
      "2022-11-30 11:03:53,315-[INFO]- dropbox:390 -> Refreshing access token.\n",
      "2022-11-30 11:03:53,537-[INFO]- dropbox:474 -> Request to files/upload\n",
      "2022-11-30 11:03:54,912-[INFO]- dropbox:390 -> Refreshing access token.\n",
      "2022-11-30 11:03:55,134-[INFO]- dropbox:474 -> Request to files/upload\n",
      "2022-11-30 11:03:56,077-[INFO]- dropbox:390 -> Refreshing access token.\n",
      "2022-11-30 11:03:56,314-[INFO]- dropbox:474 -> Request to files/upload\n",
      "DATA/PRINCE\n",
      "2022-11-30 11:03:57,634-[INFO]- dropbox:390 -> Refreshing access token.\n",
      "2022-11-30 11:03:57,892-[INFO]- dropbox:474 -> Request to files/upload\n",
      "2022-11-30 11:03:59,125-[INFO]- dropbox:390 -> Refreshing access token.\n",
      "2022-11-30 11:03:59,352-[INFO]- dropbox:474 -> Request to files/upload\n",
      "2022-11-30 11:04:00,393-[INFO]- dropbox:390 -> Refreshing access token.\n",
      "2022-11-30 11:04:00,613-[INFO]- dropbox:474 -> Request to files/upload\n",
      "2022-11-30 11:04:01,808-[INFO]- dropbox:390 -> Refreshing access token.\n",
      "2022-11-30 11:04:02,057-[INFO]- dropbox:474 -> Request to files/upload\n",
      "DATA/PRINCE\n",
      "2022-11-30 11:04:03,219-[INFO]- dropbox:390 -> Refreshing access token.\n",
      "2022-11-30 11:04:03,437-[INFO]- dropbox:474 -> Request to files/upload\n",
      "2022-11-30 11:04:04,820-[INFO]- dropbox:390 -> Refreshing access token.\n",
      "2022-11-30 11:04:05,052-[INFO]- dropbox:474 -> Request to files/upload\n",
      "2022-11-30 11:04:06,135-[INFO]- dropbox:390 -> Refreshing access token.\n",
      "2022-11-30 11:04:06,351-[INFO]- dropbox:474 -> Request to files/upload\n",
      "2022-11-30 11:04:08,602-[INFO]- dropbox:390 -> Refreshing access token.\n",
      "2022-11-30 11:04:08,821-[INFO]- dropbox:474 -> Request to files/upload\n",
      "DATA/PRINCE\n",
      "2022-11-30 11:04:10,392-[INFO]- dropbox:390 -> Refreshing access token.\n",
      "2022-11-30 11:04:10,628-[INFO]- dropbox:474 -> Request to files/upload\n",
      "2022-11-30 11:04:12,135-[INFO]- dropbox:390 -> Refreshing access token.\n",
      "2022-11-30 11:04:12,441-[INFO]- dropbox:474 -> Request to files/upload\n",
      "2022-11-30 11:04:13,384-[INFO]- dropbox:390 -> Refreshing access token.\n",
      "2022-11-30 11:04:13,609-[INFO]- dropbox:474 -> Request to files/upload\n",
      "2022-11-30 11:04:14,546-[INFO]- dropbox:390 -> Refreshing access token.\n",
      "2022-11-30 11:04:14,849-[INFO]- dropbox:474 -> Request to files/upload\n",
      "DATA/PRINCE\n",
      "2022-11-30 11:04:15,767-[INFO]- dropbox:390 -> Refreshing access token.\n",
      "2022-11-30 11:04:15,993-[INFO]- dropbox:474 -> Request to files/upload\n",
      "2022-11-30 11:04:17,456-[INFO]- dropbox:390 -> Refreshing access token.\n",
      "2022-11-30 11:04:17,689-[INFO]- dropbox:474 -> Request to files/upload\n",
      "2022-11-30 11:04:18,547-[INFO]- dropbox:390 -> Refreshing access token.\n",
      "2022-11-30 11:04:18,782-[INFO]- dropbox:474 -> Request to files/upload\n",
      "2022-11-30 11:04:20,384-[INFO]- dropbox:390 -> Refreshing access token.\n",
      "2022-11-30 11:04:20,617-[INFO]- dropbox:474 -> Request to files/upload\n",
      "DATA/PRINCE\n",
      "2022-11-30 11:04:21,702-[INFO]- dropbox:390 -> Refreshing access token.\n",
      "2022-11-30 11:04:21,928-[INFO]- dropbox:474 -> Request to files/upload\n",
      "2022-11-30 11:04:23,161-[INFO]- dropbox:390 -> Refreshing access token.\n",
      "2022-11-30 11:04:23,422-[INFO]- dropbox:474 -> Request to files/upload\n",
      "2022-11-30 11:04:24,382-[INFO]- dropbox:390 -> Refreshing access token.\n",
      "2022-11-30 11:04:24,602-[INFO]- dropbox:474 -> Request to files/upload\n",
      "2022-11-30 11:04:25,815-[INFO]- dropbox:390 -> Refreshing access token.\n",
      "2022-11-30 11:04:26,043-[INFO]- dropbox:474 -> Request to files/upload\n",
      "DATA/PRINCE\n",
      "2022-11-30 11:04:26,889-[INFO]- dropbox:390 -> Refreshing access token.\n",
      "2022-11-30 11:04:27,115-[INFO]- dropbox:474 -> Request to files/upload\n",
      "2022-11-30 11:04:28,458-[INFO]- dropbox:390 -> Refreshing access token.\n",
      "2022-11-30 11:04:28,678-[INFO]- dropbox:474 -> Request to files/upload\n",
      "2022-11-30 11:04:29,621-[INFO]- dropbox:390 -> Refreshing access token.\n",
      "2022-11-30 11:04:29,843-[INFO]- dropbox:474 -> Request to files/upload\n",
      "2022-11-30 11:04:30,943-[INFO]- dropbox:390 -> Refreshing access token.\n",
      "2022-11-30 11:04:31,174-[INFO]- dropbox:474 -> Request to files/upload\n",
      "DATA/PRINCE\n",
      "2022-11-30 11:04:32,252-[INFO]- dropbox:390 -> Refreshing access token.\n",
      "2022-11-30 11:04:32,480-[INFO]- dropbox:474 -> Request to files/upload\n",
      "2022-11-30 11:04:34,086-[INFO]- dropbox:390 -> Refreshing access token.\n",
      "2022-11-30 11:04:34,332-[INFO]- dropbox:474 -> Request to files/upload\n",
      "2022-11-30 11:04:35,301-[INFO]- dropbox:390 -> Refreshing access token.\n",
      "2022-11-30 11:04:35,526-[INFO]- dropbox:474 -> Request to files/upload\n",
      "2022-11-30 11:04:36,522-[INFO]- dropbox:390 -> Refreshing access token.\n",
      "2022-11-30 11:04:36,789-[INFO]- dropbox:474 -> Request to files/upload\n",
      "DATA/PRINCE\n",
      "2022-11-30 11:04:37,763-[INFO]- dropbox:390 -> Refreshing access token.\n",
      "2022-11-30 11:04:38,006-[INFO]- dropbox:474 -> Request to files/upload\n",
      "2022-11-30 11:04:39,848-[INFO]- dropbox:390 -> Refreshing access token.\n",
      "2022-11-30 11:04:40,068-[INFO]- dropbox:474 -> Request to files/upload\n",
      "2022-11-30 11:04:40,981-[INFO]- dropbox:390 -> Refreshing access token.\n",
      "2022-11-30 11:04:41,226-[INFO]- dropbox:474 -> Request to files/upload\n",
      "2022-11-30 11:04:42,064-[INFO]- dropbox:390 -> Refreshing access token.\n",
      "2022-11-30 11:04:42,299-[INFO]- dropbox:474 -> Request to files/upload\n",
      "DATA/PRINCE\n",
      "2022-11-30 11:04:43,268-[INFO]- dropbox:390 -> Refreshing access token.\n",
      "2022-11-30 11:04:43,495-[INFO]- dropbox:474 -> Request to files/upload\n",
      "2022-11-30 11:04:45,339-[INFO]- dropbox:390 -> Refreshing access token.\n",
      "2022-11-30 11:04:45,578-[INFO]- dropbox:474 -> Request to files/upload\n",
      "2022-11-30 11:04:46,595-[INFO]- dropbox:390 -> Refreshing access token.\n",
      "2022-11-30 11:04:46,824-[INFO]- dropbox:474 -> Request to files/upload\n",
      "2022-11-30 11:04:47,850-[INFO]- dropbox:390 -> Refreshing access token.\n",
      "2022-11-30 11:04:48,083-[INFO]- dropbox:474 -> Request to files/upload\n",
      "DATA/PRINCE\n",
      "2022-11-30 11:04:49,075-[INFO]- dropbox:390 -> Refreshing access token.\n",
      "2022-11-30 11:04:49,304-[INFO]- dropbox:474 -> Request to files/upload\n",
      "2022-11-30 11:04:50,945-[INFO]- dropbox:390 -> Refreshing access token.\n",
      "2022-11-30 11:04:51,173-[INFO]- dropbox:474 -> Request to files/upload\n",
      "2022-11-30 11:04:52,476-[INFO]- dropbox:390 -> Refreshing access token.\n",
      "2022-11-30 11:04:52,735-[INFO]- dropbox:474 -> Request to files/upload\n",
      "2022-11-30 11:04:53,577-[INFO]- dropbox:390 -> Refreshing access token.\n",
      "2022-11-30 11:04:53,823-[INFO]- dropbox:474 -> Request to files/upload\n",
      "DATA/PRINCE\n",
      "2022-11-30 11:04:54,726-[INFO]- dropbox:390 -> Refreshing access token.\n",
      "2022-11-30 11:04:55,013-[INFO]- dropbox:474 -> Request to files/upload\n",
      "2022-11-30 11:04:56,826-[INFO]- dropbox:390 -> Refreshing access token.\n",
      "2022-11-30 11:04:57,067-[INFO]- dropbox:474 -> Request to files/upload\n",
      "2022-11-30 11:04:58,066-[INFO]- dropbox:390 -> Refreshing access token.\n",
      "2022-11-30 11:04:58,305-[INFO]- dropbox:474 -> Request to files/upload\n",
      "2022-11-30 11:04:59,389-[INFO]- dropbox:390 -> Refreshing access token.\n",
      "2022-11-30 11:04:59,609-[INFO]- dropbox:474 -> Request to files/upload\n",
      "DATA/PRINCE\n",
      "2022-11-30 11:05:00,669-[INFO]- dropbox:390 -> Refreshing access token.\n",
      "2022-11-30 11:05:00,894-[INFO]- dropbox:474 -> Request to files/upload\n",
      "2022-11-30 11:05:02,412-[INFO]- dropbox:390 -> Refreshing access token.\n",
      "2022-11-30 11:05:02,644-[INFO]- dropbox:474 -> Request to files/upload\n",
      "2022-11-30 11:05:03,713-[INFO]- dropbox:390 -> Refreshing access token.\n",
      "2022-11-30 11:05:03,951-[INFO]- dropbox:474 -> Request to files/upload\n",
      "2022-11-30 11:05:05,123-[INFO]- dropbox:390 -> Refreshing access token.\n",
      "2022-11-30 11:05:05,346-[INFO]- dropbox:474 -> Request to files/upload\n",
      "DATA/PRINCE\n",
      "2022-11-30 11:05:06,675-[INFO]- dropbox:390 -> Refreshing access token.\n",
      "2022-11-30 11:05:06,931-[INFO]- dropbox:474 -> Request to files/upload\n",
      "2022-11-30 11:05:09,007-[INFO]- dropbox:390 -> Refreshing access token.\n",
      "2022-11-30 11:05:09,252-[INFO]- dropbox:474 -> Request to files/upload\n",
      "2022-11-30 11:05:10,207-[INFO]- dropbox:390 -> Refreshing access token.\n",
      "2022-11-30 11:05:10,431-[INFO]- dropbox:474 -> Request to files/upload\n",
      "2022-11-30 11:05:11,699-[INFO]- dropbox:390 -> Refreshing access token.\n",
      "2022-11-30 11:05:11,926-[INFO]- dropbox:474 -> Request to files/upload\n",
      "DATA/PRINCE\n",
      "2022-11-30 11:05:12,969-[INFO]- dropbox:390 -> Refreshing access token.\n",
      "2022-11-30 11:05:13,198-[INFO]- dropbox:474 -> Request to files/upload\n",
      "2022-11-30 11:05:14,839-[INFO]- dropbox:390 -> Refreshing access token.\n",
      "2022-11-30 11:05:15,079-[INFO]- dropbox:474 -> Request to files/upload\n",
      "2022-11-30 11:05:16,074-[INFO]- dropbox:390 -> Refreshing access token.\n",
      "2022-11-30 11:05:16,292-[INFO]- dropbox:474 -> Request to files/upload\n",
      "2022-11-30 11:05:17,147-[INFO]- dropbox:390 -> Refreshing access token.\n",
      "2022-11-30 11:05:17,402-[INFO]- dropbox:474 -> Request to files/upload\n",
      "DATA/PRINCE\n",
      "2022-11-30 11:05:18,511-[INFO]- dropbox:390 -> Refreshing access token.\n",
      "2022-11-30 11:05:18,739-[INFO]- dropbox:474 -> Request to files/upload\n",
      "2022-11-30 11:05:20,254-[INFO]- dropbox:390 -> Refreshing access token.\n",
      "2022-11-30 11:05:20,484-[INFO]- dropbox:474 -> Request to files/upload\n",
      "2022-11-30 11:05:21,566-[INFO]- dropbox:390 -> Refreshing access token.\n",
      "2022-11-30 11:05:21,788-[INFO]- dropbox:474 -> Request to files/upload\n",
      "2022-11-30 11:05:22,654-[INFO]- dropbox:390 -> Refreshing access token.\n",
      "2022-11-30 11:05:22,876-[INFO]- dropbox:474 -> Request to files/upload\n",
      "DATA/PRINCE\n",
      "2022-11-30 11:05:23,781-[INFO]- dropbox:390 -> Refreshing access token.\n",
      "2022-11-30 11:05:24,003-[INFO]- dropbox:474 -> Request to files/upload\n",
      "2022-11-30 11:05:25,341-[INFO]- dropbox:390 -> Refreshing access token.\n",
      "2022-11-30 11:05:25,564-[INFO]- dropbox:474 -> Request to files/upload\n",
      "2022-11-30 11:05:26,637-[INFO]- dropbox:390 -> Refreshing access token.\n",
      "2022-11-30 11:05:26,861-[INFO]- dropbox:474 -> Request to files/upload\n",
      "2022-11-30 11:05:27,753-[INFO]- dropbox:390 -> Refreshing access token.\n",
      "2022-11-30 11:05:27,970-[INFO]- dropbox:474 -> Request to files/upload\n",
      "DATA/PRINCE\n",
      "2022-11-30 11:05:28,992-[INFO]- dropbox:390 -> Refreshing access token.\n",
      "2022-11-30 11:05:29,233-[INFO]- dropbox:474 -> Request to files/upload\n",
      "2022-11-30 11:05:30,937-[INFO]- dropbox:390 -> Refreshing access token.\n",
      "2022-11-30 11:05:31,163-[INFO]- dropbox:474 -> Request to files/upload\n",
      "2022-11-30 11:05:32,173-[INFO]- dropbox:390 -> Refreshing access token.\n",
      "2022-11-30 11:05:32,396-[INFO]- dropbox:474 -> Request to files/upload\n",
      "2022-11-30 11:05:33,354-[INFO]- dropbox:390 -> Refreshing access token.\n",
      "2022-11-30 11:05:33,576-[INFO]- dropbox:474 -> Request to files/upload\n",
      "DATA/PRINCE\n",
      "2022-11-30 11:05:34,401-[INFO]- dropbox:390 -> Refreshing access token.\n",
      "2022-11-30 11:05:34,627-[INFO]- dropbox:474 -> Request to files/upload\n",
      "2022-11-30 11:05:36,218-[INFO]- dropbox:390 -> Refreshing access token.\n",
      "2022-11-30 11:05:36,443-[INFO]- dropbox:474 -> Request to files/upload\n",
      "2022-11-30 11:05:37,505-[INFO]- dropbox:390 -> Refreshing access token.\n",
      "2022-11-30 11:05:37,745-[INFO]- dropbox:474 -> Request to files/upload\n",
      "2022-11-30 11:05:38,942-[INFO]- dropbox:390 -> Refreshing access token.\n",
      "2022-11-30 11:05:39,191-[INFO]- dropbox:474 -> Request to files/upload\n",
      "DATA/PRINCE\n",
      "2022-11-30 11:05:39,987-[INFO]- dropbox:390 -> Refreshing access token.\n",
      "2022-11-30 11:05:40,220-[INFO]- dropbox:474 -> Request to files/upload\n",
      "2022-11-30 11:05:41,734-[INFO]- dropbox:390 -> Refreshing access token.\n",
      "2022-11-30 11:05:41,956-[INFO]- dropbox:474 -> Request to files/upload\n",
      "2022-11-30 11:05:43,107-[INFO]- dropbox:390 -> Refreshing access token.\n",
      "2022-11-30 11:05:43,331-[INFO]- dropbox:474 -> Request to files/upload\n",
      "2022-11-30 11:05:44,259-[INFO]- dropbox:390 -> Refreshing access token.\n",
      "2022-11-30 11:05:44,495-[INFO]- dropbox:474 -> Request to files/upload\n",
      "DATA/PRINCE\n",
      "2022-11-30 11:05:45,555-[INFO]- dropbox:390 -> Refreshing access token.\n",
      "2022-11-30 11:05:45,784-[INFO]- dropbox:474 -> Request to files/upload\n",
      "2022-11-30 11:05:47,412-[INFO]- dropbox:390 -> Refreshing access token.\n",
      "2022-11-30 11:05:47,636-[INFO]- dropbox:474 -> Request to files/upload\n",
      "2022-11-30 11:05:49,100-[INFO]- dropbox:390 -> Refreshing access token.\n",
      "2022-11-30 11:05:49,317-[INFO]- dropbox:474 -> Request to files/upload\n",
      "2022-11-30 11:05:50,286-[INFO]- dropbox:390 -> Refreshing access token.\n",
      "2022-11-30 11:05:50,564-[INFO]- dropbox:474 -> Request to files/upload\n",
      "DATA/PRINCE\n",
      "2022-11-30 11:05:51,574-[INFO]- dropbox:390 -> Refreshing access token.\n",
      "2022-11-30 11:05:51,813-[INFO]- dropbox:474 -> Request to files/upload\n",
      "2022-11-30 11:05:53,292-[INFO]- dropbox:390 -> Refreshing access token.\n",
      "2022-11-30 11:05:53,676-[INFO]- dropbox:474 -> Request to files/upload\n",
      "2022-11-30 11:05:54,581-[INFO]- dropbox:390 -> Refreshing access token.\n",
      "2022-11-30 11:05:54,805-[INFO]- dropbox:474 -> Request to files/upload\n",
      "2022-11-30 11:05:55,745-[INFO]- dropbox:390 -> Refreshing access token.\n",
      "2022-11-30 11:05:55,984-[INFO]- dropbox:474 -> Request to files/upload\n",
      "DATA/PRINCE\n",
      "2022-11-30 11:05:56,862-[INFO]- dropbox:390 -> Refreshing access token.\n",
      "2022-11-30 11:05:57,098-[INFO]- dropbox:474 -> Request to files/upload\n",
      "2022-11-30 11:05:58,754-[INFO]- dropbox:390 -> Refreshing access token.\n",
      "2022-11-30 11:05:58,988-[INFO]- dropbox:474 -> Request to files/upload\n",
      "2022-11-30 11:06:00,028-[INFO]- dropbox:390 -> Refreshing access token.\n",
      "2022-11-30 11:06:00,261-[INFO]- dropbox:474 -> Request to files/upload\n",
      "2022-11-30 11:06:01,416-[INFO]- dropbox:390 -> Refreshing access token.\n",
      "2022-11-30 11:06:01,646-[INFO]- dropbox:474 -> Request to files/upload\n",
      "DATA/PRINCE\n",
      "2022-11-30 11:06:03,491-[INFO]- dropbox:390 -> Refreshing access token.\n",
      "2022-11-30 11:06:03,738-[INFO]- dropbox:474 -> Request to files/upload\n",
      "2022-11-30 11:06:05,148-[INFO]- dropbox:390 -> Refreshing access token.\n",
      "2022-11-30 11:06:05,376-[INFO]- dropbox:474 -> Request to files/upload\n",
      "2022-11-30 11:06:06,359-[INFO]- dropbox:390 -> Refreshing access token.\n",
      "2022-11-30 11:06:06,589-[INFO]- dropbox:474 -> Request to files/upload\n",
      "2022-11-30 11:06:07,662-[INFO]- dropbox:390 -> Refreshing access token.\n",
      "2022-11-30 11:06:07,899-[INFO]- dropbox:474 -> Request to files/upload\n",
      "DATA/PRINCE\n",
      "2022-11-30 11:06:08,896-[INFO]- dropbox:390 -> Refreshing access token.\n",
      "2022-11-30 11:06:09,125-[INFO]- dropbox:474 -> Request to files/upload\n",
      "2022-11-30 11:06:10,518-[INFO]- dropbox:390 -> Refreshing access token.\n",
      "2022-11-30 11:06:10,788-[INFO]- dropbox:474 -> Request to files/upload\n",
      "2022-11-30 11:06:11,847-[INFO]- dropbox:390 -> Refreshing access token.\n",
      "2022-11-30 11:06:12,086-[INFO]- dropbox:474 -> Request to files/upload\n",
      "2022-11-30 11:06:13,516-[INFO]- dropbox:390 -> Refreshing access token.\n",
      "2022-11-30 11:06:13,754-[INFO]- dropbox:474 -> Request to files/upload\n",
      "DATA/PRINCE\n",
      "2022-11-30 11:06:15,264-[INFO]- dropbox:390 -> Refreshing access token.\n",
      "2022-11-30 11:06:15,488-[INFO]- dropbox:474 -> Request to files/upload\n",
      "2022-11-30 11:06:16,843-[INFO]- dropbox:390 -> Refreshing access token.\n",
      "2022-11-30 11:06:17,074-[INFO]- dropbox:474 -> Request to files/upload\n",
      "2022-11-30 11:06:18,221-[INFO]- dropbox:390 -> Refreshing access token.\n",
      "2022-11-30 11:06:18,467-[INFO]- dropbox:474 -> Request to files/upload\n",
      "2022-11-30 11:06:19,278-[INFO]- dropbox:390 -> Refreshing access token.\n",
      "2022-11-30 11:06:19,514-[INFO]- dropbox:474 -> Request to files/upload\n",
      "DATA/PRINCE\n",
      "2022-11-30 11:06:20,892-[INFO]- dropbox:390 -> Refreshing access token.\n",
      "2022-11-30 11:06:21,121-[INFO]- dropbox:474 -> Request to files/upload\n",
      "2022-11-30 11:06:22,756-[INFO]- dropbox:390 -> Refreshing access token.\n",
      "2022-11-30 11:06:23,013-[INFO]- dropbox:474 -> Request to files/upload\n",
      "2022-11-30 11:06:24,232-[INFO]- dropbox:390 -> Refreshing access token.\n",
      "2022-11-30 11:06:24,462-[INFO]- dropbox:474 -> Request to files/upload\n",
      "2022-11-30 11:06:25,565-[INFO]- dropbox:390 -> Refreshing access token.\n",
      "2022-11-30 11:06:25,809-[INFO]- dropbox:474 -> Request to files/upload\n",
      "DATA/PRINCE\n",
      "2022-11-30 11:06:26,614-[INFO]- dropbox:390 -> Refreshing access token.\n",
      "2022-11-30 11:06:27,565-[INFO]- dropbox:474 -> Request to files/upload\n",
      "2022-11-30 11:06:29,206-[INFO]- dropbox:390 -> Refreshing access token.\n",
      "2022-11-30 11:06:29,465-[INFO]- dropbox:474 -> Request to files/upload\n",
      "2022-11-30 11:06:30,431-[INFO]- dropbox:390 -> Refreshing access token.\n",
      "2022-11-30 11:06:30,678-[INFO]- dropbox:474 -> Request to files/upload\n",
      "2022-11-30 11:06:31,861-[INFO]- dropbox:390 -> Refreshing access token.\n",
      "2022-11-30 11:06:32,087-[INFO]- dropbox:474 -> Request to files/upload\n",
      "DATA/PRINCE\n",
      "2022-11-30 11:06:33,003-[INFO]- dropbox:390 -> Refreshing access token.\n",
      "2022-11-30 11:06:33,255-[INFO]- dropbox:474 -> Request to files/upload\n",
      "2022-11-30 11:06:34,835-[INFO]- dropbox:390 -> Refreshing access token.\n",
      "2022-11-30 11:06:35,081-[INFO]- dropbox:474 -> Request to files/upload\n",
      "2022-11-30 11:06:36,238-[INFO]- dropbox:390 -> Refreshing access token.\n",
      "2022-11-30 11:06:36,556-[INFO]- dropbox:474 -> Request to files/upload\n",
      "2022-11-30 11:06:37,646-[INFO]- dropbox:390 -> Refreshing access token.\n",
      "2022-11-30 11:06:37,886-[INFO]- dropbox:474 -> Request to files/upload\n",
      "DATA/PRINCE\n",
      "2022-11-30 11:06:39,226-[INFO]- dropbox:390 -> Refreshing access token.\n",
      "2022-11-30 11:06:39,470-[INFO]- dropbox:474 -> Request to files/upload\n",
      "2022-11-30 11:06:41,033-[INFO]- dropbox:390 -> Refreshing access token.\n",
      "2022-11-30 11:06:41,262-[INFO]- dropbox:474 -> Request to files/upload\n",
      "2022-11-30 11:06:42,193-[INFO]- dropbox:390 -> Refreshing access token.\n",
      "2022-11-30 11:06:42,419-[INFO]- dropbox:474 -> Request to files/upload\n",
      "2022-11-30 11:06:43,553-[INFO]- dropbox:390 -> Refreshing access token.\n",
      "2022-11-30 11:06:43,793-[INFO]- dropbox:474 -> Request to files/upload\n",
      "DATA/PRINCE\n",
      "2022-11-30 11:06:44,759-[INFO]- dropbox:390 -> Refreshing access token.\n",
      "2022-11-30 11:06:44,989-[INFO]- dropbox:474 -> Request to files/upload\n",
      "2022-11-30 11:06:46,385-[INFO]- dropbox:390 -> Refreshing access token.\n",
      "2022-11-30 11:06:46,617-[INFO]- dropbox:474 -> Request to files/upload\n",
      "2022-11-30 11:06:47,952-[INFO]- dropbox:390 -> Refreshing access token.\n",
      "2022-11-30 11:06:48,210-[INFO]- dropbox:474 -> Request to files/upload\n",
      "2022-11-30 11:06:49,214-[INFO]- dropbox:390 -> Refreshing access token.\n",
      "2022-11-30 11:06:49,437-[INFO]- dropbox:474 -> Request to files/upload\n",
      "DATA/PRINCE\n",
      "2022-11-30 11:06:50,300-[INFO]- dropbox:390 -> Refreshing access token.\n",
      "2022-11-30 11:06:50,528-[INFO]- dropbox:474 -> Request to files/upload\n",
      "2022-11-30 11:06:51,979-[INFO]- dropbox:390 -> Refreshing access token.\n",
      "2022-11-30 11:06:52,216-[INFO]- dropbox:474 -> Request to files/upload\n",
      "2022-11-30 11:06:53,173-[INFO]- dropbox:390 -> Refreshing access token.\n",
      "2022-11-30 11:06:53,408-[INFO]- dropbox:474 -> Request to files/upload\n",
      "2022-11-30 11:06:54,243-[INFO]- dropbox:390 -> Refreshing access token.\n",
      "2022-11-30 11:06:54,461-[INFO]- dropbox:474 -> Request to files/upload\n",
      "DATA/PRINCE\n",
      "2022-11-30 11:06:55,582-[INFO]- dropbox:390 -> Refreshing access token.\n",
      "2022-11-30 11:06:55,817-[INFO]- dropbox:474 -> Request to files/upload\n",
      "2022-11-30 11:06:57,402-[INFO]- dropbox:390 -> Refreshing access token.\n",
      "2022-11-30 11:06:57,652-[INFO]- dropbox:474 -> Request to files/upload\n",
      "2022-11-30 11:06:58,959-[INFO]- dropbox:390 -> Refreshing access token.\n",
      "2022-11-30 11:06:59,886-[INFO]- dropbox:474 -> Request to files/upload\n",
      "2022-11-30 11:07:00,868-[INFO]- dropbox:390 -> Refreshing access token.\n",
      "2022-11-30 11:07:01,106-[INFO]- dropbox:474 -> Request to files/upload\n",
      "DATA/PRINCE\n",
      "2022-11-30 11:07:02,102-[INFO]- dropbox:390 -> Refreshing access token.\n",
      "2022-11-30 11:07:02,328-[INFO]- dropbox:474 -> Request to files/upload\n",
      "2022-11-30 11:07:04,473-[INFO]- dropbox:390 -> Refreshing access token.\n",
      "2022-11-30 11:07:04,706-[INFO]- dropbox:474 -> Request to files/upload\n",
      "2022-11-30 11:07:05,732-[INFO]- dropbox:390 -> Refreshing access token.\n",
      "2022-11-30 11:07:05,965-[INFO]- dropbox:474 -> Request to files/upload\n",
      "2022-11-30 11:07:06,956-[INFO]- dropbox:390 -> Refreshing access token.\n",
      "2022-11-30 11:07:07,183-[INFO]- dropbox:474 -> Request to files/upload\n",
      "DATA/PRINCE\n",
      "2022-11-30 11:07:08,225-[INFO]- dropbox:390 -> Refreshing access token.\n",
      "2022-11-30 11:07:08,449-[INFO]- dropbox:474 -> Request to files/upload\n",
      "2022-11-30 11:07:09,902-[INFO]- dropbox:390 -> Refreshing access token.\n",
      "2022-11-30 11:07:10,150-[INFO]- dropbox:474 -> Request to files/upload\n",
      "2022-11-30 11:07:11,178-[INFO]- dropbox:390 -> Refreshing access token.\n",
      "2022-11-30 11:07:11,424-[INFO]- dropbox:474 -> Request to files/upload\n",
      "2022-11-30 11:07:12,376-[INFO]- dropbox:390 -> Refreshing access token.\n",
      "2022-11-30 11:07:12,607-[INFO]- dropbox:474 -> Request to files/upload\n",
      "DATA/PRINCE\n",
      "2022-11-30 11:07:13,603-[INFO]- dropbox:390 -> Refreshing access token.\n",
      "2022-11-30 11:07:13,836-[INFO]- dropbox:474 -> Request to files/upload\n",
      "2022-11-30 11:07:15,502-[INFO]- dropbox:390 -> Refreshing access token.\n",
      "2022-11-30 11:07:15,737-[INFO]- dropbox:474 -> Request to files/upload\n",
      "2022-11-30 11:07:16,679-[INFO]- dropbox:390 -> Refreshing access token.\n",
      "2022-11-30 11:07:16,922-[INFO]- dropbox:474 -> Request to files/upload\n",
      "2022-11-30 11:07:17,966-[INFO]- dropbox:390 -> Refreshing access token.\n",
      "2022-11-30 11:07:18,238-[INFO]- dropbox:474 -> Request to files/upload\n",
      "DATA/PRINCE\n",
      "2022-11-30 11:07:19,526-[INFO]- dropbox:390 -> Refreshing access token.\n",
      "2022-11-30 11:07:19,802-[INFO]- dropbox:474 -> Request to files/upload\n",
      "2022-11-30 11:07:27,257-[INFO]- dropbox:390 -> Refreshing access token.\n",
      "2022-11-30 11:07:27,481-[INFO]- dropbox:474 -> Request to files/upload\n",
      "2022-11-30 11:07:28,546-[INFO]- dropbox:390 -> Refreshing access token.\n",
      "2022-11-30 11:07:28,788-[INFO]- dropbox:474 -> Request to files/upload\n",
      "2022-11-30 11:07:29,673-[INFO]- dropbox:390 -> Refreshing access token.\n",
      "2022-11-30 11:07:29,942-[INFO]- dropbox:474 -> Request to files/upload\n",
      "DATA/PRINCE\n",
      "2022-11-30 11:07:30,981-[INFO]- dropbox:390 -> Refreshing access token.\n",
      "2022-11-30 11:07:31,247-[INFO]- dropbox:474 -> Request to files/upload\n",
      "2022-11-30 11:07:32,850-[INFO]- dropbox:390 -> Refreshing access token.\n",
      "2022-11-30 11:07:33,071-[INFO]- dropbox:474 -> Request to files/upload\n",
      "2022-11-30 11:07:34,271-[INFO]- dropbox:390 -> Refreshing access token.\n",
      "2022-11-30 11:07:34,504-[INFO]- dropbox:474 -> Request to files/upload\n",
      "2022-11-30 11:07:35,711-[INFO]- dropbox:390 -> Refreshing access token.\n",
      "2022-11-30 11:07:35,935-[INFO]- dropbox:474 -> Request to files/upload\n",
      "DATA/PRINCE\n",
      "2022-11-30 11:07:36,806-[INFO]- dropbox:390 -> Refreshing access token.\n",
      "2022-11-30 11:07:37,028-[INFO]- dropbox:474 -> Request to files/upload\n",
      "2022-11-30 11:07:38,378-[INFO]- dropbox:390 -> Refreshing access token.\n",
      "2022-11-30 11:07:38,621-[INFO]- dropbox:474 -> Request to files/upload\n",
      "2022-11-30 11:07:39,526-[INFO]- dropbox:390 -> Refreshing access token.\n",
      "2022-11-30 11:07:39,776-[INFO]- dropbox:474 -> Request to files/upload\n",
      "2022-11-30 11:07:40,715-[INFO]- dropbox:390 -> Refreshing access token.\n",
      "2022-11-30 11:07:40,953-[INFO]- dropbox:474 -> Request to files/upload\n"
     ]
    }
   ],
   "source": [
    "from amftrack.util.dbx import upload_folder\n",
    "\n",
    "update_analysis_info(directory_targ)\n",
    "analysis_info = get_analysis_info(directory_targ)\n",
    "analysis_folders = analysis_info.loc[analysis_info[\"unique_id\"].isin(plates)]\n",
    "dir_drop = \"DATA/PRINCE\"\n",
    "\n",
    "for index, row in analysis_folders.iterrows():\n",
    "    folder = row[\"folder_analysis\"]\n",
    "    id_unique = row[\"unique_id\"]\n",
    "    path = os.path.join(directory_targ, folder)\n",
    "    target_drop = f\"/{dir_drop}/{id_unique}/{folder}\"\n",
    "    print(dir_drop)\n",
    "    upload_folder(path, target_drop, delete=False)"
   ]
  },
  {
   "cell_type": "code",
   "execution_count": 16,
   "id": "1e9a1654-a956-44a2-ab19-9d0958bcf56e",
   "metadata": {},
   "outputs": [
    {
     "name": "stdout",
     "output_type": "stream",
     "text": [
      "/projects/0/einf914/data/Analysis_101_20220921_200_Version1/folder_info.json\n",
      "/projects/0/einf914/data/Analysis_42_20220920_200_Version1/folder_info.json\n",
      "/projects/0/einf914/data/Analysis_39_20220920_200_Version1/folder_info.json\n",
      "/projects/0/einf914/data/Analysis_108_20220921_200_Version1/folder_info.json\n",
      "/projects/0/einf914/data/Analysis_67_20220921_200_Version1/folder_info.json\n",
      "/projects/0/einf914/data/Analysis_56_20220921_200_Version1/folder_info.json\n",
      "/projects/0/einf914/data/Analysis_50_20220920_200_Version1/folder_info.json\n",
      "/projects/0/einf914/data/Analysis_23_20220920_200_Version1/folder_info.json\n",
      "/projects/0/einf914/data/Analysis_21_20220920_200_Version1/folder_info.json\n",
      "/projects/0/einf914/data/Analysis_100_20220921_200_Version1/folder_info.json\n",
      "/projects/0/einf914/data/Analysis_99_20220921_200_Version1/folder_info.json\n",
      "/projects/0/einf914/data/Analysis_82_20220920_200_Version1/folder_info.json\n",
      "/projects/0/einf914/data/Analysis_61_20220921_200_Version1/folder_info.json\n",
      "/projects/0/einf914/data/Analysis_31_20220921_200_Version1/folder_info.json\n",
      "/projects/0/einf914/data/Analysis_40_20220920_200_Version1/folder_info.json\n",
      "/projects/0/einf914/data/Analysis_102_20220921_200_Version1/folder_info.json\n",
      "/projects/0/einf914/data/Analysis_2_20220920_200_Version1/folder_info.json\n",
      "/projects/0/einf914/data/Analysis_78_20220920_200_Version1/folder_info.json\n",
      "/projects/0/einf914/data/Analysis_62_20220921_200_Version1/folder_info.json\n",
      "/projects/0/einf914/data/Analysis_13_20220921_200_Version1/folder_info.json\n",
      "/projects/0/einf914/data/Analysis_45_20220920_200_Version1/folder_info.json\n",
      "/projects/0/einf914/data/Analysis_97_20220921_200_Version1/folder_info.json\n",
      "/projects/0/einf914/data/Analysis_76_20220920_200_Version1/folder_info.json\n",
      "/projects/0/einf914/data/Analysis_105_20220921_200_Version1/folder_info.json\n",
      "/projects/0/einf914/data/Analysis_86_20220921_200_Version1/folder_info.json\n",
      "/projects/0/einf914/data/Analysis_91_20220921_200_Version1/folder_info.json\n",
      "/projects/0/einf914/data/Analysis_83_20220920_200_Version1/folder_info.json\n",
      "/projects/0/einf914/data/Analysis_98_20220921_200_Version1/folder_info.json\n",
      "/projects/0/einf914/data/Analysis_6_20220920_200_Version1/folder_info.json\n",
      "/projects/0/einf914/data/Analysis_73_20220920_200_Version1/folder_info.json\n",
      "/projects/0/einf914/data/Analysis_96_20220921_200_Version1/folder_info.json\n",
      "/projects/0/einf914/data/Analysis_48_20220920_200_Version1/folder_info.json\n",
      "/projects/0/einf914/data/Analysis_66_20220921_200_Version1/folder_info.json\n",
      "/projects/0/einf914/data/Analysis_92_20220921_200_Version1/folder_info.json\n",
      "/projects/0/einf914/data/Analysis_18_20220921_200_Version1/folder_info.json\n",
      "/projects/0/einf914/data/Analysis_63_20220921_200_Version1/folder_info.json\n",
      "/projects/0/einf914/data/Analysis_57_20220921_200_Version1/folder_info.json\n",
      "/projects/0/einf914/data/Analysis_22_20220920_200_Version1/folder_info.json\n",
      "/projects/0/einf914/data/Analysis_95_20220921_200_Version1/folder_info.json\n",
      "/projects/0/einf914/data/Analysis_106_20220921_200_Version1/folder_info.json\n",
      "/projects/0/einf914/data/Analysis_41_20220920_200_Version1/folder_info.json\n",
      "/projects/0/einf914/data/Analysis_90_20220921_200_Version1/folder_info.json\n",
      "/projects/0/einf914/data/Analysis_77_20220920_200_Version1/folder_info.json\n",
      "Submitted batch job 1867718\n"
     ]
    }
   ],
   "source": [
    "from amftrack.pipeline.functions.post_processing.exp_plot import *\n",
    "from amftrack.pipeline.launching.run_super import run_parallel_post\n",
    "\n",
    "name_job = \"malin\"\n",
    "time = \"1:00:00\"\n",
    "list_f = [plot_tracking]\n",
    "update_analysis_info(directory_targ)\n",
    "analysis_info = get_analysis_info(directory_targ)\n",
    "analysis_folders = analysis_info.loc[analysis_info[\"unique_id\"].isin(plates)]\n",
    "directory = directory_targ\n",
    "list_args = [[]] * len(list_f)\n",
    "overwrite = True\n",
    "num_parallel = 100\n",
    "run_parallel_post(\n",
    "    \"exp_plot.py\",\n",
    "    list_f,\n",
    "    list_args,\n",
    "    [directory, overwrite],\n",
    "    analysis_folders,\n",
    "    num_parallel,\n",
    "    time,\n",
    "    \"global_plate_post_process\",\n",
    "    cpus=128,\n",
    "    name_job=name_job,\n",
    "    node=\"fat\",\n",
    ")"
   ]
  },
  {
   "cell_type": "code",
   "execution_count": 15,
   "id": "614f4ffb-73dc-4653-a6dd-51a04dac7d34",
   "metadata": {
    "collapsed": true,
    "jupyter": {
     "outputs_hidden": true
    },
    "tags": []
   },
   "outputs": [
    {
     "name": "stdout",
     "output_type": "stream",
     "text": [
      "/projects/0/einf914/data/Analysis_101_20220921_200_Version1/folder_info.json\n",
      "/projects/0/einf914/data/Analysis_42_20220920_200_Version1/folder_info.json\n",
      "/projects/0/einf914/data/Analysis_39_20220920_200_Version1/folder_info.json\n",
      "/projects/0/einf914/data/Analysis_108_20220921_200_Version1/folder_info.json\n",
      "/projects/0/einf914/data/Analysis_67_20220921_200_Version1/folder_info.json\n",
      "/projects/0/einf914/data/Analysis_56_20220921_200_Version1/folder_info.json\n",
      "/projects/0/einf914/data/Analysis_50_20220920_200_Version1/folder_info.json\n",
      "/projects/0/einf914/data/Analysis_23_20220920_200_Version1/folder_info.json\n",
      "/projects/0/einf914/data/Analysis_21_20220920_200_Version1/folder_info.json\n",
      "/projects/0/einf914/data/Analysis_100_20220921_200_Version1/folder_info.json\n",
      "/projects/0/einf914/data/Analysis_99_20220921_200_Version1/folder_info.json\n",
      "/projects/0/einf914/data/Analysis_82_20220920_200_Version1/folder_info.json\n",
      "/projects/0/einf914/data/Analysis_61_20220921_200_Version1/folder_info.json\n",
      "/projects/0/einf914/data/Analysis_31_20220921_200_Version1/folder_info.json\n",
      "/projects/0/einf914/data/Analysis_40_20220920_200_Version1/folder_info.json\n",
      "/projects/0/einf914/data/Analysis_102_20220921_200_Version1/folder_info.json\n",
      "/projects/0/einf914/data/Analysis_2_20220920_200_Version1/folder_info.json\n",
      "/projects/0/einf914/data/Analysis_78_20220920_200_Version1/folder_info.json\n",
      "/projects/0/einf914/data/Analysis_62_20220921_200_Version1/folder_info.json\n",
      "/projects/0/einf914/data/Analysis_13_20220921_200_Version1/folder_info.json\n",
      "/projects/0/einf914/data/Analysis_45_20220920_200_Version1/folder_info.json\n",
      "/projects/0/einf914/data/Analysis_97_20220921_200_Version1/folder_info.json\n",
      "/projects/0/einf914/data/Analysis_76_20220920_200_Version1/folder_info.json\n",
      "/projects/0/einf914/data/Analysis_105_20220921_200_Version1/folder_info.json\n",
      "/projects/0/einf914/data/Analysis_86_20220921_200_Version1/folder_info.json\n",
      "/projects/0/einf914/data/Analysis_91_20220921_200_Version1/folder_info.json\n",
      "/projects/0/einf914/data/Analysis_83_20220920_200_Version1/folder_info.json\n",
      "/projects/0/einf914/data/Analysis_98_20220921_200_Version1/folder_info.json\n",
      "/projects/0/einf914/data/Analysis_6_20220920_200_Version1/folder_info.json\n",
      "/projects/0/einf914/data/Analysis_73_20220920_200_Version1/folder_info.json\n",
      "/projects/0/einf914/data/Analysis_96_20220921_200_Version1/folder_info.json\n",
      "/projects/0/einf914/data/Analysis_48_20220920_200_Version1/folder_info.json\n",
      "/projects/0/einf914/data/Analysis_66_20220921_200_Version1/folder_info.json\n",
      "/projects/0/einf914/data/Analysis_92_20220921_200_Version1/folder_info.json\n",
      "/projects/0/einf914/data/Analysis_18_20220921_200_Version1/folder_info.json\n",
      "/projects/0/einf914/data/Analysis_63_20220921_200_Version1/folder_info.json\n",
      "/projects/0/einf914/data/Analysis_57_20220921_200_Version1/folder_info.json\n",
      "/projects/0/einf914/data/Analysis_22_20220920_200_Version1/folder_info.json\n",
      "/projects/0/einf914/data/Analysis_95_20220921_200_Version1/folder_info.json\n",
      "/projects/0/einf914/data/Analysis_106_20220921_200_Version1/folder_info.json\n",
      "/projects/0/einf914/data/Analysis_41_20220920_200_Version1/folder_info.json\n",
      "/projects/0/einf914/data/Analysis_90_20220921_200_Version1/folder_info.json\n",
      "/projects/0/einf914/data/Analysis_77_20220920_200_Version1/folder_info.json\n"
     ]
    },
    {
     "name": "stderr",
     "output_type": "stream",
     "text": [
      "sbatch: Single-node jobs run on a shared node by default. Add --exclusive if you want to use a node exclusively.\n",
      "sbatch: You will be charged for 0.25 node. A full node consists of 128 CPU cores, 983040 MiB of memory and 0 GPUs and can be shared by up to 4 jobs.\n"
     ]
    },
    {
     "name": "stdout",
     "output_type": "stream",
     "text": [
      "Submitted batch job 1867673\n",
      "Submitted batch job 1867674\n"
     ]
    },
    {
     "name": "stderr",
     "output_type": "stream",
     "text": [
      "sbatch: Single-node jobs run on a shared node by default. Add --exclusive if you want to use a node exclusively.\n",
      "sbatch: You will be charged for 0.25 node. A full node consists of 128 CPU cores, 983040 MiB of memory and 0 GPUs and can be shared by up to 4 jobs.\n",
      "sbatch: Single-node jobs run on a shared node by default. Add --exclusive if you want to use a node exclusively.\n",
      "sbatch: You will be charged for 0.25 node. A full node consists of 128 CPU cores, 983040 MiB of memory and 0 GPUs and can be shared by up to 4 jobs.\n"
     ]
    },
    {
     "name": "stdout",
     "output_type": "stream",
     "text": [
      "Submitted batch job 1867676\n"
     ]
    },
    {
     "name": "stderr",
     "output_type": "stream",
     "text": [
      "sbatch: Single-node jobs run on a shared node by default. Add --exclusive if you want to use a node exclusively.\n",
      "sbatch: You will be charged for 0.25 node. A full node consists of 128 CPU cores, 983040 MiB of memory and 0 GPUs and can be shared by up to 4 jobs.\n"
     ]
    },
    {
     "name": "stdout",
     "output_type": "stream",
     "text": [
      "Submitted batch job 1867677\n"
     ]
    },
    {
     "name": "stderr",
     "output_type": "stream",
     "text": [
      "sbatch: Single-node jobs run on a shared node by default. Add --exclusive if you want to use a node exclusively.\n",
      "sbatch: You will be charged for 0.25 node. A full node consists of 128 CPU cores, 983040 MiB of memory and 0 GPUs and can be shared by up to 4 jobs.\n"
     ]
    },
    {
     "name": "stdout",
     "output_type": "stream",
     "text": [
      "Submitted batch job 1867678\n"
     ]
    },
    {
     "name": "stderr",
     "output_type": "stream",
     "text": [
      "sbatch: Single-node jobs run on a shared node by default. Add --exclusive if you want to use a node exclusively.\n",
      "sbatch: You will be charged for 0.25 node. A full node consists of 128 CPU cores, 983040 MiB of memory and 0 GPUs and can be shared by up to 4 jobs.\n"
     ]
    },
    {
     "name": "stdout",
     "output_type": "stream",
     "text": [
      "Submitted batch job 1867679\n"
     ]
    },
    {
     "name": "stderr",
     "output_type": "stream",
     "text": [
      "sbatch: Single-node jobs run on a shared node by default. Add --exclusive if you want to use a node exclusively.\n",
      "sbatch: You will be charged for 0.25 node. A full node consists of 128 CPU cores, 983040 MiB of memory and 0 GPUs and can be shared by up to 4 jobs.\n"
     ]
    },
    {
     "name": "stdout",
     "output_type": "stream",
     "text": [
      "Submitted batch job 1867680\n"
     ]
    },
    {
     "name": "stderr",
     "output_type": "stream",
     "text": [
      "sbatch: Single-node jobs run on a shared node by default. Add --exclusive if you want to use a node exclusively.\n",
      "sbatch: You will be charged for 0.25 node. A full node consists of 128 CPU cores, 983040 MiB of memory and 0 GPUs and can be shared by up to 4 jobs.\n"
     ]
    },
    {
     "name": "stdout",
     "output_type": "stream",
     "text": [
      "Submitted batch job 1867681\n"
     ]
    },
    {
     "name": "stderr",
     "output_type": "stream",
     "text": [
      "sbatch: Single-node jobs run on a shared node by default. Add --exclusive if you want to use a node exclusively.\n",
      "sbatch: You will be charged for 0.25 node. A full node consists of 128 CPU cores, 983040 MiB of memory and 0 GPUs and can be shared by up to 4 jobs.\n"
     ]
    },
    {
     "name": "stdout",
     "output_type": "stream",
     "text": [
      "Submitted batch job 1867682\n"
     ]
    },
    {
     "name": "stderr",
     "output_type": "stream",
     "text": [
      "sbatch: Single-node jobs run on a shared node by default. Add --exclusive if you want to use a node exclusively.\n",
      "sbatch: You will be charged for 0.25 node. A full node consists of 128 CPU cores, 983040 MiB of memory and 0 GPUs and can be shared by up to 4 jobs.\n"
     ]
    },
    {
     "name": "stdout",
     "output_type": "stream",
     "text": [
      "Submitted batch job 1867683\n"
     ]
    },
    {
     "name": "stderr",
     "output_type": "stream",
     "text": [
      "sbatch: Single-node jobs run on a shared node by default. Add --exclusive if you want to use a node exclusively.\n",
      "sbatch: You will be charged for 0.25 node. A full node consists of 128 CPU cores, 983040 MiB of memory and 0 GPUs and can be shared by up to 4 jobs.\n"
     ]
    },
    {
     "name": "stdout",
     "output_type": "stream",
     "text": [
      "Submitted batch job 1867684\n"
     ]
    },
    {
     "name": "stderr",
     "output_type": "stream",
     "text": [
      "sbatch: Single-node jobs run on a shared node by default. Add --exclusive if you want to use a node exclusively.\n",
      "sbatch: You will be charged for 0.25 node. A full node consists of 128 CPU cores, 983040 MiB of memory and 0 GPUs and can be shared by up to 4 jobs.\n"
     ]
    },
    {
     "name": "stdout",
     "output_type": "stream",
     "text": [
      "Submitted batch job 1867685\n"
     ]
    },
    {
     "name": "stderr",
     "output_type": "stream",
     "text": [
      "sbatch: Single-node jobs run on a shared node by default. Add --exclusive if you want to use a node exclusively.\n",
      "sbatch: You will be charged for 0.25 node. A full node consists of 128 CPU cores, 983040 MiB of memory and 0 GPUs and can be shared by up to 4 jobs.\n"
     ]
    },
    {
     "name": "stdout",
     "output_type": "stream",
     "text": [
      "Submitted batch job 1867686\n"
     ]
    },
    {
     "name": "stderr",
     "output_type": "stream",
     "text": [
      "sbatch: Single-node jobs run on a shared node by default. Add --exclusive if you want to use a node exclusively.\n",
      "sbatch: You will be charged for 0.25 node. A full node consists of 128 CPU cores, 983040 MiB of memory and 0 GPUs and can be shared by up to 4 jobs.\n"
     ]
    },
    {
     "name": "stdout",
     "output_type": "stream",
     "text": [
      "Submitted batch job 1867687\n",
      "Submitted batch job 1867688\n"
     ]
    },
    {
     "name": "stderr",
     "output_type": "stream",
     "text": [
      "sbatch: Single-node jobs run on a shared node by default. Add --exclusive if you want to use a node exclusively.\n",
      "sbatch: You will be charged for 0.25 node. A full node consists of 128 CPU cores, 983040 MiB of memory and 0 GPUs and can be shared by up to 4 jobs.\n",
      "sbatch: Single-node jobs run on a shared node by default. Add --exclusive if you want to use a node exclusively.\n",
      "sbatch: You will be charged for 0.25 node. A full node consists of 128 CPU cores, 983040 MiB of memory and 0 GPUs and can be shared by up to 4 jobs.\n"
     ]
    },
    {
     "name": "stdout",
     "output_type": "stream",
     "text": [
      "Submitted batch job 1867689\n"
     ]
    },
    {
     "name": "stderr",
     "output_type": "stream",
     "text": [
      "sbatch: Single-node jobs run on a shared node by default. Add --exclusive if you want to use a node exclusively.\n",
      "sbatch: You will be charged for 0.25 node. A full node consists of 128 CPU cores, 983040 MiB of memory and 0 GPUs and can be shared by up to 4 jobs.\n"
     ]
    },
    {
     "name": "stdout",
     "output_type": "stream",
     "text": [
      "Submitted batch job 1867690\n"
     ]
    },
    {
     "name": "stderr",
     "output_type": "stream",
     "text": [
      "sbatch: Single-node jobs run on a shared node by default. Add --exclusive if you want to use a node exclusively.\n",
      "sbatch: You will be charged for 0.25 node. A full node consists of 128 CPU cores, 983040 MiB of memory and 0 GPUs and can be shared by up to 4 jobs.\n"
     ]
    },
    {
     "name": "stdout",
     "output_type": "stream",
     "text": [
      "Submitted batch job 1867691\n"
     ]
    },
    {
     "name": "stderr",
     "output_type": "stream",
     "text": [
      "sbatch: Single-node jobs run on a shared node by default. Add --exclusive if you want to use a node exclusively.\n",
      "sbatch: You will be charged for 0.25 node. A full node consists of 128 CPU cores, 983040 MiB of memory and 0 GPUs and can be shared by up to 4 jobs.\n"
     ]
    },
    {
     "name": "stdout",
     "output_type": "stream",
     "text": [
      "Submitted batch job 1867692\n"
     ]
    },
    {
     "name": "stderr",
     "output_type": "stream",
     "text": [
      "sbatch: Single-node jobs run on a shared node by default. Add --exclusive if you want to use a node exclusively.\n",
      "sbatch: You will be charged for 0.25 node. A full node consists of 128 CPU cores, 983040 MiB of memory and 0 GPUs and can be shared by up to 4 jobs.\n"
     ]
    },
    {
     "name": "stdout",
     "output_type": "stream",
     "text": [
      "Submitted batch job 1867693\n"
     ]
    },
    {
     "name": "stderr",
     "output_type": "stream",
     "text": [
      "sbatch: Single-node jobs run on a shared node by default. Add --exclusive if you want to use a node exclusively.\n",
      "sbatch: You will be charged for 0.25 node. A full node consists of 128 CPU cores, 983040 MiB of memory and 0 GPUs and can be shared by up to 4 jobs.\n"
     ]
    },
    {
     "name": "stdout",
     "output_type": "stream",
     "text": [
      "Submitted batch job 1867694\n"
     ]
    },
    {
     "name": "stderr",
     "output_type": "stream",
     "text": [
      "sbatch: Single-node jobs run on a shared node by default. Add --exclusive if you want to use a node exclusively.\n",
      "sbatch: You will be charged for 0.25 node. A full node consists of 128 CPU cores, 983040 MiB of memory and 0 GPUs and can be shared by up to 4 jobs.\n"
     ]
    },
    {
     "name": "stdout",
     "output_type": "stream",
     "text": [
      "Submitted batch job 1867695\n"
     ]
    },
    {
     "name": "stderr",
     "output_type": "stream",
     "text": [
      "sbatch: Single-node jobs run on a shared node by default. Add --exclusive if you want to use a node exclusively.\n",
      "sbatch: You will be charged for 0.25 node. A full node consists of 128 CPU cores, 983040 MiB of memory and 0 GPUs and can be shared by up to 4 jobs.\n"
     ]
    },
    {
     "name": "stdout",
     "output_type": "stream",
     "text": [
      "Submitted batch job 1867697\n"
     ]
    },
    {
     "name": "stderr",
     "output_type": "stream",
     "text": [
      "sbatch: Single-node jobs run on a shared node by default. Add --exclusive if you want to use a node exclusively.\n",
      "sbatch: You will be charged for 0.25 node. A full node consists of 128 CPU cores, 983040 MiB of memory and 0 GPUs and can be shared by up to 4 jobs.\n"
     ]
    },
    {
     "name": "stdout",
     "output_type": "stream",
     "text": [
      "Submitted batch job 1867698\n"
     ]
    },
    {
     "name": "stderr",
     "output_type": "stream",
     "text": [
      "sbatch: Single-node jobs run on a shared node by default. Add --exclusive if you want to use a node exclusively.\n",
      "sbatch: You will be charged for 0.25 node. A full node consists of 128 CPU cores, 983040 MiB of memory and 0 GPUs and can be shared by up to 4 jobs.\n"
     ]
    },
    {
     "name": "stdout",
     "output_type": "stream",
     "text": [
      "Submitted batch job 1867699\n",
      "Submitted batch job 1867700\n"
     ]
    },
    {
     "name": "stderr",
     "output_type": "stream",
     "text": [
      "sbatch: Single-node jobs run on a shared node by default. Add --exclusive if you want to use a node exclusively.\n",
      "sbatch: You will be charged for 0.25 node. A full node consists of 128 CPU cores, 983040 MiB of memory and 0 GPUs and can be shared by up to 4 jobs.\n",
      "sbatch: Single-node jobs run on a shared node by default. Add --exclusive if you want to use a node exclusively.\n",
      "sbatch: You will be charged for 0.25 node. A full node consists of 128 CPU cores, 983040 MiB of memory and 0 GPUs and can be shared by up to 4 jobs.\n"
     ]
    },
    {
     "name": "stdout",
     "output_type": "stream",
     "text": [
      "Submitted batch job 1867701\n"
     ]
    },
    {
     "name": "stderr",
     "output_type": "stream",
     "text": [
      "sbatch: Single-node jobs run on a shared node by default. Add --exclusive if you want to use a node exclusively.\n",
      "sbatch: You will be charged for 0.25 node. A full node consists of 128 CPU cores, 983040 MiB of memory and 0 GPUs and can be shared by up to 4 jobs.\n"
     ]
    },
    {
     "name": "stdout",
     "output_type": "stream",
     "text": [
      "Submitted batch job 1867702\n"
     ]
    },
    {
     "name": "stderr",
     "output_type": "stream",
     "text": [
      "sbatch: Single-node jobs run on a shared node by default. Add --exclusive if you want to use a node exclusively.\n",
      "sbatch: You will be charged for 0.25 node. A full node consists of 128 CPU cores, 983040 MiB of memory and 0 GPUs and can be shared by up to 4 jobs.\n"
     ]
    },
    {
     "name": "stdout",
     "output_type": "stream",
     "text": [
      "Submitted batch job 1867703\n"
     ]
    },
    {
     "name": "stderr",
     "output_type": "stream",
     "text": [
      "sbatch: Single-node jobs run on a shared node by default. Add --exclusive if you want to use a node exclusively.\n",
      "sbatch: You will be charged for 0.25 node. A full node consists of 128 CPU cores, 983040 MiB of memory and 0 GPUs and can be shared by up to 4 jobs.\n"
     ]
    },
    {
     "name": "stdout",
     "output_type": "stream",
     "text": [
      "Submitted batch job 1867704\n"
     ]
    },
    {
     "name": "stderr",
     "output_type": "stream",
     "text": [
      "sbatch: Single-node jobs run on a shared node by default. Add --exclusive if you want to use a node exclusively.\n",
      "sbatch: You will be charged for 0.25 node. A full node consists of 128 CPU cores, 983040 MiB of memory and 0 GPUs and can be shared by up to 4 jobs.\n"
     ]
    },
    {
     "name": "stdout",
     "output_type": "stream",
     "text": [
      "Submitted batch job 1867705\n"
     ]
    },
    {
     "name": "stderr",
     "output_type": "stream",
     "text": [
      "sbatch: Single-node jobs run on a shared node by default. Add --exclusive if you want to use a node exclusively.\n",
      "sbatch: You will be charged for 0.25 node. A full node consists of 128 CPU cores, 983040 MiB of memory and 0 GPUs and can be shared by up to 4 jobs.\n"
     ]
    },
    {
     "name": "stdout",
     "output_type": "stream",
     "text": [
      "Submitted batch job 1867706\n"
     ]
    },
    {
     "name": "stderr",
     "output_type": "stream",
     "text": [
      "sbatch: Single-node jobs run on a shared node by default. Add --exclusive if you want to use a node exclusively.\n",
      "sbatch: You will be charged for 0.25 node. A full node consists of 128 CPU cores, 983040 MiB of memory and 0 GPUs and can be shared by up to 4 jobs.\n"
     ]
    },
    {
     "name": "stdout",
     "output_type": "stream",
     "text": [
      "Submitted batch job 1867707\n"
     ]
    },
    {
     "name": "stderr",
     "output_type": "stream",
     "text": [
      "sbatch: Single-node jobs run on a shared node by default. Add --exclusive if you want to use a node exclusively.\n",
      "sbatch: You will be charged for 0.25 node. A full node consists of 128 CPU cores, 983040 MiB of memory and 0 GPUs and can be shared by up to 4 jobs.\n"
     ]
    },
    {
     "name": "stdout",
     "output_type": "stream",
     "text": [
      "Submitted batch job 1867708\n"
     ]
    },
    {
     "name": "stderr",
     "output_type": "stream",
     "text": [
      "sbatch: Single-node jobs run on a shared node by default. Add --exclusive if you want to use a node exclusively.\n",
      "sbatch: You will be charged for 0.25 node. A full node consists of 128 CPU cores, 983040 MiB of memory and 0 GPUs and can be shared by up to 4 jobs.\n"
     ]
    },
    {
     "name": "stdout",
     "output_type": "stream",
     "text": [
      "Submitted batch job 1867709\n"
     ]
    },
    {
     "name": "stderr",
     "output_type": "stream",
     "text": [
      "sbatch: Single-node jobs run on a shared node by default. Add --exclusive if you want to use a node exclusively.\n",
      "sbatch: You will be charged for 0.25 node. A full node consists of 128 CPU cores, 983040 MiB of memory and 0 GPUs and can be shared by up to 4 jobs.\n"
     ]
    },
    {
     "name": "stdout",
     "output_type": "stream",
     "text": [
      "Submitted batch job 1867710\n"
     ]
    },
    {
     "name": "stderr",
     "output_type": "stream",
     "text": [
      "sbatch: Single-node jobs run on a shared node by default. Add --exclusive if you want to use a node exclusively.\n",
      "sbatch: You will be charged for 0.25 node. A full node consists of 128 CPU cores, 983040 MiB of memory and 0 GPUs and can be shared by up to 4 jobs.\n"
     ]
    },
    {
     "name": "stdout",
     "output_type": "stream",
     "text": [
      "Submitted batch job 1867711\n"
     ]
    },
    {
     "name": "stderr",
     "output_type": "stream",
     "text": [
      "sbatch: Single-node jobs run on a shared node by default. Add --exclusive if you want to use a node exclusively.\n",
      "sbatch: You will be charged for 0.25 node. A full node consists of 128 CPU cores, 983040 MiB of memory and 0 GPUs and can be shared by up to 4 jobs.\n"
     ]
    },
    {
     "name": "stdout",
     "output_type": "stream",
     "text": [
      "Submitted batch job 1867712\n"
     ]
    },
    {
     "name": "stderr",
     "output_type": "stream",
     "text": [
      "sbatch: Single-node jobs run on a shared node by default. Add --exclusive if you want to use a node exclusively.\n",
      "sbatch: You will be charged for 0.25 node. A full node consists of 128 CPU cores, 983040 MiB of memory and 0 GPUs and can be shared by up to 4 jobs.\n"
     ]
    },
    {
     "name": "stdout",
     "output_type": "stream",
     "text": [
      "Submitted batch job 1867713\n"
     ]
    },
    {
     "name": "stderr",
     "output_type": "stream",
     "text": [
      "sbatch: Single-node jobs run on a shared node by default. Add --exclusive if you want to use a node exclusively.\n",
      "sbatch: You will be charged for 0.25 node. A full node consists of 128 CPU cores, 983040 MiB of memory and 0 GPUs and can be shared by up to 4 jobs.\n"
     ]
    },
    {
     "name": "stdout",
     "output_type": "stream",
     "text": [
      "Submitted batch job 1867714\n"
     ]
    },
    {
     "name": "stderr",
     "output_type": "stream",
     "text": [
      "sbatch: Single-node jobs run on a shared node by default. Add --exclusive if you want to use a node exclusively.\n",
      "sbatch: You will be charged for 0.25 node. A full node consists of 128 CPU cores, 983040 MiB of memory and 0 GPUs and can be shared by up to 4 jobs.\n"
     ]
    },
    {
     "name": "stdout",
     "output_type": "stream",
     "text": [
      "Submitted batch job 1867715\n"
     ]
    },
    {
     "name": "stderr",
     "output_type": "stream",
     "text": [
      "sbatch: Single-node jobs run on a shared node by default. Add --exclusive if you want to use a node exclusively.\n",
      "sbatch: You will be charged for 0.25 node. A full node consists of 128 CPU cores, 983040 MiB of memory and 0 GPUs and can be shared by up to 4 jobs.\n"
     ]
    },
    {
     "name": "stdout",
     "output_type": "stream",
     "text": [
      "Submitted batch job 1867716\n"
     ]
    },
    {
     "name": "stderr",
     "output_type": "stream",
     "text": [
      "sbatch: Single-node jobs run on a shared node by default. Add --exclusive if you want to use a node exclusively.\n",
      "sbatch: You will be charged for 0.25 node. A full node consists of 128 CPU cores, 983040 MiB of memory and 0 GPUs and can be shared by up to 4 jobs.\n"
     ]
    },
    {
     "name": "stdout",
     "output_type": "stream",
     "text": [
      "Submitted batch job 1867717\n"
     ]
    }
   ],
   "source": [
    "from amftrack.pipeline.functions.post_processing.time_hypha import *\n",
    "import pandas as pd\n",
    "import os\n",
    "\n",
    "update_analysis_info(directory_targ)\n",
    "analysis_info = get_analysis_info(directory_targ)\n",
    "analysis_folders = analysis_info.loc[analysis_info[\"unique_id\"].isin(plates)]\n",
    "list_f = [\n",
    "    get_pos_x,\n",
    "    get_pos_y,\n",
    "    get_time_since_begin_exp,\n",
    "    get_distance_final_pos,\n",
    "    get_timedelta,\n",
    "    get_time_since_start,\n",
    "    get_speed,\n",
    "    get_timestep,\n",
    "    get_timestep_init,\n",
    "    get_time_init,\n",
    "    get_degree,\n",
    "    get_width_tip_edge,\n",
    "    get_width_root_edge,\n",
    "    get_width_average,\n",
    "    get_has_reached_final_pos,\n",
    "    get_in_ROI,\n",
    "]\n",
    "# list_f = [local_density,local_density,local_density]\n",
    "# list_f = [get_time_since_begin_exp]\n",
    "# list_f = [get_width_tip_edge, get_width_root_edge]\n",
    "list_args = [{}] * len(list_f)\n",
    "# list_args= [[500],[1000],[2000]]+[[]]\n",
    "# list_args= [[500]]\n",
    "overwrite = True\n",
    "load_graphs = True\n",
    "num_parallel = 32\n",
    "time = \"10:00\"\n",
    "for index, row in analysis_folders.iterrows():\n",
    "    folder = row[\"folder_analysis\"]\n",
    "    path_time_plate_info = row[\"path_time_plate_info\"]\n",
    "    plate = row[\"Plate\"]\n",
    "    num_cpus = 32\n",
    "    if os.path.isfile(f\"{directory_targ}{path_time_plate_info}\"):\n",
    "        whole_plate_info = pd.read_json(\n",
    "            f\"{directory_targ}{path_time_plate_info}\", convert_dates=True\n",
    "        ).transpose()\n",
    "        whole_plate_info.index.name = \"t\"\n",
    "        whole_plate_info.reset_index(inplace=True)\n",
    "        run_parallel_post(\n",
    "            \"time_hypha_post_process.py\",\n",
    "            list_f,\n",
    "            list_args,\n",
    "            [directory_targ, overwrite, load_graphs],\n",
    "            whole_plate_info,\n",
    "            num_parallel,\n",
    "            time,\n",
    "            \"time_hypha_post_process\",\n",
    "            cpus=num_cpus,\n",
    "            name_job=name_job,\n",
    "            node=\"fat\",\n",
    "        )"
   ]
  },
  {
   "cell_type": "code",
   "execution_count": 36,
   "id": "6371d560-07ea-4d5a-802b-303bc66492b8",
   "metadata": {
    "tags": []
   },
   "outputs": [
    {
     "name": "stdout",
     "output_type": "stream",
     "text": [
      "Submitted batch job 1857991\n"
     ]
    },
    {
     "name": "stderr",
     "output_type": "stream",
     "text": [
      "sbatch: Single node jobs run on a shared node by default. Add --exclusive if you want to use a node exclusively.\n",
      "sbatch: You will be charged for 0.25 node. A full node consists of 128 CPU cores, 983040 MiB of memory and 0 GPUs and can be shared by up to 4 jobs.\n",
      "sbatch: Single node jobs run on a shared node by default. Add --exclusive if you want to use a node exclusively.\n",
      "sbatch: You will be charged for 0.25 node. A full node consists of 128 CPU cores, 983040 MiB of memory and 0 GPUs and can be shared by up to 4 jobs.\n"
     ]
    },
    {
     "name": "stdout",
     "output_type": "stream",
     "text": [
      "Submitted batch job 1857992\n"
     ]
    },
    {
     "name": "stderr",
     "output_type": "stream",
     "text": [
      "sbatch: Single node jobs run on a shared node by default. Add --exclusive if you want to use a node exclusively.\n",
      "sbatch: You will be charged for 0.25 node. A full node consists of 128 CPU cores, 983040 MiB of memory and 0 GPUs and can be shared by up to 4 jobs.\n"
     ]
    },
    {
     "name": "stdout",
     "output_type": "stream",
     "text": [
      "Submitted batch job 1857995\n"
     ]
    },
    {
     "name": "stderr",
     "output_type": "stream",
     "text": [
      "sbatch: Single node jobs run on a shared node by default. Add --exclusive if you want to use a node exclusively.\n",
      "sbatch: You will be charged for 0.25 node. A full node consists of 128 CPU cores, 983040 MiB of memory and 0 GPUs and can be shared by up to 4 jobs.\n"
     ]
    },
    {
     "name": "stdout",
     "output_type": "stream",
     "text": [
      "Submitted batch job 1857997\n"
     ]
    }
   ],
   "source": [
    "from amftrack.pipeline.launching.run_super import (\n",
    "    run_parallel,\n",
    "    run_launcher,\n",
    "    run_parallel_all_time,\n",
    ")\n",
    "\n",
    "folders = all_folders.loc[all_folders[\"unique_id\"].isin(plates)]\n",
    "folders = folders.loc[folders[\"/Analysis/nx_graph_pruned_labeled.p\"] == True]\n",
    "args = [directory_targ]\n",
    "num_parallel = 32\n",
    "time = \"1:00:00\"\n",
    "limit = 200\n",
    "version = 1\n",
    "suffix = \"_labeled\"\n",
    "lim_considered = 10\n",
    "args = [directory_targ, limit, version, suffix, lim_considered]\n",
    "run_parallel_all_time(\n",
    "    \"hyphae_extraction.py\",\n",
    "    args,\n",
    "    folders,\n",
    "    num_parallel,\n",
    "    time,\n",
    "    \"hyphae\",\n",
    "    cpus=32,\n",
    "    node=\"fat\",\n",
    "    name_job=\"test\",\n",
    ")"
   ]
  },
  {
   "cell_type": "code",
   "execution_count": 14,
   "id": "a30fd802-a1fe-461f-b1b6-1b1fa1060319",
   "metadata": {},
   "outputs": [
    {
     "data": {
      "text/plain": [
       "451"
      ]
     },
     "execution_count": 14,
     "metadata": {},
     "output_type": "execute_result"
    }
   ],
   "source": [
    "folders = folders.loc[folders[\"/Analysis/nx_graph_pruned_labeled.p\"] == True]\n",
    "len(folders)"
   ]
  },
  {
   "cell_type": "code",
   "execution_count": 20,
   "id": "c454083a-a612-4a78-aeb3-a63286412f69",
   "metadata": {},
   "outputs": [
    {
     "data": {
      "text/plain": [
       "107"
      ]
     },
     "execution_count": 20,
     "metadata": {},
     "output_type": "execute_result"
    }
   ],
   "source": [
    "len(list(set(folders[\"unique_id\"].values)))"
   ]
  },
  {
   "cell_type": "code",
   "execution_count": 12,
   "id": "625db32c-0d4d-4d84-a9d3-e56e905c7903",
   "metadata": {},
   "outputs": [
    {
     "name": "stderr",
     "output_type": "stream",
     "text": [
      "sbatch: Single-node jobs run on a shared node by default. Add --exclusive if you want to use a node exclusively.\n",
      "sbatch: A full node consists of 32 CPU cores, 229376 MiB of memory and 0 GPUs and can be shared by up to 32 jobs.\n",
      "sbatch: By default shared jobs get 7168 MiB of memory per CPU core, unless explicitly overridden with --mem-per-cpu, --mem-per-gpu or --mem.\n",
      "sbatch: You will be charged for 0.03125 node, based on the number of CPUs, GPUs and the amount memory that you've requested.\n"
     ]
    },
    {
     "name": "stdout",
     "output_type": "stream",
     "text": [
      "Submitted batch job 2061667\n"
     ]
    }
   ],
   "source": [
    "stage = 20\n",
    "run_launcher(\n",
    "    \"post_processer_1.py\",\n",
    "    [directory_targ, name_job, stage - 1],\n",
    "    plates,\n",
    "    \"20:00\",\n",
    "    dependency=True,\n",
    "    name_job=\"test\",\n",
    ")"
   ]
  },
  {
   "cell_type": "code",
   "execution_count": 28,
   "id": "453b9b49-e057-42af-81ba-4b370a36b07c",
   "metadata": {
    "collapsed": true,
    "jupyter": {
     "outputs_hidden": true
    },
    "tags": []
   },
   "outputs": [
    {
     "name": "stdout",
     "output_type": "stream",
     "text": [
      "/projects/0/einf914/data/Analysis_93_20220921_200_Version1/folder_info.json\n",
      "/projects/0/einf914/data/Analysis_92_20220921_2_Version1/folder_info.json\n",
      "/projects/0/einf914/data/Analysis_95_20220921_2_Version1/folder_info.json\n",
      "/projects/0/einf914/data/Analysis_94_20220921_200_Version1/folder_info.json\n",
      "/projects/0/einf914/data/Analysis_92_20220921_4_Version1/folder_info.json\n",
      "/projects/0/einf914/data/Analysis_99_20220921_200_Version1/folder_info.json\n",
      "/projects/0/einf914/data/Analysis_95_20220921_3_Version1/folder_info.json\n",
      "/projects/0/einf914/data/Analysis_94_20220921_3_Version1/folder_info.json\n",
      "/projects/0/einf914/data/Analysis_94_20220921_1_Version1/folder_info.json\n",
      "/projects/0/einf914/data/Analysis_93_20220921_3_Version1/folder_info.json\n",
      "/projects/0/einf914/data/Analysis_90_20220921_2_Version1/folder_info.json\n",
      "/projects/0/einf914/data/Analysis_98_20220921_3_Version1/folder_info.json\n",
      "/projects/0/einf914/data/Analysis_91_20220921_200_Version1/folder_info.json\n",
      "/projects/0/einf914/data/Analysis_90_20220921_1_Version1/folder_info.json\n",
      "/projects/0/einf914/data/Analysis_9_20220920_4_Version1/folder_info.json\n",
      "/projects/0/einf914/data/Analysis_90_20220921_3_Version1/folder_info.json\n",
      "/projects/0/einf914/data/Analysis_96_20220921_200_Version1/folder_info.json\n",
      "/projects/0/einf914/data/Analysis_92_20220921_200_Version1/folder_info.json\n",
      "/projects/0/einf914/data/Analysis_95_20220921_200_Version1/folder_info.json\n",
      "/projects/0/einf914/data/Analysis_90_20220921_200_Version1/folder_info.json\n",
      "/projects/0/einf914/data/Analysis_9_20220920_200_Version1/folder_info.json\n",
      "/projects/0/einf914/data/Analysis_93_20220921_4_Version1/folder_info.json\n",
      "/projects/0/einf914/data/Analysis_92_20220921_3_Version1/folder_info.json\n"
     ]
    }
   ],
   "source": [
    "update_analysis_info(directory_targ)\n",
    "analysis_info = get_analysis_info(directory_targ)\n",
    "analysis_folders = analysis_info.loc[analysis_info[\"unique_id\"].isin(plates)]"
   ]
  },
  {
   "cell_type": "code",
   "execution_count": 7,
   "id": "bb82a5fa-3b92-41bc-a92e-a004490c7455",
   "metadata": {},
   "outputs": [
    {
     "data": {
      "text/html": [
       "<div>\n",
       "<style scoped>\n",
       "    .dataframe tbody tr th:only-of-type {\n",
       "        vertical-align: middle;\n",
       "    }\n",
       "\n",
       "    .dataframe tbody tr th {\n",
       "        vertical-align: top;\n",
       "    }\n",
       "\n",
       "    .dataframe thead th {\n",
       "        text-align: right;\n",
       "    }\n",
       "</style>\n",
       "<table border=\"1\" class=\"dataframe\">\n",
       "  <thead>\n",
       "    <tr style=\"text-align: right;\">\n",
       "      <th></th>\n",
       "      <th>folder_analysis</th>\n",
       "      <th>version</th>\n",
       "      <th>total_path</th>\n",
       "      <th>Plate</th>\n",
       "      <th>PrincePos</th>\n",
       "      <th>root</th>\n",
       "      <th>strain</th>\n",
       "      <th>medium</th>\n",
       "      <th>split</th>\n",
       "      <th>Pbait</th>\n",
       "      <th>...</th>\n",
       "      <th>datetime</th>\n",
       "      <th>date_begin</th>\n",
       "      <th>date_end</th>\n",
       "      <th>number_timepoints</th>\n",
       "      <th>path_exp</th>\n",
       "      <th>path_global_hypha_info</th>\n",
       "      <th>path_time_hypha_info</th>\n",
       "      <th>path_time_plate_info</th>\n",
       "      <th>path_global_plate_info</th>\n",
       "      <th>date_run_analysis</th>\n",
       "    </tr>\n",
       "  </thead>\n",
       "  <tbody>\n",
       "    <tr>\n",
       "      <th>0</th>\n",
       "      <td>Analysis_33_20220502_188_Version1</td>\n",
       "      <td>Version1</td>\n",
       "      <td>/projects/0/einf914/data/20220502_2111_Plate07</td>\n",
       "      <td>33</td>\n",
       "      <td>7</td>\n",
       "      <td>'Carrot'</td>\n",
       "      <td>'Agg'</td>\n",
       "      <td>'001P100N100C'</td>\n",
       "      <td>'Y'</td>\n",
       "      <td>'-'</td>\n",
       "      <td>...</td>\n",
       "      <td>2022-05-02 21:11:00</td>\n",
       "      <td>02.05.2022, 21:11:</td>\n",
       "      <td>20.05.2022, 09:41:</td>\n",
       "      <td>188</td>\n",
       "      <td>Analysis_33_20220502_188_Version1/experiment.pick</td>\n",
       "      <td>Analysis_33_20220502_188_Version1/global_hypha...</td>\n",
       "      <td>Analysis_33_20220502_188_Version1/time_hypha_info</td>\n",
       "      <td>Analysis_33_20220502_188_Version1/time_plate_i...</td>\n",
       "      <td>Analysis_33_20220502_188_Version1/global_plate...</td>\n",
       "      <td>01.01.1970, 01:00:</td>\n",
       "    </tr>\n",
       "  </tbody>\n",
       "</table>\n",
       "<p>1 rows × 24 columns</p>\n",
       "</div>"
      ],
      "text/plain": [
       "                     folder_analysis   version  \\\n",
       "0  Analysis_33_20220502_188_Version1  Version1   \n",
       "\n",
       "                                       total_path Plate PrincePos      root  \\\n",
       "0  /projects/0/einf914/data/20220502_2111_Plate07    33         7  'Carrot'   \n",
       "\n",
       "  strain          medium split Pbait  ...             datetime  \\\n",
       "0  'Agg'  '001P100N100C'   'Y'   '-'  ...  2022-05-02 21:11:00   \n",
       "\n",
       "           date_begin            date_end number_timepoints  \\\n",
       "0  02.05.2022, 21:11:  20.05.2022, 09:41:               188   \n",
       "\n",
       "                                            path_exp  \\\n",
       "0  Analysis_33_20220502_188_Version1/experiment.pick   \n",
       "\n",
       "                              path_global_hypha_info  \\\n",
       "0  Analysis_33_20220502_188_Version1/global_hypha...   \n",
       "\n",
       "                                path_time_hypha_info  \\\n",
       "0  Analysis_33_20220502_188_Version1/time_hypha_info   \n",
       "\n",
       "                                path_time_plate_info  \\\n",
       "0  Analysis_33_20220502_188_Version1/time_plate_i...   \n",
       "\n",
       "                              path_global_plate_info   date_run_analysis  \n",
       "0  Analysis_33_20220502_188_Version1/global_plate...  01.01.1970, 01:00:  \n",
       "\n",
       "[1 rows x 24 columns]"
      ]
     },
     "execution_count": 7,
     "metadata": {},
     "output_type": "execute_result"
    }
   ],
   "source": [
    "analysis_folders"
   ]
  },
  {
   "cell_type": "code",
   "execution_count": 8,
   "id": "50d39007-aa12-4eaa-9df0-f0abab2833b7",
   "metadata": {},
   "outputs": [
    {
     "name": "stderr",
     "output_type": "stream",
     "text": [
      "sbatch: Single node jobs run on a shared node by default. Add --exclusive if you want to use a node exclusively.\n",
      "sbatch: You will be charged for 0.25 node. A full node consists of 128 CPU cores, 983040 MiB of memory and 0 GPUs and can be shared by up to 4 jobs.\n"
     ]
    },
    {
     "name": "stdout",
     "output_type": "stream",
     "text": [
      "Submitted batch job 1768604\n"
     ]
    },
    {
     "name": "stderr",
     "output_type": "stream",
     "text": [
      "sbatch: Single node jobs run on a shared node by default. Add --exclusive if you want to use a node exclusively.\n",
      "sbatch: You will be charged for 0.03125 node. A full node consists of 32 CPU cores, 229376 MiB of memory and 0 GPUs and can be shared by up to 32 jobs.\n"
     ]
    },
    {
     "name": "stdout",
     "output_type": "stream",
     "text": [
      "Submitted batch job 1768605\n"
     ]
    }
   ],
   "source": [
    "# name_job = f\"one_shot_{time_ns()}.sh\"\n",
    "\n",
    "from amftrack.pipeline.launching.run_super import run_parallel_post\n",
    "from amftrack.pipeline.functions.post_processing.global_plate import *\n",
    "from amftrack.pipeline.functions.post_processing.time_plate import *\n",
    "from amftrack.pipeline.functions.post_processing.global_hypha import *\n",
    "from amftrack.pipeline.functions.post_processing.area_hulls import *\n",
    "from amftrack.pipeline.launching.run_super import run_parallel, run_launcher\n",
    "from amftrack.pipeline.functions.post_processing.exp_plot import *\n",
    "\n",
    "time = \"24:00:00\"\n",
    "directory = directory_targ\n",
    "max_ind = 20\n",
    "incr = 100\n",
    "fs = [\n",
    "    get_density_in_ring,\n",
    "    get_density_anastomose_in_ring,\n",
    "    # get_density_branch_rate_in_ring,\n",
    "    # get_density_stop_rate_in_ring,\n",
    "    get_density_active_tips_in_ring,\n",
    "]\n",
    "# fs = [get_mean_speed_in_ring]\n",
    "\n",
    "list_f = []\n",
    "list_args = []\n",
    "\n",
    "for f in fs:\n",
    "    list_f += [f] * max_ind\n",
    "\n",
    "    list_args += [{\"incr\": incr, \"i\": i, \"rh_only\": True} for i in range(max_ind)]\n",
    "overwrite = False\n",
    "num_parallel = 30\n",
    "run_parallel_post(\n",
    "    \"time_plate_post_process.py\",\n",
    "    list_f,\n",
    "    list_args,\n",
    "    [directory, overwrite],\n",
    "    analysis_folders,\n",
    "    num_parallel,\n",
    "    time,\n",
    "    \"time_plate_post_process\",\n",
    "    cpus=32,\n",
    "    name_job=name_job,\n",
    "    node=\"fat\",\n",
    "    dependency=True,\n",
    ")\n",
    "run_launcher(\n",
    "    \"analysis_uploader.py\",\n",
    "    [directory_targ, name_job],\n",
    "    plates,\n",
    "    \"12:00:00\",\n",
    "    dependency=True,\n",
    "    name_job=name_job,\n",
    ")"
   ]
  },
  {
   "cell_type": "code",
   "execution_count": 41,
   "id": "be6cc993-f4e0-4008-aace-b1fa59150df2",
   "metadata": {},
   "outputs": [
    {
     "name": "stdout",
     "output_type": "stream",
     "text": [
      "Submitted batch job 1858250\n",
      "Submitted batch job 1858251\n",
      "Submitted batch job 1858252\n",
      "Submitted batch job 1858253\n",
      "Submitted batch job 1858255\n",
      "Submitted batch job 1858256\n"
     ]
    }
   ],
   "source": [
    "from amftrack.pipeline.launching.run_super import run_parallel, run_launcher\n",
    "\n",
    "name_job = \"malin\"\n",
    "\n",
    "num_parallel = 100\n",
    "time = \"20:00\"\n",
    "args = [directory_targ]\n",
    "run_parallel(\n",
    "    \"compress_image.py\",\n",
    "    args,\n",
    "    folders,\n",
    "    num_parallel,\n",
    "    time,\n",
    "    \"compress\",\n",
    "    cpus=128,\n",
    "    node=\"fat\",\n",
    "    name_job=name_job,\n",
    ")"
   ]
  },
  {
   "cell_type": "code",
   "execution_count": 42,
   "id": "9dcd9efc-585c-4333-a48c-a3f18ee134cb",
   "metadata": {},
   "outputs": [
    {
     "name": "stdout",
     "output_type": "stream",
     "text": [
      "Submitted batch job 1858259\n",
      "Submitted batch job 1858260\n",
      "Submitted batch job 1858262\n",
      "Submitted batch job 1858267\n",
      "Submitted batch job 1858268\n",
      "Submitted batch job 1858269\n",
      "Submitted batch job 1858270\n",
      "Submitted batch job 1858271\n",
      "Submitted batch job 1858272\n",
      "Submitted batch job 1858273\n",
      "Submitted batch job 1858274\n",
      "Submitted batch job 1858275\n"
     ]
    }
   ],
   "source": [
    "from amftrack.pipeline.launching.run_super import run_parallel, run_launcher\n",
    "\n",
    "num_parallel = 50\n",
    "time = \"12:00:00\"\n",
    "hyph_width = 30\n",
    "perc_low = 93\n",
    "perc_high = 99.5\n",
    "args = [hyph_width, perc_low, perc_high, directory_targ]\n",
    "run_parallel(\n",
    "    \"extract_skel_2.py\",\n",
    "    args,\n",
    "    folders,\n",
    "    num_parallel,\n",
    "    time,\n",
    "    \"skeletonization\",\n",
    "    cpus=128,\n",
    "    node=\"fat\",\n",
    "    name_job=name_job,\n",
    ")"
   ]
  },
  {
   "cell_type": "code",
   "execution_count": 43,
   "id": "42455272-081b-43a0-b69e-6e0dab68ff77",
   "metadata": {},
   "outputs": [
    {
     "name": "stdout",
     "output_type": "stream",
     "text": [
      "Submitted batch job 1858277\n",
      "Submitted batch job 1858279\n",
      "Submitted batch job 1858282\n",
      "Submitted batch job 1858283\n",
      "Submitted batch job 1858284\n",
      "Submitted batch job 1858285\n"
     ]
    }
   ],
   "source": [
    "from amftrack.pipeline.launching.run_super import run_parallel, run_launcher\n",
    "\n",
    "num_parallel = 100\n",
    "time = \"20:00\"\n",
    "args = [directory_targ]\n",
    "run_parallel(\n",
    "    \"detect_blob.py\",\n",
    "    args,\n",
    "    folders,\n",
    "    num_parallel,\n",
    "    time,\n",
    "    \"detect_blob\",\n",
    "    cpus=128,\n",
    "    node=\"fat\",\n",
    "    name_job=name_job,\n",
    ")"
   ]
  },
  {
   "cell_type": "code",
   "execution_count": 7,
   "id": "706dce62-3dc8-4c0b-b297-0213da796b2f",
   "metadata": {},
   "outputs": [
    {
     "name": "stderr",
     "output_type": "stream",
     "text": [
      "sbatch: Single node jobs run on a shared node by default. Add --exclusive if you want to use a node exclusively.\n",
      "sbatch: You will be charged for 0.03125 node. A full node consists of 32 CPU cores, 229376 MiB of memory and 0 GPUs and can be shared by up to 32 jobs.\n"
     ]
    },
    {
     "name": "stdout",
     "output_type": "stream",
     "text": [
      "Submitted batch job 1861160\n"
     ]
    }
   ],
   "source": [
    "name_job = \"malin\"\n",
    "\n",
    "run_launcher(\n",
    "    \"masker.py\",\n",
    "    [directory_targ, name_job, 30],\n",
    "    plates,\n",
    "    \"3:00:00\",\n",
    "    dependency=True,\n",
    "    name_job=name_job,\n",
    ")"
   ]
  },
  {
   "cell_type": "code",
   "execution_count": 25,
   "id": "f371697c-0d27-40e2-8b68-8d9ad947ee9c",
   "metadata": {},
   "outputs": [
    {
     "name": "stderr",
     "output_type": "stream",
     "text": [
      "sbatch: Single node jobs run on a shared node by default. Add --exclusive if you want to use a node exclusively.\n",
      "sbatch: You will be charged for 0.25 node. A full node consists of 128 CPU cores, 983040 MiB of memory and 0 GPUs and can be shared by up to 4 jobs.\n"
     ]
    },
    {
     "name": "stdout",
     "output_type": "stream",
     "text": [
      "Submitted batch job 1828129\n"
     ]
    },
    {
     "name": "stderr",
     "output_type": "stream",
     "text": [
      "sbatch: Single node jobs run on a shared node by default. Add --exclusive if you want to use a node exclusively.\n",
      "sbatch: You will be charged for 0.25 node. A full node consists of 128 CPU cores, 983040 MiB of memory and 0 GPUs and can be shared by up to 4 jobs.\n"
     ]
    },
    {
     "name": "stdout",
     "output_type": "stream",
     "text": [
      "Submitted batch job 1828130\n"
     ]
    },
    {
     "name": "stderr",
     "output_type": "stream",
     "text": [
      "sbatch: Single node jobs run on a shared node by default. Add --exclusive if you want to use a node exclusively.\n",
      "sbatch: You will be charged for 0.25 node. A full node consists of 128 CPU cores, 983040 MiB of memory and 0 GPUs and can be shared by up to 4 jobs.\n"
     ]
    },
    {
     "name": "stdout",
     "output_type": "stream",
     "text": [
      "Submitted batch job 1828131\n"
     ]
    }
   ],
   "source": [
    "from amftrack.pipeline.launching.run_super import run_parallel_all_time, run_launcher\n",
    "\n",
    "folders = all_folders.loc[all_folders[\"unique_id\"].isin(plates)]\n",
    "folders = folders.loc[folders[\"/Img/TileConfiguration.txt.registered\"] == True]\n",
    "num_parallel = 50\n",
    "time = \"10:00\"\n",
    "args = []\n",
    "run_parallel_all_time(\n",
    "    \"make_video_stitched.py\",\n",
    "    args,\n",
    "    folders,\n",
    "    num_parallel,\n",
    "    time,\n",
    "    \"make_video\",\n",
    "    cpus=32,\n",
    "    node=\"fat\",\n",
    "    dependency=False,\n",
    "    name_job=\"video\",\n",
    ")"
   ]
  },
  {
   "cell_type": "code",
   "execution_count": 3,
   "id": "6bb3b8f2-51c2-4a2b-b38c-e369dfbad277",
   "metadata": {},
   "outputs": [],
   "source": [
    "plates = [\n",
    "    \"105_20220817\",\n",
    "    \"77_20220808\",\n",
    "    \"71_20220817\",\n",
    "    \"100_20220812\",\n",
    "    \"117_20220815\",\n",
    "    \"99_20220815\",\n",
    "    \"75_20220808\",\n",
    "    \"226_20220812\",\n",
    "]"
   ]
  },
  {
   "cell_type": "code",
   "execution_count": 46,
   "id": "5d7f5622-0995-4bc4-9f1a-665e35b9425b",
   "metadata": {
    "tags": []
   },
   "outputs": [],
   "source": [
    "folders = all_folders.loc[all_folders[\"Plate\"].isin([\"32\"])]"
   ]
  },
  {
   "cell_type": "code",
   "execution_count": 17,
   "id": "3bce3711-f0df-422d-8ebf-a43a23e1a840",
   "metadata": {
    "tags": []
   },
   "outputs": [
    {
     "name": "stderr",
     "output_type": "stream",
     "text": [
      "sbatch: Single node jobs run on a shared node by default. Add --exclusive if you want to use a node exclusively.\n",
      "sbatch: You will be charged for 0.25 node. A full node consists of 128 CPU cores, 983040 MiB of memory and 0 GPUs and can be shared by up to 4 jobs.\n"
     ]
    },
    {
     "name": "stdout",
     "output_type": "stream",
     "text": [
      "Submitted batch job 1738329\n"
     ]
    }
   ],
   "source": [
    "from amftrack.pipeline.launching.run_super import *\n",
    "\n",
    "num_parallel = 32\n",
    "time = \"8:00:00\"\n",
    "limit = 200\n",
    "version = 1\n",
    "labeled = True\n",
    "args = [directory_targ, limit, version, labeled]\n",
    "run_parallel_all_time(\n",
    "    \"hyphae_extraction.py\",\n",
    "    args,\n",
    "    folders,\n",
    "    num_parallel,\n",
    "    time,\n",
    "    \"hyphae\",\n",
    "    cpus=32,\n",
    "    node=\"fat\",\n",
    ")"
   ]
  },
  {
   "cell_type": "code",
   "execution_count": 12,
   "id": "0d0eeec2-4e63-4b1b-972d-f76bd6a035bf",
   "metadata": {},
   "outputs": [
    {
     "name": "stdout",
     "output_type": "stream",
     "text": [
      "Submitted batch job 1138954\n"
     ]
    },
    {
     "name": "stderr",
     "output_type": "stream",
     "text": [
      "sbatch: Single node jobs run on a shared node by default. Add --exclusive if you want to use a node exclusively.\n",
      "sbatch: You will be charged for 1.0 node. A full node consists of 128 CPU cores, 983040 MiB of memory and 0 GPUs and can be shared by up to 4 jobs.\n"
     ]
    }
   ],
   "source": [
    "from amftrack.pipeline.launching.run_super import run_parallel, run_launcher\n",
    "\n",
    "for plate in plates:\n",
    "    select = folders.loc[folders[\"Plate\"] == plate]\n",
    "    num_parallel = 128\n",
    "    time = \"12:00:00\"\n",
    "    thresh = 10000  # For R. irregularis, thresh 10000 is good. For Aggregatum, higher may be necessary\n",
    "    args = [thresh, directory_targ]\n",
    "    run_parallel(\n",
    "        \"final_alignment.py\",\n",
    "        args,\n",
    "        select,\n",
    "        num_parallel,\n",
    "        time,\n",
    "        \"realign\",\n",
    "        cpus=128,\n",
    "        node=\"fat\",\n",
    "        name_job=name_job,\n",
    "    )"
   ]
  },
  {
   "cell_type": "code",
   "execution_count": 20,
   "id": "656f2038-0660-4d13-acd0-7580b56a8a84",
   "metadata": {},
   "outputs": [
    {
     "data": {
      "text/plain": [
       "['6_20220509']"
      ]
     },
     "execution_count": 20,
     "metadata": {},
     "output_type": "execute_result"
    }
   ],
   "source": [
    "plates"
   ]
  },
  {
   "cell_type": "code",
   "execution_count": 19,
   "id": "6323eacb-c44e-463b-90e7-bf55aaf43ab1",
   "metadata": {},
   "outputs": [
    {
     "data": {
      "text/html": [
       "<div>\n",
       "<style scoped>\n",
       "    .dataframe tbody tr th:only-of-type {\n",
       "        vertical-align: middle;\n",
       "    }\n",
       "\n",
       "    .dataframe tbody tr th {\n",
       "        vertical-align: top;\n",
       "    }\n",
       "\n",
       "    .dataframe thead th {\n",
       "        text-align: right;\n",
       "    }\n",
       "</style>\n",
       "<table border=\"1\" class=\"dataframe\">\n",
       "  <thead>\n",
       "    <tr style=\"text-align: right;\">\n",
       "      <th></th>\n",
       "      <th>total_path</th>\n",
       "      <th>Plate</th>\n",
       "      <th>PrincePos</th>\n",
       "      <th>root</th>\n",
       "      <th>strain</th>\n",
       "      <th>medium</th>\n",
       "      <th>split</th>\n",
       "      <th>Pbait</th>\n",
       "      <th>CrossDate</th>\n",
       "      <th>Temperature</th>\n",
       "      <th>...</th>\n",
       "      <th>/Analysis/transform.mat</th>\n",
       "      <th>/Analysis/transform_corrupt.mat</th>\n",
       "      <th>/Analysis/skeleton_realigned_compressed.mat</th>\n",
       "      <th>/Analysis/nx_graph_pruned.p</th>\n",
       "      <th>/Analysis/nx_graph_pruned_width.p</th>\n",
       "      <th>/Analysis/nx_graph_pruned_labeled.p</th>\n",
       "      <th>date</th>\n",
       "      <th>folder</th>\n",
       "      <th>unique_id</th>\n",
       "      <th>datetime</th>\n",
       "    </tr>\n",
       "  </thead>\n",
       "  <tbody>\n",
       "  </tbody>\n",
       "</table>\n",
       "<p>0 rows × 24 columns</p>\n",
       "</div>"
      ],
      "text/plain": [
       "Empty DataFrame\n",
       "Columns: [total_path, Plate, PrincePos, root, strain, medium, split, Pbait, CrossDate, Temperature, /Img/TileConfiguration.txt.registered, /Analysis/skeleton_compressed.mat, /Analysis/skeleton_masked_compressed.mat, /Analysis/skeleton_pruned_compressed.mat, /Analysis/transform.mat, /Analysis/transform_corrupt.mat, /Analysis/skeleton_realigned_compressed.mat, /Analysis/nx_graph_pruned.p, /Analysis/nx_graph_pruned_width.p, /Analysis/nx_graph_pruned_labeled.p, date, folder, unique_id, datetime]\n",
       "Index: []\n",
       "\n",
       "[0 rows x 24 columns]"
      ]
     },
     "execution_count": 19,
     "metadata": {},
     "output_type": "execute_result"
    }
   ],
   "source": [
    "select"
   ]
  },
  {
   "cell_type": "code",
   "execution_count": 13,
   "id": "aae06165-b345-4cf1-9404-52abd616e3d0",
   "metadata": {},
   "outputs": [
    {
     "name": "stdout",
     "output_type": "stream",
     "text": [
      "========\n",
      "Matching plate 20220510_1851_Plate17 at dates ['20220510_1851_Plate17', '20220511_1750_Plate17']\n",
      "========\n"
     ]
    }
   ],
   "source": [
    "i = 0\n",
    "run_info = folders\n",
    "folder_list = list(run_info[\"folder\"])\n",
    "folder_list.sort()\n",
    "\n",
    "dates_datetime_chosen = folder_list[i : i + 2]\n",
    "print(\"========\")\n",
    "print(f\"Matching plate {dates_datetime_chosen[0]} at dates {dates_datetime_chosen}\")\n",
    "print(\"========\")\n",
    "dates = dates_datetime_chosen"
   ]
  },
  {
   "cell_type": "code",
   "execution_count": 10,
   "id": "0556ab5e-23a7-4259-9c1f-e183de22004f",
   "metadata": {},
   "outputs": [],
   "source": [
    "from amftrack.pipeline.launching.run_super import run_parallel_post\n",
    "from amftrack.pipeline.functions.post_processing.global_plate import *\n",
    "from amftrack.pipeline.functions.post_processing.time_plate import *\n",
    "from amftrack.pipeline.functions.post_processing.global_hypha import *\n",
    "from amftrack.pipeline.functions.post_processing.area_hulls import *\n",
    "from amftrack.pipeline.launching.run_super import run_parallel, run_launcher\n",
    "from amftrack.pipeline.functions.post_processing.exp_plot import *\n",
    "\n",
    "update_analysis_info(directory_targ)\n",
    "analysis_info = get_analysis_info(directory_targ)\n",
    "analysis_folders = analysis_info.loc[analysis_info[\"unique_id\"].isin(plates)]\n",
    "directory = directory_targ"
   ]
  },
  {
   "cell_type": "code",
   "execution_count": 11,
   "id": "029954ec-42f9-4ba2-9dbe-137682996560",
   "metadata": {
    "tags": []
   },
   "outputs": [
    {
     "name": "stdout",
     "output_type": "stream",
     "text": [
      "Submitted batch job 1539552\n"
     ]
    },
    {
     "name": "stderr",
     "output_type": "stream",
     "text": [
      "sbatch: Single node jobs run on a shared node by default. Add --exclusive if you want to use a node exclusively.\n",
      "sbatch: You will be charged for 0.25 node. A full node consists of 128 CPU cores, 983040 MiB of memory and 0 GPUs and can be shared by up to 4 jobs.\n"
     ]
    }
   ],
   "source": [
    "time = \"3:40:00\"\n",
    "directory = directory_targ\n",
    "# list_f = [get_width_f,get_tot_length_C_f,get_tot_growth_C_f]\n",
    "# list_f = [get_timestep_anastomosis]\n",
    "list_f = [\n",
    "    gets_out_of_ROI,\n",
    "    get_width_f,\n",
    "    get_tot_length_C_f,\n",
    "    get_tot_growth_C_f,\n",
    "    get_tot_length_pp_f,\n",
    "    get_tot_growth_pp_f,\n",
    "    get_timestep_stop_growth,\n",
    "    get_time_stop_growth,\n",
    "    get_time_init_growth,\n",
    "    get_mean_speed_growth,\n",
    "    get_stop_track,\n",
    "    get_timestep_anastomosis,\n",
    "    get_timestep_biological_stop_growth,\n",
    "]\n",
    "# list_f = [get_num_branch]\n",
    "# list_f = [gets_out_of_ROI]\n",
    "list_args = [{}] * len(list_f)\n",
    "overwrite = False\n",
    "num_parallel = 32\n",
    "run_parallel_post(\n",
    "    \"global_hypha_post_process.py\",\n",
    "    list_f,\n",
    "    list_args,\n",
    "    [directory, overwrite],\n",
    "    analysis_folders,\n",
    "    num_parallel,\n",
    "    time,\n",
    "    \"global_hypha_post_process\",\n",
    "    cpus=32,\n",
    "    name_job=\"a\",\n",
    "    node=\"fat\",\n",
    ")"
   ]
  },
  {
   "cell_type": "code",
   "execution_count": 13,
   "id": "bac5d4ee-b1e5-4027-8f98-8f7c1d7d7726",
   "metadata": {
    "collapsed": true,
    "jupyter": {
     "outputs_hidden": true
    },
    "tags": []
   },
   "outputs": [
    {
     "name": "stdout",
     "output_type": "stream",
     "text": [
      "Submitted batch job 1539625\n",
      "Submitted batch job 1539626\n",
      "Submitted batch job 1539627\n"
     ]
    },
    {
     "name": "stderr",
     "output_type": "stream",
     "text": [
      "sbatch: Single node jobs run on a shared node by default. Add --exclusive if you want to use a node exclusively.\n",
      "sbatch: You will be charged for 0.25 node. A full node consists of 128 CPU cores, 983040 MiB of memory and 0 GPUs and can be shared by up to 4 jobs.\n",
      "sbatch: Single node jobs run on a shared node by default. Add --exclusive if you want to use a node exclusively.\n",
      "sbatch: You will be charged for 0.25 node. A full node consists of 128 CPU cores, 983040 MiB of memory and 0 GPUs and can be shared by up to 4 jobs.\n",
      "sbatch: Single node jobs run on a shared node by default. Add --exclusive if you want to use a node exclusively.\n",
      "sbatch: You will be charged for 0.25 node. A full node consists of 128 CPU cores, 983040 MiB of memory and 0 GPUs and can be shared by up to 4 jobs.\n",
      "sbatch: Single node jobs run on a shared node by default. Add --exclusive if you want to use a node exclusively.\n",
      "sbatch: You will be charged for 0.25 node. A full node consists of 128 CPU cores, 983040 MiB of memory and 0 GPUs and can be shared by up to 4 jobs.\n",
      "sbatch: Single node jobs run on a shared node by default. Add --exclusive if you want to use a node exclusively.\n",
      "sbatch: You will be charged for 0.25 node. A full node consists of 128 CPU cores, 983040 MiB of memory and 0 GPUs and can be shared by up to 4 jobs.\n",
      "sbatch: Single node jobs run on a shared node by default. Add --exclusive if you want to use a node exclusively.\n",
      "sbatch: You will be charged for 0.25 node. A full node consists of 128 CPU cores, 983040 MiB of memory and 0 GPUs and can be shared by up to 4 jobs.\n"
     ]
    },
    {
     "name": "stdout",
     "output_type": "stream",
     "text": [
      "Submitted batch job 1539628\n",
      "Submitted batch job 1539629\n",
      "Submitted batch job 1539630\n"
     ]
    },
    {
     "name": "stderr",
     "output_type": "stream",
     "text": [
      "sbatch: Single node jobs run on a shared node by default. Add --exclusive if you want to use a node exclusively.\n",
      "sbatch: You will be charged for 0.25 node. A full node consists of 128 CPU cores, 983040 MiB of memory and 0 GPUs and can be shared by up to 4 jobs.\n"
     ]
    },
    {
     "name": "stdout",
     "output_type": "stream",
     "text": [
      "Submitted batch job 1539631\n"
     ]
    },
    {
     "name": "stderr",
     "output_type": "stream",
     "text": [
      "sbatch: Single node jobs run on a shared node by default. Add --exclusive if you want to use a node exclusively.\n",
      "sbatch: You will be charged for 0.25 node. A full node consists of 128 CPU cores, 983040 MiB of memory and 0 GPUs and can be shared by up to 4 jobs.\n",
      "sbatch: Single node jobs run on a shared node by default. Add --exclusive if you want to use a node exclusively.\n",
      "sbatch: You will be charged for 0.25 node. A full node consists of 128 CPU cores, 983040 MiB of memory and 0 GPUs and can be shared by up to 4 jobs.\n"
     ]
    },
    {
     "name": "stdout",
     "output_type": "stream",
     "text": [
      "Submitted batch job 1539632\n",
      "Submitted batch job 1539633\n"
     ]
    },
    {
     "name": "stderr",
     "output_type": "stream",
     "text": [
      "sbatch: Single node jobs run on a shared node by default. Add --exclusive if you want to use a node exclusively.\n",
      "sbatch: You will be charged for 0.25 node. A full node consists of 128 CPU cores, 983040 MiB of memory and 0 GPUs and can be shared by up to 4 jobs.\n",
      "sbatch: Single node jobs run on a shared node by default. Add --exclusive if you want to use a node exclusively.\n",
      "sbatch: You will be charged for 0.25 node. A full node consists of 128 CPU cores, 983040 MiB of memory and 0 GPUs and can be shared by up to 4 jobs.\n",
      "sbatch: Single node jobs run on a shared node by default. Add --exclusive if you want to use a node exclusively.\n",
      "sbatch: You will be charged for 0.25 node. A full node consists of 128 CPU cores, 983040 MiB of memory and 0 GPUs and can be shared by up to 4 jobs.\n"
     ]
    },
    {
     "name": "stdout",
     "output_type": "stream",
     "text": [
      "Submitted batch job 1539634\n",
      "Submitted batch job 1539635\n",
      "Submitted batch job 1539636\n"
     ]
    },
    {
     "name": "stderr",
     "output_type": "stream",
     "text": [
      "sbatch: Single node jobs run on a shared node by default. Add --exclusive if you want to use a node exclusively.\n",
      "sbatch: You will be charged for 0.25 node. A full node consists of 128 CPU cores, 983040 MiB of memory and 0 GPUs and can be shared by up to 4 jobs.\n",
      "sbatch: Single node jobs run on a shared node by default. Add --exclusive if you want to use a node exclusively.\n",
      "sbatch: You will be charged for 0.25 node. A full node consists of 128 CPU cores, 983040 MiB of memory and 0 GPUs and can be shared by up to 4 jobs.\n",
      "sbatch: Single node jobs run on a shared node by default. Add --exclusive if you want to use a node exclusively.\n",
      "sbatch: You will be charged for 0.25 node. A full node consists of 128 CPU cores, 983040 MiB of memory and 0 GPUs and can be shared by up to 4 jobs.\n"
     ]
    },
    {
     "name": "stdout",
     "output_type": "stream",
     "text": [
      "Submitted batch job 1539637\n",
      "Submitted batch job 1539638\n",
      "Submitted batch job 1539639\n"
     ]
    },
    {
     "name": "stderr",
     "output_type": "stream",
     "text": [
      "sbatch: Single node jobs run on a shared node by default. Add --exclusive if you want to use a node exclusively.\n",
      "sbatch: You will be charged for 0.25 node. A full node consists of 128 CPU cores, 983040 MiB of memory and 0 GPUs and can be shared by up to 4 jobs.\n",
      "sbatch: Single node jobs run on a shared node by default. Add --exclusive if you want to use a node exclusively.\n",
      "sbatch: You will be charged for 0.25 node. A full node consists of 128 CPU cores, 983040 MiB of memory and 0 GPUs and can be shared by up to 4 jobs.\n"
     ]
    },
    {
     "name": "stdout",
     "output_type": "stream",
     "text": [
      "Submitted batch job 1539640\n",
      "Submitted batch job 1539641\n",
      "Submitted batch job 1539642\n"
     ]
    },
    {
     "name": "stderr",
     "output_type": "stream",
     "text": [
      "sbatch: Single node jobs run on a shared node by default. Add --exclusive if you want to use a node exclusively.\n",
      "sbatch: You will be charged for 0.25 node. A full node consists of 128 CPU cores, 983040 MiB of memory and 0 GPUs and can be shared by up to 4 jobs.\n",
      "sbatch: Single node jobs run on a shared node by default. Add --exclusive if you want to use a node exclusively.\n",
      "sbatch: You will be charged for 0.25 node. A full node consists of 128 CPU cores, 983040 MiB of memory and 0 GPUs and can be shared by up to 4 jobs.\n",
      "sbatch: Single node jobs run on a shared node by default. Add --exclusive if you want to use a node exclusively.\n",
      "sbatch: You will be charged for 0.25 node. A full node consists of 128 CPU cores, 983040 MiB of memory and 0 GPUs and can be shared by up to 4 jobs.\n"
     ]
    },
    {
     "name": "stdout",
     "output_type": "stream",
     "text": [
      "Submitted batch job 1539643\n",
      "Submitted batch job 1539644\n"
     ]
    },
    {
     "name": "stderr",
     "output_type": "stream",
     "text": [
      "sbatch: Single node jobs run on a shared node by default. Add --exclusive if you want to use a node exclusively.\n",
      "sbatch: You will be charged for 0.25 node. A full node consists of 128 CPU cores, 983040 MiB of memory and 0 GPUs and can be shared by up to 4 jobs.\n",
      "sbatch: Single node jobs run on a shared node by default. Add --exclusive if you want to use a node exclusively.\n",
      "sbatch: You will be charged for 0.25 node. A full node consists of 128 CPU cores, 983040 MiB of memory and 0 GPUs and can be shared by up to 4 jobs.\n"
     ]
    },
    {
     "name": "stdout",
     "output_type": "stream",
     "text": [
      "Submitted batch job 1539645\n",
      "Submitted batch job 1539646\n"
     ]
    },
    {
     "name": "stderr",
     "output_type": "stream",
     "text": [
      "sbatch: Single node jobs run on a shared node by default. Add --exclusive if you want to use a node exclusively.\n",
      "sbatch: You will be charged for 0.25 node. A full node consists of 128 CPU cores, 983040 MiB of memory and 0 GPUs and can be shared by up to 4 jobs.\n",
      "sbatch: Single node jobs run on a shared node by default. Add --exclusive if you want to use a node exclusively.\n",
      "sbatch: You will be charged for 0.25 node. A full node consists of 128 CPU cores, 983040 MiB of memory and 0 GPUs and can be shared by up to 4 jobs.\n"
     ]
    },
    {
     "name": "stdout",
     "output_type": "stream",
     "text": [
      "Submitted batch job 1539647\n",
      "Submitted batch job 1539648\n",
      "Submitted batch job 1539649\n"
     ]
    },
    {
     "name": "stderr",
     "output_type": "stream",
     "text": [
      "sbatch: Single node jobs run on a shared node by default. Add --exclusive if you want to use a node exclusively.\n",
      "sbatch: You will be charged for 0.25 node. A full node consists of 128 CPU cores, 983040 MiB of memory and 0 GPUs and can be shared by up to 4 jobs.\n"
     ]
    }
   ],
   "source": [
    "import sys\n",
    "from amftrack.util.sys import (\n",
    "    update_analysis_info,\n",
    "    get_analysis_info,\n",
    ")\n",
    "from amftrack.pipeline.launching.run_super import run_parallel_post\n",
    "from amftrack.pipeline.functions.post_processing.time_hypha import *\n",
    "from amftrack.pipeline.launching.run_super import run_parallel, run_launcher\n",
    "import pandas as pd\n",
    "import os\n",
    "\n",
    "list_f = [\n",
    "    get_pos_x,\n",
    "    get_pos_y,\n",
    "    get_time_since_begin_exp,\n",
    "    get_distance_final_pos,\n",
    "    get_timedelta,\n",
    "    get_time_since_start,\n",
    "    get_speed,\n",
    "    get_timestep,\n",
    "    get_timestep_init,\n",
    "    get_time_init,\n",
    "    get_degree,\n",
    "    get_width_tip_edge,\n",
    "    get_width_root_edge,\n",
    "    get_width_average,\n",
    "    has_reached_final_pos,\n",
    "    in_ROI,\n",
    "]\n",
    "# list_f = [local_density,local_density,local_density]\n",
    "# list_f = [get_time_since_begin_exp]\n",
    "# list_f = [get_width_tip_edge, get_width_root_edge]\n",
    "list_args = [{}] * len(list_f)\n",
    "# list_args= [[500],[1000],[2000]]+[[]]\n",
    "# list_args= [[500]]\n",
    "overwrite = False\n",
    "load_graphs = True\n",
    "num_parallel = 32\n",
    "time = \"12:00:00\"\n",
    "for index, row in analysis_folders.iterrows():\n",
    "    folder = row[\"folder_analysis\"]\n",
    "    path_time_plate_info = row[\"path_time_plate_info\"]\n",
    "    plate = row[\"Plate\"]\n",
    "    num_cpus = 32\n",
    "    if os.path.isfile(f\"{directory_targ}{path_time_plate_info}\"):\n",
    "        whole_plate_info = pd.read_json(\n",
    "            f\"{directory_targ}{path_time_plate_info}\", convert_dates=True\n",
    "        ).transpose()\n",
    "        whole_plate_info.index.name = \"t\"\n",
    "        whole_plate_info.reset_index(inplace=True)\n",
    "        run_parallel_post(\n",
    "            \"time_hypha_post_process.py\",\n",
    "            list_f,\n",
    "            list_args,\n",
    "            [directory_targ, overwrite, load_graphs],\n",
    "            whole_plate_info,\n",
    "            num_parallel,\n",
    "            time,\n",
    "            \"time_hypha_post_process\",\n",
    "            cpus=num_cpus,\n",
    "            name_job=name_job,\n",
    "            node=\"fat\",\n",
    "        )"
   ]
  }
 ],
 "metadata": {
  "kernelspec": {
   "display_name": "Python 3 (ipykernel)",
   "language": "python",
   "name": "python3"
  },
  "language_info": {
   "codemirror_mode": {
    "name": "ipython",
    "version": 3
   },
   "file_extension": ".py",
   "mimetype": "text/x-python",
   "name": "python",
   "nbconvert_exporter": "python",
   "pygments_lexer": "ipython3",
   "version": "3.7.13"
  }
 },
 "nbformat": 4,
 "nbformat_minor": 5
}

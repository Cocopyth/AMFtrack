{
 "cells": [
  {
   "cell_type": "code",
   "execution_count": 1,
   "id": "b608afbc-ca48-476f-a966-f94e310ea7ab",
   "metadata": {
    "tags": []
   },
   "outputs": [
    {
     "name": "stderr",
     "output_type": "stream",
     "text": [
      "/gpfs/home2/cbisot/pycode/AMFtrack/amftrack/util/dbx.py:3: TqdmExperimentalWarning: Using `tqdm.autonotebook.tqdm` in notebook mode. Use `tqdm.tqdm` instead to force console mode (e.g. in jupyter console)\n",
      "  from tqdm.autonotebook import tqdm\n"
     ]
    }
   ],
   "source": [
    "%load_ext autoreload\n",
    "%autoreload 2\n",
    "from amftrack.pipeline.launching.run_super import (\n",
    "    run_launcher,\n",
    "    directory_scratch,\n",
    "    directory_project,\n",
    "    directory_project,\n",
    "    run_parallel_stitch,\n",
    "    run_parallel_transfer,\n",
    ")\n",
    "import os\n",
    "from amftrack.util.sys import (\n",
    "    get_dates_datetime,\n",
    "    get_dirname,\n",
    "    temp_path,\n",
    "    get_data_info,\n",
    "    update_plate_info,\n",
    "    update_analysis_info,\n",
    "    get_analysis_info,\n",
    "    get_current_folders,\n",
    "    get_folders_by_plate_id,\n",
    ")\n",
    "\n",
    "from time import time_ns\n",
    "\n",
    "from amftrack.util.dbx import upload_folders, load_dbx, download\n",
    "from datetime import datetime\n",
    "from amftrack.pipeline.launching.run_super import (\n",
    "    run_parallel,\n",
    "    directory_scratch,\n",
    "    directory_project,\n",
    "    run_parallel_stitch,\n",
    ")\n",
    "from amftrack.util.dbx import (\n",
    "    read_saved_dropbox_state,\n",
    "    get_dropbox_folders_prince,\n",
    "    get_dropbox_folders_prince,\n",
    "    save_dropbox_state,\n",
    "    get_dropbox_folders_general_recursive,\n",
    ")"
   ]
  },
  {
   "cell_type": "code",
   "execution_count": 23,
   "id": "d0ab6300-0f4b-44fa-8bc8-ded8f88ae68c",
   "metadata": {},
   "outputs": [],
   "source": [
    "# get_surface_area\n",
    "# plates = [\n",
    "# '1014_20220525',\n",
    "#  '1023_20220502',\n",
    "#  '1042_20220523',\n",
    "#  '1045_20220504',\n",
    "#  '1048_20220506',\n",
    "#  '1053_20220413',\n",
    "# '1076_20220511',\n",
    "# '127_20220705',\n",
    "# '3_20220426',\n",
    "# '12_20220502',\n",
    "# '16_20220419',\n",
    "# '480_20221205'\n",
    "# ]\n",
    "plates = [\n",
    "    # '52_20220707',\n",
    "    # '84_20220621',\n",
    "    # '91_20220708',\n",
    "    # '938_20220325',\n",
    "    # '28_20230227',\n",
    "    # '206_20230303',\n",
    "    # '202_20230314',\n",
    "    # '218_20230227',\n",
    "    # '219_20230307',\n",
    "    # '229_20230330',\n",
    "    # '527_20230106',\n",
    "    # '537_20230111',\n",
    "    # '462_20221013',\n",
    "    # '532_20220104'\n",
    "]\n",
    "plates = [\n",
    "    \"249_20230324\",\n",
    "    \"241_20230403\",\n",
    "    \"252_20230316\",\n",
    "    \"248_20230320\",\n",
    "]"
   ]
  },
  {
   "cell_type": "code",
   "execution_count": 2,
   "id": "cb6d5b70-bc20-48c7-8b35-5ed0aaed1233",
   "metadata": {},
   "outputs": [],
   "source": [
    "# vasilis\n",
    "plates = [\"777_20230328\", \"772_20230317\", \"771_20230411\"]"
   ]
  },
  {
   "cell_type": "code",
   "execution_count": 30,
   "id": "c14029a1-6426-4582-8e5b-b129a84e123e",
   "metadata": {},
   "outputs": [],
   "source": [
    "plates = [\"12_20220502\", \"84_20220621\", \"218_20230227\"]"
   ]
  },
  {
   "cell_type": "code",
   "execution_count": 2,
   "id": "e0eb5bb6-3a87-4cba-8cf8-21c59c70f01c",
   "metadata": {},
   "outputs": [],
   "source": [
    "# plates = [\n",
    "# \"241_20230403\",\n",
    "# \"247_20230422\"\n",
    "# ]\n",
    "# runnning on 31/05\n",
    "plates = [\n",
    "    \"557_20230120\",\n",
    "    \"553_20230106\",\n",
    "    \"551_20220102\",\n",
    "    \"545_20220115\",\n",
    "    \"540_20221227\",\n",
    "    \"539_20221228\",\n",
    "    \"533_20230109\",\n",
    "    \"532_20230104\",\n",
    "    \"531_20221222\",\n",
    "    \"530_20230115\",\n",
    "]"
   ]
  },
  {
   "cell_type": "code",
   "execution_count": 2,
   "id": "90ac5c9a-cfe3-4c00-8085-b9639919a1be",
   "metadata": {},
   "outputs": [],
   "source": [
    "# for chicory\n",
    "plates = [\n",
    "    \"896_20230424\",\n",
    "    \"894_20230516\",\n",
    "    \"891_20230519\",\n",
    "    \"886_20230516\",\n",
    "    \"870_20230427\",\n",
    "    \"868_20230504\",\n",
    "    \"796_20230419\",\n",
    "    \"795_20230403\",\n",
    "    \"764_20221219\",\n",
    "]"
   ]
  },
  {
   "cell_type": "code",
   "execution_count": 13,
   "id": "e4ce8008-7118-463e-977a-b49d8cf661fd",
   "metadata": {},
   "outputs": [],
   "source": [
    "# for P\n",
    "plates = [\n",
    "    \"416_20230705\",\n",
    "    \"427_20230707\",\n",
    "    \"420_20230705\",\n",
    "    \"431_20230627\",\n",
    "    \"474_20230807\",\n",
    "    \"460_20230807\",\n",
    "    \"464_20230807\",\n",
    "    \"440_20230723\",\n",
    "    \"436_20230717\",\n",
    "    \"443_20230720\",\n",
    "    \"439_20230804\",\n",
    "    \"470_20230709\",\n",
    "]"
   ]
  },
  {
   "cell_type": "code",
   "execution_count": 5,
   "id": "35bb2fa7-7055-4dd3-8028-d51cf7144bb5",
   "metadata": {},
   "outputs": [],
   "source": [
    "# for reskelet\n",
    "plates = [\n",
    "    \"559_20230109\",\n",
    "    \"552_20230111\",\n",
    "    \"544_20230109\",\n",
    "    \"772_20230317\",\n",
    "    \"764_20221219\",\n",
    "    \"763_20230109\",\n",
    "    \"762_20221213\",\n",
    "    \"720_20221110\",\n",
    "    \"713_20221108\",\n",
    "]"
   ]
  },
  {
   "cell_type": "code",
   "execution_count": 47,
   "id": "f377c5c8-cbfd-45d5-bc4c-3096fd4a3e74",
   "metadata": {},
   "outputs": [],
   "source": [
    "run_parallel_transfer(\n",
    "    \"from_drop.py\",\n",
    "    [directory_targ],\n",
    "    folders_drop,\n",
    "    50,\n",
    "    \"24:00:00\",\n",
    "    \"staging\",\n",
    "    cpus=1,\n",
    "    node=\"staging\",\n",
    "    name_job=\"kaikai\",\n",
    ")"
   ]
  },
  {
   "cell_type": "code",
   "execution_count": 16,
   "id": "a0cd5156-1751-427c-a19f-84644c5e34e6",
   "metadata": {
    "collapsed": true,
    "jupyter": {
     "outputs_hidden": true
    },
    "tags": []
   },
   "outputs": [
    {
     "name": "stdout",
     "output_type": "stream",
     "text": [
      "2023-09-15 10:05:12,297-[INFO]- dropbox:390 -> Refreshing access token.\n",
      "2023-09-15 10:05:12,513-[INFO]- dropbox:474 -> Request to files/list_folder\n",
      "2023-09-15 10:05:13,589-[INFO]- dropbox:474 -> Request to files/list_folder/continue\n"
     ]
    },
    {
     "data": {
      "application/vnd.jupyter.widget-view+json": {
       "model_id": "a1c5f83dbd094e73a07526e3f23f519b",
       "version_major": 2,
       "version_minor": 0
      },
      "text/plain": [
       "sizes:   0%|          | 0/908 [00:00<?, ?it/s]"
      ]
     },
     "metadata": {},
     "output_type": "display_data"
    },
    {
     "name": "stdout",
     "output_type": "stream",
     "text": [
      "2023-09-15 10:05:14,301-[INFO]- dropbox:390 -> Refreshing access token.\n",
      "2023-09-15 10:05:14,505-[INFO]- dropbox:474 -> Request to files/list_folder\n",
      "2023-09-15 10:05:14,968-[INFO]- dropbox:390 -> Refreshing access token.\n",
      "2023-09-15 10:05:15,195-[INFO]- dropbox:474 -> Request to files/list_folder\n",
      "2023-09-15 10:05:15,614-[INFO]- dropbox:390 -> Refreshing access token.\n",
      "2023-09-15 10:05:15,887-[INFO]- dropbox:474 -> Request to files/list_folder\n",
      "2023-09-15 10:05:16,319-[INFO]- dropbox:390 -> Refreshing access token.\n",
      "2023-09-15 10:05:16,526-[INFO]- dropbox:474 -> Request to files/list_folder\n",
      "2023-09-15 10:05:16,891-[INFO]- dropbox:390 -> Refreshing access token.\n",
      "2023-09-15 10:05:17,094-[INFO]- dropbox:474 -> Request to files/list_folder\n",
      "2023-09-15 10:05:17,548-[INFO]- dropbox:390 -> Refreshing access token.\n",
      "2023-09-15 10:05:17,751-[INFO]- dropbox:474 -> Request to files/list_folder\n",
      "2023-09-15 10:05:18,251-[INFO]- dropbox:390 -> Refreshing access token.\n",
      "2023-09-15 10:05:18,456-[INFO]- dropbox:474 -> Request to files/list_folder\n",
      "2023-09-15 10:05:18,882-[INFO]- dropbox:390 -> Refreshing access token.\n",
      "2023-09-15 10:05:19,081-[INFO]- dropbox:474 -> Request to files/list_folder\n",
      "2023-09-15 10:05:19,424-[INFO]- dropbox:390 -> Refreshing access token.\n",
      "2023-09-15 10:05:19,639-[INFO]- dropbox:474 -> Request to files/list_folder\n",
      "2023-09-15 10:05:19,962-[INFO]- dropbox:390 -> Refreshing access token.\n",
      "2023-09-15 10:05:20,161-[INFO]- dropbox:474 -> Request to files/list_folder\n",
      "2023-09-15 10:05:20,576-[INFO]- dropbox:390 -> Refreshing access token.\n",
      "2023-09-15 10:05:20,784-[INFO]- dropbox:474 -> Request to files/list_folder\n",
      "2023-09-15 10:05:21,138-[INFO]- dropbox:390 -> Refreshing access token.\n",
      "2023-09-15 10:05:21,366-[INFO]- dropbox:474 -> Request to files/list_folder\n",
      "2023-09-15 10:05:21,720-[INFO]- dropbox:390 -> Refreshing access token.\n",
      "2023-09-15 10:05:21,950-[INFO]- dropbox:474 -> Request to files/list_folder\n",
      "2023-09-15 10:05:22,356-[INFO]- dropbox:390 -> Refreshing access token.\n",
      "2023-09-15 10:05:22,550-[INFO]- dropbox:474 -> Request to files/list_folder\n",
      "2023-09-15 10:05:22,919-[INFO]- dropbox:390 -> Refreshing access token.\n",
      "2023-09-15 10:05:23,132-[INFO]- dropbox:474 -> Request to files/list_folder\n",
      "2023-09-15 10:05:23,490-[INFO]- dropbox:390 -> Refreshing access token.\n",
      "2023-09-15 10:05:23,695-[INFO]- dropbox:474 -> Request to files/list_folder\n",
      "2023-09-15 10:05:24,124-[INFO]- dropbox:390 -> Refreshing access token.\n",
      "2023-09-15 10:05:24,323-[INFO]- dropbox:474 -> Request to files/list_folder\n",
      "2023-09-15 10:05:24,634-[INFO]- dropbox:390 -> Refreshing access token.\n",
      "2023-09-15 10:05:24,839-[INFO]- dropbox:474 -> Request to files/list_folder\n",
      "2023-09-15 10:05:25,246-[INFO]- dropbox:390 -> Refreshing access token.\n",
      "2023-09-15 10:05:25,453-[INFO]- dropbox:474 -> Request to files/list_folder\n",
      "2023-09-15 10:05:25,810-[INFO]- dropbox:390 -> Refreshing access token.\n",
      "2023-09-15 10:05:26,010-[INFO]- dropbox:474 -> Request to files/list_folder\n",
      "2023-09-15 10:05:26,315-[INFO]- dropbox:390 -> Refreshing access token.\n",
      "2023-09-15 10:05:26,578-[INFO]- dropbox:474 -> Request to files/list_folder\n",
      "2023-09-15 10:05:27,001-[INFO]- dropbox:390 -> Refreshing access token.\n",
      "2023-09-15 10:05:27,199-[INFO]- dropbox:474 -> Request to files/list_folder\n",
      "2023-09-15 10:05:27,959-[INFO]- dropbox:390 -> Refreshing access token.\n",
      "2023-09-15 10:05:28,169-[INFO]- dropbox:474 -> Request to files/list_folder\n",
      "2023-09-15 10:05:28,451-[INFO]- dropbox:390 -> Refreshing access token.\n",
      "2023-09-15 10:05:28,658-[INFO]- dropbox:474 -> Request to files/list_folder\n",
      "2023-09-15 10:05:28,991-[INFO]- dropbox:390 -> Refreshing access token.\n",
      "2023-09-15 10:05:29,376-[INFO]- dropbox:474 -> Request to files/list_folder\n",
      "2023-09-15 10:05:29,693-[INFO]- dropbox:390 -> Refreshing access token.\n",
      "2023-09-15 10:05:29,892-[INFO]- dropbox:474 -> Request to files/list_folder\n",
      "2023-09-15 10:05:30,250-[INFO]- dropbox:390 -> Refreshing access token.\n",
      "2023-09-15 10:05:30,474-[INFO]- dropbox:474 -> Request to files/list_folder\n",
      "2023-09-15 10:05:30,781-[INFO]- dropbox:390 -> Refreshing access token.\n",
      "2023-09-15 10:05:30,987-[INFO]- dropbox:474 -> Request to files/list_folder\n",
      "2023-09-15 10:05:31,293-[INFO]- dropbox:390 -> Refreshing access token.\n",
      "2023-09-15 10:05:31,487-[INFO]- dropbox:474 -> Request to files/list_folder\n",
      "2023-09-15 10:05:31,799-[INFO]- dropbox:390 -> Refreshing access token.\n",
      "2023-09-15 10:05:32,023-[INFO]- dropbox:474 -> Request to files/list_folder\n",
      "2023-09-15 10:05:32,335-[INFO]- dropbox:390 -> Refreshing access token.\n",
      "2023-09-15 10:05:32,587-[INFO]- dropbox:474 -> Request to files/list_folder\n",
      "2023-09-15 10:05:32,936-[INFO]- dropbox:390 -> Refreshing access token.\n",
      "2023-09-15 10:05:33,131-[INFO]- dropbox:474 -> Request to files/list_folder\n",
      "2023-09-15 10:05:33,536-[INFO]- dropbox:390 -> Refreshing access token.\n",
      "2023-09-15 10:05:33,730-[INFO]- dropbox:474 -> Request to files/list_folder\n",
      "2023-09-15 10:05:34,062-[INFO]- dropbox:390 -> Refreshing access token.\n",
      "2023-09-15 10:05:34,413-[INFO]- dropbox:474 -> Request to files/list_folder\n",
      "2023-09-15 10:05:35,028-[INFO]- dropbox:390 -> Refreshing access token.\n",
      "2023-09-15 10:05:35,241-[INFO]- dropbox:474 -> Request to files/list_folder\n",
      "2023-09-15 10:05:35,541-[INFO]- dropbox:390 -> Refreshing access token.\n",
      "2023-09-15 10:05:35,764-[INFO]- dropbox:474 -> Request to files/list_folder\n",
      "2023-09-15 10:05:36,068-[INFO]- dropbox:390 -> Refreshing access token.\n",
      "2023-09-15 10:05:36,257-[INFO]- dropbox:474 -> Request to files/list_folder\n",
      "2023-09-15 10:05:36,604-[INFO]- dropbox:390 -> Refreshing access token.\n",
      "2023-09-15 10:05:36,798-[INFO]- dropbox:474 -> Request to files/list_folder\n",
      "2023-09-15 10:05:37,227-[INFO]- dropbox:390 -> Refreshing access token.\n",
      "2023-09-15 10:05:37,435-[INFO]- dropbox:474 -> Request to files/list_folder\n",
      "2023-09-15 10:05:37,852-[INFO]- dropbox:390 -> Refreshing access token.\n",
      "2023-09-15 10:05:38,044-[INFO]- dropbox:474 -> Request to files/list_folder\n",
      "2023-09-15 10:05:38,564-[INFO]- dropbox:390 -> Refreshing access token.\n",
      "2023-09-15 10:05:38,756-[INFO]- dropbox:474 -> Request to files/list_folder\n",
      "2023-09-15 10:05:39,094-[INFO]- dropbox:390 -> Refreshing access token.\n",
      "2023-09-15 10:05:39,293-[INFO]- dropbox:474 -> Request to files/list_folder\n",
      "2023-09-15 10:05:39,663-[INFO]- dropbox:390 -> Refreshing access token.\n",
      "2023-09-15 10:05:39,893-[INFO]- dropbox:474 -> Request to files/list_folder\n",
      "2023-09-15 10:05:40,460-[INFO]- dropbox:390 -> Refreshing access token.\n",
      "2023-09-15 10:05:40,666-[INFO]- dropbox:474 -> Request to files/list_folder\n",
      "2023-09-15 10:05:41,110-[INFO]- dropbox:390 -> Refreshing access token.\n",
      "2023-09-15 10:05:41,333-[INFO]- dropbox:474 -> Request to files/list_folder\n",
      "2023-09-15 10:05:41,840-[INFO]- dropbox:390 -> Refreshing access token.\n",
      "2023-09-15 10:05:42,050-[INFO]- dropbox:474 -> Request to files/list_folder\n",
      "2023-09-15 10:05:42,545-[INFO]- dropbox:390 -> Refreshing access token.\n",
      "2023-09-15 10:05:42,775-[INFO]- dropbox:474 -> Request to files/list_folder\n",
      "2023-09-15 10:05:43,226-[INFO]- dropbox:390 -> Refreshing access token.\n",
      "2023-09-15 10:05:43,416-[INFO]- dropbox:474 -> Request to files/list_folder\n",
      "2023-09-15 10:05:43,969-[INFO]- dropbox:390 -> Refreshing access token.\n",
      "2023-09-15 10:05:44,168-[INFO]- dropbox:474 -> Request to files/list_folder\n",
      "2023-09-15 10:05:44,586-[INFO]- dropbox:390 -> Refreshing access token.\n",
      "2023-09-15 10:05:44,817-[INFO]- dropbox:474 -> Request to files/list_folder\n",
      "2023-09-15 10:05:45,215-[INFO]- dropbox:390 -> Refreshing access token.\n",
      "2023-09-15 10:05:45,443-[INFO]- dropbox:474 -> Request to files/list_folder\n",
      "2023-09-15 10:05:45,842-[INFO]- dropbox:390 -> Refreshing access token.\n",
      "2023-09-15 10:05:46,041-[INFO]- dropbox:474 -> Request to files/list_folder\n",
      "2023-09-15 10:05:46,420-[INFO]- dropbox:390 -> Refreshing access token.\n",
      "2023-09-15 10:05:46,619-[INFO]- dropbox:474 -> Request to files/list_folder\n",
      "2023-09-15 10:05:47,029-[INFO]- dropbox:390 -> Refreshing access token.\n",
      "2023-09-15 10:05:47,229-[INFO]- dropbox:474 -> Request to files/list_folder\n",
      "2023-09-15 10:05:47,610-[INFO]- dropbox:390 -> Refreshing access token.\n",
      "2023-09-15 10:05:47,808-[INFO]- dropbox:474 -> Request to files/list_folder\n",
      "2023-09-15 10:05:48,249-[INFO]- dropbox:390 -> Refreshing access token.\n",
      "2023-09-15 10:05:48,458-[INFO]- dropbox:474 -> Request to files/list_folder\n",
      "2023-09-15 10:05:49,034-[INFO]- dropbox:390 -> Refreshing access token.\n",
      "2023-09-15 10:05:49,241-[INFO]- dropbox:474 -> Request to files/list_folder\n",
      "2023-09-15 10:05:49,659-[INFO]- dropbox:390 -> Refreshing access token.\n",
      "2023-09-15 10:05:49,854-[INFO]- dropbox:474 -> Request to files/list_folder\n",
      "2023-09-15 10:05:50,276-[INFO]- dropbox:390 -> Refreshing access token.\n",
      "2023-09-15 10:05:50,495-[INFO]- dropbox:474 -> Request to files/list_folder\n",
      "2023-09-15 10:05:50,799-[INFO]- dropbox:390 -> Refreshing access token.\n",
      "2023-09-15 10:05:51,007-[INFO]- dropbox:474 -> Request to files/list_folder\n",
      "2023-09-15 10:05:51,335-[INFO]- dropbox:390 -> Refreshing access token.\n",
      "2023-09-15 10:05:51,528-[INFO]- dropbox:474 -> Request to files/list_folder\n",
      "2023-09-15 10:05:51,921-[INFO]- dropbox:390 -> Refreshing access token.\n",
      "2023-09-15 10:05:52,117-[INFO]- dropbox:474 -> Request to files/list_folder\n",
      "2023-09-15 10:05:52,528-[INFO]- dropbox:390 -> Refreshing access token.\n",
      "2023-09-15 10:05:52,741-[INFO]- dropbox:474 -> Request to files/list_folder\n",
      "2023-09-15 10:05:53,160-[INFO]- dropbox:390 -> Refreshing access token.\n",
      "2023-09-15 10:05:53,370-[INFO]- dropbox:474 -> Request to files/list_folder\n",
      "2023-09-15 10:05:53,800-[INFO]- dropbox:390 -> Refreshing access token.\n",
      "2023-09-15 10:05:53,999-[INFO]- dropbox:474 -> Request to files/list_folder\n",
      "2023-09-15 10:05:54,509-[INFO]- dropbox:390 -> Refreshing access token.\n",
      "2023-09-15 10:05:54,710-[INFO]- dropbox:474 -> Request to files/list_folder\n",
      "2023-09-15 10:05:55,094-[INFO]- dropbox:390 -> Refreshing access token.\n",
      "2023-09-15 10:05:55,329-[INFO]- dropbox:474 -> Request to files/list_folder\n",
      "2023-09-15 10:05:55,806-[INFO]- dropbox:390 -> Refreshing access token.\n",
      "2023-09-15 10:05:56,048-[INFO]- dropbox:474 -> Request to files/list_folder\n",
      "2023-09-15 10:05:56,551-[INFO]- dropbox:390 -> Refreshing access token.\n",
      "2023-09-15 10:05:56,779-[INFO]- dropbox:474 -> Request to files/list_folder\n",
      "2023-09-15 10:05:57,213-[INFO]- dropbox:390 -> Refreshing access token.\n",
      "2023-09-15 10:05:57,423-[INFO]- dropbox:474 -> Request to files/list_folder\n",
      "2023-09-15 10:05:57,743-[INFO]- dropbox:390 -> Refreshing access token.\n",
      "2023-09-15 10:05:57,962-[INFO]- dropbox:474 -> Request to files/list_folder\n",
      "2023-09-15 10:05:58,406-[INFO]- dropbox:390 -> Refreshing access token.\n",
      "2023-09-15 10:05:58,602-[INFO]- dropbox:474 -> Request to files/list_folder\n",
      "2023-09-15 10:05:58,913-[INFO]- dropbox:390 -> Refreshing access token.\n",
      "2023-09-15 10:05:59,114-[INFO]- dropbox:474 -> Request to files/list_folder\n",
      "2023-09-15 10:05:59,409-[INFO]- dropbox:390 -> Refreshing access token.\n",
      "2023-09-15 10:05:59,618-[INFO]- dropbox:474 -> Request to files/list_folder\n",
      "2023-09-15 10:06:00,002-[INFO]- dropbox:390 -> Refreshing access token.\n",
      "2023-09-15 10:06:00,203-[INFO]- dropbox:474 -> Request to files/list_folder\n",
      "2023-09-15 10:06:00,628-[INFO]- dropbox:390 -> Refreshing access token.\n",
      "2023-09-15 10:06:00,858-[INFO]- dropbox:474 -> Request to files/list_folder\n",
      "2023-09-15 10:06:01,551-[INFO]- dropbox:390 -> Refreshing access token.\n",
      "2023-09-15 10:06:01,759-[INFO]- dropbox:474 -> Request to files/list_folder\n",
      "2023-09-15 10:06:02,150-[INFO]- dropbox:390 -> Refreshing access token.\n",
      "2023-09-15 10:06:02,365-[INFO]- dropbox:474 -> Request to files/list_folder\n",
      "2023-09-15 10:06:02,805-[INFO]- dropbox:390 -> Refreshing access token.\n",
      "2023-09-15 10:06:03,001-[INFO]- dropbox:474 -> Request to files/list_folder\n",
      "2023-09-15 10:06:03,455-[INFO]- dropbox:390 -> Refreshing access token.\n",
      "2023-09-15 10:06:03,647-[INFO]- dropbox:474 -> Request to files/list_folder\n",
      "2023-09-15 10:06:03,998-[INFO]- dropbox:390 -> Refreshing access token.\n",
      "2023-09-15 10:06:04,202-[INFO]- dropbox:474 -> Request to files/list_folder\n",
      "2023-09-15 10:06:04,556-[INFO]- dropbox:390 -> Refreshing access token.\n",
      "2023-09-15 10:06:04,751-[INFO]- dropbox:474 -> Request to files/list_folder\n",
      "2023-09-15 10:06:05,134-[INFO]- dropbox:390 -> Refreshing access token.\n",
      "2023-09-15 10:06:05,341-[INFO]- dropbox:474 -> Request to files/list_folder\n",
      "2023-09-15 10:06:05,744-[INFO]- dropbox:390 -> Refreshing access token.\n",
      "2023-09-15 10:06:05,966-[INFO]- dropbox:474 -> Request to files/list_folder\n",
      "2023-09-15 10:06:06,431-[INFO]- dropbox:390 -> Refreshing access token.\n",
      "2023-09-15 10:06:06,672-[INFO]- dropbox:474 -> Request to files/list_folder\n",
      "2023-09-15 10:06:07,090-[INFO]- dropbox:390 -> Refreshing access token.\n",
      "2023-09-15 10:06:07,302-[INFO]- dropbox:474 -> Request to files/list_folder\n",
      "2023-09-15 10:06:07,695-[INFO]- dropbox:390 -> Refreshing access token.\n",
      "2023-09-15 10:06:07,891-[INFO]- dropbox:474 -> Request to files/list_folder\n",
      "2023-09-15 10:06:08,275-[INFO]- dropbox:390 -> Refreshing access token.\n",
      "2023-09-15 10:06:08,486-[INFO]- dropbox:474 -> Request to files/list_folder\n",
      "2023-09-15 10:06:08,864-[INFO]- dropbox:390 -> Refreshing access token.\n",
      "2023-09-15 10:06:09,060-[INFO]- dropbox:474 -> Request to files/list_folder\n",
      "2023-09-15 10:06:09,444-[INFO]- dropbox:390 -> Refreshing access token.\n",
      "2023-09-15 10:06:09,639-[INFO]- dropbox:474 -> Request to files/list_folder\n",
      "2023-09-15 10:06:09,981-[INFO]- dropbox:390 -> Refreshing access token.\n",
      "2023-09-15 10:06:10,207-[INFO]- dropbox:474 -> Request to files/list_folder\n",
      "2023-09-15 10:06:10,582-[INFO]- dropbox:390 -> Refreshing access token.\n",
      "2023-09-15 10:06:10,780-[INFO]- dropbox:474 -> Request to files/list_folder\n",
      "2023-09-15 10:06:11,156-[INFO]- dropbox:390 -> Refreshing access token.\n",
      "2023-09-15 10:06:11,364-[INFO]- dropbox:474 -> Request to files/list_folder\n",
      "2023-09-15 10:06:11,731-[INFO]- dropbox:390 -> Refreshing access token.\n",
      "2023-09-15 10:06:11,931-[INFO]- dropbox:474 -> Request to files/list_folder\n",
      "2023-09-15 10:06:12,302-[INFO]- dropbox:390 -> Refreshing access token.\n",
      "2023-09-15 10:06:12,510-[INFO]- dropbox:474 -> Request to files/list_folder\n",
      "2023-09-15 10:06:12,854-[INFO]- dropbox:390 -> Refreshing access token.\n",
      "2023-09-15 10:06:13,055-[INFO]- dropbox:474 -> Request to files/list_folder\n",
      "2023-09-15 10:06:13,391-[INFO]- dropbox:390 -> Refreshing access token.\n",
      "2023-09-15 10:06:13,628-[INFO]- dropbox:474 -> Request to files/list_folder\n",
      "2023-09-15 10:06:13,940-[INFO]- dropbox:390 -> Refreshing access token.\n",
      "2023-09-15 10:06:14,141-[INFO]- dropbox:474 -> Request to files/list_folder\n",
      "2023-09-15 10:06:14,539-[INFO]- dropbox:390 -> Refreshing access token.\n",
      "2023-09-15 10:06:14,762-[INFO]- dropbox:474 -> Request to files/list_folder\n",
      "2023-09-15 10:06:15,167-[INFO]- dropbox:390 -> Refreshing access token.\n",
      "2023-09-15 10:06:15,370-[INFO]- dropbox:474 -> Request to files/list_folder\n",
      "2023-09-15 10:06:15,739-[INFO]- dropbox:390 -> Refreshing access token.\n",
      "2023-09-15 10:06:15,932-[INFO]- dropbox:474 -> Request to files/list_folder\n",
      "2023-09-15 10:06:16,262-[INFO]- dropbox:390 -> Refreshing access token.\n",
      "2023-09-15 10:06:16,461-[INFO]- dropbox:474 -> Request to files/list_folder\n",
      "2023-09-15 10:06:16,824-[INFO]- dropbox:390 -> Refreshing access token.\n",
      "2023-09-15 10:06:17,035-[INFO]- dropbox:474 -> Request to files/list_folder\n",
      "2023-09-15 10:06:17,536-[INFO]- dropbox:390 -> Refreshing access token.\n",
      "2023-09-15 10:06:17,735-[INFO]- dropbox:474 -> Request to files/list_folder\n",
      "2023-09-15 10:06:18,325-[INFO]- dropbox:390 -> Refreshing access token.\n",
      "2023-09-15 10:06:18,534-[INFO]- dropbox:474 -> Request to files/list_folder\n",
      "2023-09-15 10:06:18,938-[INFO]- dropbox:390 -> Refreshing access token.\n",
      "2023-09-15 10:06:19,157-[INFO]- dropbox:474 -> Request to files/list_folder\n",
      "2023-09-15 10:06:19,586-[INFO]- dropbox:390 -> Refreshing access token.\n",
      "2023-09-15 10:06:19,921-[INFO]- dropbox:474 -> Request to files/list_folder\n",
      "2023-09-15 10:06:20,376-[INFO]- dropbox:390 -> Refreshing access token.\n",
      "2023-09-15 10:06:20,580-[INFO]- dropbox:474 -> Request to files/list_folder\n",
      "2023-09-15 10:06:21,038-[INFO]- dropbox:390 -> Refreshing access token.\n",
      "2023-09-15 10:06:21,240-[INFO]- dropbox:474 -> Request to files/list_folder\n",
      "2023-09-15 10:06:21,586-[INFO]- dropbox:390 -> Refreshing access token.\n",
      "2023-09-15 10:06:21,786-[INFO]- dropbox:474 -> Request to files/list_folder\n",
      "2023-09-15 10:06:22,177-[INFO]- dropbox:390 -> Refreshing access token.\n",
      "2023-09-15 10:06:22,376-[INFO]- dropbox:474 -> Request to files/list_folder\n",
      "2023-09-15 10:06:22,825-[INFO]- dropbox:390 -> Refreshing access token.\n",
      "2023-09-15 10:06:23,050-[INFO]- dropbox:474 -> Request to files/list_folder\n",
      "2023-09-15 10:06:23,514-[INFO]- dropbox:390 -> Refreshing access token.\n",
      "2023-09-15 10:06:23,755-[INFO]- dropbox:474 -> Request to files/list_folder\n",
      "2023-09-15 10:06:24,212-[INFO]- dropbox:390 -> Refreshing access token.\n",
      "2023-09-15 10:06:24,426-[INFO]- dropbox:474 -> Request to files/list_folder\n",
      "2023-09-15 10:06:24,934-[INFO]- dropbox:390 -> Refreshing access token.\n",
      "2023-09-15 10:06:25,129-[INFO]- dropbox:474 -> Request to files/list_folder\n",
      "2023-09-15 10:06:26,016-[INFO]- dropbox:390 -> Refreshing access token.\n",
      "2023-09-15 10:06:26,222-[INFO]- dropbox:474 -> Request to files/list_folder\n",
      "2023-09-15 10:06:26,683-[INFO]- dropbox:390 -> Refreshing access token.\n",
      "2023-09-15 10:06:26,883-[INFO]- dropbox:474 -> Request to files/list_folder\n",
      "2023-09-15 10:06:27,203-[INFO]- dropbox:390 -> Refreshing access token.\n",
      "2023-09-15 10:06:27,407-[INFO]- dropbox:474 -> Request to files/list_folder\n",
      "2023-09-15 10:06:27,714-[INFO]- dropbox:390 -> Refreshing access token.\n",
      "2023-09-15 10:06:27,914-[INFO]- dropbox:474 -> Request to files/list_folder\n",
      "2023-09-15 10:06:28,259-[INFO]- dropbox:390 -> Refreshing access token.\n",
      "2023-09-15 10:06:28,471-[INFO]- dropbox:474 -> Request to files/list_folder\n",
      "2023-09-15 10:06:28,786-[INFO]- dropbox:390 -> Refreshing access token.\n",
      "2023-09-15 10:06:28,982-[INFO]- dropbox:474 -> Request to files/list_folder\n",
      "2023-09-15 10:06:29,278-[INFO]- dropbox:390 -> Refreshing access token.\n",
      "2023-09-15 10:06:29,476-[INFO]- dropbox:474 -> Request to files/list_folder\n",
      "2023-09-15 10:06:29,778-[INFO]- dropbox:390 -> Refreshing access token.\n",
      "2023-09-15 10:06:29,975-[INFO]- dropbox:474 -> Request to files/list_folder\n",
      "2023-09-15 10:06:30,272-[INFO]- dropbox:390 -> Refreshing access token.\n",
      "2023-09-15 10:06:30,478-[INFO]- dropbox:474 -> Request to files/list_folder\n",
      "2023-09-15 10:06:30,984-[INFO]- dropbox:390 -> Refreshing access token.\n",
      "2023-09-15 10:06:31,191-[INFO]- dropbox:474 -> Request to files/list_folder\n",
      "2023-09-15 10:06:31,698-[INFO]- dropbox:390 -> Refreshing access token.\n",
      "2023-09-15 10:06:31,917-[INFO]- dropbox:474 -> Request to files/list_folder\n",
      "2023-09-15 10:06:32,758-[INFO]- dropbox:390 -> Refreshing access token.\n",
      "2023-09-15 10:06:32,967-[INFO]- dropbox:474 -> Request to files/list_folder\n",
      "2023-09-15 10:06:33,518-[INFO]- dropbox:390 -> Refreshing access token.\n",
      "2023-09-15 10:06:33,748-[INFO]- dropbox:474 -> Request to files/list_folder\n",
      "2023-09-15 10:06:34,316-[INFO]- dropbox:390 -> Refreshing access token.\n",
      "2023-09-15 10:06:34,528-[INFO]- dropbox:474 -> Request to files/list_folder\n",
      "2023-09-15 10:06:35,019-[INFO]- dropbox:390 -> Refreshing access token.\n",
      "2023-09-15 10:06:35,219-[INFO]- dropbox:474 -> Request to files/list_folder\n",
      "2023-09-15 10:06:35,706-[INFO]- dropbox:390 -> Refreshing access token.\n",
      "2023-09-15 10:06:35,925-[INFO]- dropbox:474 -> Request to files/list_folder\n",
      "2023-09-15 10:06:36,414-[INFO]- dropbox:390 -> Refreshing access token.\n",
      "2023-09-15 10:06:36,743-[INFO]- dropbox:474 -> Request to files/list_folder\n",
      "2023-09-15 10:06:37,377-[INFO]- dropbox:390 -> Refreshing access token.\n",
      "2023-09-15 10:06:37,577-[INFO]- dropbox:474 -> Request to files/list_folder\n",
      "2023-09-15 10:06:38,082-[INFO]- dropbox:390 -> Refreshing access token.\n",
      "2023-09-15 10:06:38,290-[INFO]- dropbox:474 -> Request to files/list_folder\n",
      "2023-09-15 10:06:38,767-[INFO]- dropbox:390 -> Refreshing access token.\n",
      "2023-09-15 10:06:38,965-[INFO]- dropbox:474 -> Request to files/list_folder\n",
      "2023-09-15 10:06:39,477-[INFO]- dropbox:390 -> Refreshing access token.\n",
      "2023-09-15 10:06:39,728-[INFO]- dropbox:474 -> Request to files/list_folder\n",
      "2023-09-15 10:06:40,251-[INFO]- dropbox:390 -> Refreshing access token.\n",
      "2023-09-15 10:06:40,456-[INFO]- dropbox:474 -> Request to files/list_folder\n",
      "2023-09-15 10:06:40,949-[INFO]- dropbox:390 -> Refreshing access token.\n",
      "2023-09-15 10:06:41,154-[INFO]- dropbox:474 -> Request to files/list_folder\n",
      "2023-09-15 10:06:41,665-[INFO]- dropbox:390 -> Refreshing access token.\n",
      "2023-09-15 10:06:41,865-[INFO]- dropbox:474 -> Request to files/list_folder\n",
      "2023-09-15 10:06:42,364-[INFO]- dropbox:390 -> Refreshing access token.\n",
      "2023-09-15 10:06:42,578-[INFO]- dropbox:474 -> Request to files/list_folder\n",
      "2023-09-15 10:06:42,997-[INFO]- dropbox:390 -> Refreshing access token.\n",
      "2023-09-15 10:06:43,192-[INFO]- dropbox:474 -> Request to files/list_folder\n",
      "2023-09-15 10:06:43,748-[INFO]- dropbox:390 -> Refreshing access token.\n",
      "2023-09-15 10:06:43,961-[INFO]- dropbox:474 -> Request to files/list_folder\n",
      "2023-09-15 10:06:44,278-[INFO]- dropbox:390 -> Refreshing access token.\n",
      "2023-09-15 10:06:44,490-[INFO]- dropbox:474 -> Request to files/list_folder\n",
      "2023-09-15 10:06:44,820-[INFO]- dropbox:390 -> Refreshing access token.\n",
      "2023-09-15 10:06:45,021-[INFO]- dropbox:474 -> Request to files/list_folder\n",
      "2023-09-15 10:06:45,325-[INFO]- dropbox:390 -> Refreshing access token.\n",
      "2023-09-15 10:06:45,535-[INFO]- dropbox:474 -> Request to files/list_folder\n",
      "2023-09-15 10:06:45,872-[INFO]- dropbox:390 -> Refreshing access token.\n",
      "2023-09-15 10:06:46,108-[INFO]- dropbox:474 -> Request to files/list_folder\n",
      "2023-09-15 10:06:46,675-[INFO]- dropbox:390 -> Refreshing access token.\n",
      "2023-09-15 10:06:46,915-[INFO]- dropbox:474 -> Request to files/list_folder\n",
      "2023-09-15 10:06:47,573-[INFO]- dropbox:390 -> Refreshing access token.\n",
      "2023-09-15 10:06:47,775-[INFO]- dropbox:474 -> Request to files/list_folder\n",
      "2023-09-15 10:06:48,355-[INFO]- dropbox:390 -> Refreshing access token.\n",
      "2023-09-15 10:06:48,551-[INFO]- dropbox:474 -> Request to files/list_folder\n",
      "2023-09-15 10:06:49,138-[INFO]- dropbox:390 -> Refreshing access token.\n",
      "2023-09-15 10:06:49,333-[INFO]- dropbox:474 -> Request to files/list_folder\n",
      "2023-09-15 10:06:49,859-[INFO]- dropbox:390 -> Refreshing access token.\n",
      "2023-09-15 10:06:50,083-[INFO]- dropbox:474 -> Request to files/list_folder\n",
      "2023-09-15 10:06:50,596-[INFO]- dropbox:390 -> Refreshing access token.\n",
      "2023-09-15 10:06:50,799-[INFO]- dropbox:474 -> Request to files/list_folder\n",
      "2023-09-15 10:06:51,221-[INFO]- dropbox:390 -> Refreshing access token.\n",
      "2023-09-15 10:06:51,446-[INFO]- dropbox:474 -> Request to files/list_folder\n",
      "2023-09-15 10:06:51,836-[INFO]- dropbox:390 -> Refreshing access token.\n",
      "2023-09-15 10:06:52,039-[INFO]- dropbox:474 -> Request to files/list_folder\n",
      "2023-09-15 10:06:52,478-[INFO]- dropbox:390 -> Refreshing access token.\n",
      "2023-09-15 10:06:52,701-[INFO]- dropbox:474 -> Request to files/list_folder\n",
      "2023-09-15 10:06:53,093-[INFO]- dropbox:390 -> Refreshing access token.\n",
      "2023-09-15 10:06:53,292-[INFO]- dropbox:474 -> Request to files/list_folder\n",
      "2023-09-15 10:06:53,682-[INFO]- dropbox:390 -> Refreshing access token.\n",
      "2023-09-15 10:06:53,909-[INFO]- dropbox:474 -> Request to files/list_folder\n",
      "2023-09-15 10:06:54,210-[INFO]- dropbox:390 -> Refreshing access token.\n",
      "2023-09-15 10:06:54,436-[INFO]- dropbox:474 -> Request to files/list_folder\n",
      "2023-09-15 10:06:54,961-[INFO]- dropbox:390 -> Refreshing access token.\n",
      "2023-09-15 10:06:55,217-[INFO]- dropbox:474 -> Request to files/list_folder\n",
      "2023-09-15 10:06:55,668-[INFO]- dropbox:390 -> Refreshing access token.\n",
      "2023-09-15 10:06:55,874-[INFO]- dropbox:474 -> Request to files/list_folder\n",
      "2023-09-15 10:06:56,207-[INFO]- dropbox:390 -> Refreshing access token.\n",
      "2023-09-15 10:06:56,437-[INFO]- dropbox:474 -> Request to files/list_folder\n",
      "2023-09-15 10:06:56,849-[INFO]- dropbox:390 -> Refreshing access token.\n",
      "2023-09-15 10:06:57,053-[INFO]- dropbox:474 -> Request to files/list_folder\n",
      "2023-09-15 10:06:57,556-[INFO]- dropbox:390 -> Refreshing access token.\n",
      "2023-09-15 10:06:57,760-[INFO]- dropbox:474 -> Request to files/list_folder\n",
      "2023-09-15 10:06:58,369-[INFO]- dropbox:390 -> Refreshing access token.\n",
      "2023-09-15 10:06:58,562-[INFO]- dropbox:474 -> Request to files/list_folder\n",
      "2023-09-15 10:06:59,039-[INFO]- dropbox:390 -> Refreshing access token.\n",
      "2023-09-15 10:06:59,264-[INFO]- dropbox:474 -> Request to files/list_folder\n",
      "2023-09-15 10:06:59,670-[INFO]- dropbox:390 -> Refreshing access token.\n",
      "2023-09-15 10:06:59,869-[INFO]- dropbox:474 -> Request to files/list_folder\n",
      "2023-09-15 10:07:00,466-[INFO]- dropbox:390 -> Refreshing access token.\n",
      "2023-09-15 10:07:00,667-[INFO]- dropbox:474 -> Request to files/list_folder\n",
      "2023-09-15 10:07:01,309-[INFO]- dropbox:390 -> Refreshing access token.\n",
      "2023-09-15 10:07:01,518-[INFO]- dropbox:474 -> Request to files/list_folder\n",
      "2023-09-15 10:07:02,258-[INFO]- dropbox:474 -> Request to files/list_folder/continue\n",
      "2023-09-15 10:07:02,978-[INFO]- dropbox:474 -> Request to files/list_folder/continue\n",
      "2023-09-15 10:07:03,328-[INFO]- dropbox:390 -> Refreshing access token.\n",
      "2023-09-15 10:07:03,537-[INFO]- dropbox:474 -> Request to files/list_folder\n",
      "2023-09-15 10:07:03,990-[INFO]- dropbox:390 -> Refreshing access token.\n",
      "2023-09-15 10:07:04,203-[INFO]- dropbox:474 -> Request to files/list_folder\n",
      "2023-09-15 10:07:04,608-[INFO]- dropbox:390 -> Refreshing access token.\n",
      "2023-09-15 10:07:04,804-[INFO]- dropbox:474 -> Request to files/list_folder\n",
      "2023-09-15 10:07:05,266-[INFO]- dropbox:390 -> Refreshing access token.\n",
      "2023-09-15 10:07:05,461-[INFO]- dropbox:474 -> Request to files/list_folder\n",
      "2023-09-15 10:07:06,113-[INFO]- dropbox:390 -> Refreshing access token.\n",
      "2023-09-15 10:07:06,316-[INFO]- dropbox:474 -> Request to files/list_folder\n",
      "2023-09-15 10:07:06,858-[INFO]- dropbox:390 -> Refreshing access token.\n",
      "2023-09-15 10:07:07,056-[INFO]- dropbox:474 -> Request to files/list_folder\n",
      "2023-09-15 10:07:07,546-[INFO]- dropbox:390 -> Refreshing access token.\n",
      "2023-09-15 10:07:07,739-[INFO]- dropbox:474 -> Request to files/list_folder\n",
      "2023-09-15 10:07:08,239-[INFO]- dropbox:390 -> Refreshing access token.\n",
      "2023-09-15 10:07:08,437-[INFO]- dropbox:474 -> Request to files/list_folder\n",
      "2023-09-15 10:07:08,980-[INFO]- dropbox:390 -> Refreshing access token.\n",
      "2023-09-15 10:07:09,175-[INFO]- dropbox:474 -> Request to files/list_folder\n",
      "2023-09-15 10:07:09,614-[INFO]- dropbox:390 -> Refreshing access token.\n",
      "2023-09-15 10:07:09,869-[INFO]- dropbox:474 -> Request to files/list_folder\n",
      "2023-09-15 10:07:10,294-[INFO]- dropbox:390 -> Refreshing access token.\n",
      "2023-09-15 10:07:10,504-[INFO]- dropbox:474 -> Request to files/list_folder\n",
      "2023-09-15 10:07:10,868-[INFO]- dropbox:390 -> Refreshing access token.\n",
      "2023-09-15 10:07:11,081-[INFO]- dropbox:474 -> Request to files/list_folder\n",
      "2023-09-15 10:07:11,538-[INFO]- dropbox:390 -> Refreshing access token.\n",
      "2023-09-15 10:07:11,731-[INFO]- dropbox:474 -> Request to files/list_folder\n",
      "2023-09-15 10:07:12,330-[INFO]- dropbox:390 -> Refreshing access token.\n",
      "2023-09-15 10:07:12,527-[INFO]- dropbox:474 -> Request to files/list_folder\n",
      "2023-09-15 10:07:12,815-[INFO]- dropbox:390 -> Refreshing access token.\n",
      "2023-09-15 10:07:13,032-[INFO]- dropbox:474 -> Request to files/list_folder\n",
      "2023-09-15 10:07:13,585-[INFO]- dropbox:390 -> Refreshing access token.\n",
      "2023-09-15 10:07:13,802-[INFO]- dropbox:474 -> Request to files/list_folder\n",
      "2023-09-15 10:07:14,315-[INFO]- dropbox:390 -> Refreshing access token.\n",
      "2023-09-15 10:07:14,517-[INFO]- dropbox:474 -> Request to files/list_folder\n",
      "2023-09-15 10:07:15,279-[INFO]- dropbox:390 -> Refreshing access token.\n",
      "2023-09-15 10:07:15,476-[INFO]- dropbox:474 -> Request to files/list_folder\n",
      "2023-09-15 10:07:16,048-[INFO]- dropbox:390 -> Refreshing access token.\n",
      "2023-09-15 10:07:16,245-[INFO]- dropbox:474 -> Request to files/list_folder\n",
      "2023-09-15 10:07:16,717-[INFO]- dropbox:390 -> Refreshing access token.\n",
      "2023-09-15 10:07:17,056-[INFO]- dropbox:474 -> Request to files/list_folder\n",
      "2023-09-15 10:07:17,803-[INFO]- dropbox:390 -> Refreshing access token.\n",
      "2023-09-15 10:07:18,012-[INFO]- dropbox:474 -> Request to files/list_folder\n",
      "2023-09-15 10:07:18,593-[INFO]- dropbox:390 -> Refreshing access token.\n",
      "2023-09-15 10:07:18,792-[INFO]- dropbox:474 -> Request to files/list_folder\n",
      "2023-09-15 10:07:19,310-[INFO]- dropbox:390 -> Refreshing access token.\n",
      "2023-09-15 10:07:19,524-[INFO]- dropbox:474 -> Request to files/list_folder\n",
      "2023-09-15 10:07:21,037-[INFO]- dropbox:390 -> Refreshing access token.\n",
      "2023-09-15 10:07:21,250-[INFO]- dropbox:474 -> Request to files/list_folder\n",
      "2023-09-15 10:07:21,793-[INFO]- dropbox:474 -> Request to files/list_folder/continue\n",
      "2023-09-15 10:07:22,096-[INFO]- dropbox:390 -> Refreshing access token.\n",
      "2023-09-15 10:07:22,437-[INFO]- dropbox:474 -> Request to files/list_folder\n",
      "2023-09-15 10:07:22,960-[INFO]- dropbox:390 -> Refreshing access token.\n",
      "2023-09-15 10:07:23,154-[INFO]- dropbox:474 -> Request to files/list_folder\n",
      "2023-09-15 10:07:23,861-[INFO]- dropbox:390 -> Refreshing access token.\n",
      "2023-09-15 10:07:24,067-[INFO]- dropbox:474 -> Request to files/list_folder\n",
      "2023-09-15 10:07:24,697-[INFO]- dropbox:390 -> Refreshing access token.\n",
      "2023-09-15 10:07:24,900-[INFO]- dropbox:474 -> Request to files/list_folder\n",
      "2023-09-15 10:07:25,499-[INFO]- dropbox:390 -> Refreshing access token.\n",
      "2023-09-15 10:07:25,713-[INFO]- dropbox:474 -> Request to files/list_folder\n",
      "2023-09-15 10:07:26,164-[INFO]- dropbox:390 -> Refreshing access token.\n",
      "2023-09-15 10:07:26,362-[INFO]- dropbox:474 -> Request to files/list_folder\n",
      "2023-09-15 10:07:27,067-[INFO]- dropbox:390 -> Refreshing access token.\n",
      "2023-09-15 10:07:27,283-[INFO]- dropbox:474 -> Request to files/list_folder\n",
      "2023-09-15 10:07:27,794-[INFO]- dropbox:390 -> Refreshing access token.\n",
      "2023-09-15 10:07:28,015-[INFO]- dropbox:474 -> Request to files/list_folder\n",
      "2023-09-15 10:07:28,505-[INFO]- dropbox:390 -> Refreshing access token.\n",
      "2023-09-15 10:07:28,701-[INFO]- dropbox:474 -> Request to files/list_folder\n",
      "2023-09-15 10:07:29,331-[INFO]- dropbox:390 -> Refreshing access token.\n",
      "2023-09-15 10:07:29,529-[INFO]- dropbox:474 -> Request to files/list_folder\n",
      "2023-09-15 10:07:29,873-[INFO]- dropbox:390 -> Refreshing access token.\n",
      "2023-09-15 10:07:30,063-[INFO]- dropbox:474 -> Request to files/list_folder\n",
      "2023-09-15 10:07:30,623-[INFO]- dropbox:390 -> Refreshing access token.\n",
      "2023-09-15 10:07:30,823-[INFO]- dropbox:474 -> Request to files/list_folder\n",
      "2023-09-15 10:07:31,584-[INFO]- dropbox:390 -> Refreshing access token.\n",
      "2023-09-15 10:07:31,794-[INFO]- dropbox:474 -> Request to files/list_folder\n",
      "2023-09-15 10:07:33,298-[INFO]- dropbox:390 -> Refreshing access token.\n",
      "2023-09-15 10:07:33,518-[INFO]- dropbox:474 -> Request to files/list_folder\n",
      "2023-09-15 10:07:34,141-[INFO]- dropbox:390 -> Refreshing access token.\n",
      "2023-09-15 10:07:34,358-[INFO]- dropbox:474 -> Request to files/list_folder\n",
      "2023-09-15 10:07:34,915-[INFO]- dropbox:390 -> Refreshing access token.\n",
      "2023-09-15 10:07:35,134-[INFO]- dropbox:474 -> Request to files/list_folder\n",
      "2023-09-15 10:07:35,687-[INFO]- dropbox:390 -> Refreshing access token.\n",
      "2023-09-15 10:07:35,936-[INFO]- dropbox:474 -> Request to files/list_folder\n",
      "2023-09-15 10:07:36,366-[INFO]- dropbox:390 -> Refreshing access token.\n",
      "2023-09-15 10:07:36,561-[INFO]- dropbox:474 -> Request to files/list_folder\n",
      "2023-09-15 10:07:37,142-[INFO]- dropbox:390 -> Refreshing access token.\n",
      "2023-09-15 10:07:37,336-[INFO]- dropbox:474 -> Request to files/list_folder\n",
      "2023-09-15 10:07:37,891-[INFO]- dropbox:390 -> Refreshing access token.\n",
      "2023-09-15 10:07:38,087-[INFO]- dropbox:474 -> Request to files/list_folder\n",
      "2023-09-15 10:07:38,425-[INFO]- dropbox:390 -> Refreshing access token.\n",
      "2023-09-15 10:07:38,646-[INFO]- dropbox:474 -> Request to files/list_folder\n",
      "2023-09-15 10:07:39,121-[INFO]- dropbox:390 -> Refreshing access token.\n",
      "2023-09-15 10:07:39,318-[INFO]- dropbox:474 -> Request to files/list_folder\n",
      "2023-09-15 10:07:39,752-[INFO]- dropbox:390 -> Refreshing access token.\n",
      "2023-09-15 10:07:39,952-[INFO]- dropbox:474 -> Request to files/list_folder\n",
      "2023-09-15 10:07:40,327-[INFO]- dropbox:390 -> Refreshing access token.\n",
      "2023-09-15 10:07:40,593-[INFO]- dropbox:474 -> Request to files/list_folder\n",
      "2023-09-15 10:07:40,943-[INFO]- dropbox:390 -> Refreshing access token.\n",
      "2023-09-15 10:07:41,148-[INFO]- dropbox:474 -> Request to files/list_folder\n",
      "2023-09-15 10:07:41,802-[INFO]- dropbox:390 -> Refreshing access token.\n",
      "2023-09-15 10:07:42,020-[INFO]- dropbox:474 -> Request to files/list_folder\n",
      "2023-09-15 10:07:42,402-[INFO]- dropbox:390 -> Refreshing access token.\n",
      "2023-09-15 10:07:42,635-[INFO]- dropbox:474 -> Request to files/list_folder\n",
      "2023-09-15 10:07:43,154-[INFO]- dropbox:390 -> Refreshing access token.\n",
      "2023-09-15 10:07:43,357-[INFO]- dropbox:474 -> Request to files/list_folder\n",
      "2023-09-15 10:07:43,859-[INFO]- dropbox:390 -> Refreshing access token.\n",
      "2023-09-15 10:07:44,057-[INFO]- dropbox:474 -> Request to files/list_folder\n",
      "2023-09-15 10:07:44,561-[INFO]- dropbox:390 -> Refreshing access token.\n",
      "2023-09-15 10:07:44,757-[INFO]- dropbox:474 -> Request to files/list_folder\n",
      "2023-09-15 10:07:45,056-[INFO]- dropbox:390 -> Refreshing access token.\n",
      "2023-09-15 10:07:45,269-[INFO]- dropbox:474 -> Request to files/list_folder\n",
      "2023-09-15 10:07:45,655-[INFO]- dropbox:390 -> Refreshing access token.\n",
      "2023-09-15 10:07:45,876-[INFO]- dropbox:474 -> Request to files/list_folder\n",
      "2023-09-15 10:07:46,281-[INFO]- dropbox:390 -> Refreshing access token.\n",
      "2023-09-15 10:07:46,479-[INFO]- dropbox:474 -> Request to files/list_folder\n",
      "2023-09-15 10:07:46,905-[INFO]- dropbox:390 -> Refreshing access token.\n",
      "2023-09-15 10:07:47,104-[INFO]- dropbox:474 -> Request to files/list_folder\n",
      "2023-09-15 10:07:47,700-[INFO]- dropbox:390 -> Refreshing access token.\n",
      "2023-09-15 10:07:47,910-[INFO]- dropbox:474 -> Request to files/list_folder\n",
      "2023-09-15 10:07:48,471-[INFO]- dropbox:390 -> Refreshing access token.\n",
      "2023-09-15 10:07:48,668-[INFO]- dropbox:474 -> Request to files/list_folder\n",
      "2023-09-15 10:07:49,016-[INFO]- dropbox:390 -> Refreshing access token.\n",
      "2023-09-15 10:07:49,230-[INFO]- dropbox:474 -> Request to files/list_folder\n",
      "2023-09-15 10:07:49,736-[INFO]- dropbox:390 -> Refreshing access token.\n",
      "2023-09-15 10:07:49,955-[INFO]- dropbox:474 -> Request to files/list_folder\n",
      "2023-09-15 10:07:50,223-[INFO]- dropbox:390 -> Refreshing access token.\n",
      "2023-09-15 10:07:50,417-[INFO]- dropbox:474 -> Request to files/list_folder\n",
      "2023-09-15 10:07:50,807-[INFO]- dropbox:390 -> Refreshing access token.\n",
      "2023-09-15 10:07:51,005-[INFO]- dropbox:474 -> Request to files/list_folder\n",
      "2023-09-15 10:07:51,517-[INFO]- dropbox:390 -> Refreshing access token.\n",
      "2023-09-15 10:07:51,722-[INFO]- dropbox:474 -> Request to files/list_folder\n",
      "2023-09-15 10:07:52,258-[INFO]- dropbox:390 -> Refreshing access token.\n",
      "2023-09-15 10:07:52,454-[INFO]- dropbox:474 -> Request to files/list_folder\n",
      "2023-09-15 10:07:53,105-[INFO]- dropbox:390 -> Refreshing access token.\n",
      "2023-09-15 10:07:53,312-[INFO]- dropbox:474 -> Request to files/list_folder\n",
      "2023-09-15 10:07:53,816-[INFO]- dropbox:390 -> Refreshing access token.\n",
      "2023-09-15 10:07:54,021-[INFO]- dropbox:474 -> Request to files/list_folder\n",
      "2023-09-15 10:07:54,494-[INFO]- dropbox:390 -> Refreshing access token.\n",
      "2023-09-15 10:07:54,701-[INFO]- dropbox:474 -> Request to files/list_folder\n",
      "2023-09-15 10:07:55,085-[INFO]- dropbox:390 -> Refreshing access token.\n",
      "2023-09-15 10:07:55,304-[INFO]- dropbox:474 -> Request to files/list_folder\n",
      "2023-09-15 10:07:55,873-[INFO]- dropbox:390 -> Refreshing access token.\n",
      "2023-09-15 10:07:56,069-[INFO]- dropbox:474 -> Request to files/list_folder\n",
      "2023-09-15 10:07:56,454-[INFO]- dropbox:390 -> Refreshing access token.\n",
      "2023-09-15 10:07:56,651-[INFO]- dropbox:474 -> Request to files/list_folder\n",
      "2023-09-15 10:07:57,061-[INFO]- dropbox:390 -> Refreshing access token.\n",
      "2023-09-15 10:07:57,266-[INFO]- dropbox:474 -> Request to files/list_folder\n",
      "2023-09-15 10:07:57,592-[INFO]- dropbox:390 -> Refreshing access token.\n",
      "2023-09-15 10:07:57,782-[INFO]- dropbox:474 -> Request to files/list_folder\n",
      "2023-09-15 10:07:58,291-[INFO]- dropbox:390 -> Refreshing access token.\n",
      "2023-09-15 10:07:58,485-[INFO]- dropbox:474 -> Request to files/list_folder\n",
      "2023-09-15 10:07:58,794-[INFO]- dropbox:390 -> Refreshing access token.\n",
      "2023-09-15 10:07:58,988-[INFO]- dropbox:474 -> Request to files/list_folder\n",
      "2023-09-15 10:07:59,303-[INFO]- dropbox:390 -> Refreshing access token.\n",
      "2023-09-15 10:07:59,499-[INFO]- dropbox:474 -> Request to files/list_folder\n",
      "2023-09-15 10:07:59,865-[INFO]- dropbox:390 -> Refreshing access token.\n",
      "2023-09-15 10:08:00,071-[INFO]- dropbox:474 -> Request to files/list_folder\n",
      "2023-09-15 10:08:00,463-[INFO]- dropbox:390 -> Refreshing access token.\n",
      "2023-09-15 10:08:00,660-[INFO]- dropbox:474 -> Request to files/list_folder\n",
      "2023-09-15 10:08:01,030-[INFO]- dropbox:390 -> Refreshing access token.\n",
      "2023-09-15 10:08:01,233-[INFO]- dropbox:474 -> Request to files/list_folder\n",
      "2023-09-15 10:08:01,636-[INFO]- dropbox:390 -> Refreshing access token.\n",
      "2023-09-15 10:08:01,854-[INFO]- dropbox:474 -> Request to files/list_folder\n",
      "2023-09-15 10:08:02,453-[INFO]- dropbox:390 -> Refreshing access token.\n",
      "2023-09-15 10:08:02,657-[INFO]- dropbox:474 -> Request to files/list_folder\n",
      "2023-09-15 10:08:03,198-[INFO]- dropbox:390 -> Refreshing access token.\n",
      "2023-09-15 10:08:03,391-[INFO]- dropbox:474 -> Request to files/list_folder\n",
      "2023-09-15 10:08:03,847-[INFO]- dropbox:390 -> Refreshing access token.\n",
      "2023-09-15 10:08:04,050-[INFO]- dropbox:474 -> Request to files/list_folder\n",
      "2023-09-15 10:08:04,494-[INFO]- dropbox:390 -> Refreshing access token.\n",
      "2023-09-15 10:08:04,714-[INFO]- dropbox:474 -> Request to files/list_folder\n",
      "2023-09-15 10:08:05,112-[INFO]- dropbox:390 -> Refreshing access token.\n",
      "2023-09-15 10:08:05,336-[INFO]- dropbox:474 -> Request to files/list_folder\n",
      "2023-09-15 10:08:05,887-[INFO]- dropbox:390 -> Refreshing access token.\n",
      "2023-09-15 10:08:06,086-[INFO]- dropbox:474 -> Request to files/list_folder\n",
      "2023-09-15 10:08:06,510-[INFO]- dropbox:390 -> Refreshing access token.\n",
      "2023-09-15 10:08:06,704-[INFO]- dropbox:474 -> Request to files/list_folder\n",
      "2023-09-15 10:08:07,151-[INFO]- dropbox:390 -> Refreshing access token.\n",
      "2023-09-15 10:08:07,404-[INFO]- dropbox:474 -> Request to files/list_folder\n",
      "2023-09-15 10:08:07,956-[INFO]- dropbox:390 -> Refreshing access token.\n",
      "2023-09-15 10:08:08,154-[INFO]- dropbox:474 -> Request to files/list_folder\n",
      "2023-09-15 10:08:08,562-[INFO]- dropbox:390 -> Refreshing access token.\n",
      "2023-09-15 10:08:08,769-[INFO]- dropbox:474 -> Request to files/list_folder\n",
      "2023-09-15 10:08:09,141-[INFO]- dropbox:390 -> Refreshing access token.\n",
      "2023-09-15 10:08:09,340-[INFO]- dropbox:474 -> Request to files/list_folder\n",
      "2023-09-15 10:08:09,734-[INFO]- dropbox:390 -> Refreshing access token.\n",
      "2023-09-15 10:08:10,016-[INFO]- dropbox:474 -> Request to files/list_folder\n",
      "2023-09-15 10:08:10,560-[INFO]- dropbox:390 -> Refreshing access token.\n",
      "2023-09-15 10:08:10,762-[INFO]- dropbox:474 -> Request to files/list_folder\n",
      "2023-09-15 10:08:11,149-[INFO]- dropbox:390 -> Refreshing access token.\n",
      "2023-09-15 10:08:11,353-[INFO]- dropbox:474 -> Request to files/list_folder\n",
      "2023-09-15 10:08:11,744-[INFO]- dropbox:390 -> Refreshing access token.\n",
      "2023-09-15 10:08:11,937-[INFO]- dropbox:474 -> Request to files/list_folder\n",
      "2023-09-15 10:08:12,294-[INFO]- dropbox:390 -> Refreshing access token.\n",
      "2023-09-15 10:08:12,491-[INFO]- dropbox:474 -> Request to files/list_folder\n",
      "2023-09-15 10:08:12,868-[INFO]- dropbox:390 -> Refreshing access token.\n",
      "2023-09-15 10:08:13,085-[INFO]- dropbox:474 -> Request to files/list_folder\n",
      "2023-09-15 10:08:13,525-[INFO]- dropbox:390 -> Refreshing access token.\n",
      "2023-09-15 10:08:13,738-[INFO]- dropbox:474 -> Request to files/list_folder\n",
      "2023-09-15 10:08:14,056-[INFO]- dropbox:390 -> Refreshing access token.\n",
      "2023-09-15 10:08:14,259-[INFO]- dropbox:474 -> Request to files/list_folder\n",
      "2023-09-15 10:08:14,589-[INFO]- dropbox:390 -> Refreshing access token.\n",
      "2023-09-15 10:08:14,786-[INFO]- dropbox:474 -> Request to files/list_folder\n",
      "2023-09-15 10:08:15,208-[INFO]- dropbox:390 -> Refreshing access token.\n",
      "2023-09-15 10:08:15,460-[INFO]- dropbox:474 -> Request to files/list_folder\n",
      "2023-09-15 10:08:15,901-[INFO]- dropbox:390 -> Refreshing access token.\n",
      "2023-09-15 10:08:16,130-[INFO]- dropbox:474 -> Request to files/list_folder\n",
      "2023-09-15 10:08:16,523-[INFO]- dropbox:390 -> Refreshing access token.\n",
      "2023-09-15 10:08:16,732-[INFO]- dropbox:474 -> Request to files/list_folder\n",
      "2023-09-15 10:08:17,283-[INFO]- dropbox:390 -> Refreshing access token.\n",
      "2023-09-15 10:08:17,480-[INFO]- dropbox:474 -> Request to files/list_folder\n",
      "2023-09-15 10:08:18,054-[INFO]- dropbox:390 -> Refreshing access token.\n",
      "2023-09-15 10:08:18,256-[INFO]- dropbox:474 -> Request to files/list_folder\n",
      "2023-09-15 10:08:18,725-[INFO]- dropbox:390 -> Refreshing access token.\n",
      "2023-09-15 10:08:18,929-[INFO]- dropbox:474 -> Request to files/list_folder\n",
      "2023-09-15 10:08:19,258-[INFO]- dropbox:390 -> Refreshing access token.\n",
      "2023-09-15 10:08:19,454-[INFO]- dropbox:474 -> Request to files/list_folder\n",
      "2023-09-15 10:08:19,753-[INFO]- dropbox:390 -> Refreshing access token.\n",
      "2023-09-15 10:08:19,971-[INFO]- dropbox:474 -> Request to files/list_folder\n",
      "2023-09-15 10:08:20,338-[INFO]- dropbox:390 -> Refreshing access token.\n",
      "2023-09-15 10:08:20,617-[INFO]- dropbox:474 -> Request to files/list_folder\n",
      "2023-09-15 10:08:21,083-[INFO]- dropbox:390 -> Refreshing access token.\n",
      "2023-09-15 10:08:21,281-[INFO]- dropbox:474 -> Request to files/list_folder\n",
      "2023-09-15 10:08:21,791-[INFO]- dropbox:390 -> Refreshing access token.\n",
      "2023-09-15 10:08:22,006-[INFO]- dropbox:474 -> Request to files/list_folder\n",
      "2023-09-15 10:08:22,483-[INFO]- dropbox:390 -> Refreshing access token.\n",
      "2023-09-15 10:08:22,685-[INFO]- dropbox:474 -> Request to files/list_folder\n",
      "2023-09-15 10:08:23,124-[INFO]- dropbox:390 -> Refreshing access token.\n",
      "2023-09-15 10:08:23,319-[INFO]- dropbox:474 -> Request to files/list_folder\n",
      "2023-09-15 10:08:23,741-[INFO]- dropbox:390 -> Refreshing access token.\n",
      "2023-09-15 10:08:23,933-[INFO]- dropbox:474 -> Request to files/list_folder\n",
      "2023-09-15 10:08:24,464-[INFO]- dropbox:390 -> Refreshing access token.\n",
      "2023-09-15 10:08:24,663-[INFO]- dropbox:474 -> Request to files/list_folder\n",
      "2023-09-15 10:08:25,105-[INFO]- dropbox:390 -> Refreshing access token.\n",
      "2023-09-15 10:08:25,301-[INFO]- dropbox:474 -> Request to files/list_folder\n",
      "2023-09-15 10:08:25,690-[INFO]- dropbox:390 -> Refreshing access token.\n",
      "2023-09-15 10:08:25,883-[INFO]- dropbox:474 -> Request to files/list_folder\n",
      "2023-09-15 10:08:26,187-[INFO]- dropbox:390 -> Refreshing access token.\n",
      "2023-09-15 10:08:26,412-[INFO]- dropbox:474 -> Request to files/list_folder\n",
      "2023-09-15 10:08:26,735-[INFO]- dropbox:390 -> Refreshing access token.\n",
      "2023-09-15 10:08:26,932-[INFO]- dropbox:474 -> Request to files/list_folder\n",
      "2023-09-15 10:08:27,360-[INFO]- dropbox:390 -> Refreshing access token.\n",
      "2023-09-15 10:08:27,585-[INFO]- dropbox:474 -> Request to files/list_folder\n",
      "2023-09-15 10:08:27,972-[INFO]- dropbox:390 -> Refreshing access token.\n",
      "2023-09-15 10:08:28,167-[INFO]- dropbox:474 -> Request to files/list_folder\n",
      "2023-09-15 10:08:28,505-[INFO]- dropbox:390 -> Refreshing access token.\n",
      "2023-09-15 10:08:28,706-[INFO]- dropbox:474 -> Request to files/list_folder\n",
      "2023-09-15 10:08:29,224-[INFO]- dropbox:390 -> Refreshing access token.\n",
      "2023-09-15 10:08:29,424-[INFO]- dropbox:474 -> Request to files/list_folder\n",
      "2023-09-15 10:08:29,804-[INFO]- dropbox:390 -> Refreshing access token.\n",
      "2023-09-15 10:08:29,998-[INFO]- dropbox:474 -> Request to files/list_folder\n",
      "2023-09-15 10:08:30,313-[INFO]- dropbox:390 -> Refreshing access token.\n",
      "2023-09-15 10:08:30,505-[INFO]- dropbox:474 -> Request to files/list_folder\n",
      "2023-09-15 10:08:30,915-[INFO]- dropbox:390 -> Refreshing access token.\n",
      "2023-09-15 10:08:31,145-[INFO]- dropbox:474 -> Request to files/list_folder\n",
      "2023-09-15 10:08:31,542-[INFO]- dropbox:390 -> Refreshing access token.\n",
      "2023-09-15 10:08:31,753-[INFO]- dropbox:474 -> Request to files/list_folder\n",
      "2023-09-15 10:08:32,260-[INFO]- dropbox:390 -> Refreshing access token.\n",
      "2023-09-15 10:08:32,511-[INFO]- dropbox:474 -> Request to files/list_folder\n",
      "2023-09-15 10:08:32,862-[INFO]- dropbox:390 -> Refreshing access token.\n",
      "2023-09-15 10:08:33,055-[INFO]- dropbox:474 -> Request to files/list_folder\n",
      "2023-09-15 10:08:33,392-[INFO]- dropbox:390 -> Refreshing access token.\n",
      "2023-09-15 10:08:33,588-[INFO]- dropbox:474 -> Request to files/list_folder\n",
      "2023-09-15 10:08:34,006-[INFO]- dropbox:390 -> Refreshing access token.\n",
      "2023-09-15 10:08:34,207-[INFO]- dropbox:474 -> Request to files/list_folder\n",
      "2023-09-15 10:08:34,504-[INFO]- dropbox:390 -> Refreshing access token.\n",
      "2023-09-15 10:08:34,696-[INFO]- dropbox:474 -> Request to files/list_folder\n",
      "2023-09-15 10:08:35,121-[INFO]- dropbox:390 -> Refreshing access token.\n",
      "2023-09-15 10:08:35,324-[INFO]- dropbox:474 -> Request to files/list_folder\n",
      "2023-09-15 10:08:35,789-[INFO]- dropbox:390 -> Refreshing access token.\n",
      "2023-09-15 10:08:35,988-[INFO]- dropbox:474 -> Request to files/list_folder\n",
      "2023-09-15 10:08:36,300-[INFO]- dropbox:390 -> Refreshing access token.\n",
      "2023-09-15 10:08:36,528-[INFO]- dropbox:474 -> Request to files/list_folder\n",
      "2023-09-15 10:08:36,978-[INFO]- dropbox:390 -> Refreshing access token.\n",
      "2023-09-15 10:08:37,174-[INFO]- dropbox:474 -> Request to files/list_folder\n",
      "2023-09-15 10:08:37,688-[INFO]- dropbox:390 -> Refreshing access token.\n",
      "2023-09-15 10:08:37,888-[INFO]- dropbox:474 -> Request to files/list_folder\n",
      "2023-09-15 10:08:38,362-[INFO]- dropbox:390 -> Refreshing access token.\n",
      "2023-09-15 10:08:38,584-[INFO]- dropbox:474 -> Request to files/list_folder\n",
      "2023-09-15 10:08:39,628-[INFO]- dropbox:390 -> Refreshing access token.\n",
      "2023-09-15 10:08:39,834-[INFO]- dropbox:474 -> Request to files/list_folder\n",
      "2023-09-15 10:08:40,345-[INFO]- dropbox:390 -> Refreshing access token.\n",
      "2023-09-15 10:08:40,539-[INFO]- dropbox:474 -> Request to files/list_folder\n",
      "2023-09-15 10:08:41,995-[INFO]- dropbox:390 -> Refreshing access token.\n",
      "2023-09-15 10:08:42,238-[INFO]- dropbox:474 -> Request to files/list_folder\n",
      "2023-09-15 10:08:42,809-[INFO]- dropbox:390 -> Refreshing access token.\n",
      "2023-09-15 10:08:43,005-[INFO]- dropbox:474 -> Request to files/list_folder\n",
      "2023-09-15 10:08:43,763-[INFO]- dropbox:390 -> Refreshing access token.\n",
      "2023-09-15 10:08:43,962-[INFO]- dropbox:474 -> Request to files/list_folder\n",
      "2023-09-15 10:08:44,686-[INFO]- dropbox:390 -> Refreshing access token.\n",
      "2023-09-15 10:08:44,888-[INFO]- dropbox:474 -> Request to files/list_folder\n",
      "2023-09-15 10:08:45,244-[INFO]- dropbox:390 -> Refreshing access token.\n",
      "2023-09-15 10:08:45,462-[INFO]- dropbox:474 -> Request to files/list_folder\n",
      "2023-09-15 10:08:45,821-[INFO]- dropbox:390 -> Refreshing access token.\n",
      "2023-09-15 10:08:46,031-[INFO]- dropbox:474 -> Request to files/list_folder\n",
      "2023-09-15 10:08:46,715-[INFO]- dropbox:390 -> Refreshing access token.\n",
      "2023-09-15 10:08:46,930-[INFO]- dropbox:474 -> Request to files/list_folder\n",
      "2023-09-15 10:08:47,559-[INFO]- dropbox:390 -> Refreshing access token.\n",
      "2023-09-15 10:08:47,752-[INFO]- dropbox:474 -> Request to files/list_folder\n",
      "2023-09-15 10:08:48,567-[INFO]- dropbox:390 -> Refreshing access token.\n",
      "2023-09-15 10:08:48,770-[INFO]- dropbox:474 -> Request to files/list_folder\n",
      "2023-09-15 10:08:49,364-[INFO]- dropbox:390 -> Refreshing access token.\n",
      "2023-09-15 10:08:49,617-[INFO]- dropbox:474 -> Request to files/list_folder\n",
      "2023-09-15 10:08:50,143-[INFO]- dropbox:390 -> Refreshing access token.\n",
      "2023-09-15 10:08:50,348-[INFO]- dropbox:474 -> Request to files/list_folder\n",
      "2023-09-15 10:08:50,859-[INFO]- dropbox:390 -> Refreshing access token.\n",
      "2023-09-15 10:08:51,146-[INFO]- dropbox:474 -> Request to files/list_folder\n",
      "2023-09-15 10:08:51,748-[INFO]- dropbox:390 -> Refreshing access token.\n",
      "2023-09-15 10:08:52,075-[INFO]- dropbox:474 -> Request to files/list_folder\n",
      "2023-09-15 10:08:52,397-[INFO]- dropbox:390 -> Refreshing access token.\n",
      "2023-09-15 10:08:52,592-[INFO]- dropbox:474 -> Request to files/list_folder\n",
      "2023-09-15 10:08:52,918-[INFO]- dropbox:390 -> Refreshing access token.\n",
      "2023-09-15 10:08:53,113-[INFO]- dropbox:474 -> Request to files/list_folder\n",
      "2023-09-15 10:08:53,772-[INFO]- dropbox:390 -> Refreshing access token.\n",
      "2023-09-15 10:08:53,987-[INFO]- dropbox:474 -> Request to files/list_folder\n",
      "2023-09-15 10:08:54,417-[INFO]- dropbox:390 -> Refreshing access token.\n",
      "2023-09-15 10:08:54,639-[INFO]- dropbox:474 -> Request to files/list_folder\n",
      "2023-09-15 10:08:54,959-[INFO]- dropbox:390 -> Refreshing access token.\n",
      "2023-09-15 10:08:55,163-[INFO]- dropbox:474 -> Request to files/list_folder\n",
      "2023-09-15 10:08:55,522-[INFO]- dropbox:390 -> Refreshing access token.\n",
      "2023-09-15 10:08:55,726-[INFO]- dropbox:474 -> Request to files/list_folder\n",
      "2023-09-15 10:08:56,045-[INFO]- dropbox:390 -> Refreshing access token.\n",
      "2023-09-15 10:08:56,243-[INFO]- dropbox:474 -> Request to files/list_folder\n",
      "2023-09-15 10:08:56,554-[INFO]- dropbox:390 -> Refreshing access token.\n",
      "2023-09-15 10:08:56,757-[INFO]- dropbox:474 -> Request to files/list_folder\n",
      "2023-09-15 10:08:57,073-[INFO]- dropbox:390 -> Refreshing access token.\n",
      "2023-09-15 10:08:57,286-[INFO]- dropbox:474 -> Request to files/list_folder\n",
      "2023-09-15 10:08:57,680-[INFO]- dropbox:390 -> Refreshing access token.\n",
      "2023-09-15 10:08:57,879-[INFO]- dropbox:474 -> Request to files/list_folder\n",
      "2023-09-15 10:08:58,283-[INFO]- dropbox:390 -> Refreshing access token.\n",
      "2023-09-15 10:08:58,479-[INFO]- dropbox:474 -> Request to files/list_folder\n",
      "2023-09-15 10:08:58,839-[INFO]- dropbox:390 -> Refreshing access token.\n",
      "2023-09-15 10:08:59,037-[INFO]- dropbox:474 -> Request to files/list_folder\n",
      "2023-09-15 10:08:59,449-[INFO]- dropbox:390 -> Refreshing access token.\n",
      "2023-09-15 10:08:59,647-[INFO]- dropbox:474 -> Request to files/list_folder\n",
      "2023-09-15 10:09:00,117-[INFO]- dropbox:390 -> Refreshing access token.\n",
      "2023-09-15 10:09:00,322-[INFO]- dropbox:474 -> Request to files/list_folder\n",
      "2023-09-15 10:09:00,770-[INFO]- dropbox:390 -> Refreshing access token.\n",
      "2023-09-15 10:09:01,001-[INFO]- dropbox:474 -> Request to files/list_folder\n",
      "2023-09-15 10:09:01,501-[INFO]- dropbox:390 -> Refreshing access token.\n",
      "2023-09-15 10:09:01,709-[INFO]- dropbox:474 -> Request to files/list_folder\n",
      "2023-09-15 10:09:02,051-[INFO]- dropbox:390 -> Refreshing access token.\n",
      "2023-09-15 10:09:02,249-[INFO]- dropbox:474 -> Request to files/list_folder\n",
      "2023-09-15 10:09:02,758-[INFO]- dropbox:390 -> Refreshing access token.\n",
      "2023-09-15 10:09:02,996-[INFO]- dropbox:474 -> Request to files/list_folder\n",
      "2023-09-15 10:09:03,462-[INFO]- dropbox:390 -> Refreshing access token.\n",
      "2023-09-15 10:09:03,703-[INFO]- dropbox:474 -> Request to files/list_folder\n",
      "2023-09-15 10:09:04,096-[INFO]- dropbox:390 -> Refreshing access token.\n",
      "2023-09-15 10:09:04,289-[INFO]- dropbox:474 -> Request to files/list_folder\n",
      "2023-09-15 10:09:04,630-[INFO]- dropbox:390 -> Refreshing access token.\n",
      "2023-09-15 10:09:04,859-[INFO]- dropbox:474 -> Request to files/list_folder\n",
      "2023-09-15 10:09:05,283-[INFO]- dropbox:390 -> Refreshing access token.\n",
      "2023-09-15 10:09:05,488-[INFO]- dropbox:474 -> Request to files/list_folder\n",
      "2023-09-15 10:09:05,848-[INFO]- dropbox:390 -> Refreshing access token.\n",
      "2023-09-15 10:09:06,087-[INFO]- dropbox:474 -> Request to files/list_folder\n",
      "2023-09-15 10:09:06,397-[INFO]- dropbox:390 -> Refreshing access token.\n",
      "2023-09-15 10:09:06,594-[INFO]- dropbox:474 -> Request to files/list_folder\n",
      "2023-09-15 10:09:06,902-[INFO]- dropbox:390 -> Refreshing access token.\n",
      "2023-09-15 10:09:07,121-[INFO]- dropbox:474 -> Request to files/list_folder\n",
      "2023-09-15 10:09:07,634-[INFO]- dropbox:390 -> Refreshing access token.\n",
      "2023-09-15 10:09:07,832-[INFO]- dropbox:474 -> Request to files/list_folder\n",
      "2023-09-15 10:09:08,126-[INFO]- dropbox:390 -> Refreshing access token.\n",
      "2023-09-15 10:09:08,327-[INFO]- dropbox:474 -> Request to files/list_folder\n",
      "2023-09-15 10:09:08,666-[INFO]- dropbox:390 -> Refreshing access token.\n",
      "2023-09-15 10:09:08,869-[INFO]- dropbox:474 -> Request to files/list_folder\n",
      "2023-09-15 10:09:09,214-[INFO]- dropbox:390 -> Refreshing access token.\n",
      "2023-09-15 10:09:09,413-[INFO]- dropbox:474 -> Request to files/list_folder\n",
      "2023-09-15 10:09:09,786-[INFO]- dropbox:390 -> Refreshing access token.\n",
      "2023-09-15 10:09:10,001-[INFO]- dropbox:474 -> Request to files/list_folder\n",
      "2023-09-15 10:09:10,325-[INFO]- dropbox:390 -> Refreshing access token.\n",
      "2023-09-15 10:09:10,549-[INFO]- dropbox:474 -> Request to files/list_folder\n",
      "2023-09-15 10:09:10,851-[INFO]- dropbox:390 -> Refreshing access token.\n",
      "2023-09-15 10:09:11,045-[INFO]- dropbox:474 -> Request to files/list_folder\n",
      "2023-09-15 10:09:11,570-[INFO]- dropbox:390 -> Refreshing access token.\n",
      "2023-09-15 10:09:11,765-[INFO]- dropbox:474 -> Request to files/list_folder\n",
      "2023-09-15 10:09:12,088-[INFO]- dropbox:390 -> Refreshing access token.\n",
      "2023-09-15 10:09:12,356-[INFO]- dropbox:474 -> Request to files/list_folder\n",
      "2023-09-15 10:09:12,658-[INFO]- dropbox:390 -> Refreshing access token.\n",
      "2023-09-15 10:09:12,860-[INFO]- dropbox:474 -> Request to files/list_folder\n",
      "2023-09-15 10:09:13,234-[INFO]- dropbox:390 -> Refreshing access token.\n",
      "2023-09-15 10:09:13,427-[INFO]- dropbox:474 -> Request to files/list_folder\n",
      "2023-09-15 10:09:13,886-[INFO]- dropbox:390 -> Refreshing access token.\n",
      "2023-09-15 10:09:14,093-[INFO]- dropbox:474 -> Request to files/list_folder\n",
      "2023-09-15 10:09:14,480-[INFO]- dropbox:390 -> Refreshing access token.\n",
      "2023-09-15 10:09:14,677-[INFO]- dropbox:474 -> Request to files/list_folder\n",
      "2023-09-15 10:09:14,989-[INFO]- dropbox:390 -> Refreshing access token.\n",
      "2023-09-15 10:09:15,184-[INFO]- dropbox:474 -> Request to files/list_folder\n",
      "2023-09-15 10:09:15,571-[INFO]- dropbox:390 -> Refreshing access token.\n",
      "2023-09-15 10:09:15,788-[INFO]- dropbox:474 -> Request to files/list_folder\n",
      "2023-09-15 10:09:16,128-[INFO]- dropbox:390 -> Refreshing access token.\n",
      "2023-09-15 10:09:16,339-[INFO]- dropbox:474 -> Request to files/list_folder\n",
      "2023-09-15 10:09:16,664-[INFO]- dropbox:390 -> Refreshing access token.\n",
      "2023-09-15 10:09:16,863-[INFO]- dropbox:474 -> Request to files/list_folder\n",
      "2023-09-15 10:09:17,285-[INFO]- dropbox:390 -> Refreshing access token.\n",
      "2023-09-15 10:09:17,482-[INFO]- dropbox:474 -> Request to files/list_folder\n",
      "2023-09-15 10:09:17,806-[INFO]- dropbox:390 -> Refreshing access token.\n",
      "2023-09-15 10:09:18,042-[INFO]- dropbox:474 -> Request to files/list_folder\n",
      "2023-09-15 10:09:18,357-[INFO]- dropbox:390 -> Refreshing access token.\n",
      "2023-09-15 10:09:18,552-[INFO]- dropbox:474 -> Request to files/list_folder\n",
      "2023-09-15 10:09:18,851-[INFO]- dropbox:390 -> Refreshing access token.\n",
      "2023-09-15 10:09:19,106-[INFO]- dropbox:474 -> Request to files/list_folder\n",
      "2023-09-15 10:09:19,399-[INFO]- dropbox:390 -> Refreshing access token.\n",
      "2023-09-15 10:09:19,611-[INFO]- dropbox:474 -> Request to files/list_folder\n",
      "2023-09-15 10:09:19,929-[INFO]- dropbox:390 -> Refreshing access token.\n",
      "2023-09-15 10:09:20,127-[INFO]- dropbox:474 -> Request to files/list_folder\n",
      "2023-09-15 10:09:20,435-[INFO]- dropbox:390 -> Refreshing access token.\n",
      "2023-09-15 10:09:20,641-[INFO]- dropbox:474 -> Request to files/list_folder\n",
      "2023-09-15 10:09:21,071-[INFO]- dropbox:390 -> Refreshing access token.\n",
      "2023-09-15 10:09:21,324-[INFO]- dropbox:474 -> Request to files/list_folder\n",
      "2023-09-15 10:09:21,626-[INFO]- dropbox:390 -> Refreshing access token.\n",
      "2023-09-15 10:09:21,834-[INFO]- dropbox:474 -> Request to files/list_folder\n",
      "2023-09-15 10:09:22,137-[INFO]- dropbox:390 -> Refreshing access token.\n",
      "2023-09-15 10:09:22,343-[INFO]- dropbox:474 -> Request to files/list_folder\n",
      "2023-09-15 10:09:22,703-[INFO]- dropbox:390 -> Refreshing access token.\n",
      "2023-09-15 10:09:22,931-[INFO]- dropbox:474 -> Request to files/list_folder\n",
      "2023-09-15 10:09:23,262-[INFO]- dropbox:390 -> Refreshing access token.\n",
      "2023-09-15 10:09:23,460-[INFO]- dropbox:474 -> Request to files/list_folder\n",
      "2023-09-15 10:09:23,876-[INFO]- dropbox:390 -> Refreshing access token.\n",
      "2023-09-15 10:09:24,075-[INFO]- dropbox:474 -> Request to files/list_folder\n",
      "2023-09-15 10:09:24,422-[INFO]- dropbox:390 -> Refreshing access token.\n",
      "2023-09-15 10:09:24,621-[INFO]- dropbox:474 -> Request to files/list_folder\n",
      "2023-09-15 10:09:24,956-[INFO]- dropbox:390 -> Refreshing access token.\n",
      "2023-09-15 10:09:25,174-[INFO]- dropbox:474 -> Request to files/list_folder\n",
      "2023-09-15 10:09:25,475-[INFO]- dropbox:390 -> Refreshing access token.\n",
      "2023-09-15 10:09:25,672-[INFO]- dropbox:474 -> Request to files/list_folder\n",
      "2023-09-15 10:09:26,002-[INFO]- dropbox:390 -> Refreshing access token.\n",
      "2023-09-15 10:09:26,249-[INFO]- dropbox:474 -> Request to files/list_folder\n",
      "2023-09-15 10:09:26,558-[INFO]- dropbox:390 -> Refreshing access token.\n",
      "2023-09-15 10:09:26,754-[INFO]- dropbox:474 -> Request to files/list_folder\n",
      "2023-09-15 10:09:27,057-[INFO]- dropbox:390 -> Refreshing access token.\n",
      "2023-09-15 10:09:27,260-[INFO]- dropbox:474 -> Request to files/list_folder\n",
      "2023-09-15 10:09:27,622-[INFO]- dropbox:390 -> Refreshing access token.\n",
      "2023-09-15 10:09:27,821-[INFO]- dropbox:474 -> Request to files/list_folder\n",
      "2023-09-15 10:09:28,156-[INFO]- dropbox:390 -> Refreshing access token.\n",
      "2023-09-15 10:09:28,367-[INFO]- dropbox:474 -> Request to files/list_folder\n",
      "2023-09-15 10:09:28,703-[INFO]- dropbox:390 -> Refreshing access token.\n",
      "2023-09-15 10:09:28,902-[INFO]- dropbox:474 -> Request to files/list_folder\n",
      "2023-09-15 10:09:29,232-[INFO]- dropbox:390 -> Refreshing access token.\n",
      "2023-09-15 10:09:29,437-[INFO]- dropbox:474 -> Request to files/list_folder\n",
      "2023-09-15 10:09:29,776-[INFO]- dropbox:390 -> Refreshing access token.\n",
      "2023-09-15 10:09:29,974-[INFO]- dropbox:474 -> Request to files/list_folder\n",
      "2023-09-15 10:09:30,364-[INFO]- dropbox:390 -> Refreshing access token.\n",
      "2023-09-15 10:09:30,564-[INFO]- dropbox:474 -> Request to files/list_folder\n",
      "2023-09-15 10:09:30,869-[INFO]- dropbox:390 -> Refreshing access token.\n",
      "2023-09-15 10:09:31,091-[INFO]- dropbox:474 -> Request to files/list_folder\n",
      "2023-09-15 10:09:31,400-[INFO]- dropbox:390 -> Refreshing access token.\n",
      "2023-09-15 10:09:31,620-[INFO]- dropbox:474 -> Request to files/list_folder\n",
      "2023-09-15 10:09:31,924-[INFO]- dropbox:390 -> Refreshing access token.\n",
      "2023-09-15 10:09:32,178-[INFO]- dropbox:474 -> Request to files/list_folder\n",
      "2023-09-15 10:09:32,497-[INFO]- dropbox:390 -> Refreshing access token.\n",
      "2023-09-15 10:09:32,729-[INFO]- dropbox:474 -> Request to files/list_folder\n",
      "2023-09-15 10:09:33,135-[INFO]- dropbox:390 -> Refreshing access token.\n",
      "2023-09-15 10:09:33,342-[INFO]- dropbox:474 -> Request to files/list_folder\n",
      "2023-09-15 10:09:33,645-[INFO]- dropbox:390 -> Refreshing access token.\n",
      "2023-09-15 10:09:33,843-[INFO]- dropbox:474 -> Request to files/list_folder\n",
      "2023-09-15 10:09:34,142-[INFO]- dropbox:390 -> Refreshing access token.\n",
      "2023-09-15 10:09:34,338-[INFO]- dropbox:474 -> Request to files/list_folder\n",
      "2023-09-15 10:09:34,868-[INFO]- dropbox:390 -> Refreshing access token.\n",
      "2023-09-15 10:09:35,065-[INFO]- dropbox:474 -> Request to files/list_folder\n",
      "2023-09-15 10:09:35,373-[INFO]- dropbox:390 -> Refreshing access token.\n",
      "2023-09-15 10:09:35,572-[INFO]- dropbox:474 -> Request to files/list_folder\n",
      "2023-09-15 10:09:35,926-[INFO]- dropbox:390 -> Refreshing access token.\n",
      "2023-09-15 10:09:36,130-[INFO]- dropbox:474 -> Request to files/list_folder\n",
      "2023-09-15 10:09:36,470-[INFO]- dropbox:390 -> Refreshing access token.\n",
      "2023-09-15 10:09:36,673-[INFO]- dropbox:474 -> Request to files/list_folder\n",
      "2023-09-15 10:09:36,969-[INFO]- dropbox:390 -> Refreshing access token.\n",
      "2023-09-15 10:09:37,170-[INFO]- dropbox:474 -> Request to files/list_folder\n",
      "2023-09-15 10:09:37,469-[INFO]- dropbox:390 -> Refreshing access token.\n",
      "2023-09-15 10:09:37,667-[INFO]- dropbox:474 -> Request to files/list_folder\n",
      "2023-09-15 10:09:38,005-[INFO]- dropbox:390 -> Refreshing access token.\n",
      "2023-09-15 10:09:38,201-[INFO]- dropbox:474 -> Request to files/list_folder\n",
      "2023-09-15 10:09:38,505-[INFO]- dropbox:390 -> Refreshing access token.\n",
      "2023-09-15 10:09:38,708-[INFO]- dropbox:474 -> Request to files/list_folder\n",
      "2023-09-15 10:09:39,012-[INFO]- dropbox:390 -> Refreshing access token.\n",
      "2023-09-15 10:09:39,206-[INFO]- dropbox:474 -> Request to files/list_folder\n",
      "2023-09-15 10:09:39,518-[INFO]- dropbox:390 -> Refreshing access token.\n",
      "2023-09-15 10:09:39,711-[INFO]- dropbox:474 -> Request to files/list_folder\n",
      "2023-09-15 10:09:40,057-[INFO]- dropbox:390 -> Refreshing access token.\n",
      "2023-09-15 10:09:40,289-[INFO]- dropbox:474 -> Request to files/list_folder\n",
      "2023-09-15 10:09:40,588-[INFO]- dropbox:390 -> Refreshing access token.\n",
      "2023-09-15 10:09:40,823-[INFO]- dropbox:474 -> Request to files/list_folder\n",
      "2023-09-15 10:09:41,128-[INFO]- dropbox:390 -> Refreshing access token.\n",
      "2023-09-15 10:09:41,332-[INFO]- dropbox:474 -> Request to files/list_folder\n",
      "2023-09-15 10:09:41,632-[INFO]- dropbox:390 -> Refreshing access token.\n",
      "2023-09-15 10:09:41,853-[INFO]- dropbox:474 -> Request to files/list_folder\n",
      "2023-09-15 10:09:42,161-[INFO]- dropbox:390 -> Refreshing access token.\n",
      "2023-09-15 10:09:42,406-[INFO]- dropbox:474 -> Request to files/list_folder\n",
      "2023-09-15 10:09:42,704-[INFO]- dropbox:390 -> Refreshing access token.\n",
      "2023-09-15 10:09:42,902-[INFO]- dropbox:474 -> Request to files/list_folder\n",
      "2023-09-15 10:09:43,212-[INFO]- dropbox:390 -> Refreshing access token.\n",
      "2023-09-15 10:09:43,443-[INFO]- dropbox:474 -> Request to files/list_folder\n",
      "2023-09-15 10:09:43,768-[INFO]- dropbox:390 -> Refreshing access token.\n",
      "2023-09-15 10:09:43,961-[INFO]- dropbox:474 -> Request to files/list_folder\n",
      "2023-09-15 10:09:44,288-[INFO]- dropbox:390 -> Refreshing access token.\n",
      "2023-09-15 10:09:44,483-[INFO]- dropbox:474 -> Request to files/list_folder\n",
      "2023-09-15 10:09:44,831-[INFO]- dropbox:390 -> Refreshing access token.\n",
      "2023-09-15 10:09:45,035-[INFO]- dropbox:474 -> Request to files/list_folder\n",
      "2023-09-15 10:09:45,360-[INFO]- dropbox:390 -> Refreshing access token.\n",
      "2023-09-15 10:09:45,556-[INFO]- dropbox:474 -> Request to files/list_folder\n",
      "2023-09-15 10:09:45,882-[INFO]- dropbox:390 -> Refreshing access token.\n",
      "2023-09-15 10:09:46,116-[INFO]- dropbox:474 -> Request to files/list_folder\n",
      "2023-09-15 10:09:46,594-[INFO]- dropbox:390 -> Refreshing access token.\n",
      "2023-09-15 10:09:46,829-[INFO]- dropbox:474 -> Request to files/list_folder\n",
      "2023-09-15 10:09:47,181-[INFO]- dropbox:390 -> Refreshing access token.\n",
      "2023-09-15 10:09:47,405-[INFO]- dropbox:474 -> Request to files/list_folder\n",
      "2023-09-15 10:09:47,869-[INFO]- dropbox:390 -> Refreshing access token.\n",
      "2023-09-15 10:09:48,067-[INFO]- dropbox:474 -> Request to files/list_folder\n",
      "2023-09-15 10:09:48,429-[INFO]- dropbox:390 -> Refreshing access token.\n",
      "2023-09-15 10:09:48,624-[INFO]- dropbox:474 -> Request to files/list_folder\n",
      "2023-09-15 10:09:48,993-[INFO]- dropbox:390 -> Refreshing access token.\n",
      "2023-09-15 10:09:49,219-[INFO]- dropbox:474 -> Request to files/list_folder\n",
      "2023-09-15 10:09:49,708-[INFO]- dropbox:390 -> Refreshing access token.\n",
      "2023-09-15 10:09:49,910-[INFO]- dropbox:474 -> Request to files/list_folder\n",
      "2023-09-15 10:09:50,222-[INFO]- dropbox:390 -> Refreshing access token.\n",
      "2023-09-15 10:09:50,417-[INFO]- dropbox:474 -> Request to files/list_folder\n",
      "2023-09-15 10:09:50,721-[INFO]- dropbox:390 -> Refreshing access token.\n",
      "2023-09-15 10:09:50,921-[INFO]- dropbox:474 -> Request to files/list_folder\n",
      "2023-09-15 10:09:51,255-[INFO]- dropbox:390 -> Refreshing access token.\n",
      "2023-09-15 10:09:51,460-[INFO]- dropbox:474 -> Request to files/list_folder\n",
      "2023-09-15 10:09:51,766-[INFO]- dropbox:390 -> Refreshing access token.\n",
      "2023-09-15 10:09:51,973-[INFO]- dropbox:474 -> Request to files/list_folder\n",
      "2023-09-15 10:09:52,276-[INFO]- dropbox:390 -> Refreshing access token.\n",
      "2023-09-15 10:09:52,472-[INFO]- dropbox:474 -> Request to files/list_folder\n",
      "2023-09-15 10:09:52,830-[INFO]- dropbox:390 -> Refreshing access token.\n",
      "2023-09-15 10:09:53,023-[INFO]- dropbox:474 -> Request to files/list_folder\n",
      "2023-09-15 10:09:53,337-[INFO]- dropbox:390 -> Refreshing access token.\n",
      "2023-09-15 10:09:53,538-[INFO]- dropbox:474 -> Request to files/list_folder\n",
      "2023-09-15 10:09:53,953-[INFO]- dropbox:390 -> Refreshing access token.\n",
      "2023-09-15 10:09:54,160-[INFO]- dropbox:474 -> Request to files/list_folder\n",
      "2023-09-15 10:09:54,483-[INFO]- dropbox:390 -> Refreshing access token.\n",
      "2023-09-15 10:09:54,675-[INFO]- dropbox:474 -> Request to files/list_folder\n",
      "2023-09-15 10:09:54,980-[INFO]- dropbox:390 -> Refreshing access token.\n",
      "2023-09-15 10:09:55,179-[INFO]- dropbox:474 -> Request to files/list_folder\n",
      "2023-09-15 10:09:55,493-[INFO]- dropbox:390 -> Refreshing access token.\n",
      "2023-09-15 10:09:55,691-[INFO]- dropbox:474 -> Request to files/list_folder\n",
      "2023-09-15 10:09:55,991-[INFO]- dropbox:390 -> Refreshing access token.\n",
      "2023-09-15 10:09:56,203-[INFO]- dropbox:474 -> Request to files/list_folder\n",
      "2023-09-15 10:09:56,497-[INFO]- dropbox:390 -> Refreshing access token.\n",
      "2023-09-15 10:09:56,733-[INFO]- dropbox:474 -> Request to files/list_folder\n",
      "2023-09-15 10:09:57,079-[INFO]- dropbox:390 -> Refreshing access token.\n",
      "2023-09-15 10:09:57,289-[INFO]- dropbox:474 -> Request to files/list_folder\n",
      "2023-09-15 10:09:57,643-[INFO]- dropbox:390 -> Refreshing access token.\n",
      "2023-09-15 10:09:57,843-[INFO]- dropbox:474 -> Request to files/list_folder\n",
      "2023-09-15 10:09:58,157-[INFO]- dropbox:390 -> Refreshing access token.\n",
      "2023-09-15 10:09:58,385-[INFO]- dropbox:474 -> Request to files/list_folder\n",
      "2023-09-15 10:09:58,670-[INFO]- dropbox:390 -> Refreshing access token.\n",
      "2023-09-15 10:09:58,892-[INFO]- dropbox:474 -> Request to files/list_folder\n",
      "2023-09-15 10:09:59,234-[INFO]- dropbox:390 -> Refreshing access token.\n",
      "2023-09-15 10:09:59,428-[INFO]- dropbox:474 -> Request to files/list_folder\n",
      "2023-09-15 10:09:59,733-[INFO]- dropbox:390 -> Refreshing access token.\n",
      "2023-09-15 10:09:59,973-[INFO]- dropbox:474 -> Request to files/list_folder\n",
      "2023-09-15 10:10:00,298-[INFO]- dropbox:390 -> Refreshing access token.\n",
      "2023-09-15 10:10:00,492-[INFO]- dropbox:474 -> Request to files/list_folder\n",
      "2023-09-15 10:10:00,837-[INFO]- dropbox:390 -> Refreshing access token.\n",
      "2023-09-15 10:10:01,038-[INFO]- dropbox:474 -> Request to files/list_folder\n",
      "2023-09-15 10:10:01,349-[INFO]- dropbox:390 -> Refreshing access token.\n",
      "2023-09-15 10:10:01,563-[INFO]- dropbox:474 -> Request to files/list_folder\n",
      "2023-09-15 10:10:01,901-[INFO]- dropbox:390 -> Refreshing access token.\n",
      "2023-09-15 10:10:02,179-[INFO]- dropbox:474 -> Request to files/list_folder\n",
      "2023-09-15 10:10:02,537-[INFO]- dropbox:390 -> Refreshing access token.\n",
      "2023-09-15 10:10:02,749-[INFO]- dropbox:474 -> Request to files/list_folder\n",
      "2023-09-15 10:10:03,040-[INFO]- dropbox:390 -> Refreshing access token.\n",
      "2023-09-15 10:10:03,237-[INFO]- dropbox:474 -> Request to files/list_folder\n",
      "2023-09-15 10:10:03,529-[INFO]- dropbox:390 -> Refreshing access token.\n",
      "2023-09-15 10:10:03,730-[INFO]- dropbox:474 -> Request to files/list_folder\n",
      "2023-09-15 10:10:04,049-[INFO]- dropbox:390 -> Refreshing access token.\n",
      "2023-09-15 10:10:04,246-[INFO]- dropbox:474 -> Request to files/list_folder\n",
      "2023-09-15 10:10:04,551-[INFO]- dropbox:390 -> Refreshing access token.\n",
      "2023-09-15 10:10:04,749-[INFO]- dropbox:474 -> Request to files/list_folder\n",
      "2023-09-15 10:10:05,121-[INFO]- dropbox:390 -> Refreshing access token.\n",
      "2023-09-15 10:10:05,352-[INFO]- dropbox:474 -> Request to files/list_folder\n",
      "2023-09-15 10:10:05,736-[INFO]- dropbox:390 -> Refreshing access token.\n",
      "2023-09-15 10:10:05,933-[INFO]- dropbox:474 -> Request to files/list_folder\n",
      "2023-09-15 10:10:06,508-[INFO]- dropbox:390 -> Refreshing access token.\n",
      "2023-09-15 10:10:06,703-[INFO]- dropbox:474 -> Request to files/list_folder\n",
      "2023-09-15 10:10:07,488-[INFO]- dropbox:390 -> Refreshing access token.\n",
      "2023-09-15 10:10:07,690-[INFO]- dropbox:474 -> Request to files/list_folder\n",
      "2023-09-15 10:10:08,298-[INFO]- dropbox:390 -> Refreshing access token.\n",
      "2023-09-15 10:10:08,493-[INFO]- dropbox:474 -> Request to files/list_folder\n",
      "2023-09-15 10:10:09,176-[INFO]- dropbox:390 -> Refreshing access token.\n",
      "2023-09-15 10:10:09,369-[INFO]- dropbox:474 -> Request to files/list_folder\n",
      "2023-09-15 10:10:09,825-[INFO]- dropbox:390 -> Refreshing access token.\n",
      "2023-09-15 10:10:10,027-[INFO]- dropbox:474 -> Request to files/list_folder\n",
      "2023-09-15 10:10:10,569-[INFO]- dropbox:390 -> Refreshing access token.\n",
      "2023-09-15 10:10:10,757-[INFO]- dropbox:474 -> Request to files/list_folder\n",
      "2023-09-15 10:10:11,294-[INFO]- dropbox:390 -> Refreshing access token.\n",
      "2023-09-15 10:10:11,488-[INFO]- dropbox:474 -> Request to files/list_folder\n",
      "2023-09-15 10:10:11,996-[INFO]- dropbox:390 -> Refreshing access token.\n",
      "2023-09-15 10:10:12,199-[INFO]- dropbox:474 -> Request to files/list_folder\n",
      "2023-09-15 10:10:15,443-[INFO]- dropbox:390 -> Refreshing access token.\n",
      "2023-09-15 10:10:15,665-[INFO]- dropbox:474 -> Request to files/list_folder\n",
      "2023-09-15 10:10:16,144-[INFO]- dropbox:390 -> Refreshing access token.\n",
      "2023-09-15 10:10:16,380-[INFO]- dropbox:474 -> Request to files/list_folder\n",
      "2023-09-15 10:10:16,900-[INFO]- dropbox:390 -> Refreshing access token.\n",
      "2023-09-15 10:10:17,109-[INFO]- dropbox:474 -> Request to files/list_folder\n",
      "2023-09-15 10:10:17,605-[INFO]- dropbox:390 -> Refreshing access token.\n",
      "2023-09-15 10:10:17,807-[INFO]- dropbox:474 -> Request to files/list_folder\n",
      "2023-09-15 10:10:18,360-[INFO]- dropbox:390 -> Refreshing access token.\n",
      "2023-09-15 10:10:18,561-[INFO]- dropbox:474 -> Request to files/list_folder\n",
      "2023-09-15 10:10:18,999-[INFO]- dropbox:390 -> Refreshing access token.\n",
      "2023-09-15 10:10:19,224-[INFO]- dropbox:474 -> Request to files/list_folder\n",
      "2023-09-15 10:10:19,562-[INFO]- dropbox:390 -> Refreshing access token.\n",
      "2023-09-15 10:10:19,760-[INFO]- dropbox:474 -> Request to files/list_folder\n",
      "2023-09-15 10:10:20,327-[INFO]- dropbox:390 -> Refreshing access token.\n",
      "2023-09-15 10:10:20,538-[INFO]- dropbox:474 -> Request to files/list_folder\n",
      "2023-09-15 10:10:21,078-[INFO]- dropbox:390 -> Refreshing access token.\n",
      "2023-09-15 10:10:21,274-[INFO]- dropbox:474 -> Request to files/list_folder\n",
      "2023-09-15 10:10:21,753-[INFO]- dropbox:390 -> Refreshing access token.\n",
      "2023-09-15 10:10:21,953-[INFO]- dropbox:474 -> Request to files/list_folder\n",
      "2023-09-15 10:10:22,740-[INFO]- dropbox:390 -> Refreshing access token.\n",
      "2023-09-15 10:10:22,936-[INFO]- dropbox:474 -> Request to files/list_folder\n",
      "2023-09-15 10:10:23,515-[INFO]- dropbox:390 -> Refreshing access token.\n",
      "2023-09-15 10:10:23,728-[INFO]- dropbox:474 -> Request to files/list_folder\n",
      "2023-09-15 10:10:24,061-[INFO]- dropbox:390 -> Refreshing access token.\n",
      "2023-09-15 10:10:24,264-[INFO]- dropbox:474 -> Request to files/list_folder\n",
      "2023-09-15 10:10:24,746-[INFO]- dropbox:390 -> Refreshing access token.\n",
      "2023-09-15 10:10:24,949-[INFO]- dropbox:474 -> Request to files/list_folder\n",
      "2023-09-15 10:10:25,311-[INFO]- dropbox:390 -> Refreshing access token.\n",
      "2023-09-15 10:10:25,521-[INFO]- dropbox:474 -> Request to files/list_folder\n",
      "2023-09-15 10:10:25,952-[INFO]- dropbox:390 -> Refreshing access token.\n",
      "2023-09-15 10:10:26,170-[INFO]- dropbox:474 -> Request to files/list_folder\n",
      "2023-09-15 10:10:26,637-[INFO]- dropbox:390 -> Refreshing access token.\n",
      "2023-09-15 10:10:26,829-[INFO]- dropbox:474 -> Request to files/list_folder\n",
      "2023-09-15 10:10:27,174-[INFO]- dropbox:390 -> Refreshing access token.\n",
      "2023-09-15 10:10:27,365-[INFO]- dropbox:474 -> Request to files/list_folder\n",
      "2023-09-15 10:10:27,813-[INFO]- dropbox:390 -> Refreshing access token.\n",
      "2023-09-15 10:10:28,022-[INFO]- dropbox:474 -> Request to files/list_folder\n",
      "2023-09-15 10:10:28,417-[INFO]- dropbox:390 -> Refreshing access token.\n",
      "2023-09-15 10:10:28,615-[INFO]- dropbox:474 -> Request to files/list_folder\n",
      "2023-09-15 10:10:28,959-[INFO]- dropbox:390 -> Refreshing access token.\n",
      "2023-09-15 10:10:29,156-[INFO]- dropbox:474 -> Request to files/list_folder\n",
      "2023-09-15 10:10:29,478-[INFO]- dropbox:390 -> Refreshing access token.\n",
      "2023-09-15 10:10:29,714-[INFO]- dropbox:474 -> Request to files/list_folder\n",
      "2023-09-15 10:10:30,245-[INFO]- dropbox:390 -> Refreshing access token.\n",
      "2023-09-15 10:10:30,456-[INFO]- dropbox:474 -> Request to files/list_folder\n",
      "2023-09-15 10:10:30,954-[INFO]- dropbox:390 -> Refreshing access token.\n",
      "2023-09-15 10:10:31,158-[INFO]- dropbox:474 -> Request to files/list_folder\n",
      "2023-09-15 10:10:31,763-[INFO]- dropbox:390 -> Refreshing access token.\n",
      "2023-09-15 10:10:31,977-[INFO]- dropbox:474 -> Request to files/list_folder\n",
      "2023-09-15 10:10:32,426-[INFO]- dropbox:390 -> Refreshing access token.\n",
      "2023-09-15 10:10:32,636-[INFO]- dropbox:474 -> Request to files/list_folder\n",
      "2023-09-15 10:10:33,037-[INFO]- dropbox:390 -> Refreshing access token.\n",
      "2023-09-15 10:10:33,242-[INFO]- dropbox:474 -> Request to files/list_folder\n",
      "2023-09-15 10:10:33,802-[INFO]- dropbox:390 -> Refreshing access token.\n",
      "2023-09-15 10:10:34,002-[INFO]- dropbox:474 -> Request to files/list_folder\n",
      "2023-09-15 10:10:34,515-[INFO]- dropbox:390 -> Refreshing access token.\n",
      "2023-09-15 10:10:34,719-[INFO]- dropbox:474 -> Request to files/list_folder\n",
      "2023-09-15 10:10:35,188-[INFO]- dropbox:390 -> Refreshing access token.\n",
      "2023-09-15 10:10:35,397-[INFO]- dropbox:474 -> Request to files/list_folder\n",
      "2023-09-15 10:10:35,882-[INFO]- dropbox:390 -> Refreshing access token.\n",
      "2023-09-15 10:10:36,084-[INFO]- dropbox:474 -> Request to files/list_folder\n",
      "2023-09-15 10:10:37,029-[INFO]- dropbox:390 -> Refreshing access token.\n",
      "2023-09-15 10:10:37,251-[INFO]- dropbox:474 -> Request to files/list_folder\n",
      "2023-09-15 10:10:37,799-[INFO]- dropbox:390 -> Refreshing access token.\n",
      "2023-09-15 10:10:38,047-[INFO]- dropbox:474 -> Request to files/list_folder\n",
      "2023-09-15 10:10:38,511-[INFO]- dropbox:390 -> Refreshing access token.\n",
      "2023-09-15 10:10:38,709-[INFO]- dropbox:474 -> Request to files/list_folder\n",
      "2023-09-15 10:10:39,098-[INFO]- dropbox:390 -> Refreshing access token.\n",
      "2023-09-15 10:10:39,326-[INFO]- dropbox:474 -> Request to files/list_folder\n",
      "2023-09-15 10:10:39,696-[INFO]- dropbox:390 -> Refreshing access token.\n",
      "2023-09-15 10:10:39,895-[INFO]- dropbox:474 -> Request to files/list_folder\n",
      "2023-09-15 10:10:40,280-[INFO]- dropbox:390 -> Refreshing access token.\n",
      "2023-09-15 10:10:40,505-[INFO]- dropbox:474 -> Request to files/list_folder\n",
      "2023-09-15 10:10:40,970-[INFO]- dropbox:390 -> Refreshing access token.\n",
      "2023-09-15 10:10:41,174-[INFO]- dropbox:474 -> Request to files/list_folder\n",
      "2023-09-15 10:10:41,613-[INFO]- dropbox:390 -> Refreshing access token.\n",
      "2023-09-15 10:10:41,817-[INFO]- dropbox:474 -> Request to files/list_folder\n",
      "2023-09-15 10:10:42,212-[INFO]- dropbox:390 -> Refreshing access token.\n",
      "2023-09-15 10:10:42,416-[INFO]- dropbox:474 -> Request to files/list_folder\n",
      "2023-09-15 10:10:42,841-[INFO]- dropbox:390 -> Refreshing access token.\n",
      "2023-09-15 10:10:43,035-[INFO]- dropbox:474 -> Request to files/list_folder\n",
      "2023-09-15 10:10:43,401-[INFO]- dropbox:390 -> Refreshing access token.\n",
      "2023-09-15 10:10:43,603-[INFO]- dropbox:474 -> Request to files/list_folder\n",
      "2023-09-15 10:10:43,970-[INFO]- dropbox:390 -> Refreshing access token.\n",
      "2023-09-15 10:10:44,183-[INFO]- dropbox:474 -> Request to files/list_folder\n",
      "2023-09-15 10:10:44,657-[INFO]- dropbox:390 -> Refreshing access token.\n",
      "2023-09-15 10:10:44,861-[INFO]- dropbox:474 -> Request to files/list_folder\n",
      "2023-09-15 10:10:45,487-[INFO]- dropbox:390 -> Refreshing access token.\n",
      "2023-09-15 10:10:45,680-[INFO]- dropbox:474 -> Request to files/list_folder\n",
      "2023-09-15 10:10:46,215-[INFO]- dropbox:390 -> Refreshing access token.\n",
      "2023-09-15 10:10:46,446-[INFO]- dropbox:474 -> Request to files/list_folder\n",
      "2023-09-15 10:10:47,002-[INFO]- dropbox:390 -> Refreshing access token.\n",
      "2023-09-15 10:10:47,211-[INFO]- dropbox:474 -> Request to files/list_folder\n",
      "2023-09-15 10:10:47,898-[INFO]- dropbox:474 -> Request to files/list_folder/continue\n",
      "2023-09-15 10:10:48,291-[INFO]- dropbox:390 -> Refreshing access token.\n",
      "2023-09-15 10:10:48,493-[INFO]- dropbox:474 -> Request to files/list_folder\n",
      "2023-09-15 10:10:48,857-[INFO]- dropbox:390 -> Refreshing access token.\n",
      "2023-09-15 10:10:49,055-[INFO]- dropbox:474 -> Request to files/list_folder\n",
      "2023-09-15 10:10:49,527-[INFO]- dropbox:390 -> Refreshing access token.\n",
      "2023-09-15 10:10:49,733-[INFO]- dropbox:474 -> Request to files/list_folder\n",
      "2023-09-15 10:10:50,336-[INFO]- dropbox:390 -> Refreshing access token.\n",
      "2023-09-15 10:10:50,537-[INFO]- dropbox:474 -> Request to files/list_folder\n",
      "2023-09-15 10:10:51,130-[INFO]- dropbox:390 -> Refreshing access token.\n",
      "2023-09-15 10:10:51,325-[INFO]- dropbox:474 -> Request to files/list_folder\n",
      "2023-09-15 10:10:51,991-[INFO]- dropbox:390 -> Refreshing access token.\n",
      "2023-09-15 10:10:52,187-[INFO]- dropbox:474 -> Request to files/list_folder\n",
      "2023-09-15 10:10:52,733-[INFO]- dropbox:390 -> Refreshing access token.\n",
      "2023-09-15 10:10:52,948-[INFO]- dropbox:474 -> Request to files/list_folder\n",
      "2023-09-15 10:10:53,588-[INFO]- dropbox:390 -> Refreshing access token.\n",
      "2023-09-15 10:10:53,841-[INFO]- dropbox:474 -> Request to files/list_folder\n",
      "2023-09-15 10:10:54,473-[INFO]- dropbox:390 -> Refreshing access token.\n",
      "2023-09-15 10:10:54,672-[INFO]- dropbox:474 -> Request to files/list_folder\n",
      "2023-09-15 10:10:55,179-[INFO]- dropbox:390 -> Refreshing access token.\n",
      "2023-09-15 10:10:55,408-[INFO]- dropbox:474 -> Request to files/list_folder\n",
      "2023-09-15 10:10:55,849-[INFO]- dropbox:390 -> Refreshing access token.\n",
      "2023-09-15 10:10:56,046-[INFO]- dropbox:474 -> Request to files/list_folder\n",
      "2023-09-15 10:10:56,632-[INFO]- dropbox:390 -> Refreshing access token.\n",
      "2023-09-15 10:10:56,838-[INFO]- dropbox:474 -> Request to files/list_folder\n",
      "2023-09-15 10:10:57,350-[INFO]- dropbox:390 -> Refreshing access token.\n",
      "2023-09-15 10:10:57,574-[INFO]- dropbox:474 -> Request to files/list_folder\n",
      "2023-09-15 10:10:58,063-[INFO]- dropbox:390 -> Refreshing access token.\n",
      "2023-09-15 10:10:58,263-[INFO]- dropbox:474 -> Request to files/list_folder\n",
      "2023-09-15 10:10:58,687-[INFO]- dropbox:390 -> Refreshing access token.\n",
      "2023-09-15 10:10:58,881-[INFO]- dropbox:474 -> Request to files/list_folder\n",
      "2023-09-15 10:10:59,518-[INFO]- dropbox:390 -> Refreshing access token.\n",
      "2023-09-15 10:10:59,734-[INFO]- dropbox:474 -> Request to files/list_folder\n",
      "2023-09-15 10:11:00,305-[INFO]- dropbox:390 -> Refreshing access token.\n",
      "2023-09-15 10:11:00,506-[INFO]- dropbox:474 -> Request to files/list_folder\n",
      "2023-09-15 10:11:00,983-[INFO]- dropbox:390 -> Refreshing access token.\n",
      "2023-09-15 10:11:01,190-[INFO]- dropbox:474 -> Request to files/list_folder\n",
      "2023-09-15 10:11:01,663-[INFO]- dropbox:390 -> Refreshing access token.\n",
      "2023-09-15 10:11:01,882-[INFO]- dropbox:474 -> Request to files/list_folder\n",
      "2023-09-15 10:11:02,365-[INFO]- dropbox:390 -> Refreshing access token.\n",
      "2023-09-15 10:11:02,560-[INFO]- dropbox:474 -> Request to files/list_folder\n",
      "2023-09-15 10:11:03,815-[INFO]- dropbox:390 -> Refreshing access token.\n",
      "2023-09-15 10:11:04,038-[INFO]- dropbox:474 -> Request to files/list_folder\n",
      "2023-09-15 10:11:04,425-[INFO]- dropbox:390 -> Refreshing access token.\n",
      "2023-09-15 10:11:04,655-[INFO]- dropbox:474 -> Request to files/list_folder\n",
      "2023-09-15 10:11:05,198-[INFO]- dropbox:390 -> Refreshing access token.\n",
      "2023-09-15 10:11:05,408-[INFO]- dropbox:474 -> Request to files/list_folder\n",
      "2023-09-15 10:11:05,830-[INFO]- dropbox:390 -> Refreshing access token.\n",
      "2023-09-15 10:11:06,028-[INFO]- dropbox:474 -> Request to files/list_folder\n",
      "2023-09-15 10:11:06,552-[INFO]- dropbox:390 -> Refreshing access token.\n",
      "2023-09-15 10:11:06,759-[INFO]- dropbox:474 -> Request to files/list_folder\n",
      "2023-09-15 10:11:07,124-[INFO]- dropbox:390 -> Refreshing access token.\n",
      "2023-09-15 10:11:07,317-[INFO]- dropbox:474 -> Request to files/list_folder\n",
      "2023-09-15 10:11:07,714-[INFO]- dropbox:390 -> Refreshing access token.\n",
      "2023-09-15 10:11:07,919-[INFO]- dropbox:474 -> Request to files/list_folder\n",
      "2023-09-15 10:11:08,652-[INFO]- dropbox:390 -> Refreshing access token.\n",
      "2023-09-15 10:11:08,887-[INFO]- dropbox:474 -> Request to files/list_folder\n",
      "2023-09-15 10:11:09,365-[INFO]- dropbox:390 -> Refreshing access token.\n",
      "2023-09-15 10:11:09,576-[INFO]- dropbox:474 -> Request to files/list_folder\n",
      "2023-09-15 10:11:09,904-[INFO]- dropbox:390 -> Refreshing access token.\n",
      "2023-09-15 10:11:10,099-[INFO]- dropbox:474 -> Request to files/list_folder\n",
      "2023-09-15 10:11:10,849-[INFO]- dropbox:390 -> Refreshing access token.\n",
      "2023-09-15 10:11:11,062-[INFO]- dropbox:474 -> Request to files/list_folder\n",
      "2023-09-15 10:11:11,736-[INFO]- dropbox:390 -> Refreshing access token.\n",
      "2023-09-15 10:11:11,936-[INFO]- dropbox:474 -> Request to files/list_folder\n",
      "2023-09-15 10:11:13,427-[INFO]- dropbox:390 -> Refreshing access token.\n",
      "2023-09-15 10:11:13,635-[INFO]- dropbox:474 -> Request to files/list_folder\n",
      "2023-09-15 10:11:14,275-[INFO]- dropbox:390 -> Refreshing access token.\n",
      "2023-09-15 10:11:14,492-[INFO]- dropbox:474 -> Request to files/list_folder\n",
      "2023-09-15 10:11:15,144-[INFO]- dropbox:390 -> Refreshing access token.\n",
      "2023-09-15 10:11:15,344-[INFO]- dropbox:474 -> Request to files/list_folder\n",
      "2023-09-15 10:11:15,866-[INFO]- dropbox:390 -> Refreshing access token.\n",
      "2023-09-15 10:11:16,080-[INFO]- dropbox:474 -> Request to files/list_folder\n",
      "2023-09-15 10:11:16,553-[INFO]- dropbox:390 -> Refreshing access token.\n",
      "2023-09-15 10:11:16,769-[INFO]- dropbox:474 -> Request to files/list_folder\n",
      "2023-09-15 10:11:17,272-[INFO]- dropbox:390 -> Refreshing access token.\n",
      "2023-09-15 10:11:17,495-[INFO]- dropbox:474 -> Request to files/list_folder\n",
      "2023-09-15 10:11:18,063-[INFO]- dropbox:390 -> Refreshing access token.\n",
      "2023-09-15 10:11:18,268-[INFO]- dropbox:474 -> Request to files/list_folder\n",
      "2023-09-15 10:11:18,640-[INFO]- dropbox:390 -> Refreshing access token.\n",
      "2023-09-15 10:11:18,836-[INFO]- dropbox:474 -> Request to files/list_folder\n",
      "2023-09-15 10:11:19,293-[INFO]- dropbox:390 -> Refreshing access token.\n",
      "2023-09-15 10:11:19,491-[INFO]- dropbox:474 -> Request to files/list_folder\n",
      "2023-09-15 10:11:20,012-[INFO]- dropbox:390 -> Refreshing access token.\n",
      "2023-09-15 10:11:20,212-[INFO]- dropbox:474 -> Request to files/list_folder\n",
      "2023-09-15 10:11:20,732-[INFO]- dropbox:390 -> Refreshing access token.\n",
      "2023-09-15 10:11:21,008-[INFO]- dropbox:474 -> Request to files/list_folder\n",
      "2023-09-15 10:11:21,709-[INFO]- dropbox:390 -> Refreshing access token.\n",
      "2023-09-15 10:11:21,907-[INFO]- dropbox:474 -> Request to files/list_folder\n",
      "2023-09-15 10:11:22,585-[INFO]- dropbox:390 -> Refreshing access token.\n",
      "2023-09-15 10:11:22,783-[INFO]- dropbox:474 -> Request to files/list_folder\n",
      "2023-09-15 10:11:23,479-[INFO]- dropbox:390 -> Refreshing access token.\n",
      "2023-09-15 10:11:23,708-[INFO]- dropbox:474 -> Request to files/list_folder\n",
      "2023-09-15 10:11:24,272-[INFO]- dropbox:390 -> Refreshing access token.\n",
      "2023-09-15 10:11:24,466-[INFO]- dropbox:474 -> Request to files/list_folder\n",
      "2023-09-15 10:11:25,034-[INFO]- dropbox:390 -> Refreshing access token.\n",
      "2023-09-15 10:11:25,269-[INFO]- dropbox:474 -> Request to files/list_folder\n",
      "2023-09-15 10:11:25,860-[INFO]- dropbox:390 -> Refreshing access token.\n",
      "2023-09-15 10:11:26,057-[INFO]- dropbox:474 -> Request to files/list_folder\n",
      "2023-09-15 10:11:26,546-[INFO]- dropbox:390 -> Refreshing access token.\n",
      "2023-09-15 10:11:26,750-[INFO]- dropbox:474 -> Request to files/list_folder\n",
      "2023-09-15 10:11:27,271-[INFO]- dropbox:390 -> Refreshing access token.\n",
      "2023-09-15 10:11:27,496-[INFO]- dropbox:474 -> Request to files/list_folder\n",
      "2023-09-15 10:11:29,220-[INFO]- dropbox:474 -> Request to files/list_folder/continue\n",
      "2023-09-15 10:11:29,607-[INFO]- dropbox:390 -> Refreshing access token.\n",
      "2023-09-15 10:11:29,832-[INFO]- dropbox:474 -> Request to files/list_folder\n",
      "2023-09-15 10:11:30,397-[INFO]- dropbox:390 -> Refreshing access token.\n",
      "2023-09-15 10:11:30,637-[INFO]- dropbox:474 -> Request to files/list_folder\n",
      "2023-09-15 10:11:31,154-[INFO]- dropbox:390 -> Refreshing access token.\n",
      "2023-09-15 10:11:31,367-[INFO]- dropbox:474 -> Request to files/list_folder\n",
      "2023-09-15 10:11:31,862-[INFO]- dropbox:390 -> Refreshing access token.\n",
      "2023-09-15 10:11:32,058-[INFO]- dropbox:474 -> Request to files/list_folder\n",
      "2023-09-15 10:11:32,400-[INFO]- dropbox:390 -> Refreshing access token.\n",
      "2023-09-15 10:11:32,601-[INFO]- dropbox:474 -> Request to files/list_folder\n",
      "2023-09-15 10:11:32,959-[INFO]- dropbox:390 -> Refreshing access token.\n",
      "2023-09-15 10:11:33,190-[INFO]- dropbox:474 -> Request to files/list_folder\n",
      "2023-09-15 10:11:33,571-[INFO]- dropbox:390 -> Refreshing access token.\n",
      "2023-09-15 10:11:33,783-[INFO]- dropbox:474 -> Request to files/list_folder\n",
      "2023-09-15 10:11:34,120-[INFO]- dropbox:390 -> Refreshing access token.\n",
      "2023-09-15 10:11:34,350-[INFO]- dropbox:474 -> Request to files/list_folder\n",
      "2023-09-15 10:11:34,730-[INFO]- dropbox:390 -> Refreshing access token.\n",
      "2023-09-15 10:11:34,928-[INFO]- dropbox:474 -> Request to files/list_folder\n",
      "2023-09-15 10:11:35,408-[INFO]- dropbox:390 -> Refreshing access token.\n",
      "2023-09-15 10:11:35,613-[INFO]- dropbox:474 -> Request to files/list_folder\n",
      "2023-09-15 10:11:35,920-[INFO]- dropbox:390 -> Refreshing access token.\n",
      "2023-09-15 10:11:36,127-[INFO]- dropbox:474 -> Request to files/list_folder\n",
      "2023-09-15 10:11:36,496-[INFO]- dropbox:390 -> Refreshing access token.\n",
      "2023-09-15 10:11:36,715-[INFO]- dropbox:474 -> Request to files/list_folder\n",
      "2023-09-15 10:11:37,098-[INFO]- dropbox:390 -> Refreshing access token.\n",
      "2023-09-15 10:11:37,427-[INFO]- dropbox:474 -> Request to files/list_folder\n",
      "2023-09-15 10:11:37,860-[INFO]- dropbox:390 -> Refreshing access token.\n",
      "2023-09-15 10:11:38,055-[INFO]- dropbox:474 -> Request to files/list_folder\n",
      "2023-09-15 10:11:38,428-[INFO]- dropbox:390 -> Refreshing access token.\n",
      "2023-09-15 10:11:38,622-[INFO]- dropbox:474 -> Request to files/list_folder\n",
      "2023-09-15 10:11:38,939-[INFO]- dropbox:390 -> Refreshing access token.\n",
      "2023-09-15 10:11:39,135-[INFO]- dropbox:474 -> Request to files/list_folder\n",
      "2023-09-15 10:11:39,695-[INFO]- dropbox:390 -> Refreshing access token.\n",
      "2023-09-15 10:11:39,913-[INFO]- dropbox:474 -> Request to files/list_folder\n",
      "2023-09-15 10:11:40,602-[INFO]- dropbox:390 -> Refreshing access token.\n",
      "2023-09-15 10:11:40,827-[INFO]- dropbox:474 -> Request to files/list_folder\n",
      "2023-09-15 10:11:41,375-[INFO]- dropbox:390 -> Refreshing access token.\n",
      "2023-09-15 10:11:41,586-[INFO]- dropbox:474 -> Request to files/list_folder\n",
      "2023-09-15 10:11:42,069-[INFO]- dropbox:390 -> Refreshing access token.\n",
      "2023-09-15 10:11:42,285-[INFO]- dropbox:474 -> Request to files/list_folder\n",
      "2023-09-15 10:11:42,685-[INFO]- dropbox:390 -> Refreshing access token.\n",
      "2023-09-15 10:11:42,878-[INFO]- dropbox:474 -> Request to files/list_folder\n",
      "2023-09-15 10:11:43,432-[INFO]- dropbox:390 -> Refreshing access token.\n",
      "2023-09-15 10:11:43,630-[INFO]- dropbox:474 -> Request to files/list_folder\n",
      "2023-09-15 10:11:44,049-[INFO]- dropbox:390 -> Refreshing access token.\n",
      "2023-09-15 10:11:44,247-[INFO]- dropbox:474 -> Request to files/list_folder\n",
      "2023-09-15 10:11:44,595-[INFO]- dropbox:390 -> Refreshing access token.\n",
      "2023-09-15 10:11:44,797-[INFO]- dropbox:474 -> Request to files/list_folder\n",
      "2023-09-15 10:11:45,176-[INFO]- dropbox:390 -> Refreshing access token.\n",
      "2023-09-15 10:11:45,408-[INFO]- dropbox:474 -> Request to files/list_folder\n",
      "2023-09-15 10:11:45,785-[INFO]- dropbox:390 -> Refreshing access token.\n",
      "2023-09-15 10:11:46,027-[INFO]- dropbox:474 -> Request to files/list_folder\n",
      "2023-09-15 10:11:46,454-[INFO]- dropbox:390 -> Refreshing access token.\n",
      "2023-09-15 10:11:46,654-[INFO]- dropbox:474 -> Request to files/list_folder\n",
      "2023-09-15 10:11:47,197-[INFO]- dropbox:390 -> Refreshing access token.\n",
      "2023-09-15 10:11:47,401-[INFO]- dropbox:474 -> Request to files/list_folder\n",
      "2023-09-15 10:11:47,831-[INFO]- dropbox:390 -> Refreshing access token.\n",
      "2023-09-15 10:11:48,024-[INFO]- dropbox:474 -> Request to files/list_folder\n",
      "2023-09-15 10:11:48,464-[INFO]- dropbox:390 -> Refreshing access token.\n",
      "2023-09-15 10:11:48,656-[INFO]- dropbox:474 -> Request to files/list_folder\n",
      "2023-09-15 10:11:49,068-[INFO]- dropbox:390 -> Refreshing access token.\n",
      "2023-09-15 10:11:49,305-[INFO]- dropbox:474 -> Request to files/list_folder\n",
      "2023-09-15 10:11:49,680-[INFO]- dropbox:390 -> Refreshing access token.\n",
      "2023-09-15 10:11:49,879-[INFO]- dropbox:474 -> Request to files/list_folder\n",
      "2023-09-15 10:11:50,292-[INFO]- dropbox:390 -> Refreshing access token.\n",
      "2023-09-15 10:11:50,501-[INFO]- dropbox:474 -> Request to files/list_folder\n",
      "2023-09-15 10:11:50,898-[INFO]- dropbox:390 -> Refreshing access token.\n",
      "2023-09-15 10:11:51,092-[INFO]- dropbox:474 -> Request to files/list_folder\n",
      "2023-09-15 10:11:51,417-[INFO]- dropbox:390 -> Refreshing access token.\n",
      "2023-09-15 10:11:51,638-[INFO]- dropbox:474 -> Request to files/list_folder\n",
      "2023-09-15 10:11:51,988-[INFO]- dropbox:390 -> Refreshing access token.\n",
      "2023-09-15 10:11:52,187-[INFO]- dropbox:474 -> Request to files/list_folder\n",
      "2023-09-15 10:11:52,521-[INFO]- dropbox:390 -> Refreshing access token.\n",
      "2023-09-15 10:11:52,761-[INFO]- dropbox:474 -> Request to files/list_folder\n",
      "2023-09-15 10:11:53,092-[INFO]- dropbox:390 -> Refreshing access token.\n",
      "2023-09-15 10:11:53,305-[INFO]- dropbox:474 -> Request to files/list_folder\n",
      "2023-09-15 10:11:53,607-[INFO]- dropbox:390 -> Refreshing access token.\n",
      "2023-09-15 10:11:53,805-[INFO]- dropbox:474 -> Request to files/list_folder\n",
      "2023-09-15 10:11:54,142-[INFO]- dropbox:390 -> Refreshing access token.\n",
      "2023-09-15 10:11:54,339-[INFO]- dropbox:474 -> Request to files/list_folder\n",
      "2023-09-15 10:11:54,713-[INFO]- dropbox:390 -> Refreshing access token.\n",
      "2023-09-15 10:11:54,910-[INFO]- dropbox:474 -> Request to files/list_folder\n",
      "2023-09-15 10:11:55,295-[INFO]- dropbox:390 -> Refreshing access token.\n",
      "2023-09-15 10:11:55,519-[INFO]- dropbox:474 -> Request to files/list_folder\n",
      "2023-09-15 10:11:55,924-[INFO]- dropbox:390 -> Refreshing access token.\n",
      "2023-09-15 10:11:56,146-[INFO]- dropbox:474 -> Request to files/list_folder\n",
      "2023-09-15 10:11:56,559-[INFO]- dropbox:390 -> Refreshing access token.\n",
      "2023-09-15 10:11:56,761-[INFO]- dropbox:474 -> Request to files/list_folder\n",
      "2023-09-15 10:11:57,094-[INFO]- dropbox:390 -> Refreshing access token.\n",
      "2023-09-15 10:11:57,304-[INFO]- dropbox:474 -> Request to files/list_folder\n",
      "2023-09-15 10:11:57,663-[INFO]- dropbox:390 -> Refreshing access token.\n",
      "2023-09-15 10:11:57,891-[INFO]- dropbox:474 -> Request to files/list_folder\n",
      "2023-09-15 10:11:58,311-[INFO]- dropbox:390 -> Refreshing access token.\n",
      "2023-09-15 10:11:58,535-[INFO]- dropbox:474 -> Request to files/list_folder\n",
      "2023-09-15 10:11:58,857-[INFO]- dropbox:390 -> Refreshing access token.\n",
      "2023-09-15 10:11:59,051-[INFO]- dropbox:474 -> Request to files/list_folder\n",
      "2023-09-15 10:11:59,398-[INFO]- dropbox:390 -> Refreshing access token.\n",
      "2023-09-15 10:11:59,595-[INFO]- dropbox:474 -> Request to files/list_folder\n",
      "2023-09-15 10:11:59,924-[INFO]- dropbox:390 -> Refreshing access token.\n",
      "2023-09-15 10:12:00,134-[INFO]- dropbox:474 -> Request to files/list_folder\n",
      "2023-09-15 10:12:00,528-[INFO]- dropbox:390 -> Refreshing access token.\n",
      "2023-09-15 10:12:00,726-[INFO]- dropbox:474 -> Request to files/list_folder\n",
      "2023-09-15 10:12:01,077-[INFO]- dropbox:390 -> Refreshing access token.\n",
      "2023-09-15 10:12:01,273-[INFO]- dropbox:474 -> Request to files/list_folder\n",
      "2023-09-15 10:12:01,582-[INFO]- dropbox:390 -> Refreshing access token.\n",
      "2023-09-15 10:12:01,778-[INFO]- dropbox:474 -> Request to files/list_folder\n",
      "2023-09-15 10:12:02,093-[INFO]- dropbox:390 -> Refreshing access token.\n",
      "2023-09-15 10:12:02,325-[INFO]- dropbox:474 -> Request to files/list_folder\n",
      "2023-09-15 10:12:02,702-[INFO]- dropbox:390 -> Refreshing access token.\n",
      "2023-09-15 10:12:02,918-[INFO]- dropbox:474 -> Request to files/list_folder\n",
      "2023-09-15 10:12:03,267-[INFO]- dropbox:390 -> Refreshing access token.\n",
      "2023-09-15 10:12:03,487-[INFO]- dropbox:474 -> Request to files/list_folder\n",
      "2023-09-15 10:12:03,832-[INFO]- dropbox:390 -> Refreshing access token.\n",
      "2023-09-15 10:12:04,032-[INFO]- dropbox:474 -> Request to files/list_folder\n",
      "2023-09-15 10:12:04,392-[INFO]- dropbox:390 -> Refreshing access token.\n",
      "2023-09-15 10:12:04,586-[INFO]- dropbox:474 -> Request to files/list_folder\n",
      "2023-09-15 10:12:05,156-[INFO]- dropbox:390 -> Refreshing access token.\n",
      "2023-09-15 10:12:05,361-[INFO]- dropbox:474 -> Request to files/list_folder\n",
      "2023-09-15 10:12:05,816-[INFO]- dropbox:390 -> Refreshing access token.\n",
      "2023-09-15 10:12:06,019-[INFO]- dropbox:474 -> Request to files/list_folder\n",
      "2023-09-15 10:12:06,445-[INFO]- dropbox:390 -> Refreshing access token.\n",
      "2023-09-15 10:12:06,774-[INFO]- dropbox:474 -> Request to files/list_folder\n",
      "2023-09-15 10:12:07,143-[INFO]- dropbox:390 -> Refreshing access token.\n",
      "2023-09-15 10:12:07,346-[INFO]- dropbox:474 -> Request to files/list_folder\n",
      "2023-09-15 10:12:07,719-[INFO]- dropbox:390 -> Refreshing access token.\n",
      "2023-09-15 10:12:07,921-[INFO]- dropbox:474 -> Request to files/list_folder\n",
      "2023-09-15 10:12:08,236-[INFO]- dropbox:390 -> Refreshing access token.\n",
      "2023-09-15 10:12:08,567-[INFO]- dropbox:474 -> Request to files/list_folder\n",
      "2023-09-15 10:12:08,918-[INFO]- dropbox:390 -> Refreshing access token.\n",
      "2023-09-15 10:12:09,127-[INFO]- dropbox:474 -> Request to files/list_folder\n",
      "2023-09-15 10:12:09,608-[INFO]- dropbox:390 -> Refreshing access token.\n",
      "2023-09-15 10:12:09,831-[INFO]- dropbox:474 -> Request to files/list_folder\n",
      "2023-09-15 10:12:10,125-[INFO]- dropbox:390 -> Refreshing access token.\n",
      "2023-09-15 10:12:10,332-[INFO]- dropbox:474 -> Request to files/list_folder\n",
      "2023-09-15 10:12:10,730-[INFO]- dropbox:390 -> Refreshing access token.\n",
      "2023-09-15 10:12:10,936-[INFO]- dropbox:474 -> Request to files/list_folder\n",
      "2023-09-15 10:12:11,352-[INFO]- dropbox:390 -> Refreshing access token.\n",
      "2023-09-15 10:12:11,552-[INFO]- dropbox:474 -> Request to files/list_folder\n",
      "2023-09-15 10:12:12,022-[INFO]- dropbox:390 -> Refreshing access token.\n",
      "2023-09-15 10:12:12,243-[INFO]- dropbox:474 -> Request to files/list_folder\n",
      "2023-09-15 10:12:12,705-[INFO]- dropbox:390 -> Refreshing access token.\n",
      "2023-09-15 10:12:12,981-[INFO]- dropbox:474 -> Request to files/list_folder\n",
      "2023-09-15 10:12:13,408-[INFO]- dropbox:390 -> Refreshing access token.\n",
      "2023-09-15 10:12:13,613-[INFO]- dropbox:474 -> Request to files/list_folder\n",
      "2023-09-15 10:12:13,941-[INFO]- dropbox:390 -> Refreshing access token.\n",
      "2023-09-15 10:12:14,141-[INFO]- dropbox:474 -> Request to files/list_folder\n",
      "2023-09-15 10:12:14,453-[INFO]- dropbox:390 -> Refreshing access token.\n",
      "2023-09-15 10:12:14,652-[INFO]- dropbox:474 -> Request to files/list_folder\n",
      "2023-09-15 10:12:15,078-[INFO]- dropbox:390 -> Refreshing access token.\n",
      "2023-09-15 10:12:15,277-[INFO]- dropbox:474 -> Request to files/list_folder\n",
      "2023-09-15 10:12:15,703-[INFO]- dropbox:390 -> Refreshing access token.\n",
      "2023-09-15 10:12:15,929-[INFO]- dropbox:474 -> Request to files/list_folder\n",
      "2023-09-15 10:12:16,271-[INFO]- dropbox:390 -> Refreshing access token.\n",
      "2023-09-15 10:12:16,493-[INFO]- dropbox:474 -> Request to files/list_folder\n",
      "2023-09-15 10:12:16,967-[INFO]- dropbox:390 -> Refreshing access token.\n",
      "2023-09-15 10:12:17,167-[INFO]- dropbox:474 -> Request to files/list_folder\n",
      "2023-09-15 10:12:17,543-[INFO]- dropbox:390 -> Refreshing access token.\n",
      "2023-09-15 10:12:17,738-[INFO]- dropbox:474 -> Request to files/list_folder\n",
      "2023-09-15 10:12:18,120-[INFO]- dropbox:390 -> Refreshing access token.\n",
      "2023-09-15 10:12:18,355-[INFO]- dropbox:474 -> Request to files/list_folder\n",
      "2023-09-15 10:12:18,805-[INFO]- dropbox:390 -> Refreshing access token.\n",
      "2023-09-15 10:12:19,025-[INFO]- dropbox:474 -> Request to files/list_folder\n",
      "2023-09-15 10:12:19,400-[INFO]- dropbox:390 -> Refreshing access token.\n",
      "2023-09-15 10:12:19,611-[INFO]- dropbox:474 -> Request to files/list_folder\n",
      "2023-09-15 10:12:19,926-[INFO]- dropbox:390 -> Refreshing access token.\n",
      "2023-09-15 10:12:20,145-[INFO]- dropbox:474 -> Request to files/list_folder\n",
      "2023-09-15 10:12:20,555-[INFO]- dropbox:390 -> Refreshing access token.\n",
      "2023-09-15 10:12:20,752-[INFO]- dropbox:474 -> Request to files/list_folder\n",
      "2023-09-15 10:12:21,077-[INFO]- dropbox:390 -> Refreshing access token.\n",
      "2023-09-15 10:12:21,299-[INFO]- dropbox:474 -> Request to files/list_folder\n",
      "2023-09-15 10:12:21,842-[INFO]- dropbox:390 -> Refreshing access token.\n",
      "2023-09-15 10:12:22,060-[INFO]- dropbox:474 -> Request to files/list_folder\n",
      "2023-09-15 10:12:22,425-[INFO]- dropbox:390 -> Refreshing access token.\n",
      "2023-09-15 10:12:22,617-[INFO]- dropbox:474 -> Request to files/list_folder\n",
      "2023-09-15 10:12:23,038-[INFO]- dropbox:390 -> Refreshing access token.\n",
      "2023-09-15 10:12:23,228-[INFO]- dropbox:474 -> Request to files/list_folder\n",
      "2023-09-15 10:12:23,550-[INFO]- dropbox:390 -> Refreshing access token.\n",
      "2023-09-15 10:12:23,747-[INFO]- dropbox:474 -> Request to files/list_folder\n",
      "2023-09-15 10:12:24,142-[INFO]- dropbox:390 -> Refreshing access token.\n",
      "2023-09-15 10:12:24,341-[INFO]- dropbox:474 -> Request to files/list_folder\n",
      "2023-09-15 10:12:24,722-[INFO]- dropbox:390 -> Refreshing access token.\n",
      "2023-09-15 10:12:24,922-[INFO]- dropbox:474 -> Request to files/list_folder\n",
      "2023-09-15 10:12:25,247-[INFO]- dropbox:390 -> Refreshing access token.\n",
      "2023-09-15 10:12:25,450-[INFO]- dropbox:474 -> Request to files/list_folder\n",
      "2023-09-15 10:12:25,763-[INFO]- dropbox:390 -> Refreshing access token.\n",
      "2023-09-15 10:12:25,964-[INFO]- dropbox:474 -> Request to files/list_folder\n",
      "2023-09-15 10:12:26,255-[INFO]- dropbox:390 -> Refreshing access token.\n",
      "2023-09-15 10:12:26,482-[INFO]- dropbox:474 -> Request to files/list_folder\n",
      "2023-09-15 10:12:27,268-[INFO]- dropbox:390 -> Refreshing access token.\n",
      "2023-09-15 10:12:27,470-[INFO]- dropbox:474 -> Request to files/list_folder\n",
      "2023-09-15 10:12:28,208-[INFO]- dropbox:390 -> Refreshing access token.\n",
      "2023-09-15 10:12:28,406-[INFO]- dropbox:474 -> Request to files/list_folder\n",
      "2023-09-15 10:12:28,711-[INFO]- dropbox:390 -> Refreshing access token.\n",
      "2023-09-15 10:12:28,911-[INFO]- dropbox:474 -> Request to files/list_folder\n",
      "2023-09-15 10:12:29,280-[INFO]- dropbox:390 -> Refreshing access token.\n",
      "2023-09-15 10:12:29,485-[INFO]- dropbox:474 -> Request to files/list_folder\n",
      "2023-09-15 10:12:29,956-[INFO]- dropbox:390 -> Refreshing access token.\n",
      "2023-09-15 10:12:30,152-[INFO]- dropbox:474 -> Request to files/list_folder\n",
      "2023-09-15 10:12:30,556-[INFO]- dropbox:390 -> Refreshing access token.\n",
      "2023-09-15 10:12:30,769-[INFO]- dropbox:474 -> Request to files/list_folder\n",
      "2023-09-15 10:12:31,189-[INFO]- dropbox:390 -> Refreshing access token.\n",
      "2023-09-15 10:12:31,388-[INFO]- dropbox:474 -> Request to files/list_folder\n",
      "2023-09-15 10:12:31,955-[INFO]- dropbox:390 -> Refreshing access token.\n",
      "2023-09-15 10:12:32,198-[INFO]- dropbox:474 -> Request to files/list_folder\n",
      "2023-09-15 10:12:32,669-[INFO]- dropbox:390 -> Refreshing access token.\n",
      "2023-09-15 10:12:32,877-[INFO]- dropbox:474 -> Request to files/list_folder\n",
      "2023-09-15 10:12:33,404-[INFO]- dropbox:390 -> Refreshing access token.\n",
      "2023-09-15 10:12:33,600-[INFO]- dropbox:474 -> Request to files/list_folder\n",
      "2023-09-15 10:12:33,926-[INFO]- dropbox:390 -> Refreshing access token.\n",
      "2023-09-15 10:12:34,119-[INFO]- dropbox:474 -> Request to files/list_folder\n",
      "2023-09-15 10:12:34,561-[INFO]- dropbox:390 -> Refreshing access token.\n",
      "2023-09-15 10:12:34,780-[INFO]- dropbox:474 -> Request to files/list_folder\n",
      "2023-09-15 10:12:35,126-[INFO]- dropbox:390 -> Refreshing access token.\n",
      "2023-09-15 10:12:35,321-[INFO]- dropbox:474 -> Request to files/list_folder\n",
      "2023-09-15 10:12:35,753-[INFO]- dropbox:390 -> Refreshing access token.\n",
      "2023-09-15 10:12:35,953-[INFO]- dropbox:474 -> Request to files/list_folder\n",
      "2023-09-15 10:12:36,487-[INFO]- dropbox:390 -> Refreshing access token.\n",
      "2023-09-15 10:12:36,707-[INFO]- dropbox:474 -> Request to files/list_folder\n",
      "2023-09-15 10:12:37,037-[INFO]- dropbox:390 -> Refreshing access token.\n",
      "2023-09-15 10:12:37,254-[INFO]- dropbox:474 -> Request to files/list_folder\n",
      "2023-09-15 10:12:37,626-[INFO]- dropbox:390 -> Refreshing access token.\n",
      "2023-09-15 10:12:37,822-[INFO]- dropbox:474 -> Request to files/list_folder\n",
      "2023-09-15 10:12:38,368-[INFO]- dropbox:390 -> Refreshing access token.\n",
      "2023-09-15 10:12:38,561-[INFO]- dropbox:474 -> Request to files/list_folder\n",
      "2023-09-15 10:12:38,989-[INFO]- dropbox:390 -> Refreshing access token.\n",
      "2023-09-15 10:12:39,203-[INFO]- dropbox:474 -> Request to files/list_folder\n",
      "2023-09-15 10:12:39,901-[INFO]- dropbox:390 -> Refreshing access token.\n",
      "2023-09-15 10:12:40,120-[INFO]- dropbox:474 -> Request to files/list_folder\n",
      "2023-09-15 10:12:40,636-[INFO]- dropbox:390 -> Refreshing access token.\n",
      "2023-09-15 10:12:40,830-[INFO]- dropbox:474 -> Request to files/list_folder\n",
      "2023-09-15 10:12:41,296-[INFO]- dropbox:390 -> Refreshing access token.\n",
      "2023-09-15 10:12:41,500-[INFO]- dropbox:474 -> Request to files/list_folder\n",
      "2023-09-15 10:12:41,926-[INFO]- dropbox:390 -> Refreshing access token.\n",
      "2023-09-15 10:12:42,142-[INFO]- dropbox:474 -> Request to files/list_folder\n",
      "2023-09-15 10:12:42,545-[INFO]- dropbox:390 -> Refreshing access token.\n",
      "2023-09-15 10:12:42,745-[INFO]- dropbox:474 -> Request to files/list_folder\n",
      "2023-09-15 10:12:43,174-[INFO]- dropbox:390 -> Refreshing access token.\n",
      "2023-09-15 10:12:43,498-[INFO]- dropbox:474 -> Request to files/list_folder\n",
      "2023-09-15 10:12:44,490-[INFO]- dropbox:390 -> Refreshing access token.\n",
      "2023-09-15 10:12:44,736-[INFO]- dropbox:474 -> Request to files/list_folder\n",
      "2023-09-15 10:12:45,186-[INFO]- dropbox:390 -> Refreshing access token.\n",
      "2023-09-15 10:12:45,395-[INFO]- dropbox:474 -> Request to files/list_folder\n",
      "2023-09-15 10:12:45,779-[INFO]- dropbox:390 -> Refreshing access token.\n",
      "2023-09-15 10:12:45,975-[INFO]- dropbox:474 -> Request to files/list_folder\n",
      "2023-09-15 10:12:46,291-[INFO]- dropbox:390 -> Refreshing access token.\n",
      "2023-09-15 10:12:46,495-[INFO]- dropbox:474 -> Request to files/list_folder\n",
      "2023-09-15 10:12:46,820-[INFO]- dropbox:390 -> Refreshing access token.\n",
      "2023-09-15 10:12:47,036-[INFO]- dropbox:474 -> Request to files/list_folder\n",
      "2023-09-15 10:12:47,452-[INFO]- dropbox:390 -> Refreshing access token.\n",
      "2023-09-15 10:12:47,650-[INFO]- dropbox:474 -> Request to files/list_folder\n",
      "2023-09-15 10:12:48,113-[INFO]- dropbox:390 -> Refreshing access token.\n",
      "2023-09-15 10:12:48,305-[INFO]- dropbox:474 -> Request to files/list_folder\n",
      "2023-09-15 10:12:48,665-[INFO]- dropbox:390 -> Refreshing access token.\n",
      "2023-09-15 10:12:48,883-[INFO]- dropbox:474 -> Request to files/list_folder\n",
      "2023-09-15 10:12:49,331-[INFO]- dropbox:390 -> Refreshing access token.\n",
      "2023-09-15 10:12:49,554-[INFO]- dropbox:474 -> Request to files/list_folder\n",
      "2023-09-15 10:12:50,085-[INFO]- dropbox:390 -> Refreshing access token.\n",
      "2023-09-15 10:12:50,285-[INFO]- dropbox:474 -> Request to files/list_folder\n",
      "2023-09-15 10:12:50,652-[INFO]- dropbox:390 -> Refreshing access token.\n",
      "2023-09-15 10:12:50,857-[INFO]- dropbox:474 -> Request to files/list_folder\n",
      "2023-09-15 10:12:51,178-[INFO]- dropbox:390 -> Refreshing access token.\n",
      "2023-09-15 10:12:51,414-[INFO]- dropbox:474 -> Request to files/list_folder\n",
      "2023-09-15 10:12:51,748-[INFO]- dropbox:390 -> Refreshing access token.\n",
      "2023-09-15 10:12:51,985-[INFO]- dropbox:474 -> Request to files/list_folder\n",
      "2023-09-15 10:12:52,305-[INFO]- dropbox:390 -> Refreshing access token.\n",
      "2023-09-15 10:12:52,503-[INFO]- dropbox:474 -> Request to files/list_folder\n",
      "2023-09-15 10:12:53,062-[INFO]- dropbox:390 -> Refreshing access token.\n",
      "2023-09-15 10:12:53,312-[INFO]- dropbox:474 -> Request to files/list_folder\n",
      "2023-09-15 10:12:53,912-[INFO]- dropbox:390 -> Refreshing access token.\n",
      "2023-09-15 10:12:54,137-[INFO]- dropbox:474 -> Request to files/list_folder\n",
      "2023-09-15 10:12:54,590-[INFO]- dropbox:390 -> Refreshing access token.\n",
      "2023-09-15 10:12:54,790-[INFO]- dropbox:474 -> Request to files/list_folder\n",
      "2023-09-15 10:12:56,147-[INFO]- dropbox:390 -> Refreshing access token.\n",
      "2023-09-15 10:12:56,343-[INFO]- dropbox:474 -> Request to files/list_folder\n",
      "2023-09-15 10:12:56,914-[INFO]- dropbox:390 -> Refreshing access token.\n",
      "2023-09-15 10:12:57,139-[INFO]- dropbox:474 -> Request to files/list_folder\n",
      "2023-09-15 10:12:57,473-[INFO]- dropbox:390 -> Refreshing access token.\n",
      "2023-09-15 10:12:57,664-[INFO]- dropbox:474 -> Request to files/list_folder\n",
      "2023-09-15 10:12:57,948-[INFO]- dropbox:390 -> Refreshing access token.\n",
      "2023-09-15 10:12:58,147-[INFO]- dropbox:474 -> Request to files/list_folder\n",
      "2023-09-15 10:12:58,471-[INFO]- dropbox:390 -> Refreshing access token.\n",
      "2023-09-15 10:12:58,672-[INFO]- dropbox:474 -> Request to files/list_folder\n",
      "2023-09-15 10:12:59,042-[INFO]- dropbox:390 -> Refreshing access token.\n",
      "2023-09-15 10:12:59,269-[INFO]- dropbox:474 -> Request to files/list_folder\n",
      "2023-09-15 10:12:59,692-[INFO]- dropbox:390 -> Refreshing access token.\n",
      "2023-09-15 10:12:59,889-[INFO]- dropbox:474 -> Request to files/list_folder\n",
      "2023-09-15 10:13:00,303-[INFO]- dropbox:390 -> Refreshing access token.\n",
      "2023-09-15 10:13:00,577-[INFO]- dropbox:474 -> Request to files/list_folder\n",
      "2023-09-15 10:13:01,077-[INFO]- dropbox:390 -> Refreshing access token.\n",
      "2023-09-15 10:13:01,298-[INFO]- dropbox:474 -> Request to files/list_folder\n",
      "2023-09-15 10:13:01,837-[INFO]- dropbox:390 -> Refreshing access token.\n",
      "2023-09-15 10:13:02,165-[INFO]- dropbox:474 -> Request to files/list_folder\n",
      "2023-09-15 10:13:02,549-[INFO]- dropbox:390 -> Refreshing access token.\n",
      "2023-09-15 10:13:02,829-[INFO]- dropbox:474 -> Request to files/list_folder\n",
      "2023-09-15 10:13:03,161-[INFO]- dropbox:390 -> Refreshing access token.\n",
      "2023-09-15 10:13:03,358-[INFO]- dropbox:474 -> Request to files/list_folder\n",
      "2023-09-15 10:13:04,262-[INFO]- dropbox:390 -> Refreshing access token.\n",
      "2023-09-15 10:13:04,471-[INFO]- dropbox:474 -> Request to files/list_folder\n",
      "2023-09-15 10:13:04,933-[INFO]- dropbox:390 -> Refreshing access token.\n",
      "2023-09-15 10:13:05,138-[INFO]- dropbox:474 -> Request to files/list_folder\n",
      "2023-09-15 10:13:05,552-[INFO]- dropbox:390 -> Refreshing access token.\n",
      "2023-09-15 10:13:05,803-[INFO]- dropbox:474 -> Request to files/list_folder\n",
      "2023-09-15 10:13:06,169-[INFO]- dropbox:390 -> Refreshing access token.\n",
      "2023-09-15 10:13:06,366-[INFO]- dropbox:474 -> Request to files/list_folder\n",
      "2023-09-15 10:13:06,816-[INFO]- dropbox:390 -> Refreshing access token.\n",
      "2023-09-15 10:13:07,019-[INFO]- dropbox:474 -> Request to files/list_folder\n",
      "2023-09-15 10:13:07,365-[INFO]- dropbox:390 -> Refreshing access token.\n",
      "2023-09-15 10:13:07,563-[INFO]- dropbox:474 -> Request to files/list_folder\n",
      "2023-09-15 10:13:07,971-[INFO]- dropbox:390 -> Refreshing access token.\n",
      "2023-09-15 10:13:08,173-[INFO]- dropbox:474 -> Request to files/list_folder\n",
      "2023-09-15 10:13:08,633-[INFO]- dropbox:390 -> Refreshing access token.\n",
      "2023-09-15 10:13:08,843-[INFO]- dropbox:474 -> Request to files/list_folder\n",
      "2023-09-15 10:13:09,273-[INFO]- dropbox:390 -> Refreshing access token.\n",
      "2023-09-15 10:13:09,496-[INFO]- dropbox:474 -> Request to files/list_folder\n",
      "2023-09-15 10:13:10,018-[INFO]- dropbox:390 -> Refreshing access token.\n",
      "2023-09-15 10:13:10,317-[INFO]- dropbox:474 -> Request to files/list_folder\n",
      "2023-09-15 10:13:10,790-[INFO]- dropbox:390 -> Refreshing access token.\n",
      "2023-09-15 10:13:11,003-[INFO]- dropbox:474 -> Request to files/list_folder\n",
      "2023-09-15 10:13:11,447-[INFO]- dropbox:390 -> Refreshing access token.\n",
      "2023-09-15 10:13:11,647-[INFO]- dropbox:474 -> Request to files/list_folder\n",
      "2023-09-15 10:13:11,981-[INFO]- dropbox:390 -> Refreshing access token.\n",
      "2023-09-15 10:13:12,180-[INFO]- dropbox:474 -> Request to files/list_folder\n",
      "2023-09-15 10:13:12,776-[INFO]- dropbox:390 -> Refreshing access token.\n",
      "2023-09-15 10:13:12,986-[INFO]- dropbox:474 -> Request to files/list_folder\n",
      "2023-09-15 10:13:13,502-[INFO]- dropbox:390 -> Refreshing access token.\n",
      "2023-09-15 10:13:13,711-[INFO]- dropbox:474 -> Request to files/list_folder\n",
      "2023-09-15 10:13:14,047-[INFO]- dropbox:390 -> Refreshing access token.\n",
      "2023-09-15 10:13:14,279-[INFO]- dropbox:474 -> Request to files/list_folder\n",
      "2023-09-15 10:13:14,785-[INFO]- dropbox:390 -> Refreshing access token.\n",
      "2023-09-15 10:13:14,990-[INFO]- dropbox:474 -> Request to files/list_folder\n",
      "2023-09-15 10:13:15,423-[INFO]- dropbox:390 -> Refreshing access token.\n",
      "2023-09-15 10:13:15,629-[INFO]- dropbox:474 -> Request to files/list_folder\n",
      "2023-09-15 10:13:16,025-[INFO]- dropbox:390 -> Refreshing access token.\n",
      "2023-09-15 10:13:16,229-[INFO]- dropbox:474 -> Request to files/list_folder\n",
      "2023-09-15 10:13:16,700-[INFO]- dropbox:390 -> Refreshing access token.\n",
      "2023-09-15 10:13:16,917-[INFO]- dropbox:474 -> Request to files/list_folder\n",
      "2023-09-15 10:13:17,388-[INFO]- dropbox:390 -> Refreshing access token.\n",
      "2023-09-15 10:13:17,639-[INFO]- dropbox:474 -> Request to files/list_folder\n",
      "2023-09-15 10:13:18,093-[INFO]- dropbox:390 -> Refreshing access token.\n",
      "2023-09-15 10:13:18,300-[INFO]- dropbox:474 -> Request to files/list_folder\n",
      "2023-09-15 10:13:18,755-[INFO]- dropbox:390 -> Refreshing access token.\n",
      "2023-09-15 10:13:18,948-[INFO]- dropbox:474 -> Request to files/list_folder\n",
      "2023-09-15 10:13:19,358-[INFO]- dropbox:390 -> Refreshing access token.\n",
      "2023-09-15 10:13:19,557-[INFO]- dropbox:474 -> Request to files/list_folder\n",
      "2023-09-15 10:13:20,020-[INFO]- dropbox:390 -> Refreshing access token.\n",
      "2023-09-15 10:13:20,238-[INFO]- dropbox:474 -> Request to files/list_folder\n",
      "2023-09-15 10:13:20,931-[INFO]- dropbox:390 -> Refreshing access token.\n",
      "2023-09-15 10:13:21,132-[INFO]- dropbox:474 -> Request to files/list_folder\n",
      "2023-09-15 10:13:21,532-[INFO]- dropbox:390 -> Refreshing access token.\n",
      "2023-09-15 10:13:21,734-[INFO]- dropbox:474 -> Request to files/list_folder\n",
      "2023-09-15 10:13:22,092-[INFO]- dropbox:390 -> Refreshing access token.\n",
      "2023-09-15 10:13:22,309-[INFO]- dropbox:474 -> Request to files/list_folder\n",
      "2023-09-15 10:13:22,685-[INFO]- dropbox:390 -> Refreshing access token.\n",
      "2023-09-15 10:13:22,886-[INFO]- dropbox:474 -> Request to files/list_folder\n",
      "2023-09-15 10:13:23,300-[INFO]- dropbox:390 -> Refreshing access token.\n",
      "2023-09-15 10:13:23,496-[INFO]- dropbox:474 -> Request to files/list_folder\n",
      "2023-09-15 10:13:23,834-[INFO]- dropbox:390 -> Refreshing access token.\n",
      "2023-09-15 10:13:24,031-[INFO]- dropbox:474 -> Request to files/list_folder\n",
      "2023-09-15 10:13:24,385-[INFO]- dropbox:390 -> Refreshing access token.\n",
      "2023-09-15 10:13:24,585-[INFO]- dropbox:474 -> Request to files/list_folder\n",
      "2023-09-15 10:13:24,883-[INFO]- dropbox:390 -> Refreshing access token.\n",
      "2023-09-15 10:13:25,088-[INFO]- dropbox:474 -> Request to files/list_folder\n",
      "2023-09-15 10:13:25,446-[INFO]- dropbox:390 -> Refreshing access token.\n",
      "2023-09-15 10:13:25,649-[INFO]- dropbox:474 -> Request to files/list_folder\n",
      "2023-09-15 10:13:25,934-[INFO]- dropbox:390 -> Refreshing access token.\n",
      "2023-09-15 10:13:26,131-[INFO]- dropbox:474 -> Request to files/list_folder\n",
      "2023-09-15 10:13:26,431-[INFO]- dropbox:390 -> Refreshing access token.\n",
      "2023-09-15 10:13:26,635-[INFO]- dropbox:474 -> Request to files/list_folder\n",
      "2023-09-15 10:13:26,912-[INFO]- dropbox:390 -> Refreshing access token.\n",
      "2023-09-15 10:13:27,112-[INFO]- dropbox:474 -> Request to files/list_folder\n",
      "2023-09-15 10:13:27,416-[INFO]- dropbox:390 -> Refreshing access token.\n",
      "2023-09-15 10:13:27,610-[INFO]- dropbox:474 -> Request to files/list_folder\n",
      "2023-09-15 10:13:27,898-[INFO]- dropbox:390 -> Refreshing access token.\n",
      "2023-09-15 10:13:28,323-[INFO]- dropbox:474 -> Request to files/list_folder\n",
      "2023-09-15 10:13:28,961-[INFO]- dropbox:390 -> Refreshing access token.\n",
      "2023-09-15 10:13:29,158-[INFO]- dropbox:474 -> Request to files/list_folder\n",
      "2023-09-15 10:13:29,437-[INFO]- dropbox:390 -> Refreshing access token.\n",
      "2023-09-15 10:13:29,674-[INFO]- dropbox:474 -> Request to files/list_folder\n",
      "2023-09-15 10:13:29,951-[INFO]- dropbox:390 -> Refreshing access token.\n",
      "2023-09-15 10:13:30,187-[INFO]- dropbox:474 -> Request to files/list_folder\n",
      "2023-09-15 10:13:30,547-[INFO]- dropbox:390 -> Refreshing access token.\n",
      "2023-09-15 10:13:30,739-[INFO]- dropbox:474 -> Request to files/list_folder\n",
      "2023-09-15 10:13:31,328-[INFO]- dropbox:390 -> Refreshing access token.\n",
      "2023-09-15 10:13:31,554-[INFO]- dropbox:474 -> Request to files/list_folder\n",
      "2023-09-15 10:13:31,855-[INFO]- dropbox:390 -> Refreshing access token.\n",
      "2023-09-15 10:13:32,048-[INFO]- dropbox:474 -> Request to files/list_folder\n",
      "2023-09-15 10:13:32,344-[INFO]- dropbox:390 -> Refreshing access token.\n",
      "2023-09-15 10:13:32,550-[INFO]- dropbox:474 -> Request to files/list_folder\n",
      "2023-09-15 10:13:33,216-[INFO]- dropbox:474 -> Request to files/list_folder/continue\n",
      "2023-09-15 10:13:33,701-[INFO]- dropbox:390 -> Refreshing access token.\n",
      "2023-09-15 10:13:33,926-[INFO]- dropbox:474 -> Request to files/list_folder\n",
      "2023-09-15 10:13:34,209-[INFO]- dropbox:390 -> Refreshing access token.\n",
      "2023-09-15 10:13:34,431-[INFO]- dropbox:474 -> Request to files/list_folder\n",
      "2023-09-15 10:13:34,735-[INFO]- dropbox:390 -> Refreshing access token.\n",
      "2023-09-15 10:13:34,941-[INFO]- dropbox:474 -> Request to files/list_folder\n",
      "2023-09-15 10:13:35,242-[INFO]- dropbox:390 -> Refreshing access token.\n",
      "2023-09-15 10:13:35,436-[INFO]- dropbox:474 -> Request to files/list_folder\n",
      "2023-09-15 10:13:35,707-[INFO]- dropbox:390 -> Refreshing access token.\n",
      "2023-09-15 10:13:35,914-[INFO]- dropbox:474 -> Request to files/list_folder\n",
      "2023-09-15 10:13:36,317-[INFO]- dropbox:390 -> Refreshing access token.\n",
      "2023-09-15 10:13:36,512-[INFO]- dropbox:474 -> Request to files/list_folder\n",
      "2023-09-15 10:13:36,789-[INFO]- dropbox:390 -> Refreshing access token.\n",
      "2023-09-15 10:13:37,020-[INFO]- dropbox:474 -> Request to files/list_folder\n",
      "2023-09-15 10:13:37,374-[INFO]- dropbox:390 -> Refreshing access token.\n",
      "2023-09-15 10:13:37,574-[INFO]- dropbox:474 -> Request to files/list_folder\n",
      "2023-09-15 10:13:37,920-[INFO]- dropbox:390 -> Refreshing access token.\n",
      "2023-09-15 10:13:38,131-[INFO]- dropbox:474 -> Request to files/list_folder\n",
      "2023-09-15 10:13:38,474-[INFO]- dropbox:390 -> Refreshing access token.\n",
      "2023-09-15 10:13:38,683-[INFO]- dropbox:474 -> Request to files/list_folder\n",
      "2023-09-15 10:13:39,060-[INFO]- dropbox:390 -> Refreshing access token.\n",
      "2023-09-15 10:13:39,262-[INFO]- dropbox:474 -> Request to files/list_folder\n",
      "2023-09-15 10:13:40,224-[INFO]- dropbox:474 -> Request to files/list_folder/continue\n",
      "2023-09-15 10:13:40,550-[INFO]- dropbox:390 -> Refreshing access token.\n",
      "2023-09-15 10:13:40,746-[INFO]- dropbox:474 -> Request to files/list_folder\n",
      "2023-09-15 10:13:41,070-[INFO]- dropbox:390 -> Refreshing access token.\n",
      "2023-09-15 10:13:41,272-[INFO]- dropbox:474 -> Request to files/list_folder\n",
      "2023-09-15 10:13:41,588-[INFO]- dropbox:390 -> Refreshing access token.\n",
      "2023-09-15 10:13:41,790-[INFO]- dropbox:474 -> Request to files/list_folder\n",
      "2023-09-15 10:13:42,243-[INFO]- dropbox:390 -> Refreshing access token.\n",
      "2023-09-15 10:13:42,447-[INFO]- dropbox:474 -> Request to files/list_folder\n",
      "2023-09-15 10:13:42,771-[INFO]- dropbox:390 -> Refreshing access token.\n",
      "2023-09-15 10:13:42,985-[INFO]- dropbox:474 -> Request to files/list_folder\n",
      "2023-09-15 10:13:43,293-[INFO]- dropbox:390 -> Refreshing access token.\n",
      "2023-09-15 10:13:43,498-[INFO]- dropbox:474 -> Request to files/list_folder\n",
      "2023-09-15 10:13:43,791-[INFO]- dropbox:390 -> Refreshing access token.\n",
      "2023-09-15 10:13:44,014-[INFO]- dropbox:474 -> Request to files/list_folder\n",
      "2023-09-15 10:13:44,281-[INFO]- dropbox:390 -> Refreshing access token.\n",
      "2023-09-15 10:13:44,583-[INFO]- dropbox:474 -> Request to files/list_folder\n",
      "2023-09-15 10:13:44,918-[INFO]- dropbox:390 -> Refreshing access token.\n",
      "2023-09-15 10:13:45,117-[INFO]- dropbox:474 -> Request to files/list_folder\n",
      "2023-09-15 10:13:45,450-[INFO]- dropbox:390 -> Refreshing access token.\n",
      "2023-09-15 10:13:45,721-[INFO]- dropbox:474 -> Request to files/list_folder\n",
      "2023-09-15 10:13:46,014-[INFO]- dropbox:390 -> Refreshing access token.\n",
      "2023-09-15 10:13:46,224-[INFO]- dropbox:474 -> Request to files/list_folder\n",
      "2023-09-15 10:13:46,506-[INFO]- dropbox:390 -> Refreshing access token.\n",
      "2023-09-15 10:13:46,728-[INFO]- dropbox:474 -> Request to files/list_folder\n",
      "2023-09-15 10:13:47,040-[INFO]- dropbox:390 -> Refreshing access token.\n",
      "2023-09-15 10:13:47,452-[INFO]- dropbox:474 -> Request to files/list_folder\n",
      "2023-09-15 10:13:47,727-[INFO]- dropbox:390 -> Refreshing access token.\n",
      "2023-09-15 10:13:48,059-[INFO]- dropbox:474 -> Request to files/list_folder\n",
      "2023-09-15 10:13:48,380-[INFO]- dropbox:390 -> Refreshing access token.\n",
      "2023-09-15 10:13:48,591-[INFO]- dropbox:474 -> Request to files/list_folder\n",
      "2023-09-15 10:13:49,008-[INFO]- dropbox:390 -> Refreshing access token.\n",
      "2023-09-15 10:13:49,203-[INFO]- dropbox:474 -> Request to files/list_folder\n",
      "2023-09-15 10:13:49,522-[INFO]- dropbox:390 -> Refreshing access token.\n",
      "2023-09-15 10:13:49,752-[INFO]- dropbox:474 -> Request to files/list_folder\n",
      "2023-09-15 10:13:50,100-[INFO]- dropbox:390 -> Refreshing access token.\n",
      "2023-09-15 10:13:50,427-[INFO]- dropbox:474 -> Request to files/list_folder\n",
      "2023-09-15 10:13:50,702-[INFO]- dropbox:390 -> Refreshing access token.\n",
      "2023-09-15 10:13:50,895-[INFO]- dropbox:474 -> Request to files/list_folder\n",
      "2023-09-15 10:13:51,225-[INFO]- dropbox:390 -> Refreshing access token.\n",
      "2023-09-15 10:13:51,422-[INFO]- dropbox:474 -> Request to files/list_folder\n",
      "2023-09-15 10:13:51,773-[INFO]- dropbox:390 -> Refreshing access token.\n",
      "2023-09-15 10:13:51,980-[INFO]- dropbox:474 -> Request to files/list_folder\n",
      "2023-09-15 10:13:52,269-[INFO]- dropbox:390 -> Refreshing access token.\n",
      "2023-09-15 10:13:52,475-[INFO]- dropbox:474 -> Request to files/list_folder\n",
      "2023-09-15 10:13:52,797-[INFO]- dropbox:390 -> Refreshing access token.\n",
      "2023-09-15 10:13:52,999-[INFO]- dropbox:474 -> Request to files/list_folder\n",
      "2023-09-15 10:13:53,304-[INFO]- dropbox:390 -> Refreshing access token.\n",
      "2023-09-15 10:13:53,545-[INFO]- dropbox:474 -> Request to files/list_folder\n",
      "2023-09-15 10:13:53,840-[INFO]- dropbox:390 -> Refreshing access token.\n",
      "2023-09-15 10:13:54,038-[INFO]- dropbox:474 -> Request to files/list_folder\n",
      "2023-09-15 10:13:54,328-[INFO]- dropbox:390 -> Refreshing access token.\n",
      "2023-09-15 10:13:54,525-[INFO]- dropbox:474 -> Request to files/list_folder\n",
      "2023-09-15 10:13:55,051-[INFO]- dropbox:390 -> Refreshing access token.\n",
      "2023-09-15 10:13:55,244-[INFO]- dropbox:474 -> Request to files/list_folder\n",
      "2023-09-15 10:13:55,564-[INFO]- dropbox:390 -> Refreshing access token.\n",
      "2023-09-15 10:13:55,762-[INFO]- dropbox:474 -> Request to files/list_folder\n",
      "2023-09-15 10:13:56,038-[INFO]- dropbox:390 -> Refreshing access token.\n",
      "2023-09-15 10:13:56,259-[INFO]- dropbox:474 -> Request to files/list_folder\n",
      "2023-09-15 10:13:56,562-[INFO]- dropbox:390 -> Refreshing access token.\n",
      "2023-09-15 10:13:56,763-[INFO]- dropbox:474 -> Request to files/list_folder\n",
      "2023-09-15 10:13:57,214-[INFO]- dropbox:390 -> Refreshing access token.\n",
      "2023-09-15 10:13:57,419-[INFO]- dropbox:474 -> Request to files/list_folder\n",
      "2023-09-15 10:13:57,866-[INFO]- dropbox:390 -> Refreshing access token.\n",
      "2023-09-15 10:13:58,062-[INFO]- dropbox:474 -> Request to files/list_folder\n",
      "2023-09-15 10:13:58,555-[INFO]- dropbox:390 -> Refreshing access token.\n",
      "2023-09-15 10:13:58,757-[INFO]- dropbox:474 -> Request to files/list_folder\n",
      "2023-09-15 10:13:59,166-[INFO]- dropbox:390 -> Refreshing access token.\n",
      "2023-09-15 10:13:59,377-[INFO]- dropbox:474 -> Request to files/list_folder\n",
      "2023-09-15 10:14:00,183-[INFO]- dropbox:390 -> Refreshing access token.\n",
      "2023-09-15 10:14:00,384-[INFO]- dropbox:474 -> Request to files/list_folder\n",
      "2023-09-15 10:14:00,788-[INFO]- dropbox:390 -> Refreshing access token.\n",
      "2023-09-15 10:14:00,990-[INFO]- dropbox:474 -> Request to files/list_folder\n",
      "2023-09-15 10:14:01,684-[INFO]- dropbox:390 -> Refreshing access token.\n",
      "2023-09-15 10:14:01,911-[INFO]- dropbox:474 -> Request to files/list_folder\n",
      "2023-09-15 10:14:02,675-[INFO]- dropbox:390 -> Refreshing access token.\n",
      "2023-09-15 10:14:02,884-[INFO]- dropbox:474 -> Request to files/list_folder\n",
      "2023-09-15 10:14:03,435-[INFO]- dropbox:390 -> Refreshing access token.\n",
      "2023-09-15 10:14:03,633-[INFO]- dropbox:474 -> Request to files/list_folder\n",
      "2023-09-15 10:14:04,146-[INFO]- dropbox:390 -> Refreshing access token.\n",
      "2023-09-15 10:14:04,349-[INFO]- dropbox:474 -> Request to files/list_folder\n",
      "2023-09-15 10:14:04,938-[INFO]- dropbox:390 -> Refreshing access token.\n",
      "2023-09-15 10:14:05,141-[INFO]- dropbox:474 -> Request to files/list_folder\n",
      "2023-09-15 10:14:05,606-[INFO]- dropbox:390 -> Refreshing access token.\n",
      "2023-09-15 10:14:05,800-[INFO]- dropbox:474 -> Request to files/list_folder\n",
      "2023-09-15 10:14:06,244-[INFO]- dropbox:390 -> Refreshing access token.\n",
      "2023-09-15 10:14:06,479-[INFO]- dropbox:474 -> Request to files/list_folder\n",
      "2023-09-15 10:14:06,912-[INFO]- dropbox:390 -> Refreshing access token.\n",
      "2023-09-15 10:14:07,135-[INFO]- dropbox:474 -> Request to files/list_folder\n",
      "2023-09-15 10:14:07,670-[INFO]- dropbox:390 -> Refreshing access token.\n",
      "2023-09-15 10:14:07,918-[INFO]- dropbox:474 -> Request to files/list_folder\n",
      "2023-09-15 10:14:08,290-[INFO]- dropbox:390 -> Refreshing access token.\n",
      "2023-09-15 10:14:08,488-[INFO]- dropbox:474 -> Request to files/list_folder\n",
      "2023-09-15 10:14:08,858-[INFO]- dropbox:390 -> Refreshing access token.\n",
      "2023-09-15 10:14:09,051-[INFO]- dropbox:474 -> Request to files/list_folder\n",
      "2023-09-15 10:14:09,529-[INFO]- dropbox:390 -> Refreshing access token.\n",
      "2023-09-15 10:14:09,772-[INFO]- dropbox:474 -> Request to files/list_folder\n",
      "2023-09-15 10:14:10,273-[INFO]- dropbox:390 -> Refreshing access token.\n",
      "2023-09-15 10:14:10,485-[INFO]- dropbox:474 -> Request to files/list_folder\n",
      "2023-09-15 10:14:11,002-[INFO]- dropbox:390 -> Refreshing access token.\n",
      "2023-09-15 10:14:11,203-[INFO]- dropbox:474 -> Request to files/list_folder\n",
      "2023-09-15 10:14:11,624-[INFO]- dropbox:390 -> Refreshing access token.\n",
      "2023-09-15 10:14:11,832-[INFO]- dropbox:474 -> Request to files/list_folder\n",
      "2023-09-15 10:14:12,235-[INFO]- dropbox:390 -> Refreshing access token.\n",
      "2023-09-15 10:14:12,431-[INFO]- dropbox:474 -> Request to files/list_folder\n",
      "2023-09-15 10:14:13,110-[INFO]- dropbox:474 -> Request to files/list_folder/continue\n",
      "2023-09-15 10:14:13,477-[INFO]- dropbox:390 -> Refreshing access token.\n",
      "2023-09-15 10:14:13,669-[INFO]- dropbox:474 -> Request to files/list_folder\n",
      "2023-09-15 10:14:17,410-[INFO]- dropbox:474 -> Request to files/list_folder/continue\n",
      "2023-09-15 10:14:17,761-[INFO]- dropbox:390 -> Refreshing access token.\n",
      "2023-09-15 10:14:17,970-[INFO]- dropbox:474 -> Request to files/list_folder\n",
      "2023-09-15 10:14:18,619-[INFO]- dropbox:390 -> Refreshing access token.\n",
      "2023-09-15 10:14:18,816-[INFO]- dropbox:474 -> Request to files/list_folder\n",
      "2023-09-15 10:14:19,405-[INFO]- dropbox:390 -> Refreshing access token.\n",
      "2023-09-15 10:14:19,624-[INFO]- dropbox:474 -> Request to files/list_folder\n",
      "2023-09-15 10:14:20,016-[INFO]- dropbox:390 -> Refreshing access token.\n",
      "2023-09-15 10:14:20,215-[INFO]- dropbox:474 -> Request to files/list_folder\n",
      "2023-09-15 10:14:20,732-[INFO]- dropbox:390 -> Refreshing access token.\n",
      "2023-09-15 10:14:20,949-[INFO]- dropbox:474 -> Request to files/list_folder\n",
      "2023-09-15 10:14:21,397-[INFO]- dropbox:390 -> Refreshing access token.\n",
      "2023-09-15 10:14:21,614-[INFO]- dropbox:474 -> Request to files/list_folder\n",
      "2023-09-15 10:14:22,000-[INFO]- dropbox:390 -> Refreshing access token.\n",
      "2023-09-15 10:14:22,188-[INFO]- dropbox:474 -> Request to files/list_folder\n",
      "2023-09-15 10:14:22,553-[INFO]- dropbox:390 -> Refreshing access token.\n",
      "2023-09-15 10:14:22,772-[INFO]- dropbox:474 -> Request to files/list_folder\n",
      "2023-09-15 10:14:23,094-[INFO]- dropbox:390 -> Refreshing access token.\n",
      "2023-09-15 10:14:23,303-[INFO]- dropbox:474 -> Request to files/list_folder\n",
      "2023-09-15 10:14:23,748-[INFO]- dropbox:390 -> Refreshing access token.\n",
      "2023-09-15 10:14:23,980-[INFO]- dropbox:474 -> Request to files/list_folder\n",
      "2023-09-15 10:14:24,311-[INFO]- dropbox:390 -> Refreshing access token.\n",
      "2023-09-15 10:14:24,504-[INFO]- dropbox:474 -> Request to files/list_folder\n",
      "2023-09-15 10:14:24,911-[INFO]- dropbox:390 -> Refreshing access token.\n",
      "2023-09-15 10:14:25,115-[INFO]- dropbox:474 -> Request to files/list_folder\n",
      "2023-09-15 10:14:25,464-[INFO]- dropbox:390 -> Refreshing access token.\n",
      "2023-09-15 10:14:25,694-[INFO]- dropbox:474 -> Request to files/list_folder\n",
      "2023-09-15 10:14:26,211-[INFO]- dropbox:390 -> Refreshing access token.\n",
      "2023-09-15 10:14:26,416-[INFO]- dropbox:474 -> Request to files/list_folder\n",
      "2023-09-15 10:14:26,915-[INFO]- dropbox:390 -> Refreshing access token.\n",
      "2023-09-15 10:14:27,109-[INFO]- dropbox:474 -> Request to files/list_folder\n",
      "2023-09-15 10:14:27,564-[INFO]- dropbox:390 -> Refreshing access token.\n",
      "2023-09-15 10:14:27,763-[INFO]- dropbox:474 -> Request to files/list_folder\n",
      "2023-09-15 10:14:28,097-[INFO]- dropbox:390 -> Refreshing access token.\n",
      "2023-09-15 10:14:28,433-[INFO]- dropbox:474 -> Request to files/list_folder\n",
      "2023-09-15 10:14:28,803-[INFO]- dropbox:390 -> Refreshing access token.\n",
      "2023-09-15 10:14:29,012-[INFO]- dropbox:474 -> Request to files/list_folder\n",
      "2023-09-15 10:14:29,356-[INFO]- dropbox:390 -> Refreshing access token.\n",
      "2023-09-15 10:14:29,551-[INFO]- dropbox:474 -> Request to files/list_folder\n",
      "2023-09-15 10:14:30,070-[INFO]- dropbox:390 -> Refreshing access token.\n",
      "2023-09-15 10:14:30,268-[INFO]- dropbox:474 -> Request to files/list_folder\n",
      "2023-09-15 10:14:30,891-[INFO]- dropbox:390 -> Refreshing access token.\n",
      "2023-09-15 10:14:31,104-[INFO]- dropbox:474 -> Request to files/list_folder\n",
      "2023-09-15 10:14:31,625-[INFO]- dropbox:390 -> Refreshing access token.\n",
      "2023-09-15 10:14:31,837-[INFO]- dropbox:474 -> Request to files/list_folder\n",
      "2023-09-15 10:14:32,263-[INFO]- dropbox:390 -> Refreshing access token.\n",
      "2023-09-15 10:14:32,453-[INFO]- dropbox:474 -> Request to files/list_folder\n",
      "2023-09-15 10:14:32,929-[INFO]- dropbox:390 -> Refreshing access token.\n",
      "2023-09-15 10:14:33,211-[INFO]- dropbox:474 -> Request to files/list_folder\n",
      "2023-09-15 10:14:33,664-[INFO]- dropbox:390 -> Refreshing access token.\n",
      "2023-09-15 10:14:33,863-[INFO]- dropbox:474 -> Request to files/list_folder\n",
      "2023-09-15 10:14:34,277-[INFO]- dropbox:390 -> Refreshing access token.\n",
      "2023-09-15 10:14:34,479-[INFO]- dropbox:474 -> Request to files/list_folder\n",
      "2023-09-15 10:14:34,869-[INFO]- dropbox:390 -> Refreshing access token.\n",
      "2023-09-15 10:14:35,062-[INFO]- dropbox:474 -> Request to files/list_folder\n",
      "2023-09-15 10:14:35,652-[INFO]- dropbox:390 -> Refreshing access token.\n",
      "2023-09-15 10:14:35,845-[INFO]- dropbox:474 -> Request to files/list_folder\n",
      "2023-09-15 10:14:36,369-[INFO]- dropbox:390 -> Refreshing access token.\n",
      "2023-09-15 10:14:36,576-[INFO]- dropbox:474 -> Request to files/list_folder\n",
      "2023-09-15 10:14:37,110-[INFO]- dropbox:390 -> Refreshing access token.\n",
      "2023-09-15 10:14:37,304-[INFO]- dropbox:474 -> Request to files/list_folder\n",
      "2023-09-15 10:14:37,660-[INFO]- dropbox:390 -> Refreshing access token.\n",
      "2023-09-15 10:14:37,854-[INFO]- dropbox:474 -> Request to files/list_folder\n",
      "2023-09-15 10:14:38,278-[INFO]- dropbox:390 -> Refreshing access token.\n",
      "2023-09-15 10:14:38,475-[INFO]- dropbox:474 -> Request to files/list_folder\n",
      "2023-09-15 10:14:38,841-[INFO]- dropbox:390 -> Refreshing access token.\n",
      "2023-09-15 10:14:39,054-[INFO]- dropbox:474 -> Request to files/list_folder\n",
      "2023-09-15 10:14:39,516-[INFO]- dropbox:390 -> Refreshing access token.\n",
      "2023-09-15 10:14:39,719-[INFO]- dropbox:474 -> Request to files/list_folder\n",
      "2023-09-15 10:14:40,149-[INFO]- dropbox:390 -> Refreshing access token.\n",
      "2023-09-15 10:14:40,345-[INFO]- dropbox:474 -> Request to files/list_folder\n",
      "2023-09-15 10:14:40,729-[INFO]- dropbox:390 -> Refreshing access token.\n",
      "2023-09-15 10:14:40,941-[INFO]- dropbox:474 -> Request to files/list_folder\n",
      "2023-09-15 10:14:41,437-[INFO]- dropbox:390 -> Refreshing access token.\n",
      "2023-09-15 10:14:41,642-[INFO]- dropbox:474 -> Request to files/list_folder\n",
      "2023-09-15 10:14:42,203-[INFO]- dropbox:390 -> Refreshing access token.\n",
      "2023-09-15 10:14:42,405-[INFO]- dropbox:474 -> Request to files/list_folder\n",
      "2023-09-15 10:14:42,875-[INFO]- dropbox:390 -> Refreshing access token.\n",
      "2023-09-15 10:14:43,080-[INFO]- dropbox:474 -> Request to files/list_folder\n",
      "2023-09-15 10:14:43,531-[INFO]- dropbox:390 -> Refreshing access token.\n",
      "2023-09-15 10:14:43,745-[INFO]- dropbox:474 -> Request to files/list_folder\n",
      "2023-09-15 10:14:44,099-[INFO]- dropbox:390 -> Refreshing access token.\n",
      "2023-09-15 10:14:44,295-[INFO]- dropbox:474 -> Request to files/list_folder\n",
      "2023-09-15 10:14:44,621-[INFO]- dropbox:390 -> Refreshing access token.\n",
      "2023-09-15 10:14:44,833-[INFO]- dropbox:474 -> Request to files/list_folder\n",
      "2023-09-15 10:14:45,200-[INFO]- dropbox:390 -> Refreshing access token.\n",
      "2023-09-15 10:14:45,461-[INFO]- dropbox:474 -> Request to files/list_folder\n",
      "2023-09-15 10:14:45,905-[INFO]- dropbox:390 -> Refreshing access token.\n",
      "2023-09-15 10:14:46,107-[INFO]- dropbox:474 -> Request to files/list_folder\n",
      "2023-09-15 10:14:46,653-[INFO]- dropbox:390 -> Refreshing access token.\n",
      "2023-09-15 10:14:46,857-[INFO]- dropbox:474 -> Request to files/list_folder\n",
      "2023-09-15 10:14:47,457-[INFO]- dropbox:390 -> Refreshing access token.\n",
      "2023-09-15 10:14:47,668-[INFO]- dropbox:474 -> Request to files/list_folder\n",
      "2023-09-15 10:14:48,138-[INFO]- dropbox:390 -> Refreshing access token.\n",
      "2023-09-15 10:14:48,336-[INFO]- dropbox:474 -> Request to files/list_folder\n",
      "2023-09-15 10:14:48,814-[INFO]- dropbox:390 -> Refreshing access token.\n",
      "2023-09-15 10:14:49,033-[INFO]- dropbox:474 -> Request to files/list_folder\n",
      "2023-09-15 10:14:49,646-[INFO]- dropbox:390 -> Refreshing access token.\n",
      "2023-09-15 10:14:49,842-[INFO]- dropbox:474 -> Request to files/list_folder\n",
      "2023-09-15 10:14:50,262-[INFO]- dropbox:390 -> Refreshing access token.\n",
      "2023-09-15 10:14:50,457-[INFO]- dropbox:474 -> Request to files/list_folder\n",
      "2023-09-15 10:14:51,846-[INFO]- dropbox:390 -> Refreshing access token.\n",
      "2023-09-15 10:14:52,050-[INFO]- dropbox:474 -> Request to files/list_folder\n",
      "2023-09-15 10:14:52,596-[INFO]- dropbox:390 -> Refreshing access token.\n",
      "2023-09-15 10:14:52,808-[INFO]- dropbox:474 -> Request to files/list_folder\n",
      "2023-09-15 10:14:53,278-[INFO]- dropbox:390 -> Refreshing access token.\n",
      "2023-09-15 10:14:53,480-[INFO]- dropbox:474 -> Request to files/list_folder\n",
      "2023-09-15 10:14:53,817-[INFO]- dropbox:390 -> Refreshing access token.\n",
      "2023-09-15 10:14:54,034-[INFO]- dropbox:474 -> Request to files/list_folder\n",
      "2023-09-15 10:14:54,413-[INFO]- dropbox:390 -> Refreshing access token.\n",
      "2023-09-15 10:14:54,642-[INFO]- dropbox:474 -> Request to files/list_folder\n",
      "2023-09-15 10:14:55,018-[INFO]- dropbox:390 -> Refreshing access token.\n",
      "2023-09-15 10:14:55,209-[INFO]- dropbox:474 -> Request to files/list_folder\n",
      "2023-09-15 10:14:55,556-[INFO]- dropbox:390 -> Refreshing access token.\n",
      "2023-09-15 10:14:55,775-[INFO]- dropbox:474 -> Request to files/list_folder\n",
      "2023-09-15 10:14:56,219-[INFO]- dropbox:390 -> Refreshing access token.\n",
      "2023-09-15 10:14:56,419-[INFO]- dropbox:474 -> Request to files/list_folder\n",
      "2023-09-15 10:14:56,861-[INFO]- dropbox:390 -> Refreshing access token.\n",
      "2023-09-15 10:14:57,056-[INFO]- dropbox:474 -> Request to files/list_folder\n",
      "2023-09-15 10:14:57,435-[INFO]- dropbox:390 -> Refreshing access token.\n",
      "2023-09-15 10:14:57,659-[INFO]- dropbox:474 -> Request to files/list_folder\n",
      "2023-09-15 10:14:58,118-[INFO]- dropbox:390 -> Refreshing access token.\n",
      "2023-09-15 10:14:58,333-[INFO]- dropbox:474 -> Request to files/list_folder\n",
      "2023-09-15 10:14:58,940-[INFO]- dropbox:390 -> Refreshing access token.\n",
      "2023-09-15 10:14:59,132-[INFO]- dropbox:474 -> Request to files/list_folder\n",
      "2023-09-15 10:14:59,574-[INFO]- dropbox:390 -> Refreshing access token.\n",
      "2023-09-15 10:14:59,774-[INFO]- dropbox:474 -> Request to files/list_folder\n",
      "2023-09-15 10:15:00,211-[INFO]- dropbox:390 -> Refreshing access token.\n",
      "2023-09-15 10:15:00,411-[INFO]- dropbox:474 -> Request to files/list_folder\n",
      "2023-09-15 10:15:00,780-[INFO]- dropbox:390 -> Refreshing access token.\n",
      "2023-09-15 10:15:01,091-[INFO]- dropbox:474 -> Request to files/list_folder\n",
      "2023-09-15 10:15:01,656-[INFO]- dropbox:390 -> Refreshing access token.\n",
      "2023-09-15 10:15:01,894-[INFO]- dropbox:474 -> Request to files/list_folder\n",
      "2023-09-15 10:15:02,347-[INFO]- dropbox:390 -> Refreshing access token.\n",
      "2023-09-15 10:15:02,544-[INFO]- dropbox:474 -> Request to files/list_folder\n",
      "2023-09-15 10:15:03,914-[INFO]- dropbox:390 -> Refreshing access token.\n",
      "2023-09-15 10:15:04,116-[INFO]- dropbox:474 -> Request to files/list_folder\n",
      "2023-09-15 10:15:04,469-[INFO]- dropbox:390 -> Refreshing access token.\n",
      "2023-09-15 10:15:04,688-[INFO]- dropbox:474 -> Request to files/list_folder\n",
      "2023-09-15 10:15:05,062-[INFO]- dropbox:390 -> Refreshing access token.\n",
      "2023-09-15 10:15:05,433-[INFO]- dropbox:474 -> Request to files/list_folder\n",
      "2023-09-15 10:15:05,902-[INFO]- dropbox:390 -> Refreshing access token.\n",
      "2023-09-15 10:15:06,100-[INFO]- dropbox:474 -> Request to files/list_folder\n",
      "2023-09-15 10:15:06,555-[INFO]- dropbox:390 -> Refreshing access token.\n",
      "2023-09-15 10:15:06,758-[INFO]- dropbox:474 -> Request to files/list_folder\n",
      "2023-09-15 10:15:07,201-[INFO]- dropbox:390 -> Refreshing access token.\n",
      "2023-09-15 10:15:07,423-[INFO]- dropbox:474 -> Request to files/list_folder\n",
      "2023-09-15 10:15:07,860-[INFO]- dropbox:390 -> Refreshing access token.\n",
      "2023-09-15 10:15:08,063-[INFO]- dropbox:474 -> Request to files/list_folder\n",
      "2023-09-15 10:15:08,659-[INFO]- dropbox:390 -> Refreshing access token.\n",
      "2023-09-15 10:15:08,860-[INFO]- dropbox:474 -> Request to files/list_folder\n",
      "2023-09-15 10:15:09,341-[INFO]- dropbox:390 -> Refreshing access token.\n",
      "2023-09-15 10:15:09,546-[INFO]- dropbox:474 -> Request to files/list_folder\n",
      "2023-09-15 10:15:10,098-[INFO]- dropbox:390 -> Refreshing access token.\n",
      "2023-09-15 10:15:10,307-[INFO]- dropbox:474 -> Request to files/list_folder\n",
      "2023-09-15 10:15:10,677-[INFO]- dropbox:390 -> Refreshing access token.\n",
      "2023-09-15 10:15:10,877-[INFO]- dropbox:474 -> Request to files/list_folder\n",
      "2023-09-15 10:15:11,437-[INFO]- dropbox:390 -> Refreshing access token.\n",
      "2023-09-15 10:15:11,641-[INFO]- dropbox:474 -> Request to files/list_folder\n",
      "2023-09-15 10:15:12,148-[INFO]- dropbox:390 -> Refreshing access token.\n",
      "2023-09-15 10:15:12,367-[INFO]- dropbox:474 -> Request to files/list_folder\n",
      "2023-09-15 10:15:13,036-[INFO]- dropbox:390 -> Refreshing access token.\n",
      "2023-09-15 10:15:13,237-[INFO]- dropbox:474 -> Request to files/list_folder\n",
      "2023-09-15 10:15:13,717-[INFO]- dropbox:390 -> Refreshing access token.\n",
      "2023-09-15 10:15:13,905-[INFO]- dropbox:474 -> Request to files/list_folder\n",
      "2023-09-15 10:15:14,338-[INFO]- dropbox:390 -> Refreshing access token.\n",
      "2023-09-15 10:15:14,538-[INFO]- dropbox:474 -> Request to files/list_folder\n",
      "2023-09-15 10:15:15,196-[INFO]- dropbox:390 -> Refreshing access token.\n",
      "2023-09-15 10:15:15,395-[INFO]- dropbox:474 -> Request to files/list_folder\n",
      "2023-09-15 10:15:15,857-[INFO]- dropbox:390 -> Refreshing access token.\n",
      "2023-09-15 10:15:16,051-[INFO]- dropbox:474 -> Request to files/list_folder\n",
      "2023-09-15 10:15:16,495-[INFO]- dropbox:390 -> Refreshing access token.\n",
      "2023-09-15 10:15:16,720-[INFO]- dropbox:474 -> Request to files/list_folder\n",
      "2023-09-15 10:15:17,299-[INFO]- dropbox:390 -> Refreshing access token.\n",
      "2023-09-15 10:15:17,523-[INFO]- dropbox:474 -> Request to files/list_folder\n",
      "2023-09-15 10:15:17,854-[INFO]- dropbox:390 -> Refreshing access token.\n",
      "2023-09-15 10:15:18,062-[INFO]- dropbox:474 -> Request to files/list_folder\n"
     ]
    },
    {
     "data": {
      "application/vnd.jupyter.widget-view+json": {
       "model_id": "7977e6790fce459e9159a9996ed359b6",
       "version_major": 2,
       "version_minor": 0
      },
      "text/plain": [
       "analysed:   0%|          | 0/1007 [00:00<?, ?it/s]"
      ]
     },
     "metadata": {},
     "output_type": "display_data"
    }
   ],
   "source": [
    "dir_drop = \"DATA/PRINCE\"\n",
    "all_folders_drop = get_dropbox_folders_prince(\"/DATA/PRINCE\")\n",
    "folders_drop = all_folders_drop.loc[all_folders_drop[\"unique_id\"].isin(plates)]\n",
    "update_plate_info(directory_targ, local=True, strong_constraint=False)\n",
    "all_folders = get_current_folders(directory_targ, local=True)\n",
    "# if len(all_folders) > 0:\n",
    "folders = all_folders.loc[all_folders[\"unique_id\"].isin(plates)]\n",
    "folders_drop2 = folders_drop.loc[~folders_drop[\"folder\"].isin(folders[\"folder\"])]\n",
    "folders_drop3 = folders_drop2.loc[~folders_drop2[\"folder\"].str.contains(\"Analysis\")]"
   ]
  },
  {
   "cell_type": "code",
   "execution_count": 26,
   "id": "86255f52-7362-40a0-aafe-d9de5ec0a2d1",
   "metadata": {
    "tags": []
   },
   "outputs": [
    {
     "data": {
      "application/vnd.jupyter.widget-view+json": {
       "model_id": "9f665621383448e4a9b3232ccfbae4ca",
       "version_major": 2,
       "version_minor": 0
      },
      "text/plain": [
       "analysed:   0%|          | 0/3259 [00:00<?, ?it/s]"
      ]
     },
     "metadata": {},
     "output_type": "display_data"
    }
   ],
   "source": [
    "update_plate_info(directory_targ, local=True, strong_constraint=False)\n",
    "all_folders = get_current_folders(directory_targ, local=True)\n",
    "# if len(all_folders) > 0:\n",
    "folders = all_folders.loc[all_folders[\"unique_id\"].isin(plates)]"
   ]
  },
  {
   "cell_type": "code",
   "execution_count": 31,
   "id": "47ca8bfb-d375-4281-9c5d-8069a4101316",
   "metadata": {
    "collapsed": true,
    "jupyter": {
     "outputs_hidden": true
    },
    "tags": []
   },
   "outputs": [
    {
     "data": {
      "text/html": [
       "<div>\n",
       "<style scoped>\n",
       "    .dataframe tbody tr th:only-of-type {\n",
       "        vertical-align: middle;\n",
       "    }\n",
       "\n",
       "    .dataframe tbody tr th {\n",
       "        vertical-align: top;\n",
       "    }\n",
       "\n",
       "    .dataframe thead th {\n",
       "        text-align: right;\n",
       "    }\n",
       "</style>\n",
       "<table border=\"1\" class=\"dataframe\">\n",
       "  <thead>\n",
       "    <tr style=\"text-align: right;\">\n",
       "      <th></th>\n",
       "      <th>total_path</th>\n",
       "      <th>Plate</th>\n",
       "      <th>PrincePos</th>\n",
       "      <th>root</th>\n",
       "      <th>strain</th>\n",
       "      <th>medium</th>\n",
       "      <th>split</th>\n",
       "      <th>Pbait</th>\n",
       "      <th>CrossDate</th>\n",
       "      <th>Temperature</th>\n",
       "      <th>...</th>\n",
       "      <th>/Analysis/transform_corrupt.mat</th>\n",
       "      <th>/Analysis/skeleton_realigned_compressed.mat</th>\n",
       "      <th>/Analysis/nx_graph_pruned.p</th>\n",
       "      <th>/Analysis/nx_graph_pruned_width.p</th>\n",
       "      <th>/Analysis/nx_graph_pruned_labeled.p</th>\n",
       "      <th>date</th>\n",
       "      <th>folder</th>\n",
       "      <th>fungalC</th>\n",
       "      <th>unique_id</th>\n",
       "      <th>datetime</th>\n",
       "    </tr>\n",
       "  </thead>\n",
       "  <tbody>\n",
       "    <tr>\n",
       "      <th>6</th>\n",
       "      <td>/projects/0/einf914/data/20220624_0707_Plate01</td>\n",
       "      <td>84</td>\n",
       "      <td>1</td>\n",
       "      <td>'Carrot'</td>\n",
       "      <td>'A5sp3'</td>\n",
       "      <td>'001P100N100C'</td>\n",
       "      <td>'Y'</td>\n",
       "      <td>'-'</td>\n",
       "      <td>20220621</td>\n",
       "      <td>25</td>\n",
       "      <td>...</td>\n",
       "      <td>False</td>\n",
       "      <td>True</td>\n",
       "      <td>True</td>\n",
       "      <td>True</td>\n",
       "      <td>True</td>\n",
       "      <td>24.06.2022, 07:07:</td>\n",
       "      <td>20220624_0707_Plate01</td>\n",
       "      <td>NaN</td>\n",
       "      <td>84_20220621</td>\n",
       "      <td>2022-06-24 07:07:00</td>\n",
       "    </tr>\n",
       "    <tr>\n",
       "      <th>17</th>\n",
       "      <td>/projects/0/einf914/data/20220506_0928_Plate13</td>\n",
       "      <td>12</td>\n",
       "      <td>13</td>\n",
       "      <td>'Carrot'</td>\n",
       "      <td>'Agg'</td>\n",
       "      <td>'001P100N100C'</td>\n",
       "      <td>'Y'</td>\n",
       "      <td>'-'</td>\n",
       "      <td>20220502</td>\n",
       "      <td>25</td>\n",
       "      <td>...</td>\n",
       "      <td>False</td>\n",
       "      <td>True</td>\n",
       "      <td>True</td>\n",
       "      <td>True</td>\n",
       "      <td>True</td>\n",
       "      <td>06.05.2022, 09:28:</td>\n",
       "      <td>20220506_0928_Plate13</td>\n",
       "      <td>NaN</td>\n",
       "      <td>12_20220502</td>\n",
       "      <td>2022-05-06 09:28:00</td>\n",
       "    </tr>\n",
       "    <tr>\n",
       "      <th>18</th>\n",
       "      <td>/projects/0/einf914/data/20220512_0338_Plate13</td>\n",
       "      <td>12</td>\n",
       "      <td>13</td>\n",
       "      <td>'Carrot'</td>\n",
       "      <td>'Agg'</td>\n",
       "      <td>'001P100N100C'</td>\n",
       "      <td>'Y'</td>\n",
       "      <td>'-'</td>\n",
       "      <td>20220502</td>\n",
       "      <td>25</td>\n",
       "      <td>...</td>\n",
       "      <td>False</td>\n",
       "      <td>True</td>\n",
       "      <td>False</td>\n",
       "      <td>False</td>\n",
       "      <td>False</td>\n",
       "      <td>12.05.2022, 03:38:</td>\n",
       "      <td>20220512_0338_Plate13</td>\n",
       "      <td>NaN</td>\n",
       "      <td>12_20220502</td>\n",
       "      <td>2022-05-12 03:38:00</td>\n",
       "    </tr>\n",
       "    <tr>\n",
       "      <th>23</th>\n",
       "      <td>/projects/0/einf914/data/20230314_1003_Plate07</td>\n",
       "      <td>218</td>\n",
       "      <td>7</td>\n",
       "      <td>'Carrot'</td>\n",
       "      <td>'Clarum'</td>\n",
       "      <td>'001P100N100C'</td>\n",
       "      <td>'Y'</td>\n",
       "      <td>'-'</td>\n",
       "      <td>20230227</td>\n",
       "      <td>25</td>\n",
       "      <td>...</td>\n",
       "      <td>False</td>\n",
       "      <td>True</td>\n",
       "      <td>True</td>\n",
       "      <td>True</td>\n",
       "      <td>True</td>\n",
       "      <td>14.03.2023, 10:03:</td>\n",
       "      <td>20230314_1003_Plate07</td>\n",
       "      <td>NaN</td>\n",
       "      <td>218_20230227</td>\n",
       "      <td>2023-03-14 10:03:00</td>\n",
       "    </tr>\n",
       "    <tr>\n",
       "      <th>36</th>\n",
       "      <td>/projects/0/einf914/data/20220512_1538_Plate13</td>\n",
       "      <td>12</td>\n",
       "      <td>13</td>\n",
       "      <td>'Carrot'</td>\n",
       "      <td>'Agg'</td>\n",
       "      <td>'001P100N100C'</td>\n",
       "      <td>'Y'</td>\n",
       "      <td>'-'</td>\n",
       "      <td>20220502</td>\n",
       "      <td>25</td>\n",
       "      <td>...</td>\n",
       "      <td>False</td>\n",
       "      <td>True</td>\n",
       "      <td>False</td>\n",
       "      <td>False</td>\n",
       "      <td>False</td>\n",
       "      <td>12.05.2022, 15:38:</td>\n",
       "      <td>20220512_1538_Plate13</td>\n",
       "      <td>NaN</td>\n",
       "      <td>12_20220502</td>\n",
       "      <td>2022-05-12 15:38:00</td>\n",
       "    </tr>\n",
       "    <tr>\n",
       "      <th>...</th>\n",
       "      <td>...</td>\n",
       "      <td>...</td>\n",
       "      <td>...</td>\n",
       "      <td>...</td>\n",
       "      <td>...</td>\n",
       "      <td>...</td>\n",
       "      <td>...</td>\n",
       "      <td>...</td>\n",
       "      <td>...</td>\n",
       "      <td>...</td>\n",
       "      <td>...</td>\n",
       "      <td>...</td>\n",
       "      <td>...</td>\n",
       "      <td>...</td>\n",
       "      <td>...</td>\n",
       "      <td>...</td>\n",
       "      <td>...</td>\n",
       "      <td>...</td>\n",
       "      <td>...</td>\n",
       "      <td>...</td>\n",
       "      <td>...</td>\n",
       "    </tr>\n",
       "    <tr>\n",
       "      <th>2685</th>\n",
       "      <td>/projects/0/einf914/data/20220517_1523_Plate13</td>\n",
       "      <td>12</td>\n",
       "      <td>13</td>\n",
       "      <td>'Carrot'</td>\n",
       "      <td>'Agg'</td>\n",
       "      <td>'001P100N100C'</td>\n",
       "      <td>'Y'</td>\n",
       "      <td>'-'</td>\n",
       "      <td>20220502</td>\n",
       "      <td>25</td>\n",
       "      <td>...</td>\n",
       "      <td>False</td>\n",
       "      <td>True</td>\n",
       "      <td>True</td>\n",
       "      <td>True</td>\n",
       "      <td>True</td>\n",
       "      <td>17.05.2022, 15:23:</td>\n",
       "      <td>20220517_1523_Plate13</td>\n",
       "      <td>NaN</td>\n",
       "      <td>12_20220502</td>\n",
       "      <td>2022-05-17 15:23:00</td>\n",
       "    </tr>\n",
       "    <tr>\n",
       "      <th>2690</th>\n",
       "      <td>/projects/0/einf914/data/20230304_1313_Plate07</td>\n",
       "      <td>218</td>\n",
       "      <td>7</td>\n",
       "      <td>'Carrot'</td>\n",
       "      <td>'Clarum'</td>\n",
       "      <td>'001P100N100C'</td>\n",
       "      <td>'Y'</td>\n",
       "      <td>'-'</td>\n",
       "      <td>20230227</td>\n",
       "      <td>25</td>\n",
       "      <td>...</td>\n",
       "      <td>False</td>\n",
       "      <td>True</td>\n",
       "      <td>True</td>\n",
       "      <td>True</td>\n",
       "      <td>True</td>\n",
       "      <td>04.03.2023, 13:13:</td>\n",
       "      <td>20230304_1313_Plate07</td>\n",
       "      <td>NaN</td>\n",
       "      <td>218_20230227</td>\n",
       "      <td>2023-03-04 13:13:00</td>\n",
       "    </tr>\n",
       "    <tr>\n",
       "      <th>2691</th>\n",
       "      <td>/projects/0/einf914/data/20220509_2000_Plate13</td>\n",
       "      <td>12</td>\n",
       "      <td>13</td>\n",
       "      <td>'Carrot'</td>\n",
       "      <td>'Agg'</td>\n",
       "      <td>'001P100N100C'</td>\n",
       "      <td>'Y'</td>\n",
       "      <td>'-'</td>\n",
       "      <td>20220502</td>\n",
       "      <td>25</td>\n",
       "      <td>...</td>\n",
       "      <td>False</td>\n",
       "      <td>True</td>\n",
       "      <td>True</td>\n",
       "      <td>True</td>\n",
       "      <td>True</td>\n",
       "      <td>09.05.2022, 20:00:</td>\n",
       "      <td>20220509_2000_Plate13</td>\n",
       "      <td>NaN</td>\n",
       "      <td>12_20220502</td>\n",
       "      <td>2022-05-09 20:00:00</td>\n",
       "    </tr>\n",
       "    <tr>\n",
       "      <th>2710</th>\n",
       "      <td>/projects/0/einf914/data/20220503_1121_Plate13</td>\n",
       "      <td>12</td>\n",
       "      <td>13</td>\n",
       "      <td>'Carrot'</td>\n",
       "      <td>'Agg'</td>\n",
       "      <td>'001P100N100C'</td>\n",
       "      <td>'Y'</td>\n",
       "      <td>'-'</td>\n",
       "      <td>20220502</td>\n",
       "      <td>25</td>\n",
       "      <td>...</td>\n",
       "      <td>False</td>\n",
       "      <td>True</td>\n",
       "      <td>True</td>\n",
       "      <td>True</td>\n",
       "      <td>True</td>\n",
       "      <td>03.05.2022, 11:21:</td>\n",
       "      <td>20220503_1121_Plate13</td>\n",
       "      <td>NaN</td>\n",
       "      <td>12_20220502</td>\n",
       "      <td>2022-05-03 11:21:00</td>\n",
       "    </tr>\n",
       "    <tr>\n",
       "      <th>2720</th>\n",
       "      <td>/projects/0/einf914/data/20220516_1025_Plate13</td>\n",
       "      <td>12</td>\n",
       "      <td>13</td>\n",
       "      <td>'Carrot'</td>\n",
       "      <td>'Agg'</td>\n",
       "      <td>'001P100N100C'</td>\n",
       "      <td>'Y'</td>\n",
       "      <td>'-'</td>\n",
       "      <td>20220502</td>\n",
       "      <td>25</td>\n",
       "      <td>...</td>\n",
       "      <td>False</td>\n",
       "      <td>True</td>\n",
       "      <td>True</td>\n",
       "      <td>False</td>\n",
       "      <td>False</td>\n",
       "      <td>16.05.2022, 10:25:</td>\n",
       "      <td>20220516_1025_Plate13</td>\n",
       "      <td>NaN</td>\n",
       "      <td>12_20220502</td>\n",
       "      <td>2022-05-16 10:25:00</td>\n",
       "    </tr>\n",
       "  </tbody>\n",
       "</table>\n",
       "<p>431 rows × 25 columns</p>\n",
       "</div>"
      ],
      "text/plain": [
       "                                          total_path Plate PrincePos  \\\n",
       "6     /projects/0/einf914/data/20220624_0707_Plate01    84         1   \n",
       "17    /projects/0/einf914/data/20220506_0928_Plate13    12        13   \n",
       "18    /projects/0/einf914/data/20220512_0338_Plate13    12        13   \n",
       "23    /projects/0/einf914/data/20230314_1003_Plate07   218         7   \n",
       "36    /projects/0/einf914/data/20220512_1538_Plate13    12        13   \n",
       "...                                              ...   ...       ...   \n",
       "2685  /projects/0/einf914/data/20220517_1523_Plate13    12        13   \n",
       "2690  /projects/0/einf914/data/20230304_1313_Plate07   218         7   \n",
       "2691  /projects/0/einf914/data/20220509_2000_Plate13    12        13   \n",
       "2710  /projects/0/einf914/data/20220503_1121_Plate13    12        13   \n",
       "2720  /projects/0/einf914/data/20220516_1025_Plate13    12        13   \n",
       "\n",
       "          root    strain          medium split Pbait CrossDate Temperature  \\\n",
       "6     'Carrot'   'A5sp3'  '001P100N100C'   'Y'   '-'  20220621          25   \n",
       "17    'Carrot'     'Agg'  '001P100N100C'   'Y'   '-'  20220502          25   \n",
       "18    'Carrot'     'Agg'  '001P100N100C'   'Y'   '-'  20220502          25   \n",
       "23    'Carrot'  'Clarum'  '001P100N100C'   'Y'   '-'  20230227          25   \n",
       "36    'Carrot'     'Agg'  '001P100N100C'   'Y'   '-'  20220502          25   \n",
       "...        ...       ...             ...   ...   ...       ...         ...   \n",
       "2685  'Carrot'     'Agg'  '001P100N100C'   'Y'   '-'  20220502          25   \n",
       "2690  'Carrot'  'Clarum'  '001P100N100C'   'Y'   '-'  20230227          25   \n",
       "2691  'Carrot'     'Agg'  '001P100N100C'   'Y'   '-'  20220502          25   \n",
       "2710  'Carrot'     'Agg'  '001P100N100C'   'Y'   '-'  20220502          25   \n",
       "2720  'Carrot'     'Agg'  '001P100N100C'   'Y'   '-'  20220502          25   \n",
       "\n",
       "      ... /Analysis/transform_corrupt.mat  \\\n",
       "6     ...                           False   \n",
       "17    ...                           False   \n",
       "18    ...                           False   \n",
       "23    ...                           False   \n",
       "36    ...                           False   \n",
       "...   ...                             ...   \n",
       "2685  ...                           False   \n",
       "2690  ...                           False   \n",
       "2691  ...                           False   \n",
       "2710  ...                           False   \n",
       "2720  ...                           False   \n",
       "\n",
       "     /Analysis/skeleton_realigned_compressed.mat /Analysis/nx_graph_pruned.p  \\\n",
       "6                                           True                        True   \n",
       "17                                          True                        True   \n",
       "18                                          True                       False   \n",
       "23                                          True                        True   \n",
       "36                                          True                       False   \n",
       "...                                          ...                         ...   \n",
       "2685                                        True                        True   \n",
       "2690                                        True                        True   \n",
       "2691                                        True                        True   \n",
       "2710                                        True                        True   \n",
       "2720                                        True                        True   \n",
       "\n",
       "     /Analysis/nx_graph_pruned_width.p /Analysis/nx_graph_pruned_labeled.p  \\\n",
       "6                                 True                                True   \n",
       "17                                True                                True   \n",
       "18                               False                               False   \n",
       "23                                True                                True   \n",
       "36                               False                               False   \n",
       "...                                ...                                 ...   \n",
       "2685                              True                                True   \n",
       "2690                              True                                True   \n",
       "2691                              True                                True   \n",
       "2710                              True                                True   \n",
       "2720                             False                               False   \n",
       "\n",
       "                    date                 folder fungalC     unique_id  \\\n",
       "6     24.06.2022, 07:07:  20220624_0707_Plate01     NaN   84_20220621   \n",
       "17    06.05.2022, 09:28:  20220506_0928_Plate13     NaN   12_20220502   \n",
       "18    12.05.2022, 03:38:  20220512_0338_Plate13     NaN   12_20220502   \n",
       "23    14.03.2023, 10:03:  20230314_1003_Plate07     NaN  218_20230227   \n",
       "36    12.05.2022, 15:38:  20220512_1538_Plate13     NaN   12_20220502   \n",
       "...                  ...                    ...     ...           ...   \n",
       "2685  17.05.2022, 15:23:  20220517_1523_Plate13     NaN   12_20220502   \n",
       "2690  04.03.2023, 13:13:  20230304_1313_Plate07     NaN  218_20230227   \n",
       "2691  09.05.2022, 20:00:  20220509_2000_Plate13     NaN   12_20220502   \n",
       "2710  03.05.2022, 11:21:  20220503_1121_Plate13     NaN   12_20220502   \n",
       "2720  16.05.2022, 10:25:  20220516_1025_Plate13     NaN   12_20220502   \n",
       "\n",
       "                datetime  \n",
       "6    2022-06-24 07:07:00  \n",
       "17   2022-05-06 09:28:00  \n",
       "18   2022-05-12 03:38:00  \n",
       "23   2023-03-14 10:03:00  \n",
       "36   2022-05-12 15:38:00  \n",
       "...                  ...  \n",
       "2685 2022-05-17 15:23:00  \n",
       "2690 2023-03-04 13:13:00  \n",
       "2691 2022-05-09 20:00:00  \n",
       "2710 2022-05-03 11:21:00  \n",
       "2720 2022-05-16 10:25:00  \n",
       "\n",
       "[431 rows x 25 columns]"
      ]
     },
     "execution_count": 31,
     "metadata": {},
     "output_type": "execute_result"
    }
   ],
   "source": [
    "folders = all_folders.loc[all_folders[\"unique_id\"].isin(plates)]\n",
    "folders"
   ]
  },
  {
   "cell_type": "code",
   "execution_count": 9,
   "id": "d943f0d8-dd95-4512-b557-f2aad2cf53a4",
   "metadata": {
    "tags": []
   },
   "outputs": [],
   "source": [
    "import shutil\n",
    "\n",
    "for path in folders[\"total_path\"]:\n",
    "    shutil.rmtree(path)"
   ]
  },
  {
   "cell_type": "code",
   "execution_count": null,
   "id": "4c84f8f4-6743-44fe-8b30-3a3f3b62159f",
   "metadata": {
    "collapsed": true,
    "jupyter": {
     "outputs_hidden": true
    },
    "tags": []
   },
   "outputs": [
    {
     "name": "stdout",
     "output_type": "stream",
     "text": [
      "2023-09-03 11:32:24,355-[INFO]- dropbox:390 -> Refreshing access token.\n",
      "2023-09-03 11:32:24,528-[INFO]- dropbox:474 -> Request to files/list_folder\n",
      "2023-09-03 11:32:25,714-[INFO]- dropbox:474 -> Request to files/list_folder/continue\n"
     ]
    },
    {
     "data": {
      "application/vnd.jupyter.widget-view+json": {
       "model_id": "73ddf1098bea4cdabc03f502c8c337fd",
       "version_major": 2,
       "version_minor": 0
      },
      "text/plain": [
       "sizes:   0%|          | 0/899 [00:00<?, ?it/s]"
      ]
     },
     "metadata": {},
     "output_type": "display_data"
    },
    {
     "name": "stdout",
     "output_type": "stream",
     "text": [
      "2023-09-03 11:32:26,776-[INFO]- dropbox:390 -> Refreshing access token.\n",
      "2023-09-03 11:32:26,924-[INFO]- dropbox:474 -> Request to files/list_folder\n",
      "2023-09-03 11:32:27,479-[INFO]- dropbox:390 -> Refreshing access token.\n",
      "2023-09-03 11:32:27,629-[INFO]- dropbox:474 -> Request to files/list_folder\n",
      "2023-09-03 11:32:28,078-[INFO]- dropbox:390 -> Refreshing access token.\n",
      "2023-09-03 11:32:28,226-[INFO]- dropbox:474 -> Request to files/list_folder\n",
      "2023-09-03 11:32:28,647-[INFO]- dropbox:390 -> Refreshing access token.\n",
      "2023-09-03 11:32:28,784-[INFO]- dropbox:474 -> Request to files/list_folder\n",
      "2023-09-03 11:32:29,141-[INFO]- dropbox:390 -> Refreshing access token.\n",
      "2023-09-03 11:32:29,280-[INFO]- dropbox:474 -> Request to files/list_folder\n",
      "2023-09-03 11:32:29,900-[INFO]- dropbox:390 -> Refreshing access token.\n",
      "2023-09-03 11:32:30,061-[INFO]- dropbox:474 -> Request to files/list_folder\n",
      "2023-09-03 11:32:30,643-[INFO]- dropbox:390 -> Refreshing access token.\n",
      "2023-09-03 11:32:30,790-[INFO]- dropbox:474 -> Request to files/list_folder\n",
      "2023-09-03 11:32:31,289-[INFO]- dropbox:390 -> Refreshing access token.\n",
      "2023-09-03 11:32:31,441-[INFO]- dropbox:474 -> Request to files/list_folder\n",
      "2023-09-03 11:32:31,739-[INFO]- dropbox:390 -> Refreshing access token.\n",
      "2023-09-03 11:32:31,903-[INFO]- dropbox:474 -> Request to files/list_folder\n",
      "2023-09-03 11:32:32,200-[INFO]- dropbox:390 -> Refreshing access token.\n",
      "2023-09-03 11:32:32,348-[INFO]- dropbox:474 -> Request to files/list_folder\n",
      "2023-09-03 11:32:33,048-[INFO]- dropbox:390 -> Refreshing access token.\n",
      "2023-09-03 11:32:33,231-[INFO]- dropbox:474 -> Request to files/list_folder\n",
      "2023-09-03 11:32:33,573-[INFO]- dropbox:390 -> Refreshing access token.\n",
      "2023-09-03 11:32:33,730-[INFO]- dropbox:474 -> Request to files/list_folder\n",
      "2023-09-03 11:32:34,042-[INFO]- dropbox:390 -> Refreshing access token.\n",
      "2023-09-03 11:32:34,181-[INFO]- dropbox:474 -> Request to files/list_folder\n",
      "2023-09-03 11:32:34,484-[INFO]- dropbox:390 -> Refreshing access token.\n",
      "2023-09-03 11:32:34,629-[INFO]- dropbox:474 -> Request to files/list_folder\n",
      "2023-09-03 11:32:34,967-[INFO]- dropbox:390 -> Refreshing access token.\n",
      "2023-09-03 11:32:35,119-[INFO]- dropbox:474 -> Request to files/list_folder\n",
      "2023-09-03 11:32:35,475-[INFO]- dropbox:390 -> Refreshing access token.\n",
      "2023-09-03 11:32:35,617-[INFO]- dropbox:474 -> Request to files/list_folder\n",
      "2023-09-03 11:32:36,088-[INFO]- dropbox:390 -> Refreshing access token.\n",
      "2023-09-03 11:32:36,231-[INFO]- dropbox:474 -> Request to files/list_folder\n",
      "2023-09-03 11:32:36,492-[INFO]- dropbox:390 -> Refreshing access token.\n",
      "2023-09-03 11:32:36,667-[INFO]- dropbox:474 -> Request to files/list_folder\n",
      "2023-09-03 11:32:37,103-[INFO]- dropbox:390 -> Refreshing access token.\n",
      "2023-09-03 11:32:37,261-[INFO]- dropbox:474 -> Request to files/list_folder\n",
      "2023-09-03 11:32:37,579-[INFO]- dropbox:390 -> Refreshing access token.\n",
      "2023-09-03 11:32:37,720-[INFO]- dropbox:474 -> Request to files/list_folder\n",
      "2023-09-03 11:32:37,997-[INFO]- dropbox:390 -> Refreshing access token.\n",
      "2023-09-03 11:32:38,158-[INFO]- dropbox:474 -> Request to files/list_folder\n",
      "2023-09-03 11:32:38,675-[INFO]- dropbox:390 -> Refreshing access token.\n",
      "2023-09-03 11:32:38,839-[INFO]- dropbox:474 -> Request to files/list_folder\n",
      "2023-09-03 11:32:39,093-[INFO]- dropbox:390 -> Refreshing access token.\n",
      "2023-09-03 11:32:39,241-[INFO]- dropbox:474 -> Request to files/list_folder\n",
      "2023-09-03 11:32:39,527-[INFO]- dropbox:390 -> Refreshing access token.\n",
      "2023-09-03 11:32:39,670-[INFO]- dropbox:474 -> Request to files/list_folder\n",
      "2023-09-03 11:32:39,928-[INFO]- dropbox:390 -> Refreshing access token.\n",
      "2023-09-03 11:32:40,068-[INFO]- dropbox:474 -> Request to files/list_folder\n",
      "2023-09-03 11:32:40,332-[INFO]- dropbox:390 -> Refreshing access token.\n",
      "2023-09-03 11:32:40,478-[INFO]- dropbox:474 -> Request to files/list_folder\n",
      "2023-09-03 11:32:40,787-[INFO]- dropbox:390 -> Refreshing access token.\n",
      "2023-09-03 11:32:40,934-[INFO]- dropbox:474 -> Request to files/list_folder\n",
      "2023-09-03 11:32:41,212-[INFO]- dropbox:390 -> Refreshing access token.\n",
      "2023-09-03 11:32:41,359-[INFO]- dropbox:474 -> Request to files/list_folder\n",
      "2023-09-03 11:32:41,618-[INFO]- dropbox:390 -> Refreshing access token.\n",
      "2023-09-03 11:32:41,768-[INFO]- dropbox:474 -> Request to files/list_folder\n",
      "2023-09-03 11:32:42,028-[INFO]- dropbox:390 -> Refreshing access token.\n",
      "2023-09-03 11:32:42,174-[INFO]- dropbox:474 -> Request to files/list_folder\n",
      "2023-09-03 11:32:42,454-[INFO]- dropbox:390 -> Refreshing access token.\n",
      "2023-09-03 11:32:42,607-[INFO]- dropbox:474 -> Request to files/list_folder\n",
      "2023-09-03 11:32:42,920-[INFO]- dropbox:390 -> Refreshing access token.\n",
      "2023-09-03 11:32:43,064-[INFO]- dropbox:474 -> Request to files/list_folder\n",
      "2023-09-03 11:32:43,362-[INFO]- dropbox:390 -> Refreshing access token.\n",
      "2023-09-03 11:32:43,503-[INFO]- dropbox:474 -> Request to files/list_folder\n",
      "2023-09-03 11:32:43,762-[INFO]- dropbox:390 -> Refreshing access token.\n",
      "2023-09-03 11:32:43,910-[INFO]- dropbox:474 -> Request to files/list_folder\n",
      "2023-09-03 11:32:44,165-[INFO]- dropbox:390 -> Refreshing access token.\n",
      "2023-09-03 11:32:44,308-[INFO]- dropbox:474 -> Request to files/list_folder\n",
      "2023-09-03 11:32:44,564-[INFO]- dropbox:390 -> Refreshing access token.\n",
      "2023-09-03 11:32:44,705-[INFO]- dropbox:474 -> Request to files/list_folder\n",
      "2023-09-03 11:32:44,975-[INFO]- dropbox:390 -> Refreshing access token.\n",
      "2023-09-03 11:32:45,121-[INFO]- dropbox:474 -> Request to files/list_folder\n",
      "2023-09-03 11:32:45,462-[INFO]- dropbox:390 -> Refreshing access token.\n",
      "2023-09-03 11:32:45,612-[INFO]- dropbox:474 -> Request to files/list_folder\n",
      "2023-09-03 11:32:45,984-[INFO]- dropbox:390 -> Refreshing access token.\n",
      "2023-09-03 11:32:46,125-[INFO]- dropbox:474 -> Request to files/list_folder\n",
      "2023-09-03 11:32:46,486-[INFO]- dropbox:390 -> Refreshing access token.\n",
      "2023-09-03 11:32:46,648-[INFO]- dropbox:474 -> Request to files/list_folder\n",
      "2023-09-03 11:32:47,037-[INFO]- dropbox:390 -> Refreshing access token.\n",
      "2023-09-03 11:32:47,181-[INFO]- dropbox:474 -> Request to files/list_folder\n",
      "2023-09-03 11:32:47,501-[INFO]- dropbox:390 -> Refreshing access token.\n",
      "2023-09-03 11:32:47,654-[INFO]- dropbox:474 -> Request to files/list_folder\n",
      "2023-09-03 11:32:48,004-[INFO]- dropbox:390 -> Refreshing access token.\n",
      "2023-09-03 11:32:48,149-[INFO]- dropbox:474 -> Request to files/list_folder\n",
      "2023-09-03 11:32:48,661-[INFO]- dropbox:390 -> Refreshing access token.\n",
      "2023-09-03 11:32:48,806-[INFO]- dropbox:474 -> Request to files/list_folder\n",
      "2023-09-03 11:32:49,309-[INFO]- dropbox:390 -> Refreshing access token.\n",
      "2023-09-03 11:32:49,454-[INFO]- dropbox:474 -> Request to files/list_folder\n",
      "2023-09-03 11:32:49,968-[INFO]- dropbox:390 -> Refreshing access token.\n",
      "2023-09-03 11:32:50,120-[INFO]- dropbox:474 -> Request to files/list_folder\n",
      "2023-09-03 11:32:50,595-[INFO]- dropbox:390 -> Refreshing access token.\n",
      "2023-09-03 11:32:50,738-[INFO]- dropbox:474 -> Request to files/list_folder\n",
      "2023-09-03 11:32:51,114-[INFO]- dropbox:390 -> Refreshing access token.\n",
      "2023-09-03 11:32:51,282-[INFO]- dropbox:474 -> Request to files/list_folder\n",
      "2023-09-03 11:32:52,004-[INFO]- dropbox:390 -> Refreshing access token.\n",
      "2023-09-03 11:32:52,167-[INFO]- dropbox:474 -> Request to files/list_folder\n",
      "2023-09-03 11:32:52,589-[INFO]- dropbox:390 -> Refreshing access token.\n",
      "2023-09-03 11:32:52,735-[INFO]- dropbox:474 -> Request to files/list_folder\n",
      "2023-09-03 11:32:53,109-[INFO]- dropbox:390 -> Refreshing access token.\n",
      "2023-09-03 11:32:53,258-[INFO]- dropbox:474 -> Request to files/list_folder\n",
      "2023-09-03 11:32:53,658-[INFO]- dropbox:390 -> Refreshing access token.\n",
      "2023-09-03 11:32:53,803-[INFO]- dropbox:474 -> Request to files/list_folder\n",
      "2023-09-03 11:32:54,174-[INFO]- dropbox:390 -> Refreshing access token.\n",
      "2023-09-03 11:32:54,315-[INFO]- dropbox:474 -> Request to files/list_folder\n",
      "2023-09-03 11:32:54,710-[INFO]- dropbox:390 -> Refreshing access token.\n",
      "2023-09-03 11:32:54,855-[INFO]- dropbox:474 -> Request to files/list_folder\n",
      "2023-09-03 11:32:55,310-[INFO]- dropbox:390 -> Refreshing access token.\n",
      "2023-09-03 11:32:55,461-[INFO]- dropbox:474 -> Request to files/list_folder\n",
      "2023-09-03 11:32:56,000-[INFO]- dropbox:390 -> Refreshing access token.\n",
      "2023-09-03 11:32:56,156-[INFO]- dropbox:474 -> Request to files/list_folder\n",
      "2023-09-03 11:32:56,610-[INFO]- dropbox:390 -> Refreshing access token.\n",
      "2023-09-03 11:32:56,756-[INFO]- dropbox:474 -> Request to files/list_folder\n",
      "2023-09-03 11:32:57,135-[INFO]- dropbox:390 -> Refreshing access token.\n",
      "2023-09-03 11:32:57,279-[INFO]- dropbox:474 -> Request to files/list_folder\n",
      "2023-09-03 11:32:57,688-[INFO]- dropbox:390 -> Refreshing access token.\n",
      "2023-09-03 11:32:57,835-[INFO]- dropbox:474 -> Request to files/list_folder\n",
      "2023-09-03 11:32:58,091-[INFO]- dropbox:390 -> Refreshing access token.\n",
      "2023-09-03 11:32:58,244-[INFO]- dropbox:474 -> Request to files/list_folder\n",
      "2023-09-03 11:32:58,504-[INFO]- dropbox:390 -> Refreshing access token.\n",
      "2023-09-03 11:32:58,651-[INFO]- dropbox:474 -> Request to files/list_folder\n",
      "2023-09-03 11:32:59,078-[INFO]- dropbox:390 -> Refreshing access token.\n",
      "2023-09-03 11:32:59,220-[INFO]- dropbox:474 -> Request to files/list_folder\n",
      "2023-09-03 11:33:00,987-[INFO]- dropbox:390 -> Refreshing access token.\n",
      "2023-09-03 11:33:01,135-[INFO]- dropbox:474 -> Request to files/list_folder\n",
      "2023-09-03 11:33:01,574-[INFO]- dropbox:390 -> Refreshing access token.\n",
      "2023-09-03 11:33:01,720-[INFO]- dropbox:474 -> Request to files/list_folder\n",
      "2023-09-03 11:33:02,119-[INFO]- dropbox:390 -> Refreshing access token.\n",
      "2023-09-03 11:33:02,262-[INFO]- dropbox:474 -> Request to files/list_folder\n",
      "2023-09-03 11:33:02,717-[INFO]- dropbox:390 -> Refreshing access token.\n",
      "2023-09-03 11:33:02,860-[INFO]- dropbox:474 -> Request to files/list_folder\n",
      "2023-09-03 11:33:03,253-[INFO]- dropbox:390 -> Refreshing access token.\n",
      "2023-09-03 11:33:03,398-[INFO]- dropbox:474 -> Request to files/list_folder\n",
      "2023-09-03 11:33:03,983-[INFO]- dropbox:390 -> Refreshing access token.\n",
      "2023-09-03 11:33:04,123-[INFO]- dropbox:474 -> Request to files/list_folder\n",
      "2023-09-03 11:33:04,569-[INFO]- dropbox:390 -> Refreshing access token.\n",
      "2023-09-03 11:33:04,715-[INFO]- dropbox:474 -> Request to files/list_folder\n",
      "2023-09-03 11:33:05,121-[INFO]- dropbox:390 -> Refreshing access token.\n",
      "2023-09-03 11:33:05,262-[INFO]- dropbox:474 -> Request to files/list_folder\n",
      "2023-09-03 11:33:05,729-[INFO]- dropbox:390 -> Refreshing access token.\n",
      "2023-09-03 11:33:05,883-[INFO]- dropbox:474 -> Request to files/list_folder\n",
      "2023-09-03 11:33:06,144-[INFO]- dropbox:390 -> Refreshing access token.\n",
      "2023-09-03 11:33:06,297-[INFO]- dropbox:474 -> Request to files/list_folder\n",
      "2023-09-03 11:33:06,573-[INFO]- dropbox:390 -> Refreshing access token.\n",
      "2023-09-03 11:33:06,725-[INFO]- dropbox:474 -> Request to files/list_folder\n",
      "2023-09-03 11:33:06,969-[INFO]- dropbox:390 -> Refreshing access token.\n",
      "2023-09-03 11:33:07,136-[INFO]- dropbox:474 -> Request to files/list_folder\n",
      "2023-09-03 11:33:07,524-[INFO]- dropbox:390 -> Refreshing access token.\n",
      "2023-09-03 11:33:07,665-[INFO]- dropbox:474 -> Request to files/list_folder\n",
      "2023-09-03 11:33:08,201-[INFO]- dropbox:390 -> Refreshing access token.\n",
      "2023-09-03 11:33:08,346-[INFO]- dropbox:474 -> Request to files/list_folder\n",
      "2023-09-03 11:33:08,819-[INFO]- dropbox:390 -> Refreshing access token.\n",
      "2023-09-03 11:33:08,976-[INFO]- dropbox:474 -> Request to files/list_folder\n",
      "2023-09-03 11:33:09,435-[INFO]- dropbox:390 -> Refreshing access token.\n",
      "2023-09-03 11:33:09,577-[INFO]- dropbox:474 -> Request to files/list_folder\n",
      "2023-09-03 11:33:10,066-[INFO]- dropbox:390 -> Refreshing access token.\n",
      "2023-09-03 11:33:10,227-[INFO]- dropbox:474 -> Request to files/list_folder\n",
      "2023-09-03 11:33:10,599-[INFO]- dropbox:390 -> Refreshing access token.\n",
      "2023-09-03 11:33:10,747-[INFO]- dropbox:474 -> Request to files/list_folder\n",
      "2023-09-03 11:33:11,088-[INFO]- dropbox:390 -> Refreshing access token.\n",
      "2023-09-03 11:33:11,239-[INFO]- dropbox:474 -> Request to files/list_folder\n",
      "2023-09-03 11:33:11,567-[INFO]- dropbox:390 -> Refreshing access token.\n",
      "2023-09-03 11:33:11,713-[INFO]- dropbox:474 -> Request to files/list_folder\n",
      "2023-09-03 11:33:12,060-[INFO]- dropbox:390 -> Refreshing access token.\n",
      "2023-09-03 11:33:12,207-[INFO]- dropbox:474 -> Request to files/list_folder\n",
      "2023-09-03 11:33:12,695-[INFO]- dropbox:390 -> Refreshing access token.\n",
      "2023-09-03 11:33:12,842-[INFO]- dropbox:474 -> Request to files/list_folder\n",
      "2023-09-03 11:33:13,788-[INFO]- dropbox:390 -> Refreshing access token.\n",
      "2023-09-03 11:33:13,930-[INFO]- dropbox:474 -> Request to files/list_folder\n",
      "2023-09-03 11:33:14,632-[INFO]- dropbox:390 -> Refreshing access token.\n",
      "2023-09-03 11:33:14,777-[INFO]- dropbox:474 -> Request to files/list_folder\n",
      "2023-09-03 11:33:15,165-[INFO]- dropbox:390 -> Refreshing access token.\n",
      "2023-09-03 11:33:15,328-[INFO]- dropbox:474 -> Request to files/list_folder\n",
      "2023-09-03 11:33:15,719-[INFO]- dropbox:390 -> Refreshing access token.\n",
      "2023-09-03 11:33:15,860-[INFO]- dropbox:474 -> Request to files/list_folder\n",
      "2023-09-03 11:33:16,200-[INFO]- dropbox:390 -> Refreshing access token.\n",
      "2023-09-03 11:33:16,349-[INFO]- dropbox:474 -> Request to files/list_folder\n",
      "2023-09-03 11:33:16,745-[INFO]- dropbox:390 -> Refreshing access token.\n",
      "2023-09-03 11:33:16,892-[INFO]- dropbox:474 -> Request to files/list_folder\n",
      "2023-09-03 11:33:17,203-[INFO]- dropbox:390 -> Refreshing access token.\n",
      "2023-09-03 11:33:17,349-[INFO]- dropbox:474 -> Request to files/list_folder\n",
      "2023-09-03 11:33:17,739-[INFO]- dropbox:390 -> Refreshing access token.\n",
      "2023-09-03 11:33:17,891-[INFO]- dropbox:474 -> Request to files/list_folder\n",
      "2023-09-03 11:33:18,276-[INFO]- dropbox:390 -> Refreshing access token.\n",
      "2023-09-03 11:33:18,438-[INFO]- dropbox:474 -> Request to files/list_folder\n",
      "2023-09-03 11:33:18,784-[INFO]- dropbox:390 -> Refreshing access token.\n",
      "2023-09-03 11:33:18,926-[INFO]- dropbox:474 -> Request to files/list_folder\n",
      "2023-09-03 11:33:19,256-[INFO]- dropbox:390 -> Refreshing access token.\n",
      "2023-09-03 11:33:19,598-[INFO]- dropbox:474 -> Request to files/list_folder\n",
      "2023-09-03 11:33:19,917-[INFO]- dropbox:390 -> Refreshing access token.\n",
      "2023-09-03 11:33:20,071-[INFO]- dropbox:474 -> Request to files/list_folder\n",
      "2023-09-03 11:33:20,338-[INFO]- dropbox:390 -> Refreshing access token.\n",
      "2023-09-03 11:33:20,498-[INFO]- dropbox:474 -> Request to files/list_folder\n",
      "2023-09-03 11:33:20,759-[INFO]- dropbox:390 -> Refreshing access token.\n",
      "2023-09-03 11:33:20,899-[INFO]- dropbox:474 -> Request to files/list_folder\n",
      "2023-09-03 11:33:21,230-[INFO]- dropbox:390 -> Refreshing access token.\n",
      "2023-09-03 11:33:21,377-[INFO]- dropbox:474 -> Request to files/list_folder\n",
      "2023-09-03 11:33:21,833-[INFO]- dropbox:390 -> Refreshing access token.\n",
      "2023-09-03 11:33:21,979-[INFO]- dropbox:474 -> Request to files/list_folder\n",
      "2023-09-03 11:33:22,270-[INFO]- dropbox:390 -> Refreshing access token.\n",
      "2023-09-03 11:33:22,440-[INFO]- dropbox:474 -> Request to files/list_folder\n",
      "2023-09-03 11:33:22,804-[INFO]- dropbox:390 -> Refreshing access token.\n",
      "2023-09-03 11:33:22,951-[INFO]- dropbox:474 -> Request to files/list_folder\n",
      "2023-09-03 11:33:23,265-[INFO]- dropbox:390 -> Refreshing access token.\n",
      "2023-09-03 11:33:23,416-[INFO]- dropbox:474 -> Request to files/list_folder\n",
      "2023-09-03 11:33:23,830-[INFO]- dropbox:390 -> Refreshing access token.\n",
      "2023-09-03 11:33:23,972-[INFO]- dropbox:474 -> Request to files/list_folder\n",
      "2023-09-03 11:33:24,544-[INFO]- dropbox:390 -> Refreshing access token.\n",
      "2023-09-03 11:33:24,706-[INFO]- dropbox:474 -> Request to files/list_folder\n",
      "2023-09-03 11:33:25,104-[INFO]- dropbox:390 -> Refreshing access token.\n",
      "2023-09-03 11:33:25,266-[INFO]- dropbox:474 -> Request to files/list_folder\n",
      "2023-09-03 11:33:25,682-[INFO]- dropbox:390 -> Refreshing access token.\n",
      "2023-09-03 11:33:25,825-[INFO]- dropbox:474 -> Request to files/list_folder\n",
      "2023-09-03 11:33:26,227-[INFO]- dropbox:390 -> Refreshing access token.\n",
      "2023-09-03 11:33:26,387-[INFO]- dropbox:474 -> Request to files/list_folder\n",
      "2023-09-03 11:33:26,815-[INFO]- dropbox:390 -> Refreshing access token.\n",
      "2023-09-03 11:33:26,963-[INFO]- dropbox:474 -> Request to files/list_folder\n",
      "2023-09-03 11:33:27,237-[INFO]- dropbox:390 -> Refreshing access token.\n",
      "2023-09-03 11:33:27,383-[INFO]- dropbox:474 -> Request to files/list_folder\n",
      "2023-09-03 11:33:27,924-[INFO]- dropbox:390 -> Refreshing access token.\n",
      "2023-09-03 11:33:28,086-[INFO]- dropbox:474 -> Request to files/list_folder\n",
      "2023-09-03 11:33:28,568-[INFO]- dropbox:390 -> Refreshing access token.\n",
      "2023-09-03 11:33:28,712-[INFO]- dropbox:474 -> Request to files/list_folder\n",
      "2023-09-03 11:33:29,157-[INFO]- dropbox:390 -> Refreshing access token.\n",
      "2023-09-03 11:33:29,305-[INFO]- dropbox:474 -> Request to files/list_folder\n",
      "2023-09-03 11:33:29,727-[INFO]- dropbox:390 -> Refreshing access token.\n",
      "2023-09-03 11:33:29,872-[INFO]- dropbox:474 -> Request to files/list_folder\n",
      "2023-09-03 11:33:30,860-[INFO]- dropbox:390 -> Refreshing access token.\n",
      "2023-09-03 11:33:31,010-[INFO]- dropbox:474 -> Request to files/list_folder\n",
      "2023-09-03 11:33:31,416-[INFO]- dropbox:390 -> Refreshing access token.\n",
      "2023-09-03 11:33:31,560-[INFO]- dropbox:474 -> Request to files/list_folder\n",
      "2023-09-03 11:33:32,022-[INFO]- dropbox:390 -> Refreshing access token.\n",
      "2023-09-03 11:33:32,184-[INFO]- dropbox:474 -> Request to files/list_folder\n",
      "2023-09-03 11:33:32,454-[INFO]- dropbox:390 -> Refreshing access token.\n",
      "2023-09-03 11:33:32,619-[INFO]- dropbox:474 -> Request to files/list_folder\n",
      "2023-09-03 11:33:32,882-[INFO]- dropbox:390 -> Refreshing access token.\n",
      "2023-09-03 11:33:33,032-[INFO]- dropbox:474 -> Request to files/list_folder\n",
      "2023-09-03 11:33:33,272-[INFO]- dropbox:390 -> Refreshing access token.\n",
      "2023-09-03 11:33:33,420-[INFO]- dropbox:474 -> Request to files/list_folder\n",
      "2023-09-03 11:33:33,689-[INFO]- dropbox:390 -> Refreshing access token.\n",
      "2023-09-03 11:33:33,830-[INFO]- dropbox:474 -> Request to files/list_folder\n",
      "2023-09-03 11:33:34,078-[INFO]- dropbox:390 -> Refreshing access token.\n",
      "2023-09-03 11:33:34,222-[INFO]- dropbox:474 -> Request to files/list_folder\n",
      "2023-09-03 11:33:34,478-[INFO]- dropbox:390 -> Refreshing access token.\n",
      "2023-09-03 11:33:34,637-[INFO]- dropbox:474 -> Request to files/list_folder\n",
      "2023-09-03 11:33:34,900-[INFO]- dropbox:390 -> Refreshing access token.\n",
      "2023-09-03 11:33:35,044-[INFO]- dropbox:474 -> Request to files/list_folder\n",
      "2023-09-03 11:33:35,556-[INFO]- dropbox:390 -> Refreshing access token.\n",
      "2023-09-03 11:33:35,736-[INFO]- dropbox:474 -> Request to files/list_folder\n",
      "2023-09-03 11:33:36,407-[INFO]- dropbox:390 -> Refreshing access token.\n",
      "2023-09-03 11:33:36,545-[INFO]- dropbox:474 -> Request to files/list_folder\n",
      "2023-09-03 11:33:37,125-[INFO]- dropbox:390 -> Refreshing access token.\n",
      "2023-09-03 11:33:37,276-[INFO]- dropbox:474 -> Request to files/list_folder\n",
      "2023-09-03 11:33:38,553-[INFO]- dropbox:390 -> Refreshing access token.\n",
      "2023-09-03 11:33:38,704-[INFO]- dropbox:474 -> Request to files/list_folder\n",
      "2023-09-03 11:33:39,332-[INFO]- dropbox:390 -> Refreshing access token.\n",
      "2023-09-03 11:33:39,478-[INFO]- dropbox:474 -> Request to files/list_folder\n",
      "2023-09-03 11:33:39,932-[INFO]- dropbox:390 -> Refreshing access token.\n",
      "2023-09-03 11:33:40,080-[INFO]- dropbox:474 -> Request to files/list_folder\n",
      "2023-09-03 11:33:40,557-[INFO]- dropbox:390 -> Refreshing access token.\n",
      "2023-09-03 11:33:40,700-[INFO]- dropbox:474 -> Request to files/list_folder\n",
      "2023-09-03 11:33:41,322-[INFO]- dropbox:390 -> Refreshing access token.\n",
      "2023-09-03 11:33:41,480-[INFO]- dropbox:474 -> Request to files/list_folder\n",
      "2023-09-03 11:33:42,113-[INFO]- dropbox:390 -> Refreshing access token.\n",
      "2023-09-03 11:33:42,262-[INFO]- dropbox:474 -> Request to files/list_folder\n",
      "2023-09-03 11:33:42,728-[INFO]- dropbox:390 -> Refreshing access token.\n",
      "2023-09-03 11:33:42,885-[INFO]- dropbox:474 -> Request to files/list_folder\n",
      "2023-09-03 11:33:43,454-[INFO]- dropbox:390 -> Refreshing access token.\n",
      "2023-09-03 11:33:43,605-[INFO]- dropbox:474 -> Request to files/list_folder\n",
      "2023-09-03 11:33:44,299-[INFO]- dropbox:390 -> Refreshing access token.\n",
      "2023-09-03 11:33:44,438-[INFO]- dropbox:474 -> Request to files/list_folder\n",
      "2023-09-03 11:33:44,903-[INFO]- dropbox:390 -> Refreshing access token.\n",
      "2023-09-03 11:33:45,057-[INFO]- dropbox:474 -> Request to files/list_folder\n",
      "2023-09-03 11:33:45,975-[INFO]- dropbox:390 -> Refreshing access token.\n",
      "2023-09-03 11:33:46,144-[INFO]- dropbox:474 -> Request to files/list_folder\n",
      "2023-09-03 11:33:46,759-[INFO]- dropbox:390 -> Refreshing access token.\n",
      "2023-09-03 11:33:46,914-[INFO]- dropbox:474 -> Request to files/list_folder\n",
      "2023-09-03 11:33:47,390-[INFO]- dropbox:390 -> Refreshing access token.\n",
      "2023-09-03 11:33:47,539-[INFO]- dropbox:474 -> Request to files/list_folder\n",
      "2023-09-03 11:33:48,053-[INFO]- dropbox:390 -> Refreshing access token.\n",
      "2023-09-03 11:33:48,198-[INFO]- dropbox:474 -> Request to files/list_folder\n",
      "2023-09-03 11:33:48,681-[INFO]- dropbox:390 -> Refreshing access token.\n",
      "2023-09-03 11:33:48,830-[INFO]- dropbox:474 -> Request to files/list_folder\n",
      "2023-09-03 11:33:49,103-[INFO]- dropbox:390 -> Refreshing access token.\n",
      "2023-09-03 11:33:49,246-[INFO]- dropbox:474 -> Request to files/list_folder\n",
      "2023-09-03 11:33:49,542-[INFO]- dropbox:390 -> Refreshing access token.\n",
      "2023-09-03 11:33:49,713-[INFO]- dropbox:474 -> Request to files/list_folder\n",
      "2023-09-03 11:33:49,989-[INFO]- dropbox:390 -> Refreshing access token.\n",
      "2023-09-03 11:33:50,131-[INFO]- dropbox:474 -> Request to files/list_folder\n",
      "2023-09-03 11:33:50,992-[INFO]- dropbox:390 -> Refreshing access token.\n",
      "2023-09-03 11:33:51,138-[INFO]- dropbox:474 -> Request to files/list_folder\n",
      "2023-09-03 11:33:51,488-[INFO]- dropbox:390 -> Refreshing access token.\n",
      "2023-09-03 11:33:51,706-[INFO]- dropbox:474 -> Request to files/list_folder\n",
      "2023-09-03 11:33:52,393-[INFO]- dropbox:390 -> Refreshing access token.\n",
      "2023-09-03 11:33:52,557-[INFO]- dropbox:474 -> Request to files/list_folder\n",
      "2023-09-03 11:33:53,245-[INFO]- dropbox:390 -> Refreshing access token.\n",
      "2023-09-03 11:33:53,391-[INFO]- dropbox:474 -> Request to files/list_folder\n",
      "2023-09-03 11:33:54,023-[INFO]- dropbox:390 -> Refreshing access token.\n",
      "2023-09-03 11:33:54,167-[INFO]- dropbox:474 -> Request to files/list_folder\n",
      "2023-09-03 11:33:54,668-[INFO]- dropbox:390 -> Refreshing access token.\n",
      "2023-09-03 11:33:54,810-[INFO]- dropbox:474 -> Request to files/list_folder\n",
      "2023-09-03 11:33:55,218-[INFO]- dropbox:390 -> Refreshing access token.\n",
      "2023-09-03 11:33:55,357-[INFO]- dropbox:474 -> Request to files/list_folder\n",
      "2023-09-03 11:33:55,758-[INFO]- dropbox:390 -> Refreshing access token.\n",
      "2023-09-03 11:33:55,904-[INFO]- dropbox:474 -> Request to files/list_folder\n",
      "2023-09-03 11:33:56,356-[INFO]- dropbox:390 -> Refreshing access token.\n",
      "2023-09-03 11:33:56,499-[INFO]- dropbox:474 -> Request to files/list_folder\n",
      "2023-09-03 11:33:56,949-[INFO]- dropbox:390 -> Refreshing access token.\n",
      "2023-09-03 11:33:57,096-[INFO]- dropbox:474 -> Request to files/list_folder\n",
      "2023-09-03 11:33:57,461-[INFO]- dropbox:390 -> Refreshing access token.\n",
      "2023-09-03 11:33:57,611-[INFO]- dropbox:474 -> Request to files/list_folder\n",
      "2023-09-03 11:33:57,966-[INFO]- dropbox:390 -> Refreshing access token.\n",
      "2023-09-03 11:33:58,115-[INFO]- dropbox:474 -> Request to files/list_folder\n",
      "2023-09-03 11:33:58,391-[INFO]- dropbox:390 -> Refreshing access token.\n",
      "2023-09-03 11:33:58,546-[INFO]- dropbox:474 -> Request to files/list_folder\n",
      "2023-09-03 11:33:59,055-[INFO]- dropbox:390 -> Refreshing access token.\n",
      "2023-09-03 11:33:59,198-[INFO]- dropbox:474 -> Request to files/list_folder\n",
      "2023-09-03 11:33:59,690-[INFO]- dropbox:390 -> Refreshing access token.\n",
      "2023-09-03 11:33:59,833-[INFO]- dropbox:474 -> Request to files/list_folder\n",
      "2023-09-03 11:34:00,172-[INFO]- dropbox:390 -> Refreshing access token.\n",
      "2023-09-03 11:34:00,313-[INFO]- dropbox:474 -> Request to files/list_folder\n",
      "2023-09-03 11:34:00,624-[INFO]- dropbox:390 -> Refreshing access token.\n",
      "2023-09-03 11:34:00,766-[INFO]- dropbox:474 -> Request to files/list_folder\n",
      "2023-09-03 11:34:01,458-[INFO]- dropbox:390 -> Refreshing access token.\n",
      "2023-09-03 11:34:01,614-[INFO]- dropbox:474 -> Request to files/list_folder\n",
      "2023-09-03 11:34:02,514-[INFO]- dropbox:390 -> Refreshing access token.\n",
      "2023-09-03 11:34:02,661-[INFO]- dropbox:474 -> Request to files/list_folder\n",
      "2023-09-03 11:34:03,134-[INFO]- dropbox:390 -> Refreshing access token.\n",
      "2023-09-03 11:34:03,280-[INFO]- dropbox:474 -> Request to files/list_folder\n",
      "2023-09-03 11:34:03,796-[INFO]- dropbox:390 -> Refreshing access token.\n",
      "2023-09-03 11:34:03,944-[INFO]- dropbox:474 -> Request to files/list_folder\n",
      "2023-09-03 11:34:04,467-[INFO]- dropbox:390 -> Refreshing access token.\n",
      "2023-09-03 11:34:04,612-[INFO]- dropbox:474 -> Request to files/list_folder\n",
      "2023-09-03 11:34:05,331-[INFO]- dropbox:390 -> Refreshing access token.\n",
      "2023-09-03 11:34:05,494-[INFO]- dropbox:474 -> Request to files/list_folder\n",
      "2023-09-03 11:34:06,428-[INFO]- dropbox:474 -> Request to files/list_folder/continue\n",
      "2023-09-03 11:34:07,205-[INFO]- dropbox:474 -> Request to files/list_folder/continue\n",
      "2023-09-03 11:34:07,530-[INFO]- dropbox:390 -> Refreshing access token.\n",
      "2023-09-03 11:34:07,674-[INFO]- dropbox:474 -> Request to files/list_folder\n",
      "2023-09-03 11:34:08,314-[INFO]- dropbox:390 -> Refreshing access token.\n",
      "2023-09-03 11:34:08,457-[INFO]- dropbox:474 -> Request to files/list_folder\n",
      "2023-09-03 11:34:08,803-[INFO]- dropbox:390 -> Refreshing access token.\n",
      "2023-09-03 11:34:08,945-[INFO]- dropbox:474 -> Request to files/list_folder\n",
      "2023-09-03 11:34:09,341-[INFO]- dropbox:390 -> Refreshing access token.\n",
      "2023-09-03 11:34:09,486-[INFO]- dropbox:474 -> Request to files/list_folder\n",
      "2023-09-03 11:34:10,062-[INFO]- dropbox:390 -> Refreshing access token.\n",
      "2023-09-03 11:34:10,207-[INFO]- dropbox:474 -> Request to files/list_folder\n",
      "2023-09-03 11:34:10,709-[INFO]- dropbox:390 -> Refreshing access token.\n",
      "2023-09-03 11:34:10,858-[INFO]- dropbox:474 -> Request to files/list_folder\n",
      "2023-09-03 11:34:11,420-[INFO]- dropbox:390 -> Refreshing access token.\n",
      "2023-09-03 11:34:11,566-[INFO]- dropbox:474 -> Request to files/list_folder\n",
      "2023-09-03 11:34:12,074-[INFO]- dropbox:390 -> Refreshing access token.\n",
      "2023-09-03 11:34:12,230-[INFO]- dropbox:474 -> Request to files/list_folder\n",
      "2023-09-03 11:34:12,717-[INFO]- dropbox:390 -> Refreshing access token.\n",
      "2023-09-03 11:34:12,866-[INFO]- dropbox:474 -> Request to files/list_folder\n",
      "2023-09-03 11:34:13,279-[INFO]- dropbox:390 -> Refreshing access token.\n",
      "2023-09-03 11:34:13,424-[INFO]- dropbox:474 -> Request to files/list_folder\n",
      "2023-09-03 11:34:13,830-[INFO]- dropbox:390 -> Refreshing access token.\n",
      "2023-09-03 11:34:13,974-[INFO]- dropbox:474 -> Request to files/list_folder\n",
      "2023-09-03 11:34:14,240-[INFO]- dropbox:390 -> Refreshing access token.\n",
      "2023-09-03 11:34:14,386-[INFO]- dropbox:474 -> Request to files/list_folder\n",
      "2023-09-03 11:34:14,869-[INFO]- dropbox:390 -> Refreshing access token.\n",
      "2023-09-03 11:34:15,020-[INFO]- dropbox:474 -> Request to files/list_folder\n",
      "2023-09-03 11:34:15,619-[INFO]- dropbox:390 -> Refreshing access token.\n",
      "2023-09-03 11:34:15,762-[INFO]- dropbox:474 -> Request to files/list_folder\n",
      "2023-09-03 11:34:16,136-[INFO]- dropbox:390 -> Refreshing access token.\n",
      "2023-09-03 11:34:16,306-[INFO]- dropbox:474 -> Request to files/list_folder\n",
      "2023-09-03 11:34:16,897-[INFO]- dropbox:390 -> Refreshing access token.\n",
      "2023-09-03 11:34:17,060-[INFO]- dropbox:474 -> Request to files/list_folder\n",
      "2023-09-03 11:34:17,569-[INFO]- dropbox:390 -> Refreshing access token.\n",
      "2023-09-03 11:34:17,724-[INFO]- dropbox:474 -> Request to files/list_folder\n",
      "2023-09-03 11:34:18,662-[INFO]- dropbox:390 -> Refreshing access token.\n",
      "2023-09-03 11:34:18,811-[INFO]- dropbox:474 -> Request to files/list_folder\n",
      "2023-09-03 11:34:19,414-[INFO]- dropbox:390 -> Refreshing access token.\n",
      "2023-09-03 11:34:19,559-[INFO]- dropbox:474 -> Request to files/list_folder\n",
      "2023-09-03 11:34:20,443-[INFO]- dropbox:390 -> Refreshing access token.\n",
      "2023-09-03 11:34:20,600-[INFO]- dropbox:474 -> Request to files/list_folder\n",
      "2023-09-03 11:34:21,150-[INFO]- dropbox:390 -> Refreshing access token.\n",
      "2023-09-03 11:34:21,304-[INFO]- dropbox:474 -> Request to files/list_folder\n",
      "2023-09-03 11:34:21,900-[INFO]- dropbox:390 -> Refreshing access token.\n",
      "2023-09-03 11:34:22,193-[INFO]- dropbox:474 -> Request to files/list_folder\n",
      "2023-09-03 11:34:22,920-[INFO]- dropbox:390 -> Refreshing access token.\n",
      "2023-09-03 11:34:23,067-[INFO]- dropbox:474 -> Request to files/list_folder\n",
      "2023-09-03 11:34:24,052-[INFO]- dropbox:390 -> Refreshing access token.\n",
      "2023-09-03 11:34:24,212-[INFO]- dropbox:474 -> Request to files/list_folder\n",
      "2023-09-03 11:34:24,741-[INFO]- dropbox:474 -> Request to files/list_folder/continue\n",
      "2023-09-03 11:34:25,001-[INFO]- dropbox:390 -> Refreshing access token.\n",
      "2023-09-03 11:34:25,156-[INFO]- dropbox:474 -> Request to files/list_folder\n",
      "2023-09-03 11:34:26,389-[INFO]- dropbox:390 -> Refreshing access token.\n",
      "2023-09-03 11:34:26,541-[INFO]- dropbox:474 -> Request to files/list_folder\n",
      "2023-09-03 11:34:27,250-[INFO]- dropbox:390 -> Refreshing access token.\n",
      "2023-09-03 11:34:27,407-[INFO]- dropbox:474 -> Request to files/list_folder\n",
      "2023-09-03 11:34:28,140-[INFO]- dropbox:390 -> Refreshing access token.\n",
      "2023-09-03 11:34:28,286-[INFO]- dropbox:474 -> Request to files/list_folder\n",
      "2023-09-03 11:34:28,872-[INFO]- dropbox:390 -> Refreshing access token.\n",
      "2023-09-03 11:34:29,018-[INFO]- dropbox:474 -> Request to files/list_folder\n",
      "2023-09-03 11:34:29,615-[INFO]- dropbox:390 -> Refreshing access token.\n",
      "2023-09-03 11:34:29,757-[INFO]- dropbox:474 -> Request to files/list_folder\n",
      "2023-09-03 11:34:30,572-[INFO]- dropbox:390 -> Refreshing access token.\n",
      "2023-09-03 11:34:30,716-[INFO]- dropbox:474 -> Request to files/list_folder\n",
      "2023-09-03 11:34:31,248-[INFO]- dropbox:390 -> Refreshing access token.\n",
      "2023-09-03 11:34:31,394-[INFO]- dropbox:474 -> Request to files/list_folder\n",
      "2023-09-03 11:34:31,869-[INFO]- dropbox:390 -> Refreshing access token.\n",
      "2023-09-03 11:34:32,011-[INFO]- dropbox:474 -> Request to files/list_folder\n",
      "2023-09-03 11:34:32,467-[INFO]- dropbox:390 -> Refreshing access token.\n",
      "2023-09-03 11:34:32,644-[INFO]- dropbox:474 -> Request to files/list_folder\n",
      "2023-09-03 11:34:32,953-[INFO]- dropbox:390 -> Refreshing access token.\n"
     ]
    }
   ],
   "source": [
    "dir_drop = \"DATA/PRINCE\"\n",
    "all_folders_drop = get_dropbox_folders_prince(\"/DATA/PRINCE\")\n",
    "folders_drop = all_folders_drop.loc[all_folders_drop[\"unique_id\"].isin(plates)]\n",
    "# folders_drop"
   ]
  },
  {
   "cell_type": "code",
   "execution_count": null,
   "id": "8c6b661d-2407-4236-8e12-792b46cc2244",
   "metadata": {},
   "outputs": [],
   "source": [
    "folders_drop"
   ]
  },
  {
   "cell_type": "code",
   "execution_count": 6,
   "id": "4e2db999-7a0d-48ff-bc6b-88737db7eb69",
   "metadata": {},
   "outputs": [
    {
     "data": {
      "text/plain": [
       "array(['908'], dtype=object)"
      ]
     },
     "execution_count": 6,
     "metadata": {},
     "output_type": "execute_result"
    }
   ],
   "source": [
    "folders_drop[\"Plate\"].unique()"
   ]
  },
  {
   "cell_type": "code",
   "execution_count": null,
   "id": "d9690b6d-0a5b-410a-a297-fdc8791c161c",
   "metadata": {
    "tags": []
   },
   "outputs": [],
   "source": [
    "folders"
   ]
  },
  {
   "cell_type": "code",
   "execution_count": 17,
   "id": "7b8ac39b-fb98-4e9a-9bc6-252ff08c1a10",
   "metadata": {},
   "outputs": [
    {
     "name": "stderr",
     "output_type": "stream",
     "text": [
      "sbatch: Single-node jobs run on a shared node by default. Add --exclusive if you want to use a node exclusively.\n",
      "sbatch: A full node consists of 32 CPU cores, 229376 MiB of memory and 0 GPUs and can be shared by up to 32 jobs.\n",
      "sbatch: By default shared jobs get 7168 MiB of memory per CPU core, unless explicitly overridden with --mem-per-cpu, --mem-per-gpu or --mem.\n",
      "sbatch: You will be charged for 0.03125 node, based on the number of CPUs, GPUs and the amount memory that you've requested.\n"
     ]
    },
    {
     "name": "stdout",
     "output_type": "stream",
     "text": [
      "Submitted batch job 3472687\n"
     ]
    }
   ],
   "source": [
    "name_job = \"transfer_analysis\"\n",
    "run_parallel_transfer(\n",
    "    \"from_drop.py\",\n",
    "    [directory_targ],\n",
    "    folders_drop,\n",
    "    50,\n",
    "    \"4:00:00\",\n",
    "    \"staging\",\n",
    "    cpus=1,\n",
    "    node=\"staging\",\n",
    "    name_job=name_job,\n",
    ")"
   ]
  },
  {
   "cell_type": "code",
   "execution_count": 9,
   "id": "4dc7659a-20a9-47db-9212-c97c127fd88c",
   "metadata": {},
   "outputs": [
    {
     "data": {
      "text/plain": [
       "True"
      ]
     },
     "execution_count": 9,
     "metadata": {},
     "output_type": "execute_result"
    }
   ],
   "source": [
    "from amftrack.util.sys import (\n",
    "    path_code,\n",
    "    temp_path,\n",
    "    slurm_path,\n",
    "    slurm_path_transfer,\n",
    "    conda_path,\n",
    ")\n",
    "\n",
    "os.path.exists(os.path.join(conda_path, \"envs\", \"amftrack\"))"
   ]
  },
  {
   "cell_type": "code",
   "execution_count": 5,
   "id": "92923164-5f9e-4448-863b-01cb978ddd2b",
   "metadata": {},
   "outputs": [],
   "source": [
    "plates = [\"558_20230109\"]"
   ]
  },
  {
   "cell_type": "code",
   "execution_count": 16,
   "id": "5fd55e93-29bc-4753-a292-46191ec9adc9",
   "metadata": {},
   "outputs": [
    {
     "data": {
      "text/plain": [
       "'/home/cbisot/miniconda3/envs/amftrack'"
      ]
     },
     "execution_count": 16,
     "metadata": {},
     "output_type": "execute_result"
    }
   ],
   "source": [
    "os.path.join(conda_path, \"envs\", \"amftrack\")"
   ]
  },
  {
   "cell_type": "code",
   "execution_count": 3,
   "id": "50c944da-ef14-4242-b6ac-48aea758abbb",
   "metadata": {},
   "outputs": [
    {
     "data": {
      "text/plain": [
       "'/projects/0/einf914/data/'"
      ]
     },
     "execution_count": 3,
     "metadata": {},
     "output_type": "execute_result"
    }
   ],
   "source": [
    "directory_targ = directory_project\n",
    "directory_project"
   ]
  },
  {
   "cell_type": "code",
   "execution_count": 5,
   "id": "ac1cec4b-f343-465b-9206-f6afa483ed68",
   "metadata": {},
   "outputs": [
    {
     "data": {
      "text/plain": [
       "'/projects/0/einf914/data/'"
      ]
     },
     "execution_count": 5,
     "metadata": {},
     "output_type": "execute_result"
    }
   ],
   "source": [
    "directory_targ"
   ]
  },
  {
   "cell_type": "code",
   "execution_count": 15,
   "id": "79fdc066-12e4-4708-a4f7-9d681e55ee14",
   "metadata": {},
   "outputs": [],
   "source": [
    "directory_targ = os.path.join(directory_scratch, \"stitch_temp\") + \"/\""
   ]
  },
  {
   "cell_type": "code",
   "execution_count": 7,
   "id": "2c7d9788-67e0-4df7-b5cc-c2c2bdd816b9",
   "metadata": {
    "tags": []
   },
   "outputs": [
    {
     "name": "stderr",
     "output_type": "stream",
     "text": [
      "sbatch: Single-node jobs run on a shared node by default. Add --exclusive if you want to use a node exclusively.\n",
      "sbatch: A full node consists of 32 CPU cores, 229376 MiB of memory and 0 GPUs and can be shared by up to 32 jobs.\n",
      "sbatch: By default shared jobs get 7168 MiB of memory per CPU core, unless explicitly overridden with --mem-per-cpu, --mem-per-gpu or --mem.\n",
      "sbatch: You will be charged for 0.03125 node, based on the number of CPUs, GPUs and the amount memory that you've requested.\n"
     ]
    },
    {
     "name": "stdout",
     "output_type": "stream",
     "text": [
      "Submitted batch job 3906855\n"
     ]
    }
   ],
   "source": [
    "# name_job = f\"441Tryone_{time_ns()}.sh\"\n",
    "name_job = f\"P\"\n",
    "# name_job = f\"run_transport2\"\n",
    "\n",
    "run_launcher(\n",
    "    \"dropbox_downloader.py\",\n",
    "    [directory_targ, name_job, 2, \"stitcher.py\"],\n",
    "    plates,\n",
    "    \"12:00:00\",\n",
    "    name_job=name_job,\n",
    "    dependency=True,\n",
    ")"
   ]
  },
  {
   "cell_type": "code",
   "execution_count": 4,
   "id": "75fd7145-988e-4391-8e18-83c016f22843",
   "metadata": {
    "tags": []
   },
   "outputs": [
    {
     "name": "stderr",
     "output_type": "stream",
     "text": [
      "sbatch: Single-node jobs run on a shared node by default. Add --exclusive if you want to use a node exclusively.\n",
      "sbatch: A full node consists of 32 CPU cores, 229376 MiB of memory and 0 GPUs and can be shared by up to 32 jobs.\n",
      "sbatch: By default shared jobs get 7168 MiB of memory per CPU core, unless explicitly overridden with --mem-per-cpu, --mem-per-gpu or --mem.\n",
      "sbatch: You will be charged for 0.03125 node, based on the number of CPUs, GPUs and the amount memory that you've requested.\n"
     ]
    },
    {
     "name": "stdout",
     "output_type": "stream",
     "text": [
      "Submitted batch job 3907550\n"
     ]
    }
   ],
   "source": [
    "name_job = f\"one_shot_{time_ns()}.sh\"\n",
    "name_job = \"Chicory\"\n",
    "\n",
    "run_launcher(\n",
    "    \"dropbox_downloader.py\",\n",
    "    [directory_targ, name_job, 20, \"skeletonizer_agg.py\"],\n",
    "    plates,\n",
    "    \"12:00:00\",\n",
    "    name_job=name_job,\n",
    "    dependency=True,\n",
    ")\n",
    "# run_launcher('dropbox_uploader.py',[directory_targ,name_job],plates,'40:00',dependency=True,name_job = name_job)"
   ]
  },
  {
   "cell_type": "code",
   "execution_count": 4,
   "id": "76d8e1b4-7141-4dc4-929b-16b83ccd5643",
   "metadata": {
    "tags": []
   },
   "outputs": [
    {
     "name": "stderr",
     "output_type": "stream",
     "text": [
      "sbatch: Single-node jobs run on a shared node by default. Add --exclusive if you want to use a node exclusively.\n",
      "sbatch: A full node consists of 32 CPU cores, 229376 MiB of memory and 0 GPUs and can be shared by up to 32 jobs.\n",
      "sbatch: By default shared jobs get 7168 MiB of memory per CPU core, unless explicitly overridden with --mem-per-cpu, --mem-per-gpu or --mem.\n",
      "sbatch: You will be charged for 0.03125 node, based on the number of CPUs, GPUs and the amount memory that you've requested.\n"
     ]
    },
    {
     "name": "stdout",
     "output_type": "stream",
     "text": [
      "Submitted batch job 3908513\n"
     ]
    }
   ],
   "source": [
    "name_job = f\"one_shot_{time_ns()}.sh\"\n",
    "name_job = \"Vasilis\"\n",
    "\n",
    "run_launcher(\n",
    "    \"dropbox_downloader.py\",\n",
    "    [directory_targ, name_job, 20, \"skelet_realigner.py\"],\n",
    "    plates,\n",
    "    \"12:00:00\",\n",
    "    name_job=name_job,\n",
    "    dependency=True,\n",
    ")\n",
    "# run_launcher('dropbox_uploader.py',[directory_targ,name_job],plates,'40:00',dependency=True,name_job = name_job)"
   ]
  },
  {
   "cell_type": "code",
   "execution_count": 33,
   "id": "d267c73f-6c9a-4fe3-a448-fc70ef25401a",
   "metadata": {
    "tags": []
   },
   "outputs": [
    {
     "name": "stdout",
     "output_type": "stream",
     "text": [
      "Submitted batch job 3870275\n"
     ]
    },
    {
     "name": "stderr",
     "output_type": "stream",
     "text": [
      "sbatch: Single-node jobs run on a shared node by default. Add --exclusive if you want to use a node exclusively.\n",
      "sbatch: A full node consists of 32 CPU cores, 229376 MiB of memory and 0 GPUs and can be shared by up to 32 jobs.\n",
      "sbatch: By default shared jobs get 7168 MiB of memory per CPU core, unless explicitly overridden with --mem-per-cpu, --mem-per-gpu or --mem.\n",
      "sbatch: You will be charged for 0.03125 node, based on the number of CPUs, GPUs and the amount memory that you've requested.\n"
     ]
    }
   ],
   "source": [
    "name_job = \"rerun\"\n",
    "run_launcher(\n",
    "    \"post_processer_choice.py\",\n",
    "    [directory_targ, name_job, 1],\n",
    "    plates,\n",
    "    \"24:00:00\",\n",
    "    dependency=True,\n",
    "    name_job=name_job,\n",
    ")"
   ]
  },
  {
   "cell_type": "code",
   "execution_count": 28,
   "id": "2fc6efc4-112b-4e8c-bd74-391a8b90849e",
   "metadata": {},
   "outputs": [
    {
     "name": "stderr",
     "output_type": "stream",
     "text": [
      "sbatch: Single-node jobs run on a shared node by default. Add --exclusive if you want to use a node exclusively.\n",
      "sbatch: A full node consists of 32 CPU cores, 229376 MiB of memory and 0 GPUs and can be shared by up to 32 jobs.\n",
      "sbatch: By default shared jobs get 7168 MiB of memory per CPU core, unless explicitly overridden with --mem-per-cpu, --mem-per-gpu or --mem.\n",
      "sbatch: You will be charged for 0.03125 node, based on the number of CPUs, GPUs and the amount memory that you've requested.\n"
     ]
    },
    {
     "name": "stdout",
     "output_type": "stream",
     "text": [
      "Submitted batch job 3867572\n"
     ]
    }
   ],
   "source": [
    "name_job = \"strains\"\n",
    "run_launcher(\n",
    "    \"graph_extracter.py\",\n",
    "    [directory_targ, name_job, 20],\n",
    "    plates,\n",
    "    \"24:00:00\",\n",
    "    dependency=True,\n",
    "    name_job=name_job,\n",
    ")"
   ]
  },
  {
   "cell_type": "code",
   "execution_count": 32,
   "id": "c9d10c60-0456-4119-ba3e-9e434525100f",
   "metadata": {},
   "outputs": [
    {
     "name": "stderr",
     "output_type": "stream",
     "text": [
      "sbatch: Single-node jobs run on a shared node by default. Add --exclusive if you want to use a node exclusively.\n",
      "sbatch: A full node consists of 32 CPU cores, 229376 MiB of memory and 0 GPUs and can be shared by up to 32 jobs.\n",
      "sbatch: By default shared jobs get 7168 MiB of memory per CPU core, unless explicitly overridden with --mem-per-cpu, --mem-per-gpu or --mem.\n",
      "sbatch: You will be charged for 0.03125 node, based on the number of CPUs, GPUs and the amount memory that you've requested.\n"
     ]
    },
    {
     "name": "stdout",
     "output_type": "stream",
     "text": [
      "Submitted batch job 3869587\n"
     ]
    }
   ],
   "source": [
    "name_job = \"upload\"\n",
    "run_launcher(\n",
    "    \"analysis_uploader_no_upload.py\",\n",
    "    [directory_targ, name_job, 1],\n",
    "    plates,\n",
    "    \"6:00:00\",\n",
    "    dependency=True,\n",
    "    name_job=name_job,\n",
    ")"
   ]
  },
  {
   "cell_type": "code",
   "execution_count": 8,
   "id": "638a0477-4b67-444c-a63b-df2170958589",
   "metadata": {},
   "outputs": [
    {
     "data": {
      "text/plain": [
       "258"
      ]
     },
     "execution_count": 8,
     "metadata": {},
     "output_type": "execute_result"
    }
   ],
   "source": [
    "folders = all_folders.loc[all_folders[\"unique_id\"].isin(plates)]\n",
    "len(folders)"
   ]
  },
  {
   "cell_type": "code",
   "execution_count": 6,
   "id": "0dcd3a3e-0851-449c-8dbf-124d65c47124",
   "metadata": {
    "tags": []
   },
   "outputs": [],
   "source": [
    "update_analysis_info(directory_targ)\n",
    "analysis_info = get_analysis_info(directory_targ)\n",
    "analysis_folders = analysis_info.loc[analysis_info[\"unique_id\"].isin(plates)]"
   ]
  },
  {
   "cell_type": "code",
   "execution_count": 7,
   "id": "f598f7d8-9648-4af1-83c4-5c85a21c95cf",
   "metadata": {},
   "outputs": [
    {
     "data": {
      "text/html": [
       "<div>\n",
       "<style scoped>\n",
       "    .dataframe tbody tr th:only-of-type {\n",
       "        vertical-align: middle;\n",
       "    }\n",
       "\n",
       "    .dataframe tbody tr th {\n",
       "        vertical-align: top;\n",
       "    }\n",
       "\n",
       "    .dataframe thead th {\n",
       "        text-align: right;\n",
       "    }\n",
       "</style>\n",
       "<table border=\"1\" class=\"dataframe\">\n",
       "  <thead>\n",
       "    <tr style=\"text-align: right;\">\n",
       "      <th></th>\n",
       "      <th>folder_analysis</th>\n",
       "      <th>version</th>\n",
       "      <th>total_path</th>\n",
       "      <th>Plate</th>\n",
       "      <th>strain</th>\n",
       "      <th>medium</th>\n",
       "      <th>CrossDate</th>\n",
       "      <th>date</th>\n",
       "      <th>unique_id</th>\n",
       "      <th>datetime</th>\n",
       "      <th>...</th>\n",
       "      <th>path_time_hypha_info</th>\n",
       "      <th>path_time_plate_info</th>\n",
       "      <th>path_global_plate_info</th>\n",
       "      <th>date_run_analysis</th>\n",
       "      <th>PrincePos</th>\n",
       "      <th>root</th>\n",
       "      <th>split</th>\n",
       "      <th>Pbait</th>\n",
       "      <th>Temperature</th>\n",
       "      <th>Temp</th>\n",
       "    </tr>\n",
       "  </thead>\n",
       "  <tbody>\n",
       "    <tr>\n",
       "      <th>89</th>\n",
       "      <td>Analysis_28_20230227_200_Version1</td>\n",
       "      <td>Version1</td>\n",
       "      <td>/projects/0/einf914/data/20230227_1704_Plate06</td>\n",
       "      <td>28</td>\n",
       "      <td>'Clarum'</td>\n",
       "      <td>'001P100N100C'</td>\n",
       "      <td>20230227</td>\n",
       "      <td>27.02.2023, 17:04:</td>\n",
       "      <td>28_20230227</td>\n",
       "      <td>2023-02-27 17:04:00</td>\n",
       "      <td>...</td>\n",
       "      <td>Analysis_28_20230227_200_Version1/time_hypha_info</td>\n",
       "      <td>Analysis_28_20230227_200_Version1/time_plate_i...</td>\n",
       "      <td>Analysis_28_20230227_200_Version1/global_plate...</td>\n",
       "      <td>01.01.1970, 01:00:</td>\n",
       "      <td>6</td>\n",
       "      <td>'Carrot'</td>\n",
       "      <td>'Y'</td>\n",
       "      <td>'-'</td>\n",
       "      <td>25</td>\n",
       "      <td>nan</td>\n",
       "    </tr>\n",
       "    <tr>\n",
       "      <th>140</th>\n",
       "      <td>Analysis_219_20230307_200_Version1</td>\n",
       "      <td>Version1</td>\n",
       "      <td>/projects/0/einf914/data/20230307_1522_Plate11</td>\n",
       "      <td>219</td>\n",
       "      <td>'C3'</td>\n",
       "      <td>'001P100N100C'</td>\n",
       "      <td>20230307</td>\n",
       "      <td>07.03.2023, 15:22:</td>\n",
       "      <td>219_20230307</td>\n",
       "      <td>2023-03-07 15:22:00</td>\n",
       "      <td>...</td>\n",
       "      <td>Analysis_219_20230307_200_Version1/time_hypha_...</td>\n",
       "      <td>Analysis_219_20230307_200_Version1/time_plate_...</td>\n",
       "      <td>Analysis_219_20230307_200_Version1/global_plat...</td>\n",
       "      <td>01.01.1970, 01:00:</td>\n",
       "      <td>11</td>\n",
       "      <td>'Carrot'</td>\n",
       "      <td>'Y'</td>\n",
       "      <td>'-'</td>\n",
       "      <td>25</td>\n",
       "      <td>nan</td>\n",
       "    </tr>\n",
       "  </tbody>\n",
       "</table>\n",
       "<p>2 rows × 25 columns</p>\n",
       "</div>"
      ],
      "text/plain": [
       "                        folder_analysis   version  \\\n",
       "89    Analysis_28_20230227_200_Version1  Version1   \n",
       "140  Analysis_219_20230307_200_Version1  Version1   \n",
       "\n",
       "                                         total_path Plate    strain  \\\n",
       "89   /projects/0/einf914/data/20230227_1704_Plate06    28  'Clarum'   \n",
       "140  /projects/0/einf914/data/20230307_1522_Plate11   219      'C3'   \n",
       "\n",
       "             medium CrossDate                date     unique_id  \\\n",
       "89   '001P100N100C'  20230227  27.02.2023, 17:04:   28_20230227   \n",
       "140  '001P100N100C'  20230307  07.03.2023, 15:22:  219_20230307   \n",
       "\n",
       "                datetime  ...  \\\n",
       "89   2023-02-27 17:04:00  ...   \n",
       "140  2023-03-07 15:22:00  ...   \n",
       "\n",
       "                                  path_time_hypha_info  \\\n",
       "89   Analysis_28_20230227_200_Version1/time_hypha_info   \n",
       "140  Analysis_219_20230307_200_Version1/time_hypha_...   \n",
       "\n",
       "                                  path_time_plate_info  \\\n",
       "89   Analysis_28_20230227_200_Version1/time_plate_i...   \n",
       "140  Analysis_219_20230307_200_Version1/time_plate_...   \n",
       "\n",
       "                                path_global_plate_info   date_run_analysis  \\\n",
       "89   Analysis_28_20230227_200_Version1/global_plate...  01.01.1970, 01:00:   \n",
       "140  Analysis_219_20230307_200_Version1/global_plat...  01.01.1970, 01:00:   \n",
       "\n",
       "    PrincePos      root split Pbait Temperature Temp  \n",
       "89          6  'Carrot'   'Y'   '-'          25  nan  \n",
       "140        11  'Carrot'   'Y'   '-'          25  nan  \n",
       "\n",
       "[2 rows x 25 columns]"
      ]
     },
     "execution_count": 7,
     "metadata": {},
     "output_type": "execute_result"
    }
   ],
   "source": [
    "analysis_folders"
   ]
  },
  {
   "cell_type": "code",
   "execution_count": 7,
   "id": "bdaca24f-5eed-4fe0-9edc-fb6803232fe2",
   "metadata": {
    "collapsed": true,
    "jupyter": {
     "outputs_hidden": true
    },
    "tags": []
   },
   "outputs": [
    {
     "name": "stderr",
     "output_type": "stream",
     "text": [
      "sbatch: Single-node jobs run on a shared node by default. Add --exclusive if you want to use a node exclusively.\n",
      "sbatch: A full node consists of 128 CPU cores, 983040 MiB of memory and 0 GPUs and can be shared by up to 4 jobs.\n",
      "sbatch: By default shared jobs get 7680 MiB of memory per CPU core, unless explicitly overridden with --mem-per-cpu, --mem-per-gpu or --mem.\n",
      "sbatch: You will be charged for 1.0 node, based on the number of CPUs, GPUs and the amount memory that you've requested.\n"
     ]
    },
    {
     "name": "stdout",
     "output_type": "stream",
     "text": [
      "Submitted batch job 2880366\n"
     ]
    },
    {
     "name": "stderr",
     "output_type": "stream",
     "text": [
      "sbatch: Single-node jobs run on a shared node by default. Add --exclusive if you want to use a node exclusively.\n",
      "sbatch: A full node consists of 128 CPU cores, 983040 MiB of memory and 0 GPUs and can be shared by up to 4 jobs.\n",
      "sbatch: By default shared jobs get 7680 MiB of memory per CPU core, unless explicitly overridden with --mem-per-cpu, --mem-per-gpu or --mem.\n",
      "sbatch: You will be charged for 1.0 node, based on the number of CPUs, GPUs and the amount memory that you've requested.\n"
     ]
    },
    {
     "name": "stdout",
     "output_type": "stream",
     "text": [
      "Submitted batch job 2880367\n"
     ]
    },
    {
     "name": "stderr",
     "output_type": "stream",
     "text": [
      "sbatch: Single-node jobs run on a shared node by default. Add --exclusive if you want to use a node exclusively.\n",
      "sbatch: A full node consists of 128 CPU cores, 983040 MiB of memory and 0 GPUs and can be shared by up to 4 jobs.\n",
      "sbatch: By default shared jobs get 7680 MiB of memory per CPU core, unless explicitly overridden with --mem-per-cpu, --mem-per-gpu or --mem.\n",
      "sbatch: You will be charged for 1.0 node, based on the number of CPUs, GPUs and the amount memory that you've requested.\n"
     ]
    },
    {
     "name": "stdout",
     "output_type": "stream",
     "text": [
      "Submitted batch job 2880368\n"
     ]
    },
    {
     "name": "stderr",
     "output_type": "stream",
     "text": [
      "sbatch: Single-node jobs run on a shared node by default. Add --exclusive if you want to use a node exclusively.\n",
      "sbatch: A full node consists of 128 CPU cores, 983040 MiB of memory and 0 GPUs and can be shared by up to 4 jobs.\n",
      "sbatch: By default shared jobs get 7680 MiB of memory per CPU core, unless explicitly overridden with --mem-per-cpu, --mem-per-gpu or --mem.\n",
      "sbatch: You will be charged for 1.0 node, based on the number of CPUs, GPUs and the amount memory that you've requested.\n"
     ]
    },
    {
     "name": "stdout",
     "output_type": "stream",
     "text": [
      "Submitted batch job 2880369\n"
     ]
    },
    {
     "name": "stderr",
     "output_type": "stream",
     "text": [
      "sbatch: Single-node jobs run on a shared node by default. Add --exclusive if you want to use a node exclusively.\n",
      "sbatch: A full node consists of 128 CPU cores, 983040 MiB of memory and 0 GPUs and can be shared by up to 4 jobs.\n",
      "sbatch: By default shared jobs get 7680 MiB of memory per CPU core, unless explicitly overridden with --mem-per-cpu, --mem-per-gpu or --mem.\n",
      "sbatch: You will be charged for 1.0 node, based on the number of CPUs, GPUs and the amount memory that you've requested.\n"
     ]
    },
    {
     "name": "stdout",
     "output_type": "stream",
     "text": [
      "Submitted batch job 2880370\n"
     ]
    },
    {
     "name": "stderr",
     "output_type": "stream",
     "text": [
      "sbatch: Single-node jobs run on a shared node by default. Add --exclusive if you want to use a node exclusively.\n",
      "sbatch: A full node consists of 128 CPU cores, 983040 MiB of memory and 0 GPUs and can be shared by up to 4 jobs.\n",
      "sbatch: By default shared jobs get 7680 MiB of memory per CPU core, unless explicitly overridden with --mem-per-cpu, --mem-per-gpu or --mem.\n",
      "sbatch: You will be charged for 1.0 node, based on the number of CPUs, GPUs and the amount memory that you've requested.\n"
     ]
    },
    {
     "name": "stdout",
     "output_type": "stream",
     "text": [
      "Submitted batch job 2880371\n"
     ]
    },
    {
     "name": "stderr",
     "output_type": "stream",
     "text": [
      "sbatch: Single-node jobs run on a shared node by default. Add --exclusive if you want to use a node exclusively.\n",
      "sbatch: A full node consists of 128 CPU cores, 983040 MiB of memory and 0 GPUs and can be shared by up to 4 jobs.\n",
      "sbatch: By default shared jobs get 7680 MiB of memory per CPU core, unless explicitly overridden with --mem-per-cpu, --mem-per-gpu or --mem.\n",
      "sbatch: You will be charged for 1.0 node, based on the number of CPUs, GPUs and the amount memory that you've requested.\n"
     ]
    },
    {
     "name": "stdout",
     "output_type": "stream",
     "text": [
      "Submitted batch job 2880372\n"
     ]
    },
    {
     "name": "stderr",
     "output_type": "stream",
     "text": [
      "sbatch: Single-node jobs run on a shared node by default. Add --exclusive if you want to use a node exclusively.\n",
      "sbatch: A full node consists of 128 CPU cores, 983040 MiB of memory and 0 GPUs and can be shared by up to 4 jobs.\n",
      "sbatch: By default shared jobs get 7680 MiB of memory per CPU core, unless explicitly overridden with --mem-per-cpu, --mem-per-gpu or --mem.\n",
      "sbatch: You will be charged for 1.0 node, based on the number of CPUs, GPUs and the amount memory that you've requested.\n"
     ]
    },
    {
     "name": "stdout",
     "output_type": "stream",
     "text": [
      "Submitted batch job 2880373\n",
      "Submitted batch job 2880374\n"
     ]
    },
    {
     "name": "stderr",
     "output_type": "stream",
     "text": [
      "sbatch: Single-node jobs run on a shared node by default. Add --exclusive if you want to use a node exclusively.\n",
      "sbatch: A full node consists of 128 CPU cores, 983040 MiB of memory and 0 GPUs and can be shared by up to 4 jobs.\n",
      "sbatch: By default shared jobs get 7680 MiB of memory per CPU core, unless explicitly overridden with --mem-per-cpu, --mem-per-gpu or --mem.\n",
      "sbatch: You will be charged for 1.0 node, based on the number of CPUs, GPUs and the amount memory that you've requested.\n",
      "sbatch: Single-node jobs run on a shared node by default. Add --exclusive if you want to use a node exclusively.\n",
      "sbatch: A full node consists of 128 CPU cores, 983040 MiB of memory and 0 GPUs and can be shared by up to 4 jobs.\n",
      "sbatch: By default shared jobs get 7680 MiB of memory per CPU core, unless explicitly overridden with --mem-per-cpu, --mem-per-gpu or --mem.\n",
      "sbatch: You will be charged for 1.0 node, based on the number of CPUs, GPUs and the amount memory that you've requested.\n"
     ]
    },
    {
     "name": "stdout",
     "output_type": "stream",
     "text": [
      "Submitted batch job 2880375\n"
     ]
    }
   ],
   "source": [
    "name_job = \"agg_clarum\"\n",
    "folders = folders.loc[folders[\"/Img/TileConfiguration.txt.registered\"] == True]\n",
    "num_parallel = 100\n",
    "time = \"6:00:00\"\n",
    "hyph_width = 30\n",
    "perc_low = 85\n",
    "perc_high = 99.5\n",
    "minlow = 10\n",
    "minhigh = 70\n",
    "\n",
    "args = [hyph_width, perc_low, perc_high, minlow, minhigh, directory_targ]\n",
    "run_parallel(\n",
    "    \"extract_skel_2.py\",\n",
    "    args,\n",
    "    folders,\n",
    "    num_parallel,\n",
    "    time,\n",
    "    \"skeletonization\",\n",
    "    cpus=128,\n",
    "    node=\"fat\",\n",
    "    name_job=name_job,\n",
    ")"
   ]
  },
  {
   "cell_type": "code",
   "execution_count": 22,
   "id": "2c9ce086-223f-475c-86fb-f8ec89f323d1",
   "metadata": {},
   "outputs": [],
   "source": [
    "folders = all_folders.loc[all_folders[\"unique_id\"].isin(plates)]\n",
    "folders = folders.loc[folders[\"/Analysis/nx_graph_pruned_labeled.p\"] == True]"
   ]
  },
  {
   "cell_type": "code",
   "execution_count": 38,
   "id": "6342ba2e-ffbb-469e-bab7-22cf72610f79",
   "metadata": {
    "tags": []
   },
   "outputs": [
    {
     "name": "stdout",
     "output_type": "stream",
     "text": [
      "3_20220426 187 286 20220426_1859_Plate16 20220426_1357_Plate16\n",
      "12_20220502 178 256 20220502_2329_Plate13 20220502_2128_Plate13\n",
      "13_20220422 93 269 20220507_1235_Plate18 20220422_1514_Plate18\n",
      "16_20220419 113 268 20220419_2029_Plate10 20220419_1816_Plate10\n",
      "21_20220502 167 209 20220502_1912_Plate04 20220502_1712_Plate04\n",
      "480_20221205 342 395 20221205_1912_Plate15 20221205_1712_Plate15\n",
      "28_20230227 126 169 20230227_1704_Plate06 20230227_1504_Plate06\n",
      "206_20230303 198 199 20230303_1923_Plate10 20230303_1723_Plate10\n",
      "202_20230314 237 261 20230314_1801_Plate07 20230314_1608_Plate07\n",
      "218_20230227 155 184 20230227_1707_Plate07 20230227_1507_Plate07\n",
      "219_20230307 91 120 20230307_1522_Plate11 20230307_1322_Plate11\n",
      "229_20230330 235 236 20230330_1553_Plate12 20230330_1352_Plate12\n"
     ]
    }
   ],
   "source": [
    "for plate in plates:\n",
    "    folders = all_folders.loc[all_folders[\"unique_id\"] == plate]\n",
    "    folders1 = folders.loc[folders[\"/Analysis/nx_graph_pruned_labeled.p\"] == True]\n",
    "    folders2 = folders.loc[folders[\"/Analysis/skeleton_compressed.mat\"] == True]\n",
    "    print(\n",
    "        plate,\n",
    "        len(folders1),\n",
    "        len(folders2),\n",
    "        folders1[\"folder\"].sort_values().iloc[0],\n",
    "        folders2[\"folder\"].sort_values().iloc[0],\n",
    "    )\n",
    "    # if plate == '13_20220422':\n",
    "    #     break"
   ]
  },
  {
   "cell_type": "code",
   "execution_count": 36,
   "id": "1e2c1213-6d85-4cac-859d-84748ba0f661",
   "metadata": {},
   "outputs": [
    {
     "data": {
      "text/plain": [
       "(965     20220507_1235_Plate18\n",
       " 1245    20220507_1435_Plate18\n",
       " 292     20220507_1635_Plate18\n",
       " 19      20220507_1835_Plate18\n",
       " 1792    20220507_2035_Plate18\n",
       "                 ...          \n",
       " 1623    20220611_0035_Plate34\n",
       " 1530    20220611_1235_Plate34\n",
       " 879     20220612_0035_Plate34\n",
       " 416     20220612_1235_Plate34\n",
       " 375     20220613_0035_Plate34\n",
       " Name: folder, Length: 93, dtype: object,\n",
       " 5       20220607_2252_Plate34\n",
       " 7       20220505_0143_Plate18\n",
       " 8       20220430_1331_Plate18\n",
       " 16      20220427_2107_Plate18\n",
       " 19      20220507_1835_Plate18\n",
       "                 ...          \n",
       " 3402    20220518_0225_Plate34\n",
       " 3423    20220508_1235_Plate18\n",
       " 3433    20220526_0909_Plate34\n",
       " 3471    20220430_1531_Plate18\n",
       " 3519    20220504_1941_Plate18\n",
       " Name: folder, Length: 269, dtype: object)"
      ]
     },
     "execution_count": 36,
     "metadata": {},
     "output_type": "execute_result"
    }
   ],
   "source": [
    "folders1[\"folder\"].sort_values(), folders2[\"folder\"]"
   ]
  },
  {
   "cell_type": "code",
   "execution_count": 12,
   "id": "4f2220bf-6085-4b02-9564-dc097162802a",
   "metadata": {
    "tags": []
   },
   "outputs": [
    {
     "name": "stderr",
     "output_type": "stream",
     "text": [
      "sbatch: Single-node jobs run on a shared node by default. Add --exclusive if you want to use a node exclusively.\n",
      "sbatch: A full node consists of 32 CPU cores, 229376 MiB of memory and 0 GPUs and can be shared by up to 32 jobs.\n",
      "sbatch: By default shared jobs get 7168 MiB of memory per CPU core, unless explicitly overridden with --mem-per-cpu, --mem-per-gpu or --mem.\n",
      "sbatch: You will be charged for 0.03125 node, based on the number of CPUs, GPUs and the amount memory that you've requested.\n"
     ]
    },
    {
     "name": "stdout",
     "output_type": "stream",
     "text": [
      "Submitted batch job 3496068\n"
     ]
    },
    {
     "name": "stderr",
     "output_type": "stream",
     "text": [
      "sbatch: Single-node jobs run on a shared node by default. Add --exclusive if you want to use a node exclusively.\n",
      "sbatch: A full node consists of 32 CPU cores, 229376 MiB of memory and 0 GPUs and can be shared by up to 32 jobs.\n",
      "sbatch: By default shared jobs get 7168 MiB of memory per CPU core, unless explicitly overridden with --mem-per-cpu, --mem-per-gpu or --mem.\n",
      "sbatch: You will be charged for 0.03125 node, based on the number of CPUs, GPUs and the amount memory that you've requested.\n"
     ]
    },
    {
     "name": "stdout",
     "output_type": "stream",
     "text": [
      "Submitted batch job 3496069\n"
     ]
    },
    {
     "name": "stderr",
     "output_type": "stream",
     "text": [
      "sbatch: Single-node jobs run on a shared node by default. Add --exclusive if you want to use a node exclusively.\n",
      "sbatch: A full node consists of 32 CPU cores, 229376 MiB of memory and 0 GPUs and can be shared by up to 32 jobs.\n",
      "sbatch: By default shared jobs get 7168 MiB of memory per CPU core, unless explicitly overridden with --mem-per-cpu, --mem-per-gpu or --mem.\n",
      "sbatch: You will be charged for 0.03125 node, based on the number of CPUs, GPUs and the amount memory that you've requested.\n"
     ]
    },
    {
     "name": "stdout",
     "output_type": "stream",
     "text": [
      "Submitted batch job 3496070\n"
     ]
    },
    {
     "name": "stderr",
     "output_type": "stream",
     "text": [
      "sbatch: Single-node jobs run on a shared node by default. Add --exclusive if you want to use a node exclusively.\n",
      "sbatch: A full node consists of 32 CPU cores, 229376 MiB of memory and 0 GPUs and can be shared by up to 32 jobs.\n",
      "sbatch: By default shared jobs get 7168 MiB of memory per CPU core, unless explicitly overridden with --mem-per-cpu, --mem-per-gpu or --mem.\n",
      "sbatch: You will be charged for 0.03125 node, based on the number of CPUs, GPUs and the amount memory that you've requested.\n"
     ]
    },
    {
     "name": "stdout",
     "output_type": "stream",
     "text": [
      "Submitted batch job 3496071\n"
     ]
    },
    {
     "name": "stderr",
     "output_type": "stream",
     "text": [
      "sbatch: Single-node jobs run on a shared node by default. Add --exclusive if you want to use a node exclusively.\n",
      "sbatch: A full node consists of 32 CPU cores, 229376 MiB of memory and 0 GPUs and can be shared by up to 32 jobs.\n",
      "sbatch: By default shared jobs get 7168 MiB of memory per CPU core, unless explicitly overridden with --mem-per-cpu, --mem-per-gpu or --mem.\n",
      "sbatch: You will be charged for 0.03125 node, based on the number of CPUs, GPUs and the amount memory that you've requested.\n"
     ]
    },
    {
     "name": "stdout",
     "output_type": "stream",
     "text": [
      "Submitted batch job 3496072\n"
     ]
    },
    {
     "name": "stderr",
     "output_type": "stream",
     "text": [
      "sbatch: Single-node jobs run on a shared node by default. Add --exclusive if you want to use a node exclusively.\n",
      "sbatch: A full node consists of 32 CPU cores, 229376 MiB of memory and 0 GPUs and can be shared by up to 32 jobs.\n",
      "sbatch: By default shared jobs get 7168 MiB of memory per CPU core, unless explicitly overridden with --mem-per-cpu, --mem-per-gpu or --mem.\n",
      "sbatch: You will be charged for 0.03125 node, based on the number of CPUs, GPUs and the amount memory that you've requested.\n"
     ]
    },
    {
     "name": "stdout",
     "output_type": "stream",
     "text": [
      "Submitted batch job 3496073\n"
     ]
    },
    {
     "name": "stderr",
     "output_type": "stream",
     "text": [
      "sbatch: Single-node jobs run on a shared node by default. Add --exclusive if you want to use a node exclusively.\n",
      "sbatch: A full node consists of 32 CPU cores, 229376 MiB of memory and 0 GPUs and can be shared by up to 32 jobs.\n",
      "sbatch: By default shared jobs get 7168 MiB of memory per CPU core, unless explicitly overridden with --mem-per-cpu, --mem-per-gpu or --mem.\n",
      "sbatch: You will be charged for 0.03125 node, based on the number of CPUs, GPUs and the amount memory that you've requested.\n"
     ]
    },
    {
     "name": "stdout",
     "output_type": "stream",
     "text": [
      "Submitted batch job 3496074\n"
     ]
    },
    {
     "name": "stderr",
     "output_type": "stream",
     "text": [
      "sbatch: Single-node jobs run on a shared node by default. Add --exclusive if you want to use a node exclusively.\n",
      "sbatch: A full node consists of 32 CPU cores, 229376 MiB of memory and 0 GPUs and can be shared by up to 32 jobs.\n",
      "sbatch: By default shared jobs get 7168 MiB of memory per CPU core, unless explicitly overridden with --mem-per-cpu, --mem-per-gpu or --mem.\n",
      "sbatch: You will be charged for 0.03125 node, based on the number of CPUs, GPUs and the amount memory that you've requested.\n"
     ]
    },
    {
     "name": "stdout",
     "output_type": "stream",
     "text": [
      "Submitted batch job 3496075\n"
     ]
    },
    {
     "name": "stderr",
     "output_type": "stream",
     "text": [
      "sbatch: Single-node jobs run on a shared node by default. Add --exclusive if you want to use a node exclusively.\n",
      "sbatch: A full node consists of 32 CPU cores, 229376 MiB of memory and 0 GPUs and can be shared by up to 32 jobs.\n",
      "sbatch: By default shared jobs get 7168 MiB of memory per CPU core, unless explicitly overridden with --mem-per-cpu, --mem-per-gpu or --mem.\n",
      "sbatch: You will be charged for 0.03125 node, based on the number of CPUs, GPUs and the amount memory that you've requested.\n"
     ]
    },
    {
     "name": "stdout",
     "output_type": "stream",
     "text": [
      "Submitted batch job 3496076\n"
     ]
    },
    {
     "name": "stderr",
     "output_type": "stream",
     "text": [
      "sbatch: Single-node jobs run on a shared node by default. Add --exclusive if you want to use a node exclusively.\n",
      "sbatch: A full node consists of 32 CPU cores, 229376 MiB of memory and 0 GPUs and can be shared by up to 32 jobs.\n",
      "sbatch: By default shared jobs get 7168 MiB of memory per CPU core, unless explicitly overridden with --mem-per-cpu, --mem-per-gpu or --mem.\n",
      "sbatch: You will be charged for 0.03125 node, based on the number of CPUs, GPUs and the amount memory that you've requested.\n"
     ]
    },
    {
     "name": "stdout",
     "output_type": "stream",
     "text": [
      "Submitted batch job 3496077\n"
     ]
    },
    {
     "name": "stderr",
     "output_type": "stream",
     "text": [
      "sbatch: Single-node jobs run on a shared node by default. Add --exclusive if you want to use a node exclusively.\n",
      "sbatch: A full node consists of 32 CPU cores, 229376 MiB of memory and 0 GPUs and can be shared by up to 32 jobs.\n",
      "sbatch: By default shared jobs get 7168 MiB of memory per CPU core, unless explicitly overridden with --mem-per-cpu, --mem-per-gpu or --mem.\n",
      "sbatch: You will be charged for 0.03125 node, based on the number of CPUs, GPUs and the amount memory that you've requested.\n"
     ]
    },
    {
     "name": "stdout",
     "output_type": "stream",
     "text": [
      "Submitted batch job 3496079\n"
     ]
    },
    {
     "name": "stderr",
     "output_type": "stream",
     "text": [
      "sbatch: Single-node jobs run on a shared node by default. Add --exclusive if you want to use a node exclusively.\n",
      "sbatch: A full node consists of 32 CPU cores, 229376 MiB of memory and 0 GPUs and can be shared by up to 32 jobs.\n",
      "sbatch: By default shared jobs get 7168 MiB of memory per CPU core, unless explicitly overridden with --mem-per-cpu, --mem-per-gpu or --mem.\n",
      "sbatch: You will be charged for 0.03125 node, based on the number of CPUs, GPUs and the amount memory that you've requested.\n"
     ]
    },
    {
     "name": "stdout",
     "output_type": "stream",
     "text": [
      "Submitted batch job 3496080\n"
     ]
    },
    {
     "name": "stderr",
     "output_type": "stream",
     "text": [
      "sbatch: Single-node jobs run on a shared node by default. Add --exclusive if you want to use a node exclusively.\n",
      "sbatch: A full node consists of 32 CPU cores, 229376 MiB of memory and 0 GPUs and can be shared by up to 32 jobs.\n",
      "sbatch: By default shared jobs get 7168 MiB of memory per CPU core, unless explicitly overridden with --mem-per-cpu, --mem-per-gpu or --mem.\n",
      "sbatch: You will be charged for 0.03125 node, based on the number of CPUs, GPUs and the amount memory that you've requested.\n"
     ]
    },
    {
     "name": "stdout",
     "output_type": "stream",
     "text": [
      "Submitted batch job 3496081\n"
     ]
    },
    {
     "name": "stderr",
     "output_type": "stream",
     "text": [
      "sbatch: Single-node jobs run on a shared node by default. Add --exclusive if you want to use a node exclusively.\n",
      "sbatch: A full node consists of 32 CPU cores, 229376 MiB of memory and 0 GPUs and can be shared by up to 32 jobs.\n",
      "sbatch: By default shared jobs get 7168 MiB of memory per CPU core, unless explicitly overridden with --mem-per-cpu, --mem-per-gpu or --mem.\n",
      "sbatch: You will be charged for 0.03125 node, based on the number of CPUs, GPUs and the amount memory that you've requested.\n"
     ]
    },
    {
     "name": "stdout",
     "output_type": "stream",
     "text": [
      "Submitted batch job 3496082\n"
     ]
    },
    {
     "name": "stderr",
     "output_type": "stream",
     "text": [
      "sbatch: Single-node jobs run on a shared node by default. Add --exclusive if you want to use a node exclusively.\n",
      "sbatch: A full node consists of 32 CPU cores, 229376 MiB of memory and 0 GPUs and can be shared by up to 32 jobs.\n",
      "sbatch: By default shared jobs get 7168 MiB of memory per CPU core, unless explicitly overridden with --mem-per-cpu, --mem-per-gpu or --mem.\n",
      "sbatch: You will be charged for 0.03125 node, based on the number of CPUs, GPUs and the amount memory that you've requested.\n"
     ]
    },
    {
     "name": "stdout",
     "output_type": "stream",
     "text": [
      "Submitted batch job 3496083\n"
     ]
    },
    {
     "name": "stderr",
     "output_type": "stream",
     "text": [
      "sbatch: Single-node jobs run on a shared node by default. Add --exclusive if you want to use a node exclusively.\n",
      "sbatch: A full node consists of 32 CPU cores, 229376 MiB of memory and 0 GPUs and can be shared by up to 32 jobs.\n",
      "sbatch: By default shared jobs get 7168 MiB of memory per CPU core, unless explicitly overridden with --mem-per-cpu, --mem-per-gpu or --mem.\n",
      "sbatch: You will be charged for 0.03125 node, based on the number of CPUs, GPUs and the amount memory that you've requested.\n"
     ]
    },
    {
     "name": "stdout",
     "output_type": "stream",
     "text": [
      "Submitted batch job 3496085\n"
     ]
    },
    {
     "name": "stderr",
     "output_type": "stream",
     "text": [
      "sbatch: Single-node jobs run on a shared node by default. Add --exclusive if you want to use a node exclusively.\n",
      "sbatch: A full node consists of 32 CPU cores, 229376 MiB of memory and 0 GPUs and can be shared by up to 32 jobs.\n",
      "sbatch: By default shared jobs get 7168 MiB of memory per CPU core, unless explicitly overridden with --mem-per-cpu, --mem-per-gpu or --mem.\n",
      "sbatch: You will be charged for 0.03125 node, based on the number of CPUs, GPUs and the amount memory that you've requested.\n"
     ]
    },
    {
     "name": "stdout",
     "output_type": "stream",
     "text": [
      "Submitted batch job 3496086\n"
     ]
    },
    {
     "name": "stderr",
     "output_type": "stream",
     "text": [
      "sbatch: Single-node jobs run on a shared node by default. Add --exclusive if you want to use a node exclusively.\n",
      "sbatch: A full node consists of 32 CPU cores, 229376 MiB of memory and 0 GPUs and can be shared by up to 32 jobs.\n",
      "sbatch: By default shared jobs get 7168 MiB of memory per CPU core, unless explicitly overridden with --mem-per-cpu, --mem-per-gpu or --mem.\n",
      "sbatch: You will be charged for 0.03125 node, based on the number of CPUs, GPUs and the amount memory that you've requested.\n"
     ]
    },
    {
     "name": "stdout",
     "output_type": "stream",
     "text": [
      "Submitted batch job 3496087\n",
      "Submitted batch job 3496088\n"
     ]
    },
    {
     "name": "stderr",
     "output_type": "stream",
     "text": [
      "sbatch: Single-node jobs run on a shared node by default. Add --exclusive if you want to use a node exclusively.\n",
      "sbatch: A full node consists of 32 CPU cores, 229376 MiB of memory and 0 GPUs and can be shared by up to 32 jobs.\n",
      "sbatch: By default shared jobs get 7168 MiB of memory per CPU core, unless explicitly overridden with --mem-per-cpu, --mem-per-gpu or --mem.\n",
      "sbatch: You will be charged for 0.03125 node, based on the number of CPUs, GPUs and the amount memory that you've requested.\n",
      "sbatch: Single-node jobs run on a shared node by default. Add --exclusive if you want to use a node exclusively.\n",
      "sbatch: A full node consists of 32 CPU cores, 229376 MiB of memory and 0 GPUs and can be shared by up to 32 jobs.\n",
      "sbatch: By default shared jobs get 7168 MiB of memory per CPU core, unless explicitly overridden with --mem-per-cpu, --mem-per-gpu or --mem.\n",
      "sbatch: You will be charged for 0.03125 node, based on the number of CPUs, GPUs and the amount memory that you've requested.\n"
     ]
    },
    {
     "name": "stdout",
     "output_type": "stream",
     "text": [
      "Submitted batch job 3496089\n"
     ]
    },
    {
     "name": "stderr",
     "output_type": "stream",
     "text": [
      "sbatch: Single-node jobs run on a shared node by default. Add --exclusive if you want to use a node exclusively.\n",
      "sbatch: A full node consists of 32 CPU cores, 229376 MiB of memory and 0 GPUs and can be shared by up to 32 jobs.\n",
      "sbatch: By default shared jobs get 7168 MiB of memory per CPU core, unless explicitly overridden with --mem-per-cpu, --mem-per-gpu or --mem.\n",
      "sbatch: You will be charged for 0.03125 node, based on the number of CPUs, GPUs and the amount memory that you've requested.\n"
     ]
    },
    {
     "name": "stdout",
     "output_type": "stream",
     "text": [
      "Submitted batch job 3496090\n"
     ]
    },
    {
     "name": "stderr",
     "output_type": "stream",
     "text": [
      "sbatch: Single-node jobs run on a shared node by default. Add --exclusive if you want to use a node exclusively.\n",
      "sbatch: A full node consists of 32 CPU cores, 229376 MiB of memory and 0 GPUs and can be shared by up to 32 jobs.\n",
      "sbatch: By default shared jobs get 7168 MiB of memory per CPU core, unless explicitly overridden with --mem-per-cpu, --mem-per-gpu or --mem.\n",
      "sbatch: You will be charged for 0.03125 node, based on the number of CPUs, GPUs and the amount memory that you've requested.\n"
     ]
    },
    {
     "name": "stdout",
     "output_type": "stream",
     "text": [
      "Submitted batch job 3496091\n"
     ]
    },
    {
     "name": "stderr",
     "output_type": "stream",
     "text": [
      "sbatch: Single-node jobs run on a shared node by default. Add --exclusive if you want to use a node exclusively.\n",
      "sbatch: A full node consists of 32 CPU cores, 229376 MiB of memory and 0 GPUs and can be shared by up to 32 jobs.\n",
      "sbatch: By default shared jobs get 7168 MiB of memory per CPU core, unless explicitly overridden with --mem-per-cpu, --mem-per-gpu or --mem.\n",
      "sbatch: You will be charged for 0.03125 node, based on the number of CPUs, GPUs and the amount memory that you've requested.\n"
     ]
    },
    {
     "name": "stdout",
     "output_type": "stream",
     "text": [
      "Submitted batch job 3496092\n"
     ]
    },
    {
     "name": "stderr",
     "output_type": "stream",
     "text": [
      "sbatch: Single-node jobs run on a shared node by default. Add --exclusive if you want to use a node exclusively.\n",
      "sbatch: A full node consists of 32 CPU cores, 229376 MiB of memory and 0 GPUs and can be shared by up to 32 jobs.\n",
      "sbatch: By default shared jobs get 7168 MiB of memory per CPU core, unless explicitly overridden with --mem-per-cpu, --mem-per-gpu or --mem.\n",
      "sbatch: You will be charged for 0.03125 node, based on the number of CPUs, GPUs and the amount memory that you've requested.\n"
     ]
    },
    {
     "name": "stdout",
     "output_type": "stream",
     "text": [
      "Submitted batch job 3496093\n"
     ]
    },
    {
     "name": "stderr",
     "output_type": "stream",
     "text": [
      "sbatch: Single-node jobs run on a shared node by default. Add --exclusive if you want to use a node exclusively.\n",
      "sbatch: A full node consists of 32 CPU cores, 229376 MiB of memory and 0 GPUs and can be shared by up to 32 jobs.\n",
      "sbatch: By default shared jobs get 7168 MiB of memory per CPU core, unless explicitly overridden with --mem-per-cpu, --mem-per-gpu or --mem.\n",
      "sbatch: You will be charged for 0.03125 node, based on the number of CPUs, GPUs and the amount memory that you've requested.\n"
     ]
    },
    {
     "name": "stdout",
     "output_type": "stream",
     "text": [
      "Submitted batch job 3496094\n"
     ]
    },
    {
     "name": "stderr",
     "output_type": "stream",
     "text": [
      "sbatch: Single-node jobs run on a shared node by default. Add --exclusive if you want to use a node exclusively.\n",
      "sbatch: A full node consists of 32 CPU cores, 229376 MiB of memory and 0 GPUs and can be shared by up to 32 jobs.\n",
      "sbatch: By default shared jobs get 7168 MiB of memory per CPU core, unless explicitly overridden with --mem-per-cpu, --mem-per-gpu or --mem.\n",
      "sbatch: You will be charged for 0.03125 node, based on the number of CPUs, GPUs and the amount memory that you've requested.\n"
     ]
    },
    {
     "name": "stdout",
     "output_type": "stream",
     "text": [
      "Submitted batch job 3496096\n"
     ]
    },
    {
     "name": "stderr",
     "output_type": "stream",
     "text": [
      "sbatch: Single-node jobs run on a shared node by default. Add --exclusive if you want to use a node exclusively.\n",
      "sbatch: A full node consists of 32 CPU cores, 229376 MiB of memory and 0 GPUs and can be shared by up to 32 jobs.\n",
      "sbatch: By default shared jobs get 7168 MiB of memory per CPU core, unless explicitly overridden with --mem-per-cpu, --mem-per-gpu or --mem.\n",
      "sbatch: You will be charged for 0.03125 node, based on the number of CPUs, GPUs and the amount memory that you've requested.\n"
     ]
    },
    {
     "name": "stdout",
     "output_type": "stream",
     "text": [
      "Submitted batch job 3496097\n"
     ]
    },
    {
     "name": "stderr",
     "output_type": "stream",
     "text": [
      "sbatch: Single-node jobs run on a shared node by default. Add --exclusive if you want to use a node exclusively.\n",
      "sbatch: A full node consists of 32 CPU cores, 229376 MiB of memory and 0 GPUs and can be shared by up to 32 jobs.\n",
      "sbatch: By default shared jobs get 7168 MiB of memory per CPU core, unless explicitly overridden with --mem-per-cpu, --mem-per-gpu or --mem.\n",
      "sbatch: You will be charged for 0.03125 node, based on the number of CPUs, GPUs and the amount memory that you've requested.\n"
     ]
    },
    {
     "name": "stdout",
     "output_type": "stream",
     "text": [
      "Submitted batch job 3496098\n"
     ]
    },
    {
     "name": "stderr",
     "output_type": "stream",
     "text": [
      "sbatch: Single-node jobs run on a shared node by default. Add --exclusive if you want to use a node exclusively.\n",
      "sbatch: A full node consists of 32 CPU cores, 229376 MiB of memory and 0 GPUs and can be shared by up to 32 jobs.\n",
      "sbatch: By default shared jobs get 7168 MiB of memory per CPU core, unless explicitly overridden with --mem-per-cpu, --mem-per-gpu or --mem.\n",
      "sbatch: You will be charged for 0.03125 node, based on the number of CPUs, GPUs and the amount memory that you've requested.\n"
     ]
    },
    {
     "name": "stdout",
     "output_type": "stream",
     "text": [
      "Submitted batch job 3496099\n"
     ]
    },
    {
     "name": "stderr",
     "output_type": "stream",
     "text": [
      "sbatch: Single-node jobs run on a shared node by default. Add --exclusive if you want to use a node exclusively.\n",
      "sbatch: A full node consists of 32 CPU cores, 229376 MiB of memory and 0 GPUs and can be shared by up to 32 jobs.\n",
      "sbatch: By default shared jobs get 7168 MiB of memory per CPU core, unless explicitly overridden with --mem-per-cpu, --mem-per-gpu or --mem.\n",
      "sbatch: You will be charged for 0.03125 node, based on the number of CPUs, GPUs and the amount memory that you've requested.\n"
     ]
    },
    {
     "name": "stdout",
     "output_type": "stream",
     "text": [
      "Submitted batch job 3496100\n"
     ]
    },
    {
     "name": "stderr",
     "output_type": "stream",
     "text": [
      "sbatch: Single-node jobs run on a shared node by default. Add --exclusive if you want to use a node exclusively.\n",
      "sbatch: A full node consists of 32 CPU cores, 229376 MiB of memory and 0 GPUs and can be shared by up to 32 jobs.\n",
      "sbatch: By default shared jobs get 7168 MiB of memory per CPU core, unless explicitly overridden with --mem-per-cpu, --mem-per-gpu or --mem.\n",
      "sbatch: You will be charged for 0.03125 node, based on the number of CPUs, GPUs and the amount memory that you've requested.\n"
     ]
    },
    {
     "name": "stdout",
     "output_type": "stream",
     "text": [
      "Submitted batch job 3496101\n"
     ]
    },
    {
     "name": "stderr",
     "output_type": "stream",
     "text": [
      "sbatch: Single-node jobs run on a shared node by default. Add --exclusive if you want to use a node exclusively.\n",
      "sbatch: A full node consists of 32 CPU cores, 229376 MiB of memory and 0 GPUs and can be shared by up to 32 jobs.\n",
      "sbatch: By default shared jobs get 7168 MiB of memory per CPU core, unless explicitly overridden with --mem-per-cpu, --mem-per-gpu or --mem.\n",
      "sbatch: You will be charged for 0.03125 node, based on the number of CPUs, GPUs and the amount memory that you've requested.\n"
     ]
    },
    {
     "name": "stdout",
     "output_type": "stream",
     "text": [
      "Submitted batch job 3496102\n"
     ]
    },
    {
     "name": "stderr",
     "output_type": "stream",
     "text": [
      "sbatch: Single-node jobs run on a shared node by default. Add --exclusive if you want to use a node exclusively.\n",
      "sbatch: A full node consists of 32 CPU cores, 229376 MiB of memory and 0 GPUs and can be shared by up to 32 jobs.\n",
      "sbatch: By default shared jobs get 7168 MiB of memory per CPU core, unless explicitly overridden with --mem-per-cpu, --mem-per-gpu or --mem.\n",
      "sbatch: You will be charged for 0.03125 node, based on the number of CPUs, GPUs and the amount memory that you've requested.\n"
     ]
    },
    {
     "name": "stdout",
     "output_type": "stream",
     "text": [
      "Submitted batch job 3496103\n"
     ]
    },
    {
     "name": "stderr",
     "output_type": "stream",
     "text": [
      "sbatch: Single-node jobs run on a shared node by default. Add --exclusive if you want to use a node exclusively.\n",
      "sbatch: A full node consists of 32 CPU cores, 229376 MiB of memory and 0 GPUs and can be shared by up to 32 jobs.\n",
      "sbatch: By default shared jobs get 7168 MiB of memory per CPU core, unless explicitly overridden with --mem-per-cpu, --mem-per-gpu or --mem.\n",
      "sbatch: You will be charged for 0.03125 node, based on the number of CPUs, GPUs and the amount memory that you've requested.\n"
     ]
    },
    {
     "name": "stdout",
     "output_type": "stream",
     "text": [
      "Submitted batch job 3496104\n"
     ]
    },
    {
     "name": "stderr",
     "output_type": "stream",
     "text": [
      "sbatch: Single-node jobs run on a shared node by default. Add --exclusive if you want to use a node exclusively.\n",
      "sbatch: A full node consists of 32 CPU cores, 229376 MiB of memory and 0 GPUs and can be shared by up to 32 jobs.\n",
      "sbatch: By default shared jobs get 7168 MiB of memory per CPU core, unless explicitly overridden with --mem-per-cpu, --mem-per-gpu or --mem.\n",
      "sbatch: You will be charged for 0.03125 node, based on the number of CPUs, GPUs and the amount memory that you've requested.\n"
     ]
    },
    {
     "name": "stdout",
     "output_type": "stream",
     "text": [
      "Submitted batch job 3496105\n"
     ]
    },
    {
     "name": "stderr",
     "output_type": "stream",
     "text": [
      "sbatch: Single-node jobs run on a shared node by default. Add --exclusive if you want to use a node exclusively.\n",
      "sbatch: A full node consists of 32 CPU cores, 229376 MiB of memory and 0 GPUs and can be shared by up to 32 jobs.\n",
      "sbatch: By default shared jobs get 7168 MiB of memory per CPU core, unless explicitly overridden with --mem-per-cpu, --mem-per-gpu or --mem.\n",
      "sbatch: You will be charged for 0.03125 node, based on the number of CPUs, GPUs and the amount memory that you've requested.\n"
     ]
    },
    {
     "name": "stdout",
     "output_type": "stream",
     "text": [
      "Submitted batch job 3496106\n"
     ]
    },
    {
     "name": "stderr",
     "output_type": "stream",
     "text": [
      "sbatch: Single-node jobs run on a shared node by default. Add --exclusive if you want to use a node exclusively.\n",
      "sbatch: A full node consists of 32 CPU cores, 229376 MiB of memory and 0 GPUs and can be shared by up to 32 jobs.\n",
      "sbatch: By default shared jobs get 7168 MiB of memory per CPU core, unless explicitly overridden with --mem-per-cpu, --mem-per-gpu or --mem.\n",
      "sbatch: You will be charged for 0.03125 node, based on the number of CPUs, GPUs and the amount memory that you've requested.\n"
     ]
    },
    {
     "name": "stdout",
     "output_type": "stream",
     "text": [
      "Submitted batch job 3496107\n",
      "Submitted batch job 3496449\n"
     ]
    },
    {
     "name": "stderr",
     "output_type": "stream",
     "text": [
      "sbatch: Single-node jobs run on a shared node by default. Add --exclusive if you want to use a node exclusively.\n",
      "sbatch: A full node consists of 32 CPU cores, 229376 MiB of memory and 0 GPUs and can be shared by up to 32 jobs.\n",
      "sbatch: By default shared jobs get 7168 MiB of memory per CPU core, unless explicitly overridden with --mem-per-cpu, --mem-per-gpu or --mem.\n",
      "sbatch: You will be charged for 0.03125 node, based on the number of CPUs, GPUs and the amount memory that you've requested.\n"
     ]
    }
   ],
   "source": [
    "name_job = \"empty\"\n",
    "dir_drop = \"DATA/PRINCE\"\n",
    "delete = True\n",
    "run_parallel_transfer(\n",
    "    \"toward_drop.py\",\n",
    "    [dir_drop, delete],\n",
    "    folders,\n",
    "    50,\n",
    "    \"24:00:00\",\n",
    "    \"staging\",\n",
    "    cpus=1,\n",
    "    node=\"staging\",\n",
    "    name_job=name_job,\n",
    ")"
   ]
  },
  {
   "cell_type": "code",
   "execution_count": 6,
   "id": "14d64989-c933-494e-84c4-0d25b6709f1b",
   "metadata": {
    "tags": []
   },
   "outputs": [],
   "source": [
    "plates = [plate for plate in all_folders[\"unique_id\"].unique() if plate not in plates]"
   ]
  },
  {
   "cell_type": "code",
   "execution_count": 6,
   "id": "6b0c0db3-50bf-4f92-ba08-f336012b0ec2",
   "metadata": {},
   "outputs": [
    {
     "name": "stderr",
     "output_type": "stream",
     "text": [
      "sbatch: Single-node jobs run on a shared node by default. Add --exclusive if you want to use a node exclusively.\n",
      "sbatch: A full node consists of 128 CPU cores, 229376 MiB of memory and 0 GPUs and can be shared by up to 4 jobs.\n",
      "sbatch: By default shared jobs get 1792 MiB of memory per CPU core, unless explicitly overridden with --mem-per-cpu, --mem-per-gpu or --mem.\n",
      "sbatch: You will be charged for 0.25 node, based on the number of CPUs, GPUs and the amount memory that you've requested.\n"
     ]
    },
    {
     "name": "stdout",
     "output_type": "stream",
     "text": [
      "Submitted batch job 2828290\n"
     ]
    }
   ],
   "source": [
    "from amftrack.pipeline.launching.run_super import (\n",
    "    run_parallel,\n",
    "    run_launcher,\n",
    "    run_parallel_all_time,\n",
    ")\n",
    "\n",
    "args = [directory_targ]\n",
    "num_parallel = 32\n",
    "name_job = \"agg_rerun\"\n",
    "time = \"6:00:00\"\n",
    "run_parallel_all_time(\n",
    "    \"make_labeled_graphs.py\",\n",
    "    args,\n",
    "    folders,\n",
    "    num_parallel,\n",
    "    time,\n",
    "    \"make_graphs\",\n",
    "    cpus=32,\n",
    "    node=\"thin\",\n",
    "    dependency=True,\n",
    "    name_job=name_job,\n",
    ")"
   ]
  },
  {
   "cell_type": "code",
   "execution_count": 10,
   "id": "89a5397f-125b-4b74-bcad-f64faf4c307e",
   "metadata": {
    "tags": []
   },
   "outputs": [
    {
     "data": {
      "text/plain": [
       "array(['69_20201119', '753_20221013', '764_20221219', '765_20221213',\n",
       "       '88_20210915', '790_20210907', '757_20221019', '731_20221013',\n",
       "       '809_20211012', '737_20221025', '799_20211001', '762_20221213',\n",
       "       '763_20230109', '408_20221013', '734_20221019', '803_20211012',\n",
       "       '752_20221025', '907_20220321', '403_20221005', '40_20201214',\n",
       "       '943_20220322'], dtype=object)"
      ]
     },
     "execution_count": 10,
     "metadata": {},
     "output_type": "execute_result"
    }
   ],
   "source": [
    "all_folders[\"unique_id\"].unique()"
   ]
  },
  {
   "cell_type": "code",
   "execution_count": 7,
   "id": "02db398f-9a0e-41e4-97a8-ee00a57e98c8",
   "metadata": {
    "collapsed": true,
    "jupyter": {
     "outputs_hidden": true
    },
    "tags": []
   },
   "outputs": [
    {
     "data": {
      "text/html": [
       "<div>\n",
       "<style scoped>\n",
       "    .dataframe tbody tr th:only-of-type {\n",
       "        vertical-align: middle;\n",
       "    }\n",
       "\n",
       "    .dataframe tbody tr th {\n",
       "        vertical-align: top;\n",
       "    }\n",
       "\n",
       "    .dataframe thead th {\n",
       "        text-align: right;\n",
       "    }\n",
       "</style>\n",
       "<table border=\"1\" class=\"dataframe\">\n",
       "  <thead>\n",
       "    <tr style=\"text-align: right;\">\n",
       "      <th></th>\n",
       "      <th>total_path</th>\n",
       "      <th>Plate</th>\n",
       "      <th>PrincePos</th>\n",
       "      <th>root</th>\n",
       "      <th>strain</th>\n",
       "      <th>medium</th>\n",
       "      <th>split</th>\n",
       "      <th>Pbait</th>\n",
       "      <th>CrossDate</th>\n",
       "      <th>Temperature</th>\n",
       "      <th>...</th>\n",
       "      <th>/Analysis/transform_corrupt.mat</th>\n",
       "      <th>/Analysis/skeleton_realigned_compressed.mat</th>\n",
       "      <th>/Analysis/nx_graph_pruned.p</th>\n",
       "      <th>/Analysis/nx_graph_pruned_width.p</th>\n",
       "      <th>/Analysis/nx_graph_pruned_labeled.p</th>\n",
       "      <th>date</th>\n",
       "      <th>folder</th>\n",
       "      <th>Temp</th>\n",
       "      <th>unique_id</th>\n",
       "      <th>datetime</th>\n",
       "    </tr>\n",
       "  </thead>\n",
       "  <tbody>\n",
       "    <tr>\n",
       "      <th>18</th>\n",
       "      <td>/projects/0/einf914/data/20230106_1749_Plate02</td>\n",
       "      <td>521</td>\n",
       "      <td>2</td>\n",
       "      <td>'Carrot'</td>\n",
       "      <td>'C2'</td>\n",
       "      <td>'001P100N100C'</td>\n",
       "      <td>'Y'</td>\n",
       "      <td>'-'</td>\n",
       "      <td>20230104</td>\n",
       "      <td>25</td>\n",
       "      <td>...</td>\n",
       "      <td>False</td>\n",
       "      <td>True</td>\n",
       "      <td>True</td>\n",
       "      <td>True</td>\n",
       "      <td>True</td>\n",
       "      <td>06.01.2023, 17:49:</td>\n",
       "      <td>20230106_1749_Plate02</td>\n",
       "      <td>NaN</td>\n",
       "      <td>521_20230104</td>\n",
       "      <td>2023-01-06 17:49:00</td>\n",
       "    </tr>\n",
       "    <tr>\n",
       "      <th>25</th>\n",
       "      <td>/projects/0/einf914/data/20230125_0554_Plate02</td>\n",
       "      <td>521</td>\n",
       "      <td>2</td>\n",
       "      <td>'Carrot'</td>\n",
       "      <td>'C2'</td>\n",
       "      <td>'001P100N100C'</td>\n",
       "      <td>'Y'</td>\n",
       "      <td>'-'</td>\n",
       "      <td>20230104</td>\n",
       "      <td>25</td>\n",
       "      <td>...</td>\n",
       "      <td>False</td>\n",
       "      <td>False</td>\n",
       "      <td>False</td>\n",
       "      <td>False</td>\n",
       "      <td>False</td>\n",
       "      <td>25.01.2023, 05:54:</td>\n",
       "      <td>20230125_0554_Plate02</td>\n",
       "      <td>NaN</td>\n",
       "      <td>521_20230104</td>\n",
       "      <td>2023-01-25 05:54:00</td>\n",
       "    </tr>\n",
       "    <tr>\n",
       "      <th>38</th>\n",
       "      <td>/projects/0/einf914/data/20230110_1546_Plate02</td>\n",
       "      <td>521</td>\n",
       "      <td>2</td>\n",
       "      <td>'Carrot'</td>\n",
       "      <td>'C2'</td>\n",
       "      <td>'001P100N100C'</td>\n",
       "      <td>'Y'</td>\n",
       "      <td>'-'</td>\n",
       "      <td>20230104</td>\n",
       "      <td>25</td>\n",
       "      <td>...</td>\n",
       "      <td>False</td>\n",
       "      <td>True</td>\n",
       "      <td>True</td>\n",
       "      <td>True</td>\n",
       "      <td>True</td>\n",
       "      <td>10.01.2023, 15:46:</td>\n",
       "      <td>20230110_1546_Plate02</td>\n",
       "      <td>NaN</td>\n",
       "      <td>521_20230104</td>\n",
       "      <td>2023-01-10 15:46:00</td>\n",
       "    </tr>\n",
       "    <tr>\n",
       "      <th>78</th>\n",
       "      <td>/projects/0/einf914/data/20230123_1554_Plate02</td>\n",
       "      <td>521</td>\n",
       "      <td>2</td>\n",
       "      <td>'Carrot'</td>\n",
       "      <td>'C2'</td>\n",
       "      <td>'001P100N100C'</td>\n",
       "      <td>'Y'</td>\n",
       "      <td>'-'</td>\n",
       "      <td>20230104</td>\n",
       "      <td>25</td>\n",
       "      <td>...</td>\n",
       "      <td>False</td>\n",
       "      <td>False</td>\n",
       "      <td>False</td>\n",
       "      <td>False</td>\n",
       "      <td>False</td>\n",
       "      <td>23.01.2023, 15:54:</td>\n",
       "      <td>20230123_1554_Plate02</td>\n",
       "      <td>NaN</td>\n",
       "      <td>521_20230104</td>\n",
       "      <td>2023-01-23 15:54:00</td>\n",
       "    </tr>\n",
       "    <tr>\n",
       "      <th>101</th>\n",
       "      <td>/projects/0/einf914/data/20230124_2154_Plate02</td>\n",
       "      <td>521</td>\n",
       "      <td>2</td>\n",
       "      <td>'Carrot'</td>\n",
       "      <td>'C2'</td>\n",
       "      <td>'001P100N100C'</td>\n",
       "      <td>'Y'</td>\n",
       "      <td>'-'</td>\n",
       "      <td>20230104</td>\n",
       "      <td>25</td>\n",
       "      <td>...</td>\n",
       "      <td>False</td>\n",
       "      <td>False</td>\n",
       "      <td>False</td>\n",
       "      <td>False</td>\n",
       "      <td>False</td>\n",
       "      <td>24.01.2023, 21:54:</td>\n",
       "      <td>20230124_2154_Plate02</td>\n",
       "      <td>NaN</td>\n",
       "      <td>521_20230104</td>\n",
       "      <td>2023-01-24 21:54:00</td>\n",
       "    </tr>\n",
       "    <tr>\n",
       "      <th>...</th>\n",
       "      <td>...</td>\n",
       "      <td>...</td>\n",
       "      <td>...</td>\n",
       "      <td>...</td>\n",
       "      <td>...</td>\n",
       "      <td>...</td>\n",
       "      <td>...</td>\n",
       "      <td>...</td>\n",
       "      <td>...</td>\n",
       "      <td>...</td>\n",
       "      <td>...</td>\n",
       "      <td>...</td>\n",
       "      <td>...</td>\n",
       "      <td>...</td>\n",
       "      <td>...</td>\n",
       "      <td>...</td>\n",
       "      <td>...</td>\n",
       "      <td>...</td>\n",
       "      <td>...</td>\n",
       "      <td>...</td>\n",
       "      <td>...</td>\n",
       "    </tr>\n",
       "    <tr>\n",
       "      <th>1679</th>\n",
       "      <td>/projects/0/einf914/data/20230112_0549_Plate02</td>\n",
       "      <td>521</td>\n",
       "      <td>2</td>\n",
       "      <td>'Carrot'</td>\n",
       "      <td>'C2'</td>\n",
       "      <td>'001P100N100C'</td>\n",
       "      <td>'Y'</td>\n",
       "      <td>'-'</td>\n",
       "      <td>20230104</td>\n",
       "      <td>25</td>\n",
       "      <td>...</td>\n",
       "      <td>False</td>\n",
       "      <td>True</td>\n",
       "      <td>True</td>\n",
       "      <td>True</td>\n",
       "      <td>True</td>\n",
       "      <td>12.01.2023, 05:49:</td>\n",
       "      <td>20230112_0549_Plate02</td>\n",
       "      <td>NaN</td>\n",
       "      <td>521_20230104</td>\n",
       "      <td>2023-01-12 05:49:00</td>\n",
       "    </tr>\n",
       "    <tr>\n",
       "      <th>1685</th>\n",
       "      <td>/projects/0/einf914/data/20230109_1409_Plate02</td>\n",
       "      <td>521</td>\n",
       "      <td>2</td>\n",
       "      <td>'Carrot'</td>\n",
       "      <td>'C2'</td>\n",
       "      <td>'001P100N100C'</td>\n",
       "      <td>'Y'</td>\n",
       "      <td>'-'</td>\n",
       "      <td>20230104</td>\n",
       "      <td>25</td>\n",
       "      <td>...</td>\n",
       "      <td>False</td>\n",
       "      <td>True</td>\n",
       "      <td>True</td>\n",
       "      <td>True</td>\n",
       "      <td>True</td>\n",
       "      <td>09.01.2023, 14:09:</td>\n",
       "      <td>20230109_1409_Plate02</td>\n",
       "      <td>NaN</td>\n",
       "      <td>521_20230104</td>\n",
       "      <td>2023-01-09 14:09:00</td>\n",
       "    </tr>\n",
       "    <tr>\n",
       "      <th>1700</th>\n",
       "      <td>/projects/0/einf914/data/20230105_0833_Plate02</td>\n",
       "      <td>521</td>\n",
       "      <td>2</td>\n",
       "      <td>'Carrot'</td>\n",
       "      <td>'C2'</td>\n",
       "      <td>'001P100N100C'</td>\n",
       "      <td>'Y'</td>\n",
       "      <td>'-'</td>\n",
       "      <td>20230104</td>\n",
       "      <td>25</td>\n",
       "      <td>...</td>\n",
       "      <td>False</td>\n",
       "      <td>True</td>\n",
       "      <td>True</td>\n",
       "      <td>True</td>\n",
       "      <td>True</td>\n",
       "      <td>05.01.2023, 08:33:</td>\n",
       "      <td>20230105_0833_Plate02</td>\n",
       "      <td>NaN</td>\n",
       "      <td>521_20230104</td>\n",
       "      <td>2023-01-05 08:33:00</td>\n",
       "    </tr>\n",
       "    <tr>\n",
       "      <th>1737</th>\n",
       "      <td>/projects/0/einf914/data/20230124_0954_Plate02</td>\n",
       "      <td>521</td>\n",
       "      <td>2</td>\n",
       "      <td>'Carrot'</td>\n",
       "      <td>'C2'</td>\n",
       "      <td>'001P100N100C'</td>\n",
       "      <td>'Y'</td>\n",
       "      <td>'-'</td>\n",
       "      <td>20230104</td>\n",
       "      <td>25</td>\n",
       "      <td>...</td>\n",
       "      <td>False</td>\n",
       "      <td>False</td>\n",
       "      <td>False</td>\n",
       "      <td>False</td>\n",
       "      <td>False</td>\n",
       "      <td>24.01.2023, 09:54:</td>\n",
       "      <td>20230124_0954_Plate02</td>\n",
       "      <td>NaN</td>\n",
       "      <td>521_20230104</td>\n",
       "      <td>2023-01-24 09:54:00</td>\n",
       "    </tr>\n",
       "    <tr>\n",
       "      <th>1756</th>\n",
       "      <td>/projects/0/einf914/data/20230111_0746_Plate02</td>\n",
       "      <td>521</td>\n",
       "      <td>2</td>\n",
       "      <td>'Carrot'</td>\n",
       "      <td>'C2'</td>\n",
       "      <td>'001P100N100C'</td>\n",
       "      <td>'Y'</td>\n",
       "      <td>'-'</td>\n",
       "      <td>20230104</td>\n",
       "      <td>25</td>\n",
       "      <td>...</td>\n",
       "      <td>False</td>\n",
       "      <td>True</td>\n",
       "      <td>True</td>\n",
       "      <td>True</td>\n",
       "      <td>True</td>\n",
       "      <td>11.01.2023, 07:46:</td>\n",
       "      <td>20230111_0746_Plate02</td>\n",
       "      <td>NaN</td>\n",
       "      <td>521_20230104</td>\n",
       "      <td>2023-01-11 07:46:00</td>\n",
       "    </tr>\n",
       "  </tbody>\n",
       "</table>\n",
       "<p>96 rows × 25 columns</p>\n",
       "</div>"
      ],
      "text/plain": [
       "                                          total_path Plate PrincePos  \\\n",
       "18    /projects/0/einf914/data/20230106_1749_Plate02   521         2   \n",
       "25    /projects/0/einf914/data/20230125_0554_Plate02   521         2   \n",
       "38    /projects/0/einf914/data/20230110_1546_Plate02   521         2   \n",
       "78    /projects/0/einf914/data/20230123_1554_Plate02   521         2   \n",
       "101   /projects/0/einf914/data/20230124_2154_Plate02   521         2   \n",
       "...                                              ...   ...       ...   \n",
       "1679  /projects/0/einf914/data/20230112_0549_Plate02   521         2   \n",
       "1685  /projects/0/einf914/data/20230109_1409_Plate02   521         2   \n",
       "1700  /projects/0/einf914/data/20230105_0833_Plate02   521         2   \n",
       "1737  /projects/0/einf914/data/20230124_0954_Plate02   521         2   \n",
       "1756  /projects/0/einf914/data/20230111_0746_Plate02   521         2   \n",
       "\n",
       "          root strain          medium split Pbait CrossDate Temperature  ...  \\\n",
       "18    'Carrot'   'C2'  '001P100N100C'   'Y'   '-'  20230104          25  ...   \n",
       "25    'Carrot'   'C2'  '001P100N100C'   'Y'   '-'  20230104          25  ...   \n",
       "38    'Carrot'   'C2'  '001P100N100C'   'Y'   '-'  20230104          25  ...   \n",
       "78    'Carrot'   'C2'  '001P100N100C'   'Y'   '-'  20230104          25  ...   \n",
       "101   'Carrot'   'C2'  '001P100N100C'   'Y'   '-'  20230104          25  ...   \n",
       "...        ...    ...             ...   ...   ...       ...         ...  ...   \n",
       "1679  'Carrot'   'C2'  '001P100N100C'   'Y'   '-'  20230104          25  ...   \n",
       "1685  'Carrot'   'C2'  '001P100N100C'   'Y'   '-'  20230104          25  ...   \n",
       "1700  'Carrot'   'C2'  '001P100N100C'   'Y'   '-'  20230104          25  ...   \n",
       "1737  'Carrot'   'C2'  '001P100N100C'   'Y'   '-'  20230104          25  ...   \n",
       "1756  'Carrot'   'C2'  '001P100N100C'   'Y'   '-'  20230104          25  ...   \n",
       "\n",
       "     /Analysis/transform_corrupt.mat  \\\n",
       "18                             False   \n",
       "25                             False   \n",
       "38                             False   \n",
       "78                             False   \n",
       "101                            False   \n",
       "...                              ...   \n",
       "1679                           False   \n",
       "1685                           False   \n",
       "1700                           False   \n",
       "1737                           False   \n",
       "1756                           False   \n",
       "\n",
       "     /Analysis/skeleton_realigned_compressed.mat /Analysis/nx_graph_pruned.p  \\\n",
       "18                                          True                        True   \n",
       "25                                         False                       False   \n",
       "38                                          True                        True   \n",
       "78                                         False                       False   \n",
       "101                                        False                       False   \n",
       "...                                          ...                         ...   \n",
       "1679                                        True                        True   \n",
       "1685                                        True                        True   \n",
       "1700                                        True                        True   \n",
       "1737                                       False                       False   \n",
       "1756                                        True                        True   \n",
       "\n",
       "     /Analysis/nx_graph_pruned_width.p /Analysis/nx_graph_pruned_labeled.p  \\\n",
       "18                                True                                True   \n",
       "25                               False                               False   \n",
       "38                                True                                True   \n",
       "78                               False                               False   \n",
       "101                              False                               False   \n",
       "...                                ...                                 ...   \n",
       "1679                              True                                True   \n",
       "1685                              True                                True   \n",
       "1700                              True                                True   \n",
       "1737                             False                               False   \n",
       "1756                              True                                True   \n",
       "\n",
       "                    date                 folder Temp     unique_id  \\\n",
       "18    06.01.2023, 17:49:  20230106_1749_Plate02  NaN  521_20230104   \n",
       "25    25.01.2023, 05:54:  20230125_0554_Plate02  NaN  521_20230104   \n",
       "38    10.01.2023, 15:46:  20230110_1546_Plate02  NaN  521_20230104   \n",
       "78    23.01.2023, 15:54:  20230123_1554_Plate02  NaN  521_20230104   \n",
       "101   24.01.2023, 21:54:  20230124_2154_Plate02  NaN  521_20230104   \n",
       "...                  ...                    ...  ...           ...   \n",
       "1679  12.01.2023, 05:49:  20230112_0549_Plate02  NaN  521_20230104   \n",
       "1685  09.01.2023, 14:09:  20230109_1409_Plate02  NaN  521_20230104   \n",
       "1700  05.01.2023, 08:33:  20230105_0833_Plate02  NaN  521_20230104   \n",
       "1737  24.01.2023, 09:54:  20230124_0954_Plate02  NaN  521_20230104   \n",
       "1756  11.01.2023, 07:46:  20230111_0746_Plate02  NaN  521_20230104   \n",
       "\n",
       "                datetime  \n",
       "18   2023-01-06 17:49:00  \n",
       "25   2023-01-25 05:54:00  \n",
       "38   2023-01-10 15:46:00  \n",
       "78   2023-01-23 15:54:00  \n",
       "101  2023-01-24 21:54:00  \n",
       "...                  ...  \n",
       "1679 2023-01-12 05:49:00  \n",
       "1685 2023-01-09 14:09:00  \n",
       "1700 2023-01-05 08:33:00  \n",
       "1737 2023-01-24 09:54:00  \n",
       "1756 2023-01-11 07:46:00  \n",
       "\n",
       "[96 rows x 25 columns]"
      ]
     },
     "execution_count": 7,
     "metadata": {},
     "output_type": "execute_result"
    }
   ],
   "source": [
    "folders.loc[folders[\"/Analysis/transform.mat\"] == True]"
   ]
  },
  {
   "cell_type": "code",
   "execution_count": 12,
   "id": "4266288f-27bc-4a79-a988-44eea70c16d2",
   "metadata": {
    "collapsed": true,
    "jupyter": {
     "outputs_hidden": true
    },
    "tags": []
   },
   "outputs": [
    {
     "name": "stderr",
     "output_type": "stream",
     "text": [
      "sbatch: Single-node jobs run on a shared node by default. Add --exclusive if you want to use a node exclusively.\n",
      "sbatch: You will be charged for 0.25 node. A full node consists of 128 CPU cores, 983040 MiB of memory and 0 GPUs and can be shared by up to 4 jobs.\n"
     ]
    },
    {
     "name": "stdout",
     "output_type": "stream",
     "text": [
      "Submitted batch job 1872208\n"
     ]
    },
    {
     "name": "stderr",
     "output_type": "stream",
     "text": [
      "sbatch: Single-node jobs run on a shared node by default. Add --exclusive if you want to use a node exclusively.\n",
      "sbatch: You will be charged for 0.25 node. A full node consists of 128 CPU cores, 983040 MiB of memory and 0 GPUs and can be shared by up to 4 jobs.\n"
     ]
    },
    {
     "name": "stdout",
     "output_type": "stream",
     "text": [
      "Submitted batch job 1872209\n"
     ]
    },
    {
     "name": "stderr",
     "output_type": "stream",
     "text": [
      "sbatch: Single-node jobs run on a shared node by default. Add --exclusive if you want to use a node exclusively.\n",
      "sbatch: You will be charged for 0.25 node. A full node consists of 128 CPU cores, 983040 MiB of memory and 0 GPUs and can be shared by up to 4 jobs.\n"
     ]
    },
    {
     "name": "stdout",
     "output_type": "stream",
     "text": [
      "Submitted batch job 1872210\n"
     ]
    },
    {
     "name": "stderr",
     "output_type": "stream",
     "text": [
      "sbatch: Single-node jobs run on a shared node by default. Add --exclusive if you want to use a node exclusively.\n",
      "sbatch: You will be charged for 0.25 node. A full node consists of 128 CPU cores, 983040 MiB of memory and 0 GPUs and can be shared by up to 4 jobs.\n"
     ]
    },
    {
     "name": "stdout",
     "output_type": "stream",
     "text": [
      "Submitted batch job 1872211\n"
     ]
    },
    {
     "name": "stderr",
     "output_type": "stream",
     "text": [
      "sbatch: Single-node jobs run on a shared node by default. Add --exclusive if you want to use a node exclusively.\n",
      "sbatch: You will be charged for 0.25 node. A full node consists of 128 CPU cores, 983040 MiB of memory and 0 GPUs and can be shared by up to 4 jobs.\n"
     ]
    },
    {
     "name": "stdout",
     "output_type": "stream",
     "text": [
      "Submitted batch job 1872212\n"
     ]
    },
    {
     "name": "stderr",
     "output_type": "stream",
     "text": [
      "sbatch: Single-node jobs run on a shared node by default. Add --exclusive if you want to use a node exclusively.\n",
      "sbatch: You will be charged for 0.25 node. A full node consists of 128 CPU cores, 983040 MiB of memory and 0 GPUs and can be shared by up to 4 jobs.\n"
     ]
    },
    {
     "name": "stdout",
     "output_type": "stream",
     "text": [
      "Submitted batch job 1872213\n"
     ]
    },
    {
     "name": "stderr",
     "output_type": "stream",
     "text": [
      "sbatch: Single-node jobs run on a shared node by default. Add --exclusive if you want to use a node exclusively.\n",
      "sbatch: You will be charged for 0.25 node. A full node consists of 128 CPU cores, 983040 MiB of memory and 0 GPUs and can be shared by up to 4 jobs.\n"
     ]
    },
    {
     "name": "stdout",
     "output_type": "stream",
     "text": [
      "Submitted batch job 1872214\n"
     ]
    },
    {
     "name": "stderr",
     "output_type": "stream",
     "text": [
      "sbatch: Single-node jobs run on a shared node by default. Add --exclusive if you want to use a node exclusively.\n",
      "sbatch: You will be charged for 0.25 node. A full node consists of 128 CPU cores, 983040 MiB of memory and 0 GPUs and can be shared by up to 4 jobs.\n"
     ]
    },
    {
     "name": "stdout",
     "output_type": "stream",
     "text": [
      "Submitted batch job 1872215\n"
     ]
    },
    {
     "name": "stderr",
     "output_type": "stream",
     "text": [
      "sbatch: Single-node jobs run on a shared node by default. Add --exclusive if you want to use a node exclusively.\n",
      "sbatch: You will be charged for 0.25 node. A full node consists of 128 CPU cores, 983040 MiB of memory and 0 GPUs and can be shared by up to 4 jobs.\n"
     ]
    },
    {
     "name": "stdout",
     "output_type": "stream",
     "text": [
      "Submitted batch job 1872216\n"
     ]
    },
    {
     "name": "stderr",
     "output_type": "stream",
     "text": [
      "sbatch: Single-node jobs run on a shared node by default. Add --exclusive if you want to use a node exclusively.\n",
      "sbatch: You will be charged for 0.25 node. A full node consists of 128 CPU cores, 983040 MiB of memory and 0 GPUs and can be shared by up to 4 jobs.\n"
     ]
    },
    {
     "name": "stdout",
     "output_type": "stream",
     "text": [
      "Submitted batch job 1872217\n"
     ]
    },
    {
     "name": "stderr",
     "output_type": "stream",
     "text": [
      "sbatch: Single-node jobs run on a shared node by default. Add --exclusive if you want to use a node exclusively.\n",
      "sbatch: You will be charged for 0.25 node. A full node consists of 128 CPU cores, 983040 MiB of memory and 0 GPUs and can be shared by up to 4 jobs.\n"
     ]
    },
    {
     "name": "stdout",
     "output_type": "stream",
     "text": [
      "Submitted batch job 1872218\n"
     ]
    },
    {
     "name": "stderr",
     "output_type": "stream",
     "text": [
      "sbatch: Single-node jobs run on a shared node by default. Add --exclusive if you want to use a node exclusively.\n",
      "sbatch: You will be charged for 0.25 node. A full node consists of 128 CPU cores, 983040 MiB of memory and 0 GPUs and can be shared by up to 4 jobs.\n"
     ]
    },
    {
     "name": "stdout",
     "output_type": "stream",
     "text": [
      "Submitted batch job 1872219\n"
     ]
    },
    {
     "name": "stderr",
     "output_type": "stream",
     "text": [
      "sbatch: Single-node jobs run on a shared node by default. Add --exclusive if you want to use a node exclusively.\n",
      "sbatch: You will be charged for 0.25 node. A full node consists of 128 CPU cores, 983040 MiB of memory and 0 GPUs and can be shared by up to 4 jobs.\n"
     ]
    },
    {
     "name": "stdout",
     "output_type": "stream",
     "text": [
      "Submitted batch job 1872220\n"
     ]
    },
    {
     "name": "stderr",
     "output_type": "stream",
     "text": [
      "sbatch: Single-node jobs run on a shared node by default. Add --exclusive if you want to use a node exclusively.\n",
      "sbatch: You will be charged for 0.25 node. A full node consists of 128 CPU cores, 983040 MiB of memory and 0 GPUs and can be shared by up to 4 jobs.\n"
     ]
    },
    {
     "name": "stdout",
     "output_type": "stream",
     "text": [
      "Submitted batch job 1872221\n"
     ]
    },
    {
     "name": "stderr",
     "output_type": "stream",
     "text": [
      "sbatch: Single-node jobs run on a shared node by default. Add --exclusive if you want to use a node exclusively.\n",
      "sbatch: You will be charged for 0.25 node. A full node consists of 128 CPU cores, 983040 MiB of memory and 0 GPUs and can be shared by up to 4 jobs.\n"
     ]
    },
    {
     "name": "stdout",
     "output_type": "stream",
     "text": [
      "Submitted batch job 1872222\n"
     ]
    },
    {
     "name": "stderr",
     "output_type": "stream",
     "text": [
      "sbatch: Single-node jobs run on a shared node by default. Add --exclusive if you want to use a node exclusively.\n",
      "sbatch: You will be charged for 0.25 node. A full node consists of 128 CPU cores, 983040 MiB of memory and 0 GPUs and can be shared by up to 4 jobs.\n"
     ]
    },
    {
     "name": "stdout",
     "output_type": "stream",
     "text": [
      "Submitted batch job 1872223\n"
     ]
    },
    {
     "name": "stderr",
     "output_type": "stream",
     "text": [
      "sbatch: Single-node jobs run on a shared node by default. Add --exclusive if you want to use a node exclusively.\n",
      "sbatch: You will be charged for 0.25 node. A full node consists of 128 CPU cores, 983040 MiB of memory and 0 GPUs and can be shared by up to 4 jobs.\n"
     ]
    },
    {
     "name": "stdout",
     "output_type": "stream",
     "text": [
      "Submitted batch job 1872224\n"
     ]
    },
    {
     "name": "stderr",
     "output_type": "stream",
     "text": [
      "sbatch: Single-node jobs run on a shared node by default. Add --exclusive if you want to use a node exclusively.\n",
      "sbatch: You will be charged for 0.25 node. A full node consists of 128 CPU cores, 983040 MiB of memory and 0 GPUs and can be shared by up to 4 jobs.\n"
     ]
    },
    {
     "name": "stdout",
     "output_type": "stream",
     "text": [
      "Submitted batch job 1872225\n"
     ]
    },
    {
     "name": "stderr",
     "output_type": "stream",
     "text": [
      "sbatch: Single-node jobs run on a shared node by default. Add --exclusive if you want to use a node exclusively.\n",
      "sbatch: You will be charged for 0.25 node. A full node consists of 128 CPU cores, 983040 MiB of memory and 0 GPUs and can be shared by up to 4 jobs.\n"
     ]
    },
    {
     "name": "stdout",
     "output_type": "stream",
     "text": [
      "Submitted batch job 1872226\n"
     ]
    },
    {
     "name": "stderr",
     "output_type": "stream",
     "text": [
      "sbatch: Single-node jobs run on a shared node by default. Add --exclusive if you want to use a node exclusively.\n",
      "sbatch: You will be charged for 0.25 node. A full node consists of 128 CPU cores, 983040 MiB of memory and 0 GPUs and can be shared by up to 4 jobs.\n"
     ]
    },
    {
     "name": "stdout",
     "output_type": "stream",
     "text": [
      "Submitted batch job 1872227\n"
     ]
    },
    {
     "name": "stderr",
     "output_type": "stream",
     "text": [
      "sbatch: Single-node jobs run on a shared node by default. Add --exclusive if you want to use a node exclusively.\n",
      "sbatch: You will be charged for 0.25 node. A full node consists of 128 CPU cores, 983040 MiB of memory and 0 GPUs and can be shared by up to 4 jobs.\n"
     ]
    },
    {
     "name": "stdout",
     "output_type": "stream",
     "text": [
      "Submitted batch job 1872228\n"
     ]
    },
    {
     "name": "stderr",
     "output_type": "stream",
     "text": [
      "sbatch: Single-node jobs run on a shared node by default. Add --exclusive if you want to use a node exclusively.\n",
      "sbatch: You will be charged for 0.25 node. A full node consists of 128 CPU cores, 983040 MiB of memory and 0 GPUs and can be shared by up to 4 jobs.\n"
     ]
    },
    {
     "name": "stdout",
     "output_type": "stream",
     "text": [
      "Submitted batch job 1872229\n"
     ]
    },
    {
     "name": "stderr",
     "output_type": "stream",
     "text": [
      "sbatch: Single-node jobs run on a shared node by default. Add --exclusive if you want to use a node exclusively.\n",
      "sbatch: You will be charged for 0.25 node. A full node consists of 128 CPU cores, 983040 MiB of memory and 0 GPUs and can be shared by up to 4 jobs.\n"
     ]
    },
    {
     "name": "stdout",
     "output_type": "stream",
     "text": [
      "Submitted batch job 1872230\n"
     ]
    },
    {
     "name": "stderr",
     "output_type": "stream",
     "text": [
      "sbatch: Single-node jobs run on a shared node by default. Add --exclusive if you want to use a node exclusively.\n",
      "sbatch: You will be charged for 0.25 node. A full node consists of 128 CPU cores, 983040 MiB of memory and 0 GPUs and can be shared by up to 4 jobs.\n"
     ]
    },
    {
     "name": "stdout",
     "output_type": "stream",
     "text": [
      "Submitted batch job 1872231\n"
     ]
    },
    {
     "name": "stderr",
     "output_type": "stream",
     "text": [
      "sbatch: Single-node jobs run on a shared node by default. Add --exclusive if you want to use a node exclusively.\n",
      "sbatch: You will be charged for 0.25 node. A full node consists of 128 CPU cores, 983040 MiB of memory and 0 GPUs and can be shared by up to 4 jobs.\n"
     ]
    },
    {
     "name": "stdout",
     "output_type": "stream",
     "text": [
      "Submitted batch job 1872232\n"
     ]
    },
    {
     "name": "stderr",
     "output_type": "stream",
     "text": [
      "sbatch: Single-node jobs run on a shared node by default. Add --exclusive if you want to use a node exclusively.\n",
      "sbatch: You will be charged for 0.25 node. A full node consists of 128 CPU cores, 983040 MiB of memory and 0 GPUs and can be shared by up to 4 jobs.\n"
     ]
    },
    {
     "name": "stdout",
     "output_type": "stream",
     "text": [
      "Submitted batch job 1872233\n"
     ]
    },
    {
     "name": "stderr",
     "output_type": "stream",
     "text": [
      "sbatch: Single-node jobs run on a shared node by default. Add --exclusive if you want to use a node exclusively.\n",
      "sbatch: You will be charged for 0.25 node. A full node consists of 128 CPU cores, 983040 MiB of memory and 0 GPUs and can be shared by up to 4 jobs.\n"
     ]
    },
    {
     "name": "stdout",
     "output_type": "stream",
     "text": [
      "Submitted batch job 1872234\n"
     ]
    },
    {
     "name": "stderr",
     "output_type": "stream",
     "text": [
      "sbatch: Single-node jobs run on a shared node by default. Add --exclusive if you want to use a node exclusively.\n",
      "sbatch: You will be charged for 0.25 node. A full node consists of 128 CPU cores, 983040 MiB of memory and 0 GPUs and can be shared by up to 4 jobs.\n"
     ]
    },
    {
     "name": "stdout",
     "output_type": "stream",
     "text": [
      "Submitted batch job 1872235\n"
     ]
    },
    {
     "name": "stderr",
     "output_type": "stream",
     "text": [
      "sbatch: Single-node jobs run on a shared node by default. Add --exclusive if you want to use a node exclusively.\n",
      "sbatch: You will be charged for 0.25 node. A full node consists of 128 CPU cores, 983040 MiB of memory and 0 GPUs and can be shared by up to 4 jobs.\n"
     ]
    },
    {
     "name": "stdout",
     "output_type": "stream",
     "text": [
      "Submitted batch job 1872236\n"
     ]
    },
    {
     "name": "stderr",
     "output_type": "stream",
     "text": [
      "sbatch: Single-node jobs run on a shared node by default. Add --exclusive if you want to use a node exclusively.\n",
      "sbatch: You will be charged for 0.25 node. A full node consists of 128 CPU cores, 983040 MiB of memory and 0 GPUs and can be shared by up to 4 jobs.\n"
     ]
    },
    {
     "name": "stdout",
     "output_type": "stream",
     "text": [
      "Submitted batch job 1872237\n"
     ]
    },
    {
     "name": "stderr",
     "output_type": "stream",
     "text": [
      "sbatch: Single-node jobs run on a shared node by default. Add --exclusive if you want to use a node exclusively.\n",
      "sbatch: You will be charged for 0.25 node. A full node consists of 128 CPU cores, 983040 MiB of memory and 0 GPUs and can be shared by up to 4 jobs.\n"
     ]
    },
    {
     "name": "stdout",
     "output_type": "stream",
     "text": [
      "Submitted batch job 1872238\n"
     ]
    },
    {
     "name": "stderr",
     "output_type": "stream",
     "text": [
      "sbatch: Single-node jobs run on a shared node by default. Add --exclusive if you want to use a node exclusively.\n",
      "sbatch: You will be charged for 0.25 node. A full node consists of 128 CPU cores, 983040 MiB of memory and 0 GPUs and can be shared by up to 4 jobs.\n"
     ]
    },
    {
     "name": "stdout",
     "output_type": "stream",
     "text": [
      "Submitted batch job 1872239\n"
     ]
    },
    {
     "name": "stderr",
     "output_type": "stream",
     "text": [
      "sbatch: Single-node jobs run on a shared node by default. Add --exclusive if you want to use a node exclusively.\n",
      "sbatch: You will be charged for 0.25 node. A full node consists of 128 CPU cores, 983040 MiB of memory and 0 GPUs and can be shared by up to 4 jobs.\n"
     ]
    },
    {
     "name": "stdout",
     "output_type": "stream",
     "text": [
      "Submitted batch job 1872240\n"
     ]
    },
    {
     "name": "stderr",
     "output_type": "stream",
     "text": [
      "sbatch: Single-node jobs run on a shared node by default. Add --exclusive if you want to use a node exclusively.\n",
      "sbatch: You will be charged for 0.25 node. A full node consists of 128 CPU cores, 983040 MiB of memory and 0 GPUs and can be shared by up to 4 jobs.\n"
     ]
    },
    {
     "name": "stdout",
     "output_type": "stream",
     "text": [
      "Submitted batch job 1872241\n"
     ]
    },
    {
     "name": "stderr",
     "output_type": "stream",
     "text": [
      "sbatch: Single-node jobs run on a shared node by default. Add --exclusive if you want to use a node exclusively.\n",
      "sbatch: You will be charged for 0.25 node. A full node consists of 128 CPU cores, 983040 MiB of memory and 0 GPUs and can be shared by up to 4 jobs.\n"
     ]
    },
    {
     "name": "stdout",
     "output_type": "stream",
     "text": [
      "Submitted batch job 1872242\n"
     ]
    },
    {
     "name": "stderr",
     "output_type": "stream",
     "text": [
      "sbatch: Single-node jobs run on a shared node by default. Add --exclusive if you want to use a node exclusively.\n",
      "sbatch: You will be charged for 0.25 node. A full node consists of 128 CPU cores, 983040 MiB of memory and 0 GPUs and can be shared by up to 4 jobs.\n"
     ]
    },
    {
     "name": "stdout",
     "output_type": "stream",
     "text": [
      "Submitted batch job 1872243\n",
      "Submitted batch job 1872244\n"
     ]
    },
    {
     "name": "stderr",
     "output_type": "stream",
     "text": [
      "sbatch: Single-node jobs run on a shared node by default. Add --exclusive if you want to use a node exclusively.\n",
      "sbatch: You will be charged for 0.25 node. A full node consists of 128 CPU cores, 983040 MiB of memory and 0 GPUs and can be shared by up to 4 jobs.\n",
      "sbatch: Single-node jobs run on a shared node by default. Add --exclusive if you want to use a node exclusively.\n",
      "sbatch: You will be charged for 0.25 node. A full node consists of 128 CPU cores, 983040 MiB of memory and 0 GPUs and can be shared by up to 4 jobs.\n"
     ]
    },
    {
     "name": "stdout",
     "output_type": "stream",
     "text": [
      "Submitted batch job 1872245\n"
     ]
    },
    {
     "name": "stderr",
     "output_type": "stream",
     "text": [
      "sbatch: Single-node jobs run on a shared node by default. Add --exclusive if you want to use a node exclusively.\n",
      "sbatch: You will be charged for 0.25 node. A full node consists of 128 CPU cores, 983040 MiB of memory and 0 GPUs and can be shared by up to 4 jobs.\n"
     ]
    },
    {
     "name": "stdout",
     "output_type": "stream",
     "text": [
      "Submitted batch job 1872246\n"
     ]
    },
    {
     "name": "stderr",
     "output_type": "stream",
     "text": [
      "sbatch: Single-node jobs run on a shared node by default. Add --exclusive if you want to use a node exclusively.\n",
      "sbatch: You will be charged for 0.25 node. A full node consists of 128 CPU cores, 983040 MiB of memory and 0 GPUs and can be shared by up to 4 jobs.\n"
     ]
    },
    {
     "name": "stdout",
     "output_type": "stream",
     "text": [
      "Submitted batch job 1872247\n"
     ]
    },
    {
     "name": "stderr",
     "output_type": "stream",
     "text": [
      "sbatch: Single-node jobs run on a shared node by default. Add --exclusive if you want to use a node exclusively.\n",
      "sbatch: You will be charged for 0.25 node. A full node consists of 128 CPU cores, 983040 MiB of memory and 0 GPUs and can be shared by up to 4 jobs.\n"
     ]
    },
    {
     "name": "stdout",
     "output_type": "stream",
     "text": [
      "Submitted batch job 1872248\n"
     ]
    },
    {
     "name": "stderr",
     "output_type": "stream",
     "text": [
      "sbatch: Single-node jobs run on a shared node by default. Add --exclusive if you want to use a node exclusively.\n",
      "sbatch: You will be charged for 0.25 node. A full node consists of 128 CPU cores, 983040 MiB of memory and 0 GPUs and can be shared by up to 4 jobs.\n"
     ]
    },
    {
     "name": "stdout",
     "output_type": "stream",
     "text": [
      "Submitted batch job 1872249\n"
     ]
    },
    {
     "name": "stderr",
     "output_type": "stream",
     "text": [
      "sbatch: Single-node jobs run on a shared node by default. Add --exclusive if you want to use a node exclusively.\n",
      "sbatch: You will be charged for 0.25 node. A full node consists of 128 CPU cores, 983040 MiB of memory and 0 GPUs and can be shared by up to 4 jobs.\n"
     ]
    },
    {
     "name": "stdout",
     "output_type": "stream",
     "text": [
      "Submitted batch job 1872250\n"
     ]
    },
    {
     "name": "stderr",
     "output_type": "stream",
     "text": [
      "sbatch: Single-node jobs run on a shared node by default. Add --exclusive if you want to use a node exclusively.\n",
      "sbatch: You will be charged for 0.25 node. A full node consists of 128 CPU cores, 983040 MiB of memory and 0 GPUs and can be shared by up to 4 jobs.\n"
     ]
    },
    {
     "name": "stdout",
     "output_type": "stream",
     "text": [
      "Submitted batch job 1872251\n"
     ]
    },
    {
     "name": "stderr",
     "output_type": "stream",
     "text": [
      "sbatch: Single-node jobs run on a shared node by default. Add --exclusive if you want to use a node exclusively.\n",
      "sbatch: You will be charged for 0.25 node. A full node consists of 128 CPU cores, 983040 MiB of memory and 0 GPUs and can be shared by up to 4 jobs.\n"
     ]
    },
    {
     "name": "stdout",
     "output_type": "stream",
     "text": [
      "Submitted batch job 1872252\n"
     ]
    },
    {
     "name": "stderr",
     "output_type": "stream",
     "text": [
      "sbatch: Single-node jobs run on a shared node by default. Add --exclusive if you want to use a node exclusively.\n",
      "sbatch: You will be charged for 0.25 node. A full node consists of 128 CPU cores, 983040 MiB of memory and 0 GPUs and can be shared by up to 4 jobs.\n"
     ]
    },
    {
     "name": "stdout",
     "output_type": "stream",
     "text": [
      "Submitted batch job 1872253\n"
     ]
    },
    {
     "name": "stderr",
     "output_type": "stream",
     "text": [
      "sbatch: Single-node jobs run on a shared node by default. Add --exclusive if you want to use a node exclusively.\n",
      "sbatch: You will be charged for 0.25 node. A full node consists of 128 CPU cores, 983040 MiB of memory and 0 GPUs and can be shared by up to 4 jobs.\n"
     ]
    },
    {
     "name": "stdout",
     "output_type": "stream",
     "text": [
      "Submitted batch job 1872254\n"
     ]
    },
    {
     "name": "stderr",
     "output_type": "stream",
     "text": [
      "sbatch: Single-node jobs run on a shared node by default. Add --exclusive if you want to use a node exclusively.\n",
      "sbatch: You will be charged for 0.25 node. A full node consists of 128 CPU cores, 983040 MiB of memory and 0 GPUs and can be shared by up to 4 jobs.\n"
     ]
    },
    {
     "name": "stdout",
     "output_type": "stream",
     "text": [
      "Submitted batch job 1872255\n"
     ]
    },
    {
     "name": "stderr",
     "output_type": "stream",
     "text": [
      "sbatch: Single-node jobs run on a shared node by default. Add --exclusive if you want to use a node exclusively.\n",
      "sbatch: You will be charged for 0.25 node. A full node consists of 128 CPU cores, 983040 MiB of memory and 0 GPUs and can be shared by up to 4 jobs.\n"
     ]
    },
    {
     "name": "stdout",
     "output_type": "stream",
     "text": [
      "Submitted batch job 1872256\n"
     ]
    },
    {
     "name": "stderr",
     "output_type": "stream",
     "text": [
      "sbatch: Single-node jobs run on a shared node by default. Add --exclusive if you want to use a node exclusively.\n",
      "sbatch: You will be charged for 0.25 node. A full node consists of 128 CPU cores, 983040 MiB of memory and 0 GPUs and can be shared by up to 4 jobs.\n"
     ]
    },
    {
     "name": "stdout",
     "output_type": "stream",
     "text": [
      "Submitted batch job 1872257\n"
     ]
    },
    {
     "name": "stderr",
     "output_type": "stream",
     "text": [
      "sbatch: Single-node jobs run on a shared node by default. Add --exclusive if you want to use a node exclusively.\n",
      "sbatch: You will be charged for 0.25 node. A full node consists of 128 CPU cores, 983040 MiB of memory and 0 GPUs and can be shared by up to 4 jobs.\n"
     ]
    },
    {
     "name": "stdout",
     "output_type": "stream",
     "text": [
      "Submitted batch job 1872258\n"
     ]
    },
    {
     "name": "stderr",
     "output_type": "stream",
     "text": [
      "sbatch: Single-node jobs run on a shared node by default. Add --exclusive if you want to use a node exclusively.\n",
      "sbatch: You will be charged for 0.25 node. A full node consists of 128 CPU cores, 983040 MiB of memory and 0 GPUs and can be shared by up to 4 jobs.\n"
     ]
    },
    {
     "name": "stdout",
     "output_type": "stream",
     "text": [
      "Submitted batch job 1872259\n"
     ]
    },
    {
     "name": "stderr",
     "output_type": "stream",
     "text": [
      "sbatch: Single-node jobs run on a shared node by default. Add --exclusive if you want to use a node exclusively.\n",
      "sbatch: You will be charged for 0.25 node. A full node consists of 128 CPU cores, 983040 MiB of memory and 0 GPUs and can be shared by up to 4 jobs.\n"
     ]
    },
    {
     "name": "stdout",
     "output_type": "stream",
     "text": [
      "Submitted batch job 1872260\n"
     ]
    },
    {
     "name": "stderr",
     "output_type": "stream",
     "text": [
      "sbatch: Single-node jobs run on a shared node by default. Add --exclusive if you want to use a node exclusively.\n",
      "sbatch: You will be charged for 0.25 node. A full node consists of 128 CPU cores, 983040 MiB of memory and 0 GPUs and can be shared by up to 4 jobs.\n"
     ]
    },
    {
     "name": "stdout",
     "output_type": "stream",
     "text": [
      "Submitted batch job 1872261\n"
     ]
    },
    {
     "name": "stderr",
     "output_type": "stream",
     "text": [
      "sbatch: Single-node jobs run on a shared node by default. Add --exclusive if you want to use a node exclusively.\n",
      "sbatch: You will be charged for 0.25 node. A full node consists of 128 CPU cores, 983040 MiB of memory and 0 GPUs and can be shared by up to 4 jobs.\n"
     ]
    },
    {
     "name": "stdout",
     "output_type": "stream",
     "text": [
      "Submitted batch job 1872262\n"
     ]
    },
    {
     "name": "stderr",
     "output_type": "stream",
     "text": [
      "sbatch: Single-node jobs run on a shared node by default. Add --exclusive if you want to use a node exclusively.\n",
      "sbatch: You will be charged for 0.25 node. A full node consists of 128 CPU cores, 983040 MiB of memory and 0 GPUs and can be shared by up to 4 jobs.\n"
     ]
    },
    {
     "name": "stdout",
     "output_type": "stream",
     "text": [
      "Submitted batch job 1872263\n"
     ]
    },
    {
     "name": "stderr",
     "output_type": "stream",
     "text": [
      "sbatch: Single-node jobs run on a shared node by default. Add --exclusive if you want to use a node exclusively.\n",
      "sbatch: You will be charged for 0.25 node. A full node consists of 128 CPU cores, 983040 MiB of memory and 0 GPUs and can be shared by up to 4 jobs.\n"
     ]
    },
    {
     "name": "stdout",
     "output_type": "stream",
     "text": [
      "Submitted batch job 1872264\n"
     ]
    },
    {
     "name": "stderr",
     "output_type": "stream",
     "text": [
      "sbatch: Single-node jobs run on a shared node by default. Add --exclusive if you want to use a node exclusively.\n",
      "sbatch: You will be charged for 0.25 node. A full node consists of 128 CPU cores, 983040 MiB of memory and 0 GPUs and can be shared by up to 4 jobs.\n"
     ]
    },
    {
     "name": "stdout",
     "output_type": "stream",
     "text": [
      "Submitted batch job 1872265\n"
     ]
    },
    {
     "name": "stderr",
     "output_type": "stream",
     "text": [
      "sbatch: Single-node jobs run on a shared node by default. Add --exclusive if you want to use a node exclusively.\n",
      "sbatch: You will be charged for 0.25 node. A full node consists of 128 CPU cores, 983040 MiB of memory and 0 GPUs and can be shared by up to 4 jobs.\n"
     ]
    },
    {
     "name": "stdout",
     "output_type": "stream",
     "text": [
      "Submitted batch job 1872266\n"
     ]
    },
    {
     "name": "stderr",
     "output_type": "stream",
     "text": [
      "sbatch: Single-node jobs run on a shared node by default. Add --exclusive if you want to use a node exclusively.\n",
      "sbatch: You will be charged for 0.25 node. A full node consists of 128 CPU cores, 983040 MiB of memory and 0 GPUs and can be shared by up to 4 jobs.\n"
     ]
    },
    {
     "name": "stdout",
     "output_type": "stream",
     "text": [
      "Submitted batch job 1872267\n"
     ]
    },
    {
     "name": "stderr",
     "output_type": "stream",
     "text": [
      "sbatch: Single-node jobs run on a shared node by default. Add --exclusive if you want to use a node exclusively.\n",
      "sbatch: You will be charged for 0.25 node. A full node consists of 128 CPU cores, 983040 MiB of memory and 0 GPUs and can be shared by up to 4 jobs.\n"
     ]
    },
    {
     "name": "stdout",
     "output_type": "stream",
     "text": [
      "Submitted batch job 1872268\n"
     ]
    },
    {
     "name": "stderr",
     "output_type": "stream",
     "text": [
      "sbatch: Single-node jobs run on a shared node by default. Add --exclusive if you want to use a node exclusively.\n",
      "sbatch: You will be charged for 0.25 node. A full node consists of 128 CPU cores, 983040 MiB of memory and 0 GPUs and can be shared by up to 4 jobs.\n"
     ]
    },
    {
     "name": "stdout",
     "output_type": "stream",
     "text": [
      "Submitted batch job 1872269\n"
     ]
    },
    {
     "name": "stderr",
     "output_type": "stream",
     "text": [
      "sbatch: Single-node jobs run on a shared node by default. Add --exclusive if you want to use a node exclusively.\n",
      "sbatch: You will be charged for 0.25 node. A full node consists of 128 CPU cores, 983040 MiB of memory and 0 GPUs and can be shared by up to 4 jobs.\n"
     ]
    },
    {
     "name": "stdout",
     "output_type": "stream",
     "text": [
      "Submitted batch job 1872270\n"
     ]
    },
    {
     "name": "stderr",
     "output_type": "stream",
     "text": [
      "sbatch: Single-node jobs run on a shared node by default. Add --exclusive if you want to use a node exclusively.\n",
      "sbatch: You will be charged for 0.25 node. A full node consists of 128 CPU cores, 983040 MiB of memory and 0 GPUs and can be shared by up to 4 jobs.\n"
     ]
    },
    {
     "name": "stdout",
     "output_type": "stream",
     "text": [
      "Submitted batch job 1872271\n"
     ]
    },
    {
     "name": "stderr",
     "output_type": "stream",
     "text": [
      "sbatch: Single-node jobs run on a shared node by default. Add --exclusive if you want to use a node exclusively.\n",
      "sbatch: You will be charged for 0.25 node. A full node consists of 128 CPU cores, 983040 MiB of memory and 0 GPUs and can be shared by up to 4 jobs.\n"
     ]
    },
    {
     "name": "stdout",
     "output_type": "stream",
     "text": [
      "Submitted batch job 1872272\n"
     ]
    },
    {
     "name": "stderr",
     "output_type": "stream",
     "text": [
      "sbatch: Single-node jobs run on a shared node by default. Add --exclusive if you want to use a node exclusively.\n",
      "sbatch: You will be charged for 0.25 node. A full node consists of 128 CPU cores, 983040 MiB of memory and 0 GPUs and can be shared by up to 4 jobs.\n"
     ]
    },
    {
     "name": "stdout",
     "output_type": "stream",
     "text": [
      "Submitted batch job 1872273\n"
     ]
    },
    {
     "name": "stderr",
     "output_type": "stream",
     "text": [
      "sbatch: Single-node jobs run on a shared node by default. Add --exclusive if you want to use a node exclusively.\n",
      "sbatch: You will be charged for 0.25 node. A full node consists of 128 CPU cores, 983040 MiB of memory and 0 GPUs and can be shared by up to 4 jobs.\n"
     ]
    },
    {
     "name": "stdout",
     "output_type": "stream",
     "text": [
      "Submitted batch job 1872274\n"
     ]
    },
    {
     "name": "stderr",
     "output_type": "stream",
     "text": [
      "sbatch: Single-node jobs run on a shared node by default. Add --exclusive if you want to use a node exclusively.\n",
      "sbatch: You will be charged for 0.25 node. A full node consists of 128 CPU cores, 983040 MiB of memory and 0 GPUs and can be shared by up to 4 jobs.\n"
     ]
    },
    {
     "name": "stdout",
     "output_type": "stream",
     "text": [
      "Submitted batch job 1872275\n"
     ]
    },
    {
     "name": "stderr",
     "output_type": "stream",
     "text": [
      "sbatch: Single-node jobs run on a shared node by default. Add --exclusive if you want to use a node exclusively.\n",
      "sbatch: You will be charged for 0.25 node. A full node consists of 128 CPU cores, 983040 MiB of memory and 0 GPUs and can be shared by up to 4 jobs.\n"
     ]
    },
    {
     "name": "stdout",
     "output_type": "stream",
     "text": [
      "Submitted batch job 1872276\n"
     ]
    },
    {
     "name": "stderr",
     "output_type": "stream",
     "text": [
      "sbatch: Single-node jobs run on a shared node by default. Add --exclusive if you want to use a node exclusively.\n",
      "sbatch: You will be charged for 0.25 node. A full node consists of 128 CPU cores, 983040 MiB of memory and 0 GPUs and can be shared by up to 4 jobs.\n"
     ]
    },
    {
     "name": "stdout",
     "output_type": "stream",
     "text": [
      "Submitted batch job 1872277\n"
     ]
    },
    {
     "name": "stderr",
     "output_type": "stream",
     "text": [
      "sbatch: Single-node jobs run on a shared node by default. Add --exclusive if you want to use a node exclusively.\n",
      "sbatch: You will be charged for 0.25 node. A full node consists of 128 CPU cores, 983040 MiB of memory and 0 GPUs and can be shared by up to 4 jobs.\n"
     ]
    },
    {
     "name": "stdout",
     "output_type": "stream",
     "text": [
      "Submitted batch job 1872278\n"
     ]
    },
    {
     "name": "stderr",
     "output_type": "stream",
     "text": [
      "sbatch: Single-node jobs run on a shared node by default. Add --exclusive if you want to use a node exclusively.\n",
      "sbatch: You will be charged for 0.25 node. A full node consists of 128 CPU cores, 983040 MiB of memory and 0 GPUs and can be shared by up to 4 jobs.\n"
     ]
    },
    {
     "name": "stdout",
     "output_type": "stream",
     "text": [
      "Submitted batch job 1872279\n"
     ]
    },
    {
     "name": "stderr",
     "output_type": "stream",
     "text": [
      "sbatch: Single-node jobs run on a shared node by default. Add --exclusive if you want to use a node exclusively.\n",
      "sbatch: You will be charged for 0.25 node. A full node consists of 128 CPU cores, 983040 MiB of memory and 0 GPUs and can be shared by up to 4 jobs.\n"
     ]
    },
    {
     "name": "stdout",
     "output_type": "stream",
     "text": [
      "Submitted batch job 1872280\n"
     ]
    },
    {
     "name": "stderr",
     "output_type": "stream",
     "text": [
      "sbatch: Single-node jobs run on a shared node by default. Add --exclusive if you want to use a node exclusively.\n",
      "sbatch: You will be charged for 0.25 node. A full node consists of 128 CPU cores, 983040 MiB of memory and 0 GPUs and can be shared by up to 4 jobs.\n"
     ]
    },
    {
     "name": "stdout",
     "output_type": "stream",
     "text": [
      "Submitted batch job 1872281\n"
     ]
    },
    {
     "name": "stderr",
     "output_type": "stream",
     "text": [
      "sbatch: Single-node jobs run on a shared node by default. Add --exclusive if you want to use a node exclusively.\n",
      "sbatch: You will be charged for 0.25 node. A full node consists of 128 CPU cores, 983040 MiB of memory and 0 GPUs and can be shared by up to 4 jobs.\n"
     ]
    },
    {
     "name": "stdout",
     "output_type": "stream",
     "text": [
      "Submitted batch job 1872282\n"
     ]
    },
    {
     "name": "stderr",
     "output_type": "stream",
     "text": [
      "sbatch: Single-node jobs run on a shared node by default. Add --exclusive if you want to use a node exclusively.\n",
      "sbatch: You will be charged for 0.25 node. A full node consists of 128 CPU cores, 983040 MiB of memory and 0 GPUs and can be shared by up to 4 jobs.\n"
     ]
    },
    {
     "name": "stdout",
     "output_type": "stream",
     "text": [
      "Submitted batch job 1872283\n"
     ]
    },
    {
     "name": "stderr",
     "output_type": "stream",
     "text": [
      "sbatch: Single-node jobs run on a shared node by default. Add --exclusive if you want to use a node exclusively.\n",
      "sbatch: You will be charged for 0.25 node. A full node consists of 128 CPU cores, 983040 MiB of memory and 0 GPUs and can be shared by up to 4 jobs.\n"
     ]
    },
    {
     "name": "stdout",
     "output_type": "stream",
     "text": [
      "Submitted batch job 1872284\n"
     ]
    },
    {
     "name": "stderr",
     "output_type": "stream",
     "text": [
      "sbatch: Single-node jobs run on a shared node by default. Add --exclusive if you want to use a node exclusively.\n",
      "sbatch: You will be charged for 0.25 node. A full node consists of 128 CPU cores, 983040 MiB of memory and 0 GPUs and can be shared by up to 4 jobs.\n"
     ]
    },
    {
     "name": "stdout",
     "output_type": "stream",
     "text": [
      "Submitted batch job 1872285\n"
     ]
    },
    {
     "name": "stderr",
     "output_type": "stream",
     "text": [
      "sbatch: Single-node jobs run on a shared node by default. Add --exclusive if you want to use a node exclusively.\n",
      "sbatch: You will be charged for 0.25 node. A full node consists of 128 CPU cores, 983040 MiB of memory and 0 GPUs and can be shared by up to 4 jobs.\n"
     ]
    },
    {
     "name": "stdout",
     "output_type": "stream",
     "text": [
      "Submitted batch job 1872286\n"
     ]
    },
    {
     "name": "stderr",
     "output_type": "stream",
     "text": [
      "sbatch: Single-node jobs run on a shared node by default. Add --exclusive if you want to use a node exclusively.\n",
      "sbatch: You will be charged for 0.25 node. A full node consists of 128 CPU cores, 983040 MiB of memory and 0 GPUs and can be shared by up to 4 jobs.\n"
     ]
    },
    {
     "name": "stdout",
     "output_type": "stream",
     "text": [
      "Submitted batch job 1872287\n"
     ]
    },
    {
     "name": "stderr",
     "output_type": "stream",
     "text": [
      "sbatch: Single-node jobs run on a shared node by default. Add --exclusive if you want to use a node exclusively.\n",
      "sbatch: You will be charged for 0.25 node. A full node consists of 128 CPU cores, 983040 MiB of memory and 0 GPUs and can be shared by up to 4 jobs.\n"
     ]
    },
    {
     "name": "stdout",
     "output_type": "stream",
     "text": [
      "Submitted batch job 1872288\n"
     ]
    },
    {
     "name": "stderr",
     "output_type": "stream",
     "text": [
      "sbatch: Single-node jobs run on a shared node by default. Add --exclusive if you want to use a node exclusively.\n",
      "sbatch: You will be charged for 0.25 node. A full node consists of 128 CPU cores, 983040 MiB of memory and 0 GPUs and can be shared by up to 4 jobs.\n"
     ]
    },
    {
     "name": "stdout",
     "output_type": "stream",
     "text": [
      "Submitted batch job 1872289\n"
     ]
    },
    {
     "name": "stderr",
     "output_type": "stream",
     "text": [
      "sbatch: Single-node jobs run on a shared node by default. Add --exclusive if you want to use a node exclusively.\n",
      "sbatch: You will be charged for 0.25 node. A full node consists of 128 CPU cores, 983040 MiB of memory and 0 GPUs and can be shared by up to 4 jobs.\n"
     ]
    },
    {
     "name": "stdout",
     "output_type": "stream",
     "text": [
      "Submitted batch job 1872290\n"
     ]
    },
    {
     "name": "stderr",
     "output_type": "stream",
     "text": [
      "sbatch: Single-node jobs run on a shared node by default. Add --exclusive if you want to use a node exclusively.\n",
      "sbatch: You will be charged for 0.25 node. A full node consists of 128 CPU cores, 983040 MiB of memory and 0 GPUs and can be shared by up to 4 jobs.\n"
     ]
    },
    {
     "name": "stdout",
     "output_type": "stream",
     "text": [
      "Submitted batch job 1872291\n",
      "Submitted batch job 1872292\n"
     ]
    },
    {
     "name": "stderr",
     "output_type": "stream",
     "text": [
      "sbatch: Single-node jobs run on a shared node by default. Add --exclusive if you want to use a node exclusively.\n",
      "sbatch: You will be charged for 0.25 node. A full node consists of 128 CPU cores, 983040 MiB of memory and 0 GPUs and can be shared by up to 4 jobs.\n"
     ]
    },
    {
     "name": "stdout",
     "output_type": "stream",
     "text": [
      "Submitted batch job 1872293\n"
     ]
    },
    {
     "name": "stderr",
     "output_type": "stream",
     "text": [
      "sbatch: Single-node jobs run on a shared node by default. Add --exclusive if you want to use a node exclusively.\n",
      "sbatch: You will be charged for 0.25 node. A full node consists of 128 CPU cores, 983040 MiB of memory and 0 GPUs and can be shared by up to 4 jobs.\n",
      "sbatch: Single-node jobs run on a shared node by default. Add --exclusive if you want to use a node exclusively.\n",
      "sbatch: You will be charged for 0.25 node. A full node consists of 128 CPU cores, 983040 MiB of memory and 0 GPUs and can be shared by up to 4 jobs.\n"
     ]
    },
    {
     "name": "stdout",
     "output_type": "stream",
     "text": [
      "Submitted batch job 1872294\n"
     ]
    },
    {
     "name": "stderr",
     "output_type": "stream",
     "text": [
      "sbatch: Single-node jobs run on a shared node by default. Add --exclusive if you want to use a node exclusively.\n",
      "sbatch: You will be charged for 0.25 node. A full node consists of 128 CPU cores, 983040 MiB of memory and 0 GPUs and can be shared by up to 4 jobs.\n"
     ]
    },
    {
     "name": "stdout",
     "output_type": "stream",
     "text": [
      "Submitted batch job 1872295\n"
     ]
    },
    {
     "name": "stderr",
     "output_type": "stream",
     "text": [
      "sbatch: Single-node jobs run on a shared node by default. Add --exclusive if you want to use a node exclusively.\n",
      "sbatch: You will be charged for 0.25 node. A full node consists of 128 CPU cores, 983040 MiB of memory and 0 GPUs and can be shared by up to 4 jobs.\n"
     ]
    },
    {
     "name": "stdout",
     "output_type": "stream",
     "text": [
      "Submitted batch job 1872296\n"
     ]
    },
    {
     "name": "stderr",
     "output_type": "stream",
     "text": [
      "sbatch: Single-node jobs run on a shared node by default. Add --exclusive if you want to use a node exclusively.\n",
      "sbatch: You will be charged for 0.25 node. A full node consists of 128 CPU cores, 983040 MiB of memory and 0 GPUs and can be shared by up to 4 jobs.\n"
     ]
    },
    {
     "name": "stdout",
     "output_type": "stream",
     "text": [
      "Submitted batch job 1872297\n"
     ]
    },
    {
     "name": "stderr",
     "output_type": "stream",
     "text": [
      "sbatch: Single-node jobs run on a shared node by default. Add --exclusive if you want to use a node exclusively.\n",
      "sbatch: You will be charged for 0.25 node. A full node consists of 128 CPU cores, 983040 MiB of memory and 0 GPUs and can be shared by up to 4 jobs.\n"
     ]
    },
    {
     "name": "stdout",
     "output_type": "stream",
     "text": [
      "Submitted batch job 1872298\n"
     ]
    },
    {
     "name": "stderr",
     "output_type": "stream",
     "text": [
      "sbatch: Single-node jobs run on a shared node by default. Add --exclusive if you want to use a node exclusively.\n",
      "sbatch: You will be charged for 0.25 node. A full node consists of 128 CPU cores, 983040 MiB of memory and 0 GPUs and can be shared by up to 4 jobs.\n"
     ]
    },
    {
     "name": "stdout",
     "output_type": "stream",
     "text": [
      "Submitted batch job 1872299\n"
     ]
    },
    {
     "name": "stderr",
     "output_type": "stream",
     "text": [
      "sbatch: Single-node jobs run on a shared node by default. Add --exclusive if you want to use a node exclusively.\n",
      "sbatch: You will be charged for 0.25 node. A full node consists of 128 CPU cores, 983040 MiB of memory and 0 GPUs and can be shared by up to 4 jobs.\n"
     ]
    },
    {
     "name": "stdout",
     "output_type": "stream",
     "text": [
      "Submitted batch job 1872300\n",
      "Submitted batch job 1872301\n"
     ]
    },
    {
     "name": "stderr",
     "output_type": "stream",
     "text": [
      "sbatch: Single-node jobs run on a shared node by default. Add --exclusive if you want to use a node exclusively.\n",
      "sbatch: You will be charged for 0.25 node. A full node consists of 128 CPU cores, 983040 MiB of memory and 0 GPUs and can be shared by up to 4 jobs.\n",
      "sbatch: Single-node jobs run on a shared node by default. Add --exclusive if you want to use a node exclusively.\n",
      "sbatch: You will be charged for 0.25 node. A full node consists of 128 CPU cores, 983040 MiB of memory and 0 GPUs and can be shared by up to 4 jobs.\n"
     ]
    },
    {
     "name": "stdout",
     "output_type": "stream",
     "text": [
      "Submitted batch job 1872302\n"
     ]
    },
    {
     "name": "stderr",
     "output_type": "stream",
     "text": [
      "sbatch: Single-node jobs run on a shared node by default. Add --exclusive if you want to use a node exclusively.\n",
      "sbatch: You will be charged for 0.25 node. A full node consists of 128 CPU cores, 983040 MiB of memory and 0 GPUs and can be shared by up to 4 jobs.\n"
     ]
    },
    {
     "name": "stdout",
     "output_type": "stream",
     "text": [
      "Submitted batch job 1872303\n"
     ]
    },
    {
     "name": "stderr",
     "output_type": "stream",
     "text": [
      "sbatch: Single-node jobs run on a shared node by default. Add --exclusive if you want to use a node exclusively.\n",
      "sbatch: You will be charged for 0.25 node. A full node consists of 128 CPU cores, 983040 MiB of memory and 0 GPUs and can be shared by up to 4 jobs.\n"
     ]
    },
    {
     "name": "stdout",
     "output_type": "stream",
     "text": [
      "Submitted batch job 1872304\n"
     ]
    },
    {
     "name": "stderr",
     "output_type": "stream",
     "text": [
      "sbatch: Single-node jobs run on a shared node by default. Add --exclusive if you want to use a node exclusively.\n",
      "sbatch: You will be charged for 0.25 node. A full node consists of 128 CPU cores, 983040 MiB of memory and 0 GPUs and can be shared by up to 4 jobs.\n"
     ]
    },
    {
     "name": "stdout",
     "output_type": "stream",
     "text": [
      "Submitted batch job 1872305\n"
     ]
    },
    {
     "name": "stderr",
     "output_type": "stream",
     "text": [
      "sbatch: Single-node jobs run on a shared node by default. Add --exclusive if you want to use a node exclusively.\n",
      "sbatch: You will be charged for 0.25 node. A full node consists of 128 CPU cores, 983040 MiB of memory and 0 GPUs and can be shared by up to 4 jobs.\n"
     ]
    },
    {
     "name": "stdout",
     "output_type": "stream",
     "text": [
      "Submitted batch job 1872306\n"
     ]
    },
    {
     "name": "stderr",
     "output_type": "stream",
     "text": [
      "sbatch: Single-node jobs run on a shared node by default. Add --exclusive if you want to use a node exclusively.\n",
      "sbatch: You will be charged for 0.25 node. A full node consists of 128 CPU cores, 983040 MiB of memory and 0 GPUs and can be shared by up to 4 jobs.\n"
     ]
    },
    {
     "name": "stdout",
     "output_type": "stream",
     "text": [
      "Submitted batch job 1872307\n"
     ]
    },
    {
     "name": "stderr",
     "output_type": "stream",
     "text": [
      "sbatch: Single-node jobs run on a shared node by default. Add --exclusive if you want to use a node exclusively.\n",
      "sbatch: You will be charged for 0.25 node. A full node consists of 128 CPU cores, 983040 MiB of memory and 0 GPUs and can be shared by up to 4 jobs.\n"
     ]
    },
    {
     "name": "stdout",
     "output_type": "stream",
     "text": [
      "Submitted batch job 1872308\n",
      "Submitted batch job 1872309\n"
     ]
    },
    {
     "name": "stderr",
     "output_type": "stream",
     "text": [
      "sbatch: Single-node jobs run on a shared node by default. Add --exclusive if you want to use a node exclusively.\n",
      "sbatch: You will be charged for 0.25 node. A full node consists of 128 CPU cores, 983040 MiB of memory and 0 GPUs and can be shared by up to 4 jobs.\n",
      "sbatch: Single-node jobs run on a shared node by default. Add --exclusive if you want to use a node exclusively.\n",
      "sbatch: You will be charged for 0.25 node. A full node consists of 128 CPU cores, 983040 MiB of memory and 0 GPUs and can be shared by up to 4 jobs.\n"
     ]
    },
    {
     "name": "stdout",
     "output_type": "stream",
     "text": [
      "Submitted batch job 1872310\n"
     ]
    },
    {
     "name": "stderr",
     "output_type": "stream",
     "text": [
      "sbatch: Single-node jobs run on a shared node by default. Add --exclusive if you want to use a node exclusively.\n",
      "sbatch: You will be charged for 0.25 node. A full node consists of 128 CPU cores, 983040 MiB of memory and 0 GPUs and can be shared by up to 4 jobs.\n"
     ]
    },
    {
     "name": "stdout",
     "output_type": "stream",
     "text": [
      "Submitted batch job 1872311\n"
     ]
    },
    {
     "name": "stderr",
     "output_type": "stream",
     "text": [
      "sbatch: Single-node jobs run on a shared node by default. Add --exclusive if you want to use a node exclusively.\n",
      "sbatch: You will be charged for 0.25 node. A full node consists of 128 CPU cores, 983040 MiB of memory and 0 GPUs and can be shared by up to 4 jobs.\n"
     ]
    },
    {
     "name": "stdout",
     "output_type": "stream",
     "text": [
      "Submitted batch job 1872312\n"
     ]
    },
    {
     "name": "stderr",
     "output_type": "stream",
     "text": [
      "sbatch: Single-node jobs run on a shared node by default. Add --exclusive if you want to use a node exclusively.\n",
      "sbatch: You will be charged for 0.25 node. A full node consists of 128 CPU cores, 983040 MiB of memory and 0 GPUs and can be shared by up to 4 jobs.\n"
     ]
    },
    {
     "name": "stdout",
     "output_type": "stream",
     "text": [
      "Submitted batch job 1872313\n"
     ]
    },
    {
     "name": "stderr",
     "output_type": "stream",
     "text": [
      "sbatch: Single-node jobs run on a shared node by default. Add --exclusive if you want to use a node exclusively.\n",
      "sbatch: You will be charged for 0.25 node. A full node consists of 128 CPU cores, 983040 MiB of memory and 0 GPUs and can be shared by up to 4 jobs.\n"
     ]
    },
    {
     "name": "stdout",
     "output_type": "stream",
     "text": [
      "Submitted batch job 1872314\n"
     ]
    },
    {
     "name": "stderr",
     "output_type": "stream",
     "text": [
      "sbatch: Single-node jobs run on a shared node by default. Add --exclusive if you want to use a node exclusively.\n",
      "sbatch: You will be charged for 0.25 node. A full node consists of 128 CPU cores, 983040 MiB of memory and 0 GPUs and can be shared by up to 4 jobs.\n"
     ]
    },
    {
     "name": "stdout",
     "output_type": "stream",
     "text": [
      "Submitted batch job 1872315\n"
     ]
    },
    {
     "name": "stderr",
     "output_type": "stream",
     "text": [
      "sbatch: Single-node jobs run on a shared node by default. Add --exclusive if you want to use a node exclusively.\n",
      "sbatch: You will be charged for 0.03125 node. A full node consists of 32 CPU cores, 229376 MiB of memory and 0 GPUs and can be shared by up to 32 jobs.\n"
     ]
    },
    {
     "name": "stdout",
     "output_type": "stream",
     "text": [
      "Submitted batch job 1872316\n"
     ]
    }
   ],
   "source": [
    "from amftrack.pipeline.launching.run_super import run_parallel, run_launcher\n",
    "\n",
    "name_job = \"malin\"\n",
    "stage = 30\n",
    "args = [directory_targ]\n",
    "for plate in plates:\n",
    "    select = folders.loc[folders[\"unique_id\"] == plate]\n",
    "    num_parallel = 32\n",
    "    time = \"10:00\"\n",
    "    args = [directory_targ]\n",
    "    run_parallel(\n",
    "        \"realign.py\",\n",
    "        args,\n",
    "        select,\n",
    "        num_parallel,\n",
    "        time,\n",
    "        \"create_realign\",\n",
    "        cpus=32,\n",
    "        node=\"fat\",\n",
    "        name_job=name_job,\n",
    "    )\n",
    "\n",
    "run_launcher(\n",
    "    \"graph_extracter.py\",\n",
    "    [directory_targ, name_job, stage - 1],\n",
    "    plates,\n",
    "    \"3:00:00\",\n",
    "    dependency=True,\n",
    "    name_job=name_job,\n",
    ")"
   ]
  },
  {
   "cell_type": "code",
   "execution_count": 7,
   "id": "cc02f898-d953-4d8b-8c1c-eb42711aeb09",
   "metadata": {},
   "outputs": [
    {
     "name": "stderr",
     "output_type": "stream",
     "text": [
      "sbatch: Single-node jobs run on a shared node by default. Add --exclusive if you want to use a node exclusively.\n",
      "sbatch: A full node consists of 32 CPU cores, 229376 MiB of memory and 0 GPUs and can be shared by up to 32 jobs.\n",
      "sbatch: By default shared jobs get 7168 MiB of memory per CPU core, unless explicitly overridden with --mem-per-cpu, --mem-per-gpu or --mem.\n",
      "sbatch: You will be charged for 0.03125 node, based on the number of CPUs, GPUs and the amount memory that you've requested.\n"
     ]
    },
    {
     "name": "stdout",
     "output_type": "stream",
     "text": [
      "Submitted batch job 2143049\n"
     ]
    }
   ],
   "source": [
    "name_job = \"rerun\"\n",
    "run_launcher(\n",
    "    \"post_processer_1.py\",\n",
    "    [directory_targ, name_job, 10],\n",
    "    plates,\n",
    "    \"3:00:00\",\n",
    "    dependency=True,\n",
    "    name_job=name_job,\n",
    ")"
   ]
  },
  {
   "cell_type": "code",
   "execution_count": 8,
   "id": "2da38319-35b9-4a35-9eae-a3067f75e390",
   "metadata": {
    "collapsed": true,
    "jupyter": {
     "outputs_hidden": true
    },
    "tags": []
   },
   "outputs": [
    {
     "name": "stdout",
     "output_type": "stream",
     "text": [
      "/projects/0/einf914/data/Analysis_93_20220921_200_Version1/folder_info.json\n",
      "/projects/0/einf914/data/Analysis_5_20220920_200_Version1/folder_info.json\n",
      "/projects/0/einf914/data/Analysis_69_20220921_200_Version1/folder_info.json\n",
      "/projects/0/einf914/data/Analysis_26_20220921_200_Version1/folder_info.json\n",
      "/projects/0/einf914/data/Analysis_32_20220921_200_Version1/folder_info.json\n",
      "/projects/0/einf914/data/Analysis_43_20220920_200_Version1/folder_info.json\n",
      "/projects/0/einf914/data/Analysis_101_20220921_200_Version1/folder_info.json\n",
      "/projects/0/einf914/data/Analysis_42_20220920_200_Version1/folder_info.json\n",
      "/projects/0/einf914/data/Analysis_15_20220921_200_Version1/folder_info.json\n",
      "/projects/0/einf914/data/Analysis_65_20220921_200_Version1/folder_info.json\n",
      "/projects/0/einf914/data/Analysis_28_20220921_200_Version1/folder_info.json\n",
      "/projects/0/einf914/data/Analysis_39_20220920_200_Version1/folder_info.json\n",
      "/projects/0/einf914/data/Analysis_108_20220921_200_Version1/folder_info.json\n",
      "/projects/0/einf914/data/Analysis_67_20220921_200_Version1/folder_info.json\n",
      "/projects/0/einf914/data/Analysis_56_20220921_200_Version1/folder_info.json\n",
      "/projects/0/einf914/data/Analysis_12_20220920_200_Version1/folder_info.json\n",
      "/projects/0/einf914/data/Analysis_94_20220921_200_Version1/folder_info.json\n",
      "/projects/0/einf914/data/Analysis_50_20220920_200_Version1/folder_info.json\n",
      "/projects/0/einf914/data/Analysis_27_20220921_200_Version1/folder_info.json\n",
      "/projects/0/einf914/data/Analysis_59_20220921_200_Version1/folder_info.json\n",
      "/projects/0/einf914/data/Analysis_16_20220921_200_Version1/folder_info.json\n",
      "/projects/0/einf914/data/Analysis_84_20220920_200_Version1/folder_info.json\n",
      "/projects/0/einf914/data/Analysis_23_20220920_200_Version1/folder_info.json\n",
      "/projects/0/einf914/data/Analysis_71_20220921_200_Version1/folder_info.json\n",
      "/projects/0/einf914/data/Analysis_21_20220920_200_Version1/folder_info.json\n",
      "/projects/0/einf914/data/Analysis_100_20220921_200_Version1/folder_info.json\n",
      "/projects/0/einf914/data/Analysis_99_20220921_200_Version1/folder_info.json\n",
      "/projects/0/einf914/data/Analysis_79_20220920_200_Version1/folder_info.json\n",
      "/projects/0/einf914/data/Analysis_82_20220920_200_Version1/folder_info.json\n",
      "/projects/0/einf914/data/Analysis_61_20220921_200_Version1/folder_info.json\n",
      "/projects/0/einf914/data/Analysis_25_20220921_200_Version1/folder_info.json\n",
      "/projects/0/einf914/data/Analysis_31_20220921_200_Version1/folder_info.json\n",
      "/projects/0/einf914/data/Analysis_70_20220921_200_Version1/folder_info.json\n",
      "/projects/0/einf914/data/Analysis_10_20220920_200_Version1/folder_info.json\n",
      "/projects/0/einf914/data/Analysis_40_20220920_200_Version1/folder_info.json\n",
      "/projects/0/einf914/data/Analysis_74_20220920_200_Version1/folder_info.json\n",
      "/projects/0/einf914/data/Analysis_102_20220921_200_Version1/folder_info.json\n",
      "/projects/0/einf914/data/Analysis_2_20220920_200_Version1/folder_info.json\n",
      "/projects/0/einf914/data/Analysis_49_20220920_200_Version1/folder_info.json\n",
      "/projects/0/einf914/data/Analysis_104_20220921_200_Version1/folder_info.json\n",
      "/projects/0/einf914/data/Analysis_87_20220921_200_Version1/folder_info.json\n",
      "/projects/0/einf914/data/Analysis_37_20220920_200_Version1/folder_info.json\n",
      "/projects/0/einf914/data/Analysis_72_20220921_200_Version1/folder_info.json\n",
      "/projects/0/einf914/data/Analysis_78_20220920_200_Version1/folder_info.json\n",
      "/projects/0/einf914/data/Analysis_62_20220921_200_Version1/folder_info.json\n",
      "/projects/0/einf914/data/Analysis_13_20220921_200_Version1/folder_info.json\n",
      "/projects/0/einf914/data/Analysis_45_20220920_200_Version1/folder_info.json\n",
      "/projects/0/einf914/data/Analysis_81_20220920_200_Version1/folder_info.json\n",
      "/projects/0/einf914/data/Analysis_97_20220921_200_Version1/folder_info.json\n",
      "/projects/0/einf914/data/Analysis_34_20220921_200_Version1/folder_info.json\n",
      "/projects/0/einf914/data/Analysis_11_20220920_200_Version1/folder_info.json\n",
      "/projects/0/einf914/data/Analysis_75_20220920_200_Version1/folder_info.json\n",
      "/projects/0/einf914/data/Analysis_46_20220920_200_Version1/folder_info.json\n",
      "/projects/0/einf914/data/Analysis_36_20220921_200_Version1/folder_info.json\n",
      "/projects/0/einf914/data/Analysis_60_20220921_200_Version1/folder_info.json\n",
      "/projects/0/einf914/data/Analysis_30_20220921_200_Version1/folder_info.json\n",
      "/projects/0/einf914/data/Analysis_76_20220920_200_Version1/folder_info.json\n",
      "/projects/0/einf914/data/Analysis_52_20220920_200_Version1/folder_info.json\n",
      "/projects/0/einf914/data/Analysis_20_20220920_200_Version1/folder_info.json\n",
      "/projects/0/einf914/data/Analysis_105_20220921_200_Version1/folder_info.json\n",
      "/projects/0/einf914/data/Analysis_58_20220921_200_Version1/folder_info.json\n",
      "/projects/0/einf914/data/Analysis_14_20220921_200_Version1/folder_info.json\n",
      "/projects/0/einf914/data/Analysis_103_20220921_200_Version1/folder_info.json\n",
      "/projects/0/einf914/data/Analysis_86_20220921_200_Version1/folder_info.json\n",
      "/projects/0/einf914/data/Analysis_91_20220921_200_Version1/folder_info.json\n",
      "/projects/0/einf914/data/Analysis_83_20220920_200_Version1/folder_info.json\n",
      "/projects/0/einf914/data/Analysis_98_20220921_200_Version1/folder_info.json\n",
      "/projects/0/einf914/data/Analysis_8_20220920_200_Version1/folder_info.json\n",
      "/projects/0/einf914/data/Analysis_44_20220920_200_Version1/folder_info.json\n",
      "/projects/0/einf914/data/Analysis_6_20220920_200_Version1/folder_info.json\n",
      "/projects/0/einf914/data/Analysis_38_20220920_200_Version1/folder_info.json\n",
      "/projects/0/einf914/data/Analysis_4_20220920_200_Version1/folder_info.json\n",
      "/projects/0/einf914/data/Analysis_80_20220920_200_Version1/folder_info.json\n",
      "/projects/0/einf914/data/Analysis_73_20220920_200_Version1/folder_info.json\n",
      "/projects/0/einf914/data/Analysis_96_20220921_200_Version1/folder_info.json\n",
      "/projects/0/einf914/data/Analysis_33_20220921_200_Version1/folder_info.json\n",
      "/projects/0/einf914/data/Analysis_48_20220920_200_Version1/folder_info.json\n",
      "/projects/0/einf914/data/Analysis_66_20220921_200_Version1/folder_info.json\n",
      "/projects/0/einf914/data/Analysis_29_20220921_200_Version1/folder_info.json\n",
      "/projects/0/einf914/data/Analysis_107_20220921_200_Version1/folder_info.json\n",
      "/projects/0/einf914/data/Analysis_55_20220921_200_Version1/folder_info.json\n",
      "/projects/0/einf914/data/Analysis_35_20220921_200_Version1/folder_info.json\n",
      "/projects/0/einf914/data/Analysis_92_20220921_200_Version1/folder_info.json\n",
      "/projects/0/einf914/data/Analysis_18_20220921_200_Version1/folder_info.json\n",
      "/projects/0/einf914/data/Analysis_68_20220921_200_Version1/folder_info.json\n",
      "/projects/0/einf914/data/Analysis_63_20220921_200_Version1/folder_info.json\n",
      "/projects/0/einf914/data/Analysis_57_20220921_200_Version1/folder_info.json\n",
      "/projects/0/einf914/data/Analysis_24_20220920_200_Version1/folder_info.json\n",
      "/projects/0/einf914/data/Analysis_47_20220920_200_Version1/folder_info.json\n",
      "/projects/0/einf914/data/Analysis_22_20220920_200_Version1/folder_info.json\n",
      "/projects/0/einf914/data/Analysis_51_20220920_200_Version1/folder_info.json\n",
      "/projects/0/einf914/data/Analysis_54_20220920_200_Version1/folder_info.json\n",
      "/projects/0/einf914/data/Analysis_95_20220921_200_Version1/folder_info.json\n",
      "/projects/0/einf914/data/Analysis_64_20220921_200_Version1/folder_info.json\n",
      "/projects/0/einf914/data/Analysis_106_20220921_200_Version1/folder_info.json\n",
      "/projects/0/einf914/data/Analysis_41_20220920_200_Version1/folder_info.json\n",
      "/projects/0/einf914/data/Analysis_85_20220921_200_Version1/folder_info.json\n",
      "/projects/0/einf914/data/Analysis_90_20220921_200_Version1/folder_info.json\n",
      "/projects/0/einf914/data/Analysis_9_20220920_200_Version1/folder_info.json\n",
      "/projects/0/einf914/data/Analysis_77_20220920_200_Version1/folder_info.json\n",
      "/projects/0/einf914/data/Analysis_19_20220920_200_Version1/folder_info.json\n",
      "/projects/0/einf914/data/Analysis_17_20220921_200_Version1/folder_info.json\n",
      "/projects/0/einf914/data/Analysis_3_20220920_200_Version1/folder_info.json\n",
      "/projects/0/einf914/data/Analysis_53_20220920_200_Version1/folder_info.json\n",
      "/projects/0/einf914/data/Analysis_7_20220920_200_Version1/folder_info.json\n",
      "/projects/0/einf914/data/Analysis_88_20220921_200_Version1/folder_info.json\n",
      "/projects/0/einf914/data/Analysis_1_20220920_200_Version1/folder_info.json\n",
      "DATA/PRINCE\n",
      "2022-11-30 10:57:17,420-[INFO]- dropbox:390 -> Refreshing access token.\n",
      "2022-11-30 10:57:17,709-[INFO]- dropbox:474 -> Request to files/upload\n",
      "2022-11-30 10:57:19,342-[INFO]- dropbox:390 -> Refreshing access token.\n",
      "2022-11-30 10:57:19,624-[INFO]- dropbox:474 -> Request to files/upload\n",
      "2022-11-30 10:57:20,587-[INFO]- dropbox:390 -> Refreshing access token.\n",
      "2022-11-30 10:57:20,852-[INFO]- dropbox:474 -> Request to files/upload\n",
      "2022-11-30 10:57:21,752-[INFO]- dropbox:390 -> Refreshing access token.\n",
      "2022-11-30 10:57:21,977-[INFO]- dropbox:474 -> Request to files/upload\n",
      "DATA/PRINCE\n",
      "2022-11-30 10:57:22,882-[INFO]- dropbox:390 -> Refreshing access token.\n",
      "2022-11-30 10:57:23,105-[INFO]- dropbox:474 -> Request to files/upload\n",
      "2022-11-30 10:57:24,569-[INFO]- dropbox:390 -> Refreshing access token.\n",
      "2022-11-30 10:57:24,787-[INFO]- dropbox:474 -> Request to files/upload\n",
      "2022-11-30 10:57:26,325-[INFO]- dropbox:390 -> Refreshing access token.\n",
      "2022-11-30 10:57:26,582-[INFO]- dropbox:474 -> Request to files/upload\n",
      "2022-11-30 10:57:28,111-[INFO]- dropbox:390 -> Refreshing access token.\n",
      "2022-11-30 10:57:28,361-[INFO]- dropbox:474 -> Request to files/upload\n",
      "DATA/PRINCE\n",
      "2022-11-30 10:57:29,270-[INFO]- dropbox:390 -> Refreshing access token.\n",
      "2022-11-30 10:57:29,495-[INFO]- dropbox:474 -> Request to files/upload\n",
      "2022-11-30 10:57:31,036-[INFO]- dropbox:390 -> Refreshing access token.\n",
      "2022-11-30 10:57:31,271-[INFO]- dropbox:474 -> Request to files/upload\n",
      "2022-11-30 10:57:32,205-[INFO]- dropbox:390 -> Refreshing access token.\n",
      "2022-11-30 10:57:32,433-[INFO]- dropbox:474 -> Request to files/upload\n",
      "2022-11-30 10:57:33,228-[INFO]- dropbox:390 -> Refreshing access token.\n",
      "2022-11-30 10:57:33,450-[INFO]- dropbox:474 -> Request to files/upload\n",
      "DATA/PRINCE\n",
      "2022-11-30 10:57:34,616-[INFO]- dropbox:390 -> Refreshing access token.\n",
      "2022-11-30 10:57:34,856-[INFO]- dropbox:474 -> Request to files/upload\n",
      "2022-11-30 10:57:36,127-[INFO]- dropbox:390 -> Refreshing access token.\n",
      "2022-11-30 10:57:36,366-[INFO]- dropbox:474 -> Request to files/upload\n",
      "2022-11-30 10:57:37,426-[INFO]- dropbox:390 -> Refreshing access token.\n",
      "2022-11-30 10:57:37,670-[INFO]- dropbox:474 -> Request to files/upload\n",
      "2022-11-30 10:57:38,729-[INFO]- dropbox:390 -> Refreshing access token.\n",
      "2022-11-30 10:57:42,304-[INFO]- dropbox:474 -> Request to files/upload\n",
      "DATA/PRINCE\n",
      "2022-11-30 10:57:43,348-[INFO]- dropbox:390 -> Refreshing access token.\n",
      "2022-11-30 10:57:43,578-[INFO]- dropbox:474 -> Request to files/upload\n",
      "2022-11-30 10:57:44,963-[INFO]- dropbox:390 -> Refreshing access token.\n",
      "2022-11-30 10:57:45,193-[INFO]- dropbox:474 -> Request to files/upload\n",
      "2022-11-30 10:57:46,517-[INFO]- dropbox:390 -> Refreshing access token.\n",
      "2022-11-30 10:57:46,772-[INFO]- dropbox:474 -> Request to files/upload\n",
      "2022-11-30 10:57:48,136-[INFO]- dropbox:390 -> Refreshing access token.\n",
      "2022-11-30 10:57:48,358-[INFO]- dropbox:474 -> Request to files/upload\n",
      "DATA/PRINCE\n",
      "2022-11-30 10:57:49,283-[INFO]- dropbox:390 -> Refreshing access token.\n",
      "2022-11-30 10:57:49,522-[INFO]- dropbox:474 -> Request to files/upload\n",
      "2022-11-30 10:57:51,090-[INFO]- dropbox:390 -> Refreshing access token.\n",
      "2022-11-30 10:57:51,325-[INFO]- dropbox:474 -> Request to files/upload\n",
      "2022-11-30 10:57:52,251-[INFO]- dropbox:390 -> Refreshing access token.\n",
      "2022-11-30 10:57:52,474-[INFO]- dropbox:474 -> Request to files/upload\n",
      "2022-11-30 10:57:53,404-[INFO]- dropbox:390 -> Refreshing access token.\n",
      "2022-11-30 10:57:53,628-[INFO]- dropbox:474 -> Request to files/upload\n",
      "DATA/PRINCE\n",
      "2022-11-30 10:57:54,651-[INFO]- dropbox:390 -> Refreshing access token.\n",
      "2022-11-30 10:57:54,893-[INFO]- dropbox:474 -> Request to files/upload\n",
      "2022-11-30 10:57:56,635-[INFO]- dropbox:390 -> Refreshing access token.\n",
      "2022-11-30 10:57:56,896-[INFO]- dropbox:474 -> Request to files/upload\n",
      "2022-11-30 10:57:57,765-[INFO]- dropbox:390 -> Refreshing access token.\n",
      "2022-11-30 10:57:58,001-[INFO]- dropbox:474 -> Request to files/upload\n",
      "2022-11-30 10:57:59,037-[INFO]- dropbox:390 -> Refreshing access token.\n",
      "2022-11-30 10:57:59,268-[INFO]- dropbox:474 -> Request to files/upload\n",
      "DATA/PRINCE\n",
      "2022-11-30 10:58:00,153-[INFO]- dropbox:390 -> Refreshing access token.\n",
      "2022-11-30 10:58:00,406-[INFO]- dropbox:474 -> Request to files/upload\n",
      "2022-11-30 10:58:02,043-[INFO]- dropbox:390 -> Refreshing access token.\n",
      "2022-11-30 10:58:02,283-[INFO]- dropbox:474 -> Request to files/upload\n",
      "2022-11-30 10:58:03,299-[INFO]- dropbox:390 -> Refreshing access token.\n",
      "2022-11-30 10:58:03,531-[INFO]- dropbox:474 -> Request to files/upload\n",
      "2022-11-30 10:58:04,607-[INFO]- dropbox:390 -> Refreshing access token.\n",
      "2022-11-30 10:58:04,859-[INFO]- dropbox:474 -> Request to files/upload\n",
      "DATA/PRINCE\n",
      "2022-11-30 10:58:05,935-[INFO]- dropbox:390 -> Refreshing access token.\n",
      "2022-11-30 10:58:06,161-[INFO]- dropbox:474 -> Request to files/upload\n",
      "2022-11-30 10:58:07,523-[INFO]- dropbox:390 -> Refreshing access token.\n",
      "2022-11-30 10:58:07,770-[INFO]- dropbox:474 -> Request to files/upload\n",
      "2022-11-30 10:58:08,694-[INFO]- dropbox:390 -> Refreshing access token.\n",
      "2022-11-30 10:58:08,932-[INFO]- dropbox:474 -> Request to files/upload\n",
      "2022-11-30 10:58:09,833-[INFO]- dropbox:390 -> Refreshing access token.\n",
      "2022-11-30 10:58:10,066-[INFO]- dropbox:474 -> Request to files/upload\n",
      "DATA/PRINCE\n",
      "2022-11-30 10:58:11,214-[INFO]- dropbox:390 -> Refreshing access token.\n",
      "2022-11-30 10:58:11,444-[INFO]- dropbox:474 -> Request to files/upload\n",
      "2022-11-30 10:58:12,673-[INFO]- dropbox:390 -> Refreshing access token.\n",
      "2022-11-30 10:58:12,917-[INFO]- dropbox:474 -> Request to files/upload\n",
      "2022-11-30 10:58:14,082-[INFO]- dropbox:390 -> Refreshing access token.\n",
      "2022-11-30 10:58:14,385-[INFO]- dropbox:474 -> Request to files/upload\n",
      "2022-11-30 10:58:15,317-[INFO]- dropbox:390 -> Refreshing access token.\n",
      "2022-11-30 10:58:15,544-[INFO]- dropbox:474 -> Request to files/upload\n",
      "DATA/PRINCE\n",
      "2022-11-30 10:58:16,560-[INFO]- dropbox:390 -> Refreshing access token.\n",
      "2022-11-30 10:58:16,804-[INFO]- dropbox:474 -> Request to files/upload\n",
      "2022-11-30 10:58:18,219-[INFO]- dropbox:390 -> Refreshing access token.\n",
      "2022-11-30 10:58:18,458-[INFO]- dropbox:474 -> Request to files/upload\n",
      "2022-11-30 10:58:19,350-[INFO]- dropbox:390 -> Refreshing access token.\n",
      "2022-11-30 10:58:19,589-[INFO]- dropbox:474 -> Request to files/upload\n",
      "2022-11-30 10:58:20,552-[INFO]- dropbox:390 -> Refreshing access token.\n",
      "2022-11-30 10:58:20,782-[INFO]- dropbox:474 -> Request to files/upload\n",
      "DATA/PRINCE\n",
      "2022-11-30 10:58:21,770-[INFO]- dropbox:390 -> Refreshing access token.\n",
      "2022-11-30 10:58:22,021-[INFO]- dropbox:474 -> Request to files/upload\n",
      "2022-11-30 10:58:23,434-[INFO]- dropbox:390 -> Refreshing access token.\n",
      "2022-11-30 10:58:23,656-[INFO]- dropbox:474 -> Request to files/upload\n",
      "2022-11-30 10:58:24,589-[INFO]- dropbox:390 -> Refreshing access token.\n",
      "2022-11-30 10:58:24,823-[INFO]- dropbox:474 -> Request to files/upload\n",
      "2022-11-30 10:58:25,871-[INFO]- dropbox:390 -> Refreshing access token.\n",
      "2022-11-30 10:58:26,107-[INFO]- dropbox:474 -> Request to files/upload\n",
      "DATA/PRINCE\n",
      "2022-11-30 10:58:27,066-[INFO]- dropbox:390 -> Refreshing access token.\n",
      "2022-11-30 10:58:27,289-[INFO]- dropbox:474 -> Request to files/upload\n",
      "2022-11-30 10:58:28,566-[INFO]- dropbox:390 -> Refreshing access token.\n",
      "2022-11-30 10:58:28,794-[INFO]- dropbox:474 -> Request to files/upload\n",
      "2022-11-30 10:58:30,203-[INFO]- dropbox:390 -> Refreshing access token.\n",
      "2022-11-30 10:58:30,435-[INFO]- dropbox:474 -> Request to files/upload\n",
      "2022-11-30 10:58:31,493-[INFO]- dropbox:390 -> Refreshing access token.\n",
      "2022-11-30 10:58:31,723-[INFO]- dropbox:474 -> Request to files/upload\n",
      "DATA/PRINCE\n",
      "2022-11-30 10:58:32,713-[INFO]- dropbox:390 -> Refreshing access token.\n",
      "2022-11-30 10:58:32,957-[INFO]- dropbox:474 -> Request to files/upload\n",
      "2022-11-30 10:58:33,958-[INFO]- dropbox:390 -> Refreshing access token.\n",
      "2022-11-30 10:58:34,189-[INFO]- dropbox:474 -> Request to files/upload\n",
      "2022-11-30 10:58:35,820-[INFO]- dropbox:390 -> Refreshing access token.\n",
      "2022-11-30 10:58:36,068-[INFO]- dropbox:474 -> Request to files/upload\n",
      "2022-11-30 10:58:37,131-[INFO]- dropbox:390 -> Refreshing access token.\n",
      "2022-11-30 10:58:37,365-[INFO]- dropbox:474 -> Request to files/upload\n",
      "DATA/PRINCE\n",
      "2022-11-30 10:58:38,300-[INFO]- dropbox:390 -> Refreshing access token.\n",
      "2022-11-30 10:58:38,520-[INFO]- dropbox:474 -> Request to files/upload\n",
      "2022-11-30 10:58:39,977-[INFO]- dropbox:390 -> Refreshing access token.\n",
      "2022-11-30 10:58:40,198-[INFO]- dropbox:474 -> Request to files/upload\n",
      "2022-11-30 10:58:41,333-[INFO]- dropbox:390 -> Refreshing access token.\n",
      "2022-11-30 10:58:41,564-[INFO]- dropbox:474 -> Request to files/upload\n",
      "2022-11-30 10:58:42,487-[INFO]- dropbox:390 -> Refreshing access token.\n",
      "2022-11-30 10:58:42,706-[INFO]- dropbox:474 -> Request to files/upload\n",
      "DATA/PRINCE\n",
      "2022-11-30 10:58:43,595-[INFO]- dropbox:390 -> Refreshing access token.\n",
      "2022-11-30 10:58:43,834-[INFO]- dropbox:474 -> Request to files/upload\n",
      "2022-11-30 10:58:45,438-[INFO]- dropbox:390 -> Refreshing access token.\n",
      "2022-11-30 10:58:45,671-[INFO]- dropbox:474 -> Request to files/upload\n",
      "2022-11-30 10:58:46,484-[INFO]- dropbox:390 -> Refreshing access token.\n",
      "2022-11-30 10:58:46,722-[INFO]- dropbox:474 -> Request to files/upload\n",
      "2022-11-30 10:58:47,927-[INFO]- dropbox:390 -> Refreshing access token.\n",
      "2022-11-30 10:58:48,162-[INFO]- dropbox:474 -> Request to files/upload\n",
      "DATA/PRINCE\n",
      "2022-11-30 10:58:49,328-[INFO]- dropbox:390 -> Refreshing access token.\n",
      "2022-11-30 10:58:49,556-[INFO]- dropbox:474 -> Request to files/upload\n",
      "2022-11-30 10:58:51,225-[INFO]- dropbox:390 -> Refreshing access token.\n",
      "2022-11-30 10:58:51,477-[INFO]- dropbox:474 -> Request to files/upload\n",
      "2022-11-30 10:58:52,386-[INFO]- dropbox:390 -> Refreshing access token.\n",
      "2022-11-30 10:58:52,647-[INFO]- dropbox:474 -> Request to files/upload\n",
      "2022-11-30 10:58:53,764-[INFO]- dropbox:390 -> Refreshing access token.\n",
      "2022-11-30 10:58:53,995-[INFO]- dropbox:474 -> Request to files/upload\n",
      "DATA/PRINCE\n",
      "2022-11-30 10:58:54,994-[INFO]- dropbox:390 -> Refreshing access token.\n",
      "2022-11-30 10:58:55,222-[INFO]- dropbox:474 -> Request to files/upload\n",
      "2022-11-30 10:58:56,699-[INFO]- dropbox:390 -> Refreshing access token.\n",
      "2022-11-30 10:58:56,934-[INFO]- dropbox:474 -> Request to files/upload\n",
      "2022-11-30 10:58:57,949-[INFO]- dropbox:390 -> Refreshing access token.\n",
      "2022-11-30 10:58:58,172-[INFO]- dropbox:474 -> Request to files/upload\n",
      "2022-11-30 10:58:59,178-[INFO]- dropbox:390 -> Refreshing access token.\n",
      "2022-11-30 10:58:59,402-[INFO]- dropbox:474 -> Request to files/upload\n",
      "DATA/PRINCE\n",
      "2022-11-30 10:59:00,426-[INFO]- dropbox:390 -> Refreshing access token.\n",
      "2022-11-30 10:59:00,664-[INFO]- dropbox:474 -> Request to files/upload\n",
      "2022-11-30 10:59:02,200-[INFO]- dropbox:390 -> Refreshing access token.\n",
      "2022-11-30 10:59:02,433-[INFO]- dropbox:474 -> Request to files/upload\n",
      "2022-11-30 10:59:03,316-[INFO]- dropbox:390 -> Refreshing access token.\n",
      "2022-11-30 10:59:03,586-[INFO]- dropbox:474 -> Request to files/upload\n",
      "2022-11-30 10:59:04,499-[INFO]- dropbox:390 -> Refreshing access token.\n",
      "2022-11-30 10:59:04,725-[INFO]- dropbox:474 -> Request to files/upload\n",
      "DATA/PRINCE\n",
      "2022-11-30 10:59:05,568-[INFO]- dropbox:390 -> Refreshing access token.\n",
      "2022-11-30 10:59:05,791-[INFO]- dropbox:474 -> Request to files/upload\n",
      "2022-11-30 10:59:07,426-[INFO]- dropbox:390 -> Refreshing access token.\n",
      "2022-11-30 10:59:07,655-[INFO]- dropbox:474 -> Request to files/upload\n",
      "2022-11-30 10:59:08,553-[INFO]- dropbox:390 -> Refreshing access token.\n",
      "2022-11-30 10:59:08,783-[INFO]- dropbox:474 -> Request to files/upload\n",
      "2022-11-30 10:59:09,883-[INFO]- dropbox:390 -> Refreshing access token.\n",
      "2022-11-30 10:59:10,205-[INFO]- dropbox:474 -> Request to files/upload\n",
      "DATA/PRINCE\n",
      "2022-11-30 10:59:11,192-[INFO]- dropbox:390 -> Refreshing access token.\n",
      "2022-11-30 10:59:11,428-[INFO]- dropbox:474 -> Request to files/upload\n",
      "2022-11-30 10:59:13,161-[INFO]- dropbox:390 -> Refreshing access token.\n",
      "2022-11-30 10:59:13,399-[INFO]- dropbox:474 -> Request to files/upload\n",
      "2022-11-30 10:59:14,599-[INFO]- dropbox:390 -> Refreshing access token.\n",
      "2022-11-30 10:59:14,826-[INFO]- dropbox:474 -> Request to files/upload\n",
      "2022-11-30 10:59:15,851-[INFO]- dropbox:390 -> Refreshing access token.\n",
      "2022-11-30 10:59:16,088-[INFO]- dropbox:474 -> Request to files/upload\n",
      "DATA/PRINCE\n",
      "2022-11-30 10:59:17,007-[INFO]- dropbox:390 -> Refreshing access token.\n",
      "2022-11-30 10:59:17,248-[INFO]- dropbox:474 -> Request to files/upload\n",
      "2022-11-30 10:59:18,541-[INFO]- dropbox:390 -> Refreshing access token.\n",
      "2022-11-30 10:59:18,763-[INFO]- dropbox:474 -> Request to files/upload\n",
      "2022-11-30 10:59:19,881-[INFO]- dropbox:390 -> Refreshing access token.\n",
      "2022-11-30 10:59:20,105-[INFO]- dropbox:474 -> Request to files/upload\n",
      "2022-11-30 10:59:21,017-[INFO]- dropbox:390 -> Refreshing access token.\n",
      "2022-11-30 10:59:21,270-[INFO]- dropbox:474 -> Request to files/upload\n",
      "DATA/PRINCE\n",
      "2022-11-30 10:59:22,445-[INFO]- dropbox:390 -> Refreshing access token.\n",
      "2022-11-30 10:59:22,664-[INFO]- dropbox:474 -> Request to files/upload\n",
      "2022-11-30 10:59:23,933-[INFO]- dropbox:390 -> Refreshing access token.\n",
      "2022-11-30 10:59:24,149-[INFO]- dropbox:474 -> Request to files/upload\n",
      "2022-11-30 10:59:25,083-[INFO]- dropbox:390 -> Refreshing access token.\n",
      "2022-11-30 10:59:25,315-[INFO]- dropbox:474 -> Request to files/upload\n",
      "2022-11-30 10:59:26,493-[INFO]- dropbox:390 -> Refreshing access token.\n",
      "2022-11-30 10:59:26,748-[INFO]- dropbox:474 -> Request to files/upload\n",
      "DATA/PRINCE\n",
      "2022-11-30 10:59:27,629-[INFO]- dropbox:390 -> Refreshing access token.\n",
      "2022-11-30 10:59:27,853-[INFO]- dropbox:474 -> Request to files/upload\n",
      "2022-11-30 10:59:29,120-[INFO]- dropbox:390 -> Refreshing access token.\n",
      "2022-11-30 10:59:29,335-[INFO]- dropbox:474 -> Request to files/upload\n",
      "2022-11-30 10:59:30,518-[INFO]- dropbox:390 -> Refreshing access token.\n",
      "2022-11-30 10:59:30,746-[INFO]- dropbox:474 -> Request to files/upload\n",
      "2022-11-30 10:59:31,823-[INFO]- dropbox:390 -> Refreshing access token.\n",
      "2022-11-30 10:59:32,059-[INFO]- dropbox:474 -> Request to files/upload\n",
      "DATA/PRINCE\n",
      "2022-11-30 10:59:33,103-[INFO]- dropbox:390 -> Refreshing access token.\n",
      "2022-11-30 10:59:33,319-[INFO]- dropbox:474 -> Request to files/upload\n",
      "2022-11-30 10:59:34,829-[INFO]- dropbox:390 -> Refreshing access token.\n",
      "2022-11-30 10:59:35,055-[INFO]- dropbox:474 -> Request to files/upload\n",
      "2022-11-30 10:59:35,961-[INFO]- dropbox:390 -> Refreshing access token.\n",
      "2022-11-30 10:59:36,195-[INFO]- dropbox:474 -> Request to files/upload\n",
      "2022-11-30 10:59:37,081-[INFO]- dropbox:390 -> Refreshing access token.\n",
      "2022-11-30 10:59:37,316-[INFO]- dropbox:474 -> Request to files/upload\n",
      "DATA/PRINCE\n",
      "2022-11-30 10:59:38,307-[INFO]- dropbox:390 -> Refreshing access token.\n",
      "2022-11-30 10:59:38,537-[INFO]- dropbox:474 -> Request to files/upload\n",
      "2022-11-30 10:59:39,887-[INFO]- dropbox:390 -> Refreshing access token.\n",
      "2022-11-30 10:59:40,136-[INFO]- dropbox:474 -> Request to files/upload\n",
      "2022-11-30 10:59:40,994-[INFO]- dropbox:390 -> Refreshing access token.\n",
      "2022-11-30 10:59:41,225-[INFO]- dropbox:474 -> Request to files/upload\n",
      "2022-11-30 10:59:42,182-[INFO]- dropbox:390 -> Refreshing access token.\n",
      "2022-11-30 10:59:42,408-[INFO]- dropbox:474 -> Request to files/upload\n",
      "DATA/PRINCE\n",
      "2022-11-30 10:59:43,239-[INFO]- dropbox:390 -> Refreshing access token.\n",
      "2022-11-30 10:59:43,482-[INFO]- dropbox:474 -> Request to files/upload\n",
      "2022-11-30 10:59:45,817-[INFO]- dropbox:390 -> Refreshing access token.\n",
      "2022-11-30 10:59:46,055-[INFO]- dropbox:474 -> Request to files/upload\n",
      "2022-11-30 10:59:47,114-[INFO]- dropbox:390 -> Refreshing access token.\n",
      "2022-11-30 10:59:47,342-[INFO]- dropbox:474 -> Request to files/upload\n",
      "2022-11-30 10:59:48,455-[INFO]- dropbox:390 -> Refreshing access token.\n",
      "2022-11-30 10:59:48,684-[INFO]- dropbox:474 -> Request to files/upload\n",
      "DATA/PRINCE\n",
      "2022-11-30 10:59:49,756-[INFO]- dropbox:390 -> Refreshing access token.\n",
      "2022-11-30 10:59:50,025-[INFO]- dropbox:474 -> Request to files/upload\n",
      "2022-11-30 10:59:51,594-[INFO]- dropbox:390 -> Refreshing access token.\n",
      "2022-11-30 10:59:51,817-[INFO]- dropbox:474 -> Request to files/upload\n",
      "2022-11-30 10:59:52,856-[INFO]- dropbox:390 -> Refreshing access token.\n",
      "2022-11-30 10:59:53,087-[INFO]- dropbox:474 -> Request to files/upload\n",
      "2022-11-30 10:59:54,118-[INFO]- dropbox:390 -> Refreshing access token.\n",
      "2022-11-30 10:59:54,344-[INFO]- dropbox:474 -> Request to files/upload\n",
      "DATA/PRINCE\n",
      "2022-11-30 10:59:55,470-[INFO]- dropbox:390 -> Refreshing access token.\n",
      "2022-11-30 10:59:55,715-[INFO]- dropbox:474 -> Request to files/upload\n",
      "2022-11-30 10:59:57,911-[INFO]- dropbox:390 -> Refreshing access token.\n",
      "2022-11-30 10:59:58,179-[INFO]- dropbox:474 -> Request to files/upload\n",
      "2022-11-30 10:59:59,320-[INFO]- dropbox:390 -> Refreshing access token.\n",
      "2022-11-30 10:59:59,550-[INFO]- dropbox:474 -> Request to files/upload\n",
      "2022-11-30 11:00:00,523-[INFO]- dropbox:390 -> Refreshing access token.\n",
      "2022-11-30 11:00:00,753-[INFO]- dropbox:474 -> Request to files/upload\n",
      "DATA/PRINCE\n",
      "2022-11-30 11:00:01,787-[INFO]- dropbox:390 -> Refreshing access token.\n",
      "2022-11-30 11:00:02,023-[INFO]- dropbox:474 -> Request to files/upload\n",
      "2022-11-30 11:00:03,490-[INFO]- dropbox:390 -> Refreshing access token.\n",
      "2022-11-30 11:00:03,723-[INFO]- dropbox:474 -> Request to files/upload\n",
      "2022-11-30 11:00:04,763-[INFO]- dropbox:390 -> Refreshing access token.\n",
      "2022-11-30 11:00:04,987-[INFO]- dropbox:474 -> Request to files/upload\n",
      "2022-11-30 11:00:05,866-[INFO]- dropbox:390 -> Refreshing access token.\n",
      "2022-11-30 11:00:06,117-[INFO]- dropbox:474 -> Request to files/upload\n",
      "DATA/PRINCE\n",
      "2022-11-30 11:00:07,669-[INFO]- dropbox:390 -> Refreshing access token.\n",
      "2022-11-30 11:00:07,896-[INFO]- dropbox:474 -> Request to files/upload\n",
      "2022-11-30 11:00:09,348-[INFO]- dropbox:390 -> Refreshing access token.\n",
      "2022-11-30 11:00:09,568-[INFO]- dropbox:474 -> Request to files/upload\n",
      "2022-11-30 11:00:10,381-[INFO]- dropbox:390 -> Refreshing access token.\n",
      "2022-11-30 11:00:10,667-[INFO]- dropbox:474 -> Request to files/upload\n",
      "2022-11-30 11:00:11,639-[INFO]- dropbox:390 -> Refreshing access token.\n",
      "2022-11-30 11:00:11,860-[INFO]- dropbox:474 -> Request to files/upload\n",
      "DATA/PRINCE\n",
      "2022-11-30 11:00:12,843-[INFO]- dropbox:390 -> Refreshing access token.\n",
      "2022-11-30 11:00:13,096-[INFO]- dropbox:474 -> Request to files/upload\n",
      "2022-11-30 11:00:14,318-[INFO]- dropbox:390 -> Refreshing access token.\n",
      "2022-11-30 11:00:14,552-[INFO]- dropbox:474 -> Request to files/upload\n",
      "2022-11-30 11:00:15,686-[INFO]- dropbox:390 -> Refreshing access token.\n",
      "2022-11-30 11:00:15,915-[INFO]- dropbox:474 -> Request to files/upload\n",
      "2022-11-30 11:00:17,029-[INFO]- dropbox:390 -> Refreshing access token.\n",
      "2022-11-30 11:00:17,254-[INFO]- dropbox:474 -> Request to files/upload\n",
      "DATA/PRINCE\n",
      "2022-11-30 11:00:18,113-[INFO]- dropbox:390 -> Refreshing access token.\n",
      "2022-11-30 11:00:18,337-[INFO]- dropbox:474 -> Request to files/upload\n",
      "2022-11-30 11:00:20,089-[INFO]- dropbox:390 -> Refreshing access token.\n",
      "2022-11-30 11:00:20,324-[INFO]- dropbox:474 -> Request to files/upload\n",
      "2022-11-30 11:00:21,706-[INFO]- dropbox:390 -> Refreshing access token.\n",
      "2022-11-30 11:00:21,946-[INFO]- dropbox:474 -> Request to files/upload\n",
      "2022-11-30 11:00:23,199-[INFO]- dropbox:390 -> Refreshing access token.\n",
      "2022-11-30 11:00:23,469-[INFO]- dropbox:474 -> Request to files/upload\n",
      "DATA/PRINCE\n",
      "2022-11-30 11:00:24,805-[INFO]- dropbox:390 -> Refreshing access token.\n",
      "2022-11-30 11:00:25,027-[INFO]- dropbox:474 -> Request to files/upload\n",
      "2022-11-30 11:00:26,352-[INFO]- dropbox:390 -> Refreshing access token.\n",
      "2022-11-30 11:00:26,588-[INFO]- dropbox:474 -> Request to files/upload\n",
      "2022-11-30 11:00:27,750-[INFO]- dropbox:390 -> Refreshing access token.\n",
      "2022-11-30 11:00:27,986-[INFO]- dropbox:474 -> Request to files/upload\n",
      "2022-11-30 11:00:29,017-[INFO]- dropbox:390 -> Refreshing access token.\n",
      "2022-11-30 11:00:29,259-[INFO]- dropbox:474 -> Request to files/upload\n",
      "DATA/PRINCE\n",
      "2022-11-30 11:00:30,383-[INFO]- dropbox:390 -> Refreshing access token.\n",
      "2022-11-30 11:00:30,612-[INFO]- dropbox:474 -> Request to files/upload\n",
      "2022-11-30 11:00:32,266-[INFO]- dropbox:390 -> Refreshing access token.\n",
      "2022-11-30 11:00:32,496-[INFO]- dropbox:474 -> Request to files/upload\n",
      "2022-11-30 11:00:33,545-[INFO]- dropbox:390 -> Refreshing access token.\n",
      "2022-11-30 11:00:33,771-[INFO]- dropbox:474 -> Request to files/upload\n",
      "2022-11-30 11:00:35,651-[INFO]- dropbox:390 -> Refreshing access token.\n",
      "2022-11-30 11:00:35,903-[INFO]- dropbox:474 -> Request to files/upload\n",
      "DATA/PRINCE\n",
      "2022-11-30 11:00:37,045-[INFO]- dropbox:390 -> Refreshing access token.\n",
      "2022-11-30 11:00:37,274-[INFO]- dropbox:474 -> Request to files/upload\n",
      "2022-11-30 11:00:39,207-[INFO]- dropbox:390 -> Refreshing access token.\n",
      "2022-11-30 11:00:39,433-[INFO]- dropbox:474 -> Request to files/upload\n",
      "2022-11-30 11:00:40,487-[INFO]- dropbox:390 -> Refreshing access token.\n",
      "2022-11-30 11:00:40,720-[INFO]- dropbox:474 -> Request to files/upload\n",
      "2022-11-30 11:00:42,093-[INFO]- dropbox:390 -> Refreshing access token.\n",
      "2022-11-30 11:00:42,319-[INFO]- dropbox:474 -> Request to files/upload\n",
      "DATA/PRINCE\n",
      "2022-11-30 11:00:43,213-[INFO]- dropbox:390 -> Refreshing access token.\n",
      "2022-11-30 11:00:43,461-[INFO]- dropbox:474 -> Request to files/upload\n",
      "2022-11-30 11:00:44,826-[INFO]- dropbox:390 -> Refreshing access token.\n",
      "2022-11-30 11:00:45,072-[INFO]- dropbox:474 -> Request to files/upload\n",
      "2022-11-30 11:00:45,949-[INFO]- dropbox:390 -> Refreshing access token.\n",
      "2022-11-30 11:00:46,180-[INFO]- dropbox:474 -> Request to files/upload\n",
      "2022-11-30 11:00:47,300-[INFO]- dropbox:390 -> Refreshing access token.\n",
      "2022-11-30 11:00:47,535-[INFO]- dropbox:474 -> Request to files/upload\n",
      "DATA/PRINCE\n",
      "2022-11-30 11:00:49,238-[INFO]- dropbox:390 -> Refreshing access token.\n",
      "2022-11-30 11:00:49,462-[INFO]- dropbox:474 -> Request to files/upload\n",
      "2022-11-30 11:00:50,910-[INFO]- dropbox:390 -> Refreshing access token.\n",
      "2022-11-30 11:00:51,162-[INFO]- dropbox:474 -> Request to files/upload\n",
      "2022-11-30 11:00:52,100-[INFO]- dropbox:390 -> Refreshing access token.\n",
      "2022-11-30 11:00:52,340-[INFO]- dropbox:474 -> Request to files/upload\n",
      "2022-11-30 11:00:53,302-[INFO]- dropbox:390 -> Refreshing access token.\n",
      "2022-11-30 11:00:53,535-[INFO]- dropbox:474 -> Request to files/upload\n",
      "DATA/PRINCE\n",
      "2022-11-30 11:00:54,580-[INFO]- dropbox:390 -> Refreshing access token.\n",
      "2022-11-30 11:00:54,843-[INFO]- dropbox:474 -> Request to files/upload\n",
      "2022-11-30 11:00:56,212-[INFO]- dropbox:390 -> Refreshing access token.\n",
      "2022-11-30 11:00:56,448-[INFO]- dropbox:474 -> Request to files/upload\n",
      "2022-11-30 11:00:57,256-[INFO]- dropbox:390 -> Refreshing access token.\n",
      "2022-11-30 11:00:57,484-[INFO]- dropbox:474 -> Request to files/upload\n",
      "2022-11-30 11:00:59,420-[INFO]- dropbox:390 -> Refreshing access token.\n",
      "2022-11-30 11:00:59,647-[INFO]- dropbox:474 -> Request to files/upload\n",
      "DATA/PRINCE\n",
      "2022-11-30 11:01:00,496-[INFO]- dropbox:390 -> Refreshing access token.\n",
      "2022-11-30 11:01:00,736-[INFO]- dropbox:474 -> Request to files/upload\n",
      "2022-11-30 11:01:02,227-[INFO]- dropbox:390 -> Refreshing access token.\n",
      "2022-11-30 11:01:02,763-[INFO]- dropbox:474 -> Request to files/upload\n",
      "2022-11-30 11:01:03,910-[INFO]- dropbox:390 -> Refreshing access token.\n",
      "2022-11-30 11:01:04,145-[INFO]- dropbox:474 -> Request to files/upload\n",
      "2022-11-30 11:01:05,234-[INFO]- dropbox:390 -> Refreshing access token.\n",
      "2022-11-30 11:01:05,471-[INFO]- dropbox:474 -> Request to files/upload\n",
      "DATA/PRINCE\n",
      "2022-11-30 11:01:06,496-[INFO]- dropbox:390 -> Refreshing access token.\n",
      "2022-11-30 11:01:06,722-[INFO]- dropbox:474 -> Request to files/upload\n",
      "2022-11-30 11:01:08,039-[INFO]- dropbox:390 -> Refreshing access token.\n",
      "2022-11-30 11:01:08,265-[INFO]- dropbox:474 -> Request to files/upload\n",
      "2022-11-30 11:01:09,424-[INFO]- dropbox:390 -> Refreshing access token.\n",
      "2022-11-30 11:01:09,654-[INFO]- dropbox:474 -> Request to files/upload\n",
      "2022-11-30 11:01:10,826-[INFO]- dropbox:390 -> Refreshing access token.\n",
      "2022-11-30 11:01:11,073-[INFO]- dropbox:474 -> Request to files/upload\n",
      "DATA/PRINCE\n",
      "2022-11-30 11:01:12,557-[INFO]- dropbox:390 -> Refreshing access token.\n",
      "2022-11-30 11:01:12,818-[INFO]- dropbox:474 -> Request to files/upload\n",
      "2022-11-30 11:01:14,312-[INFO]- dropbox:390 -> Refreshing access token.\n",
      "2022-11-30 11:01:14,529-[INFO]- dropbox:474 -> Request to files/upload\n",
      "2022-11-30 11:01:15,460-[INFO]- dropbox:390 -> Refreshing access token.\n",
      "2022-11-30 11:01:15,697-[INFO]- dropbox:474 -> Request to files/upload\n",
      "2022-11-30 11:01:16,569-[INFO]- dropbox:390 -> Refreshing access token.\n",
      "2022-11-30 11:01:16,798-[INFO]- dropbox:474 -> Request to files/upload\n",
      "DATA/PRINCE\n",
      "2022-11-30 11:01:17,745-[INFO]- dropbox:390 -> Refreshing access token.\n",
      "2022-11-30 11:01:17,982-[INFO]- dropbox:474 -> Request to files/upload\n",
      "2022-11-30 11:01:19,452-[INFO]- dropbox:390 -> Refreshing access token.\n",
      "2022-11-30 11:01:19,701-[INFO]- dropbox:474 -> Request to files/upload\n",
      "2022-11-30 11:01:20,888-[INFO]- dropbox:390 -> Refreshing access token.\n",
      "2022-11-30 11:01:21,113-[INFO]- dropbox:474 -> Request to files/upload\n",
      "2022-11-30 11:01:22,198-[INFO]- dropbox:390 -> Refreshing access token.\n",
      "2022-11-30 11:01:22,428-[INFO]- dropbox:474 -> Request to files/upload\n",
      "DATA/PRINCE\n",
      "2022-11-30 11:01:23,370-[INFO]- dropbox:390 -> Refreshing access token.\n",
      "2022-11-30 11:01:23,618-[INFO]- dropbox:474 -> Request to files/upload\n",
      "2022-11-30 11:01:25,169-[INFO]- dropbox:390 -> Refreshing access token.\n",
      "2022-11-30 11:01:25,395-[INFO]- dropbox:474 -> Request to files/upload\n",
      "2022-11-30 11:01:26,774-[INFO]- dropbox:390 -> Refreshing access token.\n",
      "2022-11-30 11:01:27,001-[INFO]- dropbox:474 -> Request to files/upload\n",
      "2022-11-30 11:01:27,854-[INFO]- dropbox:390 -> Refreshing access token.\n",
      "2022-11-30 11:01:28,090-[INFO]- dropbox:474 -> Request to files/upload\n",
      "DATA/PRINCE\n",
      "2022-11-30 11:01:29,129-[INFO]- dropbox:390 -> Refreshing access token.\n",
      "2022-11-30 11:01:29,355-[INFO]- dropbox:474 -> Request to files/upload\n",
      "2022-11-30 11:01:30,839-[INFO]- dropbox:390 -> Refreshing access token.\n",
      "2022-11-30 11:01:31,072-[INFO]- dropbox:474 -> Request to files/upload\n",
      "2022-11-30 11:01:32,200-[INFO]- dropbox:390 -> Refreshing access token.\n",
      "2022-11-30 11:01:32,423-[INFO]- dropbox:474 -> Request to files/upload\n",
      "2022-11-30 11:01:33,332-[INFO]- dropbox:390 -> Refreshing access token.\n",
      "2022-11-30 11:01:33,559-[INFO]- dropbox:474 -> Request to files/upload\n",
      "DATA/PRINCE\n",
      "2022-11-30 11:01:34,884-[INFO]- dropbox:390 -> Refreshing access token.\n",
      "2022-11-30 11:01:35,252-[INFO]- dropbox:474 -> Request to files/upload\n",
      "2022-11-30 11:01:36,840-[INFO]- dropbox:390 -> Refreshing access token.\n",
      "2022-11-30 11:01:37,069-[INFO]- dropbox:474 -> Request to files/upload\n",
      "2022-11-30 11:01:38,040-[INFO]- dropbox:390 -> Refreshing access token.\n",
      "2022-11-30 11:01:38,276-[INFO]- dropbox:474 -> Request to files/upload\n",
      "2022-11-30 11:01:39,304-[INFO]- dropbox:390 -> Refreshing access token.\n",
      "2022-11-30 11:01:39,527-[INFO]- dropbox:474 -> Request to files/upload\n",
      "DATA/PRINCE\n",
      "2022-11-30 11:01:40,572-[INFO]- dropbox:390 -> Refreshing access token.\n",
      "2022-11-30 11:01:40,813-[INFO]- dropbox:474 -> Request to files/upload\n",
      "2022-11-30 11:01:42,476-[INFO]- dropbox:390 -> Refreshing access token.\n",
      "2022-11-30 11:01:42,721-[INFO]- dropbox:474 -> Request to files/upload\n",
      "2022-11-30 11:01:43,938-[INFO]- dropbox:390 -> Refreshing access token.\n",
      "2022-11-30 11:01:44,161-[INFO]- dropbox:474 -> Request to files/upload\n",
      "2022-11-30 11:01:45,272-[INFO]- dropbox:390 -> Refreshing access token.\n",
      "2022-11-30 11:01:45,514-[INFO]- dropbox:474 -> Request to files/upload\n",
      "DATA/PRINCE\n",
      "2022-11-30 11:01:47,088-[INFO]- dropbox:390 -> Refreshing access token.\n",
      "2022-11-30 11:01:47,310-[INFO]- dropbox:474 -> Request to files/upload\n",
      "2022-11-30 11:01:48,888-[INFO]- dropbox:390 -> Refreshing access token.\n",
      "2022-11-30 11:01:49,111-[INFO]- dropbox:474 -> Request to files/upload\n",
      "2022-11-30 11:01:50,601-[INFO]- dropbox:390 -> Refreshing access token.\n",
      "2022-11-30 11:01:50,843-[INFO]- dropbox:474 -> Request to files/upload\n",
      "2022-11-30 11:01:52,038-[INFO]- dropbox:390 -> Refreshing access token.\n",
      "2022-11-30 11:01:52,280-[INFO]- dropbox:474 -> Request to files/upload\n",
      "DATA/PRINCE\n",
      "2022-11-30 11:01:53,215-[INFO]- dropbox:390 -> Refreshing access token.\n",
      "2022-11-30 11:01:53,446-[INFO]- dropbox:474 -> Request to files/upload\n",
      "2022-11-30 11:01:55,032-[INFO]- dropbox:390 -> Refreshing access token.\n",
      "2022-11-30 11:01:55,251-[INFO]- dropbox:474 -> Request to files/upload\n",
      "2022-11-30 11:01:56,208-[INFO]- dropbox:390 -> Refreshing access token.\n",
      "2022-11-30 11:01:56,429-[INFO]- dropbox:474 -> Request to files/upload\n",
      "2022-11-30 11:01:57,350-[INFO]- dropbox:390 -> Refreshing access token.\n",
      "2022-11-30 11:01:57,570-[INFO]- dropbox:474 -> Request to files/upload\n",
      "DATA/PRINCE\n",
      "2022-11-30 11:01:58,383-[INFO]- dropbox:390 -> Refreshing access token.\n",
      "2022-11-30 11:01:58,625-[INFO]- dropbox:474 -> Request to files/upload\n",
      "2022-11-30 11:02:00,120-[INFO]- dropbox:390 -> Refreshing access token.\n",
      "2022-11-30 11:02:00,359-[INFO]- dropbox:474 -> Request to files/upload\n",
      "2022-11-30 11:02:01,260-[INFO]- dropbox:390 -> Refreshing access token.\n",
      "2022-11-30 11:02:01,480-[INFO]- dropbox:474 -> Request to files/upload\n",
      "2022-11-30 11:02:02,411-[INFO]- dropbox:390 -> Refreshing access token.\n",
      "2022-11-30 11:02:02,645-[INFO]- dropbox:474 -> Request to files/upload\n",
      "DATA/PRINCE\n",
      "2022-11-30 11:02:03,739-[INFO]- dropbox:390 -> Refreshing access token.\n",
      "2022-11-30 11:02:03,960-[INFO]- dropbox:474 -> Request to files/upload\n",
      "2022-11-30 11:02:05,163-[INFO]- dropbox:390 -> Refreshing access token.\n",
      "2022-11-30 11:02:05,408-[INFO]- dropbox:474 -> Request to files/upload\n",
      "2022-11-30 11:02:06,475-[INFO]- dropbox:390 -> Refreshing access token.\n",
      "2022-11-30 11:02:06,723-[INFO]- dropbox:474 -> Request to files/upload\n",
      "2022-11-30 11:02:07,801-[INFO]- dropbox:390 -> Refreshing access token.\n",
      "2022-11-30 11:02:08,035-[INFO]- dropbox:474 -> Request to files/upload\n",
      "DATA/PRINCE\n",
      "2022-11-30 11:02:09,072-[INFO]- dropbox:390 -> Refreshing access token.\n",
      "2022-11-30 11:02:09,299-[INFO]- dropbox:474 -> Request to files/upload\n",
      "2022-11-30 11:02:10,821-[INFO]- dropbox:390 -> Refreshing access token.\n",
      "2022-11-30 11:02:11,084-[INFO]- dropbox:474 -> Request to files/upload\n",
      "2022-11-30 11:02:12,018-[INFO]- dropbox:390 -> Refreshing access token.\n",
      "2022-11-30 11:02:12,285-[INFO]- dropbox:474 -> Request to files/upload\n",
      "2022-11-30 11:02:17,357-[INFO]- dropbox:390 -> Refreshing access token.\n",
      "2022-11-30 11:02:17,615-[INFO]- dropbox:474 -> Request to files/upload\n",
      "DATA/PRINCE\n",
      "2022-11-30 11:02:19,275-[INFO]- dropbox:390 -> Refreshing access token.\n",
      "2022-11-30 11:02:19,515-[INFO]- dropbox:474 -> Request to files/upload\n",
      "2022-11-30 11:02:21,065-[INFO]- dropbox:390 -> Refreshing access token.\n",
      "2022-11-30 11:02:21,313-[INFO]- dropbox:474 -> Request to files/upload\n",
      "2022-11-30 11:02:22,522-[INFO]- dropbox:390 -> Refreshing access token.\n",
      "2022-11-30 11:02:22,747-[INFO]- dropbox:474 -> Request to files/upload\n",
      "2022-11-30 11:02:23,702-[INFO]- dropbox:390 -> Refreshing access token.\n",
      "2022-11-30 11:02:23,927-[INFO]- dropbox:474 -> Request to files/upload\n",
      "DATA/PRINCE\n",
      "2022-11-30 11:02:25,051-[INFO]- dropbox:390 -> Refreshing access token.\n",
      "2022-11-30 11:02:25,274-[INFO]- dropbox:474 -> Request to files/upload\n",
      "2022-11-30 11:02:26,816-[INFO]- dropbox:390 -> Refreshing access token.\n",
      "2022-11-30 11:02:27,044-[INFO]- dropbox:474 -> Request to files/upload\n",
      "2022-11-30 11:02:28,206-[INFO]- dropbox:390 -> Refreshing access token.\n",
      "2022-11-30 11:02:28,469-[INFO]- dropbox:474 -> Request to files/upload\n",
      "2022-11-30 11:02:29,305-[INFO]- dropbox:390 -> Refreshing access token.\n",
      "2022-11-30 11:02:29,542-[INFO]- dropbox:474 -> Request to files/upload\n",
      "DATA/PRINCE\n",
      "2022-11-30 11:02:30,599-[INFO]- dropbox:390 -> Refreshing access token.\n",
      "2022-11-30 11:02:30,869-[INFO]- dropbox:474 -> Request to files/upload\n",
      "2022-11-30 11:02:33,013-[INFO]- dropbox:390 -> Refreshing access token.\n",
      "2022-11-30 11:02:33,243-[INFO]- dropbox:474 -> Request to files/upload\n",
      "2022-11-30 11:02:34,306-[INFO]- dropbox:390 -> Refreshing access token.\n",
      "2022-11-30 11:02:34,531-[INFO]- dropbox:474 -> Request to files/upload\n",
      "2022-11-30 11:02:35,519-[INFO]- dropbox:390 -> Refreshing access token.\n",
      "2022-11-30 11:02:35,763-[INFO]- dropbox:474 -> Request to files/upload\n",
      "DATA/PRINCE\n",
      "2022-11-30 11:02:36,721-[INFO]- dropbox:390 -> Refreshing access token.\n",
      "2022-11-30 11:02:36,946-[INFO]- dropbox:474 -> Request to files/upload\n",
      "2022-11-30 11:02:39,094-[INFO]- dropbox:390 -> Refreshing access token.\n",
      "2022-11-30 11:02:39,318-[INFO]- dropbox:474 -> Request to files/upload\n",
      "2022-11-30 11:02:40,187-[INFO]- dropbox:390 -> Refreshing access token.\n",
      "2022-11-30 11:02:40,414-[INFO]- dropbox:474 -> Request to files/upload\n",
      "2022-11-30 11:02:41,287-[INFO]- dropbox:390 -> Refreshing access token.\n",
      "2022-11-30 11:02:41,589-[INFO]- dropbox:474 -> Request to files/upload\n",
      "DATA/PRINCE\n",
      "2022-11-30 11:02:42,729-[INFO]- dropbox:390 -> Refreshing access token.\n",
      "2022-11-30 11:02:42,959-[INFO]- dropbox:474 -> Request to files/upload\n",
      "2022-11-30 11:02:44,710-[INFO]- dropbox:390 -> Refreshing access token.\n",
      "2022-11-30 11:02:44,955-[INFO]- dropbox:474 -> Request to files/upload\n",
      "2022-11-30 11:02:46,163-[INFO]- dropbox:390 -> Refreshing access token.\n",
      "2022-11-30 11:02:46,390-[INFO]- dropbox:474 -> Request to files/upload\n",
      "2022-11-30 11:02:47,275-[INFO]- dropbox:390 -> Refreshing access token.\n",
      "2022-11-30 11:02:47,499-[INFO]- dropbox:474 -> Request to files/upload\n",
      "DATA/PRINCE\n",
      "2022-11-30 11:02:48,732-[INFO]- dropbox:390 -> Refreshing access token.\n",
      "2022-11-30 11:02:48,958-[INFO]- dropbox:474 -> Request to files/upload\n",
      "2022-11-30 11:02:50,364-[INFO]- dropbox:390 -> Refreshing access token.\n",
      "2022-11-30 11:02:50,590-[INFO]- dropbox:474 -> Request to files/upload\n",
      "2022-11-30 11:02:51,662-[INFO]- dropbox:390 -> Refreshing access token.\n",
      "2022-11-30 11:02:51,907-[INFO]- dropbox:474 -> Request to files/upload\n",
      "2022-11-30 11:02:52,786-[INFO]- dropbox:390 -> Refreshing access token.\n",
      "2022-11-30 11:02:53,018-[INFO]- dropbox:474 -> Request to files/upload\n",
      "DATA/PRINCE\n",
      "2022-11-30 11:02:53,998-[INFO]- dropbox:390 -> Refreshing access token.\n",
      "2022-11-30 11:02:54,223-[INFO]- dropbox:474 -> Request to files/upload\n",
      "2022-11-30 11:02:55,719-[INFO]- dropbox:390 -> Refreshing access token.\n",
      "2022-11-30 11:02:55,953-[INFO]- dropbox:474 -> Request to files/upload\n",
      "2022-11-30 11:02:57,112-[INFO]- dropbox:390 -> Refreshing access token.\n",
      "2022-11-30 11:02:57,381-[INFO]- dropbox:474 -> Request to files/upload\n",
      "2022-11-30 11:02:58,834-[INFO]- dropbox:390 -> Refreshing access token.\n",
      "2022-11-30 11:02:59,090-[INFO]- dropbox:474 -> Request to files/upload\n",
      "DATA/PRINCE\n",
      "2022-11-30 11:03:00,426-[INFO]- dropbox:390 -> Refreshing access token.\n",
      "2022-11-30 11:03:00,674-[INFO]- dropbox:474 -> Request to files/upload\n",
      "2022-11-30 11:03:02,153-[INFO]- dropbox:390 -> Refreshing access token.\n",
      "2022-11-30 11:03:02,390-[INFO]- dropbox:474 -> Request to files/upload\n",
      "2022-11-30 11:03:03,388-[INFO]- dropbox:390 -> Refreshing access token.\n",
      "2022-11-30 11:03:03,616-[INFO]- dropbox:474 -> Request to files/upload\n",
      "2022-11-30 11:03:04,863-[INFO]- dropbox:390 -> Refreshing access token.\n",
      "2022-11-30 11:03:05,088-[INFO]- dropbox:474 -> Request to files/upload\n",
      "DATA/PRINCE\n",
      "2022-11-30 11:03:06,064-[INFO]- dropbox:390 -> Refreshing access token.\n",
      "2022-11-30 11:03:06,298-[INFO]- dropbox:474 -> Request to files/upload\n",
      "2022-11-30 11:03:07,620-[INFO]- dropbox:390 -> Refreshing access token.\n",
      "2022-11-30 11:03:07,864-[INFO]- dropbox:474 -> Request to files/upload\n",
      "2022-11-30 11:03:08,742-[INFO]- dropbox:390 -> Refreshing access token.\n",
      "2022-11-30 11:03:08,998-[INFO]- dropbox:474 -> Request to files/upload\n",
      "2022-11-30 11:03:10,192-[INFO]- dropbox:390 -> Refreshing access token.\n",
      "2022-11-30 11:03:10,417-[INFO]- dropbox:474 -> Request to files/upload\n",
      "DATA/PRINCE\n",
      "2022-11-30 11:03:11,480-[INFO]- dropbox:390 -> Refreshing access token.\n",
      "2022-11-30 11:03:11,741-[INFO]- dropbox:474 -> Request to files/upload\n",
      "2022-11-30 11:03:13,185-[INFO]- dropbox:390 -> Refreshing access token.\n",
      "2022-11-30 11:03:13,423-[INFO]- dropbox:474 -> Request to files/upload\n",
      "2022-11-30 11:03:14,363-[INFO]- dropbox:390 -> Refreshing access token.\n",
      "2022-11-30 11:03:14,593-[INFO]- dropbox:474 -> Request to files/upload\n",
      "2022-11-30 11:03:15,915-[INFO]- dropbox:390 -> Refreshing access token.\n",
      "2022-11-30 11:03:16,137-[INFO]- dropbox:474 -> Request to files/upload\n",
      "DATA/PRINCE\n",
      "2022-11-30 11:03:17,011-[INFO]- dropbox:390 -> Refreshing access token.\n",
      "2022-11-30 11:03:17,311-[INFO]- dropbox:474 -> Request to files/upload\n",
      "2022-11-30 11:03:18,598-[INFO]- dropbox:390 -> Refreshing access token.\n",
      "2022-11-30 11:03:18,827-[INFO]- dropbox:474 -> Request to files/upload\n",
      "2022-11-30 11:03:19,705-[INFO]- dropbox:390 -> Refreshing access token.\n",
      "2022-11-30 11:03:19,945-[INFO]- dropbox:474 -> Request to files/upload\n",
      "2022-11-30 11:03:20,899-[INFO]- dropbox:390 -> Refreshing access token.\n",
      "2022-11-30 11:03:21,144-[INFO]- dropbox:474 -> Request to files/upload\n",
      "DATA/PRINCE\n",
      "2022-11-30 11:03:22,295-[INFO]- dropbox:390 -> Refreshing access token.\n",
      "2022-11-30 11:03:22,520-[INFO]- dropbox:474 -> Request to files/upload\n",
      "2022-11-30 11:03:23,950-[INFO]- dropbox:390 -> Refreshing access token.\n",
      "2022-11-30 11:03:24,184-[INFO]- dropbox:474 -> Request to files/upload\n",
      "2022-11-30 11:03:25,251-[INFO]- dropbox:390 -> Refreshing access token.\n",
      "2022-11-30 11:03:25,474-[INFO]- dropbox:474 -> Request to files/upload\n",
      "2022-11-30 11:03:26,538-[INFO]- dropbox:390 -> Refreshing access token.\n",
      "2022-11-30 11:03:26,761-[INFO]- dropbox:474 -> Request to files/upload\n",
      "DATA/PRINCE\n",
      "2022-11-30 11:03:27,926-[INFO]- dropbox:390 -> Refreshing access token.\n",
      "2022-11-30 11:03:28,162-[INFO]- dropbox:474 -> Request to files/upload\n",
      "2022-11-30 11:03:30,181-[INFO]- dropbox:390 -> Refreshing access token.\n",
      "2022-11-30 11:03:30,412-[INFO]- dropbox:474 -> Request to files/upload\n",
      "2022-11-30 11:03:31,598-[INFO]- dropbox:390 -> Refreshing access token.\n",
      "2022-11-30 11:03:31,842-[INFO]- dropbox:474 -> Request to files/upload\n",
      "2022-11-30 11:03:33,037-[INFO]- dropbox:390 -> Refreshing access token.\n",
      "2022-11-30 11:03:33,257-[INFO]- dropbox:474 -> Request to files/upload\n",
      "DATA/PRINCE\n",
      "2022-11-30 11:03:34,590-[INFO]- dropbox:390 -> Refreshing access token.\n",
      "2022-11-30 11:03:34,820-[INFO]- dropbox:474 -> Request to files/upload\n",
      "2022-11-30 11:03:36,189-[INFO]- dropbox:390 -> Refreshing access token.\n",
      "2022-11-30 11:03:36,418-[INFO]- dropbox:474 -> Request to files/upload\n",
      "2022-11-30 11:03:37,430-[INFO]- dropbox:390 -> Refreshing access token.\n",
      "2022-11-30 11:03:37,669-[INFO]- dropbox:474 -> Request to files/upload\n",
      "2022-11-30 11:03:38,829-[INFO]- dropbox:390 -> Refreshing access token.\n",
      "2022-11-30 11:03:39,075-[INFO]- dropbox:474 -> Request to files/upload\n",
      "DATA/PRINCE\n",
      "2022-11-30 11:03:40,141-[INFO]- dropbox:390 -> Refreshing access token.\n",
      "2022-11-30 11:03:40,368-[INFO]- dropbox:474 -> Request to files/upload\n",
      "2022-11-30 11:03:41,788-[INFO]- dropbox:390 -> Refreshing access token.\n",
      "2022-11-30 11:03:42,006-[INFO]- dropbox:474 -> Request to files/upload\n",
      "2022-11-30 11:03:43,128-[INFO]- dropbox:390 -> Refreshing access token.\n",
      "2022-11-30 11:03:43,362-[INFO]- dropbox:474 -> Request to files/upload\n",
      "2022-11-30 11:03:44,454-[INFO]- dropbox:390 -> Refreshing access token.\n",
      "2022-11-30 11:03:44,678-[INFO]- dropbox:474 -> Request to files/upload\n",
      "DATA/PRINCE\n",
      "2022-11-30 11:03:45,888-[INFO]- dropbox:390 -> Refreshing access token.\n",
      "2022-11-30 11:03:46,116-[INFO]- dropbox:474 -> Request to files/upload\n",
      "2022-11-30 11:03:47,586-[INFO]- dropbox:390 -> Refreshing access token.\n",
      "2022-11-30 11:03:47,810-[INFO]- dropbox:474 -> Request to files/upload\n",
      "2022-11-30 11:03:48,857-[INFO]- dropbox:390 -> Refreshing access token.\n",
      "2022-11-30 11:03:49,093-[INFO]- dropbox:474 -> Request to files/upload\n",
      "2022-11-30 11:03:50,162-[INFO]- dropbox:390 -> Refreshing access token.\n",
      "2022-11-30 11:03:50,387-[INFO]- dropbox:474 -> Request to files/upload\n",
      "DATA/PRINCE\n",
      "2022-11-30 11:03:51,610-[INFO]- dropbox:390 -> Refreshing access token.\n",
      "2022-11-30 11:03:51,843-[INFO]- dropbox:474 -> Request to files/upload\n",
      "2022-11-30 11:03:53,315-[INFO]- dropbox:390 -> Refreshing access token.\n",
      "2022-11-30 11:03:53,537-[INFO]- dropbox:474 -> Request to files/upload\n",
      "2022-11-30 11:03:54,912-[INFO]- dropbox:390 -> Refreshing access token.\n",
      "2022-11-30 11:03:55,134-[INFO]- dropbox:474 -> Request to files/upload\n",
      "2022-11-30 11:03:56,077-[INFO]- dropbox:390 -> Refreshing access token.\n",
      "2022-11-30 11:03:56,314-[INFO]- dropbox:474 -> Request to files/upload\n",
      "DATA/PRINCE\n",
      "2022-11-30 11:03:57,634-[INFO]- dropbox:390 -> Refreshing access token.\n",
      "2022-11-30 11:03:57,892-[INFO]- dropbox:474 -> Request to files/upload\n",
      "2022-11-30 11:03:59,125-[INFO]- dropbox:390 -> Refreshing access token.\n",
      "2022-11-30 11:03:59,352-[INFO]- dropbox:474 -> Request to files/upload\n",
      "2022-11-30 11:04:00,393-[INFO]- dropbox:390 -> Refreshing access token.\n",
      "2022-11-30 11:04:00,613-[INFO]- dropbox:474 -> Request to files/upload\n",
      "2022-11-30 11:04:01,808-[INFO]- dropbox:390 -> Refreshing access token.\n",
      "2022-11-30 11:04:02,057-[INFO]- dropbox:474 -> Request to files/upload\n",
      "DATA/PRINCE\n",
      "2022-11-30 11:04:03,219-[INFO]- dropbox:390 -> Refreshing access token.\n",
      "2022-11-30 11:04:03,437-[INFO]- dropbox:474 -> Request to files/upload\n",
      "2022-11-30 11:04:04,820-[INFO]- dropbox:390 -> Refreshing access token.\n",
      "2022-11-30 11:04:05,052-[INFO]- dropbox:474 -> Request to files/upload\n",
      "2022-11-30 11:04:06,135-[INFO]- dropbox:390 -> Refreshing access token.\n",
      "2022-11-30 11:04:06,351-[INFO]- dropbox:474 -> Request to files/upload\n",
      "2022-11-30 11:04:08,602-[INFO]- dropbox:390 -> Refreshing access token.\n",
      "2022-11-30 11:04:08,821-[INFO]- dropbox:474 -> Request to files/upload\n",
      "DATA/PRINCE\n",
      "2022-11-30 11:04:10,392-[INFO]- dropbox:390 -> Refreshing access token.\n",
      "2022-11-30 11:04:10,628-[INFO]- dropbox:474 -> Request to files/upload\n",
      "2022-11-30 11:04:12,135-[INFO]- dropbox:390 -> Refreshing access token.\n",
      "2022-11-30 11:04:12,441-[INFO]- dropbox:474 -> Request to files/upload\n",
      "2022-11-30 11:04:13,384-[INFO]- dropbox:390 -> Refreshing access token.\n",
      "2022-11-30 11:04:13,609-[INFO]- dropbox:474 -> Request to files/upload\n",
      "2022-11-30 11:04:14,546-[INFO]- dropbox:390 -> Refreshing access token.\n",
      "2022-11-30 11:04:14,849-[INFO]- dropbox:474 -> Request to files/upload\n",
      "DATA/PRINCE\n",
      "2022-11-30 11:04:15,767-[INFO]- dropbox:390 -> Refreshing access token.\n",
      "2022-11-30 11:04:15,993-[INFO]- dropbox:474 -> Request to files/upload\n",
      "2022-11-30 11:04:17,456-[INFO]- dropbox:390 -> Refreshing access token.\n",
      "2022-11-30 11:04:17,689-[INFO]- dropbox:474 -> Request to files/upload\n",
      "2022-11-30 11:04:18,547-[INFO]- dropbox:390 -> Refreshing access token.\n",
      "2022-11-30 11:04:18,782-[INFO]- dropbox:474 -> Request to files/upload\n",
      "2022-11-30 11:04:20,384-[INFO]- dropbox:390 -> Refreshing access token.\n",
      "2022-11-30 11:04:20,617-[INFO]- dropbox:474 -> Request to files/upload\n",
      "DATA/PRINCE\n",
      "2022-11-30 11:04:21,702-[INFO]- dropbox:390 -> Refreshing access token.\n",
      "2022-11-30 11:04:21,928-[INFO]- dropbox:474 -> Request to files/upload\n",
      "2022-11-30 11:04:23,161-[INFO]- dropbox:390 -> Refreshing access token.\n",
      "2022-11-30 11:04:23,422-[INFO]- dropbox:474 -> Request to files/upload\n",
      "2022-11-30 11:04:24,382-[INFO]- dropbox:390 -> Refreshing access token.\n",
      "2022-11-30 11:04:24,602-[INFO]- dropbox:474 -> Request to files/upload\n",
      "2022-11-30 11:04:25,815-[INFO]- dropbox:390 -> Refreshing access token.\n",
      "2022-11-30 11:04:26,043-[INFO]- dropbox:474 -> Request to files/upload\n",
      "DATA/PRINCE\n",
      "2022-11-30 11:04:26,889-[INFO]- dropbox:390 -> Refreshing access token.\n",
      "2022-11-30 11:04:27,115-[INFO]- dropbox:474 -> Request to files/upload\n",
      "2022-11-30 11:04:28,458-[INFO]- dropbox:390 -> Refreshing access token.\n",
      "2022-11-30 11:04:28,678-[INFO]- dropbox:474 -> Request to files/upload\n",
      "2022-11-30 11:04:29,621-[INFO]- dropbox:390 -> Refreshing access token.\n",
      "2022-11-30 11:04:29,843-[INFO]- dropbox:474 -> Request to files/upload\n",
      "2022-11-30 11:04:30,943-[INFO]- dropbox:390 -> Refreshing access token.\n",
      "2022-11-30 11:04:31,174-[INFO]- dropbox:474 -> Request to files/upload\n",
      "DATA/PRINCE\n",
      "2022-11-30 11:04:32,252-[INFO]- dropbox:390 -> Refreshing access token.\n",
      "2022-11-30 11:04:32,480-[INFO]- dropbox:474 -> Request to files/upload\n",
      "2022-11-30 11:04:34,086-[INFO]- dropbox:390 -> Refreshing access token.\n",
      "2022-11-30 11:04:34,332-[INFO]- dropbox:474 -> Request to files/upload\n",
      "2022-11-30 11:04:35,301-[INFO]- dropbox:390 -> Refreshing access token.\n",
      "2022-11-30 11:04:35,526-[INFO]- dropbox:474 -> Request to files/upload\n",
      "2022-11-30 11:04:36,522-[INFO]- dropbox:390 -> Refreshing access token.\n",
      "2022-11-30 11:04:36,789-[INFO]- dropbox:474 -> Request to files/upload\n",
      "DATA/PRINCE\n",
      "2022-11-30 11:04:37,763-[INFO]- dropbox:390 -> Refreshing access token.\n",
      "2022-11-30 11:04:38,006-[INFO]- dropbox:474 -> Request to files/upload\n",
      "2022-11-30 11:04:39,848-[INFO]- dropbox:390 -> Refreshing access token.\n",
      "2022-11-30 11:04:40,068-[INFO]- dropbox:474 -> Request to files/upload\n",
      "2022-11-30 11:04:40,981-[INFO]- dropbox:390 -> Refreshing access token.\n",
      "2022-11-30 11:04:41,226-[INFO]- dropbox:474 -> Request to files/upload\n",
      "2022-11-30 11:04:42,064-[INFO]- dropbox:390 -> Refreshing access token.\n",
      "2022-11-30 11:04:42,299-[INFO]- dropbox:474 -> Request to files/upload\n",
      "DATA/PRINCE\n",
      "2022-11-30 11:04:43,268-[INFO]- dropbox:390 -> Refreshing access token.\n",
      "2022-11-30 11:04:43,495-[INFO]- dropbox:474 -> Request to files/upload\n",
      "2022-11-30 11:04:45,339-[INFO]- dropbox:390 -> Refreshing access token.\n",
      "2022-11-30 11:04:45,578-[INFO]- dropbox:474 -> Request to files/upload\n",
      "2022-11-30 11:04:46,595-[INFO]- dropbox:390 -> Refreshing access token.\n",
      "2022-11-30 11:04:46,824-[INFO]- dropbox:474 -> Request to files/upload\n",
      "2022-11-30 11:04:47,850-[INFO]- dropbox:390 -> Refreshing access token.\n",
      "2022-11-30 11:04:48,083-[INFO]- dropbox:474 -> Request to files/upload\n",
      "DATA/PRINCE\n",
      "2022-11-30 11:04:49,075-[INFO]- dropbox:390 -> Refreshing access token.\n",
      "2022-11-30 11:04:49,304-[INFO]- dropbox:474 -> Request to files/upload\n",
      "2022-11-30 11:04:50,945-[INFO]- dropbox:390 -> Refreshing access token.\n",
      "2022-11-30 11:04:51,173-[INFO]- dropbox:474 -> Request to files/upload\n",
      "2022-11-30 11:04:52,476-[INFO]- dropbox:390 -> Refreshing access token.\n",
      "2022-11-30 11:04:52,735-[INFO]- dropbox:474 -> Request to files/upload\n",
      "2022-11-30 11:04:53,577-[INFO]- dropbox:390 -> Refreshing access token.\n",
      "2022-11-30 11:04:53,823-[INFO]- dropbox:474 -> Request to files/upload\n",
      "DATA/PRINCE\n",
      "2022-11-30 11:04:54,726-[INFO]- dropbox:390 -> Refreshing access token.\n",
      "2022-11-30 11:04:55,013-[INFO]- dropbox:474 -> Request to files/upload\n",
      "2022-11-30 11:04:56,826-[INFO]- dropbox:390 -> Refreshing access token.\n",
      "2022-11-30 11:04:57,067-[INFO]- dropbox:474 -> Request to files/upload\n",
      "2022-11-30 11:04:58,066-[INFO]- dropbox:390 -> Refreshing access token.\n",
      "2022-11-30 11:04:58,305-[INFO]- dropbox:474 -> Request to files/upload\n",
      "2022-11-30 11:04:59,389-[INFO]- dropbox:390 -> Refreshing access token.\n",
      "2022-11-30 11:04:59,609-[INFO]- dropbox:474 -> Request to files/upload\n",
      "DATA/PRINCE\n",
      "2022-11-30 11:05:00,669-[INFO]- dropbox:390 -> Refreshing access token.\n",
      "2022-11-30 11:05:00,894-[INFO]- dropbox:474 -> Request to files/upload\n",
      "2022-11-30 11:05:02,412-[INFO]- dropbox:390 -> Refreshing access token.\n",
      "2022-11-30 11:05:02,644-[INFO]- dropbox:474 -> Request to files/upload\n",
      "2022-11-30 11:05:03,713-[INFO]- dropbox:390 -> Refreshing access token.\n",
      "2022-11-30 11:05:03,951-[INFO]- dropbox:474 -> Request to files/upload\n",
      "2022-11-30 11:05:05,123-[INFO]- dropbox:390 -> Refreshing access token.\n",
      "2022-11-30 11:05:05,346-[INFO]- dropbox:474 -> Request to files/upload\n",
      "DATA/PRINCE\n",
      "2022-11-30 11:05:06,675-[INFO]- dropbox:390 -> Refreshing access token.\n",
      "2022-11-30 11:05:06,931-[INFO]- dropbox:474 -> Request to files/upload\n",
      "2022-11-30 11:05:09,007-[INFO]- dropbox:390 -> Refreshing access token.\n",
      "2022-11-30 11:05:09,252-[INFO]- dropbox:474 -> Request to files/upload\n",
      "2022-11-30 11:05:10,207-[INFO]- dropbox:390 -> Refreshing access token.\n",
      "2022-11-30 11:05:10,431-[INFO]- dropbox:474 -> Request to files/upload\n",
      "2022-11-30 11:05:11,699-[INFO]- dropbox:390 -> Refreshing access token.\n",
      "2022-11-30 11:05:11,926-[INFO]- dropbox:474 -> Request to files/upload\n",
      "DATA/PRINCE\n",
      "2022-11-30 11:05:12,969-[INFO]- dropbox:390 -> Refreshing access token.\n",
      "2022-11-30 11:05:13,198-[INFO]- dropbox:474 -> Request to files/upload\n",
      "2022-11-30 11:05:14,839-[INFO]- dropbox:390 -> Refreshing access token.\n",
      "2022-11-30 11:05:15,079-[INFO]- dropbox:474 -> Request to files/upload\n",
      "2022-11-30 11:05:16,074-[INFO]- dropbox:390 -> Refreshing access token.\n",
      "2022-11-30 11:05:16,292-[INFO]- dropbox:474 -> Request to files/upload\n",
      "2022-11-30 11:05:17,147-[INFO]- dropbox:390 -> Refreshing access token.\n",
      "2022-11-30 11:05:17,402-[INFO]- dropbox:474 -> Request to files/upload\n",
      "DATA/PRINCE\n",
      "2022-11-30 11:05:18,511-[INFO]- dropbox:390 -> Refreshing access token.\n",
      "2022-11-30 11:05:18,739-[INFO]- dropbox:474 -> Request to files/upload\n",
      "2022-11-30 11:05:20,254-[INFO]- dropbox:390 -> Refreshing access token.\n",
      "2022-11-30 11:05:20,484-[INFO]- dropbox:474 -> Request to files/upload\n",
      "2022-11-30 11:05:21,566-[INFO]- dropbox:390 -> Refreshing access token.\n",
      "2022-11-30 11:05:21,788-[INFO]- dropbox:474 -> Request to files/upload\n",
      "2022-11-30 11:05:22,654-[INFO]- dropbox:390 -> Refreshing access token.\n",
      "2022-11-30 11:05:22,876-[INFO]- dropbox:474 -> Request to files/upload\n",
      "DATA/PRINCE\n",
      "2022-11-30 11:05:23,781-[INFO]- dropbox:390 -> Refreshing access token.\n",
      "2022-11-30 11:05:24,003-[INFO]- dropbox:474 -> Request to files/upload\n",
      "2022-11-30 11:05:25,341-[INFO]- dropbox:390 -> Refreshing access token.\n",
      "2022-11-30 11:05:25,564-[INFO]- dropbox:474 -> Request to files/upload\n",
      "2022-11-30 11:05:26,637-[INFO]- dropbox:390 -> Refreshing access token.\n",
      "2022-11-30 11:05:26,861-[INFO]- dropbox:474 -> Request to files/upload\n",
      "2022-11-30 11:05:27,753-[INFO]- dropbox:390 -> Refreshing access token.\n",
      "2022-11-30 11:05:27,970-[INFO]- dropbox:474 -> Request to files/upload\n",
      "DATA/PRINCE\n",
      "2022-11-30 11:05:28,992-[INFO]- dropbox:390 -> Refreshing access token.\n",
      "2022-11-30 11:05:29,233-[INFO]- dropbox:474 -> Request to files/upload\n",
      "2022-11-30 11:05:30,937-[INFO]- dropbox:390 -> Refreshing access token.\n",
      "2022-11-30 11:05:31,163-[INFO]- dropbox:474 -> Request to files/upload\n",
      "2022-11-30 11:05:32,173-[INFO]- dropbox:390 -> Refreshing access token.\n",
      "2022-11-30 11:05:32,396-[INFO]- dropbox:474 -> Request to files/upload\n",
      "2022-11-30 11:05:33,354-[INFO]- dropbox:390 -> Refreshing access token.\n",
      "2022-11-30 11:05:33,576-[INFO]- dropbox:474 -> Request to files/upload\n",
      "DATA/PRINCE\n",
      "2022-11-30 11:05:34,401-[INFO]- dropbox:390 -> Refreshing access token.\n",
      "2022-11-30 11:05:34,627-[INFO]- dropbox:474 -> Request to files/upload\n",
      "2022-11-30 11:05:36,218-[INFO]- dropbox:390 -> Refreshing access token.\n",
      "2022-11-30 11:05:36,443-[INFO]- dropbox:474 -> Request to files/upload\n",
      "2022-11-30 11:05:37,505-[INFO]- dropbox:390 -> Refreshing access token.\n",
      "2022-11-30 11:05:37,745-[INFO]- dropbox:474 -> Request to files/upload\n",
      "2022-11-30 11:05:38,942-[INFO]- dropbox:390 -> Refreshing access token.\n",
      "2022-11-30 11:05:39,191-[INFO]- dropbox:474 -> Request to files/upload\n",
      "DATA/PRINCE\n",
      "2022-11-30 11:05:39,987-[INFO]- dropbox:390 -> Refreshing access token.\n",
      "2022-11-30 11:05:40,220-[INFO]- dropbox:474 -> Request to files/upload\n",
      "2022-11-30 11:05:41,734-[INFO]- dropbox:390 -> Refreshing access token.\n",
      "2022-11-30 11:05:41,956-[INFO]- dropbox:474 -> Request to files/upload\n",
      "2022-11-30 11:05:43,107-[INFO]- dropbox:390 -> Refreshing access token.\n",
      "2022-11-30 11:05:43,331-[INFO]- dropbox:474 -> Request to files/upload\n",
      "2022-11-30 11:05:44,259-[INFO]- dropbox:390 -> Refreshing access token.\n",
      "2022-11-30 11:05:44,495-[INFO]- dropbox:474 -> Request to files/upload\n",
      "DATA/PRINCE\n",
      "2022-11-30 11:05:45,555-[INFO]- dropbox:390 -> Refreshing access token.\n",
      "2022-11-30 11:05:45,784-[INFO]- dropbox:474 -> Request to files/upload\n",
      "2022-11-30 11:05:47,412-[INFO]- dropbox:390 -> Refreshing access token.\n",
      "2022-11-30 11:05:47,636-[INFO]- dropbox:474 -> Request to files/upload\n",
      "2022-11-30 11:05:49,100-[INFO]- dropbox:390 -> Refreshing access token.\n",
      "2022-11-30 11:05:49,317-[INFO]- dropbox:474 -> Request to files/upload\n",
      "2022-11-30 11:05:50,286-[INFO]- dropbox:390 -> Refreshing access token.\n",
      "2022-11-30 11:05:50,564-[INFO]- dropbox:474 -> Request to files/upload\n",
      "DATA/PRINCE\n",
      "2022-11-30 11:05:51,574-[INFO]- dropbox:390 -> Refreshing access token.\n",
      "2022-11-30 11:05:51,813-[INFO]- dropbox:474 -> Request to files/upload\n",
      "2022-11-30 11:05:53,292-[INFO]- dropbox:390 -> Refreshing access token.\n",
      "2022-11-30 11:05:53,676-[INFO]- dropbox:474 -> Request to files/upload\n",
      "2022-11-30 11:05:54,581-[INFO]- dropbox:390 -> Refreshing access token.\n",
      "2022-11-30 11:05:54,805-[INFO]- dropbox:474 -> Request to files/upload\n",
      "2022-11-30 11:05:55,745-[INFO]- dropbox:390 -> Refreshing access token.\n",
      "2022-11-30 11:05:55,984-[INFO]- dropbox:474 -> Request to files/upload\n",
      "DATA/PRINCE\n",
      "2022-11-30 11:05:56,862-[INFO]- dropbox:390 -> Refreshing access token.\n",
      "2022-11-30 11:05:57,098-[INFO]- dropbox:474 -> Request to files/upload\n",
      "2022-11-30 11:05:58,754-[INFO]- dropbox:390 -> Refreshing access token.\n",
      "2022-11-30 11:05:58,988-[INFO]- dropbox:474 -> Request to files/upload\n",
      "2022-11-30 11:06:00,028-[INFO]- dropbox:390 -> Refreshing access token.\n",
      "2022-11-30 11:06:00,261-[INFO]- dropbox:474 -> Request to files/upload\n",
      "2022-11-30 11:06:01,416-[INFO]- dropbox:390 -> Refreshing access token.\n",
      "2022-11-30 11:06:01,646-[INFO]- dropbox:474 -> Request to files/upload\n",
      "DATA/PRINCE\n",
      "2022-11-30 11:06:03,491-[INFO]- dropbox:390 -> Refreshing access token.\n",
      "2022-11-30 11:06:03,738-[INFO]- dropbox:474 -> Request to files/upload\n",
      "2022-11-30 11:06:05,148-[INFO]- dropbox:390 -> Refreshing access token.\n",
      "2022-11-30 11:06:05,376-[INFO]- dropbox:474 -> Request to files/upload\n",
      "2022-11-30 11:06:06,359-[INFO]- dropbox:390 -> Refreshing access token.\n",
      "2022-11-30 11:06:06,589-[INFO]- dropbox:474 -> Request to files/upload\n",
      "2022-11-30 11:06:07,662-[INFO]- dropbox:390 -> Refreshing access token.\n",
      "2022-11-30 11:06:07,899-[INFO]- dropbox:474 -> Request to files/upload\n",
      "DATA/PRINCE\n",
      "2022-11-30 11:06:08,896-[INFO]- dropbox:390 -> Refreshing access token.\n",
      "2022-11-30 11:06:09,125-[INFO]- dropbox:474 -> Request to files/upload\n",
      "2022-11-30 11:06:10,518-[INFO]- dropbox:390 -> Refreshing access token.\n",
      "2022-11-30 11:06:10,788-[INFO]- dropbox:474 -> Request to files/upload\n",
      "2022-11-30 11:06:11,847-[INFO]- dropbox:390 -> Refreshing access token.\n",
      "2022-11-30 11:06:12,086-[INFO]- dropbox:474 -> Request to files/upload\n",
      "2022-11-30 11:06:13,516-[INFO]- dropbox:390 -> Refreshing access token.\n",
      "2022-11-30 11:06:13,754-[INFO]- dropbox:474 -> Request to files/upload\n",
      "DATA/PRINCE\n",
      "2022-11-30 11:06:15,264-[INFO]- dropbox:390 -> Refreshing access token.\n",
      "2022-11-30 11:06:15,488-[INFO]- dropbox:474 -> Request to files/upload\n",
      "2022-11-30 11:06:16,843-[INFO]- dropbox:390 -> Refreshing access token.\n",
      "2022-11-30 11:06:17,074-[INFO]- dropbox:474 -> Request to files/upload\n",
      "2022-11-30 11:06:18,221-[INFO]- dropbox:390 -> Refreshing access token.\n",
      "2022-11-30 11:06:18,467-[INFO]- dropbox:474 -> Request to files/upload\n",
      "2022-11-30 11:06:19,278-[INFO]- dropbox:390 -> Refreshing access token.\n",
      "2022-11-30 11:06:19,514-[INFO]- dropbox:474 -> Request to files/upload\n",
      "DATA/PRINCE\n",
      "2022-11-30 11:06:20,892-[INFO]- dropbox:390 -> Refreshing access token.\n",
      "2022-11-30 11:06:21,121-[INFO]- dropbox:474 -> Request to files/upload\n",
      "2022-11-30 11:06:22,756-[INFO]- dropbox:390 -> Refreshing access token.\n",
      "2022-11-30 11:06:23,013-[INFO]- dropbox:474 -> Request to files/upload\n",
      "2022-11-30 11:06:24,232-[INFO]- dropbox:390 -> Refreshing access token.\n",
      "2022-11-30 11:06:24,462-[INFO]- dropbox:474 -> Request to files/upload\n",
      "2022-11-30 11:06:25,565-[INFO]- dropbox:390 -> Refreshing access token.\n",
      "2022-11-30 11:06:25,809-[INFO]- dropbox:474 -> Request to files/upload\n",
      "DATA/PRINCE\n",
      "2022-11-30 11:06:26,614-[INFO]- dropbox:390 -> Refreshing access token.\n",
      "2022-11-30 11:06:27,565-[INFO]- dropbox:474 -> Request to files/upload\n",
      "2022-11-30 11:06:29,206-[INFO]- dropbox:390 -> Refreshing access token.\n",
      "2022-11-30 11:06:29,465-[INFO]- dropbox:474 -> Request to files/upload\n",
      "2022-11-30 11:06:30,431-[INFO]- dropbox:390 -> Refreshing access token.\n",
      "2022-11-30 11:06:30,678-[INFO]- dropbox:474 -> Request to files/upload\n",
      "2022-11-30 11:06:31,861-[INFO]- dropbox:390 -> Refreshing access token.\n",
      "2022-11-30 11:06:32,087-[INFO]- dropbox:474 -> Request to files/upload\n",
      "DATA/PRINCE\n",
      "2022-11-30 11:06:33,003-[INFO]- dropbox:390 -> Refreshing access token.\n",
      "2022-11-30 11:06:33,255-[INFO]- dropbox:474 -> Request to files/upload\n",
      "2022-11-30 11:06:34,835-[INFO]- dropbox:390 -> Refreshing access token.\n",
      "2022-11-30 11:06:35,081-[INFO]- dropbox:474 -> Request to files/upload\n",
      "2022-11-30 11:06:36,238-[INFO]- dropbox:390 -> Refreshing access token.\n",
      "2022-11-30 11:06:36,556-[INFO]- dropbox:474 -> Request to files/upload\n",
      "2022-11-30 11:06:37,646-[INFO]- dropbox:390 -> Refreshing access token.\n",
      "2022-11-30 11:06:37,886-[INFO]- dropbox:474 -> Request to files/upload\n",
      "DATA/PRINCE\n",
      "2022-11-30 11:06:39,226-[INFO]- dropbox:390 -> Refreshing access token.\n",
      "2022-11-30 11:06:39,470-[INFO]- dropbox:474 -> Request to files/upload\n",
      "2022-11-30 11:06:41,033-[INFO]- dropbox:390 -> Refreshing access token.\n",
      "2022-11-30 11:06:41,262-[INFO]- dropbox:474 -> Request to files/upload\n",
      "2022-11-30 11:06:42,193-[INFO]- dropbox:390 -> Refreshing access token.\n",
      "2022-11-30 11:06:42,419-[INFO]- dropbox:474 -> Request to files/upload\n",
      "2022-11-30 11:06:43,553-[INFO]- dropbox:390 -> Refreshing access token.\n",
      "2022-11-30 11:06:43,793-[INFO]- dropbox:474 -> Request to files/upload\n",
      "DATA/PRINCE\n",
      "2022-11-30 11:06:44,759-[INFO]- dropbox:390 -> Refreshing access token.\n",
      "2022-11-30 11:06:44,989-[INFO]- dropbox:474 -> Request to files/upload\n",
      "2022-11-30 11:06:46,385-[INFO]- dropbox:390 -> Refreshing access token.\n",
      "2022-11-30 11:06:46,617-[INFO]- dropbox:474 -> Request to files/upload\n",
      "2022-11-30 11:06:47,952-[INFO]- dropbox:390 -> Refreshing access token.\n",
      "2022-11-30 11:06:48,210-[INFO]- dropbox:474 -> Request to files/upload\n",
      "2022-11-30 11:06:49,214-[INFO]- dropbox:390 -> Refreshing access token.\n",
      "2022-11-30 11:06:49,437-[INFO]- dropbox:474 -> Request to files/upload\n",
      "DATA/PRINCE\n",
      "2022-11-30 11:06:50,300-[INFO]- dropbox:390 -> Refreshing access token.\n",
      "2022-11-30 11:06:50,528-[INFO]- dropbox:474 -> Request to files/upload\n",
      "2022-11-30 11:06:51,979-[INFO]- dropbox:390 -> Refreshing access token.\n",
      "2022-11-30 11:06:52,216-[INFO]- dropbox:474 -> Request to files/upload\n",
      "2022-11-30 11:06:53,173-[INFO]- dropbox:390 -> Refreshing access token.\n",
      "2022-11-30 11:06:53,408-[INFO]- dropbox:474 -> Request to files/upload\n",
      "2022-11-30 11:06:54,243-[INFO]- dropbox:390 -> Refreshing access token.\n",
      "2022-11-30 11:06:54,461-[INFO]- dropbox:474 -> Request to files/upload\n",
      "DATA/PRINCE\n",
      "2022-11-30 11:06:55,582-[INFO]- dropbox:390 -> Refreshing access token.\n",
      "2022-11-30 11:06:55,817-[INFO]- dropbox:474 -> Request to files/upload\n",
      "2022-11-30 11:06:57,402-[INFO]- dropbox:390 -> Refreshing access token.\n",
      "2022-11-30 11:06:57,652-[INFO]- dropbox:474 -> Request to files/upload\n",
      "2022-11-30 11:06:58,959-[INFO]- dropbox:390 -> Refreshing access token.\n",
      "2022-11-30 11:06:59,886-[INFO]- dropbox:474 -> Request to files/upload\n",
      "2022-11-30 11:07:00,868-[INFO]- dropbox:390 -> Refreshing access token.\n",
      "2022-11-30 11:07:01,106-[INFO]- dropbox:474 -> Request to files/upload\n",
      "DATA/PRINCE\n",
      "2022-11-30 11:07:02,102-[INFO]- dropbox:390 -> Refreshing access token.\n",
      "2022-11-30 11:07:02,328-[INFO]- dropbox:474 -> Request to files/upload\n",
      "2022-11-30 11:07:04,473-[INFO]- dropbox:390 -> Refreshing access token.\n",
      "2022-11-30 11:07:04,706-[INFO]- dropbox:474 -> Request to files/upload\n",
      "2022-11-30 11:07:05,732-[INFO]- dropbox:390 -> Refreshing access token.\n",
      "2022-11-30 11:07:05,965-[INFO]- dropbox:474 -> Request to files/upload\n",
      "2022-11-30 11:07:06,956-[INFO]- dropbox:390 -> Refreshing access token.\n",
      "2022-11-30 11:07:07,183-[INFO]- dropbox:474 -> Request to files/upload\n",
      "DATA/PRINCE\n",
      "2022-11-30 11:07:08,225-[INFO]- dropbox:390 -> Refreshing access token.\n",
      "2022-11-30 11:07:08,449-[INFO]- dropbox:474 -> Request to files/upload\n",
      "2022-11-30 11:07:09,902-[INFO]- dropbox:390 -> Refreshing access token.\n",
      "2022-11-30 11:07:10,150-[INFO]- dropbox:474 -> Request to files/upload\n",
      "2022-11-30 11:07:11,178-[INFO]- dropbox:390 -> Refreshing access token.\n",
      "2022-11-30 11:07:11,424-[INFO]- dropbox:474 -> Request to files/upload\n",
      "2022-11-30 11:07:12,376-[INFO]- dropbox:390 -> Refreshing access token.\n",
      "2022-11-30 11:07:12,607-[INFO]- dropbox:474 -> Request to files/upload\n",
      "DATA/PRINCE\n",
      "2022-11-30 11:07:13,603-[INFO]- dropbox:390 -> Refreshing access token.\n",
      "2022-11-30 11:07:13,836-[INFO]- dropbox:474 -> Request to files/upload\n",
      "2022-11-30 11:07:15,502-[INFO]- dropbox:390 -> Refreshing access token.\n",
      "2022-11-30 11:07:15,737-[INFO]- dropbox:474 -> Request to files/upload\n",
      "2022-11-30 11:07:16,679-[INFO]- dropbox:390 -> Refreshing access token.\n",
      "2022-11-30 11:07:16,922-[INFO]- dropbox:474 -> Request to files/upload\n",
      "2022-11-30 11:07:17,966-[INFO]- dropbox:390 -> Refreshing access token.\n",
      "2022-11-30 11:07:18,238-[INFO]- dropbox:474 -> Request to files/upload\n",
      "DATA/PRINCE\n",
      "2022-11-30 11:07:19,526-[INFO]- dropbox:390 -> Refreshing access token.\n",
      "2022-11-30 11:07:19,802-[INFO]- dropbox:474 -> Request to files/upload\n",
      "2022-11-30 11:07:27,257-[INFO]- dropbox:390 -> Refreshing access token.\n",
      "2022-11-30 11:07:27,481-[INFO]- dropbox:474 -> Request to files/upload\n",
      "2022-11-30 11:07:28,546-[INFO]- dropbox:390 -> Refreshing access token.\n",
      "2022-11-30 11:07:28,788-[INFO]- dropbox:474 -> Request to files/upload\n",
      "2022-11-30 11:07:29,673-[INFO]- dropbox:390 -> Refreshing access token.\n",
      "2022-11-30 11:07:29,942-[INFO]- dropbox:474 -> Request to files/upload\n",
      "DATA/PRINCE\n",
      "2022-11-30 11:07:30,981-[INFO]- dropbox:390 -> Refreshing access token.\n",
      "2022-11-30 11:07:31,247-[INFO]- dropbox:474 -> Request to files/upload\n",
      "2022-11-30 11:07:32,850-[INFO]- dropbox:390 -> Refreshing access token.\n",
      "2022-11-30 11:07:33,071-[INFO]- dropbox:474 -> Request to files/upload\n",
      "2022-11-30 11:07:34,271-[INFO]- dropbox:390 -> Refreshing access token.\n",
      "2022-11-30 11:07:34,504-[INFO]- dropbox:474 -> Request to files/upload\n",
      "2022-11-30 11:07:35,711-[INFO]- dropbox:390 -> Refreshing access token.\n",
      "2022-11-30 11:07:35,935-[INFO]- dropbox:474 -> Request to files/upload\n",
      "DATA/PRINCE\n",
      "2022-11-30 11:07:36,806-[INFO]- dropbox:390 -> Refreshing access token.\n",
      "2022-11-30 11:07:37,028-[INFO]- dropbox:474 -> Request to files/upload\n",
      "2022-11-30 11:07:38,378-[INFO]- dropbox:390 -> Refreshing access token.\n",
      "2022-11-30 11:07:38,621-[INFO]- dropbox:474 -> Request to files/upload\n",
      "2022-11-30 11:07:39,526-[INFO]- dropbox:390 -> Refreshing access token.\n",
      "2022-11-30 11:07:39,776-[INFO]- dropbox:474 -> Request to files/upload\n",
      "2022-11-30 11:07:40,715-[INFO]- dropbox:390 -> Refreshing access token.\n",
      "2022-11-30 11:07:40,953-[INFO]- dropbox:474 -> Request to files/upload\n"
     ]
    }
   ],
   "source": [
    "from amftrack.util.dbx import upload_folder\n",
    "\n",
    "update_analysis_info(directory_targ)\n",
    "analysis_info = get_analysis_info(directory_targ)\n",
    "analysis_folders = analysis_info.loc[analysis_info[\"unique_id\"].isin(plates)]\n",
    "dir_drop = \"DATA/PRINCE\"\n",
    "\n",
    "for index, row in analysis_folders.iterrows():\n",
    "    folder = row[\"folder_analysis\"]\n",
    "    id_unique = row[\"unique_id\"]\n",
    "    path = os.path.join(directory_targ, folder)\n",
    "    target_drop = f\"/{dir_drop}/{id_unique}/{folder}\"\n",
    "    print(dir_drop)\n",
    "    upload_folder(path, target_drop, delete=False)"
   ]
  },
  {
   "cell_type": "code",
   "execution_count": 16,
   "id": "1e9a1654-a956-44a2-ab19-9d0958bcf56e",
   "metadata": {
    "collapsed": true,
    "jupyter": {
     "outputs_hidden": true
    },
    "tags": []
   },
   "outputs": [
    {
     "name": "stdout",
     "output_type": "stream",
     "text": [
      "/projects/0/einf914/data/Analysis_101_20220921_200_Version1/folder_info.json\n",
      "/projects/0/einf914/data/Analysis_42_20220920_200_Version1/folder_info.json\n",
      "/projects/0/einf914/data/Analysis_39_20220920_200_Version1/folder_info.json\n",
      "/projects/0/einf914/data/Analysis_108_20220921_200_Version1/folder_info.json\n",
      "/projects/0/einf914/data/Analysis_67_20220921_200_Version1/folder_info.json\n",
      "/projects/0/einf914/data/Analysis_56_20220921_200_Version1/folder_info.json\n",
      "/projects/0/einf914/data/Analysis_50_20220920_200_Version1/folder_info.json\n",
      "/projects/0/einf914/data/Analysis_23_20220920_200_Version1/folder_info.json\n",
      "/projects/0/einf914/data/Analysis_21_20220920_200_Version1/folder_info.json\n",
      "/projects/0/einf914/data/Analysis_100_20220921_200_Version1/folder_info.json\n",
      "/projects/0/einf914/data/Analysis_99_20220921_200_Version1/folder_info.json\n",
      "/projects/0/einf914/data/Analysis_82_20220920_200_Version1/folder_info.json\n",
      "/projects/0/einf914/data/Analysis_61_20220921_200_Version1/folder_info.json\n",
      "/projects/0/einf914/data/Analysis_31_20220921_200_Version1/folder_info.json\n",
      "/projects/0/einf914/data/Analysis_40_20220920_200_Version1/folder_info.json\n",
      "/projects/0/einf914/data/Analysis_102_20220921_200_Version1/folder_info.json\n",
      "/projects/0/einf914/data/Analysis_2_20220920_200_Version1/folder_info.json\n",
      "/projects/0/einf914/data/Analysis_78_20220920_200_Version1/folder_info.json\n",
      "/projects/0/einf914/data/Analysis_62_20220921_200_Version1/folder_info.json\n",
      "/projects/0/einf914/data/Analysis_13_20220921_200_Version1/folder_info.json\n",
      "/projects/0/einf914/data/Analysis_45_20220920_200_Version1/folder_info.json\n",
      "/projects/0/einf914/data/Analysis_97_20220921_200_Version1/folder_info.json\n",
      "/projects/0/einf914/data/Analysis_76_20220920_200_Version1/folder_info.json\n",
      "/projects/0/einf914/data/Analysis_105_20220921_200_Version1/folder_info.json\n",
      "/projects/0/einf914/data/Analysis_86_20220921_200_Version1/folder_info.json\n",
      "/projects/0/einf914/data/Analysis_91_20220921_200_Version1/folder_info.json\n",
      "/projects/0/einf914/data/Analysis_83_20220920_200_Version1/folder_info.json\n",
      "/projects/0/einf914/data/Analysis_98_20220921_200_Version1/folder_info.json\n",
      "/projects/0/einf914/data/Analysis_6_20220920_200_Version1/folder_info.json\n",
      "/projects/0/einf914/data/Analysis_73_20220920_200_Version1/folder_info.json\n",
      "/projects/0/einf914/data/Analysis_96_20220921_200_Version1/folder_info.json\n",
      "/projects/0/einf914/data/Analysis_48_20220920_200_Version1/folder_info.json\n",
      "/projects/0/einf914/data/Analysis_66_20220921_200_Version1/folder_info.json\n",
      "/projects/0/einf914/data/Analysis_92_20220921_200_Version1/folder_info.json\n",
      "/projects/0/einf914/data/Analysis_18_20220921_200_Version1/folder_info.json\n",
      "/projects/0/einf914/data/Analysis_63_20220921_200_Version1/folder_info.json\n",
      "/projects/0/einf914/data/Analysis_57_20220921_200_Version1/folder_info.json\n",
      "/projects/0/einf914/data/Analysis_22_20220920_200_Version1/folder_info.json\n",
      "/projects/0/einf914/data/Analysis_95_20220921_200_Version1/folder_info.json\n",
      "/projects/0/einf914/data/Analysis_106_20220921_200_Version1/folder_info.json\n",
      "/projects/0/einf914/data/Analysis_41_20220920_200_Version1/folder_info.json\n",
      "/projects/0/einf914/data/Analysis_90_20220921_200_Version1/folder_info.json\n",
      "/projects/0/einf914/data/Analysis_77_20220920_200_Version1/folder_info.json\n",
      "Submitted batch job 1867718\n"
     ]
    }
   ],
   "source": [
    "from amftrack.pipeline.functions.post_processing.exp_plot import *\n",
    "from amftrack.pipeline.launching.run_super import run_parallel_post\n",
    "\n",
    "name_job = \"malin\"\n",
    "time = \"1:00:00\"\n",
    "list_f = [plot_tracking]\n",
    "update_analysis_info(directory_targ)\n",
    "analysis_info = get_analysis_info(directory_targ)\n",
    "analysis_folders = analysis_info.loc[analysis_info[\"unique_id\"].isin(plates)]\n",
    "directory = directory_targ\n",
    "list_args = [[]] * len(list_f)\n",
    "overwrite = True\n",
    "num_parallel = 100\n",
    "run_parallel_post(\n",
    "    \"exp_plot.py\",\n",
    "    list_f,\n",
    "    list_args,\n",
    "    [directory, overwrite],\n",
    "    analysis_folders,\n",
    "    num_parallel,\n",
    "    time,\n",
    "    \"global_plate_post_process\",\n",
    "    cpus=128,\n",
    "    name_job=name_job,\n",
    "    node=\"fat\",\n",
    ")"
   ]
  },
  {
   "cell_type": "code",
   "execution_count": 15,
   "id": "614f4ffb-73dc-4653-a6dd-51a04dac7d34",
   "metadata": {
    "collapsed": true,
    "jupyter": {
     "outputs_hidden": true
    },
    "tags": []
   },
   "outputs": [
    {
     "name": "stdout",
     "output_type": "stream",
     "text": [
      "/projects/0/einf914/data/Analysis_101_20220921_200_Version1/folder_info.json\n",
      "/projects/0/einf914/data/Analysis_42_20220920_200_Version1/folder_info.json\n",
      "/projects/0/einf914/data/Analysis_39_20220920_200_Version1/folder_info.json\n",
      "/projects/0/einf914/data/Analysis_108_20220921_200_Version1/folder_info.json\n",
      "/projects/0/einf914/data/Analysis_67_20220921_200_Version1/folder_info.json\n",
      "/projects/0/einf914/data/Analysis_56_20220921_200_Version1/folder_info.json\n",
      "/projects/0/einf914/data/Analysis_50_20220920_200_Version1/folder_info.json\n",
      "/projects/0/einf914/data/Analysis_23_20220920_200_Version1/folder_info.json\n",
      "/projects/0/einf914/data/Analysis_21_20220920_200_Version1/folder_info.json\n",
      "/projects/0/einf914/data/Analysis_100_20220921_200_Version1/folder_info.json\n",
      "/projects/0/einf914/data/Analysis_99_20220921_200_Version1/folder_info.json\n",
      "/projects/0/einf914/data/Analysis_82_20220920_200_Version1/folder_info.json\n",
      "/projects/0/einf914/data/Analysis_61_20220921_200_Version1/folder_info.json\n",
      "/projects/0/einf914/data/Analysis_31_20220921_200_Version1/folder_info.json\n",
      "/projects/0/einf914/data/Analysis_40_20220920_200_Version1/folder_info.json\n",
      "/projects/0/einf914/data/Analysis_102_20220921_200_Version1/folder_info.json\n",
      "/projects/0/einf914/data/Analysis_2_20220920_200_Version1/folder_info.json\n",
      "/projects/0/einf914/data/Analysis_78_20220920_200_Version1/folder_info.json\n",
      "/projects/0/einf914/data/Analysis_62_20220921_200_Version1/folder_info.json\n",
      "/projects/0/einf914/data/Analysis_13_20220921_200_Version1/folder_info.json\n",
      "/projects/0/einf914/data/Analysis_45_20220920_200_Version1/folder_info.json\n",
      "/projects/0/einf914/data/Analysis_97_20220921_200_Version1/folder_info.json\n",
      "/projects/0/einf914/data/Analysis_76_20220920_200_Version1/folder_info.json\n",
      "/projects/0/einf914/data/Analysis_105_20220921_200_Version1/folder_info.json\n",
      "/projects/0/einf914/data/Analysis_86_20220921_200_Version1/folder_info.json\n",
      "/projects/0/einf914/data/Analysis_91_20220921_200_Version1/folder_info.json\n",
      "/projects/0/einf914/data/Analysis_83_20220920_200_Version1/folder_info.json\n",
      "/projects/0/einf914/data/Analysis_98_20220921_200_Version1/folder_info.json\n",
      "/projects/0/einf914/data/Analysis_6_20220920_200_Version1/folder_info.json\n",
      "/projects/0/einf914/data/Analysis_73_20220920_200_Version1/folder_info.json\n",
      "/projects/0/einf914/data/Analysis_96_20220921_200_Version1/folder_info.json\n",
      "/projects/0/einf914/data/Analysis_48_20220920_200_Version1/folder_info.json\n",
      "/projects/0/einf914/data/Analysis_66_20220921_200_Version1/folder_info.json\n",
      "/projects/0/einf914/data/Analysis_92_20220921_200_Version1/folder_info.json\n",
      "/projects/0/einf914/data/Analysis_18_20220921_200_Version1/folder_info.json\n",
      "/projects/0/einf914/data/Analysis_63_20220921_200_Version1/folder_info.json\n",
      "/projects/0/einf914/data/Analysis_57_20220921_200_Version1/folder_info.json\n",
      "/projects/0/einf914/data/Analysis_22_20220920_200_Version1/folder_info.json\n",
      "/projects/0/einf914/data/Analysis_95_20220921_200_Version1/folder_info.json\n",
      "/projects/0/einf914/data/Analysis_106_20220921_200_Version1/folder_info.json\n",
      "/projects/0/einf914/data/Analysis_41_20220920_200_Version1/folder_info.json\n",
      "/projects/0/einf914/data/Analysis_90_20220921_200_Version1/folder_info.json\n",
      "/projects/0/einf914/data/Analysis_77_20220920_200_Version1/folder_info.json\n"
     ]
    },
    {
     "name": "stderr",
     "output_type": "stream",
     "text": [
      "sbatch: Single-node jobs run on a shared node by default. Add --exclusive if you want to use a node exclusively.\n",
      "sbatch: You will be charged for 0.25 node. A full node consists of 128 CPU cores, 983040 MiB of memory and 0 GPUs and can be shared by up to 4 jobs.\n"
     ]
    },
    {
     "name": "stdout",
     "output_type": "stream",
     "text": [
      "Submitted batch job 1867673\n",
      "Submitted batch job 1867674\n"
     ]
    },
    {
     "name": "stderr",
     "output_type": "stream",
     "text": [
      "sbatch: Single-node jobs run on a shared node by default. Add --exclusive if you want to use a node exclusively.\n",
      "sbatch: You will be charged for 0.25 node. A full node consists of 128 CPU cores, 983040 MiB of memory and 0 GPUs and can be shared by up to 4 jobs.\n",
      "sbatch: Single-node jobs run on a shared node by default. Add --exclusive if you want to use a node exclusively.\n",
      "sbatch: You will be charged for 0.25 node. A full node consists of 128 CPU cores, 983040 MiB of memory and 0 GPUs and can be shared by up to 4 jobs.\n"
     ]
    },
    {
     "name": "stdout",
     "output_type": "stream",
     "text": [
      "Submitted batch job 1867676\n"
     ]
    },
    {
     "name": "stderr",
     "output_type": "stream",
     "text": [
      "sbatch: Single-node jobs run on a shared node by default. Add --exclusive if you want to use a node exclusively.\n",
      "sbatch: You will be charged for 0.25 node. A full node consists of 128 CPU cores, 983040 MiB of memory and 0 GPUs and can be shared by up to 4 jobs.\n"
     ]
    },
    {
     "name": "stdout",
     "output_type": "stream",
     "text": [
      "Submitted batch job 1867677\n"
     ]
    },
    {
     "name": "stderr",
     "output_type": "stream",
     "text": [
      "sbatch: Single-node jobs run on a shared node by default. Add --exclusive if you want to use a node exclusively.\n",
      "sbatch: You will be charged for 0.25 node. A full node consists of 128 CPU cores, 983040 MiB of memory and 0 GPUs and can be shared by up to 4 jobs.\n"
     ]
    },
    {
     "name": "stdout",
     "output_type": "stream",
     "text": [
      "Submitted batch job 1867678\n"
     ]
    },
    {
     "name": "stderr",
     "output_type": "stream",
     "text": [
      "sbatch: Single-node jobs run on a shared node by default. Add --exclusive if you want to use a node exclusively.\n",
      "sbatch: You will be charged for 0.25 node. A full node consists of 128 CPU cores, 983040 MiB of memory and 0 GPUs and can be shared by up to 4 jobs.\n"
     ]
    },
    {
     "name": "stdout",
     "output_type": "stream",
     "text": [
      "Submitted batch job 1867679\n"
     ]
    },
    {
     "name": "stderr",
     "output_type": "stream",
     "text": [
      "sbatch: Single-node jobs run on a shared node by default. Add --exclusive if you want to use a node exclusively.\n",
      "sbatch: You will be charged for 0.25 node. A full node consists of 128 CPU cores, 983040 MiB of memory and 0 GPUs and can be shared by up to 4 jobs.\n"
     ]
    },
    {
     "name": "stdout",
     "output_type": "stream",
     "text": [
      "Submitted batch job 1867680\n"
     ]
    },
    {
     "name": "stderr",
     "output_type": "stream",
     "text": [
      "sbatch: Single-node jobs run on a shared node by default. Add --exclusive if you want to use a node exclusively.\n",
      "sbatch: You will be charged for 0.25 node. A full node consists of 128 CPU cores, 983040 MiB of memory and 0 GPUs and can be shared by up to 4 jobs.\n"
     ]
    },
    {
     "name": "stdout",
     "output_type": "stream",
     "text": [
      "Submitted batch job 1867681\n"
     ]
    },
    {
     "name": "stderr",
     "output_type": "stream",
     "text": [
      "sbatch: Single-node jobs run on a shared node by default. Add --exclusive if you want to use a node exclusively.\n",
      "sbatch: You will be charged for 0.25 node. A full node consists of 128 CPU cores, 983040 MiB of memory and 0 GPUs and can be shared by up to 4 jobs.\n"
     ]
    },
    {
     "name": "stdout",
     "output_type": "stream",
     "text": [
      "Submitted batch job 1867682\n"
     ]
    },
    {
     "name": "stderr",
     "output_type": "stream",
     "text": [
      "sbatch: Single-node jobs run on a shared node by default. Add --exclusive if you want to use a node exclusively.\n",
      "sbatch: You will be charged for 0.25 node. A full node consists of 128 CPU cores, 983040 MiB of memory and 0 GPUs and can be shared by up to 4 jobs.\n"
     ]
    },
    {
     "name": "stdout",
     "output_type": "stream",
     "text": [
      "Submitted batch job 1867683\n"
     ]
    },
    {
     "name": "stderr",
     "output_type": "stream",
     "text": [
      "sbatch: Single-node jobs run on a shared node by default. Add --exclusive if you want to use a node exclusively.\n",
      "sbatch: You will be charged for 0.25 node. A full node consists of 128 CPU cores, 983040 MiB of memory and 0 GPUs and can be shared by up to 4 jobs.\n"
     ]
    },
    {
     "name": "stdout",
     "output_type": "stream",
     "text": [
      "Submitted batch job 1867684\n"
     ]
    },
    {
     "name": "stderr",
     "output_type": "stream",
     "text": [
      "sbatch: Single-node jobs run on a shared node by default. Add --exclusive if you want to use a node exclusively.\n",
      "sbatch: You will be charged for 0.25 node. A full node consists of 128 CPU cores, 983040 MiB of memory and 0 GPUs and can be shared by up to 4 jobs.\n"
     ]
    },
    {
     "name": "stdout",
     "output_type": "stream",
     "text": [
      "Submitted batch job 1867685\n"
     ]
    },
    {
     "name": "stderr",
     "output_type": "stream",
     "text": [
      "sbatch: Single-node jobs run on a shared node by default. Add --exclusive if you want to use a node exclusively.\n",
      "sbatch: You will be charged for 0.25 node. A full node consists of 128 CPU cores, 983040 MiB of memory and 0 GPUs and can be shared by up to 4 jobs.\n"
     ]
    },
    {
     "name": "stdout",
     "output_type": "stream",
     "text": [
      "Submitted batch job 1867686\n"
     ]
    },
    {
     "name": "stderr",
     "output_type": "stream",
     "text": [
      "sbatch: Single-node jobs run on a shared node by default. Add --exclusive if you want to use a node exclusively.\n",
      "sbatch: You will be charged for 0.25 node. A full node consists of 128 CPU cores, 983040 MiB of memory and 0 GPUs and can be shared by up to 4 jobs.\n"
     ]
    },
    {
     "name": "stdout",
     "output_type": "stream",
     "text": [
      "Submitted batch job 1867687\n",
      "Submitted batch job 1867688\n"
     ]
    },
    {
     "name": "stderr",
     "output_type": "stream",
     "text": [
      "sbatch: Single-node jobs run on a shared node by default. Add --exclusive if you want to use a node exclusively.\n",
      "sbatch: You will be charged for 0.25 node. A full node consists of 128 CPU cores, 983040 MiB of memory and 0 GPUs and can be shared by up to 4 jobs.\n",
      "sbatch: Single-node jobs run on a shared node by default. Add --exclusive if you want to use a node exclusively.\n",
      "sbatch: You will be charged for 0.25 node. A full node consists of 128 CPU cores, 983040 MiB of memory and 0 GPUs and can be shared by up to 4 jobs.\n"
     ]
    },
    {
     "name": "stdout",
     "output_type": "stream",
     "text": [
      "Submitted batch job 1867689\n"
     ]
    },
    {
     "name": "stderr",
     "output_type": "stream",
     "text": [
      "sbatch: Single-node jobs run on a shared node by default. Add --exclusive if you want to use a node exclusively.\n",
      "sbatch: You will be charged for 0.25 node. A full node consists of 128 CPU cores, 983040 MiB of memory and 0 GPUs and can be shared by up to 4 jobs.\n"
     ]
    },
    {
     "name": "stdout",
     "output_type": "stream",
     "text": [
      "Submitted batch job 1867690\n"
     ]
    },
    {
     "name": "stderr",
     "output_type": "stream",
     "text": [
      "sbatch: Single-node jobs run on a shared node by default. Add --exclusive if you want to use a node exclusively.\n",
      "sbatch: You will be charged for 0.25 node. A full node consists of 128 CPU cores, 983040 MiB of memory and 0 GPUs and can be shared by up to 4 jobs.\n"
     ]
    },
    {
     "name": "stdout",
     "output_type": "stream",
     "text": [
      "Submitted batch job 1867691\n"
     ]
    },
    {
     "name": "stderr",
     "output_type": "stream",
     "text": [
      "sbatch: Single-node jobs run on a shared node by default. Add --exclusive if you want to use a node exclusively.\n",
      "sbatch: You will be charged for 0.25 node. A full node consists of 128 CPU cores, 983040 MiB of memory and 0 GPUs and can be shared by up to 4 jobs.\n"
     ]
    },
    {
     "name": "stdout",
     "output_type": "stream",
     "text": [
      "Submitted batch job 1867692\n"
     ]
    },
    {
     "name": "stderr",
     "output_type": "stream",
     "text": [
      "sbatch: Single-node jobs run on a shared node by default. Add --exclusive if you want to use a node exclusively.\n",
      "sbatch: You will be charged for 0.25 node. A full node consists of 128 CPU cores, 983040 MiB of memory and 0 GPUs and can be shared by up to 4 jobs.\n"
     ]
    },
    {
     "name": "stdout",
     "output_type": "stream",
     "text": [
      "Submitted batch job 1867693\n"
     ]
    },
    {
     "name": "stderr",
     "output_type": "stream",
     "text": [
      "sbatch: Single-node jobs run on a shared node by default. Add --exclusive if you want to use a node exclusively.\n",
      "sbatch: You will be charged for 0.25 node. A full node consists of 128 CPU cores, 983040 MiB of memory and 0 GPUs and can be shared by up to 4 jobs.\n"
     ]
    },
    {
     "name": "stdout",
     "output_type": "stream",
     "text": [
      "Submitted batch job 1867694\n"
     ]
    },
    {
     "name": "stderr",
     "output_type": "stream",
     "text": [
      "sbatch: Single-node jobs run on a shared node by default. Add --exclusive if you want to use a node exclusively.\n",
      "sbatch: You will be charged for 0.25 node. A full node consists of 128 CPU cores, 983040 MiB of memory and 0 GPUs and can be shared by up to 4 jobs.\n"
     ]
    },
    {
     "name": "stdout",
     "output_type": "stream",
     "text": [
      "Submitted batch job 1867695\n"
     ]
    },
    {
     "name": "stderr",
     "output_type": "stream",
     "text": [
      "sbatch: Single-node jobs run on a shared node by default. Add --exclusive if you want to use a node exclusively.\n",
      "sbatch: You will be charged for 0.25 node. A full node consists of 128 CPU cores, 983040 MiB of memory and 0 GPUs and can be shared by up to 4 jobs.\n"
     ]
    },
    {
     "name": "stdout",
     "output_type": "stream",
     "text": [
      "Submitted batch job 1867697\n"
     ]
    },
    {
     "name": "stderr",
     "output_type": "stream",
     "text": [
      "sbatch: Single-node jobs run on a shared node by default. Add --exclusive if you want to use a node exclusively.\n",
      "sbatch: You will be charged for 0.25 node. A full node consists of 128 CPU cores, 983040 MiB of memory and 0 GPUs and can be shared by up to 4 jobs.\n"
     ]
    },
    {
     "name": "stdout",
     "output_type": "stream",
     "text": [
      "Submitted batch job 1867698\n"
     ]
    },
    {
     "name": "stderr",
     "output_type": "stream",
     "text": [
      "sbatch: Single-node jobs run on a shared node by default. Add --exclusive if you want to use a node exclusively.\n",
      "sbatch: You will be charged for 0.25 node. A full node consists of 128 CPU cores, 983040 MiB of memory and 0 GPUs and can be shared by up to 4 jobs.\n"
     ]
    },
    {
     "name": "stdout",
     "output_type": "stream",
     "text": [
      "Submitted batch job 1867699\n",
      "Submitted batch job 1867700\n"
     ]
    },
    {
     "name": "stderr",
     "output_type": "stream",
     "text": [
      "sbatch: Single-node jobs run on a shared node by default. Add --exclusive if you want to use a node exclusively.\n",
      "sbatch: You will be charged for 0.25 node. A full node consists of 128 CPU cores, 983040 MiB of memory and 0 GPUs and can be shared by up to 4 jobs.\n",
      "sbatch: Single-node jobs run on a shared node by default. Add --exclusive if you want to use a node exclusively.\n",
      "sbatch: You will be charged for 0.25 node. A full node consists of 128 CPU cores, 983040 MiB of memory and 0 GPUs and can be shared by up to 4 jobs.\n"
     ]
    },
    {
     "name": "stdout",
     "output_type": "stream",
     "text": [
      "Submitted batch job 1867701\n"
     ]
    },
    {
     "name": "stderr",
     "output_type": "stream",
     "text": [
      "sbatch: Single-node jobs run on a shared node by default. Add --exclusive if you want to use a node exclusively.\n",
      "sbatch: You will be charged for 0.25 node. A full node consists of 128 CPU cores, 983040 MiB of memory and 0 GPUs and can be shared by up to 4 jobs.\n"
     ]
    },
    {
     "name": "stdout",
     "output_type": "stream",
     "text": [
      "Submitted batch job 1867702\n"
     ]
    },
    {
     "name": "stderr",
     "output_type": "stream",
     "text": [
      "sbatch: Single-node jobs run on a shared node by default. Add --exclusive if you want to use a node exclusively.\n",
      "sbatch: You will be charged for 0.25 node. A full node consists of 128 CPU cores, 983040 MiB of memory and 0 GPUs and can be shared by up to 4 jobs.\n"
     ]
    },
    {
     "name": "stdout",
     "output_type": "stream",
     "text": [
      "Submitted batch job 1867703\n"
     ]
    },
    {
     "name": "stderr",
     "output_type": "stream",
     "text": [
      "sbatch: Single-node jobs run on a shared node by default. Add --exclusive if you want to use a node exclusively.\n",
      "sbatch: You will be charged for 0.25 node. A full node consists of 128 CPU cores, 983040 MiB of memory and 0 GPUs and can be shared by up to 4 jobs.\n"
     ]
    },
    {
     "name": "stdout",
     "output_type": "stream",
     "text": [
      "Submitted batch job 1867704\n"
     ]
    },
    {
     "name": "stderr",
     "output_type": "stream",
     "text": [
      "sbatch: Single-node jobs run on a shared node by default. Add --exclusive if you want to use a node exclusively.\n",
      "sbatch: You will be charged for 0.25 node. A full node consists of 128 CPU cores, 983040 MiB of memory and 0 GPUs and can be shared by up to 4 jobs.\n"
     ]
    },
    {
     "name": "stdout",
     "output_type": "stream",
     "text": [
      "Submitted batch job 1867705\n"
     ]
    },
    {
     "name": "stderr",
     "output_type": "stream",
     "text": [
      "sbatch: Single-node jobs run on a shared node by default. Add --exclusive if you want to use a node exclusively.\n",
      "sbatch: You will be charged for 0.25 node. A full node consists of 128 CPU cores, 983040 MiB of memory and 0 GPUs and can be shared by up to 4 jobs.\n"
     ]
    },
    {
     "name": "stdout",
     "output_type": "stream",
     "text": [
      "Submitted batch job 1867706\n"
     ]
    },
    {
     "name": "stderr",
     "output_type": "stream",
     "text": [
      "sbatch: Single-node jobs run on a shared node by default. Add --exclusive if you want to use a node exclusively.\n",
      "sbatch: You will be charged for 0.25 node. A full node consists of 128 CPU cores, 983040 MiB of memory and 0 GPUs and can be shared by up to 4 jobs.\n"
     ]
    },
    {
     "name": "stdout",
     "output_type": "stream",
     "text": [
      "Submitted batch job 1867707\n"
     ]
    },
    {
     "name": "stderr",
     "output_type": "stream",
     "text": [
      "sbatch: Single-node jobs run on a shared node by default. Add --exclusive if you want to use a node exclusively.\n",
      "sbatch: You will be charged for 0.25 node. A full node consists of 128 CPU cores, 983040 MiB of memory and 0 GPUs and can be shared by up to 4 jobs.\n"
     ]
    },
    {
     "name": "stdout",
     "output_type": "stream",
     "text": [
      "Submitted batch job 1867708\n"
     ]
    },
    {
     "name": "stderr",
     "output_type": "stream",
     "text": [
      "sbatch: Single-node jobs run on a shared node by default. Add --exclusive if you want to use a node exclusively.\n",
      "sbatch: You will be charged for 0.25 node. A full node consists of 128 CPU cores, 983040 MiB of memory and 0 GPUs and can be shared by up to 4 jobs.\n"
     ]
    },
    {
     "name": "stdout",
     "output_type": "stream",
     "text": [
      "Submitted batch job 1867709\n"
     ]
    },
    {
     "name": "stderr",
     "output_type": "stream",
     "text": [
      "sbatch: Single-node jobs run on a shared node by default. Add --exclusive if you want to use a node exclusively.\n",
      "sbatch: You will be charged for 0.25 node. A full node consists of 128 CPU cores, 983040 MiB of memory and 0 GPUs and can be shared by up to 4 jobs.\n"
     ]
    },
    {
     "name": "stdout",
     "output_type": "stream",
     "text": [
      "Submitted batch job 1867710\n"
     ]
    },
    {
     "name": "stderr",
     "output_type": "stream",
     "text": [
      "sbatch: Single-node jobs run on a shared node by default. Add --exclusive if you want to use a node exclusively.\n",
      "sbatch: You will be charged for 0.25 node. A full node consists of 128 CPU cores, 983040 MiB of memory and 0 GPUs and can be shared by up to 4 jobs.\n"
     ]
    },
    {
     "name": "stdout",
     "output_type": "stream",
     "text": [
      "Submitted batch job 1867711\n"
     ]
    },
    {
     "name": "stderr",
     "output_type": "stream",
     "text": [
      "sbatch: Single-node jobs run on a shared node by default. Add --exclusive if you want to use a node exclusively.\n",
      "sbatch: You will be charged for 0.25 node. A full node consists of 128 CPU cores, 983040 MiB of memory and 0 GPUs and can be shared by up to 4 jobs.\n"
     ]
    },
    {
     "name": "stdout",
     "output_type": "stream",
     "text": [
      "Submitted batch job 1867712\n"
     ]
    },
    {
     "name": "stderr",
     "output_type": "stream",
     "text": [
      "sbatch: Single-node jobs run on a shared node by default. Add --exclusive if you want to use a node exclusively.\n",
      "sbatch: You will be charged for 0.25 node. A full node consists of 128 CPU cores, 983040 MiB of memory and 0 GPUs and can be shared by up to 4 jobs.\n"
     ]
    },
    {
     "name": "stdout",
     "output_type": "stream",
     "text": [
      "Submitted batch job 1867713\n"
     ]
    },
    {
     "name": "stderr",
     "output_type": "stream",
     "text": [
      "sbatch: Single-node jobs run on a shared node by default. Add --exclusive if you want to use a node exclusively.\n",
      "sbatch: You will be charged for 0.25 node. A full node consists of 128 CPU cores, 983040 MiB of memory and 0 GPUs and can be shared by up to 4 jobs.\n"
     ]
    },
    {
     "name": "stdout",
     "output_type": "stream",
     "text": [
      "Submitted batch job 1867714\n"
     ]
    },
    {
     "name": "stderr",
     "output_type": "stream",
     "text": [
      "sbatch: Single-node jobs run on a shared node by default. Add --exclusive if you want to use a node exclusively.\n",
      "sbatch: You will be charged for 0.25 node. A full node consists of 128 CPU cores, 983040 MiB of memory and 0 GPUs and can be shared by up to 4 jobs.\n"
     ]
    },
    {
     "name": "stdout",
     "output_type": "stream",
     "text": [
      "Submitted batch job 1867715\n"
     ]
    },
    {
     "name": "stderr",
     "output_type": "stream",
     "text": [
      "sbatch: Single-node jobs run on a shared node by default. Add --exclusive if you want to use a node exclusively.\n",
      "sbatch: You will be charged for 0.25 node. A full node consists of 128 CPU cores, 983040 MiB of memory and 0 GPUs and can be shared by up to 4 jobs.\n"
     ]
    },
    {
     "name": "stdout",
     "output_type": "stream",
     "text": [
      "Submitted batch job 1867716\n"
     ]
    },
    {
     "name": "stderr",
     "output_type": "stream",
     "text": [
      "sbatch: Single-node jobs run on a shared node by default. Add --exclusive if you want to use a node exclusively.\n",
      "sbatch: You will be charged for 0.25 node. A full node consists of 128 CPU cores, 983040 MiB of memory and 0 GPUs and can be shared by up to 4 jobs.\n"
     ]
    },
    {
     "name": "stdout",
     "output_type": "stream",
     "text": [
      "Submitted batch job 1867717\n"
     ]
    }
   ],
   "source": [
    "from amftrack.pipeline.functions.post_processing.time_hypha import *\n",
    "import pandas as pd\n",
    "import os\n",
    "\n",
    "update_analysis_info(directory_targ)\n",
    "analysis_info = get_analysis_info(directory_targ)\n",
    "analysis_folders = analysis_info.loc[analysis_info[\"unique_id\"].isin(plates)]\n",
    "list_f = [\n",
    "    get_pos_x,\n",
    "    get_pos_y,\n",
    "    get_time_since_begin_exp,\n",
    "    get_distance_final_pos,\n",
    "    get_timedelta,\n",
    "    get_time_since_start,\n",
    "    get_speed,\n",
    "    get_timestep,\n",
    "    get_timestep_init,\n",
    "    get_time_init,\n",
    "    get_degree,\n",
    "    get_width_tip_edge,\n",
    "    get_width_root_edge,\n",
    "    get_width_average,\n",
    "    get_has_reached_final_pos,\n",
    "    get_in_ROI,\n",
    "]\n",
    "# list_f = [local_density,local_density,local_density]\n",
    "# list_f = [get_time_since_begin_exp]\n",
    "# list_f = [get_width_tip_edge, get_width_root_edge]\n",
    "list_args = [{}] * len(list_f)\n",
    "# list_args= [[500],[1000],[2000]]+[[]]\n",
    "# list_args= [[500]]\n",
    "overwrite = True\n",
    "load_graphs = True\n",
    "num_parallel = 32\n",
    "time = \"10:00\"\n",
    "for index, row in analysis_folders.iterrows():\n",
    "    folder = row[\"folder_analysis\"]\n",
    "    path_time_plate_info = row[\"path_time_plate_info\"]\n",
    "    plate = row[\"Plate\"]\n",
    "    num_cpus = 32\n",
    "    if os.path.isfile(f\"{directory_targ}{path_time_plate_info}\"):\n",
    "        whole_plate_info = pd.read_json(\n",
    "            f\"{directory_targ}{path_time_plate_info}\", convert_dates=True\n",
    "        ).transpose()\n",
    "        whole_plate_info.index.name = \"t\"\n",
    "        whole_plate_info.reset_index(inplace=True)\n",
    "        run_parallel_post(\n",
    "            \"time_hypha_post_process.py\",\n",
    "            list_f,\n",
    "            list_args,\n",
    "            [directory_targ, overwrite, load_graphs],\n",
    "            whole_plate_info,\n",
    "            num_parallel,\n",
    "            time,\n",
    "            \"time_hypha_post_process\",\n",
    "            cpus=num_cpus,\n",
    "            name_job=name_job,\n",
    "            node=\"fat\",\n",
    "        )"
   ]
  },
  {
   "cell_type": "code",
   "execution_count": 36,
   "id": "6371d560-07ea-4d5a-802b-303bc66492b8",
   "metadata": {
    "tags": []
   },
   "outputs": [
    {
     "name": "stdout",
     "output_type": "stream",
     "text": [
      "Submitted batch job 1857991\n"
     ]
    },
    {
     "name": "stderr",
     "output_type": "stream",
     "text": [
      "sbatch: Single node jobs run on a shared node by default. Add --exclusive if you want to use a node exclusively.\n",
      "sbatch: You will be charged for 0.25 node. A full node consists of 128 CPU cores, 983040 MiB of memory and 0 GPUs and can be shared by up to 4 jobs.\n",
      "sbatch: Single node jobs run on a shared node by default. Add --exclusive if you want to use a node exclusively.\n",
      "sbatch: You will be charged for 0.25 node. A full node consists of 128 CPU cores, 983040 MiB of memory and 0 GPUs and can be shared by up to 4 jobs.\n"
     ]
    },
    {
     "name": "stdout",
     "output_type": "stream",
     "text": [
      "Submitted batch job 1857992\n"
     ]
    },
    {
     "name": "stderr",
     "output_type": "stream",
     "text": [
      "sbatch: Single node jobs run on a shared node by default. Add --exclusive if you want to use a node exclusively.\n",
      "sbatch: You will be charged for 0.25 node. A full node consists of 128 CPU cores, 983040 MiB of memory and 0 GPUs and can be shared by up to 4 jobs.\n"
     ]
    },
    {
     "name": "stdout",
     "output_type": "stream",
     "text": [
      "Submitted batch job 1857995\n"
     ]
    },
    {
     "name": "stderr",
     "output_type": "stream",
     "text": [
      "sbatch: Single node jobs run on a shared node by default. Add --exclusive if you want to use a node exclusively.\n",
      "sbatch: You will be charged for 0.25 node. A full node consists of 128 CPU cores, 983040 MiB of memory and 0 GPUs and can be shared by up to 4 jobs.\n"
     ]
    },
    {
     "name": "stdout",
     "output_type": "stream",
     "text": [
      "Submitted batch job 1857997\n"
     ]
    }
   ],
   "source": [
    "from amftrack.pipeline.launching.run_super import (\n",
    "    run_parallel,\n",
    "    run_launcher,\n",
    "    run_parallel_all_time,\n",
    ")\n",
    "\n",
    "folders = all_folders.loc[all_folders[\"unique_id\"].isin(plates)]\n",
    "folders = folders.loc[folders[\"/Analysis/nx_graph_pruned_labeled.p\"] == True]\n",
    "args = [directory_targ]\n",
    "num_parallel = 32\n",
    "time = \"1:00:00\"\n",
    "limit = 200\n",
    "version = 1\n",
    "suffix = \"_labeled\"\n",
    "lim_considered = 10\n",
    "args = [directory_targ, limit, version, suffix, lim_considered]\n",
    "run_parallel_all_time(\n",
    "    \"hyphae_extraction.py\",\n",
    "    args,\n",
    "    folders,\n",
    "    num_parallel,\n",
    "    time,\n",
    "    \"hyphae\",\n",
    "    cpus=32,\n",
    "    node=\"fat\",\n",
    "    name_job=\"test\",\n",
    ")"
   ]
  },
  {
   "cell_type": "code",
   "execution_count": 14,
   "id": "a30fd802-a1fe-461f-b1b6-1b1fa1060319",
   "metadata": {},
   "outputs": [
    {
     "data": {
      "text/plain": [
       "451"
      ]
     },
     "execution_count": 14,
     "metadata": {},
     "output_type": "execute_result"
    }
   ],
   "source": [
    "folders = folders.loc[folders[\"/Analysis/nx_graph_pruned_labeled.p\"] == True]\n",
    "len(folders)"
   ]
  },
  {
   "cell_type": "code",
   "execution_count": 20,
   "id": "c454083a-a612-4a78-aeb3-a63286412f69",
   "metadata": {},
   "outputs": [
    {
     "data": {
      "text/plain": [
       "107"
      ]
     },
     "execution_count": 20,
     "metadata": {},
     "output_type": "execute_result"
    }
   ],
   "source": [
    "len(list(set(folders[\"unique_id\"].values)))"
   ]
  },
  {
   "cell_type": "code",
   "execution_count": 12,
   "id": "625db32c-0d4d-4d84-a9d3-e56e905c7903",
   "metadata": {},
   "outputs": [
    {
     "name": "stderr",
     "output_type": "stream",
     "text": [
      "sbatch: Single-node jobs run on a shared node by default. Add --exclusive if you want to use a node exclusively.\n",
      "sbatch: A full node consists of 32 CPU cores, 229376 MiB of memory and 0 GPUs and can be shared by up to 32 jobs.\n",
      "sbatch: By default shared jobs get 7168 MiB of memory per CPU core, unless explicitly overridden with --mem-per-cpu, --mem-per-gpu or --mem.\n",
      "sbatch: You will be charged for 0.03125 node, based on the number of CPUs, GPUs and the amount memory that you've requested.\n"
     ]
    },
    {
     "name": "stdout",
     "output_type": "stream",
     "text": [
      "Submitted batch job 2061667\n"
     ]
    }
   ],
   "source": [
    "stage = 20\n",
    "run_launcher(\n",
    "    \"post_processer_1.py\",\n",
    "    [directory_targ, name_job, stage - 1],\n",
    "    plates,\n",
    "    \"20:00\",\n",
    "    dependency=True,\n",
    "    name_job=\"test\",\n",
    ")"
   ]
  },
  {
   "cell_type": "code",
   "execution_count": 28,
   "id": "453b9b49-e057-42af-81ba-4b370a36b07c",
   "metadata": {
    "collapsed": true,
    "jupyter": {
     "outputs_hidden": true
    },
    "tags": []
   },
   "outputs": [
    {
     "name": "stdout",
     "output_type": "stream",
     "text": [
      "/projects/0/einf914/data/Analysis_93_20220921_200_Version1/folder_info.json\n",
      "/projects/0/einf914/data/Analysis_92_20220921_2_Version1/folder_info.json\n",
      "/projects/0/einf914/data/Analysis_95_20220921_2_Version1/folder_info.json\n",
      "/projects/0/einf914/data/Analysis_94_20220921_200_Version1/folder_info.json\n",
      "/projects/0/einf914/data/Analysis_92_20220921_4_Version1/folder_info.json\n",
      "/projects/0/einf914/data/Analysis_99_20220921_200_Version1/folder_info.json\n",
      "/projects/0/einf914/data/Analysis_95_20220921_3_Version1/folder_info.json\n",
      "/projects/0/einf914/data/Analysis_94_20220921_3_Version1/folder_info.json\n",
      "/projects/0/einf914/data/Analysis_94_20220921_1_Version1/folder_info.json\n",
      "/projects/0/einf914/data/Analysis_93_20220921_3_Version1/folder_info.json\n",
      "/projects/0/einf914/data/Analysis_90_20220921_2_Version1/folder_info.json\n",
      "/projects/0/einf914/data/Analysis_98_20220921_3_Version1/folder_info.json\n",
      "/projects/0/einf914/data/Analysis_91_20220921_200_Version1/folder_info.json\n",
      "/projects/0/einf914/data/Analysis_90_20220921_1_Version1/folder_info.json\n",
      "/projects/0/einf914/data/Analysis_9_20220920_4_Version1/folder_info.json\n",
      "/projects/0/einf914/data/Analysis_90_20220921_3_Version1/folder_info.json\n",
      "/projects/0/einf914/data/Analysis_96_20220921_200_Version1/folder_info.json\n",
      "/projects/0/einf914/data/Analysis_92_20220921_200_Version1/folder_info.json\n",
      "/projects/0/einf914/data/Analysis_95_20220921_200_Version1/folder_info.json\n",
      "/projects/0/einf914/data/Analysis_90_20220921_200_Version1/folder_info.json\n",
      "/projects/0/einf914/data/Analysis_9_20220920_200_Version1/folder_info.json\n",
      "/projects/0/einf914/data/Analysis_93_20220921_4_Version1/folder_info.json\n",
      "/projects/0/einf914/data/Analysis_92_20220921_3_Version1/folder_info.json\n"
     ]
    }
   ],
   "source": [
    "update_analysis_info(directory_targ)\n",
    "analysis_info = get_analysis_info(directory_targ)\n",
    "analysis_folders = analysis_info.loc[analysis_info[\"unique_id\"].isin(plates)]"
   ]
  },
  {
   "cell_type": "code",
   "execution_count": 7,
   "id": "bb82a5fa-3b92-41bc-a92e-a004490c7455",
   "metadata": {},
   "outputs": [
    {
     "data": {
      "text/html": [
       "<div>\n",
       "<style scoped>\n",
       "    .dataframe tbody tr th:only-of-type {\n",
       "        vertical-align: middle;\n",
       "    }\n",
       "\n",
       "    .dataframe tbody tr th {\n",
       "        vertical-align: top;\n",
       "    }\n",
       "\n",
       "    .dataframe thead th {\n",
       "        text-align: right;\n",
       "    }\n",
       "</style>\n",
       "<table border=\"1\" class=\"dataframe\">\n",
       "  <thead>\n",
       "    <tr style=\"text-align: right;\">\n",
       "      <th></th>\n",
       "      <th>folder_analysis</th>\n",
       "      <th>version</th>\n",
       "      <th>total_path</th>\n",
       "      <th>Plate</th>\n",
       "      <th>PrincePos</th>\n",
       "      <th>root</th>\n",
       "      <th>strain</th>\n",
       "      <th>medium</th>\n",
       "      <th>split</th>\n",
       "      <th>Pbait</th>\n",
       "      <th>...</th>\n",
       "      <th>datetime</th>\n",
       "      <th>date_begin</th>\n",
       "      <th>date_end</th>\n",
       "      <th>number_timepoints</th>\n",
       "      <th>path_exp</th>\n",
       "      <th>path_global_hypha_info</th>\n",
       "      <th>path_time_hypha_info</th>\n",
       "      <th>path_time_plate_info</th>\n",
       "      <th>path_global_plate_info</th>\n",
       "      <th>date_run_analysis</th>\n",
       "    </tr>\n",
       "  </thead>\n",
       "  <tbody>\n",
       "    <tr>\n",
       "      <th>0</th>\n",
       "      <td>Analysis_33_20220502_188_Version1</td>\n",
       "      <td>Version1</td>\n",
       "      <td>/projects/0/einf914/data/20220502_2111_Plate07</td>\n",
       "      <td>33</td>\n",
       "      <td>7</td>\n",
       "      <td>'Carrot'</td>\n",
       "      <td>'Agg'</td>\n",
       "      <td>'001P100N100C'</td>\n",
       "      <td>'Y'</td>\n",
       "      <td>'-'</td>\n",
       "      <td>...</td>\n",
       "      <td>2022-05-02 21:11:00</td>\n",
       "      <td>02.05.2022, 21:11:</td>\n",
       "      <td>20.05.2022, 09:41:</td>\n",
       "      <td>188</td>\n",
       "      <td>Analysis_33_20220502_188_Version1/experiment.pick</td>\n",
       "      <td>Analysis_33_20220502_188_Version1/global_hypha...</td>\n",
       "      <td>Analysis_33_20220502_188_Version1/time_hypha_info</td>\n",
       "      <td>Analysis_33_20220502_188_Version1/time_plate_i...</td>\n",
       "      <td>Analysis_33_20220502_188_Version1/global_plate...</td>\n",
       "      <td>01.01.1970, 01:00:</td>\n",
       "    </tr>\n",
       "  </tbody>\n",
       "</table>\n",
       "<p>1 rows × 24 columns</p>\n",
       "</div>"
      ],
      "text/plain": [
       "                     folder_analysis   version  \\\n",
       "0  Analysis_33_20220502_188_Version1  Version1   \n",
       "\n",
       "                                       total_path Plate PrincePos      root  \\\n",
       "0  /projects/0/einf914/data/20220502_2111_Plate07    33         7  'Carrot'   \n",
       "\n",
       "  strain          medium split Pbait  ...             datetime  \\\n",
       "0  'Agg'  '001P100N100C'   'Y'   '-'  ...  2022-05-02 21:11:00   \n",
       "\n",
       "           date_begin            date_end number_timepoints  \\\n",
       "0  02.05.2022, 21:11:  20.05.2022, 09:41:               188   \n",
       "\n",
       "                                            path_exp  \\\n",
       "0  Analysis_33_20220502_188_Version1/experiment.pick   \n",
       "\n",
       "                              path_global_hypha_info  \\\n",
       "0  Analysis_33_20220502_188_Version1/global_hypha...   \n",
       "\n",
       "                                path_time_hypha_info  \\\n",
       "0  Analysis_33_20220502_188_Version1/time_hypha_info   \n",
       "\n",
       "                                path_time_plate_info  \\\n",
       "0  Analysis_33_20220502_188_Version1/time_plate_i...   \n",
       "\n",
       "                              path_global_plate_info   date_run_analysis  \n",
       "0  Analysis_33_20220502_188_Version1/global_plate...  01.01.1970, 01:00:  \n",
       "\n",
       "[1 rows x 24 columns]"
      ]
     },
     "execution_count": 7,
     "metadata": {},
     "output_type": "execute_result"
    }
   ],
   "source": [
    "analysis_folders"
   ]
  },
  {
   "cell_type": "code",
   "execution_count": 8,
   "id": "50d39007-aa12-4eaa-9df0-f0abab2833b7",
   "metadata": {},
   "outputs": [
    {
     "name": "stderr",
     "output_type": "stream",
     "text": [
      "sbatch: Single node jobs run on a shared node by default. Add --exclusive if you want to use a node exclusively.\n",
      "sbatch: You will be charged for 0.25 node. A full node consists of 128 CPU cores, 983040 MiB of memory and 0 GPUs and can be shared by up to 4 jobs.\n"
     ]
    },
    {
     "name": "stdout",
     "output_type": "stream",
     "text": [
      "Submitted batch job 1768604\n"
     ]
    },
    {
     "name": "stderr",
     "output_type": "stream",
     "text": [
      "sbatch: Single node jobs run on a shared node by default. Add --exclusive if you want to use a node exclusively.\n",
      "sbatch: You will be charged for 0.03125 node. A full node consists of 32 CPU cores, 229376 MiB of memory and 0 GPUs and can be shared by up to 32 jobs.\n"
     ]
    },
    {
     "name": "stdout",
     "output_type": "stream",
     "text": [
      "Submitted batch job 1768605\n"
     ]
    }
   ],
   "source": [
    "# name_job = f\"one_shot_{time_ns()}.sh\"\n",
    "\n",
    "from amftrack.pipeline.launching.run_super import run_parallel_post\n",
    "from amftrack.pipeline.functions.post_processing.global_plate import *\n",
    "from amftrack.pipeline.functions.post_processing.time_plate import *\n",
    "from amftrack.pipeline.functions.post_processing.global_hypha import *\n",
    "from amftrack.pipeline.functions.post_processing.area_hulls import *\n",
    "from amftrack.pipeline.launching.run_super import run_parallel, run_launcher\n",
    "from amftrack.pipeline.functions.post_processing.exp_plot import *\n",
    "\n",
    "time = \"24:00:00\"\n",
    "directory = directory_targ\n",
    "max_ind = 20\n",
    "incr = 100\n",
    "fs = [\n",
    "    get_density_in_ring,\n",
    "    get_density_anastomose_in_ring,\n",
    "    # get_density_branch_rate_in_ring,\n",
    "    # get_density_stop_rate_in_ring,\n",
    "    get_density_active_tips_in_ring,\n",
    "]\n",
    "# fs = [get_mean_speed_in_ring]\n",
    "\n",
    "list_f = []\n",
    "list_args = []\n",
    "\n",
    "for f in fs:\n",
    "    list_f += [f] * max_ind\n",
    "\n",
    "    list_args += [{\"incr\": incr, \"i\": i, \"rh_only\": True} for i in range(max_ind)]\n",
    "overwrite = False\n",
    "num_parallel = 30\n",
    "run_parallel_post(\n",
    "    \"time_plate_post_process.py\",\n",
    "    list_f,\n",
    "    list_args,\n",
    "    [directory, overwrite],\n",
    "    analysis_folders,\n",
    "    num_parallel,\n",
    "    time,\n",
    "    \"time_plate_post_process\",\n",
    "    cpus=32,\n",
    "    name_job=name_job,\n",
    "    node=\"fat\",\n",
    "    dependency=True,\n",
    ")\n",
    "run_launcher(\n",
    "    \"analysis_uploader.py\",\n",
    "    [directory_targ, name_job],\n",
    "    plates,\n",
    "    \"12:00:00\",\n",
    "    dependency=True,\n",
    "    name_job=name_job,\n",
    ")"
   ]
  },
  {
   "cell_type": "code",
   "execution_count": 41,
   "id": "be6cc993-f4e0-4008-aace-b1fa59150df2",
   "metadata": {},
   "outputs": [
    {
     "name": "stdout",
     "output_type": "stream",
     "text": [
      "Submitted batch job 1858250\n",
      "Submitted batch job 1858251\n",
      "Submitted batch job 1858252\n",
      "Submitted batch job 1858253\n",
      "Submitted batch job 1858255\n",
      "Submitted batch job 1858256\n"
     ]
    }
   ],
   "source": [
    "from amftrack.pipeline.launching.run_super import run_parallel, run_launcher\n",
    "\n",
    "name_job = \"malin\"\n",
    "\n",
    "num_parallel = 100\n",
    "time = \"20:00\"\n",
    "args = [directory_targ]\n",
    "run_parallel(\n",
    "    \"compress_image.py\",\n",
    "    args,\n",
    "    folders,\n",
    "    num_parallel,\n",
    "    time,\n",
    "    \"compress\",\n",
    "    cpus=128,\n",
    "    node=\"fat\",\n",
    "    name_job=name_job,\n",
    ")"
   ]
  },
  {
   "cell_type": "code",
   "execution_count": 42,
   "id": "9dcd9efc-585c-4333-a48c-a3f18ee134cb",
   "metadata": {},
   "outputs": [
    {
     "name": "stdout",
     "output_type": "stream",
     "text": [
      "Submitted batch job 1858259\n",
      "Submitted batch job 1858260\n",
      "Submitted batch job 1858262\n",
      "Submitted batch job 1858267\n",
      "Submitted batch job 1858268\n",
      "Submitted batch job 1858269\n",
      "Submitted batch job 1858270\n",
      "Submitted batch job 1858271\n",
      "Submitted batch job 1858272\n",
      "Submitted batch job 1858273\n",
      "Submitted batch job 1858274\n",
      "Submitted batch job 1858275\n"
     ]
    }
   ],
   "source": [
    "from amftrack.pipeline.launching.run_super import run_parallel, run_launcher\n",
    "\n",
    "num_parallel = 50\n",
    "time = \"12:00:00\"\n",
    "hyph_width = 30\n",
    "perc_low = 93\n",
    "perc_high = 99.5\n",
    "args = [hyph_width, perc_low, perc_high, directory_targ]\n",
    "run_parallel(\n",
    "    \"extract_skel_2.py\",\n",
    "    args,\n",
    "    folders,\n",
    "    num_parallel,\n",
    "    time,\n",
    "    \"skeletonization\",\n",
    "    cpus=128,\n",
    "    node=\"fat\",\n",
    "    name_job=name_job,\n",
    ")"
   ]
  },
  {
   "cell_type": "code",
   "execution_count": 43,
   "id": "42455272-081b-43a0-b69e-6e0dab68ff77",
   "metadata": {},
   "outputs": [
    {
     "name": "stdout",
     "output_type": "stream",
     "text": [
      "Submitted batch job 1858277\n",
      "Submitted batch job 1858279\n",
      "Submitted batch job 1858282\n",
      "Submitted batch job 1858283\n",
      "Submitted batch job 1858284\n",
      "Submitted batch job 1858285\n"
     ]
    }
   ],
   "source": [
    "from amftrack.pipeline.launching.run_super import run_parallel, run_launcher\n",
    "\n",
    "num_parallel = 100\n",
    "time = \"20:00\"\n",
    "args = [directory_targ]\n",
    "run_parallel(\n",
    "    \"detect_blob.py\",\n",
    "    args,\n",
    "    folders,\n",
    "    num_parallel,\n",
    "    time,\n",
    "    \"detect_blob\",\n",
    "    cpus=128,\n",
    "    node=\"fat\",\n",
    "    name_job=name_job,\n",
    ")"
   ]
  },
  {
   "cell_type": "code",
   "execution_count": 7,
   "id": "706dce62-3dc8-4c0b-b297-0213da796b2f",
   "metadata": {},
   "outputs": [
    {
     "name": "stderr",
     "output_type": "stream",
     "text": [
      "sbatch: Single node jobs run on a shared node by default. Add --exclusive if you want to use a node exclusively.\n",
      "sbatch: You will be charged for 0.03125 node. A full node consists of 32 CPU cores, 229376 MiB of memory and 0 GPUs and can be shared by up to 32 jobs.\n"
     ]
    },
    {
     "name": "stdout",
     "output_type": "stream",
     "text": [
      "Submitted batch job 1861160\n"
     ]
    }
   ],
   "source": [
    "name_job = \"malin\"\n",
    "\n",
    "run_launcher(\n",
    "    \"masker.py\",\n",
    "    [directory_targ, name_job, 30],\n",
    "    plates,\n",
    "    \"3:00:00\",\n",
    "    dependency=True,\n",
    "    name_job=name_job,\n",
    ")"
   ]
  },
  {
   "cell_type": "code",
   "execution_count": 25,
   "id": "f371697c-0d27-40e2-8b68-8d9ad947ee9c",
   "metadata": {},
   "outputs": [
    {
     "name": "stderr",
     "output_type": "stream",
     "text": [
      "sbatch: Single node jobs run on a shared node by default. Add --exclusive if you want to use a node exclusively.\n",
      "sbatch: You will be charged for 0.25 node. A full node consists of 128 CPU cores, 983040 MiB of memory and 0 GPUs and can be shared by up to 4 jobs.\n"
     ]
    },
    {
     "name": "stdout",
     "output_type": "stream",
     "text": [
      "Submitted batch job 1828129\n"
     ]
    },
    {
     "name": "stderr",
     "output_type": "stream",
     "text": [
      "sbatch: Single node jobs run on a shared node by default. Add --exclusive if you want to use a node exclusively.\n",
      "sbatch: You will be charged for 0.25 node. A full node consists of 128 CPU cores, 983040 MiB of memory and 0 GPUs and can be shared by up to 4 jobs.\n"
     ]
    },
    {
     "name": "stdout",
     "output_type": "stream",
     "text": [
      "Submitted batch job 1828130\n"
     ]
    },
    {
     "name": "stderr",
     "output_type": "stream",
     "text": [
      "sbatch: Single node jobs run on a shared node by default. Add --exclusive if you want to use a node exclusively.\n",
      "sbatch: You will be charged for 0.25 node. A full node consists of 128 CPU cores, 983040 MiB of memory and 0 GPUs and can be shared by up to 4 jobs.\n"
     ]
    },
    {
     "name": "stdout",
     "output_type": "stream",
     "text": [
      "Submitted batch job 1828131\n"
     ]
    }
   ],
   "source": [
    "from amftrack.pipeline.launching.run_super import run_parallel_all_time, run_launcher\n",
    "\n",
    "folders = all_folders.loc[all_folders[\"unique_id\"].isin(plates)]\n",
    "folders = folders.loc[folders[\"/Img/TileConfiguration.txt.registered\"] == True]\n",
    "num_parallel = 50\n",
    "time = \"10:00\"\n",
    "args = []\n",
    "run_parallel_all_time(\n",
    "    \"make_video_stitched.py\",\n",
    "    args,\n",
    "    folders,\n",
    "    num_parallel,\n",
    "    time,\n",
    "    \"make_video\",\n",
    "    cpus=32,\n",
    "    node=\"fat\",\n",
    "    dependency=False,\n",
    "    name_job=\"video\",\n",
    ")"
   ]
  },
  {
   "cell_type": "code",
   "execution_count": 3,
   "id": "6bb3b8f2-51c2-4a2b-b38c-e369dfbad277",
   "metadata": {},
   "outputs": [],
   "source": [
    "plates = [\n",
    "    \"105_20220817\",\n",
    "    \"77_20220808\",\n",
    "    \"71_20220817\",\n",
    "    \"100_20220812\",\n",
    "    \"117_20220815\",\n",
    "    \"99_20220815\",\n",
    "    \"75_20220808\",\n",
    "    \"226_20220812\",\n",
    "]"
   ]
  },
  {
   "cell_type": "code",
   "execution_count": 46,
   "id": "5d7f5622-0995-4bc4-9f1a-665e35b9425b",
   "metadata": {
    "tags": []
   },
   "outputs": [],
   "source": [
    "folders = all_folders.loc[all_folders[\"Plate\"].isin([\"32\"])]"
   ]
  },
  {
   "cell_type": "code",
   "execution_count": 17,
   "id": "3bce3711-f0df-422d-8ebf-a43a23e1a840",
   "metadata": {
    "tags": []
   },
   "outputs": [
    {
     "name": "stderr",
     "output_type": "stream",
     "text": [
      "sbatch: Single node jobs run on a shared node by default. Add --exclusive if you want to use a node exclusively.\n",
      "sbatch: You will be charged for 0.25 node. A full node consists of 128 CPU cores, 983040 MiB of memory and 0 GPUs and can be shared by up to 4 jobs.\n"
     ]
    },
    {
     "name": "stdout",
     "output_type": "stream",
     "text": [
      "Submitted batch job 1738329\n"
     ]
    }
   ],
   "source": [
    "from amftrack.pipeline.launching.run_super import *\n",
    "\n",
    "num_parallel = 32\n",
    "time = \"8:00:00\"\n",
    "limit = 200\n",
    "version = 1\n",
    "labeled = True\n",
    "args = [directory_targ, limit, version, labeled]\n",
    "run_parallel_all_time(\n",
    "    \"hyphae_extraction.py\",\n",
    "    args,\n",
    "    folders,\n",
    "    num_parallel,\n",
    "    time,\n",
    "    \"hyphae\",\n",
    "    cpus=32,\n",
    "    node=\"fat\",\n",
    ")"
   ]
  },
  {
   "cell_type": "code",
   "execution_count": 12,
   "id": "0d0eeec2-4e63-4b1b-972d-f76bd6a035bf",
   "metadata": {},
   "outputs": [
    {
     "name": "stdout",
     "output_type": "stream",
     "text": [
      "Submitted batch job 1138954\n"
     ]
    },
    {
     "name": "stderr",
     "output_type": "stream",
     "text": [
      "sbatch: Single node jobs run on a shared node by default. Add --exclusive if you want to use a node exclusively.\n",
      "sbatch: You will be charged for 1.0 node. A full node consists of 128 CPU cores, 983040 MiB of memory and 0 GPUs and can be shared by up to 4 jobs.\n"
     ]
    }
   ],
   "source": [
    "from amftrack.pipeline.launching.run_super import run_parallel, run_launcher\n",
    "\n",
    "for plate in plates:\n",
    "    select = folders.loc[folders[\"Plate\"] == plate]\n",
    "    num_parallel = 128\n",
    "    time = \"12:00:00\"\n",
    "    thresh = 10000  # For R. irregularis, thresh 10000 is good. For Aggregatum, higher may be necessary\n",
    "    args = [thresh, directory_targ]\n",
    "    run_parallel(\n",
    "        \"final_alignment.py\",\n",
    "        args,\n",
    "        select,\n",
    "        num_parallel,\n",
    "        time,\n",
    "        \"realign\",\n",
    "        cpus=128,\n",
    "        node=\"fat\",\n",
    "        name_job=name_job,\n",
    "    )"
   ]
  },
  {
   "cell_type": "code",
   "execution_count": 20,
   "id": "656f2038-0660-4d13-acd0-7580b56a8a84",
   "metadata": {},
   "outputs": [
    {
     "data": {
      "text/plain": [
       "['6_20220509']"
      ]
     },
     "execution_count": 20,
     "metadata": {},
     "output_type": "execute_result"
    }
   ],
   "source": [
    "plates"
   ]
  },
  {
   "cell_type": "code",
   "execution_count": 19,
   "id": "6323eacb-c44e-463b-90e7-bf55aaf43ab1",
   "metadata": {},
   "outputs": [
    {
     "data": {
      "text/html": [
       "<div>\n",
       "<style scoped>\n",
       "    .dataframe tbody tr th:only-of-type {\n",
       "        vertical-align: middle;\n",
       "    }\n",
       "\n",
       "    .dataframe tbody tr th {\n",
       "        vertical-align: top;\n",
       "    }\n",
       "\n",
       "    .dataframe thead th {\n",
       "        text-align: right;\n",
       "    }\n",
       "</style>\n",
       "<table border=\"1\" class=\"dataframe\">\n",
       "  <thead>\n",
       "    <tr style=\"text-align: right;\">\n",
       "      <th></th>\n",
       "      <th>total_path</th>\n",
       "      <th>Plate</th>\n",
       "      <th>PrincePos</th>\n",
       "      <th>root</th>\n",
       "      <th>strain</th>\n",
       "      <th>medium</th>\n",
       "      <th>split</th>\n",
       "      <th>Pbait</th>\n",
       "      <th>CrossDate</th>\n",
       "      <th>Temperature</th>\n",
       "      <th>...</th>\n",
       "      <th>/Analysis/transform.mat</th>\n",
       "      <th>/Analysis/transform_corrupt.mat</th>\n",
       "      <th>/Analysis/skeleton_realigned_compressed.mat</th>\n",
       "      <th>/Analysis/nx_graph_pruned.p</th>\n",
       "      <th>/Analysis/nx_graph_pruned_width.p</th>\n",
       "      <th>/Analysis/nx_graph_pruned_labeled.p</th>\n",
       "      <th>date</th>\n",
       "      <th>folder</th>\n",
       "      <th>unique_id</th>\n",
       "      <th>datetime</th>\n",
       "    </tr>\n",
       "  </thead>\n",
       "  <tbody>\n",
       "  </tbody>\n",
       "</table>\n",
       "<p>0 rows × 24 columns</p>\n",
       "</div>"
      ],
      "text/plain": [
       "Empty DataFrame\n",
       "Columns: [total_path, Plate, PrincePos, root, strain, medium, split, Pbait, CrossDate, Temperature, /Img/TileConfiguration.txt.registered, /Analysis/skeleton_compressed.mat, /Analysis/skeleton_masked_compressed.mat, /Analysis/skeleton_pruned_compressed.mat, /Analysis/transform.mat, /Analysis/transform_corrupt.mat, /Analysis/skeleton_realigned_compressed.mat, /Analysis/nx_graph_pruned.p, /Analysis/nx_graph_pruned_width.p, /Analysis/nx_graph_pruned_labeled.p, date, folder, unique_id, datetime]\n",
       "Index: []\n",
       "\n",
       "[0 rows x 24 columns]"
      ]
     },
     "execution_count": 19,
     "metadata": {},
     "output_type": "execute_result"
    }
   ],
   "source": [
    "select"
   ]
  },
  {
   "cell_type": "code",
   "execution_count": 13,
   "id": "aae06165-b345-4cf1-9404-52abd616e3d0",
   "metadata": {},
   "outputs": [
    {
     "name": "stdout",
     "output_type": "stream",
     "text": [
      "========\n",
      "Matching plate 20220510_1851_Plate17 at dates ['20220510_1851_Plate17', '20220511_1750_Plate17']\n",
      "========\n"
     ]
    }
   ],
   "source": [
    "i = 0\n",
    "run_info = folders\n",
    "folder_list = list(run_info[\"folder\"])\n",
    "folder_list.sort()\n",
    "\n",
    "dates_datetime_chosen = folder_list[i : i + 2]\n",
    "print(\"========\")\n",
    "print(f\"Matching plate {dates_datetime_chosen[0]} at dates {dates_datetime_chosen}\")\n",
    "print(\"========\")\n",
    "dates = dates_datetime_chosen"
   ]
  },
  {
   "cell_type": "code",
   "execution_count": 10,
   "id": "0556ab5e-23a7-4259-9c1f-e183de22004f",
   "metadata": {},
   "outputs": [],
   "source": [
    "from amftrack.pipeline.launching.run_super import run_parallel_post\n",
    "from amftrack.pipeline.functions.post_processing.global_plate import *\n",
    "from amftrack.pipeline.functions.post_processing.time_plate import *\n",
    "from amftrack.pipeline.functions.post_processing.global_hypha import *\n",
    "from amftrack.pipeline.functions.post_processing.area_hulls import *\n",
    "from amftrack.pipeline.launching.run_super import run_parallel, run_launcher\n",
    "from amftrack.pipeline.functions.post_processing.exp_plot import *\n",
    "\n",
    "update_analysis_info(directory_targ)\n",
    "analysis_info = get_analysis_info(directory_targ)\n",
    "analysis_folders = analysis_info.loc[analysis_info[\"unique_id\"].isin(plates)]\n",
    "directory = directory_targ"
   ]
  },
  {
   "cell_type": "code",
   "execution_count": 11,
   "id": "029954ec-42f9-4ba2-9dbe-137682996560",
   "metadata": {
    "tags": []
   },
   "outputs": [
    {
     "name": "stdout",
     "output_type": "stream",
     "text": [
      "Submitted batch job 1539552\n"
     ]
    },
    {
     "name": "stderr",
     "output_type": "stream",
     "text": [
      "sbatch: Single node jobs run on a shared node by default. Add --exclusive if you want to use a node exclusively.\n",
      "sbatch: You will be charged for 0.25 node. A full node consists of 128 CPU cores, 983040 MiB of memory and 0 GPUs and can be shared by up to 4 jobs.\n"
     ]
    }
   ],
   "source": [
    "time = \"3:40:00\"\n",
    "directory = directory_targ\n",
    "# list_f = [get_width_f,get_tot_length_C_f,get_tot_growth_C_f]\n",
    "# list_f = [get_timestep_anastomosis]\n",
    "list_f = [\n",
    "    gets_out_of_ROI,\n",
    "    get_width_f,\n",
    "    get_tot_length_C_f,\n",
    "    get_tot_growth_C_f,\n",
    "    get_tot_length_pp_f,\n",
    "    get_tot_growth_pp_f,\n",
    "    get_timestep_stop_growth,\n",
    "    get_time_stop_growth,\n",
    "    get_time_init_growth,\n",
    "    get_mean_speed_growth,\n",
    "    get_stop_track,\n",
    "    get_timestep_anastomosis,\n",
    "    get_timestep_biological_stop_growth,\n",
    "]\n",
    "# list_f = [get_num_branch]\n",
    "# list_f = [gets_out_of_ROI]\n",
    "list_args = [{}] * len(list_f)\n",
    "overwrite = False\n",
    "num_parallel = 32\n",
    "run_parallel_post(\n",
    "    \"global_hypha_post_process.py\",\n",
    "    list_f,\n",
    "    list_args,\n",
    "    [directory, overwrite],\n",
    "    analysis_folders,\n",
    "    num_parallel,\n",
    "    time,\n",
    "    \"global_hypha_post_process\",\n",
    "    cpus=32,\n",
    "    name_job=\"a\",\n",
    "    node=\"fat\",\n",
    ")"
   ]
  },
  {
   "cell_type": "code",
   "execution_count": 13,
   "id": "bac5d4ee-b1e5-4027-8f98-8f7c1d7d7726",
   "metadata": {
    "collapsed": true,
    "jupyter": {
     "outputs_hidden": true
    },
    "tags": []
   },
   "outputs": [
    {
     "name": "stdout",
     "output_type": "stream",
     "text": [
      "Submitted batch job 1539625\n",
      "Submitted batch job 1539626\n",
      "Submitted batch job 1539627\n"
     ]
    },
    {
     "name": "stderr",
     "output_type": "stream",
     "text": [
      "sbatch: Single node jobs run on a shared node by default. Add --exclusive if you want to use a node exclusively.\n",
      "sbatch: You will be charged for 0.25 node. A full node consists of 128 CPU cores, 983040 MiB of memory and 0 GPUs and can be shared by up to 4 jobs.\n",
      "sbatch: Single node jobs run on a shared node by default. Add --exclusive if you want to use a node exclusively.\n",
      "sbatch: You will be charged for 0.25 node. A full node consists of 128 CPU cores, 983040 MiB of memory and 0 GPUs and can be shared by up to 4 jobs.\n",
      "sbatch: Single node jobs run on a shared node by default. Add --exclusive if you want to use a node exclusively.\n",
      "sbatch: You will be charged for 0.25 node. A full node consists of 128 CPU cores, 983040 MiB of memory and 0 GPUs and can be shared by up to 4 jobs.\n",
      "sbatch: Single node jobs run on a shared node by default. Add --exclusive if you want to use a node exclusively.\n",
      "sbatch: You will be charged for 0.25 node. A full node consists of 128 CPU cores, 983040 MiB of memory and 0 GPUs and can be shared by up to 4 jobs.\n",
      "sbatch: Single node jobs run on a shared node by default. Add --exclusive if you want to use a node exclusively.\n",
      "sbatch: You will be charged for 0.25 node. A full node consists of 128 CPU cores, 983040 MiB of memory and 0 GPUs and can be shared by up to 4 jobs.\n",
      "sbatch: Single node jobs run on a shared node by default. Add --exclusive if you want to use a node exclusively.\n",
      "sbatch: You will be charged for 0.25 node. A full node consists of 128 CPU cores, 983040 MiB of memory and 0 GPUs and can be shared by up to 4 jobs.\n"
     ]
    },
    {
     "name": "stdout",
     "output_type": "stream",
     "text": [
      "Submitted batch job 1539628\n",
      "Submitted batch job 1539629\n",
      "Submitted batch job 1539630\n"
     ]
    },
    {
     "name": "stderr",
     "output_type": "stream",
     "text": [
      "sbatch: Single node jobs run on a shared node by default. Add --exclusive if you want to use a node exclusively.\n",
      "sbatch: You will be charged for 0.25 node. A full node consists of 128 CPU cores, 983040 MiB of memory and 0 GPUs and can be shared by up to 4 jobs.\n"
     ]
    },
    {
     "name": "stdout",
     "output_type": "stream",
     "text": [
      "Submitted batch job 1539631\n"
     ]
    },
    {
     "name": "stderr",
     "output_type": "stream",
     "text": [
      "sbatch: Single node jobs run on a shared node by default. Add --exclusive if you want to use a node exclusively.\n",
      "sbatch: You will be charged for 0.25 node. A full node consists of 128 CPU cores, 983040 MiB of memory and 0 GPUs and can be shared by up to 4 jobs.\n",
      "sbatch: Single node jobs run on a shared node by default. Add --exclusive if you want to use a node exclusively.\n",
      "sbatch: You will be charged for 0.25 node. A full node consists of 128 CPU cores, 983040 MiB of memory and 0 GPUs and can be shared by up to 4 jobs.\n"
     ]
    },
    {
     "name": "stdout",
     "output_type": "stream",
     "text": [
      "Submitted batch job 1539632\n",
      "Submitted batch job 1539633\n"
     ]
    },
    {
     "name": "stderr",
     "output_type": "stream",
     "text": [
      "sbatch: Single node jobs run on a shared node by default. Add --exclusive if you want to use a node exclusively.\n",
      "sbatch: You will be charged for 0.25 node. A full node consists of 128 CPU cores, 983040 MiB of memory and 0 GPUs and can be shared by up to 4 jobs.\n",
      "sbatch: Single node jobs run on a shared node by default. Add --exclusive if you want to use a node exclusively.\n",
      "sbatch: You will be charged for 0.25 node. A full node consists of 128 CPU cores, 983040 MiB of memory and 0 GPUs and can be shared by up to 4 jobs.\n",
      "sbatch: Single node jobs run on a shared node by default. Add --exclusive if you want to use a node exclusively.\n",
      "sbatch: You will be charged for 0.25 node. A full node consists of 128 CPU cores, 983040 MiB of memory and 0 GPUs and can be shared by up to 4 jobs.\n"
     ]
    },
    {
     "name": "stdout",
     "output_type": "stream",
     "text": [
      "Submitted batch job 1539634\n",
      "Submitted batch job 1539635\n",
      "Submitted batch job 1539636\n"
     ]
    },
    {
     "name": "stderr",
     "output_type": "stream",
     "text": [
      "sbatch: Single node jobs run on a shared node by default. Add --exclusive if you want to use a node exclusively.\n",
      "sbatch: You will be charged for 0.25 node. A full node consists of 128 CPU cores, 983040 MiB of memory and 0 GPUs and can be shared by up to 4 jobs.\n",
      "sbatch: Single node jobs run on a shared node by default. Add --exclusive if you want to use a node exclusively.\n",
      "sbatch: You will be charged for 0.25 node. A full node consists of 128 CPU cores, 983040 MiB of memory and 0 GPUs and can be shared by up to 4 jobs.\n",
      "sbatch: Single node jobs run on a shared node by default. Add --exclusive if you want to use a node exclusively.\n",
      "sbatch: You will be charged for 0.25 node. A full node consists of 128 CPU cores, 983040 MiB of memory and 0 GPUs and can be shared by up to 4 jobs.\n"
     ]
    },
    {
     "name": "stdout",
     "output_type": "stream",
     "text": [
      "Submitted batch job 1539637\n",
      "Submitted batch job 1539638\n",
      "Submitted batch job 1539639\n"
     ]
    },
    {
     "name": "stderr",
     "output_type": "stream",
     "text": [
      "sbatch: Single node jobs run on a shared node by default. Add --exclusive if you want to use a node exclusively.\n",
      "sbatch: You will be charged for 0.25 node. A full node consists of 128 CPU cores, 983040 MiB of memory and 0 GPUs and can be shared by up to 4 jobs.\n",
      "sbatch: Single node jobs run on a shared node by default. Add --exclusive if you want to use a node exclusively.\n",
      "sbatch: You will be charged for 0.25 node. A full node consists of 128 CPU cores, 983040 MiB of memory and 0 GPUs and can be shared by up to 4 jobs.\n"
     ]
    },
    {
     "name": "stdout",
     "output_type": "stream",
     "text": [
      "Submitted batch job 1539640\n",
      "Submitted batch job 1539641\n",
      "Submitted batch job 1539642\n"
     ]
    },
    {
     "name": "stderr",
     "output_type": "stream",
     "text": [
      "sbatch: Single node jobs run on a shared node by default. Add --exclusive if you want to use a node exclusively.\n",
      "sbatch: You will be charged for 0.25 node. A full node consists of 128 CPU cores, 983040 MiB of memory and 0 GPUs and can be shared by up to 4 jobs.\n",
      "sbatch: Single node jobs run on a shared node by default. Add --exclusive if you want to use a node exclusively.\n",
      "sbatch: You will be charged for 0.25 node. A full node consists of 128 CPU cores, 983040 MiB of memory and 0 GPUs and can be shared by up to 4 jobs.\n",
      "sbatch: Single node jobs run on a shared node by default. Add --exclusive if you want to use a node exclusively.\n",
      "sbatch: You will be charged for 0.25 node. A full node consists of 128 CPU cores, 983040 MiB of memory and 0 GPUs and can be shared by up to 4 jobs.\n"
     ]
    },
    {
     "name": "stdout",
     "output_type": "stream",
     "text": [
      "Submitted batch job 1539643\n",
      "Submitted batch job 1539644\n"
     ]
    },
    {
     "name": "stderr",
     "output_type": "stream",
     "text": [
      "sbatch: Single node jobs run on a shared node by default. Add --exclusive if you want to use a node exclusively.\n",
      "sbatch: You will be charged for 0.25 node. A full node consists of 128 CPU cores, 983040 MiB of memory and 0 GPUs and can be shared by up to 4 jobs.\n",
      "sbatch: Single node jobs run on a shared node by default. Add --exclusive if you want to use a node exclusively.\n",
      "sbatch: You will be charged for 0.25 node. A full node consists of 128 CPU cores, 983040 MiB of memory and 0 GPUs and can be shared by up to 4 jobs.\n"
     ]
    },
    {
     "name": "stdout",
     "output_type": "stream",
     "text": [
      "Submitted batch job 1539645\n",
      "Submitted batch job 1539646\n"
     ]
    },
    {
     "name": "stderr",
     "output_type": "stream",
     "text": [
      "sbatch: Single node jobs run on a shared node by default. Add --exclusive if you want to use a node exclusively.\n",
      "sbatch: You will be charged for 0.25 node. A full node consists of 128 CPU cores, 983040 MiB of memory and 0 GPUs and can be shared by up to 4 jobs.\n",
      "sbatch: Single node jobs run on a shared node by default. Add --exclusive if you want to use a node exclusively.\n",
      "sbatch: You will be charged for 0.25 node. A full node consists of 128 CPU cores, 983040 MiB of memory and 0 GPUs and can be shared by up to 4 jobs.\n"
     ]
    },
    {
     "name": "stdout",
     "output_type": "stream",
     "text": [
      "Submitted batch job 1539647\n",
      "Submitted batch job 1539648\n",
      "Submitted batch job 1539649\n"
     ]
    },
    {
     "name": "stderr",
     "output_type": "stream",
     "text": [
      "sbatch: Single node jobs run on a shared node by default. Add --exclusive if you want to use a node exclusively.\n",
      "sbatch: You will be charged for 0.25 node. A full node consists of 128 CPU cores, 983040 MiB of memory and 0 GPUs and can be shared by up to 4 jobs.\n"
     ]
    }
   ],
   "source": [
    "import sys\n",
    "from amftrack.util.sys import (\n",
    "    update_analysis_info,\n",
    "    get_analysis_info,\n",
    ")\n",
    "from amftrack.pipeline.launching.run_super import run_parallel_post\n",
    "from amftrack.pipeline.functions.post_processing.time_hypha import *\n",
    "from amftrack.pipeline.launching.run_super import run_parallel, run_launcher\n",
    "import pandas as pd\n",
    "import os\n",
    "\n",
    "list_f = [\n",
    "    get_pos_x,\n",
    "    get_pos_y,\n",
    "    get_time_since_begin_exp,\n",
    "    get_distance_final_pos,\n",
    "    get_timedelta,\n",
    "    get_time_since_start,\n",
    "    get_speed,\n",
    "    get_timestep,\n",
    "    get_timestep_init,\n",
    "    get_time_init,\n",
    "    get_degree,\n",
    "    get_width_tip_edge,\n",
    "    get_width_root_edge,\n",
    "    get_width_average,\n",
    "    has_reached_final_pos,\n",
    "    in_ROI,\n",
    "]\n",
    "# list_f = [local_density,local_density,local_density]\n",
    "# list_f = [get_time_since_begin_exp]\n",
    "# list_f = [get_width_tip_edge, get_width_root_edge]\n",
    "list_args = [{}] * len(list_f)\n",
    "# list_args= [[500],[1000],[2000]]+[[]]\n",
    "# list_args= [[500]]\n",
    "overwrite = False\n",
    "load_graphs = True\n",
    "num_parallel = 32\n",
    "time = \"12:00:00\"\n",
    "for index, row in analysis_folders.iterrows():\n",
    "    folder = row[\"folder_analysis\"]\n",
    "    path_time_plate_info = row[\"path_time_plate_info\"]\n",
    "    plate = row[\"Plate\"]\n",
    "    num_cpus = 32\n",
    "    if os.path.isfile(f\"{directory_targ}{path_time_plate_info}\"):\n",
    "        whole_plate_info = pd.read_json(\n",
    "            f\"{directory_targ}{path_time_plate_info}\", convert_dates=True\n",
    "        ).transpose()\n",
    "        whole_plate_info.index.name = \"t\"\n",
    "        whole_plate_info.reset_index(inplace=True)\n",
    "        run_parallel_post(\n",
    "            \"time_hypha_post_process.py\",\n",
    "            list_f,\n",
    "            list_args,\n",
    "            [directory_targ, overwrite, load_graphs],\n",
    "            whole_plate_info,\n",
    "            num_parallel,\n",
    "            time,\n",
    "            \"time_hypha_post_process\",\n",
    "            cpus=num_cpus,\n",
    "            name_job=name_job,\n",
    "            node=\"fat\",\n",
    "        )"
   ]
  }
 ],
 "metadata": {
  "kernelspec": {
   "display_name": "Python 3 (ipykernel)",
   "language": "python",
   "name": "python3"
  },
  "language_info": {
   "codemirror_mode": {
    "name": "ipython",
    "version": 3
   },
   "file_extension": ".py",
   "mimetype": "text/x-python",
   "name": "python",
   "nbconvert_exporter": "python",
   "pygments_lexer": "ipython3",
   "version": "3.7.13"
  }
 },
 "nbformat": 4,
 "nbformat_minor": 5
}

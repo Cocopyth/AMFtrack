{
 "cells": [
  {
   "cell_type": "code",
<<<<<<< HEAD
   "execution_count": null,
=======
   "execution_count": 1,
>>>>>>> 32a9d59dd8e808d26fbbd8cb90159fecc49f3687
   "id": "b608afbc-ca48-476f-a966-f94e310ea7ab",
   "metadata": {
    "tags": []
   },
<<<<<<< HEAD
   "outputs": [],
=======
   "outputs": [
    {
     "name": "stderr",
     "output_type": "stream",
     "text": [
      "/gpfs/home2/cbisot/pycode/AMFtrack/amftrack/util/dbx.py:3: TqdmExperimentalWarning: Using `tqdm.autonotebook.tqdm` in notebook mode. Use `tqdm.tqdm` instead to force console mode (e.g. in jupyter console)\n",
      "  from tqdm.autonotebook import tqdm\n"
     ]
    }
   ],
>>>>>>> 32a9d59dd8e808d26fbbd8cb90159fecc49f3687
   "source": [
    "%load_ext autoreload\n",
    "%autoreload 2\n",
    "from amftrack.pipeline.launching.run_super import (\n",
    "    run_launcher,\n",
    "    directory_scratch,\n",
    "    directory_project,\n",
    "    directory_project,\n",
    "    run_parallel_stitch,\n",
    "    run_parallel_transfer,\n",
    ")\n",
    "import os\n",
    "from amftrack.util.sys import (\n",
    "    get_dates_datetime,\n",
    "    get_dirname,\n",
    "    temp_path,\n",
    "    get_data_info,\n",
    "    update_plate_info,\n",
    "    update_analysis_info,\n",
    "    get_analysis_info,\n",
    "    get_current_folders,\n",
    "    get_folders_by_plate_id,\n",
    ")\n",
    "\n",
    "from time import time_ns\n",
    "\n",
    "from amftrack.util.dbx import upload_folders, load_dbx, download\n",
    "from datetime import datetime\n",
    "from amftrack.pipeline.launching.run_super import (\n",
    "    run_parallel,\n",
    "    directory_scratch,\n",
    "    directory_project,\n",
    "    run_parallel_stitch,\n",
    ")\n",
    "from amftrack.util.dbx import (\n",
    "    read_saved_dropbox_state,\n",
    "    get_dropbox_folders_prince,\n",
    "    get_dropbox_folders_prince,\n",
    "    save_dropbox_state,\n",
    "    get_dropbox_folders_general_recursive,\n",
    ")"
   ]
  },
  {
   "cell_type": "code",
   "execution_count": null,
   "id": "1e563917-9817-4a86-9831-9019236272ca",
   "metadata": {},
   "outputs": [],
   "source": [
    "plates "
   ]
  },
  {
   "cell_type": "code",
<<<<<<< HEAD
   "execution_count": null,
=======
   "execution_count": 2,
>>>>>>> 32a9d59dd8e808d26fbbd8cb90159fecc49f3687
   "id": "d0ab6300-0f4b-44fa-8bc8-ded8f88ae68c",
   "metadata": {},
   "outputs": [],
   "source": [
    "# get_surface_area\n",
    "plates = ['381_20231107','395_20231201']"
   ]
  },
  {
   "cell_type": "code",
<<<<<<< HEAD
   "execution_count": null,
=======
   "execution_count": 2,
>>>>>>> 32a9d59dd8e808d26fbbd8cb90159fecc49f3687
   "id": "cb6d5b70-bc20-48c7-8b35-5ed0aaed1233",
   "metadata": {},
   "outputs": [],
   "source": [
    "# vasilis\n",
    "plates = [\"777_20230328\", \"471_20230821\", \"447_20230821\",\"510_20221201\",\"521_20230104\"]"
   ]
  },
  {
   "cell_type": "code",
<<<<<<< HEAD
   "execution_count": null,
=======
   "execution_count": 16,
>>>>>>> 32a9d59dd8e808d26fbbd8cb90159fecc49f3687
   "id": "c14029a1-6426-4582-8e5b-b129a84e123e",
   "metadata": {},
   "outputs": [],
   "source": [
    "# more A5\n",
    "plates = [\n",
    "\"304_20230714\",\n",
    "\"301_20230717\",\n",
    "\"323_20230807\",\n",
    "\"373_20230920\",\n",
    "\"366_20230921\",\n",
    "\"372_20230929\",\n",
    "\"377_20230929\",\n",
    "\"358_20231003\",\n",
    "\"365_20231003\",\n",
    "\"379_20231003\",\n",
    "\"368_20231009\"\n",
    "]\n",
    "plates = [\n",
    "\"304_20230714\",\n",
    "# \"372_20230929\",\n",
    "# \"358_20231003\",\n",
    "# \"379_20231003\",\n",
    "# \"368_20231009\"\n",
    "]"
   ]
  },
  {
   "cell_type": "code",
<<<<<<< HEAD
   "execution_count": null,
=======
   "execution_count": 8,
>>>>>>> 32a9d59dd8e808d26fbbd8cb90159fecc49f3687
   "id": "e4a5e2db-d53f-41c9-8acd-013963dd4d1e",
   "metadata": {},
   "outputs": [],
   "source": [
    "#A5\n",
    "plates = [\n",
    "\"310_20230830\"\n",
    "]"
   ]
  },
  {
   "cell_type": "code",
<<<<<<< HEAD
   "execution_count": null,
=======
   "execution_count": 7,
>>>>>>> 32a9d59dd8e808d26fbbd8cb90159fecc49f3687
   "id": "84dd8e10-2b10-41ef-92a1-185b52b1c94a",
   "metadata": {},
   "outputs": [],
   "source": [
    "# for reROI\n",
    "plates = [\n",
    "    \"28_20230227\",\n",
    "    \"206_20230303\",\n",
    "    \"202_20230314\",\n",
    "    \"218_20230227\",\n",
    "    \"219_20230307\",\n",
    "    \"229_20230330\",\n",
    "]\n",
    "plates += [\n",
    "    \"249_20230324\",\n",
    "    \"241_20230403\",\n",
    "    \"252_20230316\",\n",
    "    \"248_20230320\",\n",
    "]"
   ]
  },
  {
   "cell_type": "code",
<<<<<<< HEAD
   "execution_count": null,
=======
   "execution_count": 13,
>>>>>>> 32a9d59dd8e808d26fbbd8cb90159fecc49f3687
   "id": "a4350291-73d5-4893-aef4-66008f184936",
   "metadata": {},
   "outputs": [],
   "source": [
    "# for P\n",
    "plates = [\n",
    "    '478_20230814', '468_20230809', '447_20230821', '487_20230922',\n",
    "       '492_20230901', '471_20230821',\n",
    "    '486_20231009',\n",
    "       '494_20230908',\n",
    "          '482_20230908',\n",
    "          '495_20231013',\n",
    "          '463_20231013',\n",
    "       '491_20231013', \n",
    "          '481_20231005', '483_20231005', \n",
    "          '490_20231003',\n",
    "       '485_20230929',\n",
    "          \"310_20230830\"\n",
    "         ]"
   ]
  },
  {
   "cell_type": "code",
<<<<<<< HEAD
   "execution_count": null,
=======
   "execution_count": 2,
>>>>>>> 32a9d59dd8e808d26fbbd8cb90159fecc49f3687
   "id": "c10a8db3-3be2-406c-81b1-0e72bcda439d",
   "metadata": {},
   "outputs": [],
   "source": [
    "plates = [\n",
    "          \"310_20230830\"\n",
    "         ]"
   ]
  },
  {
   "cell_type": "code",
<<<<<<< HEAD
   "execution_count": null,
=======
   "execution_count": 2,
>>>>>>> 32a9d59dd8e808d26fbbd8cb90159fecc49f3687
   "id": "e0eb5bb6-3a87-4cba-8cf8-21c59c70f01c",
   "metadata": {},
   "outputs": [],
   "source": [
    "# plates = [\n",
    "# \"241_20230403\",\n",
    "# \"247_20230422\"\n",
    "# ]\n",
    "# runnning on 31/05\n",
    "plates = [\n",
    "    \"557_20230120\",\n",
    "    \"553_20230106\",\n",
    "    \"551_20220102\",\n",
    "    \"545_20220115\",\n",
    "    \"540_20221227\",\n",
    "    \"539_20221228\",\n",
    "    \"533_20230109\",\n",
    "    \"532_20230104\",\n",
    "    \"531_20221222\",\n",
    "    \"530_20230115\",\n",
    "]"
   ]
  },
  {
   "cell_type": "code",
<<<<<<< HEAD
   "execution_count": null,
=======
   "execution_count": 5,
>>>>>>> 32a9d59dd8e808d26fbbd8cb90159fecc49f3687
   "id": "90ac5c9a-cfe3-4c00-8085-b9639919a1be",
   "metadata": {},
   "outputs": [],
   "source": [
    "# for chicory\n",
    "plates = [\n",
    "    \"896_20230424\",\n",
    "    \"894_20230516\",\n",
    "    \"891_20230519\",\n",
    "    \"886_20230516\",\n",
    "    \"870_20230427\",\n",
    "    \"868_20230504\",\n",
    "    \"796_20230419\",\n",
    "    \"795_20230403\",\n",
    "    \"764_20221219\",\n",
    "]"
   ]
  },
  {
   "cell_type": "code",
<<<<<<< HEAD
   "execution_count": null,
=======
   "execution_count": 2,
>>>>>>> 32a9d59dd8e808d26fbbd8cb90159fecc49f3687
   "id": "e4ce8008-7118-463e-977a-b49d8cf661fd",
   "metadata": {},
   "outputs": [],
   "source": [
    "# for P\n",
    "plates = [\n",
    "    # \"416_20230705\",\n",
    "    # \"427_20230707\",\n",
    "    # \"420_20230705\",\n",
    "    # \"431_20230627\",\n",
    "    # \"474_20230807\",\n",
    "    # \"460_20230807\",\n",
    "    # \"464_20230807\",\n",
    "    \"440_20230723\",\n",
    "    # \"436_20230717\",\n",
    "    # \"443_20230720\",\n",
    "    # \"439_20230804\",\n",
    "    # \"470_20230709\",\n",
    "]"
   ]
  },
  {
   "cell_type": "code",
<<<<<<< HEAD
   "execution_count": null,
   "id": "50c944da-ef14-4242-b6ac-48aea758abbb",
   "metadata": {},
   "outputs": [],
=======
   "execution_count": 3,
   "id": "50c944da-ef14-4242-b6ac-48aea758abbb",
   "metadata": {},
   "outputs": [
    {
     "data": {
      "text/plain": [
       "'/projects/0/einf914/data/'"
      ]
     },
     "execution_count": 3,
     "metadata": {},
     "output_type": "execute_result"
    }
   ],
>>>>>>> 32a9d59dd8e808d26fbbd8cb90159fecc49f3687
   "source": [
    "directory_targ = directory_project\n",
    "directory_project"
   ]
  },
  {
   "cell_type": "code",
<<<<<<< HEAD
   "execution_count": null,
=======
   "execution_count": 6,
>>>>>>> 32a9d59dd8e808d26fbbd8cb90159fecc49f3687
   "id": "79fdc066-12e4-4708-a4f7-9d681e55ee14",
   "metadata": {},
   "outputs": [],
   "source": [
    "directory_targ = os.path.join(directory_scratch, \"stitch_temp\") + \"/\""
   ]
  },
  {
   "cell_type": "code",
   "execution_count": null,
   "id": "a0cd5156-1751-427c-a19f-84644c5e34e6",
   "metadata": {
<<<<<<< HEAD
=======
    "collapsed": true,
>>>>>>> 32a9d59dd8e808d26fbbd8cb90159fecc49f3687
    "jupyter": {
     "outputs_hidden": true
    },
    "tags": []
   },
<<<<<<< HEAD
   "outputs": [],
=======
   "outputs": [
    {
     "name": "stdout",
     "output_type": "stream",
     "text": [
      "2023-11-17 23:25:22,275-[INFO]- dropbox:390 -> Refreshing access token.\n",
      "2023-11-17 23:25:22,508-[INFO]- dropbox:474 -> Request to files/list_folder\n",
      "2023-11-17 23:25:23,462-[INFO]- dropbox:474 -> Request to files/list_folder/continue\n"
     ]
    },
    {
     "data": {
      "application/vnd.jupyter.widget-view+json": {
       "model_id": "edfcfcc5473f481a9e0f99cfb5a3f26b",
       "version_major": 2,
       "version_minor": 0
      },
      "text/plain": [
       "sizes:   0%|          | 0/728 [00:00<?, ?it/s]"
      ]
     },
     "metadata": {},
     "output_type": "display_data"
    },
    {
     "name": "stdout",
     "output_type": "stream",
     "text": [
      "2023-11-17 23:25:24,129-[INFO]- dropbox:390 -> Refreshing access token.\n",
      "2023-11-17 23:25:24,353-[INFO]- dropbox:474 -> Request to files/list_folder\n",
      "2023-11-17 23:25:24,784-[INFO]- dropbox:390 -> Refreshing access token.\n",
      "2023-11-17 23:25:24,944-[INFO]- dropbox:474 -> Request to files/list_folder\n",
      "2023-11-17 23:25:25,362-[INFO]- dropbox:390 -> Refreshing access token.\n",
      "2023-11-17 23:25:25,511-[INFO]- dropbox:474 -> Request to files/list_folder\n",
      "2023-11-17 23:25:26,009-[INFO]- dropbox:390 -> Refreshing access token.\n",
      "2023-11-17 23:25:26,169-[INFO]- dropbox:474 -> Request to files/list_folder\n",
      "2023-11-17 23:25:26,516-[INFO]- dropbox:390 -> Refreshing access token.\n",
      "2023-11-17 23:25:26,691-[INFO]- dropbox:474 -> Request to files/list_folder\n",
      "2023-11-17 23:25:27,075-[INFO]- dropbox:390 -> Refreshing access token.\n",
      "2023-11-17 23:25:27,252-[INFO]- dropbox:474 -> Request to files/list_folder\n",
      "2023-11-17 23:25:27,736-[INFO]- dropbox:390 -> Refreshing access token.\n",
      "2023-11-17 23:25:27,900-[INFO]- dropbox:474 -> Request to files/list_folder\n",
      "2023-11-17 23:25:28,262-[INFO]- dropbox:390 -> Refreshing access token.\n",
      "2023-11-17 23:25:28,427-[INFO]- dropbox:474 -> Request to files/list_folder\n",
      "2023-11-17 23:25:28,930-[INFO]- dropbox:390 -> Refreshing access token.\n",
      "2023-11-17 23:25:29,078-[INFO]- dropbox:474 -> Request to files/list_folder\n",
      "2023-11-17 23:25:29,508-[INFO]- dropbox:390 -> Refreshing access token.\n",
      "2023-11-17 23:25:29,656-[INFO]- dropbox:474 -> Request to files/list_folder\n",
      "2023-11-17 23:25:30,400-[INFO]- dropbox:390 -> Refreshing access token.\n",
      "2023-11-17 23:25:30,555-[INFO]- dropbox:474 -> Request to files/list_folder\n",
      "2023-11-17 23:25:31,139-[INFO]- dropbox:390 -> Refreshing access token.\n",
      "2023-11-17 23:25:31,284-[INFO]- dropbox:474 -> Request to files/list_folder\n",
      "2023-11-17 23:25:31,664-[INFO]- dropbox:390 -> Refreshing access token.\n",
      "2023-11-17 23:25:31,840-[INFO]- dropbox:474 -> Request to files/list_folder\n",
      "2023-11-17 23:25:32,119-[INFO]- dropbox:390 -> Refreshing access token.\n",
      "2023-11-17 23:25:32,266-[INFO]- dropbox:474 -> Request to files/list_folder\n",
      "2023-11-17 23:25:33,495-[INFO]- dropbox:390 -> Refreshing access token.\n",
      "2023-11-17 23:25:33,641-[INFO]- dropbox:474 -> Request to files/list_folder\n",
      "2023-11-17 23:25:33,979-[INFO]- dropbox:390 -> Refreshing access token.\n",
      "2023-11-17 23:25:34,124-[INFO]- dropbox:474 -> Request to files/list_folder\n",
      "2023-11-17 23:25:34,435-[INFO]- dropbox:390 -> Refreshing access token.\n",
      "2023-11-17 23:25:34,578-[INFO]- dropbox:474 -> Request to files/list_folder\n",
      "2023-11-17 23:25:34,858-[INFO]- dropbox:390 -> Refreshing access token.\n",
      "2023-11-17 23:25:35,000-[INFO]- dropbox:474 -> Request to files/list_folder\n",
      "2023-11-17 23:25:35,435-[INFO]- dropbox:390 -> Refreshing access token.\n",
      "2023-11-17 23:25:35,601-[INFO]- dropbox:474 -> Request to files/list_folder\n",
      "2023-11-17 23:25:36,091-[INFO]- dropbox:390 -> Refreshing access token.\n",
      "2023-11-17 23:25:36,241-[INFO]- dropbox:474 -> Request to files/list_folder\n",
      "2023-11-17 23:25:36,631-[INFO]- dropbox:390 -> Refreshing access token.\n",
      "2023-11-17 23:25:36,776-[INFO]- dropbox:474 -> Request to files/list_folder\n",
      "2023-11-17 23:25:37,293-[INFO]- dropbox:390 -> Refreshing access token.\n",
      "2023-11-17 23:25:37,445-[INFO]- dropbox:474 -> Request to files/list_folder\n",
      "2023-11-17 23:25:38,153-[INFO]- dropbox:390 -> Refreshing access token.\n",
      "2023-11-17 23:25:38,307-[INFO]- dropbox:474 -> Request to files/list_folder\n",
      "2023-11-17 23:25:38,876-[INFO]- dropbox:390 -> Refreshing access token.\n",
      "2023-11-17 23:25:39,029-[INFO]- dropbox:474 -> Request to files/list_folder\n",
      "2023-11-17 23:25:39,424-[INFO]- dropbox:390 -> Refreshing access token.\n",
      "2023-11-17 23:25:39,586-[INFO]- dropbox:474 -> Request to files/list_folder\n",
      "2023-11-17 23:25:40,074-[INFO]- dropbox:390 -> Refreshing access token.\n",
      "2023-11-17 23:25:40,225-[INFO]- dropbox:474 -> Request to files/list_folder\n",
      "2023-11-17 23:25:40,828-[INFO]- dropbox:390 -> Refreshing access token.\n",
      "2023-11-17 23:25:40,972-[INFO]- dropbox:474 -> Request to files/list_folder\n",
      "2023-11-17 23:25:41,446-[INFO]- dropbox:390 -> Refreshing access token.\n",
      "2023-11-17 23:25:41,596-[INFO]- dropbox:474 -> Request to files/list_folder\n",
      "2023-11-17 23:25:42,075-[INFO]- dropbox:390 -> Refreshing access token.\n",
      "2023-11-17 23:25:42,220-[INFO]- dropbox:474 -> Request to files/list_folder\n",
      "2023-11-17 23:25:42,536-[INFO]- dropbox:390 -> Refreshing access token.\n",
      "2023-11-17 23:25:42,690-[INFO]- dropbox:474 -> Request to files/list_folder\n",
      "2023-11-17 23:25:43,081-[INFO]- dropbox:390 -> Refreshing access token.\n",
      "2023-11-17 23:25:43,243-[INFO]- dropbox:474 -> Request to files/list_folder\n",
      "2023-11-17 23:25:43,932-[INFO]- dropbox:390 -> Refreshing access token.\n",
      "2023-11-17 23:25:44,096-[INFO]- dropbox:474 -> Request to files/list_folder\n",
      "2023-11-17 23:25:44,503-[INFO]- dropbox:390 -> Refreshing access token.\n",
      "2023-11-17 23:25:44,657-[INFO]- dropbox:474 -> Request to files/list_folder\n",
      "2023-11-17 23:25:45,424-[INFO]- dropbox:390 -> Refreshing access token.\n",
      "2023-11-17 23:25:45,574-[INFO]- dropbox:474 -> Request to files/list_folder\n",
      "2023-11-17 23:25:47,042-[INFO]- dropbox:390 -> Refreshing access token.\n",
      "2023-11-17 23:25:47,192-[INFO]- dropbox:474 -> Request to files/list_folder\n",
      "2023-11-17 23:25:48,302-[INFO]- dropbox:474 -> Request to files/list_folder/continue\n",
      "2023-11-17 23:25:49,440-[INFO]- dropbox:474 -> Request to files/list_folder/continue\n",
      "2023-11-17 23:25:49,749-[INFO]- dropbox:390 -> Refreshing access token.\n",
      "2023-11-17 23:25:50,223-[INFO]- dropbox:474 -> Request to files/list_folder\n",
      "2023-11-17 23:25:50,886-[INFO]- dropbox:390 -> Refreshing access token.\n",
      "2023-11-17 23:25:51,043-[INFO]- dropbox:474 -> Request to files/list_folder\n",
      "2023-11-17 23:25:51,378-[INFO]- dropbox:390 -> Refreshing access token.\n",
      "2023-11-17 23:25:51,529-[INFO]- dropbox:474 -> Request to files/list_folder\n",
      "2023-11-17 23:25:52,089-[INFO]- dropbox:390 -> Refreshing access token.\n",
      "2023-11-17 23:25:52,233-[INFO]- dropbox:474 -> Request to files/list_folder\n",
      "2023-11-17 23:25:52,787-[INFO]- dropbox:390 -> Refreshing access token.\n",
      "2023-11-17 23:25:52,935-[INFO]- dropbox:474 -> Request to files/list_folder\n",
      "2023-11-17 23:25:53,468-[INFO]- dropbox:390 -> Refreshing access token.\n",
      "2023-11-17 23:25:53,615-[INFO]- dropbox:474 -> Request to files/list_folder\n",
      "2023-11-17 23:25:54,275-[INFO]- dropbox:390 -> Refreshing access token.\n",
      "2023-11-17 23:25:54,438-[INFO]- dropbox:474 -> Request to files/list_folder\n",
      "2023-11-17 23:25:54,888-[INFO]- dropbox:390 -> Refreshing access token.\n",
      "2023-11-17 23:25:55,038-[INFO]- dropbox:474 -> Request to files/list_folder\n",
      "2023-11-17 23:25:55,547-[INFO]- dropbox:390 -> Refreshing access token.\n",
      "2023-11-17 23:25:55,702-[INFO]- dropbox:474 -> Request to files/list_folder\n",
      "2023-11-17 23:25:56,125-[INFO]- dropbox:390 -> Refreshing access token.\n",
      "2023-11-17 23:25:56,287-[INFO]- dropbox:474 -> Request to files/list_folder\n",
      "2023-11-17 23:25:56,822-[INFO]- dropbox:390 -> Refreshing access token.\n",
      "2023-11-17 23:25:56,976-[INFO]- dropbox:474 -> Request to files/list_folder\n",
      "2023-11-17 23:25:57,458-[INFO]- dropbox:390 -> Refreshing access token.\n",
      "2023-11-17 23:25:57,612-[INFO]- dropbox:474 -> Request to files/list_folder\n",
      "2023-11-17 23:25:58,199-[INFO]- dropbox:390 -> Refreshing access token.\n",
      "2023-11-17 23:25:58,361-[INFO]- dropbox:474 -> Request to files/list_folder\n",
      "2023-11-17 23:25:58,668-[INFO]- dropbox:390 -> Refreshing access token.\n",
      "2023-11-17 23:25:58,815-[INFO]- dropbox:474 -> Request to files/list_folder\n",
      "2023-11-17 23:25:59,505-[INFO]- dropbox:390 -> Refreshing access token.\n",
      "2023-11-17 23:25:59,654-[INFO]- dropbox:474 -> Request to files/list_folder\n",
      "2023-11-17 23:26:00,145-[INFO]- dropbox:390 -> Refreshing access token.\n",
      "2023-11-17 23:26:00,293-[INFO]- dropbox:474 -> Request to files/list_folder\n",
      "2023-11-17 23:26:01,978-[INFO]- dropbox:390 -> Refreshing access token.\n",
      "2023-11-17 23:26:02,126-[INFO]- dropbox:474 -> Request to files/list_folder\n",
      "2023-11-17 23:26:02,678-[INFO]- dropbox:390 -> Refreshing access token.\n",
      "2023-11-17 23:26:02,833-[INFO]- dropbox:474 -> Request to files/list_folder\n",
      "2023-11-17 23:26:04,206-[INFO]- dropbox:390 -> Refreshing access token.\n",
      "2023-11-17 23:26:04,351-[INFO]- dropbox:474 -> Request to files/list_folder\n",
      "2023-11-17 23:26:04,845-[INFO]- dropbox:390 -> Refreshing access token.\n",
      "2023-11-17 23:26:04,995-[INFO]- dropbox:474 -> Request to files/list_folder\n",
      "2023-11-17 23:26:06,544-[INFO]- dropbox:390 -> Refreshing access token.\n",
      "2023-11-17 23:26:06,703-[INFO]- dropbox:474 -> Request to files/list_folder\n",
      "2023-11-17 23:26:07,434-[INFO]- dropbox:390 -> Refreshing access token.\n",
      "2023-11-17 23:26:07,584-[INFO]- dropbox:474 -> Request to files/list_folder\n",
      "2023-11-17 23:26:08,542-[INFO]- dropbox:390 -> Refreshing access token.\n",
      "2023-11-17 23:26:08,696-[INFO]- dropbox:474 -> Request to files/list_folder\n",
      "2023-11-17 23:26:09,603-[INFO]- dropbox:474 -> Request to files/list_folder/continue\n",
      "2023-11-17 23:26:09,853-[INFO]- dropbox:390 -> Refreshing access token.\n",
      "2023-11-17 23:26:10,000-[INFO]- dropbox:474 -> Request to files/list_folder\n",
      "2023-11-17 23:26:10,500-[INFO]- dropbox:390 -> Refreshing access token.\n",
      "2023-11-17 23:26:10,682-[INFO]- dropbox:474 -> Request to files/list_folder\n",
      "2023-11-17 23:26:11,567-[INFO]- dropbox:390 -> Refreshing access token.\n",
      "2023-11-17 23:26:11,713-[INFO]- dropbox:474 -> Request to files/list_folder\n",
      "2023-11-17 23:26:12,407-[INFO]- dropbox:390 -> Refreshing access token.\n",
      "2023-11-17 23:26:12,553-[INFO]- dropbox:474 -> Request to files/list_folder\n",
      "2023-11-17 23:26:13,264-[INFO]- dropbox:390 -> Refreshing access token.\n",
      "2023-11-17 23:26:13,416-[INFO]- dropbox:474 -> Request to files/list_folder\n",
      "2023-11-17 23:26:13,894-[INFO]- dropbox:390 -> Refreshing access token.\n",
      "2023-11-17 23:26:14,051-[INFO]- dropbox:474 -> Request to files/list_folder\n",
      "2023-11-17 23:26:14,709-[INFO]- dropbox:390 -> Refreshing access token.\n",
      "2023-11-17 23:26:14,860-[INFO]- dropbox:474 -> Request to files/list_folder\n",
      "2023-11-17 23:26:15,614-[INFO]- dropbox:390 -> Refreshing access token.\n",
      "2023-11-17 23:26:15,765-[INFO]- dropbox:474 -> Request to files/list_folder\n",
      "2023-11-17 23:26:16,234-[INFO]- dropbox:390 -> Refreshing access token.\n",
      "2023-11-17 23:26:16,379-[INFO]- dropbox:474 -> Request to files/list_folder\n",
      "2023-11-17 23:26:17,140-[INFO]- dropbox:390 -> Refreshing access token.\n",
      "2023-11-17 23:26:17,285-[INFO]- dropbox:474 -> Request to files/list_folder\n",
      "2023-11-17 23:26:17,649-[INFO]- dropbox:390 -> Refreshing access token.\n",
      "2023-11-17 23:26:17,798-[INFO]- dropbox:474 -> Request to files/list_folder\n",
      "2023-11-17 23:26:18,299-[INFO]- dropbox:390 -> Refreshing access token.\n",
      "2023-11-17 23:26:18,446-[INFO]- dropbox:474 -> Request to files/list_folder\n",
      "2023-11-17 23:26:19,123-[INFO]- dropbox:390 -> Refreshing access token.\n",
      "2023-11-17 23:26:19,266-[INFO]- dropbox:474 -> Request to files/list_folder\n",
      "2023-11-17 23:26:19,791-[INFO]- dropbox:390 -> Refreshing access token.\n",
      "2023-11-17 23:26:19,952-[INFO]- dropbox:474 -> Request to files/list_folder\n",
      "2023-11-17 23:26:20,457-[INFO]- dropbox:390 -> Refreshing access token.\n",
      "2023-11-17 23:26:20,605-[INFO]- dropbox:474 -> Request to files/list_folder\n",
      "2023-11-17 23:26:21,567-[INFO]- dropbox:390 -> Refreshing access token.\n",
      "2023-11-17 23:26:21,711-[INFO]- dropbox:474 -> Request to files/list_folder\n",
      "2023-11-17 23:26:22,311-[INFO]- dropbox:390 -> Refreshing access token.\n",
      "2023-11-17 23:26:22,481-[INFO]- dropbox:474 -> Request to files/list_folder\n",
      "2023-11-17 23:26:22,854-[INFO]- dropbox:390 -> Refreshing access token.\n",
      "2023-11-17 23:26:23,001-[INFO]- dropbox:474 -> Request to files/list_folder\n",
      "2023-11-17 23:26:23,695-[INFO]- dropbox:390 -> Refreshing access token.\n",
      "2023-11-17 23:26:23,850-[INFO]- dropbox:474 -> Request to files/list_folder\n",
      "2023-11-17 23:26:24,358-[INFO]- dropbox:390 -> Refreshing access token.\n",
      "2023-11-17 23:26:24,520-[INFO]- dropbox:474 -> Request to files/list_folder\n",
      "2023-11-17 23:26:24,977-[INFO]- dropbox:390 -> Refreshing access token.\n",
      "2023-11-17 23:26:25,130-[INFO]- dropbox:474 -> Request to files/list_folder\n",
      "2023-11-17 23:26:25,565-[INFO]- dropbox:390 -> Refreshing access token.\n",
      "2023-11-17 23:26:25,717-[INFO]- dropbox:474 -> Request to files/list_folder\n",
      "2023-11-17 23:26:26,070-[INFO]- dropbox:390 -> Refreshing access token.\n",
      "2023-11-17 23:26:26,222-[INFO]- dropbox:474 -> Request to files/list_folder\n",
      "2023-11-17 23:26:26,651-[INFO]- dropbox:390 -> Refreshing access token.\n",
      "2023-11-17 23:26:26,794-[INFO]- dropbox:474 -> Request to files/list_folder\n",
      "2023-11-17 23:26:27,105-[INFO]- dropbox:390 -> Refreshing access token.\n",
      "2023-11-17 23:26:27,264-[INFO]- dropbox:474 -> Request to files/list_folder\n",
      "2023-11-17 23:26:27,818-[INFO]- dropbox:390 -> Refreshing access token.\n",
      "2023-11-17 23:26:27,962-[INFO]- dropbox:474 -> Request to files/list_folder\n",
      "2023-11-17 23:26:28,719-[INFO]- dropbox:390 -> Refreshing access token.\n",
      "2023-11-17 23:26:28,867-[INFO]- dropbox:474 -> Request to files/list_folder\n",
      "2023-11-17 23:26:29,266-[INFO]- dropbox:390 -> Refreshing access token.\n",
      "2023-11-17 23:26:29,424-[INFO]- dropbox:474 -> Request to files/list_folder\n",
      "2023-11-17 23:26:29,829-[INFO]- dropbox:390 -> Refreshing access token.\n",
      "2023-11-17 23:26:29,975-[INFO]- dropbox:474 -> Request to files/list_folder\n",
      "2023-11-17 23:26:30,502-[INFO]- dropbox:390 -> Refreshing access token.\n",
      "2023-11-17 23:26:30,693-[INFO]- dropbox:474 -> Request to files/list_folder\n",
      "2023-11-17 23:26:31,354-[INFO]- dropbox:390 -> Refreshing access token.\n",
      "2023-11-17 23:26:31,532-[INFO]- dropbox:474 -> Request to files/list_folder\n",
      "2023-11-17 23:26:31,810-[INFO]- dropbox:390 -> Refreshing access token.\n",
      "2023-11-17 23:26:31,962-[INFO]- dropbox:474 -> Request to files/list_folder\n",
      "2023-11-17 23:26:32,455-[INFO]- dropbox:390 -> Refreshing access token.\n",
      "2023-11-17 23:26:32,605-[INFO]- dropbox:474 -> Request to files/list_folder\n",
      "2023-11-17 23:26:32,905-[INFO]- dropbox:390 -> Refreshing access token.\n",
      "2023-11-17 23:26:33,064-[INFO]- dropbox:474 -> Request to files/list_folder\n",
      "2023-11-17 23:26:33,433-[INFO]- dropbox:390 -> Refreshing access token.\n",
      "2023-11-17 23:26:33,600-[INFO]- dropbox:474 -> Request to files/list_folder\n",
      "2023-11-17 23:26:34,096-[INFO]- dropbox:390 -> Refreshing access token.\n",
      "2023-11-17 23:26:34,353-[INFO]- dropbox:474 -> Request to files/list_folder\n",
      "2023-11-17 23:26:34,893-[INFO]- dropbox:390 -> Refreshing access token.\n",
      "2023-11-17 23:26:35,192-[INFO]- dropbox:474 -> Request to files/list_folder\n",
      "2023-11-17 23:26:35,872-[INFO]- dropbox:390 -> Refreshing access token.\n",
      "2023-11-17 23:26:36,019-[INFO]- dropbox:474 -> Request to files/list_folder\n",
      "2023-11-17 23:26:36,595-[INFO]- dropbox:390 -> Refreshing access token.\n",
      "2023-11-17 23:26:36,738-[INFO]- dropbox:474 -> Request to files/list_folder\n",
      "2023-11-17 23:26:37,275-[INFO]- dropbox:390 -> Refreshing access token.\n",
      "2023-11-17 23:26:37,419-[INFO]- dropbox:474 -> Request to files/list_folder\n",
      "2023-11-17 23:26:37,747-[INFO]- dropbox:390 -> Refreshing access token.\n",
      "2023-11-17 23:26:37,895-[INFO]- dropbox:474 -> Request to files/list_folder\n",
      "2023-11-17 23:26:38,589-[INFO]- dropbox:390 -> Refreshing access token.\n",
      "2023-11-17 23:26:38,767-[INFO]- dropbox:474 -> Request to files/list_folder\n",
      "2023-11-17 23:26:39,189-[INFO]- dropbox:390 -> Refreshing access token.\n",
      "2023-11-17 23:26:39,379-[INFO]- dropbox:474 -> Request to files/list_folder\n",
      "2023-11-17 23:26:39,846-[INFO]- dropbox:390 -> Refreshing access token.\n",
      "2023-11-17 23:26:40,000-[INFO]- dropbox:474 -> Request to files/list_folder\n",
      "2023-11-17 23:26:40,288-[INFO]- dropbox:390 -> Refreshing access token.\n",
      "2023-11-17 23:26:40,432-[INFO]- dropbox:474 -> Request to files/list_folder\n",
      "2023-11-17 23:26:40,778-[INFO]- dropbox:390 -> Refreshing access token.\n",
      "2023-11-17 23:26:40,928-[INFO]- dropbox:474 -> Request to files/list_folder\n",
      "2023-11-17 23:26:41,292-[INFO]- dropbox:390 -> Refreshing access token.\n",
      "2023-11-17 23:26:41,442-[INFO]- dropbox:474 -> Request to files/list_folder\n",
      "2023-11-17 23:26:41,786-[INFO]- dropbox:390 -> Refreshing access token.\n",
      "2023-11-17 23:26:41,945-[INFO]- dropbox:474 -> Request to files/list_folder\n",
      "2023-11-17 23:26:42,683-[INFO]- dropbox:390 -> Refreshing access token.\n",
      "2023-11-17 23:26:42,845-[INFO]- dropbox:474 -> Request to files/list_folder\n",
      "2023-11-17 23:26:43,512-[INFO]- dropbox:390 -> Refreshing access token.\n",
      "2023-11-17 23:26:43,706-[INFO]- dropbox:474 -> Request to files/list_folder\n",
      "2023-11-17 23:26:44,350-[INFO]- dropbox:390 -> Refreshing access token.\n",
      "2023-11-17 23:26:44,519-[INFO]- dropbox:474 -> Request to files/list_folder\n",
      "2023-11-17 23:26:44,978-[INFO]- dropbox:390 -> Refreshing access token.\n",
      "2023-11-17 23:26:45,120-[INFO]- dropbox:474 -> Request to files/list_folder\n",
      "2023-11-17 23:26:45,558-[INFO]- dropbox:390 -> Refreshing access token.\n",
      "2023-11-17 23:26:45,705-[INFO]- dropbox:474 -> Request to files/list_folder\n",
      "2023-11-17 23:26:46,137-[INFO]- dropbox:390 -> Refreshing access token.\n",
      "2023-11-17 23:26:46,292-[INFO]- dropbox:474 -> Request to files/list_folder\n",
      "2023-11-17 23:26:46,880-[INFO]- dropbox:390 -> Refreshing access token.\n",
      "2023-11-17 23:26:47,028-[INFO]- dropbox:474 -> Request to files/list_folder\n",
      "2023-11-17 23:26:47,524-[INFO]- dropbox:390 -> Refreshing access token.\n",
      "2023-11-17 23:26:47,684-[INFO]- dropbox:474 -> Request to files/list_folder\n",
      "2023-11-17 23:26:48,015-[INFO]- dropbox:390 -> Refreshing access token.\n",
      "2023-11-17 23:26:48,171-[INFO]- dropbox:474 -> Request to files/list_folder\n",
      "2023-11-17 23:26:48,527-[INFO]- dropbox:390 -> Refreshing access token.\n",
      "2023-11-17 23:26:48,701-[INFO]- dropbox:474 -> Request to files/list_folder\n",
      "2023-11-17 23:26:49,018-[INFO]- dropbox:390 -> Refreshing access token.\n",
      "2023-11-17 23:26:49,164-[INFO]- dropbox:474 -> Request to files/list_folder\n",
      "2023-11-17 23:26:49,425-[INFO]- dropbox:390 -> Refreshing access token.\n",
      "2023-11-17 23:26:49,576-[INFO]- dropbox:474 -> Request to files/list_folder\n",
      "2023-11-17 23:26:49,861-[INFO]- dropbox:390 -> Refreshing access token.\n",
      "2023-11-17 23:26:50,005-[INFO]- dropbox:474 -> Request to files/list_folder\n",
      "2023-11-17 23:26:50,279-[INFO]- dropbox:390 -> Refreshing access token.\n",
      "2023-11-17 23:26:50,425-[INFO]- dropbox:474 -> Request to files/list_folder\n",
      "2023-11-17 23:26:50,769-[INFO]- dropbox:390 -> Refreshing access token.\n",
      "2023-11-17 23:26:50,913-[INFO]- dropbox:474 -> Request to files/list_folder\n",
      "2023-11-17 23:26:51,179-[INFO]- dropbox:390 -> Refreshing access token.\n",
      "2023-11-17 23:26:51,350-[INFO]- dropbox:474 -> Request to files/list_folder\n",
      "2023-11-17 23:26:51,631-[INFO]- dropbox:390 -> Refreshing access token.\n",
      "2023-11-17 23:26:51,776-[INFO]- dropbox:474 -> Request to files/list_folder\n",
      "2023-11-17 23:26:52,288-[INFO]- dropbox:390 -> Refreshing access token.\n",
      "2023-11-17 23:26:52,431-[INFO]- dropbox:474 -> Request to files/list_folder\n",
      "2023-11-17 23:26:52,840-[INFO]- dropbox:390 -> Refreshing access token.\n",
      "2023-11-17 23:26:52,989-[INFO]- dropbox:474 -> Request to files/list_folder\n",
      "2023-11-17 23:26:53,432-[INFO]- dropbox:390 -> Refreshing access token.\n",
      "2023-11-17 23:26:53,585-[INFO]- dropbox:474 -> Request to files/list_folder\n",
      "2023-11-17 23:26:53,873-[INFO]- dropbox:390 -> Refreshing access token.\n",
      "2023-11-17 23:26:54,021-[INFO]- dropbox:474 -> Request to files/list_folder\n",
      "2023-11-17 23:26:54,660-[INFO]- dropbox:390 -> Refreshing access token.\n",
      "2023-11-17 23:26:54,820-[INFO]- dropbox:474 -> Request to files/list_folder\n",
      "2023-11-17 23:26:55,105-[INFO]- dropbox:390 -> Refreshing access token.\n",
      "2023-11-17 23:26:55,257-[INFO]- dropbox:474 -> Request to files/list_folder\n",
      "2023-11-17 23:26:56,033-[INFO]- dropbox:390 -> Refreshing access token.\n",
      "2023-11-17 23:26:56,184-[INFO]- dropbox:474 -> Request to files/list_folder\n",
      "2023-11-17 23:26:56,456-[INFO]- dropbox:390 -> Refreshing access token.\n",
      "2023-11-17 23:26:56,607-[INFO]- dropbox:474 -> Request to files/list_folder\n",
      "2023-11-17 23:26:57,121-[INFO]- dropbox:390 -> Refreshing access token.\n",
      "2023-11-17 23:26:57,310-[INFO]- dropbox:474 -> Request to files/list_folder\n",
      "2023-11-17 23:26:57,730-[INFO]- dropbox:390 -> Refreshing access token.\n",
      "2023-11-17 23:26:57,884-[INFO]- dropbox:474 -> Request to files/list_folder\n",
      "2023-11-17 23:26:58,824-[INFO]- dropbox:390 -> Refreshing access token.\n",
      "2023-11-17 23:26:58,991-[INFO]- dropbox:474 -> Request to files/list_folder\n",
      "2023-11-17 23:26:59,443-[INFO]- dropbox:390 -> Refreshing access token.\n",
      "2023-11-17 23:26:59,587-[INFO]- dropbox:474 -> Request to files/list_folder\n",
      "2023-11-17 23:27:00,302-[INFO]- dropbox:390 -> Refreshing access token.\n",
      "2023-11-17 23:27:00,450-[INFO]- dropbox:474 -> Request to files/list_folder\n",
      "2023-11-17 23:27:01,072-[INFO]- dropbox:390 -> Refreshing access token.\n",
      "2023-11-17 23:27:01,232-[INFO]- dropbox:474 -> Request to files/list_folder\n",
      "2023-11-17 23:27:01,991-[INFO]- dropbox:390 -> Refreshing access token.\n",
      "2023-11-17 23:27:02,149-[INFO]- dropbox:474 -> Request to files/list_folder\n",
      "2023-11-17 23:27:02,978-[INFO]- dropbox:390 -> Refreshing access token.\n",
      "2023-11-17 23:27:03,146-[INFO]- dropbox:474 -> Request to files/list_folder\n",
      "2023-11-17 23:27:03,852-[INFO]- dropbox:390 -> Refreshing access token.\n",
      "2023-11-17 23:27:03,998-[INFO]- dropbox:474 -> Request to files/list_folder\n",
      "2023-11-17 23:27:04,662-[INFO]- dropbox:390 -> Refreshing access token.\n",
      "2023-11-17 23:27:04,814-[INFO]- dropbox:474 -> Request to files/list_folder\n",
      "2023-11-17 23:27:05,227-[INFO]- dropbox:390 -> Refreshing access token.\n",
      "2023-11-17 23:27:05,384-[INFO]- dropbox:474 -> Request to files/list_folder\n",
      "2023-11-17 23:27:05,798-[INFO]- dropbox:390 -> Refreshing access token.\n",
      "2023-11-17 23:27:05,954-[INFO]- dropbox:474 -> Request to files/list_folder\n",
      "2023-11-17 23:27:07,407-[INFO]- dropbox:390 -> Refreshing access token.\n",
      "2023-11-17 23:27:07,557-[INFO]- dropbox:474 -> Request to files/list_folder\n",
      "2023-11-17 23:27:08,345-[INFO]- dropbox:390 -> Refreshing access token.\n",
      "2023-11-17 23:27:08,510-[INFO]- dropbox:474 -> Request to files/list_folder\n",
      "2023-11-17 23:27:09,380-[INFO]- dropbox:390 -> Refreshing access token.\n",
      "2023-11-17 23:27:09,522-[INFO]- dropbox:474 -> Request to files/list_folder\n",
      "2023-11-17 23:27:10,195-[INFO]- dropbox:390 -> Refreshing access token.\n",
      "2023-11-17 23:27:10,364-[INFO]- dropbox:474 -> Request to files/list_folder\n",
      "2023-11-17 23:27:11,049-[INFO]- dropbox:390 -> Refreshing access token.\n",
      "2023-11-17 23:27:11,191-[INFO]- dropbox:474 -> Request to files/list_folder\n",
      "2023-11-17 23:27:11,461-[INFO]- dropbox:390 -> Refreshing access token.\n",
      "2023-11-17 23:27:11,607-[INFO]- dropbox:474 -> Request to files/list_folder\n",
      "2023-11-17 23:27:11,902-[INFO]- dropbox:390 -> Refreshing access token.\n",
      "2023-11-17 23:27:12,055-[INFO]- dropbox:474 -> Request to files/list_folder\n",
      "2023-11-17 23:27:12,511-[INFO]- dropbox:390 -> Refreshing access token.\n",
      "2023-11-17 23:27:12,678-[INFO]- dropbox:474 -> Request to files/list_folder\n",
      "2023-11-17 23:27:13,157-[INFO]- dropbox:390 -> Refreshing access token.\n",
      "2023-11-17 23:27:13,331-[INFO]- dropbox:474 -> Request to files/list_folder\n",
      "2023-11-17 23:27:13,912-[INFO]- dropbox:390 -> Refreshing access token.\n",
      "2023-11-17 23:27:14,075-[INFO]- dropbox:474 -> Request to files/list_folder\n",
      "2023-11-17 23:27:14,482-[INFO]- dropbox:390 -> Refreshing access token.\n",
      "2023-11-17 23:27:14,633-[INFO]- dropbox:474 -> Request to files/list_folder\n",
      "2023-11-17 23:27:14,946-[INFO]- dropbox:390 -> Refreshing access token.\n",
      "2023-11-17 23:27:15,122-[INFO]- dropbox:474 -> Request to files/list_folder\n",
      "2023-11-17 23:27:15,486-[INFO]- dropbox:390 -> Refreshing access token.\n",
      "2023-11-17 23:27:15,634-[INFO]- dropbox:474 -> Request to files/list_folder\n",
      "2023-11-17 23:27:15,892-[INFO]- dropbox:390 -> Refreshing access token.\n",
      "2023-11-17 23:27:16,040-[INFO]- dropbox:474 -> Request to files/list_folder\n",
      "2023-11-17 23:27:16,411-[INFO]- dropbox:390 -> Refreshing access token.\n",
      "2023-11-17 23:27:16,559-[INFO]- dropbox:474 -> Request to files/list_folder\n",
      "2023-11-17 23:27:16,893-[INFO]- dropbox:390 -> Refreshing access token.\n",
      "2023-11-17 23:27:17,060-[INFO]- dropbox:474 -> Request to files/list_folder\n",
      "2023-11-17 23:27:17,441-[INFO]- dropbox:390 -> Refreshing access token.\n",
      "2023-11-17 23:27:17,597-[INFO]- dropbox:474 -> Request to files/list_folder\n",
      "2023-11-17 23:27:18,078-[INFO]- dropbox:390 -> Refreshing access token.\n",
      "2023-11-17 23:27:18,231-[INFO]- dropbox:474 -> Request to files/list_folder\n",
      "2023-11-17 23:27:18,656-[INFO]- dropbox:390 -> Refreshing access token.\n",
      "2023-11-17 23:27:18,830-[INFO]- dropbox:474 -> Request to files/list_folder\n",
      "2023-11-17 23:27:19,340-[INFO]- dropbox:390 -> Refreshing access token.\n",
      "2023-11-17 23:27:19,486-[INFO]- dropbox:474 -> Request to files/list_folder\n",
      "2023-11-17 23:27:19,797-[INFO]- dropbox:390 -> Refreshing access token.\n",
      "2023-11-17 23:27:19,945-[INFO]- dropbox:474 -> Request to files/list_folder\n",
      "2023-11-17 23:27:20,303-[INFO]- dropbox:390 -> Refreshing access token.\n",
      "2023-11-17 23:27:20,445-[INFO]- dropbox:474 -> Request to files/list_folder\n",
      "2023-11-17 23:27:20,857-[INFO]- dropbox:390 -> Refreshing access token.\n",
      "2023-11-17 23:27:21,003-[INFO]- dropbox:474 -> Request to files/list_folder\n",
      "2023-11-17 23:27:21,368-[INFO]- dropbox:390 -> Refreshing access token.\n",
      "2023-11-17 23:27:21,518-[INFO]- dropbox:474 -> Request to files/list_folder\n",
      "2023-11-17 23:27:21,803-[INFO]- dropbox:390 -> Refreshing access token.\n",
      "2023-11-17 23:27:21,971-[INFO]- dropbox:474 -> Request to files/list_folder\n",
      "2023-11-17 23:27:22,316-[INFO]- dropbox:390 -> Refreshing access token.\n",
      "2023-11-17 23:27:22,507-[INFO]- dropbox:474 -> Request to files/list_folder\n",
      "2023-11-17 23:27:22,803-[INFO]- dropbox:390 -> Refreshing access token.\n",
      "2023-11-17 23:27:22,951-[INFO]- dropbox:474 -> Request to files/list_folder\n",
      "2023-11-17 23:27:23,412-[INFO]- dropbox:390 -> Refreshing access token.\n",
      "2023-11-17 23:27:23,564-[INFO]- dropbox:474 -> Request to files/list_folder\n",
      "2023-11-17 23:27:23,852-[INFO]- dropbox:390 -> Refreshing access token.\n",
      "2023-11-17 23:27:24,014-[INFO]- dropbox:474 -> Request to files/list_folder\n",
      "2023-11-17 23:27:24,308-[INFO]- dropbox:390 -> Refreshing access token.\n",
      "2023-11-17 23:27:24,456-[INFO]- dropbox:474 -> Request to files/list_folder\n",
      "2023-11-17 23:27:24,724-[INFO]- dropbox:390 -> Refreshing access token.\n",
      "2023-11-17 23:27:24,879-[INFO]- dropbox:474 -> Request to files/list_folder\n",
      "2023-11-17 23:27:25,187-[INFO]- dropbox:390 -> Refreshing access token.\n",
      "2023-11-17 23:27:25,347-[INFO]- dropbox:474 -> Request to files/list_folder\n",
      "2023-11-17 23:27:25,664-[INFO]- dropbox:390 -> Refreshing access token.\n",
      "2023-11-17 23:27:25,821-[INFO]- dropbox:474 -> Request to files/list_folder\n",
      "2023-11-17 23:27:26,349-[INFO]- dropbox:390 -> Refreshing access token.\n",
      "2023-11-17 23:27:26,518-[INFO]- dropbox:474 -> Request to files/list_folder\n",
      "2023-11-17 23:27:26,792-[INFO]- dropbox:390 -> Refreshing access token.\n",
      "2023-11-17 23:27:26,953-[INFO]- dropbox:474 -> Request to files/list_folder\n",
      "2023-11-17 23:27:27,249-[INFO]- dropbox:390 -> Refreshing access token.\n",
      "2023-11-17 23:27:27,410-[INFO]- dropbox:474 -> Request to files/list_folder\n",
      "2023-11-17 23:27:27,676-[INFO]- dropbox:390 -> Refreshing access token.\n",
      "2023-11-17 23:27:27,820-[INFO]- dropbox:474 -> Request to files/list_folder\n",
      "2023-11-17 23:27:28,133-[INFO]- dropbox:390 -> Refreshing access token.\n",
      "2023-11-17 23:27:28,281-[INFO]- dropbox:474 -> Request to files/list_folder\n",
      "2023-11-17 23:27:28,608-[INFO]- dropbox:390 -> Refreshing access token.\n",
      "2023-11-17 23:27:28,776-[INFO]- dropbox:474 -> Request to files/list_folder\n",
      "2023-11-17 23:27:29,035-[INFO]- dropbox:390 -> Refreshing access token.\n",
      "2023-11-17 23:27:29,193-[INFO]- dropbox:474 -> Request to files/list_folder\n",
      "2023-11-17 23:27:29,497-[INFO]- dropbox:390 -> Refreshing access token.\n",
      "2023-11-17 23:27:29,641-[INFO]- dropbox:474 -> Request to files/list_folder\n",
      "2023-11-17 23:27:29,926-[INFO]- dropbox:390 -> Refreshing access token.\n",
      "2023-11-17 23:27:30,090-[INFO]- dropbox:474 -> Request to files/list_folder\n",
      "2023-11-17 23:27:30,423-[INFO]- dropbox:390 -> Refreshing access token.\n",
      "2023-11-17 23:27:30,592-[INFO]- dropbox:474 -> Request to files/list_folder\n",
      "2023-11-17 23:27:30,903-[INFO]- dropbox:390 -> Refreshing access token.\n",
      "2023-11-17 23:27:31,077-[INFO]- dropbox:474 -> Request to files/list_folder\n",
      "2023-11-17 23:27:31,359-[INFO]- dropbox:390 -> Refreshing access token.\n",
      "2023-11-17 23:27:31,515-[INFO]- dropbox:474 -> Request to files/list_folder\n",
      "2023-11-17 23:27:31,777-[INFO]- dropbox:390 -> Refreshing access token.\n",
      "2023-11-17 23:27:31,936-[INFO]- dropbox:474 -> Request to files/list_folder\n",
      "2023-11-17 23:27:32,199-[INFO]- dropbox:390 -> Refreshing access token.\n",
      "2023-11-17 23:27:32,352-[INFO]- dropbox:474 -> Request to files/list_folder\n",
      "2023-11-17 23:27:32,646-[INFO]- dropbox:390 -> Refreshing access token.\n",
      "2023-11-17 23:27:32,793-[INFO]- dropbox:474 -> Request to files/list_folder\n",
      "2023-11-17 23:27:33,073-[INFO]- dropbox:390 -> Refreshing access token.\n",
      "2023-11-17 23:27:33,231-[INFO]- dropbox:474 -> Request to files/list_folder\n",
      "2023-11-17 23:27:33,519-[INFO]- dropbox:390 -> Refreshing access token.\n",
      "2023-11-17 23:27:33,668-[INFO]- dropbox:474 -> Request to files/list_folder\n",
      "2023-11-17 23:27:33,957-[INFO]- dropbox:390 -> Refreshing access token.\n",
      "2023-11-17 23:27:34,120-[INFO]- dropbox:474 -> Request to files/list_folder\n",
      "2023-11-17 23:27:34,425-[INFO]- dropbox:390 -> Refreshing access token.\n",
      "2023-11-17 23:27:34,613-[INFO]- dropbox:474 -> Request to files/list_folder\n",
      "2023-11-17 23:27:37,318-[INFO]- dropbox:390 -> Refreshing access token.\n",
      "2023-11-17 23:27:37,466-[INFO]- dropbox:474 -> Request to files/list_folder\n",
      "2023-11-17 23:27:37,723-[INFO]- dropbox:390 -> Refreshing access token.\n",
      "2023-11-17 23:27:37,873-[INFO]- dropbox:474 -> Request to files/list_folder\n",
      "2023-11-17 23:27:38,177-[INFO]- dropbox:390 -> Refreshing access token.\n",
      "2023-11-17 23:27:38,327-[INFO]- dropbox:474 -> Request to files/list_folder\n",
      "2023-11-17 23:27:38,613-[INFO]- dropbox:390 -> Refreshing access token.\n",
      "2023-11-17 23:27:38,756-[INFO]- dropbox:474 -> Request to files/list_folder\n",
      "2023-11-17 23:27:39,028-[INFO]- dropbox:390 -> Refreshing access token.\n",
      "2023-11-17 23:27:39,181-[INFO]- dropbox:474 -> Request to files/list_folder\n",
      "2023-11-17 23:27:39,441-[INFO]- dropbox:390 -> Refreshing access token.\n",
      "2023-11-17 23:27:39,605-[INFO]- dropbox:474 -> Request to files/list_folder\n",
      "2023-11-17 23:27:40,086-[INFO]- dropbox:390 -> Refreshing access token.\n",
      "2023-11-17 23:27:40,242-[INFO]- dropbox:474 -> Request to files/list_folder\n",
      "2023-11-17 23:27:40,575-[INFO]- dropbox:390 -> Refreshing access token.\n",
      "2023-11-17 23:27:40,722-[INFO]- dropbox:474 -> Request to files/list_folder\n",
      "2023-11-17 23:27:41,234-[INFO]- dropbox:390 -> Refreshing access token.\n",
      "2023-11-17 23:27:41,416-[INFO]- dropbox:474 -> Request to files/list_folder\n",
      "2023-11-17 23:27:41,687-[INFO]- dropbox:390 -> Refreshing access token.\n",
      "2023-11-17 23:27:41,846-[INFO]- dropbox:474 -> Request to files/list_folder\n",
      "2023-11-17 23:27:42,284-[INFO]- dropbox:390 -> Refreshing access token.\n",
      "2023-11-17 23:27:42,448-[INFO]- dropbox:474 -> Request to files/list_folder\n",
      "2023-11-17 23:27:42,706-[INFO]- dropbox:390 -> Refreshing access token.\n",
      "2023-11-17 23:27:42,868-[INFO]- dropbox:474 -> Request to files/list_folder\n",
      "2023-11-17 23:27:43,156-[INFO]- dropbox:390 -> Refreshing access token.\n",
      "2023-11-17 23:27:43,304-[INFO]- dropbox:474 -> Request to files/list_folder\n",
      "2023-11-17 23:27:43,581-[INFO]- dropbox:390 -> Refreshing access token.\n",
      "2023-11-17 23:27:43,738-[INFO]- dropbox:474 -> Request to files/list_folder\n",
      "2023-11-17 23:27:44,007-[INFO]- dropbox:390 -> Refreshing access token.\n",
      "2023-11-17 23:27:44,168-[INFO]- dropbox:474 -> Request to files/list_folder\n",
      "2023-11-17 23:27:44,552-[INFO]- dropbox:390 -> Refreshing access token.\n",
      "2023-11-17 23:27:44,698-[INFO]- dropbox:474 -> Request to files/list_folder\n",
      "2023-11-17 23:27:45,003-[INFO]- dropbox:390 -> Refreshing access token.\n",
      "2023-11-17 23:27:45,162-[INFO]- dropbox:474 -> Request to files/list_folder\n",
      "2023-11-17 23:27:45,418-[INFO]- dropbox:390 -> Refreshing access token.\n",
      "2023-11-17 23:27:45,564-[INFO]- dropbox:474 -> Request to files/list_folder\n",
      "2023-11-17 23:27:45,865-[INFO]- dropbox:390 -> Refreshing access token.\n",
      "2023-11-17 23:27:46,007-[INFO]- dropbox:474 -> Request to files/list_folder\n",
      "2023-11-17 23:27:46,278-[INFO]- dropbox:390 -> Refreshing access token.\n",
      "2023-11-17 23:27:46,420-[INFO]- dropbox:474 -> Request to files/list_folder\n",
      "2023-11-17 23:27:46,680-[INFO]- dropbox:390 -> Refreshing access token.\n",
      "2023-11-17 23:27:46,850-[INFO]- dropbox:474 -> Request to files/list_folder\n",
      "2023-11-17 23:27:47,163-[INFO]- dropbox:390 -> Refreshing access token.\n",
      "2023-11-17 23:27:47,306-[INFO]- dropbox:474 -> Request to files/list_folder\n",
      "2023-11-17 23:27:47,604-[INFO]- dropbox:390 -> Refreshing access token.\n",
      "2023-11-17 23:27:47,753-[INFO]- dropbox:474 -> Request to files/list_folder\n",
      "2023-11-17 23:27:48,021-[INFO]- dropbox:390 -> Refreshing access token.\n",
      "2023-11-17 23:27:48,166-[INFO]- dropbox:474 -> Request to files/list_folder\n",
      "2023-11-17 23:27:48,443-[INFO]- dropbox:390 -> Refreshing access token.\n",
      "2023-11-17 23:27:48,587-[INFO]- dropbox:474 -> Request to files/list_folder\n",
      "2023-11-17 23:27:48,898-[INFO]- dropbox:390 -> Refreshing access token.\n",
      "2023-11-17 23:27:49,051-[INFO]- dropbox:474 -> Request to files/list_folder\n",
      "2023-11-17 23:27:49,331-[INFO]- dropbox:390 -> Refreshing access token.\n",
      "2023-11-17 23:27:49,493-[INFO]- dropbox:474 -> Request to files/list_folder\n",
      "2023-11-17 23:27:49,786-[INFO]- dropbox:390 -> Refreshing access token.\n",
      "2023-11-17 23:27:49,959-[INFO]- dropbox:474 -> Request to files/list_folder\n",
      "2023-11-17 23:27:50,394-[INFO]- dropbox:390 -> Refreshing access token.\n",
      "2023-11-17 23:27:50,546-[INFO]- dropbox:474 -> Request to files/list_folder\n",
      "2023-11-17 23:27:50,813-[INFO]- dropbox:390 -> Refreshing access token.\n",
      "2023-11-17 23:27:50,964-[INFO]- dropbox:474 -> Request to files/list_folder\n",
      "2023-11-17 23:27:51,276-[INFO]- dropbox:390 -> Refreshing access token.\n",
      "2023-11-17 23:27:51,423-[INFO]- dropbox:474 -> Request to files/list_folder\n",
      "2023-11-17 23:27:51,752-[INFO]- dropbox:390 -> Refreshing access token.\n",
      "2023-11-17 23:27:51,898-[INFO]- dropbox:474 -> Request to files/list_folder\n",
      "2023-11-17 23:27:52,195-[INFO]- dropbox:390 -> Refreshing access token.\n",
      "2023-11-17 23:27:52,353-[INFO]- dropbox:474 -> Request to files/list_folder\n",
      "2023-11-17 23:27:52,625-[INFO]- dropbox:390 -> Refreshing access token.\n",
      "2023-11-17 23:27:52,790-[INFO]- dropbox:474 -> Request to files/list_folder\n",
      "2023-11-17 23:27:53,141-[INFO]- dropbox:390 -> Refreshing access token.\n",
      "2023-11-17 23:27:53,287-[INFO]- dropbox:474 -> Request to files/list_folder\n",
      "2023-11-17 23:27:53,565-[INFO]- dropbox:390 -> Refreshing access token.\n",
      "2023-11-17 23:27:53,708-[INFO]- dropbox:474 -> Request to files/list_folder\n",
      "2023-11-17 23:27:54,024-[INFO]- dropbox:390 -> Refreshing access token.\n",
      "2023-11-17 23:27:54,183-[INFO]- dropbox:474 -> Request to files/list_folder\n",
      "2023-11-17 23:27:54,477-[INFO]- dropbox:390 -> Refreshing access token.\n",
      "2023-11-17 23:27:54,619-[INFO]- dropbox:474 -> Request to files/list_folder\n",
      "2023-11-17 23:27:54,916-[INFO]- dropbox:390 -> Refreshing access token.\n",
      "2023-11-17 23:27:55,063-[INFO]- dropbox:474 -> Request to files/list_folder\n",
      "2023-11-17 23:27:55,343-[INFO]- dropbox:390 -> Refreshing access token.\n",
      "2023-11-17 23:27:55,489-[INFO]- dropbox:474 -> Request to files/list_folder\n",
      "2023-11-17 23:27:55,766-[INFO]- dropbox:390 -> Refreshing access token.\n",
      "2023-11-17 23:27:55,931-[INFO]- dropbox:474 -> Request to files/list_folder\n",
      "2023-11-17 23:27:56,211-[INFO]- dropbox:390 -> Refreshing access token.\n",
      "2023-11-17 23:27:56,357-[INFO]- dropbox:474 -> Request to files/list_folder\n",
      "2023-11-17 23:27:56,678-[INFO]- dropbox:390 -> Refreshing access token.\n",
      "2023-11-17 23:27:56,823-[INFO]- dropbox:474 -> Request to files/list_folder\n",
      "2023-11-17 23:27:57,120-[INFO]- dropbox:390 -> Refreshing access token.\n",
      "2023-11-17 23:27:57,265-[INFO]- dropbox:474 -> Request to files/list_folder\n",
      "2023-11-17 23:27:58,240-[INFO]- dropbox:390 -> Refreshing access token.\n",
      "2023-11-17 23:27:58,420-[INFO]- dropbox:474 -> Request to files/list_folder\n",
      "2023-11-17 23:27:58,733-[INFO]- dropbox:390 -> Refreshing access token.\n",
      "2023-11-17 23:27:58,888-[INFO]- dropbox:474 -> Request to files/list_folder\n",
      "2023-11-17 23:27:59,212-[INFO]- dropbox:390 -> Refreshing access token.\n",
      "2023-11-17 23:27:59,367-[INFO]- dropbox:474 -> Request to files/list_folder\n",
      "2023-11-17 23:27:59,669-[INFO]- dropbox:390 -> Refreshing access token.\n",
      "2023-11-17 23:27:59,820-[INFO]- dropbox:474 -> Request to files/list_folder\n",
      "2023-11-17 23:28:00,125-[INFO]- dropbox:390 -> Refreshing access token.\n",
      "2023-11-17 23:28:00,270-[INFO]- dropbox:474 -> Request to files/list_folder\n",
      "2023-11-17 23:28:00,571-[INFO]- dropbox:390 -> Refreshing access token.\n",
      "2023-11-17 23:28:00,719-[INFO]- dropbox:474 -> Request to files/list_folder\n",
      "2023-11-17 23:28:00,996-[INFO]- dropbox:390 -> Refreshing access token.\n",
      "2023-11-17 23:28:01,147-[INFO]- dropbox:474 -> Request to files/list_folder\n",
      "2023-11-17 23:28:01,502-[INFO]- dropbox:390 -> Refreshing access token.\n",
      "2023-11-17 23:28:01,645-[INFO]- dropbox:474 -> Request to files/list_folder\n",
      "2023-11-17 23:28:01,924-[INFO]- dropbox:390 -> Refreshing access token.\n",
      "2023-11-17 23:28:02,115-[INFO]- dropbox:474 -> Request to files/list_folder\n",
      "2023-11-17 23:28:02,382-[INFO]- dropbox:390 -> Refreshing access token.\n",
      "2023-11-17 23:28:02,548-[INFO]- dropbox:474 -> Request to files/list_folder\n",
      "2023-11-17 23:28:02,813-[INFO]- dropbox:390 -> Refreshing access token.\n",
      "2023-11-17 23:28:02,955-[INFO]- dropbox:474 -> Request to files/list_folder\n",
      "2023-11-17 23:28:03,215-[INFO]- dropbox:390 -> Refreshing access token.\n",
      "2023-11-17 23:28:03,360-[INFO]- dropbox:474 -> Request to files/list_folder\n",
      "2023-11-17 23:28:03,743-[INFO]- dropbox:390 -> Refreshing access token.\n",
      "2023-11-17 23:28:03,901-[INFO]- dropbox:474 -> Request to files/list_folder\n",
      "2023-11-17 23:28:04,182-[INFO]- dropbox:390 -> Refreshing access token.\n",
      "2023-11-17 23:28:04,329-[INFO]- dropbox:474 -> Request to files/list_folder\n",
      "2023-11-17 23:28:04,634-[INFO]- dropbox:390 -> Refreshing access token.\n",
      "2023-11-17 23:28:04,775-[INFO]- dropbox:474 -> Request to files/list_folder\n",
      "2023-11-17 23:28:05,079-[INFO]- dropbox:390 -> Refreshing access token.\n",
      "2023-11-17 23:28:05,277-[INFO]- dropbox:474 -> Request to files/list_folder\n",
      "2023-11-17 23:28:05,656-[INFO]- dropbox:390 -> Refreshing access token.\n",
      "2023-11-17 23:28:05,800-[INFO]- dropbox:474 -> Request to files/list_folder\n",
      "2023-11-17 23:28:06,085-[INFO]- dropbox:390 -> Refreshing access token.\n",
      "2023-11-17 23:28:06,229-[INFO]- dropbox:474 -> Request to files/list_folder\n",
      "2023-11-17 23:28:06,590-[INFO]- dropbox:390 -> Refreshing access token.\n",
      "2023-11-17 23:28:06,741-[INFO]- dropbox:474 -> Request to files/list_folder\n",
      "2023-11-17 23:28:07,060-[INFO]- dropbox:390 -> Refreshing access token.\n",
      "2023-11-17 23:28:07,214-[INFO]- dropbox:474 -> Request to files/list_folder\n",
      "2023-11-17 23:28:07,486-[INFO]- dropbox:390 -> Refreshing access token.\n",
      "2023-11-17 23:28:07,643-[INFO]- dropbox:474 -> Request to files/list_folder\n",
      "2023-11-17 23:28:07,929-[INFO]- dropbox:390 -> Refreshing access token.\n",
      "2023-11-17 23:28:08,081-[INFO]- dropbox:474 -> Request to files/list_folder\n",
      "2023-11-17 23:28:08,425-[INFO]- dropbox:390 -> Refreshing access token.\n",
      "2023-11-17 23:28:08,599-[INFO]- dropbox:474 -> Request to files/list_folder\n",
      "2023-11-17 23:28:08,882-[INFO]- dropbox:390 -> Refreshing access token.\n",
      "2023-11-17 23:28:09,027-[INFO]- dropbox:474 -> Request to files/list_folder\n",
      "2023-11-17 23:28:09,338-[INFO]- dropbox:390 -> Refreshing access token.\n",
      "2023-11-17 23:28:09,487-[INFO]- dropbox:474 -> Request to files/list_folder\n",
      "2023-11-17 23:28:09,767-[INFO]- dropbox:390 -> Refreshing access token.\n",
      "2023-11-17 23:28:09,914-[INFO]- dropbox:474 -> Request to files/list_folder\n",
      "2023-11-17 23:28:10,215-[INFO]- dropbox:390 -> Refreshing access token.\n",
      "2023-11-17 23:28:10,381-[INFO]- dropbox:474 -> Request to files/list_folder\n",
      "2023-11-17 23:28:10,672-[INFO]- dropbox:390 -> Refreshing access token.\n",
      "2023-11-17 23:28:10,825-[INFO]- dropbox:474 -> Request to files/list_folder\n",
      "2023-11-17 23:28:11,121-[INFO]- dropbox:390 -> Refreshing access token.\n",
      "2023-11-17 23:28:11,270-[INFO]- dropbox:474 -> Request to files/list_folder\n",
      "2023-11-17 23:28:11,564-[INFO]- dropbox:390 -> Refreshing access token.\n",
      "2023-11-17 23:28:11,732-[INFO]- dropbox:474 -> Request to files/list_folder\n",
      "2023-11-17 23:28:12,004-[INFO]- dropbox:390 -> Refreshing access token.\n",
      "2023-11-17 23:28:12,157-[INFO]- dropbox:474 -> Request to files/list_folder\n",
      "2023-11-17 23:28:12,456-[INFO]- dropbox:390 -> Refreshing access token.\n",
      "2023-11-17 23:28:12,632-[INFO]- dropbox:474 -> Request to files/list_folder\n",
      "2023-11-17 23:28:12,978-[INFO]- dropbox:390 -> Refreshing access token.\n",
      "2023-11-17 23:28:13,123-[INFO]- dropbox:474 -> Request to files/list_folder\n",
      "2023-11-17 23:28:13,423-[INFO]- dropbox:390 -> Refreshing access token.\n",
      "2023-11-17 23:28:13,578-[INFO]- dropbox:474 -> Request to files/list_folder\n",
      "2023-11-17 23:28:13,868-[INFO]- dropbox:390 -> Refreshing access token.\n",
      "2023-11-17 23:28:14,018-[INFO]- dropbox:474 -> Request to files/list_folder\n",
      "2023-11-17 23:28:14,291-[INFO]- dropbox:390 -> Refreshing access token.\n",
      "2023-11-17 23:28:14,443-[INFO]- dropbox:474 -> Request to files/list_folder\n",
      "2023-11-17 23:28:14,719-[INFO]- dropbox:390 -> Refreshing access token.\n",
      "2023-11-17 23:28:14,864-[INFO]- dropbox:474 -> Request to files/list_folder\n",
      "2023-11-17 23:28:15,177-[INFO]- dropbox:390 -> Refreshing access token.\n",
      "2023-11-17 23:28:15,333-[INFO]- dropbox:474 -> Request to files/list_folder\n",
      "2023-11-17 23:28:15,808-[INFO]- dropbox:390 -> Refreshing access token.\n",
      "2023-11-17 23:28:15,954-[INFO]- dropbox:474 -> Request to files/list_folder\n",
      "2023-11-17 23:28:16,687-[INFO]- dropbox:390 -> Refreshing access token.\n",
      "2023-11-17 23:28:16,835-[INFO]- dropbox:474 -> Request to files/list_folder\n",
      "2023-11-17 23:28:17,307-[INFO]- dropbox:390 -> Refreshing access token.\n",
      "2023-11-17 23:28:17,457-[INFO]- dropbox:474 -> Request to files/list_folder\n",
      "2023-11-17 23:28:18,069-[INFO]- dropbox:390 -> Refreshing access token.\n",
      "2023-11-17 23:28:18,210-[INFO]- dropbox:474 -> Request to files/list_folder\n",
      "2023-11-17 23:28:18,956-[INFO]- dropbox:390 -> Refreshing access token.\n",
      "2023-11-17 23:28:19,141-[INFO]- dropbox:474 -> Request to files/list_folder\n",
      "2023-11-17 23:28:20,135-[INFO]- dropbox:390 -> Refreshing access token.\n",
      "2023-11-17 23:28:20,286-[INFO]- dropbox:474 -> Request to files/list_folder\n",
      "2023-11-17 23:28:20,849-[INFO]- dropbox:390 -> Refreshing access token.\n",
      "2023-11-17 23:28:20,995-[INFO]- dropbox:474 -> Request to files/list_folder\n",
      "2023-11-17 23:28:21,771-[INFO]- dropbox:390 -> Refreshing access token.\n",
      "2023-11-17 23:28:21,921-[INFO]- dropbox:474 -> Request to files/list_folder\n",
      "2023-11-17 23:28:22,475-[INFO]- dropbox:390 -> Refreshing access token.\n",
      "2023-11-17 23:28:22,626-[INFO]- dropbox:474 -> Request to files/list_folder\n",
      "2023-11-17 23:28:23,096-[INFO]- dropbox:390 -> Refreshing access token.\n",
      "2023-11-17 23:28:23,287-[INFO]- dropbox:474 -> Request to files/list_folder\n",
      "2023-11-17 23:28:23,886-[INFO]- dropbox:390 -> Refreshing access token.\n",
      "2023-11-17 23:28:24,050-[INFO]- dropbox:474 -> Request to files/list_folder\n",
      "2023-11-17 23:28:24,505-[INFO]- dropbox:390 -> Refreshing access token.\n",
      "2023-11-17 23:28:24,649-[INFO]- dropbox:474 -> Request to files/list_folder\n",
      "2023-11-17 23:28:25,031-[INFO]- dropbox:390 -> Refreshing access token.\n",
      "2023-11-17 23:28:25,200-[INFO]- dropbox:474 -> Request to files/list_folder\n",
      "2023-11-17 23:28:25,806-[INFO]- dropbox:390 -> Refreshing access token.\n",
      "2023-11-17 23:28:25,956-[INFO]- dropbox:474 -> Request to files/list_folder\n",
      "2023-11-17 23:28:26,595-[INFO]- dropbox:390 -> Refreshing access token.\n",
      "2023-11-17 23:28:26,746-[INFO]- dropbox:474 -> Request to files/list_folder\n",
      "2023-11-17 23:28:27,320-[INFO]- dropbox:390 -> Refreshing access token.\n",
      "2023-11-17 23:28:27,483-[INFO]- dropbox:474 -> Request to files/list_folder\n",
      "2023-11-17 23:28:27,982-[INFO]- dropbox:390 -> Refreshing access token.\n",
      "2023-11-17 23:28:28,142-[INFO]- dropbox:474 -> Request to files/list_folder\n",
      "2023-11-17 23:28:28,685-[INFO]- dropbox:390 -> Refreshing access token.\n",
      "2023-11-17 23:28:28,830-[INFO]- dropbox:474 -> Request to files/list_folder\n",
      "2023-11-17 23:28:29,161-[INFO]- dropbox:390 -> Refreshing access token.\n",
      "2023-11-17 23:28:29,313-[INFO]- dropbox:474 -> Request to files/list_folder\n",
      "2023-11-17 23:28:29,932-[INFO]- dropbox:390 -> Refreshing access token.\n",
      "2023-11-17 23:28:30,076-[INFO]- dropbox:474 -> Request to files/list_folder\n",
      "2023-11-17 23:28:30,423-[INFO]- dropbox:390 -> Refreshing access token.\n",
      "2023-11-17 23:28:30,574-[INFO]- dropbox:474 -> Request to files/list_folder\n",
      "2023-11-17 23:28:31,137-[INFO]- dropbox:390 -> Refreshing access token.\n",
      "2023-11-17 23:28:31,293-[INFO]- dropbox:474 -> Request to files/list_folder\n",
      "2023-11-17 23:28:31,831-[INFO]- dropbox:390 -> Refreshing access token.\n",
      "2023-11-17 23:28:31,998-[INFO]- dropbox:474 -> Request to files/list_folder\n",
      "2023-11-17 23:28:32,337-[INFO]- dropbox:390 -> Refreshing access token.\n",
      "2023-11-17 23:28:32,518-[INFO]- dropbox:474 -> Request to files/list_folder\n",
      "2023-11-17 23:28:33,050-[INFO]- dropbox:390 -> Refreshing access token.\n",
      "2023-11-17 23:28:33,283-[INFO]- dropbox:474 -> Request to files/list_folder\n",
      "2023-11-17 23:28:33,798-[INFO]- dropbox:390 -> Refreshing access token.\n",
      "2023-11-17 23:28:33,983-[INFO]- dropbox:474 -> Request to files/list_folder\n",
      "2023-11-17 23:28:34,408-[INFO]- dropbox:390 -> Refreshing access token.\n",
      "2023-11-17 23:28:34,559-[INFO]- dropbox:474 -> Request to files/list_folder\n",
      "2023-11-17 23:28:35,086-[INFO]- dropbox:390 -> Refreshing access token.\n",
      "2023-11-17 23:28:35,228-[INFO]- dropbox:474 -> Request to files/list_folder\n",
      "2023-11-17 23:28:35,635-[INFO]- dropbox:390 -> Refreshing access token.\n",
      "2023-11-17 23:28:35,793-[INFO]- dropbox:474 -> Request to files/list_folder\n",
      "2023-11-17 23:28:36,247-[INFO]- dropbox:390 -> Refreshing access token.\n",
      "2023-11-17 23:28:36,397-[INFO]- dropbox:474 -> Request to files/list_folder\n",
      "2023-11-17 23:28:36,874-[INFO]- dropbox:390 -> Refreshing access token.\n",
      "2023-11-17 23:28:37,019-[INFO]- dropbox:474 -> Request to files/list_folder\n",
      "2023-11-17 23:28:37,646-[INFO]- dropbox:390 -> Refreshing access token.\n",
      "2023-11-17 23:28:37,792-[INFO]- dropbox:474 -> Request to files/list_folder\n",
      "2023-11-17 23:28:38,322-[INFO]- dropbox:390 -> Refreshing access token.\n",
      "2023-11-17 23:28:38,465-[INFO]- dropbox:474 -> Request to files/list_folder\n",
      "2023-11-17 23:28:39,192-[INFO]- dropbox:390 -> Refreshing access token.\n",
      "2023-11-17 23:28:39,342-[INFO]- dropbox:474 -> Request to files/list_folder\n",
      "2023-11-17 23:28:39,935-[INFO]- dropbox:390 -> Refreshing access token.\n",
      "2023-11-17 23:28:40,084-[INFO]- dropbox:474 -> Request to files/list_folder\n",
      "2023-11-17 23:28:40,723-[INFO]- dropbox:390 -> Refreshing access token.\n",
      "2023-11-17 23:28:40,896-[INFO]- dropbox:474 -> Request to files/list_folder\n",
      "2023-11-17 23:28:41,318-[INFO]- dropbox:390 -> Refreshing access token.\n",
      "2023-11-17 23:28:41,465-[INFO]- dropbox:474 -> Request to files/list_folder\n",
      "2023-11-17 23:28:41,832-[INFO]- dropbox:390 -> Refreshing access token.\n",
      "2023-11-17 23:28:41,978-[INFO]- dropbox:474 -> Request to files/list_folder\n",
      "2023-11-17 23:28:42,314-[INFO]- dropbox:390 -> Refreshing access token.\n",
      "2023-11-17 23:28:42,466-[INFO]- dropbox:474 -> Request to files/list_folder\n",
      "2023-11-17 23:28:42,876-[INFO]- dropbox:390 -> Refreshing access token.\n",
      "2023-11-17 23:28:43,039-[INFO]- dropbox:474 -> Request to files/list_folder\n",
      "2023-11-17 23:28:43,621-[INFO]- dropbox:390 -> Refreshing access token.\n",
      "2023-11-17 23:28:43,776-[INFO]- dropbox:474 -> Request to files/list_folder\n",
      "2023-11-17 23:28:44,478-[INFO]- dropbox:390 -> Refreshing access token.\n",
      "2023-11-17 23:28:44,628-[INFO]- dropbox:474 -> Request to files/list_folder\n",
      "2023-11-17 23:28:44,957-[INFO]- dropbox:390 -> Refreshing access token.\n",
      "2023-11-17 23:28:45,101-[INFO]- dropbox:474 -> Request to files/list_folder\n",
      "2023-11-17 23:28:45,588-[INFO]- dropbox:390 -> Refreshing access token.\n",
      "2023-11-17 23:28:45,745-[INFO]- dropbox:474 -> Request to files/list_folder\n",
      "2023-11-17 23:28:46,119-[INFO]- dropbox:390 -> Refreshing access token.\n",
      "2023-11-17 23:28:46,287-[INFO]- dropbox:474 -> Request to files/list_folder\n",
      "2023-11-17 23:28:46,624-[INFO]- dropbox:390 -> Refreshing access token.\n",
      "2023-11-17 23:28:46,775-[INFO]- dropbox:474 -> Request to files/list_folder\n",
      "2023-11-17 23:28:47,183-[INFO]- dropbox:390 -> Refreshing access token.\n",
      "2023-11-17 23:28:47,391-[INFO]- dropbox:474 -> Request to files/list_folder\n",
      "2023-11-17 23:28:48,230-[INFO]- dropbox:390 -> Refreshing access token.\n",
      "2023-11-17 23:28:48,384-[INFO]- dropbox:474 -> Request to files/list_folder\n",
      "2023-11-17 23:28:49,080-[INFO]- dropbox:390 -> Refreshing access token.\n",
      "2023-11-17 23:28:49,247-[INFO]- dropbox:474 -> Request to files/list_folder\n",
      "2023-11-17 23:28:50,225-[INFO]- dropbox:474 -> Request to files/list_folder/continue\n",
      "2023-11-17 23:28:50,542-[INFO]- dropbox:390 -> Refreshing access token.\n",
      "2023-11-17 23:28:50,733-[INFO]- dropbox:474 -> Request to files/list_folder\n",
      "2023-11-17 23:28:51,356-[INFO]- dropbox:390 -> Refreshing access token.\n",
      "2023-11-17 23:28:51,506-[INFO]- dropbox:474 -> Request to files/list_folder\n",
      "2023-11-17 23:28:52,076-[INFO]- dropbox:390 -> Refreshing access token.\n",
      "2023-11-17 23:28:52,228-[INFO]- dropbox:474 -> Request to files/list_folder\n",
      "2023-11-17 23:28:52,923-[INFO]- dropbox:390 -> Refreshing access token.\n",
      "2023-11-17 23:28:53,077-[INFO]- dropbox:474 -> Request to files/list_folder\n",
      "2023-11-17 23:28:53,806-[INFO]- dropbox:390 -> Refreshing access token.\n",
      "2023-11-17 23:28:53,950-[INFO]- dropbox:474 -> Request to files/list_folder\n",
      "2023-11-17 23:28:54,423-[INFO]- dropbox:390 -> Refreshing access token.\n",
      "2023-11-17 23:28:54,599-[INFO]- dropbox:474 -> Request to files/list_folder\n",
      "2023-11-17 23:28:55,114-[INFO]- dropbox:390 -> Refreshing access token.\n",
      "2023-11-17 23:28:55,258-[INFO]- dropbox:474 -> Request to files/list_folder\n",
      "2023-11-17 23:28:55,936-[INFO]- dropbox:390 -> Refreshing access token.\n",
      "2023-11-17 23:28:56,085-[INFO]- dropbox:474 -> Request to files/list_folder\n",
      "2023-11-17 23:28:57,284-[INFO]- dropbox:390 -> Refreshing access token.\n",
      "2023-11-17 23:28:57,491-[INFO]- dropbox:474 -> Request to files/list_folder\n",
      "2023-11-17 23:28:58,384-[INFO]- dropbox:390 -> Refreshing access token.\n",
      "2023-11-17 23:28:58,535-[INFO]- dropbox:474 -> Request to files/list_folder\n",
      "2023-11-17 23:28:59,113-[INFO]- dropbox:390 -> Refreshing access token.\n",
      "2023-11-17 23:28:59,293-[INFO]- dropbox:474 -> Request to files/list_folder\n",
      "2023-11-17 23:28:59,639-[INFO]- dropbox:390 -> Refreshing access token.\n",
      "2023-11-17 23:28:59,789-[INFO]- dropbox:474 -> Request to files/list_folder\n",
      "2023-11-17 23:29:00,472-[INFO]- dropbox:390 -> Refreshing access token.\n",
      "2023-11-17 23:29:00,616-[INFO]- dropbox:474 -> Request to files/list_folder\n",
      "2023-11-17 23:29:01,024-[INFO]- dropbox:390 -> Refreshing access token.\n",
      "2023-11-17 23:29:01,170-[INFO]- dropbox:474 -> Request to files/list_folder\n",
      "2023-11-17 23:29:01,668-[INFO]- dropbox:390 -> Refreshing access token.\n",
      "2023-11-17 23:29:01,823-[INFO]- dropbox:474 -> Request to files/list_folder\n",
      "2023-11-17 23:29:02,252-[INFO]- dropbox:390 -> Refreshing access token.\n",
      "2023-11-17 23:29:02,413-[INFO]- dropbox:474 -> Request to files/list_folder\n",
      "2023-11-17 23:29:02,919-[INFO]- dropbox:390 -> Refreshing access token.\n",
      "2023-11-17 23:29:03,123-[INFO]- dropbox:474 -> Request to files/list_folder\n",
      "2023-11-17 23:29:03,742-[INFO]- dropbox:390 -> Refreshing access token.\n",
      "2023-11-17 23:29:03,896-[INFO]- dropbox:474 -> Request to files/list_folder\n",
      "2023-11-17 23:29:04,423-[INFO]- dropbox:390 -> Refreshing access token.\n",
      "2023-11-17 23:29:04,572-[INFO]- dropbox:474 -> Request to files/list_folder\n",
      "2023-11-17 23:29:04,850-[INFO]- dropbox:390 -> Refreshing access token.\n",
      "2023-11-17 23:29:04,998-[INFO]- dropbox:474 -> Request to files/list_folder\n",
      "2023-11-17 23:29:05,999-[INFO]- dropbox:390 -> Refreshing access token.\n",
      "2023-11-17 23:29:06,144-[INFO]- dropbox:474 -> Request to files/list_folder\n",
      "2023-11-17 23:29:06,805-[INFO]- dropbox:390 -> Refreshing access token.\n",
      "2023-11-17 23:29:06,959-[INFO]- dropbox:474 -> Request to files/list_folder\n",
      "2023-11-17 23:29:07,884-[INFO]- dropbox:390 -> Refreshing access token.\n",
      "2023-11-17 23:29:08,033-[INFO]- dropbox:474 -> Request to files/list_folder\n",
      "2023-11-17 23:29:09,365-[INFO]- dropbox:390 -> Refreshing access token.\n",
      "2023-11-17 23:29:09,519-[INFO]- dropbox:474 -> Request to files/list_folder\n",
      "2023-11-17 23:29:10,193-[INFO]- dropbox:390 -> Refreshing access token.\n",
      "2023-11-17 23:29:10,362-[INFO]- dropbox:474 -> Request to files/list_folder\n",
      "2023-11-17 23:29:10,774-[INFO]- dropbox:390 -> Refreshing access token.\n",
      "2023-11-17 23:29:10,927-[INFO]- dropbox:474 -> Request to files/list_folder\n",
      "2023-11-17 23:29:11,565-[INFO]- dropbox:390 -> Refreshing access token.\n",
      "2023-11-17 23:29:11,711-[INFO]- dropbox:474 -> Request to files/list_folder\n",
      "2023-11-17 23:29:12,233-[INFO]- dropbox:390 -> Refreshing access token.\n",
      "2023-11-17 23:29:12,381-[INFO]- dropbox:474 -> Request to files/list_folder\n",
      "2023-11-17 23:29:13,010-[INFO]- dropbox:390 -> Refreshing access token.\n",
      "2023-11-17 23:29:13,160-[INFO]- dropbox:474 -> Request to files/list_folder\n",
      "2023-11-17 23:29:13,751-[INFO]- dropbox:390 -> Refreshing access token.\n",
      "2023-11-17 23:29:13,897-[INFO]- dropbox:474 -> Request to files/list_folder\n",
      "2023-11-17 23:29:14,532-[INFO]- dropbox:390 -> Refreshing access token.\n",
      "2023-11-17 23:29:14,682-[INFO]- dropbox:474 -> Request to files/list_folder\n",
      "2023-11-17 23:29:15,432-[INFO]- dropbox:390 -> Refreshing access token.\n",
      "2023-11-17 23:29:15,574-[INFO]- dropbox:474 -> Request to files/list_folder\n",
      "2023-11-17 23:29:16,301-[INFO]- dropbox:390 -> Refreshing access token.\n",
      "2023-11-17 23:29:16,461-[INFO]- dropbox:474 -> Request to files/list_folder\n",
      "2023-11-17 23:29:17,187-[INFO]- dropbox:390 -> Refreshing access token.\n",
      "2023-11-17 23:29:17,363-[INFO]- dropbox:474 -> Request to files/list_folder\n",
      "2023-11-17 23:29:18,226-[INFO]- dropbox:390 -> Refreshing access token.\n",
      "2023-11-17 23:29:18,370-[INFO]- dropbox:474 -> Request to files/list_folder\n",
      "2023-11-17 23:29:18,967-[INFO]- dropbox:390 -> Refreshing access token.\n",
      "2023-11-17 23:29:19,119-[INFO]- dropbox:474 -> Request to files/list_folder\n",
      "2023-11-17 23:29:19,760-[INFO]- dropbox:390 -> Refreshing access token.\n",
      "2023-11-17 23:29:19,922-[INFO]- dropbox:474 -> Request to files/list_folder\n",
      "2023-11-17 23:29:20,727-[INFO]- dropbox:474 -> Request to files/list_folder/continue\n",
      "2023-11-17 23:29:21,144-[INFO]- dropbox:390 -> Refreshing access token.\n",
      "2023-11-17 23:29:21,299-[INFO]- dropbox:474 -> Request to files/list_folder\n",
      "2023-11-17 23:29:21,831-[INFO]- dropbox:390 -> Refreshing access token.\n",
      "2023-11-17 23:29:21,984-[INFO]- dropbox:474 -> Request to files/list_folder\n",
      "2023-11-17 23:29:22,642-[INFO]- dropbox:390 -> Refreshing access token.\n",
      "2023-11-17 23:29:22,799-[INFO]- dropbox:474 -> Request to files/list_folder\n",
      "2023-11-17 23:29:23,418-[INFO]- dropbox:390 -> Refreshing access token.\n",
      "2023-11-17 23:29:23,583-[INFO]- dropbox:474 -> Request to files/list_folder\n",
      "2023-11-17 23:29:23,871-[INFO]- dropbox:390 -> Refreshing access token.\n",
      "2023-11-17 23:29:24,094-[INFO]- dropbox:474 -> Request to files/list_folder\n",
      "2023-11-17 23:29:24,426-[INFO]- dropbox:390 -> Refreshing access token.\n",
      "2023-11-17 23:29:24,581-[INFO]- dropbox:474 -> Request to files/list_folder\n",
      "2023-11-17 23:29:24,905-[INFO]- dropbox:390 -> Refreshing access token.\n",
      "2023-11-17 23:29:25,077-[INFO]- dropbox:474 -> Request to files/list_folder\n",
      "2023-11-17 23:29:25,422-[INFO]- dropbox:390 -> Refreshing access token.\n",
      "2023-11-17 23:29:25,574-[INFO]- dropbox:474 -> Request to files/list_folder\n",
      "2023-11-17 23:29:25,951-[INFO]- dropbox:390 -> Refreshing access token.\n",
      "2023-11-17 23:29:26,116-[INFO]- dropbox:474 -> Request to files/list_folder\n",
      "2023-11-17 23:29:26,673-[INFO]- dropbox:390 -> Refreshing access token.\n",
      "2023-11-17 23:29:26,816-[INFO]- dropbox:474 -> Request to files/list_folder\n",
      "2023-11-17 23:29:27,168-[INFO]- dropbox:390 -> Refreshing access token.\n",
      "2023-11-17 23:29:27,319-[INFO]- dropbox:474 -> Request to files/list_folder\n",
      "2023-11-17 23:29:27,636-[INFO]- dropbox:390 -> Refreshing access token.\n",
      "2023-11-17 23:29:27,787-[INFO]- dropbox:474 -> Request to files/list_folder\n",
      "2023-11-17 23:29:28,156-[INFO]- dropbox:390 -> Refreshing access token.\n",
      "2023-11-17 23:29:28,308-[INFO]- dropbox:474 -> Request to files/list_folder\n",
      "2023-11-17 23:29:28,657-[INFO]- dropbox:390 -> Refreshing access token.\n",
      "2023-11-17 23:29:28,800-[INFO]- dropbox:474 -> Request to files/list_folder\n",
      "2023-11-17 23:29:29,158-[INFO]- dropbox:390 -> Refreshing access token.\n",
      "2023-11-17 23:29:29,320-[INFO]- dropbox:474 -> Request to files/list_folder\n",
      "2023-11-17 23:29:29,883-[INFO]- dropbox:390 -> Refreshing access token.\n",
      "2023-11-17 23:29:30,029-[INFO]- dropbox:474 -> Request to files/list_folder\n",
      "2023-11-17 23:29:30,638-[INFO]- dropbox:390 -> Refreshing access token.\n",
      "2023-11-17 23:29:30,786-[INFO]- dropbox:474 -> Request to files/list_folder\n",
      "2023-11-17 23:29:31,395-[INFO]- dropbox:390 -> Refreshing access token.\n",
      "2023-11-17 23:29:31,547-[INFO]- dropbox:474 -> Request to files/list_folder\n",
      "2023-11-17 23:29:32,431-[INFO]- dropbox:390 -> Refreshing access token.\n",
      "2023-11-17 23:29:32,610-[INFO]- dropbox:474 -> Request to files/list_folder\n",
      "2023-11-17 23:29:33,234-[INFO]- dropbox:390 -> Refreshing access token.\n",
      "2023-11-17 23:29:33,430-[INFO]- dropbox:474 -> Request to files/list_folder\n",
      "2023-11-17 23:29:33,756-[INFO]- dropbox:390 -> Refreshing access token.\n",
      "2023-11-17 23:29:33,919-[INFO]- dropbox:474 -> Request to files/list_folder\n",
      "2023-11-17 23:29:34,303-[INFO]- dropbox:390 -> Refreshing access token.\n",
      "2023-11-17 23:29:34,455-[INFO]- dropbox:474 -> Request to files/list_folder\n",
      "2023-11-17 23:29:34,776-[INFO]- dropbox:390 -> Refreshing access token.\n",
      "2023-11-17 23:29:34,928-[INFO]- dropbox:474 -> Request to files/list_folder\n",
      "2023-11-17 23:29:35,228-[INFO]- dropbox:390 -> Refreshing access token.\n",
      "2023-11-17 23:29:35,379-[INFO]- dropbox:474 -> Request to files/list_folder\n",
      "2023-11-17 23:29:36,081-[INFO]- dropbox:390 -> Refreshing access token.\n",
      "2023-11-17 23:29:36,278-[INFO]- dropbox:474 -> Request to files/list_folder\n",
      "2023-11-17 23:29:36,710-[INFO]- dropbox:390 -> Refreshing access token.\n",
      "2023-11-17 23:29:36,934-[INFO]- dropbox:474 -> Request to files/list_folder\n",
      "2023-11-17 23:29:37,452-[INFO]- dropbox:390 -> Refreshing access token.\n",
      "2023-11-17 23:29:37,599-[INFO]- dropbox:474 -> Request to files/list_folder\n",
      "2023-11-17 23:29:37,975-[INFO]- dropbox:390 -> Refreshing access token.\n",
      "2023-11-17 23:29:38,126-[INFO]- dropbox:474 -> Request to files/list_folder\n",
      "2023-11-17 23:29:38,580-[INFO]- dropbox:390 -> Refreshing access token.\n",
      "2023-11-17 23:29:38,723-[INFO]- dropbox:474 -> Request to files/list_folder\n",
      "2023-11-17 23:29:39,066-[INFO]- dropbox:390 -> Refreshing access token.\n",
      "2023-11-17 23:29:39,213-[INFO]- dropbox:474 -> Request to files/list_folder\n",
      "2023-11-17 23:29:39,610-[INFO]- dropbox:390 -> Refreshing access token.\n",
      "2023-11-17 23:29:39,758-[INFO]- dropbox:474 -> Request to files/list_folder\n",
      "2023-11-17 23:29:40,093-[INFO]- dropbox:390 -> Refreshing access token.\n",
      "2023-11-17 23:29:40,234-[INFO]- dropbox:474 -> Request to files/list_folder\n",
      "2023-11-17 23:29:40,535-[INFO]- dropbox:390 -> Refreshing access token.\n",
      "2023-11-17 23:29:40,678-[INFO]- dropbox:474 -> Request to files/list_folder\n",
      "2023-11-17 23:29:40,971-[INFO]- dropbox:390 -> Refreshing access token.\n",
      "2023-11-17 23:29:41,127-[INFO]- dropbox:474 -> Request to files/list_folder\n",
      "2023-11-17 23:29:41,527-[INFO]- dropbox:390 -> Refreshing access token.\n",
      "2023-11-17 23:29:41,708-[INFO]- dropbox:474 -> Request to files/list_folder\n",
      "2023-11-17 23:29:42,154-[INFO]- dropbox:390 -> Refreshing access token.\n",
      "2023-11-17 23:29:42,307-[INFO]- dropbox:474 -> Request to files/list_folder\n",
      "2023-11-17 23:29:42,860-[INFO]- dropbox:390 -> Refreshing access token.\n",
      "2023-11-17 23:29:43,007-[INFO]- dropbox:474 -> Request to files/list_folder\n",
      "2023-11-17 23:29:43,340-[INFO]- dropbox:390 -> Refreshing access token.\n",
      "2023-11-17 23:29:43,489-[INFO]- dropbox:474 -> Request to files/list_folder\n",
      "2023-11-17 23:29:43,859-[INFO]- dropbox:390 -> Refreshing access token.\n",
      "2023-11-17 23:29:44,008-[INFO]- dropbox:474 -> Request to files/list_folder\n",
      "2023-11-17 23:29:44,308-[INFO]- dropbox:390 -> Refreshing access token.\n",
      "2023-11-17 23:29:44,459-[INFO]- dropbox:474 -> Request to files/list_folder\n",
      "2023-11-17 23:29:44,826-[INFO]- dropbox:390 -> Refreshing access token.\n",
      "2023-11-17 23:29:44,977-[INFO]- dropbox:474 -> Request to files/list_folder\n",
      "2023-11-17 23:29:45,282-[INFO]- dropbox:390 -> Refreshing access token.\n",
      "2023-11-17 23:29:45,441-[INFO]- dropbox:474 -> Request to files/list_folder\n",
      "2023-11-17 23:29:45,924-[INFO]- dropbox:390 -> Refreshing access token.\n",
      "2023-11-17 23:29:46,072-[INFO]- dropbox:474 -> Request to files/list_folder\n",
      "2023-11-17 23:29:46,382-[INFO]- dropbox:390 -> Refreshing access token.\n",
      "2023-11-17 23:29:46,613-[INFO]- dropbox:474 -> Request to files/list_folder\n",
      "2023-11-17 23:29:46,990-[INFO]- dropbox:390 -> Refreshing access token.\n",
      "2023-11-17 23:29:47,132-[INFO]- dropbox:474 -> Request to files/list_folder\n",
      "2023-11-17 23:29:47,417-[INFO]- dropbox:390 -> Refreshing access token.\n",
      "2023-11-17 23:29:47,563-[INFO]- dropbox:474 -> Request to files/list_folder\n",
      "2023-11-17 23:29:47,863-[INFO]- dropbox:390 -> Refreshing access token.\n",
      "2023-11-17 23:29:48,023-[INFO]- dropbox:474 -> Request to files/list_folder\n",
      "2023-11-17 23:29:48,312-[INFO]- dropbox:390 -> Refreshing access token.\n",
      "2023-11-17 23:29:48,483-[INFO]- dropbox:474 -> Request to files/list_folder\n",
      "2023-11-17 23:29:48,803-[INFO]- dropbox:390 -> Refreshing access token.\n",
      "2023-11-17 23:29:48,946-[INFO]- dropbox:474 -> Request to files/list_folder\n",
      "2023-11-17 23:29:49,250-[INFO]- dropbox:390 -> Refreshing access token.\n",
      "2023-11-17 23:29:49,395-[INFO]- dropbox:474 -> Request to files/list_folder\n",
      "2023-11-17 23:29:50,098-[INFO]- dropbox:390 -> Refreshing access token.\n",
      "2023-11-17 23:29:50,284-[INFO]- dropbox:474 -> Request to files/list_folder\n",
      "2023-11-17 23:29:50,575-[INFO]- dropbox:390 -> Refreshing access token.\n",
      "2023-11-17 23:29:50,721-[INFO]- dropbox:474 -> Request to files/list_folder\n",
      "2023-11-17 23:29:51,281-[INFO]- dropbox:390 -> Refreshing access token.\n",
      "2023-11-17 23:29:51,425-[INFO]- dropbox:474 -> Request to files/list_folder\n",
      "2023-11-17 23:29:51,906-[INFO]- dropbox:390 -> Refreshing access token.\n",
      "2023-11-17 23:29:52,051-[INFO]- dropbox:474 -> Request to files/list_folder\n",
      "2023-11-17 23:29:52,312-[INFO]- dropbox:390 -> Refreshing access token.\n",
      "2023-11-17 23:29:52,456-[INFO]- dropbox:474 -> Request to files/list_folder\n",
      "2023-11-17 23:29:52,743-[INFO]- dropbox:390 -> Refreshing access token.\n",
      "2023-11-17 23:29:52,895-[INFO]- dropbox:474 -> Request to files/list_folder\n",
      "2023-11-17 23:29:54,257-[INFO]- dropbox:390 -> Refreshing access token.\n",
      "2023-11-17 23:29:54,413-[INFO]- dropbox:474 -> Request to files/list_folder\n",
      "2023-11-17 23:29:54,750-[INFO]- dropbox:390 -> Refreshing access token.\n",
      "2023-11-17 23:29:54,901-[INFO]- dropbox:474 -> Request to files/list_folder\n",
      "2023-11-17 23:29:55,297-[INFO]- dropbox:390 -> Refreshing access token.\n",
      "2023-11-17 23:29:55,441-[INFO]- dropbox:474 -> Request to files/list_folder\n",
      "2023-11-17 23:29:55,797-[INFO]- dropbox:390 -> Refreshing access token.\n",
      "2023-11-17 23:29:55,951-[INFO]- dropbox:474 -> Request to files/list_folder\n",
      "2023-11-17 23:29:56,335-[INFO]- dropbox:390 -> Refreshing access token.\n",
      "2023-11-17 23:29:56,482-[INFO]- dropbox:474 -> Request to files/list_folder\n",
      "2023-11-17 23:29:57,135-[INFO]- dropbox:390 -> Refreshing access token.\n",
      "2023-11-17 23:29:57,284-[INFO]- dropbox:474 -> Request to files/list_folder\n",
      "2023-11-17 23:29:57,738-[INFO]- dropbox:390 -> Refreshing access token.\n",
      "2023-11-17 23:29:57,892-[INFO]- dropbox:474 -> Request to files/list_folder\n",
      "2023-11-17 23:29:58,250-[INFO]- dropbox:390 -> Refreshing access token.\n",
      "2023-11-17 23:29:58,403-[INFO]- dropbox:474 -> Request to files/list_folder\n",
      "2023-11-17 23:29:58,801-[INFO]- dropbox:390 -> Refreshing access token.\n",
      "2023-11-17 23:29:58,947-[INFO]- dropbox:474 -> Request to files/list_folder\n",
      "2023-11-17 23:29:59,276-[INFO]- dropbox:390 -> Refreshing access token.\n",
      "2023-11-17 23:29:59,439-[INFO]- dropbox:474 -> Request to files/list_folder\n",
      "2023-11-17 23:29:59,870-[INFO]- dropbox:390 -> Refreshing access token.\n",
      "2023-11-17 23:30:00,009-[INFO]- dropbox:474 -> Request to files/list_folder\n"
     ]
    }
   ],
>>>>>>> 32a9d59dd8e808d26fbbd8cb90159fecc49f3687
   "source": [
    "dir_drop = \"DATA/PRINCE\"\n",
    "all_folders_drop = get_dropbox_folders_prince(\"/DATA/PRINCE\")\n",
    "folders_drop = all_folders_drop.loc[all_folders_drop[\"unique_id\"].isin(plates)]\n",
    "update_plate_info(directory_targ, local=True, strong_constraint=False)\n",
    "all_folders = get_current_folders(directory_targ, local=True)\n",
    "# if len(all_folders) > 0:\n",
    "folders = all_folders.loc[all_folders[\"unique_id\"].isin(plates)]\n",
    "folders_drop2 = folders_drop.loc[~folders_drop[\"folder\"].isin(folders[\"folder\"])]\n",
    "folders_drop3 = folders_drop2.loc[~folders_drop2[\"folder\"].str.contains(\"Analysis\")]"
   ]
  },
  {
   "cell_type": "code",
   "execution_count": null,
   "id": "ab646d59-4518-48e6-84e1-7793c45c55c4",
   "metadata": {},
   "outputs": [],
   "source": [
    "folders_drop3"
   ]
  },
  {
   "cell_type": "code",
<<<<<<< HEAD
   "execution_count": null,
=======
   "execution_count": 7,
>>>>>>> 32a9d59dd8e808d26fbbd8cb90159fecc49f3687
   "id": "86255f52-7362-40a0-aafe-d9de5ec0a2d1",
   "metadata": {
    "tags": []
   },
<<<<<<< HEAD
   "outputs": [],
=======
   "outputs": [
    {
     "data": {
      "application/vnd.jupyter.widget-view+json": {
       "model_id": "8ad8affdc3af4e899b5a110b525fdfea",
       "version_major": 2,
       "version_minor": 0
      },
      "text/plain": [
       "analysed:   0%|          | 0/249 [00:00<?, ?it/s]"
      ]
     },
     "metadata": {},
     "output_type": "display_data"
    }
   ],
>>>>>>> 32a9d59dd8e808d26fbbd8cb90159fecc49f3687
   "source": [
    "update_plate_info(directory_targ, local=True, strong_constraint=False)\n",
    "all_folders = get_current_folders(directory_targ, local=True)\n",
    "# if len(all_folders) > 0:\n",
    "# folders = all_folders.loc[all_folders[\"unique_id\"].isin(plates)]"
   ]
  },
  {
   "cell_type": "code",
<<<<<<< HEAD
   "execution_count": null,
=======
   "execution_count": 8,
>>>>>>> 32a9d59dd8e808d26fbbd8cb90159fecc49f3687
   "id": "47ca8bfb-d375-4281-9c5d-8069a4101316",
   "metadata": {
    "tags": []
   },
<<<<<<< HEAD
   "outputs": [],
=======
   "outputs": [
    {
     "name": "stdout",
     "output_type": "stream",
     "text": [
      "0\n",
      "0\n"
     ]
    }
   ],
>>>>>>> 32a9d59dd8e808d26fbbd8cb90159fecc49f3687
   "source": [
    "folders = all_folders.loc[all_folders[\"unique_id\"].isin(plates)]\n",
    "print(len(folders))\n",
    "folders = folders[folders[\"/Analysis/skeleton_realigned_compressed.mat\"] == False]\n",
    "print(len(folders))"
   ]
  },
  {
   "cell_type": "code",
<<<<<<< HEAD
   "execution_count": null,
   "id": "a437fc93-c593-43dc-9390-faac57238d1b",
   "metadata": {},
   "outputs": [],
=======
   "execution_count": 15,
   "id": "a437fc93-c593-43dc-9390-faac57238d1b",
   "metadata": {},
   "outputs": [
    {
     "data": {
      "text/plain": [
       "unique_id\n",
       "304_20230714    16\n",
       "358_20231003    32\n",
       "368_20231009    47\n",
       "372_20230929    30\n",
       "379_20231003    10\n",
       "Name: Plate, dtype: int64"
      ]
     },
     "execution_count": 15,
     "metadata": {},
     "output_type": "execute_result"
    }
   ],
>>>>>>> 32a9d59dd8e808d26fbbd8cb90159fecc49f3687
   "source": [
    "folders.groupby('unique_id')['Plate'].count()"
   ]
  },
  {
   "cell_type": "code",
<<<<<<< HEAD
   "execution_count": null,
   "id": "b1815639-a145-4c89-b065-871198e68e7c",
   "metadata": {},
   "outputs": [],
=======
   "execution_count": 9,
   "id": "b1815639-a145-4c89-b065-871198e68e7c",
   "metadata": {},
   "outputs": [
    {
     "data": {
      "text/plain": [
       "array(['304_20230714', '373_20230920', '368_20231009', '365_20231003',\n",
       "       '366_20230921', '372_20230929', '358_20231003', '377_20230929',\n",
       "       '379_20231003'], dtype=object)"
      ]
     },
     "execution_count": 9,
     "metadata": {},
     "output_type": "execute_result"
    }
   ],
>>>>>>> 32a9d59dd8e808d26fbbd8cb90159fecc49f3687
   "source": [
    "folders['unique_id'].unique()"
   ]
  },
  {
   "cell_type": "code",
<<<<<<< HEAD
   "execution_count": null,
=======
   "execution_count": 10,
>>>>>>> 32a9d59dd8e808d26fbbd8cb90159fecc49f3687
   "id": "e25a1ff9-2675-4489-bc56-7e70a4e83b7b",
   "metadata": {
    "tags": []
   },
<<<<<<< HEAD
   "outputs": [],
=======
   "outputs": [
    {
     "name": "stdout",
     "output_type": "stream",
     "text": [
      "Submitted batch job 4469403\n",
      "Submitted batch job 4469404\n"
     ]
    }
   ],
>>>>>>> 32a9d59dd8e808d26fbbd8cb90159fecc49f3687
   "source": [
    "\n",
    "name_job = \"test_cache\"\n",
    "folders = all_folders.loc[all_folders[\"unique_id\"].isin(plates)]\n",
    "\n",
    "folders = folders.loc[folders[\"/Img/TileConfiguration.txt.registered\"] == True]\n",
    "folders = folders.iloc[:1]\n",
    "num_parallel = 1\n",
    "time = \"20:00\"\n",
    "hyph_width = 30\n",
    "perc_low = 85\n",
    "perc_high = 99.5\n",
    "minlow = 10\n",
    "minhigh = 70\n",
    "\n",
    "args = [hyph_width, perc_low, perc_high, minlow, minhigh, directory_targ]\n",
    "run_parallel(\n",
    "    \"extract_skel_cache.py\",\n",
    "    args,\n",
    "    folders,\n",
    "    num_parallel,\n",
    "    time,\n",
    "    \"skeletonization\",\n",
    "    cpus=128,\n",
    "    node=\"rome\",\n",
    "    name_job=name_job,\n",
    ")"
   ]
  },
  {
   "cell_type": "code",
<<<<<<< HEAD
   "execution_count": null,
=======
   "execution_count": 12,
>>>>>>> 32a9d59dd8e808d26fbbd8cb90159fecc49f3687
   "id": "6ffbe917-07d7-4096-bef5-e639fe034b50",
   "metadata": {
    "tags": []
   },
<<<<<<< HEAD
   "outputs": [],
=======
   "outputs": [
    {
     "name": "stdout",
     "output_type": "stream",
     "text": [
      "Submitted batch job 4469413\n",
      "Submitted batch job 4469414\n",
      "Submitted batch job 4469415\n"
     ]
    }
   ],
>>>>>>> 32a9d59dd8e808d26fbbd8cb90159fecc49f3687
   "source": [
    "folders = all_folders.loc[all_folders[\"unique_id\"].isin(plates)]\n",
    "\n",
    "folders = folders.loc[folders[\"/Img/TileConfiguration.txt.registered\"] == True]\n",
    "num_parallel = 70\n",
    "time = \"6:00:00\"\n",
    "hyph_width = 30\n",
    "perc_low = 85\n",
    "perc_high = 99.5\n",
    "minlow = 10\n",
    "minhigh = 70\n",
    "\n",
    "args = [hyph_width, perc_low, perc_high, minlow, minhigh, directory_targ]\n",
    "run_parallel(\n",
    "    \"extract_skel_cache_follow.py\",\n",
    "    args,\n",
    "    folders,\n",
    "    num_parallel,\n",
    "    time,\n",
    "    \"skeletonization\",\n",
    "    cpus=128,\n",
    "    node=\"fat_rome\",\n",
    "    name_job=name_job,\n",
    ")"
   ]
  },
  {
   "cell_type": "code",
   "execution_count": null,
   "id": "09b40519-72d3-421b-a813-1becc5ab5baa",
   "metadata": {
<<<<<<< HEAD
=======
    "collapsed": true,
>>>>>>> 32a9d59dd8e808d26fbbd8cb90159fecc49f3687
    "jupyter": {
     "outputs_hidden": true
    },
    "tags": []
   },
<<<<<<< HEAD
   "outputs": [],
=======
   "outputs": [
    {
     "name": "stdout",
     "output_type": "stream",
     "text": [
      "/projects/0/einf914/data//20230822_1247_Plate15/Img/Img_r01_c04.tif\n",
      "/projects/0/einf914/data//20230822_1247_Plate15/Img/Img_r01_c06.tif\n",
      "/projects/0/einf914/data//20230822_1247_Plate15/Img/Img_r01_c08.tif\n",
      "/projects/0/einf914/data//20230822_1247_Plate15/Img/Img_r01_c10.tif\n",
      "/projects/0/einf914/data//20230822_1247_Plate15/Img/Img_r01_c11.tif\n",
      "/projects/0/einf914/data//20230822_1247_Plate15/Img/Img_r02_c02.tif\n",
      "/projects/0/einf914/data//20230822_1247_Plate15/Img/Img_r02_c04.tif\n",
      "/projects/0/einf914/data//20230822_1247_Plate15/Img/Img_r02_c10.tif\n",
      "/projects/0/einf914/data//20230822_1247_Plate15/Img/Img_r02_c11.tif\n",
      "/projects/0/einf914/data//20230822_1247_Plate15/Img/Img_r02_c12.tif\n",
      "/projects/0/einf914/data//20230822_1247_Plate15/Img/Img_r02_c13.tif\n",
      "/projects/0/einf914/data//20230822_1247_Plate15/Img/Img_r02_c14.tif\n",
      "/projects/0/einf914/data//20230822_1247_Plate15/Img/Img_r02_c15.tif\n",
      "/projects/0/einf914/data//20230822_1247_Plate15/Img/Img_r03_c03.tif\n",
      "/projects/0/einf914/data//20230822_1247_Plate15/Img/Img_r03_c06.tif\n",
      "/projects/0/einf914/data//20230822_1247_Plate15/Img/Img_r03_c08.tif\n",
      "/projects/0/einf914/data//20230822_1247_Plate15/Img/Img_r03_c11.tif\n",
      "/projects/0/einf914/data//20230822_1247_Plate15/Img/Img_r03_c12.tif\n",
      "/projects/0/einf914/data//20230822_1247_Plate15/Img/Img_r04_c01.tif\n",
      "/projects/0/einf914/data//20230822_1247_Plate15/Img/Img_r04_c04.tif\n",
      "/projects/0/einf914/data//20230822_1247_Plate15/Img/Img_r04_c05.tif\n",
      "/projects/0/einf914/data//20230822_1247_Plate15/Img/Img_r04_c07.tif\n",
      "/projects/0/einf914/data//20230822_1247_Plate15/Img/Img_r04_c11.tif\n",
      "/projects/0/einf914/data//20230822_1247_Plate15/Img/Img_r04_c13.tif\n",
      "/projects/0/einf914/data//20230822_1247_Plate15/Img/Img_r04_c15.tif\n",
      "/projects/0/einf914/data//20230822_1247_Plate15/Img/Img_r05_c03.tif\n",
      "/projects/0/einf914/data//20230822_1247_Plate15/Img/Img_r05_c05.tif\n",
      "/projects/0/einf914/data//20230822_1247_Plate15/Img/Img_r05_c09.tif\n",
      "/projects/0/einf914/data//20230822_1247_Plate15/Img/Img_r06_c01.tif\n",
      "/projects/0/einf914/data//20230822_1247_Plate15/Img/Img_r06_c02.tif\n",
      "/projects/0/einf914/data//20230822_1247_Plate15/Img/Img_r06_c03.tif\n",
      "/projects/0/einf914/data//20230822_1247_Plate15/Img/Img_r06_c04.tif\n",
      "/projects/0/einf914/data//20230822_1247_Plate15/Img/Img_r06_c05.tif\n",
      "/projects/0/einf914/data//20230822_1247_Plate15/Img/Img_r06_c06.tif\n",
      "/projects/0/einf914/data//20230822_1247_Plate15/Img/Img_r06_c12.tif\n",
      "/projects/0/einf914/data//20230822_1247_Plate15/Img/Img_r06_c13.tif\n",
      "/projects/0/einf914/data//20230822_1247_Plate15/Img/Img_r07_c02.tif\n",
      "/projects/0/einf914/data//20230822_1247_Plate15/Img/Img_r07_c03.tif\n",
      "/projects/0/einf914/data//20230822_1247_Plate15/Img/Img_r07_c06.tif\n",
      "/projects/0/einf914/data//20230822_1247_Plate15/Img/Img_r07_c08.tif\n",
      "/projects/0/einf914/data//20230822_1247_Plate15/Img/Img_r07_c10.tif\n",
      "/projects/0/einf914/data//20230822_1247_Plate15/Img/Img_r07_c13.tif\n",
      "/projects/0/einf914/data//20230822_1247_Plate15/Img/Img_r07_c14.tif\n",
      "/projects/0/einf914/data//20230822_1247_Plate15/Img/Img_r08_c02.tif\n",
      "/projects/0/einf914/data//20230822_1247_Plate15/Img/Img_r08_c05.tif\n",
      "/projects/0/einf914/data//20230822_1247_Plate15/Img/Img_r08_c08.tif\n",
      "/projects/0/einf914/data//20230822_1247_Plate15/Img/Img_r08_c14.tif\n",
      "/projects/0/einf914/data//20230822_1247_Plate15/Img/Img_r09_c07.tif\n",
      "/projects/0/einf914/data//20230822_1247_Plate15/Img/Img_r09_c08.tif\n",
      "/projects/0/einf914/data//20230822_1247_Plate15/Img/Img_r09_c10.tif\n",
      "/projects/0/einf914/data//20230822_1247_Plate15/Img/Img_r09_c11.tif\n",
      "/projects/0/einf914/data//20230822_1247_Plate15/Img/Img_r10_c07.tif\n",
      "/projects/0/einf914/data//20230822_1247_Plate15/Img/Img_r10_c11.tif\n",
      "/projects/0/einf914/data//20230822_1247_Plate15/Img/Img_r10_c15.tif\n",
      "/projects/0/einf914/data//20230928_0318_Plate33/Img/Img_r01_c04.tif\n",
      "/projects/0/einf914/data//20230928_0318_Plate33/Img/Img_r01_c06.tif\n",
      "/projects/0/einf914/data//20230928_0318_Plate33/Img/Img_r01_c07.tif\n",
      "/projects/0/einf914/data//20230928_0318_Plate33/Img/Img_r01_c08.tif\n",
      "/projects/0/einf914/data//20230928_0318_Plate33/Img/Img_r01_c10.tif\n",
      "/projects/0/einf914/data//20230928_0318_Plate33/Img/Img_r01_c11.tif\n",
      "/projects/0/einf914/data//20230928_0318_Plate33/Img/Img_r02_c02.tif\n",
      "/projects/0/einf914/data//20230928_0318_Plate33/Img/Img_r02_c03.tif\n",
      "/projects/0/einf914/data//20230928_0318_Plate33/Img/Img_r02_c04.tif\n",
      "/projects/0/einf914/data//20230928_0318_Plate33/Img/Img_r02_c09.tif\n",
      "/projects/0/einf914/data//20230928_0318_Plate33/Img/Img_r02_c10.tif\n",
      "/projects/0/einf914/data//20230928_0318_Plate33/Img/Img_r02_c11.tif\n",
      "/projects/0/einf914/data//20230928_0318_Plate33/Img/Img_r02_c12.tif\n",
      "/projects/0/einf914/data//20230928_0318_Plate33/Img/Img_r02_c13.tif\n",
      "/projects/0/einf914/data//20230928_0318_Plate33/Img/Img_r02_c14.tif\n",
      "/projects/0/einf914/data//20230928_0318_Plate33/Img/Img_r02_c15.tif\n",
      "/projects/0/einf914/data//20230928_0318_Plate33/Img/Img_r03_c02.tif\n",
      "/projects/0/einf914/data//20230928_0318_Plate33/Img/Img_r03_c03.tif\n",
      "/projects/0/einf914/data//20230928_0318_Plate33/Img/Img_r03_c06.tif\n",
      "/projects/0/einf914/data//20230928_0318_Plate33/Img/Img_r03_c08.tif\n",
      "/projects/0/einf914/data//20230928_0318_Plate33/Img/Img_r03_c09.tif\n",
      "/projects/0/einf914/data//20230928_0318_Plate33/Img/Img_r03_c11.tif\n",
      "/projects/0/einf914/data//20230928_0318_Plate33/Img/Img_r03_c12.tif\n",
      "/projects/0/einf914/data//20230928_0318_Plate33/Img/Img_r03_c15.tif\n",
      "/projects/0/einf914/data//20230928_0318_Plate33/Img/Img_r04_c01.tif\n",
      "/projects/0/einf914/data//20230928_0318_Plate33/Img/Img_r04_c04.tif\n",
      "/projects/0/einf914/data//20230928_0318_Plate33/Img/Img_r04_c05.tif\n",
      "/projects/0/einf914/data//20230928_0318_Plate33/Img/Img_r04_c07.tif\n",
      "/projects/0/einf914/data//20230928_0318_Plate33/Img/Img_r04_c11.tif\n",
      "/projects/0/einf914/data//20230928_0318_Plate33/Img/Img_r04_c13.tif\n",
      "/projects/0/einf914/data//20230928_0318_Plate33/Img/Img_r04_c15.tif\n",
      "/projects/0/einf914/data//20230928_0318_Plate33/Img/Img_r05_c03.tif\n",
      "/projects/0/einf914/data//20230928_0318_Plate33/Img/Img_r05_c05.tif\n",
      "/projects/0/einf914/data//20230928_0318_Plate33/Img/Img_r05_c09.tif\n",
      "/projects/0/einf914/data//20230928_0318_Plate33/Img/Img_r05_c10.tif\n",
      "/projects/0/einf914/data//20230928_0318_Plate33/Img/Img_r06_c01.tif\n",
      "/projects/0/einf914/data//20230928_0318_Plate33/Img/Img_r06_c02.tif\n",
      "/projects/0/einf914/data//20230928_0318_Plate33/Img/Img_r06_c03.tif\n",
      "/projects/0/einf914/data//20230928_0318_Plate33/Img/Img_r06_c04.tif\n",
      "/projects/0/einf914/data//20230928_0318_Plate33/Img/Img_r06_c05.tif\n",
      "/projects/0/einf914/data//20230928_0318_Plate33/Img/Img_r06_c06.tif\n",
      "/projects/0/einf914/data//20230928_0318_Plate33/Img/Img_r06_c09.tif\n",
      "/projects/0/einf914/data//20230928_0318_Plate33/Img/Img_r06_c10.tif\n",
      "/projects/0/einf914/data//20230928_0318_Plate33/Img/Img_r06_c12.tif\n",
      "/projects/0/einf914/data//20230928_0318_Plate33/Img/Img_r06_c13.tif\n",
      "/projects/0/einf914/data//20230928_0318_Plate33/Img/Img_r07_c02.tif\n",
      "/projects/0/einf914/data//20230928_0318_Plate33/Img/Img_r07_c03.tif\n",
      "/projects/0/einf914/data//20230928_0318_Plate33/Img/Img_r07_c04.tif\n",
      "/projects/0/einf914/data//20230928_0318_Plate33/Img/Img_r07_c06.tif\n",
      "/projects/0/einf914/data//20230928_0318_Plate33/Img/Img_r07_c08.tif\n",
      "/projects/0/einf914/data//20230928_0318_Plate33/Img/Img_r07_c10.tif\n",
      "/projects/0/einf914/data//20230928_0318_Plate33/Img/Img_r07_c13.tif\n",
      "/projects/0/einf914/data//20230928_0318_Plate33/Img/Img_r07_c14.tif\n",
      "/projects/0/einf914/data//20230928_0318_Plate33/Img/Img_r08_c02.tif\n",
      "/projects/0/einf914/data//20230928_0318_Plate33/Img/Img_r08_c05.tif\n",
      "/projects/0/einf914/data//20230928_0318_Plate33/Img/Img_r08_c08.tif\n",
      "/projects/0/einf914/data//20230928_0318_Plate33/Img/Img_r08_c13.tif\n",
      "/projects/0/einf914/data//20230928_0318_Plate33/Img/Img_r08_c14.tif\n",
      "/projects/0/einf914/data//20230928_0318_Plate33/Img/Img_r09_c01.tif\n",
      "/projects/0/einf914/data//20230928_0318_Plate33/Img/Img_r09_c06.tif\n",
      "/projects/0/einf914/data//20230928_0318_Plate33/Img/Img_r09_c07.tif\n",
      "/projects/0/einf914/data//20230928_0318_Plate33/Img/Img_r09_c08.tif\n",
      "/projects/0/einf914/data//20230928_0318_Plate33/Img/Img_r09_c10.tif\n",
      "/projects/0/einf914/data//20230928_0318_Plate33/Img/Img_r09_c11.tif\n",
      "/projects/0/einf914/data//20230928_0318_Plate33/Img/Img_r09_c15.tif\n",
      "/projects/0/einf914/data//20230928_0318_Plate33/Img/Img_r10_c01.tif\n",
      "/projects/0/einf914/data//20230928_0318_Plate33/Img/Img_r10_c07.tif\n",
      "/projects/0/einf914/data//20230928_0318_Plate33/Img/Img_r10_c11.tif\n",
      "/projects/0/einf914/data//20230928_0318_Plate33/Img/Img_r10_c14.tif\n",
      "/projects/0/einf914/data//20230928_0318_Plate33/Img/Img_r10_c15.tif\n",
      "/projects/0/einf914/data//20231010_2326_Plate03/Img/Img_r01_c04.tif\n",
      "/projects/0/einf914/data//20231010_2326_Plate03/Img/Img_r01_c06.tif\n",
      "/projects/0/einf914/data//20231010_2326_Plate03/Img/Img_r01_c08.tif\n",
      "/projects/0/einf914/data//20231010_2326_Plate03/Img/Img_r01_c10.tif\n",
      "/projects/0/einf914/data//20231010_2326_Plate03/Img/Img_r01_c11.tif\n",
      "/projects/0/einf914/data//20231010_2326_Plate03/Img/Img_r02_c02.tif\n",
      "/projects/0/einf914/data//20231010_2326_Plate03/Img/Img_r02_c04.tif\n",
      "/projects/0/einf914/data//20231010_2326_Plate03/Img/Img_r02_c10.tif\n",
      "/projects/0/einf914/data//20231010_2326_Plate03/Img/Img_r02_c11.tif\n",
      "/projects/0/einf914/data//20231010_2326_Plate03/Img/Img_r02_c12.tif\n",
      "/projects/0/einf914/data//20231010_2326_Plate03/Img/Img_r02_c13.tif\n",
      "/projects/0/einf914/data//20231010_2326_Plate03/Img/Img_r02_c14.tif\n",
      "/projects/0/einf914/data//20231010_2326_Plate03/Img/Img_r02_c15.tif\n",
      "/projects/0/einf914/data//20231010_2326_Plate03/Img/Img_r03_c03.tif\n",
      "/projects/0/einf914/data//20231010_2326_Plate03/Img/Img_r03_c06.tif\n",
      "/projects/0/einf914/data//20231010_2326_Plate03/Img/Img_r03_c08.tif\n",
      "/projects/0/einf914/data//20231010_2326_Plate03/Img/Img_r03_c09.tif\n",
      "/projects/0/einf914/data//20231010_2326_Plate03/Img/Img_r03_c11.tif\n",
      "/projects/0/einf914/data//20231010_2326_Plate03/Img/Img_r03_c12.tif\n",
      "/projects/0/einf914/data//20231010_2326_Plate03/Img/Img_r03_c15.tif\n",
      "/projects/0/einf914/data//20231010_2326_Plate03/Img/Img_r04_c01.tif\n",
      "/projects/0/einf914/data//20231010_2326_Plate03/Img/Img_r04_c04.tif\n",
      "/projects/0/einf914/data//20231010_2326_Plate03/Img/Img_r04_c05.tif\n",
      "/projects/0/einf914/data//20231010_2326_Plate03/Img/Img_r04_c07.tif\n",
      "/projects/0/einf914/data//20231010_2326_Plate03/Img/Img_r04_c11.tif\n",
      "/projects/0/einf914/data//20231010_2326_Plate03/Img/Img_r04_c13.tif\n",
      "/projects/0/einf914/data//20231010_2326_Plate03/Img/Img_r04_c15.tif\n",
      "/projects/0/einf914/data//20231010_2326_Plate03/Img/Img_r05_c03.tif\n",
      "/projects/0/einf914/data//20231010_2326_Plate03/Img/Img_r05_c05.tif\n",
      "/projects/0/einf914/data//20231010_2326_Plate03/Img/Img_r05_c09.tif\n",
      "/projects/0/einf914/data//20231010_2326_Plate03/Img/Img_r06_c01.tif\n",
      "/projects/0/einf914/data//20231010_2326_Plate03/Img/Img_r06_c02.tif\n",
      "/projects/0/einf914/data//20231010_2326_Plate03/Img/Img_r06_c03.tif\n",
      "/projects/0/einf914/data//20231010_2326_Plate03/Img/Img_r06_c04.tif\n",
      "/projects/0/einf914/data//20231010_2326_Plate03/Img/Img_r06_c05.tif\n",
      "/projects/0/einf914/data//20231010_2326_Plate03/Img/Img_r06_c06.tif\n",
      "/projects/0/einf914/data//20231010_2326_Plate03/Img/Img_r06_c09.tif\n",
      "/projects/0/einf914/data//20231010_2326_Plate03/Img/Img_r06_c12.tif\n",
      "/projects/0/einf914/data//20231010_2326_Plate03/Img/Img_r06_c13.tif\n",
      "/projects/0/einf914/data//20231010_2326_Plate03/Img/Img_r07_c02.tif\n",
      "/projects/0/einf914/data//20231010_2326_Plate03/Img/Img_r07_c03.tif\n",
      "/projects/0/einf914/data//20231010_2326_Plate03/Img/Img_r07_c06.tif\n",
      "/projects/0/einf914/data//20231010_2326_Plate03/Img/Img_r07_c08.tif\n",
      "/projects/0/einf914/data//20231010_2326_Plate03/Img/Img_r07_c10.tif\n",
      "/projects/0/einf914/data//20231010_2326_Plate03/Img/Img_r07_c13.tif\n",
      "/projects/0/einf914/data//20231010_2326_Plate03/Img/Img_r07_c14.tif\n",
      "/projects/0/einf914/data//20231010_2326_Plate03/Img/Img_r08_c02.tif\n",
      "/projects/0/einf914/data//20231010_2326_Plate03/Img/Img_r08_c05.tif\n",
      "/projects/0/einf914/data//20231010_2326_Plate03/Img/Img_r08_c08.tif\n",
      "/projects/0/einf914/data//20231010_2326_Plate03/Img/Img_r08_c13.tif\n",
      "/projects/0/einf914/data//20231010_2326_Plate03/Img/Img_r08_c14.tif\n",
      "/projects/0/einf914/data//20231010_2326_Plate03/Img/Img_r09_c01.tif\n",
      "/projects/0/einf914/data//20231010_2326_Plate03/Img/Img_r09_c07.tif\n",
      "/projects/0/einf914/data//20231010_2326_Plate03/Img/Img_r09_c08.tif\n",
      "/projects/0/einf914/data//20231010_2326_Plate03/Img/Img_r09_c10.tif\n",
      "/projects/0/einf914/data//20231010_2326_Plate03/Img/Img_r09_c11.tif\n",
      "/projects/0/einf914/data//20231010_2326_Plate03/Img/Img_r10_c07.tif\n",
      "/projects/0/einf914/data//20231010_2326_Plate03/Img/Img_r10_c11.tif\n",
      "/projects/0/einf914/data//20231010_2326_Plate03/Img/Img_r10_c15.tif\n",
      "Submitted batch job 4357552\n",
      "Submitted batch job 4357553\n"
     ]
    }
   ],
>>>>>>> 32a9d59dd8e808d26fbbd8cb90159fecc49f3687
   "source": [
    "name_job= \"fix_stitch\"\n",
    "num_parallel = 50\n",
    "time = \"40:00\"\n",
    "if len(folders) > 0:\n",
    "    run_parallel_stitch(\n",
    "        directory_targ,\n",
    "        folders,\n",
    "        num_parallel,\n",
    "        time,\n",
    "        cpus=128,\n",
    "        node=\"fat\",\n",
    "        name_job=name_job,\n",
    "    )"
   ]
  },
  {
   "cell_type": "code",
<<<<<<< HEAD
   "execution_count": null,
   "id": "16d13262-4e72-4586-b0f8-3584b2f75d6d",
   "metadata": {
=======
   "execution_count": 6,
   "id": "16d13262-4e72-4586-b0f8-3584b2f75d6d",
   "metadata": {
    "collapsed": true,
>>>>>>> 32a9d59dd8e808d26fbbd8cb90159fecc49f3687
    "jupyter": {
     "outputs_hidden": true
    },
    "tags": []
   },
<<<<<<< HEAD
   "outputs": [],
=======
   "outputs": [
    {
     "data": {
      "text/plain": [
       "Index(['total_path', 'Plate', 'PrincePos', 'root', 'strain', 'medium',\n",
       "       'fungalC', 'split', 'Pbait', 'CrossDate', 'Temperature',\n",
       "       '/Img/TileConfiguration.txt.registered',\n",
       "       '/Analysis/skeleton_compressed.mat',\n",
       "       '/Analysis/skeleton_masked_compressed.mat',\n",
       "       '/Analysis/skeleton_pruned_compressed.mat', '/Analysis/transform.mat',\n",
       "       '/Analysis/transform_corrupt.mat',\n",
       "       '/Analysis/skeleton_realigned_compressed.mat',\n",
       "       '/Analysis/nx_graph_pruned.p', '/Analysis/nx_graph_pruned_width.p',\n",
       "       '/Analysis/nx_graph_pruned_labeled.p', 'date', 'folder', 'unique_id',\n",
       "       'datetime'],\n",
       "      dtype='object')"
      ]
     },
     "execution_count": 6,
     "metadata": {},
     "output_type": "execute_result"
    }
   ],
>>>>>>> 32a9d59dd8e808d26fbbd8cb90159fecc49f3687
   "source": [
    "all_folders.columns"
   ]
  },
  {
   "cell_type": "code",
<<<<<<< HEAD
   "execution_count": null,
=======
   "execution_count": 9,
>>>>>>> 32a9d59dd8e808d26fbbd8cb90159fecc49f3687
   "id": "f19132f8-ae9d-41ed-9b40-2ce407681cbb",
   "metadata": {},
   "outputs": [],
   "source": [
    "plates = [\n",
    "    \"522_20230115\",\n",
    "    \"514_20221206\",\n",
    "    \"513_20221205\",\n",
    "    \"506_20221124\",\n",
    "    \"503_20221124\",\n",
    "    \"472_20221003\",\n",
    "]"
   ]
  },
  {
   "cell_type": "code",
<<<<<<< HEAD
   "execution_count": null,
=======
   "execution_count": 10,
>>>>>>> 32a9d59dd8e808d26fbbd8cb90159fecc49f3687
   "id": "d943f0d8-dd95-4512-b557-f2aad2cf53a4",
   "metadata": {
    "tags": []
   },
   "outputs": [],
   "source": [
    "import shutil\n",
    "\n",
    "for path in folders[\"total_path\"]:\n",
    "    shutil.rmtree(path)"
   ]
  },
  {
   "cell_type": "code",
   "execution_count": null,
   "id": "4c84f8f4-6743-44fe-8b30-3a3f3b62159f",
   "metadata": {
<<<<<<< HEAD
=======
    "collapsed": true,
>>>>>>> 32a9d59dd8e808d26fbbd8cb90159fecc49f3687
    "jupyter": {
     "outputs_hidden": true
    },
    "tags": []
   },
<<<<<<< HEAD
   "outputs": [],
=======
   "outputs": [
    {
     "name": "stdout",
     "output_type": "stream",
     "text": [
      "2023-09-03 11:32:24,355-[INFO]- dropbox:390 -> Refreshing access token.\n",
      "2023-09-03 11:32:24,528-[INFO]- dropbox:474 -> Request to files/list_folder\n",
      "2023-09-03 11:32:25,714-[INFO]- dropbox:474 -> Request to files/list_folder/continue\n"
     ]
    },
    {
     "data": {
      "application/vnd.jupyter.widget-view+json": {
       "model_id": "73ddf1098bea4cdabc03f502c8c337fd",
       "version_major": 2,
       "version_minor": 0
      },
      "text/plain": [
       "sizes:   0%|          | 0/899 [00:00<?, ?it/s]"
      ]
     },
     "metadata": {},
     "output_type": "display_data"
    },
    {
     "name": "stdout",
     "output_type": "stream",
     "text": [
      "2023-09-03 11:32:26,776-[INFO]- dropbox:390 -> Refreshing access token.\n",
      "2023-09-03 11:32:26,924-[INFO]- dropbox:474 -> Request to files/list_folder\n",
      "2023-09-03 11:32:27,479-[INFO]- dropbox:390 -> Refreshing access token.\n",
      "2023-09-03 11:32:27,629-[INFO]- dropbox:474 -> Request to files/list_folder\n",
      "2023-09-03 11:32:28,078-[INFO]- dropbox:390 -> Refreshing access token.\n",
      "2023-09-03 11:32:28,226-[INFO]- dropbox:474 -> Request to files/list_folder\n",
      "2023-09-03 11:32:28,647-[INFO]- dropbox:390 -> Refreshing access token.\n",
      "2023-09-03 11:32:28,784-[INFO]- dropbox:474 -> Request to files/list_folder\n",
      "2023-09-03 11:32:29,141-[INFO]- dropbox:390 -> Refreshing access token.\n",
      "2023-09-03 11:32:29,280-[INFO]- dropbox:474 -> Request to files/list_folder\n",
      "2023-09-03 11:32:29,900-[INFO]- dropbox:390 -> Refreshing access token.\n",
      "2023-09-03 11:32:30,061-[INFO]- dropbox:474 -> Request to files/list_folder\n",
      "2023-09-03 11:32:30,643-[INFO]- dropbox:390 -> Refreshing access token.\n",
      "2023-09-03 11:32:30,790-[INFO]- dropbox:474 -> Request to files/list_folder\n",
      "2023-09-03 11:32:31,289-[INFO]- dropbox:390 -> Refreshing access token.\n",
      "2023-09-03 11:32:31,441-[INFO]- dropbox:474 -> Request to files/list_folder\n",
      "2023-09-03 11:32:31,739-[INFO]- dropbox:390 -> Refreshing access token.\n",
      "2023-09-03 11:32:31,903-[INFO]- dropbox:474 -> Request to files/list_folder\n",
      "2023-09-03 11:32:32,200-[INFO]- dropbox:390 -> Refreshing access token.\n",
      "2023-09-03 11:32:32,348-[INFO]- dropbox:474 -> Request to files/list_folder\n",
      "2023-09-03 11:32:33,048-[INFO]- dropbox:390 -> Refreshing access token.\n",
      "2023-09-03 11:32:33,231-[INFO]- dropbox:474 -> Request to files/list_folder\n",
      "2023-09-03 11:32:33,573-[INFO]- dropbox:390 -> Refreshing access token.\n",
      "2023-09-03 11:32:33,730-[INFO]- dropbox:474 -> Request to files/list_folder\n",
      "2023-09-03 11:32:34,042-[INFO]- dropbox:390 -> Refreshing access token.\n",
      "2023-09-03 11:32:34,181-[INFO]- dropbox:474 -> Request to files/list_folder\n",
      "2023-09-03 11:32:34,484-[INFO]- dropbox:390 -> Refreshing access token.\n",
      "2023-09-03 11:32:34,629-[INFO]- dropbox:474 -> Request to files/list_folder\n",
      "2023-09-03 11:32:34,967-[INFO]- dropbox:390 -> Refreshing access token.\n",
      "2023-09-03 11:32:35,119-[INFO]- dropbox:474 -> Request to files/list_folder\n",
      "2023-09-03 11:32:35,475-[INFO]- dropbox:390 -> Refreshing access token.\n",
      "2023-09-03 11:32:35,617-[INFO]- dropbox:474 -> Request to files/list_folder\n",
      "2023-09-03 11:32:36,088-[INFO]- dropbox:390 -> Refreshing access token.\n",
      "2023-09-03 11:32:36,231-[INFO]- dropbox:474 -> Request to files/list_folder\n",
      "2023-09-03 11:32:36,492-[INFO]- dropbox:390 -> Refreshing access token.\n",
      "2023-09-03 11:32:36,667-[INFO]- dropbox:474 -> Request to files/list_folder\n",
      "2023-09-03 11:32:37,103-[INFO]- dropbox:390 -> Refreshing access token.\n",
      "2023-09-03 11:32:37,261-[INFO]- dropbox:474 -> Request to files/list_folder\n",
      "2023-09-03 11:32:37,579-[INFO]- dropbox:390 -> Refreshing access token.\n",
      "2023-09-03 11:32:37,720-[INFO]- dropbox:474 -> Request to files/list_folder\n",
      "2023-09-03 11:32:37,997-[INFO]- dropbox:390 -> Refreshing access token.\n",
      "2023-09-03 11:32:38,158-[INFO]- dropbox:474 -> Request to files/list_folder\n",
      "2023-09-03 11:32:38,675-[INFO]- dropbox:390 -> Refreshing access token.\n",
      "2023-09-03 11:32:38,839-[INFO]- dropbox:474 -> Request to files/list_folder\n",
      "2023-09-03 11:32:39,093-[INFO]- dropbox:390 -> Refreshing access token.\n",
      "2023-09-03 11:32:39,241-[INFO]- dropbox:474 -> Request to files/list_folder\n",
      "2023-09-03 11:32:39,527-[INFO]- dropbox:390 -> Refreshing access token.\n",
      "2023-09-03 11:32:39,670-[INFO]- dropbox:474 -> Request to files/list_folder\n",
      "2023-09-03 11:32:39,928-[INFO]- dropbox:390 -> Refreshing access token.\n",
      "2023-09-03 11:32:40,068-[INFO]- dropbox:474 -> Request to files/list_folder\n",
      "2023-09-03 11:32:40,332-[INFO]- dropbox:390 -> Refreshing access token.\n",
      "2023-09-03 11:32:40,478-[INFO]- dropbox:474 -> Request to files/list_folder\n",
      "2023-09-03 11:32:40,787-[INFO]- dropbox:390 -> Refreshing access token.\n",
      "2023-09-03 11:32:40,934-[INFO]- dropbox:474 -> Request to files/list_folder\n",
      "2023-09-03 11:32:41,212-[INFO]- dropbox:390 -> Refreshing access token.\n",
      "2023-09-03 11:32:41,359-[INFO]- dropbox:474 -> Request to files/list_folder\n",
      "2023-09-03 11:32:41,618-[INFO]- dropbox:390 -> Refreshing access token.\n",
      "2023-09-03 11:32:41,768-[INFO]- dropbox:474 -> Request to files/list_folder\n",
      "2023-09-03 11:32:42,028-[INFO]- dropbox:390 -> Refreshing access token.\n",
      "2023-09-03 11:32:42,174-[INFO]- dropbox:474 -> Request to files/list_folder\n",
      "2023-09-03 11:32:42,454-[INFO]- dropbox:390 -> Refreshing access token.\n",
      "2023-09-03 11:32:42,607-[INFO]- dropbox:474 -> Request to files/list_folder\n",
      "2023-09-03 11:32:42,920-[INFO]- dropbox:390 -> Refreshing access token.\n",
      "2023-09-03 11:32:43,064-[INFO]- dropbox:474 -> Request to files/list_folder\n",
      "2023-09-03 11:32:43,362-[INFO]- dropbox:390 -> Refreshing access token.\n",
      "2023-09-03 11:32:43,503-[INFO]- dropbox:474 -> Request to files/list_folder\n",
      "2023-09-03 11:32:43,762-[INFO]- dropbox:390 -> Refreshing access token.\n",
      "2023-09-03 11:32:43,910-[INFO]- dropbox:474 -> Request to files/list_folder\n",
      "2023-09-03 11:32:44,165-[INFO]- dropbox:390 -> Refreshing access token.\n",
      "2023-09-03 11:32:44,308-[INFO]- dropbox:474 -> Request to files/list_folder\n",
      "2023-09-03 11:32:44,564-[INFO]- dropbox:390 -> Refreshing access token.\n",
      "2023-09-03 11:32:44,705-[INFO]- dropbox:474 -> Request to files/list_folder\n",
      "2023-09-03 11:32:44,975-[INFO]- dropbox:390 -> Refreshing access token.\n",
      "2023-09-03 11:32:45,121-[INFO]- dropbox:474 -> Request to files/list_folder\n",
      "2023-09-03 11:32:45,462-[INFO]- dropbox:390 -> Refreshing access token.\n",
      "2023-09-03 11:32:45,612-[INFO]- dropbox:474 -> Request to files/list_folder\n",
      "2023-09-03 11:32:45,984-[INFO]- dropbox:390 -> Refreshing access token.\n",
      "2023-09-03 11:32:46,125-[INFO]- dropbox:474 -> Request to files/list_folder\n",
      "2023-09-03 11:32:46,486-[INFO]- dropbox:390 -> Refreshing access token.\n",
      "2023-09-03 11:32:46,648-[INFO]- dropbox:474 -> Request to files/list_folder\n",
      "2023-09-03 11:32:47,037-[INFO]- dropbox:390 -> Refreshing access token.\n",
      "2023-09-03 11:32:47,181-[INFO]- dropbox:474 -> Request to files/list_folder\n",
      "2023-09-03 11:32:47,501-[INFO]- dropbox:390 -> Refreshing access token.\n",
      "2023-09-03 11:32:47,654-[INFO]- dropbox:474 -> Request to files/list_folder\n",
      "2023-09-03 11:32:48,004-[INFO]- dropbox:390 -> Refreshing access token.\n",
      "2023-09-03 11:32:48,149-[INFO]- dropbox:474 -> Request to files/list_folder\n",
      "2023-09-03 11:32:48,661-[INFO]- dropbox:390 -> Refreshing access token.\n",
      "2023-09-03 11:32:48,806-[INFO]- dropbox:474 -> Request to files/list_folder\n",
      "2023-09-03 11:32:49,309-[INFO]- dropbox:390 -> Refreshing access token.\n",
      "2023-09-03 11:32:49,454-[INFO]- dropbox:474 -> Request to files/list_folder\n",
      "2023-09-03 11:32:49,968-[INFO]- dropbox:390 -> Refreshing access token.\n",
      "2023-09-03 11:32:50,120-[INFO]- dropbox:474 -> Request to files/list_folder\n",
      "2023-09-03 11:32:50,595-[INFO]- dropbox:390 -> Refreshing access token.\n",
      "2023-09-03 11:32:50,738-[INFO]- dropbox:474 -> Request to files/list_folder\n",
      "2023-09-03 11:32:51,114-[INFO]- dropbox:390 -> Refreshing access token.\n",
      "2023-09-03 11:32:51,282-[INFO]- dropbox:474 -> Request to files/list_folder\n",
      "2023-09-03 11:32:52,004-[INFO]- dropbox:390 -> Refreshing access token.\n",
      "2023-09-03 11:32:52,167-[INFO]- dropbox:474 -> Request to files/list_folder\n",
      "2023-09-03 11:32:52,589-[INFO]- dropbox:390 -> Refreshing access token.\n",
      "2023-09-03 11:32:52,735-[INFO]- dropbox:474 -> Request to files/list_folder\n",
      "2023-09-03 11:32:53,109-[INFO]- dropbox:390 -> Refreshing access token.\n",
      "2023-09-03 11:32:53,258-[INFO]- dropbox:474 -> Request to files/list_folder\n",
      "2023-09-03 11:32:53,658-[INFO]- dropbox:390 -> Refreshing access token.\n",
      "2023-09-03 11:32:53,803-[INFO]- dropbox:474 -> Request to files/list_folder\n",
      "2023-09-03 11:32:54,174-[INFO]- dropbox:390 -> Refreshing access token.\n",
      "2023-09-03 11:32:54,315-[INFO]- dropbox:474 -> Request to files/list_folder\n",
      "2023-09-03 11:32:54,710-[INFO]- dropbox:390 -> Refreshing access token.\n",
      "2023-09-03 11:32:54,855-[INFO]- dropbox:474 -> Request to files/list_folder\n",
      "2023-09-03 11:32:55,310-[INFO]- dropbox:390 -> Refreshing access token.\n",
      "2023-09-03 11:32:55,461-[INFO]- dropbox:474 -> Request to files/list_folder\n",
      "2023-09-03 11:32:56,000-[INFO]- dropbox:390 -> Refreshing access token.\n",
      "2023-09-03 11:32:56,156-[INFO]- dropbox:474 -> Request to files/list_folder\n",
      "2023-09-03 11:32:56,610-[INFO]- dropbox:390 -> Refreshing access token.\n",
      "2023-09-03 11:32:56,756-[INFO]- dropbox:474 -> Request to files/list_folder\n",
      "2023-09-03 11:32:57,135-[INFO]- dropbox:390 -> Refreshing access token.\n",
      "2023-09-03 11:32:57,279-[INFO]- dropbox:474 -> Request to files/list_folder\n",
      "2023-09-03 11:32:57,688-[INFO]- dropbox:390 -> Refreshing access token.\n",
      "2023-09-03 11:32:57,835-[INFO]- dropbox:474 -> Request to files/list_folder\n",
      "2023-09-03 11:32:58,091-[INFO]- dropbox:390 -> Refreshing access token.\n",
      "2023-09-03 11:32:58,244-[INFO]- dropbox:474 -> Request to files/list_folder\n",
      "2023-09-03 11:32:58,504-[INFO]- dropbox:390 -> Refreshing access token.\n",
      "2023-09-03 11:32:58,651-[INFO]- dropbox:474 -> Request to files/list_folder\n",
      "2023-09-03 11:32:59,078-[INFO]- dropbox:390 -> Refreshing access token.\n",
      "2023-09-03 11:32:59,220-[INFO]- dropbox:474 -> Request to files/list_folder\n",
      "2023-09-03 11:33:00,987-[INFO]- dropbox:390 -> Refreshing access token.\n",
      "2023-09-03 11:33:01,135-[INFO]- dropbox:474 -> Request to files/list_folder\n",
      "2023-09-03 11:33:01,574-[INFO]- dropbox:390 -> Refreshing access token.\n",
      "2023-09-03 11:33:01,720-[INFO]- dropbox:474 -> Request to files/list_folder\n",
      "2023-09-03 11:33:02,119-[INFO]- dropbox:390 -> Refreshing access token.\n",
      "2023-09-03 11:33:02,262-[INFO]- dropbox:474 -> Request to files/list_folder\n",
      "2023-09-03 11:33:02,717-[INFO]- dropbox:390 -> Refreshing access token.\n",
      "2023-09-03 11:33:02,860-[INFO]- dropbox:474 -> Request to files/list_folder\n",
      "2023-09-03 11:33:03,253-[INFO]- dropbox:390 -> Refreshing access token.\n",
      "2023-09-03 11:33:03,398-[INFO]- dropbox:474 -> Request to files/list_folder\n",
      "2023-09-03 11:33:03,983-[INFO]- dropbox:390 -> Refreshing access token.\n",
      "2023-09-03 11:33:04,123-[INFO]- dropbox:474 -> Request to files/list_folder\n",
      "2023-09-03 11:33:04,569-[INFO]- dropbox:390 -> Refreshing access token.\n",
      "2023-09-03 11:33:04,715-[INFO]- dropbox:474 -> Request to files/list_folder\n",
      "2023-09-03 11:33:05,121-[INFO]- dropbox:390 -> Refreshing access token.\n",
      "2023-09-03 11:33:05,262-[INFO]- dropbox:474 -> Request to files/list_folder\n",
      "2023-09-03 11:33:05,729-[INFO]- dropbox:390 -> Refreshing access token.\n",
      "2023-09-03 11:33:05,883-[INFO]- dropbox:474 -> Request to files/list_folder\n",
      "2023-09-03 11:33:06,144-[INFO]- dropbox:390 -> Refreshing access token.\n",
      "2023-09-03 11:33:06,297-[INFO]- dropbox:474 -> Request to files/list_folder\n",
      "2023-09-03 11:33:06,573-[INFO]- dropbox:390 -> Refreshing access token.\n",
      "2023-09-03 11:33:06,725-[INFO]- dropbox:474 -> Request to files/list_folder\n",
      "2023-09-03 11:33:06,969-[INFO]- dropbox:390 -> Refreshing access token.\n",
      "2023-09-03 11:33:07,136-[INFO]- dropbox:474 -> Request to files/list_folder\n",
      "2023-09-03 11:33:07,524-[INFO]- dropbox:390 -> Refreshing access token.\n",
      "2023-09-03 11:33:07,665-[INFO]- dropbox:474 -> Request to files/list_folder\n",
      "2023-09-03 11:33:08,201-[INFO]- dropbox:390 -> Refreshing access token.\n",
      "2023-09-03 11:33:08,346-[INFO]- dropbox:474 -> Request to files/list_folder\n",
      "2023-09-03 11:33:08,819-[INFO]- dropbox:390 -> Refreshing access token.\n",
      "2023-09-03 11:33:08,976-[INFO]- dropbox:474 -> Request to files/list_folder\n",
      "2023-09-03 11:33:09,435-[INFO]- dropbox:390 -> Refreshing access token.\n",
      "2023-09-03 11:33:09,577-[INFO]- dropbox:474 -> Request to files/list_folder\n",
      "2023-09-03 11:33:10,066-[INFO]- dropbox:390 -> Refreshing access token.\n",
      "2023-09-03 11:33:10,227-[INFO]- dropbox:474 -> Request to files/list_folder\n",
      "2023-09-03 11:33:10,599-[INFO]- dropbox:390 -> Refreshing access token.\n",
      "2023-09-03 11:33:10,747-[INFO]- dropbox:474 -> Request to files/list_folder\n",
      "2023-09-03 11:33:11,088-[INFO]- dropbox:390 -> Refreshing access token.\n",
      "2023-09-03 11:33:11,239-[INFO]- dropbox:474 -> Request to files/list_folder\n",
      "2023-09-03 11:33:11,567-[INFO]- dropbox:390 -> Refreshing access token.\n",
      "2023-09-03 11:33:11,713-[INFO]- dropbox:474 -> Request to files/list_folder\n",
      "2023-09-03 11:33:12,060-[INFO]- dropbox:390 -> Refreshing access token.\n",
      "2023-09-03 11:33:12,207-[INFO]- dropbox:474 -> Request to files/list_folder\n",
      "2023-09-03 11:33:12,695-[INFO]- dropbox:390 -> Refreshing access token.\n",
      "2023-09-03 11:33:12,842-[INFO]- dropbox:474 -> Request to files/list_folder\n",
      "2023-09-03 11:33:13,788-[INFO]- dropbox:390 -> Refreshing access token.\n",
      "2023-09-03 11:33:13,930-[INFO]- dropbox:474 -> Request to files/list_folder\n",
      "2023-09-03 11:33:14,632-[INFO]- dropbox:390 -> Refreshing access token.\n",
      "2023-09-03 11:33:14,777-[INFO]- dropbox:474 -> Request to files/list_folder\n",
      "2023-09-03 11:33:15,165-[INFO]- dropbox:390 -> Refreshing access token.\n",
      "2023-09-03 11:33:15,328-[INFO]- dropbox:474 -> Request to files/list_folder\n",
      "2023-09-03 11:33:15,719-[INFO]- dropbox:390 -> Refreshing access token.\n",
      "2023-09-03 11:33:15,860-[INFO]- dropbox:474 -> Request to files/list_folder\n",
      "2023-09-03 11:33:16,200-[INFO]- dropbox:390 -> Refreshing access token.\n",
      "2023-09-03 11:33:16,349-[INFO]- dropbox:474 -> Request to files/list_folder\n",
      "2023-09-03 11:33:16,745-[INFO]- dropbox:390 -> Refreshing access token.\n",
      "2023-09-03 11:33:16,892-[INFO]- dropbox:474 -> Request to files/list_folder\n",
      "2023-09-03 11:33:17,203-[INFO]- dropbox:390 -> Refreshing access token.\n",
      "2023-09-03 11:33:17,349-[INFO]- dropbox:474 -> Request to files/list_folder\n",
      "2023-09-03 11:33:17,739-[INFO]- dropbox:390 -> Refreshing access token.\n",
      "2023-09-03 11:33:17,891-[INFO]- dropbox:474 -> Request to files/list_folder\n",
      "2023-09-03 11:33:18,276-[INFO]- dropbox:390 -> Refreshing access token.\n",
      "2023-09-03 11:33:18,438-[INFO]- dropbox:474 -> Request to files/list_folder\n",
      "2023-09-03 11:33:18,784-[INFO]- dropbox:390 -> Refreshing access token.\n",
      "2023-09-03 11:33:18,926-[INFO]- dropbox:474 -> Request to files/list_folder\n",
      "2023-09-03 11:33:19,256-[INFO]- dropbox:390 -> Refreshing access token.\n",
      "2023-09-03 11:33:19,598-[INFO]- dropbox:474 -> Request to files/list_folder\n",
      "2023-09-03 11:33:19,917-[INFO]- dropbox:390 -> Refreshing access token.\n",
      "2023-09-03 11:33:20,071-[INFO]- dropbox:474 -> Request to files/list_folder\n",
      "2023-09-03 11:33:20,338-[INFO]- dropbox:390 -> Refreshing access token.\n",
      "2023-09-03 11:33:20,498-[INFO]- dropbox:474 -> Request to files/list_folder\n",
      "2023-09-03 11:33:20,759-[INFO]- dropbox:390 -> Refreshing access token.\n",
      "2023-09-03 11:33:20,899-[INFO]- dropbox:474 -> Request to files/list_folder\n",
      "2023-09-03 11:33:21,230-[INFO]- dropbox:390 -> Refreshing access token.\n",
      "2023-09-03 11:33:21,377-[INFO]- dropbox:474 -> Request to files/list_folder\n",
      "2023-09-03 11:33:21,833-[INFO]- dropbox:390 -> Refreshing access token.\n",
      "2023-09-03 11:33:21,979-[INFO]- dropbox:474 -> Request to files/list_folder\n",
      "2023-09-03 11:33:22,270-[INFO]- dropbox:390 -> Refreshing access token.\n",
      "2023-09-03 11:33:22,440-[INFO]- dropbox:474 -> Request to files/list_folder\n",
      "2023-09-03 11:33:22,804-[INFO]- dropbox:390 -> Refreshing access token.\n",
      "2023-09-03 11:33:22,951-[INFO]- dropbox:474 -> Request to files/list_folder\n",
      "2023-09-03 11:33:23,265-[INFO]- dropbox:390 -> Refreshing access token.\n",
      "2023-09-03 11:33:23,416-[INFO]- dropbox:474 -> Request to files/list_folder\n",
      "2023-09-03 11:33:23,830-[INFO]- dropbox:390 -> Refreshing access token.\n",
      "2023-09-03 11:33:23,972-[INFO]- dropbox:474 -> Request to files/list_folder\n",
      "2023-09-03 11:33:24,544-[INFO]- dropbox:390 -> Refreshing access token.\n",
      "2023-09-03 11:33:24,706-[INFO]- dropbox:474 -> Request to files/list_folder\n",
      "2023-09-03 11:33:25,104-[INFO]- dropbox:390 -> Refreshing access token.\n",
      "2023-09-03 11:33:25,266-[INFO]- dropbox:474 -> Request to files/list_folder\n",
      "2023-09-03 11:33:25,682-[INFO]- dropbox:390 -> Refreshing access token.\n",
      "2023-09-03 11:33:25,825-[INFO]- dropbox:474 -> Request to files/list_folder\n",
      "2023-09-03 11:33:26,227-[INFO]- dropbox:390 -> Refreshing access token.\n",
      "2023-09-03 11:33:26,387-[INFO]- dropbox:474 -> Request to files/list_folder\n",
      "2023-09-03 11:33:26,815-[INFO]- dropbox:390 -> Refreshing access token.\n",
      "2023-09-03 11:33:26,963-[INFO]- dropbox:474 -> Request to files/list_folder\n",
      "2023-09-03 11:33:27,237-[INFO]- dropbox:390 -> Refreshing access token.\n",
      "2023-09-03 11:33:27,383-[INFO]- dropbox:474 -> Request to files/list_folder\n",
      "2023-09-03 11:33:27,924-[INFO]- dropbox:390 -> Refreshing access token.\n",
      "2023-09-03 11:33:28,086-[INFO]- dropbox:474 -> Request to files/list_folder\n",
      "2023-09-03 11:33:28,568-[INFO]- dropbox:390 -> Refreshing access token.\n",
      "2023-09-03 11:33:28,712-[INFO]- dropbox:474 -> Request to files/list_folder\n",
      "2023-09-03 11:33:29,157-[INFO]- dropbox:390 -> Refreshing access token.\n",
      "2023-09-03 11:33:29,305-[INFO]- dropbox:474 -> Request to files/list_folder\n",
      "2023-09-03 11:33:29,727-[INFO]- dropbox:390 -> Refreshing access token.\n",
      "2023-09-03 11:33:29,872-[INFO]- dropbox:474 -> Request to files/list_folder\n",
      "2023-09-03 11:33:30,860-[INFO]- dropbox:390 -> Refreshing access token.\n",
      "2023-09-03 11:33:31,010-[INFO]- dropbox:474 -> Request to files/list_folder\n",
      "2023-09-03 11:33:31,416-[INFO]- dropbox:390 -> Refreshing access token.\n",
      "2023-09-03 11:33:31,560-[INFO]- dropbox:474 -> Request to files/list_folder\n",
      "2023-09-03 11:33:32,022-[INFO]- dropbox:390 -> Refreshing access token.\n",
      "2023-09-03 11:33:32,184-[INFO]- dropbox:474 -> Request to files/list_folder\n",
      "2023-09-03 11:33:32,454-[INFO]- dropbox:390 -> Refreshing access token.\n",
      "2023-09-03 11:33:32,619-[INFO]- dropbox:474 -> Request to files/list_folder\n",
      "2023-09-03 11:33:32,882-[INFO]- dropbox:390 -> Refreshing access token.\n",
      "2023-09-03 11:33:33,032-[INFO]- dropbox:474 -> Request to files/list_folder\n",
      "2023-09-03 11:33:33,272-[INFO]- dropbox:390 -> Refreshing access token.\n",
      "2023-09-03 11:33:33,420-[INFO]- dropbox:474 -> Request to files/list_folder\n",
      "2023-09-03 11:33:33,689-[INFO]- dropbox:390 -> Refreshing access token.\n",
      "2023-09-03 11:33:33,830-[INFO]- dropbox:474 -> Request to files/list_folder\n",
      "2023-09-03 11:33:34,078-[INFO]- dropbox:390 -> Refreshing access token.\n",
      "2023-09-03 11:33:34,222-[INFO]- dropbox:474 -> Request to files/list_folder\n",
      "2023-09-03 11:33:34,478-[INFO]- dropbox:390 -> Refreshing access token.\n",
      "2023-09-03 11:33:34,637-[INFO]- dropbox:474 -> Request to files/list_folder\n",
      "2023-09-03 11:33:34,900-[INFO]- dropbox:390 -> Refreshing access token.\n",
      "2023-09-03 11:33:35,044-[INFO]- dropbox:474 -> Request to files/list_folder\n",
      "2023-09-03 11:33:35,556-[INFO]- dropbox:390 -> Refreshing access token.\n",
      "2023-09-03 11:33:35,736-[INFO]- dropbox:474 -> Request to files/list_folder\n",
      "2023-09-03 11:33:36,407-[INFO]- dropbox:390 -> Refreshing access token.\n",
      "2023-09-03 11:33:36,545-[INFO]- dropbox:474 -> Request to files/list_folder\n",
      "2023-09-03 11:33:37,125-[INFO]- dropbox:390 -> Refreshing access token.\n",
      "2023-09-03 11:33:37,276-[INFO]- dropbox:474 -> Request to files/list_folder\n",
      "2023-09-03 11:33:38,553-[INFO]- dropbox:390 -> Refreshing access token.\n",
      "2023-09-03 11:33:38,704-[INFO]- dropbox:474 -> Request to files/list_folder\n",
      "2023-09-03 11:33:39,332-[INFO]- dropbox:390 -> Refreshing access token.\n",
      "2023-09-03 11:33:39,478-[INFO]- dropbox:474 -> Request to files/list_folder\n",
      "2023-09-03 11:33:39,932-[INFO]- dropbox:390 -> Refreshing access token.\n",
      "2023-09-03 11:33:40,080-[INFO]- dropbox:474 -> Request to files/list_folder\n",
      "2023-09-03 11:33:40,557-[INFO]- dropbox:390 -> Refreshing access token.\n",
      "2023-09-03 11:33:40,700-[INFO]- dropbox:474 -> Request to files/list_folder\n",
      "2023-09-03 11:33:41,322-[INFO]- dropbox:390 -> Refreshing access token.\n",
      "2023-09-03 11:33:41,480-[INFO]- dropbox:474 -> Request to files/list_folder\n",
      "2023-09-03 11:33:42,113-[INFO]- dropbox:390 -> Refreshing access token.\n",
      "2023-09-03 11:33:42,262-[INFO]- dropbox:474 -> Request to files/list_folder\n",
      "2023-09-03 11:33:42,728-[INFO]- dropbox:390 -> Refreshing access token.\n",
      "2023-09-03 11:33:42,885-[INFO]- dropbox:474 -> Request to files/list_folder\n",
      "2023-09-03 11:33:43,454-[INFO]- dropbox:390 -> Refreshing access token.\n",
      "2023-09-03 11:33:43,605-[INFO]- dropbox:474 -> Request to files/list_folder\n",
      "2023-09-03 11:33:44,299-[INFO]- dropbox:390 -> Refreshing access token.\n",
      "2023-09-03 11:33:44,438-[INFO]- dropbox:474 -> Request to files/list_folder\n",
      "2023-09-03 11:33:44,903-[INFO]- dropbox:390 -> Refreshing access token.\n",
      "2023-09-03 11:33:45,057-[INFO]- dropbox:474 -> Request to files/list_folder\n",
      "2023-09-03 11:33:45,975-[INFO]- dropbox:390 -> Refreshing access token.\n",
      "2023-09-03 11:33:46,144-[INFO]- dropbox:474 -> Request to files/list_folder\n",
      "2023-09-03 11:33:46,759-[INFO]- dropbox:390 -> Refreshing access token.\n",
      "2023-09-03 11:33:46,914-[INFO]- dropbox:474 -> Request to files/list_folder\n",
      "2023-09-03 11:33:47,390-[INFO]- dropbox:390 -> Refreshing access token.\n",
      "2023-09-03 11:33:47,539-[INFO]- dropbox:474 -> Request to files/list_folder\n",
      "2023-09-03 11:33:48,053-[INFO]- dropbox:390 -> Refreshing access token.\n",
      "2023-09-03 11:33:48,198-[INFO]- dropbox:474 -> Request to files/list_folder\n",
      "2023-09-03 11:33:48,681-[INFO]- dropbox:390 -> Refreshing access token.\n",
      "2023-09-03 11:33:48,830-[INFO]- dropbox:474 -> Request to files/list_folder\n",
      "2023-09-03 11:33:49,103-[INFO]- dropbox:390 -> Refreshing access token.\n",
      "2023-09-03 11:33:49,246-[INFO]- dropbox:474 -> Request to files/list_folder\n",
      "2023-09-03 11:33:49,542-[INFO]- dropbox:390 -> Refreshing access token.\n",
      "2023-09-03 11:33:49,713-[INFO]- dropbox:474 -> Request to files/list_folder\n",
      "2023-09-03 11:33:49,989-[INFO]- dropbox:390 -> Refreshing access token.\n",
      "2023-09-03 11:33:50,131-[INFO]- dropbox:474 -> Request to files/list_folder\n",
      "2023-09-03 11:33:50,992-[INFO]- dropbox:390 -> Refreshing access token.\n",
      "2023-09-03 11:33:51,138-[INFO]- dropbox:474 -> Request to files/list_folder\n",
      "2023-09-03 11:33:51,488-[INFO]- dropbox:390 -> Refreshing access token.\n",
      "2023-09-03 11:33:51,706-[INFO]- dropbox:474 -> Request to files/list_folder\n",
      "2023-09-03 11:33:52,393-[INFO]- dropbox:390 -> Refreshing access token.\n",
      "2023-09-03 11:33:52,557-[INFO]- dropbox:474 -> Request to files/list_folder\n",
      "2023-09-03 11:33:53,245-[INFO]- dropbox:390 -> Refreshing access token.\n",
      "2023-09-03 11:33:53,391-[INFO]- dropbox:474 -> Request to files/list_folder\n",
      "2023-09-03 11:33:54,023-[INFO]- dropbox:390 -> Refreshing access token.\n",
      "2023-09-03 11:33:54,167-[INFO]- dropbox:474 -> Request to files/list_folder\n",
      "2023-09-03 11:33:54,668-[INFO]- dropbox:390 -> Refreshing access token.\n",
      "2023-09-03 11:33:54,810-[INFO]- dropbox:474 -> Request to files/list_folder\n",
      "2023-09-03 11:33:55,218-[INFO]- dropbox:390 -> Refreshing access token.\n",
      "2023-09-03 11:33:55,357-[INFO]- dropbox:474 -> Request to files/list_folder\n",
      "2023-09-03 11:33:55,758-[INFO]- dropbox:390 -> Refreshing access token.\n",
      "2023-09-03 11:33:55,904-[INFO]- dropbox:474 -> Request to files/list_folder\n",
      "2023-09-03 11:33:56,356-[INFO]- dropbox:390 -> Refreshing access token.\n",
      "2023-09-03 11:33:56,499-[INFO]- dropbox:474 -> Request to files/list_folder\n",
      "2023-09-03 11:33:56,949-[INFO]- dropbox:390 -> Refreshing access token.\n",
      "2023-09-03 11:33:57,096-[INFO]- dropbox:474 -> Request to files/list_folder\n",
      "2023-09-03 11:33:57,461-[INFO]- dropbox:390 -> Refreshing access token.\n",
      "2023-09-03 11:33:57,611-[INFO]- dropbox:474 -> Request to files/list_folder\n",
      "2023-09-03 11:33:57,966-[INFO]- dropbox:390 -> Refreshing access token.\n",
      "2023-09-03 11:33:58,115-[INFO]- dropbox:474 -> Request to files/list_folder\n",
      "2023-09-03 11:33:58,391-[INFO]- dropbox:390 -> Refreshing access token.\n",
      "2023-09-03 11:33:58,546-[INFO]- dropbox:474 -> Request to files/list_folder\n",
      "2023-09-03 11:33:59,055-[INFO]- dropbox:390 -> Refreshing access token.\n",
      "2023-09-03 11:33:59,198-[INFO]- dropbox:474 -> Request to files/list_folder\n",
      "2023-09-03 11:33:59,690-[INFO]- dropbox:390 -> Refreshing access token.\n",
      "2023-09-03 11:33:59,833-[INFO]- dropbox:474 -> Request to files/list_folder\n",
      "2023-09-03 11:34:00,172-[INFO]- dropbox:390 -> Refreshing access token.\n",
      "2023-09-03 11:34:00,313-[INFO]- dropbox:474 -> Request to files/list_folder\n",
      "2023-09-03 11:34:00,624-[INFO]- dropbox:390 -> Refreshing access token.\n",
      "2023-09-03 11:34:00,766-[INFO]- dropbox:474 -> Request to files/list_folder\n",
      "2023-09-03 11:34:01,458-[INFO]- dropbox:390 -> Refreshing access token.\n",
      "2023-09-03 11:34:01,614-[INFO]- dropbox:474 -> Request to files/list_folder\n",
      "2023-09-03 11:34:02,514-[INFO]- dropbox:390 -> Refreshing access token.\n",
      "2023-09-03 11:34:02,661-[INFO]- dropbox:474 -> Request to files/list_folder\n",
      "2023-09-03 11:34:03,134-[INFO]- dropbox:390 -> Refreshing access token.\n",
      "2023-09-03 11:34:03,280-[INFO]- dropbox:474 -> Request to files/list_folder\n",
      "2023-09-03 11:34:03,796-[INFO]- dropbox:390 -> Refreshing access token.\n",
      "2023-09-03 11:34:03,944-[INFO]- dropbox:474 -> Request to files/list_folder\n",
      "2023-09-03 11:34:04,467-[INFO]- dropbox:390 -> Refreshing access token.\n",
      "2023-09-03 11:34:04,612-[INFO]- dropbox:474 -> Request to files/list_folder\n",
      "2023-09-03 11:34:05,331-[INFO]- dropbox:390 -> Refreshing access token.\n",
      "2023-09-03 11:34:05,494-[INFO]- dropbox:474 -> Request to files/list_folder\n",
      "2023-09-03 11:34:06,428-[INFO]- dropbox:474 -> Request to files/list_folder/continue\n",
      "2023-09-03 11:34:07,205-[INFO]- dropbox:474 -> Request to files/list_folder/continue\n",
      "2023-09-03 11:34:07,530-[INFO]- dropbox:390 -> Refreshing access token.\n",
      "2023-09-03 11:34:07,674-[INFO]- dropbox:474 -> Request to files/list_folder\n",
      "2023-09-03 11:34:08,314-[INFO]- dropbox:390 -> Refreshing access token.\n",
      "2023-09-03 11:34:08,457-[INFO]- dropbox:474 -> Request to files/list_folder\n",
      "2023-09-03 11:34:08,803-[INFO]- dropbox:390 -> Refreshing access token.\n",
      "2023-09-03 11:34:08,945-[INFO]- dropbox:474 -> Request to files/list_folder\n",
      "2023-09-03 11:34:09,341-[INFO]- dropbox:390 -> Refreshing access token.\n",
      "2023-09-03 11:34:09,486-[INFO]- dropbox:474 -> Request to files/list_folder\n",
      "2023-09-03 11:34:10,062-[INFO]- dropbox:390 -> Refreshing access token.\n",
      "2023-09-03 11:34:10,207-[INFO]- dropbox:474 -> Request to files/list_folder\n",
      "2023-09-03 11:34:10,709-[INFO]- dropbox:390 -> Refreshing access token.\n",
      "2023-09-03 11:34:10,858-[INFO]- dropbox:474 -> Request to files/list_folder\n",
      "2023-09-03 11:34:11,420-[INFO]- dropbox:390 -> Refreshing access token.\n",
      "2023-09-03 11:34:11,566-[INFO]- dropbox:474 -> Request to files/list_folder\n",
      "2023-09-03 11:34:12,074-[INFO]- dropbox:390 -> Refreshing access token.\n",
      "2023-09-03 11:34:12,230-[INFO]- dropbox:474 -> Request to files/list_folder\n",
      "2023-09-03 11:34:12,717-[INFO]- dropbox:390 -> Refreshing access token.\n",
      "2023-09-03 11:34:12,866-[INFO]- dropbox:474 -> Request to files/list_folder\n",
      "2023-09-03 11:34:13,279-[INFO]- dropbox:390 -> Refreshing access token.\n",
      "2023-09-03 11:34:13,424-[INFO]- dropbox:474 -> Request to files/list_folder\n",
      "2023-09-03 11:34:13,830-[INFO]- dropbox:390 -> Refreshing access token.\n",
      "2023-09-03 11:34:13,974-[INFO]- dropbox:474 -> Request to files/list_folder\n",
      "2023-09-03 11:34:14,240-[INFO]- dropbox:390 -> Refreshing access token.\n",
      "2023-09-03 11:34:14,386-[INFO]- dropbox:474 -> Request to files/list_folder\n",
      "2023-09-03 11:34:14,869-[INFO]- dropbox:390 -> Refreshing access token.\n",
      "2023-09-03 11:34:15,020-[INFO]- dropbox:474 -> Request to files/list_folder\n",
      "2023-09-03 11:34:15,619-[INFO]- dropbox:390 -> Refreshing access token.\n",
      "2023-09-03 11:34:15,762-[INFO]- dropbox:474 -> Request to files/list_folder\n",
      "2023-09-03 11:34:16,136-[INFO]- dropbox:390 -> Refreshing access token.\n",
      "2023-09-03 11:34:16,306-[INFO]- dropbox:474 -> Request to files/list_folder\n",
      "2023-09-03 11:34:16,897-[INFO]- dropbox:390 -> Refreshing access token.\n",
      "2023-09-03 11:34:17,060-[INFO]- dropbox:474 -> Request to files/list_folder\n",
      "2023-09-03 11:34:17,569-[INFO]- dropbox:390 -> Refreshing access token.\n",
      "2023-09-03 11:34:17,724-[INFO]- dropbox:474 -> Request to files/list_folder\n",
      "2023-09-03 11:34:18,662-[INFO]- dropbox:390 -> Refreshing access token.\n",
      "2023-09-03 11:34:18,811-[INFO]- dropbox:474 -> Request to files/list_folder\n",
      "2023-09-03 11:34:19,414-[INFO]- dropbox:390 -> Refreshing access token.\n",
      "2023-09-03 11:34:19,559-[INFO]- dropbox:474 -> Request to files/list_folder\n",
      "2023-09-03 11:34:20,443-[INFO]- dropbox:390 -> Refreshing access token.\n",
      "2023-09-03 11:34:20,600-[INFO]- dropbox:474 -> Request to files/list_folder\n",
      "2023-09-03 11:34:21,150-[INFO]- dropbox:390 -> Refreshing access token.\n",
      "2023-09-03 11:34:21,304-[INFO]- dropbox:474 -> Request to files/list_folder\n",
      "2023-09-03 11:34:21,900-[INFO]- dropbox:390 -> Refreshing access token.\n",
      "2023-09-03 11:34:22,193-[INFO]- dropbox:474 -> Request to files/list_folder\n",
      "2023-09-03 11:34:22,920-[INFO]- dropbox:390 -> Refreshing access token.\n",
      "2023-09-03 11:34:23,067-[INFO]- dropbox:474 -> Request to files/list_folder\n",
      "2023-09-03 11:34:24,052-[INFO]- dropbox:390 -> Refreshing access token.\n",
      "2023-09-03 11:34:24,212-[INFO]- dropbox:474 -> Request to files/list_folder\n",
      "2023-09-03 11:34:24,741-[INFO]- dropbox:474 -> Request to files/list_folder/continue\n",
      "2023-09-03 11:34:25,001-[INFO]- dropbox:390 -> Refreshing access token.\n",
      "2023-09-03 11:34:25,156-[INFO]- dropbox:474 -> Request to files/list_folder\n",
      "2023-09-03 11:34:26,389-[INFO]- dropbox:390 -> Refreshing access token.\n",
      "2023-09-03 11:34:26,541-[INFO]- dropbox:474 -> Request to files/list_folder\n",
      "2023-09-03 11:34:27,250-[INFO]- dropbox:390 -> Refreshing access token.\n",
      "2023-09-03 11:34:27,407-[INFO]- dropbox:474 -> Request to files/list_folder\n",
      "2023-09-03 11:34:28,140-[INFO]- dropbox:390 -> Refreshing access token.\n",
      "2023-09-03 11:34:28,286-[INFO]- dropbox:474 -> Request to files/list_folder\n",
      "2023-09-03 11:34:28,872-[INFO]- dropbox:390 -> Refreshing access token.\n",
      "2023-09-03 11:34:29,018-[INFO]- dropbox:474 -> Request to files/list_folder\n",
      "2023-09-03 11:34:29,615-[INFO]- dropbox:390 -> Refreshing access token.\n",
      "2023-09-03 11:34:29,757-[INFO]- dropbox:474 -> Request to files/list_folder\n",
      "2023-09-03 11:34:30,572-[INFO]- dropbox:390 -> Refreshing access token.\n",
      "2023-09-03 11:34:30,716-[INFO]- dropbox:474 -> Request to files/list_folder\n",
      "2023-09-03 11:34:31,248-[INFO]- dropbox:390 -> Refreshing access token.\n",
      "2023-09-03 11:34:31,394-[INFO]- dropbox:474 -> Request to files/list_folder\n",
      "2023-09-03 11:34:31,869-[INFO]- dropbox:390 -> Refreshing access token.\n",
      "2023-09-03 11:34:32,011-[INFO]- dropbox:474 -> Request to files/list_folder\n",
      "2023-09-03 11:34:32,467-[INFO]- dropbox:390 -> Refreshing access token.\n",
      "2023-09-03 11:34:32,644-[INFO]- dropbox:474 -> Request to files/list_folder\n",
      "2023-09-03 11:34:32,953-[INFO]- dropbox:390 -> Refreshing access token.\n"
     ]
    }
   ],
>>>>>>> 32a9d59dd8e808d26fbbd8cb90159fecc49f3687
   "source": [
    "dir_drop = \"/DATA/PRINCE\"\n",
    "all_folders_drop = get_dropbox_folders_prince(dir_drop)\n",
    "folders_drop = all_folders_drop.loc[all_folders_drop[\"unique_id\"].isin(plates)]\n",
    "# folders_drop"
   ]
  },
  {
   "cell_type": "code",
<<<<<<< HEAD
   "execution_count": null,
=======
   "execution_count": 12,
>>>>>>> 32a9d59dd8e808d26fbbd8cb90159fecc49f3687
   "id": "92923164-5f9e-4448-863b-01cb978ddd2b",
   "metadata": {},
   "outputs": [],
   "source": [
    "plates = [\"395_20231201\",\"401_20231123\"]"
   ]
  },
  {
   "cell_type": "code",
<<<<<<< HEAD
   "execution_count": null,
=======
   "execution_count": 9,
>>>>>>> 32a9d59dd8e808d26fbbd8cb90159fecc49f3687
   "id": "2c7d9788-67e0-4df7-b5cc-c2c2bdd816b9",
   "metadata": {
    "tags": []
   },
<<<<<<< HEAD
   "outputs": [],
=======
   "outputs": [
    {
     "name": "stderr",
     "output_type": "stream",
     "text": [
      "sbatch: Single-node jobs run on a shared node by default. Add --exclusive if you want to use a node exclusively.\n",
      "sbatch: A full node consists of 32 CPU cores, 229376 MiB of memory and 0 GPUs and can be shared by up to 32 jobs.\n",
      "sbatch: By default shared jobs get 7168 MiB of memory per CPU core, unless explicitly overridden with --mem-per-cpu, --mem-per-gpu or --mem.\n",
      "sbatch: You will be charged for 1 CPUs, based on the number of CPUs and the amount memory that you've requested.\n"
     ]
    },
    {
     "name": "stdout",
     "output_type": "stream",
     "text": [
      "Submitted batch job 4686076\n"
     ]
    }
   ],
>>>>>>> 32a9d59dd8e808d26fbbd8cb90159fecc49f3687
   "source": [
    "# name_job = f\"441Tryone_{time_ns()}.sh\"\n",
    "# name_job = f\"chicory\"\n",
    "name_job = f\"Loreto\"\n",
    "\n",
    "run_launcher(\n",
    "    \"dropbox_downloader.py\",\n",
    "    [directory_targ, name_job, 30, \"stitcher.py\"],\n",
    "    plates,\n",
    "    \"12:00:00\",\n",
    "    name_job=name_job,\n",
    "    dependency=True,\n",
    ")"
   ]
  },
  {
   "cell_type": "code",
<<<<<<< HEAD
   "execution_count": null,
=======
   "execution_count": 9,
>>>>>>> 32a9d59dd8e808d26fbbd8cb90159fecc49f3687
   "id": "75fd7145-988e-4391-8e18-83c016f22843",
   "metadata": {
    "tags": []
   },
<<<<<<< HEAD
   "outputs": [],
=======
   "outputs": [
    {
     "name": "stderr",
     "output_type": "stream",
     "text": [
      "sbatch: Single-node jobs run on a shared node by default. Add --exclusive if you want to use a node exclusively.\n",
      "sbatch: A full node consists of 32 CPU cores, 229376 MiB of memory and 0 GPUs and can be shared by up to 32 jobs.\n",
      "sbatch: By default shared jobs get 7168 MiB of memory per CPU core, unless explicitly overridden with --mem-per-cpu, --mem-per-gpu or --mem.\n",
      "sbatch: You will be charged for 1 CPUs, based on the number of CPUs and the amount memory that you've requested.\n"
     ]
    },
    {
     "name": "stdout",
     "output_type": "stream",
     "text": [
      "Submitted batch job 4144744\n"
     ]
    }
   ],
>>>>>>> 32a9d59dd8e808d26fbbd8cb90159fecc49f3687
   "source": [
    "name_job = f\"one_shot_{time_ns()}.sh\"\n",
    "name_job = \"fix\"\n",
    "\n",
    "run_launcher(\n",
    "    \"dropbox_downloader.py\",\n",
    "    [directory_targ, name_job, 20, \"hypha_identifier.py\"],\n",
    "    plates,\n",
    "    \"12:00:00\",\n",
    "    name_job=name_job,\n",
    "    dependency=True,\n",
    ")\n",
    "# run_launcher('dropbox_uploader.py',[directory_targ,name_job],plates,'40:00',dependency=True,name_job = name_job)"
   ]
  },
  {
   "cell_type": "code",
<<<<<<< HEAD
   "execution_count": null,
=======
   "execution_count": 4,
>>>>>>> 32a9d59dd8e808d26fbbd8cb90159fecc49f3687
   "id": "76d8e1b4-7141-4dc4-929b-16b83ccd5643",
   "metadata": {
    "tags": []
   },
<<<<<<< HEAD
   "outputs": [],
=======
   "outputs": [
    {
     "name": "stderr",
     "output_type": "stream",
     "text": [
      "sbatch: Single-node jobs run on a shared node by default. Add --exclusive if you want to use a node exclusively.\n",
      "sbatch: A full node consists of 32 CPU cores, 229376 MiB of memory and 0 GPUs and can be shared by up to 32 jobs.\n",
      "sbatch: By default shared jobs get 7168 MiB of memory per CPU core, unless explicitly overridden with --mem-per-cpu, --mem-per-gpu or --mem.\n",
      "sbatch: You will be charged for 0.03125 node, based on the number of CPUs, GPUs and the amount memory that you've requested.\n"
     ]
    },
    {
     "name": "stdout",
     "output_type": "stream",
     "text": [
      "Submitted batch job 3908513\n"
     ]
    }
   ],
>>>>>>> 32a9d59dd8e808d26fbbd8cb90159fecc49f3687
   "source": [
    "name_job = f\"one_shot_{time_ns()}.sh\"\n",
    "name_job = \"Vasilis\"\n",
    "\n",
    "run_launcher(\n",
    "    \"dropbox_downloader.py\",\n",
    "    [directory_targ, name_job, 20, \"skelet_realigner.py\"],\n",
    "    plates,\n",
    "    \"12:00:00\",\n",
    "    name_job=name_job,\n",
    "    dependency=True,\n",
    ")\n",
    "# run_launcher('dropbox_uploader.py',[directory_targ,name_job],plates,'40:00',dependency=True,name_job = name_job)"
   ]
  },
  {
   "cell_type": "code",
<<<<<<< HEAD
   "execution_count": null,
=======
   "execution_count": 14,
>>>>>>> 32a9d59dd8e808d26fbbd8cb90159fecc49f3687
   "id": "d267c73f-6c9a-4fe3-a448-fc70ef25401a",
   "metadata": {
    "tags": []
   },
<<<<<<< HEAD
   "outputs": [],
=======
   "outputs": [
    {
     "name": "stderr",
     "output_type": "stream",
     "text": [
      "sbatch: Single-node jobs run on a shared node by default. Add --exclusive if you want to use a node exclusively.\n",
      "sbatch: A full node consists of 32 CPU cores, 229376 MiB of memory and 0 GPUs and can be shared by up to 32 jobs.\n",
      "sbatch: By default shared jobs get 7168 MiB of memory per CPU core, unless explicitly overridden with --mem-per-cpu, --mem-per-gpu or --mem.\n",
      "sbatch: You will be charged for 1 CPUs, based on the number of CPUs and the amount memory that you've requested.\n"
     ]
    },
    {
     "name": "stdout",
     "output_type": "stream",
     "text": [
      "Submitted batch job 4469653\n"
     ]
    }
   ],
>>>>>>> 32a9d59dd8e808d26fbbd8cb90159fecc49f3687
   "source": [
    "name_job = \"test_fast\"\n",
    "run_launcher(\n",
    "    \"skeletonizer_fast.py\",\n",
    "    [directory_targ, name_job, -1],\n",
    "    plates,\n",
    "    \"24:00:00\",\n",
    "    dependency=True,\n",
    "    name_job=name_job,\n",
    ")"
   ]
  },
  {
   "cell_type": "code",
<<<<<<< HEAD
   "execution_count": null,
   "id": "2fc6efc4-112b-4e8c-bd74-391a8b90849e",
   "metadata": {
=======
   "execution_count": 19,
   "id": "2fc6efc4-112b-4e8c-bd74-391a8b90849e",
   "metadata": {
    "collapsed": true,
>>>>>>> 32a9d59dd8e808d26fbbd8cb90159fecc49f3687
    "jupyter": {
     "outputs_hidden": true
    },
    "tags": []
   },
<<<<<<< HEAD
   "outputs": [],
=======
   "outputs": [
    {
     "name": "stderr",
     "output_type": "stream",
     "text": [
      "sbatch: Single-node jobs run on a shared node by default. Add --exclusive if you want to use a node exclusively.\n",
      "sbatch: A full node consists of 32 CPU cores, 229376 MiB of memory and 0 GPUs and can be shared by up to 32 jobs.\n",
      "sbatch: By default shared jobs get 7168 MiB of memory per CPU core, unless explicitly overridden with --mem-per-cpu, --mem-per-gpu or --mem.\n",
      "sbatch: You will be charged for 1 CPUs, based on the number of CPUs and the amount memory that you've requested.\n"
     ]
    },
    {
     "name": "stdout",
     "output_type": "stream",
     "text": [
      "Submitted batch job 4506659\n"
     ]
    }
   ],
>>>>>>> 32a9d59dd8e808d26fbbd8cb90159fecc49f3687
   "source": [
    "name_job = \"304\"\n",
    "run_launcher(\n",
    "    \"realigner.py\",\n",
    "    [directory_targ, name_job, 20],\n",
    "    plates,\n",
    "    \"24:00:00\",\n",
    "    dependency=True,\n",
    "    name_job=name_job,\n",
    ")"
   ]
  },
  {
   "cell_type": "code",
<<<<<<< HEAD
   "execution_count": null,
   "id": "1bfa768c-89ce-4497-ad30-f9e8b11b2d4e",
   "metadata": {
=======
   "execution_count": 7,
   "id": "1bfa768c-89ce-4497-ad30-f9e8b11b2d4e",
   "metadata": {
    "collapsed": true,
>>>>>>> 32a9d59dd8e808d26fbbd8cb90159fecc49f3687
    "jupyter": {
     "outputs_hidden": true
    },
    "tags": []
   },
<<<<<<< HEAD
   "outputs": [],
=======
   "outputs": [
    {
     "data": {
      "text/plain": [
       "['478_20230814',\n",
       " '468_20230809',\n",
       " '447_20230821',\n",
       " '487_20230922',\n",
       " '492_20230901',\n",
       " '471_20230821',\n",
       " '486_20231009',\n",
       " '494_20230908',\n",
       " '482_20230908',\n",
       " '495_20231013',\n",
       " '463_20231013',\n",
       " '491_20231013',\n",
       " '481_20231005',\n",
       " '483_20231005',\n",
       " '490_20231003',\n",
       " '485_20230929',\n",
       " '310_20230830']"
      ]
     },
     "execution_count": 7,
     "metadata": {},
     "output_type": "execute_result"
    }
   ],
>>>>>>> 32a9d59dd8e808d26fbbd8cb90159fecc49f3687
   "source": [
    "plates"
   ]
  },
  {
   "cell_type": "code",
<<<<<<< HEAD
   "execution_count": null,
   "id": "c9d10c60-0456-4119-ba3e-9e434525100f",
   "metadata": {},
   "outputs": [],
=======
   "execution_count": 4,
   "id": "c9d10c60-0456-4119-ba3e-9e434525100f",
   "metadata": {},
   "outputs": [
    {
     "name": "stderr",
     "output_type": "stream",
     "text": [
      "sbatch: Single-node jobs run on a shared node by default. Add --exclusive if you want to use a node exclusively.\n",
      "sbatch: A full node consists of 32 CPU cores, 229376 MiB of memory and 0 GPUs and can be shared by up to 32 jobs.\n",
      "sbatch: By default shared jobs get 7168 MiB of memory per CPU core, unless explicitly overridden with --mem-per-cpu, --mem-per-gpu or --mem.\n",
      "sbatch: You will be charged for 1 CPUs, based on the number of CPUs and the amount memory that you've requested.\n"
     ]
    },
    {
     "name": "stdout",
     "output_type": "stream",
     "text": [
      "Submitted batch job 4482177\n"
     ]
    }
   ],
>>>>>>> 32a9d59dd8e808d26fbbd8cb90159fecc49f3687
   "source": [
    "name_job = \"upload\"\n",
    "run_launcher(\n",
    "    \"analysis_uploader_no_upload.py\",\n",
    "    [directory_targ, name_job, 1],\n",
    "    plates,\n",
    "    \"6:00:00\",\n",
    "    dependency=True,\n",
    "    name_job=name_job,\n",
    ")"
   ]
  },
  {
   "cell_type": "code",
<<<<<<< HEAD
   "execution_count": null,
   "id": "638a0477-4b67-444c-a63b-df2170958589",
   "metadata": {},
   "outputs": [],
=======
   "execution_count": 8,
   "id": "638a0477-4b67-444c-a63b-df2170958589",
   "metadata": {},
   "outputs": [
    {
     "data": {
      "text/plain": [
       "258"
      ]
     },
     "execution_count": 8,
     "metadata": {},
     "output_type": "execute_result"
    }
   ],
>>>>>>> 32a9d59dd8e808d26fbbd8cb90159fecc49f3687
   "source": [
    "folders = all_folders.loc[all_folders[\"unique_id\"].isin(plates)]\n",
    "len(folders)"
   ]
  },
  {
   "cell_type": "code",
<<<<<<< HEAD
   "execution_count": null,
=======
   "execution_count": 6,
>>>>>>> 32a9d59dd8e808d26fbbd8cb90159fecc49f3687
   "id": "0dcd3a3e-0851-449c-8dbf-124d65c47124",
   "metadata": {
    "tags": []
   },
   "outputs": [],
   "source": [
    "update_analysis_info(directory_targ)\n",
    "analysis_info = get_analysis_info(directory_targ)\n",
    "analysis_folders = analysis_info.loc[analysis_info[\"unique_id\"].isin(plates)]"
   ]
  },
  {
   "cell_type": "code",
<<<<<<< HEAD
   "execution_count": null,
   "id": "f598f7d8-9648-4af1-83c4-5c85a21c95cf",
   "metadata": {},
   "outputs": [],
=======
   "execution_count": 7,
   "id": "f598f7d8-9648-4af1-83c4-5c85a21c95cf",
   "metadata": {},
   "outputs": [
    {
     "data": {
      "text/html": [
       "<div>\n",
       "<style scoped>\n",
       "    .dataframe tbody tr th:only-of-type {\n",
       "        vertical-align: middle;\n",
       "    }\n",
       "\n",
       "    .dataframe tbody tr th {\n",
       "        vertical-align: top;\n",
       "    }\n",
       "\n",
       "    .dataframe thead th {\n",
       "        text-align: right;\n",
       "    }\n",
       "</style>\n",
       "<table border=\"1\" class=\"dataframe\">\n",
       "  <thead>\n",
       "    <tr style=\"text-align: right;\">\n",
       "      <th></th>\n",
       "      <th>folder_analysis</th>\n",
       "      <th>version</th>\n",
       "      <th>total_path</th>\n",
       "      <th>Plate</th>\n",
       "      <th>strain</th>\n",
       "      <th>medium</th>\n",
       "      <th>CrossDate</th>\n",
       "      <th>date</th>\n",
       "      <th>unique_id</th>\n",
       "      <th>datetime</th>\n",
       "      <th>...</th>\n",
       "      <th>path_time_hypha_info</th>\n",
       "      <th>path_time_plate_info</th>\n",
       "      <th>path_global_plate_info</th>\n",
       "      <th>date_run_analysis</th>\n",
       "      <th>PrincePos</th>\n",
       "      <th>root</th>\n",
       "      <th>split</th>\n",
       "      <th>Pbait</th>\n",
       "      <th>Temperature</th>\n",
       "      <th>Temp</th>\n",
       "    </tr>\n",
       "  </thead>\n",
       "  <tbody>\n",
       "    <tr>\n",
       "      <th>89</th>\n",
       "      <td>Analysis_28_20230227_200_Version1</td>\n",
       "      <td>Version1</td>\n",
       "      <td>/projects/0/einf914/data/20230227_1704_Plate06</td>\n",
       "      <td>28</td>\n",
       "      <td>'Clarum'</td>\n",
       "      <td>'001P100N100C'</td>\n",
       "      <td>20230227</td>\n",
       "      <td>27.02.2023, 17:04:</td>\n",
       "      <td>28_20230227</td>\n",
       "      <td>2023-02-27 17:04:00</td>\n",
       "      <td>...</td>\n",
       "      <td>Analysis_28_20230227_200_Version1/time_hypha_info</td>\n",
       "      <td>Analysis_28_20230227_200_Version1/time_plate_i...</td>\n",
       "      <td>Analysis_28_20230227_200_Version1/global_plate...</td>\n",
       "      <td>01.01.1970, 01:00:</td>\n",
       "      <td>6</td>\n",
       "      <td>'Carrot'</td>\n",
       "      <td>'Y'</td>\n",
       "      <td>'-'</td>\n",
       "      <td>25</td>\n",
       "      <td>nan</td>\n",
       "    </tr>\n",
       "    <tr>\n",
       "      <th>140</th>\n",
       "      <td>Analysis_219_20230307_200_Version1</td>\n",
       "      <td>Version1</td>\n",
       "      <td>/projects/0/einf914/data/20230307_1522_Plate11</td>\n",
       "      <td>219</td>\n",
       "      <td>'C3'</td>\n",
       "      <td>'001P100N100C'</td>\n",
       "      <td>20230307</td>\n",
       "      <td>07.03.2023, 15:22:</td>\n",
       "      <td>219_20230307</td>\n",
       "      <td>2023-03-07 15:22:00</td>\n",
       "      <td>...</td>\n",
       "      <td>Analysis_219_20230307_200_Version1/time_hypha_...</td>\n",
       "      <td>Analysis_219_20230307_200_Version1/time_plate_...</td>\n",
       "      <td>Analysis_219_20230307_200_Version1/global_plat...</td>\n",
       "      <td>01.01.1970, 01:00:</td>\n",
       "      <td>11</td>\n",
       "      <td>'Carrot'</td>\n",
       "      <td>'Y'</td>\n",
       "      <td>'-'</td>\n",
       "      <td>25</td>\n",
       "      <td>nan</td>\n",
       "    </tr>\n",
       "  </tbody>\n",
       "</table>\n",
       "<p>2 rows × 25 columns</p>\n",
       "</div>"
      ],
      "text/plain": [
       "                        folder_analysis   version  \\\n",
       "89    Analysis_28_20230227_200_Version1  Version1   \n",
       "140  Analysis_219_20230307_200_Version1  Version1   \n",
       "\n",
       "                                         total_path Plate    strain  \\\n",
       "89   /projects/0/einf914/data/20230227_1704_Plate06    28  'Clarum'   \n",
       "140  /projects/0/einf914/data/20230307_1522_Plate11   219      'C3'   \n",
       "\n",
       "             medium CrossDate                date     unique_id  \\\n",
       "89   '001P100N100C'  20230227  27.02.2023, 17:04:   28_20230227   \n",
       "140  '001P100N100C'  20230307  07.03.2023, 15:22:  219_20230307   \n",
       "\n",
       "                datetime  ...  \\\n",
       "89   2023-02-27 17:04:00  ...   \n",
       "140  2023-03-07 15:22:00  ...   \n",
       "\n",
       "                                  path_time_hypha_info  \\\n",
       "89   Analysis_28_20230227_200_Version1/time_hypha_info   \n",
       "140  Analysis_219_20230307_200_Version1/time_hypha_...   \n",
       "\n",
       "                                  path_time_plate_info  \\\n",
       "89   Analysis_28_20230227_200_Version1/time_plate_i...   \n",
       "140  Analysis_219_20230307_200_Version1/time_plate_...   \n",
       "\n",
       "                                path_global_plate_info   date_run_analysis  \\\n",
       "89   Analysis_28_20230227_200_Version1/global_plate...  01.01.1970, 01:00:   \n",
       "140  Analysis_219_20230307_200_Version1/global_plat...  01.01.1970, 01:00:   \n",
       "\n",
       "    PrincePos      root split Pbait Temperature Temp  \n",
       "89          6  'Carrot'   'Y'   '-'          25  nan  \n",
       "140        11  'Carrot'   'Y'   '-'          25  nan  \n",
       "\n",
       "[2 rows x 25 columns]"
      ]
     },
     "execution_count": 7,
     "metadata": {},
     "output_type": "execute_result"
    }
   ],
>>>>>>> 32a9d59dd8e808d26fbbd8cb90159fecc49f3687
   "source": [
    "analysis_folders"
   ]
  },
  {
   "cell_type": "code",
<<<<<<< HEAD
   "execution_count": null,
   "id": "bdaca24f-5eed-4fe0-9edc-fb6803232fe2",
   "metadata": {
=======
   "execution_count": 7,
   "id": "bdaca24f-5eed-4fe0-9edc-fb6803232fe2",
   "metadata": {
    "collapsed": true,
>>>>>>> 32a9d59dd8e808d26fbbd8cb90159fecc49f3687
    "jupyter": {
     "outputs_hidden": true
    },
    "tags": []
   },
<<<<<<< HEAD
   "outputs": [],
=======
   "outputs": [
    {
     "name": "stderr",
     "output_type": "stream",
     "text": [
      "sbatch: Single-node jobs run on a shared node by default. Add --exclusive if you want to use a node exclusively.\n",
      "sbatch: A full node consists of 128 CPU cores, 983040 MiB of memory and 0 GPUs and can be shared by up to 4 jobs.\n",
      "sbatch: By default shared jobs get 7680 MiB of memory per CPU core, unless explicitly overridden with --mem-per-cpu, --mem-per-gpu or --mem.\n",
      "sbatch: You will be charged for 1.0 node, based on the number of CPUs, GPUs and the amount memory that you've requested.\n"
     ]
    },
    {
     "name": "stdout",
     "output_type": "stream",
     "text": [
      "Submitted batch job 2880366\n"
     ]
    },
    {
     "name": "stderr",
     "output_type": "stream",
     "text": [
      "sbatch: Single-node jobs run on a shared node by default. Add --exclusive if you want to use a node exclusively.\n",
      "sbatch: A full node consists of 128 CPU cores, 983040 MiB of memory and 0 GPUs and can be shared by up to 4 jobs.\n",
      "sbatch: By default shared jobs get 7680 MiB of memory per CPU core, unless explicitly overridden with --mem-per-cpu, --mem-per-gpu or --mem.\n",
      "sbatch: You will be charged for 1.0 node, based on the number of CPUs, GPUs and the amount memory that you've requested.\n"
     ]
    },
    {
     "name": "stdout",
     "output_type": "stream",
     "text": [
      "Submitted batch job 2880367\n"
     ]
    },
    {
     "name": "stderr",
     "output_type": "stream",
     "text": [
      "sbatch: Single-node jobs run on a shared node by default. Add --exclusive if you want to use a node exclusively.\n",
      "sbatch: A full node consists of 128 CPU cores, 983040 MiB of memory and 0 GPUs and can be shared by up to 4 jobs.\n",
      "sbatch: By default shared jobs get 7680 MiB of memory per CPU core, unless explicitly overridden with --mem-per-cpu, --mem-per-gpu or --mem.\n",
      "sbatch: You will be charged for 1.0 node, based on the number of CPUs, GPUs and the amount memory that you've requested.\n"
     ]
    },
    {
     "name": "stdout",
     "output_type": "stream",
     "text": [
      "Submitted batch job 2880368\n"
     ]
    },
    {
     "name": "stderr",
     "output_type": "stream",
     "text": [
      "sbatch: Single-node jobs run on a shared node by default. Add --exclusive if you want to use a node exclusively.\n",
      "sbatch: A full node consists of 128 CPU cores, 983040 MiB of memory and 0 GPUs and can be shared by up to 4 jobs.\n",
      "sbatch: By default shared jobs get 7680 MiB of memory per CPU core, unless explicitly overridden with --mem-per-cpu, --mem-per-gpu or --mem.\n",
      "sbatch: You will be charged for 1.0 node, based on the number of CPUs, GPUs and the amount memory that you've requested.\n"
     ]
    },
    {
     "name": "stdout",
     "output_type": "stream",
     "text": [
      "Submitted batch job 2880369\n"
     ]
    },
    {
     "name": "stderr",
     "output_type": "stream",
     "text": [
      "sbatch: Single-node jobs run on a shared node by default. Add --exclusive if you want to use a node exclusively.\n",
      "sbatch: A full node consists of 128 CPU cores, 983040 MiB of memory and 0 GPUs and can be shared by up to 4 jobs.\n",
      "sbatch: By default shared jobs get 7680 MiB of memory per CPU core, unless explicitly overridden with --mem-per-cpu, --mem-per-gpu or --mem.\n",
      "sbatch: You will be charged for 1.0 node, based on the number of CPUs, GPUs and the amount memory that you've requested.\n"
     ]
    },
    {
     "name": "stdout",
     "output_type": "stream",
     "text": [
      "Submitted batch job 2880370\n"
     ]
    },
    {
     "name": "stderr",
     "output_type": "stream",
     "text": [
      "sbatch: Single-node jobs run on a shared node by default. Add --exclusive if you want to use a node exclusively.\n",
      "sbatch: A full node consists of 128 CPU cores, 983040 MiB of memory and 0 GPUs and can be shared by up to 4 jobs.\n",
      "sbatch: By default shared jobs get 7680 MiB of memory per CPU core, unless explicitly overridden with --mem-per-cpu, --mem-per-gpu or --mem.\n",
      "sbatch: You will be charged for 1.0 node, based on the number of CPUs, GPUs and the amount memory that you've requested.\n"
     ]
    },
    {
     "name": "stdout",
     "output_type": "stream",
     "text": [
      "Submitted batch job 2880371\n"
     ]
    },
    {
     "name": "stderr",
     "output_type": "stream",
     "text": [
      "sbatch: Single-node jobs run on a shared node by default. Add --exclusive if you want to use a node exclusively.\n",
      "sbatch: A full node consists of 128 CPU cores, 983040 MiB of memory and 0 GPUs and can be shared by up to 4 jobs.\n",
      "sbatch: By default shared jobs get 7680 MiB of memory per CPU core, unless explicitly overridden with --mem-per-cpu, --mem-per-gpu or --mem.\n",
      "sbatch: You will be charged for 1.0 node, based on the number of CPUs, GPUs and the amount memory that you've requested.\n"
     ]
    },
    {
     "name": "stdout",
     "output_type": "stream",
     "text": [
      "Submitted batch job 2880372\n"
     ]
    },
    {
     "name": "stderr",
     "output_type": "stream",
     "text": [
      "sbatch: Single-node jobs run on a shared node by default. Add --exclusive if you want to use a node exclusively.\n",
      "sbatch: A full node consists of 128 CPU cores, 983040 MiB of memory and 0 GPUs and can be shared by up to 4 jobs.\n",
      "sbatch: By default shared jobs get 7680 MiB of memory per CPU core, unless explicitly overridden with --mem-per-cpu, --mem-per-gpu or --mem.\n",
      "sbatch: You will be charged for 1.0 node, based on the number of CPUs, GPUs and the amount memory that you've requested.\n"
     ]
    },
    {
     "name": "stdout",
     "output_type": "stream",
     "text": [
      "Submitted batch job 2880373\n",
      "Submitted batch job 2880374\n"
     ]
    },
    {
     "name": "stderr",
     "output_type": "stream",
     "text": [
      "sbatch: Single-node jobs run on a shared node by default. Add --exclusive if you want to use a node exclusively.\n",
      "sbatch: A full node consists of 128 CPU cores, 983040 MiB of memory and 0 GPUs and can be shared by up to 4 jobs.\n",
      "sbatch: By default shared jobs get 7680 MiB of memory per CPU core, unless explicitly overridden with --mem-per-cpu, --mem-per-gpu or --mem.\n",
      "sbatch: You will be charged for 1.0 node, based on the number of CPUs, GPUs and the amount memory that you've requested.\n",
      "sbatch: Single-node jobs run on a shared node by default. Add --exclusive if you want to use a node exclusively.\n",
      "sbatch: A full node consists of 128 CPU cores, 983040 MiB of memory and 0 GPUs and can be shared by up to 4 jobs.\n",
      "sbatch: By default shared jobs get 7680 MiB of memory per CPU core, unless explicitly overridden with --mem-per-cpu, --mem-per-gpu or --mem.\n",
      "sbatch: You will be charged for 1.0 node, based on the number of CPUs, GPUs and the amount memory that you've requested.\n"
     ]
    },
    {
     "name": "stdout",
     "output_type": "stream",
     "text": [
      "Submitted batch job 2880375\n"
     ]
    }
   ],
>>>>>>> 32a9d59dd8e808d26fbbd8cb90159fecc49f3687
   "source": [
    "name_job = \"agg_clarum\"\n",
    "folders = folders.loc[folders[\"/Img/TileConfiguration.txt.registered\"] == True]\n",
    "num_parallel = 100\n",
    "time = \"6:00:00\"\n",
    "hyph_width = 30\n",
    "perc_low = 85\n",
    "perc_high = 99.5\n",
    "minlow = 10\n",
    "minhigh = 70\n",
    "\n",
    "args = [hyph_width, perc_low, perc_high, minlow, minhigh, directory_targ]\n",
    "run_parallel(\n",
    "    \"extract_skel_2.py\",\n",
    "    args,\n",
    "    folders,\n",
    "    num_parallel,\n",
    "    time,\n",
    "    \"skeletonization\",\n",
    "    cpus=128,\n",
    "    node=\"fat\",\n",
    "    name_job=name_job,\n",
    ")"
   ]
  },
  {
   "cell_type": "code",
<<<<<<< HEAD
   "execution_count": null,
   "id": "2c9ce086-223f-475c-86fb-f8ec89f323d1",
   "metadata": {},
   "outputs": [],
=======
   "execution_count": 5,
   "id": "2c9ce086-223f-475c-86fb-f8ec89f323d1",
   "metadata": {},
   "outputs": [
    {
     "name": "stdout",
     "output_type": "stream",
     "text": [
      "344\n",
      "300\n"
     ]
    }
   ],
>>>>>>> 32a9d59dd8e808d26fbbd8cb90159fecc49f3687
   "source": [
    "folders = all_folders.loc[all_folders[\"unique_id\"].isin(plates)]\n",
    "print(len(folders))\n",
    "folders = folders.loc[folders[\"/Analysis/nx_graph_pruned_labeled.p\"] == True]\n",
    "print(len(folders))"
   ]
  },
  {
   "cell_type": "code",
<<<<<<< HEAD
   "execution_count": null,
=======
   "execution_count": 38,
>>>>>>> 32a9d59dd8e808d26fbbd8cb90159fecc49f3687
   "id": "6342ba2e-ffbb-469e-bab7-22cf72610f79",
   "metadata": {
    "tags": []
   },
<<<<<<< HEAD
   "outputs": [],
=======
   "outputs": [
    {
     "name": "stdout",
     "output_type": "stream",
     "text": [
      "3_20220426 187 286 20220426_1859_Plate16 20220426_1357_Plate16\n",
      "12_20220502 178 256 20220502_2329_Plate13 20220502_2128_Plate13\n",
      "13_20220422 93 269 20220507_1235_Plate18 20220422_1514_Plate18\n",
      "16_20220419 113 268 20220419_2029_Plate10 20220419_1816_Plate10\n",
      "21_20220502 167 209 20220502_1912_Plate04 20220502_1712_Plate04\n",
      "480_20221205 342 395 20221205_1912_Plate15 20221205_1712_Plate15\n",
      "28_20230227 126 169 20230227_1704_Plate06 20230227_1504_Plate06\n",
      "206_20230303 198 199 20230303_1923_Plate10 20230303_1723_Plate10\n",
      "202_20230314 237 261 20230314_1801_Plate07 20230314_1608_Plate07\n",
      "218_20230227 155 184 20230227_1707_Plate07 20230227_1507_Plate07\n",
      "219_20230307 91 120 20230307_1522_Plate11 20230307_1322_Plate11\n",
      "229_20230330 235 236 20230330_1553_Plate12 20230330_1352_Plate12\n"
     ]
    }
   ],
>>>>>>> 32a9d59dd8e808d26fbbd8cb90159fecc49f3687
   "source": [
    "for plate in plates:\n",
    "    folders = all_folders.loc[all_folders[\"unique_id\"] == plate]\n",
    "    folders1 = folders.loc[folders[\"/Analysis/nx_graph_pruned_labeled.p\"] == True]\n",
    "    folders2 = folders.loc[folders[\"/Analysis/skeleton_compressed.mat\"] == True]\n",
    "    print(\n",
    "        plate,\n",
    "        len(folders1),\n",
    "        len(folders2),\n",
    "        folders1[\"folder\"].sort_values().iloc[0],\n",
    "        folders2[\"folder\"].sort_values().iloc[0],\n",
    "    )\n",
    "    # if plate == '13_20220422':\n",
    "    #     break"
   ]
  },
  {
   "cell_type": "code",
<<<<<<< HEAD
   "execution_count": null,
   "id": "1e2c1213-6d85-4cac-859d-84748ba0f661",
   "metadata": {},
   "outputs": [],
=======
   "execution_count": 36,
   "id": "1e2c1213-6d85-4cac-859d-84748ba0f661",
   "metadata": {},
   "outputs": [
    {
     "data": {
      "text/plain": [
       "(965     20220507_1235_Plate18\n",
       " 1245    20220507_1435_Plate18\n",
       " 292     20220507_1635_Plate18\n",
       " 19      20220507_1835_Plate18\n",
       " 1792    20220507_2035_Plate18\n",
       "                 ...          \n",
       " 1623    20220611_0035_Plate34\n",
       " 1530    20220611_1235_Plate34\n",
       " 879     20220612_0035_Plate34\n",
       " 416     20220612_1235_Plate34\n",
       " 375     20220613_0035_Plate34\n",
       " Name: folder, Length: 93, dtype: object,\n",
       " 5       20220607_2252_Plate34\n",
       " 7       20220505_0143_Plate18\n",
       " 8       20220430_1331_Plate18\n",
       " 16      20220427_2107_Plate18\n",
       " 19      20220507_1835_Plate18\n",
       "                 ...          \n",
       " 3402    20220518_0225_Plate34\n",
       " 3423    20220508_1235_Plate18\n",
       " 3433    20220526_0909_Plate34\n",
       " 3471    20220430_1531_Plate18\n",
       " 3519    20220504_1941_Plate18\n",
       " Name: folder, Length: 269, dtype: object)"
      ]
     },
     "execution_count": 36,
     "metadata": {},
     "output_type": "execute_result"
    }
   ],
>>>>>>> 32a9d59dd8e808d26fbbd8cb90159fecc49f3687
   "source": [
    "folders1[\"folder\"].sort_values(), folders2[\"folder\"]"
   ]
  },
  {
   "cell_type": "code",
<<<<<<< HEAD
   "execution_count": null,
=======
   "execution_count": 5,
>>>>>>> 32a9d59dd8e808d26fbbd8cb90159fecc49f3687
   "id": "78c307f0-b57d-454a-9f9a-29b11118332f",
   "metadata": {},
   "outputs": [],
   "source": [
    "folders = all_folders"
   ]
  },
  {
   "cell_type": "code",
<<<<<<< HEAD
   "execution_count": null,
=======
   "execution_count": 6,
>>>>>>> 32a9d59dd8e808d26fbbd8cb90159fecc49f3687
   "id": "4f2220bf-6085-4b02-9564-dc097162802a",
   "metadata": {
    "tags": []
   },
<<<<<<< HEAD
   "outputs": [],
=======
   "outputs": [
    {
     "name": "stderr",
     "output_type": "stream",
     "text": [
      "sbatch: Single-node jobs run on a shared node by default. Add --exclusive if you want to use a node exclusively.\n",
      "sbatch: A full node consists of 32 CPU cores, 229376 MiB of memory and 0 GPUs and can be shared by up to 32 jobs.\n",
      "sbatch: By default shared jobs get 7168 MiB of memory per CPU core, unless explicitly overridden with --mem-per-cpu, --mem-per-gpu or --mem.\n",
      "sbatch: You will be charged for 1 CPUs, based on the number of CPUs and the amount memory that you've requested.\n"
     ]
    },
    {
     "name": "stdout",
     "output_type": "stream",
     "text": [
      "Submitted batch job 4651615\n"
     ]
    },
    {
     "name": "stderr",
     "output_type": "stream",
     "text": [
      "sbatch: Single-node jobs run on a shared node by default. Add --exclusive if you want to use a node exclusively.\n",
      "sbatch: A full node consists of 32 CPU cores, 229376 MiB of memory and 0 GPUs and can be shared by up to 32 jobs.\n",
      "sbatch: By default shared jobs get 7168 MiB of memory per CPU core, unless explicitly overridden with --mem-per-cpu, --mem-per-gpu or --mem.\n",
      "sbatch: You will be charged for 1 CPUs, based on the number of CPUs and the amount memory that you've requested.\n"
     ]
    },
    {
     "name": "stdout",
     "output_type": "stream",
     "text": [
      "Submitted batch job 4651616\n"
     ]
    },
    {
     "name": "stderr",
     "output_type": "stream",
     "text": [
      "sbatch: Single-node jobs run on a shared node by default. Add --exclusive if you want to use a node exclusively.\n",
      "sbatch: A full node consists of 32 CPU cores, 229376 MiB of memory and 0 GPUs and can be shared by up to 32 jobs.\n",
      "sbatch: By default shared jobs get 7168 MiB of memory per CPU core, unless explicitly overridden with --mem-per-cpu, --mem-per-gpu or --mem.\n",
      "sbatch: You will be charged for 1 CPUs, based on the number of CPUs and the amount memory that you've requested.\n"
     ]
    },
    {
     "name": "stdout",
     "output_type": "stream",
     "text": [
      "Submitted batch job 4651618\n"
     ]
    },
    {
     "name": "stderr",
     "output_type": "stream",
     "text": [
      "sbatch: Single-node jobs run on a shared node by default. Add --exclusive if you want to use a node exclusively.\n",
      "sbatch: A full node consists of 32 CPU cores, 229376 MiB of memory and 0 GPUs and can be shared by up to 32 jobs.\n",
      "sbatch: By default shared jobs get 7168 MiB of memory per CPU core, unless explicitly overridden with --mem-per-cpu, --mem-per-gpu or --mem.\n",
      "sbatch: You will be charged for 1 CPUs, based on the number of CPUs and the amount memory that you've requested.\n"
     ]
    },
    {
     "name": "stdout",
     "output_type": "stream",
     "text": [
      "Submitted batch job 4651619\n"
     ]
    },
    {
     "name": "stderr",
     "output_type": "stream",
     "text": [
      "sbatch: Single-node jobs run on a shared node by default. Add --exclusive if you want to use a node exclusively.\n",
      "sbatch: A full node consists of 32 CPU cores, 229376 MiB of memory and 0 GPUs and can be shared by up to 32 jobs.\n",
      "sbatch: By default shared jobs get 7168 MiB of memory per CPU core, unless explicitly overridden with --mem-per-cpu, --mem-per-gpu or --mem.\n",
      "sbatch: You will be charged for 1 CPUs, based on the number of CPUs and the amount memory that you've requested.\n"
     ]
    },
    {
     "name": "stdout",
     "output_type": "stream",
     "text": [
      "Submitted batch job 4651620\n"
     ]
    },
    {
     "name": "stderr",
     "output_type": "stream",
     "text": [
      "sbatch: Single-node jobs run on a shared node by default. Add --exclusive if you want to use a node exclusively.\n",
      "sbatch: A full node consists of 32 CPU cores, 229376 MiB of memory and 0 GPUs and can be shared by up to 32 jobs.\n",
      "sbatch: By default shared jobs get 7168 MiB of memory per CPU core, unless explicitly overridden with --mem-per-cpu, --mem-per-gpu or --mem.\n",
      "sbatch: You will be charged for 1 CPUs, based on the number of CPUs and the amount memory that you've requested.\n"
     ]
    },
    {
     "name": "stdout",
     "output_type": "stream",
     "text": [
      "Submitted batch job 4651621\n"
     ]
    },
    {
     "name": "stderr",
     "output_type": "stream",
     "text": [
      "sbatch: Single-node jobs run on a shared node by default. Add --exclusive if you want to use a node exclusively.\n",
      "sbatch: A full node consists of 32 CPU cores, 229376 MiB of memory and 0 GPUs and can be shared by up to 32 jobs.\n",
      "sbatch: By default shared jobs get 7168 MiB of memory per CPU core, unless explicitly overridden with --mem-per-cpu, --mem-per-gpu or --mem.\n",
      "sbatch: You will be charged for 1 CPUs, based on the number of CPUs and the amount memory that you've requested.\n"
     ]
    },
    {
     "name": "stdout",
     "output_type": "stream",
     "text": [
      "Submitted batch job 4651622\n"
     ]
    },
    {
     "name": "stderr",
     "output_type": "stream",
     "text": [
      "sbatch: Single-node jobs run on a shared node by default. Add --exclusive if you want to use a node exclusively.\n",
      "sbatch: A full node consists of 32 CPU cores, 229376 MiB of memory and 0 GPUs and can be shared by up to 32 jobs.\n",
      "sbatch: By default shared jobs get 7168 MiB of memory per CPU core, unless explicitly overridden with --mem-per-cpu, --mem-per-gpu or --mem.\n",
      "sbatch: You will be charged for 1 CPUs, based on the number of CPUs and the amount memory that you've requested.\n"
     ]
    },
    {
     "name": "stdout",
     "output_type": "stream",
     "text": [
      "Submitted batch job 4651623\n"
     ]
    },
    {
     "name": "stderr",
     "output_type": "stream",
     "text": [
      "sbatch: Single-node jobs run on a shared node by default. Add --exclusive if you want to use a node exclusively.\n",
      "sbatch: A full node consists of 32 CPU cores, 229376 MiB of memory and 0 GPUs and can be shared by up to 32 jobs.\n",
      "sbatch: By default shared jobs get 7168 MiB of memory per CPU core, unless explicitly overridden with --mem-per-cpu, --mem-per-gpu or --mem.\n",
      "sbatch: You will be charged for 1 CPUs, based on the number of CPUs and the amount memory that you've requested.\n"
     ]
    },
    {
     "name": "stdout",
     "output_type": "stream",
     "text": [
      "Submitted batch job 4651624\n"
     ]
    },
    {
     "name": "stderr",
     "output_type": "stream",
     "text": [
      "sbatch: Single-node jobs run on a shared node by default. Add --exclusive if you want to use a node exclusively.\n",
      "sbatch: A full node consists of 32 CPU cores, 229376 MiB of memory and 0 GPUs and can be shared by up to 32 jobs.\n",
      "sbatch: By default shared jobs get 7168 MiB of memory per CPU core, unless explicitly overridden with --mem-per-cpu, --mem-per-gpu or --mem.\n",
      "sbatch: You will be charged for 1 CPUs, based on the number of CPUs and the amount memory that you've requested.\n"
     ]
    },
    {
     "name": "stdout",
     "output_type": "stream",
     "text": [
      "Submitted batch job 4651625\n"
     ]
    },
    {
     "name": "stderr",
     "output_type": "stream",
     "text": [
      "sbatch: Single-node jobs run on a shared node by default. Add --exclusive if you want to use a node exclusively.\n",
      "sbatch: A full node consists of 32 CPU cores, 229376 MiB of memory and 0 GPUs and can be shared by up to 32 jobs.\n",
      "sbatch: By default shared jobs get 7168 MiB of memory per CPU core, unless explicitly overridden with --mem-per-cpu, --mem-per-gpu or --mem.\n",
      "sbatch: You will be charged for 1 CPUs, based on the number of CPUs and the amount memory that you've requested.\n"
     ]
    },
    {
     "name": "stdout",
     "output_type": "stream",
     "text": [
      "Submitted batch job 4651626\n"
     ]
    },
    {
     "name": "stderr",
     "output_type": "stream",
     "text": [
      "sbatch: Single-node jobs run on a shared node by default. Add --exclusive if you want to use a node exclusively.\n",
      "sbatch: A full node consists of 32 CPU cores, 229376 MiB of memory and 0 GPUs and can be shared by up to 32 jobs.\n",
      "sbatch: By default shared jobs get 7168 MiB of memory per CPU core, unless explicitly overridden with --mem-per-cpu, --mem-per-gpu or --mem.\n",
      "sbatch: You will be charged for 1 CPUs, based on the number of CPUs and the amount memory that you've requested.\n"
     ]
    },
    {
     "name": "stdout",
     "output_type": "stream",
     "text": [
      "Submitted batch job 4651627\n"
     ]
    },
    {
     "name": "stderr",
     "output_type": "stream",
     "text": [
      "sbatch: Single-node jobs run on a shared node by default. Add --exclusive if you want to use a node exclusively.\n",
      "sbatch: A full node consists of 32 CPU cores, 229376 MiB of memory and 0 GPUs and can be shared by up to 32 jobs.\n",
      "sbatch: By default shared jobs get 7168 MiB of memory per CPU core, unless explicitly overridden with --mem-per-cpu, --mem-per-gpu or --mem.\n",
      "sbatch: You will be charged for 1 CPUs, based on the number of CPUs and the amount memory that you've requested.\n"
     ]
    },
    {
     "name": "stdout",
     "output_type": "stream",
     "text": [
      "Submitted batch job 4651628\n"
     ]
    },
    {
     "name": "stderr",
     "output_type": "stream",
     "text": [
      "sbatch: Single-node jobs run on a shared node by default. Add --exclusive if you want to use a node exclusively.\n",
      "sbatch: A full node consists of 32 CPU cores, 229376 MiB of memory and 0 GPUs and can be shared by up to 32 jobs.\n",
      "sbatch: By default shared jobs get 7168 MiB of memory per CPU core, unless explicitly overridden with --mem-per-cpu, --mem-per-gpu or --mem.\n",
      "sbatch: You will be charged for 1 CPUs, based on the number of CPUs and the amount memory that you've requested.\n"
     ]
    },
    {
     "name": "stdout",
     "output_type": "stream",
     "text": [
      "Submitted batch job 4651629\n"
     ]
    },
    {
     "name": "stderr",
     "output_type": "stream",
     "text": [
      "sbatch: Single-node jobs run on a shared node by default. Add --exclusive if you want to use a node exclusively.\n",
      "sbatch: A full node consists of 32 CPU cores, 229376 MiB of memory and 0 GPUs and can be shared by up to 32 jobs.\n",
      "sbatch: By default shared jobs get 7168 MiB of memory per CPU core, unless explicitly overridden with --mem-per-cpu, --mem-per-gpu or --mem.\n",
      "sbatch: You will be charged for 1 CPUs, based on the number of CPUs and the amount memory that you've requested.\n"
     ]
    },
    {
     "name": "stdout",
     "output_type": "stream",
     "text": [
      "Submitted batch job 4651630\n"
     ]
    },
    {
     "name": "stderr",
     "output_type": "stream",
     "text": [
      "sbatch: Single-node jobs run on a shared node by default. Add --exclusive if you want to use a node exclusively.\n",
      "sbatch: A full node consists of 32 CPU cores, 229376 MiB of memory and 0 GPUs and can be shared by up to 32 jobs.\n",
      "sbatch: By default shared jobs get 7168 MiB of memory per CPU core, unless explicitly overridden with --mem-per-cpu, --mem-per-gpu or --mem.\n",
      "sbatch: You will be charged for 1 CPUs, based on the number of CPUs and the amount memory that you've requested.\n"
     ]
    },
    {
     "name": "stdout",
     "output_type": "stream",
     "text": [
      "Submitted batch job 4651631\n"
     ]
    },
    {
     "name": "stderr",
     "output_type": "stream",
     "text": [
      "sbatch: Single-node jobs run on a shared node by default. Add --exclusive if you want to use a node exclusively.\n",
      "sbatch: A full node consists of 32 CPU cores, 229376 MiB of memory and 0 GPUs and can be shared by up to 32 jobs.\n",
      "sbatch: By default shared jobs get 7168 MiB of memory per CPU core, unless explicitly overridden with --mem-per-cpu, --mem-per-gpu or --mem.\n",
      "sbatch: You will be charged for 1 CPUs, based on the number of CPUs and the amount memory that you've requested.\n"
     ]
    },
    {
     "name": "stdout",
     "output_type": "stream",
     "text": [
      "Submitted batch job 4651632\n"
     ]
    },
    {
     "name": "stderr",
     "output_type": "stream",
     "text": [
      "sbatch: Single-node jobs run on a shared node by default. Add --exclusive if you want to use a node exclusively.\n",
      "sbatch: A full node consists of 32 CPU cores, 229376 MiB of memory and 0 GPUs and can be shared by up to 32 jobs.\n",
      "sbatch: By default shared jobs get 7168 MiB of memory per CPU core, unless explicitly overridden with --mem-per-cpu, --mem-per-gpu or --mem.\n",
      "sbatch: You will be charged for 1 CPUs, based on the number of CPUs and the amount memory that you've requested.\n"
     ]
    },
    {
     "name": "stdout",
     "output_type": "stream",
     "text": [
      "Submitted batch job 4651633\n"
     ]
    },
    {
     "name": "stderr",
     "output_type": "stream",
     "text": [
      "sbatch: Single-node jobs run on a shared node by default. Add --exclusive if you want to use a node exclusively.\n",
      "sbatch: A full node consists of 32 CPU cores, 229376 MiB of memory and 0 GPUs and can be shared by up to 32 jobs.\n",
      "sbatch: By default shared jobs get 7168 MiB of memory per CPU core, unless explicitly overridden with --mem-per-cpu, --mem-per-gpu or --mem.\n",
      "sbatch: You will be charged for 1 CPUs, based on the number of CPUs and the amount memory that you've requested.\n"
     ]
    },
    {
     "name": "stdout",
     "output_type": "stream",
     "text": [
      "Submitted batch job 4651634\n"
     ]
    },
    {
     "name": "stderr",
     "output_type": "stream",
     "text": [
      "sbatch: Single-node jobs run on a shared node by default. Add --exclusive if you want to use a node exclusively.\n",
      "sbatch: A full node consists of 32 CPU cores, 229376 MiB of memory and 0 GPUs and can be shared by up to 32 jobs.\n",
      "sbatch: By default shared jobs get 7168 MiB of memory per CPU core, unless explicitly overridden with --mem-per-cpu, --mem-per-gpu or --mem.\n",
      "sbatch: You will be charged for 1 CPUs, based on the number of CPUs and the amount memory that you've requested.\n"
     ]
    },
    {
     "name": "stdout",
     "output_type": "stream",
     "text": [
      "Submitted batch job 4651635\n"
     ]
    },
    {
     "name": "stderr",
     "output_type": "stream",
     "text": [
      "sbatch: Single-node jobs run on a shared node by default. Add --exclusive if you want to use a node exclusively.\n",
      "sbatch: A full node consists of 32 CPU cores, 229376 MiB of memory and 0 GPUs and can be shared by up to 32 jobs.\n",
      "sbatch: By default shared jobs get 7168 MiB of memory per CPU core, unless explicitly overridden with --mem-per-cpu, --mem-per-gpu or --mem.\n",
      "sbatch: You will be charged for 1 CPUs, based on the number of CPUs and the amount memory that you've requested.\n"
     ]
    },
    {
     "name": "stdout",
     "output_type": "stream",
     "text": [
      "Submitted batch job 4651636\n"
     ]
    },
    {
     "name": "stderr",
     "output_type": "stream",
     "text": [
      "sbatch: Single-node jobs run on a shared node by default. Add --exclusive if you want to use a node exclusively.\n",
      "sbatch: A full node consists of 32 CPU cores, 229376 MiB of memory and 0 GPUs and can be shared by up to 32 jobs.\n",
      "sbatch: By default shared jobs get 7168 MiB of memory per CPU core, unless explicitly overridden with --mem-per-cpu, --mem-per-gpu or --mem.\n",
      "sbatch: You will be charged for 1 CPUs, based on the number of CPUs and the amount memory that you've requested.\n"
     ]
    },
    {
     "name": "stdout",
     "output_type": "stream",
     "text": [
      "Submitted batch job 4651637\n"
     ]
    },
    {
     "name": "stderr",
     "output_type": "stream",
     "text": [
      "sbatch: Single-node jobs run on a shared node by default. Add --exclusive if you want to use a node exclusively.\n",
      "sbatch: A full node consists of 32 CPU cores, 229376 MiB of memory and 0 GPUs and can be shared by up to 32 jobs.\n",
      "sbatch: By default shared jobs get 7168 MiB of memory per CPU core, unless explicitly overridden with --mem-per-cpu, --mem-per-gpu or --mem.\n",
      "sbatch: You will be charged for 1 CPUs, based on the number of CPUs and the amount memory that you've requested.\n"
     ]
    },
    {
     "name": "stdout",
     "output_type": "stream",
     "text": [
      "Submitted batch job 4651638\n"
     ]
    },
    {
     "name": "stderr",
     "output_type": "stream",
     "text": [
      "sbatch: Single-node jobs run on a shared node by default. Add --exclusive if you want to use a node exclusively.\n",
      "sbatch: A full node consists of 32 CPU cores, 229376 MiB of memory and 0 GPUs and can be shared by up to 32 jobs.\n",
      "sbatch: By default shared jobs get 7168 MiB of memory per CPU core, unless explicitly overridden with --mem-per-cpu, --mem-per-gpu or --mem.\n",
      "sbatch: You will be charged for 1 CPUs, based on the number of CPUs and the amount memory that you've requested.\n"
     ]
    },
    {
     "name": "stdout",
     "output_type": "stream",
     "text": [
      "Submitted batch job 4651639\n"
     ]
    },
    {
     "name": "stderr",
     "output_type": "stream",
     "text": [
      "sbatch: Single-node jobs run on a shared node by default. Add --exclusive if you want to use a node exclusively.\n",
      "sbatch: A full node consists of 32 CPU cores, 229376 MiB of memory and 0 GPUs and can be shared by up to 32 jobs.\n",
      "sbatch: By default shared jobs get 7168 MiB of memory per CPU core, unless explicitly overridden with --mem-per-cpu, --mem-per-gpu or --mem.\n",
      "sbatch: You will be charged for 1 CPUs, based on the number of CPUs and the amount memory that you've requested.\n"
     ]
    },
    {
     "name": "stdout",
     "output_type": "stream",
     "text": [
      "Submitted batch job 4651640\n"
     ]
    },
    {
     "name": "stderr",
     "output_type": "stream",
     "text": [
      "sbatch: Single-node jobs run on a shared node by default. Add --exclusive if you want to use a node exclusively.\n",
      "sbatch: A full node consists of 32 CPU cores, 229376 MiB of memory and 0 GPUs and can be shared by up to 32 jobs.\n",
      "sbatch: By default shared jobs get 7168 MiB of memory per CPU core, unless explicitly overridden with --mem-per-cpu, --mem-per-gpu or --mem.\n",
      "sbatch: You will be charged for 1 CPUs, based on the number of CPUs and the amount memory that you've requested.\n"
     ]
    },
    {
     "name": "stdout",
     "output_type": "stream",
     "text": [
      "Submitted batch job 4651641\n"
     ]
    },
    {
     "name": "stderr",
     "output_type": "stream",
     "text": [
      "sbatch: Single-node jobs run on a shared node by default. Add --exclusive if you want to use a node exclusively.\n",
      "sbatch: A full node consists of 32 CPU cores, 229376 MiB of memory and 0 GPUs and can be shared by up to 32 jobs.\n",
      "sbatch: By default shared jobs get 7168 MiB of memory per CPU core, unless explicitly overridden with --mem-per-cpu, --mem-per-gpu or --mem.\n",
      "sbatch: You will be charged for 1 CPUs, based on the number of CPUs and the amount memory that you've requested.\n"
     ]
    },
    {
     "name": "stdout",
     "output_type": "stream",
     "text": [
      "Submitted batch job 4651642\n"
     ]
    },
    {
     "name": "stderr",
     "output_type": "stream",
     "text": [
      "sbatch: Single-node jobs run on a shared node by default. Add --exclusive if you want to use a node exclusively.\n",
      "sbatch: A full node consists of 32 CPU cores, 229376 MiB of memory and 0 GPUs and can be shared by up to 32 jobs.\n",
      "sbatch: By default shared jobs get 7168 MiB of memory per CPU core, unless explicitly overridden with --mem-per-cpu, --mem-per-gpu or --mem.\n",
      "sbatch: You will be charged for 1 CPUs, based on the number of CPUs and the amount memory that you've requested.\n"
     ]
    },
    {
     "name": "stdout",
     "output_type": "stream",
     "text": [
      "Submitted batch job 4651643\n"
     ]
    },
    {
     "name": "stderr",
     "output_type": "stream",
     "text": [
      "sbatch: Single-node jobs run on a shared node by default. Add --exclusive if you want to use a node exclusively.\n",
      "sbatch: A full node consists of 32 CPU cores, 229376 MiB of memory and 0 GPUs and can be shared by up to 32 jobs.\n",
      "sbatch: By default shared jobs get 7168 MiB of memory per CPU core, unless explicitly overridden with --mem-per-cpu, --mem-per-gpu or --mem.\n",
      "sbatch: You will be charged for 1 CPUs, based on the number of CPUs and the amount memory that you've requested.\n"
     ]
    },
    {
     "name": "stdout",
     "output_type": "stream",
     "text": [
      "Submitted batch job 4651644\n"
     ]
    },
    {
     "name": "stderr",
     "output_type": "stream",
     "text": [
      "sbatch: Single-node jobs run on a shared node by default. Add --exclusive if you want to use a node exclusively.\n",
      "sbatch: A full node consists of 32 CPU cores, 229376 MiB of memory and 0 GPUs and can be shared by up to 32 jobs.\n",
      "sbatch: By default shared jobs get 7168 MiB of memory per CPU core, unless explicitly overridden with --mem-per-cpu, --mem-per-gpu or --mem.\n",
      "sbatch: You will be charged for 1 CPUs, based on the number of CPUs and the amount memory that you've requested.\n"
     ]
    },
    {
     "name": "stdout",
     "output_type": "stream",
     "text": [
      "Submitted batch job 4651645\n"
     ]
    },
    {
     "name": "stderr",
     "output_type": "stream",
     "text": [
      "sbatch: Single-node jobs run on a shared node by default. Add --exclusive if you want to use a node exclusively.\n",
      "sbatch: A full node consists of 32 CPU cores, 229376 MiB of memory and 0 GPUs and can be shared by up to 32 jobs.\n",
      "sbatch: By default shared jobs get 7168 MiB of memory per CPU core, unless explicitly overridden with --mem-per-cpu, --mem-per-gpu or --mem.\n",
      "sbatch: You will be charged for 1 CPUs, based on the number of CPUs and the amount memory that you've requested.\n"
     ]
    },
    {
     "name": "stdout",
     "output_type": "stream",
     "text": [
      "Submitted batch job 4651646\n"
     ]
    },
    {
     "name": "stderr",
     "output_type": "stream",
     "text": [
      "sbatch: Single-node jobs run on a shared node by default. Add --exclusive if you want to use a node exclusively.\n",
      "sbatch: A full node consists of 32 CPU cores, 229376 MiB of memory and 0 GPUs and can be shared by up to 32 jobs.\n",
      "sbatch: By default shared jobs get 7168 MiB of memory per CPU core, unless explicitly overridden with --mem-per-cpu, --mem-per-gpu or --mem.\n",
      "sbatch: You will be charged for 1 CPUs, based on the number of CPUs and the amount memory that you've requested.\n"
     ]
    },
    {
     "name": "stdout",
     "output_type": "stream",
     "text": [
      "Submitted batch job 4651647\n"
     ]
    },
    {
     "name": "stderr",
     "output_type": "stream",
     "text": [
      "sbatch: Single-node jobs run on a shared node by default. Add --exclusive if you want to use a node exclusively.\n",
      "sbatch: A full node consists of 32 CPU cores, 229376 MiB of memory and 0 GPUs and can be shared by up to 32 jobs.\n",
      "sbatch: By default shared jobs get 7168 MiB of memory per CPU core, unless explicitly overridden with --mem-per-cpu, --mem-per-gpu or --mem.\n",
      "sbatch: You will be charged for 1 CPUs, based on the number of CPUs and the amount memory that you've requested.\n"
     ]
    },
    {
     "name": "stdout",
     "output_type": "stream",
     "text": [
      "Submitted batch job 4651648\n"
     ]
    },
    {
     "name": "stderr",
     "output_type": "stream",
     "text": [
      "sbatch: Single-node jobs run on a shared node by default. Add --exclusive if you want to use a node exclusively.\n",
      "sbatch: A full node consists of 32 CPU cores, 229376 MiB of memory and 0 GPUs and can be shared by up to 32 jobs.\n",
      "sbatch: By default shared jobs get 7168 MiB of memory per CPU core, unless explicitly overridden with --mem-per-cpu, --mem-per-gpu or --mem.\n",
      "sbatch: You will be charged for 1 CPUs, based on the number of CPUs and the amount memory that you've requested.\n"
     ]
    },
    {
     "name": "stdout",
     "output_type": "stream",
     "text": [
      "Submitted batch job 4651649\n"
     ]
    },
    {
     "name": "stderr",
     "output_type": "stream",
     "text": [
      "sbatch: Single-node jobs run on a shared node by default. Add --exclusive if you want to use a node exclusively.\n",
      "sbatch: A full node consists of 32 CPU cores, 229376 MiB of memory and 0 GPUs and can be shared by up to 32 jobs.\n",
      "sbatch: By default shared jobs get 7168 MiB of memory per CPU core, unless explicitly overridden with --mem-per-cpu, --mem-per-gpu or --mem.\n",
      "sbatch: You will be charged for 1 CPUs, based on the number of CPUs and the amount memory that you've requested.\n"
     ]
    },
    {
     "name": "stdout",
     "output_type": "stream",
     "text": [
      "Submitted batch job 4651650\n"
     ]
    },
    {
     "name": "stderr",
     "output_type": "stream",
     "text": [
      "sbatch: Single-node jobs run on a shared node by default. Add --exclusive if you want to use a node exclusively.\n",
      "sbatch: A full node consists of 32 CPU cores, 229376 MiB of memory and 0 GPUs and can be shared by up to 32 jobs.\n",
      "sbatch: By default shared jobs get 7168 MiB of memory per CPU core, unless explicitly overridden with --mem-per-cpu, --mem-per-gpu or --mem.\n",
      "sbatch: You will be charged for 1 CPUs, based on the number of CPUs and the amount memory that you've requested.\n"
     ]
    },
    {
     "name": "stdout",
     "output_type": "stream",
     "text": [
      "Submitted batch job 4651651\n"
     ]
    },
    {
     "name": "stderr",
     "output_type": "stream",
     "text": [
      "sbatch: Single-node jobs run on a shared node by default. Add --exclusive if you want to use a node exclusively.\n",
      "sbatch: A full node consists of 32 CPU cores, 229376 MiB of memory and 0 GPUs and can be shared by up to 32 jobs.\n",
      "sbatch: By default shared jobs get 7168 MiB of memory per CPU core, unless explicitly overridden with --mem-per-cpu, --mem-per-gpu or --mem.\n",
      "sbatch: You will be charged for 1 CPUs, based on the number of CPUs and the amount memory that you've requested.\n"
     ]
    },
    {
     "name": "stdout",
     "output_type": "stream",
     "text": [
      "Submitted batch job 4651652\n"
     ]
    },
    {
     "name": "stderr",
     "output_type": "stream",
     "text": [
      "sbatch: Single-node jobs run on a shared node by default. Add --exclusive if you want to use a node exclusively.\n",
      "sbatch: A full node consists of 32 CPU cores, 229376 MiB of memory and 0 GPUs and can be shared by up to 32 jobs.\n",
      "sbatch: By default shared jobs get 7168 MiB of memory per CPU core, unless explicitly overridden with --mem-per-cpu, --mem-per-gpu or --mem.\n",
      "sbatch: You will be charged for 1 CPUs, based on the number of CPUs and the amount memory that you've requested.\n"
     ]
    },
    {
     "name": "stdout",
     "output_type": "stream",
     "text": [
      "Submitted batch job 4651653\n"
     ]
    },
    {
     "name": "stderr",
     "output_type": "stream",
     "text": [
      "sbatch: Single-node jobs run on a shared node by default. Add --exclusive if you want to use a node exclusively.\n",
      "sbatch: A full node consists of 32 CPU cores, 229376 MiB of memory and 0 GPUs and can be shared by up to 32 jobs.\n",
      "sbatch: By default shared jobs get 7168 MiB of memory per CPU core, unless explicitly overridden with --mem-per-cpu, --mem-per-gpu or --mem.\n",
      "sbatch: You will be charged for 1 CPUs, based on the number of CPUs and the amount memory that you've requested.\n"
     ]
    },
    {
     "name": "stdout",
     "output_type": "stream",
     "text": [
      "Submitted batch job 4651654\n"
     ]
    },
    {
     "name": "stderr",
     "output_type": "stream",
     "text": [
      "sbatch: Single-node jobs run on a shared node by default. Add --exclusive if you want to use a node exclusively.\n",
      "sbatch: A full node consists of 32 CPU cores, 229376 MiB of memory and 0 GPUs and can be shared by up to 32 jobs.\n",
      "sbatch: By default shared jobs get 7168 MiB of memory per CPU core, unless explicitly overridden with --mem-per-cpu, --mem-per-gpu or --mem.\n",
      "sbatch: You will be charged for 1 CPUs, based on the number of CPUs and the amount memory that you've requested.\n"
     ]
    },
    {
     "name": "stdout",
     "output_type": "stream",
     "text": [
      "Submitted batch job 4651656\n"
     ]
    },
    {
     "name": "stderr",
     "output_type": "stream",
     "text": [
      "sbatch: Single-node jobs run on a shared node by default. Add --exclusive if you want to use a node exclusively.\n",
      "sbatch: A full node consists of 32 CPU cores, 229376 MiB of memory and 0 GPUs and can be shared by up to 32 jobs.\n",
      "sbatch: By default shared jobs get 7168 MiB of memory per CPU core, unless explicitly overridden with --mem-per-cpu, --mem-per-gpu or --mem.\n",
      "sbatch: You will be charged for 1 CPUs, based on the number of CPUs and the amount memory that you've requested.\n"
     ]
    },
    {
     "name": "stdout",
     "output_type": "stream",
     "text": [
      "Submitted batch job 4651657\n"
     ]
    },
    {
     "name": "stderr",
     "output_type": "stream",
     "text": [
      "sbatch: Single-node jobs run on a shared node by default. Add --exclusive if you want to use a node exclusively.\n",
      "sbatch: A full node consists of 32 CPU cores, 229376 MiB of memory and 0 GPUs and can be shared by up to 32 jobs.\n",
      "sbatch: By default shared jobs get 7168 MiB of memory per CPU core, unless explicitly overridden with --mem-per-cpu, --mem-per-gpu or --mem.\n",
      "sbatch: You will be charged for 1 CPUs, based on the number of CPUs and the amount memory that you've requested.\n"
     ]
    },
    {
     "name": "stdout",
     "output_type": "stream",
     "text": [
      "Submitted batch job 4651658\n",
      "Submitted batch job 4651659\n"
     ]
    },
    {
     "name": "stderr",
     "output_type": "stream",
     "text": [
      "sbatch: Single-node jobs run on a shared node by default. Add --exclusive if you want to use a node exclusively.\n",
      "sbatch: A full node consists of 32 CPU cores, 229376 MiB of memory and 0 GPUs and can be shared by up to 32 jobs.\n",
      "sbatch: By default shared jobs get 7168 MiB of memory per CPU core, unless explicitly overridden with --mem-per-cpu, --mem-per-gpu or --mem.\n",
      "sbatch: You will be charged for 1 CPUs, based on the number of CPUs and the amount memory that you've requested.\n",
      "sbatch: Single-node jobs run on a shared node by default. Add --exclusive if you want to use a node exclusively.\n",
      "sbatch: A full node consists of 32 CPU cores, 229376 MiB of memory and 0 GPUs and can be shared by up to 32 jobs.\n",
      "sbatch: By default shared jobs get 7168 MiB of memory per CPU core, unless explicitly overridden with --mem-per-cpu, --mem-per-gpu or --mem.\n",
      "sbatch: You will be charged for 1 CPUs, based on the number of CPUs and the amount memory that you've requested.\n"
     ]
    },
    {
     "name": "stdout",
     "output_type": "stream",
     "text": [
      "Submitted batch job 4651661\n"
     ]
    },
    {
     "name": "stderr",
     "output_type": "stream",
     "text": [
      "sbatch: Single-node jobs run on a shared node by default. Add --exclusive if you want to use a node exclusively.\n",
      "sbatch: A full node consists of 32 CPU cores, 229376 MiB of memory and 0 GPUs and can be shared by up to 32 jobs.\n",
      "sbatch: By default shared jobs get 7168 MiB of memory per CPU core, unless explicitly overridden with --mem-per-cpu, --mem-per-gpu or --mem.\n",
      "sbatch: You will be charged for 1 CPUs, based on the number of CPUs and the amount memory that you've requested.\n"
     ]
    },
    {
     "name": "stdout",
     "output_type": "stream",
     "text": [
      "Submitted batch job 4651662\n"
     ]
    },
    {
     "name": "stderr",
     "output_type": "stream",
     "text": [
      "sbatch: Single-node jobs run on a shared node by default. Add --exclusive if you want to use a node exclusively.\n",
      "sbatch: A full node consists of 32 CPU cores, 229376 MiB of memory and 0 GPUs and can be shared by up to 32 jobs.\n",
      "sbatch: By default shared jobs get 7168 MiB of memory per CPU core, unless explicitly overridden with --mem-per-cpu, --mem-per-gpu or --mem.\n",
      "sbatch: You will be charged for 1 CPUs, based on the number of CPUs and the amount memory that you've requested.\n"
     ]
    },
    {
     "name": "stdout",
     "output_type": "stream",
     "text": [
      "Submitted batch job 4651663\n"
     ]
    },
    {
     "name": "stderr",
     "output_type": "stream",
     "text": [
      "sbatch: Single-node jobs run on a shared node by default. Add --exclusive if you want to use a node exclusively.\n",
      "sbatch: A full node consists of 32 CPU cores, 229376 MiB of memory and 0 GPUs and can be shared by up to 32 jobs.\n",
      "sbatch: By default shared jobs get 7168 MiB of memory per CPU core, unless explicitly overridden with --mem-per-cpu, --mem-per-gpu or --mem.\n",
      "sbatch: You will be charged for 1 CPUs, based on the number of CPUs and the amount memory that you've requested.\n"
     ]
    },
    {
     "name": "stdout",
     "output_type": "stream",
     "text": [
      "Submitted batch job 4651664\n"
     ]
    },
    {
     "name": "stderr",
     "output_type": "stream",
     "text": [
      "sbatch: Single-node jobs run on a shared node by default. Add --exclusive if you want to use a node exclusively.\n",
      "sbatch: A full node consists of 32 CPU cores, 229376 MiB of memory and 0 GPUs and can be shared by up to 32 jobs.\n",
      "sbatch: By default shared jobs get 7168 MiB of memory per CPU core, unless explicitly overridden with --mem-per-cpu, --mem-per-gpu or --mem.\n",
      "sbatch: You will be charged for 1 CPUs, based on the number of CPUs and the amount memory that you've requested.\n"
     ]
    },
    {
     "name": "stdout",
     "output_type": "stream",
     "text": [
      "Submitted batch job 4651665\n"
     ]
    },
    {
     "name": "stderr",
     "output_type": "stream",
     "text": [
      "sbatch: Single-node jobs run on a shared node by default. Add --exclusive if you want to use a node exclusively.\n",
      "sbatch: A full node consists of 32 CPU cores, 229376 MiB of memory and 0 GPUs and can be shared by up to 32 jobs.\n",
      "sbatch: By default shared jobs get 7168 MiB of memory per CPU core, unless explicitly overridden with --mem-per-cpu, --mem-per-gpu or --mem.\n",
      "sbatch: You will be charged for 1 CPUs, based on the number of CPUs and the amount memory that you've requested.\n"
     ]
    },
    {
     "name": "stdout",
     "output_type": "stream",
     "text": [
      "Submitted batch job 4651666\n"
     ]
    },
    {
     "name": "stderr",
     "output_type": "stream",
     "text": [
      "sbatch: Single-node jobs run on a shared node by default. Add --exclusive if you want to use a node exclusively.\n",
      "sbatch: A full node consists of 32 CPU cores, 229376 MiB of memory and 0 GPUs and can be shared by up to 32 jobs.\n",
      "sbatch: By default shared jobs get 7168 MiB of memory per CPU core, unless explicitly overridden with --mem-per-cpu, --mem-per-gpu or --mem.\n",
      "sbatch: You will be charged for 1 CPUs, based on the number of CPUs and the amount memory that you've requested.\n"
     ]
    },
    {
     "name": "stdout",
     "output_type": "stream",
     "text": [
      "Submitted batch job 4651667\n"
     ]
    },
    {
     "name": "stderr",
     "output_type": "stream",
     "text": [
      "sbatch: Single-node jobs run on a shared node by default. Add --exclusive if you want to use a node exclusively.\n",
      "sbatch: A full node consists of 32 CPU cores, 229376 MiB of memory and 0 GPUs and can be shared by up to 32 jobs.\n",
      "sbatch: By default shared jobs get 7168 MiB of memory per CPU core, unless explicitly overridden with --mem-per-cpu, --mem-per-gpu or --mem.\n",
      "sbatch: You will be charged for 1 CPUs, based on the number of CPUs and the amount memory that you've requested.\n"
     ]
    },
    {
     "name": "stdout",
     "output_type": "stream",
     "text": [
      "Submitted batch job 4651668\n"
     ]
    },
    {
     "name": "stderr",
     "output_type": "stream",
     "text": [
      "sbatch: Single-node jobs run on a shared node by default. Add --exclusive if you want to use a node exclusively.\n",
      "sbatch: A full node consists of 32 CPU cores, 229376 MiB of memory and 0 GPUs and can be shared by up to 32 jobs.\n",
      "sbatch: By default shared jobs get 7168 MiB of memory per CPU core, unless explicitly overridden with --mem-per-cpu, --mem-per-gpu or --mem.\n",
      "sbatch: You will be charged for 1 CPUs, based on the number of CPUs and the amount memory that you've requested.\n"
     ]
    },
    {
     "name": "stdout",
     "output_type": "stream",
     "text": [
      "Submitted batch job 4651669\n"
     ]
    },
    {
     "name": "stderr",
     "output_type": "stream",
     "text": [
      "sbatch: Single-node jobs run on a shared node by default. Add --exclusive if you want to use a node exclusively.\n",
      "sbatch: A full node consists of 32 CPU cores, 229376 MiB of memory and 0 GPUs and can be shared by up to 32 jobs.\n",
      "sbatch: By default shared jobs get 7168 MiB of memory per CPU core, unless explicitly overridden with --mem-per-cpu, --mem-per-gpu or --mem.\n",
      "sbatch: You will be charged for 1 CPUs, based on the number of CPUs and the amount memory that you've requested.\n"
     ]
    },
    {
     "name": "stdout",
     "output_type": "stream",
     "text": [
      "Submitted batch job 4651670\n"
     ]
    },
    {
     "name": "stderr",
     "output_type": "stream",
     "text": [
      "sbatch: Single-node jobs run on a shared node by default. Add --exclusive if you want to use a node exclusively.\n",
      "sbatch: A full node consists of 32 CPU cores, 229376 MiB of memory and 0 GPUs and can be shared by up to 32 jobs.\n",
      "sbatch: By default shared jobs get 7168 MiB of memory per CPU core, unless explicitly overridden with --mem-per-cpu, --mem-per-gpu or --mem.\n",
      "sbatch: You will be charged for 1 CPUs, based on the number of CPUs and the amount memory that you've requested.\n"
     ]
    },
    {
     "name": "stdout",
     "output_type": "stream",
     "text": [
      "Submitted batch job 4651671\n"
     ]
    },
    {
     "name": "stderr",
     "output_type": "stream",
     "text": [
      "sbatch: Single-node jobs run on a shared node by default. Add --exclusive if you want to use a node exclusively.\n",
      "sbatch: A full node consists of 32 CPU cores, 229376 MiB of memory and 0 GPUs and can be shared by up to 32 jobs.\n",
      "sbatch: By default shared jobs get 7168 MiB of memory per CPU core, unless explicitly overridden with --mem-per-cpu, --mem-per-gpu or --mem.\n",
      "sbatch: You will be charged for 1 CPUs, based on the number of CPUs and the amount memory that you've requested.\n"
     ]
    },
    {
     "name": "stdout",
     "output_type": "stream",
     "text": [
      "Submitted batch job 4651672\n"
     ]
    },
    {
     "name": "stderr",
     "output_type": "stream",
     "text": [
      "sbatch: Single-node jobs run on a shared node by default. Add --exclusive if you want to use a node exclusively.\n",
      "sbatch: A full node consists of 32 CPU cores, 229376 MiB of memory and 0 GPUs and can be shared by up to 32 jobs.\n",
      "sbatch: By default shared jobs get 7168 MiB of memory per CPU core, unless explicitly overridden with --mem-per-cpu, --mem-per-gpu or --mem.\n",
      "sbatch: You will be charged for 1 CPUs, based on the number of CPUs and the amount memory that you've requested.\n"
     ]
    },
    {
     "name": "stdout",
     "output_type": "stream",
     "text": [
      "Submitted batch job 4651673\n"
     ]
    },
    {
     "name": "stderr",
     "output_type": "stream",
     "text": [
      "sbatch: Single-node jobs run on a shared node by default. Add --exclusive if you want to use a node exclusively.\n",
      "sbatch: A full node consists of 32 CPU cores, 229376 MiB of memory and 0 GPUs and can be shared by up to 32 jobs.\n",
      "sbatch: By default shared jobs get 7168 MiB of memory per CPU core, unless explicitly overridden with --mem-per-cpu, --mem-per-gpu or --mem.\n",
      "sbatch: You will be charged for 1 CPUs, based on the number of CPUs and the amount memory that you've requested.\n"
     ]
    },
    {
     "name": "stdout",
     "output_type": "stream",
     "text": [
      "Submitted batch job 4651674\n"
     ]
    },
    {
     "name": "stderr",
     "output_type": "stream",
     "text": [
      "sbatch: Single-node jobs run on a shared node by default. Add --exclusive if you want to use a node exclusively.\n",
      "sbatch: A full node consists of 32 CPU cores, 229376 MiB of memory and 0 GPUs and can be shared by up to 32 jobs.\n",
      "sbatch: By default shared jobs get 7168 MiB of memory per CPU core, unless explicitly overridden with --mem-per-cpu, --mem-per-gpu or --mem.\n",
      "sbatch: You will be charged for 1 CPUs, based on the number of CPUs and the amount memory that you've requested.\n"
     ]
    },
    {
     "name": "stdout",
     "output_type": "stream",
     "text": [
      "Submitted batch job 4651675\n"
     ]
    },
    {
     "name": "stderr",
     "output_type": "stream",
     "text": [
      "sbatch: Single-node jobs run on a shared node by default. Add --exclusive if you want to use a node exclusively.\n",
      "sbatch: A full node consists of 32 CPU cores, 229376 MiB of memory and 0 GPUs and can be shared by up to 32 jobs.\n",
      "sbatch: By default shared jobs get 7168 MiB of memory per CPU core, unless explicitly overridden with --mem-per-cpu, --mem-per-gpu or --mem.\n",
      "sbatch: You will be charged for 1 CPUs, based on the number of CPUs and the amount memory that you've requested.\n"
     ]
    },
    {
     "name": "stdout",
     "output_type": "stream",
     "text": [
      "Submitted batch job 4651676\n"
     ]
    }
   ],
>>>>>>> 32a9d59dd8e808d26fbbd8cb90159fecc49f3687
   "source": [
    "name_job = \"empty\"\n",
    "dir_drop = \"DATA/PRINCE\"\n",
    "delete = True\n",
    "run_parallel_transfer(\n",
    "    \"toward_drop.py\",\n",
    "    [dir_drop, delete],\n",
    "    folders,\n",
    "    70,\n",
    "    \"24:00:00\",\n",
    "    \"staging\",\n",
    "    cpus=1,\n",
    "    node=\"staging\",\n",
    "    name_job=name_job,\n",
    ")"
   ]
  },
  {
   "cell_type": "code",
<<<<<<< HEAD
   "execution_count": null,
=======
   "execution_count": 6,
>>>>>>> 32a9d59dd8e808d26fbbd8cb90159fecc49f3687
   "id": "14d64989-c933-494e-84c4-0d25b6709f1b",
   "metadata": {
    "tags": []
   },
   "outputs": [],
   "source": [
    "plates = [plate for plate in all_folders[\"unique_id\"].unique() if plate not in plates]"
   ]
  },
  {
   "cell_type": "code",
<<<<<<< HEAD
   "execution_count": null,
   "id": "6b0c0db3-50bf-4f92-ba08-f336012b0ec2",
   "metadata": {},
   "outputs": [],
=======
   "execution_count": 6,
   "id": "6b0c0db3-50bf-4f92-ba08-f336012b0ec2",
   "metadata": {},
   "outputs": [
    {
     "name": "stderr",
     "output_type": "stream",
     "text": [
      "sbatch: Single-node jobs run on a shared node by default. Add --exclusive if you want to use a node exclusively.\n",
      "sbatch: A full node consists of 128 CPU cores, 229376 MiB of memory and 0 GPUs and can be shared by up to 4 jobs.\n",
      "sbatch: By default shared jobs get 1792 MiB of memory per CPU core, unless explicitly overridden with --mem-per-cpu, --mem-per-gpu or --mem.\n",
      "sbatch: You will be charged for 0.25 node, based on the number of CPUs, GPUs and the amount memory that you've requested.\n"
     ]
    },
    {
     "name": "stdout",
     "output_type": "stream",
     "text": [
      "Submitted batch job 2828290\n"
     ]
    }
   ],
>>>>>>> 32a9d59dd8e808d26fbbd8cb90159fecc49f3687
   "source": [
    "from amftrack.pipeline.launching.run_super import (\n",
    "    run_parallel,\n",
    "    run_launcher,\n",
    "    run_parallel_all_time,\n",
    ")\n",
    "\n",
    "args = [directory_targ]\n",
    "num_parallel = 32\n",
    "name_job = \"agg_rerun\"\n",
    "time = \"6:00:00\"\n",
    "run_parallel_all_time(\n",
    "    \"make_labeled_graphs.py\",\n",
    "    args,\n",
    "    folders,\n",
    "    num_parallel,\n",
    "    time,\n",
    "    \"make_graphs\",\n",
    "    cpus=32,\n",
    "    node=\"thin\",\n",
    "    dependency=True,\n",
    "    name_job=name_job,\n",
    ")"
   ]
  },
  {
   "cell_type": "code",
<<<<<<< HEAD
   "execution_count": null,
=======
   "execution_count": 10,
>>>>>>> 32a9d59dd8e808d26fbbd8cb90159fecc49f3687
   "id": "89a5397f-125b-4b74-bcad-f64faf4c307e",
   "metadata": {
    "tags": []
   },
<<<<<<< HEAD
   "outputs": [],
=======
   "outputs": [
    {
     "data": {
      "text/plain": [
       "array(['69_20201119', '753_20221013', '764_20221219', '765_20221213',\n",
       "       '88_20210915', '790_20210907', '757_20221019', '731_20221013',\n",
       "       '809_20211012', '737_20221025', '799_20211001', '762_20221213',\n",
       "       '763_20230109', '408_20221013', '734_20221019', '803_20211012',\n",
       "       '752_20221025', '907_20220321', '403_20221005', '40_20201214',\n",
       "       '943_20220322'], dtype=object)"
      ]
     },
     "execution_count": 10,
     "metadata": {},
     "output_type": "execute_result"
    }
   ],
>>>>>>> 32a9d59dd8e808d26fbbd8cb90159fecc49f3687
   "source": [
    "all_folders[\"unique_id\"].unique()"
   ]
  },
  {
   "cell_type": "code",
<<<<<<< HEAD
   "execution_count": null,
   "id": "02db398f-9a0e-41e4-97a8-ee00a57e98c8",
   "metadata": {
=======
   "execution_count": 7,
   "id": "02db398f-9a0e-41e4-97a8-ee00a57e98c8",
   "metadata": {
    "collapsed": true,
>>>>>>> 32a9d59dd8e808d26fbbd8cb90159fecc49f3687
    "jupyter": {
     "outputs_hidden": true
    },
    "tags": []
   },
<<<<<<< HEAD
   "outputs": [],
=======
   "outputs": [
    {
     "data": {
      "text/html": [
       "<div>\n",
       "<style scoped>\n",
       "    .dataframe tbody tr th:only-of-type {\n",
       "        vertical-align: middle;\n",
       "    }\n",
       "\n",
       "    .dataframe tbody tr th {\n",
       "        vertical-align: top;\n",
       "    }\n",
       "\n",
       "    .dataframe thead th {\n",
       "        text-align: right;\n",
       "    }\n",
       "</style>\n",
       "<table border=\"1\" class=\"dataframe\">\n",
       "  <thead>\n",
       "    <tr style=\"text-align: right;\">\n",
       "      <th></th>\n",
       "      <th>total_path</th>\n",
       "      <th>Plate</th>\n",
       "      <th>PrincePos</th>\n",
       "      <th>root</th>\n",
       "      <th>strain</th>\n",
       "      <th>medium</th>\n",
       "      <th>split</th>\n",
       "      <th>Pbait</th>\n",
       "      <th>CrossDate</th>\n",
       "      <th>Temperature</th>\n",
       "      <th>...</th>\n",
       "      <th>/Analysis/transform_corrupt.mat</th>\n",
       "      <th>/Analysis/skeleton_realigned_compressed.mat</th>\n",
       "      <th>/Analysis/nx_graph_pruned.p</th>\n",
       "      <th>/Analysis/nx_graph_pruned_width.p</th>\n",
       "      <th>/Analysis/nx_graph_pruned_labeled.p</th>\n",
       "      <th>date</th>\n",
       "      <th>folder</th>\n",
       "      <th>Temp</th>\n",
       "      <th>unique_id</th>\n",
       "      <th>datetime</th>\n",
       "    </tr>\n",
       "  </thead>\n",
       "  <tbody>\n",
       "    <tr>\n",
       "      <th>18</th>\n",
       "      <td>/projects/0/einf914/data/20230106_1749_Plate02</td>\n",
       "      <td>521</td>\n",
       "      <td>2</td>\n",
       "      <td>'Carrot'</td>\n",
       "      <td>'C2'</td>\n",
       "      <td>'001P100N100C'</td>\n",
       "      <td>'Y'</td>\n",
       "      <td>'-'</td>\n",
       "      <td>20230104</td>\n",
       "      <td>25</td>\n",
       "      <td>...</td>\n",
       "      <td>False</td>\n",
       "      <td>True</td>\n",
       "      <td>True</td>\n",
       "      <td>True</td>\n",
       "      <td>True</td>\n",
       "      <td>06.01.2023, 17:49:</td>\n",
       "      <td>20230106_1749_Plate02</td>\n",
       "      <td>NaN</td>\n",
       "      <td>521_20230104</td>\n",
       "      <td>2023-01-06 17:49:00</td>\n",
       "    </tr>\n",
       "    <tr>\n",
       "      <th>25</th>\n",
       "      <td>/projects/0/einf914/data/20230125_0554_Plate02</td>\n",
       "      <td>521</td>\n",
       "      <td>2</td>\n",
       "      <td>'Carrot'</td>\n",
       "      <td>'C2'</td>\n",
       "      <td>'001P100N100C'</td>\n",
       "      <td>'Y'</td>\n",
       "      <td>'-'</td>\n",
       "      <td>20230104</td>\n",
       "      <td>25</td>\n",
       "      <td>...</td>\n",
       "      <td>False</td>\n",
       "      <td>False</td>\n",
       "      <td>False</td>\n",
       "      <td>False</td>\n",
       "      <td>False</td>\n",
       "      <td>25.01.2023, 05:54:</td>\n",
       "      <td>20230125_0554_Plate02</td>\n",
       "      <td>NaN</td>\n",
       "      <td>521_20230104</td>\n",
       "      <td>2023-01-25 05:54:00</td>\n",
       "    </tr>\n",
       "    <tr>\n",
       "      <th>38</th>\n",
       "      <td>/projects/0/einf914/data/20230110_1546_Plate02</td>\n",
       "      <td>521</td>\n",
       "      <td>2</td>\n",
       "      <td>'Carrot'</td>\n",
       "      <td>'C2'</td>\n",
       "      <td>'001P100N100C'</td>\n",
       "      <td>'Y'</td>\n",
       "      <td>'-'</td>\n",
       "      <td>20230104</td>\n",
       "      <td>25</td>\n",
       "      <td>...</td>\n",
       "      <td>False</td>\n",
       "      <td>True</td>\n",
       "      <td>True</td>\n",
       "      <td>True</td>\n",
       "      <td>True</td>\n",
       "      <td>10.01.2023, 15:46:</td>\n",
       "      <td>20230110_1546_Plate02</td>\n",
       "      <td>NaN</td>\n",
       "      <td>521_20230104</td>\n",
       "      <td>2023-01-10 15:46:00</td>\n",
       "    </tr>\n",
       "    <tr>\n",
       "      <th>78</th>\n",
       "      <td>/projects/0/einf914/data/20230123_1554_Plate02</td>\n",
       "      <td>521</td>\n",
       "      <td>2</td>\n",
       "      <td>'Carrot'</td>\n",
       "      <td>'C2'</td>\n",
       "      <td>'001P100N100C'</td>\n",
       "      <td>'Y'</td>\n",
       "      <td>'-'</td>\n",
       "      <td>20230104</td>\n",
       "      <td>25</td>\n",
       "      <td>...</td>\n",
       "      <td>False</td>\n",
       "      <td>False</td>\n",
       "      <td>False</td>\n",
       "      <td>False</td>\n",
       "      <td>False</td>\n",
       "      <td>23.01.2023, 15:54:</td>\n",
       "      <td>20230123_1554_Plate02</td>\n",
       "      <td>NaN</td>\n",
       "      <td>521_20230104</td>\n",
       "      <td>2023-01-23 15:54:00</td>\n",
       "    </tr>\n",
       "    <tr>\n",
       "      <th>101</th>\n",
       "      <td>/projects/0/einf914/data/20230124_2154_Plate02</td>\n",
       "      <td>521</td>\n",
       "      <td>2</td>\n",
       "      <td>'Carrot'</td>\n",
       "      <td>'C2'</td>\n",
       "      <td>'001P100N100C'</td>\n",
       "      <td>'Y'</td>\n",
       "      <td>'-'</td>\n",
       "      <td>20230104</td>\n",
       "      <td>25</td>\n",
       "      <td>...</td>\n",
       "      <td>False</td>\n",
       "      <td>False</td>\n",
       "      <td>False</td>\n",
       "      <td>False</td>\n",
       "      <td>False</td>\n",
       "      <td>24.01.2023, 21:54:</td>\n",
       "      <td>20230124_2154_Plate02</td>\n",
       "      <td>NaN</td>\n",
       "      <td>521_20230104</td>\n",
       "      <td>2023-01-24 21:54:00</td>\n",
       "    </tr>\n",
       "    <tr>\n",
       "      <th>...</th>\n",
       "      <td>...</td>\n",
       "      <td>...</td>\n",
       "      <td>...</td>\n",
       "      <td>...</td>\n",
       "      <td>...</td>\n",
       "      <td>...</td>\n",
       "      <td>...</td>\n",
       "      <td>...</td>\n",
       "      <td>...</td>\n",
       "      <td>...</td>\n",
       "      <td>...</td>\n",
       "      <td>...</td>\n",
       "      <td>...</td>\n",
       "      <td>...</td>\n",
       "      <td>...</td>\n",
       "      <td>...</td>\n",
       "      <td>...</td>\n",
       "      <td>...</td>\n",
       "      <td>...</td>\n",
       "      <td>...</td>\n",
       "      <td>...</td>\n",
       "    </tr>\n",
       "    <tr>\n",
       "      <th>1679</th>\n",
       "      <td>/projects/0/einf914/data/20230112_0549_Plate02</td>\n",
       "      <td>521</td>\n",
       "      <td>2</td>\n",
       "      <td>'Carrot'</td>\n",
       "      <td>'C2'</td>\n",
       "      <td>'001P100N100C'</td>\n",
       "      <td>'Y'</td>\n",
       "      <td>'-'</td>\n",
       "      <td>20230104</td>\n",
       "      <td>25</td>\n",
       "      <td>...</td>\n",
       "      <td>False</td>\n",
       "      <td>True</td>\n",
       "      <td>True</td>\n",
       "      <td>True</td>\n",
       "      <td>True</td>\n",
       "      <td>12.01.2023, 05:49:</td>\n",
       "      <td>20230112_0549_Plate02</td>\n",
       "      <td>NaN</td>\n",
       "      <td>521_20230104</td>\n",
       "      <td>2023-01-12 05:49:00</td>\n",
       "    </tr>\n",
       "    <tr>\n",
       "      <th>1685</th>\n",
       "      <td>/projects/0/einf914/data/20230109_1409_Plate02</td>\n",
       "      <td>521</td>\n",
       "      <td>2</td>\n",
       "      <td>'Carrot'</td>\n",
       "      <td>'C2'</td>\n",
       "      <td>'001P100N100C'</td>\n",
       "      <td>'Y'</td>\n",
       "      <td>'-'</td>\n",
       "      <td>20230104</td>\n",
       "      <td>25</td>\n",
       "      <td>...</td>\n",
       "      <td>False</td>\n",
       "      <td>True</td>\n",
       "      <td>True</td>\n",
       "      <td>True</td>\n",
       "      <td>True</td>\n",
       "      <td>09.01.2023, 14:09:</td>\n",
       "      <td>20230109_1409_Plate02</td>\n",
       "      <td>NaN</td>\n",
       "      <td>521_20230104</td>\n",
       "      <td>2023-01-09 14:09:00</td>\n",
       "    </tr>\n",
       "    <tr>\n",
       "      <th>1700</th>\n",
       "      <td>/projects/0/einf914/data/20230105_0833_Plate02</td>\n",
       "      <td>521</td>\n",
       "      <td>2</td>\n",
       "      <td>'Carrot'</td>\n",
       "      <td>'C2'</td>\n",
       "      <td>'001P100N100C'</td>\n",
       "      <td>'Y'</td>\n",
       "      <td>'-'</td>\n",
       "      <td>20230104</td>\n",
       "      <td>25</td>\n",
       "      <td>...</td>\n",
       "      <td>False</td>\n",
       "      <td>True</td>\n",
       "      <td>True</td>\n",
       "      <td>True</td>\n",
       "      <td>True</td>\n",
       "      <td>05.01.2023, 08:33:</td>\n",
       "      <td>20230105_0833_Plate02</td>\n",
       "      <td>NaN</td>\n",
       "      <td>521_20230104</td>\n",
       "      <td>2023-01-05 08:33:00</td>\n",
       "    </tr>\n",
       "    <tr>\n",
       "      <th>1737</th>\n",
       "      <td>/projects/0/einf914/data/20230124_0954_Plate02</td>\n",
       "      <td>521</td>\n",
       "      <td>2</td>\n",
       "      <td>'Carrot'</td>\n",
       "      <td>'C2'</td>\n",
       "      <td>'001P100N100C'</td>\n",
       "      <td>'Y'</td>\n",
       "      <td>'-'</td>\n",
       "      <td>20230104</td>\n",
       "      <td>25</td>\n",
       "      <td>...</td>\n",
       "      <td>False</td>\n",
       "      <td>False</td>\n",
       "      <td>False</td>\n",
       "      <td>False</td>\n",
       "      <td>False</td>\n",
       "      <td>24.01.2023, 09:54:</td>\n",
       "      <td>20230124_0954_Plate02</td>\n",
       "      <td>NaN</td>\n",
       "      <td>521_20230104</td>\n",
       "      <td>2023-01-24 09:54:00</td>\n",
       "    </tr>\n",
       "    <tr>\n",
       "      <th>1756</th>\n",
       "      <td>/projects/0/einf914/data/20230111_0746_Plate02</td>\n",
       "      <td>521</td>\n",
       "      <td>2</td>\n",
       "      <td>'Carrot'</td>\n",
       "      <td>'C2'</td>\n",
       "      <td>'001P100N100C'</td>\n",
       "      <td>'Y'</td>\n",
       "      <td>'-'</td>\n",
       "      <td>20230104</td>\n",
       "      <td>25</td>\n",
       "      <td>...</td>\n",
       "      <td>False</td>\n",
       "      <td>True</td>\n",
       "      <td>True</td>\n",
       "      <td>True</td>\n",
       "      <td>True</td>\n",
       "      <td>11.01.2023, 07:46:</td>\n",
       "      <td>20230111_0746_Plate02</td>\n",
       "      <td>NaN</td>\n",
       "      <td>521_20230104</td>\n",
       "      <td>2023-01-11 07:46:00</td>\n",
       "    </tr>\n",
       "  </tbody>\n",
       "</table>\n",
       "<p>96 rows × 25 columns</p>\n",
       "</div>"
      ],
      "text/plain": [
       "                                          total_path Plate PrincePos  \\\n",
       "18    /projects/0/einf914/data/20230106_1749_Plate02   521         2   \n",
       "25    /projects/0/einf914/data/20230125_0554_Plate02   521         2   \n",
       "38    /projects/0/einf914/data/20230110_1546_Plate02   521         2   \n",
       "78    /projects/0/einf914/data/20230123_1554_Plate02   521         2   \n",
       "101   /projects/0/einf914/data/20230124_2154_Plate02   521         2   \n",
       "...                                              ...   ...       ...   \n",
       "1679  /projects/0/einf914/data/20230112_0549_Plate02   521         2   \n",
       "1685  /projects/0/einf914/data/20230109_1409_Plate02   521         2   \n",
       "1700  /projects/0/einf914/data/20230105_0833_Plate02   521         2   \n",
       "1737  /projects/0/einf914/data/20230124_0954_Plate02   521         2   \n",
       "1756  /projects/0/einf914/data/20230111_0746_Plate02   521         2   \n",
       "\n",
       "          root strain          medium split Pbait CrossDate Temperature  ...  \\\n",
       "18    'Carrot'   'C2'  '001P100N100C'   'Y'   '-'  20230104          25  ...   \n",
       "25    'Carrot'   'C2'  '001P100N100C'   'Y'   '-'  20230104          25  ...   \n",
       "38    'Carrot'   'C2'  '001P100N100C'   'Y'   '-'  20230104          25  ...   \n",
       "78    'Carrot'   'C2'  '001P100N100C'   'Y'   '-'  20230104          25  ...   \n",
       "101   'Carrot'   'C2'  '001P100N100C'   'Y'   '-'  20230104          25  ...   \n",
       "...        ...    ...             ...   ...   ...       ...         ...  ...   \n",
       "1679  'Carrot'   'C2'  '001P100N100C'   'Y'   '-'  20230104          25  ...   \n",
       "1685  'Carrot'   'C2'  '001P100N100C'   'Y'   '-'  20230104          25  ...   \n",
       "1700  'Carrot'   'C2'  '001P100N100C'   'Y'   '-'  20230104          25  ...   \n",
       "1737  'Carrot'   'C2'  '001P100N100C'   'Y'   '-'  20230104          25  ...   \n",
       "1756  'Carrot'   'C2'  '001P100N100C'   'Y'   '-'  20230104          25  ...   \n",
       "\n",
       "     /Analysis/transform_corrupt.mat  \\\n",
       "18                             False   \n",
       "25                             False   \n",
       "38                             False   \n",
       "78                             False   \n",
       "101                            False   \n",
       "...                              ...   \n",
       "1679                           False   \n",
       "1685                           False   \n",
       "1700                           False   \n",
       "1737                           False   \n",
       "1756                           False   \n",
       "\n",
       "     /Analysis/skeleton_realigned_compressed.mat /Analysis/nx_graph_pruned.p  \\\n",
       "18                                          True                        True   \n",
       "25                                         False                       False   \n",
       "38                                          True                        True   \n",
       "78                                         False                       False   \n",
       "101                                        False                       False   \n",
       "...                                          ...                         ...   \n",
       "1679                                        True                        True   \n",
       "1685                                        True                        True   \n",
       "1700                                        True                        True   \n",
       "1737                                       False                       False   \n",
       "1756                                        True                        True   \n",
       "\n",
       "     /Analysis/nx_graph_pruned_width.p /Analysis/nx_graph_pruned_labeled.p  \\\n",
       "18                                True                                True   \n",
       "25                               False                               False   \n",
       "38                                True                                True   \n",
       "78                               False                               False   \n",
       "101                              False                               False   \n",
       "...                                ...                                 ...   \n",
       "1679                              True                                True   \n",
       "1685                              True                                True   \n",
       "1700                              True                                True   \n",
       "1737                             False                               False   \n",
       "1756                              True                                True   \n",
       "\n",
       "                    date                 folder Temp     unique_id  \\\n",
       "18    06.01.2023, 17:49:  20230106_1749_Plate02  NaN  521_20230104   \n",
       "25    25.01.2023, 05:54:  20230125_0554_Plate02  NaN  521_20230104   \n",
       "38    10.01.2023, 15:46:  20230110_1546_Plate02  NaN  521_20230104   \n",
       "78    23.01.2023, 15:54:  20230123_1554_Plate02  NaN  521_20230104   \n",
       "101   24.01.2023, 21:54:  20230124_2154_Plate02  NaN  521_20230104   \n",
       "...                  ...                    ...  ...           ...   \n",
       "1679  12.01.2023, 05:49:  20230112_0549_Plate02  NaN  521_20230104   \n",
       "1685  09.01.2023, 14:09:  20230109_1409_Plate02  NaN  521_20230104   \n",
       "1700  05.01.2023, 08:33:  20230105_0833_Plate02  NaN  521_20230104   \n",
       "1737  24.01.2023, 09:54:  20230124_0954_Plate02  NaN  521_20230104   \n",
       "1756  11.01.2023, 07:46:  20230111_0746_Plate02  NaN  521_20230104   \n",
       "\n",
       "                datetime  \n",
       "18   2023-01-06 17:49:00  \n",
       "25   2023-01-25 05:54:00  \n",
       "38   2023-01-10 15:46:00  \n",
       "78   2023-01-23 15:54:00  \n",
       "101  2023-01-24 21:54:00  \n",
       "...                  ...  \n",
       "1679 2023-01-12 05:49:00  \n",
       "1685 2023-01-09 14:09:00  \n",
       "1700 2023-01-05 08:33:00  \n",
       "1737 2023-01-24 09:54:00  \n",
       "1756 2023-01-11 07:46:00  \n",
       "\n",
       "[96 rows x 25 columns]"
      ]
     },
     "execution_count": 7,
     "metadata": {},
     "output_type": "execute_result"
    }
   ],
>>>>>>> 32a9d59dd8e808d26fbbd8cb90159fecc49f3687
   "source": [
    "folders.loc[folders[\"/Analysis/transform.mat\"] == True]"
   ]
  },
  {
   "cell_type": "code",
<<<<<<< HEAD
   "execution_count": null,
   "id": "4266288f-27bc-4a79-a988-44eea70c16d2",
   "metadata": {
=======
   "execution_count": 12,
   "id": "4266288f-27bc-4a79-a988-44eea70c16d2",
   "metadata": {
    "collapsed": true,
>>>>>>> 32a9d59dd8e808d26fbbd8cb90159fecc49f3687
    "jupyter": {
     "outputs_hidden": true
    },
    "tags": []
   },
<<<<<<< HEAD
   "outputs": [],
   "source": [
    "from amftrack.pipeline.launching.run_super import run_parallel, run_launcher\n",
    "\n",
    "name_job = \"malin\"\n",
    "stage = 30\n",
    "args = [directory_targ]\n",
    "for plate in plates:\n",
    "    select = folders.loc[folders[\"unique_id\"] == plate]\n",
    "    num_parallel = 32\n",
    "    time = \"10:00\"\n",
    "    args = [directory_targ]\n",
    "    run_parallel(\n",
    "        \"realign.py\",\n",
    "        args,\n",
    "        select,\n",
    "        num_parallel,\n",
    "        time,\n",
    "        \"create_realign\",\n",
    "        cpus=32,\n",
    "        node=\"fat\",\n",
    "        name_job=name_job,\n",
    "    )\n",
    "\n",
    "run_launcher(\n",
    "    \"graph_extracter.py\",\n",
    "    [directory_targ, name_job, stage - 1],\n",
    "    plates,\n",
    "    \"3:00:00\",\n",
    "    dependency=True,\n",
    "    name_job=name_job,\n",
    ")"
   ]
  },
  {
   "cell_type": "code",
   "execution_count": null,
   "id": "cc02f898-d953-4d8b-8c1c-eb42711aeb09",
   "metadata": {},
   "outputs": [],
=======
   "outputs": [
    {
     "name": "stderr",
     "output_type": "stream",
     "text": [
      "sbatch: Single-node jobs run on a shared node by default. Add --exclusive if you want to use a node exclusively.\n",
      "sbatch: You will be charged for 0.25 node. A full node consists of 128 CPU cores, 983040 MiB of memory and 0 GPUs and can be shared by up to 4 jobs.\n"
     ]
    },
    {
     "name": "stdout",
     "output_type": "stream",
     "text": [
      "Submitted batch job 1872208\n"
     ]
    },
    {
     "name": "stderr",
     "output_type": "stream",
     "text": [
      "sbatch: Single-node jobs run on a shared node by default. Add --exclusive if you want to use a node exclusively.\n",
      "sbatch: You will be charged for 0.25 node. A full node consists of 128 CPU cores, 983040 MiB of memory and 0 GPUs and can be shared by up to 4 jobs.\n"
     ]
    },
    {
     "name": "stdout",
     "output_type": "stream",
     "text": [
      "Submitted batch job 1872209\n"
     ]
    },
    {
     "name": "stderr",
     "output_type": "stream",
     "text": [
      "sbatch: Single-node jobs run on a shared node by default. Add --exclusive if you want to use a node exclusively.\n",
      "sbatch: You will be charged for 0.25 node. A full node consists of 128 CPU cores, 983040 MiB of memory and 0 GPUs and can be shared by up to 4 jobs.\n"
     ]
    },
    {
     "name": "stdout",
     "output_type": "stream",
     "text": [
      "Submitted batch job 1872210\n"
     ]
    },
    {
     "name": "stderr",
     "output_type": "stream",
     "text": [
      "sbatch: Single-node jobs run on a shared node by default. Add --exclusive if you want to use a node exclusively.\n",
      "sbatch: You will be charged for 0.25 node. A full node consists of 128 CPU cores, 983040 MiB of memory and 0 GPUs and can be shared by up to 4 jobs.\n"
     ]
    },
    {
     "name": "stdout",
     "output_type": "stream",
     "text": [
      "Submitted batch job 1872211\n"
     ]
    },
    {
     "name": "stderr",
     "output_type": "stream",
     "text": [
      "sbatch: Single-node jobs run on a shared node by default. Add --exclusive if you want to use a node exclusively.\n",
      "sbatch: You will be charged for 0.25 node. A full node consists of 128 CPU cores, 983040 MiB of memory and 0 GPUs and can be shared by up to 4 jobs.\n"
     ]
    },
    {
     "name": "stdout",
     "output_type": "stream",
     "text": [
      "Submitted batch job 1872212\n"
     ]
    },
    {
     "name": "stderr",
     "output_type": "stream",
     "text": [
      "sbatch: Single-node jobs run on a shared node by default. Add --exclusive if you want to use a node exclusively.\n",
      "sbatch: You will be charged for 0.25 node. A full node consists of 128 CPU cores, 983040 MiB of memory and 0 GPUs and can be shared by up to 4 jobs.\n"
     ]
    },
    {
     "name": "stdout",
     "output_type": "stream",
     "text": [
      "Submitted batch job 1872213\n"
     ]
    },
    {
     "name": "stderr",
     "output_type": "stream",
     "text": [
      "sbatch: Single-node jobs run on a shared node by default. Add --exclusive if you want to use a node exclusively.\n",
      "sbatch: You will be charged for 0.25 node. A full node consists of 128 CPU cores, 983040 MiB of memory and 0 GPUs and can be shared by up to 4 jobs.\n"
     ]
    },
    {
     "name": "stdout",
     "output_type": "stream",
     "text": [
      "Submitted batch job 1872214\n"
     ]
    },
    {
     "name": "stderr",
     "output_type": "stream",
     "text": [
      "sbatch: Single-node jobs run on a shared node by default. Add --exclusive if you want to use a node exclusively.\n",
      "sbatch: You will be charged for 0.25 node. A full node consists of 128 CPU cores, 983040 MiB of memory and 0 GPUs and can be shared by up to 4 jobs.\n"
     ]
    },
    {
     "name": "stdout",
     "output_type": "stream",
     "text": [
      "Submitted batch job 1872215\n"
     ]
    },
    {
     "name": "stderr",
     "output_type": "stream",
     "text": [
      "sbatch: Single-node jobs run on a shared node by default. Add --exclusive if you want to use a node exclusively.\n",
      "sbatch: You will be charged for 0.25 node. A full node consists of 128 CPU cores, 983040 MiB of memory and 0 GPUs and can be shared by up to 4 jobs.\n"
     ]
    },
    {
     "name": "stdout",
     "output_type": "stream",
     "text": [
      "Submitted batch job 1872216\n"
     ]
    },
    {
     "name": "stderr",
     "output_type": "stream",
     "text": [
      "sbatch: Single-node jobs run on a shared node by default. Add --exclusive if you want to use a node exclusively.\n",
      "sbatch: You will be charged for 0.25 node. A full node consists of 128 CPU cores, 983040 MiB of memory and 0 GPUs and can be shared by up to 4 jobs.\n"
     ]
    },
    {
     "name": "stdout",
     "output_type": "stream",
     "text": [
      "Submitted batch job 1872217\n"
     ]
    },
    {
     "name": "stderr",
     "output_type": "stream",
     "text": [
      "sbatch: Single-node jobs run on a shared node by default. Add --exclusive if you want to use a node exclusively.\n",
      "sbatch: You will be charged for 0.25 node. A full node consists of 128 CPU cores, 983040 MiB of memory and 0 GPUs and can be shared by up to 4 jobs.\n"
     ]
    },
    {
     "name": "stdout",
     "output_type": "stream",
     "text": [
      "Submitted batch job 1872218\n"
     ]
    },
    {
     "name": "stderr",
     "output_type": "stream",
     "text": [
      "sbatch: Single-node jobs run on a shared node by default. Add --exclusive if you want to use a node exclusively.\n",
      "sbatch: You will be charged for 0.25 node. A full node consists of 128 CPU cores, 983040 MiB of memory and 0 GPUs and can be shared by up to 4 jobs.\n"
     ]
    },
    {
     "name": "stdout",
     "output_type": "stream",
     "text": [
      "Submitted batch job 1872219\n"
     ]
    },
    {
     "name": "stderr",
     "output_type": "stream",
     "text": [
      "sbatch: Single-node jobs run on a shared node by default. Add --exclusive if you want to use a node exclusively.\n",
      "sbatch: You will be charged for 0.25 node. A full node consists of 128 CPU cores, 983040 MiB of memory and 0 GPUs and can be shared by up to 4 jobs.\n"
     ]
    },
    {
     "name": "stdout",
     "output_type": "stream",
     "text": [
      "Submitted batch job 1872220\n"
     ]
    },
    {
     "name": "stderr",
     "output_type": "stream",
     "text": [
      "sbatch: Single-node jobs run on a shared node by default. Add --exclusive if you want to use a node exclusively.\n",
      "sbatch: You will be charged for 0.25 node. A full node consists of 128 CPU cores, 983040 MiB of memory and 0 GPUs and can be shared by up to 4 jobs.\n"
     ]
    },
    {
     "name": "stdout",
     "output_type": "stream",
     "text": [
      "Submitted batch job 1872221\n"
     ]
    },
    {
     "name": "stderr",
     "output_type": "stream",
     "text": [
      "sbatch: Single-node jobs run on a shared node by default. Add --exclusive if you want to use a node exclusively.\n",
      "sbatch: You will be charged for 0.25 node. A full node consists of 128 CPU cores, 983040 MiB of memory and 0 GPUs and can be shared by up to 4 jobs.\n"
     ]
    },
    {
     "name": "stdout",
     "output_type": "stream",
     "text": [
      "Submitted batch job 1872222\n"
     ]
    },
    {
     "name": "stderr",
     "output_type": "stream",
     "text": [
      "sbatch: Single-node jobs run on a shared node by default. Add --exclusive if you want to use a node exclusively.\n",
      "sbatch: You will be charged for 0.25 node. A full node consists of 128 CPU cores, 983040 MiB of memory and 0 GPUs and can be shared by up to 4 jobs.\n"
     ]
    },
    {
     "name": "stdout",
     "output_type": "stream",
     "text": [
      "Submitted batch job 1872223\n"
     ]
    },
    {
     "name": "stderr",
     "output_type": "stream",
     "text": [
      "sbatch: Single-node jobs run on a shared node by default. Add --exclusive if you want to use a node exclusively.\n",
      "sbatch: You will be charged for 0.25 node. A full node consists of 128 CPU cores, 983040 MiB of memory and 0 GPUs and can be shared by up to 4 jobs.\n"
     ]
    },
    {
     "name": "stdout",
     "output_type": "stream",
     "text": [
      "Submitted batch job 1872224\n"
     ]
    },
    {
     "name": "stderr",
     "output_type": "stream",
     "text": [
      "sbatch: Single-node jobs run on a shared node by default. Add --exclusive if you want to use a node exclusively.\n",
      "sbatch: You will be charged for 0.25 node. A full node consists of 128 CPU cores, 983040 MiB of memory and 0 GPUs and can be shared by up to 4 jobs.\n"
     ]
    },
    {
     "name": "stdout",
     "output_type": "stream",
     "text": [
      "Submitted batch job 1872225\n"
     ]
    },
    {
     "name": "stderr",
     "output_type": "stream",
     "text": [
      "sbatch: Single-node jobs run on a shared node by default. Add --exclusive if you want to use a node exclusively.\n",
      "sbatch: You will be charged for 0.25 node. A full node consists of 128 CPU cores, 983040 MiB of memory and 0 GPUs and can be shared by up to 4 jobs.\n"
     ]
    },
    {
     "name": "stdout",
     "output_type": "stream",
     "text": [
      "Submitted batch job 1872226\n"
     ]
    },
    {
     "name": "stderr",
     "output_type": "stream",
     "text": [
      "sbatch: Single-node jobs run on a shared node by default. Add --exclusive if you want to use a node exclusively.\n",
      "sbatch: You will be charged for 0.25 node. A full node consists of 128 CPU cores, 983040 MiB of memory and 0 GPUs and can be shared by up to 4 jobs.\n"
     ]
    },
    {
     "name": "stdout",
     "output_type": "stream",
     "text": [
      "Submitted batch job 1872227\n"
     ]
    },
    {
     "name": "stderr",
     "output_type": "stream",
     "text": [
      "sbatch: Single-node jobs run on a shared node by default. Add --exclusive if you want to use a node exclusively.\n",
      "sbatch: You will be charged for 0.25 node. A full node consists of 128 CPU cores, 983040 MiB of memory and 0 GPUs and can be shared by up to 4 jobs.\n"
     ]
    },
    {
     "name": "stdout",
     "output_type": "stream",
     "text": [
      "Submitted batch job 1872228\n"
     ]
    },
    {
     "name": "stderr",
     "output_type": "stream",
     "text": [
      "sbatch: Single-node jobs run on a shared node by default. Add --exclusive if you want to use a node exclusively.\n",
      "sbatch: You will be charged for 0.25 node. A full node consists of 128 CPU cores, 983040 MiB of memory and 0 GPUs and can be shared by up to 4 jobs.\n"
     ]
    },
    {
     "name": "stdout",
     "output_type": "stream",
     "text": [
      "Submitted batch job 1872229\n"
     ]
    },
    {
     "name": "stderr",
     "output_type": "stream",
     "text": [
      "sbatch: Single-node jobs run on a shared node by default. Add --exclusive if you want to use a node exclusively.\n",
      "sbatch: You will be charged for 0.25 node. A full node consists of 128 CPU cores, 983040 MiB of memory and 0 GPUs and can be shared by up to 4 jobs.\n"
     ]
    },
    {
     "name": "stdout",
     "output_type": "stream",
     "text": [
      "Submitted batch job 1872230\n"
     ]
    },
    {
     "name": "stderr",
     "output_type": "stream",
     "text": [
      "sbatch: Single-node jobs run on a shared node by default. Add --exclusive if you want to use a node exclusively.\n",
      "sbatch: You will be charged for 0.25 node. A full node consists of 128 CPU cores, 983040 MiB of memory and 0 GPUs and can be shared by up to 4 jobs.\n"
     ]
    },
    {
     "name": "stdout",
     "output_type": "stream",
     "text": [
      "Submitted batch job 1872231\n"
     ]
    },
    {
     "name": "stderr",
     "output_type": "stream",
     "text": [
      "sbatch: Single-node jobs run on a shared node by default. Add --exclusive if you want to use a node exclusively.\n",
      "sbatch: You will be charged for 0.25 node. A full node consists of 128 CPU cores, 983040 MiB of memory and 0 GPUs and can be shared by up to 4 jobs.\n"
     ]
    },
    {
     "name": "stdout",
     "output_type": "stream",
     "text": [
      "Submitted batch job 1872232\n"
     ]
    },
    {
     "name": "stderr",
     "output_type": "stream",
     "text": [
      "sbatch: Single-node jobs run on a shared node by default. Add --exclusive if you want to use a node exclusively.\n",
      "sbatch: You will be charged for 0.25 node. A full node consists of 128 CPU cores, 983040 MiB of memory and 0 GPUs and can be shared by up to 4 jobs.\n"
     ]
    },
    {
     "name": "stdout",
     "output_type": "stream",
     "text": [
      "Submitted batch job 1872233\n"
     ]
    },
    {
     "name": "stderr",
     "output_type": "stream",
     "text": [
      "sbatch: Single-node jobs run on a shared node by default. Add --exclusive if you want to use a node exclusively.\n",
      "sbatch: You will be charged for 0.25 node. A full node consists of 128 CPU cores, 983040 MiB of memory and 0 GPUs and can be shared by up to 4 jobs.\n"
     ]
    },
    {
     "name": "stdout",
     "output_type": "stream",
     "text": [
      "Submitted batch job 1872234\n"
     ]
    },
    {
     "name": "stderr",
     "output_type": "stream",
     "text": [
      "sbatch: Single-node jobs run on a shared node by default. Add --exclusive if you want to use a node exclusively.\n",
      "sbatch: You will be charged for 0.25 node. A full node consists of 128 CPU cores, 983040 MiB of memory and 0 GPUs and can be shared by up to 4 jobs.\n"
     ]
    },
    {
     "name": "stdout",
     "output_type": "stream",
     "text": [
      "Submitted batch job 1872235\n"
     ]
    },
    {
     "name": "stderr",
     "output_type": "stream",
     "text": [
      "sbatch: Single-node jobs run on a shared node by default. Add --exclusive if you want to use a node exclusively.\n",
      "sbatch: You will be charged for 0.25 node. A full node consists of 128 CPU cores, 983040 MiB of memory and 0 GPUs and can be shared by up to 4 jobs.\n"
     ]
    },
    {
     "name": "stdout",
     "output_type": "stream",
     "text": [
      "Submitted batch job 1872236\n"
     ]
    },
    {
     "name": "stderr",
     "output_type": "stream",
     "text": [
      "sbatch: Single-node jobs run on a shared node by default. Add --exclusive if you want to use a node exclusively.\n",
      "sbatch: You will be charged for 0.25 node. A full node consists of 128 CPU cores, 983040 MiB of memory and 0 GPUs and can be shared by up to 4 jobs.\n"
     ]
    },
    {
     "name": "stdout",
     "output_type": "stream",
     "text": [
      "Submitted batch job 1872237\n"
     ]
    },
    {
     "name": "stderr",
     "output_type": "stream",
     "text": [
      "sbatch: Single-node jobs run on a shared node by default. Add --exclusive if you want to use a node exclusively.\n",
      "sbatch: You will be charged for 0.25 node. A full node consists of 128 CPU cores, 983040 MiB of memory and 0 GPUs and can be shared by up to 4 jobs.\n"
     ]
    },
    {
     "name": "stdout",
     "output_type": "stream",
     "text": [
      "Submitted batch job 1872238\n"
     ]
    },
    {
     "name": "stderr",
     "output_type": "stream",
     "text": [
      "sbatch: Single-node jobs run on a shared node by default. Add --exclusive if you want to use a node exclusively.\n",
      "sbatch: You will be charged for 0.25 node. A full node consists of 128 CPU cores, 983040 MiB of memory and 0 GPUs and can be shared by up to 4 jobs.\n"
     ]
    },
    {
     "name": "stdout",
     "output_type": "stream",
     "text": [
      "Submitted batch job 1872239\n"
     ]
    },
    {
     "name": "stderr",
     "output_type": "stream",
     "text": [
      "sbatch: Single-node jobs run on a shared node by default. Add --exclusive if you want to use a node exclusively.\n",
      "sbatch: You will be charged for 0.25 node. A full node consists of 128 CPU cores, 983040 MiB of memory and 0 GPUs and can be shared by up to 4 jobs.\n"
     ]
    },
    {
     "name": "stdout",
     "output_type": "stream",
     "text": [
      "Submitted batch job 1872240\n"
     ]
    },
    {
     "name": "stderr",
     "output_type": "stream",
     "text": [
      "sbatch: Single-node jobs run on a shared node by default. Add --exclusive if you want to use a node exclusively.\n",
      "sbatch: You will be charged for 0.25 node. A full node consists of 128 CPU cores, 983040 MiB of memory and 0 GPUs and can be shared by up to 4 jobs.\n"
     ]
    },
    {
     "name": "stdout",
     "output_type": "stream",
     "text": [
      "Submitted batch job 1872241\n"
     ]
    },
    {
     "name": "stderr",
     "output_type": "stream",
     "text": [
      "sbatch: Single-node jobs run on a shared node by default. Add --exclusive if you want to use a node exclusively.\n",
      "sbatch: You will be charged for 0.25 node. A full node consists of 128 CPU cores, 983040 MiB of memory and 0 GPUs and can be shared by up to 4 jobs.\n"
     ]
    },
    {
     "name": "stdout",
     "output_type": "stream",
     "text": [
      "Submitted batch job 1872242\n"
     ]
    },
    {
     "name": "stderr",
     "output_type": "stream",
     "text": [
      "sbatch: Single-node jobs run on a shared node by default. Add --exclusive if you want to use a node exclusively.\n",
      "sbatch: You will be charged for 0.25 node. A full node consists of 128 CPU cores, 983040 MiB of memory and 0 GPUs and can be shared by up to 4 jobs.\n"
     ]
    },
    {
     "name": "stdout",
     "output_type": "stream",
     "text": [
      "Submitted batch job 1872243\n",
      "Submitted batch job 1872244\n"
     ]
    },
    {
     "name": "stderr",
     "output_type": "stream",
     "text": [
      "sbatch: Single-node jobs run on a shared node by default. Add --exclusive if you want to use a node exclusively.\n",
      "sbatch: You will be charged for 0.25 node. A full node consists of 128 CPU cores, 983040 MiB of memory and 0 GPUs and can be shared by up to 4 jobs.\n",
      "sbatch: Single-node jobs run on a shared node by default. Add --exclusive if you want to use a node exclusively.\n",
      "sbatch: You will be charged for 0.25 node. A full node consists of 128 CPU cores, 983040 MiB of memory and 0 GPUs and can be shared by up to 4 jobs.\n"
     ]
    },
    {
     "name": "stdout",
     "output_type": "stream",
     "text": [
      "Submitted batch job 1872245\n"
     ]
    },
    {
     "name": "stderr",
     "output_type": "stream",
     "text": [
      "sbatch: Single-node jobs run on a shared node by default. Add --exclusive if you want to use a node exclusively.\n",
      "sbatch: You will be charged for 0.25 node. A full node consists of 128 CPU cores, 983040 MiB of memory and 0 GPUs and can be shared by up to 4 jobs.\n"
     ]
    },
    {
     "name": "stdout",
     "output_type": "stream",
     "text": [
      "Submitted batch job 1872246\n"
     ]
    },
    {
     "name": "stderr",
     "output_type": "stream",
     "text": [
      "sbatch: Single-node jobs run on a shared node by default. Add --exclusive if you want to use a node exclusively.\n",
      "sbatch: You will be charged for 0.25 node. A full node consists of 128 CPU cores, 983040 MiB of memory and 0 GPUs and can be shared by up to 4 jobs.\n"
     ]
    },
    {
     "name": "stdout",
     "output_type": "stream",
     "text": [
      "Submitted batch job 1872247\n"
     ]
    },
    {
     "name": "stderr",
     "output_type": "stream",
     "text": [
      "sbatch: Single-node jobs run on a shared node by default. Add --exclusive if you want to use a node exclusively.\n",
      "sbatch: You will be charged for 0.25 node. A full node consists of 128 CPU cores, 983040 MiB of memory and 0 GPUs and can be shared by up to 4 jobs.\n"
     ]
    },
    {
     "name": "stdout",
     "output_type": "stream",
     "text": [
      "Submitted batch job 1872248\n"
     ]
    },
    {
     "name": "stderr",
     "output_type": "stream",
     "text": [
      "sbatch: Single-node jobs run on a shared node by default. Add --exclusive if you want to use a node exclusively.\n",
      "sbatch: You will be charged for 0.25 node. A full node consists of 128 CPU cores, 983040 MiB of memory and 0 GPUs and can be shared by up to 4 jobs.\n"
     ]
    },
    {
     "name": "stdout",
     "output_type": "stream",
     "text": [
      "Submitted batch job 1872249\n"
     ]
    },
    {
     "name": "stderr",
     "output_type": "stream",
     "text": [
      "sbatch: Single-node jobs run on a shared node by default. Add --exclusive if you want to use a node exclusively.\n",
      "sbatch: You will be charged for 0.25 node. A full node consists of 128 CPU cores, 983040 MiB of memory and 0 GPUs and can be shared by up to 4 jobs.\n"
     ]
    },
    {
     "name": "stdout",
     "output_type": "stream",
     "text": [
      "Submitted batch job 1872250\n"
     ]
    },
    {
     "name": "stderr",
     "output_type": "stream",
     "text": [
      "sbatch: Single-node jobs run on a shared node by default. Add --exclusive if you want to use a node exclusively.\n",
      "sbatch: You will be charged for 0.25 node. A full node consists of 128 CPU cores, 983040 MiB of memory and 0 GPUs and can be shared by up to 4 jobs.\n"
     ]
    },
    {
     "name": "stdout",
     "output_type": "stream",
     "text": [
      "Submitted batch job 1872251\n"
     ]
    },
    {
     "name": "stderr",
     "output_type": "stream",
     "text": [
      "sbatch: Single-node jobs run on a shared node by default. Add --exclusive if you want to use a node exclusively.\n",
      "sbatch: You will be charged for 0.25 node. A full node consists of 128 CPU cores, 983040 MiB of memory and 0 GPUs and can be shared by up to 4 jobs.\n"
     ]
    },
    {
     "name": "stdout",
     "output_type": "stream",
     "text": [
      "Submitted batch job 1872252\n"
     ]
    },
    {
     "name": "stderr",
     "output_type": "stream",
     "text": [
      "sbatch: Single-node jobs run on a shared node by default. Add --exclusive if you want to use a node exclusively.\n",
      "sbatch: You will be charged for 0.25 node. A full node consists of 128 CPU cores, 983040 MiB of memory and 0 GPUs and can be shared by up to 4 jobs.\n"
     ]
    },
    {
     "name": "stdout",
     "output_type": "stream",
     "text": [
      "Submitted batch job 1872253\n"
     ]
    },
    {
     "name": "stderr",
     "output_type": "stream",
     "text": [
      "sbatch: Single-node jobs run on a shared node by default. Add --exclusive if you want to use a node exclusively.\n",
      "sbatch: You will be charged for 0.25 node. A full node consists of 128 CPU cores, 983040 MiB of memory and 0 GPUs and can be shared by up to 4 jobs.\n"
     ]
    },
    {
     "name": "stdout",
     "output_type": "stream",
     "text": [
      "Submitted batch job 1872254\n"
     ]
    },
    {
     "name": "stderr",
     "output_type": "stream",
     "text": [
      "sbatch: Single-node jobs run on a shared node by default. Add --exclusive if you want to use a node exclusively.\n",
      "sbatch: You will be charged for 0.25 node. A full node consists of 128 CPU cores, 983040 MiB of memory and 0 GPUs and can be shared by up to 4 jobs.\n"
     ]
    },
    {
     "name": "stdout",
     "output_type": "stream",
     "text": [
      "Submitted batch job 1872255\n"
     ]
    },
    {
     "name": "stderr",
     "output_type": "stream",
     "text": [
      "sbatch: Single-node jobs run on a shared node by default. Add --exclusive if you want to use a node exclusively.\n",
      "sbatch: You will be charged for 0.25 node. A full node consists of 128 CPU cores, 983040 MiB of memory and 0 GPUs and can be shared by up to 4 jobs.\n"
     ]
    },
    {
     "name": "stdout",
     "output_type": "stream",
     "text": [
      "Submitted batch job 1872256\n"
     ]
    },
    {
     "name": "stderr",
     "output_type": "stream",
     "text": [
      "sbatch: Single-node jobs run on a shared node by default. Add --exclusive if you want to use a node exclusively.\n",
      "sbatch: You will be charged for 0.25 node. A full node consists of 128 CPU cores, 983040 MiB of memory and 0 GPUs and can be shared by up to 4 jobs.\n"
     ]
    },
    {
     "name": "stdout",
     "output_type": "stream",
     "text": [
      "Submitted batch job 1872257\n"
     ]
    },
    {
     "name": "stderr",
     "output_type": "stream",
     "text": [
      "sbatch: Single-node jobs run on a shared node by default. Add --exclusive if you want to use a node exclusively.\n",
      "sbatch: You will be charged for 0.25 node. A full node consists of 128 CPU cores, 983040 MiB of memory and 0 GPUs and can be shared by up to 4 jobs.\n"
     ]
    },
    {
     "name": "stdout",
     "output_type": "stream",
     "text": [
      "Submitted batch job 1872258\n"
     ]
    },
    {
     "name": "stderr",
     "output_type": "stream",
     "text": [
      "sbatch: Single-node jobs run on a shared node by default. Add --exclusive if you want to use a node exclusively.\n",
      "sbatch: You will be charged for 0.25 node. A full node consists of 128 CPU cores, 983040 MiB of memory and 0 GPUs and can be shared by up to 4 jobs.\n"
     ]
    },
    {
     "name": "stdout",
     "output_type": "stream",
     "text": [
      "Submitted batch job 1872259\n"
     ]
    },
    {
     "name": "stderr",
     "output_type": "stream",
     "text": [
      "sbatch: Single-node jobs run on a shared node by default. Add --exclusive if you want to use a node exclusively.\n",
      "sbatch: You will be charged for 0.25 node. A full node consists of 128 CPU cores, 983040 MiB of memory and 0 GPUs and can be shared by up to 4 jobs.\n"
     ]
    },
    {
     "name": "stdout",
     "output_type": "stream",
     "text": [
      "Submitted batch job 1872260\n"
     ]
    },
    {
     "name": "stderr",
     "output_type": "stream",
     "text": [
      "sbatch: Single-node jobs run on a shared node by default. Add --exclusive if you want to use a node exclusively.\n",
      "sbatch: You will be charged for 0.25 node. A full node consists of 128 CPU cores, 983040 MiB of memory and 0 GPUs and can be shared by up to 4 jobs.\n"
     ]
    },
    {
     "name": "stdout",
     "output_type": "stream",
     "text": [
      "Submitted batch job 1872261\n"
     ]
    },
    {
     "name": "stderr",
     "output_type": "stream",
     "text": [
      "sbatch: Single-node jobs run on a shared node by default. Add --exclusive if you want to use a node exclusively.\n",
      "sbatch: You will be charged for 0.25 node. A full node consists of 128 CPU cores, 983040 MiB of memory and 0 GPUs and can be shared by up to 4 jobs.\n"
     ]
    },
    {
     "name": "stdout",
     "output_type": "stream",
     "text": [
      "Submitted batch job 1872262\n"
     ]
    },
    {
     "name": "stderr",
     "output_type": "stream",
     "text": [
      "sbatch: Single-node jobs run on a shared node by default. Add --exclusive if you want to use a node exclusively.\n",
      "sbatch: You will be charged for 0.25 node. A full node consists of 128 CPU cores, 983040 MiB of memory and 0 GPUs and can be shared by up to 4 jobs.\n"
     ]
    },
    {
     "name": "stdout",
     "output_type": "stream",
     "text": [
      "Submitted batch job 1872263\n"
     ]
    },
    {
     "name": "stderr",
     "output_type": "stream",
     "text": [
      "sbatch: Single-node jobs run on a shared node by default. Add --exclusive if you want to use a node exclusively.\n",
      "sbatch: You will be charged for 0.25 node. A full node consists of 128 CPU cores, 983040 MiB of memory and 0 GPUs and can be shared by up to 4 jobs.\n"
     ]
    },
    {
     "name": "stdout",
     "output_type": "stream",
     "text": [
      "Submitted batch job 1872264\n"
     ]
    },
    {
     "name": "stderr",
     "output_type": "stream",
     "text": [
      "sbatch: Single-node jobs run on a shared node by default. Add --exclusive if you want to use a node exclusively.\n",
      "sbatch: You will be charged for 0.25 node. A full node consists of 128 CPU cores, 983040 MiB of memory and 0 GPUs and can be shared by up to 4 jobs.\n"
     ]
    },
    {
     "name": "stdout",
     "output_type": "stream",
     "text": [
      "Submitted batch job 1872265\n"
     ]
    },
    {
     "name": "stderr",
     "output_type": "stream",
     "text": [
      "sbatch: Single-node jobs run on a shared node by default. Add --exclusive if you want to use a node exclusively.\n",
      "sbatch: You will be charged for 0.25 node. A full node consists of 128 CPU cores, 983040 MiB of memory and 0 GPUs and can be shared by up to 4 jobs.\n"
     ]
    },
    {
     "name": "stdout",
     "output_type": "stream",
     "text": [
      "Submitted batch job 1872266\n"
     ]
    },
    {
     "name": "stderr",
     "output_type": "stream",
     "text": [
      "sbatch: Single-node jobs run on a shared node by default. Add --exclusive if you want to use a node exclusively.\n",
      "sbatch: You will be charged for 0.25 node. A full node consists of 128 CPU cores, 983040 MiB of memory and 0 GPUs and can be shared by up to 4 jobs.\n"
     ]
    },
    {
     "name": "stdout",
     "output_type": "stream",
     "text": [
      "Submitted batch job 1872267\n"
     ]
    },
    {
     "name": "stderr",
     "output_type": "stream",
     "text": [
      "sbatch: Single-node jobs run on a shared node by default. Add --exclusive if you want to use a node exclusively.\n",
      "sbatch: You will be charged for 0.25 node. A full node consists of 128 CPU cores, 983040 MiB of memory and 0 GPUs and can be shared by up to 4 jobs.\n"
     ]
    },
    {
     "name": "stdout",
     "output_type": "stream",
     "text": [
      "Submitted batch job 1872268\n"
     ]
    },
    {
     "name": "stderr",
     "output_type": "stream",
     "text": [
      "sbatch: Single-node jobs run on a shared node by default. Add --exclusive if you want to use a node exclusively.\n",
      "sbatch: You will be charged for 0.25 node. A full node consists of 128 CPU cores, 983040 MiB of memory and 0 GPUs and can be shared by up to 4 jobs.\n"
     ]
    },
    {
     "name": "stdout",
     "output_type": "stream",
     "text": [
      "Submitted batch job 1872269\n"
     ]
    },
    {
     "name": "stderr",
     "output_type": "stream",
     "text": [
      "sbatch: Single-node jobs run on a shared node by default. Add --exclusive if you want to use a node exclusively.\n",
      "sbatch: You will be charged for 0.25 node. A full node consists of 128 CPU cores, 983040 MiB of memory and 0 GPUs and can be shared by up to 4 jobs.\n"
     ]
    },
    {
     "name": "stdout",
     "output_type": "stream",
     "text": [
      "Submitted batch job 1872270\n"
     ]
    },
    {
     "name": "stderr",
     "output_type": "stream",
     "text": [
      "sbatch: Single-node jobs run on a shared node by default. Add --exclusive if you want to use a node exclusively.\n",
      "sbatch: You will be charged for 0.25 node. A full node consists of 128 CPU cores, 983040 MiB of memory and 0 GPUs and can be shared by up to 4 jobs.\n"
     ]
    },
    {
     "name": "stdout",
     "output_type": "stream",
     "text": [
      "Submitted batch job 1872271\n"
     ]
    },
    {
     "name": "stderr",
     "output_type": "stream",
     "text": [
      "sbatch: Single-node jobs run on a shared node by default. Add --exclusive if you want to use a node exclusively.\n",
      "sbatch: You will be charged for 0.25 node. A full node consists of 128 CPU cores, 983040 MiB of memory and 0 GPUs and can be shared by up to 4 jobs.\n"
     ]
    },
    {
     "name": "stdout",
     "output_type": "stream",
     "text": [
      "Submitted batch job 1872272\n"
     ]
    },
    {
     "name": "stderr",
     "output_type": "stream",
     "text": [
      "sbatch: Single-node jobs run on a shared node by default. Add --exclusive if you want to use a node exclusively.\n",
      "sbatch: You will be charged for 0.25 node. A full node consists of 128 CPU cores, 983040 MiB of memory and 0 GPUs and can be shared by up to 4 jobs.\n"
     ]
    },
    {
     "name": "stdout",
     "output_type": "stream",
     "text": [
      "Submitted batch job 1872273\n"
     ]
    },
    {
     "name": "stderr",
     "output_type": "stream",
     "text": [
      "sbatch: Single-node jobs run on a shared node by default. Add --exclusive if you want to use a node exclusively.\n",
      "sbatch: You will be charged for 0.25 node. A full node consists of 128 CPU cores, 983040 MiB of memory and 0 GPUs and can be shared by up to 4 jobs.\n"
     ]
    },
    {
     "name": "stdout",
     "output_type": "stream",
     "text": [
      "Submitted batch job 1872274\n"
     ]
    },
    {
     "name": "stderr",
     "output_type": "stream",
     "text": [
      "sbatch: Single-node jobs run on a shared node by default. Add --exclusive if you want to use a node exclusively.\n",
      "sbatch: You will be charged for 0.25 node. A full node consists of 128 CPU cores, 983040 MiB of memory and 0 GPUs and can be shared by up to 4 jobs.\n"
     ]
    },
    {
     "name": "stdout",
     "output_type": "stream",
     "text": [
      "Submitted batch job 1872275\n"
     ]
    },
    {
     "name": "stderr",
     "output_type": "stream",
     "text": [
      "sbatch: Single-node jobs run on a shared node by default. Add --exclusive if you want to use a node exclusively.\n",
      "sbatch: You will be charged for 0.25 node. A full node consists of 128 CPU cores, 983040 MiB of memory and 0 GPUs and can be shared by up to 4 jobs.\n"
     ]
    },
    {
     "name": "stdout",
     "output_type": "stream",
     "text": [
      "Submitted batch job 1872276\n"
     ]
    },
    {
     "name": "stderr",
     "output_type": "stream",
     "text": [
      "sbatch: Single-node jobs run on a shared node by default. Add --exclusive if you want to use a node exclusively.\n",
      "sbatch: You will be charged for 0.25 node. A full node consists of 128 CPU cores, 983040 MiB of memory and 0 GPUs and can be shared by up to 4 jobs.\n"
     ]
    },
    {
     "name": "stdout",
     "output_type": "stream",
     "text": [
      "Submitted batch job 1872277\n"
     ]
    },
    {
     "name": "stderr",
     "output_type": "stream",
     "text": [
      "sbatch: Single-node jobs run on a shared node by default. Add --exclusive if you want to use a node exclusively.\n",
      "sbatch: You will be charged for 0.25 node. A full node consists of 128 CPU cores, 983040 MiB of memory and 0 GPUs and can be shared by up to 4 jobs.\n"
     ]
    },
    {
     "name": "stdout",
     "output_type": "stream",
     "text": [
      "Submitted batch job 1872278\n"
     ]
    },
    {
     "name": "stderr",
     "output_type": "stream",
     "text": [
      "sbatch: Single-node jobs run on a shared node by default. Add --exclusive if you want to use a node exclusively.\n",
      "sbatch: You will be charged for 0.25 node. A full node consists of 128 CPU cores, 983040 MiB of memory and 0 GPUs and can be shared by up to 4 jobs.\n"
     ]
    },
    {
     "name": "stdout",
     "output_type": "stream",
     "text": [
      "Submitted batch job 1872279\n"
     ]
    },
    {
     "name": "stderr",
     "output_type": "stream",
     "text": [
      "sbatch: Single-node jobs run on a shared node by default. Add --exclusive if you want to use a node exclusively.\n",
      "sbatch: You will be charged for 0.25 node. A full node consists of 128 CPU cores, 983040 MiB of memory and 0 GPUs and can be shared by up to 4 jobs.\n"
     ]
    },
    {
     "name": "stdout",
     "output_type": "stream",
     "text": [
      "Submitted batch job 1872280\n"
     ]
    },
    {
     "name": "stderr",
     "output_type": "stream",
     "text": [
      "sbatch: Single-node jobs run on a shared node by default. Add --exclusive if you want to use a node exclusively.\n",
      "sbatch: You will be charged for 0.25 node. A full node consists of 128 CPU cores, 983040 MiB of memory and 0 GPUs and can be shared by up to 4 jobs.\n"
     ]
    },
    {
     "name": "stdout",
     "output_type": "stream",
     "text": [
      "Submitted batch job 1872281\n"
     ]
    },
    {
     "name": "stderr",
     "output_type": "stream",
     "text": [
      "sbatch: Single-node jobs run on a shared node by default. Add --exclusive if you want to use a node exclusively.\n",
      "sbatch: You will be charged for 0.25 node. A full node consists of 128 CPU cores, 983040 MiB of memory and 0 GPUs and can be shared by up to 4 jobs.\n"
     ]
    },
    {
     "name": "stdout",
     "output_type": "stream",
     "text": [
      "Submitted batch job 1872282\n"
     ]
    },
    {
     "name": "stderr",
     "output_type": "stream",
     "text": [
      "sbatch: Single-node jobs run on a shared node by default. Add --exclusive if you want to use a node exclusively.\n",
      "sbatch: You will be charged for 0.25 node. A full node consists of 128 CPU cores, 983040 MiB of memory and 0 GPUs and can be shared by up to 4 jobs.\n"
     ]
    },
    {
     "name": "stdout",
     "output_type": "stream",
     "text": [
      "Submitted batch job 1872283\n"
     ]
    },
    {
     "name": "stderr",
     "output_type": "stream",
     "text": [
      "sbatch: Single-node jobs run on a shared node by default. Add --exclusive if you want to use a node exclusively.\n",
      "sbatch: You will be charged for 0.25 node. A full node consists of 128 CPU cores, 983040 MiB of memory and 0 GPUs and can be shared by up to 4 jobs.\n"
     ]
    },
    {
     "name": "stdout",
     "output_type": "stream",
     "text": [
      "Submitted batch job 1872284\n"
     ]
    },
    {
     "name": "stderr",
     "output_type": "stream",
     "text": [
      "sbatch: Single-node jobs run on a shared node by default. Add --exclusive if you want to use a node exclusively.\n",
      "sbatch: You will be charged for 0.25 node. A full node consists of 128 CPU cores, 983040 MiB of memory and 0 GPUs and can be shared by up to 4 jobs.\n"
     ]
    },
    {
     "name": "stdout",
     "output_type": "stream",
     "text": [
      "Submitted batch job 1872285\n"
     ]
    },
    {
     "name": "stderr",
     "output_type": "stream",
     "text": [
      "sbatch: Single-node jobs run on a shared node by default. Add --exclusive if you want to use a node exclusively.\n",
      "sbatch: You will be charged for 0.25 node. A full node consists of 128 CPU cores, 983040 MiB of memory and 0 GPUs and can be shared by up to 4 jobs.\n"
     ]
    },
    {
     "name": "stdout",
     "output_type": "stream",
     "text": [
      "Submitted batch job 1872286\n"
     ]
    },
    {
     "name": "stderr",
     "output_type": "stream",
     "text": [
      "sbatch: Single-node jobs run on a shared node by default. Add --exclusive if you want to use a node exclusively.\n",
      "sbatch: You will be charged for 0.25 node. A full node consists of 128 CPU cores, 983040 MiB of memory and 0 GPUs and can be shared by up to 4 jobs.\n"
     ]
    },
    {
     "name": "stdout",
     "output_type": "stream",
     "text": [
      "Submitted batch job 1872287\n"
     ]
    },
    {
     "name": "stderr",
     "output_type": "stream",
     "text": [
      "sbatch: Single-node jobs run on a shared node by default. Add --exclusive if you want to use a node exclusively.\n",
      "sbatch: You will be charged for 0.25 node. A full node consists of 128 CPU cores, 983040 MiB of memory and 0 GPUs and can be shared by up to 4 jobs.\n"
     ]
    },
    {
     "name": "stdout",
     "output_type": "stream",
     "text": [
      "Submitted batch job 1872288\n"
     ]
    },
    {
     "name": "stderr",
     "output_type": "stream",
     "text": [
      "sbatch: Single-node jobs run on a shared node by default. Add --exclusive if you want to use a node exclusively.\n",
      "sbatch: You will be charged for 0.25 node. A full node consists of 128 CPU cores, 983040 MiB of memory and 0 GPUs and can be shared by up to 4 jobs.\n"
     ]
    },
    {
     "name": "stdout",
     "output_type": "stream",
     "text": [
      "Submitted batch job 1872289\n"
     ]
    },
    {
     "name": "stderr",
     "output_type": "stream",
     "text": [
      "sbatch: Single-node jobs run on a shared node by default. Add --exclusive if you want to use a node exclusively.\n",
      "sbatch: You will be charged for 0.25 node. A full node consists of 128 CPU cores, 983040 MiB of memory and 0 GPUs and can be shared by up to 4 jobs.\n"
     ]
    },
    {
     "name": "stdout",
     "output_type": "stream",
     "text": [
      "Submitted batch job 1872290\n"
     ]
    },
    {
     "name": "stderr",
     "output_type": "stream",
     "text": [
      "sbatch: Single-node jobs run on a shared node by default. Add --exclusive if you want to use a node exclusively.\n",
      "sbatch: You will be charged for 0.25 node. A full node consists of 128 CPU cores, 983040 MiB of memory and 0 GPUs and can be shared by up to 4 jobs.\n"
     ]
    },
    {
     "name": "stdout",
     "output_type": "stream",
     "text": [
      "Submitted batch job 1872291\n",
      "Submitted batch job 1872292\n"
     ]
    },
    {
     "name": "stderr",
     "output_type": "stream",
     "text": [
      "sbatch: Single-node jobs run on a shared node by default. Add --exclusive if you want to use a node exclusively.\n",
      "sbatch: You will be charged for 0.25 node. A full node consists of 128 CPU cores, 983040 MiB of memory and 0 GPUs and can be shared by up to 4 jobs.\n"
     ]
    },
    {
     "name": "stdout",
     "output_type": "stream",
     "text": [
      "Submitted batch job 1872293\n"
     ]
    },
    {
     "name": "stderr",
     "output_type": "stream",
     "text": [
      "sbatch: Single-node jobs run on a shared node by default. Add --exclusive if you want to use a node exclusively.\n",
      "sbatch: You will be charged for 0.25 node. A full node consists of 128 CPU cores, 983040 MiB of memory and 0 GPUs and can be shared by up to 4 jobs.\n",
      "sbatch: Single-node jobs run on a shared node by default. Add --exclusive if you want to use a node exclusively.\n",
      "sbatch: You will be charged for 0.25 node. A full node consists of 128 CPU cores, 983040 MiB of memory and 0 GPUs and can be shared by up to 4 jobs.\n"
     ]
    },
    {
     "name": "stdout",
     "output_type": "stream",
     "text": [
      "Submitted batch job 1872294\n"
     ]
    },
    {
     "name": "stderr",
     "output_type": "stream",
     "text": [
      "sbatch: Single-node jobs run on a shared node by default. Add --exclusive if you want to use a node exclusively.\n",
      "sbatch: You will be charged for 0.25 node. A full node consists of 128 CPU cores, 983040 MiB of memory and 0 GPUs and can be shared by up to 4 jobs.\n"
     ]
    },
    {
     "name": "stdout",
     "output_type": "stream",
     "text": [
      "Submitted batch job 1872295\n"
     ]
    },
    {
     "name": "stderr",
     "output_type": "stream",
     "text": [
      "sbatch: Single-node jobs run on a shared node by default. Add --exclusive if you want to use a node exclusively.\n",
      "sbatch: You will be charged for 0.25 node. A full node consists of 128 CPU cores, 983040 MiB of memory and 0 GPUs and can be shared by up to 4 jobs.\n"
     ]
    },
    {
     "name": "stdout",
     "output_type": "stream",
     "text": [
      "Submitted batch job 1872296\n"
     ]
    },
    {
     "name": "stderr",
     "output_type": "stream",
     "text": [
      "sbatch: Single-node jobs run on a shared node by default. Add --exclusive if you want to use a node exclusively.\n",
      "sbatch: You will be charged for 0.25 node. A full node consists of 128 CPU cores, 983040 MiB of memory and 0 GPUs and can be shared by up to 4 jobs.\n"
     ]
    },
    {
     "name": "stdout",
     "output_type": "stream",
     "text": [
      "Submitted batch job 1872297\n"
     ]
    },
    {
     "name": "stderr",
     "output_type": "stream",
     "text": [
      "sbatch: Single-node jobs run on a shared node by default. Add --exclusive if you want to use a node exclusively.\n",
      "sbatch: You will be charged for 0.25 node. A full node consists of 128 CPU cores, 983040 MiB of memory and 0 GPUs and can be shared by up to 4 jobs.\n"
     ]
    },
    {
     "name": "stdout",
     "output_type": "stream",
     "text": [
      "Submitted batch job 1872298\n"
     ]
    },
    {
     "name": "stderr",
     "output_type": "stream",
     "text": [
      "sbatch: Single-node jobs run on a shared node by default. Add --exclusive if you want to use a node exclusively.\n",
      "sbatch: You will be charged for 0.25 node. A full node consists of 128 CPU cores, 983040 MiB of memory and 0 GPUs and can be shared by up to 4 jobs.\n"
     ]
    },
    {
     "name": "stdout",
     "output_type": "stream",
     "text": [
      "Submitted batch job 1872299\n"
     ]
    },
    {
     "name": "stderr",
     "output_type": "stream",
     "text": [
      "sbatch: Single-node jobs run on a shared node by default. Add --exclusive if you want to use a node exclusively.\n",
      "sbatch: You will be charged for 0.25 node. A full node consists of 128 CPU cores, 983040 MiB of memory and 0 GPUs and can be shared by up to 4 jobs.\n"
     ]
    },
    {
     "name": "stdout",
     "output_type": "stream",
     "text": [
      "Submitted batch job 1872300\n",
      "Submitted batch job 1872301\n"
     ]
    },
    {
     "name": "stderr",
     "output_type": "stream",
     "text": [
      "sbatch: Single-node jobs run on a shared node by default. Add --exclusive if you want to use a node exclusively.\n",
      "sbatch: You will be charged for 0.25 node. A full node consists of 128 CPU cores, 983040 MiB of memory and 0 GPUs and can be shared by up to 4 jobs.\n",
      "sbatch: Single-node jobs run on a shared node by default. Add --exclusive if you want to use a node exclusively.\n",
      "sbatch: You will be charged for 0.25 node. A full node consists of 128 CPU cores, 983040 MiB of memory and 0 GPUs and can be shared by up to 4 jobs.\n"
     ]
    },
    {
     "name": "stdout",
     "output_type": "stream",
     "text": [
      "Submitted batch job 1872302\n"
     ]
    },
    {
     "name": "stderr",
     "output_type": "stream",
     "text": [
      "sbatch: Single-node jobs run on a shared node by default. Add --exclusive if you want to use a node exclusively.\n",
      "sbatch: You will be charged for 0.25 node. A full node consists of 128 CPU cores, 983040 MiB of memory and 0 GPUs and can be shared by up to 4 jobs.\n"
     ]
    },
    {
     "name": "stdout",
     "output_type": "stream",
     "text": [
      "Submitted batch job 1872303\n"
     ]
    },
    {
     "name": "stderr",
     "output_type": "stream",
     "text": [
      "sbatch: Single-node jobs run on a shared node by default. Add --exclusive if you want to use a node exclusively.\n",
      "sbatch: You will be charged for 0.25 node. A full node consists of 128 CPU cores, 983040 MiB of memory and 0 GPUs and can be shared by up to 4 jobs.\n"
     ]
    },
    {
     "name": "stdout",
     "output_type": "stream",
     "text": [
      "Submitted batch job 1872304\n"
     ]
    },
    {
     "name": "stderr",
     "output_type": "stream",
     "text": [
      "sbatch: Single-node jobs run on a shared node by default. Add --exclusive if you want to use a node exclusively.\n",
      "sbatch: You will be charged for 0.25 node. A full node consists of 128 CPU cores, 983040 MiB of memory and 0 GPUs and can be shared by up to 4 jobs.\n"
     ]
    },
    {
     "name": "stdout",
     "output_type": "stream",
     "text": [
      "Submitted batch job 1872305\n"
     ]
    },
    {
     "name": "stderr",
     "output_type": "stream",
     "text": [
      "sbatch: Single-node jobs run on a shared node by default. Add --exclusive if you want to use a node exclusively.\n",
      "sbatch: You will be charged for 0.25 node. A full node consists of 128 CPU cores, 983040 MiB of memory and 0 GPUs and can be shared by up to 4 jobs.\n"
     ]
    },
    {
     "name": "stdout",
     "output_type": "stream",
     "text": [
      "Submitted batch job 1872306\n"
     ]
    },
    {
     "name": "stderr",
     "output_type": "stream",
     "text": [
      "sbatch: Single-node jobs run on a shared node by default. Add --exclusive if you want to use a node exclusively.\n",
      "sbatch: You will be charged for 0.25 node. A full node consists of 128 CPU cores, 983040 MiB of memory and 0 GPUs and can be shared by up to 4 jobs.\n"
     ]
    },
    {
     "name": "stdout",
     "output_type": "stream",
     "text": [
      "Submitted batch job 1872307\n"
     ]
    },
    {
     "name": "stderr",
     "output_type": "stream",
     "text": [
      "sbatch: Single-node jobs run on a shared node by default. Add --exclusive if you want to use a node exclusively.\n",
      "sbatch: You will be charged for 0.25 node. A full node consists of 128 CPU cores, 983040 MiB of memory and 0 GPUs and can be shared by up to 4 jobs.\n"
     ]
    },
    {
     "name": "stdout",
     "output_type": "stream",
     "text": [
      "Submitted batch job 1872308\n",
      "Submitted batch job 1872309\n"
     ]
    },
    {
     "name": "stderr",
     "output_type": "stream",
     "text": [
      "sbatch: Single-node jobs run on a shared node by default. Add --exclusive if you want to use a node exclusively.\n",
      "sbatch: You will be charged for 0.25 node. A full node consists of 128 CPU cores, 983040 MiB of memory and 0 GPUs and can be shared by up to 4 jobs.\n",
      "sbatch: Single-node jobs run on a shared node by default. Add --exclusive if you want to use a node exclusively.\n",
      "sbatch: You will be charged for 0.25 node. A full node consists of 128 CPU cores, 983040 MiB of memory and 0 GPUs and can be shared by up to 4 jobs.\n"
     ]
    },
    {
     "name": "stdout",
     "output_type": "stream",
     "text": [
      "Submitted batch job 1872310\n"
     ]
    },
    {
     "name": "stderr",
     "output_type": "stream",
     "text": [
      "sbatch: Single-node jobs run on a shared node by default. Add --exclusive if you want to use a node exclusively.\n",
      "sbatch: You will be charged for 0.25 node. A full node consists of 128 CPU cores, 983040 MiB of memory and 0 GPUs and can be shared by up to 4 jobs.\n"
     ]
    },
    {
     "name": "stdout",
     "output_type": "stream",
     "text": [
      "Submitted batch job 1872311\n"
     ]
    },
    {
     "name": "stderr",
     "output_type": "stream",
     "text": [
      "sbatch: Single-node jobs run on a shared node by default. Add --exclusive if you want to use a node exclusively.\n",
      "sbatch: You will be charged for 0.25 node. A full node consists of 128 CPU cores, 983040 MiB of memory and 0 GPUs and can be shared by up to 4 jobs.\n"
     ]
    },
    {
     "name": "stdout",
     "output_type": "stream",
     "text": [
      "Submitted batch job 1872312\n"
     ]
    },
    {
     "name": "stderr",
     "output_type": "stream",
     "text": [
      "sbatch: Single-node jobs run on a shared node by default. Add --exclusive if you want to use a node exclusively.\n",
      "sbatch: You will be charged for 0.25 node. A full node consists of 128 CPU cores, 983040 MiB of memory and 0 GPUs and can be shared by up to 4 jobs.\n"
     ]
    },
    {
     "name": "stdout",
     "output_type": "stream",
     "text": [
      "Submitted batch job 1872313\n"
     ]
    },
    {
     "name": "stderr",
     "output_type": "stream",
     "text": [
      "sbatch: Single-node jobs run on a shared node by default. Add --exclusive if you want to use a node exclusively.\n",
      "sbatch: You will be charged for 0.25 node. A full node consists of 128 CPU cores, 983040 MiB of memory and 0 GPUs and can be shared by up to 4 jobs.\n"
     ]
    },
    {
     "name": "stdout",
     "output_type": "stream",
     "text": [
      "Submitted batch job 1872314\n"
     ]
    },
    {
     "name": "stderr",
     "output_type": "stream",
     "text": [
      "sbatch: Single-node jobs run on a shared node by default. Add --exclusive if you want to use a node exclusively.\n",
      "sbatch: You will be charged for 0.25 node. A full node consists of 128 CPU cores, 983040 MiB of memory and 0 GPUs and can be shared by up to 4 jobs.\n"
     ]
    },
    {
     "name": "stdout",
     "output_type": "stream",
     "text": [
      "Submitted batch job 1872315\n"
     ]
    },
    {
     "name": "stderr",
     "output_type": "stream",
     "text": [
      "sbatch: Single-node jobs run on a shared node by default. Add --exclusive if you want to use a node exclusively.\n",
      "sbatch: You will be charged for 0.03125 node. A full node consists of 32 CPU cores, 229376 MiB of memory and 0 GPUs and can be shared by up to 32 jobs.\n"
     ]
    },
    {
     "name": "stdout",
     "output_type": "stream",
     "text": [
      "Submitted batch job 1872316\n"
     ]
    }
   ],
   "source": [
    "from amftrack.pipeline.launching.run_super import run_parallel, run_launcher\n",
    "\n",
    "name_job = \"malin\"\n",
    "stage = 30\n",
    "args = [directory_targ]\n",
    "for plate in plates:\n",
    "    select = folders.loc[folders[\"unique_id\"] == plate]\n",
    "    num_parallel = 32\n",
    "    time = \"10:00\"\n",
    "    args = [directory_targ]\n",
    "    run_parallel(\n",
    "        \"realign.py\",\n",
    "        args,\n",
    "        select,\n",
    "        num_parallel,\n",
    "        time,\n",
    "        \"create_realign\",\n",
    "        cpus=32,\n",
    "        node=\"fat\",\n",
    "        name_job=name_job,\n",
    "    )\n",
    "\n",
    "run_launcher(\n",
    "    \"graph_extracter.py\",\n",
    "    [directory_targ, name_job, stage - 1],\n",
    "    plates,\n",
    "    \"3:00:00\",\n",
    "    dependency=True,\n",
    "    name_job=name_job,\n",
    ")"
   ]
  },
  {
   "cell_type": "code",
   "execution_count": 7,
   "id": "cc02f898-d953-4d8b-8c1c-eb42711aeb09",
   "metadata": {},
   "outputs": [
    {
     "name": "stderr",
     "output_type": "stream",
     "text": [
      "sbatch: Single-node jobs run on a shared node by default. Add --exclusive if you want to use a node exclusively.\n",
      "sbatch: A full node consists of 32 CPU cores, 229376 MiB of memory and 0 GPUs and can be shared by up to 32 jobs.\n",
      "sbatch: By default shared jobs get 7168 MiB of memory per CPU core, unless explicitly overridden with --mem-per-cpu, --mem-per-gpu or --mem.\n",
      "sbatch: You will be charged for 0.03125 node, based on the number of CPUs, GPUs and the amount memory that you've requested.\n"
     ]
    },
    {
     "name": "stdout",
     "output_type": "stream",
     "text": [
      "Submitted batch job 2143049\n"
     ]
    }
   ],
>>>>>>> 32a9d59dd8e808d26fbbd8cb90159fecc49f3687
   "source": [
    "name_job = \"rerun\"\n",
    "run_launcher(\n",
    "    \"post_processer_1.py\",\n",
    "    [directory_targ, name_job, 10],\n",
    "    plates,\n",
    "    \"3:00:00\",\n",
    "    dependency=True,\n",
    "    name_job=name_job,\n",
    ")"
   ]
  },
  {
   "cell_type": "code",
<<<<<<< HEAD
   "execution_count": null,
   "id": "2da38319-35b9-4a35-9eae-a3067f75e390",
   "metadata": {
=======
   "execution_count": 8,
   "id": "2da38319-35b9-4a35-9eae-a3067f75e390",
   "metadata": {
    "collapsed": true,
>>>>>>> 32a9d59dd8e808d26fbbd8cb90159fecc49f3687
    "jupyter": {
     "outputs_hidden": true
    },
    "tags": []
   },
<<<<<<< HEAD
   "outputs": [],
=======
   "outputs": [
    {
     "name": "stdout",
     "output_type": "stream",
     "text": [
      "/projects/0/einf914/data/Analysis_93_20220921_200_Version1/folder_info.json\n",
      "/projects/0/einf914/data/Analysis_5_20220920_200_Version1/folder_info.json\n",
      "/projects/0/einf914/data/Analysis_69_20220921_200_Version1/folder_info.json\n",
      "/projects/0/einf914/data/Analysis_26_20220921_200_Version1/folder_info.json\n",
      "/projects/0/einf914/data/Analysis_32_20220921_200_Version1/folder_info.json\n",
      "/projects/0/einf914/data/Analysis_43_20220920_200_Version1/folder_info.json\n",
      "/projects/0/einf914/data/Analysis_101_20220921_200_Version1/folder_info.json\n",
      "/projects/0/einf914/data/Analysis_42_20220920_200_Version1/folder_info.json\n",
      "/projects/0/einf914/data/Analysis_15_20220921_200_Version1/folder_info.json\n",
      "/projects/0/einf914/data/Analysis_65_20220921_200_Version1/folder_info.json\n",
      "/projects/0/einf914/data/Analysis_28_20220921_200_Version1/folder_info.json\n",
      "/projects/0/einf914/data/Analysis_39_20220920_200_Version1/folder_info.json\n",
      "/projects/0/einf914/data/Analysis_108_20220921_200_Version1/folder_info.json\n",
      "/projects/0/einf914/data/Analysis_67_20220921_200_Version1/folder_info.json\n",
      "/projects/0/einf914/data/Analysis_56_20220921_200_Version1/folder_info.json\n",
      "/projects/0/einf914/data/Analysis_12_20220920_200_Version1/folder_info.json\n",
      "/projects/0/einf914/data/Analysis_94_20220921_200_Version1/folder_info.json\n",
      "/projects/0/einf914/data/Analysis_50_20220920_200_Version1/folder_info.json\n",
      "/projects/0/einf914/data/Analysis_27_20220921_200_Version1/folder_info.json\n",
      "/projects/0/einf914/data/Analysis_59_20220921_200_Version1/folder_info.json\n",
      "/projects/0/einf914/data/Analysis_16_20220921_200_Version1/folder_info.json\n",
      "/projects/0/einf914/data/Analysis_84_20220920_200_Version1/folder_info.json\n",
      "/projects/0/einf914/data/Analysis_23_20220920_200_Version1/folder_info.json\n",
      "/projects/0/einf914/data/Analysis_71_20220921_200_Version1/folder_info.json\n",
      "/projects/0/einf914/data/Analysis_21_20220920_200_Version1/folder_info.json\n",
      "/projects/0/einf914/data/Analysis_100_20220921_200_Version1/folder_info.json\n",
      "/projects/0/einf914/data/Analysis_99_20220921_200_Version1/folder_info.json\n",
      "/projects/0/einf914/data/Analysis_79_20220920_200_Version1/folder_info.json\n",
      "/projects/0/einf914/data/Analysis_82_20220920_200_Version1/folder_info.json\n",
      "/projects/0/einf914/data/Analysis_61_20220921_200_Version1/folder_info.json\n",
      "/projects/0/einf914/data/Analysis_25_20220921_200_Version1/folder_info.json\n",
      "/projects/0/einf914/data/Analysis_31_20220921_200_Version1/folder_info.json\n",
      "/projects/0/einf914/data/Analysis_70_20220921_200_Version1/folder_info.json\n",
      "/projects/0/einf914/data/Analysis_10_20220920_200_Version1/folder_info.json\n",
      "/projects/0/einf914/data/Analysis_40_20220920_200_Version1/folder_info.json\n",
      "/projects/0/einf914/data/Analysis_74_20220920_200_Version1/folder_info.json\n",
      "/projects/0/einf914/data/Analysis_102_20220921_200_Version1/folder_info.json\n",
      "/projects/0/einf914/data/Analysis_2_20220920_200_Version1/folder_info.json\n",
      "/projects/0/einf914/data/Analysis_49_20220920_200_Version1/folder_info.json\n",
      "/projects/0/einf914/data/Analysis_104_20220921_200_Version1/folder_info.json\n",
      "/projects/0/einf914/data/Analysis_87_20220921_200_Version1/folder_info.json\n",
      "/projects/0/einf914/data/Analysis_37_20220920_200_Version1/folder_info.json\n",
      "/projects/0/einf914/data/Analysis_72_20220921_200_Version1/folder_info.json\n",
      "/projects/0/einf914/data/Analysis_78_20220920_200_Version1/folder_info.json\n",
      "/projects/0/einf914/data/Analysis_62_20220921_200_Version1/folder_info.json\n",
      "/projects/0/einf914/data/Analysis_13_20220921_200_Version1/folder_info.json\n",
      "/projects/0/einf914/data/Analysis_45_20220920_200_Version1/folder_info.json\n",
      "/projects/0/einf914/data/Analysis_81_20220920_200_Version1/folder_info.json\n",
      "/projects/0/einf914/data/Analysis_97_20220921_200_Version1/folder_info.json\n",
      "/projects/0/einf914/data/Analysis_34_20220921_200_Version1/folder_info.json\n",
      "/projects/0/einf914/data/Analysis_11_20220920_200_Version1/folder_info.json\n",
      "/projects/0/einf914/data/Analysis_75_20220920_200_Version1/folder_info.json\n",
      "/projects/0/einf914/data/Analysis_46_20220920_200_Version1/folder_info.json\n",
      "/projects/0/einf914/data/Analysis_36_20220921_200_Version1/folder_info.json\n",
      "/projects/0/einf914/data/Analysis_60_20220921_200_Version1/folder_info.json\n",
      "/projects/0/einf914/data/Analysis_30_20220921_200_Version1/folder_info.json\n",
      "/projects/0/einf914/data/Analysis_76_20220920_200_Version1/folder_info.json\n",
      "/projects/0/einf914/data/Analysis_52_20220920_200_Version1/folder_info.json\n",
      "/projects/0/einf914/data/Analysis_20_20220920_200_Version1/folder_info.json\n",
      "/projects/0/einf914/data/Analysis_105_20220921_200_Version1/folder_info.json\n",
      "/projects/0/einf914/data/Analysis_58_20220921_200_Version1/folder_info.json\n",
      "/projects/0/einf914/data/Analysis_14_20220921_200_Version1/folder_info.json\n",
      "/projects/0/einf914/data/Analysis_103_20220921_200_Version1/folder_info.json\n",
      "/projects/0/einf914/data/Analysis_86_20220921_200_Version1/folder_info.json\n",
      "/projects/0/einf914/data/Analysis_91_20220921_200_Version1/folder_info.json\n",
      "/projects/0/einf914/data/Analysis_83_20220920_200_Version1/folder_info.json\n",
      "/projects/0/einf914/data/Analysis_98_20220921_200_Version1/folder_info.json\n",
      "/projects/0/einf914/data/Analysis_8_20220920_200_Version1/folder_info.json\n",
      "/projects/0/einf914/data/Analysis_44_20220920_200_Version1/folder_info.json\n",
      "/projects/0/einf914/data/Analysis_6_20220920_200_Version1/folder_info.json\n",
      "/projects/0/einf914/data/Analysis_38_20220920_200_Version1/folder_info.json\n",
      "/projects/0/einf914/data/Analysis_4_20220920_200_Version1/folder_info.json\n",
      "/projects/0/einf914/data/Analysis_80_20220920_200_Version1/folder_info.json\n",
      "/projects/0/einf914/data/Analysis_73_20220920_200_Version1/folder_info.json\n",
      "/projects/0/einf914/data/Analysis_96_20220921_200_Version1/folder_info.json\n",
      "/projects/0/einf914/data/Analysis_33_20220921_200_Version1/folder_info.json\n",
      "/projects/0/einf914/data/Analysis_48_20220920_200_Version1/folder_info.json\n",
      "/projects/0/einf914/data/Analysis_66_20220921_200_Version1/folder_info.json\n",
      "/projects/0/einf914/data/Analysis_29_20220921_200_Version1/folder_info.json\n",
      "/projects/0/einf914/data/Analysis_107_20220921_200_Version1/folder_info.json\n",
      "/projects/0/einf914/data/Analysis_55_20220921_200_Version1/folder_info.json\n",
      "/projects/0/einf914/data/Analysis_35_20220921_200_Version1/folder_info.json\n",
      "/projects/0/einf914/data/Analysis_92_20220921_200_Version1/folder_info.json\n",
      "/projects/0/einf914/data/Analysis_18_20220921_200_Version1/folder_info.json\n",
      "/projects/0/einf914/data/Analysis_68_20220921_200_Version1/folder_info.json\n",
      "/projects/0/einf914/data/Analysis_63_20220921_200_Version1/folder_info.json\n",
      "/projects/0/einf914/data/Analysis_57_20220921_200_Version1/folder_info.json\n",
      "/projects/0/einf914/data/Analysis_24_20220920_200_Version1/folder_info.json\n",
      "/projects/0/einf914/data/Analysis_47_20220920_200_Version1/folder_info.json\n",
      "/projects/0/einf914/data/Analysis_22_20220920_200_Version1/folder_info.json\n",
      "/projects/0/einf914/data/Analysis_51_20220920_200_Version1/folder_info.json\n",
      "/projects/0/einf914/data/Analysis_54_20220920_200_Version1/folder_info.json\n",
      "/projects/0/einf914/data/Analysis_95_20220921_200_Version1/folder_info.json\n",
      "/projects/0/einf914/data/Analysis_64_20220921_200_Version1/folder_info.json\n",
      "/projects/0/einf914/data/Analysis_106_20220921_200_Version1/folder_info.json\n",
      "/projects/0/einf914/data/Analysis_41_20220920_200_Version1/folder_info.json\n",
      "/projects/0/einf914/data/Analysis_85_20220921_200_Version1/folder_info.json\n",
      "/projects/0/einf914/data/Analysis_90_20220921_200_Version1/folder_info.json\n",
      "/projects/0/einf914/data/Analysis_9_20220920_200_Version1/folder_info.json\n",
      "/projects/0/einf914/data/Analysis_77_20220920_200_Version1/folder_info.json\n",
      "/projects/0/einf914/data/Analysis_19_20220920_200_Version1/folder_info.json\n",
      "/projects/0/einf914/data/Analysis_17_20220921_200_Version1/folder_info.json\n",
      "/projects/0/einf914/data/Analysis_3_20220920_200_Version1/folder_info.json\n",
      "/projects/0/einf914/data/Analysis_53_20220920_200_Version1/folder_info.json\n",
      "/projects/0/einf914/data/Analysis_7_20220920_200_Version1/folder_info.json\n",
      "/projects/0/einf914/data/Analysis_88_20220921_200_Version1/folder_info.json\n",
      "/projects/0/einf914/data/Analysis_1_20220920_200_Version1/folder_info.json\n",
      "DATA/PRINCE\n",
      "2022-11-30 10:57:17,420-[INFO]- dropbox:390 -> Refreshing access token.\n",
      "2022-11-30 10:57:17,709-[INFO]- dropbox:474 -> Request to files/upload\n",
      "2022-11-30 10:57:19,342-[INFO]- dropbox:390 -> Refreshing access token.\n",
      "2022-11-30 10:57:19,624-[INFO]- dropbox:474 -> Request to files/upload\n",
      "2022-11-30 10:57:20,587-[INFO]- dropbox:390 -> Refreshing access token.\n",
      "2022-11-30 10:57:20,852-[INFO]- dropbox:474 -> Request to files/upload\n",
      "2022-11-30 10:57:21,752-[INFO]- dropbox:390 -> Refreshing access token.\n",
      "2022-11-30 10:57:21,977-[INFO]- dropbox:474 -> Request to files/upload\n",
      "DATA/PRINCE\n",
      "2022-11-30 10:57:22,882-[INFO]- dropbox:390 -> Refreshing access token.\n",
      "2022-11-30 10:57:23,105-[INFO]- dropbox:474 -> Request to files/upload\n",
      "2022-11-30 10:57:24,569-[INFO]- dropbox:390 -> Refreshing access token.\n",
      "2022-11-30 10:57:24,787-[INFO]- dropbox:474 -> Request to files/upload\n",
      "2022-11-30 10:57:26,325-[INFO]- dropbox:390 -> Refreshing access token.\n",
      "2022-11-30 10:57:26,582-[INFO]- dropbox:474 -> Request to files/upload\n",
      "2022-11-30 10:57:28,111-[INFO]- dropbox:390 -> Refreshing access token.\n",
      "2022-11-30 10:57:28,361-[INFO]- dropbox:474 -> Request to files/upload\n",
      "DATA/PRINCE\n",
      "2022-11-30 10:57:29,270-[INFO]- dropbox:390 -> Refreshing access token.\n",
      "2022-11-30 10:57:29,495-[INFO]- dropbox:474 -> Request to files/upload\n",
      "2022-11-30 10:57:31,036-[INFO]- dropbox:390 -> Refreshing access token.\n",
      "2022-11-30 10:57:31,271-[INFO]- dropbox:474 -> Request to files/upload\n",
      "2022-11-30 10:57:32,205-[INFO]- dropbox:390 -> Refreshing access token.\n",
      "2022-11-30 10:57:32,433-[INFO]- dropbox:474 -> Request to files/upload\n",
      "2022-11-30 10:57:33,228-[INFO]- dropbox:390 -> Refreshing access token.\n",
      "2022-11-30 10:57:33,450-[INFO]- dropbox:474 -> Request to files/upload\n",
      "DATA/PRINCE\n",
      "2022-11-30 10:57:34,616-[INFO]- dropbox:390 -> Refreshing access token.\n",
      "2022-11-30 10:57:34,856-[INFO]- dropbox:474 -> Request to files/upload\n",
      "2022-11-30 10:57:36,127-[INFO]- dropbox:390 -> Refreshing access token.\n",
      "2022-11-30 10:57:36,366-[INFO]- dropbox:474 -> Request to files/upload\n",
      "2022-11-30 10:57:37,426-[INFO]- dropbox:390 -> Refreshing access token.\n",
      "2022-11-30 10:57:37,670-[INFO]- dropbox:474 -> Request to files/upload\n",
      "2022-11-30 10:57:38,729-[INFO]- dropbox:390 -> Refreshing access token.\n",
      "2022-11-30 10:57:42,304-[INFO]- dropbox:474 -> Request to files/upload\n",
      "DATA/PRINCE\n",
      "2022-11-30 10:57:43,348-[INFO]- dropbox:390 -> Refreshing access token.\n",
      "2022-11-30 10:57:43,578-[INFO]- dropbox:474 -> Request to files/upload\n",
      "2022-11-30 10:57:44,963-[INFO]- dropbox:390 -> Refreshing access token.\n",
      "2022-11-30 10:57:45,193-[INFO]- dropbox:474 -> Request to files/upload\n",
      "2022-11-30 10:57:46,517-[INFO]- dropbox:390 -> Refreshing access token.\n",
      "2022-11-30 10:57:46,772-[INFO]- dropbox:474 -> Request to files/upload\n",
      "2022-11-30 10:57:48,136-[INFO]- dropbox:390 -> Refreshing access token.\n",
      "2022-11-30 10:57:48,358-[INFO]- dropbox:474 -> Request to files/upload\n",
      "DATA/PRINCE\n",
      "2022-11-30 10:57:49,283-[INFO]- dropbox:390 -> Refreshing access token.\n",
      "2022-11-30 10:57:49,522-[INFO]- dropbox:474 -> Request to files/upload\n",
      "2022-11-30 10:57:51,090-[INFO]- dropbox:390 -> Refreshing access token.\n",
      "2022-11-30 10:57:51,325-[INFO]- dropbox:474 -> Request to files/upload\n",
      "2022-11-30 10:57:52,251-[INFO]- dropbox:390 -> Refreshing access token.\n",
      "2022-11-30 10:57:52,474-[INFO]- dropbox:474 -> Request to files/upload\n",
      "2022-11-30 10:57:53,404-[INFO]- dropbox:390 -> Refreshing access token.\n",
      "2022-11-30 10:57:53,628-[INFO]- dropbox:474 -> Request to files/upload\n",
      "DATA/PRINCE\n",
      "2022-11-30 10:57:54,651-[INFO]- dropbox:390 -> Refreshing access token.\n",
      "2022-11-30 10:57:54,893-[INFO]- dropbox:474 -> Request to files/upload\n",
      "2022-11-30 10:57:56,635-[INFO]- dropbox:390 -> Refreshing access token.\n",
      "2022-11-30 10:57:56,896-[INFO]- dropbox:474 -> Request to files/upload\n",
      "2022-11-30 10:57:57,765-[INFO]- dropbox:390 -> Refreshing access token.\n",
      "2022-11-30 10:57:58,001-[INFO]- dropbox:474 -> Request to files/upload\n",
      "2022-11-30 10:57:59,037-[INFO]- dropbox:390 -> Refreshing access token.\n",
      "2022-11-30 10:57:59,268-[INFO]- dropbox:474 -> Request to files/upload\n",
      "DATA/PRINCE\n",
      "2022-11-30 10:58:00,153-[INFO]- dropbox:390 -> Refreshing access token.\n",
      "2022-11-30 10:58:00,406-[INFO]- dropbox:474 -> Request to files/upload\n",
      "2022-11-30 10:58:02,043-[INFO]- dropbox:390 -> Refreshing access token.\n",
      "2022-11-30 10:58:02,283-[INFO]- dropbox:474 -> Request to files/upload\n",
      "2022-11-30 10:58:03,299-[INFO]- dropbox:390 -> Refreshing access token.\n",
      "2022-11-30 10:58:03,531-[INFO]- dropbox:474 -> Request to files/upload\n",
      "2022-11-30 10:58:04,607-[INFO]- dropbox:390 -> Refreshing access token.\n",
      "2022-11-30 10:58:04,859-[INFO]- dropbox:474 -> Request to files/upload\n",
      "DATA/PRINCE\n",
      "2022-11-30 10:58:05,935-[INFO]- dropbox:390 -> Refreshing access token.\n",
      "2022-11-30 10:58:06,161-[INFO]- dropbox:474 -> Request to files/upload\n",
      "2022-11-30 10:58:07,523-[INFO]- dropbox:390 -> Refreshing access token.\n",
      "2022-11-30 10:58:07,770-[INFO]- dropbox:474 -> Request to files/upload\n",
      "2022-11-30 10:58:08,694-[INFO]- dropbox:390 -> Refreshing access token.\n",
      "2022-11-30 10:58:08,932-[INFO]- dropbox:474 -> Request to files/upload\n",
      "2022-11-30 10:58:09,833-[INFO]- dropbox:390 -> Refreshing access token.\n",
      "2022-11-30 10:58:10,066-[INFO]- dropbox:474 -> Request to files/upload\n",
      "DATA/PRINCE\n",
      "2022-11-30 10:58:11,214-[INFO]- dropbox:390 -> Refreshing access token.\n",
      "2022-11-30 10:58:11,444-[INFO]- dropbox:474 -> Request to files/upload\n",
      "2022-11-30 10:58:12,673-[INFO]- dropbox:390 -> Refreshing access token.\n",
      "2022-11-30 10:58:12,917-[INFO]- dropbox:474 -> Request to files/upload\n",
      "2022-11-30 10:58:14,082-[INFO]- dropbox:390 -> Refreshing access token.\n",
      "2022-11-30 10:58:14,385-[INFO]- dropbox:474 -> Request to files/upload\n",
      "2022-11-30 10:58:15,317-[INFO]- dropbox:390 -> Refreshing access token.\n",
      "2022-11-30 10:58:15,544-[INFO]- dropbox:474 -> Request to files/upload\n",
      "DATA/PRINCE\n",
      "2022-11-30 10:58:16,560-[INFO]- dropbox:390 -> Refreshing access token.\n",
      "2022-11-30 10:58:16,804-[INFO]- dropbox:474 -> Request to files/upload\n",
      "2022-11-30 10:58:18,219-[INFO]- dropbox:390 -> Refreshing access token.\n",
      "2022-11-30 10:58:18,458-[INFO]- dropbox:474 -> Request to files/upload\n",
      "2022-11-30 10:58:19,350-[INFO]- dropbox:390 -> Refreshing access token.\n",
      "2022-11-30 10:58:19,589-[INFO]- dropbox:474 -> Request to files/upload\n",
      "2022-11-30 10:58:20,552-[INFO]- dropbox:390 -> Refreshing access token.\n",
      "2022-11-30 10:58:20,782-[INFO]- dropbox:474 -> Request to files/upload\n",
      "DATA/PRINCE\n",
      "2022-11-30 10:58:21,770-[INFO]- dropbox:390 -> Refreshing access token.\n",
      "2022-11-30 10:58:22,021-[INFO]- dropbox:474 -> Request to files/upload\n",
      "2022-11-30 10:58:23,434-[INFO]- dropbox:390 -> Refreshing access token.\n",
      "2022-11-30 10:58:23,656-[INFO]- dropbox:474 -> Request to files/upload\n",
      "2022-11-30 10:58:24,589-[INFO]- dropbox:390 -> Refreshing access token.\n",
      "2022-11-30 10:58:24,823-[INFO]- dropbox:474 -> Request to files/upload\n",
      "2022-11-30 10:58:25,871-[INFO]- dropbox:390 -> Refreshing access token.\n",
      "2022-11-30 10:58:26,107-[INFO]- dropbox:474 -> Request to files/upload\n",
      "DATA/PRINCE\n",
      "2022-11-30 10:58:27,066-[INFO]- dropbox:390 -> Refreshing access token.\n",
      "2022-11-30 10:58:27,289-[INFO]- dropbox:474 -> Request to files/upload\n",
      "2022-11-30 10:58:28,566-[INFO]- dropbox:390 -> Refreshing access token.\n",
      "2022-11-30 10:58:28,794-[INFO]- dropbox:474 -> Request to files/upload\n",
      "2022-11-30 10:58:30,203-[INFO]- dropbox:390 -> Refreshing access token.\n",
      "2022-11-30 10:58:30,435-[INFO]- dropbox:474 -> Request to files/upload\n",
      "2022-11-30 10:58:31,493-[INFO]- dropbox:390 -> Refreshing access token.\n",
      "2022-11-30 10:58:31,723-[INFO]- dropbox:474 -> Request to files/upload\n",
      "DATA/PRINCE\n",
      "2022-11-30 10:58:32,713-[INFO]- dropbox:390 -> Refreshing access token.\n",
      "2022-11-30 10:58:32,957-[INFO]- dropbox:474 -> Request to files/upload\n",
      "2022-11-30 10:58:33,958-[INFO]- dropbox:390 -> Refreshing access token.\n",
      "2022-11-30 10:58:34,189-[INFO]- dropbox:474 -> Request to files/upload\n",
      "2022-11-30 10:58:35,820-[INFO]- dropbox:390 -> Refreshing access token.\n",
      "2022-11-30 10:58:36,068-[INFO]- dropbox:474 -> Request to files/upload\n",
      "2022-11-30 10:58:37,131-[INFO]- dropbox:390 -> Refreshing access token.\n",
      "2022-11-30 10:58:37,365-[INFO]- dropbox:474 -> Request to files/upload\n",
      "DATA/PRINCE\n",
      "2022-11-30 10:58:38,300-[INFO]- dropbox:390 -> Refreshing access token.\n",
      "2022-11-30 10:58:38,520-[INFO]- dropbox:474 -> Request to files/upload\n",
      "2022-11-30 10:58:39,977-[INFO]- dropbox:390 -> Refreshing access token.\n",
      "2022-11-30 10:58:40,198-[INFO]- dropbox:474 -> Request to files/upload\n",
      "2022-11-30 10:58:41,333-[INFO]- dropbox:390 -> Refreshing access token.\n",
      "2022-11-30 10:58:41,564-[INFO]- dropbox:474 -> Request to files/upload\n",
      "2022-11-30 10:58:42,487-[INFO]- dropbox:390 -> Refreshing access token.\n",
      "2022-11-30 10:58:42,706-[INFO]- dropbox:474 -> Request to files/upload\n",
      "DATA/PRINCE\n",
      "2022-11-30 10:58:43,595-[INFO]- dropbox:390 -> Refreshing access token.\n",
      "2022-11-30 10:58:43,834-[INFO]- dropbox:474 -> Request to files/upload\n",
      "2022-11-30 10:58:45,438-[INFO]- dropbox:390 -> Refreshing access token.\n",
      "2022-11-30 10:58:45,671-[INFO]- dropbox:474 -> Request to files/upload\n",
      "2022-11-30 10:58:46,484-[INFO]- dropbox:390 -> Refreshing access token.\n",
      "2022-11-30 10:58:46,722-[INFO]- dropbox:474 -> Request to files/upload\n",
      "2022-11-30 10:58:47,927-[INFO]- dropbox:390 -> Refreshing access token.\n",
      "2022-11-30 10:58:48,162-[INFO]- dropbox:474 -> Request to files/upload\n",
      "DATA/PRINCE\n",
      "2022-11-30 10:58:49,328-[INFO]- dropbox:390 -> Refreshing access token.\n",
      "2022-11-30 10:58:49,556-[INFO]- dropbox:474 -> Request to files/upload\n",
      "2022-11-30 10:58:51,225-[INFO]- dropbox:390 -> Refreshing access token.\n",
      "2022-11-30 10:58:51,477-[INFO]- dropbox:474 -> Request to files/upload\n",
      "2022-11-30 10:58:52,386-[INFO]- dropbox:390 -> Refreshing access token.\n",
      "2022-11-30 10:58:52,647-[INFO]- dropbox:474 -> Request to files/upload\n",
      "2022-11-30 10:58:53,764-[INFO]- dropbox:390 -> Refreshing access token.\n",
      "2022-11-30 10:58:53,995-[INFO]- dropbox:474 -> Request to files/upload\n",
      "DATA/PRINCE\n",
      "2022-11-30 10:58:54,994-[INFO]- dropbox:390 -> Refreshing access token.\n",
      "2022-11-30 10:58:55,222-[INFO]- dropbox:474 -> Request to files/upload\n",
      "2022-11-30 10:58:56,699-[INFO]- dropbox:390 -> Refreshing access token.\n",
      "2022-11-30 10:58:56,934-[INFO]- dropbox:474 -> Request to files/upload\n",
      "2022-11-30 10:58:57,949-[INFO]- dropbox:390 -> Refreshing access token.\n",
      "2022-11-30 10:58:58,172-[INFO]- dropbox:474 -> Request to files/upload\n",
      "2022-11-30 10:58:59,178-[INFO]- dropbox:390 -> Refreshing access token.\n",
      "2022-11-30 10:58:59,402-[INFO]- dropbox:474 -> Request to files/upload\n",
      "DATA/PRINCE\n",
      "2022-11-30 10:59:00,426-[INFO]- dropbox:390 -> Refreshing access token.\n",
      "2022-11-30 10:59:00,664-[INFO]- dropbox:474 -> Request to files/upload\n",
      "2022-11-30 10:59:02,200-[INFO]- dropbox:390 -> Refreshing access token.\n",
      "2022-11-30 10:59:02,433-[INFO]- dropbox:474 -> Request to files/upload\n",
      "2022-11-30 10:59:03,316-[INFO]- dropbox:390 -> Refreshing access token.\n",
      "2022-11-30 10:59:03,586-[INFO]- dropbox:474 -> Request to files/upload\n",
      "2022-11-30 10:59:04,499-[INFO]- dropbox:390 -> Refreshing access token.\n",
      "2022-11-30 10:59:04,725-[INFO]- dropbox:474 -> Request to files/upload\n",
      "DATA/PRINCE\n",
      "2022-11-30 10:59:05,568-[INFO]- dropbox:390 -> Refreshing access token.\n",
      "2022-11-30 10:59:05,791-[INFO]- dropbox:474 -> Request to files/upload\n",
      "2022-11-30 10:59:07,426-[INFO]- dropbox:390 -> Refreshing access token.\n",
      "2022-11-30 10:59:07,655-[INFO]- dropbox:474 -> Request to files/upload\n",
      "2022-11-30 10:59:08,553-[INFO]- dropbox:390 -> Refreshing access token.\n",
      "2022-11-30 10:59:08,783-[INFO]- dropbox:474 -> Request to files/upload\n",
      "2022-11-30 10:59:09,883-[INFO]- dropbox:390 -> Refreshing access token.\n",
      "2022-11-30 10:59:10,205-[INFO]- dropbox:474 -> Request to files/upload\n",
      "DATA/PRINCE\n",
      "2022-11-30 10:59:11,192-[INFO]- dropbox:390 -> Refreshing access token.\n",
      "2022-11-30 10:59:11,428-[INFO]- dropbox:474 -> Request to files/upload\n",
      "2022-11-30 10:59:13,161-[INFO]- dropbox:390 -> Refreshing access token.\n",
      "2022-11-30 10:59:13,399-[INFO]- dropbox:474 -> Request to files/upload\n",
      "2022-11-30 10:59:14,599-[INFO]- dropbox:390 -> Refreshing access token.\n",
      "2022-11-30 10:59:14,826-[INFO]- dropbox:474 -> Request to files/upload\n",
      "2022-11-30 10:59:15,851-[INFO]- dropbox:390 -> Refreshing access token.\n",
      "2022-11-30 10:59:16,088-[INFO]- dropbox:474 -> Request to files/upload\n",
      "DATA/PRINCE\n",
      "2022-11-30 10:59:17,007-[INFO]- dropbox:390 -> Refreshing access token.\n",
      "2022-11-30 10:59:17,248-[INFO]- dropbox:474 -> Request to files/upload\n",
      "2022-11-30 10:59:18,541-[INFO]- dropbox:390 -> Refreshing access token.\n",
      "2022-11-30 10:59:18,763-[INFO]- dropbox:474 -> Request to files/upload\n",
      "2022-11-30 10:59:19,881-[INFO]- dropbox:390 -> Refreshing access token.\n",
      "2022-11-30 10:59:20,105-[INFO]- dropbox:474 -> Request to files/upload\n",
      "2022-11-30 10:59:21,017-[INFO]- dropbox:390 -> Refreshing access token.\n",
      "2022-11-30 10:59:21,270-[INFO]- dropbox:474 -> Request to files/upload\n",
      "DATA/PRINCE\n",
      "2022-11-30 10:59:22,445-[INFO]- dropbox:390 -> Refreshing access token.\n",
      "2022-11-30 10:59:22,664-[INFO]- dropbox:474 -> Request to files/upload\n",
      "2022-11-30 10:59:23,933-[INFO]- dropbox:390 -> Refreshing access token.\n",
      "2022-11-30 10:59:24,149-[INFO]- dropbox:474 -> Request to files/upload\n",
      "2022-11-30 10:59:25,083-[INFO]- dropbox:390 -> Refreshing access token.\n",
      "2022-11-30 10:59:25,315-[INFO]- dropbox:474 -> Request to files/upload\n",
      "2022-11-30 10:59:26,493-[INFO]- dropbox:390 -> Refreshing access token.\n",
      "2022-11-30 10:59:26,748-[INFO]- dropbox:474 -> Request to files/upload\n",
      "DATA/PRINCE\n",
      "2022-11-30 10:59:27,629-[INFO]- dropbox:390 -> Refreshing access token.\n",
      "2022-11-30 10:59:27,853-[INFO]- dropbox:474 -> Request to files/upload\n",
      "2022-11-30 10:59:29,120-[INFO]- dropbox:390 -> Refreshing access token.\n",
      "2022-11-30 10:59:29,335-[INFO]- dropbox:474 -> Request to files/upload\n",
      "2022-11-30 10:59:30,518-[INFO]- dropbox:390 -> Refreshing access token.\n",
      "2022-11-30 10:59:30,746-[INFO]- dropbox:474 -> Request to files/upload\n",
      "2022-11-30 10:59:31,823-[INFO]- dropbox:390 -> Refreshing access token.\n",
      "2022-11-30 10:59:32,059-[INFO]- dropbox:474 -> Request to files/upload\n",
      "DATA/PRINCE\n",
      "2022-11-30 10:59:33,103-[INFO]- dropbox:390 -> Refreshing access token.\n",
      "2022-11-30 10:59:33,319-[INFO]- dropbox:474 -> Request to files/upload\n",
      "2022-11-30 10:59:34,829-[INFO]- dropbox:390 -> Refreshing access token.\n",
      "2022-11-30 10:59:35,055-[INFO]- dropbox:474 -> Request to files/upload\n",
      "2022-11-30 10:59:35,961-[INFO]- dropbox:390 -> Refreshing access token.\n",
      "2022-11-30 10:59:36,195-[INFO]- dropbox:474 -> Request to files/upload\n",
      "2022-11-30 10:59:37,081-[INFO]- dropbox:390 -> Refreshing access token.\n",
      "2022-11-30 10:59:37,316-[INFO]- dropbox:474 -> Request to files/upload\n",
      "DATA/PRINCE\n",
      "2022-11-30 10:59:38,307-[INFO]- dropbox:390 -> Refreshing access token.\n",
      "2022-11-30 10:59:38,537-[INFO]- dropbox:474 -> Request to files/upload\n",
      "2022-11-30 10:59:39,887-[INFO]- dropbox:390 -> Refreshing access token.\n",
      "2022-11-30 10:59:40,136-[INFO]- dropbox:474 -> Request to files/upload\n",
      "2022-11-30 10:59:40,994-[INFO]- dropbox:390 -> Refreshing access token.\n",
      "2022-11-30 10:59:41,225-[INFO]- dropbox:474 -> Request to files/upload\n",
      "2022-11-30 10:59:42,182-[INFO]- dropbox:390 -> Refreshing access token.\n",
      "2022-11-30 10:59:42,408-[INFO]- dropbox:474 -> Request to files/upload\n",
      "DATA/PRINCE\n",
      "2022-11-30 10:59:43,239-[INFO]- dropbox:390 -> Refreshing access token.\n",
      "2022-11-30 10:59:43,482-[INFO]- dropbox:474 -> Request to files/upload\n",
      "2022-11-30 10:59:45,817-[INFO]- dropbox:390 -> Refreshing access token.\n",
      "2022-11-30 10:59:46,055-[INFO]- dropbox:474 -> Request to files/upload\n",
      "2022-11-30 10:59:47,114-[INFO]- dropbox:390 -> Refreshing access token.\n",
      "2022-11-30 10:59:47,342-[INFO]- dropbox:474 -> Request to files/upload\n",
      "2022-11-30 10:59:48,455-[INFO]- dropbox:390 -> Refreshing access token.\n",
      "2022-11-30 10:59:48,684-[INFO]- dropbox:474 -> Request to files/upload\n",
      "DATA/PRINCE\n",
      "2022-11-30 10:59:49,756-[INFO]- dropbox:390 -> Refreshing access token.\n",
      "2022-11-30 10:59:50,025-[INFO]- dropbox:474 -> Request to files/upload\n",
      "2022-11-30 10:59:51,594-[INFO]- dropbox:390 -> Refreshing access token.\n",
      "2022-11-30 10:59:51,817-[INFO]- dropbox:474 -> Request to files/upload\n",
      "2022-11-30 10:59:52,856-[INFO]- dropbox:390 -> Refreshing access token.\n",
      "2022-11-30 10:59:53,087-[INFO]- dropbox:474 -> Request to files/upload\n",
      "2022-11-30 10:59:54,118-[INFO]- dropbox:390 -> Refreshing access token.\n",
      "2022-11-30 10:59:54,344-[INFO]- dropbox:474 -> Request to files/upload\n",
      "DATA/PRINCE\n",
      "2022-11-30 10:59:55,470-[INFO]- dropbox:390 -> Refreshing access token.\n",
      "2022-11-30 10:59:55,715-[INFO]- dropbox:474 -> Request to files/upload\n",
      "2022-11-30 10:59:57,911-[INFO]- dropbox:390 -> Refreshing access token.\n",
      "2022-11-30 10:59:58,179-[INFO]- dropbox:474 -> Request to files/upload\n",
      "2022-11-30 10:59:59,320-[INFO]- dropbox:390 -> Refreshing access token.\n",
      "2022-11-30 10:59:59,550-[INFO]- dropbox:474 -> Request to files/upload\n",
      "2022-11-30 11:00:00,523-[INFO]- dropbox:390 -> Refreshing access token.\n",
      "2022-11-30 11:00:00,753-[INFO]- dropbox:474 -> Request to files/upload\n",
      "DATA/PRINCE\n",
      "2022-11-30 11:00:01,787-[INFO]- dropbox:390 -> Refreshing access token.\n",
      "2022-11-30 11:00:02,023-[INFO]- dropbox:474 -> Request to files/upload\n",
      "2022-11-30 11:00:03,490-[INFO]- dropbox:390 -> Refreshing access token.\n",
      "2022-11-30 11:00:03,723-[INFO]- dropbox:474 -> Request to files/upload\n",
      "2022-11-30 11:00:04,763-[INFO]- dropbox:390 -> Refreshing access token.\n",
      "2022-11-30 11:00:04,987-[INFO]- dropbox:474 -> Request to files/upload\n",
      "2022-11-30 11:00:05,866-[INFO]- dropbox:390 -> Refreshing access token.\n",
      "2022-11-30 11:00:06,117-[INFO]- dropbox:474 -> Request to files/upload\n",
      "DATA/PRINCE\n",
      "2022-11-30 11:00:07,669-[INFO]- dropbox:390 -> Refreshing access token.\n",
      "2022-11-30 11:00:07,896-[INFO]- dropbox:474 -> Request to files/upload\n",
      "2022-11-30 11:00:09,348-[INFO]- dropbox:390 -> Refreshing access token.\n",
      "2022-11-30 11:00:09,568-[INFO]- dropbox:474 -> Request to files/upload\n",
      "2022-11-30 11:00:10,381-[INFO]- dropbox:390 -> Refreshing access token.\n",
      "2022-11-30 11:00:10,667-[INFO]- dropbox:474 -> Request to files/upload\n",
      "2022-11-30 11:00:11,639-[INFO]- dropbox:390 -> Refreshing access token.\n",
      "2022-11-30 11:00:11,860-[INFO]- dropbox:474 -> Request to files/upload\n",
      "DATA/PRINCE\n",
      "2022-11-30 11:00:12,843-[INFO]- dropbox:390 -> Refreshing access token.\n",
      "2022-11-30 11:00:13,096-[INFO]- dropbox:474 -> Request to files/upload\n",
      "2022-11-30 11:00:14,318-[INFO]- dropbox:390 -> Refreshing access token.\n",
      "2022-11-30 11:00:14,552-[INFO]- dropbox:474 -> Request to files/upload\n",
      "2022-11-30 11:00:15,686-[INFO]- dropbox:390 -> Refreshing access token.\n",
      "2022-11-30 11:00:15,915-[INFO]- dropbox:474 -> Request to files/upload\n",
      "2022-11-30 11:00:17,029-[INFO]- dropbox:390 -> Refreshing access token.\n",
      "2022-11-30 11:00:17,254-[INFO]- dropbox:474 -> Request to files/upload\n",
      "DATA/PRINCE\n",
      "2022-11-30 11:00:18,113-[INFO]- dropbox:390 -> Refreshing access token.\n",
      "2022-11-30 11:00:18,337-[INFO]- dropbox:474 -> Request to files/upload\n",
      "2022-11-30 11:00:20,089-[INFO]- dropbox:390 -> Refreshing access token.\n",
      "2022-11-30 11:00:20,324-[INFO]- dropbox:474 -> Request to files/upload\n",
      "2022-11-30 11:00:21,706-[INFO]- dropbox:390 -> Refreshing access token.\n",
      "2022-11-30 11:00:21,946-[INFO]- dropbox:474 -> Request to files/upload\n",
      "2022-11-30 11:00:23,199-[INFO]- dropbox:390 -> Refreshing access token.\n",
      "2022-11-30 11:00:23,469-[INFO]- dropbox:474 -> Request to files/upload\n",
      "DATA/PRINCE\n",
      "2022-11-30 11:00:24,805-[INFO]- dropbox:390 -> Refreshing access token.\n",
      "2022-11-30 11:00:25,027-[INFO]- dropbox:474 -> Request to files/upload\n",
      "2022-11-30 11:00:26,352-[INFO]- dropbox:390 -> Refreshing access token.\n",
      "2022-11-30 11:00:26,588-[INFO]- dropbox:474 -> Request to files/upload\n",
      "2022-11-30 11:00:27,750-[INFO]- dropbox:390 -> Refreshing access token.\n",
      "2022-11-30 11:00:27,986-[INFO]- dropbox:474 -> Request to files/upload\n",
      "2022-11-30 11:00:29,017-[INFO]- dropbox:390 -> Refreshing access token.\n",
      "2022-11-30 11:00:29,259-[INFO]- dropbox:474 -> Request to files/upload\n",
      "DATA/PRINCE\n",
      "2022-11-30 11:00:30,383-[INFO]- dropbox:390 -> Refreshing access token.\n",
      "2022-11-30 11:00:30,612-[INFO]- dropbox:474 -> Request to files/upload\n",
      "2022-11-30 11:00:32,266-[INFO]- dropbox:390 -> Refreshing access token.\n",
      "2022-11-30 11:00:32,496-[INFO]- dropbox:474 -> Request to files/upload\n",
      "2022-11-30 11:00:33,545-[INFO]- dropbox:390 -> Refreshing access token.\n",
      "2022-11-30 11:00:33,771-[INFO]- dropbox:474 -> Request to files/upload\n",
      "2022-11-30 11:00:35,651-[INFO]- dropbox:390 -> Refreshing access token.\n",
      "2022-11-30 11:00:35,903-[INFO]- dropbox:474 -> Request to files/upload\n",
      "DATA/PRINCE\n",
      "2022-11-30 11:00:37,045-[INFO]- dropbox:390 -> Refreshing access token.\n",
      "2022-11-30 11:00:37,274-[INFO]- dropbox:474 -> Request to files/upload\n",
      "2022-11-30 11:00:39,207-[INFO]- dropbox:390 -> Refreshing access token.\n",
      "2022-11-30 11:00:39,433-[INFO]- dropbox:474 -> Request to files/upload\n",
      "2022-11-30 11:00:40,487-[INFO]- dropbox:390 -> Refreshing access token.\n",
      "2022-11-30 11:00:40,720-[INFO]- dropbox:474 -> Request to files/upload\n",
      "2022-11-30 11:00:42,093-[INFO]- dropbox:390 -> Refreshing access token.\n",
      "2022-11-30 11:00:42,319-[INFO]- dropbox:474 -> Request to files/upload\n",
      "DATA/PRINCE\n",
      "2022-11-30 11:00:43,213-[INFO]- dropbox:390 -> Refreshing access token.\n",
      "2022-11-30 11:00:43,461-[INFO]- dropbox:474 -> Request to files/upload\n",
      "2022-11-30 11:00:44,826-[INFO]- dropbox:390 -> Refreshing access token.\n",
      "2022-11-30 11:00:45,072-[INFO]- dropbox:474 -> Request to files/upload\n",
      "2022-11-30 11:00:45,949-[INFO]- dropbox:390 -> Refreshing access token.\n",
      "2022-11-30 11:00:46,180-[INFO]- dropbox:474 -> Request to files/upload\n",
      "2022-11-30 11:00:47,300-[INFO]- dropbox:390 -> Refreshing access token.\n",
      "2022-11-30 11:00:47,535-[INFO]- dropbox:474 -> Request to files/upload\n",
      "DATA/PRINCE\n",
      "2022-11-30 11:00:49,238-[INFO]- dropbox:390 -> Refreshing access token.\n",
      "2022-11-30 11:00:49,462-[INFO]- dropbox:474 -> Request to files/upload\n",
      "2022-11-30 11:00:50,910-[INFO]- dropbox:390 -> Refreshing access token.\n",
      "2022-11-30 11:00:51,162-[INFO]- dropbox:474 -> Request to files/upload\n",
      "2022-11-30 11:00:52,100-[INFO]- dropbox:390 -> Refreshing access token.\n",
      "2022-11-30 11:00:52,340-[INFO]- dropbox:474 -> Request to files/upload\n",
      "2022-11-30 11:00:53,302-[INFO]- dropbox:390 -> Refreshing access token.\n",
      "2022-11-30 11:00:53,535-[INFO]- dropbox:474 -> Request to files/upload\n",
      "DATA/PRINCE\n",
      "2022-11-30 11:00:54,580-[INFO]- dropbox:390 -> Refreshing access token.\n",
      "2022-11-30 11:00:54,843-[INFO]- dropbox:474 -> Request to files/upload\n",
      "2022-11-30 11:00:56,212-[INFO]- dropbox:390 -> Refreshing access token.\n",
      "2022-11-30 11:00:56,448-[INFO]- dropbox:474 -> Request to files/upload\n",
      "2022-11-30 11:00:57,256-[INFO]- dropbox:390 -> Refreshing access token.\n",
      "2022-11-30 11:00:57,484-[INFO]- dropbox:474 -> Request to files/upload\n",
      "2022-11-30 11:00:59,420-[INFO]- dropbox:390 -> Refreshing access token.\n",
      "2022-11-30 11:00:59,647-[INFO]- dropbox:474 -> Request to files/upload\n",
      "DATA/PRINCE\n",
      "2022-11-30 11:01:00,496-[INFO]- dropbox:390 -> Refreshing access token.\n",
      "2022-11-30 11:01:00,736-[INFO]- dropbox:474 -> Request to files/upload\n",
      "2022-11-30 11:01:02,227-[INFO]- dropbox:390 -> Refreshing access token.\n",
      "2022-11-30 11:01:02,763-[INFO]- dropbox:474 -> Request to files/upload\n",
      "2022-11-30 11:01:03,910-[INFO]- dropbox:390 -> Refreshing access token.\n",
      "2022-11-30 11:01:04,145-[INFO]- dropbox:474 -> Request to files/upload\n",
      "2022-11-30 11:01:05,234-[INFO]- dropbox:390 -> Refreshing access token.\n",
      "2022-11-30 11:01:05,471-[INFO]- dropbox:474 -> Request to files/upload\n",
      "DATA/PRINCE\n",
      "2022-11-30 11:01:06,496-[INFO]- dropbox:390 -> Refreshing access token.\n",
      "2022-11-30 11:01:06,722-[INFO]- dropbox:474 -> Request to files/upload\n",
      "2022-11-30 11:01:08,039-[INFO]- dropbox:390 -> Refreshing access token.\n",
      "2022-11-30 11:01:08,265-[INFO]- dropbox:474 -> Request to files/upload\n",
      "2022-11-30 11:01:09,424-[INFO]- dropbox:390 -> Refreshing access token.\n",
      "2022-11-30 11:01:09,654-[INFO]- dropbox:474 -> Request to files/upload\n",
      "2022-11-30 11:01:10,826-[INFO]- dropbox:390 -> Refreshing access token.\n",
      "2022-11-30 11:01:11,073-[INFO]- dropbox:474 -> Request to files/upload\n",
      "DATA/PRINCE\n",
      "2022-11-30 11:01:12,557-[INFO]- dropbox:390 -> Refreshing access token.\n",
      "2022-11-30 11:01:12,818-[INFO]- dropbox:474 -> Request to files/upload\n",
      "2022-11-30 11:01:14,312-[INFO]- dropbox:390 -> Refreshing access token.\n",
      "2022-11-30 11:01:14,529-[INFO]- dropbox:474 -> Request to files/upload\n",
      "2022-11-30 11:01:15,460-[INFO]- dropbox:390 -> Refreshing access token.\n",
      "2022-11-30 11:01:15,697-[INFO]- dropbox:474 -> Request to files/upload\n",
      "2022-11-30 11:01:16,569-[INFO]- dropbox:390 -> Refreshing access token.\n",
      "2022-11-30 11:01:16,798-[INFO]- dropbox:474 -> Request to files/upload\n",
      "DATA/PRINCE\n",
      "2022-11-30 11:01:17,745-[INFO]- dropbox:390 -> Refreshing access token.\n",
      "2022-11-30 11:01:17,982-[INFO]- dropbox:474 -> Request to files/upload\n",
      "2022-11-30 11:01:19,452-[INFO]- dropbox:390 -> Refreshing access token.\n",
      "2022-11-30 11:01:19,701-[INFO]- dropbox:474 -> Request to files/upload\n",
      "2022-11-30 11:01:20,888-[INFO]- dropbox:390 -> Refreshing access token.\n",
      "2022-11-30 11:01:21,113-[INFO]- dropbox:474 -> Request to files/upload\n",
      "2022-11-30 11:01:22,198-[INFO]- dropbox:390 -> Refreshing access token.\n",
      "2022-11-30 11:01:22,428-[INFO]- dropbox:474 -> Request to files/upload\n",
      "DATA/PRINCE\n",
      "2022-11-30 11:01:23,370-[INFO]- dropbox:390 -> Refreshing access token.\n",
      "2022-11-30 11:01:23,618-[INFO]- dropbox:474 -> Request to files/upload\n",
      "2022-11-30 11:01:25,169-[INFO]- dropbox:390 -> Refreshing access token.\n",
      "2022-11-30 11:01:25,395-[INFO]- dropbox:474 -> Request to files/upload\n",
      "2022-11-30 11:01:26,774-[INFO]- dropbox:390 -> Refreshing access token.\n",
      "2022-11-30 11:01:27,001-[INFO]- dropbox:474 -> Request to files/upload\n",
      "2022-11-30 11:01:27,854-[INFO]- dropbox:390 -> Refreshing access token.\n",
      "2022-11-30 11:01:28,090-[INFO]- dropbox:474 -> Request to files/upload\n",
      "DATA/PRINCE\n",
      "2022-11-30 11:01:29,129-[INFO]- dropbox:390 -> Refreshing access token.\n",
      "2022-11-30 11:01:29,355-[INFO]- dropbox:474 -> Request to files/upload\n",
      "2022-11-30 11:01:30,839-[INFO]- dropbox:390 -> Refreshing access token.\n",
      "2022-11-30 11:01:31,072-[INFO]- dropbox:474 -> Request to files/upload\n",
      "2022-11-30 11:01:32,200-[INFO]- dropbox:390 -> Refreshing access token.\n",
      "2022-11-30 11:01:32,423-[INFO]- dropbox:474 -> Request to files/upload\n",
      "2022-11-30 11:01:33,332-[INFO]- dropbox:390 -> Refreshing access token.\n",
      "2022-11-30 11:01:33,559-[INFO]- dropbox:474 -> Request to files/upload\n",
      "DATA/PRINCE\n",
      "2022-11-30 11:01:34,884-[INFO]- dropbox:390 -> Refreshing access token.\n",
      "2022-11-30 11:01:35,252-[INFO]- dropbox:474 -> Request to files/upload\n",
      "2022-11-30 11:01:36,840-[INFO]- dropbox:390 -> Refreshing access token.\n",
      "2022-11-30 11:01:37,069-[INFO]- dropbox:474 -> Request to files/upload\n",
      "2022-11-30 11:01:38,040-[INFO]- dropbox:390 -> Refreshing access token.\n",
      "2022-11-30 11:01:38,276-[INFO]- dropbox:474 -> Request to files/upload\n",
      "2022-11-30 11:01:39,304-[INFO]- dropbox:390 -> Refreshing access token.\n",
      "2022-11-30 11:01:39,527-[INFO]- dropbox:474 -> Request to files/upload\n",
      "DATA/PRINCE\n",
      "2022-11-30 11:01:40,572-[INFO]- dropbox:390 -> Refreshing access token.\n",
      "2022-11-30 11:01:40,813-[INFO]- dropbox:474 -> Request to files/upload\n",
      "2022-11-30 11:01:42,476-[INFO]- dropbox:390 -> Refreshing access token.\n",
      "2022-11-30 11:01:42,721-[INFO]- dropbox:474 -> Request to files/upload\n",
      "2022-11-30 11:01:43,938-[INFO]- dropbox:390 -> Refreshing access token.\n",
      "2022-11-30 11:01:44,161-[INFO]- dropbox:474 -> Request to files/upload\n",
      "2022-11-30 11:01:45,272-[INFO]- dropbox:390 -> Refreshing access token.\n",
      "2022-11-30 11:01:45,514-[INFO]- dropbox:474 -> Request to files/upload\n",
      "DATA/PRINCE\n",
      "2022-11-30 11:01:47,088-[INFO]- dropbox:390 -> Refreshing access token.\n",
      "2022-11-30 11:01:47,310-[INFO]- dropbox:474 -> Request to files/upload\n",
      "2022-11-30 11:01:48,888-[INFO]- dropbox:390 -> Refreshing access token.\n",
      "2022-11-30 11:01:49,111-[INFO]- dropbox:474 -> Request to files/upload\n",
      "2022-11-30 11:01:50,601-[INFO]- dropbox:390 -> Refreshing access token.\n",
      "2022-11-30 11:01:50,843-[INFO]- dropbox:474 -> Request to files/upload\n",
      "2022-11-30 11:01:52,038-[INFO]- dropbox:390 -> Refreshing access token.\n",
      "2022-11-30 11:01:52,280-[INFO]- dropbox:474 -> Request to files/upload\n",
      "DATA/PRINCE\n",
      "2022-11-30 11:01:53,215-[INFO]- dropbox:390 -> Refreshing access token.\n",
      "2022-11-30 11:01:53,446-[INFO]- dropbox:474 -> Request to files/upload\n",
      "2022-11-30 11:01:55,032-[INFO]- dropbox:390 -> Refreshing access token.\n",
      "2022-11-30 11:01:55,251-[INFO]- dropbox:474 -> Request to files/upload\n",
      "2022-11-30 11:01:56,208-[INFO]- dropbox:390 -> Refreshing access token.\n",
      "2022-11-30 11:01:56,429-[INFO]- dropbox:474 -> Request to files/upload\n",
      "2022-11-30 11:01:57,350-[INFO]- dropbox:390 -> Refreshing access token.\n",
      "2022-11-30 11:01:57,570-[INFO]- dropbox:474 -> Request to files/upload\n",
      "DATA/PRINCE\n",
      "2022-11-30 11:01:58,383-[INFO]- dropbox:390 -> Refreshing access token.\n",
      "2022-11-30 11:01:58,625-[INFO]- dropbox:474 -> Request to files/upload\n",
      "2022-11-30 11:02:00,120-[INFO]- dropbox:390 -> Refreshing access token.\n",
      "2022-11-30 11:02:00,359-[INFO]- dropbox:474 -> Request to files/upload\n",
      "2022-11-30 11:02:01,260-[INFO]- dropbox:390 -> Refreshing access token.\n",
      "2022-11-30 11:02:01,480-[INFO]- dropbox:474 -> Request to files/upload\n",
      "2022-11-30 11:02:02,411-[INFO]- dropbox:390 -> Refreshing access token.\n",
      "2022-11-30 11:02:02,645-[INFO]- dropbox:474 -> Request to files/upload\n",
      "DATA/PRINCE\n",
      "2022-11-30 11:02:03,739-[INFO]- dropbox:390 -> Refreshing access token.\n",
      "2022-11-30 11:02:03,960-[INFO]- dropbox:474 -> Request to files/upload\n",
      "2022-11-30 11:02:05,163-[INFO]- dropbox:390 -> Refreshing access token.\n",
      "2022-11-30 11:02:05,408-[INFO]- dropbox:474 -> Request to files/upload\n",
      "2022-11-30 11:02:06,475-[INFO]- dropbox:390 -> Refreshing access token.\n",
      "2022-11-30 11:02:06,723-[INFO]- dropbox:474 -> Request to files/upload\n",
      "2022-11-30 11:02:07,801-[INFO]- dropbox:390 -> Refreshing access token.\n",
      "2022-11-30 11:02:08,035-[INFO]- dropbox:474 -> Request to files/upload\n",
      "DATA/PRINCE\n",
      "2022-11-30 11:02:09,072-[INFO]- dropbox:390 -> Refreshing access token.\n",
      "2022-11-30 11:02:09,299-[INFO]- dropbox:474 -> Request to files/upload\n",
      "2022-11-30 11:02:10,821-[INFO]- dropbox:390 -> Refreshing access token.\n",
      "2022-11-30 11:02:11,084-[INFO]- dropbox:474 -> Request to files/upload\n",
      "2022-11-30 11:02:12,018-[INFO]- dropbox:390 -> Refreshing access token.\n",
      "2022-11-30 11:02:12,285-[INFO]- dropbox:474 -> Request to files/upload\n",
      "2022-11-30 11:02:17,357-[INFO]- dropbox:390 -> Refreshing access token.\n",
      "2022-11-30 11:02:17,615-[INFO]- dropbox:474 -> Request to files/upload\n",
      "DATA/PRINCE\n",
      "2022-11-30 11:02:19,275-[INFO]- dropbox:390 -> Refreshing access token.\n",
      "2022-11-30 11:02:19,515-[INFO]- dropbox:474 -> Request to files/upload\n",
      "2022-11-30 11:02:21,065-[INFO]- dropbox:390 -> Refreshing access token.\n",
      "2022-11-30 11:02:21,313-[INFO]- dropbox:474 -> Request to files/upload\n",
      "2022-11-30 11:02:22,522-[INFO]- dropbox:390 -> Refreshing access token.\n",
      "2022-11-30 11:02:22,747-[INFO]- dropbox:474 -> Request to files/upload\n",
      "2022-11-30 11:02:23,702-[INFO]- dropbox:390 -> Refreshing access token.\n",
      "2022-11-30 11:02:23,927-[INFO]- dropbox:474 -> Request to files/upload\n",
      "DATA/PRINCE\n",
      "2022-11-30 11:02:25,051-[INFO]- dropbox:390 -> Refreshing access token.\n",
      "2022-11-30 11:02:25,274-[INFO]- dropbox:474 -> Request to files/upload\n",
      "2022-11-30 11:02:26,816-[INFO]- dropbox:390 -> Refreshing access token.\n",
      "2022-11-30 11:02:27,044-[INFO]- dropbox:474 -> Request to files/upload\n",
      "2022-11-30 11:02:28,206-[INFO]- dropbox:390 -> Refreshing access token.\n",
      "2022-11-30 11:02:28,469-[INFO]- dropbox:474 -> Request to files/upload\n",
      "2022-11-30 11:02:29,305-[INFO]- dropbox:390 -> Refreshing access token.\n",
      "2022-11-30 11:02:29,542-[INFO]- dropbox:474 -> Request to files/upload\n",
      "DATA/PRINCE\n",
      "2022-11-30 11:02:30,599-[INFO]- dropbox:390 -> Refreshing access token.\n",
      "2022-11-30 11:02:30,869-[INFO]- dropbox:474 -> Request to files/upload\n",
      "2022-11-30 11:02:33,013-[INFO]- dropbox:390 -> Refreshing access token.\n",
      "2022-11-30 11:02:33,243-[INFO]- dropbox:474 -> Request to files/upload\n",
      "2022-11-30 11:02:34,306-[INFO]- dropbox:390 -> Refreshing access token.\n",
      "2022-11-30 11:02:34,531-[INFO]- dropbox:474 -> Request to files/upload\n",
      "2022-11-30 11:02:35,519-[INFO]- dropbox:390 -> Refreshing access token.\n",
      "2022-11-30 11:02:35,763-[INFO]- dropbox:474 -> Request to files/upload\n",
      "DATA/PRINCE\n",
      "2022-11-30 11:02:36,721-[INFO]- dropbox:390 -> Refreshing access token.\n",
      "2022-11-30 11:02:36,946-[INFO]- dropbox:474 -> Request to files/upload\n",
      "2022-11-30 11:02:39,094-[INFO]- dropbox:390 -> Refreshing access token.\n",
      "2022-11-30 11:02:39,318-[INFO]- dropbox:474 -> Request to files/upload\n",
      "2022-11-30 11:02:40,187-[INFO]- dropbox:390 -> Refreshing access token.\n",
      "2022-11-30 11:02:40,414-[INFO]- dropbox:474 -> Request to files/upload\n",
      "2022-11-30 11:02:41,287-[INFO]- dropbox:390 -> Refreshing access token.\n",
      "2022-11-30 11:02:41,589-[INFO]- dropbox:474 -> Request to files/upload\n",
      "DATA/PRINCE\n",
      "2022-11-30 11:02:42,729-[INFO]- dropbox:390 -> Refreshing access token.\n",
      "2022-11-30 11:02:42,959-[INFO]- dropbox:474 -> Request to files/upload\n",
      "2022-11-30 11:02:44,710-[INFO]- dropbox:390 -> Refreshing access token.\n",
      "2022-11-30 11:02:44,955-[INFO]- dropbox:474 -> Request to files/upload\n",
      "2022-11-30 11:02:46,163-[INFO]- dropbox:390 -> Refreshing access token.\n",
      "2022-11-30 11:02:46,390-[INFO]- dropbox:474 -> Request to files/upload\n",
      "2022-11-30 11:02:47,275-[INFO]- dropbox:390 -> Refreshing access token.\n",
      "2022-11-30 11:02:47,499-[INFO]- dropbox:474 -> Request to files/upload\n",
      "DATA/PRINCE\n",
      "2022-11-30 11:02:48,732-[INFO]- dropbox:390 -> Refreshing access token.\n",
      "2022-11-30 11:02:48,958-[INFO]- dropbox:474 -> Request to files/upload\n",
      "2022-11-30 11:02:50,364-[INFO]- dropbox:390 -> Refreshing access token.\n",
      "2022-11-30 11:02:50,590-[INFO]- dropbox:474 -> Request to files/upload\n",
      "2022-11-30 11:02:51,662-[INFO]- dropbox:390 -> Refreshing access token.\n",
      "2022-11-30 11:02:51,907-[INFO]- dropbox:474 -> Request to files/upload\n",
      "2022-11-30 11:02:52,786-[INFO]- dropbox:390 -> Refreshing access token.\n",
      "2022-11-30 11:02:53,018-[INFO]- dropbox:474 -> Request to files/upload\n",
      "DATA/PRINCE\n",
      "2022-11-30 11:02:53,998-[INFO]- dropbox:390 -> Refreshing access token.\n",
      "2022-11-30 11:02:54,223-[INFO]- dropbox:474 -> Request to files/upload\n",
      "2022-11-30 11:02:55,719-[INFO]- dropbox:390 -> Refreshing access token.\n",
      "2022-11-30 11:02:55,953-[INFO]- dropbox:474 -> Request to files/upload\n",
      "2022-11-30 11:02:57,112-[INFO]- dropbox:390 -> Refreshing access token.\n",
      "2022-11-30 11:02:57,381-[INFO]- dropbox:474 -> Request to files/upload\n",
      "2022-11-30 11:02:58,834-[INFO]- dropbox:390 -> Refreshing access token.\n",
      "2022-11-30 11:02:59,090-[INFO]- dropbox:474 -> Request to files/upload\n",
      "DATA/PRINCE\n",
      "2022-11-30 11:03:00,426-[INFO]- dropbox:390 -> Refreshing access token.\n",
      "2022-11-30 11:03:00,674-[INFO]- dropbox:474 -> Request to files/upload\n",
      "2022-11-30 11:03:02,153-[INFO]- dropbox:390 -> Refreshing access token.\n",
      "2022-11-30 11:03:02,390-[INFO]- dropbox:474 -> Request to files/upload\n",
      "2022-11-30 11:03:03,388-[INFO]- dropbox:390 -> Refreshing access token.\n",
      "2022-11-30 11:03:03,616-[INFO]- dropbox:474 -> Request to files/upload\n",
      "2022-11-30 11:03:04,863-[INFO]- dropbox:390 -> Refreshing access token.\n",
      "2022-11-30 11:03:05,088-[INFO]- dropbox:474 -> Request to files/upload\n",
      "DATA/PRINCE\n",
      "2022-11-30 11:03:06,064-[INFO]- dropbox:390 -> Refreshing access token.\n",
      "2022-11-30 11:03:06,298-[INFO]- dropbox:474 -> Request to files/upload\n",
      "2022-11-30 11:03:07,620-[INFO]- dropbox:390 -> Refreshing access token.\n",
      "2022-11-30 11:03:07,864-[INFO]- dropbox:474 -> Request to files/upload\n",
      "2022-11-30 11:03:08,742-[INFO]- dropbox:390 -> Refreshing access token.\n",
      "2022-11-30 11:03:08,998-[INFO]- dropbox:474 -> Request to files/upload\n",
      "2022-11-30 11:03:10,192-[INFO]- dropbox:390 -> Refreshing access token.\n",
      "2022-11-30 11:03:10,417-[INFO]- dropbox:474 -> Request to files/upload\n",
      "DATA/PRINCE\n",
      "2022-11-30 11:03:11,480-[INFO]- dropbox:390 -> Refreshing access token.\n",
      "2022-11-30 11:03:11,741-[INFO]- dropbox:474 -> Request to files/upload\n",
      "2022-11-30 11:03:13,185-[INFO]- dropbox:390 -> Refreshing access token.\n",
      "2022-11-30 11:03:13,423-[INFO]- dropbox:474 -> Request to files/upload\n",
      "2022-11-30 11:03:14,363-[INFO]- dropbox:390 -> Refreshing access token.\n",
      "2022-11-30 11:03:14,593-[INFO]- dropbox:474 -> Request to files/upload\n",
      "2022-11-30 11:03:15,915-[INFO]- dropbox:390 -> Refreshing access token.\n",
      "2022-11-30 11:03:16,137-[INFO]- dropbox:474 -> Request to files/upload\n",
      "DATA/PRINCE\n",
      "2022-11-30 11:03:17,011-[INFO]- dropbox:390 -> Refreshing access token.\n",
      "2022-11-30 11:03:17,311-[INFO]- dropbox:474 -> Request to files/upload\n",
      "2022-11-30 11:03:18,598-[INFO]- dropbox:390 -> Refreshing access token.\n",
      "2022-11-30 11:03:18,827-[INFO]- dropbox:474 -> Request to files/upload\n",
      "2022-11-30 11:03:19,705-[INFO]- dropbox:390 -> Refreshing access token.\n",
      "2022-11-30 11:03:19,945-[INFO]- dropbox:474 -> Request to files/upload\n",
      "2022-11-30 11:03:20,899-[INFO]- dropbox:390 -> Refreshing access token.\n",
      "2022-11-30 11:03:21,144-[INFO]- dropbox:474 -> Request to files/upload\n",
      "DATA/PRINCE\n",
      "2022-11-30 11:03:22,295-[INFO]- dropbox:390 -> Refreshing access token.\n",
      "2022-11-30 11:03:22,520-[INFO]- dropbox:474 -> Request to files/upload\n",
      "2022-11-30 11:03:23,950-[INFO]- dropbox:390 -> Refreshing access token.\n",
      "2022-11-30 11:03:24,184-[INFO]- dropbox:474 -> Request to files/upload\n",
      "2022-11-30 11:03:25,251-[INFO]- dropbox:390 -> Refreshing access token.\n",
      "2022-11-30 11:03:25,474-[INFO]- dropbox:474 -> Request to files/upload\n",
      "2022-11-30 11:03:26,538-[INFO]- dropbox:390 -> Refreshing access token.\n",
      "2022-11-30 11:03:26,761-[INFO]- dropbox:474 -> Request to files/upload\n",
      "DATA/PRINCE\n",
      "2022-11-30 11:03:27,926-[INFO]- dropbox:390 -> Refreshing access token.\n",
      "2022-11-30 11:03:28,162-[INFO]- dropbox:474 -> Request to files/upload\n",
      "2022-11-30 11:03:30,181-[INFO]- dropbox:390 -> Refreshing access token.\n",
      "2022-11-30 11:03:30,412-[INFO]- dropbox:474 -> Request to files/upload\n",
      "2022-11-30 11:03:31,598-[INFO]- dropbox:390 -> Refreshing access token.\n",
      "2022-11-30 11:03:31,842-[INFO]- dropbox:474 -> Request to files/upload\n",
      "2022-11-30 11:03:33,037-[INFO]- dropbox:390 -> Refreshing access token.\n",
      "2022-11-30 11:03:33,257-[INFO]- dropbox:474 -> Request to files/upload\n",
      "DATA/PRINCE\n",
      "2022-11-30 11:03:34,590-[INFO]- dropbox:390 -> Refreshing access token.\n",
      "2022-11-30 11:03:34,820-[INFO]- dropbox:474 -> Request to files/upload\n",
      "2022-11-30 11:03:36,189-[INFO]- dropbox:390 -> Refreshing access token.\n",
      "2022-11-30 11:03:36,418-[INFO]- dropbox:474 -> Request to files/upload\n",
      "2022-11-30 11:03:37,430-[INFO]- dropbox:390 -> Refreshing access token.\n",
      "2022-11-30 11:03:37,669-[INFO]- dropbox:474 -> Request to files/upload\n",
      "2022-11-30 11:03:38,829-[INFO]- dropbox:390 -> Refreshing access token.\n",
      "2022-11-30 11:03:39,075-[INFO]- dropbox:474 -> Request to files/upload\n",
      "DATA/PRINCE\n",
      "2022-11-30 11:03:40,141-[INFO]- dropbox:390 -> Refreshing access token.\n",
      "2022-11-30 11:03:40,368-[INFO]- dropbox:474 -> Request to files/upload\n",
      "2022-11-30 11:03:41,788-[INFO]- dropbox:390 -> Refreshing access token.\n",
      "2022-11-30 11:03:42,006-[INFO]- dropbox:474 -> Request to files/upload\n",
      "2022-11-30 11:03:43,128-[INFO]- dropbox:390 -> Refreshing access token.\n",
      "2022-11-30 11:03:43,362-[INFO]- dropbox:474 -> Request to files/upload\n",
      "2022-11-30 11:03:44,454-[INFO]- dropbox:390 -> Refreshing access token.\n",
      "2022-11-30 11:03:44,678-[INFO]- dropbox:474 -> Request to files/upload\n",
      "DATA/PRINCE\n",
      "2022-11-30 11:03:45,888-[INFO]- dropbox:390 -> Refreshing access token.\n",
      "2022-11-30 11:03:46,116-[INFO]- dropbox:474 -> Request to files/upload\n",
      "2022-11-30 11:03:47,586-[INFO]- dropbox:390 -> Refreshing access token.\n",
      "2022-11-30 11:03:47,810-[INFO]- dropbox:474 -> Request to files/upload\n",
      "2022-11-30 11:03:48,857-[INFO]- dropbox:390 -> Refreshing access token.\n",
      "2022-11-30 11:03:49,093-[INFO]- dropbox:474 -> Request to files/upload\n",
      "2022-11-30 11:03:50,162-[INFO]- dropbox:390 -> Refreshing access token.\n",
      "2022-11-30 11:03:50,387-[INFO]- dropbox:474 -> Request to files/upload\n",
      "DATA/PRINCE\n",
      "2022-11-30 11:03:51,610-[INFO]- dropbox:390 -> Refreshing access token.\n",
      "2022-11-30 11:03:51,843-[INFO]- dropbox:474 -> Request to files/upload\n",
      "2022-11-30 11:03:53,315-[INFO]- dropbox:390 -> Refreshing access token.\n",
      "2022-11-30 11:03:53,537-[INFO]- dropbox:474 -> Request to files/upload\n",
      "2022-11-30 11:03:54,912-[INFO]- dropbox:390 -> Refreshing access token.\n",
      "2022-11-30 11:03:55,134-[INFO]- dropbox:474 -> Request to files/upload\n",
      "2022-11-30 11:03:56,077-[INFO]- dropbox:390 -> Refreshing access token.\n",
      "2022-11-30 11:03:56,314-[INFO]- dropbox:474 -> Request to files/upload\n",
      "DATA/PRINCE\n",
      "2022-11-30 11:03:57,634-[INFO]- dropbox:390 -> Refreshing access token.\n",
      "2022-11-30 11:03:57,892-[INFO]- dropbox:474 -> Request to files/upload\n",
      "2022-11-30 11:03:59,125-[INFO]- dropbox:390 -> Refreshing access token.\n",
      "2022-11-30 11:03:59,352-[INFO]- dropbox:474 -> Request to files/upload\n",
      "2022-11-30 11:04:00,393-[INFO]- dropbox:390 -> Refreshing access token.\n",
      "2022-11-30 11:04:00,613-[INFO]- dropbox:474 -> Request to files/upload\n",
      "2022-11-30 11:04:01,808-[INFO]- dropbox:390 -> Refreshing access token.\n",
      "2022-11-30 11:04:02,057-[INFO]- dropbox:474 -> Request to files/upload\n",
      "DATA/PRINCE\n",
      "2022-11-30 11:04:03,219-[INFO]- dropbox:390 -> Refreshing access token.\n",
      "2022-11-30 11:04:03,437-[INFO]- dropbox:474 -> Request to files/upload\n",
      "2022-11-30 11:04:04,820-[INFO]- dropbox:390 -> Refreshing access token.\n",
      "2022-11-30 11:04:05,052-[INFO]- dropbox:474 -> Request to files/upload\n",
      "2022-11-30 11:04:06,135-[INFO]- dropbox:390 -> Refreshing access token.\n",
      "2022-11-30 11:04:06,351-[INFO]- dropbox:474 -> Request to files/upload\n",
      "2022-11-30 11:04:08,602-[INFO]- dropbox:390 -> Refreshing access token.\n",
      "2022-11-30 11:04:08,821-[INFO]- dropbox:474 -> Request to files/upload\n",
      "DATA/PRINCE\n",
      "2022-11-30 11:04:10,392-[INFO]- dropbox:390 -> Refreshing access token.\n",
      "2022-11-30 11:04:10,628-[INFO]- dropbox:474 -> Request to files/upload\n",
      "2022-11-30 11:04:12,135-[INFO]- dropbox:390 -> Refreshing access token.\n",
      "2022-11-30 11:04:12,441-[INFO]- dropbox:474 -> Request to files/upload\n",
      "2022-11-30 11:04:13,384-[INFO]- dropbox:390 -> Refreshing access token.\n",
      "2022-11-30 11:04:13,609-[INFO]- dropbox:474 -> Request to files/upload\n",
      "2022-11-30 11:04:14,546-[INFO]- dropbox:390 -> Refreshing access token.\n",
      "2022-11-30 11:04:14,849-[INFO]- dropbox:474 -> Request to files/upload\n",
      "DATA/PRINCE\n",
      "2022-11-30 11:04:15,767-[INFO]- dropbox:390 -> Refreshing access token.\n",
      "2022-11-30 11:04:15,993-[INFO]- dropbox:474 -> Request to files/upload\n",
      "2022-11-30 11:04:17,456-[INFO]- dropbox:390 -> Refreshing access token.\n",
      "2022-11-30 11:04:17,689-[INFO]- dropbox:474 -> Request to files/upload\n",
      "2022-11-30 11:04:18,547-[INFO]- dropbox:390 -> Refreshing access token.\n",
      "2022-11-30 11:04:18,782-[INFO]- dropbox:474 -> Request to files/upload\n",
      "2022-11-30 11:04:20,384-[INFO]- dropbox:390 -> Refreshing access token.\n",
      "2022-11-30 11:04:20,617-[INFO]- dropbox:474 -> Request to files/upload\n",
      "DATA/PRINCE\n",
      "2022-11-30 11:04:21,702-[INFO]- dropbox:390 -> Refreshing access token.\n",
      "2022-11-30 11:04:21,928-[INFO]- dropbox:474 -> Request to files/upload\n",
      "2022-11-30 11:04:23,161-[INFO]- dropbox:390 -> Refreshing access token.\n",
      "2022-11-30 11:04:23,422-[INFO]- dropbox:474 -> Request to files/upload\n",
      "2022-11-30 11:04:24,382-[INFO]- dropbox:390 -> Refreshing access token.\n",
      "2022-11-30 11:04:24,602-[INFO]- dropbox:474 -> Request to files/upload\n",
      "2022-11-30 11:04:25,815-[INFO]- dropbox:390 -> Refreshing access token.\n",
      "2022-11-30 11:04:26,043-[INFO]- dropbox:474 -> Request to files/upload\n",
      "DATA/PRINCE\n",
      "2022-11-30 11:04:26,889-[INFO]- dropbox:390 -> Refreshing access token.\n",
      "2022-11-30 11:04:27,115-[INFO]- dropbox:474 -> Request to files/upload\n",
      "2022-11-30 11:04:28,458-[INFO]- dropbox:390 -> Refreshing access token.\n",
      "2022-11-30 11:04:28,678-[INFO]- dropbox:474 -> Request to files/upload\n",
      "2022-11-30 11:04:29,621-[INFO]- dropbox:390 -> Refreshing access token.\n",
      "2022-11-30 11:04:29,843-[INFO]- dropbox:474 -> Request to files/upload\n",
      "2022-11-30 11:04:30,943-[INFO]- dropbox:390 -> Refreshing access token.\n",
      "2022-11-30 11:04:31,174-[INFO]- dropbox:474 -> Request to files/upload\n",
      "DATA/PRINCE\n",
      "2022-11-30 11:04:32,252-[INFO]- dropbox:390 -> Refreshing access token.\n",
      "2022-11-30 11:04:32,480-[INFO]- dropbox:474 -> Request to files/upload\n",
      "2022-11-30 11:04:34,086-[INFO]- dropbox:390 -> Refreshing access token.\n",
      "2022-11-30 11:04:34,332-[INFO]- dropbox:474 -> Request to files/upload\n",
      "2022-11-30 11:04:35,301-[INFO]- dropbox:390 -> Refreshing access token.\n",
      "2022-11-30 11:04:35,526-[INFO]- dropbox:474 -> Request to files/upload\n",
      "2022-11-30 11:04:36,522-[INFO]- dropbox:390 -> Refreshing access token.\n",
      "2022-11-30 11:04:36,789-[INFO]- dropbox:474 -> Request to files/upload\n",
      "DATA/PRINCE\n",
      "2022-11-30 11:04:37,763-[INFO]- dropbox:390 -> Refreshing access token.\n",
      "2022-11-30 11:04:38,006-[INFO]- dropbox:474 -> Request to files/upload\n",
      "2022-11-30 11:04:39,848-[INFO]- dropbox:390 -> Refreshing access token.\n",
      "2022-11-30 11:04:40,068-[INFO]- dropbox:474 -> Request to files/upload\n",
      "2022-11-30 11:04:40,981-[INFO]- dropbox:390 -> Refreshing access token.\n",
      "2022-11-30 11:04:41,226-[INFO]- dropbox:474 -> Request to files/upload\n",
      "2022-11-30 11:04:42,064-[INFO]- dropbox:390 -> Refreshing access token.\n",
      "2022-11-30 11:04:42,299-[INFO]- dropbox:474 -> Request to files/upload\n",
      "DATA/PRINCE\n",
      "2022-11-30 11:04:43,268-[INFO]- dropbox:390 -> Refreshing access token.\n",
      "2022-11-30 11:04:43,495-[INFO]- dropbox:474 -> Request to files/upload\n",
      "2022-11-30 11:04:45,339-[INFO]- dropbox:390 -> Refreshing access token.\n",
      "2022-11-30 11:04:45,578-[INFO]- dropbox:474 -> Request to files/upload\n",
      "2022-11-30 11:04:46,595-[INFO]- dropbox:390 -> Refreshing access token.\n",
      "2022-11-30 11:04:46,824-[INFO]- dropbox:474 -> Request to files/upload\n",
      "2022-11-30 11:04:47,850-[INFO]- dropbox:390 -> Refreshing access token.\n",
      "2022-11-30 11:04:48,083-[INFO]- dropbox:474 -> Request to files/upload\n",
      "DATA/PRINCE\n",
      "2022-11-30 11:04:49,075-[INFO]- dropbox:390 -> Refreshing access token.\n",
      "2022-11-30 11:04:49,304-[INFO]- dropbox:474 -> Request to files/upload\n",
      "2022-11-30 11:04:50,945-[INFO]- dropbox:390 -> Refreshing access token.\n",
      "2022-11-30 11:04:51,173-[INFO]- dropbox:474 -> Request to files/upload\n",
      "2022-11-30 11:04:52,476-[INFO]- dropbox:390 -> Refreshing access token.\n",
      "2022-11-30 11:04:52,735-[INFO]- dropbox:474 -> Request to files/upload\n",
      "2022-11-30 11:04:53,577-[INFO]- dropbox:390 -> Refreshing access token.\n",
      "2022-11-30 11:04:53,823-[INFO]- dropbox:474 -> Request to files/upload\n",
      "DATA/PRINCE\n",
      "2022-11-30 11:04:54,726-[INFO]- dropbox:390 -> Refreshing access token.\n",
      "2022-11-30 11:04:55,013-[INFO]- dropbox:474 -> Request to files/upload\n",
      "2022-11-30 11:04:56,826-[INFO]- dropbox:390 -> Refreshing access token.\n",
      "2022-11-30 11:04:57,067-[INFO]- dropbox:474 -> Request to files/upload\n",
      "2022-11-30 11:04:58,066-[INFO]- dropbox:390 -> Refreshing access token.\n",
      "2022-11-30 11:04:58,305-[INFO]- dropbox:474 -> Request to files/upload\n",
      "2022-11-30 11:04:59,389-[INFO]- dropbox:390 -> Refreshing access token.\n",
      "2022-11-30 11:04:59,609-[INFO]- dropbox:474 -> Request to files/upload\n",
      "DATA/PRINCE\n",
      "2022-11-30 11:05:00,669-[INFO]- dropbox:390 -> Refreshing access token.\n",
      "2022-11-30 11:05:00,894-[INFO]- dropbox:474 -> Request to files/upload\n",
      "2022-11-30 11:05:02,412-[INFO]- dropbox:390 -> Refreshing access token.\n",
      "2022-11-30 11:05:02,644-[INFO]- dropbox:474 -> Request to files/upload\n",
      "2022-11-30 11:05:03,713-[INFO]- dropbox:390 -> Refreshing access token.\n",
      "2022-11-30 11:05:03,951-[INFO]- dropbox:474 -> Request to files/upload\n",
      "2022-11-30 11:05:05,123-[INFO]- dropbox:390 -> Refreshing access token.\n",
      "2022-11-30 11:05:05,346-[INFO]- dropbox:474 -> Request to files/upload\n",
      "DATA/PRINCE\n",
      "2022-11-30 11:05:06,675-[INFO]- dropbox:390 -> Refreshing access token.\n",
      "2022-11-30 11:05:06,931-[INFO]- dropbox:474 -> Request to files/upload\n",
      "2022-11-30 11:05:09,007-[INFO]- dropbox:390 -> Refreshing access token.\n",
      "2022-11-30 11:05:09,252-[INFO]- dropbox:474 -> Request to files/upload\n",
      "2022-11-30 11:05:10,207-[INFO]- dropbox:390 -> Refreshing access token.\n",
      "2022-11-30 11:05:10,431-[INFO]- dropbox:474 -> Request to files/upload\n",
      "2022-11-30 11:05:11,699-[INFO]- dropbox:390 -> Refreshing access token.\n",
      "2022-11-30 11:05:11,926-[INFO]- dropbox:474 -> Request to files/upload\n",
      "DATA/PRINCE\n",
      "2022-11-30 11:05:12,969-[INFO]- dropbox:390 -> Refreshing access token.\n",
      "2022-11-30 11:05:13,198-[INFO]- dropbox:474 -> Request to files/upload\n",
      "2022-11-30 11:05:14,839-[INFO]- dropbox:390 -> Refreshing access token.\n",
      "2022-11-30 11:05:15,079-[INFO]- dropbox:474 -> Request to files/upload\n",
      "2022-11-30 11:05:16,074-[INFO]- dropbox:390 -> Refreshing access token.\n",
      "2022-11-30 11:05:16,292-[INFO]- dropbox:474 -> Request to files/upload\n",
      "2022-11-30 11:05:17,147-[INFO]- dropbox:390 -> Refreshing access token.\n",
      "2022-11-30 11:05:17,402-[INFO]- dropbox:474 -> Request to files/upload\n",
      "DATA/PRINCE\n",
      "2022-11-30 11:05:18,511-[INFO]- dropbox:390 -> Refreshing access token.\n",
      "2022-11-30 11:05:18,739-[INFO]- dropbox:474 -> Request to files/upload\n",
      "2022-11-30 11:05:20,254-[INFO]- dropbox:390 -> Refreshing access token.\n",
      "2022-11-30 11:05:20,484-[INFO]- dropbox:474 -> Request to files/upload\n",
      "2022-11-30 11:05:21,566-[INFO]- dropbox:390 -> Refreshing access token.\n",
      "2022-11-30 11:05:21,788-[INFO]- dropbox:474 -> Request to files/upload\n",
      "2022-11-30 11:05:22,654-[INFO]- dropbox:390 -> Refreshing access token.\n",
      "2022-11-30 11:05:22,876-[INFO]- dropbox:474 -> Request to files/upload\n",
      "DATA/PRINCE\n",
      "2022-11-30 11:05:23,781-[INFO]- dropbox:390 -> Refreshing access token.\n",
      "2022-11-30 11:05:24,003-[INFO]- dropbox:474 -> Request to files/upload\n",
      "2022-11-30 11:05:25,341-[INFO]- dropbox:390 -> Refreshing access token.\n",
      "2022-11-30 11:05:25,564-[INFO]- dropbox:474 -> Request to files/upload\n",
      "2022-11-30 11:05:26,637-[INFO]- dropbox:390 -> Refreshing access token.\n",
      "2022-11-30 11:05:26,861-[INFO]- dropbox:474 -> Request to files/upload\n",
      "2022-11-30 11:05:27,753-[INFO]- dropbox:390 -> Refreshing access token.\n",
      "2022-11-30 11:05:27,970-[INFO]- dropbox:474 -> Request to files/upload\n",
      "DATA/PRINCE\n",
      "2022-11-30 11:05:28,992-[INFO]- dropbox:390 -> Refreshing access token.\n",
      "2022-11-30 11:05:29,233-[INFO]- dropbox:474 -> Request to files/upload\n",
      "2022-11-30 11:05:30,937-[INFO]- dropbox:390 -> Refreshing access token.\n",
      "2022-11-30 11:05:31,163-[INFO]- dropbox:474 -> Request to files/upload\n",
      "2022-11-30 11:05:32,173-[INFO]- dropbox:390 -> Refreshing access token.\n",
      "2022-11-30 11:05:32,396-[INFO]- dropbox:474 -> Request to files/upload\n",
      "2022-11-30 11:05:33,354-[INFO]- dropbox:390 -> Refreshing access token.\n",
      "2022-11-30 11:05:33,576-[INFO]- dropbox:474 -> Request to files/upload\n",
      "DATA/PRINCE\n",
      "2022-11-30 11:05:34,401-[INFO]- dropbox:390 -> Refreshing access token.\n",
      "2022-11-30 11:05:34,627-[INFO]- dropbox:474 -> Request to files/upload\n",
      "2022-11-30 11:05:36,218-[INFO]- dropbox:390 -> Refreshing access token.\n",
      "2022-11-30 11:05:36,443-[INFO]- dropbox:474 -> Request to files/upload\n",
      "2022-11-30 11:05:37,505-[INFO]- dropbox:390 -> Refreshing access token.\n",
      "2022-11-30 11:05:37,745-[INFO]- dropbox:474 -> Request to files/upload\n",
      "2022-11-30 11:05:38,942-[INFO]- dropbox:390 -> Refreshing access token.\n",
      "2022-11-30 11:05:39,191-[INFO]- dropbox:474 -> Request to files/upload\n",
      "DATA/PRINCE\n",
      "2022-11-30 11:05:39,987-[INFO]- dropbox:390 -> Refreshing access token.\n",
      "2022-11-30 11:05:40,220-[INFO]- dropbox:474 -> Request to files/upload\n",
      "2022-11-30 11:05:41,734-[INFO]- dropbox:390 -> Refreshing access token.\n",
      "2022-11-30 11:05:41,956-[INFO]- dropbox:474 -> Request to files/upload\n",
      "2022-11-30 11:05:43,107-[INFO]- dropbox:390 -> Refreshing access token.\n",
      "2022-11-30 11:05:43,331-[INFO]- dropbox:474 -> Request to files/upload\n",
      "2022-11-30 11:05:44,259-[INFO]- dropbox:390 -> Refreshing access token.\n",
      "2022-11-30 11:05:44,495-[INFO]- dropbox:474 -> Request to files/upload\n",
      "DATA/PRINCE\n",
      "2022-11-30 11:05:45,555-[INFO]- dropbox:390 -> Refreshing access token.\n",
      "2022-11-30 11:05:45,784-[INFO]- dropbox:474 -> Request to files/upload\n",
      "2022-11-30 11:05:47,412-[INFO]- dropbox:390 -> Refreshing access token.\n",
      "2022-11-30 11:05:47,636-[INFO]- dropbox:474 -> Request to files/upload\n",
      "2022-11-30 11:05:49,100-[INFO]- dropbox:390 -> Refreshing access token.\n",
      "2022-11-30 11:05:49,317-[INFO]- dropbox:474 -> Request to files/upload\n",
      "2022-11-30 11:05:50,286-[INFO]- dropbox:390 -> Refreshing access token.\n",
      "2022-11-30 11:05:50,564-[INFO]- dropbox:474 -> Request to files/upload\n",
      "DATA/PRINCE\n",
      "2022-11-30 11:05:51,574-[INFO]- dropbox:390 -> Refreshing access token.\n",
      "2022-11-30 11:05:51,813-[INFO]- dropbox:474 -> Request to files/upload\n",
      "2022-11-30 11:05:53,292-[INFO]- dropbox:390 -> Refreshing access token.\n",
      "2022-11-30 11:05:53,676-[INFO]- dropbox:474 -> Request to files/upload\n",
      "2022-11-30 11:05:54,581-[INFO]- dropbox:390 -> Refreshing access token.\n",
      "2022-11-30 11:05:54,805-[INFO]- dropbox:474 -> Request to files/upload\n",
      "2022-11-30 11:05:55,745-[INFO]- dropbox:390 -> Refreshing access token.\n",
      "2022-11-30 11:05:55,984-[INFO]- dropbox:474 -> Request to files/upload\n",
      "DATA/PRINCE\n",
      "2022-11-30 11:05:56,862-[INFO]- dropbox:390 -> Refreshing access token.\n",
      "2022-11-30 11:05:57,098-[INFO]- dropbox:474 -> Request to files/upload\n",
      "2022-11-30 11:05:58,754-[INFO]- dropbox:390 -> Refreshing access token.\n",
      "2022-11-30 11:05:58,988-[INFO]- dropbox:474 -> Request to files/upload\n",
      "2022-11-30 11:06:00,028-[INFO]- dropbox:390 -> Refreshing access token.\n",
      "2022-11-30 11:06:00,261-[INFO]- dropbox:474 -> Request to files/upload\n",
      "2022-11-30 11:06:01,416-[INFO]- dropbox:390 -> Refreshing access token.\n",
      "2022-11-30 11:06:01,646-[INFO]- dropbox:474 -> Request to files/upload\n",
      "DATA/PRINCE\n",
      "2022-11-30 11:06:03,491-[INFO]- dropbox:390 -> Refreshing access token.\n",
      "2022-11-30 11:06:03,738-[INFO]- dropbox:474 -> Request to files/upload\n",
      "2022-11-30 11:06:05,148-[INFO]- dropbox:390 -> Refreshing access token.\n",
      "2022-11-30 11:06:05,376-[INFO]- dropbox:474 -> Request to files/upload\n",
      "2022-11-30 11:06:06,359-[INFO]- dropbox:390 -> Refreshing access token.\n",
      "2022-11-30 11:06:06,589-[INFO]- dropbox:474 -> Request to files/upload\n",
      "2022-11-30 11:06:07,662-[INFO]- dropbox:390 -> Refreshing access token.\n",
      "2022-11-30 11:06:07,899-[INFO]- dropbox:474 -> Request to files/upload\n",
      "DATA/PRINCE\n",
      "2022-11-30 11:06:08,896-[INFO]- dropbox:390 -> Refreshing access token.\n",
      "2022-11-30 11:06:09,125-[INFO]- dropbox:474 -> Request to files/upload\n",
      "2022-11-30 11:06:10,518-[INFO]- dropbox:390 -> Refreshing access token.\n",
      "2022-11-30 11:06:10,788-[INFO]- dropbox:474 -> Request to files/upload\n",
      "2022-11-30 11:06:11,847-[INFO]- dropbox:390 -> Refreshing access token.\n",
      "2022-11-30 11:06:12,086-[INFO]- dropbox:474 -> Request to files/upload\n",
      "2022-11-30 11:06:13,516-[INFO]- dropbox:390 -> Refreshing access token.\n",
      "2022-11-30 11:06:13,754-[INFO]- dropbox:474 -> Request to files/upload\n",
      "DATA/PRINCE\n",
      "2022-11-30 11:06:15,264-[INFO]- dropbox:390 -> Refreshing access token.\n",
      "2022-11-30 11:06:15,488-[INFO]- dropbox:474 -> Request to files/upload\n",
      "2022-11-30 11:06:16,843-[INFO]- dropbox:390 -> Refreshing access token.\n",
      "2022-11-30 11:06:17,074-[INFO]- dropbox:474 -> Request to files/upload\n",
      "2022-11-30 11:06:18,221-[INFO]- dropbox:390 -> Refreshing access token.\n",
      "2022-11-30 11:06:18,467-[INFO]- dropbox:474 -> Request to files/upload\n",
      "2022-11-30 11:06:19,278-[INFO]- dropbox:390 -> Refreshing access token.\n",
      "2022-11-30 11:06:19,514-[INFO]- dropbox:474 -> Request to files/upload\n",
      "DATA/PRINCE\n",
      "2022-11-30 11:06:20,892-[INFO]- dropbox:390 -> Refreshing access token.\n",
      "2022-11-30 11:06:21,121-[INFO]- dropbox:474 -> Request to files/upload\n",
      "2022-11-30 11:06:22,756-[INFO]- dropbox:390 -> Refreshing access token.\n",
      "2022-11-30 11:06:23,013-[INFO]- dropbox:474 -> Request to files/upload\n",
      "2022-11-30 11:06:24,232-[INFO]- dropbox:390 -> Refreshing access token.\n",
      "2022-11-30 11:06:24,462-[INFO]- dropbox:474 -> Request to files/upload\n",
      "2022-11-30 11:06:25,565-[INFO]- dropbox:390 -> Refreshing access token.\n",
      "2022-11-30 11:06:25,809-[INFO]- dropbox:474 -> Request to files/upload\n",
      "DATA/PRINCE\n",
      "2022-11-30 11:06:26,614-[INFO]- dropbox:390 -> Refreshing access token.\n",
      "2022-11-30 11:06:27,565-[INFO]- dropbox:474 -> Request to files/upload\n",
      "2022-11-30 11:06:29,206-[INFO]- dropbox:390 -> Refreshing access token.\n",
      "2022-11-30 11:06:29,465-[INFO]- dropbox:474 -> Request to files/upload\n",
      "2022-11-30 11:06:30,431-[INFO]- dropbox:390 -> Refreshing access token.\n",
      "2022-11-30 11:06:30,678-[INFO]- dropbox:474 -> Request to files/upload\n",
      "2022-11-30 11:06:31,861-[INFO]- dropbox:390 -> Refreshing access token.\n",
      "2022-11-30 11:06:32,087-[INFO]- dropbox:474 -> Request to files/upload\n",
      "DATA/PRINCE\n",
      "2022-11-30 11:06:33,003-[INFO]- dropbox:390 -> Refreshing access token.\n",
      "2022-11-30 11:06:33,255-[INFO]- dropbox:474 -> Request to files/upload\n",
      "2022-11-30 11:06:34,835-[INFO]- dropbox:390 -> Refreshing access token.\n",
      "2022-11-30 11:06:35,081-[INFO]- dropbox:474 -> Request to files/upload\n",
      "2022-11-30 11:06:36,238-[INFO]- dropbox:390 -> Refreshing access token.\n",
      "2022-11-30 11:06:36,556-[INFO]- dropbox:474 -> Request to files/upload\n",
      "2022-11-30 11:06:37,646-[INFO]- dropbox:390 -> Refreshing access token.\n",
      "2022-11-30 11:06:37,886-[INFO]- dropbox:474 -> Request to files/upload\n",
      "DATA/PRINCE\n",
      "2022-11-30 11:06:39,226-[INFO]- dropbox:390 -> Refreshing access token.\n",
      "2022-11-30 11:06:39,470-[INFO]- dropbox:474 -> Request to files/upload\n",
      "2022-11-30 11:06:41,033-[INFO]- dropbox:390 -> Refreshing access token.\n",
      "2022-11-30 11:06:41,262-[INFO]- dropbox:474 -> Request to files/upload\n",
      "2022-11-30 11:06:42,193-[INFO]- dropbox:390 -> Refreshing access token.\n",
      "2022-11-30 11:06:42,419-[INFO]- dropbox:474 -> Request to files/upload\n",
      "2022-11-30 11:06:43,553-[INFO]- dropbox:390 -> Refreshing access token.\n",
      "2022-11-30 11:06:43,793-[INFO]- dropbox:474 -> Request to files/upload\n",
      "DATA/PRINCE\n",
      "2022-11-30 11:06:44,759-[INFO]- dropbox:390 -> Refreshing access token.\n",
      "2022-11-30 11:06:44,989-[INFO]- dropbox:474 -> Request to files/upload\n",
      "2022-11-30 11:06:46,385-[INFO]- dropbox:390 -> Refreshing access token.\n",
      "2022-11-30 11:06:46,617-[INFO]- dropbox:474 -> Request to files/upload\n",
      "2022-11-30 11:06:47,952-[INFO]- dropbox:390 -> Refreshing access token.\n",
      "2022-11-30 11:06:48,210-[INFO]- dropbox:474 -> Request to files/upload\n",
      "2022-11-30 11:06:49,214-[INFO]- dropbox:390 -> Refreshing access token.\n",
      "2022-11-30 11:06:49,437-[INFO]- dropbox:474 -> Request to files/upload\n",
      "DATA/PRINCE\n",
      "2022-11-30 11:06:50,300-[INFO]- dropbox:390 -> Refreshing access token.\n",
      "2022-11-30 11:06:50,528-[INFO]- dropbox:474 -> Request to files/upload\n",
      "2022-11-30 11:06:51,979-[INFO]- dropbox:390 -> Refreshing access token.\n",
      "2022-11-30 11:06:52,216-[INFO]- dropbox:474 -> Request to files/upload\n",
      "2022-11-30 11:06:53,173-[INFO]- dropbox:390 -> Refreshing access token.\n",
      "2022-11-30 11:06:53,408-[INFO]- dropbox:474 -> Request to files/upload\n",
      "2022-11-30 11:06:54,243-[INFO]- dropbox:390 -> Refreshing access token.\n",
      "2022-11-30 11:06:54,461-[INFO]- dropbox:474 -> Request to files/upload\n",
      "DATA/PRINCE\n",
      "2022-11-30 11:06:55,582-[INFO]- dropbox:390 -> Refreshing access token.\n",
      "2022-11-30 11:06:55,817-[INFO]- dropbox:474 -> Request to files/upload\n",
      "2022-11-30 11:06:57,402-[INFO]- dropbox:390 -> Refreshing access token.\n",
      "2022-11-30 11:06:57,652-[INFO]- dropbox:474 -> Request to files/upload\n",
      "2022-11-30 11:06:58,959-[INFO]- dropbox:390 -> Refreshing access token.\n",
      "2022-11-30 11:06:59,886-[INFO]- dropbox:474 -> Request to files/upload\n",
      "2022-11-30 11:07:00,868-[INFO]- dropbox:390 -> Refreshing access token.\n",
      "2022-11-30 11:07:01,106-[INFO]- dropbox:474 -> Request to files/upload\n",
      "DATA/PRINCE\n",
      "2022-11-30 11:07:02,102-[INFO]- dropbox:390 -> Refreshing access token.\n",
      "2022-11-30 11:07:02,328-[INFO]- dropbox:474 -> Request to files/upload\n",
      "2022-11-30 11:07:04,473-[INFO]- dropbox:390 -> Refreshing access token.\n",
      "2022-11-30 11:07:04,706-[INFO]- dropbox:474 -> Request to files/upload\n",
      "2022-11-30 11:07:05,732-[INFO]- dropbox:390 -> Refreshing access token.\n",
      "2022-11-30 11:07:05,965-[INFO]- dropbox:474 -> Request to files/upload\n",
      "2022-11-30 11:07:06,956-[INFO]- dropbox:390 -> Refreshing access token.\n",
      "2022-11-30 11:07:07,183-[INFO]- dropbox:474 -> Request to files/upload\n",
      "DATA/PRINCE\n",
      "2022-11-30 11:07:08,225-[INFO]- dropbox:390 -> Refreshing access token.\n",
      "2022-11-30 11:07:08,449-[INFO]- dropbox:474 -> Request to files/upload\n",
      "2022-11-30 11:07:09,902-[INFO]- dropbox:390 -> Refreshing access token.\n",
      "2022-11-30 11:07:10,150-[INFO]- dropbox:474 -> Request to files/upload\n",
      "2022-11-30 11:07:11,178-[INFO]- dropbox:390 -> Refreshing access token.\n",
      "2022-11-30 11:07:11,424-[INFO]- dropbox:474 -> Request to files/upload\n",
      "2022-11-30 11:07:12,376-[INFO]- dropbox:390 -> Refreshing access token.\n",
      "2022-11-30 11:07:12,607-[INFO]- dropbox:474 -> Request to files/upload\n",
      "DATA/PRINCE\n",
      "2022-11-30 11:07:13,603-[INFO]- dropbox:390 -> Refreshing access token.\n",
      "2022-11-30 11:07:13,836-[INFO]- dropbox:474 -> Request to files/upload\n",
      "2022-11-30 11:07:15,502-[INFO]- dropbox:390 -> Refreshing access token.\n",
      "2022-11-30 11:07:15,737-[INFO]- dropbox:474 -> Request to files/upload\n",
      "2022-11-30 11:07:16,679-[INFO]- dropbox:390 -> Refreshing access token.\n",
      "2022-11-30 11:07:16,922-[INFO]- dropbox:474 -> Request to files/upload\n",
      "2022-11-30 11:07:17,966-[INFO]- dropbox:390 -> Refreshing access token.\n",
      "2022-11-30 11:07:18,238-[INFO]- dropbox:474 -> Request to files/upload\n",
      "DATA/PRINCE\n",
      "2022-11-30 11:07:19,526-[INFO]- dropbox:390 -> Refreshing access token.\n",
      "2022-11-30 11:07:19,802-[INFO]- dropbox:474 -> Request to files/upload\n",
      "2022-11-30 11:07:27,257-[INFO]- dropbox:390 -> Refreshing access token.\n",
      "2022-11-30 11:07:27,481-[INFO]- dropbox:474 -> Request to files/upload\n",
      "2022-11-30 11:07:28,546-[INFO]- dropbox:390 -> Refreshing access token.\n",
      "2022-11-30 11:07:28,788-[INFO]- dropbox:474 -> Request to files/upload\n",
      "2022-11-30 11:07:29,673-[INFO]- dropbox:390 -> Refreshing access token.\n",
      "2022-11-30 11:07:29,942-[INFO]- dropbox:474 -> Request to files/upload\n",
      "DATA/PRINCE\n",
      "2022-11-30 11:07:30,981-[INFO]- dropbox:390 -> Refreshing access token.\n",
      "2022-11-30 11:07:31,247-[INFO]- dropbox:474 -> Request to files/upload\n",
      "2022-11-30 11:07:32,850-[INFO]- dropbox:390 -> Refreshing access token.\n",
      "2022-11-30 11:07:33,071-[INFO]- dropbox:474 -> Request to files/upload\n",
      "2022-11-30 11:07:34,271-[INFO]- dropbox:390 -> Refreshing access token.\n",
      "2022-11-30 11:07:34,504-[INFO]- dropbox:474 -> Request to files/upload\n",
      "2022-11-30 11:07:35,711-[INFO]- dropbox:390 -> Refreshing access token.\n",
      "2022-11-30 11:07:35,935-[INFO]- dropbox:474 -> Request to files/upload\n",
      "DATA/PRINCE\n",
      "2022-11-30 11:07:36,806-[INFO]- dropbox:390 -> Refreshing access token.\n",
      "2022-11-30 11:07:37,028-[INFO]- dropbox:474 -> Request to files/upload\n",
      "2022-11-30 11:07:38,378-[INFO]- dropbox:390 -> Refreshing access token.\n",
      "2022-11-30 11:07:38,621-[INFO]- dropbox:474 -> Request to files/upload\n",
      "2022-11-30 11:07:39,526-[INFO]- dropbox:390 -> Refreshing access token.\n",
      "2022-11-30 11:07:39,776-[INFO]- dropbox:474 -> Request to files/upload\n",
      "2022-11-30 11:07:40,715-[INFO]- dropbox:390 -> Refreshing access token.\n",
      "2022-11-30 11:07:40,953-[INFO]- dropbox:474 -> Request to files/upload\n"
     ]
    }
   ],
>>>>>>> 32a9d59dd8e808d26fbbd8cb90159fecc49f3687
   "source": [
    "from amftrack.util.dbx import upload_folder\n",
    "\n",
    "update_analysis_info(directory_targ)\n",
    "analysis_info = get_analysis_info(directory_targ)\n",
    "analysis_folders = analysis_info.loc[analysis_info[\"unique_id\"].isin(plates)]\n",
    "dir_drop = \"DATA/PRINCE\"\n",
    "\n",
    "for index, row in analysis_folders.iterrows():\n",
    "    folder = row[\"folder_analysis\"]\n",
    "    id_unique = row[\"unique_id\"]\n",
    "    path = os.path.join(directory_targ, folder)\n",
    "    target_drop = f\"/{dir_drop}/{id_unique}/{folder}\"\n",
    "    print(dir_drop)\n",
    "    upload_folder(path, target_drop, delete=False)"
   ]
  },
  {
   "cell_type": "code",
<<<<<<< HEAD
   "execution_count": null,
   "id": "1e9a1654-a956-44a2-ab19-9d0958bcf56e",
   "metadata": {
=======
   "execution_count": 16,
   "id": "1e9a1654-a956-44a2-ab19-9d0958bcf56e",
   "metadata": {
    "collapsed": true,
>>>>>>> 32a9d59dd8e808d26fbbd8cb90159fecc49f3687
    "jupyter": {
     "outputs_hidden": true
    },
    "tags": []
   },
<<<<<<< HEAD
   "outputs": [],
=======
   "outputs": [
    {
     "name": "stdout",
     "output_type": "stream",
     "text": [
      "/projects/0/einf914/data/Analysis_101_20220921_200_Version1/folder_info.json\n",
      "/projects/0/einf914/data/Analysis_42_20220920_200_Version1/folder_info.json\n",
      "/projects/0/einf914/data/Analysis_39_20220920_200_Version1/folder_info.json\n",
      "/projects/0/einf914/data/Analysis_108_20220921_200_Version1/folder_info.json\n",
      "/projects/0/einf914/data/Analysis_67_20220921_200_Version1/folder_info.json\n",
      "/projects/0/einf914/data/Analysis_56_20220921_200_Version1/folder_info.json\n",
      "/projects/0/einf914/data/Analysis_50_20220920_200_Version1/folder_info.json\n",
      "/projects/0/einf914/data/Analysis_23_20220920_200_Version1/folder_info.json\n",
      "/projects/0/einf914/data/Analysis_21_20220920_200_Version1/folder_info.json\n",
      "/projects/0/einf914/data/Analysis_100_20220921_200_Version1/folder_info.json\n",
      "/projects/0/einf914/data/Analysis_99_20220921_200_Version1/folder_info.json\n",
      "/projects/0/einf914/data/Analysis_82_20220920_200_Version1/folder_info.json\n",
      "/projects/0/einf914/data/Analysis_61_20220921_200_Version1/folder_info.json\n",
      "/projects/0/einf914/data/Analysis_31_20220921_200_Version1/folder_info.json\n",
      "/projects/0/einf914/data/Analysis_40_20220920_200_Version1/folder_info.json\n",
      "/projects/0/einf914/data/Analysis_102_20220921_200_Version1/folder_info.json\n",
      "/projects/0/einf914/data/Analysis_2_20220920_200_Version1/folder_info.json\n",
      "/projects/0/einf914/data/Analysis_78_20220920_200_Version1/folder_info.json\n",
      "/projects/0/einf914/data/Analysis_62_20220921_200_Version1/folder_info.json\n",
      "/projects/0/einf914/data/Analysis_13_20220921_200_Version1/folder_info.json\n",
      "/projects/0/einf914/data/Analysis_45_20220920_200_Version1/folder_info.json\n",
      "/projects/0/einf914/data/Analysis_97_20220921_200_Version1/folder_info.json\n",
      "/projects/0/einf914/data/Analysis_76_20220920_200_Version1/folder_info.json\n",
      "/projects/0/einf914/data/Analysis_105_20220921_200_Version1/folder_info.json\n",
      "/projects/0/einf914/data/Analysis_86_20220921_200_Version1/folder_info.json\n",
      "/projects/0/einf914/data/Analysis_91_20220921_200_Version1/folder_info.json\n",
      "/projects/0/einf914/data/Analysis_83_20220920_200_Version1/folder_info.json\n",
      "/projects/0/einf914/data/Analysis_98_20220921_200_Version1/folder_info.json\n",
      "/projects/0/einf914/data/Analysis_6_20220920_200_Version1/folder_info.json\n",
      "/projects/0/einf914/data/Analysis_73_20220920_200_Version1/folder_info.json\n",
      "/projects/0/einf914/data/Analysis_96_20220921_200_Version1/folder_info.json\n",
      "/projects/0/einf914/data/Analysis_48_20220920_200_Version1/folder_info.json\n",
      "/projects/0/einf914/data/Analysis_66_20220921_200_Version1/folder_info.json\n",
      "/projects/0/einf914/data/Analysis_92_20220921_200_Version1/folder_info.json\n",
      "/projects/0/einf914/data/Analysis_18_20220921_200_Version1/folder_info.json\n",
      "/projects/0/einf914/data/Analysis_63_20220921_200_Version1/folder_info.json\n",
      "/projects/0/einf914/data/Analysis_57_20220921_200_Version1/folder_info.json\n",
      "/projects/0/einf914/data/Analysis_22_20220920_200_Version1/folder_info.json\n",
      "/projects/0/einf914/data/Analysis_95_20220921_200_Version1/folder_info.json\n",
      "/projects/0/einf914/data/Analysis_106_20220921_200_Version1/folder_info.json\n",
      "/projects/0/einf914/data/Analysis_41_20220920_200_Version1/folder_info.json\n",
      "/projects/0/einf914/data/Analysis_90_20220921_200_Version1/folder_info.json\n",
      "/projects/0/einf914/data/Analysis_77_20220920_200_Version1/folder_info.json\n",
      "Submitted batch job 1867718\n"
     ]
    }
   ],
>>>>>>> 32a9d59dd8e808d26fbbd8cb90159fecc49f3687
   "source": [
    "from amftrack.pipeline.functions.post_processing.exp_plot import *\n",
    "from amftrack.pipeline.launching.run_super import run_parallel_post\n",
    "\n",
    "name_job = \"malin\"\n",
    "time = \"1:00:00\"\n",
    "list_f = [plot_tracking]\n",
    "update_analysis_info(directory_targ)\n",
    "analysis_info = get_analysis_info(directory_targ)\n",
    "analysis_folders = analysis_info.loc[analysis_info[\"unique_id\"].isin(plates)]\n",
    "directory = directory_targ\n",
    "list_args = [[]] * len(list_f)\n",
    "overwrite = True\n",
    "num_parallel = 100\n",
    "run_parallel_post(\n",
    "    \"exp_plot.py\",\n",
    "    list_f,\n",
    "    list_args,\n",
    "    [directory, overwrite],\n",
    "    analysis_folders,\n",
    "    num_parallel,\n",
    "    time,\n",
    "    \"global_plate_post_process\",\n",
    "    cpus=128,\n",
    "    name_job=name_job,\n",
    "    node=\"fat\",\n",
    ")"
   ]
  },
  {
   "cell_type": "code",
<<<<<<< HEAD
   "execution_count": null,
   "id": "614f4ffb-73dc-4653-a6dd-51a04dac7d34",
   "metadata": {
=======
   "execution_count": 15,
   "id": "614f4ffb-73dc-4653-a6dd-51a04dac7d34",
   "metadata": {
    "collapsed": true,
>>>>>>> 32a9d59dd8e808d26fbbd8cb90159fecc49f3687
    "jupyter": {
     "outputs_hidden": true
    },
    "tags": []
   },
<<<<<<< HEAD
   "outputs": [],
=======
   "outputs": [
    {
     "name": "stdout",
     "output_type": "stream",
     "text": [
      "/projects/0/einf914/data/Analysis_101_20220921_200_Version1/folder_info.json\n",
      "/projects/0/einf914/data/Analysis_42_20220920_200_Version1/folder_info.json\n",
      "/projects/0/einf914/data/Analysis_39_20220920_200_Version1/folder_info.json\n",
      "/projects/0/einf914/data/Analysis_108_20220921_200_Version1/folder_info.json\n",
      "/projects/0/einf914/data/Analysis_67_20220921_200_Version1/folder_info.json\n",
      "/projects/0/einf914/data/Analysis_56_20220921_200_Version1/folder_info.json\n",
      "/projects/0/einf914/data/Analysis_50_20220920_200_Version1/folder_info.json\n",
      "/projects/0/einf914/data/Analysis_23_20220920_200_Version1/folder_info.json\n",
      "/projects/0/einf914/data/Analysis_21_20220920_200_Version1/folder_info.json\n",
      "/projects/0/einf914/data/Analysis_100_20220921_200_Version1/folder_info.json\n",
      "/projects/0/einf914/data/Analysis_99_20220921_200_Version1/folder_info.json\n",
      "/projects/0/einf914/data/Analysis_82_20220920_200_Version1/folder_info.json\n",
      "/projects/0/einf914/data/Analysis_61_20220921_200_Version1/folder_info.json\n",
      "/projects/0/einf914/data/Analysis_31_20220921_200_Version1/folder_info.json\n",
      "/projects/0/einf914/data/Analysis_40_20220920_200_Version1/folder_info.json\n",
      "/projects/0/einf914/data/Analysis_102_20220921_200_Version1/folder_info.json\n",
      "/projects/0/einf914/data/Analysis_2_20220920_200_Version1/folder_info.json\n",
      "/projects/0/einf914/data/Analysis_78_20220920_200_Version1/folder_info.json\n",
      "/projects/0/einf914/data/Analysis_62_20220921_200_Version1/folder_info.json\n",
      "/projects/0/einf914/data/Analysis_13_20220921_200_Version1/folder_info.json\n",
      "/projects/0/einf914/data/Analysis_45_20220920_200_Version1/folder_info.json\n",
      "/projects/0/einf914/data/Analysis_97_20220921_200_Version1/folder_info.json\n",
      "/projects/0/einf914/data/Analysis_76_20220920_200_Version1/folder_info.json\n",
      "/projects/0/einf914/data/Analysis_105_20220921_200_Version1/folder_info.json\n",
      "/projects/0/einf914/data/Analysis_86_20220921_200_Version1/folder_info.json\n",
      "/projects/0/einf914/data/Analysis_91_20220921_200_Version1/folder_info.json\n",
      "/projects/0/einf914/data/Analysis_83_20220920_200_Version1/folder_info.json\n",
      "/projects/0/einf914/data/Analysis_98_20220921_200_Version1/folder_info.json\n",
      "/projects/0/einf914/data/Analysis_6_20220920_200_Version1/folder_info.json\n",
      "/projects/0/einf914/data/Analysis_73_20220920_200_Version1/folder_info.json\n",
      "/projects/0/einf914/data/Analysis_96_20220921_200_Version1/folder_info.json\n",
      "/projects/0/einf914/data/Analysis_48_20220920_200_Version1/folder_info.json\n",
      "/projects/0/einf914/data/Analysis_66_20220921_200_Version1/folder_info.json\n",
      "/projects/0/einf914/data/Analysis_92_20220921_200_Version1/folder_info.json\n",
      "/projects/0/einf914/data/Analysis_18_20220921_200_Version1/folder_info.json\n",
      "/projects/0/einf914/data/Analysis_63_20220921_200_Version1/folder_info.json\n",
      "/projects/0/einf914/data/Analysis_57_20220921_200_Version1/folder_info.json\n",
      "/projects/0/einf914/data/Analysis_22_20220920_200_Version1/folder_info.json\n",
      "/projects/0/einf914/data/Analysis_95_20220921_200_Version1/folder_info.json\n",
      "/projects/0/einf914/data/Analysis_106_20220921_200_Version1/folder_info.json\n",
      "/projects/0/einf914/data/Analysis_41_20220920_200_Version1/folder_info.json\n",
      "/projects/0/einf914/data/Analysis_90_20220921_200_Version1/folder_info.json\n",
      "/projects/0/einf914/data/Analysis_77_20220920_200_Version1/folder_info.json\n"
     ]
    },
    {
     "name": "stderr",
     "output_type": "stream",
     "text": [
      "sbatch: Single-node jobs run on a shared node by default. Add --exclusive if you want to use a node exclusively.\n",
      "sbatch: You will be charged for 0.25 node. A full node consists of 128 CPU cores, 983040 MiB of memory and 0 GPUs and can be shared by up to 4 jobs.\n"
     ]
    },
    {
     "name": "stdout",
     "output_type": "stream",
     "text": [
      "Submitted batch job 1867673\n",
      "Submitted batch job 1867674\n"
     ]
    },
    {
     "name": "stderr",
     "output_type": "stream",
     "text": [
      "sbatch: Single-node jobs run on a shared node by default. Add --exclusive if you want to use a node exclusively.\n",
      "sbatch: You will be charged for 0.25 node. A full node consists of 128 CPU cores, 983040 MiB of memory and 0 GPUs and can be shared by up to 4 jobs.\n",
      "sbatch: Single-node jobs run on a shared node by default. Add --exclusive if you want to use a node exclusively.\n",
      "sbatch: You will be charged for 0.25 node. A full node consists of 128 CPU cores, 983040 MiB of memory and 0 GPUs and can be shared by up to 4 jobs.\n"
     ]
    },
    {
     "name": "stdout",
     "output_type": "stream",
     "text": [
      "Submitted batch job 1867676\n"
     ]
    },
    {
     "name": "stderr",
     "output_type": "stream",
     "text": [
      "sbatch: Single-node jobs run on a shared node by default. Add --exclusive if you want to use a node exclusively.\n",
      "sbatch: You will be charged for 0.25 node. A full node consists of 128 CPU cores, 983040 MiB of memory and 0 GPUs and can be shared by up to 4 jobs.\n"
     ]
    },
    {
     "name": "stdout",
     "output_type": "stream",
     "text": [
      "Submitted batch job 1867677\n"
     ]
    },
    {
     "name": "stderr",
     "output_type": "stream",
     "text": [
      "sbatch: Single-node jobs run on a shared node by default. Add --exclusive if you want to use a node exclusively.\n",
      "sbatch: You will be charged for 0.25 node. A full node consists of 128 CPU cores, 983040 MiB of memory and 0 GPUs and can be shared by up to 4 jobs.\n"
     ]
    },
    {
     "name": "stdout",
     "output_type": "stream",
     "text": [
      "Submitted batch job 1867678\n"
     ]
    },
    {
     "name": "stderr",
     "output_type": "stream",
     "text": [
      "sbatch: Single-node jobs run on a shared node by default. Add --exclusive if you want to use a node exclusively.\n",
      "sbatch: You will be charged for 0.25 node. A full node consists of 128 CPU cores, 983040 MiB of memory and 0 GPUs and can be shared by up to 4 jobs.\n"
     ]
    },
    {
     "name": "stdout",
     "output_type": "stream",
     "text": [
      "Submitted batch job 1867679\n"
     ]
    },
    {
     "name": "stderr",
     "output_type": "stream",
     "text": [
      "sbatch: Single-node jobs run on a shared node by default. Add --exclusive if you want to use a node exclusively.\n",
      "sbatch: You will be charged for 0.25 node. A full node consists of 128 CPU cores, 983040 MiB of memory and 0 GPUs and can be shared by up to 4 jobs.\n"
     ]
    },
    {
     "name": "stdout",
     "output_type": "stream",
     "text": [
      "Submitted batch job 1867680\n"
     ]
    },
    {
     "name": "stderr",
     "output_type": "stream",
     "text": [
      "sbatch: Single-node jobs run on a shared node by default. Add --exclusive if you want to use a node exclusively.\n",
      "sbatch: You will be charged for 0.25 node. A full node consists of 128 CPU cores, 983040 MiB of memory and 0 GPUs and can be shared by up to 4 jobs.\n"
     ]
    },
    {
     "name": "stdout",
     "output_type": "stream",
     "text": [
      "Submitted batch job 1867681\n"
     ]
    },
    {
     "name": "stderr",
     "output_type": "stream",
     "text": [
      "sbatch: Single-node jobs run on a shared node by default. Add --exclusive if you want to use a node exclusively.\n",
      "sbatch: You will be charged for 0.25 node. A full node consists of 128 CPU cores, 983040 MiB of memory and 0 GPUs and can be shared by up to 4 jobs.\n"
     ]
    },
    {
     "name": "stdout",
     "output_type": "stream",
     "text": [
      "Submitted batch job 1867682\n"
     ]
    },
    {
     "name": "stderr",
     "output_type": "stream",
     "text": [
      "sbatch: Single-node jobs run on a shared node by default. Add --exclusive if you want to use a node exclusively.\n",
      "sbatch: You will be charged for 0.25 node. A full node consists of 128 CPU cores, 983040 MiB of memory and 0 GPUs and can be shared by up to 4 jobs.\n"
     ]
    },
    {
     "name": "stdout",
     "output_type": "stream",
     "text": [
      "Submitted batch job 1867683\n"
     ]
    },
    {
     "name": "stderr",
     "output_type": "stream",
     "text": [
      "sbatch: Single-node jobs run on a shared node by default. Add --exclusive if you want to use a node exclusively.\n",
      "sbatch: You will be charged for 0.25 node. A full node consists of 128 CPU cores, 983040 MiB of memory and 0 GPUs and can be shared by up to 4 jobs.\n"
     ]
    },
    {
     "name": "stdout",
     "output_type": "stream",
     "text": [
      "Submitted batch job 1867684\n"
     ]
    },
    {
     "name": "stderr",
     "output_type": "stream",
     "text": [
      "sbatch: Single-node jobs run on a shared node by default. Add --exclusive if you want to use a node exclusively.\n",
      "sbatch: You will be charged for 0.25 node. A full node consists of 128 CPU cores, 983040 MiB of memory and 0 GPUs and can be shared by up to 4 jobs.\n"
     ]
    },
    {
     "name": "stdout",
     "output_type": "stream",
     "text": [
      "Submitted batch job 1867685\n"
     ]
    },
    {
     "name": "stderr",
     "output_type": "stream",
     "text": [
      "sbatch: Single-node jobs run on a shared node by default. Add --exclusive if you want to use a node exclusively.\n",
      "sbatch: You will be charged for 0.25 node. A full node consists of 128 CPU cores, 983040 MiB of memory and 0 GPUs and can be shared by up to 4 jobs.\n"
     ]
    },
    {
     "name": "stdout",
     "output_type": "stream",
     "text": [
      "Submitted batch job 1867686\n"
     ]
    },
    {
     "name": "stderr",
     "output_type": "stream",
     "text": [
      "sbatch: Single-node jobs run on a shared node by default. Add --exclusive if you want to use a node exclusively.\n",
      "sbatch: You will be charged for 0.25 node. A full node consists of 128 CPU cores, 983040 MiB of memory and 0 GPUs and can be shared by up to 4 jobs.\n"
     ]
    },
    {
     "name": "stdout",
     "output_type": "stream",
     "text": [
      "Submitted batch job 1867687\n",
      "Submitted batch job 1867688\n"
     ]
    },
    {
     "name": "stderr",
     "output_type": "stream",
     "text": [
      "sbatch: Single-node jobs run on a shared node by default. Add --exclusive if you want to use a node exclusively.\n",
      "sbatch: You will be charged for 0.25 node. A full node consists of 128 CPU cores, 983040 MiB of memory and 0 GPUs and can be shared by up to 4 jobs.\n",
      "sbatch: Single-node jobs run on a shared node by default. Add --exclusive if you want to use a node exclusively.\n",
      "sbatch: You will be charged for 0.25 node. A full node consists of 128 CPU cores, 983040 MiB of memory and 0 GPUs and can be shared by up to 4 jobs.\n"
     ]
    },
    {
     "name": "stdout",
     "output_type": "stream",
     "text": [
      "Submitted batch job 1867689\n"
     ]
    },
    {
     "name": "stderr",
     "output_type": "stream",
     "text": [
      "sbatch: Single-node jobs run on a shared node by default. Add --exclusive if you want to use a node exclusively.\n",
      "sbatch: You will be charged for 0.25 node. A full node consists of 128 CPU cores, 983040 MiB of memory and 0 GPUs and can be shared by up to 4 jobs.\n"
     ]
    },
    {
     "name": "stdout",
     "output_type": "stream",
     "text": [
      "Submitted batch job 1867690\n"
     ]
    },
    {
     "name": "stderr",
     "output_type": "stream",
     "text": [
      "sbatch: Single-node jobs run on a shared node by default. Add --exclusive if you want to use a node exclusively.\n",
      "sbatch: You will be charged for 0.25 node. A full node consists of 128 CPU cores, 983040 MiB of memory and 0 GPUs and can be shared by up to 4 jobs.\n"
     ]
    },
    {
     "name": "stdout",
     "output_type": "stream",
     "text": [
      "Submitted batch job 1867691\n"
     ]
    },
    {
     "name": "stderr",
     "output_type": "stream",
     "text": [
      "sbatch: Single-node jobs run on a shared node by default. Add --exclusive if you want to use a node exclusively.\n",
      "sbatch: You will be charged for 0.25 node. A full node consists of 128 CPU cores, 983040 MiB of memory and 0 GPUs and can be shared by up to 4 jobs.\n"
     ]
    },
    {
     "name": "stdout",
     "output_type": "stream",
     "text": [
      "Submitted batch job 1867692\n"
     ]
    },
    {
     "name": "stderr",
     "output_type": "stream",
     "text": [
      "sbatch: Single-node jobs run on a shared node by default. Add --exclusive if you want to use a node exclusively.\n",
      "sbatch: You will be charged for 0.25 node. A full node consists of 128 CPU cores, 983040 MiB of memory and 0 GPUs and can be shared by up to 4 jobs.\n"
     ]
    },
    {
     "name": "stdout",
     "output_type": "stream",
     "text": [
      "Submitted batch job 1867693\n"
     ]
    },
    {
     "name": "stderr",
     "output_type": "stream",
     "text": [
      "sbatch: Single-node jobs run on a shared node by default. Add --exclusive if you want to use a node exclusively.\n",
      "sbatch: You will be charged for 0.25 node. A full node consists of 128 CPU cores, 983040 MiB of memory and 0 GPUs and can be shared by up to 4 jobs.\n"
     ]
    },
    {
     "name": "stdout",
     "output_type": "stream",
     "text": [
      "Submitted batch job 1867694\n"
     ]
    },
    {
     "name": "stderr",
     "output_type": "stream",
     "text": [
      "sbatch: Single-node jobs run on a shared node by default. Add --exclusive if you want to use a node exclusively.\n",
      "sbatch: You will be charged for 0.25 node. A full node consists of 128 CPU cores, 983040 MiB of memory and 0 GPUs and can be shared by up to 4 jobs.\n"
     ]
    },
    {
     "name": "stdout",
     "output_type": "stream",
     "text": [
      "Submitted batch job 1867695\n"
     ]
    },
    {
     "name": "stderr",
     "output_type": "stream",
     "text": [
      "sbatch: Single-node jobs run on a shared node by default. Add --exclusive if you want to use a node exclusively.\n",
      "sbatch: You will be charged for 0.25 node. A full node consists of 128 CPU cores, 983040 MiB of memory and 0 GPUs and can be shared by up to 4 jobs.\n"
     ]
    },
    {
     "name": "stdout",
     "output_type": "stream",
     "text": [
      "Submitted batch job 1867697\n"
     ]
    },
    {
     "name": "stderr",
     "output_type": "stream",
     "text": [
      "sbatch: Single-node jobs run on a shared node by default. Add --exclusive if you want to use a node exclusively.\n",
      "sbatch: You will be charged for 0.25 node. A full node consists of 128 CPU cores, 983040 MiB of memory and 0 GPUs and can be shared by up to 4 jobs.\n"
     ]
    },
    {
     "name": "stdout",
     "output_type": "stream",
     "text": [
      "Submitted batch job 1867698\n"
     ]
    },
    {
     "name": "stderr",
     "output_type": "stream",
     "text": [
      "sbatch: Single-node jobs run on a shared node by default. Add --exclusive if you want to use a node exclusively.\n",
      "sbatch: You will be charged for 0.25 node. A full node consists of 128 CPU cores, 983040 MiB of memory and 0 GPUs and can be shared by up to 4 jobs.\n"
     ]
    },
    {
     "name": "stdout",
     "output_type": "stream",
     "text": [
      "Submitted batch job 1867699\n",
      "Submitted batch job 1867700\n"
     ]
    },
    {
     "name": "stderr",
     "output_type": "stream",
     "text": [
      "sbatch: Single-node jobs run on a shared node by default. Add --exclusive if you want to use a node exclusively.\n",
      "sbatch: You will be charged for 0.25 node. A full node consists of 128 CPU cores, 983040 MiB of memory and 0 GPUs and can be shared by up to 4 jobs.\n",
      "sbatch: Single-node jobs run on a shared node by default. Add --exclusive if you want to use a node exclusively.\n",
      "sbatch: You will be charged for 0.25 node. A full node consists of 128 CPU cores, 983040 MiB of memory and 0 GPUs and can be shared by up to 4 jobs.\n"
     ]
    },
    {
     "name": "stdout",
     "output_type": "stream",
     "text": [
      "Submitted batch job 1867701\n"
     ]
    },
    {
     "name": "stderr",
     "output_type": "stream",
     "text": [
      "sbatch: Single-node jobs run on a shared node by default. Add --exclusive if you want to use a node exclusively.\n",
      "sbatch: You will be charged for 0.25 node. A full node consists of 128 CPU cores, 983040 MiB of memory and 0 GPUs and can be shared by up to 4 jobs.\n"
     ]
    },
    {
     "name": "stdout",
     "output_type": "stream",
     "text": [
      "Submitted batch job 1867702\n"
     ]
    },
    {
     "name": "stderr",
     "output_type": "stream",
     "text": [
      "sbatch: Single-node jobs run on a shared node by default. Add --exclusive if you want to use a node exclusively.\n",
      "sbatch: You will be charged for 0.25 node. A full node consists of 128 CPU cores, 983040 MiB of memory and 0 GPUs and can be shared by up to 4 jobs.\n"
     ]
    },
    {
     "name": "stdout",
     "output_type": "stream",
     "text": [
      "Submitted batch job 1867703\n"
     ]
    },
    {
     "name": "stderr",
     "output_type": "stream",
     "text": [
      "sbatch: Single-node jobs run on a shared node by default. Add --exclusive if you want to use a node exclusively.\n",
      "sbatch: You will be charged for 0.25 node. A full node consists of 128 CPU cores, 983040 MiB of memory and 0 GPUs and can be shared by up to 4 jobs.\n"
     ]
    },
    {
     "name": "stdout",
     "output_type": "stream",
     "text": [
      "Submitted batch job 1867704\n"
     ]
    },
    {
     "name": "stderr",
     "output_type": "stream",
     "text": [
      "sbatch: Single-node jobs run on a shared node by default. Add --exclusive if you want to use a node exclusively.\n",
      "sbatch: You will be charged for 0.25 node. A full node consists of 128 CPU cores, 983040 MiB of memory and 0 GPUs and can be shared by up to 4 jobs.\n"
     ]
    },
    {
     "name": "stdout",
     "output_type": "stream",
     "text": [
      "Submitted batch job 1867705\n"
     ]
    },
    {
     "name": "stderr",
     "output_type": "stream",
     "text": [
      "sbatch: Single-node jobs run on a shared node by default. Add --exclusive if you want to use a node exclusively.\n",
      "sbatch: You will be charged for 0.25 node. A full node consists of 128 CPU cores, 983040 MiB of memory and 0 GPUs and can be shared by up to 4 jobs.\n"
     ]
    },
    {
     "name": "stdout",
     "output_type": "stream",
     "text": [
      "Submitted batch job 1867706\n"
     ]
    },
    {
     "name": "stderr",
     "output_type": "stream",
     "text": [
      "sbatch: Single-node jobs run on a shared node by default. Add --exclusive if you want to use a node exclusively.\n",
      "sbatch: You will be charged for 0.25 node. A full node consists of 128 CPU cores, 983040 MiB of memory and 0 GPUs and can be shared by up to 4 jobs.\n"
     ]
    },
    {
     "name": "stdout",
     "output_type": "stream",
     "text": [
      "Submitted batch job 1867707\n"
     ]
    },
    {
     "name": "stderr",
     "output_type": "stream",
     "text": [
      "sbatch: Single-node jobs run on a shared node by default. Add --exclusive if you want to use a node exclusively.\n",
      "sbatch: You will be charged for 0.25 node. A full node consists of 128 CPU cores, 983040 MiB of memory and 0 GPUs and can be shared by up to 4 jobs.\n"
     ]
    },
    {
     "name": "stdout",
     "output_type": "stream",
     "text": [
      "Submitted batch job 1867708\n"
     ]
    },
    {
     "name": "stderr",
     "output_type": "stream",
     "text": [
      "sbatch: Single-node jobs run on a shared node by default. Add --exclusive if you want to use a node exclusively.\n",
      "sbatch: You will be charged for 0.25 node. A full node consists of 128 CPU cores, 983040 MiB of memory and 0 GPUs and can be shared by up to 4 jobs.\n"
     ]
    },
    {
     "name": "stdout",
     "output_type": "stream",
     "text": [
      "Submitted batch job 1867709\n"
     ]
    },
    {
     "name": "stderr",
     "output_type": "stream",
     "text": [
      "sbatch: Single-node jobs run on a shared node by default. Add --exclusive if you want to use a node exclusively.\n",
      "sbatch: You will be charged for 0.25 node. A full node consists of 128 CPU cores, 983040 MiB of memory and 0 GPUs and can be shared by up to 4 jobs.\n"
     ]
    },
    {
     "name": "stdout",
     "output_type": "stream",
     "text": [
      "Submitted batch job 1867710\n"
     ]
    },
    {
     "name": "stderr",
     "output_type": "stream",
     "text": [
      "sbatch: Single-node jobs run on a shared node by default. Add --exclusive if you want to use a node exclusively.\n",
      "sbatch: You will be charged for 0.25 node. A full node consists of 128 CPU cores, 983040 MiB of memory and 0 GPUs and can be shared by up to 4 jobs.\n"
     ]
    },
    {
     "name": "stdout",
     "output_type": "stream",
     "text": [
      "Submitted batch job 1867711\n"
     ]
    },
    {
     "name": "stderr",
     "output_type": "stream",
     "text": [
      "sbatch: Single-node jobs run on a shared node by default. Add --exclusive if you want to use a node exclusively.\n",
      "sbatch: You will be charged for 0.25 node. A full node consists of 128 CPU cores, 983040 MiB of memory and 0 GPUs and can be shared by up to 4 jobs.\n"
     ]
    },
    {
     "name": "stdout",
     "output_type": "stream",
     "text": [
      "Submitted batch job 1867712\n"
     ]
    },
    {
     "name": "stderr",
     "output_type": "stream",
     "text": [
      "sbatch: Single-node jobs run on a shared node by default. Add --exclusive if you want to use a node exclusively.\n",
      "sbatch: You will be charged for 0.25 node. A full node consists of 128 CPU cores, 983040 MiB of memory and 0 GPUs and can be shared by up to 4 jobs.\n"
     ]
    },
    {
     "name": "stdout",
     "output_type": "stream",
     "text": [
      "Submitted batch job 1867713\n"
     ]
    },
    {
     "name": "stderr",
     "output_type": "stream",
     "text": [
      "sbatch: Single-node jobs run on a shared node by default. Add --exclusive if you want to use a node exclusively.\n",
      "sbatch: You will be charged for 0.25 node. A full node consists of 128 CPU cores, 983040 MiB of memory and 0 GPUs and can be shared by up to 4 jobs.\n"
     ]
    },
    {
     "name": "stdout",
     "output_type": "stream",
     "text": [
      "Submitted batch job 1867714\n"
     ]
    },
    {
     "name": "stderr",
     "output_type": "stream",
     "text": [
      "sbatch: Single-node jobs run on a shared node by default. Add --exclusive if you want to use a node exclusively.\n",
      "sbatch: You will be charged for 0.25 node. A full node consists of 128 CPU cores, 983040 MiB of memory and 0 GPUs and can be shared by up to 4 jobs.\n"
     ]
    },
    {
     "name": "stdout",
     "output_type": "stream",
     "text": [
      "Submitted batch job 1867715\n"
     ]
    },
    {
     "name": "stderr",
     "output_type": "stream",
     "text": [
      "sbatch: Single-node jobs run on a shared node by default. Add --exclusive if you want to use a node exclusively.\n",
      "sbatch: You will be charged for 0.25 node. A full node consists of 128 CPU cores, 983040 MiB of memory and 0 GPUs and can be shared by up to 4 jobs.\n"
     ]
    },
    {
     "name": "stdout",
     "output_type": "stream",
     "text": [
      "Submitted batch job 1867716\n"
     ]
    },
    {
     "name": "stderr",
     "output_type": "stream",
     "text": [
      "sbatch: Single-node jobs run on a shared node by default. Add --exclusive if you want to use a node exclusively.\n",
      "sbatch: You will be charged for 0.25 node. A full node consists of 128 CPU cores, 983040 MiB of memory and 0 GPUs and can be shared by up to 4 jobs.\n"
     ]
    },
    {
     "name": "stdout",
     "output_type": "stream",
     "text": [
      "Submitted batch job 1867717\n"
     ]
    }
   ],
>>>>>>> 32a9d59dd8e808d26fbbd8cb90159fecc49f3687
   "source": [
    "from amftrack.pipeline.functions.post_processing.time_hypha import *\n",
    "import pandas as pd\n",
    "import os\n",
    "\n",
    "update_analysis_info(directory_targ)\n",
    "analysis_info = get_analysis_info(directory_targ)\n",
    "analysis_folders = analysis_info.loc[analysis_info[\"unique_id\"].isin(plates)]\n",
    "list_f = [\n",
    "    get_pos_x,\n",
    "    get_pos_y,\n",
    "    get_time_since_begin_exp,\n",
    "    get_distance_final_pos,\n",
    "    get_timedelta,\n",
    "    get_time_since_start,\n",
    "    get_speed,\n",
    "    get_timestep,\n",
    "    get_timestep_init,\n",
    "    get_time_init,\n",
    "    get_degree,\n",
    "    get_width_tip_edge,\n",
    "    get_width_root_edge,\n",
    "    get_width_average,\n",
    "    get_has_reached_final_pos,\n",
    "    get_in_ROI,\n",
    "]\n",
    "# list_f = [local_density,local_density,local_density]\n",
    "# list_f = [get_time_since_begin_exp]\n",
    "# list_f = [get_width_tip_edge, get_width_root_edge]\n",
    "list_args = [{}] * len(list_f)\n",
    "# list_args= [[500],[1000],[2000]]+[[]]\n",
    "# list_args= [[500]]\n",
    "overwrite = True\n",
    "load_graphs = True\n",
    "num_parallel = 32\n",
    "time = \"10:00\"\n",
    "for index, row in analysis_folders.iterrows():\n",
    "    folder = row[\"folder_analysis\"]\n",
    "    path_time_plate_info = row[\"path_time_plate_info\"]\n",
    "    plate = row[\"Plate\"]\n",
    "    num_cpus = 32\n",
    "    if os.path.isfile(f\"{directory_targ}{path_time_plate_info}\"):\n",
    "        whole_plate_info = pd.read_json(\n",
    "            f\"{directory_targ}{path_time_plate_info}\", convert_dates=True\n",
    "        ).transpose()\n",
    "        whole_plate_info.index.name = \"t\"\n",
    "        whole_plate_info.reset_index(inplace=True)\n",
    "        run_parallel_post(\n",
    "            \"time_hypha_post_process.py\",\n",
    "            list_f,\n",
    "            list_args,\n",
    "            [directory_targ, overwrite, load_graphs],\n",
    "            whole_plate_info,\n",
    "            num_parallel,\n",
    "            time,\n",
    "            \"time_hypha_post_process\",\n",
    "            cpus=num_cpus,\n",
    "            name_job=name_job,\n",
    "            node=\"fat\",\n",
    "        )"
   ]
  },
  {
   "cell_type": "code",
<<<<<<< HEAD
   "execution_count": null,
=======
   "execution_count": 36,
>>>>>>> 32a9d59dd8e808d26fbbd8cb90159fecc49f3687
   "id": "6371d560-07ea-4d5a-802b-303bc66492b8",
   "metadata": {
    "tags": []
   },
<<<<<<< HEAD
   "outputs": [],
=======
   "outputs": [
    {
     "name": "stdout",
     "output_type": "stream",
     "text": [
      "Submitted batch job 1857991\n"
     ]
    },
    {
     "name": "stderr",
     "output_type": "stream",
     "text": [
      "sbatch: Single node jobs run on a shared node by default. Add --exclusive if you want to use a node exclusively.\n",
      "sbatch: You will be charged for 0.25 node. A full node consists of 128 CPU cores, 983040 MiB of memory and 0 GPUs and can be shared by up to 4 jobs.\n",
      "sbatch: Single node jobs run on a shared node by default. Add --exclusive if you want to use a node exclusively.\n",
      "sbatch: You will be charged for 0.25 node. A full node consists of 128 CPU cores, 983040 MiB of memory and 0 GPUs and can be shared by up to 4 jobs.\n"
     ]
    },
    {
     "name": "stdout",
     "output_type": "stream",
     "text": [
      "Submitted batch job 1857992\n"
     ]
    },
    {
     "name": "stderr",
     "output_type": "stream",
     "text": [
      "sbatch: Single node jobs run on a shared node by default. Add --exclusive if you want to use a node exclusively.\n",
      "sbatch: You will be charged for 0.25 node. A full node consists of 128 CPU cores, 983040 MiB of memory and 0 GPUs and can be shared by up to 4 jobs.\n"
     ]
    },
    {
     "name": "stdout",
     "output_type": "stream",
     "text": [
      "Submitted batch job 1857995\n"
     ]
    },
    {
     "name": "stderr",
     "output_type": "stream",
     "text": [
      "sbatch: Single node jobs run on a shared node by default. Add --exclusive if you want to use a node exclusively.\n",
      "sbatch: You will be charged for 0.25 node. A full node consists of 128 CPU cores, 983040 MiB of memory and 0 GPUs and can be shared by up to 4 jobs.\n"
     ]
    },
    {
     "name": "stdout",
     "output_type": "stream",
     "text": [
      "Submitted batch job 1857997\n"
     ]
    }
   ],
>>>>>>> 32a9d59dd8e808d26fbbd8cb90159fecc49f3687
   "source": [
    "from amftrack.pipeline.launching.run_super import (\n",
    "    run_parallel,\n",
    "    run_launcher,\n",
    "    run_parallel_all_time,\n",
    ")\n",
    "\n",
    "folders = all_folders.loc[all_folders[\"unique_id\"].isin(plates)]\n",
    "folders = folders.loc[folders[\"/Analysis/nx_graph_pruned_labeled.p\"] == True]\n",
    "args = [directory_targ]\n",
    "num_parallel = 32\n",
    "time = \"1:00:00\"\n",
    "limit = 200\n",
    "version = 1\n",
    "suffix = \"_labeled\"\n",
    "lim_considered = 10\n",
    "args = [directory_targ, limit, version, suffix, lim_considered]\n",
    "run_parallel_all_time(\n",
    "    \"hyphae_extraction.py\",\n",
    "    args,\n",
    "    folders,\n",
    "    num_parallel,\n",
    "    time,\n",
    "    \"hyphae\",\n",
    "    cpus=32,\n",
    "    node=\"fat\",\n",
    "    name_job=\"test\",\n",
    ")"
   ]
  },
  {
   "cell_type": "code",
<<<<<<< HEAD
   "execution_count": null,
   "id": "a30fd802-a1fe-461f-b1b6-1b1fa1060319",
   "metadata": {},
   "outputs": [],
=======
   "execution_count": 14,
   "id": "a30fd802-a1fe-461f-b1b6-1b1fa1060319",
   "metadata": {},
   "outputs": [
    {
     "data": {
      "text/plain": [
       "451"
      ]
     },
     "execution_count": 14,
     "metadata": {},
     "output_type": "execute_result"
    }
   ],
>>>>>>> 32a9d59dd8e808d26fbbd8cb90159fecc49f3687
   "source": [
    "folders = folders.loc[folders[\"/Analysis/nx_graph_pruned_labeled.p\"] == True]\n",
    "len(folders)"
   ]
  },
  {
   "cell_type": "code",
<<<<<<< HEAD
   "execution_count": null,
   "id": "c454083a-a612-4a78-aeb3-a63286412f69",
   "metadata": {},
   "outputs": [],
=======
   "execution_count": 20,
   "id": "c454083a-a612-4a78-aeb3-a63286412f69",
   "metadata": {},
   "outputs": [
    {
     "data": {
      "text/plain": [
       "107"
      ]
     },
     "execution_count": 20,
     "metadata": {},
     "output_type": "execute_result"
    }
   ],
>>>>>>> 32a9d59dd8e808d26fbbd8cb90159fecc49f3687
   "source": [
    "len(list(set(folders[\"unique_id\"].values)))"
   ]
  },
  {
   "cell_type": "code",
<<<<<<< HEAD
   "execution_count": null,
   "id": "625db32c-0d4d-4d84-a9d3-e56e905c7903",
   "metadata": {},
   "outputs": [],
=======
   "execution_count": 12,
   "id": "625db32c-0d4d-4d84-a9d3-e56e905c7903",
   "metadata": {},
   "outputs": [
    {
     "name": "stderr",
     "output_type": "stream",
     "text": [
      "sbatch: Single-node jobs run on a shared node by default. Add --exclusive if you want to use a node exclusively.\n",
      "sbatch: A full node consists of 32 CPU cores, 229376 MiB of memory and 0 GPUs and can be shared by up to 32 jobs.\n",
      "sbatch: By default shared jobs get 7168 MiB of memory per CPU core, unless explicitly overridden with --mem-per-cpu, --mem-per-gpu or --mem.\n",
      "sbatch: You will be charged for 0.03125 node, based on the number of CPUs, GPUs and the amount memory that you've requested.\n"
     ]
    },
    {
     "name": "stdout",
     "output_type": "stream",
     "text": [
      "Submitted batch job 2061667\n"
     ]
    }
   ],
>>>>>>> 32a9d59dd8e808d26fbbd8cb90159fecc49f3687
   "source": [
    "stage = 20\n",
    "run_launcher(\n",
    "    \"post_processer_1.py\",\n",
    "    [directory_targ, name_job, stage - 1],\n",
    "    plates,\n",
    "    \"20:00\",\n",
    "    dependency=True,\n",
    "    name_job=\"test\",\n",
    ")"
   ]
  },
  {
   "cell_type": "code",
<<<<<<< HEAD
   "execution_count": null,
   "id": "453b9b49-e057-42af-81ba-4b370a36b07c",
   "metadata": {
=======
   "execution_count": 28,
   "id": "453b9b49-e057-42af-81ba-4b370a36b07c",
   "metadata": {
    "collapsed": true,
>>>>>>> 32a9d59dd8e808d26fbbd8cb90159fecc49f3687
    "jupyter": {
     "outputs_hidden": true
    },
    "tags": []
   },
<<<<<<< HEAD
   "outputs": [],
=======
   "outputs": [
    {
     "name": "stdout",
     "output_type": "stream",
     "text": [
      "/projects/0/einf914/data/Analysis_93_20220921_200_Version1/folder_info.json\n",
      "/projects/0/einf914/data/Analysis_92_20220921_2_Version1/folder_info.json\n",
      "/projects/0/einf914/data/Analysis_95_20220921_2_Version1/folder_info.json\n",
      "/projects/0/einf914/data/Analysis_94_20220921_200_Version1/folder_info.json\n",
      "/projects/0/einf914/data/Analysis_92_20220921_4_Version1/folder_info.json\n",
      "/projects/0/einf914/data/Analysis_99_20220921_200_Version1/folder_info.json\n",
      "/projects/0/einf914/data/Analysis_95_20220921_3_Version1/folder_info.json\n",
      "/projects/0/einf914/data/Analysis_94_20220921_3_Version1/folder_info.json\n",
      "/projects/0/einf914/data/Analysis_94_20220921_1_Version1/folder_info.json\n",
      "/projects/0/einf914/data/Analysis_93_20220921_3_Version1/folder_info.json\n",
      "/projects/0/einf914/data/Analysis_90_20220921_2_Version1/folder_info.json\n",
      "/projects/0/einf914/data/Analysis_98_20220921_3_Version1/folder_info.json\n",
      "/projects/0/einf914/data/Analysis_91_20220921_200_Version1/folder_info.json\n",
      "/projects/0/einf914/data/Analysis_90_20220921_1_Version1/folder_info.json\n",
      "/projects/0/einf914/data/Analysis_9_20220920_4_Version1/folder_info.json\n",
      "/projects/0/einf914/data/Analysis_90_20220921_3_Version1/folder_info.json\n",
      "/projects/0/einf914/data/Analysis_96_20220921_200_Version1/folder_info.json\n",
      "/projects/0/einf914/data/Analysis_92_20220921_200_Version1/folder_info.json\n",
      "/projects/0/einf914/data/Analysis_95_20220921_200_Version1/folder_info.json\n",
      "/projects/0/einf914/data/Analysis_90_20220921_200_Version1/folder_info.json\n",
      "/projects/0/einf914/data/Analysis_9_20220920_200_Version1/folder_info.json\n",
      "/projects/0/einf914/data/Analysis_93_20220921_4_Version1/folder_info.json\n",
      "/projects/0/einf914/data/Analysis_92_20220921_3_Version1/folder_info.json\n"
     ]
    }
   ],
>>>>>>> 32a9d59dd8e808d26fbbd8cb90159fecc49f3687
   "source": [
    "update_analysis_info(directory_targ)\n",
    "analysis_info = get_analysis_info(directory_targ)\n",
    "analysis_folders = analysis_info.loc[analysis_info[\"unique_id\"].isin(plates)]"
   ]
  },
  {
   "cell_type": "code",
<<<<<<< HEAD
   "execution_count": null,
   "id": "bb82a5fa-3b92-41bc-a92e-a004490c7455",
   "metadata": {},
   "outputs": [],
=======
   "execution_count": 7,
   "id": "bb82a5fa-3b92-41bc-a92e-a004490c7455",
   "metadata": {},
   "outputs": [
    {
     "data": {
      "text/html": [
       "<div>\n",
       "<style scoped>\n",
       "    .dataframe tbody tr th:only-of-type {\n",
       "        vertical-align: middle;\n",
       "    }\n",
       "\n",
       "    .dataframe tbody tr th {\n",
       "        vertical-align: top;\n",
       "    }\n",
       "\n",
       "    .dataframe thead th {\n",
       "        text-align: right;\n",
       "    }\n",
       "</style>\n",
       "<table border=\"1\" class=\"dataframe\">\n",
       "  <thead>\n",
       "    <tr style=\"text-align: right;\">\n",
       "      <th></th>\n",
       "      <th>folder_analysis</th>\n",
       "      <th>version</th>\n",
       "      <th>total_path</th>\n",
       "      <th>Plate</th>\n",
       "      <th>PrincePos</th>\n",
       "      <th>root</th>\n",
       "      <th>strain</th>\n",
       "      <th>medium</th>\n",
       "      <th>split</th>\n",
       "      <th>Pbait</th>\n",
       "      <th>...</th>\n",
       "      <th>datetime</th>\n",
       "      <th>date_begin</th>\n",
       "      <th>date_end</th>\n",
       "      <th>number_timepoints</th>\n",
       "      <th>path_exp</th>\n",
       "      <th>path_global_hypha_info</th>\n",
       "      <th>path_time_hypha_info</th>\n",
       "      <th>path_time_plate_info</th>\n",
       "      <th>path_global_plate_info</th>\n",
       "      <th>date_run_analysis</th>\n",
       "    </tr>\n",
       "  </thead>\n",
       "  <tbody>\n",
       "    <tr>\n",
       "      <th>0</th>\n",
       "      <td>Analysis_33_20220502_188_Version1</td>\n",
       "      <td>Version1</td>\n",
       "      <td>/projects/0/einf914/data/20220502_2111_Plate07</td>\n",
       "      <td>33</td>\n",
       "      <td>7</td>\n",
       "      <td>'Carrot'</td>\n",
       "      <td>'Agg'</td>\n",
       "      <td>'001P100N100C'</td>\n",
       "      <td>'Y'</td>\n",
       "      <td>'-'</td>\n",
       "      <td>...</td>\n",
       "      <td>2022-05-02 21:11:00</td>\n",
       "      <td>02.05.2022, 21:11:</td>\n",
       "      <td>20.05.2022, 09:41:</td>\n",
       "      <td>188</td>\n",
       "      <td>Analysis_33_20220502_188_Version1/experiment.pick</td>\n",
       "      <td>Analysis_33_20220502_188_Version1/global_hypha...</td>\n",
       "      <td>Analysis_33_20220502_188_Version1/time_hypha_info</td>\n",
       "      <td>Analysis_33_20220502_188_Version1/time_plate_i...</td>\n",
       "      <td>Analysis_33_20220502_188_Version1/global_plate...</td>\n",
       "      <td>01.01.1970, 01:00:</td>\n",
       "    </tr>\n",
       "  </tbody>\n",
       "</table>\n",
       "<p>1 rows × 24 columns</p>\n",
       "</div>"
      ],
      "text/plain": [
       "                     folder_analysis   version  \\\n",
       "0  Analysis_33_20220502_188_Version1  Version1   \n",
       "\n",
       "                                       total_path Plate PrincePos      root  \\\n",
       "0  /projects/0/einf914/data/20220502_2111_Plate07    33         7  'Carrot'   \n",
       "\n",
       "  strain          medium split Pbait  ...             datetime  \\\n",
       "0  'Agg'  '001P100N100C'   'Y'   '-'  ...  2022-05-02 21:11:00   \n",
       "\n",
       "           date_begin            date_end number_timepoints  \\\n",
       "0  02.05.2022, 21:11:  20.05.2022, 09:41:               188   \n",
       "\n",
       "                                            path_exp  \\\n",
       "0  Analysis_33_20220502_188_Version1/experiment.pick   \n",
       "\n",
       "                              path_global_hypha_info  \\\n",
       "0  Analysis_33_20220502_188_Version1/global_hypha...   \n",
       "\n",
       "                                path_time_hypha_info  \\\n",
       "0  Analysis_33_20220502_188_Version1/time_hypha_info   \n",
       "\n",
       "                                path_time_plate_info  \\\n",
       "0  Analysis_33_20220502_188_Version1/time_plate_i...   \n",
       "\n",
       "                              path_global_plate_info   date_run_analysis  \n",
       "0  Analysis_33_20220502_188_Version1/global_plate...  01.01.1970, 01:00:  \n",
       "\n",
       "[1 rows x 24 columns]"
      ]
     },
     "execution_count": 7,
     "metadata": {},
     "output_type": "execute_result"
    }
   ],
>>>>>>> 32a9d59dd8e808d26fbbd8cb90159fecc49f3687
   "source": [
    "analysis_folders"
   ]
  },
  {
   "cell_type": "code",
<<<<<<< HEAD
   "execution_count": null,
   "id": "50d39007-aa12-4eaa-9df0-f0abab2833b7",
   "metadata": {},
   "outputs": [],
=======
   "execution_count": 8,
   "id": "50d39007-aa12-4eaa-9df0-f0abab2833b7",
   "metadata": {},
   "outputs": [
    {
     "name": "stderr",
     "output_type": "stream",
     "text": [
      "sbatch: Single node jobs run on a shared node by default. Add --exclusive if you want to use a node exclusively.\n",
      "sbatch: You will be charged for 0.25 node. A full node consists of 128 CPU cores, 983040 MiB of memory and 0 GPUs and can be shared by up to 4 jobs.\n"
     ]
    },
    {
     "name": "stdout",
     "output_type": "stream",
     "text": [
      "Submitted batch job 1768604\n"
     ]
    },
    {
     "name": "stderr",
     "output_type": "stream",
     "text": [
      "sbatch: Single node jobs run on a shared node by default. Add --exclusive if you want to use a node exclusively.\n",
      "sbatch: You will be charged for 0.03125 node. A full node consists of 32 CPU cores, 229376 MiB of memory and 0 GPUs and can be shared by up to 32 jobs.\n"
     ]
    },
    {
     "name": "stdout",
     "output_type": "stream",
     "text": [
      "Submitted batch job 1768605\n"
     ]
    }
   ],
>>>>>>> 32a9d59dd8e808d26fbbd8cb90159fecc49f3687
   "source": [
    "# name_job = f\"one_shot_{time_ns()}.sh\"\n",
    "\n",
    "from amftrack.pipeline.launching.run_super import run_parallel_post\n",
    "from amftrack.pipeline.functions.post_processing.global_plate import *\n",
    "from amftrack.pipeline.functions.post_processing.time_plate import *\n",
    "from amftrack.pipeline.functions.post_processing.global_hypha import *\n",
    "from amftrack.pipeline.functions.post_processing.area_hulls import *\n",
    "from amftrack.pipeline.launching.run_super import run_parallel, run_launcher\n",
    "from amftrack.pipeline.functions.post_processing.exp_plot import *\n",
    "\n",
    "time = \"24:00:00\"\n",
    "directory = directory_targ\n",
    "max_ind = 20\n",
    "incr = 100\n",
    "fs = [\n",
    "    get_density_in_ring,\n",
    "    get_density_anastomose_in_ring,\n",
    "    # get_density_branch_rate_in_ring,\n",
    "    # get_density_stop_rate_in_ring,\n",
    "    get_density_active_tips_in_ring,\n",
    "]\n",
    "# fs = [get_mean_speed_in_ring]\n",
    "\n",
    "list_f = []\n",
    "list_args = []\n",
    "\n",
    "for f in fs:\n",
    "    list_f += [f] * max_ind\n",
    "\n",
    "    list_args += [{\"incr\": incr, \"i\": i, \"rh_only\": True} for i in range(max_ind)]\n",
    "overwrite = False\n",
    "num_parallel = 30\n",
    "run_parallel_post(\n",
    "    \"time_plate_post_process.py\",\n",
    "    list_f,\n",
    "    list_args,\n",
    "    [directory, overwrite],\n",
    "    analysis_folders,\n",
    "    num_parallel,\n",
    "    time,\n",
    "    \"time_plate_post_process\",\n",
    "    cpus=32,\n",
    "    name_job=name_job,\n",
    "    node=\"fat\",\n",
    "    dependency=True,\n",
    ")\n",
    "run_launcher(\n",
    "    \"analysis_uploader.py\",\n",
    "    [directory_targ, name_job],\n",
    "    plates,\n",
    "    \"12:00:00\",\n",
    "    dependency=True,\n",
    "    name_job=name_job,\n",
    ")"
   ]
  },
  {
   "cell_type": "code",
<<<<<<< HEAD
   "execution_count": null,
   "id": "be6cc993-f4e0-4008-aace-b1fa59150df2",
   "metadata": {},
   "outputs": [],
=======
   "execution_count": 41,
   "id": "be6cc993-f4e0-4008-aace-b1fa59150df2",
   "metadata": {},
   "outputs": [
    {
     "name": "stdout",
     "output_type": "stream",
     "text": [
      "Submitted batch job 1858250\n",
      "Submitted batch job 1858251\n",
      "Submitted batch job 1858252\n",
      "Submitted batch job 1858253\n",
      "Submitted batch job 1858255\n",
      "Submitted batch job 1858256\n"
     ]
    }
   ],
>>>>>>> 32a9d59dd8e808d26fbbd8cb90159fecc49f3687
   "source": [
    "from amftrack.pipeline.launching.run_super import run_parallel, run_launcher\n",
    "\n",
    "name_job = \"malin\"\n",
    "\n",
    "num_parallel = 100\n",
    "time = \"20:00\"\n",
    "args = [directory_targ]\n",
    "run_parallel(\n",
    "    \"compress_image.py\",\n",
    "    args,\n",
    "    folders,\n",
    "    num_parallel,\n",
    "    time,\n",
    "    \"compress\",\n",
    "    cpus=128,\n",
    "    node=\"fat\",\n",
    "    name_job=name_job,\n",
    ")"
   ]
  },
  {
   "cell_type": "code",
<<<<<<< HEAD
   "execution_count": null,
   "id": "9dcd9efc-585c-4333-a48c-a3f18ee134cb",
   "metadata": {},
   "outputs": [],
=======
   "execution_count": 42,
   "id": "9dcd9efc-585c-4333-a48c-a3f18ee134cb",
   "metadata": {},
   "outputs": [
    {
     "name": "stdout",
     "output_type": "stream",
     "text": [
      "Submitted batch job 1858259\n",
      "Submitted batch job 1858260\n",
      "Submitted batch job 1858262\n",
      "Submitted batch job 1858267\n",
      "Submitted batch job 1858268\n",
      "Submitted batch job 1858269\n",
      "Submitted batch job 1858270\n",
      "Submitted batch job 1858271\n",
      "Submitted batch job 1858272\n",
      "Submitted batch job 1858273\n",
      "Submitted batch job 1858274\n",
      "Submitted batch job 1858275\n"
     ]
    }
   ],
>>>>>>> 32a9d59dd8e808d26fbbd8cb90159fecc49f3687
   "source": [
    "from amftrack.pipeline.launching.run_super import run_parallel, run_launcher\n",
    "\n",
    "num_parallel = 50\n",
    "time = \"12:00:00\"\n",
    "hyph_width = 30\n",
    "perc_low = 93\n",
    "perc_high = 99.5\n",
    "args = [hyph_width, perc_low, perc_high, directory_targ]\n",
    "run_parallel(\n",
    "    \"extract_skel_2.py\",\n",
    "    args,\n",
    "    folders,\n",
    "    num_parallel,\n",
    "    time,\n",
    "    \"skeletonization\",\n",
    "    cpus=128,\n",
    "    node=\"fat\",\n",
    "    name_job=name_job,\n",
    ")"
   ]
  },
  {
   "cell_type": "code",
<<<<<<< HEAD
   "execution_count": null,
   "id": "42455272-081b-43a0-b69e-6e0dab68ff77",
   "metadata": {},
   "outputs": [],
=======
   "execution_count": 43,
   "id": "42455272-081b-43a0-b69e-6e0dab68ff77",
   "metadata": {},
   "outputs": [
    {
     "name": "stdout",
     "output_type": "stream",
     "text": [
      "Submitted batch job 1858277\n",
      "Submitted batch job 1858279\n",
      "Submitted batch job 1858282\n",
      "Submitted batch job 1858283\n",
      "Submitted batch job 1858284\n",
      "Submitted batch job 1858285\n"
     ]
    }
   ],
>>>>>>> 32a9d59dd8e808d26fbbd8cb90159fecc49f3687
   "source": [
    "from amftrack.pipeline.launching.run_super import run_parallel, run_launcher\n",
    "\n",
    "num_parallel = 100\n",
    "time = \"20:00\"\n",
    "args = [directory_targ]\n",
    "run_parallel(\n",
    "    \"detect_blob.py\",\n",
    "    args,\n",
    "    folders,\n",
    "    num_parallel,\n",
    "    time,\n",
    "    \"detect_blob\",\n",
    "    cpus=128,\n",
    "    node=\"fat\",\n",
    "    name_job=name_job,\n",
    ")"
   ]
  },
  {
   "cell_type": "code",
<<<<<<< HEAD
   "execution_count": null,
   "id": "706dce62-3dc8-4c0b-b297-0213da796b2f",
   "metadata": {},
   "outputs": [],
=======
   "execution_count": 7,
   "id": "706dce62-3dc8-4c0b-b297-0213da796b2f",
   "metadata": {},
   "outputs": [
    {
     "name": "stderr",
     "output_type": "stream",
     "text": [
      "sbatch: Single node jobs run on a shared node by default. Add --exclusive if you want to use a node exclusively.\n",
      "sbatch: You will be charged for 0.03125 node. A full node consists of 32 CPU cores, 229376 MiB of memory and 0 GPUs and can be shared by up to 32 jobs.\n"
     ]
    },
    {
     "name": "stdout",
     "output_type": "stream",
     "text": [
      "Submitted batch job 1861160\n"
     ]
    }
   ],
>>>>>>> 32a9d59dd8e808d26fbbd8cb90159fecc49f3687
   "source": [
    "name_job = \"malin\"\n",
    "\n",
    "run_launcher(\n",
    "    \"masker.py\",\n",
    "    [directory_targ, name_job, 30],\n",
    "    plates,\n",
    "    \"3:00:00\",\n",
    "    dependency=True,\n",
    "    name_job=name_job,\n",
    ")"
   ]
  },
  {
   "cell_type": "code",
<<<<<<< HEAD
   "execution_count": null,
   "id": "f371697c-0d27-40e2-8b68-8d9ad947ee9c",
   "metadata": {},
   "outputs": [],
=======
   "execution_count": 25,
   "id": "f371697c-0d27-40e2-8b68-8d9ad947ee9c",
   "metadata": {},
   "outputs": [
    {
     "name": "stderr",
     "output_type": "stream",
     "text": [
      "sbatch: Single node jobs run on a shared node by default. Add --exclusive if you want to use a node exclusively.\n",
      "sbatch: You will be charged for 0.25 node. A full node consists of 128 CPU cores, 983040 MiB of memory and 0 GPUs and can be shared by up to 4 jobs.\n"
     ]
    },
    {
     "name": "stdout",
     "output_type": "stream",
     "text": [
      "Submitted batch job 1828129\n"
     ]
    },
    {
     "name": "stderr",
     "output_type": "stream",
     "text": [
      "sbatch: Single node jobs run on a shared node by default. Add --exclusive if you want to use a node exclusively.\n",
      "sbatch: You will be charged for 0.25 node. A full node consists of 128 CPU cores, 983040 MiB of memory and 0 GPUs and can be shared by up to 4 jobs.\n"
     ]
    },
    {
     "name": "stdout",
     "output_type": "stream",
     "text": [
      "Submitted batch job 1828130\n"
     ]
    },
    {
     "name": "stderr",
     "output_type": "stream",
     "text": [
      "sbatch: Single node jobs run on a shared node by default. Add --exclusive if you want to use a node exclusively.\n",
      "sbatch: You will be charged for 0.25 node. A full node consists of 128 CPU cores, 983040 MiB of memory and 0 GPUs and can be shared by up to 4 jobs.\n"
     ]
    },
    {
     "name": "stdout",
     "output_type": "stream",
     "text": [
      "Submitted batch job 1828131\n"
     ]
    }
   ],
>>>>>>> 32a9d59dd8e808d26fbbd8cb90159fecc49f3687
   "source": [
    "from amftrack.pipeline.launching.run_super import run_parallel_all_time, run_launcher\n",
    "\n",
    "folders = all_folders.loc[all_folders[\"unique_id\"].isin(plates)]\n",
    "folders = folders.loc[folders[\"/Img/TileConfiguration.txt.registered\"] == True]\n",
    "num_parallel = 50\n",
    "time = \"10:00\"\n",
    "args = []\n",
    "run_parallel_all_time(\n",
    "    \"make_video_stitched.py\",\n",
    "    args,\n",
    "    folders,\n",
    "    num_parallel,\n",
    "    time,\n",
    "    \"make_video\",\n",
    "    cpus=32,\n",
    "    node=\"fat\",\n",
    "    dependency=False,\n",
    "    name_job=\"video\",\n",
    ")"
   ]
  },
  {
   "cell_type": "code",
<<<<<<< HEAD
   "execution_count": null,
=======
   "execution_count": 3,
>>>>>>> 32a9d59dd8e808d26fbbd8cb90159fecc49f3687
   "id": "6bb3b8f2-51c2-4a2b-b38c-e369dfbad277",
   "metadata": {},
   "outputs": [],
   "source": [
    "plates = [\n",
    "    \"105_20220817\",\n",
    "    \"77_20220808\",\n",
    "    \"71_20220817\",\n",
    "    \"100_20220812\",\n",
    "    \"117_20220815\",\n",
    "    \"99_20220815\",\n",
    "    \"75_20220808\",\n",
    "    \"226_20220812\",\n",
    "]"
   ]
  },
  {
   "cell_type": "code",
<<<<<<< HEAD
   "execution_count": null,
=======
   "execution_count": 46,
>>>>>>> 32a9d59dd8e808d26fbbd8cb90159fecc49f3687
   "id": "5d7f5622-0995-4bc4-9f1a-665e35b9425b",
   "metadata": {
    "tags": []
   },
   "outputs": [],
   "source": [
    "folders = all_folders.loc[all_folders[\"Plate\"].isin([\"32\"])]"
   ]
  },
  {
   "cell_type": "code",
<<<<<<< HEAD
   "execution_count": null,
=======
   "execution_count": 17,
>>>>>>> 32a9d59dd8e808d26fbbd8cb90159fecc49f3687
   "id": "3bce3711-f0df-422d-8ebf-a43a23e1a840",
   "metadata": {
    "tags": []
   },
<<<<<<< HEAD
   "outputs": [],
=======
   "outputs": [
    {
     "name": "stderr",
     "output_type": "stream",
     "text": [
      "sbatch: Single node jobs run on a shared node by default. Add --exclusive if you want to use a node exclusively.\n",
      "sbatch: You will be charged for 0.25 node. A full node consists of 128 CPU cores, 983040 MiB of memory and 0 GPUs and can be shared by up to 4 jobs.\n"
     ]
    },
    {
     "name": "stdout",
     "output_type": "stream",
     "text": [
      "Submitted batch job 1738329\n"
     ]
    }
   ],
>>>>>>> 32a9d59dd8e808d26fbbd8cb90159fecc49f3687
   "source": [
    "from amftrack.pipeline.launching.run_super import *\n",
    "\n",
    "num_parallel = 32\n",
    "time = \"8:00:00\"\n",
    "limit = 200\n",
    "version = 1\n",
    "labeled = True\n",
    "args = [directory_targ, limit, version, labeled]\n",
    "run_parallel_all_time(\n",
    "    \"hyphae_extraction.py\",\n",
    "    args,\n",
    "    folders,\n",
    "    num_parallel,\n",
    "    time,\n",
    "    \"hyphae\",\n",
    "    cpus=32,\n",
    "    node=\"fat\",\n",
    ")"
   ]
  },
  {
   "cell_type": "code",
<<<<<<< HEAD
   "execution_count": null,
   "id": "0d0eeec2-4e63-4b1b-972d-f76bd6a035bf",
   "metadata": {},
   "outputs": [],
=======
   "execution_count": 12,
   "id": "0d0eeec2-4e63-4b1b-972d-f76bd6a035bf",
   "metadata": {},
   "outputs": [
    {
     "name": "stdout",
     "output_type": "stream",
     "text": [
      "Submitted batch job 1138954\n"
     ]
    },
    {
     "name": "stderr",
     "output_type": "stream",
     "text": [
      "sbatch: Single node jobs run on a shared node by default. Add --exclusive if you want to use a node exclusively.\n",
      "sbatch: You will be charged for 1.0 node. A full node consists of 128 CPU cores, 983040 MiB of memory and 0 GPUs and can be shared by up to 4 jobs.\n"
     ]
    }
   ],
>>>>>>> 32a9d59dd8e808d26fbbd8cb90159fecc49f3687
   "source": [
    "from amftrack.pipeline.launching.run_super import run_parallel, run_launcher\n",
    "\n",
    "for plate in plates:\n",
    "    select = folders.loc[folders[\"Plate\"] == plate]\n",
    "    num_parallel = 128\n",
    "    time = \"12:00:00\"\n",
    "    thresh = 10000  # For R. irregularis, thresh 10000 is good. For Aggregatum, higher may be necessary\n",
    "    args = [thresh, directory_targ]\n",
    "    run_parallel(\n",
    "        \"final_alignment.py\",\n",
    "        args,\n",
    "        select,\n",
    "        num_parallel,\n",
    "        time,\n",
    "        \"realign\",\n",
    "        cpus=128,\n",
    "        node=\"fat\",\n",
    "        name_job=name_job,\n",
    "    )"
   ]
  },
  {
   "cell_type": "code",
<<<<<<< HEAD
   "execution_count": null,
   "id": "656f2038-0660-4d13-acd0-7580b56a8a84",
   "metadata": {},
   "outputs": [],
=======
   "execution_count": 20,
   "id": "656f2038-0660-4d13-acd0-7580b56a8a84",
   "metadata": {},
   "outputs": [
    {
     "data": {
      "text/plain": [
       "['6_20220509']"
      ]
     },
     "execution_count": 20,
     "metadata": {},
     "output_type": "execute_result"
    }
   ],
>>>>>>> 32a9d59dd8e808d26fbbd8cb90159fecc49f3687
   "source": [
    "plates"
   ]
  },
  {
   "cell_type": "code",
<<<<<<< HEAD
   "execution_count": null,
   "id": "6323eacb-c44e-463b-90e7-bf55aaf43ab1",
   "metadata": {},
   "outputs": [],
=======
   "execution_count": 19,
   "id": "6323eacb-c44e-463b-90e7-bf55aaf43ab1",
   "metadata": {},
   "outputs": [
    {
     "data": {
      "text/html": [
       "<div>\n",
       "<style scoped>\n",
       "    .dataframe tbody tr th:only-of-type {\n",
       "        vertical-align: middle;\n",
       "    }\n",
       "\n",
       "    .dataframe tbody tr th {\n",
       "        vertical-align: top;\n",
       "    }\n",
       "\n",
       "    .dataframe thead th {\n",
       "        text-align: right;\n",
       "    }\n",
       "</style>\n",
       "<table border=\"1\" class=\"dataframe\">\n",
       "  <thead>\n",
       "    <tr style=\"text-align: right;\">\n",
       "      <th></th>\n",
       "      <th>total_path</th>\n",
       "      <th>Plate</th>\n",
       "      <th>PrincePos</th>\n",
       "      <th>root</th>\n",
       "      <th>strain</th>\n",
       "      <th>medium</th>\n",
       "      <th>split</th>\n",
       "      <th>Pbait</th>\n",
       "      <th>CrossDate</th>\n",
       "      <th>Temperature</th>\n",
       "      <th>...</th>\n",
       "      <th>/Analysis/transform.mat</th>\n",
       "      <th>/Analysis/transform_corrupt.mat</th>\n",
       "      <th>/Analysis/skeleton_realigned_compressed.mat</th>\n",
       "      <th>/Analysis/nx_graph_pruned.p</th>\n",
       "      <th>/Analysis/nx_graph_pruned_width.p</th>\n",
       "      <th>/Analysis/nx_graph_pruned_labeled.p</th>\n",
       "      <th>date</th>\n",
       "      <th>folder</th>\n",
       "      <th>unique_id</th>\n",
       "      <th>datetime</th>\n",
       "    </tr>\n",
       "  </thead>\n",
       "  <tbody>\n",
       "  </tbody>\n",
       "</table>\n",
       "<p>0 rows × 24 columns</p>\n",
       "</div>"
      ],
      "text/plain": [
       "Empty DataFrame\n",
       "Columns: [total_path, Plate, PrincePos, root, strain, medium, split, Pbait, CrossDate, Temperature, /Img/TileConfiguration.txt.registered, /Analysis/skeleton_compressed.mat, /Analysis/skeleton_masked_compressed.mat, /Analysis/skeleton_pruned_compressed.mat, /Analysis/transform.mat, /Analysis/transform_corrupt.mat, /Analysis/skeleton_realigned_compressed.mat, /Analysis/nx_graph_pruned.p, /Analysis/nx_graph_pruned_width.p, /Analysis/nx_graph_pruned_labeled.p, date, folder, unique_id, datetime]\n",
       "Index: []\n",
       "\n",
       "[0 rows x 24 columns]"
      ]
     },
     "execution_count": 19,
     "metadata": {},
     "output_type": "execute_result"
    }
   ],
>>>>>>> 32a9d59dd8e808d26fbbd8cb90159fecc49f3687
   "source": [
    "select"
   ]
  },
  {
   "cell_type": "code",
<<<<<<< HEAD
   "execution_count": null,
   "id": "aae06165-b345-4cf1-9404-52abd616e3d0",
   "metadata": {},
   "outputs": [],
=======
   "execution_count": 13,
   "id": "aae06165-b345-4cf1-9404-52abd616e3d0",
   "metadata": {},
   "outputs": [
    {
     "name": "stdout",
     "output_type": "stream",
     "text": [
      "========\n",
      "Matching plate 20220510_1851_Plate17 at dates ['20220510_1851_Plate17', '20220511_1750_Plate17']\n",
      "========\n"
     ]
    }
   ],
>>>>>>> 32a9d59dd8e808d26fbbd8cb90159fecc49f3687
   "source": [
    "i = 0\n",
    "run_info = folders\n",
    "folder_list = list(run_info[\"folder\"])\n",
    "folder_list.sort()\n",
    "\n",
    "dates_datetime_chosen = folder_list[i : i + 2]\n",
    "print(\"========\")\n",
    "print(f\"Matching plate {dates_datetime_chosen[0]} at dates {dates_datetime_chosen}\")\n",
    "print(\"========\")\n",
    "dates = dates_datetime_chosen"
   ]
  },
  {
   "cell_type": "code",
<<<<<<< HEAD
   "execution_count": null,
=======
   "execution_count": 10,
>>>>>>> 32a9d59dd8e808d26fbbd8cb90159fecc49f3687
   "id": "0556ab5e-23a7-4259-9c1f-e183de22004f",
   "metadata": {},
   "outputs": [],
   "source": [
    "from amftrack.pipeline.launching.run_super import run_parallel_post\n",
    "from amftrack.pipeline.functions.post_processing.global_plate import *\n",
    "from amftrack.pipeline.functions.post_processing.time_plate import *\n",
    "from amftrack.pipeline.functions.post_processing.global_hypha import *\n",
    "from amftrack.pipeline.functions.post_processing.area_hulls import *\n",
    "from amftrack.pipeline.launching.run_super import run_parallel, run_launcher\n",
    "from amftrack.pipeline.functions.post_processing.exp_plot import *\n",
    "\n",
    "update_analysis_info(directory_targ)\n",
    "analysis_info = get_analysis_info(directory_targ)\n",
    "analysis_folders = analysis_info.loc[analysis_info[\"unique_id\"].isin(plates)]\n",
    "directory = directory_targ"
   ]
  },
  {
   "cell_type": "code",
<<<<<<< HEAD
   "execution_count": null,
=======
   "execution_count": 11,
>>>>>>> 32a9d59dd8e808d26fbbd8cb90159fecc49f3687
   "id": "029954ec-42f9-4ba2-9dbe-137682996560",
   "metadata": {
    "tags": []
   },
<<<<<<< HEAD
   "outputs": [],
=======
   "outputs": [
    {
     "name": "stdout",
     "output_type": "stream",
     "text": [
      "Submitted batch job 1539552\n"
     ]
    },
    {
     "name": "stderr",
     "output_type": "stream",
     "text": [
      "sbatch: Single node jobs run on a shared node by default. Add --exclusive if you want to use a node exclusively.\n",
      "sbatch: You will be charged for 0.25 node. A full node consists of 128 CPU cores, 983040 MiB of memory and 0 GPUs and can be shared by up to 4 jobs.\n"
     ]
    }
   ],
>>>>>>> 32a9d59dd8e808d26fbbd8cb90159fecc49f3687
   "source": [
    "time = \"3:40:00\"\n",
    "directory = directory_targ\n",
    "# list_f = [get_width_f,get_tot_length_C_f,get_tot_growth_C_f]\n",
    "# list_f = [get_timestep_anastomosis]\n",
    "list_f = [\n",
    "    gets_out_of_ROI,\n",
    "    get_width_f,\n",
    "    get_tot_length_C_f,\n",
    "    get_tot_growth_C_f,\n",
    "    get_tot_length_pp_f,\n",
    "    get_tot_growth_pp_f,\n",
    "    get_timestep_stop_growth,\n",
    "    get_time_stop_growth,\n",
    "    get_time_init_growth,\n",
    "    get_mean_speed_growth,\n",
    "    get_stop_track,\n",
    "    get_timestep_anastomosis,\n",
    "    get_timestep_biological_stop_growth,\n",
    "]\n",
    "# list_f = [get_num_branch]\n",
    "# list_f = [gets_out_of_ROI]\n",
    "list_args = [{}] * len(list_f)\n",
    "overwrite = False\n",
    "num_parallel = 32\n",
    "run_parallel_post(\n",
    "    \"global_hypha_post_process.py\",\n",
    "    list_f,\n",
    "    list_args,\n",
    "    [directory, overwrite],\n",
    "    analysis_folders,\n",
    "    num_parallel,\n",
    "    time,\n",
    "    \"global_hypha_post_process\",\n",
    "    cpus=32,\n",
    "    name_job=\"a\",\n",
    "    node=\"fat\",\n",
    ")"
   ]
  },
  {
   "cell_type": "code",
<<<<<<< HEAD
   "execution_count": null,
   "id": "bac5d4ee-b1e5-4027-8f98-8f7c1d7d7726",
   "metadata": {
=======
   "execution_count": 13,
   "id": "bac5d4ee-b1e5-4027-8f98-8f7c1d7d7726",
   "metadata": {
    "collapsed": true,
>>>>>>> 32a9d59dd8e808d26fbbd8cb90159fecc49f3687
    "jupyter": {
     "outputs_hidden": true
    },
    "tags": []
   },
<<<<<<< HEAD
   "outputs": [],
=======
   "outputs": [
    {
     "name": "stdout",
     "output_type": "stream",
     "text": [
      "Submitted batch job 1539625\n",
      "Submitted batch job 1539626\n",
      "Submitted batch job 1539627\n"
     ]
    },
    {
     "name": "stderr",
     "output_type": "stream",
     "text": [
      "sbatch: Single node jobs run on a shared node by default. Add --exclusive if you want to use a node exclusively.\n",
      "sbatch: You will be charged for 0.25 node. A full node consists of 128 CPU cores, 983040 MiB of memory and 0 GPUs and can be shared by up to 4 jobs.\n",
      "sbatch: Single node jobs run on a shared node by default. Add --exclusive if you want to use a node exclusively.\n",
      "sbatch: You will be charged for 0.25 node. A full node consists of 128 CPU cores, 983040 MiB of memory and 0 GPUs and can be shared by up to 4 jobs.\n",
      "sbatch: Single node jobs run on a shared node by default. Add --exclusive if you want to use a node exclusively.\n",
      "sbatch: You will be charged for 0.25 node. A full node consists of 128 CPU cores, 983040 MiB of memory and 0 GPUs and can be shared by up to 4 jobs.\n",
      "sbatch: Single node jobs run on a shared node by default. Add --exclusive if you want to use a node exclusively.\n",
      "sbatch: You will be charged for 0.25 node. A full node consists of 128 CPU cores, 983040 MiB of memory and 0 GPUs and can be shared by up to 4 jobs.\n",
      "sbatch: Single node jobs run on a shared node by default. Add --exclusive if you want to use a node exclusively.\n",
      "sbatch: You will be charged for 0.25 node. A full node consists of 128 CPU cores, 983040 MiB of memory and 0 GPUs and can be shared by up to 4 jobs.\n",
      "sbatch: Single node jobs run on a shared node by default. Add --exclusive if you want to use a node exclusively.\n",
      "sbatch: You will be charged for 0.25 node. A full node consists of 128 CPU cores, 983040 MiB of memory and 0 GPUs and can be shared by up to 4 jobs.\n"
     ]
    },
    {
     "name": "stdout",
     "output_type": "stream",
     "text": [
      "Submitted batch job 1539628\n",
      "Submitted batch job 1539629\n",
      "Submitted batch job 1539630\n"
     ]
    },
    {
     "name": "stderr",
     "output_type": "stream",
     "text": [
      "sbatch: Single node jobs run on a shared node by default. Add --exclusive if you want to use a node exclusively.\n",
      "sbatch: You will be charged for 0.25 node. A full node consists of 128 CPU cores, 983040 MiB of memory and 0 GPUs and can be shared by up to 4 jobs.\n"
     ]
    },
    {
     "name": "stdout",
     "output_type": "stream",
     "text": [
      "Submitted batch job 1539631\n"
     ]
    },
    {
     "name": "stderr",
     "output_type": "stream",
     "text": [
      "sbatch: Single node jobs run on a shared node by default. Add --exclusive if you want to use a node exclusively.\n",
      "sbatch: You will be charged for 0.25 node. A full node consists of 128 CPU cores, 983040 MiB of memory and 0 GPUs and can be shared by up to 4 jobs.\n",
      "sbatch: Single node jobs run on a shared node by default. Add --exclusive if you want to use a node exclusively.\n",
      "sbatch: You will be charged for 0.25 node. A full node consists of 128 CPU cores, 983040 MiB of memory and 0 GPUs and can be shared by up to 4 jobs.\n"
     ]
    },
    {
     "name": "stdout",
     "output_type": "stream",
     "text": [
      "Submitted batch job 1539632\n",
      "Submitted batch job 1539633\n"
     ]
    },
    {
     "name": "stderr",
     "output_type": "stream",
     "text": [
      "sbatch: Single node jobs run on a shared node by default. Add --exclusive if you want to use a node exclusively.\n",
      "sbatch: You will be charged for 0.25 node. A full node consists of 128 CPU cores, 983040 MiB of memory and 0 GPUs and can be shared by up to 4 jobs.\n",
      "sbatch: Single node jobs run on a shared node by default. Add --exclusive if you want to use a node exclusively.\n",
      "sbatch: You will be charged for 0.25 node. A full node consists of 128 CPU cores, 983040 MiB of memory and 0 GPUs and can be shared by up to 4 jobs.\n",
      "sbatch: Single node jobs run on a shared node by default. Add --exclusive if you want to use a node exclusively.\n",
      "sbatch: You will be charged for 0.25 node. A full node consists of 128 CPU cores, 983040 MiB of memory and 0 GPUs and can be shared by up to 4 jobs.\n"
     ]
    },
    {
     "name": "stdout",
     "output_type": "stream",
     "text": [
      "Submitted batch job 1539634\n",
      "Submitted batch job 1539635\n",
      "Submitted batch job 1539636\n"
     ]
    },
    {
     "name": "stderr",
     "output_type": "stream",
     "text": [
      "sbatch: Single node jobs run on a shared node by default. Add --exclusive if you want to use a node exclusively.\n",
      "sbatch: You will be charged for 0.25 node. A full node consists of 128 CPU cores, 983040 MiB of memory and 0 GPUs and can be shared by up to 4 jobs.\n",
      "sbatch: Single node jobs run on a shared node by default. Add --exclusive if you want to use a node exclusively.\n",
      "sbatch: You will be charged for 0.25 node. A full node consists of 128 CPU cores, 983040 MiB of memory and 0 GPUs and can be shared by up to 4 jobs.\n",
      "sbatch: Single node jobs run on a shared node by default. Add --exclusive if you want to use a node exclusively.\n",
      "sbatch: You will be charged for 0.25 node. A full node consists of 128 CPU cores, 983040 MiB of memory and 0 GPUs and can be shared by up to 4 jobs.\n"
     ]
    },
    {
     "name": "stdout",
     "output_type": "stream",
     "text": [
      "Submitted batch job 1539637\n",
      "Submitted batch job 1539638\n",
      "Submitted batch job 1539639\n"
     ]
    },
    {
     "name": "stderr",
     "output_type": "stream",
     "text": [
      "sbatch: Single node jobs run on a shared node by default. Add --exclusive if you want to use a node exclusively.\n",
      "sbatch: You will be charged for 0.25 node. A full node consists of 128 CPU cores, 983040 MiB of memory and 0 GPUs and can be shared by up to 4 jobs.\n",
      "sbatch: Single node jobs run on a shared node by default. Add --exclusive if you want to use a node exclusively.\n",
      "sbatch: You will be charged for 0.25 node. A full node consists of 128 CPU cores, 983040 MiB of memory and 0 GPUs and can be shared by up to 4 jobs.\n"
     ]
    },
    {
     "name": "stdout",
     "output_type": "stream",
     "text": [
      "Submitted batch job 1539640\n",
      "Submitted batch job 1539641\n",
      "Submitted batch job 1539642\n"
     ]
    },
    {
     "name": "stderr",
     "output_type": "stream",
     "text": [
      "sbatch: Single node jobs run on a shared node by default. Add --exclusive if you want to use a node exclusively.\n",
      "sbatch: You will be charged for 0.25 node. A full node consists of 128 CPU cores, 983040 MiB of memory and 0 GPUs and can be shared by up to 4 jobs.\n",
      "sbatch: Single node jobs run on a shared node by default. Add --exclusive if you want to use a node exclusively.\n",
      "sbatch: You will be charged for 0.25 node. A full node consists of 128 CPU cores, 983040 MiB of memory and 0 GPUs and can be shared by up to 4 jobs.\n",
      "sbatch: Single node jobs run on a shared node by default. Add --exclusive if you want to use a node exclusively.\n",
      "sbatch: You will be charged for 0.25 node. A full node consists of 128 CPU cores, 983040 MiB of memory and 0 GPUs and can be shared by up to 4 jobs.\n"
     ]
    },
    {
     "name": "stdout",
     "output_type": "stream",
     "text": [
      "Submitted batch job 1539643\n",
      "Submitted batch job 1539644\n"
     ]
    },
    {
     "name": "stderr",
     "output_type": "stream",
     "text": [
      "sbatch: Single node jobs run on a shared node by default. Add --exclusive if you want to use a node exclusively.\n",
      "sbatch: You will be charged for 0.25 node. A full node consists of 128 CPU cores, 983040 MiB of memory and 0 GPUs and can be shared by up to 4 jobs.\n",
      "sbatch: Single node jobs run on a shared node by default. Add --exclusive if you want to use a node exclusively.\n",
      "sbatch: You will be charged for 0.25 node. A full node consists of 128 CPU cores, 983040 MiB of memory and 0 GPUs and can be shared by up to 4 jobs.\n"
     ]
    },
    {
     "name": "stdout",
     "output_type": "stream",
     "text": [
      "Submitted batch job 1539645\n",
      "Submitted batch job 1539646\n"
     ]
    },
    {
     "name": "stderr",
     "output_type": "stream",
     "text": [
      "sbatch: Single node jobs run on a shared node by default. Add --exclusive if you want to use a node exclusively.\n",
      "sbatch: You will be charged for 0.25 node. A full node consists of 128 CPU cores, 983040 MiB of memory and 0 GPUs and can be shared by up to 4 jobs.\n",
      "sbatch: Single node jobs run on a shared node by default. Add --exclusive if you want to use a node exclusively.\n",
      "sbatch: You will be charged for 0.25 node. A full node consists of 128 CPU cores, 983040 MiB of memory and 0 GPUs and can be shared by up to 4 jobs.\n"
     ]
    },
    {
     "name": "stdout",
     "output_type": "stream",
     "text": [
      "Submitted batch job 1539647\n",
      "Submitted batch job 1539648\n",
      "Submitted batch job 1539649\n"
     ]
    },
    {
     "name": "stderr",
     "output_type": "stream",
     "text": [
      "sbatch: Single node jobs run on a shared node by default. Add --exclusive if you want to use a node exclusively.\n",
      "sbatch: You will be charged for 0.25 node. A full node consists of 128 CPU cores, 983040 MiB of memory and 0 GPUs and can be shared by up to 4 jobs.\n"
     ]
    }
   ],
>>>>>>> 32a9d59dd8e808d26fbbd8cb90159fecc49f3687
   "source": [
    "import sys\n",
    "from amftrack.util.sys import (\n",
    "    update_analysis_info,\n",
    "    get_analysis_info,\n",
    ")\n",
    "from amftrack.pipeline.launching.run_super import run_parallel_post\n",
    "from amftrack.pipeline.functions.post_processing.time_hypha import *\n",
    "from amftrack.pipeline.launching.run_super import run_parallel, run_launcher\n",
    "import pandas as pd\n",
    "import os\n",
    "\n",
    "list_f = [\n",
    "    get_pos_x,\n",
    "    get_pos_y,\n",
    "    get_time_since_begin_exp,\n",
    "    get_distance_final_pos,\n",
    "    get_timedelta,\n",
    "    get_time_since_start,\n",
    "    get_speed,\n",
    "    get_timestep,\n",
    "    get_timestep_init,\n",
    "    get_time_init,\n",
    "    get_degree,\n",
    "    get_width_tip_edge,\n",
    "    get_width_root_edge,\n",
    "    get_width_average,\n",
    "    has_reached_final_pos,\n",
    "    in_ROI,\n",
    "]\n",
    "# list_f = [local_density,local_density,local_density]\n",
    "# list_f = [get_time_since_begin_exp]\n",
    "# list_f = [get_width_tip_edge, get_width_root_edge]\n",
    "list_args = [{}] * len(list_f)\n",
    "# list_args= [[500],[1000],[2000]]+[[]]\n",
    "# list_args= [[500]]\n",
    "overwrite = False\n",
    "load_graphs = True\n",
    "num_parallel = 32\n",
    "time = \"12:00:00\"\n",
    "for index, row in analysis_folders.iterrows():\n",
    "    folder = row[\"folder_analysis\"]\n",
    "    path_time_plate_info = row[\"path_time_plate_info\"]\n",
    "    plate = row[\"Plate\"]\n",
    "    num_cpus = 32\n",
    "    if os.path.isfile(f\"{directory_targ}{path_time_plate_info}\"):\n",
    "        whole_plate_info = pd.read_json(\n",
    "            f\"{directory_targ}{path_time_plate_info}\", convert_dates=True\n",
    "        ).transpose()\n",
    "        whole_plate_info.index.name = \"t\"\n",
    "        whole_plate_info.reset_index(inplace=True)\n",
    "        run_parallel_post(\n",
    "            \"time_hypha_post_process.py\",\n",
    "            list_f,\n",
    "            list_args,\n",
    "            [directory_targ, overwrite, load_graphs],\n",
    "            whole_plate_info,\n",
    "            num_parallel,\n",
    "            time,\n",
    "            \"time_hypha_post_process\",\n",
    "            cpus=num_cpus,\n",
    "            name_job=name_job,\n",
    "            node=\"fat\",\n",
    "        )"
   ]
  }
 ],
 "metadata": {
  "kernelspec": {
   "display_name": "Python 3 (ipykernel)",
   "language": "python",
   "name": "python3"
  },
  "language_info": {
   "codemirror_mode": {
    "name": "ipython",
    "version": 3
   },
   "file_extension": ".py",
   "mimetype": "text/x-python",
   "name": "python",
   "nbconvert_exporter": "python",
   "pygments_lexer": "ipython3",
   "version": "3.7.13"
  }
 },
 "nbformat": 4,
 "nbformat_minor": 5
}

{
 "cells": [
  {
   "cell_type": "code",
   "execution_count": 1,
   "id": "b608afbc-ca48-476f-a966-f94e310ea7ab",
   "metadata": {},
   "outputs": [
    {
     "name": "stderr",
     "output_type": "stream",
     "text": [
      "/gpfs/home2/cbisot/pycode/AMFtrack/amftrack/util/dbx.py:3: TqdmExperimentalWarning: Using `tqdm.autonotebook.tqdm` in notebook mode. Use `tqdm.tqdm` instead to force console mode (e.g. in jupyter console)\n",
      "  from tqdm.autonotebook import tqdm\n"
     ]
    }
   ],
   "source": [
    "%load_ext autoreload\n",
    "%autoreload 2\n",
    "from amftrack.pipeline.launching.run_super import (\n",
    "    run_launcher,\n",
    "    directory_scratch,\n",
    "    directory_project,\n",
    "    directory_project,\n",
    "    run_parallel_stitch,\n",
    "    run_parallel_transfer,\n",
    ")\n",
    "import os\n",
    "from amftrack.util.sys import (\n",
    "    get_dates_datetime,\n",
    "    get_dirname,\n",
    "    temp_path,\n",
    "    get_data_info,\n",
    "    update_plate_info,\n",
    "    update_analysis_info,\n",
    "    get_analysis_info,\n",
    "    get_current_folders,\n",
    "    get_folders_by_plate_id,\n",
    ")\n",
    "\n",
    "from time import time_ns\n",
    "from amftrack.util.dbx import upload_folders, load_dbx, download, get_dropbox_folders\n",
    "from datetime import datetime"
   ]
  },
  {
   "cell_type": "code",
   "execution_count": 2,
   "id": "34c1d5cb-c3d4-4749-becc-12e63f0c7e08",
   "metadata": {},
   "outputs": [],
   "source": [
    "plates = ['1014_20220525', '1023_20220502', '102_20201226', '1042_20220523',\n",
    "       '1045_20220504', '1048_20220506', '1053_20220413', '1076_20220511',\n",
    "       '127_20220705', '130_20220707', '152_20201224', '30_20220509']\n",
    "# plates = ['32_20220428', '33_20220502', '52_20220707', '76_20210108',\n",
    "#        '792_20210915', '799_20211001', '800_20210928', '84_20220621', '91_20220708', '938_20220325', '94_20201123']"
   ]
  },
  {
   "cell_type": "code",
   "execution_count": 44,
   "id": "3194edd8-ac63-4ea0-824c-3c738a071d37",
   "metadata": {},
   "outputs": [],
   "source": [
    "folders_drop = all_folders_drop.loc[\n",
    "    all_folders_drop[\"folder\"] == \"20221116_1111_Plate21\"\n",
    "]"
   ]
  },
  {
   "cell_type": "code",
   "execution_count": 47,
   "id": "f377c5c8-cbfd-45d5-bc4c-3096fd4a3e74",
   "metadata": {},
   "outputs": [],
   "source": [
    "run_parallel_transfer(\n",
    "    \"from_drop.py\",\n",
    "    [directory_targ],\n",
    "    folders_drop,\n",
    "    50,\n",
    "    \"24:00:00\",\n",
    "    \"staging\",\n",
    "    cpus=1,\n",
    "    node=\"staging\",\n",
    "    name_job=\"kaikai\",\n",
    ")"
   ]
  },
  {
   "cell_type": "code",
   "execution_count": 10,
   "id": "afdc3901-8c7c-40b5-8985-00f54a3102b0",
   "metadata": {
    "collapsed": true,
    "jupyter": {
     "outputs_hidden": true
    },
    "tags": []
   },
   "outputs": [
    {
     "name": "stdout",
     "output_type": "stream",
     "text": [
      "2022-11-04 10:13:53,458-[INFO]- dropbox:390 -> Refreshing access token.\n",
      "2022-11-04 10:13:53,719-[INFO]- dropbox:474 -> Request to files/list_folder\n"
     ]
    },
    {
     "ename": "KeyboardInterrupt",
     "evalue": "",
     "output_type": "error",
     "traceback": [
      "\u001b[0;31m---------------------------------------------------------------------------\u001b[0m",
      "\u001b[0;31mKeyboardInterrupt\u001b[0m                         Traceback (most recent call last)",
      "\u001b[0;32m/scratch-local/cbisot/ipykernel_773528/1830841710.py\u001b[0m in \u001b[0;36m<module>\u001b[0;34m\u001b[0m\n\u001b[0;32m----> 1\u001b[0;31m \u001b[0mall_folders_drop\u001b[0m \u001b[0;34m=\u001b[0m \u001b[0mget_dropbox_folders\u001b[0m\u001b[0;34m(\u001b[0m\u001b[0;34m\"/DATA/PRINCE\"\u001b[0m\u001b[0;34m,\u001b[0m \u001b[0;32mTrue\u001b[0m\u001b[0;34m)\u001b[0m\u001b[0;34m\u001b[0m\u001b[0;34m\u001b[0m\u001b[0m\n\u001b[0m",
      "\u001b[0;32m/gpfs/home2/cbisot/pycode/AMFtrack/amftrack/util/dbx.py\u001b[0m in \u001b[0;36mget_dropbox_folders\u001b[0;34m(dir_drop, skip_size)\u001b[0m\n\u001b[1;32m    312\u001b[0m \u001b[0;32mdef\u001b[0m \u001b[0mget_dropbox_folders\u001b[0m\u001b[0;34m(\u001b[0m\u001b[0mdir_drop\u001b[0m\u001b[0;34m:\u001b[0m \u001b[0mstr\u001b[0m\u001b[0;34m,\u001b[0m \u001b[0mskip_size\u001b[0m\u001b[0;34m:\u001b[0m \u001b[0mbool\u001b[0m \u001b[0;34m=\u001b[0m \u001b[0;32mTrue\u001b[0m\u001b[0;34m)\u001b[0m \u001b[0;34m->\u001b[0m \u001b[0mpd\u001b[0m\u001b[0;34m.\u001b[0m\u001b[0mDataFrame\u001b[0m\u001b[0;34m:\u001b[0m\u001b[0;34m\u001b[0m\u001b[0;34m\u001b[0m\u001b[0m\n\u001b[1;32m    313\u001b[0m     \u001b[0mdbx\u001b[0m \u001b[0;34m=\u001b[0m \u001b[0mload_dbx\u001b[0m\u001b[0;34m(\u001b[0m\u001b[0;34m)\u001b[0m\u001b[0;34m\u001b[0m\u001b[0;34m\u001b[0m\u001b[0m\n\u001b[0;32m--> 314\u001b[0;31m     \u001b[0mresponse\u001b[0m \u001b[0;34m=\u001b[0m \u001b[0mdbx\u001b[0m\u001b[0;34m.\u001b[0m\u001b[0mfiles_list_folder\u001b[0m\u001b[0;34m(\u001b[0m\u001b[0mdir_drop\u001b[0m\u001b[0;34m,\u001b[0m \u001b[0mrecursive\u001b[0m\u001b[0;34m=\u001b[0m\u001b[0;32mTrue\u001b[0m\u001b[0;34m)\u001b[0m\u001b[0;34m\u001b[0m\u001b[0;34m\u001b[0m\u001b[0m\n\u001b[0m\u001b[1;32m    315\u001b[0m     \u001b[0;31m# for fil in response.entries:\u001b[0m\u001b[0;34m\u001b[0m\u001b[0;34m\u001b[0m\u001b[0;34m\u001b[0m\u001b[0m\n\u001b[1;32m    316\u001b[0m     \u001b[0mlistfiles\u001b[0m \u001b[0;34m=\u001b[0m \u001b[0;34m[\u001b[0m\u001b[0;34m]\u001b[0m\u001b[0;34m\u001b[0m\u001b[0;34m\u001b[0m\u001b[0m\n",
      "\u001b[0;32m~/miniconda3/envs/amftrack/lib/python3.7/site-packages/dropbox/base.py\u001b[0m in \u001b[0;36mfiles_list_folder\u001b[0;34m(self, path, recursive, include_media_info, include_deleted, include_has_explicit_shared_members, include_mounted_folders, limit, shared_link, include_property_groups, include_non_downloadable_files)\u001b[0m\n\u001b[1;32m   2147\u001b[0m             \u001b[0;34m'files'\u001b[0m\u001b[0;34m,\u001b[0m\u001b[0;34m\u001b[0m\u001b[0;34m\u001b[0m\u001b[0m\n\u001b[1;32m   2148\u001b[0m             \u001b[0marg\u001b[0m\u001b[0;34m,\u001b[0m\u001b[0;34m\u001b[0m\u001b[0;34m\u001b[0m\u001b[0m\n\u001b[0;32m-> 2149\u001b[0;31m             \u001b[0;32mNone\u001b[0m\u001b[0;34m,\u001b[0m\u001b[0;34m\u001b[0m\u001b[0;34m\u001b[0m\u001b[0m\n\u001b[0m\u001b[1;32m   2150\u001b[0m         )\n\u001b[1;32m   2151\u001b[0m         \u001b[0;32mreturn\u001b[0m \u001b[0mr\u001b[0m\u001b[0;34m\u001b[0m\u001b[0;34m\u001b[0m\u001b[0m\n",
      "\u001b[0;32m~/miniconda3/envs/amftrack/lib/python3.7/site-packages/dropbox/dropbox_client.py\u001b[0m in \u001b[0;36mrequest\u001b[0;34m(self, route, namespace, request_arg, request_binary, timeout)\u001b[0m\n\u001b[1;32m    330\u001b[0m                                                   \u001b[0mauth_type\u001b[0m\u001b[0;34m,\u001b[0m\u001b[0;34m\u001b[0m\u001b[0;34m\u001b[0m\u001b[0m\n\u001b[1;32m    331\u001b[0m                                                   \u001b[0mrequest_binary\u001b[0m\u001b[0;34m,\u001b[0m\u001b[0;34m\u001b[0m\u001b[0;34m\u001b[0m\u001b[0m\n\u001b[0;32m--> 332\u001b[0;31m                                                   timeout=timeout)\n\u001b[0m\u001b[1;32m    333\u001b[0m         \u001b[0mdecoded_obj_result\u001b[0m \u001b[0;34m=\u001b[0m \u001b[0mjson\u001b[0m\u001b[0;34m.\u001b[0m\u001b[0mloads\u001b[0m\u001b[0;34m(\u001b[0m\u001b[0mres\u001b[0m\u001b[0;34m.\u001b[0m\u001b[0mobj_result\u001b[0m\u001b[0;34m)\u001b[0m\u001b[0;34m\u001b[0m\u001b[0;34m\u001b[0m\u001b[0m\n\u001b[1;32m    334\u001b[0m         \u001b[0;32mif\u001b[0m \u001b[0misinstance\u001b[0m\u001b[0;34m(\u001b[0m\u001b[0mres\u001b[0m\u001b[0;34m,\u001b[0m \u001b[0mRouteResult\u001b[0m\u001b[0;34m)\u001b[0m\u001b[0;34m:\u001b[0m\u001b[0;34m\u001b[0m\u001b[0;34m\u001b[0m\u001b[0m\n",
      "\u001b[0;32m~/miniconda3/envs/amftrack/lib/python3.7/site-packages/dropbox/dropbox_client.py\u001b[0m in \u001b[0;36mrequest_json_string_with_retry\u001b[0;34m(self, host, route_name, route_style, request_json_arg, auth_type, request_binary, timeout)\u001b[0m\n\u001b[1;32m    480\u001b[0m                                                 \u001b[0mauth_type\u001b[0m\u001b[0;34m,\u001b[0m\u001b[0;34m\u001b[0m\u001b[0;34m\u001b[0m\u001b[0m\n\u001b[1;32m    481\u001b[0m                                                 \u001b[0mrequest_binary\u001b[0m\u001b[0;34m,\u001b[0m\u001b[0;34m\u001b[0m\u001b[0;34m\u001b[0m\u001b[0m\n\u001b[0;32m--> 482\u001b[0;31m                                                 timeout=timeout)\n\u001b[0m\u001b[1;32m    483\u001b[0m             \u001b[0;32mexcept\u001b[0m \u001b[0mAuthError\u001b[0m \u001b[0;32mas\u001b[0m \u001b[0me\u001b[0m\u001b[0;34m:\u001b[0m\u001b[0;34m\u001b[0m\u001b[0;34m\u001b[0m\u001b[0m\n\u001b[1;32m    484\u001b[0m                 \u001b[0;32mif\u001b[0m \u001b[0me\u001b[0m\u001b[0;34m.\u001b[0m\u001b[0merror\u001b[0m \u001b[0;32mand\u001b[0m \u001b[0me\u001b[0m\u001b[0;34m.\u001b[0m\u001b[0merror\u001b[0m\u001b[0;34m.\u001b[0m\u001b[0mis_expired_access_token\u001b[0m\u001b[0;34m(\u001b[0m\u001b[0;34m)\u001b[0m\u001b[0;34m:\u001b[0m\u001b[0;34m\u001b[0m\u001b[0;34m\u001b[0m\u001b[0m\n",
      "\u001b[0;32m~/miniconda3/envs/amftrack/lib/python3.7/site-packages/dropbox/dropbox_client.py\u001b[0m in \u001b[0;36mrequest_json_string\u001b[0;34m(self, host, func_name, route_style, request_json_arg, auth_type, request_binary, timeout)\u001b[0m\n\u001b[1;32m    592\u001b[0m                                \u001b[0mstream\u001b[0m\u001b[0;34m=\u001b[0m\u001b[0mstream\u001b[0m\u001b[0;34m,\u001b[0m\u001b[0;34m\u001b[0m\u001b[0;34m\u001b[0m\u001b[0m\n\u001b[1;32m    593\u001b[0m                                \u001b[0mverify\u001b[0m\u001b[0;34m=\u001b[0m\u001b[0;32mTrue\u001b[0m\u001b[0;34m,\u001b[0m\u001b[0;34m\u001b[0m\u001b[0;34m\u001b[0m\u001b[0m\n\u001b[0;32m--> 594\u001b[0;31m                                \u001b[0mtimeout\u001b[0m\u001b[0;34m=\u001b[0m\u001b[0mtimeout\u001b[0m\u001b[0;34m,\u001b[0m\u001b[0;34m\u001b[0m\u001b[0;34m\u001b[0m\u001b[0m\n\u001b[0m\u001b[1;32m    595\u001b[0m                                )\n\u001b[1;32m    596\u001b[0m         \u001b[0mself\u001b[0m\u001b[0;34m.\u001b[0m\u001b[0mraise_dropbox_error_for_resp\u001b[0m\u001b[0;34m(\u001b[0m\u001b[0mr\u001b[0m\u001b[0;34m)\u001b[0m\u001b[0;34m\u001b[0m\u001b[0;34m\u001b[0m\u001b[0m\n",
      "\u001b[0;32m~/miniconda3/envs/amftrack/lib/python3.7/site-packages/requests/sessions.py\u001b[0m in \u001b[0;36mpost\u001b[0;34m(self, url, data, json, **kwargs)\u001b[0m\n\u001b[1;32m    633\u001b[0m         \"\"\"\n\u001b[1;32m    634\u001b[0m \u001b[0;34m\u001b[0m\u001b[0m\n\u001b[0;32m--> 635\u001b[0;31m         \u001b[0;32mreturn\u001b[0m \u001b[0mself\u001b[0m\u001b[0;34m.\u001b[0m\u001b[0mrequest\u001b[0m\u001b[0;34m(\u001b[0m\u001b[0;34m\"POST\"\u001b[0m\u001b[0;34m,\u001b[0m \u001b[0murl\u001b[0m\u001b[0;34m,\u001b[0m \u001b[0mdata\u001b[0m\u001b[0;34m=\u001b[0m\u001b[0mdata\u001b[0m\u001b[0;34m,\u001b[0m \u001b[0mjson\u001b[0m\u001b[0;34m=\u001b[0m\u001b[0mjson\u001b[0m\u001b[0;34m,\u001b[0m \u001b[0;34m**\u001b[0m\u001b[0mkwargs\u001b[0m\u001b[0;34m)\u001b[0m\u001b[0;34m\u001b[0m\u001b[0;34m\u001b[0m\u001b[0m\n\u001b[0m\u001b[1;32m    636\u001b[0m \u001b[0;34m\u001b[0m\u001b[0m\n\u001b[1;32m    637\u001b[0m     \u001b[0;32mdef\u001b[0m \u001b[0mput\u001b[0m\u001b[0;34m(\u001b[0m\u001b[0mself\u001b[0m\u001b[0;34m,\u001b[0m \u001b[0murl\u001b[0m\u001b[0;34m,\u001b[0m \u001b[0mdata\u001b[0m\u001b[0;34m=\u001b[0m\u001b[0;32mNone\u001b[0m\u001b[0;34m,\u001b[0m \u001b[0;34m**\u001b[0m\u001b[0mkwargs\u001b[0m\u001b[0;34m)\u001b[0m\u001b[0;34m:\u001b[0m\u001b[0;34m\u001b[0m\u001b[0;34m\u001b[0m\u001b[0m\n",
      "\u001b[0;32m~/miniconda3/envs/amftrack/lib/python3.7/site-packages/requests/sessions.py\u001b[0m in \u001b[0;36mrequest\u001b[0;34m(self, method, url, params, data, headers, cookies, files, auth, timeout, allow_redirects, proxies, hooks, stream, verify, cert, json)\u001b[0m\n\u001b[1;32m    585\u001b[0m         }\n\u001b[1;32m    586\u001b[0m         \u001b[0msend_kwargs\u001b[0m\u001b[0;34m.\u001b[0m\u001b[0mupdate\u001b[0m\u001b[0;34m(\u001b[0m\u001b[0msettings\u001b[0m\u001b[0;34m)\u001b[0m\u001b[0;34m\u001b[0m\u001b[0;34m\u001b[0m\u001b[0m\n\u001b[0;32m--> 587\u001b[0;31m         \u001b[0mresp\u001b[0m \u001b[0;34m=\u001b[0m \u001b[0mself\u001b[0m\u001b[0;34m.\u001b[0m\u001b[0msend\u001b[0m\u001b[0;34m(\u001b[0m\u001b[0mprep\u001b[0m\u001b[0;34m,\u001b[0m \u001b[0;34m**\u001b[0m\u001b[0msend_kwargs\u001b[0m\u001b[0;34m)\u001b[0m\u001b[0;34m\u001b[0m\u001b[0;34m\u001b[0m\u001b[0m\n\u001b[0m\u001b[1;32m    588\u001b[0m \u001b[0;34m\u001b[0m\u001b[0m\n\u001b[1;32m    589\u001b[0m         \u001b[0;32mreturn\u001b[0m \u001b[0mresp\u001b[0m\u001b[0;34m\u001b[0m\u001b[0;34m\u001b[0m\u001b[0m\n",
      "\u001b[0;32m~/miniconda3/envs/amftrack/lib/python3.7/site-packages/requests/sessions.py\u001b[0m in \u001b[0;36msend\u001b[0;34m(self, request, **kwargs)\u001b[0m\n\u001b[1;32m    699\u001b[0m \u001b[0;34m\u001b[0m\u001b[0m\n\u001b[1;32m    700\u001b[0m         \u001b[0;31m# Send the request\u001b[0m\u001b[0;34m\u001b[0m\u001b[0;34m\u001b[0m\u001b[0;34m\u001b[0m\u001b[0m\n\u001b[0;32m--> 701\u001b[0;31m         \u001b[0mr\u001b[0m \u001b[0;34m=\u001b[0m \u001b[0madapter\u001b[0m\u001b[0;34m.\u001b[0m\u001b[0msend\u001b[0m\u001b[0;34m(\u001b[0m\u001b[0mrequest\u001b[0m\u001b[0;34m,\u001b[0m \u001b[0;34m**\u001b[0m\u001b[0mkwargs\u001b[0m\u001b[0;34m)\u001b[0m\u001b[0;34m\u001b[0m\u001b[0;34m\u001b[0m\u001b[0m\n\u001b[0m\u001b[1;32m    702\u001b[0m \u001b[0;34m\u001b[0m\u001b[0m\n\u001b[1;32m    703\u001b[0m         \u001b[0;31m# Total elapsed time of the request (approximately)\u001b[0m\u001b[0;34m\u001b[0m\u001b[0;34m\u001b[0m\u001b[0;34m\u001b[0m\u001b[0m\n",
      "\u001b[0;32m~/miniconda3/envs/amftrack/lib/python3.7/site-packages/requests/adapters.py\u001b[0m in \u001b[0;36msend\u001b[0;34m(self, request, stream, timeout, verify, cert, proxies)\u001b[0m\n\u001b[1;32m    497\u001b[0m                     \u001b[0mdecode_content\u001b[0m\u001b[0;34m=\u001b[0m\u001b[0;32mFalse\u001b[0m\u001b[0;34m,\u001b[0m\u001b[0;34m\u001b[0m\u001b[0;34m\u001b[0m\u001b[0m\n\u001b[1;32m    498\u001b[0m                     \u001b[0mretries\u001b[0m\u001b[0;34m=\u001b[0m\u001b[0mself\u001b[0m\u001b[0;34m.\u001b[0m\u001b[0mmax_retries\u001b[0m\u001b[0;34m,\u001b[0m\u001b[0;34m\u001b[0m\u001b[0;34m\u001b[0m\u001b[0m\n\u001b[0;32m--> 499\u001b[0;31m                     \u001b[0mtimeout\u001b[0m\u001b[0;34m=\u001b[0m\u001b[0mtimeout\u001b[0m\u001b[0;34m,\u001b[0m\u001b[0;34m\u001b[0m\u001b[0;34m\u001b[0m\u001b[0m\n\u001b[0m\u001b[1;32m    500\u001b[0m                 )\n\u001b[1;32m    501\u001b[0m \u001b[0;34m\u001b[0m\u001b[0m\n",
      "\u001b[0;32m~/miniconda3/envs/amftrack/lib/python3.7/site-packages/urllib3/connectionpool.py\u001b[0m in \u001b[0;36murlopen\u001b[0;34m(self, method, url, body, headers, retries, redirect, assert_same_host, timeout, pool_timeout, release_conn, chunked, body_pos, **response_kw)\u001b[0m\n\u001b[1;32m    708\u001b[0m                 \u001b[0mbody\u001b[0m\u001b[0;34m=\u001b[0m\u001b[0mbody\u001b[0m\u001b[0;34m,\u001b[0m\u001b[0;34m\u001b[0m\u001b[0;34m\u001b[0m\u001b[0m\n\u001b[1;32m    709\u001b[0m                 \u001b[0mheaders\u001b[0m\u001b[0;34m=\u001b[0m\u001b[0mheaders\u001b[0m\u001b[0;34m,\u001b[0m\u001b[0;34m\u001b[0m\u001b[0;34m\u001b[0m\u001b[0m\n\u001b[0;32m--> 710\u001b[0;31m                 \u001b[0mchunked\u001b[0m\u001b[0;34m=\u001b[0m\u001b[0mchunked\u001b[0m\u001b[0;34m,\u001b[0m\u001b[0;34m\u001b[0m\u001b[0;34m\u001b[0m\u001b[0m\n\u001b[0m\u001b[1;32m    711\u001b[0m             )\n\u001b[1;32m    712\u001b[0m \u001b[0;34m\u001b[0m\u001b[0m\n",
      "\u001b[0;32m~/miniconda3/envs/amftrack/lib/python3.7/site-packages/urllib3/connectionpool.py\u001b[0m in \u001b[0;36m_make_request\u001b[0;34m(self, conn, method, url, timeout, chunked, **httplib_request_kw)\u001b[0m\n\u001b[1;32m    447\u001b[0m                     \u001b[0;31m# Python 3 (including for exceptions like SystemExit).\u001b[0m\u001b[0;34m\u001b[0m\u001b[0;34m\u001b[0m\u001b[0;34m\u001b[0m\u001b[0m\n\u001b[1;32m    448\u001b[0m                     \u001b[0;31m# Otherwise it looks like a bug in the code.\u001b[0m\u001b[0;34m\u001b[0m\u001b[0;34m\u001b[0m\u001b[0;34m\u001b[0m\u001b[0m\n\u001b[0;32m--> 449\u001b[0;31m                     \u001b[0msix\u001b[0m\u001b[0;34m.\u001b[0m\u001b[0mraise_from\u001b[0m\u001b[0;34m(\u001b[0m\u001b[0me\u001b[0m\u001b[0;34m,\u001b[0m \u001b[0;32mNone\u001b[0m\u001b[0;34m)\u001b[0m\u001b[0;34m\u001b[0m\u001b[0;34m\u001b[0m\u001b[0m\n\u001b[0m\u001b[1;32m    450\u001b[0m         \u001b[0;32mexcept\u001b[0m \u001b[0;34m(\u001b[0m\u001b[0mSocketTimeout\u001b[0m\u001b[0;34m,\u001b[0m \u001b[0mBaseSSLError\u001b[0m\u001b[0;34m,\u001b[0m \u001b[0mSocketError\u001b[0m\u001b[0;34m)\u001b[0m \u001b[0;32mas\u001b[0m \u001b[0me\u001b[0m\u001b[0;34m:\u001b[0m\u001b[0;34m\u001b[0m\u001b[0;34m\u001b[0m\u001b[0m\n\u001b[1;32m    451\u001b[0m             \u001b[0mself\u001b[0m\u001b[0;34m.\u001b[0m\u001b[0m_raise_timeout\u001b[0m\u001b[0;34m(\u001b[0m\u001b[0merr\u001b[0m\u001b[0;34m=\u001b[0m\u001b[0me\u001b[0m\u001b[0;34m,\u001b[0m \u001b[0murl\u001b[0m\u001b[0;34m=\u001b[0m\u001b[0murl\u001b[0m\u001b[0;34m,\u001b[0m \u001b[0mtimeout_value\u001b[0m\u001b[0;34m=\u001b[0m\u001b[0mread_timeout\u001b[0m\u001b[0;34m)\u001b[0m\u001b[0;34m\u001b[0m\u001b[0;34m\u001b[0m\u001b[0m\n",
      "\u001b[0;32m~/miniconda3/envs/amftrack/lib/python3.7/site-packages/urllib3/packages/six.py\u001b[0m in \u001b[0;36mraise_from\u001b[0;34m(value, from_value)\u001b[0m\n",
      "\u001b[0;32m~/miniconda3/envs/amftrack/lib/python3.7/site-packages/urllib3/connectionpool.py\u001b[0m in \u001b[0;36m_make_request\u001b[0;34m(self, conn, method, url, timeout, chunked, **httplib_request_kw)\u001b[0m\n\u001b[1;32m    442\u001b[0m                 \u001b[0;31m# Python 3\u001b[0m\u001b[0;34m\u001b[0m\u001b[0;34m\u001b[0m\u001b[0;34m\u001b[0m\u001b[0m\n\u001b[1;32m    443\u001b[0m                 \u001b[0;32mtry\u001b[0m\u001b[0;34m:\u001b[0m\u001b[0;34m\u001b[0m\u001b[0;34m\u001b[0m\u001b[0m\n\u001b[0;32m--> 444\u001b[0;31m                     \u001b[0mhttplib_response\u001b[0m \u001b[0;34m=\u001b[0m \u001b[0mconn\u001b[0m\u001b[0;34m.\u001b[0m\u001b[0mgetresponse\u001b[0m\u001b[0;34m(\u001b[0m\u001b[0;34m)\u001b[0m\u001b[0;34m\u001b[0m\u001b[0;34m\u001b[0m\u001b[0m\n\u001b[0m\u001b[1;32m    445\u001b[0m                 \u001b[0;32mexcept\u001b[0m \u001b[0mBaseException\u001b[0m \u001b[0;32mas\u001b[0m \u001b[0me\u001b[0m\u001b[0;34m:\u001b[0m\u001b[0;34m\u001b[0m\u001b[0;34m\u001b[0m\u001b[0m\n\u001b[1;32m    446\u001b[0m                     \u001b[0;31m# Remove the TypeError from the exception chain in\u001b[0m\u001b[0;34m\u001b[0m\u001b[0;34m\u001b[0m\u001b[0;34m\u001b[0m\u001b[0m\n",
      "\u001b[0;32m~/miniconda3/envs/amftrack/lib/python3.7/http/client.py\u001b[0m in \u001b[0;36mgetresponse\u001b[0;34m(self)\u001b[0m\n\u001b[1;32m   1371\u001b[0m         \u001b[0;32mtry\u001b[0m\u001b[0;34m:\u001b[0m\u001b[0;34m\u001b[0m\u001b[0;34m\u001b[0m\u001b[0m\n\u001b[1;32m   1372\u001b[0m             \u001b[0;32mtry\u001b[0m\u001b[0;34m:\u001b[0m\u001b[0;34m\u001b[0m\u001b[0;34m\u001b[0m\u001b[0m\n\u001b[0;32m-> 1373\u001b[0;31m                 \u001b[0mresponse\u001b[0m\u001b[0;34m.\u001b[0m\u001b[0mbegin\u001b[0m\u001b[0;34m(\u001b[0m\u001b[0;34m)\u001b[0m\u001b[0;34m\u001b[0m\u001b[0;34m\u001b[0m\u001b[0m\n\u001b[0m\u001b[1;32m   1374\u001b[0m             \u001b[0;32mexcept\u001b[0m \u001b[0mConnectionError\u001b[0m\u001b[0;34m:\u001b[0m\u001b[0;34m\u001b[0m\u001b[0;34m\u001b[0m\u001b[0m\n\u001b[1;32m   1375\u001b[0m                 \u001b[0mself\u001b[0m\u001b[0;34m.\u001b[0m\u001b[0mclose\u001b[0m\u001b[0;34m(\u001b[0m\u001b[0;34m)\u001b[0m\u001b[0;34m\u001b[0m\u001b[0;34m\u001b[0m\u001b[0m\n",
      "\u001b[0;32m~/miniconda3/envs/amftrack/lib/python3.7/http/client.py\u001b[0m in \u001b[0;36mbegin\u001b[0;34m(self)\u001b[0m\n\u001b[1;32m    317\u001b[0m         \u001b[0;31m# read until we get a non-100 response\u001b[0m\u001b[0;34m\u001b[0m\u001b[0;34m\u001b[0m\u001b[0;34m\u001b[0m\u001b[0m\n\u001b[1;32m    318\u001b[0m         \u001b[0;32mwhile\u001b[0m \u001b[0;32mTrue\u001b[0m\u001b[0;34m:\u001b[0m\u001b[0;34m\u001b[0m\u001b[0;34m\u001b[0m\u001b[0m\n\u001b[0;32m--> 319\u001b[0;31m             \u001b[0mversion\u001b[0m\u001b[0;34m,\u001b[0m \u001b[0mstatus\u001b[0m\u001b[0;34m,\u001b[0m \u001b[0mreason\u001b[0m \u001b[0;34m=\u001b[0m \u001b[0mself\u001b[0m\u001b[0;34m.\u001b[0m\u001b[0m_read_status\u001b[0m\u001b[0;34m(\u001b[0m\u001b[0;34m)\u001b[0m\u001b[0;34m\u001b[0m\u001b[0;34m\u001b[0m\u001b[0m\n\u001b[0m\u001b[1;32m    320\u001b[0m             \u001b[0;32mif\u001b[0m \u001b[0mstatus\u001b[0m \u001b[0;34m!=\u001b[0m \u001b[0mCONTINUE\u001b[0m\u001b[0;34m:\u001b[0m\u001b[0;34m\u001b[0m\u001b[0;34m\u001b[0m\u001b[0m\n\u001b[1;32m    321\u001b[0m                 \u001b[0;32mbreak\u001b[0m\u001b[0;34m\u001b[0m\u001b[0;34m\u001b[0m\u001b[0m\n",
      "\u001b[0;32m~/miniconda3/envs/amftrack/lib/python3.7/http/client.py\u001b[0m in \u001b[0;36m_read_status\u001b[0;34m(self)\u001b[0m\n\u001b[1;32m    278\u001b[0m \u001b[0;34m\u001b[0m\u001b[0m\n\u001b[1;32m    279\u001b[0m     \u001b[0;32mdef\u001b[0m \u001b[0m_read_status\u001b[0m\u001b[0;34m(\u001b[0m\u001b[0mself\u001b[0m\u001b[0;34m)\u001b[0m\u001b[0;34m:\u001b[0m\u001b[0;34m\u001b[0m\u001b[0;34m\u001b[0m\u001b[0m\n\u001b[0;32m--> 280\u001b[0;31m         \u001b[0mline\u001b[0m \u001b[0;34m=\u001b[0m \u001b[0mstr\u001b[0m\u001b[0;34m(\u001b[0m\u001b[0mself\u001b[0m\u001b[0;34m.\u001b[0m\u001b[0mfp\u001b[0m\u001b[0;34m.\u001b[0m\u001b[0mreadline\u001b[0m\u001b[0;34m(\u001b[0m\u001b[0m_MAXLINE\u001b[0m \u001b[0;34m+\u001b[0m \u001b[0;36m1\u001b[0m\u001b[0;34m)\u001b[0m\u001b[0;34m,\u001b[0m \u001b[0;34m\"iso-8859-1\"\u001b[0m\u001b[0;34m)\u001b[0m\u001b[0;34m\u001b[0m\u001b[0;34m\u001b[0m\u001b[0m\n\u001b[0m\u001b[1;32m    281\u001b[0m         \u001b[0;32mif\u001b[0m \u001b[0mlen\u001b[0m\u001b[0;34m(\u001b[0m\u001b[0mline\u001b[0m\u001b[0;34m)\u001b[0m \u001b[0;34m>\u001b[0m \u001b[0m_MAXLINE\u001b[0m\u001b[0;34m:\u001b[0m\u001b[0;34m\u001b[0m\u001b[0;34m\u001b[0m\u001b[0m\n\u001b[1;32m    282\u001b[0m             \u001b[0;32mraise\u001b[0m \u001b[0mLineTooLong\u001b[0m\u001b[0;34m(\u001b[0m\u001b[0;34m\"status line\"\u001b[0m\u001b[0;34m)\u001b[0m\u001b[0;34m\u001b[0m\u001b[0;34m\u001b[0m\u001b[0m\n",
      "\u001b[0;32m~/miniconda3/envs/amftrack/lib/python3.7/socket.py\u001b[0m in \u001b[0;36mreadinto\u001b[0;34m(self, b)\u001b[0m\n\u001b[1;32m    587\u001b[0m         \u001b[0;32mwhile\u001b[0m \u001b[0;32mTrue\u001b[0m\u001b[0;34m:\u001b[0m\u001b[0;34m\u001b[0m\u001b[0;34m\u001b[0m\u001b[0m\n\u001b[1;32m    588\u001b[0m             \u001b[0;32mtry\u001b[0m\u001b[0;34m:\u001b[0m\u001b[0;34m\u001b[0m\u001b[0;34m\u001b[0m\u001b[0m\n\u001b[0;32m--> 589\u001b[0;31m                 \u001b[0;32mreturn\u001b[0m \u001b[0mself\u001b[0m\u001b[0;34m.\u001b[0m\u001b[0m_sock\u001b[0m\u001b[0;34m.\u001b[0m\u001b[0mrecv_into\u001b[0m\u001b[0;34m(\u001b[0m\u001b[0mb\u001b[0m\u001b[0;34m)\u001b[0m\u001b[0;34m\u001b[0m\u001b[0;34m\u001b[0m\u001b[0m\n\u001b[0m\u001b[1;32m    590\u001b[0m             \u001b[0;32mexcept\u001b[0m \u001b[0mtimeout\u001b[0m\u001b[0;34m:\u001b[0m\u001b[0;34m\u001b[0m\u001b[0;34m\u001b[0m\u001b[0m\n\u001b[1;32m    591\u001b[0m                 \u001b[0mself\u001b[0m\u001b[0;34m.\u001b[0m\u001b[0m_timeout_occurred\u001b[0m \u001b[0;34m=\u001b[0m \u001b[0;32mTrue\u001b[0m\u001b[0;34m\u001b[0m\u001b[0;34m\u001b[0m\u001b[0m\n",
      "\u001b[0;32m~/miniconda3/envs/amftrack/lib/python3.7/ssl.py\u001b[0m in \u001b[0;36mrecv_into\u001b[0;34m(self, buffer, nbytes, flags)\u001b[0m\n\u001b[1;32m   1069\u001b[0m                   \u001b[0;34m\"non-zero flags not allowed in calls to recv_into() on %s\"\u001b[0m \u001b[0;34m%\u001b[0m\u001b[0;34m\u001b[0m\u001b[0;34m\u001b[0m\u001b[0m\n\u001b[1;32m   1070\u001b[0m                   self.__class__)\n\u001b[0;32m-> 1071\u001b[0;31m             \u001b[0;32mreturn\u001b[0m \u001b[0mself\u001b[0m\u001b[0;34m.\u001b[0m\u001b[0mread\u001b[0m\u001b[0;34m(\u001b[0m\u001b[0mnbytes\u001b[0m\u001b[0;34m,\u001b[0m \u001b[0mbuffer\u001b[0m\u001b[0;34m)\u001b[0m\u001b[0;34m\u001b[0m\u001b[0;34m\u001b[0m\u001b[0m\n\u001b[0m\u001b[1;32m   1072\u001b[0m         \u001b[0;32melse\u001b[0m\u001b[0;34m:\u001b[0m\u001b[0;34m\u001b[0m\u001b[0;34m\u001b[0m\u001b[0m\n\u001b[1;32m   1073\u001b[0m             \u001b[0;32mreturn\u001b[0m \u001b[0msuper\u001b[0m\u001b[0;34m(\u001b[0m\u001b[0;34m)\u001b[0m\u001b[0;34m.\u001b[0m\u001b[0mrecv_into\u001b[0m\u001b[0;34m(\u001b[0m\u001b[0mbuffer\u001b[0m\u001b[0;34m,\u001b[0m \u001b[0mnbytes\u001b[0m\u001b[0;34m,\u001b[0m \u001b[0mflags\u001b[0m\u001b[0;34m)\u001b[0m\u001b[0;34m\u001b[0m\u001b[0;34m\u001b[0m\u001b[0m\n",
      "\u001b[0;32m~/miniconda3/envs/amftrack/lib/python3.7/ssl.py\u001b[0m in \u001b[0;36mread\u001b[0;34m(self, len, buffer)\u001b[0m\n\u001b[1;32m    927\u001b[0m         \u001b[0;32mtry\u001b[0m\u001b[0;34m:\u001b[0m\u001b[0;34m\u001b[0m\u001b[0;34m\u001b[0m\u001b[0m\n\u001b[1;32m    928\u001b[0m             \u001b[0;32mif\u001b[0m \u001b[0mbuffer\u001b[0m \u001b[0;32mis\u001b[0m \u001b[0;32mnot\u001b[0m \u001b[0;32mNone\u001b[0m\u001b[0;34m:\u001b[0m\u001b[0;34m\u001b[0m\u001b[0;34m\u001b[0m\u001b[0m\n\u001b[0;32m--> 929\u001b[0;31m                 \u001b[0;32mreturn\u001b[0m \u001b[0mself\u001b[0m\u001b[0;34m.\u001b[0m\u001b[0m_sslobj\u001b[0m\u001b[0;34m.\u001b[0m\u001b[0mread\u001b[0m\u001b[0;34m(\u001b[0m\u001b[0mlen\u001b[0m\u001b[0;34m,\u001b[0m \u001b[0mbuffer\u001b[0m\u001b[0;34m)\u001b[0m\u001b[0;34m\u001b[0m\u001b[0;34m\u001b[0m\u001b[0m\n\u001b[0m\u001b[1;32m    930\u001b[0m             \u001b[0;32melse\u001b[0m\u001b[0;34m:\u001b[0m\u001b[0;34m\u001b[0m\u001b[0;34m\u001b[0m\u001b[0m\n\u001b[1;32m    931\u001b[0m                 \u001b[0;32mreturn\u001b[0m \u001b[0mself\u001b[0m\u001b[0;34m.\u001b[0m\u001b[0m_sslobj\u001b[0m\u001b[0;34m.\u001b[0m\u001b[0mread\u001b[0m\u001b[0;34m(\u001b[0m\u001b[0mlen\u001b[0m\u001b[0;34m)\u001b[0m\u001b[0;34m\u001b[0m\u001b[0;34m\u001b[0m\u001b[0m\n",
      "\u001b[0;31mKeyboardInterrupt\u001b[0m: "
     ]
    }
   ],
   "source": [
    "all_folders_drop = get_dropbox_folders(\"/DATA/PRINCE\", True)"
   ]
  },
  {
   "cell_type": "code",
   "execution_count": 6,
   "id": "a0cd5156-1751-427c-a19f-84644c5e34e6",
   "metadata": {
    "tags": []
   },
   "outputs": [
    {
     "ename": "NameError",
     "evalue": "name 'all_folders_drop' is not defined",
     "output_type": "error",
     "traceback": [
      "\u001b[0;31m---------------------------------------------------------------------------\u001b[0m",
      "\u001b[0;31mNameError\u001b[0m                                 Traceback (most recent call last)",
      "\u001b[0;32m/scratch-local/cbisot/ipykernel_797440/606576782.py\u001b[0m in \u001b[0;36m<module>\u001b[0;34m\u001b[0m\n\u001b[1;32m      1\u001b[0m \u001b[0mdir_drop\u001b[0m \u001b[0;34m=\u001b[0m \u001b[0;34m\"DATA/PRINCE\"\u001b[0m\u001b[0;34m\u001b[0m\u001b[0;34m\u001b[0m\u001b[0m\n\u001b[1;32m      2\u001b[0m \u001b[0;31m# all_folders_drop = get_dropbox_folders(\"/DATA/PRINCE\", True)\u001b[0m\u001b[0;34m\u001b[0m\u001b[0;34m\u001b[0m\u001b[0;34m\u001b[0m\u001b[0m\n\u001b[0;32m----> 3\u001b[0;31m \u001b[0mfolders_drop\u001b[0m \u001b[0;34m=\u001b[0m \u001b[0mall_folders_drop\u001b[0m\u001b[0;34m.\u001b[0m\u001b[0mloc\u001b[0m\u001b[0;34m[\u001b[0m\u001b[0mall_folders_drop\u001b[0m\u001b[0;34m[\u001b[0m\u001b[0;34m\"unique_id\"\u001b[0m\u001b[0;34m]\u001b[0m\u001b[0;34m.\u001b[0m\u001b[0misin\u001b[0m\u001b[0;34m(\u001b[0m\u001b[0mplates\u001b[0m\u001b[0;34m)\u001b[0m\u001b[0;34m]\u001b[0m\u001b[0;34m\u001b[0m\u001b[0;34m\u001b[0m\u001b[0m\n\u001b[0m\u001b[1;32m      4\u001b[0m \u001b[0mupdate_plate_info\u001b[0m\u001b[0;34m(\u001b[0m\u001b[0mdirectory_targ\u001b[0m\u001b[0;34m,\u001b[0m \u001b[0mlocal\u001b[0m\u001b[0;34m=\u001b[0m\u001b[0;32mTrue\u001b[0m\u001b[0;34m,\u001b[0m \u001b[0mstrong_constraint\u001b[0m\u001b[0;34m=\u001b[0m\u001b[0;32mFalse\u001b[0m\u001b[0;34m)\u001b[0m\u001b[0;34m\u001b[0m\u001b[0;34m\u001b[0m\u001b[0m\n\u001b[1;32m      5\u001b[0m \u001b[0mall_folders\u001b[0m \u001b[0;34m=\u001b[0m \u001b[0mget_current_folders\u001b[0m\u001b[0;34m(\u001b[0m\u001b[0mdirectory_targ\u001b[0m\u001b[0;34m,\u001b[0m \u001b[0mlocal\u001b[0m\u001b[0;34m=\u001b[0m\u001b[0;32mTrue\u001b[0m\u001b[0;34m)\u001b[0m\u001b[0;34m\u001b[0m\u001b[0;34m\u001b[0m\u001b[0m\n",
      "\u001b[0;31mNameError\u001b[0m: name 'all_folders_drop' is not defined"
     ]
    }
   ],
   "source": [
    "dir_drop = \"DATA/PRINCE\"\n",
    "# all_folders_drop = get_dropbox_folders(\"/DATA/PRINCE\", True)\n",
    "folders_drop = all_folders_drop.loc[all_folders_drop[\"unique_id\"].isin(plates)]\n",
    "update_plate_info(directory_targ, local=True, strong_constraint=False)\n",
    "all_folders = get_current_folders(directory_targ, local=True)\n",
    "# if len(all_folders) > 0:\n",
    "folders = all_folders.loc[all_folders[\"unique_id\"].isin(plates)]\n",
    "folders_drop2 = folders_drop.loc[~folders_drop[\"folder\"].isin(folders[\"folder\"])]\n",
    "folders_drop3 = folders_drop2.loc[~folders_drop2[\"folder\"].str.contains(\"Analysis\")]"
   ]
  },
  {
   "cell_type": "code",
   "execution_count": 39,
   "id": "4a62256b-7c18-4acd-87fd-3786f14f3ba2",
   "metadata": {
    "tags": []
   },
   "outputs": [
    {
     "data": {
      "text/html": [
       "<div>\n",
       "<style scoped>\n",
       "    .dataframe tbody tr th:only-of-type {\n",
       "        vertical-align: middle;\n",
       "    }\n",
       "\n",
       "    .dataframe tbody tr th {\n",
       "        vertical-align: top;\n",
       "    }\n",
       "\n",
       "    .dataframe thead th {\n",
       "        text-align: right;\n",
       "    }\n",
       "</style>\n",
       "<table border=\"1\" class=\"dataframe\">\n",
       "  <thead>\n",
       "    <tr style=\"text-align: right;\">\n",
       "      <th></th>\n",
       "      <th>folder</th>\n",
       "      <th>size</th>\n",
       "      <th>change_date</th>\n",
       "      <th>tot_path_drop</th>\n",
       "      <th>Plate</th>\n",
       "      <th>CrossDate</th>\n",
       "      <th>unique_id</th>\n",
       "    </tr>\n",
       "  </thead>\n",
       "  <tbody>\n",
       "  </tbody>\n",
       "</table>\n",
       "</div>"
      ],
      "text/plain": [
       "Empty DataFrame\n",
       "Columns: [folder, size, change_date, tot_path_drop, Plate, CrossDate, unique_id]\n",
       "Index: []"
      ]
     },
     "execution_count": 39,
     "metadata": {},
     "output_type": "execute_result"
    }
   ],
   "source": [
    "folders_drop3"
   ]
  },
  {
   "cell_type": "code",
   "execution_count": 8,
   "id": "84469621-95e5-4866-b780-bec978a73e03",
   "metadata": {
    "tags": []
   },
   "outputs": [],
   "source": [
    "on_dropbox = all_folders_drop.loc[\n",
    "    all_folders_drop[\"CrossDate\"].between(\"20220820\", \"20220901\")\n",
    "]\n",
    "plates = on_dropbox[\"unique_id\"].unique()"
   ]
  },
  {
   "cell_type": "code",
   "execution_count": 9,
   "id": "9bafdbab-19b3-4272-b640-726ccfd152de",
   "metadata": {},
   "outputs": [
    {
     "data": {
      "text/plain": [
       "array(['109_20220829', '140_20220826', '106_20220826', '46_20220829',\n",
       "       '111_20220823', '107_20220821', '108_20220823', '66_20220823',\n",
       "       '996_20220823'], dtype=object)"
      ]
     },
     "execution_count": 9,
     "metadata": {},
     "output_type": "execute_result"
    }
   ],
   "source": [
    "plates"
   ]
  },
  {
   "cell_type": "code",
   "execution_count": 10,
   "id": "d168e936-b144-4abd-8542-502a65f07523",
   "metadata": {
    "tags": []
   },
   "outputs": [
    {
     "data": {
      "text/plain": [
       "2847"
      ]
     },
     "execution_count": 10,
     "metadata": {},
     "output_type": "execute_result"
    }
   ],
   "source": [
    "len(on_dropbox)"
   ]
  },
  {
   "cell_type": "code",
   "execution_count": 15,
   "id": "a41d5ed3-e77d-487d-be97-7a780b6df7de",
   "metadata": {
    "tags": []
   },
   "outputs": [],
   "source": [
    "# plates= ['94_20201123','102_20201226','76_20210108','152_20201224','792_20210915']\n",
    "# plates= ['52_20220707','56_20220701','839_20220325','938_20220325','1076_20220511']\n",
    "plates = [\n",
    "    \"52_20220707\",\n",
    "    \"56_20220701\",\n",
    "    \"81_20220704\",\n",
    "    \"89_20220705\",\n",
    "    \"91_20220708\",\n",
    "    \"839_20220325\",\n",
    "    \"1076_20220511\",\n",
    "]  # full run done!\n",
    "plates = [\n",
    "    \"84_20220621\",\n",
    "    \"877_20220419\",\n",
    "    \"938_20220325\",\n",
    "    \"941_20220404\",\n",
    "]  # for spore data\n",
    "\n",
    "# plates = ['52_20220707','84_20220621','1048_20220506','1045_20220504']\n",
    "plates = [\n",
    "    # \"20_20220419\",\n",
    "    # \"23_20220509\",\n",
    "    # \"24_20220426\",\n",
    "    # \"30_20220509\",\n",
    "    # \"32_20220428\",\n",
    "    \"33_20220502\",\n",
    "]  # analysis AGG\n",
    "# plates = [\"20_20220419\", \"23_20220509\", \"24_20220426\"]  # analysis AGG\n",
    "\n",
    "# plates = ['111111_20600101']\n",
    "# plates = [\"56_20220701\",\"839_20220325\",'938_20220325','1076_20220511'] #analysis A5\n",
    "# plates = [\"81_20220704\",\"84_20220621\",\"89_20220705\",\"91_20220708\"] #analysis A5sp3\n",
    "# plates = [\"127_20220705\",\"129_20220711\",\"130_20220707\",\"1014_20220525\",\"1023_20220502\",\"1048_20220506\", \"1045_20220504\",\"1035_20220518\",\"1037_20220523\",\"1042_20220523\",\"1053_20220413\"] #analysis C2\n",
    "# plates = [\"1035_20220518\",\"1037_20220523\",\"1042_20220523\",\"1053_20220413\"] #analysis C2\n",
    "# plates = ['94_20201123','152_20201224','792_20210915']\n",
    "# plates = ['799_20211001','800_20210928','91_20201217']\n",
    "# plates = [\"1044_20220509\"]\n",
    "# plates = [\"1048_20220506\", \"1045_20220504\", \"52_20220707\", \"84_20220621\"]\n",
    "# plates = [\n",
    "#     '102_20201226',\n",
    "#      '94_20201123',\n",
    "#     \"1076_20220511\",\n",
    "#     \"1042_20220523\",\n",
    "#     \"1048_20220506\",\n",
    "#     \"938_20220325\",\n",
    "#          ]\n",
    "# plates = ['907_20220321','943_20220322',\"403_20221005\"] #for philippe\n",
    "# plates = ['799_20211001','800_20210928',\"91_20201217\"]\n",
    "plates = [\n",
    "    \"106_20220826\",\n",
    "    \"108_20220823\",\n",
    "    \"111_20220823\",\n",
    "    \"66_20220823\",\n",
    "    \"105_20220817\",\n",
    "    \"100_20220812\",\n",
    "    \"75_20220808\",\n",
    "    \"99_20220815\",\n",
    "]\n",
    "\n",
    "plates = [\"462_20221013\"]  # for spore data\n",
    "# plates = ['1048_20220506','84_20220621'] #for spore data\n",
    "# plates = ['510_20220623']"
   ]
  },
  {
   "cell_type": "code",
   "execution_count": 2,
   "id": "36f5e840-d63e-4fcf-96b2-71b8c3ea4584",
   "metadata": {
    "jupyter": {
     "source_hidden": true
    },
    "tags": []
   },
   "outputs": [],
   "source": [
    "plates = [\n",
    "    \"078_20220920\",\n",
    "    \"079_20220920\",\n",
    "    \"080_20220920\",\n",
    "    \"081_20220920\",\n",
    "    \"082_20220920\",\n",
    "    \"083_20220920\",\n",
    "    \"084_20220920\",\n",
    "    \"001_20220920\",\n",
    "    \"024_20220920\",\n",
    "    \"073_20220920\",\n",
    "    \"002_20220920\",\n",
    "    \"003_20220920\",\n",
    "    \"004_20220920\",\n",
    "    \"005_20220920\",\n",
    "    \"006_20220920\",\n",
    "    \"007_20220920\",\n",
    "    \"008_20220920\",\n",
    "    \"009_20220920\",\n",
    "    \"010_20220920\",\n",
    "    \"011_20220920\",\n",
    "    \"012_20220920\",\n",
    "    \"019_20220920\",\n",
    "    \"020_20220920\",\n",
    "    \"021_20220920\",\n",
    "    \"022_20220920\",\n",
    "    \"023_20220920\",\n",
    "    \"037_20220920\",\n",
    "    \"038_20220920\",\n",
    "    \"039_20220920\",\n",
    "    \"040_20220920\",\n",
    "    \"042_20220920\",\n",
    "    \"043_20220920\",\n",
    "    \"044_20220920\",\n",
    "    \"045_20220920\",\n",
    "    \"046_20220920\",\n",
    "    \"016_20220921\",\n",
    "    \"017_20220921\",\n",
    "    \"034_20220921\",\n",
    "    \"051_20220920\",\n",
    "    \"094_20220921\",\n",
    "    \"064_20220921\",\n",
    "    \"026_20220921\",\n",
    "    \"027_20220921\",\n",
    "    \"028_20220921\",\n",
    "    \"029_20220921\",\n",
    "    \"031_20220921\",\n",
    "    \"033_20220921\",\n",
    "    \"035_20220921\",\n",
    "    \"036_20220921\",\n",
    "    \"047_20220920\",\n",
    "    \"041_20220920\",\n",
    "    \"015_20220921\",\n",
    "    \"068_20220921\",\n",
    "    \"107_20220921\",\n",
    "    \"095_20220921\",\n",
    "    \"062_20220921\",\n",
    "    \"096_20220921\",\n",
    "    \"104_20220921\",\n",
    "    \"050_20220920\",\n",
    "    \"030_20220921\",\n",
    "    \"025_20220921\",\n",
    "    \"100_20220921\",\n",
    "    \"067_20220921\",\n",
    "    \"048_20220920\",\n",
    "    \"055_20220921\",\n",
    "    \"056_20220921\",\n",
    "    \"057_20220921\",\n",
    "    \"058_20220921\",\n",
    "    \"059_20220921\",\n",
    "    \"060_20220921\",\n",
    "    \"061_20220921\",\n",
    "    \"063_20220921\",\n",
    "    \"014_20220921\",\n",
    "    \"018_20220921\",\n",
    "    \"099_20220921\",\n",
    "    \"069_20220921\",\n",
    "    \"054_20220920\",\n",
    "    \"075_20220920\",\n",
    "    \"092_20220921\",\n",
    "    \"093_20220921\",\n",
    "    \"097_20220921\",\n",
    "    \"098_20220921\",\n",
    "    \"105_20220921\",\n",
    "    \"106_20220921\",\n",
    "    \"108_20220921\",\n",
    "    \"085_20220921\",\n",
    "    \"086_20220921\",\n",
    "    \"087_20220921\",\n",
    "    \"088_20220921\",\n",
    "    \"089_20220921\",\n",
    "    \"090_20220921\",\n",
    "    \"091_20220921\",\n",
    "    \"049_20220920\",\n",
    "    \"052_20220920\",\n",
    "    \"053_20220920\",\n",
    "    \"074_20220920\",\n",
    "    \"076_20220920\",\n",
    "    \"077_20220920\",\n",
    "    \"013_20220921\",\n",
    "    \"070_20220921\",\n",
    "    \"071_20220921\",\n",
    "    \"072_20220921\",\n",
    "    \"102_20220921\",\n",
    "    \"032_20220921\",\n",
    "    \"101_20220921\",\n",
    "    \"065_20220921\",\n",
    "    \"066_20220921\",\n",
    "    \"103_20220921\",\n",
    "]\n",
    "plates = [\n",
    "    \"_\".join((str(int(plate.split(\"_\")[0])), str(int(plate.split(\"_\")[1]))))\n",
    "    for plate in plates\n",
    "]"
   ]
  },
  {
   "cell_type": "code",
   "execution_count": 5,
   "id": "8efe6f25-cd53-4e0e-ad12-d5a6f24c3d76",
   "metadata": {},
   "outputs": [],
   "source": [
    "import imageio.v2 as imageio"
   ]
  },
  {
   "cell_type": "code",
   "execution_count": 52,
   "id": "6bb4e977-e1c8-4bb0-b88b-12ef74766f27",
   "metadata": {
    "tags": []
   },
   "outputs": [],
   "source": [
    "folders_drop = all_folders_drop.loc[\n",
    "    all_folders_drop[\"unique_id\"].isin(select_plates)\n",
    "].loc[all_folders_drop[\"folder\"].str.split(\"_\", expand=True)[0] == \"20220809\"]"
   ]
  },
  {
   "cell_type": "code",
   "execution_count": 3,
   "id": "50c944da-ef14-4242-b6ac-48aea758abbb",
   "metadata": {},
   "outputs": [
    {
     "data": {
      "text/plain": [
       "'/projects/0/einf914/data/'"
      ]
     },
     "execution_count": 3,
     "metadata": {},
     "output_type": "execute_result"
    }
   ],
   "source": [
    "directory_targ = directory_project\n",
    "directory_project"
   ]
  },
  {
   "cell_type": "code",
   "execution_count": 5,
   "id": "79fdc066-12e4-4708-a4f7-9d681e55ee14",
   "metadata": {},
   "outputs": [],
   "source": [
    "directory_targ = os.path.join(directory_scratch, \"stitch_temp2\") + \"/\""
   ]
  },
  {
   "cell_type": "code",
   "execution_count": 4,
   "id": "75fd7145-988e-4391-8e18-83c016f22843",
   "metadata": {
    "tags": []
   },
   "outputs": [
    {
     "name": "stderr",
     "output_type": "stream",
     "text": [
      "sbatch: Single-node jobs run on a shared node by default. Add --exclusive if you want to use a node exclusively.\n",
      "sbatch: You will be charged for 0.03125 node. A full node consists of 32 CPU cores, 229376 MiB of memory and 0 GPUs and can be shared by up to 32 jobs.\n"
     ]
    },
    {
     "name": "stdout",
     "output_type": "stream",
     "text": [
      "Submitted batch job 1931585\n"
     ]
    }
   ],
   "source": [
    "name_job = f\"one_shot_{time_ns()}.sh\"\n",
    "run_launcher(\n",
    "    \"dropbox_downloader.py\",\n",
    "    [directory_targ, name_job, -1, \"stitcher.py\"],\n",
    "    plates,\n",
    "    \"12:00:00\",\n",
    "    name_job=name_job,\n",
    ")\n",
    "# run_launcher('dropbox_uploader.py',[directory_targ,name_job],plates,'40:00',dependency=True,name_job = name_job)"
   ]
  },
  {
   "cell_type": "code",
   "execution_count": 4,
   "id": "d7617c84-087e-45c1-80e3-99559e53f784",
   "metadata": {
    "tags": []
   },
   "outputs": [
    {
     "name": "stderr",
     "output_type": "stream",
     "text": [
      "sbatch: Single-node jobs run on a shared node by default. Add --exclusive if you want to use a node exclusively.\n",
      "sbatch: You will be charged for 0.03125 node. A full node consists of 32 CPU cores, 229376 MiB of memory and 0 GPUs and can be shared by up to 32 jobs.\n"
     ]
    },
    {
     "name": "stdout",
     "output_type": "stream",
     "text": [
      "Submitted batch job 1887119\n"
     ]
    }
   ],
   "source": [
    "name_job = f\"one_shot_{time_ns()}.sh\"\n",
    "run_launcher(\n",
    "    \"dropbox_downloader.py\",\n",
    "    [directory_targ, name_job, 1, \"post_processer_1.py\"],\n",
    "    plates,\n",
    "    \"24:00:00\",\n",
    "    name_job=name_job,\n",
    ")"
   ]
  },
  {
   "cell_type": "code",
   "execution_count": 12,
   "id": "deebbb60-7b4e-4949-bed2-2f7bb5f283b6",
   "metadata": {},
   "outputs": [
    {
     "data": {
      "text/plain": [
       "4096"
      ]
     },
     "execution_count": 12,
     "metadata": {},
     "output_type": "execute_result"
    }
   ],
   "source": [
    "max((3000, 4096))"
   ]
  },
  {
   "cell_type": "code",
   "execution_count": 25,
   "id": "44c688a2-2d96-47d1-ab37-7652a3249587",
   "metadata": {},
   "outputs": [
    {
     "data": {
      "text/plain": [
       "['1048_20220506']"
      ]
     },
     "execution_count": 25,
     "metadata": {},
     "output_type": "execute_result"
    }
   ],
   "source": [
    "plates"
   ]
  },
  {
   "cell_type": "code",
   "execution_count": 61,
   "id": "bd978f07-a8be-4351-8043-a7ba7a959033",
   "metadata": {
    "collapsed": true,
    "jupyter": {
     "outputs_hidden": true
    },
    "tags": []
   },
   "outputs": [
    {
     "data": {
      "text/html": [
       "<div>\n",
       "<style scoped>\n",
       "    .dataframe tbody tr th:only-of-type {\n",
       "        vertical-align: middle;\n",
       "    }\n",
       "\n",
       "    .dataframe tbody tr th {\n",
       "        vertical-align: top;\n",
       "    }\n",
       "\n",
       "    .dataframe thead th {\n",
       "        text-align: right;\n",
       "    }\n",
       "</style>\n",
       "<table border=\"1\" class=\"dataframe\">\n",
       "  <thead>\n",
       "    <tr style=\"text-align: right;\">\n",
       "      <th></th>\n",
       "      <th>total_path</th>\n",
       "      <th>Plate</th>\n",
       "      <th>PrincePos</th>\n",
       "      <th>root</th>\n",
       "      <th>strain</th>\n",
       "      <th>medium</th>\n",
       "      <th>split</th>\n",
       "      <th>Pbait</th>\n",
       "      <th>CrossDate</th>\n",
       "      <th>Temperature</th>\n",
       "      <th>...</th>\n",
       "      <th>/Analysis/transform.mat</th>\n",
       "      <th>/Analysis/transform_corrupt.mat</th>\n",
       "      <th>/Analysis/skeleton_realigned_compressed.mat</th>\n",
       "      <th>/Analysis/nx_graph_pruned.p</th>\n",
       "      <th>/Analysis/nx_graph_pruned_width.p</th>\n",
       "      <th>/Analysis/nx_graph_pruned_labeled.p</th>\n",
       "      <th>date</th>\n",
       "      <th>folder</th>\n",
       "      <th>unique_id</th>\n",
       "      <th>datetime</th>\n",
       "    </tr>\n",
       "  </thead>\n",
       "  <tbody>\n",
       "    <tr>\n",
       "      <th>10</th>\n",
       "      <td>/projects/0/einf914/data/20220601_1143_Plate12</td>\n",
       "      <td>30</td>\n",
       "      <td>12</td>\n",
       "      <td>'Carrot'</td>\n",
       "      <td>'Agg'</td>\n",
       "      <td>'001P100N200C'</td>\n",
       "      <td>'Y'</td>\n",
       "      <td>'-'</td>\n",
       "      <td>20220509</td>\n",
       "      <td>25</td>\n",
       "      <td>...</td>\n",
       "      <td>False</td>\n",
       "      <td>False</td>\n",
       "      <td>False</td>\n",
       "      <td>False</td>\n",
       "      <td>False</td>\n",
       "      <td>False</td>\n",
       "      <td>01.06.2022, 11:43:</td>\n",
       "      <td>20220601_1143_Plate12</td>\n",
       "      <td>30_20220509</td>\n",
       "      <td>2022-06-01 11:43:00</td>\n",
       "    </tr>\n",
       "    <tr>\n",
       "      <th>23</th>\n",
       "      <td>/projects/0/einf914/data/20220618_0150_Plate11</td>\n",
       "      <td>23</td>\n",
       "      <td>11</td>\n",
       "      <td>'Carrot'</td>\n",
       "      <td>'Agg'</td>\n",
       "      <td>'001P100N200C'</td>\n",
       "      <td>'Y'</td>\n",
       "      <td>'-'</td>\n",
       "      <td>20220509</td>\n",
       "      <td>25</td>\n",
       "      <td>...</td>\n",
       "      <td>False</td>\n",
       "      <td>False</td>\n",
       "      <td>False</td>\n",
       "      <td>False</td>\n",
       "      <td>False</td>\n",
       "      <td>False</td>\n",
       "      <td>18.06.2022, 01:50:</td>\n",
       "      <td>20220618_0150_Plate11</td>\n",
       "      <td>23_20220509</td>\n",
       "      <td>2022-06-18 01:50:00</td>\n",
       "    </tr>\n",
       "    <tr>\n",
       "      <th>24</th>\n",
       "      <td>/projects/0/einf914/data/20220528_1900_Plate12</td>\n",
       "      <td>30</td>\n",
       "      <td>12</td>\n",
       "      <td>'Carrot'</td>\n",
       "      <td>'Agg'</td>\n",
       "      <td>'001P100N200C'</td>\n",
       "      <td>'Y'</td>\n",
       "      <td>'-'</td>\n",
       "      <td>20220509</td>\n",
       "      <td>25</td>\n",
       "      <td>...</td>\n",
       "      <td>False</td>\n",
       "      <td>False</td>\n",
       "      <td>False</td>\n",
       "      <td>False</td>\n",
       "      <td>False</td>\n",
       "      <td>False</td>\n",
       "      <td>28.05.2022, 19:00:</td>\n",
       "      <td>20220528_1900_Plate12</td>\n",
       "      <td>30_20220509</td>\n",
       "      <td>2022-05-28 19:00:00</td>\n",
       "    </tr>\n",
       "    <tr>\n",
       "      <th>25</th>\n",
       "      <td>/projects/0/einf914/data/20220619_0156_Plate11</td>\n",
       "      <td>23</td>\n",
       "      <td>11</td>\n",
       "      <td>'Carrot'</td>\n",
       "      <td>'Agg'</td>\n",
       "      <td>'001P100N200C'</td>\n",
       "      <td>'Y'</td>\n",
       "      <td>'-'</td>\n",
       "      <td>20220509</td>\n",
       "      <td>25</td>\n",
       "      <td>...</td>\n",
       "      <td>False</td>\n",
       "      <td>False</td>\n",
       "      <td>False</td>\n",
       "      <td>False</td>\n",
       "      <td>False</td>\n",
       "      <td>False</td>\n",
       "      <td>19.06.2022, 01:56:</td>\n",
       "      <td>20220619_0156_Plate11</td>\n",
       "      <td>23_20220509</td>\n",
       "      <td>2022-06-19 01:56:00</td>\n",
       "    </tr>\n",
       "    <tr>\n",
       "      <th>29</th>\n",
       "      <td>/projects/0/einf914/data/20220613_0147_Plate12</td>\n",
       "      <td>30</td>\n",
       "      <td>12</td>\n",
       "      <td>'Carrot'</td>\n",
       "      <td>'Agg'</td>\n",
       "      <td>'001P100N200C'</td>\n",
       "      <td>'Y'</td>\n",
       "      <td>'-'</td>\n",
       "      <td>20220509</td>\n",
       "      <td>25</td>\n",
       "      <td>...</td>\n",
       "      <td>False</td>\n",
       "      <td>False</td>\n",
       "      <td>False</td>\n",
       "      <td>False</td>\n",
       "      <td>False</td>\n",
       "      <td>False</td>\n",
       "      <td>13.06.2022, 01:47:</td>\n",
       "      <td>20220613_0147_Plate12</td>\n",
       "      <td>30_20220509</td>\n",
       "      <td>2022-06-13 01:47:00</td>\n",
       "    </tr>\n",
       "    <tr>\n",
       "      <th>...</th>\n",
       "      <td>...</td>\n",
       "      <td>...</td>\n",
       "      <td>...</td>\n",
       "      <td>...</td>\n",
       "      <td>...</td>\n",
       "      <td>...</td>\n",
       "      <td>...</td>\n",
       "      <td>...</td>\n",
       "      <td>...</td>\n",
       "      <td>...</td>\n",
       "      <td>...</td>\n",
       "      <td>...</td>\n",
       "      <td>...</td>\n",
       "      <td>...</td>\n",
       "      <td>...</td>\n",
       "      <td>...</td>\n",
       "      <td>...</td>\n",
       "      <td>...</td>\n",
       "      <td>...</td>\n",
       "      <td>...</td>\n",
       "      <td>...</td>\n",
       "    </tr>\n",
       "    <tr>\n",
       "      <th>4882</th>\n",
       "      <td>/projects/0/einf914/data/20220529_0302_Plate12</td>\n",
       "      <td>30</td>\n",
       "      <td>12</td>\n",
       "      <td>'Carrot'</td>\n",
       "      <td>'Agg'</td>\n",
       "      <td>'001P100N200C'</td>\n",
       "      <td>'Y'</td>\n",
       "      <td>'-'</td>\n",
       "      <td>20220509</td>\n",
       "      <td>25</td>\n",
       "      <td>...</td>\n",
       "      <td>False</td>\n",
       "      <td>False</td>\n",
       "      <td>False</td>\n",
       "      <td>False</td>\n",
       "      <td>False</td>\n",
       "      <td>False</td>\n",
       "      <td>29.05.2022, 03:02:</td>\n",
       "      <td>20220529_0302_Plate12</td>\n",
       "      <td>30_20220509</td>\n",
       "      <td>2022-05-29 03:02:00</td>\n",
       "    </tr>\n",
       "    <tr>\n",
       "      <th>4886</th>\n",
       "      <td>/projects/0/einf914/data/20220604_0131_Plate11</td>\n",
       "      <td>23</td>\n",
       "      <td>11</td>\n",
       "      <td>'Carrot'</td>\n",
       "      <td>'Agg'</td>\n",
       "      <td>'001P100N200C'</td>\n",
       "      <td>'Y'</td>\n",
       "      <td>'-'</td>\n",
       "      <td>20220509</td>\n",
       "      <td>25</td>\n",
       "      <td>...</td>\n",
       "      <td>False</td>\n",
       "      <td>False</td>\n",
       "      <td>False</td>\n",
       "      <td>False</td>\n",
       "      <td>False</td>\n",
       "      <td>False</td>\n",
       "      <td>04.06.2022, 01:31:</td>\n",
       "      <td>20220604_0131_Plate11</td>\n",
       "      <td>23_20220509</td>\n",
       "      <td>2022-06-04 01:31:00</td>\n",
       "    </tr>\n",
       "    <tr>\n",
       "      <th>4889</th>\n",
       "      <td>/projects/0/einf914/data/20220619_1955_Plate11</td>\n",
       "      <td>23</td>\n",
       "      <td>11</td>\n",
       "      <td>'Carrot'</td>\n",
       "      <td>'Agg'</td>\n",
       "      <td>'001P100N200C'</td>\n",
       "      <td>'Y'</td>\n",
       "      <td>'-'</td>\n",
       "      <td>20220509</td>\n",
       "      <td>25</td>\n",
       "      <td>...</td>\n",
       "      <td>False</td>\n",
       "      <td>False</td>\n",
       "      <td>False</td>\n",
       "      <td>False</td>\n",
       "      <td>False</td>\n",
       "      <td>False</td>\n",
       "      <td>19.06.2022, 19:55:</td>\n",
       "      <td>20220619_1955_Plate11</td>\n",
       "      <td>23_20220509</td>\n",
       "      <td>2022-06-19 19:55:00</td>\n",
       "    </tr>\n",
       "    <tr>\n",
       "      <th>4890</th>\n",
       "      <td>/projects/0/einf914/data/20220616_1904_Plate10</td>\n",
       "      <td>22</td>\n",
       "      <td>10</td>\n",
       "      <td>'Carrot'</td>\n",
       "      <td>'Agg'</td>\n",
       "      <td>'001P100N100C'</td>\n",
       "      <td>'Y'</td>\n",
       "      <td>'-'</td>\n",
       "      <td>20220522</td>\n",
       "      <td>25</td>\n",
       "      <td>...</td>\n",
       "      <td>False</td>\n",
       "      <td>False</td>\n",
       "      <td>False</td>\n",
       "      <td>False</td>\n",
       "      <td>False</td>\n",
       "      <td>False</td>\n",
       "      <td>16.06.2022, 19:04:</td>\n",
       "      <td>20220616_1904_Plate10</td>\n",
       "      <td>22_20220522</td>\n",
       "      <td>2022-06-16 19:04:00</td>\n",
       "    </tr>\n",
       "    <tr>\n",
       "      <th>4894</th>\n",
       "      <td>/projects/0/einf914/data/20220614_0703_Plate11</td>\n",
       "      <td>23</td>\n",
       "      <td>11</td>\n",
       "      <td>'Carrot'</td>\n",
       "      <td>'Agg'</td>\n",
       "      <td>'001P100N200C'</td>\n",
       "      <td>'Y'</td>\n",
       "      <td>'-'</td>\n",
       "      <td>20220509</td>\n",
       "      <td>25</td>\n",
       "      <td>...</td>\n",
       "      <td>False</td>\n",
       "      <td>False</td>\n",
       "      <td>False</td>\n",
       "      <td>False</td>\n",
       "      <td>False</td>\n",
       "      <td>False</td>\n",
       "      <td>14.06.2022, 07:03:</td>\n",
       "      <td>20220614_0703_Plate11</td>\n",
       "      <td>23_20220509</td>\n",
       "      <td>2022-06-14 07:03:00</td>\n",
       "    </tr>\n",
       "  </tbody>\n",
       "</table>\n",
       "<p>958 rows × 24 columns</p>\n",
       "</div>"
      ],
      "text/plain": [
       "                                          total_path Plate PrincePos  \\\n",
       "10    /projects/0/einf914/data/20220601_1143_Plate12    30        12   \n",
       "23    /projects/0/einf914/data/20220618_0150_Plate11    23        11   \n",
       "24    /projects/0/einf914/data/20220528_1900_Plate12    30        12   \n",
       "25    /projects/0/einf914/data/20220619_0156_Plate11    23        11   \n",
       "29    /projects/0/einf914/data/20220613_0147_Plate12    30        12   \n",
       "...                                              ...   ...       ...   \n",
       "4882  /projects/0/einf914/data/20220529_0302_Plate12    30        12   \n",
       "4886  /projects/0/einf914/data/20220604_0131_Plate11    23        11   \n",
       "4889  /projects/0/einf914/data/20220619_1955_Plate11    23        11   \n",
       "4890  /projects/0/einf914/data/20220616_1904_Plate10    22        10   \n",
       "4894  /projects/0/einf914/data/20220614_0703_Plate11    23        11   \n",
       "\n",
       "          root strain          medium split Pbait CrossDate Temperature  ...  \\\n",
       "10    'Carrot'  'Agg'  '001P100N200C'   'Y'   '-'  20220509          25  ...   \n",
       "23    'Carrot'  'Agg'  '001P100N200C'   'Y'   '-'  20220509          25  ...   \n",
       "24    'Carrot'  'Agg'  '001P100N200C'   'Y'   '-'  20220509          25  ...   \n",
       "25    'Carrot'  'Agg'  '001P100N200C'   'Y'   '-'  20220509          25  ...   \n",
       "29    'Carrot'  'Agg'  '001P100N200C'   'Y'   '-'  20220509          25  ...   \n",
       "...        ...    ...             ...   ...   ...       ...         ...  ...   \n",
       "4882  'Carrot'  'Agg'  '001P100N200C'   'Y'   '-'  20220509          25  ...   \n",
       "4886  'Carrot'  'Agg'  '001P100N200C'   'Y'   '-'  20220509          25  ...   \n",
       "4889  'Carrot'  'Agg'  '001P100N200C'   'Y'   '-'  20220509          25  ...   \n",
       "4890  'Carrot'  'Agg'  '001P100N100C'   'Y'   '-'  20220522          25  ...   \n",
       "4894  'Carrot'  'Agg'  '001P100N200C'   'Y'   '-'  20220509          25  ...   \n",
       "\n",
       "     /Analysis/transform.mat /Analysis/transform_corrupt.mat  \\\n",
       "10                     False                           False   \n",
       "23                     False                           False   \n",
       "24                     False                           False   \n",
       "25                     False                           False   \n",
       "29                     False                           False   \n",
       "...                      ...                             ...   \n",
       "4882                   False                           False   \n",
       "4886                   False                           False   \n",
       "4889                   False                           False   \n",
       "4890                   False                           False   \n",
       "4894                   False                           False   \n",
       "\n",
       "     /Analysis/skeleton_realigned_compressed.mat /Analysis/nx_graph_pruned.p  \\\n",
       "10                                         False                       False   \n",
       "23                                         False                       False   \n",
       "24                                         False                       False   \n",
       "25                                         False                       False   \n",
       "29                                         False                       False   \n",
       "...                                          ...                         ...   \n",
       "4882                                       False                       False   \n",
       "4886                                       False                       False   \n",
       "4889                                       False                       False   \n",
       "4890                                       False                       False   \n",
       "4894                                       False                       False   \n",
       "\n",
       "     /Analysis/nx_graph_pruned_width.p /Analysis/nx_graph_pruned_labeled.p  \\\n",
       "10                               False                               False   \n",
       "23                               False                               False   \n",
       "24                               False                               False   \n",
       "25                               False                               False   \n",
       "29                               False                               False   \n",
       "...                                ...                                 ...   \n",
       "4882                             False                               False   \n",
       "4886                             False                               False   \n",
       "4889                             False                               False   \n",
       "4890                             False                               False   \n",
       "4894                             False                               False   \n",
       "\n",
       "                    date                 folder    unique_id  \\\n",
       "10    01.06.2022, 11:43:  20220601_1143_Plate12  30_20220509   \n",
       "23    18.06.2022, 01:50:  20220618_0150_Plate11  23_20220509   \n",
       "24    28.05.2022, 19:00:  20220528_1900_Plate12  30_20220509   \n",
       "25    19.06.2022, 01:56:  20220619_0156_Plate11  23_20220509   \n",
       "29    13.06.2022, 01:47:  20220613_0147_Plate12  30_20220509   \n",
       "...                  ...                    ...          ...   \n",
       "4882  29.05.2022, 03:02:  20220529_0302_Plate12  30_20220509   \n",
       "4886  04.06.2022, 01:31:  20220604_0131_Plate11  23_20220509   \n",
       "4889  19.06.2022, 19:55:  20220619_1955_Plate11  23_20220509   \n",
       "4890  16.06.2022, 19:04:  20220616_1904_Plate10  22_20220522   \n",
       "4894  14.06.2022, 07:03:  20220614_0703_Plate11  23_20220509   \n",
       "\n",
       "                datetime  \n",
       "10   2022-06-01 11:43:00  \n",
       "23   2022-06-18 01:50:00  \n",
       "24   2022-05-28 19:00:00  \n",
       "25   2022-06-19 01:56:00  \n",
       "29   2022-06-13 01:47:00  \n",
       "...                  ...  \n",
       "4882 2022-05-29 03:02:00  \n",
       "4886 2022-06-04 01:31:00  \n",
       "4889 2022-06-19 19:55:00  \n",
       "4890 2022-06-16 19:04:00  \n",
       "4894 2022-06-14 07:03:00  \n",
       "\n",
       "[958 rows x 24 columns]"
      ]
     },
     "execution_count": 61,
     "metadata": {},
     "output_type": "execute_result"
    }
   ],
   "source": [
    "folders = all_folders.loc[all_folders[\"unique_id\"].isin(plates)]\n",
    "folders = folders.loc[folders[\"/Img/TileConfiguration.txt.registered\"] == True]\n",
    "folders"
   ]
  },
  {
   "cell_type": "code",
   "execution_count": 4,
   "id": "063e4d06-368a-4d07-891f-4f89e3dd0adf",
   "metadata": {},
   "outputs": [
    {
     "name": "stdout",
     "output_type": "stream",
     "text": [
      "Submitted batch job 1129540\n"
     ]
    },
    {
     "name": "stderr",
     "output_type": "stream",
     "text": [
      "sbatch: Single node jobs run on a shared node by default. Add --exclusive if you want to use a node exclusively.\n",
      "sbatch: You will be charged for 0.03125 node. A full node consists of 32 CPU cores, 245760 MiB of memory and 0 GPUs and can be shared by up to 32 jobs.\n"
     ]
    }
   ],
   "source": [
    "run_launcher(\"skeletonizer.py\", [directory_targ], plates, \"20:00\", dependency=True)"
   ]
  },
  {
   "cell_type": "code",
   "execution_count": 7,
   "id": "623791bd-676c-4e98-95f5-238768f2e931",
   "metadata": {
    "tags": []
   },
   "outputs": [
    {
     "name": "stderr",
     "output_type": "stream",
     "text": [
      "sbatch: Single-node jobs run on a shared node by default. Add --exclusive if you want to use a node exclusively.\n",
      "sbatch: You will be charged for 0.03125 node. A full node consists of 32 CPU cores, 229376 MiB of memory and 0 GPUs and can be shared by up to 32 jobs.\n"
     ]
    },
    {
     "name": "stdout",
     "output_type": "stream",
     "text": [
      "Submitted batch job 1875129\n"
     ]
    }
   ],
   "source": [
    "name_job=\"malin\"\n",
    "\n",
    "# name_job = f\"one_shot_{time_ns()}.sh\"\n",
    "\n",
    "run_launcher(\n",
    "    \"width_extracter.py\",\n",
    "    [directory_targ, name_job, 30],\n",
    "    plates,\n",
    "    \"12:00:00\",\n",
    "    dependency=True,\n",
    "    name_job=name_job,\n",
    ")"
   ]
  },
  {
   "cell_type": "code",
   "execution_count": 5,
   "id": "f9e4c47c-1b6c-4327-9bfc-1f493da5954d",
   "metadata": {
    "tags": []
   },
   "outputs": [
    {
     "name": "stderr",
     "output_type": "stream",
     "text": [
      "sbatch: Single node jobs run on a shared node by default. Add --exclusive if you want to use a node exclusively.\n",
      "sbatch: You will be charged for 0.03125 node. A full node consists of 32 CPU cores, 229376 MiB of memory and 0 GPUs and can be shared by up to 32 jobs.\n"
     ]
    },
    {
     "name": "stdout",
     "output_type": "stream",
     "text": [
      "Submitted batch job 1719140\n"
     ]
    }
   ],
   "source": [
    "name_job = f\"one_shot_{time_ns()}.sh\"\n",
    "run_launcher(\n",
    "    \"post_processer_1.py\",\n",
    "    [directory_targ, name_job, 10],\n",
    "    plates,\n",
    "    \"20:00\",\n",
    "    dependency=True,\n",
    "    name_job=name_job,\n",
    ")"
   ]
  },
  {
   "cell_type": "code",
   "execution_count": 4,
   "id": "5f3b7634-849b-4444-bf55-c44c63777d53",
   "metadata": {
    "tags": []
   },
   "outputs": [
    {
     "data": {
      "application/vnd.jupyter.widget-view+json": {
       "model_id": "760447e4ed43485e8a1e4a13cdc4be7d",
       "version_major": 2,
       "version_minor": 0
      },
      "text/plain": [
       "analysed:   0%|          | 0/662 [00:00<?, ?it/s]"
      ]
     },
     "metadata": {},
     "output_type": "display_data"
    }
   ],
   "source": [
    "update_plate_info(directory_targ, local=True)\n",
    "all_folders = get_current_folders(directory_targ, local=True)\n",
    "# folders =all_folders.loc[all_folders[\"unique_id\"].isin(plates)]\n",
    "# folders = folders.loc[folders[\"/Analysis/skeleton_pruned_compressed.mat\"]==True]"
   ]
  },
  {
   "cell_type": "code",
   "execution_count": 17,
   "id": "b75fcdc4-d93e-4c48-9a68-93664519f038",
   "metadata": {},
   "outputs": [],
   "source": [
    "plates  = ['19_20220920']"
   ]
  },
  {
   "cell_type": "code",
   "execution_count": 5,
   "id": "2c9ce086-223f-475c-86fb-f8ec89f323d1",
   "metadata": {},
   "outputs": [
    {
     "data": {
      "text/plain": [
       "552"
      ]
     },
     "execution_count": 5,
     "metadata": {},
     "output_type": "execute_result"
    }
   ],
   "source": [
    "folders = all_folders.loc[all_folders[\"unique_id\"].isin(plates)]\n",
    "\n",
    "len(folders)"
   ]
  },
  {
   "cell_type": "code",
   "execution_count": 12,
   "id": "4266288f-27bc-4a79-a988-44eea70c16d2",
   "metadata": {
    "collapsed": true,
    "jupyter": {
     "outputs_hidden": true
    },
    "tags": []
   },
   "outputs": [
    {
     "name": "stderr",
     "output_type": "stream",
     "text": [
      "sbatch: Single-node jobs run on a shared node by default. Add --exclusive if you want to use a node exclusively.\n",
      "sbatch: You will be charged for 0.25 node. A full node consists of 128 CPU cores, 983040 MiB of memory and 0 GPUs and can be shared by up to 4 jobs.\n"
     ]
    },
    {
     "name": "stdout",
     "output_type": "stream",
     "text": [
      "Submitted batch job 1872208\n"
     ]
    },
    {
     "name": "stderr",
     "output_type": "stream",
     "text": [
      "sbatch: Single-node jobs run on a shared node by default. Add --exclusive if you want to use a node exclusively.\n",
      "sbatch: You will be charged for 0.25 node. A full node consists of 128 CPU cores, 983040 MiB of memory and 0 GPUs and can be shared by up to 4 jobs.\n"
     ]
    },
    {
     "name": "stdout",
     "output_type": "stream",
     "text": [
      "Submitted batch job 1872209\n"
     ]
    },
    {
     "name": "stderr",
     "output_type": "stream",
     "text": [
      "sbatch: Single-node jobs run on a shared node by default. Add --exclusive if you want to use a node exclusively.\n",
      "sbatch: You will be charged for 0.25 node. A full node consists of 128 CPU cores, 983040 MiB of memory and 0 GPUs and can be shared by up to 4 jobs.\n"
     ]
    },
    {
     "name": "stdout",
     "output_type": "stream",
     "text": [
      "Submitted batch job 1872210\n"
     ]
    },
    {
     "name": "stderr",
     "output_type": "stream",
     "text": [
      "sbatch: Single-node jobs run on a shared node by default. Add --exclusive if you want to use a node exclusively.\n",
      "sbatch: You will be charged for 0.25 node. A full node consists of 128 CPU cores, 983040 MiB of memory and 0 GPUs and can be shared by up to 4 jobs.\n"
     ]
    },
    {
     "name": "stdout",
     "output_type": "stream",
     "text": [
      "Submitted batch job 1872211\n"
     ]
    },
    {
     "name": "stderr",
     "output_type": "stream",
     "text": [
      "sbatch: Single-node jobs run on a shared node by default. Add --exclusive if you want to use a node exclusively.\n",
      "sbatch: You will be charged for 0.25 node. A full node consists of 128 CPU cores, 983040 MiB of memory and 0 GPUs and can be shared by up to 4 jobs.\n"
     ]
    },
    {
     "name": "stdout",
     "output_type": "stream",
     "text": [
      "Submitted batch job 1872212\n"
     ]
    },
    {
     "name": "stderr",
     "output_type": "stream",
     "text": [
      "sbatch: Single-node jobs run on a shared node by default. Add --exclusive if you want to use a node exclusively.\n",
      "sbatch: You will be charged for 0.25 node. A full node consists of 128 CPU cores, 983040 MiB of memory and 0 GPUs and can be shared by up to 4 jobs.\n"
     ]
    },
    {
     "name": "stdout",
     "output_type": "stream",
     "text": [
      "Submitted batch job 1872213\n"
     ]
    },
    {
     "name": "stderr",
     "output_type": "stream",
     "text": [
      "sbatch: Single-node jobs run on a shared node by default. Add --exclusive if you want to use a node exclusively.\n",
      "sbatch: You will be charged for 0.25 node. A full node consists of 128 CPU cores, 983040 MiB of memory and 0 GPUs and can be shared by up to 4 jobs.\n"
     ]
    },
    {
     "name": "stdout",
     "output_type": "stream",
     "text": [
      "Submitted batch job 1872214\n"
     ]
    },
    {
     "name": "stderr",
     "output_type": "stream",
     "text": [
      "sbatch: Single-node jobs run on a shared node by default. Add --exclusive if you want to use a node exclusively.\n",
      "sbatch: You will be charged for 0.25 node. A full node consists of 128 CPU cores, 983040 MiB of memory and 0 GPUs and can be shared by up to 4 jobs.\n"
     ]
    },
    {
     "name": "stdout",
     "output_type": "stream",
     "text": [
      "Submitted batch job 1872215\n"
     ]
    },
    {
     "name": "stderr",
     "output_type": "stream",
     "text": [
      "sbatch: Single-node jobs run on a shared node by default. Add --exclusive if you want to use a node exclusively.\n",
      "sbatch: You will be charged for 0.25 node. A full node consists of 128 CPU cores, 983040 MiB of memory and 0 GPUs and can be shared by up to 4 jobs.\n"
     ]
    },
    {
     "name": "stdout",
     "output_type": "stream",
     "text": [
      "Submitted batch job 1872216\n"
     ]
    },
    {
     "name": "stderr",
     "output_type": "stream",
     "text": [
      "sbatch: Single-node jobs run on a shared node by default. Add --exclusive if you want to use a node exclusively.\n",
      "sbatch: You will be charged for 0.25 node. A full node consists of 128 CPU cores, 983040 MiB of memory and 0 GPUs and can be shared by up to 4 jobs.\n"
     ]
    },
    {
     "name": "stdout",
     "output_type": "stream",
     "text": [
      "Submitted batch job 1872217\n"
     ]
    },
    {
     "name": "stderr",
     "output_type": "stream",
     "text": [
      "sbatch: Single-node jobs run on a shared node by default. Add --exclusive if you want to use a node exclusively.\n",
      "sbatch: You will be charged for 0.25 node. A full node consists of 128 CPU cores, 983040 MiB of memory and 0 GPUs and can be shared by up to 4 jobs.\n"
     ]
    },
    {
     "name": "stdout",
     "output_type": "stream",
     "text": [
      "Submitted batch job 1872218\n"
     ]
    },
    {
     "name": "stderr",
     "output_type": "stream",
     "text": [
      "sbatch: Single-node jobs run on a shared node by default. Add --exclusive if you want to use a node exclusively.\n",
      "sbatch: You will be charged for 0.25 node. A full node consists of 128 CPU cores, 983040 MiB of memory and 0 GPUs and can be shared by up to 4 jobs.\n"
     ]
    },
    {
     "name": "stdout",
     "output_type": "stream",
     "text": [
      "Submitted batch job 1872219\n"
     ]
    },
    {
     "name": "stderr",
     "output_type": "stream",
     "text": [
      "sbatch: Single-node jobs run on a shared node by default. Add --exclusive if you want to use a node exclusively.\n",
      "sbatch: You will be charged for 0.25 node. A full node consists of 128 CPU cores, 983040 MiB of memory and 0 GPUs and can be shared by up to 4 jobs.\n"
     ]
    },
    {
     "name": "stdout",
     "output_type": "stream",
     "text": [
      "Submitted batch job 1872220\n"
     ]
    },
    {
     "name": "stderr",
     "output_type": "stream",
     "text": [
      "sbatch: Single-node jobs run on a shared node by default. Add --exclusive if you want to use a node exclusively.\n",
      "sbatch: You will be charged for 0.25 node. A full node consists of 128 CPU cores, 983040 MiB of memory and 0 GPUs and can be shared by up to 4 jobs.\n"
     ]
    },
    {
     "name": "stdout",
     "output_type": "stream",
     "text": [
      "Submitted batch job 1872221\n"
     ]
    },
    {
     "name": "stderr",
     "output_type": "stream",
     "text": [
      "sbatch: Single-node jobs run on a shared node by default. Add --exclusive if you want to use a node exclusively.\n",
      "sbatch: You will be charged for 0.25 node. A full node consists of 128 CPU cores, 983040 MiB of memory and 0 GPUs and can be shared by up to 4 jobs.\n"
     ]
    },
    {
     "name": "stdout",
     "output_type": "stream",
     "text": [
      "Submitted batch job 1872222\n"
     ]
    },
    {
     "name": "stderr",
     "output_type": "stream",
     "text": [
      "sbatch: Single-node jobs run on a shared node by default. Add --exclusive if you want to use a node exclusively.\n",
      "sbatch: You will be charged for 0.25 node. A full node consists of 128 CPU cores, 983040 MiB of memory and 0 GPUs and can be shared by up to 4 jobs.\n"
     ]
    },
    {
     "name": "stdout",
     "output_type": "stream",
     "text": [
      "Submitted batch job 1872223\n"
     ]
    },
    {
     "name": "stderr",
     "output_type": "stream",
     "text": [
      "sbatch: Single-node jobs run on a shared node by default. Add --exclusive if you want to use a node exclusively.\n",
      "sbatch: You will be charged for 0.25 node. A full node consists of 128 CPU cores, 983040 MiB of memory and 0 GPUs and can be shared by up to 4 jobs.\n"
     ]
    },
    {
     "name": "stdout",
     "output_type": "stream",
     "text": [
      "Submitted batch job 1872224\n"
     ]
    },
    {
     "name": "stderr",
     "output_type": "stream",
     "text": [
      "sbatch: Single-node jobs run on a shared node by default. Add --exclusive if you want to use a node exclusively.\n",
      "sbatch: You will be charged for 0.25 node. A full node consists of 128 CPU cores, 983040 MiB of memory and 0 GPUs and can be shared by up to 4 jobs.\n"
     ]
    },
    {
     "name": "stdout",
     "output_type": "stream",
     "text": [
      "Submitted batch job 1872225\n"
     ]
    },
    {
     "name": "stderr",
     "output_type": "stream",
     "text": [
      "sbatch: Single-node jobs run on a shared node by default. Add --exclusive if you want to use a node exclusively.\n",
      "sbatch: You will be charged for 0.25 node. A full node consists of 128 CPU cores, 983040 MiB of memory and 0 GPUs and can be shared by up to 4 jobs.\n"
     ]
    },
    {
     "name": "stdout",
     "output_type": "stream",
     "text": [
      "Submitted batch job 1872226\n"
     ]
    },
    {
     "name": "stderr",
     "output_type": "stream",
     "text": [
      "sbatch: Single-node jobs run on a shared node by default. Add --exclusive if you want to use a node exclusively.\n",
      "sbatch: You will be charged for 0.25 node. A full node consists of 128 CPU cores, 983040 MiB of memory and 0 GPUs and can be shared by up to 4 jobs.\n"
     ]
    },
    {
     "name": "stdout",
     "output_type": "stream",
     "text": [
      "Submitted batch job 1872227\n"
     ]
    },
    {
     "name": "stderr",
     "output_type": "stream",
     "text": [
      "sbatch: Single-node jobs run on a shared node by default. Add --exclusive if you want to use a node exclusively.\n",
      "sbatch: You will be charged for 0.25 node. A full node consists of 128 CPU cores, 983040 MiB of memory and 0 GPUs and can be shared by up to 4 jobs.\n"
     ]
    },
    {
     "name": "stdout",
     "output_type": "stream",
     "text": [
      "Submitted batch job 1872228\n"
     ]
    },
    {
     "name": "stderr",
     "output_type": "stream",
     "text": [
      "sbatch: Single-node jobs run on a shared node by default. Add --exclusive if you want to use a node exclusively.\n",
      "sbatch: You will be charged for 0.25 node. A full node consists of 128 CPU cores, 983040 MiB of memory and 0 GPUs and can be shared by up to 4 jobs.\n"
     ]
    },
    {
     "name": "stdout",
     "output_type": "stream",
     "text": [
      "Submitted batch job 1872229\n"
     ]
    },
    {
     "name": "stderr",
     "output_type": "stream",
     "text": [
      "sbatch: Single-node jobs run on a shared node by default. Add --exclusive if you want to use a node exclusively.\n",
      "sbatch: You will be charged for 0.25 node. A full node consists of 128 CPU cores, 983040 MiB of memory and 0 GPUs and can be shared by up to 4 jobs.\n"
     ]
    },
    {
     "name": "stdout",
     "output_type": "stream",
     "text": [
      "Submitted batch job 1872230\n"
     ]
    },
    {
     "name": "stderr",
     "output_type": "stream",
     "text": [
      "sbatch: Single-node jobs run on a shared node by default. Add --exclusive if you want to use a node exclusively.\n",
      "sbatch: You will be charged for 0.25 node. A full node consists of 128 CPU cores, 983040 MiB of memory and 0 GPUs and can be shared by up to 4 jobs.\n"
     ]
    },
    {
     "name": "stdout",
     "output_type": "stream",
     "text": [
      "Submitted batch job 1872231\n"
     ]
    },
    {
     "name": "stderr",
     "output_type": "stream",
     "text": [
      "sbatch: Single-node jobs run on a shared node by default. Add --exclusive if you want to use a node exclusively.\n",
      "sbatch: You will be charged for 0.25 node. A full node consists of 128 CPU cores, 983040 MiB of memory and 0 GPUs and can be shared by up to 4 jobs.\n"
     ]
    },
    {
     "name": "stdout",
     "output_type": "stream",
     "text": [
      "Submitted batch job 1872232\n"
     ]
    },
    {
     "name": "stderr",
     "output_type": "stream",
     "text": [
      "sbatch: Single-node jobs run on a shared node by default. Add --exclusive if you want to use a node exclusively.\n",
      "sbatch: You will be charged for 0.25 node. A full node consists of 128 CPU cores, 983040 MiB of memory and 0 GPUs and can be shared by up to 4 jobs.\n"
     ]
    },
    {
     "name": "stdout",
     "output_type": "stream",
     "text": [
      "Submitted batch job 1872233\n"
     ]
    },
    {
     "name": "stderr",
     "output_type": "stream",
     "text": [
      "sbatch: Single-node jobs run on a shared node by default. Add --exclusive if you want to use a node exclusively.\n",
      "sbatch: You will be charged for 0.25 node. A full node consists of 128 CPU cores, 983040 MiB of memory and 0 GPUs and can be shared by up to 4 jobs.\n"
     ]
    },
    {
     "name": "stdout",
     "output_type": "stream",
     "text": [
      "Submitted batch job 1872234\n"
     ]
    },
    {
     "name": "stderr",
     "output_type": "stream",
     "text": [
      "sbatch: Single-node jobs run on a shared node by default. Add --exclusive if you want to use a node exclusively.\n",
      "sbatch: You will be charged for 0.25 node. A full node consists of 128 CPU cores, 983040 MiB of memory and 0 GPUs and can be shared by up to 4 jobs.\n"
     ]
    },
    {
     "name": "stdout",
     "output_type": "stream",
     "text": [
      "Submitted batch job 1872235\n"
     ]
    },
    {
     "name": "stderr",
     "output_type": "stream",
     "text": [
      "sbatch: Single-node jobs run on a shared node by default. Add --exclusive if you want to use a node exclusively.\n",
      "sbatch: You will be charged for 0.25 node. A full node consists of 128 CPU cores, 983040 MiB of memory and 0 GPUs and can be shared by up to 4 jobs.\n"
     ]
    },
    {
     "name": "stdout",
     "output_type": "stream",
     "text": [
      "Submitted batch job 1872236\n"
     ]
    },
    {
     "name": "stderr",
     "output_type": "stream",
     "text": [
      "sbatch: Single-node jobs run on a shared node by default. Add --exclusive if you want to use a node exclusively.\n",
      "sbatch: You will be charged for 0.25 node. A full node consists of 128 CPU cores, 983040 MiB of memory and 0 GPUs and can be shared by up to 4 jobs.\n"
     ]
    },
    {
     "name": "stdout",
     "output_type": "stream",
     "text": [
      "Submitted batch job 1872237\n"
     ]
    },
    {
     "name": "stderr",
     "output_type": "stream",
     "text": [
      "sbatch: Single-node jobs run on a shared node by default. Add --exclusive if you want to use a node exclusively.\n",
      "sbatch: You will be charged for 0.25 node. A full node consists of 128 CPU cores, 983040 MiB of memory and 0 GPUs and can be shared by up to 4 jobs.\n"
     ]
    },
    {
     "name": "stdout",
     "output_type": "stream",
     "text": [
      "Submitted batch job 1872238\n"
     ]
    },
    {
     "name": "stderr",
     "output_type": "stream",
     "text": [
      "sbatch: Single-node jobs run on a shared node by default. Add --exclusive if you want to use a node exclusively.\n",
      "sbatch: You will be charged for 0.25 node. A full node consists of 128 CPU cores, 983040 MiB of memory and 0 GPUs and can be shared by up to 4 jobs.\n"
     ]
    },
    {
     "name": "stdout",
     "output_type": "stream",
     "text": [
      "Submitted batch job 1872239\n"
     ]
    },
    {
     "name": "stderr",
     "output_type": "stream",
     "text": [
      "sbatch: Single-node jobs run on a shared node by default. Add --exclusive if you want to use a node exclusively.\n",
      "sbatch: You will be charged for 0.25 node. A full node consists of 128 CPU cores, 983040 MiB of memory and 0 GPUs and can be shared by up to 4 jobs.\n"
     ]
    },
    {
     "name": "stdout",
     "output_type": "stream",
     "text": [
      "Submitted batch job 1872240\n"
     ]
    },
    {
     "name": "stderr",
     "output_type": "stream",
     "text": [
      "sbatch: Single-node jobs run on a shared node by default. Add --exclusive if you want to use a node exclusively.\n",
      "sbatch: You will be charged for 0.25 node. A full node consists of 128 CPU cores, 983040 MiB of memory and 0 GPUs and can be shared by up to 4 jobs.\n"
     ]
    },
    {
     "name": "stdout",
     "output_type": "stream",
     "text": [
      "Submitted batch job 1872241\n"
     ]
    },
    {
     "name": "stderr",
     "output_type": "stream",
     "text": [
      "sbatch: Single-node jobs run on a shared node by default. Add --exclusive if you want to use a node exclusively.\n",
      "sbatch: You will be charged for 0.25 node. A full node consists of 128 CPU cores, 983040 MiB of memory and 0 GPUs and can be shared by up to 4 jobs.\n"
     ]
    },
    {
     "name": "stdout",
     "output_type": "stream",
     "text": [
      "Submitted batch job 1872242\n"
     ]
    },
    {
     "name": "stderr",
     "output_type": "stream",
     "text": [
      "sbatch: Single-node jobs run on a shared node by default. Add --exclusive if you want to use a node exclusively.\n",
      "sbatch: You will be charged for 0.25 node. A full node consists of 128 CPU cores, 983040 MiB of memory and 0 GPUs and can be shared by up to 4 jobs.\n"
     ]
    },
    {
     "name": "stdout",
     "output_type": "stream",
     "text": [
      "Submitted batch job 1872243\n",
      "Submitted batch job 1872244\n"
     ]
    },
    {
     "name": "stderr",
     "output_type": "stream",
     "text": [
      "sbatch: Single-node jobs run on a shared node by default. Add --exclusive if you want to use a node exclusively.\n",
      "sbatch: You will be charged for 0.25 node. A full node consists of 128 CPU cores, 983040 MiB of memory and 0 GPUs and can be shared by up to 4 jobs.\n",
      "sbatch: Single-node jobs run on a shared node by default. Add --exclusive if you want to use a node exclusively.\n",
      "sbatch: You will be charged for 0.25 node. A full node consists of 128 CPU cores, 983040 MiB of memory and 0 GPUs and can be shared by up to 4 jobs.\n"
     ]
    },
    {
     "name": "stdout",
     "output_type": "stream",
     "text": [
      "Submitted batch job 1872245\n"
     ]
    },
    {
     "name": "stderr",
     "output_type": "stream",
     "text": [
      "sbatch: Single-node jobs run on a shared node by default. Add --exclusive if you want to use a node exclusively.\n",
      "sbatch: You will be charged for 0.25 node. A full node consists of 128 CPU cores, 983040 MiB of memory and 0 GPUs and can be shared by up to 4 jobs.\n"
     ]
    },
    {
     "name": "stdout",
     "output_type": "stream",
     "text": [
      "Submitted batch job 1872246\n"
     ]
    },
    {
     "name": "stderr",
     "output_type": "stream",
     "text": [
      "sbatch: Single-node jobs run on a shared node by default. Add --exclusive if you want to use a node exclusively.\n",
      "sbatch: You will be charged for 0.25 node. A full node consists of 128 CPU cores, 983040 MiB of memory and 0 GPUs and can be shared by up to 4 jobs.\n"
     ]
    },
    {
     "name": "stdout",
     "output_type": "stream",
     "text": [
      "Submitted batch job 1872247\n"
     ]
    },
    {
     "name": "stderr",
     "output_type": "stream",
     "text": [
      "sbatch: Single-node jobs run on a shared node by default. Add --exclusive if you want to use a node exclusively.\n",
      "sbatch: You will be charged for 0.25 node. A full node consists of 128 CPU cores, 983040 MiB of memory and 0 GPUs and can be shared by up to 4 jobs.\n"
     ]
    },
    {
     "name": "stdout",
     "output_type": "stream",
     "text": [
      "Submitted batch job 1872248\n"
     ]
    },
    {
     "name": "stderr",
     "output_type": "stream",
     "text": [
      "sbatch: Single-node jobs run on a shared node by default. Add --exclusive if you want to use a node exclusively.\n",
      "sbatch: You will be charged for 0.25 node. A full node consists of 128 CPU cores, 983040 MiB of memory and 0 GPUs and can be shared by up to 4 jobs.\n"
     ]
    },
    {
     "name": "stdout",
     "output_type": "stream",
     "text": [
      "Submitted batch job 1872249\n"
     ]
    },
    {
     "name": "stderr",
     "output_type": "stream",
     "text": [
      "sbatch: Single-node jobs run on a shared node by default. Add --exclusive if you want to use a node exclusively.\n",
      "sbatch: You will be charged for 0.25 node. A full node consists of 128 CPU cores, 983040 MiB of memory and 0 GPUs and can be shared by up to 4 jobs.\n"
     ]
    },
    {
     "name": "stdout",
     "output_type": "stream",
     "text": [
      "Submitted batch job 1872250\n"
     ]
    },
    {
     "name": "stderr",
     "output_type": "stream",
     "text": [
      "sbatch: Single-node jobs run on a shared node by default. Add --exclusive if you want to use a node exclusively.\n",
      "sbatch: You will be charged for 0.25 node. A full node consists of 128 CPU cores, 983040 MiB of memory and 0 GPUs and can be shared by up to 4 jobs.\n"
     ]
    },
    {
     "name": "stdout",
     "output_type": "stream",
     "text": [
      "Submitted batch job 1872251\n"
     ]
    },
    {
     "name": "stderr",
     "output_type": "stream",
     "text": [
      "sbatch: Single-node jobs run on a shared node by default. Add --exclusive if you want to use a node exclusively.\n",
      "sbatch: You will be charged for 0.25 node. A full node consists of 128 CPU cores, 983040 MiB of memory and 0 GPUs and can be shared by up to 4 jobs.\n"
     ]
    },
    {
     "name": "stdout",
     "output_type": "stream",
     "text": [
      "Submitted batch job 1872252\n"
     ]
    },
    {
     "name": "stderr",
     "output_type": "stream",
     "text": [
      "sbatch: Single-node jobs run on a shared node by default. Add --exclusive if you want to use a node exclusively.\n",
      "sbatch: You will be charged for 0.25 node. A full node consists of 128 CPU cores, 983040 MiB of memory and 0 GPUs and can be shared by up to 4 jobs.\n"
     ]
    },
    {
     "name": "stdout",
     "output_type": "stream",
     "text": [
      "Submitted batch job 1872253\n"
     ]
    },
    {
     "name": "stderr",
     "output_type": "stream",
     "text": [
      "sbatch: Single-node jobs run on a shared node by default. Add --exclusive if you want to use a node exclusively.\n",
      "sbatch: You will be charged for 0.25 node. A full node consists of 128 CPU cores, 983040 MiB of memory and 0 GPUs and can be shared by up to 4 jobs.\n"
     ]
    },
    {
     "name": "stdout",
     "output_type": "stream",
     "text": [
      "Submitted batch job 1872254\n"
     ]
    },
    {
     "name": "stderr",
     "output_type": "stream",
     "text": [
      "sbatch: Single-node jobs run on a shared node by default. Add --exclusive if you want to use a node exclusively.\n",
      "sbatch: You will be charged for 0.25 node. A full node consists of 128 CPU cores, 983040 MiB of memory and 0 GPUs and can be shared by up to 4 jobs.\n"
     ]
    },
    {
     "name": "stdout",
     "output_type": "stream",
     "text": [
      "Submitted batch job 1872255\n"
     ]
    },
    {
     "name": "stderr",
     "output_type": "stream",
     "text": [
      "sbatch: Single-node jobs run on a shared node by default. Add --exclusive if you want to use a node exclusively.\n",
      "sbatch: You will be charged for 0.25 node. A full node consists of 128 CPU cores, 983040 MiB of memory and 0 GPUs and can be shared by up to 4 jobs.\n"
     ]
    },
    {
     "name": "stdout",
     "output_type": "stream",
     "text": [
      "Submitted batch job 1872256\n"
     ]
    },
    {
     "name": "stderr",
     "output_type": "stream",
     "text": [
      "sbatch: Single-node jobs run on a shared node by default. Add --exclusive if you want to use a node exclusively.\n",
      "sbatch: You will be charged for 0.25 node. A full node consists of 128 CPU cores, 983040 MiB of memory and 0 GPUs and can be shared by up to 4 jobs.\n"
     ]
    },
    {
     "name": "stdout",
     "output_type": "stream",
     "text": [
      "Submitted batch job 1872257\n"
     ]
    },
    {
     "name": "stderr",
     "output_type": "stream",
     "text": [
      "sbatch: Single-node jobs run on a shared node by default. Add --exclusive if you want to use a node exclusively.\n",
      "sbatch: You will be charged for 0.25 node. A full node consists of 128 CPU cores, 983040 MiB of memory and 0 GPUs and can be shared by up to 4 jobs.\n"
     ]
    },
    {
     "name": "stdout",
     "output_type": "stream",
     "text": [
      "Submitted batch job 1872258\n"
     ]
    },
    {
     "name": "stderr",
     "output_type": "stream",
     "text": [
      "sbatch: Single-node jobs run on a shared node by default. Add --exclusive if you want to use a node exclusively.\n",
      "sbatch: You will be charged for 0.25 node. A full node consists of 128 CPU cores, 983040 MiB of memory and 0 GPUs and can be shared by up to 4 jobs.\n"
     ]
    },
    {
     "name": "stdout",
     "output_type": "stream",
     "text": [
      "Submitted batch job 1872259\n"
     ]
    },
    {
     "name": "stderr",
     "output_type": "stream",
     "text": [
      "sbatch: Single-node jobs run on a shared node by default. Add --exclusive if you want to use a node exclusively.\n",
      "sbatch: You will be charged for 0.25 node. A full node consists of 128 CPU cores, 983040 MiB of memory and 0 GPUs and can be shared by up to 4 jobs.\n"
     ]
    },
    {
     "name": "stdout",
     "output_type": "stream",
     "text": [
      "Submitted batch job 1872260\n"
     ]
    },
    {
     "name": "stderr",
     "output_type": "stream",
     "text": [
      "sbatch: Single-node jobs run on a shared node by default. Add --exclusive if you want to use a node exclusively.\n",
      "sbatch: You will be charged for 0.25 node. A full node consists of 128 CPU cores, 983040 MiB of memory and 0 GPUs and can be shared by up to 4 jobs.\n"
     ]
    },
    {
     "name": "stdout",
     "output_type": "stream",
     "text": [
      "Submitted batch job 1872261\n"
     ]
    },
    {
     "name": "stderr",
     "output_type": "stream",
     "text": [
      "sbatch: Single-node jobs run on a shared node by default. Add --exclusive if you want to use a node exclusively.\n",
      "sbatch: You will be charged for 0.25 node. A full node consists of 128 CPU cores, 983040 MiB of memory and 0 GPUs and can be shared by up to 4 jobs.\n"
     ]
    },
    {
     "name": "stdout",
     "output_type": "stream",
     "text": [
      "Submitted batch job 1872262\n"
     ]
    },
    {
     "name": "stderr",
     "output_type": "stream",
     "text": [
      "sbatch: Single-node jobs run on a shared node by default. Add --exclusive if you want to use a node exclusively.\n",
      "sbatch: You will be charged for 0.25 node. A full node consists of 128 CPU cores, 983040 MiB of memory and 0 GPUs and can be shared by up to 4 jobs.\n"
     ]
    },
    {
     "name": "stdout",
     "output_type": "stream",
     "text": [
      "Submitted batch job 1872263\n"
     ]
    },
    {
     "name": "stderr",
     "output_type": "stream",
     "text": [
      "sbatch: Single-node jobs run on a shared node by default. Add --exclusive if you want to use a node exclusively.\n",
      "sbatch: You will be charged for 0.25 node. A full node consists of 128 CPU cores, 983040 MiB of memory and 0 GPUs and can be shared by up to 4 jobs.\n"
     ]
    },
    {
     "name": "stdout",
     "output_type": "stream",
     "text": [
      "Submitted batch job 1872264\n"
     ]
    },
    {
     "name": "stderr",
     "output_type": "stream",
     "text": [
      "sbatch: Single-node jobs run on a shared node by default. Add --exclusive if you want to use a node exclusively.\n",
      "sbatch: You will be charged for 0.25 node. A full node consists of 128 CPU cores, 983040 MiB of memory and 0 GPUs and can be shared by up to 4 jobs.\n"
     ]
    },
    {
     "name": "stdout",
     "output_type": "stream",
     "text": [
      "Submitted batch job 1872265\n"
     ]
    },
    {
     "name": "stderr",
     "output_type": "stream",
     "text": [
      "sbatch: Single-node jobs run on a shared node by default. Add --exclusive if you want to use a node exclusively.\n",
      "sbatch: You will be charged for 0.25 node. A full node consists of 128 CPU cores, 983040 MiB of memory and 0 GPUs and can be shared by up to 4 jobs.\n"
     ]
    },
    {
     "name": "stdout",
     "output_type": "stream",
     "text": [
      "Submitted batch job 1872266\n"
     ]
    },
    {
     "name": "stderr",
     "output_type": "stream",
     "text": [
      "sbatch: Single-node jobs run on a shared node by default. Add --exclusive if you want to use a node exclusively.\n",
      "sbatch: You will be charged for 0.25 node. A full node consists of 128 CPU cores, 983040 MiB of memory and 0 GPUs and can be shared by up to 4 jobs.\n"
     ]
    },
    {
     "name": "stdout",
     "output_type": "stream",
     "text": [
      "Submitted batch job 1872267\n"
     ]
    },
    {
     "name": "stderr",
     "output_type": "stream",
     "text": [
      "sbatch: Single-node jobs run on a shared node by default. Add --exclusive if you want to use a node exclusively.\n",
      "sbatch: You will be charged for 0.25 node. A full node consists of 128 CPU cores, 983040 MiB of memory and 0 GPUs and can be shared by up to 4 jobs.\n"
     ]
    },
    {
     "name": "stdout",
     "output_type": "stream",
     "text": [
      "Submitted batch job 1872268\n"
     ]
    },
    {
     "name": "stderr",
     "output_type": "stream",
     "text": [
      "sbatch: Single-node jobs run on a shared node by default. Add --exclusive if you want to use a node exclusively.\n",
      "sbatch: You will be charged for 0.25 node. A full node consists of 128 CPU cores, 983040 MiB of memory and 0 GPUs and can be shared by up to 4 jobs.\n"
     ]
    },
    {
     "name": "stdout",
     "output_type": "stream",
     "text": [
      "Submitted batch job 1872269\n"
     ]
    },
    {
     "name": "stderr",
     "output_type": "stream",
     "text": [
      "sbatch: Single-node jobs run on a shared node by default. Add --exclusive if you want to use a node exclusively.\n",
      "sbatch: You will be charged for 0.25 node. A full node consists of 128 CPU cores, 983040 MiB of memory and 0 GPUs and can be shared by up to 4 jobs.\n"
     ]
    },
    {
     "name": "stdout",
     "output_type": "stream",
     "text": [
      "Submitted batch job 1872270\n"
     ]
    },
    {
     "name": "stderr",
     "output_type": "stream",
     "text": [
      "sbatch: Single-node jobs run on a shared node by default. Add --exclusive if you want to use a node exclusively.\n",
      "sbatch: You will be charged for 0.25 node. A full node consists of 128 CPU cores, 983040 MiB of memory and 0 GPUs and can be shared by up to 4 jobs.\n"
     ]
    },
    {
     "name": "stdout",
     "output_type": "stream",
     "text": [
      "Submitted batch job 1872271\n"
     ]
    },
    {
     "name": "stderr",
     "output_type": "stream",
     "text": [
      "sbatch: Single-node jobs run on a shared node by default. Add --exclusive if you want to use a node exclusively.\n",
      "sbatch: You will be charged for 0.25 node. A full node consists of 128 CPU cores, 983040 MiB of memory and 0 GPUs and can be shared by up to 4 jobs.\n"
     ]
    },
    {
     "name": "stdout",
     "output_type": "stream",
     "text": [
      "Submitted batch job 1872272\n"
     ]
    },
    {
     "name": "stderr",
     "output_type": "stream",
     "text": [
      "sbatch: Single-node jobs run on a shared node by default. Add --exclusive if you want to use a node exclusively.\n",
      "sbatch: You will be charged for 0.25 node. A full node consists of 128 CPU cores, 983040 MiB of memory and 0 GPUs and can be shared by up to 4 jobs.\n"
     ]
    },
    {
     "name": "stdout",
     "output_type": "stream",
     "text": [
      "Submitted batch job 1872273\n"
     ]
    },
    {
     "name": "stderr",
     "output_type": "stream",
     "text": [
      "sbatch: Single-node jobs run on a shared node by default. Add --exclusive if you want to use a node exclusively.\n",
      "sbatch: You will be charged for 0.25 node. A full node consists of 128 CPU cores, 983040 MiB of memory and 0 GPUs and can be shared by up to 4 jobs.\n"
     ]
    },
    {
     "name": "stdout",
     "output_type": "stream",
     "text": [
      "Submitted batch job 1872274\n"
     ]
    },
    {
     "name": "stderr",
     "output_type": "stream",
     "text": [
      "sbatch: Single-node jobs run on a shared node by default. Add --exclusive if you want to use a node exclusively.\n",
      "sbatch: You will be charged for 0.25 node. A full node consists of 128 CPU cores, 983040 MiB of memory and 0 GPUs and can be shared by up to 4 jobs.\n"
     ]
    },
    {
     "name": "stdout",
     "output_type": "stream",
     "text": [
      "Submitted batch job 1872275\n"
     ]
    },
    {
     "name": "stderr",
     "output_type": "stream",
     "text": [
      "sbatch: Single-node jobs run on a shared node by default. Add --exclusive if you want to use a node exclusively.\n",
      "sbatch: You will be charged for 0.25 node. A full node consists of 128 CPU cores, 983040 MiB of memory and 0 GPUs and can be shared by up to 4 jobs.\n"
     ]
    },
    {
     "name": "stdout",
     "output_type": "stream",
     "text": [
      "Submitted batch job 1872276\n"
     ]
    },
    {
     "name": "stderr",
     "output_type": "stream",
     "text": [
      "sbatch: Single-node jobs run on a shared node by default. Add --exclusive if you want to use a node exclusively.\n",
      "sbatch: You will be charged for 0.25 node. A full node consists of 128 CPU cores, 983040 MiB of memory and 0 GPUs and can be shared by up to 4 jobs.\n"
     ]
    },
    {
     "name": "stdout",
     "output_type": "stream",
     "text": [
      "Submitted batch job 1872277\n"
     ]
    },
    {
     "name": "stderr",
     "output_type": "stream",
     "text": [
      "sbatch: Single-node jobs run on a shared node by default. Add --exclusive if you want to use a node exclusively.\n",
      "sbatch: You will be charged for 0.25 node. A full node consists of 128 CPU cores, 983040 MiB of memory and 0 GPUs and can be shared by up to 4 jobs.\n"
     ]
    },
    {
     "name": "stdout",
     "output_type": "stream",
     "text": [
      "Submitted batch job 1872278\n"
     ]
    },
    {
     "name": "stderr",
     "output_type": "stream",
     "text": [
      "sbatch: Single-node jobs run on a shared node by default. Add --exclusive if you want to use a node exclusively.\n",
      "sbatch: You will be charged for 0.25 node. A full node consists of 128 CPU cores, 983040 MiB of memory and 0 GPUs and can be shared by up to 4 jobs.\n"
     ]
    },
    {
     "name": "stdout",
     "output_type": "stream",
     "text": [
      "Submitted batch job 1872279\n"
     ]
    },
    {
     "name": "stderr",
     "output_type": "stream",
     "text": [
      "sbatch: Single-node jobs run on a shared node by default. Add --exclusive if you want to use a node exclusively.\n",
      "sbatch: You will be charged for 0.25 node. A full node consists of 128 CPU cores, 983040 MiB of memory and 0 GPUs and can be shared by up to 4 jobs.\n"
     ]
    },
    {
     "name": "stdout",
     "output_type": "stream",
     "text": [
      "Submitted batch job 1872280\n"
     ]
    },
    {
     "name": "stderr",
     "output_type": "stream",
     "text": [
      "sbatch: Single-node jobs run on a shared node by default. Add --exclusive if you want to use a node exclusively.\n",
      "sbatch: You will be charged for 0.25 node. A full node consists of 128 CPU cores, 983040 MiB of memory and 0 GPUs and can be shared by up to 4 jobs.\n"
     ]
    },
    {
     "name": "stdout",
     "output_type": "stream",
     "text": [
      "Submitted batch job 1872281\n"
     ]
    },
    {
     "name": "stderr",
     "output_type": "stream",
     "text": [
      "sbatch: Single-node jobs run on a shared node by default. Add --exclusive if you want to use a node exclusively.\n",
      "sbatch: You will be charged for 0.25 node. A full node consists of 128 CPU cores, 983040 MiB of memory and 0 GPUs and can be shared by up to 4 jobs.\n"
     ]
    },
    {
     "name": "stdout",
     "output_type": "stream",
     "text": [
      "Submitted batch job 1872282\n"
     ]
    },
    {
     "name": "stderr",
     "output_type": "stream",
     "text": [
      "sbatch: Single-node jobs run on a shared node by default. Add --exclusive if you want to use a node exclusively.\n",
      "sbatch: You will be charged for 0.25 node. A full node consists of 128 CPU cores, 983040 MiB of memory and 0 GPUs and can be shared by up to 4 jobs.\n"
     ]
    },
    {
     "name": "stdout",
     "output_type": "stream",
     "text": [
      "Submitted batch job 1872283\n"
     ]
    },
    {
     "name": "stderr",
     "output_type": "stream",
     "text": [
      "sbatch: Single-node jobs run on a shared node by default. Add --exclusive if you want to use a node exclusively.\n",
      "sbatch: You will be charged for 0.25 node. A full node consists of 128 CPU cores, 983040 MiB of memory and 0 GPUs and can be shared by up to 4 jobs.\n"
     ]
    },
    {
     "name": "stdout",
     "output_type": "stream",
     "text": [
      "Submitted batch job 1872284\n"
     ]
    },
    {
     "name": "stderr",
     "output_type": "stream",
     "text": [
      "sbatch: Single-node jobs run on a shared node by default. Add --exclusive if you want to use a node exclusively.\n",
      "sbatch: You will be charged for 0.25 node. A full node consists of 128 CPU cores, 983040 MiB of memory and 0 GPUs and can be shared by up to 4 jobs.\n"
     ]
    },
    {
     "name": "stdout",
     "output_type": "stream",
     "text": [
      "Submitted batch job 1872285\n"
     ]
    },
    {
     "name": "stderr",
     "output_type": "stream",
     "text": [
      "sbatch: Single-node jobs run on a shared node by default. Add --exclusive if you want to use a node exclusively.\n",
      "sbatch: You will be charged for 0.25 node. A full node consists of 128 CPU cores, 983040 MiB of memory and 0 GPUs and can be shared by up to 4 jobs.\n"
     ]
    },
    {
     "name": "stdout",
     "output_type": "stream",
     "text": [
      "Submitted batch job 1872286\n"
     ]
    },
    {
     "name": "stderr",
     "output_type": "stream",
     "text": [
      "sbatch: Single-node jobs run on a shared node by default. Add --exclusive if you want to use a node exclusively.\n",
      "sbatch: You will be charged for 0.25 node. A full node consists of 128 CPU cores, 983040 MiB of memory and 0 GPUs and can be shared by up to 4 jobs.\n"
     ]
    },
    {
     "name": "stdout",
     "output_type": "stream",
     "text": [
      "Submitted batch job 1872287\n"
     ]
    },
    {
     "name": "stderr",
     "output_type": "stream",
     "text": [
      "sbatch: Single-node jobs run on a shared node by default. Add --exclusive if you want to use a node exclusively.\n",
      "sbatch: You will be charged for 0.25 node. A full node consists of 128 CPU cores, 983040 MiB of memory and 0 GPUs and can be shared by up to 4 jobs.\n"
     ]
    },
    {
     "name": "stdout",
     "output_type": "stream",
     "text": [
      "Submitted batch job 1872288\n"
     ]
    },
    {
     "name": "stderr",
     "output_type": "stream",
     "text": [
      "sbatch: Single-node jobs run on a shared node by default. Add --exclusive if you want to use a node exclusively.\n",
      "sbatch: You will be charged for 0.25 node. A full node consists of 128 CPU cores, 983040 MiB of memory and 0 GPUs and can be shared by up to 4 jobs.\n"
     ]
    },
    {
     "name": "stdout",
     "output_type": "stream",
     "text": [
      "Submitted batch job 1872289\n"
     ]
    },
    {
     "name": "stderr",
     "output_type": "stream",
     "text": [
      "sbatch: Single-node jobs run on a shared node by default. Add --exclusive if you want to use a node exclusively.\n",
      "sbatch: You will be charged for 0.25 node. A full node consists of 128 CPU cores, 983040 MiB of memory and 0 GPUs and can be shared by up to 4 jobs.\n"
     ]
    },
    {
     "name": "stdout",
     "output_type": "stream",
     "text": [
      "Submitted batch job 1872290\n"
     ]
    },
    {
     "name": "stderr",
     "output_type": "stream",
     "text": [
      "sbatch: Single-node jobs run on a shared node by default. Add --exclusive if you want to use a node exclusively.\n",
      "sbatch: You will be charged for 0.25 node. A full node consists of 128 CPU cores, 983040 MiB of memory and 0 GPUs and can be shared by up to 4 jobs.\n"
     ]
    },
    {
     "name": "stdout",
     "output_type": "stream",
     "text": [
      "Submitted batch job 1872291\n",
      "Submitted batch job 1872292\n"
     ]
    },
    {
     "name": "stderr",
     "output_type": "stream",
     "text": [
      "sbatch: Single-node jobs run on a shared node by default. Add --exclusive if you want to use a node exclusively.\n",
      "sbatch: You will be charged for 0.25 node. A full node consists of 128 CPU cores, 983040 MiB of memory and 0 GPUs and can be shared by up to 4 jobs.\n"
     ]
    },
    {
     "name": "stdout",
     "output_type": "stream",
     "text": [
      "Submitted batch job 1872293\n"
     ]
    },
    {
     "name": "stderr",
     "output_type": "stream",
     "text": [
      "sbatch: Single-node jobs run on a shared node by default. Add --exclusive if you want to use a node exclusively.\n",
      "sbatch: You will be charged for 0.25 node. A full node consists of 128 CPU cores, 983040 MiB of memory and 0 GPUs and can be shared by up to 4 jobs.\n",
      "sbatch: Single-node jobs run on a shared node by default. Add --exclusive if you want to use a node exclusively.\n",
      "sbatch: You will be charged for 0.25 node. A full node consists of 128 CPU cores, 983040 MiB of memory and 0 GPUs and can be shared by up to 4 jobs.\n"
     ]
    },
    {
     "name": "stdout",
     "output_type": "stream",
     "text": [
      "Submitted batch job 1872294\n"
     ]
    },
    {
     "name": "stderr",
     "output_type": "stream",
     "text": [
      "sbatch: Single-node jobs run on a shared node by default. Add --exclusive if you want to use a node exclusively.\n",
      "sbatch: You will be charged for 0.25 node. A full node consists of 128 CPU cores, 983040 MiB of memory and 0 GPUs and can be shared by up to 4 jobs.\n"
     ]
    },
    {
     "name": "stdout",
     "output_type": "stream",
     "text": [
      "Submitted batch job 1872295\n"
     ]
    },
    {
     "name": "stderr",
     "output_type": "stream",
     "text": [
      "sbatch: Single-node jobs run on a shared node by default. Add --exclusive if you want to use a node exclusively.\n",
      "sbatch: You will be charged for 0.25 node. A full node consists of 128 CPU cores, 983040 MiB of memory and 0 GPUs and can be shared by up to 4 jobs.\n"
     ]
    },
    {
     "name": "stdout",
     "output_type": "stream",
     "text": [
      "Submitted batch job 1872296\n"
     ]
    },
    {
     "name": "stderr",
     "output_type": "stream",
     "text": [
      "sbatch: Single-node jobs run on a shared node by default. Add --exclusive if you want to use a node exclusively.\n",
      "sbatch: You will be charged for 0.25 node. A full node consists of 128 CPU cores, 983040 MiB of memory and 0 GPUs and can be shared by up to 4 jobs.\n"
     ]
    },
    {
     "name": "stdout",
     "output_type": "stream",
     "text": [
      "Submitted batch job 1872297\n"
     ]
    },
    {
     "name": "stderr",
     "output_type": "stream",
     "text": [
      "sbatch: Single-node jobs run on a shared node by default. Add --exclusive if you want to use a node exclusively.\n",
      "sbatch: You will be charged for 0.25 node. A full node consists of 128 CPU cores, 983040 MiB of memory and 0 GPUs and can be shared by up to 4 jobs.\n"
     ]
    },
    {
     "name": "stdout",
     "output_type": "stream",
     "text": [
      "Submitted batch job 1872298\n"
     ]
    },
    {
     "name": "stderr",
     "output_type": "stream",
     "text": [
      "sbatch: Single-node jobs run on a shared node by default. Add --exclusive if you want to use a node exclusively.\n",
      "sbatch: You will be charged for 0.25 node. A full node consists of 128 CPU cores, 983040 MiB of memory and 0 GPUs and can be shared by up to 4 jobs.\n"
     ]
    },
    {
     "name": "stdout",
     "output_type": "stream",
     "text": [
      "Submitted batch job 1872299\n"
     ]
    },
    {
     "name": "stderr",
     "output_type": "stream",
     "text": [
      "sbatch: Single-node jobs run on a shared node by default. Add --exclusive if you want to use a node exclusively.\n",
      "sbatch: You will be charged for 0.25 node. A full node consists of 128 CPU cores, 983040 MiB of memory and 0 GPUs and can be shared by up to 4 jobs.\n"
     ]
    },
    {
     "name": "stdout",
     "output_type": "stream",
     "text": [
      "Submitted batch job 1872300\n",
      "Submitted batch job 1872301\n"
     ]
    },
    {
     "name": "stderr",
     "output_type": "stream",
     "text": [
      "sbatch: Single-node jobs run on a shared node by default. Add --exclusive if you want to use a node exclusively.\n",
      "sbatch: You will be charged for 0.25 node. A full node consists of 128 CPU cores, 983040 MiB of memory and 0 GPUs and can be shared by up to 4 jobs.\n",
      "sbatch: Single-node jobs run on a shared node by default. Add --exclusive if you want to use a node exclusively.\n",
      "sbatch: You will be charged for 0.25 node. A full node consists of 128 CPU cores, 983040 MiB of memory and 0 GPUs and can be shared by up to 4 jobs.\n"
     ]
    },
    {
     "name": "stdout",
     "output_type": "stream",
     "text": [
      "Submitted batch job 1872302\n"
     ]
    },
    {
     "name": "stderr",
     "output_type": "stream",
     "text": [
      "sbatch: Single-node jobs run on a shared node by default. Add --exclusive if you want to use a node exclusively.\n",
      "sbatch: You will be charged for 0.25 node. A full node consists of 128 CPU cores, 983040 MiB of memory and 0 GPUs and can be shared by up to 4 jobs.\n"
     ]
    },
    {
     "name": "stdout",
     "output_type": "stream",
     "text": [
      "Submitted batch job 1872303\n"
     ]
    },
    {
     "name": "stderr",
     "output_type": "stream",
     "text": [
      "sbatch: Single-node jobs run on a shared node by default. Add --exclusive if you want to use a node exclusively.\n",
      "sbatch: You will be charged for 0.25 node. A full node consists of 128 CPU cores, 983040 MiB of memory and 0 GPUs and can be shared by up to 4 jobs.\n"
     ]
    },
    {
     "name": "stdout",
     "output_type": "stream",
     "text": [
      "Submitted batch job 1872304\n"
     ]
    },
    {
     "name": "stderr",
     "output_type": "stream",
     "text": [
      "sbatch: Single-node jobs run on a shared node by default. Add --exclusive if you want to use a node exclusively.\n",
      "sbatch: You will be charged for 0.25 node. A full node consists of 128 CPU cores, 983040 MiB of memory and 0 GPUs and can be shared by up to 4 jobs.\n"
     ]
    },
    {
     "name": "stdout",
     "output_type": "stream",
     "text": [
      "Submitted batch job 1872305\n"
     ]
    },
    {
     "name": "stderr",
     "output_type": "stream",
     "text": [
      "sbatch: Single-node jobs run on a shared node by default. Add --exclusive if you want to use a node exclusively.\n",
      "sbatch: You will be charged for 0.25 node. A full node consists of 128 CPU cores, 983040 MiB of memory and 0 GPUs and can be shared by up to 4 jobs.\n"
     ]
    },
    {
     "name": "stdout",
     "output_type": "stream",
     "text": [
      "Submitted batch job 1872306\n"
     ]
    },
    {
     "name": "stderr",
     "output_type": "stream",
     "text": [
      "sbatch: Single-node jobs run on a shared node by default. Add --exclusive if you want to use a node exclusively.\n",
      "sbatch: You will be charged for 0.25 node. A full node consists of 128 CPU cores, 983040 MiB of memory and 0 GPUs and can be shared by up to 4 jobs.\n"
     ]
    },
    {
     "name": "stdout",
     "output_type": "stream",
     "text": [
      "Submitted batch job 1872307\n"
     ]
    },
    {
     "name": "stderr",
     "output_type": "stream",
     "text": [
      "sbatch: Single-node jobs run on a shared node by default. Add --exclusive if you want to use a node exclusively.\n",
      "sbatch: You will be charged for 0.25 node. A full node consists of 128 CPU cores, 983040 MiB of memory and 0 GPUs and can be shared by up to 4 jobs.\n"
     ]
    },
    {
     "name": "stdout",
     "output_type": "stream",
     "text": [
      "Submitted batch job 1872308\n",
      "Submitted batch job 1872309\n"
     ]
    },
    {
     "name": "stderr",
     "output_type": "stream",
     "text": [
      "sbatch: Single-node jobs run on a shared node by default. Add --exclusive if you want to use a node exclusively.\n",
      "sbatch: You will be charged for 0.25 node. A full node consists of 128 CPU cores, 983040 MiB of memory and 0 GPUs and can be shared by up to 4 jobs.\n",
      "sbatch: Single-node jobs run on a shared node by default. Add --exclusive if you want to use a node exclusively.\n",
      "sbatch: You will be charged for 0.25 node. A full node consists of 128 CPU cores, 983040 MiB of memory and 0 GPUs and can be shared by up to 4 jobs.\n"
     ]
    },
    {
     "name": "stdout",
     "output_type": "stream",
     "text": [
      "Submitted batch job 1872310\n"
     ]
    },
    {
     "name": "stderr",
     "output_type": "stream",
     "text": [
      "sbatch: Single-node jobs run on a shared node by default. Add --exclusive if you want to use a node exclusively.\n",
      "sbatch: You will be charged for 0.25 node. A full node consists of 128 CPU cores, 983040 MiB of memory and 0 GPUs and can be shared by up to 4 jobs.\n"
     ]
    },
    {
     "name": "stdout",
     "output_type": "stream",
     "text": [
      "Submitted batch job 1872311\n"
     ]
    },
    {
     "name": "stderr",
     "output_type": "stream",
     "text": [
      "sbatch: Single-node jobs run on a shared node by default. Add --exclusive if you want to use a node exclusively.\n",
      "sbatch: You will be charged for 0.25 node. A full node consists of 128 CPU cores, 983040 MiB of memory and 0 GPUs and can be shared by up to 4 jobs.\n"
     ]
    },
    {
     "name": "stdout",
     "output_type": "stream",
     "text": [
      "Submitted batch job 1872312\n"
     ]
    },
    {
     "name": "stderr",
     "output_type": "stream",
     "text": [
      "sbatch: Single-node jobs run on a shared node by default. Add --exclusive if you want to use a node exclusively.\n",
      "sbatch: You will be charged for 0.25 node. A full node consists of 128 CPU cores, 983040 MiB of memory and 0 GPUs and can be shared by up to 4 jobs.\n"
     ]
    },
    {
     "name": "stdout",
     "output_type": "stream",
     "text": [
      "Submitted batch job 1872313\n"
     ]
    },
    {
     "name": "stderr",
     "output_type": "stream",
     "text": [
      "sbatch: Single-node jobs run on a shared node by default. Add --exclusive if you want to use a node exclusively.\n",
      "sbatch: You will be charged for 0.25 node. A full node consists of 128 CPU cores, 983040 MiB of memory and 0 GPUs and can be shared by up to 4 jobs.\n"
     ]
    },
    {
     "name": "stdout",
     "output_type": "stream",
     "text": [
      "Submitted batch job 1872314\n"
     ]
    },
    {
     "name": "stderr",
     "output_type": "stream",
     "text": [
      "sbatch: Single-node jobs run on a shared node by default. Add --exclusive if you want to use a node exclusively.\n",
      "sbatch: You will be charged for 0.25 node. A full node consists of 128 CPU cores, 983040 MiB of memory and 0 GPUs and can be shared by up to 4 jobs.\n"
     ]
    },
    {
     "name": "stdout",
     "output_type": "stream",
     "text": [
      "Submitted batch job 1872315\n"
     ]
    },
    {
     "name": "stderr",
     "output_type": "stream",
     "text": [
      "sbatch: Single-node jobs run on a shared node by default. Add --exclusive if you want to use a node exclusively.\n",
      "sbatch: You will be charged for 0.03125 node. A full node consists of 32 CPU cores, 229376 MiB of memory and 0 GPUs and can be shared by up to 32 jobs.\n"
     ]
    },
    {
     "name": "stdout",
     "output_type": "stream",
     "text": [
      "Submitted batch job 1872316\n"
     ]
    }
   ],
   "source": [
    "from amftrack.pipeline.launching.run_super import run_parallel, run_launcher\n",
    "name_job = 'malin'\n",
    "stage = 30\n",
    "args = [directory_targ]\n",
    "for plate in plates:\n",
    "    select = folders.loc[folders[\"unique_id\"] == plate]\n",
    "    num_parallel = 32\n",
    "    time = \"10:00\"\n",
    "    args = [directory_targ]\n",
    "    run_parallel(\n",
    "        \"realign.py\",\n",
    "        args,\n",
    "        select,\n",
    "        num_parallel,\n",
    "        time,\n",
    "        \"create_realign\",\n",
    "        cpus=32,\n",
    "        node=\"fat\",\n",
    "        name_job=name_job,\n",
    "    )\n",
    "\n",
    "run_launcher(\n",
    "    \"graph_extracter.py\",\n",
    "    [directory_targ, name_job, stage - 1],\n",
    "    plates,\n",
    "    \"3:00:00\",\n",
    "    dependency=True,\n",
    "    name_job=name_job,\n",
    ")"
   ]
  },
  {
   "cell_type": "code",
   "execution_count": 6,
   "id": "cc02f898-d953-4d8b-8c1c-eb42711aeb09",
   "metadata": {},
   "outputs": [
    {
     "name": "stderr",
     "output_type": "stream",
     "text": [
      "sbatch: Single-node jobs run on a shared node by default. Add --exclusive if you want to use a node exclusively.\n",
      "sbatch: You will be charged for 0.03125 node. A full node consists of 32 CPU cores, 229376 MiB of memory and 0 GPUs and can be shared by up to 32 jobs.\n"
     ]
    },
    {
     "name": "stdout",
     "output_type": "stream",
     "text": [
      "Submitted batch job 1889261\n"
     ]
    }
   ],
   "source": [
    "name_job =\"rerun\"\n",
    "run_launcher(\n",
    "    \"post_processer_1.py\",\n",
    "    [directory_targ, name_job, -1],\n",
    "    plates,\n",
    "    \"3:00:00\",\n",
    "    dependency=True,\n",
    "    name_job=name_job,\n",
    ")"
   ]
  },
  {
   "cell_type": "code",
   "execution_count": 8,
   "id": "2da38319-35b9-4a35-9eae-a3067f75e390",
   "metadata": {},
   "outputs": [
    {
     "name": "stdout",
     "output_type": "stream",
     "text": [
      "/projects/0/einf914/data/Analysis_93_20220921_200_Version1/folder_info.json\n",
      "/projects/0/einf914/data/Analysis_5_20220920_200_Version1/folder_info.json\n",
      "/projects/0/einf914/data/Analysis_69_20220921_200_Version1/folder_info.json\n",
      "/projects/0/einf914/data/Analysis_26_20220921_200_Version1/folder_info.json\n",
      "/projects/0/einf914/data/Analysis_32_20220921_200_Version1/folder_info.json\n",
      "/projects/0/einf914/data/Analysis_43_20220920_200_Version1/folder_info.json\n",
      "/projects/0/einf914/data/Analysis_101_20220921_200_Version1/folder_info.json\n",
      "/projects/0/einf914/data/Analysis_42_20220920_200_Version1/folder_info.json\n",
      "/projects/0/einf914/data/Analysis_15_20220921_200_Version1/folder_info.json\n",
      "/projects/0/einf914/data/Analysis_65_20220921_200_Version1/folder_info.json\n",
      "/projects/0/einf914/data/Analysis_28_20220921_200_Version1/folder_info.json\n",
      "/projects/0/einf914/data/Analysis_39_20220920_200_Version1/folder_info.json\n",
      "/projects/0/einf914/data/Analysis_108_20220921_200_Version1/folder_info.json\n",
      "/projects/0/einf914/data/Analysis_67_20220921_200_Version1/folder_info.json\n",
      "/projects/0/einf914/data/Analysis_56_20220921_200_Version1/folder_info.json\n",
      "/projects/0/einf914/data/Analysis_12_20220920_200_Version1/folder_info.json\n",
      "/projects/0/einf914/data/Analysis_94_20220921_200_Version1/folder_info.json\n",
      "/projects/0/einf914/data/Analysis_50_20220920_200_Version1/folder_info.json\n",
      "/projects/0/einf914/data/Analysis_27_20220921_200_Version1/folder_info.json\n",
      "/projects/0/einf914/data/Analysis_59_20220921_200_Version1/folder_info.json\n",
      "/projects/0/einf914/data/Analysis_16_20220921_200_Version1/folder_info.json\n",
      "/projects/0/einf914/data/Analysis_84_20220920_200_Version1/folder_info.json\n",
      "/projects/0/einf914/data/Analysis_23_20220920_200_Version1/folder_info.json\n",
      "/projects/0/einf914/data/Analysis_71_20220921_200_Version1/folder_info.json\n",
      "/projects/0/einf914/data/Analysis_21_20220920_200_Version1/folder_info.json\n",
      "/projects/0/einf914/data/Analysis_100_20220921_200_Version1/folder_info.json\n",
      "/projects/0/einf914/data/Analysis_99_20220921_200_Version1/folder_info.json\n",
      "/projects/0/einf914/data/Analysis_79_20220920_200_Version1/folder_info.json\n",
      "/projects/0/einf914/data/Analysis_82_20220920_200_Version1/folder_info.json\n",
      "/projects/0/einf914/data/Analysis_61_20220921_200_Version1/folder_info.json\n",
      "/projects/0/einf914/data/Analysis_25_20220921_200_Version1/folder_info.json\n",
      "/projects/0/einf914/data/Analysis_31_20220921_200_Version1/folder_info.json\n",
      "/projects/0/einf914/data/Analysis_70_20220921_200_Version1/folder_info.json\n",
      "/projects/0/einf914/data/Analysis_10_20220920_200_Version1/folder_info.json\n",
      "/projects/0/einf914/data/Analysis_40_20220920_200_Version1/folder_info.json\n",
      "/projects/0/einf914/data/Analysis_74_20220920_200_Version1/folder_info.json\n",
      "/projects/0/einf914/data/Analysis_102_20220921_200_Version1/folder_info.json\n",
      "/projects/0/einf914/data/Analysis_2_20220920_200_Version1/folder_info.json\n",
      "/projects/0/einf914/data/Analysis_49_20220920_200_Version1/folder_info.json\n",
      "/projects/0/einf914/data/Analysis_104_20220921_200_Version1/folder_info.json\n",
      "/projects/0/einf914/data/Analysis_87_20220921_200_Version1/folder_info.json\n",
      "/projects/0/einf914/data/Analysis_37_20220920_200_Version1/folder_info.json\n",
      "/projects/0/einf914/data/Analysis_72_20220921_200_Version1/folder_info.json\n",
      "/projects/0/einf914/data/Analysis_78_20220920_200_Version1/folder_info.json\n",
      "/projects/0/einf914/data/Analysis_62_20220921_200_Version1/folder_info.json\n",
      "/projects/0/einf914/data/Analysis_13_20220921_200_Version1/folder_info.json\n",
      "/projects/0/einf914/data/Analysis_45_20220920_200_Version1/folder_info.json\n",
      "/projects/0/einf914/data/Analysis_81_20220920_200_Version1/folder_info.json\n",
      "/projects/0/einf914/data/Analysis_97_20220921_200_Version1/folder_info.json\n",
      "/projects/0/einf914/data/Analysis_34_20220921_200_Version1/folder_info.json\n",
      "/projects/0/einf914/data/Analysis_11_20220920_200_Version1/folder_info.json\n",
      "/projects/0/einf914/data/Analysis_75_20220920_200_Version1/folder_info.json\n",
      "/projects/0/einf914/data/Analysis_46_20220920_200_Version1/folder_info.json\n",
      "/projects/0/einf914/data/Analysis_36_20220921_200_Version1/folder_info.json\n",
      "/projects/0/einf914/data/Analysis_60_20220921_200_Version1/folder_info.json\n",
      "/projects/0/einf914/data/Analysis_30_20220921_200_Version1/folder_info.json\n",
      "/projects/0/einf914/data/Analysis_76_20220920_200_Version1/folder_info.json\n",
      "/projects/0/einf914/data/Analysis_52_20220920_200_Version1/folder_info.json\n",
      "/projects/0/einf914/data/Analysis_20_20220920_200_Version1/folder_info.json\n",
      "/projects/0/einf914/data/Analysis_105_20220921_200_Version1/folder_info.json\n",
      "/projects/0/einf914/data/Analysis_58_20220921_200_Version1/folder_info.json\n",
      "/projects/0/einf914/data/Analysis_14_20220921_200_Version1/folder_info.json\n",
      "/projects/0/einf914/data/Analysis_103_20220921_200_Version1/folder_info.json\n",
      "/projects/0/einf914/data/Analysis_86_20220921_200_Version1/folder_info.json\n",
      "/projects/0/einf914/data/Analysis_91_20220921_200_Version1/folder_info.json\n",
      "/projects/0/einf914/data/Analysis_83_20220920_200_Version1/folder_info.json\n",
      "/projects/0/einf914/data/Analysis_98_20220921_200_Version1/folder_info.json\n",
      "/projects/0/einf914/data/Analysis_8_20220920_200_Version1/folder_info.json\n",
      "/projects/0/einf914/data/Analysis_44_20220920_200_Version1/folder_info.json\n",
      "/projects/0/einf914/data/Analysis_6_20220920_200_Version1/folder_info.json\n",
      "/projects/0/einf914/data/Analysis_38_20220920_200_Version1/folder_info.json\n",
      "/projects/0/einf914/data/Analysis_4_20220920_200_Version1/folder_info.json\n",
      "/projects/0/einf914/data/Analysis_80_20220920_200_Version1/folder_info.json\n",
      "/projects/0/einf914/data/Analysis_73_20220920_200_Version1/folder_info.json\n",
      "/projects/0/einf914/data/Analysis_96_20220921_200_Version1/folder_info.json\n",
      "/projects/0/einf914/data/Analysis_33_20220921_200_Version1/folder_info.json\n",
      "/projects/0/einf914/data/Analysis_48_20220920_200_Version1/folder_info.json\n",
      "/projects/0/einf914/data/Analysis_66_20220921_200_Version1/folder_info.json\n",
      "/projects/0/einf914/data/Analysis_29_20220921_200_Version1/folder_info.json\n",
      "/projects/0/einf914/data/Analysis_107_20220921_200_Version1/folder_info.json\n",
      "/projects/0/einf914/data/Analysis_55_20220921_200_Version1/folder_info.json\n",
      "/projects/0/einf914/data/Analysis_35_20220921_200_Version1/folder_info.json\n",
      "/projects/0/einf914/data/Analysis_92_20220921_200_Version1/folder_info.json\n",
      "/projects/0/einf914/data/Analysis_18_20220921_200_Version1/folder_info.json\n",
      "/projects/0/einf914/data/Analysis_68_20220921_200_Version1/folder_info.json\n",
      "/projects/0/einf914/data/Analysis_63_20220921_200_Version1/folder_info.json\n",
      "/projects/0/einf914/data/Analysis_57_20220921_200_Version1/folder_info.json\n",
      "/projects/0/einf914/data/Analysis_24_20220920_200_Version1/folder_info.json\n",
      "/projects/0/einf914/data/Analysis_47_20220920_200_Version1/folder_info.json\n",
      "/projects/0/einf914/data/Analysis_22_20220920_200_Version1/folder_info.json\n",
      "/projects/0/einf914/data/Analysis_51_20220920_200_Version1/folder_info.json\n",
      "/projects/0/einf914/data/Analysis_54_20220920_200_Version1/folder_info.json\n",
      "/projects/0/einf914/data/Analysis_95_20220921_200_Version1/folder_info.json\n",
      "/projects/0/einf914/data/Analysis_64_20220921_200_Version1/folder_info.json\n",
      "/projects/0/einf914/data/Analysis_106_20220921_200_Version1/folder_info.json\n",
      "/projects/0/einf914/data/Analysis_41_20220920_200_Version1/folder_info.json\n",
      "/projects/0/einf914/data/Analysis_85_20220921_200_Version1/folder_info.json\n",
      "/projects/0/einf914/data/Analysis_90_20220921_200_Version1/folder_info.json\n",
      "/projects/0/einf914/data/Analysis_9_20220920_200_Version1/folder_info.json\n",
      "/projects/0/einf914/data/Analysis_77_20220920_200_Version1/folder_info.json\n",
      "/projects/0/einf914/data/Analysis_19_20220920_200_Version1/folder_info.json\n",
      "/projects/0/einf914/data/Analysis_17_20220921_200_Version1/folder_info.json\n",
      "/projects/0/einf914/data/Analysis_3_20220920_200_Version1/folder_info.json\n",
      "/projects/0/einf914/data/Analysis_53_20220920_200_Version1/folder_info.json\n",
      "/projects/0/einf914/data/Analysis_7_20220920_200_Version1/folder_info.json\n",
      "/projects/0/einf914/data/Analysis_88_20220921_200_Version1/folder_info.json\n",
      "/projects/0/einf914/data/Analysis_1_20220920_200_Version1/folder_info.json\n",
      "DATA/PRINCE\n",
      "2022-11-30 10:57:17,420-[INFO]- dropbox:390 -> Refreshing access token.\n",
      "2022-11-30 10:57:17,709-[INFO]- dropbox:474 -> Request to files/upload\n",
      "2022-11-30 10:57:19,342-[INFO]- dropbox:390 -> Refreshing access token.\n",
      "2022-11-30 10:57:19,624-[INFO]- dropbox:474 -> Request to files/upload\n",
      "2022-11-30 10:57:20,587-[INFO]- dropbox:390 -> Refreshing access token.\n",
      "2022-11-30 10:57:20,852-[INFO]- dropbox:474 -> Request to files/upload\n",
      "2022-11-30 10:57:21,752-[INFO]- dropbox:390 -> Refreshing access token.\n",
      "2022-11-30 10:57:21,977-[INFO]- dropbox:474 -> Request to files/upload\n",
      "DATA/PRINCE\n",
      "2022-11-30 10:57:22,882-[INFO]- dropbox:390 -> Refreshing access token.\n",
      "2022-11-30 10:57:23,105-[INFO]- dropbox:474 -> Request to files/upload\n",
      "2022-11-30 10:57:24,569-[INFO]- dropbox:390 -> Refreshing access token.\n",
      "2022-11-30 10:57:24,787-[INFO]- dropbox:474 -> Request to files/upload\n",
      "2022-11-30 10:57:26,325-[INFO]- dropbox:390 -> Refreshing access token.\n",
      "2022-11-30 10:57:26,582-[INFO]- dropbox:474 -> Request to files/upload\n",
      "2022-11-30 10:57:28,111-[INFO]- dropbox:390 -> Refreshing access token.\n",
      "2022-11-30 10:57:28,361-[INFO]- dropbox:474 -> Request to files/upload\n",
      "DATA/PRINCE\n",
      "2022-11-30 10:57:29,270-[INFO]- dropbox:390 -> Refreshing access token.\n",
      "2022-11-30 10:57:29,495-[INFO]- dropbox:474 -> Request to files/upload\n",
      "2022-11-30 10:57:31,036-[INFO]- dropbox:390 -> Refreshing access token.\n",
      "2022-11-30 10:57:31,271-[INFO]- dropbox:474 -> Request to files/upload\n",
      "2022-11-30 10:57:32,205-[INFO]- dropbox:390 -> Refreshing access token.\n",
      "2022-11-30 10:57:32,433-[INFO]- dropbox:474 -> Request to files/upload\n",
      "2022-11-30 10:57:33,228-[INFO]- dropbox:390 -> Refreshing access token.\n",
      "2022-11-30 10:57:33,450-[INFO]- dropbox:474 -> Request to files/upload\n",
      "DATA/PRINCE\n",
      "2022-11-30 10:57:34,616-[INFO]- dropbox:390 -> Refreshing access token.\n",
      "2022-11-30 10:57:34,856-[INFO]- dropbox:474 -> Request to files/upload\n",
      "2022-11-30 10:57:36,127-[INFO]- dropbox:390 -> Refreshing access token.\n",
      "2022-11-30 10:57:36,366-[INFO]- dropbox:474 -> Request to files/upload\n",
      "2022-11-30 10:57:37,426-[INFO]- dropbox:390 -> Refreshing access token.\n",
      "2022-11-30 10:57:37,670-[INFO]- dropbox:474 -> Request to files/upload\n",
      "2022-11-30 10:57:38,729-[INFO]- dropbox:390 -> Refreshing access token.\n",
      "2022-11-30 10:57:42,304-[INFO]- dropbox:474 -> Request to files/upload\n",
      "DATA/PRINCE\n",
      "2022-11-30 10:57:43,348-[INFO]- dropbox:390 -> Refreshing access token.\n",
      "2022-11-30 10:57:43,578-[INFO]- dropbox:474 -> Request to files/upload\n",
      "2022-11-30 10:57:44,963-[INFO]- dropbox:390 -> Refreshing access token.\n",
      "2022-11-30 10:57:45,193-[INFO]- dropbox:474 -> Request to files/upload\n",
      "2022-11-30 10:57:46,517-[INFO]- dropbox:390 -> Refreshing access token.\n",
      "2022-11-30 10:57:46,772-[INFO]- dropbox:474 -> Request to files/upload\n",
      "2022-11-30 10:57:48,136-[INFO]- dropbox:390 -> Refreshing access token.\n",
      "2022-11-30 10:57:48,358-[INFO]- dropbox:474 -> Request to files/upload\n",
      "DATA/PRINCE\n",
      "2022-11-30 10:57:49,283-[INFO]- dropbox:390 -> Refreshing access token.\n",
      "2022-11-30 10:57:49,522-[INFO]- dropbox:474 -> Request to files/upload\n",
      "2022-11-30 10:57:51,090-[INFO]- dropbox:390 -> Refreshing access token.\n",
      "2022-11-30 10:57:51,325-[INFO]- dropbox:474 -> Request to files/upload\n",
      "2022-11-30 10:57:52,251-[INFO]- dropbox:390 -> Refreshing access token.\n",
      "2022-11-30 10:57:52,474-[INFO]- dropbox:474 -> Request to files/upload\n",
      "2022-11-30 10:57:53,404-[INFO]- dropbox:390 -> Refreshing access token.\n",
      "2022-11-30 10:57:53,628-[INFO]- dropbox:474 -> Request to files/upload\n",
      "DATA/PRINCE\n",
      "2022-11-30 10:57:54,651-[INFO]- dropbox:390 -> Refreshing access token.\n",
      "2022-11-30 10:57:54,893-[INFO]- dropbox:474 -> Request to files/upload\n",
      "2022-11-30 10:57:56,635-[INFO]- dropbox:390 -> Refreshing access token.\n",
      "2022-11-30 10:57:56,896-[INFO]- dropbox:474 -> Request to files/upload\n",
      "2022-11-30 10:57:57,765-[INFO]- dropbox:390 -> Refreshing access token.\n",
      "2022-11-30 10:57:58,001-[INFO]- dropbox:474 -> Request to files/upload\n",
      "2022-11-30 10:57:59,037-[INFO]- dropbox:390 -> Refreshing access token.\n",
      "2022-11-30 10:57:59,268-[INFO]- dropbox:474 -> Request to files/upload\n",
      "DATA/PRINCE\n",
      "2022-11-30 10:58:00,153-[INFO]- dropbox:390 -> Refreshing access token.\n",
      "2022-11-30 10:58:00,406-[INFO]- dropbox:474 -> Request to files/upload\n",
      "2022-11-30 10:58:02,043-[INFO]- dropbox:390 -> Refreshing access token.\n",
      "2022-11-30 10:58:02,283-[INFO]- dropbox:474 -> Request to files/upload\n",
      "2022-11-30 10:58:03,299-[INFO]- dropbox:390 -> Refreshing access token.\n",
      "2022-11-30 10:58:03,531-[INFO]- dropbox:474 -> Request to files/upload\n",
      "2022-11-30 10:58:04,607-[INFO]- dropbox:390 -> Refreshing access token.\n",
      "2022-11-30 10:58:04,859-[INFO]- dropbox:474 -> Request to files/upload\n",
      "DATA/PRINCE\n",
      "2022-11-30 10:58:05,935-[INFO]- dropbox:390 -> Refreshing access token.\n",
      "2022-11-30 10:58:06,161-[INFO]- dropbox:474 -> Request to files/upload\n",
      "2022-11-30 10:58:07,523-[INFO]- dropbox:390 -> Refreshing access token.\n",
      "2022-11-30 10:58:07,770-[INFO]- dropbox:474 -> Request to files/upload\n",
      "2022-11-30 10:58:08,694-[INFO]- dropbox:390 -> Refreshing access token.\n",
      "2022-11-30 10:58:08,932-[INFO]- dropbox:474 -> Request to files/upload\n",
      "2022-11-30 10:58:09,833-[INFO]- dropbox:390 -> Refreshing access token.\n",
      "2022-11-30 10:58:10,066-[INFO]- dropbox:474 -> Request to files/upload\n",
      "DATA/PRINCE\n",
      "2022-11-30 10:58:11,214-[INFO]- dropbox:390 -> Refreshing access token.\n",
      "2022-11-30 10:58:11,444-[INFO]- dropbox:474 -> Request to files/upload\n",
      "2022-11-30 10:58:12,673-[INFO]- dropbox:390 -> Refreshing access token.\n",
      "2022-11-30 10:58:12,917-[INFO]- dropbox:474 -> Request to files/upload\n",
      "2022-11-30 10:58:14,082-[INFO]- dropbox:390 -> Refreshing access token.\n",
      "2022-11-30 10:58:14,385-[INFO]- dropbox:474 -> Request to files/upload\n",
      "2022-11-30 10:58:15,317-[INFO]- dropbox:390 -> Refreshing access token.\n",
      "2022-11-30 10:58:15,544-[INFO]- dropbox:474 -> Request to files/upload\n",
      "DATA/PRINCE\n",
      "2022-11-30 10:58:16,560-[INFO]- dropbox:390 -> Refreshing access token.\n",
      "2022-11-30 10:58:16,804-[INFO]- dropbox:474 -> Request to files/upload\n",
      "2022-11-30 10:58:18,219-[INFO]- dropbox:390 -> Refreshing access token.\n",
      "2022-11-30 10:58:18,458-[INFO]- dropbox:474 -> Request to files/upload\n",
      "2022-11-30 10:58:19,350-[INFO]- dropbox:390 -> Refreshing access token.\n",
      "2022-11-30 10:58:19,589-[INFO]- dropbox:474 -> Request to files/upload\n",
      "2022-11-30 10:58:20,552-[INFO]- dropbox:390 -> Refreshing access token.\n",
      "2022-11-30 10:58:20,782-[INFO]- dropbox:474 -> Request to files/upload\n",
      "DATA/PRINCE\n",
      "2022-11-30 10:58:21,770-[INFO]- dropbox:390 -> Refreshing access token.\n",
      "2022-11-30 10:58:22,021-[INFO]- dropbox:474 -> Request to files/upload\n",
      "2022-11-30 10:58:23,434-[INFO]- dropbox:390 -> Refreshing access token.\n",
      "2022-11-30 10:58:23,656-[INFO]- dropbox:474 -> Request to files/upload\n",
      "2022-11-30 10:58:24,589-[INFO]- dropbox:390 -> Refreshing access token.\n",
      "2022-11-30 10:58:24,823-[INFO]- dropbox:474 -> Request to files/upload\n",
      "2022-11-30 10:58:25,871-[INFO]- dropbox:390 -> Refreshing access token.\n",
      "2022-11-30 10:58:26,107-[INFO]- dropbox:474 -> Request to files/upload\n",
      "DATA/PRINCE\n",
      "2022-11-30 10:58:27,066-[INFO]- dropbox:390 -> Refreshing access token.\n",
      "2022-11-30 10:58:27,289-[INFO]- dropbox:474 -> Request to files/upload\n",
      "2022-11-30 10:58:28,566-[INFO]- dropbox:390 -> Refreshing access token.\n",
      "2022-11-30 10:58:28,794-[INFO]- dropbox:474 -> Request to files/upload\n",
      "2022-11-30 10:58:30,203-[INFO]- dropbox:390 -> Refreshing access token.\n",
      "2022-11-30 10:58:30,435-[INFO]- dropbox:474 -> Request to files/upload\n",
      "2022-11-30 10:58:31,493-[INFO]- dropbox:390 -> Refreshing access token.\n",
      "2022-11-30 10:58:31,723-[INFO]- dropbox:474 -> Request to files/upload\n",
      "DATA/PRINCE\n",
      "2022-11-30 10:58:32,713-[INFO]- dropbox:390 -> Refreshing access token.\n",
      "2022-11-30 10:58:32,957-[INFO]- dropbox:474 -> Request to files/upload\n",
      "2022-11-30 10:58:33,958-[INFO]- dropbox:390 -> Refreshing access token.\n",
      "2022-11-30 10:58:34,189-[INFO]- dropbox:474 -> Request to files/upload\n",
      "2022-11-30 10:58:35,820-[INFO]- dropbox:390 -> Refreshing access token.\n",
      "2022-11-30 10:58:36,068-[INFO]- dropbox:474 -> Request to files/upload\n",
      "2022-11-30 10:58:37,131-[INFO]- dropbox:390 -> Refreshing access token.\n",
      "2022-11-30 10:58:37,365-[INFO]- dropbox:474 -> Request to files/upload\n",
      "DATA/PRINCE\n",
      "2022-11-30 10:58:38,300-[INFO]- dropbox:390 -> Refreshing access token.\n",
      "2022-11-30 10:58:38,520-[INFO]- dropbox:474 -> Request to files/upload\n",
      "2022-11-30 10:58:39,977-[INFO]- dropbox:390 -> Refreshing access token.\n",
      "2022-11-30 10:58:40,198-[INFO]- dropbox:474 -> Request to files/upload\n",
      "2022-11-30 10:58:41,333-[INFO]- dropbox:390 -> Refreshing access token.\n",
      "2022-11-30 10:58:41,564-[INFO]- dropbox:474 -> Request to files/upload\n",
      "2022-11-30 10:58:42,487-[INFO]- dropbox:390 -> Refreshing access token.\n",
      "2022-11-30 10:58:42,706-[INFO]- dropbox:474 -> Request to files/upload\n",
      "DATA/PRINCE\n",
      "2022-11-30 10:58:43,595-[INFO]- dropbox:390 -> Refreshing access token.\n",
      "2022-11-30 10:58:43,834-[INFO]- dropbox:474 -> Request to files/upload\n",
      "2022-11-30 10:58:45,438-[INFO]- dropbox:390 -> Refreshing access token.\n",
      "2022-11-30 10:58:45,671-[INFO]- dropbox:474 -> Request to files/upload\n",
      "2022-11-30 10:58:46,484-[INFO]- dropbox:390 -> Refreshing access token.\n",
      "2022-11-30 10:58:46,722-[INFO]- dropbox:474 -> Request to files/upload\n",
      "2022-11-30 10:58:47,927-[INFO]- dropbox:390 -> Refreshing access token.\n",
      "2022-11-30 10:58:48,162-[INFO]- dropbox:474 -> Request to files/upload\n",
      "DATA/PRINCE\n",
      "2022-11-30 10:58:49,328-[INFO]- dropbox:390 -> Refreshing access token.\n",
      "2022-11-30 10:58:49,556-[INFO]- dropbox:474 -> Request to files/upload\n",
      "2022-11-30 10:58:51,225-[INFO]- dropbox:390 -> Refreshing access token.\n",
      "2022-11-30 10:58:51,477-[INFO]- dropbox:474 -> Request to files/upload\n",
      "2022-11-30 10:58:52,386-[INFO]- dropbox:390 -> Refreshing access token.\n",
      "2022-11-30 10:58:52,647-[INFO]- dropbox:474 -> Request to files/upload\n",
      "2022-11-30 10:58:53,764-[INFO]- dropbox:390 -> Refreshing access token.\n",
      "2022-11-30 10:58:53,995-[INFO]- dropbox:474 -> Request to files/upload\n",
      "DATA/PRINCE\n",
      "2022-11-30 10:58:54,994-[INFO]- dropbox:390 -> Refreshing access token.\n",
      "2022-11-30 10:58:55,222-[INFO]- dropbox:474 -> Request to files/upload\n",
      "2022-11-30 10:58:56,699-[INFO]- dropbox:390 -> Refreshing access token.\n",
      "2022-11-30 10:58:56,934-[INFO]- dropbox:474 -> Request to files/upload\n",
      "2022-11-30 10:58:57,949-[INFO]- dropbox:390 -> Refreshing access token.\n",
      "2022-11-30 10:58:58,172-[INFO]- dropbox:474 -> Request to files/upload\n",
      "2022-11-30 10:58:59,178-[INFO]- dropbox:390 -> Refreshing access token.\n",
      "2022-11-30 10:58:59,402-[INFO]- dropbox:474 -> Request to files/upload\n",
      "DATA/PRINCE\n",
      "2022-11-30 10:59:00,426-[INFO]- dropbox:390 -> Refreshing access token.\n",
      "2022-11-30 10:59:00,664-[INFO]- dropbox:474 -> Request to files/upload\n",
      "2022-11-30 10:59:02,200-[INFO]- dropbox:390 -> Refreshing access token.\n",
      "2022-11-30 10:59:02,433-[INFO]- dropbox:474 -> Request to files/upload\n",
      "2022-11-30 10:59:03,316-[INFO]- dropbox:390 -> Refreshing access token.\n",
      "2022-11-30 10:59:03,586-[INFO]- dropbox:474 -> Request to files/upload\n",
      "2022-11-30 10:59:04,499-[INFO]- dropbox:390 -> Refreshing access token.\n",
      "2022-11-30 10:59:04,725-[INFO]- dropbox:474 -> Request to files/upload\n",
      "DATA/PRINCE\n",
      "2022-11-30 10:59:05,568-[INFO]- dropbox:390 -> Refreshing access token.\n",
      "2022-11-30 10:59:05,791-[INFO]- dropbox:474 -> Request to files/upload\n",
      "2022-11-30 10:59:07,426-[INFO]- dropbox:390 -> Refreshing access token.\n",
      "2022-11-30 10:59:07,655-[INFO]- dropbox:474 -> Request to files/upload\n",
      "2022-11-30 10:59:08,553-[INFO]- dropbox:390 -> Refreshing access token.\n",
      "2022-11-30 10:59:08,783-[INFO]- dropbox:474 -> Request to files/upload\n",
      "2022-11-30 10:59:09,883-[INFO]- dropbox:390 -> Refreshing access token.\n",
      "2022-11-30 10:59:10,205-[INFO]- dropbox:474 -> Request to files/upload\n",
      "DATA/PRINCE\n",
      "2022-11-30 10:59:11,192-[INFO]- dropbox:390 -> Refreshing access token.\n",
      "2022-11-30 10:59:11,428-[INFO]- dropbox:474 -> Request to files/upload\n",
      "2022-11-30 10:59:13,161-[INFO]- dropbox:390 -> Refreshing access token.\n",
      "2022-11-30 10:59:13,399-[INFO]- dropbox:474 -> Request to files/upload\n",
      "2022-11-30 10:59:14,599-[INFO]- dropbox:390 -> Refreshing access token.\n",
      "2022-11-30 10:59:14,826-[INFO]- dropbox:474 -> Request to files/upload\n",
      "2022-11-30 10:59:15,851-[INFO]- dropbox:390 -> Refreshing access token.\n",
      "2022-11-30 10:59:16,088-[INFO]- dropbox:474 -> Request to files/upload\n",
      "DATA/PRINCE\n",
      "2022-11-30 10:59:17,007-[INFO]- dropbox:390 -> Refreshing access token.\n",
      "2022-11-30 10:59:17,248-[INFO]- dropbox:474 -> Request to files/upload\n",
      "2022-11-30 10:59:18,541-[INFO]- dropbox:390 -> Refreshing access token.\n",
      "2022-11-30 10:59:18,763-[INFO]- dropbox:474 -> Request to files/upload\n",
      "2022-11-30 10:59:19,881-[INFO]- dropbox:390 -> Refreshing access token.\n",
      "2022-11-30 10:59:20,105-[INFO]- dropbox:474 -> Request to files/upload\n",
      "2022-11-30 10:59:21,017-[INFO]- dropbox:390 -> Refreshing access token.\n",
      "2022-11-30 10:59:21,270-[INFO]- dropbox:474 -> Request to files/upload\n",
      "DATA/PRINCE\n",
      "2022-11-30 10:59:22,445-[INFO]- dropbox:390 -> Refreshing access token.\n",
      "2022-11-30 10:59:22,664-[INFO]- dropbox:474 -> Request to files/upload\n",
      "2022-11-30 10:59:23,933-[INFO]- dropbox:390 -> Refreshing access token.\n",
      "2022-11-30 10:59:24,149-[INFO]- dropbox:474 -> Request to files/upload\n",
      "2022-11-30 10:59:25,083-[INFO]- dropbox:390 -> Refreshing access token.\n",
      "2022-11-30 10:59:25,315-[INFO]- dropbox:474 -> Request to files/upload\n",
      "2022-11-30 10:59:26,493-[INFO]- dropbox:390 -> Refreshing access token.\n",
      "2022-11-30 10:59:26,748-[INFO]- dropbox:474 -> Request to files/upload\n",
      "DATA/PRINCE\n",
      "2022-11-30 10:59:27,629-[INFO]- dropbox:390 -> Refreshing access token.\n",
      "2022-11-30 10:59:27,853-[INFO]- dropbox:474 -> Request to files/upload\n",
      "2022-11-30 10:59:29,120-[INFO]- dropbox:390 -> Refreshing access token.\n",
      "2022-11-30 10:59:29,335-[INFO]- dropbox:474 -> Request to files/upload\n",
      "2022-11-30 10:59:30,518-[INFO]- dropbox:390 -> Refreshing access token.\n",
      "2022-11-30 10:59:30,746-[INFO]- dropbox:474 -> Request to files/upload\n",
      "2022-11-30 10:59:31,823-[INFO]- dropbox:390 -> Refreshing access token.\n",
      "2022-11-30 10:59:32,059-[INFO]- dropbox:474 -> Request to files/upload\n",
      "DATA/PRINCE\n",
      "2022-11-30 10:59:33,103-[INFO]- dropbox:390 -> Refreshing access token.\n",
      "2022-11-30 10:59:33,319-[INFO]- dropbox:474 -> Request to files/upload\n",
      "2022-11-30 10:59:34,829-[INFO]- dropbox:390 -> Refreshing access token.\n",
      "2022-11-30 10:59:35,055-[INFO]- dropbox:474 -> Request to files/upload\n",
      "2022-11-30 10:59:35,961-[INFO]- dropbox:390 -> Refreshing access token.\n",
      "2022-11-30 10:59:36,195-[INFO]- dropbox:474 -> Request to files/upload\n",
      "2022-11-30 10:59:37,081-[INFO]- dropbox:390 -> Refreshing access token.\n",
      "2022-11-30 10:59:37,316-[INFO]- dropbox:474 -> Request to files/upload\n",
      "DATA/PRINCE\n",
      "2022-11-30 10:59:38,307-[INFO]- dropbox:390 -> Refreshing access token.\n",
      "2022-11-30 10:59:38,537-[INFO]- dropbox:474 -> Request to files/upload\n",
      "2022-11-30 10:59:39,887-[INFO]- dropbox:390 -> Refreshing access token.\n",
      "2022-11-30 10:59:40,136-[INFO]- dropbox:474 -> Request to files/upload\n",
      "2022-11-30 10:59:40,994-[INFO]- dropbox:390 -> Refreshing access token.\n",
      "2022-11-30 10:59:41,225-[INFO]- dropbox:474 -> Request to files/upload\n",
      "2022-11-30 10:59:42,182-[INFO]- dropbox:390 -> Refreshing access token.\n",
      "2022-11-30 10:59:42,408-[INFO]- dropbox:474 -> Request to files/upload\n",
      "DATA/PRINCE\n",
      "2022-11-30 10:59:43,239-[INFO]- dropbox:390 -> Refreshing access token.\n",
      "2022-11-30 10:59:43,482-[INFO]- dropbox:474 -> Request to files/upload\n",
      "2022-11-30 10:59:45,817-[INFO]- dropbox:390 -> Refreshing access token.\n",
      "2022-11-30 10:59:46,055-[INFO]- dropbox:474 -> Request to files/upload\n",
      "2022-11-30 10:59:47,114-[INFO]- dropbox:390 -> Refreshing access token.\n",
      "2022-11-30 10:59:47,342-[INFO]- dropbox:474 -> Request to files/upload\n",
      "2022-11-30 10:59:48,455-[INFO]- dropbox:390 -> Refreshing access token.\n",
      "2022-11-30 10:59:48,684-[INFO]- dropbox:474 -> Request to files/upload\n",
      "DATA/PRINCE\n",
      "2022-11-30 10:59:49,756-[INFO]- dropbox:390 -> Refreshing access token.\n",
      "2022-11-30 10:59:50,025-[INFO]- dropbox:474 -> Request to files/upload\n",
      "2022-11-30 10:59:51,594-[INFO]- dropbox:390 -> Refreshing access token.\n",
      "2022-11-30 10:59:51,817-[INFO]- dropbox:474 -> Request to files/upload\n",
      "2022-11-30 10:59:52,856-[INFO]- dropbox:390 -> Refreshing access token.\n",
      "2022-11-30 10:59:53,087-[INFO]- dropbox:474 -> Request to files/upload\n",
      "2022-11-30 10:59:54,118-[INFO]- dropbox:390 -> Refreshing access token.\n",
      "2022-11-30 10:59:54,344-[INFO]- dropbox:474 -> Request to files/upload\n",
      "DATA/PRINCE\n",
      "2022-11-30 10:59:55,470-[INFO]- dropbox:390 -> Refreshing access token.\n",
      "2022-11-30 10:59:55,715-[INFO]- dropbox:474 -> Request to files/upload\n",
      "2022-11-30 10:59:57,911-[INFO]- dropbox:390 -> Refreshing access token.\n",
      "2022-11-30 10:59:58,179-[INFO]- dropbox:474 -> Request to files/upload\n",
      "2022-11-30 10:59:59,320-[INFO]- dropbox:390 -> Refreshing access token.\n",
      "2022-11-30 10:59:59,550-[INFO]- dropbox:474 -> Request to files/upload\n",
      "2022-11-30 11:00:00,523-[INFO]- dropbox:390 -> Refreshing access token.\n",
      "2022-11-30 11:00:00,753-[INFO]- dropbox:474 -> Request to files/upload\n",
      "DATA/PRINCE\n",
      "2022-11-30 11:00:01,787-[INFO]- dropbox:390 -> Refreshing access token.\n",
      "2022-11-30 11:00:02,023-[INFO]- dropbox:474 -> Request to files/upload\n",
      "2022-11-30 11:00:03,490-[INFO]- dropbox:390 -> Refreshing access token.\n",
      "2022-11-30 11:00:03,723-[INFO]- dropbox:474 -> Request to files/upload\n",
      "2022-11-30 11:00:04,763-[INFO]- dropbox:390 -> Refreshing access token.\n",
      "2022-11-30 11:00:04,987-[INFO]- dropbox:474 -> Request to files/upload\n",
      "2022-11-30 11:00:05,866-[INFO]- dropbox:390 -> Refreshing access token.\n",
      "2022-11-30 11:00:06,117-[INFO]- dropbox:474 -> Request to files/upload\n",
      "DATA/PRINCE\n",
      "2022-11-30 11:00:07,669-[INFO]- dropbox:390 -> Refreshing access token.\n",
      "2022-11-30 11:00:07,896-[INFO]- dropbox:474 -> Request to files/upload\n",
      "2022-11-30 11:00:09,348-[INFO]- dropbox:390 -> Refreshing access token.\n",
      "2022-11-30 11:00:09,568-[INFO]- dropbox:474 -> Request to files/upload\n",
      "2022-11-30 11:00:10,381-[INFO]- dropbox:390 -> Refreshing access token.\n",
      "2022-11-30 11:00:10,667-[INFO]- dropbox:474 -> Request to files/upload\n",
      "2022-11-30 11:00:11,639-[INFO]- dropbox:390 -> Refreshing access token.\n",
      "2022-11-30 11:00:11,860-[INFO]- dropbox:474 -> Request to files/upload\n",
      "DATA/PRINCE\n",
      "2022-11-30 11:00:12,843-[INFO]- dropbox:390 -> Refreshing access token.\n",
      "2022-11-30 11:00:13,096-[INFO]- dropbox:474 -> Request to files/upload\n",
      "2022-11-30 11:00:14,318-[INFO]- dropbox:390 -> Refreshing access token.\n",
      "2022-11-30 11:00:14,552-[INFO]- dropbox:474 -> Request to files/upload\n",
      "2022-11-30 11:00:15,686-[INFO]- dropbox:390 -> Refreshing access token.\n",
      "2022-11-30 11:00:15,915-[INFO]- dropbox:474 -> Request to files/upload\n",
      "2022-11-30 11:00:17,029-[INFO]- dropbox:390 -> Refreshing access token.\n",
      "2022-11-30 11:00:17,254-[INFO]- dropbox:474 -> Request to files/upload\n",
      "DATA/PRINCE\n",
      "2022-11-30 11:00:18,113-[INFO]- dropbox:390 -> Refreshing access token.\n",
      "2022-11-30 11:00:18,337-[INFO]- dropbox:474 -> Request to files/upload\n",
      "2022-11-30 11:00:20,089-[INFO]- dropbox:390 -> Refreshing access token.\n",
      "2022-11-30 11:00:20,324-[INFO]- dropbox:474 -> Request to files/upload\n",
      "2022-11-30 11:00:21,706-[INFO]- dropbox:390 -> Refreshing access token.\n",
      "2022-11-30 11:00:21,946-[INFO]- dropbox:474 -> Request to files/upload\n",
      "2022-11-30 11:00:23,199-[INFO]- dropbox:390 -> Refreshing access token.\n",
      "2022-11-30 11:00:23,469-[INFO]- dropbox:474 -> Request to files/upload\n",
      "DATA/PRINCE\n",
      "2022-11-30 11:00:24,805-[INFO]- dropbox:390 -> Refreshing access token.\n",
      "2022-11-30 11:00:25,027-[INFO]- dropbox:474 -> Request to files/upload\n",
      "2022-11-30 11:00:26,352-[INFO]- dropbox:390 -> Refreshing access token.\n",
      "2022-11-30 11:00:26,588-[INFO]- dropbox:474 -> Request to files/upload\n",
      "2022-11-30 11:00:27,750-[INFO]- dropbox:390 -> Refreshing access token.\n",
      "2022-11-30 11:00:27,986-[INFO]- dropbox:474 -> Request to files/upload\n",
      "2022-11-30 11:00:29,017-[INFO]- dropbox:390 -> Refreshing access token.\n",
      "2022-11-30 11:00:29,259-[INFO]- dropbox:474 -> Request to files/upload\n",
      "DATA/PRINCE\n",
      "2022-11-30 11:00:30,383-[INFO]- dropbox:390 -> Refreshing access token.\n",
      "2022-11-30 11:00:30,612-[INFO]- dropbox:474 -> Request to files/upload\n",
      "2022-11-30 11:00:32,266-[INFO]- dropbox:390 -> Refreshing access token.\n",
      "2022-11-30 11:00:32,496-[INFO]- dropbox:474 -> Request to files/upload\n",
      "2022-11-30 11:00:33,545-[INFO]- dropbox:390 -> Refreshing access token.\n",
      "2022-11-30 11:00:33,771-[INFO]- dropbox:474 -> Request to files/upload\n",
      "2022-11-30 11:00:35,651-[INFO]- dropbox:390 -> Refreshing access token.\n",
      "2022-11-30 11:00:35,903-[INFO]- dropbox:474 -> Request to files/upload\n",
      "DATA/PRINCE\n",
      "2022-11-30 11:00:37,045-[INFO]- dropbox:390 -> Refreshing access token.\n",
      "2022-11-30 11:00:37,274-[INFO]- dropbox:474 -> Request to files/upload\n",
      "2022-11-30 11:00:39,207-[INFO]- dropbox:390 -> Refreshing access token.\n",
      "2022-11-30 11:00:39,433-[INFO]- dropbox:474 -> Request to files/upload\n",
      "2022-11-30 11:00:40,487-[INFO]- dropbox:390 -> Refreshing access token.\n",
      "2022-11-30 11:00:40,720-[INFO]- dropbox:474 -> Request to files/upload\n",
      "2022-11-30 11:00:42,093-[INFO]- dropbox:390 -> Refreshing access token.\n",
      "2022-11-30 11:00:42,319-[INFO]- dropbox:474 -> Request to files/upload\n",
      "DATA/PRINCE\n",
      "2022-11-30 11:00:43,213-[INFO]- dropbox:390 -> Refreshing access token.\n",
      "2022-11-30 11:00:43,461-[INFO]- dropbox:474 -> Request to files/upload\n",
      "2022-11-30 11:00:44,826-[INFO]- dropbox:390 -> Refreshing access token.\n",
      "2022-11-30 11:00:45,072-[INFO]- dropbox:474 -> Request to files/upload\n",
      "2022-11-30 11:00:45,949-[INFO]- dropbox:390 -> Refreshing access token.\n",
      "2022-11-30 11:00:46,180-[INFO]- dropbox:474 -> Request to files/upload\n",
      "2022-11-30 11:00:47,300-[INFO]- dropbox:390 -> Refreshing access token.\n",
      "2022-11-30 11:00:47,535-[INFO]- dropbox:474 -> Request to files/upload\n",
      "DATA/PRINCE\n",
      "2022-11-30 11:00:49,238-[INFO]- dropbox:390 -> Refreshing access token.\n",
      "2022-11-30 11:00:49,462-[INFO]- dropbox:474 -> Request to files/upload\n",
      "2022-11-30 11:00:50,910-[INFO]- dropbox:390 -> Refreshing access token.\n",
      "2022-11-30 11:00:51,162-[INFO]- dropbox:474 -> Request to files/upload\n",
      "2022-11-30 11:00:52,100-[INFO]- dropbox:390 -> Refreshing access token.\n",
      "2022-11-30 11:00:52,340-[INFO]- dropbox:474 -> Request to files/upload\n",
      "2022-11-30 11:00:53,302-[INFO]- dropbox:390 -> Refreshing access token.\n",
      "2022-11-30 11:00:53,535-[INFO]- dropbox:474 -> Request to files/upload\n",
      "DATA/PRINCE\n",
      "2022-11-30 11:00:54,580-[INFO]- dropbox:390 -> Refreshing access token.\n",
      "2022-11-30 11:00:54,843-[INFO]- dropbox:474 -> Request to files/upload\n",
      "2022-11-30 11:00:56,212-[INFO]- dropbox:390 -> Refreshing access token.\n",
      "2022-11-30 11:00:56,448-[INFO]- dropbox:474 -> Request to files/upload\n",
      "2022-11-30 11:00:57,256-[INFO]- dropbox:390 -> Refreshing access token.\n",
      "2022-11-30 11:00:57,484-[INFO]- dropbox:474 -> Request to files/upload\n",
      "2022-11-30 11:00:59,420-[INFO]- dropbox:390 -> Refreshing access token.\n",
      "2022-11-30 11:00:59,647-[INFO]- dropbox:474 -> Request to files/upload\n",
      "DATA/PRINCE\n",
      "2022-11-30 11:01:00,496-[INFO]- dropbox:390 -> Refreshing access token.\n",
      "2022-11-30 11:01:00,736-[INFO]- dropbox:474 -> Request to files/upload\n",
      "2022-11-30 11:01:02,227-[INFO]- dropbox:390 -> Refreshing access token.\n",
      "2022-11-30 11:01:02,763-[INFO]- dropbox:474 -> Request to files/upload\n",
      "2022-11-30 11:01:03,910-[INFO]- dropbox:390 -> Refreshing access token.\n",
      "2022-11-30 11:01:04,145-[INFO]- dropbox:474 -> Request to files/upload\n",
      "2022-11-30 11:01:05,234-[INFO]- dropbox:390 -> Refreshing access token.\n",
      "2022-11-30 11:01:05,471-[INFO]- dropbox:474 -> Request to files/upload\n",
      "DATA/PRINCE\n",
      "2022-11-30 11:01:06,496-[INFO]- dropbox:390 -> Refreshing access token.\n",
      "2022-11-30 11:01:06,722-[INFO]- dropbox:474 -> Request to files/upload\n",
      "2022-11-30 11:01:08,039-[INFO]- dropbox:390 -> Refreshing access token.\n",
      "2022-11-30 11:01:08,265-[INFO]- dropbox:474 -> Request to files/upload\n",
      "2022-11-30 11:01:09,424-[INFO]- dropbox:390 -> Refreshing access token.\n",
      "2022-11-30 11:01:09,654-[INFO]- dropbox:474 -> Request to files/upload\n",
      "2022-11-30 11:01:10,826-[INFO]- dropbox:390 -> Refreshing access token.\n",
      "2022-11-30 11:01:11,073-[INFO]- dropbox:474 -> Request to files/upload\n",
      "DATA/PRINCE\n",
      "2022-11-30 11:01:12,557-[INFO]- dropbox:390 -> Refreshing access token.\n",
      "2022-11-30 11:01:12,818-[INFO]- dropbox:474 -> Request to files/upload\n",
      "2022-11-30 11:01:14,312-[INFO]- dropbox:390 -> Refreshing access token.\n",
      "2022-11-30 11:01:14,529-[INFO]- dropbox:474 -> Request to files/upload\n",
      "2022-11-30 11:01:15,460-[INFO]- dropbox:390 -> Refreshing access token.\n",
      "2022-11-30 11:01:15,697-[INFO]- dropbox:474 -> Request to files/upload\n",
      "2022-11-30 11:01:16,569-[INFO]- dropbox:390 -> Refreshing access token.\n",
      "2022-11-30 11:01:16,798-[INFO]- dropbox:474 -> Request to files/upload\n",
      "DATA/PRINCE\n",
      "2022-11-30 11:01:17,745-[INFO]- dropbox:390 -> Refreshing access token.\n",
      "2022-11-30 11:01:17,982-[INFO]- dropbox:474 -> Request to files/upload\n",
      "2022-11-30 11:01:19,452-[INFO]- dropbox:390 -> Refreshing access token.\n",
      "2022-11-30 11:01:19,701-[INFO]- dropbox:474 -> Request to files/upload\n",
      "2022-11-30 11:01:20,888-[INFO]- dropbox:390 -> Refreshing access token.\n",
      "2022-11-30 11:01:21,113-[INFO]- dropbox:474 -> Request to files/upload\n",
      "2022-11-30 11:01:22,198-[INFO]- dropbox:390 -> Refreshing access token.\n",
      "2022-11-30 11:01:22,428-[INFO]- dropbox:474 -> Request to files/upload\n",
      "DATA/PRINCE\n",
      "2022-11-30 11:01:23,370-[INFO]- dropbox:390 -> Refreshing access token.\n",
      "2022-11-30 11:01:23,618-[INFO]- dropbox:474 -> Request to files/upload\n",
      "2022-11-30 11:01:25,169-[INFO]- dropbox:390 -> Refreshing access token.\n",
      "2022-11-30 11:01:25,395-[INFO]- dropbox:474 -> Request to files/upload\n",
      "2022-11-30 11:01:26,774-[INFO]- dropbox:390 -> Refreshing access token.\n",
      "2022-11-30 11:01:27,001-[INFO]- dropbox:474 -> Request to files/upload\n",
      "2022-11-30 11:01:27,854-[INFO]- dropbox:390 -> Refreshing access token.\n",
      "2022-11-30 11:01:28,090-[INFO]- dropbox:474 -> Request to files/upload\n",
      "DATA/PRINCE\n",
      "2022-11-30 11:01:29,129-[INFO]- dropbox:390 -> Refreshing access token.\n",
      "2022-11-30 11:01:29,355-[INFO]- dropbox:474 -> Request to files/upload\n",
      "2022-11-30 11:01:30,839-[INFO]- dropbox:390 -> Refreshing access token.\n",
      "2022-11-30 11:01:31,072-[INFO]- dropbox:474 -> Request to files/upload\n",
      "2022-11-30 11:01:32,200-[INFO]- dropbox:390 -> Refreshing access token.\n",
      "2022-11-30 11:01:32,423-[INFO]- dropbox:474 -> Request to files/upload\n",
      "2022-11-30 11:01:33,332-[INFO]- dropbox:390 -> Refreshing access token.\n",
      "2022-11-30 11:01:33,559-[INFO]- dropbox:474 -> Request to files/upload\n",
      "DATA/PRINCE\n",
      "2022-11-30 11:01:34,884-[INFO]- dropbox:390 -> Refreshing access token.\n",
      "2022-11-30 11:01:35,252-[INFO]- dropbox:474 -> Request to files/upload\n",
      "2022-11-30 11:01:36,840-[INFO]- dropbox:390 -> Refreshing access token.\n",
      "2022-11-30 11:01:37,069-[INFO]- dropbox:474 -> Request to files/upload\n",
      "2022-11-30 11:01:38,040-[INFO]- dropbox:390 -> Refreshing access token.\n",
      "2022-11-30 11:01:38,276-[INFO]- dropbox:474 -> Request to files/upload\n",
      "2022-11-30 11:01:39,304-[INFO]- dropbox:390 -> Refreshing access token.\n",
      "2022-11-30 11:01:39,527-[INFO]- dropbox:474 -> Request to files/upload\n",
      "DATA/PRINCE\n",
      "2022-11-30 11:01:40,572-[INFO]- dropbox:390 -> Refreshing access token.\n",
      "2022-11-30 11:01:40,813-[INFO]- dropbox:474 -> Request to files/upload\n",
      "2022-11-30 11:01:42,476-[INFO]- dropbox:390 -> Refreshing access token.\n",
      "2022-11-30 11:01:42,721-[INFO]- dropbox:474 -> Request to files/upload\n",
      "2022-11-30 11:01:43,938-[INFO]- dropbox:390 -> Refreshing access token.\n",
      "2022-11-30 11:01:44,161-[INFO]- dropbox:474 -> Request to files/upload\n",
      "2022-11-30 11:01:45,272-[INFO]- dropbox:390 -> Refreshing access token.\n",
      "2022-11-30 11:01:45,514-[INFO]- dropbox:474 -> Request to files/upload\n",
      "DATA/PRINCE\n",
      "2022-11-30 11:01:47,088-[INFO]- dropbox:390 -> Refreshing access token.\n",
      "2022-11-30 11:01:47,310-[INFO]- dropbox:474 -> Request to files/upload\n",
      "2022-11-30 11:01:48,888-[INFO]- dropbox:390 -> Refreshing access token.\n",
      "2022-11-30 11:01:49,111-[INFO]- dropbox:474 -> Request to files/upload\n",
      "2022-11-30 11:01:50,601-[INFO]- dropbox:390 -> Refreshing access token.\n",
      "2022-11-30 11:01:50,843-[INFO]- dropbox:474 -> Request to files/upload\n",
      "2022-11-30 11:01:52,038-[INFO]- dropbox:390 -> Refreshing access token.\n",
      "2022-11-30 11:01:52,280-[INFO]- dropbox:474 -> Request to files/upload\n",
      "DATA/PRINCE\n",
      "2022-11-30 11:01:53,215-[INFO]- dropbox:390 -> Refreshing access token.\n",
      "2022-11-30 11:01:53,446-[INFO]- dropbox:474 -> Request to files/upload\n",
      "2022-11-30 11:01:55,032-[INFO]- dropbox:390 -> Refreshing access token.\n",
      "2022-11-30 11:01:55,251-[INFO]- dropbox:474 -> Request to files/upload\n",
      "2022-11-30 11:01:56,208-[INFO]- dropbox:390 -> Refreshing access token.\n",
      "2022-11-30 11:01:56,429-[INFO]- dropbox:474 -> Request to files/upload\n",
      "2022-11-30 11:01:57,350-[INFO]- dropbox:390 -> Refreshing access token.\n",
      "2022-11-30 11:01:57,570-[INFO]- dropbox:474 -> Request to files/upload\n",
      "DATA/PRINCE\n",
      "2022-11-30 11:01:58,383-[INFO]- dropbox:390 -> Refreshing access token.\n",
      "2022-11-30 11:01:58,625-[INFO]- dropbox:474 -> Request to files/upload\n",
      "2022-11-30 11:02:00,120-[INFO]- dropbox:390 -> Refreshing access token.\n",
      "2022-11-30 11:02:00,359-[INFO]- dropbox:474 -> Request to files/upload\n",
      "2022-11-30 11:02:01,260-[INFO]- dropbox:390 -> Refreshing access token.\n",
      "2022-11-30 11:02:01,480-[INFO]- dropbox:474 -> Request to files/upload\n",
      "2022-11-30 11:02:02,411-[INFO]- dropbox:390 -> Refreshing access token.\n",
      "2022-11-30 11:02:02,645-[INFO]- dropbox:474 -> Request to files/upload\n",
      "DATA/PRINCE\n",
      "2022-11-30 11:02:03,739-[INFO]- dropbox:390 -> Refreshing access token.\n",
      "2022-11-30 11:02:03,960-[INFO]- dropbox:474 -> Request to files/upload\n",
      "2022-11-30 11:02:05,163-[INFO]- dropbox:390 -> Refreshing access token.\n",
      "2022-11-30 11:02:05,408-[INFO]- dropbox:474 -> Request to files/upload\n",
      "2022-11-30 11:02:06,475-[INFO]- dropbox:390 -> Refreshing access token.\n",
      "2022-11-30 11:02:06,723-[INFO]- dropbox:474 -> Request to files/upload\n",
      "2022-11-30 11:02:07,801-[INFO]- dropbox:390 -> Refreshing access token.\n",
      "2022-11-30 11:02:08,035-[INFO]- dropbox:474 -> Request to files/upload\n",
      "DATA/PRINCE\n",
      "2022-11-30 11:02:09,072-[INFO]- dropbox:390 -> Refreshing access token.\n",
      "2022-11-30 11:02:09,299-[INFO]- dropbox:474 -> Request to files/upload\n",
      "2022-11-30 11:02:10,821-[INFO]- dropbox:390 -> Refreshing access token.\n",
      "2022-11-30 11:02:11,084-[INFO]- dropbox:474 -> Request to files/upload\n",
      "2022-11-30 11:02:12,018-[INFO]- dropbox:390 -> Refreshing access token.\n",
      "2022-11-30 11:02:12,285-[INFO]- dropbox:474 -> Request to files/upload\n",
      "2022-11-30 11:02:17,357-[INFO]- dropbox:390 -> Refreshing access token.\n",
      "2022-11-30 11:02:17,615-[INFO]- dropbox:474 -> Request to files/upload\n",
      "DATA/PRINCE\n",
      "2022-11-30 11:02:19,275-[INFO]- dropbox:390 -> Refreshing access token.\n",
      "2022-11-30 11:02:19,515-[INFO]- dropbox:474 -> Request to files/upload\n",
      "2022-11-30 11:02:21,065-[INFO]- dropbox:390 -> Refreshing access token.\n",
      "2022-11-30 11:02:21,313-[INFO]- dropbox:474 -> Request to files/upload\n",
      "2022-11-30 11:02:22,522-[INFO]- dropbox:390 -> Refreshing access token.\n",
      "2022-11-30 11:02:22,747-[INFO]- dropbox:474 -> Request to files/upload\n",
      "2022-11-30 11:02:23,702-[INFO]- dropbox:390 -> Refreshing access token.\n",
      "2022-11-30 11:02:23,927-[INFO]- dropbox:474 -> Request to files/upload\n",
      "DATA/PRINCE\n",
      "2022-11-30 11:02:25,051-[INFO]- dropbox:390 -> Refreshing access token.\n",
      "2022-11-30 11:02:25,274-[INFO]- dropbox:474 -> Request to files/upload\n",
      "2022-11-30 11:02:26,816-[INFO]- dropbox:390 -> Refreshing access token.\n",
      "2022-11-30 11:02:27,044-[INFO]- dropbox:474 -> Request to files/upload\n",
      "2022-11-30 11:02:28,206-[INFO]- dropbox:390 -> Refreshing access token.\n",
      "2022-11-30 11:02:28,469-[INFO]- dropbox:474 -> Request to files/upload\n",
      "2022-11-30 11:02:29,305-[INFO]- dropbox:390 -> Refreshing access token.\n",
      "2022-11-30 11:02:29,542-[INFO]- dropbox:474 -> Request to files/upload\n",
      "DATA/PRINCE\n",
      "2022-11-30 11:02:30,599-[INFO]- dropbox:390 -> Refreshing access token.\n",
      "2022-11-30 11:02:30,869-[INFO]- dropbox:474 -> Request to files/upload\n",
      "2022-11-30 11:02:33,013-[INFO]- dropbox:390 -> Refreshing access token.\n",
      "2022-11-30 11:02:33,243-[INFO]- dropbox:474 -> Request to files/upload\n",
      "2022-11-30 11:02:34,306-[INFO]- dropbox:390 -> Refreshing access token.\n",
      "2022-11-30 11:02:34,531-[INFO]- dropbox:474 -> Request to files/upload\n",
      "2022-11-30 11:02:35,519-[INFO]- dropbox:390 -> Refreshing access token.\n",
      "2022-11-30 11:02:35,763-[INFO]- dropbox:474 -> Request to files/upload\n",
      "DATA/PRINCE\n",
      "2022-11-30 11:02:36,721-[INFO]- dropbox:390 -> Refreshing access token.\n",
      "2022-11-30 11:02:36,946-[INFO]- dropbox:474 -> Request to files/upload\n",
      "2022-11-30 11:02:39,094-[INFO]- dropbox:390 -> Refreshing access token.\n",
      "2022-11-30 11:02:39,318-[INFO]- dropbox:474 -> Request to files/upload\n",
      "2022-11-30 11:02:40,187-[INFO]- dropbox:390 -> Refreshing access token.\n",
      "2022-11-30 11:02:40,414-[INFO]- dropbox:474 -> Request to files/upload\n",
      "2022-11-30 11:02:41,287-[INFO]- dropbox:390 -> Refreshing access token.\n",
      "2022-11-30 11:02:41,589-[INFO]- dropbox:474 -> Request to files/upload\n",
      "DATA/PRINCE\n",
      "2022-11-30 11:02:42,729-[INFO]- dropbox:390 -> Refreshing access token.\n",
      "2022-11-30 11:02:42,959-[INFO]- dropbox:474 -> Request to files/upload\n",
      "2022-11-30 11:02:44,710-[INFO]- dropbox:390 -> Refreshing access token.\n",
      "2022-11-30 11:02:44,955-[INFO]- dropbox:474 -> Request to files/upload\n",
      "2022-11-30 11:02:46,163-[INFO]- dropbox:390 -> Refreshing access token.\n",
      "2022-11-30 11:02:46,390-[INFO]- dropbox:474 -> Request to files/upload\n",
      "2022-11-30 11:02:47,275-[INFO]- dropbox:390 -> Refreshing access token.\n",
      "2022-11-30 11:02:47,499-[INFO]- dropbox:474 -> Request to files/upload\n",
      "DATA/PRINCE\n",
      "2022-11-30 11:02:48,732-[INFO]- dropbox:390 -> Refreshing access token.\n",
      "2022-11-30 11:02:48,958-[INFO]- dropbox:474 -> Request to files/upload\n",
      "2022-11-30 11:02:50,364-[INFO]- dropbox:390 -> Refreshing access token.\n",
      "2022-11-30 11:02:50,590-[INFO]- dropbox:474 -> Request to files/upload\n",
      "2022-11-30 11:02:51,662-[INFO]- dropbox:390 -> Refreshing access token.\n",
      "2022-11-30 11:02:51,907-[INFO]- dropbox:474 -> Request to files/upload\n",
      "2022-11-30 11:02:52,786-[INFO]- dropbox:390 -> Refreshing access token.\n",
      "2022-11-30 11:02:53,018-[INFO]- dropbox:474 -> Request to files/upload\n",
      "DATA/PRINCE\n",
      "2022-11-30 11:02:53,998-[INFO]- dropbox:390 -> Refreshing access token.\n",
      "2022-11-30 11:02:54,223-[INFO]- dropbox:474 -> Request to files/upload\n",
      "2022-11-30 11:02:55,719-[INFO]- dropbox:390 -> Refreshing access token.\n",
      "2022-11-30 11:02:55,953-[INFO]- dropbox:474 -> Request to files/upload\n",
      "2022-11-30 11:02:57,112-[INFO]- dropbox:390 -> Refreshing access token.\n",
      "2022-11-30 11:02:57,381-[INFO]- dropbox:474 -> Request to files/upload\n",
      "2022-11-30 11:02:58,834-[INFO]- dropbox:390 -> Refreshing access token.\n",
      "2022-11-30 11:02:59,090-[INFO]- dropbox:474 -> Request to files/upload\n",
      "DATA/PRINCE\n",
      "2022-11-30 11:03:00,426-[INFO]- dropbox:390 -> Refreshing access token.\n",
      "2022-11-30 11:03:00,674-[INFO]- dropbox:474 -> Request to files/upload\n",
      "2022-11-30 11:03:02,153-[INFO]- dropbox:390 -> Refreshing access token.\n",
      "2022-11-30 11:03:02,390-[INFO]- dropbox:474 -> Request to files/upload\n",
      "2022-11-30 11:03:03,388-[INFO]- dropbox:390 -> Refreshing access token.\n",
      "2022-11-30 11:03:03,616-[INFO]- dropbox:474 -> Request to files/upload\n",
      "2022-11-30 11:03:04,863-[INFO]- dropbox:390 -> Refreshing access token.\n",
      "2022-11-30 11:03:05,088-[INFO]- dropbox:474 -> Request to files/upload\n",
      "DATA/PRINCE\n",
      "2022-11-30 11:03:06,064-[INFO]- dropbox:390 -> Refreshing access token.\n",
      "2022-11-30 11:03:06,298-[INFO]- dropbox:474 -> Request to files/upload\n",
      "2022-11-30 11:03:07,620-[INFO]- dropbox:390 -> Refreshing access token.\n",
      "2022-11-30 11:03:07,864-[INFO]- dropbox:474 -> Request to files/upload\n",
      "2022-11-30 11:03:08,742-[INFO]- dropbox:390 -> Refreshing access token.\n",
      "2022-11-30 11:03:08,998-[INFO]- dropbox:474 -> Request to files/upload\n",
      "2022-11-30 11:03:10,192-[INFO]- dropbox:390 -> Refreshing access token.\n",
      "2022-11-30 11:03:10,417-[INFO]- dropbox:474 -> Request to files/upload\n",
      "DATA/PRINCE\n",
      "2022-11-30 11:03:11,480-[INFO]- dropbox:390 -> Refreshing access token.\n",
      "2022-11-30 11:03:11,741-[INFO]- dropbox:474 -> Request to files/upload\n",
      "2022-11-30 11:03:13,185-[INFO]- dropbox:390 -> Refreshing access token.\n",
      "2022-11-30 11:03:13,423-[INFO]- dropbox:474 -> Request to files/upload\n",
      "2022-11-30 11:03:14,363-[INFO]- dropbox:390 -> Refreshing access token.\n",
      "2022-11-30 11:03:14,593-[INFO]- dropbox:474 -> Request to files/upload\n",
      "2022-11-30 11:03:15,915-[INFO]- dropbox:390 -> Refreshing access token.\n",
      "2022-11-30 11:03:16,137-[INFO]- dropbox:474 -> Request to files/upload\n",
      "DATA/PRINCE\n",
      "2022-11-30 11:03:17,011-[INFO]- dropbox:390 -> Refreshing access token.\n",
      "2022-11-30 11:03:17,311-[INFO]- dropbox:474 -> Request to files/upload\n",
      "2022-11-30 11:03:18,598-[INFO]- dropbox:390 -> Refreshing access token.\n",
      "2022-11-30 11:03:18,827-[INFO]- dropbox:474 -> Request to files/upload\n",
      "2022-11-30 11:03:19,705-[INFO]- dropbox:390 -> Refreshing access token.\n",
      "2022-11-30 11:03:19,945-[INFO]- dropbox:474 -> Request to files/upload\n",
      "2022-11-30 11:03:20,899-[INFO]- dropbox:390 -> Refreshing access token.\n",
      "2022-11-30 11:03:21,144-[INFO]- dropbox:474 -> Request to files/upload\n",
      "DATA/PRINCE\n",
      "2022-11-30 11:03:22,295-[INFO]- dropbox:390 -> Refreshing access token.\n",
      "2022-11-30 11:03:22,520-[INFO]- dropbox:474 -> Request to files/upload\n",
      "2022-11-30 11:03:23,950-[INFO]- dropbox:390 -> Refreshing access token.\n",
      "2022-11-30 11:03:24,184-[INFO]- dropbox:474 -> Request to files/upload\n",
      "2022-11-30 11:03:25,251-[INFO]- dropbox:390 -> Refreshing access token.\n",
      "2022-11-30 11:03:25,474-[INFO]- dropbox:474 -> Request to files/upload\n",
      "2022-11-30 11:03:26,538-[INFO]- dropbox:390 -> Refreshing access token.\n",
      "2022-11-30 11:03:26,761-[INFO]- dropbox:474 -> Request to files/upload\n",
      "DATA/PRINCE\n",
      "2022-11-30 11:03:27,926-[INFO]- dropbox:390 -> Refreshing access token.\n",
      "2022-11-30 11:03:28,162-[INFO]- dropbox:474 -> Request to files/upload\n",
      "2022-11-30 11:03:30,181-[INFO]- dropbox:390 -> Refreshing access token.\n",
      "2022-11-30 11:03:30,412-[INFO]- dropbox:474 -> Request to files/upload\n",
      "2022-11-30 11:03:31,598-[INFO]- dropbox:390 -> Refreshing access token.\n",
      "2022-11-30 11:03:31,842-[INFO]- dropbox:474 -> Request to files/upload\n",
      "2022-11-30 11:03:33,037-[INFO]- dropbox:390 -> Refreshing access token.\n",
      "2022-11-30 11:03:33,257-[INFO]- dropbox:474 -> Request to files/upload\n",
      "DATA/PRINCE\n",
      "2022-11-30 11:03:34,590-[INFO]- dropbox:390 -> Refreshing access token.\n",
      "2022-11-30 11:03:34,820-[INFO]- dropbox:474 -> Request to files/upload\n",
      "2022-11-30 11:03:36,189-[INFO]- dropbox:390 -> Refreshing access token.\n",
      "2022-11-30 11:03:36,418-[INFO]- dropbox:474 -> Request to files/upload\n",
      "2022-11-30 11:03:37,430-[INFO]- dropbox:390 -> Refreshing access token.\n",
      "2022-11-30 11:03:37,669-[INFO]- dropbox:474 -> Request to files/upload\n",
      "2022-11-30 11:03:38,829-[INFO]- dropbox:390 -> Refreshing access token.\n",
      "2022-11-30 11:03:39,075-[INFO]- dropbox:474 -> Request to files/upload\n",
      "DATA/PRINCE\n",
      "2022-11-30 11:03:40,141-[INFO]- dropbox:390 -> Refreshing access token.\n",
      "2022-11-30 11:03:40,368-[INFO]- dropbox:474 -> Request to files/upload\n",
      "2022-11-30 11:03:41,788-[INFO]- dropbox:390 -> Refreshing access token.\n",
      "2022-11-30 11:03:42,006-[INFO]- dropbox:474 -> Request to files/upload\n",
      "2022-11-30 11:03:43,128-[INFO]- dropbox:390 -> Refreshing access token.\n",
      "2022-11-30 11:03:43,362-[INFO]- dropbox:474 -> Request to files/upload\n",
      "2022-11-30 11:03:44,454-[INFO]- dropbox:390 -> Refreshing access token.\n",
      "2022-11-30 11:03:44,678-[INFO]- dropbox:474 -> Request to files/upload\n",
      "DATA/PRINCE\n",
      "2022-11-30 11:03:45,888-[INFO]- dropbox:390 -> Refreshing access token.\n",
      "2022-11-30 11:03:46,116-[INFO]- dropbox:474 -> Request to files/upload\n",
      "2022-11-30 11:03:47,586-[INFO]- dropbox:390 -> Refreshing access token.\n",
      "2022-11-30 11:03:47,810-[INFO]- dropbox:474 -> Request to files/upload\n",
      "2022-11-30 11:03:48,857-[INFO]- dropbox:390 -> Refreshing access token.\n",
      "2022-11-30 11:03:49,093-[INFO]- dropbox:474 -> Request to files/upload\n",
      "2022-11-30 11:03:50,162-[INFO]- dropbox:390 -> Refreshing access token.\n",
      "2022-11-30 11:03:50,387-[INFO]- dropbox:474 -> Request to files/upload\n",
      "DATA/PRINCE\n",
      "2022-11-30 11:03:51,610-[INFO]- dropbox:390 -> Refreshing access token.\n",
      "2022-11-30 11:03:51,843-[INFO]- dropbox:474 -> Request to files/upload\n",
      "2022-11-30 11:03:53,315-[INFO]- dropbox:390 -> Refreshing access token.\n",
      "2022-11-30 11:03:53,537-[INFO]- dropbox:474 -> Request to files/upload\n",
      "2022-11-30 11:03:54,912-[INFO]- dropbox:390 -> Refreshing access token.\n",
      "2022-11-30 11:03:55,134-[INFO]- dropbox:474 -> Request to files/upload\n",
      "2022-11-30 11:03:56,077-[INFO]- dropbox:390 -> Refreshing access token.\n",
      "2022-11-30 11:03:56,314-[INFO]- dropbox:474 -> Request to files/upload\n",
      "DATA/PRINCE\n",
      "2022-11-30 11:03:57,634-[INFO]- dropbox:390 -> Refreshing access token.\n",
      "2022-11-30 11:03:57,892-[INFO]- dropbox:474 -> Request to files/upload\n",
      "2022-11-30 11:03:59,125-[INFO]- dropbox:390 -> Refreshing access token.\n",
      "2022-11-30 11:03:59,352-[INFO]- dropbox:474 -> Request to files/upload\n",
      "2022-11-30 11:04:00,393-[INFO]- dropbox:390 -> Refreshing access token.\n",
      "2022-11-30 11:04:00,613-[INFO]- dropbox:474 -> Request to files/upload\n",
      "2022-11-30 11:04:01,808-[INFO]- dropbox:390 -> Refreshing access token.\n",
      "2022-11-30 11:04:02,057-[INFO]- dropbox:474 -> Request to files/upload\n",
      "DATA/PRINCE\n",
      "2022-11-30 11:04:03,219-[INFO]- dropbox:390 -> Refreshing access token.\n",
      "2022-11-30 11:04:03,437-[INFO]- dropbox:474 -> Request to files/upload\n",
      "2022-11-30 11:04:04,820-[INFO]- dropbox:390 -> Refreshing access token.\n",
      "2022-11-30 11:04:05,052-[INFO]- dropbox:474 -> Request to files/upload\n",
      "2022-11-30 11:04:06,135-[INFO]- dropbox:390 -> Refreshing access token.\n",
      "2022-11-30 11:04:06,351-[INFO]- dropbox:474 -> Request to files/upload\n",
      "2022-11-30 11:04:08,602-[INFO]- dropbox:390 -> Refreshing access token.\n",
      "2022-11-30 11:04:08,821-[INFO]- dropbox:474 -> Request to files/upload\n",
      "DATA/PRINCE\n",
      "2022-11-30 11:04:10,392-[INFO]- dropbox:390 -> Refreshing access token.\n",
      "2022-11-30 11:04:10,628-[INFO]- dropbox:474 -> Request to files/upload\n",
      "2022-11-30 11:04:12,135-[INFO]- dropbox:390 -> Refreshing access token.\n",
      "2022-11-30 11:04:12,441-[INFO]- dropbox:474 -> Request to files/upload\n",
      "2022-11-30 11:04:13,384-[INFO]- dropbox:390 -> Refreshing access token.\n",
      "2022-11-30 11:04:13,609-[INFO]- dropbox:474 -> Request to files/upload\n",
      "2022-11-30 11:04:14,546-[INFO]- dropbox:390 -> Refreshing access token.\n",
      "2022-11-30 11:04:14,849-[INFO]- dropbox:474 -> Request to files/upload\n",
      "DATA/PRINCE\n",
      "2022-11-30 11:04:15,767-[INFO]- dropbox:390 -> Refreshing access token.\n",
      "2022-11-30 11:04:15,993-[INFO]- dropbox:474 -> Request to files/upload\n",
      "2022-11-30 11:04:17,456-[INFO]- dropbox:390 -> Refreshing access token.\n",
      "2022-11-30 11:04:17,689-[INFO]- dropbox:474 -> Request to files/upload\n",
      "2022-11-30 11:04:18,547-[INFO]- dropbox:390 -> Refreshing access token.\n",
      "2022-11-30 11:04:18,782-[INFO]- dropbox:474 -> Request to files/upload\n",
      "2022-11-30 11:04:20,384-[INFO]- dropbox:390 -> Refreshing access token.\n",
      "2022-11-30 11:04:20,617-[INFO]- dropbox:474 -> Request to files/upload\n",
      "DATA/PRINCE\n",
      "2022-11-30 11:04:21,702-[INFO]- dropbox:390 -> Refreshing access token.\n",
      "2022-11-30 11:04:21,928-[INFO]- dropbox:474 -> Request to files/upload\n",
      "2022-11-30 11:04:23,161-[INFO]- dropbox:390 -> Refreshing access token.\n",
      "2022-11-30 11:04:23,422-[INFO]- dropbox:474 -> Request to files/upload\n",
      "2022-11-30 11:04:24,382-[INFO]- dropbox:390 -> Refreshing access token.\n",
      "2022-11-30 11:04:24,602-[INFO]- dropbox:474 -> Request to files/upload\n",
      "2022-11-30 11:04:25,815-[INFO]- dropbox:390 -> Refreshing access token.\n",
      "2022-11-30 11:04:26,043-[INFO]- dropbox:474 -> Request to files/upload\n",
      "DATA/PRINCE\n",
      "2022-11-30 11:04:26,889-[INFO]- dropbox:390 -> Refreshing access token.\n",
      "2022-11-30 11:04:27,115-[INFO]- dropbox:474 -> Request to files/upload\n",
      "2022-11-30 11:04:28,458-[INFO]- dropbox:390 -> Refreshing access token.\n",
      "2022-11-30 11:04:28,678-[INFO]- dropbox:474 -> Request to files/upload\n",
      "2022-11-30 11:04:29,621-[INFO]- dropbox:390 -> Refreshing access token.\n",
      "2022-11-30 11:04:29,843-[INFO]- dropbox:474 -> Request to files/upload\n",
      "2022-11-30 11:04:30,943-[INFO]- dropbox:390 -> Refreshing access token.\n",
      "2022-11-30 11:04:31,174-[INFO]- dropbox:474 -> Request to files/upload\n",
      "DATA/PRINCE\n",
      "2022-11-30 11:04:32,252-[INFO]- dropbox:390 -> Refreshing access token.\n",
      "2022-11-30 11:04:32,480-[INFO]- dropbox:474 -> Request to files/upload\n",
      "2022-11-30 11:04:34,086-[INFO]- dropbox:390 -> Refreshing access token.\n",
      "2022-11-30 11:04:34,332-[INFO]- dropbox:474 -> Request to files/upload\n",
      "2022-11-30 11:04:35,301-[INFO]- dropbox:390 -> Refreshing access token.\n",
      "2022-11-30 11:04:35,526-[INFO]- dropbox:474 -> Request to files/upload\n",
      "2022-11-30 11:04:36,522-[INFO]- dropbox:390 -> Refreshing access token.\n",
      "2022-11-30 11:04:36,789-[INFO]- dropbox:474 -> Request to files/upload\n",
      "DATA/PRINCE\n",
      "2022-11-30 11:04:37,763-[INFO]- dropbox:390 -> Refreshing access token.\n",
      "2022-11-30 11:04:38,006-[INFO]- dropbox:474 -> Request to files/upload\n",
      "2022-11-30 11:04:39,848-[INFO]- dropbox:390 -> Refreshing access token.\n",
      "2022-11-30 11:04:40,068-[INFO]- dropbox:474 -> Request to files/upload\n",
      "2022-11-30 11:04:40,981-[INFO]- dropbox:390 -> Refreshing access token.\n",
      "2022-11-30 11:04:41,226-[INFO]- dropbox:474 -> Request to files/upload\n",
      "2022-11-30 11:04:42,064-[INFO]- dropbox:390 -> Refreshing access token.\n",
      "2022-11-30 11:04:42,299-[INFO]- dropbox:474 -> Request to files/upload\n",
      "DATA/PRINCE\n",
      "2022-11-30 11:04:43,268-[INFO]- dropbox:390 -> Refreshing access token.\n",
      "2022-11-30 11:04:43,495-[INFO]- dropbox:474 -> Request to files/upload\n",
      "2022-11-30 11:04:45,339-[INFO]- dropbox:390 -> Refreshing access token.\n",
      "2022-11-30 11:04:45,578-[INFO]- dropbox:474 -> Request to files/upload\n",
      "2022-11-30 11:04:46,595-[INFO]- dropbox:390 -> Refreshing access token.\n",
      "2022-11-30 11:04:46,824-[INFO]- dropbox:474 -> Request to files/upload\n",
      "2022-11-30 11:04:47,850-[INFO]- dropbox:390 -> Refreshing access token.\n",
      "2022-11-30 11:04:48,083-[INFO]- dropbox:474 -> Request to files/upload\n",
      "DATA/PRINCE\n",
      "2022-11-30 11:04:49,075-[INFO]- dropbox:390 -> Refreshing access token.\n",
      "2022-11-30 11:04:49,304-[INFO]- dropbox:474 -> Request to files/upload\n",
      "2022-11-30 11:04:50,945-[INFO]- dropbox:390 -> Refreshing access token.\n",
      "2022-11-30 11:04:51,173-[INFO]- dropbox:474 -> Request to files/upload\n",
      "2022-11-30 11:04:52,476-[INFO]- dropbox:390 -> Refreshing access token.\n",
      "2022-11-30 11:04:52,735-[INFO]- dropbox:474 -> Request to files/upload\n",
      "2022-11-30 11:04:53,577-[INFO]- dropbox:390 -> Refreshing access token.\n",
      "2022-11-30 11:04:53,823-[INFO]- dropbox:474 -> Request to files/upload\n",
      "DATA/PRINCE\n",
      "2022-11-30 11:04:54,726-[INFO]- dropbox:390 -> Refreshing access token.\n",
      "2022-11-30 11:04:55,013-[INFO]- dropbox:474 -> Request to files/upload\n",
      "2022-11-30 11:04:56,826-[INFO]- dropbox:390 -> Refreshing access token.\n",
      "2022-11-30 11:04:57,067-[INFO]- dropbox:474 -> Request to files/upload\n",
      "2022-11-30 11:04:58,066-[INFO]- dropbox:390 -> Refreshing access token.\n",
      "2022-11-30 11:04:58,305-[INFO]- dropbox:474 -> Request to files/upload\n",
      "2022-11-30 11:04:59,389-[INFO]- dropbox:390 -> Refreshing access token.\n",
      "2022-11-30 11:04:59,609-[INFO]- dropbox:474 -> Request to files/upload\n",
      "DATA/PRINCE\n",
      "2022-11-30 11:05:00,669-[INFO]- dropbox:390 -> Refreshing access token.\n",
      "2022-11-30 11:05:00,894-[INFO]- dropbox:474 -> Request to files/upload\n",
      "2022-11-30 11:05:02,412-[INFO]- dropbox:390 -> Refreshing access token.\n",
      "2022-11-30 11:05:02,644-[INFO]- dropbox:474 -> Request to files/upload\n",
      "2022-11-30 11:05:03,713-[INFO]- dropbox:390 -> Refreshing access token.\n",
      "2022-11-30 11:05:03,951-[INFO]- dropbox:474 -> Request to files/upload\n",
      "2022-11-30 11:05:05,123-[INFO]- dropbox:390 -> Refreshing access token.\n",
      "2022-11-30 11:05:05,346-[INFO]- dropbox:474 -> Request to files/upload\n",
      "DATA/PRINCE\n",
      "2022-11-30 11:05:06,675-[INFO]- dropbox:390 -> Refreshing access token.\n",
      "2022-11-30 11:05:06,931-[INFO]- dropbox:474 -> Request to files/upload\n",
      "2022-11-30 11:05:09,007-[INFO]- dropbox:390 -> Refreshing access token.\n",
      "2022-11-30 11:05:09,252-[INFO]- dropbox:474 -> Request to files/upload\n",
      "2022-11-30 11:05:10,207-[INFO]- dropbox:390 -> Refreshing access token.\n",
      "2022-11-30 11:05:10,431-[INFO]- dropbox:474 -> Request to files/upload\n",
      "2022-11-30 11:05:11,699-[INFO]- dropbox:390 -> Refreshing access token.\n",
      "2022-11-30 11:05:11,926-[INFO]- dropbox:474 -> Request to files/upload\n",
      "DATA/PRINCE\n",
      "2022-11-30 11:05:12,969-[INFO]- dropbox:390 -> Refreshing access token.\n",
      "2022-11-30 11:05:13,198-[INFO]- dropbox:474 -> Request to files/upload\n",
      "2022-11-30 11:05:14,839-[INFO]- dropbox:390 -> Refreshing access token.\n",
      "2022-11-30 11:05:15,079-[INFO]- dropbox:474 -> Request to files/upload\n",
      "2022-11-30 11:05:16,074-[INFO]- dropbox:390 -> Refreshing access token.\n",
      "2022-11-30 11:05:16,292-[INFO]- dropbox:474 -> Request to files/upload\n",
      "2022-11-30 11:05:17,147-[INFO]- dropbox:390 -> Refreshing access token.\n",
      "2022-11-30 11:05:17,402-[INFO]- dropbox:474 -> Request to files/upload\n",
      "DATA/PRINCE\n",
      "2022-11-30 11:05:18,511-[INFO]- dropbox:390 -> Refreshing access token.\n",
      "2022-11-30 11:05:18,739-[INFO]- dropbox:474 -> Request to files/upload\n",
      "2022-11-30 11:05:20,254-[INFO]- dropbox:390 -> Refreshing access token.\n",
      "2022-11-30 11:05:20,484-[INFO]- dropbox:474 -> Request to files/upload\n",
      "2022-11-30 11:05:21,566-[INFO]- dropbox:390 -> Refreshing access token.\n",
      "2022-11-30 11:05:21,788-[INFO]- dropbox:474 -> Request to files/upload\n",
      "2022-11-30 11:05:22,654-[INFO]- dropbox:390 -> Refreshing access token.\n",
      "2022-11-30 11:05:22,876-[INFO]- dropbox:474 -> Request to files/upload\n",
      "DATA/PRINCE\n",
      "2022-11-30 11:05:23,781-[INFO]- dropbox:390 -> Refreshing access token.\n",
      "2022-11-30 11:05:24,003-[INFO]- dropbox:474 -> Request to files/upload\n",
      "2022-11-30 11:05:25,341-[INFO]- dropbox:390 -> Refreshing access token.\n",
      "2022-11-30 11:05:25,564-[INFO]- dropbox:474 -> Request to files/upload\n",
      "2022-11-30 11:05:26,637-[INFO]- dropbox:390 -> Refreshing access token.\n",
      "2022-11-30 11:05:26,861-[INFO]- dropbox:474 -> Request to files/upload\n",
      "2022-11-30 11:05:27,753-[INFO]- dropbox:390 -> Refreshing access token.\n",
      "2022-11-30 11:05:27,970-[INFO]- dropbox:474 -> Request to files/upload\n",
      "DATA/PRINCE\n",
      "2022-11-30 11:05:28,992-[INFO]- dropbox:390 -> Refreshing access token.\n",
      "2022-11-30 11:05:29,233-[INFO]- dropbox:474 -> Request to files/upload\n",
      "2022-11-30 11:05:30,937-[INFO]- dropbox:390 -> Refreshing access token.\n",
      "2022-11-30 11:05:31,163-[INFO]- dropbox:474 -> Request to files/upload\n",
      "2022-11-30 11:05:32,173-[INFO]- dropbox:390 -> Refreshing access token.\n",
      "2022-11-30 11:05:32,396-[INFO]- dropbox:474 -> Request to files/upload\n",
      "2022-11-30 11:05:33,354-[INFO]- dropbox:390 -> Refreshing access token.\n",
      "2022-11-30 11:05:33,576-[INFO]- dropbox:474 -> Request to files/upload\n",
      "DATA/PRINCE\n",
      "2022-11-30 11:05:34,401-[INFO]- dropbox:390 -> Refreshing access token.\n",
      "2022-11-30 11:05:34,627-[INFO]- dropbox:474 -> Request to files/upload\n",
      "2022-11-30 11:05:36,218-[INFO]- dropbox:390 -> Refreshing access token.\n",
      "2022-11-30 11:05:36,443-[INFO]- dropbox:474 -> Request to files/upload\n",
      "2022-11-30 11:05:37,505-[INFO]- dropbox:390 -> Refreshing access token.\n",
      "2022-11-30 11:05:37,745-[INFO]- dropbox:474 -> Request to files/upload\n",
      "2022-11-30 11:05:38,942-[INFO]- dropbox:390 -> Refreshing access token.\n",
      "2022-11-30 11:05:39,191-[INFO]- dropbox:474 -> Request to files/upload\n",
      "DATA/PRINCE\n",
      "2022-11-30 11:05:39,987-[INFO]- dropbox:390 -> Refreshing access token.\n",
      "2022-11-30 11:05:40,220-[INFO]- dropbox:474 -> Request to files/upload\n",
      "2022-11-30 11:05:41,734-[INFO]- dropbox:390 -> Refreshing access token.\n",
      "2022-11-30 11:05:41,956-[INFO]- dropbox:474 -> Request to files/upload\n",
      "2022-11-30 11:05:43,107-[INFO]- dropbox:390 -> Refreshing access token.\n",
      "2022-11-30 11:05:43,331-[INFO]- dropbox:474 -> Request to files/upload\n",
      "2022-11-30 11:05:44,259-[INFO]- dropbox:390 -> Refreshing access token.\n",
      "2022-11-30 11:05:44,495-[INFO]- dropbox:474 -> Request to files/upload\n",
      "DATA/PRINCE\n",
      "2022-11-30 11:05:45,555-[INFO]- dropbox:390 -> Refreshing access token.\n",
      "2022-11-30 11:05:45,784-[INFO]- dropbox:474 -> Request to files/upload\n",
      "2022-11-30 11:05:47,412-[INFO]- dropbox:390 -> Refreshing access token.\n",
      "2022-11-30 11:05:47,636-[INFO]- dropbox:474 -> Request to files/upload\n",
      "2022-11-30 11:05:49,100-[INFO]- dropbox:390 -> Refreshing access token.\n",
      "2022-11-30 11:05:49,317-[INFO]- dropbox:474 -> Request to files/upload\n",
      "2022-11-30 11:05:50,286-[INFO]- dropbox:390 -> Refreshing access token.\n",
      "2022-11-30 11:05:50,564-[INFO]- dropbox:474 -> Request to files/upload\n",
      "DATA/PRINCE\n",
      "2022-11-30 11:05:51,574-[INFO]- dropbox:390 -> Refreshing access token.\n",
      "2022-11-30 11:05:51,813-[INFO]- dropbox:474 -> Request to files/upload\n",
      "2022-11-30 11:05:53,292-[INFO]- dropbox:390 -> Refreshing access token.\n",
      "2022-11-30 11:05:53,676-[INFO]- dropbox:474 -> Request to files/upload\n",
      "2022-11-30 11:05:54,581-[INFO]- dropbox:390 -> Refreshing access token.\n",
      "2022-11-30 11:05:54,805-[INFO]- dropbox:474 -> Request to files/upload\n",
      "2022-11-30 11:05:55,745-[INFO]- dropbox:390 -> Refreshing access token.\n",
      "2022-11-30 11:05:55,984-[INFO]- dropbox:474 -> Request to files/upload\n",
      "DATA/PRINCE\n",
      "2022-11-30 11:05:56,862-[INFO]- dropbox:390 -> Refreshing access token.\n",
      "2022-11-30 11:05:57,098-[INFO]- dropbox:474 -> Request to files/upload\n",
      "2022-11-30 11:05:58,754-[INFO]- dropbox:390 -> Refreshing access token.\n",
      "2022-11-30 11:05:58,988-[INFO]- dropbox:474 -> Request to files/upload\n",
      "2022-11-30 11:06:00,028-[INFO]- dropbox:390 -> Refreshing access token.\n",
      "2022-11-30 11:06:00,261-[INFO]- dropbox:474 -> Request to files/upload\n",
      "2022-11-30 11:06:01,416-[INFO]- dropbox:390 -> Refreshing access token.\n",
      "2022-11-30 11:06:01,646-[INFO]- dropbox:474 -> Request to files/upload\n",
      "DATA/PRINCE\n",
      "2022-11-30 11:06:03,491-[INFO]- dropbox:390 -> Refreshing access token.\n",
      "2022-11-30 11:06:03,738-[INFO]- dropbox:474 -> Request to files/upload\n",
      "2022-11-30 11:06:05,148-[INFO]- dropbox:390 -> Refreshing access token.\n",
      "2022-11-30 11:06:05,376-[INFO]- dropbox:474 -> Request to files/upload\n",
      "2022-11-30 11:06:06,359-[INFO]- dropbox:390 -> Refreshing access token.\n",
      "2022-11-30 11:06:06,589-[INFO]- dropbox:474 -> Request to files/upload\n",
      "2022-11-30 11:06:07,662-[INFO]- dropbox:390 -> Refreshing access token.\n",
      "2022-11-30 11:06:07,899-[INFO]- dropbox:474 -> Request to files/upload\n",
      "DATA/PRINCE\n",
      "2022-11-30 11:06:08,896-[INFO]- dropbox:390 -> Refreshing access token.\n",
      "2022-11-30 11:06:09,125-[INFO]- dropbox:474 -> Request to files/upload\n",
      "2022-11-30 11:06:10,518-[INFO]- dropbox:390 -> Refreshing access token.\n",
      "2022-11-30 11:06:10,788-[INFO]- dropbox:474 -> Request to files/upload\n",
      "2022-11-30 11:06:11,847-[INFO]- dropbox:390 -> Refreshing access token.\n",
      "2022-11-30 11:06:12,086-[INFO]- dropbox:474 -> Request to files/upload\n",
      "2022-11-30 11:06:13,516-[INFO]- dropbox:390 -> Refreshing access token.\n",
      "2022-11-30 11:06:13,754-[INFO]- dropbox:474 -> Request to files/upload\n",
      "DATA/PRINCE\n",
      "2022-11-30 11:06:15,264-[INFO]- dropbox:390 -> Refreshing access token.\n",
      "2022-11-30 11:06:15,488-[INFO]- dropbox:474 -> Request to files/upload\n",
      "2022-11-30 11:06:16,843-[INFO]- dropbox:390 -> Refreshing access token.\n",
      "2022-11-30 11:06:17,074-[INFO]- dropbox:474 -> Request to files/upload\n",
      "2022-11-30 11:06:18,221-[INFO]- dropbox:390 -> Refreshing access token.\n",
      "2022-11-30 11:06:18,467-[INFO]- dropbox:474 -> Request to files/upload\n",
      "2022-11-30 11:06:19,278-[INFO]- dropbox:390 -> Refreshing access token.\n",
      "2022-11-30 11:06:19,514-[INFO]- dropbox:474 -> Request to files/upload\n",
      "DATA/PRINCE\n",
      "2022-11-30 11:06:20,892-[INFO]- dropbox:390 -> Refreshing access token.\n",
      "2022-11-30 11:06:21,121-[INFO]- dropbox:474 -> Request to files/upload\n",
      "2022-11-30 11:06:22,756-[INFO]- dropbox:390 -> Refreshing access token.\n",
      "2022-11-30 11:06:23,013-[INFO]- dropbox:474 -> Request to files/upload\n",
      "2022-11-30 11:06:24,232-[INFO]- dropbox:390 -> Refreshing access token.\n",
      "2022-11-30 11:06:24,462-[INFO]- dropbox:474 -> Request to files/upload\n",
      "2022-11-30 11:06:25,565-[INFO]- dropbox:390 -> Refreshing access token.\n",
      "2022-11-30 11:06:25,809-[INFO]- dropbox:474 -> Request to files/upload\n",
      "DATA/PRINCE\n",
      "2022-11-30 11:06:26,614-[INFO]- dropbox:390 -> Refreshing access token.\n",
      "2022-11-30 11:06:27,565-[INFO]- dropbox:474 -> Request to files/upload\n",
      "2022-11-30 11:06:29,206-[INFO]- dropbox:390 -> Refreshing access token.\n",
      "2022-11-30 11:06:29,465-[INFO]- dropbox:474 -> Request to files/upload\n",
      "2022-11-30 11:06:30,431-[INFO]- dropbox:390 -> Refreshing access token.\n",
      "2022-11-30 11:06:30,678-[INFO]- dropbox:474 -> Request to files/upload\n",
      "2022-11-30 11:06:31,861-[INFO]- dropbox:390 -> Refreshing access token.\n",
      "2022-11-30 11:06:32,087-[INFO]- dropbox:474 -> Request to files/upload\n",
      "DATA/PRINCE\n",
      "2022-11-30 11:06:33,003-[INFO]- dropbox:390 -> Refreshing access token.\n",
      "2022-11-30 11:06:33,255-[INFO]- dropbox:474 -> Request to files/upload\n",
      "2022-11-30 11:06:34,835-[INFO]- dropbox:390 -> Refreshing access token.\n",
      "2022-11-30 11:06:35,081-[INFO]- dropbox:474 -> Request to files/upload\n",
      "2022-11-30 11:06:36,238-[INFO]- dropbox:390 -> Refreshing access token.\n",
      "2022-11-30 11:06:36,556-[INFO]- dropbox:474 -> Request to files/upload\n",
      "2022-11-30 11:06:37,646-[INFO]- dropbox:390 -> Refreshing access token.\n",
      "2022-11-30 11:06:37,886-[INFO]- dropbox:474 -> Request to files/upload\n",
      "DATA/PRINCE\n",
      "2022-11-30 11:06:39,226-[INFO]- dropbox:390 -> Refreshing access token.\n",
      "2022-11-30 11:06:39,470-[INFO]- dropbox:474 -> Request to files/upload\n",
      "2022-11-30 11:06:41,033-[INFO]- dropbox:390 -> Refreshing access token.\n",
      "2022-11-30 11:06:41,262-[INFO]- dropbox:474 -> Request to files/upload\n",
      "2022-11-30 11:06:42,193-[INFO]- dropbox:390 -> Refreshing access token.\n",
      "2022-11-30 11:06:42,419-[INFO]- dropbox:474 -> Request to files/upload\n",
      "2022-11-30 11:06:43,553-[INFO]- dropbox:390 -> Refreshing access token.\n",
      "2022-11-30 11:06:43,793-[INFO]- dropbox:474 -> Request to files/upload\n",
      "DATA/PRINCE\n",
      "2022-11-30 11:06:44,759-[INFO]- dropbox:390 -> Refreshing access token.\n",
      "2022-11-30 11:06:44,989-[INFO]- dropbox:474 -> Request to files/upload\n",
      "2022-11-30 11:06:46,385-[INFO]- dropbox:390 -> Refreshing access token.\n",
      "2022-11-30 11:06:46,617-[INFO]- dropbox:474 -> Request to files/upload\n",
      "2022-11-30 11:06:47,952-[INFO]- dropbox:390 -> Refreshing access token.\n",
      "2022-11-30 11:06:48,210-[INFO]- dropbox:474 -> Request to files/upload\n",
      "2022-11-30 11:06:49,214-[INFO]- dropbox:390 -> Refreshing access token.\n",
      "2022-11-30 11:06:49,437-[INFO]- dropbox:474 -> Request to files/upload\n",
      "DATA/PRINCE\n",
      "2022-11-30 11:06:50,300-[INFO]- dropbox:390 -> Refreshing access token.\n",
      "2022-11-30 11:06:50,528-[INFO]- dropbox:474 -> Request to files/upload\n",
      "2022-11-30 11:06:51,979-[INFO]- dropbox:390 -> Refreshing access token.\n",
      "2022-11-30 11:06:52,216-[INFO]- dropbox:474 -> Request to files/upload\n",
      "2022-11-30 11:06:53,173-[INFO]- dropbox:390 -> Refreshing access token.\n",
      "2022-11-30 11:06:53,408-[INFO]- dropbox:474 -> Request to files/upload\n",
      "2022-11-30 11:06:54,243-[INFO]- dropbox:390 -> Refreshing access token.\n",
      "2022-11-30 11:06:54,461-[INFO]- dropbox:474 -> Request to files/upload\n",
      "DATA/PRINCE\n",
      "2022-11-30 11:06:55,582-[INFO]- dropbox:390 -> Refreshing access token.\n",
      "2022-11-30 11:06:55,817-[INFO]- dropbox:474 -> Request to files/upload\n",
      "2022-11-30 11:06:57,402-[INFO]- dropbox:390 -> Refreshing access token.\n",
      "2022-11-30 11:06:57,652-[INFO]- dropbox:474 -> Request to files/upload\n",
      "2022-11-30 11:06:58,959-[INFO]- dropbox:390 -> Refreshing access token.\n",
      "2022-11-30 11:06:59,886-[INFO]- dropbox:474 -> Request to files/upload\n",
      "2022-11-30 11:07:00,868-[INFO]- dropbox:390 -> Refreshing access token.\n",
      "2022-11-30 11:07:01,106-[INFO]- dropbox:474 -> Request to files/upload\n",
      "DATA/PRINCE\n",
      "2022-11-30 11:07:02,102-[INFO]- dropbox:390 -> Refreshing access token.\n",
      "2022-11-30 11:07:02,328-[INFO]- dropbox:474 -> Request to files/upload\n",
      "2022-11-30 11:07:04,473-[INFO]- dropbox:390 -> Refreshing access token.\n",
      "2022-11-30 11:07:04,706-[INFO]- dropbox:474 -> Request to files/upload\n",
      "2022-11-30 11:07:05,732-[INFO]- dropbox:390 -> Refreshing access token.\n",
      "2022-11-30 11:07:05,965-[INFO]- dropbox:474 -> Request to files/upload\n",
      "2022-11-30 11:07:06,956-[INFO]- dropbox:390 -> Refreshing access token.\n",
      "2022-11-30 11:07:07,183-[INFO]- dropbox:474 -> Request to files/upload\n",
      "DATA/PRINCE\n",
      "2022-11-30 11:07:08,225-[INFO]- dropbox:390 -> Refreshing access token.\n",
      "2022-11-30 11:07:08,449-[INFO]- dropbox:474 -> Request to files/upload\n",
      "2022-11-30 11:07:09,902-[INFO]- dropbox:390 -> Refreshing access token.\n",
      "2022-11-30 11:07:10,150-[INFO]- dropbox:474 -> Request to files/upload\n",
      "2022-11-30 11:07:11,178-[INFO]- dropbox:390 -> Refreshing access token.\n",
      "2022-11-30 11:07:11,424-[INFO]- dropbox:474 -> Request to files/upload\n",
      "2022-11-30 11:07:12,376-[INFO]- dropbox:390 -> Refreshing access token.\n",
      "2022-11-30 11:07:12,607-[INFO]- dropbox:474 -> Request to files/upload\n",
      "DATA/PRINCE\n",
      "2022-11-30 11:07:13,603-[INFO]- dropbox:390 -> Refreshing access token.\n",
      "2022-11-30 11:07:13,836-[INFO]- dropbox:474 -> Request to files/upload\n",
      "2022-11-30 11:07:15,502-[INFO]- dropbox:390 -> Refreshing access token.\n",
      "2022-11-30 11:07:15,737-[INFO]- dropbox:474 -> Request to files/upload\n",
      "2022-11-30 11:07:16,679-[INFO]- dropbox:390 -> Refreshing access token.\n",
      "2022-11-30 11:07:16,922-[INFO]- dropbox:474 -> Request to files/upload\n",
      "2022-11-30 11:07:17,966-[INFO]- dropbox:390 -> Refreshing access token.\n",
      "2022-11-30 11:07:18,238-[INFO]- dropbox:474 -> Request to files/upload\n",
      "DATA/PRINCE\n",
      "2022-11-30 11:07:19,526-[INFO]- dropbox:390 -> Refreshing access token.\n",
      "2022-11-30 11:07:19,802-[INFO]- dropbox:474 -> Request to files/upload\n",
      "2022-11-30 11:07:27,257-[INFO]- dropbox:390 -> Refreshing access token.\n",
      "2022-11-30 11:07:27,481-[INFO]- dropbox:474 -> Request to files/upload\n",
      "2022-11-30 11:07:28,546-[INFO]- dropbox:390 -> Refreshing access token.\n",
      "2022-11-30 11:07:28,788-[INFO]- dropbox:474 -> Request to files/upload\n",
      "2022-11-30 11:07:29,673-[INFO]- dropbox:390 -> Refreshing access token.\n",
      "2022-11-30 11:07:29,942-[INFO]- dropbox:474 -> Request to files/upload\n",
      "DATA/PRINCE\n",
      "2022-11-30 11:07:30,981-[INFO]- dropbox:390 -> Refreshing access token.\n",
      "2022-11-30 11:07:31,247-[INFO]- dropbox:474 -> Request to files/upload\n",
      "2022-11-30 11:07:32,850-[INFO]- dropbox:390 -> Refreshing access token.\n",
      "2022-11-30 11:07:33,071-[INFO]- dropbox:474 -> Request to files/upload\n",
      "2022-11-30 11:07:34,271-[INFO]- dropbox:390 -> Refreshing access token.\n",
      "2022-11-30 11:07:34,504-[INFO]- dropbox:474 -> Request to files/upload\n",
      "2022-11-30 11:07:35,711-[INFO]- dropbox:390 -> Refreshing access token.\n",
      "2022-11-30 11:07:35,935-[INFO]- dropbox:474 -> Request to files/upload\n",
      "DATA/PRINCE\n",
      "2022-11-30 11:07:36,806-[INFO]- dropbox:390 -> Refreshing access token.\n",
      "2022-11-30 11:07:37,028-[INFO]- dropbox:474 -> Request to files/upload\n",
      "2022-11-30 11:07:38,378-[INFO]- dropbox:390 -> Refreshing access token.\n",
      "2022-11-30 11:07:38,621-[INFO]- dropbox:474 -> Request to files/upload\n",
      "2022-11-30 11:07:39,526-[INFO]- dropbox:390 -> Refreshing access token.\n",
      "2022-11-30 11:07:39,776-[INFO]- dropbox:474 -> Request to files/upload\n",
      "2022-11-30 11:07:40,715-[INFO]- dropbox:390 -> Refreshing access token.\n",
      "2022-11-30 11:07:40,953-[INFO]- dropbox:474 -> Request to files/upload\n"
     ]
    }
   ],
   "source": [
    "from amftrack.util.dbx import upload_folder\n",
    "\n",
    "update_analysis_info(directory_targ)\n",
    "analysis_info = get_analysis_info(directory_targ)\n",
    "analysis_folders = analysis_info.loc[analysis_info[\"unique_id\"].isin(plates)]\n",
    "dir_drop = \"DATA/PRINCE\"\n",
    "\n",
    "for index, row in analysis_folders.iterrows():\n",
    "    folder = row[\"folder_analysis\"]\n",
    "    id_unique = row[\"unique_id\"]\n",
    "    path = os.path.join(directory_targ, folder)\n",
    "    target_drop = f\"/{dir_drop}/{id_unique}/{folder}\"\n",
    "    print(dir_drop)\n",
    "    upload_folder(path, target_drop, delete=False)"
   ]
  },
  {
   "cell_type": "code",
   "execution_count": 16,
   "id": "1e9a1654-a956-44a2-ab19-9d0958bcf56e",
   "metadata": {},
   "outputs": [
    {
     "name": "stdout",
     "output_type": "stream",
     "text": [
      "/projects/0/einf914/data/Analysis_101_20220921_200_Version1/folder_info.json\n",
      "/projects/0/einf914/data/Analysis_42_20220920_200_Version1/folder_info.json\n",
      "/projects/0/einf914/data/Analysis_39_20220920_200_Version1/folder_info.json\n",
      "/projects/0/einf914/data/Analysis_108_20220921_200_Version1/folder_info.json\n",
      "/projects/0/einf914/data/Analysis_67_20220921_200_Version1/folder_info.json\n",
      "/projects/0/einf914/data/Analysis_56_20220921_200_Version1/folder_info.json\n",
      "/projects/0/einf914/data/Analysis_50_20220920_200_Version1/folder_info.json\n",
      "/projects/0/einf914/data/Analysis_23_20220920_200_Version1/folder_info.json\n",
      "/projects/0/einf914/data/Analysis_21_20220920_200_Version1/folder_info.json\n",
      "/projects/0/einf914/data/Analysis_100_20220921_200_Version1/folder_info.json\n",
      "/projects/0/einf914/data/Analysis_99_20220921_200_Version1/folder_info.json\n",
      "/projects/0/einf914/data/Analysis_82_20220920_200_Version1/folder_info.json\n",
      "/projects/0/einf914/data/Analysis_61_20220921_200_Version1/folder_info.json\n",
      "/projects/0/einf914/data/Analysis_31_20220921_200_Version1/folder_info.json\n",
      "/projects/0/einf914/data/Analysis_40_20220920_200_Version1/folder_info.json\n",
      "/projects/0/einf914/data/Analysis_102_20220921_200_Version1/folder_info.json\n",
      "/projects/0/einf914/data/Analysis_2_20220920_200_Version1/folder_info.json\n",
      "/projects/0/einf914/data/Analysis_78_20220920_200_Version1/folder_info.json\n",
      "/projects/0/einf914/data/Analysis_62_20220921_200_Version1/folder_info.json\n",
      "/projects/0/einf914/data/Analysis_13_20220921_200_Version1/folder_info.json\n",
      "/projects/0/einf914/data/Analysis_45_20220920_200_Version1/folder_info.json\n",
      "/projects/0/einf914/data/Analysis_97_20220921_200_Version1/folder_info.json\n",
      "/projects/0/einf914/data/Analysis_76_20220920_200_Version1/folder_info.json\n",
      "/projects/0/einf914/data/Analysis_105_20220921_200_Version1/folder_info.json\n",
      "/projects/0/einf914/data/Analysis_86_20220921_200_Version1/folder_info.json\n",
      "/projects/0/einf914/data/Analysis_91_20220921_200_Version1/folder_info.json\n",
      "/projects/0/einf914/data/Analysis_83_20220920_200_Version1/folder_info.json\n",
      "/projects/0/einf914/data/Analysis_98_20220921_200_Version1/folder_info.json\n",
      "/projects/0/einf914/data/Analysis_6_20220920_200_Version1/folder_info.json\n",
      "/projects/0/einf914/data/Analysis_73_20220920_200_Version1/folder_info.json\n",
      "/projects/0/einf914/data/Analysis_96_20220921_200_Version1/folder_info.json\n",
      "/projects/0/einf914/data/Analysis_48_20220920_200_Version1/folder_info.json\n",
      "/projects/0/einf914/data/Analysis_66_20220921_200_Version1/folder_info.json\n",
      "/projects/0/einf914/data/Analysis_92_20220921_200_Version1/folder_info.json\n",
      "/projects/0/einf914/data/Analysis_18_20220921_200_Version1/folder_info.json\n",
      "/projects/0/einf914/data/Analysis_63_20220921_200_Version1/folder_info.json\n",
      "/projects/0/einf914/data/Analysis_57_20220921_200_Version1/folder_info.json\n",
      "/projects/0/einf914/data/Analysis_22_20220920_200_Version1/folder_info.json\n",
      "/projects/0/einf914/data/Analysis_95_20220921_200_Version1/folder_info.json\n",
      "/projects/0/einf914/data/Analysis_106_20220921_200_Version1/folder_info.json\n",
      "/projects/0/einf914/data/Analysis_41_20220920_200_Version1/folder_info.json\n",
      "/projects/0/einf914/data/Analysis_90_20220921_200_Version1/folder_info.json\n",
      "/projects/0/einf914/data/Analysis_77_20220920_200_Version1/folder_info.json\n",
      "Submitted batch job 1867718\n"
     ]
    }
   ],
   "source": [
    "from amftrack.pipeline.functions.post_processing.exp_plot import *\n",
    "from amftrack.pipeline.launching.run_super import run_parallel_post\n",
    "\n",
    "name_job = 'malin'\n",
    "time = \"1:00:00\"\n",
    "list_f = [plot_tracking]\n",
    "update_analysis_info(directory_targ)\n",
    "analysis_info = get_analysis_info(directory_targ)\n",
    "analysis_folders = analysis_info.loc[analysis_info[\"unique_id\"].isin(plates)]\n",
    "directory = directory_targ\n",
    "list_args = [[]] * len(list_f)\n",
    "overwrite = True\n",
    "num_parallel = 100\n",
    "run_parallel_post(\n",
    "    \"exp_plot.py\",\n",
    "    list_f,\n",
    "    list_args,\n",
    "    [directory, overwrite],\n",
    "    analysis_folders,\n",
    "    num_parallel,\n",
    "    time,\n",
    "    \"global_plate_post_process\",\n",
    "    cpus=128,\n",
    "    name_job=name_job,\n",
    "    node=\"fat\",\n",
    ")"
   ]
  },
  {
   "cell_type": "code",
   "execution_count": 15,
   "id": "614f4ffb-73dc-4653-a6dd-51a04dac7d34",
   "metadata": {
    "collapsed": true,
    "jupyter": {
     "outputs_hidden": true
    },
    "tags": []
   },
   "outputs": [
    {
     "name": "stdout",
     "output_type": "stream",
     "text": [
      "/projects/0/einf914/data/Analysis_101_20220921_200_Version1/folder_info.json\n",
      "/projects/0/einf914/data/Analysis_42_20220920_200_Version1/folder_info.json\n",
      "/projects/0/einf914/data/Analysis_39_20220920_200_Version1/folder_info.json\n",
      "/projects/0/einf914/data/Analysis_108_20220921_200_Version1/folder_info.json\n",
      "/projects/0/einf914/data/Analysis_67_20220921_200_Version1/folder_info.json\n",
      "/projects/0/einf914/data/Analysis_56_20220921_200_Version1/folder_info.json\n",
      "/projects/0/einf914/data/Analysis_50_20220920_200_Version1/folder_info.json\n",
      "/projects/0/einf914/data/Analysis_23_20220920_200_Version1/folder_info.json\n",
      "/projects/0/einf914/data/Analysis_21_20220920_200_Version1/folder_info.json\n",
      "/projects/0/einf914/data/Analysis_100_20220921_200_Version1/folder_info.json\n",
      "/projects/0/einf914/data/Analysis_99_20220921_200_Version1/folder_info.json\n",
      "/projects/0/einf914/data/Analysis_82_20220920_200_Version1/folder_info.json\n",
      "/projects/0/einf914/data/Analysis_61_20220921_200_Version1/folder_info.json\n",
      "/projects/0/einf914/data/Analysis_31_20220921_200_Version1/folder_info.json\n",
      "/projects/0/einf914/data/Analysis_40_20220920_200_Version1/folder_info.json\n",
      "/projects/0/einf914/data/Analysis_102_20220921_200_Version1/folder_info.json\n",
      "/projects/0/einf914/data/Analysis_2_20220920_200_Version1/folder_info.json\n",
      "/projects/0/einf914/data/Analysis_78_20220920_200_Version1/folder_info.json\n",
      "/projects/0/einf914/data/Analysis_62_20220921_200_Version1/folder_info.json\n",
      "/projects/0/einf914/data/Analysis_13_20220921_200_Version1/folder_info.json\n",
      "/projects/0/einf914/data/Analysis_45_20220920_200_Version1/folder_info.json\n",
      "/projects/0/einf914/data/Analysis_97_20220921_200_Version1/folder_info.json\n",
      "/projects/0/einf914/data/Analysis_76_20220920_200_Version1/folder_info.json\n",
      "/projects/0/einf914/data/Analysis_105_20220921_200_Version1/folder_info.json\n",
      "/projects/0/einf914/data/Analysis_86_20220921_200_Version1/folder_info.json\n",
      "/projects/0/einf914/data/Analysis_91_20220921_200_Version1/folder_info.json\n",
      "/projects/0/einf914/data/Analysis_83_20220920_200_Version1/folder_info.json\n",
      "/projects/0/einf914/data/Analysis_98_20220921_200_Version1/folder_info.json\n",
      "/projects/0/einf914/data/Analysis_6_20220920_200_Version1/folder_info.json\n",
      "/projects/0/einf914/data/Analysis_73_20220920_200_Version1/folder_info.json\n",
      "/projects/0/einf914/data/Analysis_96_20220921_200_Version1/folder_info.json\n",
      "/projects/0/einf914/data/Analysis_48_20220920_200_Version1/folder_info.json\n",
      "/projects/0/einf914/data/Analysis_66_20220921_200_Version1/folder_info.json\n",
      "/projects/0/einf914/data/Analysis_92_20220921_200_Version1/folder_info.json\n",
      "/projects/0/einf914/data/Analysis_18_20220921_200_Version1/folder_info.json\n",
      "/projects/0/einf914/data/Analysis_63_20220921_200_Version1/folder_info.json\n",
      "/projects/0/einf914/data/Analysis_57_20220921_200_Version1/folder_info.json\n",
      "/projects/0/einf914/data/Analysis_22_20220920_200_Version1/folder_info.json\n",
      "/projects/0/einf914/data/Analysis_95_20220921_200_Version1/folder_info.json\n",
      "/projects/0/einf914/data/Analysis_106_20220921_200_Version1/folder_info.json\n",
      "/projects/0/einf914/data/Analysis_41_20220920_200_Version1/folder_info.json\n",
      "/projects/0/einf914/data/Analysis_90_20220921_200_Version1/folder_info.json\n",
      "/projects/0/einf914/data/Analysis_77_20220920_200_Version1/folder_info.json\n"
     ]
    },
    {
     "name": "stderr",
     "output_type": "stream",
     "text": [
      "sbatch: Single-node jobs run on a shared node by default. Add --exclusive if you want to use a node exclusively.\n",
      "sbatch: You will be charged for 0.25 node. A full node consists of 128 CPU cores, 983040 MiB of memory and 0 GPUs and can be shared by up to 4 jobs.\n"
     ]
    },
    {
     "name": "stdout",
     "output_type": "stream",
     "text": [
      "Submitted batch job 1867673\n",
      "Submitted batch job 1867674\n"
     ]
    },
    {
     "name": "stderr",
     "output_type": "stream",
     "text": [
      "sbatch: Single-node jobs run on a shared node by default. Add --exclusive if you want to use a node exclusively.\n",
      "sbatch: You will be charged for 0.25 node. A full node consists of 128 CPU cores, 983040 MiB of memory and 0 GPUs and can be shared by up to 4 jobs.\n",
      "sbatch: Single-node jobs run on a shared node by default. Add --exclusive if you want to use a node exclusively.\n",
      "sbatch: You will be charged for 0.25 node. A full node consists of 128 CPU cores, 983040 MiB of memory and 0 GPUs and can be shared by up to 4 jobs.\n"
     ]
    },
    {
     "name": "stdout",
     "output_type": "stream",
     "text": [
      "Submitted batch job 1867676\n"
     ]
    },
    {
     "name": "stderr",
     "output_type": "stream",
     "text": [
      "sbatch: Single-node jobs run on a shared node by default. Add --exclusive if you want to use a node exclusively.\n",
      "sbatch: You will be charged for 0.25 node. A full node consists of 128 CPU cores, 983040 MiB of memory and 0 GPUs and can be shared by up to 4 jobs.\n"
     ]
    },
    {
     "name": "stdout",
     "output_type": "stream",
     "text": [
      "Submitted batch job 1867677\n"
     ]
    },
    {
     "name": "stderr",
     "output_type": "stream",
     "text": [
      "sbatch: Single-node jobs run on a shared node by default. Add --exclusive if you want to use a node exclusively.\n",
      "sbatch: You will be charged for 0.25 node. A full node consists of 128 CPU cores, 983040 MiB of memory and 0 GPUs and can be shared by up to 4 jobs.\n"
     ]
    },
    {
     "name": "stdout",
     "output_type": "stream",
     "text": [
      "Submitted batch job 1867678\n"
     ]
    },
    {
     "name": "stderr",
     "output_type": "stream",
     "text": [
      "sbatch: Single-node jobs run on a shared node by default. Add --exclusive if you want to use a node exclusively.\n",
      "sbatch: You will be charged for 0.25 node. A full node consists of 128 CPU cores, 983040 MiB of memory and 0 GPUs and can be shared by up to 4 jobs.\n"
     ]
    },
    {
     "name": "stdout",
     "output_type": "stream",
     "text": [
      "Submitted batch job 1867679\n"
     ]
    },
    {
     "name": "stderr",
     "output_type": "stream",
     "text": [
      "sbatch: Single-node jobs run on a shared node by default. Add --exclusive if you want to use a node exclusively.\n",
      "sbatch: You will be charged for 0.25 node. A full node consists of 128 CPU cores, 983040 MiB of memory and 0 GPUs and can be shared by up to 4 jobs.\n"
     ]
    },
    {
     "name": "stdout",
     "output_type": "stream",
     "text": [
      "Submitted batch job 1867680\n"
     ]
    },
    {
     "name": "stderr",
     "output_type": "stream",
     "text": [
      "sbatch: Single-node jobs run on a shared node by default. Add --exclusive if you want to use a node exclusively.\n",
      "sbatch: You will be charged for 0.25 node. A full node consists of 128 CPU cores, 983040 MiB of memory and 0 GPUs and can be shared by up to 4 jobs.\n"
     ]
    },
    {
     "name": "stdout",
     "output_type": "stream",
     "text": [
      "Submitted batch job 1867681\n"
     ]
    },
    {
     "name": "stderr",
     "output_type": "stream",
     "text": [
      "sbatch: Single-node jobs run on a shared node by default. Add --exclusive if you want to use a node exclusively.\n",
      "sbatch: You will be charged for 0.25 node. A full node consists of 128 CPU cores, 983040 MiB of memory and 0 GPUs and can be shared by up to 4 jobs.\n"
     ]
    },
    {
     "name": "stdout",
     "output_type": "stream",
     "text": [
      "Submitted batch job 1867682\n"
     ]
    },
    {
     "name": "stderr",
     "output_type": "stream",
     "text": [
      "sbatch: Single-node jobs run on a shared node by default. Add --exclusive if you want to use a node exclusively.\n",
      "sbatch: You will be charged for 0.25 node. A full node consists of 128 CPU cores, 983040 MiB of memory and 0 GPUs and can be shared by up to 4 jobs.\n"
     ]
    },
    {
     "name": "stdout",
     "output_type": "stream",
     "text": [
      "Submitted batch job 1867683\n"
     ]
    },
    {
     "name": "stderr",
     "output_type": "stream",
     "text": [
      "sbatch: Single-node jobs run on a shared node by default. Add --exclusive if you want to use a node exclusively.\n",
      "sbatch: You will be charged for 0.25 node. A full node consists of 128 CPU cores, 983040 MiB of memory and 0 GPUs and can be shared by up to 4 jobs.\n"
     ]
    },
    {
     "name": "stdout",
     "output_type": "stream",
     "text": [
      "Submitted batch job 1867684\n"
     ]
    },
    {
     "name": "stderr",
     "output_type": "stream",
     "text": [
      "sbatch: Single-node jobs run on a shared node by default. Add --exclusive if you want to use a node exclusively.\n",
      "sbatch: You will be charged for 0.25 node. A full node consists of 128 CPU cores, 983040 MiB of memory and 0 GPUs and can be shared by up to 4 jobs.\n"
     ]
    },
    {
     "name": "stdout",
     "output_type": "stream",
     "text": [
      "Submitted batch job 1867685\n"
     ]
    },
    {
     "name": "stderr",
     "output_type": "stream",
     "text": [
      "sbatch: Single-node jobs run on a shared node by default. Add --exclusive if you want to use a node exclusively.\n",
      "sbatch: You will be charged for 0.25 node. A full node consists of 128 CPU cores, 983040 MiB of memory and 0 GPUs and can be shared by up to 4 jobs.\n"
     ]
    },
    {
     "name": "stdout",
     "output_type": "stream",
     "text": [
      "Submitted batch job 1867686\n"
     ]
    },
    {
     "name": "stderr",
     "output_type": "stream",
     "text": [
      "sbatch: Single-node jobs run on a shared node by default. Add --exclusive if you want to use a node exclusively.\n",
      "sbatch: You will be charged for 0.25 node. A full node consists of 128 CPU cores, 983040 MiB of memory and 0 GPUs and can be shared by up to 4 jobs.\n"
     ]
    },
    {
     "name": "stdout",
     "output_type": "stream",
     "text": [
      "Submitted batch job 1867687\n",
      "Submitted batch job 1867688\n"
     ]
    },
    {
     "name": "stderr",
     "output_type": "stream",
     "text": [
      "sbatch: Single-node jobs run on a shared node by default. Add --exclusive if you want to use a node exclusively.\n",
      "sbatch: You will be charged for 0.25 node. A full node consists of 128 CPU cores, 983040 MiB of memory and 0 GPUs and can be shared by up to 4 jobs.\n",
      "sbatch: Single-node jobs run on a shared node by default. Add --exclusive if you want to use a node exclusively.\n",
      "sbatch: You will be charged for 0.25 node. A full node consists of 128 CPU cores, 983040 MiB of memory and 0 GPUs and can be shared by up to 4 jobs.\n"
     ]
    },
    {
     "name": "stdout",
     "output_type": "stream",
     "text": [
      "Submitted batch job 1867689\n"
     ]
    },
    {
     "name": "stderr",
     "output_type": "stream",
     "text": [
      "sbatch: Single-node jobs run on a shared node by default. Add --exclusive if you want to use a node exclusively.\n",
      "sbatch: You will be charged for 0.25 node. A full node consists of 128 CPU cores, 983040 MiB of memory and 0 GPUs and can be shared by up to 4 jobs.\n"
     ]
    },
    {
     "name": "stdout",
     "output_type": "stream",
     "text": [
      "Submitted batch job 1867690\n"
     ]
    },
    {
     "name": "stderr",
     "output_type": "stream",
     "text": [
      "sbatch: Single-node jobs run on a shared node by default. Add --exclusive if you want to use a node exclusively.\n",
      "sbatch: You will be charged for 0.25 node. A full node consists of 128 CPU cores, 983040 MiB of memory and 0 GPUs and can be shared by up to 4 jobs.\n"
     ]
    },
    {
     "name": "stdout",
     "output_type": "stream",
     "text": [
      "Submitted batch job 1867691\n"
     ]
    },
    {
     "name": "stderr",
     "output_type": "stream",
     "text": [
      "sbatch: Single-node jobs run on a shared node by default. Add --exclusive if you want to use a node exclusively.\n",
      "sbatch: You will be charged for 0.25 node. A full node consists of 128 CPU cores, 983040 MiB of memory and 0 GPUs and can be shared by up to 4 jobs.\n"
     ]
    },
    {
     "name": "stdout",
     "output_type": "stream",
     "text": [
      "Submitted batch job 1867692\n"
     ]
    },
    {
     "name": "stderr",
     "output_type": "stream",
     "text": [
      "sbatch: Single-node jobs run on a shared node by default. Add --exclusive if you want to use a node exclusively.\n",
      "sbatch: You will be charged for 0.25 node. A full node consists of 128 CPU cores, 983040 MiB of memory and 0 GPUs and can be shared by up to 4 jobs.\n"
     ]
    },
    {
     "name": "stdout",
     "output_type": "stream",
     "text": [
      "Submitted batch job 1867693\n"
     ]
    },
    {
     "name": "stderr",
     "output_type": "stream",
     "text": [
      "sbatch: Single-node jobs run on a shared node by default. Add --exclusive if you want to use a node exclusively.\n",
      "sbatch: You will be charged for 0.25 node. A full node consists of 128 CPU cores, 983040 MiB of memory and 0 GPUs and can be shared by up to 4 jobs.\n"
     ]
    },
    {
     "name": "stdout",
     "output_type": "stream",
     "text": [
      "Submitted batch job 1867694\n"
     ]
    },
    {
     "name": "stderr",
     "output_type": "stream",
     "text": [
      "sbatch: Single-node jobs run on a shared node by default. Add --exclusive if you want to use a node exclusively.\n",
      "sbatch: You will be charged for 0.25 node. A full node consists of 128 CPU cores, 983040 MiB of memory and 0 GPUs and can be shared by up to 4 jobs.\n"
     ]
    },
    {
     "name": "stdout",
     "output_type": "stream",
     "text": [
      "Submitted batch job 1867695\n"
     ]
    },
    {
     "name": "stderr",
     "output_type": "stream",
     "text": [
      "sbatch: Single-node jobs run on a shared node by default. Add --exclusive if you want to use a node exclusively.\n",
      "sbatch: You will be charged for 0.25 node. A full node consists of 128 CPU cores, 983040 MiB of memory and 0 GPUs and can be shared by up to 4 jobs.\n"
     ]
    },
    {
     "name": "stdout",
     "output_type": "stream",
     "text": [
      "Submitted batch job 1867697\n"
     ]
    },
    {
     "name": "stderr",
     "output_type": "stream",
     "text": [
      "sbatch: Single-node jobs run on a shared node by default. Add --exclusive if you want to use a node exclusively.\n",
      "sbatch: You will be charged for 0.25 node. A full node consists of 128 CPU cores, 983040 MiB of memory and 0 GPUs and can be shared by up to 4 jobs.\n"
     ]
    },
    {
     "name": "stdout",
     "output_type": "stream",
     "text": [
      "Submitted batch job 1867698\n"
     ]
    },
    {
     "name": "stderr",
     "output_type": "stream",
     "text": [
      "sbatch: Single-node jobs run on a shared node by default. Add --exclusive if you want to use a node exclusively.\n",
      "sbatch: You will be charged for 0.25 node. A full node consists of 128 CPU cores, 983040 MiB of memory and 0 GPUs and can be shared by up to 4 jobs.\n"
     ]
    },
    {
     "name": "stdout",
     "output_type": "stream",
     "text": [
      "Submitted batch job 1867699\n",
      "Submitted batch job 1867700\n"
     ]
    },
    {
     "name": "stderr",
     "output_type": "stream",
     "text": [
      "sbatch: Single-node jobs run on a shared node by default. Add --exclusive if you want to use a node exclusively.\n",
      "sbatch: You will be charged for 0.25 node. A full node consists of 128 CPU cores, 983040 MiB of memory and 0 GPUs and can be shared by up to 4 jobs.\n",
      "sbatch: Single-node jobs run on a shared node by default. Add --exclusive if you want to use a node exclusively.\n",
      "sbatch: You will be charged for 0.25 node. A full node consists of 128 CPU cores, 983040 MiB of memory and 0 GPUs and can be shared by up to 4 jobs.\n"
     ]
    },
    {
     "name": "stdout",
     "output_type": "stream",
     "text": [
      "Submitted batch job 1867701\n"
     ]
    },
    {
     "name": "stderr",
     "output_type": "stream",
     "text": [
      "sbatch: Single-node jobs run on a shared node by default. Add --exclusive if you want to use a node exclusively.\n",
      "sbatch: You will be charged for 0.25 node. A full node consists of 128 CPU cores, 983040 MiB of memory and 0 GPUs and can be shared by up to 4 jobs.\n"
     ]
    },
    {
     "name": "stdout",
     "output_type": "stream",
     "text": [
      "Submitted batch job 1867702\n"
     ]
    },
    {
     "name": "stderr",
     "output_type": "stream",
     "text": [
      "sbatch: Single-node jobs run on a shared node by default. Add --exclusive if you want to use a node exclusively.\n",
      "sbatch: You will be charged for 0.25 node. A full node consists of 128 CPU cores, 983040 MiB of memory and 0 GPUs and can be shared by up to 4 jobs.\n"
     ]
    },
    {
     "name": "stdout",
     "output_type": "stream",
     "text": [
      "Submitted batch job 1867703\n"
     ]
    },
    {
     "name": "stderr",
     "output_type": "stream",
     "text": [
      "sbatch: Single-node jobs run on a shared node by default. Add --exclusive if you want to use a node exclusively.\n",
      "sbatch: You will be charged for 0.25 node. A full node consists of 128 CPU cores, 983040 MiB of memory and 0 GPUs and can be shared by up to 4 jobs.\n"
     ]
    },
    {
     "name": "stdout",
     "output_type": "stream",
     "text": [
      "Submitted batch job 1867704\n"
     ]
    },
    {
     "name": "stderr",
     "output_type": "stream",
     "text": [
      "sbatch: Single-node jobs run on a shared node by default. Add --exclusive if you want to use a node exclusively.\n",
      "sbatch: You will be charged for 0.25 node. A full node consists of 128 CPU cores, 983040 MiB of memory and 0 GPUs and can be shared by up to 4 jobs.\n"
     ]
    },
    {
     "name": "stdout",
     "output_type": "stream",
     "text": [
      "Submitted batch job 1867705\n"
     ]
    },
    {
     "name": "stderr",
     "output_type": "stream",
     "text": [
      "sbatch: Single-node jobs run on a shared node by default. Add --exclusive if you want to use a node exclusively.\n",
      "sbatch: You will be charged for 0.25 node. A full node consists of 128 CPU cores, 983040 MiB of memory and 0 GPUs and can be shared by up to 4 jobs.\n"
     ]
    },
    {
     "name": "stdout",
     "output_type": "stream",
     "text": [
      "Submitted batch job 1867706\n"
     ]
    },
    {
     "name": "stderr",
     "output_type": "stream",
     "text": [
      "sbatch: Single-node jobs run on a shared node by default. Add --exclusive if you want to use a node exclusively.\n",
      "sbatch: You will be charged for 0.25 node. A full node consists of 128 CPU cores, 983040 MiB of memory and 0 GPUs and can be shared by up to 4 jobs.\n"
     ]
    },
    {
     "name": "stdout",
     "output_type": "stream",
     "text": [
      "Submitted batch job 1867707\n"
     ]
    },
    {
     "name": "stderr",
     "output_type": "stream",
     "text": [
      "sbatch: Single-node jobs run on a shared node by default. Add --exclusive if you want to use a node exclusively.\n",
      "sbatch: You will be charged for 0.25 node. A full node consists of 128 CPU cores, 983040 MiB of memory and 0 GPUs and can be shared by up to 4 jobs.\n"
     ]
    },
    {
     "name": "stdout",
     "output_type": "stream",
     "text": [
      "Submitted batch job 1867708\n"
     ]
    },
    {
     "name": "stderr",
     "output_type": "stream",
     "text": [
      "sbatch: Single-node jobs run on a shared node by default. Add --exclusive if you want to use a node exclusively.\n",
      "sbatch: You will be charged for 0.25 node. A full node consists of 128 CPU cores, 983040 MiB of memory and 0 GPUs and can be shared by up to 4 jobs.\n"
     ]
    },
    {
     "name": "stdout",
     "output_type": "stream",
     "text": [
      "Submitted batch job 1867709\n"
     ]
    },
    {
     "name": "stderr",
     "output_type": "stream",
     "text": [
      "sbatch: Single-node jobs run on a shared node by default. Add --exclusive if you want to use a node exclusively.\n",
      "sbatch: You will be charged for 0.25 node. A full node consists of 128 CPU cores, 983040 MiB of memory and 0 GPUs and can be shared by up to 4 jobs.\n"
     ]
    },
    {
     "name": "stdout",
     "output_type": "stream",
     "text": [
      "Submitted batch job 1867710\n"
     ]
    },
    {
     "name": "stderr",
     "output_type": "stream",
     "text": [
      "sbatch: Single-node jobs run on a shared node by default. Add --exclusive if you want to use a node exclusively.\n",
      "sbatch: You will be charged for 0.25 node. A full node consists of 128 CPU cores, 983040 MiB of memory and 0 GPUs and can be shared by up to 4 jobs.\n"
     ]
    },
    {
     "name": "stdout",
     "output_type": "stream",
     "text": [
      "Submitted batch job 1867711\n"
     ]
    },
    {
     "name": "stderr",
     "output_type": "stream",
     "text": [
      "sbatch: Single-node jobs run on a shared node by default. Add --exclusive if you want to use a node exclusively.\n",
      "sbatch: You will be charged for 0.25 node. A full node consists of 128 CPU cores, 983040 MiB of memory and 0 GPUs and can be shared by up to 4 jobs.\n"
     ]
    },
    {
     "name": "stdout",
     "output_type": "stream",
     "text": [
      "Submitted batch job 1867712\n"
     ]
    },
    {
     "name": "stderr",
     "output_type": "stream",
     "text": [
      "sbatch: Single-node jobs run on a shared node by default. Add --exclusive if you want to use a node exclusively.\n",
      "sbatch: You will be charged for 0.25 node. A full node consists of 128 CPU cores, 983040 MiB of memory and 0 GPUs and can be shared by up to 4 jobs.\n"
     ]
    },
    {
     "name": "stdout",
     "output_type": "stream",
     "text": [
      "Submitted batch job 1867713\n"
     ]
    },
    {
     "name": "stderr",
     "output_type": "stream",
     "text": [
      "sbatch: Single-node jobs run on a shared node by default. Add --exclusive if you want to use a node exclusively.\n",
      "sbatch: You will be charged for 0.25 node. A full node consists of 128 CPU cores, 983040 MiB of memory and 0 GPUs and can be shared by up to 4 jobs.\n"
     ]
    },
    {
     "name": "stdout",
     "output_type": "stream",
     "text": [
      "Submitted batch job 1867714\n"
     ]
    },
    {
     "name": "stderr",
     "output_type": "stream",
     "text": [
      "sbatch: Single-node jobs run on a shared node by default. Add --exclusive if you want to use a node exclusively.\n",
      "sbatch: You will be charged for 0.25 node. A full node consists of 128 CPU cores, 983040 MiB of memory and 0 GPUs and can be shared by up to 4 jobs.\n"
     ]
    },
    {
     "name": "stdout",
     "output_type": "stream",
     "text": [
      "Submitted batch job 1867715\n"
     ]
    },
    {
     "name": "stderr",
     "output_type": "stream",
     "text": [
      "sbatch: Single-node jobs run on a shared node by default. Add --exclusive if you want to use a node exclusively.\n",
      "sbatch: You will be charged for 0.25 node. A full node consists of 128 CPU cores, 983040 MiB of memory and 0 GPUs and can be shared by up to 4 jobs.\n"
     ]
    },
    {
     "name": "stdout",
     "output_type": "stream",
     "text": [
      "Submitted batch job 1867716\n"
     ]
    },
    {
     "name": "stderr",
     "output_type": "stream",
     "text": [
      "sbatch: Single-node jobs run on a shared node by default. Add --exclusive if you want to use a node exclusively.\n",
      "sbatch: You will be charged for 0.25 node. A full node consists of 128 CPU cores, 983040 MiB of memory and 0 GPUs and can be shared by up to 4 jobs.\n"
     ]
    },
    {
     "name": "stdout",
     "output_type": "stream",
     "text": [
      "Submitted batch job 1867717\n"
     ]
    }
   ],
   "source": [
    "from amftrack.pipeline.functions.post_processing.time_hypha import *\n",
    "import pandas as pd\n",
    "import os\n",
    "\n",
    "update_analysis_info(directory_targ)\n",
    "analysis_info = get_analysis_info(directory_targ)\n",
    "analysis_folders = analysis_info.loc[analysis_info[\"unique_id\"].isin(plates)]\n",
    "list_f = [\n",
    "    get_pos_x,\n",
    "    get_pos_y,\n",
    "    get_time_since_begin_exp,\n",
    "    get_distance_final_pos,\n",
    "    get_timedelta,\n",
    "    get_time_since_start,\n",
    "    get_speed,\n",
    "    get_timestep,\n",
    "    get_timestep_init,\n",
    "    get_time_init,\n",
    "    get_degree,\n",
    "    get_width_tip_edge,\n",
    "    get_width_root_edge,\n",
    "    get_width_average,\n",
    "    get_has_reached_final_pos,\n",
    "    get_in_ROI,\n",
    "]\n",
    "# list_f = [local_density,local_density,local_density]\n",
    "# list_f = [get_time_since_begin_exp]\n",
    "# list_f = [get_width_tip_edge, get_width_root_edge]\n",
    "list_args = [{}] * len(list_f)\n",
    "# list_args= [[500],[1000],[2000]]+[[]]\n",
    "# list_args= [[500]]\n",
    "overwrite = True\n",
    "load_graphs = True\n",
    "num_parallel = 32\n",
    "time = \"10:00\"\n",
    "for index, row in analysis_folders.iterrows():\n",
    "    folder = row[\"folder_analysis\"]\n",
    "    path_time_plate_info = row[\"path_time_plate_info\"]\n",
    "    plate = row[\"Plate\"]\n",
    "    num_cpus = 32\n",
    "    if os.path.isfile(f\"{directory_targ}{path_time_plate_info}\"):\n",
    "        whole_plate_info = pd.read_json(\n",
    "            f\"{directory_targ}{path_time_plate_info}\", convert_dates=True\n",
    "        ).transpose()\n",
    "        whole_plate_info.index.name = \"t\"\n",
    "        whole_plate_info.reset_index(inplace=True)\n",
    "        run_parallel_post(\n",
    "            \"time_hypha_post_process.py\",\n",
    "            list_f,\n",
    "            list_args,\n",
    "            [directory_targ, overwrite, load_graphs],\n",
    "            whole_plate_info,\n",
    "            num_parallel,\n",
    "            time,\n",
    "            \"time_hypha_post_process\",\n",
    "            cpus=num_cpus,\n",
    "            name_job=name_job,\n",
    "            node=\"fat\",\n",
    "        )"
   ]
  },
  {
   "cell_type": "code",
   "execution_count": 36,
   "id": "6371d560-07ea-4d5a-802b-303bc66492b8",
   "metadata": {
    "tags": []
   },
   "outputs": [
    {
     "name": "stdout",
     "output_type": "stream",
     "text": [
      "Submitted batch job 1857991\n"
     ]
    },
    {
     "name": "stderr",
     "output_type": "stream",
     "text": [
      "sbatch: Single node jobs run on a shared node by default. Add --exclusive if you want to use a node exclusively.\n",
      "sbatch: You will be charged for 0.25 node. A full node consists of 128 CPU cores, 983040 MiB of memory and 0 GPUs and can be shared by up to 4 jobs.\n",
      "sbatch: Single node jobs run on a shared node by default. Add --exclusive if you want to use a node exclusively.\n",
      "sbatch: You will be charged for 0.25 node. A full node consists of 128 CPU cores, 983040 MiB of memory and 0 GPUs and can be shared by up to 4 jobs.\n"
     ]
    },
    {
     "name": "stdout",
     "output_type": "stream",
     "text": [
      "Submitted batch job 1857992\n"
     ]
    },
    {
     "name": "stderr",
     "output_type": "stream",
     "text": [
      "sbatch: Single node jobs run on a shared node by default. Add --exclusive if you want to use a node exclusively.\n",
      "sbatch: You will be charged for 0.25 node. A full node consists of 128 CPU cores, 983040 MiB of memory and 0 GPUs and can be shared by up to 4 jobs.\n"
     ]
    },
    {
     "name": "stdout",
     "output_type": "stream",
     "text": [
      "Submitted batch job 1857995\n"
     ]
    },
    {
     "name": "stderr",
     "output_type": "stream",
     "text": [
      "sbatch: Single node jobs run on a shared node by default. Add --exclusive if you want to use a node exclusively.\n",
      "sbatch: You will be charged for 0.25 node. A full node consists of 128 CPU cores, 983040 MiB of memory and 0 GPUs and can be shared by up to 4 jobs.\n"
     ]
    },
    {
     "name": "stdout",
     "output_type": "stream",
     "text": [
      "Submitted batch job 1857997\n"
     ]
    }
   ],
   "source": [
    "from amftrack.pipeline.launching.run_super import (\n",
    "    run_parallel,\n",
    "    run_launcher,\n",
    "    run_parallel_all_time,\n",
    ")\n",
    "folders = all_folders.loc[all_folders[\"unique_id\"].isin(plates)]\n",
    "folders = folders.loc[folders[\"/Analysis/nx_graph_pruned_labeled.p\"] == True]\n",
    "args = [directory_targ]\n",
    "num_parallel = 32\n",
    "time = \"1:00:00\"\n",
    "limit = 200\n",
    "version = 1\n",
    "suffix = \"_labeled\"\n",
    "lim_considered = 10\n",
    "args = [directory_targ, limit, version, suffix, lim_considered]\n",
    "run_parallel_all_time(\n",
    "    \"hyphae_extraction.py\",\n",
    "    args,\n",
    "    folders,\n",
    "    num_parallel,\n",
    "    time,\n",
    "    \"hyphae\",\n",
    "    cpus=32,\n",
    "    node=\"fat\",\n",
    "    name_job='test',\n",
    ")"
   ]
  },
  {
   "cell_type": "code",
   "execution_count": 14,
   "id": "a30fd802-a1fe-461f-b1b6-1b1fa1060319",
   "metadata": {},
   "outputs": [
    {
     "data": {
      "text/plain": [
       "451"
      ]
     },
     "execution_count": 14,
     "metadata": {},
     "output_type": "execute_result"
    }
   ],
   "source": [
    "folders = folders.loc[folders[\"/Analysis/nx_graph_pruned_labeled.p\"] == True]\n",
    "len(folders)"
   ]
  },
  {
   "cell_type": "code",
   "execution_count": 20,
   "id": "c454083a-a612-4a78-aeb3-a63286412f69",
   "metadata": {},
   "outputs": [
    {
     "data": {
      "text/plain": [
       "107"
      ]
     },
     "execution_count": 20,
     "metadata": {},
     "output_type": "execute_result"
    }
   ],
   "source": [
    "len(list(set(folders[\"unique_id\"].values)))"
   ]
  },
  {
   "cell_type": "code",
   "execution_count": 37,
   "id": "625db32c-0d4d-4d84-a9d3-e56e905c7903",
   "metadata": {},
   "outputs": [
    {
     "name": "stdout",
     "output_type": "stream",
     "text": [
      "Submitted batch job 1858000\n"
     ]
    },
    {
     "name": "stderr",
     "output_type": "stream",
     "text": [
      "sbatch: Single node jobs run on a shared node by default. Add --exclusive if you want to use a node exclusively.\n",
      "sbatch: You will be charged for 0.03125 node. A full node consists of 32 CPU cores, 229376 MiB of memory and 0 GPUs and can be shared by up to 32 jobs.\n"
     ]
    }
   ],
   "source": [
    "stage = 20\n",
    "run_launcher(\n",
    "    \"post_processer_1.py\",\n",
    "    [directory_targ, name_job, stage - 1],\n",
    "    plates,\n",
    "    \"20:00\",\n",
    "    dependency=True,\n",
    "    name_job='test',\n",
    ")"
   ]
  },
  {
   "cell_type": "code",
   "execution_count": 28,
   "id": "453b9b49-e057-42af-81ba-4b370a36b07c",
   "metadata": {
    "collapsed": true,
    "jupyter": {
     "outputs_hidden": true
    },
    "tags": []
   },
   "outputs": [
    {
     "name": "stdout",
     "output_type": "stream",
     "text": [
      "/projects/0/einf914/data/Analysis_93_20220921_200_Version1/folder_info.json\n",
      "/projects/0/einf914/data/Analysis_92_20220921_2_Version1/folder_info.json\n",
      "/projects/0/einf914/data/Analysis_95_20220921_2_Version1/folder_info.json\n",
      "/projects/0/einf914/data/Analysis_94_20220921_200_Version1/folder_info.json\n",
      "/projects/0/einf914/data/Analysis_92_20220921_4_Version1/folder_info.json\n",
      "/projects/0/einf914/data/Analysis_99_20220921_200_Version1/folder_info.json\n",
      "/projects/0/einf914/data/Analysis_95_20220921_3_Version1/folder_info.json\n",
      "/projects/0/einf914/data/Analysis_94_20220921_3_Version1/folder_info.json\n",
      "/projects/0/einf914/data/Analysis_94_20220921_1_Version1/folder_info.json\n",
      "/projects/0/einf914/data/Analysis_93_20220921_3_Version1/folder_info.json\n",
      "/projects/0/einf914/data/Analysis_90_20220921_2_Version1/folder_info.json\n",
      "/projects/0/einf914/data/Analysis_98_20220921_3_Version1/folder_info.json\n",
      "/projects/0/einf914/data/Analysis_91_20220921_200_Version1/folder_info.json\n",
      "/projects/0/einf914/data/Analysis_90_20220921_1_Version1/folder_info.json\n",
      "/projects/0/einf914/data/Analysis_9_20220920_4_Version1/folder_info.json\n",
      "/projects/0/einf914/data/Analysis_90_20220921_3_Version1/folder_info.json\n",
      "/projects/0/einf914/data/Analysis_96_20220921_200_Version1/folder_info.json\n",
      "/projects/0/einf914/data/Analysis_92_20220921_200_Version1/folder_info.json\n",
      "/projects/0/einf914/data/Analysis_95_20220921_200_Version1/folder_info.json\n",
      "/projects/0/einf914/data/Analysis_90_20220921_200_Version1/folder_info.json\n",
      "/projects/0/einf914/data/Analysis_9_20220920_200_Version1/folder_info.json\n",
      "/projects/0/einf914/data/Analysis_93_20220921_4_Version1/folder_info.json\n",
      "/projects/0/einf914/data/Analysis_92_20220921_3_Version1/folder_info.json\n"
     ]
    }
   ],
   "source": [
    "update_analysis_info(directory_targ)\n",
    "analysis_info = get_analysis_info(directory_targ)\n",
    "analysis_folders = analysis_info.loc[analysis_info[\"unique_id\"].isin(plates)]"
   ]
  },
  {
   "cell_type": "code",
   "execution_count": 7,
   "id": "bb82a5fa-3b92-41bc-a92e-a004490c7455",
   "metadata": {},
   "outputs": [
    {
     "data": {
      "text/html": [
       "<div>\n",
       "<style scoped>\n",
       "    .dataframe tbody tr th:only-of-type {\n",
       "        vertical-align: middle;\n",
       "    }\n",
       "\n",
       "    .dataframe tbody tr th {\n",
       "        vertical-align: top;\n",
       "    }\n",
       "\n",
       "    .dataframe thead th {\n",
       "        text-align: right;\n",
       "    }\n",
       "</style>\n",
       "<table border=\"1\" class=\"dataframe\">\n",
       "  <thead>\n",
       "    <tr style=\"text-align: right;\">\n",
       "      <th></th>\n",
       "      <th>folder_analysis</th>\n",
       "      <th>version</th>\n",
       "      <th>total_path</th>\n",
       "      <th>Plate</th>\n",
       "      <th>PrincePos</th>\n",
       "      <th>root</th>\n",
       "      <th>strain</th>\n",
       "      <th>medium</th>\n",
       "      <th>split</th>\n",
       "      <th>Pbait</th>\n",
       "      <th>...</th>\n",
       "      <th>datetime</th>\n",
       "      <th>date_begin</th>\n",
       "      <th>date_end</th>\n",
       "      <th>number_timepoints</th>\n",
       "      <th>path_exp</th>\n",
       "      <th>path_global_hypha_info</th>\n",
       "      <th>path_time_hypha_info</th>\n",
       "      <th>path_time_plate_info</th>\n",
       "      <th>path_global_plate_info</th>\n",
       "      <th>date_run_analysis</th>\n",
       "    </tr>\n",
       "  </thead>\n",
       "  <tbody>\n",
       "    <tr>\n",
       "      <th>0</th>\n",
       "      <td>Analysis_33_20220502_188_Version1</td>\n",
       "      <td>Version1</td>\n",
       "      <td>/projects/0/einf914/data/20220502_2111_Plate07</td>\n",
       "      <td>33</td>\n",
       "      <td>7</td>\n",
       "      <td>'Carrot'</td>\n",
       "      <td>'Agg'</td>\n",
       "      <td>'001P100N100C'</td>\n",
       "      <td>'Y'</td>\n",
       "      <td>'-'</td>\n",
       "      <td>...</td>\n",
       "      <td>2022-05-02 21:11:00</td>\n",
       "      <td>02.05.2022, 21:11:</td>\n",
       "      <td>20.05.2022, 09:41:</td>\n",
       "      <td>188</td>\n",
       "      <td>Analysis_33_20220502_188_Version1/experiment.pick</td>\n",
       "      <td>Analysis_33_20220502_188_Version1/global_hypha...</td>\n",
       "      <td>Analysis_33_20220502_188_Version1/time_hypha_info</td>\n",
       "      <td>Analysis_33_20220502_188_Version1/time_plate_i...</td>\n",
       "      <td>Analysis_33_20220502_188_Version1/global_plate...</td>\n",
       "      <td>01.01.1970, 01:00:</td>\n",
       "    </tr>\n",
       "  </tbody>\n",
       "</table>\n",
       "<p>1 rows × 24 columns</p>\n",
       "</div>"
      ],
      "text/plain": [
       "                     folder_analysis   version  \\\n",
       "0  Analysis_33_20220502_188_Version1  Version1   \n",
       "\n",
       "                                       total_path Plate PrincePos      root  \\\n",
       "0  /projects/0/einf914/data/20220502_2111_Plate07    33         7  'Carrot'   \n",
       "\n",
       "  strain          medium split Pbait  ...             datetime  \\\n",
       "0  'Agg'  '001P100N100C'   'Y'   '-'  ...  2022-05-02 21:11:00   \n",
       "\n",
       "           date_begin            date_end number_timepoints  \\\n",
       "0  02.05.2022, 21:11:  20.05.2022, 09:41:               188   \n",
       "\n",
       "                                            path_exp  \\\n",
       "0  Analysis_33_20220502_188_Version1/experiment.pick   \n",
       "\n",
       "                              path_global_hypha_info  \\\n",
       "0  Analysis_33_20220502_188_Version1/global_hypha...   \n",
       "\n",
       "                                path_time_hypha_info  \\\n",
       "0  Analysis_33_20220502_188_Version1/time_hypha_info   \n",
       "\n",
       "                                path_time_plate_info  \\\n",
       "0  Analysis_33_20220502_188_Version1/time_plate_i...   \n",
       "\n",
       "                              path_global_plate_info   date_run_analysis  \n",
       "0  Analysis_33_20220502_188_Version1/global_plate...  01.01.1970, 01:00:  \n",
       "\n",
       "[1 rows x 24 columns]"
      ]
     },
     "execution_count": 7,
     "metadata": {},
     "output_type": "execute_result"
    }
   ],
   "source": [
    "analysis_folders"
   ]
  },
  {
   "cell_type": "code",
   "execution_count": 8,
   "id": "50d39007-aa12-4eaa-9df0-f0abab2833b7",
   "metadata": {},
   "outputs": [
    {
     "name": "stderr",
     "output_type": "stream",
     "text": [
      "sbatch: Single node jobs run on a shared node by default. Add --exclusive if you want to use a node exclusively.\n",
      "sbatch: You will be charged for 0.25 node. A full node consists of 128 CPU cores, 983040 MiB of memory and 0 GPUs and can be shared by up to 4 jobs.\n"
     ]
    },
    {
     "name": "stdout",
     "output_type": "stream",
     "text": [
      "Submitted batch job 1768604\n"
     ]
    },
    {
     "name": "stderr",
     "output_type": "stream",
     "text": [
      "sbatch: Single node jobs run on a shared node by default. Add --exclusive if you want to use a node exclusively.\n",
      "sbatch: You will be charged for 0.03125 node. A full node consists of 32 CPU cores, 229376 MiB of memory and 0 GPUs and can be shared by up to 32 jobs.\n"
     ]
    },
    {
     "name": "stdout",
     "output_type": "stream",
     "text": [
      "Submitted batch job 1768605\n"
     ]
    }
   ],
   "source": [
    "# name_job = f\"one_shot_{time_ns()}.sh\"\n",
    "\n",
    "from amftrack.pipeline.launching.run_super import run_parallel_post\n",
    "from amftrack.pipeline.functions.post_processing.global_plate import *\n",
    "from amftrack.pipeline.functions.post_processing.time_plate import *\n",
    "from amftrack.pipeline.functions.post_processing.global_hypha import *\n",
    "from amftrack.pipeline.functions.post_processing.area_hulls import *\n",
    "from amftrack.pipeline.launching.run_super import run_parallel, run_launcher\n",
    "from amftrack.pipeline.functions.post_processing.exp_plot import *\n",
    "\n",
    "time = \"24:00:00\"\n",
    "directory = directory_targ\n",
    "max_ind = 20\n",
    "incr = 100\n",
    "fs = [\n",
    "    get_density_in_ring,\n",
    "    get_density_anastomose_in_ring,\n",
    "    # get_density_branch_rate_in_ring,\n",
    "    # get_density_stop_rate_in_ring,\n",
    "    get_density_active_tips_in_ring,\n",
    "]\n",
    "# fs = [get_mean_speed_in_ring]\n",
    "\n",
    "list_f = []\n",
    "list_args = []\n",
    "\n",
    "for f in fs:\n",
    "    list_f += [f] * max_ind\n",
    "\n",
    "    list_args += [{\"incr\": incr, \"i\": i, \"rh_only\": True} for i in range(max_ind)]\n",
    "overwrite = False\n",
    "num_parallel = 30\n",
    "run_parallel_post(\n",
    "    \"time_plate_post_process.py\",\n",
    "    list_f,\n",
    "    list_args,\n",
    "    [directory, overwrite],\n",
    "    analysis_folders,\n",
    "    num_parallel,\n",
    "    time,\n",
    "    \"time_plate_post_process\",\n",
    "    cpus=32,\n",
    "    name_job=name_job,\n",
    "    node=\"fat\",\n",
    "    dependency=True,\n",
    ")\n",
    "run_launcher(\n",
    "    \"analysis_uploader.py\",\n",
    "    [directory_targ, name_job],\n",
    "    plates,\n",
    "    \"12:00:00\",\n",
    "    dependency=True,\n",
    "    name_job=name_job,\n",
    ")"
   ]
  },
  {
   "cell_type": "code",
   "execution_count": 41,
   "id": "be6cc993-f4e0-4008-aace-b1fa59150df2",
   "metadata": {},
   "outputs": [
    {
     "name": "stdout",
     "output_type": "stream",
     "text": [
      "Submitted batch job 1858250\n",
      "Submitted batch job 1858251\n",
      "Submitted batch job 1858252\n",
      "Submitted batch job 1858253\n",
      "Submitted batch job 1858255\n",
      "Submitted batch job 1858256\n"
     ]
    }
   ],
   "source": [
    "from amftrack.pipeline.launching.run_super import run_parallel, run_launcher\n",
    "name_job='malin'\n",
    "\n",
    "num_parallel = 100\n",
    "time = \"20:00\"\n",
    "args = [directory_targ]\n",
    "run_parallel(\n",
    "    \"compress_image.py\",\n",
    "    args,\n",
    "    folders,\n",
    "    num_parallel,\n",
    "    time,\n",
    "    \"compress\",\n",
    "    cpus=128,\n",
    "    node=\"fat\",\n",
    "    name_job = name_job\n",
    ")"
   ]
  },
  {
   "cell_type": "code",
   "execution_count": 42,
   "id": "9dcd9efc-585c-4333-a48c-a3f18ee134cb",
   "metadata": {},
   "outputs": [
    {
     "name": "stdout",
     "output_type": "stream",
     "text": [
      "Submitted batch job 1858259\n",
      "Submitted batch job 1858260\n",
      "Submitted batch job 1858262\n",
      "Submitted batch job 1858267\n",
      "Submitted batch job 1858268\n",
      "Submitted batch job 1858269\n",
      "Submitted batch job 1858270\n",
      "Submitted batch job 1858271\n",
      "Submitted batch job 1858272\n",
      "Submitted batch job 1858273\n",
      "Submitted batch job 1858274\n",
      "Submitted batch job 1858275\n"
     ]
    }
   ],
   "source": [
    "from amftrack.pipeline.launching.run_super import run_parallel, run_launcher\n",
    "\n",
    "num_parallel = 50\n",
    "time = \"12:00:00\"\n",
    "hyph_width = 30\n",
    "perc_low = 93\n",
    "perc_high = 99.5\n",
    "args = [hyph_width, perc_low, perc_high, directory_targ]\n",
    "run_parallel(\n",
    "    \"extract_skel_2.py\",\n",
    "    args,\n",
    "    folders,\n",
    "    num_parallel,\n",
    "    time,\n",
    "    \"skeletonization\",\n",
    "    cpus=128,\n",
    "    node=\"fat\",\n",
    "    name_job = name_job\n",
    ")"
   ]
  },
  {
   "cell_type": "code",
   "execution_count": 43,
   "id": "42455272-081b-43a0-b69e-6e0dab68ff77",
   "metadata": {},
   "outputs": [
    {
     "name": "stdout",
     "output_type": "stream",
     "text": [
      "Submitted batch job 1858277\n",
      "Submitted batch job 1858279\n",
      "Submitted batch job 1858282\n",
      "Submitted batch job 1858283\n",
      "Submitted batch job 1858284\n",
      "Submitted batch job 1858285\n"
     ]
    }
   ],
   "source": [
    "from amftrack.pipeline.launching.run_super import run_parallel, run_launcher\n",
    "\n",
    "num_parallel = 100\n",
    "time = \"20:00\"\n",
    "args = [directory_targ]\n",
    "run_parallel(\n",
    "    \"detect_blob.py\",\n",
    "    args,\n",
    "    folders,\n",
    "    num_parallel,\n",
    "    time,\n",
    "    \"detect_blob\",\n",
    "    cpus=128,\n",
    "    node=\"fat\",\n",
    "    name_job = name_job\n",
    ")"
   ]
  },
  {
   "cell_type": "code",
   "execution_count": 7,
   "id": "706dce62-3dc8-4c0b-b297-0213da796b2f",
   "metadata": {},
   "outputs": [
    {
     "name": "stderr",
     "output_type": "stream",
     "text": [
      "sbatch: Single node jobs run on a shared node by default. Add --exclusive if you want to use a node exclusively.\n",
      "sbatch: You will be charged for 0.03125 node. A full node consists of 32 CPU cores, 229376 MiB of memory and 0 GPUs and can be shared by up to 32 jobs.\n"
     ]
    },
    {
     "name": "stdout",
     "output_type": "stream",
     "text": [
      "Submitted batch job 1861160\n"
     ]
    }
   ],
   "source": [
    "name_job='malin'\n",
    "\n",
    "run_launcher(\n",
    "    \"masker.py\",\n",
    "    [directory_targ, name_job, 30],\n",
    "    plates,\n",
    "    \"3:00:00\",\n",
    "    dependency=True,\n",
    "    name_job=name_job,\n",
    ")"
   ]
  },
  {
   "cell_type": "code",
   "execution_count": 25,
   "id": "f371697c-0d27-40e2-8b68-8d9ad947ee9c",
   "metadata": {},
   "outputs": [
    {
     "name": "stderr",
     "output_type": "stream",
     "text": [
      "sbatch: Single node jobs run on a shared node by default. Add --exclusive if you want to use a node exclusively.\n",
      "sbatch: You will be charged for 0.25 node. A full node consists of 128 CPU cores, 983040 MiB of memory and 0 GPUs and can be shared by up to 4 jobs.\n"
     ]
    },
    {
     "name": "stdout",
     "output_type": "stream",
     "text": [
      "Submitted batch job 1828129\n"
     ]
    },
    {
     "name": "stderr",
     "output_type": "stream",
     "text": [
      "sbatch: Single node jobs run on a shared node by default. Add --exclusive if you want to use a node exclusively.\n",
      "sbatch: You will be charged for 0.25 node. A full node consists of 128 CPU cores, 983040 MiB of memory and 0 GPUs and can be shared by up to 4 jobs.\n"
     ]
    },
    {
     "name": "stdout",
     "output_type": "stream",
     "text": [
      "Submitted batch job 1828130\n"
     ]
    },
    {
     "name": "stderr",
     "output_type": "stream",
     "text": [
      "sbatch: Single node jobs run on a shared node by default. Add --exclusive if you want to use a node exclusively.\n",
      "sbatch: You will be charged for 0.25 node. A full node consists of 128 CPU cores, 983040 MiB of memory and 0 GPUs and can be shared by up to 4 jobs.\n"
     ]
    },
    {
     "name": "stdout",
     "output_type": "stream",
     "text": [
      "Submitted batch job 1828131\n"
     ]
    }
   ],
   "source": [
    "from amftrack.pipeline.launching.run_super import run_parallel_all_time, run_launcher\n",
    "\n",
    "folders = all_folders.loc[all_folders[\"unique_id\"].isin(plates)]\n",
    "folders = folders.loc[folders[\"/Img/TileConfiguration.txt.registered\"] == True]\n",
    "num_parallel = 50\n",
    "time = \"10:00\"\n",
    "args = []\n",
    "run_parallel_all_time(\n",
    "    \"make_video_stitched.py\",\n",
    "    args,\n",
    "    folders,\n",
    "    num_parallel,\n",
    "    time,\n",
    "    \"make_video\",\n",
    "    cpus=32,\n",
    "    node=\"fat\",\n",
    "    dependency=False,\n",
    "    name_job=\"video\",\n",
    ")"
   ]
  },
  {
   "cell_type": "code",
   "execution_count": 3,
   "id": "6bb3b8f2-51c2-4a2b-b38c-e369dfbad277",
   "metadata": {},
   "outputs": [],
   "source": [
    "plates = [\n",
    "    \"105_20220817\",\n",
    "    \"77_20220808\",\n",
    "    \"71_20220817\",\n",
    "    \"100_20220812\",\n",
    "    \"117_20220815\",\n",
    "    \"99_20220815\",\n",
    "    \"75_20220808\",\n",
    "    \"226_20220812\",\n",
    "]"
   ]
  },
  {
   "cell_type": "code",
   "execution_count": 46,
   "id": "5d7f5622-0995-4bc4-9f1a-665e35b9425b",
   "metadata": {
    "tags": []
   },
   "outputs": [],
   "source": [
    "folders = all_folders.loc[all_folders[\"Plate\"].isin([\"32\"])]"
   ]
  },
  {
   "cell_type": "code",
   "execution_count": 17,
   "id": "3bce3711-f0df-422d-8ebf-a43a23e1a840",
   "metadata": {
    "tags": []
   },
   "outputs": [
    {
     "name": "stderr",
     "output_type": "stream",
     "text": [
      "sbatch: Single node jobs run on a shared node by default. Add --exclusive if you want to use a node exclusively.\n",
      "sbatch: You will be charged for 0.25 node. A full node consists of 128 CPU cores, 983040 MiB of memory and 0 GPUs and can be shared by up to 4 jobs.\n"
     ]
    },
    {
     "name": "stdout",
     "output_type": "stream",
     "text": [
      "Submitted batch job 1738329\n"
     ]
    }
   ],
   "source": [
    "from amftrack.pipeline.launching.run_super import *\n",
    "\n",
    "num_parallel = 32\n",
    "time = \"8:00:00\"\n",
    "limit = 200\n",
    "version = 1\n",
    "labeled = True\n",
    "args = [directory_targ, limit, version, labeled]\n",
    "run_parallel_all_time(\n",
    "    \"hyphae_extraction.py\",\n",
    "    args,\n",
    "    folders,\n",
    "    num_parallel,\n",
    "    time,\n",
    "    \"hyphae\",\n",
    "    cpus=32,\n",
    "    node=\"fat\",\n",
    ")"
   ]
  },
  {
   "cell_type": "code",
   "execution_count": 12,
   "id": "0d0eeec2-4e63-4b1b-972d-f76bd6a035bf",
   "metadata": {},
   "outputs": [
    {
     "name": "stdout",
     "output_type": "stream",
     "text": [
      "Submitted batch job 1138954\n"
     ]
    },
    {
     "name": "stderr",
     "output_type": "stream",
     "text": [
      "sbatch: Single node jobs run on a shared node by default. Add --exclusive if you want to use a node exclusively.\n",
      "sbatch: You will be charged for 1.0 node. A full node consists of 128 CPU cores, 983040 MiB of memory and 0 GPUs and can be shared by up to 4 jobs.\n"
     ]
    }
   ],
   "source": [
    "from amftrack.pipeline.launching.run_super import run_parallel, run_launcher\n",
    "\n",
    "for plate in plates:\n",
    "    select = folders.loc[folders[\"Plate\"] == plate]\n",
    "    num_parallel = 128\n",
    "    time = \"12:00:00\"\n",
    "    thresh = 10000  # For R. irregularis, thresh 10000 is good. For Aggregatum, higher may be necessary\n",
    "    args = [thresh, directory_targ]\n",
    "    run_parallel(\n",
    "        \"final_alignment.py\",\n",
    "        args,\n",
    "        select,\n",
    "        num_parallel,\n",
    "        time,\n",
    "        \"realign\",\n",
    "        cpus=128,\n",
    "        node=\"fat\",\n",
    "        name_job=name_job,\n",
    "    )"
   ]
  },
  {
   "cell_type": "code",
   "execution_count": 20,
   "id": "656f2038-0660-4d13-acd0-7580b56a8a84",
   "metadata": {},
   "outputs": [
    {
     "data": {
      "text/plain": [
       "['6_20220509']"
      ]
     },
     "execution_count": 20,
     "metadata": {},
     "output_type": "execute_result"
    }
   ],
   "source": [
    "plates"
   ]
  },
  {
   "cell_type": "code",
   "execution_count": 19,
   "id": "6323eacb-c44e-463b-90e7-bf55aaf43ab1",
   "metadata": {},
   "outputs": [
    {
     "data": {
      "text/html": [
       "<div>\n",
       "<style scoped>\n",
       "    .dataframe tbody tr th:only-of-type {\n",
       "        vertical-align: middle;\n",
       "    }\n",
       "\n",
       "    .dataframe tbody tr th {\n",
       "        vertical-align: top;\n",
       "    }\n",
       "\n",
       "    .dataframe thead th {\n",
       "        text-align: right;\n",
       "    }\n",
       "</style>\n",
       "<table border=\"1\" class=\"dataframe\">\n",
       "  <thead>\n",
       "    <tr style=\"text-align: right;\">\n",
       "      <th></th>\n",
       "      <th>total_path</th>\n",
       "      <th>Plate</th>\n",
       "      <th>PrincePos</th>\n",
       "      <th>root</th>\n",
       "      <th>strain</th>\n",
       "      <th>medium</th>\n",
       "      <th>split</th>\n",
       "      <th>Pbait</th>\n",
       "      <th>CrossDate</th>\n",
       "      <th>Temperature</th>\n",
       "      <th>...</th>\n",
       "      <th>/Analysis/transform.mat</th>\n",
       "      <th>/Analysis/transform_corrupt.mat</th>\n",
       "      <th>/Analysis/skeleton_realigned_compressed.mat</th>\n",
       "      <th>/Analysis/nx_graph_pruned.p</th>\n",
       "      <th>/Analysis/nx_graph_pruned_width.p</th>\n",
       "      <th>/Analysis/nx_graph_pruned_labeled.p</th>\n",
       "      <th>date</th>\n",
       "      <th>folder</th>\n",
       "      <th>unique_id</th>\n",
       "      <th>datetime</th>\n",
       "    </tr>\n",
       "  </thead>\n",
       "  <tbody>\n",
       "  </tbody>\n",
       "</table>\n",
       "<p>0 rows × 24 columns</p>\n",
       "</div>"
      ],
      "text/plain": [
       "Empty DataFrame\n",
       "Columns: [total_path, Plate, PrincePos, root, strain, medium, split, Pbait, CrossDate, Temperature, /Img/TileConfiguration.txt.registered, /Analysis/skeleton_compressed.mat, /Analysis/skeleton_masked_compressed.mat, /Analysis/skeleton_pruned_compressed.mat, /Analysis/transform.mat, /Analysis/transform_corrupt.mat, /Analysis/skeleton_realigned_compressed.mat, /Analysis/nx_graph_pruned.p, /Analysis/nx_graph_pruned_width.p, /Analysis/nx_graph_pruned_labeled.p, date, folder, unique_id, datetime]\n",
       "Index: []\n",
       "\n",
       "[0 rows x 24 columns]"
      ]
     },
     "execution_count": 19,
     "metadata": {},
     "output_type": "execute_result"
    }
   ],
   "source": [
    "select"
   ]
  },
  {
   "cell_type": "code",
   "execution_count": 13,
   "id": "aae06165-b345-4cf1-9404-52abd616e3d0",
   "metadata": {},
   "outputs": [
    {
     "name": "stdout",
     "output_type": "stream",
     "text": [
      "========\n",
      "Matching plate 20220510_1851_Plate17 at dates ['20220510_1851_Plate17', '20220511_1750_Plate17']\n",
      "========\n"
     ]
    }
   ],
   "source": [
    "i = 0\n",
    "run_info = folders\n",
    "folder_list = list(run_info[\"folder\"])\n",
    "folder_list.sort()\n",
    "\n",
    "dates_datetime_chosen = folder_list[i : i + 2]\n",
    "print(\"========\")\n",
    "print(f\"Matching plate {dates_datetime_chosen[0]} at dates {dates_datetime_chosen}\")\n",
    "print(\"========\")\n",
    "dates = dates_datetime_chosen"
   ]
  },
  {
   "cell_type": "code",
   "execution_count": 10,
   "id": "0556ab5e-23a7-4259-9c1f-e183de22004f",
   "metadata": {},
   "outputs": [],
   "source": [
    "from amftrack.pipeline.launching.run_super import run_parallel_post\n",
    "from amftrack.pipeline.functions.post_processing.global_plate import *\n",
    "from amftrack.pipeline.functions.post_processing.time_plate import *\n",
    "from amftrack.pipeline.functions.post_processing.global_hypha import *\n",
    "from amftrack.pipeline.functions.post_processing.area_hulls import *\n",
    "from amftrack.pipeline.launching.run_super import run_parallel, run_launcher\n",
    "from amftrack.pipeline.functions.post_processing.exp_plot import *\n",
    "\n",
    "update_analysis_info(directory_targ)\n",
    "analysis_info = get_analysis_info(directory_targ)\n",
    "analysis_folders = analysis_info.loc[analysis_info[\"unique_id\"].isin(plates)]\n",
    "directory = directory_targ"
   ]
  },
  {
   "cell_type": "code",
   "execution_count": 11,
   "id": "029954ec-42f9-4ba2-9dbe-137682996560",
   "metadata": {
    "tags": []
   },
   "outputs": [
    {
     "name": "stdout",
     "output_type": "stream",
     "text": [
      "Submitted batch job 1539552\n"
     ]
    },
    {
     "name": "stderr",
     "output_type": "stream",
     "text": [
      "sbatch: Single node jobs run on a shared node by default. Add --exclusive if you want to use a node exclusively.\n",
      "sbatch: You will be charged for 0.25 node. A full node consists of 128 CPU cores, 983040 MiB of memory and 0 GPUs and can be shared by up to 4 jobs.\n"
     ]
    }
   ],
   "source": [
    "time = \"3:40:00\"\n",
    "directory = directory_targ\n",
    "# list_f = [get_width_f,get_tot_length_C_f,get_tot_growth_C_f]\n",
    "# list_f = [get_timestep_anastomosis]\n",
    "list_f = [\n",
    "    gets_out_of_ROI,\n",
    "    get_width_f,\n",
    "    get_tot_length_C_f,\n",
    "    get_tot_growth_C_f,\n",
    "    get_tot_length_pp_f,\n",
    "    get_tot_growth_pp_f,\n",
    "    get_timestep_stop_growth,\n",
    "    get_time_stop_growth,\n",
    "    get_time_init_growth,\n",
    "    get_mean_speed_growth,\n",
    "    get_stop_track,\n",
    "    get_timestep_anastomosis,\n",
    "    get_timestep_biological_stop_growth,\n",
    "]\n",
    "# list_f = [get_num_branch]\n",
    "# list_f = [gets_out_of_ROI]\n",
    "list_args = [{}] * len(list_f)\n",
    "overwrite = False\n",
    "num_parallel = 32\n",
    "run_parallel_post(\n",
    "    \"global_hypha_post_process.py\",\n",
    "    list_f,\n",
    "    list_args,\n",
    "    [directory, overwrite],\n",
    "    analysis_folders,\n",
    "    num_parallel,\n",
    "    time,\n",
    "    \"global_hypha_post_process\",\n",
    "    cpus=32,\n",
    "    name_job=\"a\",\n",
    "    node=\"fat\",\n",
    ")"
   ]
  },
  {
   "cell_type": "code",
   "execution_count": 13,
   "id": "bac5d4ee-b1e5-4027-8f98-8f7c1d7d7726",
   "metadata": {
    "collapsed": true,
    "jupyter": {
     "outputs_hidden": true
    },
    "tags": []
   },
   "outputs": [
    {
     "name": "stdout",
     "output_type": "stream",
     "text": [
      "Submitted batch job 1539625\n",
      "Submitted batch job 1539626\n",
      "Submitted batch job 1539627\n"
     ]
    },
    {
     "name": "stderr",
     "output_type": "stream",
     "text": [
      "sbatch: Single node jobs run on a shared node by default. Add --exclusive if you want to use a node exclusively.\n",
      "sbatch: You will be charged for 0.25 node. A full node consists of 128 CPU cores, 983040 MiB of memory and 0 GPUs and can be shared by up to 4 jobs.\n",
      "sbatch: Single node jobs run on a shared node by default. Add --exclusive if you want to use a node exclusively.\n",
      "sbatch: You will be charged for 0.25 node. A full node consists of 128 CPU cores, 983040 MiB of memory and 0 GPUs and can be shared by up to 4 jobs.\n",
      "sbatch: Single node jobs run on a shared node by default. Add --exclusive if you want to use a node exclusively.\n",
      "sbatch: You will be charged for 0.25 node. A full node consists of 128 CPU cores, 983040 MiB of memory and 0 GPUs and can be shared by up to 4 jobs.\n",
      "sbatch: Single node jobs run on a shared node by default. Add --exclusive if you want to use a node exclusively.\n",
      "sbatch: You will be charged for 0.25 node. A full node consists of 128 CPU cores, 983040 MiB of memory and 0 GPUs and can be shared by up to 4 jobs.\n",
      "sbatch: Single node jobs run on a shared node by default. Add --exclusive if you want to use a node exclusively.\n",
      "sbatch: You will be charged for 0.25 node. A full node consists of 128 CPU cores, 983040 MiB of memory and 0 GPUs and can be shared by up to 4 jobs.\n",
      "sbatch: Single node jobs run on a shared node by default. Add --exclusive if you want to use a node exclusively.\n",
      "sbatch: You will be charged for 0.25 node. A full node consists of 128 CPU cores, 983040 MiB of memory and 0 GPUs and can be shared by up to 4 jobs.\n"
     ]
    },
    {
     "name": "stdout",
     "output_type": "stream",
     "text": [
      "Submitted batch job 1539628\n",
      "Submitted batch job 1539629\n",
      "Submitted batch job 1539630\n"
     ]
    },
    {
     "name": "stderr",
     "output_type": "stream",
     "text": [
      "sbatch: Single node jobs run on a shared node by default. Add --exclusive if you want to use a node exclusively.\n",
      "sbatch: You will be charged for 0.25 node. A full node consists of 128 CPU cores, 983040 MiB of memory and 0 GPUs and can be shared by up to 4 jobs.\n"
     ]
    },
    {
     "name": "stdout",
     "output_type": "stream",
     "text": [
      "Submitted batch job 1539631\n"
     ]
    },
    {
     "name": "stderr",
     "output_type": "stream",
     "text": [
      "sbatch: Single node jobs run on a shared node by default. Add --exclusive if you want to use a node exclusively.\n",
      "sbatch: You will be charged for 0.25 node. A full node consists of 128 CPU cores, 983040 MiB of memory and 0 GPUs and can be shared by up to 4 jobs.\n",
      "sbatch: Single node jobs run on a shared node by default. Add --exclusive if you want to use a node exclusively.\n",
      "sbatch: You will be charged for 0.25 node. A full node consists of 128 CPU cores, 983040 MiB of memory and 0 GPUs and can be shared by up to 4 jobs.\n"
     ]
    },
    {
     "name": "stdout",
     "output_type": "stream",
     "text": [
      "Submitted batch job 1539632\n",
      "Submitted batch job 1539633\n"
     ]
    },
    {
     "name": "stderr",
     "output_type": "stream",
     "text": [
      "sbatch: Single node jobs run on a shared node by default. Add --exclusive if you want to use a node exclusively.\n",
      "sbatch: You will be charged for 0.25 node. A full node consists of 128 CPU cores, 983040 MiB of memory and 0 GPUs and can be shared by up to 4 jobs.\n",
      "sbatch: Single node jobs run on a shared node by default. Add --exclusive if you want to use a node exclusively.\n",
      "sbatch: You will be charged for 0.25 node. A full node consists of 128 CPU cores, 983040 MiB of memory and 0 GPUs and can be shared by up to 4 jobs.\n",
      "sbatch: Single node jobs run on a shared node by default. Add --exclusive if you want to use a node exclusively.\n",
      "sbatch: You will be charged for 0.25 node. A full node consists of 128 CPU cores, 983040 MiB of memory and 0 GPUs and can be shared by up to 4 jobs.\n"
     ]
    },
    {
     "name": "stdout",
     "output_type": "stream",
     "text": [
      "Submitted batch job 1539634\n",
      "Submitted batch job 1539635\n",
      "Submitted batch job 1539636\n"
     ]
    },
    {
     "name": "stderr",
     "output_type": "stream",
     "text": [
      "sbatch: Single node jobs run on a shared node by default. Add --exclusive if you want to use a node exclusively.\n",
      "sbatch: You will be charged for 0.25 node. A full node consists of 128 CPU cores, 983040 MiB of memory and 0 GPUs and can be shared by up to 4 jobs.\n",
      "sbatch: Single node jobs run on a shared node by default. Add --exclusive if you want to use a node exclusively.\n",
      "sbatch: You will be charged for 0.25 node. A full node consists of 128 CPU cores, 983040 MiB of memory and 0 GPUs and can be shared by up to 4 jobs.\n",
      "sbatch: Single node jobs run on a shared node by default. Add --exclusive if you want to use a node exclusively.\n",
      "sbatch: You will be charged for 0.25 node. A full node consists of 128 CPU cores, 983040 MiB of memory and 0 GPUs and can be shared by up to 4 jobs.\n"
     ]
    },
    {
     "name": "stdout",
     "output_type": "stream",
     "text": [
      "Submitted batch job 1539637\n",
      "Submitted batch job 1539638\n",
      "Submitted batch job 1539639\n"
     ]
    },
    {
     "name": "stderr",
     "output_type": "stream",
     "text": [
      "sbatch: Single node jobs run on a shared node by default. Add --exclusive if you want to use a node exclusively.\n",
      "sbatch: You will be charged for 0.25 node. A full node consists of 128 CPU cores, 983040 MiB of memory and 0 GPUs and can be shared by up to 4 jobs.\n",
      "sbatch: Single node jobs run on a shared node by default. Add --exclusive if you want to use a node exclusively.\n",
      "sbatch: You will be charged for 0.25 node. A full node consists of 128 CPU cores, 983040 MiB of memory and 0 GPUs and can be shared by up to 4 jobs.\n"
     ]
    },
    {
     "name": "stdout",
     "output_type": "stream",
     "text": [
      "Submitted batch job 1539640\n",
      "Submitted batch job 1539641\n",
      "Submitted batch job 1539642\n"
     ]
    },
    {
     "name": "stderr",
     "output_type": "stream",
     "text": [
      "sbatch: Single node jobs run on a shared node by default. Add --exclusive if you want to use a node exclusively.\n",
      "sbatch: You will be charged for 0.25 node. A full node consists of 128 CPU cores, 983040 MiB of memory and 0 GPUs and can be shared by up to 4 jobs.\n",
      "sbatch: Single node jobs run on a shared node by default. Add --exclusive if you want to use a node exclusively.\n",
      "sbatch: You will be charged for 0.25 node. A full node consists of 128 CPU cores, 983040 MiB of memory and 0 GPUs and can be shared by up to 4 jobs.\n",
      "sbatch: Single node jobs run on a shared node by default. Add --exclusive if you want to use a node exclusively.\n",
      "sbatch: You will be charged for 0.25 node. A full node consists of 128 CPU cores, 983040 MiB of memory and 0 GPUs and can be shared by up to 4 jobs.\n"
     ]
    },
    {
     "name": "stdout",
     "output_type": "stream",
     "text": [
      "Submitted batch job 1539643\n",
      "Submitted batch job 1539644\n"
     ]
    },
    {
     "name": "stderr",
     "output_type": "stream",
     "text": [
      "sbatch: Single node jobs run on a shared node by default. Add --exclusive if you want to use a node exclusively.\n",
      "sbatch: You will be charged for 0.25 node. A full node consists of 128 CPU cores, 983040 MiB of memory and 0 GPUs and can be shared by up to 4 jobs.\n",
      "sbatch: Single node jobs run on a shared node by default. Add --exclusive if you want to use a node exclusively.\n",
      "sbatch: You will be charged for 0.25 node. A full node consists of 128 CPU cores, 983040 MiB of memory and 0 GPUs and can be shared by up to 4 jobs.\n"
     ]
    },
    {
     "name": "stdout",
     "output_type": "stream",
     "text": [
      "Submitted batch job 1539645\n",
      "Submitted batch job 1539646\n"
     ]
    },
    {
     "name": "stderr",
     "output_type": "stream",
     "text": [
      "sbatch: Single node jobs run on a shared node by default. Add --exclusive if you want to use a node exclusively.\n",
      "sbatch: You will be charged for 0.25 node. A full node consists of 128 CPU cores, 983040 MiB of memory and 0 GPUs and can be shared by up to 4 jobs.\n",
      "sbatch: Single node jobs run on a shared node by default. Add --exclusive if you want to use a node exclusively.\n",
      "sbatch: You will be charged for 0.25 node. A full node consists of 128 CPU cores, 983040 MiB of memory and 0 GPUs and can be shared by up to 4 jobs.\n"
     ]
    },
    {
     "name": "stdout",
     "output_type": "stream",
     "text": [
      "Submitted batch job 1539647\n",
      "Submitted batch job 1539648\n",
      "Submitted batch job 1539649\n"
     ]
    },
    {
     "name": "stderr",
     "output_type": "stream",
     "text": [
      "sbatch: Single node jobs run on a shared node by default. Add --exclusive if you want to use a node exclusively.\n",
      "sbatch: You will be charged for 0.25 node. A full node consists of 128 CPU cores, 983040 MiB of memory and 0 GPUs and can be shared by up to 4 jobs.\n"
     ]
    }
   ],
   "source": [
    "import sys\n",
    "from amftrack.util.sys import (\n",
    "    update_analysis_info,\n",
    "    get_analysis_info,\n",
    ")\n",
    "from amftrack.pipeline.launching.run_super import run_parallel_post\n",
    "from amftrack.pipeline.functions.post_processing.time_hypha import *\n",
    "from amftrack.pipeline.launching.run_super import run_parallel, run_launcher\n",
    "import pandas as pd\n",
    "import os\n",
    "\n",
    "list_f = [\n",
    "    get_pos_x,\n",
    "    get_pos_y,\n",
    "    get_time_since_begin_exp,\n",
    "    get_distance_final_pos,\n",
    "    get_timedelta,\n",
    "    get_time_since_start,\n",
    "    get_speed,\n",
    "    get_timestep,\n",
    "    get_timestep_init,\n",
    "    get_time_init,\n",
    "    get_degree,\n",
    "    get_width_tip_edge,\n",
    "    get_width_root_edge,\n",
    "    get_width_average,\n",
    "    has_reached_final_pos,\n",
    "    in_ROI,\n",
    "]\n",
    "# list_f = [local_density,local_density,local_density]\n",
    "# list_f = [get_time_since_begin_exp]\n",
    "# list_f = [get_width_tip_edge, get_width_root_edge]\n",
    "list_args = [{}] * len(list_f)\n",
    "# list_args= [[500],[1000],[2000]]+[[]]\n",
    "# list_args= [[500]]\n",
    "overwrite = False\n",
    "load_graphs = True\n",
    "num_parallel = 32\n",
    "time = \"12:00:00\"\n",
    "for index, row in analysis_folders.iterrows():\n",
    "    folder = row[\"folder_analysis\"]\n",
    "    path_time_plate_info = row[\"path_time_plate_info\"]\n",
    "    plate = row[\"Plate\"]\n",
    "    num_cpus = 32\n",
    "    if os.path.isfile(f\"{directory_targ}{path_time_plate_info}\"):\n",
    "        whole_plate_info = pd.read_json(\n",
    "            f\"{directory_targ}{path_time_plate_info}\", convert_dates=True\n",
    "        ).transpose()\n",
    "        whole_plate_info.index.name = \"t\"\n",
    "        whole_plate_info.reset_index(inplace=True)\n",
    "        run_parallel_post(\n",
    "            \"time_hypha_post_process.py\",\n",
    "            list_f,\n",
    "            list_args,\n",
    "            [directory_targ, overwrite, load_graphs],\n",
    "            whole_plate_info,\n",
    "            num_parallel,\n",
    "            time,\n",
    "            \"time_hypha_post_process\",\n",
    "            cpus=num_cpus,\n",
    "            name_job=name_job,\n",
    "            node=\"fat\",\n",
    "        )"
   ]
  }
 ],
 "metadata": {
  "kernelspec": {
   "display_name": "Python 3 (ipykernel)",
   "language": "python",
   "name": "python3"
  },
  "language_info": {
   "codemirror_mode": {
    "name": "ipython",
    "version": 3
   },
   "file_extension": ".py",
   "mimetype": "text/x-python",
   "name": "python",
   "nbconvert_exporter": "python",
   "pygments_lexer": "ipython3",
   "version": "3.7.13"
  }
 },
 "nbformat": 4,
 "nbformat_minor": 5
}

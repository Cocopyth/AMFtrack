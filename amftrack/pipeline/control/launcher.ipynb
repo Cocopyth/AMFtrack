{
 "cells": [
  {
   "cell_type": "code",
   "execution_count": 15,
   "id": "b608afbc-ca48-476f-a966-f94e310ea7ab",
   "metadata": {},
   "outputs": [
    {
     "name": "stdout",
     "output_type": "stream",
     "text": [
      "The autoreload extension is already loaded. To reload it, use:\n",
      "  %reload_ext autoreload\n"
     ]
    }
   ],
   "source": [
    "%load_ext autoreload\n",
    "%autoreload 2\n",
    "from amftrack.pipeline.launching.run_super import (\n",
    "    run_launcher,\n",
    "    directory_scratch,\n",
    "    directory_project,\n",
    "    directory_project,\n",
    "    run_parallel_stitch,\n",
    "    run_parallel_transfer,\n",
    ")\n",
    "import os\n",
    "from amftrack.util.sys import (\n",
    "    get_dates_datetime,\n",
    "    get_dirname,\n",
    "    temp_path,\n",
    "    get_data_info,\n",
    "    update_plate_info,\n",
    "    update_analysis_info,\n",
    "    get_analysis_info,\n",
    "    get_current_folders,\n",
    "    get_folders_by_plate_id,\n",
    ")\n",
    "from time import time_ns\n",
    "from amftrack.util.dbx import upload_folders, load_dbx, download, get_dropbox_folders\n",
    "from datetime import datetime"
   ]
  },
  {
   "cell_type": "code",
   "execution_count": 2,
   "id": "34c1d5cb-c3d4-4749-becc-12e63f0c7e08",
   "metadata": {},
   "outputs": [],
   "source": [
    "plates  = ['19_20220920']"
   ]
  },
  {
   "cell_type": "code",
   "execution_count": 44,
   "id": "3194edd8-ac63-4ea0-824c-3c738a071d37",
   "metadata": {},
   "outputs": [],
   "source": [
    "folders_drop = all_folders_drop.loc[\n",
    "    all_folders_drop[\"folder\"] == \"20221116_1111_Plate21\"\n",
    "]"
   ]
  },
  {
   "cell_type": "code",
   "execution_count": 47,
   "id": "f377c5c8-cbfd-45d5-bc4c-3096fd4a3e74",
   "metadata": {},
   "outputs": [],
   "source": [
    "run_parallel_transfer(\n",
    "    \"from_drop.py\",\n",
    "    [directory_targ],\n",
    "    folders_drop,\n",
    "    50,\n",
    "    \"24:00:00\",\n",
    "    \"staging\",\n",
    "    cpus=1,\n",
    "    node=\"staging\",\n",
    "    name_job=\"kaikai\",\n",
    ")"
   ]
  },
  {
   "cell_type": "code",
   "execution_count": 10,
   "id": "afdc3901-8c7c-40b5-8985-00f54a3102b0",
   "metadata": {
    "collapsed": true,
    "jupyter": {
     "outputs_hidden": true
    },
    "tags": []
   },
   "outputs": [
    {
     "name": "stdout",
     "output_type": "stream",
     "text": [
      "2022-11-04 10:13:53,458-[INFO]- dropbox:390 -> Refreshing access token.\n",
      "2022-11-04 10:13:53,719-[INFO]- dropbox:474 -> Request to files/list_folder\n"
     ]
    },
    {
     "ename": "KeyboardInterrupt",
     "evalue": "",
     "output_type": "error",
     "traceback": [
      "\u001b[0;31m---------------------------------------------------------------------------\u001b[0m",
      "\u001b[0;31mKeyboardInterrupt\u001b[0m                         Traceback (most recent call last)",
      "\u001b[0;32m/scratch-local/cbisot/ipykernel_773528/1830841710.py\u001b[0m in \u001b[0;36m<module>\u001b[0;34m\u001b[0m\n\u001b[0;32m----> 1\u001b[0;31m \u001b[0mall_folders_drop\u001b[0m \u001b[0;34m=\u001b[0m \u001b[0mget_dropbox_folders\u001b[0m\u001b[0;34m(\u001b[0m\u001b[0;34m\"/DATA/PRINCE\"\u001b[0m\u001b[0;34m,\u001b[0m \u001b[0;32mTrue\u001b[0m\u001b[0;34m)\u001b[0m\u001b[0;34m\u001b[0m\u001b[0;34m\u001b[0m\u001b[0m\n\u001b[0m",
      "\u001b[0;32m/gpfs/home2/cbisot/pycode/AMFtrack/amftrack/util/dbx.py\u001b[0m in \u001b[0;36mget_dropbox_folders\u001b[0;34m(dir_drop, skip_size)\u001b[0m\n\u001b[1;32m    312\u001b[0m \u001b[0;32mdef\u001b[0m \u001b[0mget_dropbox_folders\u001b[0m\u001b[0;34m(\u001b[0m\u001b[0mdir_drop\u001b[0m\u001b[0;34m:\u001b[0m \u001b[0mstr\u001b[0m\u001b[0;34m,\u001b[0m \u001b[0mskip_size\u001b[0m\u001b[0;34m:\u001b[0m \u001b[0mbool\u001b[0m \u001b[0;34m=\u001b[0m \u001b[0;32mTrue\u001b[0m\u001b[0;34m)\u001b[0m \u001b[0;34m->\u001b[0m \u001b[0mpd\u001b[0m\u001b[0;34m.\u001b[0m\u001b[0mDataFrame\u001b[0m\u001b[0;34m:\u001b[0m\u001b[0;34m\u001b[0m\u001b[0;34m\u001b[0m\u001b[0m\n\u001b[1;32m    313\u001b[0m     \u001b[0mdbx\u001b[0m \u001b[0;34m=\u001b[0m \u001b[0mload_dbx\u001b[0m\u001b[0;34m(\u001b[0m\u001b[0;34m)\u001b[0m\u001b[0;34m\u001b[0m\u001b[0;34m\u001b[0m\u001b[0m\n\u001b[0;32m--> 314\u001b[0;31m     \u001b[0mresponse\u001b[0m \u001b[0;34m=\u001b[0m \u001b[0mdbx\u001b[0m\u001b[0;34m.\u001b[0m\u001b[0mfiles_list_folder\u001b[0m\u001b[0;34m(\u001b[0m\u001b[0mdir_drop\u001b[0m\u001b[0;34m,\u001b[0m \u001b[0mrecursive\u001b[0m\u001b[0;34m=\u001b[0m\u001b[0;32mTrue\u001b[0m\u001b[0;34m)\u001b[0m\u001b[0;34m\u001b[0m\u001b[0;34m\u001b[0m\u001b[0m\n\u001b[0m\u001b[1;32m    315\u001b[0m     \u001b[0;31m# for fil in response.entries:\u001b[0m\u001b[0;34m\u001b[0m\u001b[0;34m\u001b[0m\u001b[0;34m\u001b[0m\u001b[0m\n\u001b[1;32m    316\u001b[0m     \u001b[0mlistfiles\u001b[0m \u001b[0;34m=\u001b[0m \u001b[0;34m[\u001b[0m\u001b[0;34m]\u001b[0m\u001b[0;34m\u001b[0m\u001b[0;34m\u001b[0m\u001b[0m\n",
      "\u001b[0;32m~/miniconda3/envs/amftrack/lib/python3.7/site-packages/dropbox/base.py\u001b[0m in \u001b[0;36mfiles_list_folder\u001b[0;34m(self, path, recursive, include_media_info, include_deleted, include_has_explicit_shared_members, include_mounted_folders, limit, shared_link, include_property_groups, include_non_downloadable_files)\u001b[0m\n\u001b[1;32m   2147\u001b[0m             \u001b[0;34m'files'\u001b[0m\u001b[0;34m,\u001b[0m\u001b[0;34m\u001b[0m\u001b[0;34m\u001b[0m\u001b[0m\n\u001b[1;32m   2148\u001b[0m             \u001b[0marg\u001b[0m\u001b[0;34m,\u001b[0m\u001b[0;34m\u001b[0m\u001b[0;34m\u001b[0m\u001b[0m\n\u001b[0;32m-> 2149\u001b[0;31m             \u001b[0;32mNone\u001b[0m\u001b[0;34m,\u001b[0m\u001b[0;34m\u001b[0m\u001b[0;34m\u001b[0m\u001b[0m\n\u001b[0m\u001b[1;32m   2150\u001b[0m         )\n\u001b[1;32m   2151\u001b[0m         \u001b[0;32mreturn\u001b[0m \u001b[0mr\u001b[0m\u001b[0;34m\u001b[0m\u001b[0;34m\u001b[0m\u001b[0m\n",
      "\u001b[0;32m~/miniconda3/envs/amftrack/lib/python3.7/site-packages/dropbox/dropbox_client.py\u001b[0m in \u001b[0;36mrequest\u001b[0;34m(self, route, namespace, request_arg, request_binary, timeout)\u001b[0m\n\u001b[1;32m    330\u001b[0m                                                   \u001b[0mauth_type\u001b[0m\u001b[0;34m,\u001b[0m\u001b[0;34m\u001b[0m\u001b[0;34m\u001b[0m\u001b[0m\n\u001b[1;32m    331\u001b[0m                                                   \u001b[0mrequest_binary\u001b[0m\u001b[0;34m,\u001b[0m\u001b[0;34m\u001b[0m\u001b[0;34m\u001b[0m\u001b[0m\n\u001b[0;32m--> 332\u001b[0;31m                                                   timeout=timeout)\n\u001b[0m\u001b[1;32m    333\u001b[0m         \u001b[0mdecoded_obj_result\u001b[0m \u001b[0;34m=\u001b[0m \u001b[0mjson\u001b[0m\u001b[0;34m.\u001b[0m\u001b[0mloads\u001b[0m\u001b[0;34m(\u001b[0m\u001b[0mres\u001b[0m\u001b[0;34m.\u001b[0m\u001b[0mobj_result\u001b[0m\u001b[0;34m)\u001b[0m\u001b[0;34m\u001b[0m\u001b[0;34m\u001b[0m\u001b[0m\n\u001b[1;32m    334\u001b[0m         \u001b[0;32mif\u001b[0m \u001b[0misinstance\u001b[0m\u001b[0;34m(\u001b[0m\u001b[0mres\u001b[0m\u001b[0;34m,\u001b[0m \u001b[0mRouteResult\u001b[0m\u001b[0;34m)\u001b[0m\u001b[0;34m:\u001b[0m\u001b[0;34m\u001b[0m\u001b[0;34m\u001b[0m\u001b[0m\n",
      "\u001b[0;32m~/miniconda3/envs/amftrack/lib/python3.7/site-packages/dropbox/dropbox_client.py\u001b[0m in \u001b[0;36mrequest_json_string_with_retry\u001b[0;34m(self, host, route_name, route_style, request_json_arg, auth_type, request_binary, timeout)\u001b[0m\n\u001b[1;32m    480\u001b[0m                                                 \u001b[0mauth_type\u001b[0m\u001b[0;34m,\u001b[0m\u001b[0;34m\u001b[0m\u001b[0;34m\u001b[0m\u001b[0m\n\u001b[1;32m    481\u001b[0m                                                 \u001b[0mrequest_binary\u001b[0m\u001b[0;34m,\u001b[0m\u001b[0;34m\u001b[0m\u001b[0;34m\u001b[0m\u001b[0m\n\u001b[0;32m--> 482\u001b[0;31m                                                 timeout=timeout)\n\u001b[0m\u001b[1;32m    483\u001b[0m             \u001b[0;32mexcept\u001b[0m \u001b[0mAuthError\u001b[0m \u001b[0;32mas\u001b[0m \u001b[0me\u001b[0m\u001b[0;34m:\u001b[0m\u001b[0;34m\u001b[0m\u001b[0;34m\u001b[0m\u001b[0m\n\u001b[1;32m    484\u001b[0m                 \u001b[0;32mif\u001b[0m \u001b[0me\u001b[0m\u001b[0;34m.\u001b[0m\u001b[0merror\u001b[0m \u001b[0;32mand\u001b[0m \u001b[0me\u001b[0m\u001b[0;34m.\u001b[0m\u001b[0merror\u001b[0m\u001b[0;34m.\u001b[0m\u001b[0mis_expired_access_token\u001b[0m\u001b[0;34m(\u001b[0m\u001b[0;34m)\u001b[0m\u001b[0;34m:\u001b[0m\u001b[0;34m\u001b[0m\u001b[0;34m\u001b[0m\u001b[0m\n",
      "\u001b[0;32m~/miniconda3/envs/amftrack/lib/python3.7/site-packages/dropbox/dropbox_client.py\u001b[0m in \u001b[0;36mrequest_json_string\u001b[0;34m(self, host, func_name, route_style, request_json_arg, auth_type, request_binary, timeout)\u001b[0m\n\u001b[1;32m    592\u001b[0m                                \u001b[0mstream\u001b[0m\u001b[0;34m=\u001b[0m\u001b[0mstream\u001b[0m\u001b[0;34m,\u001b[0m\u001b[0;34m\u001b[0m\u001b[0;34m\u001b[0m\u001b[0m\n\u001b[1;32m    593\u001b[0m                                \u001b[0mverify\u001b[0m\u001b[0;34m=\u001b[0m\u001b[0;32mTrue\u001b[0m\u001b[0;34m,\u001b[0m\u001b[0;34m\u001b[0m\u001b[0;34m\u001b[0m\u001b[0m\n\u001b[0;32m--> 594\u001b[0;31m                                \u001b[0mtimeout\u001b[0m\u001b[0;34m=\u001b[0m\u001b[0mtimeout\u001b[0m\u001b[0;34m,\u001b[0m\u001b[0;34m\u001b[0m\u001b[0;34m\u001b[0m\u001b[0m\n\u001b[0m\u001b[1;32m    595\u001b[0m                                )\n\u001b[1;32m    596\u001b[0m         \u001b[0mself\u001b[0m\u001b[0;34m.\u001b[0m\u001b[0mraise_dropbox_error_for_resp\u001b[0m\u001b[0;34m(\u001b[0m\u001b[0mr\u001b[0m\u001b[0;34m)\u001b[0m\u001b[0;34m\u001b[0m\u001b[0;34m\u001b[0m\u001b[0m\n",
      "\u001b[0;32m~/miniconda3/envs/amftrack/lib/python3.7/site-packages/requests/sessions.py\u001b[0m in \u001b[0;36mpost\u001b[0;34m(self, url, data, json, **kwargs)\u001b[0m\n\u001b[1;32m    633\u001b[0m         \"\"\"\n\u001b[1;32m    634\u001b[0m \u001b[0;34m\u001b[0m\u001b[0m\n\u001b[0;32m--> 635\u001b[0;31m         \u001b[0;32mreturn\u001b[0m \u001b[0mself\u001b[0m\u001b[0;34m.\u001b[0m\u001b[0mrequest\u001b[0m\u001b[0;34m(\u001b[0m\u001b[0;34m\"POST\"\u001b[0m\u001b[0;34m,\u001b[0m \u001b[0murl\u001b[0m\u001b[0;34m,\u001b[0m \u001b[0mdata\u001b[0m\u001b[0;34m=\u001b[0m\u001b[0mdata\u001b[0m\u001b[0;34m,\u001b[0m \u001b[0mjson\u001b[0m\u001b[0;34m=\u001b[0m\u001b[0mjson\u001b[0m\u001b[0;34m,\u001b[0m \u001b[0;34m**\u001b[0m\u001b[0mkwargs\u001b[0m\u001b[0;34m)\u001b[0m\u001b[0;34m\u001b[0m\u001b[0;34m\u001b[0m\u001b[0m\n\u001b[0m\u001b[1;32m    636\u001b[0m \u001b[0;34m\u001b[0m\u001b[0m\n\u001b[1;32m    637\u001b[0m     \u001b[0;32mdef\u001b[0m \u001b[0mput\u001b[0m\u001b[0;34m(\u001b[0m\u001b[0mself\u001b[0m\u001b[0;34m,\u001b[0m \u001b[0murl\u001b[0m\u001b[0;34m,\u001b[0m \u001b[0mdata\u001b[0m\u001b[0;34m=\u001b[0m\u001b[0;32mNone\u001b[0m\u001b[0;34m,\u001b[0m \u001b[0;34m**\u001b[0m\u001b[0mkwargs\u001b[0m\u001b[0;34m)\u001b[0m\u001b[0;34m:\u001b[0m\u001b[0;34m\u001b[0m\u001b[0;34m\u001b[0m\u001b[0m\n",
      "\u001b[0;32m~/miniconda3/envs/amftrack/lib/python3.7/site-packages/requests/sessions.py\u001b[0m in \u001b[0;36mrequest\u001b[0;34m(self, method, url, params, data, headers, cookies, files, auth, timeout, allow_redirects, proxies, hooks, stream, verify, cert, json)\u001b[0m\n\u001b[1;32m    585\u001b[0m         }\n\u001b[1;32m    586\u001b[0m         \u001b[0msend_kwargs\u001b[0m\u001b[0;34m.\u001b[0m\u001b[0mupdate\u001b[0m\u001b[0;34m(\u001b[0m\u001b[0msettings\u001b[0m\u001b[0;34m)\u001b[0m\u001b[0;34m\u001b[0m\u001b[0;34m\u001b[0m\u001b[0m\n\u001b[0;32m--> 587\u001b[0;31m         \u001b[0mresp\u001b[0m \u001b[0;34m=\u001b[0m \u001b[0mself\u001b[0m\u001b[0;34m.\u001b[0m\u001b[0msend\u001b[0m\u001b[0;34m(\u001b[0m\u001b[0mprep\u001b[0m\u001b[0;34m,\u001b[0m \u001b[0;34m**\u001b[0m\u001b[0msend_kwargs\u001b[0m\u001b[0;34m)\u001b[0m\u001b[0;34m\u001b[0m\u001b[0;34m\u001b[0m\u001b[0m\n\u001b[0m\u001b[1;32m    588\u001b[0m \u001b[0;34m\u001b[0m\u001b[0m\n\u001b[1;32m    589\u001b[0m         \u001b[0;32mreturn\u001b[0m \u001b[0mresp\u001b[0m\u001b[0;34m\u001b[0m\u001b[0;34m\u001b[0m\u001b[0m\n",
      "\u001b[0;32m~/miniconda3/envs/amftrack/lib/python3.7/site-packages/requests/sessions.py\u001b[0m in \u001b[0;36msend\u001b[0;34m(self, request, **kwargs)\u001b[0m\n\u001b[1;32m    699\u001b[0m \u001b[0;34m\u001b[0m\u001b[0m\n\u001b[1;32m    700\u001b[0m         \u001b[0;31m# Send the request\u001b[0m\u001b[0;34m\u001b[0m\u001b[0;34m\u001b[0m\u001b[0;34m\u001b[0m\u001b[0m\n\u001b[0;32m--> 701\u001b[0;31m         \u001b[0mr\u001b[0m \u001b[0;34m=\u001b[0m \u001b[0madapter\u001b[0m\u001b[0;34m.\u001b[0m\u001b[0msend\u001b[0m\u001b[0;34m(\u001b[0m\u001b[0mrequest\u001b[0m\u001b[0;34m,\u001b[0m \u001b[0;34m**\u001b[0m\u001b[0mkwargs\u001b[0m\u001b[0;34m)\u001b[0m\u001b[0;34m\u001b[0m\u001b[0;34m\u001b[0m\u001b[0m\n\u001b[0m\u001b[1;32m    702\u001b[0m \u001b[0;34m\u001b[0m\u001b[0m\n\u001b[1;32m    703\u001b[0m         \u001b[0;31m# Total elapsed time of the request (approximately)\u001b[0m\u001b[0;34m\u001b[0m\u001b[0;34m\u001b[0m\u001b[0;34m\u001b[0m\u001b[0m\n",
      "\u001b[0;32m~/miniconda3/envs/amftrack/lib/python3.7/site-packages/requests/adapters.py\u001b[0m in \u001b[0;36msend\u001b[0;34m(self, request, stream, timeout, verify, cert, proxies)\u001b[0m\n\u001b[1;32m    497\u001b[0m                     \u001b[0mdecode_content\u001b[0m\u001b[0;34m=\u001b[0m\u001b[0;32mFalse\u001b[0m\u001b[0;34m,\u001b[0m\u001b[0;34m\u001b[0m\u001b[0;34m\u001b[0m\u001b[0m\n\u001b[1;32m    498\u001b[0m                     \u001b[0mretries\u001b[0m\u001b[0;34m=\u001b[0m\u001b[0mself\u001b[0m\u001b[0;34m.\u001b[0m\u001b[0mmax_retries\u001b[0m\u001b[0;34m,\u001b[0m\u001b[0;34m\u001b[0m\u001b[0;34m\u001b[0m\u001b[0m\n\u001b[0;32m--> 499\u001b[0;31m                     \u001b[0mtimeout\u001b[0m\u001b[0;34m=\u001b[0m\u001b[0mtimeout\u001b[0m\u001b[0;34m,\u001b[0m\u001b[0;34m\u001b[0m\u001b[0;34m\u001b[0m\u001b[0m\n\u001b[0m\u001b[1;32m    500\u001b[0m                 )\n\u001b[1;32m    501\u001b[0m \u001b[0;34m\u001b[0m\u001b[0m\n",
      "\u001b[0;32m~/miniconda3/envs/amftrack/lib/python3.7/site-packages/urllib3/connectionpool.py\u001b[0m in \u001b[0;36murlopen\u001b[0;34m(self, method, url, body, headers, retries, redirect, assert_same_host, timeout, pool_timeout, release_conn, chunked, body_pos, **response_kw)\u001b[0m\n\u001b[1;32m    708\u001b[0m                 \u001b[0mbody\u001b[0m\u001b[0;34m=\u001b[0m\u001b[0mbody\u001b[0m\u001b[0;34m,\u001b[0m\u001b[0;34m\u001b[0m\u001b[0;34m\u001b[0m\u001b[0m\n\u001b[1;32m    709\u001b[0m                 \u001b[0mheaders\u001b[0m\u001b[0;34m=\u001b[0m\u001b[0mheaders\u001b[0m\u001b[0;34m,\u001b[0m\u001b[0;34m\u001b[0m\u001b[0;34m\u001b[0m\u001b[0m\n\u001b[0;32m--> 710\u001b[0;31m                 \u001b[0mchunked\u001b[0m\u001b[0;34m=\u001b[0m\u001b[0mchunked\u001b[0m\u001b[0;34m,\u001b[0m\u001b[0;34m\u001b[0m\u001b[0;34m\u001b[0m\u001b[0m\n\u001b[0m\u001b[1;32m    711\u001b[0m             )\n\u001b[1;32m    712\u001b[0m \u001b[0;34m\u001b[0m\u001b[0m\n",
      "\u001b[0;32m~/miniconda3/envs/amftrack/lib/python3.7/site-packages/urllib3/connectionpool.py\u001b[0m in \u001b[0;36m_make_request\u001b[0;34m(self, conn, method, url, timeout, chunked, **httplib_request_kw)\u001b[0m\n\u001b[1;32m    447\u001b[0m                     \u001b[0;31m# Python 3 (including for exceptions like SystemExit).\u001b[0m\u001b[0;34m\u001b[0m\u001b[0;34m\u001b[0m\u001b[0;34m\u001b[0m\u001b[0m\n\u001b[1;32m    448\u001b[0m                     \u001b[0;31m# Otherwise it looks like a bug in the code.\u001b[0m\u001b[0;34m\u001b[0m\u001b[0;34m\u001b[0m\u001b[0;34m\u001b[0m\u001b[0m\n\u001b[0;32m--> 449\u001b[0;31m                     \u001b[0msix\u001b[0m\u001b[0;34m.\u001b[0m\u001b[0mraise_from\u001b[0m\u001b[0;34m(\u001b[0m\u001b[0me\u001b[0m\u001b[0;34m,\u001b[0m \u001b[0;32mNone\u001b[0m\u001b[0;34m)\u001b[0m\u001b[0;34m\u001b[0m\u001b[0;34m\u001b[0m\u001b[0m\n\u001b[0m\u001b[1;32m    450\u001b[0m         \u001b[0;32mexcept\u001b[0m \u001b[0;34m(\u001b[0m\u001b[0mSocketTimeout\u001b[0m\u001b[0;34m,\u001b[0m \u001b[0mBaseSSLError\u001b[0m\u001b[0;34m,\u001b[0m \u001b[0mSocketError\u001b[0m\u001b[0;34m)\u001b[0m \u001b[0;32mas\u001b[0m \u001b[0me\u001b[0m\u001b[0;34m:\u001b[0m\u001b[0;34m\u001b[0m\u001b[0;34m\u001b[0m\u001b[0m\n\u001b[1;32m    451\u001b[0m             \u001b[0mself\u001b[0m\u001b[0;34m.\u001b[0m\u001b[0m_raise_timeout\u001b[0m\u001b[0;34m(\u001b[0m\u001b[0merr\u001b[0m\u001b[0;34m=\u001b[0m\u001b[0me\u001b[0m\u001b[0;34m,\u001b[0m \u001b[0murl\u001b[0m\u001b[0;34m=\u001b[0m\u001b[0murl\u001b[0m\u001b[0;34m,\u001b[0m \u001b[0mtimeout_value\u001b[0m\u001b[0;34m=\u001b[0m\u001b[0mread_timeout\u001b[0m\u001b[0;34m)\u001b[0m\u001b[0;34m\u001b[0m\u001b[0;34m\u001b[0m\u001b[0m\n",
      "\u001b[0;32m~/miniconda3/envs/amftrack/lib/python3.7/site-packages/urllib3/packages/six.py\u001b[0m in \u001b[0;36mraise_from\u001b[0;34m(value, from_value)\u001b[0m\n",
      "\u001b[0;32m~/miniconda3/envs/amftrack/lib/python3.7/site-packages/urllib3/connectionpool.py\u001b[0m in \u001b[0;36m_make_request\u001b[0;34m(self, conn, method, url, timeout, chunked, **httplib_request_kw)\u001b[0m\n\u001b[1;32m    442\u001b[0m                 \u001b[0;31m# Python 3\u001b[0m\u001b[0;34m\u001b[0m\u001b[0;34m\u001b[0m\u001b[0;34m\u001b[0m\u001b[0m\n\u001b[1;32m    443\u001b[0m                 \u001b[0;32mtry\u001b[0m\u001b[0;34m:\u001b[0m\u001b[0;34m\u001b[0m\u001b[0;34m\u001b[0m\u001b[0m\n\u001b[0;32m--> 444\u001b[0;31m                     \u001b[0mhttplib_response\u001b[0m \u001b[0;34m=\u001b[0m \u001b[0mconn\u001b[0m\u001b[0;34m.\u001b[0m\u001b[0mgetresponse\u001b[0m\u001b[0;34m(\u001b[0m\u001b[0;34m)\u001b[0m\u001b[0;34m\u001b[0m\u001b[0;34m\u001b[0m\u001b[0m\n\u001b[0m\u001b[1;32m    445\u001b[0m                 \u001b[0;32mexcept\u001b[0m \u001b[0mBaseException\u001b[0m \u001b[0;32mas\u001b[0m \u001b[0me\u001b[0m\u001b[0;34m:\u001b[0m\u001b[0;34m\u001b[0m\u001b[0;34m\u001b[0m\u001b[0m\n\u001b[1;32m    446\u001b[0m                     \u001b[0;31m# Remove the TypeError from the exception chain in\u001b[0m\u001b[0;34m\u001b[0m\u001b[0;34m\u001b[0m\u001b[0;34m\u001b[0m\u001b[0m\n",
      "\u001b[0;32m~/miniconda3/envs/amftrack/lib/python3.7/http/client.py\u001b[0m in \u001b[0;36mgetresponse\u001b[0;34m(self)\u001b[0m\n\u001b[1;32m   1371\u001b[0m         \u001b[0;32mtry\u001b[0m\u001b[0;34m:\u001b[0m\u001b[0;34m\u001b[0m\u001b[0;34m\u001b[0m\u001b[0m\n\u001b[1;32m   1372\u001b[0m             \u001b[0;32mtry\u001b[0m\u001b[0;34m:\u001b[0m\u001b[0;34m\u001b[0m\u001b[0;34m\u001b[0m\u001b[0m\n\u001b[0;32m-> 1373\u001b[0;31m                 \u001b[0mresponse\u001b[0m\u001b[0;34m.\u001b[0m\u001b[0mbegin\u001b[0m\u001b[0;34m(\u001b[0m\u001b[0;34m)\u001b[0m\u001b[0;34m\u001b[0m\u001b[0;34m\u001b[0m\u001b[0m\n\u001b[0m\u001b[1;32m   1374\u001b[0m             \u001b[0;32mexcept\u001b[0m \u001b[0mConnectionError\u001b[0m\u001b[0;34m:\u001b[0m\u001b[0;34m\u001b[0m\u001b[0;34m\u001b[0m\u001b[0m\n\u001b[1;32m   1375\u001b[0m                 \u001b[0mself\u001b[0m\u001b[0;34m.\u001b[0m\u001b[0mclose\u001b[0m\u001b[0;34m(\u001b[0m\u001b[0;34m)\u001b[0m\u001b[0;34m\u001b[0m\u001b[0;34m\u001b[0m\u001b[0m\n",
      "\u001b[0;32m~/miniconda3/envs/amftrack/lib/python3.7/http/client.py\u001b[0m in \u001b[0;36mbegin\u001b[0;34m(self)\u001b[0m\n\u001b[1;32m    317\u001b[0m         \u001b[0;31m# read until we get a non-100 response\u001b[0m\u001b[0;34m\u001b[0m\u001b[0;34m\u001b[0m\u001b[0;34m\u001b[0m\u001b[0m\n\u001b[1;32m    318\u001b[0m         \u001b[0;32mwhile\u001b[0m \u001b[0;32mTrue\u001b[0m\u001b[0;34m:\u001b[0m\u001b[0;34m\u001b[0m\u001b[0;34m\u001b[0m\u001b[0m\n\u001b[0;32m--> 319\u001b[0;31m             \u001b[0mversion\u001b[0m\u001b[0;34m,\u001b[0m \u001b[0mstatus\u001b[0m\u001b[0;34m,\u001b[0m \u001b[0mreason\u001b[0m \u001b[0;34m=\u001b[0m \u001b[0mself\u001b[0m\u001b[0;34m.\u001b[0m\u001b[0m_read_status\u001b[0m\u001b[0;34m(\u001b[0m\u001b[0;34m)\u001b[0m\u001b[0;34m\u001b[0m\u001b[0;34m\u001b[0m\u001b[0m\n\u001b[0m\u001b[1;32m    320\u001b[0m             \u001b[0;32mif\u001b[0m \u001b[0mstatus\u001b[0m \u001b[0;34m!=\u001b[0m \u001b[0mCONTINUE\u001b[0m\u001b[0;34m:\u001b[0m\u001b[0;34m\u001b[0m\u001b[0;34m\u001b[0m\u001b[0m\n\u001b[1;32m    321\u001b[0m                 \u001b[0;32mbreak\u001b[0m\u001b[0;34m\u001b[0m\u001b[0;34m\u001b[0m\u001b[0m\n",
      "\u001b[0;32m~/miniconda3/envs/amftrack/lib/python3.7/http/client.py\u001b[0m in \u001b[0;36m_read_status\u001b[0;34m(self)\u001b[0m\n\u001b[1;32m    278\u001b[0m \u001b[0;34m\u001b[0m\u001b[0m\n\u001b[1;32m    279\u001b[0m     \u001b[0;32mdef\u001b[0m \u001b[0m_read_status\u001b[0m\u001b[0;34m(\u001b[0m\u001b[0mself\u001b[0m\u001b[0;34m)\u001b[0m\u001b[0;34m:\u001b[0m\u001b[0;34m\u001b[0m\u001b[0;34m\u001b[0m\u001b[0m\n\u001b[0;32m--> 280\u001b[0;31m         \u001b[0mline\u001b[0m \u001b[0;34m=\u001b[0m \u001b[0mstr\u001b[0m\u001b[0;34m(\u001b[0m\u001b[0mself\u001b[0m\u001b[0;34m.\u001b[0m\u001b[0mfp\u001b[0m\u001b[0;34m.\u001b[0m\u001b[0mreadline\u001b[0m\u001b[0;34m(\u001b[0m\u001b[0m_MAXLINE\u001b[0m \u001b[0;34m+\u001b[0m \u001b[0;36m1\u001b[0m\u001b[0;34m)\u001b[0m\u001b[0;34m,\u001b[0m \u001b[0;34m\"iso-8859-1\"\u001b[0m\u001b[0;34m)\u001b[0m\u001b[0;34m\u001b[0m\u001b[0;34m\u001b[0m\u001b[0m\n\u001b[0m\u001b[1;32m    281\u001b[0m         \u001b[0;32mif\u001b[0m \u001b[0mlen\u001b[0m\u001b[0;34m(\u001b[0m\u001b[0mline\u001b[0m\u001b[0;34m)\u001b[0m \u001b[0;34m>\u001b[0m \u001b[0m_MAXLINE\u001b[0m\u001b[0;34m:\u001b[0m\u001b[0;34m\u001b[0m\u001b[0;34m\u001b[0m\u001b[0m\n\u001b[1;32m    282\u001b[0m             \u001b[0;32mraise\u001b[0m \u001b[0mLineTooLong\u001b[0m\u001b[0;34m(\u001b[0m\u001b[0;34m\"status line\"\u001b[0m\u001b[0;34m)\u001b[0m\u001b[0;34m\u001b[0m\u001b[0;34m\u001b[0m\u001b[0m\n",
      "\u001b[0;32m~/miniconda3/envs/amftrack/lib/python3.7/socket.py\u001b[0m in \u001b[0;36mreadinto\u001b[0;34m(self, b)\u001b[0m\n\u001b[1;32m    587\u001b[0m         \u001b[0;32mwhile\u001b[0m \u001b[0;32mTrue\u001b[0m\u001b[0;34m:\u001b[0m\u001b[0;34m\u001b[0m\u001b[0;34m\u001b[0m\u001b[0m\n\u001b[1;32m    588\u001b[0m             \u001b[0;32mtry\u001b[0m\u001b[0;34m:\u001b[0m\u001b[0;34m\u001b[0m\u001b[0;34m\u001b[0m\u001b[0m\n\u001b[0;32m--> 589\u001b[0;31m                 \u001b[0;32mreturn\u001b[0m \u001b[0mself\u001b[0m\u001b[0;34m.\u001b[0m\u001b[0m_sock\u001b[0m\u001b[0;34m.\u001b[0m\u001b[0mrecv_into\u001b[0m\u001b[0;34m(\u001b[0m\u001b[0mb\u001b[0m\u001b[0;34m)\u001b[0m\u001b[0;34m\u001b[0m\u001b[0;34m\u001b[0m\u001b[0m\n\u001b[0m\u001b[1;32m    590\u001b[0m             \u001b[0;32mexcept\u001b[0m \u001b[0mtimeout\u001b[0m\u001b[0;34m:\u001b[0m\u001b[0;34m\u001b[0m\u001b[0;34m\u001b[0m\u001b[0m\n\u001b[1;32m    591\u001b[0m                 \u001b[0mself\u001b[0m\u001b[0;34m.\u001b[0m\u001b[0m_timeout_occurred\u001b[0m \u001b[0;34m=\u001b[0m \u001b[0;32mTrue\u001b[0m\u001b[0;34m\u001b[0m\u001b[0;34m\u001b[0m\u001b[0m\n",
      "\u001b[0;32m~/miniconda3/envs/amftrack/lib/python3.7/ssl.py\u001b[0m in \u001b[0;36mrecv_into\u001b[0;34m(self, buffer, nbytes, flags)\u001b[0m\n\u001b[1;32m   1069\u001b[0m                   \u001b[0;34m\"non-zero flags not allowed in calls to recv_into() on %s\"\u001b[0m \u001b[0;34m%\u001b[0m\u001b[0;34m\u001b[0m\u001b[0;34m\u001b[0m\u001b[0m\n\u001b[1;32m   1070\u001b[0m                   self.__class__)\n\u001b[0;32m-> 1071\u001b[0;31m             \u001b[0;32mreturn\u001b[0m \u001b[0mself\u001b[0m\u001b[0;34m.\u001b[0m\u001b[0mread\u001b[0m\u001b[0;34m(\u001b[0m\u001b[0mnbytes\u001b[0m\u001b[0;34m,\u001b[0m \u001b[0mbuffer\u001b[0m\u001b[0;34m)\u001b[0m\u001b[0;34m\u001b[0m\u001b[0;34m\u001b[0m\u001b[0m\n\u001b[0m\u001b[1;32m   1072\u001b[0m         \u001b[0;32melse\u001b[0m\u001b[0;34m:\u001b[0m\u001b[0;34m\u001b[0m\u001b[0;34m\u001b[0m\u001b[0m\n\u001b[1;32m   1073\u001b[0m             \u001b[0;32mreturn\u001b[0m \u001b[0msuper\u001b[0m\u001b[0;34m(\u001b[0m\u001b[0;34m)\u001b[0m\u001b[0;34m.\u001b[0m\u001b[0mrecv_into\u001b[0m\u001b[0;34m(\u001b[0m\u001b[0mbuffer\u001b[0m\u001b[0;34m,\u001b[0m \u001b[0mnbytes\u001b[0m\u001b[0;34m,\u001b[0m \u001b[0mflags\u001b[0m\u001b[0;34m)\u001b[0m\u001b[0;34m\u001b[0m\u001b[0;34m\u001b[0m\u001b[0m\n",
      "\u001b[0;32m~/miniconda3/envs/amftrack/lib/python3.7/ssl.py\u001b[0m in \u001b[0;36mread\u001b[0;34m(self, len, buffer)\u001b[0m\n\u001b[1;32m    927\u001b[0m         \u001b[0;32mtry\u001b[0m\u001b[0;34m:\u001b[0m\u001b[0;34m\u001b[0m\u001b[0;34m\u001b[0m\u001b[0m\n\u001b[1;32m    928\u001b[0m             \u001b[0;32mif\u001b[0m \u001b[0mbuffer\u001b[0m \u001b[0;32mis\u001b[0m \u001b[0;32mnot\u001b[0m \u001b[0;32mNone\u001b[0m\u001b[0;34m:\u001b[0m\u001b[0;34m\u001b[0m\u001b[0;34m\u001b[0m\u001b[0m\n\u001b[0;32m--> 929\u001b[0;31m                 \u001b[0;32mreturn\u001b[0m \u001b[0mself\u001b[0m\u001b[0;34m.\u001b[0m\u001b[0m_sslobj\u001b[0m\u001b[0;34m.\u001b[0m\u001b[0mread\u001b[0m\u001b[0;34m(\u001b[0m\u001b[0mlen\u001b[0m\u001b[0;34m,\u001b[0m \u001b[0mbuffer\u001b[0m\u001b[0;34m)\u001b[0m\u001b[0;34m\u001b[0m\u001b[0;34m\u001b[0m\u001b[0m\n\u001b[0m\u001b[1;32m    930\u001b[0m             \u001b[0;32melse\u001b[0m\u001b[0;34m:\u001b[0m\u001b[0;34m\u001b[0m\u001b[0;34m\u001b[0m\u001b[0m\n\u001b[1;32m    931\u001b[0m                 \u001b[0;32mreturn\u001b[0m \u001b[0mself\u001b[0m\u001b[0;34m.\u001b[0m\u001b[0m_sslobj\u001b[0m\u001b[0;34m.\u001b[0m\u001b[0mread\u001b[0m\u001b[0;34m(\u001b[0m\u001b[0mlen\u001b[0m\u001b[0;34m)\u001b[0m\u001b[0;34m\u001b[0m\u001b[0;34m\u001b[0m\u001b[0m\n",
      "\u001b[0;31mKeyboardInterrupt\u001b[0m: "
     ]
    }
   ],
   "source": [
    "all_folders_drop = get_dropbox_folders(\"/DATA/PRINCE\", True)"
   ]
  },
  {
   "cell_type": "code",
   "execution_count": 43,
   "id": "a0cd5156-1751-427c-a19f-84644c5e34e6",
   "metadata": {
    "collapsed": true,
    "jupyter": {
     "outputs_hidden": true
    },
    "tags": []
   },
   "outputs": [
    {
     "name": "stdout",
     "output_type": "stream",
     "text": [
      "2022-11-16 18:06:19,438-[INFO]- dropbox:390 -> Refreshing access token.\n",
      "2022-11-16 18:06:19,697-[INFO]- dropbox:474 -> Request to files/list_folder\n",
      "2022-11-16 18:06:54,157-[INFO]- dropbox:474 -> Request to files/list_folder/continue\n",
      "2022-11-16 18:06:59,192-[INFO]- dropbox:474 -> Request to files/list_folder/continue\n",
      "2022-11-16 18:07:04,397-[INFO]- dropbox:474 -> Request to files/list_folder/continue\n",
      "2022-11-16 18:07:10,025-[INFO]- dropbox:474 -> Request to files/list_folder/continue\n",
      "2022-11-16 18:07:15,111-[INFO]- dropbox:474 -> Request to files/list_folder/continue\n",
      "2022-11-16 18:07:20,073-[INFO]- dropbox:474 -> Request to files/list_folder/continue\n",
      "2022-11-16 18:07:25,146-[INFO]- dropbox:474 -> Request to files/list_folder/continue\n",
      "2022-11-16 18:07:30,149-[INFO]- dropbox:474 -> Request to files/list_folder/continue\n",
      "2022-11-16 18:07:34,931-[INFO]- dropbox:474 -> Request to files/list_folder/continue\n",
      "2022-11-16 18:07:39,911-[INFO]- dropbox:474 -> Request to files/list_folder/continue\n",
      "2022-11-16 18:07:45,034-[INFO]- dropbox:474 -> Request to files/list_folder/continue\n",
      "2022-11-16 18:07:50,694-[INFO]- dropbox:474 -> Request to files/list_folder/continue\n",
      "2022-11-16 18:07:55,809-[INFO]- dropbox:474 -> Request to files/list_folder/continue\n",
      "2022-11-16 18:08:01,030-[INFO]- dropbox:474 -> Request to files/list_folder/continue\n",
      "2022-11-16 18:08:06,141-[INFO]- dropbox:474 -> Request to files/list_folder/continue\n",
      "2022-11-16 18:08:11,121-[INFO]- dropbox:474 -> Request to files/list_folder/continue\n",
      "2022-11-16 18:08:17,766-[INFO]- dropbox:474 -> Request to files/list_folder/continue\n",
      "2022-11-16 18:08:23,269-[INFO]- dropbox:474 -> Request to files/list_folder/continue\n",
      "2022-11-16 18:08:28,539-[INFO]- dropbox:474 -> Request to files/list_folder/continue\n",
      "2022-11-16 18:08:33,769-[INFO]- dropbox:474 -> Request to files/list_folder/continue\n",
      "2022-11-16 18:08:39,052-[INFO]- dropbox:474 -> Request to files/list_folder/continue\n",
      "2022-11-16 18:08:44,390-[INFO]- dropbox:474 -> Request to files/list_folder/continue\n",
      "2022-11-16 18:08:50,406-[INFO]- dropbox:474 -> Request to files/list_folder/continue\n",
      "2022-11-16 18:08:55,444-[INFO]- dropbox:474 -> Request to files/list_folder/continue\n",
      "2022-11-16 18:09:01,623-[INFO]- dropbox:474 -> Request to files/list_folder/continue\n",
      "2022-11-16 18:09:07,191-[INFO]- dropbox:474 -> Request to files/list_folder/continue\n",
      "2022-11-16 18:09:12,884-[INFO]- dropbox:474 -> Request to files/list_folder/continue\n",
      "2022-11-16 18:09:18,592-[INFO]- dropbox:474 -> Request to files/list_folder/continue\n",
      "2022-11-16 18:09:24,266-[INFO]- dropbox:474 -> Request to files/list_folder/continue\n",
      "2022-11-16 18:09:29,528-[INFO]- dropbox:474 -> Request to files/list_folder/continue\n",
      "2022-11-16 18:09:35,350-[INFO]- dropbox:474 -> Request to files/list_folder/continue\n",
      "2022-11-16 18:09:41,503-[INFO]- dropbox:474 -> Request to files/list_folder/continue\n",
      "2022-11-16 18:09:49,045-[INFO]- dropbox:474 -> Request to files/list_folder/continue\n",
      "2022-11-16 18:09:55,572-[INFO]- dropbox:474 -> Request to files/list_folder/continue\n",
      "2022-11-16 18:10:01,859-[INFO]- dropbox:474 -> Request to files/list_folder/continue\n",
      "2022-11-16 18:10:08,014-[INFO]- dropbox:474 -> Request to files/list_folder/continue\n",
      "2022-11-16 18:10:13,312-[INFO]- dropbox:474 -> Request to files/list_folder/continue\n",
      "2022-11-16 18:10:18,685-[INFO]- dropbox:474 -> Request to files/list_folder/continue\n",
      "2022-11-16 18:10:24,039-[INFO]- dropbox:474 -> Request to files/list_folder/continue\n",
      "2022-11-16 18:10:29,456-[INFO]- dropbox:474 -> Request to files/list_folder/continue\n",
      "2022-11-16 18:10:34,885-[INFO]- dropbox:474 -> Request to files/list_folder/continue\n",
      "2022-11-16 18:10:41,387-[INFO]- dropbox:474 -> Request to files/list_folder/continue\n",
      "2022-11-16 18:10:47,836-[INFO]- dropbox:474 -> Request to files/list_folder/continue\n",
      "2022-11-16 18:10:53,096-[INFO]- dropbox:474 -> Request to files/list_folder/continue\n",
      "2022-11-16 18:11:00,497-[INFO]- dropbox:474 -> Request to files/list_folder/continue\n",
      "2022-11-16 18:11:05,699-[INFO]- dropbox:474 -> Request to files/list_folder/continue\n",
      "2022-11-16 18:11:11,500-[INFO]- dropbox:474 -> Request to files/list_folder/continue\n",
      "2022-11-16 18:11:16,551-[INFO]- dropbox:474 -> Request to files/list_folder/continue\n",
      "2022-11-16 18:11:22,614-[INFO]- dropbox:474 -> Request to files/list_folder/continue\n",
      "2022-11-16 18:11:29,714-[INFO]- dropbox:474 -> Request to files/list_folder/continue\n",
      "2022-11-16 18:11:35,414-[INFO]- dropbox:474 -> Request to files/list_folder/continue\n",
      "2022-11-16 18:11:41,147-[INFO]- dropbox:474 -> Request to files/list_folder/continue\n",
      "2022-11-16 18:11:46,987-[INFO]- dropbox:474 -> Request to files/list_folder/continue\n",
      "2022-11-16 18:11:52,791-[INFO]- dropbox:474 -> Request to files/list_folder/continue\n",
      "2022-11-16 18:11:58,472-[INFO]- dropbox:474 -> Request to files/list_folder/continue\n",
      "2022-11-16 18:12:06,346-[INFO]- dropbox:474 -> Request to files/list_folder/continue\n",
      "2022-11-16 18:12:13,251-[INFO]- dropbox:474 -> Request to files/list_folder/continue\n",
      "2022-11-16 18:12:19,242-[INFO]- dropbox:474 -> Request to files/list_folder/continue\n",
      "2022-11-16 18:12:24,564-[INFO]- dropbox:474 -> Request to files/list_folder/continue\n",
      "2022-11-16 18:12:31,058-[INFO]- dropbox:474 -> Request to files/list_folder/continue\n",
      "2022-11-16 18:12:36,834-[INFO]- dropbox:474 -> Request to files/list_folder/continue\n",
      "2022-11-16 18:12:42,647-[INFO]- dropbox:474 -> Request to files/list_folder/continue\n",
      "2022-11-16 18:12:47,851-[INFO]- dropbox:474 -> Request to files/list_folder/continue\n",
      "2022-11-16 18:12:53,054-[INFO]- dropbox:474 -> Request to files/list_folder/continue\n",
      "2022-11-16 18:12:58,765-[INFO]- dropbox:474 -> Request to files/list_folder/continue\n",
      "2022-11-16 18:13:04,137-[INFO]- dropbox:474 -> Request to files/list_folder/continue\n",
      "2022-11-16 18:13:09,438-[INFO]- dropbox:474 -> Request to files/list_folder/continue\n",
      "2022-11-16 18:13:15,089-[INFO]- dropbox:474 -> Request to files/list_folder/continue\n",
      "2022-11-16 18:13:20,669-[INFO]- dropbox:474 -> Request to files/list_folder/continue\n",
      "2022-11-16 18:13:26,417-[INFO]- dropbox:474 -> Request to files/list_folder/continue\n",
      "2022-11-16 18:13:32,178-[INFO]- dropbox:474 -> Request to files/list_folder/continue\n",
      "2022-11-16 18:13:37,664-[INFO]- dropbox:474 -> Request to files/list_folder/continue\n",
      "2022-11-16 18:13:43,769-[INFO]- dropbox:474 -> Request to files/list_folder/continue\n",
      "2022-11-16 18:13:48,888-[INFO]- dropbox:474 -> Request to files/list_folder/continue\n",
      "2022-11-16 18:13:54,229-[INFO]- dropbox:474 -> Request to files/list_folder/continue\n",
      "2022-11-16 18:13:59,301-[INFO]- dropbox:474 -> Request to files/list_folder/continue\n",
      "2022-11-16 18:14:04,474-[INFO]- dropbox:474 -> Request to files/list_folder/continue\n",
      "2022-11-16 18:14:10,008-[INFO]- dropbox:474 -> Request to files/list_folder/continue\n",
      "2022-11-16 18:14:15,976-[INFO]- dropbox:474 -> Request to files/list_folder/continue\n",
      "2022-11-16 18:14:21,777-[INFO]- dropbox:474 -> Request to files/list_folder/continue\n",
      "2022-11-16 18:14:27,442-[INFO]- dropbox:474 -> Request to files/list_folder/continue\n",
      "2022-11-16 18:14:32,990-[INFO]- dropbox:474 -> Request to files/list_folder/continue\n",
      "2022-11-16 18:14:38,645-[INFO]- dropbox:474 -> Request to files/list_folder/continue\n",
      "2022-11-16 18:14:43,974-[INFO]- dropbox:474 -> Request to files/list_folder/continue\n",
      "2022-11-16 18:14:49,360-[INFO]- dropbox:474 -> Request to files/list_folder/continue\n",
      "2022-11-16 18:14:54,664-[INFO]- dropbox:474 -> Request to files/list_folder/continue\n",
      "2022-11-16 18:14:59,733-[INFO]- dropbox:474 -> Request to files/list_folder/continue\n",
      "2022-11-16 18:15:04,911-[INFO]- dropbox:474 -> Request to files/list_folder/continue\n",
      "2022-11-16 18:15:11,117-[INFO]- dropbox:474 -> Request to files/list_folder/continue\n",
      "2022-11-16 18:15:17,055-[INFO]- dropbox:474 -> Request to files/list_folder/continue\n",
      "2022-11-16 18:15:22,614-[INFO]- dropbox:474 -> Request to files/list_folder/continue\n",
      "2022-11-16 18:15:28,418-[INFO]- dropbox:474 -> Request to files/list_folder/continue\n",
      "2022-11-16 18:15:34,268-[INFO]- dropbox:474 -> Request to files/list_folder/continue\n",
      "2022-11-16 18:15:40,144-[INFO]- dropbox:474 -> Request to files/list_folder/continue\n",
      "2022-11-16 18:15:45,558-[INFO]- dropbox:474 -> Request to files/list_folder/continue\n",
      "2022-11-16 18:15:51,015-[INFO]- dropbox:474 -> Request to files/list_folder/continue\n",
      "2022-11-16 18:15:56,870-[INFO]- dropbox:474 -> Request to files/list_folder/continue\n",
      "2022-11-16 18:16:02,295-[INFO]- dropbox:474 -> Request to files/list_folder/continue\n",
      "2022-11-16 18:16:09,113-[INFO]- dropbox:474 -> Request to files/list_folder/continue\n",
      "2022-11-16 18:16:15,343-[INFO]- dropbox:474 -> Request to files/list_folder/continue\n",
      "2022-11-16 18:16:21,327-[INFO]- dropbox:474 -> Request to files/list_folder/continue\n",
      "2022-11-16 18:16:27,139-[INFO]- dropbox:474 -> Request to files/list_folder/continue\n",
      "2022-11-16 18:16:32,828-[INFO]- dropbox:474 -> Request to files/list_folder/continue\n",
      "2022-11-16 18:16:40,426-[INFO]- dropbox:474 -> Request to files/list_folder/continue\n",
      "2022-11-16 18:16:46,636-[INFO]- dropbox:474 -> Request to files/list_folder/continue\n",
      "2022-11-16 18:16:52,030-[INFO]- dropbox:474 -> Request to files/list_folder/continue\n",
      "2022-11-16 18:16:57,470-[INFO]- dropbox:474 -> Request to files/list_folder/continue\n",
      "2022-11-16 18:17:03,260-[INFO]- dropbox:474 -> Request to files/list_folder/continue\n",
      "2022-11-16 18:17:08,651-[INFO]- dropbox:474 -> Request to files/list_folder/continue\n",
      "2022-11-16 18:17:15,461-[INFO]- dropbox:474 -> Request to files/list_folder/continue\n",
      "2022-11-16 18:17:21,947-[INFO]- dropbox:474 -> Request to files/list_folder/continue\n",
      "2022-11-16 18:17:27,089-[INFO]- dropbox:474 -> Request to files/list_folder/continue\n",
      "2022-11-16 18:17:33,501-[INFO]- dropbox:474 -> Request to files/list_folder/continue\n",
      "2022-11-16 18:17:39,530-[INFO]- dropbox:474 -> Request to files/list_folder/continue\n",
      "2022-11-16 18:17:45,036-[INFO]- dropbox:474 -> Request to files/list_folder/continue\n",
      "2022-11-16 18:17:50,857-[INFO]- dropbox:474 -> Request to files/list_folder/continue\n",
      "2022-11-16 18:17:57,160-[INFO]- dropbox:474 -> Request to files/list_folder/continue\n",
      "2022-11-16 18:18:02,612-[INFO]- dropbox:474 -> Request to files/list_folder/continue\n",
      "2022-11-16 18:18:08,422-[INFO]- dropbox:474 -> Request to files/list_folder/continue\n",
      "2022-11-16 18:18:15,259-[INFO]- dropbox:474 -> Request to files/list_folder/continue\n",
      "2022-11-16 18:18:22,744-[INFO]- dropbox:474 -> Request to files/list_folder/continue\n",
      "2022-11-16 18:18:27,982-[INFO]- dropbox:474 -> Request to files/list_folder/continue\n",
      "2022-11-16 18:18:33,688-[INFO]- dropbox:474 -> Request to files/list_folder/continue\n",
      "2022-11-16 18:18:39,340-[INFO]- dropbox:474 -> Request to files/list_folder/continue\n",
      "2022-11-16 18:18:45,065-[INFO]- dropbox:474 -> Request to files/list_folder/continue\n",
      "2022-11-16 18:18:50,343-[INFO]- dropbox:474 -> Request to files/list_folder/continue\n",
      "2022-11-16 18:18:55,859-[INFO]- dropbox:474 -> Request to files/list_folder/continue\n",
      "2022-11-16 18:19:01,344-[INFO]- dropbox:474 -> Request to files/list_folder/continue\n",
      "2022-11-16 18:19:06,929-[INFO]- dropbox:474 -> Request to files/list_folder/continue\n",
      "2022-11-16 18:19:12,284-[INFO]- dropbox:474 -> Request to files/list_folder/continue\n",
      "2022-11-16 18:19:17,509-[INFO]- dropbox:474 -> Request to files/list_folder/continue\n",
      "2022-11-16 18:19:24,123-[INFO]- dropbox:474 -> Request to files/list_folder/continue\n",
      "2022-11-16 18:19:30,215-[INFO]- dropbox:474 -> Request to files/list_folder/continue\n",
      "2022-11-16 18:19:36,030-[INFO]- dropbox:474 -> Request to files/list_folder/continue\n",
      "2022-11-16 18:19:42,062-[INFO]- dropbox:474 -> Request to files/list_folder/continue\n",
      "2022-11-16 18:19:48,231-[INFO]- dropbox:474 -> Request to files/list_folder/continue\n",
      "2022-11-16 18:19:53,822-[INFO]- dropbox:474 -> Request to files/list_folder/continue\n",
      "2022-11-16 18:19:59,442-[INFO]- dropbox:474 -> Request to files/list_folder/continue\n",
      "2022-11-16 18:20:05,275-[INFO]- dropbox:474 -> Request to files/list_folder/continue\n",
      "2022-11-16 18:20:11,309-[INFO]- dropbox:474 -> Request to files/list_folder/continue\n",
      "2022-11-16 18:20:17,010-[INFO]- dropbox:474 -> Request to files/list_folder/continue\n",
      "2022-11-16 18:20:22,456-[INFO]- dropbox:474 -> Request to files/list_folder/continue\n",
      "2022-11-16 18:20:28,085-[INFO]- dropbox:474 -> Request to files/list_folder/continue\n",
      "2022-11-16 18:20:33,524-[INFO]- dropbox:474 -> Request to files/list_folder/continue\n",
      "2022-11-16 18:20:39,193-[INFO]- dropbox:474 -> Request to files/list_folder/continue\n",
      "2022-11-16 18:20:44,576-[INFO]- dropbox:474 -> Request to files/list_folder/continue\n",
      "2022-11-16 18:20:49,602-[INFO]- dropbox:474 -> Request to files/list_folder/continue\n",
      "2022-11-16 18:20:54,679-[INFO]- dropbox:474 -> Request to files/list_folder/continue\n",
      "2022-11-16 18:21:00,430-[INFO]- dropbox:474 -> Request to files/list_folder/continue\n",
      "2022-11-16 18:21:06,319-[INFO]- dropbox:474 -> Request to files/list_folder/continue\n",
      "2022-11-16 18:21:11,736-[INFO]- dropbox:474 -> Request to files/list_folder/continue\n",
      "2022-11-16 18:21:17,026-[INFO]- dropbox:474 -> Request to files/list_folder/continue\n",
      "2022-11-16 18:21:22,576-[INFO]- dropbox:474 -> Request to files/list_folder/continue\n",
      "2022-11-16 18:21:28,117-[INFO]- dropbox:474 -> Request to files/list_folder/continue\n",
      "2022-11-16 18:21:33,076-[INFO]- dropbox:474 -> Request to files/list_folder/continue\n",
      "2022-11-16 18:21:34,272-[INFO]- dropbox:502 -> HttpError status_code=500: Retrying in 0.7 seconds\n",
      "2022-11-16 18:21:34,961-[INFO]- dropbox:474 -> Request to files/list_folder/continue\n",
      "2022-11-16 18:21:41,129-[INFO]- dropbox:474 -> Request to files/list_folder/continue\n",
      "2022-11-16 18:21:46,519-[INFO]- dropbox:474 -> Request to files/list_folder/continue\n",
      "2022-11-16 18:21:51,761-[INFO]- dropbox:474 -> Request to files/list_folder/continue\n",
      "2022-11-16 18:21:56,933-[INFO]- dropbox:474 -> Request to files/list_folder/continue\n",
      "2022-11-16 18:22:02,722-[INFO]- dropbox:474 -> Request to files/list_folder/continue\n",
      "2022-11-16 18:22:08,918-[INFO]- dropbox:474 -> Request to files/list_folder/continue\n",
      "2022-11-16 18:22:14,438-[INFO]- dropbox:474 -> Request to files/list_folder/continue\n",
      "2022-11-16 18:22:19,617-[INFO]- dropbox:474 -> Request to files/list_folder/continue\n",
      "2022-11-16 18:22:25,950-[INFO]- dropbox:474 -> Request to files/list_folder/continue\n",
      "2022-11-16 18:22:31,068-[INFO]- dropbox:474 -> Request to files/list_folder/continue\n",
      "2022-11-16 18:22:36,477-[INFO]- dropbox:474 -> Request to files/list_folder/continue\n",
      "2022-11-16 18:22:41,698-[INFO]- dropbox:474 -> Request to files/list_folder/continue\n",
      "2022-11-16 18:22:47,122-[INFO]- dropbox:474 -> Request to files/list_folder/continue\n",
      "2022-11-16 18:22:52,196-[INFO]- dropbox:474 -> Request to files/list_folder/continue\n",
      "2022-11-16 18:22:57,866-[INFO]- dropbox:474 -> Request to files/list_folder/continue\n",
      "2022-11-16 18:23:02,958-[INFO]- dropbox:474 -> Request to files/list_folder/continue\n",
      "2022-11-16 18:23:10,304-[INFO]- dropbox:474 -> Request to files/list_folder/continue\n",
      "2022-11-16 18:23:15,918-[INFO]- dropbox:474 -> Request to files/list_folder/continue\n",
      "2022-11-16 18:23:21,155-[INFO]- dropbox:474 -> Request to files/list_folder/continue\n",
      "2022-11-16 18:23:26,738-[INFO]- dropbox:474 -> Request to files/list_folder/continue\n",
      "2022-11-16 18:23:33,638-[INFO]- dropbox:474 -> Request to files/list_folder/continue\n",
      "2022-11-16 18:23:39,053-[INFO]- dropbox:474 -> Request to files/list_folder/continue\n",
      "2022-11-16 18:23:45,148-[INFO]- dropbox:474 -> Request to files/list_folder/continue\n",
      "2022-11-16 18:23:50,647-[INFO]- dropbox:474 -> Request to files/list_folder/continue\n",
      "2022-11-16 18:23:55,948-[INFO]- dropbox:474 -> Request to files/list_folder/continue\n",
      "2022-11-16 18:24:01,734-[INFO]- dropbox:474 -> Request to files/list_folder/continue\n",
      "2022-11-16 18:24:07,138-[INFO]- dropbox:474 -> Request to files/list_folder/continue\n",
      "2022-11-16 18:24:12,958-[INFO]- dropbox:474 -> Request to files/list_folder/continue\n",
      "2022-11-16 18:24:18,448-[INFO]- dropbox:474 -> Request to files/list_folder/continue\n",
      "2022-11-16 18:24:23,949-[INFO]- dropbox:474 -> Request to files/list_folder/continue\n",
      "2022-11-16 18:24:29,528-[INFO]- dropbox:474 -> Request to files/list_folder/continue\n",
      "2022-11-16 18:24:35,823-[INFO]- dropbox:474 -> Request to files/list_folder/continue\n",
      "2022-11-16 18:24:41,364-[INFO]- dropbox:474 -> Request to files/list_folder/continue\n",
      "2022-11-16 18:24:47,763-[INFO]- dropbox:474 -> Request to files/list_folder/continue\n",
      "2022-11-16 18:24:54,844-[INFO]- dropbox:474 -> Request to files/list_folder/continue\n",
      "2022-11-16 18:25:00,622-[INFO]- dropbox:474 -> Request to files/list_folder/continue\n",
      "2022-11-16 18:25:05,938-[INFO]- dropbox:474 -> Request to files/list_folder/continue\n",
      "2022-11-16 18:25:11,758-[INFO]- dropbox:474 -> Request to files/list_folder/continue\n",
      "2022-11-16 18:25:17,848-[INFO]- dropbox:474 -> Request to files/list_folder/continue\n",
      "2022-11-16 18:25:23,451-[INFO]- dropbox:474 -> Request to files/list_folder/continue\n",
      "2022-11-16 18:25:29,140-[INFO]- dropbox:474 -> Request to files/list_folder/continue\n",
      "2022-11-16 18:25:35,042-[INFO]- dropbox:474 -> Request to files/list_folder/continue\n",
      "2022-11-16 18:25:40,521-[INFO]- dropbox:474 -> Request to files/list_folder/continue\n",
      "2022-11-16 18:25:46,015-[INFO]- dropbox:474 -> Request to files/list_folder/continue\n",
      "2022-11-16 18:25:52,020-[INFO]- dropbox:474 -> Request to files/list_folder/continue\n",
      "2022-11-16 18:25:57,557-[INFO]- dropbox:474 -> Request to files/list_folder/continue\n",
      "2022-11-16 18:26:03,545-[INFO]- dropbox:474 -> Request to files/list_folder/continue\n",
      "2022-11-16 18:26:09,421-[INFO]- dropbox:474 -> Request to files/list_folder/continue\n",
      "2022-11-16 18:26:15,016-[INFO]- dropbox:474 -> Request to files/list_folder/continue\n",
      "2022-11-16 18:26:20,517-[INFO]- dropbox:474 -> Request to files/list_folder/continue\n",
      "2022-11-16 18:26:26,145-[INFO]- dropbox:474 -> Request to files/list_folder/continue\n",
      "2022-11-16 18:26:31,527-[INFO]- dropbox:474 -> Request to files/list_folder/continue\n",
      "2022-11-16 18:26:38,162-[INFO]- dropbox:474 -> Request to files/list_folder/continue\n",
      "2022-11-16 18:26:43,746-[INFO]- dropbox:474 -> Request to files/list_folder/continue\n",
      "2022-11-16 18:26:49,563-[INFO]- dropbox:474 -> Request to files/list_folder/continue\n",
      "2022-11-16 18:26:57,749-[INFO]- dropbox:474 -> Request to files/list_folder/continue\n",
      "2022-11-16 18:27:03,036-[INFO]- dropbox:474 -> Request to files/list_folder/continue\n",
      "2022-11-16 18:27:09,123-[INFO]- dropbox:474 -> Request to files/list_folder/continue\n",
      "2022-11-16 18:27:14,950-[INFO]- dropbox:474 -> Request to files/list_folder/continue\n",
      "2022-11-16 18:27:20,420-[INFO]- dropbox:474 -> Request to files/list_folder/continue\n",
      "2022-11-16 18:27:25,921-[INFO]- dropbox:474 -> Request to files/list_folder/continue\n",
      "2022-11-16 18:27:31,433-[INFO]- dropbox:474 -> Request to files/list_folder/continue\n",
      "2022-11-16 18:27:36,842-[INFO]- dropbox:474 -> Request to files/list_folder/continue\n",
      "2022-11-16 18:27:42,116-[INFO]- dropbox:474 -> Request to files/list_folder/continue\n",
      "2022-11-16 18:27:47,833-[INFO]- dropbox:474 -> Request to files/list_folder/continue\n",
      "2022-11-16 18:27:53,023-[INFO]- dropbox:474 -> Request to files/list_folder/continue\n",
      "2022-11-16 18:28:00,745-[INFO]- dropbox:474 -> Request to files/list_folder/continue\n",
      "2022-11-16 18:28:06,329-[INFO]- dropbox:474 -> Request to files/list_folder/continue\n",
      "2022-11-16 18:28:11,829-[INFO]- dropbox:474 -> Request to files/list_folder/continue\n",
      "2022-11-16 18:28:17,658-[INFO]- dropbox:474 -> Request to files/list_folder/continue\n",
      "2022-11-16 18:28:23,255-[INFO]- dropbox:474 -> Request to files/list_folder/continue\n",
      "2022-11-16 18:28:29,124-[INFO]- dropbox:474 -> Request to files/list_folder/continue\n",
      "2022-11-16 18:28:34,940-[INFO]- dropbox:474 -> Request to files/list_folder/continue\n",
      "2022-11-16 18:28:40,430-[INFO]- dropbox:474 -> Request to files/list_folder/continue\n",
      "2022-11-16 18:28:46,531-[INFO]- dropbox:474 -> Request to files/list_folder/continue\n",
      "2022-11-16 18:28:52,943-[INFO]- dropbox:474 -> Request to files/list_folder/continue\n",
      "2022-11-16 18:28:58,260-[INFO]- dropbox:474 -> Request to files/list_folder/continue\n",
      "2022-11-16 18:29:03,352-[INFO]- dropbox:474 -> Request to files/list_folder/continue\n",
      "2022-11-16 18:29:08,844-[INFO]- dropbox:474 -> Request to files/list_folder/continue\n",
      "2022-11-16 18:29:14,434-[INFO]- dropbox:474 -> Request to files/list_folder/continue\n",
      "2022-11-16 18:29:20,742-[INFO]- dropbox:474 -> Request to files/list_folder/continue\n",
      "2022-11-16 18:29:26,439-[INFO]- dropbox:474 -> Request to files/list_folder/continue\n",
      "2022-11-16 18:29:32,033-[INFO]- dropbox:474 -> Request to files/list_folder/continue\n",
      "2022-11-16 18:29:37,524-[INFO]- dropbox:474 -> Request to files/list_folder/continue\n",
      "2022-11-16 18:29:43,430-[INFO]- dropbox:474 -> Request to files/list_folder/continue\n",
      "2022-11-16 18:29:48,640-[INFO]- dropbox:474 -> Request to files/list_folder/continue\n",
      "2022-11-16 18:29:54,230-[INFO]- dropbox:474 -> Request to files/list_folder/continue\n",
      "2022-11-16 18:29:59,732-[INFO]- dropbox:474 -> Request to files/list_folder/continue\n",
      "2022-11-16 18:30:05,140-[INFO]- dropbox:474 -> Request to files/list_folder/continue\n",
      "2022-11-16 18:30:10,720-[INFO]- dropbox:474 -> Request to files/list_folder/continue\n",
      "2022-11-16 18:30:16,244-[INFO]- dropbox:474 -> Request to files/list_folder/continue\n",
      "2022-11-16 18:30:21,463-[INFO]- dropbox:474 -> Request to files/list_folder/continue\n",
      "2022-11-16 18:30:27,643-[INFO]- dropbox:474 -> Request to files/list_folder/continue\n",
      "2022-11-16 18:30:33,525-[INFO]- dropbox:474 -> Request to files/list_folder/continue\n",
      "2022-11-16 18:30:39,125-[INFO]- dropbox:474 -> Request to files/list_folder/continue\n",
      "2022-11-16 18:30:44,447-[INFO]- dropbox:474 -> Request to files/list_folder/continue\n",
      "2022-11-16 18:30:51,232-[INFO]- dropbox:474 -> Request to files/list_folder/continue\n",
      "2022-11-16 18:30:56,543-[INFO]- dropbox:474 -> Request to files/list_folder/continue\n",
      "2022-11-16 18:31:02,126-[INFO]- dropbox:474 -> Request to files/list_folder/continue\n",
      "2022-11-16 18:31:08,332-[INFO]- dropbox:474 -> Request to files/list_folder/continue\n",
      "2022-11-16 18:31:14,243-[INFO]- dropbox:474 -> Request to files/list_folder/continue\n",
      "2022-11-16 18:31:19,632-[INFO]- dropbox:474 -> Request to files/list_folder/continue\n",
      "2022-11-16 18:31:26,047-[INFO]- dropbox:474 -> Request to files/list_folder/continue\n",
      "2022-11-16 18:31:32,546-[INFO]- dropbox:474 -> Request to files/list_folder/continue\n",
      "2022-11-16 18:31:37,824-[INFO]- dropbox:474 -> Request to files/list_folder/continue\n",
      "2022-11-16 18:31:43,520-[INFO]- dropbox:474 -> Request to files/list_folder/continue\n",
      "2022-11-16 18:31:48,850-[INFO]- dropbox:474 -> Request to files/list_folder/continue\n",
      "2022-11-16 18:31:54,457-[INFO]- dropbox:474 -> Request to files/list_folder/continue\n",
      "2022-11-16 18:31:59,634-[INFO]- dropbox:474 -> Request to files/list_folder/continue\n",
      "2022-11-16 18:32:04,627-[INFO]- dropbox:474 -> Request to files/list_folder/continue\n",
      "2022-11-16 18:32:09,940-[INFO]- dropbox:474 -> Request to files/list_folder/continue\n",
      "2022-11-16 18:32:15,929-[INFO]- dropbox:474 -> Request to files/list_folder/continue\n",
      "2022-11-16 18:32:21,337-[INFO]- dropbox:474 -> Request to files/list_folder/continue\n",
      "2022-11-16 18:32:26,925-[INFO]- dropbox:474 -> Request to files/list_folder/continue\n",
      "2022-11-16 18:32:33,236-[INFO]- dropbox:474 -> Request to files/list_folder/continue\n",
      "2022-11-16 18:32:38,918-[INFO]- dropbox:474 -> Request to files/list_folder/continue\n",
      "2022-11-16 18:32:44,749-[INFO]- dropbox:474 -> Request to files/list_folder/continue\n",
      "2022-11-16 18:32:50,453-[INFO]- dropbox:474 -> Request to files/list_folder/continue\n",
      "2022-11-16 18:32:56,402-[INFO]- dropbox:474 -> Request to files/list_folder/continue\n",
      "2022-11-16 18:33:01,838-[INFO]- dropbox:474 -> Request to files/list_folder/continue\n",
      "2022-11-16 18:33:07,403-[INFO]- dropbox:474 -> Request to files/list_folder/continue\n",
      "2022-11-16 18:33:12,777-[INFO]- dropbox:474 -> Request to files/list_folder/continue\n",
      "2022-11-16 18:33:18,741-[INFO]- dropbox:474 -> Request to files/list_folder/continue\n",
      "2022-11-16 18:33:25,299-[INFO]- dropbox:474 -> Request to files/list_folder/continue\n",
      "2022-11-16 18:33:30,352-[INFO]- dropbox:474 -> Request to files/list_folder/continue\n",
      "2022-11-16 18:33:35,751-[INFO]- dropbox:474 -> Request to files/list_folder/continue\n",
      "2022-11-16 18:33:41,980-[INFO]- dropbox:474 -> Request to files/list_folder/continue\n",
      "2022-11-16 18:33:47,630-[INFO]- dropbox:474 -> Request to files/list_folder/continue\n",
      "2022-11-16 18:33:53,138-[INFO]- dropbox:474 -> Request to files/list_folder/continue\n",
      "2022-11-16 18:33:58,338-[INFO]- dropbox:474 -> Request to files/list_folder/continue\n",
      "2022-11-16 18:34:03,557-[INFO]- dropbox:474 -> Request to files/list_folder/continue\n",
      "2022-11-16 18:34:09,126-[INFO]- dropbox:474 -> Request to files/list_folder/continue\n",
      "2022-11-16 18:34:14,425-[INFO]- dropbox:474 -> Request to files/list_folder/continue\n",
      "2022-11-16 18:34:19,837-[INFO]- dropbox:474 -> Request to files/list_folder/continue\n",
      "2022-11-16 18:34:25,420-[INFO]- dropbox:474 -> Request to files/list_folder/continue\n",
      "2022-11-16 18:34:30,962-[INFO]- dropbox:474 -> Request to files/list_folder/continue\n",
      "2022-11-16 18:34:36,438-[INFO]- dropbox:474 -> Request to files/list_folder/continue\n",
      "2022-11-16 18:34:41,845-[INFO]- dropbox:474 -> Request to files/list_folder/continue\n",
      "2022-11-16 18:34:47,440-[INFO]- dropbox:474 -> Request to files/list_folder/continue\n",
      "2022-11-16 18:34:52,954-[INFO]- dropbox:474 -> Request to files/list_folder/continue\n",
      "2022-11-16 18:34:58,555-[INFO]- dropbox:474 -> Request to files/list_folder/continue\n",
      "2022-11-16 18:35:04,332-[INFO]- dropbox:474 -> Request to files/list_folder/continue\n",
      "2022-11-16 18:35:10,118-[INFO]- dropbox:474 -> Request to files/list_folder/continue\n",
      "2022-11-16 18:35:16,022-[INFO]- dropbox:474 -> Request to files/list_folder/continue\n",
      "2022-11-16 18:35:21,521-[INFO]- dropbox:474 -> Request to files/list_folder/continue\n",
      "2022-11-16 18:35:27,441-[INFO]- dropbox:474 -> Request to files/list_folder/continue\n",
      "2022-11-16 18:35:33,641-[INFO]- dropbox:474 -> Request to files/list_folder/continue\n",
      "2022-11-16 18:35:40,123-[INFO]- dropbox:474 -> Request to files/list_folder/continue\n",
      "2022-11-16 18:35:45,957-[INFO]- dropbox:474 -> Request to files/list_folder/continue\n",
      "2022-11-16 18:35:51,536-[INFO]- dropbox:474 -> Request to files/list_folder/continue\n",
      "2022-11-16 18:35:57,153-[INFO]- dropbox:474 -> Request to files/list_folder/continue\n",
      "2022-11-16 18:36:02,626-[INFO]- dropbox:474 -> Request to files/list_folder/continue\n",
      "2022-11-16 18:36:08,462-[INFO]- dropbox:474 -> Request to files/list_folder/continue\n",
      "2022-11-16 18:36:14,142-[INFO]- dropbox:474 -> Request to files/list_folder/continue\n",
      "2022-11-16 18:36:21,029-[INFO]- dropbox:474 -> Request to files/list_folder/continue\n",
      "2022-11-16 18:36:26,622-[INFO]- dropbox:474 -> Request to files/list_folder/continue\n",
      "2022-11-16 18:36:32,149-[INFO]- dropbox:474 -> Request to files/list_folder/continue\n",
      "2022-11-16 18:36:38,238-[INFO]- dropbox:474 -> Request to files/list_folder/continue\n",
      "2022-11-16 18:36:43,630-[INFO]- dropbox:474 -> Request to files/list_folder/continue\n",
      "2022-11-16 18:36:49,020-[INFO]- dropbox:474 -> Request to files/list_folder/continue\n",
      "2022-11-16 18:36:54,623-[INFO]- dropbox:474 -> Request to files/list_folder/continue\n",
      "2022-11-16 18:36:59,943-[INFO]- dropbox:474 -> Request to files/list_folder/continue\n",
      "2022-11-16 18:37:06,059-[INFO]- dropbox:474 -> Request to files/list_folder/continue\n",
      "2022-11-16 18:37:11,958-[INFO]- dropbox:474 -> Request to files/list_folder/continue\n",
      "2022-11-16 18:37:20,044-[INFO]- dropbox:474 -> Request to files/list_folder/continue\n",
      "2022-11-16 18:37:25,958-[INFO]- dropbox:474 -> Request to files/list_folder/continue\n",
      "2022-11-16 18:37:31,352-[INFO]- dropbox:474 -> Request to files/list_folder/continue\n",
      "2022-11-16 18:37:36,763-[INFO]- dropbox:474 -> Request to files/list_folder/continue\n",
      "2022-11-16 18:37:42,365-[INFO]- dropbox:474 -> Request to files/list_folder/continue\n",
      "2022-11-16 18:37:47,842-[INFO]- dropbox:474 -> Request to files/list_folder/continue\n",
      "2022-11-16 18:37:53,723-[INFO]- dropbox:474 -> Request to files/list_folder/continue\n",
      "2022-11-16 18:37:59,015-[INFO]- dropbox:474 -> Request to files/list_folder/continue\n",
      "2022-11-16 18:38:04,917-[INFO]- dropbox:474 -> Request to files/list_folder/continue\n",
      "2022-11-16 18:38:11,655-[INFO]- dropbox:474 -> Request to files/list_folder/continue\n",
      "2022-11-16 18:38:17,330-[INFO]- dropbox:474 -> Request to files/list_folder/continue\n",
      "2022-11-16 18:38:22,921-[INFO]- dropbox:474 -> Request to files/list_folder/continue\n",
      "2022-11-16 18:38:28,443-[INFO]- dropbox:474 -> Request to files/list_folder/continue\n",
      "2022-11-16 18:38:33,663-[INFO]- dropbox:474 -> Request to files/list_folder/continue\n",
      "2022-11-16 18:38:40,060-[INFO]- dropbox:474 -> Request to files/list_folder/continue\n",
      "2022-11-16 18:38:45,724-[INFO]- dropbox:474 -> Request to files/list_folder/continue\n",
      "2022-11-16 18:38:51,928-[INFO]- dropbox:474 -> Request to files/list_folder/continue\n",
      "2022-11-16 18:38:57,542-[INFO]- dropbox:474 -> Request to files/list_folder/continue\n",
      "2022-11-16 18:39:02,751-[INFO]- dropbox:474 -> Request to files/list_folder/continue\n",
      "2022-11-16 18:39:08,545-[INFO]- dropbox:474 -> Request to files/list_folder/continue\n",
      "2022-11-16 18:39:14,017-[INFO]- dropbox:474 -> Request to files/list_folder/continue\n",
      "2022-11-16 18:39:19,457-[INFO]- dropbox:474 -> Request to files/list_folder/continue\n",
      "2022-11-16 18:39:25,015-[INFO]- dropbox:474 -> Request to files/list_folder/continue\n",
      "2022-11-16 18:39:30,426-[INFO]- dropbox:474 -> Request to files/list_folder/continue\n",
      "2022-11-16 18:39:36,028-[INFO]- dropbox:474 -> Request to files/list_folder/continue\n",
      "2022-11-16 18:39:41,549-[INFO]- dropbox:474 -> Request to files/list_folder/continue\n",
      "2022-11-16 18:39:46,938-[INFO]- dropbox:474 -> Request to files/list_folder/continue\n",
      "2022-11-16 18:39:52,858-[INFO]- dropbox:474 -> Request to files/list_folder/continue\n",
      "2022-11-16 18:39:58,216-[INFO]- dropbox:474 -> Request to files/list_folder/continue\n",
      "2022-11-16 18:40:03,652-[INFO]- dropbox:474 -> Request to files/list_folder/continue\n",
      "2022-11-16 18:40:09,238-[INFO]- dropbox:474 -> Request to files/list_folder/continue\n",
      "2022-11-16 18:40:15,318-[INFO]- dropbox:474 -> Request to files/list_folder/continue\n",
      "2022-11-16 18:40:20,958-[INFO]- dropbox:474 -> Request to files/list_folder/continue\n",
      "2022-11-16 18:40:26,351-[INFO]- dropbox:474 -> Request to files/list_folder/continue\n",
      "2022-11-16 18:40:32,621-[INFO]- dropbox:474 -> Request to files/list_folder/continue\n",
      "2022-11-16 18:40:39,441-[INFO]- dropbox:474 -> Request to files/list_folder/continue\n",
      "2022-11-16 18:40:44,833-[INFO]- dropbox:474 -> Request to files/list_folder/continue\n",
      "2022-11-16 18:40:50,556-[INFO]- dropbox:474 -> Request to files/list_folder/continue\n",
      "2022-11-16 18:40:56,218-[INFO]- dropbox:474 -> Request to files/list_folder/continue\n",
      "2022-11-16 18:41:01,724-[INFO]- dropbox:474 -> Request to files/list_folder/continue\n",
      "2022-11-16 18:41:07,358-[INFO]- dropbox:474 -> Request to files/list_folder/continue\n",
      "2022-11-16 18:41:12,715-[INFO]- dropbox:474 -> Request to files/list_folder/continue\n",
      "2022-11-16 18:41:18,431-[INFO]- dropbox:474 -> Request to files/list_folder/continue\n",
      "2022-11-16 18:41:24,861-[INFO]- dropbox:474 -> Request to files/list_folder/continue\n",
      "2022-11-16 18:41:30,518-[INFO]- dropbox:474 -> Request to files/list_folder/continue\n",
      "2022-11-16 18:41:36,133-[INFO]- dropbox:474 -> Request to files/list_folder/continue\n",
      "2022-11-16 18:41:41,846-[INFO]- dropbox:474 -> Request to files/list_folder/continue\n",
      "2022-11-16 18:41:47,415-[INFO]- dropbox:474 -> Request to files/list_folder/continue\n",
      "2022-11-16 18:41:53,934-[INFO]- dropbox:474 -> Request to files/list_folder/continue\n",
      "2022-11-16 18:41:59,423-[INFO]- dropbox:474 -> Request to files/list_folder/continue\n",
      "2022-11-16 18:42:05,017-[INFO]- dropbox:474 -> Request to files/list_folder/continue\n",
      "2022-11-16 18:42:11,240-[INFO]- dropbox:474 -> Request to files/list_folder/continue\n",
      "2022-11-16 18:42:17,434-[INFO]- dropbox:474 -> Request to files/list_folder/continue\n",
      "2022-11-16 18:42:23,146-[INFO]- dropbox:474 -> Request to files/list_folder/continue\n",
      "2022-11-16 18:42:28,545-[INFO]- dropbox:474 -> Request to files/list_folder/continue\n",
      "2022-11-16 18:42:34,026-[INFO]- dropbox:474 -> Request to files/list_folder/continue\n",
      "2022-11-16 18:42:39,565-[INFO]- dropbox:474 -> Request to files/list_folder/continue\n",
      "2022-11-16 18:42:45,630-[INFO]- dropbox:474 -> Request to files/list_folder/continue\n",
      "2022-11-16 18:42:51,178-[INFO]- dropbox:474 -> Request to files/list_folder/continue\n",
      "2022-11-16 18:42:56,585-[INFO]- dropbox:474 -> Request to files/list_folder/continue\n",
      "2022-11-16 18:43:02,196-[INFO]- dropbox:474 -> Request to files/list_folder/continue\n",
      "2022-11-16 18:43:07,900-[INFO]- dropbox:474 -> Request to files/list_folder/continue\n",
      "2022-11-16 18:43:13,768-[INFO]- dropbox:474 -> Request to files/list_folder/continue\n",
      "2022-11-16 18:43:19,246-[INFO]- dropbox:474 -> Request to files/list_folder/continue\n",
      "2022-11-16 18:43:24,920-[INFO]- dropbox:474 -> Request to files/list_folder/continue\n",
      "2022-11-16 18:43:31,293-[INFO]- dropbox:474 -> Request to files/list_folder/continue\n",
      "2022-11-16 18:43:36,590-[INFO]- dropbox:474 -> Request to files/list_folder/continue\n",
      "2022-11-16 18:43:41,928-[INFO]- dropbox:474 -> Request to files/list_folder/continue\n",
      "2022-11-16 18:43:47,191-[INFO]- dropbox:474 -> Request to files/list_folder/continue\n",
      "2022-11-16 18:43:53,090-[INFO]- dropbox:474 -> Request to files/list_folder/continue\n",
      "2022-11-16 18:43:58,436-[INFO]- dropbox:474 -> Request to files/list_folder/continue\n",
      "2022-11-16 18:44:04,317-[INFO]- dropbox:474 -> Request to files/list_folder/continue\n",
      "2022-11-16 18:44:09,538-[INFO]- dropbox:474 -> Request to files/list_folder/continue\n",
      "2022-11-16 18:44:15,003-[INFO]- dropbox:474 -> Request to files/list_folder/continue\n",
      "2022-11-16 18:44:20,917-[INFO]- dropbox:474 -> Request to files/list_folder/continue\n",
      "2022-11-16 18:44:27,214-[INFO]- dropbox:474 -> Request to files/list_folder/continue\n",
      "2022-11-16 18:44:32,506-[INFO]- dropbox:474 -> Request to files/list_folder/continue\n",
      "2022-11-16 18:44:37,784-[INFO]- dropbox:474 -> Request to files/list_folder/continue\n",
      "2022-11-16 18:44:43,892-[INFO]- dropbox:474 -> Request to files/list_folder/continue\n",
      "2022-11-16 18:44:49,159-[INFO]- dropbox:474 -> Request to files/list_folder/continue\n",
      "2022-11-16 18:44:54,398-[INFO]- dropbox:474 -> Request to files/list_folder/continue\n",
      "2022-11-16 18:44:59,834-[INFO]- dropbox:474 -> Request to files/list_folder/continue\n",
      "2022-11-16 18:45:04,975-[INFO]- dropbox:474 -> Request to files/list_folder/continue\n",
      "2022-11-16 18:45:10,277-[INFO]- dropbox:474 -> Request to files/list_folder/continue\n",
      "2022-11-16 18:45:15,598-[INFO]- dropbox:474 -> Request to files/list_folder/continue\n",
      "2022-11-16 18:45:20,962-[INFO]- dropbox:474 -> Request to files/list_folder/continue\n",
      "2022-11-16 18:45:26,380-[INFO]- dropbox:474 -> Request to files/list_folder/continue\n",
      "2022-11-16 18:45:32,818-[INFO]- dropbox:474 -> Request to files/list_folder/continue\n",
      "2022-11-16 18:45:38,697-[INFO]- dropbox:474 -> Request to files/list_folder/continue\n",
      "2022-11-16 18:45:44,104-[INFO]- dropbox:474 -> Request to files/list_folder/continue\n",
      "2022-11-16 18:45:49,657-[INFO]- dropbox:474 -> Request to files/list_folder/continue\n",
      "2022-11-16 18:45:55,440-[INFO]- dropbox:474 -> Request to files/list_folder/continue\n",
      "2022-11-16 18:46:00,691-[INFO]- dropbox:474 -> Request to files/list_folder/continue\n",
      "2022-11-16 18:46:06,528-[INFO]- dropbox:474 -> Request to files/list_folder/continue\n",
      "2022-11-16 18:46:12,777-[INFO]- dropbox:474 -> Request to files/list_folder/continue\n",
      "2022-11-16 18:46:18,519-[INFO]- dropbox:474 -> Request to files/list_folder/continue\n",
      "2022-11-16 18:46:23,947-[INFO]- dropbox:474 -> Request to files/list_folder/continue\n",
      "2022-11-16 18:46:30,455-[INFO]- dropbox:474 -> Request to files/list_folder/continue\n",
      "2022-11-16 18:46:35,590-[INFO]- dropbox:474 -> Request to files/list_folder/continue\n",
      "2022-11-16 18:46:40,993-[INFO]- dropbox:474 -> Request to files/list_folder/continue\n",
      "2022-11-16 18:46:46,404-[INFO]- dropbox:474 -> Request to files/list_folder/continue\n",
      "2022-11-16 18:46:54,255-[INFO]- dropbox:474 -> Request to files/list_folder/continue\n",
      "2022-11-16 18:46:59,748-[INFO]- dropbox:474 -> Request to files/list_folder/continue\n",
      "2022-11-16 18:47:04,932-[INFO]- dropbox:474 -> Request to files/list_folder/continue\n",
      "2022-11-16 18:47:11,603-[INFO]- dropbox:474 -> Request to files/list_folder/continue\n",
      "2022-11-16 18:47:16,884-[INFO]- dropbox:474 -> Request to files/list_folder/continue\n",
      "2022-11-16 18:47:22,122-[INFO]- dropbox:474 -> Request to files/list_folder/continue\n",
      "2022-11-16 18:47:28,102-[INFO]- dropbox:474 -> Request to files/list_folder/continue\n",
      "2022-11-16 18:47:34,143-[INFO]- dropbox:474 -> Request to files/list_folder/continue\n",
      "2022-11-16 18:47:39,479-[INFO]- dropbox:474 -> Request to files/list_folder/continue\n",
      "2022-11-16 18:47:44,873-[INFO]- dropbox:474 -> Request to files/list_folder/continue\n",
      "2022-11-16 18:47:50,345-[INFO]- dropbox:474 -> Request to files/list_folder/continue\n",
      "2022-11-16 18:47:55,773-[INFO]- dropbox:474 -> Request to files/list_folder/continue\n",
      "2022-11-16 18:48:01,075-[INFO]- dropbox:474 -> Request to files/list_folder/continue\n",
      "2022-11-16 18:48:06,436-[INFO]- dropbox:474 -> Request to files/list_folder/continue\n",
      "2022-11-16 18:48:11,989-[INFO]- dropbox:474 -> Request to files/list_folder/continue\n",
      "2022-11-16 18:48:17,515-[INFO]- dropbox:474 -> Request to files/list_folder/continue\n",
      "2022-11-16 18:48:23,403-[INFO]- dropbox:474 -> Request to files/list_folder/continue\n",
      "2022-11-16 18:48:28,782-[INFO]- dropbox:474 -> Request to files/list_folder/continue\n",
      "2022-11-16 18:48:36,239-[INFO]- dropbox:474 -> Request to files/list_folder/continue\n",
      "2022-11-16 18:48:43,125-[INFO]- dropbox:474 -> Request to files/list_folder/continue\n",
      "2022-11-16 18:48:48,556-[INFO]- dropbox:474 -> Request to files/list_folder/continue\n",
      "2022-11-16 18:48:54,156-[INFO]- dropbox:474 -> Request to files/list_folder/continue\n",
      "2022-11-16 18:48:59,717-[INFO]- dropbox:474 -> Request to files/list_folder/continue\n",
      "2022-11-16 18:49:05,121-[INFO]- dropbox:474 -> Request to files/list_folder/continue\n",
      "2022-11-16 18:49:10,973-[INFO]- dropbox:474 -> Request to files/list_folder/continue\n",
      "2022-11-16 18:49:16,838-[INFO]- dropbox:474 -> Request to files/list_folder/continue\n",
      "2022-11-16 18:49:22,228-[INFO]- dropbox:474 -> Request to files/list_folder/continue\n",
      "2022-11-16 18:49:27,873-[INFO]- dropbox:474 -> Request to files/list_folder/continue\n",
      "2022-11-16 18:49:33,346-[INFO]- dropbox:474 -> Request to files/list_folder/continue\n",
      "2022-11-16 18:49:38,700-[INFO]- dropbox:474 -> Request to files/list_folder/continue\n",
      "2022-11-16 18:49:44,306-[INFO]- dropbox:474 -> Request to files/list_folder/continue\n",
      "2022-11-16 18:49:49,824-[INFO]- dropbox:474 -> Request to files/list_folder/continue\n",
      "2022-11-16 18:49:55,485-[INFO]- dropbox:474 -> Request to files/list_folder/continue\n",
      "2022-11-16 18:50:01,048-[INFO]- dropbox:474 -> Request to files/list_folder/continue\n",
      "2022-11-16 18:50:08,211-[INFO]- dropbox:474 -> Request to files/list_folder/continue\n",
      "2022-11-16 18:50:13,635-[INFO]- dropbox:474 -> Request to files/list_folder/continue\n",
      "2022-11-16 18:50:19,171-[INFO]- dropbox:474 -> Request to files/list_folder/continue\n",
      "2022-11-16 18:50:24,557-[INFO]- dropbox:474 -> Request to files/list_folder/continue\n",
      "2022-11-16 18:50:30,002-[INFO]- dropbox:474 -> Request to files/list_folder/continue\n",
      "2022-11-16 18:50:36,557-[INFO]- dropbox:474 -> Request to files/list_folder/continue\n",
      "2022-11-16 18:50:41,931-[INFO]- dropbox:474 -> Request to files/list_folder/continue\n",
      "2022-11-16 18:50:47,348-[INFO]- dropbox:474 -> Request to files/list_folder/continue\n",
      "2022-11-16 18:50:52,800-[INFO]- dropbox:474 -> Request to files/list_folder/continue\n",
      "2022-11-16 18:50:58,416-[INFO]- dropbox:474 -> Request to files/list_folder/continue\n",
      "2022-11-16 18:51:03,927-[INFO]- dropbox:474 -> Request to files/list_folder/continue\n",
      "2022-11-16 18:51:09,676-[INFO]- dropbox:474 -> Request to files/list_folder/continue\n",
      "2022-11-16 18:51:15,028-[INFO]- dropbox:474 -> Request to files/list_folder/continue\n",
      "2022-11-16 18:51:20,758-[INFO]- dropbox:474 -> Request to files/list_folder/continue\n",
      "2022-11-16 18:51:26,214-[INFO]- dropbox:474 -> Request to files/list_folder/continue\n",
      "2022-11-16 18:51:31,852-[INFO]- dropbox:474 -> Request to files/list_folder/continue\n",
      "2022-11-16 18:51:38,114-[INFO]- dropbox:474 -> Request to files/list_folder/continue\n",
      "2022-11-16 18:51:43,769-[INFO]- dropbox:474 -> Request to files/list_folder/continue\n",
      "2022-11-16 18:51:49,295-[INFO]- dropbox:474 -> Request to files/list_folder/continue\n",
      "2022-11-16 18:51:55,235-[INFO]- dropbox:474 -> Request to files/list_folder/continue\n",
      "2022-11-16 18:52:01,149-[INFO]- dropbox:474 -> Request to files/list_folder/continue\n",
      "2022-11-16 18:52:07,913-[INFO]- dropbox:474 -> Request to files/list_folder/continue\n",
      "2022-11-16 18:52:13,775-[INFO]- dropbox:474 -> Request to files/list_folder/continue\n",
      "2022-11-16 18:52:19,598-[INFO]- dropbox:474 -> Request to files/list_folder/continue\n",
      "2022-11-16 18:52:25,212-[INFO]- dropbox:474 -> Request to files/list_folder/continue\n",
      "2022-11-16 18:52:30,655-[INFO]- dropbox:474 -> Request to files/list_folder/continue\n",
      "2022-11-16 18:52:36,194-[INFO]- dropbox:474 -> Request to files/list_folder/continue\n",
      "2022-11-16 18:52:41,819-[INFO]- dropbox:474 -> Request to files/list_folder/continue\n",
      "2022-11-16 18:52:47,644-[INFO]- dropbox:474 -> Request to files/list_folder/continue\n",
      "2022-11-16 18:52:53,058-[INFO]- dropbox:474 -> Request to files/list_folder/continue\n",
      "2022-11-16 18:52:58,596-[INFO]- dropbox:474 -> Request to files/list_folder/continue\n",
      "2022-11-16 18:53:04,565-[INFO]- dropbox:474 -> Request to files/list_folder/continue\n",
      "2022-11-16 18:53:11,187-[INFO]- dropbox:474 -> Request to files/list_folder/continue\n",
      "2022-11-16 18:53:16,717-[INFO]- dropbox:474 -> Request to files/list_folder/continue\n",
      "2022-11-16 18:53:21,994-[INFO]- dropbox:474 -> Request to files/list_folder/continue\n",
      "2022-11-16 18:53:28,290-[INFO]- dropbox:474 -> Request to files/list_folder/continue\n",
      "2022-11-16 18:53:33,424-[INFO]- dropbox:474 -> Request to files/list_folder/continue\n",
      "2022-11-16 18:53:38,693-[INFO]- dropbox:474 -> Request to files/list_folder/continue\n",
      "2022-11-16 18:53:44,005-[INFO]- dropbox:474 -> Request to files/list_folder/continue\n",
      "2022-11-16 18:53:50,601-[INFO]- dropbox:474 -> Request to files/list_folder/continue\n",
      "2022-11-16 18:53:56,173-[INFO]- dropbox:474 -> Request to files/list_folder/continue\n",
      "2022-11-16 18:54:01,675-[INFO]- dropbox:474 -> Request to files/list_folder/continue\n",
      "2022-11-16 18:54:07,257-[INFO]- dropbox:474 -> Request to files/list_folder/continue\n",
      "2022-11-16 18:54:12,290-[INFO]- dropbox:474 -> Request to files/list_folder/continue\n",
      "2022-11-16 18:54:17,284-[INFO]- dropbox:474 -> Request to files/list_folder/continue\n",
      "2022-11-16 18:54:23,002-[INFO]- dropbox:474 -> Request to files/list_folder/continue\n",
      "2022-11-16 18:54:28,336-[INFO]- dropbox:474 -> Request to files/list_folder/continue\n",
      "2022-11-16 18:54:33,605-[INFO]- dropbox:474 -> Request to files/list_folder/continue\n",
      "2022-11-16 18:54:39,321-[INFO]- dropbox:474 -> Request to files/list_folder/continue\n",
      "2022-11-16 18:54:45,287-[INFO]- dropbox:474 -> Request to files/list_folder/continue\n",
      "2022-11-16 18:54:51,381-[INFO]- dropbox:474 -> Request to files/list_folder/continue\n",
      "2022-11-16 18:54:56,928-[INFO]- dropbox:474 -> Request to files/list_folder/continue\n",
      "2022-11-16 18:55:02,232-[INFO]- dropbox:474 -> Request to files/list_folder/continue\n",
      "2022-11-16 18:55:07,699-[INFO]- dropbox:474 -> Request to files/list_folder/continue\n",
      "2022-11-16 18:55:13,334-[INFO]- dropbox:474 -> Request to files/list_folder/continue\n",
      "2022-11-16 18:55:18,928-[INFO]- dropbox:474 -> Request to files/list_folder/continue\n",
      "2022-11-16 18:55:24,434-[INFO]- dropbox:474 -> Request to files/list_folder/continue\n",
      "2022-11-16 18:55:29,760-[INFO]- dropbox:474 -> Request to files/list_folder/continue\n",
      "2022-11-16 18:55:35,300-[INFO]- dropbox:474 -> Request to files/list_folder/continue\n",
      "2022-11-16 18:55:40,797-[INFO]- dropbox:474 -> Request to files/list_folder/continue\n",
      "2022-11-16 18:55:47,192-[INFO]- dropbox:474 -> Request to files/list_folder/continue\n",
      "2022-11-16 18:55:53,120-[INFO]- dropbox:474 -> Request to files/list_folder/continue\n",
      "2022-11-16 18:55:58,552-[INFO]- dropbox:474 -> Request to files/list_folder/continue\n",
      "2022-11-16 18:56:03,849-[INFO]- dropbox:474 -> Request to files/list_folder/continue\n",
      "2022-11-16 18:56:09,427-[INFO]- dropbox:474 -> Request to files/list_folder/continue\n",
      "2022-11-16 18:56:14,629-[INFO]- dropbox:474 -> Request to files/list_folder/continue\n",
      "2022-11-16 18:56:20,379-[INFO]- dropbox:474 -> Request to files/list_folder/continue\n",
      "2022-11-16 18:56:26,472-[INFO]- dropbox:474 -> Request to files/list_folder/continue\n",
      "2022-11-16 18:56:31,969-[INFO]- dropbox:474 -> Request to files/list_folder/continue\n",
      "2022-11-16 18:56:37,405-[INFO]- dropbox:474 -> Request to files/list_folder/continue\n",
      "2022-11-16 18:56:43,231-[INFO]- dropbox:474 -> Request to files/list_folder/continue\n",
      "2022-11-16 18:56:48,611-[INFO]- dropbox:474 -> Request to files/list_folder/continue\n",
      "2022-11-16 18:56:54,095-[INFO]- dropbox:474 -> Request to files/list_folder/continue\n",
      "2022-11-16 18:56:59,593-[INFO]- dropbox:474 -> Request to files/list_folder/continue\n",
      "2022-11-16 18:57:04,992-[INFO]- dropbox:474 -> Request to files/list_folder/continue\n",
      "2022-11-16 18:57:10,170-[INFO]- dropbox:474 -> Request to files/list_folder/continue\n",
      "2022-11-16 18:57:15,314-[INFO]- dropbox:474 -> Request to files/list_folder/continue\n",
      "2022-11-16 18:57:20,477-[INFO]- dropbox:474 -> Request to files/list_folder/continue\n",
      "2022-11-16 18:57:26,752-[INFO]- dropbox:474 -> Request to files/list_folder/continue\n",
      "2022-11-16 18:57:32,128-[INFO]- dropbox:474 -> Request to files/list_folder/continue\n",
      "2022-11-16 18:57:37,473-[INFO]- dropbox:474 -> Request to files/list_folder/continue\n",
      "2022-11-16 18:57:44,859-[INFO]- dropbox:474 -> Request to files/list_folder/continue\n",
      "2022-11-16 18:57:50,526-[INFO]- dropbox:474 -> Request to files/list_folder/continue\n",
      "2022-11-16 18:57:56,161-[INFO]- dropbox:474 -> Request to files/list_folder/continue\n",
      "2022-11-16 18:58:02,418-[INFO]- dropbox:474 -> Request to files/list_folder/continue\n",
      "2022-11-16 18:58:07,671-[INFO]- dropbox:474 -> Request to files/list_folder/continue\n",
      "2022-11-16 18:58:12,882-[INFO]- dropbox:474 -> Request to files/list_folder/continue\n",
      "2022-11-16 18:58:18,621-[INFO]- dropbox:474 -> Request to files/list_folder/continue\n",
      "2022-11-16 18:58:23,784-[INFO]- dropbox:474 -> Request to files/list_folder/continue\n",
      "2022-11-16 18:58:29,181-[INFO]- dropbox:474 -> Request to files/list_folder/continue\n",
      "2022-11-16 18:58:34,277-[INFO]- dropbox:474 -> Request to files/list_folder/continue\n",
      "2022-11-16 18:58:39,503-[INFO]- dropbox:474 -> Request to files/list_folder/continue\n",
      "2022-11-16 18:58:44,840-[INFO]- dropbox:474 -> Request to files/list_folder/continue\n",
      "2022-11-16 18:58:50,302-[INFO]- dropbox:474 -> Request to files/list_folder/continue\n",
      "2022-11-16 18:58:55,653-[INFO]- dropbox:474 -> Request to files/list_folder/continue\n",
      "2022-11-16 18:59:01,153-[INFO]- dropbox:474 -> Request to files/list_folder/continue\n",
      "2022-11-16 18:59:07,256-[INFO]- dropbox:474 -> Request to files/list_folder/continue\n",
      "2022-11-16 18:59:12,622-[INFO]- dropbox:474 -> Request to files/list_folder/continue\n",
      "2022-11-16 18:59:18,058-[INFO]- dropbox:474 -> Request to files/list_folder/continue\n",
      "2022-11-16 18:59:23,424-[INFO]- dropbox:474 -> Request to files/list_folder/continue\n",
      "2022-11-16 18:59:28,615-[INFO]- dropbox:474 -> Request to files/list_folder/continue\n",
      "2022-11-16 18:59:33,795-[INFO]- dropbox:474 -> Request to files/list_folder/continue\n",
      "2022-11-16 18:59:38,973-[INFO]- dropbox:474 -> Request to files/list_folder/continue\n",
      "2022-11-16 18:59:44,194-[INFO]- dropbox:474 -> Request to files/list_folder/continue\n",
      "2022-11-16 18:59:49,723-[INFO]- dropbox:474 -> Request to files/list_folder/continue\n",
      "2022-11-16 18:59:55,253-[INFO]- dropbox:474 -> Request to files/list_folder/continue\n",
      "2022-11-16 19:00:00,337-[INFO]- dropbox:474 -> Request to files/list_folder/continue\n",
      "2022-11-16 19:00:05,859-[INFO]- dropbox:474 -> Request to files/list_folder/continue\n",
      "2022-11-16 19:00:11,218-[INFO]- dropbox:474 -> Request to files/list_folder/continue\n",
      "2022-11-16 19:00:16,341-[INFO]- dropbox:474 -> Request to files/list_folder/continue\n",
      "2022-11-16 19:00:21,756-[INFO]- dropbox:474 -> Request to files/list_folder/continue\n",
      "2022-11-16 19:00:27,042-[INFO]- dropbox:474 -> Request to files/list_folder/continue\n",
      "2022-11-16 19:00:32,261-[INFO]- dropbox:474 -> Request to files/list_folder/continue\n",
      "2022-11-16 19:00:37,253-[INFO]- dropbox:474 -> Request to files/list_folder/continue\n",
      "2022-11-16 19:00:42,262-[INFO]- dropbox:474 -> Request to files/list_folder/continue\n",
      "2022-11-16 19:00:47,449-[INFO]- dropbox:474 -> Request to files/list_folder/continue\n",
      "2022-11-16 19:00:52,518-[INFO]- dropbox:474 -> Request to files/list_folder/continue\n",
      "2022-11-16 19:00:57,846-[INFO]- dropbox:474 -> Request to files/list_folder/continue\n",
      "2022-11-16 19:01:03,017-[INFO]- dropbox:474 -> Request to files/list_folder/continue\n",
      "2022-11-16 19:01:08,035-[INFO]- dropbox:474 -> Request to files/list_folder/continue\n",
      "2022-11-16 19:01:13,230-[INFO]- dropbox:474 -> Request to files/list_folder/continue\n",
      "2022-11-16 19:01:18,923-[INFO]- dropbox:474 -> Request to files/list_folder/continue\n",
      "2022-11-16 19:01:24,162-[INFO]- dropbox:474 -> Request to files/list_folder/continue\n",
      "2022-11-16 19:01:30,021-[INFO]- dropbox:474 -> Request to files/list_folder/continue\n"
     ]
    },
    {
     "data": {
      "application/vnd.jupyter.widget-view+json": {
       "model_id": "27380b8a97254967b75618f377f3b186",
       "version_major": 2,
       "version_minor": 0
      },
      "text/plain": [
       "analysed:   0%|          | 0/578 [00:00<?, ?it/s]"
      ]
     },
     "metadata": {},
     "output_type": "display_data"
    }
   ],
   "source": [
    "dir_drop = \"DATA/PRINCE\"\n",
    "all_folders_drop = get_dropbox_folders(\"/DATA/PRINCE\", True)\n",
    "folders_drop = all_folders_drop.loc[all_folders_drop[\"unique_id\"].isin(plates)]\n",
    "update_plate_info(directory_targ, local=True, strong_constraint=False)\n",
    "all_folders = get_current_folders(directory_targ, local=True)\n",
    "# if len(all_folders) > 0:\n",
    "folders = all_folders.loc[all_folders[\"unique_id\"].isin(plates)]\n",
    "folders_drop2 = folders_drop.loc[~folders_drop[\"folder\"].isin(folders[\"folder\"])]\n",
    "folders_drop3 = folders_drop2.loc[~folders_drop2[\"folder\"].str.contains(\"Analysis\")]"
   ]
  },
  {
   "cell_type": "code",
   "execution_count": 39,
   "id": "4a62256b-7c18-4acd-87fd-3786f14f3ba2",
   "metadata": {
    "tags": []
   },
   "outputs": [
    {
     "data": {
      "text/html": [
       "<div>\n",
       "<style scoped>\n",
       "    .dataframe tbody tr th:only-of-type {\n",
       "        vertical-align: middle;\n",
       "    }\n",
       "\n",
       "    .dataframe tbody tr th {\n",
       "        vertical-align: top;\n",
       "    }\n",
       "\n",
       "    .dataframe thead th {\n",
       "        text-align: right;\n",
       "    }\n",
       "</style>\n",
       "<table border=\"1\" class=\"dataframe\">\n",
       "  <thead>\n",
       "    <tr style=\"text-align: right;\">\n",
       "      <th></th>\n",
       "      <th>folder</th>\n",
       "      <th>size</th>\n",
       "      <th>change_date</th>\n",
       "      <th>tot_path_drop</th>\n",
       "      <th>Plate</th>\n",
       "      <th>CrossDate</th>\n",
       "      <th>unique_id</th>\n",
       "    </tr>\n",
       "  </thead>\n",
       "  <tbody>\n",
       "  </tbody>\n",
       "</table>\n",
       "</div>"
      ],
      "text/plain": [
       "Empty DataFrame\n",
       "Columns: [folder, size, change_date, tot_path_drop, Plate, CrossDate, unique_id]\n",
       "Index: []"
      ]
     },
     "execution_count": 39,
     "metadata": {},
     "output_type": "execute_result"
    }
   ],
   "source": [
    "folders_drop3"
   ]
  },
  {
   "cell_type": "code",
   "execution_count": 8,
   "id": "84469621-95e5-4866-b780-bec978a73e03",
   "metadata": {
    "tags": []
   },
   "outputs": [],
   "source": [
    "on_dropbox = all_folders_drop.loc[\n",
    "    all_folders_drop[\"CrossDate\"].between(\"20220820\", \"20220901\")\n",
    "]\n",
    "plates = on_dropbox[\"unique_id\"].unique()"
   ]
  },
  {
   "cell_type": "code",
   "execution_count": 9,
   "id": "9bafdbab-19b3-4272-b640-726ccfd152de",
   "metadata": {},
   "outputs": [
    {
     "data": {
      "text/plain": [
       "array(['109_20220829', '140_20220826', '106_20220826', '46_20220829',\n",
       "       '111_20220823', '107_20220821', '108_20220823', '66_20220823',\n",
       "       '996_20220823'], dtype=object)"
      ]
     },
     "execution_count": 9,
     "metadata": {},
     "output_type": "execute_result"
    }
   ],
   "source": [
    "plates"
   ]
  },
  {
   "cell_type": "code",
   "execution_count": 10,
   "id": "d168e936-b144-4abd-8542-502a65f07523",
   "metadata": {
    "tags": []
   },
   "outputs": [
    {
     "data": {
      "text/plain": [
       "2847"
      ]
     },
     "execution_count": 10,
     "metadata": {},
     "output_type": "execute_result"
    }
   ],
   "source": [
    "len(on_dropbox)"
   ]
  },
  {
   "cell_type": "code",
   "execution_count": 2,
   "id": "a41d5ed3-e77d-487d-be97-7a780b6df7de",
   "metadata": {
    "tags": []
   },
   "outputs": [],
   "source": [
    "# plates= ['94_20201123','102_20201226','76_20210108','152_20201224','792_20210915']\n",
    "# plates= ['52_20220707','56_20220701','839_20220325','938_20220325','1076_20220511']\n",
    "plates = [\n",
    "    \"52_20220707\",\n",
    "    \"56_20220701\",\n",
    "    \"81_20220704\",\n",
    "    \"89_20220705\",\n",
    "    \"91_20220708\",\n",
    "    \"839_20220325\",\n",
    "    \"1076_20220511\",\n",
    "]  # full run done!\n",
    "plates = [\n",
    "    \"84_20220621\",\n",
    "    \"877_20220419\",\n",
    "    \"938_20220325\",\n",
    "    \"941_20220404\",\n",
    "]  # for spore data\n",
    "\n",
    "# plates = ['52_20220707','84_20220621','1048_20220506','1045_20220504']\n",
    "plates = [\n",
    "    # \"20_20220419\",\n",
    "    # \"23_20220509\",\n",
    "    # \"24_20220426\",\n",
    "    # \"30_20220509\",\n",
    "    # \"32_20220428\",\n",
    "    \"33_20220502\",\n",
    "]  # analysis AGG\n",
    "# plates = [\"20_20220419\", \"23_20220509\", \"24_20220426\"]  # analysis AGG\n",
    "\n",
    "# plates = ['111111_20600101']\n",
    "# plates = [\"56_20220701\",\"839_20220325\",'938_20220325','1076_20220511'] #analysis A5\n",
    "# plates = [\"81_20220704\",\"84_20220621\",\"89_20220705\",\"91_20220708\"] #analysis A5sp3\n",
    "# plates = [\"127_20220705\",\"129_20220711\",\"130_20220707\",\"1014_20220525\",\"1023_20220502\",\"1048_20220506\", \"1045_20220504\",\"1035_20220518\",\"1037_20220523\",\"1042_20220523\",\"1053_20220413\"] #analysis C2\n",
    "# plates = [\"1035_20220518\",\"1037_20220523\",\"1042_20220523\",\"1053_20220413\"] #analysis C2\n",
    "# plates = ['94_20201123','152_20201224','792_20210915']\n",
    "# plates = ['799_20211001','800_20210928','91_20201217']\n",
    "# plates = [\"1044_20220509\"]\n",
    "# plates = [\"1048_20220506\", \"1045_20220504\", \"52_20220707\", \"84_20220621\"]\n",
    "# plates = [\n",
    "#     '102_20201226',\n",
    "#      '94_20201123',\n",
    "#     \"1076_20220511\",\n",
    "#     \"1042_20220523\",\n",
    "#     \"1048_20220506\",\n",
    "#     \"938_20220325\",\n",
    "#          ]\n",
    "# plates = ['907_20220321','943_20220322',\"403_20221005\"] #for philippe\n",
    "# plates = ['799_20211001','800_20210928',\"91_20201217\"]\n",
    "plates = [\n",
    "    \"106_20220826\",\n",
    "    \"108_20220823\",\n",
    "    \"111_20220823\",\n",
    "    \"66_20220823\",\n",
    "    \"105_20220817\",\n",
    "    \"100_20220812\",\n",
    "    \"75_20220808\",\n",
    "    \"99_20220815\",\n",
    "]\n",
    "\n",
    "plates = [\"452_20221017\"]  # for spore data\n",
    "# plates = ['1048_20220506','84_20220621'] #for spore data\n",
    "# plates = ['510_20220623']"
   ]
  },
  {
   "cell_type": "code",
   "execution_count": 24,
   "id": "36f5e840-d63e-4fcf-96b2-71b8c3ea4584",
   "metadata": {
    "jupyter": {
     "source_hidden": true
    },
    "tags": []
   },
   "outputs": [],
   "source": [
    "plates = [\n",
    "    \"078_20220920\",\n",
    "    \"079_20220920\",\n",
    "    \"080_20220920\",\n",
    "    \"081_20220920\",\n",
    "    \"082_20220920\",\n",
    "    \"083_20220920\",\n",
    "    \"084_20220920\",\n",
    "    \"001_20220920\",\n",
    "    \"024_20220920\",\n",
    "    \"073_20220920\",\n",
    "    \"002_20220920\",\n",
    "    \"003_20220920\",\n",
    "    \"004_20220920\",\n",
    "    \"005_20220920\",\n",
    "    \"006_20220920\",\n",
    "    \"007_20220920\",\n",
    "    \"008_20220920\",\n",
    "    \"009_20220920\",\n",
    "    \"010_20220920\",\n",
    "    \"011_20220920\",\n",
    "    \"012_20220920\",\n",
    "    \"019_20220920\",\n",
    "    \"020_20220920\",\n",
    "    \"021_20220920\",\n",
    "    \"022_20220920\",\n",
    "    \"023_20220920\",\n",
    "    \"037_20220920\",\n",
    "    \"038_20220920\",\n",
    "    \"039_20220920\",\n",
    "    \"040_20220920\",\n",
    "    \"042_20220920\",\n",
    "    \"043_20220920\",\n",
    "    \"044_20220920\",\n",
    "    \"045_20220920\",\n",
    "    \"046_20220920\",\n",
    "    \"016_20220921\",\n",
    "    \"017_20220921\",\n",
    "    \"034_20220921\",\n",
    "    \"051_20220920\",\n",
    "    \"094_20220921\",\n",
    "    \"064_20220921\",\n",
    "    \"026_20220921\",\n",
    "    \"027_20220921\",\n",
    "    \"028_20220921\",\n",
    "    \"029_20220921\",\n",
    "    \"031_20220921\",\n",
    "    \"033_20220921\",\n",
    "    \"035_20220921\",\n",
    "    \"036_20220921\",\n",
    "    \"047_20220920\",\n",
    "    \"041_20220920\",\n",
    "    \"015_20220921\",\n",
    "    \"068_20220921\",\n",
    "    \"107_20220921\",\n",
    "    \"095_20220921\",\n",
    "    \"062_20220921\",\n",
    "    \"096_20220921\",\n",
    "    \"104_20220921\",\n",
    "    \"050_20220920\",\n",
    "    \"030_20220921\",\n",
    "    \"025_20220921\",\n",
    "    \"100_20220921\",\n",
    "    \"067_20220921\",\n",
    "    \"048_20220920\",\n",
    "    \"055_20220921\",\n",
    "    \"056_20220921\",\n",
    "    \"057_20220921\",\n",
    "    \"058_20220921\",\n",
    "    \"059_20220921\",\n",
    "    \"060_20220921\",\n",
    "    \"061_20220921\",\n",
    "    \"063_20220921\",\n",
    "    \"014_20220921\",\n",
    "    \"018_20220921\",\n",
    "    \"099_20220921\",\n",
    "    \"069_20220921\",\n",
    "    \"054_20220920\",\n",
    "    \"075_20220920\",\n",
    "    \"092_20220921\",\n",
    "    \"093_20220921\",\n",
    "    \"097_20220921\",\n",
    "    \"098_20220921\",\n",
    "    \"105_20220921\",\n",
    "    \"106_20220921\",\n",
    "    \"108_20220921\",\n",
    "    \"085_20220921\",\n",
    "    \"086_20220921\",\n",
    "    \"087_20220921\",\n",
    "    \"088_20220921\",\n",
    "    \"089_20220921\",\n",
    "    \"090_20220921\",\n",
    "    \"091_20220921\",\n",
    "    \"049_20220920\",\n",
    "    \"052_20220920\",\n",
    "    \"053_20220920\",\n",
    "    \"074_20220920\",\n",
    "    \"076_20220920\",\n",
    "    \"077_20220920\",\n",
    "    \"013_20220921\",\n",
    "    \"070_20220921\",\n",
    "    \"071_20220921\",\n",
    "    \"072_20220921\",\n",
    "    \"102_20220921\",\n",
    "    \"032_20220921\",\n",
    "    \"101_20220921\",\n",
    "    \"065_20220921\",\n",
    "    \"066_20220921\",\n",
    "    \"103_20220921\",\n",
    "]\n",
    "plates = [\n",
    "    \"_\".join((str(int(plate.split(\"_\")[0])), str(int(plate.split(\"_\")[1]))))\n",
    "    for plate in plates\n",
    "]"
   ]
  },
  {
   "cell_type": "code",
   "execution_count": 28,
   "id": "c82981cb-db9e-42ce-a4a1-b0ed5130acc0",
   "metadata": {
    "collapsed": true,
    "jupyter": {
     "outputs_hidden": true
    },
    "tags": []
   },
   "outputs": [
    {
     "data": {
      "text/plain": [
       "['78_20220920',\n",
       " '79_20220920',\n",
       " '80_20220920',\n",
       " '81_20220920',\n",
       " '82_20220920',\n",
       " '83_20220920',\n",
       " '84_20220920',\n",
       " '1_20220920',\n",
       " '24_20220920',\n",
       " '73_20220920',\n",
       " '2_20220920',\n",
       " '3_20220920',\n",
       " '4_20220920',\n",
       " '5_20220920',\n",
       " '6_20220920',\n",
       " '7_20220920',\n",
       " '8_20220920',\n",
       " '9_20220920',\n",
       " '10_20220920',\n",
       " '11_20220920',\n",
       " '12_20220920',\n",
       " '19_20220920',\n",
       " '20_20220920',\n",
       " '21_20220920',\n",
       " '22_20220920',\n",
       " '23_20220920',\n",
       " '37_20220920',\n",
       " '38_20220920',\n",
       " '39_20220920',\n",
       " '40_20220920',\n",
       " '42_20220920',\n",
       " '43_20220920',\n",
       " '44_20220920',\n",
       " '45_20220920',\n",
       " '46_20220920',\n",
       " '16_20220921',\n",
       " '17_20220921',\n",
       " '34_20220921',\n",
       " '51_20220920',\n",
       " '94_20220921',\n",
       " '64_20220921',\n",
       " '26_20220921',\n",
       " '27_20220921',\n",
       " '28_20220921',\n",
       " '29_20220921',\n",
       " '31_20220921',\n",
       " '33_20220921',\n",
       " '35_20220921',\n",
       " '36_20220921',\n",
       " '47_20220920',\n",
       " '41_20220920',\n",
       " '15_20220921',\n",
       " '68_20220921',\n",
       " '107_20220921',\n",
       " '95_20220921',\n",
       " '62_20220921',\n",
       " '96_20220921',\n",
       " '104_20220921',\n",
       " '50_20220920',\n",
       " '30_20220921',\n",
       " '25_20220921',\n",
       " '100_20220921',\n",
       " '67_20220921',\n",
       " '48_20220920',\n",
       " '55_20220921',\n",
       " '56_20220921',\n",
       " '57_20220921',\n",
       " '58_20220921',\n",
       " '59_20220921',\n",
       " '60_20220921',\n",
       " '61_20220921',\n",
       " '63_20220921',\n",
       " '14_20220921',\n",
       " '18_20220921',\n",
       " '99_20220921',\n",
       " '69_20220921',\n",
       " '54_20220920',\n",
       " '75_20220920',\n",
       " '92_20220921',\n",
       " '93_20220921',\n",
       " '97_20220921',\n",
       " '98_20220921',\n",
       " '105_20220921',\n",
       " '106_20220921',\n",
       " '108_20220921',\n",
       " '85_20220921',\n",
       " '86_20220921',\n",
       " '87_20220921',\n",
       " '88_20220921',\n",
       " '89_20220921',\n",
       " '90_20220921',\n",
       " '91_20220921',\n",
       " '49_20220920',\n",
       " '52_20220920',\n",
       " '53_20220920',\n",
       " '74_20220920',\n",
       " '76_20220920',\n",
       " '77_20220920',\n",
       " '13_20220921',\n",
       " '70_20220921',\n",
       " '71_20220921',\n",
       " '72_20220921',\n",
       " '102_20220921',\n",
       " '32_20220921',\n",
       " '101_20220921',\n",
       " '65_20220921',\n",
       " '66_20220921',\n",
       " '103_20220921']"
      ]
     },
     "execution_count": 28,
     "metadata": {},
     "output_type": "execute_result"
    }
   ],
   "source": [
    "plates"
   ]
  },
  {
   "cell_type": "code",
   "execution_count": 5,
   "id": "8efe6f25-cd53-4e0e-ad12-d5a6f24c3d76",
   "metadata": {},
   "outputs": [],
   "source": [
    "import imageio.v2 as imageio"
   ]
  },
  {
   "cell_type": "code",
   "execution_count": 52,
   "id": "6bb4e977-e1c8-4bb0-b88b-12ef74766f27",
   "metadata": {
    "tags": []
   },
   "outputs": [],
   "source": [
    "folders_drop = all_folders_drop.loc[\n",
    "    all_folders_drop[\"unique_id\"].isin(select_plates)\n",
    "].loc[all_folders_drop[\"folder\"].str.split(\"_\", expand=True)[0] == \"20220809\"]"
   ]
  },
  {
   "cell_type": "code",
   "execution_count": 3,
   "id": "50c944da-ef14-4242-b6ac-48aea758abbb",
   "metadata": {},
   "outputs": [
    {
     "data": {
      "text/plain": [
       "'/projects/0/einf914/data/'"
      ]
     },
     "execution_count": 3,
     "metadata": {},
     "output_type": "execute_result"
    }
   ],
   "source": [
    "directory_targ = directory_project\n",
    "directory_project"
   ]
  },
  {
   "cell_type": "code",
   "execution_count": 5,
   "id": "79fdc066-12e4-4708-a4f7-9d681e55ee14",
   "metadata": {},
   "outputs": [],
   "source": [
    "directory_targ = os.path.join(directory_scratch, \"stitch_temp2\") + \"/\""
   ]
  },
  {
   "cell_type": "code",
   "execution_count": 4,
   "id": "75fd7145-988e-4391-8e18-83c016f22843",
   "metadata": {
    "tags": []
   },
   "outputs": [
    {
     "name": "stderr",
     "output_type": "stream",
     "text": [
      "sbatch: Single node jobs run on a shared node by default. Add --exclusive if you want to use a node exclusively.\n",
      "sbatch: You will be charged for 0.03125 node. A full node consists of 32 CPU cores, 229376 MiB of memory and 0 GPUs and can be shared by up to 32 jobs.\n"
     ]
    },
    {
     "name": "stdout",
     "output_type": "stream",
     "text": [
      "Submitted batch job 1851737\n"
     ]
    }
   ],
   "source": [
    "name_job = f\"one_shot_{time_ns()}.sh\"\n",
    "run_launcher(\n",
    "    \"dropbox_downloader.py\",\n",
    "    [directory_targ, name_job, -1, \"stitcher.py\"],\n",
    "    plates,\n",
    "    \"12:00:00\",\n",
    "    name_job=name_job,\n",
    ")\n",
    "# run_launcher('dropbox_uploader.py',[directory_targ,name_job],plates,'40:00',dependency=True,name_job = name_job)"
   ]
  },
  {
   "cell_type": "code",
   "execution_count": 4,
   "id": "d7617c84-087e-45c1-80e3-99559e53f784",
   "metadata": {
    "tags": []
   },
   "outputs": [
    {
     "name": "stderr",
     "output_type": "stream",
     "text": [
      "sbatch: Single node jobs run on a shared node by default. Add --exclusive if you want to use a node exclusively.\n",
      "sbatch: You will be charged for 0.03125 node. A full node consists of 32 CPU cores, 229376 MiB of memory and 0 GPUs and can be shared by up to 32 jobs.\n"
     ]
    },
    {
     "name": "stdout",
     "output_type": "stream",
     "text": [
      "Submitted batch job 1814579\n"
     ]
    }
   ],
   "source": [
    "name_job = f\"one_shot_{time_ns()}.sh\"\n",
    "run_launcher(\n",
    "    \"dropbox_downloader.py\",\n",
    "    [directory_targ, name_job, 12, \"post_processer_1.py\"],\n",
    "    plates,\n",
    "    \"24:00:00\",\n",
    "    name_job=name_job,\n",
    ")"
   ]
  },
  {
   "cell_type": "code",
   "execution_count": 12,
   "id": "deebbb60-7b4e-4949-bed2-2f7bb5f283b6",
   "metadata": {},
   "outputs": [
    {
     "data": {
      "text/plain": [
       "4096"
      ]
     },
     "execution_count": 12,
     "metadata": {},
     "output_type": "execute_result"
    }
   ],
   "source": [
    "max((3000, 4096))"
   ]
  },
  {
   "cell_type": "code",
   "execution_count": 25,
   "id": "44c688a2-2d96-47d1-ab37-7652a3249587",
   "metadata": {},
   "outputs": [
    {
     "data": {
      "text/plain": [
       "['1048_20220506']"
      ]
     },
     "execution_count": 25,
     "metadata": {},
     "output_type": "execute_result"
    }
   ],
   "source": [
    "plates"
   ]
  },
  {
   "cell_type": "code",
   "execution_count": 61,
   "id": "bd978f07-a8be-4351-8043-a7ba7a959033",
   "metadata": {
    "collapsed": true,
    "jupyter": {
     "outputs_hidden": true
    },
    "tags": []
   },
   "outputs": [
    {
     "data": {
      "text/html": [
       "<div>\n",
       "<style scoped>\n",
       "    .dataframe tbody tr th:only-of-type {\n",
       "        vertical-align: middle;\n",
       "    }\n",
       "\n",
       "    .dataframe tbody tr th {\n",
       "        vertical-align: top;\n",
       "    }\n",
       "\n",
       "    .dataframe thead th {\n",
       "        text-align: right;\n",
       "    }\n",
       "</style>\n",
       "<table border=\"1\" class=\"dataframe\">\n",
       "  <thead>\n",
       "    <tr style=\"text-align: right;\">\n",
       "      <th></th>\n",
       "      <th>total_path</th>\n",
       "      <th>Plate</th>\n",
       "      <th>PrincePos</th>\n",
       "      <th>root</th>\n",
       "      <th>strain</th>\n",
       "      <th>medium</th>\n",
       "      <th>split</th>\n",
       "      <th>Pbait</th>\n",
       "      <th>CrossDate</th>\n",
       "      <th>Temperature</th>\n",
       "      <th>...</th>\n",
       "      <th>/Analysis/transform.mat</th>\n",
       "      <th>/Analysis/transform_corrupt.mat</th>\n",
       "      <th>/Analysis/skeleton_realigned_compressed.mat</th>\n",
       "      <th>/Analysis/nx_graph_pruned.p</th>\n",
       "      <th>/Analysis/nx_graph_pruned_width.p</th>\n",
       "      <th>/Analysis/nx_graph_pruned_labeled.p</th>\n",
       "      <th>date</th>\n",
       "      <th>folder</th>\n",
       "      <th>unique_id</th>\n",
       "      <th>datetime</th>\n",
       "    </tr>\n",
       "  </thead>\n",
       "  <tbody>\n",
       "    <tr>\n",
       "      <th>10</th>\n",
       "      <td>/projects/0/einf914/data/20220601_1143_Plate12</td>\n",
       "      <td>30</td>\n",
       "      <td>12</td>\n",
       "      <td>'Carrot'</td>\n",
       "      <td>'Agg'</td>\n",
       "      <td>'001P100N200C'</td>\n",
       "      <td>'Y'</td>\n",
       "      <td>'-'</td>\n",
       "      <td>20220509</td>\n",
       "      <td>25</td>\n",
       "      <td>...</td>\n",
       "      <td>False</td>\n",
       "      <td>False</td>\n",
       "      <td>False</td>\n",
       "      <td>False</td>\n",
       "      <td>False</td>\n",
       "      <td>False</td>\n",
       "      <td>01.06.2022, 11:43:</td>\n",
       "      <td>20220601_1143_Plate12</td>\n",
       "      <td>30_20220509</td>\n",
       "      <td>2022-06-01 11:43:00</td>\n",
       "    </tr>\n",
       "    <tr>\n",
       "      <th>23</th>\n",
       "      <td>/projects/0/einf914/data/20220618_0150_Plate11</td>\n",
       "      <td>23</td>\n",
       "      <td>11</td>\n",
       "      <td>'Carrot'</td>\n",
       "      <td>'Agg'</td>\n",
       "      <td>'001P100N200C'</td>\n",
       "      <td>'Y'</td>\n",
       "      <td>'-'</td>\n",
       "      <td>20220509</td>\n",
       "      <td>25</td>\n",
       "      <td>...</td>\n",
       "      <td>False</td>\n",
       "      <td>False</td>\n",
       "      <td>False</td>\n",
       "      <td>False</td>\n",
       "      <td>False</td>\n",
       "      <td>False</td>\n",
       "      <td>18.06.2022, 01:50:</td>\n",
       "      <td>20220618_0150_Plate11</td>\n",
       "      <td>23_20220509</td>\n",
       "      <td>2022-06-18 01:50:00</td>\n",
       "    </tr>\n",
       "    <tr>\n",
       "      <th>24</th>\n",
       "      <td>/projects/0/einf914/data/20220528_1900_Plate12</td>\n",
       "      <td>30</td>\n",
       "      <td>12</td>\n",
       "      <td>'Carrot'</td>\n",
       "      <td>'Agg'</td>\n",
       "      <td>'001P100N200C'</td>\n",
       "      <td>'Y'</td>\n",
       "      <td>'-'</td>\n",
       "      <td>20220509</td>\n",
       "      <td>25</td>\n",
       "      <td>...</td>\n",
       "      <td>False</td>\n",
       "      <td>False</td>\n",
       "      <td>False</td>\n",
       "      <td>False</td>\n",
       "      <td>False</td>\n",
       "      <td>False</td>\n",
       "      <td>28.05.2022, 19:00:</td>\n",
       "      <td>20220528_1900_Plate12</td>\n",
       "      <td>30_20220509</td>\n",
       "      <td>2022-05-28 19:00:00</td>\n",
       "    </tr>\n",
       "    <tr>\n",
       "      <th>25</th>\n",
       "      <td>/projects/0/einf914/data/20220619_0156_Plate11</td>\n",
       "      <td>23</td>\n",
       "      <td>11</td>\n",
       "      <td>'Carrot'</td>\n",
       "      <td>'Agg'</td>\n",
       "      <td>'001P100N200C'</td>\n",
       "      <td>'Y'</td>\n",
       "      <td>'-'</td>\n",
       "      <td>20220509</td>\n",
       "      <td>25</td>\n",
       "      <td>...</td>\n",
       "      <td>False</td>\n",
       "      <td>False</td>\n",
       "      <td>False</td>\n",
       "      <td>False</td>\n",
       "      <td>False</td>\n",
       "      <td>False</td>\n",
       "      <td>19.06.2022, 01:56:</td>\n",
       "      <td>20220619_0156_Plate11</td>\n",
       "      <td>23_20220509</td>\n",
       "      <td>2022-06-19 01:56:00</td>\n",
       "    </tr>\n",
       "    <tr>\n",
       "      <th>29</th>\n",
       "      <td>/projects/0/einf914/data/20220613_0147_Plate12</td>\n",
       "      <td>30</td>\n",
       "      <td>12</td>\n",
       "      <td>'Carrot'</td>\n",
       "      <td>'Agg'</td>\n",
       "      <td>'001P100N200C'</td>\n",
       "      <td>'Y'</td>\n",
       "      <td>'-'</td>\n",
       "      <td>20220509</td>\n",
       "      <td>25</td>\n",
       "      <td>...</td>\n",
       "      <td>False</td>\n",
       "      <td>False</td>\n",
       "      <td>False</td>\n",
       "      <td>False</td>\n",
       "      <td>False</td>\n",
       "      <td>False</td>\n",
       "      <td>13.06.2022, 01:47:</td>\n",
       "      <td>20220613_0147_Plate12</td>\n",
       "      <td>30_20220509</td>\n",
       "      <td>2022-06-13 01:47:00</td>\n",
       "    </tr>\n",
       "    <tr>\n",
       "      <th>...</th>\n",
       "      <td>...</td>\n",
       "      <td>...</td>\n",
       "      <td>...</td>\n",
       "      <td>...</td>\n",
       "      <td>...</td>\n",
       "      <td>...</td>\n",
       "      <td>...</td>\n",
       "      <td>...</td>\n",
       "      <td>...</td>\n",
       "      <td>...</td>\n",
       "      <td>...</td>\n",
       "      <td>...</td>\n",
       "      <td>...</td>\n",
       "      <td>...</td>\n",
       "      <td>...</td>\n",
       "      <td>...</td>\n",
       "      <td>...</td>\n",
       "      <td>...</td>\n",
       "      <td>...</td>\n",
       "      <td>...</td>\n",
       "      <td>...</td>\n",
       "    </tr>\n",
       "    <tr>\n",
       "      <th>4882</th>\n",
       "      <td>/projects/0/einf914/data/20220529_0302_Plate12</td>\n",
       "      <td>30</td>\n",
       "      <td>12</td>\n",
       "      <td>'Carrot'</td>\n",
       "      <td>'Agg'</td>\n",
       "      <td>'001P100N200C'</td>\n",
       "      <td>'Y'</td>\n",
       "      <td>'-'</td>\n",
       "      <td>20220509</td>\n",
       "      <td>25</td>\n",
       "      <td>...</td>\n",
       "      <td>False</td>\n",
       "      <td>False</td>\n",
       "      <td>False</td>\n",
       "      <td>False</td>\n",
       "      <td>False</td>\n",
       "      <td>False</td>\n",
       "      <td>29.05.2022, 03:02:</td>\n",
       "      <td>20220529_0302_Plate12</td>\n",
       "      <td>30_20220509</td>\n",
       "      <td>2022-05-29 03:02:00</td>\n",
       "    </tr>\n",
       "    <tr>\n",
       "      <th>4886</th>\n",
       "      <td>/projects/0/einf914/data/20220604_0131_Plate11</td>\n",
       "      <td>23</td>\n",
       "      <td>11</td>\n",
       "      <td>'Carrot'</td>\n",
       "      <td>'Agg'</td>\n",
       "      <td>'001P100N200C'</td>\n",
       "      <td>'Y'</td>\n",
       "      <td>'-'</td>\n",
       "      <td>20220509</td>\n",
       "      <td>25</td>\n",
       "      <td>...</td>\n",
       "      <td>False</td>\n",
       "      <td>False</td>\n",
       "      <td>False</td>\n",
       "      <td>False</td>\n",
       "      <td>False</td>\n",
       "      <td>False</td>\n",
       "      <td>04.06.2022, 01:31:</td>\n",
       "      <td>20220604_0131_Plate11</td>\n",
       "      <td>23_20220509</td>\n",
       "      <td>2022-06-04 01:31:00</td>\n",
       "    </tr>\n",
       "    <tr>\n",
       "      <th>4889</th>\n",
       "      <td>/projects/0/einf914/data/20220619_1955_Plate11</td>\n",
       "      <td>23</td>\n",
       "      <td>11</td>\n",
       "      <td>'Carrot'</td>\n",
       "      <td>'Agg'</td>\n",
       "      <td>'001P100N200C'</td>\n",
       "      <td>'Y'</td>\n",
       "      <td>'-'</td>\n",
       "      <td>20220509</td>\n",
       "      <td>25</td>\n",
       "      <td>...</td>\n",
       "      <td>False</td>\n",
       "      <td>False</td>\n",
       "      <td>False</td>\n",
       "      <td>False</td>\n",
       "      <td>False</td>\n",
       "      <td>False</td>\n",
       "      <td>19.06.2022, 19:55:</td>\n",
       "      <td>20220619_1955_Plate11</td>\n",
       "      <td>23_20220509</td>\n",
       "      <td>2022-06-19 19:55:00</td>\n",
       "    </tr>\n",
       "    <tr>\n",
       "      <th>4890</th>\n",
       "      <td>/projects/0/einf914/data/20220616_1904_Plate10</td>\n",
       "      <td>22</td>\n",
       "      <td>10</td>\n",
       "      <td>'Carrot'</td>\n",
       "      <td>'Agg'</td>\n",
       "      <td>'001P100N100C'</td>\n",
       "      <td>'Y'</td>\n",
       "      <td>'-'</td>\n",
       "      <td>20220522</td>\n",
       "      <td>25</td>\n",
       "      <td>...</td>\n",
       "      <td>False</td>\n",
       "      <td>False</td>\n",
       "      <td>False</td>\n",
       "      <td>False</td>\n",
       "      <td>False</td>\n",
       "      <td>False</td>\n",
       "      <td>16.06.2022, 19:04:</td>\n",
       "      <td>20220616_1904_Plate10</td>\n",
       "      <td>22_20220522</td>\n",
       "      <td>2022-06-16 19:04:00</td>\n",
       "    </tr>\n",
       "    <tr>\n",
       "      <th>4894</th>\n",
       "      <td>/projects/0/einf914/data/20220614_0703_Plate11</td>\n",
       "      <td>23</td>\n",
       "      <td>11</td>\n",
       "      <td>'Carrot'</td>\n",
       "      <td>'Agg'</td>\n",
       "      <td>'001P100N200C'</td>\n",
       "      <td>'Y'</td>\n",
       "      <td>'-'</td>\n",
       "      <td>20220509</td>\n",
       "      <td>25</td>\n",
       "      <td>...</td>\n",
       "      <td>False</td>\n",
       "      <td>False</td>\n",
       "      <td>False</td>\n",
       "      <td>False</td>\n",
       "      <td>False</td>\n",
       "      <td>False</td>\n",
       "      <td>14.06.2022, 07:03:</td>\n",
       "      <td>20220614_0703_Plate11</td>\n",
       "      <td>23_20220509</td>\n",
       "      <td>2022-06-14 07:03:00</td>\n",
       "    </tr>\n",
       "  </tbody>\n",
       "</table>\n",
       "<p>958 rows × 24 columns</p>\n",
       "</div>"
      ],
      "text/plain": [
       "                                          total_path Plate PrincePos  \\\n",
       "10    /projects/0/einf914/data/20220601_1143_Plate12    30        12   \n",
       "23    /projects/0/einf914/data/20220618_0150_Plate11    23        11   \n",
       "24    /projects/0/einf914/data/20220528_1900_Plate12    30        12   \n",
       "25    /projects/0/einf914/data/20220619_0156_Plate11    23        11   \n",
       "29    /projects/0/einf914/data/20220613_0147_Plate12    30        12   \n",
       "...                                              ...   ...       ...   \n",
       "4882  /projects/0/einf914/data/20220529_0302_Plate12    30        12   \n",
       "4886  /projects/0/einf914/data/20220604_0131_Plate11    23        11   \n",
       "4889  /projects/0/einf914/data/20220619_1955_Plate11    23        11   \n",
       "4890  /projects/0/einf914/data/20220616_1904_Plate10    22        10   \n",
       "4894  /projects/0/einf914/data/20220614_0703_Plate11    23        11   \n",
       "\n",
       "          root strain          medium split Pbait CrossDate Temperature  ...  \\\n",
       "10    'Carrot'  'Agg'  '001P100N200C'   'Y'   '-'  20220509          25  ...   \n",
       "23    'Carrot'  'Agg'  '001P100N200C'   'Y'   '-'  20220509          25  ...   \n",
       "24    'Carrot'  'Agg'  '001P100N200C'   'Y'   '-'  20220509          25  ...   \n",
       "25    'Carrot'  'Agg'  '001P100N200C'   'Y'   '-'  20220509          25  ...   \n",
       "29    'Carrot'  'Agg'  '001P100N200C'   'Y'   '-'  20220509          25  ...   \n",
       "...        ...    ...             ...   ...   ...       ...         ...  ...   \n",
       "4882  'Carrot'  'Agg'  '001P100N200C'   'Y'   '-'  20220509          25  ...   \n",
       "4886  'Carrot'  'Agg'  '001P100N200C'   'Y'   '-'  20220509          25  ...   \n",
       "4889  'Carrot'  'Agg'  '001P100N200C'   'Y'   '-'  20220509          25  ...   \n",
       "4890  'Carrot'  'Agg'  '001P100N100C'   'Y'   '-'  20220522          25  ...   \n",
       "4894  'Carrot'  'Agg'  '001P100N200C'   'Y'   '-'  20220509          25  ...   \n",
       "\n",
       "     /Analysis/transform.mat /Analysis/transform_corrupt.mat  \\\n",
       "10                     False                           False   \n",
       "23                     False                           False   \n",
       "24                     False                           False   \n",
       "25                     False                           False   \n",
       "29                     False                           False   \n",
       "...                      ...                             ...   \n",
       "4882                   False                           False   \n",
       "4886                   False                           False   \n",
       "4889                   False                           False   \n",
       "4890                   False                           False   \n",
       "4894                   False                           False   \n",
       "\n",
       "     /Analysis/skeleton_realigned_compressed.mat /Analysis/nx_graph_pruned.p  \\\n",
       "10                                         False                       False   \n",
       "23                                         False                       False   \n",
       "24                                         False                       False   \n",
       "25                                         False                       False   \n",
       "29                                         False                       False   \n",
       "...                                          ...                         ...   \n",
       "4882                                       False                       False   \n",
       "4886                                       False                       False   \n",
       "4889                                       False                       False   \n",
       "4890                                       False                       False   \n",
       "4894                                       False                       False   \n",
       "\n",
       "     /Analysis/nx_graph_pruned_width.p /Analysis/nx_graph_pruned_labeled.p  \\\n",
       "10                               False                               False   \n",
       "23                               False                               False   \n",
       "24                               False                               False   \n",
       "25                               False                               False   \n",
       "29                               False                               False   \n",
       "...                                ...                                 ...   \n",
       "4882                             False                               False   \n",
       "4886                             False                               False   \n",
       "4889                             False                               False   \n",
       "4890                             False                               False   \n",
       "4894                             False                               False   \n",
       "\n",
       "                    date                 folder    unique_id  \\\n",
       "10    01.06.2022, 11:43:  20220601_1143_Plate12  30_20220509   \n",
       "23    18.06.2022, 01:50:  20220618_0150_Plate11  23_20220509   \n",
       "24    28.05.2022, 19:00:  20220528_1900_Plate12  30_20220509   \n",
       "25    19.06.2022, 01:56:  20220619_0156_Plate11  23_20220509   \n",
       "29    13.06.2022, 01:47:  20220613_0147_Plate12  30_20220509   \n",
       "...                  ...                    ...          ...   \n",
       "4882  29.05.2022, 03:02:  20220529_0302_Plate12  30_20220509   \n",
       "4886  04.06.2022, 01:31:  20220604_0131_Plate11  23_20220509   \n",
       "4889  19.06.2022, 19:55:  20220619_1955_Plate11  23_20220509   \n",
       "4890  16.06.2022, 19:04:  20220616_1904_Plate10  22_20220522   \n",
       "4894  14.06.2022, 07:03:  20220614_0703_Plate11  23_20220509   \n",
       "\n",
       "                datetime  \n",
       "10   2022-06-01 11:43:00  \n",
       "23   2022-06-18 01:50:00  \n",
       "24   2022-05-28 19:00:00  \n",
       "25   2022-06-19 01:56:00  \n",
       "29   2022-06-13 01:47:00  \n",
       "...                  ...  \n",
       "4882 2022-05-29 03:02:00  \n",
       "4886 2022-06-04 01:31:00  \n",
       "4889 2022-06-19 19:55:00  \n",
       "4890 2022-06-16 19:04:00  \n",
       "4894 2022-06-14 07:03:00  \n",
       "\n",
       "[958 rows x 24 columns]"
      ]
     },
     "execution_count": 61,
     "metadata": {},
     "output_type": "execute_result"
    }
   ],
   "source": [
    "folders = all_folders.loc[all_folders[\"unique_id\"].isin(plates)]\n",
    "folders = folders.loc[folders[\"/Img/TileConfiguration.txt.registered\"] == True]\n",
    "folders"
   ]
  },
  {
   "cell_type": "code",
   "execution_count": 4,
   "id": "063e4d06-368a-4d07-891f-4f89e3dd0adf",
   "metadata": {},
   "outputs": [
    {
     "name": "stdout",
     "output_type": "stream",
     "text": [
      "Submitted batch job 1129540\n"
     ]
    },
    {
     "name": "stderr",
     "output_type": "stream",
     "text": [
      "sbatch: Single node jobs run on a shared node by default. Add --exclusive if you want to use a node exclusively.\n",
      "sbatch: You will be charged for 0.03125 node. A full node consists of 32 CPU cores, 245760 MiB of memory and 0 GPUs and can be shared by up to 32 jobs.\n"
     ]
    }
   ],
   "source": [
    "run_launcher(\"skeletonizer.py\", [directory_targ], plates, \"20:00\", dependency=True)"
   ]
  },
  {
   "cell_type": "code",
   "execution_count": 9,
   "id": "d53034c5-97fd-4f39-8ca7-0d9765d502b9",
   "metadata": {},
   "outputs": [
    {
     "data": {
      "text/plain": [
       "['106_20220826',\n",
       " '108_20220823',\n",
       " '111_20220823',\n",
       " '66_20220823',\n",
       " '105_20220817',\n",
       " '100_20220812',\n",
       " '75_20220808',\n",
       " '99_20220815']"
      ]
     },
     "execution_count": 9,
     "metadata": {},
     "output_type": "execute_result"
    }
   ],
   "source": [
    "plates"
   ]
  },
  {
   "cell_type": "code",
   "execution_count": 5,
   "id": "623791bd-676c-4e98-95f5-238768f2e931",
   "metadata": {
    "tags": []
   },
   "outputs": [
    {
     "name": "stdout",
     "output_type": "stream",
     "text": [
      "Submitted batch job 1851741\n"
     ]
    },
    {
     "name": "stderr",
     "output_type": "stream",
     "text": [
      "sbatch: Single node jobs run on a shared node by default. Add --exclusive if you want to use a node exclusively.\n",
      "sbatch: You will be charged for 0.03125 node. A full node consists of 32 CPU cores, 229376 MiB of memory and 0 GPUs and can be shared by up to 32 jobs.\n"
     ]
    }
   ],
   "source": [
    "name_job = \"kaikai\"\n",
    "\n",
    "# name_job = f\"one_shot_{time_ns()}.sh\"\n",
    "\n",
    "run_launcher(\n",
    "    \"stitcher.py\",\n",
    "    [directory_targ, name_job, -1],\n",
    "    plates,\n",
    "    \"12:00:00\",\n",
    "    dependency=True,\n",
    "    name_job=name_job,\n",
    ")"
   ]
  },
  {
   "cell_type": "code",
   "execution_count": 5,
   "id": "f9e4c47c-1b6c-4327-9bfc-1f493da5954d",
   "metadata": {
    "tags": []
   },
   "outputs": [
    {
     "name": "stderr",
     "output_type": "stream",
     "text": [
      "sbatch: Single node jobs run on a shared node by default. Add --exclusive if you want to use a node exclusively.\n",
      "sbatch: You will be charged for 0.03125 node. A full node consists of 32 CPU cores, 229376 MiB of memory and 0 GPUs and can be shared by up to 32 jobs.\n"
     ]
    },
    {
     "name": "stdout",
     "output_type": "stream",
     "text": [
      "Submitted batch job 1719140\n"
     ]
    }
   ],
   "source": [
    "name_job = f\"one_shot_{time_ns()}.sh\"\n",
    "run_launcher(\n",
    "    \"post_processer_1.py\",\n",
    "    [directory_targ, name_job, 10],\n",
    "    plates,\n",
    "    \"20:00\",\n",
    "    dependency=True,\n",
    "    name_job=name_job,\n",
    ")"
   ]
  },
  {
   "cell_type": "code",
   "execution_count": 4,
   "id": "5f3b7634-849b-4444-bf55-c44c63777d53",
   "metadata": {
    "tags": []
   },
   "outputs": [
    {
     "data": {
      "application/vnd.jupyter.widget-view+json": {
       "model_id": "2b532680309e4ba39ab1859a15476594",
       "version_major": 2,
       "version_minor": 0
      },
      "text/plain": [
       "analysed:   0%|          | 0/578 [00:00<?, ?it/s]"
      ]
     },
     "metadata": {},
     "output_type": "display_data"
    }
   ],
   "source": [
    "update_plate_info(directory_targ, local=True)\n",
    "all_folders = get_current_folders(directory_targ, local=True)\n",
    "# folders =all_folders.loc[all_folders[\"unique_id\"].isin(plates)]\n",
    "# folders = folders.loc[folders[\"/Analysis/skeleton_pruned_compressed.mat\"]==True]"
   ]
  },
  {
   "cell_type": "code",
   "execution_count": 17,
   "id": "b75fcdc4-d93e-4c48-9a68-93664519f038",
   "metadata": {},
   "outputs": [],
   "source": [
    "plates  = ['19_20220920']"
   ]
  },
  {
   "cell_type": "code",
   "execution_count": 25,
   "id": "3836a290-1e81-45c9-a41d-ab57be5ec2c1",
   "metadata": {},
   "outputs": [
    {
     "data": {
      "text/plain": [
       "555"
      ]
     },
     "execution_count": 25,
     "metadata": {},
     "output_type": "execute_result"
    }
   ],
   "source": [
    "folders = all_folders.loc[all_folders[\"unique_id\"].isin(plates)]\n",
    "len(folders)"
   ]
  },
  {
   "cell_type": "code",
   "execution_count": 26,
   "id": "43d7770d-9110-466f-9280-13c22dfa5270",
   "metadata": {},
   "outputs": [
    {
     "name": "stdout",
     "output_type": "stream",
     "text": [
      "Submitted batch job 1851999\n",
      "Submitted batch job 1852000\n",
      "Submitted batch job 1852001\n",
      "Submitted batch job 1852002\n",
      "Submitted batch job 1852003\n",
      "Submitted batch job 1852004\n",
      "Submitted batch job 1852005\n",
      "Submitted batch job 1852006\n",
      "Submitted batch job 1852007\n",
      "Submitted batch job 1852008\n",
      "Submitted batch job 1852009\n",
      "Submitted batch job 1852010\n"
     ]
    }
   ],
   "source": [
    "num_parallel = 50\n",
    "time = \"40:00\"\n",
    "if len(folders) > 0:\n",
    "    run_parallel_stitch(\n",
    "        directory_targ,\n",
    "        folders,\n",
    "        num_parallel,\n",
    "        time,\n",
    "        cpus=128,\n",
    "        node=\"fat\",\n",
    "        name_job=\"stitch_malin\",\n",
    "        is_mini_PRINCE = True\n",
    "    )"
   ]
  },
  {
   "cell_type": "code",
   "execution_count": 14,
   "id": "6aa648a6-fe23-4671-986a-fe791e0938df",
   "metadata": {},
   "outputs": [
    {
     "data": {
      "text/plain": [
       "31.709791983764585"
      ]
     },
     "execution_count": 14,
     "metadata": {},
     "output_type": "execute_result"
    }
   ],
   "source": [
    "1e9/(3600*24*365)"
   ]
  },
  {
   "cell_type": "code",
   "execution_count": 5,
   "id": "2c9ce086-223f-475c-86fb-f8ec89f323d1",
   "metadata": {},
   "outputs": [
    {
     "data": {
      "text/plain": [
       "0"
      ]
     },
     "execution_count": 5,
     "metadata": {},
     "output_type": "execute_result"
    }
   ],
   "source": [
    "folders = all_folders.loc[all_folders[\"unique_id\"].isin(plates)]\n",
    "\n",
    "folders = folders.loc[folders[\"/Analysis/skeleton_compressed.mat\"] == False]\n",
    "len(folders)"
   ]
  },
  {
   "cell_type": "code",
   "execution_count": 12,
   "id": "6371d560-07ea-4d5a-802b-303bc66492b8",
   "metadata": {
    "tags": []
   },
   "outputs": [],
   "source": [
    "folders = folders.iloc[0:1]"
   ]
  },
  {
   "cell_type": "code",
   "execution_count": 6,
   "id": "625db32c-0d4d-4d84-a9d3-e56e905c7903",
   "metadata": {},
   "outputs": [
    {
     "data": {
      "text/html": [
       "<div>\n",
       "<style scoped>\n",
       "    .dataframe tbody tr th:only-of-type {\n",
       "        vertical-align: middle;\n",
       "    }\n",
       "\n",
       "    .dataframe tbody tr th {\n",
       "        vertical-align: top;\n",
       "    }\n",
       "\n",
       "    .dataframe thead th {\n",
       "        text-align: right;\n",
       "    }\n",
       "</style>\n",
       "<table border=\"1\" class=\"dataframe\">\n",
       "  <thead>\n",
       "    <tr style=\"text-align: right;\">\n",
       "      <th></th>\n",
       "      <th>total_path</th>\n",
       "      <th>Plate</th>\n",
       "      <th>strain</th>\n",
       "      <th>medium</th>\n",
       "      <th>CrossDate</th>\n",
       "      <th>/Img/TileConfiguration.txt.registered</th>\n",
       "      <th>/Analysis/skeleton_compressed.mat</th>\n",
       "      <th>/Analysis/skeleton_masked_compressed.mat</th>\n",
       "      <th>/Analysis/skeleton_pruned_compressed.mat</th>\n",
       "      <th>/Analysis/transform.mat</th>\n",
       "      <th>...</th>\n",
       "      <th>/Analysis/nx_graph_pruned_labeled.p</th>\n",
       "      <th>date</th>\n",
       "      <th>folder</th>\n",
       "      <th>PrincePos</th>\n",
       "      <th>root</th>\n",
       "      <th>split</th>\n",
       "      <th>Pbait</th>\n",
       "      <th>Temperature</th>\n",
       "      <th>unique_id</th>\n",
       "      <th>datetime</th>\n",
       "    </tr>\n",
       "  </thead>\n",
       "  <tbody>\n",
       "  </tbody>\n",
       "</table>\n",
       "<p>0 rows × 24 columns</p>\n",
       "</div>"
      ],
      "text/plain": [
       "Empty DataFrame\n",
       "Columns: [total_path, Plate, strain, medium, CrossDate, /Img/TileConfiguration.txt.registered, /Analysis/skeleton_compressed.mat, /Analysis/skeleton_masked_compressed.mat, /Analysis/skeleton_pruned_compressed.mat, /Analysis/transform.mat, /Analysis/transform_corrupt.mat, /Analysis/skeleton_realigned_compressed.mat, /Analysis/nx_graph_pruned.p, /Analysis/nx_graph_pruned_width.p, /Analysis/nx_graph_pruned_labeled.p, date, folder, PrincePos, root, split, Pbait, Temperature, unique_id, datetime]\n",
       "Index: []\n",
       "\n",
       "[0 rows x 24 columns]"
      ]
     },
     "execution_count": 6,
     "metadata": {},
     "output_type": "execute_result"
    }
   ],
   "source": [
    "folders"
   ]
  },
  {
   "cell_type": "code",
   "execution_count": 6,
   "id": "453b9b49-e057-42af-81ba-4b370a36b07c",
   "metadata": {},
   "outputs": [
    {
     "name": "stdout",
     "output_type": "stream",
     "text": [
      "/projects/0/einf914/data/Analysis_33_20220502_188_Version1/folder_info.json\n",
      "/projects/0/einf914/data/Analysis_105_20220817_200_Version1/folder_info.json\n",
      "/projects/0/einf914/data/Analysis_105_20220817_5_Version1/folder_info.json\n"
     ]
    }
   ],
   "source": [
    "update_analysis_info(directory_targ)\n",
    "analysis_info = get_analysis_info(directory_targ)\n",
    "analysis_folders = analysis_info.loc[analysis_info[\"unique_id\"].isin(plates)]"
   ]
  },
  {
   "cell_type": "code",
   "execution_count": 7,
   "id": "bb82a5fa-3b92-41bc-a92e-a004490c7455",
   "metadata": {},
   "outputs": [
    {
     "data": {
      "text/html": [
       "<div>\n",
       "<style scoped>\n",
       "    .dataframe tbody tr th:only-of-type {\n",
       "        vertical-align: middle;\n",
       "    }\n",
       "\n",
       "    .dataframe tbody tr th {\n",
       "        vertical-align: top;\n",
       "    }\n",
       "\n",
       "    .dataframe thead th {\n",
       "        text-align: right;\n",
       "    }\n",
       "</style>\n",
       "<table border=\"1\" class=\"dataframe\">\n",
       "  <thead>\n",
       "    <tr style=\"text-align: right;\">\n",
       "      <th></th>\n",
       "      <th>folder_analysis</th>\n",
       "      <th>version</th>\n",
       "      <th>total_path</th>\n",
       "      <th>Plate</th>\n",
       "      <th>PrincePos</th>\n",
       "      <th>root</th>\n",
       "      <th>strain</th>\n",
       "      <th>medium</th>\n",
       "      <th>split</th>\n",
       "      <th>Pbait</th>\n",
       "      <th>...</th>\n",
       "      <th>datetime</th>\n",
       "      <th>date_begin</th>\n",
       "      <th>date_end</th>\n",
       "      <th>number_timepoints</th>\n",
       "      <th>path_exp</th>\n",
       "      <th>path_global_hypha_info</th>\n",
       "      <th>path_time_hypha_info</th>\n",
       "      <th>path_time_plate_info</th>\n",
       "      <th>path_global_plate_info</th>\n",
       "      <th>date_run_analysis</th>\n",
       "    </tr>\n",
       "  </thead>\n",
       "  <tbody>\n",
       "    <tr>\n",
       "      <th>0</th>\n",
       "      <td>Analysis_33_20220502_188_Version1</td>\n",
       "      <td>Version1</td>\n",
       "      <td>/projects/0/einf914/data/20220502_2111_Plate07</td>\n",
       "      <td>33</td>\n",
       "      <td>7</td>\n",
       "      <td>'Carrot'</td>\n",
       "      <td>'Agg'</td>\n",
       "      <td>'001P100N100C'</td>\n",
       "      <td>'Y'</td>\n",
       "      <td>'-'</td>\n",
       "      <td>...</td>\n",
       "      <td>2022-05-02 21:11:00</td>\n",
       "      <td>02.05.2022, 21:11:</td>\n",
       "      <td>20.05.2022, 09:41:</td>\n",
       "      <td>188</td>\n",
       "      <td>Analysis_33_20220502_188_Version1/experiment.pick</td>\n",
       "      <td>Analysis_33_20220502_188_Version1/global_hypha...</td>\n",
       "      <td>Analysis_33_20220502_188_Version1/time_hypha_info</td>\n",
       "      <td>Analysis_33_20220502_188_Version1/time_plate_i...</td>\n",
       "      <td>Analysis_33_20220502_188_Version1/global_plate...</td>\n",
       "      <td>01.01.1970, 01:00:</td>\n",
       "    </tr>\n",
       "  </tbody>\n",
       "</table>\n",
       "<p>1 rows × 24 columns</p>\n",
       "</div>"
      ],
      "text/plain": [
       "                     folder_analysis   version  \\\n",
       "0  Analysis_33_20220502_188_Version1  Version1   \n",
       "\n",
       "                                       total_path Plate PrincePos      root  \\\n",
       "0  /projects/0/einf914/data/20220502_2111_Plate07    33         7  'Carrot'   \n",
       "\n",
       "  strain          medium split Pbait  ...             datetime  \\\n",
       "0  'Agg'  '001P100N100C'   'Y'   '-'  ...  2022-05-02 21:11:00   \n",
       "\n",
       "           date_begin            date_end number_timepoints  \\\n",
       "0  02.05.2022, 21:11:  20.05.2022, 09:41:               188   \n",
       "\n",
       "                                            path_exp  \\\n",
       "0  Analysis_33_20220502_188_Version1/experiment.pick   \n",
       "\n",
       "                              path_global_hypha_info  \\\n",
       "0  Analysis_33_20220502_188_Version1/global_hypha...   \n",
       "\n",
       "                                path_time_hypha_info  \\\n",
       "0  Analysis_33_20220502_188_Version1/time_hypha_info   \n",
       "\n",
       "                                path_time_plate_info  \\\n",
       "0  Analysis_33_20220502_188_Version1/time_plate_i...   \n",
       "\n",
       "                              path_global_plate_info   date_run_analysis  \n",
       "0  Analysis_33_20220502_188_Version1/global_plate...  01.01.1970, 01:00:  \n",
       "\n",
       "[1 rows x 24 columns]"
      ]
     },
     "execution_count": 7,
     "metadata": {},
     "output_type": "execute_result"
    }
   ],
   "source": [
    "analysis_folders"
   ]
  },
  {
   "cell_type": "code",
   "execution_count": 8,
   "id": "50d39007-aa12-4eaa-9df0-f0abab2833b7",
   "metadata": {},
   "outputs": [
    {
     "name": "stderr",
     "output_type": "stream",
     "text": [
      "sbatch: Single node jobs run on a shared node by default. Add --exclusive if you want to use a node exclusively.\n",
      "sbatch: You will be charged for 0.25 node. A full node consists of 128 CPU cores, 983040 MiB of memory and 0 GPUs and can be shared by up to 4 jobs.\n"
     ]
    },
    {
     "name": "stdout",
     "output_type": "stream",
     "text": [
      "Submitted batch job 1768604\n"
     ]
    },
    {
     "name": "stderr",
     "output_type": "stream",
     "text": [
      "sbatch: Single node jobs run on a shared node by default. Add --exclusive if you want to use a node exclusively.\n",
      "sbatch: You will be charged for 0.03125 node. A full node consists of 32 CPU cores, 229376 MiB of memory and 0 GPUs and can be shared by up to 32 jobs.\n"
     ]
    },
    {
     "name": "stdout",
     "output_type": "stream",
     "text": [
      "Submitted batch job 1768605\n"
     ]
    }
   ],
   "source": [
    "# name_job = f\"one_shot_{time_ns()}.sh\"\n",
    "\n",
    "from amftrack.pipeline.launching.run_super import run_parallel_post\n",
    "from amftrack.pipeline.functions.post_processing.global_plate import *\n",
    "from amftrack.pipeline.functions.post_processing.time_plate import *\n",
    "from amftrack.pipeline.functions.post_processing.global_hypha import *\n",
    "from amftrack.pipeline.functions.post_processing.area_hulls import *\n",
    "from amftrack.pipeline.launching.run_super import run_parallel, run_launcher\n",
    "from amftrack.pipeline.functions.post_processing.exp_plot import *\n",
    "\n",
    "time = \"24:00:00\"\n",
    "directory = directory_targ\n",
    "max_ind = 20\n",
    "incr = 100\n",
    "fs = [\n",
    "    get_density_in_ring,\n",
    "    get_density_anastomose_in_ring,\n",
    "    # get_density_branch_rate_in_ring,\n",
    "    # get_density_stop_rate_in_ring,\n",
    "    get_density_active_tips_in_ring,\n",
    "]\n",
    "# fs = [get_mean_speed_in_ring]\n",
    "\n",
    "list_f = []\n",
    "list_args = []\n",
    "\n",
    "for f in fs:\n",
    "    list_f += [f] * max_ind\n",
    "\n",
    "    list_args += [{\"incr\": incr, \"i\": i, \"rh_only\": True} for i in range(max_ind)]\n",
    "overwrite = False\n",
    "num_parallel = 30\n",
    "run_parallel_post(\n",
    "    \"time_plate_post_process.py\",\n",
    "    list_f,\n",
    "    list_args,\n",
    "    [directory, overwrite],\n",
    "    analysis_folders,\n",
    "    num_parallel,\n",
    "    time,\n",
    "    \"time_plate_post_process\",\n",
    "    cpus=32,\n",
    "    name_job=name_job,\n",
    "    node=\"fat\",\n",
    "    dependency=True,\n",
    ")\n",
    "run_launcher(\n",
    "    \"analysis_uploader.py\",\n",
    "    [directory_targ, name_job],\n",
    "    plates,\n",
    "    \"12:00:00\",\n",
    "    dependency=True,\n",
    "    name_job=name_job,\n",
    ")"
   ]
  },
  {
   "cell_type": "code",
   "execution_count": 21,
   "id": "be6cc993-f4e0-4008-aace-b1fa59150df2",
   "metadata": {},
   "outputs": [
    {
     "name": "stderr",
     "output_type": "stream",
     "text": [
      "sbatch: Single node jobs run on a shared node by default. Add --exclusive if you want to use a node exclusively.\n",
      "sbatch: You will be charged for 0.25 node. A full node consists of 128 CPU cores, 983040 MiB of memory and 0 GPUs and can be shared by up to 4 jobs.\n"
     ]
    },
    {
     "name": "stdout",
     "output_type": "stream",
     "text": [
      "Submitted batch job 1832161\n"
     ]
    },
    {
     "name": "stderr",
     "output_type": "stream",
     "text": [
      "sbatch: Single node jobs run on a shared node by default. Add --exclusive if you want to use a node exclusively.\n",
      "sbatch: You will be charged for 0.25 node. A full node consists of 128 CPU cores, 983040 MiB of memory and 0 GPUs and can be shared by up to 4 jobs.\n"
     ]
    },
    {
     "name": "stdout",
     "output_type": "stream",
     "text": [
      "Submitted batch job 1832162\n"
     ]
    },
    {
     "name": "stderr",
     "output_type": "stream",
     "text": [
      "sbatch: Single node jobs run on a shared node by default. Add --exclusive if you want to use a node exclusively.\n",
      "sbatch: You will be charged for 0.25 node. A full node consists of 128 CPU cores, 983040 MiB of memory and 0 GPUs and can be shared by up to 4 jobs.\n"
     ]
    },
    {
     "name": "stdout",
     "output_type": "stream",
     "text": [
      "Submitted batch job 1832164\n"
     ]
    },
    {
     "name": "stderr",
     "output_type": "stream",
     "text": [
      "sbatch: Single node jobs run on a shared node by default. Add --exclusive if you want to use a node exclusively.\n",
      "sbatch: You will be charged for 0.25 node. A full node consists of 128 CPU cores, 983040 MiB of memory and 0 GPUs and can be shared by up to 4 jobs.\n"
     ]
    },
    {
     "name": "stdout",
     "output_type": "stream",
     "text": [
      "Submitted batch job 1832165\n"
     ]
    }
   ],
   "source": [
    "from amftrack.pipeline.launching.run_super import run_parallel_all_time, run_launcher\n",
    "\n",
    "num_parallel = 30\n",
    "time = \"1:00:00\"\n",
    "args = []\n",
    "run_parallel_all_time(\n",
    "    \"make_video_skelet.py\",\n",
    "    args,\n",
    "    folders,\n",
    "    num_parallel,\n",
    "    time,\n",
    "    \"make_video\",\n",
    "    cpus=32,\n",
    "    node=\"fat\",\n",
    "    dependency=False,\n",
    "    name_job=name_job,\n",
    ")"
   ]
  },
  {
   "cell_type": "code",
   "execution_count": 9,
   "id": "9dcd9efc-585c-4333-a48c-a3f18ee134cb",
   "metadata": {},
   "outputs": [
    {
     "name": "stdout",
     "output_type": "stream",
     "text": [
      "Submitted batch job 1834117\n",
      "Submitted batch job 1834118\n",
      "Submitted batch job 1834119\n",
      "Submitted batch job 1834120\n",
      "Submitted batch job 1834121\n",
      "Submitted batch job 1834122\n"
     ]
    }
   ],
   "source": [
    "from amftrack.pipeline.launching.run_super import run_parallel, run_launcher\n",
    "\n",
    "num_parallel = 100\n",
    "time = \"12:00:00\"\n",
    "hyph_width = 30\n",
    "perc_low = 93\n",
    "perc_high = 99.5\n",
    "args = [hyph_width, perc_low, perc_high, directory_targ]\n",
    "run_parallel(\n",
    "    \"extract_skel_2.py\",\n",
    "    args,\n",
    "    folders,\n",
    "    num_parallel,\n",
    "    time,\n",
    "    \"skeletonization\",\n",
    "    cpus=128,\n",
    "    node=\"fat\",\n",
    "    name_job=\"test\",\n",
    ")"
   ]
  },
  {
   "cell_type": "code",
   "execution_count": 9,
   "id": "42455272-081b-43a0-b69e-6e0dab68ff77",
   "metadata": {},
   "outputs": [
    {
     "name": "stdout",
     "output_type": "stream",
     "text": [
      "Submitted batch job 1828162\n"
     ]
    }
   ],
   "source": [
    "from amftrack.pipeline.launching.run_super import run_parallel, run_launcher\n",
    "\n",
    "num_parallel = 100\n",
    "time = \"20:00\"\n",
    "args = [directory_targ]\n",
    "run_parallel(\n",
    "    \"detect_blob.py\",\n",
    "    args,\n",
    "    folders,\n",
    "    num_parallel,\n",
    "    time,\n",
    "    \"detect_blob\",\n",
    "    cpus=128,\n",
    "    node=\"fat\",\n",
    "    name_job=\"spore\",\n",
    ")"
   ]
  },
  {
   "cell_type": "code",
   "execution_count": 24,
   "id": "78c80a02-81c9-4758-8d62-1246a566554b",
   "metadata": {},
   "outputs": [
    {
     "name": "stdout",
     "output_type": "stream",
     "text": [
      "Collecting statsmodels\n",
      "  Downloading statsmodels-0.13.5-cp37-cp37m-manylinux_2_17_x86_64.manylinux2014_x86_64.whl (9.9 MB)\n",
      "\u001b[2K     \u001b[90m━━━━━━━━━━━━━━━━━━━━━━━━━━━━━━━━━━━━━━━━\u001b[0m \u001b[32m9.9/9.9 MB\u001b[0m \u001b[31m81.3 MB/s\u001b[0m eta \u001b[36m0:00:00\u001b[0m:00:01\u001b[0m00:01\u001b[0m\n",
      "\u001b[?25hRequirement already satisfied: packaging>=21.3 in /gpfs/home2/cbisot/miniconda3/envs/amftrack/lib/python3.7/site-packages (from statsmodels) (21.3)\n",
      "Collecting patsy>=0.5.2\n",
      "  Downloading patsy-0.5.3-py2.py3-none-any.whl (233 kB)\n",
      "\u001b[2K     \u001b[90m━━━━━━━━━━━━━━━━━━━━━━━━━━━━━━━━━━━━━━\u001b[0m \u001b[32m233.8/233.8 kB\u001b[0m \u001b[31m27.9 MB/s\u001b[0m eta \u001b[36m0:00:00\u001b[0m\n",
      "\u001b[?25hRequirement already satisfied: numpy>=1.17 in /gpfs/home2/cbisot/miniconda3/envs/amftrack/lib/python3.7/site-packages (from statsmodels) (1.21.6)\n",
      "Requirement already satisfied: pandas>=0.25 in /gpfs/home2/cbisot/miniconda3/envs/amftrack/lib/python3.7/site-packages (from statsmodels) (1.3.5)\n",
      "Requirement already satisfied: scipy>=1.3 in /gpfs/home2/cbisot/miniconda3/envs/amftrack/lib/python3.7/site-packages (from statsmodels) (1.7.3)\n",
      "Requirement already satisfied: pyparsing!=3.0.5,>=2.0.2 in /gpfs/home2/cbisot/miniconda3/envs/amftrack/lib/python3.7/site-packages (from packaging>=21.3->statsmodels) (3.0.9)\n",
      "Requirement already satisfied: pytz>=2017.3 in /gpfs/home2/cbisot/miniconda3/envs/amftrack/lib/python3.7/site-packages (from pandas>=0.25->statsmodels) (2022.4)\n",
      "Requirement already satisfied: python-dateutil>=2.7.3 in /gpfs/home2/cbisot/miniconda3/envs/amftrack/lib/python3.7/site-packages (from pandas>=0.25->statsmodels) (2.8.2)\n",
      "Requirement already satisfied: six in /gpfs/home2/cbisot/miniconda3/envs/amftrack/lib/python3.7/site-packages (from patsy>=0.5.2->statsmodels) (1.16.0)\n",
      "Installing collected packages: patsy, statsmodels\n",
      "Successfully installed patsy-0.5.3 statsmodels-0.13.5\n"
     ]
    }
   ],
   "source": [
    "!pip install statsmodels"
   ]
  },
  {
   "cell_type": "code",
   "execution_count": 25,
   "id": "f371697c-0d27-40e2-8b68-8d9ad947ee9c",
   "metadata": {},
   "outputs": [
    {
     "name": "stderr",
     "output_type": "stream",
     "text": [
      "sbatch: Single node jobs run on a shared node by default. Add --exclusive if you want to use a node exclusively.\n",
      "sbatch: You will be charged for 0.25 node. A full node consists of 128 CPU cores, 983040 MiB of memory and 0 GPUs and can be shared by up to 4 jobs.\n"
     ]
    },
    {
     "name": "stdout",
     "output_type": "stream",
     "text": [
      "Submitted batch job 1828129\n"
     ]
    },
    {
     "name": "stderr",
     "output_type": "stream",
     "text": [
      "sbatch: Single node jobs run on a shared node by default. Add --exclusive if you want to use a node exclusively.\n",
      "sbatch: You will be charged for 0.25 node. A full node consists of 128 CPU cores, 983040 MiB of memory and 0 GPUs and can be shared by up to 4 jobs.\n"
     ]
    },
    {
     "name": "stdout",
     "output_type": "stream",
     "text": [
      "Submitted batch job 1828130\n"
     ]
    },
    {
     "name": "stderr",
     "output_type": "stream",
     "text": [
      "sbatch: Single node jobs run on a shared node by default. Add --exclusive if you want to use a node exclusively.\n",
      "sbatch: You will be charged for 0.25 node. A full node consists of 128 CPU cores, 983040 MiB of memory and 0 GPUs and can be shared by up to 4 jobs.\n"
     ]
    },
    {
     "name": "stdout",
     "output_type": "stream",
     "text": [
      "Submitted batch job 1828131\n"
     ]
    }
   ],
   "source": [
    "from amftrack.pipeline.launching.run_super import run_parallel_all_time, run_launcher\n",
    "\n",
    "folders = all_folders.loc[all_folders[\"unique_id\"].isin(plates)]\n",
    "folders = folders.loc[folders[\"/Img/TileConfiguration.txt.registered\"] == True]\n",
    "num_parallel = 50\n",
    "time = \"10:00\"\n",
    "args = []\n",
    "run_parallel_all_time(\n",
    "    \"make_video_stitched.py\",\n",
    "    args,\n",
    "    folders,\n",
    "    num_parallel,\n",
    "    time,\n",
    "    \"make_video\",\n",
    "    cpus=32,\n",
    "    node=\"fat\",\n",
    "    dependency=False,\n",
    "    name_job=\"video\",\n",
    ")"
   ]
  },
  {
   "cell_type": "code",
   "execution_count": 3,
   "id": "6bb3b8f2-51c2-4a2b-b38c-e369dfbad277",
   "metadata": {},
   "outputs": [],
   "source": [
    "plates = [\n",
    "    \"105_20220817\",\n",
    "    \"77_20220808\",\n",
    "    \"71_20220817\",\n",
    "    \"100_20220812\",\n",
    "    \"117_20220815\",\n",
    "    \"99_20220815\",\n",
    "    \"75_20220808\",\n",
    "    \"226_20220812\",\n",
    "]"
   ]
  },
  {
   "cell_type": "code",
   "execution_count": 46,
   "id": "5d7f5622-0995-4bc4-9f1a-665e35b9425b",
   "metadata": {
    "tags": []
   },
   "outputs": [],
   "source": [
    "folders = all_folders.loc[all_folders[\"Plate\"].isin([\"32\"])]"
   ]
  },
  {
   "cell_type": "code",
   "execution_count": 17,
   "id": "3bce3711-f0df-422d-8ebf-a43a23e1a840",
   "metadata": {
    "tags": []
   },
   "outputs": [
    {
     "name": "stderr",
     "output_type": "stream",
     "text": [
      "sbatch: Single node jobs run on a shared node by default. Add --exclusive if you want to use a node exclusively.\n",
      "sbatch: You will be charged for 0.25 node. A full node consists of 128 CPU cores, 983040 MiB of memory and 0 GPUs and can be shared by up to 4 jobs.\n"
     ]
    },
    {
     "name": "stdout",
     "output_type": "stream",
     "text": [
      "Submitted batch job 1738329\n"
     ]
    }
   ],
   "source": [
    "from amftrack.pipeline.launching.run_super import *\n",
    "\n",
    "num_parallel = 32\n",
    "time = \"8:00:00\"\n",
    "limit = 200\n",
    "version = 1\n",
    "labeled = True\n",
    "args = [directory_targ, limit, version, labeled]\n",
    "run_parallel_all_time(\n",
    "    \"hyphae_extraction.py\",\n",
    "    args,\n",
    "    folders,\n",
    "    num_parallel,\n",
    "    time,\n",
    "    \"hyphae\",\n",
    "    cpus=32,\n",
    "    node=\"fat\",\n",
    ")"
   ]
  },
  {
   "cell_type": "code",
   "execution_count": 12,
   "id": "0d0eeec2-4e63-4b1b-972d-f76bd6a035bf",
   "metadata": {},
   "outputs": [
    {
     "name": "stdout",
     "output_type": "stream",
     "text": [
      "Submitted batch job 1138954\n"
     ]
    },
    {
     "name": "stderr",
     "output_type": "stream",
     "text": [
      "sbatch: Single node jobs run on a shared node by default. Add --exclusive if you want to use a node exclusively.\n",
      "sbatch: You will be charged for 1.0 node. A full node consists of 128 CPU cores, 983040 MiB of memory and 0 GPUs and can be shared by up to 4 jobs.\n"
     ]
    }
   ],
   "source": [
    "from amftrack.pipeline.launching.run_super import run_parallel, run_launcher\n",
    "\n",
    "for plate in plates:\n",
    "    select = folders.loc[folders[\"Plate\"] == plate]\n",
    "    num_parallel = 128\n",
    "    time = \"12:00:00\"\n",
    "    thresh = 10000  # For R. irregularis, thresh 10000 is good. For Aggregatum, higher may be necessary\n",
    "    args = [thresh, directory_targ]\n",
    "    run_parallel(\n",
    "        \"final_alignment.py\",\n",
    "        args,\n",
    "        select,\n",
    "        num_parallel,\n",
    "        time,\n",
    "        \"realign\",\n",
    "        cpus=128,\n",
    "        node=\"fat\",\n",
    "        name_job=name_job,\n",
    "    )"
   ]
  },
  {
   "cell_type": "code",
   "execution_count": 20,
   "id": "656f2038-0660-4d13-acd0-7580b56a8a84",
   "metadata": {},
   "outputs": [
    {
     "data": {
      "text/plain": [
       "['6_20220509']"
      ]
     },
     "execution_count": 20,
     "metadata": {},
     "output_type": "execute_result"
    }
   ],
   "source": [
    "plates"
   ]
  },
  {
   "cell_type": "code",
   "execution_count": 19,
   "id": "6323eacb-c44e-463b-90e7-bf55aaf43ab1",
   "metadata": {},
   "outputs": [
    {
     "data": {
      "text/html": [
       "<div>\n",
       "<style scoped>\n",
       "    .dataframe tbody tr th:only-of-type {\n",
       "        vertical-align: middle;\n",
       "    }\n",
       "\n",
       "    .dataframe tbody tr th {\n",
       "        vertical-align: top;\n",
       "    }\n",
       "\n",
       "    .dataframe thead th {\n",
       "        text-align: right;\n",
       "    }\n",
       "</style>\n",
       "<table border=\"1\" class=\"dataframe\">\n",
       "  <thead>\n",
       "    <tr style=\"text-align: right;\">\n",
       "      <th></th>\n",
       "      <th>total_path</th>\n",
       "      <th>Plate</th>\n",
       "      <th>PrincePos</th>\n",
       "      <th>root</th>\n",
       "      <th>strain</th>\n",
       "      <th>medium</th>\n",
       "      <th>split</th>\n",
       "      <th>Pbait</th>\n",
       "      <th>CrossDate</th>\n",
       "      <th>Temperature</th>\n",
       "      <th>...</th>\n",
       "      <th>/Analysis/transform.mat</th>\n",
       "      <th>/Analysis/transform_corrupt.mat</th>\n",
       "      <th>/Analysis/skeleton_realigned_compressed.mat</th>\n",
       "      <th>/Analysis/nx_graph_pruned.p</th>\n",
       "      <th>/Analysis/nx_graph_pruned_width.p</th>\n",
       "      <th>/Analysis/nx_graph_pruned_labeled.p</th>\n",
       "      <th>date</th>\n",
       "      <th>folder</th>\n",
       "      <th>unique_id</th>\n",
       "      <th>datetime</th>\n",
       "    </tr>\n",
       "  </thead>\n",
       "  <tbody>\n",
       "  </tbody>\n",
       "</table>\n",
       "<p>0 rows × 24 columns</p>\n",
       "</div>"
      ],
      "text/plain": [
       "Empty DataFrame\n",
       "Columns: [total_path, Plate, PrincePos, root, strain, medium, split, Pbait, CrossDate, Temperature, /Img/TileConfiguration.txt.registered, /Analysis/skeleton_compressed.mat, /Analysis/skeleton_masked_compressed.mat, /Analysis/skeleton_pruned_compressed.mat, /Analysis/transform.mat, /Analysis/transform_corrupt.mat, /Analysis/skeleton_realigned_compressed.mat, /Analysis/nx_graph_pruned.p, /Analysis/nx_graph_pruned_width.p, /Analysis/nx_graph_pruned_labeled.p, date, folder, unique_id, datetime]\n",
       "Index: []\n",
       "\n",
       "[0 rows x 24 columns]"
      ]
     },
     "execution_count": 19,
     "metadata": {},
     "output_type": "execute_result"
    }
   ],
   "source": [
    "select"
   ]
  },
  {
   "cell_type": "code",
   "execution_count": 13,
   "id": "aae06165-b345-4cf1-9404-52abd616e3d0",
   "metadata": {},
   "outputs": [
    {
     "name": "stdout",
     "output_type": "stream",
     "text": [
      "========\n",
      "Matching plate 20220510_1851_Plate17 at dates ['20220510_1851_Plate17', '20220511_1750_Plate17']\n",
      "========\n"
     ]
    }
   ],
   "source": [
    "i = 0\n",
    "run_info = folders\n",
    "folder_list = list(run_info[\"folder\"])\n",
    "folder_list.sort()\n",
    "\n",
    "dates_datetime_chosen = folder_list[i : i + 2]\n",
    "print(\"========\")\n",
    "print(f\"Matching plate {dates_datetime_chosen[0]} at dates {dates_datetime_chosen}\")\n",
    "print(\"========\")\n",
    "dates = dates_datetime_chosen"
   ]
  },
  {
   "cell_type": "code",
   "execution_count": 10,
   "id": "0556ab5e-23a7-4259-9c1f-e183de22004f",
   "metadata": {},
   "outputs": [],
   "source": [
    "from amftrack.pipeline.launching.run_super import run_parallel_post\n",
    "from amftrack.pipeline.functions.post_processing.global_plate import *\n",
    "from amftrack.pipeline.functions.post_processing.time_plate import *\n",
    "from amftrack.pipeline.functions.post_processing.global_hypha import *\n",
    "from amftrack.pipeline.functions.post_processing.area_hulls import *\n",
    "from amftrack.pipeline.launching.run_super import run_parallel, run_launcher\n",
    "from amftrack.pipeline.functions.post_processing.exp_plot import *\n",
    "\n",
    "update_analysis_info(directory_targ)\n",
    "analysis_info = get_analysis_info(directory_targ)\n",
    "analysis_folders = analysis_info.loc[analysis_info[\"unique_id\"].isin(plates)]\n",
    "directory = directory_targ"
   ]
  },
  {
   "cell_type": "code",
   "execution_count": 11,
   "id": "029954ec-42f9-4ba2-9dbe-137682996560",
   "metadata": {
    "tags": []
   },
   "outputs": [
    {
     "name": "stdout",
     "output_type": "stream",
     "text": [
      "Submitted batch job 1539552\n"
     ]
    },
    {
     "name": "stderr",
     "output_type": "stream",
     "text": [
      "sbatch: Single node jobs run on a shared node by default. Add --exclusive if you want to use a node exclusively.\n",
      "sbatch: You will be charged for 0.25 node. A full node consists of 128 CPU cores, 983040 MiB of memory and 0 GPUs and can be shared by up to 4 jobs.\n"
     ]
    }
   ],
   "source": [
    "time = \"3:40:00\"\n",
    "directory = directory_targ\n",
    "# list_f = [get_width_f,get_tot_length_C_f,get_tot_growth_C_f]\n",
    "# list_f = [get_timestep_anastomosis]\n",
    "list_f = [\n",
    "    gets_out_of_ROI,\n",
    "    get_width_f,\n",
    "    get_tot_length_C_f,\n",
    "    get_tot_growth_C_f,\n",
    "    get_tot_length_pp_f,\n",
    "    get_tot_growth_pp_f,\n",
    "    get_timestep_stop_growth,\n",
    "    get_time_stop_growth,\n",
    "    get_time_init_growth,\n",
    "    get_mean_speed_growth,\n",
    "    get_stop_track,\n",
    "    get_timestep_anastomosis,\n",
    "    get_timestep_biological_stop_growth,\n",
    "]\n",
    "# list_f = [get_num_branch]\n",
    "# list_f = [gets_out_of_ROI]\n",
    "list_args = [{}] * len(list_f)\n",
    "overwrite = False\n",
    "num_parallel = 32\n",
    "run_parallel_post(\n",
    "    \"global_hypha_post_process.py\",\n",
    "    list_f,\n",
    "    list_args,\n",
    "    [directory, overwrite],\n",
    "    analysis_folders,\n",
    "    num_parallel,\n",
    "    time,\n",
    "    \"global_hypha_post_process\",\n",
    "    cpus=32,\n",
    "    name_job=\"a\",\n",
    "    node=\"fat\",\n",
    ")"
   ]
  },
  {
   "cell_type": "code",
   "execution_count": 13,
   "id": "bac5d4ee-b1e5-4027-8f98-8f7c1d7d7726",
   "metadata": {
    "collapsed": true,
    "jupyter": {
     "outputs_hidden": true
    },
    "tags": []
   },
   "outputs": [
    {
     "name": "stdout",
     "output_type": "stream",
     "text": [
      "Submitted batch job 1539625\n",
      "Submitted batch job 1539626\n",
      "Submitted batch job 1539627\n"
     ]
    },
    {
     "name": "stderr",
     "output_type": "stream",
     "text": [
      "sbatch: Single node jobs run on a shared node by default. Add --exclusive if you want to use a node exclusively.\n",
      "sbatch: You will be charged for 0.25 node. A full node consists of 128 CPU cores, 983040 MiB of memory and 0 GPUs and can be shared by up to 4 jobs.\n",
      "sbatch: Single node jobs run on a shared node by default. Add --exclusive if you want to use a node exclusively.\n",
      "sbatch: You will be charged for 0.25 node. A full node consists of 128 CPU cores, 983040 MiB of memory and 0 GPUs and can be shared by up to 4 jobs.\n",
      "sbatch: Single node jobs run on a shared node by default. Add --exclusive if you want to use a node exclusively.\n",
      "sbatch: You will be charged for 0.25 node. A full node consists of 128 CPU cores, 983040 MiB of memory and 0 GPUs and can be shared by up to 4 jobs.\n",
      "sbatch: Single node jobs run on a shared node by default. Add --exclusive if you want to use a node exclusively.\n",
      "sbatch: You will be charged for 0.25 node. A full node consists of 128 CPU cores, 983040 MiB of memory and 0 GPUs and can be shared by up to 4 jobs.\n",
      "sbatch: Single node jobs run on a shared node by default. Add --exclusive if you want to use a node exclusively.\n",
      "sbatch: You will be charged for 0.25 node. A full node consists of 128 CPU cores, 983040 MiB of memory and 0 GPUs and can be shared by up to 4 jobs.\n",
      "sbatch: Single node jobs run on a shared node by default. Add --exclusive if you want to use a node exclusively.\n",
      "sbatch: You will be charged for 0.25 node. A full node consists of 128 CPU cores, 983040 MiB of memory and 0 GPUs and can be shared by up to 4 jobs.\n"
     ]
    },
    {
     "name": "stdout",
     "output_type": "stream",
     "text": [
      "Submitted batch job 1539628\n",
      "Submitted batch job 1539629\n",
      "Submitted batch job 1539630\n"
     ]
    },
    {
     "name": "stderr",
     "output_type": "stream",
     "text": [
      "sbatch: Single node jobs run on a shared node by default. Add --exclusive if you want to use a node exclusively.\n",
      "sbatch: You will be charged for 0.25 node. A full node consists of 128 CPU cores, 983040 MiB of memory and 0 GPUs and can be shared by up to 4 jobs.\n"
     ]
    },
    {
     "name": "stdout",
     "output_type": "stream",
     "text": [
      "Submitted batch job 1539631\n"
     ]
    },
    {
     "name": "stderr",
     "output_type": "stream",
     "text": [
      "sbatch: Single node jobs run on a shared node by default. Add --exclusive if you want to use a node exclusively.\n",
      "sbatch: You will be charged for 0.25 node. A full node consists of 128 CPU cores, 983040 MiB of memory and 0 GPUs and can be shared by up to 4 jobs.\n",
      "sbatch: Single node jobs run on a shared node by default. Add --exclusive if you want to use a node exclusively.\n",
      "sbatch: You will be charged for 0.25 node. A full node consists of 128 CPU cores, 983040 MiB of memory and 0 GPUs and can be shared by up to 4 jobs.\n"
     ]
    },
    {
     "name": "stdout",
     "output_type": "stream",
     "text": [
      "Submitted batch job 1539632\n",
      "Submitted batch job 1539633\n"
     ]
    },
    {
     "name": "stderr",
     "output_type": "stream",
     "text": [
      "sbatch: Single node jobs run on a shared node by default. Add --exclusive if you want to use a node exclusively.\n",
      "sbatch: You will be charged for 0.25 node. A full node consists of 128 CPU cores, 983040 MiB of memory and 0 GPUs and can be shared by up to 4 jobs.\n",
      "sbatch: Single node jobs run on a shared node by default. Add --exclusive if you want to use a node exclusively.\n",
      "sbatch: You will be charged for 0.25 node. A full node consists of 128 CPU cores, 983040 MiB of memory and 0 GPUs and can be shared by up to 4 jobs.\n",
      "sbatch: Single node jobs run on a shared node by default. Add --exclusive if you want to use a node exclusively.\n",
      "sbatch: You will be charged for 0.25 node. A full node consists of 128 CPU cores, 983040 MiB of memory and 0 GPUs and can be shared by up to 4 jobs.\n"
     ]
    },
    {
     "name": "stdout",
     "output_type": "stream",
     "text": [
      "Submitted batch job 1539634\n",
      "Submitted batch job 1539635\n",
      "Submitted batch job 1539636\n"
     ]
    },
    {
     "name": "stderr",
     "output_type": "stream",
     "text": [
      "sbatch: Single node jobs run on a shared node by default. Add --exclusive if you want to use a node exclusively.\n",
      "sbatch: You will be charged for 0.25 node. A full node consists of 128 CPU cores, 983040 MiB of memory and 0 GPUs and can be shared by up to 4 jobs.\n",
      "sbatch: Single node jobs run on a shared node by default. Add --exclusive if you want to use a node exclusively.\n",
      "sbatch: You will be charged for 0.25 node. A full node consists of 128 CPU cores, 983040 MiB of memory and 0 GPUs and can be shared by up to 4 jobs.\n",
      "sbatch: Single node jobs run on a shared node by default. Add --exclusive if you want to use a node exclusively.\n",
      "sbatch: You will be charged for 0.25 node. A full node consists of 128 CPU cores, 983040 MiB of memory and 0 GPUs and can be shared by up to 4 jobs.\n"
     ]
    },
    {
     "name": "stdout",
     "output_type": "stream",
     "text": [
      "Submitted batch job 1539637\n",
      "Submitted batch job 1539638\n",
      "Submitted batch job 1539639\n"
     ]
    },
    {
     "name": "stderr",
     "output_type": "stream",
     "text": [
      "sbatch: Single node jobs run on a shared node by default. Add --exclusive if you want to use a node exclusively.\n",
      "sbatch: You will be charged for 0.25 node. A full node consists of 128 CPU cores, 983040 MiB of memory and 0 GPUs and can be shared by up to 4 jobs.\n",
      "sbatch: Single node jobs run on a shared node by default. Add --exclusive if you want to use a node exclusively.\n",
      "sbatch: You will be charged for 0.25 node. A full node consists of 128 CPU cores, 983040 MiB of memory and 0 GPUs and can be shared by up to 4 jobs.\n"
     ]
    },
    {
     "name": "stdout",
     "output_type": "stream",
     "text": [
      "Submitted batch job 1539640\n",
      "Submitted batch job 1539641\n",
      "Submitted batch job 1539642\n"
     ]
    },
    {
     "name": "stderr",
     "output_type": "stream",
     "text": [
      "sbatch: Single node jobs run on a shared node by default. Add --exclusive if you want to use a node exclusively.\n",
      "sbatch: You will be charged for 0.25 node. A full node consists of 128 CPU cores, 983040 MiB of memory and 0 GPUs and can be shared by up to 4 jobs.\n",
      "sbatch: Single node jobs run on a shared node by default. Add --exclusive if you want to use a node exclusively.\n",
      "sbatch: You will be charged for 0.25 node. A full node consists of 128 CPU cores, 983040 MiB of memory and 0 GPUs and can be shared by up to 4 jobs.\n",
      "sbatch: Single node jobs run on a shared node by default. Add --exclusive if you want to use a node exclusively.\n",
      "sbatch: You will be charged for 0.25 node. A full node consists of 128 CPU cores, 983040 MiB of memory and 0 GPUs and can be shared by up to 4 jobs.\n"
     ]
    },
    {
     "name": "stdout",
     "output_type": "stream",
     "text": [
      "Submitted batch job 1539643\n",
      "Submitted batch job 1539644\n"
     ]
    },
    {
     "name": "stderr",
     "output_type": "stream",
     "text": [
      "sbatch: Single node jobs run on a shared node by default. Add --exclusive if you want to use a node exclusively.\n",
      "sbatch: You will be charged for 0.25 node. A full node consists of 128 CPU cores, 983040 MiB of memory and 0 GPUs and can be shared by up to 4 jobs.\n",
      "sbatch: Single node jobs run on a shared node by default. Add --exclusive if you want to use a node exclusively.\n",
      "sbatch: You will be charged for 0.25 node. A full node consists of 128 CPU cores, 983040 MiB of memory and 0 GPUs and can be shared by up to 4 jobs.\n"
     ]
    },
    {
     "name": "stdout",
     "output_type": "stream",
     "text": [
      "Submitted batch job 1539645\n",
      "Submitted batch job 1539646\n"
     ]
    },
    {
     "name": "stderr",
     "output_type": "stream",
     "text": [
      "sbatch: Single node jobs run on a shared node by default. Add --exclusive if you want to use a node exclusively.\n",
      "sbatch: You will be charged for 0.25 node. A full node consists of 128 CPU cores, 983040 MiB of memory and 0 GPUs and can be shared by up to 4 jobs.\n",
      "sbatch: Single node jobs run on a shared node by default. Add --exclusive if you want to use a node exclusively.\n",
      "sbatch: You will be charged for 0.25 node. A full node consists of 128 CPU cores, 983040 MiB of memory and 0 GPUs and can be shared by up to 4 jobs.\n"
     ]
    },
    {
     "name": "stdout",
     "output_type": "stream",
     "text": [
      "Submitted batch job 1539647\n",
      "Submitted batch job 1539648\n",
      "Submitted batch job 1539649\n"
     ]
    },
    {
     "name": "stderr",
     "output_type": "stream",
     "text": [
      "sbatch: Single node jobs run on a shared node by default. Add --exclusive if you want to use a node exclusively.\n",
      "sbatch: You will be charged for 0.25 node. A full node consists of 128 CPU cores, 983040 MiB of memory and 0 GPUs and can be shared by up to 4 jobs.\n"
     ]
    }
   ],
   "source": [
    "import sys\n",
    "from amftrack.util.sys import (\n",
    "    update_analysis_info,\n",
    "    get_analysis_info,\n",
    ")\n",
    "from amftrack.pipeline.launching.run_super import run_parallel_post\n",
    "from amftrack.pipeline.functions.post_processing.time_hypha import *\n",
    "from amftrack.pipeline.launching.run_super import run_parallel, run_launcher\n",
    "import pandas as pd\n",
    "import os\n",
    "\n",
    "list_f = [\n",
    "    get_pos_x,\n",
    "    get_pos_y,\n",
    "    get_time_since_begin_exp,\n",
    "    get_distance_final_pos,\n",
    "    get_timedelta,\n",
    "    get_time_since_start,\n",
    "    get_speed,\n",
    "    get_timestep,\n",
    "    get_timestep_init,\n",
    "    get_time_init,\n",
    "    get_degree,\n",
    "    get_width_tip_edge,\n",
    "    get_width_root_edge,\n",
    "    get_width_average,\n",
    "    has_reached_final_pos,\n",
    "    in_ROI,\n",
    "]\n",
    "# list_f = [local_density,local_density,local_density]\n",
    "# list_f = [get_time_since_begin_exp]\n",
    "# list_f = [get_width_tip_edge, get_width_root_edge]\n",
    "list_args = [{}] * len(list_f)\n",
    "# list_args= [[500],[1000],[2000]]+[[]]\n",
    "# list_args= [[500]]\n",
    "overwrite = False\n",
    "load_graphs = True\n",
    "num_parallel = 32\n",
    "time = \"12:00:00\"\n",
    "for index, row in analysis_folders.iterrows():\n",
    "    folder = row[\"folder_analysis\"]\n",
    "    path_time_plate_info = row[\"path_time_plate_info\"]\n",
    "    plate = row[\"Plate\"]\n",
    "    num_cpus = 32\n",
    "    if os.path.isfile(f\"{directory_targ}{path_time_plate_info}\"):\n",
    "        whole_plate_info = pd.read_json(\n",
    "            f\"{directory_targ}{path_time_plate_info}\", convert_dates=True\n",
    "        ).transpose()\n",
    "        whole_plate_info.index.name = \"t\"\n",
    "        whole_plate_info.reset_index(inplace=True)\n",
    "        run_parallel_post(\n",
    "            \"time_hypha_post_process.py\",\n",
    "            list_f,\n",
    "            list_args,\n",
    "            [directory_targ, overwrite, load_graphs],\n",
    "            whole_plate_info,\n",
    "            num_parallel,\n",
    "            time,\n",
    "            \"time_hypha_post_process\",\n",
    "            cpus=num_cpus,\n",
    "            name_job=name_job,\n",
    "            node=\"fat\",\n",
    "        )"
   ]
  }
 ],
 "metadata": {
  "kernelspec": {
   "display_name": "Python 3 (ipykernel)",
   "language": "python",
   "name": "python3"
  },
  "language_info": {
   "codemirror_mode": {
    "name": "ipython",
    "version": 3
   },
   "file_extension": ".py",
   "mimetype": "text/x-python",
   "name": "python",
   "nbconvert_exporter": "python",
   "pygments_lexer": "ipython3",
   "version": "3.7.13"
  }
 },
 "nbformat": 4,
 "nbformat_minor": 5
}
